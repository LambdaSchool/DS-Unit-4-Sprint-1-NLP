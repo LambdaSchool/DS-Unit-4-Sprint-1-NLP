{
 "cells": [
  {
   "cell_type": "markdown",
   "metadata": {},
   "source": [
    "Lambda School Data Science\n",
    "\n",
    "*Unit 4, Sprint 1, Module 4*\n",
    "\n",
    "---"
   ]
  },
  {
   "cell_type": "markdown",
   "metadata": {},
   "source": [
    "# Topic Modeling (Prepare)"
   ]
  },
  {
   "cell_type": "markdown",
   "metadata": {},
   "source": [
    "# Latent Dirchilet Allocation (LDA) Models (Prepare)\n",
    "<a id=\"#p1\"></a>"
   ]
  },
  {
   "cell_type": "markdown",
   "metadata": {},
   "source": [
    "## Overview\n",
    "LDA is a \"generative probabilistic model\". \n",
    "\n",
    "Let's play with a modoel available [here](https://lettier.com/projects/lda-topic-modeling/)"
   ]
  },
  {
   "cell_type": "markdown",
   "metadata": {},
   "source": [
    "## Follow Along"
   ]
  },
  {
   "cell_type": "markdown",
   "metadata": {},
   "source": [
    "## Challenge "
   ]
  },
  {
   "cell_type": "markdown",
   "metadata": {},
   "source": [
    "# Estimating LDA Models with Gensim (Learn)\n",
    "<a id=\"#p1\"></a>"
   ]
  },
  {
   "cell_type": "markdown",
   "metadata": {
    "toc-hr-collapsed": true
   },
   "source": [
    "## Overview\n",
    "### A Litterary Introduction: *Jane Austen V. Charlotte Bronte*\n",
    "Despite being born nearly forty years apart, modern fans often pit Jane Austen & Charlotte Bronte against one another in a battle for litterary  supremacy. The battle centers around the topics of education for women, courting, and marriage. The authors' similiar backgrounds naturally draw comparisons, but the modern fascination is probably due to novelility of British women publishing novels during the early 19th century. \n",
    "\n",
    "Can we help close a litterary battle for supremacy and simply acknowledge that the authors addressed different topics and deserve to be acknowledged as excellent authors each in their own right?\n",
    "\n",
    "We're going to apply Latent Dirichlet Allocation a machine learning alogrithm for topic modeling to each of the author's novels to compare the distribution of topics in their novels."
   ]
  },
  {
   "cell_type": "code",
   "execution_count": 16,
   "metadata": {},
   "outputs": [],
   "source": [
    "import numpy as np\n",
    "import gensim\n",
    "import os\n",
    "import re\n",
    "\n",
    "# lda is in scikit learn but gensim is way better apparently\n",
    "from gensim.utils import simple_preprocess\n",
    "from gensim.parsing.preprocessing import STOPWORDS\n",
    "from gensim import corpora\n",
    "\n",
    "from gensim.models.ldamulticore import LdaMulticore\n",
    "\n",
    "import pandas as pd"
   ]
  },
  {
   "cell_type": "code",
   "execution_count": 17,
   "metadata": {},
   "outputs": [],
   "source": [
    "\n",
    "# Gensim - simple_preprocess\n",
    "def tokenize(text):\n",
    "    return [token for token in simple_preprocess(text) if token in STOPWORDS]\n",
    "    #return gensim.utils.simple_preprocess(text)"
   ]
  },
  {
   "cell_type": "code",
   "execution_count": 18,
   "metadata": {},
   "outputs": [
    {
     "name": "stdout",
     "output_type": "stream",
     "text": [
      "['you', 'are']\n"
     ]
    }
   ],
   "source": [
    "test = \"aha i know you are\"\n",
    "print(tokenize(test))"
   ]
  },
  {
   "cell_type": "markdown",
   "metadata": {},
   "source": [
    "### Novel Data\n",
    "I grabbed the novel data pre-split into a bunch of smaller chuncks"
   ]
  },
  {
   "cell_type": "code",
   "execution_count": 19,
   "metadata": {},
   "outputs": [],
   "source": [
    "path = './data/austen-brontë-split'"
   ]
  },
  {
   "cell_type": "code",
   "execution_count": 20,
   "metadata": {},
   "outputs": [],
   "source": [
    "import os\n",
    "\n",
    "def gather_data(path_to_data): \n",
    "    data = []\n",
    "    \n",
    "    for f in os.listdir(path):\n",
    "        with open(os.path.join(path,f)) as t:\n",
    "            text = t.read().strip('\\n')\n",
    "            data.append(tokenize(str(text)))\n",
    "            \n",
    "    return data"
   ]
  },
  {
   "cell_type": "code",
   "execution_count": 21,
   "metadata": {},
   "outputs": [],
   "source": [
    "tokens = gather_data(path)"
   ]
  },
  {
   "cell_type": "code",
   "execution_count": 22,
   "metadata": {},
   "outputs": [
    {
     "data": {
      "text/plain": [
       "['very', 'too', 'and', 'her', 'was', 'all', 'in', 'at', 'his', 'was']"
      ]
     },
     "execution_count": 22,
     "metadata": {},
     "output_type": "execute_result"
    }
   ],
   "source": [
    "tokens[0][0:10]"
   ]
  },
  {
   "cell_type": "code",
   "execution_count": 5,
   "metadata": {},
   "outputs": [
    {
     "data": {
      "text/plain": [
       "'this is a sample string with a  newline character'"
      ]
     },
     "execution_count": 5,
     "metadata": {},
     "output_type": "execute_result"
    }
   ],
   "source": [
    "\"this is a sample string with a \\n newline character\".replace('\\n', '')"
   ]
  },
  {
   "cell_type": "code",
   "execution_count": 27,
   "metadata": {},
   "outputs": [
    {
     "data": {
      "text/plain": [
       "813"
      ]
     },
     "execution_count": 27,
     "metadata": {},
     "output_type": "execute_result"
    }
   ],
   "source": [
    "len(tokens)"
   ]
  },
  {
   "cell_type": "markdown",
   "metadata": {
    "toc-hr-collapsed": true
   },
   "source": [
    "## Follow Along"
   ]
  },
  {
   "cell_type": "markdown",
   "metadata": {},
   "source": [
    "### Text Preprocessing\n",
    "**Challenge**: update the function `tokenize` with any technique you have learned so far this week. "
   ]
  },
  {
   "cell_type": "code",
   "execution_count": 23,
   "metadata": {},
   "outputs": [],
   "source": [
    "titles = [t[:-4] for t in os.listdir(path)]"
   ]
  },
  {
   "cell_type": "code",
   "execution_count": 24,
   "metadata": {},
   "outputs": [
    {
     "data": {
      "text/plain": [
       "['Austen_Sense0066',\n",
       " 'Austen_Sense0005',\n",
       " 'CBronte_Jane0122',\n",
       " 'Austen_Sense0081',\n",
       " 'CBronte_Professor0064']"
      ]
     },
     "execution_count": 24,
     "metadata": {},
     "output_type": "execute_result"
    }
   ],
   "source": [
    "titles[:5]"
   ]
  },
  {
   "cell_type": "code",
   "execution_count": 25,
   "metadata": {},
   "outputs": [],
   "source": [
    "STOPWORDS = set(STOPWORDS).union(set(['said', 'mr', 'mrs']))\n",
    "\n",
    "def tokenize(text):\n",
    "    return [token for token in simple_preprocess(text) if token not in STOPWORDS]"
   ]
  },
  {
   "cell_type": "code",
   "execution_count": 26,
   "metadata": {},
   "outputs": [
    {
     "data": {
      "text/plain": [
       "['hello', 'world', 'test', 'tokenization', 'method']"
      ]
     },
     "execution_count": 26,
     "metadata": {},
     "output_type": "execute_result"
    }
   ],
   "source": [
    "tokenize(\"Hello World! This a test of the tokenization method\")"
   ]
  },
  {
   "cell_type": "markdown",
   "metadata": {},
   "source": [
    "### Author DataFrame\n"
   ]
  },
  {
   "cell_type": "code",
   "execution_count": 28,
   "metadata": {},
   "outputs": [],
   "source": [
    "df = pd.DataFrame(index=titles, data={'tokens':tokens})"
   ]
  },
  {
   "cell_type": "code",
   "execution_count": 29,
   "metadata": {},
   "outputs": [
    {
     "data": {
      "text/html": [
       "<div>\n",
       "<style scoped>\n",
       "    .dataframe tbody tr th:only-of-type {\n",
       "        vertical-align: middle;\n",
       "    }\n",
       "\n",
       "    .dataframe tbody tr th {\n",
       "        vertical-align: top;\n",
       "    }\n",
       "\n",
       "    .dataframe thead th {\n",
       "        text-align: right;\n",
       "    }\n",
       "</style>\n",
       "<table border=\"1\" class=\"dataframe\">\n",
       "  <thead>\n",
       "    <tr style=\"text-align: right;\">\n",
       "      <th></th>\n",
       "      <th>tokens</th>\n",
       "    </tr>\n",
       "  </thead>\n",
       "  <tbody>\n",
       "    <tr>\n",
       "      <th>Austen_Sense0066</th>\n",
       "      <td>[very, too, and, her, was, all, in, at, his, w...</td>\n",
       "    </tr>\n",
       "    <tr>\n",
       "      <th>Austen_Sense0005</th>\n",
       "      <td>[you, call, them, you, have, from, been, more,...</td>\n",
       "    </tr>\n",
       "    <tr>\n",
       "      <th>CBronte_Jane0122</th>\n",
       "      <td>[you, as, as, you, and, all, you, have, to, sa...</td>\n",
       "    </tr>\n",
       "    <tr>\n",
       "      <th>Austen_Sense0081</th>\n",
       "      <td>[side, he, made, his, in, as, as, he, could, s...</td>\n",
       "    </tr>\n",
       "    <tr>\n",
       "      <th>CBronte_Professor0064</th>\n",
       "      <td>[to, the, under, his, and, when, he, had, it, ...</td>\n",
       "    </tr>\n",
       "  </tbody>\n",
       "</table>\n",
       "</div>"
      ],
      "text/plain": [
       "                                                                  tokens\n",
       "Austen_Sense0066       [very, too, and, her, was, all, in, at, his, w...\n",
       "Austen_Sense0005       [you, call, them, you, have, from, been, more,...\n",
       "CBronte_Jane0122       [you, as, as, you, and, all, you, have, to, sa...\n",
       "Austen_Sense0081       [side, he, made, his, in, as, as, he, could, s...\n",
       "CBronte_Professor0064  [to, the, under, his, and, when, he, had, it, ..."
      ]
     },
     "execution_count": 29,
     "metadata": {},
     "output_type": "execute_result"
    }
   ],
   "source": [
    "df.head()"
   ]
  },
  {
   "cell_type": "code",
   "execution_count": null,
   "metadata": {},
   "outputs": [],
   "source": []
  },
  {
   "cell_type": "code",
   "execution_count": 30,
   "metadata": {},
   "outputs": [],
   "source": [
    "df['author'] = df.reset_index()['index'].apply(lambda x: x.split('_')[0]).tolist()\n",
    "df['book'] = df.reset_index()['index'].apply(lambda x: x.split('_')[1][:-4]).tolist()\n",
    "df['section'] = df.reset_index()['index'].apply(lambda x: x[-4:]).tolist()\n",
    "df['section'] = df['section'].astype('int')"
   ]
  },
  {
   "cell_type": "code",
   "execution_count": 31,
   "metadata": {},
   "outputs": [],
   "source": [
    "df['author'] = df['author'].map({'Austen':1, 'CBronte':0})"
   ]
  },
  {
   "cell_type": "code",
   "execution_count": 32,
   "metadata": {},
   "outputs": [
    {
     "data": {
      "text/plain": [
       "0    441\n",
       "1    372\n",
       "Name: author, dtype: int64"
      ]
     },
     "execution_count": 32,
     "metadata": {},
     "output_type": "execute_result"
    }
   ],
   "source": [
    "df.author.value_counts()"
   ]
  },
  {
   "cell_type": "markdown",
   "metadata": {},
   "source": [
    "### Streaming Documents\n",
    "Here we use a new pythonic thingy: the `yield` statement in our fucntion. This allows us to iterate over a bunch of documents without actually reading them into memory. You can see how we use this fucntion later on. "
   ]
  },
  {
   "cell_type": "code",
   "execution_count": 35,
   "metadata": {},
   "outputs": [],
   "source": [
    "def doc_stream(path):\n",
    "    for f in os.listdir(path):\n",
    "        if os.path.isdir(f) == False:\n",
    "            if f[-3:] == 'txt':\n",
    "                with open(os.path.join(path,f)) as t:\n",
    "                    text = t.read().strip('\\n')\n",
    "                    tokens = tokenize(str(text))\n",
    "                yield tokens"
   ]
  },
  {
   "cell_type": "code",
   "execution_count": 36,
   "metadata": {},
   "outputs": [],
   "source": [
    "streaming_data = doc_stream(path)"
   ]
  },
  {
   "cell_type": "code",
   "execution_count": 37,
   "metadata": {},
   "outputs": [
    {
     "data": {
      "text/plain": [
       "<generator object doc_stream at 0x7f96c86fa7c8>"
      ]
     },
     "execution_count": 37,
     "metadata": {},
     "output_type": "execute_result"
    }
   ],
   "source": [
    "# gather_data => returns list\n",
    "# doc_stream => returns generator\n",
    "streaming_data # can only call on elements once"
   ]
  },
  {
   "cell_type": "code",
   "execution_count": 95,
   "metadata": {},
   "outputs": [
    {
     "data": {
      "text/plain": [
       "['long',\n",
       " 'like',\n",
       " 'hear',\n",
       " 'reasonable',\n",
       " 'unreasonable',\n",
       " 'sat',\n",
       " 'leave',\n",
       " 'speak',\n",
       " 'directly',\n",
       " 'struggling',\n",
       " 'tears',\n",
       " 'time',\n",
       " 'taken',\n",
       " 'great',\n",
       " 'pains',\n",
       " 'repress',\n",
       " 'knew',\n",
       " 'like',\n",
       " 'weep',\n",
       " 'considered',\n",
       " 'let',\n",
       " 'flow',\n",
       " 'freely',\n",
       " 'long',\n",
       " 'liked',\n",
       " 'flood',\n",
       " 'annoyed',\n",
       " 'better',\n",
       " 'gave',\n",
       " 'way',\n",
       " 'cried',\n",
       " 'heartily',\n",
       " 'soon',\n",
       " 'heard',\n",
       " 'earnestly',\n",
       " 'entreating',\n",
       " 'composed',\n",
       " 'passion',\n",
       " 'angry',\n",
       " 'jane',\n",
       " 'love',\n",
       " 'steeled',\n",
       " 'little',\n",
       " 'pale',\n",
       " 'face',\n",
       " 'resolute',\n",
       " 'frozen',\n",
       " 'look',\n",
       " 'endure',\n",
       " 'hush',\n",
       " 'wipe',\n",
       " 'eyes',\n",
       " 'softened',\n",
       " 'voice',\n",
       " 'announced',\n",
       " 'subdued',\n",
       " 'turn',\n",
       " 'calm',\n",
       " 'effort',\n",
       " 'rest',\n",
       " 'head',\n",
       " 'shoulder',\n",
       " 'permit',\n",
       " 'draw',\n",
       " 'jane',\n",
       " 'jane',\n",
       " 'accent',\n",
       " 'bitter',\n",
       " 'sadness',\n",
       " 'thrilled',\n",
       " 'nerve',\n",
       " 'love',\n",
       " 'station',\n",
       " 'rank',\n",
       " 'wife',\n",
       " 'valued',\n",
       " 'think',\n",
       " 'disqualified',\n",
       " 'husband',\n",
       " 'recoil',\n",
       " 'touch',\n",
       " 'toad',\n",
       " 'ape',\n",
       " 'words',\n",
       " 'cut',\n",
       " 'ought',\n",
       " 'probably',\n",
       " 'tortured',\n",
       " 'sense',\n",
       " 'remorse',\n",
       " 'hurting',\n",
       " 'feelings',\n",
       " 'control',\n",
       " 'wish',\n",
       " 'drop',\n",
       " 'balm',\n",
       " 'wounded',\n",
       " 'love',\n",
       " 'indulge',\n",
       " 'feeling',\n",
       " 'time',\n",
       " 'express',\n",
       " 'time',\n",
       " 'jane',\n",
       " 'think',\n",
       " 'live',\n",
       " 'daily',\n",
       " 'love',\n",
       " 'cold',\n",
       " 'distant',\n",
       " 'sir',\n",
       " 'certain',\n",
       " 'way',\n",
       " 'furious',\n",
       " 'mention',\n",
       " 'oh',\n",
       " 'mention',\n",
       " 'storm',\n",
       " 'art',\n",
       " 'weeping',\n",
       " 'rochester',\n",
       " 'leave',\n",
       " 'long',\n",
       " 'jane',\n",
       " 'minutes',\n",
       " 'smooth',\n",
       " 'hair',\n",
       " 'somewhat',\n",
       " 'dishevelled',\n",
       " 'bathe',\n",
       " 'face',\n",
       " 'looks',\n",
       " 'feverish',\n",
       " 'leave',\n",
       " 'adele',\n",
       " 'thornfield',\n",
       " 'life',\n",
       " 'begin',\n",
       " 'new',\n",
       " 'existence',\n",
       " 'strange',\n",
       " 'faces',\n",
       " 'strange',\n",
       " 'scenes',\n",
       " 'course',\n",
       " 'told',\n",
       " 'pass',\n",
       " 'madness',\n",
       " 'parting',\n",
       " 'mean',\n",
       " 'new',\n",
       " 'existence',\n",
       " 'right',\n",
       " 'shall',\n",
       " 'wife',\n",
       " 'married',\n",
       " 'shall',\n",
       " 'rochester',\n",
       " 'virtually',\n",
       " 'nominally',\n",
       " 'shall',\n",
       " 'long',\n",
       " 'live',\n",
       " 'shall',\n",
       " 'place',\n",
       " 'south',\n",
       " 'france',\n",
       " 'whitewashed',\n",
       " 'villa',\n",
       " 'shores',\n",
       " 'mediterranean',\n",
       " 'shall',\n",
       " 'live',\n",
       " 'happy',\n",
       " 'guarded',\n",
       " 'innocent',\n",
       " 'life',\n",
       " 'fear',\n",
       " 'wish',\n",
       " 'lure',\n",
       " 'error',\n",
       " 'mistress',\n",
       " 'shake',\n",
       " 'head',\n",
       " 'jane',\n",
       " 'reasonable',\n",
       " 'truth',\n",
       " 'shall',\n",
       " 'frantic',\n",
       " 'voice',\n",
       " 'hand',\n",
       " 'quivered',\n",
       " 'large',\n",
       " 'nostrils',\n",
       " 'dilated',\n",
       " 'eye',\n",
       " 'blazed',\n",
       " 'dared',\n",
       " 'speak',\n",
       " 'sir',\n",
       " 'wife',\n",
       " 'living',\n",
       " 'fact',\n",
       " 'acknowledged',\n",
       " 'morning',\n",
       " 'lived',\n",
       " 'desire',\n",
       " 'mistress',\n",
       " 'sophistical',\n",
       " 'false',\n",
       " 'jane',\n",
       " 'gentle',\n",
       " 'tempered',\n",
       " 'man',\n",
       " 'forget',\n",
       " 'long',\n",
       " 'enduring',\n",
       " 'cool',\n",
       " 'dispassionate',\n",
       " 'pity',\n",
       " 'finger',\n",
       " 'pulse',\n",
       " 'feel',\n",
       " 'throbs',\n",
       " 'beware',\n",
       " 'bared',\n",
       " 'wrist',\n",
       " 'offered',\n",
       " 'blood',\n",
       " 'forsaking',\n",
       " 'cheek',\n",
       " 'lips',\n",
       " 'growing',\n",
       " 'livid',\n",
       " 'distressed',\n",
       " 'hands',\n",
       " 'agitate',\n",
       " 'deeply',\n",
       " 'resistance',\n",
       " 'abhorred',\n",
       " 'cruel',\n",
       " 'yield',\n",
       " 'question',\n",
       " 'human',\n",
       " 'beings',\n",
       " 'instinctively',\n",
       " 'driven',\n",
       " 'utter',\n",
       " 'extremity',\n",
       " 'looked',\n",
       " 'aid',\n",
       " 'higher',\n",
       " 'man',\n",
       " 'words',\n",
       " 'god',\n",
       " 'help',\n",
       " 'burst',\n",
       " 'involuntarily',\n",
       " 'lips',\n",
       " 'fool',\n",
       " 'cried',\n",
       " 'rochester',\n",
       " 'suddenly',\n",
       " 'telling',\n",
       " 'married',\n",
       " 'explain',\n",
       " 'forget',\n",
       " 'knows',\n",
       " 'character',\n",
       " 'woman',\n",
       " 'circumstances',\n",
       " 'attending',\n",
       " 'infernal',\n",
       " 'union',\n",
       " 'oh',\n",
       " 'certain',\n",
       " 'jane',\n",
       " 'agree',\n",
       " 'opinion',\n",
       " 'knows',\n",
       " 'know',\n",
       " 'hand',\n",
       " 'janet',\n",
       " 'evidence',\n",
       " 'touch',\n",
       " 'sight',\n",
       " 'prove',\n",
       " 'near',\n",
       " 'words',\n",
       " 'real',\n",
       " 'state',\n",
       " 'case',\n",
       " 'listen',\n",
       " 'yes',\n",
       " 'sir',\n",
       " 'hours',\n",
       " 'ask',\n",
       " 'minutes',\n",
       " 'jane',\n",
       " 'hear',\n",
       " 'know',\n",
       " 'eldest',\n",
       " 'son',\n",
       " 'house',\n",
       " 'brother',\n",
       " 'older',\n",
       " 'remember',\n",
       " 'fairfax',\n",
       " 'told',\n",
       " 'hear',\n",
       " 'father',\n",
       " 'avaricious',\n",
       " 'grasping',\n",
       " 'man',\n",
       " 'understood',\n",
       " 'effect',\n",
       " 'jane',\n",
       " 'resolution',\n",
       " 'property',\n",
       " 'bear',\n",
       " 'idea',\n",
       " 'dividing',\n",
       " 'estate',\n",
       " 'leaving',\n",
       " 'fair',\n",
       " 'portion',\n",
       " 'resolved',\n",
       " 'brother',\n",
       " 'rowland',\n",
       " 'little',\n",
       " 'endure',\n",
       " 'son',\n",
       " 'poor',\n",
       " 'man',\n",
       " 'provided',\n",
       " 'wealthy',\n",
       " 'marriage',\n",
       " 'sought',\n",
       " 'partner',\n",
       " 'betimes',\n",
       " 'mason',\n",
       " 'west',\n",
       " 'india',\n",
       " 'planter',\n",
       " 'merchant',\n",
       " 'old',\n",
       " 'acquaintance',\n",
       " 'certain',\n",
       " 'possessions']"
      ]
     },
     "execution_count": 95,
     "metadata": {},
     "output_type": "execute_result"
    }
   ],
   "source": [
    "next(streaming_data) # returns one doc at a time from generator"
   ]
  },
  {
   "cell_type": "markdown",
   "metadata": {},
   "source": [
    "### Gensim LDA Topic Modeling"
   ]
  },
  {
   "cell_type": "code",
   "execution_count": 94,
   "metadata": {},
   "outputs": [
    {
     "data": {
      "text/plain": [
       "<generator object doc_stream at 0x7f9681de3408>"
      ]
     },
     "execution_count": 94,
     "metadata": {},
     "output_type": "execute_result"
    }
   ],
   "source": [
    "doc_stream(path)"
   ]
  },
  {
   "cell_type": "code",
   "execution_count": 41,
   "metadata": {},
   "outputs": [],
   "source": [
    "# A Dictionary Representation of all the words in our corpus\n",
    "id2word = corpora.Dictionary(doc_stream(path))"
   ]
  },
  {
   "cell_type": "code",
   "execution_count": 44,
   "metadata": {},
   "outputs": [
    {
     "ename": "KeyError",
     "evalue": "'zoom'",
     "output_type": "error",
     "traceback": [
      "\u001b[0;31m---------------------------------------------------------------------------\u001b[0m",
      "\u001b[0;31mKeyError\u001b[0m                                  Traceback (most recent call last)",
      "\u001b[0;32m<ipython-input-44-abd5220cce14>\u001b[0m in \u001b[0;36m<module>\u001b[0;34m\u001b[0m\n\u001b[0;32m----> 1\u001b[0;31m \u001b[0mid2word\u001b[0m\u001b[0;34m.\u001b[0m\u001b[0mtoken2id\u001b[0m\u001b[0;34m[\u001b[0m\u001b[0;34m'zoom'\u001b[0m\u001b[0;34m]\u001b[0m\u001b[0;34m\u001b[0m\u001b[0;34m\u001b[0m\u001b[0m\n\u001b[0m",
      "\u001b[0;31mKeyError\u001b[0m: 'zoom'"
     ]
    }
   ],
   "source": [
    "id2word.token2id['zoom']"
   ]
  },
  {
   "cell_type": "markdown",
   "metadata": {},
   "source": [
    "Word 623^^^"
   ]
  },
  {
   "cell_type": "code",
   "execution_count": null,
   "metadata": {},
   "outputs": [],
   "source": []
  },
  {
   "cell_type": "code",
   "execution_count": 45,
   "metadata": {},
   "outputs": [
    {
     "data": {
      "text/plain": [
       "[(161, 1), (1281, 3), (2473, 1), (9123, 1)]"
      ]
     },
     "execution_count": 45,
     "metadata": {},
     "output_type": "execute_result"
    }
   ],
   "source": [
    "id2word.doc2bow(tokenize(\"This is a sample message Darcy England England England\"))"
   ]
  },
  {
   "cell_type": "markdown",
   "metadata": {},
   "source": [
    "doc 2 bag of words"
   ]
  },
  {
   "cell_type": "code",
   "execution_count": 46,
   "metadata": {},
   "outputs": [
    {
     "data": {
      "text/plain": [
       "56"
      ]
     },
     "execution_count": 46,
     "metadata": {},
     "output_type": "execute_result"
    }
   ],
   "source": [
    "import sys\n",
    "sys.getsizeof(id2word)"
   ]
  },
  {
   "cell_type": "code",
   "execution_count": 47,
   "metadata": {},
   "outputs": [
    {
     "data": {
      "text/plain": [
       "22096"
      ]
     },
     "execution_count": 47,
     "metadata": {},
     "output_type": "execute_result"
    }
   ],
   "source": [
    "len(id2word.keys())"
   ]
  },
  {
   "cell_type": "code",
   "execution_count": 48,
   "metadata": {},
   "outputs": [],
   "source": [
    "# Let's remove extreme values from the dataset\n",
    "id2word.filter_extremes(no_below=5, no_above=0.95)"
   ]
  },
  {
   "cell_type": "code",
   "execution_count": 49,
   "metadata": {},
   "outputs": [
    {
     "data": {
      "text/plain": [
       "8103"
      ]
     },
     "execution_count": 49,
     "metadata": {},
     "output_type": "execute_result"
    }
   ],
   "source": [
    "len(id2word.keys())"
   ]
  },
  {
   "cell_type": "markdown",
   "metadata": {},
   "source": [
    "This is countvectorize.transform vvv"
   ]
  },
  {
   "cell_type": "code",
   "execution_count": 50,
   "metadata": {},
   "outputs": [],
   "source": [
    "# a bag of words(bow) representation of our corpus\n",
    "# Note: we haven't actually read any text into memory here\n",
    "corpus = [id2word.doc2bow(text) for text in doc_stream(path)]"
   ]
  },
  {
   "cell_type": "code",
   "execution_count": 51,
   "metadata": {},
   "outputs": [
    {
     "data": {
      "text/plain": [
       "[(0, 1),\n",
       " (1, 1),\n",
       " (2, 2),\n",
       " (3, 1),\n",
       " (4, 1),\n",
       " (5, 2),\n",
       " (6, 1),\n",
       " (7, 1),\n",
       " (8, 1),\n",
       " (9, 2)]"
      ]
     },
     "execution_count": 51,
     "metadata": {},
     "output_type": "execute_result"
    }
   ],
   "source": [
    "corpus[0][:10]"
   ]
  },
  {
   "cell_type": "markdown",
   "metadata": {},
   "source": [
    "NOW WE READY 4 LDA"
   ]
  },
  {
   "cell_type": "code",
   "execution_count": 52,
   "metadata": {},
   "outputs": [],
   "source": [
    "lda = LdaMulticore(corpus=corpus,\n",
    "                   id2word=id2word, # dict not necessary for fitting of model but handy later on for visz\n",
    "                   random_state=723812,\n",
    "                   num_topics = 15,\n",
    "                   passes=10, # it means the # of times I fit those distributions\n",
    "                   workers=4\n",
    "                  )"
   ]
  },
  {
   "cell_type": "code",
   "execution_count": 53,
   "metadata": {},
   "outputs": [
    {
     "data": {
      "text/plain": [
       "[(0,\n",
       "  '0.005*\"paul\" + 0.005*\"little\" + 0.004*\"day\" + 0.004*\"good\" + 0.004*\"know\" + 0.004*\"man\" + 0.004*\"like\" + 0.003*\"thought\" + 0.003*\"night\" + 0.003*\"door\"'),\n",
       " (1,\n",
       "  '0.004*\"wood\" + 0.004*\"helen\" + 0.004*\"look\" + 0.004*\"lowood\" + 0.003*\"liked\" + 0.003*\"long\" + 0.003*\"garden\" + 0.003*\"rochester\" + 0.003*\"trees\" + 0.003*\"like\"'),\n",
       " (2,\n",
       "  '0.016*\"elizabeth\" + 0.012*\"bennet\" + 0.011*\"jane\" + 0.009*\"bingley\" + 0.007*\"miss\" + 0.006*\"collins\" + 0.006*\"soon\" + 0.006*\"dear\" + 0.006*\"know\" + 0.006*\"good\"'),\n",
       " (3,\n",
       "  '0.012*\"darcy\" + 0.012*\"miss\" + 0.011*\"elizabeth\" + 0.007*\"little\" + 0.006*\"know\" + 0.005*\"room\" + 0.005*\"lady\" + 0.005*\"papa\" + 0.005*\"bretton\" + 0.004*\"think\"'),\n",
       " (4,\n",
       "  '0.014*\"emma\" + 0.012*\"miss\" + 0.008*\"weston\" + 0.007*\"elton\" + 0.007*\"good\" + 0.007*\"thing\" + 0.007*\"little\" + 0.007*\"know\" + 0.007*\"think\" + 0.007*\"knightley\"'),\n",
       " (5,\n",
       "  '0.006*\"adele\" + 0.006*\"little\" + 0.005*\"rochester\" + 0.004*\"monsieur\" + 0.004*\"away\" + 0.004*\"thought\" + 0.004*\"fairfax\" + 0.004*\"old\" + 0.004*\"know\" + 0.003*\"think\"'),\n",
       " (6,\n",
       "  '0.006*\"like\" + 0.005*\"little\" + 0.004*\"madame\" + 0.004*\"good\" + 0.004*\"time\" + 0.004*\"thought\" + 0.003*\"day\" + 0.003*\"face\" + 0.003*\"looked\" + 0.003*\"hand\"'),\n",
       " (7,\n",
       "  '0.012*\"rochester\" + 0.010*\"jane\" + 0.010*\"sir\" + 0.006*\"love\" + 0.005*\"know\" + 0.005*\"like\" + 0.005*\"shall\" + 0.005*\"thought\" + 0.004*\"night\" + 0.004*\"little\"'),\n",
       " (8,\n",
       "  '0.008*\"bessie\" + 0.007*\"like\" + 0.006*\"little\" + 0.006*\"reed\" + 0.005*\"shall\" + 0.004*\"jane\" + 0.004*\"room\" + 0.004*\"sir\" + 0.004*\"old\" + 0.004*\"mother\"'),\n",
       " (9,\n",
       "  '0.008*\"little\" + 0.007*\"monsieur\" + 0.007*\"like\" + 0.004*\"day\" + 0.004*\"know\" + 0.003*\"eyes\" + 0.003*\"long\" + 0.003*\"think\" + 0.003*\"time\" + 0.003*\"thought\"'),\n",
       " (10,\n",
       "  '0.007*\"harriet\" + 0.007*\"think\" + 0.005*\"emma\" + 0.005*\"feelings\" + 0.005*\"time\" + 0.005*\"letter\" + 0.005*\"father\" + 0.004*\"man\" + 0.004*\"know\" + 0.004*\"soon\"'),\n",
       " (11,\n",
       "  '0.005*\"old\" + 0.005*\"night\" + 0.004*\"time\" + 0.004*\"thought\" + 0.004*\"long\" + 0.004*\"come\" + 0.003*\"door\" + 0.003*\"saw\" + 0.003*\"hand\" + 0.003*\"heard\"'),\n",
       " (12,\n",
       "  '0.013*\"harriet\" + 0.006*\"knightley\" + 0.006*\"man\" + 0.004*\"smith\" + 0.004*\"having\" + 0.004*\"heart\" + 0.004*\"long\" + 0.004*\"mind\" + 0.004*\"time\" + 0.004*\"emma\"'),\n",
       " (13,\n",
       "  '0.016*\"elinor\" + 0.013*\"marianne\" + 0.007*\"sister\" + 0.007*\"edward\" + 0.006*\"mother\" + 0.006*\"dashwood\" + 0.006*\"time\" + 0.006*\"know\" + 0.005*\"jennings\" + 0.005*\"miss\"'),\n",
       " (14,\n",
       "  '0.007*\"little\" + 0.006*\"room\" + 0.006*\"door\" + 0.005*\"graham\" + 0.005*\"thought\" + 0.005*\"long\" + 0.005*\"like\" + 0.005*\"bretton\" + 0.004*\"time\" + 0.004*\"hand\"')]"
      ]
     },
     "execution_count": 53,
     "metadata": {},
     "output_type": "execute_result"
    }
   ],
   "source": [
    "lda.print_topics()"
   ]
  },
  {
   "cell_type": "code",
   "execution_count": null,
   "metadata": {},
   "outputs": [],
   "source": []
  },
  {
   "cell_type": "code",
   "execution_count": 54,
   "metadata": {},
   "outputs": [],
   "source": [
    "words = [re.findall(r'\"([^\"]*)\"',t[1]) for t in lda.print_topics()]"
   ]
  },
  {
   "cell_type": "code",
   "execution_count": 55,
   "metadata": {},
   "outputs": [],
   "source": [
    "topics = [' '.join(t[0:5]) for t in words]"
   ]
  },
  {
   "cell_type": "code",
   "execution_count": 56,
   "metadata": {},
   "outputs": [
    {
     "name": "stdout",
     "output_type": "stream",
     "text": [
      "paul little day good know\n",
      "\n",
      "\n",
      "wood helen look lowood liked\n",
      "\n",
      "\n",
      "elizabeth bennet jane bingley miss\n",
      "\n",
      "\n",
      "darcy miss elizabeth little know\n",
      "\n",
      "\n",
      "emma miss weston elton good\n",
      "\n",
      "\n",
      "adele little rochester monsieur away\n",
      "\n",
      "\n",
      "like little madame good time\n",
      "\n",
      "\n",
      "rochester jane sir love know\n",
      "\n",
      "\n",
      "bessie like little reed shall\n",
      "\n",
      "\n",
      "little monsieur like day know\n",
      "\n",
      "\n",
      "harriet think emma feelings time\n",
      "\n",
      "\n",
      "old night time thought long\n",
      "\n",
      "\n",
      "harriet knightley man smith having\n",
      "\n",
      "\n",
      "elinor marianne sister edward mother\n",
      "\n",
      "\n",
      "little room door graham thought\n",
      "\n",
      "\n"
     ]
    }
   ],
   "source": [
    "for t in topics: \n",
    "    print(t)\n",
    "    print(\"\\n\")"
   ]
  },
  {
   "cell_type": "markdown",
   "metadata": {},
   "source": [
    "## Challenge \n",
    "\n",
    "You will apply an LDA model to a customer review dataset to practice the fitting and estimation of LDA. "
   ]
  },
  {
   "cell_type": "markdown",
   "metadata": {},
   "source": [
    "# Interpret LDA Results (Learn)\n",
    "<a id=\"#p3\"></a>"
   ]
  },
  {
   "cell_type": "markdown",
   "metadata": {},
   "source": [
    "## Overview"
   ]
  },
  {
   "cell_type": "markdown",
   "metadata": {
    "toc-hr-collapsed": true
   },
   "source": [
    "## Follow Along"
   ]
  },
  {
   "cell_type": "markdown",
   "metadata": {},
   "source": [
    "### Topic Distance Visualization reduce dimensions to visz"
   ]
  },
  {
   "cell_type": "markdown",
   "metadata": {},
   "source": [
    "want our topics to be pretty evenly distributed"
   ]
  },
  {
   "cell_type": "code",
   "execution_count": 57,
   "metadata": {},
   "outputs": [
    {
     "name": "stderr",
     "output_type": "stream",
     "text": [
      "/home/ygeun/anaconda3/envs/U4W1-NLP/lib/python3.7/site-packages/past/types/oldstr.py:5: DeprecationWarning: Using or importing the ABCs from 'collections' instead of from 'collections.abc' is deprecated, and in 3.8 it will stop working\n",
      "  from collections import Iterable\n"
     ]
    }
   ],
   "source": [
    "import pyLDAvis.gensim\n",
    "\n",
    "pyLDAvis.enable_notebook()"
   ]
  },
  {
   "cell_type": "code",
   "execution_count": 72,
   "metadata": {},
   "outputs": [
    {
     "name": "stderr",
     "output_type": "stream",
     "text": [
      "/home/ygeun/anaconda3/envs/U4W1-NLP/lib/python3.7/site-packages/pyLDAvis/_prepare.py:257: FutureWarning: Sorting because non-concatenation axis is not aligned. A future version\n",
      "of pandas will change to not sort by default.\n",
      "\n",
      "To accept the future behavior, pass 'sort=False'.\n",
      "\n",
      "To retain the current behavior and silence the warning, pass 'sort=True'.\n",
      "\n",
      "  return pd.concat([default_term_info] + list(topic_dfs))\n"
     ]
    },
    {
     "data": {
      "text/html": [
       "\n",
       "<link rel=\"stylesheet\" type=\"text/css\" href=\"https://cdn.rawgit.com/bmabey/pyLDAvis/files/ldavis.v1.0.0.css\">\n",
       "\n",
       "\n",
       "<div id=\"ldavis_el946276140286372163160660776387\"></div>\n",
       "<script type=\"text/javascript\">\n",
       "\n",
       "var ldavis_el946276140286372163160660776387_data = {\"mdsDat\": {\"x\": [0.07971278769105189, -0.09437954670092459, -0.12341748290725256, 0.08574008824370478, 0.022174282389331102, -0.1680952477216426, -0.15612375660231495, 0.049719880580687936, -0.07760717258141378, 0.051197675286732275, 0.06972584534915083, 0.0996385144692637, 0.06394600047698748, -0.018316778175850982, 0.11608491020248937], \"y\": [0.01995021278340241, -0.006981424861402217, 0.016242708741840778, 0.07657776680412284, 0.04077012890131288, 0.031187288989409673, -0.036022322159999697, 0.014353776101210487, 0.04158643589714507, 0.07164414502207284, 0.01459891169023071, 0.01047780320559176, -0.012529817569983583, -0.16523847868370858, -0.11661713486124532], \"topics\": [1, 2, 3, 4, 5, 6, 7, 8, 9, 10, 11, 12, 13, 14, 15], \"cluster\": [1, 1, 1, 1, 1, 1, 1, 1, 1, 1, 1, 1, 1, 1, 1], \"Freq\": [20.283565521240234, 15.480525970458984, 12.932615280151367, 8.215402603149414, 8.17926025390625, 7.686256408691406, 7.583148956298828, 6.754065990447998, 5.207250595092773, 2.5664498805999756, 2.537014961242676, 1.191389799118042, 0.79842609167099, 0.3151003122329712, 0.26953113079071045]}, \"tinfo\": {\"Category\": [\"Default\", \"Default\", \"Default\", \"Default\", \"Default\", \"Default\", \"Default\", \"Default\", \"Default\", \"Default\", \"Default\", \"Default\", \"Default\", \"Default\", \"Default\", \"Default\", \"Default\", \"Default\", \"Default\", \"Default\", \"Default\", \"Default\", \"Default\", \"Default\", \"Default\", \"Default\", \"Default\", \"Default\", \"Default\", \"Default\", \"Topic1\", \"Topic1\", \"Topic1\", \"Topic1\", \"Topic1\", \"Topic1\", \"Topic1\", \"Topic1\", \"Topic1\", \"Topic1\", \"Topic1\", \"Topic1\", \"Topic1\", \"Topic1\", \"Topic1\", \"Topic1\", \"Topic1\", \"Topic1\", \"Topic1\", \"Topic1\", \"Topic1\", \"Topic1\", \"Topic1\", \"Topic1\", \"Topic1\", \"Topic1\", \"Topic1\", \"Topic1\", \"Topic1\", \"Topic1\", \"Topic1\", \"Topic1\", \"Topic1\", \"Topic1\", \"Topic1\", \"Topic1\", \"Topic1\", \"Topic1\", \"Topic1\", \"Topic1\", \"Topic1\", \"Topic1\", \"Topic1\", \"Topic1\", \"Topic1\", \"Topic1\", \"Topic1\", \"Topic1\", \"Topic1\", \"Topic1\", \"Topic1\", \"Topic1\", \"Topic1\", \"Topic1\", \"Topic1\", \"Topic1\", \"Topic1\", \"Topic1\", \"Topic1\", \"Topic1\", \"Topic1\", \"Topic1\", \"Topic1\", \"Topic1\", \"Topic1\", \"Topic1\", \"Topic1\", \"Topic1\", \"Topic1\", \"Topic1\", \"Topic1\", \"Topic1\", \"Topic1\", \"Topic1\", \"Topic1\", \"Topic1\", \"Topic1\", \"Topic1\", \"Topic1\", \"Topic1\", \"Topic1\", \"Topic1\", \"Topic1\", \"Topic1\", \"Topic1\", \"Topic1\", \"Topic1\", \"Topic1\", \"Topic1\", \"Topic1\", \"Topic1\", \"Topic1\", \"Topic1\", \"Topic1\", \"Topic1\", \"Topic2\", \"Topic2\", \"Topic2\", \"Topic2\", \"Topic2\", \"Topic2\", \"Topic2\", \"Topic2\", \"Topic2\", \"Topic2\", \"Topic2\", \"Topic2\", \"Topic2\", \"Topic2\", \"Topic2\", \"Topic2\", \"Topic2\", \"Topic2\", \"Topic2\", \"Topic2\", \"Topic2\", \"Topic2\", \"Topic2\", \"Topic2\", \"Topic2\", \"Topic2\", \"Topic2\", \"Topic2\", \"Topic2\", \"Topic2\", \"Topic2\", \"Topic2\", \"Topic2\", \"Topic2\", \"Topic2\", \"Topic2\", \"Topic2\", \"Topic2\", \"Topic2\", \"Topic2\", \"Topic2\", \"Topic2\", \"Topic2\", \"Topic2\", \"Topic2\", \"Topic2\", \"Topic2\", \"Topic2\", \"Topic2\", \"Topic2\", \"Topic2\", \"Topic2\", \"Topic2\", \"Topic2\", \"Topic2\", \"Topic2\", \"Topic2\", \"Topic2\", \"Topic2\", \"Topic2\", \"Topic2\", \"Topic2\", \"Topic2\", \"Topic2\", \"Topic2\", \"Topic2\", \"Topic2\", \"Topic2\", \"Topic3\", \"Topic3\", \"Topic3\", \"Topic3\", \"Topic3\", \"Topic3\", \"Topic3\", \"Topic3\", \"Topic3\", \"Topic3\", \"Topic3\", \"Topic3\", \"Topic3\", \"Topic3\", \"Topic3\", \"Topic3\", \"Topic3\", \"Topic3\", \"Topic3\", \"Topic3\", \"Topic3\", \"Topic3\", \"Topic3\", \"Topic3\", \"Topic3\", \"Topic3\", \"Topic3\", \"Topic3\", \"Topic3\", \"Topic3\", \"Topic3\", \"Topic3\", \"Topic3\", \"Topic3\", \"Topic3\", \"Topic3\", \"Topic3\", \"Topic3\", \"Topic3\", \"Topic3\", \"Topic3\", \"Topic3\", \"Topic3\", \"Topic3\", \"Topic3\", \"Topic3\", \"Topic3\", \"Topic3\", \"Topic3\", \"Topic3\", \"Topic3\", \"Topic3\", \"Topic3\", \"Topic3\", \"Topic3\", \"Topic3\", \"Topic3\", \"Topic3\", \"Topic4\", \"Topic4\", \"Topic4\", \"Topic4\", \"Topic4\", \"Topic4\", \"Topic4\", \"Topic4\", \"Topic4\", \"Topic4\", \"Topic4\", \"Topic4\", \"Topic4\", \"Topic4\", \"Topic4\", \"Topic4\", \"Topic4\", \"Topic4\", \"Topic4\", \"Topic4\", \"Topic4\", \"Topic4\", \"Topic4\", \"Topic4\", \"Topic4\", \"Topic4\", \"Topic4\", \"Topic4\", \"Topic4\", \"Topic4\", \"Topic4\", \"Topic4\", \"Topic4\", \"Topic4\", \"Topic4\", \"Topic4\", \"Topic4\", \"Topic4\", \"Topic4\", \"Topic4\", \"Topic4\", \"Topic4\", \"Topic4\", \"Topic4\", \"Topic4\", \"Topic4\", \"Topic4\", \"Topic4\", \"Topic4\", \"Topic4\", \"Topic4\", \"Topic4\", \"Topic4\", \"Topic4\", \"Topic4\", \"Topic4\", \"Topic4\", \"Topic4\", \"Topic4\", \"Topic4\", \"Topic4\", \"Topic4\", \"Topic4\", \"Topic4\", \"Topic4\", \"Topic4\", \"Topic4\", \"Topic4\", \"Topic4\", \"Topic4\", \"Topic4\", \"Topic4\", \"Topic4\", \"Topic4\", \"Topic4\", \"Topic4\", \"Topic4\", \"Topic4\", \"Topic4\", \"Topic4\", \"Topic4\", \"Topic4\", \"Topic4\", \"Topic5\", \"Topic5\", \"Topic5\", \"Topic5\", \"Topic5\", \"Topic5\", \"Topic5\", \"Topic5\", \"Topic5\", \"Topic5\", \"Topic5\", \"Topic5\", \"Topic5\", \"Topic5\", \"Topic5\", \"Topic5\", \"Topic5\", \"Topic5\", \"Topic5\", \"Topic5\", \"Topic5\", \"Topic5\", \"Topic5\", \"Topic5\", \"Topic5\", \"Topic5\", \"Topic5\", \"Topic5\", \"Topic5\", \"Topic5\", \"Topic5\", \"Topic5\", \"Topic5\", \"Topic5\", \"Topic5\", \"Topic5\", \"Topic5\", \"Topic5\", \"Topic5\", \"Topic5\", \"Topic5\", \"Topic5\", \"Topic5\", \"Topic5\", \"Topic5\", \"Topic5\", \"Topic5\", \"Topic5\", \"Topic5\", \"Topic5\", \"Topic5\", \"Topic5\", \"Topic5\", \"Topic5\", \"Topic5\", \"Topic5\", \"Topic5\", \"Topic5\", \"Topic5\", \"Topic5\", \"Topic5\", \"Topic5\", \"Topic5\", \"Topic5\", \"Topic5\", \"Topic5\", \"Topic5\", \"Topic5\", \"Topic5\", \"Topic5\", \"Topic5\", \"Topic5\", \"Topic5\", \"Topic5\", \"Topic5\", \"Topic6\", \"Topic6\", \"Topic6\", \"Topic6\", \"Topic6\", \"Topic6\", \"Topic6\", \"Topic6\", \"Topic6\", \"Topic6\", \"Topic6\", \"Topic6\", \"Topic6\", \"Topic6\", \"Topic6\", \"Topic6\", \"Topic6\", \"Topic6\", \"Topic6\", \"Topic6\", \"Topic6\", \"Topic6\", \"Topic6\", \"Topic6\", \"Topic6\", \"Topic6\", \"Topic6\", \"Topic6\", \"Topic6\", \"Topic6\", \"Topic6\", \"Topic6\", \"Topic6\", \"Topic6\", \"Topic6\", \"Topic6\", \"Topic6\", \"Topic6\", \"Topic6\", \"Topic6\", \"Topic6\", \"Topic6\", \"Topic6\", \"Topic6\", \"Topic6\", \"Topic6\", \"Topic6\", \"Topic6\", \"Topic6\", \"Topic6\", \"Topic6\", \"Topic6\", \"Topic6\", \"Topic6\", \"Topic6\", \"Topic6\", \"Topic6\", \"Topic6\", \"Topic6\", \"Topic6\", \"Topic6\", \"Topic7\", \"Topic7\", \"Topic7\", \"Topic7\", \"Topic7\", \"Topic7\", \"Topic7\", \"Topic7\", \"Topic7\", \"Topic7\", \"Topic7\", \"Topic7\", \"Topic7\", \"Topic7\", \"Topic7\", \"Topic7\", \"Topic7\", \"Topic7\", \"Topic7\", \"Topic7\", \"Topic7\", \"Topic7\", \"Topic7\", \"Topic7\", \"Topic7\", \"Topic7\", \"Topic7\", \"Topic7\", \"Topic7\", \"Topic7\", \"Topic7\", \"Topic7\", \"Topic7\", \"Topic7\", \"Topic7\", \"Topic7\", \"Topic7\", \"Topic7\", \"Topic7\", \"Topic7\", \"Topic7\", \"Topic7\", \"Topic7\", \"Topic7\", \"Topic7\", \"Topic7\", \"Topic7\", \"Topic7\", \"Topic7\", \"Topic7\", \"Topic7\", \"Topic7\", \"Topic7\", \"Topic7\", \"Topic7\", \"Topic7\", \"Topic7\", \"Topic7\", \"Topic7\", \"Topic7\", \"Topic7\", \"Topic7\", \"Topic7\", \"Topic7\", \"Topic7\", \"Topic7\", \"Topic7\", \"Topic7\", \"Topic7\", \"Topic7\", \"Topic7\", \"Topic7\", \"Topic7\", \"Topic7\", \"Topic7\", \"Topic7\", \"Topic7\", \"Topic7\", \"Topic7\", \"Topic7\", \"Topic7\", \"Topic7\", \"Topic7\", \"Topic7\", \"Topic7\", \"Topic7\", \"Topic8\", \"Topic8\", \"Topic8\", \"Topic8\", \"Topic8\", \"Topic8\", \"Topic8\", \"Topic8\", \"Topic8\", \"Topic8\", \"Topic8\", \"Topic8\", \"Topic8\", \"Topic8\", \"Topic8\", \"Topic8\", \"Topic8\", \"Topic8\", \"Topic8\", \"Topic8\", \"Topic8\", \"Topic8\", \"Topic8\", \"Topic8\", \"Topic8\", \"Topic8\", \"Topic8\", \"Topic8\", \"Topic8\", \"Topic8\", \"Topic8\", \"Topic8\", \"Topic8\", \"Topic8\", \"Topic8\", \"Topic8\", \"Topic8\", \"Topic8\", \"Topic8\", \"Topic8\", \"Topic8\", \"Topic8\", \"Topic8\", \"Topic8\", \"Topic8\", \"Topic8\", \"Topic8\", \"Topic8\", \"Topic8\", \"Topic8\", \"Topic8\", \"Topic8\", \"Topic8\", \"Topic8\", \"Topic8\", \"Topic8\", \"Topic8\", \"Topic8\", \"Topic8\", \"Topic8\", \"Topic8\", \"Topic8\", \"Topic8\", \"Topic8\", \"Topic8\", \"Topic8\", \"Topic8\", \"Topic8\", \"Topic8\", \"Topic8\", \"Topic8\", \"Topic8\", \"Topic8\", \"Topic8\", \"Topic8\", \"Topic8\", \"Topic8\", \"Topic8\", \"Topic8\", \"Topic8\", \"Topic8\", \"Topic8\", \"Topic8\", \"Topic8\", \"Topic8\", \"Topic9\", \"Topic9\", \"Topic9\", \"Topic9\", \"Topic9\", \"Topic9\", \"Topic9\", \"Topic9\", \"Topic9\", \"Topic9\", \"Topic9\", \"Topic9\", \"Topic9\", \"Topic9\", \"Topic9\", \"Topic9\", \"Topic9\", \"Topic9\", \"Topic9\", \"Topic9\", \"Topic9\", \"Topic9\", \"Topic9\", \"Topic9\", \"Topic9\", \"Topic9\", \"Topic9\", \"Topic9\", \"Topic9\", \"Topic9\", \"Topic9\", \"Topic9\", \"Topic9\", \"Topic9\", \"Topic9\", \"Topic9\", \"Topic9\", \"Topic9\", \"Topic9\", \"Topic9\", \"Topic9\", \"Topic9\", \"Topic9\", \"Topic9\", \"Topic9\", \"Topic9\", \"Topic9\", \"Topic9\", \"Topic9\", \"Topic9\", \"Topic9\", \"Topic9\", \"Topic9\", \"Topic9\", \"Topic9\", \"Topic9\", \"Topic9\", \"Topic9\", \"Topic9\", \"Topic9\", \"Topic9\", \"Topic9\", \"Topic9\", \"Topic9\", \"Topic9\", \"Topic9\", \"Topic9\", \"Topic9\", \"Topic9\", \"Topic9\", \"Topic9\", \"Topic9\", \"Topic9\", \"Topic9\", \"Topic9\", \"Topic9\", \"Topic10\", \"Topic10\", \"Topic10\", \"Topic10\", \"Topic10\", \"Topic10\", \"Topic10\", \"Topic10\", \"Topic10\", \"Topic10\", \"Topic10\", \"Topic10\", \"Topic10\", \"Topic10\", \"Topic10\", \"Topic10\", \"Topic10\", \"Topic10\", \"Topic10\", \"Topic10\", \"Topic10\", \"Topic10\", \"Topic10\", \"Topic10\", \"Topic10\", \"Topic10\", \"Topic10\", \"Topic10\", \"Topic10\", \"Topic10\", \"Topic10\", \"Topic10\", \"Topic10\", \"Topic10\", \"Topic10\", \"Topic10\", \"Topic10\", \"Topic10\", \"Topic10\", \"Topic10\", \"Topic10\", \"Topic10\", \"Topic10\", \"Topic10\", \"Topic10\", \"Topic10\", \"Topic10\", \"Topic10\", \"Topic10\", \"Topic10\", \"Topic10\", \"Topic10\", \"Topic10\", \"Topic10\", \"Topic10\", \"Topic10\", \"Topic10\", \"Topic10\", \"Topic10\", \"Topic10\", \"Topic10\", \"Topic10\", \"Topic10\", \"Topic10\", \"Topic10\", \"Topic10\", \"Topic10\", \"Topic10\", \"Topic10\", \"Topic10\", \"Topic10\", \"Topic10\", \"Topic10\", \"Topic10\", \"Topic10\", \"Topic10\", \"Topic11\", \"Topic11\", \"Topic11\", \"Topic11\", \"Topic11\", \"Topic11\", \"Topic11\", \"Topic11\", \"Topic11\", \"Topic11\", \"Topic11\", \"Topic11\", \"Topic11\", \"Topic11\", \"Topic11\", \"Topic11\", \"Topic11\", \"Topic11\", \"Topic11\", \"Topic11\", \"Topic11\", \"Topic11\", \"Topic11\", \"Topic11\", \"Topic11\", \"Topic11\", \"Topic11\", \"Topic11\", \"Topic11\", \"Topic11\", \"Topic11\", \"Topic11\", \"Topic11\", \"Topic11\", \"Topic11\", \"Topic11\", \"Topic11\", \"Topic11\", \"Topic11\", \"Topic11\", \"Topic11\", \"Topic11\", \"Topic11\", \"Topic11\", \"Topic11\", \"Topic11\", \"Topic11\", \"Topic11\", \"Topic11\", \"Topic11\", \"Topic11\", \"Topic11\", \"Topic11\", \"Topic11\", \"Topic11\", \"Topic11\", \"Topic11\", \"Topic11\", \"Topic11\", \"Topic11\", \"Topic11\", \"Topic11\", \"Topic11\", \"Topic11\", \"Topic11\", \"Topic11\", \"Topic11\", \"Topic11\", \"Topic11\", \"Topic11\", \"Topic11\", \"Topic11\", \"Topic11\", \"Topic12\", \"Topic12\", \"Topic12\", \"Topic12\", \"Topic12\", \"Topic12\", \"Topic12\", \"Topic12\", \"Topic12\", \"Topic12\", \"Topic12\", \"Topic12\", \"Topic12\", \"Topic12\", \"Topic12\", \"Topic12\", \"Topic12\", \"Topic12\", \"Topic12\", \"Topic12\", \"Topic12\", \"Topic12\", \"Topic12\", \"Topic12\", \"Topic12\", \"Topic12\", \"Topic12\", \"Topic12\", \"Topic12\", \"Topic12\", \"Topic12\", \"Topic12\", \"Topic12\", \"Topic12\", \"Topic12\", \"Topic12\", \"Topic12\", \"Topic12\", \"Topic12\", \"Topic12\", \"Topic12\", \"Topic12\", \"Topic12\", \"Topic12\", \"Topic12\", \"Topic12\", \"Topic12\", \"Topic12\", \"Topic12\", \"Topic12\", \"Topic12\", \"Topic12\", \"Topic12\", \"Topic12\", \"Topic12\", \"Topic12\", \"Topic12\", \"Topic12\", \"Topic12\", \"Topic12\", \"Topic12\", \"Topic12\", \"Topic12\", \"Topic12\", \"Topic12\", \"Topic12\", \"Topic12\", \"Topic12\", \"Topic12\", \"Topic12\", \"Topic12\", \"Topic12\", \"Topic12\", \"Topic12\", \"Topic12\", \"Topic12\", \"Topic12\", \"Topic12\", \"Topic12\", \"Topic13\", \"Topic13\", \"Topic13\", \"Topic13\", \"Topic13\", \"Topic13\", \"Topic13\", \"Topic13\", \"Topic13\", \"Topic13\", \"Topic13\", \"Topic13\", \"Topic13\", \"Topic13\", \"Topic13\", \"Topic13\", \"Topic13\", \"Topic13\", \"Topic13\", \"Topic13\", \"Topic13\", \"Topic13\", \"Topic13\", \"Topic13\", \"Topic13\", \"Topic13\", \"Topic13\", \"Topic13\", \"Topic13\", \"Topic13\", \"Topic13\", \"Topic13\", \"Topic13\", \"Topic13\", \"Topic13\", \"Topic13\", \"Topic13\", \"Topic13\", \"Topic13\", \"Topic13\", \"Topic13\", \"Topic13\", \"Topic13\", \"Topic13\", \"Topic13\", \"Topic13\", \"Topic13\", \"Topic13\", \"Topic13\", \"Topic13\", \"Topic13\", \"Topic13\", \"Topic13\", \"Topic13\", \"Topic13\", \"Topic13\", \"Topic13\", \"Topic13\", \"Topic13\", \"Topic13\", \"Topic13\", \"Topic13\", \"Topic13\", \"Topic13\", \"Topic13\", \"Topic13\", \"Topic13\", \"Topic13\", \"Topic13\", \"Topic13\", \"Topic13\", \"Topic13\", \"Topic13\", \"Topic13\", \"Topic14\", \"Topic14\", \"Topic14\", \"Topic14\", \"Topic14\", \"Topic14\", \"Topic14\", \"Topic14\", \"Topic14\", \"Topic14\", \"Topic14\", \"Topic14\", \"Topic14\", \"Topic14\", \"Topic14\", \"Topic14\", \"Topic14\", \"Topic14\", \"Topic14\", \"Topic14\", \"Topic14\", \"Topic14\", \"Topic14\", \"Topic14\", \"Topic14\", \"Topic14\", \"Topic14\", \"Topic14\", \"Topic14\", \"Topic14\", \"Topic14\", \"Topic14\", \"Topic14\", \"Topic14\", \"Topic14\", \"Topic14\", \"Topic14\", \"Topic14\", \"Topic14\", \"Topic14\", \"Topic14\", \"Topic14\", \"Topic14\", \"Topic14\", \"Topic14\", \"Topic14\", \"Topic14\", \"Topic14\", \"Topic14\", \"Topic14\", \"Topic14\", \"Topic14\", \"Topic14\", \"Topic14\", \"Topic14\", \"Topic14\", \"Topic14\", \"Topic14\", \"Topic14\", \"Topic14\", \"Topic14\", \"Topic14\", \"Topic14\", \"Topic14\", \"Topic14\", \"Topic14\", \"Topic14\", \"Topic14\", \"Topic14\", \"Topic14\", \"Topic14\", \"Topic14\", \"Topic14\", \"Topic14\", \"Topic14\", \"Topic15\", \"Topic15\", \"Topic15\", \"Topic15\", \"Topic15\", \"Topic15\", \"Topic15\", \"Topic15\", \"Topic15\", \"Topic15\", \"Topic15\", \"Topic15\", \"Topic15\", \"Topic15\", \"Topic15\", \"Topic15\", \"Topic15\", \"Topic15\", \"Topic15\", \"Topic15\", \"Topic15\", \"Topic15\", \"Topic15\", \"Topic15\", \"Topic15\", \"Topic15\", \"Topic15\", \"Topic15\", \"Topic15\", \"Topic15\", \"Topic15\", \"Topic15\", \"Topic15\", \"Topic15\", \"Topic15\", \"Topic15\", \"Topic15\", \"Topic15\", \"Topic15\", \"Topic15\", \"Topic15\", \"Topic15\", \"Topic15\", \"Topic15\", \"Topic15\", \"Topic15\", \"Topic15\", \"Topic15\", \"Topic15\", \"Topic15\", \"Topic15\", \"Topic15\", \"Topic15\", \"Topic15\", \"Topic15\", \"Topic15\", \"Topic15\", \"Topic15\", \"Topic15\", \"Topic15\", \"Topic15\", \"Topic15\", \"Topic15\", \"Topic15\", \"Topic15\", \"Topic15\", \"Topic15\", \"Topic15\", \"Topic15\", \"Topic15\"], \"Freq\": [511.0, 853.0, 656.0, 620.0, 542.0, 381.0, 938.0, 367.0, 394.0, 1714.0, 1512.0, 315.0, 1333.0, 932.0, 434.0, 381.0, 1306.0, 900.0, 295.0, 417.0, 604.0, 273.0, 782.0, 624.0, 478.0, 651.0, 1303.0, 372.0, 1141.0, 572.0, 16.25067901611328, 10.297428131103516, 8.264222145080566, 15.593070030212402, 8.175365447998047, 13.662384986877441, 8.139615058898926, 7.221947193145752, 8.131878852844238, 7.180572986602783, 7.171278476715088, 8.065852165222168, 8.050622940063477, 7.1110663414001465, 13.226628303527832, 9.787552833557129, 6.187025547027588, 14.182188034057617, 7.049516201019287, 6.121514320373535, 6.99268913269043, 12.274785995483398, 6.972534656524658, 6.100360870361328, 6.09927225112915, 9.625357627868652, 6.962613105773926, 8.70191478729248, 12.927480697631836, 12.917526245117188, 17.754384994506836, 61.85771560668945, 11.742201805114746, 18.167564392089844, 275.7220458984375, 19.534122467041016, 8.618449211120605, 20.4146728515625, 24.10288429260254, 31.209575653076172, 21.306562423706055, 105.50287628173828, 28.953039169311523, 102.2495346069336, 45.7838134765625, 23.570676803588867, 135.63963317871094, 116.64246368408203, 30.832725524902344, 27.78359031677246, 41.62083435058594, 42.862571716308594, 52.57470703125, 59.104393005371094, 62.128334045410156, 117.59574890136719, 202.1273651123047, 90.02098083496094, 166.7401580810547, 80.30900573730469, 109.40229797363281, 106.25627136230469, 69.13243103027344, 380.3956298828125, 101.39839172363281, 125.56114196777344, 58.05485916137695, 198.3159637451172, 83.18515014648438, 122.20233917236328, 82.51392364501953, 201.18341064453125, 184.58407592773438, 184.05029296875, 183.79312133789062, 134.59043884277344, 318.55609130859375, 150.7727813720703, 228.8353729248047, 183.39039611816406, 215.670654296875, 142.95266723632812, 241.92572021484375, 165.54034423828125, 229.96319580078125, 163.0280303955078, 153.72900390625, 184.2777099609375, 145.60879516601562, 158.77267456054688, 185.43267822265625, 137.03053283691406, 146.94818115234375, 150.03555297851562, 146.2637939453125, 59.39981460571289, 22.565261840820312, 30.05574607849121, 42.2443733215332, 141.99913024902344, 48.532264709472656, 361.1120300292969, 75.54596710205078, 29.523141860961914, 16.65749740600586, 12.783339500427246, 16.443445205688477, 12.73271369934082, 12.643877983093262, 10.8263578414917, 45.378822326660156, 10.768933296203613, 8.895530700683594, 13.355782508850098, 280.0015563964844, 17.64690399169922, 7.862310409545898, 60.9233283996582, 6.925642490386963, 9.537107467651367, 11.259415626525879, 23.446794509887695, 19.861135482788086, 6.857585430145264, 10.298446655273438, 379.38250732421875, 332.9287109375, 134.96287536621094, 699.5023193359375, 49.27027893066406, 20.51972007751465, 72.195556640625, 167.08084106445312, 27.673656463623047, 169.80189514160156, 92.34493255615234, 319.052734375, 234.69287109375, 100.08548736572266, 167.8013458251953, 32.586708068847656, 74.5416488647461, 360.0205078125, 602.9437866210938, 210.9894561767578, 360.5859375, 191.37164306640625, 337.0472717285156, 268.2933654785156, 342.351806640625, 235.6217041015625, 351.20074462890625, 179.098876953125, 179.5041961669922, 206.80026245117188, 155.07933044433594, 237.82806396484375, 193.42083740234375, 216.7467041015625, 202.1638641357422, 181.7142791748047, 175.33644104003906, 172.2888641357422, 536.8316040039062, 649.26513671875, 218.09481811523438, 204.75967407226562, 123.28604888916016, 238.1119842529297, 96.7876968383789, 73.26726531982422, 136.17677307128906, 84.31724548339844, 34.278480529785156, 36.124420166015625, 50.04934310913086, 45.36785125732422, 28.43411636352539, 28.423555374145508, 25.649816513061523, 24.478384017944336, 18.095945358276367, 16.224334716796875, 15.28746223449707, 15.22311019897461, 16.90902328491211, 14.234870910644531, 32.505950927734375, 10.48411750793457, 9.511712074279785, 8.549651145935059, 7.63431978225708, 8.451545715332031, 263.6981506347656, 61.33041000366211, 170.37020874023438, 280.0054016113281, 178.20338439941406, 247.34402465820312, 55.267921447753906, 165.87867736816406, 181.1363525390625, 84.85060119628906, 231.177978515625, 163.44749450683594, 227.6631317138672, 176.76766967773438, 138.0953369140625, 195.75807189941406, 133.32064819335938, 207.52838134765625, 146.58627319335938, 174.8278045654297, 97.9862289428711, 145.48936462402344, 114.66004180908203, 115.32805633544922, 147.9715576171875, 125.70110321044922, 122.16950988769531, 120.64456939697266, 6.916732311248779, 6.88987398147583, 8.458738327026367, 4.984107494354248, 4.9636454582214355, 4.817285060882568, 4.7988600730896, 9.535215377807617, 6.321813106536865, 7.7939276695251465, 7.707686901092529, 6.700247764587402, 6.777550220489502, 5.868630409240723, 22.994976043701172, 5.949682235717773, 5.796545028686523, 4.380412578582764, 5.731141090393066, 4.982245445251465, 4.963986396789551, 18.090225219726562, 14.727182388305664, 5.468369483947754, 7.52833366394043, 6.398338794708252, 4.074365615844727, 4.027710914611816, 5.445035934448242, 6.799417495727539, 140.66571044921875, 26.238908767700195, 12.439460754394531, 22.706174850463867, 9.716056823730469, 117.41915130615234, 12.790267944335938, 58.772212982177734, 27.160799026489258, 11.289029121398926, 35.03464889526367, 35.525848388671875, 50.995235443115234, 74.12548828125, 21.13518714904785, 142.51182556152344, 35.01103973388672, 70.62051391601562, 15.025135040283203, 30.575729370117188, 24.421911239624023, 161.50917053222656, 24.60175895690918, 71.42597961425781, 36.34891891479492, 59.563419342041016, 74.04163360595703, 36.24652099609375, 137.62852478027344, 82.86400604248047, 181.60597229003906, 86.38622283935547, 140.3369140625, 94.8779296875, 93.40614318847656, 49.002140045166016, 62.597564697265625, 130.4328155517578, 85.224853515625, 91.13706970214844, 94.29844665527344, 84.37691497802734, 62.87889862060547, 73.60093688964844, 81.87258911132812, 96.52692413330078, 72.1480484008789, 67.53618621826172, 81.32318878173828, 84.07305908203125, 68.96700286865234, 68.03227996826172, 67.49266052246094, 60.76015090942383, 15.219810485839844, 9.891363143920898, 6.007184028625488, 12.690073013305664, 5.020963668823242, 299.2900390625, 6.33981990814209, 12.6603364944458, 6.268545627593994, 68.75537109375, 8.771391868591309, 4.4079108238220215, 5.792593479156494, 13.17525863647461, 6.872524261474609, 7.879367351531982, 14.804372787475586, 4.181756019592285, 4.8304338455200195, 4.0504679679870605, 93.8904037475586, 5.916943550109863, 4.057159900665283, 6.012371063232422, 14.256789207458496, 12.649534225463867, 3.9519972801208496, 4.408585548400879, 3.816404104232788, 65.96578216552734, 21.31967544555664, 15.248479843139648, 59.686683654785156, 18.505165100097656, 8.4619722366333, 260.19769287109375, 17.933940887451172, 11.353063583374023, 9.325051307678223, 264.1031494140625, 54.46950912475586, 143.30772399902344, 68.5667724609375, 34.6098747253418, 110.1946792602539, 103.26766967773438, 24.377288818359375, 21.199005126953125, 49.26453399658203, 59.56273651123047, 122.6798095703125, 98.41356658935547, 79.53264617919922, 138.65113830566406, 130.94424438476562, 119.18582153320312, 81.56657409667969, 81.84112548828125, 62.13201904296875, 91.98941040039062, 63.89022445678711, 79.44280242919922, 103.708251953125, 62.188629150390625, 77.79398345947266, 86.1180191040039, 100.42803192138672, 108.08189392089844, 73.5573501586914, 88.7498779296875, 71.85469818115234, 72.88568115234375, 70.16167449951172, 68.39830017089844, 68.41126251220703, 294.3385314941406, 13.334476470947266, 155.79269409179688, 85.11131286621094, 76.52815246582031, 60.30354309082031, 8.369831085205078, 45.29424285888672, 135.2167205810547, 8.448225975036621, 4.50137996673584, 18.982177734375, 24.67119598388672, 5.779297351837158, 53.98295211791992, 18.728540420532227, 93.85271453857422, 28.520771026611328, 218.02322387695312, 19.410842895507812, 28.431392669677734, 6.880799770355225, 4.694272518157959, 4.4814958572387695, 3.805983066558838, 17.25770378112793, 396.75054931640625, 4.846994400024414, 69.54027557373047, 19.038692474365234, 8.584582328796387, 23.734172821044922, 29.84767723083496, 86.80099487304688, 51.75028991699219, 267.7781982421875, 123.6253662109375, 39.81588363647461, 145.06353759765625, 64.37908172607422, 82.26283264160156, 99.55465698242188, 130.70257568359375, 133.02581787109375, 122.25375366210938, 145.09803771972656, 129.81329345703125, 165.20455932617188, 144.93470764160156, 135.74740600585938, 55.21110534667969, 85.83584594726562, 125.02165222167969, 122.512451171875, 110.49118041992188, 94.04138946533203, 93.72844696044922, 96.30979919433594, 104.33150482177734, 85.79486083984375, 4.984074592590332, 4.937106609344482, 4.900852680206299, 6.791333198547363, 7.766812801361084, 5.273766040802002, 9.71201229095459, 5.89536190032959, 9.44117259979248, 4.993888854980469, 4.9656901359558105, 4.9705047607421875, 6.8092546463012695, 4.10130500793457, 3.9108376502990723, 5.0068817138671875, 9.152928352355957, 7.760656833648682, 3.8093883991241455, 5.797072887420654, 10.030401229858398, 4.339293956756592, 3.7000179290771484, 4.931911945343018, 14.261174201965332, 12.91679859161377, 4.313507080078125, 6.010739803314209, 9.653496742248535, 3.991837501525879, 8.04440689086914, 33.013214111328125, 14.657913208007812, 12.265815734863281, 167.37074279785156, 9.216541290283203, 123.4551773071289, 17.285667419433594, 34.99018478393555, 45.205142974853516, 44.91572189331055, 63.713768005371094, 27.718151092529297, 18.872873306274414, 109.63241577148438, 18.13903045654297, 39.83442306518555, 69.23698425292969, 44.14293670654297, 108.71141815185547, 67.8628921508789, 54.35696792602539, 33.27967834472656, 86.39158630371094, 94.42033386230469, 55.80100631713867, 128.88414001464844, 94.640625, 48.51840591430664, 47.17897415161133, 43.12459182739258, 155.73263549804688, 73.25237274169922, 58.52592849731445, 43.95595932006836, 94.40682983398438, 56.586544036865234, 72.9489974975586, 101.44970703125, 122.06021118164062, 78.28423309326172, 95.7197265625, 77.27682495117188, 74.8926773071289, 100.04428100585938, 93.57357025146484, 61.687984466552734, 93.61688995361328, 83.20629119873047, 61.909488677978516, 71.28028869628906, 64.59089660644531, 62.61550521850586, 64.15009307861328, 63.69114303588867, 64.10861206054688, 7.508692264556885, 20.73721694946289, 5.715392112731934, 5.576262950897217, 4.748884677886963, 4.711056232452393, 5.190474033355713, 6.580916881561279, 5.812285423278809, 5.680850505828857, 5.3625898361206055, 8.99134635925293, 3.839008331298828, 4.705313205718994, 5.419881820678711, 4.5326762199401855, 3.801469087600708, 3.9450342655181885, 8.014368057250977, 4.553774833679199, 5.694353103637695, 3.8591842651367188, 3.8354172706604004, 3.8541648387908936, 3.798323631286621, 6.272017002105713, 3.8272106647491455, 3.826841354370117, 5.054667949676514, 4.4144463539123535, 17.01477813720703, 143.53041076660156, 28.875818252563477, 7.564957618713379, 4.987083911895752, 51.99380111694336, 7.087172508239746, 12.696325302124023, 12.713665008544922, 14.837789535522461, 45.97976303100586, 10.775712013244629, 18.217578887939453, 42.8540153503418, 43.23967361450195, 25.933067321777344, 26.9702205657959, 14.242401123046875, 22.692522048950195, 27.660776138305664, 31.520334243774414, 173.62643432617188, 142.63284301757812, 29.18098258972168, 39.260353088378906, 14.658883094787598, 26.481929779052734, 26.202255249023438, 69.09844207763672, 28.691326141357422, 33.45237731933594, 61.66706085205078, 82.72711944580078, 61.81462097167969, 46.44208526611328, 38.84792709350586, 68.49346160888672, 81.7409896850586, 54.84001922607422, 61.49702835083008, 52.04275894165039, 65.47262573242188, 60.462364196777344, 67.66947174072266, 67.33788299560547, 52.164852142333984, 53.155303955078125, 47.859153747558594, 54.416568756103516, 62.42579650878906, 48.4160041809082, 45.49795150756836, 47.40464401245117, 44.54093551635742, 42.94131088256836, 6.156350612640381, 5.519537448883057, 11.077917098999023, 5.397653579711914, 4.422021865844727, 3.660156011581421, 32.72325897216797, 22.026752471923828, 4.4795942306518555, 3.424720525741577, 4.584632873535156, 3.6642560958862305, 4.087400913238525, 4.02724027633667, 4.341573715209961, 4.526916980743408, 2.7672789096832275, 2.79335618019104, 195.4961395263672, 2.760030746459961, 23.25054168701172, 2.7232906818389893, 4.63981819152832, 37.40478515625, 14.625589370727539, 4.529757022857666, 2.664104700088501, 16.691566467285156, 3.496943473815918, 3.1136271953582764, 76.77376556396484, 4.266520023345947, 29.391618728637695, 5.544660568237305, 6.635092258453369, 75.40562438964844, 172.8541259765625, 30.417984008789062, 26.335588455200195, 13.344002723693848, 63.01522445678711, 24.88619041442871, 22.4966983795166, 23.418344497680664, 188.14051818847656, 17.96578598022461, 86.77792358398438, 58.01863479614258, 41.56412124633789, 36.976478576660156, 30.40589141845703, 27.035890579223633, 88.12996673583984, 42.23741912841797, 120.25798797607422, 93.47244262695312, 37.74604034423828, 66.67337799072266, 48.31925582885742, 59.866172790527344, 34.59516906738281, 71.30657196044922, 48.19489669799805, 70.38285827636719, 64.82185363769531, 52.066707611083984, 49.88642501831055, 56.65721130371094, 53.6112174987793, 46.29663848876953, 46.74219512939453, 47.907562255859375, 48.00965118408203, 42.17939758300781, 45.10752868652344, 43.72100067138672, 4.113776206970215, 6.132250785827637, 7.1233625411987305, 2.705857038497925, 2.782458782196045, 6.486681938171387, 61.61599349975586, 2.710099935531616, 2.6827774047851562, 2.5738165378570557, 2.4036669731140137, 11.636270523071289, 10.333083152770996, 2.4045212268829346, 2.408268451690674, 2.628574848175049, 2.7103559970855713, 2.683333158493042, 3.3889944553375244, 2.6242895126342773, 2.1956117153167725, 2.2048752307891846, 2.5828020572662354, 2.552065849304199, 2.0534186363220215, 15.548168182373047, 46.018375396728516, 2.074753522872925, 2.3600213527679443, 4.282904148101807, 14.906648635864258, 16.87664031982422, 5.938108444213867, 16.525964736938477, 6.355323791503906, 13.700474739074707, 8.930580139160156, 5.102606773376465, 11.67612361907959, 9.519192695617676, 7.9864606857299805, 20.057586669921875, 6.328446865081787, 13.62743854522705, 32.830711364746094, 24.34913444519043, 54.36381530761719, 20.571809768676758, 34.227012634277344, 40.0575065612793, 7.64901065826416, 32.283912658691406, 7.927456855773926, 30.60345458984375, 27.680843353271484, 47.61525344848633, 35.49260711669922, 34.39728546142578, 31.574993133544922, 23.952444076538086, 25.51979637145996, 24.1673583984375, 26.203937530517578, 25.369094848632812, 30.187719345092773, 21.276809692382812, 26.20116424560547, 26.236948013305664, 27.7540225982666, 23.74889373779297, 24.799715042114258, 25.070140838623047, 25.359333038330078, 23.576555252075195, 22.410587310791016, 21.726781845092773, 4.38065242767334, 5.550586223602295, 10.838886260986328, 11.534616470336914, 3.8134164810180664, 6.761297225952148, 3.5312390327453613, 3.3987035751342773, 3.532256841659546, 3.843195915222168, 3.3049049377441406, 14.962507247924805, 2.806401491165161, 4.578303813934326, 2.6138226985931396, 3.1607043743133545, 2.6737048625946045, 3.5349349975585938, 3.4584133625030518, 2.616610050201416, 3.8826093673706055, 6.157896041870117, 3.7681636810302734, 4.10385274887085, 3.5526235103607178, 4.7211174964904785, 2.1966586112976074, 2.6809301376342773, 5.292169094085693, 2.99836802482605, 9.201818466186523, 5.102117538452148, 42.33788299560547, 23.86806297302246, 15.410396575927734, 13.1067476272583, 21.698314666748047, 10.43106460571289, 12.867890357971191, 8.48106575012207, 18.421327590942383, 10.536828994750977, 14.46630573272705, 23.321935653686523, 12.604533195495605, 11.34387493133545, 13.077597618103027, 35.04106903076172, 15.37691879272461, 18.18718719482422, 24.787731170654297, 39.37665939331055, 29.44662857055664, 25.23520278930664, 19.46027183532715, 31.306039810180664, 21.177627563476562, 29.515356063842773, 27.406694412231445, 28.042600631713867, 22.464059829711914, 23.12972068786621, 20.11958122253418, 18.10895347595215, 18.770294189453125, 19.02760887145996, 18.562572479248047, 20.37264633178711, 18.229848861694336, 17.004640579223633, 16.70668601989746, 17.179555892944336, 16.143735885620117, 3.2660722732543945, 2.377434492111206, 2.582839012145996, 2.3055295944213867, 2.225963830947876, 1.6674081087112427, 2.4508092403411865, 1.6313767433166504, 1.6754956245422363, 1.6159682273864746, 1.8211225271224976, 3.5394749641418457, 1.511035680770874, 2.230647563934326, 1.6692054271697998, 1.6904466152191162, 1.6599030494689941, 1.6244374513626099, 1.6684958934783936, 1.6554784774780273, 2.3396990299224854, 1.6679524183273315, 2.4441964626312256, 2.4847216606140137, 2.4715421199798584, 2.4106149673461914, 1.487276315689087, 1.647407054901123, 1.6682541370391846, 1.6451054811477661, 3.2722415924072266, 1.9117138385772705, 4.602380275726318, 1.9884421825408936, 3.640268325805664, 4.614637851715088, 5.588959693908691, 2.479102849960327, 10.658347129821777, 4.401466369628906, 4.893863677978516, 6.707414150238037, 18.4503116607666, 2.864194631576538, 7.274372577667236, 17.992216110229492, 7.4603776931762695, 3.78182053565979, 9.254134178161621, 8.185158729553223, 9.796945571899414, 5.561121463775635, 11.580470085144043, 8.809822082519531, 12.257265090942383, 14.086957931518555, 14.129057884216309, 11.97342586517334, 11.792254447937012, 14.601642608642578, 11.121047019958496, 14.707379341125488, 12.108680725097656, 7.526116371154785, 6.3537750244140625, 9.32094955444336, 8.855348587036133, 8.76245403289795, 9.771066665649414, 11.394745826721191, 7.142155647277832, 10.873382568359375, 8.158717155456543, 8.870962142944336, 10.06154727935791, 8.280957221984863, 8.749895095825195, 7.878886699676514, 7.756192684173584, 3.125671148300171, 3.9149162769317627, 2.3730714321136475, 1.6060056686401367, 1.5891724824905396, 1.5788352489471436, 1.6003448963165283, 1.5631141662597656, 1.5969772338867188, 2.368286371231079, 1.5365556478500366, 1.5119521617889404, 3.1436896324157715, 1.53372061252594, 1.5512416362762451, 1.5431368350982666, 1.523284673690796, 1.6109269857406616, 4.696542739868164, 1.5977184772491455, 1.4195122718811035, 2.3351142406463623, 1.5486230850219727, 1.2877388000488281, 1.4915159940719604, 1.0417839288711548, 2.32883620262146, 1.6010735034942627, 1.5458520650863647, 1.6036607027053833, 6.435378551483154, 2.377460479736328, 6.231083393096924, 3.038652181625366, 14.49419116973877, 3.0681793689727783, 3.2785680294036865, 2.3212077617645264, 2.8610827922821045, 3.086246967315674, 7.217053413391113, 10.871025085449219, 6.68234920501709, 2.379363775253296, 11.703338623046875, 5.612247943878174, 6.3277997970581055, 9.313924789428711, 3.7500011920928955, 5.364133834838867, 5.27189826965332, 10.752205848693848, 8.101428985595703, 8.95541000366211, 14.276461601257324, 4.970623970031738, 4.951360702514648, 10.131120681762695, 6.302761077880859, 7.529723167419434, 8.93932056427002, 8.6415376663208, 8.639677047729492, 7.823705673217773, 5.661293029785156, 7.424776554107666, 7.465518951416016, 5.745487213134766, 6.486008644104004, 5.891543388366699, 5.667716026306152, 6.023571491241455, 5.767402648925781, 5.678533554077148, 1.8736532926559448, 1.2581323385238647, 1.216631293296814, 1.263059377670288, 1.271064043045044, 1.2750084400177002, 0.6555680632591248, 0.6598155498504639, 0.6572142243385315, 0.6460065245628357, 0.6578986048698425, 0.6583358645439148, 0.6548530459403992, 0.6367480158805847, 0.656794548034668, 0.6584527492523193, 1.2550028562545776, 0.5788828134536743, 0.6530253291130066, 0.658604085445404, 0.6586202383041382, 0.6585710048675537, 0.6455335021018982, 0.6479027271270752, 0.652781069278717, 0.6574603319168091, 0.6581553220748901, 0.6643213033676147, 0.6497162580490112, 0.6448583602905273, 1.270828127861023, 1.2305439710617065, 3.043518304824829, 2.511416435241699, 1.2681400775909424, 1.2750457525253296, 2.443368673324585, 12.462024688720703, 1.2402262687683105, 4.1576128005981445, 1.2473235130310059, 1.2746316194534302, 2.4884419441223145, 2.9204883575439453, 1.892404556274414, 1.2320810556411743, 6.252554416656494, 2.271641969680786, 1.8858425617218018, 3.1294267177581787, 3.169748544692993, 1.271616816520691, 1.2708818912506104, 5.72265625, 4.145565032958984, 3.1266987323760986, 3.864480972290039, 3.6309847831726074, 2.8437156677246094, 3.093592643737793, 2.7083864212036133, 3.6594910621643066, 2.806889772415161, 3.5303876399993896, 3.2894957065582275, 3.579819440841675, 2.9571571350097656, 1.8741368055343628, 2.4492993354797363, 2.775183916091919, 3.0083391666412354, 2.6356537342071533, 2.7851035594940186, 2.4106979370117188, 2.4305107593536377, 1.8957265615463257, 1.7549978494644165, 1.5254155397415161, 1.2807512283325195, 1.2798194885253906, 1.2285784482955933, 1.2696199417114258, 1.2776517868041992, 0.6621877551078796, 0.8697422742843628, 0.6605525016784668, 1.2497525215148926, 0.6554409861564636, 0.6602318286895752, 0.6528127193450928, 0.6613792181015015, 0.661132276058197, 0.6529280543327332, 0.666073203086853, 0.6504851579666138, 0.6437984704971313, 0.6603105068206787, 0.6462384462356567, 0.6620272994041443, 0.6602144837379456, 0.7497348189353943, 1.2762199640274048, 0.6253300905227661, 0.66274493932724, 1.2661187648773193, 1.2651822566986084, 2.304612874984741, 1.2812494039535522, 3.0559840202331543, 3.266685724258423, 3.311770439147949, 1.2657502889633179, 1.8446331024169922, 1.0833464860916138, 1.9067121744155884, 1.2225728034973145, 1.583254337310791, 1.2807672023773193, 1.1194826364517212, 2.5165748596191406, 1.2820110321044922, 2.011321783065796, 1.866611123085022, 2.847414970397949, 2.662672758102417, 1.8665696382522583, 1.7868396043777466, 1.914635181427002, 3.244004011154175, 2.5915448665618896, 1.8380972146987915, 2.679969310760498, 1.8910034894943237, 1.929706335067749, 1.9503810405731201, 1.7724095582962036, 2.4509117603302, 2.393531084060669, 1.8465938568115234, 2.036953926086426, 1.8753453493118286, 1.887431263923645, 1.8488080501556396, 1.8341119289398193, 1.8228139877319336], \"Term\": [\"harriet\", \"emma\", \"elinor\", \"elizabeth\", \"marianne\", \"knightley\", \"jane\", \"rochester\", \"darcy\", \"little\", \"miss\", \"bennet\", \"like\", \"long\", \"weston\", \"elton\", \"time\", \"man\", \"bingley\", \"madame\", \"sir\", \"monsieur\", \"thing\", \"night\", \"old\", \"heart\", \"think\", \"fairfax\", \"thought\", \"sister\", \"scholars\", \"whitcross\", \"carlo\", \"georgette\", \"slender\", \"eulalie\", \"literal\", \"chord\", \"scrupulously\", \"tableau\", \"bust\", \"wanderings\", \"staff\", \"adjusted\", \"si\", \"benign\", \"pasture\", \"demoiselles\", \"sais\", \"actors\", \"dutch\", \"etes\", \"pencils\", \"locality\", \"lash\", \"cultivate\", \"phlegm\", \"bounding\", \"jeune\", \"desks\", \"physiognomy\", \"diana\", \"trained\", \"lineaments\", \"madame\", \"spell\", \"deadly\", \"carre\", \"chin\", \"hannah\", \"outline\", \"french\", \"estrade\", \"beck\", \"lessons\", \"chairs\", \"english\", \"st\", \"german\", \"priest\", \"rivers\", \"professor\", \"class\", \"pupil\", \"pelet\", \"school\", \"face\", \"paul\", \"eye\", \"pupils\", \"white\", \"dr\", \"features\", \"like\", \"dark\", \"light\", \"green\", \"hand\", \"deep\", \"stood\", \"black\", \"looked\", \"john\", \"night\", \"eyes\", \"voice\", \"little\", \"door\", \"thought\", \"saw\", \"day\", \"took\", \"good\", \"felt\", \"time\", \"heart\", \"life\", \"long\", \"knew\", \"house\", \"know\", \"old\", \"look\", \"room\", \"come\", \"cole\", \"scatcherd\", \"maple\", \"dixon\", \"bates\", \"campbell\", \"elton\", \"perry\", \"abbey\", \"vicarage\", \"larkins\", \"coles\", \"nash\", \"grandmama\", \"exploring\", \"donwell\", \"brunswick\", \"surry\", \"suckling\", \"woodhouse\", \"hawkins\", \"villain\", \"isabella\", \"knightleys\", \"selina\", \"patty\", \"campbells\", \"eltons\", \"privations\", \"handwriting\", \"weston\", \"knightley\", \"hartfield\", \"emma\", \"goddard\", \"charade\", \"randalls\", \"churchill\", \"surprized\", \"frank\", \"highbury\", \"harriet\", \"fairfax\", \"hunsden\", \"body\", \"grove\", \"smith\", \"thing\", \"miss\", \"dear\", \"good\", \"oh\", \"think\", \"jane\", \"know\", \"great\", \"little\", \"sure\", \"young\", \"shall\", \"father\", \"like\", \"man\", \"time\", \"thought\", \"soon\", \"come\", \"day\", \"marianne\", \"elinor\", \"jennings\", \"willoughby\", \"ferrars\", \"dashwood\", \"middleton\", \"palmer\", \"brandon\", \"barton\", \"dashwoods\", \"steele\", \"norland\", \"fanny\", \"steeles\", \"delaford\", \"cleveland\", \"devonshire\", \"middletons\", \"berkeley\", \"harley\", \"combe\", \"allenham\", \"exeter\", \"margaret\", \"magna\", \"palmers\", \"sussex\", \"somersetshire\", \"inconstancy\", \"edward\", \"cottage\", \"colonel\", \"sister\", \"lucy\", \"mother\", \"engagement\", \"john\", \"thing\", \"town\", \"time\", \"house\", \"know\", \"soon\", \"lady\", \"think\", \"sure\", \"miss\", \"great\", \"good\", \"replied\", \"day\", \"dear\", \"sir\", \"little\", \"shall\", \"man\", \"room\", \"flames\", \"pony\", \"orb\", \"elders\", \"accommodated\", \"stored\", \"sleeper\", \"chateau\", \"inscription\", \"cushion\", \"battlements\", \"washstand\", \"piled\", \"clinging\", \"godmother\", \"enveloped\", \"pillows\", \"exhaustion\", \"wrapping\", \"jack\", \"portmanteau\", \"abbot\", \"chambers\", \"fireplace\", \"groups\", \"borders\", \"portal\", \"spoiling\", \"semicircle\", \"crape\", \"graham\", \"gallery\", \"desiree\", \"trunk\", \"frock\", \"bretton\", \"missis\", \"bessie\", \"staircase\", \"storey\", \"temple\", \"polly\", \"reed\", \"bed\", \"gateshead\", \"door\", \"steps\", \"dr\", \"ghost\", \"wall\", \"lamp\", \"room\", \"shone\", \"child\", \"chamber\", \"dark\", \"stood\", \"trees\", \"long\", \"madame\", \"little\", \"went\", \"thought\", \"hand\", \"night\", \"lay\", \"light\", \"like\", \"heard\", \"house\", \"come\", \"came\", \"round\", \"left\", \"looked\", \"time\", \"eyes\", \"knew\", \"day\", \"miss\", \"john\", \"saw\", \"think\", \"mason\", \"briggs\", \"lunatic\", \"swear\", \"celine\", \"jamaica\", \"rochester\", \"germs\", \"remorse\", \"bloody\", \"ingram\", \"madeira\", \"workings\", \"bertha\", \"carter\", \"transformed\", \"amy\", \"janet\", \"behest\", \"interlocutor\", \"noxious\", \"adele\", \"eve\", \"strayed\", \"impediment\", \"lynn\", \"missionary\", \"wash\", \"prayed\", \"marrow\", \"eyre\", \"poole\", \"pilot\", \"thornfield\", \"eshton\", \"propensities\", \"sir\", \"dent\", \"hell\", \"associations\", \"jane\", \"ll\", \"love\", \"god\", \"blood\", \"night\", \"yes\", \"governess\", \"shoulder\", \"master\", \"wife\", \"shall\", \"heart\", \"face\", \"know\", \"like\", \"thought\", \"life\", \"heard\", \"fairfax\", \"come\", \"voice\", \"eyes\", \"think\", \"hear\", \"looked\", \"man\", \"good\", \"little\", \"hand\", \"time\", \"look\", \"long\", \"day\", \"miss\", \"kitty\", \"bennet\", \"lucases\", \"collins\", \"lizzy\", \"longbourn\", \"lucas\", \"gracechurch\", \"meryton\", \"lydia\", \"bennets\", \"enumerating\", \"brighton\", \"officers\", \"apologising\", \"netherfield\", \"hunsford\", \"catherine\", \"bourgh\", \"bingley\", \"regiment\", \"forster\", \"jenkinson\", \"gardiners\", \"unconnected\", \"dispatched\", \"saturday\", \"elizabeth\", \"easter\", \"charlotte\", \"phillips\", \"nieces\", \"hertfordshire\", \"ladyship\", \"wickham\", \"daughters\", \"jane\", \"darcy\", \"gardiner\", \"dear\", \"sisters\", \"daughter\", \"family\", \"sister\", \"mother\", \"lady\", \"soon\", \"shall\", \"miss\", \"know\", \"good\", \"aunt\", \"father\", \"time\", \"think\", \"day\", \"young\", \"away\", \"man\", \"little\", \"come\", \"justification\", \"illiterate\", \"bewitching\", \"blindness\", \"respectability\", \"disgraced\", \"imputed\", \"decease\", \"acquit\", \"veracity\", \"gross\", \"airing\", \"reconciliation\", \"despaired\", \"intentionally\", \"disparity\", \"scotland\", \"resent\", \"contrition\", \"infamous\", \"refusal\", \"depending\", \"exposing\", \"misunderstand\", \"reconciled\", \"connexion\", \"concise\", \"legal\", \"impropriety\", \"ingenuity\", \"disapprobation\", \"attached\", \"believing\", \"concealment\", \"harriet\", \"insufficient\", \"feelings\", \"fitzwilliam\", \"martin\", \"conduct\", \"attachment\", \"wickham\", \"unhappy\", \"supposing\", \"letter\", \"claims\", \"engagement\", \"affection\", \"thousand\", \"father\", \"happiness\", \"marry\", \"pounds\", \"friend\", \"hope\", \"possible\", \"emma\", \"having\", \"regard\", \"marriage\", \"respect\", \"think\", \"darcy\", \"sense\", \"fortune\", \"felt\", \"ill\", \"believe\", \"man\", \"time\", \"sister\", \"soon\", \"love\", \"mind\", \"know\", \"good\", \"told\", \"little\", \"thought\", \"present\", \"great\", \"wish\", \"heart\", \"long\", \"jane\", \"miss\", \"va\", \"isidore\", \"chocolate\", \"timon\", \"pathos\", \"confines\", \"mightily\", \"resulted\", \"meme\", \"beneficial\", \"dites\", \"cleopatra\", \"flowery\", \"glove\", \"pear\", \"hovered\", \"garcon\", \"proximity\", \"balcony\", \"dash\", \"glare\", \"weakly\", \"hostess\", \"conquering\", \"brittle\", \"bourgeois\", \"contains\", \"antipathies\", \"infallibly\", \"harangue\", \"zoraide\", \"monsieur\", \"henri\", \"definite\", \"margin\", \"frances\", \"accost\", \"petite\", \"francs\", \"hamal\", \"mdlle\", \"alfred\", \"mon\", \"vous\", \"mademoiselle\", \"je\", \"reuter\", \"mais\", \"que\", \"et\", \"est\", \"little\", \"like\", \"pelet\", \"paul\", \"une\", \"emanuel\", \"la\", \"eyes\", \"england\", \"garden\", \"life\", \"day\", \"hand\", \"round\", \"school\", \"long\", \"know\", \"heart\", \"man\", \"half\", \"thought\", \"shall\", \"think\", \"time\", \"night\", \"away\", \"went\", \"saw\", \"good\", \"way\", \"having\", \"came\", \"looked\", \"miss\", \"footstool\", \"misfortunes\", \"scotch\", \"condescended\", \"sire\", \"tickets\", \"pemberley\", \"hurst\", \"displaying\", \"patron\", \"womanly\", \"reel\", \"composedly\", \"lottery\", \"porridge\", \"affability\", \"astonish\", \"explaining\", \"darcy\", \"indignity\", \"rosings\", \"yawn\", \"saloon\", \"polly\", \"danced\", \"dish\", \"rave\", \"fitzwilliam\", \"exaggerate\", \"couldn\", \"papa\", \"chooses\", \"bassompierre\", \"steward\", \"uncommonly\", \"bretton\", \"elizabeth\", \"gardiner\", \"paulina\", \"parsonage\", \"bingley\", \"proud\", \"civility\", \"dance\", \"miss\", \"snowe\", \"lady\", \"manner\", \"graham\", \"wickham\", \"gentlemen\", \"catherine\", \"room\", \"ladies\", \"little\", \"know\", \"party\", \"great\", \"seen\", \"saw\", \"conversation\", \"think\", \"home\", \"like\", \"time\", \"looked\", \"look\", \"good\", \"thought\", \"eyes\", \"way\", \"soon\", \"long\", \"father\", \"day\", \"house\", \"transitory\", \"lloyd\", \"stile\", \"jacket\", \"healed\", \"yorke\", \"bessie\", \"bedclothes\", \"ghosts\", \"infirm\", \"aching\", \"sophie\", \"queen\", \"silken\", \"waft\", \"cherry\", \"butcher\", \"tractable\", \"vicinage\", \"spiteful\", \"ankle\", \"leafless\", \"achieve\", \"withered\", \"betook\", \"gateshead\", \"reed\", \"banker\", \"insuperable\", \"porter\", \"nursery\", \"eliza\", \"roll\", \"georgiana\", \"missis\", \"nurse\", \"veil\", \"beggar\", \"died\", \"lane\", \"terror\", \"hall\", \"leah\", \"stopped\", \"old\", \"child\", \"like\", \"dark\", \"sir\", \"shall\", \"village\", \"mother\", \"maid\", \"eyes\", \"door\", \"little\", \"jane\", \"room\", \"house\", \"head\", \"face\", \"woman\", \"look\", \"half\", \"thought\", \"voice\", \"saw\", \"come\", \"think\", \"heart\", \"soon\", \"day\", \"good\", \"long\", \"night\", \"came\", \"liberated\", \"anglaise\", \"zelie\", \"paletot\", \"reflex\", \"bark\", \"assez\", \"morbid\", \"amateur\", \"bee\", \"collation\", \"pierre\", \"grimaces\", \"soit\", \"harass\", \"sneered\", \"heap\", \"remnant\", \"solution\", \"ascribe\", \"non\", \"passages\", \"troop\", \"masculine\", \"watering\", \"jeunes\", \"humming\", \"fancies\", \"bouquet\", \"oil\", \"elle\", \"grec\", \"paul\", \"emanuel\", \"classe\", \"ce\", \"la\", \"les\", \"pas\", \"qu\", \"est\", \"sharp\", \"desk\", \"monsieur\", \"et\", \"je\", \"play\", \"day\", \"garden\", \"work\", \"door\", \"little\", \"man\", \"night\", \"best\", \"good\", \"took\", \"know\", \"thought\", \"like\", \"came\", \"long\", \"half\", \"gave\", \"evening\", \"hand\", \"yes\", \"time\", \"heart\", \"went\", \"hour\", \"looked\", \"moment\", \"spectre\", \"phantom\", \"festal\", \"terrified\", \"glaring\", \"dubious\", \"refreshing\", \"tests\", \"pinions\", \"scream\", \"comely\", \"waiter\", \"culture\", \"dimness\", \"tolled\", \"burghers\", \"fretted\", \"hues\", \"column\", \"purchases\", \"delicious\", \"globe\", \"ink\", \"eternity\", \"swift\", \"overhead\", \"delays\", \"fought\", \"rear\", \"famished\", \"bank\", \"bolted\", \"vandenhuten\", \"grande\", \"built\", \"alley\", \"nun\", \"winding\", \"hunsden\", \"dormitory\", \"hannah\", \"moon\", \"old\", \"anticipation\", \"desk\", \"night\", \"park\", \"midnight\", \"st\", \"sound\", \"strange\", \"wood\", \"madame\", \"white\", \"door\", \"come\", \"long\", \"hand\", \"heard\", \"thought\", \"moment\", \"time\", \"saw\", \"close\", \"suddenly\", \"far\", \"hour\", \"seen\", \"way\", \"like\", \"question\", \"think\", \"present\", \"felt\", \"little\", \"left\", \"day\", \"looked\", \"pleasure\", \"crafty\", \"saint\", \"soup\", \"romanism\", \"dessert\", \"chide\", \"magi\", \"sprain\", \"coveted\", \"portfolio\", \"imprint\", \"petit\", \"holy\", \"fluttering\", \"etre\", \"peut\", \"purport\", \"reproofs\", \"rome\", \"protestants\", \"transparent\", \"dans\", \"quiescence\", \"shutting\", \"sustenance\", \"rays\", \"peu\", \"doctrines\", \"chicken\", \"shrine\", \"silas\", \"spiritual\", \"pere\", \"cela\", \"adele\", \"jewels\", \"cholmondeley\", \"fish\", \"du\", \"eyebrows\", \"church\", \"monsieur\", \"pelet\", \"director\", \"rochester\", \"et\", \"mademoiselle\", \"fairfax\", \"il\", \"est\", \"ginevra\", \"away\", \"course\", \"old\", \"little\", \"emanuel\", \"vous\", \"thought\", \"things\", \"felt\", \"know\", \"think\", \"good\", \"long\", \"strange\", \"day\", \"like\", \"character\", \"heart\", \"went\", \"madame\", \"miss\", \"room\", \"come\", \"unwholesome\", \"boiled\", \"maker\", \"imposing\", \"eggs\", \"connexions\", \"wrench\", \"trample\", \"stoop\", \"minor\", \"supplanted\", \"injurious\", \"caprices\", \"despotism\", \"merriment\", \"appreciating\", \"sarcastic\", \"conformity\", \"suns\", \"basis\", \"hardness\", \"elevation\", \"cows\", \"divisions\", \"privileges\", \"inexpressibly\", \"exclusively\", \"wilfully\", \"discuss\", \"imperfection\", \"designs\", \"martins\", \"union\", \"compared\", \"hospitality\", \"mortifying\", \"scorn\", \"harriet\", \"apple\", \"smith\", \"vital\", \"unequal\", \"endeavour\", \"martin\", \"claims\", \"topic\", \"knightley\", \"goddard\", \"humble\", \"attachment\", \"loved\", \"sink\", \"capacity\", \"man\", \"having\", \"known\", \"heart\", \"mind\", \"body\", \"far\", \"wife\", \"long\", \"want\", \"emma\", \"thing\", \"time\", \"saw\", \"marrying\", \"girl\", \"looked\", \"little\", \"dear\", \"think\", \"feelings\", \"miss\", \"scent\", \"hospital\", \"ann\", \"laden\", \"fence\", \"quickening\", \"fog\", \"borders\", \"shorn\", \"handful\", \"fervid\", \"infection\", \"blossoms\", \"humming\", \"meets\", \"peak\", \"eventide\", \"unnumbered\", \"herbs\", \"attorney\", \"flowery\", \"flown\", \"spots\", \"albion\", \"skies\", \"typhus\", \"midsummer\", \"scrutinised\", \"enclosure\", \"italian\", \"cherish\", \"dew\", \"fragrance\", \"lowood\", \"helen\", \"wood\", \"sweetest\", \"enjoyed\", \"plant\", \"fruit\", \"plants\", \"burns\", \"cigar\", \"sunny\", \"trees\", \"hay\", \"moon\", \"gay\", \"liked\", \"garden\", \"pure\", \"fully\", \"flowers\", \"look\", \"rochester\", \"rising\", \"long\", \"seat\", \"step\", \"high\", \"filled\", \"like\", \"time\", \"pleasant\", \"half\", \"rest\", \"gone\", \"large\", \"got\", \"away\"], \"Total\": [511.0, 853.0, 656.0, 620.0, 542.0, 381.0, 938.0, 367.0, 394.0, 1714.0, 1512.0, 315.0, 1333.0, 932.0, 434.0, 381.0, 1306.0, 900.0, 295.0, 417.0, 604.0, 273.0, 782.0, 624.0, 478.0, 651.0, 1303.0, 372.0, 1141.0, 572.0, 17.361814498901367, 11.192846298217773, 9.135315895080566, 17.29100799560547, 9.128137588500977, 15.256165504455566, 9.11983871459961, 8.104157447814941, 9.126046180725098, 8.102313995361328, 8.102937698364258, 9.116744041442871, 9.11447811126709, 8.098258018493652, 15.063920021057129, 11.174330711364746, 7.072197437286377, 16.251317977905273, 8.090850830078125, 7.067084789276123, 8.078680038452148, 14.202848434448242, 8.069036483764648, 7.061413764953613, 7.0688157081604, 11.15888786315918, 8.088695526123047, 10.111917495727539, 15.023773193359375, 15.072543144226074, 21.369579315185547, 78.84596252441406, 13.989964485168457, 22.29534912109375, 417.103271484375, 24.364572525024414, 10.133156776428223, 25.951555252075195, 31.172231674194336, 41.695518493652344, 27.343523025512695, 163.49722290039062, 38.99950408935547, 166.3072052001953, 66.43436431884766, 31.18059539794922, 233.45355224609375, 197.79544067382812, 42.8104362487793, 38.549781799316406, 62.44480895996094, 65.36498260498047, 83.71427917480469, 99.17530822753906, 108.12686157226562, 250.97842407226562, 505.1719970703125, 180.29006958007812, 401.8985290527344, 156.21087646484375, 236.9701690673828, 236.3512725830078, 132.65780639648438, 1333.4576416015625, 229.34417724609375, 309.6627197265625, 107.37911224365234, 620.690185546875, 183.63037109375, 326.840087890625, 184.55291748046875, 700.561279296875, 627.5242309570312, 624.801025390625, 638.5895385742188, 398.67279052734375, 1714.515380859375, 536.409423828125, 1141.798828125, 771.4955444335938, 1053.3106689453125, 495.9573669433594, 1353.766845703125, 663.5125732421875, 1306.822509765625, 651.9276123046875, 586.5606689453125, 932.5281372070312, 547.7026977539062, 749.3034057617188, 1427.6839599609375, 478.19085693359375, 639.9239501953125, 882.24951171875, 830.418212890625, 61.10551071166992, 23.597217559814453, 31.48284149169922, 44.328853607177734, 149.03958129882812, 51.21598434448242, 381.4107971191406, 79.81443786621094, 31.295310974121094, 17.674835205078125, 13.730113983154297, 17.674467086791992, 13.727015495300293, 13.723265647888184, 11.754264831542969, 49.269466400146484, 11.749168395996094, 9.780390739440918, 14.69717788696289, 309.5326232910156, 19.627504348754883, 8.788888931274414, 68.2457275390625, 7.803650856018066, 10.755695343017578, 12.735759735107422, 26.566776275634766, 22.592472076416016, 7.800844192504883, 11.743526458740234, 434.0659484863281, 381.3392028808594, 158.67066955566406, 853.0899047851562, 57.7676887512207, 23.532268524169922, 89.51632690429688, 220.9922637939453, 32.49068069458008, 235.573974609375, 124.05082702636719, 511.1302795410156, 372.51092529296875, 145.5691375732422, 274.706787109375, 40.275794982910156, 111.47046661376953, 782.479736328125, 1512.2073974609375, 584.0383911132812, 1353.766845703125, 557.5106201171875, 1303.85546875, 938.4695434570312, 1427.6839599609375, 817.5647583007812, 1714.515380859375, 612.6945190429688, 661.16259765625, 925.1300659179688, 509.0993957519531, 1333.4576416015625, 900.1259765625, 1306.822509765625, 1141.798828125, 917.6832885742188, 830.418212890625, 1053.3106689453125, 542.5612182617188, 656.5056762695312, 220.99412536621094, 207.6125030517578, 125.29430389404297, 242.0655059814453, 98.51885223388672, 74.59544372558594, 138.67921447753906, 86.08992004394531, 35.346778869628906, 37.260963439941406, 51.63825988769531, 46.82961654663086, 29.606435775756836, 29.59722900390625, 26.737855911254883, 25.79399871826172, 19.077417373657227, 17.163278579711914, 16.2091064453125, 16.207223892211914, 18.10523223876953, 15.254798889160156, 35.22862243652344, 11.42324161529541, 10.464454650878906, 9.511313438415527, 8.548245429992676, 9.515253067016602, 307.64813232421875, 83.1189956665039, 299.2176818847656, 572.2574462890625, 368.6581726074219, 656.4375, 113.65180206298828, 627.5242309570312, 782.479736328125, 235.33718872070312, 1306.822509765625, 749.3034057617188, 1427.6839599609375, 917.6832885742188, 612.9464721679688, 1303.85546875, 612.6945190429688, 1512.2073974609375, 817.5647583007812, 1353.766845703125, 345.2474060058594, 1053.3106689453125, 584.0383911132812, 604.089599609375, 1714.515380859375, 925.1300659179688, 900.1259765625, 882.24951171875, 7.877068996429443, 7.8769683837890625, 9.86971378326416, 5.880391597747803, 5.87876558303833, 5.880209922790527, 5.887001991271973, 11.791369438171387, 7.897765159606934, 9.888284683227539, 9.81643009185791, 8.756182670593262, 8.862231254577637, 7.694527626037598, 30.24271011352539, 7.861283302307129, 7.758174419403076, 5.872433185577393, 7.750223159790039, 6.758392810821533, 6.770892143249512, 25.167875289916992, 20.586612701416016, 7.7735514640808105, 10.704764366149902, 9.116739273071289, 5.842040538787842, 5.841649532318115, 7.919294357299805, 9.941451072692871, 222.48556518554688, 40.133323669433594, 18.707799911499023, 36.1887092590332, 14.587443351745605, 236.48931884765625, 20.088459014892578, 124.17638397216797, 50.395164489746094, 17.97517204284668, 74.36068725585938, 77.0936050415039, 125.01348876953125, 223.1850128173828, 41.90309524536133, 536.409423828125, 85.42261505126953, 236.3512725830078, 27.36949348449707, 75.68333435058594, 55.01633071899414, 882.24951171875, 57.18777847290039, 296.2038879394531, 106.2748794555664, 229.34417724609375, 326.840087890625, 108.71978759765625, 932.5281372070312, 417.103271484375, 1714.515380859375, 493.85400390625, 1141.798828125, 620.690185546875, 624.801025390625, 194.97703552246094, 309.6627197265625, 1333.4576416015625, 623.4193725585938, 749.3034057617188, 830.418212890625, 687.384521484375, 355.6332702636719, 533.8140258789062, 700.561279296875, 1306.822509765625, 638.5895385742188, 547.7026977539062, 1053.3106689453125, 1512.2073974609375, 627.5242309570312, 771.4955444335938, 1303.85546875, 63.020912170410156, 16.19952964782715, 11.084836959838867, 7.008990287780762, 15.085081100463867, 5.996283531188965, 367.6809997558594, 7.945231914520264, 16.06879997253418, 8.022368431091309, 91.7320785522461, 11.874570846557617, 5.98136568069458, 7.871974945068359, 18.064414978027344, 9.541828155517578, 10.94565200805664, 20.642858505249023, 5.897548675537109, 6.971549987792969, 5.8685503005981445, 136.06752014160156, 8.57628059387207, 6.003162384033203, 8.95663833618164, 21.31459617614746, 18.99390983581543, 5.939659118652344, 6.6583123207092285, 5.8376641273498535, 102.56659698486328, 32.952911376953125, 23.92852020263672, 99.77497863769531, 30.20700454711914, 13.034927368164062, 604.089599609375, 30.485807418823242, 19.034664154052734, 14.939288139343262, 938.4695434570312, 150.0667724609375, 572.9686889648438, 231.09878540039062, 91.32290649414062, 624.801025390625, 599.4385986328125, 63.30854415893555, 52.40315628051758, 204.45956420898438, 279.1343994140625, 925.1300659179688, 651.9276123046875, 505.1719970703125, 1427.6839599609375, 1333.4576416015625, 1141.798828125, 586.5606689453125, 623.4193725585938, 372.51092529296875, 830.418212890625, 398.67279052734375, 638.5895385742188, 1303.85546875, 406.0061950683594, 700.561279296875, 900.1259765625, 1353.766845703125, 1714.515380859375, 620.690185546875, 1306.822509765625, 639.9239501953125, 932.5281372070312, 1053.3106689453125, 1512.2073974609375, 73.1555404663086, 315.36865234375, 14.564957618713379, 174.77310180664062, 95.5936508178711, 86.86936950683594, 68.88429260253906, 9.689237594604492, 56.059844970703125, 168.0034637451172, 10.578986167907715, 5.754701614379883, 24.377532958984375, 31.815288543701172, 7.523609638214111, 71.5232162475586, 24.972551345825195, 126.08621215820312, 38.39604949951172, 295.65594482421875, 26.453014373779297, 39.094791412353516, 9.562270164489746, 6.680377006530762, 6.647960186004639, 5.760301113128662, 26.297807693481445, 620.7679443359375, 7.601700305938721, 109.84087371826172, 30.453115463256836, 13.615869522094727, 40.479591369628906, 53.63201141357422, 188.9097442626953, 106.74308776855469, 938.4695434570312, 394.8021545410156, 91.92503356933594, 584.0383911132812, 185.14053344726562, 270.91632080078125, 375.18096923828125, 572.2574462890625, 656.4375, 612.9464721679688, 917.6832885742188, 925.1300659179688, 1512.2073974609375, 1427.6839599609375, 1353.766845703125, 177.38275146484375, 509.0993957519531, 1306.822509765625, 1303.85546875, 1053.3106689453125, 661.16259765625, 673.06396484375, 900.1259765625, 1714.515380859375, 830.418212890625, 5.861676216125488, 5.859831809997559, 5.8621745109558105, 8.463553428649902, 9.79235553741455, 6.815473556518555, 12.673455238342285, 7.747629642486572, 12.685760498046875, 6.775278568267822, 6.738428115844727, 6.880614280700684, 9.78475570678711, 5.896366596221924, 5.8212890625, 7.473354339599609, 13.705604553222656, 11.689502716064453, 5.7702412605285645, 8.781473159790039, 15.638718605041504, 6.8367815017700195, 5.838738918304443, 7.8176984786987305, 22.657548904418945, 20.704784393310547, 6.915103912353516, 9.735764503479004, 15.650629043579102, 6.632029056549072, 13.503791809082031, 62.44937515258789, 27.385921478271484, 22.60614585876465, 511.1302795410156, 16.43889808654785, 379.2044372558594, 35.17658996582031, 83.31449890136719, 118.40104675292969, 120.13111877441406, 188.9097442626953, 65.83726501464844, 40.19581985473633, 426.8377380371094, 38.49909591674805, 113.65180206298828, 259.2545166015625, 137.82989501953125, 509.0993957519531, 274.8000183105469, 206.53050231933594, 100.78730010986328, 434.08441162109375, 507.5, 230.36216735839844, 853.0899047851562, 535.7365112304688, 188.3300323486328, 183.36166381835938, 158.34042358398438, 1303.85546875, 394.8021545410156, 279.66558837890625, 172.984375, 663.5125732421875, 270.7141418457031, 455.1284484863281, 900.1259765625, 1306.822509765625, 572.2574462890625, 917.6832885742188, 572.9686889648438, 572.225830078125, 1427.6839599609375, 1353.766845703125, 385.18853759765625, 1714.515380859375, 1141.798828125, 412.7018737792969, 817.5647583007812, 518.8847045898438, 651.9276123046875, 932.5281372070312, 938.4695434570312, 1512.2073974609375, 8.534072875976562, 23.74431800842285, 6.622641086578369, 6.62974739074707, 5.670410633087158, 5.6705121994018555, 6.63588809967041, 8.45563793182373, 7.645996570587158, 7.557117938995361, 7.397374153137207, 12.446557998657227, 5.3463521003723145, 6.6463093757629395, 7.6621012687683105, 6.472540378570557, 5.490728855133057, 5.701478958129883, 11.58877944946289, 6.676052093505859, 8.378266334533691, 5.7023186683654785, 5.671207904815674, 5.711683750152588, 5.629776954650879, 9.318227767944336, 5.692286968231201, 5.710615158081055, 7.570687770843506, 6.675717353820801, 27.592039108276367, 273.98272705078125, 54.99843978881836, 12.395841598510742, 7.6788740158081055, 115.94635009765625, 11.542734146118164, 23.047990798950195, 23.35918617248535, 28.352285385131836, 113.41950225830078, 19.406221389770508, 38.14968490600586, 115.81952667236328, 117.76297760009766, 70.05487060546875, 78.63813018798828, 31.310924530029297, 62.29008865356445, 84.21475219726562, 107.00204467773438, 1714.515380859375, 1333.4576416015625, 108.12686157226562, 180.29006958007812, 37.00263595581055, 104.28646087646484, 102.96404266357422, 638.5895385742188, 126.93328857421875, 170.467041015625, 586.5606689453125, 1053.3106689453125, 620.690185546875, 355.6332702636719, 250.97842407226562, 932.5281372070312, 1427.6839599609375, 651.9276123046875, 900.1259765625, 586.7178344726562, 1141.798828125, 925.1300659179688, 1303.85546875, 1306.822509765625, 624.801025390625, 673.06396484375, 493.85400390625, 771.4955444335938, 1353.766845703125, 686.702392578125, 535.7365112304688, 687.384521484375, 700.561279296875, 1512.2073974609375, 7.312450885772705, 7.327633380889893, 14.860809326171875, 7.376111030578613, 6.514056205749512, 5.580928325653076, 50.52216339111328, 34.52914810180664, 7.276825428009033, 5.564450263977051, 7.480710506439209, 6.555953025817871, 7.475558280944824, 7.593306541442871, 8.263021469116211, 8.779889106750488, 5.577455997467041, 5.639906406402588, 394.8021545410156, 5.580855369567871, 47.242767333984375, 5.5479960441589355, 9.454244613647461, 77.0936050415039, 30.300392150878906, 9.411261558532715, 5.59991455078125, 35.17658996582031, 7.438329696655273, 6.632762432098389, 167.66098022460938, 9.225961685180664, 72.31095123291016, 12.251150131225586, 14.94638729095459, 236.48931884765625, 620.7679443359375, 91.92503356933594, 81.83596801757812, 35.81863021850586, 295.65594482421875, 87.35665130615234, 76.42918395996094, 82.92679595947266, 1512.2073974609375, 58.119136810302734, 612.9464721679688, 360.2762756347656, 222.48556518554688, 188.9097442626953, 140.10284423828125, 126.08621215820312, 882.24951171875, 263.5560607910156, 1714.515380859375, 1427.6839599609375, 248.85946655273438, 817.5647583007812, 441.5370788574219, 771.4955444335938, 214.75274658203125, 1303.85546875, 490.13970947265625, 1333.4576416015625, 1306.822509765625, 700.561279296875, 639.9239501953125, 1353.766845703125, 1141.798828125, 638.5895385742188, 686.702392578125, 917.6832885742188, 932.5281372070312, 509.0993957519531, 1053.3106689453125, 749.3034057617188, 6.422470569610596, 11.945717811584473, 13.900192260742188, 5.370995044708252, 5.534994125366211, 13.035798072814941, 124.17638397216797, 5.501049995422363, 5.453769207000732, 5.49221134185791, 5.431005477905273, 26.701223373413086, 23.748987197875977, 5.603521347045898, 5.674846172332764, 6.264358997344971, 6.521620750427246, 6.460021018981934, 8.28636646270752, 6.439834117889404, 5.522112846374512, 5.568710803985596, 6.536964416503906, 6.630075454711914, 5.527586936950684, 41.90309524536133, 125.01348876953125, 5.642050743103027, 6.644232273101807, 12.282301902770996, 44.11333465576172, 57.02171325683594, 17.969173431396484, 57.80024719238281, 20.088459014892578, 56.00116729736328, 38.56767654418945, 17.582273483276367, 62.73357009887695, 47.32164764404297, 38.29143524169922, 174.05368041992188, 27.27035140991211, 100.89996337890625, 478.19085693359375, 296.2038879394531, 1333.4576416015625, 229.34417724609375, 604.089599609375, 925.1300659179688, 38.60741424560547, 656.4375, 41.908695220947266, 638.5895385742188, 536.409423828125, 1714.515380859375, 938.4695434570312, 882.24951171875, 749.3034057617188, 411.0602111816406, 505.1719970703125, 470.0317687988281, 639.9239501953125, 586.7178344726562, 1141.798828125, 398.67279052734375, 771.4955444335938, 830.418212890625, 1303.85546875, 651.9276123046875, 917.6832885742188, 1053.3106689453125, 1353.766845703125, 932.5281372070312, 624.801025390625, 687.384521484375, 6.320032596588135, 8.044639587402344, 16.20420265197754, 18.899438858032227, 6.409655570983887, 11.994402885437012, 6.354184150695801, 6.1635355949401855, 6.425717830657959, 7.3408637046813965, 6.353639602661133, 29.6453857421875, 5.563920974731445, 9.130796432495117, 5.276916980743408, 6.428983211517334, 5.505422115325928, 7.355502128601074, 7.209530353546143, 5.584646224975586, 8.403881072998047, 13.389670372009277, 8.203377723693848, 9.38509464263916, 8.311403274536133, 11.259881973266602, 5.254766464233398, 6.431119441986084, 12.719037055969238, 7.34955358505249, 24.91724395751953, 13.555204391479492, 180.29006958007812, 104.28646087646484, 61.84812927246094, 50.491249084472656, 102.96404266357422, 37.890560150146484, 59.103912353515625, 30.584510803222656, 107.00204467773438, 48.0786247253418, 102.03257751464844, 273.98272705078125, 84.21475219726562, 70.05487060546875, 101.0923843383789, 1053.3106689453125, 170.467041015625, 255.1537628173828, 536.409423828125, 1714.515380859375, 900.1259765625, 624.801025390625, 327.63330078125, 1353.766845703125, 495.9573669433594, 1427.6839599609375, 1141.798828125, 1333.4576416015625, 687.384521484375, 932.5281372070312, 586.7178344726562, 391.506103515625, 482.6346130371094, 620.690185546875, 599.4385986328125, 1306.822509765625, 651.9276123046875, 493.85400390625, 432.93939208984375, 700.561279296875, 573.2722778320312, 6.980440616607666, 5.391872406005859, 6.3234052658081055, 6.426450729370117, 6.446086406707764, 5.427951812744141, 8.098044395446777, 5.434656620025635, 5.60305118560791, 5.55324125289917, 6.475191593170166, 12.70086669921875, 5.4461669921875, 8.366097450256348, 6.331104755401611, 6.479672908782959, 6.406243324279785, 6.337900161743164, 6.525274276733398, 6.48211145401001, 9.264632225036621, 6.609287738800049, 9.95365047454834, 10.224903106689453, 10.25939655303955, 10.299323081970215, 6.459731578826904, 7.204278945922852, 7.3907928466796875, 7.2960734367370605, 14.530031204223633, 8.479119300842285, 20.866060256958008, 8.971969604492188, 19.55034065246582, 27.341835021972656, 43.41365432739258, 12.642244338989258, 145.5691375732422, 34.31245803833008, 41.695518493652344, 73.91815185546875, 478.19085693359375, 16.75396728515625, 102.03257751464844, 624.801025390625, 119.44159698486328, 30.244897842407227, 197.79544067382812, 158.24266052246094, 252.1035614013672, 72.14269256591797, 417.103271484375, 236.9701690673828, 536.409423828125, 830.418212890625, 932.5281372070312, 620.690185546875, 623.4193725585938, 1141.798828125, 573.2722778320312, 1306.822509765625, 771.4955444335938, 195.54574584960938, 123.05413055419922, 459.99969482421875, 432.93939208984375, 441.5370788574219, 686.702392578125, 1333.4576416015625, 201.13983154296875, 1303.85546875, 412.7018737792969, 663.5125732421875, 1714.515380859375, 533.8140258789062, 1053.3106689453125, 700.561279296875, 445.154296875, 8.086015701293945, 11.431692123413086, 6.976480960845947, 5.394176483154297, 5.380642890930176, 5.352986812591553, 5.535847187042236, 5.413644313812256, 5.53659725189209, 8.33061408996582, 5.464587688446045, 5.422111988067627, 13.135215759277344, 6.420743465423584, 6.574642658233643, 6.5623321533203125, 6.4813432693481445, 7.034477710723877, 20.523265838623047, 7.075515270233154, 6.56941032409668, 11.083770751953125, 7.587741374969482, 6.441127777099609, 7.628805160522461, 5.363205432891846, 12.19064998626709, 8.464815139770508, 8.178112030029297, 8.579814910888672, 35.8719482421875, 12.939838409423828, 38.95047378540039, 18.525348663330078, 136.06752014160156, 19.944843292236328, 21.97911834716797, 13.831252098083496, 19.132606506347656, 22.192243576049805, 116.6020278930664, 273.98272705078125, 108.12686157226562, 14.951460838317871, 367.6809997558594, 84.21475219726562, 117.76297760009766, 372.51092529296875, 42.888431549072266, 107.00204467773438, 108.80526733398438, 673.06396484375, 346.02069091796875, 478.19085693359375, 1714.515380859375, 104.28646087646484, 115.81952667236328, 1141.798828125, 287.80615234375, 663.5125732421875, 1427.6839599609375, 1303.85546875, 1353.766845703125, 932.5281372070312, 252.1035614013672, 1053.3106689453125, 1333.4576416015625, 290.8248596191406, 651.9276123046875, 493.85400390625, 417.103271484375, 1512.2073974609375, 882.24951171875, 830.418212890625, 7.685786247253418, 8.983024597167969, 9.124552726745605, 9.72025203704834, 9.861513137817383, 10.040755271911621, 5.309170722961426, 5.420240879058838, 5.400998115539551, 5.323955535888672, 5.4368109703063965, 5.44703483581543, 5.4338884353637695, 5.307862758636475, 5.489990711212158, 5.535595893859863, 10.962158203125, 5.443169593811035, 6.187408447265625, 6.2435150146484375, 6.32007360458374, 6.35651159286499, 6.2352375984191895, 6.263005256652832, 6.313066005706787, 6.358631610870361, 6.418039798736572, 6.524847984313965, 6.451708793640137, 6.436334133148193, 12.811874389648438, 13.037068367004395, 40.462799072265625, 33.4919319152832, 14.804730415344238, 15.836443901062012, 44.118927001953125, 511.1302795410156, 16.64580726623535, 111.47046661376953, 17.041475296020508, 17.661184310913086, 54.10885238647461, 83.31449890136719, 38.49909591674805, 17.616655349731445, 381.3392028808594, 57.7676887512207, 40.51237869262695, 120.13111877441406, 130.9541015625, 21.69069480895996, 21.70219612121582, 900.1259765625, 535.7365112304688, 271.5242004394531, 651.9276123046875, 572.225830078125, 274.706787109375, 459.99969482421875, 279.1343994140625, 932.5281372070312, 325.42266845703125, 853.0899047851562, 782.479736328125, 1306.822509765625, 771.4955444335938, 71.07664489746094, 305.4566650390625, 700.561279296875, 1714.515380859375, 584.0383911132812, 1303.85546875, 379.2044372558594, 1512.2073974609375, 6.618994235992432, 6.562058925628662, 6.958505630493164, 6.028867244720459, 6.156406879425049, 6.294538974761963, 8.957172393798828, 9.116739273071289, 4.981655597686768, 6.755753517150879, 5.171369552612305, 9.891422271728516, 5.198779582977295, 5.254766464233398, 5.243934631347656, 5.334067344665527, 5.372250556945801, 5.306640148162842, 5.421017169952393, 5.336858749389648, 5.3463521003723145, 5.500014305114746, 5.414103984832764, 5.616882801055908, 5.602499008178711, 6.400810718536377, 11.112048149108887, 5.489373207092285, 6.099264144897461, 11.694080352783203, 12.141705513000488, 29.122039794921875, 14.07501220703125, 53.6291389465332, 60.557029724121094, 72.14269256591797, 15.939340591430664, 32.33234405517578, 13.324583053588867, 42.66043472290039, 18.491838455200195, 31.354446411132812, 22.107349395751953, 17.167133331298828, 108.71978759765625, 23.721786499023438, 73.91815185546875, 64.15782928466797, 192.49984741210938, 170.467041015625, 68.29410552978516, 66.42245483398438, 87.14354705810547, 639.9239501953125, 367.6809997558594, 87.15972900390625, 932.5281372070312, 142.5283203125, 165.0270233154297, 191.6356658935547, 104.25630187988281, 1333.4576416015625, 1306.822509765625, 191.2771759033203, 586.7178344726562, 273.45611572265625, 343.5003356933594, 266.874267578125, 287.3729553222656, 673.06396484375], \"loglift\": [30.0, 29.0, 28.0, 27.0, 26.0, 25.0, 24.0, 23.0, 22.0, 21.0, 20.0, 19.0, 18.0, 17.0, 16.0, 15.0, 14.0, 13.0, 12.0, 11.0, 10.0, 9.0, 8.0, 7.0, 6.0, 5.0, 4.0, 3.0, 2.0, 1.0, 1.5291999578475952, 1.5119999647140503, 1.4951000213623047, 1.4919999837875366, 1.4851000308990479, 1.4850000143051147, 1.481600046157837, 1.4801000356674194, 1.4800000190734863, 1.4745999574661255, 1.4731999635696411, 1.4729000329971313, 1.4711999893188477, 1.465399980545044, 1.4652999639511108, 1.4629000425338745, 1.4615999460220337, 1.4592000246047974, 1.4575999975204468, 1.45169997215271, 1.4509999752044678, 1.4494999647140503, 1.4493000507354736, 1.4491000175476074, 1.4478000402450562, 1.4474999904632568, 1.4453999996185303, 1.445199966430664, 1.445099949836731, 1.441100001335144, 1.409999966621399, 1.3526999950408936, 1.420199990272522, 1.3905999660491943, 1.181399941444397, 1.374400019645691, 1.433500051498413, 1.3553999662399292, 1.3381999731063843, 1.3056999444961548, 1.345900058746338, 1.1572999954223633, 1.2975000143051147, 1.1088999509811401, 1.223099946975708, 1.315600037574768, 1.05239999294281, 1.067199945449829, 1.267199993133545, 1.267899990081787, 1.1897000074386597, 1.1734000444412231, 1.1302000284194946, 1.0778000354766846, 1.0413000583648682, 0.8371999859809875, 0.6794000267982483, 0.9007999897003174, 0.7156000137329102, 0.9300000071525574, 0.8224999904632568, 0.7958999872207642, 0.9435999989509583, 0.3409999907016754, 0.77920001745224, 0.6927000284194946, 0.980400025844574, 0.4544000029563904, 0.8034999966621399, 0.6115999817848206, 0.7904000282287598, 0.34769999980926514, 0.3716999888420105, 0.37310001254081726, 0.3499000072479248, 0.5095000267028809, -0.0877000018954277, 0.326200008392334, -0.012000000104308128, 0.15860000252723694, 0.009399999864399433, 0.3513999879360199, -0.1266999989748001, 0.2070000022649765, -0.1421000063419342, 0.2092999964952469, 0.2563000023365021, -0.026100000366568565, 0.27059999108314514, 0.043699998408555984, -0.4458000063896179, 0.3456000089645386, 0.12409999966621399, -0.1762000024318695, -0.1412000060081482, 1.8372999429702759, 1.8208999633789062, 1.819200038909912, 1.8173999786376953, 1.817199945449829, 1.8118000030517578, 1.8108999729156494, 1.8106000423431396, 1.8072999715805054, 1.8063000440597534, 1.794100046157837, 1.7934000492095947, 1.7904000282287598, 1.7836999893188477, 1.783400058746338, 1.7833000421524048, 1.778499960899353, 1.770799994468689, 1.7698999643325806, 1.7653000354766846, 1.7591999769210815, 1.7541999816894531, 1.7520999908447266, 1.7461999654769897, 1.745300054550171, 1.742400050163269, 1.7407000064849854, 1.7367000579833984, 1.7367000579833984, 1.7343000173568726, 1.7309000492095947, 1.7297999858856201, 1.7037999629974365, 1.667099952697754, 1.7065000534057617, 1.728600025177002, 1.6505000591278076, 1.5858999490737915, 1.7051000595092773, 1.5382000207901, 1.5703999996185303, 1.3942999839782715, 1.4035999774932861, 1.4910000562667847, 1.3726999759674072, 1.6536999940872192, 1.4631999731063843, 1.0893000364303589, 0.9460999965667725, 0.8474000096321106, 0.5426999926567078, 0.7962999939918518, 0.5127000212669373, 0.6133999824523926, 0.4375999867916107, 0.6215000152587891, 0.2800999879837036, 0.635699987411499, 0.5618000030517578, 0.36739999055862427, 0.6769000291824341, 0.14159999787807465, 0.3278999924659729, 0.0689999982714653, 0.13429999351501465, 0.24619999527931213, 0.31040000915527344, 0.05510000139474869, 2.0348000526428223, 2.0343000888824463, 2.0322000980377197, 2.031599998474121, 2.0292999744415283, 2.0290000438690186, 2.0276999473571777, 2.0274999141693115, 2.0271999835968018, 2.024600028991699, 2.014699935913086, 2.014400005340576, 2.01419997215271, 2.013700008392334, 2.005000114440918, 2.005000114440918, 2.0039000511169434, 1.9931000471115112, 1.9925999641418457, 1.9891999959945679, 1.986899971961975, 1.982800006866455, 1.9771000146865845, 1.976199984550476, 1.965000033378601, 1.9595999717712402, 1.9500000476837158, 1.9387999773025513, 1.9322999715805054, 1.926900029182434, 1.8912999629974365, 1.7414000034332275, 1.482200026512146, 1.3306000232696533, 1.31850004196167, 1.0693999528884888, 1.3244999647140503, 0.714900016784668, 0.5821999907493591, 1.0253000259399414, 0.3133000135421753, 0.5228000283241272, 0.2094999998807907, 0.3984000086784363, 0.5551000237464905, 0.14920000731945038, 0.5202999711036682, 0.05939999967813492, 0.32670000195503235, -0.00139999995008111, 0.7860000133514404, 0.0658000037074089, 0.4174000024795532, 0.3894999921321869, -0.4043999910354614, 0.049400001764297485, 0.04830000177025795, 0.055799998342990875, 2.3691000938415527, 2.365299940109253, 2.344899892807007, 2.3338000774383545, 2.3299999237060547, 2.299799919128418, 2.294800043106079, 2.286799907684326, 2.276599884033203, 2.261199951171875, 2.2572999000549316, 2.2314999103546143, 2.2309999465942383, 2.228300094604492, 2.2251999378204346, 2.2204999923706055, 2.20770001411438, 2.2060000896453857, 2.1974000930786133, 2.1942999362945557, 2.188699960708618, 2.1689999103546143, 2.1642000675201416, 2.14739990234375, 2.1470999717712402, 2.1451001167297363, 2.1387999057769775, 2.1273000240325928, 2.1245999336242676, 2.11929988861084, 2.0406999588012695, 2.074199914932251, 2.091099977493286, 2.0329999923706055, 2.0927999019622803, 1.7990000247955322, 2.0476999282836914, 1.751099944114685, 1.88100004196167, 2.0339999198913574, 1.7466000318527222, 1.7244000434875488, 1.6024999618530273, 1.3969000577926636, 1.8147000074386597, 1.173699975013733, 1.607200026512146, 1.291200041770935, 1.8995000123977661, 1.5928000211715698, 1.687000036239624, 0.8011999726295471, 1.6555999517440796, 1.076799988746643, 1.426300048828125, 1.1510000228881836, 1.014299988746643, 1.4006999731063843, 0.5857999920845032, 0.8830000162124634, 0.2540999948978424, 0.7556999921798706, 0.4027999937534332, 0.6208999752998352, 0.5986999869346619, 1.1181000471115112, 0.9003999829292297, 0.1745000034570694, 0.5091999769210815, 0.39239999651908875, 0.3237000107765198, 0.4016000032424927, 0.7664999961853027, 0.517799973487854, 0.352400004863739, -0.10639999806880951, 0.31859999895095825, 0.40610000491142273, -0.06210000067949295, -0.390500009059906, 0.29100000858306885, 0.07079999893903732, -0.461899995803833, 2.4670000076293945, 2.441200017929077, 2.389699935913086, 2.349299907684326, 2.330699920654297, 2.3261001110076904, 2.297800064086914, 2.2778000831604004, 2.265199899673462, 2.2569000720977783, 2.2153000831604004, 2.200700044631958, 2.1982998847961426, 2.1967999935150146, 2.187999963760376, 2.1754000186920166, 2.1749000549316406, 2.171099901199341, 2.1598000526428223, 2.136699914932251, 2.1328001022338867, 2.132499933242798, 2.1324000358581543, 2.111799955368042, 2.1050000190734863, 2.1013998985290527, 2.097100019454956, 2.096100091934204, 2.0913000106811523, 2.0785000324249268, 2.0622000694274902, 2.0680999755859375, 2.052999973297119, 1.989799976348877, 2.0134999752044678, 2.071500062942505, 1.6612999439239502, 1.9730000495910645, 1.986799955368042, 2.0322999954223633, 1.235700011253357, 1.4901000261306763, 1.1176999807357788, 1.2884999513626099, 1.5333000421524048, 0.7684000134468079, 0.7448999881744385, 1.5492000579833984, 1.5986000299453735, 1.080399990081787, 0.958899974822998, 0.4832000136375427, 0.6128000020980835, 0.6547999978065491, 0.17170000076293945, 0.18279999494552612, 0.24390000104904175, 0.5307000279426575, 0.4731000065803528, 0.7125999927520752, 0.30329999327659607, 0.6725999712944031, 0.41929998993873596, -0.027899999171495438, 0.6273999810218811, 0.3057999908924103, 0.15680000185966492, -0.09759999811649323, -0.2603999972343445, 0.3707999885082245, -0.1860000044107437, 0.31690001487731934, -0.04540000110864639, -0.2053000032901764, -0.5924000144004822, 2.498699903488159, 2.4967000484466553, 2.4774999618530273, 2.4507999420166016, 2.4495999813079834, 2.438999891281128, 2.4326999187469482, 2.4193999767303467, 2.3524999618530273, 2.348599910736084, 2.3408000469207764, 2.3201000690460205, 2.3155999183654785, 2.3113999366760254, 2.302000045776367, 2.28439998626709, 2.2780001163482666, 2.2704999446868896, 2.268399953842163, 2.2611000537872314, 2.256200075149536, 2.2472000122070312, 2.236599922180176, 2.212899923324585, 2.1714000701904297, 2.1512999534606934, 2.1445000171661377, 2.1180999279022217, 2.1157000064849854, 2.108599901199341, 2.0959999561309814, 2.1045000553131104, 2.031899929046631, 1.979699969291687, 1.788100004196167, 1.8416999578475952, 1.3115999698638916, 1.4046000242233276, 1.7289999723434448, 1.1728999614715576, 1.5094000101089478, 1.3738000392913818, 1.2389999628067017, 1.0891000032424927, 0.9695000052452087, 0.9535999894142151, 0.7213000059127808, 0.6018999814987183, 0.3515999913215637, 0.2782000005245209, 0.26589998602867126, 1.3985999822616577, 0.7854999899864197, 0.21889999508857727, 0.20090000331401825, 0.3109999895095825, 0.6154999732971191, 0.5942999720573425, 0.33079999685287476, -0.23360000550746918, 0.29580000042915344, 2.417099952697754, 2.407900094985962, 2.400099992752075, 2.359100103378296, 2.3475000858306885, 2.3227999210357666, 2.3131000995635986, 2.305999994277954, 2.283799886703491, 2.274199962615967, 2.2739999294281006, 2.2541000843048096, 2.2167000770568848, 2.216200113296509, 2.18149995803833, 2.1786999702453613, 2.17549991607666, 2.169600009918213, 2.1640000343322754, 2.1640000343322754, 2.1350998878479004, 2.1245999336242676, 2.1231000423431396, 2.1185998916625977, 2.116300106048584, 2.1073999404907227, 2.107300043106079, 2.0969998836517334, 2.096100091934204, 2.0715999603271484, 2.061199903488159, 1.9417999982833862, 1.954200029373169, 1.9678000211715698, 1.4628000259399414, 2.0006000995635986, 1.4570000171661377, 1.8687000274658203, 1.7116999626159668, 1.6164000034332275, 1.5953999757766724, 1.492400050163269, 1.7141000032424927, 1.823199987411499, 1.2200000286102295, 1.82669997215271, 1.5307999849319458, 1.2589999437332153, 1.4407000541687012, 1.0353000164031982, 1.1806999444961548, 1.2444000244140625, 1.4711999893188477, 0.964900016784668, 0.8974999785423279, 1.1613999605178833, 0.689300000667572, 0.8457000255584717, 1.2230000495910645, 1.2216999530792236, 1.2785999774932861, 0.4542999863624573, 0.8948000073432922, 1.0151000022888184, 1.2092000246047974, 0.6292999982833862, 1.0139000415802002, 0.7483999729156494, 0.39629998803138733, 0.20839999616146088, 0.5899999737739563, 0.3188000023365021, 0.5758000016212463, 0.545799970626831, -0.07900000363588333, -0.09269999712705612, 0.7476000189781189, -0.32839998602867126, -0.039799999445676804, 0.682200014591217, 0.13950000703334808, 0.49559998512268066, 0.2363000065088272, -0.09740000218153, -0.11100000143051147, -0.5814999938011169, 2.566999912261963, 2.5596001148223877, 2.5476999282836914, 2.5220000743865967, 2.517699956893921, 2.509700059890747, 2.449399948120117, 2.4444000720977783, 2.420799970626831, 2.409600019454956, 2.373300075531006, 2.369800090789795, 2.363800048828125, 2.3496999740600586, 2.34879994392395, 2.3387999534606934, 2.327399969100952, 2.3268001079559326, 2.326200008392334, 2.3125, 2.3089001178741455, 2.3046000003814697, 2.3039000034332275, 2.3017001152038574, 2.301500082015991, 2.2992000579833984, 2.2980000972747803, 2.2946999073028564, 2.291100025177002, 2.281399965286255, 2.2116000652313232, 2.0485000610351562, 2.0506999492645264, 2.201200008392334, 2.263400077819824, 1.8930000066757202, 2.2072999477386475, 2.09879994392395, 2.086699962615967, 2.047499895095825, 1.792099952697754, 2.1066999435424805, 1.955899953842163, 1.7007999420166016, 1.6930999755859375, 1.701300024986267, 1.624899983406067, 1.9072999954223633, 1.6852999925613403, 1.5816999673843384, 1.4728000164031982, 0.4050000011920929, 0.45980000495910645, 1.385200023651123, 1.170699954032898, 1.7690999507904053, 1.3243000507354736, 1.3265000581741333, 0.47130000591278076, 1.2079999446868896, 1.06659996509552, 0.4424999952316284, 0.1509000062942505, 0.38830000162124634, 0.6593000292778015, 0.8292999863624573, 0.08389999717473984, -0.16519999504089355, 0.21950000524520874, 0.011500000022351742, 0.27250000834465027, -0.16369999945163727, -0.03290000185370445, -0.26339998841285706, -0.27059999108314514, 0.21199999749660492, 0.15639999508857727, 0.3610000014305115, 0.04340000078082085, -0.3815999925136566, 0.0430000014603138, 0.22910000383853912, 0.020899999886751175, -0.06040000170469284, -0.8665000200271606, 2.7829999923706055, 2.671799898147583, 2.66129994392395, 2.6428000926971436, 2.5678000450134277, 2.5332999229431152, 2.5208001136779785, 2.5055999755859375, 2.4700000286102295, 2.4697000980377197, 2.4655001163482666, 2.3733999729156494, 2.3513998985290527, 2.3208999633789062, 2.3115999698638916, 2.2927000522613525, 2.254199981689453, 2.252500057220459, 2.2523000240325928, 2.250999927520752, 2.2460999488830566, 2.243499994277954, 2.243299961090088, 2.2318999767303467, 2.2267000675201416, 2.223900079727173, 2.2121999263763428, 2.2095999717712402, 2.2004001140594482, 2.198899984359741, 2.1740000247955322, 2.1839001178741455, 2.0548999309539795, 2.1623001098632812, 2.1429998874664307, 1.8121000528335571, 1.6765999794006348, 1.8492000102996826, 1.8213000297546387, 1.9677000045776367, 1.4092999696731567, 1.6993999481201172, 1.732100009918213, 1.6907000541687012, 0.8709999918937683, 1.7811000347137451, 1.0002000331878662, 1.128999948501587, 1.277500033378601, 1.3241000175476074, 1.42739999294281, 1.4153000116348267, 0.6514999866485596, 1.1241999864578247, 0.29789999127388, 0.2290000021457672, 1.069100022315979, 0.44859999418258667, 0.7426999807357788, 0.39890000224113464, 1.1292999982833862, 0.04899999871850014, 0.635699987411499, 0.013500000350177288, -0.04859999939799309, 0.35580000281333923, 0.4034999907016754, -0.21850000321865082, -0.10350000113248825, 0.33090001344680786, 0.2678999900817871, 0.0024999999441206455, -0.01140000019222498, 0.4643999934196472, -0.19550000131130219, 0.11379999667406082, 3.2172000408172607, 2.995800018310547, 2.9941000938415527, 2.977099895477295, 2.974900007247925, 2.9646999835968018, 2.961899995803833, 2.954699993133545, 2.953200101852417, 2.9047000408172607, 2.8475000858306885, 2.8320999145507812, 2.8304998874664307, 2.8166000843048096, 2.805500030517578, 2.7941999435424805, 2.784600019454956, 2.78410005569458, 2.7685999870300293, 2.765000104904175, 2.740299940109253, 2.7362000942230225, 2.7339999675750732, 2.707900047302246, 2.6723999977111816, 2.6712000370025635, 2.663300037384033, 2.6621999740600586, 2.6275999546051025, 2.609100103378296, 2.577699899673462, 2.4451000690460205, 2.5553998947143555, 2.410599946975708, 2.5118000507354736, 2.254699945449829, 2.199700117111206, 2.42549991607666, 1.9812999963760376, 2.059000015258789, 2.0952000617980957, 1.5018999576568604, 2.201900005340576, 1.660599946975708, 0.984000027179718, 1.1641000509262085, 0.462799996137619, 1.2512999773025513, 0.7918999791145325, 0.5230000019073486, 2.043800115585327, 0.6503999829292297, 1.997499942779541, 0.6244999766349792, 0.6984999775886536, 0.07890000194311142, 0.38769999146461487, 0.4180999994277954, 0.4959000051021576, 0.8199999928474426, 0.6772000193595886, 0.6948000192642212, 0.46720001101493835, 0.5216000080108643, 0.02969999983906746, 0.7321000099182129, 0.2800999879837036, 0.2079000025987625, -0.18709999322891235, 0.35019999742507935, 0.051600001752376556, -0.07540000230073929, -0.3149000108242035, -0.014999999664723873, 0.33469998836517334, 0.20829999446868896, 3.3076999187469482, 3.303100109100342, 3.2720999717712402, 3.1803998947143555, 3.154900074005127, 3.1010000705718994, 3.086699962615967, 3.078900098800659, 3.0757999420166016, 3.0269999504089355, 3.0206000804901123, 2.9904000759124756, 2.989799976348877, 2.9839000701904297, 2.9716999530792236, 2.964200019836426, 2.951900005340576, 2.9414000511169434, 2.9395999908447266, 2.9159998893737793, 2.9019999504089355, 2.89739990234375, 2.896199941635132, 2.8469998836517334, 2.824199914932251, 2.805000066757202, 2.802000045776367, 2.7992000579833984, 2.797300100326538, 2.777600049972534, 2.677999973297119, 2.6970999240875244, 2.2253000736236572, 2.1995999813079834, 2.2844998836517334, 2.325500011444092, 2.117000102996826, 2.3842999935150146, 2.149600028991699, 2.3914999961853027, 1.9148000478744507, 2.1561999320983887, 1.7207000255584717, 1.2105000019073486, 1.774899959564209, 1.853600025177002, 1.628999948501587, 0.2709999978542328, 1.2684999704360962, 1.0329999923706055, 0.5996000170707703, -0.09950000047683716, 0.2542000114917755, 0.4650000035762787, 0.8507000207901001, -0.09269999712705612, 0.5206000208854675, -0.20469999313354492, -0.055399999022483826, -0.1876000016927719, 0.2531999945640564, -0.022600000724196434, 0.3012999892234802, 0.600600004196167, 0.42719998955726624, 0.1891999989748001, 0.19930000603199005, -0.4869999885559082, 0.09730000048875809, 0.305400013923645, 0.41940000653266907, -0.03400000184774399, 0.10440000146627426, 3.6705000400543213, 3.6112000942230225, 3.5346999168395996, 3.404900074005127, 3.36680006980896, 3.249799966812134, 3.234800100326538, 3.2267000675201416, 3.2228000164031982, 3.1956000328063965, 3.1614999771118164, 3.152400016784668, 3.147900104522705, 3.1082000732421875, 3.09689998626709, 3.086400032043457, 3.0794999599456787, 3.068700075149536, 3.0662999153137207, 3.0650999546051025, 3.0539000034332275, 3.0532000064849854, 3.0257999897003174, 3.015399932861328, 3.006700038909912, 2.9779000282287598, 2.961400032043457, 2.9546000957489014, 2.9416000843048096, 2.940500020980835, 2.939300060272217, 2.9403998851776123, 2.9184999465942383, 2.92330002784729, 2.7490999698638916, 2.650899887084961, 2.3801000118255615, 2.8008999824523926, 1.8157000541687012, 2.376499891281128, 2.287600040435791, 2.0302999019622803, 1.1750999689102173, 2.6637001037597656, 1.7891000509262085, 0.8826000094413757, 1.6568000316619873, 2.3508999347686768, 1.367900013923645, 1.4681999683380127, 1.1822999715805054, 1.8672000169754028, 0.8460000157356262, 1.1380000114440918, 0.6513000130653381, 0.35339999198913574, 0.24040000140666962, 0.48190000653266907, 0.46230000257492065, 0.07079999893903732, 0.48750001192092896, -0.05700000002980232, 0.27559998631477356, 1.1726000308990479, 1.4665000438690186, 0.5310999751091003, 0.5404999852180481, 0.5102999806404114, 0.17759999632835388, -0.33230000734329224, 1.0921000242233276, -0.35670000314712524, 0.5063999891281128, 0.1152999997138977, -0.7081000208854675, 0.2639999985694885, -0.36059999465942383, -0.0575999990105629, 0.3801000118255615, 3.8798000812530518, 3.758699893951416, 3.7518999576568604, 3.6187000274658203, 3.6106998920440674, 3.609299898147583, 3.5892999172210693, 3.5880000591278076, 3.5869998931884766, 3.572499990463257, 3.561500072479248, 3.5532000064849854, 3.400399923324585, 3.398400068283081, 3.3861000537872314, 3.3828001022338867, 3.382200002670288, 3.356300115585327, 3.355600118637085, 3.3422000408172607, 3.2981998920440674, 3.272900104522705, 3.2411000728607178, 3.2204999923706055, 3.1981000900268555, 3.191699981689453, 3.174999952316284, 3.1649999618530273, 3.164400100708008, 3.1531999111175537, 3.1120998859405518, 3.135999917984009, 2.997499942779541, 3.022599935531616, 2.59089994430542, 2.958400011062622, 2.9275999069213867, 3.0453999042510986, 2.9300999641418457, 2.8575000762939453, 2.0480000972747803, 1.6032999753952026, 2.0464000701904297, 2.992300033569336, 1.3828999996185303, 2.1219000816345215, 1.906599998474121, 1.1414999961853027, 2.393399953842163, 1.8372000455856323, 1.8030999898910522, 0.6935999989509583, 1.0757999420166016, 0.8525000214576721, 0.041999999433755875, 1.7867000102996826, 1.677899956703186, 0.1054999977350235, 1.0089999437332153, 0.3515999913215637, -0.24310000240802765, -0.18619999289512634, -0.2240000069141388, 0.0494999997317791, 1.03410005569458, -0.12460000067949295, -0.35499998927116394, 0.906000018119812, 0.2199999988079071, 0.4016000032424927, 0.5317000150680542, -0.6953999996185303, -0.20000000298023224, -0.1550000011920929, 4.348599910736084, 3.794300079345703, 3.7451999187469482, 3.719399929046631, 3.711199998855591, 3.6963000297546387, 3.668299913406372, 3.654099941253662, 3.653700113296509, 3.650899887084961, 3.648099899291992, 3.646899938583374, 3.6440000534057617, 3.6394999027252197, 3.636699914932251, 3.63100004196167, 3.5927000045776367, 3.5190000534057617, 3.511399984359741, 3.5109000205993652, 3.498699903488159, 3.4928998947143555, 3.4921000003814697, 3.4914000034332275, 3.4909000396728516, 3.4909000396728516, 3.482599973678589, 3.475399971008301, 3.4644999504089355, 3.459399938583374, 3.4493000507354736, 3.3996999263763428, 3.1726999282836914, 3.169600009918213, 3.3025999069213867, 3.2407000064849854, 2.866499900817871, 2.046099901199341, 3.1631999015808105, 2.4711999893188477, 3.145400047302246, 3.1312999725341797, 2.6807000637054443, 2.4091999530792236, 2.7472000122070312, 3.099900007247925, 1.6492999792099, 2.5241000652313232, 2.6928000450134277, 2.112299919128418, 2.038800001144409, 2.9233999252319336, 2.922300100326538, 0.7019000053405762, 0.8984000086784363, 1.2960000038146973, 0.6319000124931335, 0.699999988079071, 1.1893999576568604, 0.7580999732017517, 1.1246999502182007, 0.21950000524520874, 1.0069999694824219, 0.272599995136261, 0.2883000075817108, -0.14000000059604645, 0.19589999318122864, 2.1243999004364014, 0.9340000152587891, 0.2289000004529953, -0.5855000019073486, 0.35920000076293945, -0.3887999951839447, 0.7019000053405762, -0.6732000112533569, 4.665900230407715, 4.597400188446045, 4.398499965667725, 4.367099761962891, 4.3454999923706055, 4.282400131225586, 3.9625000953674316, 3.951200008392334, 3.8982999324798584, 3.866300106048584, 3.8584001064300537, 3.8475000858306885, 3.845400094985962, 3.841900110244751, 3.83270001411438, 3.828700065612793, 3.821199893951416, 3.821000099182129, 3.8196001052856445, 3.8115999698638916, 3.799499988555908, 3.7964000701904297, 3.790600061416626, 3.7780001163482666, 3.7778000831604004, 3.7718000411987305, 3.7520999908447266, 3.74399995803833, 3.696700096130371, 3.6930999755859375, 3.6547999382019043, 3.379699945449829, 3.519700050354004, 3.051300048828125, 2.9964001178741455, 2.835099935531616, 3.3831000328063965, 3.052500009536743, 3.4066998958587646, 2.8083999156951904, 3.199899911880493, 2.9303998947143555, 3.0678000450134277, 3.1861000061035156, 2.150399923324585, 2.998300075531006, 2.3120999336242676, 2.378999948501587, 1.7026000022888184, 1.7569999694824219, 2.316499948501587, 2.3006999492645264, 2.0982000827789307, 0.6316999793052673, 0.9613000154495239, 2.0571999549865723, 0.0640999972820282, 1.5937999486923218, 1.4674999713897705, 1.3286999464035034, 1.8416999578475952, -0.38280001282691956, -0.3862999975681305, 1.2759000062942505, 0.2531999945640564, 0.933899998664856, 0.7123000025749207, 0.9440000057220459, 0.8619999885559082, 0.004800000227987766], \"logprob\": [30.0, 29.0, 28.0, 27.0, 26.0, 25.0, 24.0, 23.0, 22.0, 21.0, 20.0, 19.0, 18.0, 17.0, 16.0, 15.0, 14.0, 13.0, 12.0, 11.0, 10.0, 9.0, 8.0, 7.0, 6.0, 5.0, 4.0, 3.0, 2.0, 1.0, -8.272000312805176, -8.72819995880127, -8.948200225830078, -8.313300132751465, -8.958999633789062, -8.445500373840332, -8.963399887084961, -9.083000183105469, -8.964300155639648, -9.088700294494629, -9.09000015258789, -8.97249984741211, -8.97439956665039, -9.09850025177002, -8.477899551391602, -8.779000282287598, -9.237700462341309, -8.408100128173828, -9.107199668884277, -9.248299598693848, -9.115300178527832, -8.552599906921387, -9.1181001663208, -9.251799583435059, -9.251999855041504, -8.795700073242188, -9.119600296020508, -8.896599769592285, -8.500800132751465, -8.501500129699707, -8.183500289916992, -6.935299873352051, -8.59689998626709, -8.160499572753906, -5.440700054168701, -8.088000297546387, -8.906200408935547, -8.043899536132812, -7.877799987792969, -7.6194000244140625, -8.001099586486816, -6.401400089263916, -7.694399833679199, -6.432700157165527, -7.236199855804443, -7.900100231170654, -6.150100231170654, -6.301000118255615, -7.631499767303467, -7.7357001304626465, -7.331500053405762, -7.30210018157959, -7.097899913787842, -6.980800151824951, -6.9309000968933105, -6.292900085449219, -5.751200199127197, -6.560100078582764, -5.943699836730957, -6.674200057983398, -6.365099906921387, -6.3942999839782715, -6.824100017547607, -5.118899822235107, -6.441100120544434, -6.22730016708374, -6.998700141906738, -5.770299911499023, -6.639100074768066, -6.25439977645874, -6.647200107574463, -5.755899906158447, -5.8420000076293945, -5.844900131225586, -5.84630012512207, -6.157899856567383, -5.296299934387207, -6.044300079345703, -5.627099990844727, -5.848499774932861, -5.686399936676025, -6.097599983215332, -5.571499824523926, -5.950900077819824, -5.622200012207031, -5.96619987487793, -6.024899959564209, -5.843699932098389, -6.07919979095459, -5.992599964141846, -5.837399959564209, -6.139900207519531, -6.070000171661377, -6.049200057983398, -6.074699878692627, -6.705599784851074, -7.673500061035156, -7.3867998123168945, -7.04640007019043, -5.834099769592285, -6.907700061798096, -4.900700092315674, -6.465199947357178, -7.404699802398682, -7.9770002365112305, -8.241700172424316, -7.989999771118164, -8.245699882507324, -8.252699851989746, -8.407899856567383, -6.974800109863281, -8.413200378417969, -8.604299545288086, -8.19789981842041, -5.155099868774414, -7.919300079345703, -8.727800369262695, -6.680300235748291, -8.854700088500977, -8.534700393676758, -8.36870002746582, -7.635200023651123, -7.80109977722168, -8.864500045776367, -8.457900047302246, -4.85129976272583, -4.98199987411499, -5.884900093078613, -4.239500045776367, -6.892600059509277, -7.768499851226807, -6.510499954223633, -5.67140007019043, -7.469399929046631, -5.655300140380859, -6.264400005340576, -5.024499893188477, -5.331600189208984, -6.183899879455566, -5.667099952697754, -7.306000232696533, -6.478499889373779, -4.90369987487793, -4.3881001472473145, -5.4380998611450195, -4.902200222015381, -5.535699844360352, -4.969699859619141, -5.197800159454346, -4.954100131988525, -5.327700138092041, -4.928500175476074, -5.6020002365112305, -5.599699974060059, -5.458099842071533, -5.745999813079834, -5.318299770355225, -5.525000095367432, -5.411200046539307, -5.480800151824951, -5.587500095367432, -5.623199939727783, -5.640699863433838, -4.324399948120117, -4.134200096130371, -5.225100040435791, -5.2881999015808105, -5.795599937438965, -5.13730001449585, -6.037499904632568, -6.315899848937988, -5.696100234985352, -6.17549991607666, -7.075500011444092, -7.023099899291992, -6.6971001625061035, -6.795300006866455, -7.262499809265137, -7.262800216674805, -7.365499973297119, -7.412300109863281, -7.714399814605713, -7.823500156402588, -7.882999897003174, -7.887199878692627, -7.782199859619141, -7.954400062561035, -7.128600120544434, -8.260199546813965, -8.357500076293945, -8.464200019836426, -8.577400207519531, -8.475700378417969, -5.035299777984619, -6.493800163269043, -5.472099781036377, -4.975299835205078, -5.42710018157959, -5.099299907684326, -6.597899913787842, -5.498799800872803, -5.410799980163574, -6.1691999435424805, -5.166900157928467, -5.513599872589111, -5.182199954986572, -5.435200214385986, -5.68209981918335, -5.333199977874756, -5.717299938201904, -5.274799823760986, -5.622399806976318, -5.446300029754639, -6.025199890136719, -5.630000114440918, -5.868100166320801, -5.862299919128418, -5.61299991607666, -5.776199817657471, -5.804699897766113, -5.817200183868408, -8.222399711608887, -8.226300239562988, -8.021100044250488, -8.550100326538086, -8.554200172424316, -8.584099769592285, -8.587900161743164, -7.901299953460693, -8.312299728393555, -8.102999687194824, -8.114100456237793, -8.254199981689453, -8.24269962310791, -8.386699676513672, -7.020999908447266, -8.373000144958496, -8.399100303649902, -8.679200172424316, -8.410400390625, -8.550399780273438, -8.554100036621094, -7.260900020599365, -7.466599941253662, -8.457300186157227, -8.13759994506836, -8.300299644470215, -8.75160026550293, -8.763099670410156, -8.461600303649902, -8.239500045776367, -5.20989990234375, -6.889100074768066, -7.63539981842041, -7.033699989318848, -7.882500171661377, -5.390600204467773, -7.607600212097168, -6.082699775695801, -6.854499816894531, -7.732500076293945, -6.599999904632568, -6.586100101470947, -6.224599838256836, -5.850599765777588, -7.105400085449219, -5.196899890899658, -6.6006999015808105, -5.89900016784668, -7.446599960327148, -6.736100196838379, -6.9608001708984375, -5.071800231933594, -6.953499794006348, -5.887700080871582, -6.563199996948242, -6.069300174713135, -5.8516998291015625, -6.565999984741211, -5.231800079345703, -5.739099979400635, -4.954500198364258, -5.697500228881836, -5.212299823760986, -5.603700160980225, -5.6194000244140625, -6.264500141143799, -6.019599914550781, -5.2855000495910645, -5.710999965667725, -5.644000053405762, -5.609899997711182, -5.7210001945495605, -6.015100002288818, -5.857699871063232, -5.751200199127197, -5.58650016784668, -5.877600193023682, -5.943699836730957, -5.757900238037109, -5.724599838256836, -5.922699928283691, -5.936299800872803, -5.944300174713135, -6.045000076293945, -7.429299831390381, -7.860199928283691, -8.359000205993652, -7.611100196838379, -8.538299560546875, -4.450500011444092, -8.305100440979004, -7.613399982452393, -8.316399574279785, -5.92140007019043, -7.980400085449219, -8.668499946594238, -8.395299911499023, -7.573599815368652, -8.22439956665039, -8.087699890136719, -7.456999778747559, -8.721199989318848, -8.57699966430664, -8.753100395202637, -5.609799861907959, -8.374099731445312, -8.751399993896484, -8.358099937438965, -7.494699954986572, -7.614299774169922, -8.777700424194336, -8.668399810791016, -8.812600135803223, -5.962800025939941, -7.092299938201904, -7.4274001121521, -6.06279993057251, -7.23390007019043, -8.016300201416016, -4.5904998779296875, -7.265200138092041, -7.722400188446045, -7.9191999435424805, -4.5756001472473145, -6.154300212860107, -5.1869001388549805, -5.924099922180176, -6.607800006866455, -5.449699878692627, -5.514599800109863, -6.9583001136779785, -7.0980000495910645, -6.254700183868408, -6.064899921417236, -5.342299938201904, -5.562699794769287, -5.775700092315674, -5.219900131225586, -5.277100086212158, -5.371200084686279, -5.750500202178955, -5.747099876403809, -6.022600173950195, -5.630199909210205, -5.994699954986572, -5.776899814605713, -5.510300159454346, -6.021699905395508, -5.797800064086914, -5.696199893951416, -5.542500019073486, -5.468999862670898, -5.853799819946289, -5.666100025177002, -5.877299785614014, -5.86299991607666, -5.901100158691406, -5.926599979400635, -5.864200115203857, -4.40500020980835, -7.4994001388549805, -5.041200160980225, -5.6458001136779785, -5.752099990844727, -5.9903998374938965, -7.965099811553955, -6.276599884033203, -5.1828999519348145, -7.9558000564575195, -8.585399627685547, -7.146200180053711, -6.884099960327148, -8.33549976348877, -6.101099967956543, -7.1596999168396, -5.547999858856201, -6.739099979400635, -4.705100059509277, -7.123899936676025, -6.742199897766113, -8.16100025177002, -8.543399810791016, -8.589799880981445, -8.753199577331543, -7.241499900817871, -4.106400012969971, -8.51140022277832, -5.847799777984619, -7.1433000564575195, -7.939799785614014, -6.922800064086914, -6.693600177764893, -5.626100063323975, -6.1433000564575195, -4.499599933624268, -5.272500038146973, -6.4054999351501465, -5.112599849700928, -5.925000190734863, -5.679800033569336, -5.488999843597412, -5.216800212860107, -5.19920015335083, -5.283599853515625, -5.112299919128418, -5.223599910736084, -4.982600212097168, -5.113500118255615, -5.178899765014648, -6.07859992980957, -5.63730001449585, -5.261300086975098, -5.281499862670898, -5.384799957275391, -5.546000003814697, -5.549300193786621, -5.522200107574463, -5.442200183868408, -5.637800216674805, -8.470000267028809, -8.479499816894531, -8.486800193786621, -8.160599708557129, -8.026399612426758, -8.41349983215332, -7.8028998374938965, -8.30210018157959, -7.831200122833252, -8.468000411987305, -8.473699569702148, -8.472700119018555, -8.157999992370605, -8.664899826049805, -8.712499618530273, -8.465399742126465, -7.862199783325195, -8.027199745178223, -8.738800048828125, -8.318900108337402, -7.770599842071533, -8.608499526977539, -8.767900466918945, -8.480500221252441, -7.418700218200684, -7.5177001953125, -8.614500045776367, -8.282699584960938, -7.808899879455566, -8.692000389099121, -7.991300106048584, -6.5792999267578125, -7.391300201416016, -7.569399833679199, -4.955999851226807, -7.855199813842773, -5.26039981842041, -7.226399898529053, -6.521200180053711, -6.264999866485596, -6.271399974822998, -5.921800136566162, -6.754199981689453, -7.138500213623047, -5.3790998458862305, -7.178199768066406, -6.391499996185303, -5.838699817657471, -6.28879976272583, -5.387499809265137, -5.858699798583984, -6.080699920654297, -6.571300029754639, -5.617300033569336, -5.528500080108643, -6.0543999671936035, -5.217299938201904, -5.526199817657471, -6.194300174713135, -6.222300052642822, -6.312099933624268, -5.02810001373291, -5.782299995422363, -6.006800174713135, -6.293000221252441, -5.528600215911865, -6.040500164031982, -5.786499977111816, -5.456699848175049, -5.271699905395508, -5.71589994430542, -5.514800071716309, -5.728799819946289, -5.760200023651123, -5.470600128173828, -5.537499904632568, -5.954100131988525, -5.5370001792907715, -5.654900074005127, -5.9506001472473145, -5.809599876403809, -5.908199787139893, -5.939199924468994, -5.914999961853027, -5.9222002029418945, -5.9156999588012695, -7.944399833679199, -6.928500175476074, -8.217300415039062, -8.241900444030762, -8.40250015258789, -8.410499572753906, -8.313599586486816, -8.076299667358398, -8.200499534606934, -8.223400115966797, -8.281000137329102, -7.764200210571289, -8.61520004272461, -8.411800384521484, -8.270400047302246, -8.44909954071045, -8.625100135803223, -8.588000297546387, -7.879199981689453, -8.444499969482422, -8.220999717712402, -8.609999656677246, -8.61620044708252, -8.611300468444824, -8.625900268554688, -8.12440013885498, -8.618300437927246, -8.618399620056152, -8.340100288391113, -8.475600242614746, -7.126399993896484, -4.993899822235107, -6.597400188446045, -7.9369001388549805, -8.353599548339844, -6.009300231933594, -8.00220012664795, -7.419099807739258, -7.417799949645996, -7.263299942016602, -6.132299900054932, -7.583199977874756, -7.05810022354126, -6.202700138092041, -6.193699836730957, -6.704899787902832, -6.6656999588012695, -7.304200172424316, -6.838399887084961, -6.640399932861328, -6.509799957275391, -4.803500175476074, -5.000199794769287, -6.586900234222412, -6.290200233459473, -7.275400161743164, -6.684000015258789, -6.6946001052856445, -5.724899768829346, -6.603899955749512, -6.450300216674805, -5.838699817657471, -5.544899940490723, -5.836299896240234, -6.122200012207031, -6.30079984664917, -5.733699798583984, -5.5569000244140625, -5.955999851226807, -5.8414998054504395, -6.008399963378906, -5.778800010681152, -5.858399868011475, -5.745800018310547, -5.750699996948242, -6.00600004196167, -5.987199783325195, -6.092199802398682, -5.963799953460693, -5.826499938964844, -6.080599784851074, -6.1427998542785645, -6.1016998291015625, -6.164000034332275, -6.2006001472473145, -7.882900238037109, -7.992099761962891, -7.295400142669678, -8.014399528503418, -8.213800430297852, -8.402899742126465, -6.212299823760986, -6.608099937438965, -8.200799942016602, -8.469300270080566, -8.17770004272461, -8.401700019836426, -8.292499542236328, -8.307299613952637, -8.232099533081055, -8.190299987792969, -8.682499885559082, -8.673100471496582, -4.424799919128418, -8.685099601745605, -6.553999900817871, -8.69849967956543, -8.16569995880127, -6.07859992980957, -7.017600059509277, -8.18970012664795, -8.720499992370605, -6.885499954223633, -8.44849967956543, -8.564599990844727, -5.359499931335449, -8.249600410461426, -6.319699764251709, -7.987500190734863, -7.808000087738037, -5.377500057220459, -4.547900199890137, -6.285299777984619, -6.4293999671936035, -7.109300136566162, -5.557000160217285, -6.486000061035156, -6.586999893188477, -6.546800136566162, -4.463200092315674, -6.8119001388549805, -5.236999988555908, -5.639599800109863, -5.973100185394287, -6.090099811553955, -6.285699844360352, -6.403200149536133, -5.221499919891357, -5.957099914550781, -4.910699844360352, -5.162700176239014, -6.069499969482422, -5.5005998611450195, -5.822500228881836, -5.6082000732421875, -6.156599998474121, -5.4334001541137695, -5.825099945068359, -5.446400165557861, -5.52869987487793, -5.747799873352051, -5.790599822998047, -5.663300037384033, -5.718599796295166, -5.865300178527832, -5.8557000160217285, -5.831099987030029, -5.828999996185303, -5.958399772644043, -5.891300201416016, -5.922500133514404, -7.578499794006348, -7.179299831390381, -7.0295000076293945, -7.997399806976318, -7.9695000648498535, -7.1230998039245605, -4.8719000816345215, -7.995800018310547, -8.005999565124512, -8.04740047454834, -8.115799903869629, -6.538700103759766, -6.65749979019165, -8.115500450134277, -8.113900184631348, -8.026399612426758, -7.995800018310547, -8.005800247192383, -7.772299766540527, -8.027999877929688, -8.206399917602539, -8.202199935913086, -8.043999671936035, -8.055899620056152, -8.273300170898438, -6.248899936676025, -5.16379976272583, -8.262999534606934, -8.134200096130371, -7.5381999015808105, -6.290999889373779, -6.166900157928467, -7.211400032043457, -6.187900066375732, -7.143499851226807, -6.375400066375732, -6.803400039672852, -7.363100051879883, -6.535299777984619, -6.739500045776367, -6.91510009765625, -5.994200229644775, -7.147799968719482, -6.38070011138916, -5.501500129699707, -5.800300121307373, -4.997099876403809, -5.968900203704834, -5.459799766540527, -5.302499771118164, -6.9583001136779785, -5.5183000564575195, -6.922500133514404, -5.571700096130371, -5.672100067138672, -5.129700183868408, -5.423500061035156, -5.454899787902832, -5.540500164031982, -5.816800117492676, -5.753399848937988, -5.807799816131592, -5.726900100708008, -5.759300231933594, -5.585400104522705, -5.935200214385986, -5.7270002365112305, -5.7256999015808105, -5.66949987411499, -5.825300216674805, -5.7820000648498535, -5.771200180053711, -5.759699821472168, -5.832600116729736, -5.883299827575684, -5.914299964904785, -7.5040998458862305, -7.267399787902832, -6.598199844360352, -6.535900115966797, -7.6427998542785645, -7.070099830627441, -7.719600200653076, -7.757900238037109, -7.719399929046631, -7.635000228881836, -7.785900115966797, -6.275700092315674, -7.949399948120117, -7.460000038146973, -8.020500183105469, -7.83050012588501, -7.997799873352051, -7.718599796295166, -7.740499973297119, -8.019399642944336, -7.624800205230713, -7.163599967956543, -7.654699802398682, -7.569399833679199, -7.713600158691406, -7.429299831390381, -8.1943998336792, -7.995100021362305, -7.315100193023682, -7.883200168609619, -6.761899948120117, -7.351600170135498, -5.235599994659424, -5.808800220489502, -6.246300220489502, -6.408199787139893, -5.904099941253662, -6.636499881744385, -6.426599979400635, -6.843500137329102, -6.067800045013428, -6.626399993896484, -6.309500217437744, -5.831900119781494, -6.447199821472168, -6.552599906921387, -6.410399913787842, -5.424799919128418, -6.2484002113342285, -6.080599784851074, -5.770899772644043, -5.30810022354126, -5.598700046539307, -5.7530999183654785, -6.012899875640869, -5.537499904632568, -5.928400039672852, -5.596399784088135, -5.670499801635742, -5.647600173950195, -5.8694000244140625, -5.840199947357178, -5.979599952697754, -6.08489990234375, -6.048999786376953, -6.035399913787842, -6.060200214385986, -5.967100143432617, -6.078199863433838, -6.147799968719482, -6.165500164031982, -6.137599945068359, -6.19980001449585, -7.041800022125244, -7.359399795532227, -7.276500225067139, -7.390100002288818, -7.42519998550415, -7.714200019836426, -7.328999996185303, -7.736000061035156, -7.7093000411987305, -7.745500087738037, -7.625999927520752, -6.96150016784668, -7.812600135803223, -7.423099994659424, -7.713099956512451, -7.700399875640869, -7.718699932098389, -7.740300178527832, -7.713500022888184, -7.72130012512207, -7.375400066375732, -7.713799953460693, -7.331699848175049, -7.315299987792969, -7.3206000328063965, -7.3454999923706055, -7.828499794006348, -7.726200103759766, -7.713699817657471, -7.72760009765625, -7.039999961853027, -7.577400207519531, -6.69890022277832, -7.538099765777588, -6.9334001541137695, -6.696199893951416, -6.5046000480651855, -7.317500114440918, -5.859099864959717, -6.743500232696533, -6.637400150299072, -6.322199821472168, -5.310299873352051, -7.173099994659424, -6.241099834442139, -5.3354997634887695, -6.215799808502197, -6.895199775695801, -6.000400066375732, -6.1230998039245605, -5.943399906158447, -6.5096001625061035, -5.776100158691406, -6.049600124359131, -5.719299793243408, -5.5802001953125, -5.577199935913086, -5.742700099945068, -5.757999897003174, -5.544300079345703, -5.8165998458862305, -5.537099838256836, -5.731500148773193, -6.207099914550781, -6.376399993896484, -5.993199825286865, -6.044400215148926, -6.054999828338623, -5.946000099182129, -5.792300224304199, -6.259399890899658, -5.839099884033203, -6.126299858093262, -6.042600154876709, -5.9166998863220215, -6.111499786376953, -6.056399822235107, -6.161200046539307, -6.1768999099731445, -6.685500144958496, -6.460400104522705, -6.960999965667725, -7.351399898529053, -7.361999988555908, -7.368500232696533, -7.355000019073486, -7.378499984741211, -7.357100009918213, -6.9629998207092285, -7.395699977874756, -7.411799907684326, -6.679800033569336, -7.397500038146973, -7.386099815368652, -7.39139986038208, -7.404300212860107, -7.348400115966797, -6.27839994430542, -7.356599807739258, -7.474899768829346, -6.977099895477295, -7.387800216674805, -7.572299957275391, -7.4253997802734375, -7.784299850463867, -6.979800224304199, -7.354499816894531, -7.389599800109863, -7.35290002822876, -5.963399887084961, -6.959199905395508, -5.99560022354126, -6.713799953460693, -5.151400089263916, -6.704100131988525, -6.637800216674805, -6.983099937438965, -6.77400016784668, -6.698200225830078, -5.848700046539307, -5.4390997886657715, -5.9257001876831055, -6.958399772644043, -5.365300178527832, -6.100200176239014, -5.980199813842773, -5.593699932098389, -6.503399848937988, -6.145500183105469, -6.162799835205078, -5.450099945068359, -5.7332000732421875, -5.632900238037109, -5.166600227355957, -6.221700191497803, -6.225500106811523, -5.5096001625061035, -5.9842000007629395, -5.806300163269043, -5.634699821472168, -5.668600082397461, -5.668799877166748, -5.76800012588501, -6.0914998054504395, -5.820400238037109, -5.814899921417236, -6.0767998695373535, -5.95550012588501, -6.051700115203857, -6.090400218963623, -6.0295000076293945, -6.072999954223633, -6.088500022888184, -6.267600059509277, -6.665800094604492, -6.699399948120117, -6.661900043487549, -6.655600070953369, -6.652500152587891, -7.317699909210205, -7.311200141906738, -7.315199851989746, -7.332399845123291, -7.3140997886657715, -7.313499927520752, -7.31879997253418, -7.346799850463867, -7.315800189971924, -7.313300132751465, -6.668300151824951, -7.4421000480651855, -7.321599960327148, -7.3130998611450195, -7.3130998611450195, -7.3130998611450195, -7.333099842071533, -7.329500198364258, -7.322000026702881, -7.314799785614014, -7.313799858093262, -7.3043999671936035, -7.326700210571289, -7.334199905395508, -6.655799865722656, -6.688000202178955, -5.782400131225586, -5.974599838256836, -6.657899856567383, -6.652500152587891, -6.002099990844727, -4.372799873352051, -6.680200099945068, -5.4704999923706055, -6.6743998527526855, -6.6528000831604, -5.983799934387207, -5.823699951171875, -6.257599830627441, -6.686699867248535, -5.0625, -6.074900150299072, -6.261099815368652, -5.7546000480651855, -5.741799831390381, -6.655200004577637, -6.655700206756592, -5.151000022888184, -5.473400115966797, -5.755499839782715, -5.543600082397461, -5.605899810791016, -5.850299835205078, -5.76609992980957, -5.899099826812744, -5.598100185394287, -5.863399982452393, -5.633999824523926, -5.704699993133545, -5.620100021362305, -5.811200141906738, -6.267300128936768, -5.999599933624268, -5.87470006942749, -5.794099807739258, -5.926300048828125, -5.871200084686279, -6.015500068664551, -6.007299900054932, -6.099599838256836, -6.176799774169922, -6.316999912261963, -6.491799831390381, -6.492499828338623, -6.533400058746338, -6.500500202178955, -6.494200229644775, -7.151400089263916, -6.878799915313721, -7.153900146484375, -6.516300201416016, -7.1616997718811035, -7.154399871826172, -7.1656999588012695, -7.152699947357178, -7.1529998779296875, -7.165500164031982, -7.145599842071533, -7.169300079345703, -7.179599761962891, -7.154300212860107, -7.17579984664917, -7.151700019836426, -7.154399871826172, -7.027299880981445, -6.495299816131592, -7.208700180053711, -7.150599956512451, -6.503300189971924, -6.504000186920166, -5.904300212860107, -6.491399765014648, -5.622099876403809, -5.555500030517578, -5.541800022125244, -6.503600120544434, -6.126999855041504, -6.659200191497803, -6.093900203704834, -6.538300037384033, -6.279799938201904, -6.491799831390381, -6.626399993896484, -5.816299915313721, -6.490799903869629, -6.04040002822876, -6.115099906921387, -5.692800045013428, -5.759900093078613, -6.115099906921387, -6.15880012512207, -6.089700222015381, -5.562399864196777, -5.7870001792907715, -6.130499839782715, -5.753399848937988, -6.102099895477295, -6.081900119781494, -6.071199893951416, -6.166900157928467, -5.842800140380859, -5.866499900817871, -6.125899791717529, -6.0278000831604, -6.110400199890137, -6.104000091552734, -6.12470006942749, -6.132699966430664, -6.138899803161621]}, \"token.table\": {\"Topic\": [2, 4, 10, 4, 1, 4, 8, 5, 8, 10, 3, 10, 11, 3, 7, 9, 1, 1, 2, 4, 5, 8, 10, 13, 15, 1, 3, 9, 13, 14, 1, 2, 3, 4, 5, 6, 7, 8, 9, 10, 11, 12, 13, 14, 5, 7, 1, 2, 15, 1, 4, 5, 8, 3, 1, 4, 8, 11, 12, 1, 2, 11, 1, 5, 11, 1, 10, 11, 3, 8, 10, 4, 15, 1, 2, 3, 4, 8, 11, 12, 4, 8, 6, 13, 1, 2, 5, 8, 9, 11, 13, 14, 1, 8, 14, 5, 11, 2, 8, 11, 1, 2, 5, 11, 2, 8, 9, 1, 2, 3, 5, 6, 7, 8, 10, 11, 13, 14, 1, 2, 3, 5, 6, 7, 8, 9, 14, 15, 7, 9, 15, 1, 2, 4, 5, 6, 7, 8, 9, 10, 11, 12, 1, 2, 3, 4, 5, 6, 7, 8, 9, 10, 11, 12, 13, 15, 1, 8, 1, 3, 4, 8, 9, 12, 14, 3, 5, 10, 1, 5, 8, 11, 3, 1, 3, 12, 14, 1, 4, 8, 9, 12, 2, 3, 6, 14, 4, 8, 1, 4, 8, 9, 11, 12, 13, 1, 2, 3, 4, 5, 6, 7, 8, 9, 10, 11, 12, 13, 15, 8, 10, 2, 3, 5, 11, 1, 5, 10, 5, 9, 1, 2, 3, 4, 5, 6, 7, 8, 9, 10, 11, 12, 13, 14, 1, 3, 5, 6, 7, 10, 8, 9, 1, 6, 7, 9, 6, 9, 3, 5, 10, 1, 2, 4, 8, 10, 1, 2, 3, 4, 5, 6, 7, 8, 9, 10, 11, 12, 13, 15, 8, 10, 7, 6, 7, 9, 1, 2, 4, 5, 6, 8, 10, 11, 12, 7, 14, 1, 2, 3, 4, 5, 7, 8, 10, 11, 13, 1, 5, 3, 8, 11, 15, 1, 2, 3, 4, 5, 6, 7, 8, 9, 10, 11, 14, 1, 2, 3, 10, 14, 4, 5, 12, 2, 4, 15, 1, 4, 11, 13, 8, 10, 11, 6, 9, 3, 10, 1, 2, 4, 8, 9, 10, 11, 12, 5, 6, 7, 8, 9, 2, 1, 2, 3, 4, 7, 8, 9, 10, 12, 1, 11, 12, 2, 8, 10, 15, 1, 2, 6, 10, 1, 2, 3, 4, 5, 6, 7, 8, 9, 10, 11, 12, 13, 14, 15, 2, 6, 2, 7, 1, 2, 8, 9, 10, 14, 2, 8, 14, 1, 1, 8, 11, 5, 6, 4, 6, 7, 9, 1, 8, 11, 12, 13, 1, 8, 11, 13, 5, 8, 1, 4, 5, 9, 10, 1, 2, 3, 4, 5, 8, 9, 10, 11, 12, 13, 1, 3, 4, 7, 12, 1, 2, 3, 4, 5, 6, 7, 8, 9, 10, 11, 12, 13, 2, 5, 9, 1, 2, 3, 6, 7, 9, 4, 8, 1, 2, 5, 13, 15, 1, 10, 15, 3, 5, 9, 13, 2, 5, 10, 13, 1, 2, 3, 4, 5, 6, 7, 8, 9, 10, 11, 12, 1, 2, 4, 5, 12, 8, 1, 4, 8, 9, 10, 13, 6, 9, 12, 1, 1, 2, 3, 4, 5, 6, 7, 8, 9, 10, 11, 12, 13, 2, 3, 6, 7, 8, 14, 1, 5, 8, 11, 12, 13, 15, 1, 2, 3, 6, 7, 8, 9, 1, 2, 3, 4, 5, 6, 7, 14, 1, 2, 4, 5, 8, 9, 10, 11, 1, 4, 8, 11, 12, 4, 8, 3, 4, 12, 1, 2, 3, 4, 5, 6, 7, 8, 9, 10, 11, 12, 13, 2, 2, 3, 8, 11, 6, 7, 9, 1, 2, 3, 5, 6, 7, 8, 9, 10, 11, 1, 4, 7, 12, 3, 1, 2, 3, 4, 5, 6, 7, 8, 9, 10, 11, 12, 13, 15, 1, 9, 12, 1, 2, 5, 6, 7, 9, 14, 2, 9, 2, 3, 4, 5, 7, 1, 7, 7, 9, 1, 2, 3, 4, 5, 6, 7, 8, 9, 10, 12, 8, 2, 5, 11, 14, 2, 7, 2, 7, 14, 4, 8, 6, 8, 7, 1, 2, 3, 4, 5, 6, 7, 8, 9, 10, 12, 13, 14, 1, 2, 3, 4, 5, 10, 1, 4, 9, 1, 2, 3, 4, 5, 6, 7, 8, 9, 10, 11, 12, 13, 1, 13, 1, 4, 7, 9, 13, 14, 1, 4, 13, 1, 4, 1, 2, 8, 12, 1, 4, 1, 2, 3, 5, 6, 7, 9, 1, 2, 3, 8, 9, 1, 8, 13, 5, 6, 7, 9, 1, 2, 3, 4, 5, 7, 8, 9, 10, 11, 12, 15, 4, 8, 3, 7, 10, 3, 1, 2, 3, 4, 5, 6, 7, 8, 9, 10, 11, 12, 13, 14, 1, 2, 3, 4, 5, 6, 7, 9, 10, 1, 2, 3, 4, 5, 6, 7, 8, 9, 10, 11, 12, 13, 14, 15, 1, 4, 1, 2, 3, 4, 5, 6, 7, 8, 9, 10, 11, 12, 14, 7, 10, 1, 2, 3, 4, 5, 6, 7, 8, 9, 10, 11, 12, 13, 15, 2, 4, 8, 11, 3, 2, 3, 12, 4, 5, 8, 12, 1, 8, 1, 5, 2, 7, 3, 6, 7, 14, 1, 4, 8, 12, 1, 2, 4, 5, 8, 11, 12, 1, 12, 1, 7, 2, 5, 11, 14, 2, 3, 13, 3, 1, 4, 5, 8, 9, 11, 15, 1, 5, 12, 1, 2, 3, 4, 5, 7, 8, 10, 13, 15, 1, 11, 12, 1, 5, 8, 11, 13, 3, 5, 7, 9, 13, 1, 3, 14, 2, 7, 2, 4, 6, 9, 2, 7, 14, 3, 6, 8, 9, 11, 8, 13, 1, 2, 8, 12, 14, 2, 7, 2, 5, 13, 2, 7, 1, 2, 3, 4, 5, 6, 7, 8, 9, 10, 11, 12, 13, 1, 4, 8, 9, 11, 12, 15, 1, 2, 3, 4, 5, 8, 9, 10, 11, 12, 13, 1, 2, 4, 8, 13, 1, 2, 10, 12, 1, 6, 9, 1, 2, 3, 4, 5, 7, 8, 10, 11, 13, 1, 8, 10, 14, 4, 5, 7, 9, 14, 3, 5, 7, 10, 3, 4, 6, 7, 9, 10, 2, 4, 5, 6, 7, 9, 1, 4, 8, 11, 12, 13, 2, 3, 6, 7, 8, 14, 2, 3, 7, 1, 4, 8, 9, 10, 11, 12, 13, 2, 3, 6, 7, 8, 9, 11, 12, 14, 3, 4, 10, 11, 12, 15, 2, 3, 4, 5, 6, 7, 8, 9, 14, 2, 3, 6, 7, 8, 9, 1, 2, 3, 4, 5, 6, 7, 8, 9, 10, 11, 12, 15, 1, 2, 4, 5, 8, 9, 10, 11, 12, 13, 1, 2, 3, 4, 5, 8, 14, 15, 6, 1, 4, 1, 5, 11, 1, 2, 4, 8, 11, 12, 13, 1, 5, 8, 11, 1, 4, 5, 8, 11, 13, 1, 8, 9, 12, 1, 8, 1, 13, 1, 8, 5, 8, 15, 1, 2, 3, 4, 5, 6, 7, 8, 9, 10, 11, 12, 13, 14, 15, 4, 8, 15, 8, 9, 3, 4, 14, 3, 2, 4, 2, 5, 9, 2, 6, 7, 1, 2, 3, 4, 5, 6, 7, 8, 9, 10, 11, 12, 13, 1, 2, 4, 5, 10, 13, 1, 2, 3, 4, 5, 6, 7, 8, 9, 10, 11, 12, 13, 14, 15, 1, 2, 4, 5, 8, 10, 13, 1, 2, 3, 4, 5, 6, 7, 8, 9, 10, 11, 12, 13, 15, 1, 2, 3, 4, 5, 6, 7, 8, 10, 11, 13, 14, 1, 2, 3, 4, 5, 6, 7, 8, 9, 10, 11, 12, 13, 14, 15, 2, 8, 10, 12, 2, 8, 11, 3, 1, 2, 3, 4, 5, 6, 7, 8, 9, 10, 11, 12, 13, 14, 1, 2, 3, 4, 5, 6, 7, 8, 9, 10, 11, 13, 14, 1, 2, 3, 4, 5, 8, 9, 10, 11, 12, 13, 1, 2, 3, 4, 5, 6, 7, 8, 9, 10, 11, 12, 14, 15, 1, 2, 3, 4, 5, 6, 7, 8, 9, 10, 11, 12, 13, 14, 15, 2, 5, 15, 3, 8, 13, 15, 2, 5, 12, 1, 2, 3, 4, 5, 7, 8, 9, 10, 11, 12, 13, 15, 4, 9, 1, 2, 6, 8, 9, 13, 7, 9, 4, 1, 2, 4, 5, 8, 10, 11, 12, 13, 15, 8, 15, 2, 5, 15, 1, 5, 11, 13, 4, 11, 15, 9, 6, 7, 9, 1, 2, 3, 4, 5, 6, 7, 8, 9, 11, 12, 13, 1, 2, 8, 10, 12, 1, 2, 5, 8, 11, 15, 1, 2, 5, 8, 10, 12, 1, 2, 4, 8, 1, 2, 3, 4, 5, 6, 7, 8, 11, 13, 14, 1, 2, 4, 5, 8, 9, 10, 11, 12, 13, 3, 5, 10, 12, 1, 2, 3, 4, 5, 6, 7, 8, 9, 10, 11, 12, 14, 1, 4, 9, 13, 1, 2, 3, 4, 5, 7, 8, 10, 11, 15, 1, 2, 3, 4, 5, 6, 7, 8, 9, 11, 15, 4, 9, 10, 11, 13, 8, 13, 1, 2, 3, 4, 5, 6, 7, 8, 9, 10, 11, 12, 13, 14, 15, 6, 7, 9, 6, 9, 4, 5, 8, 10, 1, 2, 3, 4, 5, 6, 7, 8, 9, 10, 11, 12, 13, 15, 1, 2, 3, 4, 5, 6, 7, 8, 10, 11, 12, 15, 1, 2, 3, 4, 5, 6, 7, 8, 9, 10, 11, 13, 1, 9, 2, 4, 6, 7, 9, 10, 1, 2, 4, 5, 9, 10, 11, 12, 13, 5, 10, 1, 4, 5, 8, 10, 1, 10, 12, 1, 4, 8, 9, 10, 11, 13, 1, 2, 3, 4, 5, 6, 7, 8, 9, 10, 11, 12, 14, 15, 2, 8, 12, 1, 7, 12, 1, 5, 12, 6, 8, 1, 2, 3, 4, 5, 7, 8, 9, 10, 11, 12, 13, 2, 3, 6, 7, 14, 1, 2, 4, 8, 9, 12, 1, 2, 3, 4, 5, 6, 7, 8, 9, 10, 11, 12, 13, 15, 1, 2, 3, 4, 5, 6, 7, 8, 9, 10, 11, 12, 13, 14, 1, 2, 3, 4, 5, 6, 7, 8, 9, 10, 11, 12, 13, 15, 1, 2, 4, 5, 6, 7, 8, 9, 10, 12, 6, 1, 2, 4, 8, 9, 11, 12, 4, 8, 10, 12, 13, 2, 1, 2, 3, 4, 5, 6, 7, 8, 9, 10, 11, 12, 13, 14, 15, 1, 8, 11, 12, 13, 1, 2, 3, 4, 5, 7, 8, 9, 10, 11, 12, 15, 1, 11, 7, 11, 2, 4, 11, 2, 5, 6, 7, 8, 1, 2, 3, 4, 5, 6, 7, 8, 9, 10, 11, 12, 13, 14, 15, 1, 2, 3, 4, 5, 6, 7, 8, 9, 10, 11, 12, 13, 1, 4, 5, 8, 1, 2, 3, 4, 5, 6, 7, 8, 9, 10, 11, 12, 13, 4, 10, 11, 13, 15, 2, 1, 2, 5, 12, 1, 2, 3, 5, 6, 7, 8, 9, 10, 11, 12, 13, 14, 2, 4, 8, 8, 11, 13, 1, 3, 8, 10, 14, 3, 2, 3, 4, 6, 7, 8, 9, 11, 12, 14, 2, 3, 6, 7, 8, 1, 2, 3, 4, 5, 6, 7, 8, 9, 10, 11, 12, 13, 14, 2, 3, 6, 1, 2, 5, 8, 10, 15, 1, 2, 3, 4, 5, 6, 7, 8, 9, 10, 11, 12, 13, 2, 10, 2, 11, 1, 2, 3, 4, 5, 6, 7, 8, 9, 10, 11, 12, 13, 14, 15, 1, 2, 3, 4, 5, 6, 7, 8, 9, 10, 11, 12, 13, 1, 2, 3, 4, 5, 6, 7, 8, 9, 10, 11, 12, 13, 14, 1, 2, 5, 8, 10, 15, 1, 2, 4, 5, 11, 1, 2, 4, 8, 2, 5, 11, 15, 6, 7, 9, 1, 2, 3, 4, 5, 6, 7, 8, 9, 10, 11, 12, 13, 14, 15, 2, 3, 6, 7, 12, 1, 5, 11, 13, 1, 2, 3, 4, 5, 6, 7, 8, 9, 10, 11, 12, 15, 1, 2, 3, 4, 5, 6, 7, 8, 9, 10, 11, 12, 13, 14, 1, 9, 11, 15, 1, 2, 3, 4, 6, 9, 13, 14, 3, 8, 1, 2, 3, 4, 5, 6, 7, 8, 9, 10, 11, 12, 13, 15, 1, 2, 3, 4, 5, 6, 7, 8, 9, 10, 11, 12, 13, 14, 8, 12, 1, 8, 11, 12, 1, 2, 3, 5, 6, 7, 8, 9, 13, 14, 5, 11, 15, 1, 2, 8, 10, 11, 12, 6, 9, 6, 9, 1, 4, 8, 11, 13, 1, 2, 3, 4, 5, 6, 7, 8, 9, 10, 11, 12, 13, 15, 7, 2, 3, 5, 2, 3, 5, 14, 1, 5, 9, 10, 14, 15, 1, 11, 13, 3, 5, 7, 9, 6, 7, 11, 3, 2, 3, 9, 7, 8, 14, 1, 2, 8, 2, 7, 8, 1, 3, 4, 8, 15, 3, 8, 10, 7, 11, 1, 4, 5, 9, 11, 15, 3, 6, 7, 14, 2, 5, 11, 12, 1, 4, 6, 7, 8, 9, 2, 5, 10, 3, 7, 2, 5, 2, 3, 6, 7, 14, 1, 8, 13, 2, 5, 8, 9, 12, 15, 4, 11, 2, 10, 12, 5, 1, 2, 3, 4, 5, 6, 7, 8, 9, 10, 11, 12, 14, 15, 5, 10, 1, 8, 11, 12, 13, 6, 9, 3, 6, 1, 13, 1, 8, 11, 1, 2, 5, 10, 11, 13, 1, 2, 3, 4, 5, 6, 7, 8, 9, 10, 11, 12, 13, 14, 7, 2, 6, 7, 9, 1, 2, 3, 4, 5, 6, 7, 8, 9, 10, 11, 12, 13, 14, 15, 2, 3, 6, 7, 8, 14, 2, 1, 2, 3, 4, 5, 6, 7, 8, 9, 10, 11, 12, 13, 15, 1, 2, 3, 4, 5, 6, 7, 8, 9, 10, 11, 12, 14, 15, 1, 2, 3, 4, 6, 8, 9, 11, 13, 1, 10, 11, 15, 1, 2, 3, 4, 5, 6, 7, 8, 9, 10, 11, 12, 13, 14, 1, 2, 3, 4, 5, 6, 7, 8, 9, 10, 11, 12, 13, 3, 6, 7, 9, 1, 2, 4, 5, 8, 10, 11, 12, 1, 2, 3, 4, 5, 6, 7, 9, 10, 12, 15, 1, 2, 3, 4, 5, 6, 7, 8, 9, 10, 11, 12, 13, 14, 15, 2, 1, 1, 2, 3, 4, 5, 7, 8, 9, 10, 11, 12, 13, 15, 2, 8, 10, 4, 5, 10, 1, 2, 3, 4, 5, 6, 7, 8, 9, 10, 11, 12, 13, 14, 15, 4, 7, 10, 1, 4, 8, 11, 12, 1, 2, 4, 5, 8, 12, 13, 1, 2, 3, 4, 5, 6, 7, 8, 9, 11, 5, 11, 1, 2, 3, 4, 5, 6, 7, 8, 9, 10, 11, 12, 13, 14, 1, 2, 3, 4, 5, 6, 7, 8, 9, 10, 11, 12, 13, 15, 1, 2, 3, 4, 5, 6, 7, 8, 9, 10, 11, 12, 13, 14, 15, 1, 2, 3, 4, 5, 6, 7, 8, 9, 10, 11, 12, 13, 14, 15, 1, 4, 10, 1, 1, 2, 3, 4, 5, 6, 7, 8, 9, 10, 11, 12, 13, 14, 15, 4, 6, 7, 9, 1, 2, 3, 4, 5, 8, 9, 10, 11, 12, 4, 8, 10, 1, 1, 2, 3, 4, 5, 6, 7, 8, 9, 10, 11, 12, 13, 14, 15, 6, 7, 9, 1, 2, 3, 4, 5, 6, 7, 8, 9, 10, 11, 12, 13, 15, 1, 2, 3, 4, 5, 6, 7, 8, 9, 10, 11, 12, 13, 14, 1, 9, 1, 2, 3, 4, 5, 6, 7, 8, 9, 10, 11, 12, 13, 14, 1, 2, 3, 4, 5, 6, 7, 8, 9, 10, 11, 12, 14, 15, 1, 2, 4, 5, 8, 10, 11, 15, 6, 7, 9, 6, 1, 2, 3, 4, 5, 7, 8, 9, 10, 11, 13, 5, 6, 7, 9, 1, 5, 1, 2, 4, 5, 8, 9, 10, 11, 12, 13, 5, 8, 10, 1, 2, 4, 5, 8, 10, 11, 13, 1, 13, 3, 1, 2, 3, 4, 5, 6, 7, 8, 9, 10, 14, 1, 8, 13, 1, 5, 8, 11, 14, 1, 2, 3, 4, 5, 6, 7, 8, 9, 10, 11, 12, 13, 14, 1, 2, 3, 4, 5, 6, 7, 8, 9, 10, 11, 12, 13, 15, 2, 3, 10, 5, 8, 3, 7, 10, 1, 2, 3, 4, 5, 6, 7, 8, 9, 10, 14, 5, 11, 1, 2, 3, 5, 6, 7, 8, 9, 11, 12, 13, 2, 3, 5, 6, 7, 8, 9, 11, 14, 2, 7, 14, 2, 7, 14, 1, 2, 11, 5, 10, 1, 2, 3, 4, 5, 6, 7, 8, 9, 10, 11, 12, 13, 15, 1, 2, 4, 8, 13, 2, 9, 10, 15, 1, 8, 1, 3, 14, 6, 7, 9, 3, 3, 1, 2, 4, 5, 8, 11, 12, 2, 3, 5, 15, 4, 8, 1, 2, 3, 4, 5, 6, 7, 8, 9, 10, 11, 12, 13, 14, 1, 2, 10, 14, 8, 9, 1, 2, 3, 4, 5, 6, 7, 8, 9, 10, 11, 12, 13, 14, 15, 1, 5, 7, 8, 4, 10, 6, 7, 1, 2, 3, 4, 5, 6, 7, 8, 9, 10, 11, 12, 13, 14, 1, 2, 8, 11, 13, 1, 2, 4, 5, 8, 10, 11, 12, 13, 1, 4, 5, 7, 8, 10, 11, 12, 15, 8, 11, 13, 2, 3, 6, 7, 8, 14, 1, 2, 3, 4, 5, 6, 7, 8, 9, 10, 11, 12, 13, 14, 2, 6, 7, 9, 3, 6, 7, 1, 2, 3, 4, 5, 6, 7, 8, 9, 10, 11, 12, 13, 15, 1, 3, 11, 3, 5, 11, 1, 4, 8, 10, 11, 12, 1, 2, 3, 4, 5, 8, 10, 1, 2, 4, 5, 9, 10, 6, 7, 9, 1, 2, 3, 4, 5, 6, 7, 8, 9, 10, 11, 12, 13, 14, 1, 4, 11, 12, 1, 2, 3, 4, 5, 6, 7, 8, 9, 10, 11, 12, 13, 4, 1, 2, 4, 8, 10, 4, 5, 8, 12, 1, 8, 11, 12, 3, 3, 1, 2, 4, 5, 6, 8, 9, 10, 12, 1, 2, 3, 4, 5, 6, 7, 8, 9, 11, 12, 15, 1, 3, 6, 7, 9, 10, 1, 2, 3, 4, 5, 6, 7, 8, 9, 10, 12, 1, 8, 11, 13, 4, 6, 7, 8, 11, 12, 15, 1, 8, 7, 9, 2, 6, 1, 4, 8, 10, 11, 12, 13, 1, 4, 5, 8, 9, 12, 1, 8, 12, 15, 5, 8, 1, 2, 4, 8, 11, 12, 13, 6, 7, 9, 1, 1, 8, 10, 11, 13, 2, 3, 6, 7, 1, 11, 13, 1, 8, 10, 11, 13, 1, 8, 13, 1, 4, 13, 1, 5, 12, 6, 9, 1, 1, 2, 5, 9, 1, 8, 9, 11, 12, 2, 4, 4, 10, 5, 10, 13, 1, 12, 1, 2, 8, 9, 15, 1, 2, 3, 4, 5, 10, 11, 15, 1, 2, 3, 4, 5, 6, 7, 8, 9, 11, 13, 1, 2, 3, 4, 5, 6, 7, 8, 9, 10, 11, 13, 15, 1, 2, 3, 4, 5, 6, 7, 8, 9, 10, 11, 12, 13, 14, 15, 4, 8, 9, 4, 4, 5, 10, 4, 9, 10, 4, 8, 3, 4, 10, 1, 2, 13, 4, 10, 1, 2, 3, 4, 5, 6, 7, 8, 9, 10, 11, 12, 14, 1, 2, 3, 4, 5, 6, 7, 8, 10, 11, 5, 12, 1, 2, 3, 4, 5, 6, 7, 8, 9, 10, 11, 12, 13, 1, 5, 10, 11, 13, 2, 4, 9, 11, 14, 1, 2, 4, 8, 10, 11, 12, 13, 4, 5, 7, 5, 8, 11, 13, 1, 2, 3, 4, 5, 6, 7, 8, 9, 10, 4, 8, 1, 2, 3, 4, 5, 8, 10, 13, 15, 1, 2, 4, 5, 8, 10, 11, 12, 13, 1, 3, 5, 12, 1, 2, 3, 4, 5, 6, 7, 8, 10, 11, 12, 15, 1, 6, 13, 1, 4, 8, 11, 13, 1, 4, 8, 11, 12, 13, 1, 2, 4, 9, 10, 1, 2, 3, 4, 5, 6, 7, 8, 9, 10, 11, 12, 13, 14, 15, 1, 15, 1, 5, 13, 2, 3, 6, 7, 3, 4, 9, 1, 10, 12, 13, 5, 8, 12, 2, 3, 4, 5, 6, 7, 3, 5, 7, 1, 2, 4, 5, 8, 10, 2, 5, 9, 5, 11, 1, 8, 9, 12, 3, 6, 7, 10, 1, 2, 3, 5, 6, 7, 8, 9, 10, 14, 1, 6, 7, 4, 8, 11, 5, 7, 8, 1, 2, 3, 4, 5, 6, 7, 8, 9, 10, 11, 12, 3, 7, 9, 12, 13, 6, 7, 11, 1, 2, 3, 5, 6, 7, 8, 9, 10, 11, 13, 14, 7, 8, 1, 2, 3, 4, 5, 6, 7, 8, 9, 10, 11, 12, 14, 15, 8, 11, 1, 2, 4, 8, 11, 12, 13, 1, 2, 3, 4, 5, 6, 7, 8, 9, 10, 11, 15, 1, 5, 6, 1, 2, 4, 5, 8, 9, 10, 11, 13, 15, 1, 5, 8, 10, 11, 1, 11, 13, 1, 4, 5, 10, 11, 13, 1, 2, 3, 4, 5, 6, 7, 8, 9, 10, 11, 12, 13, 6, 7, 9, 1, 2, 3, 4, 5, 6, 7, 8, 9, 10, 11, 12, 13, 15, 1, 7, 10, 11, 13, 1, 1, 3, 4, 9, 1, 2, 4, 5, 6, 13, 14, 2, 3, 6, 7, 9, 1, 2, 3, 4, 5, 6, 7, 8, 9, 10, 11, 12, 13, 14, 15, 2, 2, 8, 15, 1, 1, 2, 3, 4, 5, 7, 8, 9, 10, 11, 12, 14, 1, 2, 3, 4, 5, 7, 8, 11, 14, 1, 4, 9, 2, 7, 9, 1, 4, 12, 1, 1, 8, 15, 1, 2, 3, 4, 5, 6, 8, 9, 10, 11, 12, 15, 1, 2, 3, 4, 5, 6, 7, 8, 9, 10, 11, 12, 13, 15, 2, 1, 4, 1, 2, 3, 4, 5, 6, 7, 8, 9, 10, 11, 12, 13, 1, 2, 3, 4, 5, 6, 7, 8, 9, 10, 11, 12, 13, 15, 1, 2, 3, 4, 5, 8, 9, 10, 11, 1, 4, 5, 8, 11, 15, 10, 11, 12, 15, 1, 2, 3, 4, 5, 8, 9, 10, 11, 12, 1, 4, 5, 13, 3, 4, 8, 13, 1, 13, 1, 8, 10, 11, 13, 4, 10, 3, 5, 7, 8, 9, 14, 1, 2, 3, 4, 5, 6, 7, 8, 9, 10, 11, 1, 9, 1, 2, 3, 4, 5, 6, 7, 8, 9, 10, 11, 14, 1, 2, 3, 4, 5, 6, 7, 9, 10, 12, 1, 4, 15, 4, 1, 2, 3, 7, 11, 14, 2, 4, 11, 1, 4, 8, 9, 11, 1, 11, 13, 8, 10, 11, 3, 1, 2, 3, 4, 5, 6, 7, 8, 9, 10, 11, 12, 13, 14, 15, 1, 4, 5, 8, 10, 1, 2, 3, 4, 5, 6, 7, 8, 9, 10, 11, 12, 15, 3, 8, 9, 13, 4, 8, 10, 12, 1, 4, 5, 8, 1, 4, 10, 13, 14, 3, 5, 10, 11, 3, 4, 1, 9, 15, 5, 8, 13, 1, 2, 4, 5, 6, 7, 8, 9, 11, 12, 14, 1, 1, 2, 3, 4, 5, 6, 8, 9, 10, 13, 3, 3, 1, 2, 3, 4, 5, 6, 7, 8, 9, 10, 11, 12, 13, 15, 1, 2, 3, 4, 5, 7, 8, 9, 10, 11, 12, 13, 1, 3, 9, 11, 4, 5, 8, 10, 1, 2, 3, 4, 5, 6, 7, 8, 9, 10, 11, 12, 13, 14, 2, 5, 11, 14, 1, 2, 3, 4, 5, 7, 8, 9, 10, 11, 4, 4, 5, 1, 2, 3, 4, 5, 6, 7, 8, 9, 10, 11, 12, 13, 1, 5, 2, 1, 2, 3, 4, 5, 6, 7, 8, 9, 10, 11, 12, 13, 1, 5, 8, 11, 15, 1, 11, 14, 15, 2, 3, 14, 1, 2, 3, 4, 5, 6, 7, 9, 10, 1, 2, 3, 4, 5, 6, 7, 8, 9, 10, 11, 12, 13, 15, 2, 7, 2, 3, 1, 13, 5, 1, 2, 3, 6, 7, 9, 10, 15, 4, 8, 12, 1, 1, 2, 3, 4, 8, 9, 12, 1, 2, 12, 1, 2, 3, 4, 5, 7, 8, 10, 12, 4, 8, 12, 1, 2, 3, 4, 5, 6, 7, 8, 9, 10, 11, 12, 13, 14, 15, 1, 2, 3, 4, 5, 6, 7, 8, 9, 10, 11, 12, 13, 15, 1, 2, 3, 4, 5, 6, 7, 8, 9, 10, 11, 12, 13, 14, 1, 4, 5, 8, 10, 13, 15, 1, 2, 3, 4, 5, 6, 7, 8, 9, 10, 11, 12, 13, 14, 15, 1, 2, 3, 5, 6, 7, 8, 9, 10, 11, 12, 13, 14, 1, 9, 1, 2, 3, 4, 5, 6, 7, 8, 9, 10, 11, 12, 13, 14, 15, 8, 1, 2, 3, 4, 5, 6, 7, 8, 9, 10, 11, 12, 13, 14, 5, 11, 12, 1, 2, 3, 4, 5, 6, 7, 8, 9, 10, 11, 12, 13, 1, 2, 3, 4, 5, 8, 9, 13, 14, 1, 2, 3, 4, 5, 6, 7, 8, 9, 10, 11, 12, 4, 9, 10, 1, 13, 1, 8, 14, 5, 10, 15, 5, 10, 1, 4, 13, 1, 2, 3, 4, 5, 8, 9, 11, 12, 15, 1, 6, 10, 11, 1, 2, 4, 8, 9, 10, 1, 4, 9, 15, 3, 9, 6, 10, 1, 5, 8, 11, 13, 2, 3, 5, 6, 7, 8, 13, 14, 2, 3, 4, 6, 7, 8, 9, 10, 11, 13, 1, 2, 3, 4, 5, 7, 8, 9, 10, 11, 13, 14, 1, 5, 8, 12, 15, 2, 4, 8, 14, 8, 1, 2, 4, 10, 12, 1, 4, 5, 8, 10, 14, 7, 9, 2, 4, 8, 10, 11, 1, 3, 6, 9, 10, 2, 1, 5, 9, 13, 14, 1, 2, 3, 4, 5, 6, 7, 8, 9, 10, 11, 12, 13, 1, 2, 4, 5, 8, 11, 12, 13, 1, 10, 1, 8, 11, 12, 1, 2, 4, 5, 8, 10, 11, 12, 15, 1, 1, 2, 3, 4, 5, 6, 7, 8, 9, 10, 11, 12, 13, 14, 2, 5, 4, 10, 2, 6, 11, 1, 2, 3, 4, 5, 6, 7, 8, 9, 10, 11, 12, 13, 14, 7, 8, 1, 2, 3, 4, 5, 6, 7, 8, 9, 10, 11, 12, 13, 14, 15, 2, 3, 6, 7, 8, 11, 14, 1, 1, 2, 3, 4, 5, 7, 8, 9, 10, 11, 12, 13, 15, 6, 7, 9, 1, 2, 3, 4, 5, 6, 7, 8, 9, 10, 11, 12, 13, 14, 5, 7, 14, 3, 10, 1, 3, 8, 9, 12, 15, 1, 2, 3, 4, 5, 6, 7, 8, 9, 10, 11, 12, 13, 4, 5, 10, 1, 2, 3, 4, 5, 6, 7, 8, 9, 10, 11, 12, 13, 14, 1, 2, 9, 1, 2, 3, 4, 5, 6, 8, 9, 10, 12, 13, 15, 2, 3, 6, 7, 14, 1, 2, 3, 4, 5, 6, 7, 8, 9, 10, 11, 12, 13, 4, 5, 4, 10, 1, 8, 12, 14, 8, 9, 1, 2, 3, 4, 5, 6, 7, 8, 9, 10, 11, 12, 13, 2, 10, 1, 2, 3, 4, 5, 6, 7, 8, 9, 10, 11, 12, 13, 14, 8, 11, 1, 2, 4, 8, 11], \"Freq\": [0.9586100578308105, 0.7151974439620972, 0.19866596162319183, 0.8505187034606934, 0.17326916754245758, 0.17326916754245758, 0.6064420938491821, 0.15297619998455048, 0.30595239996910095, 0.4589286148548126, 0.18412797152996063, 0.36825594305992126, 0.18412797152996063, 0.15765708684921265, 0.7094568610191345, 0.07882854342460632, 0.8490063548088074, 0.09554079920053482, 0.007349292282015085, 0.03674646094441414, 0.6908335089683533, 0.02939716912806034, 0.022047877311706543, 0.10289009660482407, 0.007349292282015085, 0.8643833994865417, 0.22779330611228943, 0.5694832801818848, 0.11389665305614471, 0.11389665305614471, 0.07714426517486572, 0.06171541288495064, 0.2854337990283966, 0.003857213305309415, 0.06557262688875198, 0.11571640521287918, 0.2661477327346802, 0.05785820260643959, 0.01542885322123766, 0.01928606629371643, 0.01928606629371643, 0.003857213305309415, 0.003857213305309415, 0.00771442661061883, 0.1453358680009842, 0.7266793251037598, 0.7121387720108032, 0.1780346930027008, 0.1780346930027008, 0.051529865711927414, 0.3091791868209839, 0.051529865711927414, 0.5668285489082336, 0.9389550685882568, 0.21944394707679749, 0.146295964717865, 0.40231388807296753, 0.03657399117946625, 0.18286995589733124, 0.1556246429681778, 0.1556246429681778, 0.6224985718727112, 0.09136047959327698, 0.7308838367462158, 0.09136047959327698, 0.12430637329816818, 0.12430637329816818, 0.7458382844924927, 0.1810901015996933, 0.1810901015996933, 0.3621802031993866, 0.5748360753059387, 0.28741803765296936, 0.059687353670597076, 0.17906206846237183, 0.059687353670597076, 0.17906206846237183, 0.17906206846237183, 0.11937470734119415, 0.17906206846237183, 0.17511248588562012, 0.7004499435424805, 0.7974895238876343, 0.1329149305820465, 0.1201503723859787, 0.42052632570266724, 0.06007518619298935, 0.06007518619298935, 0.06007518619298935, 0.06007518619298935, 0.06007518619298935, 0.06007518619298935, 0.541947066783905, 0.1806490272283554, 0.1806490272283554, 0.3581247329711914, 0.5371870994567871, 0.15737661719322205, 0.15737661719322205, 0.6295064687728882, 0.06693759560585022, 0.20081278681755066, 0.6024383306503296, 0.06693759560585022, 0.1792932152748108, 0.1792932152748108, 0.5378796458244324, 0.04803891107439995, 0.0960778221487999, 0.11209079623222351, 0.08006485551595688, 0.03202594071626663, 0.5284280180931091, 0.016012970358133316, 0.016012970358133316, 0.03202594071626663, 0.016012970358133316, 0.016012970358133316, 0.01664847508072853, 0.20810595154762268, 0.24972712993621826, 0.008324237540364265, 0.041621189564466476, 0.3745906949043274, 0.03329695016145706, 0.024972712621092796, 0.024972712621092796, 0.008324237540364265, 0.3747522830963135, 0.3747522830963135, 0.18737614154815674, 0.005637526512145996, 0.2987889051437378, 0.011275053024291992, 0.011275053024291992, 0.3100639581680298, 0.09583795070648193, 0.03946268558502197, 0.18040084838867188, 0.022550106048583984, 0.011275053024291992, 0.011275053024291992, 0.09657328575849533, 0.17828914523124695, 0.16640320420265198, 0.08468734472990036, 0.09508754312992096, 0.1396598368883133, 0.043086543679237366, 0.07874437421560287, 0.04754377156496048, 0.026743372902274132, 0.014857429079711437, 0.010400200262665749, 0.016343172639608383, 0.00297148572281003, 0.25887107849121094, 0.6903229355812073, 0.06882297992706299, 0.06882297992706299, 0.27529191970825195, 0.20646892488002777, 0.06882297992706299, 0.20646892488002777, 0.06882297992706299, 0.1772405207157135, 0.354481041431427, 0.354481041431427, 0.08337222039699554, 0.1667444407939911, 0.08337222039699554, 0.5836055278778076, 0.9757239818572998, 0.1601661890745163, 0.4804985523223877, 0.1601661890745163, 0.1601661890745163, 0.0691458210349083, 0.3733874261379242, 0.11063331365585327, 0.4010457694530487, 0.027658328413963318, 0.952767014503479, 0.006709626875817776, 0.020128881558775902, 0.013419253751635551, 0.814960241317749, 0.10187003016471863, 0.6133227944374084, 0.17437608540058136, 0.07215562462806702, 0.006012968719005585, 0.06614265590906143, 0.04209078103303909, 0.018038906157016754, 0.19266526401042938, 0.0582476370036602, 0.1164952740073204, 0.33156347274780273, 0.12545645236968994, 0.022402938455343246, 0.004480587784200907, 0.06272822618484497, 0.008961175568401814, 0.040325287729501724, 0.017922351136803627, 0.013441762886941433, 0.008961175568401814, 0.004480587784200907, 0.36356696486473083, 0.5453504323959351, 0.13622374832630157, 0.13622374832630157, 0.13622374832630157, 0.5448949933052063, 0.5687546730041504, 0.05687546730041504, 0.2843773365020752, 0.6782479286193848, 0.1695619821548462, 0.10107036679983139, 0.18236610293388367, 0.1779717355966568, 0.0571267306804657, 0.06152109429240227, 0.09667600691318512, 0.16039428114891052, 0.07909855246543884, 0.030760547146201134, 0.013183091767132282, 0.02416900172829628, 0.0043943640775978565, 0.006591545883566141, 0.0043943640775978565, 0.03651511296629906, 0.2556057870388031, 0.03651511296629906, 0.07303022593259811, 0.5477266907691956, 0.03651511296629906, 0.7939534783363342, 0.13232557475566864, 0.8949081897735596, 0.9322423338890076, 0.006341784261167049, 0.05390516668558121, 0.7562161087989807, 0.09452701359987259, 0.932222843170166, 0.7621975541114807, 0.12703292071819305, 0.008053060621023178, 0.008053060621023178, 0.4751305878162384, 0.008053060621023178, 0.49928978085517883, 0.18313156068325043, 0.241123229265213, 0.07935701310634613, 0.06409604847431183, 0.07325262576341629, 0.04883508384227753, 0.09461797773838043, 0.06104385480284691, 0.05188727751374245, 0.027469735592603683, 0.05799166485667229, 0.006104385480284691, 0.009156578220427036, 0.0030521927401423454, 0.542732298374176, 0.3618215322494507, 0.8529258370399475, 0.7373435497283936, 0.043970026075839996, 0.21308551728725433, 0.44973552227020264, 0.04876650124788284, 0.2221585065126419, 0.09211450070142746, 0.005418499931693077, 0.07585900276899338, 0.03792950138449669, 0.03792950138449669, 0.03251099959015846, 0.8270757794380188, 0.11815368384122849, 0.3504049777984619, 0.08760124444961548, 0.010950155556201935, 0.054750777781009674, 0.3832554221153259, 0.02190031111240387, 0.032850466668605804, 0.02190031111240387, 0.02190031111240387, 0.02190031111240387, 0.1246514692902565, 0.7479088306427002, 0.19235283136367798, 0.19235283136367798, 0.38470566272735596, 0.19235283136367798, 0.02912195958197117, 0.6115611791610718, 0.20385371148586273, 0.007280489895492792, 0.010920735076069832, 0.018201224505901337, 0.06916465610265732, 0.018201224505901337, 0.007280489895492792, 0.003640244947746396, 0.007280489895492792, 0.010920735076069832, 0.11132107675075531, 0.44528430700302124, 0.11132107675075531, 0.11132107675075531, 0.11132107675075531, 0.47174710035324097, 0.23587355017662048, 0.23587355017662048, 0.10968834161758423, 0.6581300497055054, 0.10968834161758423, 0.8900389075279236, 0.39311152696609497, 0.39311152696609497, 0.15724460780620575, 0.6438992619514465, 0.10731654614210129, 0.10731654614210129, 0.7552860379219055, 0.23439911007881165, 0.9806804656982422, 0.007210886105895042, 0.09725597500801086, 0.004228520672768354, 0.4947369396686554, 0.059199292212724686, 0.31713905930519104, 0.008457041345536709, 0.008457041345536709, 0.008457041345536709, 0.9259527921676636, 0.7794061899185181, 0.1640855073928833, 0.7105077505111694, 0.17762693762779236, 0.9362365007400513, 0.05115000531077385, 0.15345001220703125, 0.1023000106215477, 0.15345001220703125, 0.05115000531077385, 0.05115000531077385, 0.1023000106215477, 0.1023000106215477, 0.2046000212430954, 0.4629863202571869, 0.15432877838611603, 0.30865755677223206, 0.7335482835769653, 0.15946701169013977, 0.031893402338027954, 0.06378680467605591, 0.8638842105865479, 0.30667224526405334, 0.15333612263202667, 0.4600083529949188, 0.17457477748394012, 0.16293646395206451, 0.1280215084552765, 0.12220234423875809, 0.09019696712493896, 0.08874218165874481, 0.050917644053697586, 0.0683751180768013, 0.03782453387975693, 0.03200537711381912, 0.03200537711381912, 0.005819159094244242, 0.004364369437098503, 0.0014547897735610604, 0.0014547897735610604, 0.9567325711250305, 0.019525153562426567, 0.8657429814338684, 0.07528200000524521, 0.36862629652023315, 0.09215657413005829, 0.3225480020046234, 0.046078287065029144, 0.09215657413005829, 0.046078287065029144, 0.5520908236503601, 0.18403027951717377, 0.18403027951717377, 0.8757222890853882, 0.7706667184829712, 0.03853333741426468, 0.15413334965705872, 0.7196468710899353, 0.22142980992794037, 0.00793108157813549, 0.7455216646194458, 0.02379324473440647, 0.2141391932964325, 0.4159136414527893, 0.23766495287418365, 0.25747036933898926, 0.019805412739515305, 0.03961082547903061, 0.26990044116973877, 0.431840717792511, 0.10796017944812775, 0.16194027662277222, 0.8617786169052124, 0.06629066169261932, 0.7697094678878784, 0.032071229070425034, 0.032071229070425034, 0.032071229070425034, 0.06414245814085007, 0.33874422311782837, 0.02822868339717388, 0.01881912350654602, 0.33874422311782837, 0.14114342629909515, 0.05645736679434776, 0.02822868339717388, 0.00940956175327301, 0.00940956175327301, 0.01881912350654602, 0.01881912350654602, 0.09715051203966141, 0.048575256019830704, 0.7286288738250732, 0.048575256019830704, 0.048575256019830704, 0.15817080438137054, 0.13410133123397827, 0.10315486788749695, 0.03438495472073555, 0.08940088748931885, 0.0687699094414711, 0.1650477945804596, 0.09283938258886337, 0.110031858086586, 0.006876991130411625, 0.017192477360367775, 0.0034384955652058125, 0.02063097432255745, 0.8923916816711426, 0.042494840919971466, 0.042494840919971466, 0.009104078635573387, 0.009104078635573387, 0.2002897411584854, 0.6372855305671692, 0.009104078635573387, 0.13656118512153625, 0.8480778932571411, 0.08480779081583023, 0.49416452646255493, 0.08236075192689896, 0.24708226323127747, 0.08236075192689896, 0.08236075192689896, 0.31926649808883667, 0.478899747133255, 0.15963324904441833, 0.36683282256126404, 0.12227761000394821, 0.24455522000789642, 0.24455522000789642, 0.18681159615516663, 0.18681159615516663, 0.18681159615516663, 0.37362319231033325, 0.12491396069526672, 0.15192237496376038, 0.12829001247882843, 0.23969975113868713, 0.06752105802297592, 0.020256318151950836, 0.03376052901148796, 0.06752105802297592, 0.06414500623941422, 0.08102527260780334, 0.00675210589542985, 0.00675210589542985, 0.7699159979820251, 0.03207983449101448, 0.06415966898202896, 0.03207983449101448, 0.06415966898202896, 0.9059829711914062, 0.13649319112300873, 0.04549773037433624, 0.3184840977191925, 0.2274886518716812, 0.09099546074867249, 0.13649319112300873, 0.3251693546772003, 0.4335591495037079, 0.10838978737592697, 0.8637542128562927, 0.38592809438705444, 0.07718562334775925, 0.06003326177597046, 0.06860943883657455, 0.10291416198015213, 0.025728540495038033, 0.03430471941828728, 0.01715235970914364, 0.04288090020418167, 0.10291416198015213, 0.00857617985457182, 0.00857617985457182, 0.06003326177597046, 0.7556825876235962, 0.013575135730206966, 0.004525045398622751, 0.20362703502178192, 0.004525045398622751, 0.009050090797245502, 0.3618706166744232, 0.0452338270843029, 0.2714029550552368, 0.0452338270843029, 0.0904676541686058, 0.0452338270843029, 0.0452338270843029, 0.05233602970838547, 0.0785040408372879, 0.20934411883354187, 0.19626010954380035, 0.10467205941677094, 0.05233602970838547, 0.28784817457199097, 0.1038985401391983, 0.18182244896888733, 0.07792390882968903, 0.025974635034799576, 0.025974635034799576, 0.025974635034799576, 0.46754345297813416, 0.05194927006959915, 0.6331058740615845, 0.10750854015350342, 0.047781575471162796, 0.011945393867790699, 0.05972696840763092, 0.03583617880940437, 0.011945393867790699, 0.09556315094232559, 0.3233727514743805, 0.11318046599626541, 0.22636093199253082, 0.24252957105636597, 0.06467454880475998, 0.16068699955940247, 0.7230914831161499, 0.9724040627479553, 0.7797749638557434, 0.1299624890089035, 0.35285860300064087, 0.10739175230264664, 0.04602503776550293, 0.14830289781093597, 0.07670839130878448, 0.01022778544574976, 0.01022778544574976, 0.06136671453714371, 0.04091114178299904, 0.04091114178299904, 0.056252822279930115, 0.04091114178299904, 0.00511389272287488, 0.9655430316925049, 0.9052606821060181, 0.15739010274410248, 0.15739010274410248, 0.47217032313346863, 0.8925858736038208, 0.011443408206105232, 0.08582556247711182, 0.010026145726442337, 0.0802091658115387, 0.5681482553482056, 0.036762531846761703, 0.14036603271961212, 0.08689326047897339, 0.02339433878660202, 0.04678867757320404, 0.0033420484978705645, 0.0033420484978705645, 0.30650052428245544, 0.15325026214122772, 0.15325026214122772, 0.30650052428245544, 0.9255132079124451, 0.17581503093242645, 0.2107371836900711, 0.12403389066457748, 0.1131959781050682, 0.11078754812479019, 0.10356227308511734, 0.01806318759918213, 0.04335165023803711, 0.028901100158691406, 0.03130952641367912, 0.014450550079345703, 0.01685897447168827, 0.0072252750396728516, 0.0012042125454172492, 0.4633067548274994, 0.15443558990955353, 0.30887117981910706, 0.4180111289024353, 0.20900556445121765, 0.0597158744931221, 0.02985793724656105, 0.08957380801439285, 0.0597158744931221, 0.08957380801439285, 0.4013078212738037, 0.5350770950317383, 0.08847151696681976, 0.2211787849664688, 0.04423575848340988, 0.08847151696681976, 0.5308290719985962, 0.28922197222709656, 0.5784439444541931, 0.13557279109954834, 0.6778639554977417, 0.04222935810685158, 0.05912109836935997, 0.29560548067092896, 0.050675228238105774, 0.05912109836935997, 0.03378348425030708, 0.3800642192363739, 0.05912109836935997, 0.00844587106257677, 0.00844587106257677, 0.00844587106257677, 0.8817545771598816, 0.36743298172950745, 0.18371649086475372, 0.18371649086475372, 0.18371649086475372, 0.2897880971431732, 0.6278741955757141, 0.697158694267273, 0.0995941013097763, 0.0995941013097763, 0.17507971823215485, 0.7003188729286194, 0.17567631602287292, 0.7027052640914917, 0.6932119131088257, 0.10709991306066513, 0.15366509556770325, 0.1909172385931015, 0.04656517878174782, 0.060534730553627014, 0.1303824931383133, 0.08381731808185577, 0.03259562328457832, 0.1629781275987625, 0.013969553634524345, 0.009313035756349564, 0.004656517878174782, 0.004656517878174782, 0.13234038650989532, 0.03609283268451691, 0.7338876128196716, 0.024061888456344604, 0.024061888456344604, 0.03609283268451691, 0.1507667452096939, 0.3015334904193878, 0.45230022072792053, 0.23698005080223083, 0.17340002954006195, 0.0809200182557106, 0.04913001134991646, 0.09248001873493195, 0.08959002047777176, 0.06647001206874847, 0.08670001477003098, 0.052020009607076645, 0.005780001170933247, 0.03468000888824463, 0.008670002222061157, 0.023120004683732986, 0.5418490767478943, 0.3612326979637146, 0.1603788137435913, 0.1603788137435913, 0.1603788137435913, 0.1603788137435913, 0.1603788137435913, 0.1603788137435913, 0.3710108995437622, 0.1236703023314476, 0.3710108995437622, 0.20117788016796112, 0.7041225433349609, 0.8961466550827026, 0.18361537158489227, 0.36723074316978455, 0.36723074316978455, 0.10112977772951126, 0.8090382218360901, 0.1205882802605629, 0.27735304832458496, 0.14470593631267548, 0.01205882802605629, 0.08441179990768433, 0.06029414013028145, 0.27735304832458496, 0.09900861978530884, 0.2970258593559265, 0.03300287202000618, 0.06600574404001236, 0.4950430989265442, 0.2706660032272339, 0.45111000537872314, 0.18044400215148926, 0.0025329142808914185, 0.3140813708305359, 0.18490274250507355, 0.4939182698726654, 0.4403861463069916, 0.030521811917424202, 0.008720518089830875, 0.2616155445575714, 0.01744103617966175, 0.008720518089830875, 0.069764144718647, 0.008720518089830875, 0.09156543761491776, 0.030521811917424202, 0.02616155333817005, 0.004360259044915438, 0.14978912472724915, 0.7489456534385681, 0.9832049608230591, 0.004131113179028034, 0.004131113179028034, 0.9618980884552002, 0.08489706367254257, 0.14764706790447235, 0.18455883860588074, 0.040602944791316986, 0.040602944791316986, 0.3026764988899231, 0.07013235986232758, 0.022147059440612793, 0.06644117832183838, 0.022147059440612793, 0.00369117665104568, 0.00369117665104568, 0.00738235330209136, 0.00369117665104568, 0.14989261329174042, 0.018736576661467552, 0.23420719802379608, 0.018736576661467552, 0.018736576661467552, 0.48715096712112427, 0.037473153322935104, 0.009368288330733776, 0.009368288330733776, 0.2050677090883255, 0.16329465806484222, 0.1376611888408661, 0.07690038532018661, 0.0664571225643158, 0.10443262755870819, 0.048418764024972916, 0.07879916578531265, 0.042722437530756, 0.023734688758850098, 0.0332285612821579, 0.00854448787868023, 0.006645712535828352, 0.0009493874968029559, 0.0009493874968029559, 0.8881733417510986, 0.09868592768907547, 0.00684886472299695, 0.36127761006355286, 0.19690486788749695, 0.018834378570318222, 0.02397102676331997, 0.24827134609222412, 0.06335199624300003, 0.02397102676331997, 0.02397102676331997, 0.010273297317326069, 0.015409945510327816, 0.0017122161807492375, 0.0051366486586630344, 0.7744303941726685, 0.12907174229621887, 0.45199495553970337, 0.07079438865184784, 0.016337167471647263, 0.15792594850063324, 0.07624011486768723, 0.02178288996219635, 0.032674334943294525, 0.04901149868965149, 0.032674334943294525, 0.010891444981098175, 0.0435657799243927, 0.02178288996219635, 0.016337167471647263, 0.0054457224905490875, 0.08067221194505692, 0.16134442389011383, 0.6453776955604553, 0.08067221194505692, 0.9460344910621643, 0.464415580034256, 0.30961039662361145, 0.15480519831180573, 0.10793736577033997, 0.21587473154067993, 0.3238120973110199, 0.21587473154067993, 0.8614686131477356, 0.06153346970677376, 0.3608236312866211, 0.5904386639595032, 0.14626765251159668, 0.5850706100463867, 0.3902629613876343, 0.2341577708721161, 0.2341577708721161, 0.0780525952577591, 0.1603609174489975, 0.64144366979599, 0.10690727829933167, 0.05345363914966583, 0.5194419622421265, 0.03920316696166992, 0.049003954976797104, 0.01960158348083496, 0.13721108436584473, 0.13721108436584473, 0.06860554218292236, 0.862495481967926, 0.06634580343961716, 0.16959597170352936, 0.6783838868141174, 0.18839974701404572, 0.18839974701404572, 0.37679949402809143, 0.18839974701404572, 0.37170279026031494, 0.18585139513015747, 0.37170279026031494, 0.9304490089416504, 0.4120590388774872, 0.1030147597193718, 0.06867650896310806, 0.13735301792621613, 0.06867650896310806, 0.1030147597193718, 0.06867650896310806, 0.7863433957099915, 0.19024436175823212, 0.012682957574725151, 0.12752342224121094, 0.031880855560302734, 0.11158300191164017, 0.22316600382328033, 0.1434638649225235, 0.11158300191164017, 0.031880855560302734, 0.1912851482629776, 0.015940427780151367, 0.015940427780151367, 0.47812017798423767, 0.11953004449605942, 0.23906008899211884, 0.4012985825538635, 0.06688309460878372, 0.13376618921756744, 0.20064929127693176, 0.13376618921756744, 0.07405327260494232, 0.14810654520988464, 0.5924261808395386, 0.07405327260494232, 0.07405327260494232, 0.3099953830242157, 0.46499308943748474, 0.15499769151210785, 0.14672495424747467, 0.7336247563362122, 0.2125113606452942, 0.1062556803226471, 0.1062556803226471, 0.5312784314155579, 0.13380871713161469, 0.6690436005592346, 0.13380871713161469, 0.17360202968120575, 0.694408118724823, 0.1374225616455078, 0.5496902465820312, 0.1374225616455078, 0.675915539264679, 0.13518311083316803, 0.1596677601337433, 0.3193355202674866, 0.1596677601337433, 0.1596677601337433, 0.1596677601337433, 0.9474641680717468, 0.02255867049098015, 0.3544082045555115, 0.3544082045555115, 0.23627214133739471, 0.9133445620536804, 0.040593091398477554, 0.2815013825893402, 0.09321238100528717, 0.06897716224193573, 0.26658740639686584, 0.054063182324171066, 0.046606190502643585, 0.005592742934823036, 0.03728495165705681, 0.018642475828528404, 0.05219893530011177, 0.046606190502643585, 0.022370971739292145, 0.0037284952122718096, 0.29143932461738586, 0.34972721338272095, 0.11657573282718658, 0.029143933206796646, 0.05828786641359329, 0.11657573282718658, 0.029143933206796646, 0.44848498702049255, 0.012692972086369991, 0.00846198108047247, 0.3004003167152405, 0.004230990540236235, 0.0761578306555748, 0.10154377669095993, 0.012692972086369991, 0.02115495316684246, 0.004230990540236235, 0.01692396216094494, 0.3136007487773895, 0.05226679518818855, 0.365867555141449, 0.1045335903763771, 0.15680037438869476, 0.18423154950141907, 0.18423154950141907, 0.18423154950141907, 0.36846309900283813, 0.8664782047271729, 0.6577475666999817, 0.2630990445613861, 0.035755135118961334, 0.0065009333193302155, 0.8581231832504272, 0.009751399978995323, 0.05850839987397194, 0.0065009333193302155, 0.0065009333193302155, 0.0065009333193302155, 0.0032504666596651077, 0.0065009333193302155, 0.3042129576206207, 0.20280863344669342, 0.20280863344669342, 0.10140431672334671, 0.8502835035324097, 0.15731899440288544, 0.3146379888057709, 0.3146379888057709, 0.15731899440288544, 0.9885672330856323, 0.0015232160221785307, 0.0030464320443570614, 0.0030464320443570614, 0.10522307455539703, 0.19290897250175476, 0.10522307455539703, 0.017537178471684456, 0.24552050232887268, 0.2981320321559906, 0.0016109079588204622, 0.0016109079588204622, 0.0032218159176409245, 0.6395304203033447, 0.07249085605144501, 0.278687059879303, 0.20066425204277039, 0.04013285040855408, 0.28092995285987854, 0.3611956536769867, 0.04013285040855408, 0.04013285040855408, 0.9464860558509827, 0.018352914601564407, 0.0026218451093882322, 0.02359660528600216, 0.0026218451093882322, 0.0026218451093882322, 0.8852506279945374, 0.04426253214478493, 0.04426253214478493, 0.4027368426322937, 0.01917794533073902, 0.24931327998638153, 0.00958897266536951, 0.00958897266536951, 0.23013533651828766, 0.028766917064785957, 0.04794486239552498, 0.820546567440033, 0.009377675130963326, 0.007033256348222494, 0.15121501684188843, 0.003516628174111247, 0.0011722093913704157, 0.0011722093913704157, 0.0011722093913704157, 0.004688837565481663, 0.16395419836044312, 0.16395419836044312, 0.16395419836044312, 0.16395419836044312, 0.16395419836044312, 0.16395419836044312, 0.09240632504224777, 0.09240632504224777, 0.018481263890862465, 0.07392505556344986, 0.14785011112689972, 0.33266276121139526, 0.03696252778172493, 0.129368856549263, 0.03696252778172493, 0.008798805065453053, 0.4839342534542084, 0.13198207318782806, 0.3519521951675415, 0.008798805065453053, 0.008798805065453053, 0.2363446205854416, 0.1181723102927208, 0.04726892337203026, 0.06302522867918015, 0.15756307542324066, 0.015756307169795036, 0.03151261433959007, 0.2284664660692215, 0.02363446168601513, 0.02363446168601513, 0.02363446168601513, 0.015756307169795036, 0.007878153584897518, 0.5825570225715637, 0.07281962782144547, 0.08138664066791534, 0.04283507168292999, 0.14563925564289093, 0.004283507354557514, 0.008567014709115028, 0.034268058836460114, 0.012850522063672543, 0.008567014709115028, 0.2783590257167816, 0.2474302500486374, 0.1237151250243187, 0.09278634190559387, 0.09278634190559387, 0.030928781256079674, 0.030928781256079674, 0.06185756251215935, 0.8688547611236572, 0.12720569968223572, 0.7632341384887695, 0.2979441285133362, 0.6289932131767273, 0.0662098079919815, 0.4018614888191223, 0.009345616213977337, 0.03738246485590935, 0.2990597188472748, 0.16822108626365662, 0.028036847710609436, 0.04672807827591896, 0.7435991764068604, 0.02564135193824768, 0.10256540775299072, 0.10256540775299072, 0.3918553292751312, 0.0356232114136219, 0.011874403804540634, 0.33248332142829895, 0.15436725318431854, 0.0712464228272438, 0.39120176434516907, 0.19560088217258453, 0.09780044108629227, 0.19560088217258453, 0.8449009656906128, 0.0704084113240242, 0.6083980798721313, 0.3041990399360657, 0.9176617860794067, 0.06554727256298065, 0.6996039748191833, 0.11660066246986389, 0.11660066246986389, 0.21133999526500702, 0.18440450727939606, 0.10359804332256317, 0.09531019628047943, 0.024863529950380325, 0.08909431099891663, 0.04558313637971878, 0.08495039492845535, 0.08287843316793442, 0.01864764653146267, 0.039367254823446274, 0.006215882487595081, 0.012431764975190163, 0.0020719608291983604, 0.0020719608291983604, 0.1861417293548584, 0.5584251880645752, 0.1861417293548584, 0.40331634879112244, 0.40331634879112244, 0.31162163615226746, 0.46743243932724, 0.15581081807613373, 0.917743980884552, 0.17028716206550598, 0.6811486482620239, 0.17730790376663208, 0.17730790376663208, 0.5319237112998962, 0.9358305335044861, 0.17126986384391785, 0.6850794553756714, 0.4155277609825134, 0.09455122798681259, 0.03981104493141174, 0.10201580077409744, 0.11445675045251846, 0.004976380616426468, 0.009952761232852936, 0.08708665519952774, 0.0622047558426857, 0.022393712773919106, 0.034834664314985275, 0.009952761232852936, 0.002488190308213234, 0.36048629879951477, 0.13518236577510834, 0.045060787349939346, 0.22530394792556763, 0.045060787349939346, 0.13518236577510834, 0.28813499212265015, 0.07359970360994339, 0.08142945915460587, 0.11274848133325577, 0.12371014058589935, 0.023489266633987427, 0.026621168479323387, 0.1080506294965744, 0.07203374803066254, 0.04854448512196541, 0.02505521848797798, 0.006263804621994495, 0.007829755544662476, 0.0015659511554986238, 0.0015659511554986238, 0.00974976271390915, 0.048748813569545746, 0.11699715256690979, 0.643484354019165, 0.029249288141727448, 0.10724738985300064, 0.0389990508556366, 0.3998638093471527, 0.06532428413629532, 0.04354952275753021, 0.08907857537269592, 0.15836191177368164, 0.013856667093932629, 0.027713334187865257, 0.07522190362215042, 0.04552904888987541, 0.051467619836330414, 0.011877142824232578, 0.011877142824232578, 0.005938571412116289, 0.001979523804038763, 0.01610691100358963, 0.6308539509773254, 0.008053455501794815, 0.0697966068983078, 0.16643807291984558, 0.0026844849344342947, 0.042951758950948715, 0.008053455501794815, 0.024160364642739296, 0.0026844849344342947, 0.024160364642739296, 0.0026844849344342947, 0.04531146585941315, 0.13859978318214417, 0.2132304310798645, 0.013326901942491531, 0.02132304385304451, 0.2665380537509918, 0.1519266813993454, 0.018657661974430084, 0.08262678980827332, 0.015992281958460808, 0.010661521926522255, 0.007996140979230404, 0.010661521926522255, 0.0026653804816305637, 0.0026653804816305637, 0.2741200625896454, 0.2741200625896454, 0.1370600312948227, 0.2741200625896454, 0.15549392998218536, 0.3109878599643707, 0.4664817750453949, 0.960930347442627, 0.21739144623279572, 0.11304355412721634, 0.14347834885120392, 0.08695658296346664, 0.0847826674580574, 0.06086960434913635, 0.07608700543642044, 0.07826092094182968, 0.05434786155819893, 0.023913059383630753, 0.026086973026394844, 0.01956523023545742, 0.006521743256598711, 0.006521743256598711, 0.0687488541007042, 0.30445921421051025, 0.04714206978678703, 0.03928506001830101, 0.02553528919816017, 0.16892576217651367, 0.2141035795211792, 0.009821265004575253, 0.08249862492084503, 0.019642530009150505, 0.005892758723348379, 0.009821265004575253, 0.003928505815565586, 0.520135223865509, 0.07538191974163055, 0.03015276789665222, 0.06030553579330444, 0.12814925611019135, 0.01507638394832611, 0.07538191974163055, 0.03769095987081528, 0.01507638394832611, 0.01507638394832611, 0.022614575922489166, 0.07647589594125748, 0.11603239923715591, 0.16613729298114777, 0.044830698519945145, 0.05801619961857796, 0.08175009489059448, 0.3243632912635803, 0.05010489746928215, 0.04746779799461365, 0.007911300286650658, 0.013185500167310238, 0.007911300286650658, 0.00527419988065958, 0.00263709994032979, 0.250183641910553, 0.09796348214149475, 0.14619165658950806, 0.043706782162189484, 0.06782086938619614, 0.066313736140728, 0.14167025685310364, 0.05877808853983879, 0.048228174448013306, 0.025621216744184494, 0.022606955841183662, 0.013564174063503742, 0.012057043612003326, 0.0030142609030008316, 0.0015071304515004158, 0.32486480474472046, 0.32486480474472046, 0.16243240237236023, 0.9816886782646179, 0.5801171064376831, 0.19337236881256104, 0.19337236881256104, 0.15814264118671417, 0.31628528237342834, 0.4744279086589813, 0.4795873165130615, 0.01918349228799343, 0.04795873165130615, 0.16305968165397644, 0.07673396915197372, 0.01918349228799343, 0.07673396915197372, 0.009591746143996716, 0.02877523936331272, 0.04795873165130615, 0.009591746143996716, 0.009591746143996716, 0.01918349228799343, 0.6432066559791565, 0.12864133715629578, 0.1446000635623932, 0.0723000317811966, 0.2892001271247864, 0.0723000317811966, 0.1446000635623932, 0.1446000635623932, 0.4832759499549866, 0.4832759499549866, 0.888655424118042, 0.2754076421260834, 0.022950638085603714, 0.22950637340545654, 0.057376593351364136, 0.1836051046848297, 0.04590127617120743, 0.12622851133346558, 0.022950638085603714, 0.011475319042801857, 0.022950638085603714, 0.748173713684082, 0.1870434284210205, 0.5454531311988831, 0.18181771039962769, 0.18181771039962769, 0.15574520826339722, 0.31149041652679443, 0.15574520826339722, 0.31149041652679443, 0.5582118630409241, 0.11164237558841705, 0.11164237558841705, 0.8205183148384094, 0.7162079215049744, 0.23020969331264496, 0.025578854605555534, 0.08093216270208359, 0.09827477484941483, 0.19076867401599884, 0.01734260655939579, 0.12139824777841568, 0.1329599916934967, 0.2543582320213318, 0.011561738327145576, 0.05202782154083252, 0.01734260655939579, 0.011561738327145576, 0.005780869163572788, 0.13880640268325806, 0.13880640268325806, 0.13880640268325806, 0.2776128053665161, 0.2776128053665161, 0.497335284948349, 0.07104789465665817, 0.07104789465665817, 0.14209578931331635, 0.07104789465665817, 0.07104789465665817, 0.3536118268966675, 0.09487146139144897, 0.01724935695528984, 0.44848328828811646, 0.04312339425086975, 0.03449871391057968, 0.29966798424720764, 0.042809709906578064, 0.08561941981315613, 0.556526243686676, 0.008489902131259441, 0.7216416597366333, 0.029714656993746758, 0.01273485366255045, 0.033959608525037766, 0.004244951065629721, 0.15706318616867065, 0.016979804262518883, 0.004244951065629721, 0.004244951065629721, 0.008489902131259441, 0.6483290791511536, 0.05504680797457695, 0.09786099195480347, 0.04281418398022652, 0.0733957439661026, 0.024465247988700867, 0.030581559985876083, 0.01834893599152565, 0.012232623994350433, 0.006116311997175217, 0.15609772503376007, 0.31219545006752014, 0.15609772503376007, 0.31219545006752014, 0.06911098212003708, 0.2810513377189636, 0.12209606915712357, 0.004607398994266987, 0.04146659001708031, 0.1313108652830124, 0.1981181502342224, 0.048377688974142075, 0.08062947541475296, 0.006911098025739193, 0.009214797988533974, 0.0023036994971334934, 0.0023036994971334934, 0.13710421323776245, 0.6855210661888123, 0.06855210661888123, 0.06855210661888123, 0.5157003402709961, 0.11720462143421173, 0.023440923541784286, 0.04688184708356857, 0.04688184708356857, 0.023440923541784286, 0.07032277435064316, 0.04688184708356857, 0.04688184708356857, 0.04688184708356857, 0.2860478460788727, 0.18066179752349854, 0.06022059917449951, 0.015055149793624878, 0.10538604855537415, 0.030110299587249756, 0.16560664772987366, 0.045165449380874634, 0.030110299587249756, 0.030110299587249756, 0.030110299587249756, 0.647840678691864, 0.12458474934101105, 0.12458474934101105, 0.02491694875061512, 0.04983389750123024, 0.7285007238388062, 0.18212518095970154, 0.23464946448802948, 0.06452859938144684, 0.05866236612200737, 0.18185333907604218, 0.011732473038136959, 0.01759870909154415, 0.0058662365190684795, 0.1935858130455017, 0.0527961291372776, 0.0351974181830883, 0.0879935473203659, 0.0351974181830883, 0.0058662365190684795, 0.0058662365190684795, 0.01759870909154415, 0.43513718247413635, 0.22844702005386353, 0.32635289430618286, 0.7484607696533203, 0.14969214797019958, 0.5011562705039978, 0.04772917181253433, 0.04772917181253433, 0.38183337450027466, 0.19156789779663086, 0.10472378134727478, 0.17368821799755096, 0.09450682997703552, 0.06385596841573715, 0.058747489005327225, 0.08684410899877548, 0.06896444410085678, 0.06130172684788704, 0.03065086342394352, 0.045976296067237854, 0.01277119293808937, 0.0025542385410517454, 0.0025542385410517454, 0.28055810928344727, 0.04675968736410141, 0.2026253044605255, 0.1558656245470047, 0.01558656245470047, 0.01558656245470047, 0.03117312490940094, 0.09351937472820282, 0.01558656245470047, 0.06234624981880188, 0.03117312490940094, 0.03117312490940094, 0.1570274978876114, 0.17844034731388092, 0.02855045534670353, 0.049963295459747314, 0.1570274978876114, 0.11420182138681412, 0.021412841975688934, 0.014275227673351765, 0.21412841975688934, 0.021412841975688934, 0.021412841975688934, 0.02855045534670353, 0.925336480140686, 0.05783353000879288, 0.017300963401794434, 0.4152231514453888, 0.017300963401794434, 0.06920385360717773, 0.17300963401794434, 0.29411637783050537, 0.7241225242614746, 0.023358790203928947, 0.023358790203928947, 0.0700763687491417, 0.023358790203928947, 0.023358790203928947, 0.023358790203928947, 0.046717580407857895, 0.023358790203928947, 0.7551699280738831, 0.12586164474487305, 0.14614811539649963, 0.5480554699897766, 0.03653702884912491, 0.10961108654737473, 0.10961108654737473, 0.18335942924022675, 0.550078272819519, 0.18335942924022675, 0.4135829210281372, 0.08271658420562744, 0.19300536811351776, 0.17462389171123505, 0.02757219411432743, 0.0459536574780941, 0.0459536574780941, 0.2127961367368698, 0.16041556000709534, 0.10476117581129074, 0.08511845767498016, 0.055654376745224, 0.07202330976724625, 0.08511845767498016, 0.06220195069909096, 0.08184467256069183, 0.04910680279135704, 0.016368934884667397, 0.0032737867441028357, 0.006547573488205671, 0.0032737867441028357, 0.1193564385175705, 0.7161386013031006, 0.1193564385175705, 0.31026577949523926, 0.15513288974761963, 0.31026577949523926, 0.15130223333835602, 0.45390671491622925, 0.30260446667671204, 0.1504594385623932, 0.7522972226142883, 0.33751800656318665, 0.043271537870168686, 0.03029007650911808, 0.07356161624193192, 0.2985736131668091, 0.043271537870168686, 0.0692344605922699, 0.004327153787016869, 0.02596292272210121, 0.03029007650911808, 0.012981461361050606, 0.021635768935084343, 0.8482250571250916, 0.017310714349150658, 0.017310714349150658, 0.06924285739660263, 0.034621428698301315, 0.03306581825017929, 0.03306581825017929, 0.7605138421058655, 0.03306581825017929, 0.06613163650035858, 0.03306581825017929, 0.17467232048511505, 0.18631714582443237, 0.09606977552175522, 0.07278013229370117, 0.05822410434484482, 0.12518182396888733, 0.1135370060801506, 0.0844249501824379, 0.020378436893224716, 0.02911205217242241, 0.011644821614027023, 0.020378436893224716, 0.005822410807013512, 0.005822410807013512, 0.17876046895980835, 0.2666633427143097, 0.12926892936229706, 0.04210473969578743, 0.07386796176433563, 0.10046043246984482, 0.06943588703870773, 0.04579813778400421, 0.04210473969578743, 0.018466990441083908, 0.022899068892002106, 0.00147735932841897, 0.006648116745054722, 0.00147735932841897, 0.18094952404499054, 0.13223235309123993, 0.09743435680866241, 0.14615154266357422, 0.13223235309123993, 0.06611617654561996, 0.01739899255335331, 0.0869949609041214, 0.024358589202165604, 0.045237381011247635, 0.045237381011247635, 0.010439395904541016, 0.006959597114473581, 0.006959597114473581, 0.17375221848487854, 0.0789782777428627, 0.01579565554857254, 0.37909576296806335, 0.11056959629058838, 0.04738697037100792, 0.04738697037100792, 0.06318262219429016, 0.03159131109714508, 0.03159131109714508, 0.82565838098526, 0.11686151474714279, 0.008989347144961357, 0.6337490081787109, 0.044946737587451935, 0.18877629935741425, 0.0044946735724806786, 0.0044946735724806786, 0.11145824939012527, 0.33437472581863403, 0.11145824939012527, 0.22291649878025055, 0.11145824939012527, 0.9472963809967041, 0.11252931505441666, 0.2886621356010437, 0.17980226874351501, 0.05871094390749931, 0.029355471953749657, 0.0758349746465683, 0.08684327453374863, 0.0452563539147377, 0.08195069432258606, 0.01223144680261612, 0.014677735976874828, 0.00611572340130806, 0.003669433994218707, 0.0024462894070893526, 0.0012231447035446763, 0.07377240061759949, 0.36886200308799744, 0.36886200308799744, 0.07377240061759949, 0.07377240061759949, 0.540142297744751, 0.009312798269093037, 0.04656399041414261, 0.11175357550382614, 0.0745023861527443, 0.018625596538186073, 0.13037917017936707, 0.009312798269093037, 0.018625596538186073, 0.009312798269093037, 0.009312798269093037, 0.009312798269093037, 0.3594587445259094, 0.5391880869865417, 0.7420127987861633, 0.14840255677700043, 0.09341634809970856, 0.7473307847976685, 0.09341634809970856, 0.8193506598472595, 0.02482880838215351, 0.02482880838215351, 0.04965761676430702, 0.04965761676430702, 0.2045276165008545, 0.18748365342617035, 0.09033302962779999, 0.08181104809045792, 0.07328905910253525, 0.06476707756519318, 0.05965388938784599, 0.08862863481044769, 0.047723110765218735, 0.04260991886258125, 0.03408793732523918, 0.01022638101130724, 0.006817587185651064, 0.001704396796412766, 0.003408793592825532, 0.2240688055753708, 0.05170818418264389, 0.005745354108512402, 0.25854092836380005, 0.21257810294628143, 0.040217477828264236, 0.005745354108512402, 0.011490708217024803, 0.04596283286809921, 0.11490707844495773, 0.01723606139421463, 0.005745354108512402, 0.005745354108512402, 0.1763526201248169, 0.1763526201248169, 0.10581157356500626, 0.5290578603744507, 0.3189997375011444, 0.09022214263677597, 0.056388840079307556, 0.15305542945861816, 0.11922211945056915, 0.022555535659193993, 0.035444412380456924, 0.09988880157470703, 0.030611084774136543, 0.020944425836205482, 0.030611084774136543, 0.019333316013216972, 0.004833329003304243, 0.14802198112010956, 0.14802198112010956, 0.2960439622402191, 0.14802198112010956, 0.14802198112010956, 0.8515329957008362, 0.743485152721405, 0.04796678572893143, 0.07195017486810684, 0.11991696059703827, 0.08005821704864502, 0.11280930787324905, 0.22925762832164764, 0.058224160224199295, 0.17467248439788818, 0.24745267629623413, 0.04002910852432251, 0.021834060549736023, 0.007278020028024912, 0.003639010014012456, 0.010917030274868011, 0.003639010014012456, 0.003639010014012456, 0.14979663491249084, 0.14979663491249084, 0.5991865396499634, 0.18950459361076355, 0.5685137510299683, 0.18950459361076355, 0.15822599828243256, 0.15822599828243256, 0.3164519965648651, 0.15822599828243256, 0.15822599828243256, 0.925405740737915, 0.6241070032119751, 0.005869345273822546, 0.0019564484246075153, 0.0019564484246075153, 0.32672688364982605, 0.003912896849215031, 0.0019564484246075153, 0.0019564484246075153, 0.005869345273822546, 0.023477381095290184, 0.8508188724517822, 0.0063023618422448635, 0.037814173847436905, 0.09453543275594711, 0.0063023618422448635, 0.15306031703948975, 0.1885255128145218, 0.09706263989210129, 0.08026333898305893, 0.022399071604013443, 0.09332945942878723, 0.17732597887516022, 0.08399651199579239, 0.044798143208026886, 0.020532481372356415, 0.016799302771687508, 0.007466356735676527, 0.005599767901003361, 0.007466356735676527, 0.9170804023742676, 0.050948914140462875, 0.050948914140462875, 0.2107767015695572, 0.04215534031391144, 0.25293204188346863, 0.2107767015695572, 0.16862136125564575, 0.04215534031391144, 0.3065244257450104, 0.09730934351682663, 0.09244387596845627, 0.11677121371030807, 0.11190574616193771, 0.043789204210042953, 0.026760069653391838, 0.07054927200078964, 0.03649100288748741, 0.05838560685515404, 0.019461868330836296, 0.01459640171378851, 0.002432733541354537, 0.3613373339176178, 0.5420060157775879, 0.36327823996543884, 0.5449173450469971, 0.11329876631498337, 0.22167149186134338, 0.16994814574718475, 0.022167149931192398, 0.1527070254087448, 0.1206878125667572, 0.05172334983944893, 0.03201921656727791, 0.06896446645259857, 0.00985206663608551, 0.017241116613149643, 0.0024630166590213776, 0.007389049977064133, 0.0024630166590213776, 0.0024630166590213776, 0.15078133344650269, 0.18607057631015778, 0.115492083132267, 0.1363448202610016, 0.13153263926506042, 0.0721825510263443, 0.05132981389760971, 0.04170547425746918, 0.06737037748098373, 0.016040567308664322, 0.01122839655727148, 0.019248679280281067, 0.003208113368600607, 0.25002774596214294, 0.06135650351643562, 0.17026430368423462, 0.04908520355820656, 0.15032343566417694, 0.03374607861042023, 0.09663649648427963, 0.08436519652605057, 0.016873039305210114, 0.03681390359997749, 0.027610426768660545, 0.00613565044477582, 0.009203475899994373, 0.00613565044477582, 0.033026717603206635, 0.5614542365074158, 0.016513358801603317, 0.3137538433074951, 0.016513358801603317, 0.04954008013010025, 0.10507146269083023, 0.15760719776153564, 0.052535731345415115, 0.5778930187225342, 0.052535731345415115, 0.3454643487930298, 0.07272933423519135, 0.018182333558797836, 0.5272876620292664, 0.18446722626686096, 0.3689344525337219, 0.18446722626686096, 0.18446722626686096, 0.5928913354873657, 0.1729266494512558, 0.22233426570892334, 0.2661300003528595, 0.12001941353082657, 0.05740058794617653, 0.2191658765077591, 0.046964116394519806, 0.046964116394519806, 0.005218235310167074, 0.05218235403299332, 0.07305529713630676, 0.05218235403299332, 0.010436470620334148, 0.02609117701649666, 0.015654705464839935, 0.005218235310167074, 0.010436470620334148, 0.7416315078735352, 0.008061211556196213, 0.024183636531233788, 0.20153029263019562, 0.008061211556196213, 0.5329185128211975, 0.07613121718168259, 0.07613121718168259, 0.22839365899562836, 0.15505783259868622, 0.23870745301246643, 0.14485666155815125, 0.071408212184906, 0.030603518709540367, 0.07956915348768234, 0.071408212184906, 0.04896562919020653, 0.09793125838041306, 0.034683987498283386, 0.012241407297551632, 0.012241407297551632, 0.002040234627202153, 0.12019704282283783, 0.18128079175949097, 0.17536945641040802, 0.027586206793785095, 0.07290640473365784, 0.15566502511501312, 0.18522167205810547, 0.029556650668382645, 0.023645320907235146, 0.009852216579020023, 0.007881773635745049, 0.003940886817872524, 0.003940886817872524, 0.001970443408936262, 0.1523911952972412, 0.1523911952972412, 0.3047823905944824, 0.3047823905944824, 0.33772990107536316, 0.06754598021507263, 0.06754598021507263, 0.13509196043014526, 0.2026379406452179, 0.13509196043014526, 0.06754598021507263, 0.06754598021507263, 0.17632928490638733, 0.7053171396255493, 0.27024567127227783, 0.15706586837768555, 0.0854623094201088, 0.08315251767635345, 0.09239168465137482, 0.04850563406944275, 0.06698396801948547, 0.06929376721382141, 0.030027298256754875, 0.027717504650354385, 0.03926646709442139, 0.020788129419088364, 0.009239168837666512, 0.002309792209416628, 0.21219708025455475, 0.10943497717380524, 0.2175353765487671, 0.12144613265991211, 0.05738663300871849, 0.0747360810637474, 0.026691457256674767, 0.04804462194442749, 0.058721207082271576, 0.042706333100795746, 0.020018592476844788, 0.009342010132968426, 0.001334572909399867, 0.001334572909399867, 0.7724941968917847, 0.1544988453388214, 0.1577809602022171, 0.3155619204044342, 0.1577809602022171, 0.3155619204044342, 0.2962057590484619, 0.0987352505326271, 0.0987352505326271, 0.024683812633156776, 0.024683812633156776, 0.07405143976211548, 0.024683812633156776, 0.24683813750743866, 0.024683812633156776, 0.04936762526631355, 0.38060683012008667, 0.38060683012008667, 0.19030341506004333, 0.0068695880472660065, 0.6869587898254395, 0.14426134526729584, 0.04121752828359604, 0.04121752828359604, 0.07556546479463577, 0.7608353495597839, 0.20021982491016388, 0.31857141852378845, 0.6371428370475769, 0.6062240600585938, 0.04663262143731117, 0.16321417689323425, 0.06994893401861191, 0.09326524287462234, 0.0849604681134224, 0.18469667434692383, 0.18100273609161377, 0.04432719945907593, 0.014775733463466167, 0.12928767502307892, 0.21055419743061066, 0.033245399594306946, 0.07018473744392395, 0.025857534259557724, 0.007387866731733084, 0.011081799864768982, 0.003693933365866542, 0.003693933365866542, 0.8532668352127075, 0.1116490289568901, 0.1116490289568901, 0.6698942184448242, 0.31073588132858276, 0.31073588132858276, 0.15536794066429138, 0.15536794066429138, 0.3086339831352234, 0.20575597882270813, 0.10287798941135406, 0.10287798941135406, 0.10287798941135406, 0.10287798941135406, 0.5489892959594727, 0.18299642205238342, 0.36599284410476685, 0.19168558716773987, 0.06389519572257996, 0.6389519572257996, 0.06389519572257996, 0.07890508323907852, 0.789050817489624, 0.07890508323907852, 0.8407553434371948, 0.17918400466442108, 0.17918400466442108, 0.537551999092102, 0.3145330846309662, 0.4717996120452881, 0.1572665423154831, 0.13208839297294617, 0.13208839297294617, 0.6604419946670532, 0.113876111805439, 0.6832566857337952, 0.113876111805439, 0.10109769552946091, 0.5054884552955627, 0.10109769552946091, 0.10109769552946091, 0.10109769552946091, 0.18207602202892303, 0.18207602202892303, 0.5462280511856079, 0.6031336784362793, 0.30156683921813965, 0.16351968050003052, 0.021802624687552452, 0.7521905303001404, 0.010901312343776226, 0.032703936100006104, 0.010901312343776226, 0.18358612060546875, 0.18358612060546875, 0.3671722412109375, 0.18358612060546875, 0.3013969659805298, 0.10046565532684326, 0.3013969659805298, 0.20093131065368652, 0.12661810219287872, 0.75970858335495, 0.12166265398263931, 0.5474819540977478, 0.12166265398263931, 0.18249398469924927, 0.15050648152828217, 0.30101296305656433, 0.30101296305656433, 0.17178325355052948, 0.6871330142021179, 0.1434401273727417, 0.7172006368637085, 0.8938288688659668, 0.014652932062745094, 0.02930586412549019, 0.02930586412549019, 0.014652932062745094, 0.042115338146686554, 0.8844221234321594, 0.042115338146686554, 0.08551335334777832, 0.4275667667388916, 0.08551335334777832, 0.08551335334777832, 0.17102670669555664, 0.08551335334777832, 0.7398208379745483, 0.14796417951583862, 0.18618524074554443, 0.5585557222366333, 0.18618524074554443, 0.8338498473167419, 0.009590081870555878, 0.2855713367462158, 0.004262258764356375, 0.00852451752871275, 0.2813090682029724, 0.2855713367462158, 0.068196140229702, 0.00532782357186079, 0.00852451752871275, 0.03729476407170296, 0.0010655646910890937, 0.0010655646910890937, 0.0010655646910890937, 0.0010655646910890937, 0.7266435623168945, 0.24221451580524445, 0.39968669414520264, 0.3711376488208771, 0.15701977908611298, 0.01427452452480793, 0.02854904904961586, 0.7320437431335449, 0.2091553509235382, 0.9864515662193298, 0.004525007214397192, 0.8652952909469604, 0.06656117737293243, 0.3552435040473938, 0.1776217520236969, 0.44405439496040344, 0.1504148244857788, 0.05013827234506607, 0.45124444365501404, 0.10027654469013214, 0.05013827234506607, 0.1504148244857788, 0.29480934143066406, 0.12111086398363113, 0.26453161239624023, 0.10995591431856155, 0.0908331423997879, 0.006374255754053593, 0.027090586721897125, 0.027090586721897125, 0.006374255754053593, 0.027090586721897125, 0.006374255754053593, 0.009561384096741676, 0.006374255754053593, 0.0015935639385133982, 0.8529983162879944, 0.013669504784047604, 0.9295263290405273, 0.013669504784047604, 0.013669504784047604, 0.26656797528266907, 0.1351097971200943, 0.1077226772904396, 0.1241549476981163, 0.07303231954574585, 0.04199358448386192, 0.07850974798202515, 0.06938070803880692, 0.04199358448386192, 0.01460646465420723, 0.025561312213540077, 0.012780656106770039, 0.007303232327103615, 0.0018258080817759037, 0.0036516161635518074, 0.8732383251190186, 0.005244674626737833, 0.005244674626737833, 0.09178180247545242, 0.005244674626737833, 0.015734024345874786, 0.8970160484313965, 0.12958049774169922, 0.23954881727695465, 0.1596992164850235, 0.0322200171649456, 0.09736048430204391, 0.10156309604644775, 0.07004351168870926, 0.05743568018078804, 0.06514046341180801, 0.014709137380123138, 0.021013053134083748, 0.004903045948594809, 0.006303916219621897, 0.0007004351355135441, 0.13258486986160278, 0.12153612822294235, 0.2062431275844574, 0.05524369329214096, 0.029463304206728935, 0.08102408796548843, 0.18782855570316315, 0.06260952353477478, 0.069975346326828, 0.003682913025841117, 0.014731652103364468, 0.018414564430713654, 0.011048738844692707, 0.003682913025841117, 0.26222747564315796, 0.029136385768651962, 0.058272771537303925, 0.10683341324329376, 0.009712127968668938, 0.25251534581184387, 0.019424255937337875, 0.21366682648658752, 0.029136385768651962, 0.3317372798919678, 0.1658686399459839, 0.1658686399459839, 0.1658686399459839, 0.17453591525554657, 0.1593588888645172, 0.1290048062801361, 0.06450240314006805, 0.06450240314006805, 0.17453591525554657, 0.007588518317788839, 0.007588518317788839, 0.1593588888645172, 0.030354073271155357, 0.007588518317788839, 0.015177036635577679, 0.0037942591588944197, 0.0037942591588944197, 0.12072832137346268, 0.11746539920568466, 0.2251420021057129, 0.04568098857998848, 0.0505753792822361, 0.1990385800600052, 0.029366349801421165, 0.02773488499224186, 0.14193736016750336, 0.03262927755713463, 0.004894391633570194, 0.003262927755713463, 0.0016314638778567314, 0.11187348514795303, 0.5593674182891846, 0.05593674257397652, 0.24239255487918854, 0.27264630794525146, 0.036352843046188354, 0.43623411655426025, 0.05452926456928253, 0.05452926456928253, 0.036352843046188354, 0.05452926456928253, 0.036352843046188354, 0.08452790975570679, 0.23245175182819366, 0.042263954877853394, 0.08452790975570679, 0.021131977438926697, 0.042263954877853394, 0.12679186463356018, 0.10565988719463348, 0.21131977438926697, 0.042263954877853394, 0.021131977438926697, 0.37845537066459656, 0.16487164795398712, 0.0899299904704094, 0.12740081548690796, 0.011241248808801174, 0.0449649952352047, 0.011241248808801174, 0.04871207848191261, 0.04871207848191261, 0.014988331124186516, 0.026229580864310265, 0.014988331124186516, 0.003747082781046629, 0.003747082781046629, 0.007494165562093258, 0.9468238949775696, 0.8487984538078308, 0.3179861605167389, 0.0461592823266983, 0.05128809064626694, 0.25131165981292725, 0.11283379793167114, 0.04103047400712967, 0.0461592823266983, 0.02564404532313347, 0.04103047400712967, 0.035901665687561035, 0.020515237003564835, 0.005128809250891209, 0.005128809250891209, 0.17957477271556854, 0.17957477271556854, 0.3591495454311371, 0.4400383234024048, 0.2933588922023773, 0.2200191617012024, 0.19295109808444977, 0.09553889185190201, 0.17234466969966888, 0.13862505555152893, 0.06931252777576447, 0.06556590646505356, 0.08055239915847778, 0.07118584215641022, 0.03559292107820511, 0.028099674731492996, 0.02997298538684845, 0.014986492693424225, 0.003746623173356056, 0.001873311586678028, 0.001873311586678028, 0.2054281383752823, 0.6162844300270081, 0.10271406918764114, 0.2639179825782776, 0.02639179863035679, 0.36948516964912415, 0.2639179825782776, 0.02639179863035679, 0.6924127340316772, 0.09031470119953156, 0.06020980328321457, 0.030104901641607285, 0.09031470119953156, 0.015052450820803642, 0.015052450820803642, 0.11245491355657578, 0.18742485344409943, 0.13822582364082336, 0.009371242485940456, 0.03514216095209122, 0.1803964227437973, 0.25770917534828186, 0.04217059165239334, 0.025770917534828186, 0.009371242485940456, 0.15822702646255493, 0.6329081058502197, 0.26254743337631226, 0.10740576684474945, 0.0903572365641594, 0.0937669426202774, 0.13979798555374146, 0.04603104293346405, 0.06648928672075272, 0.10570091754198074, 0.04262133687734604, 0.013638827949762344, 0.017048534005880356, 0.008524267002940178, 0.006819413974881172, 0.001704853493720293, 0.406894326210022, 0.03229320049285889, 0.03229320049285889, 0.203447163105011, 0.061357080936431885, 0.02260524034500122, 0.035522520542144775, 0.0839623212814331, 0.03229320049285889, 0.035522520542144775, 0.02583456039428711, 0.019375920295715332, 0.006458640098571777, 0.0032293200492858887, 0.2849734425544739, 0.17848336696624756, 0.06074433773756027, 0.09749091416597366, 0.09824083745479584, 0.026247553527355194, 0.014998601749539375, 0.10723999887704849, 0.05249510705471039, 0.04049622267484665, 0.020998042076826096, 0.008249230682849884, 0.005249510519206524, 0.000749930099118501, 0.001499860198237002, 0.3116885721683502, 0.08831176161766052, 0.036363665014505386, 0.09350656718015671, 0.08831176161766052, 0.05194809287786484, 0.020779237151145935, 0.09350656718015671, 0.11948061734437943, 0.015584427863359451, 0.05194809287786484, 0.010389618575572968, 0.010389618575572968, 0.005194809287786484, 0.015584427863359451, 0.8073432445526123, 0.08970480412244797, 0.044852402061223984, 0.8772084712982178, 0.1860584020614624, 0.2047225683927536, 0.08632177114486694, 0.10615244507789612, 0.06299155950546265, 0.060658540576696396, 0.05482598766684532, 0.10148640722036362, 0.0699906200170517, 0.027996249496936798, 0.02274695225059986, 0.0058325519785285, 0.0081655727699399, 0.0017497655935585499, 0.00058325519785285, 0.010460945777595043, 0.8891804218292236, 0.05230472981929779, 0.031382836401462555, 0.09329180419445038, 0.09995550662279129, 0.01332740020006895, 0.13993771374225616, 0.3598398268222809, 0.11994660645723343, 0.033318500965833664, 0.09995550662279129, 0.033318500965833664, 0.006663700100034475, 0.1674240082502365, 0.1674240082502365, 0.5022720098495483, 0.8496882319450378, 0.1973130851984024, 0.1265377402305603, 0.1093800812959671, 0.1479848176240921, 0.07828181982040405, 0.0664859265089035, 0.0686306357383728, 0.0729200541973114, 0.0514729768037796, 0.0257364884018898, 0.0246641356498003, 0.01501295156776905, 0.0085788294672966, 0.0042894147336483, 0.003217061050236225, 0.88638836145401, 0.08058076351881027, 0.023023074492812157, 0.2297147959470749, 0.1890849620103836, 0.10469993948936462, 0.07500891387462616, 0.11251337081193924, 0.031253714114427567, 0.04219251498579979, 0.05625668540596962, 0.07813428342342377, 0.04062982648611069, 0.025002971291542053, 0.006250742822885513, 0.004688057117164135, 0.004688057117164135, 0.28691279888153076, 0.12418613582849503, 0.08564561605453491, 0.11704900115728378, 0.11133929342031479, 0.0471050888299942, 0.01998397707939148, 0.06423421204090118, 0.07422620058059692, 0.024266256019473076, 0.024266256019473076, 0.011419415473937988, 0.005709707736968994, 0.004282280802726746, 0.39508479833602905, 0.5267797112464905, 0.10297247022390366, 0.14136898517608643, 0.12740661203861237, 0.01570766419172287, 0.2495773434638977, 0.090755395591259, 0.1343877911567688, 0.06632125377655029, 0.03141532838344574, 0.017452960833907127, 0.010471776127815247, 0.0069811842404305935, 0.005235888063907623, 0.0017452960601076484, 0.25963294506073, 0.1069076880812645, 0.0839988961815834, 0.022908790037035942, 0.20617911219596863, 0.030545054003596306, 0.15272526443004608, 0.05345384404063225, 0.0076362635008990765, 0.015272527001798153, 0.022908790037035942, 0.0076362635008990765, 0.022908790037035942, 0.0076362635008990765, 0.13052605092525482, 0.2796986997127533, 0.13052605092525482, 0.22375895082950592, 0.11187947541475296, 0.01864657923579216, 0.03729315847158432, 0.05593973770737648, 0.8710258603096008, 0.014517097733914852, 0.08710258454084396, 0.8925532102584839, 0.17902763187885284, 0.0054250797256827354, 0.4828321039676666, 0.11121413856744766, 0.0054250797256827354, 0.0054250797256827354, 0.06510096043348312, 0.10850159823894501, 0.0054250797256827354, 0.021700318902730942, 0.00813762005418539, 0.9021332263946533, 0.8035548329353333, 0.15475870668888092, 0.035713549703359604, 0.2814972400665283, 0.656826913356781, 0.6617066264152527, 0.007192463148385286, 0.19899149239063263, 0.002397487871348858, 0.06712965667247772, 0.007192463148385286, 0.002397487871348858, 0.014384926296770573, 0.028769852593541145, 0.014384926296770573, 0.7579221129417419, 0.08421356976032257, 0.08421356976032257, 0.38212350010871887, 0.033966533839702606, 0.025474898517131805, 0.04245816543698311, 0.36514022946357727, 0.008491633459925652, 0.09340796619653702, 0.05094979703426361, 0.5419224500656128, 0.3612816631793976, 0.8754082322120667, 0.023861397057771683, 0.3101981580257416, 0.21475256979465485, 0.023861397057771683, 0.07158418744802475, 0.023861397057771683, 0.023861397057771683, 0.047722794115543365, 0.023861397057771683, 0.19089117646217346, 0.023861397057771683, 0.47906601428985596, 0.4471282958984375, 0.03193773329257965, 0.10959441214799881, 0.43837764859199524, 0.21918882429599762, 0.10959441214799881, 0.10959441214799881, 0.1177612915635109, 0.21441443264484406, 0.1355365812778473, 0.052214913070201874, 0.09554218500852585, 0.10665173828601837, 0.11220651865005493, 0.06776829063892365, 0.03888344764709473, 0.009998599998652935, 0.032217711210250854, 0.004443822428584099, 0.003332866821438074, 0.006665733642876148, 0.13323108851909637, 0.17209015786647797, 0.14433367550373077, 0.04163471609354019, 0.04441036283969879, 0.09992331266403198, 0.14155803620815277, 0.033307772129774094, 0.16098757088184357, 0.008326943032443523, 0.013878238387405872, 0.0027756476774811745, 0.0027756476774811745, 0.0027756476774811745, 0.9528999924659729, 0.9367383122444153, 0.05677201971411705, 0.26045486330986023, 0.651137113571167, 0.9897500872612, 0.0018431099597364664, 0.003686219919472933, 0.032722216099500656, 0.05999073013663292, 0.21269440650939941, 0.01090740505605936, 0.11452775448560715, 0.24541662633419037, 0.25632402300834656, 0.016361108049750328, 0.02181481011211872, 0.016361108049750328, 0.01090740505605936, 0.6852055788040161, 0.17130139470100403, 0.05326089635491371, 0.20335979759693146, 0.10167989879846573, 0.19367599487304688, 0.10652179270982742, 0.26146259903907776, 0.009683799929916859, 0.02420949935913086, 0.019367599859833717, 0.009683799929916859, 0.004841899964958429, 0.19697046279907227, 0.16883182525634766, 0.02813863754272461, 0.2532477378845215, 0.23917841911315918, 0.02813863754272461, 0.014069318771362305, 0.02813863754272461, 0.02813863754272461, 0.5281193852424622, 0.42009493708610535, 0.036008138209581375, 0.6136348843574524, 0.23011308908462524, 0.07670436054468155, 0.31965580582618713, 0.21310387551784515, 0.4262077510356903, 0.9679327011108398, 0.015867749229073524, 0.23965619504451752, 0.10270979255437851, 0.004890942480415106, 0.13205544650554657, 0.23965619504451752, 0.0342365987598896, 0.014672827906906605, 0.03912753984332085, 0.09292791038751602, 0.07336413860321045, 0.014672827906906605, 0.004890942480415106, 0.004890942480415106, 0.004890942480415106, 0.48492541909217834, 0.044084127992391586, 0.02645047754049301, 0.4055739939212799, 0.02645047754049301, 0.19069650769233704, 0.3813930153846741, 0.19069650769233704, 0.19069650769233704, 0.13078740239143372, 0.7847244143486023, 0.36429932713508606, 0.36429932713508606, 0.18214966356754303, 0.8027135729789734, 0.03567615896463394, 0.14270463585853577, 0.9845831394195557, 0.9435239434242249, 0.2975708544254303, 0.03306342661380768, 0.19838057458400726, 0.23144400119781494, 0.06612685322761536, 0.03306342661380768, 0.1322537064552307, 0.3599696457386017, 0.08999241143465042, 0.3599696457386017, 0.08999241143465042, 0.15069572627544403, 0.7534786462783813, 0.19223180413246155, 0.1520378738641739, 0.17300862073898315, 0.048931729048490524, 0.10310614854097366, 0.034951236099004745, 0.13106714189052582, 0.06640734523534775, 0.04718416929244995, 0.010485370643436909, 0.017475618049502373, 0.006990247406065464, 0.006990247406065464, 0.006990247406065464, 0.18783026933670044, 0.18783026933670044, 0.3756605386734009, 0.18783026933670044, 0.13646970689296722, 0.8188182711601257, 0.03372553363442421, 0.3987548351287842, 0.13754726946353912, 0.055547937750816345, 0.044967375695705414, 0.10911201685667038, 0.04232223704457283, 0.028435252606868744, 0.12432157248258591, 0.011241843923926353, 0.005951564759016037, 0.001322569907642901, 0.003967709839344025, 0.001322569907642901, 0.0006612849538214505, 0.15794536471366882, 0.6844298839569092, 0.052648454904556274, 0.052648454904556274, 0.6471377611160278, 0.2986789643764496, 0.255829781293869, 0.639574408531189, 0.198858380317688, 0.1657153218984604, 0.17618155479431152, 0.06279738247394562, 0.099429190158844, 0.038376178592443466, 0.0819854736328125, 0.04709804058074951, 0.064541757106781, 0.01221060287207365, 0.02790994942188263, 0.019188089296221733, 0.0017443718388676643, 0.0017443718388676643, 0.3407629728317261, 0.026212535798549652, 0.47182565927505493, 0.052425071597099304, 0.07863760739564896, 0.2773897349834442, 0.025549056008458138, 0.0036498650442808867, 0.0036498650442808867, 0.5255805850028992, 0.018249325454235077, 0.08394689857959747, 0.018249325454235077, 0.04014851525425911, 0.12175629287958145, 0.2840979993343353, 0.12175629287958145, 0.013528476469218731, 0.2570410668849945, 0.054113905876874924, 0.027056952938437462, 0.09469933807849884, 0.027056952938437462, 0.1622445434331894, 0.486733615398407, 0.1622445434331894, 0.06314548850059509, 0.12629097700119019, 0.25258195400238037, 0.31572744250297546, 0.12629097700119019, 0.06314548850059509, 0.06398171931505203, 0.09444920718669891, 0.3762734532356262, 0.07007521390914917, 0.02285061404109001, 0.20260877907276154, 0.03351423516869545, 0.02589736320078373, 0.04113110527396202, 0.04874797537922859, 0.012186993844807148, 0.0015233742306008935, 0.006093496922403574, 0.0015233742306008935, 0.9470376372337341, 0.754999577999115, 0.06990736722946167, 0.1537962108850479, 0.0734437108039856, 0.6609933972358704, 0.2203311324119568, 0.29449376463890076, 0.056017834693193436, 0.0480152852833271, 0.14884738624095917, 0.17605604231357574, 0.03361070156097412, 0.03521120920777321, 0.08322649449110031, 0.011203566566109657, 0.03521120920777321, 0.04001273959875107, 0.02880917116999626, 0.00480152852833271, 0.0032010190188884735, 0.3569779098033905, 0.1189926415681839, 0.4759705662727356, 0.9682742953300476, 0.6815993189811707, 0.17039982974529266, 0.48371878266334534, 0.184273824095726, 0.0691026821732521, 0.02303422801196575, 0.092136912047863, 0.1382053643465042, 0.16071093082427979, 0.05357031151652336, 0.08928385376930237, 0.3749921917915344, 0.017856771126389503, 0.05357031151652336, 0.24999478459358215, 0.13601329922676086, 0.06800664961338043, 0.3627021312713623, 0.022668883204460144, 0.022668883204460144, 0.34003323316574097, 0.7857857346534729, 0.03143142908811569, 0.15715715289115906, 0.04663588106632233, 0.3425943851470947, 0.1219707727432251, 0.02511162869632244, 0.11479602009057999, 0.1291455179452896, 0.0645727589726448, 0.06098538637161255, 0.03766744211316109, 0.023317940533161163, 0.0161431897431612, 0.007174751255661249, 0.005381063558161259, 0.0035873756278306246, 0.13606268167495728, 0.13606268167495728, 0.4081880450248718, 0.13606268167495728, 0.28649649024009705, 0.18193572759628296, 0.09201347082853317, 0.11919926851987839, 0.06064524129033089, 0.010456075891852379, 0.008364860899746418, 0.0585540272295475, 0.03973308950662613, 0.06901010125875473, 0.014638506807386875, 0.03764187544584274, 0.01882093772292137, 0.8105604648590088, 0.7680063843727112, 0.03657173365354538, 0.10971519351005554, 0.03657173365354538, 0.03657173365354538, 0.38837504386901855, 0.19418752193450928, 0.09709376096725464, 0.19418752193450928, 0.05291162431240082, 0.2645581066608429, 0.6349394917488098, 0.05291162431240082, 0.9786120653152466, 0.9556159973144531, 0.023857668042182922, 0.22068342566490173, 0.24454109370708466, 0.005964417010545731, 0.023857668042182922, 0.005964417010545731, 0.45926010608673096, 0.005964417010545731, 0.005964417010545731, 0.17581814527511597, 0.00837229285389185, 0.41861462593078613, 0.08372292667627335, 0.0167445857077837, 0.0334891714155674, 0.04186146333813667, 0.0167445857077837, 0.11721209436655045, 0.0167445857077837, 0.05860604718327522, 0.00837229285389185, 0.08375529944896698, 0.3071027398109436, 0.027918431907892227, 0.13959215581417084, 0.36293962597846985, 0.08375529944896698, 0.04420165345072746, 0.3335215747356415, 0.2009166032075882, 0.024109993129968643, 0.008036664687097073, 0.1526966243982315, 0.012054996564984322, 0.04018332064151764, 0.1526966243982315, 0.02009166032075882, 0.008036664687097073, 0.439903199672699, 0.25379031896591187, 0.2199515998363495, 0.06767741590738297, 0.07468444108963013, 0.07468444108963013, 0.07468444108963013, 0.14936888217926025, 0.4481066167354584, 0.07468444108963013, 0.07468444108963013, 0.8483926057815552, 0.8817703723907471, 0.17971226572990417, 0.5391368269920349, 0.8637097477912903, 0.0785190686583519, 0.49919554591178894, 0.005546617321670055, 0.2163180708885193, 0.005546617321670055, 0.23295792937278748, 0.005546617321670055, 0.02218646928668022, 0.18329349160194397, 0.3421478569507599, 0.0244391318410635, 0.097756527364254, 0.31770870089530945, 0.036658696830272675, 0.3749483823776245, 0.18747419118881226, 0.18747419118881226, 0.18747419118881226, 0.13051250576972961, 0.6525624990463257, 0.5734005570411682, 0.009248395450413227, 0.009248395450413227, 0.268203467130661, 0.04624198004603386, 0.027745187282562256, 0.06473877280950546, 0.15834634006023407, 0.17813964188098907, 0.6531786918640137, 0.8675137162208557, 0.5904934406280518, 0.10269451141357422, 0.025673627853393555, 0.10269451141357422, 0.15404176712036133, 0.9522086977958679, 0.012529061175882816, 0.012529061175882816, 0.012529061175882816, 0.3688599467277527, 0.18442997336387634, 0.3688599467277527, 0.08677545934915543, 0.56404048204422, 0.04338772967457771, 0.17355091869831085, 0.08677545934915543, 0.410150408744812, 0.32812032103538513, 0.16406016051769257, 0.6095393896102905, 0.15238484740257263, 0.30476969480514526, 0.18546432256698608, 0.18546432256698608, 0.37092864513397217, 0.6239098906517029, 0.32837364077568054, 0.8654053211212158, 0.8423188924789429, 0.046795494854450226, 0.09359098970890045, 0.046795494854450226, 0.2698565125465393, 0.13492825627326965, 0.03373206406831741, 0.505980908870697, 0.03373206406831741, 0.11283840239048004, 0.7898688316345215, 0.7733778357505798, 0.1288962960243225, 0.6268669962882996, 0.20895567536354065, 0.08358226716518402, 0.5354225635528564, 0.3569483757019043, 0.6003940105438232, 0.0750492513179779, 0.1500985026359558, 0.0750492513179779, 0.0750492513179779, 0.2703895568847656, 0.054077912122011185, 0.054077912122011185, 0.16223374009132385, 0.054077912122011185, 0.10815582424402237, 0.21631164848804474, 0.054077912122011185, 0.19783884286880493, 0.19783884286880493, 0.039567768573760986, 0.039567768573760986, 0.10881136357784271, 0.04945971071720123, 0.009891942143440247, 0.04945971071720123, 0.17805495858192444, 0.1285952478647232, 0.009891942143440247, 0.28754085302352905, 0.20912061631679535, 0.07319221645593643, 0.10456030815839767, 0.036596108227968216, 0.0784202292561531, 0.005228015128523111, 0.07319221645593643, 0.047052137553691864, 0.03136809170246124, 0.02614007703959942, 0.010456030257046223, 0.010456030257046223, 0.1550024300813675, 0.2358732670545578, 0.15275602042675018, 0.020217709243297577, 0.056160300970077515, 0.1302919089794159, 0.04942106455564499, 0.0516674779355526, 0.08087083697319031, 0.011232060380280018, 0.024710532277822495, 0.017971297726035118, 0.006739236414432526, 0.0022464122157543898, 0.0022464122157543898, 0.46696481108665466, 0.03891373425722122, 0.47993603348731995, 0.8886667490005493, 0.21242432296276093, 0.6372729539871216, 0.09103899449110031, 0.12102110683917999, 0.48408442735671997, 0.24204221367835999, 0.6846922636032104, 0.1711730659008026, 0.16283592581748962, 0.40708979964256287, 0.32567185163497925, 0.48015668988227844, 0.12003917247056961, 0.24007834494113922, 0.7384551167488098, 0.1476910263299942, 0.04775089770555496, 0.2344134896993637, 0.19534458220005035, 0.017363961786031723, 0.026045942679047585, 0.13022971153259277, 0.24309547245502472, 0.04775089770555496, 0.034727923572063446, 0.008681980893015862, 0.004340990446507931, 0.004340990446507931, 0.004340990446507931, 0.009921885095536709, 0.06945319473743439, 0.27781277894973755, 0.019843770191073418, 0.10914073139429092, 0.1289845108985901, 0.32742220163345337, 0.019843770191073418, 0.019843770191073418, 0.009921885095536709, 0.6007528305053711, 0.15018820762634277, 0.18657535314559937, 0.15507562458515167, 0.1938445270061493, 0.03149973601102829, 0.07269170135259628, 0.07511475682258606, 0.15022951364517212, 0.041191961616277695, 0.04361501708626747, 0.007269169669598341, 0.014538339339196682, 0.01938445307314396, 0.00484611326828599, 0.7263335585594177, 0.07782144844532013, 0.05188096687197685, 0.05188096687197685, 0.05188096687197685, 0.8973388075828552, 0.4752049148082733, 0.15840163826942444, 0.15840163826942444, 0.15840163826942444, 0.657844603061676, 0.015298711135983467, 0.030597422271966934, 0.16828583180904388, 0.030597422271966934, 0.04589613527059555, 0.015298711135983467, 0.015298711135983467, 0.1534339189529419, 0.6137356758117676, 0.1534339189529419, 0.1413324624300003, 0.1413324624300003, 0.4239974021911621, 0.2826649248600006, 0.20605185627937317, 0.08013127744197845, 0.12592057883739471, 0.02289465069770813, 0.1602625548839569, 0.04578930139541626, 0.04578930139541626, 0.011447325348854065, 0.28618311882019043, 0.02289465069770813, 0.17539308965206146, 0.7015723586082458, 0.5949061512947083, 0.0504157729446888, 0.010083154775202274, 0.0403326191008091, 0.010083154775202274, 0.23191256821155548, 0.030249465256929398, 0.02016630955040455, 0.010083154775202274, 0.5121282339096069, 0.012803206220269203, 0.1472368687391281, 0.006401603110134602, 0.17284327745437622, 0.006401603110134602, 0.08962243795394897, 0.03200801461935043, 0.006401603110134602, 0.1542707234621048, 0.3085414469242096, 0.1542707234621048, 0.3085414469242096, 0.42463400959968567, 0.014642552472651005, 0.04392765462398529, 0.014642552472651005, 0.2489233911037445, 0.014642552472651005, 0.014642552472651005, 0.07321275770664215, 0.02928510494530201, 0.07321275770664215, 0.02928510494530201, 0.02928510494530201, 0.3085780143737793, 0.3085780143737793, 0.3085780143737793, 0.39235547184944153, 0.06539257615804672, 0.19617773592472076, 0.2615703046321869, 0.03269628807902336, 0.40134796500205994, 0.01605391874909401, 0.3692401349544525, 0.11237742751836777, 0.01605391874909401, 0.06421567499637604, 0.37896353006362915, 0.04210706055164337, 0.04210706055164337, 0.04210706055164337, 0.42107057571411133, 0.21875329315662384, 0.19886662065982819, 0.1342349797487259, 0.0348016582429409, 0.08948998153209686, 0.0348016582429409, 0.05468832328915596, 0.059659987688064575, 0.08451831340789795, 0.019886663183569908, 0.019886663183569908, 0.0348016582429409, 0.004971665795892477, 0.004971665795892477, 0.004971665795892477, 0.6354714632034302, 0.15886786580085754, 0.3953745663166046, 0.2635830342769623, 0.2635830342769623, 0.8043225407600403, 0.03351343795657158, 0.03351343795657158, 0.12288261204957962, 0.17857415974140167, 0.17857415974140167, 0.5357224345207214, 0.3729113042354584, 0.1864556521177292, 0.1864556521177292, 0.1864556521177292, 0.27060696482658386, 0.4059104323387146, 0.27060696482658386, 0.04413539916276932, 0.08827079832553864, 0.17654159665107727, 0.04413539916276932, 0.04413539916276932, 0.6178956031799316, 0.10219979286193848, 0.10219979286193848, 0.7153985500335693, 0.007999137043952942, 0.06399309635162354, 0.40795597434043884, 0.0959896445274353, 0.04799482226371765, 0.3679603040218353, 0.1525331288576126, 0.1525331288576126, 0.6101325154304504, 0.31202924251556396, 0.6240584850311279, 0.12348660081624985, 0.2469732016324997, 0.2469732016324997, 0.2469732016324997, 0.06394385546445847, 0.191831573843956, 0.6394385695457458, 0.06394385546445847, 0.08495724201202393, 0.13805551826953888, 0.24956189095973969, 0.053098276257514954, 0.1274358630180359, 0.2601815462112427, 0.026549138128757477, 0.04778844863176346, 0.005309827625751495, 0.005309827625751495, 0.07560575008392334, 0.7182546257972717, 0.15121150016784668, 0.2719053030014038, 0.1359526515007019, 0.5438106060028076, 0.8090212345123291, 0.062232401221990585, 0.062232401221990585, 0.05213652551174164, 0.19116726517677307, 0.2838544249534607, 0.01737884245812893, 0.031861208379268646, 0.17089194059371948, 0.14772015810012817, 0.01737884245812893, 0.0666188895702362, 0.014482367783784866, 0.0028964735101908445, 0.0028964735101908445, 0.1421569585800171, 0.1421569585800171, 0.2843139171600342, 0.1421569585800171, 0.2843139171600342, 0.1710936725139618, 0.6843746900558472, 0.0855468362569809, 0.16420316696166992, 0.13262563943862915, 0.11367911845445633, 0.04420854523777962, 0.07578607648611069, 0.271566778421402, 0.08841709047555923, 0.06947057694196701, 0.006315506529062986, 0.025262026116251945, 0.012631013058125973, 0.012631013058125973, 0.816963791847229, 0.10212047398090363, 0.18284469842910767, 0.1170206069946289, 0.19747227430343628, 0.07313787937164307, 0.09873613715171814, 0.09142234921455383, 0.09873613715171814, 0.06582409143447876, 0.02194136381149292, 0.018284469842910767, 0.018284469842910767, 0.0036568939685821533, 0.0036568939685821533, 0.007313787937164307, 0.8278500437736511, 0.11826428771018982, 0.5340920686721802, 0.025432955473661423, 0.025432955473661423, 0.34334489703178406, 0.025432955473661423, 0.012716477736830711, 0.038149431347846985, 0.2524101436138153, 0.03441956639289856, 0.06883913278579712, 0.0917855054140091, 0.12620507180690765, 0.04589275270700455, 0.06883913278579712, 0.1606246381998062, 0.03441956639289856, 0.05736594274640083, 0.04589275270700455, 0.022946376353502274, 0.6725939512252808, 0.3042686879634857, 0.016014141961932182, 0.051675230264663696, 0.0027197489980608225, 0.06799372285604477, 0.8132049441337585, 0.0027197489980608225, 0.0027197489980608225, 0.016318492591381073, 0.0027197489980608225, 0.032636985182762146, 0.008159246295690536, 0.3339051604270935, 0.05565086379647255, 0.05565086379647255, 0.3339051604270935, 0.16695258021354675, 0.3707702159881592, 0.1853851079940796, 0.3707702159881592, 0.1461755633354187, 0.0974503755569458, 0.0974503755569458, 0.1949007511138916, 0.2436259388923645, 0.2436259388923645, 0.17001992464065552, 0.1382828801870346, 0.1371494084596634, 0.18362152576446533, 0.06800796836614609, 0.08500996232032776, 0.017001992091536522, 0.034003984183073044, 0.09974502772092819, 0.038537852466106415, 0.01473506074398756, 0.006800797302275896, 0.006800797302275896, 0.33867618441581726, 0.1481708288192749, 0.48684701323509216, 0.2980598509311676, 0.11247541755437851, 0.07029713690280914, 0.17714877426624298, 0.0674852505326271, 0.014059427194297314, 0.016871312633156776, 0.12934672832489014, 0.042178280651569366, 0.03936639428138733, 0.011247541755437851, 0.011247541755437851, 0.0028118854388594627, 0.0028118854388594627, 0.08747611194849014, 0.17495222389698029, 0.17495222389698029, 0.08747611194849014, 0.34990444779396057, 0.8651747703552246, 0.2115451991558075, 0.10577259957790375, 0.10577259957790375, 0.5288629531860352, 0.27366873621940613, 0.09122291207313538, 0.09122291207313538, 0.18244582414627075, 0.09122291207313538, 0.09122291207313538, 0.09122291207313538, 0.22815589606761932, 0.038025982677936554, 0.6464416980743408, 0.038025982677936554, 0.038025982677936554, 0.23720163106918335, 0.11665654182434082, 0.14258021116256714, 0.08814049512147903, 0.07129010558128357, 0.05832827091217041, 0.05962445214390755, 0.06999392062425613, 0.07777102291584015, 0.03370077908039093, 0.01814657263457775, 0.015554205514490604, 0.005184735171496868, 0.003888551378622651, 0.001296183792874217, 0.9746912121772766, 0.15108035504817963, 0.4532410800457001, 0.30216071009635925, 0.921562671661377, 0.47015994787216187, 0.08367253094911575, 0.019922031089663506, 0.12351659685373306, 0.06773490458726883, 0.019922031089663506, 0.1553918421268463, 0.019922031089663506, 0.011953218840062618, 0.019922031089663506, 0.003984406124800444, 0.003984406124800444, 0.13599605858325958, 0.15866206586360931, 0.02266600914299488, 0.09066403657197952, 0.11333004385232925, 0.02266600914299488, 0.24932609498500824, 0.13599605858325958, 0.04533201828598976, 0.06729108840227127, 0.13458217680454254, 0.7402019500732422, 0.2188885509967804, 0.6566656827926636, 0.07296285033226013, 0.1800750195980072, 0.3601500391960144, 0.3601500391960144, 0.8766118288040161, 0.36434033513069153, 0.36434033513069153, 0.18217016756534576, 0.3648397624492645, 0.08419379591941833, 0.06314534693956375, 0.16137143969535828, 0.06314534693956375, 0.01403229869902134, 0.09822609275579453, 0.04911304637789726, 0.04209689795970917, 0.021048448979854584, 0.02806459739804268, 0.01403229869902134, 0.18345005810260773, 0.15174263715744019, 0.12456484884023666, 0.09285743534564972, 0.05435556918382645, 0.07247409224510193, 0.05435556918382645, 0.07020927965641022, 0.1087111383676529, 0.018118523061275482, 0.036237046122550964, 0.020383339375257492, 0.006794446147978306, 0.0022648153826594353, 0.9297400116920471, 0.2525477409362793, 0.631369411945343, 0.18951205909252167, 0.10369527339935303, 0.0929681807756424, 0.060786884278059006, 0.11799807101488113, 0.0464840903878212, 0.21096624433994293, 0.10011957585811615, 0.03218129277229309, 0.017878495156764984, 0.014302796684205532, 0.007151398342102766, 0.007151398342102766, 0.11890219897031784, 0.22375231981277466, 0.1361970603466034, 0.04323716461658478, 0.13295428454875946, 0.14052078127861023, 0.05404645577073097, 0.06485574692487717, 0.030266014859080315, 0.04323716461658478, 0.006485574413090944, 0.0021618581376969814, 0.003242787206545472, 0.0010809290688484907, 0.2495911717414856, 0.0623977929353714, 0.0623977929353714, 0.0623977929353714, 0.16639411449432373, 0.08319705724716187, 0.0623977929353714, 0.020799264311790466, 0.22879190742969513, 0.3322388231754303, 0.4371563494205475, 0.052458759397268295, 0.12240377813577652, 0.01748625375330448, 0.01748625375330448, 0.20073647797107697, 0.40147295594215393, 0.20073647797107697, 0.20073647797107697, 0.19082820415496826, 0.019082820042967796, 0.03816564008593559, 0.15266256034374237, 0.40073922276496887, 0.07633128017187119, 0.019082820042967796, 0.05724845826625824, 0.03816564008593559, 0.019082820042967796, 0.4662105143070221, 0.11655262857675552, 0.11655262857675552, 0.23310525715351105, 0.15525232255458832, 0.31050464510917664, 0.15525232255458832, 0.15525232255458832, 0.8629891872406006, 0.06638378649950027, 0.5854156613349915, 0.08363080769777298, 0.02787693589925766, 0.11150774359703064, 0.16726161539554596, 0.35691842436790466, 0.35691842436790466, 0.18441087007522583, 0.04610271751880646, 0.4610271751880646, 0.18441087007522583, 0.04610271751880646, 0.04610271751880646, 0.02814152091741562, 0.11091069877147675, 0.190369114279747, 0.03972920402884483, 0.43039971590042114, 0.0976676344871521, 0.009932301007211208, 0.0016553836176171899, 0.0297969039529562, 0.05628304183483124, 0.0016553836176171899, 0.15351417660713196, 0.6140567064285278, 0.008737326599657536, 0.02446451410651207, 0.4892902672290802, 0.008737326599657536, 0.013979721814393997, 0.2289179414510727, 0.13630229234695435, 0.010484791360795498, 0.05591888725757599, 0.010484791360795498, 0.010484791360795498, 0.0017474652267992496, 0.11342734843492508, 0.027006512507796288, 0.24305860698223114, 0.010802604258060455, 0.07561822980642319, 0.34568333625793457, 0.0972234457731247, 0.054013025015592575, 0.027006512507796288, 0.010802604258060455, 0.5354753136634827, 0.1784917712211609, 0.1784917712211609, 0.8493287563323975, 0.876410961151123, 0.672823965549469, 0.143535777926445, 0.13456478714942932, 0.008970986120402813, 0.03588394448161125, 0.15554559230804443, 0.15554559230804443, 0.4666367769241333, 0.08603018522262573, 0.29250261187553406, 0.24088451266288757, 0.3097086548805237, 0.0688241496682167, 0.32855841517448425, 0.547597348690033, 0.10951947420835495, 0.2774105668067932, 0.1387052834033966, 0.4161158800125122, 0.9358645677566528, 0.09480395168066025, 0.1983254998922348, 0.19287699460983276, 0.05775412917137146, 0.06647173315286636, 0.15800657868385315, 0.10461125522851944, 0.03160131722688675, 0.05230562761425972, 0.027242513373494148, 0.008717604912817478, 0.0032691017258912325, 0.0032691017258912325, 0.0010897006141021848, 0.0010897006141021848, 0.2621602714061737, 0.07490293681621552, 0.1872573345899582, 0.03745146840810776, 0.4494176208972931, 0.41708096861839294, 0.06319408118724823, 0.031597040593624115, 0.1516658067703247, 0.07583290338516235, 0.01895822584629059, 0.03791645169258118, 0.06319408118724823, 0.02527763321995735, 0.031597040593624115, 0.02527763321995735, 0.0505552664399147, 0.006319408304989338, 0.14333873987197876, 0.14333873987197876, 0.2866774797439575, 0.2866774797439575, 0.14325743913650513, 0.14325743913650513, 0.14325743913650513, 0.429772287607193, 0.8208639621734619, 0.08208639919757843, 0.041043199598789215, 0.08208639919757843, 0.5409650206565857, 0.07728071510791779, 0.07728071510791779, 0.15456143021583557, 0.07728071510791779, 0.15528349578380585, 0.15528349578380585, 0.46585050225257874, 0.15528349578380585, 0.17118452489376068, 0.6847380995750427, 0.3694055378437042, 0.3694055378437042, 0.1847027689218521, 0.36943691968917847, 0.18471845984458923, 0.36943691968917847, 0.5915201902389526, 0.010111456736922264, 0.005055728368461132, 0.19211767613887787, 0.010111456736922264, 0.03539009764790535, 0.020222913473844528, 0.020222913473844528, 0.05561301112174988, 0.045501552522182465, 0.005055728368461132, 0.8777244091033936, 0.19843173027038574, 0.05952952057123184, 0.03968634828925133, 0.5357657074928284, 0.03968634828925133, 0.019843174144625664, 0.019843174144625664, 0.019843174144625664, 0.03968634828925133, 0.019843174144625664, 0.9661585688591003, 0.9457403421401978, 0.33327874541282654, 0.07877497375011444, 0.006059613544493914, 0.17572879791259766, 0.10907304286956787, 0.036357682198286057, 0.04847690835595131, 0.09695381671190262, 0.036357682198286057, 0.012119227088987827, 0.024238454177975655, 0.024238454177975655, 0.006059613544493914, 0.012119227088987827, 0.1404780149459839, 0.0819455161690712, 0.023413004353642464, 0.4097275733947754, 0.03511950373649597, 0.023413004353642464, 0.12877151370048523, 0.04682600870728493, 0.03511950373649597, 0.04682600870728493, 0.011706502176821232, 0.023413004353642464, 0.32649996876716614, 0.08162499219179153, 0.489749938249588, 0.08162499219179153, 0.1438829004764557, 0.07194145023822784, 0.21582435071468353, 0.5035901665687561, 0.37327122688293457, 0.03059600293636322, 0.02753640152513981, 0.2264104187488556, 0.11626480519771576, 0.012238400988280773, 0.024476801976561546, 0.04283440113067627, 0.052013203501701355, 0.03977480158209801, 0.021417200565338135, 0.021417200565338135, 0.006119200494140387, 0.0030596002470701933, 0.3703019320964813, 0.18515096604824066, 0.18515096604824066, 0.18515096604824066, 0.12884047627449036, 0.1189296767115593, 0.08919725567102432, 0.09910806268453598, 0.14866209030151367, 0.09910806268453598, 0.08919725567102432, 0.04955403134226799, 0.13875128328800201, 0.029732419177889824, 0.8503097891807556, 0.6119552254676819, 0.3337937593460083, 0.2538639307022095, 0.047599487006664276, 0.08726572245359421, 0.12693196535110474, 0.19833119213581085, 0.019833119586110115, 0.023799743503332138, 0.05156610906124115, 0.043632861226797104, 0.043632861226797104, 0.03569961339235306, 0.03966623917222023, 0.023799743503332138, 0.16657887399196625, 0.666315495967865, 0.8845235705375671, 0.3088071942329407, 0.024379514157772064, 0.08126504719257355, 0.08126504719257355, 0.13002407550811768, 0.05688553303480148, 0.03250601887702942, 0.04875902831554413, 0.0893915519118309, 0.05688553303480148, 0.024379514157772064, 0.04875902831554413, 0.01625300943851471, 0.4660067558288574, 0.11650168895721436, 0.2330033779144287, 0.05825084447860718, 0.05825084447860718, 0.6464741826057434, 0.16161854565143585, 0.16161854565143585, 0.16161854565143585, 0.5517940521240234, 0.1839313507080078, 0.1839313507080078, 0.04975641891360283, 0.04975641891360283, 0.17414745688438416, 0.0746346265077591, 0.04975641891360283, 0.0746346265077591, 0.47268596291542053, 0.024878209456801414, 0.024878209456801414, 0.07344606518745422, 0.2921521067619324, 0.21707391738891602, 0.06038898602128029, 0.05059617757797241, 0.1322029083967209, 0.06854965537786484, 0.02611415646970272, 0.042435504496097565, 0.021217752248048782, 0.00652853911742568, 0.004896404221653938, 0.00163213477935642, 0.00163213477935642, 0.8617855906486511, 0.09233416616916656, 0.9202086329460144, 0.946241557598114, 0.655410647392273, 0.13108213245868683, 0.8560433983802795, 0.3764271140098572, 0.0627378523349762, 0.1254757046699524, 0.1254757046699524, 0.0627378523349762, 0.0627378523349762, 0.0627378523349762, 0.0627378523349762, 0.5848297476768494, 0.09747161716222763, 0.19494323432445526, 0.8639507293701172, 0.09413576126098633, 0.13447965681552887, 0.04034389927983284, 0.47067880630493164, 0.2286154180765152, 0.013447966426610947, 0.013447966426610947, 0.31121376156806946, 0.15560688078403473, 0.31121376156806946, 0.28727051615715027, 0.026115501299500465, 0.07834649831056595, 0.05223100259900093, 0.05223100259900093, 0.05223100259900093, 0.13057750463485718, 0.20892401039600372, 0.05223100259900093, 0.1840042620897293, 0.3680085241794586, 0.3680085241794586, 0.031949710100889206, 0.46007582545280457, 0.23131589591503143, 0.03578367456793785, 0.047285567969083786, 0.04345160350203514, 0.08051326870918274, 0.033227697014808655, 0.008945918641984463, 0.014057871885597706, 0.003833965165540576, 0.003833965165540576, 0.0025559766218066216, 0.003833965165540576, 0.0012779883109033108, 0.20499908924102783, 0.2223718911409378, 0.07991489768028259, 0.1007622629404068, 0.07991489768028259, 0.07296577841043472, 0.04169473052024841, 0.07991489768028259, 0.04169473052024841, 0.003474560799077153, 0.04169473052024841, 0.003474560799077153, 0.020847365260124207, 0.003474560799077153, 0.09203474223613739, 0.2584642171859741, 0.15032340586185455, 0.05138606205582619, 0.07976344227790833, 0.09433560818433762, 0.11964516341686249, 0.05215302109718323, 0.05445388704538345, 0.021474773064255714, 0.009203474037349224, 0.008436517789959908, 0.006902605760842562, 0.002300868509337306, 0.02004510536789894, 0.18040594458580017, 0.6013531684875488, 0.07015787065029144, 0.11024808138608932, 0.01002255268394947, 0.01002255268394947, 0.20056071877479553, 0.17691382765769958, 0.09458758682012558, 0.12261354178190231, 0.10422151535749435, 0.04992122948169708, 0.07269231230020523, 0.056927718222141266, 0.04729379341006279, 0.02627433091402054, 0.023646896705031395, 0.01313716545701027, 0.008758109994232655, 0.000875811034347862, 0.000875811034347862, 0.04353192076086998, 0.029021279886364937, 0.26844683289527893, 0.07255320250988007, 0.13059575855731964, 0.31923407316207886, 0.07255320250988007, 0.014510639943182468, 0.014510639943182468, 0.007255319971591234, 0.007255319971591234, 0.014510639943182468, 0.007255319971591234, 0.17918166518211365, 0.7167266607284546, 0.17599941790103912, 0.16605162620544434, 0.17676463723182678, 0.07422584295272827, 0.06810412555932999, 0.09565185755491257, 0.09335621446371078, 0.051269397139549255, 0.049738965928554535, 0.01377386786043644, 0.01530429720878601, 0.011478222906589508, 0.0038260743021965027, 0.0030608593951910734, 0.0015304296975955367, 0.9050118327140808, 0.12201816588640213, 0.1479794830083847, 0.15836401283740997, 0.04673036187887192, 0.09346072375774384, 0.06749941408634186, 0.1609601378440857, 0.07788393646478653, 0.05711488798260689, 0.038941968232393265, 0.02336518093943596, 0.002596131293103099, 0.002596131293103099, 0.002596131293103099, 0.31590062379837036, 0.31590062379837036, 0.31590062379837036, 0.2883312404155731, 0.08871730417013168, 0.10888032615184784, 0.12702704966068268, 0.07057058066129684, 0.060489069670438766, 0.028228232637047768, 0.0786357894539833, 0.052423860877752304, 0.03226083889603615, 0.042342349886894226, 0.012097814120352268, 0.006048907060176134, 0.11352892965078354, 0.11352892965078354, 0.22705785930156708, 0.05676446482539177, 0.170293390750885, 0.11352892965078354, 0.11352892965078354, 0.05676446482539177, 0.05676446482539177, 0.10198133438825607, 0.06373833119869232, 0.36118388175964355, 0.04249222204089165, 0.029744554311037064, 0.2337072193622589, 0.09348288923501968, 0.03399377688765526, 0.01699688844382763, 0.004249222110956907, 0.01699688844382763, 0.012747666798532009, 0.3095965087413788, 0.1547982543706894, 0.46439477801322937, 0.8577576875686646, 0.07147981226444244, 0.18449364602565765, 0.5534809231758118, 0.18449364602565765, 0.733612060546875, 0.1048017218708992, 0.1048017218708992, 0.1557033210992813, 0.6228132843971252, 0.45666199922561646, 0.15222066640853882, 0.15222066640853882, 0.20235507190227509, 0.036791831254959106, 0.036791831254959106, 0.33112648129463196, 0.018395915627479553, 0.21155302226543427, 0.036791831254959106, 0.07358366250991821, 0.018395915627479553, 0.02759387344121933, 0.1219010055065155, 0.1219010055065155, 0.1219010055065155, 0.487604022026062, 0.08289878070354462, 0.05526585504412651, 0.6355573534965515, 0.08289878070354462, 0.027632927522063255, 0.11053171008825302, 0.15623021125793457, 0.31246042251586914, 0.15623021125793457, 0.15623021125793457, 0.46834060549736023, 0.46834060549736023, 0.6016883254051208, 0.1504220813512802, 0.32430121302604675, 0.027025101706385612, 0.40537652373313904, 0.13512550294399261, 0.08107530325651169, 0.22648537158966064, 0.05662134289741516, 0.11324268579483032, 0.16986402869224548, 0.11324268579483032, 0.11324268579483032, 0.05662134289741516, 0.05662134289741516, 0.12151172757148743, 0.22783449292182922, 0.015188965946435928, 0.045566897839307785, 0.4252910614013672, 0.045566897839307785, 0.030377931892871857, 0.030377931892871857, 0.030377931892871857, 0.015188965946435928, 0.2718546390533447, 0.04942811653017998, 0.09885623306035995, 0.02471405826508999, 0.22242653369903564, 0.07414218038320541, 0.04942811653017998, 0.02471405826508999, 0.02471405826508999, 0.07414218038320541, 0.02471405826508999, 0.07414218038320541, 0.1884431540966034, 0.1884431540966034, 0.1884431540966034, 0.1884431540966034, 0.1884431540966034, 0.3903309106826782, 0.13011030852794647, 0.13011030852794647, 0.26022061705589294, 0.9374187588691711, 0.47924715280532837, 0.143774151802063, 0.0479247160255909, 0.0958494320511818, 0.23962357640266418, 0.4148551821708679, 0.12964223325252533, 0.025928448885679245, 0.15557068586349487, 0.2333560287952423, 0.025928448885679245, 0.7379770278930664, 0.14759540557861328, 0.9618194103240967, 0.24136030673980713, 0.12068015336990356, 0.3620404601097107, 0.12068015336990356, 0.3626246452331543, 0.23311585187911987, 0.10360704362392426, 0.05180352181196213, 0.2072140872478485, 0.9102401733398438, 0.5281233191490173, 0.17604109644889832, 0.11736073344945908, 0.05868036672472954, 0.05868036672472954, 0.3386235535144806, 0.10033290833234787, 0.12290780991315842, 0.06772471219301224, 0.1605326533317566, 0.01504993624985218, 0.052674777805805206, 0.02759154886007309, 0.025083227083086967, 0.052674777805805206, 0.022574903443455696, 0.0050166454166173935, 0.0050166454166173935, 0.4230720102787018, 0.008634123019874096, 0.017268246039748192, 0.008634123019874096, 0.37126728892326355, 0.10360947251319885, 0.017268246039748192, 0.043170612305402756, 0.3524324595928192, 0.3524324595928192, 0.2362043559551239, 0.2362043559551239, 0.15746957063674927, 0.31493914127349854, 0.2642589807510376, 0.013212948106229305, 0.4096013903617859, 0.0660647451877594, 0.05285179242491722, 0.09249064326286316, 0.05285179242491722, 0.02642589621245861, 0.013212948106229305, 0.8775062561035156, 0.14135462045669556, 0.23968827724456787, 0.12906292080879211, 0.06760438531637192, 0.10447950661182404, 0.08911487460136414, 0.10140658169984818, 0.03687512129545212, 0.03072926588356495, 0.02458341419696808, 0.00921878032386303, 0.00921878032386303, 0.00307292677462101, 0.00921878032386303, 0.16835983097553253, 0.6734393239021301, 0.7994351387023926, 0.1142050176858902, 0.36094987392425537, 0.12031662464141846, 0.48126649856567383, 0.1630983054637909, 0.21261030435562134, 0.10484891384840012, 0.09465526789426804, 0.0669868066906929, 0.08737409859895706, 0.06553056836128235, 0.06989927589893341, 0.06844303756952286, 0.024755993857979774, 0.02038728818297386, 0.014562348835170269, 0.00582493981346488, 0.00145623495336622, 0.17536726593971252, 0.7014690637588501, 0.22476278245449066, 0.07897070795297623, 0.1012444943189621, 0.17414052784442902, 0.08302048593759537, 0.1012444943189621, 0.0404977984726429, 0.09719471633434296, 0.02429867908358574, 0.01822401024401188, 0.03442312777042389, 0.002024889923632145, 0.01214933954179287, 0.00404977984726429, 0.00404977984726429, 0.8731392025947571, 0.018430378288030624, 0.011518986895680428, 0.08293670415878296, 0.002303797286003828, 0.002303797286003828, 0.004607594572007656, 0.8934277892112732, 0.4599735140800476, 0.033759523183107376, 0.012659821659326553, 0.17723749577999115, 0.08861874788999557, 0.004219940397888422, 0.09283868968486786, 0.02953958325088024, 0.03797946497797966, 0.012659821659326553, 0.03797946497797966, 0.004219940397888422, 0.004219940397888422, 0.4605373740196228, 0.33878612518310547, 0.19586072862148285, 0.046572547405958176, 0.18270768225193024, 0.1540476530790329, 0.021495021879673004, 0.21495021879673004, 0.12180512398481369, 0.15046514570713043, 0.02866002917289734, 0.017912518233060837, 0.02507752552628517, 0.010747510939836502, 0.0035825036466121674, 0.010747510939836502, 0.010747510939836502, 0.3065205514431, 0.45978081226348877, 0.15326027572155, 0.9874164462089539, 0.004816665779799223, 0.1581997573375702, 0.23729963600635529, 0.1581997573375702, 0.0790998786687851, 0.1581997573375702, 0.0790998786687851, 0.07901562750339508, 0.25631898641586304, 0.12526868283748627, 0.04432583972811699, 0.09250609576702118, 0.09828773140907288, 0.12526868283748627, 0.07130678743124008, 0.05588909983634949, 0.023126523941755295, 0.013490472920238972, 0.007708841469138861, 0.007708841469138861, 0.15082783997058868, 0.30165567994117737, 0.45248353481292725, 0.15105362236499786, 0.2148790955543518, 0.13403348624706268, 0.05744292587041855, 0.09361069649457932, 0.05531540885567665, 0.12126839905977249, 0.027657704427838326, 0.059570442885160446, 0.051060378551483154, 0.012765094637870789, 0.014892610721290112, 0.006382547318935394, 0.0021275158505886793, 0.133677139878273, 0.133677139878273, 0.6683856844902039, 0.13861417770385742, 0.013861417770385742, 0.027722835540771484, 0.1940598487854004, 0.23564410209655762, 0.013861417770385742, 0.05544567108154297, 0.06930708885192871, 0.12475275993347168, 0.08316850662231445, 0.013861417770385742, 0.04158425331115723, 0.9045896530151367, 0.009692031890153885, 0.016153385862708092, 0.05815219134092331, 0.003230677219107747, 0.34880927205085754, 0.11757615953683853, 0.05094967037439346, 0.11757615953683853, 0.04703046381473541, 0.03527284786105156, 0.027434438467025757, 0.09014172106981277, 0.04703046381473541, 0.007838410325348377, 0.07054569572210312, 0.027434438467025757, 0.011757615953683853, 0.16718590259552002, 0.6687436103820801, 0.7741712331771851, 0.1290285438299179, 0.37670665979385376, 0.18835332989692688, 0.18835332989692688, 0.18835332989692688, 0.3604905307292938, 0.5407357811927795, 0.11677592992782593, 0.22521072626113892, 0.08841606229543686, 0.09508897364139557, 0.17182743549346924, 0.07840669900178909, 0.06005619093775749, 0.0483785979449749, 0.050046827644109726, 0.023355185985565186, 0.03169632330536842, 0.0033364552073180676, 0.006672910414636135, 0.4602710008621216, 0.4602710008621216, 0.14217379689216614, 0.27224770188331604, 0.14973624050617218, 0.0468871034681797, 0.0468871034681797, 0.14217379689216614, 0.06503695249557495, 0.03478720784187317, 0.05142456665635109, 0.022687308490276337, 0.015124872326850891, 0.006049949210137129, 0.0030249746050685644, 0.0030249746050685644, 0.24684953689575195, 0.6788362264633179, 0.07248467206954956, 0.07248467206954956, 0.10872701555490494, 0.6161197423934937, 0.14496934413909912], \"Term\": [\"abbey\", \"abbot\", \"abbot\", \"accommodated\", \"accost\", \"accost\", \"accost\", \"achieve\", \"achieve\", \"achieve\", \"aching\", \"aching\", \"aching\", \"acquit\", \"acquit\", \"acquit\", \"actors\", \"adele\", \"adele\", \"adele\", \"adele\", \"adele\", \"adele\", \"adele\", \"adele\", \"adjusted\", \"affability\", \"affability\", \"affability\", \"affability\", \"affection\", \"affection\", \"affection\", \"affection\", \"affection\", \"affection\", \"affection\", \"affection\", \"affection\", \"affection\", \"affection\", \"affection\", \"affection\", \"affection\", \"airing\", \"airing\", \"albion\", \"albion\", \"albion\", \"alfred\", \"alfred\", \"alfred\", \"alfred\", \"allenham\", \"alley\", \"alley\", \"alley\", \"alley\", \"alley\", \"amateur\", \"amateur\", \"amateur\", \"amy\", \"amy\", \"amy\", \"anglaise\", \"anglaise\", \"anglaise\", \"ankle\", \"ankle\", \"ankle\", \"ann\", \"ann\", \"anticipation\", \"anticipation\", \"anticipation\", \"anticipation\", \"anticipation\", \"anticipation\", \"anticipation\", \"antipathies\", \"antipathies\", \"apologising\", \"apologising\", \"apple\", \"apple\", \"apple\", \"apple\", \"apple\", \"apple\", \"apple\", \"apple\", \"appreciating\", \"appreciating\", \"appreciating\", \"ascribe\", \"ascribe\", \"assez\", \"assez\", \"assez\", \"associations\", \"associations\", \"associations\", \"associations\", \"astonish\", \"astonish\", \"astonish\", \"attached\", \"attached\", \"attached\", \"attached\", \"attached\", \"attached\", \"attached\", \"attached\", \"attached\", \"attached\", \"attached\", \"attachment\", \"attachment\", \"attachment\", \"attachment\", \"attachment\", \"attachment\", \"attachment\", \"attachment\", \"attachment\", \"attachment\", \"attorney\", \"attorney\", \"attorney\", \"aunt\", \"aunt\", \"aunt\", \"aunt\", \"aunt\", \"aunt\", \"aunt\", \"aunt\", \"aunt\", \"aunt\", \"aunt\", \"away\", \"away\", \"away\", \"away\", \"away\", \"away\", \"away\", \"away\", \"away\", \"away\", \"away\", \"away\", \"away\", \"away\", \"balcony\", \"balcony\", \"bank\", \"bank\", \"bank\", \"bank\", \"bank\", \"bank\", \"bank\", \"banker\", \"banker\", \"banker\", \"bark\", \"bark\", \"bark\", \"bark\", \"barton\", \"basis\", \"basis\", \"basis\", \"basis\", \"bassompierre\", \"bassompierre\", \"bassompierre\", \"bassompierre\", \"bassompierre\", \"bates\", \"bates\", \"bates\", \"bates\", \"battlements\", \"battlements\", \"beck\", \"beck\", \"beck\", \"beck\", \"beck\", \"beck\", \"beck\", \"bed\", \"bed\", \"bed\", \"bed\", \"bed\", \"bed\", \"bed\", \"bed\", \"bed\", \"bed\", \"bed\", \"bed\", \"bed\", \"bed\", \"bedclothes\", \"bedclothes\", \"bee\", \"bee\", \"bee\", \"bee\", \"beggar\", \"beggar\", \"beggar\", \"behest\", \"behest\", \"believe\", \"believe\", \"believe\", \"believe\", \"believe\", \"believe\", \"believe\", \"believe\", \"believe\", \"believe\", \"believe\", \"believe\", \"believe\", \"believe\", \"believing\", \"believing\", \"believing\", \"believing\", \"believing\", \"believing\", \"beneficial\", \"beneficial\", \"benign\", \"bennet\", \"bennet\", \"bennet\", \"bennets\", \"bennets\", \"berkeley\", \"bertha\", \"bertha\", \"bessie\", \"bessie\", \"bessie\", \"bessie\", \"bessie\", \"best\", \"best\", \"best\", \"best\", \"best\", \"best\", \"best\", \"best\", \"best\", \"best\", \"best\", \"best\", \"best\", \"best\", \"betook\", \"betook\", \"bewitching\", \"bingley\", \"bingley\", \"bingley\", \"black\", \"black\", \"black\", \"black\", \"black\", \"black\", \"black\", \"black\", \"black\", \"blindness\", \"blindness\", \"blood\", \"blood\", \"blood\", \"blood\", \"blood\", \"blood\", \"blood\", \"blood\", \"blood\", \"blood\", \"bloody\", \"bloody\", \"blossoms\", \"blossoms\", \"blossoms\", \"blossoms\", \"body\", \"body\", \"body\", \"body\", \"body\", \"body\", \"body\", \"body\", \"body\", \"body\", \"body\", \"body\", \"boiled\", \"boiled\", \"boiled\", \"boiled\", \"boiled\", \"bolted\", \"bolted\", \"bolted\", \"borders\", \"borders\", \"borders\", \"bounding\", \"bouquet\", \"bouquet\", \"bouquet\", \"bourgeois\", \"bourgeois\", \"bourgeois\", \"bourgh\", \"bourgh\", \"brandon\", \"brandon\", \"bretton\", \"bretton\", \"bretton\", \"bretton\", \"bretton\", \"bretton\", \"bretton\", \"bretton\", \"briggs\", \"brighton\", \"brighton\", \"brittle\", \"brittle\", \"brunswick\", \"built\", \"built\", \"built\", \"built\", \"built\", \"built\", \"built\", \"built\", \"built\", \"burghers\", \"burghers\", \"burghers\", \"burns\", \"burns\", \"burns\", \"burns\", \"bust\", \"butcher\", \"butcher\", \"butcher\", \"came\", \"came\", \"came\", \"came\", \"came\", \"came\", \"came\", \"came\", \"came\", \"came\", \"came\", \"came\", \"came\", \"came\", \"came\", \"campbell\", \"campbell\", \"campbells\", \"campbells\", \"capacity\", \"capacity\", \"capacity\", \"capacity\", \"capacity\", \"capacity\", \"caprices\", \"caprices\", \"caprices\", \"carlo\", \"carre\", \"carre\", \"carre\", \"carter\", \"carter\", \"catherine\", \"catherine\", \"catherine\", \"catherine\", \"ce\", \"ce\", \"ce\", \"ce\", \"ce\", \"cela\", \"cela\", \"cela\", \"cela\", \"celine\", \"celine\", \"chairs\", \"chairs\", \"chairs\", \"chairs\", \"chairs\", \"chamber\", \"chamber\", \"chamber\", \"chamber\", \"chamber\", \"chamber\", \"chamber\", \"chamber\", \"chamber\", \"chamber\", \"chamber\", \"chambers\", \"chambers\", \"chambers\", \"chambers\", \"chambers\", \"character\", \"character\", \"character\", \"character\", \"character\", \"character\", \"character\", \"character\", \"character\", \"character\", \"character\", \"character\", \"character\", \"charade\", \"charade\", \"charade\", \"charlotte\", \"charlotte\", \"charlotte\", \"charlotte\", \"charlotte\", \"charlotte\", \"chateau\", \"chateau\", \"cherish\", \"cherish\", \"cherish\", \"cherish\", \"cherish\", \"cherry\", \"cherry\", \"cherry\", \"chicken\", \"chicken\", \"chicken\", \"chicken\", \"chide\", \"chide\", \"chide\", \"chide\", \"child\", \"child\", \"child\", \"child\", \"child\", \"child\", \"child\", \"child\", \"child\", \"child\", \"child\", \"child\", \"chin\", \"chin\", \"chin\", \"chin\", \"chin\", \"chocolate\", \"cholmondeley\", \"cholmondeley\", \"cholmondeley\", \"cholmondeley\", \"cholmondeley\", \"cholmondeley\", \"chooses\", \"chooses\", \"chooses\", \"chord\", \"church\", \"church\", \"church\", \"church\", \"church\", \"church\", \"church\", \"church\", \"church\", \"church\", \"church\", \"church\", \"church\", \"churchill\", \"churchill\", \"churchill\", \"churchill\", \"churchill\", \"churchill\", \"cigar\", \"cigar\", \"cigar\", \"cigar\", \"cigar\", \"cigar\", \"cigar\", \"civility\", \"civility\", \"civility\", \"civility\", \"civility\", \"civility\", \"civility\", \"claims\", \"claims\", \"claims\", \"claims\", \"claims\", \"claims\", \"claims\", \"claims\", \"class\", \"class\", \"class\", \"class\", \"class\", \"class\", \"class\", \"class\", \"classe\", \"classe\", \"classe\", \"classe\", \"classe\", \"cleopatra\", \"cleopatra\", \"cleveland\", \"clinging\", \"clinging\", \"close\", \"close\", \"close\", \"close\", \"close\", \"close\", \"close\", \"close\", \"close\", \"close\", \"close\", \"close\", \"close\", \"cole\", \"coles\", \"collation\", \"collation\", \"collation\", \"collins\", \"collins\", \"collins\", \"colonel\", \"colonel\", \"colonel\", \"colonel\", \"colonel\", \"colonel\", \"colonel\", \"colonel\", \"colonel\", \"colonel\", \"column\", \"column\", \"column\", \"column\", \"combe\", \"come\", \"come\", \"come\", \"come\", \"come\", \"come\", \"come\", \"come\", \"come\", \"come\", \"come\", \"come\", \"come\", \"come\", \"comely\", \"comely\", \"comely\", \"compared\", \"compared\", \"compared\", \"compared\", \"compared\", \"compared\", \"compared\", \"composedly\", \"composedly\", \"concealment\", \"concealment\", \"concealment\", \"concealment\", \"concealment\", \"concise\", \"concise\", \"condescended\", \"condescended\", \"conduct\", \"conduct\", \"conduct\", \"conduct\", \"conduct\", \"conduct\", \"conduct\", \"conduct\", \"conduct\", \"conduct\", \"conduct\", \"confines\", \"conformity\", \"conformity\", \"conformity\", \"conformity\", \"connexion\", \"connexion\", \"connexions\", \"connexions\", \"connexions\", \"conquering\", \"conquering\", \"contains\", \"contains\", \"contrition\", \"conversation\", \"conversation\", \"conversation\", \"conversation\", \"conversation\", \"conversation\", \"conversation\", \"conversation\", \"conversation\", \"conversation\", \"conversation\", \"conversation\", \"conversation\", \"cottage\", \"cottage\", \"cottage\", \"cottage\", \"cottage\", \"cottage\", \"couldn\", \"couldn\", \"couldn\", \"course\", \"course\", \"course\", \"course\", \"course\", \"course\", \"course\", \"course\", \"course\", \"course\", \"course\", \"course\", \"course\", \"coveted\", \"coveted\", \"cows\", \"cows\", \"cows\", \"cows\", \"cows\", \"cows\", \"crafty\", \"crafty\", \"crafty\", \"crape\", \"crape\", \"cultivate\", \"culture\", \"culture\", \"culture\", \"cushion\", \"cushion\", \"dance\", \"dance\", \"dance\", \"dance\", \"dance\", \"dance\", \"dance\", \"danced\", \"danced\", \"danced\", \"danced\", \"danced\", \"dans\", \"dans\", \"dans\", \"darcy\", \"darcy\", \"darcy\", \"darcy\", \"dark\", \"dark\", \"dark\", \"dark\", \"dark\", \"dark\", \"dark\", \"dark\", \"dark\", \"dark\", \"dark\", \"dark\", \"dash\", \"dash\", \"dashwood\", \"dashwood\", \"dashwood\", \"dashwoods\", \"daughter\", \"daughter\", \"daughter\", \"daughter\", \"daughter\", \"daughter\", \"daughter\", \"daughter\", \"daughter\", \"daughter\", \"daughter\", \"daughter\", \"daughter\", \"daughter\", \"daughters\", \"daughters\", \"daughters\", \"daughters\", \"daughters\", \"daughters\", \"daughters\", \"daughters\", \"daughters\", \"day\", \"day\", \"day\", \"day\", \"day\", \"day\", \"day\", \"day\", \"day\", \"day\", \"day\", \"day\", \"day\", \"day\", \"day\", \"deadly\", \"deadly\", \"dear\", \"dear\", \"dear\", \"dear\", \"dear\", \"dear\", \"dear\", \"dear\", \"dear\", \"dear\", \"dear\", \"dear\", \"dear\", \"decease\", \"decease\", \"deep\", \"deep\", \"deep\", \"deep\", \"deep\", \"deep\", \"deep\", \"deep\", \"deep\", \"deep\", \"deep\", \"deep\", \"deep\", \"deep\", \"definite\", \"definite\", \"definite\", \"definite\", \"delaford\", \"delays\", \"delays\", \"delays\", \"delicious\", \"delicious\", \"delicious\", \"delicious\", \"demoiselles\", \"demoiselles\", \"dent\", \"dent\", \"depending\", \"depending\", \"designs\", \"designs\", \"designs\", \"designs\", \"desiree\", \"desiree\", \"desiree\", \"desiree\", \"desk\", \"desk\", \"desk\", \"desk\", \"desk\", \"desk\", \"desk\", \"desks\", \"desks\", \"despaired\", \"despaired\", \"despotism\", \"despotism\", \"despotism\", \"despotism\", \"dessert\", \"dessert\", \"dessert\", \"devonshire\", \"dew\", \"dew\", \"dew\", \"dew\", \"dew\", \"dew\", \"dew\", \"diana\", \"diana\", \"diana\", \"died\", \"died\", \"died\", \"died\", \"died\", \"died\", \"died\", \"died\", \"died\", \"died\", \"dimness\", \"dimness\", \"dimness\", \"director\", \"director\", \"director\", \"director\", \"director\", \"disapprobation\", \"disapprobation\", \"disapprobation\", \"disapprobation\", \"disapprobation\", \"discuss\", \"discuss\", \"discuss\", \"disgraced\", \"disgraced\", \"dish\", \"dish\", \"dish\", \"dish\", \"disparity\", \"disparity\", \"disparity\", \"dispatched\", \"dispatched\", \"displaying\", \"displaying\", \"displaying\", \"dites\", \"dites\", \"divisions\", \"divisions\", \"divisions\", \"divisions\", \"divisions\", \"dixon\", \"dixon\", \"doctrines\", \"doctrines\", \"doctrines\", \"donwell\", \"donwell\", \"door\", \"door\", \"door\", \"door\", \"door\", \"door\", \"door\", \"door\", \"door\", \"door\", \"door\", \"door\", \"door\", \"dormitory\", \"dormitory\", \"dormitory\", \"dormitory\", \"dormitory\", \"dormitory\", \"dormitory\", \"dr\", \"dr\", \"dr\", \"dr\", \"dr\", \"dr\", \"dr\", \"dr\", \"dr\", \"dr\", \"dr\", \"du\", \"du\", \"du\", \"du\", \"du\", \"dubious\", \"dubious\", \"dubious\", \"dubious\", \"dutch\", \"easter\", \"easter\", \"edward\", \"edward\", \"edward\", \"edward\", \"edward\", \"edward\", \"edward\", \"edward\", \"edward\", \"edward\", \"eggs\", \"eggs\", \"eggs\", \"eggs\", \"elders\", \"elevation\", \"elevation\", \"elevation\", \"elevation\", \"elinor\", \"elinor\", \"elinor\", \"elinor\", \"eliza\", \"eliza\", \"eliza\", \"eliza\", \"eliza\", \"eliza\", \"elizabeth\", \"elizabeth\", \"elizabeth\", \"elizabeth\", \"elizabeth\", \"elizabeth\", \"elle\", \"elle\", \"elle\", \"elle\", \"elle\", \"elle\", \"elton\", \"elton\", \"elton\", \"elton\", \"elton\", \"elton\", \"eltons\", \"eltons\", \"eltons\", \"emanuel\", \"emanuel\", \"emanuel\", \"emanuel\", \"emanuel\", \"emanuel\", \"emanuel\", \"emanuel\", \"emma\", \"emma\", \"emma\", \"emma\", \"emma\", \"emma\", \"emma\", \"emma\", \"emma\", \"enclosure\", \"enclosure\", \"enclosure\", \"enclosure\", \"enclosure\", \"enclosure\", \"endeavour\", \"endeavour\", \"endeavour\", \"endeavour\", \"endeavour\", \"endeavour\", \"endeavour\", \"endeavour\", \"endeavour\", \"engagement\", \"engagement\", \"engagement\", \"engagement\", \"engagement\", \"engagement\", \"england\", \"england\", \"england\", \"england\", \"england\", \"england\", \"england\", \"england\", \"england\", \"england\", \"england\", \"england\", \"england\", \"english\", \"english\", \"english\", \"english\", \"english\", \"english\", \"english\", \"english\", \"english\", \"english\", \"enjoyed\", \"enjoyed\", \"enjoyed\", \"enjoyed\", \"enjoyed\", \"enjoyed\", \"enjoyed\", \"enjoyed\", \"enumerating\", \"enveloped\", \"enveloped\", \"eshton\", \"eshton\", \"eshton\", \"est\", \"est\", \"est\", \"est\", \"est\", \"est\", \"est\", \"estrade\", \"estrade\", \"estrade\", \"estrade\", \"et\", \"et\", \"et\", \"et\", \"et\", \"et\", \"eternity\", \"eternity\", \"eternity\", \"eternity\", \"etes\", \"etes\", \"etre\", \"etre\", \"eulalie\", \"eulalie\", \"eve\", \"eve\", \"eve\", \"evening\", \"evening\", \"evening\", \"evening\", \"evening\", \"evening\", \"evening\", \"evening\", \"evening\", \"evening\", \"evening\", \"evening\", \"evening\", \"evening\", \"evening\", \"eventide\", \"eventide\", \"eventide\", \"exaggerate\", \"exaggerate\", \"exclusively\", \"exclusively\", \"exclusively\", \"exeter\", \"exhaustion\", \"exhaustion\", \"explaining\", \"explaining\", \"explaining\", \"exploring\", \"exposing\", \"exposing\", \"eye\", \"eye\", \"eye\", \"eye\", \"eye\", \"eye\", \"eye\", \"eye\", \"eye\", \"eye\", \"eye\", \"eye\", \"eye\", \"eyebrows\", \"eyebrows\", \"eyebrows\", \"eyebrows\", \"eyebrows\", \"eyebrows\", \"eyes\", \"eyes\", \"eyes\", \"eyes\", \"eyes\", \"eyes\", \"eyes\", \"eyes\", \"eyes\", \"eyes\", \"eyes\", \"eyes\", \"eyes\", \"eyes\", \"eyes\", \"eyre\", \"eyre\", \"eyre\", \"eyre\", \"eyre\", \"eyre\", \"eyre\", \"face\", \"face\", \"face\", \"face\", \"face\", \"face\", \"face\", \"face\", \"face\", \"face\", \"face\", \"face\", \"face\", \"face\", \"fairfax\", \"fairfax\", \"fairfax\", \"fairfax\", \"fairfax\", \"fairfax\", \"fairfax\", \"fairfax\", \"fairfax\", \"fairfax\", \"fairfax\", \"fairfax\", \"family\", \"family\", \"family\", \"family\", \"family\", \"family\", \"family\", \"family\", \"family\", \"family\", \"family\", \"family\", \"family\", \"family\", \"family\", \"famished\", \"famished\", \"famished\", \"famished\", \"fancies\", \"fancies\", \"fancies\", \"fanny\", \"far\", \"far\", \"far\", \"far\", \"far\", \"far\", \"far\", \"far\", \"far\", \"far\", \"far\", \"far\", \"far\", \"far\", \"father\", \"father\", \"father\", \"father\", \"father\", \"father\", \"father\", \"father\", \"father\", \"father\", \"father\", \"father\", \"father\", \"features\", \"features\", \"features\", \"features\", \"features\", \"features\", \"features\", \"features\", \"features\", \"features\", \"features\", \"feelings\", \"feelings\", \"feelings\", \"feelings\", \"feelings\", \"feelings\", \"feelings\", \"feelings\", \"feelings\", \"feelings\", \"feelings\", \"feelings\", \"feelings\", \"feelings\", \"felt\", \"felt\", \"felt\", \"felt\", \"felt\", \"felt\", \"felt\", \"felt\", \"felt\", \"felt\", \"felt\", \"felt\", \"felt\", \"felt\", \"felt\", \"fence\", \"fence\", \"fence\", \"ferrars\", \"fervid\", \"fervid\", \"fervid\", \"festal\", \"festal\", \"festal\", \"filled\", \"filled\", \"filled\", \"filled\", \"filled\", \"filled\", \"filled\", \"filled\", \"filled\", \"filled\", \"filled\", \"filled\", \"filled\", \"fireplace\", \"fireplace\", \"fish\", \"fish\", \"fish\", \"fish\", \"fish\", \"fish\", \"fitzwilliam\", \"fitzwilliam\", \"flames\", \"flowers\", \"flowers\", \"flowers\", \"flowers\", \"flowers\", \"flowers\", \"flowers\", \"flowers\", \"flowers\", \"flowers\", \"flowery\", \"flowery\", \"flown\", \"flown\", \"flown\", \"fluttering\", \"fluttering\", \"fluttering\", \"fluttering\", \"fog\", \"fog\", \"fog\", \"footstool\", \"forster\", \"forster\", \"forster\", \"fortune\", \"fortune\", \"fortune\", \"fortune\", \"fortune\", \"fortune\", \"fortune\", \"fortune\", \"fortune\", \"fortune\", \"fortune\", \"fortune\", \"fought\", \"fought\", \"fought\", \"fought\", \"fought\", \"fragrance\", \"fragrance\", \"fragrance\", \"fragrance\", \"fragrance\", \"fragrance\", \"frances\", \"frances\", \"frances\", \"frances\", \"frances\", \"frances\", \"francs\", \"francs\", \"francs\", \"francs\", \"frank\", \"frank\", \"frank\", \"frank\", \"frank\", \"frank\", \"frank\", \"frank\", \"frank\", \"frank\", \"frank\", \"french\", \"french\", \"french\", \"french\", \"french\", \"french\", \"french\", \"french\", \"french\", \"french\", \"fretted\", \"fretted\", \"fretted\", \"fretted\", \"friend\", \"friend\", \"friend\", \"friend\", \"friend\", \"friend\", \"friend\", \"friend\", \"friend\", \"friend\", \"friend\", \"friend\", \"friend\", \"frock\", \"frock\", \"frock\", \"frock\", \"fruit\", \"fruit\", \"fruit\", \"fruit\", \"fruit\", \"fruit\", \"fruit\", \"fruit\", \"fruit\", \"fruit\", \"fully\", \"fully\", \"fully\", \"fully\", \"fully\", \"fully\", \"fully\", \"fully\", \"fully\", \"fully\", \"fully\", \"gallery\", \"gallery\", \"gallery\", \"gallery\", \"gallery\", \"garcon\", \"garcon\", \"garden\", \"garden\", \"garden\", \"garden\", \"garden\", \"garden\", \"garden\", \"garden\", \"garden\", \"garden\", \"garden\", \"garden\", \"garden\", \"garden\", \"garden\", \"gardiner\", \"gardiner\", \"gardiner\", \"gardiners\", \"gardiners\", \"gateshead\", \"gateshead\", \"gateshead\", \"gateshead\", \"gave\", \"gave\", \"gave\", \"gave\", \"gave\", \"gave\", \"gave\", \"gave\", \"gave\", \"gave\", \"gave\", \"gave\", \"gave\", \"gave\", \"gay\", \"gay\", \"gay\", \"gay\", \"gay\", \"gay\", \"gay\", \"gay\", \"gay\", \"gay\", \"gay\", \"gay\", \"gentlemen\", \"gentlemen\", \"gentlemen\", \"gentlemen\", \"gentlemen\", \"gentlemen\", \"gentlemen\", \"gentlemen\", \"gentlemen\", \"gentlemen\", \"gentlemen\", \"gentlemen\", \"georgette\", \"georgette\", \"georgiana\", \"georgiana\", \"georgiana\", \"georgiana\", \"georgiana\", \"georgiana\", \"german\", \"german\", \"german\", \"german\", \"german\", \"german\", \"german\", \"german\", \"german\", \"germs\", \"germs\", \"ghost\", \"ghost\", \"ghost\", \"ghost\", \"ghost\", \"ghosts\", \"ghosts\", \"ghosts\", \"ginevra\", \"ginevra\", \"ginevra\", \"ginevra\", \"ginevra\", \"ginevra\", \"ginevra\", \"girl\", \"girl\", \"girl\", \"girl\", \"girl\", \"girl\", \"girl\", \"girl\", \"girl\", \"girl\", \"girl\", \"girl\", \"girl\", \"girl\", \"glare\", \"glare\", \"glare\", \"glaring\", \"glaring\", \"glaring\", \"globe\", \"globe\", \"globe\", \"glove\", \"glove\", \"god\", \"god\", \"god\", \"god\", \"god\", \"god\", \"god\", \"god\", \"god\", \"god\", \"god\", \"god\", \"goddard\", \"goddard\", \"goddard\", \"goddard\", \"goddard\", \"godmother\", \"godmother\", \"godmother\", \"godmother\", \"godmother\", \"godmother\", \"gone\", \"gone\", \"gone\", \"gone\", \"gone\", \"gone\", \"gone\", \"gone\", \"gone\", \"gone\", \"gone\", \"gone\", \"gone\", \"gone\", \"good\", \"good\", \"good\", \"good\", \"good\", \"good\", \"good\", \"good\", \"good\", \"good\", \"good\", \"good\", \"good\", \"good\", \"got\", \"got\", \"got\", \"got\", \"got\", \"got\", \"got\", \"got\", \"got\", \"got\", \"got\", \"got\", \"got\", \"got\", \"governess\", \"governess\", \"governess\", \"governess\", \"governess\", \"governess\", \"governess\", \"governess\", \"governess\", \"governess\", \"gracechurch\", \"graham\", \"graham\", \"graham\", \"graham\", \"graham\", \"graham\", \"graham\", \"grande\", \"grande\", \"grande\", \"grande\", \"grande\", \"grandmama\", \"great\", \"great\", \"great\", \"great\", \"great\", \"great\", \"great\", \"great\", \"great\", \"great\", \"great\", \"great\", \"great\", \"great\", \"great\", \"grec\", \"grec\", \"grec\", \"grec\", \"grec\", \"green\", \"green\", \"green\", \"green\", \"green\", \"green\", \"green\", \"green\", \"green\", \"green\", \"green\", \"green\", \"grimaces\", \"grimaces\", \"gross\", \"gross\", \"groups\", \"groups\", \"groups\", \"grove\", \"grove\", \"grove\", \"grove\", \"grove\", \"half\", \"half\", \"half\", \"half\", \"half\", \"half\", \"half\", \"half\", \"half\", \"half\", \"half\", \"half\", \"half\", \"half\", \"half\", \"hall\", \"hall\", \"hall\", \"hall\", \"hall\", \"hall\", \"hall\", \"hall\", \"hall\", \"hall\", \"hall\", \"hall\", \"hall\", \"hamal\", \"hamal\", \"hamal\", \"hamal\", \"hand\", \"hand\", \"hand\", \"hand\", \"hand\", \"hand\", \"hand\", \"hand\", \"hand\", \"hand\", \"hand\", \"hand\", \"hand\", \"handful\", \"handful\", \"handful\", \"handful\", \"handful\", \"handwriting\", \"hannah\", \"hannah\", \"hannah\", \"hannah\", \"happiness\", \"happiness\", \"happiness\", \"happiness\", \"happiness\", \"happiness\", \"happiness\", \"happiness\", \"happiness\", \"happiness\", \"happiness\", \"happiness\", \"happiness\", \"harangue\", \"harangue\", \"harangue\", \"harass\", \"harass\", \"harass\", \"hardness\", \"hardness\", \"hardness\", \"hardness\", \"hardness\", \"harley\", \"harriet\", \"harriet\", \"harriet\", \"harriet\", \"harriet\", \"harriet\", \"harriet\", \"harriet\", \"harriet\", \"harriet\", \"hartfield\", \"hartfield\", \"hartfield\", \"hartfield\", \"hartfield\", \"having\", \"having\", \"having\", \"having\", \"having\", \"having\", \"having\", \"having\", \"having\", \"having\", \"having\", \"having\", \"having\", \"having\", \"hawkins\", \"hawkins\", \"hawkins\", \"hay\", \"hay\", \"hay\", \"hay\", \"hay\", \"hay\", \"head\", \"head\", \"head\", \"head\", \"head\", \"head\", \"head\", \"head\", \"head\", \"head\", \"head\", \"head\", \"head\", \"healed\", \"healed\", \"heap\", \"heap\", \"hear\", \"hear\", \"hear\", \"hear\", \"hear\", \"hear\", \"hear\", \"hear\", \"hear\", \"hear\", \"hear\", \"hear\", \"hear\", \"hear\", \"hear\", \"heard\", \"heard\", \"heard\", \"heard\", \"heard\", \"heard\", \"heard\", \"heard\", \"heard\", \"heard\", \"heard\", \"heard\", \"heard\", \"heart\", \"heart\", \"heart\", \"heart\", \"heart\", \"heart\", \"heart\", \"heart\", \"heart\", \"heart\", \"heart\", \"heart\", \"heart\", \"heart\", \"helen\", \"helen\", \"helen\", \"helen\", \"helen\", \"helen\", \"hell\", \"hell\", \"hell\", \"hell\", \"hell\", \"henri\", \"henri\", \"henri\", \"henri\", \"herbs\", \"herbs\", \"herbs\", \"herbs\", \"hertfordshire\", \"hertfordshire\", \"hertfordshire\", \"high\", \"high\", \"high\", \"high\", \"high\", \"high\", \"high\", \"high\", \"high\", \"high\", \"high\", \"high\", \"high\", \"high\", \"high\", \"highbury\", \"highbury\", \"highbury\", \"highbury\", \"highbury\", \"holy\", \"holy\", \"holy\", \"holy\", \"home\", \"home\", \"home\", \"home\", \"home\", \"home\", \"home\", \"home\", \"home\", \"home\", \"home\", \"home\", \"home\", \"hope\", \"hope\", \"hope\", \"hope\", \"hope\", \"hope\", \"hope\", \"hope\", \"hope\", \"hope\", \"hope\", \"hope\", \"hope\", \"hope\", \"hospital\", \"hospital\", \"hospital\", \"hospital\", \"hospitality\", \"hospitality\", \"hospitality\", \"hospitality\", \"hospitality\", \"hospitality\", \"hospitality\", \"hospitality\", \"hostess\", \"hostess\", \"hour\", \"hour\", \"hour\", \"hour\", \"hour\", \"hour\", \"hour\", \"hour\", \"hour\", \"hour\", \"hour\", \"hour\", \"hour\", \"hour\", \"house\", \"house\", \"house\", \"house\", \"house\", \"house\", \"house\", \"house\", \"house\", \"house\", \"house\", \"house\", \"house\", \"house\", \"hovered\", \"hovered\", \"hues\", \"hues\", \"hues\", \"hues\", \"humble\", \"humble\", \"humble\", \"humble\", \"humble\", \"humble\", \"humble\", \"humble\", \"humble\", \"humble\", \"humming\", \"humming\", \"humming\", \"hunsden\", \"hunsden\", \"hunsden\", \"hunsden\", \"hunsden\", \"hunsden\", \"hunsford\", \"hunsford\", \"hurst\", \"hurst\", \"il\", \"il\", \"il\", \"il\", \"il\", \"ill\", \"ill\", \"ill\", \"ill\", \"ill\", \"ill\", \"ill\", \"ill\", \"ill\", \"ill\", \"ill\", \"ill\", \"ill\", \"ill\", \"illiterate\", \"impediment\", \"impediment\", \"impediment\", \"imperfection\", \"imperfection\", \"imperfection\", \"imperfection\", \"imposing\", \"imposing\", \"imposing\", \"imposing\", \"imposing\", \"imposing\", \"imprint\", \"imprint\", \"imprint\", \"impropriety\", \"impropriety\", \"impropriety\", \"impropriety\", \"imputed\", \"imputed\", \"imputed\", \"inconstancy\", \"indignity\", \"indignity\", \"indignity\", \"inexpressibly\", \"inexpressibly\", \"inexpressibly\", \"infallibly\", \"infallibly\", \"infallibly\", \"infamous\", \"infamous\", \"infamous\", \"infection\", \"infection\", \"infection\", \"infection\", \"infection\", \"infirm\", \"infirm\", \"infirm\", \"ingenuity\", \"ingenuity\", \"ingram\", \"ingram\", \"ingram\", \"ingram\", \"ingram\", \"ingram\", \"injurious\", \"injurious\", \"injurious\", \"injurious\", \"ink\", \"ink\", \"ink\", \"ink\", \"inscription\", \"inscription\", \"insufficient\", \"insufficient\", \"insufficient\", \"insufficient\", \"insuperable\", \"insuperable\", \"insuperable\", \"intentionally\", \"intentionally\", \"interlocutor\", \"interlocutor\", \"isabella\", \"isabella\", \"isabella\", \"isabella\", \"isabella\", \"isidore\", \"isidore\", \"isidore\", \"italian\", \"italian\", \"italian\", \"italian\", \"italian\", \"italian\", \"jack\", \"jack\", \"jacket\", \"jacket\", \"jacket\", \"jamaica\", \"jane\", \"jane\", \"jane\", \"jane\", \"jane\", \"jane\", \"jane\", \"jane\", \"jane\", \"jane\", \"jane\", \"jane\", \"jane\", \"jane\", \"janet\", \"janet\", \"je\", \"je\", \"je\", \"je\", \"je\", \"jenkinson\", \"jenkinson\", \"jennings\", \"jennings\", \"jeune\", \"jeune\", \"jeunes\", \"jeunes\", \"jeunes\", \"jewels\", \"jewels\", \"jewels\", \"jewels\", \"jewels\", \"jewels\", \"john\", \"john\", \"john\", \"john\", \"john\", \"john\", \"john\", \"john\", \"john\", \"john\", \"john\", \"john\", \"john\", \"john\", \"justification\", \"kitty\", \"kitty\", \"kitty\", \"kitty\", \"knew\", \"knew\", \"knew\", \"knew\", \"knew\", \"knew\", \"knew\", \"knew\", \"knew\", \"knew\", \"knew\", \"knew\", \"knew\", \"knew\", \"knew\", \"knightley\", \"knightley\", \"knightley\", \"knightley\", \"knightley\", \"knightley\", \"knightleys\", \"know\", \"know\", \"know\", \"know\", \"know\", \"know\", \"know\", \"know\", \"know\", \"know\", \"know\", \"know\", \"know\", \"know\", \"known\", \"known\", \"known\", \"known\", \"known\", \"known\", \"known\", \"known\", \"known\", \"known\", \"known\", \"known\", \"known\", \"known\", \"la\", \"la\", \"la\", \"la\", \"la\", \"la\", \"la\", \"la\", \"la\", \"laden\", \"laden\", \"laden\", \"laden\", \"ladies\", \"ladies\", \"ladies\", \"ladies\", \"ladies\", \"ladies\", \"ladies\", \"ladies\", \"ladies\", \"ladies\", \"ladies\", \"ladies\", \"ladies\", \"ladies\", \"lady\", \"lady\", \"lady\", \"lady\", \"lady\", \"lady\", \"lady\", \"lady\", \"lady\", \"lady\", \"lady\", \"lady\", \"lady\", \"ladyship\", \"ladyship\", \"ladyship\", \"ladyship\", \"lamp\", \"lamp\", \"lamp\", \"lamp\", \"lamp\", \"lamp\", \"lamp\", \"lamp\", \"lane\", \"lane\", \"lane\", \"lane\", \"lane\", \"lane\", \"lane\", \"lane\", \"lane\", \"lane\", \"lane\", \"large\", \"large\", \"large\", \"large\", \"large\", \"large\", \"large\", \"large\", \"large\", \"large\", \"large\", \"large\", \"large\", \"large\", \"large\", \"larkins\", \"lash\", \"lay\", \"lay\", \"lay\", \"lay\", \"lay\", \"lay\", \"lay\", \"lay\", \"lay\", \"lay\", \"lay\", \"lay\", \"lay\", \"leafless\", \"leafless\", \"leafless\", \"leah\", \"leah\", \"leah\", \"left\", \"left\", \"left\", \"left\", \"left\", \"left\", \"left\", \"left\", \"left\", \"left\", \"left\", \"left\", \"left\", \"left\", \"left\", \"legal\", \"legal\", \"legal\", \"les\", \"les\", \"les\", \"les\", \"les\", \"lessons\", \"lessons\", \"lessons\", \"lessons\", \"lessons\", \"lessons\", \"lessons\", \"letter\", \"letter\", \"letter\", \"letter\", \"letter\", \"letter\", \"letter\", \"letter\", \"letter\", \"letter\", \"liberated\", \"liberated\", \"life\", \"life\", \"life\", \"life\", \"life\", \"life\", \"life\", \"life\", \"life\", \"life\", \"life\", \"life\", \"life\", \"life\", \"light\", \"light\", \"light\", \"light\", \"light\", \"light\", \"light\", \"light\", \"light\", \"light\", \"light\", \"light\", \"light\", \"light\", \"like\", \"like\", \"like\", \"like\", \"like\", \"like\", \"like\", \"like\", \"like\", \"like\", \"like\", \"like\", \"like\", \"like\", \"like\", \"liked\", \"liked\", \"liked\", \"liked\", \"liked\", \"liked\", \"liked\", \"liked\", \"liked\", \"liked\", \"liked\", \"liked\", \"liked\", \"liked\", \"liked\", \"lineaments\", \"lineaments\", \"lineaments\", \"literal\", \"little\", \"little\", \"little\", \"little\", \"little\", \"little\", \"little\", \"little\", \"little\", \"little\", \"little\", \"little\", \"little\", \"little\", \"little\", \"lizzy\", \"lizzy\", \"lizzy\", \"lizzy\", \"ll\", \"ll\", \"ll\", \"ll\", \"ll\", \"ll\", \"ll\", \"ll\", \"ll\", \"ll\", \"lloyd\", \"lloyd\", \"lloyd\", \"locality\", \"long\", \"long\", \"long\", \"long\", \"long\", \"long\", \"long\", \"long\", \"long\", \"long\", \"long\", \"long\", \"long\", \"long\", \"long\", \"longbourn\", \"longbourn\", \"longbourn\", \"look\", \"look\", \"look\", \"look\", \"look\", \"look\", \"look\", \"look\", \"look\", \"look\", \"look\", \"look\", \"look\", \"look\", \"looked\", \"looked\", \"looked\", \"looked\", \"looked\", \"looked\", \"looked\", \"looked\", \"looked\", \"looked\", \"looked\", \"looked\", \"looked\", \"looked\", \"lottery\", \"lottery\", \"love\", \"love\", \"love\", \"love\", \"love\", \"love\", \"love\", \"love\", \"love\", \"love\", \"love\", \"love\", \"love\", \"love\", \"loved\", \"loved\", \"loved\", \"loved\", \"loved\", \"loved\", \"loved\", \"loved\", \"loved\", \"loved\", \"loved\", \"loved\", \"loved\", \"loved\", \"lowood\", \"lowood\", \"lowood\", \"lowood\", \"lowood\", \"lowood\", \"lowood\", \"lowood\", \"lucas\", \"lucas\", \"lucas\", \"lucases\", \"lucy\", \"lucy\", \"lucy\", \"lucy\", \"lucy\", \"lucy\", \"lucy\", \"lucy\", \"lucy\", \"lucy\", \"lucy\", \"lunatic\", \"lydia\", \"lydia\", \"lydia\", \"lynn\", \"lynn\", \"madame\", \"madame\", \"madame\", \"madame\", \"madame\", \"madame\", \"madame\", \"madame\", \"madame\", \"madame\", \"madeira\", \"madeira\", \"madeira\", \"mademoiselle\", \"mademoiselle\", \"mademoiselle\", \"mademoiselle\", \"mademoiselle\", \"mademoiselle\", \"mademoiselle\", \"mademoiselle\", \"magi\", \"magi\", \"magna\", \"maid\", \"maid\", \"maid\", \"maid\", \"maid\", \"maid\", \"maid\", \"maid\", \"maid\", \"maid\", \"maid\", \"mais\", \"mais\", \"mais\", \"maker\", \"maker\", \"maker\", \"maker\", \"maker\", \"man\", \"man\", \"man\", \"man\", \"man\", \"man\", \"man\", \"man\", \"man\", \"man\", \"man\", \"man\", \"man\", \"man\", \"manner\", \"manner\", \"manner\", \"manner\", \"manner\", \"manner\", \"manner\", \"manner\", \"manner\", \"manner\", \"manner\", \"manner\", \"manner\", \"manner\", \"maple\", \"margaret\", \"margaret\", \"margin\", \"margin\", \"marianne\", \"marianne\", \"marianne\", \"marriage\", \"marriage\", \"marriage\", \"marriage\", \"marriage\", \"marriage\", \"marriage\", \"marriage\", \"marriage\", \"marriage\", \"marriage\", \"marrow\", \"marrow\", \"marry\", \"marry\", \"marry\", \"marry\", \"marry\", \"marry\", \"marry\", \"marry\", \"marry\", \"marry\", \"marry\", \"marrying\", \"marrying\", \"marrying\", \"marrying\", \"marrying\", \"marrying\", \"marrying\", \"marrying\", \"marrying\", \"martin\", \"martin\", \"martin\", \"martins\", \"martins\", \"martins\", \"masculine\", \"masculine\", \"masculine\", \"mason\", \"mason\", \"master\", \"master\", \"master\", \"master\", \"master\", \"master\", \"master\", \"master\", \"master\", \"master\", \"master\", \"master\", \"master\", \"master\", \"mdlle\", \"mdlle\", \"mdlle\", \"mdlle\", \"mdlle\", \"meets\", \"meets\", \"meets\", \"meets\", \"meme\", \"meme\", \"merriment\", \"merriment\", \"merriment\", \"meryton\", \"meryton\", \"meryton\", \"middleton\", \"middletons\", \"midnight\", \"midnight\", \"midnight\", \"midnight\", \"midnight\", \"midnight\", \"midnight\", \"midsummer\", \"midsummer\", \"midsummer\", \"midsummer\", \"mightily\", \"mightily\", \"mind\", \"mind\", \"mind\", \"mind\", \"mind\", \"mind\", \"mind\", \"mind\", \"mind\", \"mind\", \"mind\", \"mind\", \"mind\", \"mind\", \"minor\", \"minor\", \"minor\", \"minor\", \"misfortunes\", \"misfortunes\", \"miss\", \"miss\", \"miss\", \"miss\", \"miss\", \"miss\", \"miss\", \"miss\", \"miss\", \"miss\", \"miss\", \"miss\", \"miss\", \"miss\", \"miss\", \"missionary\", \"missionary\", \"missionary\", \"missionary\", \"missis\", \"missis\", \"misunderstand\", \"misunderstand\", \"moment\", \"moment\", \"moment\", \"moment\", \"moment\", \"moment\", \"moment\", \"moment\", \"moment\", \"moment\", \"moment\", \"moment\", \"moment\", \"moment\", \"mon\", \"mon\", \"mon\", \"mon\", \"mon\", \"monsieur\", \"monsieur\", \"monsieur\", \"monsieur\", \"monsieur\", \"monsieur\", \"monsieur\", \"monsieur\", \"monsieur\", \"moon\", \"moon\", \"moon\", \"moon\", \"moon\", \"moon\", \"moon\", \"moon\", \"moon\", \"morbid\", \"morbid\", \"morbid\", \"mortifying\", \"mortifying\", \"mortifying\", \"mortifying\", \"mortifying\", \"mortifying\", \"mother\", \"mother\", \"mother\", \"mother\", \"mother\", \"mother\", \"mother\", \"mother\", \"mother\", \"mother\", \"mother\", \"mother\", \"mother\", \"mother\", \"nash\", \"netherfield\", \"netherfield\", \"netherfield\", \"nieces\", \"nieces\", \"nieces\", \"night\", \"night\", \"night\", \"night\", \"night\", \"night\", \"night\", \"night\", \"night\", \"night\", \"night\", \"night\", \"night\", \"night\", \"non\", \"non\", \"non\", \"norland\", \"noxious\", \"noxious\", \"nun\", \"nun\", \"nun\", \"nun\", \"nun\", \"nun\", \"nurse\", \"nurse\", \"nurse\", \"nurse\", \"nurse\", \"nurse\", \"nurse\", \"nursery\", \"nursery\", \"nursery\", \"nursery\", \"nursery\", \"nursery\", \"officers\", \"officers\", \"officers\", \"oh\", \"oh\", \"oh\", \"oh\", \"oh\", \"oh\", \"oh\", \"oh\", \"oh\", \"oh\", \"oh\", \"oh\", \"oh\", \"oh\", \"oil\", \"oil\", \"oil\", \"oil\", \"old\", \"old\", \"old\", \"old\", \"old\", \"old\", \"old\", \"old\", \"old\", \"old\", \"old\", \"old\", \"old\", \"orb\", \"outline\", \"outline\", \"outline\", \"outline\", \"outline\", \"overhead\", \"overhead\", \"overhead\", \"overhead\", \"paletot\", \"paletot\", \"paletot\", \"paletot\", \"palmer\", \"palmers\", \"papa\", \"papa\", \"papa\", \"papa\", \"papa\", \"papa\", \"papa\", \"papa\", \"papa\", \"park\", \"park\", \"park\", \"park\", \"park\", \"park\", \"park\", \"park\", \"park\", \"park\", \"park\", \"park\", \"parsonage\", \"parsonage\", \"parsonage\", \"parsonage\", \"parsonage\", \"parsonage\", \"party\", \"party\", \"party\", \"party\", \"party\", \"party\", \"party\", \"party\", \"party\", \"party\", \"party\", \"pas\", \"pas\", \"pas\", \"pas\", \"passages\", \"passages\", \"passages\", \"passages\", \"passages\", \"passages\", \"passages\", \"pasture\", \"pathos\", \"patron\", \"patron\", \"patty\", \"patty\", \"paul\", \"paul\", \"paul\", \"paul\", \"paul\", \"paul\", \"paul\", \"paulina\", \"paulina\", \"paulina\", \"paulina\", \"paulina\", \"paulina\", \"peak\", \"peak\", \"peak\", \"peak\", \"pear\", \"pear\", \"pelet\", \"pelet\", \"pelet\", \"pelet\", \"pelet\", \"pelet\", \"pelet\", \"pemberley\", \"pemberley\", \"pemberley\", \"pencils\", \"pere\", \"pere\", \"pere\", \"pere\", \"pere\", \"perry\", \"perry\", \"perry\", \"perry\", \"petit\", \"petit\", \"petit\", \"petite\", \"petite\", \"petite\", \"petite\", \"petite\", \"peu\", \"peu\", \"peu\", \"peut\", \"peut\", \"peut\", \"phantom\", \"phantom\", \"phantom\", \"phillips\", \"phillips\", \"phlegm\", \"physiognomy\", \"physiognomy\", \"physiognomy\", \"physiognomy\", \"pierre\", \"pierre\", \"pierre\", \"pierre\", \"pierre\", \"piled\", \"piled\", \"pillows\", \"pillows\", \"pilot\", \"pilot\", \"pilot\", \"pinions\", \"pinions\", \"plant\", \"plant\", \"plant\", \"plant\", \"plant\", \"plants\", \"plants\", \"plants\", \"plants\", \"plants\", \"plants\", \"plants\", \"plants\", \"play\", \"play\", \"play\", \"play\", \"play\", \"play\", \"play\", \"play\", \"play\", \"play\", \"play\", \"pleasant\", \"pleasant\", \"pleasant\", \"pleasant\", \"pleasant\", \"pleasant\", \"pleasant\", \"pleasant\", \"pleasant\", \"pleasant\", \"pleasant\", \"pleasant\", \"pleasant\", \"pleasure\", \"pleasure\", \"pleasure\", \"pleasure\", \"pleasure\", \"pleasure\", \"pleasure\", \"pleasure\", \"pleasure\", \"pleasure\", \"pleasure\", \"pleasure\", \"pleasure\", \"pleasure\", \"pleasure\", \"polly\", \"polly\", \"polly\", \"pony\", \"poole\", \"poole\", \"poole\", \"porridge\", \"porridge\", \"porridge\", \"portal\", \"portal\", \"porter\", \"porter\", \"porter\", \"portfolio\", \"portfolio\", \"portfolio\", \"portmanteau\", \"portmanteau\", \"possible\", \"possible\", \"possible\", \"possible\", \"possible\", \"possible\", \"possible\", \"possible\", \"possible\", \"possible\", \"possible\", \"possible\", \"possible\", \"pounds\", \"pounds\", \"pounds\", \"pounds\", \"pounds\", \"pounds\", \"pounds\", \"pounds\", \"pounds\", \"pounds\", \"prayed\", \"prayed\", \"present\", \"present\", \"present\", \"present\", \"present\", \"present\", \"present\", \"present\", \"present\", \"present\", \"present\", \"present\", \"present\", \"priest\", \"priest\", \"priest\", \"priest\", \"priest\", \"privations\", \"privileges\", \"privileges\", \"privileges\", \"privileges\", \"professor\", \"professor\", \"professor\", \"professor\", \"professor\", \"professor\", \"professor\", \"professor\", \"propensities\", \"propensities\", \"propensities\", \"protestants\", \"protestants\", \"protestants\", \"protestants\", \"proud\", \"proud\", \"proud\", \"proud\", \"proud\", \"proud\", \"proud\", \"proud\", \"proud\", \"proud\", \"proximity\", \"proximity\", \"pupil\", \"pupil\", \"pupil\", \"pupil\", \"pupil\", \"pupil\", \"pupil\", \"pupil\", \"pupil\", \"pupils\", \"pupils\", \"pupils\", \"pupils\", \"pupils\", \"pupils\", \"pupils\", \"pupils\", \"pupils\", \"purchases\", \"purchases\", \"purchases\", \"purchases\", \"pure\", \"pure\", \"pure\", \"pure\", \"pure\", \"pure\", \"pure\", \"pure\", \"pure\", \"pure\", \"pure\", \"pure\", \"purport\", \"purport\", \"purport\", \"qu\", \"qu\", \"qu\", \"qu\", \"qu\", \"que\", \"que\", \"que\", \"que\", \"que\", \"que\", \"queen\", \"queen\", \"queen\", \"queen\", \"queen\", \"question\", \"question\", \"question\", \"question\", \"question\", \"question\", \"question\", \"question\", \"question\", \"question\", \"question\", \"question\", \"question\", \"question\", \"question\", \"quickening\", \"quickening\", \"quiescence\", \"quiescence\", \"quiescence\", \"randalls\", \"randalls\", \"randalls\", \"randalls\", \"rave\", \"rave\", \"rave\", \"rays\", \"rays\", \"rays\", \"rays\", \"rear\", \"rear\", \"rear\", \"reconciled\", \"reconciled\", \"reconciled\", \"reconciled\", \"reconciled\", \"reconciled\", \"reconciliation\", \"reconciliation\", \"reconciliation\", \"reed\", \"reed\", \"reed\", \"reed\", \"reed\", \"reed\", \"reel\", \"reel\", \"reel\", \"reflex\", \"reflex\", \"refreshing\", \"refreshing\", \"refreshing\", \"refreshing\", \"refusal\", \"refusal\", \"refusal\", \"refusal\", \"regard\", \"regard\", \"regard\", \"regard\", \"regard\", \"regard\", \"regard\", \"regard\", \"regard\", \"regard\", \"regiment\", \"regiment\", \"regiment\", \"remnant\", \"remnant\", \"remnant\", \"remorse\", \"remorse\", \"remorse\", \"replied\", \"replied\", \"replied\", \"replied\", \"replied\", \"replied\", \"replied\", \"replied\", \"replied\", \"replied\", \"replied\", \"replied\", \"reproofs\", \"reproofs\", \"reproofs\", \"reproofs\", \"reproofs\", \"resent\", \"resent\", \"resent\", \"respect\", \"respect\", \"respect\", \"respect\", \"respect\", \"respect\", \"respect\", \"respect\", \"respect\", \"respect\", \"respect\", \"respect\", \"respectability\", \"respectability\", \"rest\", \"rest\", \"rest\", \"rest\", \"rest\", \"rest\", \"rest\", \"rest\", \"rest\", \"rest\", \"rest\", \"rest\", \"rest\", \"rest\", \"resulted\", \"resulted\", \"reuter\", \"reuter\", \"reuter\", \"reuter\", \"reuter\", \"reuter\", \"reuter\", \"rising\", \"rising\", \"rising\", \"rising\", \"rising\", \"rising\", \"rising\", \"rising\", \"rising\", \"rising\", \"rising\", \"rising\", \"rivers\", \"rivers\", \"rivers\", \"rochester\", \"rochester\", \"rochester\", \"rochester\", \"rochester\", \"rochester\", \"rochester\", \"rochester\", \"rochester\", \"rochester\", \"roll\", \"roll\", \"roll\", \"roll\", \"roll\", \"romanism\", \"romanism\", \"romanism\", \"rome\", \"rome\", \"rome\", \"rome\", \"rome\", \"rome\", \"room\", \"room\", \"room\", \"room\", \"room\", \"room\", \"room\", \"room\", \"room\", \"room\", \"room\", \"room\", \"room\", \"rosings\", \"rosings\", \"rosings\", \"round\", \"round\", \"round\", \"round\", \"round\", \"round\", \"round\", \"round\", \"round\", \"round\", \"round\", \"round\", \"round\", \"round\", \"saint\", \"saint\", \"saint\", \"saint\", \"saint\", \"sais\", \"saloon\", \"saloon\", \"saloon\", \"saloon\", \"sarcastic\", \"sarcastic\", \"sarcastic\", \"sarcastic\", \"sarcastic\", \"sarcastic\", \"sarcastic\", \"saturday\", \"saturday\", \"saturday\", \"saturday\", \"saturday\", \"saw\", \"saw\", \"saw\", \"saw\", \"saw\", \"saw\", \"saw\", \"saw\", \"saw\", \"saw\", \"saw\", \"saw\", \"saw\", \"saw\", \"saw\", \"scatcherd\", \"scent\", \"scent\", \"scent\", \"scholars\", \"school\", \"school\", \"school\", \"school\", \"school\", \"school\", \"school\", \"school\", \"school\", \"school\", \"school\", \"school\", \"scorn\", \"scorn\", \"scorn\", \"scorn\", \"scorn\", \"scorn\", \"scorn\", \"scorn\", \"scorn\", \"scotch\", \"scotch\", \"scotch\", \"scotland\", \"scotland\", \"scotland\", \"scream\", \"scream\", \"scream\", \"scrupulously\", \"scrutinised\", \"scrutinised\", \"scrutinised\", \"seat\", \"seat\", \"seat\", \"seat\", \"seat\", \"seat\", \"seat\", \"seat\", \"seat\", \"seat\", \"seat\", \"seat\", \"seen\", \"seen\", \"seen\", \"seen\", \"seen\", \"seen\", \"seen\", \"seen\", \"seen\", \"seen\", \"seen\", \"seen\", \"seen\", \"seen\", \"selina\", \"semicircle\", \"semicircle\", \"sense\", \"sense\", \"sense\", \"sense\", \"sense\", \"sense\", \"sense\", \"sense\", \"sense\", \"sense\", \"sense\", \"sense\", \"sense\", \"shall\", \"shall\", \"shall\", \"shall\", \"shall\", \"shall\", \"shall\", \"shall\", \"shall\", \"shall\", \"shall\", \"shall\", \"shall\", \"shall\", \"sharp\", \"sharp\", \"sharp\", \"sharp\", \"sharp\", \"sharp\", \"sharp\", \"sharp\", \"sharp\", \"shone\", \"shone\", \"shone\", \"shone\", \"shone\", \"shone\", \"shorn\", \"shorn\", \"shorn\", \"shorn\", \"shoulder\", \"shoulder\", \"shoulder\", \"shoulder\", \"shoulder\", \"shoulder\", \"shoulder\", \"shoulder\", \"shoulder\", \"shoulder\", \"shrine\", \"shrine\", \"shrine\", \"shrine\", \"shutting\", \"shutting\", \"shutting\", \"shutting\", \"si\", \"si\", \"silas\", \"silas\", \"silas\", \"silas\", \"silas\", \"silken\", \"silken\", \"sink\", \"sink\", \"sink\", \"sink\", \"sink\", \"sink\", \"sir\", \"sir\", \"sir\", \"sir\", \"sir\", \"sir\", \"sir\", \"sir\", \"sir\", \"sir\", \"sir\", \"sire\", \"sire\", \"sister\", \"sister\", \"sister\", \"sister\", \"sister\", \"sister\", \"sister\", \"sister\", \"sister\", \"sister\", \"sister\", \"sister\", \"sisters\", \"sisters\", \"sisters\", \"sisters\", \"sisters\", \"sisters\", \"sisters\", \"sisters\", \"sisters\", \"sisters\", \"skies\", \"skies\", \"skies\", \"sleeper\", \"slender\", \"smith\", \"smith\", \"smith\", \"smith\", \"smith\", \"sneered\", \"sneered\", \"sneered\", \"snowe\", \"snowe\", \"snowe\", \"snowe\", \"snowe\", \"soit\", \"soit\", \"soit\", \"solution\", \"solution\", \"solution\", \"somersetshire\", \"soon\", \"soon\", \"soon\", \"soon\", \"soon\", \"soon\", \"soon\", \"soon\", \"soon\", \"soon\", \"soon\", \"soon\", \"soon\", \"soon\", \"soon\", \"sophie\", \"sophie\", \"sophie\", \"sophie\", \"sophie\", \"sound\", \"sound\", \"sound\", \"sound\", \"sound\", \"sound\", \"sound\", \"sound\", \"sound\", \"sound\", \"sound\", \"sound\", \"sound\", \"soup\", \"soup\", \"soup\", \"soup\", \"spectre\", \"spectre\", \"spectre\", \"spectre\", \"spell\", \"spell\", \"spell\", \"spell\", \"spiritual\", \"spiritual\", \"spiritual\", \"spiritual\", \"spiritual\", \"spiteful\", \"spiteful\", \"spiteful\", \"spiteful\", \"spoiling\", \"spoiling\", \"spots\", \"spots\", \"spots\", \"sprain\", \"sprain\", \"sprain\", \"st\", \"st\", \"st\", \"st\", \"st\", \"st\", \"st\", \"st\", \"st\", \"st\", \"st\", \"staff\", \"staircase\", \"staircase\", \"staircase\", \"staircase\", \"staircase\", \"staircase\", \"staircase\", \"staircase\", \"staircase\", \"staircase\", \"steele\", \"steeles\", \"step\", \"step\", \"step\", \"step\", \"step\", \"step\", \"step\", \"step\", \"step\", \"step\", \"step\", \"step\", \"step\", \"step\", \"steps\", \"steps\", \"steps\", \"steps\", \"steps\", \"steps\", \"steps\", \"steps\", \"steps\", \"steps\", \"steps\", \"steps\", \"steward\", \"steward\", \"steward\", \"steward\", \"stile\", \"stile\", \"stile\", \"stile\", \"stood\", \"stood\", \"stood\", \"stood\", \"stood\", \"stood\", \"stood\", \"stood\", \"stood\", \"stood\", \"stood\", \"stood\", \"stood\", \"stood\", \"stoop\", \"stoop\", \"stoop\", \"stoop\", \"stopped\", \"stopped\", \"stopped\", \"stopped\", \"stopped\", \"stopped\", \"stopped\", \"stopped\", \"stopped\", \"stopped\", \"stored\", \"storey\", \"storey\", \"strange\", \"strange\", \"strange\", \"strange\", \"strange\", \"strange\", \"strange\", \"strange\", \"strange\", \"strange\", \"strange\", \"strange\", \"strange\", \"strayed\", \"strayed\", \"suckling\", \"suddenly\", \"suddenly\", \"suddenly\", \"suddenly\", \"suddenly\", \"suddenly\", \"suddenly\", \"suddenly\", \"suddenly\", \"suddenly\", \"suddenly\", \"suddenly\", \"suddenly\", \"sunny\", \"sunny\", \"sunny\", \"sunny\", \"sunny\", \"suns\", \"suns\", \"suns\", \"suns\", \"supplanted\", \"supplanted\", \"supplanted\", \"supposing\", \"supposing\", \"supposing\", \"supposing\", \"supposing\", \"supposing\", \"supposing\", \"supposing\", \"supposing\", \"sure\", \"sure\", \"sure\", \"sure\", \"sure\", \"sure\", \"sure\", \"sure\", \"sure\", \"sure\", \"sure\", \"sure\", \"sure\", \"sure\", \"surprized\", \"surprized\", \"surry\", \"sussex\", \"sustenance\", \"sustenance\", \"swear\", \"sweetest\", \"sweetest\", \"sweetest\", \"sweetest\", \"sweetest\", \"sweetest\", \"sweetest\", \"sweetest\", \"swift\", \"swift\", \"swift\", \"tableau\", \"temple\", \"temple\", \"temple\", \"temple\", \"temple\", \"temple\", \"temple\", \"terrified\", \"terrified\", \"terrified\", \"terror\", \"terror\", \"terror\", \"terror\", \"terror\", \"terror\", \"terror\", \"terror\", \"terror\", \"tests\", \"tests\", \"tests\", \"thing\", \"thing\", \"thing\", \"thing\", \"thing\", \"thing\", \"thing\", \"thing\", \"thing\", \"thing\", \"thing\", \"thing\", \"thing\", \"thing\", \"thing\", \"things\", \"things\", \"things\", \"things\", \"things\", \"things\", \"things\", \"things\", \"things\", \"things\", \"things\", \"things\", \"things\", \"things\", \"think\", \"think\", \"think\", \"think\", \"think\", \"think\", \"think\", \"think\", \"think\", \"think\", \"think\", \"think\", \"think\", \"think\", \"thornfield\", \"thornfield\", \"thornfield\", \"thornfield\", \"thornfield\", \"thornfield\", \"thornfield\", \"thought\", \"thought\", \"thought\", \"thought\", \"thought\", \"thought\", \"thought\", \"thought\", \"thought\", \"thought\", \"thought\", \"thought\", \"thought\", \"thought\", \"thought\", \"thousand\", \"thousand\", \"thousand\", \"thousand\", \"thousand\", \"thousand\", \"thousand\", \"thousand\", \"thousand\", \"thousand\", \"thousand\", \"thousand\", \"thousand\", \"tickets\", \"tickets\", \"time\", \"time\", \"time\", \"time\", \"time\", \"time\", \"time\", \"time\", \"time\", \"time\", \"time\", \"time\", \"time\", \"time\", \"time\", \"timon\", \"told\", \"told\", \"told\", \"told\", \"told\", \"told\", \"told\", \"told\", \"told\", \"told\", \"told\", \"told\", \"told\", \"told\", \"tolled\", \"tolled\", \"tolled\", \"took\", \"took\", \"took\", \"took\", \"took\", \"took\", \"took\", \"took\", \"took\", \"took\", \"took\", \"took\", \"took\", \"topic\", \"topic\", \"topic\", \"topic\", \"topic\", \"topic\", \"topic\", \"topic\", \"topic\", \"town\", \"town\", \"town\", \"town\", \"town\", \"town\", \"town\", \"town\", \"town\", \"town\", \"town\", \"town\", \"tractable\", \"tractable\", \"tractable\", \"trained\", \"trained\", \"trample\", \"trample\", \"trample\", \"transformed\", \"transformed\", \"transformed\", \"transitory\", \"transitory\", \"transparent\", \"transparent\", \"transparent\", \"trees\", \"trees\", \"trees\", \"trees\", \"trees\", \"trees\", \"trees\", \"trees\", \"trees\", \"trees\", \"troop\", \"troop\", \"troop\", \"troop\", \"trunk\", \"trunk\", \"trunk\", \"trunk\", \"trunk\", \"trunk\", \"typhus\", \"typhus\", \"typhus\", \"typhus\", \"uncommonly\", \"uncommonly\", \"unconnected\", \"unconnected\", \"une\", \"une\", \"une\", \"une\", \"une\", \"unequal\", \"unequal\", \"unequal\", \"unequal\", \"unequal\", \"unequal\", \"unequal\", \"unequal\", \"unhappy\", \"unhappy\", \"unhappy\", \"unhappy\", \"unhappy\", \"unhappy\", \"unhappy\", \"unhappy\", \"unhappy\", \"unhappy\", \"union\", \"union\", \"union\", \"union\", \"union\", \"union\", \"union\", \"union\", \"union\", \"union\", \"union\", \"union\", \"unnumbered\", \"unnumbered\", \"unnumbered\", \"unnumbered\", \"unnumbered\", \"unwholesome\", \"unwholesome\", \"unwholesome\", \"unwholesome\", \"va\", \"vandenhuten\", \"vandenhuten\", \"vandenhuten\", \"vandenhuten\", \"vandenhuten\", \"veil\", \"veil\", \"veil\", \"veil\", \"veil\", \"veil\", \"veracity\", \"veracity\", \"vicarage\", \"vicinage\", \"vicinage\", \"vicinage\", \"vicinage\", \"village\", \"village\", \"village\", \"village\", \"village\", \"villain\", \"vital\", \"vital\", \"vital\", \"vital\", \"vital\", \"voice\", \"voice\", \"voice\", \"voice\", \"voice\", \"voice\", \"voice\", \"voice\", \"voice\", \"voice\", \"voice\", \"voice\", \"voice\", \"vous\", \"vous\", \"vous\", \"vous\", \"vous\", \"vous\", \"vous\", \"vous\", \"waft\", \"waft\", \"waiter\", \"waiter\", \"waiter\", \"waiter\", \"wall\", \"wall\", \"wall\", \"wall\", \"wall\", \"wall\", \"wall\", \"wall\", \"wall\", \"wanderings\", \"want\", \"want\", \"want\", \"want\", \"want\", \"want\", \"want\", \"want\", \"want\", \"want\", \"want\", \"want\", \"want\", \"want\", \"wash\", \"wash\", \"washstand\", \"washstand\", \"watering\", \"watering\", \"watering\", \"way\", \"way\", \"way\", \"way\", \"way\", \"way\", \"way\", \"way\", \"way\", \"way\", \"way\", \"way\", \"way\", \"way\", \"weakly\", \"weakly\", \"went\", \"went\", \"went\", \"went\", \"went\", \"went\", \"went\", \"went\", \"went\", \"went\", \"went\", \"went\", \"went\", \"went\", \"went\", \"weston\", \"weston\", \"weston\", \"weston\", \"weston\", \"weston\", \"weston\", \"whitcross\", \"white\", \"white\", \"white\", \"white\", \"white\", \"white\", \"white\", \"white\", \"white\", \"white\", \"white\", \"white\", \"white\", \"wickham\", \"wickham\", \"wickham\", \"wife\", \"wife\", \"wife\", \"wife\", \"wife\", \"wife\", \"wife\", \"wife\", \"wife\", \"wife\", \"wife\", \"wife\", \"wife\", \"wife\", \"wilfully\", \"wilfully\", \"wilfully\", \"willoughby\", \"willoughby\", \"winding\", \"winding\", \"winding\", \"winding\", \"winding\", \"winding\", \"wish\", \"wish\", \"wish\", \"wish\", \"wish\", \"wish\", \"wish\", \"wish\", \"wish\", \"wish\", \"wish\", \"wish\", \"wish\", \"withered\", \"withered\", \"withered\", \"woman\", \"woman\", \"woman\", \"woman\", \"woman\", \"woman\", \"woman\", \"woman\", \"woman\", \"woman\", \"woman\", \"woman\", \"woman\", \"woman\", \"womanly\", \"womanly\", \"womanly\", \"wood\", \"wood\", \"wood\", \"wood\", \"wood\", \"wood\", \"wood\", \"wood\", \"wood\", \"wood\", \"wood\", \"wood\", \"woodhouse\", \"woodhouse\", \"woodhouse\", \"woodhouse\", \"woodhouse\", \"work\", \"work\", \"work\", \"work\", \"work\", \"work\", \"work\", \"work\", \"work\", \"work\", \"work\", \"work\", \"work\", \"workings\", \"workings\", \"wrapping\", \"wrapping\", \"wrench\", \"wrench\", \"wrench\", \"wrench\", \"yawn\", \"yawn\", \"yes\", \"yes\", \"yes\", \"yes\", \"yes\", \"yes\", \"yes\", \"yes\", \"yes\", \"yes\", \"yes\", \"yes\", \"yes\", \"yorke\", \"yorke\", \"young\", \"young\", \"young\", \"young\", \"young\", \"young\", \"young\", \"young\", \"young\", \"young\", \"young\", \"young\", \"young\", \"young\", \"zelie\", \"zelie\", \"zoraide\", \"zoraide\", \"zoraide\", \"zoraide\", \"zoraide\"]}, \"R\": 30, \"lambda.step\": 0.01, \"plot.opts\": {\"xlab\": \"PC1\", \"ylab\": \"PC2\"}, \"topic.order\": [7, 5, 14, 15, 8, 3, 11, 10, 4, 9, 1, 12, 6, 13, 2]};\n",
       "\n",
       "function LDAvis_load_lib(url, callback){\n",
       "  var s = document.createElement('script');\n",
       "  s.src = url;\n",
       "  s.async = true;\n",
       "  s.onreadystatechange = s.onload = callback;\n",
       "  s.onerror = function(){console.warn(\"failed to load library \" + url);};\n",
       "  document.getElementsByTagName(\"head\")[0].appendChild(s);\n",
       "}\n",
       "\n",
       "if(typeof(LDAvis) !== \"undefined\"){\n",
       "   // already loaded: just create the visualization\n",
       "   !function(LDAvis){\n",
       "       new LDAvis(\"#\" + \"ldavis_el946276140286372163160660776387\", ldavis_el946276140286372163160660776387_data);\n",
       "   }(LDAvis);\n",
       "}else if(typeof define === \"function\" && define.amd){\n",
       "   // require.js is available: use it to load d3/LDAvis\n",
       "   require.config({paths: {d3: \"https://cdnjs.cloudflare.com/ajax/libs/d3/3.5.5/d3.min\"}});\n",
       "   require([\"d3\"], function(d3){\n",
       "      window.d3 = d3;\n",
       "      LDAvis_load_lib(\"https://cdn.rawgit.com/bmabey/pyLDAvis/files/ldavis.v1.0.0.js\", function(){\n",
       "        new LDAvis(\"#\" + \"ldavis_el946276140286372163160660776387\", ldavis_el946276140286372163160660776387_data);\n",
       "      });\n",
       "    });\n",
       "}else{\n",
       "    // require.js not available: dynamically load d3 & LDAvis\n",
       "    LDAvis_load_lib(\"https://cdnjs.cloudflare.com/ajax/libs/d3/3.5.5/d3.min.js\", function(){\n",
       "         LDAvis_load_lib(\"https://cdn.rawgit.com/bmabey/pyLDAvis/files/ldavis.v1.0.0.js\", function(){\n",
       "                 new LDAvis(\"#\" + \"ldavis_el946276140286372163160660776387\", ldavis_el946276140286372163160660776387_data);\n",
       "            })\n",
       "         });\n",
       "}\n",
       "</script>"
      ],
      "text/plain": [
       "PreparedData(topic_coordinates=              x         y  topics  cluster       Freq\n",
       "topic                                                \n",
       "6      0.079713  0.019950       1        1  20.283566\n",
       "4     -0.094380 -0.006981       2        1  15.480526\n",
       "13    -0.123417  0.016243       3        1  12.932615\n",
       "14     0.085740  0.076578       4        1   8.215403\n",
       "7      0.022174  0.040770       5        1   8.179260\n",
       "2     -0.168095  0.031187       6        1   7.686256\n",
       "10    -0.156124 -0.036022       7        1   7.583149\n",
       "9      0.049720  0.014354       8        1   6.754066\n",
       "3     -0.077607  0.041586       9        1   5.207251\n",
       "8      0.051198  0.071644      10        1   2.566450\n",
       "0      0.069726  0.014599      11        1   2.537015\n",
       "11     0.099639  0.010478      12        1   1.191390\n",
       "5      0.063946 -0.012530      13        1   0.798426\n",
       "12    -0.018317 -0.165238      14        1   0.315100\n",
       "1      0.116085 -0.116617      15        1   0.269531, topic_info=     Category         Freq       Term        Total  loglift  logprob\n",
       "1364  Default   511.000000    harriet   511.000000  30.0000  30.0000\n",
       "1351  Default   853.000000       emma   853.000000  29.0000  29.0000\n",
       "84    Default   656.000000     elinor   656.000000  28.0000  28.0000\n",
       "2184  Default   620.000000  elizabeth   620.000000  27.0000  27.0000\n",
       "155   Default   542.000000   marianne   542.000000  26.0000  26.0000\n",
       "1377  Default   381.000000  knightley   381.000000  25.0000  25.0000\n",
       "597   Default   938.000000       jane   938.000000  24.0000  24.0000\n",
       "651   Default   367.000000  rochester   367.000000  23.0000  23.0000\n",
       "2177  Default   394.000000      darcy   394.000000  22.0000  22.0000\n",
       "406   Default  1714.000000     little  1714.000000  21.0000  21.0000\n",
       "163   Default  1512.000000       miss  1512.000000  20.0000  20.0000\n",
       "2257  Default   315.000000     bennet   315.000000  19.0000  19.0000\n",
       "146   Default  1333.000000       like  1333.000000  18.0000  18.0000\n",
       "609   Default   932.000000       long   932.000000  17.0000  17.0000\n",
       "2024  Default   434.000000     weston   434.000000  16.0000  16.0000\n",
       "1968  Default   381.000000      elton   381.000000  15.0000  15.0000\n",
       "254   Default  1306.000000       time  1306.000000  14.0000  14.0000\n",
       "613   Default   900.000000        man   900.000000  13.0000  13.0000\n",
       "2258  Default   295.000000    bingley   295.000000  12.0000  12.0000\n",
       "2548  Default   417.000000     madame   417.000000  11.0000  11.0000\n",
       "225   Default   604.000000        sir   604.000000  10.0000  10.0000\n",
       "1228  Default   273.000000   monsieur   273.000000   9.0000   9.0000\n",
       "251   Default   782.000000      thing   782.000000   8.0000   8.0000\n",
       "991   Default   624.000000      night   624.000000   7.0000   7.0000\n",
       "624   Default   478.000000        old   478.000000   6.0000   6.0000\n",
       "123   Default   651.000000      heart   651.000000   5.0000   5.0000\n",
       "252   Default  1303.000000      think  1303.000000   4.0000   4.0000\n",
       "562   Default   372.000000    fairfax   372.000000   3.0000   3.0000\n",
       "814   Default  1141.000000    thought  1141.000000   2.0000   2.0000\n",
       "226   Default   572.000000     sister   572.000000   1.0000   1.0000\n",
       "...       ...          ...        ...          ...      ...      ...\n",
       "1697  Topic15     1.222573     plants    18.491838   3.1999  -6.5383\n",
       "2617  Topic15     1.583254      burns    31.354446   2.9304  -6.2798\n",
       "6013  Topic15     1.280767      cigar    22.107349   3.0678  -6.4918\n",
       "6211  Topic15     1.119483      sunny    17.167133   3.1861  -6.6264\n",
       "2589  Topic15     2.516575      trees   108.719788   2.1504  -5.8163\n",
       "2533  Topic15     1.282011        hay    23.721786   2.9983  -6.4908\n",
       "2668  Topic15     2.011322       moon    73.918152   2.3121  -6.0404\n",
       "2073  Topic15     1.866611        gay    64.157829   2.3790  -6.1151\n",
       "602   Topic15     2.847415      liked   192.499847   1.7026  -5.6928\n",
       "2965  Topic15     2.662673     garden   170.467041   1.7570  -5.7599\n",
       "451   Topic15     1.866570       pure    68.294106   2.3165  -6.1151\n",
       "364   Topic15     1.786840      fully    66.422455   2.3007  -6.1588\n",
       "1643  Topic15     1.914635    flowers    87.143547   2.0982  -6.0897\n",
       "148   Topic15     3.244004       look   639.923950   0.6317  -5.5624\n",
       "651   Topic15     2.591545  rochester   367.681000   0.9613  -5.7870\n",
       "802   Topic15     1.838097     rising    87.159729   2.0572  -6.1305\n",
       "609   Topic15     2.679969       long   932.528137   0.0641  -5.7534\n",
       "214   Topic15     1.891003       seat   142.528320   1.5938  -6.1021\n",
       "1059  Topic15     1.929706       step   165.027023   1.4675  -6.0819\n",
       "375   Topic15     1.950381       high   191.635666   1.3287  -6.0712\n",
       "2067  Topic15     1.772410     filled   104.256302   1.8417  -6.1669\n",
       "146   Topic15     2.450912       like  1333.457642  -0.3828  -5.8428\n",
       "254   Topic15     2.393531       time  1306.822510  -0.3863  -5.8665\n",
       "1245  Topic15     1.846594   pleasant   191.277176   1.2759  -6.1259\n",
       "957   Topic15     2.036954       half   586.717834   0.2532  -6.0278\n",
       "205   Topic15     1.875345       rest   273.456116   0.9339  -6.1104\n",
       "111   Topic15     1.887431       gone   343.500336   0.7123  -6.1040\n",
       "599   Topic15     1.848808      large   266.874268   0.9440  -6.1247\n",
       "1192  Topic15     1.834112        got   287.372955   0.8620  -6.1327\n",
       "21    Topic15     1.822814       away   673.063965   0.0048  -6.1389\n",
       "\n",
       "[1164 rows x 6 columns], token_table=      Topic      Freq          Term\n",
       "term                               \n",
       "4570      2  0.958610         abbey\n",
       "5475      4  0.715197         abbot\n",
       "5475     10  0.198666         abbot\n",
       "6601      4  0.850519  accommodated\n",
       "5432      1  0.173269        accost\n",
       "5432      4  0.173269        accost\n",
       "5432      8  0.606442        accost\n",
       "6673      5  0.152976       achieve\n",
       "6673      8  0.305952       achieve\n",
       "6673     10  0.458929       achieve\n",
       "1440      3  0.184128        aching\n",
       "1440     10  0.368256        aching\n",
       "1440     11  0.184128        aching\n",
       "6662      3  0.157657        acquit\n",
       "6662      7  0.709457        acquit\n",
       "6662      9  0.078829        acquit\n",
       "5434      1  0.849006        actors\n",
       "515       1  0.095541         adele\n",
       "515       2  0.007349         adele\n",
       "515       4  0.036746         adele\n",
       "515       5  0.690834         adele\n",
       "515       8  0.029397         adele\n",
       "515      10  0.022048         adele\n",
       "515      13  0.102890         adele\n",
       "515      15  0.007349         adele\n",
       "6716      1  0.864383      adjusted\n",
       "2         3  0.227793    affability\n",
       "2         9  0.569483    affability\n",
       "2        13  0.113897    affability\n",
       "2        14  0.113897    affability\n",
       "...     ...       ...           ...\n",
       "691       7  0.060056           yes\n",
       "691       8  0.048379           yes\n",
       "691       9  0.050047           yes\n",
       "691      10  0.023355           yes\n",
       "691      11  0.031696           yes\n",
       "691      12  0.003336           yes\n",
       "691      13  0.006673           yes\n",
       "1307      2  0.460271         yorke\n",
       "1307     10  0.460271         yorke\n",
       "279       1  0.142174         young\n",
       "279       2  0.272248         young\n",
       "279       3  0.149736         young\n",
       "279       4  0.046887         young\n",
       "279       5  0.046887         young\n",
       "279       6  0.142174         young\n",
       "279       7  0.065037         young\n",
       "279       8  0.034787         young\n",
       "279       9  0.051425         young\n",
       "279      10  0.022687         young\n",
       "279      11  0.015125         young\n",
       "279      12  0.006050         young\n",
       "279      13  0.003025         young\n",
       "279      14  0.003025         young\n",
       "4569      8  0.246850         zelie\n",
       "4569     11  0.678836         zelie\n",
       "5006      1  0.072485       zoraide\n",
       "5006      2  0.072485       zoraide\n",
       "5006      4  0.108727       zoraide\n",
       "5006      8  0.616120       zoraide\n",
       "5006     11  0.144969       zoraide\n",
       "\n",
       "[4537 rows x 3 columns], R=30, lambda_step=0.01, plot_opts={'xlab': 'PC1', 'ylab': 'PC2'}, topic_order=[7, 5, 14, 15, 8, 3, 11, 10, 4, 9, 1, 12, 6, 13, 2])"
      ]
     },
     "execution_count": 72,
     "metadata": {},
     "output_type": "execute_result"
    }
   ],
   "source": [
    "pyLDAvis.gensim.prepare(lda, corpus, id2word)"
   ]
  },
  {
   "cell_type": "markdown",
   "metadata": {},
   "source": [
    "### Overall Model / Documents"
   ]
  },
  {
   "cell_type": "code",
   "execution_count": 64,
   "metadata": {},
   "outputs": [
    {
     "data": {
      "text/plain": [
       "[(13, 0.99766076)]"
      ]
     },
     "execution_count": 64,
     "metadata": {},
     "output_type": "execute_result"
    }
   ],
   "source": [
    "lda[corpus[0]]"
   ]
  },
  {
   "cell_type": "code",
   "execution_count": 65,
   "metadata": {},
   "outputs": [],
   "source": [
    "distro = [lda[d] for d in corpus]"
   ]
  },
  {
   "cell_type": "code",
   "execution_count": 66,
   "metadata": {},
   "outputs": [
    {
     "data": {
      "text/plain": [
       "[(13, 0.99766076)]"
      ]
     },
     "execution_count": 66,
     "metadata": {},
     "output_type": "execute_result"
    }
   ],
   "source": [
    "distro[0]"
   ]
  },
  {
   "cell_type": "code",
   "execution_count": 67,
   "metadata": {},
   "outputs": [],
   "source": [
    "distro = [lda[d] for d in corpus]\n",
    "\n",
    "def update(doc):\n",
    "        d_dist = {k:0 for k in range(0,15)}\n",
    "        for t in doc:\n",
    "            d_dist[t[0]] = t[1]\n",
    "        return d_dist\n",
    "    \n",
    "new_distro = [update(d) for d in distro]"
   ]
  },
  {
   "cell_type": "code",
   "execution_count": 71,
   "metadata": {},
   "outputs": [
    {
     "data": {
      "text/plain": [
       "813"
      ]
     },
     "execution_count": 71,
     "metadata": {},
     "output_type": "execute_result"
    }
   ],
   "source": [
    "len(new_distro)"
   ]
  },
  {
   "cell_type": "code",
   "execution_count": 68,
   "metadata": {},
   "outputs": [],
   "source": [
    "df = pd.DataFrame.from_records(new_distro, index=titles)\n",
    "df.columns = topics\n",
    "df['author'] = df.reset_index()['index'].apply(lambda x: x.split('_')[0]).tolist()"
   ]
  },
  {
   "cell_type": "code",
   "execution_count": 69,
   "metadata": {},
   "outputs": [
    {
     "data": {
      "text/html": [
       "<div>\n",
       "<style scoped>\n",
       "    .dataframe tbody tr th:only-of-type {\n",
       "        vertical-align: middle;\n",
       "    }\n",
       "\n",
       "    .dataframe tbody tr th {\n",
       "        vertical-align: top;\n",
       "    }\n",
       "\n",
       "    .dataframe thead th {\n",
       "        text-align: right;\n",
       "    }\n",
       "</style>\n",
       "<table border=\"1\" class=\"dataframe\">\n",
       "  <thead>\n",
       "    <tr style=\"text-align: right;\">\n",
       "      <th></th>\n",
       "      <th>paul little day good know</th>\n",
       "      <th>wood helen look lowood liked</th>\n",
       "      <th>elizabeth bennet jane bingley miss</th>\n",
       "      <th>darcy miss elizabeth little know</th>\n",
       "      <th>emma miss weston elton good</th>\n",
       "      <th>adele little rochester monsieur away</th>\n",
       "      <th>like little madame good time</th>\n",
       "      <th>rochester jane sir love know</th>\n",
       "      <th>bessie like little reed shall</th>\n",
       "      <th>little monsieur like day know</th>\n",
       "      <th>harriet think emma feelings time</th>\n",
       "      <th>old night time thought long</th>\n",
       "      <th>harriet knightley man smith having</th>\n",
       "      <th>elinor marianne sister edward mother</th>\n",
       "      <th>little room door graham thought</th>\n",
       "      <th>author</th>\n",
       "    </tr>\n",
       "  </thead>\n",
       "  <tbody>\n",
       "    <tr>\n",
       "      <th>Austen_Sense0066</th>\n",
       "      <td>0.0</td>\n",
       "      <td>0.0</td>\n",
       "      <td>0.0</td>\n",
       "      <td>0.0</td>\n",
       "      <td>0.0</td>\n",
       "      <td>0.0</td>\n",
       "      <td>0.000000</td>\n",
       "      <td>0.000000</td>\n",
       "      <td>0.0</td>\n",
       "      <td>0.0</td>\n",
       "      <td>0.000000</td>\n",
       "      <td>0.0</td>\n",
       "      <td>0.0</td>\n",
       "      <td>0.997661</td>\n",
       "      <td>0.0</td>\n",
       "      <td>Austen</td>\n",
       "    </tr>\n",
       "    <tr>\n",
       "      <th>Austen_Sense0005</th>\n",
       "      <td>0.0</td>\n",
       "      <td>0.0</td>\n",
       "      <td>0.0</td>\n",
       "      <td>0.0</td>\n",
       "      <td>0.0</td>\n",
       "      <td>0.0</td>\n",
       "      <td>0.000000</td>\n",
       "      <td>0.000000</td>\n",
       "      <td>0.0</td>\n",
       "      <td>0.0</td>\n",
       "      <td>0.230927</td>\n",
       "      <td>0.0</td>\n",
       "      <td>0.0</td>\n",
       "      <td>0.766906</td>\n",
       "      <td>0.0</td>\n",
       "      <td>Austen</td>\n",
       "    </tr>\n",
       "    <tr>\n",
       "      <th>CBronte_Jane0122</th>\n",
       "      <td>0.0</td>\n",
       "      <td>0.0</td>\n",
       "      <td>0.0</td>\n",
       "      <td>0.0</td>\n",
       "      <td>0.0</td>\n",
       "      <td>0.0</td>\n",
       "      <td>0.000000</td>\n",
       "      <td>0.997146</td>\n",
       "      <td>0.0</td>\n",
       "      <td>0.0</td>\n",
       "      <td>0.000000</td>\n",
       "      <td>0.0</td>\n",
       "      <td>0.0</td>\n",
       "      <td>0.000000</td>\n",
       "      <td>0.0</td>\n",
       "      <td>CBronte</td>\n",
       "    </tr>\n",
       "    <tr>\n",
       "      <th>Austen_Sense0081</th>\n",
       "      <td>0.0</td>\n",
       "      <td>0.0</td>\n",
       "      <td>0.0</td>\n",
       "      <td>0.0</td>\n",
       "      <td>0.0</td>\n",
       "      <td>0.0</td>\n",
       "      <td>0.000000</td>\n",
       "      <td>0.000000</td>\n",
       "      <td>0.0</td>\n",
       "      <td>0.0</td>\n",
       "      <td>0.271070</td>\n",
       "      <td>0.0</td>\n",
       "      <td>0.0</td>\n",
       "      <td>0.726543</td>\n",
       "      <td>0.0</td>\n",
       "      <td>Austen</td>\n",
       "    </tr>\n",
       "    <tr>\n",
       "      <th>CBronte_Professor0064</th>\n",
       "      <td>0.0</td>\n",
       "      <td>0.0</td>\n",
       "      <td>0.0</td>\n",
       "      <td>0.0</td>\n",
       "      <td>0.0</td>\n",
       "      <td>0.0</td>\n",
       "      <td>0.997854</td>\n",
       "      <td>0.000000</td>\n",
       "      <td>0.0</td>\n",
       "      <td>0.0</td>\n",
       "      <td>0.000000</td>\n",
       "      <td>0.0</td>\n",
       "      <td>0.0</td>\n",
       "      <td>0.000000</td>\n",
       "      <td>0.0</td>\n",
       "      <td>CBronte</td>\n",
       "    </tr>\n",
       "  </tbody>\n",
       "</table>\n",
       "</div>"
      ],
      "text/plain": [
       "                       paul little day good know  \\\n",
       "Austen_Sense0066                             0.0   \n",
       "Austen_Sense0005                             0.0   \n",
       "CBronte_Jane0122                             0.0   \n",
       "Austen_Sense0081                             0.0   \n",
       "CBronte_Professor0064                        0.0   \n",
       "\n",
       "                       wood helen look lowood liked  \\\n",
       "Austen_Sense0066                                0.0   \n",
       "Austen_Sense0005                                0.0   \n",
       "CBronte_Jane0122                                0.0   \n",
       "Austen_Sense0081                                0.0   \n",
       "CBronte_Professor0064                           0.0   \n",
       "\n",
       "                       elizabeth bennet jane bingley miss  \\\n",
       "Austen_Sense0066                                      0.0   \n",
       "Austen_Sense0005                                      0.0   \n",
       "CBronte_Jane0122                                      0.0   \n",
       "Austen_Sense0081                                      0.0   \n",
       "CBronte_Professor0064                                 0.0   \n",
       "\n",
       "                       darcy miss elizabeth little know  \\\n",
       "Austen_Sense0066                                    0.0   \n",
       "Austen_Sense0005                                    0.0   \n",
       "CBronte_Jane0122                                    0.0   \n",
       "Austen_Sense0081                                    0.0   \n",
       "CBronte_Professor0064                               0.0   \n",
       "\n",
       "                       emma miss weston elton good  \\\n",
       "Austen_Sense0066                               0.0   \n",
       "Austen_Sense0005                               0.0   \n",
       "CBronte_Jane0122                               0.0   \n",
       "Austen_Sense0081                               0.0   \n",
       "CBronte_Professor0064                          0.0   \n",
       "\n",
       "                       adele little rochester monsieur away  \\\n",
       "Austen_Sense0066                                        0.0   \n",
       "Austen_Sense0005                                        0.0   \n",
       "CBronte_Jane0122                                        0.0   \n",
       "Austen_Sense0081                                        0.0   \n",
       "CBronte_Professor0064                                   0.0   \n",
       "\n",
       "                       like little madame good time  \\\n",
       "Austen_Sense0066                           0.000000   \n",
       "Austen_Sense0005                           0.000000   \n",
       "CBronte_Jane0122                           0.000000   \n",
       "Austen_Sense0081                           0.000000   \n",
       "CBronte_Professor0064                      0.997854   \n",
       "\n",
       "                       rochester jane sir love know  \\\n",
       "Austen_Sense0066                           0.000000   \n",
       "Austen_Sense0005                           0.000000   \n",
       "CBronte_Jane0122                           0.997146   \n",
       "Austen_Sense0081                           0.000000   \n",
       "CBronte_Professor0064                      0.000000   \n",
       "\n",
       "                       bessie like little reed shall  \\\n",
       "Austen_Sense0066                                 0.0   \n",
       "Austen_Sense0005                                 0.0   \n",
       "CBronte_Jane0122                                 0.0   \n",
       "Austen_Sense0081                                 0.0   \n",
       "CBronte_Professor0064                            0.0   \n",
       "\n",
       "                       little monsieur like day know  \\\n",
       "Austen_Sense0066                                 0.0   \n",
       "Austen_Sense0005                                 0.0   \n",
       "CBronte_Jane0122                                 0.0   \n",
       "Austen_Sense0081                                 0.0   \n",
       "CBronte_Professor0064                            0.0   \n",
       "\n",
       "                       harriet think emma feelings time  \\\n",
       "Austen_Sense0066                               0.000000   \n",
       "Austen_Sense0005                               0.230927   \n",
       "CBronte_Jane0122                               0.000000   \n",
       "Austen_Sense0081                               0.271070   \n",
       "CBronte_Professor0064                          0.000000   \n",
       "\n",
       "                       old night time thought long  \\\n",
       "Austen_Sense0066                               0.0   \n",
       "Austen_Sense0005                               0.0   \n",
       "CBronte_Jane0122                               0.0   \n",
       "Austen_Sense0081                               0.0   \n",
       "CBronte_Professor0064                          0.0   \n",
       "\n",
       "                       harriet knightley man smith having  \\\n",
       "Austen_Sense0066                                      0.0   \n",
       "Austen_Sense0005                                      0.0   \n",
       "CBronte_Jane0122                                      0.0   \n",
       "Austen_Sense0081                                      0.0   \n",
       "CBronte_Professor0064                                 0.0   \n",
       "\n",
       "                       elinor marianne sister edward mother  \\\n",
       "Austen_Sense0066                                   0.997661   \n",
       "Austen_Sense0005                                   0.766906   \n",
       "CBronte_Jane0122                                   0.000000   \n",
       "Austen_Sense0081                                   0.726543   \n",
       "CBronte_Professor0064                              0.000000   \n",
       "\n",
       "                       little room door graham thought   author  \n",
       "Austen_Sense0066                                   0.0   Austen  \n",
       "Austen_Sense0005                                   0.0   Austen  \n",
       "CBronte_Jane0122                                   0.0  CBronte  \n",
       "Austen_Sense0081                                   0.0   Austen  \n",
       "CBronte_Professor0064                              0.0  CBronte  "
      ]
     },
     "execution_count": 69,
     "metadata": {},
     "output_type": "execute_result"
    }
   ],
   "source": [
    "df.head()"
   ]
  },
  {
   "cell_type": "code",
   "execution_count": 70,
   "metadata": {},
   "outputs": [
    {
     "data": {
      "text/html": [
       "<div>\n",
       "<style scoped>\n",
       "    .dataframe tbody tr th:only-of-type {\n",
       "        vertical-align: middle;\n",
       "    }\n",
       "\n",
       "    .dataframe tbody tr th {\n",
       "        vertical-align: top;\n",
       "    }\n",
       "\n",
       "    .dataframe thead th {\n",
       "        text-align: right;\n",
       "    }\n",
       "</style>\n",
       "<table border=\"1\" class=\"dataframe\">\n",
       "  <thead>\n",
       "    <tr style=\"text-align: right;\">\n",
       "      <th></th>\n",
       "      <th>paul little day good know</th>\n",
       "      <th>wood helen look lowood liked</th>\n",
       "      <th>elizabeth bennet jane bingley miss</th>\n",
       "      <th>darcy miss elizabeth little know</th>\n",
       "      <th>emma miss weston elton good</th>\n",
       "      <th>adele little rochester monsieur away</th>\n",
       "      <th>like little madame good time</th>\n",
       "      <th>rochester jane sir love know</th>\n",
       "      <th>bessie like little reed shall</th>\n",
       "      <th>little monsieur like day know</th>\n",
       "      <th>harriet think emma feelings time</th>\n",
       "      <th>old night time thought long</th>\n",
       "      <th>harriet knightley man smith having</th>\n",
       "      <th>elinor marianne sister edward mother</th>\n",
       "      <th>little room door graham thought</th>\n",
       "    </tr>\n",
       "    <tr>\n",
       "      <th>author</th>\n",
       "      <th></th>\n",
       "      <th></th>\n",
       "      <th></th>\n",
       "      <th></th>\n",
       "      <th></th>\n",
       "      <th></th>\n",
       "      <th></th>\n",
       "      <th></th>\n",
       "      <th></th>\n",
       "      <th></th>\n",
       "      <th></th>\n",
       "      <th></th>\n",
       "      <th></th>\n",
       "      <th></th>\n",
       "      <th></th>\n",
       "    </tr>\n",
       "  </thead>\n",
       "  <tbody>\n",
       "    <tr>\n",
       "      <th>Austen</th>\n",
       "      <td>0.000345</td>\n",
       "      <td>0.000000</td>\n",
       "      <td>0.176966</td>\n",
       "      <td>0.076837</td>\n",
       "      <td>0.290293</td>\n",
       "      <td>0.000174</td>\n",
       "      <td>0.002889</td>\n",
       "      <td>0.001637</td>\n",
       "      <td>0.002277</td>\n",
       "      <td>0.001456</td>\n",
       "      <td>0.161805</td>\n",
       "      <td>0.002223</td>\n",
       "      <td>0.004615</td>\n",
       "      <td>0.275133</td>\n",
       "      <td>0.000801</td>\n",
       "    </tr>\n",
       "    <tr>\n",
       "      <th>CBronte</th>\n",
       "      <td>0.042828</td>\n",
       "      <td>0.004509</td>\n",
       "      <td>0.002314</td>\n",
       "      <td>0.034170</td>\n",
       "      <td>0.042144</td>\n",
       "      <td>0.013821</td>\n",
       "      <td>0.353372</td>\n",
       "      <td>0.158808</td>\n",
       "      <td>0.045397</td>\n",
       "      <td>0.116937</td>\n",
       "      <td>0.011556</td>\n",
       "      <td>0.018574</td>\n",
       "      <td>0.001795</td>\n",
       "      <td>0.006164</td>\n",
       "      <td>0.144944</td>\n",
       "    </tr>\n",
       "  </tbody>\n",
       "</table>\n",
       "</div>"
      ],
      "text/plain": [
       "         paul little day good know  wood helen look lowood liked  \\\n",
       "author                                                             \n",
       "Austen                    0.000345                      0.000000   \n",
       "CBronte                   0.042828                      0.004509   \n",
       "\n",
       "         elizabeth bennet jane bingley miss  darcy miss elizabeth little know  \\\n",
       "author                                                                          \n",
       "Austen                             0.176966                          0.076837   \n",
       "CBronte                            0.002314                          0.034170   \n",
       "\n",
       "         emma miss weston elton good  adele little rochester monsieur away  \\\n",
       "author                                                                       \n",
       "Austen                      0.290293                              0.000174   \n",
       "CBronte                     0.042144                              0.013821   \n",
       "\n",
       "         like little madame good time  rochester jane sir love know  \\\n",
       "author                                                                \n",
       "Austen                       0.002889                      0.001637   \n",
       "CBronte                      0.353372                      0.158808   \n",
       "\n",
       "         bessie like little reed shall  little monsieur like day know  \\\n",
       "author                                                                  \n",
       "Austen                        0.002277                       0.001456   \n",
       "CBronte                       0.045397                       0.116937   \n",
       "\n",
       "         harriet think emma feelings time  old night time thought long  \\\n",
       "author                                                                   \n",
       "Austen                           0.161805                     0.002223   \n",
       "CBronte                          0.011556                     0.018574   \n",
       "\n",
       "         harriet knightley man smith having  \\\n",
       "author                                        \n",
       "Austen                             0.004615   \n",
       "CBronte                            0.001795   \n",
       "\n",
       "         elinor marianne sister edward mother  little room door graham thought  \n",
       "author                                                                          \n",
       "Austen                               0.275133                         0.000801  \n",
       "CBronte                              0.006164                         0.144944  "
      ]
     },
     "execution_count": 70,
     "metadata": {},
     "output_type": "execute_result"
    }
   ],
   "source": [
    "df.groupby('author').mean()"
   ]
  },
  {
   "cell_type": "markdown",
   "metadata": {},
   "source": [
    "## Challenge\n",
    "### *Can we see if one of the authors focus more on men than women?*\n",
    "\n",
    "*  Use Spacy for text prepocessing\n",
    "*  Extract the Named Entities from the documents using Spacy (command is fairly straight forward)\n",
    "*  Create unique list of names from the authors (you'll find that there are different types of named entities not all people)\n",
    "*  Label the names with genders (can you this by hand or you use the US census name lists)\n",
    "*  Customize your processing to replace the proper name with your gender from the previous step's lookup table\n",
    "*  Then follow the rest of the LDA flow\n"
   ]
  },
  {
   "cell_type": "markdown",
   "metadata": {},
   "source": [
    "# Selecting the Number of Topics (Learn)\n",
    "<a id=\"#p4\"></a>"
   ]
  },
  {
   "cell_type": "markdown",
   "metadata": {},
   "source": [
    "## Overview"
   ]
  },
  {
   "cell_type": "markdown",
   "metadata": {},
   "source": [
    "## Follow Along"
   ]
  },
  {
   "cell_type": "code",
   "execution_count": 76,
   "metadata": {},
   "outputs": [],
   "source": [
    "from gensim.models.coherencemodel import CoherenceModel\n",
    "\n",
    "def compute_coherence_values(dictionary, corpus, path, limit, start=2, step=3, passes=5):\n",
    "    \"\"\"\n",
    "    Compute c_v coherence for various number of topics\n",
    "\n",
    "    Parameters:\n",
    "    ----------\n",
    "    dictionary : Gensim dictionary\n",
    "    corpus : Gensim corpus\n",
    "    path : path to input texts\n",
    "    limit : Max num of topics\n",
    "    passes: the number of times the entire lda model & coherence values are calculated\n",
    "\n",
    "    Returns:\n",
    "    -------\n",
    "    coherence_values : Coherence values corresponding to the LDA model with respective number of topics\n",
    "    \"\"\"\n",
    "    \n",
    "    coherence_values = []\n",
    "    \n",
    "    tokens = list(doc_stream(path))\n",
    "    \n",
    "    for iter_ in range(passes):\n",
    "        for num_topics in range(start, limit, step):\n",
    "            stream = doc_stream(path)\n",
    "            model = LdaMulticore(corpus=corpus, num_topics=num_topics, id2word=dictionary, workers=4)\n",
    "            coherencemodel = CoherenceModel(model=model,dictionary=dictionary,corpus=corpus, coherence='u_mass')\n",
    "            coherence_values.append({'pass': iter_, \n",
    "                                     'num_topics': num_topics, \n",
    "                                     'coherence_score': coherencemodel.get_coherence()\n",
    "                                    })\n",
    "\n",
    "    return coherence_values"
   ]
  },
  {
   "cell_type": "code",
   "execution_count": null,
   "metadata": {},
   "outputs": [],
   "source": [
    "# Can take a long time to run.\n",
    "coherence_values = compute_coherence_values(dictionary=id2word, \n",
    "                                                        corpus=corpus, \n",
    "                                                        path=path, \n",
    "                                                        start=2, \n",
    "                                                        limit=20, \n",
    "                                                        step=3,\n",
    "                                                        passes=1);"
   ]
  },
  {
   "cell_type": "code",
   "execution_count": 79,
   "metadata": {},
   "outputs": [],
   "source": [
    "topic_coherence = pd.DataFrame.from_records(coherence_values)"
   ]
  },
  {
   "cell_type": "code",
   "execution_count": null,
   "metadata": {},
   "outputs": [],
   "source": []
  },
  {
   "cell_type": "code",
   "execution_count": 80,
   "metadata": {},
   "outputs": [
    {
     "data": {
      "text/html": [
       "<div>\n",
       "<style scoped>\n",
       "    .dataframe tbody tr th:only-of-type {\n",
       "        vertical-align: middle;\n",
       "    }\n",
       "\n",
       "    .dataframe tbody tr th {\n",
       "        vertical-align: top;\n",
       "    }\n",
       "\n",
       "    .dataframe thead th {\n",
       "        text-align: right;\n",
       "    }\n",
       "</style>\n",
       "<table border=\"1\" class=\"dataframe\">\n",
       "  <thead>\n",
       "    <tr style=\"text-align: right;\">\n",
       "      <th></th>\n",
       "      <th>coherence_score</th>\n",
       "      <th>num_topics</th>\n",
       "      <th>pass</th>\n",
       "    </tr>\n",
       "  </thead>\n",
       "  <tbody>\n",
       "    <tr>\n",
       "      <th>0</th>\n",
       "      <td>-0.640869</td>\n",
       "      <td>2</td>\n",
       "      <td>0</td>\n",
       "    </tr>\n",
       "    <tr>\n",
       "      <th>1</th>\n",
       "      <td>-0.767921</td>\n",
       "      <td>5</td>\n",
       "      <td>0</td>\n",
       "    </tr>\n",
       "    <tr>\n",
       "      <th>2</th>\n",
       "      <td>-0.822712</td>\n",
       "      <td>8</td>\n",
       "      <td>0</td>\n",
       "    </tr>\n",
       "    <tr>\n",
       "      <th>3</th>\n",
       "      <td>-0.740399</td>\n",
       "      <td>11</td>\n",
       "      <td>0</td>\n",
       "    </tr>\n",
       "    <tr>\n",
       "      <th>4</th>\n",
       "      <td>-0.765186</td>\n",
       "      <td>14</td>\n",
       "      <td>0</td>\n",
       "    </tr>\n",
       "  </tbody>\n",
       "</table>\n",
       "</div>"
      ],
      "text/plain": [
       "   coherence_score  num_topics  pass\n",
       "0        -0.640869           2     0\n",
       "1        -0.767921           5     0\n",
       "2        -0.822712           8     0\n",
       "3        -0.740399          11     0\n",
       "4        -0.765186          14     0"
      ]
     },
     "execution_count": 80,
     "metadata": {},
     "output_type": "execute_result"
    }
   ],
   "source": [
    "topic_coherence.head()"
   ]
  },
  {
   "cell_type": "code",
   "execution_count": 84,
   "metadata": {},
   "outputs": [
    {
     "data": {
      "image/png": "[encoded data removed]",
      "text/plain": [
       "<Figure size 432x288 with 1 Axes>"
      ]
     },
     "metadata": {
      "needs_background": "light"
     },
     "output_type": "display_data"
    }
   ],
   "source": [
    "import seaborn as sns\n",
    "\n",
    "ax = sns.lineplot(x=\"num_topics\", y=\"coherence_score\", data=topic_coherence)"
   ]
  },
  {
   "cell_type": "code",
   "execution_count": 85,
   "metadata": {},
   "outputs": [
    {
     "ename": "NameError",
     "evalue": "name 'x' is not defined",
     "output_type": "error",
     "traceback": [
      "\u001b[0;31m---------------------------------------------------------------------------\u001b[0m",
      "\u001b[0;31mNameError\u001b[0m                                 Traceback (most recent call last)",
      "\u001b[0;32m<ipython-input-85-374779cc73b5>\u001b[0m in \u001b[0;36m<module>\u001b[0;34m\u001b[0m\n\u001b[1;32m      1\u001b[0m \u001b[0;31m# Print the coherence scores\u001b[0m\u001b[0;34m\u001b[0m\u001b[0;34m\u001b[0m\u001b[0;34m\u001b[0m\u001b[0m\n\u001b[0;32m----> 2\u001b[0;31m \u001b[0;32mfor\u001b[0m \u001b[0mm\u001b[0m\u001b[0;34m,\u001b[0m \u001b[0mcv\u001b[0m \u001b[0;32min\u001b[0m \u001b[0mzip\u001b[0m\u001b[0;34m(\u001b[0m\u001b[0mx\u001b[0m\u001b[0;34m,\u001b[0m \u001b[0mcoherence_values\u001b[0m\u001b[0;34m)\u001b[0m\u001b[0;34m:\u001b[0m\u001b[0;34m\u001b[0m\u001b[0;34m\u001b[0m\u001b[0m\n\u001b[0m\u001b[1;32m      3\u001b[0m     \u001b[0mprint\u001b[0m\u001b[0;34m(\u001b[0m\u001b[0;34m\"Num Topics =\"\u001b[0m\u001b[0;34m,\u001b[0m \u001b[0mm\u001b[0m\u001b[0;34m,\u001b[0m \u001b[0;34m\" has Coherence Value of\"\u001b[0m\u001b[0;34m,\u001b[0m \u001b[0mround\u001b[0m\u001b[0;34m(\u001b[0m\u001b[0mcv\u001b[0m\u001b[0;34m,\u001b[0m \u001b[0;36m4\u001b[0m\u001b[0;34m)\u001b[0m\u001b[0;34m)\u001b[0m\u001b[0;34m\u001b[0m\u001b[0;34m\u001b[0m\u001b[0m\n",
      "\u001b[0;31mNameError\u001b[0m: name 'x' is not defined"
     ]
    }
   ],
   "source": [
    "# Print the coherence scores\n",
    "for m, cv in zip(x, coherence_values):\n",
    "    print(\"Num Topics =\", m, \" has Coherence Value of\", round(cv, 4))"
   ]
  },
  {
   "cell_type": "code",
   "execution_count": 89,
   "metadata": {},
   "outputs": [
    {
     "data": {
      "text/plain": [
       "[(0, 0.02226036),\n",
       " (1, 0.022260414),\n",
       " (2, 0.022260347),\n",
       " (3, 0.022260347),\n",
       " (4, 0.022260392),\n",
       " (5, 0.0222604),\n",
       " (6, 0.022260347),\n",
       " (7, 0.35487327),\n",
       " (8, 0.022260398),\n",
       " (9, 0.022260517),\n",
       " (10, 0.022260416),\n",
       " (11, 0.022260422),\n",
       " (12, 0.3557417),\n",
       " (13, 0.022260347),\n",
       " (14, 0.022260347)]"
      ]
     },
     "execution_count": 89,
     "metadata": {},
     "output_type": "execute_result"
    }
   ],
   "source": [
    "lda[id2word.doc2bow(tokenize(\"This is a sample document to score with a topic distribution.\"))]"
   ]
  },
  {
   "cell_type": "markdown",
   "metadata": {},
   "source": [
    "want highest coherence value possible"
   ]
  },
  {
   "cell_type": "markdown",
   "metadata": {},
   "source": [
    "## Challenge\n",
    "### *Can we see if one of the authors focus more on men than women?*\n",
    "\n",
    "*  Use Spacy for text prepocessing\n",
    "*  Extract the Named Entities from the documents using Spacy (command is fairly straight forward)\n",
    "*  Create unique list of names from the authors (you'll find that there are different types of named entities not all people)\n",
    "*  Label the names with genders (can you this by hand or you use the US census name lists)\n",
    "*  Customize your processing to replace the proper name with your gender from the previous step's lookup table\n",
    "*  Then follow the rest of the LDA flow"
   ]
  },
  {
   "cell_type": "code",
   "execution_count": 86,
   "metadata": {},
   "outputs": [
    {
     "name": "stderr",
     "output_type": "stream",
     "text": [
      "/home/ygeun/anaconda3/envs/U4W1-NLP/lib/python3.7/site-packages/thinc/neural/train.py:7: DeprecationWarning: Using or importing the ABCs from 'collections' instead of from 'collections.abc' is deprecated, and in 3.8 it will stop working\n",
      "  from .optimizers import Adam, linear_decay\n",
      "/home/ygeun/anaconda3/envs/U4W1-NLP/lib/python3.7/site-packages/thinc/check.py:4: DeprecationWarning: Using or importing the ABCs from 'collections' instead of from 'collections.abc' is deprecated, and in 3.8 it will stop working\n",
      "  from collections import Sequence, Sized, Iterable, Callable\n",
      "/home/ygeun/anaconda3/envs/U4W1-NLP/lib/python3.7/site-packages/thinc/check.py:4: DeprecationWarning: Using or importing the ABCs from 'collections' instead of from 'collections.abc' is deprecated, and in 3.8 it will stop working\n",
      "  from collections import Sequence, Sized, Iterable, Callable\n"
     ]
    }
   ],
   "source": [
    "import spacy\n",
    "\n",
    "nlp = spacy.load('en_core_web_lg')"
   ]
  },
  {
   "cell_type": "code",
   "execution_count": 87,
   "metadata": {},
   "outputs": [],
   "source": [
    "test = \"Ned asked me a question about England today.\""
   ]
  },
  {
   "cell_type": "code",
   "execution_count": 88,
   "metadata": {},
   "outputs": [
    {
     "name": "stdout",
     "output_type": "stream",
     "text": [
      "Ned Ned PROPN\n",
      "asked ask VERB\n",
      "me -PRON- PRON\n",
      "a a DET\n",
      "question question NOUN\n",
      "about about ADP\n",
      "England England PROPN\n",
      "today today NOUN\n",
      ". . PUNCT\n"
     ]
    }
   ],
   "source": [
    "doc = nlp(test)\n",
    "\n",
    "for token in doc:\n",
    "    print(token.text, token.lemma_, token.pos_)"
   ]
  },
  {
   "cell_type": "code",
   "execution_count": 89,
   "metadata": {},
   "outputs": [
    {
     "name": "stdout",
     "output_type": "stream",
     "text": [
      "Ned PERSON\n",
      "England GPE\n",
      "today DATE\n"
     ]
    }
   ],
   "source": [
    "for ent in doc.ents:\n",
    "    print(ent.text, ent.label_)"
   ]
  },
  {
   "cell_type": "code",
   "execution_count": 90,
   "metadata": {},
   "outputs": [],
   "source": [
    "def doc_stream(path):\n",
    "    for f in os.listdir(path):\n",
    "        with open(os.path.join(path,f)) as t:\n",
    "            text = t.read().strip('\\n')\n",
    "            yield text\n",
    "\n",
    "def get_people(docstream):\n",
    "    \n",
    "    ppl = []\n",
    "    \n",
    "    for d in docstream:\n",
    "        \n",
    "        doc = nlp(d)\n",
    "        \n",
    "        for ent in doc.ents:\n",
    "            \n",
    "            if ent.label_ == \"PERSON\":\n",
    "                ppl.append(ent.lemma_)\n",
    "                \n",
    "    return set(ppl)"
   ]
  },
  {
   "cell_type": "code",
   "execution_count": 91,
   "metadata": {},
   "outputs": [],
   "source": [
    "people = get_people(doc_stream(path))"
   ]
  },
  {
   "cell_type": "code",
   "execution_count": 92,
   "metadata": {},
   "outputs": [],
   "source": [
    "doc = nlp(next(doc_stream(path)))"
   ]
  },
  {
   "cell_type": "code",
   "execution_count": 93,
   "metadata": {},
   "outputs": [
    {
     "data": {
      "text/plain": [
       "'Morton'"
      ]
     },
     "execution_count": 93,
     "metadata": {},
     "output_type": "execute_result"
    }
   ],
   "source": [
    "doc.ents[0].lemma_"
   ]
  },
  {
   "cell_type": "markdown",
   "metadata": {},
   "source": [
    "# Sources\n",
    "\n",
    "### *References*\n",
    "* [Andrew Ng et al paper on LDA](https://ai.stanford.edu/~ang/papers/jair03-lda.pdf)\n",
    "* On [Coherence](https://pdfs.semanticscholar.org/1521/8d9c029cbb903ae7c729b2c644c24994c201.pdf)\n",
    "\n",
    "### *Resources*\n",
    "\n",
    "* [Gensim](https://radimrehurek.com/gensim/): Python package for topic modeling, nlp, word vectorization, and few other things. Well maintained and well documented.\n",
    "* [Topic Modeling with Gensim](http://www.machinelearningplus.com/nlp/topic-modeling-gensim-python/#11createthedictionaryandcorpusneededfortopicmodeling): A kind of cookbook for LDA with gensim. Excellent overview, but the you need to be aware of missing import statements and assumed prior knowledge.\n",
    "* [Chinese Restuarant Process](https://en.wikipedia.org/wiki/Chinese_restaurant_process): That really obscure stats thing I mentioned... \n",
    "* [PyLDAvis](https://github.com/bmabey/pyLDAvis): Library for visualizing the topic model and performing some exploratory work. Works well. Has a direct parrell implementation in R as well. \n",
    "* [Rare Technologies](https://rare-technologies.com/): The people that made & maintain gensim and a few other libraries.\n",
    "* [Jane Austen v. Charlotte Bronte](https://www.literaryladiesguide.com/literary-musings/jane-austen-charlotte-bronte-different-alike/)"
   ]
  }
 ],
 "metadata": {
  "kernelspec": {
   "display_name": "U4W1-NLP (Python3)",
   "language": "python",
   "name": "u4w1-nlp"
  },
  "language_info": {
   "codemirror_mode": {
    "name": "ipython",
    "version": 3
   },
   "file_extension": ".py",
   "mimetype": "text/x-python",
   "name": "python",
   "nbconvert_exporter": "python",
   "pygments_lexer": "ipython3",
   "version": "3.7.3"
  }
 },
 "nbformat": 4,
 "nbformat_minor": 4
}
