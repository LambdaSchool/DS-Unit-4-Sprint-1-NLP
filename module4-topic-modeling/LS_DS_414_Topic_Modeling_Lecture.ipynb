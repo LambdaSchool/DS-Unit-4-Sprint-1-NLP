{
 "cells": [
  {
   "cell_type": "markdown",
   "metadata": {},
   "source": [
    "Lambda School Data Science\n",
    "\n",
    "*Unit 4, Sprint 1, Module 4*\n",
    "\n",
    "---"
   ]
  },
  {
   "cell_type": "markdown",
   "metadata": {},
   "source": [
    "# Topic Modeling (Prepare)"
   ]
  },
  {
   "cell_type": "markdown",
   "metadata": {},
   "source": [
    "# Latent Dirchilet Allocation (LDA) Models (Prepare)\n",
    "<a id=\"#p1\"></a>"
   ]
  },
  {
   "cell_type": "markdown",
   "metadata": {},
   "source": [
    "## Overview\n",
    "LDA is a \"generative probabilistic model\". \n",
    "\n",
    "Let's play with a modoel available [here](https://lettier.com/projects/lda-topic-modeling/)"
   ]
  },
  {
   "cell_type": "markdown",
   "metadata": {},
   "source": [
    "## Follow Along"
   ]
  },
  {
   "cell_type": "markdown",
   "metadata": {},
   "source": [
    "## Challenge "
   ]
  },
  {
   "cell_type": "markdown",
   "metadata": {},
   "source": [
    "# Estimating LDA Models with Gensim (Learn)\n",
    "<a id=\"#p1\"></a>"
   ]
  },
  {
   "cell_type": "markdown",
   "metadata": {
    "toc-hr-collapsed": true
   },
   "source": [
    "## Overview\n",
    "### A Litterary Introduction: *Jane Austen V. Charlotte Bronte*\n",
    "Despite being born nearly forty years apart, modern fans often pit Jane Austen & Charlotte Bronte against one another in a battle for litterary  supremacy. The battle centers around the topics of education for women, courting, and marriage. The authors' similiar backgrounds naturally draw comparisons, but the modern fascination is probably due to novelility of British women publishing novels during the early 19th century. \n",
    "\n",
    "Can we help close a litterary battle for supremacy and simply acknowledge that the authors addressed different topics and deserve to be acknowledged as excellent authors each in their own right?\n",
    "\n",
    "We're going to apply Latent Dirichlet Allocation a machine learning alogrithm for topic modeling to each of the author's novels to compare the distribution of topics in their novels."
   ]
  },
  {
   "cell_type": "code",
   "execution_count": 10,
   "metadata": {},
   "outputs": [],
   "source": [
    "import numpy as np\n",
    "import gensim\n",
    "import os\n",
    "import re\n",
    "\n",
    "from gensim.utils import simple_preprocess\n",
    "from gensim.parsing.preprocessing import STOPWORDS\n",
    "from gensim import corpora\n",
    "\n",
    "from gensim.models.ldamulticore import LdaMulticore\n",
    "\n",
    "import pandas as pd"
   ]
  },
  {
   "cell_type": "markdown",
   "metadata": {},
   "source": [
    "### Novel Data\n",
    "I grabbed the novel data pre-split into a bunch of smaller chuncks"
   ]
  },
  {
   "cell_type": "code",
   "execution_count": 3,
   "metadata": {},
   "outputs": [],
   "source": [
    "path = './data/austen-brontë-split'"
   ]
  },
  {
   "cell_type": "code",
   "execution_count": 17,
   "metadata": {},
   "outputs": [],
   "source": [
    "# Plain Python - ''.split command\n",
    "# Spacy - just the memmas from the document\n",
    "# Gensim - simple_preprocess\n",
    "\n",
    "def tokenize(text):\n",
    "    \n",
    "    return [token for token in simple_preprocess(text) if token not in STOPWORDS]"
   ]
  },
  {
   "cell_type": "code",
   "execution_count": 18,
   "metadata": {},
   "outputs": [],
   "source": [
    "import os\n",
    "\n",
    "def gather_data(path_to_data): \n",
    "    data = []\n",
    "    \n",
    "    for f in os.listdir(path):\n",
    "        if os.path.isdir(f) == False:\n",
    "            if f[-3:] == 'txt':\n",
    "                with open(os.path.join(path,f)) as t:\n",
    "                    text = t.read().strip('\\n')\n",
    "                    data.append(tokenize(str(text)))\n",
    "            \n",
    "    return data"
   ]
  },
  {
   "cell_type": "code",
   "execution_count": 19,
   "metadata": {},
   "outputs": [],
   "source": [
    "tokens = gather_data(path)"
   ]
  },
  {
   "cell_type": "code",
   "execution_count": 20,
   "metadata": {},
   "outputs": [
    {
     "data": {
      "text/plain": [
       "['emma',\n",
       " 'jane',\n",
       " 'austen',\n",
       " 'volume',\n",
       " 'chapter',\n",
       " 'emma',\n",
       " 'woodhouse',\n",
       " 'handsome',\n",
       " 'clever',\n",
       " 'rich']"
      ]
     },
     "execution_count": 20,
     "metadata": {},
     "output_type": "execute_result"
    }
   ],
   "source": [
    "tokens[0][0:10]"
   ]
  },
  {
   "cell_type": "code",
   "execution_count": 22,
   "metadata": {},
   "outputs": [],
   "source": [
    "# df['tokens'] = gather_data(path)"
   ]
  },
  {
   "cell_type": "code",
   "execution_count": null,
   "metadata": {},
   "outputs": [],
   "source": [
    "# \"this is a sample string with a \\n newline character\".replace('\\n', '')"
   ]
  },
  {
   "cell_type": "code",
   "execution_count": 12,
   "metadata": {},
   "outputs": [
    {
     "data": {
      "text/plain": [
       "Austen_Emma0026         [giving, fair, companion, account, yesterday, ...\n",
       "Austen_Emma0032         [feels, like, snow, place, party, try, day, di...\n",
       "CBronte_Villette0086    [pierced, opaque, blackness, stood, bougie, qu...\n",
       "CBronte_Jane0099        [joke, queer, looks, tell, thing, specially, s...\n",
       "CBronte_Villette0092    [second, landing, floor, comprising, abode, kn...\n",
       "Name: tokens, dtype: object"
      ]
     },
     "execution_count": 12,
     "metadata": {},
     "output_type": "execute_result"
    }
   ],
   "source": [
    "# df['tokens'].head()"
   ]
  },
  {
   "cell_type": "markdown",
   "metadata": {
    "toc-hr-collapsed": true
   },
   "source": [
    "## Follow Along"
   ]
  },
  {
   "cell_type": "markdown",
   "metadata": {},
   "source": [
    "### Text Preprocessing\n",
    "**Challenge**: update the function `tokenize` with any technique you have learned so far this week. "
   ]
  },
  {
   "cell_type": "code",
   "execution_count": 23,
   "metadata": {},
   "outputs": [],
   "source": [
    "titles = [t[:-4] for t in os.listdir(path) if os.path.isdir(t) == False]"
   ]
  },
  {
   "cell_type": "code",
   "execution_count": 24,
   "metadata": {},
   "outputs": [
    {
     "data": {
      "text/plain": [
       "813"
      ]
     },
     "execution_count": 24,
     "metadata": {},
     "output_type": "execute_result"
    }
   ],
   "source": [
    "len(titles)"
   ]
  },
  {
   "cell_type": "code",
   "execution_count": 25,
   "metadata": {},
   "outputs": [],
   "source": [
    "# titles[:5]"
   ]
  },
  {
   "cell_type": "code",
   "execution_count": 26,
   "metadata": {},
   "outputs": [],
   "source": [
    "STOPWORDS = set(STOPWORDS).union(set(['said', 'mr', 'mrs']))\n",
    "\n",
    "def tokenize(text):\n",
    "    return [token for token in simple_preprocess(text) if token not in STOPWORDS]"
   ]
  },
  {
   "cell_type": "code",
   "execution_count": 27,
   "metadata": {},
   "outputs": [
    {
     "data": {
      "text/plain": [
       "['hello', 'world', 'test', 'tokenization', 'method']"
      ]
     },
     "execution_count": 27,
     "metadata": {},
     "output_type": "execute_result"
    }
   ],
   "source": [
    "tokenize(\"Hello World! This a test of the tokenization method\")"
   ]
  },
  {
   "cell_type": "code",
   "execution_count": 28,
   "metadata": {},
   "outputs": [
    {
     "data": {
      "text/plain": [
       "813"
      ]
     },
     "execution_count": 28,
     "metadata": {},
     "output_type": "execute_result"
    }
   ],
   "source": [
    "len(tokens)"
   ]
  },
  {
   "cell_type": "markdown",
   "metadata": {},
   "source": [
    "### Author DataFrame\n"
   ]
  },
  {
   "cell_type": "code",
   "execution_count": 29,
   "metadata": {},
   "outputs": [],
   "source": [
    "df = pd.DataFrame(index=titles, data={'tokens':tokens})"
   ]
  },
  {
   "cell_type": "code",
   "execution_count": 30,
   "metadata": {},
   "outputs": [
    {
     "data": {
      "text/html": [
       "<div>\n",
       "<style scoped>\n",
       "    .dataframe tbody tr th:only-of-type {\n",
       "        vertical-align: middle;\n",
       "    }\n",
       "\n",
       "    .dataframe tbody tr th {\n",
       "        vertical-align: top;\n",
       "    }\n",
       "\n",
       "    .dataframe thead th {\n",
       "        text-align: right;\n",
       "    }\n",
       "</style>\n",
       "<table border=\"1\" class=\"dataframe\">\n",
       "  <thead>\n",
       "    <tr style=\"text-align: right;\">\n",
       "      <th></th>\n",
       "      <th>tokens</th>\n",
       "    </tr>\n",
       "  </thead>\n",
       "  <tbody>\n",
       "    <tr>\n",
       "      <th>Austen_Emma0000</th>\n",
       "      <td>[emma, jane, austen, volume, chapter, emma, wo...</td>\n",
       "    </tr>\n",
       "    <tr>\n",
       "      <th>Austen_Emma0001</th>\n",
       "      <td>[taylor, wish, pity, mr, weston, thought, agre...</td>\n",
       "    </tr>\n",
       "    <tr>\n",
       "      <th>Austen_Emma0002</th>\n",
       "      <td>[behaved, charmingly, body, punctual, body, be...</td>\n",
       "    </tr>\n",
       "    <tr>\n",
       "      <th>Austen_Emma0003</th>\n",
       "      <td>[native, highbury, born, respectable, family, ...</td>\n",
       "    </tr>\n",
       "    <tr>\n",
       "      <th>Austen_Emma0004</th>\n",
       "      <td>[mention, handsome, letter, mrs, weston, recei...</td>\n",
       "    </tr>\n",
       "  </tbody>\n",
       "</table>\n",
       "</div>"
      ],
      "text/plain": [
       "                                                            tokens\n",
       "Austen_Emma0000  [emma, jane, austen, volume, chapter, emma, wo...\n",
       "Austen_Emma0001  [taylor, wish, pity, mr, weston, thought, agre...\n",
       "Austen_Emma0002  [behaved, charmingly, body, punctual, body, be...\n",
       "Austen_Emma0003  [native, highbury, born, respectable, family, ...\n",
       "Austen_Emma0004  [mention, handsome, letter, mrs, weston, recei..."
      ]
     },
     "execution_count": 30,
     "metadata": {},
     "output_type": "execute_result"
    }
   ],
   "source": [
    "df.head()"
   ]
  },
  {
   "cell_type": "code",
   "execution_count": 31,
   "metadata": {},
   "outputs": [],
   "source": [
    "df['author'] = df.reset_index()['index'].apply(lambda x: x.split('_')[0]).tolist()\n",
    "df['book'] = df.reset_index()['index'].apply(lambda x: x.split('_')[1][:-4]).tolist()\n",
    "df['section'] = df.reset_index()['index'].apply(lambda x: x[-4:]).tolist()\n",
    "df['section'] = df['section'].astype('int')"
   ]
  },
  {
   "cell_type": "code",
   "execution_count": 32,
   "metadata": {},
   "outputs": [],
   "source": [
    "df['author'] = df['author'].map({'Austen':1, 'CBronte':0})"
   ]
  },
  {
   "cell_type": "code",
   "execution_count": 33,
   "metadata": {},
   "outputs": [
    {
     "data": {
      "text/plain": [
       "0    441\n",
       "1    372\n",
       "Name: author, dtype: int64"
      ]
     },
     "execution_count": 33,
     "metadata": {},
     "output_type": "execute_result"
    }
   ],
   "source": [
    "df.author.value_counts()"
   ]
  },
  {
   "cell_type": "markdown",
   "metadata": {},
   "source": [
    "### Streaming Documents\n",
    "Here we use a new pythonic thingy: the `yield` statement in our fucntion. This allows us to iterate over a bunch of documents without actually reading them into memory. You can see how we use this fucntion later on. "
   ]
  },
  {
   "cell_type": "code",
   "execution_count": 34,
   "metadata": {},
   "outputs": [],
   "source": [
    "def doc_stream(path):\n",
    "    for f in os.listdir(path):\n",
    "        if os.path.isdir(f) == False:\n",
    "            if f[-3:] == 'txt':\n",
    "                with open(os.path.join(path,f)) as t:\n",
    "                    text = t.read().strip('\\n')\n",
    "                    tokens = tokenize(str(text))\n",
    "                yield tokens"
   ]
  },
  {
   "cell_type": "code",
   "execution_count": 35,
   "metadata": {},
   "outputs": [],
   "source": [
    "streaming_data = doc_stream(path)"
   ]
  },
  {
   "cell_type": "code",
   "execution_count": 36,
   "metadata": {},
   "outputs": [
    {
     "data": {
      "text/plain": [
       "<generator object doc_stream at 0x0000028E4E2C9138>"
      ]
     },
     "execution_count": 36,
     "metadata": {},
     "output_type": "execute_result"
    }
   ],
   "source": [
    "streaming_data"
   ]
  },
  {
   "cell_type": "code",
   "execution_count": null,
   "metadata": {},
   "outputs": [],
   "source": [
    "# gather_data => returns a list\n",
    "# doc_stream => returns a generator"
   ]
  },
  {
   "cell_type": "code",
   "execution_count": 39,
   "metadata": {},
   "outputs": [],
   "source": [
    "# next(streaming_data)    #returns one document at a time from the generator"
   ]
  },
  {
   "cell_type": "markdown",
   "metadata": {},
   "source": [
    "### Gensim LDA Topic Modeling"
   ]
  },
  {
   "cell_type": "code",
   "execution_count": 56,
   "metadata": {},
   "outputs": [],
   "source": [
    "# A Dictionary Representation of all the words in our corpus\n",
    "id2word = corpora.Dictionary(doc_stream(path))"
   ]
  },
  {
   "cell_type": "code",
   "execution_count": 42,
   "metadata": {},
   "outputs": [
    {
     "data": {
      "text/plain": [
       "387"
      ]
     },
     "execution_count": 42,
     "metadata": {},
     "output_type": "execute_result"
    }
   ],
   "source": [
    "id2word.token2id['girl']"
   ]
  },
  {
   "cell_type": "code",
   "execution_count": 46,
   "metadata": {},
   "outputs": [
    {
     "data": {
      "text/plain": [
       "'england'"
      ]
     },
     "execution_count": 46,
     "metadata": {},
     "output_type": "execute_result"
    }
   ],
   "source": [
    "id2word[3986]"
   ]
  },
  {
   "cell_type": "code",
   "execution_count": 45,
   "metadata": {},
   "outputs": [
    {
     "data": {
      "text/plain": [
       "[(2753, 1), (3986, 3), (6601, 1), (6818, 1)]"
      ]
     },
     "execution_count": 45,
     "metadata": {},
     "output_type": "execute_result"
    }
   ],
   "source": [
    "id2word.doc2bow(tokenize(\"This is a sample message Darcy England England England\"))"
   ]
  },
  {
   "cell_type": "code",
   "execution_count": 47,
   "metadata": {},
   "outputs": [
    {
     "data": {
      "text/plain": [
       "56"
      ]
     },
     "execution_count": 47,
     "metadata": {},
     "output_type": "execute_result"
    }
   ],
   "source": [
    "import sys\n",
    "sys.getsizeof(id2word)"
   ]
  },
  {
   "cell_type": "code",
   "execution_count": 48,
   "metadata": {},
   "outputs": [
    {
     "data": {
      "text/plain": [
       "22095"
      ]
     },
     "execution_count": 48,
     "metadata": {},
     "output_type": "execute_result"
    }
   ],
   "source": [
    "len(id2word.keys())"
   ]
  },
  {
   "cell_type": "code",
   "execution_count": 57,
   "metadata": {},
   "outputs": [],
   "source": [
    "# Let's remove extreme values from the dataset\n",
    "id2word.filter_extremes(no_below=5, no_above=0.95)"
   ]
  },
  {
   "cell_type": "code",
   "execution_count": 58,
   "metadata": {},
   "outputs": [
    {
     "data": {
      "text/plain": [
       "8102"
      ]
     },
     "execution_count": 58,
     "metadata": {},
     "output_type": "execute_result"
    }
   ],
   "source": [
    "len(id2word.keys())"
   ]
  },
  {
   "cell_type": "code",
   "execution_count": 59,
   "metadata": {},
   "outputs": [],
   "source": [
    "# a bag of words(bow) representation of our corpus\n",
    "# Note: we haven't actually read any text into memory here\n",
    "corpus = [id2word.doc2bow(text) for text in doc_stream(path)]"
   ]
  },
  {
   "cell_type": "code",
   "execution_count": 60,
   "metadata": {},
   "outputs": [
    {
     "data": {
      "text/plain": [
       "[(0, 1),\n",
       " (1, 1),\n",
       " (2, 1),\n",
       " (3, 1),\n",
       " (4, 1),\n",
       " (5, 1),\n",
       " (6, 4),\n",
       " (7, 1),\n",
       " (8, 1),\n",
       " (9, 1)]"
      ]
     },
     "execution_count": 60,
     "metadata": {},
     "output_type": "execute_result"
    }
   ],
   "source": [
    "corpus[0][:10]"
   ]
  },
  {
   "cell_type": "code",
   "execution_count": 62,
   "metadata": {},
   "outputs": [],
   "source": [
    "lda = LdaMulticore(corpus=corpus,\n",
    "                   id2word=id2word,\n",
    "                   random_state=723812,\n",
    "                   num_topics = 15,\n",
    "                   passes=10,\n",
    "                   workers=4\n",
    "                  )"
   ]
  },
  {
   "cell_type": "code",
   "execution_count": 63,
   "metadata": {},
   "outputs": [
    {
     "data": {
      "text/plain": [
       "[(0,\n",
       "  '0.016*\"harriet\" + 0.015*\"emma\" + 0.009*\"weston\" + 0.008*\"elton\" + 0.008*\"good\" + 0.008*\"think\" + 0.008*\"man\" + 0.007*\"miss\" + 0.007*\"knightley\" + 0.006*\"know\"'),\n",
       " (1,\n",
       "  '0.006*\"like\" + 0.006*\"sir\" + 0.006*\"jane\" + 0.006*\"thought\" + 0.005*\"little\" + 0.005*\"good\" + 0.005*\"love\" + 0.004*\"old\" + 0.004*\"poor\" + 0.004*\"man\"'),\n",
       " (2,\n",
       "  '0.011*\"elinor\" + 0.009*\"marianne\" + 0.008*\"elizabeth\" + 0.007*\"sister\" + 0.007*\"miss\" + 0.005*\"time\" + 0.005*\"darcy\" + 0.005*\"mother\" + 0.005*\"soon\" + 0.005*\"lady\"'),\n",
       " (3,\n",
       "  '0.005*\"hand\" + 0.005*\"eyes\" + 0.005*\"john\" + 0.004*\"like\" + 0.004*\"saw\" + 0.004*\"asked\" + 0.004*\"little\" + 0.003*\"time\" + 0.003*\"know\" + 0.003*\"sir\"'),\n",
       " (4,\n",
       "  '0.014*\"miss\" + 0.011*\"jane\" + 0.008*\"emma\" + 0.008*\"know\" + 0.007*\"thing\" + 0.007*\"think\" + 0.006*\"good\" + 0.006*\"little\" + 0.006*\"shall\" + 0.006*\"dear\"'),\n",
       " (5,\n",
       "  '0.007*\"jane\" + 0.006*\"elizabeth\" + 0.006*\"darcy\" + 0.006*\"know\" + 0.005*\"wickham\" + 0.005*\"think\" + 0.004*\"miss\" + 0.004*\"good\" + 0.004*\"love\" + 0.004*\"letter\"'),\n",
       " (6,\n",
       "  '0.007*\"hunsden\" + 0.005*\"miss\" + 0.005*\"helen\" + 0.005*\"temple\" + 0.004*\"bread\" + 0.004*\"tea\" + 0.004*\"come\" + 0.004*\"tyrant\" + 0.004*\"having\" + 0.004*\"little\"'),\n",
       " (7,\n",
       "  '0.010*\"little\" + 0.005*\"madame\" + 0.005*\"like\" + 0.005*\"monsieur\" + 0.004*\"vous\" + 0.004*\"paul\" + 0.004*\"est\" + 0.004*\"bessie\" + 0.003*\"room\" + 0.003*\"think\"'),\n",
       " (8,\n",
       "  '0.005*\"burns\" + 0.005*\"thought\" + 0.005*\"like\" + 0.005*\"scatcherd\" + 0.004*\"miss\" + 0.004*\"day\" + 0.004*\"face\" + 0.004*\"girl\" + 0.003*\"little\" + 0.003*\"dr\"'),\n",
       " (9,\n",
       "  '0.009*\"man\" + 0.007*\"bennet\" + 0.007*\"young\" + 0.007*\"elizabeth\" + 0.006*\"collins\" + 0.006*\"time\" + 0.006*\"father\" + 0.005*\"darcy\" + 0.004*\"thought\" + 0.004*\"longbourn\"'),\n",
       " (10,\n",
       "  '0.006*\"like\" + 0.005*\"little\" + 0.004*\"thought\" + 0.004*\"long\" + 0.004*\"good\" + 0.004*\"know\" + 0.004*\"time\" + 0.004*\"day\" + 0.003*\"night\" + 0.003*\"hand\"'),\n",
       " (11,\n",
       "  '0.021*\"emma\" + 0.010*\"miss\" + 0.009*\"knightley\" + 0.009*\"harriet\" + 0.007*\"thing\" + 0.007*\"little\" + 0.007*\"fairfax\" + 0.006*\"woodhouse\" + 0.006*\"think\" + 0.006*\"elton\"'),\n",
       " (12,\n",
       "  '0.008*\"bretton\" + 0.007*\"know\" + 0.007*\"dr\" + 0.006*\"little\" + 0.005*\"lucy\" + 0.005*\"thought\" + 0.005*\"miss\" + 0.005*\"ginevra\" + 0.005*\"good\" + 0.005*\"graham\"'),\n",
       " (13,\n",
       "  '0.007*\"thousand\" + 0.006*\"mason\" + 0.005*\"like\" + 0.005*\"know\" + 0.004*\"sisters\" + 0.004*\"diana\" + 0.004*\"justice\" + 0.004*\"shall\" + 0.004*\"thought\" + 0.004*\"pounds\"'),\n",
       " (14,\n",
       "  '0.016*\"lydia\" + 0.010*\"mother\" + 0.010*\"wickham\" + 0.010*\"father\" + 0.007*\"uncle\" + 0.007*\"pounds\" + 0.006*\"dashwood\" + 0.006*\"thousand\" + 0.005*\"sure\" + 0.005*\"elizabeth\"')]"
      ]
     },
     "execution_count": 63,
     "metadata": {},
     "output_type": "execute_result"
    }
   ],
   "source": [
    "lda.print_topics()"
   ]
  },
  {
   "cell_type": "code",
   "execution_count": null,
   "metadata": {},
   "outputs": [],
   "source": []
  },
  {
   "cell_type": "code",
   "execution_count": 70,
   "metadata": {},
   "outputs": [],
   "source": [
    "words = [re.findall(r'\"([^\"]*)\"',t[1]) for t in lda.print_topics()]"
   ]
  },
  {
   "cell_type": "code",
   "execution_count": 71,
   "metadata": {},
   "outputs": [],
   "source": [
    "topics = [' '.join(t[0:5]) for t in words]"
   ]
  },
  {
   "cell_type": "code",
   "execution_count": 78,
   "metadata": {},
   "outputs": [
    {
     "name": "stdout",
     "output_type": "stream",
     "text": [
      "------ Topic 0 ------\n",
      "harriet emma weston elton good\n",
      "\n",
      "------ Topic 1 ------\n",
      "like sir jane thought little\n",
      "\n",
      "------ Topic 2 ------\n",
      "elinor marianne elizabeth sister miss\n",
      "\n",
      "------ Topic 3 ------\n",
      "hand eyes john like saw\n",
      "\n",
      "------ Topic 4 ------\n",
      "miss jane emma know thing\n",
      "\n",
      "------ Topic 5 ------\n",
      "jane elizabeth darcy know wickham\n",
      "\n",
      "------ Topic 6 ------\n",
      "hunsden miss helen temple bread\n",
      "\n",
      "------ Topic 7 ------\n",
      "little madame like monsieur vous\n",
      "\n",
      "------ Topic 8 ------\n",
      "burns thought like scatcherd miss\n",
      "\n",
      "------ Topic 9 ------\n",
      "man bennet young elizabeth collins\n",
      "\n",
      "------ Topic 10 ------\n",
      "like little thought long good\n",
      "\n",
      "------ Topic 11 ------\n",
      "emma miss knightley harriet thing\n",
      "\n",
      "------ Topic 12 ------\n",
      "bretton know dr little lucy\n",
      "\n",
      "------ Topic 13 ------\n",
      "thousand mason like know sisters\n",
      "\n",
      "------ Topic 14 ------\n",
      "lydia mother wickham father uncle\n",
      "\n"
     ]
    }
   ],
   "source": [
    "for id, t in enumerate(topics):\n",
    "    print(f\"------ Topic {id} ------\")\n",
    "    print(t, end=\"\\n\\n\")"
   ]
  },
  {
   "cell_type": "markdown",
   "metadata": {},
   "source": [
    "## Challenge \n",
    "\n",
    "You will apply an LDA model to a customer review dataset to practice the fitting and estimation of LDA. "
   ]
  },
  {
   "cell_type": "markdown",
   "metadata": {},
   "source": [
    "# Interpret LDA Results (Learn)\n",
    "<a id=\"#p3\"></a>"
   ]
  },
  {
   "cell_type": "markdown",
   "metadata": {},
   "source": [
    "## Overview"
   ]
  },
  {
   "cell_type": "markdown",
   "metadata": {
    "toc-hr-collapsed": true
   },
   "source": [
    "## Follow Along"
   ]
  },
  {
   "cell_type": "markdown",
   "metadata": {},
   "source": [
    "### Topic Distance Visualization"
   ]
  },
  {
   "cell_type": "code",
   "execution_count": 80,
   "metadata": {},
   "outputs": [],
   "source": [
    "import pyLDAvis.gensim\n",
    "\n",
    "pyLDAvis.enable_notebook()"
   ]
  },
  {
   "cell_type": "code",
   "execution_count": 81,
   "metadata": {},
   "outputs": [
    {
     "name": "stderr",
     "output_type": "stream",
     "text": [
      "C:\\Users\\Lenovo\\Anaconda3\\envs\\U4-S1-NLP\\lib\\site-packages\\pyLDAvis\\_prepare.py:257: FutureWarning: Sorting because non-concatenation axis is not aligned. A future version\n",
      "of pandas will change to not sort by default.\n",
      "\n",
      "To accept the future behavior, pass 'sort=False'.\n",
      "\n",
      "To retain the current behavior and silence the warning, pass 'sort=True'.\n",
      "\n",
      "  return pd.concat([default_term_info] + list(topic_dfs))\n"
     ]
    },
    {
     "data": {
      "text/html": [
       "\n",
       "<link rel=\"stylesheet\" type=\"text/css\" href=\"https://cdn.rawgit.com/bmabey/pyLDAvis/files/ldavis.v1.0.0.css\">\n",
       "\n",
       "\n",
       "<div id=\"ldavis_el371442810250696168521256157\"></div>\n",
       "<script type=\"text/javascript\">\n",
       "\n",
       "var ldavis_el371442810250696168521256157_data = {\"mdsDat\": {\"x\": [0.08610948024783738, -0.09610642087975836, -0.06937885409734247, 0.12373218832976102, -0.11320837001345414, -0.10309668634921482, -0.11438490194623654, -0.10391796021146359, 0.011588161786198621, 0.097039156535957, 0.14288627785027364, -0.07317938616399222, 0.028001302661279252, 0.10265802721118296, 0.08125798503897197], \"y\": [0.00600800181995655, -0.014837632142687924, 0.06426628771129815, 0.057420375108251806, 0.0847830590879862, 0.09114230667440446, -0.0184104708484686, -0.1062503179826051, -0.02920792100009796, 0.021388149938373097, -0.006039737005530775, -0.10452354598636668, 0.05661144626874667, -0.024923971565984603, -0.07742603007727525], \"topics\": [1, 2, 3, 4, 5, 6, 7, 8, 9, 10, 11, 12, 13, 14, 15], \"cluster\": [1, 1, 1, 1, 1, 1, 1, 1, 1, 1, 1, 1, 1, 1, 1], \"Freq\": [41.97669982910156, 19.396467208862305, 11.418590545654297, 8.034675598144531, 4.9118218421936035, 4.027910232543945, 3.994260787963867, 1.4895919561386108, 1.0135165452957153, 0.9994555115699768, 0.7705587148666382, 0.7670862078666687, 0.6460269689559937, 0.29736125469207764, 0.2559816241264343]}, \"tinfo\": {\"Category\": [\"Default\", \"Default\", \"Default\", \"Default\", \"Default\", \"Default\", \"Default\", \"Default\", \"Default\", \"Default\", \"Default\", \"Default\", \"Default\", \"Default\", \"Default\", \"Default\", \"Default\", \"Default\", \"Default\", \"Default\", \"Default\", \"Default\", \"Default\", \"Default\", \"Default\", \"Default\", \"Default\", \"Default\", \"Default\", \"Default\", \"Topic1\", \"Topic1\", \"Topic1\", \"Topic1\", \"Topic1\", \"Topic1\", \"Topic1\", \"Topic1\", \"Topic1\", \"Topic1\", \"Topic1\", \"Topic1\", \"Topic1\", \"Topic1\", \"Topic1\", \"Topic1\", \"Topic1\", \"Topic1\", \"Topic1\", \"Topic1\", \"Topic1\", \"Topic1\", \"Topic1\", \"Topic1\", \"Topic1\", \"Topic1\", \"Topic1\", \"Topic1\", \"Topic1\", \"Topic1\", \"Topic1\", \"Topic1\", \"Topic1\", \"Topic1\", \"Topic1\", \"Topic1\", \"Topic1\", \"Topic1\", \"Topic1\", \"Topic1\", \"Topic1\", \"Topic1\", \"Topic1\", \"Topic1\", \"Topic1\", \"Topic1\", \"Topic1\", \"Topic1\", \"Topic1\", \"Topic1\", \"Topic1\", \"Topic1\", \"Topic1\", \"Topic1\", \"Topic1\", \"Topic1\", \"Topic1\", \"Topic1\", \"Topic1\", \"Topic1\", \"Topic1\", \"Topic1\", \"Topic1\", \"Topic1\", \"Topic1\", \"Topic1\", \"Topic1\", \"Topic1\", \"Topic1\", \"Topic1\", \"Topic1\", \"Topic1\", \"Topic1\", \"Topic1\", \"Topic1\", \"Topic1\", \"Topic1\", \"Topic1\", \"Topic1\", \"Topic1\", \"Topic1\", \"Topic1\", \"Topic1\", \"Topic1\", \"Topic1\", \"Topic1\", \"Topic1\", \"Topic1\", \"Topic1\", \"Topic1\", \"Topic1\", \"Topic1\", \"Topic1\", \"Topic1\", \"Topic1\", \"Topic1\", \"Topic1\", \"Topic1\", \"Topic1\", \"Topic2\", \"Topic2\", \"Topic2\", \"Topic2\", \"Topic2\", \"Topic2\", \"Topic2\", \"Topic2\", \"Topic2\", \"Topic2\", \"Topic2\", \"Topic2\", \"Topic2\", \"Topic2\", \"Topic2\", \"Topic2\", \"Topic2\", \"Topic2\", \"Topic2\", \"Topic2\", \"Topic2\", \"Topic2\", \"Topic2\", \"Topic2\", \"Topic2\", \"Topic2\", \"Topic2\", \"Topic2\", \"Topic2\", \"Topic2\", \"Topic2\", \"Topic2\", \"Topic2\", \"Topic2\", \"Topic2\", \"Topic2\", \"Topic2\", \"Topic2\", \"Topic2\", \"Topic2\", \"Topic2\", \"Topic2\", \"Topic2\", \"Topic2\", \"Topic2\", \"Topic2\", \"Topic2\", \"Topic2\", \"Topic2\", \"Topic2\", \"Topic2\", \"Topic2\", \"Topic2\", \"Topic2\", \"Topic2\", \"Topic2\", \"Topic2\", \"Topic2\", \"Topic2\", \"Topic2\", \"Topic2\", \"Topic2\", \"Topic2\", \"Topic2\", \"Topic2\", \"Topic3\", \"Topic3\", \"Topic3\", \"Topic3\", \"Topic3\", \"Topic3\", \"Topic3\", \"Topic3\", \"Topic3\", \"Topic3\", \"Topic3\", \"Topic3\", \"Topic3\", \"Topic3\", \"Topic3\", \"Topic3\", \"Topic3\", \"Topic3\", \"Topic3\", \"Topic3\", \"Topic3\", \"Topic3\", \"Topic3\", \"Topic3\", \"Topic3\", \"Topic3\", \"Topic3\", \"Topic3\", \"Topic3\", \"Topic3\", \"Topic3\", \"Topic3\", \"Topic3\", \"Topic3\", \"Topic3\", \"Topic3\", \"Topic3\", \"Topic3\", \"Topic3\", \"Topic3\", \"Topic3\", \"Topic3\", \"Topic3\", \"Topic3\", \"Topic3\", \"Topic3\", \"Topic3\", \"Topic3\", \"Topic3\", \"Topic3\", \"Topic3\", \"Topic3\", \"Topic3\", \"Topic3\", \"Topic3\", \"Topic3\", \"Topic3\", \"Topic3\", \"Topic3\", \"Topic3\", \"Topic3\", \"Topic3\", \"Topic3\", \"Topic3\", \"Topic3\", \"Topic3\", \"Topic3\", \"Topic3\", \"Topic3\", \"Topic3\", \"Topic3\", \"Topic3\", \"Topic3\", \"Topic3\", \"Topic3\", \"Topic3\", \"Topic4\", \"Topic4\", \"Topic4\", \"Topic4\", \"Topic4\", \"Topic4\", \"Topic4\", \"Topic4\", \"Topic4\", \"Topic4\", \"Topic4\", \"Topic4\", \"Topic4\", \"Topic4\", \"Topic4\", \"Topic4\", \"Topic4\", \"Topic4\", \"Topic4\", \"Topic4\", \"Topic4\", \"Topic4\", \"Topic4\", \"Topic4\", \"Topic4\", \"Topic4\", \"Topic4\", \"Topic4\", \"Topic4\", \"Topic4\", \"Topic4\", \"Topic4\", \"Topic4\", \"Topic4\", \"Topic4\", \"Topic4\", \"Topic4\", \"Topic4\", \"Topic4\", \"Topic4\", \"Topic4\", \"Topic4\", \"Topic4\", \"Topic4\", \"Topic4\", \"Topic4\", \"Topic4\", \"Topic4\", \"Topic4\", \"Topic4\", \"Topic4\", \"Topic4\", \"Topic4\", \"Topic4\", \"Topic4\", \"Topic4\", \"Topic4\", \"Topic4\", \"Topic4\", \"Topic4\", \"Topic4\", \"Topic4\", \"Topic4\", \"Topic4\", \"Topic4\", \"Topic4\", \"Topic4\", \"Topic4\", \"Topic4\", \"Topic4\", \"Topic4\", \"Topic4\", \"Topic4\", \"Topic4\", \"Topic4\", \"Topic4\", \"Topic4\", \"Topic4\", \"Topic5\", \"Topic5\", \"Topic5\", \"Topic5\", \"Topic5\", \"Topic5\", \"Topic5\", \"Topic5\", \"Topic5\", \"Topic5\", \"Topic5\", \"Topic5\", \"Topic5\", \"Topic5\", \"Topic5\", \"Topic5\", \"Topic5\", \"Topic5\", \"Topic5\", \"Topic5\", \"Topic5\", \"Topic5\", \"Topic5\", \"Topic5\", \"Topic5\", \"Topic5\", \"Topic5\", \"Topic5\", \"Topic5\", \"Topic5\", \"Topic5\", \"Topic5\", \"Topic5\", \"Topic5\", \"Topic5\", \"Topic5\", \"Topic5\", \"Topic5\", \"Topic5\", \"Topic5\", \"Topic5\", \"Topic5\", \"Topic5\", \"Topic5\", \"Topic5\", \"Topic5\", \"Topic5\", \"Topic5\", \"Topic5\", \"Topic5\", \"Topic5\", \"Topic5\", \"Topic5\", \"Topic5\", \"Topic5\", \"Topic5\", \"Topic5\", \"Topic5\", \"Topic5\", \"Topic5\", \"Topic5\", \"Topic5\", \"Topic5\", \"Topic5\", \"Topic5\", \"Topic5\", \"Topic5\", \"Topic6\", \"Topic6\", \"Topic6\", \"Topic6\", \"Topic6\", \"Topic6\", \"Topic6\", \"Topic6\", \"Topic6\", \"Topic6\", \"Topic6\", \"Topic6\", \"Topic6\", \"Topic6\", \"Topic6\", \"Topic6\", \"Topic6\", \"Topic6\", \"Topic6\", \"Topic6\", \"Topic6\", \"Topic6\", \"Topic6\", \"Topic6\", \"Topic6\", \"Topic6\", \"Topic6\", \"Topic6\", \"Topic6\", \"Topic6\", \"Topic6\", \"Topic6\", \"Topic6\", \"Topic6\", \"Topic6\", \"Topic6\", \"Topic6\", \"Topic6\", \"Topic6\", \"Topic6\", \"Topic6\", \"Topic6\", \"Topic6\", \"Topic6\", \"Topic6\", \"Topic6\", \"Topic6\", \"Topic6\", \"Topic6\", \"Topic6\", \"Topic6\", \"Topic6\", \"Topic6\", \"Topic6\", \"Topic6\", \"Topic6\", \"Topic6\", \"Topic6\", \"Topic6\", \"Topic6\", \"Topic6\", \"Topic6\", \"Topic6\", \"Topic6\", \"Topic6\", \"Topic6\", \"Topic6\", \"Topic6\", \"Topic6\", \"Topic7\", \"Topic7\", \"Topic7\", \"Topic7\", \"Topic7\", \"Topic7\", \"Topic7\", \"Topic7\", \"Topic7\", \"Topic7\", \"Topic7\", \"Topic7\", \"Topic7\", \"Topic7\", \"Topic7\", \"Topic7\", \"Topic7\", \"Topic7\", \"Topic7\", \"Topic7\", \"Topic7\", \"Topic7\", \"Topic7\", \"Topic7\", \"Topic7\", \"Topic7\", \"Topic7\", \"Topic7\", \"Topic7\", \"Topic7\", \"Topic7\", \"Topic7\", \"Topic7\", \"Topic7\", \"Topic7\", \"Topic7\", \"Topic7\", \"Topic7\", \"Topic7\", \"Topic7\", \"Topic7\", \"Topic7\", \"Topic7\", \"Topic7\", \"Topic7\", \"Topic7\", \"Topic7\", \"Topic7\", \"Topic7\", \"Topic7\", \"Topic7\", \"Topic7\", \"Topic7\", \"Topic7\", \"Topic7\", \"Topic7\", \"Topic7\", \"Topic7\", \"Topic7\", \"Topic7\", \"Topic7\", \"Topic7\", \"Topic7\", \"Topic7\", \"Topic7\", \"Topic7\", \"Topic7\", \"Topic7\", \"Topic7\", \"Topic7\", \"Topic7\", \"Topic7\", \"Topic7\", \"Topic7\", \"Topic7\", \"Topic7\", \"Topic7\", \"Topic7\", \"Topic7\", \"Topic8\", \"Topic8\", \"Topic8\", \"Topic8\", \"Topic8\", \"Topic8\", \"Topic8\", \"Topic8\", \"Topic8\", \"Topic8\", \"Topic8\", \"Topic8\", \"Topic8\", \"Topic8\", \"Topic8\", \"Topic8\", \"Topic8\", \"Topic8\", \"Topic8\", \"Topic8\", \"Topic8\", \"Topic8\", \"Topic8\", \"Topic8\", \"Topic8\", \"Topic8\", \"Topic8\", \"Topic8\", \"Topic8\", \"Topic8\", \"Topic8\", \"Topic8\", \"Topic8\", \"Topic8\", \"Topic8\", \"Topic8\", \"Topic8\", \"Topic8\", \"Topic8\", \"Topic8\", \"Topic8\", \"Topic8\", \"Topic8\", \"Topic8\", \"Topic8\", \"Topic8\", \"Topic8\", \"Topic8\", \"Topic8\", \"Topic8\", \"Topic8\", \"Topic8\", \"Topic8\", \"Topic8\", \"Topic8\", \"Topic8\", \"Topic8\", \"Topic8\", \"Topic8\", \"Topic8\", \"Topic8\", \"Topic8\", \"Topic8\", \"Topic8\", \"Topic8\", \"Topic8\", \"Topic8\", \"Topic9\", \"Topic9\", \"Topic9\", \"Topic9\", \"Topic9\", \"Topic9\", \"Topic9\", \"Topic9\", \"Topic9\", \"Topic9\", \"Topic9\", \"Topic9\", \"Topic9\", \"Topic9\", \"Topic9\", \"Topic9\", \"Topic9\", \"Topic9\", \"Topic9\", \"Topic9\", \"Topic9\", \"Topic9\", \"Topic9\", \"Topic9\", \"Topic9\", \"Topic9\", \"Topic9\", \"Topic9\", \"Topic9\", \"Topic9\", \"Topic9\", \"Topic9\", \"Topic9\", \"Topic9\", \"Topic9\", \"Topic9\", \"Topic9\", \"Topic9\", \"Topic9\", \"Topic9\", \"Topic9\", \"Topic9\", \"Topic9\", \"Topic9\", \"Topic9\", \"Topic9\", \"Topic9\", \"Topic9\", \"Topic9\", \"Topic9\", \"Topic9\", \"Topic9\", \"Topic9\", \"Topic9\", \"Topic9\", \"Topic9\", \"Topic9\", \"Topic9\", \"Topic9\", \"Topic9\", \"Topic9\", \"Topic9\", \"Topic9\", \"Topic9\", \"Topic9\", \"Topic9\", \"Topic9\", \"Topic9\", \"Topic9\", \"Topic9\", \"Topic9\", \"Topic9\", \"Topic9\", \"Topic9\", \"Topic9\", \"Topic9\", \"Topic10\", \"Topic10\", \"Topic10\", \"Topic10\", \"Topic10\", \"Topic10\", \"Topic10\", \"Topic10\", \"Topic10\", \"Topic10\", \"Topic10\", \"Topic10\", \"Topic10\", \"Topic10\", \"Topic10\", \"Topic10\", \"Topic10\", \"Topic10\", \"Topic10\", \"Topic10\", \"Topic10\", \"Topic10\", \"Topic10\", \"Topic10\", \"Topic10\", \"Topic10\", \"Topic10\", \"Topic10\", \"Topic10\", \"Topic10\", \"Topic10\", \"Topic10\", \"Topic10\", \"Topic10\", \"Topic10\", \"Topic10\", \"Topic10\", \"Topic10\", \"Topic10\", \"Topic10\", \"Topic10\", \"Topic10\", \"Topic10\", \"Topic10\", \"Topic10\", \"Topic10\", \"Topic10\", \"Topic10\", \"Topic10\", \"Topic10\", \"Topic10\", \"Topic10\", \"Topic10\", \"Topic10\", \"Topic10\", \"Topic10\", \"Topic10\", \"Topic10\", \"Topic10\", \"Topic10\", \"Topic10\", \"Topic10\", \"Topic10\", \"Topic10\", \"Topic10\", \"Topic10\", \"Topic10\", \"Topic11\", \"Topic11\", \"Topic11\", \"Topic11\", \"Topic11\", \"Topic11\", \"Topic11\", \"Topic11\", \"Topic11\", \"Topic11\", \"Topic11\", \"Topic11\", \"Topic11\", \"Topic11\", \"Topic11\", \"Topic11\", \"Topic11\", \"Topic11\", \"Topic11\", \"Topic11\", \"Topic11\", \"Topic11\", \"Topic11\", \"Topic11\", \"Topic11\", \"Topic11\", \"Topic11\", \"Topic11\", \"Topic11\", \"Topic11\", \"Topic11\", \"Topic11\", \"Topic11\", \"Topic11\", \"Topic11\", \"Topic11\", \"Topic11\", \"Topic11\", \"Topic11\", \"Topic11\", \"Topic11\", \"Topic11\", \"Topic11\", \"Topic11\", \"Topic11\", \"Topic11\", \"Topic11\", \"Topic11\", \"Topic11\", \"Topic11\", \"Topic11\", \"Topic11\", \"Topic11\", \"Topic11\", \"Topic11\", \"Topic11\", \"Topic11\", \"Topic11\", \"Topic11\", \"Topic11\", \"Topic11\", \"Topic11\", \"Topic11\", \"Topic11\", \"Topic11\", \"Topic11\", \"Topic11\", \"Topic11\", \"Topic11\", \"Topic12\", \"Topic12\", \"Topic12\", \"Topic12\", \"Topic12\", \"Topic12\", \"Topic12\", \"Topic12\", \"Topic12\", \"Topic12\", \"Topic12\", \"Topic12\", \"Topic12\", \"Topic12\", \"Topic12\", \"Topic12\", \"Topic12\", \"Topic12\", \"Topic12\", \"Topic12\", \"Topic12\", \"Topic12\", \"Topic12\", \"Topic12\", \"Topic12\", \"Topic12\", \"Topic12\", \"Topic12\", \"Topic12\", \"Topic12\", \"Topic12\", \"Topic12\", \"Topic12\", \"Topic12\", \"Topic12\", \"Topic12\", \"Topic12\", \"Topic12\", \"Topic12\", \"Topic12\", \"Topic12\", \"Topic12\", \"Topic12\", \"Topic12\", \"Topic12\", \"Topic12\", \"Topic12\", \"Topic12\", \"Topic12\", \"Topic12\", \"Topic12\", \"Topic12\", \"Topic12\", \"Topic12\", \"Topic12\", \"Topic12\", \"Topic12\", \"Topic12\", \"Topic12\", \"Topic12\", \"Topic12\", \"Topic12\", \"Topic12\", \"Topic12\", \"Topic12\", \"Topic12\", \"Topic12\", \"Topic12\", \"Topic12\", \"Topic12\", \"Topic12\", \"Topic12\", \"Topic12\", \"Topic12\", \"Topic12\", \"Topic12\", \"Topic12\", \"Topic13\", \"Topic13\", \"Topic13\", \"Topic13\", \"Topic13\", \"Topic13\", \"Topic13\", \"Topic13\", \"Topic13\", \"Topic13\", \"Topic13\", \"Topic13\", \"Topic13\", \"Topic13\", \"Topic13\", \"Topic13\", \"Topic13\", \"Topic13\", \"Topic13\", \"Topic13\", \"Topic13\", \"Topic13\", \"Topic13\", \"Topic13\", \"Topic13\", \"Topic13\", \"Topic13\", \"Topic13\", \"Topic13\", \"Topic13\", \"Topic13\", \"Topic13\", \"Topic13\", \"Topic13\", \"Topic13\", \"Topic13\", \"Topic13\", \"Topic13\", \"Topic13\", \"Topic13\", \"Topic13\", \"Topic13\", \"Topic13\", \"Topic13\", \"Topic13\", \"Topic13\", \"Topic13\", \"Topic13\", \"Topic13\", \"Topic13\", \"Topic13\", \"Topic13\", \"Topic13\", \"Topic13\", \"Topic13\", \"Topic13\", \"Topic13\", \"Topic13\", \"Topic13\", \"Topic13\", \"Topic13\", \"Topic13\", \"Topic13\", \"Topic13\", \"Topic13\", \"Topic13\", \"Topic13\", \"Topic13\", \"Topic13\", \"Topic14\", \"Topic14\", \"Topic14\", \"Topic14\", \"Topic14\", \"Topic14\", \"Topic14\", \"Topic14\", \"Topic14\", \"Topic14\", \"Topic14\", \"Topic14\", \"Topic14\", \"Topic14\", \"Topic14\", \"Topic14\", \"Topic14\", \"Topic14\", \"Topic14\", \"Topic14\", \"Topic14\", \"Topic14\", \"Topic14\", \"Topic14\", \"Topic14\", \"Topic14\", \"Topic14\", \"Topic14\", \"Topic14\", \"Topic14\", \"Topic14\", \"Topic14\", \"Topic14\", \"Topic14\", \"Topic14\", \"Topic14\", \"Topic14\", \"Topic14\", \"Topic14\", \"Topic14\", \"Topic14\", \"Topic14\", \"Topic14\", \"Topic14\", \"Topic14\", \"Topic14\", \"Topic14\", \"Topic14\", \"Topic14\", \"Topic14\", \"Topic14\", \"Topic14\", \"Topic14\", \"Topic14\", \"Topic14\", \"Topic14\", \"Topic14\", \"Topic14\", \"Topic14\", \"Topic14\", \"Topic14\", \"Topic14\", \"Topic14\", \"Topic14\", \"Topic14\", \"Topic14\", \"Topic14\", \"Topic14\", \"Topic14\", \"Topic14\", \"Topic14\", \"Topic15\", \"Topic15\", \"Topic15\", \"Topic15\", \"Topic15\", \"Topic15\", \"Topic15\", \"Topic15\", \"Topic15\", \"Topic15\", \"Topic15\", \"Topic15\", \"Topic15\", \"Topic15\", \"Topic15\", \"Topic15\", \"Topic15\", \"Topic15\", \"Topic15\", \"Topic15\", \"Topic15\", \"Topic15\", \"Topic15\", \"Topic15\", \"Topic15\", \"Topic15\", \"Topic15\", \"Topic15\", \"Topic15\", \"Topic15\", \"Topic15\", \"Topic15\", \"Topic15\", \"Topic15\", \"Topic15\", \"Topic15\", \"Topic15\", \"Topic15\", \"Topic15\", \"Topic15\", \"Topic15\", \"Topic15\", \"Topic15\", \"Topic15\", \"Topic15\", \"Topic15\", \"Topic15\", \"Topic15\", \"Topic15\", \"Topic15\", \"Topic15\", \"Topic15\", \"Topic15\", \"Topic15\", \"Topic15\", \"Topic15\", \"Topic15\", \"Topic15\", \"Topic15\", \"Topic15\", \"Topic15\", \"Topic15\", \"Topic15\", \"Topic15\", \"Topic15\", \"Topic15\", \"Topic15\", \"Topic15\", \"Topic15\", \"Topic15\"], \"Freq\": [1327.0, 1716.0, 1508.0, 1421.0, 819.0, 1130.0, 1344.0, 648.0, 1311.0, 907.0, 1298.0, 896.0, 700.0, 918.0, 668.0, 499.0, 640.0, 622.0, 922.0, 618.0, 829.0, 1062.0, 779.0, 591.0, 655.0, 758.0, 415.0, 495.0, 654.0, 321.0, 54.53599166870117, 29.842571258544922, 36.509647369384766, 21.046552658081055, 20.973783493041992, 22.896610260009766, 29.237409591674805, 20.947298049926758, 16.149492263793945, 18.022903442382812, 21.8388729095459, 26.593364715576172, 25.620603561401367, 37.8722038269043, 15.10239315032959, 16.945171356201172, 111.97392272949219, 15.051002502441406, 20.644134521484375, 15.043294906616211, 14.087700843811035, 14.084290504455566, 14.08864974975586, 15.9534330368042, 14.073843955993652, 15.009282112121582, 13.120205879211426, 14.054717063903809, 15.949756622314453, 25.039196014404297, 28.8968505859375, 21.585723876953125, 17.786367416381836, 40.31825637817383, 22.252330780029297, 87.81661224365234, 69.84837341308594, 66.15189361572266, 125.28345489501953, 297.1673889160156, 86.29019927978516, 37.934326171875, 33.66556167602539, 189.89019775390625, 65.54510498046875, 77.76666259765625, 45.74703598022461, 135.125, 52.00226974487305, 55.8555908203125, 112.58743286132812, 157.9796600341797, 124.19287109375, 183.99560546875, 451.5638427734375, 181.59507751464844, 139.7901153564453, 146.2326202392578, 95.31788635253906, 93.10016632080078, 182.5989990234375, 349.5068664550781, 177.11483764648438, 224.13925170898438, 109.62918090820312, 187.88116455078125, 768.4750366210938, 397.1264953613281, 273.8092346191406, 138.8924102783203, 353.5328674316406, 218.6937713623047, 371.2159423828125, 396.5843505859375, 321.6058044433594, 485.4172058105469, 545.51611328125, 251.983154296875, 705.6240844726562, 392.11090087890625, 275.64593505859375, 340.21722412109375, 467.64837646484375, 358.1512756347656, 316.69818115234375, 369.26202392578125, 470.890380859375, 475.4354553222656, 473.4074401855469, 361.09698486328125, 267.1221923828125, 264.5805358886719, 298.8504333496094, 268.9556884765625, 322.9659423828125, 289.86260986328125, 336.0146789550781, 307.64605712890625, 282.30975341796875, 228.854248046875, 559.9851684570312, 211.9864959716797, 35.738182067871094, 662.900634765625, 37.59838104248047, 17.219730377197266, 26.867368698120117, 98.9808120727539, 139.20823669433594, 108.9657974243164, 35.12141036987305, 35.26936340332031, 18.94803810119629, 16.01280403137207, 29.236919403076172, 10.282456398010254, 11.03666877746582, 65.69210815429688, 82.91063690185547, 23.603857040405273, 117.84325408935547, 45.489463806152344, 276.26849365234375, 7.116525650024414, 7.084901332855225, 6.183099269866943, 10.680734634399414, 7.054125785827637, 6.142855644226074, 49.33263397216797, 154.6073455810547, 65.02482604980469, 27.2575740814209, 111.7864761352539, 34.62199020385742, 211.4973907470703, 259.1278991699219, 503.59033203125, 255.04840087890625, 449.2193908691406, 313.3112487792969, 64.93728637695312, 198.0751495361328, 300.2403259277344, 311.0609436035156, 94.26097869873047, 177.4417266845703, 176.64395141601562, 127.61408233642578, 303.6673583984375, 411.9356689453125, 331.5265197753906, 151.7277069091797, 281.2283020019531, 286.9252014160156, 214.31561279296875, 205.4922637939453, 248.7860107421875, 220.9958038330078, 241.95286560058594, 197.18080139160156, 172.29006958007812, 180.54991149902344, 172.46405029296875, 14.73265266418457, 11.19992446899414, 11.965842247009277, 7.516297340393066, 6.541839122772217, 6.485576629638672, 4.679762840270996, 5.4591240882873535, 4.371612548828125, 6.537989139556885, 6.577107906341553, 5.592837810516357, 5.591799736022949, 16.755098342895508, 43.159828186035156, 9.516228675842285, 4.704376220703125, 4.681510925292969, 5.385440826416016, 3.7717463970184326, 5.952558994293213, 3.762540102005005, 4.520383834838867, 3.824608087539673, 4.4555487632751465, 7.468188285827637, 3.799239158630371, 4.9582014083862305, 95.844970703125, 4.711535930633545, 27.83247947692871, 16.64940071105957, 20.843128204345703, 25.021034240722656, 60.73198699951172, 29.05527114868164, 176.85279846191406, 380.4441223144531, 15.127930641174316, 175.67591857910156, 156.56443786621094, 103.44449615478516, 300.6679382324219, 495.11639404296875, 51.15765380859375, 268.2784423828125, 38.89270782470703, 194.55133056640625, 200.1029510498047, 88.89619445800781, 110.23282623291016, 130.26502990722656, 182.5863800048828, 176.49267578125, 34.353885650634766, 217.252685546875, 114.11005401611328, 268.1005554199219, 283.477783203125, 178.86134338378906, 127.65428161621094, 111.13888549804688, 182.26254272460938, 171.8601837158203, 85.22039031982422, 179.8843536376953, 222.65489196777344, 136.36337280273438, 217.29942321777344, 132.37115478515625, 178.62718200683594, 140.6361083984375, 121.8570785522461, 130.9958038330078, 128.78123474121094, 119.06134033203125, 11.600296020507812, 22.949819564819336, 10.636529922485352, 13.111675262451172, 11.381364822387695, 8.710760116577148, 10.369854927062988, 8.52993106842041, 20.512815475463867, 5.849175453186035, 5.860085487365723, 33.2721061706543, 6.685329914093018, 5.835608005523682, 62.055686950683594, 6.666385173797607, 7.340324878692627, 6.582064628601074, 5.736101150512695, 4.873741626739502, 99.80797576904297, 22.063812255859375, 4.871975898742676, 5.666832447052002, 16.798625946044922, 4.83577299118042, 20.358238220214844, 8.142006874084473, 42.97422409057617, 52.991817474365234, 92.07905578613281, 16.21231460571289, 14.716727256774902, 48.71920394897461, 25.25806999206543, 11.306401252746582, 24.74800682067871, 91.55131530761719, 29.957477569580078, 27.44565200805664, 59.29251480102539, 70.2466812133789, 18.16935920715332, 26.838361740112305, 62.76136016845703, 32.215919494628906, 92.51237487792969, 127.04969024658203, 62.08969497680664, 138.39532470703125, 45.23098373413086, 57.0274543762207, 51.30620574951172, 83.85266876220703, 240.49444580078125, 51.43365478515625, 137.23748779296875, 57.86941909790039, 57.08598327636719, 75.92803192138672, 35.78293228149414, 87.68451690673828, 53.82548141479492, 74.21992492675781, 61.63140106201172, 72.27489471435547, 84.73037719726562, 85.49822998046875, 83.58810424804688, 68.36168670654297, 75.07562255859375, 76.7928237915039, 74.99970245361328, 70.83490753173828, 62.50597381591797, 62.19478225708008, 60.05941390991211, 59.50425720214844, 9.01920223236084, 6.34930419921875, 4.557523727416992, 6.847878932952881, 65.89723205566406, 6.802064418792725, 10.117039680480957, 6.501322269439697, 6.541016578674316, 19.6202392578125, 8.593924522399902, 14.826367378234863, 18.995147705078125, 3.8349714279174805, 3.4283363819122314, 7.7450995445251465, 6.073783874511719, 10.174046516418457, 4.929035186767578, 29.177824020385742, 3.840066909790039, 3.3527674674987793, 4.208967208862305, 17.587379455566406, 248.94871520996094, 3.7920312881469727, 4.07564115524292, 18.949478149414062, 9.606437683105469, 6.3794379234313965, 8.162245750427246, 22.316877365112305, 129.6284942626953, 138.04258728027344, 7.125388145446777, 97.30498504638672, 223.8672332763672, 103.25407409667969, 78.27711486816406, 48.15660858154297, 32.742374420166016, 49.49439239501953, 72.46550750732422, 115.7597885131836, 47.17258071899414, 93.69660186767578, 40.78791809082031, 127.566162109375, 82.28485107421875, 121.25613403320312, 34.5514030456543, 52.00460433959961, 61.206138610839844, 104.45318603515625, 99.20463562011719, 44.18978500366211, 97.99710845947266, 69.36630249023438, 56.127113342285156, 56.48884582519531, 54.36915969848633, 54.4533805847168, 67.12797546386719, 66.48445892333984, 61.1162223815918, 52.0948486328125, 48.34788513183594, 41.7168083190918, 2.824857711791992, 11.072280883789062, 9.599910736083984, 2.7192559242248535, 2.8859100341796875, 2.822211980819702, 6.5012993812561035, 6.458807468414307, 2.946748733520508, 4.760541915893555, 3.7783052921295166, 3.619964838027954, 2.828317642211914, 20.48476219177246, 2.7827491760253906, 3.1311864852905273, 2.8190228939056396, 3.589336633682251, 4.3065948486328125, 2.624349355697632, 3.8243415355682373, 4.1634745597839355, 5.129334926605225, 18.853145599365234, 58.49647521972656, 2.8887455463409424, 2.552788734436035, 2.867445707321167, 2.0913619995117188, 263.4806213378906, 118.04505920410156, 10.316797256469727, 81.46314239501953, 33.62033462524414, 85.93875885009766, 13.471845626831055, 108.17691040039062, 24.041481018066406, 76.450439453125, 20.936485290527344, 11.109151840209961, 74.09512329101562, 29.26535987854004, 56.58796310424805, 43.617191314697266, 9.222823143005371, 36.24734878540039, 88.40459442138672, 59.43788146972656, 123.56988525390625, 30.379718780517578, 52.68286895751953, 48.48118209838867, 43.364986419677734, 63.890811920166016, 76.67718505859375, 87.43580627441406, 71.68074798583984, 47.27854919433594, 55.0942497253418, 62.55257034301758, 54.413909912109375, 57.986351013183594, 50.549827575683594, 47.753013610839844, 45.57729721069336, 43.46977615356445, 43.070396423339844, 6.493565559387207, 6.473347187042236, 7.6778388023376465, 3.854771852493286, 3.6761889457702637, 4.668123245239258, 3.4468934535980225, 4.374285697937012, 3.819800853729248, 5.95365571975708, 4.756087303161621, 5.854459285736084, 3.6383748054504395, 5.027521133422852, 3.4710476398468018, 4.249523639678955, 2.919205665588379, 5.170976161956787, 2.6996655464172363, 6.04332160949707, 2.751741409301758, 6.154056072235107, 2.6572177410125732, 2.626229763031006, 5.884565353393555, 3.6573262214660645, 4.443271160125732, 2.773264169692993, 2.3207309246063232, 2.86047101020813, 7.925873756408691, 6.506909370422363, 68.85398864746094, 34.589447021484375, 14.253418922424316, 9.077682495117188, 10.320893287658691, 32.86783981323242, 13.753040313720703, 9.827340126037598, 75.24400329589844, 15.848730087280273, 19.781715393066406, 80.57027435302734, 24.58832550048828, 33.5768928527832, 25.65191650390625, 37.000240325927734, 54.05787658691406, 83.00164794921875, 28.86185073852539, 23.30582618713379, 38.87543869018555, 15.470213890075684, 54.631935119628906, 34.74199295043945, 49.90482711791992, 28.02396011352539, 34.7816047668457, 27.443307876586914, 73.73771667480469, 68.3879623413086, 37.356529235839844, 41.233062744140625, 28.32568359375, 34.606788635253906, 48.84895324707031, 35.065067291259766, 54.76095962524414, 55.34008026123047, 50.076168060302734, 36.6325798034668, 41.81654357910156, 47.55390548706055, 42.850685119628906, 33.9864616394043, 34.7613410949707, 35.96310043334961, 33.801246643066406, 19.338369369506836, 21.87598991394043, 2.6758344173431396, 6.338444232940674, 73.64655303955078, 11.07072925567627, 11.497989654541016, 3.496084451675415, 19.058568954467773, 7.061813831329346, 1.7863664627075195, 1.7896720170974731, 2.1935973167419434, 30.779722213745117, 1.817706823348999, 1.7211523056030273, 2.2681918144226074, 1.7307732105255127, 2.7170329093933105, 2.58943247795105, 1.8172980546951294, 2.0995566844940186, 3.3016254901885986, 3.1256155967712402, 1.639442801475525, 2.423773765563965, 1.584482192993164, 3.0285427570343018, 1.5806761980056763, 1.6923437118530273, 46.5848274230957, 17.930248260498047, 33.28654479980469, 27.250272750854492, 18.620723724365234, 10.098587989807129, 14.897245407104492, 29.940828323364258, 13.264632225036621, 44.71870422363281, 16.61899757385254, 8.98203182220459, 48.9089469909668, 7.200042724609375, 8.375761032104492, 22.78101348876953, 12.615626335144043, 7.846755027770996, 7.493494033813477, 15.523317337036133, 22.229326248168945, 25.562055587768555, 17.198335647583008, 25.367828369140625, 18.0296688079834, 21.303115844726562, 23.472938537597656, 21.566444396972656, 19.45652961730957, 17.324556350708008, 23.474672317504883, 21.351850509643555, 18.834579467773438, 16.952489852905273, 18.310876846313477, 18.090126037597656, 18.056026458740234, 3.424318790435791, 2.074127435684204, 2.571066379547119, 1.8357555866241455, 1.9755754470825195, 3.4787042140960693, 1.4147990942001343, 2.117156505584717, 1.8240970373153687, 1.5263820886611938, 1.4241682291030884, 2.078073501586914, 2.0095670223236084, 2.0580592155456543, 1.5518065690994263, 1.9705700874328613, 1.2973722219467163, 1.4082890748977661, 1.404046654701233, 1.9438587427139282, 1.4191854000091553, 4.414981842041016, 2.7324106693267822, 1.156795620918274, 1.2306817770004272, 1.2124539613723755, 1.3203374147415161, 1.34574294090271, 2.114272356033325, 2.7408435344696045, 2.0748069286346436, 2.3432564735412598, 3.589423656463623, 2.1481552124023438, 1.641222596168518, 4.151095867156982, 3.4596107006073, 7.936397552490234, 10.785680770874023, 3.185924768447876, 5.486711502075195, 19.229970932006836, 13.742972373962402, 14.124953269958496, 18.880905151367188, 14.416518211364746, 18.23179054260254, 19.270435333251953, 4.663146018981934, 3.476982355117798, 16.82635498046875, 17.155086517333984, 12.865974426269531, 4.24293327331543, 10.197578430175781, 7.545112133026123, 5.117171287536621, 5.565733432769775, 8.69605827331543, 8.429023742675781, 6.810323238372803, 6.190117359161377, 8.379863739013672, 9.973993301391602, 6.92165470123291, 9.688287734985352, 7.522463798522949, 6.689367771148682, 6.942752838134766, 7.6374125480651855, 7.600356101989746, 8.560870170593262, 7.518502235412598, 7.779337406158447, 7.527340888977051, 6.842817306518555, 14.151928901672363, 14.740315437316895, 3.090505361557007, 3.0675766468048096, 2.0145158767700195, 1.6381886005401611, 1.485926866531372, 2.719985008239746, 2.1275129318237305, 2.3836684226989746, 1.5268994569778442, 1.5241531133651733, 1.4652680158615112, 1.4774821996688843, 1.4551599025726318, 1.4324395656585693, 1.8745588064193726, 1.5229625701904297, 4.375805854797363, 1.34453284740448, 1.5569392442703247, 1.5618605613708496, 1.521365761756897, 1.5243923664093018, 1.537196159362793, 1.1933141946792603, 2.0929019451141357, 2.1588480472564697, 2.157195806503296, 2.248108386993408, 2.2665088176727295, 7.842082977294922, 7.125669002532959, 7.3912811279296875, 6.226114273071289, 10.60280704498291, 3.121594190597534, 2.486781597137451, 4.6217522621154785, 11.117414474487305, 4.934200763702393, 4.095064163208008, 10.486432075500488, 11.348074913024902, 7.18766450881958, 14.454706192016602, 7.314133167266846, 13.24785327911377, 14.152831077575684, 13.987584114074707, 5.633800029754639, 9.117510795593262, 3.9222805500030518, 9.936591148376465, 8.160351753234863, 9.88989543914795, 5.347332000732422, 9.984192848205566, 10.735980033874512, 7.922604084014893, 7.823791027069092, 9.32646369934082, 8.70894718170166, 7.1196699142456055, 6.944121360778809, 6.89149284362793, 6.505807399749756, 7.810568332672119, 1.6029002666473389, 3.576117992401123, 4.061631679534912, 1.6545014381408691, 2.454026460647583, 2.4516079425811768, 1.650856852531433, 1.6531975269317627, 1.650246024131775, 1.6540191173553467, 1.6472336053848267, 1.646968960762024, 1.6513938903808594, 3.2483956813812256, 7.248452186584473, 1.6495192050933838, 1.6472647190093994, 1.6560754776000977, 1.6503866910934448, 1.653016209602356, 0.851881742477417, 1.6519982814788818, 0.8562741279602051, 0.8541610836982727, 0.853648841381073, 1.6563777923583984, 0.8456575274467468, 0.8522607684135437, 0.8526076674461365, 1.6426067352294922, 2.455195665359497, 3.25284481048584, 1.6529732942581177, 5.666460037231445, 5.008969306945801, 1.652260661125183, 4.94403600692749, 7.187689781188965, 13.215629577636719, 12.498151779174805, 11.48822021484375, 8.986162185668945, 6.536551475524902, 5.726916790008545, 5.913413047790527, 9.375683784484863, 8.150519371032715, 10.220712661743164, 4.342370510101318, 4.182360649108887, 7.375035285949707, 6.693472385406494, 3.3884849548339844, 5.841536045074463, 8.422172546386719, 6.7445526123046875, 8.414495468139648, 8.721392631530762, 5.832056045532227, 5.827060699462891, 7.602681636810303, 5.818065643310547, 5.779519081115723, 4.992378234863281, 4.928632736206055, 5.263078212738037, 5.055996417999268, 5.032890319824219, 2.351825475692749, 1.5784388780593872, 1.5769147872924805, 1.5727683305740356, 1.3601346015930176, 3.7637434005737305, 1.7801477909088135, 1.5643420219421387, 1.5214985609054565, 1.3412524461746216, 3.354105234146118, 1.5654548406600952, 1.3712345361709595, 1.360467553138733, 2.2868120670318604, 2.9887261390686035, 1.5742014646530151, 1.5792979001998901, 2.1364362239837646, 2.0821425914764404, 1.2910680770874023, 1.5435898303985596, 2.3362929821014404, 0.812214732170105, 0.8160500526428223, 0.823025643825531, 0.8172791004180908, 0.7835859060287476, 0.8147071599960327, 0.801282525062561, 2.16628360748291, 1.5870280265808105, 1.404343605041504, 2.000781297683716, 1.57575523853302, 1.584119200706482, 3.037708282470703, 1.7675955295562744, 8.520943641662598, 15.350444793701172, 8.204620361328125, 7.186769008636475, 16.9140682220459, 3.5347816944122314, 6.552866458892822, 5.175234317779541, 7.961468696594238, 7.6158246994018555, 5.333970069885254, 20.725284576416016, 16.447086334228516, 14.158498764038086, 16.154403686523438, 11.791990280151367, 6.185452938079834, 7.145007610321045, 5.326166152954102, 5.606167316436768, 7.043983459472656, 14.938202857971191, 3.771920919418335, 8.267960548400879, 5.117498397827148, 7.647329330444336, 8.039978981018066, 5.980343818664551, 10.431751251220703, 7.3667497634887695, 7.480909824371338, 7.879505157470703, 6.480875015258789, 7.705417633056641, 7.562021255493164, 7.034814834594727, 6.532687664031982, 6.841945171356201, 6.597888469696045, 1.4892961978912354, 1.3808588981628418, 1.4844459295272827, 1.305844783782959, 2.390040397644043, 1.2110414505004883, 1.1905088424682617, 1.4362350702285767, 1.4851270914077759, 1.2800796031951904, 2.8744919300079346, 1.3621677160263062, 1.4827991724014282, 1.4884440898895264, 1.4743316173553467, 0.7456669807434082, 1.6132558584213257, 1.4881541728973389, 1.159293293952942, 4.081068515777588, 0.7643225789070129, 1.4777013063430786, 0.7707664370536804, 1.52986478805542, 0.7664002776145935, 0.7691186666488647, 1.323004961013794, 2.214775800704956, 0.7701088190078735, 1.4811347723007202, 2.3766212463378906, 1.6100833415985107, 1.2603240013122559, 10.471822738647461, 2.210981845855713, 6.058706283569336, 15.503002166748047, 14.791532516479492, 5.7652692794799805, 5.553186416625977, 9.283088684082031, 10.939677238464355, 2.112210750579834, 15.045576095581055, 8.897221565246582, 2.6218421459198, 8.854959487915039, 13.137845993041992, 10.885345458984375, 4.582969665527344, 7.299981594085693, 8.658417701721191, 5.7525787353515625, 10.864599227905273, 5.469786167144775, 10.20382308959961, 5.8438720703125, 6.391148090362549, 7.248697280883789, 5.660155773162842, 3.3285305500030518, 7.801126003265381, 6.292906284332275, 5.763258457183838, 5.633978843688965, 6.018974304199219, 5.730981349945068, 5.68559455871582, 5.734356880187988, 2.456951141357422, 1.763836145401001, 1.8222448825836182, 1.2479130029678345, 3.666163682937622, 1.2480087280273438, 1.8561761379241943, 1.24869704246521, 0.6431495547294617, 0.6458906531333923, 0.6445143818855286, 0.6434144973754883, 1.2503198385238647, 0.6451520919799805, 0.6436258554458618, 0.6342775821685791, 0.6455318927764893, 0.6451125741004944, 0.6430652141571045, 0.6417668461799622, 0.6307822465896606, 0.6061511635780334, 0.6025844812393188, 0.644035279750824, 0.6458391547203064, 0.6444242000579834, 0.6375695466995239, 0.642973780632019, 0.6473384499549866, 0.6457668542861938, 1.9499826431274414, 1.2480969429016113, 4.449420928955078, 1.8546191453933716, 1.337998867034912, 1.2495115995407104, 4.335303783416748, 1.8565099239349365, 3.773469924926758, 6.203221797943115, 3.75921893119812, 3.134458541870117, 1.1933997869491577, 1.2234060764312744, 3.0942890644073486, 1.2499140501022339, 1.7172181606292725, 1.7400649785995483, 1.251349687576294, 2.4721767902374268, 1.31431245803833, 3.112334728240967, 2.3325560092926025, 2.9686882495880127, 3.601634979248047, 4.852913856506348, 2.8893120288848877, 3.754518985748291, 2.5376689434051514, 3.3082456588745117, 2.2709665298461914, 2.41617488861084, 2.5709457397460938, 2.55731201171875, 2.5958175659179688, 2.5056543350219727, 2.472719192504883, 2.2232613563537598, 2.2206366062164307, 2.0425431728363037, 2.0224125385284424, 2.284670829772949, 2.3413901329040527, 1.0880385637283325, 1.1821297407150269, 1.0002000331878662, 0.608837366104126, 1.1832529306411743, 0.6094218492507935, 0.6107881665229797, 0.6098136305809021, 0.6081516742706299, 0.6111838817596436, 0.6038936376571655, 0.6100809574127197, 0.6059180498123169, 0.590800404548645, 0.6106300950050354, 0.6097727417945862, 0.6137202382087708, 0.6102316975593567, 0.6098159551620483, 0.6092579960823059, 0.609480082988739, 0.6086742877960205, 0.6062897443771362, 0.60822594165802, 0.6080080270767212, 0.609035849571228, 0.6106607913970947, 0.6074339747428894, 4.609471321105957, 0.8260261416435242, 2.912961721420288, 5.897371768951416, 1.7574892044067383, 3.4838287830352783, 3.479701042175293, 3.025813341140747, 2.978581428527832, 1.7652026414871216, 3.510870933532715, 2.9461586475372314, 1.497763752937317, 2.3476366996765137, 1.7657983303070068, 1.2620203495025635, 1.7715853452682495, 1.772595763206482, 1.1891727447509766, 2.3512792587280273, 1.1912016868591309, 4.289911270141602, 1.1819506883621216, 2.979998826980591, 2.554953098297119, 2.693142890930176, 1.7829915285110474, 3.8650131225585938, 3.147017240524292, 3.1001546382904053, 2.55391001701355, 2.5192031860351562, 2.3852245807647705, 2.070675849914551, 2.031240940093994, 1.9642207622528076, 1.8994039297103882, 1.8750003576278687, 1.8637235164642334, 1.8219965696334839], \"Term\": [\"like\", \"little\", \"miss\", \"know\", \"emma\", \"thought\", \"good\", \"elizabeth\", \"time\", \"jane\", \"think\", \"man\", \"elinor\", \"shall\", \"mother\", \"harriet\", \"eyes\", \"john\", \"soon\", \"hand\", \"come\", \"day\", \"saw\", \"sir\", \"young\", \"house\", \"darcy\", \"father\", \"heart\", \"bennet\", \"henri\", \"glorious\", \"brussels\", \"india\", \"vandenhuten\", \"francs\", \"oliver\", \"serene\", \"scholars\", \"hell\", \"europe\", \"sophie\", \"stool\", \"veil\", \"vocation\", \"seacombe\", \"frances\", \"briggs\", \"slip\", \"belgium\", \"swiss\", \"natures\", \"stile\", \"kneeling\", \"sunset\", \"wicket\", \"vale\", \"marchmont\", \"wardrobe\", \"practical\", \"godmother\", \"sustained\", \"stooped\", \"burning\", \"seal\", \"thornfield\", \"moon\", \"diana\", \"hunsden\", \"rochester\", \"crimsworth\", \"hannah\", \"lonely\", \"god\", \"rue\", \"blood\", \"flesh\", \"french\", \"rivers\", \"candle\", \"adele\", \"st\", \"ll\", \"english\", \"night\", \"dark\", \"hall\", \"black\", \"mdlle\", \"bright\", \"white\", \"face\", \"rose\", \"light\", \"ere\", \"strange\", \"like\", \"hand\", \"eye\", \"deep\", \"life\", \"stood\", \"eyes\", \"looked\", \"door\", \"long\", \"thought\", \"madame\", \"little\", \"saw\", \"old\", \"heart\", \"day\", \"house\", \"look\", \"come\", \"time\", \"good\", \"know\", \"room\", \"went\", \"took\", \"came\", \"left\", \"man\", \"way\", \"think\", \"shall\", \"felt\", \"jennings\", \"marianne\", \"willoughby\", \"margaret\", \"elinor\", \"steele\", \"berkeley\", \"cleveland\", \"middleton\", \"brandon\", \"charlotte\", \"dashwoods\", \"hurst\", \"middletons\", \"harley\", \"steeles\", \"palmers\", \"beaux\", \"lucas\", \"barton\", \"hunsford\", \"catherine\", \"rosings\", \"bingley\", \"thoughtfulness\", \"rapturous\", \"unwillingly\", \"magna\", \"salutation\", \"invariable\", \"ladyship\", \"collins\", \"netherfield\", \"delaford\", \"ferrars\", \"bourgh\", \"dashwood\", \"bennet\", \"elizabeth\", \"edward\", \"sister\", \"darcy\", \"palmer\", \"colonel\", \"lady\", \"mother\", \"behaviour\", \"family\", \"lucy\", \"town\", \"soon\", \"miss\", \"time\", \"replied\", \"think\", \"know\", \"great\", \"house\", \"good\", \"day\", \"little\", \"room\", \"away\", \"shall\", \"man\", \"ford\", \"patty\", \"grandmama\", \"cox\", \"friday\", \"pitcher\", \"vouchsafe\", \"harp\", \"undone\", \"longstaple\", \"rivet\", \"naivete\", \"butler\", \"charade\", \"cole\", \"larkins\", \"butcher\", \"significantly\", \"detaining\", \"banker\", \"pleasanter\", \"overtaken\", \"airing\", \"triumphantly\", \"shoot\", \"richard\", \"inequality\", \"pretending\", \"bates\", \"precise\", \"dixon\", \"campbells\", \"pianoforte\", \"crown\", \"smith\", \"campbell\", \"fairfax\", \"jane\", \"apples\", \"weston\", \"elton\", \"frank\", \"emma\", \"miss\", \"news\", \"thing\", \"perry\", \"oh\", \"dear\", \"churchill\", \"woodhouse\", \"knightley\", \"sir\", \"sure\", \"dancing\", \"shall\", \"going\", \"think\", \"know\", \"come\", \"harriet\", \"hear\", \"room\", \"great\", \"body\", \"soon\", \"good\", \"yes\", \"little\", \"heard\", \"time\", \"like\", \"came\", \"thought\", \"day\", \"away\", \"peu\", \"abbot\", \"avez\", \"grec\", \"votre\", \"athenee\", \"dans\", \"violets\", \"cholmondeley\", \"opaque\", \"assez\", \"une\", \"professors\", \"etre\", \"je\", \"tableau\", \"pens\", \"impromptu\", \"allez\", \"mal\", \"vous\", \"elle\", \"dire\", \"reflex\", \"paletot\", \"garcon\", \"isidore\", \"bourgeois\", \"ce\", \"que\", \"est\", \"cela\", \"zelie\", \"pas\", \"pierre\", \"bouquet\", \"qu\", \"bessie\", \"les\", \"ne\", \"et\", \"la\", \"comme\", \"estrade\", \"ginevra\", \"bien\", \"paul\", \"monsieur\", \"reed\", \"madame\", \"fanshawe\", \"mademoiselle\", \"emanuel\", \"dr\", \"little\", \"beck\", \"like\", \"school\", \"work\", \"door\", \"polly\", \"room\", \"bretton\", \"hand\", \"lucy\", \"eyes\", \"thought\", \"think\", \"good\", \"half\", \"day\", \"miss\", \"time\", \"know\", \"took\", \"john\", \"knew\", \"came\", \"selina\", \"knightleys\", \"approving\", \"gentility\", \"martin\", \"blindness\", \"nash\", \"surry\", \"bristol\", \"abbey\", \"farmer\", \"bath\", \"maple\", \"disgraced\", \"elegantly\", \"suckling\", \"westons\", \"resources\", \"intimately\", \"goddard\", \"jokes\", \"gross\", \"matches\", \"enscombe\", \"harriet\", \"inferred\", \"negligent\", \"grove\", \"connexion\", \"protest\", \"vicarage\", \"taylor\", \"elton\", \"weston\", \"churchills\", \"woodhouse\", \"emma\", \"knightley\", \"body\", \"hartfield\", \"highbury\", \"churchill\", \"friend\", \"man\", \"frank\", \"thing\", \"marry\", \"good\", \"young\", \"think\", \"assure\", \"people\", \"woman\", \"miss\", \"know\", \"ought\", \"little\", \"great\", \"father\", \"sure\", \"dear\", \"better\", \"like\", \"time\", \"thought\", \"mind\", \"shall\", \"isabella\", \"philosophic\", \"eltons\", \"hawkins\", \"regards\", \"saucy\", \"ostensible\", \"richmond\", \"grandmother\", \"supplying\", \"benefactress\", \"promoted\", \"bathing\", \"feelingly\", \"taylor\", \"secresy\", \"unexceptionable\", \"comprehending\", \"deceit\", \"beer\", \"windsor\", \"cooler\", \"amiss\", \"martins\", \"campbell\", \"hartfield\", \"competent\", \"dulness\", \"charmingly\", \"unfair\", \"emma\", \"knightley\", \"henry\", \"woodhouse\", \"highbury\", \"fairfax\", \"dixon\", \"harriet\", \"randalls\", \"elton\", \"perry\", \"shew\", \"weston\", \"bates\", \"poor\", \"body\", \"chuse\", \"churchill\", \"thing\", \"father\", \"miss\", \"children\", \"having\", \"home\", \"friend\", \"jane\", \"think\", \"little\", \"time\", \"dear\", \"soon\", \"good\", \"thought\", \"know\", \"shall\", \"man\", \"day\", \"great\", \"like\", \"yorkshire\", \"infamous\", \"lambton\", \"assertions\", \"create\", \"occurrences\", \"bewitching\", \"stating\", \"wilfully\", \"misconduct\", \"militia\", \"elopement\", \"inexpressibly\", \"reconciliation\", \"alluding\", \"blameless\", \"foresaw\", \"disadvantage\", \"creditable\", \"misunderstood\", \"indolence\", \"scotland\", \"unfair\", \"forwarded\", \"acquit\", \"inconveniences\", \"respectability\", \"liberally\", \"exercising\", \"deplorable\", \"involved\", \"churchills\", \"wickham\", \"gardiner\", \"fitzwilliam\", \"imprudent\", \"secrecy\", \"conduct\", \"supposing\", \"injured\", \"darcy\", \"pemberley\", \"robert\", \"elizabeth\", \"wishes\", \"aunt\", \"attachment\", \"churchill\", \"letter\", \"jane\", \"lydia\", \"engagement\", \"known\", \"particulars\", \"love\", \"affection\", \"hope\", \"marriage\", \"happiness\", \"marry\", \"know\", \"think\", \"family\", \"having\", \"frank\", \"feelings\", \"man\", \"present\", \"good\", \"miss\", \"time\", \"father\", \"soon\", \"little\", \"thought\", \"believe\", \"sister\", \"day\", \"felt\", \"brighton\", \"forster\", \"prevailing\", \"expenses\", \"lydia\", \"regiment\", \"sum\", \"gracechurch\", \"norland\", \"debts\", \"favourites\", \"despaired\", \"housekeeping\", \"pounds\", \"pledged\", \"settlement\", \"lamentations\", \"supplication\", \"disposal\", \"legal\", \"sixpence\", \"distresses\", \"denny\", \"pratt\", \"answerable\", \"accommodate\", \"cheap\", \"extravagant\", \"expressively\", \"prohibited\", \"wickham\", \"kitty\", \"uncle\", \"thousand\", \"gardiner\", \"income\", \"law\", \"dashwood\", \"longbourn\", \"father\", \"money\", \"estate\", \"mother\", \"addition\", \"ignorant\", \"married\", \"daughters\", \"assistance\", \"niece\", \"fortune\", \"bennet\", \"sure\", \"daughter\", \"elizabeth\", \"years\", \"sister\", \"soon\", \"house\", \"dear\", \"family\", \"know\", \"think\", \"great\", \"letter\", \"good\", \"time\", \"little\", \"stick\", \"eyelid\", \"rob\", \"irritating\", \"philanthropist\", \"lloyd\", \"reproaching\", \"mystic\", \"memories\", \"partners\", \"infirm\", \"henceforth\", \"establish\", \"staff\", \"vanishing\", \"lowered\", \"mud\", \"saucy\", \"acquitted\", \"grieving\", \"anecdote\", \"orphan\", \"stair\", \"flakes\", \"affianced\", \"enounced\", \"sacrificing\", \"restoration\", \"external\", \"abhorred\", \"prejudices\", \"severely\", \"merits\", \"aged\", \"tap\", \"flatter\", \"ruin\", \"pelet\", \"sisters\", \"walravens\", \"died\", \"sir\", \"poor\", \"old\", \"jane\", \"love\", \"thought\", \"like\", \"grief\", \"marie\", \"good\", \"little\", \"man\", \"false\", \"half\", \"sense\", \"lizzy\", \"bessie\", \"father\", \"oh\", \"character\", \"children\", \"mother\", \"time\", \"people\", \"think\", \"place\", \"child\", \"leave\", \"eyes\", \"young\", \"know\", \"heart\", \"shall\", \"house\", \"saw\", \"scatcherd\", \"burns\", \"doctrine\", \"tract\", \"knoll\", \"walnut\", \"reproaching\", \"print\", \"stem\", \"impunity\", \"mischievous\", \"contrasts\", \"amounted\", \"bunch\", \"bundle\", \"blossoms\", \"matched\", \"projected\", \"desiree\", \"spots\", \"pious\", \"bigben\", \"glove\", \"packing\", \"quickening\", \"scenery\", \"aimed\", \"borders\", \"brush\", \"slice\", \"infection\", \"lowood\", \"patient\", \"helen\", \"coffee\", \"dr\", \"firmness\", \"bible\", \"parents\", \"girl\", \"fully\", \"bearing\", \"madame\", \"face\", \"liked\", \"thought\", \"kept\", \"day\", \"like\", \"miss\", \"clock\", \"half\", \"chose\", \"man\", \"place\", \"long\", \"hunsden\", \"think\", \"little\", \"hand\", \"heart\", \"know\", \"time\", \"life\", \"john\", \"eyes\", \"morning\", \"victor\", \"scrutinised\", \"yorke\", \"georgette\", \"rests\", \"tints\", \"grisette\", \"portfolio\", \"sans\", \"clouded\", \"trop\", \"inquisitive\", \"nest\", \"infallibly\", \"apron\", \"rosine\", \"rien\", \"tasks\", \"puts\", \"quel\", \"fidelity\", \"scrupled\", \"bracelet\", \"walnut\", \"expanse\", \"combine\", \"elements\", \"wheeled\", \"roved\", \"obviously\", \"burdened\", \"indicated\", \"appetite\", \"midsummer\", \"doctor\", \"pictures\", \"incapacity\", \"pas\", \"hunsden\", \"hand\", \"eyes\", \"john\", \"asked\", \"dr\", \"st\", \"table\", \"saw\", \"sir\", \"like\", \"frances\", \"closed\", \"came\", \"till\", \"forehead\", \"near\", \"time\", \"heart\", \"know\", \"little\", \"kind\", \"head\", \"good\", \"face\", \"night\", \"days\", \"answer\", \"thought\", \"tell\", \"better\", \"reject\", \"prepossession\", \"pompous\", \"sanctioned\", \"supplanted\", \"refusal\", \"apologise\", \"privately\", \"affording\", \"estates\", \"proposals\", \"corps\", \"atonement\", \"assiduous\", \"forgiveness\", \"humility\", \"fare\", \"gracechurch\", \"denny\", \"cruelly\", \"uniformly\", \"disregarded\", \"olive\", \"rascal\", \"despaired\", \"philosophic\", \"clapped\", \"injurious\", \"inattentive\", \"treasured\", \"extravagance\", \"likelihood\", \"unguarded\", \"lucases\", \"conscientious\", \"falls\", \"procured\", \"nieces\", \"longbourn\", \"collins\", \"lizzy\", \"cousin\", \"bennet\", \"profession\", \"gardiner\", \"relations\", \"catherine\", \"thousand\", \"robert\", \"man\", \"young\", \"father\", \"elizabeth\", \"darcy\", \"pride\", \"living\", \"pounds\", \"daughters\", \"marriage\", \"time\", \"motive\", \"certain\", \"amiable\", \"cried\", \"friend\", \"wickham\", \"thought\", \"family\", \"letter\", \"lady\", \"given\", \"shall\", \"good\", \"house\", \"having\", \"soon\", \"jane\", \"cooled\", \"crack\", \"raving\", \"restlessly\", \"unfit\", \"softest\", \"displeasing\", \"harmless\", \"practising\", \"recur\", \"spending\", \"quadrille\", \"chicken\", \"wanderings\", \"iii\", \"encumbrance\", \"jenkinson\", \"disown\", \"gifted\", \"cake\", \"unequivocal\", \"bracelet\", \"survive\", \"wouldn\", \"beef\", \"combine\", \"fight\", \"graces\", \"verbal\", \"delirious\", \"dumb\", \"causes\", \"averted\", \"ginevra\", \"wholesome\", \"snowe\", \"bretton\", \"dr\", \"mamma\", \"fanshawe\", \"graham\", \"lucy\", \"liking\", \"know\", \"evening\", \"preferred\", \"john\", \"little\", \"thought\", \"tea\", \"old\", \"saw\", \"ladies\", \"miss\", \"acquaintance\", \"good\", \"friends\", \"seen\", \"mother\", \"certainly\", \"boy\", \"think\", \"lady\", \"knew\", \"tell\", \"thing\", \"way\", \"young\", \"like\", \"toast\", \"famished\", \"portfolio\", \"generation\", \"tyrant\", \"scent\", \"needful\", \"villain\", \"deviation\", \"rascal\", \"beef\", \"wheeled\", \"lloyd\", \"weekly\", \"unlocked\", \"petit\", \"fervid\", \"feasted\", \"hostess\", \"spurned\", \"harass\", \"sprain\", \"frigid\", \"supplication\", \"liberally\", \"fragrant\", \"strikingly\", \"statement\", \"brutal\", \"pencilled\", \"meat\", \"discerned\", \"helen\", \"tray\", \"butter\", \"cups\", \"temple\", \"irritated\", \"bread\", \"hunsden\", \"tea\", \"crimsworth\", \"depth\", \"owing\", \"adele\", \"dirty\", \"property\", \"rang\", \"salary\", \"servant\", \"burns\", \"live\", \"bell\", \"table\", \"having\", \"miss\", \"nature\", \"come\", \"suppose\", \"little\", \"taken\", \"family\", \"heart\", \"eyes\", \"shall\", \"soon\", \"good\", \"looking\", \"till\", \"felt\", \"think\", \"impediment\", \"whitcross\", \"earthquake\", \"misunderstand\", \"insuperable\", \"scenery\", \"moors\", \"solve\", \"winning\", \"brightening\", \"aghast\", \"abandon\", \"surmises\", \"misty\", \"beckoned\", \"ornamented\", \"hazardous\", \"superfluous\", \"wondrous\", \"traverse\", \"visitation\", \"accorded\", \"monitor\", \"craving\", \"musings\", \"bands\", \"aspirations\", \"argue\", \"contemplate\", \"strangeness\", \"mason\", \"lawyer\", \"coach\", \"thousand\", \"moor\", \"diana\", \"justice\", \"pounds\", \"thornfield\", \"inn\", \"sisters\", \"marry\", \"explained\", \"mary\", \"journey\", \"repeat\", \"shook\", \"free\", \"labour\", \"st\", \"sign\", \"like\", \"recalled\", \"home\", \"want\", \"asked\", \"mere\", \"know\", \"shall\", \"thought\", \"yes\", \"john\", \"tell\", \"brother\", \"rochester\", \"jane\", \"heard\", \"soon\", \"house\", \"doubt\"], \"Total\": [1327.0, 1716.0, 1508.0, 1421.0, 819.0, 1130.0, 1344.0, 648.0, 1311.0, 907.0, 1298.0, 896.0, 700.0, 918.0, 668.0, 499.0, 640.0, 622.0, 922.0, 618.0, 829.0, 1062.0, 779.0, 591.0, 655.0, 758.0, 415.0, 495.0, 654.0, 321.0, 56.220855712890625, 31.115455627441406, 38.15994644165039, 22.023548126220703, 21.986921310424805, 24.022626876831055, 30.707693099975586, 22.030637741088867, 16.99470329284668, 19.001771926879883, 23.03215789794922, 28.04928207397461, 27.043241500854492, 40.00208282470703, 15.97868824005127, 17.945457458496094, 118.69884490966797, 15.961455345153809, 21.895017623901367, 15.955026626586914, 14.953011512756348, 14.961333274841309, 14.967345237731934, 16.960710525512695, 14.967543601989746, 15.963265419006348, 13.960921287536621, 14.959527969360352, 16.982576370239258, 26.671613693237305, 30.879863739013672, 23.021310806274414, 18.982746124267578, 43.93135452270508, 23.94305992126465, 98.66461944580078, 78.12388610839844, 74.16192626953125, 145.58560180664062, 362.929931640625, 98.78340911865234, 41.873291015625, 36.96647644042969, 230.246826171875, 74.69512939453125, 89.99325561523438, 51.20797348022461, 163.1468505859375, 58.904056549072266, 63.62956619262695, 135.37509155273438, 196.42227172851562, 151.22532653808594, 233.07542419433594, 626.9486083984375, 230.7371368408203, 174.2212371826172, 185.47486877441406, 115.3077163696289, 112.5272445678711, 237.90869140625, 502.41864013671875, 235.68942260742188, 309.60455322265625, 137.51344299316406, 256.2809753417969, 1327.897216796875, 618.9459228515625, 402.9643859863281, 184.42608642578125, 585.0203247070312, 327.278076171875, 640.6217041015625, 706.0277099609375, 540.8343505859375, 943.9388427734375, 1130.9534912109375, 410.1953125, 1716.6541748046875, 779.0612182617188, 478.0030517578125, 654.9921264648438, 1062.1033935546875, 758.7465209960938, 643.1605834960938, 829.058349609375, 1311.2825927734375, 1344.416015625, 1421.558837890625, 890.5029296875, 498.0828857421875, 498.4913024902344, 687.426513671875, 541.0234985351562, 896.0872802734375, 690.5780029296875, 1298.873779296875, 918.6404418945312, 670.2937622070312, 236.7880859375, 579.883056640625, 221.3059844970703, 37.59962844848633, 700.37060546875, 39.798377990722656, 18.302053451538086, 28.561067581176758, 105.2361068725586, 148.020751953125, 116.49949645996094, 37.608245849609375, 37.77748107910156, 20.334505081176758, 17.26112937927246, 31.59954261779785, 11.12620735168457, 12.131332397460938, 72.32286834716797, 91.3403091430664, 26.087295532226562, 131.47967529296875, 50.89178466796875, 311.1426086425781, 8.020286560058594, 8.011720657348633, 7.003519535064697, 12.111540794372559, 8.017181396484375, 7.0001959800720215, 56.408477783203125, 179.00323486328125, 74.77885437011719, 31.090694427490234, 131.2285614013672, 39.78150177001953, 253.1300048828125, 321.76849365234375, 648.1511840820312, 322.25787353515625, 598.022705078125, 415.8791809082031, 78.90971374511719, 308.3373718261719, 628.1261596679688, 668.0474853515625, 145.3879852294922, 379.6103515625, 379.8049621582031, 240.18301391601562, 922.4473876953125, 1508.1014404296875, 1311.2825927734375, 347.3627014160156, 1298.873779296875, 1421.558837890625, 820.7720336914062, 758.7465209960938, 1344.416015625, 1062.1033935546875, 1716.6541748046875, 890.5029296875, 679.46484375, 918.6404418945312, 896.0872802734375, 15.828289031982422, 12.077394485473633, 13.018427848815918, 8.331753730773926, 7.386719226837158, 7.348400115966797, 5.4942708015441895, 6.4481520652771, 5.515326976776123, 8.249706268310547, 8.353217124938965, 7.287137031555176, 7.387529373168945, 22.456439971923828, 58.1992301940918, 13.044499397277832, 6.488222122192383, 6.477083206176758, 7.4513959884643555, 5.257203102111816, 8.376241683959961, 5.316320896148682, 6.394191265106201, 5.49653959274292, 6.435946464538574, 10.843860626220703, 5.5619587898254395, 7.3768310546875, 142.91087341308594, 7.087866306304932, 42.24453353881836, 25.31149673461914, 32.45195388793945, 40.88803482055664, 108.41583251953125, 48.89213562011719, 360.083251953125, 907.8052368164062, 24.507354736328125, 417.4304504394531, 366.5566711425781, 227.968505859375, 819.6837768554688, 1508.1014404296875, 104.28546142578125, 769.9442749023438, 76.35813903808594, 549.505859375, 579.947998046875, 213.0064239501953, 296.634033203125, 369.02960205078125, 591.0789794921875, 609.2366943359375, 69.01800537109375, 918.6404418945312, 378.69891357421875, 1298.873779296875, 1421.558837890625, 829.058349609375, 499.2791442871094, 405.5437927246094, 890.5029296875, 820.7720336914062, 268.7884826660156, 922.4473876953125, 1344.416015625, 592.4486694335938, 1716.6541748046875, 621.6402587890625, 1311.2825927734375, 1327.897216796875, 687.426513671875, 1130.9534912109375, 1062.1033935546875, 679.46484375, 12.59705924987793, 25.060102462768555, 11.62034797668457, 14.49753189086914, 12.611525535583496, 9.658648490905762, 11.574243545532227, 9.663066864013672, 23.43926239013672, 6.702523231506348, 6.719423294067383, 38.17852783203125, 7.690407752990723, 6.715002536773682, 71.51687622070312, 7.6951799392700195, 8.536399841308594, 7.693495750427246, 6.716292381286621, 5.7237868309021, 117.33196258544922, 25.975173950195312, 5.737240791320801, 6.721416473388672, 19.936826705932617, 5.739292144775391, 24.17994499206543, 9.679288864135742, 51.09370040893555, 63.0872917175293, 109.74571228027344, 19.32128143310547, 17.551855087280273, 59.44394302368164, 31.378402709960938, 13.618927001953125, 31.1860294342041, 127.15167236328125, 39.29070281982422, 36.15657043457031, 85.04647827148438, 105.82575988769531, 23.50627899169922, 38.18710708618164, 107.93829345703125, 48.119754791259766, 184.15565490722656, 283.76123046875, 128.0243377685547, 410.1953125, 85.12495422363281, 120.7912368774414, 107.99832916259766, 227.3515625, 1716.6541748046875, 166.20640563964844, 1327.897216796875, 247.43833923339844, 257.2970275878906, 540.8343505859375, 80.41143035888672, 890.5029296875, 239.33636474609375, 618.9459228515625, 379.8049621582031, 640.6217041015625, 1130.9534912109375, 1298.873779296875, 1344.416015625, 585.3157348632812, 1062.1033935546875, 1508.1014404296875, 1311.2825927734375, 1421.558837890625, 498.4913024902344, 622.137451171875, 547.0235595703125, 687.426513671875, 10.409857749938965, 7.534221649169922, 5.629931926727295, 8.498686790466309, 81.95203399658203, 8.490266799926758, 13.243803024291992, 9.4418306350708, 9.526485443115234, 30.35730743408203, 13.485825538635254, 23.66608238220215, 30.353015899658203, 6.241573810577393, 5.672317028045654, 14.136496543884277, 11.260777473449707, 19.35439682006836, 9.442461967468262, 55.9560661315918, 7.517087936401367, 6.564715385437012, 8.382848739624023, 35.085758209228516, 499.2791442871094, 7.627158164978027, 8.242694854736328, 39.13087844848633, 19.916810989379883, 13.24178409576416, 17.018089294433594, 48.49155807495117, 366.5566711425781, 417.4304504394531, 15.164745330810547, 296.634033203125, 819.6837768554688, 369.02960205078125, 268.7884826660156, 152.29957580566406, 118.60572814941406, 213.0064239501953, 430.9316711425781, 896.0872802734375, 227.968505859375, 769.9442749023438, 199.98545837402344, 1344.416015625, 655.4854125976562, 1298.873779296875, 151.8977813720703, 336.3881530761719, 470.6175231933594, 1508.1014404296875, 1421.558837890625, 268.84893798828125, 1716.6541748046875, 820.7720336914062, 495.8523254394531, 609.2366943359375, 579.947998046875, 608.6251220703125, 1327.897216796875, 1311.2825927734375, 1130.9534912109375, 575.1913452148438, 918.6404418945312, 66.54862976074219, 5.3994550704956055, 21.68560791015625, 18.86005210876465, 5.395493030548096, 5.806015491485596, 5.6816253662109375, 13.128744125366211, 13.155746459960938, 6.079172134399414, 10.568499565124512, 8.608291625976562, 8.368546485900879, 6.546316623687744, 48.49155807495117, 6.596834182739258, 7.432542324066162, 6.709612846374512, 8.584171295166016, 10.656795501708984, 6.520545482635498, 9.622570037841797, 10.529876708984375, 13.208613395690918, 48.89213562011719, 152.29957580566406, 7.574333667755127, 6.699283123016357, 7.534689903259277, 5.593516826629639, 819.6837768554688, 369.02960205078125, 30.01898956298828, 296.634033203125, 118.60572814941406, 360.083251953125, 42.24453353881836, 499.2791442871094, 85.60081481933594, 366.5566711425781, 76.35813903808594, 36.020042419433594, 417.4304504394531, 142.91087341308594, 380.7914123535156, 268.7884826660156, 30.179706573486328, 213.0064239501953, 769.9442749023438, 495.8523254394531, 1508.1014404296875, 207.60643005371094, 533.9417114257812, 489.4680480957031, 430.9316711425781, 907.8052368164062, 1298.873779296875, 1716.6541748046875, 1311.2825927734375, 579.947998046875, 922.4473876953125, 1344.416015625, 1130.9534912109375, 1421.558837890625, 918.6404418945312, 896.0872802734375, 1062.1033935546875, 820.7720336914062, 1327.897216796875, 8.447919845581055, 8.45109748840332, 10.518919944763184, 5.593409061431885, 5.562869071960449, 7.491086006164551, 5.563011169433594, 7.327047348022461, 6.628947734832764, 10.39136028289795, 8.448823928833008, 10.569245338439941, 6.661205768585205, 9.580279350280762, 6.643108367919922, 8.297796249389648, 5.754856109619141, 10.38305377960205, 5.526840686798096, 12.49128532409668, 5.706026077270508, 12.926289558410645, 5.593516826629639, 5.535553932189941, 12.452608108520508, 7.741305828094482, 9.615067481994629, 6.027861595153809, 5.225780487060547, 6.447444915771484, 18.288305282592773, 15.164745330810547, 184.5184326171875, 90.8118896484375, 36.75081253051758, 22.829030990600586, 27.87082290649414, 117.42019653320312, 39.946693420410156, 27.54500961303711, 415.8791809082031, 53.55937194824219, 75.47622680664062, 648.1511840820312, 110.70233154296875, 177.86012268066406, 120.12328338623047, 213.0064239501953, 425.16845703125, 907.8052368164062, 160.92385864257812, 115.33533477783203, 273.35089111328125, 59.626163482666016, 567.3375244140625, 261.477783203125, 503.17724609375, 182.12062072753906, 277.13922119140625, 199.98545837402344, 1421.558837890625, 1298.873779296875, 379.6103515625, 533.9417114257812, 227.968505859375, 379.3541564941406, 896.0872802734375, 410.9889221191406, 1344.416015625, 1508.1014404296875, 1311.2825927734375, 495.8523254394531, 922.4473876953125, 1716.6541748046875, 1130.9534912109375, 455.99346923828125, 598.022705078125, 1062.1033935546875, 670.2937622070312, 22.331401824951172, 36.504329681396484, 5.278637886047363, 12.866405487060547, 160.92385864257812, 24.942245483398438, 28.2388916015625, 8.759129524230957, 51.8203010559082, 19.81525993347168, 5.3030104637146, 5.339353084564209, 6.579892635345459, 93.61902618408203, 5.566320419311523, 5.631657600402832, 7.559013843536377, 5.992225170135498, 9.626678466796875, 9.248392105102539, 6.498419284820557, 7.544089317321777, 11.863388061523438, 11.254992485046387, 6.032123565673828, 8.947375297546387, 5.938446998596191, 11.37258529663086, 5.9545722007751465, 6.565362453460693, 184.5184326171875, 71.11035919189453, 149.8907928466797, 129.6597442626953, 90.8118896484375, 49.63278579711914, 88.31877899169922, 253.1300048828125, 85.50403594970703, 495.8523254394531, 131.6228485107422, 54.803226470947266, 668.0474853515625, 41.04412078857422, 52.768184661865234, 243.69692993164062, 106.05045318603516, 50.74677276611328, 47.405582427978516, 168.99880981445312, 321.76849365234375, 609.2366943359375, 272.28851318359375, 648.1511840820312, 314.25054931640625, 598.022705078125, 922.4473876953125, 758.7465209960938, 579.947998046875, 379.6103515625, 1421.558837890625, 1298.873779296875, 820.7720336914062, 425.16845703125, 1344.416015625, 1311.2825927734375, 1716.6541748046875, 4.245903015136719, 4.869728088378906, 6.625211238861084, 5.021398067474365, 5.755516052246094, 10.400948524475098, 4.6156182289123535, 6.927196025848389, 6.042774677276611, 5.101767539978027, 5.207888603210449, 7.87255334854126, 7.659289360046387, 7.9338154792785645, 6.105009078979492, 7.827918529510498, 5.181760787963867, 5.806015491485596, 5.8388352394104, 8.08918571472168, 5.926296710968018, 18.57756996154785, 11.655366897583008, 4.9695234298706055, 5.32295036315918, 5.303813934326172, 5.9197468757629395, 6.0493879318237305, 9.505661964416504, 12.339293479919434, 9.883848190307617, 11.585057258605957, 21.055255889892578, 10.939628601074219, 7.8379316329956055, 28.95318031311035, 25.952409744262695, 106.97380828857422, 183.2523956298828, 23.533817291259766, 61.94151306152344, 591.0789794921875, 380.7914123535156, 478.0030517578125, 907.8052368164062, 567.3375244140625, 1130.9534912109375, 1327.897216796875, 58.82045364379883, 29.433883666992188, 1344.416015625, 1716.6541748046875, 896.0872802734375, 53.28329849243164, 585.3157348632812, 276.0196838378906, 92.61316680908203, 127.15167236328125, 495.8523254394531, 549.505859375, 289.2514343261719, 207.60643005371094, 668.0474853515625, 1311.2825927734375, 336.3881530761719, 1298.873779296875, 504.4638366699219, 297.76025390625, 383.261962890625, 640.6217041015625, 655.4854125976562, 1421.558837890625, 654.9921264648438, 918.6404418945312, 758.7465209960938, 779.0612182617188, 18.9420108795166, 26.938392639160156, 8.803995132446289, 8.756869316101074, 6.124793529510498, 5.0642218589782715, 4.6156182289123535, 8.957192420959473, 7.099939823150635, 7.985925674438477, 5.267698764801025, 5.342314720153809, 5.233821392059326, 5.310476779937744, 5.34855318069458, 5.328618049621582, 7.167250156402588, 5.92958402633667, 17.44648551940918, 5.386658668518066, 6.285384178161621, 6.316910266876221, 6.231958866119385, 6.2583441734313965, 6.341619968414307, 4.97462272644043, 8.742773056030273, 9.110099792480469, 9.146805763244629, 9.73622989654541, 9.9574556350708, 53.23248291015625, 53.5811882019043, 58.38975524902344, 48.52731704711914, 227.3515625, 22.901660919189453, 14.967480659484863, 51.69269561767578, 304.9570007324219, 62.6901741027832, 44.87486267089844, 410.1953125, 502.41864013671875, 193.50604248046875, 1130.9534912109375, 209.72682189941406, 1062.1033935546875, 1327.897216796875, 1508.1014404296875, 133.14295959472656, 585.3157348632812, 51.83298110961914, 896.0872802734375, 504.4638366699219, 943.9388427734375, 145.58560180664062, 1298.873779296875, 1716.6541748046875, 618.9459228515625, 654.9921264648438, 1421.558837890625, 1311.2825927734375, 585.0203247070312, 622.137451171875, 640.6217041015625, 511.1727600097656, 21.521364212036133, 5.100595951080322, 12.731858253479004, 15.16829776763916, 6.473489284515381, 9.869036674499512, 10.231001853942871, 7.133527755737305, 7.145664215087891, 7.161157131195068, 7.351256847381592, 7.416754722595215, 7.434517860412598, 7.471791744232178, 15.153553009033203, 35.154022216796875, 8.324485778808594, 9.239109992980957, 9.309015274047852, 9.341216087341309, 9.461334228515625, 4.916016101837158, 9.673574447631836, 5.0642218589782715, 5.087332248687744, 5.19351053237915, 10.22764778137207, 5.234020233154297, 5.278259754180908, 5.326350212097168, 10.510208129882812, 16.307113647460938, 24.020092010498047, 11.213659286499023, 48.451717376708984, 43.46184539794922, 11.357282638549805, 59.44394302368164, 145.58560180664062, 618.9459228515625, 640.6217041015625, 622.137451171875, 397.8523254394531, 227.3515625, 196.42227172851562, 236.3557586669922, 779.0612182617188, 591.0789794921875, 1327.897216796875, 118.69884490966797, 115.41853332519531, 687.426513671875, 516.4186401367188, 63.78570556640625, 362.5654602050781, 1311.2825927734375, 654.9921264648438, 1421.558837890625, 1716.6541748046875, 407.0177307128906, 411.262939453125, 1344.416015625, 502.41864013671875, 626.9486083984375, 288.95953369140625, 349.7884826660156, 1130.9534912109375, 540.1327514648438, 608.6251220703125, 7.10140323638916, 5.238371849060059, 5.337002754211426, 5.397221088409424, 5.2563557624816895, 14.61575698852539, 7.970468997955322, 7.236702919006348, 7.1981520652771, 6.352773666381836, 16.11687469482422, 8.091622352600098, 7.200279235839844, 7.286891937255859, 12.33835220336914, 16.442584991455078, 8.728822708129883, 8.759129524230957, 11.863388061523438, 12.08523941040039, 7.514400005340576, 9.196747779846191, 13.953680038452148, 5.062577724456787, 5.339353084564209, 5.3994550704956055, 5.367546558380127, 5.152284145355225, 5.397064685821533, 5.3343825340271, 14.893625259399414, 10.825407028198242, 9.531912803649902, 14.570119857788086, 11.143346786499023, 11.263261795043945, 23.775497436523438, 12.834030151367188, 85.50403594970703, 179.00323486328125, 92.61316680908203, 90.98857116699219, 321.76849365234375, 34.65153503417969, 90.8118896484375, 64.58364868164062, 131.47967529296875, 129.6597442626953, 75.47622680664062, 896.0872802734375, 655.4854125976562, 495.8523254394531, 648.1511840820312, 415.8791809082031, 124.7993392944336, 171.68336486816406, 93.61902618408203, 106.05045318603516, 182.12062072753906, 1311.2825927734375, 45.173954010009766, 340.28289794921875, 102.67190551757812, 367.129638671875, 430.9316711425781, 184.5184326171875, 1130.9534912109375, 379.6103515625, 425.16845703125, 628.1261596679688, 329.46929931640625, 918.6404418945312, 1344.416015625, 758.7465209960938, 533.9417114257812, 922.4473876953125, 907.8052368164062, 5.245939254760742, 5.321908950805664, 5.9566755294799805, 5.365143299102783, 9.995149612426758, 5.33090877532959, 5.3297038078308105, 6.828144550323486, 7.140888690948486, 6.257314682006836, 14.835493087768555, 7.377809047698975, 8.07106876373291, 8.13115119934082, 8.124528884887695, 4.143813610076904, 9.444279670715332, 9.34317398071289, 7.397741317749023, 26.160385131835938, 4.958081245422363, 9.673574447631836, 5.079710006713867, 10.202743530273438, 5.113983154296875, 5.19351053237915, 9.112271308898926, 15.351301193237305, 5.377073764801025, 10.355189323425293, 16.652023315429688, 11.744214057922363, 8.971906661987305, 107.93829345703125, 17.35260009765625, 58.220096588134766, 239.33636474609375, 227.3515625, 66.53671264648438, 85.12495422363281, 222.82180786132812, 379.8049621582031, 19.613685607910156, 1421.558837890625, 487.5943298339844, 32.983184814453125, 622.137451171875, 1716.6541748046875, 1130.9534912109375, 134.26104736328125, 478.0030517578125, 779.0612182617188, 266.77130126953125, 1508.1014404296875, 242.4590606689453, 1344.416015625, 309.3064270019531, 446.6365661621094, 668.0474853515625, 331.67724609375, 66.8410873413086, 1298.873779296875, 628.1261596679688, 547.0235595703125, 540.1327514648438, 769.9442749023438, 690.5780029296875, 655.4854125976562, 1327.897216796875, 7.262429237365723, 6.366902828216553, 7.133527755737305, 5.643271446228027, 17.408388137817383, 6.7758941650390625, 11.533495903015137, 7.9824299812316895, 5.022487640380859, 5.062577724456787, 5.113983154296875, 5.234020233154297, 10.400948524475098, 5.411640644073486, 5.405585765838623, 5.355611324310303, 5.469655513763428, 5.472438812255859, 5.4819841384887695, 5.484302043914795, 5.390495300292969, 5.4626240730285645, 5.465059280395508, 5.992225170135498, 6.027861595153809, 6.184983730316162, 6.148745536804199, 6.302148818969727, 6.390883922576904, 6.399013996124268, 19.477394104003906, 12.67070484161377, 58.38975524902344, 21.688697814941406, 14.822518348693848, 13.968853950500488, 72.29337310791016, 24.83247184753418, 71.47958374023438, 145.58560180664062, 134.26104736328125, 98.78340911865234, 18.180082321166992, 19.857112884521484, 135.37509155273438, 22.145450592041016, 44.80960464477539, 51.02971649169922, 23.8372859954834, 120.9400863647461, 26.938392639160156, 212.2682647705078, 108.19697570800781, 236.3557586669922, 533.9417114257812, 1508.1014404296875, 310.13592529296875, 829.058349609375, 341.9651794433594, 1716.6541748046875, 251.48159790039062, 379.6103515625, 654.9921264648438, 640.6217041015625, 918.6404418945312, 922.4473876953125, 1344.416015625, 375.17767333984375, 516.4186401367188, 670.2937622070312, 1298.873779296875, 6.997003555297852, 9.121219635009766, 5.067235946655273, 6.9055633544921875, 6.055027961730957, 4.97462272644043, 10.052094459533691, 5.199030876159668, 5.322153568267822, 5.350747108459473, 5.3845624923706055, 5.4260053634643555, 5.3669328689575195, 5.433427810668945, 5.444832801818848, 5.391227722167969, 6.1803975105285645, 6.2287678718566895, 6.3535027503967285, 6.424174785614014, 6.424150466918945, 6.445641040802002, 6.4526848793029785, 6.445978164672852, 6.420758247375488, 6.450099468231201, 6.449978351593018, 7.171942234039307, 7.317911148071289, 7.331380367279053, 56.884952545166016, 10.123554229736328, 40.555755615234375, 129.6597442626953, 27.763118743896484, 74.16192626953125, 86.37470245361328, 93.61902618408203, 98.66461944580078, 43.18365478515625, 183.2523956298828, 199.98545837402344, 45.0418815612793, 149.41575622558594, 78.76970672607422, 34.438419342041016, 85.91014099121094, 87.57075500488281, 31.21986198425293, 196.42227172851562, 33.393409729003906, 1327.897216796875, 33.58164596557617, 489.4680480957031, 321.7312316894531, 397.8523254394531, 116.13316345214844, 1421.558837890625, 918.6404418945312, 1130.9534912109375, 592.4486694335938, 622.137451171875, 540.1327514648438, 284.6666564941406, 362.929931640625, 907.8052368164062, 621.6402587890625, 922.4473876953125, 758.7465209960938, 313.732666015625], \"loglift\": [30.0, 29.0, 28.0, 27.0, 26.0, 25.0, 24.0, 23.0, 22.0, 21.0, 20.0, 19.0, 18.0, 17.0, 16.0, 15.0, 14.0, 13.0, 12.0, 11.0, 10.0, 9.0, 8.0, 7.0, 6.0, 5.0, 4.0, 3.0, 2.0, 1.0, 0.8375999927520752, 0.8263000249862671, 0.8238000273704529, 0.822700023651123, 0.820900022983551, 0.8199999928474426, 0.8190000057220459, 0.8176000118255615, 0.8169999718666077, 0.8151999711990356, 0.8148999810218811, 0.8148000240325928, 0.8140000104904175, 0.8133000135421753, 0.8116999864578247, 0.810699999332428, 0.8097000122070312, 0.8093000054359436, 0.8091999888420105, 0.8091999888420105, 0.8083999752998352, 0.8076000213623047, 0.8076000213623047, 0.8068000078201294, 0.8065000176429749, 0.8064000010490417, 0.805899977684021, 0.8057000041007996, 0.8052999973297119, 0.8048999905586243, 0.8016999959945679, 0.8036999702453613, 0.8029999732971191, 0.7821999788284302, 0.7947999835014343, 0.7516000270843506, 0.7560999989509583, 0.7537999749183655, 0.7178999781608582, 0.6680999994277954, 0.7328000068664551, 0.7692999839782715, 0.7745000123977661, 0.6753000020980835, 0.7373999953269958, 0.722000002861023, 0.755299985408783, 0.6796000003814697, 0.743399977684021, 0.7376999855041504, 0.6837000250816345, 0.6503000259399414, 0.6711000204086304, 0.631600022315979, 0.539900004863739, 0.628600001335144, 0.6478999853134155, 0.630299985408783, 0.6776999831199646, 0.6784999966621399, 0.6035000085830688, 0.5051000118255615, 0.5823000073432922, 0.5450000166893005, 0.6413999795913696, 0.5576000213623047, 0.32109999656677246, 0.4242999851703644, 0.48159998655319214, 0.5845000147819519, 0.3643999993801117, 0.4648999869823456, 0.3224000036716461, 0.2912999987602234, 0.3483000099658966, 0.2029999941587448, 0.13899999856948853, 0.3808000087738037, -0.020999999716877937, 0.18150000274181366, 0.3176000118255615, 0.21299999952316284, 0.04780000075697899, 0.11729999631643295, 0.15960000455379486, 0.059300001710653305, -0.15610000491142273, -0.17139999568462372, -0.23149999976158142, -0.03460000082850456, 0.24500000476837158, 0.2345999926328659, 0.03500000014901161, 0.16910000145435333, -0.15240000188350677, -9.999999747378752e-05, -0.48399999737739563, -0.22589999437332153, 0.0032999999821186066, 1.6059999465942383, 1.6052000522613525, 1.597100019454956, 1.5893000364303589, 1.5851000547409058, 1.5831999778747559, 1.5791000127792358, 1.5788999795913696, 1.5787999629974365, 1.5786999464035034, 1.573199987411499, 1.5716999769210815, 1.5714000463485718, 1.5694999694824219, 1.565000057220459, 1.562399983406067, 1.5612000226974487, 1.5455000400543213, 1.5439000129699707, 1.5433000326156616, 1.5399999618530273, 1.5305999517440796, 1.527899980545044, 1.5211999416351318, 1.5204999446868896, 1.5170999765396118, 1.5154999494552612, 1.5144000053405762, 1.5120999813079834, 1.5094000101089478, 1.50600004196167, 1.4936000108718872, 1.5003000497817993, 1.5084999799728394, 1.479699969291687, 1.5011999607086182, 1.4603999853134155, 1.4235999584197998, 1.3876999616622925, 1.4062000513076782, 1.3539999723434448, 1.3568999767303467, 1.445199966430664, 1.1974999904632568, 0.9018999934196472, 0.8756999969482422, 1.2066999673843384, 0.8795999884605408, 0.8745999932289124, 1.007699966430664, 0.5289999842643738, 0.3422999978065491, 0.26499998569488525, 0.8118000030517578, 0.10999999940395355, 0.039799999445676804, 0.2973000109195709, 0.33379998803138733, -0.04699999839067459, 0.07020000368356705, -0.31929999589920044, 0.1324000060558319, 0.2680000066757202, 0.013199999928474426, -0.007799999788403511, 2.0982000827789307, 2.0945000648498535, 2.085599899291992, 2.0669000148773193, 2.0485000610351562, 2.0450000762939453, 2.009500026702881, 2.0034000873565674, 1.9375, 1.937399983406067, 1.930899977684021, 1.9053000211715698, 1.8913999795913696, 1.8770999908447266, 1.871000051498413, 1.854599952697754, 1.8483999967575073, 1.8452999591827393, 1.8451999425888062, 1.8379000425338745, 1.8282999992370605, 1.8242000341415405, 1.823099970817566, 1.8072999715805054, 1.8021999597549438, 1.7970000505447388, 1.7888000011444092, 1.7726000547409058, 1.770400047302246, 1.7616000175476074, 1.7526999711990356, 1.7510000467300415, 1.7272000312805176, 1.6787999868392944, 1.590399980545044, 1.6495000123977661, 1.458899974822998, 1.3001999855041504, 1.6875, 1.3044999837875366, 1.319200038909912, 1.3797999620437622, 1.1670000553131104, 1.0561000108718872, 1.4577000141143799, 1.1155999898910522, 1.495300054550171, 1.131600022315979, 1.1058000326156616, 1.2961000204086304, 1.1799999475479126, 1.128600001335144, 0.995199978351593, 0.9309999942779541, 1.4723000526428223, 0.7281000018119812, 0.970300018787384, 0.5920000076293945, 0.5576000213623047, 0.6362000107765198, 0.8061000108718872, 0.8755000233650208, 0.5835999846458435, 0.6064000129699707, 1.0211999416351318, 0.5351999998092651, 0.3718000054359436, 0.7009999752044678, 0.1031000018119812, 0.623199999332428, 0.17649999260902405, -0.07519999891519547, 0.4397999942302704, 0.014299999922513962, 0.05999999865889549, 0.42829999327659607, 2.438999891281128, 2.4333999156951904, 2.4328999519348145, 2.4209001064300537, 2.418800115585327, 2.418100118637085, 2.4114999771118164, 2.396699905395508, 2.388000011444092, 2.385200023651123, 2.3845999240875244, 2.3838000297546387, 2.3812999725341797, 2.38100004196167, 2.379499912261963, 2.3778998851776123, 2.3703999519348145, 2.3654000759124756, 2.363600015640259, 2.360599994659424, 2.359600067138672, 2.3582000732421875, 2.3578999042510986, 2.3506999015808105, 2.350100040435791, 2.350100040435791, 2.349400043487549, 2.3485000133514404, 2.348299980163574, 2.3469998836517334, 2.345900058746338, 2.3459999561309814, 2.3452000617980957, 2.3224000930786133, 2.3043999671936035, 2.3352999687194824, 2.2901999950408936, 2.1928999423980713, 2.250200033187866, 2.245800018310547, 2.1607000827789307, 2.111599922180176, 2.2639000415802, 2.1686999797821045, 1.979200005531311, 2.1201999187469482, 1.8329999446868896, 1.7178000211715698, 1.7977999448776245, 1.4349000453948975, 1.8890999555587769, 1.770900011062622, 1.7770999670028687, 1.5240000486373901, 0.5559999942779541, 1.3485000133514404, 0.251800000667572, 1.0684000253677368, 1.0156999826431274, 0.5580999851226807, 1.7116999626159668, 0.20340000092983246, 1.0292999744415283, 0.4004000127315521, 0.7028999924659729, 0.3393999934196472, -0.06989999860525131, -0.19939999282360077, -0.2563999891281128, 0.374099999666214, -0.12809999287128448, -0.4560999870300293, -0.3398999869823456, -0.47780001163482666, 0.44510000944137573, 0.21850000321865082, 0.31220000982284546, 0.07450000196695328, 2.8701000213623047, 2.842400074005127, 2.8022000789642334, 2.797600030899048, 2.7955000400543213, 2.791800022125244, 2.7441999912261963, 2.640399932861328, 2.637500047683716, 2.5769999027252197, 2.5629000663757324, 2.5459001064300537, 2.544800043106079, 2.5264999866485596, 2.509999990463257, 2.411799907684326, 2.396199941635132, 2.3703999519348145, 2.3635001182556152, 2.3624000549316406, 2.3417999744415283, 2.341599941253662, 2.3245999813079834, 2.3229000568389893, 2.3176000118255615, 2.31469988822937, 2.3092000484466553, 2.2883999347686768, 2.28439998626709, 2.2832000255584717, 2.2788000106811523, 2.237499952316284, 1.9739999771118164, 1.906999945640564, 2.25819993019104, 1.898900032043457, 1.7157000303268433, 1.739799976348877, 1.7798999547958374, 1.8621000051498413, 1.7264000177383423, 1.5541000366210938, 1.2307000160217285, 0.9670000076293945, 1.438099980354309, 0.9072999954223633, 1.423699975013733, 0.6583999991416931, 0.9383000135421753, 0.6421999931335449, 1.5327999591827393, 1.1466000080108643, 0.9736999869346619, 0.34369999170303345, 0.35120001435279846, 1.207900047302246, 0.15029999613761902, 0.5426999926567078, 0.8349000215530396, 0.6353999972343445, 0.646399974822998, 0.5996999740600586, 0.02879999950528145, 0.031700000166893005, 0.09549999982118607, 0.6118999719619751, 0.06909999996423721, 2.7448999881744385, 2.5641000270843506, 2.5397000312805176, 2.536600112915039, 2.526700019836426, 2.5129001140594482, 2.512200117111206, 2.5090999603271484, 2.500499963760376, 2.487799882888794, 2.414400100708008, 2.3884999752044678, 2.3738999366760254, 2.3726999759674072, 2.3501999378204346, 2.34879994392395, 2.3475000858306885, 2.3447999954223633, 2.3399999141693115, 2.3059000968933105, 2.301800012588501, 2.2892000675201416, 2.28410005569458, 2.2660000324249268, 2.259000062942505, 2.255000114440918, 2.247999906539917, 2.2471001148223877, 2.245800018310547, 2.228100061416626, 2.0769999027252197, 2.0720999240875244, 2.143899917602539, 1.919600009918213, 1.951200008392334, 1.7791999578475952, 2.069000005722046, 1.6825000047683716, 1.9420000314712524, 1.6444000005722046, 1.9179999828338623, 2.035599946975708, 1.483199954032898, 1.626099944114685, 1.3055000305175781, 1.393399953842163, 2.026400089263916, 1.440999984741211, 1.0475000143051147, 1.0906000137329102, 0.710099995136261, 1.2900999784469604, 0.8959000110626221, 0.8998000025749207, 0.9156000018119812, 0.5580999851226807, 0.3822999894618988, 0.23469999432563782, 0.305400013923645, 0.7049999833106995, 0.3939000070095062, 0.14419999718666077, 0.1776999980211258, 0.012600000016391277, 0.31200000643730164, 0.2799000144004822, 0.0632999986410141, 0.2736999988555908, -0.21660000085830688, 2.957200050354004, 2.953700065612793, 2.9054999351501465, 2.8480000495910645, 2.8060998916625977, 2.7474000453948975, 2.7416000366210938, 2.7044999599456787, 2.669100046157837, 2.663300037384033, 2.645699977874756, 2.6296000480651855, 2.615499973297119, 2.575500011444092, 2.571199893951416, 2.551100015640259, 2.541599988937378, 2.523200035095215, 2.5037999153137207, 2.4941999912261963, 2.490999937057495, 2.4781999588012695, 2.4760000705718994, 2.4746999740600586, 2.4707000255584717, 2.4704999923706055, 2.4484000205993652, 2.4439001083374023, 2.408600091934204, 2.407599925994873, 2.384200096130371, 2.3742001056671143, 2.234600067138672, 2.2551000118255615, 2.273099899291992, 2.298099994659424, 2.226900100708008, 1.9470000267028809, 2.1540000438690186, 2.18969988822937, 1.510699987411499, 2.0025999546051025, 1.8812999725341797, 1.1353000402450562, 1.7157000303268433, 1.5532000064849854, 1.6763999462127686, 1.4699000120162964, 1.1578999757766724, 0.8281000256538391, 1.5018999576568604, 1.6211999654769897, 1.2698999643325806, 1.8710999488830566, 0.8799999952316284, 1.2019000053405762, 0.909500002861023, 1.3487000465393066, 1.1448999643325806, 1.2342000007629395, 0.2612999975681305, 0.27630001306533813, 0.9017000198364258, 0.6593000292778015, 1.1348999738693237, 0.8259000182151794, 0.3109999895095825, 0.7590000033378601, 0.019600000232458115, -0.08479999750852585, -0.04490000009536743, 0.6150000095367432, 0.1265999972820282, -0.3659999966621399, -0.052799999713897705, 0.6237999796867371, 0.3752000033855438, -0.16519999504089355, 0.23309999704360962, 4.06279993057251, 3.6946001052856445, 3.5272998809814453, 3.498699903488159, 3.424999952316284, 3.394399881362915, 3.3080999851226807, 3.2881999015808105, 3.206399917602539, 3.1749000549316406, 3.1185998916625977, 3.113600015640259, 3.1082000732421875, 3.0943000316619873, 3.0875000953674316, 3.0213000774383545, 3.0028998851776123, 2.9647998809814453, 2.941699981689453, 2.9337000846862793, 2.932499885559082, 2.9275999069213867, 2.9275999069213867, 2.92549991607666, 2.903899908065796, 2.900599956512451, 2.885499954223633, 2.883500099182129, 2.8803999423980713, 2.8510000705718994, 2.830199956893921, 2.828900098800659, 2.701900005340576, 2.6468000411987305, 2.6222000122070312, 2.6143999099731445, 2.4268999099731445, 2.072000026702881, 2.3431999683380127, 1.8007999658584595, 2.1373000144958496, 2.398099899291992, 1.5923000574111938, 2.466099977493286, 2.3661000728607178, 1.8366999626159668, 2.077699899673462, 2.339900016784668, 2.361999988555908, 1.819100022315979, 1.5341999530792236, 1.035599946975708, 1.444599986076355, 0.9660000205039978, 1.3485000133514404, 0.8719000220298767, 0.5354999899864197, 0.6460999846458435, 0.8119000196456909, 1.1196000576019287, 0.1031000018119812, 0.09860000014305115, 0.43209999799728394, 0.9846000075340271, -0.08959999680519104, -0.07670000195503235, -0.3479999899864197, 4.376699924468994, 3.7381999492645264, 3.64520001411438, 3.5855000019073486, 3.52239990234375, 3.496500015258789, 3.4093000888824463, 3.406399965286255, 3.3940000534057617, 3.3850998878479004, 3.2952001094818115, 3.2597999572753906, 3.253700017929077, 3.2423999309539795, 3.222100019454956, 3.212399959564209, 3.206899881362915, 3.1751999855041504, 3.166599988937378, 3.1658999919891357, 3.162400007247925, 3.1547999382019043, 3.141200065612793, 3.1340999603271484, 3.1273000240325928, 3.115999937057495, 3.0913000106811523, 3.08870005607605, 3.088599920272827, 3.0871999263763428, 3.0306999683380127, 2.9935998916625977, 2.8225998878479004, 2.9639999866485596, 3.0281999111175537, 2.649399995803833, 2.5766000747680664, 1.9905999898910522, 1.7590999603271484, 2.5920000076293945, 2.1679000854492188, 1.1663000583648682, 1.2699999809265137, 1.070099949836731, 0.7189000248908997, 0.9192000031471252, 0.4641000032424927, 0.35899999737739563, 2.0569000244140625, 2.4558000564575195, 0.210999995470047, -0.014100000262260437, 0.3483000099658966, 2.0613999366760254, 0.541700005531311, 0.9922000169754028, 1.6958999633789062, 1.4630000591278076, 0.54830002784729, 0.41440001130104065, 0.8428999781608582, 1.0791000127792358, 0.21320000290870667, -0.28700000047683716, 0.7081000208854675, -0.30660000443458557, 0.38609999418258667, 0.7960000038146973, 0.5806999802589417, 0.1624000072479248, 0.13459999859333038, -0.5206000208854675, 0.12449999898672104, -0.17970000207424164, -0.021400000900030136, -0.14309999346733093, 4.314199924468994, 4.002699851989746, 3.558799982070923, 3.55679988861084, 3.4937000274658203, 3.477099895477295, 3.4723000526428223, 3.4138998985290527, 3.400599956512451, 3.396699905395508, 3.3673999309539795, 3.3515000343322754, 3.3326001167297363, 3.3264000415802, 3.303999900817871, 3.2920000553131104, 3.2646000385284424, 3.2464001178741455, 3.2227001190185547, 3.2177999019622803, 3.210200071334839, 3.208400011062622, 3.1956000328063965, 3.1933999061584473, 3.188499927520752, 3.178100109100342, 3.1760001182556152, 3.1658999919891357, 3.161099910736084, 3.139899969100952, 3.1256000995635986, 2.6905999183654785, 2.588200092315674, 2.5388998985290527, 2.552299976348877, 1.5403000116348267, 2.612799882888794, 2.810800075531006, 2.191200017929077, 1.294100046157837, 2.063699960708618, 2.2116000652313232, 0.9391999840736389, 0.8152999877929688, 1.3128000497817993, 0.2459000051021576, 1.2496999502182007, 0.2214999943971634, 0.06430000066757202, -0.0746999979019165, 1.4430999755859375, 0.4438000023365021, 2.024399995803833, 0.1039000004529953, 0.4814999997615814, 0.047200001776218414, 1.3014999628067017, -0.26249998807907104, -0.46880000829696655, 0.24740000069141388, 0.17829999327659607, -0.42089998722076416, -0.40869998931884766, 0.19689999520778656, 0.1103999987244606, 0.07360000163316727, 0.24169999361038208, 3.8522000312805176, 3.7083001136779785, 3.5959999561309814, 3.5481998920440674, 3.5016000270843506, 3.474100112915039, 3.4370999336242676, 3.4022998809814453, 3.4019999504089355, 3.398099899291992, 3.3740999698638916, 3.3612000942230225, 3.358599901199341, 3.356300115585327, 3.325700044631958, 3.286900043487549, 3.2471001148223877, 3.1414999961853027, 3.1393001079559326, 3.1324000358581543, 3.1212000846862793, 3.11299991607666, 3.098400115966797, 3.088399887084961, 3.081399917602539, 3.0601999759674072, 3.045300006866455, 3.0429999828338623, 3.0423998832702637, 3.0336999893188477, 3.009700059890747, 2.972399950027466, 2.8664000034332275, 2.9512999057769775, 2.7197999954223633, 2.705199956893921, 2.9381000995635986, 2.378999948501587, 1.8573999404907227, 1.0191999673843384, 0.9290000200271606, 0.8740000128746033, 1.0753999948501587, 1.3166999816894531, 1.3307000398635864, 1.1777000427246094, 0.4458000063896179, 0.5819000005722046, -0.0010999999940395355, 1.5576000213623047, 1.5480999946594238, 0.3310000002384186, 0.5199999809265137, 1.9306999444961548, 0.7376000285148621, -0.18209999799728394, 0.289900004863739, -0.263700008392334, -0.4165000021457672, 0.6202999949455261, 0.6090999841690063, -0.3093999922275543, 0.4072999954223633, 0.179299995303154, 0.8073999881744385, 0.6035000085830688, -0.5042999982833862, 0.19460000097751617, 0.0706000030040741, 3.765199899673462, 3.670799970626831, 3.651099920272827, 3.6373000144958496, 3.5185000896453857, 3.5136001110076904, 3.371299982070923, 3.338599920272827, 3.316200017929077, 3.315000057220459, 3.300600051879883, 3.2276999950408936, 3.211899995803833, 3.1921000480651855, 3.184799909591675, 3.165299892425537, 3.157399892807007, 3.1572000980377197, 3.1559998989105225, 3.1117000579833984, 3.1089999675750732, 3.085599899291992, 3.0831000804901123, 3.0404999256134033, 2.9918999671936035, 2.989300012588501, 2.9881999492645264, 2.986999988555908, 2.9795000553131104, 2.974600076675415, 2.9423999786376953, 2.9502999782562256, 2.9553000926971436, 2.8849000930786133, 2.9142000675201416, 2.908799886703491, 2.8127999305725098, 2.8877999782562256, 2.564300060272217, 2.414099931716919, 2.4465999603271484, 2.3317999839782715, 1.9246000051498413, 2.587599992752075, 2.2414000034332275, 2.3461999893188477, 2.0660998821258545, 2.035599946975708, 2.220599889755249, 1.103600025177002, 1.1850999593734741, 1.3143999576568604, 1.1784000396728516, 1.3073999881744385, 1.8658000230789185, 1.691100001335144, 2.003700017929077, 1.930299997329712, 1.617799997329712, 0.3955000042915344, 2.387399911880493, 1.152899980545044, 1.871500015258789, 0.9990000128746033, 0.8888000249862671, 1.441100001335144, 0.18440000712871552, 0.9282000064849854, 0.8302000164985657, 0.4918999969959259, 0.9416999816894531, 0.08940000087022781, -0.31029999256134033, 0.18950000405311584, 0.4668999910354614, -0.03359999880194664, -0.05400000140070915, 3.782900094985962, 3.693000078201294, 3.652600049972534, 3.628999948501587, 3.611299991607666, 3.559999942779541, 3.5432000160217285, 3.483099937438965, 3.4716999530792236, 3.4553000926971436, 3.400899887084961, 3.3526999950408936, 3.3477001190185547, 3.344099998474121, 3.335400104522705, 3.3269999027252197, 3.274899959564209, 3.2049999237060547, 3.188699960708618, 3.1842000484466553, 3.172300100326538, 3.1631999015808105, 3.1565001010894775, 3.1445999145507812, 3.1440999507904053, 3.132200002670288, 3.1124000549316406, 3.1059999465942383, 3.0987000465393066, 3.097399950027466, 3.0952000617980957, 3.055000066757202, 3.079400062561035, 2.709199905395508, 2.981800079345703, 2.7792999744415283, 2.3052000999450684, 2.3096001148223877, 2.5961999893188477, 2.312299966812134, 1.8638999462127686, 1.4947999715805054, 2.8136000633239746, 0.4936999976634979, 1.0383000373840332, 2.509999990463257, 0.789900004863739, 0.16940000653266907, 0.3986999988555908, 1.6646000146865845, 0.8603000044822693, 0.5425000190734863, 1.205299973487854, 0.10899999737739563, 1.250499963760376, 0.16110000014305115, 1.073099970817566, 0.7953000068664551, 0.5184999704360962, 0.9714000225067139, 2.04229998588562, -0.07289999723434448, 0.43880000710487366, 0.48910000920295715, 0.47909998893737793, 0.1906999945640564, 0.25040000677108765, 0.2946000099182129, -0.4027999937534332, 4.7342000007629395, 4.53439998626709, 4.453199863433838, 4.309000015258789, 4.260200023651123, 4.126200199127197, 3.9911999702453613, 3.9628000259399414, 3.762700080871582, 3.759000062942505, 3.7467000484466553, 3.7218000888824463, 3.69950008392334, 3.691200017929077, 3.6898999214172363, 3.6846001148223877, 3.6810998916625977, 3.6798999309539795, 3.674999952316284, 3.672600030899048, 3.672499895095825, 3.6194000244140625, 3.613100051879883, 3.5875000953674316, 3.584399938583374, 3.55649995803833, 3.5515999794006348, 3.535399913787842, 3.5281999111175537, 3.5244998931884766, 3.5164999961853027, 3.5002999305725098, 3.2435998916625977, 3.3589000701904297, 3.4130001068115234, 3.403899908065796, 3.003999948501587, 3.2244999408721924, 2.8766000270843506, 2.6623001098632812, 2.2423999309539795, 2.367500066757202, 3.0945000648498535, 3.031100034713745, 2.0394999980926514, 2.9433999061584473, 2.556299924850464, 2.439500093460083, 2.8708999156951904, 1.9278000593185425, 2.7976999282836914, 1.5954999923706055, 1.9809999465942383, 1.4407999515533447, 0.819100022315979, 0.07900000363588333, 1.1419999599456787, 0.4205999970436096, 0.9144999980926514, -0.43369999527931213, 1.11080002784729, 0.7609999775886536, 0.2775999903678894, 0.2944999933242798, -0.050999999046325684, -0.09049999713897705, -0.4803999960422516, 0.6895999908447266, 0.36890000104904175, 0.02449999935925007, -0.6470000147819519, 4.848599910736084, 4.607999801635742, 4.4293999671936035, 4.2027997970581055, 4.167099952697754, 3.867300033569336, 3.8282999992370605, 3.8241000175476074, 3.8029000759124756, 3.7960000038146973, 3.7869999408721924, 3.7843000888824463, 3.7832000255584717, 3.781100034713745, 3.7720999717712402, 3.7567999362945557, 3.6531999111175537, 3.6440000534057617, 3.6305999755859375, 3.613800048828125, 3.6131999492645264, 3.6089000701904297, 3.6082000732421875, 3.6078999042510986, 3.6078999042510986, 3.6064999103546143, 3.6061999797821045, 3.501800060272217, 3.484299898147583, 3.477099895477295, 3.454900026321411, 3.4618000984191895, 3.3343000411987305, 2.8773999214172363, 3.2079999446868896, 2.9096999168395996, 2.7560999393463135, 2.535799980163574, 2.4674999713897705, 2.7706000804901123, 2.0127999782562256, 1.750100016593933, 2.564199924468994, 1.8144999742507935, 2.1698999404907227, 2.661400079727173, 2.086400032043457, 2.0678000450134277, 2.700000047683716, 1.5425000190734863, 2.634399890899658, 0.23270000517368317, 2.621000051498413, 0.8664000034332275, 1.132099986076355, 0.9724000096321106, 1.7913999557495117, 0.06030000001192093, 0.2913999855518341, 0.06849999725818634, 0.5212000012397766, 0.4586000144481659, 0.5453000068664551, 1.0443999767303467, 0.7822999954223633, -0.1680999994277954, 0.1770000010728836, -0.2305999994277954, -0.04129999876022339, 0.8191999793052673], \"logprob\": [30.0, 29.0, 28.0, 27.0, 26.0, 25.0, 24.0, 23.0, 22.0, 21.0, 20.0, 19.0, 18.0, 17.0, 16.0, 15.0, 14.0, 13.0, 12.0, 11.0, 10.0, 9.0, 8.0, 7.0, 6.0, 5.0, 4.0, 3.0, 2.0, 1.0, -7.788400173187256, -8.391400337219238, -8.18970012664795, -8.740599632263184, -8.744000434875488, -8.656299591064453, -8.411800384521484, -8.74530029296875, -9.005399703979492, -8.895700454711914, -8.70359992980957, -8.506600379943848, -8.543899536132812, -8.15310001373291, -9.072400093078613, -8.957300186157227, -7.068999767303467, -9.075900077819824, -8.759900093078613, -9.076399803161621, -9.142000198364258, -9.142200469970703, -9.141900062561035, -9.017600059509277, -9.142999649047852, -9.07859992980957, -9.21310043334961, -9.14430046081543, -9.017900466918945, -8.566900253295898, -8.423600196838379, -8.715299606323242, -8.908900260925293, -8.090499877929688, -8.684900283813477, -7.311999797821045, -7.540999889373779, -7.595300197601318, -6.956699848175049, -6.0929999351501465, -7.329599857330322, -8.151399612426758, -8.27079963684082, -6.540900230407715, -7.604599952697754, -7.433599948883057, -7.964200019836426, -6.881100177764893, -7.835999965667725, -7.764500141143799, -7.063600063323975, -6.724800109863281, -6.9654998779296875, -6.572400093078613, -5.674600124359131, -6.5854997634887695, -6.8471999168396, -6.80210018157959, -7.230100154876709, -7.253600120544434, -6.579999923706055, -5.930799961090088, -6.610499858856201, -6.375, -7.090199947357178, -6.551499843597412, -5.142899990081787, -5.802999973297119, -6.174900054931641, -6.853600025177002, -5.919300079345703, -6.399600028991699, -5.870500087738037, -5.8043999671936035, -6.013999938964844, -5.60230016708374, -5.485599994659424, -6.257900238037109, -5.2281999588012695, -5.815800189971924, -6.1682000160217285, -5.957699775695801, -5.639599800109863, -5.906300067901611, -6.029300212860107, -5.875800132751465, -5.632699966430664, -5.6230998039245605, -5.627299785614014, -5.898200035095215, -6.1996002197265625, -6.209199905395508, -6.087399959564209, -6.192800045013428, -6.009799957275391, -6.1178998947143555, -5.970099925994873, -6.058300018310547, -6.1442999839782715, -5.582200050354004, -4.687399864196777, -5.65880012512207, -7.4390997886657715, -4.518599987030029, -7.388299942016602, -8.16919994354248, -7.724400043487549, -6.420300006866455, -6.0792999267578125, -6.32420015335083, -7.456500053405762, -7.452300071716309, -8.073599815368652, -8.241900444030762, -7.639800071716309, -8.684800148010254, -8.614100456237793, -6.8302998542785645, -6.597499847412109, -7.853899955749512, -6.2459001541137695, -7.197800159454346, -5.393899917602539, -9.052900314331055, -9.057299613952637, -9.193499565124512, -8.64680004119873, -9.061699867248535, -9.199999809265137, -7.116700172424316, -5.974400043487549, -6.8404998779296875, -7.70989990234375, -6.298699855804443, -7.470799922943115, -5.661099910736084, -5.458000183105469, -4.793499946594238, -5.473800182342529, -4.907800197601318, -5.268099784851074, -6.841899871826172, -5.726600170135498, -5.310699939727783, -5.275300025939941, -6.469200134277344, -5.836599826812744, -5.841100215911865, -6.166299819946289, -5.299300193786621, -4.9944000244140625, -5.211599826812744, -5.993199825286865, -5.376100063323975, -5.356100082397461, -5.647799968719482, -5.689899921417236, -5.498700141906738, -5.617099761962891, -5.526500225067139, -5.731200218200684, -5.866099834442139, -5.819300174713135, -5.865099906921387, -7.795400142669678, -8.069499969482422, -8.003399848937988, -8.468400001525879, -8.607199668884277, -8.615799903869629, -8.94219970703125, -8.788100242614746, -9.010299682617188, -8.607799530029297, -8.601799964904785, -8.763899803161621, -8.764100074768066, -7.6666998863220215, -6.7204999923706055, -8.232399940490723, -8.93690013885498, -8.941800117492676, -8.8016996383667, -9.157899856567383, -8.701600074768066, -9.160300254821777, -8.976799964904785, -9.144000053405762, -8.991299629211426, -8.474800109863281, -9.15060043334961, -8.884400367736816, -5.922699928283691, -8.935400009155273, -7.159200191497803, -7.673099994659424, -7.448400020599365, -7.265699863433838, -6.379000186920166, -7.116199970245361, -5.310100078582764, -4.544099807739258, -7.768899917602539, -5.316800117492676, -5.432000160217285, -5.846399784088135, -4.779399871826172, -4.280600070953369, -6.55049991607666, -4.893400192260742, -6.8246002197265625, -5.214700222015381, -5.186600208282471, -5.998000144958496, -5.782800197601318, -5.615900039672852, -5.278200149536133, -5.312099933624268, -6.948699951171875, -5.104400157928467, -5.748300075531006, -4.894100189208984, -4.8383002281188965, -5.298799991607666, -5.636099815368652, -5.774600028991699, -5.28000020980835, -5.338699817657471, -6.040200233459473, -5.293099880218506, -5.079800128936768, -5.570099830627441, -5.104100227355957, -5.599800109863281, -5.300099849700928, -5.5391998291015625, -5.682600021362305, -5.610300064086914, -5.627299785614014, -5.7058000564575195, -7.6828999519348145, -7.0005998611450195, -7.769700050354004, -7.560400009155273, -7.702000141143799, -7.969399929046631, -7.795000076293945, -7.9903998374938965, -7.1128997802734375, -8.367600440979004, -8.365799903869629, -6.629199981689453, -8.234000205993652, -8.369999885559082, -6.005899906158447, -8.236900329589844, -8.140600204467773, -8.249600410461426, -8.387200355529785, -8.550100326538086, -5.530700206756592, -7.039999961853027, -8.550399780273438, -8.399299621582031, -7.312699794769287, -8.557900428771973, -7.120500087738037, -8.03689956665039, -6.373300075531006, -6.16379976272583, -5.611299991607666, -7.348199844360352, -7.445000171661377, -6.247900009155273, -6.904799938201904, -7.708600044250488, -6.92519998550415, -5.617000102996826, -6.7342000007629395, -6.821700096130371, -6.051499843597412, -5.881899833679199, -7.2342000007629395, -6.844099998474121, -5.99459981918335, -6.661499977111816, -5.606599807739258, -5.289400100708008, -6.00540018081665, -5.203800201416016, -6.322199821472168, -6.090400218963623, -6.196100234985352, -5.704899787902832, -4.651299953460693, -6.193699836730957, -5.212200164794922, -6.075799942016602, -6.089399814605713, -5.804200172424316, -6.55649995803833, -5.660200119018555, -6.148200035095215, -5.826900005340576, -6.012800216674805, -5.853499889373779, -5.694499969482422, -5.685500144958496, -5.708000183105469, -5.90910005569458, -5.815499782562256, -5.792799949645996, -5.816500186920166, -5.873600006103516, -5.998700141906738, -6.003699779510498, -6.038599967956543, -6.047900199890137, -7.442500114440918, -7.793499946594238, -8.125, -7.717899799346924, -5.453700065612793, -7.724599838256836, -7.327600002288818, -7.769800186157227, -7.763700008392334, -6.665299892425537, -7.490799903869629, -6.945400238037109, -6.6975998878479, -8.297699928283691, -8.409799575805664, -7.594799995422363, -7.837800025939941, -7.322000026702881, -8.046699523925781, -6.268400192260742, -8.296299934387207, -8.432000160217285, -8.20460033416748, -6.774600028991699, -4.124599933624268, -8.308899879455566, -8.236800193786621, -6.700099945068359, -7.37939977645874, -7.788700103759766, -7.542300224304199, -6.536499977111816, -4.777200222015381, -4.714300155639648, -7.678199768066406, -5.064000129699707, -4.230800151824951, -5.0046000480651855, -5.281599998474121, -5.767399787902832, -6.153200149536133, -5.739999771118164, -5.358699798583984, -4.8902997970581055, -5.788000106811523, -5.101799964904785, -5.9334001541137695, -4.7932000160217285, -5.231599807739258, -4.843900203704834, -6.099400043487549, -5.690499782562256, -5.527599811553955, -4.993100166320801, -5.044600009918213, -5.853300094604492, -5.0569000244140625, -5.402400016784668, -5.614200115203857, -5.607800006866455, -5.645999908447266, -5.644499778747559, -5.435200214385986, -5.444900035858154, -5.529099941253662, -5.688799858093262, -5.763400077819824, -5.712500095367432, -8.404999732971191, -7.039000034332275, -7.181700229644775, -8.443099975585938, -8.383600234985352, -8.405900001525879, -7.571400165557861, -7.578000068664551, -8.362700462341309, -7.8831000328063965, -8.1141996383667, -8.156999588012695, -8.40369987487793, -6.423699855804443, -8.420000076293945, -8.302000045776367, -8.406999588012695, -8.165499687194824, -7.98330020904541, -8.478599548339844, -8.10200023651123, -8.01710033416748, -7.808499813079834, -6.506800174713135, -5.374499797821045, -8.382599830627441, -8.506199836730957, -8.390000343322754, -8.705599784851074, -3.869499921798706, -4.672399997711182, -7.1097002029418945, -5.043300151824951, -5.928299903869629, -4.989799976348877, -6.842800140380859, -4.759699821472168, -6.263599872589111, -5.106800079345703, -6.401899814605713, -7.035699844360352, -5.1381001472473145, -6.066999912261963, -5.407599925994873, -5.668000221252441, -7.221700191497803, -5.853099822998047, -4.96150016784668, -5.358500003814697, -4.6265997886657715, -6.029699802398682, -5.479100227355957, -5.562300205230713, -5.673799991607666, -5.286300182342529, -5.103799819946289, -4.972499847412109, -5.171199798583984, -5.587399959564209, -5.4344000816345215, -5.307400226593018, -5.446800231933594, -5.383200168609619, -5.520500183105469, -5.577400207519531, -5.624000072479248, -5.67140007019043, -5.680600166320801, -7.564199924468994, -7.567299842834473, -7.396699905395508, -8.085700035095215, -8.133199691772461, -7.8942999839782715, -8.197600364685059, -7.9593000411987305, -8.094799995422363, -7.651000022888184, -7.8755998611450195, -7.667799949645996, -8.143500328063965, -7.820099830627441, -8.190600395202637, -7.9882001876831055, -8.363699913024902, -7.791999816894531, -8.441900253295898, -7.636099815368652, -8.422800064086914, -7.6178998947143555, -8.457799911499023, -8.469499588012695, -7.662700176239014, -8.138299942016602, -7.943600177764893, -8.414999961853027, -8.593199729919434, -8.384099960327148, -7.3649001121521, -7.56220006942749, -5.203100204467773, -5.891499996185303, -6.7779998779296875, -7.2291998863220215, -7.100900173187256, -5.942500114440918, -6.813799858093262, -7.149899959564209, -5.114299774169922, -6.671999931335449, -6.450300216674805, -5.045899868011475, -6.232800006866455, -5.921199798583984, -6.190400123596191, -5.824100017547607, -5.445000171661377, -5.016200065612793, -6.072500228881836, -6.286300182342529, -5.774700164794922, -6.696100234985352, -5.4344000816345215, -5.8871002197265625, -5.524899959564209, -6.1020002365112305, -5.886000156402588, -6.122900009155273, -5.134500026702881, -5.209799766540527, -5.814499855041504, -5.715799808502197, -6.091300010681152, -5.890999794006348, -5.546299934387207, -5.877799987792969, -5.43209981918335, -5.421500205993652, -5.521500110626221, -5.834099769592285, -5.701700210571289, -5.573200225830078, -5.677299976348877, -5.90910005569458, -5.886499881744385, -5.852499961853027, -5.9145002365112305, -5.486599922180176, -5.36329984664917, -7.464399814605713, -6.602099895477295, -4.149400234222412, -6.044400215148926, -6.006499767303467, -7.197000026702881, -5.501200199127197, -6.49399995803833, -7.868500232696533, -7.866700172424316, -7.663099765777588, -5.0218000411987305, -7.851099967956543, -7.905700206756592, -7.629700183868408, -7.900100231170654, -7.449100017547607, -7.497200012207031, -7.85129976272583, -7.706999778747559, -7.254300117492676, -7.309100151062012, -7.9542999267578125, -7.563399791717529, -7.988399982452393, -7.34060001373291, -7.990799903869629, -7.922599792480469, -4.607399940490723, -5.56220006942749, -4.94350004196167, -5.143599987030029, -5.524400234222412, -6.136300086975098, -5.747499942779541, -5.049499988555908, -5.86359977722168, -4.6483001708984375, -5.6381001472473145, -6.253499984741211, -4.558700084686279, -6.474599838256836, -6.323299884796143, -5.322800159454346, -5.913700103759766, -6.388599872589111, -6.434599876403809, -5.706299781799316, -5.347300052642822, -5.207600116729736, -5.603899955749512, -5.215199947357178, -5.556700229644775, -5.389800071716309, -5.292799949645996, -5.377500057220459, -5.480500221252441, -5.59660005569458, -5.292799949645996, -5.387499809265137, -5.513000011444092, -5.618299961090088, -5.541200160980225, -5.553299903869629, -5.555200099945068, -6.832699775695801, -7.334099769592285, -7.11929988861084, -7.456200122833252, -7.382699966430664, -6.81689977645874, -7.716599941253662, -7.313499927520752, -7.462500095367432, -7.640699863433838, -7.710000038146973, -7.332200050354004, -7.365699768066406, -7.341800212860107, -7.624199867248535, -7.385300159454346, -7.803299903869629, -7.721199989318848, -7.7241997718811035, -7.398900032043457, -7.713500022888184, -6.57859992980957, -7.0584001541137695, -7.918000221252441, -7.855999946594238, -7.870999813079834, -7.785699844360352, -7.76669979095459, -7.314899921417236, -7.055300235748291, -7.333700180053711, -7.212100028991699, -6.785600185394287, -7.298999786376953, -7.56820011138916, -6.640200138092041, -6.822500228881836, -5.992099761962891, -5.685400009155273, -6.904900074005127, -6.361299991607666, -5.107100009918213, -5.4430999755859375, -5.4156999588012695, -5.125500202178955, -5.395199775695801, -5.160399913787842, -5.105000019073486, -6.523900032043457, -6.817399978637695, -5.240699768066406, -5.22130012512207, -5.508999824523926, -6.6184000968933105, -5.741499900817871, -6.042699813842773, -6.431000232696533, -6.3470001220703125, -5.900700092315674, -5.9319000244140625, -6.145199775695801, -6.240699768066406, -5.93779993057251, -5.763599872589111, -6.129000186920166, -5.792699813842773, -6.0457000732421875, -6.163099765777588, -6.125899791717529, -6.030600070953369, -6.035399913787842, -5.916399955749512, -6.046199798583984, -6.0121002197265625, -6.045100212097168, -6.140399932861328, -5.399799823760986, -5.359099864959717, -6.921299934387207, -6.928800106048584, -7.349299907684326, -7.556000232696533, -7.653600215911865, -7.048999786376953, -7.2947001457214355, -7.181000232696533, -7.626399993896484, -7.628200054168701, -7.667600154876709, -7.659299850463867, -7.674499988555908, -7.690299987792969, -7.421299934387207, -7.629000186920166, -6.573500156402588, -7.753600120544434, -7.606900215148926, -7.603799819946289, -7.630000114440918, -7.627999782562256, -7.619699954986572, -7.872900009155273, -7.311100006103516, -7.280099868774414, -7.280799865722656, -7.239500045776367, -7.231400012969971, -5.990099906921387, -6.085899829864502, -6.049300193786621, -6.220900058746338, -5.688499927520752, -6.911300182342529, -7.138599872589111, -6.518899917602539, -5.64109992980957, -6.453400135040283, -6.639900207519531, -5.6996002197265625, -5.62060022354126, -6.077300071716309, -5.378600120544434, -6.059800148010254, -5.465799808502197, -5.399700164794922, -5.411499977111816, -6.320899963378906, -5.839399814605713, -6.683000087738037, -5.753399848937988, -5.950399875640869, -5.7581000328063965, -6.373000144958496, -5.748600006103516, -5.676000118255615, -5.979899883270264, -5.992499828338623, -5.816800117492676, -5.885300159454346, -6.0868000984191895, -6.111700057983398, -6.1194000244140625, -6.1768999099731445, -5.734099864959717, -7.317699909210205, -6.5152997970581055, -6.388000011444092, -7.285999774932861, -6.8917999267578125, -6.8927998542785645, -7.2881999015808105, -7.286799907684326, -7.288599967956543, -7.286300182342529, -7.29040002822876, -7.290599822998047, -7.287899971008301, -6.611400127410889, -5.808800220489502, -7.289100170135498, -7.29040002822876, -7.285099983215332, -7.28849983215332, -7.286900043487549, -7.949900150299072, -7.287600040435791, -7.944699764251709, -7.947199821472168, -7.947800159454346, -7.284900188446045, -7.957200050354004, -7.949399948120117, -7.948999881744385, -7.293300151824951, -6.891300201416016, -6.610000133514404, -7.2870001792907715, -6.054999828338623, -6.178299903869629, -7.287399768829346, -6.191400051116943, -5.817200183868408, -5.208099842071533, -5.263999938964844, -5.348199844360352, -5.593900203704834, -5.912099838256836, -6.044400215148926, -6.01230001449585, -5.551400184631348, -5.691500186920166, -5.465099811553955, -6.321100234985352, -6.358699798583984, -5.791399955749512, -5.888400077819824, -6.569200038909912, -6.024499893188477, -5.658699989318848, -5.880799770355225, -5.659599781036377, -5.623799800872803, -6.026199817657471, -6.0269999504089355, -5.761000156402588, -6.028600215911865, -6.035200119018555, -6.181600093841553, -6.194499969482422, -6.128799915313721, -6.169000148773193, -6.173500061035156, -6.929800033569336, -7.32859992980957, -7.329599857330322, -7.332200050354004, -7.477399826049805, -6.45959997177124, -7.2083001136779785, -7.337600231170654, -7.365300178527832, -7.491399765014648, -6.57480001449585, -7.3368000984191895, -7.469299793243408, -7.477200031280518, -6.957900047302246, -6.690199851989746, -7.331299781799316, -7.328000068664551, -7.025899887084961, -7.051599979400635, -7.529600143432617, -7.350900173187256, -6.936500072479248, -7.993000030517578, -7.98829984664917, -7.979800224304199, -7.986800193786621, -8.028900146484375, -7.989999771118164, -8.006600379943848, -7.01200008392334, -7.323200225830078, -7.445499897003174, -7.0914998054504395, -7.3302998542785645, -7.324999809265137, -6.673900127410889, -7.215400218963623, -5.642499923706055, -5.053899765014648, -5.680300235748291, -5.81279993057251, -4.956900119781494, -6.52239990234375, -5.905099868774414, -6.14109992980957, -5.710400104522705, -5.754799842834473, -6.110899925231934, -4.753699779510498, -4.984899997711182, -5.134699821472168, -5.002799987792969, -5.317599773406982, -5.962800025939941, -5.818600177764893, -6.112400054931641, -6.061200141906738, -5.832900047302246, -5.081099987030029, -6.457399845123291, -5.672599792480469, -6.152400016784668, -5.750699996948242, -5.7006001472473145, -5.996500015258789, -5.440199851989746, -5.788000106811523, -5.77269983291626, -5.720799922943115, -5.916200160980225, -5.743100166320801, -5.761899948120117, -5.834199905395508, -5.908199787139893, -5.861999988555908, -5.8983001708984375, -7.215000152587891, -7.290599822998047, -7.218200206756592, -7.346399784088135, -6.742000102996826, -7.421800136566162, -7.438899993896484, -7.251200199127197, -7.217800140380859, -7.366300106048584, -6.557400226593018, -7.304200172424316, -7.219299793243408, -7.2154998779296875, -7.225100040435791, -7.906700134277344, -7.135000228881836, -7.215700149536133, -7.4654998779296875, -6.206900119781494, -7.881999969482422, -7.222799777984619, -7.873600006103516, -7.1880998611450195, -7.879300117492676, -7.875800132751465, -7.333399772644043, -6.8180999755859375, -7.874499797821045, -7.2204999923706055, -6.747600078582764, -7.13700008392334, -7.381899833679199, -5.264599800109863, -6.819799900054932, -5.811800003051758, -4.872200012207031, -4.9191999435424805, -5.861400127410889, -5.898900032043457, -5.3850998878479, -5.220900058746338, -6.865499973297119, -4.902200222015381, -5.427499771118164, -6.649400234222412, -5.432300090789795, -5.037799835205078, -5.225900173187256, -6.09089994430542, -5.625400066375732, -5.454699993133545, -5.86359977722168, -5.227799892425537, -5.914000034332275, -5.290500164031982, -5.847899913787842, -5.758399963378906, -5.632400035858154, -5.879799842834473, -6.410699844360352, -5.559000015258789, -5.773799896240234, -5.861800193786621, -5.884500026702881, -5.818399906158447, -5.867400169372559, -5.87529993057251, -5.866799831390381, -5.938499927520752, -6.269899845123291, -6.237299919128418, -6.615900039672852, -5.5381999015808105, -6.615799903869629, -6.218900203704834, -6.615300178527832, -7.278800010681152, -7.274499893188477, -7.276599884033203, -7.278299808502197, -6.613999843597412, -7.275599956512451, -7.2779998779296875, -7.292600154876709, -7.275100231170654, -7.275700092315674, -7.278900146484375, -7.280900001525879, -7.2982001304626465, -7.3379998207092285, -7.343900203704834, -7.277400016784668, -7.274600028991699, -7.276800155639648, -7.287499904632568, -7.2789998054504395, -7.272299766540527, -7.274700164794922, -6.169600009918213, -6.615799903869629, -5.344600200653076, -6.219699859619141, -6.546199798583984, -6.61460018157959, -5.37060022354126, -6.218699932098389, -5.509399890899658, -5.01230001449585, -5.513199806213379, -5.694900035858154, -6.660600185394287, -6.635700225830078, -5.707799911499023, -6.614299774169922, -6.2967000007629395, -6.2835001945495605, -6.6132001876831055, -5.932300090789795, -6.5640997886657715, -5.702000141143799, -5.9903998374938965, -5.749300003051758, -5.556000232696533, -5.257800102233887, -5.776400089263916, -5.514400005340576, -5.906099796295166, -5.640999794006348, -6.017199993133545, -5.9552001953125, -5.893099784851074, -5.898399829864502, -5.883500099182129, -5.918799877166748, -5.93209981918335, -6.038400173187256, -6.039599895477295, -6.123199939727783, -6.1331000328063965, -5.861299991607666, -5.8368000984191895, -6.6031999588012695, -6.520199775695801, -6.687300205230713, -7.183700084686279, -6.5192999839782715, -7.182799816131592, -7.180500030517578, -7.18209981918335, -7.184899806976318, -7.179900169372559, -7.19189977645874, -7.181700229644775, -7.188499927520752, -7.213799953460693, -7.180799961090088, -7.182199954986572, -7.1757001876831055, -7.181399822235107, -7.18209981918335, -7.183000087738037, -7.182700157165527, -7.184000015258789, -7.187900066375732, -7.184700012207031, -7.185100078582764, -7.1834001541137695, -7.180699825286865, -7.185999870300293, -5.15939998626709, -6.878699779510498, -5.6184000968933105, -4.913000106811523, -6.123600006103516, -5.4394001960754395, -5.4405999183654785, -5.580399990081787, -5.596099853515625, -6.11929988861084, -5.431700229644775, -5.60699987411499, -6.283599853515625, -5.834099769592285, -6.118899822235107, -6.454800128936768, -6.115699768066406, -6.115099906921387, -6.5142998695373535, -5.832600116729736, -6.512599945068359, -5.231299877166748, -6.520400047302246, -5.595600128173828, -5.749499797821045, -5.696800231933594, -6.1092000007629395, -5.335599899291992, -5.541100025177002, -5.556099891662598, -5.749899864196777, -5.763599872589111, -5.81820011138916, -5.959700107574463, -5.978899955749512, -6.012400150299072, -6.046000003814697, -6.058899879455566, -6.065000057220459, -6.087600231170654]}, \"token.table\": {\"Topic\": [1, 15, 3, 5, 6, 1, 4, 9, 1, 3, 9, 10, 1, 3, 8, 10, 1, 15, 1, 2, 3, 4, 5, 6, 7, 8, 9, 10, 11, 12, 13, 14, 2, 5, 6, 7, 1, 3, 9, 10, 1, 2, 3, 4, 5, 6, 7, 8, 9, 1, 3, 4, 9, 11, 14, 1, 2, 3, 4, 5, 6, 7, 8, 9, 10, 11, 12, 15, 1, 9, 2, 3, 8, 12, 1, 9, 1, 5, 15, 1, 2, 3, 9, 10, 3, 8, 4, 1, 4, 7, 1, 2, 3, 4, 5, 6, 7, 8, 9, 10, 12, 1, 2, 6, 7, 1, 5, 10, 2, 4, 5, 9, 13, 1, 2, 3, 4, 5, 6, 7, 8, 9, 10, 11, 12, 14, 3, 8, 9, 3, 7, 12, 1, 2, 3, 4, 11, 1, 3, 4, 10, 5, 1, 11, 1, 2, 10, 15, 1, 2, 3, 4, 5, 6, 7, 8, 9, 10, 11, 12, 14, 15, 1, 15, 5, 7, 4, 1, 4, 12, 1, 2, 3, 5, 6, 7, 8, 9, 12, 1, 2, 3, 4, 5, 6, 7, 9, 12, 13, 4, 2, 7, 12, 13, 1, 2, 3, 5, 6, 7, 8, 9, 10, 12, 15, 1, 2, 3, 4, 5, 6, 7, 8, 9, 12, 1, 3, 11, 13, 4, 1, 2, 3, 4, 5, 6, 7, 8, 9, 10, 11, 12, 13, 14, 1, 15, 3, 9, 2, 3, 5, 8, 3, 5, 6, 7, 13, 2, 3, 5, 6, 3, 5, 6, 1, 2, 3, 4, 10, 11, 2, 1, 4, 10, 1, 15, 1, 3, 13, 14, 1, 6, 1, 2, 3, 4, 5, 6, 7, 8, 9, 12, 13, 1, 1, 2, 3, 4, 5, 6, 7, 8, 9, 10, 12, 13, 14, 15, 1, 2, 3, 4, 5, 6, 8, 9, 10, 11, 14, 1, 2, 3, 6, 2, 3, 7, 8, 9, 12, 2, 1, 3, 4, 9, 1, 2, 3, 4, 5, 6, 7, 8, 9, 10, 11, 12, 13, 14, 15, 5, 7, 1, 3, 4, 10, 1, 4, 11, 1, 10, 2, 3, 7, 9, 12, 1, 2, 3, 4, 6, 10, 11, 1, 6, 7, 9, 5, 7, 1, 3, 4, 5, 7, 8, 9, 11, 1, 4, 10, 1, 2, 3, 4, 5, 6, 7, 9, 10, 11, 13, 15, 1, 4, 10, 1, 4, 1, 4, 2, 7, 12, 1, 2, 3, 4, 5, 6, 7, 9, 11, 13, 3, 4, 11, 13, 2, 3, 5, 10, 12, 1, 3, 4, 6, 10, 14, 1, 3, 4, 10, 13, 1, 1, 3, 4, 9, 10, 11, 14, 1, 4, 7, 15, 3, 7, 8, 2, 5, 7, 1, 2, 3, 4, 5, 6, 7, 8, 9, 10, 11, 12, 14, 15, 1, 10, 1, 4, 1, 3, 14, 1, 4, 10, 1, 10, 1, 11, 1, 3, 4, 11, 1, 3, 10, 14, 3, 4, 3, 6, 1, 4, 6, 14, 1, 2, 3, 4, 10, 11, 13, 14, 1, 2, 3, 4, 5, 6, 7, 8, 9, 10, 11, 12, 13, 14, 15, 3, 6, 3, 5, 6, 1, 3, 4, 9, 11, 2, 3, 7, 12, 13, 2, 3, 7, 13, 14, 1, 4, 10, 11, 1, 4, 11, 1, 2, 3, 4, 5, 6, 7, 8, 9, 10, 11, 12, 13, 15, 1, 2, 3, 4, 5, 6, 7, 8, 9, 10, 12, 13, 1, 2, 3, 4, 5, 6, 7, 8, 9, 10, 11, 12, 13, 14, 15, 3, 5, 6, 1, 2, 3, 7, 12, 2, 3, 6, 3, 8, 11, 12, 1, 2, 5, 13, 1, 2, 3, 4, 5, 6, 7, 8, 9, 10, 11, 14, 1, 2, 3, 4, 5, 6, 7, 8, 9, 10, 11, 12, 13, 1, 4, 1, 2, 3, 4, 5, 7, 10, 11, 12, 13, 14, 3, 5, 6, 7, 3, 5, 7, 2, 3, 5, 6, 12, 1, 10, 12, 2, 5, 1, 2, 3, 4, 5, 6, 10, 12, 15, 1, 2, 3, 4, 6, 7, 9, 10, 11, 13, 14, 15, 1, 7, 10, 11, 1, 2, 3, 7, 8, 12, 15, 1, 2, 3, 4, 10, 3, 5, 6, 2, 3, 7, 12, 13, 1, 2, 3, 4, 5, 6, 7, 8, 10, 12, 1, 11, 13, 1, 2, 3, 4, 5, 6, 7, 8, 9, 10, 11, 12, 13, 14, 15, 1, 4, 1, 6, 1, 6, 1, 2, 3, 4, 5, 6, 7, 8, 9, 10, 12, 13, 14, 3, 5, 6, 7, 1, 4, 9, 10, 12, 1, 4, 5, 15, 1, 10, 1, 4, 13, 1, 4, 6, 1, 7, 8, 12, 1, 2, 3, 4, 7, 8, 9, 12, 13, 15, 3, 1, 13, 1, 15, 3, 7, 5, 7, 8, 1, 2, 3, 4, 5, 6, 7, 8, 9, 10, 12, 13, 14, 1, 4, 10, 11, 14, 1, 2, 3, 4, 6, 11, 1, 2, 4, 12, 1, 4, 14, 1, 2, 3, 4, 7, 4, 2, 3, 4, 7, 8, 9, 12, 1, 2, 3, 4, 5, 6, 7, 9, 10, 11, 14, 2, 3, 5, 8, 9, 10, 2, 8, 1, 2, 3, 4, 5, 6, 7, 8, 9, 10, 12, 13, 1, 2, 3, 5, 6, 8, 9, 12, 1, 2, 3, 4, 5, 6, 7, 8, 9, 10, 11, 12, 13, 14, 15, 1, 2, 3, 4, 5, 6, 7, 8, 9, 10, 11, 12, 13, 15, 1, 2, 3, 4, 5, 6, 7, 8, 9, 10, 11, 12, 13, 1, 2, 4, 8, 9, 1, 4, 6, 1, 2, 3, 4, 5, 6, 7, 9, 10, 11, 12, 2, 3, 7, 12, 1, 13, 2, 7, 8, 12, 1, 7, 12, 1, 4, 14, 1, 10, 1, 5, 8, 12, 1, 3, 1, 6, 7, 9, 14, 1, 11, 15, 1, 2, 3, 4, 5, 6, 7, 8, 9, 10, 4, 1, 2, 3, 9, 10, 14, 2, 7, 9, 1, 3, 6, 10, 14, 5, 11, 12, 1, 13, 4, 13, 1, 2, 8, 1, 2, 8, 12, 1, 2, 3, 8, 3, 6, 1, 2, 3, 4, 10, 11, 1, 10, 1, 2, 3, 4, 6, 7, 8, 9, 10, 11, 13, 14, 15, 1, 2, 3, 4, 5, 6, 7, 8, 9, 10, 12, 13, 15, 1, 2, 3, 4, 10, 11, 13, 1, 6, 1, 4, 9, 13, 1, 15, 1, 2, 3, 5, 7, 8, 10, 12, 14, 1, 5, 1, 9, 11, 1, 2, 3, 5, 7, 8, 9, 10, 12, 1, 2, 3, 4, 5, 6, 7, 8, 9, 12, 1, 4, 9, 11, 2, 4, 7, 3, 5, 6, 7, 3, 5, 6, 7, 1, 4, 10, 11, 1, 2, 3, 5, 6, 7, 13, 3, 9, 13, 2, 3, 4, 5, 6, 7, 8, 12, 1, 4, 5, 6, 9, 10, 11, 13, 1, 4, 9, 3, 5, 6, 7, 1, 2, 3, 4, 9, 10, 12, 15, 1, 4, 11, 1, 3, 4, 5, 9, 1, 2, 3, 5, 7, 8, 9, 12, 14, 1, 2, 12, 1, 4, 11, 1, 4, 9, 10, 11, 4, 1, 1, 2, 3, 4, 5, 6, 7, 8, 9, 10, 11, 13, 14, 15, 1, 7, 9, 1, 9, 10, 11, 1, 2, 5, 8, 10, 1, 2, 3, 6, 8, 9, 11, 14, 15, 1, 7, 8, 9, 10, 1, 9, 15, 1, 2, 5, 7, 10, 12, 1, 2, 5, 8, 1, 2, 3, 4, 5, 6, 7, 10, 11, 12, 13, 15, 4, 9, 1, 2, 3, 4, 5, 6, 7, 8, 9, 10, 11, 13, 14, 1, 2, 3, 4, 5, 6, 7, 8, 9, 10, 11, 14, 15, 1, 3, 4, 5, 6, 7, 9, 11, 1, 3, 5, 12, 1, 2, 4, 5, 7, 8, 9, 10, 11, 13, 1, 2, 3, 4, 5, 6, 7, 8, 9, 10, 12, 13, 14, 15, 3, 14, 1, 4, 13, 1, 4, 10, 12, 13, 14, 15, 1, 5, 1, 2, 3, 4, 5, 6, 7, 8, 9, 10, 11, 12, 13, 2, 5, 8, 10, 1, 14, 6, 7, 1, 2, 3, 4, 5, 6, 7, 8, 9, 10, 11, 12, 13, 15, 1, 2, 3, 4, 5, 6, 7, 8, 9, 10, 11, 12, 13, 14, 15, 2, 3, 7, 8, 12, 1, 14, 1, 4, 11, 1, 5, 8, 13, 1, 2, 4, 10, 2, 7, 3, 4, 6, 9, 1, 2, 3, 4, 5, 6, 7, 9, 12, 1, 3, 4, 15, 3, 1, 4, 10, 11, 14, 2, 7, 1, 2, 12, 2, 3, 7, 8, 12, 1, 2, 3, 5, 6, 7, 8, 9, 10, 12, 13, 15, 6, 7, 8, 1, 4, 10, 14, 1, 4, 11, 1, 1, 2, 3, 4, 5, 6, 7, 8, 1, 2, 3, 4, 5, 6, 7, 9, 10, 11, 15, 1, 2, 4, 5, 9, 11, 3, 1, 2, 3, 4, 5, 6, 7, 8, 9, 10, 12, 13, 14, 15, 1, 2, 3, 4, 5, 6, 7, 8, 9, 10, 11, 13, 15, 1, 4, 14, 1, 2, 3, 4, 5, 6, 7, 8, 9, 10, 11, 13, 14, 15, 4, 2, 7, 8, 12, 1, 4, 9, 14, 5, 7, 4, 10, 11, 1, 5, 13, 1, 4, 13, 1, 2, 3, 4, 5, 6, 7, 8, 9, 10, 11, 12, 13, 14, 1, 2, 3, 4, 5, 6, 7, 8, 9, 10, 11, 12, 13, 15, 1, 1, 3, 4, 10, 1, 2, 3, 4, 5, 7, 9, 10, 11, 12, 13, 3, 5, 6, 13, 1, 11, 1, 2, 3, 4, 5, 6, 7, 8, 9, 10, 12, 15, 1, 2, 3, 4, 5, 6, 7, 8, 9, 10, 11, 12, 13, 14, 3, 8, 12, 1, 2, 4, 5, 10, 12, 13, 1, 3, 4, 6, 10, 11, 13, 3, 1, 3, 5, 6, 9, 1, 2, 3, 4, 5, 6, 7, 8, 9, 10, 12, 13, 15, 4, 1, 2, 3, 4, 5, 6, 9, 11, 2, 9, 1, 4, 6, 11, 5, 7, 1, 2, 3, 5, 6, 10, 1, 2, 3, 4, 5, 6, 7, 8, 9, 10, 11, 12, 14, 1, 2, 3, 4, 5, 6, 7, 9, 10, 15, 1, 2, 3, 4, 5, 6, 7, 8, 9, 10, 11, 12, 14, 15, 1, 3, 11, 1, 2, 3, 4, 5, 6, 7, 8, 9, 10, 11, 12, 13, 15, 1, 4, 14, 2, 1, 5, 11, 12, 13, 3, 1, 2, 3, 5, 6, 7, 3, 5, 6, 7, 13, 1, 2, 3, 4, 5, 6, 7, 8, 9, 10, 11, 12, 13, 14, 15, 3, 5, 6, 1, 4, 11, 15, 1, 2, 3, 4, 5, 6, 7, 8, 9, 10, 11, 12, 15, 1, 2, 3, 4, 5, 6, 7, 8, 9, 10, 11, 13, 14, 15, 1, 2, 3, 4, 5, 6, 7, 8, 9, 10, 11, 12, 13, 14, 15, 1, 2, 3, 4, 5, 6, 7, 8, 9, 10, 11, 12, 13, 14, 15, 1, 2, 3, 10, 14, 1, 1, 6, 9, 1, 1, 3, 4, 5, 6, 8, 3, 5, 6, 7, 13, 1, 2, 3, 4, 5, 6, 7, 8, 9, 10, 11, 13, 14, 15, 1, 2, 3, 4, 5, 6, 7, 8, 9, 10, 11, 12, 13, 14, 15, 1, 2, 14, 1, 2, 3, 4, 5, 6, 7, 8, 9, 10, 11, 12, 13, 15, 2, 6, 8, 1, 2, 3, 7, 9, 12, 1, 10, 11, 14, 2, 12, 2, 4, 1, 2, 3, 4, 5, 7, 8, 11, 1, 3, 4, 13, 2, 3, 15, 4, 1, 2, 3, 5, 7, 8, 1, 7, 10, 1, 3, 5, 12, 1, 4, 11, 1, 2, 3, 5, 6, 7, 8, 12, 13, 2, 7, 1, 1, 2, 6, 11, 1, 7, 1, 3, 1, 7, 1, 11, 3, 7, 1, 2, 4, 5, 10, 1, 3, 5, 2, 7, 9, 1, 2, 6, 7, 1, 3, 9, 12, 1, 2, 3, 7, 15, 1, 7, 11, 1, 4, 7, 15, 2, 5, 8, 2, 1, 2, 3, 5, 6, 7, 8, 1, 2, 3, 4, 10, 12, 14, 1, 9, 3, 5, 6, 7, 1, 4, 13, 1, 2, 3, 4, 5, 6, 7, 8, 9, 11, 12, 14, 15, 1, 4, 2, 13, 2, 3, 5, 10, 1, 2, 3, 4, 5, 6, 7, 8, 9, 10, 11, 13, 15, 1, 3, 5, 1, 2, 3, 4, 5, 7, 8, 15, 1, 2, 3, 4, 5, 6, 7, 8, 9, 10, 11, 12, 15, 1, 2, 3, 4, 5, 6, 7, 8, 9, 10, 11, 13, 15, 1, 2, 3, 4, 5, 6, 7, 8, 9, 10, 11, 12, 13, 14, 2, 3, 7, 8, 9, 12, 1, 1, 2, 3, 4, 5, 6, 7, 8, 9, 10, 11, 12, 13, 15, 3, 5, 6, 7, 13, 5, 1, 4, 10, 1, 2, 3, 4, 5, 6, 7, 8, 9, 10, 11, 12, 13, 14, 15, 1, 2, 3, 4, 5, 6, 7, 8, 9, 10, 11, 12, 13, 15, 1, 2, 3, 4, 6, 11, 1, 3, 4, 6, 9, 15, 1, 2, 3, 4, 5, 6, 7, 11, 12, 13, 14, 1, 2, 3, 4, 5, 6, 7, 8, 9, 10, 11, 12, 13, 2, 3, 4, 12, 13, 2, 7, 2, 6, 8, 3, 6, 1, 2, 3, 4, 5, 6, 7, 8, 9, 10, 12, 13, 15, 1, 2, 3, 6, 15, 1, 2, 3, 4, 5, 6, 7, 8, 9, 11, 12, 13, 15, 1, 2, 3, 4, 5, 6, 7, 8, 9, 10, 11, 12, 13, 15, 1, 5, 8, 12, 1, 4, 1, 2, 3, 4, 5, 6, 7, 8, 9, 12, 13, 1, 7, 10, 14, 1, 2, 3, 4, 5, 6, 7, 8, 9, 10, 11, 12, 13, 15, 1, 2, 3, 4, 6, 7, 9, 10, 11, 12, 13, 15, 1, 2, 3, 4, 5, 6, 7, 8, 9, 10, 11, 12, 13, 14, 15, 1, 2, 3, 4, 5, 6, 7, 9, 10, 11, 12, 13, 14, 2, 3, 4, 5, 10, 12, 1, 2, 3, 7, 13, 1, 2, 3, 4, 5, 6, 7, 8, 9, 10, 11, 12, 13, 14, 15, 1, 2, 3, 4, 5, 6, 7, 8, 9, 10, 11, 12, 13, 14, 15, 1, 2, 3, 4, 5, 6, 7, 8, 11, 12, 2, 3, 4, 7, 8, 9, 12, 1, 2, 3, 4, 8, 9, 14, 4, 9, 14, 1, 3, 4, 1, 2, 3, 4, 5, 6, 7, 8, 9, 10, 11, 12, 13, 14, 2, 3, 7, 8, 12, 3, 8, 1, 2, 3, 4, 5, 6, 7, 8, 9, 10, 11, 12, 13, 14, 1, 2, 3, 4, 5, 6, 7, 8, 9, 10, 11, 12, 13, 14, 15, 1, 2, 3, 4, 5, 6, 7, 8, 9, 10, 11, 13, 14, 15, 1, 2, 3, 4, 5, 6, 7, 8, 9, 10, 11, 12, 13, 15, 4, 9, 1, 4, 10, 11, 2, 7, 8, 2, 12, 1, 2, 3, 4, 6, 7, 8, 10, 12, 13, 2, 3, 7, 8, 9, 12, 1, 2, 4, 6, 9, 10, 11, 13, 1, 4, 10, 11, 2, 5, 4, 1, 2, 3, 4, 6, 9, 13, 1, 2, 3, 4, 5, 6, 7, 8, 9, 10, 11, 12, 13, 14, 15, 3, 5, 6, 1, 2, 1, 2, 3, 5, 7, 8, 9, 10, 1, 4, 9, 1, 2, 3, 5, 6, 7, 8, 9, 10, 11, 12, 15, 1, 2, 3, 4, 5, 6, 7, 8, 9, 11, 12, 13, 1, 2, 3, 4, 5, 6, 7, 8, 9, 10, 11, 15, 3, 5, 6, 3, 5, 6, 1, 2, 3, 4, 7, 8, 10, 11, 12, 15, 1, 3, 4, 11, 15, 1, 6, 10, 1, 5, 6, 13, 1, 4, 1, 2, 3, 6, 14, 1, 9, 1, 2, 3, 4, 5, 6, 7, 9, 10, 15, 1, 2, 4, 5, 6, 7, 9, 10, 13, 2, 3, 5, 8, 2, 1, 2, 3, 11, 2, 7, 8, 1, 2, 3, 4, 5, 6, 7, 8, 9, 10, 11, 12, 13, 14, 15, 2, 4, 6, 10, 2, 3, 7, 1, 2, 3, 4, 5, 6, 7, 8, 9, 10, 13, 14, 15, 1, 15, 2, 7, 15, 1, 7, 1, 2, 3, 4, 5, 7, 8, 9, 10, 11, 12, 13, 15, 1, 15, 1, 4, 9, 10, 11, 1, 3, 4, 10, 1, 4, 15, 1, 15, 1, 2, 3, 4, 5, 6, 7, 8, 9, 10, 11, 12, 13, 15, 1, 2, 3, 4, 5, 6, 7, 8, 9, 10, 11, 12, 13, 1, 2, 3, 5, 6, 7, 8, 10, 12, 2, 3, 4, 9, 1, 4, 15, 1, 9, 3, 3, 5, 1, 2, 3, 4, 5, 6, 7, 8, 9, 10, 11, 12, 13, 14, 1, 1, 4, 11, 1, 2, 3, 4, 5, 6, 7, 8, 9, 10, 11, 13, 14, 15, 1, 11, 14, 1, 3, 5, 12, 1, 4, 11, 2, 3, 7, 9, 12, 1, 2, 3, 5, 6, 7, 8, 9, 12, 15, 1, 2, 3, 6, 7, 8, 2, 3, 6, 12, 15, 1, 2, 3, 4, 5, 6, 7, 8, 9, 10, 11, 12, 13, 14, 15, 2, 8, 9, 1, 4, 9, 11, 3, 4, 7, 1, 2, 3, 4, 5, 6, 7, 8, 9, 10, 11, 12, 13, 14, 15, 1, 2, 3, 4, 5, 6, 7, 8, 9, 10, 11, 12, 13, 14, 1, 3, 11, 12, 1, 15, 4, 1, 15, 1, 2, 6, 9, 10, 1, 6, 1, 2, 3, 4, 5, 6, 7, 8, 9, 10, 11, 12, 13, 3, 10, 1, 4, 5, 6, 8, 11, 12, 14, 1, 2, 3, 10, 1, 4, 10, 2, 3, 5, 2, 1, 2, 3, 4, 5, 6, 8, 10, 1, 2, 3, 7, 8, 2, 3, 9, 1, 4, 11, 13, 1, 2, 3, 4, 10, 11, 13, 3, 1, 4, 10, 11, 15, 1, 4, 9, 12, 2, 7, 8, 12, 1, 3, 14, 4, 1, 2, 3, 4, 5, 6, 7, 8, 9, 10, 11, 12, 13, 14, 15, 3, 5, 6, 7, 4, 14, 4, 1, 4, 9, 11, 1, 6, 12, 2, 3, 7, 8, 1, 3, 4, 6, 7, 11, 1, 4, 1, 10, 3, 1, 2, 3, 4, 5, 6, 7, 8, 9, 10, 11, 12, 13, 14, 15, 1, 3, 6, 1, 4, 8, 1, 3, 4, 1, 7, 12, 1, 2, 3, 4, 5, 6, 7, 8, 9, 10, 12, 13, 14, 1, 3, 11, 14, 1, 2, 3, 5, 6, 7, 8, 9, 12, 15, 1, 14, 2, 4, 6, 13, 2, 3, 5, 8, 3, 11, 1, 2, 3, 5, 6, 8, 9, 13, 1, 6, 9, 5, 7, 12, 1, 2, 3, 4, 5, 6, 7, 8, 9, 10, 12, 13, 15, 3, 4, 3, 5, 8, 1, 2, 3, 4, 5, 6, 7, 8, 9, 11, 12, 1, 2, 10, 1, 2, 3, 12, 1, 2, 4, 5, 8, 12, 13, 1, 2, 3, 4, 5, 6, 11, 12, 4, 2, 4, 5, 8, 3, 10, 11, 1, 2, 6, 7, 1, 2, 3, 4, 5, 6, 7, 8, 9, 12, 14, 1, 2, 3, 5, 7, 11, 12, 13, 1, 3, 5, 7, 1, 3, 4, 11, 1, 4, 11, 2, 4, 13, 1, 4, 9, 11, 1, 4, 11, 1, 10, 3, 5, 6, 7, 13, 1, 3, 4, 9, 10, 14, 2, 1, 3, 12, 14, 1, 6, 9, 13, 1, 2, 4, 7, 10, 15, 2, 3, 7, 1, 5, 6, 13, 1, 3, 4, 9, 14, 4, 1, 2, 5, 6, 12, 3, 6, 11, 1, 2, 3, 4, 6, 7, 8, 12, 1, 7, 12, 1, 2, 3, 4, 5, 6, 7, 8, 9, 10, 12, 14, 1, 2, 3, 7, 14, 15, 1, 2, 3, 4, 5, 6, 7, 8, 9, 10, 11, 12, 14, 15, 6, 9, 10, 1, 3, 4, 5, 2, 3, 7, 1, 13, 1, 3, 9, 1, 11, 3, 4, 15, 3, 6, 7, 4, 11, 1, 3, 9, 11, 15, 3, 4, 1, 7, 9, 1, 2, 3, 5, 6, 7, 8, 12, 1, 3, 4, 9, 11, 14, 15, 1, 2, 3, 4, 5, 6, 7, 8, 9, 10, 11, 12, 13, 14, 15, 1, 2, 3, 4, 5, 6, 7, 10, 11, 1, 4, 11, 2, 7, 1, 10, 11, 1, 4, 10, 13, 1, 2, 3, 7, 9, 10, 12, 1, 5, 9, 13, 1, 3, 5, 6, 14, 2, 1, 12, 1, 4, 10, 11, 6, 9, 10, 1, 2, 3, 4, 5, 6, 7, 8, 9, 10, 11, 12, 13, 15, 1, 10, 1, 4, 10, 15, 1, 4, 10, 14, 1, 1, 2, 3, 4, 5, 7, 10, 11, 13, 1, 2, 3, 7, 9, 12, 7, 8, 9, 10, 11, 4, 10, 11, 1, 1, 8, 2, 3, 7, 8, 1, 6, 1, 2, 3, 4, 5, 6, 7, 8, 9, 10, 11, 12, 13, 14, 5, 1, 2, 3, 4, 5, 6, 7, 8, 9, 11, 13, 14, 1, 1, 2, 3, 4, 5, 7, 8, 9, 14, 1, 8, 1, 2, 4, 9, 10, 1, 2, 3, 4, 5, 6, 7, 8, 9, 10, 11, 12, 13, 14, 15, 2, 3, 5, 6, 7, 8, 1, 2, 3, 4, 6, 7, 9, 10, 15, 3, 7, 1, 2, 3, 4, 6, 9, 15, 3, 4, 1, 2, 3, 4, 5, 6, 7, 8, 9, 10, 11, 12, 13, 1, 2, 3, 4, 5, 6, 7, 8, 9, 10, 12, 13, 1, 2, 3, 4, 5, 6, 7, 8, 9, 11, 15, 4, 5, 8, 1, 6, 10, 13, 1, 1, 2, 3, 5, 6, 7, 10, 13, 1, 4, 13, 1, 3, 13, 1, 13, 15, 1, 2, 3, 4, 5, 6, 7, 8, 9, 10, 11, 12, 13, 14, 15, 1, 3, 1, 2, 5, 6, 8, 9, 13, 2, 4, 10, 1, 4, 14, 1, 2, 14, 1, 2, 3, 4, 6, 9, 11, 15, 1, 4, 9, 1, 4, 9, 2, 4, 5, 7, 14, 1, 7, 13, 2, 3, 2, 5, 1, 10, 9, 1, 1, 2, 3, 4, 5, 6, 7, 8, 9, 10, 11, 12, 13, 15, 1, 1, 1, 2, 3, 4, 5, 6, 7, 8, 9, 10, 11, 12, 13, 1, 3, 7, 15, 1, 2, 5, 9, 14, 3, 5, 6, 1, 7, 8, 9, 11, 15, 1, 1, 11, 15, 3, 6, 12, 3, 8, 14, 3, 6, 10, 13, 1, 2, 3, 4, 5, 6, 7, 8, 9, 10, 11, 12, 13, 14, 1, 2, 3, 4, 5, 6, 7, 8, 1, 2, 3, 4, 5, 6, 7, 8, 9, 10, 12, 13, 14, 15, 1, 2, 3, 15, 5, 6, 6, 7, 9, 13, 1, 4, 1, 1, 2, 3, 4, 5, 6, 7, 8, 9, 11, 13, 14, 4, 1, 2, 3, 4, 5, 6, 7, 8, 9, 10, 11, 13, 14, 1, 4, 9, 13, 1, 10, 11, 2, 3, 5, 6, 7, 1, 2, 3, 4, 5, 6, 7, 11, 13, 14, 1, 2, 3, 4, 5, 6, 7, 8, 9, 10, 11, 12, 13, 14, 15, 1, 2, 3, 4, 10, 14, 1, 2, 3, 4, 5, 6, 7, 8, 9, 10, 11, 12, 13, 14, 1, 2, 3, 4, 5, 6, 7, 8, 9, 10, 11, 12, 13, 14, 15, 1, 3, 9, 11, 15, 1, 2, 3, 4, 5, 6, 7, 8, 9, 10, 11, 12, 13, 14, 15, 2, 1, 2, 3, 4, 5, 7, 8, 9, 12, 15, 1, 2, 3, 4, 5, 6, 7, 8, 9, 10, 11, 12, 13, 14, 15, 1, 2, 3, 4, 5, 6, 7, 8, 9, 10, 11, 12, 13, 14, 15, 4, 11, 13, 1, 4, 14, 1, 2, 3, 4, 5, 6, 7, 8, 9, 10, 11, 12, 13, 14, 15, 1, 2, 3, 4, 5, 6, 7, 8, 10, 12, 14, 1, 2, 4, 10, 1, 15, 1, 3, 4, 14, 1, 10, 12, 3, 6, 4, 11, 1, 4, 14, 1, 2, 3, 4, 5, 6, 7, 8, 12, 13, 15, 3, 1, 4, 1, 5, 9, 10, 13, 3, 6, 6, 7, 2, 6, 13, 1, 2, 12, 1, 2, 3, 12, 1, 5, 14, 2, 1, 1, 1, 9, 1, 11, 3, 4, 13, 3, 5, 6, 1, 10, 11, 1, 2, 5, 7, 14, 4, 1, 15, 1, 4, 3, 1, 4, 11, 1, 10, 11, 1, 4, 9, 1, 11, 13, 1, 2, 3, 4, 5, 6, 7, 8, 9, 12, 13, 15, 1, 1, 2, 3, 4, 5, 6, 7, 8, 9, 10, 11, 12, 13, 14, 15, 1, 5, 14, 1, 2, 3, 4, 5, 6, 7, 8, 9, 10, 11, 12, 13, 14, 3, 5, 6, 7, 13, 3, 5, 1, 11, 14, 1, 15, 1, 2, 3, 4, 5, 10, 11, 13, 14, 1, 3, 10, 11, 13, 1, 2, 3, 7, 8, 9, 12, 1, 7, 1, 2, 3, 5, 7, 9, 3, 6, 7, 1, 6, 15, 1, 2, 3, 4, 5, 6, 7, 8, 11, 1, 2, 3, 4, 5, 6, 7, 8, 9, 10, 11, 12, 13, 14, 1, 4, 15, 3, 5, 6, 7, 13, 1, 2, 3, 4, 5, 6, 7, 10, 11, 13, 14, 1, 4, 13, 1, 2, 3, 4, 5, 6, 7, 8, 9, 10, 11, 12, 13, 14, 1, 2, 3, 4, 5, 6, 7, 8, 9, 10, 11, 12, 13, 14, 15, 1, 7, 10, 11, 3, 7, 1, 2, 3, 4, 5, 6, 7, 8, 9, 10, 11, 12, 13, 14, 1, 4], \"Freq\": [0.7371905446052551, 0.18429763615131378, 0.23058699071407318, 0.6588199734687805, 0.09882299602031708, 0.03990406543016434, 0.9177935123443604, 0.03990406543016434, 0.5672934055328369, 0.08104191720485687, 0.24312575161457062, 0.08104191720485687, 0.33529385924339294, 0.22352923452854156, 0.22352923452854156, 0.11176461726427078, 0.7757180333137512, 0.155143603682518, 0.1938471645116806, 0.37532109022140503, 0.09073697030544281, 0.028870852664113045, 0.12373223155736923, 0.045368485152721405, 0.06599052250385284, 0.02062203735113144, 0.004124407656490803, 0.008248815312981606, 0.004124407656490803, 0.008248815312981606, 0.02062203735113144, 0.004124407656490803, 0.24091339111328125, 0.08030445873737335, 0.1606089174747467, 0.4818267822265625, 0.17126703262329102, 0.34253406524658203, 0.17126703262329102, 0.17126703262329102, 0.3167323172092438, 0.09745610505342484, 0.07309207320213318, 0.04872805252671242, 0.09745610505342484, 0.09745610505342484, 0.02436402626335621, 0.17054817080497742, 0.02436402626335621, 0.8347178101539612, 0.05909506604075432, 0.036934416741132736, 0.022160649299621582, 0.01477376651018858, 0.022160649299621582, 0.2371138334274292, 0.4053881764411926, 0.034419748932123184, 0.011473249644041061, 0.04971741884946823, 0.057366251945495605, 0.13385458290576935, 0.022946499288082123, 0.015297667123377323, 0.007648833561688662, 0.011473249644041061, 0.015297667123377323, 0.003824416780844331, 0.5635972023010254, 0.1878657341003418, 0.27784907817840576, 0.13892453908920288, 0.27784907817840576, 0.27784907817840576, 0.7312862277030945, 0.18282155692577362, 0.5571483373641968, 0.18571610748767853, 0.18571610748767853, 0.22876037657260895, 0.11438018828630447, 0.22876037657260895, 0.11438018828630447, 0.22876037657260895, 0.7819597125053406, 0.1563919484615326, 0.8933500051498413, 0.15053194761276245, 0.15053194761276245, 0.45159581303596497, 0.11687715351581573, 0.3603712320327759, 0.09739762544631958, 0.029219288378953934, 0.11687715351581573, 0.11687715351581573, 0.04869881272315979, 0.029219288378953934, 0.019479526206851006, 0.009739763103425503, 0.04869881272315979, 0.18993574380874634, 0.09496787190437317, 0.3798714876174927, 0.18993574380874634, 0.1910649836063385, 0.382129967212677, 0.1910649836063385, 0.1687394380569458, 0.1687394380569458, 0.1687394380569458, 0.1687394380569458, 0.1687394380569458, 0.3830886483192444, 0.2001209408044815, 0.14580239355564117, 0.09148386120796204, 0.04860080033540726, 0.034306447952985764, 0.028588706627488136, 0.017153223976492882, 0.014294353313744068, 0.011435482650995255, 0.014294353313744068, 0.005717741325497627, 0.0028588706627488136, 0.497337281703949, 0.3315581977367401, 0.16577909886837006, 0.5018525123596191, 0.12546312808990479, 0.25092625617980957, 0.4995817542076111, 0.16652725636959076, 0.12489543855190277, 0.04163181409239769, 0.12489543855190277, 0.16321630775928497, 0.6120611429214478, 0.16321630775928497, 0.04080407693982124, 0.8881102204322815, 0.7259023785591125, 0.197973370552063, 0.5577290058135986, 0.13943225145339966, 0.13943225145339966, 0.13943225145339966, 0.5881579518318176, 0.10808030515909195, 0.11562079191207886, 0.0980263203382492, 0.01256747730076313, 0.01256747730076313, 0.010053982026875019, 0.0050269910134375095, 0.007540486287325621, 0.0025134955067187548, 0.022621458396315575, 0.007540486287325621, 0.0025134955067187548, 0.007540486287325621, 0.775196373462677, 0.15503928065299988, 0.17878185212612152, 0.7151274085044861, 0.8929337859153748, 0.5489308834075928, 0.1372327208518982, 0.1372327208518982, 0.177351176738739, 0.2561739385128021, 0.07882274687290192, 0.11823412030935287, 0.07882274687290192, 0.05911706015467644, 0.15764549374580383, 0.01970568671822548, 0.01970568671822548, 0.0855838730931282, 0.3225853443145752, 0.21066798269748688, 0.039500247687101364, 0.2304181158542633, 0.04608362168073654, 0.02633349783718586, 0.006583374459296465, 0.02633349783718586, 0.01316674891859293, 0.9318073987960815, 0.4166505038738251, 0.13888350129127502, 0.13888350129127502, 0.13888350129127502, 0.06659824401140213, 0.31634166836738586, 0.14152127504348755, 0.0915725901722908, 0.0998973697423935, 0.21644429862499237, 0.016649561002850533, 0.008324780501425266, 0.016649561002850533, 0.008324780501425266, 0.008324780501425266, 0.11807031184434891, 0.2586302161216736, 0.19116145372390747, 0.044979166239500046, 0.03373437374830246, 0.11244791746139526, 0.19116145372390747, 0.022489583119750023, 0.011244791559875011, 0.01686718687415123, 0.33437708020210266, 0.33437708020210266, 0.11145903170108795, 0.11145903170108795, 0.9466153979301453, 0.3502756655216217, 0.253140389919281, 0.17513783276081085, 0.06034160777926445, 0.0353219173848629, 0.0441523939371109, 0.0382654070854187, 0.0103022251278162, 0.008830479346215725, 0.008830479346215725, 0.0044152396731078625, 0.0014717464800924063, 0.008830479346215725, 0.0014717464800924063, 0.7751818299293518, 0.15503637492656708, 0.7608608603477478, 0.19021521508693695, 0.9086897373199463, 0.010948068462312222, 0.010948068462312222, 0.05474034324288368, 0.6717473268508911, 0.09796315431594849, 0.20292367041110992, 0.013994736596941948, 0.006997368298470974, 0.08450912684202194, 0.16901825368404388, 0.6338184475898743, 0.08450912684202194, 0.3584851920604706, 0.23899012804031372, 0.47798025608062744, 0.5125364065170288, 0.04456838220357895, 0.0891367644071579, 0.22284190356731415, 0.0891367644071579, 0.022284191101789474, 0.9067429304122925, 0.6497944593429565, 0.30684739351272583, 0.030083077028393745, 0.7346414923667908, 0.1836603730916977, 0.39108458161354065, 0.19554229080677032, 0.19554229080677032, 0.19554229080677032, 0.5630210041999817, 0.3753473460674286, 0.00687814736738801, 0.6465458869934082, 0.06878147274255753, 0.01375629473477602, 0.020634442567825317, 0.04814703390002251, 0.1238066554069519, 0.041268885135650635, 0.00687814736738801, 0.01375629473477602, 0.00687814736738801, 0.9401425719261169, 0.28289878368377686, 0.2653546631336212, 0.14035288989543915, 0.054825346916913986, 0.08772055804729462, 0.0394742488861084, 0.07456247508525848, 0.026316165924072266, 0.006579041481018066, 0.010965069755911827, 0.004386027809232473, 0.004386027809232473, 0.0021930139046162367, 0.0021930139046162367, 0.6469681859016418, 0.05545441433787346, 0.02772720716893673, 0.1756056547164917, 0.009242402389645576, 0.018484804779291153, 0.009242402389645576, 0.018484804779291153, 0.009242402389645576, 0.009242402389645576, 0.018484804779291153, 0.37848323583602905, 0.09462080895900726, 0.09462080895900726, 0.4731040596961975, 0.8049265146255493, 0.027970420196652412, 0.03729389235377312, 0.06837213784456253, 0.006215648725628853, 0.05283301696181297, 0.9288575053215027, 0.1572924703359604, 0.07078161090612411, 0.7235453128814697, 0.04718773812055588, 0.3302525579929352, 0.17744913697242737, 0.1873074173927307, 0.05093447491526604, 0.08872456848621368, 0.0690079927444458, 0.04271923378109932, 0.008215237408876419, 0.009858285076916218, 0.006572190206497908, 0.008215237408876419, 0.009858285076916218, 0.003286095103248954, 0.003286095103248954, 0.001643047551624477, 0.17975875735282898, 0.5392763018608093, 0.6013035774230957, 0.06681150943040848, 0.13362301886081696, 0.13362301886081696, 0.2909407913684845, 0.6650075316429138, 0.020781485363841057, 0.6332209706306458, 0.3166104853153229, 0.8870530724525452, 0.006427920423448086, 0.08034900575876236, 0.009641881100833416, 0.009641881100833416, 0.7871686220169067, 0.010783132165670395, 0.016174698248505592, 0.15096384286880493, 0.010783132165670395, 0.0053915660828351974, 0.016174698248505592, 0.2410278469324112, 0.1205139234662056, 0.4820556938648224, 0.1205139234662056, 0.82447350025177, 0.11778192967176437, 0.8667316436767578, 0.011111943982541561, 0.022223887965083122, 0.03333583101630211, 0.011111943982541561, 0.011111943982541561, 0.022223887965083122, 0.022223887965083122, 0.375331848859787, 0.1876659244298935, 0.1876659244298935, 0.07440795004367828, 0.10417112708091736, 0.3162337839603424, 0.011161192320287228, 0.29019099473953247, 0.1636974960565567, 0.014881590381264687, 0.0037203975953161716, 0.0037203975953161716, 0.0037203975953161716, 0.011161192320287228, 0.0037203975953161716, 0.5488414168357849, 0.10976827889680862, 0.21953655779361725, 0.1468544453382492, 0.80769944190979, 0.1033133715391159, 0.8265069723129272, 0.8798059225082397, 0.025137310847640038, 0.07541193068027496, 0.43386486172676086, 0.08976514637470245, 0.08976514637470245, 0.11968686431646347, 0.04488257318735123, 0.059843432158231735, 0.04488257318735123, 0.029921716079115868, 0.029921716079115868, 0.04488257318735123, 0.2067488133907318, 0.4134976267814636, 0.2067488133907318, 0.1033744066953659, 0.9390575289726257, 0.013511618599295616, 0.020267428830266, 0.006755809299647808, 0.006755809299647808, 0.7134904265403748, 0.02798001654446125, 0.1399000883102417, 0.02798001654446125, 0.04197002574801445, 0.0559600330889225, 0.6977627277374268, 0.004178219940513372, 0.22562387585639954, 0.004178219940513372, 0.06685151904821396, 0.9397639036178589, 0.8264665007591248, 0.026660209521651268, 0.09775410592556, 0.008886736817657948, 0.008886736817657948, 0.008886736817657948, 0.008886736817657948, 0.3737795650959015, 0.18688978254795074, 0.18688978254795074, 0.18688978254795074, 0.04477999359369278, 0.04477999359369278, 0.8508198261260986, 0.10497050732374191, 0.7347935438156128, 0.10497050732374191, 0.1615925133228302, 0.432084321975708, 0.07377049326896667, 0.003512880764901638, 0.06323185563087463, 0.06674472987651825, 0.09133489429950714, 0.05620609223842621, 0.003512880764901638, 0.010538642294704914, 0.010538642294704914, 0.014051523059606552, 0.007025761529803276, 0.007025761529803276, 0.6559666991233826, 0.2186555713415146, 0.9696030616760254, 0.026205487549304962, 0.6258915066719055, 0.15647287666797638, 0.15647287666797638, 0.3766140043735504, 0.1883070021867752, 0.1883070021867752, 0.5608993768692017, 0.1869664490222931, 0.7611647844314575, 0.19029119610786438, 0.9105114340782166, 0.022762784734368324, 0.022762784734368324, 0.022762784734368324, 0.33409565687179565, 0.037121739238500595, 0.556826114654541, 0.037121739238500595, 0.7706271409988403, 0.1541254222393036, 0.8121795058250427, 0.13536325097084045, 0.3373245894908905, 0.4047895073890686, 0.1349298357963562, 0.0674649178981781, 0.30580589175224304, 0.03822573646903038, 0.15290294587612152, 0.26758015155792236, 0.03822573646903038, 0.03822573646903038, 0.15290294587612152, 0.03822573646903038, 0.4349555969238281, 0.15856240689754486, 0.1774735152721405, 0.08728205412626266, 0.027639318257570267, 0.03636752441525459, 0.027639318257570267, 0.016001710668206215, 0.004364102613180876, 0.004364102613180876, 0.010182906873524189, 0.007273504510521889, 0.004364102613180876, 0.002909401897341013, 0.0014547009486705065, 0.5931424498558044, 0.3886105418205261, 0.6716315746307373, 0.03950773924589157, 0.2765541672706604, 0.8800939917564392, 0.031431928277015686, 0.04714789241552353, 0.015715964138507843, 0.015715964138507843, 0.8974770903587341, 0.015211476944386959, 0.015211476944386959, 0.060845907777547836, 0.0076057384721934795, 0.4257415533065796, 0.08514831215143204, 0.2554449439048767, 0.17029662430286407, 0.08514831215143204, 0.0782875344157219, 0.8415910601615906, 0.03914376720786095, 0.03914376720786095, 0.05175640061497688, 0.8281024098396301, 0.05175640061497688, 0.5289716124534607, 0.16750767827033997, 0.04408096894621849, 0.10873305797576904, 0.03232604265213013, 0.011754925362765789, 0.041142236441373825, 0.008816193789243698, 0.0029387313406914473, 0.011754925362765789, 0.008816193789243698, 0.023509850725531578, 0.0029387313406914473, 0.0029387313406914473, 0.20803356170654297, 0.3014979064464569, 0.15376393496990204, 0.05426962673664093, 0.08441941440105438, 0.0814044401049614, 0.045224688947200775, 0.033164769411087036, 0.009044937789440155, 0.006029958371073008, 0.006029958371073008, 0.01808987557888031, 0.38374918699264526, 0.21088919043540955, 0.08297279477119446, 0.08297279477119446, 0.04148639738559723, 0.02765759825706482, 0.07951559871435165, 0.02765759825706482, 0.024200398474931717, 0.017285998910665512, 0.010371599346399307, 0.0034571997821331024, 0.006914399564266205, 0.0034571997821331024, 0.0034571997821331024, 0.7570211291313171, 0.044530656188726425, 0.1781226247549057, 0.017167456448078156, 0.9356263875961304, 0.008583728224039078, 0.025751184672117233, 0.008583728224039078, 0.13271945714950562, 0.39815840125083923, 0.39815840125083923, 0.3367883861064911, 0.3367883861064911, 0.16839419305324554, 0.16839419305324554, 0.24779865145683289, 0.24779865145683289, 0.12389932572841644, 0.12389932572841644, 0.5138362050056458, 0.1209026351571083, 0.07724335044622421, 0.14105308055877686, 0.013433625921607018, 0.05709291249513626, 0.023508846759796143, 0.01679203286767006, 0.023508846759796143, 0.006716812960803509, 0.006716812960803509, 0.0033584064804017544, 0.2552907466888428, 0.16858822107315063, 0.12042016535997391, 0.12523697316646576, 0.033717647194862366, 0.14450418949127197, 0.028900839388370514, 0.06261848658323288, 0.028900839388370514, 0.01926722563803196, 0.00481680640950799, 0.00481680640950799, 0.00481680640950799, 0.0853269174695015, 0.8959326148033142, 0.13504914939403534, 0.3279764950275421, 0.1543418914079666, 0.11575641483068466, 0.0771709457039833, 0.03858547285199165, 0.0771709457039833, 0.019292736425995827, 0.019292736425995827, 0.019292736425995827, 0.019292736425995827, 0.4178277850151062, 0.23004001379013062, 0.1690089851617813, 0.17370368540287018, 0.0659424215555191, 0.46159693598747253, 0.46159693598747253, 0.09940454363822937, 0.43075302243232727, 0.13253939151763916, 0.2982136309146881, 0.03313484787940979, 0.5589146018028259, 0.18630485236644745, 0.18630485236644745, 0.9453428387641907, 0.03501269593834877, 0.6609436869621277, 0.09012868255376816, 0.09763941168785095, 0.07510723918676376, 0.007510724011808634, 0.007510724011808634, 0.04506434127688408, 0.007510724011808634, 0.007510724011808634, 0.5458395481109619, 0.06931295990943909, 0.03465647995471954, 0.21660299599170685, 0.008664119988679886, 0.04332059994339943, 0.008664119988679886, 0.01732823997735977, 0.03465647995471954, 0.008664119988679886, 0.008664119988679886, 0.008664119988679886, 0.4189267158508301, 0.13964223861694336, 0.13964223861694336, 0.2792844772338867, 0.44383344054222107, 0.12328705936670303, 0.22191672027111053, 0.04931482672691345, 0.024657413363456726, 0.04931482672691345, 0.07397224009037018, 0.37092509865760803, 0.16485559940338135, 0.061820849776268005, 0.2678903639316559, 0.12364169955253601, 0.7388414144515991, 0.034364715218544006, 0.22337065637111664, 0.8659061193466187, 0.00558649143204093, 0.033518947660923004, 0.08379736542701721, 0.00558649143204093, 0.022702405229210854, 0.6421537399291992, 0.18486244976520538, 0.006486401427537203, 0.016216004267334938, 0.02594560571014881, 0.07135041803121567, 0.012972802855074406, 0.0032432007137686014, 0.009729602374136448, 0.3850959837436676, 0.1925479918718338, 0.1925479918718338, 0.44508326053619385, 0.14956727623939514, 0.21590760350227356, 0.06754650920629501, 0.03618563339114189, 0.041010383516550064, 0.008443313650786877, 0.010855689644813538, 0.00603093858808279, 0.0024123755283653736, 0.0024123755283653736, 0.00603093858808279, 0.0036185630597174168, 0.004824751056730747, 0.0012061877641826868, 0.21270912885665894, 0.7657528519630432, 0.39607444405555725, 0.39607444405555725, 0.44711968302726746, 0.44711968302726746, 0.19587771594524384, 0.2810419499874115, 0.05109853297472, 0.03406568989157677, 0.05109853297472, 0.03406568989157677, 0.2810419499874115, 0.04258211329579353, 0.008516422472894192, 0.008516422472894192, 0.008516422472894192, 0.008516422472894192, 0.008516422472894192, 0.050208840519189835, 0.5020884275436401, 0.35146188735961914, 0.10041768103837967, 0.35895857214927673, 0.17947928607463837, 0.17947928607463837, 0.08973964303731918, 0.17947928607463837, 0.5466040968894958, 0.13665102422237396, 0.2733020484447479, 0.13665102422237396, 0.5615543127059937, 0.3743695616722107, 0.38124725222587585, 0.19062362611293793, 0.19062362611293793, 0.4156893491744995, 0.10392233729362488, 0.4156893491744995, 0.24716922640800476, 0.24716922640800476, 0.24716922640800476, 0.24716922640800476, 0.23079821467399597, 0.46159642934799194, 0.03297117352485657, 0.021980782970786095, 0.13188469409942627, 0.010990391485393047, 0.010990391485393047, 0.07693273574113846, 0.010990391485393047, 0.010990391485393047, 0.9601820111274719, 0.5637075304985046, 0.18790249526500702, 0.7756774425506592, 0.15513549745082855, 0.17976334691047668, 0.7190533876419067, 0.18093518912792206, 0.5428056120872498, 0.18093518912792206, 0.1470870077610016, 0.3241361975669861, 0.2533165216445923, 0.09805800765752792, 0.04630516842007637, 0.03813366964459419, 0.027238335460424423, 0.02451450191438198, 0.005447667092084885, 0.005447667092084885, 0.02179066836833954, 0.005447667092084885, 0.0027238335460424423, 0.8705915212631226, 0.020246315747499466, 0.04049263149499893, 0.020246315747499466, 0.03036947175860405, 0.26902735233306885, 0.02445703186094761, 0.6114258170127869, 0.02445703186094761, 0.02445703186094761, 0.02445703186094761, 0.24823670089244843, 0.08274556696414948, 0.41372784972190857, 0.16549113392829895, 0.42952701449394226, 0.42952701449394226, 0.07158783078193665, 0.02897794544696808, 0.34773534536361694, 0.49262508749961853, 0.10142280906438828, 0.01448897272348404, 0.8639873266220093, 0.7526224255561829, 0.0024045445024967194, 0.0024045445024967194, 0.18034084141254425, 0.019236356019973755, 0.012022722512483597, 0.028854534029960632, 0.7887763381004333, 0.01300180796533823, 0.02600361593067646, 0.12135020643472672, 0.004333936143666506, 0.008667872287333012, 0.004333936143666506, 0.008667872287333012, 0.008667872287333012, 0.01300180796533823, 0.004333936143666506, 0.8335637450218201, 0.01975269615650177, 0.003950539045035839, 0.11851617693901062, 0.011851617135107517, 0.007901078090071678, 0.9306469559669495, 0.02658991329371929, 0.22402708232402802, 0.352567195892334, 0.07712407410144806, 0.047743476927280426, 0.07712407410144806, 0.08079665154218674, 0.03672575205564499, 0.06243377551436424, 0.011017724871635437, 0.0036725751124322414, 0.011017724871635437, 0.011017724871635437, 0.19801895320415497, 0.5186210870742798, 0.047147370874881744, 0.028288422152400017, 0.018858948722481728, 0.12258316576480865, 0.018858948722481728, 0.056576844304800034, 0.4406350553035736, 0.20807766914367676, 0.12145709991455078, 0.07061459124088287, 0.042368754744529724, 0.04331028461456299, 0.03389500454068184, 0.01223986316472292, 0.001883055898360908, 0.01223986316472292, 0.003766111796721816, 0.003766111796721816, 0.002824583789333701, 0.001883055898360908, 0.000941527949180454, 0.4914183020591736, 0.19033807516098022, 0.13496699929237366, 0.031146230176091194, 0.034606922417879105, 0.024224845692515373, 0.031146230176091194, 0.017303461208939552, 0.0034606922417879105, 0.006921384483575821, 0.017303461208939552, 0.006921384483575821, 0.0034606922417879105, 0.006921384483575821, 0.07931745797395706, 0.28278398513793945, 0.3448584973812103, 0.018967218697071075, 0.0931117981672287, 0.08104174584150314, 0.04483160749077797, 0.03276155889034271, 0.010345755144953728, 0.0017242925241589546, 0.0017242925241589546, 0.005172877572476864, 0.0017242925241589546, 0.3027969300746918, 0.1513984650373459, 0.1513984650373459, 0.35326308012008667, 0.050466157495975494, 0.11649347841739655, 0.34948045015335083, 0.4659739136695862, 0.7536894679069519, 0.03795558586716652, 0.054222263395786285, 0.07591117173433304, 0.010844453237950802, 0.021688906475901604, 0.016266679391264915, 0.005422226618975401, 0.005422226618975401, 0.016266679391264915, 0.005422226618975401, 0.868427038192749, 0.032163966447114944, 0.032163966447114944, 0.032163966447114944, 0.7725595235824585, 0.09656994044780731, 0.3371717929840088, 0.0842929482460022, 0.2528788447380066, 0.1685858964920044, 0.31020039319992065, 0.465300589799881, 0.15510019659996033, 0.7700735330581665, 0.11001050472259521, 0.05500525236129761, 0.6878176331520081, 0.22927254438400269, 0.18728861212730408, 0.18728861212730408, 0.37457722425460815, 0.18728861212730408, 0.13420304656028748, 0.671015202999115, 0.19910451769828796, 0.19910451769828796, 0.3982090353965759, 0.19910451769828796, 0.19910451769828796, 0.8899444937705994, 0.0404520221054554, 0.0404520221054554, 0.6296262145042419, 0.08072131127119064, 0.01614426262676716, 0.03228852525353432, 0.01614426262676716, 0.01614426262676716, 0.03228852525353432, 0.048432786017656326, 0.08072131127119064, 0.01614426262676716, 0.8714990615844727, 0.22578001022338867, 0.2709360122680664, 0.31609201431274414, 0.045156002044677734, 0.045156002044677734, 0.045156002044677734, 0.38524311780929565, 0.4815538823604584, 0.09631077945232391, 0.5524554252624512, 0.1578444093465805, 0.07892220467329025, 0.07892220467329025, 0.07892220467329025, 0.6408640146255493, 0.16021600365638733, 0.16021600365638733, 0.7492100596427917, 0.10703001171350479, 0.5628830790519714, 0.18762768805027008, 0.20775598287582397, 0.41551196575164795, 0.31163397431373596, 0.43493637442588806, 0.21746818721294403, 0.10873409360647202, 0.21746818721294403, 0.1325540989637375, 0.39766231179237366, 0.1325540989637375, 0.265108197927475, 0.6628076434135437, 0.30773213505744934, 0.5159775614738464, 0.18575192987918854, 0.020639102905988693, 0.14447371661663055, 0.020639102905988693, 0.12383461743593216, 0.5679239630699158, 0.3407543897628784, 0.5953763723373413, 0.09429874271154404, 0.1294296532869339, 0.14052361249923706, 0.014791959896683693, 0.0018489949870854616, 0.0018489949870854616, 0.005546984728425741, 0.005546984728425741, 0.0073959799483418465, 0.0018489949870854616, 0.0018489949870854616, 0.0018489949870854616, 0.3251175582408905, 0.16574621200561523, 0.16255877912044525, 0.050998833030462265, 0.12430965900421143, 0.05418626219034195, 0.07649824768304825, 0.006374854128807783, 0.0031874270644038916, 0.006374854128807783, 0.006374854128807783, 0.009562280960381031, 0.006374854128807783, 0.46623826026916504, 0.008796948939561844, 0.008796948939561844, 0.36947184801101685, 0.04838321730494499, 0.030789319425821304, 0.06597711145877838, 0.447809100151062, 0.447809100151062, 0.7206331491470337, 0.06005276367068291, 0.06005276367068291, 0.12010552734136581, 0.5920387506484985, 0.19734624028205872, 0.1148148849606514, 0.7912917733192444, 0.01861863024532795, 0.006206209771335125, 0.01241241954267025, 0.02172173373401165, 0.009309315122663975, 0.01861863024532795, 0.006206209771335125, 0.17629480361938477, 0.5288844108581543, 0.6844193339347839, 0.0977741926908493, 0.1955483853816986, 0.0014278155285865068, 0.9466416835784912, 0.012850339524447918, 0.005711262114346027, 0.0014278155285865068, 0.02284504845738411, 0.004283446352928877, 0.0028556310571730137, 0.0014278155285865068, 0.004628549795597792, 0.7775963544845581, 0.02005704864859581, 0.0015428499318659306, 0.0015428499318659306, 0.003085699863731861, 0.12497084587812424, 0.038571249693632126, 0.0015428499318659306, 0.02468559890985489, 0.07699659466743469, 0.846962571144104, 0.038498297333717346, 0.038498297333717346, 0.28384241461753845, 0.09461413323879242, 0.5676848292350769, 0.4283103048801422, 0.3546518385410309, 0.20733492076396942, 0.005456182174384594, 0.27668118476867676, 0.13834059238433838, 0.5072488784790039, 0.04611353203654289, 0.472229540348053, 0.472229540348053, 0.027778208255767822, 0.009259402751922607, 0.001219982630573213, 0.001219982630573213, 0.36721476912498474, 0.27327612042427063, 0.32085543870925903, 0.030499566346406937, 0.004879930522292852, 0.482647180557251, 0.2413235902786255, 0.2413235902786255, 0.5549036860466003, 0.06936296075582504, 0.00867037009447813, 0.026011109352111816, 0.08670369535684586, 0.19941850006580353, 0.03468148037791252, 0.00867037009447813, 0.7894440293312073, 0.15445643663406372, 0.01716182567179203, 0.008580912835896015, 0.004290456417948008, 0.008580912835896015, 0.008580912835896015, 0.004290456417948008, 0.5656306743621826, 0.18854357302188873, 0.18854357302188873, 0.22801274061203003, 0.5130286812782288, 0.17100955545902252, 0.08550477772951126, 0.7999218106269836, 0.014544032514095306, 0.007272016257047653, 0.14544032514095306, 0.007272016257047653, 0.014544032514095306, 0.007272016257047653, 0.007272016257047653, 0.13667960464954376, 0.8383015394210815, 0.018223946914076805, 0.13056041300296783, 0.26112082600593567, 0.13056041300296783, 0.13056041300296783, 0.26112082600593567, 0.14597681164741516, 0.4014362096786499, 0.10948260873556137, 0.018247101455926895, 0.03649420291185379, 0.16422390937805176, 0.018247101455926895, 0.07298840582370758, 0.018247101455926895, 0.15741156041622162, 0.47223466634750366, 0.15741156041622162, 0.2618684768676758, 0.7070448994636536, 0.026186848059296608, 0.22340725362300873, 0.6937382817268372, 0.011758276261389256, 0.03527482971549034, 0.02351655252277851, 0.8935216069221497, 0.9551862478256226, 0.40607526898384094, 0.22559736669063568, 0.12510399520397186, 0.10459514707326889, 0.038966819643974304, 0.03691593557596207, 0.02050885185599327, 0.002050885232165456, 0.002050885232165456, 0.008203540928661823, 0.004101770464330912, 0.018457967787981033, 0.004101770464330912, 0.002050885232165456, 0.19135896861553192, 0.38271793723106384, 0.19135896861553192, 0.39313334226608276, 0.19656667113304138, 0.19656667113304138, 0.19656667113304138, 0.07772178202867508, 0.23316535353660583, 0.07772178202867508, 0.46633070707321167, 0.07772178202867508, 0.39962807297706604, 0.37742650508880615, 0.02220155857503414, 0.02220155857503414, 0.04440311715006828, 0.02220155857503414, 0.02220155857503414, 0.02220155857503414, 0.02220155857503414, 0.16793817281723022, 0.16793817281723022, 0.33587634563446045, 0.16793817281723022, 0.16793817281723022, 0.631202757358551, 0.21040092408657074, 0.10520046204328537, 0.33571410179138184, 0.20142845809459686, 0.13428564369678497, 0.06714282184839249, 0.06714282184839249, 0.13428564369678497, 0.2637922763824463, 0.2637922763824463, 0.17586150765419006, 0.2637922763824463, 0.6799608469009399, 0.06204022094607353, 0.04218735173344612, 0.14641492068767548, 0.01737126149237156, 0.01985287107527256, 0.00496321776881814, 0.00992643553763628, 0.00992643553763628, 0.00248160888440907, 0.00248160888440907, 0.00248160888440907, 0.41070055961608887, 0.41070055961608887, 0.579124927520752, 0.13892754912376404, 0.08117114752531052, 0.11239082366228104, 0.012487868778407574, 0.009365902282297611, 0.009365902282297611, 0.0031219671946018934, 0.012487868778407574, 0.010926885530352592, 0.018731804564595222, 0.006243934389203787, 0.004682951141148806, 0.6966301798820496, 0.06966301798820496, 0.06966301798820496, 0.08558599650859833, 0.01194223202764988, 0.007961488328874111, 0.009951859712600708, 0.001990372082218528, 0.007961488328874111, 0.021894091740250587, 0.01194223202764988, 0.001990372082218528, 0.001990372082218528, 0.1888452172279358, 0.4915529787540436, 0.02221708372235298, 0.0138856777921319, 0.23883365094661713, 0.024994220584630966, 0.008331406861543655, 0.005554270930588245, 0.5327053666114807, 0.08878422528505325, 0.1775684505701065, 0.1775684505701065, 0.4128873646259308, 0.05630281940102577, 0.13137324154376984, 0.01876760646700859, 0.1876760721206665, 0.01876760646700859, 0.07507042586803436, 0.03753521293401718, 0.01876760646700859, 0.01876760646700859, 0.12907972931861877, 0.46626758575439453, 0.09746836125850677, 0.005268560256808996, 0.07639412581920624, 0.03424564003944397, 0.09746836125850677, 0.04478276148438454, 0.005268560256808996, 0.00790284015238285, 0.018439961597323418, 0.002634280128404498, 0.005268560256808996, 0.002634280128404498, 0.628248929977417, 0.3141244649887085, 0.38766542077064514, 0.5286346673965454, 0.07048461586236954, 0.11456298828125, 0.2291259765625, 0.2291259765625, 0.2291259765625, 0.11456298828125, 0.11456298828125, 0.11456298828125, 0.29660773277282715, 0.6673673987388611, 0.19763949513435364, 0.1290706843137741, 0.18957257270812988, 0.030250942334532738, 0.1129368469119072, 0.11898703873157501, 0.07461898773908615, 0.09075282514095306, 0.018150566145777702, 0.0020167294424027205, 0.0020167294424027205, 0.0282342117279768, 0.004033458884805441, 0.18857213854789734, 0.18857213854789734, 0.3771442770957947, 0.18857213854789734, 0.7309355139732361, 0.18273387849330902, 0.4582729637622833, 0.4582729637622833, 0.2530616819858551, 0.30578285455703735, 0.10807842761278152, 0.026360591873526573, 0.08435389399528503, 0.0738096535205841, 0.09226207435131073, 0.018452413380146027, 0.013180295936763287, 0.0026360591873526573, 0.0026360591873526573, 0.01054423674941063, 0.005272118374705315, 0.0026360591873526573, 0.42071107029914856, 0.24317696690559387, 0.0701185092329979, 0.07608604431152344, 0.040280845016241074, 0.04923214390873909, 0.050724029541015625, 0.017902597784996033, 0.004475649446249008, 0.007459416054189205, 0.005967532750219107, 0.0029837663751095533, 0.004475649446249008, 0.0029837663751095533, 0.0014918831875547767, 0.8534727692604065, 0.030481169000267982, 0.007620292250066996, 0.053342048078775406, 0.03810146078467369, 0.7313075065612793, 0.18282687664031982, 0.634160041809082, 0.10569334030151367, 0.21138668060302734, 0.4389684796333313, 0.10974211990833282, 0.21948423981666565, 0.10974211990833282, 0.6113093495368958, 0.1746598184108734, 0.0873299092054367, 0.13099487125873566, 0.5714159607887268, 0.3809439539909363, 0.20122653245925903, 0.20122653245925903, 0.20122653245925903, 0.20122653245925903, 0.03453851863741875, 0.27630814909935, 0.20723111927509308, 0.0690770372748375, 0.138154074549675, 0.03453851863741875, 0.0690770372748375, 0.138154074549675, 0.0690770372748375, 0.8982976078987122, 0.05858462676405907, 0.019528208300471306, 0.019528208300471306, 0.9476703405380249, 0.8309071660041809, 0.07838746905326843, 0.015677493065595627, 0.04703248292207718, 0.015677493065595627, 0.34753257036209106, 0.521298885345459, 0.24314430356025696, 0.4862886071205139, 0.16209620237350464, 0.1643640697002411, 0.054788023233413696, 0.13697005808353424, 0.6026682257652283, 0.054788023233413696, 0.27810847759246826, 0.21893645823001862, 0.05325481295585632, 0.10059242695569992, 0.06508921831846237, 0.13609562814235687, 0.0946752205491066, 0.029586007818579674, 0.005917201284319162, 0.017751604318618774, 0.005917201284319162, 0.011834402568638325, 0.18065039813518524, 0.5419511795043945, 0.18065039813518524, 0.48504573106765747, 0.1616819053888321, 0.1616819053888321, 0.1616819053888321, 0.9435643553733826, 0.00842468161135912, 0.03369872644543648, 0.9574306607246399, 0.07018513232469559, 0.008773141540586948, 0.4518167972564697, 0.004386570770293474, 0.20616883039474487, 0.1272105574607849, 0.12282398343086243, 0.004386570770293474, 0.5823861956596375, 0.1712900549173355, 0.02283867448568344, 0.0570966862142086, 0.03425801172852516, 0.03425801172852516, 0.02283867448568344, 0.01141933724284172, 0.01141933724284172, 0.02283867448568344, 0.02283867448568344, 0.827475368976593, 0.006129447370767593, 0.14097727835178375, 0.006129447370767593, 0.006129447370767593, 0.006129447370767593, 0.9476466774940491, 0.14387431740760803, 0.2807869613170624, 0.1810031682252884, 0.023205535486340523, 0.1670798510313034, 0.09978380054235458, 0.055693283677101135, 0.006961660459637642, 0.004641106817871332, 0.004641106817871332, 0.01856442727148533, 0.006961660459637642, 0.002320553408935666, 0.002320553408935666, 0.23601190745830536, 0.300672709941864, 0.19074934720993042, 0.07112687826156616, 0.04202951863408089, 0.04849559813737869, 0.038796477019786835, 0.02263127826154232, 0.009699119254946709, 0.009699119254946709, 0.006466079503297806, 0.019398238509893417, 0.003233039751648903, 0.5489419102668762, 0.18298062682151794, 0.18298062682151794, 0.3190292716026306, 0.07975731790065765, 0.1435631662607193, 0.07975731790065765, 0.06380585581064224, 0.06380585581064224, 0.11166024208068848, 0.01595146395266056, 0.01595146395266056, 0.07975731790065765, 0.01595146395266056, 0.01595146395266056, 0.01595146395266056, 0.01595146395266056, 0.8711875677108765, 0.3303532302379608, 0.3854120969772339, 0.2092237025499344, 0.07708241790533066, 0.17720218002796173, 0.35440436005592346, 0.17720218002796173, 0.17720218002796173, 0.8236566781997681, 0.11766523867845535, 0.5933427810668945, 0.13185395300388336, 0.2637079060077667, 0.5407055616378784, 0.1351763904094696, 0.1351763904094696, 0.3057302236557007, 0.5836668014526367, 0.09264552593231201, 0.45908111333847046, 0.1541200876235962, 0.07542046904563904, 0.07542046904563904, 0.06230386719107628, 0.0655830129981041, 0.03934980928897858, 0.003279150929301977, 0.003279150929301977, 0.03607065975666046, 0.006558301858603954, 0.003279150929301977, 0.009837452322244644, 0.003279150929301977, 0.34297582507133484, 0.24888509511947632, 0.1335480958223343, 0.06070368364453316, 0.057668499648571014, 0.057668499648571014, 0.036422211676836014, 0.01517592091113329, 0.012140736915171146, 0.006070368457585573, 0.006070368457585573, 0.018211105838418007, 0.0030351842287927866, 0.0030351842287927866, 0.9641510844230652, 0.32092636823654175, 0.16046318411827087, 0.16046318411827087, 0.32092636823654175, 0.8252013921737671, 0.01737266033887863, 0.052117981016635895, 0.03474532067775726, 0.008686330169439316, 0.01737266033887863, 0.01737266033887863, 0.008686330169439316, 0.008686330169439316, 0.004343165084719658, 0.004343165084719658, 0.3574232757091522, 0.5182637572288513, 0.05361349135637283, 0.05361349135637283, 0.9391233325004578, 0.03238356113433838, 0.27198389172554016, 0.19012466073036194, 0.301030695438385, 0.047531165182590485, 0.05545302480459213, 0.06601550430059433, 0.03168744221329689, 0.015843721106648445, 0.005281240213662386, 0.005281240213662386, 0.005281240213662386, 0.002640620106831193, 0.35331326723098755, 0.18521052598953247, 0.1658712774515152, 0.062480658292770386, 0.09520862251520157, 0.04686049371957779, 0.04090995714068413, 0.013388712890446186, 0.012644895352423191, 0.004462904296815395, 0.005950538907200098, 0.005950538907200098, 0.007438173983246088, 0.0014876347268000245, 0.3424997925758362, 0.3424997925758362, 0.22833319008350372, 0.4559873938560486, 0.13028211891651154, 0.06514105945825577, 0.06514105945825577, 0.06514105945825577, 0.06514105945825577, 0.13028211891651154, 0.6956230998039246, 0.017951564863324165, 0.22888244688510895, 0.004487891215831041, 0.008975782431662083, 0.004487891215831041, 0.040391020476818085, 0.9217702746391296, 0.22803723812103271, 0.15202482044696808, 0.07601241022348404, 0.45607447624206543, 0.07601241022348404, 0.26194849610328674, 0.260730117559433, 0.20955879986286163, 0.04386114329099655, 0.08406718820333481, 0.05238969996571541, 0.03898768499493599, 0.02314893715083599, 0.0060918256640434265, 0.004873460624366999, 0.0060918256640434265, 0.0060918256640434265, 0.0012183651560917497, 0.896704375743866, 0.5270275473594666, 0.22101154923439026, 0.034001778811216354, 0.05100266635417938, 0.017000889405608177, 0.034001778811216354, 0.08500444144010544, 0.017000889405608177, 0.6181091666221619, 0.24724367260932922, 0.4887107014656067, 0.09774214029312134, 0.09774214029312134, 0.19548428058624268, 0.4569885730743408, 0.30465906858444214, 0.12777632474899292, 0.07666579633951187, 0.17888686060905457, 0.48555004596710205, 0.07666579633951187, 0.025555266067385674, 0.41857749223709106, 0.12642748653888702, 0.17084796726703644, 0.11617661267518997, 0.029044153168797493, 0.04442046955227852, 0.027335673570632935, 0.0205017551779747, 0.017084795981645584, 0.015376316383481026, 0.006833918392658234, 0.005125438794493675, 0.0017084795981645584, 0.8035759925842285, 0.045918628573417664, 0.07461776584386826, 0.017219485715031624, 0.005739828571677208, 0.005739828571677208, 0.011479657143354416, 0.022959314286708832, 0.005739828571677208, 0.005739828571677208, 0.6414130330085754, 0.0727042481303215, 0.06947295367717743, 0.11955810338258743, 0.01777215115725994, 0.01777215115725994, 0.011309550143778324, 0.0016156500205397606, 0.006462600082159042, 0.012925200164318085, 0.021003451198339462, 0.003231300041079521, 0.003231300041079521, 0.0016156500205397606, 0.9074997305870056, 0.047763142734766006, 0.023881571367383003, 0.20206449925899506, 0.4005207121372223, 0.10103224962949753, 0.003608294762670994, 0.046907830983400345, 0.08659907430410385, 0.12629032135009766, 0.007216589525341988, 0.003608294762670994, 0.003608294762670994, 0.003608294762670994, 0.007216589525341988, 0.007216589525341988, 0.003608294762670994, 0.18551170825958252, 0.5565351247787476, 0.18551170825958252, 0.9269381761550903, 0.292905330657959, 0.1464526653289795, 0.1464526653289795, 0.1464526653289795, 0.1464526653289795, 0.7754159569740295, 0.008011550642549992, 0.002002887660637498, 0.25636962056159973, 0.4987190067768097, 0.21631185710430145, 0.014020212925970554, 0.2757722735404968, 0.3151683211326599, 0.3808283805847168, 0.006566006690263748, 0.013132013380527496, 0.31838682293891907, 0.19103208184242249, 0.11049894988536835, 0.0936431810259819, 0.05805877223610878, 0.09926176816225052, 0.07678740471601486, 0.007491454482078552, 0.011237181723117828, 0.005618590861558914, 0.003745727241039276, 0.013110045343637466, 0.003745727241039276, 0.007491454482078552, 0.001872863620519638, 0.2651106119155884, 0.21208849549293518, 0.5302212238311768, 0.3236037790775299, 0.3236037790775299, 0.16180188953876495, 0.16180188953876495, 0.5811367034912109, 0.10698751360177994, 0.09482984244823456, 0.10941904783248901, 0.01458920631557703, 0.02917841263115406, 0.01702074147760868, 0.009726137854158878, 0.009726137854158878, 0.007294603157788515, 0.01458920631557703, 0.004863068927079439, 0.0024315344635397196, 0.30576229095458984, 0.25397998094558716, 0.2737065553665161, 0.02712407521903515, 0.03945319727063179, 0.03452154994010925, 0.02712407521903515, 0.004931649658828974, 0.004931649658828974, 0.004931649658828974, 0.007397474721074104, 0.007397474721074104, 0.002465824829414487, 0.002465824829414487, 0.4134223759174347, 0.17534257471561432, 0.21234145760536194, 0.06756319105625153, 0.03056430071592331, 0.022521063685417175, 0.03860753774642944, 0.011260531842708588, 0.00482594221830368, 0.006434589624404907, 0.00482594221830368, 0.0032172948122024536, 0.0032172948122024536, 0.0016086474061012268, 0.0032172948122024536, 0.5190902352333069, 0.20610934495925903, 0.05190902203321457, 0.07481005787849426, 0.02442777529358864, 0.025954511016607285, 0.0396951325237751, 0.007633679546415806, 0.01221388764679432, 0.01221388764679432, 0.010687150992453098, 0.00305347191169858, 0.004580207634717226, 0.004580207634717226, 0.00152673595584929, 0.6679254174232483, 0.01712629199028015, 0.10275775194168091, 0.11988404393196106, 0.0685051679611206, 0.9472800493240356, 0.5080943703651428, 0.1270235925912857, 0.2540471851825714, 0.9782846570014954, 0.033312246203422546, 0.4330592155456543, 0.033312246203422546, 0.033312246203422546, 0.33312246203422546, 0.09993673861026764, 0.27823275327682495, 0.27823275327682495, 0.28666406869888306, 0.1264694333076477, 0.02529388852417469, 0.3738752603530884, 0.19408825039863586, 0.13892632722854614, 0.04698978736996651, 0.05311889201402664, 0.09806564450263977, 0.02860247902572155, 0.024516411125659943, 0.010215171612799168, 0.006129102781414986, 0.006129102781414986, 0.010215171612799168, 0.0020430341828614473, 0.006129102781414986, 0.26432037353515625, 0.27028247714042664, 0.1609770655632019, 0.009936856105923653, 0.055646397173404694, 0.07750748097896576, 0.09936856478452682, 0.029810568317770958, 0.011924227699637413, 0.0019873713608831167, 0.0019873713608831167, 0.009936856105923653, 0.0019873713608831167, 0.0019873713608831167, 0.0019873713608831167, 0.5472471117973328, 0.18241570889949799, 0.18241570889949799, 0.471830815076828, 0.27018246054649353, 0.07775983214378357, 0.03031315468251705, 0.04481074959039688, 0.027677226811647415, 0.01845148578286171, 0.02899518981575966, 0.010543705895543098, 0.006589815951883793, 0.0013179632369428873, 0.009225742891430855, 0.0013179632369428873, 0.0026359264738857746, 0.4559344947338104, 0.15197816491127014, 0.3039563298225403, 0.30408844351768494, 0.24327075481414795, 0.12163537740707397, 0.06081768870353699, 0.06081768870353699, 0.18245306611061096, 0.8586013913154602, 0.03434405475854874, 0.04808167740702629, 0.04121286794543266, 0.9199880361557007, 0.03833283483982086, 0.92647784948349, 0.026470795273780823, 0.32216382026672363, 0.09475406259298325, 0.05685243755578995, 0.0379016250371933, 0.1516065001487732, 0.13265569508075714, 0.1516065001487732, 0.01895081251859665, 0.36925217509269714, 0.2461681216955185, 0.12308406084775925, 0.12308406084775925, 0.14291831851005554, 0.4287549555301666, 0.2858366370201111, 0.9098594784736633, 0.08760774880647659, 0.043803874403238297, 0.21901936829090118, 0.1314116269350052, 0.39423486590385437, 0.043803874403238297, 0.5008811950683594, 0.12522029876708984, 0.2504405975341797, 0.18528589606285095, 0.3705717921257019, 0.18528589606285095, 0.18528589606285095, 0.35219693183898926, 0.4402461647987366, 0.17609846591949463, 0.14103581011295319, 0.3223675489425659, 0.02014797180891037, 0.14103581011295319, 0.06044391915202141, 0.04029594361782074, 0.2014797180891037, 0.04029594361782074, 0.02014797180891037, 0.3875315189361572, 0.5167086720466614, 0.9535248279571533, 0.6745522618293762, 0.061322931200265884, 0.061322931200265884, 0.12264586240053177, 0.35050663352012634, 0.5257599353790283, 0.17979277670383453, 0.7191711068153381, 0.3002459406852722, 0.6004918813705444, 0.6691835522651672, 0.26767340302467346, 0.11832782626152039, 0.7099669575691223, 0.10042726248502731, 0.20085452497005463, 0.10042726248502731, 0.30128178000450134, 0.20085452497005463, 0.2622208595275879, 0.13111042976379395, 0.5244417190551758, 0.3840327858924866, 0.1920163929462433, 0.1920163929462433, 0.2541295289993286, 0.29043373465538025, 0.03630421683192253, 0.3630421757698059, 0.1940886676311493, 0.3881773352622986, 0.1940886676311493, 0.1940886676311493, 0.5789227485656738, 0.0926276370882988, 0.1852552741765976, 0.06947072595357895, 0.0463138185441494, 0.5393194556236267, 0.13482986390590668, 0.26965972781181335, 0.33030399680137634, 0.16515199840068817, 0.16515199840068817, 0.16515199840068817, 0.2118091732263565, 0.5295228958129883, 0.2118091732263565, 0.8571188449859619, 0.1640392541885376, 0.1640392541885376, 0.1093595027923584, 0.0546797513961792, 0.0546797513961792, 0.4374380111694336, 0.0546797513961792, 0.4429683983325958, 0.08053970336914062, 0.12080956250429153, 0.16107940673828125, 0.04026985168457031, 0.04026985168457031, 0.08053970336914062, 0.39829546213150024, 0.39829546213150024, 0.06010642275214195, 0.2855055034160614, 0.6311174035072327, 0.015026605688035488, 0.08271317183971405, 0.8271317481994629, 0.041356585919857025, 0.19607730209827423, 0.15201498568058014, 0.4185919761657715, 0.01432025246322155, 0.004406231455504894, 0.07049970328807831, 0.09142930060625076, 0.017624925822019577, 0.020929599180817604, 0.0033046735916286707, 0.007710905279964209, 0.0011015578638762236, 0.002203115727752447, 0.1118617057800293, 0.866928219795227, 0.7411894202232361, 0.21176840364933014, 0.9671094417572021, 0.01689274236559868, 0.00422318559139967, 0.00422318559139967, 0.4195214509963989, 0.21699385344982147, 0.06590183824300766, 0.09965643286705017, 0.05143557861447334, 0.0642944723367691, 0.003214723663404584, 0.024110427126288414, 0.006429447326809168, 0.011251532472670078, 0.017680980265140533, 0.014466256834566593, 0.004822085611522198, 0.1330302357673645, 0.266060471534729, 0.532120943069458, 0.15234282612800598, 0.4316380023956299, 0.21581900119781494, 0.012695236131548882, 0.038085706532001495, 0.08886665105819702, 0.012695236131548882, 0.025390472263097763, 0.21997182071208954, 0.2083943486213684, 0.15050703287124634, 0.05788731947541237, 0.023154927417635918, 0.08104224503040314, 0.11577463895082474, 0.011577463708817959, 0.011577463708817959, 0.046309854835271835, 0.023154927417635918, 0.011577463708817959, 0.0347323901951313, 0.5197237133979797, 0.15734754502773285, 0.08582593500614166, 0.09536214917898178, 0.023840537294745445, 0.019072430208325386, 0.019072430208325386, 0.014304322190582752, 0.0047681075520813465, 0.033376749604940414, 0.014304322190582752, 0.0047681075520813465, 0.0047681075520813465, 0.32676708698272705, 0.27271538972854614, 0.14004303514957428, 0.0515948049724102, 0.07370686531066895, 0.027025850489735603, 0.02948274463415146, 0.03193964064121246, 0.0122844772413373, 0.007370686158537865, 0.01474137231707573, 0.004913790617138147, 0.004913790617138147, 0.0024568953085690737, 0.4359421133995056, 0.12656383216381073, 0.09843853861093521, 0.25312766432762146, 0.014062648639082909, 0.056250594556331635, 0.9433566927909851, 0.4880959689617157, 0.15538635849952698, 0.1261371672153473, 0.10968448966741562, 0.021936897188425064, 0.021936897188425064, 0.023764973506331444, 0.016452673822641373, 0.010968448594212532, 0.007312299218028784, 0.001828074804507196, 0.003656149609014392, 0.010968448594212532, 0.001828074804507196, 0.3522752523422241, 0.2791104018688202, 0.3197575509548187, 0.03522752597928047, 0.005419619381427765, 0.796366274356842, 0.32654163241386414, 0.16327081620693207, 0.32654163241386414, 0.3327333331108093, 0.20189104974269867, 0.19907723367214203, 0.0499451719224453, 0.06964185833930969, 0.04080028086900711, 0.05205553025007248, 0.016179421916604042, 0.006331078242510557, 0.006331078242510557, 0.005627625156193972, 0.004220718517899513, 0.010551797226071358, 0.001406906289048493, 0.002813812578096986, 0.2780309319496155, 0.27071431279182434, 0.07682432979345322, 0.03658301755785942, 0.04755792021751404, 0.06950773298740387, 0.14267376065254211, 0.03292471542954445, 0.007316603325307369, 0.007316603325307369, 0.007316603325307369, 0.010974904522299767, 0.014633206650614738, 0.0036583016626536846, 0.19843940436840057, 0.03779798001050949, 0.06614646315574646, 0.6614646315574646, 0.009449495002627373, 0.018898990005254745, 0.6085869073867798, 0.12812356650829315, 0.12812356650829315, 0.03203089162707329, 0.03203089162707329, 0.03203089162707329, 0.296133816242218, 0.35985881090164185, 0.20616909861564636, 0.04873088002204895, 0.026239704340696335, 0.011245587840676308, 0.007497058250010014, 0.007497058250010014, 0.014994116500020027, 0.022491175681352615, 0.003748529125005007, 0.27064627408981323, 0.47761106491088867, 0.08915406465530396, 0.025472590699791908, 0.050945181399583817, 0.017512405291199684, 0.02228851616382599, 0.011144258081912994, 0.006368147674947977, 0.004776110406965017, 0.0031840738374739885, 0.012736295349895954, 0.009552220813930035, 0.8686637282371521, 0.01772783137857914, 0.03545566275715828, 0.03545566275715828, 0.01772783137857914, 0.19013358652591705, 0.7605343461036682, 0.3968771696090698, 0.13229238986968994, 0.2645847797393799, 0.7666066288948059, 0.15332132577896118, 0.1698393076658249, 0.2830654978752136, 0.10190358012914658, 0.011322620324790478, 0.12454882264137268, 0.03396786004304886, 0.04529048129916191, 0.1698393076658249, 0.011322620324790478, 0.011322620324790478, 0.022645240649580956, 0.011322620324790478, 0.011322620324790478, 0.3951181471347809, 0.09877953678369522, 0.09877953678369522, 0.19755907356739044, 0.09877953678369522, 0.44617003202438354, 0.22438959777355194, 0.14872334897518158, 0.0443560853600502, 0.013045907020568848, 0.03391936048865318, 0.028700996190309525, 0.023482633754611015, 0.018264269456267357, 0.0052183629013597965, 0.007827544584870338, 0.0026091814506798983, 0.0026091814506798983, 0.4972057640552521, 0.23658861219882965, 0.08687238395214081, 0.046208713203668594, 0.036966972053050995, 0.020331833511590958, 0.035118620842695236, 0.014786788262426853, 0.009241743013262749, 0.0036966970656067133, 0.0036966970656067133, 0.0036966970656067133, 0.0036966970656067133, 0.0018483485328033566, 0.43250760436058044, 0.10812690109014511, 0.32438069581985474, 0.10812690109014511, 0.20361050963401794, 0.7635394334793091, 0.26812902092933655, 0.3010571300983429, 0.0940803587436676, 0.02587209828197956, 0.06585624814033508, 0.05174419656395912, 0.12700848281383514, 0.03998415172100067, 0.002352008828893304, 0.01646406203508377, 0.009408035315573215, 0.16589631140232086, 0.4976889193058014, 0.16589631140232086, 0.16589631140232086, 0.6051071882247925, 0.11965396255254745, 0.05469895526766777, 0.0393148735165596, 0.07008303701877594, 0.02393079176545143, 0.03076816163957119, 0.017093423753976822, 0.006837369408458471, 0.011965395882725716, 0.0034186847042292356, 0.008546711876988411, 0.006837369408458471, 0.0017093423521146178, 0.723503589630127, 0.03875911980867386, 0.0419890470802784, 0.11627735942602158, 0.012919706292450428, 0.022609487175941467, 0.009689779952168465, 0.012919706292450428, 0.009689779952168465, 0.003229926573112607, 0.006459853146225214, 0.003229926573112607, 0.578357994556427, 0.06777632981538773, 0.10618291795253754, 0.10317063331604004, 0.05045571178197861, 0.032382022589445114, 0.01581447757780552, 0.002259210916236043, 0.014308336190879345, 0.010542985051870346, 0.007530703209340572, 0.0007530703442171216, 0.004518421832472086, 0.0015061406884342432, 0.0030122813768684864, 0.5839610695838928, 0.1291949301958084, 0.04651017487049103, 0.08785255253314972, 0.025838986039161682, 0.020671188831329346, 0.01550339162349701, 0.005167797207832336, 0.036174580454826355, 0.010335594415664673, 0.010335594415664673, 0.010335594415664673, 0.010335594415664673, 0.27712583541870117, 0.09237527847290039, 0.09237527847290039, 0.18475055694580078, 0.09237527847290039, 0.18475055694580078, 0.3568936586380005, 0.10196961462497711, 0.30590885877609253, 0.10196961462497711, 0.10196961462497711, 0.41126513481140137, 0.14097189903259277, 0.1264086812734604, 0.1398068368434906, 0.057087793946266174, 0.05067998170852661, 0.02796136774122715, 0.010485513135790825, 0.009902984835207462, 0.006407813634723425, 0.0052427565678954124, 0.0034951709676533937, 0.007572870701551437, 0.0017475854838266969, 0.0005825285334140062, 0.5841664671897888, 0.13661956787109375, 0.06595427542924881, 0.023555099964141846, 0.04711019992828369, 0.014133059419691563, 0.018844079226255417, 0.05182121694087982, 0.009422039613127708, 0.014133059419691563, 0.004711019806563854, 0.009422039613127708, 0.004711019806563854, 0.014133059419691563, 0.004711019806563854, 0.489272803068161, 0.20968833565711975, 0.04659740999341011, 0.029123380780220032, 0.04659740999341011, 0.029123380780220032, 0.07572078704833984, 0.011649352498352528, 0.01747402921319008, 0.040772732347249985, 0.5398800373077393, 0.043190404772758484, 0.010797601193189621, 0.17276161909103394, 0.08638080954551697, 0.053988002240657806, 0.08638080954551697, 0.8199684619903564, 0.0066126491874456406, 0.0727391391992569, 0.06612648814916611, 0.0066126491874456406, 0.013225298374891281, 0.013225298374891281, 0.48072537779808044, 0.2884352207183838, 0.09614507853984833, 0.9197522401809692, 0.027051536366343498, 0.027051536366343498, 0.5138044953346252, 0.17903701961040497, 0.10699845850467682, 0.06250404566526413, 0.022247204557061195, 0.042375627905130386, 0.03601928427815437, 0.007415734697133303, 0.0063563440926373005, 0.010593906976282597, 0.004237562883645296, 0.002118781441822648, 0.005296953488141298, 0.001059390720911324, 0.5847676992416382, 0.011695354245603085, 0.14034424722194672, 0.15203960239887238, 0.10525818914175034, 0.8485150337219238, 0.12121643871068954, 0.4928784668445587, 0.13215984404087067, 0.17724967002868652, 0.08396036922931671, 0.029541611671447754, 0.041980184614658356, 0.017103038728237152, 0.0015548216179013252, 0.006219286471605301, 0.004664464853703976, 0.004664464853703976, 0.0031096432358026505, 0.004664464853703976, 0.0031096432358026505, 0.5623008608818054, 0.15013575553894043, 0.13030649721622467, 0.08073337376117706, 0.0184128750115633, 0.019829250872135162, 0.014163750223815441, 0.0014163750456646085, 0.00424912478774786, 0.00424912478774786, 0.005665500182658434, 0.002832750091329217, 0.002832750091329217, 0.0014163750456646085, 0.0014163750456646085, 0.535746157169342, 0.09062372893095016, 0.1625896394252777, 0.10128534585237503, 0.03731565177440643, 0.021323230117559433, 0.01599242351949215, 0.007996211759746075, 0.005330807529389858, 0.005330807529389858, 0.007996211759746075, 0.002665403764694929, 0.005330807529389858, 0.002665403764694929, 0.4036397933959961, 0.1938881129026413, 0.1145702451467514, 0.037015002220869064, 0.052878573536872864, 0.052878573536872864, 0.09694405645132065, 0.008813096210360527, 0.024676669389009476, 0.0017626191256567836, 0.007050476502627134, 0.0017626191256567836, 0.003525238251313567, 0.0017626191256567836, 0.6387394070625305, 0.25549575686454773, 0.7702063918113708, 0.05635656788945198, 0.15028418600559235, 0.018785523250699043, 0.9125744104385376, 0.0553075410425663, 0.013826885260641575, 0.8236033916473389, 0.13726723194122314, 0.28698939085006714, 0.4660286605358124, 0.021063443273305893, 0.1632416844367981, 0.0026329304091632366, 0.0026329304091632366, 0.013164651580154896, 0.010531721636652946, 0.005265860818326473, 0.028962234035134315, 0.2734212279319763, 0.05592707172036171, 0.1802094429731369, 0.45984479784965515, 0.006214119028300047, 0.012428238056600094, 0.6143414974212646, 0.0024378630332648754, 0.3364250957965851, 0.0024378630332648754, 0.004875726066529751, 0.02437863126397133, 0.007313589099794626, 0.0024378630332648754, 0.5050035119056702, 0.47188854217529297, 0.008278746157884598, 0.008278746157884598, 0.9082246422767639, 0.08256588131189346, 0.8735475540161133, 0.4057910144329071, 0.27052733302116394, 0.04508788883686066, 0.15029296278953552, 0.015029297210276127, 0.015029297210276127, 0.09017577767372131, 0.3604559600353241, 0.19194558262825012, 0.0970887541770935, 0.046870432794094086, 0.1294516772031784, 0.053566209971904755, 0.0546821728348732, 0.010043664835393429, 0.014507515355944633, 0.011159626767039299, 0.003347888123244047, 0.023435216397047043, 0.002231925493106246, 0.001115962746553123, 0.001115962746553123, 0.23061959445476532, 0.6259674429893494, 0.09883696585893631, 0.935858428478241, 0.9574562907218933, 0.0017244856571778655, 0.9657119512557983, 0.005173456855118275, 0.00862242840230465, 0.0017244856571778655, 0.005173456855118275, 0.006897942628711462, 0.003448971314355731, 0.7474378943443298, 0.10192334651947021, 0.10192334651947021, 0.17570772767066956, 0.38985151052474976, 0.027454331517219543, 0.07138126343488693, 0.06589039415121078, 0.15374426543712616, 0.05490866303443909, 0.005490866489708424, 0.005490866489708424, 0.005490866489708424, 0.03843606635928154, 0.010981732979416847, 0.26262128353118896, 0.2708281874656677, 0.18055212497711182, 0.012310372665524483, 0.10668989270925522, 0.020517287775874138, 0.024620745331048965, 0.09437952190637589, 0.008206915110349655, 0.012310372665524483, 0.008206915110349655, 0.004103457555174828, 0.24001744389533997, 0.12500908970832825, 0.14001017808914185, 0.010000727139413357, 0.2050148993730545, 0.04000290855765343, 0.13500981032848358, 0.05000363662838936, 0.015001090243458748, 0.005000363569706678, 0.015001090243458748, 0.015001090243458748, 0.1220225989818573, 0.8053491115570068, 0.04880904033780098, 0.1514163464307785, 0.37854087352752686, 0.37854087352752686, 0.6558879613876343, 0.20078203082084656, 0.033463671803474426, 0.0133854690939188, 0.0066927345469594, 0.04015640914440155, 0.0133854690939188, 0.0133854690939188, 0.0133854690939188, 0.0133854690939188, 0.43948352336883545, 0.40432485938072205, 0.035158682614564896, 0.017579341307282448, 0.08789670467376709, 0.5580940842628479, 0.13952352106571198, 0.27904704213142395, 0.11929118633270264, 0.47716474533081055, 0.23858237266540527, 0.11929118633270264, 0.8238824009895325, 0.1647764891386032, 0.4620741307735443, 0.15402470529079437, 0.15402470529079437, 0.051341570913791656, 0.10268314182758331, 0.4964606761932373, 0.3309737741947174, 0.5597023367881775, 0.07749724388122559, 0.07749724388122559, 0.13777287304401398, 0.05166482925415039, 0.034443218261003494, 0.025832414627075195, 0.008610804565250874, 0.008610804565250874, 0.017221609130501747, 0.047494079917669296, 0.047494079917669296, 0.1424822360277176, 0.23747040331363678, 0.047494079917669296, 0.18997631967067719, 0.18997631967067719, 0.047494079917669296, 0.047494079917669296, 0.940741777420044, 0.009502441622316837, 0.019004883244633675, 0.019004883244633675, 0.9343723654747009, 0.3567078113555908, 0.0891769528388977, 0.3567078113555908, 0.1783539056777954, 0.11835967004299164, 0.5917983651161194, 0.23671934008598328, 0.4328994154930115, 0.20862622559070587, 0.10257456451654434, 0.03824814036488533, 0.0904046967625618, 0.0452023483812809, 0.0452023483812809, 0.0069542075507342815, 0.0069542075507342815, 0.0069542075507342815, 0.005215655546635389, 0.0017385518876835704, 0.0069542075507342815, 0.0017385518876835704, 0.0017385518876835704, 0.18983621895313263, 0.18983621895313263, 0.18983621895313263, 0.37967243790626526, 0.0962337926030159, 0.1924675852060318, 0.5774027705192566, 0.13195398449897766, 0.2731911838054657, 0.3282272517681122, 0.05105757340788841, 0.06896087527275085, 0.0822225883603096, 0.03646969422698021, 0.0026523414999246597, 0.00397851224988699, 0.009283195249736309, 0.007293939124792814, 0.0033154268749058247, 0.0006630853749811649, 0.7361835241317749, 0.18404588103294373, 0.2896215617656708, 0.2896215617656708, 0.1448107808828354, 0.40027907490730286, 0.4803348779678345, 0.4026656448841095, 0.12155944108963013, 0.15194930136203766, 0.05318225547671318, 0.030389860272407532, 0.060779720544815063, 0.1291569024324417, 0.007597465068101883, 0.015194930136203766, 0.007597465068101883, 0.007597465068101883, 0.007597465068101883, 0.007597465068101883, 0.7748712301254272, 0.15497425198554993, 0.5215652585029602, 0.4475593864917755, 0.0035240896977484226, 0.007048179395496845, 0.01057226862758398, 0.8960127830505371, 0.012800182215869427, 0.07680109143257141, 0.012800182215869427, 0.8644561767578125, 0.03601900860667229, 0.07203801721334457, 0.7958540320396423, 0.09948175400495529, 0.350175142288208, 0.25236085057258606, 0.197584867477417, 0.052819717675447464, 0.025431714951992035, 0.033256858587265015, 0.044994574040174484, 0.007825142703950405, 0.0039125713519752026, 0.01369400043040514, 0.0058688572607934475, 0.0039125713519752026, 0.0019562856759876013, 0.0019562856759876013, 0.20208144187927246, 0.4655357599258423, 0.1062798723578453, 0.0553852841258049, 0.016465894877910614, 0.016465894877910614, 0.026944192126393318, 0.07334808260202408, 0.011975196190178394, 0.00449069868773222, 0.00449069868773222, 0.005987598095089197, 0.010478297248482704, 0.19922985136508942, 0.37632304430007935, 0.08854659646749496, 0.04427329823374748, 0.06640995293855667, 0.04427329823374748, 0.04427329823374748, 0.02213664911687374, 0.08854659646749496, 0.19298459589481354, 0.19298459589481354, 0.19298459589481354, 0.19298459589481354, 0.6229794025421143, 0.15574485063552856, 0.15574485063552856, 0.577434241771698, 0.288717120885849, 0.8233686089515686, 0.1510140299797058, 0.755070149898529, 0.5416979789733887, 0.1257513165473938, 0.06771224737167358, 0.10318056493997574, 0.03869271278381348, 0.03224392607808113, 0.022570747882127762, 0.00967317819595337, 0.006448785308748484, 0.016121963039040565, 0.006448785308748484, 0.00967317819595337, 0.00967317819595337, 0.00967317819595337, 0.9357454776763916, 0.19360242784023285, 0.7467522621154785, 0.027657490223646164, 0.5488663911819458, 0.14618049561977386, 0.14618049561977386, 0.06343682110309601, 0.019306859001517296, 0.013790613040328026, 0.01654873602092266, 0.005516245029866695, 0.00827436801046133, 0.005516245029866695, 0.01654873602092266, 0.005516245029866695, 0.0027581225149333477, 0.0027581225149333477, 0.6936318278312683, 0.08670397847890854, 0.17340795695781708, 0.12131954729557037, 0.12131954729557037, 0.4852781891822815, 0.12131954729557037, 0.40352314710617065, 0.26901543140411377, 0.26901543140411377, 0.8692296743392944, 0.026745527982711792, 0.06686381995677948, 0.013372763991355896, 0.013372763991355896, 0.14383596181869507, 0.14383596181869507, 0.4890422821044922, 0.019178127869963646, 0.03835625573992729, 0.03835625573992729, 0.07671251147985458, 0.019178127869963646, 0.019178127869963646, 0.009589063934981823, 0.04218912497162819, 0.1898510605096817, 0.44298580288887024, 0.04218912497162819, 0.10547281056642532, 0.1476619392633438, 0.5454249382019043, 0.07791784405708313, 0.07791784405708313, 0.15583568811416626, 0.07791784405708313, 0.7209522128105164, 0.07177621871232986, 0.06699113547801971, 0.05423092097043991, 0.009570162743330002, 0.011165189556777477, 0.023925406858325005, 0.003190054092556238, 0.007975134998559952, 0.009570162743330002, 0.009570162743330002, 0.001595027046278119, 0.006380108185112476, 0.003190054092556238, 0.001595027046278119, 0.5789237022399902, 0.3666516840457916, 0.019297456368803978, 0.3754916489124298, 0.1877458244562149, 0.1877458244562149, 0.1877458244562149, 0.13349199295043945, 0.13349199295043945, 0.6674599647521973, 0.24749508500099182, 0.1455853432416916, 0.3548642694950104, 0.04003597050905228, 0.0818917527794838, 0.052774686366319656, 0.030936885625123978, 0.01637835055589676, 0.014558534137904644, 0.0018198167672380805, 0.0018198167672380805, 0.003639633534476161, 0.005459450650960207, 0.0018198167672380805, 0.0018198167672380805, 0.5774021744728088, 0.06485313922166824, 0.10250980406999588, 0.06903721392154694, 0.0585770308971405, 0.046024810522794724, 0.016736295074224472, 0.010460183955729008, 0.02928851544857025, 0.002092036884278059, 0.006276110652834177, 0.002092036884278059, 0.014644257724285126, 0.002092036884278059, 0.6449911594390869, 0.0716656818985939, 0.0716656818985939, 0.1433313637971878, 0.944388747215271, 0.032565128058195114, 0.8951852321624756, 0.7419460415840149, 0.18548651039600372, 0.5382835268974304, 0.05382835492491722, 0.05382835492491722, 0.21531341969966888, 0.05382835492491722, 0.35201194882392883, 0.5280179381370544, 0.2380518913269043, 0.19713672995567322, 0.13390418887138367, 0.07811077684164047, 0.1636606752872467, 0.06323253363370895, 0.07439121603965759, 0.0037195608019828796, 0.018597804009914398, 0.007439121603965759, 0.007439121603965759, 0.007439121603965759, 0.0037195608019828796, 0.7524000406265259, 0.18810001015663147, 0.20143915712833405, 0.25179892778396606, 0.05035978928208351, 0.15107937157154083, 0.15107937157154083, 0.10071957856416702, 0.05035978928208351, 0.05035978928208351, 0.3195733428001404, 0.1597866714000702, 0.1597866714000702, 0.3195733428001404, 0.050158433616161346, 0.8526933789253235, 0.10031686723232269, 0.823726236820221, 0.12672710418701172, 0.038018133491277695, 0.8987788558006287, 0.444937139749527, 0.0967254638671875, 0.03869018703699112, 0.21279601752758026, 0.03869018703699112, 0.03869018703699112, 0.03869018703699112, 0.0967254638671875, 0.10062696784734726, 0.4192790389060974, 0.11739812791347504, 0.25156742334365845, 0.08385580778121948, 0.1960105001926422, 0.1960105001926422, 0.3920210003852844, 0.0672902837395668, 0.8243060111999512, 0.08411286026239395, 0.0168225709348917, 0.5412347316741943, 0.07465306669473648, 0.05598979815840721, 0.11197959631681442, 0.1306428611278534, 0.03732653334736824, 0.01866326667368412, 0.9107924699783325, 0.4561358690261841, 0.5050075650215149, 0.005430188961327076, 0.021720755845308304, 0.005430188961327076, 0.6076253652572632, 0.2897905707359314, 0.07478465884923935, 0.009348082356154919, 0.6534804105758667, 0.2987338900566101, 0.01867086812853813, 0.01867086812853813, 0.625096321105957, 0.15627408027648926, 0.15627408027648926, 0.8200178146362305, 0.2853845953941345, 0.21106569468975067, 0.17539262771606445, 0.05648237094283104, 0.15458332002162933, 0.050536856055259705, 0.017836537212133408, 0.005945512559264898, 0.020809294655919075, 0.005945512559264898, 0.005945512559264898, 0.002972756279632449, 0.002972756279632449, 0.002972756279632449, 0.002972756279632449, 0.5107510685920715, 0.18334652483463287, 0.2750197947025299, 0.02619236148893833, 0.7468801736831665, 0.18672004342079163, 0.952603280544281, 0.3474927246570587, 0.17374636232852936, 0.3474927246570587, 0.17374636232852936, 0.18520388007164001, 0.5556116104125977, 0.18520388007164001, 0.24651828408241272, 0.6471105217933655, 0.03081478551030159, 0.03081478551030159, 0.5752171874046326, 0.023008687421679497, 0.20707818865776062, 0.023008687421679497, 0.046017374843358994, 0.11504343897104263, 0.15934526920318604, 0.7967263460159302, 0.6363970637321472, 0.3181985318660736, 0.8165042400360107, 0.40438973903656006, 0.2081417739391327, 0.10704434663057327, 0.053522173315286636, 0.07136289775371552, 0.02973453886806965, 0.06145138293504715, 0.013876118697226048, 0.015858421102166176, 0.015858421102166176, 0.001982302637770772, 0.007929210551083088, 0.003964605275541544, 0.003964605275541544, 0.001982302637770772, 0.11938528716564178, 0.7163116931915283, 0.11938528716564178, 0.1796518862247467, 0.3593037724494934, 0.3593037724494934, 0.5347498655319214, 0.012436042539775372, 0.44769755005836487, 0.37474218010902405, 0.18737109005451202, 0.37474218010902405, 0.25735875964164734, 0.15756657719612122, 0.15494047105312347, 0.049896083772182465, 0.10241827368736267, 0.1496882438659668, 0.047269973903894424, 0.010504438541829586, 0.036765534430742264, 0.0026261096354573965, 0.015756657347083092, 0.010504438541829586, 0.0026261096354573965, 0.2803661823272705, 0.14018309116363525, 0.2803661823272705, 0.2803661823272705, 0.13886065781116486, 0.14954225718975067, 0.18158702552318573, 0.010681589134037495, 0.010681589134037495, 0.06408953666687012, 0.3311292827129364, 0.02136317826807499, 0.0534079484641552, 0.03204476833343506, 0.9373261332511902, 0.03749304637312889, 0.1400385946035385, 0.280077189207077, 0.280077189207077, 0.1400385946035385, 0.26654836535453796, 0.26654836535453796, 0.08884946256875992, 0.26654836535453796, 0.7054309248924255, 0.1410861760377884, 0.42445871233940125, 0.09095543622970581, 0.21222935616970062, 0.09095543622970581, 0.030318479984998703, 0.030318479984998703, 0.030318479984998703, 0.09095543622970581, 0.6070510149002075, 0.10117516666650772, 0.20235033333301544, 0.38179802894592285, 0.19089901447296143, 0.38179802894592285, 0.3284760117530823, 0.21411769092082977, 0.1508556455373764, 0.06082889065146446, 0.04379680007696152, 0.04136364534497261, 0.08516044914722443, 0.038930490612983704, 0.009732622653245926, 0.007299466989934444, 0.012165778316557407, 0.0024331556633114815, 0.0024331556633114815, 0.677797794342041, 0.2711191177368164, 0.18944281339645386, 0.18944281339645386, 0.5683284401893616, 0.32852739095687866, 0.2884630560874939, 0.04807717725634575, 0.0320514515042305, 0.08012863248586655, 0.01602572575211525, 0.0961543545126915, 0.008012862876057625, 0.024038588628172874, 0.01602572575211525, 0.04807717725634575, 0.44656848907470703, 0.11164212226867676, 0.3349263668060303, 0.13818447291851044, 0.2763689458370209, 0.2763689458370209, 0.2763689458370209, 0.16824042797088623, 0.4626612067222595, 0.12618032097816467, 0.04206010699272156, 0.04206010699272156, 0.12618032097816467, 0.04206010699272156, 0.3174462616443634, 0.4040225148200989, 0.02885875105857849, 0.02885875105857849, 0.02885875105857849, 0.02885875105857849, 0.02885875105857849, 0.11543500423431396, 0.9102247953414917, 0.15231451392173767, 0.30462902784347534, 0.15231451392173767, 0.30462902784347534, 0.5059376955032349, 0.33729177713394165, 0.16864588856697083, 0.11616706848144531, 0.23233413696289062, 0.46466827392578125, 0.11616706848144531, 0.40169960260391235, 0.13389986753463745, 0.022316643968224525, 0.04463328793644905, 0.06694993376731873, 0.06694993376731873, 0.022316643968224525, 0.11158321797847748, 0.022316643968224525, 0.06694993376731873, 0.04463328793644905, 0.12409354001283646, 0.18614031374454498, 0.2481870800256729, 0.06204677000641823, 0.06204677000641823, 0.06204677000641823, 0.18614031374454498, 0.06204677000641823, 0.07551852613687515, 0.3020741045475006, 0.4531111419200897, 0.07551852613687515, 0.42969098687171936, 0.21484549343585968, 0.10742274671792984, 0.21484549343585968, 0.1603281944990158, 0.8016409873962402, 0.03206564113497734, 0.40662479400634766, 0.27108317613601685, 0.13554158806800842, 0.11095736920833588, 0.8401058316230774, 0.015851052477955818, 0.031702104955911636, 0.10705244541168213, 0.6423146724700928, 0.21410489082336426, 0.6307536363601685, 0.31537681818008423, 0.40887460112571716, 0.21027837693691254, 0.28037115931510925, 0.07009278982877731, 0.023364262655377388, 0.8034533858299255, 0.03919284790754318, 0.07838569581508636, 0.01959642395377159, 0.01959642395377159, 0.03919284790754318, 0.8737199306488037, 0.19752782583236694, 0.3950556516647339, 0.19752782583236694, 0.19752782583236694, 0.3357577621936798, 0.1678788810968399, 0.1678788810968399, 0.1678788810968399, 0.655119776725769, 0.11911268532276154, 0.05955634266138077, 0.05955634266138077, 0.05955634266138077, 0.029778171330690384, 0.20876218378543854, 0.10438109189271927, 0.5219054222106934, 0.3196259140968323, 0.15981295704841614, 0.15981295704841614, 0.15981295704841614, 0.4296058118343353, 0.04686608910560608, 0.484282910823822, 0.02343304455280304, 0.007811015006154776, 0.8926689624786377, 0.06841930747032166, 0.2736772298812866, 0.20525792241096497, 0.06841930747032166, 0.2736772298812866, 0.18533986806869507, 0.5560196042060852, 0.18533986806869507, 0.04009262099862099, 0.12027786672115326, 0.08018524199724197, 0.04009262099862099, 0.04009262099862099, 0.20046310126781464, 0.44101881980895996, 0.04009262099862099, 0.4224517047405243, 0.14081723988056183, 0.28163447976112366, 0.1703217476606369, 0.4954814612865448, 0.0619351826608181, 0.015483795665204525, 0.015483795665204525, 0.03096759133040905, 0.03096759133040905, 0.015483795665204525, 0.03096759133040905, 0.015483795665204525, 0.0774189755320549, 0.015483795665204525, 0.5517094135284424, 0.14518669247627258, 0.11614935100078583, 0.08711200952529907, 0.029037337750196457, 0.029037337750196457, 0.11803224682807922, 0.43758296966552734, 0.21879148483276367, 0.023030681535601616, 0.057576704770326614, 0.04030369222164154, 0.05181903392076492, 0.028788352385163307, 0.005757670383900404, 0.002878835191950202, 0.002878835191950202, 0.011515340767800808, 0.002878835191950202, 0.002878835191950202, 0.2166557013988495, 0.2166557013988495, 0.2166557013988495, 0.3100070655345917, 0.051667846739292145, 0.051667846739292145, 0.5166784524917603, 0.3120102882385254, 0.1040034294128418, 0.4160137176513672, 0.5591649413108826, 0.1863883137702942, 0.3306119740009308, 0.3306119740009308, 0.1653059870004654, 0.617904782295227, 0.3089523911476135, 0.6455265283584595, 0.1844361573457718, 0.0922180786728859, 0.38084372878074646, 0.5331812500953674, 0.07616874575614929, 0.720765233039856, 0.24025508761405945, 0.8827915191650391, 0.01697675883769989, 0.05093028023838997, 0.01697675883769989, 0.01697675883769989, 0.838000476360321, 0.11971435695886612, 0.3018771708011627, 0.15093858540058136, 0.4528157413005829, 0.06624602526426315, 0.09274443238973618, 0.17223966121673584, 0.30473172664642334, 0.01324920542538166, 0.2649841010570526, 0.02649841085076332, 0.06624602526426315, 0.8183397650718689, 0.14052298665046692, 0.016532117500901222, 0.0027553527615964413, 0.008266058750450611, 0.0055107055231928825, 0.0055107055231928825, 0.40538889169692993, 0.22122330963611603, 0.2043788880109787, 0.09882055968046188, 0.021336257457733154, 0.0067377653904259205, 0.012352569960057735, 0.0067377653904259205, 0.007860726676881313, 0.004491843748837709, 0.004491843748837709, 0.0011229609372094274, 0.0033688826952129602, 0.0011229609372094274, 0.0011229609372094274, 0.7509883046150208, 0.059400204569101334, 0.03394297510385513, 0.10607179254293442, 0.016971487551927567, 0.008485743775963783, 0.004242871887981892, 0.004242871887981892, 0.012728615663945675, 0.5973711609840393, 0.19912372529506683, 0.19912372529506683, 0.8842291831970215, 0.07859814912080765, 0.5683691501617432, 0.18945638835430145, 0.18945638835430145, 0.8835917711257935, 0.08032651990652084, 0.013387753628194332, 0.013387753628194332, 0.42385274171829224, 0.26972445845603943, 0.0385320670902729, 0.0385320670902729, 0.11559620499610901, 0.0385320670902729, 0.0385320670902729, 0.33785226941108704, 0.16892613470554352, 0.16892613470554352, 0.16892613470554352, 0.6712173819541931, 0.1258532553911209, 0.08390217274427414, 0.04195108637213707, 0.04195108637213707, 0.8731248378753662, 0.5558416247367859, 0.37056106328964233, 0.41983500123023987, 0.13994500041007996, 0.13994500041007996, 0.2798900008201599, 0.5167054533958435, 0.1722351610660553, 0.1722351610660553, 0.5031697154045105, 0.20537538826465607, 0.1245088279247284, 0.03465709835290909, 0.029522711411118507, 0.01540315430611372, 0.037224289029836655, 0.010268769226968288, 0.00898517295718193, 0.005134384613484144, 0.011552365496754646, 0.001283596153371036, 0.011552365496754646, 0.001283596153371036, 0.15837810933589935, 0.7390978932380676, 0.2010202705860138, 0.2010202705860138, 0.2010202705860138, 0.2010202705860138, 0.44274598360061646, 0.14758199453353882, 0.14758199453353882, 0.14758199453353882, 0.9414697885513306, 0.6425843238830566, 0.004041410982608795, 0.020207054913043976, 0.23440183699131012, 0.036372698843479156, 0.00808282196521759, 0.02424846589565277, 0.012124232947826385, 0.01616564393043518, 0.15472343564033508, 0.07736171782016754, 0.07736171782016754, 0.46417033672332764, 0.07736171782016754, 0.07736171782016754, 0.20341674983501434, 0.20341674983501434, 0.20341674983501434, 0.20341674983501434, 0.20341674983501434, 0.39211103320121765, 0.19605551660060883, 0.39211103320121765, 0.9473149180412292, 0.918846607208252, 0.04176575690507889, 0.35879814624786377, 0.14351926743984222, 0.35879814624786377, 0.07175963371992111, 0.45476359128952026, 0.45476359128952026, 0.39405640959739685, 0.21046194434165955, 0.10746993124485016, 0.10523097217082977, 0.049257051199674606, 0.03806226700544357, 0.04030122235417366, 0.01343374140560627, 0.006716870702803135, 0.006716870702803135, 0.002238956745713949, 0.006716870702803135, 0.01343374140560627, 0.002238956745713949, 0.8645651340484619, 0.4238828122615814, 0.14129427075386047, 0.05072101950645447, 0.08695031702518463, 0.10868790000677109, 0.04709808900952339, 0.0760815292596817, 0.014491720125079155, 0.02898344025015831, 0.010868789628148079, 0.0036229300312697887, 0.0036229300312697887, 0.9532179832458496, 0.5126505494117737, 0.27286237478256226, 0.09095412492752075, 0.041342783719301224, 0.01653711311519146, 0.024805670604109764, 0.00826855655759573, 0.01653711311519146, 0.01653711311519146, 0.5327028632164001, 0.3551352322101593, 0.51790851354599, 0.08631809055805206, 0.08631809055805206, 0.17263618111610413, 0.08631809055805206, 0.33527806401252747, 0.19703029096126556, 0.2362186461687088, 0.047896869480609894, 0.05225113034248352, 0.05551682412624359, 0.034834086894989014, 0.01306278258562088, 0.008708521723747253, 0.0010885652154684067, 0.004354260861873627, 0.008708521723747253, 0.0010885652154684067, 0.00326569564640522, 0.00326569564640522, 0.08328696340322495, 0.22209857404232025, 0.19433625042438507, 0.3053855299949646, 0.1388116031885147, 0.05552464351058006, 0.5354431867599487, 0.11640069633722305, 0.11640069633722305, 0.11640069633722305, 0.034920208156108856, 0.01164006907492876, 0.02328013814985752, 0.01164006907492876, 0.02328013814985752, 0.6215091943740845, 0.15537729859352112, 0.6887586712837219, 0.05989205837249756, 0.11978411674499512, 0.02994602918624878, 0.02994602918624878, 0.02994602918624878, 0.02994602918624878, 0.7719523906707764, 0.15439048409461975, 0.31298694014549255, 0.2453140914440155, 0.3096033036708832, 0.00338364252820611, 0.05752192437648773, 0.00338364252820611, 0.005075464025139809, 0.00676728505641222, 0.03214460611343384, 0.001691821264103055, 0.01353457011282444, 0.005075464025139809, 0.00338364252820611, 0.06855926662683487, 0.7508076429367065, 0.038460079580545425, 0.001672177342697978, 0.025082658976316452, 0.01003306359052658, 0.05852620676159859, 0.03511572256684303, 0.00501653179526329, 0.001672177342697978, 0.006688709370791912, 0.001672177342697978, 0.1855364590883255, 0.5511524081230164, 0.0272847730666399, 0.016370864585042, 0.0436556376516819, 0.0054569547064602375, 0.032741729170084, 0.04911259189248085, 0.06002650037407875, 0.0054569547064602375, 0.02182781882584095, 0.4616507291793823, 0.15388357639312744, 0.3077671527862549, 0.4108366370201111, 0.20541831851005554, 0.20541831851005554, 0.10270915925502777, 0.9591223001480103, 0.02767123468220234, 0.03689498081803322, 0.5626484751701355, 0.1568036675453186, 0.1291324347257614, 0.04611872509121895, 0.01844749040901661, 0.02767123468220234, 0.42940500378608704, 0.4465811848640442, 0.10305719822645187, 0.3751705586910248, 0.1875852793455124, 0.1875852793455124, 0.577030599117279, 0.19234353303909302, 0.19234353303909302, 0.25800928473472595, 0.3295581042766571, 0.19513307511806488, 0.03252217918634415, 0.031438108533620834, 0.059623997658491135, 0.045531053096055984, 0.024933671578764915, 0.004336290527135134, 0.002168145263567567, 0.003252218011766672, 0.007588508538901806, 0.0010840726317837834, 0.003252218011766672, 0.002168145263567567, 0.9625914692878723, 0.03565153479576111, 0.06740591675043106, 0.20221774280071259, 0.20221774280071259, 0.06740591675043106, 0.06740591675043106, 0.13481183350086212, 0.20221774280071259, 0.37128767371177673, 0.18564383685588837, 0.18564383685588837, 0.5491865873336792, 0.18306221067905426, 0.18306221067905426, 0.36467722058296204, 0.36467722058296204, 0.18233861029148102, 0.8043894171714783, 0.040728580206632614, 0.005091072525829077, 0.09163930267095566, 0.005091072525829077, 0.010182145051658154, 0.030546434223651886, 0.010182145051658154, 0.5041710138320923, 0.12604275345802307, 0.25208550691604614, 0.600581705570221, 0.08579738438129425, 0.25739216804504395, 0.15867604315280914, 0.15867604315280914, 0.15867604315280914, 0.3173520863056183, 0.15867604315280914, 0.13648062944412231, 0.5459225177764893, 0.13648062944412231, 0.95481276512146, 0.025126652792096138, 0.9177348017692566, 0.03164602816104889, 0.5633850693702698, 0.2816925346851349, 0.7065634727478027, 0.935369610786438, 0.6691557168960571, 0.04888809099793434, 0.030555056408047676, 0.17721933126449585, 0.021388540044426918, 0.009166517294943333, 0.009166517294943333, 0.0030555056873708963, 0.0030555056873708963, 0.015277528204023838, 0.009166517294943333, 0.0030555056873708963, 0.0030555056873708963, 0.0030555056873708963, 0.9614232182502747, 0.9482294917106628, 0.733569860458374, 0.07803934812545776, 0.054627541452646255, 0.04292163997888565, 0.027313770726323128, 0.0078039346262812614, 0.0078039346262812614, 0.01170590240508318, 0.01170590240508318, 0.0078039346262812614, 0.01170590240508318, 0.0078039346262812614, 0.0039019673131406307, 0.5455998182296753, 0.13639995455741882, 0.13639995455741882, 0.13639995455741882, 0.16263480484485626, 0.3252696096897125, 0.16263480484485626, 0.16263480484485626, 0.16263480484485626, 0.3536944091320038, 0.565911054611206, 0.07073888182640076, 0.3895336985588074, 0.03541215509176254, 0.3895336985588074, 0.03541215509176254, 0.03541215509176254, 0.03541215509176254, 0.9353572130203247, 0.6421815752983093, 0.16054539382457733, 0.16054539382457733, 0.3804917633533478, 0.3804917633533478, 0.1902458816766739, 0.5006487369537354, 0.33376583456993103, 0.16688291728496552, 0.16449607908725739, 0.49348825216293335, 0.16449607908725739, 0.16449607908725739, 0.3245944380760193, 0.21054774522781372, 0.16375936567783356, 0.07895540446043015, 0.08480395376682281, 0.04678839072585106, 0.05263693630695343, 0.014621371403336525, 0.002924274420365691, 0.005848548840731382, 0.002924274420365691, 0.002924274420365691, 0.002924274420365691, 0.00877282302826643, 0.17523352801799774, 0.25033360719680786, 0.05006672069430351, 0.025033360347151756, 0.07510008662939072, 0.07510008662939072, 0.3504670560359955, 0.025033360347151756, 0.2018919736146927, 0.2396441400051117, 0.28888607025146484, 0.029545167461037636, 0.09191829711198807, 0.0689387246966362, 0.021338175982236862, 0.042676351964473724, 0.004924194421619177, 0.001641398179344833, 0.001641398179344833, 0.001641398179344833, 0.001641398179344833, 0.001641398179344833, 0.3726523220539093, 0.18632616102695465, 0.18632616102695465, 0.18632616102695465, 0.7413816452026367, 0.21182332932949066, 0.1968616247177124, 0.3937232494354248, 0.1968616247177124, 0.1968616247177124, 0.9556362628936768, 0.04343801364302635, 0.9362662434577942, 0.44847649335861206, 0.2284691482782364, 0.13538913428783417, 0.08884911239147186, 0.012692730873823166, 0.012692730873823166, 0.008461820892989635, 0.004230910446494818, 0.004230910446494818, 0.025385461747646332, 0.01692364178597927, 0.012692730873823166, 0.9096603393554688, 0.421502023935318, 0.1391751915216446, 0.14712806046009064, 0.04771720990538597, 0.04771720990538597, 0.051693644374608994, 0.07157581299543381, 0.019882170483469963, 0.003976434003561735, 0.01590573601424694, 0.011929302476346493, 0.011929302476346493, 0.00795286800712347, 0.38275402784347534, 0.2551693618297577, 0.2551693618297577, 0.12758468091487885, 0.6494132280349731, 0.10823553055524826, 0.21647106111049652, 0.020622145384550095, 0.06186643987894058, 0.45368722081184387, 0.4124429225921631, 0.020622145384550095, 0.4617869555950165, 0.14896352589130402, 0.16385988891124725, 0.052137237042188644, 0.052137237042188644, 0.022344529628753662, 0.022344529628753662, 0.014896353706717491, 0.037240881472826004, 0.029792707413434982, 0.4295240342617035, 0.21846480667591095, 0.1462603360414505, 0.06479888409376144, 0.04258212447166443, 0.01666256971657276, 0.01666256971657276, 0.012959777377545834, 0.011108379811048508, 0.009256983175873756, 0.009256983175873756, 0.0037027935031801462, 0.011108379811048508, 0.0018513967515900731, 0.0037027935031801462, 0.5533010363578796, 0.06916262954473495, 0.02766505256295204, 0.2351529449224472, 0.02766505256295204, 0.05533010512590408, 0.12987953424453735, 0.18572773039340973, 0.3480771481990814, 0.028573496267199516, 0.12208675593137741, 0.11429398506879807, 0.03117108717560768, 0.011689157225191593, 0.009091567248106003, 0.0025975906755775213, 0.00389638589695096, 0.00389638589695096, 0.00779277179390192, 0.0012987953377887607, 0.2586856484413147, 0.2163412719964981, 0.20633259415626526, 0.0654413104057312, 0.09315762668848038, 0.059282127767801285, 0.05235304683446884, 0.01616785302758217, 0.007698977366089821, 0.007698977366089821, 0.002309693256393075, 0.00461938651278615, 0.006159182172268629, 0.0015397955430671573, 0.0007698977715335786, 0.8919103741645813, 0.050676725804805756, 0.010135345160961151, 0.010135345160961151, 0.030406035482883453, 0.4827784597873688, 0.11848409473896027, 0.11583146452903748, 0.07515782117843628, 0.05393679067492485, 0.04774732142686844, 0.038021016865968704, 0.012378934770822525, 0.015915773808956146, 0.012378934770822525, 0.004421048332005739, 0.008842096664011478, 0.009726306423544884, 0.0008842096431180835, 0.0026526290457695723, 0.8727867603302002, 0.19281235337257385, 0.1619623750448227, 0.11568740755319595, 0.007712494116276503, 0.02313748188316822, 0.1619623750448227, 0.20823733508586884, 0.015424988232553005, 0.06169995293021202, 0.04627496376633644, 0.34468159079551697, 0.23624244332313538, 0.18202286958694458, 0.052283164113759995, 0.0174277201294899, 0.044537510722875595, 0.046473924070596695, 0.029046202078461647, 0.011618481017649174, 0.007745653856545687, 0.013554894365370274, 0.005809240508824587, 0.0038728269282728434, 0.0038728269282728434, 0.0019364134641364217, 0.35919031500816345, 0.25318723917007446, 0.1365075707435608, 0.057195909321308136, 0.05033240094780922, 0.05490807443857193, 0.03813060745596886, 0.013727018609642982, 0.007626121398061514, 0.006863509304821491, 0.006100896745920181, 0.011439181864261627, 0.0030504483729600906, 0.0007626120932400227, 0.0007626120932400227, 0.6079620718955994, 0.20265401899814606, 0.10132700949907303, 0.4130849242210388, 0.13769496977329254, 0.2753899395465851, 0.5316040515899658, 0.15045398473739624, 0.09629054367542267, 0.12638133764266968, 0.008024211972951889, 0.024072635918855667, 0.014042370952665806, 0.014042370952665806, 0.006018158979713917, 0.008024211972951889, 0.006018158979713917, 0.006018158979713917, 0.0040121059864759445, 0.0040121059864759445, 0.0020060529932379723, 0.20401109755039215, 0.5329269170761108, 0.08326983451843262, 0.012490475550293922, 0.024980951100587845, 0.020817458629608154, 0.05828888341784477, 0.03747142478823662, 0.012490475550293922, 0.012490475550293922, 0.004163491539657116, 0.2283921241760254, 0.1141960620880127, 0.2283921241760254, 0.3425881862640381, 0.7783100605010986, 0.15566201508045197, 0.7838183641433716, 0.09221392869949341, 0.046106964349746704, 0.09221392869949341, 0.5623893737792969, 0.18746311962604523, 0.18746311962604523, 0.7277305722236633, 0.18193264305591583, 0.6801558136940002, 0.2720623314380646, 0.6318792700767517, 0.11488714069128036, 0.22977428138256073, 0.1868026703596115, 0.24017485976219177, 0.06004371494054794, 0.03335762023925781, 0.02668609470129013, 0.06004371494054794, 0.14010199904441833, 0.22016029059886932, 0.013343047350645065, 0.006671523675322533, 0.006671523675322533, 0.7252516746520996, 0.10477093607187271, 0.8643602132797241, 0.2016909271478653, 0.2016909271478653, 0.2016909271478653, 0.2016909271478653, 0.2016909271478653, 0.40363040566444397, 0.40363040566444397, 0.3575567901134491, 0.5363352298736572, 0.5002426505088806, 0.10004852712154388, 0.20009705424308777, 0.41964295506477356, 0.31473222374916077, 0.10491073876619339, 0.2661556601524353, 0.39923346042633057, 0.13307783007621765, 0.13307783007621765, 0.5549814701080322, 0.18499383330345154, 0.18499383330345154, 0.8567121028900146, 0.931170642375946, 0.9551132321357727, 0.6551997065544128, 0.3275998532772064, 0.9499505162239075, 0.024998698383569717, 0.37194952368736267, 0.37194952368736267, 0.18597476184368134, 0.17628301680088043, 0.47008803486824036, 0.29380500316619873, 0.5111200213432312, 0.09293091297149658, 0.37172365188598633, 0.2505502700805664, 0.2505502700805664, 0.1252751350402832, 0.2505502700805664, 0.1252751350402832, 0.931381344795227, 0.7783130407333374, 0.15566261112689972, 0.9387503862380981, 0.8722180128097534, 0.9100388884544373, 0.11931957304477692, 0.852282702922821, 0.017045654356479645, 0.39492741227149963, 0.39492741227149963, 0.19746370613574982, 0.7223647236824036, 0.12747612595558167, 0.12747612595558167, 0.6149190664291382, 0.12298381328582764, 0.12298381328582764, 0.3512248396873474, 0.14297647774219513, 0.15851740539073944, 0.05283913388848305, 0.1118946373462677, 0.05905550345778465, 0.06527186930179596, 0.02175729162991047, 0.015540922060608864, 0.0031081843189895153, 0.009324553422629833, 0.009324553422629833, 0.9421420693397522, 0.4199380874633789, 0.19838453829288483, 0.15494267642498016, 0.05502636730670929, 0.06226668134331703, 0.03475349768996239, 0.03475349768996239, 0.008688374422490597, 0.004344187211245298, 0.005792249459773302, 0.004344187211245298, 0.005792249459773302, 0.008688374422490597, 0.0014480623649433255, 0.0014480623649433255, 0.5543605089187622, 0.1847868412733078, 0.1847868412733078, 0.5360553860664368, 0.16061583161354065, 0.10841569304466248, 0.0943618044257164, 0.014053885824978352, 0.02007697895169258, 0.024092376232147217, 0.014053885824978352, 0.006023094058036804, 0.006023094058036804, 0.004015395883470774, 0.004015395883470774, 0.004015395883470774, 0.004015395883470774, 0.42162713408470154, 0.330594003200531, 0.17727504670619965, 0.06468143314123154, 0.0023956086952239275, 0.35521525144577026, 0.5328229069709778, 0.5731731653213501, 0.1910577267408371, 0.1910577267408371, 0.6578067541122437, 0.21926891803741455, 0.7692026495933533, 0.025219758972525597, 0.029423052445054054, 0.1303020864725113, 0.004203293472528458, 0.01681317389011383, 0.012609879486262798, 0.004203293472528458, 0.004203293472528458, 0.5186542868614197, 0.23051300644874573, 0.05762825161218643, 0.05762825161218643, 0.11525650322437286, 0.9396573901176453, 0.3143317401409149, 0.010839025489985943, 0.3739463686943054, 0.2547171115875244, 0.016258537769317627, 0.032517075538635254, 0.301706999540329, 0.603413999080658, 0.0045186304487288, 0.957949697971344, 0.0045186304487288, 0.013555891811847687, 0.0045186304487288, 0.013555891811847687, 0.30672281980514526, 0.4600841999053955, 0.30672281980514526, 0.5636816024780273, 0.18789386749267578, 0.18789386749267578, 0.15356497466564178, 0.3703625798225403, 0.12646526098251343, 0.027099700644612312, 0.027099700644612312, 0.027099700644612312, 0.2258308380842209, 0.027099700644612312, 0.018066467717289925, 0.3994751274585724, 0.19336296617984772, 0.07862010598182678, 0.025498412549495697, 0.12961693108081818, 0.05949629843235016, 0.055246561765670776, 0.019123809412121773, 0.012749206274747849, 0.006374603137373924, 0.006374603137373924, 0.006374603137373924, 0.006374603137373924, 0.002124867867678404, 0.47218048572540283, 0.31478700041770935, 0.15739350020885468, 0.370827317237854, 0.32700225710868835, 0.2730637490749359, 0.010113472118973732, 0.010113472118973732, 0.5285719633102417, 0.12048331648111343, 0.05829837918281555, 0.2215338498353958, 0.01554623432457447, 0.01165967620909214, 0.01554623432457447, 0.007773117162287235, 0.007773117162287235, 0.01165967620909214, 0.007773117162287235, 0.3920513987541199, 0.3920513987541199, 0.19602569937705994, 0.47414395213127136, 0.12092261761426926, 0.06682565808296204, 0.0413682647049427, 0.05409696325659752, 0.08591870218515396, 0.04773261398077011, 0.057279136031866074, 0.01591087132692337, 0.0031821741722524166, 0.009546522982418537, 0.012728696689009666, 0.0031821741722524166, 0.0031821741722524166, 0.4202895760536194, 0.12490533292293549, 0.22955575585365295, 0.04726148024201393, 0.06582848727703094, 0.02869446948170662, 0.03375820070505142, 0.011815370060503483, 0.010127459652721882, 0.0033758198842406273, 0.005063729826360941, 0.005063729826360941, 0.006751639768481255, 0.0033758198842406273, 0.005063729826360941, 0.5498018860816956, 0.07854312658309937, 0.07854312658309937, 0.31417250633239746, 0.11837233603000641, 0.7102339863777161, 0.2883359491825104, 0.22731246054172516, 0.1632378101348877, 0.03356291353702545, 0.1250981241464615, 0.05644671618938446, 0.03661408647894859, 0.01373028289526701, 0.012204695492982864, 0.003051173873245716, 0.006102347746491432, 0.02440939098596573, 0.009153521619737148, 0.001525586936622858, 0.11394806951284409, 0.8546105027198792], \"Term\": [\"abandon\", \"abandon\", \"abbey\", \"abbey\", \"abbey\", \"abbot\", \"abbot\", \"abbot\", \"abhorred\", \"abhorred\", \"abhorred\", \"abhorred\", \"accommodate\", \"accommodate\", \"accommodate\", \"accommodate\", \"accorded\", \"accorded\", \"acquaintance\", \"acquaintance\", \"acquaintance\", \"acquaintance\", \"acquaintance\", \"acquaintance\", \"acquaintance\", \"acquaintance\", \"acquaintance\", \"acquaintance\", \"acquaintance\", \"acquaintance\", \"acquaintance\", \"acquaintance\", \"acquit\", \"acquit\", \"acquit\", \"acquit\", \"acquitted\", \"acquitted\", \"acquitted\", \"acquitted\", \"addition\", \"addition\", \"addition\", \"addition\", \"addition\", \"addition\", \"addition\", \"addition\", \"addition\", \"adele\", \"adele\", \"adele\", \"adele\", \"adele\", \"adele\", \"affection\", \"affection\", \"affection\", \"affection\", \"affection\", \"affection\", \"affection\", \"affection\", \"affection\", \"affection\", \"affection\", \"affection\", \"affection\", \"affianced\", \"affianced\", \"affording\", \"affording\", \"affording\", \"affording\", \"aged\", \"aged\", \"aghast\", \"aghast\", \"aghast\", \"aimed\", \"aimed\", \"aimed\", \"aimed\", \"aimed\", \"airing\", \"airing\", \"allez\", \"alluding\", \"alluding\", \"alluding\", \"amiable\", \"amiable\", \"amiable\", \"amiable\", \"amiable\", \"amiable\", \"amiable\", \"amiable\", \"amiable\", \"amiable\", \"amiable\", \"amiss\", \"amiss\", \"amiss\", \"amiss\", \"amounted\", \"amounted\", \"amounted\", \"anecdote\", \"anecdote\", \"anecdote\", \"anecdote\", \"anecdote\", \"answer\", \"answer\", \"answer\", \"answer\", \"answer\", \"answer\", \"answer\", \"answer\", \"answer\", \"answer\", \"answer\", \"answer\", \"answer\", \"answerable\", \"answerable\", \"answerable\", \"apologise\", \"apologise\", \"apologise\", \"appetite\", \"appetite\", \"appetite\", \"appetite\", \"appetite\", \"apples\", \"apples\", \"apples\", \"apples\", \"approving\", \"apron\", \"apron\", \"argue\", \"argue\", \"argue\", \"argue\", \"asked\", \"asked\", \"asked\", \"asked\", \"asked\", \"asked\", \"asked\", \"asked\", \"asked\", \"asked\", \"asked\", \"asked\", \"asked\", \"asked\", \"aspirations\", \"aspirations\", \"assertions\", \"assertions\", \"assez\", \"assiduous\", \"assiduous\", \"assiduous\", \"assistance\", \"assistance\", \"assistance\", \"assistance\", \"assistance\", \"assistance\", \"assistance\", \"assistance\", \"assistance\", \"assure\", \"assure\", \"assure\", \"assure\", \"assure\", \"assure\", \"assure\", \"assure\", \"assure\", \"assure\", \"athenee\", \"atonement\", \"atonement\", \"atonement\", \"atonement\", \"attachment\", \"attachment\", \"attachment\", \"attachment\", \"attachment\", \"attachment\", \"attachment\", \"attachment\", \"attachment\", \"attachment\", \"attachment\", \"aunt\", \"aunt\", \"aunt\", \"aunt\", \"aunt\", \"aunt\", \"aunt\", \"aunt\", \"aunt\", \"aunt\", \"averted\", \"averted\", \"averted\", \"averted\", \"avez\", \"away\", \"away\", \"away\", \"away\", \"away\", \"away\", \"away\", \"away\", \"away\", \"away\", \"away\", \"away\", \"away\", \"away\", \"bands\", \"bands\", \"banker\", \"banker\", \"barton\", \"barton\", \"barton\", \"barton\", \"bates\", \"bates\", \"bates\", \"bates\", \"bates\", \"bath\", \"bath\", \"bath\", \"bath\", \"bathing\", \"bathing\", \"bathing\", \"bearing\", \"bearing\", \"bearing\", \"bearing\", \"bearing\", \"bearing\", \"beaux\", \"beck\", \"beck\", \"beck\", \"beckoned\", \"beckoned\", \"beef\", \"beef\", \"beef\", \"beef\", \"beer\", \"beer\", \"behaviour\", \"behaviour\", \"behaviour\", \"behaviour\", \"behaviour\", \"behaviour\", \"behaviour\", \"behaviour\", \"behaviour\", \"behaviour\", \"behaviour\", \"belgium\", \"believe\", \"believe\", \"believe\", \"believe\", \"believe\", \"believe\", \"believe\", \"believe\", \"believe\", \"believe\", \"believe\", \"believe\", \"believe\", \"believe\", \"bell\", \"bell\", \"bell\", \"bell\", \"bell\", \"bell\", \"bell\", \"bell\", \"bell\", \"bell\", \"bell\", \"benefactress\", \"benefactress\", \"benefactress\", \"benefactress\", \"bennet\", \"bennet\", \"bennet\", \"bennet\", \"bennet\", \"bennet\", \"berkeley\", \"bessie\", \"bessie\", \"bessie\", \"bessie\", \"better\", \"better\", \"better\", \"better\", \"better\", \"better\", \"better\", \"better\", \"better\", \"better\", \"better\", \"better\", \"better\", \"better\", \"better\", \"bewitching\", \"bewitching\", \"bible\", \"bible\", \"bible\", \"bible\", \"bien\", \"bien\", \"bien\", \"bigben\", \"bigben\", \"bingley\", \"bingley\", \"bingley\", \"bingley\", \"bingley\", \"black\", \"black\", \"black\", \"black\", \"black\", \"black\", \"black\", \"blameless\", \"blameless\", \"blameless\", \"blameless\", \"blindness\", \"blindness\", \"blood\", \"blood\", \"blood\", \"blood\", \"blood\", \"blood\", \"blood\", \"blood\", \"blossoms\", \"blossoms\", \"blossoms\", \"body\", \"body\", \"body\", \"body\", \"body\", \"body\", \"body\", \"body\", \"body\", \"body\", \"body\", \"body\", \"borders\", \"borders\", \"borders\", \"bouquet\", \"bouquet\", \"bourgeois\", \"bourgeois\", \"bourgh\", \"bourgh\", \"bourgh\", \"boy\", \"boy\", \"boy\", \"boy\", \"boy\", \"boy\", \"boy\", \"boy\", \"boy\", \"boy\", \"bracelet\", \"bracelet\", \"bracelet\", \"bracelet\", \"brandon\", \"brandon\", \"brandon\", \"brandon\", \"brandon\", \"bread\", \"bread\", \"bread\", \"bread\", \"bread\", \"bread\", \"bretton\", \"bretton\", \"bretton\", \"bretton\", \"bretton\", \"briggs\", \"bright\", \"bright\", \"bright\", \"bright\", \"bright\", \"bright\", \"bright\", \"brightening\", \"brightening\", \"brightening\", \"brightening\", \"brighton\", \"brighton\", \"brighton\", \"bristol\", \"bristol\", \"bristol\", \"brother\", \"brother\", \"brother\", \"brother\", \"brother\", \"brother\", \"brother\", \"brother\", \"brother\", \"brother\", \"brother\", \"brother\", \"brother\", \"brother\", \"brush\", \"brush\", \"brussels\", \"brussels\", \"brutal\", \"brutal\", \"brutal\", \"bunch\", \"bunch\", \"bunch\", \"bundle\", \"bundle\", \"burdened\", \"burdened\", \"burning\", \"burning\", \"burning\", \"burning\", \"burns\", \"burns\", \"burns\", \"burns\", \"butcher\", \"butcher\", \"butler\", \"butler\", \"butter\", \"butter\", \"butter\", \"butter\", \"cake\", \"cake\", \"cake\", \"cake\", \"cake\", \"cake\", \"cake\", \"cake\", \"came\", \"came\", \"came\", \"came\", \"came\", \"came\", \"came\", \"came\", \"came\", \"came\", \"came\", \"came\", \"came\", \"came\", \"came\", \"campbell\", \"campbell\", \"campbells\", \"campbells\", \"campbells\", \"candle\", \"candle\", \"candle\", \"candle\", \"candle\", \"catherine\", \"catherine\", \"catherine\", \"catherine\", \"catherine\", \"causes\", \"causes\", \"causes\", \"causes\", \"causes\", \"ce\", \"ce\", \"ce\", \"ce\", \"cela\", \"cela\", \"cela\", \"certain\", \"certain\", \"certain\", \"certain\", \"certain\", \"certain\", \"certain\", \"certain\", \"certain\", \"certain\", \"certain\", \"certain\", \"certain\", \"certain\", \"certainly\", \"certainly\", \"certainly\", \"certainly\", \"certainly\", \"certainly\", \"certainly\", \"certainly\", \"certainly\", \"certainly\", \"certainly\", \"certainly\", \"character\", \"character\", \"character\", \"character\", \"character\", \"character\", \"character\", \"character\", \"character\", \"character\", \"character\", \"character\", \"character\", \"character\", \"character\", \"charade\", \"charade\", \"charade\", \"charlotte\", \"charlotte\", \"charlotte\", \"charlotte\", \"charlotte\", \"charmingly\", \"charmingly\", \"charmingly\", \"cheap\", \"cheap\", \"cheap\", \"cheap\", \"chicken\", \"chicken\", \"chicken\", \"chicken\", \"child\", \"child\", \"child\", \"child\", \"child\", \"child\", \"child\", \"child\", \"child\", \"child\", \"child\", \"child\", \"children\", \"children\", \"children\", \"children\", \"children\", \"children\", \"children\", \"children\", \"children\", \"children\", \"children\", \"children\", \"children\", \"cholmondeley\", \"cholmondeley\", \"chose\", \"chose\", \"chose\", \"chose\", \"chose\", \"chose\", \"chose\", \"chose\", \"chose\", \"chose\", \"chose\", \"churchill\", \"churchill\", \"churchill\", \"churchill\", \"churchills\", \"churchills\", \"churchills\", \"chuse\", \"chuse\", \"chuse\", \"chuse\", \"chuse\", \"clapped\", \"clapped\", \"clapped\", \"cleveland\", \"cleveland\", \"clock\", \"clock\", \"clock\", \"clock\", \"clock\", \"clock\", \"clock\", \"clock\", \"clock\", \"closed\", \"closed\", \"closed\", \"closed\", \"closed\", \"closed\", \"closed\", \"closed\", \"closed\", \"closed\", \"closed\", \"closed\", \"clouded\", \"clouded\", \"clouded\", \"clouded\", \"coach\", \"coach\", \"coach\", \"coach\", \"coach\", \"coach\", \"coach\", \"coffee\", \"coffee\", \"coffee\", \"coffee\", \"coffee\", \"cole\", \"cole\", \"cole\", \"collins\", \"collins\", \"collins\", \"collins\", \"collins\", \"colonel\", \"colonel\", \"colonel\", \"colonel\", \"colonel\", \"colonel\", \"colonel\", \"colonel\", \"colonel\", \"colonel\", \"combine\", \"combine\", \"combine\", \"come\", \"come\", \"come\", \"come\", \"come\", \"come\", \"come\", \"come\", \"come\", \"come\", \"come\", \"come\", \"come\", \"come\", \"come\", \"comme\", \"comme\", \"competent\", \"competent\", \"comprehending\", \"comprehending\", \"conduct\", \"conduct\", \"conduct\", \"conduct\", \"conduct\", \"conduct\", \"conduct\", \"conduct\", \"conduct\", \"conduct\", \"conduct\", \"conduct\", \"conduct\", \"connexion\", \"connexion\", \"connexion\", \"connexion\", \"conscientious\", \"conscientious\", \"conscientious\", \"conscientious\", \"conscientious\", \"contemplate\", \"contemplate\", \"contemplate\", \"contemplate\", \"contrasts\", \"contrasts\", \"cooled\", \"cooled\", \"cooled\", \"cooler\", \"cooler\", \"cooler\", \"corps\", \"corps\", \"corps\", \"corps\", \"cousin\", \"cousin\", \"cousin\", \"cousin\", \"cousin\", \"cousin\", \"cousin\", \"cousin\", \"cousin\", \"cousin\", \"cox\", \"crack\", \"crack\", \"craving\", \"craving\", \"create\", \"create\", \"creditable\", \"creditable\", \"creditable\", \"cried\", \"cried\", \"cried\", \"cried\", \"cried\", \"cried\", \"cried\", \"cried\", \"cried\", \"cried\", \"cried\", \"cried\", \"cried\", \"crimsworth\", \"crimsworth\", \"crimsworth\", \"crimsworth\", \"crimsworth\", \"crown\", \"crown\", \"crown\", \"crown\", \"crown\", \"crown\", \"cruelly\", \"cruelly\", \"cruelly\", \"cruelly\", \"cups\", \"cups\", \"cups\", \"dancing\", \"dancing\", \"dancing\", \"dancing\", \"dancing\", \"dans\", \"darcy\", \"darcy\", \"darcy\", \"darcy\", \"darcy\", \"darcy\", \"darcy\", \"dark\", \"dark\", \"dark\", \"dark\", \"dark\", \"dark\", \"dark\", \"dark\", \"dark\", \"dark\", \"dark\", \"dashwood\", \"dashwood\", \"dashwood\", \"dashwood\", \"dashwood\", \"dashwood\", \"dashwoods\", \"dashwoods\", \"daughter\", \"daughter\", \"daughter\", \"daughter\", \"daughter\", \"daughter\", \"daughter\", \"daughter\", \"daughter\", \"daughter\", \"daughter\", \"daughter\", \"daughters\", \"daughters\", \"daughters\", \"daughters\", \"daughters\", \"daughters\", \"daughters\", \"daughters\", \"day\", \"day\", \"day\", \"day\", \"day\", \"day\", \"day\", \"day\", \"day\", \"day\", \"day\", \"day\", \"day\", \"day\", \"day\", \"days\", \"days\", \"days\", \"days\", \"days\", \"days\", \"days\", \"days\", \"days\", \"days\", \"days\", \"days\", \"days\", \"days\", \"dear\", \"dear\", \"dear\", \"dear\", \"dear\", \"dear\", \"dear\", \"dear\", \"dear\", \"dear\", \"dear\", \"dear\", \"dear\", \"debts\", \"debts\", \"debts\", \"debts\", \"debts\", \"deceit\", \"deceit\", \"deceit\", \"deep\", \"deep\", \"deep\", \"deep\", \"deep\", \"deep\", \"deep\", \"deep\", \"deep\", \"deep\", \"deep\", \"delaford\", \"delaford\", \"delaford\", \"delaford\", \"delirious\", \"delirious\", \"denny\", \"denny\", \"denny\", \"denny\", \"deplorable\", \"deplorable\", \"deplorable\", \"depth\", \"depth\", \"depth\", \"desiree\", \"desiree\", \"despaired\", \"despaired\", \"despaired\", \"despaired\", \"detaining\", \"detaining\", \"deviation\", \"deviation\", \"deviation\", \"deviation\", \"deviation\", \"diana\", \"diana\", \"diana\", \"died\", \"died\", \"died\", \"died\", \"died\", \"died\", \"died\", \"died\", \"died\", \"died\", \"dire\", \"dirty\", \"dirty\", \"dirty\", \"dirty\", \"dirty\", \"dirty\", \"disadvantage\", \"disadvantage\", \"disadvantage\", \"discerned\", \"discerned\", \"discerned\", \"discerned\", \"discerned\", \"disgraced\", \"disgraced\", \"disgraced\", \"disown\", \"disown\", \"displeasing\", \"displeasing\", \"disposal\", \"disposal\", \"disposal\", \"disregarded\", \"disregarded\", \"disregarded\", \"disregarded\", \"distresses\", \"distresses\", \"distresses\", \"distresses\", \"dixon\", \"dixon\", \"doctor\", \"doctor\", \"doctor\", \"doctor\", \"doctor\", \"doctor\", \"doctrine\", \"doctrine\", \"door\", \"door\", \"door\", \"door\", \"door\", \"door\", \"door\", \"door\", \"door\", \"door\", \"door\", \"door\", \"door\", \"doubt\", \"doubt\", \"doubt\", \"doubt\", \"doubt\", \"doubt\", \"doubt\", \"doubt\", \"doubt\", \"doubt\", \"doubt\", \"doubt\", \"doubt\", \"dr\", \"dr\", \"dr\", \"dr\", \"dr\", \"dr\", \"dr\", \"dulness\", \"dulness\", \"dumb\", \"dumb\", \"dumb\", \"dumb\", \"earthquake\", \"earthquake\", \"edward\", \"edward\", \"edward\", \"edward\", \"edward\", \"edward\", \"edward\", \"edward\", \"edward\", \"elegantly\", \"elegantly\", \"elements\", \"elements\", \"elements\", \"elinor\", \"elinor\", \"elinor\", \"elinor\", \"elinor\", \"elinor\", \"elinor\", \"elinor\", \"elinor\", \"elizabeth\", \"elizabeth\", \"elizabeth\", \"elizabeth\", \"elizabeth\", \"elizabeth\", \"elizabeth\", \"elizabeth\", \"elizabeth\", \"elizabeth\", \"elle\", \"elle\", \"elle\", \"elle\", \"elopement\", \"elopement\", \"elopement\", \"elton\", \"elton\", \"elton\", \"elton\", \"eltons\", \"eltons\", \"eltons\", \"eltons\", \"emanuel\", \"emanuel\", \"emanuel\", \"emanuel\", \"emma\", \"emma\", \"emma\", \"emma\", \"emma\", \"emma\", \"emma\", \"encumbrance\", \"encumbrance\", \"encumbrance\", \"engagement\", \"engagement\", \"engagement\", \"engagement\", \"engagement\", \"engagement\", \"engagement\", \"engagement\", \"english\", \"english\", \"english\", \"english\", \"english\", \"english\", \"english\", \"english\", \"enounced\", \"enounced\", \"enounced\", \"enscombe\", \"enscombe\", \"enscombe\", \"enscombe\", \"ere\", \"ere\", \"ere\", \"ere\", \"ere\", \"ere\", \"ere\", \"ere\", \"est\", \"est\", \"est\", \"establish\", \"establish\", \"establish\", \"establish\", \"establish\", \"estate\", \"estate\", \"estate\", \"estate\", \"estate\", \"estate\", \"estate\", \"estate\", \"estate\", \"estates\", \"estates\", \"estates\", \"estrade\", \"estrade\", \"estrade\", \"et\", \"et\", \"et\", \"et\", \"et\", \"etre\", \"europe\", \"evening\", \"evening\", \"evening\", \"evening\", \"evening\", \"evening\", \"evening\", \"evening\", \"evening\", \"evening\", \"evening\", \"evening\", \"evening\", \"evening\", \"exercising\", \"exercising\", \"exercising\", \"expanse\", \"expanse\", \"expanse\", \"expanse\", \"expenses\", \"expenses\", \"expenses\", \"expenses\", \"expenses\", \"explained\", \"explained\", \"explained\", \"explained\", \"explained\", \"explained\", \"explained\", \"explained\", \"explained\", \"expressively\", \"expressively\", \"expressively\", \"expressively\", \"expressively\", \"external\", \"external\", \"external\", \"extravagance\", \"extravagance\", \"extravagance\", \"extravagance\", \"extravagance\", \"extravagance\", \"extravagant\", \"extravagant\", \"extravagant\", \"extravagant\", \"eye\", \"eye\", \"eye\", \"eye\", \"eye\", \"eye\", \"eye\", \"eye\", \"eye\", \"eye\", \"eye\", \"eye\", \"eyelid\", \"eyelid\", \"eyes\", \"eyes\", \"eyes\", \"eyes\", \"eyes\", \"eyes\", \"eyes\", \"eyes\", \"eyes\", \"eyes\", \"eyes\", \"eyes\", \"eyes\", \"face\", \"face\", \"face\", \"face\", \"face\", \"face\", \"face\", \"face\", \"face\", \"face\", \"face\", \"face\", \"face\", \"fairfax\", \"fairfax\", \"fairfax\", \"fairfax\", \"fairfax\", \"fairfax\", \"fairfax\", \"fairfax\", \"falls\", \"falls\", \"falls\", \"falls\", \"false\", \"false\", \"false\", \"false\", \"false\", \"false\", \"false\", \"false\", \"false\", \"false\", \"family\", \"family\", \"family\", \"family\", \"family\", \"family\", \"family\", \"family\", \"family\", \"family\", \"family\", \"family\", \"family\", \"family\", \"famished\", \"famished\", \"fanshawe\", \"fanshawe\", \"fanshawe\", \"fare\", \"fare\", \"fare\", \"fare\", \"fare\", \"fare\", \"fare\", \"farmer\", \"farmer\", \"father\", \"father\", \"father\", \"father\", \"father\", \"father\", \"father\", \"father\", \"father\", \"father\", \"father\", \"father\", \"father\", \"favourites\", \"favourites\", \"favourites\", \"favourites\", \"feasted\", \"feasted\", \"feelingly\", \"feelingly\", \"feelings\", \"feelings\", \"feelings\", \"feelings\", \"feelings\", \"feelings\", \"feelings\", \"feelings\", \"feelings\", \"feelings\", \"feelings\", \"feelings\", \"feelings\", \"feelings\", \"felt\", \"felt\", \"felt\", \"felt\", \"felt\", \"felt\", \"felt\", \"felt\", \"felt\", \"felt\", \"felt\", \"felt\", \"felt\", \"felt\", \"felt\", \"ferrars\", \"ferrars\", \"ferrars\", \"ferrars\", \"ferrars\", \"fervid\", \"fervid\", \"fidelity\", \"fidelity\", \"fidelity\", \"fight\", \"fight\", \"fight\", \"fight\", \"firmness\", \"firmness\", \"firmness\", \"firmness\", \"fitzwilliam\", \"fitzwilliam\", \"flakes\", \"flakes\", \"flakes\", \"flakes\", \"flatter\", \"flatter\", \"flatter\", \"flatter\", \"flatter\", \"flatter\", \"flatter\", \"flatter\", \"flatter\", \"flesh\", \"flesh\", \"flesh\", \"flesh\", \"ford\", \"forehead\", \"forehead\", \"forehead\", \"forehead\", \"forehead\", \"foresaw\", \"foresaw\", \"forgiveness\", \"forgiveness\", \"forgiveness\", \"forster\", \"forster\", \"forster\", \"forster\", \"forster\", \"fortune\", \"fortune\", \"fortune\", \"fortune\", \"fortune\", \"fortune\", \"fortune\", \"fortune\", \"fortune\", \"fortune\", \"fortune\", \"fortune\", \"forwarded\", \"forwarded\", \"forwarded\", \"fragrant\", \"fragrant\", \"fragrant\", \"fragrant\", \"frances\", \"frances\", \"frances\", \"francs\", \"frank\", \"frank\", \"frank\", \"frank\", \"frank\", \"frank\", \"frank\", \"frank\", \"free\", \"free\", \"free\", \"free\", \"free\", \"free\", \"free\", \"free\", \"free\", \"free\", \"free\", \"french\", \"french\", \"french\", \"french\", \"french\", \"french\", \"friday\", \"friend\", \"friend\", \"friend\", \"friend\", \"friend\", \"friend\", \"friend\", \"friend\", \"friend\", \"friend\", \"friend\", \"friend\", \"friend\", \"friend\", \"friends\", \"friends\", \"friends\", \"friends\", \"friends\", \"friends\", \"friends\", \"friends\", \"friends\", \"friends\", \"friends\", \"friends\", \"friends\", \"frigid\", \"frigid\", \"frigid\", \"fully\", \"fully\", \"fully\", \"fully\", \"fully\", \"fully\", \"fully\", \"fully\", \"fully\", \"fully\", \"fully\", \"fully\", \"fully\", \"fully\", \"garcon\", \"gardiner\", \"gardiner\", \"gardiner\", \"gardiner\", \"generation\", \"generation\", \"generation\", \"generation\", \"gentility\", \"gentility\", \"georgette\", \"georgette\", \"georgette\", \"gifted\", \"gifted\", \"gifted\", \"ginevra\", \"ginevra\", \"ginevra\", \"girl\", \"girl\", \"girl\", \"girl\", \"girl\", \"girl\", \"girl\", \"girl\", \"girl\", \"girl\", \"girl\", \"girl\", \"girl\", \"girl\", \"given\", \"given\", \"given\", \"given\", \"given\", \"given\", \"given\", \"given\", \"given\", \"given\", \"given\", \"given\", \"given\", \"given\", \"glorious\", \"glove\", \"glove\", \"glove\", \"glove\", \"god\", \"god\", \"god\", \"god\", \"god\", \"god\", \"god\", \"god\", \"god\", \"god\", \"god\", \"goddard\", \"goddard\", \"goddard\", \"goddard\", \"godmother\", \"godmother\", \"going\", \"going\", \"going\", \"going\", \"going\", \"going\", \"going\", \"going\", \"going\", \"going\", \"going\", \"going\", \"good\", \"good\", \"good\", \"good\", \"good\", \"good\", \"good\", \"good\", \"good\", \"good\", \"good\", \"good\", \"good\", \"good\", \"gracechurch\", \"gracechurch\", \"gracechurch\", \"graces\", \"graces\", \"graces\", \"graces\", \"graces\", \"graces\", \"graces\", \"graham\", \"graham\", \"graham\", \"graham\", \"graham\", \"graham\", \"graham\", \"grandmama\", \"grandmother\", \"grandmother\", \"grandmother\", \"grandmother\", \"grandmother\", \"great\", \"great\", \"great\", \"great\", \"great\", \"great\", \"great\", \"great\", \"great\", \"great\", \"great\", \"great\", \"great\", \"grec\", \"grief\", \"grief\", \"grief\", \"grief\", \"grief\", \"grief\", \"grief\", \"grief\", \"grieving\", \"grieving\", \"grisette\", \"grisette\", \"grisette\", \"grisette\", \"gross\", \"gross\", \"grove\", \"grove\", \"grove\", \"grove\", \"grove\", \"grove\", \"half\", \"half\", \"half\", \"half\", \"half\", \"half\", \"half\", \"half\", \"half\", \"half\", \"half\", \"half\", \"half\", \"hall\", \"hall\", \"hall\", \"hall\", \"hall\", \"hall\", \"hall\", \"hall\", \"hall\", \"hall\", \"hand\", \"hand\", \"hand\", \"hand\", \"hand\", \"hand\", \"hand\", \"hand\", \"hand\", \"hand\", \"hand\", \"hand\", \"hand\", \"hand\", \"hannah\", \"hannah\", \"hannah\", \"happiness\", \"happiness\", \"happiness\", \"happiness\", \"happiness\", \"happiness\", \"happiness\", \"happiness\", \"happiness\", \"happiness\", \"happiness\", \"happiness\", \"happiness\", \"happiness\", \"harass\", \"harass\", \"harass\", \"harley\", \"harmless\", \"harmless\", \"harmless\", \"harmless\", \"harmless\", \"harp\", \"harriet\", \"harriet\", \"harriet\", \"harriet\", \"harriet\", \"harriet\", \"hartfield\", \"hartfield\", \"hartfield\", \"hartfield\", \"hartfield\", \"having\", \"having\", \"having\", \"having\", \"having\", \"having\", \"having\", \"having\", \"having\", \"having\", \"having\", \"having\", \"having\", \"having\", \"having\", \"hawkins\", \"hawkins\", \"hawkins\", \"hazardous\", \"hazardous\", \"hazardous\", \"hazardous\", \"head\", \"head\", \"head\", \"head\", \"head\", \"head\", \"head\", \"head\", \"head\", \"head\", \"head\", \"head\", \"head\", \"hear\", \"hear\", \"hear\", \"hear\", \"hear\", \"hear\", \"hear\", \"hear\", \"hear\", \"hear\", \"hear\", \"hear\", \"hear\", \"hear\", \"heard\", \"heard\", \"heard\", \"heard\", \"heard\", \"heard\", \"heard\", \"heard\", \"heard\", \"heard\", \"heard\", \"heard\", \"heard\", \"heard\", \"heard\", \"heart\", \"heart\", \"heart\", \"heart\", \"heart\", \"heart\", \"heart\", \"heart\", \"heart\", \"heart\", \"heart\", \"heart\", \"heart\", \"heart\", \"heart\", \"helen\", \"helen\", \"helen\", \"helen\", \"helen\", \"hell\", \"henceforth\", \"henceforth\", \"henceforth\", \"henri\", \"henry\", \"henry\", \"henry\", \"henry\", \"henry\", \"henry\", \"highbury\", \"highbury\", \"highbury\", \"highbury\", \"highbury\", \"home\", \"home\", \"home\", \"home\", \"home\", \"home\", \"home\", \"home\", \"home\", \"home\", \"home\", \"home\", \"home\", \"home\", \"hope\", \"hope\", \"hope\", \"hope\", \"hope\", \"hope\", \"hope\", \"hope\", \"hope\", \"hope\", \"hope\", \"hope\", \"hope\", \"hope\", \"hope\", \"hostess\", \"hostess\", \"hostess\", \"house\", \"house\", \"house\", \"house\", \"house\", \"house\", \"house\", \"house\", \"house\", \"house\", \"house\", \"house\", \"house\", \"house\", \"housekeeping\", \"housekeeping\", \"housekeeping\", \"humility\", \"humility\", \"humility\", \"humility\", \"humility\", \"humility\", \"hunsden\", \"hunsden\", \"hunsden\", \"hunsden\", \"hunsford\", \"hunsford\", \"hurst\", \"hurst\", \"ignorant\", \"ignorant\", \"ignorant\", \"ignorant\", \"ignorant\", \"ignorant\", \"ignorant\", \"ignorant\", \"iii\", \"iii\", \"iii\", \"iii\", \"impediment\", \"impediment\", \"impediment\", \"impromptu\", \"imprudent\", \"imprudent\", \"imprudent\", \"imprudent\", \"imprudent\", \"imprudent\", \"impunity\", \"impunity\", \"impunity\", \"inattentive\", \"inattentive\", \"inattentive\", \"inattentive\", \"incapacity\", \"incapacity\", \"incapacity\", \"income\", \"income\", \"income\", \"income\", \"income\", \"income\", \"income\", \"income\", \"income\", \"inconveniences\", \"inconveniences\", \"india\", \"indicated\", \"indicated\", \"indicated\", \"indicated\", \"indolence\", \"indolence\", \"inequality\", \"inequality\", \"inexpressibly\", \"inexpressibly\", \"infallibly\", \"infallibly\", \"infamous\", \"infamous\", \"infection\", \"infection\", \"infection\", \"infection\", \"infection\", \"inferred\", \"inferred\", \"inferred\", \"infirm\", \"infirm\", \"infirm\", \"injured\", \"injured\", \"injured\", \"injured\", \"injurious\", \"injurious\", \"injurious\", \"injurious\", \"inn\", \"inn\", \"inn\", \"inn\", \"inn\", \"inquisitive\", \"inquisitive\", \"inquisitive\", \"insuperable\", \"insuperable\", \"insuperable\", \"insuperable\", \"intimately\", \"intimately\", \"intimately\", \"invariable\", \"involved\", \"involved\", \"involved\", \"involved\", \"involved\", \"involved\", \"involved\", \"irritated\", \"irritated\", \"irritated\", \"irritated\", \"irritated\", \"irritated\", \"irritated\", \"irritating\", \"irritating\", \"isabella\", \"isabella\", \"isabella\", \"isabella\", \"isidore\", \"isidore\", \"isidore\", \"jane\", \"jane\", \"jane\", \"jane\", \"jane\", \"jane\", \"jane\", \"jane\", \"jane\", \"jane\", \"jane\", \"jane\", \"jane\", \"je\", \"je\", \"jenkinson\", \"jenkinson\", \"jennings\", \"jennings\", \"jennings\", \"jennings\", \"john\", \"john\", \"john\", \"john\", \"john\", \"john\", \"john\", \"john\", \"john\", \"john\", \"john\", \"john\", \"john\", \"jokes\", \"jokes\", \"jokes\", \"journey\", \"journey\", \"journey\", \"journey\", \"journey\", \"journey\", \"journey\", \"journey\", \"justice\", \"justice\", \"justice\", \"justice\", \"justice\", \"justice\", \"justice\", \"justice\", \"justice\", \"justice\", \"justice\", \"justice\", \"justice\", \"kept\", \"kept\", \"kept\", \"kept\", \"kept\", \"kept\", \"kept\", \"kept\", \"kept\", \"kept\", \"kept\", \"kept\", \"kept\", \"kind\", \"kind\", \"kind\", \"kind\", \"kind\", \"kind\", \"kind\", \"kind\", \"kind\", \"kind\", \"kind\", \"kind\", \"kind\", \"kind\", \"kitty\", \"kitty\", \"kitty\", \"kitty\", \"kitty\", \"kitty\", \"kneeling\", \"knew\", \"knew\", \"knew\", \"knew\", \"knew\", \"knew\", \"knew\", \"knew\", \"knew\", \"knew\", \"knew\", \"knew\", \"knew\", \"knew\", \"knightley\", \"knightley\", \"knightley\", \"knightley\", \"knightley\", \"knightleys\", \"knoll\", \"knoll\", \"knoll\", \"know\", \"know\", \"know\", \"know\", \"know\", \"know\", \"know\", \"know\", \"know\", \"know\", \"know\", \"know\", \"know\", \"know\", \"know\", \"known\", \"known\", \"known\", \"known\", \"known\", \"known\", \"known\", \"known\", \"known\", \"known\", \"known\", \"known\", \"known\", \"known\", \"la\", \"la\", \"la\", \"la\", \"la\", \"la\", \"labour\", \"labour\", \"labour\", \"labour\", \"labour\", \"labour\", \"ladies\", \"ladies\", \"ladies\", \"ladies\", \"ladies\", \"ladies\", \"ladies\", \"ladies\", \"ladies\", \"ladies\", \"ladies\", \"lady\", \"lady\", \"lady\", \"lady\", \"lady\", \"lady\", \"lady\", \"lady\", \"lady\", \"lady\", \"lady\", \"lady\", \"lady\", \"ladyship\", \"ladyship\", \"ladyship\", \"ladyship\", \"ladyship\", \"lambton\", \"lambton\", \"lamentations\", \"lamentations\", \"lamentations\", \"larkins\", \"larkins\", \"law\", \"law\", \"law\", \"law\", \"law\", \"law\", \"law\", \"law\", \"law\", \"law\", \"law\", \"law\", \"law\", \"lawyer\", \"lawyer\", \"lawyer\", \"lawyer\", \"lawyer\", \"leave\", \"leave\", \"leave\", \"leave\", \"leave\", \"leave\", \"leave\", \"leave\", \"leave\", \"leave\", \"leave\", \"leave\", \"leave\", \"left\", \"left\", \"left\", \"left\", \"left\", \"left\", \"left\", \"left\", \"left\", \"left\", \"left\", \"left\", \"left\", \"left\", \"legal\", \"legal\", \"legal\", \"legal\", \"les\", \"les\", \"letter\", \"letter\", \"letter\", \"letter\", \"letter\", \"letter\", \"letter\", \"letter\", \"letter\", \"letter\", \"letter\", \"liberally\", \"liberally\", \"liberally\", \"liberally\", \"life\", \"life\", \"life\", \"life\", \"life\", \"life\", \"life\", \"life\", \"life\", \"life\", \"life\", \"life\", \"life\", \"life\", \"light\", \"light\", \"light\", \"light\", \"light\", \"light\", \"light\", \"light\", \"light\", \"light\", \"light\", \"light\", \"like\", \"like\", \"like\", \"like\", \"like\", \"like\", \"like\", \"like\", \"like\", \"like\", \"like\", \"like\", \"like\", \"like\", \"like\", \"liked\", \"liked\", \"liked\", \"liked\", \"liked\", \"liked\", \"liked\", \"liked\", \"liked\", \"liked\", \"liked\", \"liked\", \"liked\", \"likelihood\", \"likelihood\", \"likelihood\", \"likelihood\", \"likelihood\", \"likelihood\", \"liking\", \"liking\", \"liking\", \"liking\", \"liking\", \"little\", \"little\", \"little\", \"little\", \"little\", \"little\", \"little\", \"little\", \"little\", \"little\", \"little\", \"little\", \"little\", \"little\", \"little\", \"live\", \"live\", \"live\", \"live\", \"live\", \"live\", \"live\", \"live\", \"live\", \"live\", \"live\", \"live\", \"live\", \"live\", \"live\", \"living\", \"living\", \"living\", \"living\", \"living\", \"living\", \"living\", \"living\", \"living\", \"living\", \"lizzy\", \"lizzy\", \"lizzy\", \"lizzy\", \"lizzy\", \"lizzy\", \"lizzy\", \"ll\", \"ll\", \"ll\", \"ll\", \"ll\", \"ll\", \"ll\", \"lloyd\", \"lloyd\", \"lloyd\", \"lonely\", \"lonely\", \"lonely\", \"long\", \"long\", \"long\", \"long\", \"long\", \"long\", \"long\", \"long\", \"long\", \"long\", \"long\", \"long\", \"long\", \"long\", \"longbourn\", \"longbourn\", \"longbourn\", \"longbourn\", \"longbourn\", \"longstaple\", \"longstaple\", \"look\", \"look\", \"look\", \"look\", \"look\", \"look\", \"look\", \"look\", \"look\", \"look\", \"look\", \"look\", \"look\", \"look\", \"looked\", \"looked\", \"looked\", \"looked\", \"looked\", \"looked\", \"looked\", \"looked\", \"looked\", \"looked\", \"looked\", \"looked\", \"looked\", \"looked\", \"looked\", \"looking\", \"looking\", \"looking\", \"looking\", \"looking\", \"looking\", \"looking\", \"looking\", \"looking\", \"looking\", \"looking\", \"looking\", \"looking\", \"looking\", \"love\", \"love\", \"love\", \"love\", \"love\", \"love\", \"love\", \"love\", \"love\", \"love\", \"love\", \"love\", \"love\", \"love\", \"lowered\", \"lowered\", \"lowood\", \"lowood\", \"lowood\", \"lowood\", \"lucas\", \"lucas\", \"lucas\", \"lucases\", \"lucases\", \"lucy\", \"lucy\", \"lucy\", \"lucy\", \"lucy\", \"lucy\", \"lucy\", \"lucy\", \"lucy\", \"lucy\", \"lydia\", \"lydia\", \"lydia\", \"lydia\", \"lydia\", \"lydia\", \"madame\", \"madame\", \"madame\", \"madame\", \"madame\", \"madame\", \"madame\", \"madame\", \"mademoiselle\", \"mademoiselle\", \"mademoiselle\", \"mademoiselle\", \"magna\", \"magna\", \"mal\", \"mamma\", \"mamma\", \"mamma\", \"mamma\", \"mamma\", \"mamma\", \"mamma\", \"man\", \"man\", \"man\", \"man\", \"man\", \"man\", \"man\", \"man\", \"man\", \"man\", \"man\", \"man\", \"man\", \"man\", \"man\", \"maple\", \"maple\", \"maple\", \"marchmont\", \"margaret\", \"marianne\", \"marianne\", \"marianne\", \"marianne\", \"marianne\", \"marianne\", \"marianne\", \"marianne\", \"marie\", \"marie\", \"marie\", \"marriage\", \"marriage\", \"marriage\", \"marriage\", \"marriage\", \"marriage\", \"marriage\", \"marriage\", \"marriage\", \"marriage\", \"marriage\", \"marriage\", \"married\", \"married\", \"married\", \"married\", \"married\", \"married\", \"married\", \"married\", \"married\", \"married\", \"married\", \"married\", \"marry\", \"marry\", \"marry\", \"marry\", \"marry\", \"marry\", \"marry\", \"marry\", \"marry\", \"marry\", \"marry\", \"marry\", \"martin\", \"martin\", \"martin\", \"martins\", \"martins\", \"martins\", \"mary\", \"mary\", \"mary\", \"mary\", \"mary\", \"mary\", \"mary\", \"mary\", \"mary\", \"mary\", \"mason\", \"mason\", \"mason\", \"mason\", \"mason\", \"matched\", \"matched\", \"matched\", \"matches\", \"matches\", \"matches\", \"matches\", \"mdlle\", \"mdlle\", \"meat\", \"meat\", \"meat\", \"meat\", \"meat\", \"memories\", \"memories\", \"mere\", \"mere\", \"mere\", \"mere\", \"mere\", \"mere\", \"mere\", \"mere\", \"mere\", \"mere\", \"merits\", \"merits\", \"merits\", \"merits\", \"merits\", \"merits\", \"merits\", \"merits\", \"merits\", \"middleton\", \"middleton\", \"middleton\", \"middleton\", \"middletons\", \"midsummer\", \"midsummer\", \"midsummer\", \"midsummer\", \"militia\", \"militia\", \"militia\", \"mind\", \"mind\", \"mind\", \"mind\", \"mind\", \"mind\", \"mind\", \"mind\", \"mind\", \"mind\", \"mind\", \"mind\", \"mind\", \"mind\", \"mind\", \"mischievous\", \"mischievous\", \"mischievous\", \"mischievous\", \"misconduct\", \"misconduct\", \"misconduct\", \"miss\", \"miss\", \"miss\", \"miss\", \"miss\", \"miss\", \"miss\", \"miss\", \"miss\", \"miss\", \"miss\", \"miss\", \"miss\", \"misty\", \"misty\", \"misunderstand\", \"misunderstand\", \"misunderstand\", \"misunderstood\", \"misunderstood\", \"money\", \"money\", \"money\", \"money\", \"money\", \"money\", \"money\", \"money\", \"money\", \"money\", \"money\", \"money\", \"money\", \"monitor\", \"monitor\", \"monsieur\", \"monsieur\", \"monsieur\", \"monsieur\", \"monsieur\", \"moon\", \"moon\", \"moon\", \"moon\", \"moor\", \"moor\", \"moor\", \"moors\", \"moors\", \"morning\", \"morning\", \"morning\", \"morning\", \"morning\", \"morning\", \"morning\", \"morning\", \"morning\", \"morning\", \"morning\", \"morning\", \"morning\", \"morning\", \"mother\", \"mother\", \"mother\", \"mother\", \"mother\", \"mother\", \"mother\", \"mother\", \"mother\", \"mother\", \"mother\", \"mother\", \"mother\", \"motive\", \"motive\", \"motive\", \"motive\", \"motive\", \"motive\", \"motive\", \"motive\", \"motive\", \"mud\", \"mud\", \"mud\", \"mud\", \"musings\", \"musings\", \"musings\", \"mystic\", \"mystic\", \"naivete\", \"nash\", \"nash\", \"nature\", \"nature\", \"nature\", \"nature\", \"nature\", \"nature\", \"nature\", \"nature\", \"nature\", \"nature\", \"nature\", \"nature\", \"nature\", \"nature\", \"natures\", \"ne\", \"ne\", \"ne\", \"near\", \"near\", \"near\", \"near\", \"near\", \"near\", \"near\", \"near\", \"near\", \"near\", \"near\", \"near\", \"near\", \"near\", \"needful\", \"needful\", \"needful\", \"negligent\", \"negligent\", \"negligent\", \"negligent\", \"nest\", \"nest\", \"nest\", \"netherfield\", \"netherfield\", \"netherfield\", \"netherfield\", \"netherfield\", \"news\", \"news\", \"news\", \"news\", \"news\", \"news\", \"news\", \"news\", \"news\", \"news\", \"niece\", \"niece\", \"niece\", \"niece\", \"niece\", \"niece\", \"nieces\", \"nieces\", \"nieces\", \"nieces\", \"nieces\", \"night\", \"night\", \"night\", \"night\", \"night\", \"night\", \"night\", \"night\", \"night\", \"night\", \"night\", \"night\", \"night\", \"night\", \"night\", \"norland\", \"norland\", \"norland\", \"obviously\", \"obviously\", \"obviously\", \"obviously\", \"occurrences\", \"occurrences\", \"occurrences\", \"oh\", \"oh\", \"oh\", \"oh\", \"oh\", \"oh\", \"oh\", \"oh\", \"oh\", \"oh\", \"oh\", \"oh\", \"oh\", \"oh\", \"oh\", \"old\", \"old\", \"old\", \"old\", \"old\", \"old\", \"old\", \"old\", \"old\", \"old\", \"old\", \"old\", \"old\", \"old\", \"olive\", \"olive\", \"olive\", \"olive\", \"oliver\", \"oliver\", \"opaque\", \"ornamented\", \"ornamented\", \"orphan\", \"orphan\", \"orphan\", \"orphan\", \"orphan\", \"ostensible\", \"ostensible\", \"ought\", \"ought\", \"ought\", \"ought\", \"ought\", \"ought\", \"ought\", \"ought\", \"ought\", \"ought\", \"ought\", \"ought\", \"ought\", \"overtaken\", \"overtaken\", \"owing\", \"owing\", \"owing\", \"owing\", \"owing\", \"owing\", \"owing\", \"owing\", \"packing\", \"packing\", \"packing\", \"packing\", \"paletot\", \"paletot\", \"paletot\", \"palmer\", \"palmer\", \"palmer\", \"palmers\", \"parents\", \"parents\", \"parents\", \"parents\", \"parents\", \"parents\", \"parents\", \"parents\", \"particulars\", \"particulars\", \"particulars\", \"particulars\", \"particulars\", \"partners\", \"partners\", \"partners\", \"pas\", \"pas\", \"pas\", \"pas\", \"patient\", \"patient\", \"patient\", \"patient\", \"patient\", \"patient\", \"patient\", \"patty\", \"paul\", \"paul\", \"paul\", \"paul\", \"paul\", \"pelet\", \"pelet\", \"pelet\", \"pelet\", \"pemberley\", \"pemberley\", \"pemberley\", \"pemberley\", \"pencilled\", \"pencilled\", \"pencilled\", \"pens\", \"people\", \"people\", \"people\", \"people\", \"people\", \"people\", \"people\", \"people\", \"people\", \"people\", \"people\", \"people\", \"people\", \"people\", \"people\", \"perry\", \"perry\", \"perry\", \"perry\", \"petit\", \"petit\", \"peu\", \"philanthropist\", \"philanthropist\", \"philanthropist\", \"philanthropist\", \"philosophic\", \"philosophic\", \"philosophic\", \"pianoforte\", \"pianoforte\", \"pianoforte\", \"pianoforte\", \"pictures\", \"pictures\", \"pictures\", \"pictures\", \"pictures\", \"pictures\", \"pierre\", \"pierre\", \"pious\", \"pious\", \"pitcher\", \"place\", \"place\", \"place\", \"place\", \"place\", \"place\", \"place\", \"place\", \"place\", \"place\", \"place\", \"place\", \"place\", \"place\", \"place\", \"pleasanter\", \"pleasanter\", \"pleasanter\", \"pledged\", \"pledged\", \"pledged\", \"polly\", \"polly\", \"polly\", \"pompous\", \"pompous\", \"pompous\", \"poor\", \"poor\", \"poor\", \"poor\", \"poor\", \"poor\", \"poor\", \"poor\", \"poor\", \"poor\", \"poor\", \"poor\", \"poor\", \"portfolio\", \"portfolio\", \"portfolio\", \"portfolio\", \"pounds\", \"pounds\", \"pounds\", \"pounds\", \"pounds\", \"pounds\", \"pounds\", \"pounds\", \"pounds\", \"pounds\", \"practical\", \"practical\", \"practising\", \"practising\", \"practising\", \"practising\", \"pratt\", \"pratt\", \"pratt\", \"pratt\", \"precise\", \"precise\", \"preferred\", \"preferred\", \"preferred\", \"preferred\", \"preferred\", \"preferred\", \"preferred\", \"preferred\", \"prejudices\", \"prejudices\", \"prejudices\", \"prepossession\", \"prepossession\", \"prepossession\", \"present\", \"present\", \"present\", \"present\", \"present\", \"present\", \"present\", \"present\", \"present\", \"present\", \"present\", \"present\", \"present\", \"pretending\", \"pretending\", \"prevailing\", \"prevailing\", \"prevailing\", \"pride\", \"pride\", \"pride\", \"pride\", \"pride\", \"pride\", \"pride\", \"pride\", \"pride\", \"pride\", \"pride\", \"print\", \"print\", \"print\", \"privately\", \"privately\", \"privately\", \"privately\", \"procured\", \"procured\", \"procured\", \"procured\", \"procured\", \"procured\", \"procured\", \"profession\", \"profession\", \"profession\", \"profession\", \"profession\", \"profession\", \"profession\", \"profession\", \"professors\", \"prohibited\", \"prohibited\", \"prohibited\", \"prohibited\", \"projected\", \"projected\", \"projected\", \"promoted\", \"promoted\", \"promoted\", \"promoted\", \"property\", \"property\", \"property\", \"property\", \"property\", \"property\", \"property\", \"property\", \"property\", \"property\", \"property\", \"proposals\", \"proposals\", \"proposals\", \"proposals\", \"proposals\", \"proposals\", \"proposals\", \"proposals\", \"protest\", \"protest\", \"protest\", \"protest\", \"puts\", \"puts\", \"puts\", \"puts\", \"qu\", \"qu\", \"qu\", \"quadrille\", \"quadrille\", \"quadrille\", \"que\", \"que\", \"que\", \"que\", \"quel\", \"quel\", \"quel\", \"quickening\", \"quickening\", \"randalls\", \"randalls\", \"randalls\", \"randalls\", \"randalls\", \"rang\", \"rang\", \"rang\", \"rang\", \"rang\", \"rang\", \"rapturous\", \"rascal\", \"rascal\", \"rascal\", \"rascal\", \"raving\", \"raving\", \"raving\", \"raving\", \"recalled\", \"recalled\", \"recalled\", \"recalled\", \"recalled\", \"recalled\", \"reconciliation\", \"reconciliation\", \"reconciliation\", \"recur\", \"recur\", \"recur\", \"recur\", \"reed\", \"reed\", \"reed\", \"reed\", \"reed\", \"reflex\", \"refusal\", \"refusal\", \"refusal\", \"refusal\", \"refusal\", \"regards\", \"regards\", \"regards\", \"regiment\", \"regiment\", \"regiment\", \"regiment\", \"regiment\", \"regiment\", \"regiment\", \"regiment\", \"reject\", \"reject\", \"reject\", \"relations\", \"relations\", \"relations\", \"relations\", \"relations\", \"relations\", \"relations\", \"relations\", \"relations\", \"relations\", \"relations\", \"relations\", \"repeat\", \"repeat\", \"repeat\", \"repeat\", \"repeat\", \"repeat\", \"replied\", \"replied\", \"replied\", \"replied\", \"replied\", \"replied\", \"replied\", \"replied\", \"replied\", \"replied\", \"replied\", \"replied\", \"replied\", \"replied\", \"reproaching\", \"reproaching\", \"reproaching\", \"resources\", \"resources\", \"resources\", \"resources\", \"respectability\", \"respectability\", \"respectability\", \"restlessly\", \"restlessly\", \"restoration\", \"restoration\", \"restoration\", \"rests\", \"rests\", \"richard\", \"richard\", \"richard\", \"richmond\", \"richmond\", \"richmond\", \"rien\", \"rien\", \"rivers\", \"rivers\", \"rivers\", \"rivers\", \"rivers\", \"rivet\", \"rivet\", \"rob\", \"rob\", \"rob\", \"robert\", \"robert\", \"robert\", \"robert\", \"robert\", \"robert\", \"robert\", \"robert\", \"rochester\", \"rochester\", \"rochester\", \"rochester\", \"rochester\", \"rochester\", \"rochester\", \"room\", \"room\", \"room\", \"room\", \"room\", \"room\", \"room\", \"room\", \"room\", \"room\", \"room\", \"room\", \"room\", \"room\", \"room\", \"rose\", \"rose\", \"rose\", \"rose\", \"rose\", \"rose\", \"rose\", \"rose\", \"rose\", \"rosine\", \"rosine\", \"rosine\", \"rosings\", \"rosings\", \"roved\", \"roved\", \"roved\", \"rue\", \"rue\", \"rue\", \"rue\", \"ruin\", \"ruin\", \"ruin\", \"ruin\", \"ruin\", \"ruin\", \"ruin\", \"sacrificing\", \"sacrificing\", \"sacrificing\", \"sacrificing\", \"salary\", \"salary\", \"salary\", \"salary\", \"salary\", \"salutation\", \"sanctioned\", \"sanctioned\", \"sans\", \"sans\", \"sans\", \"sans\", \"saucy\", \"saucy\", \"saucy\", \"saw\", \"saw\", \"saw\", \"saw\", \"saw\", \"saw\", \"saw\", \"saw\", \"saw\", \"saw\", \"saw\", \"saw\", \"saw\", \"saw\", \"scatcherd\", \"scatcherd\", \"scenery\", \"scenery\", \"scenery\", \"scenery\", \"scent\", \"scent\", \"scent\", \"scent\", \"scholars\", \"school\", \"school\", \"school\", \"school\", \"school\", \"school\", \"school\", \"school\", \"school\", \"scotland\", \"scotland\", \"scotland\", \"scotland\", \"scotland\", \"scotland\", \"scrupled\", \"scrupled\", \"scrupled\", \"scrupled\", \"scrupled\", \"scrutinised\", \"scrutinised\", \"scrutinised\", \"seacombe\", \"seal\", \"seal\", \"secrecy\", \"secrecy\", \"secrecy\", \"secrecy\", \"secresy\", \"secresy\", \"seen\", \"seen\", \"seen\", \"seen\", \"seen\", \"seen\", \"seen\", \"seen\", \"seen\", \"seen\", \"seen\", \"seen\", \"seen\", \"seen\", \"selina\", \"sense\", \"sense\", \"sense\", \"sense\", \"sense\", \"sense\", \"sense\", \"sense\", \"sense\", \"sense\", \"sense\", \"sense\", \"serene\", \"servant\", \"servant\", \"servant\", \"servant\", \"servant\", \"servant\", \"servant\", \"servant\", \"servant\", \"settlement\", \"settlement\", \"severely\", \"severely\", \"severely\", \"severely\", \"severely\", \"shall\", \"shall\", \"shall\", \"shall\", \"shall\", \"shall\", \"shall\", \"shall\", \"shall\", \"shall\", \"shall\", \"shall\", \"shall\", \"shall\", \"shall\", \"shew\", \"shew\", \"shew\", \"shew\", \"shew\", \"shew\", \"shook\", \"shook\", \"shook\", \"shook\", \"shook\", \"shook\", \"shook\", \"shook\", \"shook\", \"shoot\", \"shoot\", \"sign\", \"sign\", \"sign\", \"sign\", \"sign\", \"sign\", \"sign\", \"significantly\", \"significantly\", \"sir\", \"sir\", \"sir\", \"sir\", \"sir\", \"sir\", \"sir\", \"sir\", \"sir\", \"sir\", \"sir\", \"sir\", \"sir\", \"sister\", \"sister\", \"sister\", \"sister\", \"sister\", \"sister\", \"sister\", \"sister\", \"sister\", \"sister\", \"sister\", \"sister\", \"sisters\", \"sisters\", \"sisters\", \"sisters\", \"sisters\", \"sisters\", \"sisters\", \"sisters\", \"sisters\", \"sisters\", \"sisters\", \"sixpence\", \"sixpence\", \"sixpence\", \"slice\", \"slice\", \"slice\", \"slice\", \"slip\", \"smith\", \"smith\", \"smith\", \"smith\", \"smith\", \"smith\", \"smith\", \"smith\", \"snowe\", \"snowe\", \"snowe\", \"softest\", \"softest\", \"softest\", \"solve\", \"solve\", \"solve\", \"soon\", \"soon\", \"soon\", \"soon\", \"soon\", \"soon\", \"soon\", \"soon\", \"soon\", \"soon\", \"soon\", \"soon\", \"soon\", \"soon\", \"soon\", \"sophie\", \"sophie\", \"spending\", \"spending\", \"spending\", \"spending\", \"spending\", \"spending\", \"spending\", \"spots\", \"spots\", \"spots\", \"sprain\", \"sprain\", \"sprain\", \"spurned\", \"spurned\", \"spurned\", \"st\", \"st\", \"st\", \"st\", \"st\", \"st\", \"st\", \"st\", \"staff\", \"staff\", \"staff\", \"stair\", \"stair\", \"stair\", \"statement\", \"statement\", \"statement\", \"statement\", \"statement\", \"stating\", \"stating\", \"stating\", \"steele\", \"steele\", \"steeles\", \"steeles\", \"stem\", \"stem\", \"stick\", \"stile\", \"stood\", \"stood\", \"stood\", \"stood\", \"stood\", \"stood\", \"stood\", \"stood\", \"stood\", \"stood\", \"stood\", \"stood\", \"stood\", \"stood\", \"stool\", \"stooped\", \"strange\", \"strange\", \"strange\", \"strange\", \"strange\", \"strange\", \"strange\", \"strange\", \"strange\", \"strange\", \"strange\", \"strange\", \"strange\", \"strangeness\", \"strangeness\", \"strangeness\", \"strangeness\", \"strikingly\", \"strikingly\", \"strikingly\", \"strikingly\", \"strikingly\", \"suckling\", \"suckling\", \"suckling\", \"sum\", \"sum\", \"sum\", \"sum\", \"sum\", \"sum\", \"sunset\", \"superfluous\", \"superfluous\", \"superfluous\", \"supplanted\", \"supplanted\", \"supplanted\", \"supplication\", \"supplication\", \"supplication\", \"supplying\", \"supplying\", \"supplying\", \"supplying\", \"suppose\", \"suppose\", \"suppose\", \"suppose\", \"suppose\", \"suppose\", \"suppose\", \"suppose\", \"suppose\", \"suppose\", \"suppose\", \"suppose\", \"suppose\", \"suppose\", \"supposing\", \"supposing\", \"supposing\", \"supposing\", \"supposing\", \"supposing\", \"supposing\", \"supposing\", \"sure\", \"sure\", \"sure\", \"sure\", \"sure\", \"sure\", \"sure\", \"sure\", \"sure\", \"sure\", \"sure\", \"sure\", \"sure\", \"sure\", \"surmises\", \"surmises\", \"surmises\", \"surmises\", \"surry\", \"surry\", \"survive\", \"survive\", \"survive\", \"survive\", \"sustained\", \"sustained\", \"swiss\", \"table\", \"table\", \"table\", \"table\", \"table\", \"table\", \"table\", \"table\", \"table\", \"table\", \"table\", \"table\", \"tableau\", \"taken\", \"taken\", \"taken\", \"taken\", \"taken\", \"taken\", \"taken\", \"taken\", \"taken\", \"taken\", \"taken\", \"taken\", \"taken\", \"tap\", \"tap\", \"tap\", \"tap\", \"tasks\", \"tasks\", \"tasks\", \"taylor\", \"taylor\", \"taylor\", \"taylor\", \"taylor\", \"tea\", \"tea\", \"tea\", \"tea\", \"tea\", \"tea\", \"tea\", \"tea\", \"tea\", \"tea\", \"tell\", \"tell\", \"tell\", \"tell\", \"tell\", \"tell\", \"tell\", \"tell\", \"tell\", \"tell\", \"tell\", \"tell\", \"tell\", \"tell\", \"tell\", \"temple\", \"temple\", \"temple\", \"temple\", \"temple\", \"temple\", \"thing\", \"thing\", \"thing\", \"thing\", \"thing\", \"thing\", \"thing\", \"thing\", \"thing\", \"thing\", \"thing\", \"thing\", \"thing\", \"thing\", \"think\", \"think\", \"think\", \"think\", \"think\", \"think\", \"think\", \"think\", \"think\", \"think\", \"think\", \"think\", \"think\", \"think\", \"think\", \"thornfield\", \"thornfield\", \"thornfield\", \"thornfield\", \"thornfield\", \"thought\", \"thought\", \"thought\", \"thought\", \"thought\", \"thought\", \"thought\", \"thought\", \"thought\", \"thought\", \"thought\", \"thought\", \"thought\", \"thought\", \"thought\", \"thoughtfulness\", \"thousand\", \"thousand\", \"thousand\", \"thousand\", \"thousand\", \"thousand\", \"thousand\", \"thousand\", \"thousand\", \"thousand\", \"till\", \"till\", \"till\", \"till\", \"till\", \"till\", \"till\", \"till\", \"till\", \"till\", \"till\", \"till\", \"till\", \"till\", \"till\", \"time\", \"time\", \"time\", \"time\", \"time\", \"time\", \"time\", \"time\", \"time\", \"time\", \"time\", \"time\", \"time\", \"time\", \"time\", \"tints\", \"tints\", \"tints\", \"toast\", \"toast\", \"toast\", \"took\", \"took\", \"took\", \"took\", \"took\", \"took\", \"took\", \"took\", \"took\", \"took\", \"took\", \"took\", \"took\", \"took\", \"took\", \"town\", \"town\", \"town\", \"town\", \"town\", \"town\", \"town\", \"town\", \"town\", \"town\", \"town\", \"tract\", \"tract\", \"tract\", \"tract\", \"traverse\", \"traverse\", \"tray\", \"tray\", \"tray\", \"tray\", \"treasured\", \"treasured\", \"treasured\", \"triumphantly\", \"triumphantly\", \"trop\", \"trop\", \"tyrant\", \"tyrant\", \"tyrant\", \"uncle\", \"uncle\", \"uncle\", \"uncle\", \"uncle\", \"uncle\", \"uncle\", \"uncle\", \"uncle\", \"uncle\", \"uncle\", \"undone\", \"une\", \"une\", \"unequivocal\", \"unequivocal\", \"unequivocal\", \"unequivocal\", \"unequivocal\", \"unexceptionable\", \"unexceptionable\", \"unfair\", \"unfair\", \"unfit\", \"unfit\", \"unfit\", \"unguarded\", \"unguarded\", \"unguarded\", \"uniformly\", \"uniformly\", \"uniformly\", \"uniformly\", \"unlocked\", \"unlocked\", \"unlocked\", \"unwillingly\", \"vale\", \"vandenhuten\", \"vanishing\", \"vanishing\", \"veil\", \"veil\", \"verbal\", \"verbal\", \"verbal\", \"vicarage\", \"vicarage\", \"vicarage\", \"victor\", \"victor\", \"victor\", \"villain\", \"villain\", \"villain\", \"villain\", \"villain\", \"violets\", \"visitation\", \"visitation\", \"vocation\", \"votre\", \"vouchsafe\", \"vous\", \"vous\", \"vous\", \"walnut\", \"walnut\", \"walnut\", \"walravens\", \"walravens\", \"walravens\", \"wanderings\", \"wanderings\", \"wanderings\", \"want\", \"want\", \"want\", \"want\", \"want\", \"want\", \"want\", \"want\", \"want\", \"want\", \"want\", \"want\", \"wardrobe\", \"way\", \"way\", \"way\", \"way\", \"way\", \"way\", \"way\", \"way\", \"way\", \"way\", \"way\", \"way\", \"way\", \"way\", \"way\", \"weekly\", \"weekly\", \"weekly\", \"went\", \"went\", \"went\", \"went\", \"went\", \"went\", \"went\", \"went\", \"went\", \"went\", \"went\", \"went\", \"went\", \"went\", \"weston\", \"weston\", \"weston\", \"weston\", \"weston\", \"westons\", \"westons\", \"wheeled\", \"wheeled\", \"wheeled\", \"whitcross\", \"whitcross\", \"white\", \"white\", \"white\", \"white\", \"white\", \"white\", \"white\", \"white\", \"white\", \"wholesome\", \"wholesome\", \"wholesome\", \"wholesome\", \"wholesome\", \"wicket\", \"wickham\", \"wickham\", \"wickham\", \"wickham\", \"wickham\", \"wickham\", \"wilfully\", \"wilfully\", \"willoughby\", \"willoughby\", \"willoughby\", \"willoughby\", \"willoughby\", \"willoughby\", \"windsor\", \"windsor\", \"windsor\", \"winning\", \"winning\", \"winning\", \"wishes\", \"wishes\", \"wishes\", \"wishes\", \"wishes\", \"wishes\", \"wishes\", \"wishes\", \"wishes\", \"woman\", \"woman\", \"woman\", \"woman\", \"woman\", \"woman\", \"woman\", \"woman\", \"woman\", \"woman\", \"woman\", \"woman\", \"woman\", \"woman\", \"wondrous\", \"wondrous\", \"wondrous\", \"woodhouse\", \"woodhouse\", \"woodhouse\", \"woodhouse\", \"woodhouse\", \"work\", \"work\", \"work\", \"work\", \"work\", \"work\", \"work\", \"work\", \"work\", \"work\", \"work\", \"wouldn\", \"wouldn\", \"wouldn\", \"years\", \"years\", \"years\", \"years\", \"years\", \"years\", \"years\", \"years\", \"years\", \"years\", \"years\", \"years\", \"years\", \"years\", \"yes\", \"yes\", \"yes\", \"yes\", \"yes\", \"yes\", \"yes\", \"yes\", \"yes\", \"yes\", \"yes\", \"yes\", \"yes\", \"yes\", \"yes\", \"yorke\", \"yorke\", \"yorke\", \"yorke\", \"yorkshire\", \"yorkshire\", \"young\", \"young\", \"young\", \"young\", \"young\", \"young\", \"young\", \"young\", \"young\", \"young\", \"young\", \"young\", \"young\", \"young\", \"zelie\", \"zelie\"]}, \"R\": 30, \"lambda.step\": 0.01, \"plot.opts\": {\"xlab\": \"PC1\", \"ylab\": \"PC2\"}, \"topic.order\": [11, 3, 5, 8, 1, 12, 6, 15, 2, 9, 4, 10, 13, 7, 14]};\n",
       "\n",
       "function LDAvis_load_lib(url, callback){\n",
       "  var s = document.createElement('script');\n",
       "  s.src = url;\n",
       "  s.async = true;\n",
       "  s.onreadystatechange = s.onload = callback;\n",
       "  s.onerror = function(){console.warn(\"failed to load library \" + url);};\n",
       "  document.getElementsByTagName(\"head\")[0].appendChild(s);\n",
       "}\n",
       "\n",
       "if(typeof(LDAvis) !== \"undefined\"){\n",
       "   // already loaded: just create the visualization\n",
       "   !function(LDAvis){\n",
       "       new LDAvis(\"#\" + \"ldavis_el371442810250696168521256157\", ldavis_el371442810250696168521256157_data);\n",
       "   }(LDAvis);\n",
       "}else if(typeof define === \"function\" && define.amd){\n",
       "   // require.js is available: use it to load d3/LDAvis\n",
       "   require.config({paths: {d3: \"https://cdnjs.cloudflare.com/ajax/libs/d3/3.5.5/d3.min\"}});\n",
       "   require([\"d3\"], function(d3){\n",
       "      window.d3 = d3;\n",
       "      LDAvis_load_lib(\"https://cdn.rawgit.com/bmabey/pyLDAvis/files/ldavis.v1.0.0.js\", function(){\n",
       "        new LDAvis(\"#\" + \"ldavis_el371442810250696168521256157\", ldavis_el371442810250696168521256157_data);\n",
       "      });\n",
       "    });\n",
       "}else{\n",
       "    // require.js not available: dynamically load d3 & LDAvis\n",
       "    LDAvis_load_lib(\"https://cdnjs.cloudflare.com/ajax/libs/d3/3.5.5/d3.min.js\", function(){\n",
       "         LDAvis_load_lib(\"https://cdn.rawgit.com/bmabey/pyLDAvis/files/ldavis.v1.0.0.js\", function(){\n",
       "                 new LDAvis(\"#\" + \"ldavis_el371442810250696168521256157\", ldavis_el371442810250696168521256157_data);\n",
       "            })\n",
       "         });\n",
       "}\n",
       "</script>"
      ],
      "text/plain": [
       "PreparedData(topic_coordinates=              x         y  topics  cluster       Freq\n",
       "topic                                                \n",
       "10     0.086109  0.006008       1        1  41.976700\n",
       "2     -0.096106 -0.014838       2        1  19.396467\n",
       "4     -0.069379  0.064266       3        1  11.418591\n",
       "7      0.123732  0.057420       4        1   8.034676\n",
       "0     -0.113208  0.084783       5        1   4.911822\n",
       "11    -0.103097  0.091142       6        1   4.027910\n",
       "5     -0.114385 -0.018410       7        1   3.994261\n",
       "14    -0.103918 -0.106250       8        1   1.489592\n",
       "1      0.011588 -0.029208       9        1   1.013517\n",
       "8      0.097039  0.021388      10        1   0.999456\n",
       "3      0.142886 -0.006040      11        1   0.770559\n",
       "9     -0.073179 -0.104524      12        1   0.767086\n",
       "12     0.028001  0.056611      13        1   0.646027\n",
       "6      0.102658 -0.024924      14        1   0.297361\n",
       "13     0.081258 -0.077426      15        1   0.255982, topic_info=    Category         Freq    Term        Total  loglift  logprob\n",
       "403  Default  1327.000000    like  1327.000000  30.0000  30.0000\n",
       "159  Default  1716.000000  little  1716.000000  29.0000  29.0000\n",
       "183  Default  1508.000000    miss  1508.000000  28.0000  28.0000\n",
       "399  Default  1421.000000    know  1421.000000  27.0000  27.0000\n",
       "86   Default   819.000000    emma   819.000000  26.0000  26.0000\n",
       "..       ...          ...     ...          ...      ...      ...\n",
       "148  Topic15     1.964221    jane   907.805237  -0.1681  -6.0124\n",
       "856  Topic15     1.899404   heard   621.640259   0.1770  -6.0460\n",
       "260  Topic15     1.875000    soon   922.447388  -0.2306  -6.0589\n",
       "135  Topic15     1.863724   house   758.746521  -0.0413  -6.0650\n",
       "356  Topic15     1.821997   doubt   313.732666   0.8192  -6.0876\n",
       "\n",
       "[1129 rows x 6 columns], token_table=      Topic      Freq     Term\n",
       "term                          \n",
       "7784      1  0.737191  abandon\n",
       "7784     15  0.184298  abandon\n",
       "792       3  0.230587    abbey\n",
       "792       5  0.658820    abbey\n",
       "792       6  0.098823    abbey\n",
       "...     ...       ...      ...\n",
       "611      12  0.024409    young\n",
       "611      13  0.009154    young\n",
       "611      14  0.001526    young\n",
       "8084      1  0.113948    zelie\n",
       "8084      4  0.854611    zelie\n",
       "\n",
       "[4298 rows x 3 columns], R=30, lambda_step=0.01, plot_opts={'xlab': 'PC1', 'ylab': 'PC2'}, topic_order=[11, 3, 5, 8, 1, 12, 6, 15, 2, 9, 4, 10, 13, 7, 14])"
      ]
     },
     "execution_count": 81,
     "metadata": {},
     "output_type": "execute_result"
    }
   ],
   "source": [
    "pyLDAvis.gensim.prepare(lda, corpus, id2word)"
   ]
  },
  {
   "cell_type": "markdown",
   "metadata": {},
   "source": [
    "### Overall Model / Documents"
   ]
  },
  {
   "cell_type": "code",
   "execution_count": 82,
   "metadata": {},
   "outputs": [
    {
     "data": {
      "text/plain": [
       "[(2, 0.23459533), (11, 0.76339716)]"
      ]
     },
     "execution_count": 82,
     "metadata": {},
     "output_type": "execute_result"
    }
   ],
   "source": [
    "lda[corpus[0]]"
   ]
  },
  {
   "cell_type": "code",
   "execution_count": 83,
   "metadata": {},
   "outputs": [],
   "source": [
    "distro = [lda[d] for d in corpus]"
   ]
  },
  {
   "cell_type": "code",
   "execution_count": 84,
   "metadata": {},
   "outputs": [
    {
     "data": {
      "text/plain": [
       "[(2, 0.23459746), (11, 0.76339495)]"
      ]
     },
     "execution_count": 84,
     "metadata": {},
     "output_type": "execute_result"
    }
   ],
   "source": [
    "distro[0]"
   ]
  },
  {
   "cell_type": "code",
   "execution_count": 85,
   "metadata": {},
   "outputs": [],
   "source": [
    "distro = [lda[d] for d in corpus]\n",
    "\n",
    "def update(doc):\n",
    "        d_dist = {k:0 for k in range(0,15)}\n",
    "        for t in doc:\n",
    "            d_dist[t[0]] = t[1]\n",
    "        return d_dist\n",
    "    \n",
    "new_distro = [update(d) for d in distro]"
   ]
  },
  {
   "cell_type": "code",
   "execution_count": 86,
   "metadata": {},
   "outputs": [
    {
     "data": {
      "text/plain": [
       "813"
      ]
     },
     "execution_count": 86,
     "metadata": {},
     "output_type": "execute_result"
    }
   ],
   "source": [
    "len(new_distro)"
   ]
  },
  {
   "cell_type": "code",
   "execution_count": 87,
   "metadata": {},
   "outputs": [
    {
     "data": {
      "text/html": [
       "<div>\n",
       "<style scoped>\n",
       "    .dataframe tbody tr th:only-of-type {\n",
       "        vertical-align: middle;\n",
       "    }\n",
       "\n",
       "    .dataframe tbody tr th {\n",
       "        vertical-align: top;\n",
       "    }\n",
       "\n",
       "    .dataframe thead th {\n",
       "        text-align: right;\n",
       "    }\n",
       "</style>\n",
       "<table border=\"1\" class=\"dataframe\">\n",
       "  <thead>\n",
       "    <tr style=\"text-align: right;\">\n",
       "      <th></th>\n",
       "      <th>tokens</th>\n",
       "      <th>author</th>\n",
       "      <th>book</th>\n",
       "      <th>section</th>\n",
       "    </tr>\n",
       "  </thead>\n",
       "  <tbody>\n",
       "    <tr>\n",
       "      <th>Austen_Emma0000</th>\n",
       "      <td>[emma, jane, austen, volume, chapter, emma, wo...</td>\n",
       "      <td>1</td>\n",
       "      <td>Emma</td>\n",
       "      <td>0</td>\n",
       "    </tr>\n",
       "    <tr>\n",
       "      <th>Austen_Emma0001</th>\n",
       "      <td>[taylor, wish, pity, mr, weston, thought, agre...</td>\n",
       "      <td>1</td>\n",
       "      <td>Emma</td>\n",
       "      <td>1</td>\n",
       "    </tr>\n",
       "    <tr>\n",
       "      <th>Austen_Emma0002</th>\n",
       "      <td>[behaved, charmingly, body, punctual, body, be...</td>\n",
       "      <td>1</td>\n",
       "      <td>Emma</td>\n",
       "      <td>2</td>\n",
       "    </tr>\n",
       "    <tr>\n",
       "      <th>Austen_Emma0003</th>\n",
       "      <td>[native, highbury, born, respectable, family, ...</td>\n",
       "      <td>1</td>\n",
       "      <td>Emma</td>\n",
       "      <td>3</td>\n",
       "    </tr>\n",
       "    <tr>\n",
       "      <th>Austen_Emma0004</th>\n",
       "      <td>[mention, handsome, letter, mrs, weston, recei...</td>\n",
       "      <td>1</td>\n",
       "      <td>Emma</td>\n",
       "      <td>4</td>\n",
       "    </tr>\n",
       "  </tbody>\n",
       "</table>\n",
       "</div>"
      ],
      "text/plain": [
       "                                                            tokens  author  \\\n",
       "Austen_Emma0000  [emma, jane, austen, volume, chapter, emma, wo...       1   \n",
       "Austen_Emma0001  [taylor, wish, pity, mr, weston, thought, agre...       1   \n",
       "Austen_Emma0002  [behaved, charmingly, body, punctual, body, be...       1   \n",
       "Austen_Emma0003  [native, highbury, born, respectable, family, ...       1   \n",
       "Austen_Emma0004  [mention, handsome, letter, mrs, weston, recei...       1   \n",
       "\n",
       "                 book  section  \n",
       "Austen_Emma0000  Emma        0  \n",
       "Austen_Emma0001  Emma        1  \n",
       "Austen_Emma0002  Emma        2  \n",
       "Austen_Emma0003  Emma        3  \n",
       "Austen_Emma0004  Emma        4  "
      ]
     },
     "execution_count": 87,
     "metadata": {},
     "output_type": "execute_result"
    }
   ],
   "source": [
    "df.head()"
   ]
  },
  {
   "cell_type": "code",
   "execution_count": 88,
   "metadata": {},
   "outputs": [],
   "source": [
    "df = pd.DataFrame.from_records(new_distro, index=titles)\n",
    "df.columns = topics\n",
    "df['author'] = df.reset_index()['index'].apply(lambda x: x.split('_')[0]).tolist()"
   ]
  },
  {
   "cell_type": "code",
   "execution_count": 89,
   "metadata": {},
   "outputs": [
    {
     "data": {
      "text/html": [
       "<div>\n",
       "<style scoped>\n",
       "    .dataframe tbody tr th:only-of-type {\n",
       "        vertical-align: middle;\n",
       "    }\n",
       "\n",
       "    .dataframe tbody tr th {\n",
       "        vertical-align: top;\n",
       "    }\n",
       "\n",
       "    .dataframe thead th {\n",
       "        text-align: right;\n",
       "    }\n",
       "</style>\n",
       "<table border=\"1\" class=\"dataframe\">\n",
       "  <thead>\n",
       "    <tr style=\"text-align: right;\">\n",
       "      <th></th>\n",
       "      <th>harriet emma weston elton good</th>\n",
       "      <th>like sir jane thought little</th>\n",
       "      <th>elinor marianne elizabeth sister miss</th>\n",
       "      <th>hand eyes john like saw</th>\n",
       "      <th>miss jane emma know thing</th>\n",
       "      <th>jane elizabeth darcy know wickham</th>\n",
       "      <th>hunsden miss helen temple bread</th>\n",
       "      <th>little madame like monsieur vous</th>\n",
       "      <th>burns thought like scatcherd miss</th>\n",
       "      <th>man bennet young elizabeth collins</th>\n",
       "      <th>like little thought long good</th>\n",
       "      <th>emma miss knightley harriet thing</th>\n",
       "      <th>bretton know dr little lucy</th>\n",
       "      <th>thousand mason like know sisters</th>\n",
       "      <th>lydia mother wickham father uncle</th>\n",
       "      <th>author</th>\n",
       "    </tr>\n",
       "  </thead>\n",
       "  <tbody>\n",
       "    <tr>\n",
       "      <th>Austen_Emma0000</th>\n",
       "      <td>0.000000</td>\n",
       "      <td>0.0</td>\n",
       "      <td>0.2346</td>\n",
       "      <td>0.0</td>\n",
       "      <td>0.000000</td>\n",
       "      <td>0.000000</td>\n",
       "      <td>0.0</td>\n",
       "      <td>0.0</td>\n",
       "      <td>0.0</td>\n",
       "      <td>0.0</td>\n",
       "      <td>0.0</td>\n",
       "      <td>0.763393</td>\n",
       "      <td>0.000000</td>\n",
       "      <td>0.0</td>\n",
       "      <td>0.0</td>\n",
       "      <td>Austen</td>\n",
       "    </tr>\n",
       "    <tr>\n",
       "      <th>Austen_Emma0001</th>\n",
       "      <td>0.339861</td>\n",
       "      <td>0.0</td>\n",
       "      <td>0.0000</td>\n",
       "      <td>0.0</td>\n",
       "      <td>0.427918</td>\n",
       "      <td>0.000000</td>\n",
       "      <td>0.0</td>\n",
       "      <td>0.0</td>\n",
       "      <td>0.0</td>\n",
       "      <td>0.0</td>\n",
       "      <td>0.0</td>\n",
       "      <td>0.229967</td>\n",
       "      <td>0.000000</td>\n",
       "      <td>0.0</td>\n",
       "      <td>0.0</td>\n",
       "      <td>Austen</td>\n",
       "    </tr>\n",
       "    <tr>\n",
       "      <th>Austen_Emma0002</th>\n",
       "      <td>0.669739</td>\n",
       "      <td>0.0</td>\n",
       "      <td>0.0000</td>\n",
       "      <td>0.0</td>\n",
       "      <td>0.000000</td>\n",
       "      <td>0.000000</td>\n",
       "      <td>0.0</td>\n",
       "      <td>0.0</td>\n",
       "      <td>0.0</td>\n",
       "      <td>0.0</td>\n",
       "      <td>0.0</td>\n",
       "      <td>0.327997</td>\n",
       "      <td>0.000000</td>\n",
       "      <td>0.0</td>\n",
       "      <td>0.0</td>\n",
       "      <td>Austen</td>\n",
       "    </tr>\n",
       "    <tr>\n",
       "      <th>Austen_Emma0003</th>\n",
       "      <td>0.191082</td>\n",
       "      <td>0.0</td>\n",
       "      <td>0.0000</td>\n",
       "      <td>0.0</td>\n",
       "      <td>0.000000</td>\n",
       "      <td>0.806788</td>\n",
       "      <td>0.0</td>\n",
       "      <td>0.0</td>\n",
       "      <td>0.0</td>\n",
       "      <td>0.0</td>\n",
       "      <td>0.0</td>\n",
       "      <td>0.000000</td>\n",
       "      <td>0.000000</td>\n",
       "      <td>0.0</td>\n",
       "      <td>0.0</td>\n",
       "      <td>Austen</td>\n",
       "    </tr>\n",
       "    <tr>\n",
       "      <th>Austen_Emma0004</th>\n",
       "      <td>0.485066</td>\n",
       "      <td>0.0</td>\n",
       "      <td>0.0000</td>\n",
       "      <td>0.0</td>\n",
       "      <td>0.000000</td>\n",
       "      <td>0.000000</td>\n",
       "      <td>0.0</td>\n",
       "      <td>0.0</td>\n",
       "      <td>0.0</td>\n",
       "      <td>0.0</td>\n",
       "      <td>0.0</td>\n",
       "      <td>0.106287</td>\n",
       "      <td>0.406799</td>\n",
       "      <td>0.0</td>\n",
       "      <td>0.0</td>\n",
       "      <td>Austen</td>\n",
       "    </tr>\n",
       "  </tbody>\n",
       "</table>\n",
       "</div>"
      ],
      "text/plain": [
       "                 harriet emma weston elton good  like sir jane thought little  \\\n",
       "Austen_Emma0000                        0.000000                           0.0   \n",
       "Austen_Emma0001                        0.339861                           0.0   \n",
       "Austen_Emma0002                        0.669739                           0.0   \n",
       "Austen_Emma0003                        0.191082                           0.0   \n",
       "Austen_Emma0004                        0.485066                           0.0   \n",
       "\n",
       "                 elinor marianne elizabeth sister miss  \\\n",
       "Austen_Emma0000                                 0.2346   \n",
       "Austen_Emma0001                                 0.0000   \n",
       "Austen_Emma0002                                 0.0000   \n",
       "Austen_Emma0003                                 0.0000   \n",
       "Austen_Emma0004                                 0.0000   \n",
       "\n",
       "                 hand eyes john like saw  miss jane emma know thing  \\\n",
       "Austen_Emma0000                      0.0                   0.000000   \n",
       "Austen_Emma0001                      0.0                   0.427918   \n",
       "Austen_Emma0002                      0.0                   0.000000   \n",
       "Austen_Emma0003                      0.0                   0.000000   \n",
       "Austen_Emma0004                      0.0                   0.000000   \n",
       "\n",
       "                 jane elizabeth darcy know wickham  \\\n",
       "Austen_Emma0000                           0.000000   \n",
       "Austen_Emma0001                           0.000000   \n",
       "Austen_Emma0002                           0.000000   \n",
       "Austen_Emma0003                           0.806788   \n",
       "Austen_Emma0004                           0.000000   \n",
       "\n",
       "                 hunsden miss helen temple bread  \\\n",
       "Austen_Emma0000                              0.0   \n",
       "Austen_Emma0001                              0.0   \n",
       "Austen_Emma0002                              0.0   \n",
       "Austen_Emma0003                              0.0   \n",
       "Austen_Emma0004                              0.0   \n",
       "\n",
       "                 little madame like monsieur vous  \\\n",
       "Austen_Emma0000                               0.0   \n",
       "Austen_Emma0001                               0.0   \n",
       "Austen_Emma0002                               0.0   \n",
       "Austen_Emma0003                               0.0   \n",
       "Austen_Emma0004                               0.0   \n",
       "\n",
       "                 burns thought like scatcherd miss  \\\n",
       "Austen_Emma0000                                0.0   \n",
       "Austen_Emma0001                                0.0   \n",
       "Austen_Emma0002                                0.0   \n",
       "Austen_Emma0003                                0.0   \n",
       "Austen_Emma0004                                0.0   \n",
       "\n",
       "                 man bennet young elizabeth collins  \\\n",
       "Austen_Emma0000                                 0.0   \n",
       "Austen_Emma0001                                 0.0   \n",
       "Austen_Emma0002                                 0.0   \n",
       "Austen_Emma0003                                 0.0   \n",
       "Austen_Emma0004                                 0.0   \n",
       "\n",
       "                 like little thought long good  \\\n",
       "Austen_Emma0000                            0.0   \n",
       "Austen_Emma0001                            0.0   \n",
       "Austen_Emma0002                            0.0   \n",
       "Austen_Emma0003                            0.0   \n",
       "Austen_Emma0004                            0.0   \n",
       "\n",
       "                 emma miss knightley harriet thing  \\\n",
       "Austen_Emma0000                           0.763393   \n",
       "Austen_Emma0001                           0.229967   \n",
       "Austen_Emma0002                           0.327997   \n",
       "Austen_Emma0003                           0.000000   \n",
       "Austen_Emma0004                           0.106287   \n",
       "\n",
       "                 bretton know dr little lucy  \\\n",
       "Austen_Emma0000                     0.000000   \n",
       "Austen_Emma0001                     0.000000   \n",
       "Austen_Emma0002                     0.000000   \n",
       "Austen_Emma0003                     0.000000   \n",
       "Austen_Emma0004                     0.406799   \n",
       "\n",
       "                 thousand mason like know sisters  \\\n",
       "Austen_Emma0000                               0.0   \n",
       "Austen_Emma0001                               0.0   \n",
       "Austen_Emma0002                               0.0   \n",
       "Austen_Emma0003                               0.0   \n",
       "Austen_Emma0004                               0.0   \n",
       "\n",
       "                 lydia mother wickham father uncle  author  \n",
       "Austen_Emma0000                                0.0  Austen  \n",
       "Austen_Emma0001                                0.0  Austen  \n",
       "Austen_Emma0002                                0.0  Austen  \n",
       "Austen_Emma0003                                0.0  Austen  \n",
       "Austen_Emma0004                                0.0  Austen  "
      ]
     },
     "execution_count": 89,
     "metadata": {},
     "output_type": "execute_result"
    }
   ],
   "source": [
    "df.head()"
   ]
  },
  {
   "cell_type": "code",
   "execution_count": 90,
   "metadata": {},
   "outputs": [
    {
     "data": {
      "text/html": [
       "<div>\n",
       "<style scoped>\n",
       "    .dataframe tbody tr th:only-of-type {\n",
       "        vertical-align: middle;\n",
       "    }\n",
       "\n",
       "    .dataframe tbody tr th {\n",
       "        vertical-align: top;\n",
       "    }\n",
       "\n",
       "    .dataframe thead th {\n",
       "        text-align: right;\n",
       "    }\n",
       "</style>\n",
       "<table border=\"1\" class=\"dataframe\">\n",
       "  <thead>\n",
       "    <tr style=\"text-align: right;\">\n",
       "      <th></th>\n",
       "      <th>harriet emma weston elton good</th>\n",
       "      <th>like sir jane thought little</th>\n",
       "      <th>elinor marianne elizabeth sister miss</th>\n",
       "      <th>hand eyes john like saw</th>\n",
       "      <th>miss jane emma know thing</th>\n",
       "      <th>jane elizabeth darcy know wickham</th>\n",
       "      <th>hunsden miss helen temple bread</th>\n",
       "      <th>little madame like monsieur vous</th>\n",
       "      <th>burns thought like scatcherd miss</th>\n",
       "      <th>man bennet young elizabeth collins</th>\n",
       "      <th>like little thought long good</th>\n",
       "      <th>emma miss knightley harriet thing</th>\n",
       "      <th>bretton know dr little lucy</th>\n",
       "      <th>thousand mason like know sisters</th>\n",
       "      <th>lydia mother wickham father uncle</th>\n",
       "    </tr>\n",
       "    <tr>\n",
       "      <th>author</th>\n",
       "      <th></th>\n",
       "      <th></th>\n",
       "      <th></th>\n",
       "      <th></th>\n",
       "      <th></th>\n",
       "      <th></th>\n",
       "      <th></th>\n",
       "      <th></th>\n",
       "      <th></th>\n",
       "      <th></th>\n",
       "      <th></th>\n",
       "      <th></th>\n",
       "      <th></th>\n",
       "      <th></th>\n",
       "      <th></th>\n",
       "    </tr>\n",
       "  </thead>\n",
       "  <tbody>\n",
       "    <tr>\n",
       "      <th>Austen</th>\n",
       "      <td>0.103918</td>\n",
       "      <td>0.006973</td>\n",
       "      <td>0.428129</td>\n",
       "      <td>0.000000</td>\n",
       "      <td>0.211958</td>\n",
       "      <td>0.088507</td>\n",
       "      <td>0.000000</td>\n",
       "      <td>0.000291</td>\n",
       "      <td>0.001807</td>\n",
       "      <td>0.017822</td>\n",
       "      <td>0.013380</td>\n",
       "      <td>0.086611</td>\n",
       "      <td>0.004561</td>\n",
       "      <td>0.000028</td>\n",
       "      <td>0.03330</td>\n",
       "    </tr>\n",
       "    <tr>\n",
       "      <th>CBronte</th>\n",
       "      <td>0.003945</td>\n",
       "      <td>0.012633</td>\n",
       "      <td>0.008016</td>\n",
       "      <td>0.013694</td>\n",
       "      <td>0.036295</td>\n",
       "      <td>0.003886</td>\n",
       "      <td>0.005369</td>\n",
       "      <td>0.137135</td>\n",
       "      <td>0.015776</td>\n",
       "      <td>0.000056</td>\n",
       "      <td>0.746322</td>\n",
       "      <td>0.001341</td>\n",
       "      <td>0.007101</td>\n",
       "      <td>0.004740</td>\n",
       "      <td>0.00102</td>\n",
       "    </tr>\n",
       "  </tbody>\n",
       "</table>\n",
       "</div>"
      ],
      "text/plain": [
       "         harriet emma weston elton good  like sir jane thought little  \\\n",
       "author                                                                  \n",
       "Austen                         0.103918                      0.006973   \n",
       "CBronte                        0.003945                      0.012633   \n",
       "\n",
       "         elinor marianne elizabeth sister miss  hand eyes john like saw  \\\n",
       "author                                                                    \n",
       "Austen                                0.428129                 0.000000   \n",
       "CBronte                               0.008016                 0.013694   \n",
       "\n",
       "         miss jane emma know thing  jane elizabeth darcy know wickham  \\\n",
       "author                                                                  \n",
       "Austen                    0.211958                           0.088507   \n",
       "CBronte                   0.036295                           0.003886   \n",
       "\n",
       "         hunsden miss helen temple bread  little madame like monsieur vous  \\\n",
       "author                                                                       \n",
       "Austen                          0.000000                          0.000291   \n",
       "CBronte                         0.005369                          0.137135   \n",
       "\n",
       "         burns thought like scatcherd miss  \\\n",
       "author                                       \n",
       "Austen                            0.001807   \n",
       "CBronte                           0.015776   \n",
       "\n",
       "         man bennet young elizabeth collins  like little thought long good  \\\n",
       "author                                                                       \n",
       "Austen                             0.017822                       0.013380   \n",
       "CBronte                            0.000056                       0.746322   \n",
       "\n",
       "         emma miss knightley harriet thing  bretton know dr little lucy  \\\n",
       "author                                                                    \n",
       "Austen                            0.086611                     0.004561   \n",
       "CBronte                           0.001341                     0.007101   \n",
       "\n",
       "         thousand mason like know sisters  lydia mother wickham father uncle  \n",
       "author                                                                        \n",
       "Austen                           0.000028                            0.03330  \n",
       "CBronte                          0.004740                            0.00102  "
      ]
     },
     "execution_count": 90,
     "metadata": {},
     "output_type": "execute_result"
    }
   ],
   "source": [
    "df.groupby('author').mean()"
   ]
  },
  {
   "cell_type": "markdown",
   "metadata": {},
   "source": [
    "## Challenge\n",
    "### *Can we see if one of the authors focus more on men than women?*\n",
    "\n",
    "*  Use Spacy for text prepocessing\n",
    "*  Extract the Named Entities from the documents using Spacy (command is fairly straight forward)\n",
    "*  Create unique list of names from the authors (you'll find that there are different types of named entities not all people)\n",
    "*  Label the names with genders (can you this by hand or you use the US census name lists)\n",
    "*  Customize your processing to replace the proper name with your gender from the previous step's lookup table\n",
    "*  Then follow the rest of the LDA flow\n"
   ]
  },
  {
   "cell_type": "markdown",
   "metadata": {},
   "source": [
    "# Selecting the Number of Topics (Learn)\n",
    "<a id=\"#p4\"></a>"
   ]
  },
  {
   "cell_type": "markdown",
   "metadata": {},
   "source": [
    "## Overview"
   ]
  },
  {
   "cell_type": "markdown",
   "metadata": {},
   "source": [
    "## Follow Along"
   ]
  },
  {
   "cell_type": "code",
   "execution_count": 91,
   "metadata": {},
   "outputs": [],
   "source": [
    "from gensim.models.coherencemodel import CoherenceModel\n",
    "\n",
    "def compute_coherence_values(dictionary, corpus, path, limit, start=2, step=3, passes=5):\n",
    "    \"\"\"\n",
    "    Compute c_v coherence for various number of topics\n",
    "\n",
    "    Parameters:\n",
    "    ----------\n",
    "    dictionary : Gensim dictionary\n",
    "    corpus : Gensim corpus\n",
    "    path : path to input texts\n",
    "    limit : Max num of topics\n",
    "    passes: the number of times the entire lda model & coherence values are calculated\n",
    "\n",
    "    Returns:\n",
    "    -------\n",
    "    coherence_values : Coherence values corresponding to the LDA model with respective number of topics\n",
    "    \"\"\"\n",
    "    \n",
    "    coherence_values = []\n",
    "    \n",
    "    tokens = list(doc_stream(path))\n",
    "    \n",
    "    for iter_ in range(passes):\n",
    "        for num_topics in range(start, limit, step):\n",
    "            stream = doc_stream(path)\n",
    "            model = LdaMulticore(corpus=corpus, num_topics=num_topics, id2word=dictionary, workers=4)\n",
    "            coherencemodel = CoherenceModel(model=model,dictionary=dictionary,corpus=corpus, coherence='u_mass')\n",
    "            coherence_values.append({'pass': iter_, \n",
    "                                     'num_topics': num_topics, \n",
    "                                     'coherence_score': coherencemodel.get_coherence()\n",
    "                                    })\n",
    "\n",
    "    return coherence_values"
   ]
  },
  {
   "cell_type": "code",
   "execution_count": 92,
   "metadata": {},
   "outputs": [],
   "source": [
    "# Can take a long time to run.\n",
    "coherence_values = compute_coherence_values(dictionary=id2word, \n",
    "                                                        corpus=corpus, \n",
    "                                                        path=path, \n",
    "                                                        start=2, \n",
    "                                                        limit=40, \n",
    "                                                        step=8,\n",
    "                                                        passes=30)"
   ]
  },
  {
   "cell_type": "code",
   "execution_count": 93,
   "metadata": {},
   "outputs": [],
   "source": [
    "topic_coherence = pd.DataFrame.from_records(coherence_values)"
   ]
  },
  {
   "cell_type": "code",
   "execution_count": 94,
   "metadata": {},
   "outputs": [
    {
     "data": {
      "text/html": [
       "<div>\n",
       "<style scoped>\n",
       "    .dataframe tbody tr th:only-of-type {\n",
       "        vertical-align: middle;\n",
       "    }\n",
       "\n",
       "    .dataframe tbody tr th {\n",
       "        vertical-align: top;\n",
       "    }\n",
       "\n",
       "    .dataframe thead th {\n",
       "        text-align: right;\n",
       "    }\n",
       "</style>\n",
       "<table border=\"1\" class=\"dataframe\">\n",
       "  <thead>\n",
       "    <tr style=\"text-align: right;\">\n",
       "      <th></th>\n",
       "      <th>pass</th>\n",
       "      <th>num_topics</th>\n",
       "      <th>coherence_score</th>\n",
       "    </tr>\n",
       "  </thead>\n",
       "  <tbody>\n",
       "    <tr>\n",
       "      <th>0</th>\n",
       "      <td>0</td>\n",
       "      <td>2</td>\n",
       "      <td>-0.594046</td>\n",
       "    </tr>\n",
       "    <tr>\n",
       "      <th>1</th>\n",
       "      <td>0</td>\n",
       "      <td>10</td>\n",
       "      <td>-0.751736</td>\n",
       "    </tr>\n",
       "    <tr>\n",
       "      <th>2</th>\n",
       "      <td>0</td>\n",
       "      <td>18</td>\n",
       "      <td>-0.711640</td>\n",
       "    </tr>\n",
       "    <tr>\n",
       "      <th>3</th>\n",
       "      <td>0</td>\n",
       "      <td>26</td>\n",
       "      <td>-0.763298</td>\n",
       "    </tr>\n",
       "    <tr>\n",
       "      <th>4</th>\n",
       "      <td>0</td>\n",
       "      <td>34</td>\n",
       "      <td>-0.779143</td>\n",
       "    </tr>\n",
       "  </tbody>\n",
       "</table>\n",
       "</div>"
      ],
      "text/plain": [
       "   pass  num_topics  coherence_score\n",
       "0     0           2        -0.594046\n",
       "1     0          10        -0.751736\n",
       "2     0          18        -0.711640\n",
       "3     0          26        -0.763298\n",
       "4     0          34        -0.779143"
      ]
     },
     "execution_count": 94,
     "metadata": {},
     "output_type": "execute_result"
    }
   ],
   "source": [
    "topic_coherence.head()"
   ]
  },
  {
   "cell_type": "code",
   "execution_count": 95,
   "metadata": {},
   "outputs": [
    {
     "data": {
      "image/png": "[encoded data removed]",
      "text/plain": [
       "<Figure size 432x288 with 1 Axes>"
      ]
     },
     "metadata": {
      "needs_background": "light"
     },
     "output_type": "display_data"
    }
   ],
   "source": [
    "import seaborn as sns\n",
    "\n",
    "ax = sns.lineplot(x=\"num_topics\", y=\"coherence_score\", data=topic_coherence)"
   ]
  },
  {
   "cell_type": "code",
   "execution_count": 99,
   "metadata": {},
   "outputs": [],
   "source": [
    "# # Print the coherence scores\n",
    "# for m, cv in zip(x, coherence_values):\n",
    "#     print(\"Num Topics =\", m, \" has Coherence Value of\", round(cv, 4))"
   ]
  },
  {
   "cell_type": "code",
   "execution_count": 100,
   "metadata": {},
   "outputs": [
    {
     "data": {
      "text/plain": [
       "[(0, 0.016701119),\n",
       " (1, 0.01670116),\n",
       " (2, 0.01670115),\n",
       " (3, 0.016701119),\n",
       " (4, 0.016701132),\n",
       " (5, 0.01670112),\n",
       " (6, 0.016701119),\n",
       " (7, 0.016701138),\n",
       " (8, 0.016701119),\n",
       " (9, 0.016701167),\n",
       " (10, 0.7661841),\n",
       " (11, 0.016701164),\n",
       " (12, 0.01670119),\n",
       " (13, 0.016701119),\n",
       " (14, 0.016701119)]"
      ]
     },
     "execution_count": 100,
     "metadata": {},
     "output_type": "execute_result"
    }
   ],
   "source": [
    "lda[id2word.doc2bow(tokenize(\"This is a sample document to score with a topic distribution.\"))]"
   ]
  },
  {
   "cell_type": "markdown",
   "metadata": {},
   "source": [
    "## Challenge\n",
    "### *Can we see if one of the authors focus more on men than women?*\n",
    "\n",
    "*  Use Spacy for text prepocessing\n",
    "*  Extract the Named Entities from the documents using Spacy (command is fairly straight forward)\n",
    "*  Create unique list of names from the authors (you'll find that there are different types of named entities not all people)\n",
    "*  Label the names with genders (can you this by hand or you use the US census name lists)\n",
    "*  Customize your processing to replace the proper name with your gender from the previous step's lookup table\n",
    "*  Then follow the rest of the LDA flow"
   ]
  },
  {
   "cell_type": "code",
   "execution_count": 78,
   "metadata": {},
   "outputs": [
    {
     "name": "stderr",
     "output_type": "stream",
     "text": [
      "/Users/jonathansokoll/anaconda3/envs/U4-S1-NLP/lib/python3.7/site-packages/thinc/neural/train.py:7: DeprecationWarning: Using or importing the ABCs from 'collections' instead of from 'collections.abc' is deprecated, and in 3.8 it will stop working\n",
      "  from .optimizers import Adam, linear_decay\n",
      "/Users/jonathansokoll/anaconda3/envs/U4-S1-NLP/lib/python3.7/site-packages/thinc/check.py:4: DeprecationWarning: Using or importing the ABCs from 'collections' instead of from 'collections.abc' is deprecated, and in 3.8 it will stop working\n",
      "  from collections import Sequence, Sized, Iterable, Callable\n",
      "/Users/jonathansokoll/anaconda3/envs/U4-S1-NLP/lib/python3.7/site-packages/thinc/check.py:4: DeprecationWarning: Using or importing the ABCs from 'collections' instead of from 'collections.abc' is deprecated, and in 3.8 it will stop working\n",
      "  from collections import Sequence, Sized, Iterable, Callable\n"
     ]
    }
   ],
   "source": [
    "import spacy\n",
    "\n",
    "nlp = spacy.load('en_core_web_lg')"
   ]
  },
  {
   "cell_type": "code",
   "execution_count": 79,
   "metadata": {},
   "outputs": [],
   "source": [
    "test = \"Ned asked me a question about England today.\""
   ]
  },
  {
   "cell_type": "code",
   "execution_count": 80,
   "metadata": {},
   "outputs": [
    {
     "name": "stdout",
     "output_type": "stream",
     "text": [
      "Ned Ned PROPN\n",
      "asked ask VERB\n",
      "me -PRON- PRON\n",
      "a a DET\n",
      "question question NOUN\n",
      "about about ADP\n",
      "England England PROPN\n",
      "today today NOUN\n",
      ". . PUNCT\n"
     ]
    }
   ],
   "source": [
    "doc = nlp(test)\n",
    "\n",
    "for token in doc:\n",
    "    print(token.text, token.lemma_, token.pos_)"
   ]
  },
  {
   "cell_type": "code",
   "execution_count": 81,
   "metadata": {},
   "outputs": [
    {
     "name": "stdout",
     "output_type": "stream",
     "text": [
      "Ned PERSON\n",
      "England GPE\n",
      "today DATE\n"
     ]
    }
   ],
   "source": [
    "for ent in doc.ents:\n",
    "    print(ent.text, ent.label_)"
   ]
  },
  {
   "cell_type": "code",
   "execution_count": 82,
   "metadata": {},
   "outputs": [],
   "source": [
    "def doc_stream(path):\n",
    "    for f in os.listdir(path):\n",
    "        with open(os.path.join(path,f)) as t:\n",
    "            text = t.read().strip('\\n')\n",
    "            yield text\n",
    "\n",
    "def get_people(docstream):\n",
    "    \n",
    "    ppl = []\n",
    "    \n",
    "    for d in docstream:\n",
    "        \n",
    "        doc = nlp(d)\n",
    "        \n",
    "        for ent in doc.ents:\n",
    "            \n",
    "            if ent.label_ == \"PERSON\":\n",
    "                ppl.append(ent.lemma_)\n",
    "                \n",
    "    return set(ppl)"
   ]
  },
  {
   "cell_type": "code",
   "execution_count": 129,
   "metadata": {},
   "outputs": [],
   "source": [
    "people = get_people(doc_stream(path))"
   ]
  },
  {
   "cell_type": "code",
   "execution_count": 126,
   "metadata": {},
   "outputs": [],
   "source": [
    "doc = nlp(next(doc_stream(path)))"
   ]
  },
  {
   "cell_type": "code",
   "execution_count": 128,
   "metadata": {},
   "outputs": [
    {
     "data": {
      "text/plain": [
       "'yesterday'"
      ]
     },
     "execution_count": 128,
     "metadata": {},
     "output_type": "execute_result"
    }
   ],
   "source": [
    "doc.ents[0].lemma_"
   ]
  },
  {
   "cell_type": "markdown",
   "metadata": {},
   "source": [
    "# Sources\n",
    "\n",
    "### *References*\n",
    "* [Andrew Ng et al paper on LDA](https://ai.stanford.edu/~ang/papers/jair03-lda.pdf)\n",
    "* On [Coherence](https://pdfs.semanticscholar.org/1521/8d9c029cbb903ae7c729b2c644c24994c201.pdf)\n",
    "\n",
    "### *Resources*\n",
    "\n",
    "* [Gensim](https://radimrehurek.com/gensim/): Python package for topic modeling, nlp, word vectorization, and few other things. Well maintained and well documented.\n",
    "* [Topic Modeling with Gensim](http://www.machinelearningplus.com/nlp/topic-modeling-gensim-python/#11createthedictionaryandcorpusneededfortopicmodeling): A kind of cookbook for LDA with gensim. Excellent overview, but the you need to be aware of missing import statements and assumed prior knowledge.\n",
    "* [Chinese Restuarant Process](https://en.wikipedia.org/wiki/Chinese_restaurant_process): That really obscure stats thing I mentioned... \n",
    "* [PyLDAvis](https://github.com/bmabey/pyLDAvis): Library for visualizing the topic model and performing some exploratory work. Works well. Has a direct parrell implementation in R as well. \n",
    "* [Rare Technologies](https://rare-technologies.com/): The people that made & maintain gensim and a few other libraries.\n",
    "* [Jane Austen v. Charlotte Bronte](https://www.literaryladiesguide.com/literary-musings/jane-austen-charlotte-bronte-different-alike/)"
   ]
  }
 ],
 "metadata": {
  "kernelspec": {
   "display_name": "U4-S1-NLP (Python3)",
   "language": "python",
   "name": "u4-s1-nlp"
  },
  "language_info": {
   "codemirror_mode": {
    "name": "ipython",
    "version": 3
   },
   "file_extension": ".py",
   "mimetype": "text/x-python",
   "name": "python",
   "nbconvert_exporter": "python",
   "pygments_lexer": "ipython3",
   "version": "3.7.0"
  }
 },
 "nbformat": 4,
 "nbformat_minor": 4
}
