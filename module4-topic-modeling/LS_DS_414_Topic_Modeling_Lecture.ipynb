{
 "cells": [
  {
   "cell_type": "markdown",
   "metadata": {},
   "source": [
    "Lambda School Data Science\n",
    "\n",
    "*Unit 4, Sprint 1, Module 4*\n",
    "\n",
    "---"
   ]
  },
  {
   "cell_type": "markdown",
   "metadata": {},
   "source": [
    "# Topic Modeling (Prepare)"
   ]
  },
  {
   "cell_type": "markdown",
   "metadata": {},
   "source": [
    "# Latent Dirchilet Allocation (LDA) Models (Prepare)\n",
    "<a id=\"#p1\"></a>"
   ]
  },
  {
   "cell_type": "markdown",
   "metadata": {},
   "source": [
    "## Overview\n",
    "LDA is a \"generative probabilistic model\". \n",
    "\n",
    "Let's play with a modoel available [here](https://lettier.com/projects/lda-topic-modeling/)"
   ]
  },
  {
   "cell_type": "markdown",
   "metadata": {},
   "source": [
    "## Follow Along"
   ]
  },
  {
   "cell_type": "markdown",
   "metadata": {},
   "source": [
    "## Challenge "
   ]
  },
  {
   "cell_type": "markdown",
   "metadata": {},
   "source": [
    "# Estimating LDA Models with Gensim (Learn)\n",
    "<a id=\"#p1\"></a>"
   ]
  },
  {
   "cell_type": "markdown",
   "metadata": {
    "toc-hr-collapsed": true
   },
   "source": [
    "## Overview\n",
    "### A Litterary Introduction: *Jane Austen V. Charlotte Bronte*\n",
    "Despite being born nearly forty years apart, modern fans often pit Jane Austen & Charlotte Bronte against one another in a battle for litterary  supremacy. The battle centers around the topics of education for women, courting, and marriage. The authors' similiar backgrounds naturally draw comparisons, but the modern fascination is probably due to novelility of British women publishing novels during the early 19th century. \n",
    "\n",
    "Can we help close a litterary battle for supremacy and simply acknowledge that the authors addressed different topics and deserve to be acknowledged as excellent authors each in their own right?\n",
    "\n",
    "We're going to apply Latent Dirichlet Allocation a machine learning alogrithm for topic modeling to each of the author's novels to compare the distribution of topics in their novels."
   ]
  },
  {
   "cell_type": "code",
   "execution_count": 5,
   "metadata": {},
   "outputs": [],
   "source": [
    "import numpy as np\n",
    "import gensim\n",
    "import os\n",
    "import re\n",
    "import spacy\n",
    "\n",
    "from gensim.utils import simple_preprocess\n",
    "from gensim.parsing.preprocessing import STOPWORDS\n",
    "from gensim import corpora\n",
    "\n",
    "from gensim.models.ldamulticore import LdaMulticore\n",
    "\n",
    "import pandas as pd"
   ]
  },
  {
   "cell_type": "markdown",
   "metadata": {},
   "source": [
    "### Novel Data\n",
    "I grabbed the novel data pre-split into a bunch of smaller chuncks"
   ]
  },
  {
   "cell_type": "code",
   "execution_count": 13,
   "metadata": {},
   "outputs": [],
   "source": [
    "path = './data/austen-brontë-split'\n",
    "nlp = spacy.load(\"en_core_web_lg\")"
   ]
  },
  {
   "cell_type": "code",
   "execution_count": 24,
   "metadata": {},
   "outputs": [],
   "source": [
    "import os\n",
    "\n",
    "\n",
    "\n",
    "def tokenize(text):\n",
    "    return [token for token in simple_preprocess(text) if token in STOPWORDS]\n",
    "\n",
    "def gather_data(path_to_data): \n",
    "    data = []\n",
    "    \n",
    "    for f in os.listdir(path):\n",
    "        if os.path.isdir(f) == False:\n",
    "            if f[-3:] == 'txt':\n",
    "                with open(os.path.join(path,f)) as t:\n",
    "                    text = t.read().strip('\\n')\n",
    "                    data.append(tokenize(str(text)))\n",
    "            \n",
    "    return data"
   ]
  },
  {
   "cell_type": "code",
   "execution_count": 26,
   "metadata": {},
   "outputs": [],
   "source": [
    "tokens = gather_data(path)"
   ]
  },
  {
   "cell_type": "code",
   "execution_count": 27,
   "metadata": {},
   "outputs": [
    {
     "data": {
      "text/plain": [
       "['she', 'found', 'that', 'he', 'was', 'only', 'his', 'an', 'of', 'the']"
      ]
     },
     "execution_count": 27,
     "metadata": {},
     "output_type": "execute_result"
    }
   ],
   "source": [
    "tokens[0][0:10]"
   ]
  },
  {
   "cell_type": "code",
   "execution_count": 29,
   "metadata": {},
   "outputs": [
    {
     "data": {
      "text/plain": [
       "'this is a sample string with a  newline character'"
      ]
     },
     "execution_count": 29,
     "metadata": {},
     "output_type": "execute_result"
    }
   ],
   "source": [
    "\"this is a sample string with a \\n newline character\".replace('\\n', '')"
   ]
  },
  {
   "cell_type": "code",
   "execution_count": 28,
   "metadata": {
    "collapsed": true,
    "jupyter": {
     "outputs_hidden": true
    }
   },
   "outputs": [
    {
     "ename": "NameError",
     "evalue": "name 'df' is not defined",
     "output_type": "error",
     "traceback": [
      "\u001b[0;31m---------------------------------------------------------------------------\u001b[0m",
      "\u001b[0;31mNameError\u001b[0m                                 Traceback (most recent call last)",
      "\u001b[0;32m<ipython-input-28-f50318e3d067>\u001b[0m in \u001b[0;36m<module>\u001b[0;34m\u001b[0m\n\u001b[0;32m----> 1\u001b[0;31m \u001b[0mdf\u001b[0m\u001b[0;34m[\u001b[0m\u001b[0;34m'tokens'\u001b[0m\u001b[0;34m]\u001b[0m \u001b[0;34m=\u001b[0m \u001b[0mgather_data\u001b[0m\u001b[0;34m(\u001b[0m\u001b[0mpath\u001b[0m\u001b[0;34m)\u001b[0m\u001b[0;34m\u001b[0m\u001b[0m\n\u001b[0m",
      "\u001b[0;31mNameError\u001b[0m: name 'df' is not defined"
     ]
    }
   ],
   "source": [
    "# Need to build dataframe\n",
    "df['tokens'] = gather_data(path)"
   ]
  },
  {
   "cell_type": "code",
   "execution_count": null,
   "metadata": {},
   "outputs": [],
   "source": [
    "df['tokens'].head()"
   ]
  },
  {
   "cell_type": "markdown",
   "metadata": {
    "toc-hr-collapsed": true
   },
   "source": [
    "## Follow Along"
   ]
  },
  {
   "cell_type": "markdown",
   "metadata": {},
   "source": [
    "### Text Preprocessing\n",
    "**Challenge**: update the function `tokenize` with any technique you have learned so far this week. "
   ]
  },
  {
   "cell_type": "code",
   "execution_count": 30,
   "metadata": {},
   "outputs": [],
   "source": [
    "titles = [t[:-4] for t in os.listdir(path)]"
   ]
  },
  {
   "cell_type": "code",
   "execution_count": 31,
   "metadata": {},
   "outputs": [
    {
     "data": {
      "text/plain": [
       "['Austen_Emma0026',\n",
       " 'Austen_Emma0032',\n",
       " 'CBronte_Villette0086',\n",
       " 'CBronte_Jane0099',\n",
       " 'CBronte_Villette0092']"
      ]
     },
     "execution_count": 31,
     "metadata": {},
     "output_type": "execute_result"
    }
   ],
   "source": [
    "titles[:5]"
   ]
  },
  {
   "cell_type": "code",
   "execution_count": 36,
   "metadata": {},
   "outputs": [],
   "source": [
    "STOPWORDS = set(STOPWORDS).union(set(['said', 'mr', 'mrs']))\n",
    "\n",
    "def tokenize(text):\n",
    "    return [token for token in simple_preprocess(text) if token not in STOPWORDS]"
   ]
  },
  {
   "cell_type": "code",
   "execution_count": 37,
   "metadata": {},
   "outputs": [
    {
     "data": {
      "text/plain": [
       "['hello', 'world', 'test', 'tokenization', 'method']"
      ]
     },
     "execution_count": 37,
     "metadata": {},
     "output_type": "execute_result"
    }
   ],
   "source": [
    "tokenize(\"Hello World! This a test of the tokenization method\")"
   ]
  },
  {
   "cell_type": "markdown",
   "metadata": {},
   "source": [
    "### Author DataFrame\n"
   ]
  },
  {
   "cell_type": "code",
   "execution_count": 34,
   "metadata": {},
   "outputs": [],
   "source": [
    "df = pd.DataFrame(index=titles)"
   ]
  },
  {
   "cell_type": "code",
   "execution_count": 35,
   "metadata": {},
   "outputs": [
    {
     "data": {
      "text/html": [
       "<div>\n",
       "<style scoped>\n",
       "    .dataframe tbody tr th:only-of-type {\n",
       "        vertical-align: middle;\n",
       "    }\n",
       "\n",
       "    .dataframe tbody tr th {\n",
       "        vertical-align: top;\n",
       "    }\n",
       "\n",
       "    .dataframe thead th {\n",
       "        text-align: right;\n",
       "    }\n",
       "</style>\n",
       "<table border=\"1\" class=\"dataframe\">\n",
       "  <thead>\n",
       "    <tr style=\"text-align: right;\">\n",
       "      <th></th>\n",
       "    </tr>\n",
       "  </thead>\n",
       "  <tbody>\n",
       "    <tr>\n",
       "      <th>Austen_Emma0026</th>\n",
       "    </tr>\n",
       "    <tr>\n",
       "      <th>Austen_Emma0032</th>\n",
       "    </tr>\n",
       "    <tr>\n",
       "      <th>CBronte_Villette0086</th>\n",
       "    </tr>\n",
       "    <tr>\n",
       "      <th>CBronte_Jane0099</th>\n",
       "    </tr>\n",
       "    <tr>\n",
       "      <th>CBronte_Villette0092</th>\n",
       "    </tr>\n",
       "  </tbody>\n",
       "</table>\n",
       "</div>"
      ],
      "text/plain": [
       "Empty DataFrame\n",
       "Columns: []\n",
       "Index: [Austen_Emma0026, Austen_Emma0032, CBronte_Villette0086, CBronte_Jane0099, CBronte_Villette0092]"
      ]
     },
     "execution_count": 35,
     "metadata": {},
     "output_type": "execute_result"
    }
   ],
   "source": [
    "df.head()"
   ]
  },
  {
   "cell_type": "code",
   "execution_count": 38,
   "metadata": {},
   "outputs": [],
   "source": [
    "#"
   ]
  },
  {
   "cell_type": "code",
   "execution_count": 39,
   "metadata": {},
   "outputs": [],
   "source": [
    "df['author'] = df.reset_index()['index'].apply(lambda x: x.split('_')[0]).tolist()\n",
    "df['book'] = df.reset_index()['index'].apply(lambda x: x.split('_')[1][:-4]).tolist()\n",
    "df['section'] = df.reset_index()['index'].apply(lambda x: x[-4:]).tolist()\n",
    "df['section'] = df['section'].astype('int')"
   ]
  },
  {
   "cell_type": "code",
   "execution_count": 40,
   "metadata": {},
   "outputs": [],
   "source": [
    "df['author'] = df['author'].map({'Austen':1, 'CBronte':0})"
   ]
  },
  {
   "cell_type": "code",
   "execution_count": 41,
   "metadata": {},
   "outputs": [
    {
     "data": {
      "text/plain": [
       "0    441\n",
       "1    372\n",
       "Name: author, dtype: int64"
      ]
     },
     "execution_count": 41,
     "metadata": {},
     "output_type": "execute_result"
    }
   ],
   "source": [
    "df.author.value_counts()"
   ]
  },
  {
   "cell_type": "markdown",
   "metadata": {},
   "source": [
    "### Streaming Documents\n",
    "Here we use a new pythonic thingy: the `yield` statement in our fucntion. This allows us to iterate over a bunch of documents without actually reading them into memory. You can see how we use this fucntion later on. "
   ]
  },
  {
   "cell_type": "code",
   "execution_count": 42,
   "metadata": {},
   "outputs": [],
   "source": [
    "def doc_stream(path):\n",
    "    for f in os.listdir(path):\n",
    "        if os.path.isdir(f) == False:\n",
    "            if f[-3:] == 'txt':\n",
    "                with open(os.path.join(path,f)) as t:\n",
    "                    text = t.read().strip('\\n')\n",
    "                    tokens = tokenize(str(text))\n",
    "                yield tokens"
   ]
  },
  {
   "cell_type": "code",
   "execution_count": 49,
   "metadata": {},
   "outputs": [
    {
     "data": {
      "text/plain": [
       "<generator object doc_stream at 0x14cbedb88>"
      ]
     },
     "execution_count": 49,
     "metadata": {},
     "output_type": "execute_result"
    }
   ],
   "source": [
    "# Reset the generator by rerunning the cell\n",
    "\n",
    "streaming_data = doc_stream(path)\n",
    "streaming_data"
   ]
  },
  {
   "cell_type": "code",
   "execution_count": 50,
   "metadata": {
    "collapsed": true,
    "jupyter": {
     "outputs_hidden": true
    }
   },
   "outputs": [
    {
     "data": {
      "text/plain": [
       "['giving',\n",
       " 'fair',\n",
       " 'companion',\n",
       " 'account',\n",
       " 'yesterday',\n",
       " 'party',\n",
       " 'friend',\n",
       " 'cole',\n",
       " 'come',\n",
       " 'stilton',\n",
       " 'cheese',\n",
       " 'north',\n",
       " 'wiltshire',\n",
       " 'butter',\n",
       " 'cellery',\n",
       " 'beet',\n",
       " 'root',\n",
       " 'dessert',\n",
       " 'soon',\n",
       " 'led',\n",
       " 'better',\n",
       " 'course',\n",
       " 'consoling',\n",
       " 'reflection',\n",
       " 'thing',\n",
       " 'interests',\n",
       " 'love',\n",
       " 'thing',\n",
       " 'serve',\n",
       " 'introduction',\n",
       " 'near',\n",
       " 'heart',\n",
       " 'kept',\n",
       " 'longer',\n",
       " 'away',\n",
       " 'walked',\n",
       " 'quietly',\n",
       " 'till',\n",
       " 'view',\n",
       " 'vicarage',\n",
       " 'pales',\n",
       " 'sudden',\n",
       " 'resolution',\n",
       " 'getting',\n",
       " 'harriet',\n",
       " 'house',\n",
       " 'amiss',\n",
       " 'boot',\n",
       " 'fall',\n",
       " 'arrange',\n",
       " 'broke',\n",
       " 'lace',\n",
       " 'short',\n",
       " 'dexterously',\n",
       " 'throwing',\n",
       " 'ditch',\n",
       " 'presently',\n",
       " 'obliged',\n",
       " 'entreat',\n",
       " 'stop',\n",
       " 'acknowledged',\n",
       " 'inability',\n",
       " 'rights',\n",
       " 'able',\n",
       " 'walk',\n",
       " 'home',\n",
       " 'tolerable',\n",
       " 'comfort',\n",
       " 'lace',\n",
       " 'gone',\n",
       " 'know',\n",
       " 'contrive',\n",
       " 'troublesome',\n",
       " 'companion',\n",
       " 'hope',\n",
       " 'ill',\n",
       " 'equipped',\n",
       " 'elton',\n",
       " 'beg',\n",
       " 'leave',\n",
       " 'stop',\n",
       " 'house',\n",
       " 'ask',\n",
       " 'housekeeper',\n",
       " 'bit',\n",
       " 'ribband',\n",
       " 'string',\n",
       " 'thing',\n",
       " 'boot',\n",
       " 'elton',\n",
       " 'looked',\n",
       " 'happiness',\n",
       " 'proposition',\n",
       " 'exceed',\n",
       " 'alertness',\n",
       " 'attention',\n",
       " 'conducting',\n",
       " 'house',\n",
       " 'endeavouring',\n",
       " 'thing',\n",
       " 'appear',\n",
       " 'advantage',\n",
       " 'room',\n",
       " 'taken',\n",
       " 'chiefly',\n",
       " 'occupied',\n",
       " 'looking',\n",
       " 'forwards',\n",
       " 'immediately',\n",
       " 'communicated',\n",
       " 'door',\n",
       " 'open',\n",
       " 'emma',\n",
       " 'passed',\n",
       " 'housekeeper',\n",
       " 'receive',\n",
       " 'assistance',\n",
       " 'comfortable',\n",
       " 'manner',\n",
       " 'obliged',\n",
       " 'leave',\n",
       " 'door',\n",
       " 'ajar',\n",
       " 'fully',\n",
       " 'intended',\n",
       " 'elton',\n",
       " 'close',\n",
       " 'closed',\n",
       " 'remained',\n",
       " 'ajar',\n",
       " 'engaging',\n",
       " 'housekeeper',\n",
       " 'incessant',\n",
       " 'conversation',\n",
       " 'hoped',\n",
       " 'practicable',\n",
       " 'chuse',\n",
       " 'subject',\n",
       " 'adjoining',\n",
       " 'room',\n",
       " 'minutes',\n",
       " 'hear',\n",
       " 'protracted',\n",
       " 'longer',\n",
       " 'obliged',\n",
       " 'finished',\n",
       " 'appearance',\n",
       " 'lovers',\n",
       " 'standing',\n",
       " 'windows',\n",
       " 'favourable',\n",
       " 'aspect',\n",
       " 'half',\n",
       " 'minute',\n",
       " 'emma',\n",
       " 'felt',\n",
       " 'glory',\n",
       " 'having',\n",
       " 'schemed',\n",
       " 'successfully',\n",
       " 'come',\n",
       " 'point',\n",
       " 'agreeable',\n",
       " 'delightful',\n",
       " 'told',\n",
       " 'harriet',\n",
       " 'seen',\n",
       " 'purposely',\n",
       " 'followed',\n",
       " 'little',\n",
       " 'gallantries',\n",
       " 'allusions',\n",
       " 'dropt',\n",
       " 'cautious',\n",
       " 'cautious',\n",
       " 'thought',\n",
       " 'emma',\n",
       " 'advances',\n",
       " 'inch',\n",
       " 'inch',\n",
       " 'hazard',\n",
       " 'till',\n",
       " 'believes',\n",
       " 'secure',\n",
       " 'thing',\n",
       " 'accomplished',\n",
       " 'ingenious',\n",
       " 'device',\n",
       " 'flatter',\n",
       " 'occasion',\n",
       " 'present',\n",
       " 'enjoyment',\n",
       " 'leading',\n",
       " 'forward',\n",
       " 'great',\n",
       " 'event',\n",
       " 'chapter',\n",
       " 'xi',\n",
       " 'elton',\n",
       " 'left',\n",
       " 'longer',\n",
       " 'emma',\n",
       " 'power',\n",
       " 'superintend',\n",
       " 'happiness',\n",
       " 'quicken',\n",
       " 'measures',\n",
       " 'coming',\n",
       " 'sister',\n",
       " 'family',\n",
       " 'near',\n",
       " 'hand',\n",
       " 'anticipation',\n",
       " 'reality',\n",
       " 'henceforth',\n",
       " 'prime',\n",
       " 'object',\n",
       " 'days',\n",
       " 'stay',\n",
       " 'hartfield',\n",
       " 'expected',\n",
       " 'expect',\n",
       " 'thing',\n",
       " 'occasional',\n",
       " 'fortuitous',\n",
       " 'assistance',\n",
       " 'afforded',\n",
       " 'lovers',\n",
       " 'advance',\n",
       " 'rapidly',\n",
       " 'advance',\n",
       " 'hardly',\n",
       " 'wished',\n",
       " 'leisure',\n",
       " 'people',\n",
       " 'john',\n",
       " 'knightley',\n",
       " 'having',\n",
       " 'longer',\n",
       " 'usual',\n",
       " 'absent',\n",
       " 'surry',\n",
       " 'exciting',\n",
       " 'course',\n",
       " 'usual',\n",
       " 'till',\n",
       " 'year',\n",
       " 'long',\n",
       " 'vacation',\n",
       " 'marriage',\n",
       " 'divided',\n",
       " 'hartfield',\n",
       " 'donwell',\n",
       " 'abbey',\n",
       " 'holidays',\n",
       " 'autumn',\n",
       " 'given',\n",
       " 'sea',\n",
       " 'bathing',\n",
       " 'children',\n",
       " 'months',\n",
       " 'seen',\n",
       " 'regular',\n",
       " 'way',\n",
       " 'surry',\n",
       " 'connexions',\n",
       " 'seen',\n",
       " 'woodhouse',\n",
       " 'induced',\n",
       " 'far',\n",
       " 'london',\n",
       " 'poor',\n",
       " 'isabella',\n",
       " 'sake',\n",
       " 'consequently',\n",
       " 'nervously',\n",
       " 'apprehensively',\n",
       " 'happy',\n",
       " 'forestalling',\n",
       " 'short',\n",
       " 'visit',\n",
       " 'thought',\n",
       " 'evils',\n",
       " 'journey',\n",
       " 'little',\n",
       " 'fatigues',\n",
       " 'horses',\n",
       " 'coachman',\n",
       " 'bring',\n",
       " 'party',\n",
       " 'half',\n",
       " 'way',\n",
       " 'alarms',\n",
       " 'needless',\n",
       " 'sixteen',\n",
       " 'miles',\n",
       " 'happily',\n",
       " 'accomplished',\n",
       " 'john',\n",
       " 'knightley',\n",
       " 'children',\n",
       " 'competent',\n",
       " 'number',\n",
       " 'nursery',\n",
       " 'maids',\n",
       " 'reaching',\n",
       " 'hartfield',\n",
       " 'safety',\n",
       " 'bustle',\n",
       " 'joy',\n",
       " 'arrival',\n",
       " 'talked',\n",
       " 'welcomed',\n",
       " 'encouraged',\n",
       " 'variously',\n",
       " 'dispersed',\n",
       " 'disposed',\n",
       " 'produced',\n",
       " 'noise',\n",
       " 'confusion',\n",
       " 'nerves',\n",
       " 'borne',\n",
       " 'cause',\n",
       " 'endured',\n",
       " 'longer',\n",
       " 'ways',\n",
       " 'hartfield',\n",
       " 'feelings',\n",
       " 'father',\n",
       " 'respected',\n",
       " 'john',\n",
       " 'knightley',\n",
       " 'spite',\n",
       " 'maternal',\n",
       " 'solicitude',\n",
       " 'immediate',\n",
       " 'enjoyment',\n",
       " 'little',\n",
       " 'ones',\n",
       " 'having',\n",
       " 'instantly',\n",
       " 'liberty',\n",
       " 'attendance',\n",
       " 'eating',\n",
       " 'drinking',\n",
       " 'sleeping',\n",
       " 'playing',\n",
       " 'possibly',\n",
       " 'wish',\n",
       " 'smallest',\n",
       " 'delay',\n",
       " 'children',\n",
       " 'allowed',\n",
       " 'long',\n",
       " 'disturbance',\n",
       " 'restless',\n",
       " 'attendance',\n",
       " 'john',\n",
       " 'knightley',\n",
       " 'pretty',\n",
       " 'elegant',\n",
       " 'little',\n",
       " 'woman',\n",
       " 'gentle',\n",
       " 'quiet',\n",
       " 'manners',\n",
       " 'disposition',\n",
       " 'remarkably',\n",
       " 'amiable',\n",
       " 'affectionate',\n",
       " 'wrapt',\n",
       " 'family',\n",
       " 'devoted',\n",
       " 'wife',\n",
       " 'doating',\n",
       " 'mother',\n",
       " 'tenderly',\n",
       " 'attached',\n",
       " 'father',\n",
       " 'sister',\n",
       " 'higher',\n",
       " 'ties',\n",
       " 'warmer',\n",
       " 'love',\n",
       " 'impossible',\n",
       " 'fault',\n",
       " 'woman',\n",
       " 'strong',\n",
       " 'understanding',\n",
       " 'quickness',\n",
       " 'resemblance',\n",
       " 'father',\n",
       " 'inherited',\n",
       " 'constitution',\n",
       " 'delicate',\n",
       " 'health',\n",
       " 'careful',\n",
       " 'children',\n",
       " 'fears',\n",
       " 'nerves',\n",
       " 'fond',\n",
       " 'wingfield',\n",
       " 'town']"
      ]
     },
     "execution_count": 50,
     "metadata": {},
     "output_type": "execute_result"
    }
   ],
   "source": [
    "next(streaming_data)"
   ]
  },
  {
   "cell_type": "code",
   "execution_count": null,
   "metadata": {},
   "outputs": [],
   "source": []
  },
  {
   "cell_type": "markdown",
   "metadata": {},
   "source": [
    "### Gensim LDA Topic Modeling"
   ]
  },
  {
   "cell_type": "code",
   "execution_count": 122,
   "metadata": {},
   "outputs": [
    {
     "ename": "NameError",
     "evalue": "name 'shops' is not defined",
     "output_type": "error",
     "traceback": [
      "\u001b[0;31m---------------------------------------------------------------------------\u001b[0m",
      "\u001b[0;31mNameError\u001b[0m                                 Traceback (most recent call last)",
      "\u001b[0;32m<ipython-input-122-41605e91f9d1>\u001b[0m in \u001b[0;36m<module>\u001b[0;34m\u001b[0m\n\u001b[1;32m      1\u001b[0m \u001b[0;31m# A Dictionary Representation of all the words in our corpus\u001b[0m\u001b[0;34m\u001b[0m\u001b[0;34m\u001b[0m\u001b[0m\n\u001b[0;32m----> 2\u001b[0;31m \u001b[0mid2word\u001b[0m \u001b[0;34m=\u001b[0m \u001b[0mcorpora\u001b[0m\u001b[0;34m.\u001b[0m\u001b[0mDictionary\u001b[0m\u001b[0;34m(\u001b[0m\u001b[0mshops\u001b[0m\u001b[0;34m[\u001b[0m\u001b[0;34m'lemmas'\u001b[0m\u001b[0;34m]\u001b[0m\u001b[0;34m)\u001b[0m\u001b[0;34m\u001b[0m\u001b[0m\n\u001b[0m",
      "\u001b[0;31mNameError\u001b[0m: name 'shops' is not defined"
     ]
    }
   ],
   "source": [
    "# A Dictionary Representation of all the words in our corpus\n",
    "id2word = corpora.Dictionary(shops['lemmas'])"
   ]
  },
  {
   "cell_type": "code",
   "execution_count": 89,
   "metadata": {},
   "outputs": [
    {
     "data": {
      "text/plain": [
       "638"
      ]
     },
     "execution_count": 89,
     "metadata": {},
     "output_type": "execute_result"
    }
   ],
   "source": [
    "id2word.token2id['girl']"
   ]
  },
  {
   "cell_type": "code",
   "execution_count": 90,
   "metadata": {},
   "outputs": [
    {
     "data": {
      "text/plain": [
       "'england'"
      ]
     },
     "execution_count": 90,
     "metadata": {},
     "output_type": "execute_result"
    }
   ],
   "source": [
    "id2word[869]"
   ]
  },
  {
   "cell_type": "code",
   "execution_count": 91,
   "metadata": {},
   "outputs": [
    {
     "data": {
      "text/plain": [
       "[(869, 3), (1254, 1), (2485, 1), (16850, 1)]"
      ]
     },
     "execution_count": 91,
     "metadata": {},
     "output_type": "execute_result"
    }
   ],
   "source": [
    "id2word.doc2bow(tokenize(\"This is a sample message Darcy England England England\"))"
   ]
  },
  {
   "cell_type": "code",
   "execution_count": 92,
   "metadata": {},
   "outputs": [
    {
     "data": {
      "text/plain": [
       "56"
      ]
     },
     "execution_count": 92,
     "metadata": {},
     "output_type": "execute_result"
    }
   ],
   "source": [
    "import sys\n",
    "sys.getsizeof(id2word)"
   ]
  },
  {
   "cell_type": "code",
   "execution_count": 93,
   "metadata": {},
   "outputs": [
    {
     "data": {
      "text/plain": [
       "22095"
      ]
     },
     "execution_count": 93,
     "metadata": {},
     "output_type": "execute_result"
    }
   ],
   "source": [
    "len(id2word.keys())"
   ]
  },
  {
   "cell_type": "code",
   "execution_count": 94,
   "metadata": {},
   "outputs": [],
   "source": [
    "# Let's remove extreme values from the dataset\n",
    "id2word.filter_extremes(no_below=5, no_above=0.95)"
   ]
  },
  {
   "cell_type": "code",
   "execution_count": 95,
   "metadata": {},
   "outputs": [
    {
     "data": {
      "text/plain": [
       "8102"
      ]
     },
     "execution_count": 95,
     "metadata": {},
     "output_type": "execute_result"
    }
   ],
   "source": [
    "len(id2word.keys())"
   ]
  },
  {
   "cell_type": "code",
   "execution_count": 97,
   "metadata": {},
   "outputs": [],
   "source": [
    "# a bag of words(bow) representation of our corpus\n",
    "# Note: we haven't actually read any text into memory here\n",
    "# Although abstracted away - tokenization is hapening in the doc stream f(x)\n",
    "corpus = [id2word.doc2bow(text) for text in doc_stream(path)]"
   ]
  },
  {
   "cell_type": "code",
   "execution_count": 98,
   "metadata": {},
   "outputs": [
    {
     "data": {
      "text/plain": [
       "[(0, 1),\n",
       " (1, 1),\n",
       " (2, 1),\n",
       " (3, 2),\n",
       " (4, 1),\n",
       " (5, 1),\n",
       " (6, 1),\n",
       " (7, 2),\n",
       " (8, 1),\n",
       " (9, 1)]"
      ]
     },
     "execution_count": 98,
     "metadata": {},
     "output_type": "execute_result"
    }
   ],
   "source": [
    "corpus[0][:10]"
   ]
  },
  {
   "cell_type": "code",
   "execution_count": 99,
   "metadata": {},
   "outputs": [],
   "source": [
    "lda = LdaMulticore(corpus=corpus,\n",
    "                   id2word=id2word,\n",
    "                   random_state=723812,\n",
    "                   num_topics = 15,\n",
    "                   passes=10,\n",
    "                   workers=4\n",
    "                  )"
   ]
  },
  {
   "cell_type": "code",
   "execution_count": 100,
   "metadata": {},
   "outputs": [
    {
     "data": {
      "text/plain": [
       "[(0,\n",
       "  '0.009*\"pounds\" + 0.007*\"mother\" + 0.006*\"sure\" + 0.006*\"think\" + 0.006*\"year\" + 0.004*\"rochester\" + 0.004*\"certainly\" + 0.004*\"thornfield\" + 0.004*\"fairfax\" + 0.004*\"live\"'),\n",
       " (1,\n",
       "  '0.008*\"pelet\" + 0.005*\"thought\" + 0.005*\"like\" + 0.004*\"little\" + 0.004*\"man\" + 0.004*\"hunsden\" + 0.004*\"time\" + 0.003*\"having\" + 0.003*\"pupils\" + 0.003*\"crimsworth\"'),\n",
       " (2,\n",
       "  '0.008*\"madame\" + 0.006*\"little\" + 0.006*\"like\" + 0.004*\"day\" + 0.004*\"vous\" + 0.004*\"thought\" + 0.003*\"know\" + 0.003*\"beck\" + 0.003*\"good\" + 0.003*\"paul\"'),\n",
       " (3,\n",
       "  '0.005*\"night\" + 0.005*\"look\" + 0.005*\"like\" + 0.004*\"old\" + 0.004*\"est\" + 0.004*\"looked\" + 0.003*\"sir\" + 0.003*\"thought\" + 0.003*\"house\" + 0.003*\"hunsden\"'),\n",
       " (4,\n",
       "  '0.007*\"little\" + 0.005*\"madame\" + 0.005*\"like\" + 0.004*\"thought\" + 0.004*\"know\" + 0.004*\"hand\" + 0.004*\"good\" + 0.004*\"night\" + 0.003*\"day\" + 0.003*\"dr\"'),\n",
       " (5,\n",
       "  '0.017*\"elizabeth\" + 0.013*\"darcy\" + 0.010*\"miss\" + 0.010*\"bingley\" + 0.010*\"bennet\" + 0.009*\"jane\" + 0.007*\"know\" + 0.007*\"think\" + 0.006*\"wickham\" + 0.005*\"sister\"'),\n",
       " (6,\n",
       "  '0.006*\"know\" + 0.006*\"jane\" + 0.006*\"life\" + 0.005*\"like\" + 0.005*\"long\" + 0.005*\"love\" + 0.005*\"thought\" + 0.005*\"heart\" + 0.005*\"shall\" + 0.005*\"good\"'),\n",
       " (7,\n",
       "  '0.011*\"frances\" + 0.009*\"monsieur\" + 0.007*\"hunsden\" + 0.007*\"little\" + 0.006*\"english\" + 0.005*\"mdlle\" + 0.004*\"long\" + 0.004*\"time\" + 0.004*\"mademoiselle\" + 0.004*\"shall\"'),\n",
       " (8,\n",
       "  '0.008*\"good\" + 0.006*\"little\" + 0.006*\"like\" + 0.006*\"emma\" + 0.005*\"elton\" + 0.005*\"thought\" + 0.005*\"miss\" + 0.004*\"think\" + 0.004*\"great\" + 0.004*\"woman\"'),\n",
       " (9,\n",
       "  '0.012*\"sir\" + 0.006*\"long\" + 0.006*\"jane\" + 0.006*\"rochester\" + 0.005*\"little\" + 0.005*\"yes\" + 0.005*\"adele\" + 0.004*\"come\" + 0.004*\"life\" + 0.004*\"pounds\"'),\n",
       " (10,\n",
       "  '0.007*\"like\" + 0.005*\"little\" + 0.005*\"rochester\" + 0.005*\"miss\" + 0.004*\"room\" + 0.004*\"time\" + 0.004*\"thought\" + 0.003*\"sir\" + 0.003*\"day\" + 0.003*\"come\"'),\n",
       " (11,\n",
       "  '0.015*\"emma\" + 0.012*\"miss\" + 0.009*\"harriet\" + 0.008*\"thing\" + 0.008*\"weston\" + 0.008*\"think\" + 0.007*\"know\" + 0.007*\"knightley\" + 0.006*\"elton\" + 0.006*\"good\"'),\n",
       " (12,\n",
       "  '0.010*\"jane\" + 0.009*\"emma\" + 0.009*\"little\" + 0.008*\"thing\" + 0.008*\"miss\" + 0.008*\"dear\" + 0.007*\"fairfax\" + 0.006*\"shall\" + 0.006*\"know\" + 0.006*\"like\"'),\n",
       " (13,\n",
       "  '0.011*\"elinor\" + 0.010*\"marianne\" + 0.007*\"sister\" + 0.006*\"mother\" + 0.005*\"time\" + 0.004*\"soon\" + 0.004*\"jennings\" + 0.004*\"willoughby\" + 0.004*\"good\" + 0.004*\"dashwood\"'),\n",
       " (14,\n",
       "  '0.006*\"monsieur\" + 0.004*\"henri\" + 0.004*\"georgiana\" + 0.004*\"mdlle\" + 0.004*\"little\" + 0.003*\"know\" + 0.003*\"good\" + 0.003*\"asked\" + 0.003*\"time\" + 0.003*\"course\"')]"
      ]
     },
     "execution_count": 100,
     "metadata": {},
     "output_type": "execute_result"
    }
   ],
   "source": [
    "lda.print_topics()"
   ]
  },
  {
   "cell_type": "code",
   "execution_count": null,
   "metadata": {},
   "outputs": [],
   "source": []
  },
  {
   "cell_type": "code",
   "execution_count": 101,
   "metadata": {},
   "outputs": [],
   "source": [
    "words = [re.findall(r'\"([^\"]*)\"',t[1]) for t in lda.print_topics()]"
   ]
  },
  {
   "cell_type": "code",
   "execution_count": 102,
   "metadata": {},
   "outputs": [],
   "source": [
    "topics = [' '.join(t[0:5]) for t in words]"
   ]
  },
  {
   "cell_type": "code",
   "execution_count": 106,
   "metadata": {},
   "outputs": [
    {
     "name": "stdout",
     "output_type": "stream",
     "text": [
      "------ Topic 1 ------\n",
      "pounds mother sure think year\n",
      "\n",
      "------ Topic 2 ------\n",
      "pelet thought like little man\n",
      "\n",
      "------ Topic 3 ------\n",
      "madame little like day vous\n",
      "\n",
      "------ Topic 4 ------\n",
      "night look like old est\n",
      "\n",
      "------ Topic 5 ------\n",
      "little madame like thought know\n",
      "\n",
      "------ Topic 6 ------\n",
      "elizabeth darcy miss bingley bennet\n",
      "\n",
      "------ Topic 7 ------\n",
      "know jane life like long\n",
      "\n",
      "------ Topic 8 ------\n",
      "frances monsieur hunsden little english\n",
      "\n",
      "------ Topic 9 ------\n",
      "good little like emma elton\n",
      "\n",
      "------ Topic 10 ------\n",
      "sir long jane rochester little\n",
      "\n",
      "------ Topic 11 ------\n",
      "like little rochester miss room\n",
      "\n",
      "------ Topic 12 ------\n",
      "emma miss harriet thing weston\n",
      "\n",
      "------ Topic 13 ------\n",
      "jane emma little thing miss\n",
      "\n",
      "------ Topic 14 ------\n",
      "elinor marianne sister mother time\n",
      "\n",
      "------ Topic 15 ------\n",
      "monsieur henri georgiana mdlle little\n",
      "\n"
     ]
    }
   ],
   "source": [
    "for id, t in enumerate(topics, start=1): \n",
    "    print(f\"------ Topic {id} ------\")\n",
    "    print(t, end=\"\\n\\n\")"
   ]
  },
  {
   "cell_type": "markdown",
   "metadata": {},
   "source": [
    "## Challenge \n",
    "\n",
    "You will apply an LDA model to a customer review dataset to practice the fitting and estimation of LDA. "
   ]
  },
  {
   "cell_type": "markdown",
   "metadata": {},
   "source": [
    "# Interpret LDA Results (Learn)\n",
    "<a id=\"#p3\"></a>"
   ]
  },
  {
   "cell_type": "markdown",
   "metadata": {},
   "source": [
    "## Overview"
   ]
  },
  {
   "cell_type": "markdown",
   "metadata": {
    "toc-hr-collapsed": true
   },
   "source": [
    "## Follow Along"
   ]
  },
  {
   "cell_type": "markdown",
   "metadata": {},
   "source": [
    "### Topic Distance Visualization"
   ]
  },
  {
   "cell_type": "code",
   "execution_count": 107,
   "metadata": {},
   "outputs": [],
   "source": [
    "import pyLDAvis.gensim\n",
    "\n",
    "pyLDAvis.enable_notebook()"
   ]
  },
  {
   "cell_type": "code",
   "execution_count": 108,
   "metadata": {},
   "outputs": [
    {
     "name": "stderr",
     "output_type": "stream",
     "text": [
      "/Users/mph/anaconda3/envs/U4-S1-NLP/lib/python3.7/site-packages/pyLDAvis/_prepare.py:257: FutureWarning: Sorting because non-concatenation axis is not aligned. A future version\n",
      "of pandas will change to not sort by default.\n",
      "\n",
      "To accept the future behavior, pass 'sort=False'.\n",
      "\n",
      "To retain the current behavior and silence the warning, pass 'sort=True'.\n",
      "\n",
      "  return pd.concat([default_term_info] + list(topic_dfs))\n"
     ]
    },
    {
     "data": {
      "text/html": [
       "\n",
       "<link rel=\"stylesheet\" type=\"text/css\" href=\"https://cdn.rawgit.com/bmabey/pyLDAvis/files/ldavis.v1.0.0.css\">\n",
       "\n",
       "\n",
       "<div id=\"ldavis_el128256079149762597905806\"></div>\n",
       "<script type=\"text/javascript\">\n",
       "\n",
       "var ldavis_el128256079149762597905806_data = {\"mdsDat\": {\"x\": [-0.045594111227715894, -0.07766517578844291, 0.14128842603747138, 0.10404280040506401, 0.1522101601866527, -0.013859966373519907, -0.07765637992265036, -0.03380827516520573, -0.07173019905850005, 0.09536430457436867, 0.052508267172044314, 0.006458858920616348, -0.09942887070503417, -0.04603671317453, -0.08609312588061839], \"y\": [0.02055741943262207, 0.055243223755694446, 0.008632911406792412, 0.014423516256461662, 0.01256292935867572, 0.05112088560106636, 0.07267058711643655, 0.04708851228267325, 0.05393199745906844, -0.031605965886262494, -0.0038859061166087033, -0.05055512696530141, -0.027451174314103613, -0.1486169483611729, -0.07411686102604248], \"topics\": [1, 2, 3, 4, 5, 6, 7, 8, 9, 10, 11, 12, 13, 14, 15], \"cluster\": [1, 1, 1, 1, 1, 1, 1, 1, 1, 1, 1, 1, 1, 1, 1], \"Freq\": [21.411991119384766, 17.60755157470703, 16.260648727416992, 16.003170013427734, 10.043449401855469, 6.805724620819092, 3.6257967948913574, 2.3282430171966553, 1.5559254884719849, 1.2824681997299194, 1.2248283624649048, 0.8663650751113892, 0.4587929844856262, 0.26259589195251465, 0.2624574601650238]}, \"tinfo\": {\"Category\": [\"Default\", \"Default\", \"Default\", \"Default\", \"Default\", \"Default\", \"Default\", \"Default\", \"Default\", \"Default\", \"Default\", \"Default\", \"Default\", \"Default\", \"Default\", \"Default\", \"Default\", \"Default\", \"Default\", \"Default\", \"Default\", \"Default\", \"Default\", \"Default\", \"Default\", \"Default\", \"Default\", \"Default\", \"Default\", \"Default\", \"Topic1\", \"Topic1\", \"Topic1\", \"Topic1\", \"Topic1\", \"Topic1\", \"Topic1\", \"Topic1\", \"Topic1\", \"Topic1\", \"Topic1\", \"Topic1\", \"Topic1\", \"Topic1\", \"Topic1\", \"Topic1\", \"Topic1\", \"Topic1\", \"Topic1\", \"Topic1\", \"Topic1\", \"Topic1\", \"Topic1\", \"Topic1\", \"Topic1\", \"Topic1\", \"Topic1\", \"Topic1\", \"Topic1\", \"Topic1\", \"Topic1\", \"Topic1\", \"Topic1\", \"Topic1\", \"Topic1\", \"Topic1\", \"Topic1\", \"Topic1\", \"Topic1\", \"Topic1\", \"Topic1\", \"Topic1\", \"Topic1\", \"Topic1\", \"Topic1\", \"Topic1\", \"Topic1\", \"Topic1\", \"Topic1\", \"Topic1\", \"Topic1\", \"Topic1\", \"Topic1\", \"Topic1\", \"Topic1\", \"Topic1\", \"Topic1\", \"Topic1\", \"Topic1\", \"Topic1\", \"Topic1\", \"Topic1\", \"Topic1\", \"Topic1\", \"Topic1\", \"Topic1\", \"Topic1\", \"Topic1\", \"Topic1\", \"Topic1\", \"Topic1\", \"Topic1\", \"Topic1\", \"Topic1\", \"Topic1\", \"Topic1\", \"Topic1\", \"Topic1\", \"Topic1\", \"Topic1\", \"Topic1\", \"Topic1\", \"Topic1\", \"Topic1\", \"Topic2\", \"Topic2\", \"Topic2\", \"Topic2\", \"Topic2\", \"Topic2\", \"Topic2\", \"Topic2\", \"Topic2\", \"Topic2\", \"Topic2\", \"Topic2\", \"Topic2\", \"Topic2\", \"Topic2\", \"Topic2\", \"Topic2\", \"Topic2\", \"Topic2\", \"Topic2\", \"Topic2\", \"Topic2\", \"Topic2\", \"Topic2\", \"Topic2\", \"Topic2\", \"Topic2\", \"Topic2\", \"Topic2\", \"Topic2\", \"Topic2\", \"Topic2\", \"Topic2\", \"Topic2\", \"Topic2\", \"Topic2\", \"Topic2\", \"Topic2\", \"Topic2\", \"Topic2\", \"Topic2\", \"Topic2\", \"Topic2\", \"Topic2\", \"Topic2\", \"Topic2\", \"Topic2\", \"Topic2\", \"Topic2\", \"Topic2\", \"Topic2\", \"Topic2\", \"Topic2\", \"Topic2\", \"Topic2\", \"Topic2\", \"Topic2\", \"Topic2\", \"Topic2\", \"Topic2\", \"Topic2\", \"Topic2\", \"Topic2\", \"Topic2\", \"Topic2\", \"Topic2\", \"Topic2\", \"Topic2\", \"Topic2\", \"Topic2\", \"Topic2\", \"Topic2\", \"Topic2\", \"Topic2\", \"Topic2\", \"Topic2\", \"Topic2\", \"Topic2\", \"Topic2\", \"Topic2\", \"Topic2\", \"Topic2\", \"Topic2\", \"Topic2\", \"Topic2\", \"Topic2\", \"Topic2\", \"Topic2\", \"Topic2\", \"Topic3\", \"Topic3\", \"Topic3\", \"Topic3\", \"Topic3\", \"Topic3\", \"Topic3\", \"Topic3\", \"Topic3\", \"Topic3\", \"Topic3\", \"Topic3\", \"Topic3\", \"Topic3\", \"Topic3\", \"Topic3\", \"Topic3\", \"Topic3\", \"Topic3\", \"Topic3\", \"Topic3\", \"Topic3\", \"Topic3\", \"Topic3\", \"Topic3\", \"Topic3\", \"Topic3\", \"Topic3\", \"Topic3\", \"Topic3\", \"Topic3\", \"Topic3\", \"Topic3\", \"Topic3\", \"Topic3\", \"Topic3\", \"Topic3\", \"Topic3\", \"Topic3\", \"Topic3\", \"Topic3\", \"Topic3\", \"Topic3\", \"Topic3\", \"Topic3\", \"Topic3\", \"Topic3\", \"Topic3\", \"Topic3\", \"Topic3\", \"Topic3\", \"Topic3\", \"Topic3\", \"Topic3\", \"Topic3\", \"Topic3\", \"Topic3\", \"Topic3\", \"Topic3\", \"Topic3\", \"Topic3\", \"Topic3\", \"Topic4\", \"Topic4\", \"Topic4\", \"Topic4\", \"Topic4\", \"Topic4\", \"Topic4\", \"Topic4\", \"Topic4\", \"Topic4\", \"Topic4\", \"Topic4\", \"Topic4\", \"Topic4\", \"Topic4\", \"Topic4\", \"Topic4\", \"Topic4\", \"Topic4\", \"Topic4\", \"Topic4\", \"Topic4\", \"Topic4\", \"Topic4\", \"Topic4\", \"Topic4\", \"Topic4\", \"Topic4\", \"Topic4\", \"Topic4\", \"Topic4\", \"Topic4\", \"Topic4\", \"Topic4\", \"Topic4\", \"Topic4\", \"Topic4\", \"Topic4\", \"Topic4\", \"Topic4\", \"Topic4\", \"Topic4\", \"Topic4\", \"Topic4\", \"Topic4\", \"Topic4\", \"Topic4\", \"Topic4\", \"Topic4\", \"Topic4\", \"Topic4\", \"Topic4\", \"Topic4\", \"Topic4\", \"Topic4\", \"Topic4\", \"Topic4\", \"Topic4\", \"Topic4\", \"Topic4\", \"Topic4\", \"Topic4\", \"Topic4\", \"Topic4\", \"Topic4\", \"Topic4\", \"Topic4\", \"Topic4\", \"Topic4\", \"Topic4\", \"Topic4\", \"Topic4\", \"Topic4\", \"Topic5\", \"Topic5\", \"Topic5\", \"Topic5\", \"Topic5\", \"Topic5\", \"Topic5\", \"Topic5\", \"Topic5\", \"Topic5\", \"Topic5\", \"Topic5\", \"Topic5\", \"Topic5\", \"Topic5\", \"Topic5\", \"Topic5\", \"Topic5\", \"Topic5\", \"Topic5\", \"Topic5\", \"Topic5\", \"Topic5\", \"Topic5\", \"Topic5\", \"Topic5\", \"Topic5\", \"Topic5\", \"Topic5\", \"Topic5\", \"Topic5\", \"Topic5\", \"Topic5\", \"Topic5\", \"Topic5\", \"Topic5\", \"Topic5\", \"Topic5\", \"Topic5\", \"Topic5\", \"Topic5\", \"Topic5\", \"Topic5\", \"Topic5\", \"Topic5\", \"Topic5\", \"Topic5\", \"Topic5\", \"Topic5\", \"Topic5\", \"Topic5\", \"Topic5\", \"Topic5\", \"Topic5\", \"Topic5\", \"Topic5\", \"Topic5\", \"Topic5\", \"Topic5\", \"Topic5\", \"Topic5\", \"Topic5\", \"Topic5\", \"Topic5\", \"Topic5\", \"Topic5\", \"Topic6\", \"Topic6\", \"Topic6\", \"Topic6\", \"Topic6\", \"Topic6\", \"Topic6\", \"Topic6\", \"Topic6\", \"Topic6\", \"Topic6\", \"Topic6\", \"Topic6\", \"Topic6\", \"Topic6\", \"Topic6\", \"Topic6\", \"Topic6\", \"Topic6\", \"Topic6\", \"Topic6\", \"Topic6\", \"Topic6\", \"Topic6\", \"Topic6\", \"Topic6\", \"Topic6\", \"Topic6\", \"Topic6\", \"Topic6\", \"Topic6\", \"Topic6\", \"Topic6\", \"Topic6\", \"Topic6\", \"Topic6\", \"Topic6\", \"Topic6\", \"Topic6\", \"Topic6\", \"Topic6\", \"Topic6\", \"Topic6\", \"Topic6\", \"Topic6\", \"Topic6\", \"Topic6\", \"Topic6\", \"Topic6\", \"Topic6\", \"Topic6\", \"Topic6\", \"Topic6\", \"Topic6\", \"Topic6\", \"Topic6\", \"Topic6\", \"Topic6\", \"Topic6\", \"Topic6\", \"Topic6\", \"Topic6\", \"Topic6\", \"Topic6\", \"Topic6\", \"Topic6\", \"Topic6\", \"Topic6\", \"Topic6\", \"Topic6\", \"Topic6\", \"Topic6\", \"Topic6\", \"Topic6\", \"Topic6\", \"Topic6\", \"Topic6\", \"Topic7\", \"Topic7\", \"Topic7\", \"Topic7\", \"Topic7\", \"Topic7\", \"Topic7\", \"Topic7\", \"Topic7\", \"Topic7\", \"Topic7\", \"Topic7\", \"Topic7\", \"Topic7\", \"Topic7\", \"Topic7\", \"Topic7\", \"Topic7\", \"Topic7\", \"Topic7\", \"Topic7\", \"Topic7\", \"Topic7\", \"Topic7\", \"Topic7\", \"Topic7\", \"Topic7\", \"Topic7\", \"Topic7\", \"Topic7\", \"Topic7\", \"Topic7\", \"Topic7\", \"Topic7\", \"Topic7\", \"Topic7\", \"Topic7\", \"Topic7\", \"Topic7\", \"Topic7\", \"Topic7\", \"Topic7\", \"Topic7\", \"Topic7\", \"Topic7\", \"Topic7\", \"Topic7\", \"Topic7\", \"Topic7\", \"Topic7\", \"Topic7\", \"Topic7\", \"Topic7\", \"Topic7\", \"Topic7\", \"Topic7\", \"Topic7\", \"Topic7\", \"Topic7\", \"Topic7\", \"Topic7\", \"Topic7\", \"Topic7\", \"Topic7\", \"Topic7\", \"Topic7\", \"Topic7\", \"Topic7\", \"Topic7\", \"Topic7\", \"Topic7\", \"Topic7\", \"Topic7\", \"Topic7\", \"Topic7\", \"Topic7\", \"Topic8\", \"Topic8\", \"Topic8\", \"Topic8\", \"Topic8\", \"Topic8\", \"Topic8\", \"Topic8\", \"Topic8\", \"Topic8\", \"Topic8\", \"Topic8\", \"Topic8\", \"Topic8\", \"Topic8\", \"Topic8\", \"Topic8\", \"Topic8\", \"Topic8\", \"Topic8\", \"Topic8\", \"Topic8\", \"Topic8\", \"Topic8\", \"Topic8\", \"Topic8\", \"Topic8\", \"Topic8\", \"Topic8\", \"Topic8\", \"Topic8\", \"Topic8\", \"Topic8\", \"Topic8\", \"Topic8\", \"Topic8\", \"Topic8\", \"Topic8\", \"Topic8\", \"Topic8\", \"Topic8\", \"Topic8\", \"Topic8\", \"Topic8\", \"Topic8\", \"Topic8\", \"Topic8\", \"Topic8\", \"Topic8\", \"Topic8\", \"Topic8\", \"Topic8\", \"Topic8\", \"Topic8\", \"Topic8\", \"Topic8\", \"Topic8\", \"Topic8\", \"Topic8\", \"Topic8\", \"Topic8\", \"Topic8\", \"Topic8\", \"Topic8\", \"Topic8\", \"Topic8\", \"Topic8\", \"Topic8\", \"Topic8\", \"Topic8\", \"Topic8\", \"Topic8\", \"Topic9\", \"Topic9\", \"Topic9\", \"Topic9\", \"Topic9\", \"Topic9\", \"Topic9\", \"Topic9\", \"Topic9\", \"Topic9\", \"Topic9\", \"Topic9\", \"Topic9\", \"Topic9\", \"Topic9\", \"Topic9\", \"Topic9\", \"Topic9\", \"Topic9\", \"Topic9\", \"Topic9\", \"Topic9\", \"Topic9\", \"Topic9\", \"Topic9\", \"Topic9\", \"Topic9\", \"Topic9\", \"Topic9\", \"Topic9\", \"Topic9\", \"Topic9\", \"Topic9\", \"Topic9\", \"Topic9\", \"Topic9\", \"Topic9\", \"Topic9\", \"Topic9\", \"Topic9\", \"Topic9\", \"Topic9\", \"Topic9\", \"Topic9\", \"Topic9\", \"Topic9\", \"Topic9\", \"Topic9\", \"Topic9\", \"Topic9\", \"Topic9\", \"Topic9\", \"Topic9\", \"Topic9\", \"Topic9\", \"Topic9\", \"Topic9\", \"Topic9\", \"Topic9\", \"Topic9\", \"Topic9\", \"Topic9\", \"Topic9\", \"Topic9\", \"Topic9\", \"Topic9\", \"Topic9\", \"Topic9\", \"Topic9\", \"Topic9\", \"Topic9\", \"Topic10\", \"Topic10\", \"Topic10\", \"Topic10\", \"Topic10\", \"Topic10\", \"Topic10\", \"Topic10\", \"Topic10\", \"Topic10\", \"Topic10\", \"Topic10\", \"Topic10\", \"Topic10\", \"Topic10\", \"Topic10\", \"Topic10\", \"Topic10\", \"Topic10\", \"Topic10\", \"Topic10\", \"Topic10\", \"Topic10\", \"Topic10\", \"Topic10\", \"Topic10\", \"Topic10\", \"Topic10\", \"Topic10\", \"Topic10\", \"Topic10\", \"Topic10\", \"Topic10\", \"Topic10\", \"Topic10\", \"Topic10\", \"Topic10\", \"Topic10\", \"Topic10\", \"Topic10\", \"Topic10\", \"Topic10\", \"Topic10\", \"Topic10\", \"Topic10\", \"Topic10\", \"Topic10\", \"Topic10\", \"Topic10\", \"Topic10\", \"Topic10\", \"Topic10\", \"Topic10\", \"Topic10\", \"Topic10\", \"Topic10\", \"Topic10\", \"Topic10\", \"Topic10\", \"Topic10\", \"Topic10\", \"Topic10\", \"Topic10\", \"Topic10\", \"Topic10\", \"Topic10\", \"Topic10\", \"Topic10\", \"Topic10\", \"Topic10\", \"Topic10\", \"Topic11\", \"Topic11\", \"Topic11\", \"Topic11\", \"Topic11\", \"Topic11\", \"Topic11\", \"Topic11\", \"Topic11\", \"Topic11\", \"Topic11\", \"Topic11\", \"Topic11\", \"Topic11\", \"Topic11\", \"Topic11\", \"Topic11\", \"Topic11\", \"Topic11\", \"Topic11\", \"Topic11\", \"Topic11\", \"Topic11\", \"Topic11\", \"Topic11\", \"Topic11\", \"Topic11\", \"Topic11\", \"Topic11\", \"Topic11\", \"Topic11\", \"Topic11\", \"Topic11\", \"Topic11\", \"Topic11\", \"Topic11\", \"Topic11\", \"Topic11\", \"Topic11\", \"Topic11\", \"Topic11\", \"Topic11\", \"Topic11\", \"Topic11\", \"Topic11\", \"Topic11\", \"Topic11\", \"Topic11\", \"Topic11\", \"Topic11\", \"Topic11\", \"Topic11\", \"Topic11\", \"Topic11\", \"Topic11\", \"Topic11\", \"Topic11\", \"Topic11\", \"Topic11\", \"Topic11\", \"Topic11\", \"Topic11\", \"Topic11\", \"Topic11\", \"Topic11\", \"Topic11\", \"Topic11\", \"Topic11\", \"Topic12\", \"Topic12\", \"Topic12\", \"Topic12\", \"Topic12\", \"Topic12\", \"Topic12\", \"Topic12\", \"Topic12\", \"Topic12\", \"Topic12\", \"Topic12\", \"Topic12\", \"Topic12\", \"Topic12\", \"Topic12\", \"Topic12\", \"Topic12\", \"Topic12\", \"Topic12\", \"Topic12\", \"Topic12\", \"Topic12\", \"Topic12\", \"Topic12\", \"Topic12\", \"Topic12\", \"Topic12\", \"Topic12\", \"Topic12\", \"Topic12\", \"Topic12\", \"Topic12\", \"Topic12\", \"Topic12\", \"Topic12\", \"Topic12\", \"Topic12\", \"Topic12\", \"Topic12\", \"Topic12\", \"Topic12\", \"Topic12\", \"Topic12\", \"Topic12\", \"Topic12\", \"Topic12\", \"Topic12\", \"Topic12\", \"Topic12\", \"Topic12\", \"Topic12\", \"Topic12\", \"Topic12\", \"Topic12\", \"Topic12\", \"Topic12\", \"Topic12\", \"Topic12\", \"Topic12\", \"Topic12\", \"Topic12\", \"Topic12\", \"Topic12\", \"Topic12\", \"Topic12\", \"Topic12\", \"Topic12\", \"Topic12\", \"Topic12\", \"Topic12\", \"Topic12\", \"Topic12\", \"Topic12\", \"Topic12\", \"Topic12\", \"Topic12\", \"Topic13\", \"Topic13\", \"Topic13\", \"Topic13\", \"Topic13\", \"Topic13\", \"Topic13\", \"Topic13\", \"Topic13\", \"Topic13\", \"Topic13\", \"Topic13\", \"Topic13\", \"Topic13\", \"Topic13\", \"Topic13\", \"Topic13\", \"Topic13\", \"Topic13\", \"Topic13\", \"Topic13\", \"Topic13\", \"Topic13\", \"Topic13\", \"Topic13\", \"Topic13\", \"Topic13\", \"Topic13\", \"Topic13\", \"Topic13\", \"Topic13\", \"Topic13\", \"Topic13\", \"Topic13\", \"Topic13\", \"Topic13\", \"Topic13\", \"Topic13\", \"Topic13\", \"Topic13\", \"Topic13\", \"Topic13\", \"Topic13\", \"Topic13\", \"Topic13\", \"Topic13\", \"Topic13\", \"Topic13\", \"Topic13\", \"Topic13\", \"Topic13\", \"Topic13\", \"Topic13\", \"Topic13\", \"Topic13\", \"Topic13\", \"Topic13\", \"Topic13\", \"Topic13\", \"Topic13\", \"Topic13\", \"Topic13\", \"Topic13\", \"Topic13\", \"Topic13\", \"Topic13\", \"Topic13\", \"Topic13\", \"Topic14\", \"Topic14\", \"Topic14\", \"Topic14\", \"Topic14\", \"Topic14\", \"Topic14\", \"Topic14\", \"Topic14\", \"Topic14\", \"Topic14\", \"Topic14\", \"Topic14\", \"Topic14\", \"Topic14\", \"Topic14\", \"Topic14\", \"Topic14\", \"Topic14\", \"Topic14\", \"Topic14\", \"Topic14\", \"Topic14\", \"Topic14\", \"Topic14\", \"Topic14\", \"Topic14\", \"Topic14\", \"Topic14\", \"Topic14\", \"Topic14\", \"Topic14\", \"Topic14\", \"Topic14\", \"Topic14\", \"Topic14\", \"Topic14\", \"Topic14\", \"Topic14\", \"Topic14\", \"Topic14\", \"Topic14\", \"Topic14\", \"Topic14\", \"Topic14\", \"Topic14\", \"Topic14\", \"Topic14\", \"Topic14\", \"Topic14\", \"Topic14\", \"Topic14\", \"Topic14\", \"Topic14\", \"Topic14\", \"Topic14\", \"Topic14\", \"Topic14\", \"Topic14\", \"Topic14\", \"Topic14\", \"Topic14\", \"Topic14\", \"Topic14\", \"Topic14\", \"Topic14\", \"Topic14\", \"Topic14\", \"Topic15\", \"Topic15\", \"Topic15\", \"Topic15\", \"Topic15\", \"Topic15\", \"Topic15\", \"Topic15\", \"Topic15\", \"Topic15\", \"Topic15\", \"Topic15\", \"Topic15\", \"Topic15\", \"Topic15\", \"Topic15\", \"Topic15\", \"Topic15\", \"Topic15\", \"Topic15\", \"Topic15\", \"Topic15\", \"Topic15\", \"Topic15\", \"Topic15\", \"Topic15\", \"Topic15\", \"Topic15\", \"Topic15\", \"Topic15\", \"Topic15\", \"Topic15\", \"Topic15\", \"Topic15\", \"Topic15\", \"Topic15\", \"Topic15\", \"Topic15\", \"Topic15\", \"Topic15\", \"Topic15\", \"Topic15\", \"Topic15\", \"Topic15\", \"Topic15\", \"Topic15\", \"Topic15\", \"Topic15\", \"Topic15\", \"Topic15\", \"Topic15\", \"Topic15\", \"Topic15\", \"Topic15\", \"Topic15\", \"Topic15\", \"Topic15\", \"Topic15\", \"Topic15\", \"Topic15\", \"Topic15\", \"Topic15\", \"Topic15\", \"Topic15\", \"Topic15\", \"Topic15\", \"Topic15\", \"Topic15\", \"Topic15\", \"Topic15\", \"Topic15\", \"Topic15\", \"Topic15\"], \"Freq\": [836.0, 1711.0, 931.0, 1535.0, 1318.0, 1312.0, 657.0, 596.0, 1349.0, 776.0, 1437.0, 357.0, 672.0, 1136.0, 920.0, 510.0, 361.0, 424.0, 614.0, 370.0, 1315.0, 695.0, 576.0, 934.0, 427.0, 1058.0, 587.0, 622.0, 272.0, 753.0, 28.87479591369629, 28.86372184753418, 31.619522094726562, 19.921337127685547, 85.88294219970703, 22.756349563598633, 19.747182846069336, 53.23922348022461, 16.76158905029297, 13.934175491333008, 13.885059356689453, 11.913833618164062, 23.00533676147461, 121.43524932861328, 10.915315628051758, 9.995414733886719, 119.31403350830078, 93.31680297851562, 9.843914985656738, 50.0339241027832, 11.555623054504395, 68.38753509521484, 29.48924446105957, 39.24599075317383, 10.613788604736328, 13.228960037231445, 9.691583633422852, 7.9059319496154785, 6.993535995483398, 6.984938621520996, 314.42608642578125, 15.893112182617188, 11.391834259033203, 81.94639587402344, 35.71506118774414, 110.6943588256836, 21.13673973083496, 128.48648071289062, 48.984195709228516, 39.685543060302734, 50.72110366821289, 22.79052734375, 99.9764404296875, 51.71771240234375, 22.50383758544922, 108.03900146484375, 44.207908630371094, 465.26593017578125, 217.23641967773438, 100.46727752685547, 230.08438110351562, 113.8192138671875, 298.7677917480469, 206.94676208496094, 166.63479614257812, 99.56614685058594, 140.88607788085938, 101.53738403320312, 221.28953552246094, 82.0494613647461, 206.29905700683594, 141.18417358398438, 358.7530212402344, 194.85699462890625, 193.3519744873047, 225.75704956054688, 314.3824768066406, 209.39102172851562, 181.34376525878906, 246.1472930908203, 226.52952575683594, 212.4102020263672, 246.99990844726562, 206.1111602783203, 172.89193725585938, 187.51519775390625, 223.66781616210938, 175.44326782226562, 207.56031799316406, 182.74705505371094, 188.0804901123047, 146.02674865722656, 150.01966857910156, 146.045654296875, 36.877986907958984, 9.952468872070312, 8.998358726501465, 8.984991073608398, 13.351480484008789, 7.933121681213379, 9.698038101196289, 10.506303787231445, 6.9861016273498535, 7.829034328460693, 6.940524578094482, 7.832882881164551, 6.930733680725098, 13.892717361450195, 6.021336078643799, 11.184940338134766, 6.009195327758789, 6.00950288772583, 6.842508792877197, 5.987027168273926, 10.313977241516113, 5.907576084136963, 5.907083988189697, 8.493532180786133, 9.324697494506836, 5.022125244140625, 5.838102340698242, 4.986374378204346, 4.98682975769043, 5.8304853439331055, 53.48796463012695, 30.164567947387695, 41.02711868286133, 181.97512817382812, 17.6066837310791, 279.8028259277344, 131.6879425048828, 116.3021011352539, 77.81852722167969, 53.60698318481445, 60.12784957885742, 27.095590591430664, 165.8260955810547, 95.27009582519531, 14.220632553100586, 66.94180297851562, 56.74809265136719, 31.46157455444336, 129.9302215576172, 34.91273880004883, 37.32008743286133, 49.4189567565918, 25.094202041625977, 47.99907302856445, 44.94524383544922, 123.73092651367188, 62.56022644042969, 111.69908142089844, 62.75861740112305, 44.5054931640625, 62.339054107666016, 155.9042205810547, 208.54666137695312, 201.8895263671875, 408.6179504394531, 138.49282836914062, 81.27493286132812, 176.14309692382812, 95.76323699951172, 238.5341033935547, 154.7235870361328, 253.89212036132812, 150.30699157714844, 106.44287872314453, 220.4073486328125, 189.6090850830078, 131.07852172851562, 207.16761779785156, 130.7161407470703, 156.77951049804688, 167.5943145751953, 147.31764221191406, 132.30831909179688, 170.55552673339844, 135.43350219726562, 163.8816375732422, 130.49375915527344, 133.59803771972656, 128.45240783691406, 29.71370506286621, 207.46096801757812, 359.26861572265625, 18.464841842651367, 82.91450500488281, 30.098024368286133, 400.1011047363281, 34.54951858520508, 12.654841423034668, 45.628273010253906, 15.216459274291992, 12.494524955749512, 9.768315315246582, 766.2987670898438, 32.578155517578125, 61.628665924072266, 55.26740264892578, 11.3976411819458, 7.836359024047852, 43.31947708129883, 456.23699951171875, 74.9946060180664, 137.71661376953125, 7.723223686218262, 50.88843536376953, 325.7325134277344, 5.902982234954834, 262.4083557128906, 5.761038780212402, 11.60011100769043, 125.9037094116211, 198.95957946777344, 64.93411254882812, 98.36492156982422, 40.83967971801758, 60.65955352783203, 182.07913208007812, 81.39010620117188, 405.3373107910156, 197.4810791015625, 84.35814666748047, 595.75146484375, 396.6836853027344, 233.35243225097656, 220.3171844482422, 261.5610046386719, 361.99432373046875, 322.8568115234375, 191.6316375732422, 284.79315185546875, 155.40960693359375, 306.5577087402344, 165.92889404296875, 217.05685424804688, 212.81394958496094, 212.87887573242188, 218.1258087158203, 198.44813537597656, 171.5134735107422, 171.5689697265625, 177.6673126220703, 182.73651123046875, 214.5320281982422, 26.76106071472168, 18.032867431640625, 16.069028854370117, 12.161140441894531, 84.3340072631836, 10.177350997924805, 215.84664916992188, 526.15234375, 10.980252265930176, 10.960928916931152, 132.39459228515625, 8.957452774047852, 8.048138618469238, 7.123300075531006, 70.63896942138672, 6.143022537231445, 13.155487060546875, 6.05910587310791, 6.045784950256348, 6.0424580574035645, 23.6861515045166, 90.5672378540039, 26.88494873046875, 17.291301727294922, 5.098557949066162, 32.05637741088867, 5.005826473236084, 11.052081108093262, 4.906576633453369, 568.3939819335938, 201.85238647460938, 43.31956100463867, 28.69132423400879, 59.66035842895508, 193.32862854003906, 347.9992980957031, 82.41297149658203, 283.2588195800781, 66.84260559082031, 138.8079376220703, 113.46954345703125, 64.23653411865234, 38.56561279296875, 58.08818435668945, 44.22520446777344, 95.92304992675781, 183.02752685546875, 127.6196060180664, 225.52337646484375, 273.73309326171875, 133.29945373535156, 184.41444396972656, 165.71051025390625, 87.00250244140625, 76.0716552734375, 135.35545349121094, 189.1617889404297, 110.9291763305664, 208.8786163330078, 134.9300537109375, 134.50332641601562, 198.27154541015625, 139.66018676757812, 190.83358764648438, 137.15350341796875, 133.17593383789062, 163.00160217285156, 143.60472106933594, 142.02420043945312, 140.5977020263672, 137.60560607910156, 134.7529754638672, 302.0013122558594, 71.9604263305664, 35.22016525268555, 67.19416809082031, 14.067891120910645, 394.2724304199219, 301.10296630859375, 34.06658172607422, 53.18611145019531, 13.510746955871582, 174.15672302246094, 28.06212615966797, 5.033229827880859, 35.6324462890625, 27.961036682128906, 9.22674560546875, 9.98032283782959, 13.684346199035645, 8.058582305908203, 72.6031265258789, 524.7821655273438, 78.33494567871094, 7.784036636352539, 7.615133285522461, 141.4114532470703, 30.878494262695312, 11.064021110534668, 4.964015007019043, 6.01309871673584, 6.318767547607422, 38.241905212402344, 117.59994506835938, 86.31986236572266, 59.4984016418457, 17.965545654296875, 18.456876754760742, 25.72787094116211, 17.961502075195312, 37.41008758544922, 295.3711853027344, 55.02985382080078, 65.04824829101562, 73.92813110351562, 320.2083435058594, 119.73754119873047, 158.67190551757812, 70.23153686523438, 151.42408752441406, 217.12908935546875, 227.2589569091797, 158.60964965820312, 125.59278869628906, 116.05931091308594, 105.97444152832031, 141.97605895996094, 123.15389251708984, 93.09642791748047, 152.8643035888672, 123.57655334472656, 124.0239486694336, 108.4139633178711, 135.6725616455078, 133.43194580078125, 114.44310760498047, 99.07923126220703, 93.31906127929688, 4.829157829284668, 4.695353031158447, 4.659263610839844, 17.362537384033203, 11.544305801391602, 5.926800727844238, 5.236161708831787, 6.657916069030762, 4.3115129470825195, 8.535810470581055, 8.311670303344727, 6.948737144470215, 4.75140905380249, 14.907222747802734, 16.159399032592773, 4.729914665222168, 12.879934310913086, 9.20523738861084, 4.660838603973389, 3.958650588989258, 3.94731068611145, 4.476042747497559, 3.822258949279785, 3.85616135597229, 7.655846118927002, 3.513422966003418, 6.863999843597412, 10.69427490234375, 4.849882125854492, 7.229137897491455, 14.614889144897461, 9.752813339233398, 11.299506187438965, 87.6128158569336, 5.884902000427246, 72.34371948242188, 19.8763427734375, 10.017589569091797, 68.32194519042969, 126.4056396484375, 109.10179901123047, 46.80696487426758, 128.19630432128906, 46.80071258544922, 96.60240173339844, 24.89934730529785, 33.529659271240234, 112.43753814697266, 13.91186809539795, 135.12191772460938, 27.876785278320312, 96.51973724365234, 32.119712829589844, 116.20389556884766, 72.48532104492188, 101.20771789550781, 72.8747787475586, 96.2177963256836, 53.67687225341797, 92.57032775878906, 72.24791717529297, 73.48932647705078, 59.48422622680664, 94.73526763916016, 58.28477478027344, 40.09890365600586, 47.471099853515625, 54.427974700927734, 60.00138854980469, 42.79178237915039, 48.49924850463867, 62.021297454833984, 49.14670181274414, 52.403648376464844, 59.91680145263672, 55.467464447021484, 49.80134963989258, 18.274463653564453, 3.851372480392456, 15.945481300354004, 14.443788528442383, 3.4840495586395264, 11.439016342163086, 5.034364700317383, 5.5192036628723145, 21.46147346496582, 3.6328415870666504, 4.7415690422058105, 5.263656139373779, 5.253225803375244, 5.156213283538818, 15.810791969299316, 3.875701904296875, 3.3510239124298096, 4.308724880218506, 15.371676445007324, 2.6541364192962646, 14.964778900146484, 2.6598446369171143, 7.133915424346924, 3.500157356262207, 2.560636043548584, 2.674135208129883, 3.4965896606445312, 3.5271029472351074, 3.0888490676879883, 2.6278040409088135, 4.4014668464660645, 14.783856391906738, 10.254589080810547, 26.271404266357422, 32.776390075683594, 42.77278518676758, 5.998920440673828, 15.455244064331055, 15.191180229187012, 14.207180976867676, 94.20304870605469, 15.154763221740723, 19.470298767089844, 21.346744537353516, 39.35036087036133, 28.862010955810547, 27.43165397644043, 26.130144119262695, 35.62973403930664, 9.527889251708984, 22.380720138549805, 10.564311981201172, 9.308161735534668, 69.66516876220703, 17.52842903137207, 72.95073699951172, 12.603838920593262, 35.415794372558594, 44.012359619140625, 28.22786521911621, 41.92146682739258, 31.302644729614258, 39.58149337768555, 35.83338165283203, 25.253978729248047, 25.399654388427734, 31.071733474731445, 28.66234016418457, 28.5634708404541, 29.76286506652832, 31.79996109008789, 29.410676956176758, 26.843368530273438, 25.777517318725586, 24.51093864440918, 24.454565048217773, 11.950263977050781, 4.193746566772461, 4.52527379989624, 3.4210665225982666, 3.4501802921295166, 3.183398723602295, 56.86252975463867, 3.1749134063720703, 2.6315548419952393, 3.2126758098602295, 3.126115560531616, 4.300112247467041, 2.4507031440734863, 4.882699012756348, 2.581899881362915, 3.155688524246216, 5.8116631507873535, 6.100431442260742, 2.6033294200897217, 3.3368582725524902, 2.6501801013946533, 2.6358072757720947, 2.599475145339966, 2.605508327484131, 2.573167085647583, 2.097858190536499, 3.8212029933929443, 4.561812877655029, 3.4495432376861572, 2.39372181892395, 8.581486701965332, 8.52731704711914, 28.453046798706055, 21.186765670776367, 5.033268451690674, 19.338794708251953, 10.352554321289062, 5.4590678215026855, 9.62884521484375, 13.638717651367188, 22.595884323120117, 7.768845081329346, 14.919083595275879, 5.730329513549805, 11.432770729064941, 12.951807975769043, 14.970728874206543, 19.391281127929688, 20.92388343811035, 35.54975509643555, 24.369861602783203, 35.23917007446289, 7.861047267913818, 29.45339012145996, 12.399209976196289, 31.8172607421875, 17.941394805908203, 18.6431941986084, 20.94736099243164, 26.180580139160156, 19.949905395507812, 18.931598663330078, 19.93801498413086, 21.12055015563965, 20.17583656311035, 16.086637496948242, 17.7951602935791, 16.82469367980957, 15.961670875549316, 14.940886497497559, 14.895539283752441, 14.768098831176758, 7.152083396911621, 6.106016635894775, 2.637932777404785, 2.6506845951080322, 53.98014450073242, 2.646327018737793, 3.5193541049957275, 6.134208679199219, 3.497614860534668, 2.641441822052002, 3.4779858589172363, 2.5812013149261475, 2.0380685329437256, 2.5930097103118896, 2.3585727214813232, 2.6863696575164795, 2.1702356338500977, 17.740779876708984, 1.812307357788086, 1.8055177927017212, 1.7348637580871582, 1.8063719272613525, 1.755230188369751, 1.812654972076416, 1.756453037261963, 1.8001806735992432, 2.5739729404449463, 2.5875728130340576, 4.628414630889893, 1.6608017683029175, 1.7304449081420898, 34.91145324707031, 26.251928329467773, 4.016742706298828, 42.14154052734375, 11.496329307556152, 4.380349159240723, 10.966249465942383, 18.570146560668945, 29.836406707763672, 5.001655101776123, 10.235907554626465, 13.706335067749023, 9.932588577270508, 6.152847766876221, 7.942103385925293, 3.993119478225708, 11.133601188659668, 32.34263610839844, 16.70928192138672, 20.386831283569336, 17.0709171295166, 17.941431045532227, 9.170465469360352, 18.620330810546875, 12.377305030822754, 13.003220558166504, 14.66983699798584, 9.857722282409668, 16.875019073486328, 16.739185333251953, 12.335822105407715, 12.788869857788086, 15.045095443725586, 14.402117729187012, 15.546318054199219, 12.679033279418945, 12.59274959564209, 11.97175121307373, 11.534992218017578, 11.532227516174316, 14.444537162780762, 6.7777533531188965, 3.9683616161346436, 3.1934540271759033, 2.9970703125, 2.253628730773926, 2.166468381881714, 3.1069319248199463, 2.373675584793091, 1.6220054626464844, 3.4052586555480957, 2.622498035430908, 1.6235461235046387, 1.581965446472168, 1.6177153587341309, 3.139904499053955, 1.6130166053771973, 3.4907586574554443, 3.720918893814087, 4.454108715057373, 2.0324695110321045, 1.7911075353622437, 1.4362146854400635, 2.251730442047119, 2.2068729400634766, 1.3807108402252197, 1.6265711784362793, 1.6238962411880493, 1.6488438844680786, 4.088551998138428, 3.0005900859832764, 2.590695381164551, 7.219664573669434, 4.448136329650879, 5.417783737182617, 9.261007308959961, 29.1083927154541, 8.223286628723145, 8.980557441711426, 7.792842864990234, 31.771177291870117, 40.4313850402832, 36.21905517578125, 19.484708786010742, 34.163177490234375, 21.447513580322266, 11.28425121307373, 35.91696548461914, 25.561546325683594, 12.414347648620605, 31.94343376159668, 9.713473320007324, 12.467072486877441, 22.947994232177734, 23.3433895111084, 6.732666969299316, 15.908782005310059, 15.317028999328613, 14.075644493103027, 11.24724292755127, 13.877467155456543, 18.93441390991211, 10.448616981506348, 12.709783554077148, 14.347962379455566, 14.443129539489746, 13.380873680114746, 11.968791961669922, 12.3934965133667, 11.056233406066895, 11.069901466369629, 4.868810176849365, 2.3739004135131836, 2.3807554244995117, 3.9523518085479736, 3.958765745162964, 5.079875946044922, 3.154860019683838, 2.3911445140838623, 10.98090648651123, 2.385964870452881, 2.3615312576293945, 2.3423240184783936, 2.263615369796753, 2.465512752532959, 7.710032939910889, 2.00555419921875, 1.5753674507141113, 2.220768690109253, 3.8579764366149902, 11.000313758850098, 2.3865904808044434, 1.5966861248016357, 1.5698248147964478, 2.0978429317474365, 3.702450752258301, 4.193909168243408, 1.9092093706130981, 1.6200692653656006, 1.612088918685913, 1.5745586156845093, 4.366474151611328, 4.629543304443359, 2.992560863494873, 5.292392253875732, 2.9568004608154297, 3.066645383834839, 11.293181419372559, 18.48560905456543, 11.055376052856445, 11.156453132629395, 30.246089935302734, 10.612283706665039, 13.57229995727539, 21.45733070373535, 13.456805229187012, 22.29398536682129, 14.24575424194336, 11.133508682250977, 7.7766337394714355, 22.381364822387695, 12.880586624145508, 11.721785545349121, 18.087894439697266, 12.721810340881348, 14.763245582580566, 17.803049087524414, 12.277082443237305, 16.073265075683594, 13.508940696716309, 12.242920875549316, 13.204023361206055, 13.486555099487305, 12.792128562927246, 9.866944313049316, 10.150623321533203, 11.457719802856445, 10.527473449707031, 11.032979011535645, 5.652376174926758, 2.309415102005005, 1.5439698696136475, 2.4989757537841797, 1.5714657306671143, 1.538528323173523, 1.477225422859192, 1.569826602935791, 1.5685492753982544, 1.5627926588058472, 1.5700280666351318, 2.2893576622009277, 1.4961397647857666, 2.328274726867676, 1.5708556175231934, 9.206951141357422, 1.5230894088745117, 0.811120867729187, 0.8100194334983826, 0.8187781572341919, 1.599695086479187, 0.8100025057792664, 1.5731521844863892, 0.8098281621932983, 0.8147257566452026, 0.8007964491844177, 0.8128092885017395, 0.80987548828125, 0.8108592629432678, 0.8045120239257812, 2.9317874908447266, 3.702805757522583, 3.102508306503296, 2.161355972290039, 10.635091781616211, 1.9172292947769165, 13.25214672088623, 3.8598830699920654, 1.5173357725143433, 1.460263729095459, 3.3014137744903564, 3.5855679512023926, 32.20162582397461, 4.5014519691467285, 9.101634979248047, 10.009178161621094, 15.391695976257324, 3.7015366554260254, 9.208109855651855, 3.810666561126709, 9.866199493408203, 13.514707565307617, 16.693880081176758, 15.563375473022461, 9.597326278686523, 10.366040229797363, 10.636073112487793, 11.999678611755371, 5.852533340454102, 9.346097946166992, 9.783982276916504, 13.624003410339355, 8.672818183898926, 9.625679016113281, 7.781260013580322, 5.499144554138184, 6.056349277496338, 10.627187728881836, 8.412338256835938, 9.338180541992188, 9.84252643585205, 8.29726505279541, 7.755007743835449, 9.08438777923584, 8.528508186340332, 8.536201477050781, 7.808942794799805, 1.4014407396316528, 2.791452646255493, 1.3669848442077637, 3.326645851135254, 2.789435625076294, 1.412287712097168, 1.4177796840667725, 1.4021929502487183, 1.400817632675171, 1.4131202697753906, 1.4106755256652832, 1.4127953052520752, 2.077695846557617, 1.4171428680419922, 1.4042850732803345, 1.3529421091079712, 1.4183439016342163, 3.041537284851074, 1.414549708366394, 1.3388644456863403, 1.2838022708892822, 1.4175866842269897, 1.316383957862854, 2.2602031230926514, 1.3842535018920898, 1.4143060445785522, 0.7292522192001343, 0.7337854504585266, 0.7183636426925659, 0.7315239906311035, 1.2885525226593018, 1.4205594062805176, 3.7580835819244385, 2.2015624046325684, 5.5353922843933105, 2.0468859672546387, 2.7988317012786865, 4.183582305908203, 4.188522815704346, 7.466931343078613, 6.84146785736084, 5.878296375274658, 3.6196184158325195, 3.1365697383880615, 2.7993319034576416, 6.746120929718018, 2.6745193004608154, 5.077849864959717, 4.76039457321167, 2.0945935249328613, 4.002837181091309, 3.616647243499756, 3.3757071495056152, 2.3203561305999756, 4.217154026031494, 4.54038667678833, 3.710606336593628, 3.20133638381958, 2.856208086013794, 3.6117100715637207, 3.4749536514282227, 3.24068284034729, 3.2314939498901367, 3.0100629329681396, 3.0981690883636475, 2.9912381172180176, 2.8939878940582275, 2.902634859085083, 1.7273895740509033, 1.2156982421875, 0.973199188709259, 1.1397994756698608, 0.6275052428245544, 0.6251446604728699, 0.6263744831085205, 0.6065743565559387, 0.5527140498161316, 0.6267824769020081, 0.6285428404808044, 0.6278783082962036, 0.6284274458885193, 1.176129698753357, 0.6283625364303589, 0.6250460743904114, 0.6273139119148254, 0.6242355108261108, 0.6238575577735901, 1.2179219722747803, 0.48471248149871826, 0.6264538764953613, 0.6271111369132996, 0.6281524896621704, 0.6245235800743103, 0.6280750036239624, 0.6275383830070496, 0.6281752586364746, 0.6249266862869263, 1.0888869762420654, 7.251555919647217, 1.567476511001587, 2.0288426876068115, 1.6584806442260742, 2.509845733642578, 3.5477066040039062, 4.76649284362793, 2.9880053997039795, 1.2214889526367188, 1.8115304708480835, 3.0633738040924072, 1.807822346687317, 2.0582501888275146, 2.2828853130340576, 1.2181941270828247, 5.246605396270752, 5.467148780822754, 2.4051859378814697, 3.0964865684509277, 3.642338514328003, 3.64851450920105, 3.525447368621826, 1.110626220703125, 5.031306743621826, 2.4719085693359375, 3.050924062728882, 2.473904848098755, 2.849756956100464, 2.8288605213165283, 2.4259870052337646, 2.32647967338562, 2.447218656539917, 2.771772861480713, 2.5678606033325195, 2.479119062423706, 2.131470203399658, 2.188859701156616, 2.0290517807006836, 1.1683018207550049, 1.009813666343689, 1.186346411705017, 1.1952123641967773, 0.9163607954978943, 0.6137499213218689, 1.7486891746520996, 0.6153122186660767, 0.6024684906005859, 0.6150215864181519, 0.6140665411949158, 0.9234046936035156, 0.6146036386489868, 0.6095010042190552, 0.6058474779129028, 0.6130691170692444, 0.6141372919082642, 0.6125345826148987, 0.613923192024231, 0.6071644425392151, 0.6043581366539001, 0.589552104473114, 1.0932751893997192, 0.5820114612579346, 0.5706477165222168, 0.5518335103988647, 0.6152614951133728, 0.6154372692108154, 0.6132423877716064, 0.5498960018157959, 1.7182084321975708, 0.8639844655990601, 1.9084872007369995, 3.38486909866333, 3.2876250743865967, 1.1659172773361206, 1.7087730169296265, 0.825840413570404, 3.157564878463745, 5.272158622741699, 1.1015909910202026, 1.8957853317260742, 1.6165539026260376, 1.1909799575805664, 2.6335549354553223, 1.194062352180481, 1.7755261659622192, 1.1624410152435303, 1.5476211309432983, 2.443948984146118, 1.6206923723220825, 1.1256989240646362, 2.3622381687164307, 2.808042526245117, 2.661410331726074, 2.3201470375061035, 2.0507895946502686, 2.3301079273223877, 1.9456180334091187, 2.8246517181396484, 2.958120107650757, 2.835700750350952, 2.7856850624084473, 2.4652185440063477, 2.355041742324829, 1.9104180335998535, 1.813296914100647, 1.8537230491638184, 1.9498497247695923, 1.8819845914840698, 1.8459135293960571, 1.8340723514556885, 1.8128557205200195], \"Term\": [\"emma\", \"little\", \"jane\", \"miss\", \"like\", \"think\", \"elizabeth\", \"sir\", \"good\", \"thing\", \"know\", \"rochester\", \"mother\", \"thought\", \"shall\", \"harriet\", \"fairfax\", \"darcy\", \"sure\", \"elton\", \"time\", \"elinor\", \"marianne\", \"long\", \"weston\", \"day\", \"dear\", \"night\", \"monsieur\", \"house\", \"eshton\", \"dent\", \"burns\", \"lynn\", \"ingram\", \"scatcherd\", \"missis\", \"brocklehurst\", \"storey\", \"stile\", \"celine\", \"varens\", \"miller\", \"bessie\", \"cheese\", \"amy\", \"reed\", \"eyre\", \"moors\", \"lowood\", \"bark\", \"temple\", \"poole\", \"gateshead\", \"dimly\", \"frock\", \"er\", \"carlo\", \"enveloped\", \"devoured\", \"rochester\", \"seacombe\", \"lloyd\", \"thornfield\", \"hannah\", \"adele\", \"pilot\", \"hall\", \"mason\", \"ve\", \"helen\", \"leah\", \"ll\", \"bread\", \"burnt\", \"black\", \"candle\", \"like\", \"face\", \"hair\", \"sir\", \"dark\", \"room\", \"door\", \"asked\", \"st\", \"stood\", \"master\", \"looked\", \"mary\", \"eyes\", \"near\", \"little\", \"heard\", \"night\", \"come\", \"miss\", \"house\", \"yes\", \"thought\", \"day\", \"shall\", \"time\", \"long\", \"hand\", \"saw\", \"good\", \"came\", \"think\", \"jane\", \"know\", \"head\", \"john\", \"went\", \"estrade\", \"grenier\", \"violets\", \"pile\", \"lid\", \"hole\", \"spectral\", \"sleeve\", \"demonstrative\", \"defendue\", \"remnant\", \"wheel\", \"nest\", \"boarders\", \"belles\", \"fifine\", \"hail\", \"platform\", \"bourne\", \"problem\", \"sternly\", \"trod\", \"naked\", \"allee\", \"fiacre\", \"actress\", \"jar\", \"sleeper\", \"appealing\", \"externes\", \"classe\", \"rosine\", \"fossette\", \"dr\", \"crecy\", \"madame\", \"paul\", \"beck\", \"emanuel\", \"rue\", \"paulina\", \"pensionnat\", \"monsieur\", \"pupils\", \"wont\", \"desk\", \"fanshawe\", \"nun\", \"graham\", \"doctor\", \"villette\", \"reuter\", \"corridor\", \"bassompierre\", \"lesson\", \"bretton\", \"est\", \"english\", \"ginevra\", \"teacher\", \"vous\", \"eye\", \"hand\", \"night\", \"little\", \"lucy\", \"garden\", \"eyes\", \"white\", \"thought\", \"knew\", \"like\", \"door\", \"light\", \"know\", \"day\", \"face\", \"good\", \"took\", \"saw\", \"long\", \"looked\", \"half\", \"think\", \"heart\", \"time\", \"moment\", \"came\", \"john\", \"abbey\", \"churchill\", \"knightley\", \"hawkins\", \"randalls\", \"surprized\", \"weston\", \"surprize\", \"richmond\", \"taylor\", \"ford\", \"larkins\", \"smallridge\", \"emma\", \"enscombe\", \"isabella\", \"cole\", \"patty\", \"longstaple\", \"donwell\", \"harriet\", \"martin\", \"hartfield\", \"cox\", \"goddard\", \"elton\", \"windsor\", \"woodhouse\", \"unceasing\", \"grandmama\", \"bates\", \"frank\", \"perry\", \"highbury\", \"campbell\", \"robert\", \"body\", \"smith\", \"thing\", \"fairfax\", \"ferrars\", \"miss\", \"think\", \"sure\", \"dear\", \"great\", \"know\", \"good\", \"oh\", \"time\", \"friend\", \"little\", \"father\", \"jane\", \"man\", \"soon\", \"thought\", \"shall\", \"better\", \"young\", \"come\", \"day\", \"willoughby\", \"cleveland\", \"allenham\", \"combe\", \"denny\", \"barton\", \"palmers\", \"jennings\", \"marianne\", \"unhappiness\", \"magna\", \"brandon\", \"jenkinson\", \"somersetshire\", \"apologising\", \"palmer\", \"curricle\", \"entreaty\", \"recital\", \"enquire\", \"unwillingly\", \"devonshire\", \"middleton\", \"delaford\", \"middletons\", \"enquiry\", \"margaret\", \"effusions\", \"employments\", \"enumerating\", \"elinor\", \"dashwood\", \"norland\", \"dashwoods\", \"cottage\", \"colonel\", \"sister\", \"behaviour\", \"mother\", \"park\", \"edward\", \"affection\", \"surprise\", \"misery\", \"engagement\", \"civility\", \"town\", \"lady\", \"family\", \"soon\", \"time\", \"letter\", \"house\", \"felt\", \"spirits\", \"marriage\", \"left\", \"day\", \"feelings\", \"good\", \"mind\", \"moment\", \"know\", \"heart\", \"little\", \"away\", \"john\", \"think\", \"long\", \"room\", \"shall\", \"man\", \"great\", \"bingley\", \"netherfield\", \"hurst\", \"lucas\", \"kent\", \"darcy\", \"bennet\", \"fitzwilliam\", \"meryton\", \"lucases\", \"wickham\", \"phillips\", \"nonsensical\", \"hertfordshire\", \"officers\", \"bennets\", \"judgement\", \"monday\", \"chooses\", \"longbourn\", \"elizabeth\", \"lizzy\", \"gracechurch\", \"intimately\", \"collins\", \"bourgh\", \"acquaintances\", \"handsomer\", \"militia\", \"corps\", \"pemberley\", \"lydia\", \"catherine\", \"gardiner\", \"caroline\", \"regiment\", \"forster\", \"saturday\", \"everybody\", \"jane\", \"charlotte\", \"uncle\", \"sisters\", \"miss\", \"family\", \"sister\", \"aunt\", \"lady\", \"think\", \"know\", \"soon\", \"dear\", \"father\", \"friend\", \"man\", \"young\", \"replied\", \"good\", \"great\", \"shall\", \"sure\", \"time\", \"little\", \"room\", \"day\", \"mother\", \"skies\", \"atom\", \"healthful\", \"vandenhuten\", \"marchmont\", \"professional\", \"honeymoon\", \"deck\", \"philanthropy\", \"handwriting\", \"chestnut\", \"insane\", \"unmarried\", \"india\", \"victor\", \"abide\", \"missionary\", \"yorke\", \"maniac\", \"crack\", \"contains\", \"suns\", \"imbecile\", \"mound\", \"quarrelled\", \"reminiscences\", \"beer\", \"rosamond\", \"assign\", \"ambitious\", \"anguish\", \"bone\", \"indian\", \"god\", \"maker\", \"graham\", \"higher\", \"terrasse\", \"bretton\", \"life\", \"love\", \"papa\", \"jane\", \"live\", \"heart\", \"existence\", \"loved\", \"long\", \"farewell\", \"know\", \"sun\", \"shall\", \"death\", \"like\", \"hand\", \"thought\", \"look\", \"good\", \"letter\", \"time\", \"come\", \"man\", \"mind\", \"little\", \"night\", \"strange\", \"feel\", \"sir\", \"saw\", \"read\", \"old\", \"day\", \"home\", \"away\", \"think\", \"soon\", \"left\", \"walravens\", \"garcon\", \"isidore\", \"justine\", \"betook\", \"alfred\", \"non\", \"soit\", \"les\", \"peut\", \"troop\", \"oratory\", \"quel\", \"soir\", \"marie\", \"felicitations\", \"treats\", \"shrine\", \"pierre\", \"storeroom\", \"qu\", \"magi\", \"ou\", \"leaved\", \"grimaces\", \"numero\", \"mystic\", \"ces\", \"etre\", \"infirm\", \"equivalent\", \"des\", \"cholmondeley\", \"que\", \"et\", \"vous\", \"etes\", \"mon\", \"priest\", \"ne\", \"madame\", \"il\", \"pas\", \"je\", \"beck\", \"ginevra\", \"est\", \"la\", \"paul\", \"elle\", \"emanuel\", \"mais\", \"moi\", \"like\", \"fanshawe\", \"little\", \"le\", \"knew\", \"day\", \"turned\", \"thought\", \"old\", \"know\", \"good\", \"stood\", \"round\", \"long\", \"away\", \"looked\", \"man\", \"time\", \"shall\", \"look\", \"night\", \"far\", \"door\", \"belgian\", \"devoirs\", \"patrician\", \"morals\", \"flamand\", \"dissimulation\", \"pelet\", \"subside\", \"irritating\", \"rests\", \"sarah\", \"growth\", \"mud\", \"sarcastic\", \"gall\", \"assiduous\", \"belgium\", \"director\", \"deformity\", \"parisian\", \"deportment\", \"repugnance\", \"tutor\", \"extorted\", \"bigben\", \"mischievous\", \"external\", \"serenity\", \"punctuality\", \"promptitude\", \"zoraide\", \"intelligent\", \"hunsden\", \"crimsworth\", \"graces\", \"frances\", \"directress\", \"prosperity\", \"mental\", \"establishment\", \"pupils\", \"mien\", \"mdlle\", \"capacity\", \"reuter\", \"pupil\", \"features\", \"english\", \"certain\", \"thought\", \"having\", \"like\", \"boys\", \"man\", \"degree\", \"little\", \"poor\", \"pleasure\", \"eyes\", \"time\", \"young\", \"mind\", \"saw\", \"day\", \"good\", \"face\", \"long\", \"looked\", \"soon\", \"heart\", \"felt\", \"look\", \"mender\", \"switzerland\", \"insight\", \"wider\", \"frances\", \"shelves\", \"franc\", \"swiss\", \"evans\", \"interrupting\", \"rainbow\", \"fee\", \"joys\", \"dishes\", \"boasting\", \"embers\", \"enlarged\", \"henri\", \"swung\", \"administered\", \"lui\", \"maintaining\", \"exchanging\", \"comments\", \"attics\", \"concisely\", \"consists\", \"diffused\", \"scotch\", \"publicity\", \"notre\", \"hunsden\", \"mdlle\", \"august\", \"monsieur\", \"lace\", \"pieces\", \"cup\", \"mademoiselle\", \"english\", \"francs\", \"reuter\", \"england\", \"diana\", \"brussels\", \"rivers\", \"grate\", \"french\", \"little\", \"old\", \"long\", \"yes\", \"shall\", \"mary\", \"time\", \"asked\", \"evening\", \"house\", \"live\", \"think\", \"like\", \"speak\", \"tell\", \"day\", \"room\", \"good\", \"knew\", \"soon\", \"come\", \"night\", \"came\", \"charade\", \"gruel\", \"leg\", \"unwholesome\", \"bathing\", \"colds\", \"hardships\", \"boiled\", \"knightleys\", \"prose\", \"richard\", \"disposal\", \"poet\", \"sacrifices\", \"performances\", \"exploring\", \"winning\", \"headache\", \"riddle\", \"carter\", \"sparkled\", \"anecdote\", \"triumphantly\", \"truths\", \"copied\", \"undone\", \"reckon\", \"lengths\", \"harp\", \"sickly\", \"wives\", \"talker\", \"likeness\", \"eltons\", \"talents\", \"clever\", \"fairfax\", \"parties\", \"perry\", \"sea\", \"dear\", \"jane\", \"emma\", \"woodhouse\", \"thing\", \"elton\", \"bates\", \"little\", \"shall\", \"children\", \"miss\", \"thousand\", \"body\", \"like\", \"know\", \"inquiry\", \"sure\", \"oh\", \"let\", \"air\", \"harriet\", \"good\", \"pretty\", \"evening\", \"soon\", \"time\", \"think\", \"better\", \"great\", \"away\", \"come\", \"selina\", \"cultivated\", \"boarder\", \"surry\", \"barouche\", \"swiss\", \"nation\", \"fathers\", \"maple\", \"devoting\", \"pomp\", \"denote\", \"ninety\", \"kings\", \"bath\", \"comprehending\", \"military\", \"panel\", \"luxury\", \"grove\", \"seas\", \"flown\", \"antagonist\", \"protestants\", \"belgium\", \"alliance\", \"dingy\", \"explore\", \"sneered\", \"pushing\", \"resources\", \"rome\", \"nash\", \"musical\", \"associations\", \"greatness\", \"highbury\", \"elton\", \"society\", \"hartfield\", \"good\", \"country\", \"woodhouse\", \"emma\", \"sort\", \"like\", \"woman\", \"body\", \"church\", \"little\", \"weston\", \"people\", \"thought\", \"father\", \"great\", \"miss\", \"harriet\", \"think\", \"house\", \"love\", \"thing\", \"shall\", \"man\", \"world\", \"place\", \"time\", \"way\", \"know\", \"briggs\", \"portfolio\", \"jump\", \"kisses\", \"adoption\", \"rays\", \"fetters\", \"gall\", \"storms\", \"decease\", \"militia\", \"committed\", \"funeral\", \"captain\", \"experiment\", \"estate\", \"chances\", \"dishevelled\", \"military\", \"scowled\", \"relatives\", \"appreciating\", \"generations\", \"shudder\", \"banker\", \"recurrence\", \"petit\", \"luxuries\", \"aspire\", \"exchanging\", \"janet\", \"cake\", \"lodge\", \"swelled\", \"pounds\", \"surgeon\", \"adele\", \"farewell\", \"including\", \"rumour\", \"henry\", \"rough\", \"sir\", \"property\", \"thousand\", \"fortune\", \"rochester\", \"veil\", \"dashwood\", \"kiss\", \"years\", \"yes\", \"long\", \"jane\", \"family\", \"father\", \"life\", \"come\", \"ll\", \"place\", \"john\", \"little\", \"old\", \"away\", \"fairfax\", \"easy\", \"son\", \"good\", \"night\", \"shall\", \"like\", \"way\", \"half\", \"think\", \"time\", \"miss\", \"felt\", \"amounted\", \"boards\", \"enfin\", \"attic\", \"climax\", \"philanthropist\", \"vicar\", \"assez\", \"collation\", \"chink\", \"vases\", \"complacent\", \"throne\", \"nailed\", \"legitimate\", \"glide\", \"nations\", \"carter\", \"rubber\", \"encore\", \"rats\", \"copying\", \"submissive\", \"demoiselles\", \"enormous\", \"communicative\", \"despotism\", \"belgians\", \"fifth\", \"enlarge\", \"cloaks\", \"messieurs\", \"bien\", \"dawn\", \"est\", \"limited\", \"boys\", \"pelet\", \"hunsden\", \"night\", \"look\", \"old\", \"laugh\", \"et\", \"windows\", \"like\", \"que\", \"looked\", \"sir\", \"superiority\", \"head\", \"began\", \"hands\", \"curtain\", \"house\", \"thought\", \"speak\", \"answer\", \"self\", \"little\", \"time\", \"way\", \"think\", \"door\", \"good\", \"day\", \"people\", \"long\", \"document\", \"bedrooms\", \"agonies\", \"brushed\", \"enlarge\", \"unprepared\", \"aerial\", \"forwarded\", \"resided\", \"chalk\", \"richer\", \"cheap\", \"sixpence\", \"preparations\", \"housekeeping\", \"plebeian\", \"airing\", \"lighting\", \"sickening\", \"expenses\", \"nobleman\", \"tranquilly\", \"xvii\", \"discharging\", \"scrape\", \"unkind\", \"amazing\", \"fulfil\", \"unfrequently\", \"annum\", \"pounds\", \"elderly\", \"millcote\", \"salary\", \"shire\", \"thornfield\", \"year\", \"comfortable\", \"involuntarily\", \"income\", \"thousand\", \"assistance\", \"getting\", \"fortnight\", \"tied\", \"sure\", \"mother\", \"expect\", \"live\", \"certainly\", \"rochester\", \"fairfax\", \"spectacles\", \"think\", \"kept\", \"father\", \"dashwood\", \"half\", \"lady\", \"years\", \"new\", \"kind\", \"little\", \"shall\", \"thing\", \"given\", \"house\", \"hands\", \"peak\", \"lied\", \"portfolio\", \"average\", \"harangue\", \"despotism\", \"drawings\", \"albion\", \"dishevelled\", \"enounced\", \"reluctantly\", \"amour\", \"paramount\", \"slippery\", \"confidential\", \"regularity\", \"scrupled\", \"eyelid\", \"inflicting\", \"reminiscences\", \"conversations\", \"reported\", \"tints\", \"expanse\", \"obeying\", \"mal\", \"paragraph\", \"levity\", \"interior\", \"contour\", \"traced\", \"propre\", \"elle\", \"henri\", \"georgiana\", \"visage\", \"pencil\", \"bracelet\", \"mdlle\", \"monsieur\", \"sketch\", \"directress\", \"secured\", \"capacity\", \"mademoiselle\", \"firmness\", \"accent\", \"hints\", \"pictures\", \"book\", \"eliza\", \"volume\", \"natural\", \"asked\", \"course\", \"wanted\", \"english\", \"word\", \"scarcely\", \"good\", \"little\", \"know\", \"time\", \"saw\", \"day\", \"doubt\", \"power\", \"voice\", \"thought\", \"young\", \"look\", \"face\", \"looked\"], \"Total\": [836.0, 1711.0, 931.0, 1535.0, 1318.0, 1312.0, 657.0, 596.0, 1349.0, 776.0, 1437.0, 357.0, 672.0, 1136.0, 920.0, 510.0, 361.0, 424.0, 614.0, 370.0, 1315.0, 695.0, 576.0, 934.0, 427.0, 1058.0, 587.0, 622.0, 272.0, 753.0, 29.769697189331055, 29.768356323242188, 32.74536895751953, 20.792055130004883, 89.65497589111328, 23.765357971191406, 20.78993797302246, 56.333351135253906, 17.76494598388672, 14.803715705871582, 14.798894882202148, 12.80427074432373, 24.786781311035156, 131.2548828125, 11.800702095031738, 10.819725036621094, 129.76124572753906, 101.50426483154297, 10.806156158447266, 55.070186614990234, 12.724905967712402, 75.52153778076172, 32.59005355834961, 43.490421295166016, 11.798233032226562, 14.716068267822266, 10.790457725524902, 8.819642066955566, 7.823841571807861, 7.819487571716309, 357.6260681152344, 17.81001091003418, 12.803476333618164, 96.6763916015625, 41.16392517089844, 132.3818359375, 24.081689834594727, 173.19232177734375, 60.76022720336914, 48.33588790893555, 63.40475845336914, 26.7961483001709, 146.99012756347656, 72.96049499511719, 26.528249740600586, 181.7585906982422, 62.306983947753906, 1318.32177734375, 499.78363037109375, 188.7445068359375, 596.823486328125, 229.27159118652344, 893.527587890625, 537.1058959960938, 396.8655700683594, 192.403564453125, 324.0570983886719, 203.36053466796875, 696.6023559570312, 149.6566925048828, 639.0066528320312, 363.04327392578125, 1711.3040771484375, 625.4179077148438, 622.1300659179688, 829.6068725585938, 1535.2010498046875, 753.0237426757812, 597.4088745117188, 1136.6446533203125, 1058.3138427734375, 920.8323364257812, 1315.12890625, 934.766357421875, 617.9552001953125, 778.3887329101562, 1349.9100341796875, 691.6631469726562, 1312.8424072265625, 931.6482543945312, 1437.9227294921875, 408.029052734375, 626.8328247070312, 495.0290832519531, 38.790767669677734, 10.847339630126953, 9.854629516601562, 9.848894119262695, 14.846771240234375, 8.842216491699219, 10.824045181274414, 11.806353569030762, 7.850940704345703, 8.838360786437988, 7.837652683258057, 8.847573280334473, 7.829833507537842, 15.72756290435791, 6.852327823638916, 12.742501258850098, 6.850254535675049, 6.851774215698242, 7.804245471954346, 6.830956935882568, 11.823226928710938, 6.825106143951416, 6.8310136795043945, 9.834366798400879, 10.836529731750488, 5.84653902053833, 6.82127046585083, 5.830170631408691, 5.850762844085693, 6.848689079284668, 63.936100006103516, 36.18015670776367, 49.97380065917969, 234.76890563964844, 21.578914642333984, 400.63153076171875, 180.8766632080078, 162.04931640625, 106.3702163696289, 72.66854858398438, 83.62398529052734, 35.61833190917969, 272.39599609375, 152.6051788330078, 17.592313766479492, 102.84403991699219, 85.21271514892578, 43.602569580078125, 224.62191772460938, 49.45954895019531, 53.46928787231445, 75.3521957397461, 33.927490234375, 74.15603637695312, 68.99413299560547, 241.5437774658203, 104.93932342529297, 223.39999389648438, 108.48039245605469, 71.98870086669922, 112.7745361328125, 399.37579345703125, 617.9552001953125, 622.1300659179688, 1711.3040771484375, 379.021484375, 174.78347778320312, 639.0066528320312, 236.55477905273438, 1136.6446533203125, 547.4458618164062, 1318.32177734375, 537.1058959960938, 309.6680908203125, 1437.9227294921875, 1058.3138427734375, 499.78363037109375, 1349.9100341796875, 497.52392578125, 778.3887329101562, 934.766357421875, 696.6023559570312, 589.80029296875, 1312.8424072265625, 655.0452880859375, 1315.12890625, 582.50341796875, 691.6631469726562, 626.8328247070312, 31.300809860229492, 218.98544311523438, 379.734375, 19.521116256713867, 88.29244995117188, 32.13248825073242, 427.58709716796875, 37.008358001708984, 13.620091438293457, 49.452232360839844, 16.57040786743164, 13.623717308044434, 10.664050102233887, 836.7688598632812, 35.68391036987305, 67.5045394897461, 60.71660614013672, 12.638352394104004, 8.696858406066895, 48.16611099243164, 510.073486328125, 84.01480865478516, 154.59361267089844, 8.710125923156738, 57.68297576904297, 370.4219055175781, 6.743748664855957, 300.2041015625, 6.622170448303223, 13.409269332885742, 145.85772705078125, 234.085205078125, 76.87503814697266, 119.58159637451172, 50.640995025634766, 78.72865295410156, 271.9100646972656, 112.86752319335938, 776.8616333007812, 361.65008544921875, 130.11129760742188, 1535.2010498046875, 1312.8424072265625, 614.3057250976562, 587.6442260742188, 824.400634765625, 1437.9227294921875, 1349.9100341796875, 561.0196533203125, 1315.12890625, 439.7361145019531, 1711.3040771484375, 506.7038269042969, 931.6482543945312, 906.4301147460938, 928.2269897460938, 1136.6446533203125, 920.8323364257812, 616.3026123046875, 664.6098022460938, 829.6068725585938, 1058.3138427734375, 221.0851593017578, 28.354839324951172, 19.20571517944336, 17.16152572631836, 13.08031940460205, 91.37325286865234, 11.046504974365234, 234.89483642578125, 576.53955078125, 12.05140209197998, 12.059627532958984, 147.2008514404297, 9.982426643371582, 8.999207496643066, 7.978929042816162, 79.1257553100586, 6.9674177169799805, 15.0823392868042, 6.966098308563232, 6.962841987609863, 6.962254524230957, 27.31822967529297, 104.50572967529297, 31.30135726928711, 20.159526824951172, 5.946830749511719, 37.40056228637695, 5.851467132568359, 13.020424842834473, 5.806100845336914, 695.2967529296875, 251.80563354492188, 53.60658264160156, 37.271080017089844, 85.87203979492188, 312.8289794921875, 600.0651245117188, 148.11659240722656, 672.6724853515625, 124.50070190429688, 318.2152404785156, 265.717529296875, 131.68392944335938, 66.10242462158203, 116.63275909423828, 80.4983139038086, 241.10191345214844, 629.2305908203125, 384.800048828125, 928.2269897460938, 1315.12890625, 431.1234130859375, 753.0237426757812, 669.9376220703125, 229.38038635253906, 186.5705108642578, 539.5077514648438, 1058.3138427734375, 383.8301696777344, 1349.9100341796875, 572.1755981445312, 582.50341796875, 1437.9227294921875, 655.0452880859375, 1711.3040771484375, 678.7373046875, 626.8328247070312, 1312.8424072265625, 934.766357421875, 893.527587890625, 920.8323364257812, 906.4301147460938, 824.400634765625, 311.9707336425781, 75.07878875732422, 37.45624542236328, 71.98429107666016, 15.093185424804688, 424.21832275390625, 328.72821044921875, 37.478885650634766, 58.70132827758789, 15.093049049377441, 198.3103485107422, 32.39425277709961, 5.904935836791992, 42.49771499633789, 33.38611602783203, 11.026540756225586, 12.043410301208496, 16.571147918701172, 9.869199752807617, 89.91695404052734, 657.7706909179688, 99.24932098388672, 9.887303352355957, 9.730999946594238, 182.54046630859375, 40.550994873046875, 14.95695972442627, 6.781400203704834, 8.467275619506836, 8.91736125946045, 54.70847702026367, 174.66940307617188, 132.86029052734375, 97.29602813720703, 26.03257179260254, 26.942155838012695, 40.47773742675781, 26.72747802734375, 67.10502624511719, 931.6482543945312, 115.73540496826172, 154.67459106445312, 188.2213592529297, 1535.2010498046875, 384.800048828125, 600.0651245117188, 182.3897247314453, 629.2305908203125, 1312.8424072265625, 1437.9227294921875, 928.2269897460938, 587.6442260742188, 506.7038269042969, 439.7361145019531, 906.4301147460938, 664.6098022460938, 352.7425842285156, 1349.9100341796875, 824.400634765625, 920.8323364257812, 614.3057250976562, 1315.12890625, 1711.3040771484375, 893.527587890625, 1058.3138427734375, 672.6724853515625, 5.757631778717041, 5.740241527557373, 5.736384868621826, 21.428443908691406, 14.61776351928711, 7.533011436462402, 6.662607669830322, 8.583575248718262, 5.755764484405518, 11.474947929382324, 11.432355880737305, 9.574274063110352, 6.5559401512146, 20.831113815307617, 23.097896575927734, 6.76722526550293, 18.478883743286133, 13.214473724365234, 6.756840705871582, 5.773812770843506, 5.788508415222168, 6.574239253997803, 5.639381408691406, 5.77691125869751, 11.58814525604248, 5.3609137535095215, 10.657332420349121, 16.63460922241211, 7.740596771240234, 11.57529354095459, 24.60862922668457, 16.499753952026367, 19.47270393371582, 227.45016479492188, 9.470545768737793, 224.62191772460938, 43.800907135009766, 18.672176361083984, 241.5437774658203, 580.6823120117188, 569.2642822265625, 171.39393615722656, 931.6482543945312, 210.722900390625, 655.0452880859375, 78.88876342773438, 130.2869415283203, 934.766357421875, 32.037078857421875, 1437.9227294921875, 103.91429901123047, 920.8323364257812, 136.3942413330078, 1318.32177734375, 617.9552001953125, 1136.6446533203125, 637.3972778320312, 1349.9100341796875, 431.1234130859375, 1315.12890625, 829.6068725585938, 906.4301147460938, 572.1755981445312, 1711.3040771484375, 622.1300659179688, 252.80751037597656, 401.0458984375, 596.823486328125, 778.3887329101562, 317.50994873046875, 473.1363525390625, 1058.3138427734375, 494.7293395996094, 678.7373046875, 1312.8424072265625, 928.2269897460938, 539.5077514648438, 22.174888610839844, 5.274177074432373, 22.49614906311035, 21.751062393188477, 5.338650226593018, 17.92431640625, 7.984317779541016, 9.049797058105469, 36.32722473144531, 6.172615051269531, 8.142571449279785, 9.093438148498535, 9.087807655334473, 9.092103958129883, 28.373924255371094, 7.175181865692139, 6.313759803771973, 8.185972213745117, 29.632083892822266, 5.1256890296936035, 29.250511169433594, 5.257888317108154, 14.196316719055176, 7.0472893714904785, 5.165440559387207, 5.413889408111572, 7.123239040374756, 7.209900379180908, 6.395448207855225, 5.441969394683838, 9.186751365661621, 32.222599029541016, 22.111377716064453, 59.55162811279297, 81.30481719970703, 112.7745361328125, 12.9603853225708, 37.25033187866211, 36.607887268066406, 34.56336212158203, 400.63153076171875, 41.16682052612305, 58.13832473754883, 69.320556640625, 162.04931640625, 108.48039245605469, 104.93932342529297, 102.46624755859375, 180.8766632080078, 23.75535011291504, 106.3702163696289, 30.31930160522461, 24.504728317260742, 1318.32177734375, 85.21271514892578, 1711.3040771484375, 44.86811065673828, 547.4458618164062, 1058.3138427734375, 337.9655456542969, 1136.6446533203125, 473.1363525390625, 1437.9227294921875, 1349.9100341796875, 324.0570983886719, 352.5898742675781, 934.766357421875, 678.7373046875, 696.6023559570312, 906.4301147460938, 1315.12890625, 920.8323364257812, 637.3972778320312, 622.1300659179688, 463.09539794921875, 537.1058959960938, 14.90866470336914, 6.087057590484619, 6.838146209716797, 5.180850505828857, 5.310678482055664, 5.342783451080322, 99.46894836425781, 6.153701305389404, 5.12761926651001, 6.3613200187683105, 6.376725673675537, 9.057992935180664, 5.349892616271973, 10.819219589233398, 5.853961944580078, 7.246124744415283, 13.611093521118164, 14.409564018249512, 6.195682525634766, 7.952082633972168, 6.339237213134766, 6.3934245109558105, 6.309934139251709, 6.3942742347717285, 6.389656066894531, 5.39025354385376, 9.894469261169434, 11.859423637390137, 9.153081893920898, 6.427932262420654, 26.616256713867188, 28.134931564331055, 138.29916381835938, 95.93529510498047, 15.503684997558594, 107.1114273071289, 43.99846649169922, 17.98721694946289, 41.35960388183594, 70.12012481689453, 152.6051788330078, 31.04520606994629, 106.47105407714844, 21.04553985595703, 75.3521957397461, 94.9352798461914, 129.08177185058594, 223.39999389648438, 336.6733703613281, 1136.6446533203125, 538.3977661132812, 1318.32177734375, 41.76914596557617, 906.4301147460938, 141.6651153564453, 1711.3040771484375, 389.2160949707031, 448.61883544921875, 639.0066528320312, 1315.12890625, 664.6098022460938, 572.1755981445312, 778.3887329101562, 1058.3138427734375, 1349.9100341796875, 499.78363037109375, 934.766357421875, 696.6023559570312, 928.2269897460938, 655.0452880859375, 669.9376220703125, 637.3972778320312, 8.88086223602295, 10.38796329498291, 5.043184280395508, 5.258069038391113, 107.1114273071289, 5.429573059082031, 7.249526500701904, 12.648174285888672, 7.953242301940918, 6.034483432769775, 8.36273193359375, 6.4636054039001465, 5.537588119506836, 7.130579948425293, 6.551844120025635, 7.474028587341309, 6.127113342285156, 50.11314010620117, 5.226644992828369, 5.3290252685546875, 5.218754768371582, 5.442560195922852, 5.358603000640869, 5.573282718658447, 5.46652364730835, 5.621163845062256, 8.265630722045898, 8.311979293823242, 15.000869750976562, 5.38884162902832, 5.618087291717529, 138.29916381835938, 106.47105407714844, 13.935813903808594, 272.39599609375, 55.10392761230469, 16.638469696044922, 54.34998321533203, 114.24443054199219, 223.39999389648438, 22.20825958251953, 75.3521957397461, 124.01020812988281, 73.61133575439453, 35.74888610839844, 58.76237869262695, 16.74390411376953, 156.88272094726562, 1711.3040771484375, 473.1363525390625, 934.766357421875, 597.4088745117188, 920.8323364257812, 149.6566925048828, 1315.12890625, 396.8655700683594, 484.99658203125, 753.0237426757812, 210.722900390625, 1312.8424072265625, 1318.32177734375, 446.2236633300781, 544.8727416992188, 1058.3138427734375, 893.527587890625, 1349.9100341796875, 547.4458618164062, 928.2269897460938, 829.6068725585938, 622.1300659179688, 691.6631469726562, 19.413301467895508, 10.028383255004883, 8.729361534118652, 7.628318786621094, 8.042828559875488, 6.196225643157959, 6.195483684539795, 8.991786003112793, 7.153809547424316, 5.059449672698975, 10.766886711120605, 8.325870513916016, 5.2955451011657715, 5.185052871704102, 5.383440017700195, 10.507719039916992, 5.411437511444092, 11.761396408081055, 12.607346534729004, 15.176800727844238, 7.143652439117432, 6.32736873626709, 5.167416572570801, 8.263513565063477, 8.164619445800781, 5.168013095855713, 6.216350555419922, 6.2676568031311035, 6.3892822265625, 15.849251747131348, 11.988531112670898, 10.690347671508789, 37.12483596801758, 21.28826904296875, 29.992664337158203, 61.95957565307617, 361.65008544921875, 61.50332260131836, 76.87503814697266, 62.895843505859375, 587.6442260742188, 931.6482543945312, 836.7688598632812, 300.2041015625, 776.8616333007812, 370.4219055175781, 145.85772705078125, 1711.3040771484375, 920.8323364257812, 209.536865234375, 1535.2010498046875, 133.40191650390625, 271.9100646972656, 1318.32177734375, 1437.9227294921875, 62.18068313598633, 614.3057250976562, 561.0196533203125, 463.28857421875, 262.6626281738281, 510.073486328125, 1349.9100341796875, 232.61595153808594, 484.99658203125, 928.2269897460938, 1315.12890625, 1312.8424072265625, 616.3026123046875, 824.400634765625, 678.7373046875, 829.6068725585938, 9.46926498413086, 5.135739803314209, 5.22938871383667, 8.711694717407227, 9.403931617736816, 12.648174285888672, 7.857968807220459, 6.034553050994873, 27.963781356811523, 6.084143161773682, 6.176271438598633, 6.192867279052734, 6.104963302612305, 7.1257171630859375, 22.538349151611328, 6.299415588378906, 5.069711685180664, 7.2298808097839355, 12.642623901367188, 36.85957717895508, 8.018146514892578, 5.386399745941162, 5.412105560302734, 7.291808605194092, 13.611093521118164, 15.585902214050293, 7.190018653869629, 6.380152225494385, 6.4157915115356445, 6.281550407409668, 18.218902587890625, 20.613744735717773, 12.904287338256836, 25.891571044921875, 13.654304504394531, 14.624342918395996, 119.58159637451172, 370.4219055175781, 149.37680053710938, 154.59361267089844, 1349.9100341796875, 169.73760986328125, 300.2041015625, 836.7688598632812, 358.0979919433594, 1318.32177734375, 469.11962890625, 271.9100646972656, 114.92042541503906, 1711.3040771484375, 427.58709716796875, 338.3744201660156, 1136.6446533203125, 506.7038269042969, 824.400634765625, 1535.2010498046875, 510.073486328125, 1312.8424072265625, 753.0237426757812, 569.2642822265625, 776.8616333007812, 920.8323364257812, 906.4301147460938, 414.58502197265625, 506.3540954589844, 1315.12890625, 686.889404296875, 1437.9227294921875, 14.088804244995117, 6.977338790893555, 4.849254131317139, 7.927955627441406, 5.358029365539551, 5.303256511688232, 5.378573417663574, 5.853961944580078, 7.1564178466796875, 7.360254764556885, 8.467275619506836, 12.388354301452637, 8.307132720947266, 13.10530948638916, 9.276655197143555, 54.901546478271484, 9.212042808532715, 5.027210235595703, 5.069711685180664, 5.2486796379089355, 10.260651588439941, 5.2653889656066895, 10.231465339660645, 5.271752834320068, 5.331031799316406, 5.2483696937561035, 5.3325514793396, 5.335972309112549, 5.372878074645996, 5.358603000640869, 19.8367919921875, 26.769065856933594, 22.930566787719727, 15.692204475402832, 93.47093200683594, 13.974105834960938, 132.3818359375, 32.037078857421875, 11.028533935546875, 10.688454627990723, 30.223108291625977, 34.15387725830078, 596.823486328125, 46.3867301940918, 133.40191650390625, 169.94281005859375, 357.6260681152344, 37.54024124145508, 251.80563354492188, 47.8430290222168, 314.5032653808594, 597.4088745117188, 934.766357421875, 931.6482543945312, 384.800048828125, 506.7038269042969, 580.6823120117188, 829.6068725585938, 146.99012756347656, 506.3540954589844, 626.8328247070312, 1711.3040771484375, 473.1363525390625, 678.7373046875, 361.65008544921875, 133.2571258544922, 193.09446716308594, 1349.9100341796875, 622.1300659179688, 920.8323364257812, 1318.32177734375, 686.889404296875, 589.80029296875, 1312.8424072265625, 1315.12890625, 1535.2010498046875, 669.9376220703125, 5.182744026184082, 10.59102725982666, 5.250504493713379, 12.871044158935547, 11.55374526977539, 5.8856611251831055, 5.939040184020996, 5.877703666687012, 5.876842498779297, 5.967875003814697, 5.959160804748535, 6.0133843421936035, 8.901876449584961, 6.194077491760254, 6.207259178161621, 6.233017444610596, 6.8648529052734375, 15.176800727844238, 7.083559513092041, 7.049056053161621, 7.038055896759033, 8.011735916137695, 8.006430625915527, 14.174267768859863, 8.793227195739746, 9.612199783325195, 4.963403224945068, 5.001074314117432, 4.968535900115967, 5.079654216766357, 9.028836250305176, 11.854774475097656, 45.53700637817383, 22.15981674194336, 104.93932342529297, 22.127948760986328, 41.76914596557617, 99.46894836425781, 138.29916381835938, 622.1300659179688, 637.3972778320312, 473.1363525390625, 123.44434356689453, 81.30481719970703, 60.906272888183594, 1318.32177734375, 59.55162811279297, 696.6023559570312, 596.823486328125, 28.112611770629883, 408.029052734375, 300.80120849609375, 230.39309692382812, 48.22180938720703, 753.0237426757812, 1136.6446533203125, 446.2236633300781, 352.2496643066406, 214.7714385986328, 1711.3040771484375, 1315.12890625, 686.889404296875, 1312.8424072265625, 537.1058959960938, 1349.9100341796875, 1058.3138427734375, 338.3744201660156, 934.766357421875, 6.656925678253174, 6.472635269165039, 6.195469379425049, 7.548948764801025, 5.079654216766357, 5.373417854309082, 5.393859386444092, 5.476969242095947, 5.274167060852051, 5.997488975524902, 6.147032737731934, 6.146520137786865, 6.16724157333374, 11.754536628723145, 6.2841572761535645, 6.3001389503479, 6.379619598388672, 6.415045738220215, 6.412331581115723, 12.81396484375, 5.101499080657959, 7.006752967834473, 7.033061981201172, 7.069530487060547, 7.07574462890625, 7.133178234100342, 7.188680648803711, 7.218362808227539, 7.199565887451172, 12.641437530517578, 93.47093200683594, 19.453876495361328, 27.740463256835938, 22.541929244995117, 41.956172943115234, 96.6763916015625, 179.48377990722656, 88.9896240234375, 22.780139923095703, 48.6358528137207, 133.40191650390625, 51.27082824707031, 69.27851867675781, 88.6483154296875, 25.366796493530273, 614.3057250976562, 672.6724853515625, 119.2420654296875, 210.722900390625, 333.381591796875, 357.6260681152344, 361.65008544921875, 21.65801239013672, 1312.8424072265625, 209.75074768066406, 506.7038269042969, 251.80563354492188, 589.80029296875, 629.2305908203125, 314.5032653808594, 293.4692687988281, 409.4527282714844, 1711.3040771484375, 920.8323364257812, 776.8616333007812, 331.1578369140625, 753.0237426757812, 230.39309692382812, 4.6467084884643555, 5.004109859466553, 6.977338790893555, 7.577807903289795, 6.169169902801514, 4.963403224945068, 14.267488479614258, 5.117835998535156, 5.027210235595703, 5.154367923736572, 5.205298900604248, 7.84205436706543, 5.2590107917785645, 5.267598628997803, 5.270871162414551, 5.339856147766113, 5.365568161010742, 5.367158889770508, 5.401444435119629, 5.3609137535095215, 5.41405725479126, 5.317702293395996, 9.927950859069824, 5.301603317260742, 5.454348087310791, 5.387086391448975, 6.013054370880127, 6.073539733886719, 6.082067489624023, 5.455301284790039, 19.03590202331543, 8.973470687866211, 23.75535011291504, 50.11314010620117, 58.397891998291016, 15.396480560302734, 31.952959060668945, 9.559538841247559, 106.47105407714844, 272.39599609375, 16.061830520629883, 43.99846649169922, 35.3162727355957, 21.04553985595703, 114.24443054199219, 22.450721740722656, 53.255619049072266, 21.797019958496094, 41.826534271240234, 166.29763793945312, 60.18550109863281, 23.95867919921875, 183.8461456298828, 396.8655700683594, 340.5160217285156, 233.27752685546875, 223.39999389648438, 393.0008239746094, 200.40914916992188, 1349.9100341796875, 1711.3040771484375, 1437.9227294921875, 1315.12890625, 778.3887329101562, 1058.3138427734375, 315.4515075683594, 248.78233337402344, 395.43511962890625, 1136.6446533203125, 664.6098022460938, 637.3972778320312, 499.78363037109375, 696.6023559570312], \"loglift\": [30.0, 29.0, 28.0, 27.0, 26.0, 25.0, 24.0, 23.0, 22.0, 21.0, 20.0, 19.0, 18.0, 17.0, 16.0, 15.0, 14.0, 13.0, 12.0, 11.0, 10.0, 9.0, 8.0, 7.0, 6.0, 5.0, 4.0, 3.0, 2.0, 1.0, 1.510699987411499, 1.5104000568389893, 1.5061999559402466, 1.4983999729156494, 1.4982000589370728, 1.4977999925613403, 1.489799976348877, 1.4846999645233154, 1.4831000566482544, 1.4807000160217285, 1.4774999618530273, 1.469099998474121, 1.466599941253662, 1.4635000228881836, 1.4631999731063843, 1.4620000123977661, 1.4572999477386475, 1.4571000337600708, 1.4479999542236328, 1.4452999830245972, 1.4448000192642212, 1.4420000314712524, 1.4412000179290771, 1.4385000467300415, 1.4354000091552734, 1.4347000122070312, 1.4337999820709229, 1.4319000244140625, 1.4290000200271606, 1.4284000396728516, 1.412500023841858, 1.427299976348877, 1.424399971961975, 1.3759000301361084, 1.3991999626159668, 1.3623000383377075, 1.4107999801635742, 1.2425999641418457, 1.3257999420166016, 1.343999981880188, 1.3179999589920044, 1.3792999982833862, 1.1557999849319458, 1.197100043296814, 1.3767000436782837, 1.0210000276565552, 1.1979999542236328, 0.49970000982284546, 0.7080000042915344, 0.9107000231742859, 0.5879999995231628, 0.8409000039100647, 0.4456999897956848, 0.5874999761581421, 0.6733999848365784, 0.8823999762535095, 0.708299994468689, 0.8467000126838684, 0.3944999873638153, 0.9401999711990356, 0.4106000065803528, 0.5968000292778015, -0.021199999377131462, 0.3750999867916107, 0.3725999891757965, 0.23970000445842743, -0.044599998742341995, 0.2612999975681305, 0.3490000069141388, 0.011300000362098217, -0.0003000000142492354, 0.07450000196695328, -0.13109999895095825, 0.02930000051856041, 0.26750001311302185, 0.11789999902248383, -0.2563999891281128, 0.16940000653266907, -0.30329999327659607, -0.08760000020265579, -0.492900013923645, 0.513700008392334, 0.11129999905824661, 0.320499986410141, 1.6863000392913818, 1.6506999731063843, 1.645900011062622, 1.6449999809265137, 1.6306999921798706, 1.6283999681472778, 1.6269999742507935, 1.6202000379562378, 1.6201000213623047, 1.6155999898910522, 1.6153000593185425, 1.6150000095367432, 1.61489999294281, 1.6128000020980835, 1.6075999736785889, 1.6065000295639038, 1.6058000326156616, 1.6057000160217285, 1.605299949645996, 1.6050000190734863, 1.6002999544143677, 1.5924999713897705, 1.5915000438690186, 1.5902999639511108, 1.5865999460220337, 1.5848000049591064, 1.5812000036239624, 1.5805000066757202, 1.5771000385284424, 1.5758999586105347, 1.55840003490448, 1.5549999475479126, 1.5396000146865845, 1.482100009918213, 1.533400058746338, 1.3779000043869019, 1.4194999933242798, 1.4050999879837036, 1.424299955368042, 1.4326000213623047, 1.406999945640564, 1.4634000062942505, 1.2404999732971191, 1.2656999826431274, 1.5240999460220337, 1.3075000047683716, 1.330299973487854, 1.4105000495910645, 1.1893999576568604, 1.3884999752044678, 1.3773000240325928, 1.315000057220459, 1.4352999925613403, 1.301900029182434, 1.3083000183105469, 1.0678999423980713, 1.219599962234497, 1.0436999797821045, 1.1895999908447266, 1.2559000253677368, 1.1440000534057617, 0.7961999773979187, 0.650600016117096, 0.6114000082015991, 0.3046000003814697, 0.7300999760627747, 0.9710999727249146, 0.448199987411499, 0.8324999809265137, 0.17550000548362732, 0.4731999933719635, 0.08959999680519104, 0.4632999897003174, 0.6689000129699707, -0.13860000669956207, 0.017400000244379044, 0.398499995470047, -0.13740000128746033, 0.4002000093460083, 0.13449999690055847, 0.01810000091791153, 0.18320000171661377, 0.24220000207424164, -0.30399999022483826, 0.16060000658035278, -0.3456999957561493, 0.24079999327659607, 0.09260000288486481, 0.1517000049352646, 1.7644000053405762, 1.7624000310897827, 1.7610000371932983, 1.7608000040054321, 1.753600001335144, 1.7510000467300415, 1.75, 1.7476999759674072, 1.742900013923645, 1.7359000444412231, 1.7311999797821045, 1.7299000024795532, 1.728700041770935, 1.7283999919891357, 1.7253999710083008, 1.7253999710083008, 1.7223999500274658, 1.7130999565124512, 1.7122000455856323, 1.7103999853134155, 1.7049000263214111, 1.7028000354766846, 1.7007999420166016, 1.6962000131607056, 1.691100001335144, 1.6878999471664429, 1.6833000183105469, 1.6819000244140625, 1.6770999431610107, 1.6714999675750732, 1.6692999601364136, 1.6538000106811523, 1.6476000547409058, 1.6210999488830566, 1.6013000011444092, 1.5556999444961548, 1.4154000282287598, 1.4895000457763672, 1.1658999919891357, 1.211400032043457, 1.3831000328063965, 0.8697999715805054, 0.6195999979972839, 0.8485000133514404, 0.8353999853134155, 0.66839998960495, 0.43709999322891235, 0.38580000400543213, 0.7422000169754028, 0.2865000069141388, 0.7763000130653381, 0.09679999947547913, 0.7001000046730042, 0.3596000075340271, 0.36730000376701355, 0.34389999508857727, 0.1657000035047531, 0.2816999852657318, 0.5372999906539917, 0.46219998598098755, 0.2754000127315521, 0.05999999865889549, 1.802299976348877, 1.7745000123977661, 1.7694000005722046, 1.7666000127792358, 1.7595000267028809, 1.7522000074386597, 1.7503999471664429, 1.7477999925613403, 1.7409000396728516, 1.739300012588501, 1.736899971961975, 1.7264000177383423, 1.7239999771118164, 1.7207000255584717, 1.718999981880188, 1.7188999652862549, 1.7065000534057617, 1.6957000494003296, 1.6928999423980713, 1.6912000179290771, 1.6907000541687012, 1.6897000074386597, 1.6892000436782837, 1.680299997329712, 1.6789000034332275, 1.6785000562667847, 1.6782000064849854, 1.676300048828125, 1.6684999465942383, 1.6641000509262085, 1.6309000253677368, 1.611299991607666, 1.6193000078201294, 1.5707999467849731, 1.4681999683380127, 1.351099967956543, 1.287500023841858, 1.2460999488830566, 0.9674999713897705, 1.2103999853134155, 1.0026999711990356, 0.9815000295639038, 1.1145999431610107, 1.2934999465942383, 1.1353000402450562, 1.2333999872207642, 0.9107000231742859, 0.5975000262260437, 0.7286999821662903, 0.41749998927116394, 0.262800008058548, 0.6585999727249146, 0.4255000054836273, 0.43540000915527344, 0.8629000186920166, 0.9351999759674072, 0.4496000111103058, 0.11060000211000443, 0.5910999774932861, -0.03370000049471855, 0.38769999146461487, 0.36660000681877136, -0.14890000224113464, 0.28690001368522644, -0.3612000048160553, 0.23330000042915344, 0.2833999991416931, -0.25380000472068787, -0.040800001472234726, -0.006800000090152025, -0.04699999839067459, -0.05270000174641609, 0.021199999377131462, 2.2657999992370605, 2.2558000087738037, 2.2367000579833984, 2.2293999195098877, 2.2279000282287598, 2.2249999046325684, 2.2105000019073486, 2.2028000354766846, 2.1995999813079834, 2.1875, 2.1684000492095947, 2.1547000408172607, 2.1384999752044678, 2.1221001148223877, 2.1208999156951904, 2.1201000213623047, 2.110300064086914, 2.106800079345703, 2.095599889755249, 2.084399938583374, 2.0724000930786133, 2.0615999698638916, 2.0590999126434326, 2.053100109100342, 2.0429999828338623, 2.025700092315674, 1.9967999458312988, 1.986299991607666, 1.9559999704360962, 1.9537999629974365, 1.9401999711990356, 1.9026000499725342, 1.8669999837875366, 1.806399941444397, 1.92739999294281, 1.9199999570846558, 1.8451000452041626, 1.9007999897003174, 1.7138999700546265, 1.1495000123977661, 1.554800033569336, 1.4321000576019287, 1.363700032234192, 0.7307999730110168, 1.1308000087738037, 0.9679999947547913, 1.3438999652862549, 0.8737999796867371, 0.49880000948905945, 0.45339998602867126, 0.5314000248908997, 0.7552000284194946, 0.824400007724762, 0.8752999901771545, 0.44440001249313354, 0.612500011920929, 0.9660999774932861, 0.11999999731779099, 0.40049999952316284, 0.29339998960494995, 0.5637000203132629, 0.026799999177455902, -0.2531999945640564, 0.24320000410079956, -0.07029999792575836, 0.3230000138282776, 2.5116000175476074, 2.4865000247955322, 2.4793999195098877, 2.4769999980926514, 2.4514000415802, 2.4475998878479004, 2.446500062942505, 2.4333999156951904, 2.3984999656677246, 2.3914999961853027, 2.3685998916625977, 2.3668999671936035, 2.365499973297119, 2.352799892425537, 2.330199956893921, 2.329200029373169, 2.3264000415802, 2.325900077819824, 2.315999984741211, 2.309999942779541, 2.3046000003814697, 2.302999973297119, 2.2985000610351562, 2.2832000255584717, 2.272900104522705, 2.264899969100952, 2.2474000453948975, 2.2455999851226807, 2.219899892807007, 2.2167000770568848, 2.166300058364868, 2.161600112915039, 2.143199920654297, 1.7333999872207642, 2.2116000652313232, 1.5543999671936035, 1.8973000049591064, 2.06469988822937, 1.4246000051498413, 1.1627000570297241, 1.0353000164031982, 1.3895000219345093, 0.7039999961853027, 1.182800054550171, 0.7732999920845032, 1.5341999530792236, 1.3301000595092773, 0.5695000290870667, 1.8532999753952026, 0.32260000705718994, 1.3716000318527222, 0.4318999946117401, 1.2412999868392944, 0.25859999656677246, 0.5443999767303467, 0.2687000036239624, 0.5188000202178955, 0.04619999974966049, 0.6039999723434448, 0.03370000049471855, 0.24660000205039978, 0.17499999701976776, 0.4237000048160553, -0.20649999380111694, 0.319599986076355, 0.8460999727249146, 0.5534999966621399, 0.29269999265670776, 0.12449999898672104, 0.6832000017166138, 0.40959998965263367, -0.14949999749660492, 0.3781999945640564, 0.12610000371932983, -0.39959999918937683, -0.13009999692440033, 0.30480000376701355, 3.1236000061035156, 3.002700090408325, 2.972899913787842, 2.9077000617980957, 2.8903000354766846, 2.868000030517578, 2.8559000492095947, 2.8225998878479004, 2.790800094604492, 2.7869999408721924, 2.776400089263916, 2.770400047302246, 2.7690000534057617, 2.7499001026153564, 2.732300043106079, 2.701200008392334, 2.6835999488830566, 2.675299882888794, 2.660799980163574, 2.6589999198913574, 2.646899938583374, 2.6356000900268555, 2.628999948501587, 2.617300033569336, 2.6154000759124756, 2.611799955368042, 2.6054999828338623, 2.602099895477295, 2.5892999172210693, 2.589099884033203, 2.5813000202178955, 2.5380001068115234, 2.5487000942230225, 2.498699903488159, 2.408600091934204, 2.347599983215332, 2.546799898147583, 2.4374001026153564, 2.4375, 2.427999973297119, 1.8695000410079956, 2.3178000450134277, 2.2232000827789307, 2.1393001079559326, 1.9017000198364258, 1.9931000471115112, 1.9753999710083008, 1.950700044631958, 1.6924999952316284, 2.4035000801086426, 1.7583999633789062, 2.2627999782562256, 2.349100112915039, 0.3767000138759613, 1.73580002784729, 0.16189999878406525, 2.0473999977111816, 0.5789999961853027, 0.1370999962091446, 0.8345000147819519, 0.017100000753998756, 0.6014000177383423, -0.27549999952316284, -0.3118000030517578, 0.7652000188827515, 0.6865000128746033, -0.0869000032544136, 0.15240000188350677, 0.12300000339746475, -0.09920000284910202, -0.4050999879837036, -0.12680000066757202, 0.14970000088214874, 0.13339999318122864, 0.3783000111579895, 0.22769999504089355, 3.5388998985290527, 3.387500047683716, 3.3471999168395996, 3.3450000286102295, 3.3287999629974365, 3.242300033569336, 3.2007999420166016, 3.098299980163574, 3.0929999351501465, 3.076900005340576, 3.0471999645233154, 3.015000104904175, 2.9793999195098877, 2.964400053024292, 2.941499948501587, 2.928800106048584, 2.9089999198913574, 2.9005000591278076, 2.8929998874664307, 2.891700029373169, 2.8879001140594482, 2.874000072479248, 2.873199939727783, 2.862299919128418, 2.8505001068115234, 2.8164000511169434, 2.8085999488830566, 2.8046998977661133, 2.7841999530792236, 2.7723000049591064, 2.6280999183654785, 2.5662999153137207, 2.1789000034332275, 2.249799966812134, 2.634999990463257, 2.04830002784729, 2.3131000995635986, 2.567699909210205, 2.302500009536743, 2.12280011177063, 1.850000023841858, 2.3747000694274902, 1.794800043106079, 2.4591000080108643, 1.874400019645691, 1.7681000232696533, 1.6057000160217285, 1.3158999681472778, 0.9818000197410583, 0.295199990272522, 0.6647999882698059, 0.13809999823570251, 2.0897998809814453, 0.33340001106262207, 1.3242000341415405, -0.2249000072479248, 0.6830000281333923, 0.5794000029563904, 0.34220001101493835, -0.1565999984741211, 0.2540999948978424, 0.3513999879360199, 0.09549999982118607, -0.15410000085830688, -0.4433000087738037, 0.3239000141620636, -0.2012999951839447, 0.03669999912381172, -0.30300000309944153, -0.020500000566244125, -0.04610000178217888, -0.004900000058114529, 3.9465999603271484, 3.631700038909912, 3.5151000022888184, 3.4781999588012695, 3.477799892425537, 3.4444000720977783, 3.4403998851776123, 3.439500093460083, 3.341599941253662, 3.336899995803833, 3.285799980163574, 3.2451999187469482, 3.1635000705718994, 3.1514999866485596, 3.141400098800659, 3.139899969100952, 3.125200033187866, 3.1247000694274902, 3.1038999557495117, 3.0808000564575195, 3.061800003051758, 3.0601999759674072, 3.046999931335449, 3.039900064468384, 3.0278000831604004, 3.024399995803833, 2.9964001178741455, 2.9960999488830566, 2.9872000217437744, 2.9860999584198, 2.9855000972747803, 2.7864999771118164, 2.763000011444092, 2.919100046157837, 2.2969000339508057, 2.595900058746338, 2.8285000324249268, 2.5625, 2.346299886703491, 2.149899959564209, 2.6723999977111816, 2.166800022125244, 1.9606000185012817, 2.160099983215332, 2.4035000801086426, 2.161799907684326, 2.729599952697754, 1.5176000595092773, 0.19449999928474426, 0.8197000026702881, 0.3377000093460083, 0.6079000234603882, 0.2249000072479248, 1.3707000017166138, -0.09430000185966492, 0.6953999996185303, 0.5442000031471252, 0.2248000055551529, 1.1008000373840332, -0.19099999964237213, -0.20329999923706055, 0.5748000144958496, 0.41110000014305115, -0.09030000120401382, 0.03530000150203705, -0.30090001225471497, 0.3977999985218048, -0.1370999962091446, -0.07530000060796738, 0.1753000020980835, 0.06909999996423721, 4.060699939727783, 3.964600086212158, 3.568000078201294, 3.485599994659424, 3.3691999912261963, 3.3450000286102295, 3.3057000637054443, 3.2936999797821045, 3.253200054168701, 3.2188000679016113, 3.205199956893921, 3.2011001110076904, 3.174099922180176, 3.169300079345703, 3.154099941253662, 3.1484999656677246, 3.1459999084472656, 3.141700029373169, 3.1361000537872314, 3.1303999423980713, 3.099400043487549, 3.0943000316619873, 3.0759999752044678, 3.0562000274658203, 3.0481998920440674, 3.0364999771118164, 3.015700101852417, 3.0058000087738037, 3.001800060272217, 3.001499891281128, 2.9711999893188477, 2.938999891281128, 2.718899965286255, 2.7906999588012695, 2.6451001167297363, 2.455699920654297, 1.8366999626159668, 2.3443000316619873, 2.2093000411987305, 2.2681000232696533, 1.4387999773025513, 1.218999981880188, 1.2164000272750854, 1.6216000318527222, 1.232300043106079, 1.5073000192642212, 1.7971999645233154, 0.4925999939441681, 0.7721999883651733, 1.5303000211715698, 0.4839000105857849, 1.7365000247955322, 1.2740000486373901, 0.30550000071525574, 0.23569999635219574, 2.1333000659942627, 0.7027999758720398, 0.7555999755859375, 0.862500011920929, 1.2056000232696533, 0.7520999908447266, 0.08959999680519104, 1.253499984741211, 0.7146000266075134, 0.1867000013589859, -0.1551000028848648, -0.2296999990940094, 0.414900004863739, 0.15889999270439148, 0.23909999430179596, 0.03970000147819519, 3.7372000217437744, 3.63070011138916, 3.615499973297119, 3.611999988555908, 3.5371999740600586, 3.4900999069213867, 3.489799976348877, 3.476599931716919, 3.467600107192993, 3.4663000106811523, 3.440999984741211, 3.4300999641418457, 3.4102001190185547, 3.341099977493286, 3.329699993133545, 3.2578001022338867, 3.233599901199341, 3.2219998836517334, 3.215399980545044, 3.19320011138916, 3.190500020980835, 3.1863999366760254, 3.1647000312805176, 3.1565001010894775, 3.1005001068115234, 3.089600086212158, 3.0764000415802, 3.031599998474121, 3.0211000442504883, 3.018699884414673, 2.973900079727173, 2.908900022506714, 2.9409000873565674, 2.81469988822937, 2.8724000453948975, 2.8403000831604004, 2.04259991645813, 1.4047000408172607, 1.798799991607666, 1.7735999822616577, 0.6039000153541565, 1.6301000118255615, 1.305899977684021, 0.7389000058174133, 1.121000051498413, 0.32260000705718994, 0.9079999923706055, 1.2069000005722046, 1.7093000411987305, 0.06560000032186508, 0.8999000191688538, 1.0397000312805176, 0.26179999113082886, 0.7178000211715698, 0.3799000084400177, -0.05469999834895134, 0.6754999756813049, -0.00039999998989515007, 0.3815999925136566, 0.5630000233650208, 0.32760000228881836, 0.17880000174045563, 0.14169999957084656, 0.6643000245094299, 0.4927000105381012, -0.3407000005245209, 0.22419999539852142, -0.4677000045776367, 3.8352999687194824, 3.642899990081787, 3.6041998863220215, 3.594099998474121, 3.5220000743865967, 3.5111000537872314, 3.456399917602539, 3.432499885559082, 3.230799913406372, 3.1989998817443848, 3.063499927520752, 3.0601000785827637, 3.03439998626709, 3.020699977874756, 2.9727001190185547, 2.9630000591278076, 2.9488000869750977, 2.9244000911712646, 2.914599895477295, 2.890700101852417, 2.8901000022888184, 2.876699924468994, 2.876199960708618, 2.8752999305725098, 2.8701999187469482, 2.8685998916625977, 2.867500066757202, 2.863300085067749, 2.857599973678589, 2.852400064468384, 2.836699962615967, 2.7704999446868896, 2.7483999729156494, 2.766200065612793, 2.5750999450683594, 2.7623000144958496, 2.4470999240875244, 2.6324000358581543, 2.7651000022888184, 2.7581000328063965, 2.53439998626709, 2.4946999549865723, 1.8289999961853027, 2.4159998893737793, 2.063699960708618, 1.916700005531311, 1.6030000448226929, 2.431999921798706, 1.440000057220459, 2.2184998989105225, 1.2867000102996826, 0.9598000049591064, 0.7233999967575073, 0.6565999984741211, 1.0573999881744385, 0.8592000007629395, 0.7487000226974487, 0.512499988079071, 1.5250999927520752, 0.7562999725341797, 0.588699996471405, -0.08460000157356262, 0.7494000196456909, 0.4927999973297119, 0.9096999764442444, 1.5608999729156494, 1.2864999771118164, -0.0957999974489212, 0.44519999623298645, 0.1574999988079071, -0.14880000054836273, 0.33239999413490295, 0.4171999990940094, -0.2248000055551529, -0.2897000014781952, -0.44350001215934753, 0.29670000076293945, 4.076499938964844, 4.050899982452393, 4.038599967956543, 4.031300067901611, 3.963200092315674, 3.9570000171661377, 3.951900005340576, 3.951200008392334, 3.9504001140594482, 3.943700075149536, 3.94350004196167, 3.9358999729156494, 3.92930006980896, 3.90939998626709, 3.898099899291992, 3.8566999435424805, 3.8073999881744385, 3.776900053024292, 3.773400068283081, 3.723299980163574, 3.682800054550171, 3.652400016784668, 3.5789999961853027, 3.5483999252319336, 3.5355000495910645, 3.467900037765503, 3.4665000438690186, 3.465100049972534, 3.4504001140594482, 3.446500062942505, 3.4374001026153564, 3.2625999450683594, 2.889699935913086, 3.075200080871582, 2.4421000480651855, 3.0037999153137207, 2.6814000606536865, 2.21560001373291, 1.8873000144958496, 0.9617000222206116, 0.8499000072479248, 0.9962000250816345, 1.8549000024795532, 2.129300117492676, 2.3043999671936035, 0.10920000076293945, 2.2813000679016113, 0.46299999952316284, 0.5529999732971191, 2.7874999046325684, 0.7599999904632568, 0.9634000062942505, 1.1611000299453735, 2.3501999378204346, 0.19939999282360077, -0.13850000500679016, 0.5946999788284302, 0.6836000084877014, 1.0642000436782837, -0.7764999866485596, -0.551800012588501, 0.027899999171495438, -0.6226999759674072, 0.20010000467300415, -0.6927000284194946, -0.4844000041484833, 0.6227999925613403, -0.3903999924659729, 4.593299865722656, 4.269999980926514, 4.091300010681152, 4.051799774169922, 3.851099967956543, 3.791100025177002, 3.7892000675201416, 3.74180006980896, 3.6865999698638916, 3.683799982070923, 3.6619999408721924, 3.6610000133514404, 3.6584999561309814, 3.6403000354766846, 3.6396000385284424, 3.6317999362945557, 3.6229000091552734, 3.6124000549316406, 3.612299919128418, 3.588900089263916, 3.588599920272827, 3.5278000831604004, 3.525099992752075, 3.5215001106262207, 3.514899969100952, 3.512500047683716, 3.5039000511169434, 3.500699996948242, 3.498199939727783, 3.490499973297119, 3.3859000205993652, 3.4237000942230225, 3.326900005340576, 3.3327999114990234, 3.1259000301361084, 2.637200117111206, 2.313800096511841, 2.5483999252319336, 3.0164999961853027, 2.652100086212158, 2.1684999465942383, 2.5973000526428223, 2.4260001182556152, 2.283099889755249, 2.9061999320983887, 1.1793999671936035, 1.1297999620437622, 2.038800001144409, 1.722000002861023, 1.4256000518798828, 1.357100009918213, 1.3115999698638916, 2.97189998626709, 0.3779999911785126, 1.5013999938964844, 0.829800009727478, 1.3193999528884888, 0.6097999811172485, 0.5376999974250793, 1.0776000022888184, 1.1049000024795532, 0.8223999738693237, -0.4832000136375427, 0.060100000351667404, 0.19499999284744263, 0.8964999914169312, 0.10159999877214432, 1.2101000547409058, 4.56220006942749, 4.342299938201904, 4.171000003814697, 4.095900058746338, 4.035900115966797, 3.85260009765625, 3.8436999320983887, 3.82450008392334, 3.8213000297546387, 3.8169000148773193, 3.805500030517578, 3.8036000728607178, 3.796099901199341, 3.786099910736084, 3.7795000076293945, 3.77839994430542, 3.7753000259399414, 3.77239990234375, 3.7683000564575195, 3.764699935913086, 3.750200033187866, 3.7434000968933105, 3.7367000579833984, 3.733599901199341, 3.6854000091552734, 3.664299964904785, 3.6631999015808105, 3.6535000801086426, 3.6484999656677246, 3.648200035095215, 3.5378000736236572, 3.602400064468384, 3.421299934387207, 3.2479000091552734, 3.065700054168701, 3.3622000217437744, 3.0143001079559326, 3.4939000606536865, 2.424799919128418, 1.9980000257492065, 3.2630999088287354, 2.79830002784729, 2.858799934387207, 3.0708999633789062, 2.172800064086914, 3.0088999271392822, 2.541800022125244, 3.0116000175476074, 2.6459999084472656, 1.7226999998092651, 2.3282999992370605, 2.8849000930786133, 1.5882999897003174, 0.9916999936103821, 1.0911999940872192, 1.332200050354004, 1.2520999908447266, 0.8148999810218811, 1.3080999851226807, -0.22660000622272491, -0.41760000586509705, -0.2858000099658966, -0.21439999341964722, 0.18790000677108765, -0.16500000655651093, 0.8361999988555908, 1.021399974822998, 0.5799999833106995, -0.4251999855041504, 0.07599999755620956, 0.09839999675750732, 0.3352000117301941, -0.008500000461935997], \"logprob\": [30.0, 29.0, 28.0, 27.0, 26.0, 25.0, 24.0, 23.0, 22.0, 21.0, 20.0, 19.0, 18.0, 17.0, 16.0, 15.0, 14.0, 13.0, 12.0, 11.0, 10.0, 9.0, 8.0, 7.0, 6.0, 5.0, 4.0, 3.0, 2.0, 1.0, -7.751200199127197, -7.751500129699707, -7.660399913787842, -8.122300148010254, -6.661099910736084, -7.989299774169922, -8.131099700927734, -7.1392998695373535, -8.295000076293945, -8.4798002243042, -8.48330020904541, -8.63640022277832, -7.978400230407715, -6.314799785614014, -8.723999977111816, -8.812000274658203, -6.332399845123291, -6.578100204467773, -8.827300071716309, -7.201399803161621, -8.666999816894531, -6.888899803161621, -7.730100154876709, -7.444300174713135, -8.751999855041504, -8.531700134277344, -8.842900276184082, -9.046500205993652, -9.169099807739258, -9.17039966583252, -5.363399982452393, -8.348199844360352, -8.68120002746582, -6.708099842071533, -7.538599967956543, -6.407400131225586, -8.06309986114502, -6.258299827575684, -7.222599983215332, -7.43310022354126, -7.18779993057251, -7.987800121307373, -6.509200096130371, -7.168300151824951, -8.000399589538574, -6.431600093841553, -7.325200080871582, -4.971499919891357, -5.733099937438965, -6.504300117492676, -5.6757001876831055, -6.379499912261963, -5.4145002365112305, -5.781700134277344, -5.998300075531006, -6.513299942016602, -6.166200160980225, -6.49370002746582, -5.714700222015381, -6.7067999839782715, -5.784800052642822, -6.164100170135498, -5.231500148773193, -5.841899871826172, -5.849599838256836, -5.694699764251709, -5.363500118255615, -5.769899845123291, -5.913700103759766, -5.6082000732421875, -5.691299915313721, -5.7555999755859375, -5.604700088500977, -5.785699844360352, -5.96150016784668, -5.880300045013428, -5.703999996185303, -5.946800231933594, -5.77869987487793, -5.906000137329102, -5.877299785614014, -6.130300045013428, -6.103400230407715, -6.130199909210205, -7.3109002113342285, -8.620699882507324, -8.721500396728516, -8.722999572753906, -8.326899528503418, -8.84749984741211, -8.646599769592285, -8.566499710083008, -8.974599838256836, -8.860699653625488, -8.981100082397461, -8.860199928283691, -8.982500076293945, -8.287099838256836, -9.123200416564941, -8.503899574279785, -9.125200271606445, -9.125200271606445, -8.995400428771973, -9.128899574279785, -8.585000038146973, -9.14229965209961, -9.142399787902832, -8.779199600219727, -8.685799598693848, -9.304699897766113, -9.15410041809082, -9.311800003051758, -9.311699867248535, -9.155400276184082, -6.9390997886657715, -7.5117998123168945, -7.2042999267578125, -5.714600086212158, -8.050200462341309, -5.28439998626709, -6.038099765777588, -6.162300109863281, -6.5640997886657715, -6.936800003051758, -6.822000026702881, -7.619100093841553, -5.807600021362305, -6.361800193786621, -8.263799667358398, -6.714700222015381, -6.879899978637695, -7.469699859619141, -6.051499843597412, -7.365699768066406, -7.298999786376953, -7.018199920654297, -7.695899963378906, -7.047299861907959, -7.113100051879883, -6.100399971008301, -6.782400131225586, -6.202700138092041, -6.779200077056885, -7.122900009155273, -6.785900115966797, -5.86929988861084, -5.5782999992370605, -5.610799789428711, -4.905700206756592, -5.98769998550415, -6.520699977874756, -5.747200012207031, -6.356599807739258, -5.443999767303467, -5.8769001960754395, -5.3815999031066895, -5.905799865722656, -6.250899791717529, -5.5229997634887695, -5.673500061035156, -6.042699813842773, -5.585000038146973, -6.045499801635742, -5.863699913024902, -5.796999931335449, -5.925899982452393, -6.033400058746338, -5.779399871826172, -6.010000228881836, -5.819399833679199, -6.0472002029418945, -6.02370023727417, -6.063000202178955, -7.447299957275391, -5.504000186920166, -4.954899787902832, -7.923099994659424, -6.42110013961792, -7.434500217437744, -4.8471999168396, -7.296500205993652, -8.30090045928955, -7.018400192260742, -8.116600036621094, -8.313599586486816, -8.559800148010254, -4.197400093078613, -7.355299949645996, -6.717800140380859, -6.826700210571289, -8.405500411987305, -8.780200004577637, -7.070300102233887, -4.71589994430542, -6.521500110626221, -5.913700103759766, -8.794699668884277, -6.909299850463867, -5.0528998374938965, -9.06350040435791, -5.269000053405762, -9.087800025939941, -8.387900352478027, -6.003399848937988, -5.54580020904541, -6.665599822998047, -6.250199794769287, -7.129300117492676, -6.733699798583984, -5.634500026702881, -6.439700126647949, -4.834199905395508, -5.553299903869629, -6.403900146484375, -4.449100017547607, -4.855800151824951, -5.38640022277832, -5.443900108337402, -5.272299766540527, -4.947299957275391, -5.061699867248535, -5.583399772644043, -5.18720006942749, -5.792900085449219, -5.113500118255615, -5.727399826049805, -5.458799839019775, -5.478499889373779, -5.4781999588012695, -5.45389986038208, -5.548399925231934, -5.694300174713135, -5.693900108337402, -5.658999919891357, -5.630899906158447, -5.454500198364258, -7.535999774932861, -7.930799961090088, -8.046099662780762, -8.324700355529785, -6.388199806213379, -8.502799987792969, -5.448400020599365, -4.557400226593018, -8.426899909973145, -8.428600311279297, -5.93720006942749, -8.630499839782715, -8.737500190734863, -8.859600067138672, -6.565400123596191, -9.007699966430664, -8.246100425720215, -9.021400451660156, -9.023599624633789, -9.024200439453125, -7.658100128173828, -6.31689977645874, -7.531400203704834, -7.972799777984619, -9.194000244140625, -7.355500221252441, -9.212400436401367, -8.42039966583252, -9.232399940490723, -4.480199813842773, -5.515399932861328, -7.0543999671936035, -7.466400146484375, -6.734300136566162, -5.558599948883057, -4.970799922943115, -6.411200046539307, -5.176599979400635, -6.62060022354126, -5.889900207519531, -6.091400146484375, -6.660399913787842, -7.170599937438965, -6.761000156402588, -7.033699989318848, -6.259399890899658, -5.61329984664917, -5.973899841308594, -5.4045000076293945, -5.2108001708984375, -5.9303998947143555, -5.605800151824951, -5.712699890136719, -6.35699987411499, -6.491300106048584, -5.91510009765625, -5.580399990081787, -6.114099979400635, -5.481200218200684, -5.9182000160217285, -5.92140007019043, -5.533299922943115, -5.883800029754639, -5.571599960327148, -5.901899814605713, -5.931300163269043, -5.7291998863220215, -5.855899810791016, -5.867000102996826, -5.877099990844727, -5.898600101470947, -5.91949987411499, -4.646699905395508, -6.080999851226807, -6.795499801635742, -6.149499893188477, -7.713200092315674, -4.380099773406982, -4.649600028991699, -6.828800201416016, -6.383299827575684, -7.753600120544434, -5.1971001625061035, -7.02269983291626, -8.741000175476074, -6.78380012512207, -7.026299953460693, -8.135000228881836, -8.056500434875488, -7.740799903869629, -8.270400047302246, -6.0721001625061035, -4.094099998474121, -5.996099948883057, -8.305000305175781, -8.32699966430664, -5.405399799346924, -6.927000045776367, -7.953400135040283, -8.754899978637695, -8.563199996948242, -8.51360034942627, -6.713200092315674, -5.589799880981445, -5.89900016784668, -6.271200180053711, -7.468599796295166, -7.441699981689453, -7.109499931335449, -7.468900203704834, -6.735199928283691, -4.668900012969971, -6.3491997718811035, -6.182000160217285, -6.053999900817871, -4.588099956512451, -5.571800231933594, -5.290299892425537, -6.105299949645996, -5.336999893188477, -4.976600170135498, -4.931000232696533, -5.2906999588012695, -5.524099826812744, -5.603000164031982, -5.693900108337402, -5.401400089263916, -5.543700218200684, -5.823500156402588, -5.327600002288818, -5.540200233459473, -5.536600112915039, -5.67110013961792, -5.446899890899658, -5.463500022888184, -5.617000102996826, -5.761199951171875, -5.821100234985352, -8.39330005645752, -8.42140007019043, -8.429100036621094, -7.11359977722168, -7.5218000411987305, -8.18850040435791, -8.312399864196777, -8.072099685668945, -8.506699562072754, -7.823699951171875, -7.850299835205078, -8.029399871826172, -8.409500122070312, -7.26609992980957, -7.185400009155273, -8.413999557495117, -7.412300109863281, -7.748199939727783, -8.428799629211426, -8.592000007629395, -8.594900131225586, -8.469200134277344, -8.627099990844727, -8.618300437927246, -7.932499885559082, -8.711400032043457, -8.04170036315918, -7.598199844360352, -8.388999938964844, -7.989799976348877, -7.285900115966797, -7.690400123596191, -7.5432000160217285, -5.494999885559082, -8.195599555969238, -5.686500072479248, -6.978400230407715, -7.663599967956543, -5.74370002746582, -5.128399848937988, -5.275700092315674, -6.1219000816345215, -5.1143999099731445, -6.122000217437744, -5.397299766540527, -6.7530999183654785, -6.45550012588501, -5.245500087738037, -7.33519983291626, -5.061800003051758, -6.640200138092041, -5.398200035095215, -6.498499870300293, -5.212600231170654, -5.684599876403809, -5.350800037384033, -5.679200172424316, -5.401299953460693, -5.985000133514404, -5.440000057220459, -5.68779993057251, -5.67080020904541, -5.882199764251709, -5.416900157928467, -5.902599811553955, -6.276599884033203, -6.107800006866455, -5.971099853515625, -5.873600006103516, -6.211599826812744, -6.086400032043457, -5.8404998779296875, -6.0731000900268555, -6.008999824523926, -5.875, -5.952099800109863, -6.059899806976318, -6.432799816131592, -7.989799976348877, -6.5690999031066895, -6.668000221252441, -8.090100288391113, -6.901199817657471, -7.7220001220703125, -7.630000114440918, -6.271999835968018, -8.048199653625488, -7.781899929046631, -7.6774001121521, -7.6793999671936035, -7.6981000900268555, -6.577600002288818, -7.983500003814697, -8.128999710083008, -7.877600193023682, -6.6057000160217285, -8.362099647521973, -6.632599830627441, -8.359999656677246, -7.3734002113342285, -8.085399627685547, -8.39799976348877, -8.354599952697754, -8.08650016784668, -8.077799797058105, -8.21049976348877, -8.372099876403809, -7.856299877166748, -6.644700050354004, -7.010499954223633, -6.069799900054932, -5.848499774932861, -5.582399845123291, -7.5467000007629395, -6.600299835205078, -6.617499828338623, -6.684500217437744, -4.792799949645996, -6.619900226593018, -6.3694000244140625, -6.277400016784668, -5.665800094604492, -5.9756999015808105, -6.026599884033203, -6.075200080871582, -5.765100002288818, -7.084000110626221, -6.230100154876709, -6.980800151824951, -7.107399940490723, -5.094600200653076, -6.474400043487549, -5.048500061035156, -6.804299831390381, -5.771100044250488, -5.553800106048584, -5.997900009155273, -5.602499961853027, -5.894599914550781, -5.659900188446045, -5.759399890899658, -6.109300136566162, -6.103499889373779, -5.9019999504089355, -5.982699871063232, -5.986100196838379, -5.945000171661377, -5.878799915313721, -5.956900119781494, -6.0482001304626465, -6.088799953460693, -6.139100074768066, -6.14139986038208, -6.4145002365112305, -7.461699962615967, -7.3856000900268555, -7.665299892425537, -7.656899929046631, -7.737299919128418, -4.854700088500977, -7.739999771118164, -7.927700042724609, -7.7281999588012695, -7.755499839782715, -7.436699867248535, -7.998899936676025, -7.309599876403809, -7.946800231933594, -7.746099948883057, -7.13539981842041, -7.086900234222412, -7.938499927520752, -7.690299987792969, -7.9207000732421875, -7.92609977722168, -7.940000057220459, -7.937699794769287, -7.950200080871582, -8.154399871826172, -7.554699897766113, -7.377600193023682, -7.657100200653076, -8.02239990234375, -6.745699882507324, -6.751999855041504, -5.546999931335449, -5.841899871826172, -7.279200077056885, -5.933199882507324, -6.55810022354126, -7.197999954223633, -6.630499839782715, -6.282400131225586, -5.777500152587891, -6.845200061798096, -6.192699909210205, -7.149499893188477, -6.458799839019775, -6.334099769592285, -6.189199924468994, -5.930500030517578, -5.854400157928467, -5.324399948120117, -5.701900005340576, -5.333099842071533, -6.833399772644043, -5.512499809265137, -6.377699851989746, -5.435299873352051, -6.008200168609619, -5.969799995422363, -5.853300094604492, -5.630300045013428, -5.902100086212158, -5.954500198364258, -5.902699947357178, -5.84499979019165, -5.8907999992370605, -6.117300033569336, -6.01639986038208, -6.072400093078613, -6.125100135803223, -6.191199779510498, -6.194200038909912, -6.2027997970581055, -6.524799823760986, -6.683000087738037, -7.522299766540527, -7.517399787902832, -4.503600120544434, -7.519100189208984, -7.234000205993652, -6.678400039672852, -7.240200042724609, -7.520899772644043, -7.245800018310547, -7.544000148773193, -7.780200004577637, -7.539400100708008, -7.634200096130371, -7.5040998458862305, -7.717400074005127, -5.616399765014648, -7.89769983291626, -7.901400089263916, -7.941299915313721, -7.900899887084961, -7.929699897766113, -7.897500038146973, -7.928999900817871, -7.904399871826172, -7.546800136566162, -7.541500091552734, -6.960000038146973, -7.985000133514404, -7.943900108337402, -4.9394001960754395, -5.2245001792907715, -7.101799964904785, -4.751200199127197, -6.05019998550415, -7.015100002288818, -6.097400188446045, -5.570700168609619, -5.096499919891357, -6.882500171661377, -6.166399955749512, -5.8744001388549805, -6.196400165557861, -6.675300121307373, -6.420100212097168, -7.107699871063232, -6.082300186157227, -5.015900135040283, -5.676300048828125, -5.477399826049805, -5.654900074005127, -5.605100154876709, -6.276299953460693, -5.567999839782715, -5.976399898529053, -5.92710018157959, -5.80649995803833, -6.203999996185303, -5.666399955749512, -5.674499988555908, -5.979700088500977, -5.943699836730957, -5.781199932098389, -5.824900150299072, -5.7484002113342285, -5.952300071716309, -5.959099769592285, -6.009699821472168, -6.046899795532227, -6.047100067138672, -5.628699779510498, -6.385300159454346, -6.920599937438965, -7.137899875640869, -7.201300144195557, -7.486400127410889, -7.525899887084961, -7.165299892425537, -7.434500217437744, -7.815299987792969, -7.073599815368652, -7.334799766540527, -7.8144001960754395, -7.8403000831604, -7.817999839782715, -7.154799938201904, -7.820899963378906, -7.048799991607666, -6.985000133514404, -6.805099964141846, -7.589700222015381, -7.716100215911865, -7.936999797821045, -7.487299919128418, -7.507400035858154, -7.976399898529053, -7.8125, -7.8140997886657715, -7.798900127410889, -6.8907999992370605, -7.200200080871582, -7.3470001220703125, -6.322199821472168, -6.80649995803833, -6.609300136566162, -6.073200225830078, -4.9278998374938965, -6.191999912261963, -6.103899955749512, -6.245800018310547, -4.840400218963623, -4.599400043487549, -4.709400177001953, -5.3292999267578125, -4.7677998542785645, -5.233399868011475, -5.8755998611450195, -4.717800140380859, -5.0578999519348145, -5.780099868774414, -4.835000038146973, -6.0254998207092285, -5.775899887084961, -5.1656999588012695, -5.14870023727417, -6.392000198364258, -5.532100200653076, -5.570000171661377, -5.6545000076293945, -5.878799915313721, -5.668700218200684, -5.357999801635742, -5.952499866485596, -5.7565999031066895, -5.63539981842041, -5.628699779510498, -5.705100059509277, -5.816699981689453, -5.781799793243408, -5.895999908447266, -5.894700050354004, -6.670100212097168, -7.388400077819824, -7.3856000900268555, -6.878699779510498, -6.876999855041504, -6.627699851989746, -7.104000091552734, -7.381199836730957, -5.856800079345703, -7.383399963378906, -7.393700122833252, -7.401800155639648, -7.435999870300293, -7.350599765777588, -6.2104997634887695, -7.55709981918335, -7.798500061035156, -7.455100059509277, -6.9028000831604, -5.855100154876709, -7.3831000328063965, -7.785099983215332, -7.802000045776367, -7.5121002197265625, -6.943999767303467, -6.819300174713135, -7.606299877166748, -7.770500183105469, -7.7754998207092285, -7.798999786376953, -6.7789998054504395, -6.7204999923706055, -7.156899929046631, -6.586699962615967, -7.168900012969971, -7.132400035858154, -5.828800201416016, -5.335999965667725, -5.850100040435791, -5.841000080108643, -4.843599796295166, -5.890999794006348, -5.644999980926514, -5.1869001388549805, -5.653500080108643, -5.14870023727417, -5.596499919891357, -5.8429999351501465, -6.201900005340576, -5.144800186157227, -5.697299957275391, -5.791500091552734, -5.357699871063232, -5.709700107574463, -5.560800075531006, -5.373600006103516, -5.745200157165527, -5.475800037384033, -5.649600028991699, -5.748000144958496, -5.672500133514404, -5.651299953460693, -5.70419979095459, -5.963799953460693, -5.935400009155273, -5.814300060272217, -5.89900016784668, -5.852099895477295, -6.174699783325195, -7.069699764251709, -7.472400188446045, -6.990900039672852, -7.454699993133545, -7.475900173187256, -7.516600131988525, -7.4558000564575195, -7.456600189208984, -7.460299968719482, -7.455599784851074, -7.078499794006348, -7.503799915313721, -7.061600208282471, -7.455100059509277, -5.686800003051758, -7.486000061035156, -8.116100311279297, -8.117400169372559, -8.10669994354248, -7.4369001388549805, -8.117500305175781, -7.453700065612793, -8.11769962310791, -8.111599922180176, -8.128899574279785, -8.11400032043457, -8.117600440979004, -8.116399765014648, -8.124300003051758, -6.831099987030029, -6.597599983215332, -6.774499893188477, -7.136000156402588, -5.542600154876709, -7.255899906158447, -5.3225998878479, -6.556099891662598, -7.489799976348877, -7.52810001373291, -6.712399959564209, -6.629799842834473, -4.434700012207031, -6.402299880981445, -5.698299884796143, -5.6031999588012695, -5.172900199890137, -6.5980000495910645, -5.686600208282471, -6.568900108337402, -5.617599964141846, -5.302999973297119, -5.091700077056885, -5.161799907684326, -5.645199775695801, -5.56820011138916, -5.542500019073486, -5.421899795532227, -6.139900207519531, -5.671800136566162, -5.625999927520752, -5.294899940490723, -5.746500015258789, -5.642300128936768, -5.855000019073486, -6.202099800109863, -6.105599880218506, -5.543300151824951, -5.7769999504089355, -5.672599792480469, -5.619999885559082, -5.790800094604492, -5.858399868011475, -5.700200080871582, -5.763299942016602, -5.762400150299072, -5.851500034332275, -6.933499813079834, -6.244500160217285, -6.958399772644043, -6.0690999031066895, -6.245200157165527, -6.92579984664917, -6.921899795532227, -6.933000087738037, -6.934000015258789, -6.92519998550415, -6.927000045776367, -6.92549991607666, -6.53980016708374, -6.922399997711182, -6.93149995803833, -6.968699932098389, -6.921500205993652, -6.158699989318848, -6.924200057983398, -6.9791998863220215, -7.021200180053711, -6.922100067138672, -6.996099948883057, -6.455599784851074, -6.945899963378906, -6.9243998527526855, -7.5868000984191895, -7.580599784851074, -7.601799964904785, -7.583700180053711, -7.017499923706055, -6.920000076293945, -5.9471001625061035, -6.481900215148926, -5.559899806976318, -6.554699897766113, -6.241799831390381, -5.839900016784668, -5.838699817657471, -5.260499954223633, -5.3480000495910645, -5.499800205230713, -5.9847002029418945, -6.127900123596191, -6.241600036621094, -5.362100124359131, -6.287300109863281, -5.646100044250488, -5.710700035095215, -6.531700134277344, -5.883999824523926, -5.985499858856201, -6.0543999671936035, -6.429299831390381, -5.831900119781494, -5.757999897003174, -5.959799766540527, -6.107500076293945, -6.221499919891357, -5.986800193786621, -6.025400161743164, -6.095200061798096, -6.098100185394287, -6.169099807739258, -6.140200138092041, -6.175300121307373, -6.208399772644043, -6.205399990081787, -6.166399955749512, -6.5177001953125, -6.740200042724609, -6.582200050354004, -7.178999900817871, -7.182799816131592, -7.180799961090088, -7.2129998207092285, -7.306000232696533, -7.180200099945068, -7.1774001121521, -7.178500175476074, -7.177599906921387, -6.55079984664917, -7.177700042724609, -7.183000087738037, -7.1793999671936035, -7.184299945831299, -7.184899806976318, -6.515900135040283, -7.43720006942749, -7.180699825286865, -7.179699897766113, -7.177999973297119, -7.183800220489502, -7.178100109100342, -7.178999900817871, -7.177999973297119, -7.183199882507324, -6.627900123596191, -4.731800079345703, -6.263599872589111, -6.0055999755859375, -6.207099914550781, -5.792799949645996, -5.446700096130371, -5.151400089263916, -5.6184000968933105, -6.513000011444092, -6.118899822235107, -5.593500137329102, -6.1209001541137695, -5.991199970245361, -5.887599945068359, -6.515699863433838, -5.055500030517578, -5.0142998695373535, -5.835400104522705, -5.582799911499023, -5.420400142669678, -5.418700218200684, -5.453000068664551, -6.608099937438965, -5.097400188446045, -5.80810022354126, -5.597599983215332, -5.807199954986572, -5.665800094604492, -5.6732001304626465, -5.8267998695373535, -5.86870002746582, -5.8180999755859375, -5.693600177764893, -5.769999980926514, -5.805099964141846, -5.956200122833252, -5.929699897766113, -6.005499839782715, -6.557000160217285, -6.7027997970581055, -6.541600227355957, -6.534200191497803, -6.799900054931641, -7.200699806213379, -6.153600215911865, -7.1981000900268555, -7.219200134277344, -7.198599815368652, -7.200200080871582, -6.792200088500977, -7.1992998123168945, -7.207600116729736, -7.213600158691406, -7.2017998695373535, -7.200099945068359, -7.202700138092041, -7.200399875640869, -7.21150016784668, -7.216100215911865, -7.240900039672852, -6.623300075531006, -7.253799915313721, -7.273499965667725, -7.307000160217285, -7.198200225830078, -7.19789981842041, -7.201499938964844, -7.310500144958496, -6.171199798583984, -6.858699798583984, -6.066199779510498, -5.493199825286865, -5.52239990234375, -6.559000015258789, -6.176700115203857, -6.903900146484375, -5.562699794769287, -5.050099849700928, -6.615799903869629, -6.07289981842041, -6.2322001457214355, -6.537700176239014, -5.744200229644775, -6.535200119018555, -6.138400077819824, -6.561999797821045, -6.2758002281188965, -5.818900108337402, -6.229700088500977, -6.594099998474121, -5.85290002822876, -5.679999828338623, -5.733699798583984, -5.8709001541137695, -5.99429988861084, -5.866600036621094, -6.046899795532227, -5.674099922180176, -5.627999782562256, -5.670199871063232, -5.688000202178955, -5.810200214385986, -5.855999946594238, -6.065199851989746, -6.117400169372559, -6.095300197601318, -6.0447998046875, -6.0802001953125, -6.0995001792907715, -6.105999946594238, -6.117599964141846]}, \"token.table\": {\"Topic\": [3, 5, 6, 1, 2, 3, 4, 6, 7, 8, 9, 15, 1, 3, 5, 6, 2, 1, 6, 9, 12, 13, 14, 3, 7, 9, 1, 12, 1, 2, 14, 1, 2, 3, 4, 5, 6, 7, 8, 9, 10, 12, 15, 4, 5, 6, 14, 1, 2, 3, 4, 5, 6, 7, 8, 9, 10, 11, 13, 14, 3, 4, 14, 6, 7, 8, 15, 6, 7, 8, 2, 4, 1, 3, 4, 5, 7, 11, 3, 5, 12, 14, 1, 2, 6, 8, 2, 3, 13, 2, 8, 15, 1, 1, 2, 4, 10, 1, 2, 4, 6, 1, 2, 5, 6, 8, 14, 1, 2, 3, 4, 5, 6, 7, 8, 9, 10, 11, 12, 13, 15, 1, 4, 11, 4, 2, 2, 8, 10, 12, 1, 2, 3, 4, 5, 6, 7, 8, 9, 10, 11, 12, 15, 2, 4, 9, 12, 2, 7, 13, 1, 3, 8, 9, 1, 2, 6, 1, 2, 3, 4, 5, 6, 8, 12, 14, 1, 2, 3, 6, 11, 13, 6, 1, 2, 7, 13, 1, 7, 9, 1, 2, 3, 9, 10, 1, 2, 3, 4, 5, 6, 7, 8, 9, 10, 15, 1, 7, 15, 1, 2, 3, 4, 5, 6, 7, 8, 9, 10, 11, 12, 13, 14, 15, 1, 3, 7, 12, 1, 4, 10, 11, 3, 4, 1, 2, 6, 7, 9, 1, 3, 5, 10, 11, 12, 1, 3, 4, 11, 3, 4, 10, 1, 2, 6, 7, 8, 4, 8, 13, 14, 1, 3, 6, 1, 2, 3, 4, 5, 6, 7, 8, 9, 10, 11, 13, 1, 3, 4, 5, 6, 7, 8, 6, 7, 8, 2, 8, 11, 13, 2, 6, 8, 11, 13, 2, 1, 4, 5, 8, 9, 4, 5, 1, 2, 12, 1, 7, 1, 2, 3, 4, 5, 6, 7, 8, 9, 10, 11, 12, 13, 14, 15, 1, 2, 7, 9, 13, 1, 8, 1, 4, 5, 8, 1, 2, 3, 5, 6, 7, 8, 9, 12, 13, 15, 4, 11, 2, 7, 1, 2, 13, 2, 4, 9, 1, 2, 3, 4, 5, 6, 7, 8, 10, 11, 1, 3, 4, 10, 1, 2, 3, 6, 7, 1, 2, 3, 4, 5, 6, 7, 8, 9, 10, 11, 12, 13, 15, 4, 5, 2, 1, 2, 3, 4, 6, 7, 8, 11, 13, 1, 6, 7, 14, 15, 3, 4, 5, 1, 2, 3, 7, 10, 13, 1, 2, 6, 7, 9, 11, 1, 12, 1, 9, 1, 2, 7, 12, 14, 1, 2, 6, 7, 8, 9, 11, 1, 1, 3, 4, 12, 1, 3, 5, 6, 8, 12, 13, 1, 2, 3, 4, 5, 6, 7, 8, 9, 10, 11, 12, 13, 3, 5, 10, 1, 2, 7, 12, 2, 5, 6, 8, 15, 5, 6, 12, 1, 1, 2, 5, 8, 1, 5, 10, 12, 13, 1, 4, 5, 8, 10, 1, 1, 2, 3, 4, 5, 6, 7, 8, 9, 10, 11, 12, 13, 1, 2, 3, 4, 5, 6, 7, 8, 9, 10, 11, 12, 14, 1, 2, 7, 9, 1, 7, 8, 14, 2, 3, 5, 7, 12, 1, 10, 11, 12, 3, 4, 5, 6, 8, 3, 5, 8, 14, 1, 1, 6, 12, 1, 2, 3, 4, 5, 6, 7, 8, 9, 10, 11, 12, 13, 2, 8, 13, 2, 6, 7, 10, 5, 9, 1, 2, 3, 4, 5, 6, 7, 9, 11, 3, 4, 5, 6, 10, 11, 12, 1, 2, 3, 4, 5, 8, 1, 2, 6, 7, 3, 4, 1, 2, 3, 4, 5, 6, 7, 8, 10, 11, 1, 2, 6, 13, 2, 6, 8, 13, 1, 3, 10, 3, 5, 10, 3, 7, 13, 4, 5, 8, 9, 1, 2, 3, 4, 5, 7, 8, 10, 4, 1, 2, 3, 4, 5, 6, 7, 8, 9, 10, 11, 12, 13, 14, 15, 1, 2, 3, 4, 5, 6, 8, 9, 10, 11, 12, 14, 2, 3, 4, 9, 1, 2, 3, 6, 8, 10, 12, 3, 4, 10, 13, 15, 2, 11, 13, 2, 4, 11, 1, 4, 9, 3, 5, 7, 15, 1, 5, 7, 9, 5, 6, 1, 2, 15, 2, 3, 4, 15, 1, 4, 5, 7, 10, 1, 4, 7, 8, 13, 2, 5, 1, 2, 7, 8, 15, 1, 2, 3, 4, 5, 9, 11, 12, 1, 2, 3, 4, 5, 6, 7, 8, 9, 10, 11, 1, 2, 3, 4, 5, 6, 7, 8, 9, 10, 11, 12, 13, 14, 15, 3, 2, 6, 1, 2, 6, 7, 1, 2, 6, 7, 8, 9, 13, 2, 6, 11, 1, 2, 6, 8, 9, 14, 4, 1, 2, 3, 6, 7, 12, 13, 4, 5, 8, 1, 2, 3, 4, 5, 6, 7, 8, 9, 10, 11, 12, 3, 4, 5, 12, 14, 3, 4, 1, 2, 6, 7, 8, 12, 13, 1, 2, 3, 4, 5, 6, 7, 8, 9, 10, 11, 12, 13, 14, 15, 1, 2, 3, 4, 5, 6, 7, 8, 10, 11, 12, 14, 1, 2, 3, 4, 5, 6, 7, 9, 11, 12, 14, 3, 4, 5, 6, 12, 6, 9, 2, 1, 7, 8, 1, 2, 3, 4, 5, 6, 7, 8, 10, 11, 12, 13, 3, 4, 2, 8, 13, 2, 4, 1, 4, 6, 11, 1, 4, 8, 9, 1, 2, 7, 8, 9, 1, 2, 3, 4, 6, 7, 8, 9, 13, 15, 1, 8, 13, 15, 8, 9, 3, 4, 5, 5, 8, 11, 1, 1, 6, 9, 10, 12, 2, 4, 7, 9, 1, 2, 7, 11, 1, 2, 8, 9, 11, 2, 6, 8, 9, 13, 15, 1, 4, 8, 11, 14, 3, 5, 6, 9, 13, 6, 8, 12, 15, 4, 10, 12, 13, 14, 6, 8, 1, 2, 3, 10, 1, 2, 14, 3, 10, 11, 1, 2, 3, 4, 5, 6, 7, 8, 9, 10, 11, 12, 13, 15, 1, 2, 3, 4, 5, 6, 7, 8, 9, 10, 11, 12, 13, 15, 1, 2, 3, 6, 7, 8, 11, 2, 3, 4, 12, 15, 1, 2, 3, 4, 5, 6, 7, 8, 9, 10, 11, 12, 13, 1, 2, 3, 4, 5, 6, 7, 8, 9, 12, 4, 1, 3, 4, 5, 6, 7, 14, 1, 2, 3, 4, 5, 7, 1, 2, 4, 5, 6, 15, 1, 2, 3, 4, 5, 6, 7, 8, 10, 1, 2, 7, 8, 9, 15, 1, 3, 4, 5, 6, 10, 11, 3, 10, 1, 2, 6, 7, 11, 1, 9, 1, 3, 4, 5, 6, 8, 10, 11, 12, 3, 4, 1, 2, 9, 13, 2, 13, 3, 4, 5, 9, 14, 1, 2, 3, 4, 5, 6, 7, 8, 9, 10, 11, 12, 15, 1, 2, 3, 4, 6, 7, 8, 9, 11, 13, 15, 1, 4, 13, 14, 2, 3, 9, 15, 2, 7, 11, 13, 1, 8, 9, 15, 4, 4, 3, 11, 12, 4, 6, 4, 1, 1, 5, 6, 7, 1, 1, 1, 2, 6, 7, 8, 9, 13, 1, 2, 3, 4, 5, 6, 7, 8, 9, 10, 11, 1, 2, 3, 4, 5, 6, 7, 12, 13, 2, 8, 1, 2, 7, 8, 13, 2, 7, 1, 2, 7, 1, 8, 9, 1, 2, 3, 4, 5, 6, 7, 8, 9, 10, 11, 12, 13, 15, 1, 2, 4, 5, 6, 7, 8, 1, 2, 9, 12, 1, 2, 3, 4, 5, 6, 8, 9, 11, 12, 2, 7, 15, 1, 2, 3, 4, 5, 7, 11, 14, 1, 4, 5, 11, 14, 2, 6, 12, 1, 3, 4, 11, 3, 10, 11, 2, 5, 6, 8, 13, 2, 1, 3, 8, 1, 2, 3, 4, 5, 6, 7, 8, 9, 10, 11, 12, 13, 15, 2, 6, 15, 1, 2, 3, 4, 5, 6, 7, 8, 9, 10, 11, 12, 13, 1, 2, 12, 13, 1, 2, 3, 4, 5, 6, 7, 8, 9, 10, 11, 12, 13, 14, 15, 1, 3, 4, 5, 6, 7, 9, 10, 12, 13, 14, 1, 2, 3, 4, 5, 6, 7, 8, 9, 10, 11, 12, 15, 1, 2, 6, 7, 1, 2, 3, 4, 5, 6, 7, 8, 9, 10, 11, 12, 13, 14, 15, 4, 6, 7, 9, 11, 12, 1, 2, 3, 4, 5, 6, 7, 8, 9, 10, 11, 12, 13, 14, 1, 6, 8, 11, 1, 2, 3, 4, 5, 6, 7, 8, 9, 11, 12, 13, 1, 6, 9, 1, 2, 3, 4, 5, 6, 7, 8, 9, 10, 11, 12, 13, 14, 15, 1, 2, 3, 4, 5, 6, 7, 8, 9, 10, 11, 12, 14, 4, 7, 9, 1, 2, 3, 4, 5, 6, 7, 8, 9, 10, 11, 12, 13, 14, 3, 4, 5, 1, 12, 2, 6, 2, 8, 6, 8, 10, 13, 1, 2, 4, 7, 8, 15, 4, 5, 6, 8, 1, 6, 11, 3, 5, 4, 5, 8, 1, 2, 3, 4, 5, 6, 8, 9, 12, 14, 1, 2, 3, 4, 5, 6, 7, 8, 9, 10, 11, 12, 13, 14, 15, 3, 4, 14, 2, 6, 7, 2, 7, 9, 1, 2, 6, 8, 9, 11, 15, 2, 6, 7, 8, 9, 1, 2, 3, 4, 5, 6, 10, 11, 12, 1, 2, 6, 7, 8, 9, 11, 13, 1, 2, 3, 4, 5, 6, 7, 8, 9, 10, 11, 15, 1, 7, 4, 6, 7, 9, 14, 1, 3, 6, 12, 7, 8, 12, 7, 1, 2, 3, 4, 5, 6, 7, 8, 10, 11, 13, 4, 5, 8, 1, 2, 12, 1, 2, 5, 6, 12, 1, 2, 4, 5, 6, 12, 15, 1, 2, 3, 4, 5, 6, 8, 9, 10, 13, 14, 1, 2, 6, 7, 1, 2, 3, 4, 5, 6, 7, 8, 9, 10, 11, 12, 14, 2, 6, 13, 1, 2, 3, 4, 5, 6, 7, 8, 9, 11, 13, 3, 5, 10, 11, 1, 2, 3, 4, 5, 6, 7, 8, 9, 10, 11, 12, 13, 14, 15, 4, 5, 8, 1, 2, 4, 6, 7, 8, 11, 1, 2, 4, 6, 7, 9, 10, 11, 3, 10, 1, 7, 9, 12, 1, 2, 3, 4, 5, 6, 7, 8, 9, 10, 11, 12, 13, 14, 1, 2, 3, 5, 7, 11, 2, 1, 7, 13, 1, 3, 4, 9, 10, 11, 1, 2, 8, 9, 1, 10, 2, 1, 2, 3, 4, 5, 6, 7, 8, 9, 11, 12, 1, 2, 3, 4, 5, 6, 7, 8, 9, 10, 11, 12, 13, 14, 1, 2, 3, 4, 5, 6, 7, 8, 9, 11, 12, 1, 2, 3, 4, 5, 6, 7, 8, 9, 10, 11, 12, 14, 15, 1, 2, 3, 4, 5, 6, 7, 8, 9, 10, 11, 12, 13, 14, 5, 7, 5, 6, 12, 1, 3, 9, 12, 2, 15, 2, 3, 10, 2, 5, 6, 10, 1, 2, 3, 4, 5, 6, 10, 11, 3, 4, 5, 10, 11, 1, 2, 3, 4, 5, 6, 7, 8, 9, 10, 11, 12, 13, 14, 3, 1, 2, 3, 4, 5, 6, 7, 8, 9, 10, 11, 12, 13, 14, 15, 3, 4, 5, 8, 10, 6, 1, 2, 3, 4, 5, 6, 7, 8, 9, 10, 11, 12, 13, 14, 15, 1, 2, 3, 4, 5, 6, 7, 8, 9, 10, 11, 12, 13, 14, 15, 1, 2, 6, 8, 2, 6, 8, 9, 15, 1, 3, 10, 12, 4, 5, 8, 3, 4, 5, 10, 11, 12, 1, 2, 3, 4, 5, 6, 9, 10, 1, 2, 3, 4, 5, 7, 15, 2, 1, 2, 3, 4, 5, 6, 7, 8, 9, 10, 11, 12, 6, 7, 1, 2, 3, 4, 5, 6, 7, 8, 9, 10, 11, 12, 13, 14, 4, 5, 10, 14, 1, 2, 6, 7, 8, 9, 11, 13, 1, 5, 1, 2, 7, 8, 9, 6, 8, 1, 2, 3, 5, 8, 10, 12, 3, 4, 5, 7, 8, 9, 10, 11, 12, 14, 1, 6, 8, 13, 1, 2, 6, 12, 1, 7, 2, 4, 6, 15, 1, 12, 14, 1, 2, 3, 4, 5, 6, 7, 8, 10, 1, 6, 7, 9, 10, 11, 1, 2, 3, 4, 5, 8, 13, 2, 6, 12, 15, 6, 9, 10, 5, 11, 1, 2, 4, 6, 12, 14, 1, 8, 13, 3, 10, 2, 6, 7, 1, 2, 3, 4, 5, 6, 8, 9, 10, 12, 1, 6, 12, 2, 1, 2, 7, 9, 13, 4, 3, 4, 5, 1, 2, 3, 4, 5, 6, 7, 8, 9, 10, 11, 12, 2, 9, 4, 5, 5, 10, 12, 2, 6, 7, 5, 1, 2, 3, 4, 5, 6, 7, 8, 9, 14, 1, 2, 3, 4, 5, 6, 7, 8, 9, 10, 11, 12, 13, 14, 1, 3, 11, 1, 2, 4, 6, 7, 8, 9, 12, 1, 2, 8, 12, 1, 2, 3, 4, 5, 6, 7, 8, 9, 10, 11, 12, 13, 1, 3, 4, 5, 6, 10, 11, 3, 10, 1, 2, 3, 4, 5, 6, 7, 8, 9, 10, 11, 12, 13, 14, 15, 1, 2, 3, 4, 6, 7, 9, 13, 1, 2, 3, 5, 6, 7, 8, 9, 14, 1, 2, 3, 4, 5, 6, 7, 8, 9, 10, 11, 12, 13, 14, 15, 3, 1, 2, 3, 4, 5, 6, 7, 8, 10, 11, 12, 13, 1, 2, 6, 7, 8, 13, 1, 7, 12, 13, 6, 7, 12, 1, 2, 3, 4, 5, 6, 7, 8, 9, 10, 11, 12, 13, 1, 6, 10, 1, 2, 13, 1, 4, 6, 8, 10, 2, 7, 9, 13, 1, 2, 3, 4, 6, 7, 8, 9, 11, 15, 1, 2, 3, 4, 5, 6, 7, 8, 9, 10, 11, 12, 1, 2, 3, 4, 5, 6, 7, 8, 9, 10, 12, 13, 14, 2, 3, 7, 11, 15, 1, 2, 2, 7, 15, 1, 2, 3, 4, 5, 6, 7, 8, 9, 10, 11, 12, 13, 14, 1, 2, 3, 4, 5, 6, 7, 8, 9, 10, 11, 13, 1, 14, 1, 2, 3, 4, 5, 6, 7, 8, 9, 10, 11, 12, 13, 15, 1, 2, 3, 4, 5, 6, 7, 8, 10, 11, 15, 1, 2, 3, 4, 6, 7, 9, 10, 13, 1, 2, 3, 4, 5, 6, 7, 8, 9, 10, 11, 12, 13, 14, 15, 1, 2, 3, 4, 5, 6, 7, 8, 9, 10, 11, 12, 13, 14, 1, 4, 5, 8, 9, 1, 2, 4, 6, 7, 9, 11, 12, 13, 14, 1, 2, 1, 2, 4, 5, 7, 12, 1, 2, 3, 4, 5, 6, 7, 8, 9, 10, 11, 12, 13, 14, 15, 4, 5, 8, 3, 1, 2, 3, 4, 5, 6, 7, 8, 9, 10, 11, 12, 13, 14, 15, 1, 2, 3, 4, 5, 6, 7, 8, 9, 10, 11, 12, 13, 14, 15, 1, 2, 3, 4, 5, 6, 7, 8, 9, 10, 11, 12, 14, 1, 2, 3, 4, 5, 6, 7, 10, 11, 12, 1, 7, 9, 4, 5, 8, 4, 5, 1, 2, 3, 4, 5, 6, 7, 9, 11, 7, 8, 9, 1, 6, 7, 8, 12, 1, 2, 3, 4, 7, 9, 11, 4, 5, 8, 1, 1, 2, 3, 6, 7, 8, 9, 10, 12, 1, 2, 6, 7, 9, 11, 13, 15, 2, 7, 11, 4, 3, 4, 5, 7, 9, 1, 2, 7, 2, 6, 8, 2, 15, 1, 2, 3, 4, 5, 6, 7, 8, 9, 10, 11, 12, 13, 1, 6, 3, 10, 11, 1, 2, 6, 1, 3, 4, 1, 3, 4, 5, 7, 2, 6, 7, 11, 1, 2, 3, 4, 5, 6, 7, 8, 10, 12, 3, 4, 5, 10, 11, 1, 2, 4, 5, 6, 7, 8, 9, 10, 12, 1, 6, 10, 13, 1, 2, 3, 4, 5, 6, 7, 8, 9, 12, 14, 1, 2, 6, 8, 9, 13, 15, 2, 9, 1, 2, 5, 6, 7, 8, 9, 11, 12, 4, 5, 8, 2, 7, 8, 13, 1, 3, 4, 5, 3, 4, 1, 2, 6, 7, 8, 13, 1, 11, 12, 5, 12, 1, 12, 14, 1, 5, 1, 2, 3, 4, 5, 6, 7, 8, 9, 10, 11, 12, 13, 15, 1, 5, 8, 9, 1, 2, 3, 4, 5, 6, 10, 1, 2, 3, 4, 5, 6, 7, 8, 9, 10, 11, 12, 13, 1, 6, 8, 1, 1, 2, 7, 1, 2, 3, 4, 5, 6, 7, 8, 9, 10, 11, 12, 13, 1, 2, 6, 7, 9, 5, 10, 1, 2, 6, 7, 8, 9, 12, 13, 15, 1, 7, 8, 1, 2, 3, 4, 5, 6, 7, 8, 9, 10, 11, 12, 14, 15, 4, 6, 3, 4, 8, 1, 2, 3, 4, 5, 10, 11, 1, 7, 11, 2, 3, 13, 2, 5, 10, 11, 1, 2, 8, 11, 1, 8, 11, 13, 1, 2, 3, 4, 5, 6, 7, 8, 9, 10, 11, 12, 15, 1, 2, 7, 8, 1, 2, 3, 4, 5, 6, 7, 8, 9, 10, 11, 15, 2, 4, 5, 8, 1, 2, 3, 4, 5, 6, 7, 8, 9, 10, 11, 12, 14, 15, 1, 2, 3, 4, 5, 6, 7, 8, 9, 10, 11, 12, 13, 2, 7, 11, 1, 7, 13, 3, 7, 9, 5, 3, 4, 5, 12, 2, 9, 2, 7, 1, 2, 6, 7, 2, 15, 1, 4, 5, 1, 2, 3, 4, 5, 6, 7, 8, 9, 10, 11, 12, 15, 1, 2, 3, 4, 5, 6, 7, 8, 9, 10, 11, 12, 13, 14, 2, 7, 2, 7, 8, 9, 3, 4, 4, 1, 2, 11, 1, 2, 3, 4, 5, 6, 7, 8, 9, 10, 12, 1, 2, 4, 13, 15, 1, 6, 9, 15, 1, 7, 8, 1, 2, 3, 4, 5, 6, 7, 8, 9, 11, 12, 13, 1, 2, 3, 4, 5, 6, 7, 10, 11, 1, 2, 6, 7, 9, 13, 1, 8, 13, 3, 1, 2, 6, 7, 9, 11, 13, 1, 2, 6, 7, 9, 6, 8, 11, 15, 2, 6, 7, 8, 9, 13, 15, 4, 5, 7, 1, 2, 3, 6, 7, 10, 15, 2, 6, 7, 8, 9, 13, 1, 2, 3, 4, 5, 6, 7, 8, 9, 10, 11, 12, 13, 14, 2, 3, 5, 10, 3, 10, 11, 12, 1, 2, 7, 12, 2, 7, 12, 1, 9, 11, 13, 2, 6, 4, 5, 1, 2, 3, 4, 6, 7, 8, 9, 11, 14, 15, 1, 2, 3, 4, 7, 8, 9, 2, 7, 2, 1, 12, 13, 1, 2, 3, 4, 5, 6, 7, 8, 9, 10, 11, 12, 13, 2, 1, 2, 3, 4, 5, 6, 7, 8, 9, 10, 11, 12, 13, 2, 8, 14, 2, 7, 10, 1, 2, 6, 11, 1, 6, 1, 2, 3, 4, 5, 6, 7, 8, 9, 10, 11, 12, 15, 2, 9, 10, 12, 15, 1, 2, 3, 4, 5, 6, 9, 10, 12, 14, 1, 2, 3, 4, 5, 6, 7, 8, 9, 10, 11, 12, 13, 15, 1, 3, 4, 8, 14, 1, 2, 3, 4, 5, 6, 7, 8, 9, 10, 11, 13, 15, 1, 2, 6, 7, 2, 6, 10, 1, 2, 3, 8, 1, 2, 3, 4, 5, 6, 9, 12, 2, 8, 15, 3, 7, 10, 11, 1, 2, 3, 4, 5, 8, 2, 11, 2, 6, 9, 10, 1, 2, 3, 8, 9, 1, 2, 5, 6, 7, 8, 9, 11, 15, 1, 2, 6, 7, 8, 9, 15, 1, 2, 9, 11, 1, 2, 7, 9, 2, 4, 6, 9, 1, 2, 7, 8, 13, 2, 7, 1, 2, 9, 3, 11, 12, 2, 9, 13, 2, 12, 1, 2, 3, 4, 5, 6, 7, 8, 9, 10, 11, 12, 13, 15, 4, 2, 5, 7, 10, 1, 4, 8, 10, 12, 1, 2, 6, 12, 1, 4, 5, 8, 3, 6, 15, 1, 3, 6, 12, 1, 4, 10, 15, 1, 6, 15, 2, 1, 2, 3, 4, 5, 6, 7, 8, 9, 10, 11, 14, 1, 2, 8, 15, 1, 2, 3, 8, 2, 4, 11, 14, 1, 2, 3, 4, 6, 10, 11, 2, 8, 2, 8, 9, 13, 15, 1, 3, 6, 10, 2, 4, 8, 14, 3, 1, 2, 10, 11, 1, 2, 6, 9, 10, 12, 1, 3, 4, 5, 9, 1, 2, 6, 7, 9, 10, 12, 14, 1, 2, 6, 7, 8, 10, 11, 1, 2, 3, 4, 5, 6, 7, 8, 9, 10, 11, 12, 13, 15, 1, 6, 2, 7, 1, 2, 4, 6, 8, 9, 12, 1, 2, 3, 4, 5, 6, 7, 8, 9, 10, 11, 12, 13, 15, 1, 3, 13, 1, 2, 6, 7, 8, 9, 1, 3, 6, 7, 8, 12, 13, 2, 7, 10, 1, 2, 3, 6, 7, 8, 9, 12, 14, 4, 6, 8, 2, 3, 8, 12, 3, 4, 5, 9, 10, 1, 2, 3, 4, 5, 6, 7, 8, 9, 10, 11, 12, 13, 15, 1, 2, 3, 4, 5, 6, 7, 8, 11, 12, 15, 1, 1, 2, 5, 6, 7, 9, 1, 7, 12, 3, 5, 9, 10, 14, 4, 5, 7, 15, 1, 2, 3, 5, 6, 7, 9, 10, 11, 12, 1, 4, 6, 9, 11, 1, 2, 3, 4, 5, 6, 8, 10, 12, 15, 1, 2, 3, 4, 5, 6, 7, 8, 10, 11, 13, 14, 3, 11, 2, 6, 7, 8, 1, 2, 3, 4, 5, 6, 7, 8, 9, 10, 11, 12, 14, 4, 6, 9, 1, 2, 4, 5, 6, 8, 9, 12, 14, 1, 7, 2, 12, 13, 1, 14, 1, 2, 4, 10, 1, 2, 3, 4, 5, 6, 7, 9, 10, 12, 13, 15, 1, 2, 3, 4, 5, 6, 7, 8, 9, 10, 11, 12, 1, 2, 3, 4, 5, 6, 8, 9, 10, 12, 14, 1, 5, 11, 14, 1, 2, 4, 5, 6, 10, 14, 15, 6, 2, 2, 1, 4, 6, 7, 15, 3, 1, 3, 4, 10, 11, 13, 2, 11, 1, 2, 3, 4, 5, 6, 7, 8, 9, 10, 11, 12, 13, 15, 1, 2, 7, 2, 7, 4, 1, 2, 3, 4, 5, 6, 7, 8, 10, 11, 12, 1, 2, 3, 4, 5, 6, 7, 8, 9, 10, 11, 12, 13, 14, 15, 1, 2, 3, 4, 5, 6, 7, 8, 9, 10, 11, 12, 1, 2, 7, 10, 1, 2, 3, 4, 5, 6, 7, 8, 9, 10, 11, 13, 1, 2, 3, 6, 7, 8, 14, 2, 1, 2, 3, 4, 5, 6, 7, 8, 9, 10, 11, 12, 13, 1, 2, 4, 5, 6, 7, 8, 9, 10, 12, 1, 2, 1, 1, 2, 3, 4, 5, 6, 7, 8, 9, 12, 13, 3, 7, 13, 1, 6, 7, 12, 1, 2, 3, 4, 5, 6, 7, 8, 9, 11, 12, 14, 1, 2, 3, 4, 12, 13, 5, 8, 1, 2, 3, 4, 6, 7, 9, 10, 6, 8, 1, 2, 3, 5, 8, 11, 13, 1, 2, 3, 4, 5, 6, 7, 8, 9, 10, 11, 12, 13, 14, 1, 2, 10, 12, 1, 2, 3, 4, 5, 6, 7, 8, 15, 3, 5, 10, 3, 3, 11, 1, 2, 6, 7, 10, 12, 6, 9, 11, 1, 9, 11, 1, 9, 13, 1, 2, 3, 4, 5, 8, 9, 10, 1, 3, 5, 10, 11, 3, 4, 12, 1, 2, 3, 6, 7, 8, 9, 11, 15, 1, 2, 3, 4, 5, 6, 7, 8, 9, 10, 11, 12, 13, 15, 1, 2, 3, 6, 1, 2, 6, 1, 2, 3, 4, 5, 6, 7, 8, 9, 10, 11, 12, 13, 14, 15, 1, 2, 3, 4, 5, 6, 7, 8, 9, 10, 11, 12, 13, 14, 15, 1, 2, 6, 12, 14, 1, 2, 3, 4, 5, 6, 7, 8, 9, 10, 11, 12, 13, 14, 15, 1, 2, 3, 4, 5, 6, 7, 8, 9, 10, 11, 12, 14, 1, 13, 1, 2, 5, 7, 12, 14, 1, 2, 3, 4, 5, 6, 7, 8, 9, 10, 11, 12, 13, 15, 1, 9, 15, 1, 2, 3, 4, 5, 6, 7, 8, 9, 10, 11, 12, 13, 15, 1, 2, 3, 4, 5, 6, 7, 8, 9, 10, 11, 12, 14, 15, 1, 2, 4, 11, 12, 15, 1, 2, 5, 14, 15, 3, 6, 7, 1, 8, 10, 2, 1, 4, 7, 1, 2, 4, 10, 1, 2, 3, 4, 5, 6, 7, 8, 9, 10, 11, 12, 13, 14, 15, 1, 2, 7, 8, 3, 1, 2, 3, 4, 5, 6, 7, 8, 9, 10, 11, 12, 5, 6, 10, 13, 1, 4, 12, 14, 4, 3, 4, 6, 12, 14, 6, 11, 3, 4, 6, 14, 1, 7, 10, 12, 4, 2, 6, 1, 2, 7, 9, 13, 1, 3, 4, 6, 7, 11, 12, 13, 1, 2, 6, 7, 8, 12, 1, 5, 12, 13, 2, 6, 8, 1, 2, 6, 7, 11, 2, 1, 2, 8, 12, 15, 1, 2, 3, 4, 5, 6, 7, 8, 9, 10, 11, 12, 13, 15, 1, 2, 3, 4, 15, 1, 2, 7, 9, 13, 2, 6, 7, 1, 2, 3, 4, 5, 6, 7, 8, 9, 10, 11, 12, 14, 15, 1, 2, 3, 4, 5, 6, 7, 8, 9, 10, 11, 12, 13, 14, 15, 1, 2, 3, 4, 5, 6, 7, 8, 9, 10, 11, 12, 13, 14, 1, 3, 4, 5, 6, 10, 11, 12, 2, 1, 2, 3, 4, 6, 7, 8, 9, 10, 12, 4, 5, 1, 9, 12, 3, 4, 1, 2, 3, 4, 5, 6, 7, 12, 13, 3, 2, 10, 1, 2, 3, 4, 6, 10, 1, 2, 3, 4, 5, 6, 7, 8, 9, 10, 11, 12, 14, 2, 4, 11, 3, 4, 5, 10, 11, 12, 1, 2, 3, 4, 5, 6, 7, 8, 9, 10, 11, 12, 13, 14, 15, 1, 2, 3, 4, 5, 6, 7, 8, 9, 10, 11, 12, 13, 14, 3, 6, 9, 10, 14, 1, 2, 3, 4, 5, 6, 7, 8, 9, 10, 11, 12, 14, 1, 2, 3, 4, 5, 6, 7, 8, 9, 10, 11, 12, 13, 14, 1, 2, 3, 4, 5, 6, 7, 8, 9, 10, 11, 12, 13, 15, 6, 8, 1, 2, 3, 4, 5, 6, 7, 8, 9, 10, 11, 12, 13, 14, 15, 2, 6, 8, 12, 13], \"Freq\": [0.9584416747093201, 0.14777104556560516, 0.738855242729187, 0.3004377782344818, 0.22532834112644196, 0.07510944455862045, 0.11266417056322098, 0.07510944455862045, 0.07510944455862045, 0.05633208528161049, 0.037554722279310226, 0.037554722279310226, 0.06685850769281387, 0.06685850769281387, 0.7354435920715332, 0.06685850769281387, 0.8552067875862122, 0.8384836316108704, 0.01510781329125166, 0.01510781329125166, 0.09820078313350677, 0.01510781329125166, 0.00755390664562583, 0.18765157461166382, 0.37530314922332764, 0.37530314922332764, 0.5599073171615601, 0.37327155470848083, 0.5561880469322205, 0.1853960156440735, 0.1853960156440735, 0.056450922042131424, 0.07903129607439041, 0.15429918467998505, 0.4252636134624481, 0.13924561440944672, 0.09032148122787476, 0.02634376473724842, 0.011290185153484344, 0.003763394895941019, 0.007526789791882038, 0.007526789791882038, 0.003763394895941019, 0.32281655073165894, 0.16140827536582947, 0.32281655073165894, 0.16140827536582947, 0.20939408242702484, 0.29315170645713806, 0.11040779203176498, 0.08756479620933533, 0.09898629039525986, 0.04568598046898842, 0.04568598046898842, 0.02284299023449421, 0.03045732155442238, 0.04187881574034691, 0.007614330388605595, 0.0038071651943027973, 0.0038071651943027973, 0.626996636390686, 0.1567491590976715, 0.1567491590976715, 0.3907901644706726, 0.1953950822353363, 0.1953950822353363, 0.1953950822353363, 0.2231605350971222, 0.6136914491653442, 0.05579013377428055, 0.8134738206863403, 0.9372210502624512, 0.1924816370010376, 0.1924816370010376, 0.1283210963010788, 0.1283210963010788, 0.0641605481505394, 0.2566421926021576, 0.4173227548599243, 0.2782151699066162, 0.1391075849533081, 0.1391075849533081, 0.0863908976316452, 0.1727817952632904, 0.6047362685203552, 0.0863908976316452, 0.3858959674835205, 0.19294798374176025, 0.19294798374176025, 0.5100704431533813, 0.2550352215766907, 0.12751761078834534, 0.9242379069328308, 0.15804357826709747, 0.31608715653419495, 0.15804357826709747, 0.31608715653419495, 0.20318076014518738, 0.040636152029037476, 0.1625446081161499, 0.6095423102378845, 0.07910493016242981, 0.23731477558612823, 0.23731477558612823, 0.15820986032485962, 0.23731477558612823, 0.07910493016242981, 0.24698391556739807, 0.16465593874454498, 0.1618170440196991, 0.13058920204639435, 0.1618170440196991, 0.045422326773405075, 0.022711163386702538, 0.008516686968505383, 0.01987226866185665, 0.008516686968505383, 0.005677790846675634, 0.008516686968505383, 0.008516686968505383, 0.002838895423337817, 0.3695419430732727, 0.18477097153663635, 0.3695419430732727, 0.8773106932640076, 0.8545894026756287, 0.3798389732837677, 0.18991948664188385, 0.18991948664188385, 0.18991948664188385, 0.4207974076271057, 0.15622419118881226, 0.09071081876754761, 0.06047387793660164, 0.0856713280081749, 0.07811209559440613, 0.04787515476346016, 0.010078979656100273, 0.03023693896830082, 0.007559234742075205, 0.0025197449140250683, 0.007559234742075205, 0.007559234742075205, 0.18611998856067657, 0.18611998856067657, 0.37223997712135315, 0.18611998856067657, 0.17013446986675262, 0.34026893973350525, 0.17013446986675262, 0.27600958943367004, 0.13800479471683502, 0.41401439905166626, 0.13800479471683502, 0.12918899953365326, 0.12918899953365326, 0.6459450125694275, 0.07801707088947296, 0.03900853544473648, 0.195042684674263, 0.448598176240921, 0.11702561378479004, 0.01950426772236824, 0.03900853544473648, 0.01950426772236824, 0.03900853544473648, 0.5126588344573975, 0.07323697954416275, 0.07323697954416275, 0.07323697954416275, 0.21971093118190765, 0.07323697954416275, 0.8710435032844543, 0.07769377529621124, 0.388468861579895, 0.23308132588863373, 0.23308132588863373, 0.36586323380470276, 0.18293161690235138, 0.36586323380470276, 0.35878780484199524, 0.07175756245851517, 0.14351512491703033, 0.28703024983406067, 0.07175756245851517, 0.0877242386341095, 0.021931059658527374, 0.2576899528503418, 0.1644829511642456, 0.38379356265068054, 0.005482764914631844, 0.010965529829263687, 0.005482764914631844, 0.04386211931705475, 0.005482764914631844, 0.005482764914631844, 0.395892858505249, 0.395892858505249, 0.1319642812013626, 0.19447878003120422, 0.1046060100197792, 0.18858547508716583, 0.20184539258480072, 0.12228589504957199, 0.07661285251379013, 0.04272639751434326, 0.017679888755083084, 0.008839944377541542, 0.016206564381718636, 0.005893296096473932, 0.014733240939676762, 0.002946648048236966, 0.001473324024118483, 0.001473324024118483, 0.18758094310760498, 0.18758094310760498, 0.18758094310760498, 0.18758094310760498, 0.9430325031280518, 0.3190155029296875, 0.212677001953125, 0.42535400390625, 0.05472061038017273, 0.919306218624115, 0.10788062959909439, 0.6472837924957275, 0.08091047406196594, 0.14833587408065796, 0.013485078699886799, 0.020567988976836205, 0.8638554811477661, 0.013711991719901562, 0.0754159539937973, 0.013711991719901562, 0.006855995859950781, 0.04436882212758064, 0.3993194103240967, 0.13310647010803223, 0.35495057702064514, 0.24866873025894165, 0.24866873025894165, 0.3730030953884125, 0.006170961074531078, 0.715831458568573, 0.024683844298124313, 0.24066747725009918, 0.006170961074531078, 0.3089931607246399, 0.3089931607246399, 0.15449658036231995, 0.15449658036231995, 0.0938321128487587, 0.1876642256975174, 0.6568247675895691, 0.18284501135349274, 0.12632927298545837, 0.20944064855575562, 0.1695471853017807, 0.15624937415122986, 0.02659563720226288, 0.03989345580339432, 0.03989345580339432, 0.0166222732514143, 0.01329781860113144, 0.00664890930056572, 0.01329781860113144, 0.00675143813714385, 0.18904025852680206, 0.5536178946495056, 0.2160460203886032, 0.00675143813714385, 0.0135028762742877, 0.00675143813714385, 0.06707508862018585, 0.06707508862018585, 0.8049010634422302, 0.19995704293251038, 0.39991408586502075, 0.19995704293251038, 0.19995704293251038, 0.07346948236227036, 0.07346948236227036, 0.4408169090747833, 0.2938779294490814, 0.07346948236227036, 0.8756148219108582, 0.0030420266557484865, 0.060840535908937454, 0.9156500697135925, 0.012168106622993946, 0.0030420266557484865, 0.09069027006626129, 0.8162124752998352, 0.9218704700469971, 0.06095011532306671, 0.007618764415383339, 0.1873132586479187, 0.5619397759437561, 0.20769017934799194, 0.11682572215795517, 0.2790836691856384, 0.11682572215795517, 0.13629667460918427, 0.07139349728822708, 0.014603215269744396, 0.01784837432205677, 0.004867738578468561, 0.019470954313874245, 0.003245159052312374, 0.004867738578468561, 0.001622579526156187, 0.003245159052312374, 0.001622579526156187, 0.02196016162633896, 0.6148844957351685, 0.2196016162633896, 0.02196016162633896, 0.08784064650535583, 0.4695088267326355, 0.4695088267326355, 0.003205428831279278, 0.019232572987675667, 0.9680395126342773, 0.006410857662558556, 0.594194769859314, 0.2530829608440399, 0.0165054090321064, 0.005501803010702133, 0.0165054090321064, 0.07702524214982986, 0.005501803010702133, 0.005501803010702133, 0.005501803010702133, 0.005501803010702133, 0.005501803010702133, 0.38245388865470886, 0.38245388865470886, 0.8901569843292236, 0.063582643866539, 0.37767818570137024, 0.2832586467266083, 0.2832586467266083, 0.15262877941131592, 0.30525755882263184, 0.30525755882263184, 0.06252067536115646, 0.011033060029149055, 0.6693389415740967, 0.10665290802717209, 0.014710746705532074, 0.02574380673468113, 0.007355373352766037, 0.014710746705532074, 0.04413224011659622, 0.040454551577568054, 0.3336378335952759, 0.11121261119842529, 0.11121261119842529, 0.3336378335952759, 0.18182089924812317, 0.06060696393251419, 0.06060696393251419, 0.6060696244239807, 0.06060696393251419, 0.46302521228790283, 0.2285059541463852, 0.012026629410684109, 0.05411982908844948, 0.07817308604717255, 0.03607988730072975, 0.012026629410684109, 0.012026629410684109, 0.024053258821368217, 0.03006657212972641, 0.018039943650364876, 0.006013314705342054, 0.006013314705342054, 0.012026629410684109, 0.22194276750087738, 0.7644695043563843, 0.8969476819038391, 0.09576446563005447, 0.11970558017492294, 0.33517563343048096, 0.071823351085186, 0.071823351085186, 0.02394111640751362, 0.19152893126010895, 0.02394111640751362, 0.071823351085186, 0.41843023896217346, 0.20921511948108673, 0.20921511948108673, 0.10460755974054337, 0.10460755974054337, 0.07472782582044601, 0.8967339396476746, 0.006793438922613859, 0.712714433670044, 0.10964837670326233, 0.027412094175815582, 0.10964837670326233, 0.013706047087907791, 0.013706047087907791, 0.14076122641563416, 0.5133644938468933, 0.2815224528312683, 0.037260327488183975, 0.012420108541846275, 0.00828007236123085, 0.5678267478942871, 0.42587006092071533, 0.9408280849456787, 0.035502947866916656, 0.13246877491474152, 0.26493754982948303, 0.26493754982948303, 0.13246877491474152, 0.13246877491474152, 0.33567479252815247, 0.1398645043373108, 0.1398645043373108, 0.02797289937734604, 0.16783739626407623, 0.16783739626407623, 0.02797289937734604, 0.9772374033927917, 0.8670002818107605, 0.037695664912462234, 0.07539132982492447, 0.037695664912462234, 0.44827863574028015, 0.07471310347318649, 0.07471310347318649, 0.14942620694637299, 0.037356551736593246, 0.14942620694637299, 0.037356551736593246, 0.25301334261894226, 0.19373592734336853, 0.1734948605298996, 0.12722955644130707, 0.10554270446300507, 0.053494248539209366, 0.0346989706158638, 0.018795276060700417, 0.0173494853079319, 0.00867474265396595, 0.00867474265396595, 0.0028915810398757458, 0.0014457905199378729, 0.80962073802948, 0.11848108470439911, 0.03949369490146637, 0.7061808705329895, 0.19259478151798248, 0.03209913149476051, 0.04814869537949562, 0.38012805581092834, 0.04751600697636604, 0.23758003115653992, 0.28509604930877686, 0.04751600697636604, 0.3052197992801666, 0.45782971382141113, 0.1526098996400833, 0.907066285610199, 0.03841341659426689, 0.23048049211502075, 0.6914414763450623, 0.03841341659426689, 0.197670117020607, 0.197670117020607, 0.26356014609336853, 0.06589003652334213, 0.197670117020607, 0.007526703178882599, 0.32364824414253235, 0.6472964882850647, 0.007526703178882599, 0.007526703178882599, 0.9460166096687317, 0.1336607038974762, 0.29108330607414246, 0.06831546872854233, 0.15148213505744934, 0.10098809003829956, 0.09207737445831299, 0.04158332943916321, 0.06237499415874481, 0.020791664719581604, 0.008910713717341423, 0.014851189218461514, 0.011880951933562756, 0.002970237983390689, 0.08998697251081467, 0.11098393052816391, 0.31495440006256104, 0.14397916197776794, 0.21596872806549072, 0.02999565750360489, 0.02399652637541294, 0.01199826318770647, 0.017997395247220993, 0.014997828751802444, 0.008998697623610497, 0.005999131593853235, 0.01199826318770647, 0.13869817554950714, 0.13869817554950714, 0.5547927021980286, 0.13869817554950714, 0.3334729075431824, 0.3334729075431824, 0.1667364537715912, 0.1667364537715912, 0.10855355858802795, 0.4342142343521118, 0.10855355858802795, 0.10855355858802795, 0.2171071171760559, 0.10302215069532394, 0.721155047416687, 0.05151107534766197, 0.05151107534766197, 0.008640398271381855, 0.4838623106479645, 0.4752219021320343, 0.008640398271381855, 0.008640398271381855, 0.3253873586654663, 0.16269367933273315, 0.3253873586654663, 0.16269367933273315, 0.9321479201316833, 0.08747103810310364, 0.6997683048248291, 0.08747103810310364, 0.19089719653129578, 0.16226261854171753, 0.20044206082820892, 0.19089719653129578, 0.07158644497394562, 0.014317289926111698, 0.04295187070965767, 0.038179438561201096, 0.004772429820150137, 0.05726915970444679, 0.004772429820150137, 0.014317289926111698, 0.004772429820150137, 0.33512765169143677, 0.33512765169143677, 0.16756382584571838, 0.40703025460243225, 0.045225586742162704, 0.45225584506988525, 0.045225586742162704, 0.8106027245521545, 0.10132534056901932, 0.44378533959388733, 0.10442008078098297, 0.060911715030670166, 0.06961338967084885, 0.060911715030670166, 0.03480669483542442, 0.12182343006134033, 0.026105020195245743, 0.06961338967084885, 0.9452683329582214, 0.00456651346758008, 0.00456651346758008, 0.00456651346758008, 0.00913302693516016, 0.00913302693516016, 0.01826605387032032, 0.037267860025167465, 0.07453572005033493, 0.12422620505094528, 0.5465952754020691, 0.18633930385112762, 0.024845240637660027, 0.031281232833862305, 0.8289526700973511, 0.015640616416931152, 0.09384369850158691, 0.03526734933257103, 0.9522184133529663, 0.25823289155960083, 0.016139555722475052, 0.19367466866970062, 0.08069777488708496, 0.14525599777698517, 0.032279111444950104, 0.032279111444950104, 0.032279111444950104, 0.14525599777698517, 0.048418667167425156, 0.3462080955505371, 0.17310404777526855, 0.17310404777526855, 0.25965607166290283, 0.33226874470710754, 0.22151249647140503, 0.11075624823570251, 0.11075624823570251, 0.1613885760307312, 0.3227771520614624, 0.3227771520614624, 0.9058477282524109, 0.06587983667850494, 0.016469959169626236, 0.34031879901885986, 0.34031879901885986, 0.17015939950942993, 0.19721654057502747, 0.772431492805481, 0.0109564745798707, 0.00547823728993535, 0.06073606014251709, 0.006393269635736942, 0.12466875463724136, 0.616950511932373, 0.16942164301872253, 0.012786539271473885, 0.003196634817868471, 0.006393269635736942, 0.9323180317878723, 0.27241820096969604, 0.13861986994743347, 0.21455945074558258, 0.11933363229036331, 0.07593958079814911, 0.08678809553384781, 0.028929365798830986, 0.0072323414497077465, 0.014464682899415493, 0.01325929258018732, 0.008437731303274632, 0.014464682899415493, 0.0036161707248538733, 0.0012053902028128505, 0.0012053902028128505, 0.06742358952760696, 0.011237265542149544, 0.3933042883872986, 0.24721983075141907, 0.10113538801670074, 0.03371179476380348, 0.03371179476380348, 0.011237265542149544, 0.022474531084299088, 0.022474531084299088, 0.011237265542149544, 0.03371179476380348, 0.17942745983600616, 0.17942745983600616, 0.17942745983600616, 0.35885491967201233, 0.08072096854448318, 0.16144193708896637, 0.16144193708896637, 0.08072096854448318, 0.16144193708896637, 0.08072096854448318, 0.16144193708896637, 0.20806892216205597, 0.41613784432411194, 0.10403446108102798, 0.10403446108102798, 0.10403446108102798, 0.4988871216773987, 0.16629570722579956, 0.16629570722579956, 0.47623464465141296, 0.15874488651752472, 0.31748977303504944, 0.17789910733699799, 0.35579821467399597, 0.35579821467399597, 0.3794439136981964, 0.1897219568490982, 0.1897219568490982, 0.1897219568490982, 0.24196580052375793, 0.12098290026187897, 0.24196580052375793, 0.3629487156867981, 0.17275607585906982, 0.6910243034362793, 0.3666158616542816, 0.3666158616542816, 0.1833079308271408, 0.18470436334609985, 0.18470436334609985, 0.3694087266921997, 0.18470436334609985, 0.12247968465089798, 0.24495936930179596, 0.12247968465089798, 0.12247968465089798, 0.24495936930179596, 0.2496337890625, 0.2496337890625, 0.12481689453125, 0.12481689453125, 0.12481689453125, 0.22428159415721893, 0.6728447675704956, 0.11789849400520325, 0.7368655800819397, 0.08842387050390244, 0.029474623501300812, 0.029474623501300812, 0.12809757888317108, 0.011645234189927578, 0.03493570163846016, 0.698714017868042, 0.058226171880960464, 0.03493570163846016, 0.023290468379855156, 0.011645234189927578, 0.17674338817596436, 0.11782892793416977, 0.06480590999126434, 0.20620061457157135, 0.22387495636940002, 0.017674338072538376, 0.023565784096717834, 0.06480590999126434, 0.023565784096717834, 0.011782892048358917, 0.06480590999126434, 0.1703297197818756, 0.19676019251346588, 0.13508908450603485, 0.11746877431869507, 0.11159534007310867, 0.0939750224351883, 0.06754454225301743, 0.03230391442775726, 0.011746877804398537, 0.011746877804398537, 0.01762031577527523, 0.014683596789836884, 0.005873438902199268, 0.002936719451099634, 0.008810157887637615, 0.9184712171554565, 0.17319577932357788, 0.6927831172943115, 0.046341534703969955, 0.8341476321220398, 0.046341534703969955, 0.09268306940793991, 0.5628793835639954, 0.01042369194328785, 0.0729658454656601, 0.0729658454656601, 0.21889753639698029, 0.0312710776925087, 0.0208473838865757, 0.19471392035484314, 0.19471392035484314, 0.3894278407096863, 0.36798539757728577, 0.14719416201114655, 0.22079123556613922, 0.036798540502786636, 0.20239196717739105, 0.018399270251393318, 0.8611511588096619, 0.7465501427650452, 0.10368752479553223, 0.020737504586577415, 0.020737504586577415, 0.020737504586577415, 0.020737504586577415, 0.04147500917315483, 0.06128919497132301, 0.9287670254707336, 0.0023572768550366163, 0.49722689390182495, 0.3271229565143585, 0.01744655705988407, 0.008723278529942036, 0.008723278529942036, 0.0654245913028717, 0.0436163954436779, 0.008723278529942036, 0.004361639264971018, 0.004361639264971018, 0.004361639264971018, 0.008723278529942036, 0.12708213925361633, 0.8022060394287109, 0.01588526740670204, 0.03574185445904732, 0.00794263370335102, 0.1878131777048111, 0.7780831456184387, 0.36101382970809937, 0.04512672871351242, 0.31588709354400635, 0.09025345742702484, 0.04512672871351242, 0.04512672871351242, 0.09025345742702484, 0.21449214220046997, 0.17953085899353027, 0.17291657626628876, 0.1785859614610672, 0.09354502707719803, 0.05858375504612923, 0.04157556965947151, 0.019842885434627533, 0.014173489063978195, 0.006614294834434986, 0.007559194229543209, 0.006614294834434986, 0.0028346979524940252, 0.0018897985573858023, 0.0018897985573858023, 0.045946165919303894, 0.027227358892560005, 0.37437617778778076, 0.20420518517494202, 0.21441544592380524, 0.042542748153209686, 0.011911969631910324, 0.0034034198615700006, 0.05445471778512001, 0.013613679446280003, 0.0034034198615700006, 0.0017017099307850003, 0.38857945799827576, 0.10264363139867783, 0.05132181569933891, 0.10997531563043594, 0.0439901277422905, 0.23461401462554932, 0.014663375914096832, 0.02199506387114525, 0.007331687957048416, 0.014663375914096832, 0.007331687957048416, 0.13586486876010895, 0.13586486876010895, 0.2717297375202179, 0.13586486876010895, 0.2717297375202179, 0.8155109882354736, 0.1165015697479248, 0.9051452279090881, 0.16140271723270416, 0.3228054344654083, 0.4842081665992737, 0.09882461279630661, 0.07058900594711304, 0.3247094452381134, 0.1623547226190567, 0.12000131607055664, 0.049412306398153305, 0.028235603123903275, 0.08470681309700012, 0.02117670327425003, 0.02117670327425003, 0.02117670327425003, 0.007058900780975819, 0.09584248811006546, 0.8625823855400085, 0.4938526749610901, 0.3527519106864929, 0.14110076427459717, 0.8916128873825073, 0.9174087643623352, 0.16147609055042267, 0.16147609055042267, 0.16147609055042267, 0.32295218110084534, 0.9741888046264648, 0.3154953718185425, 0.4732430577278137, 0.15774768590927124, 0.031034119427204132, 0.4034435451030731, 0.4655117988586426, 0.062068238854408264, 0.031034119427204132, 0.20419268310070038, 0.6514718532562256, 0.009723461233079433, 0.009723461233079433, 0.029170382767915726, 0.038893844932317734, 0.019446922466158867, 0.019446922466158867, 0.009723461233079433, 0.009723461233079433, 0.40294933319091797, 0.20147466659545898, 0.20147466659545898, 0.20147466659545898, 0.6571319699287415, 0.16428299248218536, 0.0366055928170681, 0.8785342574119568, 0.0732111856341362, 0.32872337102890015, 0.16436168551445007, 0.32872337102890015, 0.8951992988586426, 0.6113188862800598, 0.14943350851535797, 0.13584864139556885, 0.040754593908786774, 0.0271697286516428, 0.240616574883461, 0.1203082874417305, 0.1203082874417305, 0.3609248697757721, 0.9323430061340332, 0.5563268065452576, 0.1390817016363144, 0.2781634032726288, 0.13879670202732086, 0.2081950604915619, 0.4163901209831238, 0.06939835101366043, 0.13879670202732086, 0.5227454900741577, 0.04545613005757332, 0.2272806465625763, 0.09091226011514664, 0.02272806502878666, 0.04545613005757332, 0.1414521038532257, 0.4243563413619995, 0.1414521038532257, 0.1414521038532257, 0.1414521038532257, 0.14024104177951813, 0.14024104177951813, 0.14024104177951813, 0.4207231402397156, 0.14024104177951813, 0.3978349566459656, 0.1989174783229828, 0.1989174783229828, 0.1989174783229828, 0.3603226840496063, 0.3603226840496063, 0.12010756134986877, 0.12010756134986877, 0.12010756134986877, 0.18716835975646973, 0.5615050792694092, 0.08087416738271713, 0.7076489925384521, 0.1819668859243393, 0.020218541845679283, 0.15021950006484985, 0.4506584703922272, 0.3004390001296997, 0.8927438855171204, 0.020761484280228615, 0.062284454703330994, 0.38539886474609375, 0.27927452325820923, 0.09309151023626328, 0.07447320967912674, 0.035374775528907776, 0.04282209649682045, 0.044683925807476044, 0.009309151209890842, 0.01303281169384718, 0.0018618302419781685, 0.0055854907259345055, 0.007447320967912674, 0.0055854907259345055, 0.0018618302419781685, 0.15533290803432465, 0.12046225368976593, 0.3170059323310852, 0.14582273364067078, 0.1014418974518776, 0.06974130868911743, 0.0253604743629694, 0.0126802371814847, 0.0126802371814847, 0.009510178118944168, 0.0126802371814847, 0.009510178118944168, 0.003170059295371175, 0.00634011859074235, 0.02129753865301609, 0.7752304077148438, 0.008519015274941921, 0.08944966644048691, 0.055373601615428925, 0.029816554859280586, 0.017038030549883842, 0.140178844332695, 0.3504470884799957, 0.28035768866539, 0.0700894221663475, 0.140178844332695, 0.1425814926624298, 0.20261581242084503, 0.2101200968027115, 0.1125643402338028, 0.19511151313781738, 0.015008578076958656, 0.015008578076958656, 0.030017156153917313, 0.007504289038479328, 0.015008578076958656, 0.007504289038479328, 0.037521444261074066, 0.007504289038479328, 0.0942758098244667, 0.0062850541435182095, 0.4022434651851654, 0.43681126832962036, 0.012570108287036419, 0.00942758098244667, 0.0062850541435182095, 0.01885516196489334, 0.0031425270717591047, 0.00942758098244667, 0.8544865846633911, 0.5140363574028015, 0.05140363797545433, 0.1542109102010727, 0.05140363797545433, 0.05140363797545433, 0.10280727595090866, 0.10280727595090866, 0.0014382348163053393, 0.0014382348163053393, 0.16108229756355286, 0.816917359828949, 0.014382348395884037, 0.0014382348163053393, 0.2990753650665283, 0.06646119058132172, 0.18276827037334442, 0.3489212393760681, 0.04984589293599129, 0.03323059529066086, 0.004560859873890877, 0.0015202866634353995, 0.0015202866634353995, 0.18395468592643738, 0.7981504797935486, 0.0015202866634353995, 0.0015202866634353995, 0.006081146653741598, 0.0015202866634353995, 0.04209578037261963, 0.37886202335357666, 0.4209578037261963, 0.04209578037261963, 0.04209578037261963, 0.08419156074523926, 0.0026996242813766003, 0.8800775408744812, 0.0053992485627532005, 0.0026996242813766003, 0.0026996242813766003, 0.05669211223721504, 0.04859323799610138, 0.7515876293182373, 0.18789690732955933, 0.018802255392074585, 0.7332879900932312, 0.018802255392074585, 0.20682480931282043, 0.009401127696037292, 0.5351865887641907, 0.4013899564743042, 0.001195073127746582, 0.9154260158538818, 0.007170438766479492, 0.002390146255493164, 0.001195073127746582, 0.001195073127746582, 0.04302263259887695, 0.025096535682678223, 0.001195073127746582, 0.07680241018533707, 0.8448265194892883, 0.14186295866966248, 0.4255889058113098, 0.14186295866966248, 0.14186295866966248, 0.5713736414909363, 0.19045789539813995, 0.42869603633880615, 0.497287392616272, 0.042869601398706436, 0.008573920466005802, 0.008573920466005802, 0.33868178725242615, 0.13708548247814178, 0.04031926020979881, 0.05644696578383446, 0.04031926020979881, 0.16127704083919525, 0.024191556498408318, 0.016127703711390495, 0.11289393156766891, 0.008063851855695248, 0.06451081484556198, 0.008063851855695248, 0.008063851855695248, 0.16114592552185059, 0.5013428926467896, 0.01790510304272175, 0.004476275760680437, 0.053715310990810394, 0.013428827747702599, 0.08504924178123474, 0.13428828120231628, 0.008952551521360874, 0.004476275760680437, 0.008952551521360874, 0.3937276005744934, 0.1968638002872467, 0.1968638002872467, 0.1968638002872467, 0.3264179825782776, 0.1632089912891388, 0.3264179825782776, 0.1632089912891388, 0.454895555973053, 0.2274477779865265, 0.11372388899326324, 0.11372388899326324, 0.38802042603492737, 0.19401021301746368, 0.19401021301746368, 0.19401021301746368, 0.8617171049118042, 0.840783953666687, 0.9247865676879883, 0.02802383527159691, 0.02802383527159691, 0.8619352579116821, 0.06630270928144455, 0.8611631393432617, 0.8947011232376099, 0.21770481765270233, 0.10885240882635117, 0.10885240882635117, 0.43540963530540466, 0.9267447590827942, 0.9741449356079102, 0.038117263466119766, 0.6003469228744507, 0.009529315866529942, 0.2572915256023407, 0.009529315866529942, 0.0285879485309124, 0.0571758970618248, 0.05704496428370476, 0.34226977825164795, 0.07130620628595352, 0.14261241257190704, 0.01426124107092619, 0.02852248214185238, 0.05704496428370476, 0.1996573805809021, 0.05704496428370476, 0.01426124107092619, 0.02852248214185238, 0.05464326962828636, 0.018214423209428787, 0.018214423209428787, 0.3096452057361603, 0.3096452057361603, 0.07285769283771515, 0.036428846418857574, 0.1639298051595688, 0.018214423209428787, 0.9538351893424988, 0.025779329240322113, 0.08609575778245926, 0.41817939281463623, 0.40588000416755676, 0.036898184567689896, 0.036898184567689896, 0.4629491865634918, 0.4629491865634918, 0.15636120736598969, 0.31272241473197937, 0.46908360719680786, 0.12573488056659698, 0.37720465660095215, 0.37720465660095215, 0.19587767124176025, 0.22268198430538177, 0.15257839858531952, 0.1443309187889099, 0.11546473205089569, 0.05360862612724304, 0.016494961455464363, 0.01237122155725956, 0.02680431306362152, 0.02680431306362152, 0.016494961455464363, 0.008247480727732182, 0.00618561077862978, 0.0020618701819330454, 0.13411812484264374, 0.044706039130687714, 0.14902013540267944, 0.5513744950294495, 0.05960805341601372, 0.02980402670800686, 0.01490201335400343, 0.18661580979824066, 0.18661580979824066, 0.3732316195964813, 0.18661580979824066, 0.31690192222595215, 0.06338038295507431, 0.10140860825777054, 0.0887325331568718, 0.025352152064442635, 0.31690192222595215, 0.025352152064442635, 0.025352152064442635, 0.012676076032221317, 0.038028229027986526, 0.5658665299415588, 0.18862219154834747, 0.18862219154834747, 0.1844986528158188, 0.05031781271100044, 0.14256714284420013, 0.21804386377334595, 0.30190688371658325, 0.06709041446447372, 0.01677260361611843, 0.01677260361611843, 0.07803985476493835, 0.23411957919597626, 0.39019930362701416, 0.07803985476493835, 0.07803985476493835, 0.21559494733810425, 0.538987398147583, 0.21559494733810425, 0.1567360758781433, 0.3134721517562866, 0.1567360758781433, 0.3134721517562866, 0.47584065794944763, 0.28550440073013306, 0.19033627212047577, 0.10106655955314636, 0.10106655955314636, 0.3031996786594391, 0.40426623821258545, 0.10106655955314636, 0.8760800957679749, 0.31277981400489807, 0.15638990700244904, 0.4691697359085083, 0.3255079686641693, 0.3906095623970032, 0.055085960775613785, 0.06009377911686897, 0.017527351155877113, 0.07010940462350845, 0.015023444779217243, 0.03255079686641693, 0.015023444779217243, 0.0050078146159648895, 0.007511722389608622, 0.0025039073079824448, 0.0050078146159648895, 0.0025039073079824448, 0.372636616230011, 0.372636616230011, 0.1863183081150055, 0.3223753571510315, 0.2754274904727936, 0.0688568726181984, 0.10485024005174637, 0.046947866678237915, 0.07198672741651535, 0.03286350890994072, 0.03286350890994072, 0.012519431300461292, 0.007824644446372986, 0.009389573708176613, 0.007824644446372986, 0.003129857825115323, 0.9162176847457886, 0.009851803071796894, 0.039407212287187576, 0.019703606143593788, 0.4341878890991211, 0.26211342215538025, 0.06002597510814667, 0.07003030180931091, 0.02000865899026394, 0.06602857261896133, 0.02200952358543873, 0.03201385214924812, 0.01000432949513197, 0.0020008657593280077, 0.004001731518656015, 0.00800346303731203, 0.0020008657593280077, 0.004001731518656015, 0.004001731518656015, 0.3096916079521179, 0.5447254180908203, 0.0027651037089526653, 0.008295311592519283, 0.005530207417905331, 0.0027651037089526653, 0.005530207417905331, 0.08018800616264343, 0.022120829671621323, 0.0027651037089526653, 0.011060414835810661, 0.07276506721973419, 0.02338877134025097, 0.1533263772726059, 0.33264029026031494, 0.31185027956962585, 0.025987522676587105, 0.015592513605952263, 0.0077962568029761314, 0.0077962568029761314, 0.015592513605952263, 0.0077962568029761314, 0.025987522676587105, 0.0025987522676587105, 0.023470675572752953, 0.668914258480072, 0.09388270229101181, 0.21123607456684113, 0.28503847122192383, 0.13388170301914215, 0.12308479100465775, 0.18138810992240906, 0.08853467553853989, 0.07773776352405548, 0.05398455634713173, 0.010796911083161831, 0.012956293299794197, 0.008637528866529465, 0.012956293299794197, 0.004318764433264732, 0.004318764433264732, 0.002159382216632366, 0.002159382216632366, 0.31213831901550293, 0.43699365854263306, 0.031213831156492233, 0.031213831156492233, 0.031213831156492233, 0.12485532462596893, 0.09867697209119797, 0.03947078809142113, 0.32760754227638245, 0.11446528881788254, 0.22893057763576508, 0.0690738782286644, 0.025656012818217278, 0.011841236613690853, 0.017761854454874992, 0.011841236613690853, 0.025656012818217278, 0.019735394045710564, 0.0019735393580049276, 0.0059206183068454266, 0.1657123565673828, 0.1657123565673828, 0.1657123565673828, 0.3314247131347656, 0.46482163667678833, 0.1704345941543579, 0.03873513638973236, 0.054229188710451126, 0.03873513638973236, 0.03098810836672783, 0.03098810836672783, 0.11620540916919708, 0.015494054183363914, 0.007747027091681957, 0.015494054183363914, 0.007747027091681957, 0.30942481756210327, 0.15471240878105164, 0.4641372561454773, 0.1845175325870514, 0.134647935628891, 0.2318936586380005, 0.1845175325870514, 0.057350043207407, 0.11719357222318649, 0.02244132198393345, 0.0199478417634964, 0.0099739208817482, 0.01246740110218525, 0.0099739208817482, 0.0049869604408741, 0.00249348022043705, 0.00249348022043705, 0.00249348022043705, 0.06773829460144043, 0.0963967964053154, 0.2370840162038803, 0.289190411567688, 0.14589786529541016, 0.08337020874023438, 0.013026594184339046, 0.02344786934554577, 0.013026594184339046, 0.013026594184339046, 0.007815957069396973, 0.0052106380462646484, 0.0026053190231323242, 0.2787385880947113, 0.5574771761894226, 0.13936929404735565, 0.20598933100700378, 0.16867241263389587, 0.1552383303642273, 0.24778425693511963, 0.06418508291244507, 0.07164846360683441, 0.03134620189666748, 0.02239014394581318, 0.004478028975427151, 0.002985352650284767, 0.011941410601139069, 0.011941410601139069, 0.0014926763251423836, 0.0014926763251423836, 0.6456011533737183, 0.24594327807426453, 0.0922287330031395, 0.557768702507019, 0.18592290580272675, 0.830524206161499, 0.09228046238422394, 0.8632528185844421, 0.07847753167152405, 0.20126652717590332, 0.40253305435180664, 0.20126652717590332, 0.20126652717590332, 0.3117939829826355, 0.13362599909305573, 0.26725199818611145, 0.04454199969768524, 0.13362599909305573, 0.04454199969768524, 0.0533633790910244, 0.9071774482727051, 0.18829986453056335, 0.5648995637893677, 0.37130552530288696, 0.18565276265144348, 0.37130552530288696, 0.9052281975746155, 0.060348544269800186, 0.32116419076919556, 0.6423283815383911, 0.024704938754439354, 0.11280529946088791, 0.09024424105882645, 0.24817165732383728, 0.16920796036720276, 0.19176901876926422, 0.056402649730443954, 0.06768318265676498, 0.02256106026470661, 0.02256106026470661, 0.02256106026470661, 0.15299265086650848, 0.035305995494127274, 0.18829864263534546, 0.18241430819034576, 0.23537330329418182, 0.07061199098825455, 0.005884332582354546, 0.005884332582354546, 0.005884332582354546, 0.011768665164709091, 0.023537330329418182, 0.058843325823545456, 0.005884332582354546, 0.005884332582354546, 0.005884332582354546, 0.18258273601531982, 0.5477482080459595, 0.18258273601531982, 0.8204299211502075, 0.04002096876502037, 0.12006291002035141, 0.2758800983428955, 0.13794004917144775, 0.551760196685791, 0.07468857616186142, 0.06535250693559647, 0.13070501387119293, 0.1773853749036789, 0.5041478872299194, 0.028008216992020607, 0.009336072020232677, 0.27016976475715637, 0.18011316657066345, 0.09005658328533173, 0.18011316657066345, 0.2251414656639099, 0.012815846130251884, 0.02563169226050377, 0.8501178026199341, 0.008543897420167923, 0.0042719487100839615, 0.05980728194117546, 0.008543897420167923, 0.017087794840335846, 0.0042719487100839615, 0.34420615434646606, 0.3505803644657135, 0.06374188512563705, 0.08286444842815399, 0.06374188512563705, 0.0701160728931427, 0.006374188233166933, 0.006374188233166933, 0.05230409651994705, 0.0932377353310585, 0.3524841368198395, 0.15918637812137604, 0.24105365574359894, 0.04775591567158699, 0.004548182245343924, 0.006822273600846529, 0.004548182245343924, 0.020466819405555725, 0.013644547201693058, 0.002274091122671962, 0.883388102054596, 0.06795293092727661, 0.27707114815711975, 0.27707114815711975, 0.13853557407855988, 0.13853557407855988, 0.13853557407855988, 0.36113542318344116, 0.12037847936153412, 0.24075695872306824, 0.12037847936153412, 0.17082448303699493, 0.512473464012146, 0.34164896607398987, 0.7584121823310852, 0.19452638924121857, 0.4634305238723755, 0.022885458543896675, 0.1201486587524414, 0.005721364635974169, 0.07437773793935776, 0.06865637749433517, 0.005721364635974169, 0.005721364635974169, 0.022885458543896675, 0.011442729271948338, 0.3597269058227539, 0.6063967943191528, 0.020555824041366577, 0.8967491984367371, 0.04598713666200638, 0.02299356833100319, 0.3909508287906647, 0.09773770719766617, 0.09773770719766617, 0.19547541439533234, 0.19547541439533234, 0.530841052532196, 0.08561953157186508, 0.10274343192577362, 0.1883629709482193, 0.017123905941843987, 0.017123905941843987, 0.05137171596288681, 0.3464277386665344, 0.14434488117694855, 0.21651732921600342, 0.10104142129421234, 0.07217244058847427, 0.014434488490223885, 0.014434488490223885, 0.014434488490223885, 0.014434488490223885, 0.014434488490223885, 0.02886897698044777, 0.009218255989253521, 0.5807501077651978, 0.12905557453632355, 0.2673294246196747, 0.16004453599452972, 0.13588686287403107, 0.22043868899345398, 0.19628103077411652, 0.12380803376436234, 0.06039416044950485, 0.039256203919649124, 0.01207883283495903, 0.01207883283495903, 0.006039416417479515, 0.018118249252438545, 0.006039416417479515, 0.006039416417479515, 0.4813078045845032, 0.16043594479560852, 0.16043594479560852, 0.2813803255558014, 0.14948329329490662, 0.035172540694475174, 0.05275880917906761, 0.008793135173618793, 0.3868979513645172, 0.021982837468385696, 0.013189702294766903, 0.013189702294766903, 0.030775971710681915, 0.004396567586809397, 0.8841429948806763, 0.01733613759279251, 0.01733613759279251, 0.05200841277837753, 0.16593699157238007, 0.1533435583114624, 0.23927520215511322, 0.1548251360654831, 0.11334088444709778, 0.07111585140228271, 0.026668444275856018, 0.01481580175459385, 0.011852641589939594, 0.014075011946260929, 0.02222370356321335, 0.00814869161695242, 0.002222370356321335, 0.0007407900993712246, 0.002222370356321335, 0.10113981366157532, 0.8091185092926025, 0.10113981366157532, 0.06450079381465912, 0.12900158762931824, 0.12900158762931824, 0.12900158762931824, 0.06450079381465912, 0.3225039839744568, 0.12900158762931824, 0.06232695281505585, 0.5787503123283386, 0.004451925400644541, 0.32053861021995544, 0.017807701602578163, 0.004451925400644541, 0.004451925400644541, 0.004451925400644541, 0.8949033617973328, 0.074575275182724, 0.5972322821617126, 0.059723228216171265, 0.23889291286468506, 0.059723228216171265, 0.12736526131629944, 0.10067920386791229, 0.3178066313266754, 0.16375532746315002, 0.15041230618953705, 0.054585110396146774, 0.026686053723096848, 0.008491016924381256, 0.0072780149057507515, 0.014556029811501503, 0.01819503679871559, 0.0072780149057507515, 0.002426004968583584, 0.001213002484291792, 0.06837914139032364, 0.13675828278064728, 0.20513741672039032, 0.20513741672039032, 0.13675828278064728, 0.20513741672039032, 0.9218850135803223, 0.1935943365097046, 0.5807830095291138, 0.1935943365097046, 0.13564994931221008, 0.3526898920536041, 0.08138997107744217, 0.027129990980029106, 0.08138997107744217, 0.2984299063682556, 0.11039973050355911, 0.22079946100711823, 0.44159892201423645, 0.11039973050355911, 0.19943393766880035, 0.6980187892913818, 0.8758798837661743, 0.529816746711731, 0.23841753602027893, 0.07947251200675964, 0.047683507204055786, 0.00529816746711731, 0.02119266986846924, 0.02119266986846924, 0.026490837335586548, 0.00529816746711731, 0.01059633493423462, 0.00529816746711731, 0.24584592878818512, 0.2238045632839203, 0.17972184717655182, 0.10512033104896545, 0.0966428816318512, 0.05256016552448273, 0.03390978276729584, 0.011868423782289028, 0.010172935202717781, 0.00847744569182396, 0.010172935202717781, 0.01356391329318285, 0.0033909783232957125, 0.0050864676013588905, 0.7390627861022949, 0.06928713619709015, 0.011547856032848358, 0.040417496114969254, 0.011547856032848358, 0.028869640082120895, 0.04619142413139343, 0.005773928016424179, 0.005773928016424179, 0.011547856032848358, 0.028869640082120895, 0.27995556592941284, 0.3382122218608856, 0.07443905621767044, 0.0857667326927185, 0.019418884068727493, 0.11651329696178436, 0.03883776813745499, 0.012945922091603279, 0.01618240214884281, 0.0064729610458016396, 0.004854721017181873, 0.0032364805229008198, 0.0016182402614504099, 0.0032364805229008198, 0.37761548161506653, 0.22136080265045166, 0.1128506064414978, 0.04774448648095131, 0.026042446494102478, 0.09114856272935867, 0.052084892988204956, 0.030382854864001274, 0.004340407904237509, 0.004340407904237509, 0.004340407904237509, 0.008680815808475018, 0.013021223247051239, 0.008680815808475018, 0.7373108863830566, 0.1474621742963791, 0.08714636415243149, 0.7843172550201416, 0.08714636415243149, 0.8745521903038025, 0.04858623072504997, 0.024293115362524986, 0.024293115362524986, 0.6483854651451111, 0.16209636628627777, 0.32281580567359924, 0.16140790283679962, 0.32281580567359924, 0.1565120965242386, 0.3130241930484772, 0.1565120965242386, 0.3130241930484772, 0.009802509099245071, 0.0019605017732828856, 0.893988847732544, 0.03136802837252617, 0.0058815055526793, 0.0019605017732828856, 0.02744702622294426, 0.0235260222107172, 0.8926630020141602, 0.006468572653830051, 0.006468572653830051, 0.01940571703016758, 0.07115429639816284, 0.1523037552833557, 0.15973320603370667, 0.26560288667678833, 0.12072858214378357, 0.1467316597700119, 0.04829143360257149, 0.022288354113698006, 0.04457670822739601, 0.009286814369261265, 0.005572088528424501, 0.009286814369261265, 0.0074294512160122395, 0.0018573628040030599, 0.0037147256080061197, 0.9220784306526184, 0.3578176498413086, 0.22547413408756256, 0.09803223609924316, 0.10538465529680252, 0.05391772836446762, 0.05391772836446762, 0.036762088537216187, 0.022057252004742622, 0.009803223423659801, 0.009803223423659801, 0.004901611711829901, 0.009803223423659801, 0.009803223423659801, 0.0024508058559149504, 0.0024508058559149504, 0.3400956690311432, 0.0850239172577858, 0.1700478345155716, 0.0850239172577858, 0.255071759223938, 0.8716291189193726, 0.3117915093898773, 0.1455027163028717, 0.19027277827262878, 0.12631553411483765, 0.10872729867696762, 0.036775410175323486, 0.030379686504602432, 0.011192516423761845, 0.007994654588401318, 0.014390378259122372, 0.006395723670721054, 0.003197861835360527, 0.003197861835360527, 0.0015989309176802635, 0.0015989309176802635, 0.20456600189208984, 0.20609262585639954, 0.10533622652292252, 0.21372568607330322, 0.036638688296079636, 0.14808136224746704, 0.030532240867614746, 0.02289918065071106, 0.013739507645368576, 0.0030532239470630884, 0.0045798360370099545, 0.006106447894126177, 0.0015266119735315442, 0.0030532239470630884, 0.0015266119735315442, 0.804356038570404, 0.015771687030792236, 0.15771687030792236, 0.015771687030792236, 0.35918721556663513, 0.07981938123703003, 0.11972907930612564, 0.35918721556663513, 0.05986453965306282, 0.16543632745742798, 0.6617453098297119, 0.033087264746427536, 0.0992617979645729, 0.11765338480472565, 0.8471043705940247, 0.02353067696094513, 0.8195241093635559, 0.016724981367588043, 0.016724981367588043, 0.008362490683794022, 0.09198740124702454, 0.033449962735176086, 0.06849173456430435, 0.06849173456430435, 0.1369834691286087, 0.1369834691286087, 0.04566115513443947, 0.4566115438938141, 0.06849173456430435, 0.022830577567219734, 0.09175566583871841, 0.13763348758220673, 0.27526697516441345, 0.18351133167743683, 0.13763348758220673, 0.04587783291935921, 0.04587783291935921, 0.9047505259513855, 0.18798157572746277, 0.1273423582315445, 0.2344716340303421, 0.17787504196166992, 0.08287359774112701, 0.09904405474662781, 0.008085229434072971, 0.02223438024520874, 0.02223438024520874, 0.018191765993833542, 0.014149150811135769, 0.004042614717036486, 0.7504569292068481, 0.15009137988090515, 0.277547687292099, 0.1301419734954834, 0.10358238965272903, 0.2443481981754303, 0.0969424918293953, 0.03585544228553772, 0.030543524771928787, 0.017263730987906456, 0.019919689744710922, 0.006639896892011166, 0.018591711297631264, 0.009295855648815632, 0.0053119175136089325, 0.0026559587568044662, 0.31826063990592957, 0.31826063990592957, 0.15913031995296478, 0.15913031995296478, 0.34707367420196533, 0.007230701856315136, 0.08676841855049133, 0.007230701856315136, 0.2024596482515335, 0.2530745565891266, 0.05784561485052109, 0.028922807425260544, 0.02669781818985939, 0.9344236254692078, 0.09716562926769257, 0.43724533915519714, 0.364371120929718, 0.02429140731692314, 0.07287421822547913, 0.7092976570129395, 0.17732441425323486, 0.27202165126800537, 0.09067388623952866, 0.09067388623952866, 0.1813477724790573, 0.09067388623952866, 0.09067388623952866, 0.1813477724790573, 0.08224385231733322, 0.4523411989212036, 0.16448770463466644, 0.020560963079333305, 0.061682891100645065, 0.04112192615866661, 0.020560963079333305, 0.08224385231733322, 0.04112192615866661, 0.04112192615866661, 0.1440153419971466, 0.7200767397880554, 0.0480051152408123, 0.0480051152408123, 0.1027078703045845, 0.25676968693733215, 0.5648933053016663, 0.05135393515229225, 0.3675140142440796, 0.5512710213661194, 0.18513566255569458, 0.37027132511138916, 0.18513566255569458, 0.18513566255569458, 0.9592328667640686, 0.0223077405244112, 0.0111538702622056, 0.22515030205249786, 0.032164331525564194, 0.032164331525564194, 0.4503006041049957, 0.08041082322597504, 0.032164331525564194, 0.016082165762782097, 0.032164331525564194, 0.11257515102624893, 0.10444656014442444, 0.7311259508132935, 0.10444656014442444, 0.5948622822761536, 0.19828742742538452, 0.19828742742538452, 0.10662901401519775, 0.24880103766918182, 0.10662901401519775, 0.07108601182699203, 0.10662901401519775, 0.31988704204559326, 0.03554300591349602, 0.32883554697036743, 0.32883554697036743, 0.16441777348518372, 0.16441777348518372, 0.16571426391601562, 0.4971427917480469, 0.33142852783203125, 0.822114884853363, 0.10276436060667038, 0.30728521943092346, 0.2633873224258423, 0.17559154331684113, 0.13169366121292114, 0.04389788582921028, 0.04389788582921028, 0.19502228498458862, 0.5850668549537659, 0.19502228498458862, 0.9184567332267761, 0.05925527587532997, 0.17780821025371552, 0.08890410512685776, 0.7112328410148621, 0.19642606377601624, 0.0042934659868478775, 0.23292052745819092, 0.03542109206318855, 0.3166431188583374, 0.13739091157913208, 0.011807030998170376, 0.0042934659868478775, 0.042934659868478775, 0.01717386394739151, 0.6049365401268005, 0.20164550840854645, 0.15123413503170013, 0.8796015381813049, 0.07212867587804794, 0.5770294070243835, 0.3029404282569885, 0.014425734989345074, 0.014425734989345074, 0.9015843868255615, 0.06811559200286865, 0.919560432434082, 0.004257224500179291, 0.2392982542514801, 0.20420117676258087, 0.18186667561531067, 0.21217778325080872, 0.004785965196788311, 0.0781707614660263, 0.014357895590364933, 0.015953216701745987, 0.017548538744449615, 0.009571930393576622, 0.004785965196788311, 0.015953216701745987, 0.5417520999908447, 0.3611680567264557, 0.08303295820951462, 0.8303295969963074, 0.20621727406978607, 0.20621727406978607, 0.41243454813957214, 0.2758485972881317, 0.045974764972925186, 0.6436467170715332, 0.9275709390640259, 0.2336106151342392, 0.2717511057853699, 0.09535127133131027, 0.18593497574329376, 0.03814050927758217, 0.033372942358255386, 0.04290807247161865, 0.057210762053728104, 0.019070254638791084, 0.009535127319395542, 0.10990279912948608, 0.1563062071800232, 0.20026731491088867, 0.24422843754291534, 0.11478736251592636, 0.0781531035900116, 0.034191980957984924, 0.0146537059918046, 0.017095990478992462, 0.004884568974375725, 0.012211421504616737, 0.0024422844871878624, 0.0024422844871878624, 0.004884568974375725, 0.42101025581359863, 0.1403367519378662, 0.2806735038757324, 0.5225421786308289, 0.1881151795387268, 0.06270506232976913, 0.020901687443256378, 0.06270506232976913, 0.020901687443256378, 0.041803374886512756, 0.08360674977302551, 0.252271831035614, 0.252271831035614, 0.126135915517807, 0.252271831035614, 0.18631979823112488, 0.28313302993774414, 0.15526649355888367, 0.15343983471393585, 0.058453269302845, 0.04749327898025513, 0.06393326073884964, 0.0036533293314278126, 0.023746639490127563, 0.005479993764311075, 0.009133323095738888, 0.005479993764311075, 0.0018266646657139063, 0.002633419819176197, 0.945397675037384, 0.005266839638352394, 0.002633419819176197, 0.002633419819176197, 0.02633419819176197, 0.007900259457528591, 0.5591426491737366, 0.2795713245868683, 0.13074415922164917, 0.15299849212169647, 0.2517520487308502, 0.13769863545894623, 0.15786661207675934, 0.09388543665409088, 0.02781790681183338, 0.006954476702958345, 0.007649924140423536, 0.015995295718312263, 0.007649924140423536, 0.0034772383514791727, 0.001390895340591669, 0.001390895340591669, 0.0020863430108875036, 0.06831517815589905, 0.48796555399894714, 0.06831517815589905, 0.009759311564266682, 0.05855586752295494, 0.2537420988082886, 0.019518623128533363, 0.019518623128533363, 0.16332773864269257, 0.34480300545692444, 0.10888516157865524, 0.018147526308894157, 0.05444258078932762, 0.05444258078932762, 0.018147526308894157, 0.19962279498577118, 0.018147526308894157, 0.19070909917354584, 0.08581909537315369, 0.10965773463249207, 0.29083138704299927, 0.23997561633586884, 0.03337409347295761, 0.015892425552010536, 0.003178484970703721, 0.003178484970703721, 0.004767727572470903, 0.006356969941407442, 0.006356969941407442, 0.003178484970703721, 0.004767727572470903, 0.0015892424853518605, 0.8808168768882751, 0.32403266429901123, 0.16201633214950562, 0.13771387934684753, 0.048604901880025864, 0.1458147019147873, 0.03240326792001724, 0.07290735095739365, 0.00810081698000431, 0.024302450940012932, 0.01620163396000862, 0.00810081698000431, 0.03240326792001724, 0.11143772304058075, 0.445750892162323, 0.02228754386305809, 0.28973808884620667, 0.13372527062892914, 0.02228754386305809, 0.8583323359489441, 0.037318795919418335, 0.07463759183883667, 0.037318795919418335, 0.2837970554828644, 0.5675941109657288, 0.1418985277414322, 0.23910684883594513, 0.1760864406824112, 0.09823770076036453, 0.2502281069755554, 0.0593133270740509, 0.09267707169055939, 0.03336374834179878, 0.009267707355320454, 0.014828331768512726, 0.011121248826384544, 0.007414165884256363, 0.007414165884256363, 0.0018535414710640907, 0.22911183536052704, 0.22911183536052704, 0.4582236707210541, 0.48330509662628174, 0.16110169887542725, 0.16110169887542725, 0.1595492660999298, 0.1595492660999298, 0.1595492660999298, 0.1595492660999298, 0.3190985321998596, 0.3303307592868805, 0.5780788660049438, 0.027527563273906708, 0.027527563273906708, 0.11595188826322556, 0.652229368686676, 0.014493986032903194, 0.05797594413161278, 0.014493986032903194, 0.02898797206580639, 0.07246992737054825, 0.02898797206580639, 0.014493986032903194, 0.014493986032903194, 0.2633347809314728, 0.16404461860656738, 0.15325221419334412, 0.11224105954170227, 0.12087498605251312, 0.07986383140087128, 0.028060264885425568, 0.008633927442133427, 0.019426336511969566, 0.03021874651312828, 0.012950891628861427, 0.004316963721066713, 0.05334899201989174, 0.07422468811273575, 0.23195214569568634, 0.308496356010437, 0.16468602418899536, 0.12525415420532227, 0.009278086014091969, 0.006958564277738333, 0.009278086014091969, 0.002319521503522992, 0.006958564277738333, 0.002319521503522992, 0.002319521503522992, 0.32929727435112, 0.16464863717556, 0.16464863717556, 0.16464863717556, 0.16464863717556, 0.0673547089099884, 0.8756112456321716, 0.3996714949607849, 0.19983574748039246, 0.19983574748039246, 0.2049313336610794, 0.1877102106809616, 0.09643827378749847, 0.11365939676761627, 0.0774950385093689, 0.21698611974716187, 0.027553793042898178, 0.02066534385085106, 0.0068884482607245445, 0.008610560558736324, 0.015499007888138294, 0.01894323155283928, 0.0017221120651811361, 0.0017221120651811361, 0.3842824101448059, 0.34230196475982666, 0.03552190214395523, 0.041980430483818054, 0.03875116631388664, 0.08719012886285782, 0.01937558315694332, 0.012917055748403072, 0.01614631898701191, 0.003229263937100768, 0.00968779157847166, 0.003229263937100768, 0.7794176936149597, 0.1558835357427597, 0.3527211844921112, 0.19266919791698456, 0.1297103613615036, 0.04778802767395973, 0.049305111169815063, 0.0879906564950943, 0.053097810596227646, 0.026548905298113823, 0.012895182706415653, 0.017446422949433327, 0.01668788306415081, 0.007585401646792889, 0.005309781059622765, 0.000758540176320821, 0.16161687672138214, 0.08080843836069107, 0.2693614661693573, 0.05387229099869728, 0.05387229099869728, 0.05387229099869728, 0.02693614549934864, 0.02693614549934864, 0.18855302035808563, 0.05387229099869728, 0.02693614549934864, 0.04519171640276909, 0.3163420259952545, 0.04519171640276909, 0.13557514548301697, 0.13557514548301697, 0.13557514548301697, 0.04519171640276909, 0.04519171640276909, 0.09038343280553818, 0.20978154242038727, 0.23899902403354645, 0.17939534783363342, 0.1116107925772667, 0.07771851122379303, 0.05551322177052498, 0.042657528072595596, 0.01869918964803219, 0.01869918964803219, 0.02103658951818943, 0.012855692766606808, 0.008180895820260048, 0.0023373987060040236, 0.0017530490877106786, 0.0017530490877106786, 0.24676957726478577, 0.08542023599147797, 0.07592909783124924, 0.10914807766675949, 0.09965693950653076, 0.22304172813892365, 0.05220125615596771, 0.009491137228906155, 0.04745568707585335, 0.01898227445781231, 0.01423670630902052, 0.004745568614453077, 0.004745568614453077, 0.01423670630902052, 0.010075635276734829, 0.17128580808639526, 0.7858995795249939, 0.020151270553469658, 0.010075635276734829, 0.6803178191184998, 0.040819067507982254, 0.013606355525553226, 0.1292603760957718, 0.013606355525553226, 0.054425422102212906, 0.006803177762776613, 0.040819067507982254, 0.013606355525553226, 0.006803177762776613, 0.8591416478157043, 0.07810378819704056, 0.436099112033844, 0.04360991343855858, 0.08721982687711716, 0.2616594731807709, 0.04360991343855858, 0.13082973659038544, 0.2203759253025055, 0.1797240525484085, 0.13479304313659668, 0.15404918789863586, 0.07702459394931793, 0.11981603503227234, 0.033163368701934814, 0.019256148487329483, 0.021395720541477203, 0.008558288216590881, 0.008558288216590881, 0.018186362460255623, 0.0032093580812215805, 0.0010697860270738602, 0.0010697860270738602, 0.14457784593105316, 0.8118602633476257, 0.03336412087082863, 0.9198724031448364, 0.21493659913539886, 0.19611002504825592, 0.16943906247615814, 0.1443369835615158, 0.04549752548336983, 0.11452826112508774, 0.042359765619039536, 0.023533204570412636, 0.004706640727818012, 0.007844401523470879, 0.014119922183454037, 0.007844401523470879, 0.01098216138780117, 0.0015688802814111114, 0.0031377605628222227, 0.3172541558742523, 0.21102426946163177, 0.12345637381076813, 0.10622990131378174, 0.06747034192085266, 0.05598602816462517, 0.041630636900663376, 0.024404166266322136, 0.01579093188047409, 0.011484313756227493, 0.00430661765858531, 0.00861323531717062, 0.007177696097642183, 0.0014355392195284367, 0.0028710784390568733, 0.14580222964286804, 0.09134597331285477, 0.19674517214298248, 0.1317490041255951, 0.14580222964286804, 0.19147521257400513, 0.029863106086850166, 0.017566533759236336, 0.005269960034638643, 0.014053226448595524, 0.021079840138554573, 0.003513306612148881, 0.003513306612148881, 0.1611826866865158, 0.09977976232767105, 0.16885805130004883, 0.18420879542827606, 0.023026099428534508, 0.26096245646476746, 0.0383768305182457, 0.030701465904712677, 0.030701465904712677, 0.007675366476178169, 0.9079322814941406, 0.018158646300435066, 0.05447593703866005, 0.04167575761675835, 0.9307586550712585, 0.013891919516026974, 0.06625566631555557, 0.9275792837142944, 0.013191863894462585, 0.36409544944763184, 0.3350733518600464, 0.1477488875389099, 0.010553491301834583, 0.10553491115570068, 0.015830237418413162, 0.002638372825458646, 0.002638372825458646, 0.3832331895828247, 0.19161659479141235, 0.3832331895828247, 0.37481454014778137, 0.18740727007389069, 0.18740727007389069, 0.18740727007389069, 0.18740727007389069, 0.07909750193357468, 0.23729251325130463, 0.07909750193357468, 0.15819500386714935, 0.07909750193357468, 0.07909750193357468, 0.3163900077342987, 0.30343034863471985, 0.6755619645118713, 0.011450202204287052, 0.9619058966636658, 0.014976355247199535, 0.698896586894989, 0.00249605905264616, 0.017472414299845695, 0.2346295565366745, 0.017472414299845695, 0.007488177623599768, 0.00249605905264616, 0.00249605905264616, 0.14005059003829956, 0.4989302158355713, 0.008753161877393723, 0.14005059003829956, 0.16631007194519043, 0.017506323754787445, 0.008753161877393723, 0.026259485632181168, 0.1901904195547104, 0.57057124376297, 0.1901904195547104, 0.9121342897415161, 0.18373705446720123, 0.18373705446720123, 0.18373705446720123, 0.18373705446720123, 0.36747410893440247, 0.06596457958221436, 0.560698926448822, 0.36280518770217896, 0.10559053719043732, 0.6335431933403015, 0.21118107438087463, 0.7425163984298706, 0.18562909960746765, 0.1467294543981552, 0.13128425180912018, 0.2349877804517746, 0.15224561095237732, 0.15665851533412933, 0.08053571730852127, 0.03309686854481697, 0.03199364244937897, 0.005516144912689924, 0.0033096871338784695, 0.014341977424919605, 0.005516144912689924, 0.0033096871338784695, 0.1479981541633606, 0.7399908304214478, 0.5006476044654846, 0.1072816252708435, 0.3933659791946411, 0.06840991973876953, 0.06840991973876953, 0.8209190368652344, 0.02673756517469883, 0.10695026069879532, 0.8556020855903625, 0.0017344864318147302, 0.07631739974021912, 0.9123398661613464, 0.0034689728636294603, 0.0017344864318147302, 0.35243627429008484, 0.035243626683950424, 0.5638980269432068, 0.035243626683950424, 0.09111836552619934, 0.01607971079647541, 0.15543721616268158, 0.4073526859283447, 0.19831643998622894, 0.06431884318590164, 0.01607971079647541, 0.01607971079647541, 0.01071980781853199, 0.0267995186150074, 0.8926997780799866, 0.011902663856744766, 0.047610655426979065, 0.011902663856744766, 0.011902663856744766, 0.5479207038879395, 0.02004588022828102, 0.04677371680736542, 0.2271866351366043, 0.04677371680736542, 0.013363919220864773, 0.006681959610432386, 0.060137636959552765, 0.02004588022828102, 0.006681959610432386, 0.8064485788345337, 0.13166508078575134, 0.032916270196437836, 0.016458135098218918, 0.5015722513198853, 0.11309962719678879, 0.04425637423992157, 0.01966949924826622, 0.08851274847984314, 0.14260387420654297, 0.02458687499165535, 0.014752124436199665, 0.02458687499165535, 0.01966949924826622, 0.004917374812066555, 0.028176672756671906, 0.5259645581245422, 0.018784448504447937, 0.14088335633277893, 0.24419783055782318, 0.009392224252223969, 0.028176672756671906, 0.11260168254375458, 0.7882117629051208, 0.16924726963043213, 0.14506909251213074, 0.02417818084359169, 0.19342544674873352, 0.07253454625606537, 0.2417818158864975, 0.07253454625606537, 0.04835636168718338, 0.02417818084359169, 0.06814155727624893, 0.9028756618499756, 0.017035389319062233, 0.5904793739318848, 0.16870839893817902, 0.08435419946908951, 0.08435419946908951, 0.009568853303790092, 0.0669819712638855, 0.8707656264305115, 0.04784426838159561, 0.09920867532491684, 0.8432737588882446, 0.16105546057224274, 0.38653311133384705, 0.09663327783346176, 0.06442218273878098, 0.2576887309551239, 0.03221109136939049, 0.3944997489452362, 0.3944997489452362, 0.1972498744726181, 0.708610475063324, 0.23620347678661346, 0.829113781452179, 0.07209684699773788, 0.07209684699773788, 0.9279139637947083, 0.04034408554434776, 0.18875324726104736, 0.10835834592580795, 0.1974918246269226, 0.2359415590763092, 0.04718831181526184, 0.10311520099639893, 0.040197450667619705, 0.03320658951997757, 0.01747715286910534, 0.005243145860731602, 0.013981721363961697, 0.005243145860731602, 0.003495430340990424, 0.001747715170495212, 0.1855200231075287, 0.1855200231075287, 0.3710400462150574, 0.1855200231075287, 0.07564019411802292, 0.015128037892282009, 0.196664497256279, 0.5899934768676758, 0.04538411274552345, 0.060512151569128036, 0.015128037892282009, 0.20453347265720367, 0.04624801501631737, 0.38822275400161743, 0.07816565781831741, 0.20844174921512604, 0.024101078510284424, 0.008467946201562881, 0.0013027609093114734, 0.0006513804546557367, 0.020844174548983574, 0.011724848300218582, 0.005862424150109291, 0.0013027609093114734, 0.21646329760551453, 0.7035056948661804, 0.05411582440137863, 0.9620038270950317, 0.04080845043063164, 0.5713183283805847, 0.36727604269981384, 0.1819731742143631, 0.22317466139793396, 0.1922735571861267, 0.23175829648971558, 0.0618022121489048, 0.0652356669306755, 0.008583640679717064, 0.01201709732413292, 0.005150184500962496, 0.003433456178754568, 0.006866912357509136, 0.005150184500962496, 0.001716728089377284, 0.08053619414567947, 0.4026809632778168, 0.026845399290323257, 0.4026809632778168, 0.053690798580646515, 0.8448418974876404, 0.1206917017698288, 0.022026754915714264, 0.6094068884849548, 0.09544927626848221, 0.062409140169620514, 0.018355630338191986, 0.15418729186058044, 0.0036711259745061398, 0.011013377457857132, 0.018355630338191986, 0.9253984093666077, 0.19301849603652954, 0.5790554881095886, 0.10257592052221298, 0.0936562791466713, 0.12041521072387695, 0.4207099378108978, 0.13825450837612152, 0.0520312637090683, 0.011892860755324364, 0.01783929020166397, 0.008919645100831985, 0.0014866075944155455, 0.007433037739247084, 0.010406252928078175, 0.007433037739247084, 0.002973215188831091, 0.17310288548469543, 0.6924115419387817, 0.18691964447498322, 0.18691964447498322, 0.37383928894996643, 0.11586782336235046, 0.1544904261827469, 0.27035826444625854, 0.07724521309137344, 0.07724521309137344, 0.07724521309137344, 0.1931130439043045, 0.2807711362838745, 0.42115673422813416, 0.14038556814193726, 0.4843336343765259, 0.1614445447921753, 0.1614445447921753, 0.8783469200134277, 0.6199489831924438, 0.07749362289905548, 0.23248086869716644, 0.12725934386253357, 0.3817780613899231, 0.12725934386253357, 0.3817780613899231, 0.43700864911079407, 0.14566954970359802, 0.14566954970359802, 0.14566954970359802, 0.11966527998447418, 0.16861926019191742, 0.2665272057056427, 0.1849372535943985, 0.08702929317951202, 0.038075316697359085, 0.01631799153983593, 0.038075316697359085, 0.021757323294878006, 0.01631799153983593, 0.01631799153983593, 0.010878661647439003, 0.010878661647439003, 0.05786474049091339, 0.46291792392730713, 0.40505319833755493, 0.028932370245456696, 0.3883834481239319, 0.1790420114994049, 0.11844318360090256, 0.06335332989692688, 0.10742521286010742, 0.06335332989692688, 0.022035939618945122, 0.024790432304143906, 0.0055089849047362804, 0.013772462494671345, 0.0055089849047362804, 0.0027544924523681402, 0.894016444683075, 0.026638682931661606, 0.9589925408363342, 0.013319341465830803, 0.3168985843658447, 0.197635680437088, 0.098817840218544, 0.14311549067497253, 0.03748263046145439, 0.0783727690577507, 0.034075118601322174, 0.044297654181718826, 0.017037559300661087, 0.0034075118601322174, 0.01363004744052887, 0.010222535580396652, 0.006815023720264435, 0.0034075118601322174, 0.3102245330810547, 0.32469093799591064, 0.06108047440648079, 0.08679857105016708, 0.025718094781041145, 0.09322809427976608, 0.04179190471768379, 0.008036904968321323, 0.019288571551442146, 0.0016073809238150716, 0.0016073809238150716, 0.012859047390520573, 0.011251666583120823, 0.3276022970676422, 0.1638011485338211, 0.3276022970676422, 0.3920416235923767, 0.19602081179618835, 0.19602081179618835, 0.12524551153182983, 0.6262275576591492, 0.12524551153182983, 0.8467492461204529, 0.07461769878864288, 0.8021402955055237, 0.03730884939432144, 0.05596327781677246, 0.5339895486831665, 0.35599303245544434, 0.3694201707839966, 0.5541302561759949, 0.045868854969739914, 0.7109673023223877, 0.022934427484869957, 0.18347541987895966, 0.7333598732948303, 0.18333996832370758, 0.02995257079601288, 0.11981028318405151, 0.8386719822883606, 0.19250662624835968, 0.062386404722929, 0.3422339856624603, 0.10873059183359146, 0.14972737431526184, 0.06951627880334854, 0.017824687063694, 0.008912343531847, 0.005347406025975943, 0.026737030595541, 0.008912343531847, 0.005347406025975943, 0.0017824687529355288, 0.2832164466381073, 0.19022001326084137, 0.1606302261352539, 0.061293113976716995, 0.02113555558025837, 0.10145066678524017, 0.06552022695541382, 0.02324911206960678, 0.03593044728040695, 0.008454222232103348, 0.014794889837503433, 0.019022000953555107, 0.012681333348155022, 0.002113555558025837, 0.32990822196006775, 0.5498470067977905, 0.14088161289691925, 0.493085652589798, 0.14088161289691925, 0.14088161289691925, 0.08846677094697952, 0.8973057866096497, 0.9052637219429016, 0.414944589138031, 0.2766297459602356, 0.2766297459602356, 0.1867043823003769, 0.24504950642585754, 0.1692008525133133, 0.005834511946886778, 0.017503537237644196, 0.27422207593917847, 0.07001414895057678, 0.005834511946886778, 0.005834511946886778, 0.017503537237644196, 0.005834511946886778, 0.1663048267364502, 0.1663048267364502, 0.3326096534729004, 0.1663048267364502, 0.1663048267364502, 0.3802996575832367, 0.19014982879161835, 0.19014982879161835, 0.19014982879161835, 0.1257532238960266, 0.37725967168807983, 0.37725967168807983, 0.032128334045410156, 0.27309083938598633, 0.016064167022705078, 0.5381495952606201, 0.048192501068115234, 0.008032083511352539, 0.024096250534057617, 0.016064167022705078, 0.008032083511352539, 0.008032083511352539, 0.008032083511352539, 0.008032083511352539, 0.03251856938004494, 0.01625928469002247, 0.21137069165706635, 0.3414449691772461, 0.13007427752017975, 0.01625928469002247, 0.01625928469002247, 0.13007427752017975, 0.06503713876008987, 0.06880143284797668, 0.49881038069725037, 0.01720035821199417, 0.32680681347846985, 0.03440071642398834, 0.01720035821199417, 0.14623846113681793, 0.7311923503875732, 0.14623846113681793, 0.870366632938385, 0.02211451716721058, 0.729779064655304, 0.02211451716721058, 0.19903065264225006, 0.01105725858360529, 0.005528629291802645, 0.005528629291802645, 0.0358748733997345, 0.7174974679946899, 0.143499493598938, 0.059791456907987595, 0.0358748733997345, 0.2152061015367508, 0.2152061015367508, 0.2152061015367508, 0.2152061015367508, 0.2814948856830597, 0.07037372142076492, 0.010053388774394989, 0.573043167591095, 0.010053388774394989, 0.040213555097579956, 0.010053388774394989, 0.27418053150177, 0.69459068775177, 0.018278703093528748, 0.21907204389572144, 0.4694401025772095, 0.031296007335186005, 0.12518402934074402, 0.031296007335186005, 0.06259201467037201, 0.06259201467037201, 0.7580366134643555, 0.028075430542230606, 0.05615086108446121, 0.11230172216892242, 0.028075430542230606, 0.028075430542230606, 0.18618428707122803, 0.10048040747642517, 0.2837093770503998, 0.08865918219089508, 0.1684524565935135, 0.07979326695203781, 0.014776530675590038, 0.008865918032824993, 0.002955306088551879, 0.008865918032824993, 0.03546367213129997, 0.005910612177103758, 0.008865918032824993, 0.002955306088551879, 0.18575483560562134, 0.18575483560562134, 0.18575483560562134, 0.3715096712112427, 0.8455280065536499, 0.11707311123609543, 0.013008123263716698, 0.013008123263716698, 0.18752749264240265, 0.18752749264240265, 0.3750549852848053, 0.18752749264240265, 0.16200588643550873, 0.6480235457420349, 0.16200588643550873, 0.3398088812828064, 0.1699044406414032, 0.1699044406414032, 0.1699044406414032, 0.17373886704444885, 0.6949554681777954, 0.09260901808738708, 0.8643508553504944, 0.35862401127815247, 0.3108074963092804, 0.04781653732061386, 0.02390826866030693, 0.04781653732061386, 0.04781653732061386, 0.02390826866030693, 0.02390826866030693, 0.04781653732061386, 0.02390826866030693, 0.04781653732061386, 0.12020336091518402, 0.18030504882335663, 0.06010168045759201, 0.12020336091518402, 0.12020336091518402, 0.12020336091518402, 0.24040672183036804, 0.4387136697769165, 0.506208062171936, 0.9138081669807434, 0.8720318078994751, 0.041525326669216156, 0.041525326669216156, 0.23501341044902802, 0.1402180790901184, 0.14614279568195343, 0.22513888776302338, 0.08689571171998978, 0.04344785585999489, 0.03159844130277634, 0.019749024882912636, 0.01579922065138817, 0.009874512441456318, 0.019749024882912636, 0.017774123698472977, 0.003949805162847042, 0.8756855726242065, 0.1315147578716278, 0.08916255086660385, 0.24296794831752777, 0.16717977821826935, 0.1716379076242447, 0.06910097599029541, 0.03566502034664154, 0.042352210730314255, 0.011145318858325481, 0.011145318858325481, 0.01783251017332077, 0.0022290637716650963, 0.0044581275433301926, 0.6349066495895386, 0.15872666239738464, 0.15872666239738464, 0.37767595052719116, 0.18883797526359558, 0.37767595052719116, 0.16190998256206512, 0.16190998256206512, 0.16190998256206512, 0.32381996512413025, 0.8898420333862305, 0.030684208497405052, 0.16957160830497742, 0.07450874149799347, 0.3622666299343109, 0.1901257485151291, 0.04110826924443245, 0.056523870676755905, 0.007707800250500441, 0.04624680429697037, 0.015415600501000881, 0.020554134622216225, 0.012846333906054497, 0.002569266827777028, 0.002569266827777028, 0.14332111179828644, 0.14332111179828644, 0.14332111179828644, 0.2866422235965729, 0.14332111179828644, 0.10698512941598892, 0.010698513127863407, 0.08558810502290726, 0.267462819814682, 0.21397025883197784, 0.032095540314912796, 0.021397026255726814, 0.05349256470799446, 0.11768364161252975, 0.07488959282636642, 0.13666565716266632, 0.15676353871822357, 0.13666565716266632, 0.22107678651809692, 0.13264606893062592, 0.09646987169981003, 0.024117467924952507, 0.020097890868782997, 0.012058733962476254, 0.008039155974984169, 0.032156623899936676, 0.012058733962476254, 0.012058733962476254, 0.008039155974984169, 0.34029415249824524, 0.17014707624912262, 0.17014707624912262, 0.17014707624912262, 0.08507353812456131, 0.12466900795698166, 0.21064762771129608, 0.27083268761634827, 0.10747328400611877, 0.10747328400611877, 0.021494656801223755, 0.03439145162701607, 0.03439145162701607, 0.017195725813508034, 0.04298931360244751, 0.021494656801223755, 0.008597862906754017, 0.0042989314533770084, 0.10926607251167297, 0.3824312388896942, 0.05463303625583649, 0.40974777936935425, 0.8783542513847351, 0.79649418592453, 0.1327490359544754, 0.15557102859020233, 0.15557102859020233, 0.15557102859020233, 0.31114205718040466, 0.15090522170066833, 0.08623155951499939, 0.06467366963624954, 0.08623155951499939, 0.2802525758743286, 0.17246311902999878, 0.021557889878749847, 0.10778944939374924, 0.5571979880332947, 0.22287920117378235, 0.11143960058689117, 0.19764995574951172, 0.19764995574951172, 0.39529991149902344, 0.19764995574951172, 0.1667851060628891, 0.1111900731921196, 0.1667851060628891, 0.1667851060628891, 0.0555950365960598, 0.2779752016067505, 0.5485607385635376, 0.2742803692817688, 0.18556863069534302, 0.18556863069534302, 0.37113726139068604, 0.18556863069534302, 0.10925281792879105, 0.10925281792879105, 0.2185056358575821, 0.32775846123695374, 0.10925281792879105, 0.22120332717895508, 0.3686722218990326, 0.01053349208086729, 0.07373443990945816, 0.07373443990945816, 0.13693539798259735, 0.08426793664693832, 0.01053349208086729, 0.01053349208086729, 0.09829286485910416, 0.6225214600563049, 0.02621142938733101, 0.06552857905626297, 0.15071572363376617, 0.02621142938733101, 0.006552857346832752, 0.31839272379875183, 0.15919636189937592, 0.15919636189937592, 0.31839272379875183, 0.1025623083114624, 0.2734994888305664, 0.512811541557312, 0.0683748722076416, 0.08629508316516876, 0.08629508316516876, 0.6903606653213501, 0.08629508316516876, 0.05037645623087883, 0.41980379819869995, 0.43659594655036926, 0.03358430415391922, 0.05037645623087883, 0.33011260628700256, 0.5501877069473267, 0.35873445868492126, 0.11957814544439316, 0.35873445868492126, 0.9400577545166016, 0.03397798910737038, 0.011325996369123459, 0.4262540638446808, 0.28416937589645386, 0.14208468794822693, 0.5656901597976685, 0.3771267831325531, 0.23306356370449066, 0.2047179937362671, 0.10078424215316772, 0.11023276299238205, 0.11023276299238205, 0.13542883098125458, 0.028345568105578423, 0.02204655297100544, 0.009448522701859474, 0.028345568105578423, 0.012598030269145966, 0.0031495075672864914, 0.0031495075672864914, 0.0031495075672864914, 0.8613142967224121, 0.16086608171463013, 0.16086608171463013, 0.16086608171463013, 0.32173216342926025, 0.19053535163402557, 0.19053535163402557, 0.19053535163402557, 0.19053535163402557, 0.19053535163402557, 0.9170688986778259, 0.038532305508852005, 0.0077064610086381435, 0.015412922017276287, 0.037116553634405136, 0.18558277189731598, 0.668097972869873, 0.07423310726881027, 0.3745419383049011, 0.3745419383049011, 0.18727096915245056, 0.3898387849330902, 0.09745969623327255, 0.29237908124923706, 0.1949193924665451, 0.3842238485813141, 0.19211192429065704, 0.19211192429065704, 0.19211192429065704, 0.18653535842895508, 0.7461414337158203, 0.18653535842895508, 0.893124520778656, 0.10205742716789246, 0.031184213235974312, 0.274988055229187, 0.25797849893569946, 0.2636483609676361, 0.02267942763864994, 0.01417464204132557, 0.005669856909662485, 0.008504785597324371, 0.008504785597324371, 0.008504785597324371, 0.0028349284548312426, 0.18805114924907684, 0.5641534328460693, 0.18805114924907684, 0.18805114924907684, 0.15641069412231445, 0.15641069412231445, 0.15641069412231445, 0.46923211216926575, 0.18960340321063995, 0.3792068064212799, 0.18960340321063995, 0.18960340321063995, 0.1097760945558548, 0.2195521891117096, 0.1646641492843628, 0.0548880472779274, 0.1097760945558548, 0.0548880472779274, 0.2195521891117096, 0.31440016627311707, 0.4716002345085144, 0.6502796411514282, 0.14598114788532257, 0.13271012902259827, 0.026542026549577713, 0.013271013274788857, 0.2786320745944977, 0.1857547163963318, 0.0928773581981659, 0.2786320745944977, 0.3253602385520935, 0.16268011927604675, 0.3253602385520935, 0.16268011927604675, 0.9544723033905029, 0.1586376577615738, 0.39659416675567627, 0.3172753155231476, 0.0793188288807869, 0.5445660948753357, 0.01701769046485424, 0.23824767768383026, 0.13614152371883392, 0.03403538092970848, 0.01701769046485424, 0.10161484777927399, 0.7748132348060608, 0.08891299366950989, 0.012701855972409248, 0.012701855972409248, 0.8780120611190796, 0.008388650603592396, 0.041943252086639404, 0.0027962166350334883, 0.0055924332700669765, 0.0027962166350334883, 0.041943252086639404, 0.011184866540133953, 0.194045290350914, 0.1455339640378952, 0.1455339640378952, 0.194045290350914, 0.0485113225877285, 0.0485113225877285, 0.2425566017627716, 0.33462873101234436, 0.143252432346344, 0.1208692416548729, 0.15892066061496735, 0.12758420407772064, 0.035813108086586, 0.025740671902894974, 0.01231075543910265, 0.0156682338565588, 0.0078341169282794, 0.0078341169282794, 0.006714957766234875, 0.0033574788831174374, 0.0011191596277058125, 0.30057814717292786, 0.6612719297409058, 0.82918381690979, 0.13819730281829834, 0.43918877840042114, 0.2635132670402527, 0.029279252514243126, 0.029279252514243126, 0.05855850502848625, 0.029279252514243126, 0.1171170100569725, 0.3233218193054199, 0.2694348394870758, 0.07657621800899506, 0.07657621800899506, 0.0340338759124279, 0.0850846916437149, 0.07090390473604202, 0.011344625614583492, 0.014180781319737434, 0.01701693795621395, 0.008508468978106976, 0.008508468978106976, 0.002836156403645873, 0.002836156403645873, 0.14117196202278137, 0.5646878480911255, 0.14117196202278137, 0.013761111535131931, 0.7431000471115112, 0.027522223070263863, 0.13761112093925476, 0.04128333553671837, 0.027522223070263863, 0.0935588926076889, 0.1871177852153778, 0.1871177852153778, 0.0935588926076889, 0.0935588926076889, 0.0935588926076889, 0.0935588926076889, 0.38572412729263306, 0.19286206364631653, 0.38572412729263306, 0.3548941910266876, 0.04436177387833595, 0.13308532536029816, 0.0887235477566719, 0.0887235477566719, 0.13308532536029816, 0.04436177387833595, 0.04436177387833595, 0.0887235477566719, 0.3136405944824219, 0.15682029724121094, 0.4704608917236328, 0.27728432416915894, 0.09242811053991318, 0.4621405303478241, 0.09242811053991318, 0.18707339465618134, 0.03741467744112015, 0.6734642386436462, 0.03741467744112015, 0.03741467744112015, 0.2415245622396469, 0.20169870555400848, 0.12975521385669708, 0.1695810705423355, 0.09506817907094955, 0.0770823061466217, 0.0231246929615736, 0.0256941020488739, 0.006423525512218475, 0.00899293553084135, 0.00899293553084135, 0.0077082309871912, 0.0038541154935956, 0.002569410251453519, 0.2444998174905777, 0.1646631360054016, 0.09979584068059921, 0.20957127213478088, 0.1297345906496048, 0.024948960170149803, 0.029938753694295883, 0.05488771200180054, 0.004989792127162218, 0.014969376847147942, 0.009979584254324436, 0.9677952527999878, 0.13332560658454895, 0.2666512131690979, 0.13332560658454895, 0.06666280329227448, 0.13332560658454895, 0.3333140015602112, 0.19052410125732422, 0.38104820251464844, 0.19052410125732422, 0.2826557755470276, 0.2826557755470276, 0.1413278877735138, 0.1413278877735138, 0.1413278877735138, 0.1863735467195511, 0.3727470934391022, 0.1863735467195511, 0.1863735467195511, 0.3338853418827057, 0.22259022295475006, 0.031798604875802994, 0.015899302437901497, 0.14309372007846832, 0.031798604875802994, 0.031798604875802994, 0.12719441950321198, 0.015899302437901497, 0.04769790545105934, 0.898371160030365, 0.05614819750189781, 0.4988684058189392, 0.1247171014547348, 0.2494342029094696, 0.08494667708873749, 0.16989335417747498, 0.33978670835494995, 0.1415777951478958, 0.028315559029579163, 0.028315559029579163, 0.028315559029579163, 0.028315559029579163, 0.08494667708873749, 0.056631118059158325, 0.19090060889720917, 0.26074230670928955, 0.10243447870016098, 0.15830783545970917, 0.07915391772985458, 0.07449780404567719, 0.03724890202283859, 0.05121723935008049, 0.013968337327241898, 0.013968337327241898, 0.013968337327241898, 0.004656112752854824, 0.4224192798137665, 0.5280240774154663, 0.2529633939266205, 0.16864225268363953, 0.08432112634181976, 0.42160564661026, 0.23022648692131042, 0.04886883124709129, 0.21502286195755005, 0.15312233567237854, 0.1346607804298401, 0.10533948242664337, 0.03149324655532837, 0.00542986998334527, 0.019547533243894577, 0.02823532558977604, 0.01411766279488802, 0.009773766621947289, 0.0032579221297055483, 0.18417654931545258, 0.18417654931545258, 0.5525296330451965, 0.3813503086566925, 0.02383439429104328, 0.02383439429104328, 0.26217833161354065, 0.04766878858208656, 0.09533757716417313, 0.071503184735775, 0.02383439429104328, 0.071503184735775, 0.36648058891296387, 0.48864078521728516, 0.5690706968307495, 0.1896902322769165, 0.1896902322769165, 0.7797475457191467, 0.15594951808452606, 0.18928338587284088, 0.06309445947408676, 0.4416612386703491, 0.25237783789634705, 0.3853735625743866, 0.018430909141898155, 0.1223142221570015, 0.19603785872459412, 0.10053223371505737, 0.09047901630401611, 0.001675537321716547, 0.005026611965149641, 0.013404298573732376, 0.053617194294929504, 0.008377686142921448, 0.001675537321716547, 0.031663231551647186, 0.009998914785683155, 0.07665834575891495, 0.5799370408058167, 0.26497122645378113, 0.013331886380910873, 0.0016664857976138592, 0.006665943190455437, 0.0016664857976138592, 0.0033329715952277184, 0.0049994573928415775, 0.0033329715952277184, 0.14876101911067963, 0.0053128935396671295, 0.01593868061900139, 0.32939937710762024, 0.393154114484787, 0.010625787079334259, 0.01593868061900139, 0.03719025477766991, 0.0265644658356905, 0.01593868061900139, 0.0053128935396671295, 0.48644113540649414, 0.16214704513549805, 0.16214704513549805, 0.16214704513549805, 0.12451881170272827, 0.3112970292568207, 0.12451881170272827, 0.12451881170272827, 0.062259405851364136, 0.12451881170272827, 0.062259405851364136, 0.062259405851364136, 0.8684126138687134, 0.8576078414916992, 0.9317017197608948, 0.18983982503414154, 0.18983982503414154, 0.18983982503414154, 0.18983982503414154, 0.18983982503414154, 0.9377300143241882, 0.06201961264014244, 0.7176555395126343, 0.15061905980110168, 0.00885994452983141, 0.03543977811932564, 0.00885994452983141, 0.6234616637229919, 0.31173083186149597, 0.10041719675064087, 0.06694480031728745, 0.18075096607208252, 0.23430679738521576, 0.19413991272449493, 0.06025031954050064, 0.03347240015864372, 0.00669447984546423, 0.01338895969092846, 0.01338895969092846, 0.07363928109407425, 0.01338895969092846, 0.00669447984546423, 0.00669447984546423, 0.10998554527759552, 0.21997109055519104, 0.5499277114868164, 0.3314991593360901, 0.6629983186721802, 0.8889671564102173, 0.09321862459182739, 0.15536436438560486, 0.2692982256412506, 0.11393386870622635, 0.09839743375778198, 0.14500674605369568, 0.046609312295913696, 0.015536436811089516, 0.005178812425583601, 0.025894060730934143, 0.03107287362217903, 0.1454385668039322, 0.0743352621793747, 0.22946973145008087, 0.24347493052482605, 0.17129430174827576, 0.059252746403217316, 0.012927872128784657, 0.017237162217497826, 0.01400519534945488, 0.015082517638802528, 0.007541258819401264, 0.007541258819401264, 0.002154645277187228, 0.001077322638593614, 0.001077322638593614, 0.2066473513841629, 0.21223241090774536, 0.22340252995491028, 0.041887976229190826, 0.0977386087179184, 0.07260582596063614, 0.03630291298031807, 0.022340252995491028, 0.013962658122181892, 0.025132784619927406, 0.03630291298031807, 0.008377594873309135, 0.27996882796287537, 0.13998441398143768, 0.13998441398143768, 0.27996882796287537, 0.18152332305908203, 0.16583611071109772, 0.21737977862358093, 0.1568720042705536, 0.10981040447950363, 0.06498982757329941, 0.029133372008800507, 0.02016925811767578, 0.026892343536019325, 0.006723085884004831, 0.0089641148224473, 0.0089641148224473, 0.18468914926052094, 0.18468914926052094, 0.4155505895614624, 0.09234457463026047, 0.046172287315130234, 0.046172287315130234, 0.046172287315130234, 0.9238690137863159, 0.07847227156162262, 0.05667441710829735, 0.279012531042099, 0.3792826533317566, 0.08719141036272049, 0.05231484770774841, 0.013078711926937103, 0.017438283190131187, 0.004359570797532797, 0.008719141595065594, 0.013078711926937103, 0.008719141595065594, 0.004359570797532797, 0.519740879535675, 0.09355335682630539, 0.015592226758599281, 0.02078963629901409, 0.16631709039211273, 0.07276372611522675, 0.025987043976783752, 0.051974087953567505, 0.010394818149507046, 0.025987043976783752, 0.08457928150892258, 0.8457927703857422, 0.9457085132598877, 0.4351085126399994, 0.2962440848350525, 0.049374014139175415, 0.02777288295328617, 0.03394463658332825, 0.03394463658332825, 0.07714689522981644, 0.024687007069587708, 0.012343503534793854, 0.006171751767396927, 0.0030858758836984634, 0.1950957179069519, 0.5852871537208557, 0.1950957179069519, 0.9569407105445862, 0.5589388608932495, 0.13973471522331238, 0.27946943044662476, 0.34017977118492126, 0.21755683422088623, 0.06328926235437393, 0.0830671489238739, 0.027689050883054733, 0.15822315216064453, 0.06328926235437393, 0.003955578897148371, 0.019777894020080566, 0.019777894020080566, 0.003955578897148371, 0.003955578897148371, 0.12489960342645645, 0.2497992068529129, 0.12489960342645645, 0.12489960342645645, 0.12489960342645645, 0.12489960342645645, 0.3250076472759247, 0.4875114858150482, 0.2694528102874756, 0.3079460561275482, 0.02886994369328022, 0.02886994369328022, 0.2694528102874756, 0.05773988738656044, 0.019246628507971764, 0.009623314253985882, 0.6084353923797607, 0.15210884809494019, 0.14228489995002747, 0.17785611748695374, 0.35571223497390747, 0.07114244997501373, 0.10671366751194, 0.035571224987506866, 0.07114244997501373, 0.12534475326538086, 0.06674201041460037, 0.37928998470306396, 0.12046119570732117, 0.17580822110176086, 0.05697488784790039, 0.014650685712695122, 0.004883561749011278, 0.009767123498022556, 0.0260456632822752, 0.0032557079102844, 0.004883561749011278, 0.0016278539551422, 0.008139269426465034, 0.5009264945983887, 0.21468278765678406, 0.07156092673540115, 0.1431218534708023, 0.15187881886959076, 0.14428487420082092, 0.022781822830438614, 0.48601222038269043, 0.10631517320871353, 0.022781822830438614, 0.022781822830438614, 0.030375763773918152, 0.007593940943479538, 0.9457322955131531, 0.027020923793315887, 0.027020923793315887, 0.9336345195770264, 0.4591529071331024, 0.4591529071331024, 0.31862953305244446, 0.254903644323349, 0.1274518221616745, 0.06372591108083725, 0.06372591108083725, 0.1274518221616745, 0.0790627971291542, 0.47437676787376404, 0.39531397819519043, 0.0962652638554573, 0.5775915384292603, 0.1925305277109146, 0.3826546370983124, 0.3826546370983124, 0.1913273185491562, 0.1333659440279007, 0.10002446174621582, 0.06668297201395035, 0.33341485261917114, 0.033341486006975174, 0.06668297201395035, 0.06668297201395035, 0.16670742630958557, 0.28062698245048523, 0.18708465993404388, 0.09354232996702194, 0.28062698245048523, 0.18708465993404388, 0.9301905632019043, 0.020221533253788948, 0.040443066507577896, 0.1528017520904541, 0.6250981092453003, 0.01389106921851635, 0.01389106921851635, 0.0833464115858078, 0.0416732057929039, 0.0555642768740654, 0.01389106921851635, 0.01389106921851635, 0.24776427447795868, 0.15599973499774933, 0.15049386024475098, 0.18903496861457825, 0.0862586721777916, 0.08442338556051254, 0.023858781903982162, 0.0036705818492919207, 0.023858781903982162, 0.01651761867105961, 0.005505872890353203, 0.005505872890353203, 0.0036705818492919207, 0.0018352909246459603, 0.9004054069519043, 0.05296502262353897, 0.013241255655884743, 0.013241255655884743, 0.053555622696876526, 0.3748893439769745, 0.5355561971664429, 0.10555290430784225, 0.030893532559275627, 0.521328330039978, 0.15832935273647308, 0.046340297907590866, 0.03346799314022064, 0.014159535989165306, 0.009010613895952702, 0.0025744610466063023, 0.043765839189291, 0.01673399657011032, 0.009010613895952702, 0.0025744610466063023, 0.0025744610466063023, 0.0012872305233031511, 0.15843485295772552, 0.13025173544883728, 0.30239731073379517, 0.12415808439254761, 0.1652902066707611, 0.045702364295721054, 0.01447241473942995, 0.010663884691894054, 0.012949002906680107, 0.009902178309857845, 0.012187296524643898, 0.006855354644358158, 0.0022851182147860527, 0.00380853028036654, 0.0007617060327902436, 0.8481905460357666, 0.010343787260353565, 0.04137514904141426, 0.05171893537044525, 0.04137514904141426, 0.21642647683620453, 0.21026800572872162, 0.1917925775051117, 0.10909302532672882, 0.0695028156042099, 0.08885802328586578, 0.036950863897800446, 0.031672168523073196, 0.008797824382781982, 0.008797824382781982, 0.015836084261536598, 0.0052786944434046745, 0.004398912191390991, 0.0017595648532733321, 0.0017595648532733321, 0.044976864010095596, 0.044976864010095596, 0.17241132259368896, 0.2323804646730423, 0.2323804646730423, 0.044976864010095596, 0.0074961441569030285, 0.03748071938753128, 0.022488432005047798, 0.07496143877506256, 0.014992288313806057, 0.06746529787778854, 0.022488432005047798, 0.67401522397995, 0.22467173635959625, 0.5124809741973877, 0.2759512960910797, 0.03942161053419113, 0.03942161053419113, 0.07884322106838226, 0.03942161053419113, 0.18781429529190063, 0.12470260262489319, 0.21670879423618317, 0.20834459364414215, 0.10341191291809082, 0.07071550190448761, 0.024332216009497643, 0.019769925624132156, 0.014447253197431564, 0.01064534392207861, 0.008364198729395866, 0.006843435578048229, 0.002281145192682743, 0.002281145192682743, 0.7050800323486328, 0.10072571784257889, 0.10072571784257889, 0.26933377981185913, 0.2633039057254791, 0.09044791013002396, 0.13466688990592957, 0.06632846593856812, 0.07034837454557419, 0.04421897977590561, 0.02612939663231373, 0.014069675467908382, 0.004019907210022211, 0.0020099536050111055, 0.008039814420044422, 0.0020099536050111055, 0.004019907210022211, 0.08295246958732605, 0.10369059443473816, 0.1285763382911682, 0.39817187190055847, 0.2156764268875122, 0.020738117396831512, 0.012442870996892452, 0.008295247331261635, 0.012442870996892452, 0.008295247331261635, 0.004147623665630817, 0.004147623665630817, 0.004147623665630817, 0.004147623665630817, 0.31519389152526855, 0.26266157627105713, 0.15759694576263428, 0.052532315254211426, 0.052532315254211426, 0.10506463050842285, 0.2854389250278473, 0.2854389250278473, 0.14271946251392365, 0.14271946251392365, 0.14271946251392365, 0.15838423371315002, 0.15838423371315002, 0.4751527011394501, 0.19352029263973236, 0.3870405852794647, 0.19352029263973236, 0.8791071772575378, 0.12281132489442825, 0.12281132489442825, 0.6140566468238831, 0.12101390212774277, 0.24202780425548553, 0.24202780425548553, 0.24202780425548553, 0.32251808047294617, 0.23671051859855652, 0.07101315259933472, 0.10651973634958267, 0.08876644819974899, 0.044383224099874496, 0.0828486829996109, 0.01775328814983368, 0.00887664407491684, 0.0029588814359158278, 0.0029588814359158278, 0.0059177628718316555, 0.0029588814359158278, 0.0029588814359158278, 0.0059177628718316555, 0.15848025679588318, 0.15848025679588318, 0.15848025679588318, 0.47544077038764954, 0.9060473442077637, 0.1551644653081894, 0.012930371798574924, 0.1293037235736847, 0.1551644653081894, 0.42023709416389465, 0.019395558163523674, 0.03879111632704735, 0.006465185899287462, 0.019395558163523674, 0.019395558163523674, 0.006465185899287462, 0.02586074359714985, 0.19349795579910278, 0.19349795579910278, 0.19349795579910278, 0.19349795579910278, 0.5555890798568726, 0.13889726996421814, 0.13889726996421814, 0.13889726996421814, 0.9127568602561951, 0.42056989669799805, 0.14018996059894562, 0.14018996059894562, 0.14018996059894562, 0.14018996059894562, 0.7626671195030212, 0.1525334268808365, 0.3722025752067566, 0.1861012876033783, 0.1861012876033783, 0.1861012876033783, 0.26218095421791077, 0.13109047710895538, 0.39327144622802734, 0.13109047710895538, 0.8617898225784302, 0.1400008350610733, 0.7933380603790283, 0.9371873140335083, 0.33561772108078003, 0.16780886054039001, 0.16780886054039001, 0.16780886054039001, 0.8275424838066101, 0.020688561722636223, 0.020688561722636223, 0.041377123445272446, 0.041377123445272446, 0.020688561722636223, 0.041377123445272446, 0.020688561722636223, 0.26638081669807434, 0.2930189073085785, 0.13319040834903717, 0.15982848405838013, 0.026638081297278404, 0.10655232518911362, 0.1683773696422577, 0.3367547392845154, 0.1683773696422577, 0.1683773696422577, 0.12988196313381195, 0.6927037835121155, 0.08658797293901443, 0.05610697343945503, 0.6919860243797302, 0.09351162612438202, 0.1309162825345993, 0.018702324479818344, 0.9132763147354126, 0.4546493589878082, 0.25979962944984436, 0.06494990736246109, 0.06494990736246109, 0.06494990736246109, 0.32116520404815674, 0.202308788895607, 0.12138527631759644, 0.1365584284067154, 0.0328751765191555, 0.09356781840324402, 0.027817457914352417, 0.02023087814450264, 0.02275973930954933, 0.00252885976806283, 0.00252885976806283, 0.007586579769849777, 0.00252885976806283, 0.00505771953612566, 0.3756467401981354, 0.2504311800003052, 0.20869264006614685, 0.08347705751657486, 0.04173852875828743, 0.017734499648213387, 0.5497695207595825, 0.3812917470932007, 0.026601750403642654, 0.008867249824106693, 0.09019210934638977, 0.045096054673194885, 0.8117290139198303, 0.21005024015903473, 0.10288175195455551, 0.2957850396633148, 0.13717566430568695, 0.06858783215284348, 0.05572761595249176, 0.030007176101207733, 0.008573479019105434, 0.008573479019105434, 0.025720437988638878, 0.021433698013424873, 0.021433698013424873, 0.004286739509552717, 0.008573479019105434, 0.2096407413482666, 0.16742141544818878, 0.19217067956924438, 0.13102546334266663, 0.1281137764453888, 0.05968937650322914, 0.03057260811328888, 0.020381737500429153, 0.01164670754224062, 0.014558384194970131, 0.0160142220556736, 0.01164670754224062, 0.004367515444755554, 0.0014558384427800775, 0.002911676885560155, 0.29493215680122375, 0.21614891290664673, 0.09090375155210495, 0.14948616921901703, 0.07878325134515762, 0.056562334299087524, 0.04848200082778931, 0.026261083781719208, 0.012120500206947327, 0.0020200833678245544, 0.004040166735649109, 0.008080333471298218, 0.006060250103473663, 0.004040166735649109, 0.0023387048859149218, 0.9354819059371948, 0.0023387048859149218, 0.0023387048859149218, 0.0023387048859149218, 0.018709639087319374, 0.03040316328406334, 0.0046774097718298435, 0.9042027592658997, 0.4438718259334564, 0.405825674533844, 0.02536410465836525, 0.0169094018638134, 0.029591454192996025, 0.0507282093167305, 0.0169094018638134, 0.00422735046595335, 0.00422735046595335, 0.00422735046595335, 0.1109372228384018, 0.8774126172065735, 0.19018389284610748, 0.5705516338348389, 0.19018389284610748, 0.018092576414346695, 0.9724759459495544, 0.295536071062088, 0.2791174054145813, 0.1313493549823761, 0.11493068933486938, 0.016418669372797012, 0.06567467749118805, 0.032837338745594025, 0.016418669372797012, 0.049256011843681335, 0.8897128701210022, 0.5543813705444336, 0.36958757042884827, 0.08341305702924728, 0.25023916363716125, 0.16682611405849457, 0.08341305702924728, 0.08341305702924728, 0.25023916363716125, 0.21103359758853912, 0.1278991401195526, 0.2387450784444809, 0.1321624517440796, 0.12150418758392334, 0.046896353363990784, 0.03836974501609802, 0.025579828768968582, 0.0021316525526344776, 0.012789914384484291, 0.029843134805560112, 0.014921567402780056, 0.0021316525526344776, 0.7958020567893982, 0.05684300512075424, 0.05684300512075424, 0.8727395534515381, 0.0033310670405626297, 0.0033310670405626297, 0.06329027563333511, 0.046634938567876816, 0.0033310670405626297, 0.19592833518981934, 0.17048309743404388, 0.2519078552722931, 0.10941452533006668, 0.09414738416671753, 0.05343500152230263, 0.033078812062740326, 0.027989763766527176, 0.010178095661103725, 0.0127226198092103, 0.015267143957316875, 0.0127226198092103, 0.0025445239152759314, 0.0025445239152759314, 0.005089047830551863, 0.15195918083190918, 0.1181904748082161, 0.2146724909543991, 0.2243206948041916, 0.12542662024497986, 0.07718561589717865, 0.026532554998993874, 0.014472302980720997, 0.004824100993573666, 0.009648201987147331, 0.024120504036545753, 0.004824100993573666, 0.002412050496786833, 0.002412050496786833, 0.28437116742134094, 0.28437116742134094, 0.14218558371067047, 0.14218558371067047, 0.14218558371067047, 0.10028761625289917, 0.10028761625289917, 0.17828908562660217, 0.17271755635738373, 0.1950036883354187, 0.13371682167053223, 0.027857670560479164, 0.005571533925831318, 0.01671460270881653, 0.011143067851662636, 0.011143067851662636, 0.01671460270881653, 0.027857670560479164, 0.2670878469944, 0.0985681340098381, 0.1653400957584381, 0.14626239240169525, 0.08267004787921906, 0.11446622014045715, 0.03815540671348572, 0.02543693780899048, 0.00953885167837143, 0.00635923445224762, 0.00635923445224762, 0.0317961722612381, 0.00317961722612381, 0.00635923445224762, 0.3029750883579254, 0.12721605598926544, 0.19584576785564423, 0.09875982999801636, 0.12386826425790787, 0.05021686479449272, 0.016738954931497574, 0.003347790800035, 0.028456222265958786, 0.01339116320014, 0.010043372400105, 0.023434536531567574, 0.003347790800035, 0.0016738954000175, 0.681071400642395, 0.22702379524707794, 0.13541780412197113, 0.12488530576229095, 0.2587984800338745, 0.16250136494636536, 0.18507099151611328, 0.04212998226284981, 0.018055707216262817, 0.030092844739556313, 0.004513926804065704, 0.010532495565712452, 0.01203713845461607, 0.006018569227308035, 0.0030092846136540174, 0.0015046423068270087, 0.0030092846136540174, 0.5259943008422852, 0.037571024149656296, 0.33813920617103577, 0.037571024149656296, 0.037571024149656296], \"Term\": [\"abbey\", \"abide\", \"abide\", \"accent\", \"accent\", \"accent\", \"accent\", \"accent\", \"accent\", \"accent\", \"accent\", \"accent\", \"acquaintances\", \"acquaintances\", \"acquaintances\", \"acquaintances\", \"actress\", \"adele\", \"adele\", \"adele\", \"adele\", \"adele\", \"adele\", \"administered\", \"administered\", \"administered\", \"adoption\", \"adoption\", \"aerial\", \"aerial\", \"aerial\", \"affection\", \"affection\", \"affection\", \"affection\", \"affection\", \"affection\", \"affection\", \"affection\", \"affection\", \"affection\", \"affection\", \"affection\", \"agonies\", \"agonies\", \"agonies\", \"agonies\", \"air\", \"air\", \"air\", \"air\", \"air\", \"air\", \"air\", \"air\", \"air\", \"air\", \"air\", \"air\", \"air\", \"airing\", \"airing\", \"airing\", \"albion\", \"albion\", \"albion\", \"albion\", \"alfred\", \"alfred\", \"alfred\", \"allee\", \"allenham\", \"alliance\", \"alliance\", \"alliance\", \"alliance\", \"alliance\", \"alliance\", \"amazing\", \"amazing\", \"amazing\", \"amazing\", \"ambitious\", \"ambitious\", \"ambitious\", \"ambitious\", \"amounted\", \"amounted\", \"amounted\", \"amour\", \"amour\", \"amour\", \"amy\", \"anecdote\", \"anecdote\", \"anecdote\", \"anecdote\", \"anguish\", \"anguish\", \"anguish\", \"anguish\", \"annum\", \"annum\", \"annum\", \"annum\", \"annum\", \"annum\", \"answer\", \"answer\", \"answer\", \"answer\", \"answer\", \"answer\", \"answer\", \"answer\", \"answer\", \"answer\", \"answer\", \"answer\", \"answer\", \"answer\", \"antagonist\", \"antagonist\", \"antagonist\", \"apologising\", \"appealing\", \"appreciating\", \"appreciating\", \"appreciating\", \"appreciating\", \"asked\", \"asked\", \"asked\", \"asked\", \"asked\", \"asked\", \"asked\", \"asked\", \"asked\", \"asked\", \"asked\", \"asked\", \"asked\", \"aspire\", \"aspire\", \"aspire\", \"aspire\", \"assez\", \"assez\", \"assez\", \"assiduous\", \"assiduous\", \"assiduous\", \"assiduous\", \"assign\", \"assign\", \"assign\", \"assistance\", \"assistance\", \"assistance\", \"assistance\", \"assistance\", \"assistance\", \"assistance\", \"assistance\", \"assistance\", \"associations\", \"associations\", \"associations\", \"associations\", \"associations\", \"associations\", \"atom\", \"attic\", \"attic\", \"attic\", \"attic\", \"attics\", \"attics\", \"attics\", \"august\", \"august\", \"august\", \"august\", \"august\", \"aunt\", \"aunt\", \"aunt\", \"aunt\", \"aunt\", \"aunt\", \"aunt\", \"aunt\", \"aunt\", \"aunt\", \"aunt\", \"average\", \"average\", \"average\", \"away\", \"away\", \"away\", \"away\", \"away\", \"away\", \"away\", \"away\", \"away\", \"away\", \"away\", \"away\", \"away\", \"away\", \"away\", \"banker\", \"banker\", \"banker\", \"banker\", \"bark\", \"barouche\", \"barouche\", \"barouche\", \"barton\", \"barton\", \"bassompierre\", \"bassompierre\", \"bassompierre\", \"bassompierre\", \"bassompierre\", \"bates\", \"bates\", \"bates\", \"bates\", \"bates\", \"bates\", \"bath\", \"bath\", \"bath\", \"bath\", \"bathing\", \"bathing\", \"bathing\", \"beck\", \"beck\", \"beck\", \"beck\", \"beck\", \"bedrooms\", \"bedrooms\", \"bedrooms\", \"bedrooms\", \"beer\", \"beer\", \"beer\", \"began\", \"began\", \"began\", \"began\", \"began\", \"began\", \"began\", \"began\", \"began\", \"began\", \"began\", \"began\", \"behaviour\", \"behaviour\", \"behaviour\", \"behaviour\", \"behaviour\", \"behaviour\", \"behaviour\", \"belgian\", \"belgian\", \"belgian\", \"belgians\", \"belgians\", \"belgians\", \"belgians\", \"belgium\", \"belgium\", \"belgium\", \"belgium\", \"belgium\", \"belles\", \"bennet\", \"bennet\", \"bennet\", \"bennet\", \"bennet\", \"bennets\", \"bennets\", \"bessie\", \"bessie\", \"bessie\", \"betook\", \"betook\", \"better\", \"better\", \"better\", \"better\", \"better\", \"better\", \"better\", \"better\", \"better\", \"better\", \"better\", \"better\", \"better\", \"better\", \"better\", \"bien\", \"bien\", \"bien\", \"bien\", \"bien\", \"bigben\", \"bigben\", \"bingley\", \"bingley\", \"bingley\", \"bingley\", \"black\", \"black\", \"black\", \"black\", \"black\", \"black\", \"black\", \"black\", \"black\", \"black\", \"black\", \"boarder\", \"boarder\", \"boarders\", \"boarders\", \"boards\", \"boards\", \"boards\", \"boasting\", \"boasting\", \"boasting\", \"body\", \"body\", \"body\", \"body\", \"body\", \"body\", \"body\", \"body\", \"body\", \"body\", \"boiled\", \"boiled\", \"boiled\", \"boiled\", \"bone\", \"bone\", \"bone\", \"bone\", \"bone\", \"book\", \"book\", \"book\", \"book\", \"book\", \"book\", \"book\", \"book\", \"book\", \"book\", \"book\", \"book\", \"book\", \"book\", \"bourgh\", \"bourgh\", \"bourne\", \"boys\", \"boys\", \"boys\", \"boys\", \"boys\", \"boys\", \"boys\", \"boys\", \"boys\", \"bracelet\", \"bracelet\", \"bracelet\", \"bracelet\", \"bracelet\", \"brandon\", \"brandon\", \"brandon\", \"bread\", \"bread\", \"bread\", \"bread\", \"bread\", \"bread\", \"bretton\", \"bretton\", \"bretton\", \"bretton\", \"bretton\", \"bretton\", \"briggs\", \"briggs\", \"brocklehurst\", \"brocklehurst\", \"brushed\", \"brushed\", \"brushed\", \"brushed\", \"brushed\", \"brussels\", \"brussels\", \"brussels\", \"brussels\", \"brussels\", \"brussels\", \"brussels\", \"burns\", \"burnt\", \"burnt\", \"burnt\", \"burnt\", \"cake\", \"cake\", \"cake\", \"cake\", \"cake\", \"cake\", \"cake\", \"came\", \"came\", \"came\", \"came\", \"came\", \"came\", \"came\", \"came\", \"came\", \"came\", \"came\", \"came\", \"came\", \"campbell\", \"campbell\", \"campbell\", \"candle\", \"candle\", \"candle\", \"candle\", \"capacity\", \"capacity\", \"capacity\", \"capacity\", \"capacity\", \"captain\", \"captain\", \"captain\", \"carlo\", \"caroline\", \"caroline\", \"caroline\", \"caroline\", \"carter\", \"carter\", \"carter\", \"carter\", \"carter\", \"catherine\", \"catherine\", \"catherine\", \"catherine\", \"catherine\", \"celine\", \"certain\", \"certain\", \"certain\", \"certain\", \"certain\", \"certain\", \"certain\", \"certain\", \"certain\", \"certain\", \"certain\", \"certain\", \"certain\", \"certainly\", \"certainly\", \"certainly\", \"certainly\", \"certainly\", \"certainly\", \"certainly\", \"certainly\", \"certainly\", \"certainly\", \"certainly\", \"certainly\", \"certainly\", \"ces\", \"ces\", \"ces\", \"ces\", \"chalk\", \"chalk\", \"chalk\", \"chalk\", \"chances\", \"chances\", \"chances\", \"chances\", \"chances\", \"charade\", \"charade\", \"charade\", \"charade\", \"charlotte\", \"charlotte\", \"charlotte\", \"charlotte\", \"charlotte\", \"cheap\", \"cheap\", \"cheap\", \"cheap\", \"cheese\", \"chestnut\", \"chestnut\", \"chestnut\", \"children\", \"children\", \"children\", \"children\", \"children\", \"children\", \"children\", \"children\", \"children\", \"children\", \"children\", \"children\", \"children\", \"chink\", \"chink\", \"chink\", \"cholmondeley\", \"cholmondeley\", \"cholmondeley\", \"cholmondeley\", \"chooses\", \"chooses\", \"church\", \"church\", \"church\", \"church\", \"church\", \"church\", \"church\", \"church\", \"church\", \"churchill\", \"churchill\", \"churchill\", \"churchill\", \"churchill\", \"churchill\", \"churchill\", \"civility\", \"civility\", \"civility\", \"civility\", \"civility\", \"civility\", \"classe\", \"classe\", \"classe\", \"classe\", \"cleveland\", \"cleveland\", \"clever\", \"clever\", \"clever\", \"clever\", \"clever\", \"clever\", \"clever\", \"clever\", \"clever\", \"clever\", \"climax\", \"climax\", \"climax\", \"climax\", \"cloaks\", \"cloaks\", \"cloaks\", \"cloaks\", \"colds\", \"colds\", \"colds\", \"cole\", \"cole\", \"cole\", \"collation\", \"collation\", \"collation\", \"collins\", \"collins\", \"collins\", \"collins\", \"colonel\", \"colonel\", \"colonel\", \"colonel\", \"colonel\", \"colonel\", \"colonel\", \"colonel\", \"combe\", \"come\", \"come\", \"come\", \"come\", \"come\", \"come\", \"come\", \"come\", \"come\", \"come\", \"come\", \"come\", \"come\", \"come\", \"come\", \"comfortable\", \"comfortable\", \"comfortable\", \"comfortable\", \"comfortable\", \"comfortable\", \"comfortable\", \"comfortable\", \"comfortable\", \"comfortable\", \"comfortable\", \"comfortable\", \"comments\", \"comments\", \"comments\", \"comments\", \"committed\", \"committed\", \"committed\", \"committed\", \"committed\", \"committed\", \"committed\", \"communicative\", \"communicative\", \"communicative\", \"communicative\", \"communicative\", \"complacent\", \"complacent\", \"complacent\", \"comprehending\", \"comprehending\", \"comprehending\", \"concisely\", \"concisely\", \"concisely\", \"confidential\", \"confidential\", \"confidential\", \"confidential\", \"consists\", \"consists\", \"consists\", \"consists\", \"contains\", \"contains\", \"contour\", \"contour\", \"contour\", \"conversations\", \"conversations\", \"conversations\", \"conversations\", \"copied\", \"copied\", \"copied\", \"copied\", \"copied\", \"copying\", \"copying\", \"copying\", \"copying\", \"copying\", \"corps\", \"corps\", \"corridor\", \"corridor\", \"corridor\", \"corridor\", \"corridor\", \"cottage\", \"cottage\", \"cottage\", \"cottage\", \"cottage\", \"cottage\", \"cottage\", \"cottage\", \"country\", \"country\", \"country\", \"country\", \"country\", \"country\", \"country\", \"country\", \"country\", \"country\", \"country\", \"course\", \"course\", \"course\", \"course\", \"course\", \"course\", \"course\", \"course\", \"course\", \"course\", \"course\", \"course\", \"course\", \"course\", \"course\", \"cox\", \"crack\", \"crack\", \"crecy\", \"crecy\", \"crecy\", \"crecy\", \"crimsworth\", \"crimsworth\", \"crimsworth\", \"crimsworth\", \"crimsworth\", \"crimsworth\", \"crimsworth\", \"cultivated\", \"cultivated\", \"cultivated\", \"cup\", \"cup\", \"cup\", \"cup\", \"cup\", \"cup\", \"curricle\", \"curtain\", \"curtain\", \"curtain\", \"curtain\", \"curtain\", \"curtain\", \"curtain\", \"darcy\", \"darcy\", \"darcy\", \"dark\", \"dark\", \"dark\", \"dark\", \"dark\", \"dark\", \"dark\", \"dark\", \"dark\", \"dark\", \"dark\", \"dark\", \"dashwood\", \"dashwood\", \"dashwood\", \"dashwood\", \"dashwood\", \"dashwoods\", \"dashwoods\", \"dawn\", \"dawn\", \"dawn\", \"dawn\", \"dawn\", \"dawn\", \"dawn\", \"day\", \"day\", \"day\", \"day\", \"day\", \"day\", \"day\", \"day\", \"day\", \"day\", \"day\", \"day\", \"day\", \"day\", \"day\", \"dear\", \"dear\", \"dear\", \"dear\", \"dear\", \"dear\", \"dear\", \"dear\", \"dear\", \"dear\", \"dear\", \"dear\", \"death\", \"death\", \"death\", \"death\", \"death\", \"death\", \"death\", \"death\", \"death\", \"death\", \"death\", \"decease\", \"decease\", \"decease\", \"decease\", \"decease\", \"deck\", \"deck\", \"defendue\", \"deformity\", \"deformity\", \"deformity\", \"degree\", \"degree\", \"degree\", \"degree\", \"degree\", \"degree\", \"degree\", \"degree\", \"degree\", \"degree\", \"degree\", \"degree\", \"delaford\", \"delaford\", \"demoiselles\", \"demoiselles\", \"demoiselles\", \"demonstrative\", \"denny\", \"denote\", \"denote\", \"denote\", \"denote\", \"dent\", \"deportment\", \"deportment\", \"deportment\", \"des\", \"des\", \"des\", \"des\", \"des\", \"desk\", \"desk\", \"desk\", \"desk\", \"desk\", \"desk\", \"desk\", \"desk\", \"desk\", \"desk\", \"despotism\", \"despotism\", \"despotism\", \"despotism\", \"devoirs\", \"devoirs\", \"devonshire\", \"devonshire\", \"devonshire\", \"devoting\", \"devoting\", \"devoting\", \"devoured\", \"diana\", \"diana\", \"diana\", \"diana\", \"diana\", \"diffused\", \"diffused\", \"diffused\", \"diffused\", \"dimly\", \"dingy\", \"dingy\", \"dingy\", \"director\", \"director\", \"director\", \"director\", \"director\", \"directress\", \"directress\", \"directress\", \"directress\", \"directress\", \"directress\", \"discharging\", \"discharging\", \"discharging\", \"discharging\", \"discharging\", \"dishes\", \"dishes\", \"dishes\", \"dishes\", \"dishes\", \"dishevelled\", \"dishevelled\", \"dishevelled\", \"dishevelled\", \"disposal\", \"disposal\", \"disposal\", \"disposal\", \"disposal\", \"dissimulation\", \"dissimulation\", \"doctor\", \"doctor\", \"doctor\", \"doctor\", \"document\", \"document\", \"document\", \"donwell\", \"donwell\", \"donwell\", \"door\", \"door\", \"door\", \"door\", \"door\", \"door\", \"door\", \"door\", \"door\", \"door\", \"door\", \"door\", \"door\", \"door\", \"doubt\", \"doubt\", \"doubt\", \"doubt\", \"doubt\", \"doubt\", \"doubt\", \"doubt\", \"doubt\", \"doubt\", \"doubt\", \"doubt\", \"doubt\", \"doubt\", \"dr\", \"dr\", \"dr\", \"dr\", \"dr\", \"dr\", \"dr\", \"drawings\", \"drawings\", \"drawings\", \"drawings\", \"drawings\", \"easy\", \"easy\", \"easy\", \"easy\", \"easy\", \"easy\", \"easy\", \"easy\", \"easy\", \"easy\", \"easy\", \"easy\", \"easy\", \"edward\", \"edward\", \"edward\", \"edward\", \"edward\", \"edward\", \"edward\", \"edward\", \"edward\", \"edward\", \"effusions\", \"elderly\", \"elderly\", \"elderly\", \"elderly\", \"elderly\", \"elderly\", \"elderly\", \"elinor\", \"elinor\", \"elinor\", \"elinor\", \"elinor\", \"elinor\", \"eliza\", \"eliza\", \"eliza\", \"eliza\", \"eliza\", \"eliza\", \"elizabeth\", \"elizabeth\", \"elizabeth\", \"elizabeth\", \"elizabeth\", \"elizabeth\", \"elizabeth\", \"elizabeth\", \"elizabeth\", \"elle\", \"elle\", \"elle\", \"elle\", \"elle\", \"elle\", \"elton\", \"elton\", \"elton\", \"elton\", \"elton\", \"elton\", \"elton\", \"eltons\", \"eltons\", \"emanuel\", \"emanuel\", \"emanuel\", \"emanuel\", \"emanuel\", \"embers\", \"embers\", \"emma\", \"emma\", \"emma\", \"emma\", \"emma\", \"emma\", \"emma\", \"emma\", \"emma\", \"employments\", \"employments\", \"encore\", \"encore\", \"encore\", \"encore\", \"enfin\", \"enfin\", \"engagement\", \"engagement\", \"engagement\", \"engagement\", \"engagement\", \"england\", \"england\", \"england\", \"england\", \"england\", \"england\", \"england\", \"england\", \"england\", \"england\", \"england\", \"england\", \"england\", \"english\", \"english\", \"english\", \"english\", \"english\", \"english\", \"english\", \"english\", \"english\", \"english\", \"english\", \"enlarge\", \"enlarge\", \"enlarge\", \"enlarge\", \"enlarged\", \"enlarged\", \"enlarged\", \"enlarged\", \"enormous\", \"enormous\", \"enormous\", \"enormous\", \"enounced\", \"enounced\", \"enounced\", \"enounced\", \"enquire\", \"enquiry\", \"enscombe\", \"enscombe\", \"enscombe\", \"entreaty\", \"entreaty\", \"enumerating\", \"enveloped\", \"equivalent\", \"equivalent\", \"equivalent\", \"equivalent\", \"er\", \"eshton\", \"est\", \"est\", \"est\", \"est\", \"est\", \"est\", \"est\", \"establishment\", \"establishment\", \"establishment\", \"establishment\", \"establishment\", \"establishment\", \"establishment\", \"establishment\", \"establishment\", \"establishment\", \"establishment\", \"estate\", \"estate\", \"estate\", \"estate\", \"estate\", \"estate\", \"estate\", \"estate\", \"estate\", \"estrade\", \"estrade\", \"et\", \"et\", \"et\", \"et\", \"et\", \"etes\", \"etes\", \"etre\", \"etre\", \"etre\", \"evans\", \"evans\", \"evans\", \"evening\", \"evening\", \"evening\", \"evening\", \"evening\", \"evening\", \"evening\", \"evening\", \"evening\", \"evening\", \"evening\", \"evening\", \"evening\", \"evening\", \"everybody\", \"everybody\", \"everybody\", \"everybody\", \"everybody\", \"everybody\", \"everybody\", \"exchanging\", \"exchanging\", \"exchanging\", \"exchanging\", \"existence\", \"existence\", \"existence\", \"existence\", \"existence\", \"existence\", \"existence\", \"existence\", \"existence\", \"existence\", \"expanse\", \"expanse\", \"expanse\", \"expect\", \"expect\", \"expect\", \"expect\", \"expect\", \"expect\", \"expect\", \"expect\", \"expenses\", \"expenses\", \"expenses\", \"expenses\", \"expenses\", \"experiment\", \"experiment\", \"experiment\", \"explore\", \"explore\", \"explore\", \"explore\", \"exploring\", \"exploring\", \"exploring\", \"external\", \"external\", \"external\", \"external\", \"external\", \"externes\", \"extorted\", \"extorted\", \"extorted\", \"eye\", \"eye\", \"eye\", \"eye\", \"eye\", \"eye\", \"eye\", \"eye\", \"eye\", \"eye\", \"eye\", \"eye\", \"eye\", \"eye\", \"eyelid\", \"eyelid\", \"eyelid\", \"eyes\", \"eyes\", \"eyes\", \"eyes\", \"eyes\", \"eyes\", \"eyes\", \"eyes\", \"eyes\", \"eyes\", \"eyes\", \"eyes\", \"eyes\", \"eyre\", \"eyre\", \"eyre\", \"eyre\", \"face\", \"face\", \"face\", \"face\", \"face\", \"face\", \"face\", \"face\", \"face\", \"face\", \"face\", \"face\", \"face\", \"face\", \"face\", \"fairfax\", \"fairfax\", \"fairfax\", \"fairfax\", \"fairfax\", \"fairfax\", \"fairfax\", \"fairfax\", \"fairfax\", \"fairfax\", \"fairfax\", \"family\", \"family\", \"family\", \"family\", \"family\", \"family\", \"family\", \"family\", \"family\", \"family\", \"family\", \"family\", \"family\", \"fanshawe\", \"fanshawe\", \"fanshawe\", \"fanshawe\", \"far\", \"far\", \"far\", \"far\", \"far\", \"far\", \"far\", \"far\", \"far\", \"far\", \"far\", \"far\", \"far\", \"far\", \"far\", \"farewell\", \"farewell\", \"farewell\", \"farewell\", \"farewell\", \"farewell\", \"father\", \"father\", \"father\", \"father\", \"father\", \"father\", \"father\", \"father\", \"father\", \"father\", \"father\", \"father\", \"father\", \"father\", \"fathers\", \"fathers\", \"fathers\", \"fathers\", \"features\", \"features\", \"features\", \"features\", \"features\", \"features\", \"features\", \"features\", \"features\", \"features\", \"features\", \"features\", \"fee\", \"fee\", \"fee\", \"feel\", \"feel\", \"feel\", \"feel\", \"feel\", \"feel\", \"feel\", \"feel\", \"feel\", \"feel\", \"feel\", \"feel\", \"feel\", \"feel\", \"feel\", \"feelings\", \"feelings\", \"feelings\", \"feelings\", \"feelings\", \"feelings\", \"feelings\", \"feelings\", \"feelings\", \"feelings\", \"feelings\", \"feelings\", \"feelings\", \"felicitations\", \"felicitations\", \"felicitations\", \"felt\", \"felt\", \"felt\", \"felt\", \"felt\", \"felt\", \"felt\", \"felt\", \"felt\", \"felt\", \"felt\", \"felt\", \"felt\", \"felt\", \"ferrars\", \"ferrars\", \"ferrars\", \"fetters\", \"fetters\", \"fiacre\", \"fiacre\", \"fifine\", \"fifine\", \"fifth\", \"fifth\", \"fifth\", \"fifth\", \"firmness\", \"firmness\", \"firmness\", \"firmness\", \"firmness\", \"firmness\", \"fitzwilliam\", \"fitzwilliam\", \"flamand\", \"flamand\", \"flown\", \"flown\", \"flown\", \"ford\", \"ford\", \"forster\", \"forster\", \"forster\", \"fortnight\", \"fortnight\", \"fortnight\", \"fortnight\", \"fortnight\", \"fortnight\", \"fortnight\", \"fortnight\", \"fortnight\", \"fortnight\", \"fortune\", \"fortune\", \"fortune\", \"fortune\", \"fortune\", \"fortune\", \"fortune\", \"fortune\", \"fortune\", \"fortune\", \"fortune\", \"fortune\", \"fortune\", \"fortune\", \"fortune\", \"forwarded\", \"forwarded\", \"forwarded\", \"fossette\", \"fossette\", \"fossette\", \"franc\", \"franc\", \"franc\", \"frances\", \"frances\", \"frances\", \"frances\", \"frances\", \"frances\", \"frances\", \"francs\", \"francs\", \"francs\", \"francs\", \"francs\", \"frank\", \"frank\", \"frank\", \"frank\", \"frank\", \"frank\", \"frank\", \"frank\", \"frank\", \"french\", \"french\", \"french\", \"french\", \"french\", \"french\", \"french\", \"french\", \"friend\", \"friend\", \"friend\", \"friend\", \"friend\", \"friend\", \"friend\", \"friend\", \"friend\", \"friend\", \"friend\", \"friend\", \"frock\", \"frock\", \"fulfil\", \"fulfil\", \"fulfil\", \"fulfil\", \"fulfil\", \"funeral\", \"funeral\", \"funeral\", \"funeral\", \"gall\", \"gall\", \"gall\", \"garcon\", \"garden\", \"garden\", \"garden\", \"garden\", \"garden\", \"garden\", \"garden\", \"garden\", \"garden\", \"garden\", \"garden\", \"gardiner\", \"gardiner\", \"gardiner\", \"gateshead\", \"gateshead\", \"gateshead\", \"generations\", \"generations\", \"generations\", \"generations\", \"generations\", \"georgiana\", \"georgiana\", \"georgiana\", \"georgiana\", \"georgiana\", \"georgiana\", \"georgiana\", \"getting\", \"getting\", \"getting\", \"getting\", \"getting\", \"getting\", \"getting\", \"getting\", \"getting\", \"getting\", \"getting\", \"ginevra\", \"ginevra\", \"ginevra\", \"ginevra\", \"given\", \"given\", \"given\", \"given\", \"given\", \"given\", \"given\", \"given\", \"given\", \"given\", \"given\", \"given\", \"given\", \"glide\", \"glide\", \"glide\", \"god\", \"god\", \"god\", \"god\", \"god\", \"god\", \"god\", \"god\", \"god\", \"god\", \"god\", \"goddard\", \"goddard\", \"goddard\", \"goddard\", \"good\", \"good\", \"good\", \"good\", \"good\", \"good\", \"good\", \"good\", \"good\", \"good\", \"good\", \"good\", \"good\", \"good\", \"good\", \"gracechurch\", \"gracechurch\", \"gracechurch\", \"graces\", \"graces\", \"graces\", \"graces\", \"graces\", \"graces\", \"graces\", \"graham\", \"graham\", \"graham\", \"graham\", \"graham\", \"graham\", \"graham\", \"graham\", \"grandmama\", \"grandmama\", \"grate\", \"grate\", \"grate\", \"grate\", \"great\", \"great\", \"great\", \"great\", \"great\", \"great\", \"great\", \"great\", \"great\", \"great\", \"great\", \"great\", \"great\", \"great\", \"greatness\", \"greatness\", \"greatness\", \"greatness\", \"greatness\", \"greatness\", \"grenier\", \"grimaces\", \"grimaces\", \"grimaces\", \"grove\", \"grove\", \"grove\", \"grove\", \"grove\", \"grove\", \"growth\", \"growth\", \"growth\", \"growth\", \"gruel\", \"gruel\", \"hail\", \"hair\", \"hair\", \"hair\", \"hair\", \"hair\", \"hair\", \"hair\", \"hair\", \"hair\", \"hair\", \"hair\", \"half\", \"half\", \"half\", \"half\", \"half\", \"half\", \"half\", \"half\", \"half\", \"half\", \"half\", \"half\", \"half\", \"half\", \"hall\", \"hall\", \"hall\", \"hall\", \"hall\", \"hall\", \"hall\", \"hall\", \"hall\", \"hall\", \"hall\", \"hand\", \"hand\", \"hand\", \"hand\", \"hand\", \"hand\", \"hand\", \"hand\", \"hand\", \"hand\", \"hand\", \"hand\", \"hand\", \"hand\", \"hands\", \"hands\", \"hands\", \"hands\", \"hands\", \"hands\", \"hands\", \"hands\", \"hands\", \"hands\", \"hands\", \"hands\", \"hands\", \"hands\", \"handsomer\", \"handsomer\", \"handwriting\", \"handwriting\", \"handwriting\", \"hannah\", \"hannah\", \"hannah\", \"hannah\", \"harangue\", \"harangue\", \"hardships\", \"hardships\", \"hardships\", \"harp\", \"harp\", \"harp\", \"harp\", \"harriet\", \"harriet\", \"harriet\", \"harriet\", \"harriet\", \"harriet\", \"harriet\", \"harriet\", \"hartfield\", \"hartfield\", \"hartfield\", \"hartfield\", \"hartfield\", \"having\", \"having\", \"having\", \"having\", \"having\", \"having\", \"having\", \"having\", \"having\", \"having\", \"having\", \"having\", \"having\", \"having\", \"hawkins\", \"head\", \"head\", \"head\", \"head\", \"head\", \"head\", \"head\", \"head\", \"head\", \"head\", \"head\", \"head\", \"head\", \"head\", \"head\", \"headache\", \"headache\", \"headache\", \"headache\", \"headache\", \"healthful\", \"heard\", \"heard\", \"heard\", \"heard\", \"heard\", \"heard\", \"heard\", \"heard\", \"heard\", \"heard\", \"heard\", \"heard\", \"heard\", \"heard\", \"heard\", \"heart\", \"heart\", \"heart\", \"heart\", \"heart\", \"heart\", \"heart\", \"heart\", \"heart\", \"heart\", \"heart\", \"heart\", \"heart\", \"heart\", \"heart\", \"helen\", \"helen\", \"helen\", \"helen\", \"henri\", \"henri\", \"henri\", \"henri\", \"henri\", \"henry\", \"henry\", \"henry\", \"henry\", \"hertfordshire\", \"hertfordshire\", \"hertfordshire\", \"highbury\", \"highbury\", \"highbury\", \"highbury\", \"highbury\", \"highbury\", \"higher\", \"higher\", \"higher\", \"higher\", \"higher\", \"higher\", \"higher\", \"higher\", \"hints\", \"hints\", \"hints\", \"hints\", \"hints\", \"hints\", \"hints\", \"hole\", \"home\", \"home\", \"home\", \"home\", \"home\", \"home\", \"home\", \"home\", \"home\", \"home\", \"home\", \"home\", \"honeymoon\", \"honeymoon\", \"house\", \"house\", \"house\", \"house\", \"house\", \"house\", \"house\", \"house\", \"house\", \"house\", \"house\", \"house\", \"house\", \"house\", \"housekeeping\", \"housekeeping\", \"housekeeping\", \"housekeeping\", \"hunsden\", \"hunsden\", \"hunsden\", \"hunsden\", \"hunsden\", \"hunsden\", \"hunsden\", \"hunsden\", \"hurst\", \"hurst\", \"il\", \"il\", \"il\", \"il\", \"il\", \"imbecile\", \"imbecile\", \"including\", \"including\", \"including\", \"including\", \"including\", \"including\", \"including\", \"income\", \"income\", \"income\", \"income\", \"income\", \"income\", \"income\", \"income\", \"income\", \"income\", \"india\", \"india\", \"india\", \"india\", \"indian\", \"indian\", \"indian\", \"indian\", \"infirm\", \"infirm\", \"inflicting\", \"inflicting\", \"inflicting\", \"inflicting\", \"ingram\", \"ingram\", \"ingram\", \"inquiry\", \"inquiry\", \"inquiry\", \"inquiry\", \"inquiry\", \"inquiry\", \"inquiry\", \"inquiry\", \"inquiry\", \"insane\", \"insane\", \"insane\", \"insight\", \"insight\", \"insight\", \"intelligent\", \"intelligent\", \"intelligent\", \"intelligent\", \"intelligent\", \"intelligent\", \"intelligent\", \"interior\", \"interior\", \"interior\", \"interior\", \"interrupting\", \"interrupting\", \"interrupting\", \"intimately\", \"intimately\", \"involuntarily\", \"involuntarily\", \"involuntarily\", \"involuntarily\", \"involuntarily\", \"involuntarily\", \"irritating\", \"irritating\", \"irritating\", \"isabella\", \"isabella\", \"isidore\", \"isidore\", \"isidore\", \"jane\", \"jane\", \"jane\", \"jane\", \"jane\", \"jane\", \"jane\", \"jane\", \"jane\", \"jane\", \"janet\", \"janet\", \"janet\", \"jar\", \"je\", \"je\", \"je\", \"je\", \"je\", \"jenkinson\", \"jennings\", \"jennings\", \"jennings\", \"john\", \"john\", \"john\", \"john\", \"john\", \"john\", \"john\", \"john\", \"john\", \"john\", \"john\", \"john\", \"joys\", \"joys\", \"judgement\", \"judgement\", \"jump\", \"jump\", \"jump\", \"justine\", \"justine\", \"justine\", \"kent\", \"kept\", \"kept\", \"kept\", \"kept\", \"kept\", \"kept\", \"kept\", \"kept\", \"kept\", \"kept\", \"kind\", \"kind\", \"kind\", \"kind\", \"kind\", \"kind\", \"kind\", \"kind\", \"kind\", \"kind\", \"kind\", \"kind\", \"kind\", \"kind\", \"kings\", \"kings\", \"kings\", \"kiss\", \"kiss\", \"kiss\", \"kiss\", \"kiss\", \"kiss\", \"kiss\", \"kiss\", \"kisses\", \"kisses\", \"kisses\", \"kisses\", \"knew\", \"knew\", \"knew\", \"knew\", \"knew\", \"knew\", \"knew\", \"knew\", \"knew\", \"knew\", \"knew\", \"knew\", \"knew\", \"knightley\", \"knightley\", \"knightley\", \"knightley\", \"knightley\", \"knightley\", \"knightley\", \"knightleys\", \"knightleys\", \"know\", \"know\", \"know\", \"know\", \"know\", \"know\", \"know\", \"know\", \"know\", \"know\", \"know\", \"know\", \"know\", \"know\", \"know\", \"la\", \"la\", \"la\", \"la\", \"la\", \"la\", \"la\", \"la\", \"lace\", \"lace\", \"lace\", \"lace\", \"lace\", \"lace\", \"lace\", \"lace\", \"lace\", \"lady\", \"lady\", \"lady\", \"lady\", \"lady\", \"lady\", \"lady\", \"lady\", \"lady\", \"lady\", \"lady\", \"lady\", \"lady\", \"lady\", \"lady\", \"larkins\", \"laugh\", \"laugh\", \"laugh\", \"laugh\", \"laugh\", \"laugh\", \"laugh\", \"laugh\", \"laugh\", \"laugh\", \"laugh\", \"laugh\", \"le\", \"le\", \"le\", \"le\", \"le\", \"le\", \"leah\", \"leah\", \"leah\", \"leah\", \"leaved\", \"leaved\", \"leaved\", \"left\", \"left\", \"left\", \"left\", \"left\", \"left\", \"left\", \"left\", \"left\", \"left\", \"left\", \"left\", \"left\", \"leg\", \"leg\", \"leg\", \"legitimate\", \"legitimate\", \"legitimate\", \"lengths\", \"lengths\", \"lengths\", \"lengths\", \"lengths\", \"les\", \"les\", \"les\", \"les\", \"lesson\", \"lesson\", \"lesson\", \"lesson\", \"lesson\", \"lesson\", \"lesson\", \"lesson\", \"lesson\", \"lesson\", \"let\", \"let\", \"let\", \"let\", \"let\", \"let\", \"let\", \"let\", \"let\", \"let\", \"let\", \"let\", \"letter\", \"letter\", \"letter\", \"letter\", \"letter\", \"letter\", \"letter\", \"letter\", \"letter\", \"letter\", \"letter\", \"letter\", \"letter\", \"levity\", \"levity\", \"levity\", \"levity\", \"levity\", \"lid\", \"lid\", \"lied\", \"lied\", \"lied\", \"life\", \"life\", \"life\", \"life\", \"life\", \"life\", \"life\", \"life\", \"life\", \"life\", \"life\", \"life\", \"life\", \"life\", \"light\", \"light\", \"light\", \"light\", \"light\", \"light\", \"light\", \"light\", \"light\", \"light\", \"light\", \"light\", \"lighting\", \"lighting\", \"like\", \"like\", \"like\", \"like\", \"like\", \"like\", \"like\", \"like\", \"like\", \"like\", \"like\", \"like\", \"like\", \"like\", \"likeness\", \"likeness\", \"likeness\", \"likeness\", \"likeness\", \"likeness\", \"likeness\", \"likeness\", \"likeness\", \"likeness\", \"likeness\", \"limited\", \"limited\", \"limited\", \"limited\", \"limited\", \"limited\", \"limited\", \"limited\", \"limited\", \"little\", \"little\", \"little\", \"little\", \"little\", \"little\", \"little\", \"little\", \"little\", \"little\", \"little\", \"little\", \"little\", \"little\", \"little\", \"live\", \"live\", \"live\", \"live\", \"live\", \"live\", \"live\", \"live\", \"live\", \"live\", \"live\", \"live\", \"live\", \"live\", \"lizzy\", \"lizzy\", \"lizzy\", \"lizzy\", \"lizzy\", \"ll\", \"ll\", \"ll\", \"ll\", \"ll\", \"ll\", \"ll\", \"ll\", \"ll\", \"ll\", \"lloyd\", \"lloyd\", \"lodge\", \"lodge\", \"lodge\", \"lodge\", \"lodge\", \"lodge\", \"long\", \"long\", \"long\", \"long\", \"long\", \"long\", \"long\", \"long\", \"long\", \"long\", \"long\", \"long\", \"long\", \"long\", \"long\", \"longbourn\", \"longbourn\", \"longbourn\", \"longstaple\", \"look\", \"look\", \"look\", \"look\", \"look\", \"look\", \"look\", \"look\", \"look\", \"look\", \"look\", \"look\", \"look\", \"look\", \"look\", \"looked\", \"looked\", \"looked\", \"looked\", \"looked\", \"looked\", \"looked\", \"looked\", \"looked\", \"looked\", \"looked\", \"looked\", \"looked\", \"looked\", \"looked\", \"love\", \"love\", \"love\", \"love\", \"love\", \"love\", \"love\", \"love\", \"love\", \"love\", \"love\", \"love\", \"love\", \"loved\", \"loved\", \"loved\", \"loved\", \"loved\", \"loved\", \"loved\", \"loved\", \"loved\", \"loved\", \"lowood\", \"lowood\", \"lowood\", \"lucas\", \"lucas\", \"lucas\", \"lucases\", \"lucases\", \"lucy\", \"lucy\", \"lucy\", \"lucy\", \"lucy\", \"lucy\", \"lucy\", \"lucy\", \"lucy\", \"lui\", \"lui\", \"lui\", \"luxuries\", \"luxuries\", \"luxuries\", \"luxuries\", \"luxuries\", \"luxury\", \"luxury\", \"luxury\", \"luxury\", \"luxury\", \"luxury\", \"luxury\", \"lydia\", \"lydia\", \"lydia\", \"lynn\", \"madame\", \"madame\", \"madame\", \"madame\", \"madame\", \"madame\", \"madame\", \"madame\", \"madame\", \"mademoiselle\", \"mademoiselle\", \"mademoiselle\", \"mademoiselle\", \"mademoiselle\", \"mademoiselle\", \"mademoiselle\", \"mademoiselle\", \"magi\", \"magi\", \"magi\", \"magna\", \"maintaining\", \"maintaining\", \"maintaining\", \"maintaining\", \"maintaining\", \"mais\", \"mais\", \"mais\", \"maker\", \"maker\", \"maker\", \"mal\", \"mal\", \"man\", \"man\", \"man\", \"man\", \"man\", \"man\", \"man\", \"man\", \"man\", \"man\", \"man\", \"man\", \"man\", \"maniac\", \"maniac\", \"maple\", \"maple\", \"maple\", \"marchmont\", \"marchmont\", \"marchmont\", \"margaret\", \"margaret\", \"margaret\", \"marianne\", \"marianne\", \"marianne\", \"marianne\", \"marianne\", \"marie\", \"marie\", \"marie\", \"marie\", \"marriage\", \"marriage\", \"marriage\", \"marriage\", \"marriage\", \"marriage\", \"marriage\", \"marriage\", \"marriage\", \"marriage\", \"martin\", \"martin\", \"martin\", \"martin\", \"martin\", \"mary\", \"mary\", \"mary\", \"mary\", \"mary\", \"mary\", \"mary\", \"mary\", \"mary\", \"mary\", \"mason\", \"mason\", \"mason\", \"mason\", \"master\", \"master\", \"master\", \"master\", \"master\", \"master\", \"master\", \"master\", \"master\", \"master\", \"master\", \"mdlle\", \"mdlle\", \"mdlle\", \"mdlle\", \"mdlle\", \"mdlle\", \"mdlle\", \"mender\", \"mender\", \"mental\", \"mental\", \"mental\", \"mental\", \"mental\", \"mental\", \"mental\", \"mental\", \"mental\", \"meryton\", \"meryton\", \"meryton\", \"messieurs\", \"messieurs\", \"messieurs\", \"messieurs\", \"middleton\", \"middleton\", \"middleton\", \"middleton\", \"middletons\", \"middletons\", \"mien\", \"mien\", \"mien\", \"mien\", \"mien\", \"mien\", \"military\", \"military\", \"military\", \"militia\", \"militia\", \"millcote\", \"millcote\", \"millcote\", \"miller\", \"miller\", \"mind\", \"mind\", \"mind\", \"mind\", \"mind\", \"mind\", \"mind\", \"mind\", \"mind\", \"mind\", \"mind\", \"mind\", \"mind\", \"mind\", \"mischievous\", \"mischievous\", \"mischievous\", \"mischievous\", \"misery\", \"misery\", \"misery\", \"misery\", \"misery\", \"misery\", \"misery\", \"miss\", \"miss\", \"miss\", \"miss\", \"miss\", \"miss\", \"miss\", \"miss\", \"miss\", \"miss\", \"miss\", \"miss\", \"miss\", \"missionary\", \"missionary\", \"missionary\", \"missis\", \"moi\", \"moi\", \"moi\", \"moment\", \"moment\", \"moment\", \"moment\", \"moment\", \"moment\", \"moment\", \"moment\", \"moment\", \"moment\", \"moment\", \"moment\", \"moment\", \"mon\", \"mon\", \"mon\", \"mon\", \"mon\", \"monday\", \"monday\", \"monsieur\", \"monsieur\", \"monsieur\", \"monsieur\", \"monsieur\", \"monsieur\", \"monsieur\", \"monsieur\", \"monsieur\", \"moors\", \"morals\", \"morals\", \"mother\", \"mother\", \"mother\", \"mother\", \"mother\", \"mother\", \"mother\", \"mother\", \"mother\", \"mother\", \"mother\", \"mother\", \"mother\", \"mother\", \"mound\", \"mound\", \"mud\", \"mud\", \"mud\", \"musical\", \"musical\", \"musical\", \"musical\", \"musical\", \"musical\", \"musical\", \"mystic\", \"mystic\", \"mystic\", \"nailed\", \"nailed\", \"nailed\", \"naked\", \"nash\", \"nash\", \"nash\", \"nation\", \"nation\", \"nation\", \"nation\", \"nations\", \"nations\", \"nations\", \"nations\", \"natural\", \"natural\", \"natural\", \"natural\", \"natural\", \"natural\", \"natural\", \"natural\", \"natural\", \"natural\", \"natural\", \"natural\", \"natural\", \"ne\", \"ne\", \"ne\", \"ne\", \"near\", \"near\", \"near\", \"near\", \"near\", \"near\", \"near\", \"near\", \"near\", \"near\", \"near\", \"near\", \"nest\", \"netherfield\", \"netherfield\", \"netherfield\", \"new\", \"new\", \"new\", \"new\", \"new\", \"new\", \"new\", \"new\", \"new\", \"new\", \"new\", \"new\", \"new\", \"new\", \"night\", \"night\", \"night\", \"night\", \"night\", \"night\", \"night\", \"night\", \"night\", \"night\", \"night\", \"night\", \"night\", \"ninety\", \"ninety\", \"ninety\", \"nobleman\", \"nobleman\", \"nobleman\", \"non\", \"non\", \"non\", \"nonsensical\", \"norland\", \"norland\", \"norland\", \"norland\", \"notre\", \"notre\", \"numero\", \"numero\", \"nun\", \"nun\", \"nun\", \"nun\", \"obeying\", \"obeying\", \"officers\", \"officers\", \"officers\", \"oh\", \"oh\", \"oh\", \"oh\", \"oh\", \"oh\", \"oh\", \"oh\", \"oh\", \"oh\", \"oh\", \"oh\", \"oh\", \"old\", \"old\", \"old\", \"old\", \"old\", \"old\", \"old\", \"old\", \"old\", \"old\", \"old\", \"old\", \"old\", \"old\", \"oratory\", \"oratory\", \"ou\", \"ou\", \"ou\", \"ou\", \"palmer\", \"palmer\", \"palmers\", \"panel\", \"panel\", \"panel\", \"papa\", \"papa\", \"papa\", \"papa\", \"papa\", \"papa\", \"papa\", \"papa\", \"papa\", \"papa\", \"papa\", \"paragraph\", \"paragraph\", \"paragraph\", \"paragraph\", \"paragraph\", \"paramount\", \"paramount\", \"paramount\", \"paramount\", \"parisian\", \"parisian\", \"parisian\", \"park\", \"park\", \"park\", \"park\", \"park\", \"park\", \"park\", \"park\", \"park\", \"park\", \"park\", \"park\", \"parties\", \"parties\", \"parties\", \"parties\", \"parties\", \"parties\", \"parties\", \"parties\", \"parties\", \"pas\", \"pas\", \"pas\", \"pas\", \"pas\", \"pas\", \"patrician\", \"patrician\", \"patrician\", \"patty\", \"paul\", \"paul\", \"paul\", \"paul\", \"paul\", \"paul\", \"paul\", \"paulina\", \"paulina\", \"paulina\", \"paulina\", \"paulina\", \"peak\", \"peak\", \"peak\", \"peak\", \"pelet\", \"pelet\", \"pelet\", \"pelet\", \"pelet\", \"pelet\", \"pelet\", \"pemberley\", \"pemberley\", \"pemberley\", \"pencil\", \"pencil\", \"pencil\", \"pencil\", \"pencil\", \"pencil\", \"pencil\", \"pensionnat\", \"pensionnat\", \"pensionnat\", \"pensionnat\", \"pensionnat\", \"pensionnat\", \"people\", \"people\", \"people\", \"people\", \"people\", \"people\", \"people\", \"people\", \"people\", \"people\", \"people\", \"people\", \"people\", \"people\", \"performances\", \"performances\", \"performances\", \"performances\", \"perry\", \"perry\", \"perry\", \"perry\", \"petit\", \"petit\", \"petit\", \"petit\", \"peut\", \"peut\", \"peut\", \"philanthropist\", \"philanthropist\", \"philanthropist\", \"philanthropist\", \"philanthropy\", \"philanthropy\", \"phillips\", \"phillips\", \"pictures\", \"pictures\", \"pictures\", \"pictures\", \"pictures\", \"pictures\", \"pictures\", \"pictures\", \"pictures\", \"pictures\", \"pictures\", \"pieces\", \"pieces\", \"pieces\", \"pieces\", \"pieces\", \"pieces\", \"pieces\", \"pierre\", \"pierre\", \"pile\", \"pilot\", \"pilot\", \"pilot\", \"place\", \"place\", \"place\", \"place\", \"place\", \"place\", \"place\", \"place\", \"place\", \"place\", \"place\", \"place\", \"place\", \"platform\", \"pleasure\", \"pleasure\", \"pleasure\", \"pleasure\", \"pleasure\", \"pleasure\", \"pleasure\", \"pleasure\", \"pleasure\", \"pleasure\", \"pleasure\", \"pleasure\", \"pleasure\", \"plebeian\", \"plebeian\", \"plebeian\", \"poet\", \"poet\", \"poet\", \"pomp\", \"pomp\", \"pomp\", \"pomp\", \"poole\", \"poole\", \"poor\", \"poor\", \"poor\", \"poor\", \"poor\", \"poor\", \"poor\", \"poor\", \"poor\", \"poor\", \"poor\", \"poor\", \"poor\", \"portfolio\", \"portfolio\", \"portfolio\", \"portfolio\", \"portfolio\", \"pounds\", \"pounds\", \"pounds\", \"pounds\", \"pounds\", \"pounds\", \"pounds\", \"pounds\", \"pounds\", \"pounds\", \"power\", \"power\", \"power\", \"power\", \"power\", \"power\", \"power\", \"power\", \"power\", \"power\", \"power\", \"power\", \"power\", \"power\", \"preparations\", \"preparations\", \"preparations\", \"preparations\", \"preparations\", \"pretty\", \"pretty\", \"pretty\", \"pretty\", \"pretty\", \"pretty\", \"pretty\", \"pretty\", \"pretty\", \"pretty\", \"pretty\", \"pretty\", \"pretty\", \"priest\", \"priest\", \"priest\", \"priest\", \"problem\", \"professional\", \"professional\", \"promptitude\", \"promptitude\", \"promptitude\", \"promptitude\", \"property\", \"property\", \"property\", \"property\", \"property\", \"property\", \"property\", \"property\", \"propre\", \"propre\", \"propre\", \"prose\", \"prose\", \"prose\", \"prose\", \"prosperity\", \"prosperity\", \"prosperity\", \"prosperity\", \"prosperity\", \"prosperity\", \"protestants\", \"protestants\", \"publicity\", \"publicity\", \"publicity\", \"publicity\", \"punctuality\", \"punctuality\", \"punctuality\", \"punctuality\", \"punctuality\", \"pupil\", \"pupil\", \"pupil\", \"pupil\", \"pupil\", \"pupil\", \"pupil\", \"pupil\", \"pupil\", \"pupils\", \"pupils\", \"pupils\", \"pupils\", \"pupils\", \"pupils\", \"pupils\", \"pushing\", \"pushing\", \"pushing\", \"pushing\", \"qu\", \"qu\", \"qu\", \"qu\", \"quarrelled\", \"quarrelled\", \"quarrelled\", \"quarrelled\", \"que\", \"que\", \"que\", \"que\", \"que\", \"quel\", \"quel\", \"rainbow\", \"rainbow\", \"rainbow\", \"randalls\", \"randalls\", \"randalls\", \"rats\", \"rats\", \"rats\", \"rays\", \"rays\", \"read\", \"read\", \"read\", \"read\", \"read\", \"read\", \"read\", \"read\", \"read\", \"read\", \"read\", \"read\", \"read\", \"read\", \"recital\", \"reckon\", \"reckon\", \"reckon\", \"reckon\", \"recurrence\", \"recurrence\", \"recurrence\", \"recurrence\", \"recurrence\", \"reed\", \"reed\", \"reed\", \"reed\", \"regiment\", \"regiment\", \"regiment\", \"regiment\", \"regularity\", \"regularity\", \"regularity\", \"relatives\", \"relatives\", \"relatives\", \"relatives\", \"reluctantly\", \"reluctantly\", \"reluctantly\", \"reluctantly\", \"reminiscences\", \"reminiscences\", \"reminiscences\", \"remnant\", \"replied\", \"replied\", \"replied\", \"replied\", \"replied\", \"replied\", \"replied\", \"replied\", \"replied\", \"replied\", \"replied\", \"replied\", \"reported\", \"reported\", \"reported\", \"reported\", \"repugnance\", \"repugnance\", \"repugnance\", \"repugnance\", \"resided\", \"resided\", \"resided\", \"resided\", \"resources\", \"resources\", \"resources\", \"resources\", \"resources\", \"resources\", \"resources\", \"rests\", \"rests\", \"reuter\", \"reuter\", \"reuter\", \"reuter\", \"reuter\", \"richard\", \"richard\", \"richard\", \"richard\", \"richer\", \"richer\", \"richer\", \"richer\", \"richmond\", \"riddle\", \"riddle\", \"riddle\", \"riddle\", \"rivers\", \"rivers\", \"rivers\", \"rivers\", \"rivers\", \"rivers\", \"robert\", \"robert\", \"robert\", \"robert\", \"robert\", \"rochester\", \"rochester\", \"rochester\", \"rochester\", \"rochester\", \"rochester\", \"rochester\", \"rochester\", \"rome\", \"rome\", \"rome\", \"rome\", \"rome\", \"rome\", \"rome\", \"room\", \"room\", \"room\", \"room\", \"room\", \"room\", \"room\", \"room\", \"room\", \"room\", \"room\", \"room\", \"room\", \"room\", \"rosamond\", \"rosamond\", \"rosine\", \"rosine\", \"rough\", \"rough\", \"rough\", \"rough\", \"rough\", \"rough\", \"rough\", \"round\", \"round\", \"round\", \"round\", \"round\", \"round\", \"round\", \"round\", \"round\", \"round\", \"round\", \"round\", \"round\", \"round\", \"rubber\", \"rubber\", \"rubber\", \"rue\", \"rue\", \"rue\", \"rue\", \"rue\", \"rue\", \"rumour\", \"rumour\", \"rumour\", \"rumour\", \"rumour\", \"rumour\", \"rumour\", \"sacrifices\", \"sacrifices\", \"sacrifices\", \"salary\", \"salary\", \"salary\", \"salary\", \"salary\", \"salary\", \"salary\", \"salary\", \"salary\", \"sarah\", \"sarah\", \"sarah\", \"sarcastic\", \"sarcastic\", \"sarcastic\", \"sarcastic\", \"saturday\", \"saturday\", \"saturday\", \"saturday\", \"saturday\", \"saw\", \"saw\", \"saw\", \"saw\", \"saw\", \"saw\", \"saw\", \"saw\", \"saw\", \"saw\", \"saw\", \"saw\", \"saw\", \"saw\", \"scarcely\", \"scarcely\", \"scarcely\", \"scarcely\", \"scarcely\", \"scarcely\", \"scarcely\", \"scarcely\", \"scarcely\", \"scarcely\", \"scarcely\", \"scatcherd\", \"scotch\", \"scotch\", \"scotch\", \"scotch\", \"scotch\", \"scotch\", \"scowled\", \"scowled\", \"scowled\", \"scrape\", \"scrape\", \"scrape\", \"scrape\", \"scrape\", \"scrupled\", \"scrupled\", \"scrupled\", \"scrupled\", \"sea\", \"sea\", \"sea\", \"sea\", \"sea\", \"sea\", \"sea\", \"sea\", \"sea\", \"sea\", \"seacombe\", \"seacombe\", \"seas\", \"seas\", \"seas\", \"secured\", \"secured\", \"secured\", \"secured\", \"secured\", \"secured\", \"secured\", \"secured\", \"secured\", \"secured\", \"self\", \"self\", \"self\", \"self\", \"self\", \"self\", \"self\", \"self\", \"self\", \"self\", \"self\", \"self\", \"selina\", \"selina\", \"serenity\", \"serenity\", \"serenity\", \"serenity\", \"shall\", \"shall\", \"shall\", \"shall\", \"shall\", \"shall\", \"shall\", \"shall\", \"shall\", \"shall\", \"shall\", \"shall\", \"shall\", \"shelves\", \"shelves\", \"shelves\", \"shire\", \"shire\", \"shire\", \"shire\", \"shire\", \"shire\", \"shire\", \"shire\", \"shire\", \"shrine\", \"shrine\", \"shudder\", \"shudder\", \"shudder\", \"sickening\", \"sickening\", \"sickly\", \"sickly\", \"sickly\", \"sickly\", \"sir\", \"sir\", \"sir\", \"sir\", \"sir\", \"sir\", \"sir\", \"sir\", \"sir\", \"sir\", \"sir\", \"sir\", \"sister\", \"sister\", \"sister\", \"sister\", \"sister\", \"sister\", \"sister\", \"sister\", \"sister\", \"sister\", \"sister\", \"sister\", \"sisters\", \"sisters\", \"sisters\", \"sisters\", \"sisters\", \"sisters\", \"sisters\", \"sisters\", \"sisters\", \"sisters\", \"sisters\", \"sixpence\", \"sixpence\", \"sixpence\", \"sixpence\", \"sketch\", \"sketch\", \"sketch\", \"sketch\", \"sketch\", \"sketch\", \"sketch\", \"sketch\", \"skies\", \"sleeper\", \"sleeve\", \"slippery\", \"slippery\", \"slippery\", \"slippery\", \"slippery\", \"smallridge\", \"smith\", \"smith\", \"smith\", \"smith\", \"smith\", \"smith\", \"sneered\", \"sneered\", \"society\", \"society\", \"society\", \"society\", \"society\", \"society\", \"society\", \"society\", \"society\", \"society\", \"society\", \"society\", \"society\", \"society\", \"soir\", \"soir\", \"soir\", \"soit\", \"soit\", \"somersetshire\", \"son\", \"son\", \"son\", \"son\", \"son\", \"son\", \"son\", \"son\", \"son\", \"son\", \"son\", \"soon\", \"soon\", \"soon\", \"soon\", \"soon\", \"soon\", \"soon\", \"soon\", \"soon\", \"soon\", \"soon\", \"soon\", \"soon\", \"soon\", \"soon\", \"sort\", \"sort\", \"sort\", \"sort\", \"sort\", \"sort\", \"sort\", \"sort\", \"sort\", \"sort\", \"sort\", \"sort\", \"sparkled\", \"sparkled\", \"sparkled\", \"sparkled\", \"speak\", \"speak\", \"speak\", \"speak\", \"speak\", \"speak\", \"speak\", \"speak\", \"speak\", \"speak\", \"speak\", \"speak\", \"spectacles\", \"spectacles\", \"spectacles\", \"spectacles\", \"spectacles\", \"spectacles\", \"spectacles\", \"spectral\", \"spirits\", \"spirits\", \"spirits\", \"spirits\", \"spirits\", \"spirits\", \"spirits\", \"spirits\", \"spirits\", \"spirits\", \"spirits\", \"spirits\", \"spirits\", \"st\", \"st\", \"st\", \"st\", \"st\", \"st\", \"st\", \"st\", \"st\", \"st\", \"sternly\", \"sternly\", \"stile\", \"stood\", \"stood\", \"stood\", \"stood\", \"stood\", \"stood\", \"stood\", \"stood\", \"stood\", \"stood\", \"stood\", \"storeroom\", \"storeroom\", \"storeroom\", \"storey\", \"storms\", \"storms\", \"storms\", \"strange\", \"strange\", \"strange\", \"strange\", \"strange\", \"strange\", \"strange\", \"strange\", \"strange\", \"strange\", \"strange\", \"strange\", \"submissive\", \"submissive\", \"submissive\", \"submissive\", \"submissive\", \"submissive\", \"subside\", \"subside\", \"sun\", \"sun\", \"sun\", \"sun\", \"sun\", \"sun\", \"sun\", \"sun\", \"suns\", \"suns\", \"superiority\", \"superiority\", \"superiority\", \"superiority\", \"superiority\", \"superiority\", \"superiority\", \"sure\", \"sure\", \"sure\", \"sure\", \"sure\", \"sure\", \"sure\", \"sure\", \"sure\", \"sure\", \"sure\", \"sure\", \"sure\", \"sure\", \"surgeon\", \"surgeon\", \"surgeon\", \"surgeon\", \"surprise\", \"surprise\", \"surprise\", \"surprise\", \"surprise\", \"surprise\", \"surprise\", \"surprise\", \"surprise\", \"surprize\", \"surprize\", \"surprize\", \"surprized\", \"surry\", \"surry\", \"swelled\", \"swelled\", \"swelled\", \"swelled\", \"swelled\", \"swelled\", \"swiss\", \"swiss\", \"swiss\", \"switzerland\", \"switzerland\", \"switzerland\", \"swung\", \"swung\", \"swung\", \"talents\", \"talents\", \"talents\", \"talents\", \"talents\", \"talents\", \"talents\", \"talents\", \"talker\", \"talker\", \"talker\", \"talker\", \"talker\", \"taylor\", \"taylor\", \"taylor\", \"teacher\", \"teacher\", \"teacher\", \"teacher\", \"teacher\", \"teacher\", \"teacher\", \"teacher\", \"teacher\", \"tell\", \"tell\", \"tell\", \"tell\", \"tell\", \"tell\", \"tell\", \"tell\", \"tell\", \"tell\", \"tell\", \"tell\", \"tell\", \"tell\", \"temple\", \"temple\", \"temple\", \"temple\", \"terrasse\", \"terrasse\", \"terrasse\", \"thing\", \"thing\", \"thing\", \"thing\", \"thing\", \"thing\", \"thing\", \"thing\", \"thing\", \"thing\", \"thing\", \"thing\", \"thing\", \"thing\", \"thing\", \"think\", \"think\", \"think\", \"think\", \"think\", \"think\", \"think\", \"think\", \"think\", \"think\", \"think\", \"think\", \"think\", \"think\", \"think\", \"thornfield\", \"thornfield\", \"thornfield\", \"thornfield\", \"thornfield\", \"thought\", \"thought\", \"thought\", \"thought\", \"thought\", \"thought\", \"thought\", \"thought\", \"thought\", \"thought\", \"thought\", \"thought\", \"thought\", \"thought\", \"thought\", \"thousand\", \"thousand\", \"thousand\", \"thousand\", \"thousand\", \"thousand\", \"thousand\", \"thousand\", \"thousand\", \"thousand\", \"thousand\", \"thousand\", \"thousand\", \"throne\", \"throne\", \"tied\", \"tied\", \"tied\", \"tied\", \"tied\", \"tied\", \"time\", \"time\", \"time\", \"time\", \"time\", \"time\", \"time\", \"time\", \"time\", \"time\", \"time\", \"time\", \"time\", \"time\", \"tints\", \"tints\", \"tints\", \"took\", \"took\", \"took\", \"took\", \"took\", \"took\", \"took\", \"took\", \"took\", \"took\", \"took\", \"took\", \"took\", \"took\", \"town\", \"town\", \"town\", \"town\", \"town\", \"town\", \"town\", \"town\", \"town\", \"town\", \"town\", \"town\", \"town\", \"town\", \"traced\", \"traced\", \"traced\", \"traced\", \"traced\", \"traced\", \"tranquilly\", \"tranquilly\", \"tranquilly\", \"tranquilly\", \"tranquilly\", \"treats\", \"treats\", \"treats\", \"triumphantly\", \"triumphantly\", \"triumphantly\", \"trod\", \"troop\", \"troop\", \"troop\", \"truths\", \"truths\", \"truths\", \"truths\", \"turned\", \"turned\", \"turned\", \"turned\", \"turned\", \"turned\", \"turned\", \"turned\", \"turned\", \"turned\", \"turned\", \"turned\", \"turned\", \"turned\", \"turned\", \"tutor\", \"tutor\", \"tutor\", \"tutor\", \"unceasing\", \"uncle\", \"uncle\", \"uncle\", \"uncle\", \"uncle\", \"uncle\", \"uncle\", \"uncle\", \"uncle\", \"uncle\", \"uncle\", \"uncle\", \"undone\", \"undone\", \"undone\", \"undone\", \"unfrequently\", \"unfrequently\", \"unfrequently\", \"unfrequently\", \"unhappiness\", \"unkind\", \"unkind\", \"unkind\", \"unkind\", \"unkind\", \"unmarried\", \"unmarried\", \"unprepared\", \"unprepared\", \"unprepared\", \"unprepared\", \"unwholesome\", \"unwholesome\", \"unwholesome\", \"unwholesome\", \"unwillingly\", \"vandenhuten\", \"vandenhuten\", \"varens\", \"vases\", \"vases\", \"vases\", \"vases\", \"ve\", \"ve\", \"ve\", \"ve\", \"ve\", \"ve\", \"ve\", \"ve\", \"veil\", \"veil\", \"veil\", \"veil\", \"veil\", \"veil\", \"vicar\", \"vicar\", \"vicar\", \"vicar\", \"victor\", \"victor\", \"victor\", \"villette\", \"villette\", \"villette\", \"villette\", \"villette\", \"violets\", \"visage\", \"visage\", \"visage\", \"visage\", \"visage\", \"voice\", \"voice\", \"voice\", \"voice\", \"voice\", \"voice\", \"voice\", \"voice\", \"voice\", \"voice\", \"voice\", \"voice\", \"voice\", \"voice\", \"volume\", \"volume\", \"volume\", \"volume\", \"volume\", \"vous\", \"vous\", \"vous\", \"vous\", \"vous\", \"walravens\", \"walravens\", \"walravens\", \"wanted\", \"wanted\", \"wanted\", \"wanted\", \"wanted\", \"wanted\", \"wanted\", \"wanted\", \"wanted\", \"wanted\", \"wanted\", \"wanted\", \"wanted\", \"wanted\", \"way\", \"way\", \"way\", \"way\", \"way\", \"way\", \"way\", \"way\", \"way\", \"way\", \"way\", \"way\", \"way\", \"way\", \"way\", \"went\", \"went\", \"went\", \"went\", \"went\", \"went\", \"went\", \"went\", \"went\", \"went\", \"went\", \"went\", \"went\", \"went\", \"weston\", \"weston\", \"weston\", \"weston\", \"weston\", \"weston\", \"weston\", \"weston\", \"wheel\", \"white\", \"white\", \"white\", \"white\", \"white\", \"white\", \"white\", \"white\", \"white\", \"white\", \"wickham\", \"wickham\", \"wider\", \"wider\", \"wider\", \"willoughby\", \"willoughby\", \"windows\", \"windows\", \"windows\", \"windows\", \"windows\", \"windows\", \"windows\", \"windows\", \"windows\", \"windsor\", \"winning\", \"winning\", \"wives\", \"wives\", \"wives\", \"wives\", \"wives\", \"wives\", \"woman\", \"woman\", \"woman\", \"woman\", \"woman\", \"woman\", \"woman\", \"woman\", \"woman\", \"woman\", \"woman\", \"woman\", \"woman\", \"wont\", \"wont\", \"wont\", \"woodhouse\", \"woodhouse\", \"woodhouse\", \"woodhouse\", \"woodhouse\", \"woodhouse\", \"word\", \"word\", \"word\", \"word\", \"word\", \"word\", \"word\", \"word\", \"word\", \"word\", \"word\", \"word\", \"word\", \"word\", \"word\", \"world\", \"world\", \"world\", \"world\", \"world\", \"world\", \"world\", \"world\", \"world\", \"world\", \"world\", \"world\", \"world\", \"world\", \"xvii\", \"xvii\", \"xvii\", \"xvii\", \"xvii\", \"year\", \"year\", \"year\", \"year\", \"year\", \"year\", \"year\", \"year\", \"year\", \"year\", \"year\", \"year\", \"year\", \"years\", \"years\", \"years\", \"years\", \"years\", \"years\", \"years\", \"years\", \"years\", \"years\", \"years\", \"years\", \"years\", \"years\", \"yes\", \"yes\", \"yes\", \"yes\", \"yes\", \"yes\", \"yes\", \"yes\", \"yes\", \"yes\", \"yes\", \"yes\", \"yes\", \"yes\", \"yorke\", \"yorke\", \"young\", \"young\", \"young\", \"young\", \"young\", \"young\", \"young\", \"young\", \"young\", \"young\", \"young\", \"young\", \"young\", \"young\", \"young\", \"zoraide\", \"zoraide\", \"zoraide\", \"zoraide\", \"zoraide\"]}, \"R\": 30, \"lambda.step\": 0.01, \"plot.opts\": {\"xlab\": \"PC1\", \"ylab\": \"PC2\"}, \"topic.order\": [11, 5, 12, 14, 6, 7, 3, 2, 8, 13, 9, 10, 4, 1, 15]};\n",
       "\n",
       "function LDAvis_load_lib(url, callback){\n",
       "  var s = document.createElement('script');\n",
       "  s.src = url;\n",
       "  s.async = true;\n",
       "  s.onreadystatechange = s.onload = callback;\n",
       "  s.onerror = function(){console.warn(\"failed to load library \" + url);};\n",
       "  document.getElementsByTagName(\"head\")[0].appendChild(s);\n",
       "}\n",
       "\n",
       "if(typeof(LDAvis) !== \"undefined\"){\n",
       "   // already loaded: just create the visualization\n",
       "   !function(LDAvis){\n",
       "       new LDAvis(\"#\" + \"ldavis_el128256079149762597905806\", ldavis_el128256079149762597905806_data);\n",
       "   }(LDAvis);\n",
       "}else if(typeof define === \"function\" && define.amd){\n",
       "   // require.js is available: use it to load d3/LDAvis\n",
       "   require.config({paths: {d3: \"https://cdnjs.cloudflare.com/ajax/libs/d3/3.5.5/d3.min\"}});\n",
       "   require([\"d3\"], function(d3){\n",
       "      window.d3 = d3;\n",
       "      LDAvis_load_lib(\"https://cdn.rawgit.com/bmabey/pyLDAvis/files/ldavis.v1.0.0.js\", function(){\n",
       "        new LDAvis(\"#\" + \"ldavis_el128256079149762597905806\", ldavis_el128256079149762597905806_data);\n",
       "      });\n",
       "    });\n",
       "}else{\n",
       "    // require.js not available: dynamically load d3 & LDAvis\n",
       "    LDAvis_load_lib(\"https://cdnjs.cloudflare.com/ajax/libs/d3/3.5.5/d3.min.js\", function(){\n",
       "         LDAvis_load_lib(\"https://cdn.rawgit.com/bmabey/pyLDAvis/files/ldavis.v1.0.0.js\", function(){\n",
       "                 new LDAvis(\"#\" + \"ldavis_el128256079149762597905806\", ldavis_el128256079149762597905806_data);\n",
       "            })\n",
       "         });\n",
       "}\n",
       "</script>"
      ],
      "text/plain": [
       "PreparedData(topic_coordinates=              x         y  topics  cluster       Freq\n",
       "topic                                                \n",
       "10    -0.045594  0.020557       1        1  21.411991\n",
       "4     -0.077665  0.055243       2        1  17.607552\n",
       "11     0.141288  0.008633       3        1  16.260649\n",
       "13     0.104043  0.014424       4        1  16.003170\n",
       "5      0.152210  0.012563       5        1  10.043449\n",
       "6     -0.013860  0.051121       6        1   6.805725\n",
       "2     -0.077656  0.072671       7        1   3.625797\n",
       "1     -0.033808  0.047089       8        1   2.328243\n",
       "7     -0.071730  0.053932       9        1   1.555925\n",
       "12     0.095364 -0.031606      10        1   1.282468\n",
       "8      0.052508 -0.003886      11        1   1.224828\n",
       "9      0.006459 -0.050555      12        1   0.866365\n",
       "3     -0.099429 -0.027451      13        1   0.458793\n",
       "0     -0.046037 -0.148617      14        1   0.262596\n",
       "14    -0.086093 -0.074117      15        1   0.262457, topic_info=     Category         Freq     Term        Total  loglift  logprob\n",
       "90    Default   836.000000     emma   836.000000  30.0000  30.0000\n",
       "177   Default  1711.000000   little  1711.000000  29.0000  29.0000\n",
       "848   Default   931.000000     jane   931.000000  28.0000  28.0000\n",
       "1131  Default  1535.000000     miss  1535.000000  27.0000  27.0000\n",
       "414   Default  1318.000000     like  1318.000000  26.0000  26.0000\n",
       "...       ...          ...      ...          ...      ...      ...\n",
       "272   Topic15     1.949850  thought  1136.644653  -0.4252  -6.0448\n",
       "518   Topic15     1.881985    young   664.609802   0.0760  -6.0802\n",
       "416   Topic15     1.845914     look   637.397278   0.0984  -6.0995\n",
       "374   Topic15     1.834072     face   499.783630   0.3352  -6.1060\n",
       "181   Topic15     1.812856   looked   696.602356  -0.0085  -6.1176\n",
       "\n",
       "[1125 rows x 6 columns], token_table=      Topic      Freq     Term\n",
       "term                          \n",
       "0         3  0.958442    abbey\n",
       "6075      5  0.147771    abide\n",
       "6075      6  0.738855    abide\n",
       "1906      1  0.300438   accent\n",
       "1906      2  0.225328   accent\n",
       "...     ...       ...      ...\n",
       "5389      2  0.525994  zoraide\n",
       "5389      6  0.037571  zoraide\n",
       "5389      8  0.338139  zoraide\n",
       "5389     12  0.037571  zoraide\n",
       "5389     13  0.037571  zoraide\n",
       "\n",
       "[4380 rows x 3 columns], R=30, lambda_step=0.01, plot_opts={'xlab': 'PC1', 'ylab': 'PC2'}, topic_order=[11, 5, 12, 14, 6, 7, 3, 2, 8, 13, 9, 10, 4, 1, 15])"
      ]
     },
     "execution_count": 108,
     "metadata": {},
     "output_type": "execute_result"
    }
   ],
   "source": [
    "pyLDAvis.gensim.prepare(lda, corpus, id2word)"
   ]
  },
  {
   "cell_type": "markdown",
   "metadata": {},
   "source": [
    "### Overall Model / Documents"
   ]
  },
  {
   "cell_type": "code",
   "execution_count": 109,
   "metadata": {},
   "outputs": [
    {
     "data": {
      "text/plain": [
       "[(10, 0.13784632), (11, 0.7755114), (13, 0.084539585)]"
      ]
     },
     "execution_count": 109,
     "metadata": {},
     "output_type": "execute_result"
    }
   ],
   "source": [
    "lda[corpus[0]]"
   ]
  },
  {
   "cell_type": "code",
   "execution_count": 110,
   "metadata": {},
   "outputs": [],
   "source": [
    "distro = [lda[d] for d in corpus]"
   ]
  },
  {
   "cell_type": "code",
   "execution_count": 111,
   "metadata": {},
   "outputs": [
    {
     "data": {
      "text/plain": [
       "[(10, 0.1378547), (11, 0.7755449), (13, 0.08449767)]"
      ]
     },
     "execution_count": 111,
     "metadata": {},
     "output_type": "execute_result"
    }
   ],
   "source": [
    "distro[0]"
   ]
  },
  {
   "cell_type": "code",
   "execution_count": 112,
   "metadata": {},
   "outputs": [],
   "source": [
    "distro = [lda[d] for d in corpus]\n",
    "\n",
    "def update(doc):\n",
    "        d_dist = {k:0 for k in range(0,15)}\n",
    "        for t in doc:\n",
    "            d_dist[t[0]] = t[1]\n",
    "        return d_dist\n",
    "    \n",
    "new_distro = [update(d) for d in distro]"
   ]
  },
  {
   "cell_type": "code",
   "execution_count": 113,
   "metadata": {},
   "outputs": [],
   "source": [
    "df = pd.DataFrame.from_records(new_distro, index=titles)\n",
    "df.columns = topics\n",
    "df['author'] = df.reset_index()['index'].apply(lambda x: x.split('_')[0]).tolist()"
   ]
  },
  {
   "cell_type": "code",
   "execution_count": 114,
   "metadata": {},
   "outputs": [
    {
     "data": {
      "text/html": [
       "<div>\n",
       "<style scoped>\n",
       "    .dataframe tbody tr th:only-of-type {\n",
       "        vertical-align: middle;\n",
       "    }\n",
       "\n",
       "    .dataframe tbody tr th {\n",
       "        vertical-align: top;\n",
       "    }\n",
       "\n",
       "    .dataframe thead th {\n",
       "        text-align: right;\n",
       "    }\n",
       "</style>\n",
       "<table border=\"1\" class=\"dataframe\">\n",
       "  <thead>\n",
       "    <tr style=\"text-align: right;\">\n",
       "      <th></th>\n",
       "      <th>pounds mother sure think year</th>\n",
       "      <th>pelet thought like little man</th>\n",
       "      <th>madame little like day vous</th>\n",
       "      <th>night look like old est</th>\n",
       "      <th>little madame like thought know</th>\n",
       "      <th>elizabeth darcy miss bingley bennet</th>\n",
       "      <th>know jane life like long</th>\n",
       "      <th>frances monsieur hunsden little english</th>\n",
       "      <th>good little like emma elton</th>\n",
       "      <th>sir long jane rochester little</th>\n",
       "      <th>like little rochester miss room</th>\n",
       "      <th>emma miss harriet thing weston</th>\n",
       "      <th>jane emma little thing miss</th>\n",
       "      <th>elinor marianne sister mother time</th>\n",
       "      <th>monsieur henri georgiana mdlle little</th>\n",
       "      <th>author</th>\n",
       "    </tr>\n",
       "  </thead>\n",
       "  <tbody>\n",
       "    <tr>\n",
       "      <th>Austen_Emma0026</th>\n",
       "      <td>0.0</td>\n",
       "      <td>0.0</td>\n",
       "      <td>0.0</td>\n",
       "      <td>0.0</td>\n",
       "      <td>0.000000</td>\n",
       "      <td>0.000000</td>\n",
       "      <td>0.000000</td>\n",
       "      <td>0.0</td>\n",
       "      <td>0.0</td>\n",
       "      <td>0.0</td>\n",
       "      <td>0.137813</td>\n",
       "      <td>0.775380</td>\n",
       "      <td>0.0</td>\n",
       "      <td>0.084704</td>\n",
       "      <td>0.0</td>\n",
       "      <td>Austen</td>\n",
       "    </tr>\n",
       "    <tr>\n",
       "      <th>Austen_Emma0032</th>\n",
       "      <td>0.0</td>\n",
       "      <td>0.0</td>\n",
       "      <td>0.0</td>\n",
       "      <td>0.0</td>\n",
       "      <td>0.000000</td>\n",
       "      <td>0.000000</td>\n",
       "      <td>0.000000</td>\n",
       "      <td>0.0</td>\n",
       "      <td>0.0</td>\n",
       "      <td>0.0</td>\n",
       "      <td>0.000000</td>\n",
       "      <td>0.997455</td>\n",
       "      <td>0.0</td>\n",
       "      <td>0.000000</td>\n",
       "      <td>0.0</td>\n",
       "      <td>Austen</td>\n",
       "    </tr>\n",
       "    <tr>\n",
       "      <th>CBronte_Villette0086</th>\n",
       "      <td>0.0</td>\n",
       "      <td>0.0</td>\n",
       "      <td>0.0</td>\n",
       "      <td>0.0</td>\n",
       "      <td>0.215025</td>\n",
       "      <td>0.000000</td>\n",
       "      <td>0.782762</td>\n",
       "      <td>0.0</td>\n",
       "      <td>0.0</td>\n",
       "      <td>0.0</td>\n",
       "      <td>0.000000</td>\n",
       "      <td>0.000000</td>\n",
       "      <td>0.0</td>\n",
       "      <td>0.000000</td>\n",
       "      <td>0.0</td>\n",
       "      <td>CBronte</td>\n",
       "    </tr>\n",
       "    <tr>\n",
       "      <th>CBronte_Jane0099</th>\n",
       "      <td>0.0</td>\n",
       "      <td>0.0</td>\n",
       "      <td>0.0</td>\n",
       "      <td>0.0</td>\n",
       "      <td>0.000000</td>\n",
       "      <td>0.000000</td>\n",
       "      <td>0.522735</td>\n",
       "      <td>0.0</td>\n",
       "      <td>0.0</td>\n",
       "      <td>0.0</td>\n",
       "      <td>0.473154</td>\n",
       "      <td>0.000000</td>\n",
       "      <td>0.0</td>\n",
       "      <td>0.000000</td>\n",
       "      <td>0.0</td>\n",
       "      <td>CBronte</td>\n",
       "    </tr>\n",
       "    <tr>\n",
       "      <th>CBronte_Villette0092</th>\n",
       "      <td>0.0</td>\n",
       "      <td>0.0</td>\n",
       "      <td>0.0</td>\n",
       "      <td>0.0</td>\n",
       "      <td>0.561910</td>\n",
       "      <td>0.027239</td>\n",
       "      <td>0.000000</td>\n",
       "      <td>0.0</td>\n",
       "      <td>0.0</td>\n",
       "      <td>0.0</td>\n",
       "      <td>0.370952</td>\n",
       "      <td>0.038246</td>\n",
       "      <td>0.0</td>\n",
       "      <td>0.000000</td>\n",
       "      <td>0.0</td>\n",
       "      <td>CBronte</td>\n",
       "    </tr>\n",
       "  </tbody>\n",
       "</table>\n",
       "</div>"
      ],
      "text/plain": [
       "                      pounds mother sure think year  \\\n",
       "Austen_Emma0026                                 0.0   \n",
       "Austen_Emma0032                                 0.0   \n",
       "CBronte_Villette0086                            0.0   \n",
       "CBronte_Jane0099                                0.0   \n",
       "CBronte_Villette0092                            0.0   \n",
       "\n",
       "                      pelet thought like little man  \\\n",
       "Austen_Emma0026                                 0.0   \n",
       "Austen_Emma0032                                 0.0   \n",
       "CBronte_Villette0086                            0.0   \n",
       "CBronte_Jane0099                                0.0   \n",
       "CBronte_Villette0092                            0.0   \n",
       "\n",
       "                      madame little like day vous  night look like old est  \\\n",
       "Austen_Emma0026                               0.0                      0.0   \n",
       "Austen_Emma0032                               0.0                      0.0   \n",
       "CBronte_Villette0086                          0.0                      0.0   \n",
       "CBronte_Jane0099                              0.0                      0.0   \n",
       "CBronte_Villette0092                          0.0                      0.0   \n",
       "\n",
       "                      little madame like thought know  \\\n",
       "Austen_Emma0026                              0.000000   \n",
       "Austen_Emma0032                              0.000000   \n",
       "CBronte_Villette0086                         0.215025   \n",
       "CBronte_Jane0099                             0.000000   \n",
       "CBronte_Villette0092                         0.561910   \n",
       "\n",
       "                      elizabeth darcy miss bingley bennet  \\\n",
       "Austen_Emma0026                                  0.000000   \n",
       "Austen_Emma0032                                  0.000000   \n",
       "CBronte_Villette0086                             0.000000   \n",
       "CBronte_Jane0099                                 0.000000   \n",
       "CBronte_Villette0092                             0.027239   \n",
       "\n",
       "                      know jane life like long  \\\n",
       "Austen_Emma0026                       0.000000   \n",
       "Austen_Emma0032                       0.000000   \n",
       "CBronte_Villette0086                  0.782762   \n",
       "CBronte_Jane0099                      0.522735   \n",
       "CBronte_Villette0092                  0.000000   \n",
       "\n",
       "                      frances monsieur hunsden little english  \\\n",
       "Austen_Emma0026                                           0.0   \n",
       "Austen_Emma0032                                           0.0   \n",
       "CBronte_Villette0086                                      0.0   \n",
       "CBronte_Jane0099                                          0.0   \n",
       "CBronte_Villette0092                                      0.0   \n",
       "\n",
       "                      good little like emma elton  \\\n",
       "Austen_Emma0026                               0.0   \n",
       "Austen_Emma0032                               0.0   \n",
       "CBronte_Villette0086                          0.0   \n",
       "CBronte_Jane0099                              0.0   \n",
       "CBronte_Villette0092                          0.0   \n",
       "\n",
       "                      sir long jane rochester little  \\\n",
       "Austen_Emma0026                                  0.0   \n",
       "Austen_Emma0032                                  0.0   \n",
       "CBronte_Villette0086                             0.0   \n",
       "CBronte_Jane0099                                 0.0   \n",
       "CBronte_Villette0092                             0.0   \n",
       "\n",
       "                      like little rochester miss room  \\\n",
       "Austen_Emma0026                              0.137813   \n",
       "Austen_Emma0032                              0.000000   \n",
       "CBronte_Villette0086                         0.000000   \n",
       "CBronte_Jane0099                             0.473154   \n",
       "CBronte_Villette0092                         0.370952   \n",
       "\n",
       "                      emma miss harriet thing weston  \\\n",
       "Austen_Emma0026                             0.775380   \n",
       "Austen_Emma0032                             0.997455   \n",
       "CBronte_Villette0086                        0.000000   \n",
       "CBronte_Jane0099                            0.000000   \n",
       "CBronte_Villette0092                        0.038246   \n",
       "\n",
       "                      jane emma little thing miss  \\\n",
       "Austen_Emma0026                               0.0   \n",
       "Austen_Emma0032                               0.0   \n",
       "CBronte_Villette0086                          0.0   \n",
       "CBronte_Jane0099                              0.0   \n",
       "CBronte_Villette0092                          0.0   \n",
       "\n",
       "                      elinor marianne sister mother time  \\\n",
       "Austen_Emma0026                                 0.084704   \n",
       "Austen_Emma0032                                 0.000000   \n",
       "CBronte_Villette0086                            0.000000   \n",
       "CBronte_Jane0099                                0.000000   \n",
       "CBronte_Villette0092                            0.000000   \n",
       "\n",
       "                      monsieur henri georgiana mdlle little   author  \n",
       "Austen_Emma0026                                         0.0   Austen  \n",
       "Austen_Emma0032                                         0.0   Austen  \n",
       "CBronte_Villette0086                                    0.0  CBronte  \n",
       "CBronte_Jane0099                                        0.0  CBronte  \n",
       "CBronte_Villette0092                                    0.0  CBronte  "
      ]
     },
     "execution_count": 114,
     "metadata": {},
     "output_type": "execute_result"
    }
   ],
   "source": [
    "df.head()"
   ]
  },
  {
   "cell_type": "code",
   "execution_count": 69,
   "metadata": {},
   "outputs": [
    {
     "data": {
      "text/html": [
       "<div>\n",
       "<style scoped>\n",
       "    .dataframe tbody tr th:only-of-type {\n",
       "        vertical-align: middle;\n",
       "    }\n",
       "\n",
       "    .dataframe tbody tr th {\n",
       "        vertical-align: top;\n",
       "    }\n",
       "\n",
       "    .dataframe thead th {\n",
       "        text-align: right;\n",
       "    }\n",
       "</style>\n",
       "<table border=\"1\" class=\"dataframe\">\n",
       "  <thead>\n",
       "    <tr style=\"text-align: right;\">\n",
       "      <th></th>\n",
       "      <th>marianne elinor willoughby sister jennings</th>\n",
       "      <th>elinor edward sister mother lucy</th>\n",
       "      <th>like miss rochester room lady</th>\n",
       "      <th>adele rochester ladies ll shall</th>\n",
       "      <th>emma harriet miss think thing</th>\n",
       "      <th>miss jane know thing think</th>\n",
       "      <th>hunsden like st face thought</th>\n",
       "      <th>monsieur mdlle pelet reuter english</th>\n",
       "      <th>elizabeth darcy bingley bennet jane</th>\n",
       "      <th>jane sir know like rochester</th>\n",
       "      <th>graham bretton papa lucy know</th>\n",
       "      <th>like thought long night hand</th>\n",
       "      <th>madame day beck know like</th>\n",
       "      <th>dr madame thought think sir</th>\n",
       "      <th>moon adele mademoiselle liked lowood</th>\n",
       "    </tr>\n",
       "    <tr>\n",
       "      <th>author</th>\n",
       "      <th></th>\n",
       "      <th></th>\n",
       "      <th></th>\n",
       "      <th></th>\n",
       "      <th></th>\n",
       "      <th></th>\n",
       "      <th></th>\n",
       "      <th></th>\n",
       "      <th></th>\n",
       "      <th></th>\n",
       "      <th></th>\n",
       "      <th></th>\n",
       "      <th></th>\n",
       "      <th></th>\n",
       "      <th></th>\n",
       "    </tr>\n",
       "  </thead>\n",
       "  <tbody>\n",
       "    <tr>\n",
       "      <th>Austen</th>\n",
       "      <td>0.071713</td>\n",
       "      <td>0.208254</td>\n",
       "      <td>0.010205</td>\n",
       "      <td>0.000000</td>\n",
       "      <td>0.380388</td>\n",
       "      <td>0.085653</td>\n",
       "      <td>0.000099</td>\n",
       "      <td>0.000079</td>\n",
       "      <td>0.203246</td>\n",
       "      <td>0.001405</td>\n",
       "      <td>0.022159</td>\n",
       "      <td>0.011784</td>\n",
       "      <td>0.000028</td>\n",
       "      <td>0.002325</td>\n",
       "      <td>0.0000</td>\n",
       "    </tr>\n",
       "    <tr>\n",
       "      <th>CBronte</th>\n",
       "      <td>0.000076</td>\n",
       "      <td>0.009987</td>\n",
       "      <td>0.119843</td>\n",
       "      <td>0.007553</td>\n",
       "      <td>0.009064</td>\n",
       "      <td>0.002825</td>\n",
       "      <td>0.043100</td>\n",
       "      <td>0.038763</td>\n",
       "      <td>0.000294</td>\n",
       "      <td>0.097633</td>\n",
       "      <td>0.040166</td>\n",
       "      <td>0.581370</td>\n",
       "      <td>0.021017</td>\n",
       "      <td>0.020656</td>\n",
       "      <td>0.0048</td>\n",
       "    </tr>\n",
       "  </tbody>\n",
       "</table>\n",
       "</div>"
      ],
      "text/plain": [
       "         marianne elinor willoughby sister jennings  \\\n",
       "author                                                \n",
       "Austen                                     0.071713   \n",
       "CBronte                                    0.000076   \n",
       "\n",
       "         elinor edward sister mother lucy  like miss rochester room lady  \\\n",
       "author                                                                     \n",
       "Austen                           0.208254                       0.010205   \n",
       "CBronte                          0.009987                       0.119843   \n",
       "\n",
       "         adele rochester ladies ll shall  emma harriet miss think thing  \\\n",
       "author                                                                    \n",
       "Austen                          0.000000                       0.380388   \n",
       "CBronte                         0.007553                       0.009064   \n",
       "\n",
       "         miss jane know thing think  hunsden like st face thought  \\\n",
       "author                                                              \n",
       "Austen                     0.085653                      0.000099   \n",
       "CBronte                    0.002825                      0.043100   \n",
       "\n",
       "         monsieur mdlle pelet reuter english  \\\n",
       "author                                         \n",
       "Austen                              0.000079   \n",
       "CBronte                             0.038763   \n",
       "\n",
       "         elizabeth darcy bingley bennet jane  jane sir know like rochester  \\\n",
       "author                                                                       \n",
       "Austen                              0.203246                      0.001405   \n",
       "CBronte                             0.000294                      0.097633   \n",
       "\n",
       "         graham bretton papa lucy know  like thought long night hand  \\\n",
       "author                                                                 \n",
       "Austen                        0.022159                      0.011784   \n",
       "CBronte                       0.040166                      0.581370   \n",
       "\n",
       "         madame day beck know like  dr madame thought think sir  \\\n",
       "author                                                            \n",
       "Austen                    0.000028                     0.002325   \n",
       "CBronte                   0.021017                     0.020656   \n",
       "\n",
       "         moon adele mademoiselle liked lowood  \n",
       "author                                         \n",
       "Austen                                 0.0000  \n",
       "CBronte                                0.0048  "
      ]
     },
     "execution_count": 69,
     "metadata": {},
     "output_type": "execute_result"
    }
   ],
   "source": [
    "df.groupby('author').mean()"
   ]
  },
  {
   "cell_type": "markdown",
   "metadata": {},
   "source": [
    "## Challenge\n",
    "### *Can we see if one of the authors focus more on men than women?*\n",
    "\n",
    "*  Use Spacy for text prepocessing\n",
    "*  Extract the Named Entities from the documents using Spacy (command is fairly straight forward)\n",
    "*  Create unique list of names from the authors (you'll find that there are different types of named entities not all people)\n",
    "*  Label the names with genders (can you this by hand or you use the US census name lists)\n",
    "*  Customize your processing to replace the proper name with your gender from the previous step's lookup table\n",
    "*  Then follow the rest of the LDA flow\n"
   ]
  },
  {
   "cell_type": "markdown",
   "metadata": {},
   "source": [
    "# Selecting the Number of Topics (Learn)\n",
    "<a id=\"#p4\"></a>"
   ]
  },
  {
   "cell_type": "markdown",
   "metadata": {},
   "source": [
    "## Overview"
   ]
  },
  {
   "cell_type": "markdown",
   "metadata": {},
   "source": [
    "## Follow Along"
   ]
  },
  {
   "cell_type": "code",
   "execution_count": 115,
   "metadata": {},
   "outputs": [],
   "source": [
    "from gensim.models.coherencemodel import CoherenceModel\n",
    "\n",
    "def compute_coherence_values(dictionary, corpus, path, limit, start=2, step=3, passes=5):\n",
    "    \"\"\"\n",
    "    Compute c_v coherence for various number of topics\n",
    "\n",
    "    Parameters:\n",
    "    ----------\n",
    "    dictionary : Gensim dictionary\n",
    "    corpus : Gensim corpus\n",
    "    path : path to input texts\n",
    "    limit : Max num of topics\n",
    "    passes: the number of times the entire lda model & coherence values are calculated\n",
    "\n",
    "    Returns:\n",
    "    -------\n",
    "    coherence_values : Coherence values corresponding to the LDA model with respective number of topics\n",
    "    \"\"\"\n",
    "    \n",
    "    coherence_values = []\n",
    "    \n",
    "    tokens = list(doc_stream(path))\n",
    "    \n",
    "    for iter_ in range(passes):\n",
    "        for num_topics in range(start, limit, step):\n",
    "            stream = doc_stream(path)\n",
    "            model = LdaMulticore(corpus=corpus, num_topics=num_topics, id2word=dictionary, workers=4)\n",
    "            coherencemodel = CoherenceModel(model=model,dictionary=dictionary,corpus=corpus, coherence='u_mass')\n",
    "            coherence_values.append({'pass': iter_, \n",
    "                                     'num_topics': num_topics, \n",
    "                                     'coherence_score': coherencemodel.get_coherence()\n",
    "                                    })\n",
    "\n",
    "    return coherence_values"
   ]
  },
  {
   "cell_type": "code",
   "execution_count": 116,
   "metadata": {},
   "outputs": [],
   "source": [
    "# Can take a long time to run.\n",
    "coherence_values = compute_coherence_values(dictionary=id2word, \n",
    "                                                        corpus=corpus, \n",
    "                                                        path=path, \n",
    "                                                        start=2, \n",
    "                                                        limit=40, \n",
    "                                                        step=6,\n",
    "                                                        passes=40)"
   ]
  },
  {
   "cell_type": "code",
   "execution_count": 117,
   "metadata": {},
   "outputs": [],
   "source": [
    "topic_coherence = pd.DataFrame.from_records(coherence_values)"
   ]
  },
  {
   "cell_type": "code",
   "execution_count": null,
   "metadata": {},
   "outputs": [],
   "source": []
  },
  {
   "cell_type": "code",
   "execution_count": 118,
   "metadata": {},
   "outputs": [
    {
     "data": {
      "text/html": [
       "<div>\n",
       "<style scoped>\n",
       "    .dataframe tbody tr th:only-of-type {\n",
       "        vertical-align: middle;\n",
       "    }\n",
       "\n",
       "    .dataframe tbody tr th {\n",
       "        vertical-align: top;\n",
       "    }\n",
       "\n",
       "    .dataframe thead th {\n",
       "        text-align: right;\n",
       "    }\n",
       "</style>\n",
       "<table border=\"1\" class=\"dataframe\">\n",
       "  <thead>\n",
       "    <tr style=\"text-align: right;\">\n",
       "      <th></th>\n",
       "      <th>pass</th>\n",
       "      <th>num_topics</th>\n",
       "      <th>coherence_score</th>\n",
       "    </tr>\n",
       "  </thead>\n",
       "  <tbody>\n",
       "    <tr>\n",
       "      <th>0</th>\n",
       "      <td>0</td>\n",
       "      <td>2</td>\n",
       "      <td>-0.676902</td>\n",
       "    </tr>\n",
       "    <tr>\n",
       "      <th>1</th>\n",
       "      <td>0</td>\n",
       "      <td>8</td>\n",
       "      <td>-0.775092</td>\n",
       "    </tr>\n",
       "    <tr>\n",
       "      <th>2</th>\n",
       "      <td>0</td>\n",
       "      <td>14</td>\n",
       "      <td>-0.731926</td>\n",
       "    </tr>\n",
       "    <tr>\n",
       "      <th>3</th>\n",
       "      <td>0</td>\n",
       "      <td>20</td>\n",
       "      <td>-0.799729</td>\n",
       "    </tr>\n",
       "    <tr>\n",
       "      <th>4</th>\n",
       "      <td>0</td>\n",
       "      <td>26</td>\n",
       "      <td>-0.839708</td>\n",
       "    </tr>\n",
       "  </tbody>\n",
       "</table>\n",
       "</div>"
      ],
      "text/plain": [
       "   pass  num_topics  coherence_score\n",
       "0     0           2        -0.676902\n",
       "1     0           8        -0.775092\n",
       "2     0          14        -0.731926\n",
       "3     0          20        -0.799729\n",
       "4     0          26        -0.839708"
      ]
     },
     "execution_count": 118,
     "metadata": {},
     "output_type": "execute_result"
    }
   ],
   "source": [
    "topic_coherence.head()"
   ]
  },
  {
   "cell_type": "code",
   "execution_count": 119,
   "metadata": {},
   "outputs": [
    {
     "data": {
      "image/png": "[encoded data removed]",
      "text/plain": [
       "<Figure size 432x288 with 1 Axes>"
      ]
     },
     "metadata": {
      "needs_background": "light"
     },
     "output_type": "display_data"
    }
   ],
   "source": [
    "import seaborn as sns\n",
    "\n",
    "ax = sns.lineplot(x=\"num_topics\", y=\"coherence_score\", data=topic_coherence)"
   ]
  },
  {
   "cell_type": "code",
   "execution_count": 120,
   "metadata": {},
   "outputs": [
    {
     "ename": "NameError",
     "evalue": "name 'x' is not defined",
     "output_type": "error",
     "traceback": [
      "\u001b[0;31m---------------------------------------------------------------------------\u001b[0m",
      "\u001b[0;31mNameError\u001b[0m                                 Traceback (most recent call last)",
      "\u001b[0;32m<ipython-input-120-374779cc73b5>\u001b[0m in \u001b[0;36m<module>\u001b[0;34m\u001b[0m\n\u001b[1;32m      1\u001b[0m \u001b[0;31m# Print the coherence scores\u001b[0m\u001b[0;34m\u001b[0m\u001b[0;34m\u001b[0m\u001b[0m\n\u001b[0;32m----> 2\u001b[0;31m \u001b[0;32mfor\u001b[0m \u001b[0mm\u001b[0m\u001b[0;34m,\u001b[0m \u001b[0mcv\u001b[0m \u001b[0;32min\u001b[0m \u001b[0mzip\u001b[0m\u001b[0;34m(\u001b[0m\u001b[0mx\u001b[0m\u001b[0;34m,\u001b[0m \u001b[0mcoherence_values\u001b[0m\u001b[0;34m)\u001b[0m\u001b[0;34m:\u001b[0m\u001b[0;34m\u001b[0m\u001b[0m\n\u001b[0m\u001b[1;32m      3\u001b[0m     \u001b[0mprint\u001b[0m\u001b[0;34m(\u001b[0m\u001b[0;34m\"Num Topics =\"\u001b[0m\u001b[0;34m,\u001b[0m \u001b[0mm\u001b[0m\u001b[0;34m,\u001b[0m \u001b[0;34m\" has Coherence Value of\"\u001b[0m\u001b[0;34m,\u001b[0m \u001b[0mround\u001b[0m\u001b[0;34m(\u001b[0m\u001b[0mcv\u001b[0m\u001b[0;34m,\u001b[0m \u001b[0;36m4\u001b[0m\u001b[0;34m)\u001b[0m\u001b[0;34m)\u001b[0m\u001b[0;34m\u001b[0m\u001b[0m\n",
      "\u001b[0;31mNameError\u001b[0m: name 'x' is not defined"
     ]
    }
   ],
   "source": [
    "# Print the coherence scores\n",
    "for m, cv in zip(x, coherence_values):\n",
    "    print(\"Num Topics =\", m, \" has Coherence Value of\", round(cv, 4))"
   ]
  },
  {
   "cell_type": "code",
   "execution_count": 89,
   "metadata": {},
   "outputs": [
    {
     "data": {
      "text/plain": [
       "[(0, 0.02226036),\n",
       " (1, 0.022260414),\n",
       " (2, 0.022260347),\n",
       " (3, 0.022260347),\n",
       " (4, 0.022260392),\n",
       " (5, 0.0222604),\n",
       " (6, 0.022260347),\n",
       " (7, 0.35487327),\n",
       " (8, 0.022260398),\n",
       " (9, 0.022260517),\n",
       " (10, 0.022260416),\n",
       " (11, 0.022260422),\n",
       " (12, 0.3557417),\n",
       " (13, 0.022260347),\n",
       " (14, 0.022260347)]"
      ]
     },
     "execution_count": 89,
     "metadata": {},
     "output_type": "execute_result"
    }
   ],
   "source": [
    "lda[id2word.doc2bow(tokenize(\"This is a sample document to score with a topic distribution.\"))]"
   ]
  },
  {
   "cell_type": "markdown",
   "metadata": {},
   "source": [
    "## Challenge\n",
    "### *Can we see if one of the authors focus more on men than women?*\n",
    "\n",
    "*  Use Spacy for text prepocessing\n",
    "*  Extract the Named Entities from the documents using Spacy (command is fairly straight forward)\n",
    "*  Create unique list of names from the authors (you'll find that there are different types of named entities not all people)\n",
    "*  Label the names with genders (can you this by hand or you use the US census name lists)\n",
    "*  Customize your processing to replace the proper name with your gender from the previous step's lookup table\n",
    "*  Then follow the rest of the LDA flow"
   ]
  },
  {
   "cell_type": "code",
   "execution_count": 78,
   "metadata": {},
   "outputs": [
    {
     "name": "stderr",
     "output_type": "stream",
     "text": [
      "/Users/jonathansokoll/anaconda3/envs/U4-S1-NLP/lib/python3.7/site-packages/thinc/neural/train.py:7: DeprecationWarning: Using or importing the ABCs from 'collections' instead of from 'collections.abc' is deprecated, and in 3.8 it will stop working\n",
      "  from .optimizers import Adam, linear_decay\n",
      "/Users/jonathansokoll/anaconda3/envs/U4-S1-NLP/lib/python3.7/site-packages/thinc/check.py:4: DeprecationWarning: Using or importing the ABCs from 'collections' instead of from 'collections.abc' is deprecated, and in 3.8 it will stop working\n",
      "  from collections import Sequence, Sized, Iterable, Callable\n",
      "/Users/jonathansokoll/anaconda3/envs/U4-S1-NLP/lib/python3.7/site-packages/thinc/check.py:4: DeprecationWarning: Using or importing the ABCs from 'collections' instead of from 'collections.abc' is deprecated, and in 3.8 it will stop working\n",
      "  from collections import Sequence, Sized, Iterable, Callable\n"
     ]
    }
   ],
   "source": [
    "import spacy\n",
    "\n",
    "nlp = spacy.load('en_core_web_lg')"
   ]
  },
  {
   "cell_type": "code",
   "execution_count": 79,
   "metadata": {},
   "outputs": [],
   "source": [
    "test = \"Ned asked me a question about England today.\""
   ]
  },
  {
   "cell_type": "code",
   "execution_count": 80,
   "metadata": {},
   "outputs": [
    {
     "name": "stdout",
     "output_type": "stream",
     "text": [
      "Ned Ned PROPN\n",
      "asked ask VERB\n",
      "me -PRON- PRON\n",
      "a a DET\n",
      "question question NOUN\n",
      "about about ADP\n",
      "England England PROPN\n",
      "today today NOUN\n",
      ". . PUNCT\n"
     ]
    }
   ],
   "source": [
    "doc = nlp(test)\n",
    "\n",
    "for token in doc:\n",
    "    print(token.text, token.lemma_, token.pos_)"
   ]
  },
  {
   "cell_type": "code",
   "execution_count": 81,
   "metadata": {},
   "outputs": [
    {
     "name": "stdout",
     "output_type": "stream",
     "text": [
      "Ned PERSON\n",
      "England GPE\n",
      "today DATE\n"
     ]
    }
   ],
   "source": [
    "for ent in doc.ents:\n",
    "    print(ent.text, ent.label_)"
   ]
  },
  {
   "cell_type": "code",
   "execution_count": 82,
   "metadata": {},
   "outputs": [],
   "source": [
    "def doc_stream(path):\n",
    "    for f in os.listdir(path):\n",
    "        with open(os.path.join(path,f)) as t:\n",
    "            text = t.read().strip('\\n')\n",
    "            yield text\n",
    "\n",
    "def get_people(docstream):\n",
    "    \n",
    "    ppl = []\n",
    "    \n",
    "    for d in docstream:\n",
    "        \n",
    "        doc = nlp(d)\n",
    "        \n",
    "        for ent in doc.ents:\n",
    "            \n",
    "            if ent.label_ == \"PERSON\":\n",
    "                ppl.append(ent.lemma_)\n",
    "                \n",
    "    return set(ppl)"
   ]
  },
  {
   "cell_type": "code",
   "execution_count": 129,
   "metadata": {},
   "outputs": [],
   "source": [
    "people = get_people(doc_stream(path))"
   ]
  },
  {
   "cell_type": "code",
   "execution_count": 126,
   "metadata": {},
   "outputs": [],
   "source": [
    "doc = nlp(next(doc_stream(path)))"
   ]
  },
  {
   "cell_type": "code",
   "execution_count": 128,
   "metadata": {},
   "outputs": [
    {
     "data": {
      "text/plain": [
       "'yesterday'"
      ]
     },
     "execution_count": 128,
     "metadata": {},
     "output_type": "execute_result"
    }
   ],
   "source": [
    "doc.ents[0].lemma_"
   ]
  },
  {
   "cell_type": "markdown",
   "metadata": {},
   "source": [
    "# Sources\n",
    "\n",
    "### *References*\n",
    "* [Andrew Ng et al paper on LDA](https://ai.stanford.edu/~ang/papers/jair03-lda.pdf)\n",
    "* On [Coherence](https://pdfs.semanticscholar.org/1521/8d9c029cbb903ae7c729b2c644c24994c201.pdf)\n",
    "\n",
    "### *Resources*\n",
    "\n",
    "* [Gensim](https://radimrehurek.com/gensim/): Python package for topic modeling, nlp, word vectorization, and few other things. Well maintained and well documented.\n",
    "* [Topic Modeling with Gensim](http://www.machinelearningplus.com/nlp/topic-modeling-gensim-python/#11createthedictionaryandcorpusneededfortopicmodeling): A kind of cookbook for LDA with gensim. Excellent overview, but the you need to be aware of missing import statements and assumed prior knowledge.\n",
    "* [Chinese Restuarant Process](https://en.wikipedia.org/wiki/Chinese_restaurant_process): That really obscure stats thing I mentioned... \n",
    "* [PyLDAvis](https://github.com/bmabey/pyLDAvis): Library for visualizing the topic model and performing some exploratory work. Works well. Has a direct parrell implementation in R as well. \n",
    "* [Rare Technologies](https://rare-technologies.com/): The people that made & maintain gensim and a few other libraries.\n",
    "* [Jane Austen v. Charlotte Bronte](https://www.literaryladiesguide.com/literary-musings/jane-austen-charlotte-bronte-different-alike/)"
   ]
  }
 ],
 "metadata": {
  "kernelspec": {
   "display_name": "U4-S1-NLP (Python3)",
   "language": "python",
   "name": "u4-s1-nlp"
  },
  "language_info": {
   "codemirror_mode": {
    "name": "ipython",
    "version": 3
   },
   "file_extension": ".py",
   "mimetype": "text/x-python",
   "name": "python",
   "nbconvert_exporter": "python",
   "pygments_lexer": "ipython3",
   "version": "3.7.0"
  }
 },
 "nbformat": 4,
 "nbformat_minor": 4
}
