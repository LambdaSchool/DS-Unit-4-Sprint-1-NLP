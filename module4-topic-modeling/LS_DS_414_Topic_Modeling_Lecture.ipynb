{
 "cells": [
  {
   "cell_type": "markdown",
   "metadata": {},
   "source": [
    "Lambda School Data Science\n",
    "\n",
    "*Unit 4, Sprint 1, Module 4*\n",
    "\n",
    "---"
   ]
  },
  {
   "cell_type": "markdown",
   "metadata": {},
   "source": [
    "# Topic Modeling (Prepare)"
   ]
  },
  {
   "cell_type": "markdown",
   "metadata": {},
   "source": [
    "# Latent Dirchilet Allocation (LDA) Models (Prepare)\n",
    "<a id=\"#p1\"></a>"
   ]
  },
  {
   "cell_type": "markdown",
   "metadata": {},
   "source": [
    "## Overview\n",
    "LDA is a \"generative probabilistic model\". \n",
    "\n",
    "Let's play with a modoel available [here](https://lettier.com/projects/lda-topic-modeling/)"
   ]
  },
  {
   "cell_type": "markdown",
   "metadata": {},
   "source": [
    "## Follow Along"
   ]
  },
  {
   "cell_type": "markdown",
   "metadata": {},
   "source": [
    "## Challenge "
   ]
  },
  {
   "cell_type": "markdown",
   "metadata": {},
   "source": [
    "---\n",
    "---\n",
    "\n",
    "# Estimating LDA Models with Gensim (Learn)\n",
    "<a id=\"#p1\"></a>"
   ]
  },
  {
   "cell_type": "markdown",
   "metadata": {
    "toc-hr-collapsed": true
   },
   "source": [
    "## Overview\n",
    "### A Litterary Introduction: *Jane Austen V. Charlotte Bronte*\n",
    "Despite being born nearly forty years apart, modern fans often pit Jane Austen & Charlotte Bronte against one another in a battle for litterary  supremacy. The battle centers around the topics of education for women, courting, and marriage. The authors' similiar backgrounds naturally draw comparisons, but the modern fascination is probably due to novelility of British women publishing novels during the early 19th century. \n",
    "\n",
    "Can we help close a litterary battle for supremacy and simply acknowledge that the authors addressed different topics and deserve to be acknowledged as excellent authors each in their own right?\n",
    "\n",
    "We're going to apply Latent Dirichlet Allocation a machine learning alogrithm for topic modeling to each of the author's novels to compare the distribution of topics in their novels."
   ]
  },
  {
   "cell_type": "code",
   "execution_count": 1,
   "metadata": {},
   "outputs": [],
   "source": [
    "import numpy as np\n",
    "import gensim\n",
    "import os\n",
    "import re\n",
    "\n",
    "from gensim.utils import simple_preprocess\n",
    "from gensim.parsing.preprocessing import STOPWORDS\n",
    "from gensim import corpora\n",
    "\n",
    "from gensim.models.ldamulticore import LdaMulticore\n",
    "\n",
    "import pandas as pd"
   ]
  },
  {
   "cell_type": "markdown",
   "metadata": {
    "toc-hr-collapsed": true
   },
   "source": [
    "## Follow Along"
   ]
  },
  {
   "cell_type": "markdown",
   "metadata": {},
   "source": [
    "### Novel Data\n",
    "I grabbed the novel data pre-split into a bunch of smaller chuncks"
   ]
  },
  {
   "cell_type": "code",
   "execution_count": 2,
   "metadata": {},
   "outputs": [],
   "source": [
    "path = './data/austen-brontë-split'"
   ]
  },
  {
   "cell_type": "code",
   "execution_count": 4,
   "metadata": {},
   "outputs": [],
   "source": [
    "STOPWORDS = set(STOPWORDS).union(set(['said', 'mr', 'mrs']))\n",
    "\n",
    "def tokenize(text):\n",
    "    return [token for token in simple_preprocess(text) if token not in STOPWORDS]"
   ]
  },
  {
   "cell_type": "code",
   "execution_count": null,
   "metadata": {},
   "outputs": [],
   "source": [
    "for f in os.listdir(path):\n",
    "    if os.path.splitext(f)[1] == \".txt\":\n",
    "        print(f)"
   ]
  },
  {
   "cell_type": "code",
   "execution_count": 21,
   "metadata": {},
   "outputs": [],
   "source": [
    "import os\n",
    "\n",
    "def gather_data(path_to_data): \n",
    "    data = []\n",
    "    \n",
    "    for f in os.listdir(path):\n",
    "        if os.path.isdir(f) == False:\n",
    "            if os.path.splitext(f)[1] == \".txt\":\n",
    "                with open(os.path.join(path,f)) as t:\n",
    "                    text = t.read().strip('\\n')\n",
    "                    data.append(tokenize(str(text)))\n",
    "            \n",
    "    return data"
   ]
  },
  {
   "cell_type": "markdown",
   "metadata": {},
   "source": [
    "### Text Preprocessing\n",
    "**Challenge**: update the function `tokenize` with any technique you have learned so far this week. "
   ]
  },
  {
   "cell_type": "code",
   "execution_count": 22,
   "metadata": {},
   "outputs": [],
   "source": [
    "# Create tokens from gathered data\n",
    "tokens = gather_data(path)"
   ]
  },
  {
   "cell_type": "code",
   "execution_count": 23,
   "metadata": {},
   "outputs": [
    {
     "data": {
      "text/plain": [
       "['giving',\n",
       " 'fair',\n",
       " 'companion',\n",
       " 'account',\n",
       " 'yesterday',\n",
       " 'party',\n",
       " 'friend',\n",
       " 'cole',\n",
       " 'come',\n",
       " 'stilton']"
      ]
     },
     "execution_count": 23,
     "metadata": {},
     "output_type": "execute_result"
    }
   ],
   "source": [
    "# Check them out\n",
    "tokens[0][:10]"
   ]
  },
  {
   "cell_type": "code",
   "execution_count": 24,
   "metadata": {},
   "outputs": [],
   "source": [
    "titles = [t[:-4] for t in os.listdir(path)]"
   ]
  },
  {
   "cell_type": "code",
   "execution_count": 25,
   "metadata": {},
   "outputs": [
    {
     "data": {
      "text/plain": [
       "813"
      ]
     },
     "execution_count": 25,
     "metadata": {},
     "output_type": "execute_result"
    }
   ],
   "source": [
    "len(titles)"
   ]
  },
  {
   "cell_type": "code",
   "execution_count": 26,
   "metadata": {},
   "outputs": [
    {
     "data": {
      "text/plain": [
       "813"
      ]
     },
     "execution_count": 26,
     "metadata": {},
     "output_type": "execute_result"
    }
   ],
   "source": [
    "len(tokens)"
   ]
  },
  {
   "cell_type": "code",
   "execution_count": 27,
   "metadata": {},
   "outputs": [
    {
     "data": {
      "text/plain": [
       "['Austen_Emma0026',\n",
       " 'Austen_Emma0032',\n",
       " 'CBronte_Villette0086',\n",
       " 'CBronte_Jane0099',\n",
       " 'CBronte_Villette0092']"
      ]
     },
     "execution_count": 27,
     "metadata": {},
     "output_type": "execute_result"
    }
   ],
   "source": [
    "titles[:5]"
   ]
  },
  {
   "cell_type": "markdown",
   "metadata": {},
   "source": [
    "### Author DataFrame\n"
   ]
  },
  {
   "cell_type": "code",
   "execution_count": 28,
   "metadata": {},
   "outputs": [],
   "source": [
    "df = pd.DataFrame(index=titles, data={\"tokens\": tokens})"
   ]
  },
  {
   "cell_type": "code",
   "execution_count": 29,
   "metadata": {},
   "outputs": [
    {
     "data": {
      "text/html": [
       "<div>\n",
       "<style scoped>\n",
       "    .dataframe tbody tr th:only-of-type {\n",
       "        vertical-align: middle;\n",
       "    }\n",
       "\n",
       "    .dataframe tbody tr th {\n",
       "        vertical-align: top;\n",
       "    }\n",
       "\n",
       "    .dataframe thead th {\n",
       "        text-align: right;\n",
       "    }\n",
       "</style>\n",
       "<table border=\"1\" class=\"dataframe\">\n",
       "  <thead>\n",
       "    <tr style=\"text-align: right;\">\n",
       "      <th></th>\n",
       "      <th>tokens</th>\n",
       "    </tr>\n",
       "  </thead>\n",
       "  <tbody>\n",
       "    <tr>\n",
       "      <th>Austen_Emma0026</th>\n",
       "      <td>[giving, fair, companion, account, yesterday, ...</td>\n",
       "    </tr>\n",
       "    <tr>\n",
       "      <th>Austen_Emma0032</th>\n",
       "      <td>[feels, like, snow, place, party, try, day, di...</td>\n",
       "    </tr>\n",
       "    <tr>\n",
       "      <th>CBronte_Villette0086</th>\n",
       "      <td>[pierced, opaque, blackness, stood, bougie, qu...</td>\n",
       "    </tr>\n",
       "    <tr>\n",
       "      <th>CBronte_Jane0099</th>\n",
       "      <td>[joke, queer, looks, tell, thing, specially, s...</td>\n",
       "    </tr>\n",
       "    <tr>\n",
       "      <th>CBronte_Villette0092</th>\n",
       "      <td>[second, landing, floor, comprising, abode, kn...</td>\n",
       "    </tr>\n",
       "  </tbody>\n",
       "</table>\n",
       "</div>"
      ],
      "text/plain": [
       "                                                                 tokens\n",
       "Austen_Emma0026       [giving, fair, companion, account, yesterday, ...\n",
       "Austen_Emma0032       [feels, like, snow, place, party, try, day, di...\n",
       "CBronte_Villette0086  [pierced, opaque, blackness, stood, bougie, qu...\n",
       "CBronte_Jane0099      [joke, queer, looks, tell, thing, specially, s...\n",
       "CBronte_Villette0092  [second, landing, floor, comprising, abode, kn..."
      ]
     },
     "execution_count": 29,
     "metadata": {},
     "output_type": "execute_result"
    }
   ],
   "source": [
    "df.head()"
   ]
  },
  {
   "cell_type": "code",
   "execution_count": 30,
   "metadata": {},
   "outputs": [],
   "source": [
    "# Hydrating the dataframe\n",
    "df['author'] = df.reset_index()['index'].apply(lambda x: x.split('_')[0]).tolist()\n",
    "df['book'] = df.reset_index()['index'].apply(lambda x: x.split('_')[1][:-4]).tolist()\n",
    "df['section'] = df.reset_index()['index'].apply(lambda x: x[-4:]).tolist()\n",
    "df['section'] = df['section'].astype('int')"
   ]
  },
  {
   "cell_type": "code",
   "execution_count": 31,
   "metadata": {},
   "outputs": [],
   "source": [
    "df['author'] = df['author'].map({'Austen':1, 'CBronte':0})"
   ]
  },
  {
   "cell_type": "code",
   "execution_count": 89,
   "metadata": {},
   "outputs": [
    {
     "data": {
      "text/html": [
       "<div>\n",
       "<style scoped>\n",
       "    .dataframe tbody tr th:only-of-type {\n",
       "        vertical-align: middle;\n",
       "    }\n",
       "\n",
       "    .dataframe tbody tr th {\n",
       "        vertical-align: top;\n",
       "    }\n",
       "\n",
       "    .dataframe thead th {\n",
       "        text-align: right;\n",
       "    }\n",
       "</style>\n",
       "<table border=\"1\" class=\"dataframe\">\n",
       "  <thead>\n",
       "    <tr style=\"text-align: right;\">\n",
       "      <th></th>\n",
       "      <th>tokens</th>\n",
       "      <th>author</th>\n",
       "      <th>book</th>\n",
       "      <th>section</th>\n",
       "    </tr>\n",
       "  </thead>\n",
       "  <tbody>\n",
       "    <tr>\n",
       "      <th>Austen_Emma0026</th>\n",
       "      <td>[giving, fair, companion, account, yesterday, ...</td>\n",
       "      <td>1</td>\n",
       "      <td>Emma</td>\n",
       "      <td>26</td>\n",
       "    </tr>\n",
       "    <tr>\n",
       "      <th>Austen_Emma0032</th>\n",
       "      <td>[feels, like, snow, place, party, try, day, di...</td>\n",
       "      <td>1</td>\n",
       "      <td>Emma</td>\n",
       "      <td>32</td>\n",
       "    </tr>\n",
       "    <tr>\n",
       "      <th>CBronte_Villette0086</th>\n",
       "      <td>[pierced, opaque, blackness, stood, bougie, qu...</td>\n",
       "      <td>0</td>\n",
       "      <td>Villette</td>\n",
       "      <td>86</td>\n",
       "    </tr>\n",
       "    <tr>\n",
       "      <th>CBronte_Jane0099</th>\n",
       "      <td>[joke, queer, looks, tell, thing, specially, s...</td>\n",
       "      <td>0</td>\n",
       "      <td>Jane</td>\n",
       "      <td>99</td>\n",
       "    </tr>\n",
       "    <tr>\n",
       "      <th>CBronte_Villette0092</th>\n",
       "      <td>[second, landing, floor, comprising, abode, kn...</td>\n",
       "      <td>0</td>\n",
       "      <td>Villette</td>\n",
       "      <td>92</td>\n",
       "    </tr>\n",
       "  </tbody>\n",
       "</table>\n",
       "</div>"
      ],
      "text/plain": [
       "                                                                 tokens  \\\n",
       "Austen_Emma0026       [giving, fair, companion, account, yesterday, ...   \n",
       "Austen_Emma0032       [feels, like, snow, place, party, try, day, di...   \n",
       "CBronte_Villette0086  [pierced, opaque, blackness, stood, bougie, qu...   \n",
       "CBronte_Jane0099      [joke, queer, looks, tell, thing, specially, s...   \n",
       "CBronte_Villette0092  [second, landing, floor, comprising, abode, kn...   \n",
       "\n",
       "                      author      book  section  \n",
       "Austen_Emma0026            1      Emma       26  \n",
       "Austen_Emma0032            1      Emma       32  \n",
       "CBronte_Villette0086       0  Villette       86  \n",
       "CBronte_Jane0099           0      Jane       99  \n",
       "CBronte_Villette0092       0  Villette       92  "
      ]
     },
     "execution_count": 89,
     "metadata": {},
     "output_type": "execute_result"
    }
   ],
   "source": [
    "df.head()"
   ]
  },
  {
   "cell_type": "code",
   "execution_count": 32,
   "metadata": {},
   "outputs": [
    {
     "data": {
      "text/plain": [
       "0    441\n",
       "1    372\n",
       "Name: author, dtype: int64"
      ]
     },
     "execution_count": 32,
     "metadata": {},
     "output_type": "execute_result"
    }
   ],
   "source": [
    "df.author.value_counts()"
   ]
  },
  {
   "cell_type": "code",
   "execution_count": 33,
   "metadata": {},
   "outputs": [
    {
     "data": {
      "text/plain": [
       "Austen_Emma0026         [giving, fair, companion, account, yesterday, ...\n",
       "Austen_Emma0032         [feels, like, snow, place, party, try, day, di...\n",
       "CBronte_Villette0086    [pierced, opaque, blackness, stood, bougie, qu...\n",
       "CBronte_Jane0099        [joke, queer, looks, tell, thing, specially, s...\n",
       "CBronte_Villette0092    [second, landing, floor, comprising, abode, kn...\n",
       "Name: tokens, dtype: object"
      ]
     },
     "execution_count": 33,
     "metadata": {},
     "output_type": "execute_result"
    }
   ],
   "source": [
    "df['tokens'].head()"
   ]
  },
  {
   "cell_type": "markdown",
   "metadata": {},
   "source": [
    "### Streaming Documents\n",
    "Here we use a new pythonic thingy: the `yield` statement in our function. This allows us to iterate over a bunch of documents without actually reading them into memory. You can see how we use this fucntion later on. "
   ]
  },
  {
   "cell_type": "code",
   "execution_count": 34,
   "metadata": {},
   "outputs": [],
   "source": [
    "def doc_stream(path):\n",
    "    for f in os.listdir(path):\n",
    "        if os.path.isdir(f) == False:\n",
    "            if os.path.splitext(f)[1] == \".txt\":\n",
    "                with open(os.path.join(path,f)) as t:\n",
    "                    text = t.read().strip('\\n')\n",
    "                    tokens = tokenize(str(text))\n",
    "                yield tokens"
   ]
  },
  {
   "cell_type": "code",
   "execution_count": 35,
   "metadata": {},
   "outputs": [],
   "source": [
    "streaming_data = doc_stream(path)"
   ]
  },
  {
   "cell_type": "code",
   "execution_count": null,
   "metadata": {},
   "outputs": [],
   "source": [
    "# Generator yields one document at a time\n",
    "next(streaming_data)"
   ]
  },
  {
   "cell_type": "markdown",
   "metadata": {},
   "source": [
    "### Gensim LDA Topic Modeling"
   ]
  },
  {
   "cell_type": "code",
   "execution_count": 55,
   "metadata": {},
   "outputs": [],
   "source": [
    "# A Dictionary Representation of all the words in our corpus\n",
    "id2word = corpora.Dictionary(doc_stream(path))"
   ]
  },
  {
   "cell_type": "code",
   "execution_count": 39,
   "metadata": {},
   "outputs": [
    {
     "data": {
      "text/plain": [
       "869"
      ]
     },
     "execution_count": 39,
     "metadata": {},
     "output_type": "execute_result"
    }
   ],
   "source": [
    "id2word.token2id['england']"
   ]
  },
  {
   "cell_type": "code",
   "execution_count": 40,
   "metadata": {},
   "outputs": [
    {
     "data": {
      "text/plain": [
       "'form'"
      ]
     },
     "execution_count": 40,
     "metadata": {},
     "output_type": "execute_result"
    }
   ],
   "source": [
    "id2word[890]"
   ]
  },
  {
   "cell_type": "code",
   "execution_count": 41,
   "metadata": {},
   "outputs": [
    {
     "data": {
      "text/plain": [
       "[(869, 3), (1254, 1), (2485, 1), (16851, 1)]"
      ]
     },
     "execution_count": 41,
     "metadata": {},
     "output_type": "execute_result"
    }
   ],
   "source": [
    "# Doc to bag of words\n",
    "id2word.doc2bow(tokenize(\"This is a sample message Darcy England England England\"))"
   ]
  },
  {
   "cell_type": "code",
   "execution_count": 42,
   "metadata": {},
   "outputs": [
    {
     "data": {
      "text/plain": [
       "64"
      ]
     },
     "execution_count": 42,
     "metadata": {},
     "output_type": "execute_result"
    }
   ],
   "source": [
    "import sys\n",
    "sys.getsizeof(id2word)  # The id2word dictionary is tiny - 64bytes"
   ]
  },
  {
   "cell_type": "code",
   "execution_count": 43,
   "metadata": {},
   "outputs": [
    {
     "data": {
      "text/plain": [
       "22096"
      ]
     },
     "execution_count": 43,
     "metadata": {},
     "output_type": "execute_result"
    }
   ],
   "source": [
    "# Pretty good for how big the vocabulary of the dictionary is\n",
    "len(id2word.keys())"
   ]
  },
  {
   "cell_type": "code",
   "execution_count": 56,
   "metadata": {},
   "outputs": [],
   "source": [
    "# Let's remove extreme values from the dataset\n",
    "id2word.filter_extremes(no_below=5, no_above=0.95)"
   ]
  },
  {
   "cell_type": "code",
   "execution_count": 57,
   "metadata": {},
   "outputs": [
    {
     "data": {
      "text/plain": [
       "8103"
      ]
     },
     "execution_count": 57,
     "metadata": {},
     "output_type": "execute_result"
    }
   ],
   "source": [
    "# Extremes have been filtered\n",
    "len(id2word.keys())"
   ]
  },
  {
   "cell_type": "code",
   "execution_count": 58,
   "metadata": {},
   "outputs": [],
   "source": [
    "# A bag of words(bow) representation of our corpus\n",
    "# Note: we haven't actually read any text into memory here\n",
    "corpus = [id2word.doc2bow(text) for text in doc_stream(path)]"
   ]
  },
  {
   "cell_type": "code",
   "execution_count": 59,
   "metadata": {},
   "outputs": [
    {
     "data": {
      "text/plain": [
       "[(0, 1),\n",
       " (1, 1),\n",
       " (2, 1),\n",
       " (3, 2),\n",
       " (4, 1),\n",
       " (5, 1),\n",
       " (6, 1),\n",
       " (7, 2),\n",
       " (8, 1),\n",
       " (9, 1)]"
      ]
     },
     "execution_count": 59,
     "metadata": {},
     "output_type": "execute_result"
    }
   ],
   "source": [
    "corpus[0][:10]"
   ]
  },
  {
   "cell_type": "code",
   "execution_count": 60,
   "metadata": {},
   "outputs": [],
   "source": [
    "lda = LdaMulticore(corpus=corpus,\n",
    "                   id2word=id2word,\n",
    "                   random_state=92,\n",
    "                   num_topics = 15,\n",
    "                   passes=10,\n",
    "                   workers=4\n",
    "                  )"
   ]
  },
  {
   "cell_type": "code",
   "execution_count": 61,
   "metadata": {},
   "outputs": [
    {
     "data": {
      "text/plain": [
       "[(0,\n",
       "  '0.013*\"emma\" + 0.009*\"think\" + 0.008*\"frank\" + 0.008*\"weston\" + 0.007*\"churchill\" + 0.007*\"knightley\" + 0.007*\"know\" + 0.006*\"little\" + 0.006*\"miss\" + 0.006*\"thing\"'),\n",
       " (1,\n",
       "  '0.004*\"hunsden\" + 0.004*\"house\" + 0.004*\"like\" + 0.004*\"came\" + 0.003*\"little\" + 0.003*\"room\" + 0.003*\"asked\" + 0.003*\"night\" + 0.003*\"round\" + 0.003*\"thought\"'),\n",
       " (2,\n",
       "  '0.007*\"jane\" + 0.006*\"love\" + 0.005*\"like\" + 0.005*\"heart\" + 0.005*\"thought\" + 0.004*\"little\" + 0.004*\"know\" + 0.004*\"good\" + 0.003*\"man\" + 0.003*\"saw\"'),\n",
       " (3,\n",
       "  '0.008*\"like\" + 0.006*\"john\" + 0.005*\"know\" + 0.004*\"good\" + 0.004*\"little\" + 0.004*\"think\" + 0.004*\"thought\" + 0.004*\"man\" + 0.003*\"st\" + 0.003*\"life\"'),\n",
       " (4,\n",
       "  '0.003*\"released\" + 0.003*\"comparisons\" + 0.003*\"foolish\" + 0.003*\"unnatural\" + 0.003*\"nineteen\" + 0.002*\"release\" + 0.002*\"lovers\" + 0.002*\"profession\" + 0.002*\"longstaple\" + 0.002*\"eighteen\"'),\n",
       " (5,\n",
       "  '0.008*\"little\" + 0.006*\"like\" + 0.004*\"door\" + 0.004*\"long\" + 0.004*\"eyes\" + 0.004*\"saw\" + 0.004*\"room\" + 0.004*\"time\" + 0.004*\"miss\" + 0.004*\"face\"'),\n",
       " (6,\n",
       "  '0.009*\"elinor\" + 0.009*\"miss\" + 0.008*\"marianne\" + 0.007*\"know\" + 0.006*\"sister\" + 0.006*\"time\" + 0.006*\"think\" + 0.005*\"mother\" + 0.005*\"good\" + 0.005*\"jane\"'),\n",
       " (7,\n",
       "  '0.020*\"harriet\" + 0.012*\"good\" + 0.012*\"emma\" + 0.011*\"man\" + 0.009*\"think\" + 0.008*\"woman\" + 0.008*\"martin\" + 0.006*\"marry\" + 0.006*\"know\" + 0.006*\"thing\"'),\n",
       " (8,\n",
       "  '0.010*\"little\" + 0.008*\"bretton\" + 0.007*\"like\" + 0.006*\"child\" + 0.005*\"know\" + 0.004*\"reed\" + 0.004*\"monsieur\" + 0.004*\"old\" + 0.004*\"thought\" + 0.003*\"think\"'),\n",
       " (9,\n",
       "  '0.009*\"jane\" + 0.007*\"rochester\" + 0.007*\"know\" + 0.007*\"shall\" + 0.006*\"like\" + 0.006*\"love\" + 0.005*\"john\" + 0.005*\"little\" + 0.005*\"dr\" + 0.004*\"thought\"'),\n",
       " (10,\n",
       "  '0.011*\"rochester\" + 0.010*\"sir\" + 0.007*\"room\" + 0.006*\"jane\" + 0.005*\"like\" + 0.005*\"yes\" + 0.005*\"little\" + 0.005*\"house\" + 0.005*\"come\" + 0.004*\"fairfax\"'),\n",
       " (11,\n",
       "  '0.006*\"little\" + 0.005*\"like\" + 0.004*\"thought\" + 0.004*\"time\" + 0.004*\"day\" + 0.004*\"good\" + 0.003*\"long\" + 0.003*\"hand\" + 0.003*\"know\" + 0.003*\"monsieur\"'),\n",
       " (12,\n",
       "  '0.015*\"elizabeth\" + 0.009*\"darcy\" + 0.008*\"bennet\" + 0.006*\"bingley\" + 0.005*\"jane\" + 0.005*\"know\" + 0.005*\"lady\" + 0.005*\"miss\" + 0.005*\"wickham\" + 0.005*\"soon\"'),\n",
       " (13,\n",
       "  '0.024*\"emma\" + 0.017*\"harriet\" + 0.013*\"elton\" + 0.012*\"weston\" + 0.011*\"knightley\" + 0.010*\"woodhouse\" + 0.009*\"miss\" + 0.008*\"thing\" + 0.008*\"little\" + 0.006*\"hartfield\"'),\n",
       " (14,\n",
       "  '0.014*\"madame\" + 0.007*\"little\" + 0.006*\"vous\" + 0.005*\"room\" + 0.004*\"thought\" + 0.004*\"et\" + 0.004*\"like\" + 0.004*\"est\" + 0.004*\"door\" + 0.004*\"beck\"')]"
      ]
     },
     "execution_count": 61,
     "metadata": {},
     "output_type": "execute_result"
    }
   ],
   "source": [
    "lda.print_topics()"
   ]
  },
  {
   "cell_type": "code",
   "execution_count": 62,
   "metadata": {},
   "outputs": [],
   "source": [
    "# Remove stuff before asterisk\n",
    "words = [re.findall(r'\"([^\"]*)\"',t[1]) for t in lda.print_topics()]"
   ]
  },
  {
   "cell_type": "code",
   "execution_count": 63,
   "metadata": {},
   "outputs": [],
   "source": [
    "topics = [' '.join(t[0:5]) for t in words]"
   ]
  },
  {
   "cell_type": "code",
   "execution_count": 66,
   "metadata": {},
   "outputs": [
    {
     "name": "stdout",
     "output_type": "stream",
     "text": [
      "====== Topic 0 ======\n",
      "emma think frank weston churchill\n",
      "\n",
      "====== Topic 1 ======\n",
      "hunsden house like came little\n",
      "\n",
      "====== Topic 2 ======\n",
      "jane love like heart thought\n",
      "\n",
      "====== Topic 3 ======\n",
      "like john know good little\n",
      "\n",
      "====== Topic 4 ======\n",
      "released comparisons foolish unnatural nineteen\n",
      "\n",
      "====== Topic 5 ======\n",
      "little like door long eyes\n",
      "\n",
      "====== Topic 6 ======\n",
      "elinor miss marianne know sister\n",
      "\n",
      "====== Topic 7 ======\n",
      "harriet good emma man think\n",
      "\n",
      "====== Topic 8 ======\n",
      "little bretton like child know\n",
      "\n",
      "====== Topic 9 ======\n",
      "jane rochester know shall like\n",
      "\n",
      "====== Topic 10 ======\n",
      "rochester sir room jane like\n",
      "\n",
      "====== Topic 11 ======\n",
      "little like thought time day\n",
      "\n",
      "====== Topic 12 ======\n",
      "elizabeth darcy bennet bingley jane\n",
      "\n",
      "====== Topic 13 ======\n",
      "emma harriet elton weston knightley\n",
      "\n",
      "====== Topic 14 ======\n",
      "madame little vous room thought\n",
      "\n"
     ]
    }
   ],
   "source": [
    "for id, t in enumerate(topics): \n",
    "    print(f\"====== Topic {id} ======\")\n",
    "    print(t)\n",
    "    print()"
   ]
  },
  {
   "cell_type": "markdown",
   "metadata": {},
   "source": [
    "## Challenge \n",
    "\n",
    "You will apply an LDA model to a customer review dataset to practice the fitting and estimation of LDA. "
   ]
  },
  {
   "cell_type": "markdown",
   "metadata": {},
   "source": [
    "---\n",
    "---\n",
    "\n",
    "# Interpret LDA Results (Learn)\n",
    "<a id=\"#p3\"></a>"
   ]
  },
  {
   "cell_type": "markdown",
   "metadata": {},
   "source": [
    "## Overview"
   ]
  },
  {
   "cell_type": "markdown",
   "metadata": {
    "toc-hr-collapsed": true
   },
   "source": [
    "## Follow Along"
   ]
  },
  {
   "cell_type": "markdown",
   "metadata": {},
   "source": [
    "### Topic Distance Visualization"
   ]
  },
  {
   "cell_type": "code",
   "execution_count": 67,
   "metadata": {},
   "outputs": [],
   "source": [
    "import pyLDAvis.gensim\n",
    "\n",
    "pyLDAvis.enable_notebook()"
   ]
  },
  {
   "cell_type": "code",
   "execution_count": 68,
   "metadata": {},
   "outputs": [
    {
     "name": "stderr",
     "output_type": "stream",
     "text": [
      "/Users/Tobias/.vega/nlp-9igaqrSk/lib/python3.7/site-packages/pyLDAvis/_prepare.py:257: FutureWarning: Sorting because non-concatenation axis is not aligned. A future version\n",
      "of pandas will change to not sort by default.\n",
      "\n",
      "To accept the future behavior, pass 'sort=False'.\n",
      "\n",
      "To retain the current behavior and silence the warning, pass 'sort=True'.\n",
      "\n",
      "  return pd.concat([default_term_info] + list(topic_dfs))\n"
     ]
    },
    {
     "data": {
      "text/html": [
       "\n",
       "<link rel=\"stylesheet\" type=\"text/css\" href=\"https://cdn.rawgit.com/bmabey/pyLDAvis/files/ldavis.v1.0.0.css\">\n",
       "\n",
       "\n",
       "<div id=\"ldavis_el16778481379489651508025\"></div>\n",
       "<script type=\"text/javascript\">\n",
       "\n",
       "var ldavis_el16778481379489651508025_data = {\"mdsDat\": {\"x\": [0.06455319830973717, -0.11684780397492596, -0.10378368617289341, 0.040739449732823084, 0.09715337392591453, -0.17273525542291013, 0.026522078564152347, -0.11193872663330283, 0.1137061109460675, 0.02337963136051256, 0.030343247802275694, 0.07285746843781155, -0.11697004614376204, 0.07995528265247248, 0.07306567661602746], \"y\": [0.004566315481712183, 0.015708345403615452, 0.019097303684169814, 0.09566593308351659, 0.06139362938724186, 0.04193216908651152, 0.004444936641678824, 0.024424958049139106, 0.04412937807672984, -0.005366215356983212, 0.024325640546081717, -0.03432713572556403, -0.1172369416697656, -0.037950170983007486, -0.1408081457050765], \"topics\": [1, 2, 3, 4, 5, 6, 7, 8, 9, 10, 11, 12, 13, 14, 15], \"cluster\": [1, 1, 1, 1, 1, 1, 1, 1, 1, 1, 1, 1, 1, 1, 1], \"Freq\": [22.632152557373047, 21.33526039123535, 11.978845596313477, 8.786520004272461, 8.36912727355957, 7.529603004455566, 6.522031784057617, 5.135087966918945, 2.639500379562378, 1.6935601234436035, 1.3512378931045532, 0.7664773464202881, 0.6511626243591309, 0.5827996134757996, 0.026640698313713074]}, \"tinfo\": {\"Category\": [\"Default\", \"Default\", \"Default\", \"Default\", \"Default\", \"Default\", \"Default\", \"Default\", \"Default\", \"Default\", \"Default\", \"Default\", \"Default\", \"Default\", \"Default\", \"Default\", \"Default\", \"Default\", \"Default\", \"Default\", \"Default\", \"Default\", \"Default\", \"Default\", \"Default\", \"Default\", \"Default\", \"Default\", \"Default\", \"Default\", \"Topic1\", \"Topic1\", \"Topic1\", \"Topic1\", \"Topic1\", \"Topic1\", \"Topic1\", \"Topic1\", \"Topic1\", \"Topic1\", \"Topic1\", \"Topic1\", \"Topic1\", \"Topic1\", \"Topic1\", \"Topic1\", \"Topic1\", \"Topic1\", \"Topic1\", \"Topic1\", \"Topic1\", \"Topic1\", \"Topic1\", \"Topic1\", \"Topic1\", \"Topic1\", \"Topic1\", \"Topic1\", \"Topic1\", \"Topic1\", \"Topic1\", \"Topic1\", \"Topic1\", \"Topic1\", \"Topic1\", \"Topic1\", \"Topic1\", \"Topic1\", \"Topic1\", \"Topic1\", \"Topic1\", \"Topic1\", \"Topic1\", \"Topic1\", \"Topic1\", \"Topic1\", \"Topic1\", \"Topic1\", \"Topic1\", \"Topic1\", \"Topic1\", \"Topic1\", \"Topic1\", \"Topic1\", \"Topic1\", \"Topic1\", \"Topic1\", \"Topic1\", \"Topic1\", \"Topic1\", \"Topic1\", \"Topic1\", \"Topic1\", \"Topic1\", \"Topic1\", \"Topic1\", \"Topic1\", \"Topic1\", \"Topic1\", \"Topic1\", \"Topic1\", \"Topic1\", \"Topic1\", \"Topic1\", \"Topic1\", \"Topic1\", \"Topic1\", \"Topic1\", \"Topic1\", \"Topic1\", \"Topic1\", \"Topic1\", \"Topic1\", \"Topic1\", \"Topic1\", \"Topic1\", \"Topic1\", \"Topic1\", \"Topic2\", \"Topic2\", \"Topic2\", \"Topic2\", \"Topic2\", \"Topic2\", \"Topic2\", \"Topic2\", \"Topic2\", \"Topic2\", \"Topic2\", \"Topic2\", \"Topic2\", \"Topic2\", \"Topic2\", \"Topic2\", \"Topic2\", \"Topic2\", \"Topic2\", \"Topic2\", \"Topic2\", \"Topic2\", \"Topic2\", \"Topic2\", \"Topic2\", \"Topic2\", \"Topic2\", \"Topic2\", \"Topic2\", \"Topic2\", \"Topic2\", \"Topic2\", \"Topic2\", \"Topic2\", \"Topic2\", \"Topic2\", \"Topic2\", \"Topic2\", \"Topic2\", \"Topic2\", \"Topic2\", \"Topic2\", \"Topic2\", \"Topic2\", \"Topic2\", \"Topic2\", \"Topic2\", \"Topic2\", \"Topic2\", \"Topic2\", \"Topic2\", \"Topic2\", \"Topic2\", \"Topic2\", \"Topic2\", \"Topic2\", \"Topic2\", \"Topic2\", \"Topic2\", \"Topic2\", \"Topic2\", \"Topic2\", \"Topic2\", \"Topic2\", \"Topic2\", \"Topic2\", \"Topic3\", \"Topic3\", \"Topic3\", \"Topic3\", \"Topic3\", \"Topic3\", \"Topic3\", \"Topic3\", \"Topic3\", \"Topic3\", \"Topic3\", \"Topic3\", \"Topic3\", \"Topic3\", \"Topic3\", \"Topic3\", \"Topic3\", \"Topic3\", \"Topic3\", \"Topic3\", \"Topic3\", \"Topic3\", \"Topic3\", \"Topic3\", \"Topic3\", \"Topic3\", \"Topic3\", \"Topic3\", \"Topic3\", \"Topic3\", \"Topic3\", \"Topic3\", \"Topic3\", \"Topic3\", \"Topic3\", \"Topic3\", \"Topic3\", \"Topic3\", \"Topic3\", \"Topic3\", \"Topic3\", \"Topic3\", \"Topic3\", \"Topic3\", \"Topic3\", \"Topic3\", \"Topic3\", \"Topic3\", \"Topic3\", \"Topic3\", \"Topic3\", \"Topic3\", \"Topic3\", \"Topic3\", \"Topic3\", \"Topic3\", \"Topic3\", \"Topic3\", \"Topic3\", \"Topic3\", \"Topic3\", \"Topic3\", \"Topic3\", \"Topic3\", \"Topic3\", \"Topic4\", \"Topic4\", \"Topic4\", \"Topic4\", \"Topic4\", \"Topic4\", \"Topic4\", \"Topic4\", \"Topic4\", \"Topic4\", \"Topic4\", \"Topic4\", \"Topic4\", \"Topic4\", \"Topic4\", \"Topic4\", \"Topic4\", \"Topic4\", \"Topic4\", \"Topic4\", \"Topic4\", \"Topic4\", \"Topic4\", \"Topic4\", \"Topic4\", \"Topic4\", \"Topic4\", \"Topic4\", \"Topic4\", \"Topic4\", \"Topic4\", \"Topic4\", \"Topic4\", \"Topic4\", \"Topic4\", \"Topic4\", \"Topic4\", \"Topic4\", \"Topic4\", \"Topic4\", \"Topic4\", \"Topic4\", \"Topic4\", \"Topic4\", \"Topic4\", \"Topic4\", \"Topic4\", \"Topic4\", \"Topic4\", \"Topic4\", \"Topic4\", \"Topic4\", \"Topic4\", \"Topic4\", \"Topic4\", \"Topic4\", \"Topic4\", \"Topic4\", \"Topic4\", \"Topic4\", \"Topic4\", \"Topic4\", \"Topic4\", \"Topic4\", \"Topic4\", \"Topic4\", \"Topic4\", \"Topic4\", \"Topic4\", \"Topic4\", \"Topic5\", \"Topic5\", \"Topic5\", \"Topic5\", \"Topic5\", \"Topic5\", \"Topic5\", \"Topic5\", \"Topic5\", \"Topic5\", \"Topic5\", \"Topic5\", \"Topic5\", \"Topic5\", \"Topic5\", \"Topic5\", \"Topic5\", \"Topic5\", \"Topic5\", \"Topic5\", \"Topic5\", \"Topic5\", \"Topic5\", \"Topic5\", \"Topic5\", \"Topic5\", \"Topic5\", \"Topic5\", \"Topic5\", \"Topic5\", \"Topic5\", \"Topic5\", \"Topic5\", \"Topic5\", \"Topic5\", \"Topic5\", \"Topic5\", \"Topic5\", \"Topic5\", \"Topic5\", \"Topic5\", \"Topic5\", \"Topic5\", \"Topic5\", \"Topic5\", \"Topic5\", \"Topic5\", \"Topic5\", \"Topic5\", \"Topic5\", \"Topic5\", \"Topic5\", \"Topic5\", \"Topic5\", \"Topic5\", \"Topic5\", \"Topic5\", \"Topic5\", \"Topic5\", \"Topic5\", \"Topic5\", \"Topic5\", \"Topic5\", \"Topic5\", \"Topic5\", \"Topic5\", \"Topic5\", \"Topic5\", \"Topic5\", \"Topic5\", \"Topic5\", \"Topic5\", \"Topic5\", \"Topic5\", \"Topic5\", \"Topic5\", \"Topic5\", \"Topic5\", \"Topic5\", \"Topic5\", \"Topic6\", \"Topic6\", \"Topic6\", \"Topic6\", \"Topic6\", \"Topic6\", \"Topic6\", \"Topic6\", \"Topic6\", \"Topic6\", \"Topic6\", \"Topic6\", \"Topic6\", \"Topic6\", \"Topic6\", \"Topic6\", \"Topic6\", \"Topic6\", \"Topic6\", \"Topic6\", \"Topic6\", \"Topic6\", \"Topic6\", \"Topic6\", \"Topic6\", \"Topic6\", \"Topic6\", \"Topic6\", \"Topic6\", \"Topic6\", \"Topic6\", \"Topic6\", \"Topic6\", \"Topic6\", \"Topic6\", \"Topic6\", \"Topic6\", \"Topic6\", \"Topic6\", \"Topic6\", \"Topic6\", \"Topic6\", \"Topic6\", \"Topic6\", \"Topic6\", \"Topic6\", \"Topic6\", \"Topic6\", \"Topic6\", \"Topic6\", \"Topic6\", \"Topic6\", \"Topic6\", \"Topic6\", \"Topic6\", \"Topic6\", \"Topic6\", \"Topic6\", \"Topic6\", \"Topic6\", \"Topic7\", \"Topic7\", \"Topic7\", \"Topic7\", \"Topic7\", \"Topic7\", \"Topic7\", \"Topic7\", \"Topic7\", \"Topic7\", \"Topic7\", \"Topic7\", \"Topic7\", \"Topic7\", \"Topic7\", \"Topic7\", \"Topic7\", \"Topic7\", \"Topic7\", \"Topic7\", \"Topic7\", \"Topic7\", \"Topic7\", \"Topic7\", \"Topic7\", \"Topic7\", \"Topic7\", \"Topic7\", \"Topic7\", \"Topic7\", \"Topic7\", \"Topic7\", \"Topic7\", \"Topic7\", \"Topic7\", \"Topic7\", \"Topic7\", \"Topic7\", \"Topic7\", \"Topic7\", \"Topic7\", \"Topic7\", \"Topic7\", \"Topic7\", \"Topic7\", \"Topic7\", \"Topic7\", \"Topic7\", \"Topic7\", \"Topic7\", \"Topic7\", \"Topic7\", \"Topic7\", \"Topic7\", \"Topic7\", \"Topic7\", \"Topic7\", \"Topic7\", \"Topic7\", \"Topic7\", \"Topic7\", \"Topic7\", \"Topic7\", \"Topic7\", \"Topic7\", \"Topic7\", \"Topic7\", \"Topic7\", \"Topic7\", \"Topic7\", \"Topic7\", \"Topic7\", \"Topic7\", \"Topic8\", \"Topic8\", \"Topic8\", \"Topic8\", \"Topic8\", \"Topic8\", \"Topic8\", \"Topic8\", \"Topic8\", \"Topic8\", \"Topic8\", \"Topic8\", \"Topic8\", \"Topic8\", \"Topic8\", \"Topic8\", \"Topic8\", \"Topic8\", \"Topic8\", \"Topic8\", \"Topic8\", \"Topic8\", \"Topic8\", \"Topic8\", \"Topic8\", \"Topic8\", \"Topic8\", \"Topic8\", \"Topic8\", \"Topic8\", \"Topic8\", \"Topic8\", \"Topic8\", \"Topic8\", \"Topic8\", \"Topic8\", \"Topic8\", \"Topic8\", \"Topic8\", \"Topic8\", \"Topic8\", \"Topic8\", \"Topic8\", \"Topic8\", \"Topic8\", \"Topic8\", \"Topic8\", \"Topic8\", \"Topic8\", \"Topic8\", \"Topic8\", \"Topic8\", \"Topic8\", \"Topic8\", \"Topic8\", \"Topic8\", \"Topic8\", \"Topic8\", \"Topic8\", \"Topic8\", \"Topic8\", \"Topic8\", \"Topic8\", \"Topic8\", \"Topic8\", \"Topic8\", \"Topic8\", \"Topic8\", \"Topic8\", \"Topic8\", \"Topic8\", \"Topic8\", \"Topic8\", \"Topic8\", \"Topic8\", \"Topic8\", \"Topic8\", \"Topic8\", \"Topic9\", \"Topic9\", \"Topic9\", \"Topic9\", \"Topic9\", \"Topic9\", \"Topic9\", \"Topic9\", \"Topic9\", \"Topic9\", \"Topic9\", \"Topic9\", \"Topic9\", \"Topic9\", \"Topic9\", \"Topic9\", \"Topic9\", \"Topic9\", \"Topic9\", \"Topic9\", \"Topic9\", \"Topic9\", \"Topic9\", \"Topic9\", \"Topic9\", \"Topic9\", \"Topic9\", \"Topic9\", \"Topic9\", \"Topic9\", \"Topic9\", \"Topic9\", \"Topic9\", \"Topic9\", \"Topic9\", \"Topic9\", \"Topic9\", \"Topic9\", \"Topic9\", \"Topic9\", \"Topic9\", \"Topic9\", \"Topic9\", \"Topic9\", \"Topic9\", \"Topic9\", \"Topic9\", \"Topic9\", \"Topic9\", \"Topic9\", \"Topic9\", \"Topic9\", \"Topic9\", \"Topic9\", \"Topic9\", \"Topic9\", \"Topic9\", \"Topic9\", \"Topic9\", \"Topic9\", \"Topic9\", \"Topic9\", \"Topic9\", \"Topic9\", \"Topic9\", \"Topic9\", \"Topic9\", \"Topic9\", \"Topic9\", \"Topic9\", \"Topic10\", \"Topic10\", \"Topic10\", \"Topic10\", \"Topic10\", \"Topic10\", \"Topic10\", \"Topic10\", \"Topic10\", \"Topic10\", \"Topic10\", \"Topic10\", \"Topic10\", \"Topic10\", \"Topic10\", \"Topic10\", \"Topic10\", \"Topic10\", \"Topic10\", \"Topic10\", \"Topic10\", \"Topic10\", \"Topic10\", \"Topic10\", \"Topic10\", \"Topic10\", \"Topic10\", \"Topic10\", \"Topic10\", \"Topic10\", \"Topic10\", \"Topic10\", \"Topic10\", \"Topic10\", \"Topic10\", \"Topic10\", \"Topic10\", \"Topic10\", \"Topic10\", \"Topic10\", \"Topic10\", \"Topic10\", \"Topic10\", \"Topic10\", \"Topic10\", \"Topic10\", \"Topic10\", \"Topic10\", \"Topic10\", \"Topic10\", \"Topic10\", \"Topic10\", \"Topic10\", \"Topic10\", \"Topic10\", \"Topic10\", \"Topic10\", \"Topic10\", \"Topic10\", \"Topic10\", \"Topic10\", \"Topic10\", \"Topic10\", \"Topic10\", \"Topic10\", \"Topic10\", \"Topic10\", \"Topic10\", \"Topic10\", \"Topic10\", \"Topic10\", \"Topic10\", \"Topic10\", \"Topic10\", \"Topic10\", \"Topic10\", \"Topic10\", \"Topic11\", \"Topic11\", \"Topic11\", \"Topic11\", \"Topic11\", \"Topic11\", \"Topic11\", \"Topic11\", \"Topic11\", \"Topic11\", \"Topic11\", \"Topic11\", \"Topic11\", \"Topic11\", \"Topic11\", \"Topic11\", \"Topic11\", \"Topic11\", \"Topic11\", \"Topic11\", \"Topic11\", \"Topic11\", \"Topic11\", \"Topic11\", \"Topic11\", \"Topic11\", \"Topic11\", \"Topic11\", \"Topic11\", \"Topic11\", \"Topic11\", \"Topic11\", \"Topic11\", \"Topic11\", \"Topic11\", \"Topic11\", \"Topic11\", \"Topic11\", \"Topic11\", \"Topic11\", \"Topic11\", \"Topic11\", \"Topic11\", \"Topic11\", \"Topic11\", \"Topic11\", \"Topic11\", \"Topic11\", \"Topic11\", \"Topic11\", \"Topic11\", \"Topic11\", \"Topic11\", \"Topic11\", \"Topic11\", \"Topic11\", \"Topic11\", \"Topic11\", \"Topic11\", \"Topic11\", \"Topic11\", \"Topic11\", \"Topic11\", \"Topic11\", \"Topic11\", \"Topic11\", \"Topic11\", \"Topic11\", \"Topic11\", \"Topic11\", \"Topic11\", \"Topic11\", \"Topic11\", \"Topic11\", \"Topic11\", \"Topic11\", \"Topic11\", \"Topic12\", \"Topic12\", \"Topic12\", \"Topic12\", \"Topic12\", \"Topic12\", \"Topic12\", \"Topic12\", \"Topic12\", \"Topic12\", \"Topic12\", \"Topic12\", \"Topic12\", \"Topic12\", \"Topic12\", \"Topic12\", \"Topic12\", \"Topic12\", \"Topic12\", \"Topic12\", \"Topic12\", \"Topic12\", \"Topic12\", \"Topic12\", \"Topic12\", \"Topic12\", \"Topic12\", \"Topic12\", \"Topic12\", \"Topic12\", \"Topic12\", \"Topic12\", \"Topic12\", \"Topic12\", \"Topic12\", \"Topic12\", \"Topic12\", \"Topic12\", \"Topic12\", \"Topic12\", \"Topic12\", \"Topic12\", \"Topic12\", \"Topic12\", \"Topic12\", \"Topic12\", \"Topic12\", \"Topic12\", \"Topic12\", \"Topic12\", \"Topic12\", \"Topic12\", \"Topic12\", \"Topic12\", \"Topic12\", \"Topic12\", \"Topic12\", \"Topic12\", \"Topic12\", \"Topic12\", \"Topic12\", \"Topic12\", \"Topic12\", \"Topic12\", \"Topic12\", \"Topic12\", \"Topic12\", \"Topic12\", \"Topic12\", \"Topic12\", \"Topic12\", \"Topic12\", \"Topic12\", \"Topic12\", \"Topic13\", \"Topic13\", \"Topic13\", \"Topic13\", \"Topic13\", \"Topic13\", \"Topic13\", \"Topic13\", \"Topic13\", \"Topic13\", \"Topic13\", \"Topic13\", \"Topic13\", \"Topic13\", \"Topic13\", \"Topic13\", \"Topic13\", \"Topic13\", \"Topic13\", \"Topic13\", \"Topic13\", \"Topic13\", \"Topic13\", \"Topic13\", \"Topic13\", \"Topic13\", \"Topic13\", \"Topic13\", \"Topic13\", \"Topic13\", \"Topic13\", \"Topic13\", \"Topic13\", \"Topic13\", \"Topic13\", \"Topic13\", \"Topic13\", \"Topic13\", \"Topic13\", \"Topic13\", \"Topic13\", \"Topic13\", \"Topic13\", \"Topic13\", \"Topic13\", \"Topic13\", \"Topic13\", \"Topic13\", \"Topic13\", \"Topic13\", \"Topic13\", \"Topic13\", \"Topic13\", \"Topic13\", \"Topic13\", \"Topic13\", \"Topic13\", \"Topic13\", \"Topic13\", \"Topic13\", \"Topic13\", \"Topic13\", \"Topic13\", \"Topic13\", \"Topic13\", \"Topic13\", \"Topic13\", \"Topic13\", \"Topic13\", \"Topic13\", \"Topic13\", \"Topic13\", \"Topic13\", \"Topic13\", \"Topic13\", \"Topic14\", \"Topic14\", \"Topic14\", \"Topic14\", \"Topic14\", \"Topic14\", \"Topic14\", \"Topic14\", \"Topic14\", \"Topic14\", \"Topic14\", \"Topic14\", \"Topic14\", \"Topic14\", \"Topic14\", \"Topic14\", \"Topic14\", \"Topic14\", \"Topic14\", \"Topic14\", \"Topic14\", \"Topic14\", \"Topic14\", \"Topic14\", \"Topic14\", \"Topic14\", \"Topic14\", \"Topic14\", \"Topic14\", \"Topic14\", \"Topic14\", \"Topic14\", \"Topic14\", \"Topic14\", \"Topic14\", \"Topic14\", \"Topic14\", \"Topic14\", \"Topic14\", \"Topic14\", \"Topic14\", \"Topic14\", \"Topic14\", \"Topic14\", \"Topic14\", \"Topic14\", \"Topic14\", \"Topic14\", \"Topic14\", \"Topic14\", \"Topic14\", \"Topic14\", \"Topic14\", \"Topic14\", \"Topic14\", \"Topic14\", \"Topic14\", \"Topic14\", \"Topic14\", \"Topic14\", \"Topic14\", \"Topic14\", \"Topic14\", \"Topic14\", \"Topic14\", \"Topic14\", \"Topic14\", \"Topic14\", \"Topic14\", \"Topic14\", \"Topic14\", \"Topic14\", \"Topic14\", \"Topic14\", \"Topic14\", \"Topic14\", \"Topic14\", \"Topic14\", \"Topic14\", \"Topic15\", \"Topic15\", \"Topic15\", \"Topic15\", \"Topic15\", \"Topic15\", \"Topic15\", \"Topic15\", \"Topic15\", \"Topic15\", \"Topic15\", \"Topic15\", \"Topic15\", \"Topic15\", \"Topic15\", \"Topic15\", \"Topic15\", \"Topic15\", \"Topic15\", \"Topic15\", \"Topic15\", \"Topic15\", \"Topic15\", \"Topic15\", \"Topic15\", \"Topic15\", \"Topic15\", \"Topic15\", \"Topic15\", \"Topic15\", \"Topic15\", \"Topic15\", \"Topic15\", \"Topic15\"], \"Freq\": [873.0, 528.0, 1725.0, 1345.0, 645.0, 1412.0, 1296.0, 912.0, 1330.0, 642.0, 897.0, 1137.0, 446.0, 395.0, 403.0, 779.0, 393.0, 366.0, 530.0, 415.0, 1515.0, 918.0, 321.0, 560.0, 324.0, 602.0, 467.0, 284.0, 612.0, 624.0, 23.14874839782715, 23.099653244018555, 53.371559143066406, 13.19654655456543, 15.067509651184082, 45.030921936035156, 11.109967231750488, 11.05541706085205, 10.100942611694336, 9.116820335388184, 10.015521049499512, 9.114106178283691, 9.088570594787598, 12.763103485107422, 12.730342864990234, 9.054722785949707, 9.04957103729248, 16.26036834716797, 9.03331470489502, 10.859724044799805, 8.108857154846191, 107.30378723144531, 8.095062255859375, 8.067803382873535, 8.05856704711914, 12.52234935760498, 9.755620956420898, 8.902472496032715, 10.657965660095215, 7.072966575622559, 25.671300888061523, 135.49740600585938, 95.87262725830078, 231.44024658203125, 27.294984817504883, 20.496713638305664, 87.71419525146484, 23.949283599853516, 50.719722747802734, 132.61375427246094, 28.334823608398438, 154.1729278564453, 48.65857696533203, 17.851530075073242, 145.7550506591797, 94.15792083740234, 82.6987075805664, 74.3775634765625, 69.91999816894531, 54.056541442871094, 19.733163833618164, 136.47323608398438, 96.57525634765625, 63.582313537597656, 58.382755279541016, 52.43893051147461, 117.8437728881836, 95.50133514404297, 240.2780303955078, 174.37257385253906, 85.91203308105469, 376.7919921875, 225.69967651367188, 159.6817626953125, 424.606201171875, 315.3197326660156, 194.68067932128906, 243.7833709716797, 131.1965789794922, 186.4281005859375, 250.3407745361328, 186.45521545410156, 160.00685119628906, 273.17779541015625, 248.66455078125, 153.263916015625, 178.4542694091797, 159.56411743164062, 239.034912109375, 185.45367431640625, 162.62901306152344, 157.4205780029297, 164.72335815429688, 153.71377563476562, 145.3619384765625, 144.26820373535156, 142.12123107910156, 143.16310119628906, 631.9642333984375, 212.4828643798828, 521.3872680664062, 133.0009307861328, 120.01337432861328, 198.80735778808594, 47.43984603881836, 40.780426025390625, 93.54173278808594, 81.70831298828125, 229.72166442871094, 35.2327880859375, 44.161048889160156, 27.869224548339844, 33.248321533203125, 27.718425750732422, 33.04711151123047, 24.083892822265625, 48.15214157104492, 17.683456420898438, 24.73395538330078, 15.787871360778809, 14.852916717529297, 23.57777976989746, 13.880627632141113, 12.050580978393555, 11.170859336853027, 14.637972831726074, 14.604219436645508, 16.27228355407715, 66.83670806884766, 254.38230895996094, 230.70272827148438, 27.811288833618164, 386.6720275878906, 62.48707580566406, 78.24342346191406, 334.6790771484375, 618.2411499023438, 251.61932373046875, 172.1191864013672, 296.1942443847656, 122.724365234375, 442.5879211425781, 323.6554870605469, 234.3772735595703, 160.7317657470703, 312.63348388671875, 369.35125732421875, 371.74444580078125, 156.01405334472656, 252.4441375732422, 267.6349182128906, 326.4205627441406, 163.484619140625, 254.06796264648438, 181.7074432373047, 193.7745361328125, 186.5332489013672, 264.07666015625, 208.81011962890625, 188.4052734375, 180.52398681640625, 198.66958618164062, 186.6227264404297, 183.36761474609375, 177.5360107421875, 30.791175842285156, 38.508663177490234, 124.91529083251953, 305.390869140625, 24.422449111938477, 83.43266296386719, 180.9604949951172, 46.2746467590332, 69.08460998535156, 9.07887077331543, 11.818513870239258, 156.52500915527344, 88.13204956054688, 13.381447792053223, 32.99480438232422, 51.624053955078125, 570.05078125, 62.45647048950195, 36.900875091552734, 9.548476219177246, 7.745199680328369, 355.94805908203125, 12.722123146057129, 62.956520080566406, 5.036188125610352, 5.014038562774658, 4.997570991516113, 21.0253849029541, 5.836124897003174, 32.68714141845703, 9.960043907165527, 26.920454025268555, 74.41987609863281, 43.74274826049805, 220.67596435546875, 84.7167739868164, 38.25356674194336, 19.392969131469727, 53.73861312866211, 151.36744689941406, 45.88533020019531, 74.40286254882812, 186.3935089111328, 76.37103271484375, 196.82003784179688, 141.62608337402344, 180.23052978515625, 188.7729034423828, 120.05867767333984, 176.87049865722656, 185.86854553222656, 142.152587890625, 143.09454345703125, 164.68678283691406, 164.193603515625, 179.07586669921875, 123.1581039428711, 118.03423309326172, 108.06026458740234, 117.16636657714844, 112.04869079589844, 121.24020385742188, 111.52264404296875, 102.3541488647461, 29.570100784301758, 27.523277282714844, 20.18427085876465, 58.357723236083984, 26.185972213745117, 10.154167175292969, 8.105676651000977, 10.73038387298584, 6.170456409454346, 26.647510528564453, 88.03116607666016, 11.43716812133789, 28.59967613220215, 21.719266891479492, 22.724288940429688, 7.770977973937988, 25.47171401977539, 5.104804039001465, 116.37531280517578, 5.010147571563721, 17.399463653564453, 300.8579406738281, 12.25026798248291, 72.56641387939453, 10.218523025512695, 6.223879814147949, 6.195850372314453, 5.509073257446289, 9.344311714172363, 11.550204277038574, 36.8184814453125, 18.6837158203125, 88.7196273803711, 15.664420127868652, 63.814002990722656, 29.604909896850586, 87.50563049316406, 61.84204864501953, 94.10006713867188, 72.28087615966797, 263.6384582519531, 27.63817024230957, 67.0110855102539, 116.60902404785156, 74.99076843261719, 25.020835876464844, 180.94528198242188, 135.22325134277344, 158.9309844970703, 116.34750366210938, 116.582275390625, 127.1720199584961, 108.1934585571289, 123.96800994873047, 147.29373168945312, 91.28142547607422, 67.556640625, 132.59278869628906, 103.98591613769531, 93.34829711914062, 80.52033233642578, 99.11359405517578, 92.63336944580078, 108.7282943725586, 98.69768524169922, 98.21060180664062, 87.80484771728516, 91.5418472290039, 89.01459503173828, 88.35431671142578, 6.961929798126221, 7.834293842315674, 14.88173770904541, 6.9194865226745605, 21.664539337158203, 5.92092227935791, 5.9065656661987305, 4.989465236663818, 4.971034526824951, 4.9268670082092285, 7.356930255889893, 5.580463409423828, 4.770090103149414, 5.5661940574646, 5.514770984649658, 7.871574878692627, 4.657016754150391, 5.450106620788574, 4.60897159576416, 5.251253128051758, 5.871496677398682, 4.987450122833252, 5.78441047668457, 5.886013507843018, 5.798401832580566, 6.441867828369141, 6.310023784637451, 4.249413967132568, 5.590370178222656, 4.775363922119141, 24.242219924926758, 13.841778755187988, 11.323551177978516, 20.15676498413086, 12.374593734741211, 40.750606536865234, 30.25271987915039, 17.583669662475586, 88.66278076171875, 37.48567581176758, 9.646201133728027, 77.52632141113281, 79.97215270996094, 32.56241989135742, 14.08362102508545, 61.118896484375, 69.13249206542969, 26.890687942504883, 34.72272491455078, 22.08125877380371, 116.28370666503906, 103.27288818359375, 77.36063385009766, 71.01078033447266, 112.93695831298828, 36.738319396972656, 69.38423156738281, 47.8370246887207, 197.493408203125, 48.77434539794922, 102.90391540527344, 102.0574722290039, 155.7641143798828, 111.84558868408203, 74.33126068115234, 116.1568374633789, 110.74325561523438, 92.50362396240234, 52.73001480102539, 69.4799575805664, 109.99006652832031, 71.76615142822266, 108.1989517211914, 101.70689392089844, 92.31067657470703, 77.8727798461914, 67.05863952636719, 62.37639236450195, 67.93733978271484, 61.37751388549805, 13.662652969360352, 67.4260482788086, 152.87667846679688, 48.08805847167969, 29.885494232177734, 55.303558349609375, 7.205162048339844, 12.293633460998535, 69.76701354980469, 16.924625396728516, 40.39409637451172, 6.308934211730957, 9.519490242004395, 65.22383117675781, 13.91578483581543, 7.7015581130981445, 299.1751403808594, 242.20970153808594, 24.924928665161133, 391.0875244140625, 67.830078125, 5.895022869110107, 8.24669361114502, 91.56361389160156, 10.043755531311035, 17.024742126464844, 6.221926689147949, 16.039630889892578, 4.116761207580566, 6.285525321960449, 575.9397583007812, 290.19219970703125, 253.22796630859375, 18.157377243041992, 55.06389617919922, 94.51457977294922, 105.7071762084961, 21.408451080322266, 200.33392333984375, 58.6563720703125, 136.29031372070312, 77.99787902832031, 106.78746032714844, 124.7704849243164, 221.1807403564453, 139.5043487548828, 87.130126953125, 191.79449462890625, 150.4585723876953, 146.30709838867188, 118.74368286132812, 87.91311645507812, 98.62723541259766, 80.07330322265625, 94.15422821044922, 96.0489501953125, 92.2037124633789, 82.49864196777344, 81.09131622314453, 79.47562408447266, 4.740047931671143, 24.521968841552734, 13.353106498718262, 4.665951728820801, 5.457019329071045, 6.545004367828369, 4.776987075805664, 3.8678300380706787, 4.527442455291748, 11.255603790283203, 9.063249588012695, 3.8307504653930664, 5.577852725982666, 8.346904754638672, 4.205486297607422, 3.6000545024871826, 3.6524817943573, 5.554215908050537, 3.6530468463897705, 3.4932074546813965, 45.4084587097168, 6.066215515136719, 35.849361419677734, 4.0985212326049805, 3.4323790073394775, 4.641229152679443, 4.023190021514893, 3.738940715789795, 3.689910888671875, 6.0855584144592285, 22.84324836730957, 7.206608772277832, 15.328119277954102, 38.673675537109375, 20.317827224731445, 71.1016616821289, 43.19405746459961, 16.73731803894043, 6.005683898925781, 57.49861526489258, 115.82829284667969, 40.80860900878906, 7.142153739929199, 165.65036010742188, 38.8204345703125, 62.91130065917969, 45.67028045654297, 46.14640808105469, 111.21894836425781, 66.21549224853516, 44.082489013671875, 50.99725341796875, 63.444480895996094, 26.96583366394043, 91.20612335205078, 73.38166046142578, 52.327476501464844, 84.19992065429688, 75.51985168457031, 90.58512115478516, 56.88942337036133, 53.784461975097656, 40.743499755859375, 52.18842697143555, 47.676612854003906, 52.07339859008789, 64.94599914550781, 52.73814010620117, 53.91657257080078, 54.351318359375, 49.51710510253906, 47.57428741455078, 48.24674606323242, 10.774303436279297, 7.410396099090576, 3.821477174758911, 3.804826021194458, 5.712779521942139, 3.4452478885650635, 3.8207011222839355, 3.8405067920684814, 3.3042874336242676, 3.7512123584747314, 3.775149345397949, 4.753931522369385, 126.42522430419922, 5.035445213317871, 4.128484725952148, 116.94769287109375, 2.8329508304595947, 5.410379409790039, 3.730957508087158, 2.8216233253479004, 5.883280277252197, 3.813061475753784, 2.817147970199585, 4.121846675872803, 3.579437255859375, 2.8548412322998047, 2.8846702575683594, 2.8436942100524902, 2.450340986251831, 2.8790647983551025, 3.6091644763946533, 3.609750270843506, 4.491346836090088, 5.446774959564209, 6.525355339050293, 13.927505493164062, 122.2998046875, 108.13827514648438, 208.797119140625, 22.82408332824707, 6.953876495361328, 9.334585189819336, 16.04245376586914, 28.807353973388672, 78.83879852294922, 143.9698944091797, 22.588150024414062, 93.6537857055664, 53.00271987915039, 68.48287200927734, 27.72562026977539, 51.296592712402344, 15.236913681030273, 85.30890655517578, 105.76322174072266, 52.039520263671875, 48.199302673339844, 54.8919563293457, 31.950563430786133, 55.458778381347656, 90.91873168945312, 104.53765106201172, 35.86378479003906, 94.3528060913086, 45.19528579711914, 53.667747497558594, 49.527061462402344, 80.41693878173828, 74.19444274902344, 63.30314254760742, 53.81337356567383, 52.08940124511719, 59.39289093017578, 46.114253997802734, 56.246498107910156, 65.55640411376953, 58.04835510253906, 49.64423751831055, 10.533080101013184, 6.837057113647461, 5.241311550140381, 8.33509635925293, 4.752004623413086, 4.454366683959961, 3.6704742908477783, 4.2199320793151855, 5.317845821380615, 8.52242660522461, 20.8996639251709, 12.223482131958008, 5.895615100860596, 3.381744861602783, 3.293504238128662, 3.713974952697754, 30.355026245117188, 5.6365437507629395, 2.769083023071289, 3.7201411724090576, 20.236101150512695, 2.756894111633301, 3.6469931602478027, 14.669485092163086, 2.7250144481658936, 6.935830593109131, 7.809671401977539, 2.998785972595215, 2.655003786087036, 2.655607223510742, 51.399574279785156, 6.50753927230835, 24.168149948120117, 33.85554885864258, 12.913285255432129, 14.35534954071045, 114.5740737915039, 16.97620964050293, 13.240363121032715, 32.403114318847656, 22.301971435546875, 15.531047821044922, 15.126565933227539, 31.20001220703125, 22.97559356689453, 17.753568649291992, 12.570420265197754, 8.979333877563477, 11.855080604553223, 58.0267333984375, 41.77501678466797, 22.718727111816406, 31.978818893432617, 29.939640045166016, 16.91496467590332, 34.15864562988281, 33.821746826171875, 30.884366989135742, 26.456178665161133, 18.699874877929688, 20.37393569946289, 22.173582077026367, 22.113401412963867, 21.426931381225586, 21.660131454467773, 22.071413040161133, 19.51382064819336, 19.53908920288086, 19.50088882446289, 19.033496856689453, 4.991192817687988, 2.940593957901001, 1.7274001836776733, 2.198091506958008, 5.091914653778076, 1.7465898990631104, 1.704883098602295, 1.730991244316101, 2.6735494136810303, 2.0497729778289795, 1.714773416519165, 5.538079261779785, 2.618163824081421, 1.6523398160934448, 3.3017613887786865, 2.257051944732666, 2.4996180534362793, 1.6247177124023438, 3.2544236183166504, 1.8997373580932617, 1.736385464668274, 1.7361050844192505, 5.7181925773620605, 2.5114705562591553, 2.5722362995147705, 2.047672986984253, 1.7095907926559448, 2.539818048477173, 1.6894457340240479, 2.4333417415618896, 4.57817268371582, 2.8954737186431885, 4.0425920486450195, 4.612515449523926, 8.182516098022461, 5.6953935623168945, 3.9710278511047363, 2.8316028118133545, 2.8765218257904053, 17.00544548034668, 4.722605228424072, 30.893672943115234, 35.77450942993164, 5.9267897605896, 5.13207483291626, 16.130393981933594, 25.00041961669922, 5.939845561981201, 5.30255651473999, 5.062741756439209, 11.0975980758667, 24.581235885620117, 25.004287719726562, 7.399944305419922, 17.34458351135254, 16.7514705657959, 13.354608535766602, 15.438982963562012, 17.887964248657227, 18.339513778686523, 15.09557819366455, 21.364791870117188, 23.427814483642578, 21.688602447509766, 14.957479476928711, 12.681976318359375, 11.731595039367676, 12.681801795959473, 13.782565116882324, 11.489169120788574, 12.311261177062988, 12.373018264770508, 14.523615837097168, 11.100191116333008, 10.517657279968262, 11.580501556396484, 10.899164199829102, 3.341395616531372, 8.840024948120117, 10.241097450256348, 2.549710273742676, 2.070957899093628, 2.2427515983581543, 2.325230836868286, 2.449894428253174, 3.25272274017334, 2.078352212905884, 1.7104679346084595, 3.4561166763305664, 1.6844655275344849, 3.3862454891204834, 2.3149335384368896, 1.7225825786590576, 1.5432497262954712, 3.094560384750366, 1.5391392707824707, 1.722127079963684, 1.4880653619766235, 2.9937527179718018, 1.7134861946105957, 1.9959399700164795, 4.411434173583984, 1.713262677192688, 2.5008559226989746, 2.393000364303589, 2.1907291412353516, 1.7232633829116821, 2.326889753341675, 6.017293930053711, 4.773960590362549, 2.4743947982788086, 4.121609687805176, 3.1723341941833496, 30.183324813842773, 20.63391876220703, 5.235581874847412, 8.904943466186523, 39.74555969238281, 4.800744533538818, 6.647805690765381, 5.234476566314697, 24.281503677368164, 29.105497360229492, 22.85161781311035, 10.072686195373535, 29.717479705810547, 7.591874122619629, 24.293785095214844, 9.87851619720459, 10.560343742370605, 15.417696952819824, 22.740127563476562, 9.067230224609375, 18.470531463623047, 15.99858570098877, 7.701120853424072, 6.800107955932617, 12.698533058166504, 15.904396057128906, 11.48543930053711, 11.677743911743164, 11.976710319519043, 12.384927749633789, 10.61177921295166, 9.387948036193848, 13.378588676452637, 12.05080795288086, 9.037107467651367, 10.618021965026855, 10.40583324432373, 10.473496437072754, 10.583626747131348, 9.97044849395752, 10.019135475158691, 3.557267189025879, 4.38553524017334, 2.2624599933624268, 4.241715431213379, 2.365426778793335, 1.494681477546692, 1.5065197944641113, 3.7671258449554443, 1.8590739965438843, 1.60654616355896, 1.614214301109314, 1.6135799884796143, 5.028110027313232, 1.559713363647461, 1.5505287647247314, 1.552220344543457, 2.399304151535034, 2.244536876678467, 1.5900354385375977, 1.2715939283370972, 1.6212023496627808, 1.6185216903686523, 1.5861557722091675, 1.2395973205566406, 1.2138992547988892, 1.5433549880981445, 2.352369785308838, 1.3350141048431396, 1.171735405921936, 1.4519932270050049, 2.3991310596466064, 2.33843731880188, 7.763820171356201, 2.3084876537323, 4.118558883666992, 2.299201011657715, 18.94615936279297, 3.0502843856811523, 9.167463302612305, 14.852802276611328, 2.3005378246307373, 4.932766437530518, 6.334930419921875, 4.685630798339844, 23.04752540588379, 9.068885803222656, 5.466665744781494, 5.073469161987305, 4.504848480224609, 7.664950847625732, 15.969334602355957, 3.6739532947540283, 6.83177375793457, 5.9267802238464355, 8.831971168518066, 12.754076957702637, 3.928966522216797, 6.739393711090088, 5.014990329742432, 8.466064453125, 8.125295639038086, 5.374599456787109, 6.738933086395264, 6.776430130004883, 6.471291542053223, 6.4069085121154785, 6.273562431335449, 6.2773847579956055, 5.7733259201049805, 5.463435173034668, 5.232683181762695, 5.447848796844482, 5.140626430511475, 5.130772113800049, 4.068149089813232, 1.566960096359253, 1.4788134098052979, 2.406338691711426, 1.5841834545135498, 1.446730613708496, 1.5790221691131592, 1.5702049732208252, 2.6500213146209717, 1.6587053537368774, 15.355841636657715, 1.333418607711792, 0.8154746294021606, 0.8148058652877808, 0.8148179054260254, 0.8148970603942871, 0.8096582889556885, 0.8108616471290588, 0.8175531029701233, 0.8181834816932678, 1.3832892179489136, 6.088258743286133, 0.8084865808486938, 0.8142827153205872, 0.8130098581314087, 0.8131247758865356, 0.8184143304824829, 0.7439712882041931, 1.006646990776062, 0.810039222240448, 1.8056899309158325, 1.5670692920684814, 3.0723180770874023, 41.65210723876953, 1.5532251596450806, 6.88515567779541, 3.076805591583252, 1.4100497961044312, 12.951404571533203, 6.959710597991943, 8.681070327758789, 4.998662948608398, 5.944555759429932, 1.6801506280899048, 16.066408157348633, 24.224266052246094, 6.31771183013916, 22.34762954711914, 3.754549980163574, 24.70940589904785, 5.670068264007568, 9.767991065979004, 9.142607688903809, 19.371109008789062, 11.693933486938477, 6.401236057281494, 12.26530933380127, 10.87536334991455, 8.850295066833496, 7.895208358764648, 7.693079471588135, 5.071008205413818, 12.859745025634766, 8.181537628173828, 11.34615421295166, 9.101804733276367, 6.898345947265625, 6.605050563812256, 7.483521461486816, 7.155172824859619, 8.50319766998291, 7.1031365394592285, 7.372061729431152, 6.986215591430664, 7.167568683624268, 3.3162341117858887, 1.4949556589126587, 2.2124786376953125, 1.5003148317337036, 2.9881131649017334, 1.4725303649902344, 2.0279247760772705, 1.4072386026382446, 1.487447738647461, 1.494341254234314, 2.909871816635132, 2.2080931663513184, 1.4851771593093872, 1.4938331842422485, 1.490791916847229, 0.772999107837677, 1.4294052124023438, 1.484005093574524, 1.4023138284683228, 0.7614085674285889, 0.7682982683181763, 0.7719893455505371, 0.7718321681022644, 0.7712500095367432, 0.7722043395042419, 0.7678426504135132, 0.7711319923400879, 0.7714099884033203, 0.7691080570220947, 0.769442081451416, 2.120070219039917, 1.5018222332000732, 1.0298161506652832, 1.2218737602233887, 1.342271089553833, 2.502014398574829, 3.2626419067382812, 3.971698522567749, 4.743783473968506, 2.2207584381103516, 1.0878962278366089, 2.929753065109253, 2.086944818496704, 4.538647651672363, 4.336452007293701, 7.956911563873291, 3.4035613536834717, 2.9214835166931152, 2.44887113571167, 4.2369561195373535, 5.026250839233398, 5.055003643035889, 4.06535530090332, 5.075436592102051, 4.383679389953613, 7.876039028167725, 6.149834156036377, 5.781521797180176, 5.127685070037842, 6.600531101226807, 6.062838554382324, 7.385697841644287, 4.374427795410156, 6.224114894866943, 3.9520554542541504, 4.808750152587891, 6.313244819641113, 4.160497188568115, 5.2267022132873535, 4.46226167678833, 5.076145648956299, 4.451704502105713, 4.955962657928467, 4.641787052154541, 4.671143054962158, 4.387362957000732, 4.278561115264893, 4.343141078948975, 4.253166198730469, 0.2481904923915863, 0.17966891825199127, 0.12343751639127731, 0.13495685160160065, 0.13734716176986694, 0.2523791790008545, 0.20764824748039246, 0.21646609902381897, 0.10757581144571304, 0.2177087664604187, 0.2011662721633911, 0.08882125467061996, 0.12914474308490753, 0.24021422863006592, 0.13533349335193634, 0.11818914860486984, 0.04951980710029602, 0.06062202528119087, 0.12765087187290192, 0.06991950422525406, 0.11573685705661774, 0.16215211153030396, 0.10506583005189896, 0.19676318764686584, 0.033600009977817535, 0.08004257082939148, 0.13658025860786438, 0.0665205717086792, 0.06537818163633347, 0.07358922809362411, 0.061707500368356705, 0.09610702842473984, 0.06969844549894333, 0.06441400945186615], \"Term\": [\"emma\", \"harriet\", \"little\", \"good\", \"elizabeth\", \"know\", \"think\", \"jane\", \"like\", \"elinor\", \"man\", \"thought\", \"weston\", \"elton\", \"madame\", \"thing\", \"knightley\", \"rochester\", \"marianne\", \"darcy\", \"miss\", \"shall\", \"woodhouse\", \"love\", \"bennet\", \"sir\", \"woman\", \"monsieur\", \"john\", \"night\", \"francs\", \"victor\", \"henri\", \"yorke\", \"demoiselles\", \"directress\", \"gem\", \"pleasurable\", \"hovering\", \"violets\", \"benign\", \"faubourg\", \"casting\", \"bouquet\", \"winds\", \"numbered\", \"pile\", \"berceau\", \"basse\", \"mutiny\", \"lilac\", \"frances\", \"evans\", \"stealing\", \"foster\", \"mellow\", \"grenier\", \"arithmetic\", \"bade\", \"protestants\", \"alley\", \"pupils\", \"mdlle\", \"monsieur\", \"pierre\", \"cigar\", \"emanuel\", \"sylvie\", \"helen\", \"paul\", \"fete\", \"english\", \"classe\", \"vandenhuten\", \"graham\", \"ere\", \"mademoiselle\", \"pelet\", \"desk\", \"reuter\", \"justine\", \"school\", \"beck\", \"pupil\", \"flowers\", \"teachers\", \"god\", \"garden\", \"hand\", \"madame\", \"french\", \"like\", \"heart\", \"eye\", \"little\", \"thought\", \"life\", \"long\", \"certain\", \"night\", \"day\", \"eyes\", \"old\", \"time\", \"good\", \"took\", \"looked\", \"knew\", \"know\", \"come\", \"look\", \"half\", \"saw\", \"man\", \"felt\", \"came\", \"way\", \"shall\", \"elinor\", \"jennings\", \"marianne\", \"brandon\", \"ferrars\", \"willoughby\", \"campbell\", \"dixon\", \"middleton\", \"barton\", \"dashwood\", \"steele\", \"fanny\", \"steeles\", \"dashwoods\", \"delaford\", \"margaret\", \"devonshire\", \"norland\", \"middletons\", \"cleveland\", \"berkeley\", \"ford\", \"campbells\", \"exeter\", \"oxford\", \"patty\", \"harley\", \"combe\", \"allenham\", \"palmer\", \"edward\", \"colonel\", \"pianoforte\", \"sister\", \"cottage\", \"engagement\", \"mother\", \"miss\", \"sure\", \"lucy\", \"thing\", \"town\", \"know\", \"jane\", \"dear\", \"replied\", \"soon\", \"think\", \"time\", \"fairfax\", \"great\", \"shall\", \"good\", \"happy\", \"day\", \"oh\", \"young\", \"lady\", \"little\", \"man\", \"house\", \"john\", \"thought\", \"room\", \"long\", \"collins\", \"phillips\", \"bourgh\", \"catherine\", \"bennet\", \"hunsford\", \"longbourn\", \"wickham\", \"rosings\", \"kitty\", \"jenkinson\", \"denny\", \"lydia\", \"lizzy\", \"kent\", \"fitzwilliam\", \"meryton\", \"elizabeth\", \"lucas\", \"hertfordshire\", \"bennets\", \"militia\", \"darcy\", \"lucases\", \"netherfield\", \"exposing\", \"bingleys\", \"enumerating\", \"brighton\", \"gardiners\", \"forster\", \"judgement\", \"officers\", \"gardiner\", \"ladyship\", \"bingley\", \"charlotte\", \"pemberley\", \"derbyshire\", \"cousin\", \"family\", \"civility\", \"uncle\", \"lady\", \"aunt\", \"jane\", \"father\", \"soon\", \"know\", \"sister\", \"think\", \"miss\", \"man\", \"shall\", \"time\", \"good\", \"little\", \"mother\", \"young\", \"dear\", \"great\", \"away\", \"day\", \"room\", \"house\", \"eshton\", \"leah\", \"lynn\", \"mason\", \"sophie\", \"amy\", \"hamlet\", \"driver\", \"cherry\", \"dent\", \"thornfield\", \"porter\", \"poole\", \"pilot\", \"abbot\", \"whip\", \"millcote\", \"humbug\", \"adele\", \"sprain\", \"janet\", \"rochester\", \"associations\", \"ingram\", \"varens\", \"bertha\", \"bloody\", \"aristocratic\", \"deuce\", \"stile\", \"ve\", \"hay\", \"bessie\", \"missis\", \"eyre\", \"gateshead\", \"ll\", \"crimsworth\", \"hall\", \"reed\", \"sir\", \"shire\", \"hunsden\", \"fairfax\", \"master\", \"gallery\", \"room\", \"yes\", \"jane\", \"door\", \"night\", \"house\", \"heard\", \"come\", \"like\", \"went\", \"got\", \"little\", \"shall\", \"looked\", \"face\", \"long\", \"saw\", \"miss\", \"day\", \"thought\", \"came\", \"good\", \"time\", \"think\", \"stony\", \"warren\", \"crib\", \"undressed\", \"miller\", \"mastered\", \"comely\", \"genii\", \"tinged\", \"ghosts\", \"mantle\", \"vases\", \"contour\", \"lantern\", \"bewilderment\", \"muffled\", \"implored\", \"ranged\", \"cultivated\", \"lull\", \"alleys\", \"paved\", \"vista\", \"semicircle\", \"transported\", \"piled\", \"corpse\", \"volubly\", \"wrapping\", \"interchanged\", \"trunk\", \"drapery\", \"georgette\", \"crimson\", \"desiree\", \"temple\", \"brocklehurst\", \"godmother\", \"white\", \"polly\", \"marchmont\", \"bed\", \"bretton\", \"lifted\", \"basin\", \"hair\", \"dark\", \"amidst\", \"sleep\", \"doctor\", \"door\", \"face\", \"stood\", \"child\", \"eyes\", \"trees\", \"light\", \"papa\", \"little\", \"black\", \"night\", \"hand\", \"like\", \"saw\", \"madame\", \"long\", \"room\", \"looked\", \"graham\", \"head\", \"time\", \"took\", \"miss\", \"good\", \"day\", \"thought\", \"came\", \"john\", \"think\", \"young\", \"nash\", \"isabella\", \"hartfield\", \"taylor\", \"abbey\", \"goddard\", \"knightleys\", \"martins\", \"perry\", \"connexion\", \"donwell\", \"creating\", \"gruel\", \"martin\", \"vicarage\", \"bristol\", \"elton\", \"woodhouse\", \"surprized\", \"harriet\", \"randalls\", \"club\", \"strawberries\", \"highbury\", \"richmond\", \"charade\", \"matches\", \"eltons\", \"bateses\", \"bathing\", \"emma\", \"weston\", \"knightley\", \"james\", \"smith\", \"churchill\", \"body\", \"enscombe\", \"thing\", \"bates\", \"father\", \"frank\", \"friend\", \"dear\", \"miss\", \"great\", \"poor\", \"little\", \"think\", \"good\", \"time\", \"having\", \"man\", \"home\", \"thought\", \"like\", \"know\", \"day\", \"soon\", \"way\", \"slid\", \"oliver\", \"rosamond\", \"crude\", \"frail\", \"carlo\", \"philanthropist\", \"population\", \"perishing\", \"scholars\", \"vale\", \"rivals\", \"arched\", \"cleopatra\", \"superfluous\", \"impassioned\", \"gods\", \"non\", \"contrasts\", \"naive\", \"diana\", \"masculine\", \"rivers\", \"sarah\", \"flimsy\", \"sustain\", \"baking\", \"seraph\", \"fluency\", \"mask\", \"hannah\", \"topics\", \"moor\", \"fanshawe\", \"morton\", \"st\", \"ginevra\", \"lip\", \"cultivate\", \"dr\", \"john\", \"mary\", \"audience\", \"like\", \"paul\", \"eye\", \"school\", \"work\", \"know\", \"life\", \"nature\", \"letter\", \"eyes\", \"hard\", \"good\", \"man\", \"face\", \"think\", \"thought\", \"little\", \"way\", \"look\", \"read\", \"hand\", \"evening\", \"heart\", \"miss\", \"looked\", \"long\", \"day\", \"felt\", \"shall\", \"time\", \"larkins\", \"selina\", \"supplanted\", \"foresaw\", \"gipsies\", \"haunting\", \"sets\", \"delays\", \"vouchsafe\", \"windsor\", \"fruitless\", \"yorkshire\", \"frank\", \"trick\", \"disparity\", \"churchill\", \"concession\", \"beer\", \"safer\", \"quietness\", \"brunswick\", \"xii\", \"disagreement\", \"undertook\", \"demure\", \"puppy\", \"premature\", \"dancer\", \"inequality\", \"rack\", \"correspondent\", \"asserted\", \"connexions\", \"speculation\", \"churchills\", \"enscombe\", \"weston\", \"knightley\", \"emma\", \"dancing\", \"weymouth\", \"infinitely\", \"trying\", \"wrong\", \"harriet\", \"think\", \"randalls\", \"thing\", \"fairfax\", \"oh\", \"bates\", \"word\", \"extraordinary\", \"jane\", \"know\", \"speak\", \"elton\", \"tell\", \"remember\", \"moment\", \"good\", \"little\", \"ought\", \"miss\", \"letter\", \"dear\", \"hope\", \"time\", \"thought\", \"soon\", \"young\", \"better\", \"man\", \"let\", \"great\", \"like\", \"long\", \"come\", \"jeune\", \"quel\", \"fille\", \"votre\", \"ces\", \"slippers\", \"shutting\", \"sont\", \"soir\", \"oui\", \"les\", \"comme\", \"avez\", \"assez\", \"noiseless\", \"tableau\", \"que\", \"anglais\", \"antiquity\", \"ruth\", \"il\", \"petit\", \"sage\", \"mais\", \"veritable\", \"frock\", \"maitresse\", \"allez\", \"scrutinized\", \"chambre\", \"vous\", \"si\", \"pas\", \"et\", \"qu\", \"une\", \"madame\", \"bien\", \"ne\", \"est\", \"je\", \"le\", \"ce\", \"beck\", \"pelet\", \"reuter\", \"pour\", \"moi\", \"en\", \"little\", \"room\", \"english\", \"door\", \"knew\", \"reed\", \"thought\", \"like\", \"day\", \"came\", \"opened\", \"light\", \"night\", \"looked\", \"hand\", \"shall\", \"time\", \"took\", \"heard\", \"felt\", \"moment\", \"whitcross\", \"stringent\", \"interpreted\", \"elicited\", \"briggs\", \"aghast\", \"reste\", \"conformity\", \"accomplish\", \"undertaken\", \"vices\", \"missionary\", \"roads\", \"eyelid\", \"chestnut\", \"bends\", \"item\", \"fragile\", \"sarcasm\", \"vigilance\", \"swear\", \"texture\", \"india\", \"select\", \"battlements\", \"upward\", \"wondrous\", \"eastern\", \"hapless\", \"sagacity\", \"indian\", \"peep\", \"topic\", \"stream\", \"sacrifice\", \"woods\", \"sneer\", \"burn\", \"bargain\", \"st\", \"ruin\", \"love\", \"jane\", \"union\", \"wandering\", \"wife\", \"heart\", \"mad\", \"keen\", \"continually\", \"marry\", \"thought\", \"like\", \"seek\", \"felt\", \"john\", \"rochester\", \"tell\", \"saw\", \"man\", \"oh\", \"good\", \"little\", \"know\", \"moment\", \"asked\", \"want\", \"woman\", \"eyes\", \"eye\", \"mind\", \"sir\", \"think\", \"left\", \"seen\", \"long\", \"yes\", \"softest\", \"alfred\", \"hamal\", \"mightily\", \"inexplicable\", \"swear\", \"necklace\", \"bust\", \"grecian\", \"mastery\", \"comforter\", \"scarf\", \"clay\", \"brains\", \"sisterly\", \"puppy\", \"displeasing\", \"turban\", \"dupe\", \"ninety\", \"crusty\", \"disclosure\", \"chalk\", \"bedrooms\", \"pearl\", \"plebeian\", \"thee\", \"equivalent\", \"reverence\", \"confidences\", \"refreshed\", \"blanche\", \"cholmondeley\", \"destitute\", \"orphan\", \"frantic\", \"rochester\", \"dr\", \"satin\", \"moon\", \"jane\", \"graceful\", \"thinks\", \"fairy\", \"love\", \"shall\", \"john\", \"adele\", \"know\", \"ingram\", \"like\", \"st\", \"bretton\", \"sir\", \"little\", \"papa\", \"thought\", \"come\", \"arm\", \"nearly\", \"night\", \"think\", \"face\", \"tell\", \"yes\", \"looked\", \"feel\", \"strange\", \"good\", \"day\", \"white\", \"heart\", \"look\", \"away\", \"time\", \"hand\", \"man\", \"lang\", \"syne\", \"garcon\", \"benefactress\", \"soup\", \"noxious\", \"strove\", \"scotch\", \"sundays\", \"reel\", \"fellows\", \"sire\", \"isidore\", \"dutch\", \"aux\", \"brim\", \"naughty\", \"recognition\", \"deceit\", \"couldn\", \"crafty\", \"kint\", \"audacity\", \"spice\", \"pit\", \"trait\", \"sugar\", \"glimpses\", \"vapid\", \"indolent\", \"vault\", \"listener\", \"cup\", \"fish\", \"count\", \"gipsy\", \"bretton\", \"eyebrows\", \"reed\", \"child\", \"maintain\", \"fault\", \"pelet\", \"mouth\", \"little\", \"monsieur\", \"grace\", \"paulina\", \"kitchen\", \"graham\", \"like\", \"remarked\", \"remember\", \"ll\", \"old\", \"know\", \"que\", \"course\", \"gentlemen\", \"thought\", \"think\", \"dr\", \"hand\", \"mother\", \"night\", \"look\", \"eyes\", \"come\", \"heart\", \"home\", \"things\", \"looked\", \"strange\", \"love\", \"farmer\", \"boarder\", \"vicar\", \"switzerland\", \"misunderstand\", \"argue\", \"realised\", \"associates\", \"swiss\", \"ungrateful\", \"martin\", \"planning\", \"aghast\", \"approving\", \"indubitable\", \"affectedly\", \"bewitching\", \"asperity\", \"abandon\", \"winning\", \"fight\", \"refuse\", \"inflicting\", \"vexatious\", \"diffuse\", \"unequivocal\", \"stimulate\", \"elegantly\", \"dishes\", \"popularity\", \"mercenary\", \"hesitate\", \"birth\", \"harriet\", \"loudly\", \"robert\", \"advise\", \"persevered\", \"marry\", \"match\", \"thousand\", \"respectable\", \"justice\", \"list\", \"woman\", \"emma\", \"imagine\", \"man\", \"nonsense\", \"good\", \"smith\", \"girl\", \"sense\", \"think\", \"young\", \"sisters\", \"thing\", \"better\", \"elton\", \"read\", \"want\", \"superior\", \"know\", \"letter\", \"thought\", \"yes\", \"ought\", \"mean\", \"friend\", \"answer\", \"miss\", \"oh\", \"shall\", \"mind\", \"little\", \"fiacre\", \"landed\", \"mender\", \"thickly\", \"belgium\", \"morally\", \"flemish\", \"vii\", \"indication\", \"bolted\", \"alfred\", \"waiter\", \"unsuspicious\", \"thereof\", \"swayed\", \"interpreted\", \"athenee\", \"wonderfully\", \"billet\", \"dies\", \"quieted\", \"tire\", \"speck\", \"shadowed\", \"slippery\", \"exhaustion\", \"excitable\", \"isolation\", \"notre\", \"insight\", \"repaired\", \"threatening\", \"inexperienced\", \"toe\", \"gale\", \"stove\", \"hotel\", \"inn\", \"foreign\", \"vandenhuten\", \"smote\", \"tear\", \"picturesque\", \"professor\", \"brown\", \"hunsden\", \"willing\", \"brussels\", \"painted\", \"fanshawe\", \"breakfast\", \"french\", \"chamber\", \"black\", \"street\", \"house\", \"asked\", \"round\", \"business\", \"came\", \"night\", \"like\", \"english\", \"room\", \"beck\", \"madame\", \"little\", \"table\", \"thought\", \"seen\", \"time\", \"morning\", \"know\", \"come\", \"good\", \"tell\", \"having\", \"day\", \"miss\", \"comparisons\", \"longstaple\", \"exercising\", \"justifying\", \"nominal\", \"released\", \"release\", \"nineteen\", \"unrestrained\", \"unnatural\", \"lovers\", \"inexperienced\", \"incessant\", \"foolish\", \"failure\", \"flowing\", \"philosophic\", \"wounding\", \"swell\", \"sleepless\", \"suffice\", \"eighteen\", \"learning\", \"profession\", \"unceasing\", \"elevated\", \"wrought\", \"errors\", \"creatures\", \"reality\", \"idle\", \"need\", \"change\", \"time\"], \"Total\": [873.0, 528.0, 1725.0, 1345.0, 645.0, 1412.0, 1296.0, 912.0, 1330.0, 642.0, 897.0, 1137.0, 446.0, 395.0, 403.0, 779.0, 393.0, 366.0, 530.0, 415.0, 1515.0, 918.0, 321.0, 560.0, 324.0, 602.0, 467.0, 284.0, 612.0, 624.0, 24.261260986328125, 24.231075286865234, 56.4929313659668, 14.08619213104248, 16.117076873779297, 48.4208984375, 12.051932334899902, 12.042214393615723, 11.037980079650879, 10.019254684448242, 11.010676383972168, 10.021711349487305, 10.00954532623291, 14.088857650756836, 14.056512832641602, 10.015176773071289, 10.020256042480469, 18.011314392089844, 10.016226768493652, 12.044417381286621, 9.002225875854492, 119.20304870605469, 9.000126838684082, 9.001556396484375, 9.002274513244629, 14.027765274047852, 10.949447631835938, 10.013997077941895, 12.023625373840332, 7.98300313949585, 29.074417114257812, 159.60951232910156, 114.55036926269531, 284.79107666015625, 32.120697021484375, 23.773685455322266, 110.10951232910156, 28.26885414123535, 64.54679870605469, 186.1277313232422, 34.758750915527344, 231.7724151611328, 64.76766204833984, 21.31402015686035, 226.0188751220703, 138.6202850341797, 120.19491577148438, 107.98896789550781, 103.85061645507812, 78.34610748291016, 23.967939376831055, 248.7786865234375, 164.22959899902344, 99.48712158203125, 90.88019561767578, 79.79354858398438, 228.94998168945312, 178.8386688232422, 618.0203857421875, 403.3290100097656, 159.81272888183594, 1330.1031494140625, 646.2218627929688, 399.9637451171875, 1725.5418701171875, 1137.9952392578125, 586.31298828125, 941.1361694335938, 339.4677734375, 624.9541015625, 1058.240478515625, 639.869384765625, 484.658447265625, 1310.143310546875, 1345.8741455078125, 497.9710693359375, 701.3502197265625, 546.8154907226562, 1412.2568359375, 834.148193359375, 641.8670043945312, 594.2377319335938, 776.1996459960938, 897.3767700195312, 661.9370727539062, 688.8168334960938, 693.4007568359375, 918.1052856445312, 642.0792846679688, 216.21995544433594, 530.8916625976562, 135.68844604492188, 122.57148742675781, 203.1522216796875, 48.58414840698242, 42.02417755126953, 96.40723419189453, 84.23474884033203, 237.00840759277344, 36.43626022338867, 45.82777786254883, 28.94655418395996, 34.56528091430664, 28.95738983154297, 34.588321685791016, 25.211299896240234, 50.541385650634766, 18.645740509033203, 26.154455184936523, 16.776866912841797, 15.844708442687988, 25.196456909179688, 14.914172172546387, 13.023759841918945, 12.093908309936523, 15.857895851135254, 15.844871520996094, 17.760650634765625, 73.40621185302734, 302.5450439453125, 293.890380859375, 31.77040672302246, 565.96875, 81.07572937011719, 111.29756164550781, 655.2076416015625, 1515.806396484375, 608.8175659179688, 367.5924987792969, 779.7230834960938, 233.81031799316406, 1412.2568359375, 912.73486328125, 585.0866088867188, 341.8289794921875, 918.7593994140625, 1296.852294921875, 1310.143310546875, 367.0218200683594, 824.2357177734375, 918.1052856445312, 1345.8741455078125, 411.48773193359375, 1058.240478515625, 551.074462890625, 658.0289916992188, 617.161376953125, 1725.5418701171875, 897.3767700195312, 753.5986328125, 612.1815185546875, 1137.9952392578125, 889.4478149414062, 941.1361694335938, 180.95364379882812, 32.05001449584961, 40.083518981933594, 131.39369201660156, 324.77239990234375, 25.981609344482422, 89.12149810791016, 195.21768188476562, 49.97886657714844, 75.03948211669922, 9.924898147583008, 12.925357818603516, 171.9633026123047, 97.95265197753906, 14.908285140991211, 36.88677978515625, 57.85755920410156, 645.8272705078125, 70.79246520996094, 41.84153366088867, 10.893462181091309, 8.899046897888184, 415.3542785644531, 14.861254692077637, 73.6341781616211, 5.894408226013184, 5.892820358276367, 5.891579627990723, 24.805583953857422, 6.887500762939453, 39.6688346862793, 11.858638763427734, 32.72357940673828, 94.73593139648438, 55.194950103759766, 302.84185791015625, 112.5731201171875, 52.634620666503906, 24.69151496887207, 91.74474334716797, 379.6235656738281, 78.56629180908203, 152.4972686767578, 617.161376953125, 179.55807495117188, 912.73486328125, 519.3215942382812, 918.7593994140625, 1412.2568359375, 565.96875, 1296.852294921875, 1515.806396484375, 897.3767700195312, 918.1052856445312, 1310.143310546875, 1345.8741455078125, 1725.5418701171875, 655.2076416015625, 658.0289916992188, 585.0866088867188, 824.2357177734375, 681.1021728515625, 1058.240478515625, 889.4478149414062, 753.5986328125, 30.7227840423584, 28.637168884277344, 21.415014266967773, 62.94259262084961, 28.451889038085938, 11.151662826538086, 9.09142017364502, 12.14942455291748, 7.041912078857422, 30.60773277282715, 101.28839874267578, 13.167709350585938, 32.97758865356445, 25.257102966308594, 26.514204025268555, 9.068739891052246, 29.940399169921875, 6.0079121589660645, 139.13897705078125, 6.003181457519531, 21.084644317626953, 366.385498046875, 14.994414329528809, 90.3739013671875, 12.919809341430664, 7.890374183654785, 7.896257400512695, 7.03654146194458, 12.001993179321289, 14.862570762634277, 50.21702194213867, 25.04045295715332, 133.76890563964844, 21.26749610900879, 102.39405059814453, 44.14463806152344, 152.48524475097656, 103.41770935058594, 175.4215850830078, 128.53662109375, 602.3989868164062, 45.56426239013672, 151.05291748046875, 367.0218200683594, 206.00732421875, 42.08738327026367, 889.4478149414062, 596.0277099609375, 912.73486328125, 543.4691162109375, 624.9541015625, 753.5986328125, 624.4796752929688, 834.148193359375, 1330.1031494140625, 498.26922607421875, 290.6999206542969, 1725.5418701171875, 918.1052856445312, 701.3502197265625, 500.90643310546875, 941.1361694335938, 776.1996459960938, 1515.806396484375, 1058.240478515625, 1137.9952392578125, 688.8168334960938, 1345.8741455078125, 1310.143310546875, 1296.852294921875, 7.821287155151367, 8.819327354431152, 16.78597068786621, 7.821135520935059, 24.70379066467285, 6.828600883483887, 6.829214096069336, 5.8338494300842285, 5.835939407348633, 5.834803581237793, 8.830399513244629, 6.781668186187744, 5.843523979187012, 6.826474666595459, 6.807923316955566, 9.766810417175293, 5.838238716125488, 6.834822177886963, 5.839809417724609, 6.852741718292236, 7.673109531402588, 6.562143325805664, 7.623688697814941, 7.8636064529418945, 7.7647199630737305, 8.752741813659668, 8.616191864013672, 5.8334197998046875, 7.729460716247559, 6.62506103515625, 36.53562927246094, 20.679855346679688, 16.794431686401367, 32.53741455078125, 18.714670181274414, 75.66165161132812, 55.423133850097656, 30.580245971679688, 234.8256378173828, 80.04615783691406, 14.782755851745605, 224.86175537109375, 236.24920654296875, 74.30123138427734, 24.761137008666992, 187.5105438232422, 230.36865234375, 63.814857482910156, 92.5909652709961, 48.79827117919922, 543.4691162109375, 500.90643310546875, 326.24957275390625, 294.32171630859375, 639.869384765625, 112.62582397460938, 309.9013366699219, 174.58465576171875, 1725.5418701171875, 183.29278564453125, 624.9541015625, 618.0203857421875, 1330.1031494140625, 776.1996459960938, 403.3290100097656, 941.1361694335938, 889.4478149414062, 701.3502197265625, 226.0188751220703, 409.6663513183594, 1310.143310546875, 497.9710693359375, 1515.806396484375, 1345.8741455078125, 1058.240478515625, 1137.9952392578125, 688.8168334960938, 612.1815185546875, 1296.852294921875, 658.0289916992188, 14.60689926147461, 73.2676010131836, 168.03753662109375, 53.067115783691406, 33.179847717285156, 61.812110900878906, 8.241860389709473, 14.285940170288086, 83.92916870117188, 21.212017059326172, 51.462825775146484, 8.139219284057617, 12.281373023986816, 84.69190216064453, 18.238149642944336, 10.170197486877441, 395.35369873046875, 321.3617858886719, 33.277862548828125, 528.4423828125, 93.15396881103516, 8.101812362670898, 11.33462142944336, 127.87226104736328, 14.217524528503418, 24.537179946899414, 8.97734260559082, 23.306291580200195, 6.012520790100098, 9.203250885009766, 873.837890625, 446.65606689453125, 393.8289794921875, 28.642580032348633, 114.1389389038086, 222.51979064941406, 276.3670959472656, 37.15192794799805, 779.7230834960938, 149.18508911132812, 519.3215942382812, 235.3441925048828, 437.1047668457031, 585.0866088867188, 1515.806396484375, 824.2357177734375, 390.2080078125, 1725.5418701171875, 1296.852294921875, 1345.8741455078125, 1310.143310546875, 542.5328979492188, 897.3767700195312, 495.30877685546875, 1137.9952392578125, 1330.1031494140625, 1412.2568359375, 1058.240478515625, 918.7593994140625, 693.4007568359375, 5.610925674438477, 29.363271713256836, 16.019393920898438, 5.614592552185059, 6.569183826446533, 8.502273559570312, 6.445680618286133, 5.512688636779785, 6.5593061447143555, 16.332380294799805, 13.204192161560059, 5.6678338050842285, 8.31461238861084, 12.463541030883789, 6.409394264221191, 5.540743827819824, 5.654260158538818, 8.604534149169922, 5.675166130065918, 5.460450649261475, 71.21276092529297, 9.520670890808105, 56.48483657836914, 6.571266174316406, 5.530640125274658, 7.554083824157715, 6.595839977264404, 6.236504554748535, 6.223817825317383, 10.285364151000977, 39.639041900634766, 12.335522651672363, 27.250080108642578, 82.81588745117188, 40.20709991455078, 189.66416931152344, 108.2614974975586, 36.885398864746094, 10.600198745727539, 230.46780395507812, 612.1815185546875, 147.23977661132812, 13.55672836303711, 1330.1031494140625, 186.1277313232422, 399.9637451171875, 248.7786865234375, 256.084228515625, 1412.2568359375, 586.31298828125, 311.3427734375, 416.9844970703125, 639.869384765625, 139.55592346191406, 1345.8741455078125, 897.3767700195312, 500.90643310546875, 1296.852294921875, 1137.9952392578125, 1725.5418701171875, 693.4007568359375, 641.8670043945312, 316.2991638183594, 618.0203857421875, 488.0216979980469, 646.2218627929688, 1515.806396484375, 701.3502197265625, 941.1361694335938, 1058.240478515625, 661.9370727539062, 918.1052856445312, 1310.143310546875, 13.122113227844238, 10.285482406616211, 5.645726203918457, 5.646096706390381, 8.55893611907959, 5.705111503601074, 6.396681785583496, 6.490931510925293, 5.678216934204102, 6.50862455368042, 6.626349449157715, 8.461067199707031, 235.3441925048828, 9.47128677368164, 7.772279739379883, 222.51979064941406, 5.548041343688965, 10.623431205749512, 7.357873916625977, 5.566237926483154, 11.730198860168457, 7.625107288360596, 5.637996196746826, 8.342822074890137, 7.578967094421387, 6.094625949859619, 6.443120956420898, 6.464261054992676, 5.632568836212158, 6.631307601928711, 8.376556396484375, 8.381523132324219, 10.550427436828613, 12.960236549377441, 15.93848991394043, 37.15192794799805, 446.65606689453125, 393.8289794921875, 873.837890625, 67.27238464355469, 17.768184661865234, 26.51406478881836, 55.260738372802734, 123.43414306640625, 528.4423828125, 1296.852294921875, 93.15396881103516, 779.7230834960938, 367.0218200683594, 551.074462890625, 149.18508911132812, 394.19012451171875, 59.10504913330078, 912.73486328125, 1412.2568359375, 443.26171875, 395.35369873046875, 535.661376953125, 219.1440887451172, 569.3733520507812, 1345.8741455078125, 1725.5418701171875, 268.8194885253906, 1515.806396484375, 416.9844970703125, 585.0866088867188, 503.84381103515625, 1310.143310546875, 1137.9952392578125, 918.7593994140625, 658.0289916992188, 613.2293090820312, 897.3767700195312, 463.9997253417969, 824.2357177734375, 1330.1031494140625, 941.1361694335938, 834.148193359375, 13.571712493896484, 9.259490966796875, 7.355711460113525, 12.114041328430176, 7.48419713973999, 7.427277565002441, 6.502735614776611, 7.495236873626709, 9.461896896362305, 15.199651718139648, 38.29438781738281, 22.93688201904297, 11.420232772827148, 6.570305347442627, 6.535677909851074, 7.4803385734558105, 61.18706512451172, 11.381125450134277, 5.621780872344971, 7.588918685913086, 41.339561462402344, 5.651304721832275, 7.483520030975342, 30.127901077270508, 5.632248401641846, 14.35603141784668, 16.314083099365234, 6.311899185180664, 5.658476829528809, 5.676290035247803, 113.7770767211914, 14.355400085449219, 58.45011520385742, 84.73250579833984, 30.41176414489746, 36.703853607177734, 403.3290100097656, 47.48961639404297, 35.21128845214844, 108.64811706542969, 69.96714782714844, 46.76796340942383, 51.609683990478516, 164.22959899902344, 107.98896789550781, 78.34610748291016, 44.03811264038086, 24.937589645385742, 49.271873474121094, 1725.5418701171875, 889.4478149414062, 231.7724151611328, 543.4691162109375, 546.8154907226562, 128.53662109375, 1137.9952392578125, 1330.1031494140625, 1058.240478515625, 688.8168334960938, 196.92559814453125, 309.9013366699219, 624.9541015625, 701.3502197265625, 618.0203857421875, 918.1052856445312, 1310.143310546875, 497.9710693359375, 624.4796752929688, 661.9370727539062, 569.3733520507812, 9.766303062438965, 7.061803340911865, 4.984250545501709, 6.397989749908447, 14.882871627807617, 5.121088981628418, 5.236356258392334, 5.328507423400879, 8.267291069030762, 6.380818843841553, 5.376733303070068, 17.50383758544922, 8.38657283782959, 5.317208766937256, 10.696598052978516, 7.3975348472595215, 8.374933242797852, 5.609764575958252, 11.24069881439209, 6.580279350280762, 6.049541473388672, 6.135722637176514, 20.228900909423828, 9.061509132385254, 9.371537208557129, 7.468443393707275, 6.259087085723877, 9.309667587280273, 6.23166561126709, 9.011770248413086, 18.606504440307617, 11.307744979858398, 17.43007469177246, 21.190446853637695, 44.43927001953125, 27.783246994018555, 18.07195472717285, 11.788090705871582, 12.069191932678223, 189.66416931152344, 26.554059982299805, 560.7422485351562, 912.73486328125, 41.269107818603516, 34.67266845703125, 278.4959411621094, 646.2218627929688, 45.632530212402344, 39.764007568359375, 37.591373443603516, 199.73281860351562, 1137.9952392578125, 1330.1031494140625, 93.00398254394531, 661.9370727539062, 612.1815185546875, 366.385498046875, 535.661376953125, 776.1996459960938, 897.3767700195312, 551.074462890625, 1345.8741455078125, 1725.5418701171875, 1412.2568359375, 569.3733520507812, 397.58099365234375, 322.52532958984375, 467.04229736328125, 639.869384765625, 399.9637451171875, 567.4369506835938, 602.3989868164062, 1296.852294921875, 533.0946044921875, 446.3171691894531, 941.1361694335938, 596.0277099609375, 5.159306526184082, 16.852540969848633, 25.368572235107422, 6.390704154968262, 5.510562419891357, 6.049541473388672, 6.40309476852417, 7.229242324829102, 9.825150489807129, 6.294275760650635, 5.358492374420166, 11.25283145904541, 5.499342918395996, 11.34265422821045, 8.112715721130371, 6.094625949859619, 5.480879306793213, 11.092829704284668, 5.519016265869141, 6.286651134490967, 5.451468467712402, 11.035901069641113, 6.327847957611084, 7.462995529174805, 16.54645347595215, 6.440792083740234, 9.403124809265137, 9.08443546295166, 8.344491004943848, 6.603529930114746, 9.105901718139648, 28.253856658935547, 21.540672302246094, 10.157325744628906, 19.708709716796875, 14.16126537322998, 366.385498046875, 230.46780395507812, 30.925874710083008, 75.85739135742188, 912.73486328125, 30.605066299438477, 55.37287902832031, 37.20548629760742, 560.7422485351562, 918.1052856445312, 612.1815185546875, 139.13897705078125, 1412.2568359375, 90.3739013671875, 1330.1031494140625, 189.66416931152344, 236.24920654296875, 602.3989868164062, 1725.5418701171875, 174.58465576171875, 1137.9952392578125, 834.148193359375, 117.36273956298828, 86.04444122314453, 624.9541015625, 1296.852294921875, 500.90643310546875, 535.661376953125, 596.0277099609375, 701.3502197265625, 398.5901184082031, 253.52212524414062, 1345.8741455078125, 1058.240478515625, 234.8256378173828, 646.2218627929688, 641.8670043945312, 681.1021728515625, 1310.143310546875, 618.0203857421875, 897.3767700195312, 6.890116214752197, 8.613248825073242, 5.151973724365234, 9.713937759399414, 7.126597881317139, 5.350754737854004, 5.473451614379883, 14.491538047790527, 7.2426581382751465, 6.2769389152526855, 6.425310134887695, 6.462828159332275, 22.163101196289062, 7.171433448791504, 7.214635848999023, 7.494038105010986, 12.091870307922363, 11.335851669311523, 8.053620338439941, 6.608610153198242, 8.499774932861328, 8.542442321777344, 8.463610649108887, 6.616367816925049, 6.545171737670898, 8.492746353149414, 13.000711441040039, 7.422333240509033, 6.60156774520874, 8.433380126953125, 13.958701133728027, 14.169310569763184, 54.294212341308594, 14.381505966186523, 29.62136459350586, 14.372675895690918, 236.24920654296875, 21.782060623168945, 128.53662109375, 294.32171630859375, 15.655115127563477, 65.75617218017578, 107.98896789550781, 62.4541015625, 1725.5418701171875, 284.79107666015625, 95.49977111816406, 82.77924346923828, 64.52543640136719, 226.0188751220703, 1330.1031494140625, 44.44837188720703, 219.1440887451172, 152.48524475097656, 484.658447265625, 1412.2568359375, 61.18706512451172, 345.6616516113281, 142.17752075195312, 1137.9952392578125, 1296.852294921875, 230.46780395507812, 618.0203857421875, 655.2076416015625, 624.9541015625, 641.8670043945312, 639.869384765625, 834.148193359375, 646.2218627929688, 495.30877685546875, 289.75201416015625, 701.3502197265625, 253.52212524414062, 560.7422485351562, 12.953154563903809, 5.245492935180664, 6.488027095794678, 10.888873100280762, 7.312657356262207, 7.111474990844727, 8.053142547607422, 8.173117637634277, 14.286230087280273, 9.026897430419922, 84.69190216064453, 8.086118698120117, 5.121088981628418, 5.287149429321289, 5.386715888977051, 5.39583683013916, 5.381053447723389, 5.461883068084717, 5.507950305938721, 5.5761027336120605, 9.437956809997559, 41.54026794433594, 5.547554016113281, 5.5884013175964355, 5.602562427520752, 5.603513240814209, 5.696211338043213, 5.512066841125488, 7.4644365310668945, 6.223108291625977, 14.122126579284668, 12.243147850036621, 25.386655807495117, 528.4423828125, 12.178275108337402, 75.33126068115234, 29.89881134033203, 11.197731971740723, 199.73281860351562, 90.3232650756836, 134.8397979736328, 68.73186492919922, 88.55326843261719, 15.0672607421875, 467.04229736328125, 873.837890625, 116.16532897949219, 897.3767700195312, 54.26309585571289, 1345.8741455078125, 114.1389389038086, 303.2500305175781, 273.3016052246094, 1296.852294921875, 658.0289916992188, 181.25466918945312, 779.7230834960938, 613.2293090820312, 395.35369873046875, 316.2991638183594, 322.52532958984375, 111.84642791748047, 1412.2568359375, 416.9844970703125, 1137.9952392578125, 596.0277099609375, 268.8194885253906, 234.03590393066406, 437.1047668457031, 349.58502197265625, 1515.806396484375, 551.074462890625, 918.1052856445312, 567.4369506835938, 1725.5418701171875, 9.49614143371582, 5.313518047332764, 9.053025245666504, 6.161558628082275, 14.879935264587402, 7.353749752044678, 10.731334686279297, 7.504072666168213, 8.109715461730957, 8.315990447998047, 16.852540969848633, 13.197874069213867, 8.884711265563965, 9.259780883789062, 9.306396484375, 4.984250545501709, 9.307573318481445, 9.820723533630371, 9.459983825683594, 5.242549419403076, 5.337521553039551, 5.433485984802246, 5.454107761383057, 5.469403266906738, 5.4910969734191895, 5.481354713439941, 5.545802116394043, 5.554404258728027, 5.559431076049805, 5.576205730438232, 15.936698913574219, 11.34167194366455, 7.586384296417236, 9.189287185668945, 10.40536880493164, 21.563642501831055, 31.253067016601562, 42.42325210571289, 53.17206573486328, 21.31402015686035, 8.485662460327148, 32.48175811767578, 20.643274307250977, 63.85381317138672, 60.940025329589844, 151.05291748046875, 47.99802780151367, 37.18545913696289, 27.637571334838867, 82.81588745117188, 142.41806030273438, 159.81272888183594, 104.39472198486328, 183.29278564453125, 143.47378540039062, 753.5986328125, 397.58099365234375, 355.9418640136719, 258.1914978027344, 688.8168334960938, 624.9541015625, 1330.1031494140625, 231.7724151611328, 889.4478149414062, 164.22959899902344, 403.3290100097656, 1725.5418701171875, 236.3401641845703, 1137.9952392578125, 446.3171691894531, 1310.143310546875, 510.4915771484375, 1412.2568359375, 834.148193359375, 1345.8741455078125, 535.661376953125, 542.5328979492188, 1058.240478515625, 1515.806396484375, 7.1381988525390625, 7.299704551696777, 5.0812482833862305, 5.975107192993164, 6.111690521240234, 11.990862846374512, 10.207207679748535, 11.027091979980469, 6.913483619689941, 14.16531753540039, 14.565174102783203, 7.586384296417236, 11.039669036865234, 24.369810104370117, 13.779446601867676, 12.113144874572754, 5.345611572265625, 7.1980791091918945, 16.058307647705078, 10.258749961853027, 17.090173721313477, 26.364553451538086, 17.710514068603516, 33.412445068359375, 6.329104423522949, 17.1450252532959, 31.257892608642578, 16.889694213867188, 24.509979248046875, 29.868457794189453, 25.717119216918945, 166.47239685058594, 218.3417205810547, 1310.143310546875], \"loglift\": [30.0, 29.0, 28.0, 27.0, 26.0, 25.0, 24.0, 23.0, 22.0, 21.0, 20.0, 19.0, 18.0, 17.0, 16.0, 15.0, 14.0, 13.0, 12.0, 11.0, 10.0, 9.0, 8.0, 7.0, 6.0, 5.0, 4.0, 3.0, 2.0, 1.0, 1.4388999938964844, 1.437999963760376, 1.4290000200271606, 1.4206000566482544, 1.4184999465942383, 1.4132000207901, 1.4043999910354614, 1.4003000259399414, 1.3970999717712402, 1.3913999795913696, 1.3911000490188599, 1.3909000158309937, 1.389299988746643, 1.3869999647140503, 1.3867000341415405, 1.3849999904632568, 1.3839000463485718, 1.3834999799728394, 1.3825000524520874, 1.3823000192642212, 1.3812999725341797, 1.3805999755859375, 1.3797999620437622, 1.3762999773025513, 1.375100016593933, 1.3723000288009644, 1.3703999519348145, 1.3681000471115112, 1.3652000427246094, 1.364799976348877, 1.361299991607666, 1.3220000267028809, 1.307800054550171, 1.27839994430542, 1.3229999542236328, 1.337499976158142, 1.2583999633789062, 1.3200000524520874, 1.2446999549865723, 1.1468000411987305, 1.281499981880188, 1.0780999660491943, 1.1998000144958496, 1.308500051498413, 1.0470999479293823, 1.0989999771118164, 1.111899971961975, 1.1129000186920166, 1.0901999473571777, 1.1146999597549438, 1.2913999557495117, 0.8853999972343445, 0.9549000263214111, 1.038100004196167, 1.0433000326156616, 1.065999984741211, 0.8216999769210815, 0.8585000038146973, 0.541100025177002, 0.6471999883651733, 0.8651000261306763, 0.22450000047683716, 0.43389999866485596, 0.5676000118255615, 0.08370000123977661, 0.20239999890327454, 0.3833000063896179, 0.13500000536441803, 0.535099983215332, 0.27619999647140503, 0.04430000111460686, 0.25270000100135803, 0.3776000142097473, -0.0820000022649765, -0.2029000073671341, 0.3073999881744385, 0.11710000038146973, 0.2540999948978424, -0.2904999852180481, -0.017799999564886093, 0.11289999634027481, 0.1573999971151352, -0.06430000066757202, -0.2786000072956085, -0.03009999915957451, -0.07750000059604645, -0.09910000115633011, -0.3725000023841858, 1.5289000272750854, 1.527400016784668, 1.5267000198364258, 1.5247999429702759, 1.5236999988555908, 1.5232000350952148, 1.5210000276565552, 1.514799952507019, 1.5146000385284424, 1.5144000053405762, 1.5135999917984009, 1.511199951171875, 1.5077999830245972, 1.5068999528884888, 1.50600004196167, 1.501099944114685, 1.4991999864578247, 1.4990999698638916, 1.496399998664856, 1.4917999505996704, 1.4889999628067017, 1.4840999841690063, 1.4802000522613525, 1.4783999919891357, 1.4730000495910645, 1.4671000242233276, 1.465399980545044, 1.4648000001907349, 1.4632999897003174, 1.4572999477386475, 1.4510999917984009, 1.371399998664856, 1.3027000427246094, 1.4117000102996826, 1.1638000011444092, 1.2843999862670898, 1.1923999786376953, 0.8730000257492065, 0.6480000019073486, 0.6611999869346619, 0.7860000133514404, 0.5769000053405762, 0.9002000093460083, 0.38449999690055847, 0.5080000162124634, 0.6299999952316284, 0.7901999950408936, 0.4668000042438507, 0.2888999879360199, 0.2851000130176544, 0.689300000667572, 0.36149999499320984, 0.31209999322891235, 0.1281999945640564, 0.6216999888420105, 0.11800000071525574, 0.43529999256134033, 0.322299987077713, 0.3483000099658966, -0.33219999074935913, 0.0868000015616417, 0.15850000083446503, 0.32359999418258667, -0.20059999823570251, -0.016699999570846558, -0.09080000221729279, 2.1029999256134033, 2.0820000171661377, 2.081899881362915, 2.071500062942505, 2.060499906539917, 2.0601000785827637, 2.0560998916625977, 2.0462000370025635, 2.0450000762939453, 2.039299964904785, 2.032900094985962, 2.0325000286102295, 2.0280001163482666, 2.016400098800659, 2.0139999389648438, 2.010499954223633, 2.007999897003174, 1.9972000122070312, 1.9967000484466553, 1.996399998664856, 1.9902000427246094, 1.983199954032898, 1.9677000045776367, 1.966599941253662, 1.965399980545044, 1.9646999835968018, 1.9605000019073486, 1.9574999809265137, 1.9566999673843384, 1.9564000368118286, 1.9284000396728516, 1.94760000705719, 1.926800012588501, 1.8806999921798706, 1.8895000219345093, 1.8055000305175781, 1.8377000093460083, 1.802899956703186, 1.8804999589920044, 1.5871000289916992, 1.2026000022888184, 1.5842000246047974, 1.4043999910354614, 0.9247999787330627, 1.2670999765396118, 0.5878999829292297, 0.822700023651123, 0.49320000410079956, 0.1096000000834465, 0.5715000033378601, 0.1298000067472458, 0.023399999365210533, 0.27950000762939453, 0.2632000148296356, 0.04820000007748604, 0.018300000578165054, -0.14350000023841858, 0.4505000114440918, 0.40380001068115234, 0.43299999833106995, 0.1712000072002411, 0.3172000050544739, -0.044599998742341995, 0.04569999873638153, 0.12559999525547028, 2.393699884414673, 2.3922998905181885, 2.37280011177063, 2.356300115585327, 2.3489999771118164, 2.338200092315674, 2.317199945449829, 2.3076999187469482, 2.299799919128418, 2.2934000492095947, 2.2916998863220215, 2.291100025177002, 2.2894999980926514, 2.2809998989105225, 2.2776999473571777, 2.2774999141693115, 2.2702999114990234, 2.2690999507904053, 2.2532999515533447, 2.2511000633239746, 2.239799976348877, 2.2348999977111816, 2.22979998588562, 2.2125000953674316, 2.1974000930786133, 2.194700002670288, 2.1893999576568604, 2.1872000694274902, 2.1816000938415527, 2.179800033569336, 2.1215999126434326, 2.1391000747680664, 2.0213000774383545, 2.126199960708618, 1.9591000080108643, 2.032399892807007, 1.8766000270843506, 1.917799949645996, 1.8091000318527222, 1.8562999963760376, 1.6055999994277954, 1.9320000410079956, 1.6191999912261963, 1.2854000329971313, 1.4213999509811401, 1.9119000434875488, 0.8395000100135803, 0.9485999941825867, 0.6840000152587891, 0.8906000256538391, 0.7529000043869019, 0.6525999903678894, 0.6790000200271606, 0.525600016117096, 0.2313999980688095, 0.7347999811172485, 0.972599983215332, -0.13410000503063202, 0.2538999915122986, 0.41530001163482666, 0.6039999723434448, 0.181099995970726, 0.3061999976634979, -0.2029000073671341, 0.059700001031160355, -0.017999999225139618, 0.37209999561309814, -0.25609999895095825, -0.257099986076355, -0.25440001487731934, 2.3642001152038574, 2.3622000217437744, 2.3601999282836914, 2.358099937438965, 2.349299907684326, 2.3380000591278076, 2.3355000019073486, 2.3243000507354736, 2.320199966430664, 2.311500072479248, 2.298099994659424, 2.2857000827789307, 2.2776999473571777, 2.2764999866485596, 2.2699999809265137, 2.264899969100952, 2.2546000480651855, 2.254199981689453, 2.2439000606536865, 2.214400053024292, 2.2130000591278076, 2.206199884414673, 2.2044999599456787, 2.190999984741211, 2.1886000633239746, 2.174099922180176, 2.169100046157837, 2.163800001144409, 2.156599998474121, 2.1531999111175537, 2.0703999996185303, 2.079200029373169, 2.0864999294281006, 2.001800060272217, 2.066999912261963, 1.861799955368042, 1.8752000331878662, 1.9271999597549438, 1.506600022315979, 1.722000002861023, 2.0536999702453613, 1.4157999753952026, 1.3974000215530396, 1.6556999683380127, 1.9163999557495117, 1.3595999479293823, 1.2769999504089355, 1.6164000034332275, 1.4997999668121338, 1.6877000331878662, 0.9387000203132629, 0.9016000032424927, 1.0413999557495117, 1.0587999820709229, 0.7462000250816345, 1.3603999614715576, 0.984000027179718, 1.1859999895095825, 0.31299999356269836, 1.1567000150680542, 0.6766999959945679, 0.6796000003814697, 0.335999995470047, 0.5432999730110168, 0.7893999814987183, 0.38850000500679016, 0.39719998836517334, 0.45489999651908875, 1.0252000093460083, 0.7063000202178955, 0.003100000089034438, 0.5435000061988831, -0.1590999960899353, -0.10209999978542328, 0.0414000004529953, -0.2012999951839447, 0.15119999647140503, 0.19679999351501465, -0.4684999883174896, 0.10840000212192535, 2.5195000171661377, 2.503200054168701, 2.49180006980896, 2.487799882888794, 2.481800079345703, 2.475100040435791, 2.451900005340576, 2.4361000061035156, 2.4014999866485596, 2.3605000972747803, 2.3441998958587646, 2.3315999507904053, 2.3315999507904053, 2.3250999450683594, 2.3157999515533447, 2.308300018310547, 2.3076000213623047, 2.3036000728607178, 2.297300100326538, 2.2853000164031982, 2.2690999507904053, 2.2683000564575195, 2.2683000564575195, 2.2523000240325928, 2.238800048828125, 2.2207999229431152, 2.2197000980377197, 2.2126998901367188, 2.2076001167297363, 2.2049999237060547, 2.1693999767303467, 2.155100107192993, 2.144700050354004, 2.130500078201294, 1.8573999404907227, 1.7301000356674194, 1.6253000497817993, 2.035099983215332, 1.2273999452590942, 1.6527999639511108, 1.2486000061035156, 1.4819999933242798, 1.1770000457763672, 1.0410000085830688, 0.6615999937057495, 0.8100000023841858, 1.0871000289916992, 0.3894999921321869, 0.43230000138282776, 0.36719998717308044, 0.18539999425411224, 0.7663999795913696, 0.3781999945640564, 0.7641000151634216, 0.094200000166893, -0.04179999977350235, -0.14259999990463257, 0.034699998795986176, 0.15889999270439148, 0.420199990272522, 2.561300039291382, 2.549799919128418, 2.5478999614715576, 2.5448999404907227, 2.5445001125335693, 2.468400001525879, 2.4303998947143555, 2.3756000995635986, 2.359299898147583, 2.3577001094818115, 2.3536999225616455, 2.338200092315674, 2.3308000564575195, 2.3290998935699463, 2.3085999488830566, 2.298799991607666, 2.2929999828338623, 2.29229998588562, 2.289400100708008, 2.2832999229431152, 2.2799999713897705, 2.2792999744415283, 2.2753000259399414, 2.2578999996185303, 2.2528998851776123, 2.2428998947143555, 2.235599994659424, 2.218400001525879, 2.207200050354004, 2.205199956893921, 2.178800106048584, 2.192500114440918, 2.154599905014038, 1.968500018119812, 2.0473999977111816, 1.7488000392913818, 1.8111000061035156, 1.9398000240325928, 2.161799907684326, 1.341599941253662, 1.0650999546051025, 1.4467999935150146, 2.089099884033203, 0.6468999981880188, 1.162500023841858, 0.880299985408783, 1.0348999500274658, 1.0162999629974365, 0.18850000202655792, 0.5490000247955322, 0.7752000093460083, 0.6287000179290771, 0.4189000129699707, 1.0860999822616577, 0.03830000013113022, 0.22619999945163727, 0.47110000252723694, -0.0044999998062849045, 0.017400000244379044, -0.21699999272823334, 0.22949999570846558, 0.25060001015663147, 0.6805999875068665, 0.2583000063896179, 0.4041000008583069, 0.21150000393390656, -0.420199990272522, 0.14229999482631683, -0.12970000505447388, -0.23890000581741333, 0.1370999962091446, -0.23000000417232513, -0.5716000199317932, 2.771899938583374, 2.641200065612793, 2.5787999629974365, 2.574399948120117, 2.5648000240325928, 2.4646999835968018, 2.453700065612793, 2.4442999362945557, 2.4277000427246094, 2.4179999828338623, 2.4065001010894775, 2.3926000595092773, 2.3477001190185547, 2.3373000621795654, 2.336400032043457, 2.3257999420166016, 2.2969000339508057, 2.294300079345703, 2.2899999618530273, 2.2897000312805176, 2.2790000438690186, 2.276099920272827, 2.2753000259399414, 2.2639999389648438, 2.218899965286255, 2.210700035095215, 2.1654999256134033, 2.147900104522705, 2.136699914932251, 2.134700059890747, 2.1270999908447266, 2.126699924468994, 2.1150999069213867, 2.1022000312805176, 2.0759999752044678, 1.9879000186920166, 1.673799991607666, 1.6765999794006348, 1.537500023841858, 1.888100028038025, 2.0309998989105225, 1.9250999689102173, 1.732200026512146, 1.5140000581741333, 1.066499948501587, 0.7710000276565552, 1.5521999597549438, 0.8496999740600586, 1.034000039100647, 0.8838000297546387, 1.2862000465393066, 0.9298999905586243, 1.6134999990463257, 0.5989000201225281, 0.3772999942302704, 0.8269000053405762, 0.8646000027656555, 0.6909000277519226, 1.0434999465942383, 0.6402000188827515, 0.2741999924182892, 0.16529999673366547, 0.954800009727478, 0.1923999935388565, 0.746999979019165, 0.5800999999046326, 0.6492999792098999, 0.17839999496936798, 0.2387000024318695, 0.2939999997615814, 0.4652999937534332, 0.5033000111579895, 0.25380000472068787, 0.6603000164031982, 0.28439998626708984, -0.04100000113248825, 0.18330000340938568, 0.14749999344348907, 3.3810999393463135, 3.3313000202178955, 3.2957000732421875, 3.260699987411499, 3.1803998947143555, 3.123300075531006, 3.062700033187866, 3.0601000785827637, 3.0583999156951904, 3.055999994277954, 3.0290000438690186, 3.005199909210205, 2.973400115966797, 2.970400094985962, 2.9493000507354736, 2.9344000816345215, 2.9335999488830566, 2.9319000244140625, 2.9263999462127686, 2.9217000007629395, 2.9202001094818115, 2.916800022125244, 2.915800094604492, 2.914900064468384, 2.9084999561309814, 2.907099962234497, 2.897900104522705, 2.890399932861328, 2.8778998851776123, 2.875, 2.8399999141693115, 2.843400001525879, 2.7513999938964844, 2.7172000408172607, 2.7780001163482666, 2.6958000659942627, 2.375999927520752, 2.6059000492095947, 2.6565001010894775, 2.4247000217437744, 2.4911999702453613, 2.5322000980377197, 2.4072999954223633, 1.9737000465393066, 2.0869998931884766, 2.1500000953674316, 2.3808999061584473, 2.613100051879883, 2.2100000381469727, 0.24220000207424164, 0.5763000249862671, 1.312000036239624, 0.8016999959945679, 0.7297000288963318, 1.606600046157837, 0.12860000133514404, -0.037300001829862595, 0.10050000250339508, 0.3750999867916107, 1.2803000211715698, 0.9125999808311462, 0.29580000042915344, 0.1777999997138977, 0.2727000117301941, -0.11230000108480453, -0.4490000009536743, 0.3952000141143799, 0.17010000348091125, 0.10989999771118164, 0.2362000048160553, 3.407099962234497, 3.202199935913086, 3.018699884414673, 3.0099000930786133, 3.0058000087738037, 3.0025999546051025, 2.956199884414673, 2.9539999961853027, 2.949399948120117, 2.9428000450134277, 2.935499906539917, 2.9275999069213867, 2.9142000675201416, 2.909600019454956, 2.902899980545044, 2.8912999629974365, 2.8691999912261963, 2.839200019836426, 2.8387999534606934, 2.8359999656677246, 2.830199956893921, 2.8159000873565674, 2.8148999214172363, 2.7952001094818115, 2.785399913787842, 2.78439998626709, 2.780600070953369, 2.779400110244751, 2.773099899291992, 2.7690999507904053, 2.676100015640259, 2.7160000801086426, 2.617000102996826, 2.5536000728607178, 2.386199951171875, 2.4935998916625977, 2.562999963760376, 2.652100086212158, 2.6442999839782715, 1.666599988937378, 2.3515000343322754, 1.1796000003814697, 0.8391000032424927, 2.137700080871582, 2.1679000854492188, 1.229599952697754, 0.8260999917984009, 2.039400100708008, 2.0636000633239746, 2.073499917984009, 1.188099980354309, 0.24330000579357147, 0.10440000146627426, 1.5471999645233154, 0.43639999628067017, 0.4797999858856201, 0.7664999961853027, 0.5317000150680542, 0.30809998512268066, 0.18790000677108765, 0.48089998960494995, -0.06469999998807907, -0.22100000083446503, -0.09780000150203705, 0.4390000104904175, 0.6330999732017517, 0.7644000053405762, 0.47209998965263367, 0.24050000309944153, 0.5284000039100647, 0.24770000576972961, 0.19290000200271606, -0.41359999775886536, 0.20659999549388885, 0.3303999900817871, -0.31940001249313354, 0.07670000195503235, 3.8696999549865723, 3.658900022506714, 3.3970000743865967, 3.3852999210357666, 3.325500011444092, 3.3118999004364014, 3.2911999225616455, 3.222100019454956, 3.198699951171875, 3.1960999965667725, 3.1621999740600586, 3.123699903488159, 3.121000051498413, 3.0952999591827393, 3.050100088119507, 3.040600061416626, 3.036799907684326, 3.0274999141693115, 3.0271999835968018, 3.0092999935150146, 3.00570011138916, 2.999500036239624, 2.9976999759674072, 2.985300064086914, 2.9821999073028564, 2.9798998832702637, 2.9797000885009766, 2.970099925994873, 2.9667999744415283, 2.9607999324798584, 2.9398000240325928, 2.7576000690460205, 2.7973999977111816, 2.891900062561035, 2.739300012588501, 2.8080999851226807, 1.807800054550171, 1.8910000324249268, 2.5280001163482666, 2.161900043487549, 1.170199990272522, 2.4518001079559326, 2.184299945831299, 2.3429999351501465, 1.1646000146865845, 0.8528000116348267, 1.0161000490188599, 1.6785000562667847, 0.44290000200271606, 1.827299952507019, 0.30140000581741333, 1.3493000268936157, 1.1964000463485718, 0.638700008392334, -0.02500000037252903, 1.3464000225067139, 0.18330000340938568, 0.35019999742507935, 1.580199956893921, 1.7661999464035034, 0.40799999237060547, -0.09700000286102295, 0.5288000106811523, 0.478300005197525, 0.3968000113964081, 0.26759999990463257, 0.6782000064849854, 1.0081000328063965, -0.3070000112056732, -0.17110000550746918, 1.0465999841690063, 0.1956000030040741, 0.18209999799728394, 0.12929999828338623, -0.5144000053405762, 0.17730000615119934, -0.1907999962568283, 4.210000038146973, 4.196100234985352, 4.0482001304626465, 4.042500019073486, 3.768199920654297, 3.5957999229431152, 3.5810000896453857, 3.523900032043457, 3.511199951171875, 3.5083000659942627, 3.4897000789642334, 3.4835000038146973, 3.387700080871582, 3.3454999923706055, 3.3336000442504883, 3.2967000007629395, 3.2537999153137207, 3.2516000270843506, 3.248800039291382, 3.2230000495910645, 3.214200019836426, 3.2076001167297363, 3.196700096130371, 3.1963999271392822, 3.186199903488159, 3.1658999919891357, 3.1614999771118164, 3.155600070953369, 3.1422998905181885, 3.1119000911712646, 3.110100030899048, 3.069499969482422, 2.9261999130249023, 3.041800022125244, 2.898099899291992, 3.0383999347686768, 2.3478000164031982, 2.9052999019622803, 2.230600118637085, 1.884600043296814, 2.9535000324249268, 2.281100034713745, 2.0352001190185547, 2.2811999320983887, 0.555400013923645, 1.4242000579833984, 2.010699987411499, 2.0789999961853027, 2.209199905395508, 1.4872000217437744, 0.4487999975681305, 2.3780999183654785, 1.402999997138977, 1.6234999895095825, 0.866100013256073, 0.164000004529953, 2.1256000995635986, 0.9336000084877014, 1.5264999866485596, -0.02979999966919422, -0.20160000026226044, 1.1126999855041504, 0.35249999165534973, 0.2996000051498413, 0.30079999566078186, 0.26409998536109924, 0.24619999527931213, -0.018300000578165054, 0.15320000052452087, 0.36399999260902405, 0.8569999933242798, 0.013299999758601189, 0.9728000164031982, 0.17710000276565552, 3.875999927520752, 3.825900077819824, 3.5553998947143555, 3.5244998931884766, 3.5046000480651855, 3.441800117492676, 3.404900074005127, 3.384500026702881, 3.349400043487549, 3.3399999141693115, 3.3266000747680664, 3.231800079345703, 3.1967999935150146, 3.164099931716919, 3.145400047302246, 3.1438000202178955, 3.1401000022888184, 3.126699924468994, 3.126499891281128, 3.115000009536743, 3.1138999462127686, 3.1138999462127686, 3.1082000732421875, 3.1080000400543213, 3.1038999557495117, 3.1038999557495117, 3.0940001010894775, 3.0315001010894775, 3.030600070953369, 2.9951999187469482, 2.977400064468384, 2.9783999919891357, 2.9223999977111816, 2.4935998916625977, 2.9748001098632812, 2.6415998935699463, 2.760200023651123, 2.962100028991699, 2.2983999252319336, 2.470900058746338, 2.2911999225616455, 2.413100004196167, 2.3329999446868896, 2.8405001163482666, 1.6644999980926514, 1.4486000537872314, 2.122499942779541, 1.3414000272750854, 2.363300085067749, 1.0365999937057495, 2.0320000648498535, 1.5987000465393066, 1.6365000009536743, 0.830299973487854, 1.003999948501587, 1.6907999515533447, 0.8820000290870667, 1.0018999576568604, 1.2347999811172485, 1.3437000513076782, 1.29830002784729, 1.940600037574768, 0.3352999985218048, 1.1030000448226929, 0.4259999990463257, 0.852400004863739, 1.371399998664856, 1.4665000438690186, 0.96670001745224, 1.145300030708313, -0.14910000562667847, 0.6827999949455261, 0.20960000157356262, 0.6370000243186951, -0.4496000111103058, 4.0929999351501465, 3.8768999576568604, 3.7360999584198, 3.7323999404907227, 3.5397000312805176, 3.536900043487549, 3.4788999557495117, 3.471299886703491, 3.4491000175476074, 3.4286000728607178, 3.388700008392334, 3.3571999073028564, 3.356300115585327, 3.32069993019104, 3.313699960708618, 3.2813000679016113, 3.2715001106262207, 3.2553000450134277, 3.2360999584198, 3.2156999111175537, 3.206700086593628, 3.193700075149536, 3.18969988822937, 3.186199903488159, 3.1833999156951904, 3.1796000003814697, 3.172100067138672, 3.1710000038146973, 3.167099952697754, 3.1644999980926514, 3.1278998851776123, 3.123300075531006, 3.148099899291992, 3.1273999214172363, 3.097100019454956, 2.9911999702453613, 2.885499954223633, 2.776599884033203, 2.7283999919891357, 2.8835999965667725, 3.0910000801086426, 2.739300012588501, 2.8533999919891357, 2.5011000633239746, 2.50219988822937, 2.2014999389648438, 2.498699903488159, 2.601300001144409, 2.7214999198913574, 2.172300100326538, 1.8009999990463257, 1.691499948501587, 1.899399995803833, 1.55840003490448, 1.6568000316619873, 0.5839999914169312, 0.9761000275611877, 1.024999976158142, 1.2259999513626099, 0.49729999899864197, 0.5095999836921692, -0.04839999973773956, 1.1750999689102173, 0.18289999663829803, 1.4180999994277954, 0.7157999873161316, -0.46560001373291016, 1.1053999662399292, -0.23819999396800995, 0.5396999716758728, -0.4083000123500824, 0.40299999713897705, -0.5073000192642212, -0.04619999974966049, -0.5182999968528748, 0.3402999937534332, 0.30250000953674316, -0.3506999909877777, -0.7310000061988831, 4.871500015258789, 4.526000022888184, 4.512899875640869, 4.440100193023682, 4.434999942779541, 4.369500160217285, 4.3354997634887695, 4.299799919128418, 4.067500114440918, 4.055099964141846, 3.948199987411499, 3.7829999923706055, 3.7822000980377197, 3.6108999252319336, 3.607300043106079, 3.6006999015808105, 3.548799991607666, 3.4535999298095703, 3.3958001136779785, 3.2418999671936035, 3.2355000972747803, 3.13919997215271, 3.1031999588012695, 3.0957999229431152, 2.9921000003814697, 2.863600015640259, 2.7973999977111816, 2.69350004196167, 2.303800106048584, 2.224400043487549, 2.197999954223633, 0.7734000086784363, 0.18080000579357147, -1.6898000240325928], \"logprob\": [30.0, 29.0, 28.0, 27.0, 26.0, 25.0, 24.0, 23.0, 22.0, 21.0, 20.0, 19.0, 18.0, 17.0, 16.0, 15.0, 14.0, 13.0, 12.0, 11.0, 10.0, 9.0, 8.0, 7.0, 6.0, 5.0, 4.0, 3.0, 2.0, 1.0, -8.027700424194336, -8.029899597167969, -7.192399978637695, -8.589699745178223, -8.457099914550781, -7.362299919128418, -8.761799812316895, -8.766799926757812, -8.857099533081055, -8.959600448608398, -8.865500450134277, -8.95989990234375, -8.962699890136719, -8.623100280761719, -8.625699996948242, -8.966400146484375, -8.967000007629395, -8.380999565124512, -8.968799591064453, -8.784600257873535, -9.076700210571289, -6.49399995803833, -9.078399658203125, -9.08180046081543, -9.082900047302246, -8.642200469970703, -8.891799926757812, -8.983400344848633, -8.803400039672852, -9.213399887084961, -7.924300193786621, -6.260700225830078, -6.6066999435424805, -5.725399971008301, -7.86299991607666, -8.149399757385254, -6.6956000328063965, -7.99370002746582, -7.2434000968933105, -6.282199859619141, -7.8256001472473145, -6.1315999031066895, -7.284900188446045, -8.287599563598633, -6.18779993057251, -6.62470006942749, -6.754499912261963, -6.860499858856201, -6.922299861907959, -7.179699897766113, -8.187399864196777, -6.253600120544434, -6.599400043487549, -7.017300128936768, -7.102700233459473, -7.210000038146973, -6.400300025939941, -6.610499858856201, -5.687900066375732, -6.008500099182129, -6.716400146484375, -5.23799991607666, -5.750500202178955, -6.096499919891357, -5.118500232696533, -5.416100025177002, -5.8983001708984375, -5.673399925231934, -6.293000221252441, -5.9415998458862305, -5.646900177001953, -5.941500186920166, -6.0945000648498535, -5.559599876403809, -5.653600215911865, -6.137499809265137, -5.985300064086914, -6.0971999168396, -5.6930999755859375, -5.946899890899658, -6.078199863433838, -6.110799789428711, -6.065400123596191, -6.1346001625061035, -6.190499782562256, -6.197999954223633, -6.2129998207092285, -6.205699920654297, -4.661799907684326, -5.751800060272217, -4.8541998863220215, -6.220300197601318, -6.3231000900268555, -5.818299770355225, -7.251200199127197, -7.402500152587891, -6.572299957275391, -6.707499980926514, -5.673799991607666, -7.548699855804443, -7.322800159454346, -7.783100128173828, -7.6066999435424805, -7.788599967956543, -7.61269998550415, -7.929100036621094, -7.236299991607666, -8.23799991607666, -7.902500152587891, -8.351400375366211, -8.412500381469727, -7.950399875640869, -8.480199813842773, -8.621600151062012, -8.697400093078613, -8.42710018157959, -8.429400444030762, -8.321200370788574, -6.908400058746338, -5.571800231933594, -5.66949987411499, -7.785200119018555, -5.15310001373291, -6.9756999015808105, -6.750800132751465, -5.297500133514404, -4.683800220489502, -5.582799911499023, -5.962500095367432, -5.4197001457214355, -6.3007001876831055, -5.01800012588501, -5.330999851226807, -5.65369987487793, -6.030900001525879, -5.365600109100342, -5.19890022277832, -5.192500114440918, -6.060699939727783, -5.579500198364258, -5.520999908447266, -5.322500228881836, -6.013999938964844, -5.5731000900268555, -5.908299922943115, -5.843999862670898, -5.8821001052856445, -5.53439998626709, -5.769199848175049, -5.872099876403809, -5.91480016708374, -5.818999767303467, -5.8815999031066895, -5.899199962615967, -5.354300022125244, -7.106200218200684, -6.882599830627441, -5.7058000564575195, -4.8119001388549805, -7.337900161743164, -6.109399795532227, -5.33519983291626, -6.69890022277832, -6.298099994659424, -8.327500343322754, -8.063799858093262, -5.480199813842773, -6.054599761962891, -7.939599990844727, -7.037099838256836, -6.5894999504089355, -4.187699794769287, -6.39900016784668, -6.92519998550415, -8.277099609375, -8.48639965057373, -4.658699989318848, -7.990099906921387, -6.390999794006348, -8.916799545288086, -8.921199798583984, -8.924500465393066, -7.48769998550415, -8.769399642944336, -7.046500205993652, -8.23490047454834, -7.240600109100342, -6.223700046539307, -6.755099773406982, -5.1367998123168945, -6.094099998474121, -6.889200210571289, -7.56850004196167, -6.549300193786621, -5.513700008392334, -6.707300186157227, -6.223999977111816, -5.305600166320801, -6.197800159454346, -5.251200199127197, -5.5802998542785645, -5.339200019836426, -5.292900085449219, -5.745500087738037, -5.357999801635742, -5.3084001541137695, -5.576600074768066, -5.569900035858154, -5.4293999671936035, -5.432400226593018, -5.345600128173828, -5.71999979019165, -5.762499809265137, -5.850800037384033, -5.769899845123291, -5.814499855041504, -5.7357001304626465, -5.819200038909912, -5.90500020980835, -6.8368000984191895, -6.9085001945495605, -7.218599796295166, -6.156899929046631, -6.9583001136779785, -7.905600070953369, -8.130999565124512, -7.850399971008301, -8.403800010681152, -6.940800189971924, -5.745800018310547, -7.7866997718811035, -6.870100021362305, -7.145299911499023, -7.100100040435791, -8.173100471496582, -6.986000061035156, -8.593299865722656, -5.466700077056885, -8.612099647521973, -7.367099761962891, -4.516900062561035, -7.7179999351501465, -5.939000129699707, -7.8993000984191895, -8.395099639892578, -8.3996000289917, -8.51710033416748, -7.988800048828125, -7.776800155639648, -6.617499828338623, -7.295899868011475, -5.73799991607666, -7.472099781036377, -6.067599773406982, -6.835599899291992, -5.751800060272217, -6.098899841308594, -5.679200172424316, -5.942999839782715, -4.648900032043457, -6.904300212860107, -6.018700122833252, -5.464700222015381, -5.906199932098389, -7.003799915313721, -5.025300025939941, -5.3165998458862305, -5.155099868774414, -5.466899871826172, -5.464900016784668, -5.377999782562256, -5.539599895477295, -5.403500080108643, -5.231100082397461, -5.70959997177124, -6.0106000900268555, -5.33620023727417, -5.5792999267578125, -5.68720006942749, -5.835000038146973, -5.627299785614014, -5.694900035858154, -5.5346999168396, -5.631499767303467, -5.63640022277832, -5.7484002113342285, -5.706699848175049, -5.7347002029418945, -5.742199897766113, -8.234399795532227, -8.116299629211426, -7.474699974060059, -8.240500450134277, -7.0991997718811035, -8.396400451660156, -8.398799896240234, -8.567500114440918, -8.571200370788574, -8.5802001953125, -8.179200172424316, -8.455599784851074, -8.612500190734863, -8.458100318908691, -8.467399597167969, -8.111599922180176, -8.636500358581543, -8.47920036315918, -8.646900177001953, -8.516400337219238, -8.404800415039062, -8.567899703979492, -8.419699668884277, -8.402299880981445, -8.4173002243042, -8.312000274658203, -8.3326997756958, -8.728099822998047, -8.453800201416016, -8.61139965057373, -6.986800193786621, -7.5472002029418945, -7.748000144958496, -7.171299934387207, -7.659200191497803, -6.467400074005127, -6.7652997970581055, -7.3078999519348145, -5.690000057220459, -6.550899982452393, -7.908299922943115, -5.82420015335083, -5.7932000160217285, -6.691699981689453, -7.529799938201904, -6.061999797821045, -5.938799858093262, -6.8831000328063965, -6.627500057220459, -7.080100059509277, -5.418799877166748, -5.537499904632568, -5.826399803161621, -5.9120001792907715, -5.447999954223633, -6.571000099182129, -5.935200214385986, -6.30709981918335, -4.889200210571289, -6.287700176239014, -5.541100025177002, -5.549300193786621, -5.126500129699707, -5.457699775695801, -5.866300106048584, -5.419899940490723, -5.467599868774414, -5.647600173950195, -6.209700107574463, -5.933800220489502, -5.4745001792907715, -5.901400089263916, -5.490900039672852, -5.552800178527832, -5.649700164794922, -5.819799900054932, -5.969299793243408, -6.0416998863220215, -5.956299781799316, -6.057799816131592, -7.454500198364258, -5.858099937438965, -5.0395002365112305, -6.196100234985352, -6.671800136566162, -6.056300163269043, -8.094400405883789, -7.560100078582764, -5.823999881744385, -7.2403998374938965, -6.370500087738037, -8.22719955444336, -7.815800189971924, -5.891300201416016, -7.436100006103516, -8.027700424194336, -4.368100166320801, -4.5792999267578125, -6.853300094604492, -4.100200176239014, -5.852099895477295, -8.295000076293945, -7.9593000411987305, -5.55210018157959, -7.762199878692627, -7.234499931335449, -8.241100311279297, -7.294099807739258, -8.65410041809082, -8.230899810791016, -3.713099956512451, -4.398600101470947, -4.534900188446045, -7.170100212097168, -6.060699939727783, -5.520400047302246, -5.4085001945495605, -7.00540018081665, -4.769199848175049, -5.997499942779541, -5.154399871826172, -5.712500095367432, -5.3983001708984375, -5.242700099945068, -4.670199871063232, -5.131100177764893, -5.6016998291015625, -4.812699794769287, -5.055500030517578, -5.083399772644043, -5.292200088500977, -5.592800140380859, -5.477799892425537, -5.686200141906738, -5.524199962615967, -5.504300117492676, -5.545199871063232, -5.656400203704834, -5.673600196838379, -5.693699836730957, -8.369400024414062, -6.725900173187256, -7.333700180053711, -8.385199546813965, -8.228599548339844, -8.046799659729004, -8.361700057983398, -8.572799682617188, -8.415300369262695, -7.5046000480651855, -7.72130012512207, -8.58240032196045, -8.206700325012207, -7.803599834442139, -8.489100456237793, -8.644499778747559, -8.63010025024414, -8.21090030670166, -8.629899978637695, -8.674699783325195, -6.109799861907959, -8.12279987335205, -6.346199989318848, -8.514900207519531, -8.69219970703125, -8.39050006866455, -8.53339958190918, -8.60669994354248, -8.61989974975586, -8.119600296020508, -6.796800136566162, -7.950500011444092, -7.195799827575684, -6.270299911499023, -6.914000034332275, -5.661399841308594, -6.159800052642822, -7.107900142669678, -8.132800102233887, -5.873700141906738, -5.173399925231934, -6.216599941253662, -7.959499835968018, -4.8155999183654785, -6.266499996185303, -5.78380012512207, -6.104000091552734, -6.093699932098389, -5.214000225067139, -5.732600212097168, -6.139400005340576, -5.99370002746582, -5.775300025939941, -6.630899906158447, -5.412399768829346, -5.629799842834473, -5.9679999351501465, -5.492300033569336, -5.601099967956543, -5.4191999435424805, -5.884399890899658, -5.940499782562256, -6.218200206756592, -5.970600128173828, -6.061100006103516, -5.972799777984619, -5.7519001960754395, -5.96019983291626, -5.9380998611450195, -5.929999828338623, -6.023200035095215, -6.063199996948242, -6.049200057983398, -7.309199810028076, -7.683499813079834, -8.345800399780273, -8.350099563598633, -7.943699836730957, -8.449399948120117, -8.345999717712402, -8.340800285339355, -8.49120044708252, -8.364299774169922, -8.357999801635742, -8.127400398254395, -4.846799850463867, -8.069899559020996, -8.268500328063965, -4.924699783325195, -8.645099639892578, -7.9980998039245605, -8.36970043182373, -8.649100303649902, -7.914299964904785, -8.347999572753906, -8.650699615478516, -8.270099639892578, -8.411199569702148, -8.637399673461914, -8.626999855041504, -8.641300201416016, -8.790200233459473, -8.628899574279785, -8.402899742126465, -8.402799606323242, -8.184300422668457, -7.991399765014648, -7.810699939727783, -7.052499771118164, -4.879899978637695, -5.002999782562256, -4.34499979019165, -6.558599948883057, -7.747099876403809, -7.452700138092041, -6.911200046539307, -6.325799942016602, -5.318999767303467, -4.716800212860107, -6.568999767303467, -5.1468000411987305, -5.716100215911865, -5.459799766540527, -6.363999843597412, -5.748799800872803, -6.962699890136719, -5.240099906921387, -5.025199890136719, -5.734399795532227, -5.811100006103516, -5.681000232696533, -6.2221999168396, -5.67080020904541, -5.176400184631348, -5.036900043487549, -6.1066999435424805, -5.139400005340576, -5.875400066375732, -5.70359992980957, -5.783899784088135, -5.299200057983398, -5.379700183868408, -5.53849983215332, -5.700900077819824, -5.733399868011475, -5.602200031280518, -5.855299949645996, -5.656700134277344, -5.503499984741211, -5.625100135803223, -5.781499862670898, -6.666399955749512, -7.098499774932861, -7.364299774169922, -6.900400161743164, -7.462299823760986, -7.5269999504089355, -7.720600128173828, -7.581099987030029, -7.349800109863281, -6.878200054168701, -5.981200218200684, -6.517499923706055, -7.246699810028076, -7.802499771118164, -7.82889986038208, -7.708799839019775, -5.607900142669678, -7.291600227355957, -8.002400398254395, -7.707099914550781, -6.013400077819824, -8.006799697875977, -7.7270002365112305, -6.335100173950195, -8.018400192260742, -7.084199905395508, -6.9654998779296875, -7.922699928283691, -8.044500350952148, -8.04419994354248, -5.081299781799316, -7.147900104522705, -5.835899829864502, -5.498799800872803, -6.462600231170654, -6.356800079345703, -4.279699802398682, -6.1890997886657715, -6.437600135803223, -5.542600154876709, -5.916200160980225, -6.27810001373291, -6.3043999671936035, -5.58050012588501, -5.886499881744385, -6.1442999839782715, -6.48960018157959, -6.826000213623047, -6.548099994659424, -4.960000038146973, -5.288599967956543, -5.89769983291626, -5.555799961090088, -5.621699810028076, -6.192699909210205, -5.4899001121521, -5.499800205230713, -5.59060001373291, -5.7453999519348145, -6.092400074005127, -6.0065999031066895, -5.921999931335449, -5.924699783325195, -5.956299781799316, -5.945400238037109, -5.926599979400635, -6.049799919128418, -6.048500061035156, -6.0503997802734375, -6.074699878692627, -6.9695000648498535, -7.498499870300293, -8.030500411987305, -7.789599895477295, -6.94950008392334, -8.019499778747559, -8.043600082397461, -8.028400421142578, -7.593699932098389, -7.859399795532227, -8.0378999710083, -6.865499973297119, -7.614699840545654, -8.074999809265137, -7.382699966430664, -7.7631001472473145, -7.660999774932861, -8.09179973602295, -7.39709997177124, -7.935400009155273, -8.025300025939941, -8.025500297546387, -6.833499908447266, -7.656300067901611, -7.632400035858154, -7.860400199890137, -8.040900230407715, -7.645100116729736, -8.05270004272461, -7.687900066375732, -7.055799961090088, -7.513999938964844, -7.180300235748291, -7.048399925231934, -6.475100040435791, -6.837500095367432, -7.1981000900268555, -7.536300182342529, -7.520599842071533, -5.743599891662598, -7.024799823760986, -5.146599769592285, -4.999899864196777, -6.797699928283691, -6.9415998458862305, -5.79640007019043, -5.3582000732421875, -6.795499801635742, -6.908999919891357, -6.9552001953125, -6.170400142669678, -5.375199794769287, -5.358099937438965, -6.575699806213379, -5.723899841308594, -5.758699893951416, -5.985300064086914, -5.840199947357178, -5.692999839782715, -5.668099880218506, -5.86269998550415, -5.515399932861328, -5.4232001304626465, -5.500400066375732, -5.8719000816345215, -6.0370001792907715, -6.1149001121521, -6.0370001792907715, -5.953700065612793, -6.135700225830078, -6.0665998458862305, -6.061600208282471, -5.901400089263916, -6.170199871063232, -6.224100112915039, -6.127799987792969, -6.188499927520752, -7.144899845123291, -6.171999931335449, -6.024899959564209, -7.41540002822876, -7.623300075531006, -7.543600082397461, -7.507500171661377, -7.4552998542785645, -7.171800136566162, -7.619800090789795, -7.814599990844727, -7.111199855804443, -7.829899787902832, -7.1315999031066895, -7.51200008392334, -7.807499885559082, -7.917399883270264, -7.221700191497803, -7.920100212097168, -7.807799816131592, -7.95389986038208, -7.254799842834473, -7.81279993057251, -7.660200119018555, -6.867099761962891, -7.812900066375732, -7.434700012207031, -7.478799819946289, -7.5671000480651855, -7.80709981918335, -7.506800174713135, -6.556700229644775, -6.7881999015808105, -7.445300102233887, -6.935100078582764, -7.196899890899658, -4.943999767303467, -5.324399948120117, -6.695899963378906, -6.164700031280518, -4.668799877166748, -6.782599925994873, -6.456999778747559, -6.696100234985352, -5.161600112915039, -4.980400085449219, -5.222300052642822, -6.041500091552734, -4.95959997177124, -6.3242998123168945, -5.161099910736084, -6.060999870300293, -5.994200229644775, -5.615799903869629, -5.227200031280518, -6.146699905395508, -5.435200214385986, -5.578800201416016, -6.309999942779541, -6.4344000816345215, -5.809800148010254, -5.584700107574463, -5.910299777984619, -5.893599987030029, -5.8684000968933105, -5.83489990234375, -5.9893999099731445, -6.1118998527526855, -5.757699966430664, -5.862199783325195, -6.150000095367432, -5.988800048828125, -6.008999824523926, -6.002500057220459, -5.992000102996826, -6.051700115203857, -6.046800136566162, -6.515399932861328, -6.306000232696533, -6.967899799346924, -6.339399814605713, -6.923399925231934, -7.382400035858154, -7.374599933624268, -6.458000183105469, -7.164299964904785, -7.310299873352051, -7.305500030517578, -7.3059000968933105, -6.169300079345703, -7.339900016784668, -7.345799922943115, -7.344699859619141, -6.909200191497803, -6.975900173187256, -7.3206000328063965, -7.544099807739258, -7.301199913024902, -7.302800178527832, -7.322999954223633, -7.5696001052856445, -7.5904998779296875, -7.350399971008301, -6.928899765014648, -7.4953999519348145, -7.625899791717529, -7.411399841308594, -6.909299850463867, -6.934899806976318, -5.734899997711182, -6.947800159454346, -6.368899822235107, -6.9517998695373535, -4.842800140380859, -6.669099807739258, -5.568699836730957, -5.08620023727417, -6.951200008392334, -6.188499927520752, -5.938300132751465, -6.2399001121521, -4.6468000411987305, -5.579500198364258, -6.085700035095215, -6.160299777984619, -6.279200077056885, -5.747700214385986, -5.013700008392334, -6.483099937438965, -5.862800121307373, -6.004899978637695, -5.605999946594238, -5.238500118255615, -6.415999889373779, -5.876399993896484, -6.171899795532227, -5.6483001708984375, -5.6894001960754395, -6.102700233459473, -5.876500129699707, -5.8709001541137695, -5.916999816894531, -5.927000045776367, -5.947999954223633, -5.947400093078613, -6.031099796295166, -6.086299896240234, -6.12939977645874, -6.089099884033203, -6.147200107574463, -6.149099826812744, -6.218100070953369, -7.1722002029418945, -7.230100154876709, -6.743199825286865, -7.161200046539307, -7.251999855041504, -7.1645002365112305, -7.170100212097168, -6.646699905395508, -7.115300178527832, -4.889800071716309, -7.333600044250488, -7.825300216674805, -7.826099872589111, -7.826099872589111, -7.826000213623047, -7.832499980926514, -7.830999851226807, -7.822800159454346, -7.822000026702881, -7.296800136566162, -5.815000057220459, -7.833899974822998, -7.8267998695373535, -7.8282999992370605, -7.828199863433838, -7.821700096130371, -7.917099952697754, -7.614699840545654, -7.831999778747559, -7.030399799346924, -7.172100067138672, -6.498899936676025, -3.8919999599456787, -7.181000232696533, -5.69189977645874, -6.497399806976318, -7.277699947357178, -5.060100078582764, -5.68120002746582, -5.46019983291626, -6.0121002197265625, -5.838799953460693, -7.102399826049805, -4.844600200653076, -4.434000015258789, -5.7779998779296875, -4.514599800109863, -6.298299789428711, -4.414100170135498, -5.886099815368652, -5.342199802398682, -5.408400058746338, -4.65749979019165, -5.162199974060059, -5.764800071716309, -5.114500045776367, -5.234799861907959, -5.440899848937988, -5.555099964141846, -5.580999851226807, -5.997799873352051, -5.067200183868408, -5.519400119781494, -5.192399978637695, -5.412799835205078, -5.690000057220459, -5.733500003814697, -5.60860013961792, -5.653500080108643, -5.480899810791016, -5.660799980163574, -5.623600006103516, -5.6774001121521, -5.651700019836426, -6.311600208282471, -7.10830020904541, -6.716300010681152, -7.104700088500977, -6.415800094604492, -7.1234002113342285, -6.803400039672852, -7.168799877166748, -7.11329984664917, -7.108699798583984, -6.442299842834473, -6.718299865722656, -7.1149001121521, -7.109099864959717, -7.111100196838379, -7.767899990081787, -7.15310001373291, -7.115699768066406, -7.172299861907959, -7.7829999923706055, -7.77400016784668, -7.769199848175049, -7.769400119781494, -7.770100116729736, -7.768899917602539, -7.774600028991699, -7.770299911499023, -7.769899845123291, -7.772900104522705, -7.772500038146973, -6.758900165557861, -7.103700160980225, -7.480999946594238, -7.309999942779541, -7.216000080108643, -6.593299865722656, -6.327899932861328, -6.131199836730957, -5.95359992980957, -6.712500095367432, -7.426199913024902, -6.435500144958496, -6.774700164794922, -5.997799873352051, -6.043300151824951, -5.436399936676025, -6.285600185394287, -6.438300132751465, -6.614799976348877, -6.0665998458862305, -5.895699977874756, -5.889999866485596, -6.107900142669678, -5.886000156402588, -6.03249979019165, -5.446599960327148, -5.693999767303467, -5.75570011138916, -5.875699996948242, -5.623199939727783, -5.708199977874756, -5.510900020599365, -6.034599781036377, -5.682000160217285, -6.136199951171875, -5.940000057220459, -5.667699813842773, -6.084799766540527, -5.856599807739258, -6.014699935913086, -5.885799884796143, -6.017099857330322, -5.909800052642822, -5.975299835205078, -5.968999862670898, -6.031700134277344, -6.05679988861084, -6.041800022125244, -6.062699794769287, -5.818600177764893, -6.141600131988525, -6.517000198364258, -6.427800178527832, -6.410200119018555, -5.801799774169922, -5.9969000816345215, -5.9552998542785645, -6.654600143432617, -5.9496002197265625, -6.028600215911865, -6.846099853515625, -6.471799850463867, -5.851200103759766, -6.425000190734863, -6.560500144958496, -7.4303998947143555, -7.228099822998047, -6.483500003814697, -7.085400104522705, -6.581399917602539, -6.244200229644775, -6.678199768066406, -6.0507001876831055, -7.81820011138916, -6.950200080871582, -6.415800094604492, -7.135200023651123, -7.152599811553955, -7.034299850463867, -7.210299968719482, -6.767300128936768, -7.088600158691406, -7.167399883270264]}, \"token.table\": {\"Topic\": [1, 3, 10, 13, 6, 8, 13, 3, 4, 2, 5, 6, 7, 10, 4, 5, 7, 9, 10, 11, 12, 2, 3, 6, 8, 11, 12, 13, 2, 8, 13, 3, 10, 13, 14, 1, 7, 8, 9, 11, 14, 2, 4, 1, 7, 11, 5, 10, 7, 9, 12, 1, 2, 3, 4, 5, 6, 7, 10, 4, 1, 7, 9, 1, 2, 3, 4, 5, 6, 7, 8, 9, 10, 11, 12, 13, 14, 4, 7, 9, 2, 10, 13, 1, 7, 14, 1, 8, 10, 13, 1, 4, 1, 1, 2, 3, 4, 5, 6, 7, 8, 9, 10, 11, 1, 2, 3, 4, 5, 6, 7, 8, 9, 10, 11, 12, 14, 1, 3, 12, 13, 2, 4, 8, 11, 1, 7, 9, 1, 7, 9, 13, 2, 4, 10, 1, 3, 7, 14, 1, 2, 12, 1, 3, 4, 7, 1, 2, 3, 4, 5, 6, 7, 8, 9, 10, 14, 3, 4, 12, 14, 1, 9, 1, 2, 3, 4, 5, 6, 7, 8, 9, 10, 11, 12, 13, 14, 1, 1, 2, 7, 1, 2, 3, 10, 11, 2, 3, 4, 4, 5, 6, 9, 12, 1, 2, 6, 8, 9, 2, 6, 3, 6, 4, 7, 9, 10, 1, 3, 5, 7, 9, 11, 14, 1, 2, 3, 4, 5, 6, 7, 8, 9, 10, 11, 12, 1, 2, 4, 11, 1, 8, 1, 5, 14, 5, 6, 10, 11, 1, 2, 12, 1, 2, 3, 2, 3, 1, 10, 2, 4, 10, 1, 2, 3, 4, 5, 7, 9, 1, 2, 3, 4, 5, 6, 7, 8, 9, 10, 11, 13, 14, 5, 2, 13, 1, 5, 7, 9, 12, 1, 14, 2, 3, 3, 1, 2, 3, 7, 8, 13, 1, 2, 3, 4, 5, 6, 7, 8, 9, 10, 11, 12, 14, 1, 2, 4, 5, 9, 10, 11, 4, 10, 7, 8, 13, 1, 2, 3, 4, 5, 6, 7, 8, 10, 13, 14, 4, 5, 9, 14, 1, 3, 2, 3, 1, 3, 4, 11, 2, 3, 1, 2, 3, 4, 5, 7, 8, 9, 10, 11, 14, 1, 3, 5, 6, 7, 8, 10, 11, 12, 4, 7, 10, 2, 3, 1, 5, 12, 2, 6, 1, 4, 5, 7, 9, 11, 12, 1, 2, 3, 4, 5, 6, 7, 9, 10, 14, 2, 6, 8, 1, 4, 5, 9, 14, 1, 8, 10, 12, 1, 2, 3, 4, 5, 6, 7, 8, 9, 10, 11, 12, 13, 14, 5, 7, 9, 11, 1, 2, 3, 4, 5, 6, 7, 8, 9, 10, 11, 12, 14, 2, 2, 8, 5, 7, 1, 2, 3, 7, 1, 5, 7, 9, 12, 1, 2, 3, 4, 5, 6, 7, 8, 9, 10, 11, 12, 13, 14, 4, 9, 4, 9, 11, 1, 2, 3, 4, 5, 6, 7, 8, 9, 10, 11, 12, 14, 1, 9, 1, 2, 3, 4, 5, 6, 7, 8, 9, 10, 11, 14, 5, 6, 7, 2, 3, 10, 4, 3, 7, 8, 10, 11, 1, 2, 3, 4, 5, 6, 7, 8, 9, 11, 12, 14, 3, 7, 8, 11, 12, 14, 2, 3, 6, 8, 6, 8, 1, 7, 12, 2, 3, 6, 7, 8, 1, 5, 7, 8, 9, 10, 11, 3, 8, 11, 1, 7, 2, 6, 8, 2, 3, 2, 3, 4, 5, 7, 8, 11, 2, 1, 2, 3, 4, 5, 6, 7, 8, 9, 10, 11, 12, 13, 14, 5, 1, 2, 10, 11, 1, 7, 9, 1, 2, 3, 7, 1, 8, 11, 1, 11, 2, 9, 10, 2, 6, 13, 2, 6, 8, 13, 1, 2, 3, 4, 5, 6, 7, 8, 10, 5, 3, 7, 5, 11, 3, 8, 14, 1, 2, 3, 4, 7, 11, 1, 12, 1, 2, 5, 7, 12, 1, 2, 3, 4, 5, 6, 7, 8, 9, 10, 11, 12, 13, 14, 1, 2, 3, 5, 6, 7, 8, 9, 10, 11, 14, 1, 12, 2, 6, 1, 2, 3, 4, 6, 8, 1, 5, 1, 4, 5, 7, 9, 11, 1, 4, 5, 7, 8, 10, 12, 14, 7, 1, 11, 1, 7, 5, 1, 3, 4, 5, 7, 9, 11, 12, 1, 8, 12, 2, 3, 6, 7, 8, 9, 12, 2, 3, 1, 2, 3, 4, 5, 6, 7, 8, 9, 10, 11, 12, 14, 1, 2, 3, 4, 2, 1, 2, 3, 4, 5, 6, 7, 8, 9, 10, 11, 12, 13, 14, 1, 2, 3, 4, 5, 6, 7, 8, 9, 10, 11, 12, 13, 14, 7, 8, 9, 12, 2, 3, 8, 10, 1, 1, 2, 5, 8, 3, 4, 5, 2, 3, 1, 5, 9, 1, 2, 4, 5, 7, 8, 9, 10, 3, 5, 7, 10, 11, 4, 9, 2, 1, 5, 7, 8, 10, 11, 13, 2, 11, 14, 3, 7, 13, 1, 9, 2, 3, 8, 1, 2, 8, 11, 3, 5, 7, 8, 13, 6, 8, 1, 11, 12, 2, 1, 2, 4, 5, 7, 11, 2, 6, 8, 1, 2, 3, 4, 5, 6, 7, 8, 9, 10, 11, 12, 14, 1, 2, 3, 5, 7, 8, 10, 11, 12, 1, 4, 5, 7, 9, 4, 8, 3, 8, 11, 5, 12, 14, 5, 8, 10, 1, 2, 3, 4, 5, 10, 11, 1, 2, 4, 5, 6, 7, 8, 6, 8, 12, 13, 1, 2, 3, 4, 7, 9, 1, 7, 10, 1, 2, 3, 4, 8, 1, 2, 3, 4, 6, 10, 2, 6, 7, 8, 13, 2, 6, 1, 3, 5, 7, 8, 9, 11, 2, 3, 6, 7, 8, 11, 13, 1, 2, 3, 4, 7, 9, 10, 11, 1, 2, 3, 6, 8, 1, 3, 4, 5, 6, 7, 8, 9, 10, 11, 12, 14, 2, 6, 8, 3, 3, 9, 11, 1, 3, 4, 5, 7, 9, 10, 11, 13, 1, 2, 3, 6, 10, 13, 4, 1, 4, 5, 7, 9, 12, 14, 1, 5, 7, 8, 9, 11, 12, 1, 1, 2, 3, 4, 5, 6, 7, 8, 9, 10, 11, 12, 13, 5, 8, 14, 3, 5, 2, 1, 11, 14, 3, 1, 2, 3, 4, 6, 7, 8, 1, 2, 3, 4, 5, 6, 7, 8, 9, 10, 11, 12, 2, 4, 5, 7, 9, 12, 1, 7, 10, 12, 1, 2, 3, 4, 5, 6, 7, 8, 9, 10, 11, 12, 14, 1, 3, 4, 5, 7, 8, 9, 10, 11, 1, 2, 3, 4, 5, 6, 7, 8, 9, 10, 11, 12, 13, 14, 1, 5, 6, 7, 8, 10, 2, 3, 4, 5, 6, 7, 8, 9, 10, 11, 13, 1, 4, 5, 7, 8, 9, 11, 12, 1, 2, 3, 4, 5, 6, 7, 8, 9, 10, 11, 12, 13, 14, 2, 3, 1, 3, 7, 8, 10, 11, 14, 1, 4, 6, 13, 1, 2, 3, 4, 5, 6, 7, 8, 9, 10, 11, 12, 13, 1, 1, 2, 3, 4, 5, 6, 8, 10, 12, 13, 1, 2, 3, 4, 5, 6, 7, 8, 9, 10, 11, 12, 13, 14, 3, 4, 8, 12, 1, 2, 3, 4, 5, 6, 7, 8, 9, 10, 11, 12, 13, 14, 2, 3, 1, 5, 9, 11, 5, 7, 14, 1, 3, 5, 9, 13, 7, 9, 3, 5, 6, 12, 2, 3, 1, 5, 7, 12, 14, 3, 7, 10, 1, 3, 4, 5, 6, 7, 9, 11, 14, 1, 2, 4, 9, 7, 10, 14, 1, 2, 3, 6, 13, 2, 1, 4, 5, 9, 14, 3, 8, 2, 3, 1, 1, 3, 10, 7, 1, 4, 7, 9, 14, 1, 1, 2, 3, 5, 6, 7, 8, 2, 4, 7, 11, 1, 3, 4, 5, 7, 8, 9, 10, 11, 12, 14, 1, 2, 3, 4, 5, 6, 7, 8, 9, 11, 13, 14, 4, 5, 9, 5, 8, 4, 5, 11, 14, 1, 3, 4, 5, 9, 7, 12, 1, 2, 3, 4, 5, 6, 7, 8, 9, 10, 2, 3, 10, 3, 1, 4, 5, 9, 12, 1, 5, 1, 2, 3, 4, 5, 6, 7, 8, 11, 12, 13, 14, 1, 3, 5, 7, 5, 1, 3, 5, 7, 8, 9, 10, 11, 14, 1, 8, 1, 4, 8, 12, 1, 2, 3, 4, 5, 6, 7, 8, 9, 10, 11, 12, 13, 1, 4, 10, 12, 1, 2, 3, 4, 5, 6, 7, 8, 9, 10, 11, 12, 14, 2, 6, 8, 13, 1, 5, 12, 5, 7, 1, 2, 3, 4, 5, 6, 7, 8, 9, 10, 11, 12, 13, 14, 1, 2, 3, 4, 5, 6, 7, 8, 9, 10, 11, 13, 14, 1, 2, 3, 4, 5, 6, 7, 8, 9, 10, 12, 13, 14, 1, 2, 4, 5, 6, 7, 9, 11, 1, 3, 5, 6, 7, 8, 10, 11, 12, 1, 2, 3, 4, 5, 6, 7, 8, 9, 10, 11, 12, 13, 14, 1, 9, 11, 14, 1, 6, 7, 1, 2, 3, 4, 5, 6, 7, 8, 9, 11, 12, 1, 2, 3, 4, 5, 6, 7, 8, 9, 10, 11, 12, 13, 14, 1, 2, 3, 4, 5, 6, 7, 8, 9, 10, 11, 12, 14, 1, 3, 7, 10, 11, 14, 4, 1, 2, 3, 4, 5, 6, 7, 8, 9, 10, 11, 12, 13, 14, 1, 5, 7, 8, 10, 7, 10, 11, 1, 2, 3, 4, 5, 6, 7, 8, 10, 11, 12, 13, 14, 1, 2, 3, 4, 5, 6, 7, 8, 9, 10, 11, 12, 2, 2, 3, 5, 6, 7, 8, 13, 14, 2, 6, 8, 13, 4, 8, 1, 2, 3, 4, 5, 6, 7, 8, 9, 10, 11, 12, 13, 14, 1, 2, 4, 5, 11, 1, 2, 3, 4, 5, 6, 7, 8, 9, 10, 11, 12, 13, 14, 1, 2, 3, 4, 5, 6, 7, 8, 9, 10, 11, 12, 14, 1, 2, 3, 4, 5, 6, 7, 8, 9, 10, 11, 12, 13, 14, 1, 5, 9, 1, 3, 5, 14, 2, 3, 3, 4, 5, 7, 8, 13, 2, 6, 8, 13, 1, 2, 3, 4, 5, 6, 7, 8, 9, 10, 11, 12, 13, 1, 2, 3, 4, 5, 6, 7, 8, 9, 10, 11, 12, 13, 14, 1, 3, 5, 7, 8, 11, 14, 1, 2, 3, 4, 5, 6, 7, 8, 9, 10, 11, 12, 13, 14, 1, 4, 1, 4, 7, 10, 13, 14, 2, 3, 1, 2, 3, 1, 9, 11, 12, 14, 1, 2, 3, 4, 5, 6, 7, 8, 10, 11, 13, 7, 10, 5, 1, 3, 6, 7, 8, 1, 7, 8, 10, 11, 1, 5, 9, 10, 11, 12, 2, 5, 7, 14, 2, 3, 12, 2, 8, 13, 2, 3, 8, 1, 2, 7, 10, 14, 1, 11, 2, 3, 6, 7, 8, 9, 14, 1, 2, 5, 8, 13, 4, 5, 10, 11, 2, 3, 4, 5, 8, 10, 11, 14, 1, 2, 14, 5, 12, 9, 10, 12, 14, 2, 6, 8, 1, 7, 9, 10, 11, 12, 5, 14, 1, 9, 10, 2, 3, 4, 6, 8, 1, 2, 3, 4, 5, 6, 7, 8, 9, 10, 11, 12, 13, 14, 4, 8, 11, 1, 7, 9, 12, 14, 3, 2, 3, 4, 8, 9, 11, 12, 1, 2, 3, 4, 5, 6, 7, 8, 9, 10, 11, 12, 13, 14, 2, 3, 1, 2, 3, 4, 5, 6, 7, 8, 9, 10, 13, 3, 7, 1, 5, 9, 1, 3, 4, 5, 7, 8, 9, 10, 2, 3, 1, 12, 1, 2, 3, 4, 5, 7, 9, 11, 12, 2, 3, 7, 1, 2, 3, 4, 5, 6, 7, 8, 9, 10, 11, 12, 14, 2, 6, 7, 8, 13, 6, 1, 2, 3, 4, 5, 6, 7, 8, 9, 10, 11, 12, 13, 14, 1, 2, 3, 4, 5, 6, 7, 8, 9, 10, 11, 12, 13, 14, 2, 3, 10, 12, 1, 6, 9, 14, 1, 4, 8, 12, 5, 2, 8, 1, 4, 7, 9, 10, 4, 1, 2, 3, 5, 7, 8, 9, 10, 1, 2, 3, 4, 5, 6, 7, 8, 9, 10, 11, 13, 14, 1, 7, 9, 1, 2, 3, 4, 5, 6, 7, 8, 9, 10, 11, 12, 13, 14, 1, 2, 3, 4, 5, 6, 7, 8, 10, 11, 13, 14, 1, 2, 3, 4, 5, 6, 7, 8, 9, 10, 11, 12, 13, 14, 1, 2, 3, 4, 5, 7, 9, 10, 11, 1, 2, 3, 4, 5, 6, 7, 8, 9, 10, 12, 13, 14, 1, 2, 3, 4, 5, 6, 7, 8, 9, 10, 11, 12, 13, 14, 1, 1, 2, 4, 5, 7, 8, 3, 5, 12, 13, 1, 2, 3, 4, 6, 7, 11, 12, 1, 2, 3, 4, 5, 6, 7, 8, 9, 10, 11, 12, 13, 14, 1, 2, 3, 1, 2, 3, 4, 5, 7, 8, 9, 10, 11, 12, 14, 1, 2, 3, 4, 5, 6, 7, 8, 9, 10, 11, 12, 14, 2, 3, 2, 1, 2, 3, 4, 5, 6, 7, 8, 9, 10, 11, 12, 13, 14, 1, 2, 3, 4, 5, 6, 7, 8, 9, 10, 11, 12, 13, 14, 2, 3, 4, 8, 9, 13, 1, 2, 3, 4, 5, 6, 7, 8, 9, 10, 11, 12, 13, 1, 2, 3, 6, 2, 3, 2, 3, 1, 2, 3, 5, 7, 8, 10, 11, 12, 4, 5, 2, 3, 4, 1, 4, 7, 8, 10, 11, 12, 13, 1, 3, 5, 7, 8, 9, 10, 11, 12, 14, 1, 4, 5, 7, 8, 9, 11, 12, 14, 1, 2, 3, 10, 11, 12, 1, 5, 7, 9, 12, 1, 5, 9, 1, 2, 3, 4, 5, 6, 7, 8, 9, 10, 11, 12, 13, 14, 5, 1, 5, 9, 2, 1, 2, 3, 4, 8, 1, 2, 3, 4, 5, 6, 7, 8, 9, 10, 11, 13, 14, 2, 6, 8, 13, 6, 13, 1, 2, 3, 4, 5, 7, 8, 10, 11, 12, 13, 1, 3, 7, 8, 3, 7, 9, 12, 4, 10, 1, 2, 3, 4, 5, 7, 8, 9, 10, 11, 14, 5, 4, 9, 10, 11, 1, 2, 3, 4, 5, 6, 7, 8, 10, 11, 13, 14, 6, 7, 11, 1, 3, 5, 7, 9, 10, 12, 14, 1, 2, 3, 4, 5, 6, 7, 8, 9, 10, 11, 12, 13, 14, 1, 1, 9, 14, 1, 2, 3, 5, 7, 13, 2, 3, 2, 3, 4, 2, 1, 5, 11, 3, 4, 11, 3, 5, 7, 1, 2, 3, 4, 5, 6, 7, 8, 9, 10, 11, 12, 13, 14, 1, 2, 3, 4, 5, 6, 7, 8, 9, 10, 11, 12, 13, 14, 1, 5, 7, 10, 4, 5, 3, 8, 13, 1, 5, 7, 9, 12, 1, 2, 3, 4, 5, 6, 7, 8, 9, 10, 11, 12, 13, 14, 1, 4, 5, 7, 9, 10, 12, 14, 1, 4, 5, 7, 8, 9, 11, 14, 1, 4, 7, 10, 13, 14, 1, 3, 14, 1, 2, 3, 4, 5, 6, 7, 8, 9, 10, 11, 12, 14, 2, 7, 10, 1, 2, 3, 4, 5, 6, 7, 8, 9, 10, 11, 12, 1, 2, 3, 4, 5, 6, 7, 9, 12, 5, 8, 1, 7, 10, 6, 1, 2, 3, 4, 5, 6, 7, 8, 9, 10, 11, 12, 13, 14, 3, 5, 9, 12, 1, 7, 9, 14, 1, 2, 3, 4, 5, 6, 7, 8, 9, 11, 1, 9, 11, 1, 2, 3, 4, 5, 6, 7, 8, 9, 10, 11, 13, 2, 3, 1, 2, 3, 4, 5, 6, 7, 8, 9, 10, 11, 12, 14, 1, 2, 5, 7, 10, 1, 8, 11, 13, 5, 9, 1, 6, 1, 7, 1, 2, 3, 4, 6, 7, 8, 9, 11, 13, 2, 3, 4, 5, 7, 14, 1, 10, 12, 1, 2, 3, 7, 1, 2, 3, 4, 5, 6, 7, 8, 9, 10, 11, 12, 13, 14, 1, 2, 3, 4, 5, 6, 7, 8, 9, 10, 11, 12, 13, 1, 7, 13, 1, 2, 3, 4, 5, 6, 7, 8, 9, 10, 14, 1, 2, 5, 7, 11, 1, 2, 3, 4, 5, 6, 7, 8, 9, 10, 11, 12, 13, 14, 1, 9, 2, 1, 2, 3, 4, 5, 7, 9, 14, 2, 4, 1, 2, 3, 5, 6, 7, 8, 11, 12, 1, 5, 7, 9, 10, 11, 12, 14, 2, 1, 3, 5, 7, 9, 10, 11, 1, 3, 5, 7, 8, 9, 11, 12, 5, 14, 1, 4, 7, 8, 9, 11, 14, 1, 3, 4, 5, 10, 1, 5, 8, 9, 10, 12, 14, 2, 3, 10, 7, 8, 2, 6, 8, 1, 2, 3, 7, 8, 9, 13, 4, 5, 9, 7, 11, 3, 2, 5, 2, 8, 1, 2, 4, 12, 14, 1, 7, 9, 1, 5, 8, 1, 4, 11, 1, 7, 12, 2, 3, 11, 13, 1, 4, 9, 11, 1, 5, 7, 8, 11, 12, 4, 9, 10, 12, 1, 2, 3, 4, 5, 6, 7, 8, 9, 10, 11, 12, 13, 14, 2, 10, 13, 7, 10, 4, 1, 2, 3, 4, 5, 7, 9, 10, 12, 14, 7, 8, 10, 1, 2, 3, 5, 7, 10, 1, 5, 7, 9, 14, 1, 1, 2, 3, 4, 5, 7, 9, 10, 11, 1, 3, 5, 7, 8, 9, 10, 11, 12, 8, 11, 14, 1, 5, 7, 9, 11, 14, 1, 4, 5, 7, 9, 12, 5, 9, 2, 14, 2, 8, 5, 7, 8, 2, 6, 8, 5, 1, 2, 3, 4, 5, 6, 7, 8, 9, 10, 11, 12, 13, 14, 3, 7, 9, 13, 14, 1, 2, 4, 5, 6, 7, 9, 10, 14, 1, 2, 4, 12, 1, 3, 4, 5, 7, 9, 11, 12, 14, 1, 2, 7, 12, 1, 2, 5, 11, 14, 1, 2, 3, 4, 6, 7, 8, 9, 13, 14, 1, 2, 7, 1, 2, 6, 9, 14, 1, 3, 4, 5, 7, 9, 10, 11, 12, 1, 2, 3, 4, 5, 6, 7, 8, 9, 10, 11, 12, 13, 14, 1, 2, 4, 7, 14, 1, 2, 3, 4, 5, 6, 7, 8, 9, 10, 11, 13, 14, 1, 2, 3, 4, 5, 6, 7, 8, 12, 13, 14, 9, 10, 11, 1, 5, 9, 10, 12, 4, 5, 9, 11, 6, 8, 3, 7, 1, 2, 5, 7, 10, 11, 13, 2, 3, 4, 10, 2, 3, 4, 5, 6, 8, 11, 13, 1, 2, 3, 4, 5, 7, 8, 9, 10, 11, 12, 1, 2, 3, 4, 5, 6, 7, 8, 9, 10, 11, 12, 13, 14, 1, 7, 10, 2, 3, 1, 2, 3, 4, 5, 6, 7, 8, 9, 10, 11, 12, 14, 1, 2, 3, 4, 5, 7, 10, 1, 9, 1, 2, 3, 6, 7, 8, 9, 10, 13, 3, 7, 8, 13, 1, 2, 3, 8, 10, 14, 1, 7, 9, 2, 7, 1, 4, 7, 9, 10, 1, 2, 3, 4, 5, 10, 11, 1, 2, 3, 4, 5, 6, 7, 8, 9, 10, 11, 12, 13, 14, 1, 4, 5, 11, 1, 7, 1, 2, 3, 4, 5, 6, 7, 8, 9, 10, 11, 12, 13, 1, 2, 5, 11, 12, 1, 9, 1, 2, 3, 4, 5, 7, 8, 9, 10, 11, 14, 1, 2, 3, 4, 5, 6, 7, 8, 9, 10, 11, 12, 13, 14, 1, 8, 10, 11, 2, 8, 4, 5, 1, 2, 3, 4, 5, 6, 7, 8, 9, 10, 11, 12, 13, 14, 7, 11, 14, 8, 9, 11, 4, 7, 14, 1, 2, 3, 4, 5, 6, 7, 8, 9, 10, 11, 12, 13, 14, 1, 3, 4, 11, 3, 8, 9, 1, 7, 9, 1, 2, 3, 4, 5, 6, 7, 8, 10, 11, 12, 14, 1, 5, 12, 1, 2, 3, 4, 5, 6, 7, 8, 9, 10, 11, 12, 13, 14, 2, 3, 11, 13, 1, 2, 3, 4, 5, 6, 7, 8, 10, 11, 12, 13, 1, 2, 3, 4, 5, 6, 7, 8, 9, 11, 1, 2, 4, 8, 7, 4, 9, 11, 3, 6, 9, 14, 2, 5, 6, 7, 8, 13, 1, 4, 8, 14, 1, 2, 4, 5, 8, 10, 8, 11, 1, 9, 1, 7, 9, 1, 2, 3, 4, 5, 6, 7, 8, 9, 10, 11, 12, 13, 14, 4, 11, 2, 3, 5, 12, 1, 2, 3, 4, 5, 6, 7, 8, 9, 10, 11, 12, 14, 1, 2, 10, 14, 2, 5, 7, 8, 9, 13, 1, 12, 4, 1, 2, 3, 4, 5, 7, 8, 9, 10, 11, 12, 13, 1, 2, 2, 4, 5, 10, 11, 1, 13, 5, 1, 2, 3, 4, 5, 6, 7, 8, 9, 10, 11, 12, 13, 14, 1, 5, 7, 9, 12, 14, 1, 2, 3, 4, 5, 6, 7, 8, 9, 10, 11, 12, 14, 1, 6, 1, 5, 6, 10, 1, 2, 3, 4, 5, 6, 7, 9, 14, 3, 10, 14, 1, 7, 12, 1, 2, 5, 6, 10, 1, 2, 5, 9, 12, 1, 5, 9, 12, 3, 7, 13, 1, 2, 3, 4, 5, 6, 7, 8, 11, 13, 14, 3, 8, 1, 2, 3, 4, 5, 6, 7, 8, 9, 10, 11, 12, 13, 14, 2, 6, 8, 13, 5, 7, 8, 1, 2, 9, 14, 8, 10, 11, 1, 2, 6, 7, 8, 1, 4, 13, 1, 4, 9, 13, 14, 1, 3, 5, 1, 4, 7, 8, 12, 1, 2, 3, 4, 5, 6, 7, 8, 9, 10, 12, 14, 5, 8, 9, 2, 6, 13, 1, 4, 5, 6, 7, 9, 11, 1, 2, 3, 5, 9, 14, 1, 2, 3, 4, 5, 6, 7, 8, 9, 10, 11, 12, 13, 14, 1, 2, 4, 5, 7, 9, 5, 7, 9, 10, 14, 1, 7, 11, 1, 11, 14, 2, 5, 9, 14, 1, 2, 3, 4, 5, 6, 7, 8, 9, 10, 11, 12, 13, 14, 1, 2, 3, 4, 5, 6, 7, 8, 9, 10, 11, 12, 14, 1, 2, 3, 4, 5, 6, 7, 8, 9, 10, 11, 12, 13, 14, 1, 2, 3, 4, 5, 6, 7, 8, 11, 13, 4, 5, 9, 10, 11, 12, 1, 2, 3, 4, 5, 6, 7, 8, 9, 10, 11, 12, 13, 14, 1, 2, 3, 4, 6, 7, 8, 10, 13, 4, 5, 6, 12, 14, 1, 2, 3, 4, 5, 6, 7, 8, 9, 10, 11, 12, 13, 14, 5, 5, 7, 9, 14, 1, 3, 7, 9, 14, 1, 2, 3, 4, 5, 6, 7, 8, 9, 10, 11, 12, 14, 1, 2, 3, 7, 10, 12, 2, 3, 7, 8, 1, 2, 3, 4, 5, 6, 7, 8, 11, 14, 1, 3, 5, 12, 2, 5, 1, 2, 3, 4, 5, 6, 7, 9, 10, 11, 2, 6, 8, 9, 1, 2, 3, 4, 5, 6, 9, 14, 1, 2, 3, 4, 5, 6, 7, 8, 10, 11, 1, 3, 5, 8, 10, 11, 2, 1, 2, 3, 4, 6, 7, 8, 10, 11, 12, 13, 1, 2, 10, 1, 7, 8, 11, 5, 1, 7, 9, 12, 1, 7, 8, 13, 2, 5, 8, 13, 1, 2, 3, 4, 7, 8, 10, 11, 13, 1, 2, 4, 8, 1, 2, 5, 7, 11, 2, 8, 14, 1, 9, 10, 5, 7, 11, 1, 14, 1, 5, 12, 4, 10, 5, 1, 2, 4, 5, 9, 10, 12, 1, 2, 4, 5, 7, 10, 11, 14, 1, 7, 9, 1, 2, 3, 13, 1, 6, 13, 2, 6, 8, 13, 2, 5, 10, 11, 1, 1, 10, 2, 3, 5, 6, 14, 1, 5, 12, 1, 5, 1, 7, 9, 3, 8, 1, 4, 5, 7, 9, 10, 12, 3, 4, 14, 1, 2, 3, 4, 5, 7, 10, 11, 1, 2, 3, 4, 5, 6, 7, 8, 9, 10, 11, 12, 13, 14, 5, 1, 2, 3, 4, 5, 6, 7, 8, 9, 10, 11, 13, 14, 1, 2, 3, 4, 5, 6, 7, 8, 9, 10, 11, 12, 14, 2, 3, 6, 7, 8, 13, 2, 8, 4, 4, 8, 10, 11, 1, 2, 3, 4, 5, 6, 7, 8, 9, 10, 11, 12, 14, 2, 3, 1, 2, 3, 4, 5, 6, 7, 8, 9, 10, 11, 12, 13, 14, 1, 2, 3, 4, 6, 7, 8, 9, 10, 11, 12, 13, 14, 2, 3, 4, 8, 1, 2, 8, 1, 7, 13, 1, 2, 3, 4, 5, 6, 7, 8, 9, 10, 11, 12, 13, 14, 2, 5, 7, 12, 14, 5, 9, 10, 12, 2, 6, 7, 8, 13, 1, 2, 3, 4, 5, 10, 1, 2, 3, 4, 5, 6, 7, 8, 9, 10, 11, 13, 14, 1, 2, 3, 4, 5, 6, 7, 8, 9, 10, 11, 12, 2, 3, 8, 5, 9, 1, 2, 3, 4, 5, 6, 7, 8, 9, 10, 11, 13, 14, 1, 5, 7, 9, 12, 5, 8, 1, 2, 3, 4, 5, 6, 7, 8, 9, 10, 11, 12, 13, 14, 1, 2, 3, 8, 1, 2, 3, 4, 5, 6, 7, 8, 9, 10, 11, 12, 13, 14], \"Freq\": [0.3631114959716797, 0.18155574798583984, 0.18155574798583984, 0.18155574798583984, 0.9041633009910583, 0.0301387757062912, 0.0301387757062912, 0.07543126493692398, 0.8674595952033997, 0.1209586039185524, 0.1209586039185524, 0.1209586039185524, 0.1209586039185524, 0.3628758192062378, 0.8336988091468811, 0.014374117366969585, 0.03593529388308525, 0.007187058683484793, 0.007187058683484793, 0.0718705877661705, 0.014374117366969585, 0.40135374665260315, 0.2675691545009613, 0.10033843666315079, 0.06689228862524033, 0.03344614431262016, 0.03344614431262016, 0.10033843666315079, 0.3706561326980591, 0.3706561326980591, 0.18532806634902954, 0.19527097046375275, 0.3905419409275055, 0.19527097046375275, 0.19527097046375275, 0.05933823436498642, 0.05933823436498642, 0.11867646872997284, 0.05933823436498642, 0.534044086933136, 0.17801469564437866, 0.9008678793907166, 0.056304242461919785, 0.8942569494247437, 0.03439449891448021, 0.03439449891448021, 0.7819515466690063, 0.13032525777816772, 0.3168618381023407, 0.47529277205467224, 0.15843091905117035, 0.21938464045524597, 0.015670331194996834, 0.06268132477998734, 0.03134066238999367, 0.42309895157814026, 0.015670331194996834, 0.14103299379348755, 0.06268132477998734, 0.8967272639274597, 0.3514590859413147, 0.08786477148532867, 0.5271886587142944, 0.21167954802513123, 0.20023740828037262, 0.1544688642024994, 0.11728191375732422, 0.06579229235649109, 0.03718694671988487, 0.0772344321012497, 0.06865282356739044, 0.008581602945923805, 0.022884275764226913, 0.008581602945923805, 0.005721068941056728, 0.020023740828037262, 0.002860534470528364, 0.17787957191467285, 0.17787957191467285, 0.5336387157440186, 0.5674135088920593, 0.18913783133029938, 0.18913783133029938, 0.12027018517255783, 0.7216211557388306, 0.12027018517255783, 0.28123560547828674, 0.14061780273914337, 0.28123560547828674, 0.14061780273914337, 0.1421152651309967, 0.852691650390625, 0.8987420201301575, 0.30674129724502563, 0.05112355202436447, 0.042602960020303726, 0.1874530166387558, 0.1704118400812149, 0.07668532431125641, 0.008520592004060745, 0.03408236801624298, 0.01704118400812149, 0.03408236801624298, 0.06816473603248596, 0.24900586903095245, 0.10563885420560837, 0.09557800740003586, 0.18361037969589233, 0.11318448185920715, 0.030182529240846634, 0.0905475914478302, 0.03521295264363289, 0.027667319402098656, 0.03269774094223976, 0.012576053850352764, 0.005030421540141106, 0.015091264620423317, 0.3661740720272064, 0.1830870360136032, 0.1830870360136032, 0.1830870360136032, 0.2386201173067093, 0.11931005865335464, 0.4772402346134186, 0.11931005865335464, 0.30439984798431396, 0.15219992399215698, 0.45659977197647095, 0.24470466375350952, 0.12235233187675476, 0.24470466375350952, 0.24470466375350952, 0.06669150292873383, 0.8002980351448059, 0.06669150292873383, 0.42975756525993347, 0.21487878262996674, 0.21487878262996674, 0.10743939131498337, 0.5907644033432007, 0.11815288662910461, 0.23630577325820923, 0.14752821624279022, 0.14752821624279022, 0.07376410812139511, 0.5163487792015076, 0.06683074682950974, 0.24504606425762177, 0.4232613742351532, 0.005569228902459145, 0.01113845780491829, 0.055692289024591446, 0.016707686707377434, 0.13366149365901947, 0.016707686707377434, 0.01113845780491829, 0.005569228902459145, 0.4158214032649994, 0.13860712945461273, 0.27721425890922546, 0.13860712945461273, 0.35025554895401, 0.5253833532333374, 0.19673994183540344, 0.25106364488601685, 0.1644393503665924, 0.10130638629198074, 0.06313296407461166, 0.09690175950527191, 0.03670521080493927, 0.03817342221736908, 0.01615029387176037, 0.010277459397912025, 0.014682085253298283, 0.00440462538972497, 0.002936417004093528, 0.00440462538972497, 0.9148654937744141, 0.15161071717739105, 0.15161071717739105, 0.6064428687095642, 0.331422358751297, 0.24856676161289215, 0.08285558968782425, 0.24856676161289215, 0.08285558968782425, 0.9734699726104736, 0.011871585622429848, 0.011871585622429848, 0.12115760147571564, 0.5654021501541138, 0.16154347360134125, 0.08077173680067062, 0.04038586840033531, 0.8985419273376465, 0.38877880573272705, 0.3954818844795227, 0.18768632411956787, 0.02010924741625786, 0.1663195937871933, 0.6652783751487732, 0.21731451153755188, 0.651943564414978, 0.42682433128356934, 0.10670608282089233, 0.10670608282089233, 0.320118248462677, 0.5906365513801575, 0.012178072705864906, 0.1400478333234787, 0.012178072705864906, 0.18876013159751892, 0.03044518269598484, 0.024356145411729813, 0.1734399050474167, 0.12896813452243805, 0.02223588526248932, 0.20457012951374054, 0.3468798100948334, 0.031130237504839897, 0.008894354104995728, 0.013341530226171017, 0.0489189438521862, 0.004447177052497864, 0.008894354104995728, 0.004447177052497864, 0.1339944452047348, 0.1339944452047348, 0.2679888904094696, 0.2679888904094696, 0.3765261769294739, 0.47065773606300354, 0.5376367568969727, 0.20161378383636475, 0.20161378383636475, 0.2703603208065033, 0.2703603208065033, 0.2703603208065033, 0.13518016040325165, 0.4117794632911682, 0.10294486582279205, 0.4117794632911682, 0.9082094430923462, 0.05542342737317085, 0.9391192197799683, 0.09179817885160446, 0.9179818034172058, 0.8883305191993713, 0.05552065744996071, 0.9536941647529602, 0.7604202032089233, 0.12673670053482056, 0.02242673560976982, 0.0074755786918103695, 0.014951157383620739, 0.6653265357017517, 0.23921851813793182, 0.0074755786918103695, 0.04485347121953964, 0.16633255779743195, 0.2380838543176651, 0.12719549238681793, 0.09458126127719879, 0.047290630638599396, 0.11904192715883255, 0.0668591633439064, 0.08479698747396469, 0.011414979584515095, 0.013045690953731537, 0.009784268215298653, 0.01793782413005829, 0.003261422738432884, 0.8813260197639465, 0.7433488965034485, 0.18583722412586212, 0.5264308452606201, 0.021057235077023506, 0.04211447015404701, 0.35797297954559326, 0.021057235077023506, 0.7399590015411377, 0.10570842772722244, 0.26746633648872375, 0.7297537922859192, 0.8484901189804077, 0.15756309032440186, 0.15756309032440186, 0.23634463548660278, 0.23634463548660278, 0.039390772581100464, 0.11817231774330139, 0.27824336290359497, 0.005455751903355122, 0.005455751903355122, 0.25096458196640015, 0.2673318386077881, 0.021823007613420486, 0.027278760448098183, 0.010911503806710243, 0.06001327186822891, 0.010911503806710243, 0.027278760448098183, 0.005455751903355122, 0.027278760448098183, 0.07078679651021957, 0.03539339825510979, 0.35393399000167847, 0.07078679651021957, 0.17696699500083923, 0.07078679651021957, 0.21236038208007812, 0.7598536610603333, 0.12664227187633514, 0.19063985347747803, 0.38127970695495605, 0.38127970695495605, 0.03256538137793541, 0.36183756589889526, 0.003618375863879919, 0.025328630581498146, 0.007236751727759838, 0.383547842502594, 0.03256538137793541, 0.12302477657794952, 0.007236751727759838, 0.02171025425195694, 0.003618375863879919, 0.3607507646083832, 0.24050050973892212, 0.12025025486946106, 0.12025025486946106, 0.9227150082588196, 0.0709780752658844, 0.024947909638285637, 0.9729684591293335, 0.2644883692264557, 0.08816278725862503, 0.17632557451725006, 0.2644883692264557, 0.9801866412162781, 0.007369824219495058, 0.23873376846313477, 0.2527769207954407, 0.11936688423156738, 0.11234530061483383, 0.1614963710308075, 0.014043162576854229, 0.028086325153708458, 0.014043162576854229, 0.014043162576854229, 0.014043162576854229, 0.03510790690779686, 0.3640223741531372, 0.012698455713689327, 0.3386254906654358, 0.0042328182607889175, 0.08042354881763458, 0.05079382285475731, 0.01693127304315567, 0.04656100273132324, 0.08042354881763458, 0.40314799547195435, 0.20157399773597717, 0.3359566628932953, 0.12094051390886307, 0.8465836048126221, 0.4003182351589203, 0.26687881350517273, 0.26687881350517273, 0.19665300846099854, 0.7866120338439941, 0.16238705813884735, 0.10825804620981216, 0.5412902235984802, 0.01804300770163536, 0.05412902310490608, 0.03608601540327072, 0.07217203080654144, 0.32819151878356934, 0.0492287278175354, 0.016409575939178467, 0.1476861834526062, 0.22973406314849854, 0.016409575939178467, 0.0492287278175354, 0.032819151878356934, 0.032819151878356934, 0.06563830375671387, 0.08525004982948303, 0.4262502193450928, 0.5115002989768982, 0.6723058223724365, 0.08067669719457626, 0.10756892710924149, 0.02689223177731037, 0.08067669719457626, 0.2544941306114197, 0.2544941306114197, 0.2544941306114197, 0.16966275870800018, 0.0735887885093689, 0.30984753370285034, 0.13555829226970673, 0.09295426309108734, 0.09682735800743103, 0.07746188342571259, 0.06196950748562813, 0.05035022646188736, 0.030984753742814064, 0.019365470856428146, 0.019365470856428146, 0.003873094217851758, 0.003873094217851758, 0.019365470856428146, 0.2766541540622711, 0.13832707703113556, 0.13832707703113556, 0.2766541540622711, 0.2090541273355484, 0.2105058878660202, 0.1132376492023468, 0.1277552992105484, 0.0972682386636734, 0.0798470601439476, 0.0450047068297863, 0.0377458818256855, 0.0377458818256855, 0.010162353515625, 0.014517647214233875, 0.007258823607116938, 0.010162353515625, 0.967393696308136, 0.9525148868560791, 0.039688121527433395, 0.11761560291051865, 0.8233091831207275, 0.8991417288780212, 0.0304428618401289, 0.9513394236564636, 0.007610715460032225, 0.5812862515449524, 0.019376209005713463, 0.05812862515449524, 0.2906431257724762, 0.019376209005713463, 0.3858982026576996, 0.14139780402183533, 0.15612675249576569, 0.04713260382413864, 0.07069890201091766, 0.02062051370739937, 0.0559699684381485, 0.050078392028808594, 0.02356630191206932, 0.017674725502729416, 0.008837362751364708, 0.002945787739008665, 0.00589157547801733, 0.01178315095603466, 0.26722973585128784, 0.6680743098258972, 0.1580316126346588, 0.47409483790397644, 0.3160632252693176, 0.277791827917099, 0.009579028002917767, 0.028737084940075874, 0.20115959644317627, 0.24905472993850708, 0.009579028002917767, 0.028737084940075874, 0.009579028002917767, 0.1149483397603035, 0.009579028002917767, 0.009579028002917767, 0.019158056005835533, 0.038316112011671066, 0.352342814207077, 0.5285142064094543, 0.2015189826488495, 0.19693900644779205, 0.10075949132442474, 0.08701955527067184, 0.07327962666749954, 0.19235901534557343, 0.04579976573586464, 0.05037974566221237, 0.027479860931634903, 0.004579976666718721, 0.018319906666874886, 0.004579976666718721, 0.08150895684957504, 0.6928261518478394, 0.2037723958492279, 0.23096099495887756, 0.7550647854804993, 0.008883114904165268, 0.8520413041114807, 0.09348766505718231, 0.09348766505718231, 0.18697533011436462, 0.28046301007270813, 0.18697533011436462, 0.20046091079711914, 0.18687033653259277, 0.06115756556391716, 0.06795284897089005, 0.24123261868953705, 0.027181141078472137, 0.054362282156944275, 0.06455521285533905, 0.037374068051576614, 0.003397642634809017, 0.05096463859081268, 0.003397642634809017, 0.2785428464412689, 0.13927142322063446, 0.13927142322063446, 0.23211903870105743, 0.09284761548042297, 0.04642380774021149, 0.03595185652375221, 0.0044939820654690266, 0.42692831158638, 0.5257959365844727, 0.5646708011627197, 0.4391884207725525, 0.8412662744522095, 0.04206331446766853, 0.04206331446766853, 0.2927464246749878, 0.5854928493499756, 0.05091242119669914, 0.02545621059834957, 0.02545621059834957, 0.7565503716468811, 0.07719901949167252, 0.04631941020488739, 0.030879607424139977, 0.06175921484827995, 0.015439803712069988, 0.015439803712069988, 0.36367982625961304, 0.18183991312980652, 0.36367982625961304, 0.2407020628452301, 0.6418721675872803, 0.9558600783348083, 0.7405750155448914, 0.12342917174100876, 0.011052554473280907, 0.983677327632904, 0.7860073447227478, 0.11909202486276627, 0.054442066699266434, 0.006805258337408304, 0.017013145610690117, 0.003402629168704152, 0.006805258337408304, 0.9466785788536072, 0.2217831313610077, 0.19421009719371796, 0.11149097979068756, 0.14865463972091675, 0.06953200697898865, 0.09111090749502182, 0.04795311018824577, 0.05994138866662979, 0.016783587634563446, 0.004795311018824577, 0.01918124407529831, 0.007192966528236866, 0.0023976555094122887, 0.005994138773530722, 0.8785784244537354, 0.18661965429782867, 0.18661965429782867, 0.18661965429782867, 0.37323930859565735, 0.39238113164901733, 0.04359790310263634, 0.5231748819351196, 0.4202740788459778, 0.28018271923065186, 0.14009135961532593, 0.14009135961532593, 0.18024379014968872, 0.5407313704490662, 0.18024379014968872, 0.6057366132736206, 0.3028683066368103, 0.1876698136329651, 0.3753396272659302, 0.3753396272659302, 0.09428617358207703, 0.8014324903488159, 0.09428617358207703, 0.09478288888931274, 0.379131555557251, 0.379131555557251, 0.09478288888931274, 0.15961109101772308, 0.1862129420042038, 0.05320369452238083, 0.13300924003124237, 0.13300924003124237, 0.10640738904476166, 0.07980554550886154, 0.026601847261190414, 0.13300924003124237, 0.8556480407714844, 0.1762062907218933, 0.7048251628875732, 0.6963633298873901, 0.11606055498123169, 0.3581424057483673, 0.47752320766448975, 0.11938080191612244, 0.03700244054198265, 0.764717161655426, 0.012334147468209267, 0.061670735478401184, 0.09867317974567413, 0.012334147468209267, 0.7565887570381165, 0.1513177454471588, 0.4726318418979645, 0.03375941887497902, 0.13503767549991608, 0.1687970906496048, 0.13503767549991608, 0.2690492272377014, 0.14465011656284332, 0.13886411488056183, 0.07232505828142166, 0.06943205744028091, 0.08389706909656525, 0.07811106741428375, 0.04918104037642479, 0.014465012587606907, 0.02314401976764202, 0.020251017063856125, 0.020251017063856125, 0.005786004941910505, 0.005786004941910505, 0.05449903383851051, 0.17439691722393036, 0.588589608669281, 0.010899807326495647, 0.010899807326495647, 0.05449903383851051, 0.021799614652991295, 0.03269942104816437, 0.021799614652991295, 0.021799614652991295, 0.010899807326495647, 0.705901026725769, 0.23530034720897675, 0.12286190688610077, 0.7371714115142822, 0.4079970717430115, 0.1631988286972046, 0.1631988286972046, 0.04079970717430115, 0.12239912152290344, 0.0815994143486023, 0.05957355722784996, 0.8936033844947815, 0.18440309166908264, 0.06146769970655441, 0.6146770119667053, 0.09220154583454132, 0.030733849853277206, 0.030733849853277206, 0.3190942704677582, 0.5995104908943176, 0.029008571058511734, 0.019339047372341156, 0.009669523686170578, 0.009669523686170578, 0.009669523686170578, 0.009669523686170578, 0.8905365467071533, 0.3668736219406128, 0.1834368109703064, 0.37735140323638916, 0.5660271048545837, 0.8561923503875732, 0.40519973635673523, 0.018418168649077415, 0.055254507809877396, 0.20259986817836761, 0.055254507809877396, 0.07367267459630966, 0.03683633729815483, 0.14734534919261932, 0.30939343571662903, 0.46409016847610474, 0.15469671785831451, 0.35675856471061707, 0.1337844580411911, 0.029729880392551422, 0.08918964117765427, 0.34189364314079285, 0.014864940196275711, 0.014864940196275711, 0.13723224401474, 0.8570996522903442, 0.34292858839035034, 0.017363473773002625, 0.008681736886501312, 0.15627126395702362, 0.29951992630958557, 0.008681736886501312, 0.052090421319007874, 0.026045210659503937, 0.039067815989255905, 0.008681736886501312, 0.013022605329751968, 0.013022605329751968, 0.013022605329751968, 0.004219259601086378, 0.9704297184944153, 0.016877038404345512, 0.004219259601086378, 0.9547152519226074, 0.2362412065267563, 0.24002106487751007, 0.11434073746204376, 0.09355151653289795, 0.08693676441907883, 0.07748711109161377, 0.05102809891104698, 0.038743555545806885, 0.029293907806277275, 0.00944964773952961, 0.011339577846229076, 0.003779859282076359, 0.0018899296410381794, 0.003779859282076359, 0.03760126978158951, 0.3999407887458801, 0.18458805978298187, 0.013673189096152782, 0.00854574330151081, 0.21364358067512512, 0.01196404080837965, 0.09229402989149094, 0.010254891589283943, 0.005127445794641972, 0.01196404080837965, 0.0034182972740381956, 0.006836594548076391, 0.0017091486370190978, 0.12416776269674301, 0.24833552539348602, 0.37250328063964844, 0.24833552539348602, 0.9669379591941833, 0.15406109392642975, 0.616244375705719, 0.15406109392642975, 0.9306898713111877, 0.13194410502910614, 0.13194410502910614, 0.2638882100582123, 0.5277764201164246, 0.9284075498580933, 0.8821300268173218, 0.09801444411277771, 0.16199897229671478, 0.7694951295852661, 0.21373607218265533, 0.6412081718444824, 0.10686803609132767, 0.6740450859069824, 0.00962921604514122, 0.00962921604514122, 0.02888764813542366, 0.144438236951828, 0.01925843209028244, 0.07703372836112976, 0.02888764813542366, 0.09845110774040222, 0.29535332322120667, 0.19690221548080444, 0.09845110774040222, 0.19690221548080444, 0.7498754262924194, 0.16663898527622223, 0.9519540667533875, 0.07021213322877884, 0.014042426832020283, 0.631909191608429, 0.07021213322877884, 0.08425456285476685, 0.07021213322877884, 0.04212728142738342, 0.5722406506538391, 0.19074688851833344, 0.19074688851833344, 0.5354692935943604, 0.17848975956439972, 0.17848975956439972, 0.9293507933616638, 0.04130448028445244, 0.17736798524856567, 0.17736798524856567, 0.532103955745697, 0.27184006571769714, 0.1812267005443573, 0.27184006571769714, 0.27184006571769714, 0.13396859169006348, 0.26793718338012695, 0.13396859169006348, 0.13396859169006348, 0.13396859169006348, 0.38598713278770447, 0.514649510383606, 0.547357439994812, 0.3649049401283264, 0.1824524700641632, 0.9756288528442383, 0.2049252986907959, 0.1844327598810196, 0.02049252949655056, 0.450835645198822, 0.10246264934539795, 0.02049252949655056, 0.05829450488090515, 0.7772600650787354, 0.1360205113887787, 0.2428840845823288, 0.0901615172624588, 0.06440108269453049, 0.2134435921907425, 0.2134435921907425, 0.040480680763721466, 0.034960586577653885, 0.020240340381860733, 0.058880992233753204, 0.005520092789083719, 0.0018400310073047876, 0.0018400310073047876, 0.005520092789083719, 0.39484909176826477, 0.00867800135165453, 0.01735600270330906, 0.15186503529548645, 0.24732305109500885, 0.04339000955224037, 0.013017002493143082, 0.09111902117729187, 0.021695004776120186, 0.04835623875260353, 0.09671247750520706, 0.67698734998703, 0.04835623875260353, 0.04835623875260353, 0.9053926467895508, 0.08230842649936676, 0.3623834252357483, 0.18119171261787415, 0.3623834252357483, 0.5577685236930847, 0.27888426184654236, 0.13944213092327118, 0.5370761156082153, 0.10741522163152695, 0.32224565744400024, 0.02644234336912632, 0.839544415473938, 0.00661058584228158, 0.10246407985687256, 0.00661058584228158, 0.00330529292114079, 0.00661058584228158, 0.1137891486287117, 0.2275782972574234, 0.1517188549041748, 0.0379297137260437, 0.1137891486287117, 0.2275782972574234, 0.0758594274520874, 0.36284029483795166, 0.18142014741897583, 0.18142014741897583, 0.18142014741897583, 0.40828168392181396, 0.1749778687953949, 0.11665191501379013, 0.058325957506895065, 0.058325957506895065, 0.11665191501379013, 0.31259819865226746, 0.31259819865226746, 0.31259819865226746, 0.0031148800626397133, 0.9843021035194397, 0.00467232009395957, 0.0031148800626397133, 0.0015574400313198566, 0.0015484016621485353, 0.10529131442308426, 0.8825889229774475, 0.0015484016621485353, 0.0030968033242970705, 0.004645205102860928, 0.09105770289897919, 0.7562848329544067, 0.0025293806102126837, 0.12141027301549911, 0.022764425724744797, 0.2574412226676941, 0.686509907245636, 0.7992043495178223, 0.009081867523491383, 0.018163735046982765, 0.1180642768740654, 0.009081867523491383, 0.03632747009396553, 0.009081867523491383, 0.06751824170351028, 0.0011443770490586758, 0.6591611504554749, 0.0022887540981173515, 0.23917479813098907, 0.0011443770490586758, 0.02746504917740822, 0.46679776906967163, 0.020295554772019386, 0.020295554772019386, 0.020295554772019386, 0.14206887781620026, 0.24354664981365204, 0.04059110954403877, 0.020295554772019386, 0.008984922431409359, 0.700823962688446, 0.12578891217708588, 0.06289445608854294, 0.08984922617673874, 0.6644449234008789, 0.004314577206969261, 0.021572886034846306, 0.09492070227861404, 0.025887463241815567, 0.030202040448784828, 0.012943731620907784, 0.09923528134822845, 0.012943731620907784, 0.004314577206969261, 0.004314577206969261, 0.017258308827877045, 0.02691650390625, 0.56524658203125, 0.3768310546875, 0.8486688137054443, 0.22015677392482758, 0.33023515343666077, 0.22015677392482758, 0.6781114339828491, 0.02164185419678688, 0.09378136694431305, 0.06492556631565094, 0.06492556631565094, 0.014427903108298779, 0.028855806216597557, 0.02164185419678688, 0.007213951554149389, 0.41445392370224, 0.17762310802936554, 0.11841540783643723, 0.05920770391821861, 0.11841540783643723, 0.05920770391821861, 0.9764739871025085, 0.5706495642662048, 0.009204025380313396, 0.009204025380313396, 0.05522415041923523, 0.2945288121700287, 0.027612075209617615, 0.009204025380313396, 0.48387569189071655, 0.023603692650794983, 0.035405538976192474, 0.011801846325397491, 0.4012627601623535, 0.011801846325397491, 0.023603692650794983, 0.8888763785362244, 0.24589070677757263, 0.2008107453584671, 0.12089626491069794, 0.06557085365056992, 0.0676199421286583, 0.10040537267923355, 0.09835628420114517, 0.036883607506752014, 0.03483451530337334, 0.006147267762571573, 0.012294535525143147, 0.00819635670632124, 0.00204908917658031, 0.5409497022628784, 0.18031656742095947, 0.18031656742095947, 0.5904061198234558, 0.1968020349740982, 0.9387044906616211, 0.547309935092926, 0.18243664503097534, 0.18243664503097534, 0.8482615947723389, 0.0676761120557785, 0.30454251170158386, 0.23686639964580536, 0.0676761120557785, 0.05075708404183388, 0.016919028013944626, 0.2537854313850403, 0.4000362455844879, 0.0525047592818737, 0.030002718791365623, 0.09000815451145172, 0.13251200318336487, 0.03750339895486832, 0.1575142741203308, 0.015001359395682812, 0.030002718791365623, 0.02750249207019806, 0.020001813769340515, 0.005000453442335129, 0.0918186753988266, 0.275456041097641, 0.275456041097641, 0.0918186753988266, 0.0918186753988266, 0.1377280205488205, 0.18806859850883484, 0.18806859850883484, 0.3761371970176697, 0.18806859850883484, 0.290684312582016, 0.12815114855766296, 0.07188966870307922, 0.11096014827489853, 0.17659853398799896, 0.023442285135388374, 0.09845759719610214, 0.025005104020237923, 0.02813074178993702, 0.021879464387893677, 0.010939732193946838, 0.00937691330909729, 0.0031256380025297403, 0.03906476870179176, 0.00976619217544794, 0.6250362992286682, 0.01953238435089588, 0.12696050107479095, 0.00976619217544794, 0.058597154915332794, 0.04883096367120743, 0.058597154915332794, 0.27150779962539673, 0.07785885035991669, 0.041923996061086655, 0.1617068499326706, 0.2056272327899933, 0.017967427149415016, 0.10381180047988892, 0.02595295011997223, 0.03593485429883003, 0.017967427149415016, 0.021960189566016197, 0.009981904178857803, 0.001996380742639303, 0.003992761485278606, 0.2177155613899231, 0.29028740525245667, 0.07257185131311417, 0.14514370262622833, 0.07257185131311417, 0.07257185131311417, 0.4250428378582001, 0.002724633552134037, 0.31878215074539185, 0.002724633552134037, 0.05449267476797104, 0.005449267104268074, 0.14440558850765228, 0.021797068417072296, 0.005449267104268074, 0.019072435796260834, 0.002724633552134037, 0.1343887895345688, 0.21502205729484558, 0.1612665355205536, 0.24189980328083038, 0.053755514323711395, 0.026877757161855698, 0.1343887895345688, 0.026877757161855698, 0.03424444794654846, 0.3292735517024994, 0.3977624475955963, 0.04478120431303978, 0.010536753572523594, 0.07902565598487854, 0.023707695305347443, 0.036878637969493866, 0.013170941732823849, 0.007902565412223339, 0.0026341883931308985, 0.0026341883931308985, 0.007902565412223339, 0.0026341883931308985, 0.9601163864135742, 0.021820826455950737, 0.28979945182800293, 0.036224931478500366, 0.47092413902282715, 0.036224931478500366, 0.036224931478500366, 0.06037488952279091, 0.04829991236329079, 0.23160381615161896, 0.07720126956701279, 0.30880507826805115, 0.30880507826805115, 0.09242827445268631, 0.15019595623016357, 0.273433655500412, 0.025032658129930496, 0.023107068613171577, 0.26188012957572937, 0.06547003239393234, 0.086651511490345, 0.0019255890510976315, 0.003851178102195263, 0.0019255890510976315, 0.009627945721149445, 0.003851178102195263, 0.8980501890182495, 0.22811546921730042, 0.21290777623653412, 0.07603848725557327, 0.09124618768692017, 0.03041539527475834, 0.16728468239307404, 0.06083079054951668, 0.04562309384346008, 0.07603848725557327, 0.01520769763737917, 0.1981985867023468, 0.28349924087524414, 0.0702476054430008, 0.08530066162347794, 0.06522991508245468, 0.09784487634897232, 0.08530066162347794, 0.04014148563146591, 0.020070742815732956, 0.010035371407866478, 0.027597272768616676, 0.0025088428519666195, 0.010035371407866478, 0.0025088428519666195, 0.31126901507377625, 0.15563450753688812, 0.15563450753688812, 0.31126901507377625, 0.21905405819416046, 0.25380057096481323, 0.12085741013288498, 0.07100372761487961, 0.07251444458961487, 0.06042870506644249, 0.07553587853908539, 0.05589655041694641, 0.030214352533221245, 0.025682199746370316, 0.001510717673227191, 0.004532152786850929, 0.003021435346454382, 0.006042870692908764, 0.9790205359458923, 0.008158504031598568, 0.8055525422096252, 0.05753946676850319, 0.028769733384251595, 0.08630920201539993, 0.3159177899360657, 0.21061186492443085, 0.3159177899360657, 0.4238205552101135, 0.21191027760505676, 0.10595513880252838, 0.10595513880252838, 0.10595513880252838, 0.1359487771987915, 0.6797438859939575, 0.4172024726867676, 0.2086012363433838, 0.13906750082969666, 0.13906750082969666, 0.08132994920015335, 0.8946294784545898, 0.1863701045513153, 0.09318505227565765, 0.3727402091026306, 0.09318505227565765, 0.1863701045513153, 0.18081089854240417, 0.5424326658248901, 0.18081089854240417, 0.6382028460502625, 0.011003497056663036, 0.0990314781665802, 0.08802797645330429, 0.011003497056663036, 0.06602098792791367, 0.055017486214637756, 0.011003497056663036, 0.011003497056663036, 0.3302197754383087, 0.08255494385957718, 0.3302197754383087, 0.16510988771915436, 0.6426923274993896, 0.1606730818748474, 0.1606730818748474, 0.04103437811136246, 0.3693093955516815, 0.2872406542301178, 0.16413751244544983, 0.08206875622272491, 0.9466882944107056, 0.5265923142433167, 0.0940343365073204, 0.16926181316375732, 0.0940343365073204, 0.0940343365073204, 0.17711350321769714, 0.7084540128707886, 0.15125223994255066, 0.8318873047828674, 0.8886643052101135, 0.534781813621521, 0.17826059460639954, 0.3565211892127991, 0.7611295580863953, 0.8976280689239502, 0.016778094694018364, 0.008389047347009182, 0.041945237666368484, 0.02516714110970497, 0.9480133652687073, 0.021245477721095085, 0.06798553466796875, 0.012747286818921566, 0.008498191833496094, 0.33142945170402527, 0.021245477721095085, 0.5353860855102539, 0.07061515748500824, 0.42369094491004944, 0.14123031497001648, 0.21184547245502472, 0.5381298661231995, 0.012514648027718067, 0.07508788257837296, 0.1501757651567459, 0.06257323920726776, 0.006257324013859034, 0.09385985881090164, 0.012514648027718067, 0.01877197064459324, 0.006257324013859034, 0.03128661960363388, 0.08464790135622025, 0.28826040029525757, 0.19217361509799957, 0.034316714853048325, 0.004575562197715044, 0.24479256570339203, 0.04346783831715584, 0.06863342970609665, 0.006863343063741922, 0.011438905261456966, 0.016014467924833298, 0.002287781098857522, 0.27862852811813354, 0.20897139608860016, 0.4875999391078949, 0.30182531476020813, 0.6036506295204163, 0.48052117228507996, 0.288312703371048, 0.09610423445701599, 0.09610423445701599, 0.11880044639110565, 0.07128027081489563, 0.5940022468566895, 0.04752017930150032, 0.16632062196731567, 0.3882007300853729, 0.3882007300853729, 0.5367966890335083, 0.06709958612918854, 0.08387447893619537, 0.01118326373398304, 0.1621573269367218, 0.039141424000263214, 0.061507951468229294, 0.00559163186699152, 0.027958160266280174, 0.00559163186699152, 0.17944617569446564, 0.781118631362915, 0.03166697174310684, 0.8711432814598083, 0.02265280857682228, 0.6795842051506042, 0.20387527346611023, 0.02265280857682228, 0.04530561715364456, 0.9127166867256165, 0.8570670485496521, 0.08440152555704117, 0.11253537237644196, 0.239137664437294, 0.24617111682891846, 0.06330114603042603, 0.119568832218647, 0.02813384309411049, 0.021100381389260292, 0.02813384309411049, 0.035167302936315536, 0.007033460773527622, 0.021100381389260292, 0.17863063514232635, 0.05954354628920555, 0.6549789905548096, 0.05954354628920555, 0.8569268584251404, 0.3510019779205322, 0.0461844727396965, 0.0184737890958786, 0.3971864581108093, 0.0369475781917572, 0.027710681781172752, 0.055421363562345505, 0.0461844727396965, 0.0092368945479393, 0.23367390036582947, 0.7010217308998108, 0.20872940123081207, 0.41745880246162415, 0.13915292918682098, 0.13915292918682098, 0.19785653054714203, 0.2176421880722046, 0.09563066065311432, 0.07584500312805176, 0.17477327585220337, 0.023083262145519257, 0.07254739850759506, 0.04616652429103851, 0.02638087049126625, 0.009892826899886131, 0.009892826899886131, 0.01648804359138012, 0.03297608718276024, 0.5389140844345093, 0.13472852110862732, 0.13472852110862732, 0.13472852110862732, 0.5153964161872864, 0.048045430332422256, 0.013103298842906952, 0.13976852595806122, 0.06551649421453476, 0.004367766436189413, 0.05678096041083336, 0.05241319537162781, 0.013103298842906952, 0.039309896528720856, 0.026206597685813904, 0.008735532872378826, 0.017471065744757652, 0.016178058460354805, 0.8897932767868042, 0.016178058460354805, 0.048534177243709564, 0.3270084857940674, 0.5886152982711792, 0.03270084783434868, 0.17685779929161072, 0.7074311971664429, 0.18500986695289612, 0.24222175776958466, 0.12185388803482056, 0.06835705786943436, 0.07578717917203903, 0.10847968608140945, 0.06761404871940613, 0.06761404871940613, 0.012631195597350597, 0.015603242442011833, 0.009659149684011936, 0.002972046146169305, 0.018575288355350494, 0.00371505762450397, 0.2545580267906189, 0.15479880571365356, 0.08255936205387115, 0.2339181900024414, 0.07223944365978241, 0.05847954750061035, 0.048159629106521606, 0.017199866473674774, 0.02063984051346779, 0.02751978673040867, 0.02751978673040867, 0.0034399733413010836, 0.006879946682602167, 0.14659720659255981, 0.04188491776585579, 0.020942458882927895, 0.36649301648139954, 0.08376983553171158, 0.04188491776585579, 0.12565475702285767, 0.010471229441463947, 0.07329860329627991, 0.020942458882927895, 0.05235614627599716, 0.010471229441463947, 0.010471229441463947, 0.2613946199417114, 0.19604597985744476, 0.06534865498542786, 0.1306973099708557, 0.09802298992872238, 0.03267432749271393, 0.06534865498542786, 0.16337163746356964, 0.645963728427887, 0.013273227959871292, 0.234493687748909, 0.008848818019032478, 0.04424409195780754, 0.004424409009516239, 0.004424409009516239, 0.008848818019032478, 0.03539527207612991, 0.128603994846344, 0.30573779344558716, 0.14194968342781067, 0.04125033691525459, 0.06794173270463943, 0.1698543280363083, 0.03154437616467476, 0.06794173270463943, 0.023051658645272255, 0.00849271658807993, 0.0060662259347736835, 0.001213245210237801, 0.0036397355142980814, 0.0036397355142980814, 0.3053388297557831, 0.20355921983718872, 0.3053388297557831, 0.10177960991859436, 0.9132880568504333, 0.8142412304878235, 0.16284823417663574, 0.1866561770439148, 0.12799280881881714, 0.005333033390343189, 0.13332583010196686, 0.32531502842903137, 0.010666066780686378, 0.0746624693274498, 0.0373312346637249, 0.04799729958176613, 0.031998202204704285, 0.015999101102352142, 0.2642040252685547, 0.17501412332057953, 0.10433534532785416, 0.10433534532785416, 0.09255555272102356, 0.09255555272102356, 0.055533330887556076, 0.058898985385894775, 0.02187676541507244, 0.005048484541475773, 0.013462625443935394, 0.005048484541475773, 0.0033656563609838486, 0.005048484541475773, 0.10260994732379913, 0.017101658508181572, 0.07410718500614166, 0.5358519554138184, 0.07980773597955704, 0.011401105672121048, 0.03990386798977852, 0.017101658508181572, 0.03990386798977852, 0.02850276418030262, 0.011401105672121048, 0.022802211344242096, 0.017101658508181572, 0.11825655400753021, 0.03941885381937027, 0.19709426164627075, 0.11825655400753021, 0.3941885232925415, 0.07883770763874054, 0.8799505233764648, 0.388336718082428, 0.08899382501840591, 0.035597532987594604, 0.08575768768787384, 0.16504310071468353, 0.025889113545417786, 0.0841396227478981, 0.04368788003921509, 0.03397946059703827, 0.00970841757953167, 0.016180695965886116, 0.011326487176120281, 0.004854208789765835, 0.006472278386354446, 0.025227652862668037, 0.050455305725336075, 0.58023601770401, 0.27750417590141296, 0.050455305725336075, 0.48141223192214966, 0.3209414780139923, 0.16047073900699615, 0.13609154522418976, 0.39612358808517456, 0.1603936105966568, 0.026732267811894417, 0.01701144315302372, 0.12151030451059341, 0.031592678278684616, 0.07533638924360275, 0.0024302061647176743, 0.012151030823588371, 0.0048604123294353485, 0.009720824658870697, 0.0024302061647176743, 0.3296169638633728, 0.12898054718971252, 0.06449027359485626, 0.06449027359485626, 0.10031820833683014, 0.021496757864952087, 0.1934708207845688, 0.021496757864952087, 0.03582793101668358, 0.021496757864952087, 0.007165586110204458, 0.014331172220408916, 0.9459010362625122, 0.015138830989599228, 0.0018923538736999035, 0.009461769834160805, 0.739910364151001, 0.003784707747399807, 0.1494959592819214, 0.07947885990142822, 0.0018923538736999035, 0.029755257070064545, 0.9105108380317688, 0.04165735840797424, 0.011902102269232273, 0.17528140544891357, 0.5258442163467407, 0.20090948045253754, 0.19906626641750336, 0.1511429101228714, 0.06266900897026062, 0.07372824847698212, 0.1622021496295929, 0.04239374399185181, 0.05898259952664375, 0.01843206211924553, 0.005529618822038174, 0.011059237644076347, 0.0036864124704152346, 0.0018432062352076173, 0.007372824940830469, 0.07987076044082642, 0.03993538022041321, 0.7587721943855286, 0.03993538022041321, 0.07987076044082642, 0.3124493956565857, 0.13425560295581818, 0.07567133754491806, 0.1000814437866211, 0.16842974722385406, 0.02929213084280491, 0.07078931480646133, 0.026851119473576546, 0.026851119473576546, 0.012205054052174091, 0.017087075859308243, 0.012205054052174091, 0.007323032710701227, 0.0048820218071341515, 0.17294397950172424, 0.21137598156929016, 0.12970797717571259, 0.17294397950172424, 0.09447865188121796, 0.051242660731077194, 0.027222663164138794, 0.08006665855646133, 0.032026663422584534, 0.00960799865424633, 0.012810665182769299, 0.006405332591384649, 0.0016013331478461623, 0.3497250974178314, 0.23366588354110718, 0.054160963743925095, 0.06344570219516754, 0.05880333483219147, 0.02475929819047451, 0.08046772330999374, 0.05106605216860771, 0.012379649095237255, 0.03868640214204788, 0.017022017389535904, 0.009284736588597298, 0.0061898245476186275, 0.0015474561369046569, 0.7901244163513184, 0.17041899263858795, 0.0309852696955204, 0.9381704926490784, 0.01770132966339588, 0.01770132966339588, 0.01770132966339588, 0.09559878706932068, 0.8842887878417969, 0.32671335339546204, 0.08167833834886551, 0.08167833834886551, 0.08167833834886551, 0.16335667669773102, 0.16335667669773102, 0.12512487173080444, 0.7194679975509644, 0.12512487173080444, 0.023460913449525833, 0.19179955124855042, 0.24025417864322662, 0.1191176176071167, 0.060568276792764664, 0.07671982049942017, 0.16151541471481323, 0.06258722394704819, 0.03835991024971008, 0.016151541844010353, 0.010094713419675827, 0.004037885461002588, 0.010094713419675827, 0.008075770922005177, 0.14091669023036957, 0.32946717739105225, 0.18259626626968384, 0.05358803644776344, 0.01984742097556591, 0.1032065898180008, 0.04167958348989487, 0.0992370992898941, 0.003969484008848667, 0.011908452026546001, 0.007938968017697334, 0.0019847420044243336, 0.003969484008848667, 0.0019847420044243336, 0.3839623034000397, 0.06399372220039368, 0.19198115170001984, 0.1599843055009842, 0.06399372220039368, 0.03199686110019684, 0.09599057585000992, 0.1804674118757248, 0.24946966767311096, 0.1353505700826645, 0.16852472722530365, 0.08094494789838791, 0.06634831428527832, 0.038482021540403366, 0.023885393515229225, 0.021231461316347122, 0.007961797527968884, 0.006634831428527832, 0.003980898763984442, 0.003980898763984442, 0.010615730658173561, 0.9059628844261169, 0.8322358727455139, 0.45679354667663574, 0.4435531795024872, 0.006620196625590324, 0.026480786502361298, 0.006620196625590324, 0.052961573004722595, 0.03848876431584358, 0.9237303137779236, 0.19442301988601685, 0.5054998397827148, 0.2333076298236847, 0.3870384693145752, 0.4837980568408966, 0.0483798086643219, 0.0483798086643219, 0.02418990433216095, 0.03443368151783943, 0.395987331867218, 0.18077683448791504, 0.0516505241394043, 0.02582526206970215, 0.07747578620910645, 0.02582526206970215, 0.1463431417942047, 0.008608420379459858, 0.008608420379459858, 0.0516505241394043, 0.7219247221946716, 0.1804811805486679, 0.8564226627349854, 0.09058242291212082, 0.09058242291212082, 0.27174729108810425, 0.09058242291212082, 0.27174729108810425, 0.14830267429351807, 0.39547377824783325, 0.049434222280979156, 0.29660534858703613, 0.049434222280979156, 0.48370182514190674, 0.10748929530382156, 0.05374464765191078, 0.2687232196331024, 0.05374464765191078, 0.05374464765191078, 0.24661777913570404, 0.36992666125297546, 0.12330888956785202, 0.12330888956785202, 0.11857641488313675, 0.5928820967674255, 0.11857641488313675, 0.5569255948066711, 0.18564186990261078, 0.18564186990261078, 0.1775388866662979, 0.1775388866662979, 0.3550777733325958, 0.131815105676651, 0.263630211353302, 0.263630211353302, 0.131815105676651, 0.131815105676651, 0.5444090366363525, 0.36293935775756836, 0.30172663927078247, 0.07543165981769562, 0.15086331963539124, 0.03771582990884781, 0.33944249153137207, 0.07543165981769562, 0.03771582990884781, 0.18025963008403778, 0.18025963008403778, 0.18025963008403778, 0.18025963008403778, 0.18025963008403778, 0.8077553510665894, 0.03319542482495308, 0.06639084964990616, 0.08852113038301468, 0.11785989254713058, 0.1885758340358734, 0.1885758340358734, 0.25929176807403564, 0.07071593403816223, 0.07071593403816223, 0.023571979254484177, 0.0942879170179367, 0.538000226020813, 0.1793334186077118, 0.1793334186077118, 0.7547100186347961, 0.15094201266765594, 0.2006319761276245, 0.401263952255249, 0.2006319761276245, 0.2006319761276245, 0.01364859752357006, 0.9144560098648071, 0.05459439009428024, 0.04512003809213638, 0.36096030473709106, 0.2256001979112625, 0.04512003809213638, 0.09024007618427277, 0.2256001979112625, 0.5401119589805603, 0.18003730475902557, 0.47761574387550354, 0.11940393596887589, 0.23880787193775177, 0.10473916679620743, 0.17456528544425964, 0.03491305559873581, 0.6284350156784058, 0.03491305559873581, 0.037250686436891556, 0.3549771308898926, 0.2158348560333252, 0.17420174181461334, 0.010956084355711937, 0.01314730104058981, 0.007669258862733841, 0.09312671422958374, 0.002191216917708516, 0.039441902190446854, 0.04382433742284775, 0.0054780421778559685, 0.002191216917708516, 0.001095608458854258, 0.8062739968299866, 0.04742788150906563, 0.04742788150906563, 0.4287726581096649, 0.18580149114131927, 0.3144332766532898, 0.02858484350144863, 0.014292421750724316, 0.9068102836608887, 0.9804830551147461, 0.004624919965863228, 0.004624919965863228, 0.004624919965863228, 0.8105093836784363, 0.07368266582489014, 0.07368266582489014, 0.1339471936225891, 0.2956639528274536, 0.009801014326512814, 0.05390558019280434, 0.10127715021371841, 0.0882091298699379, 0.1894862800836563, 0.05390558019280434, 0.0016335024265572429, 0.02776954136788845, 0.03757055476307869, 0.004900507163256407, 0.0032670048531144857, 0.0016335024265572429, 0.08432671427726746, 0.8432670831680298, 0.2484380304813385, 0.3952423334121704, 0.06775582581758499, 0.011292638257145882, 0.011292638257145882, 0.05646318942308426, 0.05646318942308426, 0.04517055302858353, 0.022585276514291763, 0.011292638257145882, 0.06775582581758499, 0.6694440841674805, 0.16736102104187012, 0.8344480395317078, 0.04172240197658539, 0.12516720592975616, 0.3520771861076355, 0.02514837123453617, 0.07544511556625366, 0.2514837086200714, 0.10059348493814468, 0.02514837123453617, 0.02514837123453617, 0.1257418543100357, 0.06707679480314255, 0.8719983696937561, 0.7023752331733704, 0.2341250777244568, 0.1859731674194336, 0.0464932918548584, 0.015497764572501183, 0.12398211658000946, 0.26346197724342346, 0.15497764945030212, 0.0929865837097168, 0.015497764572501183, 0.07748882472515106, 0.03997895494103432, 0.9195159673690796, 0.026652636006474495, 0.2926032543182373, 0.173733189702034, 0.10789745301008224, 0.06583573669195175, 0.08778098225593567, 0.05852065235376358, 0.07132204622030258, 0.05852065235376358, 0.05486311390995979, 0.01828770339488983, 0.0036575407721102238, 0.0073150815442204475, 0.0036575407721102238, 0.05840098485350609, 0.6424108147621155, 0.0025391732342541218, 0.2742307186126709, 0.01777421310544014, 0.8493227958679199, 0.16923266649246216, 0.31368231773376465, 0.13382834196090698, 0.061603523790836334, 0.03611241281032562, 0.06514395773410797, 0.07859759777784348, 0.07505717128515244, 0.009205124340951443, 0.015577903017401695, 0.021242594346404076, 0.009205124340951443, 0.009205124340951443, 0.003540432546287775, 0.056711260229349136, 0.30300015211105347, 0.30137985944747925, 0.11504284292459488, 0.07939576357603073, 0.025925148278474808, 0.030786113813519478, 0.04536901041865349, 0.012962574139237404, 0.011342252604663372, 0.008101608604192734, 0.003240643534809351, 0.003240643534809351, 0.003240643534809351, 0.16305840015411377, 0.7971743941307068, 0.018117599189281464, 0.018117599189281464, 0.1881992220878601, 0.1881992220878601, 0.1881992220878601, 0.1881992220878601, 0.14513543248176575, 0.14513543248176575, 0.14513543248176575, 0.580541729927063, 0.8789309859275818, 0.152414470911026, 0.8382796049118042, 0.5559360980987549, 0.021382158622145653, 0.021382158622145653, 0.34211453795433044, 0.021382158622145653, 0.977750301361084, 0.2823181748390198, 0.11292727291584015, 0.056463636457920074, 0.16939090192317963, 0.2258545458316803, 0.056463636457920074, 0.056463636457920074, 0.056463636457920074, 0.23260411620140076, 0.2663692235946655, 0.0806611031293869, 0.1012953445315361, 0.09566782414913177, 0.05064767226576805, 0.05439934879541397, 0.041268471628427505, 0.03564095497131348, 0.020634235814213753, 0.011255037970840931, 0.0056275189854204655, 0.0037516793236136436, 0.41781580448150635, 0.026113487780094147, 0.5483832359313965, 0.1724139004945755, 0.12715524435043335, 0.1616380214691162, 0.11637938022613525, 0.1012931615114212, 0.07327590882778168, 0.07974142581224442, 0.09913799166679382, 0.021551737561821938, 0.015086215920746326, 0.01939656399190426, 0.0021551738027483225, 0.006465521175414324, 0.004310347605496645, 0.05036158487200737, 0.35013291239738464, 0.22542804479599, 0.031176218762993813, 0.01199085358530283, 0.06475061178207397, 0.1223067045211792, 0.1079176813364029, 0.0023981707636266947, 0.00719451205804944, 0.019185366109013557, 0.00719451205804944, 0.3325868546962738, 0.1432681828737259, 0.1023344174027443, 0.10915671288967133, 0.04775606468319893, 0.061400651931762695, 0.11256786435842514, 0.034111473709344864, 0.020466884598135948, 0.017055736854672432, 0.006822294555604458, 0.0017055736389011145, 0.008527868427336216, 0.003411147277802229, 0.22879835963249207, 0.026917453855276108, 0.026917453855276108, 0.14804600179195404, 0.4441379904747009, 0.053834907710552216, 0.026917453855276108, 0.013458726927638054, 0.013458726927638054, 0.32268333435058594, 0.04840250313282013, 0.05485616996884346, 0.10971233993768692, 0.22265151143074036, 0.022587833926081657, 0.10971233993768692, 0.016134167090058327, 0.0645366683602333, 0.012907333672046661, 0.006453666836023331, 0.0032268334180116653, 0.0032268334180116653, 0.28343665599823, 0.11126956343650818, 0.048116568475961685, 0.11051774770021439, 0.1172841340303421, 0.07217485457658768, 0.1248023509979248, 0.049620211124420166, 0.025561926886439323, 0.01879553496837616, 0.01804371364414692, 0.012029142118990421, 0.0037591068539768457, 0.00526274973526597, 0.8886691331863403, 0.21688799560070038, 0.08133299648761749, 0.13555499911308289, 0.054221998900175095, 0.46088698506355286, 0.027110999450087547, 0.265476256608963, 0.46458345651626587, 0.06636906415224075, 0.1327381283044815, 0.21172519028186798, 0.07057506591081619, 0.21172519028186798, 0.14115013182163239, 0.07057506591081619, 0.07057506591081619, 0.07057506591081619, 0.14115013182163239, 0.24629944562911987, 0.15299542248249054, 0.1037355288863182, 0.0770772397518158, 0.11416703462600708, 0.11126939207315445, 0.05273705720901489, 0.06085044890642166, 0.033612631261348724, 0.013329146429896355, 0.013329146429896355, 0.013329146429896355, 0.004056696780025959, 0.0034771685022860765, 0.01020901370793581, 0.08167210966348648, 0.8983932137489319, 0.20985637605190277, 0.006558011751621962, 0.026232047006487846, 0.5771050453186035, 0.06558011472225189, 0.006558011751621962, 0.006558011751621962, 0.013116023503243923, 0.026232047006487846, 0.019674034789204597, 0.039348069578409195, 0.006558011751621962, 0.2592611014842987, 0.19444583356380463, 0.09137891232967377, 0.10519200563430786, 0.12325527518987656, 0.06375273317098618, 0.05737745761871338, 0.06162763759493828, 0.012750545516610146, 0.012750545516610146, 0.008500363677740097, 0.005312727298587561, 0.0042501818388700485, 0.0561031848192215, 0.9313129186630249, 0.8219510912895203, 0.2539466917514801, 0.17293302714824677, 0.09503526240587234, 0.11684663593769073, 0.07945571094751358, 0.0716659352183342, 0.08412957936525345, 0.06855002790689468, 0.012463641352951527, 0.014021595939993858, 0.015579551458358765, 0.009347731247544289, 0.0031159103382378817, 0.004673865623772144, 0.25379616022109985, 0.14115630090236664, 0.09125255793333054, 0.13260136544704437, 0.13260136544704437, 0.05560702458024025, 0.07556851953268051, 0.03849717229604721, 0.03136806562542915, 0.014258211478590965, 0.017109854146838188, 0.007129105739295483, 0.0028516424354165792, 0.004277463536709547, 0.08211343735456467, 0.16422687470912933, 0.2463403046131134, 0.08211343735456467, 0.2463403046131134, 0.16422687470912933, 0.1783350557088852, 0.24075232446193695, 0.1337512880563736, 0.03566700965166092, 0.06598397344350815, 0.09808427840471268, 0.06241726875305176, 0.06241726875305176, 0.007133402395993471, 0.055283866822719574, 0.0428004115819931, 0.00891675241291523, 0.007133402395993471, 0.20597076416015625, 0.274627685546875, 0.274627685546875, 0.20597076416015625, 0.0988805815577507, 0.8757994174957275, 0.0672890692949295, 0.8747578859329224, 0.3509320914745331, 0.46790942549705505, 0.029924441128969193, 0.021763229742646217, 0.08705291897058487, 0.008161211386322975, 0.002720403717830777, 0.01904282532632351, 0.010881614871323109, 0.14592699706554413, 0.7296349406242371, 0.08141271770000458, 0.9129855036735535, 0.9339241981506348, 0.15339933335781097, 0.24105609953403473, 0.02191419154405594, 0.2848844826221466, 0.13148514926433563, 0.06574257463216782, 0.06574257463216782, 0.02191419154405594, 0.4314095973968506, 0.007438096217811108, 0.18347303569316864, 0.03966984525322914, 0.0024793653283268213, 0.28512701392173767, 0.012396827340126038, 0.01983492262661457, 0.0024793653283268213, 0.012396827340126038, 0.6905450224876404, 0.058238737285137177, 0.02495945803821087, 0.02495945803821087, 0.01663963869214058, 0.11647747457027435, 0.03327927738428116, 0.02495945803821087, 0.00831981934607029, 0.3193844258785248, 0.19163066148757935, 0.12775376439094543, 0.06387688219547272, 0.06387688219547272, 0.12775376439094543, 0.2987264096736908, 0.03319182246923447, 0.099575474858284, 0.4978773593902588, 0.06638364493846893, 0.4290771186351776, 0.0612967349588871, 0.4903738796710968, 0.17161130905151367, 0.23290105164051056, 0.1582389920949936, 0.07243334501981735, 0.02897333726286888, 0.11032155156135559, 0.08134821802377701, 0.06574718654155731, 0.016715386882424355, 0.020058464258909225, 0.01114359125494957, 0.001114359125494957, 0.024515900760889053, 0.003343077376484871, 0.7927160859107971, 0.20293915271759033, 0.6764638423919678, 0.06764638423919678, 0.954079270362854, 0.0037672468461096287, 0.981367826461792, 0.005650870501995087, 0.0037672468461096287, 0.0018836234230548143, 0.08511370420455933, 0.20527422428131104, 0.2202942967414856, 0.015020065009593964, 0.010013377293944359, 0.16021403670310974, 0.015020065009593964, 0.10514045506715775, 0.010013377293944359, 0.0550735741853714, 0.03504681959748268, 0.06508695334196091, 0.010013377293944359, 0.01180750411003828, 0.7674877643585205, 0.02361500822007656, 0.17711256444454193, 0.8399867415428162, 0.06999889016151428, 0.09508300572633743, 0.06791643053293228, 0.21054093539714813, 0.15620778501033783, 0.08829136192798615, 0.278457373380661, 0.020374929532408714, 0.03395821526646614, 0.027166571468114853, 0.006791642867028713, 0.013583285734057426, 0.10503461211919785, 0.10503461211919785, 0.6302077174186707, 0.10503461211919785, 0.19445106387138367, 0.5833531618118286, 0.09722553193569183, 0.09722553193569183, 0.9214745759963989, 0.04766247794032097, 0.2669807970523834, 0.07766713947057724, 0.06795874983072281, 0.3640647232532501, 0.0631045550107956, 0.043687768280506134, 0.02912517823278904, 0.024270981550216675, 0.033979374915361404, 0.024270981550216675, 0.0048541962169110775, 0.8786572813987732, 0.3177490234375, 0.15887451171875, 0.15887451171875, 0.3177490234375, 0.09964210540056229, 0.24356958270072937, 0.29892629384994507, 0.011071344837546349, 0.011071344837546349, 0.14392748475074768, 0.011071344837546349, 0.07749941200017929, 0.011071344837546349, 0.011071344837546349, 0.07749941200017929, 0.011071344837546349, 0.6683492064476013, 0.11139153689146042, 0.11139153689146042, 0.8380593061447144, 0.008729783818125725, 0.026189353317022324, 0.01745956763625145, 0.0698382705450058, 0.01745956763625145, 0.01745956763625145, 0.008729783818125725, 0.14100401103496552, 0.28628087043762207, 0.13673116266727448, 0.09827551990747452, 0.03418279066681862, 0.03845563903450966, 0.05554703250527382, 0.1068212166428566, 0.012818546034395695, 0.02136424370110035, 0.02563709206879139, 0.004272848833352327, 0.02990994043648243, 0.004272848833352327, 0.9267334938049316, 0.5523015856742859, 0.1104603111743927, 0.2209206223487854, 0.28324344754219055, 0.28324344754219055, 0.14162172377109528, 0.07081086188554764, 0.07081086188554764, 0.14162172377109528, 0.08641912788152695, 0.8987589478492737, 0.9750305414199829, 0.010372665710747242, 0.010372665710747242, 0.9653679132461548, 0.31295454502105713, 0.15647727251052856, 0.4694318473339081, 0.8989726901054382, 0.8349922299385071, 0.10019906610250473, 0.040479619055986404, 0.8905515670776367, 0.040479619055986404, 0.22381341457366943, 0.2590596079826355, 0.08811551332473755, 0.06520548462867737, 0.04934468865394592, 0.09516476094722748, 0.0722547248005867, 0.06873010098934174, 0.015860792249441147, 0.021147724241018295, 0.014098482206463814, 0.007049241103231907, 0.01233617216348648, 0.007049241103231907, 0.04881890118122101, 0.40770378708839417, 0.12270696461200714, 0.07190892100334167, 0.07124920189380646, 0.1457969844341278, 0.04288146644830704, 0.06201319769024849, 0.007256863638758659, 0.004618003964424133, 0.005277718883007765, 0.0006597148603759706, 0.005937433801591396, 0.0026388594415038824, 0.17139098048210144, 0.11426065862178802, 0.3999122977256775, 0.3427819609642029, 0.7523217797279358, 0.18808044493198395, 0.4102475941181183, 0.27349838614463806, 0.27349838614463806, 0.44110116362571716, 0.0802002102136612, 0.0401001051068306, 0.36090096831321716, 0.0401001051068306, 0.19670748710632324, 0.2529096305370331, 0.09308478981256485, 0.06498372554779053, 0.08605952560901642, 0.0579584538936615, 0.07552162557840347, 0.09659742563962936, 0.033370018005371094, 0.026344751939177513, 0.0035126337315887213, 0.0035126337315887213, 0.0035126337315887213, 0.0035126337315887213, 0.8111209273338318, 0.010534037835896015, 0.0035113459452986717, 0.06320422887802124, 0.059692882001399994, 0.0035113459452986717, 0.03160211443901062, 0.010534037835896015, 0.38229629397392273, 0.17137420177459717, 0.23728735744953156, 0.026365261524915695, 0.013182630762457848, 0.013182630762457848, 0.11864367872476578, 0.026365261524915695, 0.1834857016801834, 0.073394276201725, 0.5504571199417114, 0.0366971381008625, 0.073394276201725, 0.0366971381008625, 0.407955139875412, 0.27197009325027466, 0.13598504662513733, 0.19001293182373047, 0.27816325426101685, 0.10773929208517075, 0.12145156413316727, 0.07247915863990784, 0.08423253893852234, 0.025465650483965874, 0.08227363973855972, 0.005876688752323389, 0.011753377504646778, 0.007835584692656994, 0.005876688752323389, 0.007835584692656994, 0.39793968200683594, 0.49742457270622253, 0.07461369037628174, 0.13583479821681976, 0.5112882852554321, 0.18772675096988678, 0.03052467480301857, 0.050365712493658066, 0.015262337401509285, 0.018314804881811142, 0.021367272362113, 0.0076311687007546425, 0.0045787012204527855, 0.0045787012204527855, 0.0106836361810565, 0.2882116436958313, 0.04803527519106865, 0.016011757776141167, 0.16011758148670197, 0.12809406220912933, 0.08005879074335098, 0.12809406220912933, 0.06404703110456467, 0.08005879074335098, 0.819100558757782, 0.10238756984472275, 0.9132862091064453, 0.5494052171707153, 0.18313506245613098, 0.9584512114524841, 0.35652023553848267, 0.1381114423274994, 0.06744977831840515, 0.0578140914440155, 0.0578140914440155, 0.0578140914440155, 0.14132334291934967, 0.051390305161476135, 0.022483257576823235, 0.02890704572200775, 0.009635682217776775, 0.0032118940725922585, 0.0032118940725922585, 0.0032118940725922585, 0.08270019292831421, 0.5789013504981995, 0.08270019292831421, 0.16540038585662842, 0.34079980850219727, 0.22719986736774445, 0.3691997826099396, 0.028399983420968056, 0.22081612050533295, 0.13946281373500824, 0.10459711402654648, 0.16270661354064941, 0.04648760333657265, 0.0929752066731453, 0.08135330677032471, 0.05810950696468353, 0.023243801668286324, 0.08135330677032471, 0.31234896183013916, 0.15617448091506958, 0.31234896183013916, 0.2102450728416443, 0.1381610482931137, 0.13215404748916626, 0.09010502696037292, 0.07208402454853058, 0.13215404748916626, 0.07208402454853058, 0.07208402454853058, 0.03003500960767269, 0.03003500960767269, 0.006007001735270023, 0.012014003470540047, 0.13580650091171265, 0.8555809259414673, 0.29762184619903564, 0.08960658311843872, 0.04960364103317261, 0.1872137486934662, 0.1648121029138565, 0.02400176227092743, 0.06400469690561295, 0.030402231961488724, 0.03520258516073227, 0.014401057735085487, 0.020801527425646782, 0.009600705467164516, 0.009600705467164516, 0.18137148022651672, 0.36274296045303345, 0.18137148022651672, 0.09068574011325836, 0.09068574011325836, 0.3181343972682953, 0.15906719863414764, 0.3181343972682953, 0.15906719863414764, 0.3060126304626465, 0.4590189456939697, 0.6544833779335022, 0.16362084448337555, 0.23243559896945953, 0.697306752204895, 0.12900111079216003, 0.11057238280773163, 0.14742985367774963, 0.12900111079216003, 0.16585858166217804, 0.09214365482330322, 0.12900111079216003, 0.018428731709718704, 0.018428731709718704, 0.07371492683887482, 0.9497167468070984, 0.019785765558481216, 0.17987452447414398, 0.35974904894828796, 0.17987452447414398, 0.17987452447414398, 0.3737790584564209, 0.18688952922821045, 0.18688952922821045, 0.8986361622810364, 0.12223601341247559, 0.8250930905342102, 0.030559003353118896, 0.08528792858123779, 0.3302638828754425, 0.10887821018695831, 0.10524893552064896, 0.02359027788043022, 0.08891720324754715, 0.056253742426633835, 0.12339530140161514, 0.014517094008624554, 0.027219552546739578, 0.018146367743611336, 0.0036292735021561384, 0.01270245760679245, 0.0018146367510780692, 0.33012938499450684, 0.1320517510175705, 0.028886321932077408, 0.134115070104599, 0.08459565788507462, 0.08253234624862671, 0.07015249878168106, 0.06396257132291794, 0.030949631705880165, 0.008253234438598156, 0.010316543281078339, 0.01856977865099907, 0.004126617219299078, 0.10216844826936722, 0.8514037728309631, 0.034056149423122406, 0.25390300154685974, 0.08632701635360718, 0.07109283655881882, 0.16757598519325256, 0.17773209512233734, 0.020312240347266197, 0.055858660489320755, 0.055858660489320755, 0.09648314118385315, 0.01523417979478836, 0.005078060086816549, 0.3044339418411255, 0.15221697092056274, 0.05073899030685425, 0.3044339418411255, 0.202955961227417, 0.11531902104616165, 0.2603977918624878, 0.12275895476341248, 0.040919654071331024, 0.040919654071331024, 0.1339188665151596, 0.08183930814266205, 0.1339188665151596, 0.022319810464978218, 0.011159905232489109, 0.007439936976879835, 0.0037199684884399176, 0.02603977918624878, 0.0037199684884399176, 0.32895490527153015, 0.5921188592910767, 0.9213929176330566, 0.28946104645729065, 0.07236526161432266, 0.03618263080716133, 0.03618263080716133, 0.3256436586380005, 0.07236526161432266, 0.07236526161432266, 0.07236526161432266, 0.9127293229103088, 0.06811412423849106, 0.3150334060192108, 0.022911520674824715, 0.03436728194355965, 0.2749382555484772, 0.18329216539859772, 0.09737396240234375, 0.005727880168706179, 0.05155092105269432, 0.017183640971779823, 0.34217211604118347, 0.06843442469835281, 0.06843442469835281, 0.4106065332889557, 0.03421721234917641, 0.017108606174588203, 0.03421721234917641, 0.017108606174588203, 0.909548819065094, 0.7145630717277527, 0.0053726546466350555, 0.016117963939905167, 0.20953352749347687, 0.03223592787981033, 0.0053726546466350555, 0.0053726546466350555, 0.5919358134269714, 0.012080322951078415, 0.14496387541294098, 0.0845622643828392, 0.02416064590215683, 0.012080322951078415, 0.060401614755392075, 0.060401614755392075, 0.7619462013244629, 0.15238922834396362, 0.3021795451641083, 0.12087181955575943, 0.060435909777879715, 0.060435909777879715, 0.060435909777879715, 0.24174363911151886, 0.060435909777879715, 0.26530489325523376, 0.08843496441841125, 0.08843496441841125, 0.26530489325523376, 0.26530489325523376, 0.6852551698684692, 0.009260205551981926, 0.009260205551981926, 0.21298472583293915, 0.009260205551981926, 0.05556122958660126, 0.009260205551981926, 0.17099012434482574, 0.7219582796096802, 0.09499450773000717, 0.762275755405426, 0.1524551510810852, 0.011914809234440327, 0.8340365886688232, 0.14297769963741302, 0.35721519589424133, 0.17860759794712067, 0.08930379897356033, 0.08930379897356033, 0.08930379897356033, 0.08930379897356033, 0.08930379897356033, 0.17695029079914093, 0.17695029079914093, 0.530850887298584, 0.7757132649421692, 0.1551426500082016, 0.9672382473945618, 0.5612080097198486, 0.1870693415403366, 0.8813233375549316, 0.09442749619483948, 0.33909350633621216, 0.2906515598297119, 0.14532577991485596, 0.04844192788004875, 0.0968838557600975, 0.8405795097351074, 0.09339772164821625, 0.031132575124502182, 0.8981806635856628, 0.6854994893074036, 0.11424991488456726, 0.03959282115101814, 0.8710420727729797, 0.03959282115101814, 0.4583531320095062, 0.15278437733650208, 0.15278437733650208, 0.4946748912334442, 0.2473374456167221, 0.12366872280836105, 0.12366872280836105, 0.9134532809257507, 0.31052082777023315, 0.31052082777023315, 0.31052082777023315, 0.3872765600681305, 0.462233304977417, 0.012492791749536991, 0.0749567523598671, 0.024985583499073982, 0.012492791749536991, 0.8793851137161255, 0.03032362461090088, 0.03032362461090088, 0.06064724922180176, 0.15120141208171844, 0.2998400926589966, 0.058942921459674835, 0.05125471577048302, 0.012813678942620754, 0.2229580134153366, 0.07688207179307938, 0.06406839191913605, 0.010250942781567574, 0.02562735788524151, 0.01537641417235136, 0.0025627356953918934, 0.0025627356953918934, 0.0025627356953918934, 0.6427655816078186, 0.16069139540195465, 0.16069139540195465, 0.7255987524986267, 0.18139968812465668, 0.8353768587112427, 0.3633216619491577, 0.045415207743644714, 0.022707603871822357, 0.022707603871822357, 0.022707603871822357, 0.13624562323093414, 0.29519885778427124, 0.022707603871822357, 0.022707603871822357, 0.022707603871822357, 0.3104085624217987, 0.46561285853385925, 0.15520428121089935, 0.20950277149677277, 0.44893452525138855, 0.14964483678340912, 0.029928967356681824, 0.08978690207004547, 0.029928967356681824, 0.626430869102478, 0.01566077210009098, 0.23491157591342926, 0.03132154420018196, 0.07830385863780975, 0.8768630027770996, 0.6432993412017822, 0.010051552206277847, 0.010051552206277847, 0.08041241765022278, 0.08041241765022278, 0.10051552206277847, 0.030154656618833542, 0.04020620882511139, 0.010051552206277847, 0.8458142280578613, 0.006265290547162294, 0.031326454132795334, 0.050122324377298355, 0.006265290547162294, 0.031326454132795334, 0.006265290547162294, 0.006265290547162294, 0.006265290547162294, 0.4922369420528412, 0.3281579613685608, 0.1640789806842804, 0.39458414912223816, 0.03288201242685318, 0.06576402485370636, 0.42746615409851074, 0.03288201242685318, 0.03288201242685318, 0.2941798269748688, 0.01634332351386547, 0.01634332351386547, 0.09805993735790253, 0.49029970169067383, 0.06537329405546188, 0.21599459648132324, 0.7559810876846313, 0.7494115233421326, 0.18735288083553314, 0.3593091070652008, 0.5389636754989624, 0.3015996515750885, 0.15079982578754425, 0.45239946246147156, 0.021469831466674805, 0.7299742698669434, 0.24690306186676025, 0.7315479516983032, 0.3635798394680023, 0.16123975813388824, 0.11065473407506943, 0.04426189512014389, 0.05058502033352852, 0.028454074636101723, 0.1296241134405136, 0.02529251016676426, 0.022130947560071945, 0.022130947560071945, 0.009484691545367241, 0.0031615637708455324, 0.02529251016676426, 0.0031615637708455324, 0.3725253939628601, 0.12417512387037277, 0.12417512387037277, 0.24835024774074554, 0.12417512387037277, 0.4687218964099884, 0.10044040530920029, 0.03348013386130333, 0.13392053544521332, 0.03348013386130333, 0.06696026772260666, 0.03348013386130333, 0.03348013386130333, 0.03348013386130333, 0.5292941331863403, 0.08821569383144379, 0.08821569383144379, 0.17643138766288757, 0.10113849490880966, 0.007779884152114391, 0.5601516366004944, 0.07779884338378906, 0.0233396515250206, 0.13225802779197693, 0.007779884152114391, 0.0700189545750618, 0.007779884152114391, 0.15931332111358643, 0.31862664222717285, 0.15931332111358643, 0.31862664222717285, 0.21963778138160706, 0.10981889069080353, 0.21963778138160706, 0.21963778138160706, 0.10981889069080353, 0.09629210829734802, 0.09629210829734802, 0.21665725111961365, 0.09629210829734802, 0.09629210829734802, 0.07221908122301102, 0.09629210829734802, 0.024073027074337006, 0.14443816244602203, 0.024073027074337006, 0.2939099669456482, 0.39187994599342346, 0.19593997299671173, 0.5837778449058533, 0.08339683711528778, 0.08339683711528778, 0.08339683711528778, 0.08339683711528778, 0.44996023178100586, 0.022498011589050293, 0.06749403476715088, 0.15748608112335205, 0.11249005794525146, 0.022498011589050293, 0.044996023178100586, 0.022498011589050293, 0.08999204635620117, 0.2144707590341568, 0.1825283020734787, 0.07301132380962372, 0.0958273634314537, 0.11408019065856934, 0.03650566190481186, 0.041068870574235916, 0.14602264761924744, 0.0319424532353878, 0.009126415476202965, 0.009126415476202965, 0.0319424532353878, 0.013689623214304447, 0.004563207738101482, 0.1882447600364685, 0.250993013381958, 0.3137412667274475, 0.0627482533454895, 0.125496506690979, 0.026328954845666885, 0.4709957540035248, 0.2281842827796936, 0.07313598692417145, 0.017552636563777924, 0.040956154465675354, 0.02925439551472664, 0.08483774214982986, 0.01170175801962614, 0.008776318281888962, 0.002925439504906535, 0.00585087900981307, 0.002925439504906535, 0.10184504836797714, 0.2473379671573639, 0.2473379671573639, 0.08729575574398041, 0.02909858524799347, 0.08729575574398041, 0.043647877871990204, 0.02909858524799347, 0.014549292623996735, 0.07274646311998367, 0.02909858524799347, 0.3819449841976166, 0.3819449841976166, 0.1909724920988083, 0.6892492771148682, 0.012763875536620617, 0.22974976897239685, 0.012763875536620617, 0.025527751073241234, 0.11983954161405563, 0.47935816645622253, 0.11983954161405563, 0.23967908322811127, 0.7033573389053345, 0.21100719273090363, 0.1764342486858368, 0.7057369947433472, 0.05311159789562225, 0.017703866586089134, 0.07081546634435654, 0.637339174747467, 0.08851933479309082, 0.08851933479309082, 0.03540773317217827, 0.1192382201552391, 0.2384764403104782, 0.2384764403104782, 0.3577146530151367, 0.5177133679389954, 0.013274701312184334, 0.09292291104793549, 0.013274701312184334, 0.1592964231967926, 0.10619761049747467, 0.013274701312184334, 0.09292291104793549, 0.010917462408542633, 0.0027293656021356583, 0.0027293656021356583, 0.821539044380188, 0.01637619361281395, 0.008188096806406975, 0.0054587312042713165, 0.010917462408542633, 0.03548175469040871, 0.08188097178936005, 0.0054587312042713165, 0.13491517305374146, 0.21024280786514282, 0.12592081725597382, 0.2034970372915268, 0.12479653209447861, 0.05509036034345627, 0.035977378487586975, 0.038225963711738586, 0.04722030833363533, 0.006745758466422558, 0.004497172310948372, 0.005621465388685465, 0.001124293077737093, 0.006745758466422558, 0.06242433562874794, 0.8115163445472717, 0.06242433562874794, 0.06002537161111832, 0.9203889966011047, 0.36522817611694336, 0.11518734693527222, 0.03933226689696312, 0.13204403221607208, 0.14328183233737946, 0.03933226689696312, 0.05337950214743614, 0.028094476088881493, 0.036522816866636276, 0.014047238044440746, 0.011237789876759052, 0.008428342640399933, 0.016856685280799866, 0.15063609182834625, 0.3012721836566925, 0.15063609182834625, 0.11297707259654999, 0.03765902295708656, 0.03765902295708656, 0.1882951259613037, 0.39531323313713074, 0.5270842909812927, 0.20252357423305511, 0.13501572608947754, 0.18002095818519592, 0.04500523954629898, 0.09001047909259796, 0.11251310259103775, 0.02250261977314949, 0.18002095818519592, 0.02250261977314949, 0.1359088271856308, 0.1359088271856308, 0.5436353087425232, 0.1359088271856308, 0.11096598953008652, 0.22193197906017303, 0.11096598953008652, 0.11096598953008652, 0.22193197906017303, 0.11096598953008652, 0.13362695276737213, 0.26725390553474426, 0.5345078110694885, 0.15217767655849457, 0.6087107062339783, 0.2668873071670532, 0.17792488634586334, 0.08896244317293167, 0.08896244317293167, 0.2668873071670532, 0.29101845622062683, 0.03233538195490837, 0.03233538195490837, 0.2263476848602295, 0.19401229918003082, 0.03233538195490837, 0.16167691349983215, 0.21257416903972626, 0.23318742215633392, 0.10821957886219025, 0.11981453746557236, 0.14429277181625366, 0.04895647615194321, 0.05668644607067108, 0.02963155135512352, 0.007729969918727875, 0.023189909756183624, 0.010306626558303833, 0.0025766566395759583, 0.0038649849593639374, 0.0012883283197879791, 0.2665995657444, 0.08886652439832687, 0.2665995657444, 0.2665995657444, 0.244912251830101, 0.6735087037086487, 0.5466706156730652, 0.028137458488345146, 0.02411782182753086, 0.05627491697669029, 0.05627491697669029, 0.01607854850590229, 0.18490329384803772, 0.01607854850590229, 0.036176733672618866, 0.008039274252951145, 0.004019637126475573, 0.01607854850590229, 0.008039274252951145, 0.20701736211776733, 0.13801157474517822, 0.20701736211776733, 0.06900578737258911, 0.27602314949035645, 0.35345199704170227, 0.5301780104637146, 0.2580534517765045, 0.06451336294412613, 0.07526559382677078, 0.16128341853618622, 0.15053118765354156, 0.07526559382677078, 0.04300891235470772, 0.04300891235470772, 0.07526559382677078, 0.032256681472063065, 0.01075222808867693, 0.2218153476715088, 0.1971691995859146, 0.14787690341472626, 0.07393845170736313, 0.0806601271033287, 0.10082516074180603, 0.0806601271033287, 0.02240559086203575, 0.020165031775832176, 0.024646149948239326, 0.006721677258610725, 0.006721677258610725, 0.00448111817240715, 0.0089622363448143, 0.3310706913471222, 0.1103568971157074, 0.3310706913471222, 0.2207137942314148, 0.1944488286972046, 0.6805709004402161, 0.12716811895370483, 0.7630086541175842, 0.21221975982189178, 0.21221975982189178, 0.1097688376903534, 0.062202341854572296, 0.0914740338921547, 0.0365896113216877, 0.10610987991094589, 0.058543380349874496, 0.02561272867023945, 0.02561272867023945, 0.014635845087468624, 0.003658961271867156, 0.0329306535422802, 0.003658961271867156, 0.6413848996162415, 0.16034622490406036, 0.16034622490406036, 0.6253241896629333, 0.15633104741573334, 0.15633104741573334, 0.18283529579639435, 0.5485059022903442, 0.18283529579639435, 0.15575554966926575, 0.2919055223464966, 0.15575554966926575, 0.11327677220106125, 0.042478788644075394, 0.06861957907676697, 0.05228158459067345, 0.04356798902153969, 0.023962393403053284, 0.009802796877920628, 0.031586792320013046, 0.002178399357944727, 0.007624397985637188, 0.0010891996789723635, 0.06584107130765915, 0.2633642852306366, 0.6145166754722595, 0.021947024390101433, 0.15378142893314362, 0.15378142893314362, 0.6151257157325745, 0.4179611802101135, 0.06966019421815872, 0.48762136697769165, 0.026560470461845398, 0.24568434059619904, 0.09794173389673233, 0.4382477402687073, 0.009960176423192024, 0.051460910588502884, 0.023240411654114723, 0.04980088025331497, 0.01992035284638405, 0.024900440126657486, 0.0066401176154613495, 0.0033200588077306747, 0.3094620406627655, 0.3094620406627655, 0.3094620406627655, 0.01590193808078766, 0.6837833523750305, 0.21202583611011505, 0.014135056175291538, 0.0035337640438228846, 0.02296946570277214, 0.010601292364299297, 0.012368174269795418, 0.0017668820219114423, 0.012368174269795418, 0.0035337640438228846, 0.0017668820219114423, 0.0017668820219114423, 0.0017668820219114423, 0.12326328456401825, 0.36978986859321594, 0.2465265691280365, 0.12326328456401825, 0.03310259431600571, 0.36412855982780457, 0.3420601487159729, 0.027585497125983238, 0.016551297158002853, 0.027585497125983238, 0.08827358484268188, 0.005517099052667618, 0.02206839621067047, 0.03310259431600571, 0.005517099052667618, 0.03310259431600571, 0.17280304431915283, 0.10800189524888992, 0.032400570809841156, 0.15120266377925873, 0.37800663709640503, 0.010800190269947052, 0.04320076107978821, 0.010800190269947052, 0.07560133188962936, 0.021600380539894104, 0.38991105556488037, 0.2924332916736603, 0.09747776389122009, 0.09747776389122009, 0.891118586063385, 0.13463883101940155, 0.5385553240776062, 0.13463883101940155, 0.18211297690868378, 0.18211297690868378, 0.36422595381736755, 0.18211297690868378, 0.2891212999820709, 0.052567511796951294, 0.4818688631057739, 0.008761252276599407, 0.11389627307653427, 0.052567511796951294, 0.589229166507721, 0.11784584075212479, 0.11784584075212479, 0.11784584075212479, 0.49800920486450195, 0.11066871136426926, 0.05533435568213463, 0.05533435568213463, 0.05533435568213463, 0.2213374227285385, 0.19382449984550476, 0.5814734697341919, 0.3170611560344696, 0.5284352898597717, 0.26683613657951355, 0.13341806828975677, 0.5336722731590271, 0.1251687854528427, 0.34067678451538086, 0.19591636955738068, 0.0729244276881218, 0.047890666872262955, 0.088162362575531, 0.029387453570961952, 0.06857072561979294, 0.010884242132306099, 0.0032652728259563446, 0.008707393892109394, 0.0032652728259563446, 0.0021768484730273485, 0.0021768484730273485, 0.9138233065605164, 0.0351470522582531, 0.28063881397247314, 0.14031940698623657, 0.14031940698623657, 0.28063881397247314, 0.2504163980484009, 0.2278563529253006, 0.11731218546628952, 0.05865609273314476, 0.04286406561732292, 0.06768010556697845, 0.05640008673071861, 0.11731218546628952, 0.022560035809874535, 0.013536021113395691, 0.011280017904937267, 0.011280017904937267, 0.0045120068825781345, 0.3666960895061493, 0.18334804475307465, 0.18334804475307465, 0.18334804475307465, 0.2314772605895996, 0.077159084379673, 0.077159084379673, 0.3857954144477844, 0.077159084379673, 0.077159084379673, 0.7557016611099243, 0.15114033222198486, 0.8328917026519775, 0.289986252784729, 0.010544953867793083, 0.036907341331243515, 0.005272476933896542, 0.08963210880756378, 0.3743458688259125, 0.026362385600805283, 0.010544953867793083, 0.08963210880756378, 0.052724771201610565, 0.005272476933896542, 0.010544953867793083, 0.8887351751327515, 0.9605815410614014, 0.9672999382019043, 0.8073973059654236, 0.06728310883045197, 0.06728310883045197, 0.06728310883045197, 0.702221155166626, 0.1755552887916565, 0.8949933648109436, 0.2636018693447113, 0.04291193187236786, 0.045977070927619934, 0.16551746428012848, 0.23601563274860382, 0.024521104991436005, 0.11954038590192795, 0.009195414371788502, 0.052107349038124084, 0.009195414371788502, 0.012260552495718002, 0.0030651381239295006, 0.006130276247859001, 0.006130276247859001, 0.5101178884506226, 0.046374354511499405, 0.09274870902299881, 0.1391230672597885, 0.046374354511499405, 0.1391230672597885, 0.32738760113716125, 0.09861072152853012, 0.05127757415175438, 0.12227729707956314, 0.1617215871810913, 0.031555432826280594, 0.08283300697803497, 0.015777716413140297, 0.031555432826280594, 0.007888858206570148, 0.03549985960125923, 0.019722145050764084, 0.007888858206570148, 0.17645053565502167, 0.7058021426200867, 0.4247196912765503, 0.2359553873538971, 0.0471910759806633, 0.2359553873538971, 0.11848854273557663, 0.4042550325393677, 0.11848854273557663, 0.041819486767053604, 0.20212751626968384, 0.041819486767053604, 0.006969914305955172, 0.03484957292675972, 0.027879657223820686, 0.4248206615447998, 0.4248206615447998, 0.1416068822145462, 0.36540013551712036, 0.18270006775856018, 0.36540013551712036, 0.5851315855979919, 0.058513157069683075, 0.17553946375846863, 0.058513157069683075, 0.058513157069683075, 0.30767548084259033, 0.07691887021064758, 0.15383774042129517, 0.23075659573078156, 0.15383774042129517, 0.13807085156440735, 0.2761417031288147, 0.2761417031288147, 0.2761417031288147, 0.15602098405361176, 0.624083936214447, 0.15602098405361176, 0.08940830826759338, 0.2503432631492615, 0.10728996992111206, 0.017881661653518677, 0.017881661653518677, 0.2771657705307007, 0.05364498496055603, 0.12517163157463074, 0.008940830826759338, 0.04470415413379669, 0.008940830826759338, 0.17712512612342834, 0.7085005044937134, 0.08212640881538391, 0.41391709446907043, 0.13140225410461426, 0.07555629312992096, 0.024637922644615173, 0.12154708057641983, 0.042705733329057693, 0.06734365224838257, 0.011497696861624718, 0.011497696861624718, 0.006570112891495228, 0.001642528222873807, 0.008212640881538391, 0.001642528222873807, 0.09015002101659775, 0.751250147819519, 0.09015002101659775, 0.0601000152528286, 0.1323787271976471, 0.6618936061859131, 0.1323787271976471, 0.6447178721427917, 0.10745297372341156, 0.10745297372341156, 0.10745297372341156, 0.16530178487300873, 0.33060356974601746, 0.33060356974601746, 0.5604575872421265, 0.0622730627655983, 0.1245461255311966, 0.1868191808462143, 0.0622730627655983, 0.6299772262573242, 0.06999747455120087, 0.2099924236536026, 0.45918434858322144, 0.09183686971664429, 0.09183686971664429, 0.18367373943328857, 0.09183686971664429, 0.8489909172058105, 0.03537462279200554, 0.07074924558401108, 0.11610020697116852, 0.11610020697116852, 0.11610020697116852, 0.11610020697116852, 0.4644008278846741, 0.16078519821166992, 0.15655401349067688, 0.1480916291475296, 0.13539806008338928, 0.16501638293266296, 0.02961832657456398, 0.0846237912774086, 0.0423118956387043, 0.03808070346713066, 0.012693568132817745, 0.004231189377605915, 0.01692475751042366, 0.26736757159233093, 0.13368378579616547, 0.5347351431846619, 0.05653218552470207, 0.9045149683952332, 0.018844062462449074, 0.6516817808151245, 0.025064682587981224, 0.12532341480255127, 0.03759702295064926, 0.05012936517596245, 0.06266170740127563, 0.025064682587981224, 0.5233706831932068, 0.12314604222774506, 0.06157302111387253, 0.09235953539609909, 0.09235953539609909, 0.09235953539609909, 0.21655471622943878, 0.23148952424526215, 0.10454365611076355, 0.09707625210285187, 0.07654089480638504, 0.03173646703362465, 0.056005530059337616, 0.10267680883407593, 0.011201106011867523, 0.028002765029668808, 0.022402212023735046, 0.003733702003955841, 0.011201106011867523, 0.007467404007911682, 0.3172016441822052, 0.026433469727635384, 0.03965020552277565, 0.5418861508369446, 0.03965020552277565, 0.026433469727635384, 0.16297999024391174, 0.16297999024391174, 0.16297999024391174, 0.3259599804878235, 0.16297999024391174, 0.5317381024360657, 0.10634762793779373, 0.3190428912639618, 0.6479635238647461, 0.10799391567707062, 0.10799391567707062, 0.1622965931892395, 0.324593186378479, 0.1622965931892395, 0.324593186378479, 0.05130026489496231, 0.3796219527721405, 0.04232271760702133, 0.05514778196811676, 0.021802611649036407, 0.25650131702423096, 0.02308511920273304, 0.12055561691522598, 0.010260052978992462, 0.010260052978992462, 0.0038475198671221733, 0.005130026489496231, 0.015390079468488693, 0.0025650132447481155, 0.34512269496917725, 0.14495153725147247, 0.11734171956777573, 0.07247576862573624, 0.02415858954191208, 0.07937822490930557, 0.0655733123421669, 0.08282945305109024, 0.02415858954191208, 0.006902453955262899, 0.017256135120987892, 0.017256135120987892, 0.0034512269776314497, 0.10718259960412979, 0.28453510999679565, 0.1364843100309372, 0.06785660982131958, 0.05243465304374695, 0.11566467583179474, 0.06477221846580505, 0.11103808879852295, 0.012337565422058105, 0.011566467583179474, 0.012337565422058105, 0.006168782711029053, 0.014650858938694, 0.0015421956777572632, 0.0541781485080719, 0.2528313398361206, 0.0902969092130661, 0.0361187644302845, 0.072237528860569, 0.1986532062292099, 0.01805938221514225, 0.1083562970161438, 0.1264156699180603, 0.0361187644302845, 0.8688063025474548, 0.009872798807919025, 0.009872798807919025, 0.0394911952316761, 0.0394911952316761, 0.01974559761583805, 0.27680256962776184, 0.17486892640590668, 0.08963130414485931, 0.08611635118722916, 0.06854158639907837, 0.082601398229599, 0.06678411364555359, 0.06502663344144821, 0.029877102002501488, 0.021968457847833633, 0.015817290171980858, 0.007029906380921602, 0.009666121564805508, 0.004393691662698984, 0.12607553601264954, 0.3782266080379486, 0.2966483235359192, 0.01483241654932499, 0.007416208274662495, 0.04449724778532982, 0.02224862389266491, 0.04449724778532982, 0.06674586981534958, 0.4408521056175232, 0.17634084820747375, 0.17634084820747375, 0.08817042410373688, 0.17634084820747375, 0.20837415754795074, 0.2839384078979492, 0.12594042718410492, 0.06793150305747986, 0.08396027982234955, 0.0908297598361969, 0.036637213081121445, 0.06106202304363251, 0.01679205521941185, 0.008396027609705925, 0.008396027609705925, 0.0022898258175700903, 0.0022898258175700903, 0.0038163764402270317, 0.8567600846290588, 0.18404391407966614, 0.3680878281593323, 0.18404391407966614, 0.18404391407966614, 0.3264670968055725, 0.10882236808538437, 0.10882236808538437, 0.21764473617076874, 0.10882236808538437, 0.30724677443504333, 0.16266004741191864, 0.09237484633922577, 0.10844003409147263, 0.1445867121219635, 0.024097785353660583, 0.05020371824502945, 0.036146678030490875, 0.04016297683119774, 0.014057041145861149, 0.008032594807446003, 0.010040744207799435, 0.0040162974037230015, 0.11474420130252838, 0.34423261880874634, 0.05737210065126419, 0.17211630940437317, 0.22948840260505676, 0.05737210065126419, 0.1621333807706833, 0.1621333807706833, 0.5674668550491333, 0.08106669038534164, 0.1026473119854927, 0.5260674357414246, 0.17535582184791565, 0.09409336745738983, 0.029938798397779465, 0.02138485573232174, 0.01710788533091545, 0.029938798397779465, 0.004276971332728863, 0.004276971332728863, 0.3532426357269287, 0.11774753779172897, 0.23549507558345795, 0.23549507558345795, 0.12878765165805817, 0.7727258801460266, 0.41731104254722595, 0.04439479112625122, 0.026636874303221703, 0.1154264584183693, 0.3285214602947235, 0.008878958411514759, 0.017757916823029518, 0.017757916823029518, 0.017757916823029518, 0.008878958411514759, 0.10558227449655533, 0.10558227449655533, 0.527911365032196, 0.10558227449655533, 0.054741084575653076, 0.027370542287826538, 0.054741084575653076, 0.10948216915130615, 0.6568930149078369, 0.027370542287826538, 0.027370542287826538, 0.027370542287826538, 0.05428808927536011, 0.3619205951690674, 0.01809602975845337, 0.05428808927536011, 0.10857617855072021, 0.03619205951690674, 0.01809602975845337, 0.2895364761352539, 0.01809602975845337, 0.01809602975845337, 0.1802966445684433, 0.09014832228422165, 0.27044495940208435, 0.09014832228422165, 0.09014832228422165, 0.27044495940208435, 0.7900012135505676, 0.04590246081352234, 0.20328232645988464, 0.48525458574295044, 0.006557494401931763, 0.04590246081352234, 0.0524599552154541, 0.07868993282318115, 0.019672483205795288, 0.02622997760772705, 0.006557494401931763, 0.013114988803863525, 0.15671969950199127, 0.31343939900398254, 0.31343939900398254, 0.11986351758241653, 0.23972703516483307, 0.47945407032966614, 0.11986351758241653, 0.8950107097625732, 0.29969605803489685, 0.21796075999736786, 0.38143134117126465, 0.054490189999341965, 0.5353783965110779, 0.17845946550369263, 0.17845946550369263, 0.17845946550369263, 0.4431201219558716, 0.1107800304889679, 0.2215600609779358, 0.2215600609779358, 0.290774405002594, 0.0484623983502388, 0.1211559996008873, 0.1938495934009552, 0.0726936012506485, 0.0726936012506485, 0.145387202501297, 0.0484623983502388, 0.0242311991751194, 0.3529748022556305, 0.21178486943244934, 0.07059495896100998, 0.2823798358440399, 0.1446448713541031, 0.2892897427082062, 0.1446448713541031, 0.1446448713541031, 0.1446448713541031, 0.33765870332717896, 0.33765870332717896, 0.11255289614200592, 0.5355868339538574, 0.13389670848846436, 0.2677934169769287, 0.15146704018115997, 0.6816017031669617, 0.07573352009057999, 0.8445145487785339, 0.09383495151996613, 0.4544374942779541, 0.15147916972637177, 0.15147916972637177, 0.7740052342414856, 0.07740052044391632, 0.8847380876541138, 0.07163990288972855, 0.07163990288972855, 0.35819950699806213, 0.07163990288972855, 0.1432798057794571, 0.07163990288972855, 0.1432798057794571, 0.09956783056259155, 0.0199135672301054, 0.7368019819259644, 0.0398271344602108, 0.0199135672301054, 0.0199135672301054, 0.0199135672301054, 0.0199135672301054, 0.17754898965358734, 0.17754898965358734, 0.5326469540596008, 0.17894205451011658, 0.17894205451011658, 0.35788410902023315, 0.17894205451011658, 0.4623901844024658, 0.15413005650043488, 0.15413005650043488, 0.054830122739076614, 0.7676217555999756, 0.054830122739076614, 0.054830122739076614, 0.18598653376102448, 0.18598653376102448, 0.37197306752204895, 0.18598653376102448, 0.9491943717002869, 0.6078769564628601, 0.30393847823143005, 0.13326096534729004, 0.13326096534729004, 0.13326096534729004, 0.5330438613891602, 0.13326096534729004, 0.8982704281806946, 0.7870205640792847, 0.1311700940132141, 0.17142602801322937, 0.6857041120529175, 0.1650976687669754, 0.0825488343834877, 0.6603906750679016, 0.3522232472896576, 0.5283348560333252, 0.3164081871509552, 0.008789116516709328, 0.017578233033418655, 0.1582040935754776, 0.44824495911598206, 0.008789116516709328, 0.03515646606683731, 0.4546186625957489, 0.30307912826538086, 0.15153956413269043, 0.259570449590683, 0.14420580863952637, 0.05768232047557831, 0.28841161727905273, 0.05768232047557831, 0.028841160237789154, 0.14420580863952637, 0.05768232047557831, 0.1395239233970642, 0.22943934798240662, 0.1240212693810463, 0.0992170125246048, 0.021703721955418587, 0.13642339408397675, 0.046507976949214935, 0.08681488782167435, 0.031005317345261574, 0.03720638155937195, 0.0124021265655756, 0.0062010632827878, 0.0248042531311512, 0.0031005316413939, 0.907098650932312, 0.20478777587413788, 0.19757694005966187, 0.1384480744600296, 0.10816255956888199, 0.060571033507585526, 0.11393123120069504, 0.08220354467630386, 0.049033693969249725, 0.010095172561705112, 0.015863841399550438, 0.010095172561705112, 0.001442167442291975, 0.004326502326875925, 0.26090312004089355, 0.14249324798583984, 0.13245850801467896, 0.1826321929693222, 0.0822848305106163, 0.026090312749147415, 0.07626399397850037, 0.03813199698925018, 0.03211115300655365, 0.010034735314548016, 0.008027788251638412, 0.004013894125819206, 0.004013894125819206, 0.06044919416308403, 0.0022388591896742582, 0.649269163608551, 0.0022388591896742582, 0.2731408178806305, 0.008955436758697033, 0.5628036856651306, 0.3939625918865204, 0.8821512460708618, 0.2047857791185379, 0.10239288955926895, 0.5119644403457642, 0.10239288955926895, 0.2512502372264862, 0.021292394027113914, 0.012775436043739319, 0.1107204481959343, 0.3790046274662018, 0.021292394027113914, 0.05536022409796715, 0.021292394027113914, 0.051101744174957275, 0.012775436043739319, 0.03832630813121796, 0.01703391596674919, 0.008516957983374596, 0.06659232825040817, 0.9271700978279114, 0.11131221801042557, 0.24057801067829132, 0.17953583598136902, 0.15799152851104736, 0.01077215000987053, 0.11849364638328552, 0.014362866058945656, 0.07899576425552368, 0.003590716514736414, 0.05745146423578262, 0.007181433029472828, 0.01077215000987053, 0.007181433029472828, 0.007181433029472828, 0.20834189653396606, 0.2291760891675949, 0.08333675563335419, 0.020834188908338547, 0.14583931863307953, 0.041668377816677094, 0.06250257045030594, 0.020834188908338547, 0.041668377816677094, 0.041668377816677094, 0.020834188908338547, 0.020834188908338547, 0.06250257045030594, 0.9795610308647156, 0.0049224174581468105, 0.009844834916293621, 0.0049224174581468105, 0.9248381853103638, 0.3072845935821533, 0.6145691871643066, 0.35867345333099365, 0.35867345333099365, 0.17933672666549683, 0.16914956271648407, 0.23766584694385529, 0.1134800836443901, 0.09420987963676453, 0.06851627677679062, 0.11133895069360733, 0.04282267391681671, 0.0706574097275734, 0.021411336958408356, 0.027834737673401833, 0.004282267298549414, 0.008564534597098827, 0.03425813838839531, 0.004282267298549414, 0.20365098118782043, 0.20365098118782043, 0.30547648668289185, 0.10182549059391022, 0.10182549059391022, 0.31953540444374084, 0.15976770222187042, 0.31953540444374084, 0.15976770222187042, 0.10579975694417953, 0.753045380115509, 0.0031117575708776712, 0.11824679374694824, 0.012447030283510685, 0.21595747768878937, 0.14397165179252625, 0.14397165179252625, 0.21595747768878937, 0.03599291294813156, 0.21595747768878937, 0.2359267622232437, 0.23085306584835052, 0.0964001789689064, 0.10654757171869278, 0.0482000894844532, 0.025368468835949898, 0.08878964185714722, 0.12937919795513153, 0.012684234417974949, 0.007610540837049484, 0.007610540837049484, 0.005073694046586752, 0.005073694046586752, 0.33973196148872375, 0.07809930294752121, 0.08200427144765854, 0.07809930294752121, 0.10933902859687805, 0.023429790511727333, 0.1796284019947052, 0.023429790511727333, 0.046859581023454666, 0.019524825736880302, 0.011714895255863667, 0.003904965240508318, 0.5557038187980652, 0.1389259546995163, 0.1389259546995163, 0.7762507796287537, 0.1293751299381256, 0.12152229249477386, 0.32405945658683777, 0.07291337847709656, 0.048608917742967606, 0.04050743207335472, 0.048608917742967606, 0.048608917742967606, 0.23494309186935425, 0.024304458871483803, 0.01620297320187092, 0.00810148660093546, 0.00810148660093546, 0.00810148660093546, 0.35191112756729126, 0.2559353709220886, 0.19195151329040527, 0.1279676854610443, 0.03199192136526108, 0.39343708753585815, 0.5245828032493591, 0.13254417479038239, 0.19629959762096405, 0.11073310673236847, 0.226499542593956, 0.050333231687545776, 0.06207764893770218, 0.06543319672346115, 0.07885539531707764, 0.011744420044124126, 0.018455518409609795, 0.02013329230248928, 0.00503332307562232, 0.015099968761205673, 0.006711097434163094, 0.9228895902633667, 0.2363768070936203, 0.11818840354681015, 0.5909420251846313, 0.11397673934698105, 0.29481983184814453, 0.17932340502738953, 0.03191348910331726, 0.09270108491182327, 0.10333891212940216, 0.050149764865636826, 0.08206325024366379, 0.015196898952126503, 0.004559069871902466, 0.009118139743804932, 0.0015196899184957147, 0.018236279487609863, 0.0015196899184957147], \"Term\": [\"abandon\", \"abandon\", \"abandon\", \"abandon\", \"abbey\", \"abbey\", \"abbey\", \"abbot\", \"abbot\", \"accomplish\", \"accomplish\", \"accomplish\", \"accomplish\", \"accomplish\", \"adele\", \"adele\", \"adele\", \"adele\", \"adele\", \"adele\", \"adele\", \"advise\", \"advise\", \"advise\", \"advise\", \"advise\", \"advise\", \"advise\", \"affectedly\", \"affectedly\", \"affectedly\", \"aghast\", \"aghast\", \"aghast\", \"aghast\", \"alfred\", \"alfred\", \"alfred\", \"alfred\", \"alfred\", \"alfred\", \"allenham\", \"allenham\", \"alley\", \"alley\", \"alley\", \"alleys\", \"alleys\", \"allez\", \"allez\", \"allez\", \"amidst\", \"amidst\", \"amidst\", \"amidst\", \"amidst\", \"amidst\", \"amidst\", \"amidst\", \"amy\", \"anglais\", \"anglais\", \"anglais\", \"answer\", \"answer\", \"answer\", \"answer\", \"answer\", \"answer\", \"answer\", \"answer\", \"answer\", \"answer\", \"answer\", \"answer\", \"answer\", \"answer\", \"antiquity\", \"antiquity\", \"antiquity\", \"approving\", \"approving\", \"approving\", \"arched\", \"arched\", \"arched\", \"argue\", \"argue\", \"argue\", \"argue\", \"aristocratic\", \"aristocratic\", \"arithmetic\", \"arm\", \"arm\", \"arm\", \"arm\", \"arm\", \"arm\", \"arm\", \"arm\", \"arm\", \"arm\", \"arm\", \"asked\", \"asked\", \"asked\", \"asked\", \"asked\", \"asked\", \"asked\", \"asked\", \"asked\", \"asked\", \"asked\", \"asked\", \"asked\", \"asperity\", \"asperity\", \"asperity\", \"asperity\", \"asserted\", \"asserted\", \"asserted\", \"asserted\", \"assez\", \"assez\", \"assez\", \"associates\", \"associates\", \"associates\", \"associates\", \"associations\", \"associations\", \"associations\", \"athenee\", \"athenee\", \"athenee\", \"athenee\", \"audacity\", \"audacity\", \"audacity\", \"audience\", \"audience\", \"audience\", \"audience\", \"aunt\", \"aunt\", \"aunt\", \"aunt\", \"aunt\", \"aunt\", \"aunt\", \"aunt\", \"aunt\", \"aunt\", \"aunt\", \"aux\", \"aux\", \"aux\", \"aux\", \"avez\", \"avez\", \"away\", \"away\", \"away\", \"away\", \"away\", \"away\", \"away\", \"away\", \"away\", \"away\", \"away\", \"away\", \"away\", \"away\", \"bade\", \"baking\", \"baking\", \"baking\", \"bargain\", \"bargain\", \"bargain\", \"bargain\", \"bargain\", \"barton\", \"barton\", \"barton\", \"basin\", \"basin\", \"basin\", \"basin\", \"basin\", \"basse\", \"bates\", \"bates\", \"bates\", \"bates\", \"bateses\", \"bateses\", \"bathing\", \"bathing\", \"battlements\", \"battlements\", \"battlements\", \"battlements\", \"beck\", \"beck\", \"beck\", \"beck\", \"beck\", \"beck\", \"beck\", \"bed\", \"bed\", \"bed\", \"bed\", \"bed\", \"bed\", \"bed\", \"bed\", \"bed\", \"bed\", \"bed\", \"bed\", \"bedrooms\", \"bedrooms\", \"bedrooms\", \"bedrooms\", \"beer\", \"beer\", \"belgium\", \"belgium\", \"belgium\", \"bends\", \"bends\", \"bends\", \"bends\", \"benefactress\", \"benefactress\", \"benefactress\", \"benign\", \"bennet\", \"bennet\", \"bennets\", \"bennets\", \"berceau\", \"berceau\", \"berkeley\", \"bertha\", \"bertha\", \"bessie\", \"bessie\", \"bessie\", \"bessie\", \"bessie\", \"bessie\", \"bessie\", \"better\", \"better\", \"better\", \"better\", \"better\", \"better\", \"better\", \"better\", \"better\", \"better\", \"better\", \"better\", \"better\", \"bewilderment\", \"bewitching\", \"bewitching\", \"bien\", \"bien\", \"bien\", \"bien\", \"bien\", \"billet\", \"billet\", \"bingley\", \"bingley\", \"bingleys\", \"birth\", \"birth\", \"birth\", \"birth\", \"birth\", \"birth\", \"black\", \"black\", \"black\", \"black\", \"black\", \"black\", \"black\", \"black\", \"black\", \"black\", \"black\", \"black\", \"black\", \"blanche\", \"blanche\", \"blanche\", \"blanche\", \"blanche\", \"blanche\", \"blanche\", \"bloody\", \"bloody\", \"boarder\", \"boarder\", \"boarder\", \"body\", \"body\", \"body\", \"body\", \"body\", \"body\", \"body\", \"body\", \"body\", \"body\", \"body\", \"bolted\", \"bolted\", \"bolted\", \"bolted\", \"bouquet\", \"bouquet\", \"bourgh\", \"bourgh\", \"brains\", \"brains\", \"brains\", \"brains\", \"brandon\", \"brandon\", \"breakfast\", \"breakfast\", \"breakfast\", \"breakfast\", \"breakfast\", \"breakfast\", \"breakfast\", \"breakfast\", \"breakfast\", \"breakfast\", \"breakfast\", \"bretton\", \"bretton\", \"bretton\", \"bretton\", \"bretton\", \"bretton\", \"bretton\", \"bretton\", \"bretton\", \"briggs\", \"briggs\", \"briggs\", \"brighton\", \"brighton\", \"brim\", \"brim\", \"brim\", \"bristol\", \"bristol\", \"brocklehurst\", \"brocklehurst\", \"brocklehurst\", \"brocklehurst\", \"brocklehurst\", \"brocklehurst\", \"brocklehurst\", \"brown\", \"brown\", \"brown\", \"brown\", \"brown\", \"brown\", \"brown\", \"brown\", \"brown\", \"brown\", \"brunswick\", \"brunswick\", \"brunswick\", \"brussels\", \"brussels\", \"brussels\", \"brussels\", \"brussels\", \"burn\", \"burn\", \"burn\", \"burn\", \"business\", \"business\", \"business\", \"business\", \"business\", \"business\", \"business\", \"business\", \"business\", \"business\", \"business\", \"business\", \"business\", \"business\", \"bust\", \"bust\", \"bust\", \"bust\", \"came\", \"came\", \"came\", \"came\", \"came\", \"came\", \"came\", \"came\", \"came\", \"came\", \"came\", \"came\", \"came\", \"campbell\", \"campbells\", \"campbells\", \"carlo\", \"carlo\", \"casting\", \"catherine\", \"catherine\", \"catherine\", \"ce\", \"ce\", \"ce\", \"ce\", \"ce\", \"certain\", \"certain\", \"certain\", \"certain\", \"certain\", \"certain\", \"certain\", \"certain\", \"certain\", \"certain\", \"certain\", \"certain\", \"certain\", \"certain\", \"ces\", \"ces\", \"chalk\", \"chalk\", \"chalk\", \"chamber\", \"chamber\", \"chamber\", \"chamber\", \"chamber\", \"chamber\", \"chamber\", \"chamber\", \"chamber\", \"chamber\", \"chamber\", \"chamber\", \"chamber\", \"chambre\", \"chambre\", \"change\", \"change\", \"change\", \"change\", \"change\", \"change\", \"change\", \"change\", \"change\", \"change\", \"change\", \"change\", \"charade\", \"charade\", \"charade\", \"charlotte\", \"charlotte\", \"charlotte\", \"cherry\", \"chestnut\", \"chestnut\", \"chestnut\", \"chestnut\", \"chestnut\", \"child\", \"child\", \"child\", \"child\", \"child\", \"child\", \"child\", \"child\", \"child\", \"child\", \"child\", \"child\", \"cholmondeley\", \"cholmondeley\", \"cholmondeley\", \"cholmondeley\", \"cholmondeley\", \"cholmondeley\", \"churchill\", \"churchill\", \"churchill\", \"churchill\", \"churchills\", \"churchills\", \"cigar\", \"cigar\", \"cigar\", \"civility\", \"civility\", \"civility\", \"civility\", \"civility\", \"classe\", \"classe\", \"classe\", \"classe\", \"classe\", \"classe\", \"classe\", \"clay\", \"clay\", \"clay\", \"cleopatra\", \"cleopatra\", \"cleveland\", \"club\", \"club\", \"collins\", \"collins\", \"colonel\", \"colonel\", \"colonel\", \"colonel\", \"colonel\", \"colonel\", \"colonel\", \"combe\", \"come\", \"come\", \"come\", \"come\", \"come\", \"come\", \"come\", \"come\", \"come\", \"come\", \"come\", \"come\", \"come\", \"come\", \"comely\", \"comforter\", \"comforter\", \"comforter\", \"comforter\", \"comme\", \"comme\", \"comme\", \"comparisons\", \"comparisons\", \"comparisons\", \"comparisons\", \"concession\", \"concession\", \"concession\", \"confidences\", \"confidences\", \"conformity\", \"conformity\", \"conformity\", \"connexion\", \"connexion\", \"connexion\", \"connexions\", \"connexions\", \"connexions\", \"connexions\", \"continually\", \"continually\", \"continually\", \"continually\", \"continually\", \"continually\", \"continually\", \"continually\", \"continually\", \"contour\", \"contrasts\", \"contrasts\", \"corpse\", \"corpse\", \"correspondent\", \"correspondent\", \"correspondent\", \"cottage\", \"cottage\", \"cottage\", \"cottage\", \"cottage\", \"cottage\", \"couldn\", \"couldn\", \"count\", \"count\", \"count\", \"count\", \"count\", \"course\", \"course\", \"course\", \"course\", \"course\", \"course\", \"course\", \"course\", \"course\", \"course\", \"course\", \"course\", \"course\", \"course\", \"cousin\", \"cousin\", \"cousin\", \"cousin\", \"cousin\", \"cousin\", \"cousin\", \"cousin\", \"cousin\", \"cousin\", \"cousin\", \"crafty\", \"crafty\", \"creating\", \"creating\", \"creatures\", \"creatures\", \"creatures\", \"creatures\", \"creatures\", \"creatures\", \"crib\", \"crib\", \"crimson\", \"crimson\", \"crimson\", \"crimson\", \"crimson\", \"crimson\", \"crimsworth\", \"crimsworth\", \"crimsworth\", \"crimsworth\", \"crimsworth\", \"crimsworth\", \"crimsworth\", \"crimsworth\", \"crude\", \"crusty\", \"crusty\", \"cultivate\", \"cultivate\", \"cultivated\", \"cup\", \"cup\", \"cup\", \"cup\", \"cup\", \"cup\", \"cup\", \"cup\", \"dancer\", \"dancer\", \"dancer\", \"dancing\", \"dancing\", \"dancing\", \"dancing\", \"dancing\", \"dancing\", \"dancing\", \"darcy\", \"darcy\", \"dark\", \"dark\", \"dark\", \"dark\", \"dark\", \"dark\", \"dark\", \"dark\", \"dark\", \"dark\", \"dark\", \"dark\", \"dark\", \"dashwood\", \"dashwood\", \"dashwood\", \"dashwood\", \"dashwoods\", \"day\", \"day\", \"day\", \"day\", \"day\", \"day\", \"day\", \"day\", \"day\", \"day\", \"day\", \"day\", \"day\", \"day\", \"dear\", \"dear\", \"dear\", \"dear\", \"dear\", \"dear\", \"dear\", \"dear\", \"dear\", \"dear\", \"dear\", \"dear\", \"dear\", \"dear\", \"deceit\", \"deceit\", \"deceit\", \"deceit\", \"delaford\", \"delays\", \"delays\", \"delays\", \"demoiselles\", \"demure\", \"demure\", \"demure\", \"demure\", \"denny\", \"dent\", \"dent\", \"derbyshire\", \"derbyshire\", \"desiree\", \"desiree\", \"desiree\", \"desk\", \"desk\", \"desk\", \"desk\", \"desk\", \"desk\", \"desk\", \"desk\", \"destitute\", \"destitute\", \"destitute\", \"destitute\", \"destitute\", \"deuce\", \"deuce\", \"devonshire\", \"diana\", \"diana\", \"diana\", \"diana\", \"diana\", \"diana\", \"diana\", \"dies\", \"dies\", \"dies\", \"diffuse\", \"diffuse\", \"diffuse\", \"directress\", \"directress\", \"disagreement\", \"disagreement\", \"disagreement\", \"disclosure\", \"disclosure\", \"disclosure\", \"disclosure\", \"dishes\", \"dishes\", \"dishes\", \"dishes\", \"dishes\", \"disparity\", \"disparity\", \"displeasing\", \"displeasing\", \"displeasing\", \"dixon\", \"doctor\", \"doctor\", \"doctor\", \"doctor\", \"doctor\", \"doctor\", \"donwell\", \"donwell\", \"donwell\", \"door\", \"door\", \"door\", \"door\", \"door\", \"door\", \"door\", \"door\", \"door\", \"door\", \"door\", \"door\", \"door\", \"dr\", \"dr\", \"dr\", \"dr\", \"dr\", \"dr\", \"dr\", \"dr\", \"dr\", \"drapery\", \"drapery\", \"drapery\", \"drapery\", \"drapery\", \"driver\", \"driver\", \"dupe\", \"dupe\", \"dupe\", \"dutch\", \"dutch\", \"dutch\", \"eastern\", \"eastern\", \"eastern\", \"edward\", \"edward\", \"edward\", \"edward\", \"edward\", \"edward\", \"edward\", \"eighteen\", \"eighteen\", \"eighteen\", \"eighteen\", \"eighteen\", \"eighteen\", \"eighteen\", \"elegantly\", \"elegantly\", \"elegantly\", \"elegantly\", \"elevated\", \"elevated\", \"elevated\", \"elevated\", \"elevated\", \"elevated\", \"elicited\", \"elicited\", \"elicited\", \"elinor\", \"elinor\", \"elinor\", \"elinor\", \"elinor\", \"elizabeth\", \"elizabeth\", \"elizabeth\", \"elizabeth\", \"elizabeth\", \"elizabeth\", \"elton\", \"elton\", \"elton\", \"elton\", \"elton\", \"eltons\", \"eltons\", \"emanuel\", \"emanuel\", \"emanuel\", \"emanuel\", \"emanuel\", \"emanuel\", \"emanuel\", \"emma\", \"emma\", \"emma\", \"emma\", \"emma\", \"emma\", \"emma\", \"en\", \"en\", \"en\", \"en\", \"en\", \"en\", \"en\", \"en\", \"engagement\", \"engagement\", \"engagement\", \"engagement\", \"engagement\", \"english\", \"english\", \"english\", \"english\", \"english\", \"english\", \"english\", \"english\", \"english\", \"english\", \"english\", \"english\", \"enscombe\", \"enscombe\", \"enscombe\", \"enumerating\", \"equivalent\", \"equivalent\", \"equivalent\", \"ere\", \"ere\", \"ere\", \"ere\", \"ere\", \"ere\", \"ere\", \"ere\", \"ere\", \"errors\", \"errors\", \"errors\", \"errors\", \"errors\", \"errors\", \"eshton\", \"est\", \"est\", \"est\", \"est\", \"est\", \"est\", \"est\", \"et\", \"et\", \"et\", \"et\", \"et\", \"et\", \"et\", \"evans\", \"evening\", \"evening\", \"evening\", \"evening\", \"evening\", \"evening\", \"evening\", \"evening\", \"evening\", \"evening\", \"evening\", \"evening\", \"evening\", \"excitable\", \"excitable\", \"excitable\", \"exercising\", \"exercising\", \"exeter\", \"exhaustion\", \"exhaustion\", \"exhaustion\", \"exposing\", \"extraordinary\", \"extraordinary\", \"extraordinary\", \"extraordinary\", \"extraordinary\", \"extraordinary\", \"extraordinary\", \"eye\", \"eye\", \"eye\", \"eye\", \"eye\", \"eye\", \"eye\", \"eye\", \"eye\", \"eye\", \"eye\", \"eye\", \"eyebrows\", \"eyebrows\", \"eyebrows\", \"eyebrows\", \"eyebrows\", \"eyebrows\", \"eyelid\", \"eyelid\", \"eyelid\", \"eyelid\", \"eyes\", \"eyes\", \"eyes\", \"eyes\", \"eyes\", \"eyes\", \"eyes\", \"eyes\", \"eyes\", \"eyes\", \"eyes\", \"eyes\", \"eyes\", \"eyre\", \"eyre\", \"eyre\", \"eyre\", \"eyre\", \"eyre\", \"eyre\", \"eyre\", \"eyre\", \"face\", \"face\", \"face\", \"face\", \"face\", \"face\", \"face\", \"face\", \"face\", \"face\", \"face\", \"face\", \"face\", \"face\", \"failure\", \"failure\", \"failure\", \"failure\", \"failure\", \"failure\", \"fairfax\", \"fairfax\", \"fairfax\", \"fairfax\", \"fairfax\", \"fairfax\", \"fairfax\", \"fairfax\", \"fairfax\", \"fairfax\", \"fairfax\", \"fairy\", \"fairy\", \"fairy\", \"fairy\", \"fairy\", \"fairy\", \"fairy\", \"fairy\", \"family\", \"family\", \"family\", \"family\", \"family\", \"family\", \"family\", \"family\", \"family\", \"family\", \"family\", \"family\", \"family\", \"family\", \"fanny\", \"fanny\", \"fanshawe\", \"fanshawe\", \"fanshawe\", \"fanshawe\", \"fanshawe\", \"fanshawe\", \"fanshawe\", \"farmer\", \"farmer\", \"farmer\", \"farmer\", \"father\", \"father\", \"father\", \"father\", \"father\", \"father\", \"father\", \"father\", \"father\", \"father\", \"father\", \"father\", \"father\", \"faubourg\", \"fault\", \"fault\", \"fault\", \"fault\", \"fault\", \"fault\", \"fault\", \"fault\", \"fault\", \"fault\", \"feel\", \"feel\", \"feel\", \"feel\", \"feel\", \"feel\", \"feel\", \"feel\", \"feel\", \"feel\", \"feel\", \"feel\", \"feel\", \"feel\", \"fellows\", \"fellows\", \"fellows\", \"fellows\", \"felt\", \"felt\", \"felt\", \"felt\", \"felt\", \"felt\", \"felt\", \"felt\", \"felt\", \"felt\", \"felt\", \"felt\", \"felt\", \"felt\", \"ferrars\", \"ferrars\", \"fete\", \"fete\", \"fete\", \"fete\", \"fiacre\", \"fiacre\", \"fiacre\", \"fight\", \"fight\", \"fight\", \"fight\", \"fight\", \"fille\", \"fille\", \"fish\", \"fish\", \"fish\", \"fish\", \"fitzwilliam\", \"fitzwilliam\", \"flemish\", \"flemish\", \"flemish\", \"flemish\", \"flemish\", \"flimsy\", \"flimsy\", \"flimsy\", \"flowers\", \"flowers\", \"flowers\", \"flowers\", \"flowers\", \"flowers\", \"flowers\", \"flowers\", \"flowers\", \"flowing\", \"flowing\", \"flowing\", \"flowing\", \"fluency\", \"fluency\", \"fluency\", \"foolish\", \"foolish\", \"foolish\", \"foolish\", \"foolish\", \"ford\", \"foreign\", \"foreign\", \"foreign\", \"foreign\", \"foreign\", \"foresaw\", \"foresaw\", \"forster\", \"forster\", \"foster\", \"fragile\", \"fragile\", \"fragile\", \"frail\", \"frances\", \"frances\", \"frances\", \"frances\", \"frances\", \"francs\", \"frank\", \"frank\", \"frank\", \"frank\", \"frank\", \"frank\", \"frank\", \"frantic\", \"frantic\", \"frantic\", \"frantic\", \"french\", \"french\", \"french\", \"french\", \"french\", \"french\", \"french\", \"french\", \"french\", \"french\", \"french\", \"friend\", \"friend\", \"friend\", \"friend\", \"friend\", \"friend\", \"friend\", \"friend\", \"friend\", \"friend\", \"friend\", \"friend\", \"frock\", \"frock\", \"frock\", \"fruitless\", \"fruitless\", \"gale\", \"gale\", \"gale\", \"gale\", \"gallery\", \"gallery\", \"gallery\", \"gallery\", \"gallery\", \"garcon\", \"garcon\", \"garden\", \"garden\", \"garden\", \"garden\", \"garden\", \"garden\", \"garden\", \"garden\", \"garden\", \"garden\", \"gardiner\", \"gardiner\", \"gardiner\", \"gardiners\", \"gateshead\", \"gateshead\", \"gateshead\", \"gateshead\", \"gateshead\", \"gem\", \"genii\", \"gentlemen\", \"gentlemen\", \"gentlemen\", \"gentlemen\", \"gentlemen\", \"gentlemen\", \"gentlemen\", \"gentlemen\", \"gentlemen\", \"gentlemen\", \"gentlemen\", \"gentlemen\", \"georgette\", \"georgette\", \"georgette\", \"georgette\", \"ghosts\", \"ginevra\", \"ginevra\", \"ginevra\", \"ginevra\", \"ginevra\", \"ginevra\", \"ginevra\", \"ginevra\", \"ginevra\", \"gipsies\", \"gipsies\", \"gipsy\", \"gipsy\", \"gipsy\", \"gipsy\", \"girl\", \"girl\", \"girl\", \"girl\", \"girl\", \"girl\", \"girl\", \"girl\", \"girl\", \"girl\", \"girl\", \"girl\", \"girl\", \"glimpses\", \"glimpses\", \"glimpses\", \"glimpses\", \"god\", \"god\", \"god\", \"god\", \"god\", \"god\", \"god\", \"god\", \"god\", \"god\", \"god\", \"god\", \"god\", \"goddard\", \"goddard\", \"goddard\", \"goddard\", \"godmother\", \"godmother\", \"godmother\", \"gods\", \"gods\", \"good\", \"good\", \"good\", \"good\", \"good\", \"good\", \"good\", \"good\", \"good\", \"good\", \"good\", \"good\", \"good\", \"good\", \"got\", \"got\", \"got\", \"got\", \"got\", \"got\", \"got\", \"got\", \"got\", \"got\", \"got\", \"got\", \"got\", \"grace\", \"grace\", \"grace\", \"grace\", \"grace\", \"grace\", \"grace\", \"grace\", \"grace\", \"grace\", \"grace\", \"grace\", \"grace\", \"graceful\", \"graceful\", \"graceful\", \"graceful\", \"graceful\", \"graceful\", \"graceful\", \"graceful\", \"graham\", \"graham\", \"graham\", \"graham\", \"graham\", \"graham\", \"graham\", \"graham\", \"graham\", \"great\", \"great\", \"great\", \"great\", \"great\", \"great\", \"great\", \"great\", \"great\", \"great\", \"great\", \"great\", \"great\", \"great\", \"grecian\", \"grecian\", \"grecian\", \"grecian\", \"grenier\", \"gruel\", \"gruel\", \"hair\", \"hair\", \"hair\", \"hair\", \"hair\", \"hair\", \"hair\", \"hair\", \"hair\", \"hair\", \"hair\", \"half\", \"half\", \"half\", \"half\", \"half\", \"half\", \"half\", \"half\", \"half\", \"half\", \"half\", \"half\", \"half\", \"half\", \"hall\", \"hall\", \"hall\", \"hall\", \"hall\", \"hall\", \"hall\", \"hall\", \"hall\", \"hall\", \"hall\", \"hall\", \"hall\", \"hamal\", \"hamal\", \"hamal\", \"hamal\", \"hamal\", \"hamal\", \"hamlet\", \"hand\", \"hand\", \"hand\", \"hand\", \"hand\", \"hand\", \"hand\", \"hand\", \"hand\", \"hand\", \"hand\", \"hand\", \"hand\", \"hand\", \"hannah\", \"hannah\", \"hannah\", \"hannah\", \"hannah\", \"hapless\", \"hapless\", \"hapless\", \"happy\", \"happy\", \"happy\", \"happy\", \"happy\", \"happy\", \"happy\", \"happy\", \"happy\", \"happy\", \"happy\", \"happy\", \"happy\", \"hard\", \"hard\", \"hard\", \"hard\", \"hard\", \"hard\", \"hard\", \"hard\", \"hard\", \"hard\", \"hard\", \"hard\", \"harley\", \"harriet\", \"harriet\", \"harriet\", \"harriet\", \"harriet\", \"harriet\", \"harriet\", \"harriet\", \"hartfield\", \"hartfield\", \"hartfield\", \"hartfield\", \"haunting\", \"haunting\", \"having\", \"having\", \"having\", \"having\", \"having\", \"having\", \"having\", \"having\", \"having\", \"having\", \"having\", \"having\", \"having\", \"having\", \"hay\", \"hay\", \"hay\", \"hay\", \"hay\", \"head\", \"head\", \"head\", \"head\", \"head\", \"head\", \"head\", \"head\", \"head\", \"head\", \"head\", \"head\", \"head\", \"head\", \"heard\", \"heard\", \"heard\", \"heard\", \"heard\", \"heard\", \"heard\", \"heard\", \"heard\", \"heard\", \"heard\", \"heard\", \"heard\", \"heart\", \"heart\", \"heart\", \"heart\", \"heart\", \"heart\", \"heart\", \"heart\", \"heart\", \"heart\", \"heart\", \"heart\", \"heart\", \"heart\", \"helen\", \"helen\", \"helen\", \"henri\", \"henri\", \"henri\", \"henri\", \"hertfordshire\", \"hertfordshire\", \"hesitate\", \"hesitate\", \"hesitate\", \"hesitate\", \"hesitate\", \"hesitate\", \"highbury\", \"highbury\", \"highbury\", \"highbury\", \"home\", \"home\", \"home\", \"home\", \"home\", \"home\", \"home\", \"home\", \"home\", \"home\", \"home\", \"home\", \"home\", \"hope\", \"hope\", \"hope\", \"hope\", \"hope\", \"hope\", \"hope\", \"hope\", \"hope\", \"hope\", \"hope\", \"hope\", \"hope\", \"hope\", \"hotel\", \"hotel\", \"hotel\", \"hotel\", \"hotel\", \"hotel\", \"hotel\", \"house\", \"house\", \"house\", \"house\", \"house\", \"house\", \"house\", \"house\", \"house\", \"house\", \"house\", \"house\", \"house\", \"house\", \"hovering\", \"humbug\", \"hunsden\", \"hunsden\", \"hunsden\", \"hunsden\", \"hunsden\", \"hunsden\", \"hunsford\", \"hunsford\", \"idle\", \"idle\", \"idle\", \"il\", \"il\", \"il\", \"il\", \"il\", \"imagine\", \"imagine\", \"imagine\", \"imagine\", \"imagine\", \"imagine\", \"imagine\", \"imagine\", \"imagine\", \"imagine\", \"imagine\", \"impassioned\", \"impassioned\", \"implored\", \"incessant\", \"incessant\", \"incessant\", \"incessant\", \"incessant\", \"india\", \"india\", \"india\", \"india\", \"india\", \"indian\", \"indian\", \"indian\", \"indian\", \"indian\", \"indian\", \"indication\", \"indication\", \"indication\", \"indication\", \"indolent\", \"indolent\", \"indolent\", \"indubitable\", \"indubitable\", \"indubitable\", \"inequality\", \"inequality\", \"inequality\", \"inexperienced\", \"inexperienced\", \"inexperienced\", \"inexperienced\", \"inexperienced\", \"inexplicable\", \"inexplicable\", \"infinitely\", \"infinitely\", \"infinitely\", \"infinitely\", \"infinitely\", \"infinitely\", \"infinitely\", \"inflicting\", \"inflicting\", \"inflicting\", \"inflicting\", \"inflicting\", \"ingram\", \"ingram\", \"ingram\", \"ingram\", \"inn\", \"inn\", \"inn\", \"inn\", \"inn\", \"inn\", \"inn\", \"inn\", \"insight\", \"insight\", \"insight\", \"interchanged\", \"interchanged\", \"interpreted\", \"interpreted\", \"interpreted\", \"interpreted\", \"isabella\", \"isabella\", \"isabella\", \"isidore\", \"isidore\", \"isidore\", \"isidore\", \"isidore\", \"isidore\", \"isolation\", \"isolation\", \"item\", \"item\", \"item\", \"james\", \"james\", \"james\", \"james\", \"james\", \"jane\", \"jane\", \"jane\", \"jane\", \"jane\", \"jane\", \"jane\", \"jane\", \"jane\", \"jane\", \"jane\", \"jane\", \"jane\", \"jane\", \"janet\", \"janet\", \"janet\", \"je\", \"je\", \"je\", \"je\", \"je\", \"jenkinson\", \"jennings\", \"jennings\", \"jennings\", \"jennings\", \"jeune\", \"jeune\", \"jeune\", \"john\", \"john\", \"john\", \"john\", \"john\", \"john\", \"john\", \"john\", \"john\", \"john\", \"john\", \"john\", \"john\", \"john\", \"judgement\", \"judgement\", \"justice\", \"justice\", \"justice\", \"justice\", \"justice\", \"justice\", \"justice\", \"justice\", \"justice\", \"justice\", \"justice\", \"justifying\", \"justifying\", \"justine\", \"justine\", \"justine\", \"keen\", \"keen\", \"keen\", \"keen\", \"keen\", \"keen\", \"keen\", \"keen\", \"kent\", \"kent\", \"kint\", \"kint\", \"kitchen\", \"kitchen\", \"kitchen\", \"kitchen\", \"kitchen\", \"kitchen\", \"kitchen\", \"kitchen\", \"kitchen\", \"kitty\", \"kitty\", \"kitty\", \"knew\", \"knew\", \"knew\", \"knew\", \"knew\", \"knew\", \"knew\", \"knew\", \"knew\", \"knew\", \"knew\", \"knew\", \"knew\", \"knightley\", \"knightley\", \"knightley\", \"knightley\", \"knightley\", \"knightleys\", \"know\", \"know\", \"know\", \"know\", \"know\", \"know\", \"know\", \"know\", \"know\", \"know\", \"know\", \"know\", \"know\", \"know\", \"lady\", \"lady\", \"lady\", \"lady\", \"lady\", \"lady\", \"lady\", \"lady\", \"lady\", \"lady\", \"lady\", \"lady\", \"lady\", \"lady\", \"ladyship\", \"ladyship\", \"ladyship\", \"ladyship\", \"landed\", \"landed\", \"landed\", \"landed\", \"lang\", \"lang\", \"lang\", \"lang\", \"lantern\", \"larkins\", \"larkins\", \"le\", \"le\", \"le\", \"le\", \"le\", \"leah\", \"learning\", \"learning\", \"learning\", \"learning\", \"learning\", \"learning\", \"learning\", \"learning\", \"left\", \"left\", \"left\", \"left\", \"left\", \"left\", \"left\", \"left\", \"left\", \"left\", \"left\", \"left\", \"left\", \"les\", \"les\", \"les\", \"let\", \"let\", \"let\", \"let\", \"let\", \"let\", \"let\", \"let\", \"let\", \"let\", \"let\", \"let\", \"let\", \"let\", \"letter\", \"letter\", \"letter\", \"letter\", \"letter\", \"letter\", \"letter\", \"letter\", \"letter\", \"letter\", \"letter\", \"letter\", \"life\", \"life\", \"life\", \"life\", \"life\", \"life\", \"life\", \"life\", \"life\", \"life\", \"life\", \"life\", \"life\", \"life\", \"lifted\", \"lifted\", \"lifted\", \"lifted\", \"lifted\", \"lifted\", \"lifted\", \"lifted\", \"lifted\", \"light\", \"light\", \"light\", \"light\", \"light\", \"light\", \"light\", \"light\", \"light\", \"light\", \"light\", \"light\", \"light\", \"like\", \"like\", \"like\", \"like\", \"like\", \"like\", \"like\", \"like\", \"like\", \"like\", \"like\", \"like\", \"like\", \"like\", \"lilac\", \"lip\", \"lip\", \"lip\", \"lip\", \"lip\", \"lip\", \"list\", \"list\", \"list\", \"list\", \"listener\", \"listener\", \"listener\", \"listener\", \"listener\", \"listener\", \"listener\", \"listener\", \"little\", \"little\", \"little\", \"little\", \"little\", \"little\", \"little\", \"little\", \"little\", \"little\", \"little\", \"little\", \"little\", \"little\", \"lizzy\", \"lizzy\", \"lizzy\", \"ll\", \"ll\", \"ll\", \"ll\", \"ll\", \"ll\", \"ll\", \"ll\", \"ll\", \"ll\", \"ll\", \"ll\", \"long\", \"long\", \"long\", \"long\", \"long\", \"long\", \"long\", \"long\", \"long\", \"long\", \"long\", \"long\", \"long\", \"longbourn\", \"longbourn\", \"longstaple\", \"look\", \"look\", \"look\", \"look\", \"look\", \"look\", \"look\", \"look\", \"look\", \"look\", \"look\", \"look\", \"look\", \"look\", \"looked\", \"looked\", \"looked\", \"looked\", \"looked\", \"looked\", \"looked\", \"looked\", \"looked\", \"looked\", \"looked\", \"looked\", \"looked\", \"looked\", \"loudly\", \"loudly\", \"loudly\", \"loudly\", \"loudly\", \"loudly\", \"love\", \"love\", \"love\", \"love\", \"love\", \"love\", \"love\", \"love\", \"love\", \"love\", \"love\", \"love\", \"love\", \"lovers\", \"lovers\", \"lovers\", \"lovers\", \"lucas\", \"lucas\", \"lucases\", \"lucases\", \"lucy\", \"lucy\", \"lucy\", \"lucy\", \"lucy\", \"lucy\", \"lucy\", \"lucy\", \"lucy\", \"lull\", \"lull\", \"lydia\", \"lydia\", \"lynn\", \"mad\", \"mad\", \"mad\", \"mad\", \"mad\", \"mad\", \"mad\", \"mad\", \"madame\", \"madame\", \"madame\", \"madame\", \"madame\", \"madame\", \"madame\", \"madame\", \"madame\", \"madame\", \"mademoiselle\", \"mademoiselle\", \"mademoiselle\", \"mademoiselle\", \"mademoiselle\", \"mademoiselle\", \"mademoiselle\", \"mademoiselle\", \"mademoiselle\", \"maintain\", \"maintain\", \"maintain\", \"maintain\", \"maintain\", \"maintain\", \"mais\", \"mais\", \"mais\", \"mais\", \"mais\", \"maitresse\", \"maitresse\", \"maitresse\", \"man\", \"man\", \"man\", \"man\", \"man\", \"man\", \"man\", \"man\", \"man\", \"man\", \"man\", \"man\", \"man\", \"man\", \"mantle\", \"marchmont\", \"marchmont\", \"marchmont\", \"margaret\", \"marianne\", \"marianne\", \"marianne\", \"marianne\", \"marianne\", \"marry\", \"marry\", \"marry\", \"marry\", \"marry\", \"marry\", \"marry\", \"marry\", \"marry\", \"marry\", \"marry\", \"marry\", \"marry\", \"martin\", \"martin\", \"martin\", \"martin\", \"martins\", \"martins\", \"mary\", \"mary\", \"mary\", \"mary\", \"mary\", \"mary\", \"mary\", \"mary\", \"mary\", \"mary\", \"mary\", \"masculine\", \"masculine\", \"masculine\", \"masculine\", \"mask\", \"mask\", \"mask\", \"mask\", \"mason\", \"mason\", \"master\", \"master\", \"master\", \"master\", \"master\", \"master\", \"master\", \"master\", \"master\", \"master\", \"master\", \"mastered\", \"mastery\", \"mastery\", \"mastery\", \"mastery\", \"match\", \"match\", \"match\", \"match\", \"match\", \"match\", \"match\", \"match\", \"match\", \"match\", \"match\", \"match\", \"matches\", \"matches\", \"matches\", \"mdlle\", \"mdlle\", \"mdlle\", \"mdlle\", \"mdlle\", \"mdlle\", \"mdlle\", \"mdlle\", \"mean\", \"mean\", \"mean\", \"mean\", \"mean\", \"mean\", \"mean\", \"mean\", \"mean\", \"mean\", \"mean\", \"mean\", \"mean\", \"mean\", \"mellow\", \"mender\", \"mender\", \"mender\", \"mercenary\", \"mercenary\", \"mercenary\", \"mercenary\", \"mercenary\", \"mercenary\", \"meryton\", \"meryton\", \"middleton\", \"middleton\", \"middleton\", \"middletons\", \"mightily\", \"mightily\", \"mightily\", \"militia\", \"millcote\", \"millcote\", \"miller\", \"miller\", \"miller\", \"mind\", \"mind\", \"mind\", \"mind\", \"mind\", \"mind\", \"mind\", \"mind\", \"mind\", \"mind\", \"mind\", \"mind\", \"mind\", \"mind\", \"miss\", \"miss\", \"miss\", \"miss\", \"miss\", \"miss\", \"miss\", \"miss\", \"miss\", \"miss\", \"miss\", \"miss\", \"miss\", \"miss\", \"missionary\", \"missionary\", \"missionary\", \"missionary\", \"missis\", \"missis\", \"misunderstand\", \"misunderstand\", \"misunderstand\", \"moi\", \"moi\", \"moi\", \"moi\", \"moi\", \"moment\", \"moment\", \"moment\", \"moment\", \"moment\", \"moment\", \"moment\", \"moment\", \"moment\", \"moment\", \"moment\", \"moment\", \"moment\", \"moment\", \"monsieur\", \"monsieur\", \"monsieur\", \"monsieur\", \"monsieur\", \"monsieur\", \"monsieur\", \"monsieur\", \"moon\", \"moon\", \"moon\", \"moon\", \"moon\", \"moon\", \"moon\", \"moon\", \"moor\", \"moor\", \"moor\", \"moor\", \"moor\", \"moor\", \"morally\", \"morally\", \"morally\", \"morning\", \"morning\", \"morning\", \"morning\", \"morning\", \"morning\", \"morning\", \"morning\", \"morning\", \"morning\", \"morning\", \"morning\", \"morning\", \"morton\", \"morton\", \"morton\", \"mother\", \"mother\", \"mother\", \"mother\", \"mother\", \"mother\", \"mother\", \"mother\", \"mother\", \"mother\", \"mother\", \"mother\", \"mouth\", \"mouth\", \"mouth\", \"mouth\", \"mouth\", \"mouth\", \"mouth\", \"mouth\", \"mouth\", \"muffled\", \"muffled\", \"mutiny\", \"naive\", \"naive\", \"nash\", \"nature\", \"nature\", \"nature\", \"nature\", \"nature\", \"nature\", \"nature\", \"nature\", \"nature\", \"nature\", \"nature\", \"nature\", \"nature\", \"nature\", \"naughty\", \"naughty\", \"naughty\", \"naughty\", \"ne\", \"ne\", \"ne\", \"ne\", \"nearly\", \"nearly\", \"nearly\", \"nearly\", \"nearly\", \"nearly\", \"nearly\", \"nearly\", \"nearly\", \"nearly\", \"necklace\", \"necklace\", \"necklace\", \"need\", \"need\", \"need\", \"need\", \"need\", \"need\", \"need\", \"need\", \"need\", \"need\", \"need\", \"need\", \"netherfield\", \"netherfield\", \"night\", \"night\", \"night\", \"night\", \"night\", \"night\", \"night\", \"night\", \"night\", \"night\", \"night\", \"night\", \"night\", \"nineteen\", \"nineteen\", \"nineteen\", \"nineteen\", \"nineteen\", \"ninety\", \"ninety\", \"ninety\", \"ninety\", \"noiseless\", \"noiseless\", \"nominal\", \"nominal\", \"non\", \"non\", \"nonsense\", \"nonsense\", \"nonsense\", \"nonsense\", \"nonsense\", \"nonsense\", \"nonsense\", \"nonsense\", \"nonsense\", \"nonsense\", \"norland\", \"norland\", \"notre\", \"notre\", \"notre\", \"notre\", \"noxious\", \"noxious\", \"noxious\", \"numbered\", \"officers\", \"officers\", \"officers\", \"oh\", \"oh\", \"oh\", \"oh\", \"oh\", \"oh\", \"oh\", \"oh\", \"oh\", \"oh\", \"oh\", \"oh\", \"oh\", \"oh\", \"old\", \"old\", \"old\", \"old\", \"old\", \"old\", \"old\", \"old\", \"old\", \"old\", \"old\", \"old\", \"old\", \"oliver\", \"oliver\", \"oliver\", \"opened\", \"opened\", \"opened\", \"opened\", \"opened\", \"opened\", \"opened\", \"opened\", \"opened\", \"opened\", \"opened\", \"orphan\", \"orphan\", \"orphan\", \"orphan\", \"orphan\", \"ought\", \"ought\", \"ought\", \"ought\", \"ought\", \"ought\", \"ought\", \"ought\", \"ought\", \"ought\", \"ought\", \"ought\", \"ought\", \"ought\", \"oui\", \"oui\", \"oxford\", \"painted\", \"painted\", \"painted\", \"painted\", \"painted\", \"painted\", \"painted\", \"painted\", \"palmer\", \"palmer\", \"papa\", \"papa\", \"papa\", \"papa\", \"papa\", \"papa\", \"papa\", \"papa\", \"papa\", \"pas\", \"pas\", \"pas\", \"pas\", \"pas\", \"pas\", \"pas\", \"pas\", \"patty\", \"paul\", \"paul\", \"paul\", \"paul\", \"paul\", \"paul\", \"paul\", \"paulina\", \"paulina\", \"paulina\", \"paulina\", \"paulina\", \"paulina\", \"paulina\", \"paulina\", \"paved\", \"paved\", \"pearl\", \"pearl\", \"pearl\", \"pearl\", \"pearl\", \"pearl\", \"pearl\", \"peep\", \"peep\", \"peep\", \"peep\", \"peep\", \"pelet\", \"pelet\", \"pelet\", \"pelet\", \"pelet\", \"pelet\", \"pelet\", \"pemberley\", \"pemberley\", \"pemberley\", \"perishing\", \"perishing\", \"perry\", \"perry\", \"perry\", \"persevered\", \"persevered\", \"persevered\", \"persevered\", \"persevered\", \"persevered\", \"persevered\", \"petit\", \"petit\", \"petit\", \"philanthropist\", \"philanthropist\", \"phillips\", \"philosophic\", \"philosophic\", \"pianoforte\", \"pianoforte\", \"picturesque\", \"picturesque\", \"picturesque\", \"picturesque\", \"picturesque\", \"pierre\", \"pierre\", \"pierre\", \"pile\", \"piled\", \"piled\", \"pilot\", \"pilot\", \"pilot\", \"pit\", \"pit\", \"pit\", \"planning\", \"planning\", \"planning\", \"planning\", \"pleasurable\", \"plebeian\", \"plebeian\", \"plebeian\", \"polly\", \"polly\", \"polly\", \"polly\", \"polly\", \"polly\", \"poole\", \"poole\", \"poole\", \"poole\", \"poor\", \"poor\", \"poor\", \"poor\", \"poor\", \"poor\", \"poor\", \"poor\", \"poor\", \"poor\", \"poor\", \"poor\", \"poor\", \"poor\", \"popularity\", \"popularity\", \"popularity\", \"population\", \"population\", \"porter\", \"pour\", \"pour\", \"pour\", \"pour\", \"pour\", \"pour\", \"pour\", \"pour\", \"pour\", \"pour\", \"premature\", \"premature\", \"premature\", \"profession\", \"profession\", \"profession\", \"profession\", \"profession\", \"profession\", \"professor\", \"professor\", \"professor\", \"professor\", \"professor\", \"protestants\", \"pupil\", \"pupil\", \"pupil\", \"pupil\", \"pupil\", \"pupil\", \"pupil\", \"pupil\", \"pupil\", \"pupils\", \"pupils\", \"pupils\", \"pupils\", \"pupils\", \"pupils\", \"pupils\", \"pupils\", \"pupils\", \"puppy\", \"puppy\", \"puppy\", \"qu\", \"qu\", \"qu\", \"qu\", \"qu\", \"qu\", \"que\", \"que\", \"que\", \"que\", \"que\", \"que\", \"quel\", \"quel\", \"quieted\", \"quieted\", \"quietness\", \"quietness\", \"rack\", \"rack\", \"rack\", \"randalls\", \"randalls\", \"randalls\", \"ranged\", \"read\", \"read\", \"read\", \"read\", \"read\", \"read\", \"read\", \"read\", \"read\", \"read\", \"read\", \"read\", \"read\", \"read\", \"realised\", \"realised\", \"realised\", \"realised\", \"realised\", \"reality\", \"reality\", \"reality\", \"reality\", \"reality\", \"reality\", \"reality\", \"reality\", \"reality\", \"recognition\", \"recognition\", \"recognition\", \"recognition\", \"reed\", \"reed\", \"reed\", \"reed\", \"reed\", \"reed\", \"reed\", \"reed\", \"reed\", \"reel\", \"reel\", \"reel\", \"reel\", \"refreshed\", \"refreshed\", \"refreshed\", \"refreshed\", \"refreshed\", \"refuse\", \"refuse\", \"refuse\", \"refuse\", \"refuse\", \"refuse\", \"refuse\", \"refuse\", \"refuse\", \"refuse\", \"release\", \"release\", \"release\", \"released\", \"released\", \"released\", \"released\", \"released\", \"remarked\", \"remarked\", \"remarked\", \"remarked\", \"remarked\", \"remarked\", \"remarked\", \"remarked\", \"remarked\", \"remember\", \"remember\", \"remember\", \"remember\", \"remember\", \"remember\", \"remember\", \"remember\", \"remember\", \"remember\", \"remember\", \"remember\", \"remember\", \"remember\", \"repaired\", \"repaired\", \"repaired\", \"repaired\", \"repaired\", \"replied\", \"replied\", \"replied\", \"replied\", \"replied\", \"replied\", \"replied\", \"replied\", \"replied\", \"replied\", \"replied\", \"replied\", \"replied\", \"respectable\", \"respectable\", \"respectable\", \"respectable\", \"respectable\", \"respectable\", \"respectable\", \"respectable\", \"respectable\", \"respectable\", \"respectable\", \"reste\", \"reste\", \"reste\", \"reuter\", \"reuter\", \"reuter\", \"reuter\", \"reuter\", \"reverence\", \"reverence\", \"reverence\", \"reverence\", \"richmond\", \"richmond\", \"rivals\", \"rivals\", \"rivers\", \"rivers\", \"rivers\", \"rivers\", \"rivers\", \"rivers\", \"rivers\", \"roads\", \"roads\", \"roads\", \"roads\", \"robert\", \"robert\", \"robert\", \"robert\", \"robert\", \"robert\", \"robert\", \"robert\", \"rochester\", \"rochester\", \"rochester\", \"rochester\", \"rochester\", \"rochester\", \"rochester\", \"rochester\", \"rochester\", \"rochester\", \"rochester\", \"room\", \"room\", \"room\", \"room\", \"room\", \"room\", \"room\", \"room\", \"room\", \"room\", \"room\", \"room\", \"room\", \"room\", \"rosamond\", \"rosamond\", \"rosamond\", \"rosings\", \"rosings\", \"round\", \"round\", \"round\", \"round\", \"round\", \"round\", \"round\", \"round\", \"round\", \"round\", \"round\", \"round\", \"round\", \"ruin\", \"ruin\", \"ruin\", \"ruin\", \"ruin\", \"ruin\", \"ruin\", \"ruth\", \"ruth\", \"sacrifice\", \"sacrifice\", \"sacrifice\", \"sacrifice\", \"sacrifice\", \"sacrifice\", \"sacrifice\", \"sacrifice\", \"sacrifice\", \"safer\", \"safer\", \"safer\", \"safer\", \"sagacity\", \"sagacity\", \"sagacity\", \"sagacity\", \"sagacity\", \"sagacity\", \"sage\", \"sage\", \"sage\", \"sarah\", \"sarah\", \"sarcasm\", \"sarcasm\", \"sarcasm\", \"sarcasm\", \"sarcasm\", \"satin\", \"satin\", \"satin\", \"satin\", \"satin\", \"satin\", \"satin\", \"saw\", \"saw\", \"saw\", \"saw\", \"saw\", \"saw\", \"saw\", \"saw\", \"saw\", \"saw\", \"saw\", \"saw\", \"saw\", \"saw\", \"scarf\", \"scarf\", \"scarf\", \"scarf\", \"scholars\", \"scholars\", \"school\", \"school\", \"school\", \"school\", \"school\", \"school\", \"school\", \"school\", \"school\", \"school\", \"school\", \"school\", \"school\", \"scotch\", \"scotch\", \"scotch\", \"scotch\", \"scotch\", \"scrutinized\", \"scrutinized\", \"seek\", \"seek\", \"seek\", \"seek\", \"seek\", \"seek\", \"seek\", \"seek\", \"seek\", \"seek\", \"seek\", \"seen\", \"seen\", \"seen\", \"seen\", \"seen\", \"seen\", \"seen\", \"seen\", \"seen\", \"seen\", \"seen\", \"seen\", \"seen\", \"seen\", \"select\", \"select\", \"select\", \"select\", \"selina\", \"selina\", \"semicircle\", \"semicircle\", \"sense\", \"sense\", \"sense\", \"sense\", \"sense\", \"sense\", \"sense\", \"sense\", \"sense\", \"sense\", \"sense\", \"sense\", \"sense\", \"sense\", \"seraph\", \"seraph\", \"seraph\", \"sets\", \"sets\", \"sets\", \"shadowed\", \"shadowed\", \"shadowed\", \"shall\", \"shall\", \"shall\", \"shall\", \"shall\", \"shall\", \"shall\", \"shall\", \"shall\", \"shall\", \"shall\", \"shall\", \"shall\", \"shall\", \"shire\", \"shire\", \"shire\", \"shire\", \"shutting\", \"shutting\", \"shutting\", \"si\", \"si\", \"si\", \"sir\", \"sir\", \"sir\", \"sir\", \"sir\", \"sir\", \"sir\", \"sir\", \"sir\", \"sir\", \"sir\", \"sir\", \"sire\", \"sire\", \"sire\", \"sister\", \"sister\", \"sister\", \"sister\", \"sister\", \"sister\", \"sister\", \"sister\", \"sister\", \"sister\", \"sister\", \"sister\", \"sister\", \"sister\", \"sisterly\", \"sisterly\", \"sisterly\", \"sisterly\", \"sisters\", \"sisters\", \"sisters\", \"sisters\", \"sisters\", \"sisters\", \"sisters\", \"sisters\", \"sisters\", \"sisters\", \"sisters\", \"sisters\", \"sleep\", \"sleep\", \"sleep\", \"sleep\", \"sleep\", \"sleep\", \"sleep\", \"sleep\", \"sleep\", \"sleep\", \"sleepless\", \"sleepless\", \"sleepless\", \"sleepless\", \"slid\", \"slippers\", \"slippers\", \"slippers\", \"slippery\", \"slippery\", \"slippery\", \"slippery\", \"smith\", \"smith\", \"smith\", \"smith\", \"smith\", \"smith\", \"smote\", \"smote\", \"smote\", \"smote\", \"sneer\", \"sneer\", \"sneer\", \"sneer\", \"sneer\", \"sneer\", \"softest\", \"softest\", \"soir\", \"soir\", \"sont\", \"sont\", \"sont\", \"soon\", \"soon\", \"soon\", \"soon\", \"soon\", \"soon\", \"soon\", \"soon\", \"soon\", \"soon\", \"soon\", \"soon\", \"soon\", \"soon\", \"sophie\", \"sophie\", \"soup\", \"soup\", \"soup\", \"soup\", \"speak\", \"speak\", \"speak\", \"speak\", \"speak\", \"speak\", \"speak\", \"speak\", \"speak\", \"speak\", \"speak\", \"speak\", \"speak\", \"speck\", \"speck\", \"speck\", \"speck\", \"speculation\", \"speculation\", \"speculation\", \"speculation\", \"speculation\", \"speculation\", \"spice\", \"spice\", \"sprain\", \"st\", \"st\", \"st\", \"st\", \"st\", \"st\", \"st\", \"st\", \"st\", \"st\", \"st\", \"st\", \"stealing\", \"steele\", \"steeles\", \"stile\", \"stile\", \"stile\", \"stile\", \"stimulate\", \"stimulate\", \"stony\", \"stood\", \"stood\", \"stood\", \"stood\", \"stood\", \"stood\", \"stood\", \"stood\", \"stood\", \"stood\", \"stood\", \"stood\", \"stood\", \"stood\", \"stove\", \"stove\", \"stove\", \"stove\", \"stove\", \"stove\", \"strange\", \"strange\", \"strange\", \"strange\", \"strange\", \"strange\", \"strange\", \"strange\", \"strange\", \"strange\", \"strange\", \"strange\", \"strange\", \"strawberries\", \"strawberries\", \"stream\", \"stream\", \"stream\", \"stream\", \"street\", \"street\", \"street\", \"street\", \"street\", \"street\", \"street\", \"street\", \"street\", \"stringent\", \"stringent\", \"stringent\", \"strove\", \"strove\", \"strove\", \"suffice\", \"suffice\", \"suffice\", \"suffice\", \"suffice\", \"sugar\", \"sugar\", \"sugar\", \"sugar\", \"sugar\", \"sundays\", \"sundays\", \"sundays\", \"sundays\", \"superfluous\", \"superfluous\", \"superfluous\", \"superior\", \"superior\", \"superior\", \"superior\", \"superior\", \"superior\", \"superior\", \"superior\", \"superior\", \"superior\", \"superior\", \"supplanted\", \"supplanted\", \"sure\", \"sure\", \"sure\", \"sure\", \"sure\", \"sure\", \"sure\", \"sure\", \"sure\", \"sure\", \"sure\", \"sure\", \"sure\", \"sure\", \"surprized\", \"surprized\", \"surprized\", \"surprized\", \"sustain\", \"sustain\", \"sustain\", \"swayed\", \"swayed\", \"swayed\", \"swayed\", \"swear\", \"swear\", \"swear\", \"swell\", \"swell\", \"swell\", \"swell\", \"swell\", \"swiss\", \"swiss\", \"swiss\", \"switzerland\", \"switzerland\", \"switzerland\", \"switzerland\", \"switzerland\", \"sylvie\", \"sylvie\", \"sylvie\", \"syne\", \"syne\", \"syne\", \"syne\", \"syne\", \"table\", \"table\", \"table\", \"table\", \"table\", \"table\", \"table\", \"table\", \"table\", \"table\", \"table\", \"table\", \"tableau\", \"tableau\", \"tableau\", \"taylor\", \"taylor\", \"taylor\", \"teachers\", \"teachers\", \"teachers\", \"teachers\", \"teachers\", \"teachers\", \"teachers\", \"tear\", \"tear\", \"tear\", \"tear\", \"tear\", \"tear\", \"tell\", \"tell\", \"tell\", \"tell\", \"tell\", \"tell\", \"tell\", \"tell\", \"tell\", \"tell\", \"tell\", \"tell\", \"tell\", \"tell\", \"temple\", \"temple\", \"temple\", \"temple\", \"temple\", \"temple\", \"texture\", \"texture\", \"texture\", \"texture\", \"texture\", \"thee\", \"thee\", \"thee\", \"thereof\", \"thereof\", \"thereof\", \"thickly\", \"thickly\", \"thickly\", \"thickly\", \"thing\", \"thing\", \"thing\", \"thing\", \"thing\", \"thing\", \"thing\", \"thing\", \"thing\", \"thing\", \"thing\", \"thing\", \"thing\", \"thing\", \"things\", \"things\", \"things\", \"things\", \"things\", \"things\", \"things\", \"things\", \"things\", \"things\", \"things\", \"things\", \"things\", \"think\", \"think\", \"think\", \"think\", \"think\", \"think\", \"think\", \"think\", \"think\", \"think\", \"think\", \"think\", \"think\", \"think\", \"thinks\", \"thinks\", \"thinks\", \"thinks\", \"thinks\", \"thinks\", \"thinks\", \"thinks\", \"thinks\", \"thinks\", \"thornfield\", \"thornfield\", \"thornfield\", \"thornfield\", \"thornfield\", \"thornfield\", \"thought\", \"thought\", \"thought\", \"thought\", \"thought\", \"thought\", \"thought\", \"thought\", \"thought\", \"thought\", \"thought\", \"thought\", \"thought\", \"thought\", \"thousand\", \"thousand\", \"thousand\", \"thousand\", \"thousand\", \"thousand\", \"thousand\", \"thousand\", \"thousand\", \"threatening\", \"threatening\", \"threatening\", \"threatening\", \"threatening\", \"time\", \"time\", \"time\", \"time\", \"time\", \"time\", \"time\", \"time\", \"time\", \"time\", \"time\", \"time\", \"time\", \"time\", \"tinged\", \"tire\", \"tire\", \"tire\", \"tire\", \"toe\", \"toe\", \"toe\", \"toe\", \"toe\", \"took\", \"took\", \"took\", \"took\", \"took\", \"took\", \"took\", \"took\", \"took\", \"took\", \"took\", \"took\", \"took\", \"topic\", \"topic\", \"topic\", \"topic\", \"topic\", \"topic\", \"topics\", \"topics\", \"topics\", \"topics\", \"town\", \"town\", \"town\", \"town\", \"town\", \"town\", \"town\", \"town\", \"town\", \"town\", \"trait\", \"trait\", \"trait\", \"trait\", \"transported\", \"transported\", \"trees\", \"trees\", \"trees\", \"trees\", \"trees\", \"trees\", \"trees\", \"trees\", \"trees\", \"trees\", \"trick\", \"trick\", \"trick\", \"trick\", \"trunk\", \"trunk\", \"trunk\", \"trunk\", \"trunk\", \"trunk\", \"trunk\", \"trunk\", \"trying\", \"trying\", \"trying\", \"trying\", \"trying\", \"trying\", \"trying\", \"trying\", \"trying\", \"trying\", \"turban\", \"turban\", \"turban\", \"turban\", \"turban\", \"turban\", \"unceasing\", \"uncle\", \"uncle\", \"uncle\", \"uncle\", \"uncle\", \"uncle\", \"uncle\", \"uncle\", \"uncle\", \"uncle\", \"uncle\", \"undertaken\", \"undertaken\", \"undertaken\", \"undertook\", \"undertook\", \"undertook\", \"undertook\", \"undressed\", \"une\", \"une\", \"une\", \"une\", \"unequivocal\", \"unequivocal\", \"unequivocal\", \"unequivocal\", \"ungrateful\", \"ungrateful\", \"ungrateful\", \"ungrateful\", \"union\", \"union\", \"union\", \"union\", \"union\", \"union\", \"union\", \"union\", \"union\", \"unnatural\", \"unnatural\", \"unnatural\", \"unnatural\", \"unrestrained\", \"unrestrained\", \"unrestrained\", \"unrestrained\", \"unrestrained\", \"unsuspicious\", \"unsuspicious\", \"unsuspicious\", \"upward\", \"upward\", \"upward\", \"vale\", \"vale\", \"vale\", \"vandenhuten\", \"vandenhuten\", \"vapid\", \"vapid\", \"vapid\", \"varens\", \"varens\", \"vases\", \"vault\", \"vault\", \"vault\", \"vault\", \"vault\", \"vault\", \"vault\", \"ve\", \"ve\", \"ve\", \"ve\", \"ve\", \"ve\", \"ve\", \"ve\", \"veritable\", \"veritable\", \"veritable\", \"vexatious\", \"vexatious\", \"vexatious\", \"vexatious\", \"vicar\", \"vicar\", \"vicar\", \"vicarage\", \"vicarage\", \"vicarage\", \"vicarage\", \"vices\", \"vices\", \"vices\", \"vices\", \"victor\", \"vigilance\", \"vigilance\", \"vii\", \"vii\", \"vii\", \"vii\", \"vii\", \"violets\", \"vista\", \"vista\", \"volubly\", \"volubly\", \"votre\", \"votre\", \"votre\", \"vouchsafe\", \"vouchsafe\", \"vous\", \"vous\", \"vous\", \"vous\", \"vous\", \"vous\", \"vous\", \"waiter\", \"waiter\", \"waiter\", \"wandering\", \"wandering\", \"wandering\", \"wandering\", \"wandering\", \"wandering\", \"wandering\", \"wandering\", \"want\", \"want\", \"want\", \"want\", \"want\", \"want\", \"want\", \"want\", \"want\", \"want\", \"want\", \"want\", \"want\", \"want\", \"warren\", \"way\", \"way\", \"way\", \"way\", \"way\", \"way\", \"way\", \"way\", \"way\", \"way\", \"way\", \"way\", \"way\", \"went\", \"went\", \"went\", \"went\", \"went\", \"went\", \"went\", \"went\", \"went\", \"went\", \"went\", \"went\", \"went\", \"weston\", \"weston\", \"weston\", \"weston\", \"weston\", \"weston\", \"weymouth\", \"weymouth\", \"whip\", \"whitcross\", \"whitcross\", \"whitcross\", \"whitcross\", \"white\", \"white\", \"white\", \"white\", \"white\", \"white\", \"white\", \"white\", \"white\", \"white\", \"white\", \"white\", \"white\", \"wickham\", \"wickham\", \"wife\", \"wife\", \"wife\", \"wife\", \"wife\", \"wife\", \"wife\", \"wife\", \"wife\", \"wife\", \"wife\", \"wife\", \"wife\", \"wife\", \"willing\", \"willing\", \"willing\", \"willing\", \"willing\", \"willing\", \"willing\", \"willing\", \"willing\", \"willing\", \"willing\", \"willing\", \"willing\", \"willoughby\", \"willoughby\", \"willoughby\", \"willoughby\", \"winds\", \"windsor\", \"windsor\", \"winning\", \"winning\", \"winning\", \"woman\", \"woman\", \"woman\", \"woman\", \"woman\", \"woman\", \"woman\", \"woman\", \"woman\", \"woman\", \"woman\", \"woman\", \"woman\", \"woman\", \"wonderfully\", \"wonderfully\", \"wonderfully\", \"wonderfully\", \"wonderfully\", \"wondrous\", \"wondrous\", \"wondrous\", \"wondrous\", \"woodhouse\", \"woodhouse\", \"woodhouse\", \"woodhouse\", \"woodhouse\", \"woods\", \"woods\", \"woods\", \"woods\", \"woods\", \"woods\", \"word\", \"word\", \"word\", \"word\", \"word\", \"word\", \"word\", \"word\", \"word\", \"word\", \"word\", \"word\", \"word\", \"work\", \"work\", \"work\", \"work\", \"work\", \"work\", \"work\", \"work\", \"work\", \"work\", \"work\", \"work\", \"wounding\", \"wounding\", \"wounding\", \"wrapping\", \"wrapping\", \"wrong\", \"wrong\", \"wrong\", \"wrong\", \"wrong\", \"wrong\", \"wrong\", \"wrong\", \"wrong\", \"wrong\", \"wrong\", \"wrong\", \"wrong\", \"wrought\", \"wrought\", \"wrought\", \"wrought\", \"wrought\", \"xii\", \"xii\", \"yes\", \"yes\", \"yes\", \"yes\", \"yes\", \"yes\", \"yes\", \"yes\", \"yes\", \"yes\", \"yes\", \"yes\", \"yes\", \"yes\", \"yorke\", \"yorkshire\", \"yorkshire\", \"yorkshire\", \"young\", \"young\", \"young\", \"young\", \"young\", \"young\", \"young\", \"young\", \"young\", \"young\", \"young\", \"young\", \"young\", \"young\"]}, \"R\": 30, \"lambda.step\": 0.01, \"plot.opts\": {\"xlab\": \"PC1\", \"ylab\": \"PC2\"}, \"topic.order\": [12, 7, 13, 11, 6, 14, 4, 1, 15, 3, 10, 9, 8, 2, 5]};\n",
       "\n",
       "function LDAvis_load_lib(url, callback){\n",
       "  var s = document.createElement('script');\n",
       "  s.src = url;\n",
       "  s.async = true;\n",
       "  s.onreadystatechange = s.onload = callback;\n",
       "  s.onerror = function(){console.warn(\"failed to load library \" + url);};\n",
       "  document.getElementsByTagName(\"head\")[0].appendChild(s);\n",
       "}\n",
       "\n",
       "if(typeof(LDAvis) !== \"undefined\"){\n",
       "   // already loaded: just create the visualization\n",
       "   !function(LDAvis){\n",
       "       new LDAvis(\"#\" + \"ldavis_el16778481379489651508025\", ldavis_el16778481379489651508025_data);\n",
       "   }(LDAvis);\n",
       "}else if(typeof define === \"function\" && define.amd){\n",
       "   // require.js is available: use it to load d3/LDAvis\n",
       "   require.config({paths: {d3: \"https://cdnjs.cloudflare.com/ajax/libs/d3/3.5.5/d3.min\"}});\n",
       "   require([\"d3\"], function(d3){\n",
       "      window.d3 = d3;\n",
       "      LDAvis_load_lib(\"https://cdn.rawgit.com/bmabey/pyLDAvis/files/ldavis.v1.0.0.js\", function(){\n",
       "        new LDAvis(\"#\" + \"ldavis_el16778481379489651508025\", ldavis_el16778481379489651508025_data);\n",
       "      });\n",
       "    });\n",
       "}else{\n",
       "    // require.js not available: dynamically load d3 & LDAvis\n",
       "    LDAvis_load_lib(\"https://cdnjs.cloudflare.com/ajax/libs/d3/3.5.5/d3.min.js\", function(){\n",
       "         LDAvis_load_lib(\"https://cdn.rawgit.com/bmabey/pyLDAvis/files/ldavis.v1.0.0.js\", function(){\n",
       "                 new LDAvis(\"#\" + \"ldavis_el16778481379489651508025\", ldavis_el16778481379489651508025_data);\n",
       "            })\n",
       "         });\n",
       "}\n",
       "</script>"
      ],
      "text/plain": [
       "PreparedData(topic_coordinates=              x         y  topics  cluster       Freq\n",
       "topic                                                \n",
       "11     0.064553  0.004566       1        1  22.632153\n",
       "6     -0.116848  0.015708       2        1  21.335260\n",
       "12    -0.103784  0.019097       3        1  11.978846\n",
       "10     0.040739  0.095666       4        1   8.786520\n",
       "5      0.097153  0.061394       5        1   8.369127\n",
       "13    -0.172735  0.041932       6        1   7.529603\n",
       "3      0.026522  0.004445       7        1   6.522032\n",
       "0     -0.111939  0.024425       8        1   5.135088\n",
       "14     0.113706  0.044129       9        1   2.639500\n",
       "2      0.023380 -0.005366      10        1   1.693560\n",
       "9      0.030343  0.024326      11        1   1.351238\n",
       "8      0.072857 -0.034327      12        1   0.766477\n",
       "7     -0.116970 -0.117237      13        1   0.651163\n",
       "1      0.079955 -0.037950      14        1   0.582800\n",
       "4      0.073066 -0.140808      15        1   0.026641, topic_info=     Category         Freq           Term        Total  loglift  logprob\n",
       "90    Default   873.000000           emma   873.000000  30.0000  30.0000\n",
       "134   Default   528.000000        harriet   528.000000  29.0000  29.0000\n",
       "177   Default  1725.000000         little  1725.000000  28.0000  28.0000\n",
       "387   Default  1345.000000           good  1345.000000  27.0000  27.0000\n",
       "1641  Default   645.000000      elizabeth   645.000000  26.0000  26.0000\n",
       "169   Default  1412.000000           know  1412.000000  25.0000  25.0000\n",
       "495   Default  1296.000000          think  1296.000000  24.0000  24.0000\n",
       "848   Default   912.000000           jane   912.000000  23.0000  23.0000\n",
       "414   Default  1330.000000           like  1330.000000  22.0000  22.0000\n",
       "2721  Default   642.000000         elinor   642.000000  21.0000  21.0000\n",
       "417   Default   897.000000            man   897.000000  20.0000  20.0000\n",
       "272   Default  1137.000000        thought  1137.000000  19.0000  19.0000\n",
       "509   Default   446.000000         weston   446.000000  18.0000  18.0000\n",
       "89    Default   395.000000          elton   395.000000  17.0000  17.0000\n",
       "632   Default   403.000000         madame   403.000000  16.0000  16.0000\n",
       "271   Default   779.000000          thing   779.000000  15.0000  15.0000\n",
       "168   Default   393.000000      knightley   393.000000  14.0000  14.0000\n",
       "913   Default   366.000000      rochester   366.000000  13.0000  13.0000\n",
       "2745  Default   530.000000       marianne   530.000000  12.0000  12.0000\n",
       "2119  Default   415.000000          darcy   415.000000  11.0000  11.0000\n",
       "1131  Default  1515.000000           miss  1515.000000  10.0000  10.0000\n",
       "681   Default   918.000000          shall   918.000000   9.0000   9.0000\n",
       "297   Default   321.000000      woodhouse   321.000000   8.0000   8.0000\n",
       "183   Default   560.000000           love   560.000000   7.0000   7.0000\n",
       "1610  Default   324.000000         bennet   324.000000   6.0000   6.0000\n",
       "1197  Default   602.000000            sir   602.000000   5.0000   5.0000\n",
       "296   Default   467.000000          woman   467.000000   4.0000   4.0000\n",
       "2485  Default   284.000000       monsieur   284.000000   3.0000   3.0000\n",
       "164   Default   612.000000           john   612.000000   2.0000   2.0000\n",
       "434   Default   624.000000          night   624.000000   1.0000   1.0000\n",
       "...       ...          ...            ...          ...      ...      ...\n",
       "6613  Topic15     0.137347        nominal     6.111691   4.4350  -6.4102\n",
       "3491  Topic15     0.252379       released    11.990863   4.3695  -5.8018\n",
       "5281  Topic15     0.207648        release    10.207208   4.3355  -5.9969\n",
       "2643  Topic15     0.216466       nineteen    11.027092   4.2998  -5.9553\n",
       "4047  Topic15     0.107576   unrestrained     6.913484   4.0675  -6.6546\n",
       "6020  Topic15     0.217709      unnatural    14.165318   4.0551  -5.9496\n",
       "184   Topic15     0.201166         lovers    14.565174   3.9482  -6.0286\n",
       "6882  Topic15     0.088821  inexperienced     7.586384   3.7830  -6.8461\n",
       "154   Topic15     0.129145      incessant    11.039669   3.7822  -6.4718\n",
       "1655  Topic15     0.240214        foolish    24.369810   3.6109  -5.8512\n",
       "4966  Topic15     0.135333        failure    13.779447   3.6073  -6.4250\n",
       "4254  Topic15     0.118189        flowing    12.113145   3.6007  -6.5605\n",
       "6085  Topic15     0.049520    philosophic     5.345612   3.5488  -7.4304\n",
       "7829  Topic15     0.060622       wounding     7.198079   3.4536  -7.2281\n",
       "3149  Topic15     0.127651          swell    16.058308   3.3958  -6.4835\n",
       "3413  Topic15     0.069920      sleepless    10.258750   3.2419  -7.0854\n",
       "5440  Topic15     0.115737        suffice    17.090174   3.2355  -6.5814\n",
       "4175  Topic15     0.162152       eighteen    26.364553   3.1392  -6.2442\n",
       "2923  Topic15     0.105066       learning    17.710514   3.1032  -6.6782\n",
       "4026  Topic15     0.196763     profession    33.412445   3.0958  -6.0507\n",
       "2784  Topic15     0.033600      unceasing     6.329104   2.9921  -7.8182\n",
       "5843  Topic15     0.080043       elevated    17.145025   2.8636  -6.9502\n",
       "733   Topic15     0.136580        wrought    31.257893   2.7974  -6.4158\n",
       "6715  Topic15     0.066521         errors    16.889694   2.6935  -7.1352\n",
       "4621  Topic15     0.065378      creatures    24.509979   2.3038  -7.1526\n",
       "232   Topic15     0.073589        reality    29.868458   2.2244  -7.0343\n",
       "1492  Topic15     0.061708           idle    25.717119   2.1980  -7.2103\n",
       "640   Topic15     0.096107           need   166.472397   0.7734  -6.7673\n",
       "1263  Topic15     0.069698         change   218.341721   0.1808  -7.0886\n",
       "496   Topic15     0.064414           time  1310.143311  -1.6898  -7.1674\n",
       "\n",
       "[1096 rows x 6 columns], token_table=      Topic      Freq        Term\n",
       "term                             \n",
       "7565      1  0.363111     abandon\n",
       "7565      3  0.181556     abandon\n",
       "7565     10  0.181556     abandon\n",
       "7565     13  0.181556     abandon\n",
       "0         6  0.904163       abbey\n",
       "0         8  0.030139       abbey\n",
       "0        13  0.030139       abbey\n",
       "7456      3  0.075431       abbot\n",
       "7456      4  0.867460       abbot\n",
       "7019      2  0.120959  accomplish\n",
       "7019      5  0.120959  accomplish\n",
       "7019      6  0.120959  accomplish\n",
       "7019      7  0.120959  accomplish\n",
       "7019     10  0.362876  accomplish\n",
       "734       4  0.833699       adele\n",
       "734       5  0.014374       adele\n",
       "734       7  0.035935       adele\n",
       "734       9  0.007187       adele\n",
       "734      10  0.007187       adele\n",
       "734      11  0.071871       adele\n",
       "734      12  0.014374       adele\n",
       "2184      2  0.401354      advise\n",
       "2184      3  0.267569      advise\n",
       "2184      6  0.100338      advise\n",
       "2184      8  0.066892      advise\n",
       "2184     11  0.033446      advise\n",
       "2184     12  0.033446      advise\n",
       "2184     13  0.100338      advise\n",
       "7441      2  0.370656  affectedly\n",
       "7441      8  0.370656  affectedly\n",
       "...     ...       ...         ...\n",
       "517       3  0.110733         yes\n",
       "517       4  0.226500         yes\n",
       "517       5  0.050333         yes\n",
       "517       6  0.062078         yes\n",
       "517       7  0.065433         yes\n",
       "517       8  0.078855         yes\n",
       "517       9  0.011744         yes\n",
       "517      10  0.018456         yes\n",
       "517      11  0.020133         yes\n",
       "517      12  0.005033         yes\n",
       "517      13  0.015100         yes\n",
       "517      14  0.006711         yes\n",
       "7304      1  0.922890       yorke\n",
       "7737      2  0.236377   yorkshire\n",
       "7737      3  0.118188   yorkshire\n",
       "7737      8  0.590942   yorkshire\n",
       "518       1  0.113977       young\n",
       "518       2  0.294820       young\n",
       "518       3  0.179323       young\n",
       "518       4  0.031913       young\n",
       "518       5  0.092701       young\n",
       "518       6  0.103339       young\n",
       "518       7  0.050150       young\n",
       "518       8  0.082063       young\n",
       "518       9  0.015197       young\n",
       "518      10  0.004559       young\n",
       "518      11  0.009118       young\n",
       "518      12  0.001520       young\n",
       "518      13  0.018236       young\n",
       "518      14  0.001520       young\n",
       "\n",
       "[4171 rows x 3 columns], R=30, lambda_step=0.01, plot_opts={'xlab': 'PC1', 'ylab': 'PC2'}, topic_order=[12, 7, 13, 11, 6, 14, 4, 1, 15, 3, 10, 9, 8, 2, 5])"
      ]
     },
     "execution_count": 68,
     "metadata": {},
     "output_type": "execute_result"
    }
   ],
   "source": [
    "pyLDAvis.gensim.prepare(lda, corpus, id2word)"
   ]
  },
  {
   "cell_type": "markdown",
   "metadata": {},
   "source": [
    "### Overall Model / Documents"
   ]
  },
  {
   "cell_type": "code",
   "execution_count": 69,
   "metadata": {},
   "outputs": [
    {
     "data": {
      "text/plain": [
       "[(13, 0.99755025)]"
      ]
     },
     "execution_count": 69,
     "metadata": {},
     "output_type": "execute_result"
    }
   ],
   "source": [
    "lda[corpus[0]]"
   ]
  },
  {
   "cell_type": "code",
   "execution_count": 70,
   "metadata": {},
   "outputs": [],
   "source": [
    "# List comp to get all distributions\n",
    "distro = [lda[d] for d in corpus]"
   ]
  },
  {
   "cell_type": "code",
   "execution_count": 71,
   "metadata": {},
   "outputs": [
    {
     "data": {
      "text/plain": [
       "[(13, 0.99755025)]"
      ]
     },
     "execution_count": 71,
     "metadata": {},
     "output_type": "execute_result"
    }
   ],
   "source": [
    "distro[0]"
   ]
  },
  {
   "cell_type": "code",
   "execution_count": 72,
   "metadata": {},
   "outputs": [],
   "source": [
    "distro = [lda[d] for d in corpus]\n",
    "\n",
    "def update(doc):\n",
    "        d_dist = {k:0 for k in range(0,15)}\n",
    "        for t in doc:\n",
    "            d_dist[t[0]] = t[1]\n",
    "        return d_dist\n",
    "    \n",
    "new_distro = [update(d) for d in distro]"
   ]
  },
  {
   "cell_type": "code",
   "execution_count": 74,
   "metadata": {},
   "outputs": [
    {
     "data": {
      "text/plain": [
       "813"
      ]
     },
     "execution_count": 74,
     "metadata": {},
     "output_type": "execute_result"
    }
   ],
   "source": [
    "len(new_distro)"
   ]
  },
  {
   "cell_type": "code",
   "execution_count": 73,
   "metadata": {},
   "outputs": [
    {
     "data": {
      "text/plain": [
       "{0: 0,\n",
       " 1: 0,\n",
       " 2: 0,\n",
       " 3: 0,\n",
       " 4: 0,\n",
       " 5: 0,\n",
       " 6: 0,\n",
       " 7: 0,\n",
       " 8: 0,\n",
       " 9: 0,\n",
       " 10: 0,\n",
       " 11: 0,\n",
       " 12: 0,\n",
       " 13: 0.99755025,\n",
       " 14: 0}"
      ]
     },
     "execution_count": 73,
     "metadata": {},
     "output_type": "execute_result"
    }
   ],
   "source": [
    "new_distro[0]"
   ]
  },
  {
   "cell_type": "code",
   "execution_count": 75,
   "metadata": {},
   "outputs": [
    {
     "data": {
      "text/html": [
       "<div>\n",
       "<style scoped>\n",
       "    .dataframe tbody tr th:only-of-type {\n",
       "        vertical-align: middle;\n",
       "    }\n",
       "\n",
       "    .dataframe tbody tr th {\n",
       "        vertical-align: top;\n",
       "    }\n",
       "\n",
       "    .dataframe thead th {\n",
       "        text-align: right;\n",
       "    }\n",
       "</style>\n",
       "<table border=\"1\" class=\"dataframe\">\n",
       "  <thead>\n",
       "    <tr style=\"text-align: right;\">\n",
       "      <th></th>\n",
       "      <th>tokens</th>\n",
       "      <th>author</th>\n",
       "      <th>book</th>\n",
       "      <th>section</th>\n",
       "    </tr>\n",
       "  </thead>\n",
       "  <tbody>\n",
       "    <tr>\n",
       "      <th>Austen_Emma0026</th>\n",
       "      <td>[giving, fair, companion, account, yesterday, ...</td>\n",
       "      <td>1</td>\n",
       "      <td>Emma</td>\n",
       "      <td>26</td>\n",
       "    </tr>\n",
       "    <tr>\n",
       "      <th>Austen_Emma0032</th>\n",
       "      <td>[feels, like, snow, place, party, try, day, di...</td>\n",
       "      <td>1</td>\n",
       "      <td>Emma</td>\n",
       "      <td>32</td>\n",
       "    </tr>\n",
       "    <tr>\n",
       "      <th>CBronte_Villette0086</th>\n",
       "      <td>[pierced, opaque, blackness, stood, bougie, qu...</td>\n",
       "      <td>0</td>\n",
       "      <td>Villette</td>\n",
       "      <td>86</td>\n",
       "    </tr>\n",
       "    <tr>\n",
       "      <th>CBronte_Jane0099</th>\n",
       "      <td>[joke, queer, looks, tell, thing, specially, s...</td>\n",
       "      <td>0</td>\n",
       "      <td>Jane</td>\n",
       "      <td>99</td>\n",
       "    </tr>\n",
       "    <tr>\n",
       "      <th>CBronte_Villette0092</th>\n",
       "      <td>[second, landing, floor, comprising, abode, kn...</td>\n",
       "      <td>0</td>\n",
       "      <td>Villette</td>\n",
       "      <td>92</td>\n",
       "    </tr>\n",
       "  </tbody>\n",
       "</table>\n",
       "</div>"
      ],
      "text/plain": [
       "                                                                 tokens  \\\n",
       "Austen_Emma0026       [giving, fair, companion, account, yesterday, ...   \n",
       "Austen_Emma0032       [feels, like, snow, place, party, try, day, di...   \n",
       "CBronte_Villette0086  [pierced, opaque, blackness, stood, bougie, qu...   \n",
       "CBronte_Jane0099      [joke, queer, looks, tell, thing, specially, s...   \n",
       "CBronte_Villette0092  [second, landing, floor, comprising, abode, kn...   \n",
       "\n",
       "                      author      book  section  \n",
       "Austen_Emma0026            1      Emma       26  \n",
       "Austen_Emma0032            1      Emma       32  \n",
       "CBronte_Villette0086       0  Villette       86  \n",
       "CBronte_Jane0099           0      Jane       99  \n",
       "CBronte_Villette0092       0  Villette       92  "
      ]
     },
     "execution_count": 75,
     "metadata": {},
     "output_type": "execute_result"
    }
   ],
   "source": [
    "df.head()"
   ]
  },
  {
   "cell_type": "code",
   "execution_count": 76,
   "metadata": {},
   "outputs": [],
   "source": [
    "# Create df of topic distributions\n",
    "df1 = pd.DataFrame.from_records(new_distro, index=titles)\n",
    "df1.columns = topics\n",
    "df1['author'] = df1.reset_index()['index'].apply(lambda x: x.split('_')[0]).tolist()"
   ]
  },
  {
   "cell_type": "code",
   "execution_count": 77,
   "metadata": {},
   "outputs": [
    {
     "data": {
      "text/html": [
       "<div>\n",
       "<style scoped>\n",
       "    .dataframe tbody tr th:only-of-type {\n",
       "        vertical-align: middle;\n",
       "    }\n",
       "\n",
       "    .dataframe tbody tr th {\n",
       "        vertical-align: top;\n",
       "    }\n",
       "\n",
       "    .dataframe thead th {\n",
       "        text-align: right;\n",
       "    }\n",
       "</style>\n",
       "<table border=\"1\" class=\"dataframe\">\n",
       "  <thead>\n",
       "    <tr style=\"text-align: right;\">\n",
       "      <th></th>\n",
       "      <th>emma think frank weston churchill</th>\n",
       "      <th>hunsden house like came little</th>\n",
       "      <th>jane love like heart thought</th>\n",
       "      <th>like john know good little</th>\n",
       "      <th>released comparisons foolish unnatural nineteen</th>\n",
       "      <th>little like door long eyes</th>\n",
       "      <th>elinor miss marianne know sister</th>\n",
       "      <th>harriet good emma man think</th>\n",
       "      <th>little bretton like child know</th>\n",
       "      <th>jane rochester know shall like</th>\n",
       "      <th>rochester sir room jane like</th>\n",
       "      <th>little like thought time day</th>\n",
       "      <th>elizabeth darcy bennet bingley jane</th>\n",
       "      <th>emma harriet elton weston knightley</th>\n",
       "      <th>madame little vous room thought</th>\n",
       "      <th>author</th>\n",
       "    </tr>\n",
       "  </thead>\n",
       "  <tbody>\n",
       "    <tr>\n",
       "      <th>Austen_Emma0026</th>\n",
       "      <td>0.000000</td>\n",
       "      <td>0.0</td>\n",
       "      <td>0.000000</td>\n",
       "      <td>0.000000</td>\n",
       "      <td>0.0</td>\n",
       "      <td>0.000000</td>\n",
       "      <td>0.000000</td>\n",
       "      <td>0.0</td>\n",
       "      <td>0.0</td>\n",
       "      <td>0.0</td>\n",
       "      <td>0.000000</td>\n",
       "      <td>0.000000</td>\n",
       "      <td>0.0</td>\n",
       "      <td>0.997550</td>\n",
       "      <td>0.000000</td>\n",
       "      <td>Austen</td>\n",
       "    </tr>\n",
       "    <tr>\n",
       "      <th>Austen_Emma0032</th>\n",
       "      <td>0.000000</td>\n",
       "      <td>0.0</td>\n",
       "      <td>0.000000</td>\n",
       "      <td>0.095582</td>\n",
       "      <td>0.0</td>\n",
       "      <td>0.000000</td>\n",
       "      <td>0.309653</td>\n",
       "      <td>0.0</td>\n",
       "      <td>0.0</td>\n",
       "      <td>0.0</td>\n",
       "      <td>0.000000</td>\n",
       "      <td>0.000000</td>\n",
       "      <td>0.0</td>\n",
       "      <td>0.592585</td>\n",
       "      <td>0.000000</td>\n",
       "      <td>Austen</td>\n",
       "    </tr>\n",
       "    <tr>\n",
       "      <th>CBronte_Villette0086</th>\n",
       "      <td>0.000000</td>\n",
       "      <td>0.0</td>\n",
       "      <td>0.000000</td>\n",
       "      <td>0.759594</td>\n",
       "      <td>0.0</td>\n",
       "      <td>0.000000</td>\n",
       "      <td>0.000000</td>\n",
       "      <td>0.0</td>\n",
       "      <td>0.0</td>\n",
       "      <td>0.0</td>\n",
       "      <td>0.000000</td>\n",
       "      <td>0.238195</td>\n",
       "      <td>0.0</td>\n",
       "      <td>0.000000</td>\n",
       "      <td>0.000000</td>\n",
       "      <td>CBronte</td>\n",
       "    </tr>\n",
       "    <tr>\n",
       "      <th>CBronte_Jane0099</th>\n",
       "      <td>0.000000</td>\n",
       "      <td>0.0</td>\n",
       "      <td>0.017956</td>\n",
       "      <td>0.000000</td>\n",
       "      <td>0.0</td>\n",
       "      <td>0.180874</td>\n",
       "      <td>0.000000</td>\n",
       "      <td>0.0</td>\n",
       "      <td>0.0</td>\n",
       "      <td>0.0</td>\n",
       "      <td>0.188398</td>\n",
       "      <td>0.575799</td>\n",
       "      <td>0.0</td>\n",
       "      <td>0.000000</td>\n",
       "      <td>0.035272</td>\n",
       "      <td>CBronte</td>\n",
       "    </tr>\n",
       "    <tr>\n",
       "      <th>CBronte_Villette0092</th>\n",
       "      <td>0.041498</td>\n",
       "      <td>0.0</td>\n",
       "      <td>0.000000</td>\n",
       "      <td>0.172331</td>\n",
       "      <td>0.0</td>\n",
       "      <td>0.486231</td>\n",
       "      <td>0.036568</td>\n",
       "      <td>0.0</td>\n",
       "      <td>0.0</td>\n",
       "      <td>0.0</td>\n",
       "      <td>0.000000</td>\n",
       "      <td>0.261869</td>\n",
       "      <td>0.0</td>\n",
       "      <td>0.000000</td>\n",
       "      <td>0.000000</td>\n",
       "      <td>CBronte</td>\n",
       "    </tr>\n",
       "  </tbody>\n",
       "</table>\n",
       "</div>"
      ],
      "text/plain": [
       "                      emma think frank weston churchill  \\\n",
       "Austen_Emma0026                                0.000000   \n",
       "Austen_Emma0032                                0.000000   \n",
       "CBronte_Villette0086                           0.000000   \n",
       "CBronte_Jane0099                               0.000000   \n",
       "CBronte_Villette0092                           0.041498   \n",
       "\n",
       "                      hunsden house like came little  \\\n",
       "Austen_Emma0026                                  0.0   \n",
       "Austen_Emma0032                                  0.0   \n",
       "CBronte_Villette0086                             0.0   \n",
       "CBronte_Jane0099                                 0.0   \n",
       "CBronte_Villette0092                             0.0   \n",
       "\n",
       "                      jane love like heart thought  \\\n",
       "Austen_Emma0026                           0.000000   \n",
       "Austen_Emma0032                           0.000000   \n",
       "CBronte_Villette0086                      0.000000   \n",
       "CBronte_Jane0099                          0.017956   \n",
       "CBronte_Villette0092                      0.000000   \n",
       "\n",
       "                      like john know good little  \\\n",
       "Austen_Emma0026                         0.000000   \n",
       "Austen_Emma0032                         0.095582   \n",
       "CBronte_Villette0086                    0.759594   \n",
       "CBronte_Jane0099                        0.000000   \n",
       "CBronte_Villette0092                    0.172331   \n",
       "\n",
       "                      released comparisons foolish unnatural nineteen  \\\n",
       "Austen_Emma0026                                                   0.0   \n",
       "Austen_Emma0032                                                   0.0   \n",
       "CBronte_Villette0086                                              0.0   \n",
       "CBronte_Jane0099                                                  0.0   \n",
       "CBronte_Villette0092                                              0.0   \n",
       "\n",
       "                      little like door long eyes  \\\n",
       "Austen_Emma0026                         0.000000   \n",
       "Austen_Emma0032                         0.000000   \n",
       "CBronte_Villette0086                    0.000000   \n",
       "CBronte_Jane0099                        0.180874   \n",
       "CBronte_Villette0092                    0.486231   \n",
       "\n",
       "                      elinor miss marianne know sister  \\\n",
       "Austen_Emma0026                               0.000000   \n",
       "Austen_Emma0032                               0.309653   \n",
       "CBronte_Villette0086                          0.000000   \n",
       "CBronte_Jane0099                              0.000000   \n",
       "CBronte_Villette0092                          0.036568   \n",
       "\n",
       "                      harriet good emma man think  \\\n",
       "Austen_Emma0026                               0.0   \n",
       "Austen_Emma0032                               0.0   \n",
       "CBronte_Villette0086                          0.0   \n",
       "CBronte_Jane0099                              0.0   \n",
       "CBronte_Villette0092                          0.0   \n",
       "\n",
       "                      little bretton like child know  \\\n",
       "Austen_Emma0026                                  0.0   \n",
       "Austen_Emma0032                                  0.0   \n",
       "CBronte_Villette0086                             0.0   \n",
       "CBronte_Jane0099                                 0.0   \n",
       "CBronte_Villette0092                             0.0   \n",
       "\n",
       "                      jane rochester know shall like  \\\n",
       "Austen_Emma0026                                  0.0   \n",
       "Austen_Emma0032                                  0.0   \n",
       "CBronte_Villette0086                             0.0   \n",
       "CBronte_Jane0099                                 0.0   \n",
       "CBronte_Villette0092                             0.0   \n",
       "\n",
       "                      rochester sir room jane like  \\\n",
       "Austen_Emma0026                           0.000000   \n",
       "Austen_Emma0032                           0.000000   \n",
       "CBronte_Villette0086                      0.000000   \n",
       "CBronte_Jane0099                          0.188398   \n",
       "CBronte_Villette0092                      0.000000   \n",
       "\n",
       "                      little like thought time day  \\\n",
       "Austen_Emma0026                           0.000000   \n",
       "Austen_Emma0032                           0.000000   \n",
       "CBronte_Villette0086                      0.238195   \n",
       "CBronte_Jane0099                          0.575799   \n",
       "CBronte_Villette0092                      0.261869   \n",
       "\n",
       "                      elizabeth darcy bennet bingley jane  \\\n",
       "Austen_Emma0026                                       0.0   \n",
       "Austen_Emma0032                                       0.0   \n",
       "CBronte_Villette0086                                  0.0   \n",
       "CBronte_Jane0099                                      0.0   \n",
       "CBronte_Villette0092                                  0.0   \n",
       "\n",
       "                      emma harriet elton weston knightley  \\\n",
       "Austen_Emma0026                                  0.997550   \n",
       "Austen_Emma0032                                  0.592585   \n",
       "CBronte_Villette0086                             0.000000   \n",
       "CBronte_Jane0099                                 0.000000   \n",
       "CBronte_Villette0092                             0.000000   \n",
       "\n",
       "                      madame little vous room thought   author  \n",
       "Austen_Emma0026                              0.000000   Austen  \n",
       "Austen_Emma0032                              0.000000   Austen  \n",
       "CBronte_Villette0086                         0.000000  CBronte  \n",
       "CBronte_Jane0099                             0.035272  CBronte  \n",
       "CBronte_Villette0092                         0.000000  CBronte  "
      ]
     },
     "execution_count": 77,
     "metadata": {},
     "output_type": "execute_result"
    }
   ],
   "source": [
    "df1.head()"
   ]
  },
  {
   "cell_type": "code",
   "execution_count": 79,
   "metadata": {},
   "outputs": [
    {
     "data": {
      "text/html": [
       "<div>\n",
       "<style scoped>\n",
       "    .dataframe tbody tr th:only-of-type {\n",
       "        vertical-align: middle;\n",
       "    }\n",
       "\n",
       "    .dataframe tbody tr th {\n",
       "        vertical-align: top;\n",
       "    }\n",
       "\n",
       "    .dataframe thead th {\n",
       "        text-align: right;\n",
       "    }\n",
       "</style>\n",
       "<table border=\"1\" class=\"dataframe\">\n",
       "  <thead>\n",
       "    <tr style=\"text-align: right;\">\n",
       "      <th></th>\n",
       "      <th>emma think frank weston churchill</th>\n",
       "      <th>hunsden house like came little</th>\n",
       "      <th>jane love like heart thought</th>\n",
       "      <th>like john know good little</th>\n",
       "      <th>released comparisons foolish unnatural nineteen</th>\n",
       "      <th>little like door long eyes</th>\n",
       "      <th>elinor miss marianne know sister</th>\n",
       "      <th>harriet good emma man think</th>\n",
       "      <th>little bretton like child know</th>\n",
       "      <th>jane rochester know shall like</th>\n",
       "      <th>rochester sir room jane like</th>\n",
       "      <th>little like thought time day</th>\n",
       "      <th>elizabeth darcy bennet bingley jane</th>\n",
       "      <th>emma harriet elton weston knightley</th>\n",
       "      <th>madame little vous room thought</th>\n",
       "    </tr>\n",
       "    <tr>\n",
       "      <th>author</th>\n",
       "      <th></th>\n",
       "      <th></th>\n",
       "      <th></th>\n",
       "      <th></th>\n",
       "      <th></th>\n",
       "      <th></th>\n",
       "      <th></th>\n",
       "      <th></th>\n",
       "      <th></th>\n",
       "      <th></th>\n",
       "      <th></th>\n",
       "      <th></th>\n",
       "      <th></th>\n",
       "      <th></th>\n",
       "      <th></th>\n",
       "    </tr>\n",
       "  </thead>\n",
       "  <tbody>\n",
       "    <tr>\n",
       "      <th>Austen</th>\n",
       "      <td>0.091632</td>\n",
       "      <td>0.000000</td>\n",
       "      <td>0.00198</td>\n",
       "      <td>0.004873</td>\n",
       "      <td>0.000212</td>\n",
       "      <td>0.003066</td>\n",
       "      <td>0.452057</td>\n",
       "      <td>0.011451</td>\n",
       "      <td>0.000000</td>\n",
       "      <td>0.000000</td>\n",
       "      <td>0.005738</td>\n",
       "      <td>0.004299</td>\n",
       "      <td>0.259112</td>\n",
       "      <td>0.163007</td>\n",
       "      <td>0.000000</td>\n",
       "    </tr>\n",
       "    <tr>\n",
       "      <th>CBronte</th>\n",
       "      <td>0.019012</td>\n",
       "      <td>0.009718</td>\n",
       "      <td>0.03148</td>\n",
       "      <td>0.114635</td>\n",
       "      <td>0.000000</td>\n",
       "      <td>0.143012</td>\n",
       "      <td>0.017317</td>\n",
       "      <td>0.002725</td>\n",
       "      <td>0.013499</td>\n",
       "      <td>0.025532</td>\n",
       "      <td>0.161837</td>\n",
       "      <td>0.393598</td>\n",
       "      <td>0.019041</td>\n",
       "      <td>0.001261</td>\n",
       "      <td>0.044611</td>\n",
       "    </tr>\n",
       "  </tbody>\n",
       "</table>\n",
       "</div>"
      ],
      "text/plain": [
       "         emma think frank weston churchill  hunsden house like came little  \\\n",
       "author                                                                       \n",
       "Austen                            0.091632                        0.000000   \n",
       "CBronte                           0.019012                        0.009718   \n",
       "\n",
       "         jane love like heart thought  like john know good little  \\\n",
       "author                                                              \n",
       "Austen                        0.00198                    0.004873   \n",
       "CBronte                       0.03148                    0.114635   \n",
       "\n",
       "         released comparisons foolish unnatural nineteen  \\\n",
       "author                                                     \n",
       "Austen                                          0.000212   \n",
       "CBronte                                         0.000000   \n",
       "\n",
       "         little like door long eyes  elinor miss marianne know sister  \\\n",
       "author                                                                  \n",
       "Austen                     0.003066                          0.452057   \n",
       "CBronte                    0.143012                          0.017317   \n",
       "\n",
       "         harriet good emma man think  little bretton like child know  \\\n",
       "author                                                                 \n",
       "Austen                      0.011451                        0.000000   \n",
       "CBronte                     0.002725                        0.013499   \n",
       "\n",
       "         jane rochester know shall like  rochester sir room jane like  \\\n",
       "author                                                                  \n",
       "Austen                         0.000000                      0.005738   \n",
       "CBronte                        0.025532                      0.161837   \n",
       "\n",
       "         little like thought time day  elizabeth darcy bennet bingley jane  \\\n",
       "author                                                                       \n",
       "Austen                       0.004299                             0.259112   \n",
       "CBronte                      0.393598                             0.019041   \n",
       "\n",
       "         emma harriet elton weston knightley  madame little vous room thought  \n",
       "author                                                                         \n",
       "Austen                              0.163007                         0.000000  \n",
       "CBronte                             0.001261                         0.044611  "
      ]
     },
     "execution_count": 79,
     "metadata": {},
     "output_type": "execute_result"
    }
   ],
   "source": [
    "# Compare the distributions of the two authors\n",
    "df1.groupby('author').mean()"
   ]
  },
  {
   "cell_type": "markdown",
   "metadata": {},
   "source": [
    "> One observation is that a significant portion of the topics are names—i.e. the authors are writing about people."
   ]
  },
  {
   "cell_type": "markdown",
   "metadata": {},
   "source": [
    "---\n",
    "---\n",
    "\n",
    "# Selecting the Number of Topics (Learn)\n",
    "<a id=\"#p4\"></a>"
   ]
  },
  {
   "cell_type": "code",
   "execution_count": 80,
   "metadata": {},
   "outputs": [],
   "source": [
    "from gensim.models.coherencemodel import CoherenceModel\n",
    "\n",
    "def compute_coherence_values(dictionary, corpus, path, limit, start=2, step=3, passes=5):\n",
    "    \"\"\"\n",
    "    Compute c_v coherence for various number of topics\n",
    "\n",
    "    Parameters:\n",
    "    ----------\n",
    "    dictionary : Gensim dictionary\n",
    "    corpus : Gensim corpus\n",
    "    path : path to input texts\n",
    "    limit : Max num of topics\n",
    "    passes: the number of times the entire lda model & coherence values are calculated\n",
    "\n",
    "    Returns:\n",
    "    -------\n",
    "    coherence_values : Coherence values corresponding to the LDA model with respective number of topics\n",
    "    \"\"\"\n",
    "    \n",
    "    coherence_values = []\n",
    "    \n",
    "#     tokens = list(doc_stream(path))\n",
    "    \n",
    "    for iter_ in range(passes):\n",
    "        for num_topics in range(start, limit, step):\n",
    "            stream = doc_stream(path)\n",
    "            model = LdaMulticore(corpus=corpus, num_topics=num_topics, id2word=dictionary, workers=4)\n",
    "            coherencemodel = CoherenceModel(model=model,dictionary=dictionary,corpus=corpus, coherence='u_mass')\n",
    "            coherence_values.append({'pass': iter_, \n",
    "                                     'num_topics': num_topics, \n",
    "                                     'coherence_score': coherencemodel.get_coherence()\n",
    "                                    })\n",
    "\n",
    "    return coherence_values"
   ]
  },
  {
   "cell_type": "code",
   "execution_count": 82,
   "metadata": {},
   "outputs": [],
   "source": [
    "# Suppress the DeprecationWarnings by using context manager\n",
    "import warnings\n",
    "\n",
    "with warnings.catch_warnings():\n",
    "    warnings.filterwarnings(\"ignore\",category=DeprecationWarning)\n",
    "\n",
    "    # Can take a long time to run.\n",
    "    coherence_values = compute_coherence_values(dictionary=id2word, \n",
    "                                                            corpus=corpus, \n",
    "                                                            path=path, \n",
    "                                                            start=2, \n",
    "                                                            limit=40, \n",
    "                                                            step=6,\n",
    "                                                            passes=40)"
   ]
  },
  {
   "cell_type": "code",
   "execution_count": 83,
   "metadata": {},
   "outputs": [],
   "source": [
    "topic_coherence = pd.DataFrame.from_records(coherence_values)"
   ]
  },
  {
   "cell_type": "code",
   "execution_count": 84,
   "metadata": {},
   "outputs": [
    {
     "data": {
      "text/html": [
       "<div>\n",
       "<style scoped>\n",
       "    .dataframe tbody tr th:only-of-type {\n",
       "        vertical-align: middle;\n",
       "    }\n",
       "\n",
       "    .dataframe tbody tr th {\n",
       "        vertical-align: top;\n",
       "    }\n",
       "\n",
       "    .dataframe thead th {\n",
       "        text-align: right;\n",
       "    }\n",
       "</style>\n",
       "<table border=\"1\" class=\"dataframe\">\n",
       "  <thead>\n",
       "    <tr style=\"text-align: right;\">\n",
       "      <th></th>\n",
       "      <th>coherence_score</th>\n",
       "      <th>num_topics</th>\n",
       "      <th>pass</th>\n",
       "    </tr>\n",
       "  </thead>\n",
       "  <tbody>\n",
       "    <tr>\n",
       "      <th>0</th>\n",
       "      <td>-0.612897</td>\n",
       "      <td>2</td>\n",
       "      <td>0</td>\n",
       "    </tr>\n",
       "    <tr>\n",
       "      <th>1</th>\n",
       "      <td>-0.634362</td>\n",
       "      <td>8</td>\n",
       "      <td>0</td>\n",
       "    </tr>\n",
       "    <tr>\n",
       "      <th>2</th>\n",
       "      <td>-0.777656</td>\n",
       "      <td>14</td>\n",
       "      <td>0</td>\n",
       "    </tr>\n",
       "    <tr>\n",
       "      <th>3</th>\n",
       "      <td>-0.787882</td>\n",
       "      <td>20</td>\n",
       "      <td>0</td>\n",
       "    </tr>\n",
       "    <tr>\n",
       "      <th>4</th>\n",
       "      <td>-0.821890</td>\n",
       "      <td>26</td>\n",
       "      <td>0</td>\n",
       "    </tr>\n",
       "  </tbody>\n",
       "</table>\n",
       "</div>"
      ],
      "text/plain": [
       "   coherence_score  num_topics  pass\n",
       "0        -0.612897           2     0\n",
       "1        -0.634362           8     0\n",
       "2        -0.777656          14     0\n",
       "3        -0.787882          20     0\n",
       "4        -0.821890          26     0"
      ]
     },
     "execution_count": 84,
     "metadata": {},
     "output_type": "execute_result"
    }
   ],
   "source": [
    "topic_coherence.head()"
   ]
  },
  {
   "cell_type": "code",
   "execution_count": 86,
   "metadata": {},
   "outputs": [
    {
     "data": {
      "image/png": "[encoded data removed]",
      "text/plain": [
       "<Figure size 432x288 with 1 Axes>"
      ]
     },
     "metadata": {
      "needs_background": "light"
     },
     "output_type": "display_data"
    }
   ],
   "source": [
    "import seaborn as sns\n",
    "\n",
    "ax = sns.lineplot(x=\"num_topics\", y=\"coherence_score\", data=topic_coherence);"
   ]
  },
  {
   "cell_type": "code",
   "execution_count": 87,
   "metadata": {},
   "outputs": [
    {
     "ename": "NameError",
     "evalue": "name 'x' is not defined",
     "output_type": "error",
     "traceback": [
      "\u001b[0;31m---------------------------------------------------------------------------\u001b[0m",
      "\u001b[0;31mNameError\u001b[0m                                 Traceback (most recent call last)",
      "\u001b[0;32m<ipython-input-87-374779cc73b5>\u001b[0m in \u001b[0;36m<module>\u001b[0;34m\u001b[0m\n\u001b[1;32m      1\u001b[0m \u001b[0;31m# Print the coherence scores\u001b[0m\u001b[0;34m\u001b[0m\u001b[0;34m\u001b[0m\u001b[0;34m\u001b[0m\u001b[0m\n\u001b[0;32m----> 2\u001b[0;31m \u001b[0;32mfor\u001b[0m \u001b[0mm\u001b[0m\u001b[0;34m,\u001b[0m \u001b[0mcv\u001b[0m \u001b[0;32min\u001b[0m \u001b[0mzip\u001b[0m\u001b[0;34m(\u001b[0m\u001b[0mx\u001b[0m\u001b[0;34m,\u001b[0m \u001b[0mcoherence_values\u001b[0m\u001b[0;34m)\u001b[0m\u001b[0;34m:\u001b[0m\u001b[0;34m\u001b[0m\u001b[0;34m\u001b[0m\u001b[0m\n\u001b[0m\u001b[1;32m      3\u001b[0m     \u001b[0mprint\u001b[0m\u001b[0;34m(\u001b[0m\u001b[0;34m\"Num Topics =\"\u001b[0m\u001b[0;34m,\u001b[0m \u001b[0mm\u001b[0m\u001b[0;34m,\u001b[0m \u001b[0;34m\" has Coherence Value of\"\u001b[0m\u001b[0;34m,\u001b[0m \u001b[0mround\u001b[0m\u001b[0;34m(\u001b[0m\u001b[0mcv\u001b[0m\u001b[0;34m,\u001b[0m \u001b[0;36m4\u001b[0m\u001b[0;34m)\u001b[0m\u001b[0;34m)\u001b[0m\u001b[0;34m\u001b[0m\u001b[0;34m\u001b[0m\u001b[0m\n",
      "\u001b[0;31mNameError\u001b[0m: name 'x' is not defined"
     ]
    }
   ],
   "source": [
    "# Print the coherence scores\n",
    "for m, cv in zip(x, coherence_values):\n",
    "    print(\"Num Topics =\", m, \" has Coherence Value of\", round(cv, 4))"
   ]
  },
  {
   "cell_type": "markdown",
   "metadata": {},
   "source": [
    "---\n",
    "---\n",
    "\n",
    "## Challenge\n",
    "### *Can we see if one of the authors focus more on men than women?*\n",
    "\n",
    "*  Use Spacy for text prepocessing\n",
    "*  Extract the Named Entities from the documents using Spacy (command is fairly straight forward)\n",
    "*  Create unique list of names from the authors (you'll find that there are different types of named entities not all people)\n",
    "*  Label the names with genders (can you this by hand or you use the US census name lists)\n",
    "*  Customize your processing to replace the proper name with your gender from the previous step's lookup table\n",
    "*  Then follow the rest of the LDA flow"
   ]
  },
  {
   "cell_type": "code",
   "execution_count": 78,
   "metadata": {},
   "outputs": [
    {
     "name": "stderr",
     "output_type": "stream",
     "text": [
      "/Users/jonathansokoll/anaconda3/envs/U4-S1-NLP/lib/python3.7/site-packages/thinc/neural/train.py:7: DeprecationWarning: Using or importing the ABCs from 'collections' instead of from 'collections.abc' is deprecated, and in 3.8 it will stop working\n",
      "  from .optimizers import Adam, linear_decay\n",
      "/Users/jonathansokoll/anaconda3/envs/U4-S1-NLP/lib/python3.7/site-packages/thinc/check.py:4: DeprecationWarning: Using or importing the ABCs from 'collections' instead of from 'collections.abc' is deprecated, and in 3.8 it will stop working\n",
      "  from collections import Sequence, Sized, Iterable, Callable\n",
      "/Users/jonathansokoll/anaconda3/envs/U4-S1-NLP/lib/python3.7/site-packages/thinc/check.py:4: DeprecationWarning: Using or importing the ABCs from 'collections' instead of from 'collections.abc' is deprecated, and in 3.8 it will stop working\n",
      "  from collections import Sequence, Sized, Iterable, Callable\n"
     ]
    }
   ],
   "source": [
    "import spacy\n",
    "\n",
    "nlp = spacy.load('en_core_web_lg')"
   ]
  },
  {
   "cell_type": "code",
   "execution_count": 79,
   "metadata": {},
   "outputs": [],
   "source": [
    "test = \"Ned asked me a question about England today.\""
   ]
  },
  {
   "cell_type": "code",
   "execution_count": 80,
   "metadata": {},
   "outputs": [
    {
     "name": "stdout",
     "output_type": "stream",
     "text": [
      "Ned Ned PROPN\n",
      "asked ask VERB\n",
      "me -PRON- PRON\n",
      "a a DET\n",
      "question question NOUN\n",
      "about about ADP\n",
      "England England PROPN\n",
      "today today NOUN\n",
      ". . PUNCT\n"
     ]
    }
   ],
   "source": [
    "doc = nlp(test)\n",
    "\n",
    "for token in doc:\n",
    "    print(token.text, token.lemma_, token.pos_)"
   ]
  },
  {
   "cell_type": "code",
   "execution_count": 81,
   "metadata": {},
   "outputs": [
    {
     "name": "stdout",
     "output_type": "stream",
     "text": [
      "Ned PERSON\n",
      "England GPE\n",
      "today DATE\n"
     ]
    }
   ],
   "source": [
    "for ent in doc.ents:\n",
    "    print(ent.text, ent.label_)"
   ]
  },
  {
   "cell_type": "code",
   "execution_count": 82,
   "metadata": {},
   "outputs": [],
   "source": [
    "def doc_stream(path):\n",
    "    for f in os.listdir(path):\n",
    "        with open(os.path.join(path,f)) as t:\n",
    "            text = t.read().strip('\\n')\n",
    "            yield text\n",
    "\n",
    "def get_people(docstream):\n",
    "    \n",
    "    ppl = []\n",
    "    \n",
    "    for d in docstream:\n",
    "        \n",
    "        doc = nlp(d)\n",
    "        \n",
    "        for ent in doc.ents:\n",
    "            \n",
    "            if ent.label_ == \"PERSON\":\n",
    "                ppl.append(ent.lemma_)\n",
    "                \n",
    "    return set(ppl)"
   ]
  },
  {
   "cell_type": "code",
   "execution_count": 129,
   "metadata": {},
   "outputs": [],
   "source": [
    "people = get_people(doc_stream(path))"
   ]
  },
  {
   "cell_type": "code",
   "execution_count": 126,
   "metadata": {},
   "outputs": [],
   "source": [
    "doc = nlp(next(doc_stream(path)))"
   ]
  },
  {
   "cell_type": "code",
   "execution_count": 128,
   "metadata": {},
   "outputs": [
    {
     "data": {
      "text/plain": [
       "'yesterday'"
      ]
     },
     "execution_count": 128,
     "metadata": {},
     "output_type": "execute_result"
    }
   ],
   "source": [
    "doc.ents[0].lemma_"
   ]
  },
  {
   "cell_type": "markdown",
   "metadata": {},
   "source": [
    "---\n",
    "---\n",
    "\n",
    "# Sources\n",
    "\n",
    "### *References*\n",
    "* [Andrew Ng et al paper on LDA](https://ai.stanford.edu/~ang/papers/jair03-lda.pdf)\n",
    "* On [Coherence](https://pdfs.semanticscholar.org/1521/8d9c029cbb903ae7c729b2c644c24994c201.pdf)\n",
    "\n",
    "### *Resources*\n",
    "\n",
    "* [Gensim](https://radimrehurek.com/gensim/): Python package for topic modeling, nlp, word vectorization, and few other things. Well maintained and well documented.\n",
    "* [Topic Modeling with Gensim](http://www.machinelearningplus.com/nlp/topic-modeling-gensim-python/#11createthedictionaryandcorpusneededfortopicmodeling): A kind of cookbook for LDA with gensim. Excellent overview, but the you need to be aware of missing import statements and assumed prior knowledge.\n",
    "* [Chinese Restuarant Process](https://en.wikipedia.org/wiki/Chinese_restaurant_process): That really obscure stats thing I mentioned... \n",
    "* [PyLDAvis](https://github.com/bmabey/pyLDAvis): Library for visualizing the topic model and performing some exploratory work. Works well. Has a direct parrell implementation in R as well. \n",
    "* [Rare Technologies](https://rare-technologies.com/): The people that made & maintain gensim and a few other libraries.\n",
    "* [Jane Austen v. Charlotte Bronte](https://www.literaryladiesguide.com/literary-musings/jane-austen-charlotte-bronte-different-alike/)"
   ]
  },
  {
   "cell_type": "code",
   "execution_count": null,
   "metadata": {},
   "outputs": [],
   "source": []
  }
 ],
 "metadata": {
  "kernelspec": {
   "display_name": "Python 3",
   "language": "python",
   "name": "python3"
  },
  "language_info": {
   "codemirror_mode": {
    "name": "ipython",
    "version": 3
   },
   "file_extension": ".py",
   "mimetype": "text/x-python",
   "name": "python",
   "nbconvert_exporter": "python",
   "pygments_lexer": "ipython3",
   "version": "3.7.5"
  }
 },
 "nbformat": 4,
 "nbformat_minor": 4
}
