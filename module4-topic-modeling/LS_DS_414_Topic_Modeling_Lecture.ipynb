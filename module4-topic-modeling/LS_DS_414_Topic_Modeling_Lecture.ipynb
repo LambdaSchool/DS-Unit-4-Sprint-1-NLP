{
 "cells": [
  {
   "cell_type": "markdown",
   "metadata": {},
   "source": [
    "Lambda School Data Science\n",
    "\n",
    "*Unit 4, Sprint 1, Module 4*\n",
    "\n",
    "---"
   ]
  },
  {
   "cell_type": "markdown",
   "metadata": {},
   "source": [
    "# Topic Modeling (Prepare)\n",
    "\n",
    "On Monday we talked about summarizing your documents using just token counts. Today, we're going to learn about a much more sophisticated approach - learning 'topics' from documents. Topics are a latent structure. They are not directly observable in the data, but we know they're there by reading them.\n",
    "\n",
    "> **latent**: existing but not yet developed or manifest; hidden or concealed.\n",
    "\n",
    "## Use Cases\n",
    "Primary use case: what the hell are your documents about? Who might want to know that in industry - \n",
    "* Identifying common themes in customer reviews\n",
    "* Discovering the needle in a haystack \n",
    "* Monitoring communications (Email - State Department) \n",
    "\n",
    "## Learning Objectives\n",
    "*At the end of the lesson you should be able to:*\n",
    "* <a href=\"#p1\">Part 1</a>: Describe how an LDA Model works\n",
    "* <a href=\"#p2\">Part 2</a>: Estimate a LDA Model with Gensim\n",
    "* <a href=\"#p3\">Part 3</a>: Interpret LDA results\n",
    "* <a href=\"#p4\">Part 4</a>: Select the appropriate number of topics\n"
   ]
  },
  {
   "cell_type": "markdown",
   "metadata": {},
   "source": [
    "# Latent Dirchilet Allocation Models (Learn)\n",
    "<a id=\"#p1\"></a>"
   ]
  },
  {
   "cell_type": "markdown",
   "metadata": {},
   "source": [
    "## Overview\n",
    "LDA is a \"generative probabilistic model\". \n",
    "\n",
    "Let's play with a model available [here](https://lettier.com/projects/lda-topic-modeling/)"
   ]
  },
  {
   "cell_type": "markdown",
   "metadata": {},
   "source": [
    "## Follow Along"
   ]
  },
  {
   "cell_type": "markdown",
   "metadata": {},
   "source": [
    "## Challenge "
   ]
  },
  {
   "cell_type": "markdown",
   "metadata": {},
   "source": [
    "# Estimating LDA Models with Gensim (Learn)\n",
    "<a id=\"#p1\"></a>"
   ]
  },
  {
   "cell_type": "markdown",
   "metadata": {
    "toc-hr-collapsed": true
   },
   "source": [
    "## Overview\n",
    "### A Literary Introduction: *Jane Austen V. Charlotte Bronte*\n",
    "Despite being born nearly forty years apart, modern fans often pit Jane Austen & Charlotte Bronte against one another in a battle for literary  supremacy. The battle centers around the topics of education for women, courting, and marriage. The authors' similar backgrounds naturally draw comparisons, but the modern fascination is probably due to novelty of British women publishing novels during the early 19th century. \n",
    "\n",
    "Can we help close a literary battle for supremacy and simply acknowledge that the authors addressed different topics and deserve to be acknowledged as excellent authors each in their own right?\n",
    "\n",
    "We're going to apply Latent Dirichlet Allocation a machine learning algorithm for topic modeling to each of the author's novels to compare the distribution of topics in their novels."
   ]
  },
  {
   "cell_type": "code",
   "execution_count": 3,
   "metadata": {},
   "outputs": [
    {
     "name": "stderr",
     "output_type": "stream",
     "text": [
      "/home/john/.local/lib/python3.8/site-packages/gensim/corpora/dictionary.py:11: DeprecationWarning: Using or importing the ABCs from 'collections' instead of from 'collections.abc' is deprecated since Python 3.3, and in 3.9 it will stop working\n",
      "  from collections import Mapping, defaultdict\n",
      "/home/john/.local/lib/python3.8/site-packages/scipy/sparse/sparsetools.py:21: DeprecationWarning: `scipy.sparse.sparsetools` is deprecated!\n",
      "scipy.sparse.sparsetools is a private module for scipy.sparse, and should not be used.\n",
      "  _deprecated()\n",
      "/home/john/.local/lib/python3.8/site-packages/gensim/models/doc2vec.py:73: DeprecationWarning: Using or importing the ABCs from 'collections' instead of from 'collections.abc' is deprecated since Python 3.3, and in 3.9 it will stop working\n",
      "  from collections import namedtuple, defaultdict, Iterable\n"
     ]
    }
   ],
   "source": [
    "import numpy as np\n",
    "import gensim\n",
    "import os\n",
    "import re\n",
    "\n",
    "from gensim.utils import simple_preprocess\n",
    "from gensim.parsing.preprocessing import STOPWORDS\n",
    "from gensim import corpora\n",
    "\n",
    "from gensim.models.ldamulticore import LdaMulticore\n",
    "\n",
    "import pandas as pd"
   ]
  },
  {
   "cell_type": "code",
   "execution_count": 4,
   "metadata": {},
   "outputs": [
    {
     "data": {
      "text/plain": [
       "'3.8.1'"
      ]
     },
     "execution_count": 4,
     "metadata": {},
     "output_type": "execute_result"
    }
   ],
   "source": [
    "gensim.__version__"
   ]
  },
  {
   "cell_type": "markdown",
   "metadata": {},
   "source": [
    "### Novel Data\n",
    "I grabbed the novel data pre-split into a bunch of smaller chunks"
   ]
  },
  {
   "cell_type": "code",
   "execution_count": 5,
   "metadata": {},
   "outputs": [],
   "source": [
    "path = './data/austen-brontë-split'"
   ]
  },
  {
   "cell_type": "markdown",
   "metadata": {},
   "source": [
    "### Text Preprocessing\n",
    "**Activity**: update the function `tokenize` with any technique you have learned so far this week. "
   ]
  },
  {
   "cell_type": "code",
   "execution_count": 6,
   "metadata": {},
   "outputs": [],
   "source": [
    "# 1) Plain Python - ''.split command\n",
    "# 2) Spacy - just the lemmas from the document\n",
    "# 3) Gensim - simple_preprocess\n",
    "\n",
    "STOPWORDS = set(STOPWORDS).union(set(['said', 'mr', 'mrs']))\n",
    "\n",
    "def tokenize(text):\n",
    "    return [token for token in simple_preprocess(text) if token not in STOPWORDS]"
   ]
  },
  {
   "cell_type": "code",
   "execution_count": 7,
   "metadata": {},
   "outputs": [],
   "source": [
    "import os\n",
    "\n",
    "def gather_data(path_to_data): \n",
    "    data = []\n",
    "    for f in os.listdir(path):\n",
    "        if os.path.isdir(f) == False:\n",
    "            if f[-3:] == 'txt':\n",
    "                with open(os.path.join(path,f)) as t:\n",
    "                    text = t.read().strip('\\n')\n",
    "                    data.append(tokenize(str(text)))       \n",
    "    return data"
   ]
  },
  {
   "cell_type": "code",
   "execution_count": 8,
   "metadata": {},
   "outputs": [],
   "source": [
    "tokens = gather_data(path)"
   ]
  },
  {
   "cell_type": "code",
   "execution_count": 9,
   "metadata": {},
   "outputs": [
    {
     "data": {
      "text/plain": [
       "['emma',\n",
       " 'jane',\n",
       " 'austen',\n",
       " 'volume',\n",
       " 'chapter',\n",
       " 'emma',\n",
       " 'woodhouse',\n",
       " 'handsome',\n",
       " 'clever',\n",
       " 'rich']"
      ]
     },
     "execution_count": 9,
     "metadata": {},
     "output_type": "execute_result"
    }
   ],
   "source": [
    "tokens[0][0:10]"
   ]
  },
  {
   "cell_type": "code",
   "execution_count": 10,
   "metadata": {},
   "outputs": [
    {
     "data": {
      "text/plain": [
       "'this is a sample string with a  newline character'"
      ]
     },
     "execution_count": 10,
     "metadata": {},
     "output_type": "execute_result"
    }
   ],
   "source": [
    "\"this is a sample string with a \\n newline character\".replace('\\n', '')"
   ]
  },
  {
   "cell_type": "markdown",
   "metadata": {
    "toc-hr-collapsed": true
   },
   "source": [
    "## Follow Along"
   ]
  },
  {
   "cell_type": "code",
   "execution_count": 11,
   "metadata": {},
   "outputs": [],
   "source": [
    "titles = [t[:-4] for t in os.listdir(path) if os.path.isdir(t) == False]"
   ]
  },
  {
   "cell_type": "code",
   "execution_count": 12,
   "metadata": {},
   "outputs": [
    {
     "data": {
      "text/plain": [
       "813"
      ]
     },
     "execution_count": 12,
     "metadata": {},
     "output_type": "execute_result"
    }
   ],
   "source": [
    "len(titles)"
   ]
  },
  {
   "cell_type": "code",
   "execution_count": 13,
   "metadata": {},
   "outputs": [
    {
     "data": {
      "text/plain": [
       "813"
      ]
     },
     "execution_count": 13,
     "metadata": {},
     "output_type": "execute_result"
    }
   ],
   "source": [
    "len(tokens)"
   ]
  },
  {
   "cell_type": "markdown",
   "metadata": {},
   "source": [
    "### Author DataFrame\n"
   ]
  },
  {
   "cell_type": "code",
   "execution_count": 14,
   "metadata": {},
   "outputs": [],
   "source": [
    "df = pd.DataFrame(index=titles, data={'tokens':tokens})"
   ]
  },
  {
   "cell_type": "code",
   "execution_count": 15,
   "metadata": {},
   "outputs": [
    {
     "data": {
      "text/html": [
       "<div>\n",
       "<style scoped>\n",
       "    .dataframe tbody tr th:only-of-type {\n",
       "        vertical-align: middle;\n",
       "    }\n",
       "\n",
       "    .dataframe tbody tr th {\n",
       "        vertical-align: top;\n",
       "    }\n",
       "\n",
       "    .dataframe thead th {\n",
       "        text-align: right;\n",
       "    }\n",
       "</style>\n",
       "<table border=\"1\" class=\"dataframe\">\n",
       "  <thead>\n",
       "    <tr style=\"text-align: right;\">\n",
       "      <th></th>\n",
       "      <th>tokens</th>\n",
       "    </tr>\n",
       "  </thead>\n",
       "  <tbody>\n",
       "    <tr>\n",
       "      <th>Austen_Emma0000</th>\n",
       "      <td>[emma, jane, austen, volume, chapter, emma, wo...</td>\n",
       "    </tr>\n",
       "    <tr>\n",
       "      <th>Austen_Emma0001</th>\n",
       "      <td>[taylor, wish, pity, weston, thought, agree, p...</td>\n",
       "    </tr>\n",
       "    <tr>\n",
       "      <th>Austen_Emma0002</th>\n",
       "      <td>[behaved, charmingly, body, punctual, body, be...</td>\n",
       "    </tr>\n",
       "    <tr>\n",
       "      <th>Austen_Emma0003</th>\n",
       "      <td>[native, highbury, born, respectable, family, ...</td>\n",
       "    </tr>\n",
       "    <tr>\n",
       "      <th>Austen_Emma0004</th>\n",
       "      <td>[mention, handsome, letter, weston, received, ...</td>\n",
       "    </tr>\n",
       "  </tbody>\n",
       "</table>\n",
       "</div>"
      ],
      "text/plain": [
       "                                                            tokens\n",
       "Austen_Emma0000  [emma, jane, austen, volume, chapter, emma, wo...\n",
       "Austen_Emma0001  [taylor, wish, pity, weston, thought, agree, p...\n",
       "Austen_Emma0002  [behaved, charmingly, body, punctual, body, be...\n",
       "Austen_Emma0003  [native, highbury, born, respectable, family, ...\n",
       "Austen_Emma0004  [mention, handsome, letter, weston, received, ..."
      ]
     },
     "execution_count": 15,
     "metadata": {},
     "output_type": "execute_result"
    }
   ],
   "source": [
    "df.head()\n",
    "\n",
    "# There is be 15 different array to explain the 15 different topics"
   ]
  },
  {
   "cell_type": "code",
   "execution_count": 16,
   "metadata": {},
   "outputs": [],
   "source": [
    "df['author'] = df.reset_index()['index'].apply(lambda x: x.split('_')[0]).tolist()\n",
    "df['book'] = df.reset_index()['index'].apply(lambda x: x.split('_')[1][:-4]).tolist()\n",
    "df['section'] = df.reset_index()['index'].apply(lambda x: x[-4:]).tolist()\n",
    "df['section'] = df['section'].astype('int')"
   ]
  },
  {
   "cell_type": "code",
   "execution_count": 17,
   "metadata": {},
   "outputs": [],
   "source": [
    "df['author'] = df['author'].map({'Austen':1, 'CBronte':0})"
   ]
  },
  {
   "cell_type": "code",
   "execution_count": 18,
   "metadata": {},
   "outputs": [
    {
     "data": {
      "text/plain": [
       "0    441\n",
       "1    372\n",
       "Name: author, dtype: int64"
      ]
     },
     "execution_count": 18,
     "metadata": {},
     "output_type": "execute_result"
    }
   ],
   "source": [
    "df.author.value_counts()"
   ]
  },
  {
   "cell_type": "code",
   "execution_count": 19,
   "metadata": {},
   "outputs": [
    {
     "data": {
      "text/html": [
       "<div>\n",
       "<style scoped>\n",
       "    .dataframe tbody tr th:only-of-type {\n",
       "        vertical-align: middle;\n",
       "    }\n",
       "\n",
       "    .dataframe tbody tr th {\n",
       "        vertical-align: top;\n",
       "    }\n",
       "\n",
       "    .dataframe thead th {\n",
       "        text-align: right;\n",
       "    }\n",
       "</style>\n",
       "<table border=\"1\" class=\"dataframe\">\n",
       "  <thead>\n",
       "    <tr style=\"text-align: right;\">\n",
       "      <th></th>\n",
       "      <th>tokens</th>\n",
       "      <th>author</th>\n",
       "      <th>book</th>\n",
       "      <th>section</th>\n",
       "    </tr>\n",
       "  </thead>\n",
       "  <tbody>\n",
       "    <tr>\n",
       "      <th>Austen_Emma0000</th>\n",
       "      <td>[emma, jane, austen, volume, chapter, emma, wo...</td>\n",
       "      <td>1</td>\n",
       "      <td>Emma</td>\n",
       "      <td>0</td>\n",
       "    </tr>\n",
       "    <tr>\n",
       "      <th>Austen_Emma0001</th>\n",
       "      <td>[taylor, wish, pity, weston, thought, agree, p...</td>\n",
       "      <td>1</td>\n",
       "      <td>Emma</td>\n",
       "      <td>1</td>\n",
       "    </tr>\n",
       "    <tr>\n",
       "      <th>Austen_Emma0002</th>\n",
       "      <td>[behaved, charmingly, body, punctual, body, be...</td>\n",
       "      <td>1</td>\n",
       "      <td>Emma</td>\n",
       "      <td>2</td>\n",
       "    </tr>\n",
       "    <tr>\n",
       "      <th>Austen_Emma0003</th>\n",
       "      <td>[native, highbury, born, respectable, family, ...</td>\n",
       "      <td>1</td>\n",
       "      <td>Emma</td>\n",
       "      <td>3</td>\n",
       "    </tr>\n",
       "    <tr>\n",
       "      <th>Austen_Emma0004</th>\n",
       "      <td>[mention, handsome, letter, weston, received, ...</td>\n",
       "      <td>1</td>\n",
       "      <td>Emma</td>\n",
       "      <td>4</td>\n",
       "    </tr>\n",
       "  </tbody>\n",
       "</table>\n",
       "</div>"
      ],
      "text/plain": [
       "                                                            tokens  author  \\\n",
       "Austen_Emma0000  [emma, jane, austen, volume, chapter, emma, wo...       1   \n",
       "Austen_Emma0001  [taylor, wish, pity, weston, thought, agree, p...       1   \n",
       "Austen_Emma0002  [behaved, charmingly, body, punctual, body, be...       1   \n",
       "Austen_Emma0003  [native, highbury, born, respectable, family, ...       1   \n",
       "Austen_Emma0004  [mention, handsome, letter, weston, received, ...       1   \n",
       "\n",
       "                 book  section  \n",
       "Austen_Emma0000  Emma        0  \n",
       "Austen_Emma0001  Emma        1  \n",
       "Austen_Emma0002  Emma        2  \n",
       "Austen_Emma0003  Emma        3  \n",
       "Austen_Emma0004  Emma        4  "
      ]
     },
     "execution_count": 19,
     "metadata": {},
     "output_type": "execute_result"
    }
   ],
   "source": [
    "df.head()"
   ]
  },
  {
   "cell_type": "markdown",
   "metadata": {},
   "source": [
    "### Streaming Documents\n",
    "Here we use a new pythonic thingy: the `yield` statement in our function. This allows us to iterate over a bunch of documents without actually reading them into memory. You can see how we use this function later on. "
   ]
  },
  {
   "cell_type": "code",
   "execution_count": 20,
   "metadata": {},
   "outputs": [],
   "source": [
    "#char_names_list = [] ...long and efficient way, so use spacy named entity recognition\n",
    "\n",
    "# This is for getting tokens\n",
    "\n",
    "def doc_stream(path):\n",
    "    for f in os.listdir(path):\n",
    "        if os.path.isdir(f) == False:\n",
    "            if f[-3:] == 'txt':\n",
    "                with open(os.path.join(path,f)) as t:\n",
    "                    text = t.read().strip('\\n')\n",
    "                    tokens = tokenize(text)\n",
    "                yield tokens"
   ]
  },
  {
   "cell_type": "code",
   "execution_count": 21,
   "metadata": {},
   "outputs": [],
   "source": [
    "streaming_data = doc_stream(path)"
   ]
  },
  {
   "cell_type": "code",
   "execution_count": 22,
   "metadata": {},
   "outputs": [
    {
     "data": {
      "text/plain": [
       "generator"
      ]
     },
     "execution_count": 22,
     "metadata": {},
     "output_type": "execute_result"
    }
   ],
   "source": [
    "# Generators more efficient when can not hold all of the data in RAM\n",
    "\n",
    "# Start here to reset generator\n",
    "\n",
    "type(streaming_data)"
   ]
  },
  {
   "cell_type": "code",
   "execution_count": 23,
   "metadata": {},
   "outputs": [],
   "source": [
    "# gather_data => returns a list\n",
    "# doc_stream => returns a generator"
   ]
  },
  {
   "cell_type": "code",
   "execution_count": 24,
   "metadata": {},
   "outputs": [
    {
     "data": {
      "text/plain": [
       "['emma',\n",
       " 'jane',\n",
       " 'austen',\n",
       " 'volume',\n",
       " 'chapter',\n",
       " 'emma',\n",
       " 'woodhouse',\n",
       " 'handsome',\n",
       " 'clever',\n",
       " 'rich',\n",
       " 'comfortable',\n",
       " 'home',\n",
       " 'happy',\n",
       " 'disposition',\n",
       " 'unite',\n",
       " 'best',\n",
       " 'blessings',\n",
       " 'existence',\n",
       " 'lived',\n",
       " 'nearly',\n",
       " 'years',\n",
       " 'world',\n",
       " 'little',\n",
       " 'distress',\n",
       " 'vex',\n",
       " 'youngest',\n",
       " 'daughters',\n",
       " 'affectionate',\n",
       " 'indulgent',\n",
       " 'father',\n",
       " 'consequence',\n",
       " 'sister',\n",
       " 'marriage',\n",
       " 'mistress',\n",
       " 'house',\n",
       " 'early',\n",
       " 'period',\n",
       " 'mother',\n",
       " 'died',\n",
       " 'long',\n",
       " 'ago',\n",
       " 'indistinct',\n",
       " 'remembrance',\n",
       " 'caresses',\n",
       " 'place',\n",
       " 'supplied',\n",
       " 'excellent',\n",
       " 'woman',\n",
       " 'governess',\n",
       " 'fallen',\n",
       " 'little',\n",
       " 'short',\n",
       " 'mother',\n",
       " 'affection',\n",
       " 'sixteen',\n",
       " 'years',\n",
       " 'miss',\n",
       " 'taylor',\n",
       " 'woodhouse',\n",
       " 'family',\n",
       " 'governess',\n",
       " 'friend',\n",
       " 'fond',\n",
       " 'daughters',\n",
       " 'particularly',\n",
       " 'emma',\n",
       " 'intimacy',\n",
       " 'sisters',\n",
       " 'miss',\n",
       " 'taylor',\n",
       " 'ceased',\n",
       " 'hold',\n",
       " 'nominal',\n",
       " 'office',\n",
       " 'governess',\n",
       " 'mildness',\n",
       " 'temper',\n",
       " 'hardly',\n",
       " 'allowed',\n",
       " 'impose',\n",
       " 'restraint',\n",
       " 'shadow',\n",
       " 'authority',\n",
       " 'long',\n",
       " 'passed',\n",
       " 'away',\n",
       " 'living',\n",
       " 'friend',\n",
       " 'friend',\n",
       " 'mutually',\n",
       " 'attached',\n",
       " 'emma',\n",
       " 'liked',\n",
       " 'highly',\n",
       " 'esteeming',\n",
       " 'miss',\n",
       " 'taylor',\n",
       " 'judgment',\n",
       " 'directed',\n",
       " 'chiefly',\n",
       " 'real',\n",
       " 'evils',\n",
       " 'emma',\n",
       " 'situation',\n",
       " 'power',\n",
       " 'having',\n",
       " 'way',\n",
       " 'disposition',\n",
       " 'think',\n",
       " 'little',\n",
       " 'disadvantages',\n",
       " 'threatened',\n",
       " 'alloy',\n",
       " 'enjoyments',\n",
       " 'danger',\n",
       " 'present',\n",
       " 'unperceived',\n",
       " 'means',\n",
       " 'rank',\n",
       " 'misfortunes',\n",
       " 'sorrow',\n",
       " 'came',\n",
       " 'gentle',\n",
       " 'sorrow',\n",
       " 'shape',\n",
       " 'disagreeable',\n",
       " 'consciousness',\n",
       " 'miss',\n",
       " 'taylor',\n",
       " 'married',\n",
       " 'miss',\n",
       " 'taylor',\n",
       " 'loss',\n",
       " 'brought',\n",
       " 'grief',\n",
       " 'wedding',\n",
       " 'day',\n",
       " 'beloved',\n",
       " 'friend',\n",
       " 'emma',\n",
       " 'sat',\n",
       " 'mournful',\n",
       " 'thought',\n",
       " 'continuance',\n",
       " 'wedding',\n",
       " 'bride',\n",
       " 'people',\n",
       " 'gone',\n",
       " 'father',\n",
       " 'left',\n",
       " 'dine',\n",
       " 'prospect',\n",
       " 'cheer',\n",
       " 'long',\n",
       " 'evening',\n",
       " 'father',\n",
       " 'composed',\n",
       " 'sleep',\n",
       " 'dinner',\n",
       " 'usual',\n",
       " 'sit',\n",
       " 'think',\n",
       " 'lost',\n",
       " 'event',\n",
       " 'promise',\n",
       " 'happiness',\n",
       " 'friend',\n",
       " 'weston',\n",
       " 'man',\n",
       " 'unexceptionable',\n",
       " 'character',\n",
       " 'easy',\n",
       " 'fortune',\n",
       " 'suitable',\n",
       " 'age',\n",
       " 'pleasant',\n",
       " 'manners',\n",
       " 'satisfaction',\n",
       " 'considering',\n",
       " 'self',\n",
       " 'denying',\n",
       " 'generous',\n",
       " 'friendship',\n",
       " 'wished',\n",
       " 'promoted',\n",
       " 'match',\n",
       " 'black',\n",
       " 'morning',\n",
       " 'work',\n",
       " 'want',\n",
       " 'miss',\n",
       " 'taylor',\n",
       " 'felt',\n",
       " 'hour',\n",
       " 'day',\n",
       " 'recalled',\n",
       " 'past',\n",
       " 'kindness',\n",
       " 'kindness',\n",
       " 'affection',\n",
       " 'sixteen',\n",
       " 'years',\n",
       " 'taught',\n",
       " 'played',\n",
       " 'years',\n",
       " 'old',\n",
       " 'devoted',\n",
       " 'powers',\n",
       " 'attach',\n",
       " 'amuse',\n",
       " 'health',\n",
       " 'nursed',\n",
       " 'illnesses',\n",
       " 'childhood',\n",
       " 'large',\n",
       " 'debt',\n",
       " 'gratitude',\n",
       " 'owing',\n",
       " 'intercourse',\n",
       " 'seven',\n",
       " 'years',\n",
       " 'equal',\n",
       " 'footing',\n",
       " 'perfect',\n",
       " 'unreserve',\n",
       " 'soon',\n",
       " 'followed',\n",
       " 'isabella',\n",
       " 'marriage',\n",
       " 'left',\n",
       " 'dearer',\n",
       " 'tenderer',\n",
       " 'recollection',\n",
       " 'friend',\n",
       " 'companion',\n",
       " 'possessed',\n",
       " 'intelligent',\n",
       " 'informed',\n",
       " 'useful',\n",
       " 'gentle',\n",
       " 'knowing',\n",
       " 'ways',\n",
       " 'family',\n",
       " 'interested',\n",
       " 'concerns',\n",
       " 'peculiarly',\n",
       " 'interested',\n",
       " 'pleasure',\n",
       " 'scheme',\n",
       " 'speak',\n",
       " 'thought',\n",
       " 'arose',\n",
       " 'affection',\n",
       " 'fault',\n",
       " 'bear',\n",
       " 'change',\n",
       " 'true',\n",
       " 'friend',\n",
       " 'going',\n",
       " 'half',\n",
       " 'mile',\n",
       " 'emma',\n",
       " 'aware',\n",
       " 'great',\n",
       " 'difference',\n",
       " 'weston',\n",
       " 'half',\n",
       " 'mile',\n",
       " 'miss',\n",
       " 'taylor',\n",
       " 'house',\n",
       " 'advantages',\n",
       " 'natural',\n",
       " 'domestic',\n",
       " 'great',\n",
       " 'danger',\n",
       " 'suffering',\n",
       " 'intellectual',\n",
       " 'solitude',\n",
       " 'dearly',\n",
       " 'loved',\n",
       " 'father',\n",
       " 'companion',\n",
       " 'meet',\n",
       " 'conversation',\n",
       " 'rational',\n",
       " 'playful',\n",
       " 'evil',\n",
       " 'actual',\n",
       " 'disparity',\n",
       " 'ages',\n",
       " 'woodhouse',\n",
       " 'married',\n",
       " 'early',\n",
       " 'increased',\n",
       " 'constitution',\n",
       " 'habits',\n",
       " 'having',\n",
       " 'valetudinarian',\n",
       " 'life',\n",
       " 'activity',\n",
       " 'mind',\n",
       " 'body',\n",
       " 'older',\n",
       " 'man',\n",
       " 'ways',\n",
       " 'years',\n",
       " 'beloved',\n",
       " 'friendliness',\n",
       " 'heart',\n",
       " 'amiable',\n",
       " 'temper',\n",
       " 'talents',\n",
       " 'recommended',\n",
       " 'time',\n",
       " 'sister',\n",
       " 'comparatively',\n",
       " 'little',\n",
       " 'removed',\n",
       " 'matrimony',\n",
       " 'settled',\n",
       " 'london',\n",
       " 'sixteen',\n",
       " 'miles',\n",
       " 'daily',\n",
       " 'reach',\n",
       " 'long',\n",
       " 'october',\n",
       " 'november',\n",
       " 'evening',\n",
       " 'struggled',\n",
       " 'hartfield',\n",
       " 'christmas',\n",
       " 'brought',\n",
       " 'visit',\n",
       " 'isabella',\n",
       " 'husband',\n",
       " 'little',\n",
       " 'children',\n",
       " 'house',\n",
       " 'pleasant',\n",
       " 'society',\n",
       " 'highbury',\n",
       " 'large',\n",
       " 'populous',\n",
       " 'village',\n",
       " 'amounting',\n",
       " 'town',\n",
       " 'hartfield',\n",
       " 'spite',\n",
       " 'separate',\n",
       " 'lawn',\n",
       " 'shrubberies',\n",
       " 'belong',\n",
       " 'afforded',\n",
       " 'equals',\n",
       " 'woodhouses',\n",
       " 'consequence',\n",
       " 'looked',\n",
       " 'acquaintance',\n",
       " 'place',\n",
       " 'father',\n",
       " 'universally',\n",
       " 'civil',\n",
       " 'accepted',\n",
       " 'lieu',\n",
       " 'miss',\n",
       " 'taylor',\n",
       " 'half',\n",
       " 'day',\n",
       " 'melancholy',\n",
       " 'change',\n",
       " 'emma',\n",
       " 'sigh',\n",
       " 'wish',\n",
       " 'impossible',\n",
       " 'things',\n",
       " 'till',\n",
       " 'father',\n",
       " 'awoke',\n",
       " 'necessary',\n",
       " 'cheerful',\n",
       " 'spirits',\n",
       " 'required',\n",
       " 'support',\n",
       " 'nervous',\n",
       " 'man',\n",
       " 'easily',\n",
       " 'depressed',\n",
       " 'fond',\n",
       " 'body',\n",
       " 'hating',\n",
       " 'hating',\n",
       " 'change',\n",
       " 'kind',\n",
       " 'matrimony',\n",
       " 'origin',\n",
       " 'change',\n",
       " 'disagreeable',\n",
       " 'means',\n",
       " 'reconciled',\n",
       " 'daughter',\n",
       " 'marrying',\n",
       " 'speak',\n",
       " 'compassion',\n",
       " 'entirely',\n",
       " 'match',\n",
       " 'affection',\n",
       " 'obliged',\n",
       " 'miss',\n",
       " 'taylor',\n",
       " 'habits',\n",
       " 'gentle',\n",
       " 'selfishness',\n",
       " 'able',\n",
       " 'suppose',\n",
       " 'people',\n",
       " 'feel',\n",
       " 'differently',\n",
       " 'disposed',\n",
       " 'think',\n",
       " 'miss',\n",
       " 'taylor',\n",
       " 'sad',\n",
       " 'thing',\n",
       " 'great',\n",
       " 'deal',\n",
       " 'happier',\n",
       " 'spent',\n",
       " 'rest',\n",
       " 'life',\n",
       " 'hartfield',\n",
       " 'emma',\n",
       " 'smiled',\n",
       " 'chatted',\n",
       " 'cheerfully',\n",
       " 'thoughts',\n",
       " 'tea',\n",
       " 'came',\n",
       " 'impossible',\n",
       " 'exactly',\n",
       " 'dinner',\n",
       " 'poor',\n",
       " 'miss']"
      ]
     },
     "execution_count": 24,
     "metadata": {},
     "output_type": "execute_result"
    }
   ],
   "source": [
    "next(streaming_data) # Returns one document at a time from the generator"
   ]
  },
  {
   "cell_type": "markdown",
   "metadata": {},
   "source": [
    "### Gensim LDA Topic Modeling"
   ]
  },
  {
   "cell_type": "code",
   "execution_count": 25,
   "metadata": {},
   "outputs": [],
   "source": [
    "# A Dictionary Representation of all the words in our corpus\n",
    "id2word = corpora.Dictionary(doc_stream(path))"
   ]
  },
  {
   "cell_type": "code",
   "execution_count": 26,
   "metadata": {},
   "outputs": [
    {
     "data": {
      "text/plain": [
       "3986"
      ]
     },
     "execution_count": 26,
     "metadata": {},
     "output_type": "execute_result"
    }
   ],
   "source": [
    "id2word.token2id['england']"
   ]
  },
  {
   "cell_type": "code",
   "execution_count": 27,
   "metadata": {},
   "outputs": [
    {
     "data": {
      "text/plain": [
       "[(2753, 1), (3986, 3), (6601, 1), (6818, 1)]"
      ]
     },
     "execution_count": 27,
     "metadata": {},
     "output_type": "execute_result"
    }
   ],
   "source": [
    "id2word.doc2bow(tokenize(\"This is a sample message Darcy England England England\"))"
   ]
  },
  {
   "cell_type": "code",
   "execution_count": 28,
   "metadata": {},
   "outputs": [
    {
     "name": "stdout",
     "output_type": "stream",
     "text": [
      "48\n",
      "7048\n"
     ]
    }
   ],
   "source": [
    "import sys\n",
    "print(sys.getsizeof(id2word))\n",
    "print(sys.getsizeof(tokens))"
   ]
  },
  {
   "cell_type": "code",
   "execution_count": 29,
   "metadata": {},
   "outputs": [
    {
     "data": {
      "text/plain": [
       "22095"
      ]
     },
     "execution_count": 29,
     "metadata": {},
     "output_type": "execute_result"
    }
   ],
   "source": [
    "len(id2word.keys())"
   ]
  },
  {
   "cell_type": "code",
   "execution_count": 30,
   "metadata": {},
   "outputs": [],
   "source": [
    "# Let's remove extreme values from the dataset\n",
    "id2word.filter_extremes(no_below=5, no_above=0.95)"
   ]
  },
  {
   "cell_type": "code",
   "execution_count": 31,
   "metadata": {},
   "outputs": [
    {
     "data": {
      "text/plain": [
       "8102"
      ]
     },
     "execution_count": 31,
     "metadata": {},
     "output_type": "execute_result"
    }
   ],
   "source": [
    "len(id2word.keys())"
   ]
  },
  {
   "cell_type": "code",
   "execution_count": 32,
   "metadata": {},
   "outputs": [],
   "source": [
    "# a bag of words(bow) representation of our corpus\n",
    "# Note: we haven't actually read any text into memory here\n",
    "# Although abstracted away - tokenization IS happening in the doc_stream f(x)\n",
    "corpus = [id2word.doc2bow(text) for text in doc_stream(path)]"
   ]
  },
  {
   "cell_type": "code",
   "execution_count": 33,
   "metadata": {},
   "outputs": [
    {
     "data": {
      "text/plain": [
       "[(0, 1),\n",
       " (2, 1),\n",
       " (11, 1),\n",
       " (21, 2),\n",
       " (32, 1),\n",
       " (34, 1),\n",
       " (35, 1),\n",
       " (37, 1),\n",
       " (53, 1),\n",
       " (54, 1)]"
      ]
     },
     "execution_count": 33,
     "metadata": {},
     "output_type": "execute_result"
    }
   ],
   "source": [
    "corpus[345][:10]"
   ]
  },
  {
   "cell_type": "code",
   "execution_count": 34,
   "metadata": {},
   "outputs": [
    {
     "data": {
      "text/plain": [
       "'away'"
      ]
     },
     "execution_count": 34,
     "metadata": {},
     "output_type": "execute_result"
    }
   ],
   "source": [
    "id2word[21]"
   ]
  },
  {
   "cell_type": "code",
   "execution_count": 35,
   "metadata": {},
   "outputs": [],
   "source": [
    "lda = LdaMulticore(corpus=corpus,\n",
    "                   id2word=id2word,\n",
    "                   random_state=723812,\n",
    "                   num_topics = 15, # depends on the corpus\n",
    "                   passes=10,\n",
    "                   workers=12\n",
    "                  )\n",
    "\n",
    "# sklearn does all the computations right away, but gensim does not do this, it uses the print_topics() method"
   ]
  },
  {
   "cell_type": "code",
   "execution_count": 36,
   "metadata": {},
   "outputs": [
    {
     "data": {
      "text/plain": [
       "[(0,\n",
       "  '0.016*\"harriet\" + 0.015*\"emma\" + 0.009*\"weston\" + 0.008*\"elton\" + 0.008*\"good\" + 0.008*\"think\" + 0.008*\"man\" + 0.007*\"miss\" + 0.007*\"knightley\" + 0.006*\"know\"'),\n",
       " (1,\n",
       "  '0.006*\"like\" + 0.006*\"sir\" + 0.006*\"jane\" + 0.006*\"thought\" + 0.005*\"little\" + 0.005*\"good\" + 0.005*\"love\" + 0.004*\"old\" + 0.004*\"poor\" + 0.004*\"man\"'),\n",
       " (2,\n",
       "  '0.011*\"elinor\" + 0.009*\"marianne\" + 0.008*\"elizabeth\" + 0.007*\"sister\" + 0.007*\"miss\" + 0.005*\"time\" + 0.005*\"darcy\" + 0.005*\"mother\" + 0.005*\"soon\" + 0.005*\"lady\"'),\n",
       " (3,\n",
       "  '0.005*\"hand\" + 0.005*\"eyes\" + 0.005*\"john\" + 0.004*\"like\" + 0.004*\"saw\" + 0.004*\"asked\" + 0.004*\"little\" + 0.003*\"time\" + 0.003*\"know\" + 0.003*\"sir\"'),\n",
       " (4,\n",
       "  '0.014*\"miss\" + 0.011*\"jane\" + 0.008*\"emma\" + 0.008*\"know\" + 0.007*\"thing\" + 0.007*\"think\" + 0.006*\"good\" + 0.006*\"little\" + 0.006*\"shall\" + 0.006*\"dear\"'),\n",
       " (5,\n",
       "  '0.007*\"jane\" + 0.006*\"elizabeth\" + 0.006*\"darcy\" + 0.006*\"know\" + 0.005*\"wickham\" + 0.005*\"think\" + 0.004*\"miss\" + 0.004*\"good\" + 0.004*\"love\" + 0.004*\"letter\"'),\n",
       " (6,\n",
       "  '0.007*\"hunsden\" + 0.005*\"miss\" + 0.005*\"helen\" + 0.005*\"temple\" + 0.004*\"bread\" + 0.004*\"tea\" + 0.004*\"come\" + 0.004*\"tyrant\" + 0.004*\"having\" + 0.004*\"little\"'),\n",
       " (7,\n",
       "  '0.010*\"little\" + 0.005*\"madame\" + 0.005*\"like\" + 0.005*\"monsieur\" + 0.004*\"vous\" + 0.004*\"paul\" + 0.004*\"est\" + 0.004*\"bessie\" + 0.003*\"room\" + 0.003*\"think\"'),\n",
       " (8,\n",
       "  '0.005*\"burns\" + 0.005*\"thought\" + 0.005*\"like\" + 0.005*\"scatcherd\" + 0.004*\"miss\" + 0.004*\"day\" + 0.004*\"face\" + 0.004*\"girl\" + 0.003*\"little\" + 0.003*\"dr\"'),\n",
       " (9,\n",
       "  '0.009*\"man\" + 0.007*\"bennet\" + 0.007*\"young\" + 0.007*\"elizabeth\" + 0.006*\"collins\" + 0.006*\"time\" + 0.006*\"father\" + 0.005*\"darcy\" + 0.004*\"thought\" + 0.004*\"longbourn\"'),\n",
       " (10,\n",
       "  '0.006*\"like\" + 0.005*\"little\" + 0.004*\"thought\" + 0.004*\"long\" + 0.004*\"good\" + 0.004*\"know\" + 0.004*\"time\" + 0.004*\"day\" + 0.003*\"night\" + 0.003*\"hand\"'),\n",
       " (11,\n",
       "  '0.021*\"emma\" + 0.010*\"miss\" + 0.009*\"knightley\" + 0.009*\"harriet\" + 0.007*\"thing\" + 0.007*\"little\" + 0.007*\"fairfax\" + 0.006*\"woodhouse\" + 0.006*\"think\" + 0.006*\"elton\"'),\n",
       " (12,\n",
       "  '0.008*\"bretton\" + 0.007*\"know\" + 0.007*\"dr\" + 0.006*\"little\" + 0.005*\"lucy\" + 0.005*\"thought\" + 0.005*\"miss\" + 0.005*\"ginevra\" + 0.005*\"good\" + 0.005*\"graham\"'),\n",
       " (13,\n",
       "  '0.007*\"thousand\" + 0.006*\"mason\" + 0.005*\"like\" + 0.005*\"know\" + 0.004*\"sisters\" + 0.004*\"diana\" + 0.004*\"justice\" + 0.004*\"shall\" + 0.004*\"thought\" + 0.004*\"pounds\"'),\n",
       " (14,\n",
       "  '0.016*\"lydia\" + 0.010*\"mother\" + 0.010*\"wickham\" + 0.010*\"father\" + 0.007*\"uncle\" + 0.007*\"pounds\" + 0.006*\"dashwood\" + 0.006*\"thousand\" + 0.005*\"sure\" + 0.005*\"elizabeth\"')]"
      ]
     },
     "execution_count": 36,
     "metadata": {},
     "output_type": "execute_result"
    }
   ],
   "source": [
    "lda.print_topics()"
   ]
  },
  {
   "cell_type": "code",
   "execution_count": null,
   "metadata": {},
   "outputs": [],
   "source": []
  },
  {
   "cell_type": "code",
   "execution_count": 37,
   "metadata": {},
   "outputs": [],
   "source": [
    "words = [re.findall(r'\"([^\"]*)\"',t[1]) for t in lda.print_topics()]"
   ]
  },
  {
   "cell_type": "code",
   "execution_count": 38,
   "metadata": {},
   "outputs": [],
   "source": [
    "topics = [' '.join(t[0:5]) for t in words]"
   ]
  },
  {
   "cell_type": "code",
   "execution_count": 39,
   "metadata": {},
   "outputs": [
    {
     "name": "stdout",
     "output_type": "stream",
     "text": [
      "------ Topic 0 ------\n",
      "harriet emma weston elton good\n",
      "\n",
      "------ Topic 1 ------\n",
      "like sir jane thought little\n",
      "\n",
      "------ Topic 2 ------\n",
      "elinor marianne elizabeth sister miss\n",
      "\n",
      "------ Topic 3 ------\n",
      "hand eyes john like saw\n",
      "\n",
      "------ Topic 4 ------\n",
      "miss jane emma know thing\n",
      "\n",
      "------ Topic 5 ------\n",
      "jane elizabeth darcy know wickham\n",
      "\n",
      "------ Topic 6 ------\n",
      "hunsden miss helen temple bread\n",
      "\n",
      "------ Topic 7 ------\n",
      "little madame like monsieur vous\n",
      "\n",
      "------ Topic 8 ------\n",
      "burns thought like scatcherd miss\n",
      "\n",
      "------ Topic 9 ------\n",
      "man bennet young elizabeth collins\n",
      "\n",
      "------ Topic 10 ------\n",
      "like little thought long good\n",
      "\n",
      "------ Topic 11 ------\n",
      "emma miss knightley harriet thing\n",
      "\n",
      "------ Topic 12 ------\n",
      "bretton know dr little lucy\n",
      "\n",
      "------ Topic 13 ------\n",
      "thousand mason like know sisters\n",
      "\n",
      "------ Topic 14 ------\n",
      "lydia mother wickham father uncle\n",
      "\n"
     ]
    }
   ],
   "source": [
    "for id, t in enumerate(topics): \n",
    "    print(f\"------ Topic {id} ------\")\n",
    "    print(t, end=\"\\n\\n\")\n",
    "    \n",
    "# difficult with similar topics"
   ]
  },
  {
   "cell_type": "markdown",
   "metadata": {},
   "source": [
    "## Challenge \n",
    "\n",
    "You will apply an LDA model to a customer review dataset to practice the fitting and estimation of LDA. "
   ]
  },
  {
   "cell_type": "markdown",
   "metadata": {},
   "source": [
    "# Interpret LDA Results (Learn)\n",
    "<a id=\"#p3\"></a>"
   ]
  },
  {
   "cell_type": "markdown",
   "metadata": {},
   "source": [
    "## Overview"
   ]
  },
  {
   "cell_type": "markdown",
   "metadata": {
    "toc-hr-collapsed": true
   },
   "source": [
    "## Follow Along"
   ]
  },
  {
   "cell_type": "markdown",
   "metadata": {},
   "source": [
    "### Topic Distance Visualization"
   ]
  },
  {
   "cell_type": "code",
   "execution_count": 40,
   "metadata": {},
   "outputs": [],
   "source": [
    "import pyLDAvis.gensim\n",
    "\n",
    "pyLDAvis.enable_notebook()"
   ]
  },
  {
   "cell_type": "code",
   "execution_count": 41,
   "metadata": {},
   "outputs": [],
   "source": [
    "#pyLDAvis.gensim.prepare(lda, corpus, id2word) # This will break Jupyer Lab buttons\n",
    "\n",
    "vis = pyLDAvis.gensim.prepare(lda, corpus, id2word)\n",
    "\n",
    "pyLDAvis.save_html(vis, \"../module4-topic-modeling/pyLDAvisLecture.html\")\n",
    "\n",
    "# Put slider close to 0, hover over a topic, and it will show terms that are more unique to that topic"
   ]
  },
  {
   "cell_type": "markdown",
   "metadata": {},
   "source": [
    "### Overall Model / Documents"
   ]
  },
  {
   "cell_type": "code",
   "execution_count": 42,
   "metadata": {},
   "outputs": [
    {
     "data": {
      "text/plain": [
       "[(2, 0.23459537), (11, 0.76339704)]"
      ]
     },
     "execution_count": 42,
     "metadata": {},
     "output_type": "execute_result"
    }
   ],
   "source": [
    "lda[corpus[0]]"
   ]
  },
  {
   "cell_type": "code",
   "execution_count": 43,
   "metadata": {},
   "outputs": [],
   "source": [
    "distro = [lda[d] for d in corpus]"
   ]
  },
  {
   "cell_type": "code",
   "execution_count": 44,
   "metadata": {},
   "outputs": [
    {
     "data": {
      "text/plain": [
       "[(2, 0.23459746), (11, 0.76339495)]"
      ]
     },
     "execution_count": 44,
     "metadata": {},
     "output_type": "execute_result"
    }
   ],
   "source": [
    "distro[0]"
   ]
  },
  {
   "cell_type": "code",
   "execution_count": 45,
   "metadata": {},
   "outputs": [],
   "source": [
    "distro = [lda[d] for d in corpus]\n",
    "\n",
    "def update(doc):\n",
    "        d_dist = {k:0 for k in range(0,15)}\n",
    "        for t in doc:\n",
    "            d_dist[t[0]] = t[1]\n",
    "        return d_dist\n",
    "    \n",
    "new_distro = [update(d) for d in distro]"
   ]
  },
  {
   "cell_type": "code",
   "execution_count": 46,
   "metadata": {},
   "outputs": [
    {
     "data": {
      "text/plain": [
       "813"
      ]
     },
     "execution_count": 46,
     "metadata": {},
     "output_type": "execute_result"
    }
   ],
   "source": [
    "len(new_distro)"
   ]
  },
  {
   "cell_type": "code",
   "execution_count": 47,
   "metadata": {},
   "outputs": [
    {
     "data": {
      "text/html": [
       "<div>\n",
       "<style scoped>\n",
       "    .dataframe tbody tr th:only-of-type {\n",
       "        vertical-align: middle;\n",
       "    }\n",
       "\n",
       "    .dataframe tbody tr th {\n",
       "        vertical-align: top;\n",
       "    }\n",
       "\n",
       "    .dataframe thead th {\n",
       "        text-align: right;\n",
       "    }\n",
       "</style>\n",
       "<table border=\"1\" class=\"dataframe\">\n",
       "  <thead>\n",
       "    <tr style=\"text-align: right;\">\n",
       "      <th></th>\n",
       "      <th>tokens</th>\n",
       "      <th>author</th>\n",
       "      <th>book</th>\n",
       "      <th>section</th>\n",
       "    </tr>\n",
       "  </thead>\n",
       "  <tbody>\n",
       "    <tr>\n",
       "      <th>Austen_Emma0000</th>\n",
       "      <td>[emma, jane, austen, volume, chapter, emma, wo...</td>\n",
       "      <td>1</td>\n",
       "      <td>Emma</td>\n",
       "      <td>0</td>\n",
       "    </tr>\n",
       "    <tr>\n",
       "      <th>Austen_Emma0001</th>\n",
       "      <td>[taylor, wish, pity, weston, thought, agree, p...</td>\n",
       "      <td>1</td>\n",
       "      <td>Emma</td>\n",
       "      <td>1</td>\n",
       "    </tr>\n",
       "    <tr>\n",
       "      <th>Austen_Emma0002</th>\n",
       "      <td>[behaved, charmingly, body, punctual, body, be...</td>\n",
       "      <td>1</td>\n",
       "      <td>Emma</td>\n",
       "      <td>2</td>\n",
       "    </tr>\n",
       "    <tr>\n",
       "      <th>Austen_Emma0003</th>\n",
       "      <td>[native, highbury, born, respectable, family, ...</td>\n",
       "      <td>1</td>\n",
       "      <td>Emma</td>\n",
       "      <td>3</td>\n",
       "    </tr>\n",
       "    <tr>\n",
       "      <th>Austen_Emma0004</th>\n",
       "      <td>[mention, handsome, letter, weston, received, ...</td>\n",
       "      <td>1</td>\n",
       "      <td>Emma</td>\n",
       "      <td>4</td>\n",
       "    </tr>\n",
       "  </tbody>\n",
       "</table>\n",
       "</div>"
      ],
      "text/plain": [
       "                                                            tokens  author  \\\n",
       "Austen_Emma0000  [emma, jane, austen, volume, chapter, emma, wo...       1   \n",
       "Austen_Emma0001  [taylor, wish, pity, weston, thought, agree, p...       1   \n",
       "Austen_Emma0002  [behaved, charmingly, body, punctual, body, be...       1   \n",
       "Austen_Emma0003  [native, highbury, born, respectable, family, ...       1   \n",
       "Austen_Emma0004  [mention, handsome, letter, weston, received, ...       1   \n",
       "\n",
       "                 book  section  \n",
       "Austen_Emma0000  Emma        0  \n",
       "Austen_Emma0001  Emma        1  \n",
       "Austen_Emma0002  Emma        2  \n",
       "Austen_Emma0003  Emma        3  \n",
       "Austen_Emma0004  Emma        4  "
      ]
     },
     "execution_count": 47,
     "metadata": {},
     "output_type": "execute_result"
    }
   ],
   "source": [
    "df.head()"
   ]
  },
  {
   "cell_type": "code",
   "execution_count": 48,
   "metadata": {},
   "outputs": [],
   "source": [
    "df = pd.DataFrame.from_records(new_distro, index=titles)\n",
    "df.columns = topics\n",
    "df['author'] = df.reset_index()['index'].apply(lambda x: x.split('_')[0]).tolist()"
   ]
  },
  {
   "cell_type": "code",
   "execution_count": 49,
   "metadata": {},
   "outputs": [
    {
     "data": {
      "text/html": [
       "<div>\n",
       "<style scoped>\n",
       "    .dataframe tbody tr th:only-of-type {\n",
       "        vertical-align: middle;\n",
       "    }\n",
       "\n",
       "    .dataframe tbody tr th {\n",
       "        vertical-align: top;\n",
       "    }\n",
       "\n",
       "    .dataframe thead th {\n",
       "        text-align: right;\n",
       "    }\n",
       "</style>\n",
       "<table border=\"1\" class=\"dataframe\">\n",
       "  <thead>\n",
       "    <tr style=\"text-align: right;\">\n",
       "      <th></th>\n",
       "      <th>harriet emma weston elton good</th>\n",
       "      <th>like sir jane thought little</th>\n",
       "      <th>elinor marianne elizabeth sister miss</th>\n",
       "      <th>hand eyes john like saw</th>\n",
       "      <th>miss jane emma know thing</th>\n",
       "      <th>jane elizabeth darcy know wickham</th>\n",
       "      <th>hunsden miss helen temple bread</th>\n",
       "      <th>little madame like monsieur vous</th>\n",
       "      <th>burns thought like scatcherd miss</th>\n",
       "      <th>man bennet young elizabeth collins</th>\n",
       "      <th>like little thought long good</th>\n",
       "      <th>emma miss knightley harriet thing</th>\n",
       "      <th>bretton know dr little lucy</th>\n",
       "      <th>thousand mason like know sisters</th>\n",
       "      <th>lydia mother wickham father uncle</th>\n",
       "      <th>author</th>\n",
       "    </tr>\n",
       "  </thead>\n",
       "  <tbody>\n",
       "    <tr>\n",
       "      <th>Austen_Emma0000</th>\n",
       "      <td>0.000000</td>\n",
       "      <td>0.0</td>\n",
       "      <td>0.2346</td>\n",
       "      <td>0.0</td>\n",
       "      <td>0.000000</td>\n",
       "      <td>0.000000</td>\n",
       "      <td>0.0</td>\n",
       "      <td>0.0</td>\n",
       "      <td>0.0</td>\n",
       "      <td>0.0</td>\n",
       "      <td>0.0</td>\n",
       "      <td>0.763393</td>\n",
       "      <td>0.000000</td>\n",
       "      <td>0.0</td>\n",
       "      <td>0.0</td>\n",
       "      <td>Austen</td>\n",
       "    </tr>\n",
       "    <tr>\n",
       "      <th>Austen_Emma0001</th>\n",
       "      <td>0.339857</td>\n",
       "      <td>0.0</td>\n",
       "      <td>0.0000</td>\n",
       "      <td>0.0</td>\n",
       "      <td>0.427919</td>\n",
       "      <td>0.000000</td>\n",
       "      <td>0.0</td>\n",
       "      <td>0.0</td>\n",
       "      <td>0.0</td>\n",
       "      <td>0.0</td>\n",
       "      <td>0.0</td>\n",
       "      <td>0.229969</td>\n",
       "      <td>0.000000</td>\n",
       "      <td>0.0</td>\n",
       "      <td>0.0</td>\n",
       "      <td>Austen</td>\n",
       "    </tr>\n",
       "    <tr>\n",
       "      <th>Austen_Emma0002</th>\n",
       "      <td>0.669740</td>\n",
       "      <td>0.0</td>\n",
       "      <td>0.0000</td>\n",
       "      <td>0.0</td>\n",
       "      <td>0.000000</td>\n",
       "      <td>0.000000</td>\n",
       "      <td>0.0</td>\n",
       "      <td>0.0</td>\n",
       "      <td>0.0</td>\n",
       "      <td>0.0</td>\n",
       "      <td>0.0</td>\n",
       "      <td>0.327996</td>\n",
       "      <td>0.000000</td>\n",
       "      <td>0.0</td>\n",
       "      <td>0.0</td>\n",
       "      <td>Austen</td>\n",
       "    </tr>\n",
       "    <tr>\n",
       "      <th>Austen_Emma0003</th>\n",
       "      <td>0.191080</td>\n",
       "      <td>0.0</td>\n",
       "      <td>0.0000</td>\n",
       "      <td>0.0</td>\n",
       "      <td>0.000000</td>\n",
       "      <td>0.806789</td>\n",
       "      <td>0.0</td>\n",
       "      <td>0.0</td>\n",
       "      <td>0.0</td>\n",
       "      <td>0.0</td>\n",
       "      <td>0.0</td>\n",
       "      <td>0.000000</td>\n",
       "      <td>0.000000</td>\n",
       "      <td>0.0</td>\n",
       "      <td>0.0</td>\n",
       "      <td>Austen</td>\n",
       "    </tr>\n",
       "    <tr>\n",
       "      <th>Austen_Emma0004</th>\n",
       "      <td>0.485063</td>\n",
       "      <td>0.0</td>\n",
       "      <td>0.0000</td>\n",
       "      <td>0.0</td>\n",
       "      <td>0.000000</td>\n",
       "      <td>0.000000</td>\n",
       "      <td>0.0</td>\n",
       "      <td>0.0</td>\n",
       "      <td>0.0</td>\n",
       "      <td>0.0</td>\n",
       "      <td>0.0</td>\n",
       "      <td>0.106290</td>\n",
       "      <td>0.406799</td>\n",
       "      <td>0.0</td>\n",
       "      <td>0.0</td>\n",
       "      <td>Austen</td>\n",
       "    </tr>\n",
       "  </tbody>\n",
       "</table>\n",
       "</div>"
      ],
      "text/plain": [
       "                 harriet emma weston elton good  like sir jane thought little  \\\n",
       "Austen_Emma0000                        0.000000                           0.0   \n",
       "Austen_Emma0001                        0.339857                           0.0   \n",
       "Austen_Emma0002                        0.669740                           0.0   \n",
       "Austen_Emma0003                        0.191080                           0.0   \n",
       "Austen_Emma0004                        0.485063                           0.0   \n",
       "\n",
       "                 elinor marianne elizabeth sister miss  \\\n",
       "Austen_Emma0000                                 0.2346   \n",
       "Austen_Emma0001                                 0.0000   \n",
       "Austen_Emma0002                                 0.0000   \n",
       "Austen_Emma0003                                 0.0000   \n",
       "Austen_Emma0004                                 0.0000   \n",
       "\n",
       "                 hand eyes john like saw  miss jane emma know thing  \\\n",
       "Austen_Emma0000                      0.0                   0.000000   \n",
       "Austen_Emma0001                      0.0                   0.427919   \n",
       "Austen_Emma0002                      0.0                   0.000000   \n",
       "Austen_Emma0003                      0.0                   0.000000   \n",
       "Austen_Emma0004                      0.0                   0.000000   \n",
       "\n",
       "                 jane elizabeth darcy know wickham  \\\n",
       "Austen_Emma0000                           0.000000   \n",
       "Austen_Emma0001                           0.000000   \n",
       "Austen_Emma0002                           0.000000   \n",
       "Austen_Emma0003                           0.806789   \n",
       "Austen_Emma0004                           0.000000   \n",
       "\n",
       "                 hunsden miss helen temple bread  \\\n",
       "Austen_Emma0000                              0.0   \n",
       "Austen_Emma0001                              0.0   \n",
       "Austen_Emma0002                              0.0   \n",
       "Austen_Emma0003                              0.0   \n",
       "Austen_Emma0004                              0.0   \n",
       "\n",
       "                 little madame like monsieur vous  \\\n",
       "Austen_Emma0000                               0.0   \n",
       "Austen_Emma0001                               0.0   \n",
       "Austen_Emma0002                               0.0   \n",
       "Austen_Emma0003                               0.0   \n",
       "Austen_Emma0004                               0.0   \n",
       "\n",
       "                 burns thought like scatcherd miss  \\\n",
       "Austen_Emma0000                                0.0   \n",
       "Austen_Emma0001                                0.0   \n",
       "Austen_Emma0002                                0.0   \n",
       "Austen_Emma0003                                0.0   \n",
       "Austen_Emma0004                                0.0   \n",
       "\n",
       "                 man bennet young elizabeth collins  \\\n",
       "Austen_Emma0000                                 0.0   \n",
       "Austen_Emma0001                                 0.0   \n",
       "Austen_Emma0002                                 0.0   \n",
       "Austen_Emma0003                                 0.0   \n",
       "Austen_Emma0004                                 0.0   \n",
       "\n",
       "                 like little thought long good  \\\n",
       "Austen_Emma0000                            0.0   \n",
       "Austen_Emma0001                            0.0   \n",
       "Austen_Emma0002                            0.0   \n",
       "Austen_Emma0003                            0.0   \n",
       "Austen_Emma0004                            0.0   \n",
       "\n",
       "                 emma miss knightley harriet thing  \\\n",
       "Austen_Emma0000                           0.763393   \n",
       "Austen_Emma0001                           0.229969   \n",
       "Austen_Emma0002                           0.327996   \n",
       "Austen_Emma0003                           0.000000   \n",
       "Austen_Emma0004                           0.106290   \n",
       "\n",
       "                 bretton know dr little lucy  \\\n",
       "Austen_Emma0000                     0.000000   \n",
       "Austen_Emma0001                     0.000000   \n",
       "Austen_Emma0002                     0.000000   \n",
       "Austen_Emma0003                     0.000000   \n",
       "Austen_Emma0004                     0.406799   \n",
       "\n",
       "                 thousand mason like know sisters  \\\n",
       "Austen_Emma0000                               0.0   \n",
       "Austen_Emma0001                               0.0   \n",
       "Austen_Emma0002                               0.0   \n",
       "Austen_Emma0003                               0.0   \n",
       "Austen_Emma0004                               0.0   \n",
       "\n",
       "                 lydia mother wickham father uncle  author  \n",
       "Austen_Emma0000                                0.0  Austen  \n",
       "Austen_Emma0001                                0.0  Austen  \n",
       "Austen_Emma0002                                0.0  Austen  \n",
       "Austen_Emma0003                                0.0  Austen  \n",
       "Austen_Emma0004                                0.0  Austen  "
      ]
     },
     "execution_count": 49,
     "metadata": {},
     "output_type": "execute_result"
    }
   ],
   "source": [
    "df.head()"
   ]
  },
  {
   "cell_type": "code",
   "execution_count": 50,
   "metadata": {},
   "outputs": [
    {
     "data": {
      "text/html": [
       "<div>\n",
       "<style scoped>\n",
       "    .dataframe tbody tr th:only-of-type {\n",
       "        vertical-align: middle;\n",
       "    }\n",
       "\n",
       "    .dataframe tbody tr th {\n",
       "        vertical-align: top;\n",
       "    }\n",
       "\n",
       "    .dataframe thead th {\n",
       "        text-align: right;\n",
       "    }\n",
       "</style>\n",
       "<table border=\"1\" class=\"dataframe\">\n",
       "  <thead>\n",
       "    <tr style=\"text-align: right;\">\n",
       "      <th></th>\n",
       "      <th>harriet emma weston elton good</th>\n",
       "      <th>like sir jane thought little</th>\n",
       "      <th>elinor marianne elizabeth sister miss</th>\n",
       "      <th>hand eyes john like saw</th>\n",
       "      <th>miss jane emma know thing</th>\n",
       "      <th>jane elizabeth darcy know wickham</th>\n",
       "      <th>hunsden miss helen temple bread</th>\n",
       "      <th>little madame like monsieur vous</th>\n",
       "      <th>burns thought like scatcherd miss</th>\n",
       "      <th>man bennet young elizabeth collins</th>\n",
       "      <th>like little thought long good</th>\n",
       "      <th>emma miss knightley harriet thing</th>\n",
       "      <th>bretton know dr little lucy</th>\n",
       "      <th>thousand mason like know sisters</th>\n",
       "      <th>lydia mother wickham father uncle</th>\n",
       "    </tr>\n",
       "    <tr>\n",
       "      <th>author</th>\n",
       "      <th></th>\n",
       "      <th></th>\n",
       "      <th></th>\n",
       "      <th></th>\n",
       "      <th></th>\n",
       "      <th></th>\n",
       "      <th></th>\n",
       "      <th></th>\n",
       "      <th></th>\n",
       "      <th></th>\n",
       "      <th></th>\n",
       "      <th></th>\n",
       "      <th></th>\n",
       "      <th></th>\n",
       "      <th></th>\n",
       "    </tr>\n",
       "  </thead>\n",
       "  <tbody>\n",
       "    <tr>\n",
       "      <th>Austen</th>\n",
       "      <td>0.103918</td>\n",
       "      <td>0.006973</td>\n",
       "      <td>0.428129</td>\n",
       "      <td>0.000000</td>\n",
       "      <td>0.211959</td>\n",
       "      <td>0.088507</td>\n",
       "      <td>0.000000</td>\n",
       "      <td>0.000291</td>\n",
       "      <td>0.001807</td>\n",
       "      <td>0.017822</td>\n",
       "      <td>0.013380</td>\n",
       "      <td>0.086611</td>\n",
       "      <td>0.004561</td>\n",
       "      <td>0.000028</td>\n",
       "      <td>0.03330</td>\n",
       "    </tr>\n",
       "    <tr>\n",
       "      <th>CBronte</th>\n",
       "      <td>0.003945</td>\n",
       "      <td>0.012633</td>\n",
       "      <td>0.008016</td>\n",
       "      <td>0.013694</td>\n",
       "      <td>0.036295</td>\n",
       "      <td>0.003886</td>\n",
       "      <td>0.005369</td>\n",
       "      <td>0.137135</td>\n",
       "      <td>0.015776</td>\n",
       "      <td>0.000056</td>\n",
       "      <td>0.746323</td>\n",
       "      <td>0.001341</td>\n",
       "      <td>0.007101</td>\n",
       "      <td>0.004740</td>\n",
       "      <td>0.00102</td>\n",
       "    </tr>\n",
       "  </tbody>\n",
       "</table>\n",
       "</div>"
      ],
      "text/plain": [
       "         harriet emma weston elton good  like sir jane thought little  \\\n",
       "author                                                                  \n",
       "Austen                         0.103918                      0.006973   \n",
       "CBronte                        0.003945                      0.012633   \n",
       "\n",
       "         elinor marianne elizabeth sister miss  hand eyes john like saw  \\\n",
       "author                                                                    \n",
       "Austen                                0.428129                 0.000000   \n",
       "CBronte                               0.008016                 0.013694   \n",
       "\n",
       "         miss jane emma know thing  jane elizabeth darcy know wickham  \\\n",
       "author                                                                  \n",
       "Austen                    0.211959                           0.088507   \n",
       "CBronte                   0.036295                           0.003886   \n",
       "\n",
       "         hunsden miss helen temple bread  little madame like monsieur vous  \\\n",
       "author                                                                       \n",
       "Austen                          0.000000                          0.000291   \n",
       "CBronte                         0.005369                          0.137135   \n",
       "\n",
       "         burns thought like scatcherd miss  \\\n",
       "author                                       \n",
       "Austen                            0.001807   \n",
       "CBronte                           0.015776   \n",
       "\n",
       "         man bennet young elizabeth collins  like little thought long good  \\\n",
       "author                                                                       \n",
       "Austen                             0.017822                       0.013380   \n",
       "CBronte                            0.000056                       0.746323   \n",
       "\n",
       "         emma miss knightley harriet thing  bretton know dr little lucy  \\\n",
       "author                                                                    \n",
       "Austen                            0.086611                     0.004561   \n",
       "CBronte                           0.001341                     0.007101   \n",
       "\n",
       "         thousand mason like know sisters  lydia mother wickham father uncle  \n",
       "author                                                                        \n",
       "Austen                           0.000028                            0.03330  \n",
       "CBronte                          0.004740                            0.00102  "
      ]
     },
     "execution_count": 50,
     "metadata": {},
     "output_type": "execute_result"
    }
   ],
   "source": [
    "df.groupby('author').mean()"
   ]
  },
  {
   "cell_type": "markdown",
   "metadata": {},
   "source": [
    "## Challenge\n",
    "### *Can we see if one of the authors focus more on men than women?*\n",
    "\n",
    "*  Use Spacy for text preprocessing\n",
    "*  Extract the Named Entities from the documents using Spacy (command is fairly straight forward)\n",
    "*  Create unique list of names from the authors (you'll find that there are different types of named entities not all people)\n",
    "*  Label the names with genders (can you this by hand or you use the US census name lists)\n",
    "*  Customize your processing to replace the proper name with your gender from the previous step's lookup table\n",
    "*  Then follow the rest of the LDA flow\n"
   ]
  },
  {
   "cell_type": "markdown",
   "metadata": {},
   "source": [
    "# Selecting the Number of Topics (Learn)\n",
    "<a id=\"#p4\"></a>"
   ]
  },
  {
   "cell_type": "markdown",
   "metadata": {},
   "source": [
    "## Overview"
   ]
  },
  {
   "cell_type": "markdown",
   "metadata": {},
   "source": [
    "## Follow Along"
   ]
  },
  {
   "cell_type": "code",
   "execution_count": 51,
   "metadata": {},
   "outputs": [],
   "source": [
    "from gensim.models.coherencemodel import CoherenceModel\n",
    "\n",
    "def compute_coherence_values(dictionary, corpus, limit, start=2, step=3, passes=5):\n",
    "    \"\"\"\n",
    "    Compute c_v coherence for various number of topics\n",
    "\n",
    "    Parameters:\n",
    "    ----------\n",
    "    dictionary : Gensim dictionary\n",
    "    corpus : Gensim corpus\n",
    "    limit : Max num of topics\n",
    "    passes: the number of times the entire lda model & coherence values are calculated\n",
    "\n",
    "    Returns:\n",
    "    -------\n",
    "    coherence_values : Coherence values corresponding to the LDA model with respective number of topics\n",
    "    \"\"\"\n",
    "    \n",
    "    coherence_values = []\n",
    "    \n",
    "    for iter_ in range(passes):\n",
    "        for num_topics in range(start, limit, step):\n",
    "            model = LdaMulticore(corpus=corpus, num_topics=num_topics, id2word=dictionary, workers=4)\n",
    "            coherencemodel = CoherenceModel(model=model,dictionary=dictionary,corpus=corpus, coherence='u_mass')\n",
    "            coherence_values.append({'pass': iter_, \n",
    "                                     'num_topics': num_topics, \n",
    "                                     'coherence_score': coherencemodel.get_coherence()\n",
    "                                    })\n",
    "\n",
    "    return coherence_values\n",
    "\n",
    "# higher coherence means when the topics were taken, words samlpled according to proportions, would recreate the document really well\n",
    "# complex, but good to have intuition, and study more"
   ]
  },
  {
   "cell_type": "code",
   "execution_count": 52,
   "metadata": {},
   "outputs": [],
   "source": [
    "# Can take a long time to run.\n",
    "#%%time\n",
    "\n",
    "coherence_values = compute_coherence_values(dictionary=id2word, \n",
    "                                                        corpus=corpus,\n",
    "                                                        start=2, \n",
    "                                                        limit=40, \n",
    "                                                        step=2,\n",
    "                                                        passes=1) # don't want this number to be low, because then the model won't learn, too high and wastes computatinal resources"
   ]
  },
  {
   "cell_type": "code",
   "execution_count": 53,
   "metadata": {},
   "outputs": [],
   "source": [
    "topic_coherence = pd.DataFrame.from_records(coherence_values)"
   ]
  },
  {
   "cell_type": "code",
   "execution_count": null,
   "metadata": {},
   "outputs": [],
   "source": []
  },
  {
   "cell_type": "code",
   "execution_count": 54,
   "metadata": {},
   "outputs": [
    {
     "data": {
      "text/html": [
       "<div>\n",
       "<style scoped>\n",
       "    .dataframe tbody tr th:only-of-type {\n",
       "        vertical-align: middle;\n",
       "    }\n",
       "\n",
       "    .dataframe tbody tr th {\n",
       "        vertical-align: top;\n",
       "    }\n",
       "\n",
       "    .dataframe thead th {\n",
       "        text-align: right;\n",
       "    }\n",
       "</style>\n",
       "<table border=\"1\" class=\"dataframe\">\n",
       "  <thead>\n",
       "    <tr style=\"text-align: right;\">\n",
       "      <th></th>\n",
       "      <th>pass</th>\n",
       "      <th>num_topics</th>\n",
       "      <th>coherence_score</th>\n",
       "    </tr>\n",
       "  </thead>\n",
       "  <tbody>\n",
       "    <tr>\n",
       "      <th>0</th>\n",
       "      <td>0</td>\n",
       "      <td>2</td>\n",
       "      <td>-0.678043</td>\n",
       "    </tr>\n",
       "    <tr>\n",
       "      <th>1</th>\n",
       "      <td>0</td>\n",
       "      <td>4</td>\n",
       "      <td>-0.709777</td>\n",
       "    </tr>\n",
       "    <tr>\n",
       "      <th>2</th>\n",
       "      <td>0</td>\n",
       "      <td>6</td>\n",
       "      <td>-0.714067</td>\n",
       "    </tr>\n",
       "    <tr>\n",
       "      <th>3</th>\n",
       "      <td>0</td>\n",
       "      <td>8</td>\n",
       "      <td>-0.761545</td>\n",
       "    </tr>\n",
       "    <tr>\n",
       "      <th>4</th>\n",
       "      <td>0</td>\n",
       "      <td>10</td>\n",
       "      <td>-0.784399</td>\n",
       "    </tr>\n",
       "  </tbody>\n",
       "</table>\n",
       "</div>"
      ],
      "text/plain": [
       "   pass  num_topics  coherence_score\n",
       "0     0           2        -0.678043\n",
       "1     0           4        -0.709777\n",
       "2     0           6        -0.714067\n",
       "3     0           8        -0.761545\n",
       "4     0          10        -0.784399"
      ]
     },
     "execution_count": 54,
     "metadata": {},
     "output_type": "execute_result"
    }
   ],
   "source": [
    "topic_coherence.head()"
   ]
  },
  {
   "cell_type": "code",
   "execution_count": 55,
   "metadata": {},
   "outputs": [
    {
     "data": {
      "image/png": "[encoded data removed]",
      "text/plain": [
       "<Figure size 432x288 with 1 Axes>"
      ]
     },
     "metadata": {
      "needs_background": "light"
     },
     "output_type": "display_data"
    }
   ],
   "source": [
    "import seaborn as sns\n",
    "\n",
    "ax = sns.lineplot(x=\"num_topics\", y=\"coherence_score\", data=topic_coherence)\n",
    "\n",
    "# Don't want topics too low, or too high, maybe around 9 in this example, then go back and retrain LDA model on this number\n",
    "# go back and rename topics with human intuition, not easy to do, but useful\n",
    "# What are topics useful for? ie: use topics for recommendations"
   ]
  },
  {
   "cell_type": "code",
   "execution_count": 58,
   "metadata": {},
   "outputs": [],
   "source": [
    "# Print the coherence scores\n",
    "#for m, cv in zip(x, coherence_values):\n",
    "#    print(\"Num Topics =\", m, \" has Coherence Value of\", round(cv, 4))"
   ]
  },
  {
   "cell_type": "code",
   "execution_count": 57,
   "metadata": {},
   "outputs": [
    {
     "data": {
      "text/plain": [
       "[(0, 0.016701119),\n",
       " (1, 0.01670116),\n",
       " (2, 0.01670115),\n",
       " (3, 0.016701119),\n",
       " (4, 0.016701132),\n",
       " (5, 0.01670112),\n",
       " (6, 0.016701119),\n",
       " (7, 0.016701138),\n",
       " (8, 0.016701119),\n",
       " (9, 0.016701167),\n",
       " (10, 0.7661841),\n",
       " (11, 0.016701164),\n",
       " (12, 0.01670119),\n",
       " (13, 0.016701119),\n",
       " (14, 0.016701119)]"
      ]
     },
     "execution_count": 57,
     "metadata": {},
     "output_type": "execute_result"
    }
   ],
   "source": [
    "lda[id2word.doc2bow(tokenize(\"This is a sample document to score with a topic distribution.\"))]"
   ]
  },
  {
   "cell_type": "markdown",
   "metadata": {},
   "source": [
    "# Sources\n",
    "\n",
    "### *References*\n",
    "* [Andrew Ng et al paper on LDA](https://ai.stanford.edu/~ang/papers/jair03-lda.pdf)\n",
    "* On [Coherence](https://pdfs.semanticscholar.org/1521/8d9c029cbb903ae7c729b2c644c24994c201.pdf)\n",
    "\n",
    "### *Resources*\n",
    "\n",
    "* [Gensim](https://radimrehurek.com/gensim/): Python package for topic modeling, nlp, word vectorization, and few other things. Well maintained and well documented.\n",
    "* [Topic Modeling with Gensim](http://www.machinelearningplus.com/nlp/topic-modeling-gensim-python/#11createthedictionaryandcorpusneededfortopicmodeling): A kind of cookbook for LDA with gensim. Excellent overview, but the you need to be aware of missing import statements and assumed prior knowledge.\n",
    "* [Chinese Restuarant Process](https://en.wikipedia.org/wiki/Chinese_restaurant_process): That really obscure stats thing I mentioned... \n",
    "* [PyLDAvis](https://github.com/bmabey/pyLDAvis): Library for visualizing the topic model and performing some exploratory work. Works well. Has a direct parrell implementation in R as well. \n",
    "* [Rare Technologies](https://rare-technologies.com/): The people that made & maintain gensim and a few other libraries.\n",
    "* [Jane Austen v. Charlotte Bronte](https://www.literaryladiesguide.com/literary-musings/jane-austen-charlotte-bronte-different-alike/)"
   ]
  }
 ],
 "metadata": {
  "kernelspec": {
   "display_name": "Python 3",
   "language": "python",
   "name": "python3"
  },
  "language_info": {
   "codemirror_mode": {
    "name": "ipython",
    "version": 3
   },
   "file_extension": ".py",
   "mimetype": "text/x-python",
   "name": "python",
   "nbconvert_exporter": "python",
   "pygments_lexer": "ipython3",
   "version": "3.8.2"
  }
 },
 "nbformat": 4,
 "nbformat_minor": 4
}
