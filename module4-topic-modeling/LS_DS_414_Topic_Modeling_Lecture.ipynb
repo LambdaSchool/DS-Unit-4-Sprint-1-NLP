{
 "cells": [
  {
   "cell_type": "markdown",
   "metadata": {},
   "source": [
    "Lambda School Data Science\n",
    "\n",
    "*Unit 4, Sprint 1, Module 4*\n",
    "\n",
    "---"
   ]
  },
  {
   "cell_type": "markdown",
   "metadata": {},
   "source": [
    "# Topic Modeling (Prepare)\n",
    "\n",
    "On Monday we talked about summarizing your documents using just token counts. Today, we're going to learn about a much more sophisticated approach - learning 'topics' from documents. Topics are a latent structure. They are not directly observable in the data, but we know they're there by reading them.\n",
    "\n",
    "> **latent**: existing but not yet developed or manifest; hidden or concealed.\n",
    "\n",
    "## Use Cases\n",
    "Primary use case: what the hell are your documents about? Who might want to know that in industry - \n",
    "* Identifying common themes in customer reviews\n",
    "* Discovering the needle in a haystack \n",
    "* Monitoring communications (Email - State Department) \n",
    "\n",
    "## Learning Objectives\n",
    "*At the end of the lesson you should be able to:*\n",
    "* <a href=\"#p1\">Part 1</a>: Describe how an LDA Model works\n",
    "* <a href=\"#p2\">Part 2</a>: Estimate a LDA Model with Gensim\n",
    "* <a href=\"#p3\">Part 3</a>: Interpret LDA results\n",
    "* <a href=\"#p4\">Part 4</a>: Select the appropriate number of topics\n"
   ]
  },
  {
   "cell_type": "markdown",
   "metadata": {},
   "source": [
    "# Latent Dirchilet Allocation Models (Learn)\n",
    "<a id=\"#p1\"></a>"
   ]
  },
  {
   "cell_type": "markdown",
   "metadata": {},
   "source": [
    "## Overview\n",
    "LDA is a \"generative probabilistic model\". \n",
    "\n",
    "Let's play with a model available [here](https://lettier.com/projects/lda-topic-modeling/)"
   ]
  },
  {
   "cell_type": "markdown",
   "metadata": {},
   "source": [
    "## Follow Along"
   ]
  },
  {
   "cell_type": "markdown",
   "metadata": {},
   "source": [
    "## Challenge "
   ]
  },
  {
   "cell_type": "markdown",
   "metadata": {},
   "source": [
    "# Estimating LDA Models with Gensim (Learn)\n",
    "<a id=\"#p1\"></a>"
   ]
  },
  {
   "cell_type": "markdown",
   "metadata": {
    "toc-hr-collapsed": true
   },
   "source": [
    "## Overview\n",
    "### A Literary Introduction: *Jane Austen V. Charlotte Bronte*\n",
    "Despite being born nearly forty years apart, modern fans often pit Jane Austen & Charlotte Bronte against one another in a battle for literary  supremacy. The battle centers around the topics of education for women, courting, and marriage. The authors' similar backgrounds naturally draw comparisons, but the modern fascination is probably due to novelty of British women publishing novels during the early 19th century. \n",
    "\n",
    "Can we help close a literary battle for supremacy and simply acknowledge that the authors addressed different topics and deserve to be acknowledged as excellent authors each in their own right?\n",
    "\n",
    "We're going to apply Latent Dirichlet Allocation a machine learning algorithm for topic modeling to each of the author's novels to compare the distribution of topics in their novels."
   ]
  },
  {
   "cell_type": "code",
   "execution_count": 1,
   "metadata": {},
   "outputs": [],
   "source": [
    "import numpy as np\n",
    "import gensim\n",
    "import os\n",
    "import re\n",
    "\n",
    "from gensim.utils import simple_preprocess\n",
    "from gensim.parsing.preprocessing import STOPWORDS\n",
    "from gensim import corpora\n",
    "\n",
    "from gensim.models.ldamulticore import LdaMulticore\n",
    "\n",
    "import pandas as pd"
   ]
  },
  {
   "cell_type": "code",
   "execution_count": 2,
   "metadata": {},
   "outputs": [
    {
     "data": {
      "text/plain": [
       "'3.8.1'"
      ]
     },
     "execution_count": 2,
     "metadata": {},
     "output_type": "execute_result"
    }
   ],
   "source": [
    "gensim.__version__"
   ]
  },
  {
   "cell_type": "markdown",
   "metadata": {},
   "source": [
    "### Novel Data\n",
    "I grabbed the novel data pre-split into a bunch of smaller chunks"
   ]
  },
  {
   "cell_type": "code",
   "execution_count": 3,
   "metadata": {},
   "outputs": [],
   "source": [
    "path = './data/austen-brontë-split'"
   ]
  },
  {
   "cell_type": "markdown",
   "metadata": {},
   "source": [
    "### Text Preprocessing\n",
    "**Activity**: update the function `tokenize` with any technique you have learned so far this week. "
   ]
  },
  {
   "cell_type": "code",
   "execution_count": 4,
   "metadata": {},
   "outputs": [],
   "source": [
    "# 1) Plain Python - ''.split command\n",
    "# 2) Spacy - just the lemmas from the document\n",
    "# 3) Gensim - simple_preprocess\n",
    "\n",
    "STOPWORDS = set(STOPWORDS).union(set(['said', 'mr', 'mrs']))\n",
    "\n",
    "def tokenize(text):\n",
    "    return [token for token in simple_preprocess(text) if token not in STOPWORDS]"
   ]
  },
  {
   "cell_type": "code",
   "execution_count": 5,
   "metadata": {},
   "outputs": [],
   "source": [
    "import os\n",
    "\n",
    "def gather_data(path_to_data): \n",
    "    data = []\n",
    "    for f in os.listdir(path):\n",
    "        if os.path.isdir(f) == False:\n",
    "            if f[-3:] == 'txt':\n",
    "                with open(os.path.join(path,f)) as t:\n",
    "                    text = t.read().strip('\\n')\n",
    "                    data.append(tokenize(str(text)))       \n",
    "    return data"
   ]
  },
  {
   "cell_type": "code",
   "execution_count": 6,
   "metadata": {},
   "outputs": [],
   "source": [
    "tokens = gather_data(path)"
   ]
  },
  {
   "cell_type": "code",
   "execution_count": 7,
   "metadata": {},
   "outputs": [
    {
     "data": {
      "text/plain": [
       "['emma',\n",
       " 'jane',\n",
       " 'austen',\n",
       " 'volume',\n",
       " 'chapter',\n",
       " 'emma',\n",
       " 'woodhouse',\n",
       " 'handsome',\n",
       " 'clever',\n",
       " 'rich']"
      ]
     },
     "execution_count": 7,
     "metadata": {},
     "output_type": "execute_result"
    }
   ],
   "source": [
    "tokens[0][0:10]"
   ]
  },
  {
   "cell_type": "code",
   "execution_count": 8,
   "metadata": {},
   "outputs": [
    {
     "data": {
      "text/plain": [
       "'this is a sample string with a  newline character'"
      ]
     },
     "execution_count": 8,
     "metadata": {},
     "output_type": "execute_result"
    }
   ],
   "source": [
    "\"this is a sample string with a \\n newline character\".replace('\\n', '')"
   ]
  },
  {
   "cell_type": "code",
   "execution_count": 9,
   "metadata": {},
   "outputs": [
    {
     "data": {
      "text/plain": [
       "'this is a sample string with a newline character'"
      ]
     },
     "execution_count": 9,
     "metadata": {},
     "output_type": "execute_result"
    }
   ],
   "source": [
    "import re\n",
    "\n",
    "re.sub('\\s+', ' ', \"this is a sample string with a \\n newline character\")"
   ]
  },
  {
   "cell_type": "markdown",
   "metadata": {
    "toc-hr-collapsed": true
   },
   "source": [
    "## Follow Along"
   ]
  },
  {
   "cell_type": "code",
   "execution_count": 10,
   "metadata": {},
   "outputs": [],
   "source": [
    "titles = [t[:-4] for t in os.listdir(path) if os.path.isdir(t) == False]"
   ]
  },
  {
   "cell_type": "code",
   "execution_count": 11,
   "metadata": {},
   "outputs": [
    {
     "data": {
      "text/plain": [
       "813"
      ]
     },
     "execution_count": 11,
     "metadata": {},
     "output_type": "execute_result"
    }
   ],
   "source": [
    "len(titles)"
   ]
  },
  {
   "cell_type": "code",
   "execution_count": 12,
   "metadata": {},
   "outputs": [
    {
     "data": {
      "text/plain": [
       "813"
      ]
     },
     "execution_count": 12,
     "metadata": {},
     "output_type": "execute_result"
    }
   ],
   "source": [
    "len(tokens)"
   ]
  },
  {
   "cell_type": "code",
   "execution_count": 13,
   "metadata": {},
   "outputs": [
    {
     "data": {
      "text/plain": [
       "['Austen_Emma0000',\n",
       " 'Austen_Emma0001',\n",
       " 'Austen_Emma0002',\n",
       " 'Austen_Emma0003',\n",
       " 'Austen_Emma0004']"
      ]
     },
     "execution_count": 13,
     "metadata": {},
     "output_type": "execute_result"
    }
   ],
   "source": [
    "titles[:5]"
   ]
  },
  {
   "cell_type": "markdown",
   "metadata": {},
   "source": [
    "### Author DataFrame\n"
   ]
  },
  {
   "cell_type": "code",
   "execution_count": 14,
   "metadata": {},
   "outputs": [],
   "source": [
    "df = pd.DataFrame(index=titles, data={'tokens':tokens})"
   ]
  },
  {
   "cell_type": "code",
   "execution_count": 15,
   "metadata": {},
   "outputs": [
    {
     "data": {
      "text/html": [
       "<div>\n",
       "<style scoped>\n",
       "    .dataframe tbody tr th:only-of-type {\n",
       "        vertical-align: middle;\n",
       "    }\n",
       "\n",
       "    .dataframe tbody tr th {\n",
       "        vertical-align: top;\n",
       "    }\n",
       "\n",
       "    .dataframe thead th {\n",
       "        text-align: right;\n",
       "    }\n",
       "</style>\n",
       "<table border=\"1\" class=\"dataframe\">\n",
       "  <thead>\n",
       "    <tr style=\"text-align: right;\">\n",
       "      <th></th>\n",
       "      <th>tokens</th>\n",
       "    </tr>\n",
       "  </thead>\n",
       "  <tbody>\n",
       "    <tr>\n",
       "      <th>Austen_Emma0000</th>\n",
       "      <td>[emma, jane, austen, volume, chapter, emma, wo...</td>\n",
       "    </tr>\n",
       "    <tr>\n",
       "      <th>Austen_Emma0001</th>\n",
       "      <td>[taylor, wish, pity, weston, thought, agree, p...</td>\n",
       "    </tr>\n",
       "    <tr>\n",
       "      <th>Austen_Emma0002</th>\n",
       "      <td>[behaved, charmingly, body, punctual, body, be...</td>\n",
       "    </tr>\n",
       "    <tr>\n",
       "      <th>Austen_Emma0003</th>\n",
       "      <td>[native, highbury, born, respectable, family, ...</td>\n",
       "    </tr>\n",
       "    <tr>\n",
       "      <th>Austen_Emma0004</th>\n",
       "      <td>[mention, handsome, letter, weston, received, ...</td>\n",
       "    </tr>\n",
       "  </tbody>\n",
       "</table>\n",
       "</div>"
      ],
      "text/plain": [
       "                                                            tokens\n",
       "Austen_Emma0000  [emma, jane, austen, volume, chapter, emma, wo...\n",
       "Austen_Emma0001  [taylor, wish, pity, weston, thought, agree, p...\n",
       "Austen_Emma0002  [behaved, charmingly, body, punctual, body, be...\n",
       "Austen_Emma0003  [native, highbury, born, respectable, family, ...\n",
       "Austen_Emma0004  [mention, handsome, letter, weston, received, ..."
      ]
     },
     "execution_count": 15,
     "metadata": {},
     "output_type": "execute_result"
    }
   ],
   "source": [
    "df.head()"
   ]
  },
  {
   "cell_type": "code",
   "execution_count": 16,
   "metadata": {},
   "outputs": [],
   "source": [
    "df['author'] = df.reset_index()['index'].apply(lambda x: x.split('_')[0]).tolist()\n",
    "df['book'] = df.reset_index()['index'].apply(lambda x: x.split('_')[1][:-4]).tolist()\n",
    "df['section'] = df.reset_index()['index'].apply(lambda x: x[-4:]).tolist()\n",
    "df['section'] = df['section'].astype('int')"
   ]
  },
  {
   "cell_type": "code",
   "execution_count": 17,
   "metadata": {},
   "outputs": [],
   "source": [
    "df['author'] = df['author'].map({'Austen':1, 'CBronte':0})"
   ]
  },
  {
   "cell_type": "code",
   "execution_count": 18,
   "metadata": {},
   "outputs": [
    {
     "data": {
      "text/plain": [
       "0    441\n",
       "1    372\n",
       "Name: author, dtype: int64"
      ]
     },
     "execution_count": 18,
     "metadata": {},
     "output_type": "execute_result"
    }
   ],
   "source": [
    "df.author.value_counts()"
   ]
  },
  {
   "cell_type": "code",
   "execution_count": 19,
   "metadata": {},
   "outputs": [
    {
     "data": {
      "text/html": [
       "<div>\n",
       "<style scoped>\n",
       "    .dataframe tbody tr th:only-of-type {\n",
       "        vertical-align: middle;\n",
       "    }\n",
       "\n",
       "    .dataframe tbody tr th {\n",
       "        vertical-align: top;\n",
       "    }\n",
       "\n",
       "    .dataframe thead th {\n",
       "        text-align: right;\n",
       "    }\n",
       "</style>\n",
       "<table border=\"1\" class=\"dataframe\">\n",
       "  <thead>\n",
       "    <tr style=\"text-align: right;\">\n",
       "      <th></th>\n",
       "      <th>tokens</th>\n",
       "      <th>author</th>\n",
       "      <th>book</th>\n",
       "      <th>section</th>\n",
       "    </tr>\n",
       "  </thead>\n",
       "  <tbody>\n",
       "    <tr>\n",
       "      <th>Austen_Emma0000</th>\n",
       "      <td>[emma, jane, austen, volume, chapter, emma, wo...</td>\n",
       "      <td>1</td>\n",
       "      <td>Emma</td>\n",
       "      <td>0</td>\n",
       "    </tr>\n",
       "    <tr>\n",
       "      <th>Austen_Emma0001</th>\n",
       "      <td>[taylor, wish, pity, weston, thought, agree, p...</td>\n",
       "      <td>1</td>\n",
       "      <td>Emma</td>\n",
       "      <td>1</td>\n",
       "    </tr>\n",
       "    <tr>\n",
       "      <th>Austen_Emma0002</th>\n",
       "      <td>[behaved, charmingly, body, punctual, body, be...</td>\n",
       "      <td>1</td>\n",
       "      <td>Emma</td>\n",
       "      <td>2</td>\n",
       "    </tr>\n",
       "    <tr>\n",
       "      <th>Austen_Emma0003</th>\n",
       "      <td>[native, highbury, born, respectable, family, ...</td>\n",
       "      <td>1</td>\n",
       "      <td>Emma</td>\n",
       "      <td>3</td>\n",
       "    </tr>\n",
       "    <tr>\n",
       "      <th>Austen_Emma0004</th>\n",
       "      <td>[mention, handsome, letter, weston, received, ...</td>\n",
       "      <td>1</td>\n",
       "      <td>Emma</td>\n",
       "      <td>4</td>\n",
       "    </tr>\n",
       "  </tbody>\n",
       "</table>\n",
       "</div>"
      ],
      "text/plain": [
       "                                                            tokens  author  \\\n",
       "Austen_Emma0000  [emma, jane, austen, volume, chapter, emma, wo...       1   \n",
       "Austen_Emma0001  [taylor, wish, pity, weston, thought, agree, p...       1   \n",
       "Austen_Emma0002  [behaved, charmingly, body, punctual, body, be...       1   \n",
       "Austen_Emma0003  [native, highbury, born, respectable, family, ...       1   \n",
       "Austen_Emma0004  [mention, handsome, letter, weston, received, ...       1   \n",
       "\n",
       "                 book  section  \n",
       "Austen_Emma0000  Emma        0  \n",
       "Austen_Emma0001  Emma        1  \n",
       "Austen_Emma0002  Emma        2  \n",
       "Austen_Emma0003  Emma        3  \n",
       "Austen_Emma0004  Emma        4  "
      ]
     },
     "execution_count": 19,
     "metadata": {},
     "output_type": "execute_result"
    }
   ],
   "source": [
    "df.head()"
   ]
  },
  {
   "cell_type": "markdown",
   "metadata": {},
   "source": [
    "### Streaming Documents\n",
    "Here we use a new pythonic thingy: the `yield` statement in our function. This allows us to iterate over a bunch of documents without actually reading them into memory. You can see how we use this function later on. "
   ]
  },
  {
   "cell_type": "code",
   "execution_count": 20,
   "metadata": {},
   "outputs": [],
   "source": [
    "def doc_stream(path):\n",
    "    for f in os.listdir(path):\n",
    "        if os.path.isdir(f) == False:\n",
    "            if f[-3:] == 'txt':\n",
    "                with open(os.path.join(path,f)) as t:\n",
    "                    text = t.read().strip('\\n')\n",
    "                    tokens = tokenize(text)\n",
    "                yield tokens"
   ]
  },
  {
   "cell_type": "code",
   "execution_count": 21,
   "metadata": {},
   "outputs": [],
   "source": [
    "streaming_data = doc_stream(path)"
   ]
  },
  {
   "cell_type": "code",
   "execution_count": 22,
   "metadata": {},
   "outputs": [
    {
     "data": {
      "text/plain": [
       "generator"
      ]
     },
     "execution_count": 22,
     "metadata": {},
     "output_type": "execute_result"
    }
   ],
   "source": [
    "type(streaming_data)"
   ]
  },
  {
   "cell_type": "code",
   "execution_count": null,
   "metadata": {},
   "outputs": [],
   "source": [
    "# gather_data => returns a list\n",
    "# doc_stream => returns a generator"
   ]
  },
  {
   "cell_type": "code",
   "execution_count": 23,
   "metadata": {},
   "outputs": [
    {
     "data": {
      "text/plain": [
       "['emma',\n",
       " 'jane',\n",
       " 'austen',\n",
       " 'volume',\n",
       " 'chapter',\n",
       " 'emma',\n",
       " 'woodhouse',\n",
       " 'handsome',\n",
       " 'clever',\n",
       " 'rich']"
      ]
     },
     "execution_count": 23,
     "metadata": {},
     "output_type": "execute_result"
    }
   ],
   "source": [
    "next(streaming_data)[:10] # Returns one document at a time from the generator"
   ]
  },
  {
   "cell_type": "markdown",
   "metadata": {},
   "source": [
    "### Gensim LDA Topic Modeling"
   ]
  },
  {
   "cell_type": "code",
   "execution_count": 24,
   "metadata": {},
   "outputs": [],
   "source": [
    "# A Dictionary Representation of all the words in our corpus\n",
    "id2word = corpora.Dictionary(doc_stream(path))"
   ]
  },
  {
   "cell_type": "code",
   "execution_count": 30,
   "metadata": {},
   "outputs": [
    {
     "data": {
      "text/plain": [
       "8600"
      ]
     },
     "execution_count": 30,
     "metadata": {},
     "output_type": "execute_result"
    }
   ],
   "source": [
    "id2word.token2id['obey']"
   ]
  },
  {
   "cell_type": "code",
   "execution_count": 31,
   "metadata": {},
   "outputs": [
    {
     "data": {
      "text/plain": [
       "[(2753, 1), (3986, 3), (6601, 1), (6818, 1)]"
      ]
     },
     "execution_count": 31,
     "metadata": {},
     "output_type": "execute_result"
    }
   ],
   "source": [
    "id2word.doc2bow(tokenize(\"This is a sample message Darcy England England England\"))"
   ]
  },
  {
   "cell_type": "code",
   "execution_count": 32,
   "metadata": {},
   "outputs": [
    {
     "name": "stdout",
     "output_type": "stream",
     "text": [
      "56\n",
      "7056\n"
     ]
    }
   ],
   "source": [
    "import sys\n",
    "print(sys.getsizeof(id2word))\n",
    "print(sys.getsizeof(tokens))"
   ]
  },
  {
   "cell_type": "code",
   "execution_count": 33,
   "metadata": {},
   "outputs": [
    {
     "data": {
      "text/plain": [
       "22095"
      ]
     },
     "execution_count": 33,
     "metadata": {},
     "output_type": "execute_result"
    }
   ],
   "source": [
    "len(id2word.keys())"
   ]
  },
  {
   "cell_type": "code",
   "execution_count": 34,
   "metadata": {},
   "outputs": [],
   "source": [
    "# Let's remove extreme values from the dataset\n",
    "id2word.filter_extremes(no_below=5, no_above=0.95)"
   ]
  },
  {
   "cell_type": "code",
   "execution_count": 35,
   "metadata": {},
   "outputs": [
    {
     "data": {
      "text/plain": [
       "8102"
      ]
     },
     "execution_count": 35,
     "metadata": {},
     "output_type": "execute_result"
    }
   ],
   "source": [
    "len(id2word.keys())"
   ]
  },
  {
   "cell_type": "code",
   "execution_count": 36,
   "metadata": {},
   "outputs": [],
   "source": [
    "# a bag of words(bow) representation of our corpus\n",
    "# Note: we haven't actually read any text into memory here\n",
    "# Although abstracted away - tokenization IS happening in the doc_stream f(x)\n",
    "corpus = [id2word.doc2bow(text) for text in doc_stream(path)]"
   ]
  },
  {
   "cell_type": "code",
   "execution_count": 37,
   "metadata": {},
   "outputs": [
    {
     "data": {
      "text/plain": [
       "[(0, 1),\n",
       " (2, 1),\n",
       " (11, 1),\n",
       " (21, 2),\n",
       " (32, 1),\n",
       " (34, 1),\n",
       " (35, 1),\n",
       " (37, 1),\n",
       " (53, 1),\n",
       " (54, 1)]"
      ]
     },
     "execution_count": 37,
     "metadata": {},
     "output_type": "execute_result"
    }
   ],
   "source": [
    "corpus[345][:10]"
   ]
  },
  {
   "cell_type": "code",
   "execution_count": 38,
   "metadata": {},
   "outputs": [],
   "source": [
    "lda = LdaMulticore(corpus=corpus,\n",
    "                   id2word=id2word,\n",
    "                   random_state=723812,\n",
    "                   num_topics = 15,\n",
    "                   passes=10,\n",
    "                   workers=12\n",
    "                  )"
   ]
  },
  {
   "cell_type": "code",
   "execution_count": 39,
   "metadata": {},
   "outputs": [
    {
     "data": {
      "text/plain": [
       "[(0,\n",
       "  '0.016*\"harriet\" + 0.015*\"emma\" + 0.009*\"weston\" + 0.008*\"elton\" + 0.008*\"good\" + 0.008*\"think\" + 0.008*\"man\" + 0.007*\"miss\" + 0.007*\"knightley\" + 0.006*\"know\"'),\n",
       " (1,\n",
       "  '0.006*\"like\" + 0.006*\"sir\" + 0.006*\"jane\" + 0.006*\"thought\" + 0.005*\"little\" + 0.005*\"good\" + 0.005*\"love\" + 0.004*\"old\" + 0.004*\"poor\" + 0.004*\"man\"'),\n",
       " (2,\n",
       "  '0.011*\"elinor\" + 0.009*\"marianne\" + 0.008*\"elizabeth\" + 0.007*\"sister\" + 0.007*\"miss\" + 0.005*\"time\" + 0.005*\"darcy\" + 0.005*\"mother\" + 0.005*\"soon\" + 0.005*\"lady\"'),\n",
       " (3,\n",
       "  '0.005*\"hand\" + 0.005*\"eyes\" + 0.005*\"john\" + 0.004*\"like\" + 0.004*\"saw\" + 0.004*\"asked\" + 0.004*\"little\" + 0.003*\"time\" + 0.003*\"know\" + 0.003*\"sir\"'),\n",
       " (4,\n",
       "  '0.014*\"miss\" + 0.011*\"jane\" + 0.008*\"emma\" + 0.008*\"know\" + 0.007*\"thing\" + 0.007*\"think\" + 0.006*\"good\" + 0.006*\"little\" + 0.006*\"shall\" + 0.006*\"dear\"'),\n",
       " (5,\n",
       "  '0.007*\"jane\" + 0.006*\"elizabeth\" + 0.006*\"darcy\" + 0.006*\"know\" + 0.005*\"wickham\" + 0.005*\"think\" + 0.004*\"miss\" + 0.004*\"good\" + 0.004*\"love\" + 0.004*\"letter\"'),\n",
       " (6,\n",
       "  '0.007*\"hunsden\" + 0.005*\"miss\" + 0.005*\"helen\" + 0.005*\"temple\" + 0.004*\"bread\" + 0.004*\"tea\" + 0.004*\"come\" + 0.004*\"tyrant\" + 0.004*\"having\" + 0.004*\"little\"'),\n",
       " (7,\n",
       "  '0.010*\"little\" + 0.005*\"madame\" + 0.005*\"like\" + 0.005*\"monsieur\" + 0.004*\"vous\" + 0.004*\"paul\" + 0.004*\"est\" + 0.004*\"bessie\" + 0.003*\"room\" + 0.003*\"think\"'),\n",
       " (8,\n",
       "  '0.005*\"burns\" + 0.005*\"thought\" + 0.005*\"like\" + 0.005*\"scatcherd\" + 0.004*\"miss\" + 0.004*\"day\" + 0.004*\"face\" + 0.004*\"girl\" + 0.003*\"little\" + 0.003*\"dr\"'),\n",
       " (9,\n",
       "  '0.009*\"man\" + 0.007*\"bennet\" + 0.007*\"young\" + 0.007*\"elizabeth\" + 0.006*\"collins\" + 0.006*\"time\" + 0.006*\"father\" + 0.005*\"darcy\" + 0.004*\"thought\" + 0.004*\"longbourn\"'),\n",
       " (10,\n",
       "  '0.006*\"like\" + 0.005*\"little\" + 0.004*\"thought\" + 0.004*\"long\" + 0.004*\"good\" + 0.004*\"know\" + 0.004*\"time\" + 0.004*\"day\" + 0.003*\"night\" + 0.003*\"hand\"'),\n",
       " (11,\n",
       "  '0.021*\"emma\" + 0.010*\"miss\" + 0.009*\"knightley\" + 0.009*\"harriet\" + 0.007*\"thing\" + 0.007*\"little\" + 0.007*\"fairfax\" + 0.006*\"woodhouse\" + 0.006*\"think\" + 0.006*\"elton\"'),\n",
       " (12,\n",
       "  '0.008*\"bretton\" + 0.007*\"know\" + 0.007*\"dr\" + 0.006*\"little\" + 0.005*\"lucy\" + 0.005*\"thought\" + 0.005*\"miss\" + 0.005*\"ginevra\" + 0.005*\"good\" + 0.005*\"graham\"'),\n",
       " (13,\n",
       "  '0.007*\"thousand\" + 0.006*\"mason\" + 0.005*\"like\" + 0.005*\"know\" + 0.004*\"sisters\" + 0.004*\"diana\" + 0.004*\"justice\" + 0.004*\"shall\" + 0.004*\"thought\" + 0.004*\"pounds\"'),\n",
       " (14,\n",
       "  '0.016*\"lydia\" + 0.010*\"mother\" + 0.010*\"wickham\" + 0.010*\"father\" + 0.007*\"uncle\" + 0.007*\"pounds\" + 0.006*\"dashwood\" + 0.006*\"thousand\" + 0.005*\"sure\" + 0.005*\"elizabeth\"')]"
      ]
     },
     "execution_count": 39,
     "metadata": {},
     "output_type": "execute_result"
    }
   ],
   "source": [
    "lda.print_topics()"
   ]
  },
  {
   "cell_type": "code",
   "execution_count": 40,
   "metadata": {},
   "outputs": [],
   "source": [
    "words = [re.findall(r'\"([^\"]*)\"',t[1]) for t in lda.print_topics()]"
   ]
  },
  {
   "cell_type": "code",
   "execution_count": 41,
   "metadata": {},
   "outputs": [],
   "source": [
    "topics = [' '.join(t[0:5]) for t in words]"
   ]
  },
  {
   "cell_type": "code",
   "execution_count": 42,
   "metadata": {},
   "outputs": [
    {
     "name": "stdout",
     "output_type": "stream",
     "text": [
      "------ Topic 0 ------\n",
      "harriet emma weston elton good\n",
      "\n",
      "------ Topic 1 ------\n",
      "like sir jane thought little\n",
      "\n",
      "------ Topic 2 ------\n",
      "elinor marianne elizabeth sister miss\n",
      "\n",
      "------ Topic 3 ------\n",
      "hand eyes john like saw\n",
      "\n",
      "------ Topic 4 ------\n",
      "miss jane emma know thing\n",
      "\n",
      "------ Topic 5 ------\n",
      "jane elizabeth darcy know wickham\n",
      "\n",
      "------ Topic 6 ------\n",
      "hunsden miss helen temple bread\n",
      "\n",
      "------ Topic 7 ------\n",
      "little madame like monsieur vous\n",
      "\n",
      "------ Topic 8 ------\n",
      "burns thought like scatcherd miss\n",
      "\n",
      "------ Topic 9 ------\n",
      "man bennet young elizabeth collins\n",
      "\n",
      "------ Topic 10 ------\n",
      "like little thought long good\n",
      "\n",
      "------ Topic 11 ------\n",
      "emma miss knightley harriet thing\n",
      "\n",
      "------ Topic 12 ------\n",
      "bretton know dr little lucy\n",
      "\n",
      "------ Topic 13 ------\n",
      "thousand mason like know sisters\n",
      "\n",
      "------ Topic 14 ------\n",
      "lydia mother wickham father uncle\n",
      "\n"
     ]
    }
   ],
   "source": [
    "for id, t in enumerate(topics): \n",
    "    print(f\"------ Topic {id} ------\")\n",
    "    print(t, end=\"\\n\\n\")"
   ]
  },
  {
   "cell_type": "markdown",
   "metadata": {},
   "source": [
    "## Challenge \n",
    "\n",
    "You will apply an LDA model to a customer review dataset to practice the fitting and estimation of LDA. "
   ]
  },
  {
   "cell_type": "markdown",
   "metadata": {},
   "source": [
    "# Interpret LDA Results (Learn)\n",
    "<a id=\"#p3\"></a>"
   ]
  },
  {
   "cell_type": "markdown",
   "metadata": {},
   "source": [
    "## Overview"
   ]
  },
  {
   "cell_type": "markdown",
   "metadata": {
    "toc-hr-collapsed": true
   },
   "source": [
    "## Follow Along"
   ]
  },
  {
   "cell_type": "markdown",
   "metadata": {},
   "source": [
    "### Topic Distance Visualization"
   ]
  },
  {
   "cell_type": "code",
   "execution_count": 43,
   "metadata": {},
   "outputs": [],
   "source": [
    "import pyLDAvis.gensim\n",
    "\n",
    "pyLDAvis.enable_notebook()"
   ]
  },
  {
   "cell_type": "code",
   "execution_count": 44,
   "metadata": {},
   "outputs": [
    {
     "data": {
      "text/html": [
       "\n",
       "<link rel=\"stylesheet\" type=\"text/css\" href=\"https://cdn.rawgit.com/bmabey/pyLDAvis/files/ldavis.v1.0.0.css\">\n",
       "\n",
       "\n",
       "<div id=\"ldavis_el7634993714840642602851\"></div>\n",
       "<script type=\"text/javascript\">\n",
       "\n",
       "var ldavis_el7634993714840642602851_data = {\"mdsDat\": {\"x\": [0.086109456357085, -0.09610643366743586, -0.06937900069321251, 0.12373223754628354, -0.11320856202970273, -0.10309680812454247, -0.11438486750632748, -0.10391770930955221, 0.011588273924292356, 0.09703927830478791, 0.14288621668381624, -0.07317936021941564, 0.028001397739557034, 0.10265823165490105, 0.081257649339466], \"y\": [0.006008120597359213, -0.014837770384789348, 0.06426650539662937, 0.0574204298584061, 0.0847830642390313, 0.09114248164433945, -0.01841040259909001, -0.10625078265045032, -0.029207806218116465, 0.021387824914248253, -0.0060395056494916746, -0.10452344403279436, 0.05661092658537174, -0.024924400171037506, -0.07742524152961598], \"topics\": [1, 2, 3, 4, 5, 6, 7, 8, 9, 10, 11, 12, 13, 14, 15], \"cluster\": [1, 1, 1, 1, 1, 1, 1, 1, 1, 1, 1, 1, 1, 1, 1], \"Freq\": [41.97673034667969, 19.396442413330078, 11.418641090393066, 8.034646987915039, 4.9118218421936035, 4.027896881103516, 3.994279384613037, 1.4895720481872559, 1.0135197639465332, 0.9994546175003052, 0.7705587148666382, 0.7670862078666687, 0.6460214853286743, 0.2973565459251404, 0.2559770345687866]}, \"tinfo\": {\"Term\": [\"like\", \"little\", \"miss\", \"know\", \"emma\", \"thought\", \"good\", \"elizabeth\", \"time\", \"jane\", \"think\", \"man\", \"elinor\", \"shall\", \"mother\", \"harriet\", \"eyes\", \"john\", \"soon\", \"hand\", \"come\", \"day\", \"saw\", \"sir\", \"young\", \"house\", \"darcy\", \"father\", \"heart\", \"bennet\", \"henri\", \"glorious\", \"brussels\", \"india\", \"vandenhuten\", \"francs\", \"oliver\", \"serene\", \"scholars\", \"hell\", \"europe\", \"sophie\", \"stool\", \"veil\", \"vocation\", \"seacombe\", \"frances\", \"briggs\", \"slip\", \"belgium\", \"swiss\", \"natures\", \"stile\", \"kneeling\", \"sunset\", \"wicket\", \"vale\", \"marchmont\", \"wardrobe\", \"practical\", \"godmother\", \"sustained\", \"stooped\", \"burning\", \"seal\", \"thornfield\", \"moon\", \"diana\", \"hunsden\", \"rochester\", \"crimsworth\", \"hannah\", \"lonely\", \"god\", \"rue\", \"blood\", \"flesh\", \"french\", \"rivers\", \"candle\", \"adele\", \"st\", \"ll\", \"english\", \"night\", \"dark\", \"hall\", \"black\", \"mdlle\", \"bright\", \"white\", \"face\", \"rose\", \"light\", \"ere\", \"strange\", \"like\", \"hand\", \"eye\", \"deep\", \"life\", \"stood\", \"eyes\", \"looked\", \"door\", \"long\", \"thought\", \"madame\", \"little\", \"saw\", \"old\", \"heart\", \"day\", \"house\", \"look\", \"come\", \"time\", \"good\", \"know\", \"room\", \"went\", \"took\", \"came\", \"left\", \"man\", \"way\", \"think\", \"shall\", \"felt\", \"jennings\", \"marianne\", \"willoughby\", \"margaret\", \"elinor\", \"steele\", \"berkeley\", \"cleveland\", \"middleton\", \"brandon\", \"charlotte\", \"dashwoods\", \"hurst\", \"middletons\", \"harley\", \"steeles\", \"palmers\", \"beaux\", \"lucas\", \"barton\", \"hunsford\", \"catherine\", \"rosings\", \"bingley\", \"thoughtfulness\", \"rapturous\", \"unwillingly\", \"magna\", \"salutation\", \"invariable\", \"ladyship\", \"collins\", \"netherfield\", \"delaford\", \"ferrars\", \"bourgh\", \"dashwood\", \"bennet\", \"elizabeth\", \"edward\", \"sister\", \"darcy\", \"palmer\", \"colonel\", \"lady\", \"mother\", \"behaviour\", \"family\", \"lucy\", \"town\", \"soon\", \"miss\", \"time\", \"replied\", \"think\", \"know\", \"great\", \"house\", \"good\", \"day\", \"little\", \"room\", \"away\", \"shall\", \"man\", \"ford\", \"patty\", \"grandmama\", \"cox\", \"friday\", \"pitcher\", \"vouchsafe\", \"harp\", \"undone\", \"longstaple\", \"rivet\", \"naivete\", \"butler\", \"charade\", \"cole\", \"larkins\", \"butcher\", \"significantly\", \"detaining\", \"banker\", \"pleasanter\", \"overtaken\", \"airing\", \"triumphantly\", \"shoot\", \"richard\", \"inequality\", \"pretending\", \"bates\", \"precise\", \"dixon\", \"campbells\", \"pianoforte\", \"crown\", \"smith\", \"campbell\", \"fairfax\", \"jane\", \"apples\", \"weston\", \"elton\", \"frank\", \"emma\", \"miss\", \"news\", \"thing\", \"perry\", \"oh\", \"dear\", \"churchill\", \"woodhouse\", \"knightley\", \"sir\", \"sure\", \"dancing\", \"shall\", \"going\", \"think\", \"know\", \"come\", \"harriet\", \"hear\", \"room\", \"great\", \"body\", \"soon\", \"good\", \"yes\", \"little\", \"heard\", \"time\", \"like\", \"came\", \"thought\", \"day\", \"away\", \"peu\", \"abbot\", \"avez\", \"grec\", \"votre\", \"athenee\", \"dans\", \"violets\", \"cholmondeley\", \"opaque\", \"assez\", \"une\", \"professors\", \"etre\", \"je\", \"tableau\", \"pens\", \"impromptu\", \"allez\", \"mal\", \"vous\", \"elle\", \"dire\", \"reflex\", \"paletot\", \"garcon\", \"isidore\", \"bourgeois\", \"ce\", \"que\", \"est\", \"cela\", \"zelie\", \"pas\", \"pierre\", \"bouquet\", \"qu\", \"bessie\", \"les\", \"ne\", \"et\", \"la\", \"comme\", \"estrade\", \"ginevra\", \"bien\", \"paul\", \"monsieur\", \"reed\", \"madame\", \"fanshawe\", \"mademoiselle\", \"emanuel\", \"dr\", \"little\", \"beck\", \"like\", \"school\", \"work\", \"door\", \"polly\", \"room\", \"bretton\", \"hand\", \"lucy\", \"eyes\", \"thought\", \"think\", \"good\", \"half\", \"day\", \"miss\", \"time\", \"know\", \"took\", \"john\", \"knew\", \"came\", \"selina\", \"knightleys\", \"approving\", \"gentility\", \"martin\", \"blindness\", \"nash\", \"surry\", \"bristol\", \"abbey\", \"farmer\", \"bath\", \"maple\", \"disgraced\", \"elegantly\", \"suckling\", \"westons\", \"resources\", \"intimately\", \"goddard\", \"jokes\", \"gross\", \"matches\", \"enscombe\", \"harriet\", \"inferred\", \"negligent\", \"grove\", \"connexion\", \"protest\", \"vicarage\", \"taylor\", \"elton\", \"weston\", \"churchills\", \"woodhouse\", \"emma\", \"knightley\", \"body\", \"hartfield\", \"highbury\", \"churchill\", \"friend\", \"man\", \"frank\", \"thing\", \"marry\", \"good\", \"young\", \"think\", \"assure\", \"people\", \"woman\", \"miss\", \"know\", \"ought\", \"little\", \"great\", \"father\", \"sure\", \"dear\", \"better\", \"like\", \"time\", \"thought\", \"mind\", \"shall\", \"isabella\", \"philosophic\", \"eltons\", \"hawkins\", \"regards\", \"saucy\", \"ostensible\", \"richmond\", \"grandmother\", \"supplying\", \"benefactress\", \"promoted\", \"bathing\", \"feelingly\", \"taylor\", \"secresy\", \"unexceptionable\", \"comprehending\", \"deceit\", \"beer\", \"windsor\", \"cooler\", \"amiss\", \"martins\", \"campbell\", \"hartfield\", \"competent\", \"dulness\", \"charmingly\", \"unfair\", \"emma\", \"knightley\", \"henry\", \"woodhouse\", \"highbury\", \"fairfax\", \"dixon\", \"harriet\", \"randalls\", \"elton\", \"perry\", \"shew\", \"weston\", \"bates\", \"poor\", \"body\", \"chuse\", \"churchill\", \"thing\", \"father\", \"miss\", \"children\", \"having\", \"home\", \"friend\", \"jane\", \"think\", \"little\", \"time\", \"dear\", \"soon\", \"good\", \"thought\", \"know\", \"shall\", \"man\", \"day\", \"great\", \"like\", \"yorkshire\", \"infamous\", \"lambton\", \"assertions\", \"create\", \"occurrences\", \"bewitching\", \"stating\", \"wilfully\", \"misconduct\", \"militia\", \"elopement\", \"inexpressibly\", \"reconciliation\", \"alluding\", \"blameless\", \"foresaw\", \"disadvantage\", \"creditable\", \"misunderstood\", \"indolence\", \"scotland\", \"unfair\", \"forwarded\", \"acquit\", \"inconveniences\", \"respectability\", \"liberally\", \"exercising\", \"deplorable\", \"involved\", \"churchills\", \"wickham\", \"gardiner\", \"fitzwilliam\", \"imprudent\", \"secrecy\", \"conduct\", \"supposing\", \"injured\", \"darcy\", \"pemberley\", \"robert\", \"elizabeth\", \"wishes\", \"aunt\", \"attachment\", \"churchill\", \"letter\", \"jane\", \"lydia\", \"engagement\", \"known\", \"particulars\", \"love\", \"affection\", \"hope\", \"marriage\", \"happiness\", \"marry\", \"know\", \"think\", \"family\", \"having\", \"frank\", \"feelings\", \"man\", \"present\", \"good\", \"miss\", \"time\", \"father\", \"soon\", \"little\", \"thought\", \"believe\", \"sister\", \"day\", \"felt\", \"brighton\", \"forster\", \"prevailing\", \"expenses\", \"lydia\", \"regiment\", \"sum\", \"gracechurch\", \"norland\", \"debts\", \"favourites\", \"despaired\", \"housekeeping\", \"pounds\", \"pledged\", \"settlement\", \"lamentations\", \"supplication\", \"disposal\", \"legal\", \"sixpence\", \"distresses\", \"denny\", \"pratt\", \"answerable\", \"accommodate\", \"cheap\", \"extravagant\", \"expressively\", \"prohibited\", \"wickham\", \"kitty\", \"uncle\", \"thousand\", \"gardiner\", \"income\", \"law\", \"dashwood\", \"longbourn\", \"father\", \"money\", \"estate\", \"mother\", \"addition\", \"ignorant\", \"married\", \"daughters\", \"assistance\", \"niece\", \"fortune\", \"bennet\", \"sure\", \"daughter\", \"elizabeth\", \"years\", \"sister\", \"soon\", \"house\", \"dear\", \"family\", \"know\", \"think\", \"great\", \"letter\", \"good\", \"time\", \"little\", \"stick\", \"eyelid\", \"rob\", \"irritating\", \"philanthropist\", \"lloyd\", \"reproaching\", \"mystic\", \"memories\", \"partners\", \"infirm\", \"henceforth\", \"establish\", \"staff\", \"vanishing\", \"lowered\", \"mud\", \"saucy\", \"acquitted\", \"grieving\", \"anecdote\", \"orphan\", \"stair\", \"flakes\", \"affianced\", \"enounced\", \"sacrificing\", \"restoration\", \"external\", \"abhorred\", \"prejudices\", \"severely\", \"merits\", \"aged\", \"tap\", \"flatter\", \"ruin\", \"pelet\", \"sisters\", \"walravens\", \"died\", \"sir\", \"poor\", \"old\", \"jane\", \"love\", \"thought\", \"like\", \"grief\", \"marie\", \"good\", \"little\", \"man\", \"false\", \"half\", \"sense\", \"lizzy\", \"bessie\", \"father\", \"oh\", \"character\", \"children\", \"mother\", \"time\", \"people\", \"think\", \"place\", \"child\", \"leave\", \"eyes\", \"young\", \"know\", \"heart\", \"shall\", \"house\", \"saw\", \"scatcherd\", \"burns\", \"doctrine\", \"tract\", \"knoll\", \"walnut\", \"reproaching\", \"print\", \"stem\", \"impunity\", \"mischievous\", \"contrasts\", \"amounted\", \"bunch\", \"bundle\", \"blossoms\", \"matched\", \"projected\", \"desiree\", \"spots\", \"pious\", \"bigben\", \"glove\", \"packing\", \"quickening\", \"scenery\", \"aimed\", \"borders\", \"brush\", \"slice\", \"infection\", \"lowood\", \"patient\", \"helen\", \"coffee\", \"dr\", \"firmness\", \"bible\", \"parents\", \"girl\", \"fully\", \"bearing\", \"madame\", \"face\", \"liked\", \"thought\", \"kept\", \"day\", \"like\", \"miss\", \"clock\", \"half\", \"chose\", \"man\", \"place\", \"long\", \"hunsden\", \"think\", \"little\", \"hand\", \"heart\", \"know\", \"time\", \"life\", \"john\", \"eyes\", \"morning\", \"victor\", \"scrutinised\", \"yorke\", \"georgette\", \"rests\", \"tints\", \"grisette\", \"portfolio\", \"sans\", \"clouded\", \"trop\", \"inquisitive\", \"nest\", \"infallibly\", \"apron\", \"rosine\", \"rien\", \"tasks\", \"puts\", \"quel\", \"fidelity\", \"scrupled\", \"bracelet\", \"walnut\", \"expanse\", \"combine\", \"elements\", \"wheeled\", \"roved\", \"obviously\", \"burdened\", \"indicated\", \"appetite\", \"midsummer\", \"doctor\", \"pictures\", \"incapacity\", \"pas\", \"hunsden\", \"hand\", \"eyes\", \"john\", \"asked\", \"dr\", \"st\", \"table\", \"saw\", \"sir\", \"like\", \"frances\", \"closed\", \"came\", \"till\", \"forehead\", \"near\", \"time\", \"heart\", \"know\", \"little\", \"kind\", \"head\", \"good\", \"face\", \"night\", \"days\", \"answer\", \"thought\", \"tell\", \"better\", \"reject\", \"prepossession\", \"pompous\", \"sanctioned\", \"supplanted\", \"refusal\", \"apologise\", \"privately\", \"affording\", \"estates\", \"proposals\", \"corps\", \"atonement\", \"assiduous\", \"forgiveness\", \"humility\", \"fare\", \"gracechurch\", \"denny\", \"cruelly\", \"uniformly\", \"disregarded\", \"olive\", \"rascal\", \"despaired\", \"philosophic\", \"clapped\", \"injurious\", \"inattentive\", \"treasured\", \"extravagance\", \"likelihood\", \"unguarded\", \"lucases\", \"conscientious\", \"falls\", \"procured\", \"nieces\", \"longbourn\", \"collins\", \"lizzy\", \"cousin\", \"bennet\", \"profession\", \"gardiner\", \"relations\", \"catherine\", \"thousand\", \"robert\", \"man\", \"young\", \"father\", \"elizabeth\", \"darcy\", \"pride\", \"living\", \"pounds\", \"daughters\", \"marriage\", \"time\", \"motive\", \"certain\", \"amiable\", \"cried\", \"friend\", \"wickham\", \"thought\", \"family\", \"letter\", \"lady\", \"given\", \"shall\", \"good\", \"house\", \"having\", \"soon\", \"jane\", \"cooled\", \"crack\", \"raving\", \"restlessly\", \"unfit\", \"softest\", \"displeasing\", \"harmless\", \"practising\", \"recur\", \"spending\", \"quadrille\", \"chicken\", \"wanderings\", \"iii\", \"encumbrance\", \"jenkinson\", \"disown\", \"gifted\", \"cake\", \"unequivocal\", \"bracelet\", \"survive\", \"wouldn\", \"beef\", \"combine\", \"fight\", \"graces\", \"verbal\", \"delirious\", \"dumb\", \"causes\", \"averted\", \"ginevra\", \"wholesome\", \"snowe\", \"bretton\", \"dr\", \"mamma\", \"fanshawe\", \"graham\", \"lucy\", \"liking\", \"know\", \"evening\", \"preferred\", \"john\", \"little\", \"thought\", \"tea\", \"old\", \"saw\", \"ladies\", \"miss\", \"acquaintance\", \"good\", \"friends\", \"seen\", \"mother\", \"certainly\", \"boy\", \"think\", \"lady\", \"knew\", \"tell\", \"thing\", \"way\", \"young\", \"like\", \"toast\", \"famished\", \"portfolio\", \"generation\", \"tyrant\", \"scent\", \"needful\", \"villain\", \"deviation\", \"rascal\", \"beef\", \"wheeled\", \"lloyd\", \"weekly\", \"unlocked\", \"petit\", \"fervid\", \"feasted\", \"hostess\", \"spurned\", \"harass\", \"sprain\", \"frigid\", \"supplication\", \"liberally\", \"fragrant\", \"strikingly\", \"statement\", \"brutal\", \"pencilled\", \"meat\", \"discerned\", \"helen\", \"tray\", \"butter\", \"cups\", \"temple\", \"irritated\", \"bread\", \"hunsden\", \"tea\", \"crimsworth\", \"depth\", \"owing\", \"adele\", \"dirty\", \"property\", \"rang\", \"salary\", \"servant\", \"burns\", \"live\", \"bell\", \"table\", \"having\", \"miss\", \"nature\", \"come\", \"suppose\", \"little\", \"taken\", \"family\", \"heart\", \"eyes\", \"shall\", \"soon\", \"good\", \"looking\", \"till\", \"felt\", \"think\", \"impediment\", \"whitcross\", \"earthquake\", \"misunderstand\", \"insuperable\", \"scenery\", \"moors\", \"solve\", \"winning\", \"brightening\", \"aghast\", \"abandon\", \"surmises\", \"misty\", \"beckoned\", \"ornamented\", \"hazardous\", \"superfluous\", \"wondrous\", \"traverse\", \"visitation\", \"accorded\", \"monitor\", \"craving\", \"musings\", \"bands\", \"aspirations\", \"argue\", \"contemplate\", \"strangeness\", \"mason\", \"lawyer\", \"coach\", \"thousand\", \"moor\", \"diana\", \"justice\", \"pounds\", \"thornfield\", \"inn\", \"sisters\", \"marry\", \"explained\", \"mary\", \"journey\", \"repeat\", \"shook\", \"free\", \"labour\", \"st\", \"sign\", \"like\", \"recalled\", \"home\", \"want\", \"asked\", \"mere\", \"know\", \"shall\", \"thought\", \"yes\", \"john\", \"tell\", \"brother\", \"rochester\", \"jane\", \"heard\", \"soon\", \"house\", \"doubt\"], \"Freq\": [1327.0, 1716.0, 1508.0, 1421.0, 819.0, 1130.0, 1344.0, 648.0, 1311.0, 907.0, 1298.0, 896.0, 700.0, 918.0, 668.0, 499.0, 640.0, 622.0, 922.0, 618.0, 829.0, 1062.0, 779.0, 591.0, 655.0, 758.0, 415.0, 495.0, 654.0, 321.0, 54.535972595214844, 29.842573165893555, 36.509647369384766, 21.04654312133789, 20.973756790161133, 22.896602630615234, 29.237394332885742, 20.94729232788086, 16.149484634399414, 18.022897720336914, 21.8388614654541, 26.593360900878906, 25.62059783935547, 37.87220764160156, 15.102386474609375, 16.945165634155273, 111.973876953125, 15.050993919372559, 20.64412498474121, 15.043288230895996, 14.08769416809082, 14.084284782409668, 14.088643074035645, 15.953431129455566, 14.073838233947754, 15.009275436401367, 13.120201110839844, 14.054712295532227, 15.949753761291504, 25.0391788482666, 28.8968505859375, 21.585723876953125, 17.78636360168457, 40.31825637817383, 22.25244140625, 87.81656646728516, 69.84838104248047, 66.15187072753906, 125.28336334228516, 297.1675109863281, 86.29015350341797, 37.9343147277832, 33.66554641723633, 189.89015197753906, 65.54520416259766, 77.76666259765625, 45.74703598022461, 135.1251678466797, 52.002227783203125, 55.85558319091797, 112.58757781982422, 157.9796142578125, 124.19290924072266, 183.99578857421875, 451.5639953613281, 181.5952911376953, 139.79005432128906, 146.23260498046875, 95.31803894042969, 93.10022735595703, 182.59910583496094, 349.5071716308594, 177.11497497558594, 224.13925170898438, 109.62922668457031, 187.88111877441406, 768.4757080078125, 397.12677001953125, 273.8096008300781, 138.89248657226562, 353.5329284667969, 218.69393920898438, 371.21624755859375, 396.5844421386719, 321.60601806640625, 485.41766357421875, 545.5164184570312, 251.98410034179688, 705.62548828125, 392.1110534667969, 275.6460876464844, 340.2174072265625, 467.64862060546875, 358.1513366699219, 316.6985168457031, 369.2622375488281, 470.890869140625, 475.4356689453125, 473.4077453613281, 361.09747314453125, 267.12249755859375, 264.5806884765625, 298.8505859375, 268.9558410644531, 322.9659423828125, 289.8626403808594, 336.014892578125, 307.646240234375, 282.3097839355469, 228.85406494140625, 559.9850463867188, 211.98638916015625, 35.73817443847656, 662.9002685546875, 37.598331451416016, 17.219722747802734, 26.867351531982422, 98.980712890625, 139.20809936523438, 108.96573638916016, 35.121402740478516, 35.26936340332031, 18.948020935058594, 16.012794494628906, 29.23689842224121, 10.282449722290039, 11.036660194396973, 65.6920394897461, 82.91059112548828, 23.603836059570312, 117.84321594238281, 45.489437103271484, 276.2681579589844, 7.11652135848999, 7.084895610809326, 6.183096885681152, 10.680726051330566, 7.054123878479004, 6.142851829528809, 49.33259201049805, 154.60726928710938, 65.0247802734375, 27.257549285888672, 111.78627014160156, 34.62196350097656, 211.49729919433594, 259.1280212402344, 503.5902404785156, 255.0482940673828, 449.2192687988281, 313.31085205078125, 64.93721008300781, 198.07481384277344, 300.2400207519531, 311.0608825683594, 94.26094818115234, 177.44171142578125, 176.64370727539062, 127.61404418945312, 303.6671447753906, 411.9332275390625, 331.52618408203125, 151.72763061523438, 281.22760009765625, 286.92474365234375, 214.3154296875, 205.4919891357422, 248.7856903076172, 220.99563598632812, 241.9524383544922, 197.1800994873047, 172.29000854492188, 180.54978942871094, 172.4636688232422, 14.732680320739746, 11.199945449829102, 11.965867042541504, 7.5163116455078125, 6.54185152053833, 6.485590934753418, 4.679772853851318, 5.459135055541992, 4.371618747711182, 6.538001537322998, 6.577120304107666, 5.592864036560059, 5.591808795928955, 16.75509262084961, 43.159915924072266, 9.516258239746094, 4.704385757446289, 4.681519031524658, 5.3854522705078125, 3.7717530727386475, 5.952569484710693, 3.762547016143799, 4.520395755767822, 3.824601650238037, 4.455556392669678, 7.468203544616699, 3.799246311187744, 4.958209991455078, 95.84519958496094, 4.711661338806152, 27.83253288269043, 16.649429321289062, 20.843177795410156, 25.02110481262207, 60.73213195800781, 29.055339813232422, 176.8533172607422, 380.4452209472656, 15.127961158752441, 175.67660522460938, 156.56494140625, 103.44489288330078, 300.6692199707031, 495.1197509765625, 51.15785217285156, 268.2803039550781, 38.892799377441406, 194.55191040039062, 200.1035614013672, 88.8966064453125, 110.23320007324219, 130.26564025878906, 182.58670043945312, 176.49322509765625, 34.35395431518555, 217.25315856933594, 114.11039733886719, 268.1018371582031, 283.4787902832031, 178.86192321777344, 127.65475463867188, 111.13925170898438, 182.2635040283203, 171.86087036132812, 85.22110748291016, 179.88487243652344, 222.6556854248047, 136.3638458251953, 217.30038452148438, 132.37158203125, 178.62796020507812, 140.63636779785156, 121.85794067382812, 130.99671936035156, 128.78164672851562, 119.06168365478516, 11.600322723388672, 22.94987678527832, 10.636557579040527, 13.111700057983398, 11.381388664245605, 8.710779190063477, 10.369865417480469, 8.529942512512207, 20.512855529785156, 5.849186420440674, 5.860097885131836, 33.27215576171875, 6.685338973999023, 5.835620403289795, 62.05575942993164, 6.6663923263549805, 7.340336322784424, 6.582055568695068, 5.736110687255859, 4.873754024505615, 99.80812072753906, 22.06385612487793, 4.871987342834473, 5.66684103012085, 16.798635482788086, 4.835783958435059, 20.358266830444336, 8.142026901245117, 42.97428894042969, 52.99188995361328, 92.07913970947266, 16.212345123291016, 14.716753959655762, 48.719268798828125, 25.258098602294922, 11.306403160095215, 24.748027801513672, 91.55148315429688, 29.957504272460938, 27.445650100708008, 59.29254150390625, 70.24673461914062, 18.169349670410156, 26.838369369506836, 62.76140213012695, 32.21590805053711, 92.51241302490234, 127.04965209960938, 62.0897102355957, 138.39462280273438, 45.23089599609375, 57.0274658203125, 51.306156158447266, 83.85242462158203, 240.49354553222656, 51.433353424072266, 137.2368927001953, 57.869239807128906, 57.08587646484375, 75.92768859863281, 35.7824821472168, 87.6841812133789, 53.82518768310547, 74.2196273803711, 61.63113784790039, 72.27459716796875, 84.72991943359375, 85.4980697631836, 83.58788299560547, 68.36150360107422, 75.07527923583984, 76.79242706298828, 74.99928283691406, 70.83462524414062, 62.505828857421875, 62.1947021484375, 60.0592155456543, 59.504093170166016, 9.019186019897461, 6.349307060241699, 4.557522773742676, 6.8478803634643555, 65.8972396850586, 6.802055835723877, 10.117043495178223, 6.501319408416748, 6.541015148162842, 19.620237350463867, 8.59392261505127, 14.826369285583496, 18.995136260986328, 3.8349716663360596, 3.428333282470703, 7.745092868804932, 6.073774337768555, 10.174040794372559, 4.929037094116211, 29.177780151367188, 3.840066909790039, 3.352778434753418, 4.208975791931152, 17.58734703063965, 248.9489288330078, 3.7920033931732178, 4.075630187988281, 18.949464797973633, 9.60645866394043, 6.379427909851074, 8.16224479675293, 22.316913604736328, 129.62844848632812, 138.0423583984375, 7.125365257263184, 97.3049545288086, 223.86721801757812, 103.2540512084961, 78.27711486816406, 48.15663146972656, 32.74237823486328, 49.49421691894531, 72.46554565429688, 115.7599105834961, 47.17245864868164, 93.69651794433594, 40.787925720214844, 127.56623840332031, 82.28488159179688, 121.25617218017578, 34.551387786865234, 52.00462341308594, 61.2061653137207, 104.45316314697266, 99.20464324951172, 44.18981170654297, 97.9970703125, 69.3662338256836, 56.12711715698242, 56.48881530761719, 54.369171142578125, 54.453338623046875, 67.12799835205078, 66.4843978881836, 61.11625671386719, 52.09492111206055, 48.34791564941406, 41.71672821044922, 2.82485294342041, 11.072254180908203, 9.599854469299316, 2.719243288040161, 2.885904550552368, 2.8222055435180664, 6.501266002655029, 6.458780765533447, 2.946737766265869, 4.76052188873291, 3.7782974243164062, 3.619946241378784, 2.828312397003174, 20.484683990478516, 2.7827401161193848, 3.131178855895996, 2.8190176486968994, 3.5893313884735107, 4.306585788726807, 2.6243467330932617, 3.8243374824523926, 4.163469314575195, 5.129310131072998, 18.85309600830078, 58.49623489379883, 2.888739824295044, 2.552785873413086, 2.8674416542053223, 2.091357946395874, 263.4792785644531, 118.04444122314453, 10.316766738891602, 81.46284484863281, 33.620269775390625, 85.93849182128906, 13.471816062927246, 108.17623138427734, 24.04138946533203, 76.45012664794922, 20.93643569946289, 11.109132766723633, 74.0948486328125, 29.26528549194336, 56.587772369384766, 43.61699295043945, 9.222766876220703, 36.24711227416992, 88.40425872802734, 59.437721252441406, 123.56945037841797, 30.37965202331543, 52.68271255493164, 48.48102569580078, 43.364845275878906, 63.89060974121094, 76.67681884765625, 87.43543243408203, 71.680419921875, 47.27830123901367, 55.09408950805664, 62.55223846435547, 54.41371154785156, 57.98613739013672, 50.54964828491211, 47.75279235839844, 45.5771369934082, 43.46954345703125, 43.070220947265625, 6.493580341339111, 6.473361015319824, 7.6778764724731445, 3.8547797203063965, 3.6761958599090576, 4.668132305145264, 3.446911573410034, 4.374295234680176, 3.8198049068450928, 5.953705310821533, 4.756130218505859, 5.854475975036621, 3.638381004333496, 5.027526378631592, 3.4710559844970703, 4.249523162841797, 2.919210433959961, 5.170987129211426, 2.699680805206299, 6.043366432189941, 2.7517504692077637, 6.154077529907227, 2.657222032546997, 2.626235246658325, 5.884583950042725, 3.6573328971862793, 4.443284034729004, 2.773268938064575, 2.3207154273986816, 2.860475778579712, 7.9259467124938965, 6.506941795349121, 68.85462951660156, 34.5897331237793, 14.253473281860352, 9.077760696411133, 10.320924758911133, 32.867923736572266, 13.75307559967041, 9.827349662780762, 75.24445343017578, 15.84880542755127, 19.781766891479492, 80.57097625732422, 24.588361740112305, 33.57716751098633, 25.651996612548828, 37.00041198730469, 54.05813217163086, 83.00222778320312, 28.862308502197266, 23.305837631225586, 38.87562561035156, 15.470270156860352, 54.63219451904297, 34.742164611816406, 49.905067443847656, 28.024044036865234, 34.78173828125, 27.443483352661133, 73.73811340332031, 68.3883056640625, 37.35669708251953, 41.23320007324219, 28.325767517089844, 34.606895446777344, 48.849178314208984, 35.06527328491211, 54.76123046875, 55.34019088745117, 50.076480865478516, 36.632850646972656, 41.816734313964844, 47.55417251586914, 42.85087585449219, 33.986656188964844, 34.76160430908203, 35.96332931518555, 33.80139923095703, 19.338186264038086, 21.87572479248047, 2.6758196353912354, 6.338414669036865, 73.64559173583984, 11.070635795593262, 11.497941970825195, 3.4960520267486572, 19.05851936340332, 7.061762809753418, 1.7863564491271973, 1.7896629571914673, 2.1935904026031494, 30.779512405395508, 1.8176990747451782, 1.7211415767669678, 2.26816987991333, 1.7307589054107666, 2.7170212268829346, 2.5894153118133545, 1.8172900676727295, 2.099520444869995, 3.301527976989746, 3.125598430633545, 1.63942289352417, 2.423762083053589, 1.5844742059707642, 3.0285212993621826, 1.580665111541748, 1.6923305988311768, 46.584251403808594, 17.929964065551758, 33.28621292114258, 27.250057220458984, 18.620447158813477, 10.098528861999512, 14.897109031677246, 29.94062614440918, 13.264386177062988, 44.718116760253906, 16.61888313293457, 8.981977462768555, 48.90838623046875, 7.199986457824707, 8.375603675842285, 22.78074836730957, 12.6155366897583, 7.846689224243164, 7.493423938751221, 15.523100852966309, 22.228984832763672, 25.561830520629883, 17.1981201171875, 25.366989135742188, 18.02955436706543, 21.302717208862305, 23.47266387939453, 21.566282272338867, 19.45615577697754, 17.32427978515625, 23.474224090576172, 21.35161018371582, 18.834383010864258, 16.952119827270508, 18.310575485229492, 18.089765548706055, 18.055728912353516, 3.42431378364563, 2.074124336242676, 2.5710713863372803, 1.8357667922973633, 1.9755744934082031, 3.478698492050171, 1.4147968292236328, 2.1171538829803467, 1.8241064548492432, 1.526381254196167, 1.424165964126587, 2.0780789852142334, 2.009627103805542, 2.0580556392669678, 1.5518373250961304, 1.9705688953399658, 1.2973788976669312, 1.4082868099212646, 1.4040443897247314, 1.943873405456543, 1.4191831350326538, 4.414980411529541, 2.732405662536621, 1.1567940711975098, 1.2306838035583496, 1.2124545574188232, 1.3203299045562744, 1.345738410949707, 2.1142940521240234, 2.7408623695373535, 2.0748043060302734, 2.343305826187134, 3.5893962383270264, 2.1481568813323975, 1.641222357749939, 4.15109395980835, 3.4596107006073, 7.936476230621338, 10.785675048828125, 3.1859230995178223, 5.486717224121094, 19.22995376586914, 13.743013381958008, 14.124990463256836, 18.880887985229492, 14.416540145874023, 18.231836318969727, 19.270496368408203, 4.663156509399414, 3.4769933223724365, 16.82636260986328, 17.155179977416992, 12.86596965789795, 4.242936611175537, 10.197591781616211, 7.545130729675293, 5.117184162139893, 5.565727710723877, 8.696100234985352, 8.429044723510742, 6.810359001159668, 6.1901469230651855, 8.379889488220215, 9.97402286529541, 6.921641826629639, 9.688312530517578, 7.5224761962890625, 6.689380168914795, 6.942757606506348, 7.637447834014893, 7.600372791290283, 8.560912132263184, 7.51847505569458, 7.779353618621826, 7.527360439300537, 6.842812538146973, 14.151789665222168, 14.74024486541748, 3.090485095977783, 3.0675771236419678, 2.014514923095703, 1.6381845474243164, 1.4859199523925781, 2.7199723720550537, 2.127509832382202, 2.3836734294891357, 1.5268957614898682, 1.5241495370864868, 1.4652647972106934, 1.4774779081344604, 1.455156922340393, 1.4324347972869873, 1.8745614290237427, 1.5229589939117432, 4.375788688659668, 1.3445281982421875, 1.556961178779602, 1.561858892440796, 1.5213623046875, 1.5243887901306152, 1.5371928215026855, 1.193313717842102, 2.0928919315338135, 2.158841848373413, 2.157198905944824, 2.2480998039245605, 2.266503095626831, 7.842038631439209, 7.1255784034729, 7.3911895751953125, 6.226093292236328, 10.602863311767578, 3.1215574741363525, 2.4867777824401855, 4.621736526489258, 11.117398262023926, 4.934187889099121, 4.0950541496276855, 10.486407279968262, 11.34805679321289, 7.1876444816589355, 14.45471477508545, 7.314095973968506, 13.247842788696289, 14.15284538269043, 13.987540245056152, 5.633750915527344, 9.117524147033691, 3.922276020050049, 9.936607360839844, 8.160317420959473, 9.889896392822266, 5.347332954406738, 9.984217643737793, 10.735977172851562, 7.922618865966797, 7.823769569396973, 9.326552391052246, 8.708902359008789, 7.119663238525391, 6.944100856781006, 6.891489028930664, 6.505781650543213, 7.810576915740967, 1.6028987169265747, 3.5761420726776123, 4.0616278648376465, 1.6544997692108154, 2.454023838043213, 2.4516053199768066, 1.6508550643920898, 1.653195858001709, 1.6502443552017212, 1.6540175676345825, 1.6472315788269043, 1.6469669342041016, 1.6513921022415161, 3.248392343521118, 7.248444557189941, 1.64951753616333, 1.6472631692886353, 1.6560736894607544, 1.6503850221633911, 1.6530141830444336, 0.8518807888031006, 1.651996374130249, 0.8562729954719543, 0.8541601896286011, 0.8536479473114014, 1.6563760042190552, 0.8456565737724304, 0.852259635925293, 0.8526067137718201, 1.6426048278808594, 2.455193281173706, 3.252840995788574, 1.6529715061187744, 5.666454315185547, 5.008982181549072, 1.652259111404419, 4.9440436363220215, 7.187688827514648, 13.215615272521973, 12.498154640197754, 11.48820972442627, 8.986151695251465, 6.536545753479004, 5.726911544799805, 5.913418292999268, 9.375696182250977, 8.150510787963867, 10.22071361541748, 4.342368125915527, 4.182365417480469, 7.375027656555176, 6.6934685707092285, 3.3884925842285156, 5.841536998748779, 8.422171592712402, 6.7445478439331055, 8.414487838745117, 8.721402168273926, 5.8320512771606445, 5.827061176300049, 7.602682113647461, 5.818059921264648, 5.779513359069824, 4.992373943328857, 4.928627967834473, 5.263086318969727, 5.055992126464844, 5.032890796661377, 2.351823329925537, 1.5784372091293335, 1.5769131183624268, 1.572766661643982, 1.360132098197937, 3.763737916946411, 1.7801408767700195, 1.5643409490585327, 1.5214966535568237, 1.341252326965332, 3.3540942668914795, 1.5654534101486206, 1.3712339401245117, 1.3604615926742554, 2.286810874938965, 2.988724708557129, 1.5741993188858032, 1.5792961120605469, 2.1364362239837646, 2.0821311473846436, 1.2910624742507935, 1.543588399887085, 2.3362905979156494, 0.8122138977050781, 0.8160490989685059, 0.8230250477790833, 0.817278265953064, 0.7835855484008789, 0.8147062063217163, 0.8012819290161133, 2.166283369064331, 1.5870262384414673, 1.4043443202972412, 2.000779390335083, 1.5757535696029663, 1.5841176509857178, 3.0377068519592285, 1.7675926685333252, 8.520936012268066, 15.350358009338379, 8.204572677612305, 7.186752796173096, 16.91398811340332, 3.534787178039551, 6.552856922149658, 5.1752543449401855, 7.961433410644531, 7.61582612991333, 5.3339667320251465, 20.72528076171875, 16.447078704833984, 14.15849781036377, 16.154367446899414, 11.791979789733887, 6.1854472160339355, 7.145013809204102, 5.326173782348633, 5.6061577796936035, 7.043966770172119, 14.938207626342773, 3.771918773651123, 8.267997741699219, 5.117490768432617, 7.647316932678223, 8.039992332458496, 5.980350017547607, 10.431751251220703, 7.366732597351074, 7.480880260467529, 7.87947940826416, 6.48087215423584, 7.705399513244629, 7.562032222747803, 7.034853458404541, 6.532692909240723, 6.841985702514648, 6.597878932952881, 1.4892902374267578, 1.3808480501174927, 1.4844402074813843, 1.305831789970398, 2.390018939971924, 1.2110247611999512, 1.1904921531677246, 1.4362293481826782, 1.4851213693618774, 1.2800743579864502, 2.8744802474975586, 1.3621633052825928, 1.4827933311462402, 1.488438367843628, 1.474325180053711, 0.7456628084182739, 1.6132556200027466, 1.4881483316421509, 1.159279465675354, 4.08101224899292, 0.7643195390701294, 1.4776957035064697, 0.7707634568214417, 1.5298491716384888, 0.76639723777771, 0.7691157460212708, 1.3229987621307373, 2.214745283126831, 0.7701058387756348, 1.4811289310455322, 2.3765876293182373, 1.610066294670105, 1.260308861732483, 10.471702575683594, 2.2109732627868652, 6.058618545532227, 15.502705574035645, 14.791301727294922, 5.7652106285095215, 5.553126811981201, 9.2829008102417, 10.9395112991333, 2.1121978759765625, 15.045398712158203, 8.897140502929688, 2.621830701828003, 8.854893684387207, 13.1376953125, 10.885229110717773, 4.582925319671631, 7.29993200302124, 8.658346176147461, 5.752505779266357, 10.864498138427734, 5.469757080078125, 10.20373249053955, 5.843789577484131, 6.391083717346191, 7.248639106750488, 5.660098552703857, 3.32847261428833, 7.801004409790039, 6.292874813079834, 5.763216495513916, 5.633909702301025, 6.018946647644043, 5.730937480926514, 5.68557071685791, 5.734282970428467, 2.4569337368011475, 1.7638238668441772, 1.8222287893295288, 1.2479043006896973, 3.666138172149658, 1.247999906539917, 1.8561632633209229, 1.2486882209777832, 0.6431451439857483, 0.6458861231803894, 0.6445098519325256, 0.6434100270271301, 1.2503111362457275, 0.6451475620269775, 0.6436214447021484, 0.6342728137969971, 0.6455273628234863, 0.6451081037521362, 0.6430606842041016, 0.6417624354362488, 0.6307758688926697, 0.6061408519744873, 0.6025733947753906, 0.6440308094024658, 0.6458346843719482, 0.6444196701049805, 0.6375640630722046, 0.6429693698883057, 0.6473338603973389, 0.6457623243331909, 1.9499688148498535, 1.2480882406234741, 4.449389457702637, 1.8546062707901, 1.3379888534545898, 1.2495026588439941, 4.335272789001465, 1.856496810913086, 3.7734429836273193, 6.203179359436035, 3.75919246673584, 3.134436845779419, 1.1933823823928833, 1.2233943939208984, 3.0940933227539062, 1.2499054670333862, 1.7171868085861206, 1.7400375604629517, 1.2513408660888672, 2.4721596240997314, 1.3143032789230347, 3.1123127937316895, 2.33252215385437, 2.9686477184295654, 3.6015868186950684, 4.85285758972168, 2.8891892433166504, 3.7544448375701904, 2.537651538848877, 3.3081791400909424, 2.2709267139434814, 2.4160659313201904, 2.5709280967712402, 2.5572941303253174, 2.5957999229431152, 2.5055902004241943, 2.472661018371582, 2.2232205867767334, 2.2205967903137207, 2.0425291061401367, 2.0223371982574463, 2.28464412689209, 2.3413984775543213, 1.088027834892273, 1.1821155548095703, 1.0001943111419678, 0.6088297963142395, 1.1832449436187744, 0.6094143986701965, 0.610780656337738, 0.6098061203956604, 0.6081441640853882, 0.6111764311790466, 0.603886067867279, 0.6100735068321228, 0.6059105396270752, 0.5907559394836426, 0.6106227040290833, 0.6097652912139893, 0.6137126684188843, 0.610224187374115, 0.6098085641860962, 0.609250545501709, 0.6094726324081421, 0.6086668372154236, 0.6062822937965393, 0.6082185506820679, 0.608000636100769, 0.6090283989906311, 0.6106533408164978, 0.6074265837669373, 4.60944938659668, 0.826029360294342, 2.912949562072754, 5.897117614746094, 1.757470965385437, 3.483786106109619, 3.479658365249634, 3.0256266593933105, 2.9785573482513428, 1.7651809453964233, 3.5108284950256348, 2.9461231231689453, 1.4977500438690186, 2.3476080894470215, 1.7657767534255981, 1.2618623971939087, 1.7715637683868408, 1.7725741863250732, 1.189158320426941, 2.351250410079956, 1.191189169883728, 4.28986120223999, 1.1819361448287964, 2.9799368381500244, 2.5547337532043457, 2.69311785697937, 1.7829698324203491, 3.8649563789367676, 3.1469810009002686, 3.1000564098358154, 2.5538806915283203, 2.5191380977630615, 2.385195255279541, 2.0706536769866943, 2.0312392711639404, 1.9641969203948975, 1.899382472038269, 1.8749788999557495, 1.8637008666992188, 1.8219741582870483], \"Total\": [1327.0, 1716.0, 1508.0, 1421.0, 819.0, 1130.0, 1344.0, 648.0, 1311.0, 907.0, 1298.0, 896.0, 700.0, 918.0, 668.0, 499.0, 640.0, 622.0, 922.0, 618.0, 829.0, 1062.0, 779.0, 591.0, 655.0, 758.0, 415.0, 495.0, 654.0, 321.0, 56.22083282470703, 31.115442276000977, 38.15993118286133, 22.023536682128906, 21.986902236938477, 24.022611618041992, 30.707664489746094, 22.030628204345703, 16.994691848754883, 19.001768112182617, 23.032146453857422, 28.049280166625977, 27.043228149414062, 40.002079010009766, 15.978680610656738, 17.945453643798828, 118.69880676269531, 15.961444854736328, 21.89500617980957, 15.9550199508667, 14.9530029296875, 14.961326599121094, 14.967336654663086, 16.96070098876953, 14.967537879943848, 15.96325397491455, 13.960915565490723, 14.95952320098877, 16.982566833496094, 26.67159080505371, 30.879854202270508, 23.021303176879883, 18.98274040222168, 43.931339263916016, 23.943063735961914, 98.66453552246094, 78.12386322021484, 74.16184997558594, 145.58547973632812, 362.92999267578125, 98.78333282470703, 41.87328338623047, 36.96646499633789, 230.2467498779297, 74.69511413574219, 89.99324035644531, 51.20794677734375, 163.14688110351562, 58.90400695800781, 63.629554748535156, 135.37510681152344, 196.42218017578125, 151.22532653808594, 233.07542419433594, 626.9485473632812, 230.7371368408203, 174.22116088867188, 185.47482299804688, 115.3077163696289, 112.52725219726562, 237.9086456298828, 502.4186096191406, 235.6894073486328, 309.60443115234375, 137.51341247558594, 256.2808532714844, 1327.8973388671875, 618.9458618164062, 402.96441650390625, 184.4260711669922, 585.0200805664062, 327.278076171875, 640.6217651367188, 706.0274658203125, 540.8344116210938, 943.938720703125, 1130.9534912109375, 410.1955871582031, 1716.65478515625, 779.0612182617188, 478.0029296875, 654.9921875, 1062.103271484375, 758.7461547851562, 643.1607055664062, 829.0586547851562, 1311.282470703125, 1344.416015625, 1421.5589599609375, 890.5032348632812, 498.0829772949219, 498.4913024902344, 687.4265747070312, 541.0235595703125, 896.0870971679688, 690.5779418945312, 1298.8740234375, 918.6404418945312, 670.2935791015625, 236.78793334960938, 579.8827514648438, 221.30587768554688, 37.599613189697266, 700.3701171875, 39.79835510253906, 18.302043914794922, 28.561052322387695, 105.23601531982422, 148.0206756591797, 116.49942016601562, 37.60822677612305, 37.7774772644043, 20.334487915039062, 17.261119842529297, 31.599525451660156, 11.126198768615723, 12.131322860717773, 72.32282257080078, 91.3402328491211, 26.0872859954834, 131.47964477539062, 50.891761779785156, 311.1424560546875, 8.020280838012695, 8.011714935302734, 7.00351619720459, 12.111532211303711, 8.017175674438477, 7.000190734863281, 56.408451080322266, 179.0031280517578, 74.77880859375, 31.090673446655273, 131.22845458984375, 39.78147506713867, 253.12973022460938, 321.768310546875, 648.1510009765625, 322.2577209472656, 598.0225219726562, 415.8789978027344, 78.90968322753906, 308.33734130859375, 628.1258544921875, 668.04736328125, 145.38796997070312, 379.61029052734375, 379.804931640625, 240.18295288085938, 922.447509765625, 1508.101806640625, 1311.282470703125, 347.3627014160156, 1298.8740234375, 1421.5589599609375, 820.7720947265625, 758.7461547851562, 1344.416015625, 1062.103271484375, 1716.65478515625, 890.5032348632812, 679.46484375, 918.6404418945312, 896.0870971679688, 15.828314781188965, 12.077413558959961, 13.018449783325195, 8.331768035888672, 7.386730194091797, 7.348410129547119, 5.494278907775879, 6.448161602020264, 5.515333652496338, 8.249713897705078, 8.353230476379395, 7.287145137786865, 7.387535095214844, 22.456459045410156, 58.199275970458984, 13.044513702392578, 6.4882330894470215, 6.477092266082764, 7.451404571533203, 5.257208347320557, 8.376252174377441, 5.316325664520264, 6.394194602966309, 5.496543884277344, 6.435956954956055, 10.8438720703125, 5.56196403503418, 7.376842975616455, 142.91099548339844, 7.087912082672119, 42.24455642700195, 25.311513900756836, 32.45198440551758, 40.88807678222656, 108.41590881347656, 48.89215087890625, 360.0833740234375, 907.8056030273438, 24.507389068603516, 417.43072509765625, 366.55682373046875, 227.96868896484375, 819.683837890625, 1508.101806640625, 104.2854995727539, 769.9443969726562, 76.35816955566406, 549.5060424804688, 579.9481811523438, 213.00660705566406, 296.63409423828125, 369.0296630859375, 591.0791015625, 609.2366333007812, 69.01808166503906, 918.6404418945312, 378.6989440917969, 1298.8740234375, 1421.5589599609375, 829.0586547851562, 499.2791748046875, 405.5437927246094, 890.5032348632812, 820.7720947265625, 268.7884521484375, 922.447509765625, 1344.416015625, 592.4488525390625, 1716.65478515625, 621.6402587890625, 1311.282470703125, 1327.8973388671875, 687.4265747070312, 1130.9534912109375, 1062.103271484375, 679.46484375, 12.597087860107422, 25.060155868530273, 11.620376586914062, 14.49756145477295, 12.611550331115723, 9.658668518066406, 11.574263572692871, 9.6630859375, 23.439313888549805, 6.7025370597839355, 6.719435214996338, 38.17860412597656, 7.690423011779785, 6.715014934539795, 71.51702880859375, 7.69519567489624, 8.53641414642334, 7.693511486053467, 6.716304302215576, 5.72379732131958, 117.33222961425781, 25.9752197265625, 5.737252235412598, 6.721428394317627, 19.936859130859375, 5.7393035888671875, 24.179994583129883, 9.679309844970703, 51.093807220458984, 63.08741760253906, 109.74595642089844, 19.321317672729492, 17.551889419555664, 59.444053649902344, 31.378463745117188, 13.618953704833984, 31.18609046936035, 127.15190887451172, 39.290771484375, 36.15663146972656, 85.04658508300781, 105.8259506225586, 23.50632095336914, 38.187164306640625, 107.93842315673828, 48.11983108520508, 184.15582275390625, 283.7614440917969, 128.0244903564453, 410.1955871582031, 85.12504577636719, 120.79134368896484, 107.99839782714844, 227.35171508789062, 1716.65478515625, 166.20652770996094, 1327.8973388671875, 247.4384307861328, 257.297119140625, 540.8344116210938, 80.41150665283203, 890.5032348632812, 239.33644104003906, 618.9458618164062, 379.804931640625, 640.6217651367188, 1130.9534912109375, 1298.8740234375, 1344.416015625, 585.3157958984375, 1062.103271484375, 1508.101806640625, 1311.282470703125, 1421.5589599609375, 498.4913024902344, 622.1373291015625, 547.023681640625, 687.4265747070312, 10.409855842590332, 7.534220218658447, 5.629929542541504, 8.49868392944336, 81.95203399658203, 8.490263938903809, 13.243803977966309, 9.441823959350586, 9.52648639678955, 30.35731315612793, 13.485822677612305, 23.66608238220215, 30.353017807006836, 6.241570472717285, 5.67231559753418, 14.136502265930176, 11.260783195495605, 19.35439682006836, 9.442452430725098, 55.95608139038086, 7.517087936401367, 6.564718723297119, 8.382847785949707, 35.08576202392578, 499.2791748046875, 7.6271562576293945, 8.242692947387695, 39.13087463378906, 19.916797637939453, 13.241790771484375, 17.018083572387695, 48.49152374267578, 366.55682373046875, 417.43072509765625, 15.164758682250977, 296.63409423828125, 819.683837890625, 369.0296630859375, 268.7884521484375, 152.29954528808594, 118.60574340820312, 213.00660705566406, 430.9316711425781, 896.0870971679688, 227.96868896484375, 769.9443969726562, 199.9854278564453, 1344.416015625, 655.4852294921875, 1298.8740234375, 151.89779663085938, 336.38818359375, 470.6173400878906, 1508.101806640625, 1421.5589599609375, 268.8489685058594, 1716.65478515625, 820.7720947265625, 495.8522644042969, 609.2366333007812, 579.9481811523438, 608.6251220703125, 1327.8973388671875, 1311.282470703125, 1130.9534912109375, 575.1912231445312, 918.6404418945312, 66.54856872558594, 5.399447441101074, 21.68560028076172, 18.86003875732422, 5.395484447479248, 5.806004047393799, 5.681617736816406, 13.128741264343262, 13.155730247497559, 6.07916259765625, 10.568489074707031, 8.608284950256348, 8.36854362487793, 6.546316146850586, 48.49152374267578, 6.596825122833252, 7.432542324066162, 6.709605693817139, 8.584171295166016, 10.656783103942871, 6.520545959472656, 9.622564315795898, 10.529870986938477, 13.20860481262207, 48.89215087890625, 152.29954528808594, 7.574321269989014, 6.699276924133301, 7.534687519073486, 5.5935163497924805, 819.683837890625, 369.0296630859375, 30.018983840942383, 296.63409423828125, 118.60574340820312, 360.0833740234375, 42.24455642700195, 499.2791748046875, 85.60082244873047, 366.55682373046875, 76.35816955566406, 36.02003860473633, 417.43072509765625, 142.91099548339844, 380.7913513183594, 268.7884521484375, 30.179706573486328, 213.00660705566406, 769.9443969726562, 495.8522644042969, 1508.101806640625, 207.60635375976562, 533.9417724609375, 489.4678955078125, 430.9316711425781, 907.8056030273438, 1298.8740234375, 1716.65478515625, 1311.282470703125, 579.9481811523438, 922.447509765625, 1344.416015625, 1130.9534912109375, 1421.5589599609375, 918.6404418945312, 896.0870971679688, 1062.103271484375, 820.7720947265625, 1327.8973388671875, 8.4479341506958, 8.451111793518066, 10.518932342529297, 5.593415260314941, 5.562878131866455, 7.491096496582031, 5.563017845153809, 7.327052116394043, 6.628953456878662, 10.391376495361328, 8.448829650878906, 10.569252967834473, 6.661211013793945, 9.580288887023926, 6.6431169509887695, 8.297800064086914, 5.75485897064209, 10.383058547973633, 5.526839256286621, 12.49129581451416, 5.706029415130615, 12.926299095153809, 5.5935163497924805, 5.535552501678467, 12.45261287689209, 7.741310119628906, 9.615074157714844, 6.027862548828125, 5.225774765014648, 6.447447776794434, 18.288320541381836, 15.164758682250977, 184.5183563232422, 90.81187438964844, 36.750831604003906, 22.829055786132812, 27.870838165283203, 117.42022705078125, 39.946712493896484, 27.545024871826172, 415.8789978027344, 53.559383392333984, 75.47626495361328, 648.1510009765625, 110.70237731933594, 177.86019897460938, 120.123291015625, 213.00660705566406, 425.16845703125, 907.8056030273438, 160.9236297607422, 115.33531188964844, 273.3508605957031, 59.62617111206055, 567.3375244140625, 261.47772216796875, 503.1772155761719, 182.12051391601562, 277.13922119140625, 199.9854278564453, 1421.5589599609375, 1298.8740234375, 379.61029052734375, 533.9417724609375, 227.96868896484375, 379.3540954589844, 896.0870971679688, 410.98883056640625, 1344.416015625, 1508.101806640625, 1311.282470703125, 495.8522644042969, 922.447509765625, 1716.65478515625, 1130.9534912109375, 455.9934997558594, 598.0225219726562, 1062.103271484375, 670.2935791015625, 22.33132553100586, 36.50425720214844, 5.278627395629883, 12.866378784179688, 160.9236297607422, 24.94221305847168, 28.238828659057617, 8.759119033813477, 51.820194244384766, 19.815227508544922, 5.30300235748291, 5.3393425941467285, 6.579878807067871, 93.61898040771484, 5.566316604614258, 5.631649494171143, 7.559001445770264, 5.992216110229492, 9.62666130065918, 9.248377799987793, 6.498418807983398, 7.544084548950195, 11.86337661743164, 11.254982948303223, 6.032116889953613, 8.947366714477539, 5.938439846038818, 11.372570037841797, 5.954559326171875, 6.565358638763428, 184.5183563232422, 71.11030578613281, 149.89068603515625, 129.6597442626953, 90.81187438964844, 49.63272476196289, 88.3187255859375, 253.12973022460938, 85.50396728515625, 495.8522644042969, 131.62281799316406, 54.80318832397461, 668.04736328125, 41.04408264160156, 52.768165588378906, 243.69683837890625, 106.05034637451172, 50.74671936035156, 47.40558624267578, 168.99868774414062, 321.768310546875, 609.2366333007812, 272.2883605957031, 648.1510009765625, 314.2504577636719, 598.0225219726562, 922.447509765625, 758.7461547851562, 579.9481811523438, 379.61029052734375, 1421.5589599609375, 1298.8740234375, 820.7720947265625, 425.16845703125, 1344.416015625, 1311.282470703125, 1716.65478515625, 4.245896816253662, 4.869728088378906, 6.625203609466553, 5.021384239196777, 5.75551176071167, 10.400944709777832, 4.615606307983398, 6.927189826965332, 6.042762756347656, 5.1017656326293945, 5.2078857421875, 7.872541427612305, 7.659271717071533, 7.933813095092773, 6.104986190795898, 7.8279266357421875, 5.181758880615234, 5.806004047393799, 5.838831901550293, 8.089170455932617, 5.926292419433594, 18.577550888061523, 11.655362129211426, 4.969521999359131, 5.322944641113281, 5.3038105964660645, 5.919742584228516, 6.049389839172363, 9.50563907623291, 12.339273452758789, 9.88383960723877, 11.585022926330566, 21.055267333984375, 10.939618110656738, 7.837927341461182, 28.953184127807617, 25.952392578125, 106.97378540039062, 183.25225830078125, 23.533809661865234, 61.94147491455078, 591.0791015625, 380.7913513183594, 478.0029296875, 907.8056030273438, 567.3375244140625, 1130.9534912109375, 1327.8973388671875, 58.82042694091797, 29.433870315551758, 1344.416015625, 1716.65478515625, 896.0870971679688, 53.283321380615234, 585.3157958984375, 276.0195617675781, 92.61316680908203, 127.15190887451172, 495.8522644042969, 549.5060424804688, 289.2513732910156, 207.60635375976562, 668.04736328125, 1311.282470703125, 336.38818359375, 1298.8740234375, 504.4637756347656, 297.7602844238281, 383.2618713378906, 640.6217651367188, 655.4852294921875, 1421.5589599609375, 654.9921875, 918.6404418945312, 758.7461547851562, 779.0612182617188, 18.942014694213867, 26.938352584838867, 8.803988456726074, 8.756864547729492, 6.124788761138916, 5.064214706420898, 4.615606307983398, 8.957184791564941, 7.099928855895996, 7.985913276672363, 5.267693996429443, 5.342308044433594, 5.233815670013428, 5.310474395751953, 5.348546981811523, 5.328616619110107, 7.167237758636475, 5.929584503173828, 17.446470260620117, 5.386657238006592, 6.285369396209717, 6.3169026374816895, 6.23195743560791, 6.258340358734131, 6.341614246368408, 4.974612712860107, 8.742768287658691, 9.110092163085938, 9.146793365478516, 9.73621654510498, 9.957448959350586, 53.23245620727539, 53.58120346069336, 58.38972473144531, 48.52731704711914, 227.35171508789062, 22.90165901184082, 14.967476844787598, 51.692684173583984, 304.9569396972656, 62.69015884399414, 44.87486267089844, 410.1955871582031, 502.4186096191406, 193.50601196289062, 1130.9534912109375, 209.72674560546875, 1062.103271484375, 1327.8973388671875, 1508.101806640625, 133.14295959472656, 585.3157958984375, 51.832984924316406, 896.0870971679688, 504.4637756347656, 943.938720703125, 145.58547973632812, 1298.8740234375, 1716.65478515625, 618.9458618164062, 654.9921875, 1421.5589599609375, 1311.282470703125, 585.0200805664062, 622.1373291015625, 640.6217651367188, 511.17279052734375, 21.521345138549805, 5.100595474243164, 12.731840133666992, 15.168312072753906, 6.473484992980957, 9.869049072265625, 10.230996131896973, 7.133514404296875, 7.145660877227783, 7.1611528396606445, 7.3512654304504395, 7.416751861572266, 7.434516906738281, 7.471787452697754, 15.153545379638672, 35.154022216796875, 8.32449722290039, 9.239102363586426, 9.309013366699219, 9.341225624084473, 9.461332321166992, 4.916009426116943, 9.673580169677734, 5.064214706420898, 5.0873260498046875, 5.193500518798828, 10.227642059326172, 5.234013080596924, 5.278252124786377, 5.326348781585693, 10.510199546813965, 16.30710220336914, 24.020092010498047, 11.213661193847656, 48.45170974731445, 43.461849212646484, 11.357293128967285, 59.444053649902344, 145.58547973632812, 618.9458618164062, 640.6217651367188, 622.1373291015625, 397.8523254394531, 227.35171508789062, 196.42218017578125, 236.35574340820312, 779.0612182617188, 591.0791015625, 1327.8973388671875, 118.69880676269531, 115.41856384277344, 687.4265747070312, 516.418701171875, 63.78568649291992, 362.5653991699219, 1311.282470703125, 654.9921875, 1421.5589599609375, 1716.65478515625, 407.0177307128906, 411.2628173828125, 1344.416015625, 502.4186096191406, 626.9485473632812, 288.9594421386719, 349.7884826660156, 1130.9534912109375, 540.1327514648438, 608.6251220703125, 7.101400852203369, 5.238370418548584, 5.337000846862793, 5.397216320037842, 5.256352424621582, 14.615747451782227, 7.970477104187012, 7.2367024421691895, 7.19814395904541, 6.352777481079102, 16.11687660217285, 8.091612815856934, 7.2002739906311035, 7.28688907623291, 12.338342666625977, 16.44257926940918, 8.728805541992188, 8.759119033813477, 11.86337661743164, 12.085250854492188, 7.514396667480469, 9.196731567382812, 13.953672409057617, 5.0625739097595215, 5.3393425941467285, 5.399447441101074, 5.3675408363342285, 5.152284145355225, 5.397066116333008, 5.334378719329834, 14.893617630004883, 10.825403213500977, 9.531906127929688, 14.570107460021973, 11.143333435058594, 11.26325798034668, 23.77548599243164, 12.834012985229492, 85.50396728515625, 179.0031280517578, 92.61316680908203, 90.98857879638672, 321.768310546875, 34.651512145996094, 90.81187438964844, 64.5835952758789, 131.47964477539062, 129.6597442626953, 75.47626495361328, 896.0870971679688, 655.4852294921875, 495.8522644042969, 648.1510009765625, 415.8789978027344, 124.79931640625, 171.683349609375, 93.61898040771484, 106.05034637451172, 182.12051391601562, 1311.282470703125, 45.17392349243164, 340.2828369140625, 102.6718521118164, 367.1297302246094, 430.9316711425781, 184.5183563232422, 1130.9534912109375, 379.61029052734375, 425.16845703125, 628.1258544921875, 329.46923828125, 918.6404418945312, 1344.416015625, 758.7461547851562, 533.9417724609375, 922.447509765625, 907.8056030273438, 5.245933532714844, 5.32190465927124, 5.956663608551025, 5.365139961242676, 9.995142936706543, 5.330907344818115, 5.329710960388184, 6.828135013580322, 7.140883922576904, 6.25730562210083, 14.835468292236328, 7.377805709838867, 8.071054458618164, 8.131141662597656, 8.124526977539062, 4.143813133239746, 9.444267272949219, 9.343162536621094, 7.397738456726074, 26.160398483276367, 4.95807409286499, 9.673580169677734, 5.0797038078308105, 10.20274829864502, 5.113974571228027, 5.193500518798828, 9.11225700378418, 15.351292610168457, 5.377077579498291, 10.355179786682129, 16.652013778686523, 11.744214057922363, 8.971908569335938, 107.93842315673828, 17.352590560913086, 58.220149993896484, 239.33644104003906, 227.35171508789062, 66.53669738769531, 85.12504577636719, 222.82188415527344, 379.804931640625, 19.613685607910156, 1421.5589599609375, 487.5943603515625, 32.9831657409668, 622.1373291015625, 1716.65478515625, 1130.9534912109375, 134.2610321044922, 478.0029296875, 779.0612182617188, 266.77130126953125, 1508.101806640625, 242.45895385742188, 1344.416015625, 309.30645751953125, 446.6366271972656, 668.04736328125, 331.6772766113281, 66.84110260009766, 1298.8740234375, 628.1258544921875, 547.023681640625, 540.1327514648438, 769.9443969726562, 690.5779418945312, 655.4852294921875, 1327.8973388671875, 7.262413501739502, 6.366889953613281, 7.133514404296875, 5.64326286315918, 17.408361434936523, 6.775885105133057, 11.533477783203125, 7.982421875, 5.022481918334961, 5.0625739097595215, 5.113974571228027, 5.234013080596924, 10.400944709777832, 5.411633491516113, 5.405580520629883, 5.35561466217041, 5.469648361206055, 5.47243070602417, 5.48197603225708, 5.484293460845947, 5.390499114990234, 5.46262264251709, 5.465060234069824, 5.992216110229492, 6.027862548828125, 6.1849775314331055, 6.148738861083984, 6.302148818969727, 6.390879154205322, 6.399010181427002, 19.477375030517578, 12.670690536499023, 58.38972473144531, 21.68868064880371, 14.822518348693848, 13.968859672546387, 72.29338836669922, 24.832469940185547, 71.47955322265625, 145.58547973632812, 134.2610321044922, 98.78333282470703, 18.18008041381836, 19.85710334777832, 135.37510681152344, 22.14544105529785, 44.8095703125, 51.029701232910156, 23.8372745513916, 120.9400634765625, 26.938352584838867, 212.2681427001953, 108.19695281982422, 236.35574340820312, 533.9417724609375, 1508.101806640625, 310.1358642578125, 829.0586547851562, 341.96527099609375, 1716.65478515625, 251.48158264160156, 379.61029052734375, 654.9921875, 640.6217651367188, 918.6404418945312, 922.447509765625, 1344.416015625, 375.1777648925781, 516.418701171875, 670.2935791015625, 1298.8740234375, 6.99697732925415, 9.121161460876465, 5.067218780517578, 6.905550956726074, 6.055013656616211, 4.974612712860107, 10.052071571350098, 5.1990203857421875, 5.322141170501709, 5.350742340087891, 5.3845534324646, 5.425995826721191, 5.366925239562988, 5.433417797088623, 5.444823265075684, 5.391181945800781, 6.180392742156982, 6.228757858276367, 6.353499889373779, 6.424164295196533, 6.424140453338623, 6.44563102722168, 6.452674865722656, 6.445969581604004, 6.420750617980957, 6.450088977813721, 6.449968338012695, 7.1719279289245605, 7.317904472351074, 7.331374168395996, 56.88489532470703, 10.123528480529785, 40.55571365356445, 129.6597442626953, 27.763086318969727, 74.16184997558594, 86.37464904785156, 93.61898040771484, 98.66453552246094, 43.18364715576172, 183.25225830078125, 199.9854278564453, 45.04182434082031, 149.41567993164062, 78.76969909667969, 34.43850326538086, 85.91011810302734, 87.57070922851562, 31.21984100341797, 196.42218017578125, 33.39339065551758, 1327.8973388671875, 33.58161926269531, 489.4678955078125, 321.73126220703125, 397.8523254394531, 116.1331787109375, 1421.5589599609375, 918.6404418945312, 1130.9534912109375, 592.4488525390625, 622.1373291015625, 540.1327514648438, 284.6665954589844, 362.92999267578125, 907.8056030273438, 621.6402587890625, 922.447509765625, 758.7461547851562, 313.7326965332031], \"Category\": [\"Default\", \"Default\", \"Default\", \"Default\", \"Default\", \"Default\", \"Default\", \"Default\", \"Default\", \"Default\", \"Default\", \"Default\", \"Default\", \"Default\", \"Default\", \"Default\", \"Default\", \"Default\", \"Default\", \"Default\", \"Default\", \"Default\", \"Default\", \"Default\", \"Default\", \"Default\", \"Default\", \"Default\", \"Default\", \"Default\", \"Topic1\", \"Topic1\", \"Topic1\", \"Topic1\", \"Topic1\", \"Topic1\", \"Topic1\", \"Topic1\", \"Topic1\", \"Topic1\", \"Topic1\", \"Topic1\", \"Topic1\", \"Topic1\", \"Topic1\", \"Topic1\", \"Topic1\", \"Topic1\", \"Topic1\", \"Topic1\", \"Topic1\", \"Topic1\", \"Topic1\", \"Topic1\", \"Topic1\", \"Topic1\", \"Topic1\", \"Topic1\", \"Topic1\", \"Topic1\", \"Topic1\", \"Topic1\", \"Topic1\", \"Topic1\", \"Topic1\", \"Topic1\", \"Topic1\", \"Topic1\", \"Topic1\", \"Topic1\", \"Topic1\", \"Topic1\", \"Topic1\", \"Topic1\", \"Topic1\", \"Topic1\", \"Topic1\", \"Topic1\", \"Topic1\", \"Topic1\", \"Topic1\", \"Topic1\", \"Topic1\", \"Topic1\", \"Topic1\", \"Topic1\", \"Topic1\", \"Topic1\", \"Topic1\", \"Topic1\", \"Topic1\", \"Topic1\", \"Topic1\", \"Topic1\", \"Topic1\", \"Topic1\", \"Topic1\", \"Topic1\", \"Topic1\", \"Topic1\", \"Topic1\", \"Topic1\", \"Topic1\", \"Topic1\", \"Topic1\", \"Topic1\", \"Topic1\", \"Topic1\", \"Topic1\", \"Topic1\", \"Topic1\", \"Topic1\", \"Topic1\", \"Topic1\", \"Topic1\", \"Topic1\", \"Topic1\", \"Topic1\", \"Topic1\", \"Topic1\", \"Topic1\", \"Topic1\", \"Topic1\", \"Topic1\", \"Topic1\", \"Topic1\", \"Topic1\", \"Topic1\", \"Topic1\", \"Topic2\", \"Topic2\", \"Topic2\", \"Topic2\", \"Topic2\", \"Topic2\", \"Topic2\", \"Topic2\", \"Topic2\", \"Topic2\", \"Topic2\", \"Topic2\", \"Topic2\", \"Topic2\", \"Topic2\", \"Topic2\", \"Topic2\", \"Topic2\", \"Topic2\", \"Topic2\", \"Topic2\", \"Topic2\", \"Topic2\", \"Topic2\", \"Topic2\", \"Topic2\", \"Topic2\", \"Topic2\", \"Topic2\", \"Topic2\", \"Topic2\", \"Topic2\", \"Topic2\", \"Topic2\", \"Topic2\", \"Topic2\", \"Topic2\", \"Topic2\", \"Topic2\", \"Topic2\", \"Topic2\", \"Topic2\", \"Topic2\", \"Topic2\", \"Topic2\", \"Topic2\", \"Topic2\", \"Topic2\", \"Topic2\", \"Topic2\", \"Topic2\", \"Topic2\", \"Topic2\", \"Topic2\", \"Topic2\", \"Topic2\", \"Topic2\", \"Topic2\", \"Topic2\", \"Topic2\", \"Topic2\", \"Topic2\", \"Topic2\", \"Topic2\", \"Topic2\", \"Topic3\", \"Topic3\", \"Topic3\", \"Topic3\", \"Topic3\", \"Topic3\", \"Topic3\", \"Topic3\", \"Topic3\", \"Topic3\", \"Topic3\", \"Topic3\", \"Topic3\", \"Topic3\", \"Topic3\", \"Topic3\", \"Topic3\", \"Topic3\", \"Topic3\", \"Topic3\", \"Topic3\", \"Topic3\", \"Topic3\", \"Topic3\", \"Topic3\", \"Topic3\", \"Topic3\", \"Topic3\", \"Topic3\", \"Topic3\", \"Topic3\", \"Topic3\", \"Topic3\", \"Topic3\", \"Topic3\", \"Topic3\", \"Topic3\", \"Topic3\", \"Topic3\", \"Topic3\", \"Topic3\", \"Topic3\", \"Topic3\", \"Topic3\", \"Topic3\", \"Topic3\", \"Topic3\", \"Topic3\", \"Topic3\", \"Topic3\", \"Topic3\", \"Topic3\", \"Topic3\", \"Topic3\", \"Topic3\", \"Topic3\", \"Topic3\", \"Topic3\", \"Topic3\", \"Topic3\", \"Topic3\", \"Topic3\", \"Topic3\", \"Topic3\", \"Topic3\", \"Topic3\", \"Topic3\", \"Topic3\", \"Topic3\", \"Topic3\", \"Topic3\", \"Topic3\", \"Topic3\", \"Topic3\", \"Topic3\", \"Topic3\", \"Topic4\", \"Topic4\", \"Topic4\", \"Topic4\", \"Topic4\", \"Topic4\", \"Topic4\", \"Topic4\", \"Topic4\", \"Topic4\", \"Topic4\", \"Topic4\", \"Topic4\", \"Topic4\", \"Topic4\", \"Topic4\", \"Topic4\", \"Topic4\", \"Topic4\", \"Topic4\", \"Topic4\", \"Topic4\", \"Topic4\", \"Topic4\", \"Topic4\", \"Topic4\", \"Topic4\", \"Topic4\", \"Topic4\", \"Topic4\", \"Topic4\", \"Topic4\", \"Topic4\", \"Topic4\", \"Topic4\", \"Topic4\", \"Topic4\", \"Topic4\", \"Topic4\", \"Topic4\", \"Topic4\", \"Topic4\", \"Topic4\", \"Topic4\", \"Topic4\", \"Topic4\", \"Topic4\", \"Topic4\", \"Topic4\", \"Topic4\", \"Topic4\", \"Topic4\", \"Topic4\", \"Topic4\", \"Topic4\", \"Topic4\", \"Topic4\", \"Topic4\", \"Topic4\", \"Topic4\", \"Topic4\", \"Topic4\", \"Topic4\", \"Topic4\", \"Topic4\", \"Topic4\", \"Topic4\", \"Topic4\", \"Topic4\", \"Topic4\", \"Topic4\", \"Topic4\", \"Topic4\", \"Topic4\", \"Topic4\", \"Topic4\", \"Topic4\", \"Topic4\", \"Topic5\", \"Topic5\", \"Topic5\", \"Topic5\", \"Topic5\", \"Topic5\", \"Topic5\", \"Topic5\", \"Topic5\", \"Topic5\", \"Topic5\", \"Topic5\", \"Topic5\", \"Topic5\", \"Topic5\", \"Topic5\", \"Topic5\", \"Topic5\", \"Topic5\", \"Topic5\", \"Topic5\", \"Topic5\", \"Topic5\", \"Topic5\", \"Topic5\", \"Topic5\", \"Topic5\", \"Topic5\", \"Topic5\", \"Topic5\", \"Topic5\", \"Topic5\", \"Topic5\", \"Topic5\", \"Topic5\", \"Topic5\", \"Topic5\", \"Topic5\", \"Topic5\", \"Topic5\", \"Topic5\", \"Topic5\", \"Topic5\", \"Topic5\", \"Topic5\", \"Topic5\", \"Topic5\", \"Topic5\", \"Topic5\", \"Topic5\", \"Topic5\", \"Topic5\", \"Topic5\", \"Topic5\", \"Topic5\", \"Topic5\", \"Topic5\", \"Topic5\", \"Topic5\", \"Topic5\", \"Topic5\", \"Topic5\", \"Topic5\", \"Topic5\", \"Topic5\", \"Topic5\", \"Topic5\", \"Topic6\", \"Topic6\", \"Topic6\", \"Topic6\", \"Topic6\", \"Topic6\", \"Topic6\", \"Topic6\", \"Topic6\", \"Topic6\", \"Topic6\", \"Topic6\", \"Topic6\", \"Topic6\", \"Topic6\", \"Topic6\", \"Topic6\", \"Topic6\", \"Topic6\", \"Topic6\", \"Topic6\", \"Topic6\", \"Topic6\", \"Topic6\", \"Topic6\", \"Topic6\", \"Topic6\", \"Topic6\", \"Topic6\", \"Topic6\", \"Topic6\", \"Topic6\", \"Topic6\", \"Topic6\", \"Topic6\", \"Topic6\", \"Topic6\", \"Topic6\", \"Topic6\", \"Topic6\", \"Topic6\", \"Topic6\", \"Topic6\", \"Topic6\", \"Topic6\", \"Topic6\", \"Topic6\", \"Topic6\", \"Topic6\", \"Topic6\", \"Topic6\", \"Topic6\", \"Topic6\", \"Topic6\", \"Topic6\", \"Topic6\", \"Topic6\", \"Topic6\", \"Topic6\", \"Topic6\", \"Topic6\", \"Topic6\", \"Topic6\", \"Topic6\", \"Topic6\", \"Topic6\", \"Topic6\", \"Topic6\", \"Topic6\", \"Topic7\", \"Topic7\", \"Topic7\", \"Topic7\", \"Topic7\", \"Topic7\", \"Topic7\", \"Topic7\", \"Topic7\", \"Topic7\", \"Topic7\", \"Topic7\", \"Topic7\", \"Topic7\", \"Topic7\", \"Topic7\", \"Topic7\", \"Topic7\", \"Topic7\", \"Topic7\", \"Topic7\", \"Topic7\", \"Topic7\", \"Topic7\", \"Topic7\", \"Topic7\", \"Topic7\", \"Topic7\", \"Topic7\", \"Topic7\", \"Topic7\", \"Topic7\", \"Topic7\", \"Topic7\", \"Topic7\", \"Topic7\", \"Topic7\", \"Topic7\", \"Topic7\", \"Topic7\", \"Topic7\", \"Topic7\", \"Topic7\", \"Topic7\", \"Topic7\", \"Topic7\", \"Topic7\", \"Topic7\", \"Topic7\", \"Topic7\", \"Topic7\", \"Topic7\", \"Topic7\", \"Topic7\", \"Topic7\", \"Topic7\", \"Topic7\", \"Topic7\", \"Topic7\", \"Topic7\", \"Topic7\", \"Topic7\", \"Topic7\", \"Topic7\", \"Topic7\", \"Topic7\", \"Topic7\", \"Topic7\", \"Topic7\", \"Topic7\", \"Topic7\", \"Topic7\", \"Topic7\", \"Topic7\", \"Topic7\", \"Topic7\", \"Topic7\", \"Topic7\", \"Topic7\", \"Topic8\", \"Topic8\", \"Topic8\", \"Topic8\", \"Topic8\", \"Topic8\", \"Topic8\", \"Topic8\", \"Topic8\", \"Topic8\", \"Topic8\", \"Topic8\", \"Topic8\", \"Topic8\", \"Topic8\", \"Topic8\", \"Topic8\", \"Topic8\", \"Topic8\", \"Topic8\", \"Topic8\", \"Topic8\", \"Topic8\", \"Topic8\", \"Topic8\", \"Topic8\", \"Topic8\", \"Topic8\", \"Topic8\", \"Topic8\", \"Topic8\", \"Topic8\", \"Topic8\", \"Topic8\", \"Topic8\", \"Topic8\", \"Topic8\", \"Topic8\", \"Topic8\", \"Topic8\", \"Topic8\", \"Topic8\", \"Topic8\", \"Topic8\", \"Topic8\", \"Topic8\", \"Topic8\", \"Topic8\", \"Topic8\", \"Topic8\", \"Topic8\", \"Topic8\", \"Topic8\", \"Topic8\", \"Topic8\", \"Topic8\", \"Topic8\", \"Topic8\", \"Topic8\", \"Topic8\", \"Topic8\", \"Topic8\", \"Topic8\", \"Topic8\", \"Topic8\", \"Topic8\", \"Topic8\", \"Topic9\", \"Topic9\", \"Topic9\", \"Topic9\", \"Topic9\", \"Topic9\", \"Topic9\", \"Topic9\", \"Topic9\", \"Topic9\", \"Topic9\", \"Topic9\", \"Topic9\", \"Topic9\", \"Topic9\", \"Topic9\", \"Topic9\", \"Topic9\", \"Topic9\", \"Topic9\", \"Topic9\", \"Topic9\", \"Topic9\", \"Topic9\", \"Topic9\", \"Topic9\", \"Topic9\", \"Topic9\", \"Topic9\", \"Topic9\", \"Topic9\", \"Topic9\", \"Topic9\", \"Topic9\", \"Topic9\", \"Topic9\", \"Topic9\", \"Topic9\", \"Topic9\", \"Topic9\", \"Topic9\", \"Topic9\", \"Topic9\", \"Topic9\", \"Topic9\", \"Topic9\", \"Topic9\", \"Topic9\", \"Topic9\", \"Topic9\", \"Topic9\", \"Topic9\", \"Topic9\", \"Topic9\", \"Topic9\", \"Topic9\", \"Topic9\", \"Topic9\", \"Topic9\", \"Topic9\", \"Topic9\", \"Topic9\", \"Topic9\", \"Topic9\", \"Topic9\", \"Topic9\", \"Topic9\", \"Topic9\", \"Topic9\", \"Topic9\", \"Topic9\", \"Topic9\", \"Topic9\", \"Topic9\", \"Topic9\", \"Topic9\", \"Topic10\", \"Topic10\", \"Topic10\", \"Topic10\", \"Topic10\", \"Topic10\", \"Topic10\", \"Topic10\", \"Topic10\", \"Topic10\", \"Topic10\", \"Topic10\", \"Topic10\", \"Topic10\", \"Topic10\", \"Topic10\", \"Topic10\", \"Topic10\", \"Topic10\", \"Topic10\", \"Topic10\", \"Topic10\", \"Topic10\", \"Topic10\", \"Topic10\", \"Topic10\", \"Topic10\", \"Topic10\", \"Topic10\", \"Topic10\", \"Topic10\", \"Topic10\", \"Topic10\", \"Topic10\", \"Topic10\", \"Topic10\", \"Topic10\", \"Topic10\", \"Topic10\", \"Topic10\", \"Topic10\", \"Topic10\", \"Topic10\", \"Topic10\", \"Topic10\", \"Topic10\", \"Topic10\", \"Topic10\", \"Topic10\", \"Topic10\", \"Topic10\", \"Topic10\", \"Topic10\", \"Topic10\", \"Topic10\", \"Topic10\", \"Topic10\", \"Topic10\", \"Topic10\", \"Topic10\", \"Topic10\", \"Topic10\", \"Topic10\", \"Topic10\", \"Topic10\", \"Topic10\", \"Topic10\", \"Topic11\", \"Topic11\", \"Topic11\", \"Topic11\", \"Topic11\", \"Topic11\", \"Topic11\", \"Topic11\", \"Topic11\", \"Topic11\", \"Topic11\", \"Topic11\", \"Topic11\", \"Topic11\", \"Topic11\", \"Topic11\", \"Topic11\", \"Topic11\", \"Topic11\", \"Topic11\", \"Topic11\", \"Topic11\", \"Topic11\", \"Topic11\", \"Topic11\", \"Topic11\", \"Topic11\", \"Topic11\", \"Topic11\", \"Topic11\", \"Topic11\", \"Topic11\", \"Topic11\", \"Topic11\", \"Topic11\", \"Topic11\", \"Topic11\", \"Topic11\", \"Topic11\", \"Topic11\", \"Topic11\", \"Topic11\", \"Topic11\", \"Topic11\", \"Topic11\", \"Topic11\", \"Topic11\", \"Topic11\", \"Topic11\", \"Topic11\", \"Topic11\", \"Topic11\", \"Topic11\", \"Topic11\", \"Topic11\", \"Topic11\", \"Topic11\", \"Topic11\", \"Topic11\", \"Topic11\", \"Topic11\", \"Topic11\", \"Topic11\", \"Topic11\", \"Topic11\", \"Topic11\", \"Topic11\", \"Topic11\", \"Topic11\", \"Topic12\", \"Topic12\", \"Topic12\", \"Topic12\", \"Topic12\", \"Topic12\", \"Topic12\", \"Topic12\", \"Topic12\", \"Topic12\", \"Topic12\", \"Topic12\", \"Topic12\", \"Topic12\", \"Topic12\", \"Topic12\", \"Topic12\", \"Topic12\", \"Topic12\", \"Topic12\", \"Topic12\", \"Topic12\", \"Topic12\", \"Topic12\", \"Topic12\", \"Topic12\", \"Topic12\", \"Topic12\", \"Topic12\", \"Topic12\", \"Topic12\", \"Topic12\", \"Topic12\", \"Topic12\", \"Topic12\", \"Topic12\", \"Topic12\", \"Topic12\", \"Topic12\", \"Topic12\", \"Topic12\", \"Topic12\", \"Topic12\", \"Topic12\", \"Topic12\", \"Topic12\", \"Topic12\", \"Topic12\", \"Topic12\", \"Topic12\", \"Topic12\", \"Topic12\", \"Topic12\", \"Topic12\", \"Topic12\", \"Topic12\", \"Topic12\", \"Topic12\", \"Topic12\", \"Topic12\", \"Topic12\", \"Topic12\", \"Topic12\", \"Topic12\", \"Topic12\", \"Topic12\", \"Topic12\", \"Topic12\", \"Topic12\", \"Topic12\", \"Topic12\", \"Topic12\", \"Topic12\", \"Topic12\", \"Topic12\", \"Topic12\", \"Topic12\", \"Topic13\", \"Topic13\", \"Topic13\", \"Topic13\", \"Topic13\", \"Topic13\", \"Topic13\", \"Topic13\", \"Topic13\", \"Topic13\", \"Topic13\", \"Topic13\", \"Topic13\", \"Topic13\", \"Topic13\", \"Topic13\", \"Topic13\", \"Topic13\", \"Topic13\", \"Topic13\", \"Topic13\", \"Topic13\", \"Topic13\", \"Topic13\", \"Topic13\", \"Topic13\", \"Topic13\", \"Topic13\", \"Topic13\", \"Topic13\", \"Topic13\", \"Topic13\", \"Topic13\", \"Topic13\", \"Topic13\", \"Topic13\", \"Topic13\", \"Topic13\", \"Topic13\", \"Topic13\", \"Topic13\", \"Topic13\", \"Topic13\", \"Topic13\", \"Topic13\", \"Topic13\", \"Topic13\", \"Topic13\", \"Topic13\", \"Topic13\", \"Topic13\", \"Topic13\", \"Topic13\", \"Topic13\", \"Topic13\", \"Topic13\", \"Topic13\", \"Topic13\", \"Topic13\", \"Topic13\", \"Topic13\", \"Topic13\", \"Topic13\", \"Topic13\", \"Topic13\", \"Topic13\", \"Topic13\", \"Topic13\", \"Topic13\", \"Topic14\", \"Topic14\", \"Topic14\", \"Topic14\", \"Topic14\", \"Topic14\", \"Topic14\", \"Topic14\", \"Topic14\", \"Topic14\", \"Topic14\", \"Topic14\", \"Topic14\", \"Topic14\", \"Topic14\", \"Topic14\", \"Topic14\", \"Topic14\", \"Topic14\", \"Topic14\", \"Topic14\", \"Topic14\", \"Topic14\", \"Topic14\", \"Topic14\", \"Topic14\", \"Topic14\", \"Topic14\", \"Topic14\", \"Topic14\", \"Topic14\", \"Topic14\", \"Topic14\", \"Topic14\", \"Topic14\", \"Topic14\", \"Topic14\", \"Topic14\", \"Topic14\", \"Topic14\", \"Topic14\", \"Topic14\", \"Topic14\", \"Topic14\", \"Topic14\", \"Topic14\", \"Topic14\", \"Topic14\", \"Topic14\", \"Topic14\", \"Topic14\", \"Topic14\", \"Topic14\", \"Topic14\", \"Topic14\", \"Topic14\", \"Topic14\", \"Topic14\", \"Topic14\", \"Topic14\", \"Topic14\", \"Topic14\", \"Topic14\", \"Topic14\", \"Topic14\", \"Topic14\", \"Topic14\", \"Topic14\", \"Topic14\", \"Topic14\", \"Topic14\", \"Topic15\", \"Topic15\", \"Topic15\", \"Topic15\", \"Topic15\", \"Topic15\", \"Topic15\", \"Topic15\", \"Topic15\", \"Topic15\", \"Topic15\", \"Topic15\", \"Topic15\", \"Topic15\", \"Topic15\", \"Topic15\", \"Topic15\", \"Topic15\", \"Topic15\", \"Topic15\", \"Topic15\", \"Topic15\", \"Topic15\", \"Topic15\", \"Topic15\", \"Topic15\", \"Topic15\", \"Topic15\", \"Topic15\", \"Topic15\", \"Topic15\", \"Topic15\", \"Topic15\", \"Topic15\", \"Topic15\", \"Topic15\", \"Topic15\", \"Topic15\", \"Topic15\", \"Topic15\", \"Topic15\", \"Topic15\", \"Topic15\", \"Topic15\", \"Topic15\", \"Topic15\", \"Topic15\", \"Topic15\", \"Topic15\", \"Topic15\", \"Topic15\", \"Topic15\", \"Topic15\", \"Topic15\", \"Topic15\", \"Topic15\", \"Topic15\", \"Topic15\", \"Topic15\", \"Topic15\", \"Topic15\", \"Topic15\", \"Topic15\", \"Topic15\", \"Topic15\", \"Topic15\", \"Topic15\", \"Topic15\", \"Topic15\", \"Topic15\"], \"logprob\": [30.0, 29.0, 28.0, 27.0, 26.0, 25.0, 24.0, 23.0, 22.0, 21.0, 20.0, 19.0, 18.0, 17.0, 16.0, 15.0, 14.0, 13.0, 12.0, 11.0, 10.0, 9.0, 8.0, 7.0, 6.0, 5.0, 4.0, 3.0, 2.0, 1.0, -7.788400173187256, -8.391400337219238, -8.18970012664795, -8.740599632263184, -8.744000434875488, -8.656299591064453, -8.411800384521484, -8.74530029296875, -9.005399703979492, -8.895700454711914, -8.70359992980957, -8.506600379943848, -8.543899536132812, -8.15310001373291, -9.072400093078613, -8.957300186157227, -7.068999767303467, -9.075900077819824, -8.759900093078613, -9.076399803161621, -9.142000198364258, -9.142200469970703, -9.141900062561035, -9.017600059509277, -9.142999649047852, -9.07859992980957, -9.21310043334961, -9.14430046081543, -9.017900466918945, -8.566900253295898, -8.423600196838379, -8.715299606323242, -8.908900260925293, -8.090499877929688, -8.684800148010254, -7.311999797821045, -7.540999889373779, -7.595300197601318, -6.956699848175049, -6.0929999351501465, -7.329599857330322, -8.151399612426758, -8.27079963684082, -6.540900230407715, -7.604599952697754, -7.433599948883057, -7.964200019836426, -6.881100177764893, -7.835999965667725, -7.764500141143799, -7.063600063323975, -6.724800109863281, -6.9654998779296875, -6.572400093078613, -5.674600124359131, -6.5854997634887695, -6.8471999168396, -6.80210018157959, -7.230100154876709, -7.253600120544434, -6.579999923706055, -5.930799961090088, -6.610499858856201, -6.375, -7.090199947357178, -6.551499843597412, -5.142899990081787, -5.802999973297119, -6.174900054931641, -6.853600025177002, -5.919300079345703, -6.399600028991699, -5.870500087738037, -5.8043999671936035, -6.013999938964844, -5.60230016708374, -5.485599994659424, -6.257900238037109, -5.2281999588012695, -5.815800189971924, -6.1682000160217285, -5.957699775695801, -5.639599800109863, -5.906300067901611, -6.029300212860107, -5.875800132751465, -5.632699966430664, -5.6230998039245605, -5.627299785614014, -5.898200035095215, -6.1996002197265625, -6.209199905395508, -6.087399959564209, -6.192800045013428, -6.009799957275391, -6.1178998947143555, -5.970099925994873, -6.058300018310547, -6.1442999839782715, -5.582200050354004, -4.687399864196777, -5.65880012512207, -7.4390997886657715, -4.518599987030029, -7.388299942016602, -8.16919994354248, -7.724400043487549, -6.420300006866455, -6.0792999267578125, -6.32420015335083, -7.456500053405762, -7.452300071716309, -8.073599815368652, -8.241900444030762, -7.639800071716309, -8.684800148010254, -8.61400032043457, -6.8302998542785645, -6.597499847412109, -7.853899955749512, -6.2459001541137695, -7.197800159454346, -5.393899917602539, -9.052900314331055, -9.057299613952637, -9.193499565124512, -8.64680004119873, -9.061699867248535, -9.199999809265137, -7.116700172424316, -5.974400043487549, -6.8404998779296875, -7.70989990234375, -6.298699855804443, -7.470799922943115, -5.661099910736084, -5.458000183105469, -4.793499946594238, -5.473800182342529, -4.907800197601318, -5.268099784851074, -6.841899871826172, -5.726600170135498, -5.310699939727783, -5.275300025939941, -6.469200134277344, -5.836599826812744, -5.841100215911865, -6.166299819946289, -5.299300193786621, -4.9944000244140625, -5.211599826812744, -5.993199825286865, -5.376100063323975, -5.356100082397461, -5.647799968719482, -5.689899921417236, -5.498700141906738, -5.617099761962891, -5.526500225067139, -5.731200218200684, -5.866099834442139, -5.819300174713135, -5.865099906921387, -7.795400142669678, -8.069499969482422, -8.003399848937988, -8.468400001525879, -8.607199668884277, -8.615799903869629, -8.94219970703125, -8.788100242614746, -9.010299682617188, -8.607799530029297, -8.601799964904785, -8.763899803161621, -8.764100074768066, -7.6666998863220215, -6.7204999923706055, -8.232399940490723, -8.93690013885498, -8.941800117492676, -8.8016996383667, -9.157899856567383, -8.701600074768066, -9.160300254821777, -8.976799964904785, -9.144000053405762, -8.991299629211426, -8.474800109863281, -9.15060043334961, -8.884400367736816, -5.922699928283691, -8.935400009155273, -7.159200191497803, -7.673099994659424, -7.448400020599365, -7.265699863433838, -6.379000186920166, -7.116199970245361, -5.310100078582764, -4.544099807739258, -7.768899917602539, -5.316800117492676, -5.432000160217285, -5.846399784088135, -4.779399871826172, -4.280600070953369, -6.55049991607666, -4.893400192260742, -6.8246002197265625, -5.214700222015381, -5.186600208282471, -5.998000144958496, -5.782800197601318, -5.615900039672852, -5.278200149536133, -5.312099933624268, -6.948699951171875, -5.104400157928467, -5.748300075531006, -4.894100189208984, -4.8383002281188965, -5.298799991607666, -5.636099815368652, -5.774600028991699, -5.28000020980835, -5.338699817657471, -6.040200233459473, -5.293099880218506, -5.079800128936768, -5.570099830627441, -5.104100227355957, -5.599800109863281, -5.300099849700928, -5.539299964904785, -5.682600021362305, -5.610300064086914, -5.627299785614014, -5.7058000564575195, -7.6828999519348145, -7.0005998611450195, -7.769599914550781, -7.560400009155273, -7.702000141143799, -7.969399929046631, -7.795000076293945, -7.9903998374938965, -7.1128997802734375, -8.367600440979004, -8.365799903869629, -6.629199981689453, -8.234000205993652, -8.369999885559082, -6.005899906158447, -8.236900329589844, -8.140600204467773, -8.249600410461426, -8.387200355529785, -8.550100326538086, -5.530700206756592, -7.039999961853027, -8.550399780273438, -8.399299621582031, -7.312600135803223, -8.557900428771973, -7.120500087738037, -8.03689956665039, -6.373300075531006, -6.16379976272583, -5.611299991607666, -7.348199844360352, -7.445000171661377, -6.247900009155273, -6.904799938201904, -7.708600044250488, -6.92519998550415, -5.617000102996826, -6.7342000007629395, -6.821700096130371, -6.051499843597412, -5.881899833679199, -7.2342000007629395, -6.844099998474121, -5.99459981918335, -6.661499977111816, -5.606599807739258, -5.289400100708008, -6.00540018081665, -5.203800201416016, -6.322199821472168, -6.090400218963623, -6.196100234985352, -5.704899787902832, -4.651299953460693, -6.193699836730957, -5.212200164794922, -6.075799942016602, -6.089399814605713, -5.804200172424316, -6.55649995803833, -5.660200119018555, -6.148200035095215, -5.826900005340576, -6.012800216674805, -5.853499889373779, -5.694499969482422, -5.685500144958496, -5.708000183105469, -5.90910005569458, -5.815499782562256, -5.792799949645996, -5.816500186920166, -5.873600006103516, -5.998700141906738, -6.003699779510498, -6.038599967956543, -6.047900199890137, -7.442500114440918, -7.793499946594238, -8.125, -7.717899799346924, -5.453700065612793, -7.724599838256836, -7.327600002288818, -7.769800186157227, -7.763700008392334, -6.665299892425537, -7.490799903869629, -6.945400238037109, -6.6975998878479, -8.297699928283691, -8.409799575805664, -7.594799995422363, -7.837800025939941, -7.322000026702881, -8.046699523925781, -6.268400192260742, -8.296299934387207, -8.432000160217285, -8.20460033416748, -6.774600028991699, -4.124599933624268, -8.308899879455566, -8.236800193786621, -6.700099945068359, -7.37939977645874, -7.788700103759766, -7.542300224304199, -6.536499977111816, -4.777200222015381, -4.714300155639648, -7.678199768066406, -5.064000129699707, -4.230800151824951, -5.0046000480651855, -5.281599998474121, -5.767399787902832, -6.153200149536133, -5.739999771118164, -5.358699798583984, -4.8902997970581055, -5.788000106811523, -5.101799964904785, -5.9334001541137695, -4.7932000160217285, -5.231599807739258, -4.843900203704834, -6.099400043487549, -5.690499782562256, -5.527599811553955, -4.993100166320801, -5.044600009918213, -5.853300094604492, -5.0569000244140625, -5.402400016784668, -5.614200115203857, -5.607800006866455, -5.645999908447266, -5.644499778747559, -5.435200214385986, -5.444900035858154, -5.5289998054504395, -5.688799858093262, -5.763400077819824, -5.712500095367432, -8.404999732971191, -7.039000034332275, -7.181700229644775, -8.443099975585938, -8.383600234985352, -8.405900001525879, -7.571400165557861, -7.578000068664551, -8.362700462341309, -7.8831000328063965, -8.1141996383667, -8.156999588012695, -8.40369987487793, -6.423699855804443, -8.420000076293945, -8.302000045776367, -8.406999588012695, -8.165499687194824, -7.98330020904541, -8.478599548339844, -8.10200023651123, -8.01710033416748, -7.808499813079834, -6.506800174713135, -5.374499797821045, -8.382599830627441, -8.506199836730957, -8.390000343322754, -8.705599784851074, -3.869499921798706, -4.672399997711182, -7.1097002029418945, -5.043300151824951, -5.928299903869629, -4.989799976348877, -6.842800140380859, -4.759699821472168, -6.263599872589111, -5.106800079345703, -6.401899814605713, -7.035699844360352, -5.1381001472473145, -6.066999912261963, -5.407599925994873, -5.668000221252441, -7.221799850463867, -5.853099822998047, -4.96150016784668, -5.358500003814697, -4.6265997886657715, -6.029699802398682, -5.479100227355957, -5.562300205230713, -5.673799991607666, -5.286300182342529, -5.103799819946289, -4.972499847412109, -5.171199798583984, -5.587399959564209, -5.4344000816345215, -5.307400226593018, -5.446800231933594, -5.383200168609619, -5.520500183105469, -5.577400207519531, -5.624000072479248, -5.67140007019043, -5.680600166320801, -7.564199924468994, -7.567399978637695, -7.396699905395508, -8.085700035095215, -8.133199691772461, -7.8942999839782715, -8.197600364685059, -7.9593000411987305, -8.094799995422363, -7.651000022888184, -7.8755998611450195, -7.667799949645996, -8.143500328063965, -7.820099830627441, -8.190600395202637, -7.9882001876831055, -8.363699913024902, -7.791999816894531, -8.441900253295898, -7.636099815368652, -8.422800064086914, -7.6178998947143555, -8.457799911499023, -8.469499588012695, -7.662700176239014, -8.138299942016602, -7.943699836730957, -8.414999961853027, -8.593199729919434, -8.384099960327148, -7.3649001121521, -7.56220006942749, -5.203000068664551, -5.891499996185303, -6.7779998779296875, -7.2291998863220215, -7.100900173187256, -5.942500114440918, -6.813799858093262, -7.149899959564209, -5.114299774169922, -6.671999931335449, -6.450300216674805, -5.045899868011475, -6.232800006866455, -5.921199798583984, -6.190400123596191, -5.824100017547607, -5.445000171661377, -5.016200065612793, -6.072500228881836, -6.286300182342529, -5.774700164794922, -6.696100234985352, -5.4344000816345215, -5.8871002197265625, -5.524899959564209, -6.1020002365112305, -5.886000156402588, -6.122900009155273, -5.134500026702881, -5.209799766540527, -5.814499855041504, -5.715799808502197, -6.091300010681152, -5.890999794006348, -5.546299934387207, -5.877799987792969, -5.43209981918335, -5.421500205993652, -5.521500110626221, -5.834099769592285, -5.701700210571289, -5.573200225830078, -5.677299976348877, -5.90910005569458, -5.886499881744385, -5.852499961853027, -5.9145002365112305, -5.486599922180176, -5.36329984664917, -7.464399814605713, -6.6020002365112305, -4.149400234222412, -6.044400215148926, -6.006499767303467, -7.197000026702881, -5.501200199127197, -6.49399995803833, -7.868500232696533, -7.866600036621094, -7.663099765777588, -5.0218000411987305, -7.851099967956543, -7.905700206756592, -7.629700183868408, -7.900100231170654, -7.449100017547607, -7.497200012207031, -7.85129976272583, -7.706999778747559, -7.254300117492676, -7.309000015258789, -7.9542999267578125, -7.563399791717529, -7.988399982452393, -7.34060001373291, -7.990799903869629, -7.922599792480469, -4.607399940490723, -5.56220006942749, -4.94350004196167, -5.143599987030029, -5.524400234222412, -6.136300086975098, -5.747499942779541, -5.049499988555908, -5.86359977722168, -4.6483001708984375, -5.6381001472473145, -6.253499984741211, -4.558700084686279, -6.474599838256836, -6.323299884796143, -5.322800159454346, -5.913700103759766, -6.388599872589111, -6.434599876403809, -5.706299781799316, -5.347300052642822, -5.207600116729736, -5.603899955749512, -5.215199947357178, -5.556700229644775, -5.389800071716309, -5.292799949645996, -5.377500057220459, -5.480500221252441, -5.59660005569458, -5.292799949645996, -5.387499809265137, -5.513000011444092, -5.618299961090088, -5.541200160980225, -5.553299903869629, -5.555200099945068, -6.832699775695801, -7.334099769592285, -7.11929988861084, -7.456099987030029, -7.382800102233887, -6.816999912261963, -7.716599941253662, -7.313499927520752, -7.462500095367432, -7.640699863433838, -7.710000038146973, -7.332200050354004, -7.365699768066406, -7.341800212860107, -7.624199867248535, -7.385300159454346, -7.803299903869629, -7.721199989318848, -7.724299907684326, -7.398900032043457, -7.713500022888184, -6.57859992980957, -7.0584001541137695, -7.918000221252441, -7.855999946594238, -7.870999813079834, -7.785699844360352, -7.76669979095459, -7.314899921417236, -7.055300235748291, -7.333700180053711, -7.211999893188477, -6.785600185394287, -7.298999786376953, -7.56820011138916, -6.640200138092041, -6.822500228881836, -5.992099761962891, -5.685400009155273, -6.904900074005127, -6.361299991607666, -5.107100009918213, -5.4430999755859375, -5.4156999588012695, -5.125500202178955, -5.395199775695801, -5.160399913787842, -5.105000019073486, -6.523900032043457, -6.817399978637695, -5.240699768066406, -5.22130012512207, -5.508999824523926, -6.6184000968933105, -5.741499900817871, -6.042699813842773, -6.431000232696533, -6.3470001220703125, -5.900700092315674, -5.9319000244140625, -6.145199775695801, -6.240699768066406, -5.93779993057251, -5.763599872589111, -6.129000186920166, -5.792699813842773, -6.0457000732421875, -6.163099765777588, -6.125899791717529, -6.0304999351501465, -6.035399913787842, -5.916399955749512, -6.046199798583984, -6.0121002197265625, -6.045100212097168, -6.140399932861328, -5.399799823760986, -5.359099864959717, -6.921299934387207, -6.928699970245361, -7.349299907684326, -7.556000232696533, -7.653600215911865, -7.048999786376953, -7.2947001457214355, -7.181000232696533, -7.626399993896484, -7.628200054168701, -7.667600154876709, -7.659299850463867, -7.674499988555908, -7.690299987792969, -7.421299934387207, -7.629000186920166, -6.573599815368652, -7.753600120544434, -7.606900215148926, -7.603799819946289, -7.630000114440918, -7.627999782562256, -7.619699954986572, -7.872900009155273, -7.311100006103516, -7.280099868774414, -7.280799865722656, -7.23960018157959, -7.231400012969971, -5.990099906921387, -6.085899829864502, -6.049300193786621, -6.220900058746338, -5.688499927520752, -6.911300182342529, -7.138599872589111, -6.518899917602539, -5.64109992980957, -6.453400135040283, -6.639900207519531, -5.6996002197265625, -5.62060022354126, -6.077300071716309, -5.378600120544434, -6.059800148010254, -5.465799808502197, -5.399700164794922, -5.411499977111816, -6.320899963378906, -5.839399814605713, -6.683000087738037, -5.753399848937988, -5.950399875640869, -5.7581000328063965, -6.373000144958496, -5.748600006103516, -5.676000118255615, -5.979899883270264, -5.992499828338623, -5.816800117492676, -5.885300159454346, -6.0868000984191895, -6.111700057983398, -6.1194000244140625, -6.1768999099731445, -5.734099864959717, -7.317699909210205, -6.5152997970581055, -6.388000011444092, -7.285999774932861, -6.8917999267578125, -6.8927998542785645, -7.2881999015808105, -7.286799907684326, -7.288599967956543, -7.286300182342529, -7.29040002822876, -7.290599822998047, -7.287899971008301, -6.611400127410889, -5.808800220489502, -7.289100170135498, -7.29040002822876, -7.285099983215332, -7.28849983215332, -7.286900043487549, -7.949900150299072, -7.287600040435791, -7.944699764251709, -7.947199821472168, -7.947800159454346, -7.284900188446045, -7.957200050354004, -7.949399948120117, -7.948999881744385, -7.293300151824951, -6.891300201416016, -6.610000133514404, -7.2870001792907715, -6.054999828338623, -6.178299903869629, -7.287399768829346, -6.191400051116943, -5.817200183868408, -5.208099842071533, -5.263999938964844, -5.348199844360352, -5.593900203704834, -5.912099838256836, -6.044400215148926, -6.01230001449585, -5.551400184631348, -5.691500186920166, -5.465099811553955, -6.321100234985352, -6.358699798583984, -5.791399955749512, -5.888400077819824, -6.569200038909912, -6.024499893188477, -5.658699989318848, -5.880799770355225, -5.659599781036377, -5.623799800872803, -6.026199817657471, -6.0269999504089355, -5.761000156402588, -6.028600215911865, -6.035200119018555, -6.181600093841553, -6.194499969482422, -6.128799915313721, -6.169000148773193, -6.173500061035156, -6.929800033569336, -7.32859992980957, -7.329599857330322, -7.332200050354004, -7.477399826049805, -6.45959997177124, -7.2083001136779785, -7.337600231170654, -7.365300178527832, -7.491399765014648, -6.57480001449585, -7.336900234222412, -7.469299793243408, -7.477200031280518, -6.957900047302246, -6.690199851989746, -7.331299781799316, -7.328000068664551, -7.025899887084961, -7.051599979400635, -7.529600143432617, -7.350900173187256, -6.936500072479248, -7.993000030517578, -7.98829984664917, -7.979800224304199, -7.986800193786621, -8.028900146484375, -7.989999771118164, -8.006600379943848, -7.01200008392334, -7.323200225830078, -7.445499897003174, -7.0914998054504395, -7.3302998542785645, -7.324999809265137, -6.673900127410889, -7.215400218963623, -5.642499923706055, -5.053899765014648, -5.680300235748291, -5.81279993057251, -4.956900119781494, -6.52239990234375, -5.905099868774414, -6.14109992980957, -5.710400104522705, -5.754799842834473, -6.110899925231934, -4.753699779510498, -4.984899997711182, -5.134699821472168, -5.002799987792969, -5.317599773406982, -5.962800025939941, -5.818600177764893, -6.112400054931641, -6.061200141906738, -5.832900047302246, -5.081099987030029, -6.457399845123291, -5.672599792480469, -6.152400016784668, -5.750699996948242, -5.7006001472473145, -5.996500015258789, -5.440199851989746, -5.788099765777588, -5.77269983291626, -5.720799922943115, -5.916200160980225, -5.743100166320801, -5.761899948120117, -5.834199905395508, -5.908199787139893, -5.8618998527526855, -5.8983001708984375, -7.215000152587891, -7.290599822998047, -7.218200206756592, -7.346399784088135, -6.742000102996826, -7.421800136566162, -7.438899993896484, -7.251200199127197, -7.217800140380859, -7.366300106048584, -6.557400226593018, -7.304200172424316, -7.219299793243408, -7.2154998779296875, -7.225100040435791, -7.906700134277344, -7.135000228881836, -7.215700149536133, -7.4654998779296875, -6.206900119781494, -7.881999969482422, -7.222799777984619, -7.873600006103516, -7.1880998611450195, -7.879300117492676, -7.875800132751465, -7.333399772644043, -6.8180999755859375, -7.874499797821045, -7.2204999923706055, -6.747600078582764, -7.13700008392334, -7.381899833679199, -5.264599800109863, -6.819799900054932, -5.811800003051758, -4.872200012207031, -4.9191999435424805, -5.861400127410889, -5.898900032043457, -5.3850998878479, -5.220900058746338, -6.865499973297119, -4.902200222015381, -5.427499771118164, -6.649400234222412, -5.432300090789795, -5.037799835205078, -5.225900173187256, -6.09089994430542, -5.625400066375732, -5.454699993133545, -5.86359977722168, -5.227799892425537, -5.914000034332275, -5.290500164031982, -5.847899913787842, -5.758399963378906, -5.632400035858154, -5.879799842834473, -6.410699844360352, -5.559000015258789, -5.773799896240234, -5.861800193786621, -5.884500026702881, -5.818299770355225, -5.867400169372559, -5.87529993057251, -5.866799831390381, -5.938399791717529, -6.269899845123291, -6.237299919128418, -6.615900039672852, -5.5381999015808105, -6.615799903869629, -6.218800067901611, -6.615300178527832, -7.27869987487793, -7.274499893188477, -7.276599884033203, -7.278299808502197, -6.613999843597412, -7.275599956512451, -7.2779998779296875, -7.292600154876709, -7.275000095367432, -7.275700092315674, -7.278900146484375, -7.280900001525879, -7.2982001304626465, -7.3379998207092285, -7.343900203704834, -7.277400016784668, -7.274600028991699, -7.276800155639648, -7.287499904632568, -7.2789998054504395, -7.272299766540527, -7.274700164794922, -6.16949987411499, -6.615699768066406, -5.344600200653076, -6.219699859619141, -6.546199798583984, -6.61460018157959, -5.37060022354126, -6.218699932098389, -5.509399890899658, -5.01230001449585, -5.513199806213379, -5.694900035858154, -6.660600185394287, -6.635700225830078, -5.707900047302246, -6.614299774169922, -6.2967000007629395, -6.2835001945495605, -6.613100051879883, -5.932300090789795, -6.5640997886657715, -5.702000141143799, -5.9903998374938965, -5.749300003051758, -5.556000232696533, -5.257800102233887, -5.776400089263916, -5.514400005340576, -5.906099796295166, -5.640999794006348, -6.017199993133545, -5.9552001953125, -5.893099784851074, -5.898399829864502, -5.883500099182129, -5.918799877166748, -5.93209981918335, -6.038400173187256, -6.039599895477295, -6.123199939727783, -6.1331000328063965, -5.861299991607666, -5.8368000984191895, -6.603099822998047, -6.520199775695801, -6.687300205230713, -7.183700084686279, -6.5192999839782715, -7.182799816131592, -7.180500030517578, -7.18209981918335, -7.184899806976318, -7.179900169372559, -7.19189977645874, -7.181700229644775, -7.188499927520752, -7.213900089263916, -7.180799961090088, -7.182199954986572, -7.1757001876831055, -7.181399822235107, -7.18209981918335, -7.183000087738037, -7.182700157165527, -7.184000015258789, -7.187900066375732, -7.184700012207031, -7.185100078582764, -7.1834001541137695, -7.180699825286865, -7.185999870300293, -5.15939998626709, -6.878600120544434, -5.618299961090088, -4.913099765777588, -6.123600006103516, -5.4394001960754395, -5.4405999183654785, -5.580399990081787, -5.596099853515625, -6.11929988861084, -5.431700229644775, -5.60699987411499, -6.283599853515625, -5.834099769592285, -6.118899822235107, -6.454899787902832, -6.115699768066406, -6.115099906921387, -6.5142998695373535, -5.832600116729736, -6.512599945068359, -5.231299877166748, -6.520400047302246, -5.595600128173828, -5.749599933624268, -5.696800231933594, -6.1092000007629395, -5.335599899291992, -5.541100025177002, -5.556099891662598, -5.749899864196777, -5.763599872589111, -5.81820011138916, -5.959700107574463, -5.978899955749512, -6.012400150299072, -6.046000003814697, -6.058899879455566, -6.065000057220459, -6.087600231170654], \"loglift\": [30.0, 29.0, 28.0, 27.0, 26.0, 25.0, 24.0, 23.0, 22.0, 21.0, 20.0, 19.0, 18.0, 17.0, 16.0, 15.0, 14.0, 13.0, 12.0, 11.0, 10.0, 9.0, 8.0, 7.0, 6.0, 5.0, 4.0, 3.0, 2.0, 1.0, 0.8375999927520752, 0.8263000249862671, 0.8238000273704529, 0.822700023651123, 0.820900022983551, 0.8199999928474426, 0.8190000057220459, 0.8176000118255615, 0.8169999718666077, 0.8151999711990356, 0.8148999810218811, 0.8148000240325928, 0.8140000104904175, 0.8133000135421753, 0.8116999864578247, 0.810699999332428, 0.8097000122070312, 0.8093000054359436, 0.8091999888420105, 0.8091999888420105, 0.8083999752998352, 0.8076000213623047, 0.8076000213623047, 0.8068000078201294, 0.8065000176429749, 0.8064000010490417, 0.805899977684021, 0.8057000041007996, 0.8052999973297119, 0.8048999905586243, 0.8016999959945679, 0.8036999702453613, 0.8029999732971191, 0.7821999788284302, 0.7947999835014343, 0.7516000270843506, 0.7560999989509583, 0.7537999749183655, 0.7178999781608582, 0.6680999994277954, 0.7328000068664551, 0.7692999839782715, 0.7745000123977661, 0.6753000020980835, 0.7373999953269958, 0.722000002861023, 0.755299985408783, 0.6796000003814697, 0.743399977684021, 0.7376999855041504, 0.6837000250816345, 0.6503000259399414, 0.6711000204086304, 0.631600022315979, 0.539900004863739, 0.628600001335144, 0.6478999853134155, 0.630299985408783, 0.6776999831199646, 0.6784999966621399, 0.6035000085830688, 0.5051000118255615, 0.5823000073432922, 0.5450000166893005, 0.6413999795913696, 0.5576000213623047, 0.32109999656677246, 0.4242999851703644, 0.48159998655319214, 0.5845000147819519, 0.3643999993801117, 0.4648999869823456, 0.3224000036716461, 0.2912999987602234, 0.3483000099658966, 0.2029999941587448, 0.13899999856948853, 0.3808000087738037, -0.020999999716877937, 0.18150000274181366, 0.3176000118255615, 0.21299999952316284, 0.04780000075697899, 0.11729999631643295, 0.15960000455379486, 0.059300001710653305, -0.15610000491142273, -0.17139999568462372, -0.23149999976158142, -0.03460000082850456, 0.24500000476837158, 0.2345999926328659, 0.03500000014901161, 0.16910000145435333, -0.15240000188350677, -9.999999747378752e-05, -0.48399999737739563, -0.22589999437332153, 0.0032999999821186066, 1.6059999465942383, 1.6052000522613525, 1.597100019454956, 1.5893000364303589, 1.5851000547409058, 1.5831999778747559, 1.5791000127792358, 1.5788999795913696, 1.5787999629974365, 1.5786999464035034, 1.573199987411499, 1.5716999769210815, 1.5714000463485718, 1.5694999694824219, 1.565000057220459, 1.562399983406067, 1.5612000226974487, 1.5455000400543213, 1.5439000129699707, 1.5433000326156616, 1.5399999618530273, 1.5305999517440796, 1.527899980545044, 1.5211999416351318, 1.5204999446868896, 1.5170999765396118, 1.5154999494552612, 1.5144000053405762, 1.5120999813079834, 1.5094000101089478, 1.50600004196167, 1.4936000108718872, 1.5003000497817993, 1.5084999799728394, 1.479699969291687, 1.5011999607086182, 1.4603999853134155, 1.4235999584197998, 1.3876999616622925, 1.4062000513076782, 1.3539999723434448, 1.3568999767303467, 1.445199966430664, 1.1974999904632568, 0.9018999934196472, 0.8756999969482422, 1.2066999673843384, 0.8795999884605408, 0.8745999932289124, 1.007699966430664, 0.5289999842643738, 0.3422999978065491, 0.26499998569488525, 0.8118000030517578, 0.10999999940395355, 0.039799999445676804, 0.2973000109195709, 0.33379998803138733, -0.04699999839067459, 0.07020000368356705, -0.31929999589920044, 0.1324000060558319, 0.2680000066757202, 0.013199999928474426, -0.007799999788403511, 2.0982000827789307, 2.0945000648498535, 2.085599899291992, 2.0669000148773193, 2.0485000610351562, 2.0450000762939453, 2.009500026702881, 2.0034000873565674, 1.9375, 1.937399983406067, 1.930899977684021, 1.9053000211715698, 1.8913999795913696, 1.8769999742507935, 1.871000051498413, 1.854599952697754, 1.8483999967575073, 1.8452999591827393, 1.8451999425888062, 1.8379000425338745, 1.8282999992370605, 1.8242000341415405, 1.823099970817566, 1.8072999715805054, 1.8021999597549438, 1.7970000505447388, 1.7888000011444092, 1.7726000547409058, 1.770400047302246, 1.7616000175476074, 1.7526999711990356, 1.7510000467300415, 1.7272000312805176, 1.6787999868392944, 1.590399980545044, 1.6495000123977661, 1.458899974822998, 1.3001999855041504, 1.6875, 1.3043999671936035, 1.319200038909912, 1.3797999620437622, 1.1670000553131104, 1.0561000108718872, 1.4577000141143799, 1.1155999898910522, 1.495300054550171, 1.131600022315979, 1.1058000326156616, 1.2961000204086304, 1.1799999475479126, 1.128600001335144, 0.995199978351593, 0.9309999942779541, 1.4723000526428223, 0.7281000018119812, 0.970300018787384, 0.5920000076293945, 0.5576000213623047, 0.6362000107765198, 0.8061000108718872, 0.8755000233650208, 0.5835999846458435, 0.6064000129699707, 1.0211999416351318, 0.5351999998092651, 0.3718000054359436, 0.7009999752044678, 0.1031000018119812, 0.623199999332428, 0.17649999260902405, -0.07530000060796738, 0.4397999942302704, 0.014299999922513962, 0.05999999865889549, 0.42829999327659607, 2.438999891281128, 2.4333999156951904, 2.4328999519348145, 2.4209001064300537, 2.418800115585327, 2.418100118637085, 2.4114999771118164, 2.396699905395508, 2.388000011444092, 2.385200023651123, 2.3845999240875244, 2.3838999271392822, 2.3812999725341797, 2.38100004196167, 2.379499912261963, 2.3778998851776123, 2.370500087738037, 2.3654000759124756, 2.3636999130249023, 2.360599994659424, 2.359600067138672, 2.3582000732421875, 2.3578999042510986, 2.3506999015808105, 2.350100040435791, 2.350100040435791, 2.349400043487549, 2.3485000133514404, 2.348299980163574, 2.3469998836517334, 2.345900058746338, 2.3459999561309814, 2.3452000617980957, 2.3224000930786133, 2.3043999671936035, 2.3352999687194824, 2.2901999950408936, 2.1928999423980713, 2.250200033187866, 2.245800018310547, 2.1607000827789307, 2.111599922180176, 2.2639000415802, 2.1686999797821045, 1.979200005531311, 2.1201999187469482, 1.8329999446868896, 1.717900037765503, 1.7977999448776245, 1.4349000453948975, 1.8890999555587769, 1.770900011062622, 1.7770999670028687, 1.5240000486373901, 0.5559999942779541, 1.3485000133514404, 0.251800000667572, 1.0684000253677368, 1.0156999826431274, 0.5580999851226807, 1.7116999626159668, 0.20340000092983246, 1.0292999744415283, 0.4004000127315521, 0.7028999924659729, 0.3393999934196472, -0.06989999860525131, -0.19939999282360077, -0.2563999891281128, 0.374099999666214, -0.12809999287128448, -0.4560999870300293, -0.3398999869823456, -0.47780001163482666, 0.44510000944137573, 0.21850000321865082, 0.31220000982284546, 0.07450000196695328, 2.8701000213623047, 2.842400074005127, 2.8022000789642334, 2.797600030899048, 2.7955000400543213, 2.791800022125244, 2.7441999912261963, 2.640399932861328, 2.637500047683716, 2.5769999027252197, 2.5629000663757324, 2.5459001064300537, 2.544800043106079, 2.5264999866485596, 2.509999990463257, 2.411799907684326, 2.396199941635132, 2.3703999519348145, 2.3635001182556152, 2.3624000549316406, 2.3417999744415283, 2.341599941253662, 2.3245999813079834, 2.3229000568389893, 2.3176000118255615, 2.31469988822937, 2.3092000484466553, 2.2883999347686768, 2.28439998626709, 2.2832000255584717, 2.2788000106811523, 2.237499952316284, 1.9739999771118164, 1.906999945640564, 2.25819993019104, 1.898900032043457, 1.7157000303268433, 1.739799976348877, 1.7798999547958374, 1.8621000051498413, 1.7264000177383423, 1.5541000366210938, 1.2307000160217285, 0.9670000076293945, 1.438099980354309, 0.9072999954223633, 1.423699975013733, 0.6583999991416931, 0.9383000135421753, 0.6421999931335449, 1.5327999591827393, 1.1466000080108643, 0.9736999869346619, 0.34369999170303345, 0.35120001435279846, 1.207900047302246, 0.15029999613761902, 0.5426999926567078, 0.8349000215530396, 0.6353999972343445, 0.646399974822998, 0.5996999740600586, 0.02879999950528145, 0.031700000166893005, 0.09549999982118607, 0.6118999719619751, 0.06909999996423721, 2.7448999881744385, 2.5641000270843506, 2.5397000312805176, 2.536600112915039, 2.526700019836426, 2.5129001140594482, 2.512200117111206, 2.5090999603271484, 2.500499963760376, 2.487799882888794, 2.414400100708008, 2.3884999752044678, 2.3738999366760254, 2.3726999759674072, 2.3501999378204346, 2.34879994392395, 2.3475000858306885, 2.3447999954223633, 2.3399999141693115, 2.3059000968933105, 2.301800012588501, 2.2892000675201416, 2.28410005569458, 2.2660000324249268, 2.259000062942505, 2.255000114440918, 2.247999906539917, 2.2471001148223877, 2.245800018310547, 2.228100061416626, 2.0769999027252197, 2.0720999240875244, 2.143899917602539, 1.919600009918213, 1.951200008392334, 1.7791999578475952, 2.069000005722046, 1.6825000047683716, 1.9420000314712524, 1.6444000005722046, 1.9179999828338623, 2.035599946975708, 1.483199954032898, 1.626099944114685, 1.3055000305175781, 1.393399953842163, 2.026400089263916, 1.440999984741211, 1.0475000143051147, 1.0906000137329102, 0.710099995136261, 1.2900999784469604, 0.8959000110626221, 0.8998000025749207, 0.9156000018119812, 0.5580999851226807, 0.3822999894618988, 0.23469999432563782, 0.305400013923645, 0.7049999833106995, 0.3939000070095062, 0.14419999718666077, 0.1776999980211258, 0.012600000016391277, 0.31200000643730164, 0.2799000144004822, 0.0632999986410141, 0.2736999988555908, -0.21660000085830688, 2.957200050354004, 2.953700065612793, 2.9054999351501465, 2.8480000495910645, 2.8060998916625977, 2.7474000453948975, 2.7416000366210938, 2.7044999599456787, 2.669100046157837, 2.663300037384033, 2.645699977874756, 2.6296000480651855, 2.615499973297119, 2.575500011444092, 2.571199893951416, 2.551100015640259, 2.541599988937378, 2.523200035095215, 2.5037999153137207, 2.4941999912261963, 2.490999937057495, 2.4781999588012695, 2.4760000705718994, 2.4746999740600586, 2.4707000255584717, 2.4704999923706055, 2.4484000205993652, 2.4439001083374023, 2.408600091934204, 2.407599925994873, 2.384200096130371, 2.3742001056671143, 2.234600067138672, 2.2551000118255615, 2.273099899291992, 2.298099994659424, 2.226900100708008, 1.9470000267028809, 2.1540000438690186, 2.18969988822937, 1.510699987411499, 2.0025999546051025, 1.8811999559402466, 1.1353000402450562, 1.7157000303268433, 1.5532000064849854, 1.6763999462127686, 1.4699000120162964, 1.1578999757766724, 0.8281000256538391, 1.5018999576568604, 1.6211999654769897, 1.2698999643325806, 1.8710999488830566, 0.8799999952316284, 1.2019000053405762, 0.909500002861023, 1.3487000465393066, 1.1448999643325806, 1.2342000007629395, 0.2612999975681305, 0.27630001306533813, 0.9017000198364258, 0.6593000292778015, 1.1348999738693237, 0.8259000182151794, 0.3109999895095825, 0.7590000033378601, 0.019600000232458115, -0.08479999750852585, -0.04490000009536743, 0.6150000095367432, 0.1265999972820282, -0.3659999966621399, -0.052799999713897705, 0.6237999796867371, 0.3752000033855438, -0.16519999504089355, 0.23309999704360962, 4.06279993057251, 3.6946001052856445, 3.5272998809814453, 3.498699903488159, 3.424999952316284, 3.394399881362915, 3.308199882507324, 3.2881999015808105, 3.206399917602539, 3.1749000549316406, 3.1185998916625977, 3.113600015640259, 3.1082000732421875, 3.0943000316619873, 3.0875000953674316, 3.0213000774383545, 3.0028998851776123, 2.9647998809814453, 2.941699981689453, 2.9337000846862793, 2.932499885559082, 2.9275999069213867, 2.9275999069213867, 2.92549991607666, 2.903899908065796, 2.900599956512451, 2.885499954223633, 2.8835999965667725, 2.8803999423980713, 2.8510000705718994, 2.830199956893921, 2.828900098800659, 2.701900005340576, 2.6468000411987305, 2.6222000122070312, 2.6143999099731445, 2.4268999099731445, 2.072000026702881, 2.3431999683380127, 1.8007999658584595, 2.1373000144958496, 2.398200035095215, 1.5923000574111938, 2.466099977493286, 2.3661000728607178, 1.8366999626159668, 2.077699899673462, 2.339900016784668, 2.361999988555908, 1.819100022315979, 1.5341999530792236, 1.035599946975708, 1.444599986076355, 0.9660000205039978, 1.3485000133514404, 0.8719000220298767, 0.5354999899864197, 0.6460999846458435, 0.8119000196456909, 1.1196000576019287, 0.1031000018119812, 0.09860000014305115, 0.43209999799728394, 0.9846000075340271, -0.08959999680519104, -0.07670000195503235, -0.3479999899864197, 4.376699924468994, 3.7381999492645264, 3.64520001411438, 3.5855000019073486, 3.52239990234375, 3.496500015258789, 3.4093000888824463, 3.406399965286255, 3.3940000534057617, 3.3850998878479004, 3.2952001094818115, 3.2597999572753906, 3.2537999153137207, 3.2423999309539795, 3.222100019454956, 3.212399959564209, 3.206899881362915, 3.1751999855041504, 3.166599988937378, 3.1658999919891357, 3.162400007247925, 3.1547999382019043, 3.141200065612793, 3.1340999603271484, 3.1273000240325928, 3.115999937057495, 3.0913000106811523, 3.08870005607605, 3.088599920272827, 3.0871999263763428, 3.0306999683380127, 2.9935998916625977, 2.8225998878479004, 2.9639999866485596, 3.0281999111175537, 2.649399995803833, 2.5766000747680664, 1.9905999898910522, 1.7590999603271484, 2.5920000076293945, 2.1679000854492188, 1.1663000583648682, 1.2699999809265137, 1.070099949836731, 0.7189000248908997, 0.9192000031471252, 0.4641000032424927, 0.35899999737739563, 2.0569000244140625, 2.4558000564575195, 0.210999995470047, -0.014100000262260437, 0.3483000099658966, 2.0613999366760254, 0.541700005531311, 0.9922000169754028, 1.6958999633789062, 1.4630000591278076, 0.54830002784729, 0.41440001130104065, 0.8428999781608582, 1.0791000127792358, 0.21320000290870667, -0.28700000047683716, 0.7081000208854675, -0.30660000443458557, 0.38609999418258667, 0.7960000038146973, 0.5806999802589417, 0.1624000072479248, 0.13459999859333038, -0.5206000208854675, 0.12449999898672104, -0.17970000207424164, -0.021400000900030136, -0.14309999346733093, 4.314199924468994, 4.002699851989746, 3.558799982070923, 3.55679988861084, 3.493799924850464, 3.477099895477295, 3.4723000526428223, 3.4138998985290527, 3.400599956512451, 3.396699905395508, 3.3673999309539795, 3.3515000343322754, 3.3326001167297363, 3.3264000415802, 3.303999900817871, 3.2920000553131104, 3.2646000385284424, 3.2464001178741455, 3.2227001190185547, 3.2177999019622803, 3.210200071334839, 3.208400011062622, 3.1956000328063965, 3.1933999061584473, 3.188499927520752, 3.178100109100342, 3.1760001182556152, 3.1658999919891357, 3.161099910736084, 3.139899969100952, 3.1256000995635986, 2.690500020980835, 2.588200092315674, 2.5388998985290527, 2.552299976348877, 1.5403000116348267, 2.612799882888794, 2.810800075531006, 2.191200017929077, 1.294100046157837, 2.063699960708618, 2.2116000652313232, 0.9391999840736389, 0.8152999877929688, 1.3128000497817993, 0.2459000051021576, 1.2496999502182007, 0.2214999943971634, 0.06430000066757202, -0.0746999979019165, 1.4430999755859375, 0.4438000023365021, 2.024399995803833, 0.1039000004529953, 0.4814999997615814, 0.047200001776218414, 1.3015999794006348, -0.26249998807907104, -0.46880000829696655, 0.24740000069141388, 0.17829999327659607, -0.42089998722076416, -0.40869998931884766, 0.19689999520778656, 0.1103999987244606, 0.07360000163316727, 0.24169999361038208, 3.8522000312805176, 3.7083001136779785, 3.5959999561309814, 3.5481998920440674, 3.5016000270843506, 3.474100112915039, 3.4370999336242676, 3.4022998809814453, 3.4019999504089355, 3.398099899291992, 3.3740999698638916, 3.3612000942230225, 3.358599901199341, 3.356300115585327, 3.325700044631958, 3.286900043487549, 3.2471001148223877, 3.1414999961853027, 3.1393001079559326, 3.1324000358581543, 3.1212000846862793, 3.11299991607666, 3.098400115966797, 3.088399887084961, 3.081399917602539, 3.0601999759674072, 3.045300006866455, 3.0429999828338623, 3.0423998832702637, 3.0336999893188477, 3.009700059890747, 2.972399950027466, 2.8664000034332275, 2.9512999057769775, 2.7197999954223633, 2.705199956893921, 2.9381000995635986, 2.378999948501587, 1.8573999404907227, 1.0191999673843384, 0.9290000200271606, 0.8740000128746033, 1.0753999948501587, 1.3166999816894531, 1.3307000398635864, 1.1777000427246094, 0.4458000063896179, 0.5819000005722046, -0.0010999999940395355, 1.5576000213623047, 1.5480999946594238, 0.3310000002384186, 0.5199999809265137, 1.9306999444961548, 0.7376000285148621, -0.18209999799728394, 0.289900004863739, -0.263700008392334, -0.4165000021457672, 0.6202999949455261, 0.6090999841690063, -0.3093999922275543, 0.4072999954223633, 0.179299995303154, 0.8073999881744385, 0.6035000085830688, -0.5042999982833862, 0.19460000097751617, 0.0706000030040741, 3.765199899673462, 3.670799970626831, 3.651099920272827, 3.6373000144958496, 3.5185000896453857, 3.5136001110076904, 3.371299982070923, 3.338599920272827, 3.316200017929077, 3.315000057220459, 3.300600051879883, 3.2276999950408936, 3.211899995803833, 3.1921000480651855, 3.184799909591675, 3.165299892425537, 3.157399892807007, 3.1572000980377197, 3.1559998989105225, 3.1117000579833984, 3.1089999675750732, 3.085599899291992, 3.0831000804901123, 3.0404999256134033, 2.9918999671936035, 2.989300012588501, 2.9881999492645264, 2.986999988555908, 2.9795000553131104, 2.974600076675415, 2.9423999786376953, 2.9502999782562256, 2.9553000926971436, 2.8849000930786133, 2.9142000675201416, 2.908799886703491, 2.8127999305725098, 2.8877999782562256, 2.564300060272217, 2.414099931716919, 2.4465999603271484, 2.3317999839782715, 1.9246000051498413, 2.587599992752075, 2.2414000034332275, 2.346299886703491, 2.0660998821258545, 2.035599946975708, 2.220599889755249, 1.103600025177002, 1.1850999593734741, 1.3143999576568604, 1.1784000396728516, 1.3073999881744385, 1.8658000230789185, 1.691100001335144, 2.003700017929077, 1.930299997329712, 1.617799997329712, 0.3955000042915344, 2.387399911880493, 1.152899980545044, 1.871500015258789, 0.9990000128746033, 0.8888000249862671, 1.441100001335144, 0.18440000712871552, 0.9282000064849854, 0.8302000164985657, 0.4918000102043152, 0.9416999816894531, 0.08940000087022781, -0.3102000057697296, 0.18950000405311584, 0.4668999910354614, -0.03359999880194664, -0.05400000140070915, 3.782900094985962, 3.693000078201294, 3.652600049972534, 3.628999948501587, 3.611299991607666, 3.559999942779541, 3.5432000160217285, 3.483099937438965, 3.4718000888824463, 3.4553000926971436, 3.400899887084961, 3.3526999950408936, 3.3477001190185547, 3.344099998474121, 3.335400104522705, 3.3269999027252197, 3.274899959564209, 3.2049999237060547, 3.188699960708618, 3.1842000484466553, 3.172300100326538, 3.1631999015808105, 3.1565001010894775, 3.1445999145507812, 3.1440999507904053, 3.132200002670288, 3.1124000549316406, 3.1059999465942383, 3.0987000465393066, 3.097399950027466, 3.0952000617980957, 3.055000066757202, 3.079400062561035, 2.709199905395508, 2.981800079345703, 2.7792999744415283, 2.3052000999450684, 2.3096001148223877, 2.5961999893188477, 2.312299966812134, 1.8638999462127686, 1.4947999715805054, 2.8136000633239746, 0.4936999976634979, 1.0383000373840332, 2.509999990463257, 0.789900004863739, 0.16940000653266907, 0.3986999988555908, 1.6646000146865845, 0.8603000044822693, 0.5425000190734863, 1.205299973487854, 0.10899999737739563, 1.250499963760376, 0.16110000014305115, 1.073099970817566, 0.7953000068664551, 0.5184999704360962, 0.9714000225067139, 2.04229998588562, -0.07289999723434448, 0.43880000710487366, 0.48910000920295715, 0.47909998893737793, 0.1906999945640564, 0.25040000677108765, 0.2946000099182129, -0.4027999937534332, 4.7342000007629395, 4.53439998626709, 4.453199863433838, 4.309000015258789, 4.260200023651123, 4.126200199127197, 3.991300106048584, 3.9628000259399414, 3.762700080871582, 3.759000062942505, 3.746799945831299, 3.7218000888824463, 3.69950008392334, 3.691200017929077, 3.6898999214172363, 3.6846001148223877, 3.6810998916625977, 3.6798999309539795, 3.674999952316284, 3.672600030899048, 3.672600030899048, 3.6194000244140625, 3.613100051879883, 3.5875000953674316, 3.584399938583374, 3.55649995803833, 3.5515999794006348, 3.535399913787842, 3.5281999111175537, 3.5244998931884766, 3.5165998935699463, 3.5002999305725098, 3.2435998916625977, 3.3589000701904297, 3.4130001068115234, 3.403899908065796, 3.003999948501587, 3.2244999408721924, 2.8766000270843506, 2.6623001098632812, 2.2423999309539795, 2.367500066757202, 3.0945000648498535, 3.031100034713745, 2.039400100708008, 2.9433999061584473, 2.556299924850464, 2.439500093460083, 2.871000051498413, 1.9278000593185425, 2.7976999282836914, 1.5954999923706055, 1.9809999465942383, 1.4407999515533447, 0.819100022315979, 0.07900000363588333, 1.1419999599456787, 0.4205999970436096, 0.9144999980926514, -0.43369999527931213, 1.11080002784729, 0.7609999775886536, 0.2775999903678894, 0.2944999933242798, -0.050999999046325684, -0.09049999713897705, -0.4803999960422516, 0.6895999908447266, 0.36890000104904175, 0.02449999935925007, -0.6470000147819519, 4.848599910736084, 4.607999801635742, 4.4293999671936035, 4.2027997970581055, 4.167099952697754, 3.867300033569336, 3.8282999992370605, 3.8241000175476074, 3.8029000759124756, 3.7960000038146973, 3.7869999408721924, 3.7843000888824463, 3.7832000255584717, 3.781100034713745, 3.7720999717712402, 3.756700038909912, 3.6531999111175537, 3.6440000534057617, 3.6305999755859375, 3.613800048828125, 3.6131999492645264, 3.6089000701904297, 3.6082000732421875, 3.6078999042510986, 3.6078999042510986, 3.6064999103546143, 3.6061999797821045, 3.501800060272217, 3.484299898147583, 3.4772000312805176, 3.454900026321411, 3.461899995803833, 3.3343000411987305, 2.8773999214172363, 3.2079999446868896, 2.9096999168395996, 2.7560999393463135, 2.5357000827789307, 2.467600107192993, 2.7706000804901123, 2.0127999782562256, 1.750100016593933, 2.564199924468994, 1.8144999742507935, 2.1698999404907227, 2.66129994392395, 2.086400032043457, 2.0678000450134277, 2.700000047683716, 1.5425000190734863, 2.634399890899658, 0.23270000517368317, 2.621000051498413, 0.8664000034332275, 1.132099986076355, 0.9725000262260437, 1.7913999557495117, 0.06030000001192093, 0.2913999855518341, 0.06840000301599503, 0.5212000012397766, 0.4586000144481659, 0.5453000068664551, 1.0443999767303467, 0.7822999954223633, -0.1680999994277954, 0.1770000010728836, -0.2305999994277954, -0.04129999876022339, 0.8191999793052673]}, \"token.table\": {\"Topic\": [1, 15, 3, 5, 6, 1, 4, 9, 1, 3, 9, 10, 1, 3, 8, 10, 1, 15, 1, 2, 3, 4, 5, 6, 7, 8, 9, 10, 11, 12, 13, 14, 2, 5, 6, 7, 1, 3, 9, 10, 1, 2, 3, 4, 5, 6, 7, 8, 9, 1, 3, 4, 9, 11, 14, 1, 2, 3, 4, 5, 6, 7, 8, 9, 10, 11, 12, 15, 1, 9, 2, 3, 8, 12, 1, 9, 1, 5, 15, 1, 2, 3, 9, 10, 3, 8, 4, 1, 4, 7, 1, 2, 3, 4, 5, 6, 7, 8, 9, 10, 12, 1, 2, 6, 7, 1, 5, 10, 2, 4, 5, 9, 13, 1, 2, 3, 4, 5, 6, 7, 8, 9, 10, 11, 12, 14, 3, 8, 9, 3, 7, 12, 1, 2, 3, 4, 11, 1, 3, 4, 10, 5, 1, 11, 1, 2, 10, 15, 1, 2, 3, 4, 5, 6, 7, 8, 9, 10, 11, 12, 14, 15, 1, 15, 5, 7, 4, 1, 4, 12, 1, 2, 3, 5, 6, 7, 8, 9, 12, 1, 2, 3, 4, 5, 6, 7, 9, 12, 13, 4, 2, 7, 12, 13, 1, 2, 3, 5, 6, 7, 8, 9, 10, 12, 15, 1, 2, 3, 4, 5, 6, 7, 8, 9, 12, 1, 3, 11, 13, 4, 1, 2, 3, 4, 5, 6, 7, 8, 9, 10, 11, 12, 13, 14, 1, 15, 3, 9, 2, 3, 5, 8, 3, 5, 6, 7, 13, 2, 3, 5, 6, 3, 5, 6, 1, 2, 3, 4, 10, 11, 2, 1, 4, 10, 1, 15, 1, 3, 13, 14, 1, 6, 1, 2, 3, 4, 5, 6, 7, 8, 9, 12, 13, 1, 1, 2, 3, 4, 5, 6, 7, 8, 9, 10, 12, 13, 14, 15, 1, 2, 3, 4, 5, 6, 8, 9, 10, 11, 14, 1, 2, 3, 6, 2, 3, 7, 8, 9, 12, 2, 1, 3, 4, 9, 1, 2, 3, 4, 5, 6, 7, 8, 9, 10, 11, 12, 13, 14, 15, 5, 7, 1, 3, 4, 10, 1, 4, 11, 1, 10, 2, 3, 7, 9, 12, 1, 2, 3, 4, 6, 10, 11, 1, 6, 7, 9, 5, 7, 1, 3, 4, 5, 7, 8, 9, 11, 1, 4, 10, 1, 2, 3, 4, 5, 6, 7, 9, 10, 11, 13, 15, 1, 4, 10, 1, 4, 1, 4, 2, 7, 12, 1, 2, 3, 4, 5, 6, 7, 9, 11, 13, 3, 4, 11, 13, 2, 3, 5, 10, 12, 1, 3, 4, 6, 10, 14, 1, 3, 4, 10, 13, 1, 1, 3, 4, 9, 10, 11, 14, 1, 4, 7, 15, 3, 7, 8, 2, 5, 7, 1, 2, 3, 4, 5, 6, 7, 8, 9, 10, 11, 12, 14, 15, 1, 10, 1, 4, 1, 3, 14, 1, 4, 10, 1, 10, 1, 11, 1, 3, 4, 11, 1, 3, 10, 14, 3, 4, 3, 6, 1, 4, 6, 14, 1, 2, 3, 4, 10, 11, 13, 14, 1, 2, 3, 4, 5, 6, 7, 8, 9, 10, 11, 12, 13, 14, 15, 3, 6, 3, 5, 6, 1, 3, 4, 9, 11, 2, 3, 7, 12, 13, 2, 3, 7, 13, 14, 1, 4, 10, 11, 1, 4, 11, 1, 2, 3, 4, 5, 6, 7, 8, 9, 10, 11, 12, 13, 15, 1, 2, 3, 4, 5, 6, 7, 8, 9, 10, 12, 13, 1, 2, 3, 4, 5, 6, 7, 8, 9, 10, 11, 12, 13, 14, 15, 3, 5, 6, 1, 2, 3, 7, 12, 2, 3, 6, 3, 8, 11, 12, 1, 2, 5, 13, 1, 2, 3, 4, 5, 6, 7, 8, 9, 10, 11, 14, 1, 2, 3, 4, 5, 6, 7, 8, 9, 10, 11, 12, 13, 1, 4, 1, 2, 3, 4, 5, 7, 10, 11, 12, 13, 14, 3, 5, 6, 7, 3, 5, 7, 2, 3, 5, 6, 12, 1, 10, 12, 2, 5, 1, 2, 3, 4, 5, 6, 10, 12, 15, 1, 2, 3, 4, 6, 7, 9, 10, 11, 13, 14, 15, 1, 7, 10, 11, 1, 2, 3, 7, 8, 12, 15, 1, 2, 3, 4, 10, 3, 5, 6, 2, 3, 7, 12, 13, 1, 2, 3, 4, 5, 6, 7, 8, 10, 12, 1, 11, 13, 1, 2, 3, 4, 5, 6, 7, 8, 9, 10, 11, 12, 13, 14, 15, 1, 4, 1, 6, 1, 6, 1, 2, 3, 4, 5, 6, 7, 8, 9, 10, 12, 13, 14, 3, 5, 6, 7, 1, 4, 9, 10, 12, 1, 4, 5, 15, 1, 10, 1, 4, 13, 1, 4, 6, 1, 7, 8, 12, 1, 2, 3, 4, 7, 8, 9, 12, 13, 15, 3, 1, 13, 1, 15, 3, 7, 5, 7, 8, 1, 2, 3, 4, 5, 6, 7, 8, 9, 10, 12, 13, 14, 1, 4, 10, 11, 14, 1, 2, 3, 4, 6, 11, 1, 2, 4, 12, 1, 4, 14, 1, 2, 3, 4, 7, 4, 2, 3, 4, 7, 8, 9, 12, 1, 2, 3, 4, 5, 6, 7, 9, 10, 11, 14, 2, 3, 5, 8, 9, 10, 2, 8, 1, 2, 3, 4, 5, 6, 7, 8, 9, 10, 12, 13, 1, 2, 3, 5, 6, 8, 9, 12, 1, 2, 3, 4, 5, 6, 7, 8, 9, 10, 11, 12, 13, 14, 15, 1, 2, 3, 4, 5, 6, 7, 8, 9, 10, 11, 12, 13, 15, 1, 2, 3, 4, 5, 6, 7, 8, 9, 10, 11, 12, 13, 1, 2, 4, 8, 9, 1, 4, 6, 1, 2, 3, 4, 5, 6, 7, 9, 10, 11, 12, 2, 3, 7, 12, 1, 13, 2, 7, 8, 12, 1, 7, 12, 1, 4, 14, 1, 10, 1, 5, 8, 12, 1, 3, 1, 6, 7, 9, 14, 1, 11, 15, 1, 2, 3, 4, 5, 6, 7, 8, 9, 10, 4, 1, 2, 3, 9, 10, 14, 2, 7, 9, 1, 3, 6, 10, 14, 5, 11, 12, 1, 13, 4, 13, 1, 2, 8, 1, 2, 8, 12, 1, 2, 3, 8, 3, 6, 1, 2, 3, 4, 10, 11, 1, 10, 1, 2, 3, 4, 6, 7, 8, 9, 10, 11, 13, 14, 15, 1, 2, 3, 4, 5, 6, 7, 8, 9, 10, 12, 13, 15, 1, 2, 3, 4, 10, 11, 13, 1, 6, 1, 4, 9, 13, 1, 15, 1, 2, 3, 5, 7, 8, 10, 12, 14, 1, 5, 1, 9, 11, 1, 2, 3, 5, 7, 8, 9, 10, 12, 1, 2, 3, 4, 5, 6, 7, 8, 9, 12, 1, 4, 9, 11, 2, 4, 7, 3, 5, 6, 7, 3, 5, 6, 7, 1, 4, 10, 11, 1, 2, 3, 5, 6, 7, 13, 3, 9, 13, 2, 3, 4, 5, 6, 7, 8, 12, 1, 4, 5, 6, 9, 10, 11, 13, 1, 4, 9, 3, 5, 6, 7, 1, 2, 3, 4, 9, 10, 12, 15, 1, 4, 11, 1, 3, 4, 5, 9, 1, 2, 3, 5, 7, 8, 9, 12, 14, 1, 2, 12, 1, 4, 11, 1, 4, 9, 10, 11, 4, 1, 1, 2, 3, 4, 5, 6, 7, 8, 9, 10, 11, 13, 14, 15, 1, 7, 9, 1, 9, 10, 11, 1, 2, 5, 8, 10, 1, 2, 3, 6, 8, 9, 11, 14, 15, 1, 7, 8, 9, 10, 1, 9, 15, 1, 2, 5, 7, 10, 12, 1, 2, 5, 8, 1, 2, 3, 4, 5, 6, 7, 10, 11, 12, 13, 15, 4, 9, 1, 2, 3, 4, 5, 6, 7, 8, 9, 10, 11, 13, 14, 1, 2, 3, 4, 5, 6, 7, 8, 9, 10, 11, 14, 15, 1, 3, 4, 5, 6, 7, 9, 11, 1, 3, 5, 12, 1, 2, 4, 5, 7, 8, 9, 10, 11, 13, 1, 2, 3, 4, 5, 6, 7, 8, 9, 10, 12, 13, 14, 15, 3, 14, 1, 4, 13, 1, 4, 10, 12, 13, 14, 15, 1, 5, 1, 2, 3, 4, 5, 6, 7, 8, 9, 10, 11, 12, 13, 2, 5, 8, 10, 1, 14, 6, 7, 1, 2, 3, 4, 5, 6, 7, 8, 9, 10, 11, 12, 13, 15, 1, 2, 3, 4, 5, 6, 7, 8, 9, 10, 11, 12, 13, 14, 15, 2, 3, 7, 8, 12, 1, 14, 1, 4, 11, 1, 5, 8, 13, 1, 2, 4, 10, 2, 7, 3, 4, 6, 9, 1, 2, 3, 4, 5, 6, 7, 9, 12, 1, 3, 4, 15, 3, 1, 4, 10, 11, 14, 2, 7, 1, 2, 12, 2, 3, 7, 8, 12, 1, 2, 3, 5, 6, 7, 8, 9, 10, 12, 13, 15, 6, 7, 8, 1, 4, 10, 14, 1, 4, 11, 1, 1, 2, 3, 4, 5, 6, 7, 8, 1, 2, 3, 4, 5, 6, 7, 9, 10, 11, 15, 1, 2, 4, 5, 9, 11, 3, 1, 2, 3, 4, 5, 6, 7, 8, 9, 10, 12, 13, 14, 15, 1, 2, 3, 4, 5, 6, 7, 8, 9, 10, 11, 13, 15, 1, 4, 14, 1, 2, 3, 4, 5, 6, 7, 8, 9, 10, 11, 13, 14, 15, 4, 2, 7, 8, 12, 1, 4, 9, 14, 5, 7, 4, 10, 11, 1, 5, 13, 1, 4, 13, 1, 2, 3, 4, 5, 6, 7, 8, 9, 10, 11, 12, 13, 14, 1, 2, 3, 4, 5, 6, 7, 8, 9, 10, 11, 12, 13, 15, 1, 1, 3, 4, 10, 1, 2, 3, 4, 5, 7, 9, 10, 11, 12, 13, 3, 5, 6, 13, 1, 11, 1, 2, 3, 4, 5, 6, 7, 8, 9, 10, 12, 15, 1, 2, 3, 4, 5, 6, 7, 8, 9, 10, 11, 12, 13, 14, 3, 8, 12, 1, 2, 4, 5, 10, 12, 13, 1, 3, 4, 6, 10, 11, 13, 3, 1, 3, 5, 6, 9, 1, 2, 3, 4, 5, 6, 7, 8, 9, 10, 12, 13, 15, 4, 1, 2, 3, 4, 5, 6, 9, 11, 2, 9, 1, 4, 6, 11, 5, 7, 1, 2, 3, 5, 6, 10, 1, 2, 3, 4, 5, 6, 7, 8, 9, 10, 11, 12, 14, 1, 2, 3, 4, 5, 6, 7, 9, 10, 15, 1, 2, 3, 4, 5, 6, 7, 8, 9, 10, 11, 12, 14, 15, 1, 3, 11, 1, 2, 3, 4, 5, 6, 7, 8, 9, 10, 11, 12, 13, 15, 1, 4, 14, 2, 1, 5, 11, 12, 13, 3, 1, 2, 3, 5, 6, 7, 3, 5, 6, 7, 13, 1, 2, 3, 4, 5, 6, 7, 8, 9, 10, 11, 12, 13, 14, 15, 3, 5, 6, 1, 4, 11, 15, 1, 2, 3, 4, 5, 6, 7, 8, 9, 10, 11, 12, 15, 1, 2, 3, 4, 5, 6, 7, 8, 9, 10, 11, 13, 14, 15, 1, 2, 3, 4, 5, 6, 7, 8, 9, 10, 11, 12, 13, 14, 15, 1, 2, 3, 4, 5, 6, 7, 8, 9, 10, 11, 12, 13, 14, 15, 1, 2, 3, 10, 14, 1, 1, 6, 9, 1, 1, 3, 4, 5, 6, 8, 3, 5, 6, 7, 13, 1, 2, 3, 4, 5, 6, 7, 8, 9, 10, 11, 13, 14, 15, 1, 2, 3, 4, 5, 6, 7, 8, 9, 10, 11, 12, 13, 14, 15, 1, 2, 14, 1, 2, 3, 4, 5, 6, 7, 8, 9, 10, 11, 12, 13, 15, 2, 6, 8, 1, 2, 3, 7, 9, 12, 1, 10, 11, 14, 2, 12, 2, 4, 1, 2, 3, 4, 5, 7, 8, 11, 1, 3, 4, 13, 2, 3, 15, 4, 1, 2, 3, 5, 7, 8, 1, 7, 10, 1, 3, 5, 12, 1, 4, 11, 1, 2, 3, 5, 6, 7, 8, 12, 13, 2, 7, 1, 1, 2, 6, 11, 1, 7, 1, 3, 1, 7, 1, 11, 3, 7, 1, 2, 4, 5, 10, 1, 3, 5, 2, 7, 9, 1, 2, 6, 7, 1, 3, 9, 12, 1, 2, 3, 7, 15, 1, 7, 11, 1, 4, 7, 15, 2, 5, 8, 2, 1, 2, 3, 5, 6, 7, 8, 1, 2, 3, 4, 10, 12, 14, 1, 9, 3, 5, 6, 7, 1, 4, 13, 1, 2, 3, 4, 5, 6, 7, 8, 9, 11, 12, 14, 15, 1, 4, 2, 13, 2, 3, 5, 10, 1, 2, 3, 4, 5, 6, 7, 8, 9, 10, 11, 13, 15, 1, 3, 5, 1, 2, 3, 4, 5, 7, 8, 15, 1, 2, 3, 4, 5, 6, 7, 8, 9, 10, 11, 12, 15, 1, 2, 3, 4, 5, 6, 7, 8, 9, 10, 11, 13, 15, 1, 2, 3, 4, 5, 6, 7, 8, 9, 10, 11, 12, 13, 14, 2, 3, 7, 8, 9, 12, 1, 1, 2, 3, 4, 5, 6, 7, 8, 9, 10, 11, 12, 13, 15, 3, 5, 6, 7, 13, 5, 1, 4, 10, 1, 2, 3, 4, 5, 6, 7, 8, 9, 10, 11, 12, 13, 14, 15, 1, 2, 3, 4, 5, 6, 7, 8, 9, 10, 11, 12, 13, 15, 1, 2, 3, 4, 6, 11, 1, 3, 4, 6, 9, 15, 1, 2, 3, 4, 5, 6, 7, 11, 12, 13, 14, 1, 2, 3, 4, 5, 6, 7, 8, 9, 10, 11, 12, 13, 2, 3, 4, 12, 13, 2, 7, 2, 6, 8, 3, 6, 1, 2, 3, 4, 5, 6, 7, 8, 9, 10, 12, 13, 15, 1, 2, 3, 6, 15, 1, 2, 3, 4, 5, 6, 7, 8, 9, 11, 12, 13, 15, 1, 2, 3, 4, 5, 6, 7, 8, 9, 10, 11, 12, 13, 15, 1, 5, 8, 12, 1, 4, 1, 2, 3, 4, 5, 6, 7, 8, 9, 12, 13, 1, 7, 10, 14, 1, 2, 3, 4, 5, 6, 7, 8, 9, 10, 11, 12, 13, 15, 1, 2, 3, 4, 6, 7, 9, 10, 11, 12, 13, 15, 1, 2, 3, 4, 5, 6, 7, 8, 9, 10, 11, 12, 13, 14, 15, 1, 2, 3, 4, 5, 6, 7, 9, 10, 11, 12, 13, 14, 2, 3, 4, 5, 10, 12, 1, 2, 3, 7, 13, 1, 2, 3, 4, 5, 6, 7, 8, 9, 10, 11, 12, 13, 14, 15, 1, 2, 3, 4, 5, 6, 7, 8, 9, 10, 11, 12, 13, 14, 15, 1, 2, 3, 4, 5, 6, 7, 8, 11, 12, 2, 3, 4, 7, 8, 9, 12, 1, 2, 3, 4, 8, 9, 14, 4, 9, 14, 1, 3, 4, 1, 2, 3, 4, 5, 6, 7, 8, 9, 10, 11, 12, 13, 14, 2, 3, 7, 8, 12, 3, 8, 1, 2, 3, 4, 5, 6, 7, 8, 9, 10, 11, 12, 13, 14, 1, 2, 3, 4, 5, 6, 7, 8, 9, 10, 11, 12, 13, 14, 15, 1, 2, 3, 4, 5, 6, 7, 8, 9, 10, 11, 13, 14, 15, 1, 2, 3, 4, 5, 6, 7, 8, 9, 10, 11, 12, 13, 15, 4, 9, 1, 4, 10, 11, 2, 7, 8, 2, 12, 1, 2, 3, 4, 6, 7, 8, 10, 12, 13, 2, 3, 7, 8, 9, 12, 1, 2, 4, 6, 9, 10, 11, 13, 1, 4, 10, 11, 2, 5, 4, 1, 2, 3, 4, 6, 9, 13, 1, 2, 3, 4, 5, 6, 7, 8, 9, 10, 11, 12, 13, 14, 15, 3, 5, 6, 1, 2, 1, 2, 3, 5, 7, 8, 9, 10, 1, 4, 9, 1, 2, 3, 5, 6, 7, 8, 9, 10, 11, 12, 15, 1, 2, 3, 4, 5, 6, 7, 8, 9, 11, 12, 13, 1, 2, 3, 4, 5, 6, 7, 8, 9, 10, 11, 15, 3, 5, 6, 3, 5, 6, 1, 2, 3, 4, 7, 8, 10, 11, 12, 15, 1, 3, 4, 11, 15, 1, 6, 10, 1, 5, 6, 13, 1, 4, 1, 2, 3, 6, 14, 1, 9, 1, 2, 3, 4, 5, 6, 7, 9, 10, 15, 1, 2, 4, 5, 6, 7, 9, 10, 13, 2, 3, 5, 8, 2, 1, 2, 3, 11, 2, 7, 8, 1, 2, 3, 4, 5, 6, 7, 8, 9, 10, 11, 12, 13, 14, 15, 2, 4, 6, 10, 2, 3, 7, 1, 2, 3, 4, 5, 6, 7, 8, 9, 10, 13, 14, 15, 1, 15, 2, 7, 15, 1, 7, 1, 2, 3, 4, 5, 7, 8, 9, 10, 11, 12, 13, 15, 1, 15, 1, 4, 9, 10, 11, 1, 3, 4, 10, 1, 4, 15, 1, 15, 1, 2, 3, 4, 5, 6, 7, 8, 9, 10, 11, 12, 13, 15, 1, 2, 3, 4, 5, 6, 7, 8, 9, 10, 11, 12, 13, 1, 2, 3, 5, 6, 7, 8, 10, 12, 2, 3, 4, 9, 1, 4, 15, 1, 9, 3, 3, 5, 1, 2, 3, 4, 5, 6, 7, 8, 9, 10, 11, 12, 13, 14, 1, 1, 4, 11, 1, 2, 3, 4, 5, 6, 7, 8, 9, 10, 11, 13, 14, 15, 1, 11, 14, 1, 3, 5, 12, 1, 4, 11, 2, 3, 7, 9, 12, 1, 2, 3, 5, 6, 7, 8, 9, 12, 15, 1, 2, 3, 6, 7, 8, 2, 3, 6, 12, 15, 1, 2, 3, 4, 5, 6, 7, 8, 9, 10, 11, 12, 13, 14, 15, 2, 8, 9, 1, 4, 9, 11, 3, 4, 7, 1, 2, 3, 4, 5, 6, 7, 8, 9, 10, 11, 12, 13, 14, 15, 1, 2, 3, 4, 5, 6, 7, 8, 9, 10, 11, 12, 13, 14, 1, 3, 11, 12, 1, 15, 4, 1, 15, 1, 2, 6, 9, 10, 1, 6, 1, 2, 3, 4, 5, 6, 7, 8, 9, 10, 11, 12, 13, 3, 10, 1, 4, 5, 6, 8, 11, 12, 14, 1, 2, 3, 10, 1, 4, 10, 2, 3, 5, 2, 1, 2, 3, 4, 5, 6, 8, 10, 1, 2, 3, 7, 8, 2, 3, 9, 1, 4, 11, 13, 1, 2, 3, 4, 10, 11, 13, 3, 1, 4, 10, 11, 15, 1, 4, 9, 12, 2, 7, 8, 12, 1, 3, 14, 4, 1, 2, 3, 4, 5, 6, 7, 8, 9, 10, 11, 12, 13, 14, 15, 3, 5, 6, 7, 4, 14, 4, 1, 4, 9, 11, 1, 6, 12, 2, 3, 7, 8, 1, 3, 4, 6, 7, 11, 1, 4, 1, 10, 3, 1, 2, 3, 4, 5, 6, 7, 8, 9, 10, 11, 12, 13, 14, 15, 1, 3, 6, 1, 4, 8, 1, 3, 4, 1, 7, 12, 1, 2, 3, 4, 5, 6, 7, 8, 9, 10, 12, 13, 14, 1, 3, 11, 14, 1, 2, 3, 5, 6, 7, 8, 9, 12, 15, 1, 14, 2, 4, 6, 13, 2, 3, 5, 8, 3, 11, 1, 2, 3, 5, 6, 8, 9, 13, 1, 6, 9, 5, 7, 12, 1, 2, 3, 4, 5, 6, 7, 8, 9, 10, 12, 13, 15, 3, 4, 3, 5, 8, 1, 2, 3, 4, 5, 6, 7, 8, 9, 11, 12, 1, 2, 10, 1, 2, 3, 12, 1, 2, 4, 5, 8, 12, 13, 1, 2, 3, 4, 5, 6, 11, 12, 4, 2, 4, 5, 8, 3, 10, 11, 1, 2, 6, 7, 1, 2, 3, 4, 5, 6, 7, 8, 9, 12, 14, 1, 2, 3, 5, 7, 11, 12, 13, 1, 3, 5, 7, 1, 3, 4, 11, 1, 4, 11, 2, 4, 13, 1, 4, 9, 11, 1, 4, 11, 1, 10, 3, 5, 6, 7, 13, 1, 3, 4, 9, 10, 14, 2, 1, 3, 12, 14, 1, 6, 9, 13, 1, 2, 4, 7, 10, 15, 2, 3, 7, 1, 5, 6, 13, 1, 3, 4, 9, 14, 4, 1, 2, 5, 6, 12, 3, 6, 11, 1, 2, 3, 4, 6, 7, 8, 12, 1, 7, 12, 1, 2, 3, 4, 5, 6, 7, 8, 9, 10, 12, 14, 1, 2, 3, 7, 14, 15, 1, 2, 3, 4, 5, 6, 7, 8, 9, 10, 11, 12, 14, 15, 6, 9, 10, 1, 3, 4, 5, 2, 3, 7, 1, 13, 1, 3, 9, 1, 11, 3, 4, 15, 3, 6, 7, 4, 11, 1, 3, 9, 11, 15, 3, 4, 1, 7, 9, 1, 2, 3, 5, 6, 7, 8, 12, 1, 3, 4, 9, 11, 14, 15, 1, 2, 3, 4, 5, 6, 7, 8, 9, 10, 11, 12, 13, 14, 15, 1, 2, 3, 4, 5, 6, 7, 10, 11, 1, 4, 11, 2, 7, 1, 10, 11, 1, 4, 10, 13, 1, 2, 3, 7, 9, 10, 12, 1, 5, 9, 13, 1, 3, 5, 6, 14, 2, 1, 12, 1, 4, 10, 11, 6, 9, 10, 1, 2, 3, 4, 5, 6, 7, 8, 9, 10, 11, 12, 13, 15, 1, 10, 1, 4, 10, 15, 1, 4, 10, 14, 1, 1, 2, 3, 4, 5, 7, 10, 11, 13, 1, 2, 3, 7, 9, 12, 7, 8, 9, 10, 11, 4, 10, 11, 1, 1, 8, 2, 3, 7, 8, 1, 6, 1, 2, 3, 4, 5, 6, 7, 8, 9, 10, 11, 12, 13, 14, 5, 1, 2, 3, 4, 5, 6, 7, 8, 9, 11, 13, 14, 1, 1, 2, 3, 4, 5, 7, 8, 9, 14, 1, 8, 1, 2, 4, 9, 10, 1, 2, 3, 4, 5, 6, 7, 8, 9, 10, 11, 12, 13, 14, 15, 2, 3, 5, 6, 7, 8, 1, 2, 3, 4, 6, 7, 9, 10, 15, 3, 7, 1, 2, 3, 4, 6, 9, 15, 3, 4, 1, 2, 3, 4, 5, 6, 7, 8, 9, 10, 11, 12, 13, 1, 2, 3, 4, 5, 6, 7, 8, 9, 10, 12, 13, 1, 2, 3, 4, 5, 6, 7, 8, 9, 11, 15, 4, 5, 8, 1, 6, 10, 13, 1, 1, 2, 3, 5, 6, 7, 10, 13, 1, 4, 13, 1, 3, 13, 1, 13, 15, 1, 2, 3, 4, 5, 6, 7, 8, 9, 10, 11, 12, 13, 14, 15, 1, 3, 1, 2, 5, 6, 8, 9, 13, 2, 4, 10, 1, 4, 14, 1, 2, 14, 1, 2, 3, 4, 6, 9, 11, 15, 1, 4, 9, 1, 4, 9, 2, 4, 5, 7, 14, 1, 7, 13, 2, 3, 2, 5, 1, 10, 9, 1, 1, 2, 3, 4, 5, 6, 7, 8, 9, 10, 11, 12, 13, 15, 1, 1, 1, 2, 3, 4, 5, 6, 7, 8, 9, 10, 11, 12, 13, 1, 3, 7, 15, 1, 2, 5, 9, 14, 3, 5, 6, 1, 7, 8, 9, 11, 15, 1, 1, 11, 15, 3, 6, 12, 3, 8, 14, 3, 6, 10, 13, 1, 2, 3, 4, 5, 6, 7, 8, 9, 10, 11, 12, 13, 14, 1, 2, 3, 4, 5, 6, 7, 8, 1, 2, 3, 4, 5, 6, 7, 8, 9, 10, 12, 13, 14, 15, 1, 2, 3, 15, 5, 6, 6, 7, 9, 13, 1, 4, 1, 1, 2, 3, 4, 5, 6, 7, 8, 9, 11, 13, 14, 4, 1, 2, 3, 4, 5, 6, 7, 8, 9, 10, 11, 13, 14, 1, 4, 9, 13, 1, 10, 11, 2, 3, 5, 6, 7, 1, 2, 3, 4, 5, 6, 7, 11, 13, 14, 1, 2, 3, 4, 5, 6, 7, 8, 9, 10, 11, 12, 13, 14, 15, 1, 2, 3, 4, 10, 14, 1, 2, 3, 4, 5, 6, 7, 8, 9, 10, 11, 12, 13, 14, 1, 2, 3, 4, 5, 6, 7, 8, 9, 10, 11, 12, 13, 14, 15, 1, 3, 9, 11, 15, 1, 2, 3, 4, 5, 6, 7, 8, 9, 10, 11, 12, 13, 14, 15, 2, 1, 2, 3, 4, 5, 7, 8, 9, 12, 15, 1, 2, 3, 4, 5, 6, 7, 8, 9, 10, 11, 12, 13, 14, 15, 1, 2, 3, 4, 5, 6, 7, 8, 9, 10, 11, 12, 13, 14, 15, 4, 11, 13, 1, 4, 14, 1, 2, 3, 4, 5, 6, 7, 8, 9, 10, 11, 12, 13, 14, 15, 1, 2, 3, 4, 5, 6, 7, 8, 10, 12, 14, 1, 2, 4, 10, 1, 15, 1, 3, 4, 14, 1, 10, 12, 3, 6, 4, 11, 1, 4, 14, 1, 2, 3, 4, 5, 6, 7, 8, 12, 13, 15, 3, 1, 4, 1, 5, 9, 10, 13, 3, 6, 6, 7, 2, 6, 13, 1, 2, 12, 1, 2, 3, 12, 1, 5, 14, 2, 1, 1, 1, 9, 1, 11, 3, 4, 13, 3, 5, 6, 1, 10, 11, 1, 2, 5, 7, 14, 4, 1, 15, 1, 4, 3, 1, 4, 11, 1, 10, 11, 1, 4, 9, 1, 11, 13, 1, 2, 3, 4, 5, 6, 7, 8, 9, 12, 13, 15, 1, 1, 2, 3, 4, 5, 6, 7, 8, 9, 10, 11, 12, 13, 14, 15, 1, 5, 14, 1, 2, 3, 4, 5, 6, 7, 8, 9, 10, 11, 12, 13, 14, 3, 5, 6, 7, 13, 3, 5, 1, 11, 14, 1, 15, 1, 2, 3, 4, 5, 10, 11, 13, 14, 1, 3, 10, 11, 13, 1, 2, 3, 7, 8, 9, 12, 1, 7, 1, 2, 3, 5, 7, 9, 3, 6, 7, 1, 6, 15, 1, 2, 3, 4, 5, 6, 7, 8, 11, 1, 2, 3, 4, 5, 6, 7, 8, 9, 10, 11, 12, 13, 14, 1, 4, 15, 3, 5, 6, 7, 13, 1, 2, 3, 4, 5, 6, 7, 10, 11, 13, 14, 1, 4, 13, 1, 2, 3, 4, 5, 6, 7, 8, 9, 10, 11, 12, 13, 14, 1, 2, 3, 4, 5, 6, 7, 8, 9, 10, 11, 12, 13, 14, 15, 1, 7, 10, 11, 3, 7, 1, 2, 3, 4, 5, 6, 7, 8, 9, 10, 11, 12, 13, 14, 1, 4], \"Freq\": [0.7371918559074402, 0.18429796397686005, 0.2305869460105896, 0.658819854259491, 0.09882297366857529, 0.03990398347377777, 0.9177916049957275, 0.03990398347377777, 0.5672943592071533, 0.08104205131530762, 0.24312613904476166, 0.08104205131530762, 0.3352941870689392, 0.22352945804595947, 0.22352945804595947, 0.11176472902297974, 0.7757192254066467, 0.1551438421010971, 0.19384723901748657, 0.37532126903533936, 0.0907370075583458, 0.02887086570262909, 0.12373228371143341, 0.0453685037791729, 0.06599055230617523, 0.020622046664357185, 0.004124409519135952, 0.008248819038271904, 0.004124409519135952, 0.008248819038271904, 0.020622046664357185, 0.004124409519135952, 0.2409133017063141, 0.08030442893505096, 0.16060885787010193, 0.4818266034126282, 0.17126713693141937, 0.34253427386283875, 0.17126713693141937, 0.17126713693141937, 0.31673261523246765, 0.097456194460392, 0.07309214770793915, 0.048728097230196, 0.097456194460392, 0.097456194460392, 0.024364048615098, 0.17054833471775055, 0.024364048615098, 0.8347176909446716, 0.05909505859017372, 0.03693441301584244, 0.022160647436976433, 0.01477376464754343, 0.022160647436976433, 0.23711389303207397, 0.4053882658481598, 0.03441976010799408, 0.011473252438008785, 0.04971743002533913, 0.0573662631213665, 0.13385461270809174, 0.02294650487601757, 0.015297669917345047, 0.0076488349586725235, 0.011473252438008785, 0.015297669917345047, 0.0038244174793362617, 0.5635977983474731, 0.1878659427165985, 0.277849406003952, 0.138924703001976, 0.277849406003952, 0.277849406003952, 0.7312869429588318, 0.18282173573970795, 0.5571492910385132, 0.1857164204120636, 0.1857164204120636, 0.2287604957818985, 0.11438024789094925, 0.2287604957818985, 0.11438024789094925, 0.2287604957818985, 0.7819592952728271, 0.15639185905456543, 0.8933484554290771, 0.15053175389766693, 0.15053175389766693, 0.4515952467918396, 0.11687721312046051, 0.3603714108467102, 0.09739767760038376, 0.029219303280115128, 0.11687721312046051, 0.11687721312046051, 0.04869883880019188, 0.029219303280115128, 0.01947953552007675, 0.009739767760038376, 0.04869883880019188, 0.1899358481168747, 0.09496792405843735, 0.3798716962337494, 0.1899358481168747, 0.19106519222259521, 0.38213038444519043, 0.19106519222259521, 0.16873955726623535, 0.16873955726623535, 0.16873955726623535, 0.16873955726623535, 0.16873955726623535, 0.3830886483192444, 0.2001209408044815, 0.14580239355564117, 0.09148386120796204, 0.04860080033540726, 0.034306447952985764, 0.028588706627488136, 0.017153223976492882, 0.014294353313744068, 0.011435482650995255, 0.014294353313744068, 0.005717741325497627, 0.0028588706627488136, 0.49733784794807434, 0.33155855536460876, 0.16577927768230438, 0.5018520355224609, 0.12546300888061523, 0.25092601776123047, 0.4995817542076111, 0.16652725636959076, 0.12489543855190277, 0.04163181409239769, 0.12489543855190277, 0.16321608424186707, 0.6120603084564209, 0.16321608424186707, 0.040804021060466766, 0.8881105780601501, 0.7259027361869812, 0.19797347486019135, 0.5577300786972046, 0.13943251967430115, 0.13943251967430115, 0.13943251967430115, 0.5881579518318176, 0.10808030515909195, 0.11562079191207886, 0.0980263203382492, 0.01256747730076313, 0.01256747730076313, 0.010053982026875019, 0.0050269910134375095, 0.007540486287325621, 0.0025134955067187548, 0.022621458396315575, 0.007540486287325621, 0.0025134955067187548, 0.007540486287325621, 0.7751976251602173, 0.15503951907157898, 0.1787816435098648, 0.7151265740394592, 0.8929321765899658, 0.5489311218261719, 0.13723278045654297, 0.13723278045654297, 0.17735137045383453, 0.2561742067337036, 0.07882282882928848, 0.11823424696922302, 0.07882282882928848, 0.05911712348461151, 0.15764565765857697, 0.01970570720732212, 0.01970570720732212, 0.08558385819196701, 0.3225853145122528, 0.21066796779632568, 0.039500243961811066, 0.23041808605194092, 0.04608361795544624, 0.02633349597454071, 0.006583373993635178, 0.02633349597454071, 0.013166747987270355, 0.931805431842804, 0.41665080189704895, 0.13888360559940338, 0.13888360559940338, 0.13888360559940338, 0.06659824401140213, 0.3163416385650635, 0.14152126014232635, 0.0915725827217102, 0.0998973622918129, 0.21644428372383118, 0.016649561002850533, 0.008324780501425266, 0.016649561002850533, 0.008324780501425266, 0.008324780501425266, 0.11807025969028473, 0.25863009691238403, 0.1911613792181015, 0.04497914761304855, 0.033734358847141266, 0.11244786530733109, 0.1911613792181015, 0.022489573806524277, 0.011244786903262138, 0.016867179423570633, 0.3343770205974579, 0.3343770205974579, 0.11145900189876556, 0.11145900189876556, 0.9466130137443542, 0.3502756655216217, 0.253140389919281, 0.17513783276081085, 0.06034160777926445, 0.0353219173848629, 0.0441523939371109, 0.0382654070854187, 0.0103022251278162, 0.008830479346215725, 0.008830479346215725, 0.0044152396731078625, 0.0014717464800924063, 0.008830479346215725, 0.0014717464800924063, 0.7751830816268921, 0.15503662824630737, 0.7608600854873657, 0.19021502137184143, 0.9086904525756836, 0.010948077775537968, 0.010948077775537968, 0.05474039167165756, 0.6717467904090881, 0.09796307235956192, 0.2029235064983368, 0.013994724489748478, 0.006997362244874239, 0.08450912684202194, 0.16901825368404388, 0.6338184475898743, 0.08450912684202194, 0.35848531126976013, 0.23899021744728088, 0.47798043489456177, 0.5125364065170288, 0.04456838220357895, 0.0891367644071579, 0.22284190356731415, 0.0891367644071579, 0.022284191101789474, 0.9067436456680298, 0.6497939825057983, 0.30684715509414673, 0.030083054676651955, 0.734642744064331, 0.18366068601608276, 0.3910852372646332, 0.1955426186323166, 0.1955426186323166, 0.1955426186323166, 0.5630216598510742, 0.3753477931022644, 0.006878148298710585, 0.646545946598053, 0.06878148019313812, 0.01375629659742117, 0.020634444430470467, 0.048147037625312805, 0.1238066703081131, 0.04126888886094093, 0.006878148298710585, 0.01375629659742117, 0.006878148298710585, 0.9401429891586304, 0.28289878368377686, 0.2653546631336212, 0.14035287499427795, 0.05482534319162369, 0.08772055059671402, 0.0394742451608181, 0.07456246763467789, 0.026316164061427116, 0.006579041015356779, 0.010965068824589252, 0.004386027343571186, 0.004386027343571186, 0.002193013671785593, 0.002193013671785593, 0.6469683051109314, 0.055454425513744354, 0.027727212756872177, 0.1756056845188141, 0.009242404252290726, 0.01848480850458145, 0.009242404252290726, 0.01848480850458145, 0.009242404252290726, 0.009242404252290726, 0.01848480850458145, 0.3784836232662201, 0.09462090581655502, 0.09462090581655502, 0.4731045365333557, 0.8049269914627075, 0.027970436960458755, 0.03729391470551491, 0.06837217509746552, 0.006215652450919151, 0.05283304676413536, 0.9288579821586609, 0.1572921723127365, 0.07078147679567337, 0.7235440015792847, 0.04718765243887901, 0.3302525579929352, 0.17744913697242737, 0.1873074173927307, 0.05093447491526604, 0.08872456848621368, 0.0690079927444458, 0.04271923378109932, 0.008215237408876419, 0.009858285076916218, 0.006572190206497908, 0.008215237408876419, 0.009858285076916218, 0.003286095103248954, 0.003286095103248954, 0.001643047551624477, 0.17975854873657227, 0.5392756462097168, 0.60130375623703, 0.06681153178215027, 0.13362306356430054, 0.13362306356430054, 0.2909403443336487, 0.6650065183639526, 0.02078145369887352, 0.6332217454910278, 0.3166108727455139, 0.8870534896850586, 0.006427923683077097, 0.08034905046224594, 0.009641885757446289, 0.009641885757446289, 0.7871688604354858, 0.010783134959638119, 0.01617470197379589, 0.1509638875722885, 0.010783134959638119, 0.005391567479819059, 0.01617470197379589, 0.24102774262428284, 0.12051387131214142, 0.4820554852485657, 0.12051387131214142, 0.8244737982749939, 0.11778196692466736, 0.8667317628860474, 0.01111194584518671, 0.02222389169037342, 0.033335838466882706, 0.01111194584518671, 0.01111194584518671, 0.02222389169037342, 0.02222389169037342, 0.37533193826675415, 0.18766596913337708, 0.18766596913337708, 0.07440795749425888, 0.10417114198207855, 0.3162338137626648, 0.011161194182932377, 0.29019102454185486, 0.1636975109577179, 0.014881591312587261, 0.0037203978281468153, 0.0037203978281468153, 0.0037203978281468153, 0.011161194182932377, 0.0037203978281468153, 0.5488418936729431, 0.10976837575435638, 0.21953675150871277, 0.14685416221618652, 0.8076978921890259, 0.103313148021698, 0.826505184173584, 0.8798065185546875, 0.02513732761144638, 0.07541198283433914, 0.4338647723197937, 0.08976512402296066, 0.08976512402296066, 0.11968683451414108, 0.04488256201148033, 0.05984341725707054, 0.04488256201148033, 0.02992170862853527, 0.02992170862853527, 0.04488256201148033, 0.20674869418144226, 0.4134973883628845, 0.20674869418144226, 0.10337434709072113, 0.9390580058097839, 0.013511626049876213, 0.020267438143491745, 0.0067558130249381065, 0.0067558130249381065, 0.7134907245635986, 0.027980029582977295, 0.13990014791488647, 0.027980029582977295, 0.04197004437446594, 0.05596005916595459, 0.6977625489234924, 0.0041782185435295105, 0.22562381625175476, 0.0041782185435295105, 0.06685149669647217, 0.9397645592689514, 0.82646644115448, 0.02666020765900612, 0.0977540984749794, 0.008886735886335373, 0.008886735886335373, 0.008886735886335373, 0.008886735886335373, 0.37377992272377014, 0.18688996136188507, 0.18688996136188507, 0.18688996136188507, 0.044780146330595016, 0.044780146330595016, 0.8508227467536926, 0.10497049242258072, 0.734793484210968, 0.10497049242258072, 0.1615925431251526, 0.43208441138267517, 0.07377050817012787, 0.003512881463393569, 0.06323186308145523, 0.06674474477767944, 0.09133491665124893, 0.056206103414297104, 0.003512881463393569, 0.010538644157350063, 0.010538644157350063, 0.014051525853574276, 0.007025762926787138, 0.007025762926787138, 0.6559675931930542, 0.21865586936473846, 0.969603419303894, 0.026205498725175858, 0.6258919835090637, 0.15647299587726593, 0.15647299587726593, 0.37661418318748474, 0.18830709159374237, 0.18830709159374237, 0.5608999729156494, 0.186966672539711, 0.7611653804779053, 0.19029134511947632, 0.9105117321014404, 0.02276279404759407, 0.02276279404759407, 0.02276279404759407, 0.33409616351127625, 0.03712179511785507, 0.5568269491195679, 0.03712179511785507, 0.7706258296966553, 0.1541251689195633, 0.812178909778595, 0.1353631466627121, 0.3373245894908905, 0.4047895073890686, 0.1349298357963562, 0.0674649178981781, 0.3058057427406311, 0.03822571784257889, 0.15290287137031555, 0.2675800323486328, 0.03822571784257889, 0.03822571784257889, 0.15290287137031555, 0.03822571784257889, 0.43495553731918335, 0.15856239199638367, 0.1774735003709793, 0.08728204667568207, 0.027639316394925117, 0.036367520689964294, 0.027639316394925117, 0.016001708805561066, 0.004364102613180876, 0.004364102613180876, 0.010182905942201614, 0.007273504044860601, 0.004364102613180876, 0.0029094016645103693, 0.0014547008322551847, 0.5931422710418701, 0.3886104226112366, 0.6716310977935791, 0.03950771316885948, 0.2765539884567261, 0.8800941705703735, 0.03143193572759628, 0.047147903591394424, 0.01571596786379814, 0.01571596786379814, 0.8974773287773132, 0.015211479738354683, 0.015211479738354683, 0.06084591895341873, 0.0076057398691773415, 0.4257415533065796, 0.08514831215143204, 0.2554449439048767, 0.17029662430286407, 0.08514831215143204, 0.07828737050294876, 0.8415892720222473, 0.03914368525147438, 0.03914368525147438, 0.05175630375742912, 0.828100860118866, 0.05175630375742912, 0.5289717316627502, 0.16750770807266235, 0.04408097639679909, 0.10873308032751083, 0.032326050102710724, 0.011754927225410938, 0.04114224389195442, 0.008816195651888847, 0.0029387318063527346, 0.011754927225410938, 0.008816195651888847, 0.023509854450821877, 0.0029387318063527346, 0.0029387318063527346, 0.20803354680538177, 0.3014979064464569, 0.15376392006874084, 0.05426961928606033, 0.08441940695047379, 0.0814044326543808, 0.04522468522191048, 0.033164769411087036, 0.00904493685811758, 0.00602995790541172, 0.00602995790541172, 0.01808987371623516, 0.38374924659729004, 0.21088923513889313, 0.08297280967235565, 0.08297280967235565, 0.041486404836177826, 0.027657603845000267, 0.07951561361551285, 0.027657603845000267, 0.024200404062867165, 0.01728600263595581, 0.010371601209044456, 0.0034572004806250334, 0.006914400961250067, 0.0034572004806250334, 0.0034572004806250334, 0.7570205330848694, 0.04453061893582344, 0.17812247574329376, 0.01716746762394905, 0.9356269836425781, 0.008583733811974525, 0.025751201435923576, 0.008583733811974525, 0.1327195018529892, 0.3981585204601288, 0.3981585204601288, 0.3367888033390045, 0.3367888033390045, 0.16839440166950226, 0.16839440166950226, 0.2477990984916687, 0.2477990984916687, 0.12389954924583435, 0.12389954924583435, 0.513836145401001, 0.12090262770652771, 0.07724334299564362, 0.14105306565761566, 0.013433624990284443, 0.057092905044555664, 0.023508843034505844, 0.01679203100502491, 0.023508843034505844, 0.0067168124951422215, 0.0067168124951422215, 0.0033584062475711107, 0.25529083609580994, 0.1685882955789566, 0.12042021006345749, 0.12523701786994934, 0.03371765837073326, 0.14450424909591675, 0.02890084870159626, 0.06261850893497467, 0.02890084870159626, 0.019267233088612556, 0.004816808272153139, 0.004816808272153139, 0.004816808272153139, 0.08532673120498657, 0.8959306478500366, 0.13504913449287415, 0.3279764950275421, 0.15434187650680542, 0.11575640738010406, 0.07717093825340271, 0.038585469126701355, 0.07717093825340271, 0.019292734563350677, 0.019292734563350677, 0.019292734563350677, 0.019292734563350677, 0.41782742738723755, 0.2300398200750351, 0.16900883615016937, 0.17370353639125824, 0.06594236195087433, 0.4615965187549591, 0.4615965187549591, 0.09940454363822937, 0.43075302243232727, 0.13253939151763916, 0.2982136309146881, 0.03313484787940979, 0.5589151978492737, 0.18630506098270416, 0.18630506098270416, 0.9453433156013489, 0.03501271456480026, 0.6609436869621277, 0.09012868255376816, 0.09763941168785095, 0.07510723918676376, 0.007510724011808634, 0.007510724011808634, 0.04506434127688408, 0.007510724011808634, 0.007510724011808634, 0.5458394289016724, 0.0693129375576973, 0.03465646877884865, 0.21660293638706207, 0.008664117194712162, 0.043320588767528534, 0.008664117194712162, 0.017328234389424324, 0.03465646877884865, 0.008664117194712162, 0.008664117194712162, 0.008664117194712162, 0.4189269542694092, 0.13964231312274933, 0.13964231312274933, 0.27928462624549866, 0.4438338875770569, 0.12328719347715378, 0.22191694378852844, 0.04931487515568733, 0.024657437577843666, 0.04931487515568733, 0.07397231459617615, 0.37092509865760803, 0.16485559940338135, 0.061820849776268005, 0.2678903639316559, 0.12364169955253601, 0.7388408184051514, 0.03436468914151192, 0.2233704775571823, 0.8659066557884216, 0.005586494691669941, 0.033518966287374496, 0.08379741758108139, 0.005586494691669941, 0.022702407091856003, 0.642153799533844, 0.18486246466636658, 0.0064864023588597775, 0.016216006129980087, 0.02594560943543911, 0.07135042548179626, 0.012972804717719555, 0.0032432011794298887, 0.009729603305459023, 0.3850967288017273, 0.19254836440086365, 0.19254836440086365, 0.4450831115245819, 0.14956721663475037, 0.2159075289964676, 0.06754648685455322, 0.0361856184899807, 0.04101036861538887, 0.008443310856819153, 0.01085568591952324, 0.006030936259776354, 0.002412374597042799, 0.002412374597042799, 0.006030936259776354, 0.0036185618955641985, 0.004824749194085598, 0.0012061872985213995, 0.2127087414264679, 0.7657514810562134, 0.3960750997066498, 0.3960750997066498, 0.44712015986442566, 0.44712015986442566, 0.19587767124176025, 0.28104186058044434, 0.051098521798849106, 0.03406568244099617, 0.051098521798849106, 0.03406568244099617, 0.28104186058044434, 0.04258210211992264, 0.008516420610249043, 0.008516420610249043, 0.008516420610249043, 0.008516420610249043, 0.008516420610249043, 0.05020887404680252, 0.502088725566864, 0.35146212577819824, 0.10041774809360504, 0.35895901918411255, 0.17947950959205627, 0.17947950959205627, 0.08973975479602814, 0.17947950959205627, 0.546604573726654, 0.1366511434316635, 0.273302286863327, 0.1366511434316635, 0.561555027961731, 0.3743700385093689, 0.3812476694583893, 0.19062383472919464, 0.19062383472919464, 0.415689617395401, 0.10392240434885025, 0.415689617395401, 0.24716950953006744, 0.24716950953006744, 0.24716950953006744, 0.24716950953006744, 0.23079819977283478, 0.46159639954566956, 0.03297116979956627, 0.021980781108140945, 0.13188467919826508, 0.010990390554070473, 0.010990390554070473, 0.07693273574113846, 0.010990390554070473, 0.010990390554070473, 0.9601803421974182, 0.5637079477310181, 0.18790265917778015, 0.7756785154342651, 0.15513570606708527, 0.179763063788414, 0.719052255153656, 0.18093524873256683, 0.5428057312965393, 0.18093524873256683, 0.1470869779586792, 0.3241361081600189, 0.2533164620399475, 0.09805797785520554, 0.046305157244205475, 0.0381336584687233, 0.027238328009843826, 0.024514494463801384, 0.005447665695101023, 0.005447665695101023, 0.02179066278040409, 0.005447665695101023, 0.0027238328475505114, 0.8705922365188599, 0.02024633064866066, 0.04049266129732132, 0.02024633064866066, 0.03036949597299099, 0.26902708411216736, 0.02445700764656067, 0.6114251613616943, 0.02445700764656067, 0.02445700764656067, 0.02445700764656067, 0.24823646247386932, 0.0827454924583435, 0.41372746229171753, 0.165490984916687, 0.42952683568000793, 0.42952683568000793, 0.07158780843019485, 0.02897791378200054, 0.3477349579334259, 0.49262452125549316, 0.10142269730567932, 0.01448895689100027, 0.8639858365058899, 0.7526227831840515, 0.0024045456666499376, 0.0024045456666499376, 0.18034091591835022, 0.0192363653331995, 0.012022728100419044, 0.028854547068476677, 0.7887763381004333, 0.01300180796533823, 0.02600361593067646, 0.12135020643472672, 0.004333936143666506, 0.008667872287333012, 0.004333936143666506, 0.008667872287333012, 0.008667872287333012, 0.01300180796533823, 0.004333936143666506, 0.8335646986961365, 0.01975271664559841, 0.003950543235987425, 0.11851630359888077, 0.011851630173623562, 0.00790108647197485, 0.9306474328041077, 0.026589926332235336, 0.22402720153331757, 0.3525674045085907, 0.07712411880493164, 0.047743503004312515, 0.07712411880493164, 0.08079669624567032, 0.03672577068209648, 0.06243380904197693, 0.01101773139089346, 0.0036725772079080343, 0.01101773139089346, 0.01101773139089346, 0.19801916182041168, 0.5186216235160828, 0.047147419303655624, 0.028288450092077255, 0.01885896734893322, 0.1225832849740982, 0.01885896734893322, 0.05657690018415451, 0.4406351149082184, 0.20807769894599915, 0.12145711481571198, 0.07061459869146347, 0.04236876219511032, 0.04331028833985329, 0.03389500826597214, 0.012239864096045494, 0.0018830560147762299, 0.012239864096045494, 0.0037661120295524597, 0.0037661120295524597, 0.002824584022164345, 0.0018830560147762299, 0.0009415280073881149, 0.4914184510707855, 0.190338134765625, 0.13496704399585724, 0.03114623948931694, 0.03460693359375, 0.02422485314309597, 0.03114623948931694, 0.017303466796875, 0.003460693173110485, 0.00692138634622097, 0.017303466796875, 0.00692138634622097, 0.003460693173110485, 0.00692138634622097, 0.07931742817163467, 0.2827838957309723, 0.34485840797424316, 0.01896721124649048, 0.09311176836490631, 0.08104172348976135, 0.044831592589616776, 0.03276154771447182, 0.010345752350986004, 0.0017242919420823455, 0.0017242919420823455, 0.005172876175493002, 0.0017242919420823455, 0.30279743671417236, 0.15139871835708618, 0.15139871835708618, 0.3532636761665344, 0.05046623945236206, 0.11649347841739655, 0.34948045015335083, 0.4659739136695862, 0.7536895275115967, 0.03795558959245682, 0.054222267121076584, 0.07591117918491364, 0.010844454169273376, 0.021688908338546753, 0.016266681253910065, 0.005422227084636688, 0.005422227084636688, 0.016266681253910065, 0.005422227084636688, 0.8684276342391968, 0.03216398507356644, 0.03216398507356644, 0.03216398507356644, 0.7725602388381958, 0.09657002985477448, 0.33717212080955505, 0.08429303020238876, 0.2528791129589081, 0.16858606040477753, 0.3102002739906311, 0.46530038118362427, 0.15510013699531555, 0.7700735926628113, 0.11001051217317581, 0.055005256086587906, 0.6878182291984558, 0.2292727380990982, 0.18728896975517273, 0.18728896975517273, 0.37457793951034546, 0.18728896975517273, 0.13420288264751434, 0.6710144281387329, 0.19910474121570587, 0.19910474121570587, 0.39820948243141174, 0.19910474121570587, 0.19910474121570587, 0.8899454474449158, 0.04045206680893898, 0.04045206680893898, 0.6296265721321106, 0.08072135597467422, 0.016144271939992905, 0.03228854387998581, 0.016144271939992905, 0.016144271939992905, 0.03228854387998581, 0.048432815819978714, 0.08072135597467422, 0.016144271939992905, 0.8714973330497742, 0.22578009963035583, 0.27093613147735596, 0.3160921335220337, 0.04515602067112923, 0.04515602067112923, 0.04515602067112923, 0.38524293899536133, 0.48155367374420166, 0.09631073474884033, 0.5524560809135437, 0.15784458816051483, 0.07892229408025742, 0.07892229408025742, 0.07892229408025742, 0.640864372253418, 0.1602160930633545, 0.1602160930633545, 0.7492110133171082, 0.10703013837337494, 0.5628823041915894, 0.18762743473052979, 0.20775635540485382, 0.41551271080970764, 0.31163451075553894, 0.43493711948394775, 0.21746855974197388, 0.10873427987098694, 0.21746855974197388, 0.13255418837070465, 0.39766255021095276, 0.13255418837070465, 0.2651083767414093, 0.662807285785675, 0.307731956243515, 0.515977680683136, 0.18575195968151093, 0.02063910663127899, 0.14447374641895294, 0.02063910663127899, 0.12383463978767395, 0.567924439907074, 0.3407546579837799, 0.5953763127326965, 0.09429873526096344, 0.1294296383857727, 0.14052359759807587, 0.014791958034038544, 0.001848994754254818, 0.001848994754254818, 0.005546984262764454, 0.005546984262764454, 0.007395979017019272, 0.001848994754254818, 0.001848994754254818, 0.001848994754254818, 0.3251175284385681, 0.16574619710445404, 0.16255876421928406, 0.05099882930517197, 0.12430964410305023, 0.05418625473976135, 0.07649824023246765, 0.006374853663146496, 0.003187426831573248, 0.006374853663146496, 0.006374853663146496, 0.009562280029058456, 0.006374853663146496, 0.46623796224594116, 0.008796942420303822, 0.008796942420303822, 0.36947157979011536, 0.048383183777332306, 0.030789298936724663, 0.0659770667552948, 0.44780951738357544, 0.44780951738357544, 0.7206335663795471, 0.06005279719829559, 0.06005279719829559, 0.12010559439659119, 0.5920407772064209, 0.19734691083431244, 0.11481493711471558, 0.791292130947113, 0.018618637695908546, 0.006206213030964136, 0.012412426061928272, 0.021721744909882545, 0.009309318847954273, 0.018618637695908546, 0.006206213030964136, 0.17629484832286835, 0.5288845300674438, 0.6844197511672974, 0.09777424484491348, 0.19554848968982697, 0.0014278164599090815, 0.9466423392295837, 0.012850348837673664, 0.005711265839636326, 0.0014278164599090815, 0.022845063358545303, 0.004283449612557888, 0.002855632919818163, 0.0014278164599090815, 0.004628551192581654, 0.7775965929031372, 0.020057054236531258, 0.0015428503975272179, 0.0015428503975272179, 0.0030857007950544357, 0.12497087568044662, 0.03857125714421272, 0.0015428503975272179, 0.024685606360435486, 0.07699646055698395, 0.8469610810279846, 0.038498230278491974, 0.038498230278491974, 0.28384220600128174, 0.09461406618356705, 0.5676844120025635, 0.4283101260662079, 0.35465168952941895, 0.20733484625816345, 0.005456179846078157, 0.2766813039779663, 0.13834065198898315, 0.5072490572929382, 0.046113550662994385, 0.4722292423248291, 0.4722292423248291, 0.02777818962931633, 0.009259396232664585, 0.001219982630573213, 0.001219982630573213, 0.36721476912498474, 0.27327609062194824, 0.32085540890693665, 0.030499564483761787, 0.004879930522292852, 0.48264724016189575, 0.24132362008094788, 0.24132362008094788, 0.5549037456512451, 0.06936296820640564, 0.008670371025800705, 0.026011114940047264, 0.08670371770858765, 0.1994185447692871, 0.03468148410320282, 0.008670371025800705, 0.7894440293312073, 0.15445643663406372, 0.01716182567179203, 0.008580912835896015, 0.004290456417948008, 0.008580912835896015, 0.008580912835896015, 0.004290456417948008, 0.5656310319900513, 0.18854369223117828, 0.18854369223117828, 0.22801272571086884, 0.513028621673584, 0.17100954055786133, 0.08550477027893066, 0.799921989440918, 0.014544036239385605, 0.007272018119692802, 0.14544035494327545, 0.007272018119692802, 0.014544036239385605, 0.007272018119692802, 0.007272018119692802, 0.1366792917251587, 0.8382996916770935, 0.018223905935883522, 0.1305607110261917, 0.2611214220523834, 0.1305607110261917, 0.1305607110261917, 0.2611214220523834, 0.14597690105438232, 0.4014365077018738, 0.10948268324136734, 0.01824711263179779, 0.03649422526359558, 0.1642240285873413, 0.01824711263179779, 0.07298845052719116, 0.01824711263179779, 0.15741145610809326, 0.4722343981266022, 0.15741145610809326, 0.26186808943748474, 0.7070438861846924, 0.026186808943748474, 0.22340697050094604, 0.6937374472618103, 0.011758261360228062, 0.03527478501200676, 0.023516522720456123, 0.8935199975967407, 0.9551867246627808, 0.40607523918151855, 0.2255973517894745, 0.12510399520397186, 0.1045951396226883, 0.038966815918684006, 0.03691593185067177, 0.02050884999334812, 0.002050884999334812, 0.002050884999334812, 0.008203539997339249, 0.004101769998669624, 0.018457965925335884, 0.004101769998669624, 0.002050884999334812, 0.19135919213294983, 0.38271838426589966, 0.19135919213294983, 0.39313384890556335, 0.19656692445278168, 0.19656692445278168, 0.19656692445278168, 0.07772194594144821, 0.23316584527492523, 0.07772194594144821, 0.46633169054985046, 0.07772194594144821, 0.39962857961654663, 0.37742698192596436, 0.02220158651471138, 0.02220158651471138, 0.04440317302942276, 0.02220158651471138, 0.02220158651471138, 0.02220158651471138, 0.02220158651471138, 0.16793854534626007, 0.16793854534626007, 0.33587709069252014, 0.16793854534626007, 0.16793854534626007, 0.6312042474746704, 0.21040143072605133, 0.10520071536302567, 0.33571428060531616, 0.20142856240272522, 0.13428570330142975, 0.06714285165071487, 0.06714285165071487, 0.13428570330142975, 0.26379260420799255, 0.26379260420799255, 0.17586174607276917, 0.26379260420799255, 0.6799607872962952, 0.062040217220783234, 0.04218734800815582, 0.14641490578651428, 0.01737126149237156, 0.01985286921262741, 0.004963217303156853, 0.009926434606313705, 0.009926434606313705, 0.0024816086515784264, 0.0024816086515784264, 0.0024816086515784264, 0.41070055961608887, 0.41070055961608887, 0.5791248679161072, 0.13892753422260284, 0.08117114007472992, 0.11239080876111984, 0.012487867847084999, 0.009365901350975037, 0.009365901350975037, 0.0031219669617712498, 0.012487867847084999, 0.010926884599030018, 0.018731802701950073, 0.0062439339235424995, 0.004682950675487518, 0.6966302394866943, 0.06966302543878555, 0.06966302543878555, 0.08558600395917892, 0.011942232958972454, 0.007961488328874111, 0.009951860643923283, 0.001990372082218528, 0.007961488328874111, 0.021894093602895737, 0.011942232958972454, 0.001990372082218528, 0.001990372082218528, 0.18884515762329102, 0.49155282974243164, 0.022217076271772385, 0.013885673135519028, 0.23883357644081116, 0.02499421127140522, 0.008331404067575932, 0.005554269067943096, 0.532705545425415, 0.08878425508737564, 0.17756851017475128, 0.17756851017475128, 0.41288718581199646, 0.05630279704928398, 0.13137319684028625, 0.018767599016427994, 0.18767598271369934, 0.018767599016427994, 0.07507039606571198, 0.03753519803285599, 0.018767599016427994, 0.018767599016427994, 0.12907974421977997, 0.4662676453590393, 0.09746837615966797, 0.005268561188131571, 0.07639413326978683, 0.03424564749002457, 0.09746837615966797, 0.044782768934965134, 0.005268561188131571, 0.007902842015028, 0.018439963459968567, 0.0026342805940657854, 0.005268561188131571, 0.0026342805940657854, 0.628250241279602, 0.314125120639801, 0.3876650035381317, 0.5286340713500977, 0.07048454135656357, 0.11456321179866791, 0.22912642359733582, 0.22912642359733582, 0.22912642359733582, 0.11456321179866791, 0.11456321179866791, 0.11456321179866791, 0.2966077923774719, 0.6673675179481506, 0.19763951003551483, 0.1290706992149353, 0.18957258760929108, 0.030250946059823036, 0.11293686181306839, 0.1189870536327362, 0.07461900264024734, 0.09075284004211426, 0.01815056800842285, 0.002016729675233364, 0.002016729675233364, 0.028234215453267097, 0.004033459350466728, 0.18857242166996002, 0.18857242166996002, 0.37714484333992004, 0.18857242166996002, 0.7309366464614868, 0.1827341616153717, 0.4582730233669281, 0.4582730233669281, 0.2530617117881775, 0.30578291416168213, 0.10807844251394272, 0.02636059559881687, 0.08435390889644623, 0.0738096684217453, 0.09226208180189133, 0.018452417105436325, 0.013180297799408436, 0.0026360596530139446, 0.0026360596530139446, 0.010544238612055779, 0.005272119306027889, 0.0026360596530139446, 0.4207111895084381, 0.24317702651023865, 0.07011853158473969, 0.07608606666326523, 0.04028085619211197, 0.049232158809900284, 0.05072404071688652, 0.01790260337293148, 0.00447565084323287, 0.007459417916834354, 0.005967534612864256, 0.002983767306432128, 0.00447565084323287, 0.002983767306432128, 0.001491883653216064, 0.853473424911499, 0.030481193214654922, 0.007620298303663731, 0.05334208905696869, 0.03810149431228638, 0.7313084602355957, 0.18282711505889893, 0.6341601610183716, 0.10569336265325546, 0.21138672530651093, 0.4389691948890686, 0.10974229872226715, 0.2194845974445343, 0.10974229872226715, 0.6113094091415405, 0.1746598333120346, 0.0873299166560173, 0.13099487125873566, 0.5714156627655029, 0.38094377517700195, 0.2012265920639038, 0.2012265920639038, 0.2012265920639038, 0.2012265920639038, 0.03453851491212845, 0.2763081192970276, 0.2072310894727707, 0.0690770298242569, 0.1381540596485138, 0.03453851491212845, 0.0690770298242569, 0.1381540596485138, 0.0690770298242569, 0.8982980847358704, 0.058584656566381454, 0.0195282194763422, 0.0195282194763422, 0.9476687908172607, 0.83090740442276, 0.07838749140501022, 0.015677498653531075, 0.047032494097948074, 0.015677498653531075, 0.3475324213504791, 0.5212985873222351, 0.24314448237419128, 0.48628896474838257, 0.1620963215827942, 0.16436439752578735, 0.05478813126683235, 0.13697032630443573, 0.6026694178581238, 0.05478813126683235, 0.2781086564064026, 0.21893660724163055, 0.05325485020875931, 0.10059249401092529, 0.06508926302194595, 0.13609573245048523, 0.09467529505491257, 0.029586028307676315, 0.0059172059409320354, 0.01775161735713482, 0.0059172059409320354, 0.011834411881864071, 0.18065044283866882, 0.5419512987136841, 0.18065044283866882, 0.48504623770713806, 0.16168206930160522, 0.16168206930160522, 0.16168206930160522, 0.9435646533966064, 0.008424684405326843, 0.03369873762130737, 0.9574313163757324, 0.07018508017063141, 0.008773135021328926, 0.4518164396286011, 0.004386567510664463, 0.20616866648197174, 0.12721045315265656, 0.12282388657331467, 0.004386567510664463, 0.5823864936828613, 0.17129014432430267, 0.022838687524199486, 0.05709671601653099, 0.034258030354976654, 0.034258030354976654, 0.022838687524199486, 0.011419343762099743, 0.011419343762099743, 0.022838687524199486, 0.022838687524199486, 0.8274751901626587, 0.0061294459737837315, 0.14097726345062256, 0.0061294459737837315, 0.0061294459737837315, 0.0061294459737837315, 0.9476453065872192, 0.14387431740760803, 0.2807869613170624, 0.1810031682252884, 0.023205535486340523, 0.1670798510313034, 0.09978380054235458, 0.055693283677101135, 0.006961660459637642, 0.004641106817871332, 0.004641106817871332, 0.01856442727148533, 0.006961660459637642, 0.002320553408935666, 0.002320553408935666, 0.23601187765598297, 0.3006726801395416, 0.19074933230876923, 0.07112687081098557, 0.04202951490879059, 0.048495594412088394, 0.038796473294496536, 0.02263127639889717, 0.009699118323624134, 0.009699118323624134, 0.0064660790376365185, 0.019398236647248268, 0.0032330395188182592, 0.5489417910575867, 0.18298059701919556, 0.18298059701919556, 0.3190293312072754, 0.07975733280181885, 0.1435631960630417, 0.07975733280181885, 0.06380587071180344, 0.06380587071180344, 0.11166027188301086, 0.01595146767795086, 0.01595146767795086, 0.07975733280181885, 0.01595146767795086, 0.01595146767795086, 0.01595146767795086, 0.01595146767795086, 0.871185839176178, 0.3303532600402832, 0.38541215658187866, 0.20922374725341797, 0.07708243280649185, 0.17720244824886322, 0.35440489649772644, 0.17720244824886322, 0.17720244824886322, 0.8236569166183472, 0.11766527593135834, 0.5933422446250916, 0.1318538337945938, 0.2637076675891876, 0.5407058000564575, 0.13517645001411438, 0.13517645001411438, 0.30572986602783203, 0.5836660861968994, 0.09264541417360306, 0.4590812027454376, 0.15412011742591858, 0.07542048394680023, 0.07542048394680023, 0.062303878366947174, 0.06558302789926529, 0.039349816739559174, 0.0032791513949632645, 0.0032791513949632645, 0.03607066720724106, 0.006558302789926529, 0.0032791513949632645, 0.009837454184889793, 0.0032791513949632645, 0.3429758846759796, 0.2488851547241211, 0.13354812562465668, 0.06070369482040405, 0.05766851082444191, 0.05766851082444191, 0.03642221540212631, 0.015175923705101013, 0.012140738777816296, 0.006070369388908148, 0.006070369388908148, 0.018211107701063156, 0.003035184694454074, 0.003035184694454074, 0.9641515016555786, 0.3209264576435089, 0.16046322882175446, 0.16046322882175446, 0.3209264576435089, 0.8252016305923462, 0.01737266592681408, 0.05211799964308739, 0.03474533185362816, 0.00868633296340704, 0.01737266592681408, 0.01737266592681408, 0.00868633296340704, 0.00868633296340704, 0.00434316648170352, 0.00434316648170352, 0.35742315649986267, 0.518263578414917, 0.05361347645521164, 0.05361347645521164, 0.9391236305236816, 0.032383572310209274, 0.2719838619232178, 0.19012464582920074, 0.3010306656360626, 0.047531161457300186, 0.055453021079301834, 0.06601549685001373, 0.03168743848800659, 0.015843719244003296, 0.005281239748001099, 0.005281239748001099, 0.005281239748001099, 0.0026406198740005493, 0.35331326723098755, 0.18521052598953247, 0.1658712774515152, 0.062480658292770386, 0.09520862251520157, 0.04686049371957779, 0.04090995714068413, 0.013388712890446186, 0.012644895352423191, 0.004462904296815395, 0.005950538907200098, 0.005950538907200098, 0.007438173983246088, 0.0014876347268000245, 0.3425002098083496, 0.3425002098083496, 0.2283334583044052, 0.4559876620769501, 0.1302821934223175, 0.06514109671115875, 0.06514109671115875, 0.06514109671115875, 0.06514109671115875, 0.1302821934223175, 0.6956228613853455, 0.01795155741274357, 0.22888237237930298, 0.004487889353185892, 0.008975778706371784, 0.004487889353185892, 0.04039100557565689, 0.9217687249183655, 0.2280375063419342, 0.1520250141620636, 0.0760125070810318, 0.4560750126838684, 0.0760125070810318, 0.26194846630096436, 0.260730117559433, 0.20955878496170044, 0.04386113956570625, 0.08406718820333481, 0.05238969624042511, 0.03898768126964569, 0.02314893528819084, 0.006091825198382139, 0.004873460158705711, 0.006091825198382139, 0.006091825198382139, 0.0012183650396764278, 0.8967025279998779, 0.5270277857780457, 0.22101165354251862, 0.03400179371237755, 0.05100268870592117, 0.017000896856188774, 0.03400179371237755, 0.08500448614358902, 0.017000896856188774, 0.6181103587150574, 0.24724413454532623, 0.4887109696865082, 0.09774219244718552, 0.09774219244718552, 0.19548438489437103, 0.4569883644580841, 0.3046588897705078, 0.1277763396501541, 0.07666580379009247, 0.17888687551021576, 0.4855501055717468, 0.07666580379009247, 0.025555267930030823, 0.4185774624347687, 0.12642747163772583, 0.17084793746471405, 0.11617660522460938, 0.029044151306152344, 0.04442046582698822, 0.027335671707987785, 0.02050175331532955, 0.017084794119000435, 0.015376314520835876, 0.006833917926996946, 0.005125438328832388, 0.0017084794817492366, 0.8035763502120972, 0.045918647199869156, 0.07461780309677124, 0.01721949316561222, 0.0057398308999836445, 0.0057398308999836445, 0.011479661799967289, 0.022959323599934578, 0.0057398308999836445, 0.0057398308999836445, 0.641413152217865, 0.0727042555809021, 0.06947296112775803, 0.11955811083316803, 0.01777215301990509, 0.01777215301990509, 0.011309551075100899, 0.0016156501369550824, 0.00646260054782033, 0.01292520109564066, 0.02100345306098461, 0.003231300273910165, 0.003231300273910165, 0.0016156501369550824, 0.9074999094009399, 0.0477631501853466, 0.0238815750926733, 0.20206449925899506, 0.4005207121372223, 0.10103224962949753, 0.003608294762670994, 0.046907830983400345, 0.08659907430410385, 0.12629032135009766, 0.007216589525341988, 0.003608294762670994, 0.003608294762670994, 0.003608294762670994, 0.007216589525341988, 0.007216589525341988, 0.003608294762670994, 0.18551157414913177, 0.5565347075462341, 0.18551157414913177, 0.9269387125968933, 0.2929057478904724, 0.1464528739452362, 0.1464528739452362, 0.1464528739452362, 0.1464528739452362, 0.7754148244857788, 0.008011549711227417, 0.0020028874278068542, 0.25636959075927734, 0.4987189769744873, 0.21631184220314026, 0.01402021199464798, 0.2757723331451416, 0.3151683807373047, 0.3808284401893616, 0.006566007621586323, 0.013132015243172646, 0.3183867633342743, 0.1910320669412613, 0.11049894243478775, 0.09364316612482071, 0.05805876478552818, 0.09926176071166992, 0.07678739726543427, 0.007491453550755978, 0.011237180791795254, 0.005618590395897627, 0.003745726775377989, 0.013110043480992317, 0.003745726775377989, 0.007491453550755978, 0.0018728633876889944, 0.2651107907295227, 0.21208864450454712, 0.5302215814590454, 0.323604017496109, 0.323604017496109, 0.1618020087480545, 0.1618020087480545, 0.5811368823051453, 0.10698754340410233, 0.09482987225055695, 0.109419085085392, 0.014589210972189903, 0.029178421944379807, 0.01702074520289898, 0.009726140648126602, 0.009726140648126602, 0.007294605486094952, 0.014589210972189903, 0.004863070324063301, 0.0024315351620316505, 0.30576229095458984, 0.25397998094558716, 0.2737065553665161, 0.02712407521903515, 0.03945319727063179, 0.03452154994010925, 0.02712407521903515, 0.004931649658828974, 0.004931649658828974, 0.004931649658828974, 0.007397474721074104, 0.007397474721074104, 0.002465824829414487, 0.002465824829414487, 0.4134223759174347, 0.17534257471561432, 0.21234145760536194, 0.06756319105625153, 0.03056430071592331, 0.022521063685417175, 0.03860753774642944, 0.011260531842708588, 0.00482594221830368, 0.006434589624404907, 0.00482594221830368, 0.0032172948122024536, 0.0032172948122024536, 0.0016086474061012268, 0.0032172948122024536, 0.5190901756286621, 0.20610933005809784, 0.05190901458263397, 0.07481005042791367, 0.02442777156829834, 0.025954507291316986, 0.0396951287984848, 0.007633678615093231, 0.01221388578414917, 0.01221388578414917, 0.010687150061130524, 0.0030534714460372925, 0.004580207169055939, 0.004580207169055939, 0.0015267357230186462, 0.6679257154464722, 0.017126301303505898, 0.10275780409574509, 0.11988410353660583, 0.06850520521402359, 0.9472802877426147, 0.5080951452255249, 0.12702378630638123, 0.25404757261276245, 0.9782850742340088, 0.03331225365400314, 0.43305930495262146, 0.03331225365400314, 0.03331225365400314, 0.33312252163887024, 0.09993676096200943, 0.27823272347450256, 0.27823272347450256, 0.28666403889656067, 0.1264694184064865, 0.025293884798884392, 0.37387537956237793, 0.19408831000328064, 0.13892637193202972, 0.0469898022711277, 0.053118906915187836, 0.09806567430496216, 0.028602488338947296, 0.02451641857624054, 0.010215174406766891, 0.006129104644060135, 0.006129104644060135, 0.010215174406766891, 0.0020430348813533783, 0.006129104644060135, 0.26432040333747864, 0.270282506942749, 0.1609770804643631, 0.009936857037246227, 0.055646397173404694, 0.07750748097896576, 0.09936857223510742, 0.029810570180416107, 0.011924228630959988, 0.0019873713608831167, 0.0019873713608831167, 0.009936857037246227, 0.0019873713608831167, 0.0019873713608831167, 0.0019873713608831167, 0.5472479462623596, 0.18241597712039948, 0.18241597712039948, 0.4718310534954071, 0.2701825797557831, 0.07775986939668655, 0.030313167721033096, 0.04481077194213867, 0.02767723985016346, 0.018451493233442307, 0.028995204716920853, 0.010543710552155972, 0.006589819211512804, 0.0013179638190194964, 0.009225746616721153, 0.0013179638190194964, 0.002635927638038993, 0.45593544840812683, 0.1519784778356552, 0.3039569556713104, 0.3040885329246521, 0.24327082931995392, 0.12163541465997696, 0.06081770732998848, 0.06081770732998848, 0.18245312571525574, 0.8586021065711975, 0.034344084560871124, 0.048081718385219574, 0.04121290147304535, 0.9199883937835693, 0.038332849740982056, 0.9264779686927795, 0.02647079899907112, 0.3221639394760132, 0.09475409984588623, 0.05685245990753174, 0.03790163993835449, 0.15160655975341797, 0.13265573978424072, 0.15160655975341797, 0.018950819969177246, 0.3692522644996643, 0.24616818130016327, 0.12308409065008163, 0.12308409065008163, 0.14291885495185852, 0.42875656485557556, 0.28583770990371704, 0.9098576307296753, 0.08760765194892883, 0.043803825974464417, 0.21901912987232208, 0.13141147792339325, 0.39423444867134094, 0.043803825974464417, 0.5008819699287415, 0.12522049248218536, 0.2504409849643707, 0.18528585135936737, 0.37057170271873474, 0.18528585135936737, 0.18528585135936737, 0.352196604013443, 0.44024574756622314, 0.1760983020067215, 0.14103597402572632, 0.32236796617507935, 0.02014799788594246, 0.14103597402572632, 0.06044398993253708, 0.04029599577188492, 0.201479971408844, 0.04029599577188492, 0.02014799788594246, 0.3875313103199005, 0.5167084336280823, 0.9535253047943115, 0.6745527386665344, 0.06132297217845917, 0.06132297217845917, 0.12264594435691833, 0.35050642490386963, 0.5257596373558044, 0.1797925978899002, 0.7191703915596008, 0.3002457022666931, 0.6004914045333862, 0.6691839098930359, 0.2676735818386078, 0.11832762509584427, 0.7099657654762268, 0.10042732954025269, 0.20085465908050537, 0.10042732954025269, 0.30128198862075806, 0.20085465908050537, 0.26222091913223267, 0.13111045956611633, 0.5244418382644653, 0.3840329945087433, 0.19201649725437164, 0.19201649725437164, 0.2541293799877167, 0.2904335856437683, 0.03630419820547104, 0.3630419671535492, 0.1940886676311493, 0.3881773352622986, 0.1940886676311493, 0.1940886676311493, 0.5789228677749634, 0.09262765198945999, 0.18525530397891998, 0.06947074085474014, 0.046313825994729996, 0.539319634437561, 0.13482990860939026, 0.2696598172187805, 0.3303048014640808, 0.1651524007320404, 0.1651524007320404, 0.1651524007320404, 0.21180938184261322, 0.5295234322547913, 0.21180938184261322, 0.8571195006370544, 0.16403912007808685, 0.16403912007808685, 0.10935941338539124, 0.05467970669269562, 0.05467970669269562, 0.43743765354156494, 0.05467970669269562, 0.4429684281349182, 0.08053971081972122, 0.12080956995487213, 0.16107942163944244, 0.04026985540986061, 0.04026985540986061, 0.08053971081972122, 0.3982965350151062, 0.3982965350151062, 0.06010647490620613, 0.2855057716369629, 0.6311179995536804, 0.015026618726551533, 0.08271300792694092, 0.8271300196647644, 0.04135650396347046, 0.19607722759246826, 0.15201492607593536, 0.41859182715415955, 0.014320246875286102, 0.004406229592859745, 0.07049967348575592, 0.09142926335334778, 0.01762491837143898, 0.020929591730237007, 0.0033046721946448088, 0.0077109020203351974, 0.0011015573982149363, 0.0022031147964298725, 0.1118614673614502, 0.866926372051239, 0.7411903738975525, 0.21176867187023163, 0.9671100974082947, 0.016892753541469574, 0.0042231883853673935, 0.0042231883853673935, 0.4195215106010437, 0.21699389815330505, 0.06590184569358826, 0.09965645521879196, 0.05143558979034424, 0.0642944872379303, 0.003214724361896515, 0.02411043271422386, 0.00642944872379303, 0.011251535266637802, 0.017680983990430832, 0.014466259628534317, 0.004822086542844772, 0.1330302357673645, 0.266060471534729, 0.532120943069458, 0.15234284102916718, 0.43163806200027466, 0.21581903100013733, 0.012695237062871456, 0.038085710257291794, 0.08886665850877762, 0.012695237062871456, 0.025390474125742912, 0.21997195482254028, 0.20839448273181915, 0.1505071222782135, 0.05788735672831535, 0.02315494231879711, 0.08104229718446732, 0.1157747134566307, 0.011577471159398556, 0.011577471159398556, 0.04630988463759422, 0.02315494231879711, 0.011577471159398556, 0.03473241254687309, 0.5197238922119141, 0.15734760463237762, 0.08582596480846405, 0.09536217898130417, 0.023840544745326042, 0.019072435796260834, 0.019072435796260834, 0.014304326847195625, 0.0047681089490652084, 0.03337676450610161, 0.014304326847195625, 0.0047681089490652084, 0.0047681089490652084, 0.32676708698272705, 0.27271538972854614, 0.14004303514957428, 0.0515948049724102, 0.07370686531066895, 0.027025850489735603, 0.02948274463415146, 0.03193964064121246, 0.0122844772413373, 0.007370686158537865, 0.01474137231707573, 0.004913790617138147, 0.004913790617138147, 0.0024568953085690737, 0.4359424412250519, 0.1265639364719391, 0.09843861311674118, 0.2531278729438782, 0.01406265888363123, 0.05625063553452492, 0.9433572292327881, 0.48809587955474854, 0.1553863286972046, 0.1261371374130249, 0.10968446731567383, 0.021936893463134766, 0.021936893463134766, 0.023764967918395996, 0.016452670097351074, 0.010968446731567383, 0.007312297821044922, 0.0018280744552612305, 0.003656148910522461, 0.010968446731567383, 0.0018280744552612305, 0.35227519273757935, 0.2791103422641754, 0.31975749135017395, 0.03522752225399017, 0.00541961845010519, 0.7963663935661316, 0.32654187083244324, 0.16327093541622162, 0.32654187083244324, 0.33273330330848694, 0.20189103484153748, 0.19907721877098083, 0.049945168197155, 0.0696418508887291, 0.04080027714371681, 0.05205552652478218, 0.016179420053958893, 0.0063310773111879826, 0.0063310773111879826, 0.005627624690532684, 0.004220718517899513, 0.010551796294748783, 0.001406906172633171, 0.002813812345266342, 0.27803096175193787, 0.27071434259414673, 0.07682434469461441, 0.03658302128314972, 0.047557927668094635, 0.06950774043798447, 0.1426737755537033, 0.03292471915483475, 0.0073166037909686565, 0.0073166037909686565, 0.0073166037909686565, 0.010974906384944916, 0.014633207581937313, 0.0036583018954843283, 0.19843904674053192, 0.03779791295528412, 0.06614634394645691, 0.6614634394645691, 0.00944947823882103, 0.01889895647764206, 0.6085873246192932, 0.12812365591526031, 0.12812365591526031, 0.03203091397881508, 0.03203091397881508, 0.03203091397881508, 0.296133816242218, 0.35985881090164185, 0.20616909861564636, 0.04873088002204895, 0.026239704340696335, 0.011245587840676308, 0.007497058250010014, 0.007497058250010014, 0.014994116500020027, 0.022491175681352615, 0.003748529125005007, 0.2706463932991028, 0.4776113033294678, 0.08915410935878754, 0.025472601875662804, 0.05094520375132561, 0.01751241460442543, 0.022288527339696884, 0.011144263669848442, 0.006368150468915701, 0.004776112735271454, 0.0031840752344578505, 0.012736300937831402, 0.009552225470542908, 0.8686641454696655, 0.017727840691804886, 0.03545568138360977, 0.03545568138360977, 0.017727840691804886, 0.19013336300849915, 0.7605334520339966, 0.39687782526016235, 0.13229261338710785, 0.2645852267742157, 0.766605794429779, 0.15332116186618805, 0.16983941197395325, 0.28306567668914795, 0.10190364718437195, 0.0113226268440485, 0.12454889714717865, 0.03396788239479065, 0.045290507376194, 0.16983941197395325, 0.0113226268440485, 0.0113226268440485, 0.022645253688097, 0.0113226268440485, 0.0113226268440485, 0.39511916041374207, 0.09877979010343552, 0.09877979010343552, 0.19755958020687103, 0.09877979010343552, 0.4461701214313507, 0.22438965737819672, 0.14872337877750397, 0.0443560965359211, 0.013045910745859146, 0.03391936793923378, 0.028701001778244972, 0.023482639342546463, 0.018264275044202805, 0.0052183642983436584, 0.007827546447515488, 0.0026091821491718292, 0.0026091821491718292, 0.4972057044506073, 0.23658858239650726, 0.08687236905097961, 0.046208709478378296, 0.036966968327760696, 0.02033183164894581, 0.03511861711740494, 0.014786786399781704, 0.009241742081940174, 0.003696696599945426, 0.003696696599945426, 0.003696696599945426, 0.003696696599945426, 0.001848348299972713, 0.43250828981399536, 0.10812707245349884, 0.3243812024593353, 0.10812707245349884, 0.2036101520061493, 0.7635380625724792, 0.26812902092933655, 0.3010571300983429, 0.0940803587436676, 0.02587209828197956, 0.06585624814033508, 0.05174419656395912, 0.12700848281383514, 0.03998415172100067, 0.002352008828893304, 0.01646406203508377, 0.009408035315573215, 0.16589628159999847, 0.4976888597011566, 0.16589628159999847, 0.16589628159999847, 0.6051074266433716, 0.11965401470661163, 0.05469897761940956, 0.039314888417720795, 0.07008306682109833, 0.023930802941322327, 0.030768174678087234, 0.01709343120455742, 0.006837372202426195, 0.011965401470661163, 0.0034186861012130976, 0.00854671560227871, 0.006837372202426195, 0.0017093430506065488, 0.723503828048706, 0.03875913470983505, 0.04198906198143959, 0.11627740412950516, 0.012919711880385876, 0.022609494626522064, 0.009689783677458763, 0.012919711880385876, 0.009689783677458763, 0.003229927970096469, 0.006459855940192938, 0.003229927970096469, 0.5783579349517822, 0.06777632236480713, 0.10618291050195694, 0.10317062586545944, 0.05045570805668831, 0.032382022589445114, 0.01581447571516037, 0.0022592106834053993, 0.01430833525955677, 0.010542984120547771, 0.007530702743679285, 0.0007530702860094607, 0.004518421366810799, 0.0015061405720189214, 0.0030122811440378428, 0.5839611887931824, 0.1291949450969696, 0.046510182321071625, 0.08785256743431091, 0.02583898976445198, 0.020671192556619644, 0.015503394417464733, 0.005167798139154911, 0.03617458790540695, 0.010335596278309822, 0.010335596278309822, 0.010335596278309822, 0.010335596278309822, 0.27712592482566833, 0.09237531572580338, 0.09237531572580338, 0.18475063145160675, 0.09237531572580338, 0.18475063145160675, 0.3568936586380005, 0.10196961462497711, 0.30590885877609253, 0.10196961462497711, 0.10196961462497711, 0.41126498579978943, 0.1409718543291092, 0.1264086365699768, 0.13980679214000702, 0.05708777531981468, 0.05067996308207512, 0.027961358428001404, 0.010485509410500526, 0.009902981109917164, 0.006407811306416988, 0.005242754705250263, 0.0034951698035001755, 0.0075728679075837135, 0.0017475849017500877, 0.0005825283005833626, 0.5841667652130127, 0.1366196572780609, 0.0659543126821518, 0.02355511300265789, 0.04711022600531578, 0.014133067801594734, 0.018844090402126312, 0.05182124674320221, 0.009422045201063156, 0.014133067801594734, 0.004711022600531578, 0.009422045201063156, 0.004711022600531578, 0.014133067801594734, 0.004711022600531578, 0.4892728328704834, 0.20968836545944214, 0.04659741371870041, 0.02912338264286518, 0.04659741371870041, 0.02912338264286518, 0.07572079449892044, 0.011649353429675102, 0.01747402921319008, 0.04077273607254028, 0.5398800373077393, 0.043190404772758484, 0.010797601193189621, 0.17276161909103394, 0.08638080954551697, 0.053988002240657806, 0.08638080954551697, 0.8199684619903564, 0.0066126491874456406, 0.0727391391992569, 0.06612648814916611, 0.0066126491874456406, 0.013225298374891281, 0.013225298374891281, 0.48072555661201477, 0.28843533992767334, 0.09614511579275131, 0.9197525382041931, 0.027051545679569244, 0.027051545679569244, 0.51380455493927, 0.17903704941272736, 0.10699847340583801, 0.06250406056642532, 0.022247206419706345, 0.042375631630420685, 0.03601928800344467, 0.007415735628455877, 0.006356345023959875, 0.010593907907605171, 0.004237563349306583, 0.0021187816746532917, 0.005296953953802586, 0.0010593908373266459, 0.5847681760787964, 0.01169536355882883, 0.14034436643123627, 0.15203972160816193, 0.1052582710981369, 0.8485142588615417, 0.12121632695198059, 0.49287837743759155, 0.13215981423854828, 0.17724964022636414, 0.08396035432815552, 0.029541606083512306, 0.04198017716407776, 0.017103035002946854, 0.0015548213850706816, 0.006219285540282726, 0.004664463922381401, 0.004664463922381401, 0.003109642770141363, 0.004664463922381401, 0.003109642770141363, 0.5623010993003845, 0.150135800242424, 0.13030654191970825, 0.08073340356349945, 0.01841288059949875, 0.01982925646007061, 0.014163754880428314, 0.0014163755113258958, 0.004249126650393009, 0.004249126650393009, 0.005665502045303583, 0.0028327510226517916, 0.0028327510226517916, 0.0014163755113258958, 0.0014163755113258958, 0.5357460379600525, 0.09062370657920837, 0.16258959472179413, 0.10128532350063324, 0.037315644323825836, 0.021323224529623985, 0.01599241979420185, 0.007996209897100925, 0.005330806132405996, 0.005330806132405996, 0.007996209897100925, 0.002665403066202998, 0.005330806132405996, 0.002665403066202998, 0.4036397933959961, 0.1938881129026413, 0.1145702451467514, 0.037015002220869064, 0.052878573536872864, 0.052878573536872864, 0.09694405645132065, 0.008813096210360527, 0.024676669389009476, 0.0017626191256567836, 0.007050476502627134, 0.0017626191256567836, 0.003525238251313567, 0.0017626191256567836, 0.638738751411438, 0.25549548864364624, 0.7702068090438843, 0.05635659396648407, 0.15028426051139832, 0.01878553256392479, 0.9125750064849854, 0.055307574570178986, 0.013826893642544746, 0.8236041069030762, 0.1372673511505127, 0.2869894206523895, 0.46602869033813477, 0.021063445135951042, 0.1632416993379593, 0.0026329306419938803, 0.0026329306419938803, 0.01316465251147747, 0.010531722567975521, 0.0052658612839877605, 0.028962235897779465, 0.27342161536216736, 0.05592714995145798, 0.1802097111940384, 0.4598454535007477, 0.006214127875864506, 0.012428255751729012, 0.6143410801887512, 0.00243786140345037, 0.33642488718032837, 0.00243786140345037, 0.00487572280690074, 0.024378614500164986, 0.007313584443181753, 0.00243786140345037, 0.5050030946731567, 0.47188812494277954, 0.008278738707304, 0.008278738707304, 0.9082252979278564, 0.08256593346595764, 0.8735459446907043, 0.40579110383987427, 0.2705273926258087, 0.04508790001273155, 0.1502930074930191, 0.01502930000424385, 0.01502930000424385, 0.0901758000254631, 0.36045601963996887, 0.1919456273317337, 0.0970887765288353, 0.04687044396996498, 0.1294517070055008, 0.05356622114777565, 0.054682184010744095, 0.010043666698038578, 0.014507518149912357, 0.011159629561007023, 0.003347888821735978, 0.02343522198498249, 0.0022319259587675333, 0.0011159629793837667, 0.0011159629793837667, 0.23061957955360413, 0.6259673833847046, 0.09883695840835571, 0.9358587265014648, 0.957456648349762, 0.0017244865885004401, 0.9657124876976013, 0.0051734596490859985, 0.008622433058917522, 0.0017244865885004401, 0.0051734596490859985, 0.0068979463540017605, 0.0034489731770008802, 0.7474382519721985, 0.1019233986735344, 0.1019233986735344, 0.1757078319787979, 0.38985174894332886, 0.027454348281025887, 0.07138130813837051, 0.06589043885469437, 0.15374435484409332, 0.05490869656205177, 0.005490869749337435, 0.005490869749337435, 0.005490869749337435, 0.03843608871102333, 0.01098173949867487, 0.26262137293815613, 0.2708283066749573, 0.18055219948291779, 0.012310377322137356, 0.1066899374127388, 0.020517295226454735, 0.02462075464427471, 0.09437955915927887, 0.008206917904317379, 0.012310377322137356, 0.008206917904317379, 0.0041034589521586895, 0.24001748859882355, 0.12500910460948944, 0.14001020789146423, 0.010000729002058506, 0.20501494407653809, 0.040002916008234024, 0.13500984013080597, 0.050003644078969955, 0.015001093037426472, 0.005000364501029253, 0.015001093037426472, 0.015001093037426472, 0.1220225989818573, 0.8053491115570068, 0.04880904033780098, 0.15141645073890686, 0.37854111194610596, 0.37854111194610596, 0.6558883190155029, 0.20078213512897491, 0.03346369042992592, 0.013385475613176823, 0.006692737806588411, 0.04015642777085304, 0.013385475613176823, 0.013385475613176823, 0.013385475613176823, 0.013385475613176823, 0.43948397040367126, 0.4043252468109131, 0.03515871986746788, 0.01757935993373394, 0.08789679408073425, 0.5580950379371643, 0.13952375948429108, 0.27904751896858215, 0.11929120123386383, 0.4771648049354553, 0.23858240246772766, 0.11929120123386383, 0.8238824009895325, 0.1647764891386032, 0.4620745778083801, 0.1540248692035675, 0.1540248692035675, 0.051341619342565536, 0.10268323868513107, 0.4964616596698761, 0.33097442984580994, 0.5597022175788879, 0.07749723643064499, 0.07749723643064499, 0.13777285814285278, 0.051664821803569794, 0.034443214535713196, 0.025832410901784897, 0.008610803633928299, 0.008610803633928299, 0.017221607267856598, 0.04749405384063721, 0.04749405384063721, 0.14248216152191162, 0.23747026920318604, 0.04749405384063721, 0.18997621536254883, 0.18997621536254883, 0.04749405384063721, 0.04749405384063721, 0.940742552280426, 0.009502450004220009, 0.019004900008440018, 0.019004900008440018, 0.9343731999397278, 0.35670775175094604, 0.08917693793773651, 0.35670775175094604, 0.17835387587547302, 0.11835958808660507, 0.591797947883606, 0.23671917617321014, 0.43289950489997864, 0.20862627029418945, 0.10257458686828613, 0.038248151540756226, 0.09040471911430359, 0.045202359557151794, 0.045202359557151794, 0.0069542089477181435, 0.0069542089477181435, 0.0069542089477181435, 0.005215656943619251, 0.0017385522369295359, 0.0069542089477181435, 0.0017385522369295359, 0.0017385522369295359, 0.18983638286590576, 0.18983638286590576, 0.18983638286590576, 0.3796727657318115, 0.09623364359140396, 0.19246728718280792, 0.577401876449585, 0.13195395469665527, 0.27319109439849854, 0.3282271921634674, 0.05105756223201752, 0.06896086037158966, 0.08222256600856781, 0.03646968677639961, 0.0026523408014327288, 0.003978511318564415, 0.009283192455768585, 0.007293937262147665, 0.00331542594358325, 0.0006630852003581822, 0.7361848950386047, 0.18404622375965118, 0.28962206840515137, 0.28962206840515137, 0.14481103420257568, 0.4002787172794342, 0.48033446073532104, 0.40266573429107666, 0.12155947089195251, 0.15194933116436005, 0.053182266652584076, 0.03038986772298813, 0.06077973544597626, 0.1291569322347641, 0.007597466930747032, 0.015194933861494064, 0.007597466930747032, 0.007597466930747032, 0.007597466930747032, 0.007597466930747032, 0.7748724818229675, 0.15497449040412903, 0.5215648412704468, 0.44755902886390686, 0.0035240869037806988, 0.0070481738075613976, 0.010572261177003384, 0.8960130214691162, 0.012800185941159725, 0.0768011212348938, 0.012800185941159725, 0.8644571900367737, 0.03601904958486557, 0.07203809916973114, 0.7958558797836304, 0.0994819849729538, 0.350175142288208, 0.25236085057258606, 0.1975848525762558, 0.052819713950157166, 0.025431713089346886, 0.033256854861974716, 0.044994570314884186, 0.007825142703950405, 0.0039125713519752026, 0.013693999499082565, 0.00586885679513216, 0.0039125713519752026, 0.0019562856759876013, 0.0019562856759876013, 0.20208148658275604, 0.46553584933280945, 0.1062798872590065, 0.055385295301675797, 0.016465898603200912, 0.016465898603200912, 0.026944197714328766, 0.07334809005260468, 0.011975198984146118, 0.004490699619054794, 0.004490699619054794, 0.005987599492073059, 0.010478299111127853, 0.19922998547554016, 0.37632331252098083, 0.08854665607213974, 0.04427332803606987, 0.06640999764204025, 0.04427332803606987, 0.04427332803606987, 0.022136664018034935, 0.08854665607213974, 0.1929846704006195, 0.1929846704006195, 0.1929846704006195, 0.1929846704006195, 0.6229801177978516, 0.1557450294494629, 0.1557450294494629, 0.5774347186088562, 0.2887173593044281, 0.823367714881897, 0.15101401507854462, 0.7550700902938843, 0.5416980981826782, 0.125751331448555, 0.06771226227283478, 0.10318058729171753, 0.038692720234394073, 0.03224393352866173, 0.02257075347006321, 0.009673180058598518, 0.006448786705732346, 0.016121966764330864, 0.006448786705732346, 0.009673180058598518, 0.009673180058598518, 0.009673180058598518, 0.935745894908905, 0.19360210001468658, 0.7467509508132935, 0.027657443657517433, 0.5488665103912354, 0.14618052542209625, 0.14618052542209625, 0.0634368285536766, 0.019306860864162445, 0.01379061583429575, 0.01654873788356781, 0.00551624596118927, 0.008274368941783905, 0.00551624596118927, 0.01654873788356781, 0.00551624596118927, 0.002758122980594635, 0.002758122980594635, 0.693632960319519, 0.08670412003993988, 0.17340824007987976, 0.12131957709789276, 0.12131957709789276, 0.48527830839157104, 0.12131957709789276, 0.40352320671081543, 0.26901546120643616, 0.26901546120643616, 0.8692302107810974, 0.026745544746518135, 0.06686386466026306, 0.013372772373259068, 0.013372772373259068, 0.1438359171152115, 0.1438359171152115, 0.48904210329055786, 0.019178122282028198, 0.038356244564056396, 0.038356244564056396, 0.07671248912811279, 0.019178122282028198, 0.019178122282028198, 0.009589061141014099, 0.04218912124633789, 0.1898510456085205, 0.44298577308654785, 0.04218912124633789, 0.10547280311584473, 0.14766192436218262, 0.5454256534576416, 0.07791794836521149, 0.07791794836521149, 0.15583589673042297, 0.07791794836521149, 0.7209523320198059, 0.07177622616291046, 0.06699114292860031, 0.05423092469573021, 0.009570163674652576, 0.011165190488100052, 0.023925408720970154, 0.0031900545582175255, 0.007975135929882526, 0.009570163674652576, 0.009570163674652576, 0.0015950272791087627, 0.006380109116435051, 0.0031900545582175255, 0.0015950272791087627, 0.5789248943328857, 0.3666524291038513, 0.019297495484352112, 0.375491738319397, 0.1877458691596985, 0.1877458691596985, 0.1877458691596985, 0.13349179923534393, 0.13349179923534393, 0.6674590110778809, 0.24749501049518585, 0.145585298538208, 0.3548641502857208, 0.04003595560789108, 0.081891730427742, 0.05277467146515846, 0.03093687631189823, 0.01637834496796131, 0.014558529481291771, 0.0018198161851614714, 0.0018198161851614714, 0.0036396323703229427, 0.005459448788315058, 0.0018198161851614714, 0.0018198161851614714, 0.5774022936820984, 0.06485316157341003, 0.10250983387231827, 0.06903723627328873, 0.0585770457983017, 0.04602482169866562, 0.01673629879951477, 0.010460186749696732, 0.02928852289915085, 0.0020920373499393463, 0.006276112049818039, 0.0020920373499393463, 0.014644261449575424, 0.0020920373499393463, 0.6449915170669556, 0.07166571915149689, 0.07166571915149689, 0.14333143830299377, 0.9443896412849426, 0.0325651615858078, 0.8951833844184875, 0.7419523000717163, 0.18548807501792908, 0.5382840633392334, 0.0538284070789814, 0.0538284070789814, 0.2153136283159256, 0.0538284070789814, 0.35201242566108704, 0.5280186533927917, 0.2380518764257431, 0.19713670015335083, 0.13390417397022247, 0.07811076939105988, 0.1636606603860855, 0.06323252618312836, 0.074391208589077, 0.003719560569152236, 0.01859780214726925, 0.007439121138304472, 0.007439121138304472, 0.007439121138304472, 0.003719560569152236, 0.7523993253707886, 0.18809983134269714, 0.2014392465353012, 0.251799076795578, 0.0503598116338253, 0.1510794311761856, 0.1510794311761856, 0.1007196232676506, 0.0503598116338253, 0.0503598116338253, 0.3195735514163971, 0.15978677570819855, 0.15978677570819855, 0.3195735514163971, 0.05015835165977478, 0.8526920080184937, 0.10031670331954956, 0.8237265348434448, 0.1267271637916565, 0.03801814839243889, 0.898779571056366, 0.44493722915649414, 0.09672548621892929, 0.038690194487571716, 0.21279606223106384, 0.038690194487571716, 0.038690194487571716, 0.038690194487571716, 0.09672548621892929, 0.10062695294618607, 0.41927897930145264, 0.11739811301231384, 0.25156739354133606, 0.08385579288005829, 0.19601057469844818, 0.19601057469844818, 0.39202114939689636, 0.06729016453027725, 0.824304461479187, 0.08411270380020142, 0.016822541132569313, 0.54123455286026, 0.07465304434299469, 0.05598978325724602, 0.11197956651449203, 0.130642831325531, 0.037326522171497345, 0.018663261085748672, 0.9107910394668579, 0.45613545179367065, 0.5050070881843567, 0.005430183839052916, 0.021720735356211662, 0.005430183839052916, 0.6076254844665527, 0.28979063034057617, 0.07478467375040054, 0.009348084218800068, 0.6534802913665771, 0.29873383045196533, 0.018670864403247833, 0.018670864403247833, 0.6250966787338257, 0.15627416968345642, 0.15627416968345642, 0.8200164437294006, 0.28538456559181213, 0.21106567978858948, 0.17539261281490326, 0.05648236349225044, 0.15458332002162933, 0.050536852329969406, 0.01783653534948826, 0.005945512093603611, 0.020809292793273926, 0.005945512093603611, 0.005945512093603611, 0.0029727560468018055, 0.0029727560468018055, 0.0029727560468018055, 0.0029727560468018055, 0.5107508301734924, 0.1833464652299881, 0.27501967549324036, 0.026192352175712585, 0.7468796968460083, 0.18671992421150208, 0.9526011347770691, 0.3474929928779602, 0.1737464964389801, 0.3474929928779602, 0.1737464964389801, 0.1852041333913803, 0.5556123852729797, 0.1852041333913803, 0.24651804566383362, 0.647109866142273, 0.030814755707979202, 0.030814755707979202, 0.5752171277999878, 0.023008685559034348, 0.20707815885543823, 0.023008685559034348, 0.046017371118068695, 0.11504342406988144, 0.15934495627880096, 0.796724796295166, 0.6363985538482666, 0.3181992769241333, 0.8165031671524048, 0.40438979864120483, 0.20814180374145508, 0.10704435408115387, 0.053522177040576935, 0.07136290520429611, 0.029734542593359947, 0.06145139038562775, 0.013876120559871197, 0.015858422964811325, 0.015858422964811325, 0.0019823028706014156, 0.007929211482405663, 0.003964605741202831, 0.003964605741202831, 0.0019823028706014156, 0.11938513815402985, 0.7163107991218567, 0.11938513815402985, 0.17965202033519745, 0.3593040406703949, 0.3593040406703949, 0.5347493290901184, 0.012436031363904476, 0.44769713282585144, 0.3747422993183136, 0.1873711496591568, 0.3747422993183136, 0.2573587894439697, 0.1575666069984436, 0.15494050085544586, 0.04989609122276306, 0.10241829603910446, 0.14968827366828918, 0.04726998135447502, 0.010504440404474735, 0.03676554188132286, 0.002626110101118684, 0.01575666107237339, 0.010504440404474735, 0.002626110101118684, 0.2803667187690735, 0.14018335938453674, 0.2803667187690735, 0.2803667187690735, 0.13886073231697083, 0.14954233169555664, 0.1815871149301529, 0.010681594721972942, 0.010681594721972942, 0.0640895664691925, 0.33112943172454834, 0.021363189443945885, 0.053407974541187286, 0.03204478323459625, 0.9373269081115723, 0.03749307617545128, 0.14003868401050568, 0.28007736802101135, 0.28007736802101135, 0.14003868401050568, 0.26654860377311707, 0.26654860377311707, 0.08884953707456589, 0.26654860377311707, 0.7054263353347778, 0.14108526706695557, 0.42445895075798035, 0.09095548838376999, 0.21222947537899017, 0.09095548838376999, 0.030318496748805046, 0.030318496748805046, 0.030318496748805046, 0.09095548838376999, 0.6070515513420105, 0.10117525607347488, 0.20235051214694977, 0.38179811835289, 0.190899059176445, 0.38179811835289, 0.32847607135772705, 0.21411773562431335, 0.1508556753396988, 0.060828905552625656, 0.04379681125283241, 0.04136365279555321, 0.08516046404838562, 0.0389304980635643, 0.009732624515891075, 0.007299468386918306, 0.012165781110525131, 0.002433156128972769, 0.002433156128972769, 0.6777967214584351, 0.271118700504303, 0.1894431859254837, 0.1894431859254837, 0.5683295726776123, 0.32852745056152344, 0.28846311569213867, 0.048077184706926346, 0.032051458954811096, 0.08012864738702774, 0.016025729477405548, 0.09615436941385269, 0.008012864738702774, 0.024038592353463173, 0.016025729477405548, 0.048077184706926346, 0.44656887650489807, 0.11164221912622452, 0.33492666482925415, 0.13818448781967163, 0.27636897563934326, 0.27636897563934326, 0.27636897563934326, 0.1682405173778534, 0.46266141533851624, 0.12618038058280945, 0.04206012934446335, 0.04206012934446335, 0.12618038058280945, 0.04206012934446335, 0.3174464702606201, 0.40402278304100037, 0.028858769685029984, 0.028858769685029984, 0.028858769685029984, 0.028858769685029984, 0.028858769685029984, 0.11543507874011993, 0.9102230072021484, 0.15231460332870483, 0.30462920665740967, 0.15231460332870483, 0.30462920665740967, 0.5059376358985901, 0.33729174733161926, 0.16864587366580963, 0.11616715788841248, 0.23233431577682495, 0.4646686315536499, 0.11616715788841248, 0.40169990062713623, 0.1338999718427658, 0.02231666073203087, 0.04463332146406174, 0.0669499859213829, 0.0669499859213829, 0.02231666073203087, 0.11158330738544464, 0.02231666073203087, 0.0669499859213829, 0.04463332146406174, 0.12409352511167526, 0.1861402839422226, 0.24818705022335052, 0.06204676255583763, 0.06204676255583763, 0.06204676255583763, 0.1861402839422226, 0.06204676255583763, 0.07551848888397217, 0.30207395553588867, 0.453110933303833, 0.07551848888397217, 0.4296910762786865, 0.21484553813934326, 0.10742276906967163, 0.21484553813934326, 0.16032788157463074, 0.8016394376754761, 0.03206557780504227, 0.406624972820282, 0.2710833251476288, 0.1355416625738144, 0.11095714569091797, 0.8401041030883789, 0.01585102081298828, 0.03170204162597656, 0.10705233365297318, 0.6423140168190002, 0.21410466730594635, 0.6307542324066162, 0.3153771162033081, 0.4088745713233948, 0.21027834713459015, 0.28037112951278687, 0.07009278237819672, 0.02336426079273224, 0.8034536838531494, 0.039192862808704376, 0.07838572561740875, 0.019596431404352188, 0.019596431404352188, 0.039192862808704376, 0.8737205266952515, 0.19752797484397888, 0.39505594968795776, 0.19752797484397888, 0.19752797484397888, 0.33575841784477234, 0.16787920892238617, 0.16787920892238617, 0.16787920892238617, 0.655120313167572, 0.1191127821803093, 0.05955639109015465, 0.05955639109015465, 0.05955639109015465, 0.029778195545077324, 0.20876197516918182, 0.10438098758459091, 0.5219049453735352, 0.3196263909339905, 0.15981319546699524, 0.15981319546699524, 0.15981319546699524, 0.42960530519485474, 0.0468660332262516, 0.48428234457969666, 0.0234330166131258, 0.0078110056929290295, 0.8926674127578735, 0.06841935217380524, 0.27367740869522095, 0.2052580565214157, 0.06841935217380524, 0.27367740869522095, 0.18534016609191895, 0.5560204982757568, 0.18534016609191895, 0.040092673152685165, 0.1202780231833458, 0.08018534630537033, 0.040092673152685165, 0.040092673152685165, 0.20046336948871613, 0.4410194158554077, 0.040092673152685165, 0.42245185375213623, 0.1408172845840454, 0.2816345691680908, 0.17032189667224884, 0.49548184871673584, 0.06193523108959198, 0.015483807772397995, 0.015483807772397995, 0.03096761554479599, 0.03096761554479599, 0.015483807772397995, 0.03096761554479599, 0.015483807772397995, 0.07741904258728027, 0.015483807772397995, 0.5517080426216125, 0.14518633484840393, 0.11614906787872314, 0.08711180090904236, 0.029037266969680786, 0.029037266969680786, 0.11803224682807922, 0.43758296966552734, 0.21879148483276367, 0.023030681535601616, 0.057576704770326614, 0.04030369222164154, 0.05181903392076492, 0.028788352385163307, 0.005757670383900404, 0.002878835191950202, 0.002878835191950202, 0.011515340767800808, 0.002878835191950202, 0.002878835191950202, 0.21665625274181366, 0.21665625274181366, 0.21665625274181366, 0.3100070655345917, 0.051667846739292145, 0.051667846739292145, 0.5166784524917603, 0.3120100796222687, 0.10400335490703583, 0.4160134196281433, 0.5591652989387512, 0.18638843297958374, 0.33061185479164124, 0.33061185479164124, 0.16530592739582062, 0.6179051995277405, 0.30895259976387024, 0.6455258727073669, 0.18443596363067627, 0.09221798181533813, 0.3808438181877136, 0.533181369304657, 0.07616876065731049, 0.7207642793655396, 0.240254744887352, 0.8827922344207764, 0.016976773738861084, 0.05093032121658325, 0.016976773738861084, 0.016976773738861084, 0.837999165058136, 0.1197141632437706, 0.30187752842903137, 0.15093876421451569, 0.45281627774238586, 0.06624598801136017, 0.0927443876862526, 0.17223957180976868, 0.304731547832489, 0.013249197974801064, 0.2649839520454407, 0.026498395949602127, 0.06624598801136017, 0.8183396458625793, 0.14052297174930573, 0.016532113775610924, 0.002755352295935154, 0.008266056887805462, 0.005510704591870308, 0.005510704591870308, 0.405388742685318, 0.22122323513031006, 0.20437881350517273, 0.0988205298781395, 0.021336250007152557, 0.006737763062119484, 0.012352566234767437, 0.006737763062119484, 0.00786072388291359, 0.0044918423518538475, 0.0044918423518538475, 0.0011229605879634619, 0.003368881531059742, 0.0011229605879634619, 0.0011229605879634619, 0.7509883642196655, 0.05940020829439163, 0.03394297510385513, 0.10607179999351501, 0.016971487551927567, 0.008485743775963783, 0.004242871887981892, 0.004242871887981892, 0.01272861659526825, 0.5973711609840393, 0.19912372529506683, 0.19912372529506683, 0.8842295408248901, 0.07859818637371063, 0.56836998462677, 0.18945665657520294, 0.18945665657520294, 0.8835919499397278, 0.08032654225826263, 0.013387756422162056, 0.013387756422162056, 0.4238530099391937, 0.26972463726997375, 0.03853209316730499, 0.03853209316730499, 0.11559627950191498, 0.03853209316730499, 0.03853209316730499, 0.3378525376319885, 0.16892626881599426, 0.16892626881599426, 0.16892626881599426, 0.671217679977417, 0.12585331499576569, 0.08390220999717712, 0.04195110499858856, 0.04195110499858856, 0.873125433921814, 0.5558421015739441, 0.3705613911151886, 0.4198352098464966, 0.13994507491588593, 0.13994507491588593, 0.27989014983177185, 0.5167064666748047, 0.17223550379276276, 0.17223550379276276, 0.5031697154045105, 0.20537538826465607, 0.1245088279247284, 0.03465709835290909, 0.029522711411118507, 0.01540315430611372, 0.037224289029836655, 0.010268769226968288, 0.00898517295718193, 0.005134384613484144, 0.011552365496754646, 0.001283596153371036, 0.011552365496754646, 0.001283596153371036, 0.15837807953357697, 0.7390977144241333, 0.20102067291736603, 0.20102067291736603, 0.20102067291736603, 0.20102067291736603, 0.4427465796470642, 0.14758218824863434, 0.14758218824863434, 0.14758218824863434, 0.9414704442024231, 0.6425840854644775, 0.004041409585624933, 0.02020704746246338, 0.23440174758434296, 0.03637268394231796, 0.008082819171249866, 0.024248456582427025, 0.012124228291213512, 0.016165638342499733, 0.15472333133220673, 0.07736166566610336, 0.07736166566610336, 0.464169979095459, 0.07736166566610336, 0.07736166566610336, 0.20341701805591583, 0.20341701805591583, 0.20341701805591583, 0.20341701805591583, 0.20341701805591583, 0.3921110928058624, 0.1960555464029312, 0.3921110928058624, 0.9473151564598083, 0.9188464879989624, 0.04176574945449829, 0.35879796743392944, 0.14351919293403625, 0.35879796743392944, 0.07175959646701813, 0.4547642171382904, 0.4547642171382904, 0.3940563499927521, 0.21046191453933716, 0.10746991634368896, 0.10523095726966858, 0.04925704374909401, 0.038062259554862976, 0.04030121862888336, 0.01343373954296112, 0.00671686977148056, 0.00671686977148056, 0.0022389565128833055, 0.00671686977148056, 0.01343373954296112, 0.0022389565128833055, 0.8645653128623962, 0.42388299107551575, 0.14129433035850525, 0.05072104185819626, 0.08695036172866821, 0.10868795216083527, 0.04709811136126518, 0.07608156651258469, 0.014491726644337177, 0.028983453288674355, 0.010868795216083527, 0.0036229316610842943, 0.0036229316610842943, 0.953218400478363, 0.5126506090164185, 0.27286243438720703, 0.09095414727926254, 0.04134279116988182, 0.016537116840481758, 0.024805676192045212, 0.008268558420240879, 0.016537116840481758, 0.016537116840481758, 0.5327035784721375, 0.3551357388496399, 0.5179100632667542, 0.08631834387779236, 0.08631834387779236, 0.17263668775558472, 0.08631834387779236, 0.33527806401252747, 0.19703029096126556, 0.2362186461687088, 0.047896869480609894, 0.05225113034248352, 0.05551682412624359, 0.034834086894989014, 0.01306278258562088, 0.008708521723747253, 0.0010885652154684067, 0.004354260861873627, 0.008708521723747253, 0.0010885652154684067, 0.00326569564640522, 0.00326569564640522, 0.08328697085380554, 0.22209858894348145, 0.19433626532554626, 0.305385559797287, 0.1388116180896759, 0.05552464723587036, 0.5354433059692383, 0.11640072613954544, 0.11640072613954544, 0.11640072613954544, 0.03492021560668945, 0.011640072800219059, 0.023280145600438118, 0.011640072800219059, 0.023280145600438118, 0.6215081810951233, 0.15537704527378082, 0.6887590289115906, 0.059892091900110245, 0.11978418380022049, 0.029946045950055122, 0.029946045950055122, 0.029946045950055122, 0.029946045950055122, 0.7719513177871704, 0.15439026057720184, 0.3129868805408478, 0.24531403183937073, 0.3096032440662384, 0.003383641829714179, 0.05752191320061684, 0.003383641829714179, 0.005075462628155947, 0.006767283659428358, 0.03214459866285324, 0.0016918209148570895, 0.013534567318856716, 0.005075462628155947, 0.003383641829714179, 0.06855928897857666, 0.7508078217506409, 0.03846009075641632, 0.0016721778083592653, 0.025082668289542198, 0.01003306731581688, 0.05852622538805008, 0.03511573374271393, 0.00501653365790844, 0.0016721778083592653, 0.006688711233437061, 0.0016721778083592653, 0.18553659319877625, 0.5511528253555298, 0.027284793555736542, 0.016370875760912895, 0.043655671179294586, 0.005456958897411823, 0.03274175152182579, 0.049112629145383835, 0.06002654507756233, 0.005456958897411823, 0.021827835589647293, 0.4616507589817047, 0.15388359129428864, 0.30776718258857727, 0.41083720326423645, 0.20541860163211823, 0.20541860163211823, 0.10270930081605911, 0.9591228365898132, 0.027671216055750847, 0.03689495474100113, 0.5626480579376221, 0.15680354833602905, 0.12913234531879425, 0.04611869156360626, 0.018447477370500565, 0.027671216055750847, 0.4294045865535736, 0.44658076763153076, 0.10305710136890411, 0.37517064809799194, 0.18758532404899597, 0.18758532404899597, 0.5770317912101746, 0.19234392046928406, 0.19234392046928406, 0.25800925493240356, 0.32955804467201233, 0.1951330602169037, 0.03252217546105385, 0.031438104808330536, 0.05962399020791054, 0.04553104564547539, 0.024933667853474617, 0.0043362900614738464, 0.0021681450307369232, 0.003252217546105385, 0.007588507607579231, 0.0010840725153684616, 0.003252217546105385, 0.0021681450307369232, 0.9625915288925171, 0.03565153852105141, 0.06740602850914001, 0.20221808552742004, 0.20221808552742004, 0.06740602850914001, 0.06740602850914001, 0.13481205701828003, 0.20221808552742004, 0.3712877929210663, 0.18564389646053314, 0.18564389646053314, 0.5491867661476135, 0.18306225538253784, 0.18306225538253784, 0.3646777868270874, 0.3646777868270874, 0.1823388934135437, 0.8043898344039917, 0.040728598833084106, 0.005091074854135513, 0.09163934737443924, 0.005091074854135513, 0.010182149708271027, 0.03054644912481308, 0.010182149708271027, 0.5041711926460266, 0.12604279816150665, 0.2520855963230133, 0.6005819439888, 0.08579742163419724, 0.2573922574520111, 0.15867604315280914, 0.15867604315280914, 0.15867604315280914, 0.3173520863056183, 0.15867604315280914, 0.13648054003715515, 0.5459221601486206, 0.13648054003715515, 0.9548133015632629, 0.025126665830612183, 0.9177352786064148, 0.03164604306221008, 0.5633859038352966, 0.2816929519176483, 0.7065644860267639, 0.935370147228241, 0.6691557168960571, 0.04888809099793434, 0.030555056408047676, 0.17721933126449585, 0.021388540044426918, 0.009166517294943333, 0.009166517294943333, 0.0030555056873708963, 0.0030555056873708963, 0.015277528204023838, 0.009166517294943333, 0.0030555056873708963, 0.0030555056873708963, 0.0030555056873708963, 0.9614236950874329, 0.9482297897338867, 0.7335702180862427, 0.07803938537836075, 0.054627567529678345, 0.04292166233062744, 0.027313783764839172, 0.00780393835157156, 0.00780393835157156, 0.011705907993018627, 0.011705907993018627, 0.00780393835157156, 0.011705907993018627, 0.00780393835157156, 0.00390196917578578, 0.5456002950668335, 0.13640007376670837, 0.13640007376670837, 0.13640007376670837, 0.1626349836587906, 0.3252699673175812, 0.1626349836587906, 0.1626349836587906, 0.1626349836587906, 0.35369428992271423, 0.5659108757972717, 0.07073885947465897, 0.3895345628261566, 0.03541223332285881, 0.3895345628261566, 0.03541223332285881, 0.03541223332285881, 0.03541223332285881, 0.9353575706481934, 0.6421825885772705, 0.16054564714431763, 0.16054564714431763, 0.3804920017719269, 0.3804920017719269, 0.19024600088596344, 0.5006495118141174, 0.3337663412094116, 0.1668831706047058, 0.16449634730815887, 0.49348902702331543, 0.16449634730815887, 0.16449634730815887, 0.3245943784713745, 0.21054770052433014, 0.16375932097434998, 0.07895538955926895, 0.08480393141508102, 0.046788375824689865, 0.052636925131082535, 0.014621367678046227, 0.0029242734890431166, 0.005848546978086233, 0.0029242734890431166, 0.0029242734890431166, 0.0029242734890431166, 0.008772820234298706, 0.17523343861103058, 0.2503334879875183, 0.05006669834256172, 0.02503334917128086, 0.07510004937648773, 0.07510004937648773, 0.35046687722206116, 0.02503334917128086, 0.20189200341701508, 0.2396441549062729, 0.28888610005378723, 0.029545169323682785, 0.09191830456256866, 0.0689387321472168, 0.02133817784488201, 0.04267635568976402, 0.004924194887280464, 0.0016413982957601547, 0.0016413982957601547, 0.0016413982957601547, 0.0016413982957601547, 0.0016413982957601547, 0.3726528584957123, 0.18632642924785614, 0.18632642924785614, 0.18632642924785614, 0.7413821816444397, 0.2118234783411026, 0.1968618780374527, 0.3937237560749054, 0.1968618780374527, 0.1968618780374527, 0.9556366205215454, 0.043438028544187546, 0.9362667798995972, 0.44847652316093445, 0.22846916317939758, 0.13538913428783417, 0.08884911984205246, 0.01269273180514574, 0.01269273180514574, 0.008461820892989635, 0.004230910446494818, 0.004230910446494818, 0.02538546361029148, 0.01692364178597927, 0.01269273180514574, 0.9096584916114807, 0.4215020537376404, 0.1391752064228058, 0.14712807536125183, 0.04771721363067627, 0.04771721363067627, 0.05169364809989929, 0.0715758204460144, 0.019882172346115112, 0.0039764344692230225, 0.01590573787689209, 0.011929303407669067, 0.011929303407669067, 0.007952868938446045, 0.38275423645973206, 0.25516951084136963, 0.25516951084136963, 0.12758475542068481, 0.6494137644767761, 0.10823561996221542, 0.21647123992443085, 0.02062216028571129, 0.061866480857133865, 0.45368754863739014, 0.41244322061538696, 0.02062216028571129, 0.46178701519966125, 0.1489635556936264, 0.16385990381240845, 0.05213724076747894, 0.05213724076747894, 0.02234453335404396, 0.02234453335404396, 0.014896354638040066, 0.0372408889234066, 0.02979270927608013, 0.4295240342617035, 0.21846480667591095, 0.1462603360414505, 0.06479888409376144, 0.04258212447166443, 0.01666256971657276, 0.01666256971657276, 0.012959777377545834, 0.011108379811048508, 0.009256983175873756, 0.009256983175873756, 0.0037027935031801462, 0.011108379811048508, 0.0018513967515900731, 0.0037027935031801462, 0.5533009171485901, 0.06916261464357376, 0.027665046975016594, 0.23515290021896362, 0.027665046975016594, 0.05533009395003319, 0.12987950444221497, 0.18572770059108734, 0.34807708859443665, 0.028573492541909218, 0.12208674103021622, 0.11429397016763687, 0.031171081587672234, 0.011689155362546444, 0.009091565385460854, 0.002597590209916234, 0.003896385198459029, 0.003896385198459029, 0.007792770396918058, 0.001298795104958117, 0.2586855888366699, 0.21634122729301453, 0.20633256435394287, 0.06544129550457001, 0.09315761178731918, 0.05928211659193039, 0.052353035658597946, 0.01616784930229187, 0.007698975969105959, 0.007698975969105959, 0.0023096927907317877, 0.004619385581463575, 0.006159180775284767, 0.0015397951938211918, 0.0007698975969105959, 0.8919111490249634, 0.05067677050828934, 0.010135354474186897, 0.010135354474186897, 0.030406061559915543, 0.4827784597873688, 0.11848409473896027, 0.11583146452903748, 0.07515782117843628, 0.05393679067492485, 0.04774732142686844, 0.038021016865968704, 0.012378934770822525, 0.015915773808956146, 0.012378934770822525, 0.004421048332005739, 0.008842096664011478, 0.009726306423544884, 0.0008842096431180835, 0.0026526290457695723, 0.8727874159812927, 0.19281235337257385, 0.1619623750448227, 0.11568740755319595, 0.007712494116276503, 0.02313748188316822, 0.1619623750448227, 0.20823733508586884, 0.015424988232553005, 0.06169995293021202, 0.04627496376633644, 0.3446815609931946, 0.236242413520813, 0.1820228397846222, 0.0522831566631794, 0.01742771826684475, 0.044537503272295, 0.0464739166200161, 0.02904619835317135, 0.011618479155004025, 0.007745652925223112, 0.013554892502725124, 0.005809239577502012, 0.003872826462611556, 0.003872826462611556, 0.001936413231305778, 0.35919034481048584, 0.25318723917007446, 0.13650758564472198, 0.057195913046598434, 0.05033240467309952, 0.05490807816386223, 0.038130611181259155, 0.013727019540965557, 0.007626121863722801, 0.0068635097704827785, 0.006100897677242756, 0.011439182795584202, 0.003050448838621378, 0.0007626122096553445, 0.0007626122096553445, 0.6079612970352173, 0.20265376567840576, 0.10132688283920288, 0.41308581829071045, 0.13769526779651642, 0.27539053559303284, 0.5316040515899658, 0.15045398473739624, 0.09629054367542267, 0.12638133764266968, 0.008024211972951889, 0.024072635918855667, 0.014042370952665806, 0.014042370952665806, 0.006018158979713917, 0.008024211972951889, 0.006018158979713917, 0.006018158979713917, 0.0040121059864759445, 0.0040121059864759445, 0.0020060529932379723, 0.20401114225387573, 0.5329270958900452, 0.08326985687017441, 0.012490478344261646, 0.024980956688523293, 0.020817464217543602, 0.058288898319005966, 0.03747143596410751, 0.012490478344261646, 0.012490478344261646, 0.004163492936640978, 0.22839224338531494, 0.11419612169265747, 0.22839224338531494, 0.3425883650779724, 0.7783113718032837, 0.15566226840019226, 0.7838190197944641, 0.09221400320529938, 0.04610700160264969, 0.09221400320529938, 0.5623897910118103, 0.18746325373649597, 0.18746325373649597, 0.7277300357818604, 0.1819325089454651, 0.6801549792289734, 0.2720620036125183, 0.6318802833557129, 0.11488731950521469, 0.22977463901042938, 0.18680280447006226, 0.2401750236749649, 0.060043755918741226, 0.0333576425909996, 0.026686115190386772, 0.060043755918741226, 0.1401021033525467, 0.22016043961048126, 0.013343057595193386, 0.006671528797596693, 0.006671528797596693, 0.725250780582428, 0.104770727455616, 0.8643584847450256, 0.20169121026992798, 0.20169121026992798, 0.20169121026992798, 0.20169121026992798, 0.20169121026992798, 0.40363040566444397, 0.40363040566444397, 0.3575568199157715, 0.5363352298736572, 0.5002429485321045, 0.10004859417676926, 0.2000971883535385, 0.41964325308799744, 0.3147324323654175, 0.10491081327199936, 0.26615577936172485, 0.3992336392402649, 0.13307788968086243, 0.13307788968086243, 0.5549820065498352, 0.18499401211738586, 0.18499401211738586, 0.8567125201225281, 0.9311710000038147, 0.9551140666007996, 0.6552021503448486, 0.3276010751724243, 0.949950635433197, 0.024998700246214867, 0.3719492554664612, 0.3719492554664612, 0.1859746277332306, 0.1762830764055252, 0.4700881838798523, 0.2938051223754883, 0.5111204385757446, 0.09293099492788315, 0.3717239797115326, 0.2505505383014679, 0.2505505383014679, 0.12527526915073395, 0.2505505383014679, 0.12527526915073395, 0.931379497051239, 0.7783142328262329, 0.15566284954547882, 0.9387508630752563, 0.8722163438796997, 0.9100375175476074, 0.11931930482387543, 0.8522807359695435, 0.01704561524093151, 0.3949279487133026, 0.3949279487133026, 0.1974639743566513, 0.7223649621009827, 0.12747617065906525, 0.12747617065906525, 0.6149197816848755, 0.12298396229743958, 0.12298396229743958, 0.351224809885025, 0.14297646284103394, 0.15851739048957825, 0.05283913016319275, 0.1118946298956871, 0.059055499732494354, 0.06527186930179596, 0.02175728976726532, 0.015540920197963715, 0.0031081840861588717, 0.009324552491307259, 0.009324552491307259, 0.9421426057815552, 0.4199381172657013, 0.19838455319404602, 0.15494269132614136, 0.055026374757289886, 0.06226668506860733, 0.03475349768996239, 0.03475349768996239, 0.008688374422490597, 0.004344187211245298, 0.005792249925434589, 0.004344187211245298, 0.005792249925434589, 0.008688374422490597, 0.0014480624813586473, 0.0014480624813586473, 0.5543612837791443, 0.1847870945930481, 0.1847870945930481, 0.5360552668571472, 0.16061580181121826, 0.10841567069292068, 0.0943617895245552, 0.014053883031010628, 0.020076975226402283, 0.02409237064421177, 0.014053883031010628, 0.006023092661052942, 0.006023092661052942, 0.004015395417809486, 0.004015395417809486, 0.004015395417809486, 0.004015395417809486, 0.42162683606147766, 0.3305937647819519, 0.1772749274969101, 0.06468138843774796, 0.002395607065409422, 0.35521507263183594, 0.5328226089477539, 0.5731739401817322, 0.1910579800605774, 0.1910579800605774, 0.6578109860420227, 0.21927031874656677, 0.7692028284072876, 0.025219764560461044, 0.029423058032989502, 0.13030211627483368, 0.004203293938189745, 0.01681317575275898, 0.012609882280230522, 0.004203293938189745, 0.004203293938189745, 0.5186545252799988, 0.23051312565803528, 0.05762828141450882, 0.05762828141450882, 0.11525656282901764, 0.9396580457687378, 0.31433185935020447, 0.010839030146598816, 0.37394654750823975, 0.2547172009944916, 0.016258545219898224, 0.03251709043979645, 0.3017067611217499, 0.6034135222434998, 0.004518632777035236, 0.9579501748085022, 0.004518632777035236, 0.013555898331105709, 0.004518632777035236, 0.013555898331105709, 0.3067227900028229, 0.4600841701030731, 0.3067227900028229, 0.5636829137802124, 0.1878942996263504, 0.1878942996263504, 0.15356490015983582, 0.37036243081092834, 0.12646521627902985, 0.027099689468741417, 0.027099689468741417, 0.027099689468741417, 0.22583074867725372, 0.027099689468741417, 0.018066460266709328, 0.3994753062725067, 0.1933630406856537, 0.07862013578414917, 0.025498423725366592, 0.12961699068546295, 0.05949632078409195, 0.05524658411741257, 0.01912381686270237, 0.012749211862683296, 0.006374605931341648, 0.006374605931341648, 0.006374605931341648, 0.006374605931341648, 0.002124868566170335, 0.47218069434165955, 0.3147871196269989, 0.15739355981349945, 0.37082722783088684, 0.3270021975040436, 0.27306368947029114, 0.010113470256328583, 0.010113470256328583, 0.5285717844963074, 0.12048327922821045, 0.05829836055636406, 0.22153376042842865, 0.015546229667961597, 0.011659671552479267, 0.015546229667961597, 0.007773114833980799, 0.007773114833980799, 0.011659671552479267, 0.007773114833980799, 0.39205121994018555, 0.39205121994018555, 0.19602560997009277, 0.4741441011428833, 0.12092265486717224, 0.06682568043470383, 0.0413682758808136, 0.05409697815775871, 0.08591873198747635, 0.047732628881931305, 0.057279154658317566, 0.01591087505221367, 0.0031821751035749912, 0.009546525776386261, 0.012728700414299965, 0.0031821751035749912, 0.0031821751035749912, 0.42028945684432983, 0.1249052956700325, 0.22955568134784698, 0.04726146534085274, 0.06582846492528915, 0.028694460168480873, 0.03375818952918053, 0.011815366335213184, 0.010127456858754158, 0.0033758189529180527, 0.005063728429377079, 0.005063728429377079, 0.006751637905836105, 0.0033758189529180527, 0.005063728429377079, 0.5498027205467224, 0.07854323834180832, 0.07854323834180832, 0.3141729533672333, 0.11837213486433029, 0.7102327942848206, 0.28833600878715515, 0.22731252014636993, 0.16323785483837128, 0.03356292098760605, 0.12509816884994507, 0.05644673481583595, 0.03661409765481949, 0.013730286620557308, 0.012204699218273163, 0.0030511748045682907, 0.006102349609136581, 0.024409398436546326, 0.009153524413704872, 0.0015255874022841454, 0.11394784599542618, 0.8546088337898254], \"Term\": [\"abandon\", \"abandon\", \"abbey\", \"abbey\", \"abbey\", \"abbot\", \"abbot\", \"abbot\", \"abhorred\", \"abhorred\", \"abhorred\", \"abhorred\", \"accommodate\", \"accommodate\", \"accommodate\", \"accommodate\", \"accorded\", \"accorded\", \"acquaintance\", \"acquaintance\", \"acquaintance\", \"acquaintance\", \"acquaintance\", \"acquaintance\", \"acquaintance\", \"acquaintance\", \"acquaintance\", \"acquaintance\", \"acquaintance\", \"acquaintance\", \"acquaintance\", \"acquaintance\", \"acquit\", \"acquit\", \"acquit\", \"acquit\", \"acquitted\", \"acquitted\", \"acquitted\", \"acquitted\", \"addition\", \"addition\", \"addition\", \"addition\", \"addition\", \"addition\", \"addition\", \"addition\", \"addition\", \"adele\", \"adele\", \"adele\", \"adele\", \"adele\", \"adele\", \"affection\", \"affection\", \"affection\", \"affection\", \"affection\", \"affection\", \"affection\", \"affection\", \"affection\", \"affection\", \"affection\", \"affection\", \"affection\", \"affianced\", \"affianced\", \"affording\", \"affording\", \"affording\", \"affording\", \"aged\", \"aged\", \"aghast\", \"aghast\", \"aghast\", \"aimed\", \"aimed\", \"aimed\", \"aimed\", \"aimed\", \"airing\", \"airing\", \"allez\", \"alluding\", \"alluding\", \"alluding\", \"amiable\", \"amiable\", \"amiable\", \"amiable\", \"amiable\", \"amiable\", \"amiable\", \"amiable\", \"amiable\", \"amiable\", \"amiable\", \"amiss\", \"amiss\", \"amiss\", \"amiss\", \"amounted\", \"amounted\", \"amounted\", \"anecdote\", \"anecdote\", \"anecdote\", \"anecdote\", \"anecdote\", \"answer\", \"answer\", \"answer\", \"answer\", \"answer\", \"answer\", \"answer\", \"answer\", \"answer\", \"answer\", \"answer\", \"answer\", \"answer\", \"answerable\", \"answerable\", \"answerable\", \"apologise\", \"apologise\", \"apologise\", \"appetite\", \"appetite\", \"appetite\", \"appetite\", \"appetite\", \"apples\", \"apples\", \"apples\", \"apples\", \"approving\", \"apron\", \"apron\", \"argue\", \"argue\", \"argue\", \"argue\", \"asked\", \"asked\", \"asked\", \"asked\", \"asked\", \"asked\", \"asked\", \"asked\", \"asked\", \"asked\", \"asked\", \"asked\", \"asked\", \"asked\", \"aspirations\", \"aspirations\", \"assertions\", \"assertions\", \"assez\", \"assiduous\", \"assiduous\", \"assiduous\", \"assistance\", \"assistance\", \"assistance\", \"assistance\", \"assistance\", \"assistance\", \"assistance\", \"assistance\", \"assistance\", \"assure\", \"assure\", \"assure\", \"assure\", \"assure\", \"assure\", \"assure\", \"assure\", \"assure\", \"assure\", \"athenee\", \"atonement\", \"atonement\", \"atonement\", \"atonement\", \"attachment\", \"attachment\", \"attachment\", \"attachment\", \"attachment\", \"attachment\", \"attachment\", \"attachment\", \"attachment\", \"attachment\", \"attachment\", \"aunt\", \"aunt\", \"aunt\", \"aunt\", \"aunt\", \"aunt\", \"aunt\", \"aunt\", \"aunt\", \"aunt\", \"averted\", \"averted\", \"averted\", \"averted\", \"avez\", \"away\", \"away\", \"away\", \"away\", \"away\", \"away\", \"away\", \"away\", \"away\", \"away\", \"away\", \"away\", \"away\", \"away\", \"bands\", \"bands\", \"banker\", \"banker\", \"barton\", \"barton\", \"barton\", \"barton\", \"bates\", \"bates\", \"bates\", \"bates\", \"bates\", \"bath\", \"bath\", \"bath\", \"bath\", \"bathing\", \"bathing\", \"bathing\", \"bearing\", \"bearing\", \"bearing\", \"bearing\", \"bearing\", \"bearing\", \"beaux\", \"beck\", \"beck\", \"beck\", \"beckoned\", \"beckoned\", \"beef\", \"beef\", \"beef\", \"beef\", \"beer\", \"beer\", \"behaviour\", \"behaviour\", \"behaviour\", \"behaviour\", \"behaviour\", \"behaviour\", \"behaviour\", \"behaviour\", \"behaviour\", \"behaviour\", \"behaviour\", \"belgium\", \"believe\", \"believe\", \"believe\", \"believe\", \"believe\", \"believe\", \"believe\", \"believe\", \"believe\", \"believe\", \"believe\", \"believe\", \"believe\", \"believe\", \"bell\", \"bell\", \"bell\", \"bell\", \"bell\", \"bell\", \"bell\", \"bell\", \"bell\", \"bell\", \"bell\", \"benefactress\", \"benefactress\", \"benefactress\", \"benefactress\", \"bennet\", \"bennet\", \"bennet\", \"bennet\", \"bennet\", \"bennet\", \"berkeley\", \"bessie\", \"bessie\", \"bessie\", \"bessie\", \"better\", \"better\", \"better\", \"better\", \"better\", \"better\", \"better\", \"better\", \"better\", \"better\", \"better\", \"better\", \"better\", \"better\", \"better\", \"bewitching\", \"bewitching\", \"bible\", \"bible\", \"bible\", \"bible\", \"bien\", \"bien\", \"bien\", \"bigben\", \"bigben\", \"bingley\", \"bingley\", \"bingley\", \"bingley\", \"bingley\", \"black\", \"black\", \"black\", \"black\", \"black\", \"black\", \"black\", \"blameless\", \"blameless\", \"blameless\", \"blameless\", \"blindness\", \"blindness\", \"blood\", \"blood\", \"blood\", \"blood\", \"blood\", \"blood\", \"blood\", \"blood\", \"blossoms\", \"blossoms\", \"blossoms\", \"body\", \"body\", \"body\", \"body\", \"body\", \"body\", \"body\", \"body\", \"body\", \"body\", \"body\", \"body\", \"borders\", \"borders\", \"borders\", \"bouquet\", \"bouquet\", \"bourgeois\", \"bourgeois\", \"bourgh\", \"bourgh\", \"bourgh\", \"boy\", \"boy\", \"boy\", \"boy\", \"boy\", \"boy\", \"boy\", \"boy\", \"boy\", \"boy\", \"bracelet\", \"bracelet\", \"bracelet\", \"bracelet\", \"brandon\", \"brandon\", \"brandon\", \"brandon\", \"brandon\", \"bread\", \"bread\", \"bread\", \"bread\", \"bread\", \"bread\", \"bretton\", \"bretton\", \"bretton\", \"bretton\", \"bretton\", \"briggs\", \"bright\", \"bright\", \"bright\", \"bright\", \"bright\", \"bright\", \"bright\", \"brightening\", \"brightening\", \"brightening\", \"brightening\", \"brighton\", \"brighton\", \"brighton\", \"bristol\", \"bristol\", \"bristol\", \"brother\", \"brother\", \"brother\", \"brother\", \"brother\", \"brother\", \"brother\", \"brother\", \"brother\", \"brother\", \"brother\", \"brother\", \"brother\", \"brother\", \"brush\", \"brush\", \"brussels\", \"brussels\", \"brutal\", \"brutal\", \"brutal\", \"bunch\", \"bunch\", \"bunch\", \"bundle\", \"bundle\", \"burdened\", \"burdened\", \"burning\", \"burning\", \"burning\", \"burning\", \"burns\", \"burns\", \"burns\", \"burns\", \"butcher\", \"butcher\", \"butler\", \"butler\", \"butter\", \"butter\", \"butter\", \"butter\", \"cake\", \"cake\", \"cake\", \"cake\", \"cake\", \"cake\", \"cake\", \"cake\", \"came\", \"came\", \"came\", \"came\", \"came\", \"came\", \"came\", \"came\", \"came\", \"came\", \"came\", \"came\", \"came\", \"came\", \"came\", \"campbell\", \"campbell\", \"campbells\", \"campbells\", \"campbells\", \"candle\", \"candle\", \"candle\", \"candle\", \"candle\", \"catherine\", \"catherine\", \"catherine\", \"catherine\", \"catherine\", \"causes\", \"causes\", \"causes\", \"causes\", \"causes\", \"ce\", \"ce\", \"ce\", \"ce\", \"cela\", \"cela\", \"cela\", \"certain\", \"certain\", \"certain\", \"certain\", \"certain\", \"certain\", \"certain\", \"certain\", \"certain\", \"certain\", \"certain\", \"certain\", \"certain\", \"certain\", \"certainly\", \"certainly\", \"certainly\", \"certainly\", \"certainly\", \"certainly\", \"certainly\", \"certainly\", \"certainly\", \"certainly\", \"certainly\", \"certainly\", \"character\", \"character\", \"character\", \"character\", \"character\", \"character\", \"character\", \"character\", \"character\", \"character\", \"character\", \"character\", \"character\", \"character\", \"character\", \"charade\", \"charade\", \"charade\", \"charlotte\", \"charlotte\", \"charlotte\", \"charlotte\", \"charlotte\", \"charmingly\", \"charmingly\", \"charmingly\", \"cheap\", \"cheap\", \"cheap\", \"cheap\", \"chicken\", \"chicken\", \"chicken\", \"chicken\", \"child\", \"child\", \"child\", \"child\", \"child\", \"child\", \"child\", \"child\", \"child\", \"child\", \"child\", \"child\", \"children\", \"children\", \"children\", \"children\", \"children\", \"children\", \"children\", \"children\", \"children\", \"children\", \"children\", \"children\", \"children\", \"cholmondeley\", \"cholmondeley\", \"chose\", \"chose\", \"chose\", \"chose\", \"chose\", \"chose\", \"chose\", \"chose\", \"chose\", \"chose\", \"chose\", \"churchill\", \"churchill\", \"churchill\", \"churchill\", \"churchills\", \"churchills\", \"churchills\", \"chuse\", \"chuse\", \"chuse\", \"chuse\", \"chuse\", \"clapped\", \"clapped\", \"clapped\", \"cleveland\", \"cleveland\", \"clock\", \"clock\", \"clock\", \"clock\", \"clock\", \"clock\", \"clock\", \"clock\", \"clock\", \"closed\", \"closed\", \"closed\", \"closed\", \"closed\", \"closed\", \"closed\", \"closed\", \"closed\", \"closed\", \"closed\", \"closed\", \"clouded\", \"clouded\", \"clouded\", \"clouded\", \"coach\", \"coach\", \"coach\", \"coach\", \"coach\", \"coach\", \"coach\", \"coffee\", \"coffee\", \"coffee\", \"coffee\", \"coffee\", \"cole\", \"cole\", \"cole\", \"collins\", \"collins\", \"collins\", \"collins\", \"collins\", \"colonel\", \"colonel\", \"colonel\", \"colonel\", \"colonel\", \"colonel\", \"colonel\", \"colonel\", \"colonel\", \"colonel\", \"combine\", \"combine\", \"combine\", \"come\", \"come\", \"come\", \"come\", \"come\", \"come\", \"come\", \"come\", \"come\", \"come\", \"come\", \"come\", \"come\", \"come\", \"come\", \"comme\", \"comme\", \"competent\", \"competent\", \"comprehending\", \"comprehending\", \"conduct\", \"conduct\", \"conduct\", \"conduct\", \"conduct\", \"conduct\", \"conduct\", \"conduct\", \"conduct\", \"conduct\", \"conduct\", \"conduct\", \"conduct\", \"connexion\", \"connexion\", \"connexion\", \"connexion\", \"conscientious\", \"conscientious\", \"conscientious\", \"conscientious\", \"conscientious\", \"contemplate\", \"contemplate\", \"contemplate\", \"contemplate\", \"contrasts\", \"contrasts\", \"cooled\", \"cooled\", \"cooled\", \"cooler\", \"cooler\", \"cooler\", \"corps\", \"corps\", \"corps\", \"corps\", \"cousin\", \"cousin\", \"cousin\", \"cousin\", \"cousin\", \"cousin\", \"cousin\", \"cousin\", \"cousin\", \"cousin\", \"cox\", \"crack\", \"crack\", \"craving\", \"craving\", \"create\", \"create\", \"creditable\", \"creditable\", \"creditable\", \"cried\", \"cried\", \"cried\", \"cried\", \"cried\", \"cried\", \"cried\", \"cried\", \"cried\", \"cried\", \"cried\", \"cried\", \"cried\", \"crimsworth\", \"crimsworth\", \"crimsworth\", \"crimsworth\", \"crimsworth\", \"crown\", \"crown\", \"crown\", \"crown\", \"crown\", \"crown\", \"cruelly\", \"cruelly\", \"cruelly\", \"cruelly\", \"cups\", \"cups\", \"cups\", \"dancing\", \"dancing\", \"dancing\", \"dancing\", \"dancing\", \"dans\", \"darcy\", \"darcy\", \"darcy\", \"darcy\", \"darcy\", \"darcy\", \"darcy\", \"dark\", \"dark\", \"dark\", \"dark\", \"dark\", \"dark\", \"dark\", \"dark\", \"dark\", \"dark\", \"dark\", \"dashwood\", \"dashwood\", \"dashwood\", \"dashwood\", \"dashwood\", \"dashwood\", \"dashwoods\", \"dashwoods\", \"daughter\", \"daughter\", \"daughter\", \"daughter\", \"daughter\", \"daughter\", \"daughter\", \"daughter\", \"daughter\", \"daughter\", \"daughter\", \"daughter\", \"daughters\", \"daughters\", \"daughters\", \"daughters\", \"daughters\", \"daughters\", \"daughters\", \"daughters\", \"day\", \"day\", \"day\", \"day\", \"day\", \"day\", \"day\", \"day\", \"day\", \"day\", \"day\", \"day\", \"day\", \"day\", \"day\", \"days\", \"days\", \"days\", \"days\", \"days\", \"days\", \"days\", \"days\", \"days\", \"days\", \"days\", \"days\", \"days\", \"days\", \"dear\", \"dear\", \"dear\", \"dear\", \"dear\", \"dear\", \"dear\", \"dear\", \"dear\", \"dear\", \"dear\", \"dear\", \"dear\", \"debts\", \"debts\", \"debts\", \"debts\", \"debts\", \"deceit\", \"deceit\", \"deceit\", \"deep\", \"deep\", \"deep\", \"deep\", \"deep\", \"deep\", \"deep\", \"deep\", \"deep\", \"deep\", \"deep\", \"delaford\", \"delaford\", \"delaford\", \"delaford\", \"delirious\", \"delirious\", \"denny\", \"denny\", \"denny\", \"denny\", \"deplorable\", \"deplorable\", \"deplorable\", \"depth\", \"depth\", \"depth\", \"desiree\", \"desiree\", \"despaired\", \"despaired\", \"despaired\", \"despaired\", \"detaining\", \"detaining\", \"deviation\", \"deviation\", \"deviation\", \"deviation\", \"deviation\", \"diana\", \"diana\", \"diana\", \"died\", \"died\", \"died\", \"died\", \"died\", \"died\", \"died\", \"died\", \"died\", \"died\", \"dire\", \"dirty\", \"dirty\", \"dirty\", \"dirty\", \"dirty\", \"dirty\", \"disadvantage\", \"disadvantage\", \"disadvantage\", \"discerned\", \"discerned\", \"discerned\", \"discerned\", \"discerned\", \"disgraced\", \"disgraced\", \"disgraced\", \"disown\", \"disown\", \"displeasing\", \"displeasing\", \"disposal\", \"disposal\", \"disposal\", \"disregarded\", \"disregarded\", \"disregarded\", \"disregarded\", \"distresses\", \"distresses\", \"distresses\", \"distresses\", \"dixon\", \"dixon\", \"doctor\", \"doctor\", \"doctor\", \"doctor\", \"doctor\", \"doctor\", \"doctrine\", \"doctrine\", \"door\", \"door\", \"door\", \"door\", \"door\", \"door\", \"door\", \"door\", \"door\", \"door\", \"door\", \"door\", \"door\", \"doubt\", \"doubt\", \"doubt\", \"doubt\", \"doubt\", \"doubt\", \"doubt\", \"doubt\", \"doubt\", \"doubt\", \"doubt\", \"doubt\", \"doubt\", \"dr\", \"dr\", \"dr\", \"dr\", \"dr\", \"dr\", \"dr\", \"dulness\", \"dulness\", \"dumb\", \"dumb\", \"dumb\", \"dumb\", \"earthquake\", \"earthquake\", \"edward\", \"edward\", \"edward\", \"edward\", \"edward\", \"edward\", \"edward\", \"edward\", \"edward\", \"elegantly\", \"elegantly\", \"elements\", \"elements\", \"elements\", \"elinor\", \"elinor\", \"elinor\", \"elinor\", \"elinor\", \"elinor\", \"elinor\", \"elinor\", \"elinor\", \"elizabeth\", \"elizabeth\", \"elizabeth\", \"elizabeth\", \"elizabeth\", \"elizabeth\", \"elizabeth\", \"elizabeth\", \"elizabeth\", \"elizabeth\", \"elle\", \"elle\", \"elle\", \"elle\", \"elopement\", \"elopement\", \"elopement\", \"elton\", \"elton\", \"elton\", \"elton\", \"eltons\", \"eltons\", \"eltons\", \"eltons\", \"emanuel\", \"emanuel\", \"emanuel\", \"emanuel\", \"emma\", \"emma\", \"emma\", \"emma\", \"emma\", \"emma\", \"emma\", \"encumbrance\", \"encumbrance\", \"encumbrance\", \"engagement\", \"engagement\", \"engagement\", \"engagement\", \"engagement\", \"engagement\", \"engagement\", \"engagement\", \"english\", \"english\", \"english\", \"english\", \"english\", \"english\", \"english\", \"english\", \"enounced\", \"enounced\", \"enounced\", \"enscombe\", \"enscombe\", \"enscombe\", \"enscombe\", \"ere\", \"ere\", \"ere\", \"ere\", \"ere\", \"ere\", \"ere\", \"ere\", \"est\", \"est\", \"est\", \"establish\", \"establish\", \"establish\", \"establish\", \"establish\", \"estate\", \"estate\", \"estate\", \"estate\", \"estate\", \"estate\", \"estate\", \"estate\", \"estate\", \"estates\", \"estates\", \"estates\", \"estrade\", \"estrade\", \"estrade\", \"et\", \"et\", \"et\", \"et\", \"et\", \"etre\", \"europe\", \"evening\", \"evening\", \"evening\", \"evening\", \"evening\", \"evening\", \"evening\", \"evening\", \"evening\", \"evening\", \"evening\", \"evening\", \"evening\", \"evening\", \"exercising\", \"exercising\", \"exercising\", \"expanse\", \"expanse\", \"expanse\", \"expanse\", \"expenses\", \"expenses\", \"expenses\", \"expenses\", \"expenses\", \"explained\", \"explained\", \"explained\", \"explained\", \"explained\", \"explained\", \"explained\", \"explained\", \"explained\", \"expressively\", \"expressively\", \"expressively\", \"expressively\", \"expressively\", \"external\", \"external\", \"external\", \"extravagance\", \"extravagance\", \"extravagance\", \"extravagance\", \"extravagance\", \"extravagance\", \"extravagant\", \"extravagant\", \"extravagant\", \"extravagant\", \"eye\", \"eye\", \"eye\", \"eye\", \"eye\", \"eye\", \"eye\", \"eye\", \"eye\", \"eye\", \"eye\", \"eye\", \"eyelid\", \"eyelid\", \"eyes\", \"eyes\", \"eyes\", \"eyes\", \"eyes\", \"eyes\", \"eyes\", \"eyes\", \"eyes\", \"eyes\", \"eyes\", \"eyes\", \"eyes\", \"face\", \"face\", \"face\", \"face\", \"face\", \"face\", \"face\", \"face\", \"face\", \"face\", \"face\", \"face\", \"face\", \"fairfax\", \"fairfax\", \"fairfax\", \"fairfax\", \"fairfax\", \"fairfax\", \"fairfax\", \"fairfax\", \"falls\", \"falls\", \"falls\", \"falls\", \"false\", \"false\", \"false\", \"false\", \"false\", \"false\", \"false\", \"false\", \"false\", \"false\", \"family\", \"family\", \"family\", \"family\", \"family\", \"family\", \"family\", \"family\", \"family\", \"family\", \"family\", \"family\", \"family\", \"family\", \"famished\", \"famished\", \"fanshawe\", \"fanshawe\", \"fanshawe\", \"fare\", \"fare\", \"fare\", \"fare\", \"fare\", \"fare\", \"fare\", \"farmer\", \"farmer\", \"father\", \"father\", \"father\", \"father\", \"father\", \"father\", \"father\", \"father\", \"father\", \"father\", \"father\", \"father\", \"father\", \"favourites\", \"favourites\", \"favourites\", \"favourites\", \"feasted\", \"feasted\", \"feelingly\", \"feelingly\", \"feelings\", \"feelings\", \"feelings\", \"feelings\", \"feelings\", \"feelings\", \"feelings\", \"feelings\", \"feelings\", \"feelings\", \"feelings\", \"feelings\", \"feelings\", \"feelings\", \"felt\", \"felt\", \"felt\", \"felt\", \"felt\", \"felt\", \"felt\", \"felt\", \"felt\", \"felt\", \"felt\", \"felt\", \"felt\", \"felt\", \"felt\", \"ferrars\", \"ferrars\", \"ferrars\", \"ferrars\", \"ferrars\", \"fervid\", \"fervid\", \"fidelity\", \"fidelity\", \"fidelity\", \"fight\", \"fight\", \"fight\", \"fight\", \"firmness\", \"firmness\", \"firmness\", \"firmness\", \"fitzwilliam\", \"fitzwilliam\", \"flakes\", \"flakes\", \"flakes\", \"flakes\", \"flatter\", \"flatter\", \"flatter\", \"flatter\", \"flatter\", \"flatter\", \"flatter\", \"flatter\", \"flatter\", \"flesh\", \"flesh\", \"flesh\", \"flesh\", \"ford\", \"forehead\", \"forehead\", \"forehead\", \"forehead\", \"forehead\", \"foresaw\", \"foresaw\", \"forgiveness\", \"forgiveness\", \"forgiveness\", \"forster\", \"forster\", \"forster\", \"forster\", \"forster\", \"fortune\", \"fortune\", \"fortune\", \"fortune\", \"fortune\", \"fortune\", \"fortune\", \"fortune\", \"fortune\", \"fortune\", \"fortune\", \"fortune\", \"forwarded\", \"forwarded\", \"forwarded\", \"fragrant\", \"fragrant\", \"fragrant\", \"fragrant\", \"frances\", \"frances\", \"frances\", \"francs\", \"frank\", \"frank\", \"frank\", \"frank\", \"frank\", \"frank\", \"frank\", \"frank\", \"free\", \"free\", \"free\", \"free\", \"free\", \"free\", \"free\", \"free\", \"free\", \"free\", \"free\", \"french\", \"french\", \"french\", \"french\", \"french\", \"french\", \"friday\", \"friend\", \"friend\", \"friend\", \"friend\", \"friend\", \"friend\", \"friend\", \"friend\", \"friend\", \"friend\", \"friend\", \"friend\", \"friend\", \"friend\", \"friends\", \"friends\", \"friends\", \"friends\", \"friends\", \"friends\", \"friends\", \"friends\", \"friends\", \"friends\", \"friends\", \"friends\", \"friends\", \"frigid\", \"frigid\", \"frigid\", \"fully\", \"fully\", \"fully\", \"fully\", \"fully\", \"fully\", \"fully\", \"fully\", \"fully\", \"fully\", \"fully\", \"fully\", \"fully\", \"fully\", \"garcon\", \"gardiner\", \"gardiner\", \"gardiner\", \"gardiner\", \"generation\", \"generation\", \"generation\", \"generation\", \"gentility\", \"gentility\", \"georgette\", \"georgette\", \"georgette\", \"gifted\", \"gifted\", \"gifted\", \"ginevra\", \"ginevra\", \"ginevra\", \"girl\", \"girl\", \"girl\", \"girl\", \"girl\", \"girl\", \"girl\", \"girl\", \"girl\", \"girl\", \"girl\", \"girl\", \"girl\", \"girl\", \"given\", \"given\", \"given\", \"given\", \"given\", \"given\", \"given\", \"given\", \"given\", \"given\", \"given\", \"given\", \"given\", \"given\", \"glorious\", \"glove\", \"glove\", \"glove\", \"glove\", \"god\", \"god\", \"god\", \"god\", \"god\", \"god\", \"god\", \"god\", \"god\", \"god\", \"god\", \"goddard\", \"goddard\", \"goddard\", \"goddard\", \"godmother\", \"godmother\", \"going\", \"going\", \"going\", \"going\", \"going\", \"going\", \"going\", \"going\", \"going\", \"going\", \"going\", \"going\", \"good\", \"good\", \"good\", \"good\", \"good\", \"good\", \"good\", \"good\", \"good\", \"good\", \"good\", \"good\", \"good\", \"good\", \"gracechurch\", \"gracechurch\", \"gracechurch\", \"graces\", \"graces\", \"graces\", \"graces\", \"graces\", \"graces\", \"graces\", \"graham\", \"graham\", \"graham\", \"graham\", \"graham\", \"graham\", \"graham\", \"grandmama\", \"grandmother\", \"grandmother\", \"grandmother\", \"grandmother\", \"grandmother\", \"great\", \"great\", \"great\", \"great\", \"great\", \"great\", \"great\", \"great\", \"great\", \"great\", \"great\", \"great\", \"great\", \"grec\", \"grief\", \"grief\", \"grief\", \"grief\", \"grief\", \"grief\", \"grief\", \"grief\", \"grieving\", \"grieving\", \"grisette\", \"grisette\", \"grisette\", \"grisette\", \"gross\", \"gross\", \"grove\", \"grove\", \"grove\", \"grove\", \"grove\", \"grove\", \"half\", \"half\", \"half\", \"half\", \"half\", \"half\", \"half\", \"half\", \"half\", \"half\", \"half\", \"half\", \"half\", \"hall\", \"hall\", \"hall\", \"hall\", \"hall\", \"hall\", \"hall\", \"hall\", \"hall\", \"hall\", \"hand\", \"hand\", \"hand\", \"hand\", \"hand\", \"hand\", \"hand\", \"hand\", \"hand\", \"hand\", \"hand\", \"hand\", \"hand\", \"hand\", \"hannah\", \"hannah\", \"hannah\", \"happiness\", \"happiness\", \"happiness\", \"happiness\", \"happiness\", \"happiness\", \"happiness\", \"happiness\", \"happiness\", \"happiness\", \"happiness\", \"happiness\", \"happiness\", \"happiness\", \"harass\", \"harass\", \"harass\", \"harley\", \"harmless\", \"harmless\", \"harmless\", \"harmless\", \"harmless\", \"harp\", \"harriet\", \"harriet\", \"harriet\", \"harriet\", \"harriet\", \"harriet\", \"hartfield\", \"hartfield\", \"hartfield\", \"hartfield\", \"hartfield\", \"having\", \"having\", \"having\", \"having\", \"having\", \"having\", \"having\", \"having\", \"having\", \"having\", \"having\", \"having\", \"having\", \"having\", \"having\", \"hawkins\", \"hawkins\", \"hawkins\", \"hazardous\", \"hazardous\", \"hazardous\", \"hazardous\", \"head\", \"head\", \"head\", \"head\", \"head\", \"head\", \"head\", \"head\", \"head\", \"head\", \"head\", \"head\", \"head\", \"hear\", \"hear\", \"hear\", \"hear\", \"hear\", \"hear\", \"hear\", \"hear\", \"hear\", \"hear\", \"hear\", \"hear\", \"hear\", \"hear\", \"heard\", \"heard\", \"heard\", \"heard\", \"heard\", \"heard\", \"heard\", \"heard\", \"heard\", \"heard\", \"heard\", \"heard\", \"heard\", \"heard\", \"heard\", \"heart\", \"heart\", \"heart\", \"heart\", \"heart\", \"heart\", \"heart\", \"heart\", \"heart\", \"heart\", \"heart\", \"heart\", \"heart\", \"heart\", \"heart\", \"helen\", \"helen\", \"helen\", \"helen\", \"helen\", \"hell\", \"henceforth\", \"henceforth\", \"henceforth\", \"henri\", \"henry\", \"henry\", \"henry\", \"henry\", \"henry\", \"henry\", \"highbury\", \"highbury\", \"highbury\", \"highbury\", \"highbury\", \"home\", \"home\", \"home\", \"home\", \"home\", \"home\", \"home\", \"home\", \"home\", \"home\", \"home\", \"home\", \"home\", \"home\", \"hope\", \"hope\", \"hope\", \"hope\", \"hope\", \"hope\", \"hope\", \"hope\", \"hope\", \"hope\", \"hope\", \"hope\", \"hope\", \"hope\", \"hope\", \"hostess\", \"hostess\", \"hostess\", \"house\", \"house\", \"house\", \"house\", \"house\", \"house\", \"house\", \"house\", \"house\", \"house\", \"house\", \"house\", \"house\", \"house\", \"housekeeping\", \"housekeeping\", \"housekeeping\", \"humility\", \"humility\", \"humility\", \"humility\", \"humility\", \"humility\", \"hunsden\", \"hunsden\", \"hunsden\", \"hunsden\", \"hunsford\", \"hunsford\", \"hurst\", \"hurst\", \"ignorant\", \"ignorant\", \"ignorant\", \"ignorant\", \"ignorant\", \"ignorant\", \"ignorant\", \"ignorant\", \"iii\", \"iii\", \"iii\", \"iii\", \"impediment\", \"impediment\", \"impediment\", \"impromptu\", \"imprudent\", \"imprudent\", \"imprudent\", \"imprudent\", \"imprudent\", \"imprudent\", \"impunity\", \"impunity\", \"impunity\", \"inattentive\", \"inattentive\", \"inattentive\", \"inattentive\", \"incapacity\", \"incapacity\", \"incapacity\", \"income\", \"income\", \"income\", \"income\", \"income\", \"income\", \"income\", \"income\", \"income\", \"inconveniences\", \"inconveniences\", \"india\", \"indicated\", \"indicated\", \"indicated\", \"indicated\", \"indolence\", \"indolence\", \"inequality\", \"inequality\", \"inexpressibly\", \"inexpressibly\", \"infallibly\", \"infallibly\", \"infamous\", \"infamous\", \"infection\", \"infection\", \"infection\", \"infection\", \"infection\", \"inferred\", \"inferred\", \"inferred\", \"infirm\", \"infirm\", \"infirm\", \"injured\", \"injured\", \"injured\", \"injured\", \"injurious\", \"injurious\", \"injurious\", \"injurious\", \"inn\", \"inn\", \"inn\", \"inn\", \"inn\", \"inquisitive\", \"inquisitive\", \"inquisitive\", \"insuperable\", \"insuperable\", \"insuperable\", \"insuperable\", \"intimately\", \"intimately\", \"intimately\", \"invariable\", \"involved\", \"involved\", \"involved\", \"involved\", \"involved\", \"involved\", \"involved\", \"irritated\", \"irritated\", \"irritated\", \"irritated\", \"irritated\", \"irritated\", \"irritated\", \"irritating\", \"irritating\", \"isabella\", \"isabella\", \"isabella\", \"isabella\", \"isidore\", \"isidore\", \"isidore\", \"jane\", \"jane\", \"jane\", \"jane\", \"jane\", \"jane\", \"jane\", \"jane\", \"jane\", \"jane\", \"jane\", \"jane\", \"jane\", \"je\", \"je\", \"jenkinson\", \"jenkinson\", \"jennings\", \"jennings\", \"jennings\", \"jennings\", \"john\", \"john\", \"john\", \"john\", \"john\", \"john\", \"john\", \"john\", \"john\", \"john\", \"john\", \"john\", \"john\", \"jokes\", \"jokes\", \"jokes\", \"journey\", \"journey\", \"journey\", \"journey\", \"journey\", \"journey\", \"journey\", \"journey\", \"justice\", \"justice\", \"justice\", \"justice\", \"justice\", \"justice\", \"justice\", \"justice\", \"justice\", \"justice\", \"justice\", \"justice\", \"justice\", \"kept\", \"kept\", \"kept\", \"kept\", \"kept\", \"kept\", \"kept\", \"kept\", \"kept\", \"kept\", \"kept\", \"kept\", \"kept\", \"kind\", \"kind\", \"kind\", \"kind\", \"kind\", \"kind\", \"kind\", \"kind\", \"kind\", \"kind\", \"kind\", \"kind\", \"kind\", \"kind\", \"kitty\", \"kitty\", \"kitty\", \"kitty\", \"kitty\", \"kitty\", \"kneeling\", \"knew\", \"knew\", \"knew\", \"knew\", \"knew\", \"knew\", \"knew\", \"knew\", \"knew\", \"knew\", \"knew\", \"knew\", \"knew\", \"knew\", \"knightley\", \"knightley\", \"knightley\", \"knightley\", \"knightley\", \"knightleys\", \"knoll\", \"knoll\", \"knoll\", \"know\", \"know\", \"know\", \"know\", \"know\", \"know\", \"know\", \"know\", \"know\", \"know\", \"know\", \"know\", \"know\", \"know\", \"know\", \"known\", \"known\", \"known\", \"known\", \"known\", \"known\", \"known\", \"known\", \"known\", \"known\", \"known\", \"known\", \"known\", \"known\", \"la\", \"la\", \"la\", \"la\", \"la\", \"la\", \"labour\", \"labour\", \"labour\", \"labour\", \"labour\", \"labour\", \"ladies\", \"ladies\", \"ladies\", \"ladies\", \"ladies\", \"ladies\", \"ladies\", \"ladies\", \"ladies\", \"ladies\", \"ladies\", \"lady\", \"lady\", \"lady\", \"lady\", \"lady\", \"lady\", \"lady\", \"lady\", \"lady\", \"lady\", \"lady\", \"lady\", \"lady\", \"ladyship\", \"ladyship\", \"ladyship\", \"ladyship\", \"ladyship\", \"lambton\", \"lambton\", \"lamentations\", \"lamentations\", \"lamentations\", \"larkins\", \"larkins\", \"law\", \"law\", \"law\", \"law\", \"law\", \"law\", \"law\", \"law\", \"law\", \"law\", \"law\", \"law\", \"law\", \"lawyer\", \"lawyer\", \"lawyer\", \"lawyer\", \"lawyer\", \"leave\", \"leave\", \"leave\", \"leave\", \"leave\", \"leave\", \"leave\", \"leave\", \"leave\", \"leave\", \"leave\", \"leave\", \"leave\", \"left\", \"left\", \"left\", \"left\", \"left\", \"left\", \"left\", \"left\", \"left\", \"left\", \"left\", \"left\", \"left\", \"left\", \"legal\", \"legal\", \"legal\", \"legal\", \"les\", \"les\", \"letter\", \"letter\", \"letter\", \"letter\", \"letter\", \"letter\", \"letter\", \"letter\", \"letter\", \"letter\", \"letter\", \"liberally\", \"liberally\", \"liberally\", \"liberally\", \"life\", \"life\", \"life\", \"life\", \"life\", \"life\", \"life\", \"life\", \"life\", \"life\", \"life\", \"life\", \"life\", \"life\", \"light\", \"light\", \"light\", \"light\", \"light\", \"light\", \"light\", \"light\", \"light\", \"light\", \"light\", \"light\", \"like\", \"like\", \"like\", \"like\", \"like\", \"like\", \"like\", \"like\", \"like\", \"like\", \"like\", \"like\", \"like\", \"like\", \"like\", \"liked\", \"liked\", \"liked\", \"liked\", \"liked\", \"liked\", \"liked\", \"liked\", \"liked\", \"liked\", \"liked\", \"liked\", \"liked\", \"likelihood\", \"likelihood\", \"likelihood\", \"likelihood\", \"likelihood\", \"likelihood\", \"liking\", \"liking\", \"liking\", \"liking\", \"liking\", \"little\", \"little\", \"little\", \"little\", \"little\", \"little\", \"little\", \"little\", \"little\", \"little\", \"little\", \"little\", \"little\", \"little\", \"little\", \"live\", \"live\", \"live\", \"live\", \"live\", \"live\", \"live\", \"live\", \"live\", \"live\", \"live\", \"live\", \"live\", \"live\", \"live\", \"living\", \"living\", \"living\", \"living\", \"living\", \"living\", \"living\", \"living\", \"living\", \"living\", \"lizzy\", \"lizzy\", \"lizzy\", \"lizzy\", \"lizzy\", \"lizzy\", \"lizzy\", \"ll\", \"ll\", \"ll\", \"ll\", \"ll\", \"ll\", \"ll\", \"lloyd\", \"lloyd\", \"lloyd\", \"lonely\", \"lonely\", \"lonely\", \"long\", \"long\", \"long\", \"long\", \"long\", \"long\", \"long\", \"long\", \"long\", \"long\", \"long\", \"long\", \"long\", \"long\", \"longbourn\", \"longbourn\", \"longbourn\", \"longbourn\", \"longbourn\", \"longstaple\", \"longstaple\", \"look\", \"look\", \"look\", \"look\", \"look\", \"look\", \"look\", \"look\", \"look\", \"look\", \"look\", \"look\", \"look\", \"look\", \"looked\", \"looked\", \"looked\", \"looked\", \"looked\", \"looked\", \"looked\", \"looked\", \"looked\", \"looked\", \"looked\", \"looked\", \"looked\", \"looked\", \"looked\", \"looking\", \"looking\", \"looking\", \"looking\", \"looking\", \"looking\", \"looking\", \"looking\", \"looking\", \"looking\", \"looking\", \"looking\", \"looking\", \"looking\", \"love\", \"love\", \"love\", \"love\", \"love\", \"love\", \"love\", \"love\", \"love\", \"love\", \"love\", \"love\", \"love\", \"love\", \"lowered\", \"lowered\", \"lowood\", \"lowood\", \"lowood\", \"lowood\", \"lucas\", \"lucas\", \"lucas\", \"lucases\", \"lucases\", \"lucy\", \"lucy\", \"lucy\", \"lucy\", \"lucy\", \"lucy\", \"lucy\", \"lucy\", \"lucy\", \"lucy\", \"lydia\", \"lydia\", \"lydia\", \"lydia\", \"lydia\", \"lydia\", \"madame\", \"madame\", \"madame\", \"madame\", \"madame\", \"madame\", \"madame\", \"madame\", \"mademoiselle\", \"mademoiselle\", \"mademoiselle\", \"mademoiselle\", \"magna\", \"magna\", \"mal\", \"mamma\", \"mamma\", \"mamma\", \"mamma\", \"mamma\", \"mamma\", \"mamma\", \"man\", \"man\", \"man\", \"man\", \"man\", \"man\", \"man\", \"man\", \"man\", \"man\", \"man\", \"man\", \"man\", \"man\", \"man\", \"maple\", \"maple\", \"maple\", \"marchmont\", \"margaret\", \"marianne\", \"marianne\", \"marianne\", \"marianne\", \"marianne\", \"marianne\", \"marianne\", \"marianne\", \"marie\", \"marie\", \"marie\", \"marriage\", \"marriage\", \"marriage\", \"marriage\", \"marriage\", \"marriage\", \"marriage\", \"marriage\", \"marriage\", \"marriage\", \"marriage\", \"marriage\", \"married\", \"married\", \"married\", \"married\", \"married\", \"married\", \"married\", \"married\", \"married\", \"married\", \"married\", \"married\", \"marry\", \"marry\", \"marry\", \"marry\", \"marry\", \"marry\", \"marry\", \"marry\", \"marry\", \"marry\", \"marry\", \"marry\", \"martin\", \"martin\", \"martin\", \"martins\", \"martins\", \"martins\", \"mary\", \"mary\", \"mary\", \"mary\", \"mary\", \"mary\", \"mary\", \"mary\", \"mary\", \"mary\", \"mason\", \"mason\", \"mason\", \"mason\", \"mason\", \"matched\", \"matched\", \"matched\", \"matches\", \"matches\", \"matches\", \"matches\", \"mdlle\", \"mdlle\", \"meat\", \"meat\", \"meat\", \"meat\", \"meat\", \"memories\", \"memories\", \"mere\", \"mere\", \"mere\", \"mere\", \"mere\", \"mere\", \"mere\", \"mere\", \"mere\", \"mere\", \"merits\", \"merits\", \"merits\", \"merits\", \"merits\", \"merits\", \"merits\", \"merits\", \"merits\", \"middleton\", \"middleton\", \"middleton\", \"middleton\", \"middletons\", \"midsummer\", \"midsummer\", \"midsummer\", \"midsummer\", \"militia\", \"militia\", \"militia\", \"mind\", \"mind\", \"mind\", \"mind\", \"mind\", \"mind\", \"mind\", \"mind\", \"mind\", \"mind\", \"mind\", \"mind\", \"mind\", \"mind\", \"mind\", \"mischievous\", \"mischievous\", \"mischievous\", \"mischievous\", \"misconduct\", \"misconduct\", \"misconduct\", \"miss\", \"miss\", \"miss\", \"miss\", \"miss\", \"miss\", \"miss\", \"miss\", \"miss\", \"miss\", \"miss\", \"miss\", \"miss\", \"misty\", \"misty\", \"misunderstand\", \"misunderstand\", \"misunderstand\", \"misunderstood\", \"misunderstood\", \"money\", \"money\", \"money\", \"money\", \"money\", \"money\", \"money\", \"money\", \"money\", \"money\", \"money\", \"money\", \"money\", \"monitor\", \"monitor\", \"monsieur\", \"monsieur\", \"monsieur\", \"monsieur\", \"monsieur\", \"moon\", \"moon\", \"moon\", \"moon\", \"moor\", \"moor\", \"moor\", \"moors\", \"moors\", \"morning\", \"morning\", \"morning\", \"morning\", \"morning\", \"morning\", \"morning\", \"morning\", \"morning\", \"morning\", \"morning\", \"morning\", \"morning\", \"morning\", \"mother\", \"mother\", \"mother\", \"mother\", \"mother\", \"mother\", \"mother\", \"mother\", \"mother\", \"mother\", \"mother\", \"mother\", \"mother\", \"motive\", \"motive\", \"motive\", \"motive\", \"motive\", \"motive\", \"motive\", \"motive\", \"motive\", \"mud\", \"mud\", \"mud\", \"mud\", \"musings\", \"musings\", \"musings\", \"mystic\", \"mystic\", \"naivete\", \"nash\", \"nash\", \"nature\", \"nature\", \"nature\", \"nature\", \"nature\", \"nature\", \"nature\", \"nature\", \"nature\", \"nature\", \"nature\", \"nature\", \"nature\", \"nature\", \"natures\", \"ne\", \"ne\", \"ne\", \"near\", \"near\", \"near\", \"near\", \"near\", \"near\", \"near\", \"near\", \"near\", \"near\", \"near\", \"near\", \"near\", \"near\", \"needful\", \"needful\", \"needful\", \"negligent\", \"negligent\", \"negligent\", \"negligent\", \"nest\", \"nest\", \"nest\", \"netherfield\", \"netherfield\", \"netherfield\", \"netherfield\", \"netherfield\", \"news\", \"news\", \"news\", \"news\", \"news\", \"news\", \"news\", \"news\", \"news\", \"news\", \"niece\", \"niece\", \"niece\", \"niece\", \"niece\", \"niece\", \"nieces\", \"nieces\", \"nieces\", \"nieces\", \"nieces\", \"night\", \"night\", \"night\", \"night\", \"night\", \"night\", \"night\", \"night\", \"night\", \"night\", \"night\", \"night\", \"night\", \"night\", \"night\", \"norland\", \"norland\", \"norland\", \"obviously\", \"obviously\", \"obviously\", \"obviously\", \"occurrences\", \"occurrences\", \"occurrences\", \"oh\", \"oh\", \"oh\", \"oh\", \"oh\", \"oh\", \"oh\", \"oh\", \"oh\", \"oh\", \"oh\", \"oh\", \"oh\", \"oh\", \"oh\", \"old\", \"old\", \"old\", \"old\", \"old\", \"old\", \"old\", \"old\", \"old\", \"old\", \"old\", \"old\", \"old\", \"old\", \"olive\", \"olive\", \"olive\", \"olive\", \"oliver\", \"oliver\", \"opaque\", \"ornamented\", \"ornamented\", \"orphan\", \"orphan\", \"orphan\", \"orphan\", \"orphan\", \"ostensible\", \"ostensible\", \"ought\", \"ought\", \"ought\", \"ought\", \"ought\", \"ought\", \"ought\", \"ought\", \"ought\", \"ought\", \"ought\", \"ought\", \"ought\", \"overtaken\", \"overtaken\", \"owing\", \"owing\", \"owing\", \"owing\", \"owing\", \"owing\", \"owing\", \"owing\", \"packing\", \"packing\", \"packing\", \"packing\", \"paletot\", \"paletot\", \"paletot\", \"palmer\", \"palmer\", \"palmer\", \"palmers\", \"parents\", \"parents\", \"parents\", \"parents\", \"parents\", \"parents\", \"parents\", \"parents\", \"particulars\", \"particulars\", \"particulars\", \"particulars\", \"particulars\", \"partners\", \"partners\", \"partners\", \"pas\", \"pas\", \"pas\", \"pas\", \"patient\", \"patient\", \"patient\", \"patient\", \"patient\", \"patient\", \"patient\", \"patty\", \"paul\", \"paul\", \"paul\", \"paul\", \"paul\", \"pelet\", \"pelet\", \"pelet\", \"pelet\", \"pemberley\", \"pemberley\", \"pemberley\", \"pemberley\", \"pencilled\", \"pencilled\", \"pencilled\", \"pens\", \"people\", \"people\", \"people\", \"people\", \"people\", \"people\", \"people\", \"people\", \"people\", \"people\", \"people\", \"people\", \"people\", \"people\", \"people\", \"perry\", \"perry\", \"perry\", \"perry\", \"petit\", \"petit\", \"peu\", \"philanthropist\", \"philanthropist\", \"philanthropist\", \"philanthropist\", \"philosophic\", \"philosophic\", \"philosophic\", \"pianoforte\", \"pianoforte\", \"pianoforte\", \"pianoforte\", \"pictures\", \"pictures\", \"pictures\", \"pictures\", \"pictures\", \"pictures\", \"pierre\", \"pierre\", \"pious\", \"pious\", \"pitcher\", \"place\", \"place\", \"place\", \"place\", \"place\", \"place\", \"place\", \"place\", \"place\", \"place\", \"place\", \"place\", \"place\", \"place\", \"place\", \"pleasanter\", \"pleasanter\", \"pleasanter\", \"pledged\", \"pledged\", \"pledged\", \"polly\", \"polly\", \"polly\", \"pompous\", \"pompous\", \"pompous\", \"poor\", \"poor\", \"poor\", \"poor\", \"poor\", \"poor\", \"poor\", \"poor\", \"poor\", \"poor\", \"poor\", \"poor\", \"poor\", \"portfolio\", \"portfolio\", \"portfolio\", \"portfolio\", \"pounds\", \"pounds\", \"pounds\", \"pounds\", \"pounds\", \"pounds\", \"pounds\", \"pounds\", \"pounds\", \"pounds\", \"practical\", \"practical\", \"practising\", \"practising\", \"practising\", \"practising\", \"pratt\", \"pratt\", \"pratt\", \"pratt\", \"precise\", \"precise\", \"preferred\", \"preferred\", \"preferred\", \"preferred\", \"preferred\", \"preferred\", \"preferred\", \"preferred\", \"prejudices\", \"prejudices\", \"prejudices\", \"prepossession\", \"prepossession\", \"prepossession\", \"present\", \"present\", \"present\", \"present\", \"present\", \"present\", \"present\", \"present\", \"present\", \"present\", \"present\", \"present\", \"present\", \"pretending\", \"pretending\", \"prevailing\", \"prevailing\", \"prevailing\", \"pride\", \"pride\", \"pride\", \"pride\", \"pride\", \"pride\", \"pride\", \"pride\", \"pride\", \"pride\", \"pride\", \"print\", \"print\", \"print\", \"privately\", \"privately\", \"privately\", \"privately\", \"procured\", \"procured\", \"procured\", \"procured\", \"procured\", \"procured\", \"procured\", \"profession\", \"profession\", \"profession\", \"profession\", \"profession\", \"profession\", \"profession\", \"profession\", \"professors\", \"prohibited\", \"prohibited\", \"prohibited\", \"prohibited\", \"projected\", \"projected\", \"projected\", \"promoted\", \"promoted\", \"promoted\", \"promoted\", \"property\", \"property\", \"property\", \"property\", \"property\", \"property\", \"property\", \"property\", \"property\", \"property\", \"property\", \"proposals\", \"proposals\", \"proposals\", \"proposals\", \"proposals\", \"proposals\", \"proposals\", \"proposals\", \"protest\", \"protest\", \"protest\", \"protest\", \"puts\", \"puts\", \"puts\", \"puts\", \"qu\", \"qu\", \"qu\", \"quadrille\", \"quadrille\", \"quadrille\", \"que\", \"que\", \"que\", \"que\", \"quel\", \"quel\", \"quel\", \"quickening\", \"quickening\", \"randalls\", \"randalls\", \"randalls\", \"randalls\", \"randalls\", \"rang\", \"rang\", \"rang\", \"rang\", \"rang\", \"rang\", \"rapturous\", \"rascal\", \"rascal\", \"rascal\", \"rascal\", \"raving\", \"raving\", \"raving\", \"raving\", \"recalled\", \"recalled\", \"recalled\", \"recalled\", \"recalled\", \"recalled\", \"reconciliation\", \"reconciliation\", \"reconciliation\", \"recur\", \"recur\", \"recur\", \"recur\", \"reed\", \"reed\", \"reed\", \"reed\", \"reed\", \"reflex\", \"refusal\", \"refusal\", \"refusal\", \"refusal\", \"refusal\", \"regards\", \"regards\", \"regards\", \"regiment\", \"regiment\", \"regiment\", \"regiment\", \"regiment\", \"regiment\", \"regiment\", \"regiment\", \"reject\", \"reject\", \"reject\", \"relations\", \"relations\", \"relations\", \"relations\", \"relations\", \"relations\", \"relations\", \"relations\", \"relations\", \"relations\", \"relations\", \"relations\", \"repeat\", \"repeat\", \"repeat\", \"repeat\", \"repeat\", \"repeat\", \"replied\", \"replied\", \"replied\", \"replied\", \"replied\", \"replied\", \"replied\", \"replied\", \"replied\", \"replied\", \"replied\", \"replied\", \"replied\", \"replied\", \"reproaching\", \"reproaching\", \"reproaching\", \"resources\", \"resources\", \"resources\", \"resources\", \"respectability\", \"respectability\", \"respectability\", \"restlessly\", \"restlessly\", \"restoration\", \"restoration\", \"restoration\", \"rests\", \"rests\", \"richard\", \"richard\", \"richard\", \"richmond\", \"richmond\", \"richmond\", \"rien\", \"rien\", \"rivers\", \"rivers\", \"rivers\", \"rivers\", \"rivers\", \"rivet\", \"rivet\", \"rob\", \"rob\", \"rob\", \"robert\", \"robert\", \"robert\", \"robert\", \"robert\", \"robert\", \"robert\", \"robert\", \"rochester\", \"rochester\", \"rochester\", \"rochester\", \"rochester\", \"rochester\", \"rochester\", \"room\", \"room\", \"room\", \"room\", \"room\", \"room\", \"room\", \"room\", \"room\", \"room\", \"room\", \"room\", \"room\", \"room\", \"room\", \"rose\", \"rose\", \"rose\", \"rose\", \"rose\", \"rose\", \"rose\", \"rose\", \"rose\", \"rosine\", \"rosine\", \"rosine\", \"rosings\", \"rosings\", \"roved\", \"roved\", \"roved\", \"rue\", \"rue\", \"rue\", \"rue\", \"ruin\", \"ruin\", \"ruin\", \"ruin\", \"ruin\", \"ruin\", \"ruin\", \"sacrificing\", \"sacrificing\", \"sacrificing\", \"sacrificing\", \"salary\", \"salary\", \"salary\", \"salary\", \"salary\", \"salutation\", \"sanctioned\", \"sanctioned\", \"sans\", \"sans\", \"sans\", \"sans\", \"saucy\", \"saucy\", \"saucy\", \"saw\", \"saw\", \"saw\", \"saw\", \"saw\", \"saw\", \"saw\", \"saw\", \"saw\", \"saw\", \"saw\", \"saw\", \"saw\", \"saw\", \"scatcherd\", \"scatcherd\", \"scenery\", \"scenery\", \"scenery\", \"scenery\", \"scent\", \"scent\", \"scent\", \"scent\", \"scholars\", \"school\", \"school\", \"school\", \"school\", \"school\", \"school\", \"school\", \"school\", \"school\", \"scotland\", \"scotland\", \"scotland\", \"scotland\", \"scotland\", \"scotland\", \"scrupled\", \"scrupled\", \"scrupled\", \"scrupled\", \"scrupled\", \"scrutinised\", \"scrutinised\", \"scrutinised\", \"seacombe\", \"seal\", \"seal\", \"secrecy\", \"secrecy\", \"secrecy\", \"secrecy\", \"secresy\", \"secresy\", \"seen\", \"seen\", \"seen\", \"seen\", \"seen\", \"seen\", \"seen\", \"seen\", \"seen\", \"seen\", \"seen\", \"seen\", \"seen\", \"seen\", \"selina\", \"sense\", \"sense\", \"sense\", \"sense\", \"sense\", \"sense\", \"sense\", \"sense\", \"sense\", \"sense\", \"sense\", \"sense\", \"serene\", \"servant\", \"servant\", \"servant\", \"servant\", \"servant\", \"servant\", \"servant\", \"servant\", \"servant\", \"settlement\", \"settlement\", \"severely\", \"severely\", \"severely\", \"severely\", \"severely\", \"shall\", \"shall\", \"shall\", \"shall\", \"shall\", \"shall\", \"shall\", \"shall\", \"shall\", \"shall\", \"shall\", \"shall\", \"shall\", \"shall\", \"shall\", \"shew\", \"shew\", \"shew\", \"shew\", \"shew\", \"shew\", \"shook\", \"shook\", \"shook\", \"shook\", \"shook\", \"shook\", \"shook\", \"shook\", \"shook\", \"shoot\", \"shoot\", \"sign\", \"sign\", \"sign\", \"sign\", \"sign\", \"sign\", \"sign\", \"significantly\", \"significantly\", \"sir\", \"sir\", \"sir\", \"sir\", \"sir\", \"sir\", \"sir\", \"sir\", \"sir\", \"sir\", \"sir\", \"sir\", \"sir\", \"sister\", \"sister\", \"sister\", \"sister\", \"sister\", \"sister\", \"sister\", \"sister\", \"sister\", \"sister\", \"sister\", \"sister\", \"sisters\", \"sisters\", \"sisters\", \"sisters\", \"sisters\", \"sisters\", \"sisters\", \"sisters\", \"sisters\", \"sisters\", \"sisters\", \"sixpence\", \"sixpence\", \"sixpence\", \"slice\", \"slice\", \"slice\", \"slice\", \"slip\", \"smith\", \"smith\", \"smith\", \"smith\", \"smith\", \"smith\", \"smith\", \"smith\", \"snowe\", \"snowe\", \"snowe\", \"softest\", \"softest\", \"softest\", \"solve\", \"solve\", \"solve\", \"soon\", \"soon\", \"soon\", \"soon\", \"soon\", \"soon\", \"soon\", \"soon\", \"soon\", \"soon\", \"soon\", \"soon\", \"soon\", \"soon\", \"soon\", \"sophie\", \"sophie\", \"spending\", \"spending\", \"spending\", \"spending\", \"spending\", \"spending\", \"spending\", \"spots\", \"spots\", \"spots\", \"sprain\", \"sprain\", \"sprain\", \"spurned\", \"spurned\", \"spurned\", \"st\", \"st\", \"st\", \"st\", \"st\", \"st\", \"st\", \"st\", \"staff\", \"staff\", \"staff\", \"stair\", \"stair\", \"stair\", \"statement\", \"statement\", \"statement\", \"statement\", \"statement\", \"stating\", \"stating\", \"stating\", \"steele\", \"steele\", \"steeles\", \"steeles\", \"stem\", \"stem\", \"stick\", \"stile\", \"stood\", \"stood\", \"stood\", \"stood\", \"stood\", \"stood\", \"stood\", \"stood\", \"stood\", \"stood\", \"stood\", \"stood\", \"stood\", \"stood\", \"stool\", \"stooped\", \"strange\", \"strange\", \"strange\", \"strange\", \"strange\", \"strange\", \"strange\", \"strange\", \"strange\", \"strange\", \"strange\", \"strange\", \"strange\", \"strangeness\", \"strangeness\", \"strangeness\", \"strangeness\", \"strikingly\", \"strikingly\", \"strikingly\", \"strikingly\", \"strikingly\", \"suckling\", \"suckling\", \"suckling\", \"sum\", \"sum\", \"sum\", \"sum\", \"sum\", \"sum\", \"sunset\", \"superfluous\", \"superfluous\", \"superfluous\", \"supplanted\", \"supplanted\", \"supplanted\", \"supplication\", \"supplication\", \"supplication\", \"supplying\", \"supplying\", \"supplying\", \"supplying\", \"suppose\", \"suppose\", \"suppose\", \"suppose\", \"suppose\", \"suppose\", \"suppose\", \"suppose\", \"suppose\", \"suppose\", \"suppose\", \"suppose\", \"suppose\", \"suppose\", \"supposing\", \"supposing\", \"supposing\", \"supposing\", \"supposing\", \"supposing\", \"supposing\", \"supposing\", \"sure\", \"sure\", \"sure\", \"sure\", \"sure\", \"sure\", \"sure\", \"sure\", \"sure\", \"sure\", \"sure\", \"sure\", \"sure\", \"sure\", \"surmises\", \"surmises\", \"surmises\", \"surmises\", \"surry\", \"surry\", \"survive\", \"survive\", \"survive\", \"survive\", \"sustained\", \"sustained\", \"swiss\", \"table\", \"table\", \"table\", \"table\", \"table\", \"table\", \"table\", \"table\", \"table\", \"table\", \"table\", \"table\", \"tableau\", \"taken\", \"taken\", \"taken\", \"taken\", \"taken\", \"taken\", \"taken\", \"taken\", \"taken\", \"taken\", \"taken\", \"taken\", \"taken\", \"tap\", \"tap\", \"tap\", \"tap\", \"tasks\", \"tasks\", \"tasks\", \"taylor\", \"taylor\", \"taylor\", \"taylor\", \"taylor\", \"tea\", \"tea\", \"tea\", \"tea\", \"tea\", \"tea\", \"tea\", \"tea\", \"tea\", \"tea\", \"tell\", \"tell\", \"tell\", \"tell\", \"tell\", \"tell\", \"tell\", \"tell\", \"tell\", \"tell\", \"tell\", \"tell\", \"tell\", \"tell\", \"tell\", \"temple\", \"temple\", \"temple\", \"temple\", \"temple\", \"temple\", \"thing\", \"thing\", \"thing\", \"thing\", \"thing\", \"thing\", \"thing\", \"thing\", \"thing\", \"thing\", \"thing\", \"thing\", \"thing\", \"thing\", \"think\", \"think\", \"think\", \"think\", \"think\", \"think\", \"think\", \"think\", \"think\", \"think\", \"think\", \"think\", \"think\", \"think\", \"think\", \"thornfield\", \"thornfield\", \"thornfield\", \"thornfield\", \"thornfield\", \"thought\", \"thought\", \"thought\", \"thought\", \"thought\", \"thought\", \"thought\", \"thought\", \"thought\", \"thought\", \"thought\", \"thought\", \"thought\", \"thought\", \"thought\", \"thoughtfulness\", \"thousand\", \"thousand\", \"thousand\", \"thousand\", \"thousand\", \"thousand\", \"thousand\", \"thousand\", \"thousand\", \"thousand\", \"till\", \"till\", \"till\", \"till\", \"till\", \"till\", \"till\", \"till\", \"till\", \"till\", \"till\", \"till\", \"till\", \"till\", \"till\", \"time\", \"time\", \"time\", \"time\", \"time\", \"time\", \"time\", \"time\", \"time\", \"time\", \"time\", \"time\", \"time\", \"time\", \"time\", \"tints\", \"tints\", \"tints\", \"toast\", \"toast\", \"toast\", \"took\", \"took\", \"took\", \"took\", \"took\", \"took\", \"took\", \"took\", \"took\", \"took\", \"took\", \"took\", \"took\", \"took\", \"took\", \"town\", \"town\", \"town\", \"town\", \"town\", \"town\", \"town\", \"town\", \"town\", \"town\", \"town\", \"tract\", \"tract\", \"tract\", \"tract\", \"traverse\", \"traverse\", \"tray\", \"tray\", \"tray\", \"tray\", \"treasured\", \"treasured\", \"treasured\", \"triumphantly\", \"triumphantly\", \"trop\", \"trop\", \"tyrant\", \"tyrant\", \"tyrant\", \"uncle\", \"uncle\", \"uncle\", \"uncle\", \"uncle\", \"uncle\", \"uncle\", \"uncle\", \"uncle\", \"uncle\", \"uncle\", \"undone\", \"une\", \"une\", \"unequivocal\", \"unequivocal\", \"unequivocal\", \"unequivocal\", \"unequivocal\", \"unexceptionable\", \"unexceptionable\", \"unfair\", \"unfair\", \"unfit\", \"unfit\", \"unfit\", \"unguarded\", \"unguarded\", \"unguarded\", \"uniformly\", \"uniformly\", \"uniformly\", \"uniformly\", \"unlocked\", \"unlocked\", \"unlocked\", \"unwillingly\", \"vale\", \"vandenhuten\", \"vanishing\", \"vanishing\", \"veil\", \"veil\", \"verbal\", \"verbal\", \"verbal\", \"vicarage\", \"vicarage\", \"vicarage\", \"victor\", \"victor\", \"victor\", \"villain\", \"villain\", \"villain\", \"villain\", \"villain\", \"violets\", \"visitation\", \"visitation\", \"vocation\", \"votre\", \"vouchsafe\", \"vous\", \"vous\", \"vous\", \"walnut\", \"walnut\", \"walnut\", \"walravens\", \"walravens\", \"walravens\", \"wanderings\", \"wanderings\", \"wanderings\", \"want\", \"want\", \"want\", \"want\", \"want\", \"want\", \"want\", \"want\", \"want\", \"want\", \"want\", \"want\", \"wardrobe\", \"way\", \"way\", \"way\", \"way\", \"way\", \"way\", \"way\", \"way\", \"way\", \"way\", \"way\", \"way\", \"way\", \"way\", \"way\", \"weekly\", \"weekly\", \"weekly\", \"went\", \"went\", \"went\", \"went\", \"went\", \"went\", \"went\", \"went\", \"went\", \"went\", \"went\", \"went\", \"went\", \"went\", \"weston\", \"weston\", \"weston\", \"weston\", \"weston\", \"westons\", \"westons\", \"wheeled\", \"wheeled\", \"wheeled\", \"whitcross\", \"whitcross\", \"white\", \"white\", \"white\", \"white\", \"white\", \"white\", \"white\", \"white\", \"white\", \"wholesome\", \"wholesome\", \"wholesome\", \"wholesome\", \"wholesome\", \"wicket\", \"wickham\", \"wickham\", \"wickham\", \"wickham\", \"wickham\", \"wickham\", \"wilfully\", \"wilfully\", \"willoughby\", \"willoughby\", \"willoughby\", \"willoughby\", \"willoughby\", \"willoughby\", \"windsor\", \"windsor\", \"windsor\", \"winning\", \"winning\", \"winning\", \"wishes\", \"wishes\", \"wishes\", \"wishes\", \"wishes\", \"wishes\", \"wishes\", \"wishes\", \"wishes\", \"woman\", \"woman\", \"woman\", \"woman\", \"woman\", \"woman\", \"woman\", \"woman\", \"woman\", \"woman\", \"woman\", \"woman\", \"woman\", \"woman\", \"wondrous\", \"wondrous\", \"wondrous\", \"woodhouse\", \"woodhouse\", \"woodhouse\", \"woodhouse\", \"woodhouse\", \"work\", \"work\", \"work\", \"work\", \"work\", \"work\", \"work\", \"work\", \"work\", \"work\", \"work\", \"wouldn\", \"wouldn\", \"wouldn\", \"years\", \"years\", \"years\", \"years\", \"years\", \"years\", \"years\", \"years\", \"years\", \"years\", \"years\", \"years\", \"years\", \"years\", \"yes\", \"yes\", \"yes\", \"yes\", \"yes\", \"yes\", \"yes\", \"yes\", \"yes\", \"yes\", \"yes\", \"yes\", \"yes\", \"yes\", \"yes\", \"yorke\", \"yorke\", \"yorke\", \"yorke\", \"yorkshire\", \"yorkshire\", \"young\", \"young\", \"young\", \"young\", \"young\", \"young\", \"young\", \"young\", \"young\", \"young\", \"young\", \"young\", \"young\", \"young\", \"zelie\", \"zelie\"]}, \"R\": 30, \"lambda.step\": 0.01, \"plot.opts\": {\"xlab\": \"PC1\", \"ylab\": \"PC2\"}, \"topic.order\": [11, 3, 5, 8, 1, 12, 6, 15, 2, 9, 4, 10, 13, 7, 14]};\n",
       "\n",
       "function LDAvis_load_lib(url, callback){\n",
       "  var s = document.createElement('script');\n",
       "  s.src = url;\n",
       "  s.async = true;\n",
       "  s.onreadystatechange = s.onload = callback;\n",
       "  s.onerror = function(){console.warn(\"failed to load library \" + url);};\n",
       "  document.getElementsByTagName(\"head\")[0].appendChild(s);\n",
       "}\n",
       "\n",
       "if(typeof(LDAvis) !== \"undefined\"){\n",
       "   // already loaded: just create the visualization\n",
       "   !function(LDAvis){\n",
       "       new LDAvis(\"#\" + \"ldavis_el7634993714840642602851\", ldavis_el7634993714840642602851_data);\n",
       "   }(LDAvis);\n",
       "}else if(typeof define === \"function\" && define.amd){\n",
       "   // require.js is available: use it to load d3/LDAvis\n",
       "   require.config({paths: {d3: \"https://cdnjs.cloudflare.com/ajax/libs/d3/3.5.5/d3.min\"}});\n",
       "   require([\"d3\"], function(d3){\n",
       "      window.d3 = d3;\n",
       "      LDAvis_load_lib(\"https://cdn.rawgit.com/bmabey/pyLDAvis/files/ldavis.v1.0.0.js\", function(){\n",
       "        new LDAvis(\"#\" + \"ldavis_el7634993714840642602851\", ldavis_el7634993714840642602851_data);\n",
       "      });\n",
       "    });\n",
       "}else{\n",
       "    // require.js not available: dynamically load d3 & LDAvis\n",
       "    LDAvis_load_lib(\"https://cdnjs.cloudflare.com/ajax/libs/d3/3.5.5/d3.min.js\", function(){\n",
       "         LDAvis_load_lib(\"https://cdn.rawgit.com/bmabey/pyLDAvis/files/ldavis.v1.0.0.js\", function(){\n",
       "                 new LDAvis(\"#\" + \"ldavis_el7634993714840642602851\", ldavis_el7634993714840642602851_data);\n",
       "            })\n",
       "         });\n",
       "}\n",
       "</script>"
      ],
      "text/plain": [
       "PreparedData(topic_coordinates=              x         y  topics  cluster       Freq\n",
       "topic                                                \n",
       "10     0.086109  0.006008       1        1  41.976730\n",
       "2     -0.096106 -0.014838       2        1  19.396442\n",
       "4     -0.069379  0.064267       3        1  11.418641\n",
       "7      0.123732  0.057420       4        1   8.034647\n",
       "0     -0.113209  0.084783       5        1   4.911822\n",
       "11    -0.103097  0.091142       6        1   4.027897\n",
       "5     -0.114385 -0.018410       7        1   3.994279\n",
       "14    -0.103918 -0.106251       8        1   1.489572\n",
       "1      0.011588 -0.029208       9        1   1.013520\n",
       "8      0.097039  0.021388      10        1   0.999455\n",
       "3      0.142886 -0.006040      11        1   0.770559\n",
       "9     -0.073179 -0.104523      12        1   0.767086\n",
       "12     0.028001  0.056611      13        1   0.646021\n",
       "6      0.102658 -0.024924      14        1   0.297357\n",
       "13     0.081258 -0.077425      15        1   0.255977, topic_info=       Term         Freq        Total Category  logprob  loglift\n",
       "403    like  1327.000000  1327.000000  Default  30.0000  30.0000\n",
       "159  little  1716.000000  1716.000000  Default  29.0000  29.0000\n",
       "183    miss  1508.000000  1508.000000  Default  28.0000  28.0000\n",
       "399    know  1421.000000  1421.000000  Default  27.0000  27.0000\n",
       "86     emma   819.000000   819.000000  Default  26.0000  26.0000\n",
       "..      ...          ...          ...      ...      ...      ...\n",
       "148    jane     1.964197   907.805603  Topic15  -6.0124  -0.1681\n",
       "856   heard     1.899382   621.640259  Topic15  -6.0460   0.1770\n",
       "260    soon     1.874979   922.447510  Topic15  -6.0589  -0.2306\n",
       "135   house     1.863701   758.746155  Topic15  -6.0650  -0.0413\n",
       "356   doubt     1.821974   313.732697  Topic15  -6.0876   0.8192\n",
       "\n",
       "[1129 rows x 6 columns], token_table=      Topic      Freq     Term\n",
       "term                          \n",
       "7784      1  0.737192  abandon\n",
       "7784     15  0.184298  abandon\n",
       "792       3  0.230587    abbey\n",
       "792       5  0.658820    abbey\n",
       "792       6  0.098823    abbey\n",
       "...     ...       ...      ...\n",
       "611      12  0.024409    young\n",
       "611      13  0.009154    young\n",
       "611      14  0.001526    young\n",
       "8084      1  0.113948    zelie\n",
       "8084      4  0.854609    zelie\n",
       "\n",
       "[4298 rows x 3 columns], R=30, lambda_step=0.01, plot_opts={'xlab': 'PC1', 'ylab': 'PC2'}, topic_order=[11, 3, 5, 8, 1, 12, 6, 15, 2, 9, 4, 10, 13, 7, 14])"
      ]
     },
     "execution_count": 44,
     "metadata": {},
     "output_type": "execute_result"
    }
   ],
   "source": [
    "pyLDAvis.gensim.prepare(lda, corpus, id2word)"
   ]
  },
  {
   "cell_type": "markdown",
   "metadata": {},
   "source": [
    "### Overall Model / Documents"
   ]
  },
  {
   "cell_type": "code",
   "execution_count": 45,
   "metadata": {},
   "outputs": [
    {
     "data": {
      "text/plain": [
       "[(2, 0.2345957), (11, 0.7633967)]"
      ]
     },
     "execution_count": 45,
     "metadata": {},
     "output_type": "execute_result"
    }
   ],
   "source": [
    "lda[corpus[0]]"
   ]
  },
  {
   "cell_type": "code",
   "execution_count": 46,
   "metadata": {},
   "outputs": [],
   "source": [
    "distro = [lda[d] for d in corpus]"
   ]
  },
  {
   "cell_type": "code",
   "execution_count": 47,
   "metadata": {},
   "outputs": [
    {
     "data": {
      "text/plain": [
       "[(2, 0.23459783), (11, 0.7633946)]"
      ]
     },
     "execution_count": 47,
     "metadata": {},
     "output_type": "execute_result"
    }
   ],
   "source": [
    "distro[0]"
   ]
  },
  {
   "cell_type": "code",
   "execution_count": 48,
   "metadata": {},
   "outputs": [],
   "source": [
    "distro = [lda[d] for d in corpus]\n",
    "\n",
    "def update(doc):\n",
    "        d_dist = {k:0 for k in range(0,15)}\n",
    "        for t in doc:\n",
    "            d_dist[t[0]] = t[1]\n",
    "        return d_dist\n",
    "    \n",
    "new_distro = [update(d) for d in distro]"
   ]
  },
  {
   "cell_type": "code",
   "execution_count": 49,
   "metadata": {},
   "outputs": [
    {
     "data": {
      "text/plain": [
       "813"
      ]
     },
     "execution_count": 49,
     "metadata": {},
     "output_type": "execute_result"
    }
   ],
   "source": [
    "len(new_distro)"
   ]
  },
  {
   "cell_type": "code",
   "execution_count": 50,
   "metadata": {},
   "outputs": [
    {
     "data": {
      "text/html": [
       "<div>\n",
       "<style scoped>\n",
       "    .dataframe tbody tr th:only-of-type {\n",
       "        vertical-align: middle;\n",
       "    }\n",
       "\n",
       "    .dataframe tbody tr th {\n",
       "        vertical-align: top;\n",
       "    }\n",
       "\n",
       "    .dataframe thead th {\n",
       "        text-align: right;\n",
       "    }\n",
       "</style>\n",
       "<table border=\"1\" class=\"dataframe\">\n",
       "  <thead>\n",
       "    <tr style=\"text-align: right;\">\n",
       "      <th></th>\n",
       "      <th>tokens</th>\n",
       "      <th>author</th>\n",
       "      <th>book</th>\n",
       "      <th>section</th>\n",
       "    </tr>\n",
       "  </thead>\n",
       "  <tbody>\n",
       "    <tr>\n",
       "      <th>Austen_Emma0000</th>\n",
       "      <td>[emma, jane, austen, volume, chapter, emma, wo...</td>\n",
       "      <td>1</td>\n",
       "      <td>Emma</td>\n",
       "      <td>0</td>\n",
       "    </tr>\n",
       "    <tr>\n",
       "      <th>Austen_Emma0001</th>\n",
       "      <td>[taylor, wish, pity, weston, thought, agree, p...</td>\n",
       "      <td>1</td>\n",
       "      <td>Emma</td>\n",
       "      <td>1</td>\n",
       "    </tr>\n",
       "    <tr>\n",
       "      <th>Austen_Emma0002</th>\n",
       "      <td>[behaved, charmingly, body, punctual, body, be...</td>\n",
       "      <td>1</td>\n",
       "      <td>Emma</td>\n",
       "      <td>2</td>\n",
       "    </tr>\n",
       "    <tr>\n",
       "      <th>Austen_Emma0003</th>\n",
       "      <td>[native, highbury, born, respectable, family, ...</td>\n",
       "      <td>1</td>\n",
       "      <td>Emma</td>\n",
       "      <td>3</td>\n",
       "    </tr>\n",
       "    <tr>\n",
       "      <th>Austen_Emma0004</th>\n",
       "      <td>[mention, handsome, letter, weston, received, ...</td>\n",
       "      <td>1</td>\n",
       "      <td>Emma</td>\n",
       "      <td>4</td>\n",
       "    </tr>\n",
       "  </tbody>\n",
       "</table>\n",
       "</div>"
      ],
      "text/plain": [
       "                                                            tokens  author  \\\n",
       "Austen_Emma0000  [emma, jane, austen, volume, chapter, emma, wo...       1   \n",
       "Austen_Emma0001  [taylor, wish, pity, weston, thought, agree, p...       1   \n",
       "Austen_Emma0002  [behaved, charmingly, body, punctual, body, be...       1   \n",
       "Austen_Emma0003  [native, highbury, born, respectable, family, ...       1   \n",
       "Austen_Emma0004  [mention, handsome, letter, weston, received, ...       1   \n",
       "\n",
       "                 book  section  \n",
       "Austen_Emma0000  Emma        0  \n",
       "Austen_Emma0001  Emma        1  \n",
       "Austen_Emma0002  Emma        2  \n",
       "Austen_Emma0003  Emma        3  \n",
       "Austen_Emma0004  Emma        4  "
      ]
     },
     "execution_count": 50,
     "metadata": {},
     "output_type": "execute_result"
    }
   ],
   "source": [
    "df.head()"
   ]
  },
  {
   "cell_type": "code",
   "execution_count": 51,
   "metadata": {},
   "outputs": [],
   "source": [
    "df = pd.DataFrame.from_records(new_distro, index=titles)\n",
    "df.columns = topics\n",
    "df['author'] = df.reset_index()['index'].apply(lambda x: x.split('_')[0]).tolist()"
   ]
  },
  {
   "cell_type": "code",
   "execution_count": 52,
   "metadata": {},
   "outputs": [
    {
     "data": {
      "text/html": [
       "<div>\n",
       "<style scoped>\n",
       "    .dataframe tbody tr th:only-of-type {\n",
       "        vertical-align: middle;\n",
       "    }\n",
       "\n",
       "    .dataframe tbody tr th {\n",
       "        vertical-align: top;\n",
       "    }\n",
       "\n",
       "    .dataframe thead th {\n",
       "        text-align: right;\n",
       "    }\n",
       "</style>\n",
       "<table border=\"1\" class=\"dataframe\">\n",
       "  <thead>\n",
       "    <tr style=\"text-align: right;\">\n",
       "      <th></th>\n",
       "      <th>harriet emma weston elton good</th>\n",
       "      <th>like sir jane thought little</th>\n",
       "      <th>elinor marianne elizabeth sister miss</th>\n",
       "      <th>hand eyes john like saw</th>\n",
       "      <th>miss jane emma know thing</th>\n",
       "      <th>jane elizabeth darcy know wickham</th>\n",
       "      <th>hunsden miss helen temple bread</th>\n",
       "      <th>little madame like monsieur vous</th>\n",
       "      <th>burns thought like scatcherd miss</th>\n",
       "      <th>man bennet young elizabeth collins</th>\n",
       "      <th>like little thought long good</th>\n",
       "      <th>emma miss knightley harriet thing</th>\n",
       "      <th>bretton know dr little lucy</th>\n",
       "      <th>thousand mason like know sisters</th>\n",
       "      <th>lydia mother wickham father uncle</th>\n",
       "      <th>author</th>\n",
       "    </tr>\n",
       "  </thead>\n",
       "  <tbody>\n",
       "    <tr>\n",
       "      <th>Austen_Emma0000</th>\n",
       "      <td>0.000000</td>\n",
       "      <td>0.0</td>\n",
       "      <td>0.2346</td>\n",
       "      <td>0.0</td>\n",
       "      <td>0.00000</td>\n",
       "      <td>0.000000</td>\n",
       "      <td>0.0</td>\n",
       "      <td>0.0</td>\n",
       "      <td>0.0</td>\n",
       "      <td>0.0</td>\n",
       "      <td>0.0</td>\n",
       "      <td>0.763392</td>\n",
       "      <td>0.000000</td>\n",
       "      <td>0.0</td>\n",
       "      <td>0.0</td>\n",
       "      <td>Austen</td>\n",
       "    </tr>\n",
       "    <tr>\n",
       "      <th>Austen_Emma0001</th>\n",
       "      <td>0.339860</td>\n",
       "      <td>0.0</td>\n",
       "      <td>0.0000</td>\n",
       "      <td>0.0</td>\n",
       "      <td>0.42792</td>\n",
       "      <td>0.000000</td>\n",
       "      <td>0.0</td>\n",
       "      <td>0.0</td>\n",
       "      <td>0.0</td>\n",
       "      <td>0.0</td>\n",
       "      <td>0.0</td>\n",
       "      <td>0.229966</td>\n",
       "      <td>0.000000</td>\n",
       "      <td>0.0</td>\n",
       "      <td>0.0</td>\n",
       "      <td>Austen</td>\n",
       "    </tr>\n",
       "    <tr>\n",
       "      <th>Austen_Emma0002</th>\n",
       "      <td>0.669743</td>\n",
       "      <td>0.0</td>\n",
       "      <td>0.0000</td>\n",
       "      <td>0.0</td>\n",
       "      <td>0.00000</td>\n",
       "      <td>0.000000</td>\n",
       "      <td>0.0</td>\n",
       "      <td>0.0</td>\n",
       "      <td>0.0</td>\n",
       "      <td>0.0</td>\n",
       "      <td>0.0</td>\n",
       "      <td>0.327993</td>\n",
       "      <td>0.000000</td>\n",
       "      <td>0.0</td>\n",
       "      <td>0.0</td>\n",
       "      <td>Austen</td>\n",
       "    </tr>\n",
       "    <tr>\n",
       "      <th>Austen_Emma0003</th>\n",
       "      <td>0.191082</td>\n",
       "      <td>0.0</td>\n",
       "      <td>0.0000</td>\n",
       "      <td>0.0</td>\n",
       "      <td>0.00000</td>\n",
       "      <td>0.806788</td>\n",
       "      <td>0.0</td>\n",
       "      <td>0.0</td>\n",
       "      <td>0.0</td>\n",
       "      <td>0.0</td>\n",
       "      <td>0.0</td>\n",
       "      <td>0.000000</td>\n",
       "      <td>0.000000</td>\n",
       "      <td>0.0</td>\n",
       "      <td>0.0</td>\n",
       "      <td>Austen</td>\n",
       "    </tr>\n",
       "    <tr>\n",
       "      <th>Austen_Emma0004</th>\n",
       "      <td>0.485067</td>\n",
       "      <td>0.0</td>\n",
       "      <td>0.0000</td>\n",
       "      <td>0.0</td>\n",
       "      <td>0.00000</td>\n",
       "      <td>0.000000</td>\n",
       "      <td>0.0</td>\n",
       "      <td>0.0</td>\n",
       "      <td>0.0</td>\n",
       "      <td>0.0</td>\n",
       "      <td>0.0</td>\n",
       "      <td>0.106287</td>\n",
       "      <td>0.406798</td>\n",
       "      <td>0.0</td>\n",
       "      <td>0.0</td>\n",
       "      <td>Austen</td>\n",
       "    </tr>\n",
       "  </tbody>\n",
       "</table>\n",
       "</div>"
      ],
      "text/plain": [
       "                 harriet emma weston elton good  like sir jane thought little  \\\n",
       "Austen_Emma0000                        0.000000                           0.0   \n",
       "Austen_Emma0001                        0.339860                           0.0   \n",
       "Austen_Emma0002                        0.669743                           0.0   \n",
       "Austen_Emma0003                        0.191082                           0.0   \n",
       "Austen_Emma0004                        0.485067                           0.0   \n",
       "\n",
       "                 elinor marianne elizabeth sister miss  \\\n",
       "Austen_Emma0000                                 0.2346   \n",
       "Austen_Emma0001                                 0.0000   \n",
       "Austen_Emma0002                                 0.0000   \n",
       "Austen_Emma0003                                 0.0000   \n",
       "Austen_Emma0004                                 0.0000   \n",
       "\n",
       "                 hand eyes john like saw  miss jane emma know thing  \\\n",
       "Austen_Emma0000                      0.0                    0.00000   \n",
       "Austen_Emma0001                      0.0                    0.42792   \n",
       "Austen_Emma0002                      0.0                    0.00000   \n",
       "Austen_Emma0003                      0.0                    0.00000   \n",
       "Austen_Emma0004                      0.0                    0.00000   \n",
       "\n",
       "                 jane elizabeth darcy know wickham  \\\n",
       "Austen_Emma0000                           0.000000   \n",
       "Austen_Emma0001                           0.000000   \n",
       "Austen_Emma0002                           0.000000   \n",
       "Austen_Emma0003                           0.806788   \n",
       "Austen_Emma0004                           0.000000   \n",
       "\n",
       "                 hunsden miss helen temple bread  \\\n",
       "Austen_Emma0000                              0.0   \n",
       "Austen_Emma0001                              0.0   \n",
       "Austen_Emma0002                              0.0   \n",
       "Austen_Emma0003                              0.0   \n",
       "Austen_Emma0004                              0.0   \n",
       "\n",
       "                 little madame like monsieur vous  \\\n",
       "Austen_Emma0000                               0.0   \n",
       "Austen_Emma0001                               0.0   \n",
       "Austen_Emma0002                               0.0   \n",
       "Austen_Emma0003                               0.0   \n",
       "Austen_Emma0004                               0.0   \n",
       "\n",
       "                 burns thought like scatcherd miss  \\\n",
       "Austen_Emma0000                                0.0   \n",
       "Austen_Emma0001                                0.0   \n",
       "Austen_Emma0002                                0.0   \n",
       "Austen_Emma0003                                0.0   \n",
       "Austen_Emma0004                                0.0   \n",
       "\n",
       "                 man bennet young elizabeth collins  \\\n",
       "Austen_Emma0000                                 0.0   \n",
       "Austen_Emma0001                                 0.0   \n",
       "Austen_Emma0002                                 0.0   \n",
       "Austen_Emma0003                                 0.0   \n",
       "Austen_Emma0004                                 0.0   \n",
       "\n",
       "                 like little thought long good  \\\n",
       "Austen_Emma0000                            0.0   \n",
       "Austen_Emma0001                            0.0   \n",
       "Austen_Emma0002                            0.0   \n",
       "Austen_Emma0003                            0.0   \n",
       "Austen_Emma0004                            0.0   \n",
       "\n",
       "                 emma miss knightley harriet thing  \\\n",
       "Austen_Emma0000                           0.763392   \n",
       "Austen_Emma0001                           0.229966   \n",
       "Austen_Emma0002                           0.327993   \n",
       "Austen_Emma0003                           0.000000   \n",
       "Austen_Emma0004                           0.106287   \n",
       "\n",
       "                 bretton know dr little lucy  \\\n",
       "Austen_Emma0000                     0.000000   \n",
       "Austen_Emma0001                     0.000000   \n",
       "Austen_Emma0002                     0.000000   \n",
       "Austen_Emma0003                     0.000000   \n",
       "Austen_Emma0004                     0.406798   \n",
       "\n",
       "                 thousand mason like know sisters  \\\n",
       "Austen_Emma0000                               0.0   \n",
       "Austen_Emma0001                               0.0   \n",
       "Austen_Emma0002                               0.0   \n",
       "Austen_Emma0003                               0.0   \n",
       "Austen_Emma0004                               0.0   \n",
       "\n",
       "                 lydia mother wickham father uncle  author  \n",
       "Austen_Emma0000                                0.0  Austen  \n",
       "Austen_Emma0001                                0.0  Austen  \n",
       "Austen_Emma0002                                0.0  Austen  \n",
       "Austen_Emma0003                                0.0  Austen  \n",
       "Austen_Emma0004                                0.0  Austen  "
      ]
     },
     "execution_count": 52,
     "metadata": {},
     "output_type": "execute_result"
    }
   ],
   "source": [
    "df.head()"
   ]
  },
  {
   "cell_type": "code",
   "execution_count": 53,
   "metadata": {},
   "outputs": [
    {
     "data": {
      "text/html": [
       "<div>\n",
       "<style scoped>\n",
       "    .dataframe tbody tr th:only-of-type {\n",
       "        vertical-align: middle;\n",
       "    }\n",
       "\n",
       "    .dataframe tbody tr th {\n",
       "        vertical-align: top;\n",
       "    }\n",
       "\n",
       "    .dataframe thead th {\n",
       "        text-align: right;\n",
       "    }\n",
       "</style>\n",
       "<table border=\"1\" class=\"dataframe\">\n",
       "  <thead>\n",
       "    <tr style=\"text-align: right;\">\n",
       "      <th></th>\n",
       "      <th>harriet emma weston elton good</th>\n",
       "      <th>like sir jane thought little</th>\n",
       "      <th>elinor marianne elizabeth sister miss</th>\n",
       "      <th>hand eyes john like saw</th>\n",
       "      <th>miss jane emma know thing</th>\n",
       "      <th>jane elizabeth darcy know wickham</th>\n",
       "      <th>hunsden miss helen temple bread</th>\n",
       "      <th>little madame like monsieur vous</th>\n",
       "      <th>burns thought like scatcherd miss</th>\n",
       "      <th>man bennet young elizabeth collins</th>\n",
       "      <th>like little thought long good</th>\n",
       "      <th>emma miss knightley harriet thing</th>\n",
       "      <th>bretton know dr little lucy</th>\n",
       "      <th>thousand mason like know sisters</th>\n",
       "      <th>lydia mother wickham father uncle</th>\n",
       "    </tr>\n",
       "    <tr>\n",
       "      <th>author</th>\n",
       "      <th></th>\n",
       "      <th></th>\n",
       "      <th></th>\n",
       "      <th></th>\n",
       "      <th></th>\n",
       "      <th></th>\n",
       "      <th></th>\n",
       "      <th></th>\n",
       "      <th></th>\n",
       "      <th></th>\n",
       "      <th></th>\n",
       "      <th></th>\n",
       "      <th></th>\n",
       "      <th></th>\n",
       "      <th></th>\n",
       "    </tr>\n",
       "  </thead>\n",
       "  <tbody>\n",
       "    <tr>\n",
       "      <th>Austen</th>\n",
       "      <td>0.103918</td>\n",
       "      <td>0.006973</td>\n",
       "      <td>0.428128</td>\n",
       "      <td>0.000000</td>\n",
       "      <td>0.211959</td>\n",
       "      <td>0.088507</td>\n",
       "      <td>0.000000</td>\n",
       "      <td>0.000291</td>\n",
       "      <td>0.001807</td>\n",
       "      <td>0.017822</td>\n",
       "      <td>0.013380</td>\n",
       "      <td>0.086611</td>\n",
       "      <td>0.004561</td>\n",
       "      <td>0.000028</td>\n",
       "      <td>0.03330</td>\n",
       "    </tr>\n",
       "    <tr>\n",
       "      <th>CBronte</th>\n",
       "      <td>0.003945</td>\n",
       "      <td>0.012633</td>\n",
       "      <td>0.008016</td>\n",
       "      <td>0.013694</td>\n",
       "      <td>0.036295</td>\n",
       "      <td>0.003886</td>\n",
       "      <td>0.005369</td>\n",
       "      <td>0.137135</td>\n",
       "      <td>0.015776</td>\n",
       "      <td>0.000056</td>\n",
       "      <td>0.746322</td>\n",
       "      <td>0.001341</td>\n",
       "      <td>0.007101</td>\n",
       "      <td>0.004740</td>\n",
       "      <td>0.00102</td>\n",
       "    </tr>\n",
       "  </tbody>\n",
       "</table>\n",
       "</div>"
      ],
      "text/plain": [
       "         harriet emma weston elton good  like sir jane thought little  \\\n",
       "author                                                                  \n",
       "Austen                         0.103918                      0.006973   \n",
       "CBronte                        0.003945                      0.012633   \n",
       "\n",
       "         elinor marianne elizabeth sister miss  hand eyes john like saw  \\\n",
       "author                                                                    \n",
       "Austen                                0.428128                 0.000000   \n",
       "CBronte                               0.008016                 0.013694   \n",
       "\n",
       "         miss jane emma know thing  jane elizabeth darcy know wickham  \\\n",
       "author                                                                  \n",
       "Austen                    0.211959                           0.088507   \n",
       "CBronte                   0.036295                           0.003886   \n",
       "\n",
       "         hunsden miss helen temple bread  little madame like monsieur vous  \\\n",
       "author                                                                       \n",
       "Austen                          0.000000                          0.000291   \n",
       "CBronte                         0.005369                          0.137135   \n",
       "\n",
       "         burns thought like scatcherd miss  \\\n",
       "author                                       \n",
       "Austen                            0.001807   \n",
       "CBronte                           0.015776   \n",
       "\n",
       "         man bennet young elizabeth collins  like little thought long good  \\\n",
       "author                                                                       \n",
       "Austen                             0.017822                       0.013380   \n",
       "CBronte                            0.000056                       0.746322   \n",
       "\n",
       "         emma miss knightley harriet thing  bretton know dr little lucy  \\\n",
       "author                                                                    \n",
       "Austen                            0.086611                     0.004561   \n",
       "CBronte                           0.001341                     0.007101   \n",
       "\n",
       "         thousand mason like know sisters  lydia mother wickham father uncle  \n",
       "author                                                                        \n",
       "Austen                           0.000028                            0.03330  \n",
       "CBronte                          0.004740                            0.00102  "
      ]
     },
     "execution_count": 53,
     "metadata": {},
     "output_type": "execute_result"
    }
   ],
   "source": [
    "df.groupby('author').mean()"
   ]
  },
  {
   "cell_type": "markdown",
   "metadata": {},
   "source": [
    "## Challenge\n",
    "### *Can we see if one of the authors focus more on men than women?*\n",
    "\n",
    "*  Use Spacy for text preprocessing\n",
    "*  Extract the Named Entities from the documents using Spacy (command is fairly straight forward)\n",
    "*  Create unique list of names from the authors (you'll find that there are different types of named entities not all people)\n",
    "*  Label the names with genders (can you this by hand or you use the US census name lists)\n",
    "*  Customize your processing to replace the proper name with your gender from the previous step's lookup table\n",
    "*  Then follow the rest of the LDA flow\n"
   ]
  },
  {
   "cell_type": "markdown",
   "metadata": {},
   "source": [
    "# Selecting the Number of Topics (Learn)\n",
    "<a id=\"#p4\"></a>"
   ]
  },
  {
   "cell_type": "markdown",
   "metadata": {},
   "source": [
    "## Overview"
   ]
  },
  {
   "cell_type": "markdown",
   "metadata": {},
   "source": [
    "## Follow Along"
   ]
  },
  {
   "cell_type": "code",
   "execution_count": 54,
   "metadata": {},
   "outputs": [],
   "source": [
    "from gensim.models.coherencemodel import CoherenceModel\n",
    "\n",
    "def compute_coherence_values(dictionary, corpus, limit, start=2, step=3, passes=5):\n",
    "    \"\"\"\n",
    "    Compute c_v coherence for various number of topics\n",
    "\n",
    "    Parameters:\n",
    "    ----------\n",
    "    dictionary : Gensim dictionary\n",
    "    corpus : Gensim corpus\n",
    "    limit : Max num of topics\n",
    "    passes: the number of times the entire lda model & coherence values are calculated\n",
    "\n",
    "    Returns:\n",
    "    -------\n",
    "    coherence_values : Coherence values corresponding to the LDA model with respective number of topics\n",
    "    \"\"\"\n",
    "    \n",
    "    coherence_values = []\n",
    "    \n",
    "    for iter_ in range(passes):\n",
    "        print(f'Starting pass {iter_}...')\n",
    "        for num_topics in range(start, limit, step):\n",
    "            if num_topics % 10 == 0:\n",
    "                print(f'\\t{num_topics} topics')\n",
    "            model = LdaMulticore(corpus=corpus, num_topics=num_topics, id2word=dictionary, workers=4)\n",
    "            coherencemodel = CoherenceModel(model=model,dictionary=dictionary,corpus=corpus, coherence='u_mass')\n",
    "            coherence_values.append({'pass': iter_, \n",
    "                                     'num_topics': num_topics, \n",
    "                                     'coherence_score': coherencemodel.get_coherence()\n",
    "                                    })\n",
    "\n",
    "    return coherence_values"
   ]
  },
  {
   "cell_type": "code",
   "execution_count": 55,
   "metadata": {},
   "outputs": [],
   "source": [
    "# Can take a long time to run.\n",
    "coherence_values = compute_coherence_values(dictionary=id2word, \n",
    "                                                        corpus=corpus,\n",
    "                                                        start=2, \n",
    "                                                        limit=40, \n",
    "                                                        step=2,\n",
    "                                                        passes=10)"
   ]
  },
  {
   "cell_type": "code",
   "execution_count": 56,
   "metadata": {},
   "outputs": [],
   "source": [
    "topic_coherence = pd.DataFrame.from_records(coherence_values)"
   ]
  },
  {
   "cell_type": "code",
   "execution_count": 57,
   "metadata": {},
   "outputs": [
    {
     "data": {
      "text/html": [
       "<div>\n",
       "<style scoped>\n",
       "    .dataframe tbody tr th:only-of-type {\n",
       "        vertical-align: middle;\n",
       "    }\n",
       "\n",
       "    .dataframe tbody tr th {\n",
       "        vertical-align: top;\n",
       "    }\n",
       "\n",
       "    .dataframe thead th {\n",
       "        text-align: right;\n",
       "    }\n",
       "</style>\n",
       "<table border=\"1\" class=\"dataframe\">\n",
       "  <thead>\n",
       "    <tr style=\"text-align: right;\">\n",
       "      <th></th>\n",
       "      <th>pass</th>\n",
       "      <th>num_topics</th>\n",
       "      <th>coherence_score</th>\n",
       "    </tr>\n",
       "  </thead>\n",
       "  <tbody>\n",
       "    <tr>\n",
       "      <th>0</th>\n",
       "      <td>0</td>\n",
       "      <td>2</td>\n",
       "      <td>-0.688966</td>\n",
       "    </tr>\n",
       "    <tr>\n",
       "      <th>1</th>\n",
       "      <td>0</td>\n",
       "      <td>4</td>\n",
       "      <td>-0.686022</td>\n",
       "    </tr>\n",
       "    <tr>\n",
       "      <th>2</th>\n",
       "      <td>0</td>\n",
       "      <td>6</td>\n",
       "      <td>-0.771356</td>\n",
       "    </tr>\n",
       "    <tr>\n",
       "      <th>3</th>\n",
       "      <td>0</td>\n",
       "      <td>8</td>\n",
       "      <td>-0.765388</td>\n",
       "    </tr>\n",
       "    <tr>\n",
       "      <th>4</th>\n",
       "      <td>0</td>\n",
       "      <td>10</td>\n",
       "      <td>-0.771106</td>\n",
       "    </tr>\n",
       "  </tbody>\n",
       "</table>\n",
       "</div>"
      ],
      "text/plain": [
       "   pass  num_topics  coherence_score\n",
       "0     0           2        -0.688966\n",
       "1     0           4        -0.686022\n",
       "2     0           6        -0.771356\n",
       "3     0           8        -0.765388\n",
       "4     0          10        -0.771106"
      ]
     },
     "execution_count": 57,
     "metadata": {},
     "output_type": "execute_result"
    }
   ],
   "source": [
    "topic_coherence.head()"
   ]
  },
  {
   "cell_type": "code",
   "execution_count": 58,
   "metadata": {},
   "outputs": [
    {
     "data": {
      "image/png": "[encoded data removed]",
      "text/plain": [
       "<Figure size 432x288 with 1 Axes>"
      ]
     },
     "metadata": {
      "needs_background": "light"
     },
     "output_type": "display_data"
    }
   ],
   "source": [
    "import seaborn as sns\n",
    "\n",
    "ax = sns.lineplot(x=\"num_topics\", y=\"coherence_score\", data=topic_coherence)"
   ]
  },
  {
   "cell_type": "code",
   "execution_count": 68,
   "metadata": {},
   "outputs": [
    {
     "name": "stdout",
     "output_type": "stream",
     "text": [
      "Pass = 0 Num Topics = 2  has Coherence Value of -0.689\n",
      "Pass = 0 Num Topics = 4  has Coherence Value of -0.686\n",
      "Pass = 0 Num Topics = 6  has Coherence Value of -0.7714\n",
      "Pass = 0 Num Topics = 8  has Coherence Value of -0.7654\n",
      "Pass = 0 Num Topics = 10  has Coherence Value of -0.7711\n",
      "Pass = 0 Num Topics = 12  has Coherence Value of -0.727\n",
      "Pass = 0 Num Topics = 14  has Coherence Value of -0.7197\n",
      "Pass = 0 Num Topics = 16  has Coherence Value of -0.8004\n",
      "Pass = 0 Num Topics = 18  has Coherence Value of -0.7403\n",
      "Pass = 0 Num Topics = 20  has Coherence Value of -0.7882\n",
      "Pass = 0 Num Topics = 22  has Coherence Value of -0.7711\n",
      "Pass = 0 Num Topics = 24  has Coherence Value of -0.7671\n",
      "Pass = 0 Num Topics = 26  has Coherence Value of -0.7622\n",
      "Pass = 0 Num Topics = 28  has Coherence Value of -0.756\n",
      "Pass = 0 Num Topics = 30  has Coherence Value of -0.8806\n",
      "Pass = 0 Num Topics = 32  has Coherence Value of -0.8161\n",
      "Pass = 0 Num Topics = 34  has Coherence Value of -0.8237\n",
      "Pass = 0 Num Topics = 36  has Coherence Value of -0.7473\n",
      "Pass = 0 Num Topics = 38  has Coherence Value of -0.7886\n",
      "Pass = 1 Num Topics = 2  has Coherence Value of -1.086\n",
      "Pass = 1 Num Topics = 4  has Coherence Value of -0.8058\n",
      "Pass = 1 Num Topics = 6  has Coherence Value of -0.6503\n",
      "Pass = 1 Num Topics = 8  has Coherence Value of -0.7404\n",
      "Pass = 1 Num Topics = 10  has Coherence Value of -0.7768\n",
      "Pass = 1 Num Topics = 12  has Coherence Value of -0.7378\n",
      "Pass = 1 Num Topics = 14  has Coherence Value of -0.7131\n",
      "Pass = 1 Num Topics = 16  has Coherence Value of -0.7535\n",
      "Pass = 1 Num Topics = 18  has Coherence Value of -0.7244\n",
      "Pass = 1 Num Topics = 20  has Coherence Value of -0.7365\n",
      "Pass = 1 Num Topics = 22  has Coherence Value of -0.7478\n",
      "Pass = 1 Num Topics = 24  has Coherence Value of -0.7839\n",
      "Pass = 1 Num Topics = 26  has Coherence Value of -0.825\n",
      "Pass = 1 Num Topics = 28  has Coherence Value of -0.7582\n",
      "Pass = 1 Num Topics = 30  has Coherence Value of -0.8113\n",
      "Pass = 1 Num Topics = 32  has Coherence Value of -0.8228\n",
      "Pass = 1 Num Topics = 34  has Coherence Value of -0.7536\n",
      "Pass = 1 Num Topics = 36  has Coherence Value of -0.7901\n",
      "Pass = 1 Num Topics = 38  has Coherence Value of -0.7678\n",
      "Pass = 2 Num Topics = 2  has Coherence Value of -0.672\n",
      "Pass = 2 Num Topics = 4  has Coherence Value of -0.8257\n",
      "Pass = 2 Num Topics = 6  has Coherence Value of -0.8139\n",
      "Pass = 2 Num Topics = 8  has Coherence Value of -0.7351\n",
      "Pass = 2 Num Topics = 10  has Coherence Value of -0.7046\n",
      "Pass = 2 Num Topics = 12  has Coherence Value of -0.7589\n",
      "Pass = 2 Num Topics = 14  has Coherence Value of -0.7407\n",
      "Pass = 2 Num Topics = 16  has Coherence Value of -0.7564\n",
      "Pass = 2 Num Topics = 18  has Coherence Value of -0.8137\n",
      "Pass = 2 Num Topics = 20  has Coherence Value of -0.7613\n",
      "Pass = 2 Num Topics = 22  has Coherence Value of -0.7714\n",
      "Pass = 2 Num Topics = 24  has Coherence Value of -0.8051\n",
      "Pass = 2 Num Topics = 26  has Coherence Value of -0.8023\n",
      "Pass = 2 Num Topics = 28  has Coherence Value of -0.7792\n",
      "Pass = 2 Num Topics = 30  has Coherence Value of -0.7572\n",
      "Pass = 2 Num Topics = 32  has Coherence Value of -0.8137\n",
      "Pass = 2 Num Topics = 34  has Coherence Value of -0.8191\n",
      "Pass = 2 Num Topics = 36  has Coherence Value of -0.8164\n",
      "Pass = 2 Num Topics = 38  has Coherence Value of -0.776\n",
      "Pass = 3 Num Topics = 2  has Coherence Value of -0.6015\n",
      "Pass = 3 Num Topics = 4  has Coherence Value of -0.7801\n",
      "Pass = 3 Num Topics = 6  has Coherence Value of -0.7437\n",
      "Pass = 3 Num Topics = 8  has Coherence Value of -0.7706\n",
      "Pass = 3 Num Topics = 10  has Coherence Value of -0.8475\n",
      "Pass = 3 Num Topics = 12  has Coherence Value of -0.7373\n",
      "Pass = 3 Num Topics = 14  has Coherence Value of -0.786\n",
      "Pass = 3 Num Topics = 16  has Coherence Value of -0.7353\n",
      "Pass = 3 Num Topics = 18  has Coherence Value of -0.6712\n",
      "Pass = 3 Num Topics = 20  has Coherence Value of -0.7484\n",
      "Pass = 3 Num Topics = 22  has Coherence Value of -0.7799\n",
      "Pass = 3 Num Topics = 24  has Coherence Value of -0.771\n",
      "Pass = 3 Num Topics = 26  has Coherence Value of -0.8153\n",
      "Pass = 3 Num Topics = 28  has Coherence Value of -0.8346\n",
      "Pass = 3 Num Topics = 30  has Coherence Value of -0.7606\n",
      "Pass = 3 Num Topics = 32  has Coherence Value of -0.7848\n",
      "Pass = 3 Num Topics = 34  has Coherence Value of -0.7994\n",
      "Pass = 3 Num Topics = 36  has Coherence Value of -0.8271\n",
      "Pass = 3 Num Topics = 38  has Coherence Value of -0.7835\n",
      "Pass = 4 Num Topics = 2  has Coherence Value of -0.6599\n",
      "Pass = 4 Num Topics = 4  has Coherence Value of -0.8339\n",
      "Pass = 4 Num Topics = 6  has Coherence Value of -0.6905\n",
      "Pass = 4 Num Topics = 8  has Coherence Value of -0.7075\n",
      "Pass = 4 Num Topics = 10  has Coherence Value of -0.722\n",
      "Pass = 4 Num Topics = 12  has Coherence Value of -0.763\n",
      "Pass = 4 Num Topics = 14  has Coherence Value of -0.7544\n",
      "Pass = 4 Num Topics = 16  has Coherence Value of -0.8182\n",
      "Pass = 4 Num Topics = 18  has Coherence Value of -0.776\n",
      "Pass = 4 Num Topics = 20  has Coherence Value of -0.7726\n",
      "Pass = 4 Num Topics = 22  has Coherence Value of -0.8224\n",
      "Pass = 4 Num Topics = 24  has Coherence Value of -0.7518\n",
      "Pass = 4 Num Topics = 26  has Coherence Value of -0.7771\n",
      "Pass = 4 Num Topics = 28  has Coherence Value of -0.7693\n",
      "Pass = 4 Num Topics = 30  has Coherence Value of -0.7304\n",
      "Pass = 4 Num Topics = 32  has Coherence Value of -0.832\n",
      "Pass = 4 Num Topics = 34  has Coherence Value of -0.8356\n",
      "Pass = 4 Num Topics = 36  has Coherence Value of -0.8322\n",
      "Pass = 4 Num Topics = 38  has Coherence Value of -0.7802\n",
      "Pass = 5 Num Topics = 2  has Coherence Value of -0.6319\n",
      "Pass = 5 Num Topics = 4  has Coherence Value of -0.5808\n",
      "Pass = 5 Num Topics = 6  has Coherence Value of -0.6954\n",
      "Pass = 5 Num Topics = 8  has Coherence Value of -0.7491\n",
      "Pass = 5 Num Topics = 10  has Coherence Value of -0.771\n",
      "Pass = 5 Num Topics = 12  has Coherence Value of -0.7842\n",
      "Pass = 5 Num Topics = 14  has Coherence Value of -0.7445\n",
      "Pass = 5 Num Topics = 16  has Coherence Value of -0.8042\n",
      "Pass = 5 Num Topics = 18  has Coherence Value of -0.7512\n",
      "Pass = 5 Num Topics = 20  has Coherence Value of -0.7201\n",
      "Pass = 5 Num Topics = 22  has Coherence Value of -0.7973\n",
      "Pass = 5 Num Topics = 24  has Coherence Value of -0.7993\n",
      "Pass = 5 Num Topics = 26  has Coherence Value of -0.8025\n",
      "Pass = 5 Num Topics = 28  has Coherence Value of -0.7668\n",
      "Pass = 5 Num Topics = 30  has Coherence Value of -0.7729\n",
      "Pass = 5 Num Topics = 32  has Coherence Value of -0.8318\n",
      "Pass = 5 Num Topics = 34  has Coherence Value of -0.769\n",
      "Pass = 5 Num Topics = 36  has Coherence Value of -0.7898\n",
      "Pass = 5 Num Topics = 38  has Coherence Value of -0.8557\n",
      "Pass = 6 Num Topics = 2  has Coherence Value of -0.6714\n",
      "Pass = 6 Num Topics = 4  has Coherence Value of -0.6963\n",
      "Pass = 6 Num Topics = 6  has Coherence Value of -0.7362\n",
      "Pass = 6 Num Topics = 8  has Coherence Value of -0.7899\n",
      "Pass = 6 Num Topics = 10  has Coherence Value of -0.848\n",
      "Pass = 6 Num Topics = 12  has Coherence Value of -0.771\n",
      "Pass = 6 Num Topics = 14  has Coherence Value of -0.8001\n",
      "Pass = 6 Num Topics = 16  has Coherence Value of -0.8247\n",
      "Pass = 6 Num Topics = 18  has Coherence Value of -0.842\n",
      "Pass = 6 Num Topics = 20  has Coherence Value of -0.8051\n",
      "Pass = 6 Num Topics = 22  has Coherence Value of -0.7292\n",
      "Pass = 6 Num Topics = 24  has Coherence Value of -0.7201\n",
      "Pass = 6 Num Topics = 26  has Coherence Value of -0.7386\n",
      "Pass = 6 Num Topics = 28  has Coherence Value of -0.7865\n",
      "Pass = 6 Num Topics = 30  has Coherence Value of -0.7582\n",
      "Pass = 6 Num Topics = 32  has Coherence Value of -0.8004\n",
      "Pass = 6 Num Topics = 34  has Coherence Value of -0.7984\n",
      "Pass = 6 Num Topics = 36  has Coherence Value of -0.7726\n",
      "Pass = 6 Num Topics = 38  has Coherence Value of -0.7649\n",
      "Pass = 7 Num Topics = 2  has Coherence Value of -0.7002\n",
      "Pass = 7 Num Topics = 4  has Coherence Value of -0.662\n",
      "Pass = 7 Num Topics = 6  has Coherence Value of -0.7171\n",
      "Pass = 7 Num Topics = 8  has Coherence Value of -0.7579\n",
      "Pass = 7 Num Topics = 10  has Coherence Value of -0.7801\n",
      "Pass = 7 Num Topics = 12  has Coherence Value of -0.7177\n",
      "Pass = 7 Num Topics = 14  has Coherence Value of -0.8016\n",
      "Pass = 7 Num Topics = 16  has Coherence Value of -0.8835\n",
      "Pass = 7 Num Topics = 18  has Coherence Value of -0.8312\n",
      "Pass = 7 Num Topics = 20  has Coherence Value of -0.6703\n",
      "Pass = 7 Num Topics = 22  has Coherence Value of -0.782\n",
      "Pass = 7 Num Topics = 24  has Coherence Value of -0.8036\n",
      "Pass = 7 Num Topics = 26  has Coherence Value of -0.7959\n",
      "Pass = 7 Num Topics = 28  has Coherence Value of -0.7457\n",
      "Pass = 7 Num Topics = 30  has Coherence Value of -0.7691\n",
      "Pass = 7 Num Topics = 32  has Coherence Value of -0.7303\n",
      "Pass = 7 Num Topics = 34  has Coherence Value of -0.7836\n",
      "Pass = 7 Num Topics = 36  has Coherence Value of -0.7955\n",
      "Pass = 7 Num Topics = 38  has Coherence Value of -0.8305\n",
      "Pass = 8 Num Topics = 2  has Coherence Value of -0.6707\n",
      "Pass = 8 Num Topics = 4  has Coherence Value of -0.7191\n",
      "Pass = 8 Num Topics = 6  has Coherence Value of -0.7082\n",
      "Pass = 8 Num Topics = 8  has Coherence Value of -0.7961\n",
      "Pass = 8 Num Topics = 10  has Coherence Value of -0.7745\n",
      "Pass = 8 Num Topics = 12  has Coherence Value of -0.7424\n",
      "Pass = 8 Num Topics = 14  has Coherence Value of -0.7162\n",
      "Pass = 8 Num Topics = 16  has Coherence Value of -0.7615\n",
      "Pass = 8 Num Topics = 18  has Coherence Value of -0.7389\n",
      "Pass = 8 Num Topics = 20  has Coherence Value of -0.8375\n",
      "Pass = 8 Num Topics = 22  has Coherence Value of -0.8205\n",
      "Pass = 8 Num Topics = 24  has Coherence Value of -0.7421\n",
      "Pass = 8 Num Topics = 26  has Coherence Value of -0.7549\n",
      "Pass = 8 Num Topics = 28  has Coherence Value of -0.7582\n",
      "Pass = 8 Num Topics = 30  has Coherence Value of -0.7918\n",
      "Pass = 8 Num Topics = 32  has Coherence Value of -0.7633\n",
      "Pass = 8 Num Topics = 34  has Coherence Value of -0.7273\n",
      "Pass = 8 Num Topics = 36  has Coherence Value of -0.7566\n",
      "Pass = 8 Num Topics = 38  has Coherence Value of -0.8218\n",
      "Pass = 9 Num Topics = 2  has Coherence Value of -0.7622\n",
      "Pass = 9 Num Topics = 4  has Coherence Value of -0.7426\n",
      "Pass = 9 Num Topics = 6  has Coherence Value of -0.715\n",
      "Pass = 9 Num Topics = 8  has Coherence Value of -0.8129\n",
      "Pass = 9 Num Topics = 10  has Coherence Value of -0.687\n",
      "Pass = 9 Num Topics = 12  has Coherence Value of -0.6789\n",
      "Pass = 9 Num Topics = 14  has Coherence Value of -0.7626\n",
      "Pass = 9 Num Topics = 16  has Coherence Value of -0.7871\n",
      "Pass = 9 Num Topics = 18  has Coherence Value of -0.7324\n",
      "Pass = 9 Num Topics = 20  has Coherence Value of -0.7782\n",
      "Pass = 9 Num Topics = 22  has Coherence Value of -0.7514\n",
      "Pass = 9 Num Topics = 24  has Coherence Value of -0.7854\n",
      "Pass = 9 Num Topics = 26  has Coherence Value of -0.8472\n",
      "Pass = 9 Num Topics = 28  has Coherence Value of -0.7683\n",
      "Pass = 9 Num Topics = 30  has Coherence Value of -0.7702\n",
      "Pass = 9 Num Topics = 32  has Coherence Value of -0.8379\n",
      "Pass = 9 Num Topics = 34  has Coherence Value of -0.7605\n",
      "Pass = 9 Num Topics = 36  has Coherence Value of -0.7994\n",
      "Pass = 9 Num Topics = 38  has Coherence Value of -0.8319\n"
     ]
    }
   ],
   "source": [
    "# Print the coherence scores\n",
    "for cv in coherence_values:\n",
    "    print('Pass =', cv['pass'], \"Num Topics =\", cv['num_topics'], \" has Coherence Value of\", round(cv['coherence_score'], 4))"
   ]
  },
  {
   "cell_type": "code",
   "execution_count": 69,
   "metadata": {},
   "outputs": [
    {
     "data": {
      "text/plain": [
       "[(0, 0.016701119),\n",
       " (1, 0.01670116),\n",
       " (2, 0.01670115),\n",
       " (3, 0.016701119),\n",
       " (4, 0.016701132),\n",
       " (5, 0.01670112),\n",
       " (6, 0.016701119),\n",
       " (7, 0.016701138),\n",
       " (8, 0.016701119),\n",
       " (9, 0.016701167),\n",
       " (10, 0.7661841),\n",
       " (11, 0.016701164),\n",
       " (12, 0.01670119),\n",
       " (13, 0.016701119),\n",
       " (14, 0.016701119)]"
      ]
     },
     "execution_count": 69,
     "metadata": {},
     "output_type": "execute_result"
    }
   ],
   "source": [
    "lda[id2word.doc2bow(tokenize(\"This is a sample document to score with a topic distribution.\"))]"
   ]
  },
  {
   "cell_type": "markdown",
   "metadata": {},
   "source": [
    "# Sources\n",
    "\n",
    "### *References*\n",
    "* [Andrew Ng et al paper on LDA](https://ai.stanford.edu/~ang/papers/jair03-lda.pdf)\n",
    "* On [Coherence](https://pdfs.semanticscholar.org/1521/8d9c029cbb903ae7c729b2c644c24994c201.pdf)\n",
    "\n",
    "### *Resources*\n",
    "\n",
    "* [Gensim](https://radimrehurek.com/gensim/): Python package for topic modeling, nlp, word vectorization, and few other things. Well maintained and well documented.\n",
    "* [Topic Modeling with Gensim](http://www.machinelearningplus.com/nlp/topic-modeling-gensim-python/#11createthedictionaryandcorpusneededfortopicmodeling): A kind of cookbook for LDA with gensim. Excellent overview, but the you need to be aware of missing import statements and assumed prior knowledge.\n",
    "* [Chinese Restuarant Process](https://en.wikipedia.org/wiki/Chinese_restaurant_process): That really obscure stats thing I mentioned... \n",
    "* [PyLDAvis](https://github.com/bmabey/pyLDAvis): Library for visualizing the topic model and performing some exploratory work. Works well. Has a direct parrell implementation in R as well. \n",
    "* [Rare Technologies](https://rare-technologies.com/): The people that made & maintain gensim and a few other libraries.\n",
    "* [Jane Austen v. Charlotte Bronte](https://www.literaryladiesguide.com/literary-musings/jane-austen-charlotte-bronte-different-alike/)"
   ]
  }
 ],
 "metadata": {
  "kernelspec": {
   "display_name": "U4-S1-NLP (Python3)",
   "language": "python",
   "name": "u4-s1-nlp"
  },
  "language_info": {
   "codemirror_mode": {
    "name": "ipython",
    "version": 3
   },
   "file_extension": ".py",
   "mimetype": "text/x-python",
   "name": "python",
   "nbconvert_exporter": "python",
   "pygments_lexer": "ipython3",
   "version": "3.7.0"
  }
 },
 "nbformat": 4,
 "nbformat_minor": 4
}
