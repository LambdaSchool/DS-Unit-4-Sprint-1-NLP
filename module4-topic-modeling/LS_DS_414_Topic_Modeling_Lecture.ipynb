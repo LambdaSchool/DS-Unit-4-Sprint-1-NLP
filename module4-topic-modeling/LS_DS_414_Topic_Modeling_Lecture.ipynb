{
 "cells": [
  {
   "cell_type": "markdown",
   "metadata": {},
   "source": [
    "Lambda School Data Science\n",
    "\n",
    "*Unit 4, Sprint 1, Module 4*\n",
    "\n",
    "---"
   ]
  },
  {
   "cell_type": "markdown",
   "metadata": {},
   "source": [
    "# Topic Modeling (Prepare)"
   ]
  },
  {
   "cell_type": "markdown",
   "metadata": {},
   "source": [
    "# Latent Dirchilet Allocation (LDA) Models (Prepare)\n",
    "<a id=\"#p1\"></a>"
   ]
  },
  {
   "cell_type": "markdown",
   "metadata": {},
   "source": [
    "## Overview\n",
    "LDA is a \"generative probabilistic model\". \n",
    "\n",
    "Let's play with a modoel available [here](https://lettier.com/projects/lda-topic-modeling/)"
   ]
  },
  {
   "cell_type": "markdown",
   "metadata": {},
   "source": [
    "## Follow Along"
   ]
  },
  {
   "cell_type": "markdown",
   "metadata": {},
   "source": [
    "## Challenge "
   ]
  },
  {
   "cell_type": "markdown",
   "metadata": {},
   "source": [
    "# Estimating LDA Models with Gensim (Learn)\n",
    "<a id=\"#p1\"></a>"
   ]
  },
  {
   "cell_type": "markdown",
   "metadata": {
    "toc-hr-collapsed": true
   },
   "source": [
    "## Overview\n",
    "### A Litterary Introduction: *Jane Austen V. Charlotte Bronte*\n",
    "Despite being born nearly forty years apart, modern fans often pit Jane Austen & Charlotte Bronte against one another in a battle for litterary  supremacy. The battle centers around the topics of education for women, courting, and marriage. The authors' similiar backgrounds naturally draw comparisons, but the modern fascination is probably due to novelility of British women publishing novels during the early 19th century. \n",
    "\n",
    "Can we help close a litterary battle for supremacy and simply acknowledge that the authors addressed different topics and deserve to be acknowledged as excellent authors each in their own right?\n",
    "\n",
    "We're going to apply Latent Dirichlet Allocation a machine learning alogrithm for topic modeling to each of the author's novels to compare the distribution of topics in their novels."
   ]
  },
  {
   "cell_type": "code",
   "execution_count": 1,
   "metadata": {},
   "outputs": [],
   "source": [
    "import numpy as np\n",
    "import gensim\n",
    "import os\n",
    "import re\n",
    "\n",
    "from gensim.utils import simple_preprocess\n",
    "from gensim.parsing.preprocessing import STOPWORDS\n",
    "from gensim import corpora\n",
    "\n",
    "from gensim.models.ldamulticore import LdaMulticore\n",
    "\n",
    "import pandas as pd"
   ]
  },
  {
   "cell_type": "markdown",
   "metadata": {},
   "source": [
    "### Novel Data\n",
    "I grabbed the novel data pre-split into a bunch of smaller chuncks"
   ]
  },
  {
   "cell_type": "code",
   "execution_count": 2,
   "metadata": {},
   "outputs": [],
   "source": [
    "path = './data/austen-brontë-split'"
   ]
  },
  {
   "cell_type": "code",
   "execution_count": 3,
   "metadata": {},
   "outputs": [],
   "source": [
    "STOPWORDS = set(STOPWORDS).union(set(['said', 'mr', 'mrs']))\n",
    "\n",
    "def tokenize(text):\n",
    "    return [token for token in simple_preprocess(text) if token not in STOPWORDS]"
   ]
  },
  {
   "cell_type": "code",
   "execution_count": 4,
   "metadata": {},
   "outputs": [],
   "source": [
    "import os\n",
    "\n",
    "def gather_data(path): \n",
    "    data = []\n",
    "    for f in os.listdir(path):\n",
    "        if os.path.isdir(f) == False:\n",
    "            if f[-3:] == 'txt':\n",
    "                with open(os.path.join(path,f)) as t:\n",
    "                    text = t.read().strip('\\n')\n",
    "                    data.append(tokenize(str(text)))       \n",
    "    return data"
   ]
  },
  {
   "cell_type": "code",
   "execution_count": 5,
   "metadata": {},
   "outputs": [],
   "source": [
    "df = pd.DataFrame()\n",
    "df['tokens'] = gather_data(path)"
   ]
  },
  {
   "cell_type": "code",
   "execution_count": 6,
   "metadata": {},
   "outputs": [
    {
     "data": {
      "text/plain": [
       "'this is a sample string with a  newline character'"
      ]
     },
     "execution_count": 6,
     "metadata": {},
     "output_type": "execute_result"
    }
   ],
   "source": [
    "\"this is a sample string with a \\n newline character\".replace('\\n', '')"
   ]
  },
  {
   "cell_type": "code",
   "execution_count": 7,
   "metadata": {},
   "outputs": [
    {
     "data": {
      "text/plain": [
       "0    [woods, miss, woodhouse, like, friend, knightl...\n",
       "1    [semicircle, passing, round, giving, farewells...\n",
       "2    [known, infant, seen, grow, period, notice, ho...\n",
       "3    [better, change, mind, assure, power, took, le...\n",
       "4    [wonder, amusement, secretly, added, lord, ble...\n",
       "Name: tokens, dtype: object"
      ]
     },
     "execution_count": 7,
     "metadata": {},
     "output_type": "execute_result"
    }
   ],
   "source": [
    "df['tokens'].head()"
   ]
  },
  {
   "cell_type": "markdown",
   "metadata": {
    "toc-hr-collapsed": true
   },
   "source": [
    "## Follow Along"
   ]
  },
  {
   "cell_type": "markdown",
   "metadata": {},
   "source": [
    "### Text Preprocessing\n",
    "**Challenge**: update the function `tokenize` with any technique you have learned so far this week. "
   ]
  },
  {
   "cell_type": "code",
   "execution_count": 8,
   "metadata": {},
   "outputs": [],
   "source": [
    "titles = [t[:-4] for t in os.listdir(path)]"
   ]
  },
  {
   "cell_type": "code",
   "execution_count": 9,
   "metadata": {},
   "outputs": [
    {
     "data": {
      "text/plain": [
       "['Austen_Emma0136',\n",
       " 'CBronte_Villette0156',\n",
       " 'Austen_Emma0111',\n",
       " 'Austen_Sense0018',\n",
       " 'Austen_Emma0100']"
      ]
     },
     "execution_count": 9,
     "metadata": {},
     "output_type": "execute_result"
    }
   ],
   "source": [
    "titles[:5]"
   ]
  },
  {
   "cell_type": "code",
   "execution_count": 10,
   "metadata": {},
   "outputs": [],
   "source": [
    "STOPWORDS = set(STOPWORDS).union(set(['said', 'mr', 'mrs']))\n",
    "\n",
    "def tokenize(text):\n",
    "    return [token for token in simple_preprocess(text) if token not in STOPWORDS]"
   ]
  },
  {
   "cell_type": "code",
   "execution_count": 11,
   "metadata": {},
   "outputs": [
    {
     "data": {
      "text/plain": [
       "['hello', 'world', 'test', 'tokenization', 'method']"
      ]
     },
     "execution_count": 11,
     "metadata": {},
     "output_type": "execute_result"
    }
   ],
   "source": [
    "tokenize(\"Hello World! This a test of the tokenization method\")"
   ]
  },
  {
   "cell_type": "markdown",
   "metadata": {},
   "source": [
    "### Author DataFrame\n"
   ]
  },
  {
   "cell_type": "code",
   "execution_count": 12,
   "metadata": {},
   "outputs": [],
   "source": [
    "df = pd.DataFrame(index=titles)"
   ]
  },
  {
   "cell_type": "code",
   "execution_count": 13,
   "metadata": {},
   "outputs": [
    {
     "data": {
      "text/html": [
       "<div>\n",
       "<style scoped>\n",
       "    .dataframe tbody tr th:only-of-type {\n",
       "        vertical-align: middle;\n",
       "    }\n",
       "\n",
       "    .dataframe tbody tr th {\n",
       "        vertical-align: top;\n",
       "    }\n",
       "\n",
       "    .dataframe thead th {\n",
       "        text-align: right;\n",
       "    }\n",
       "</style>\n",
       "<table border=\"1\" class=\"dataframe\">\n",
       "  <thead>\n",
       "    <tr style=\"text-align: right;\">\n",
       "      <th></th>\n",
       "    </tr>\n",
       "  </thead>\n",
       "  <tbody>\n",
       "    <tr>\n",
       "      <th>Austen_Emma0136</th>\n",
       "    </tr>\n",
       "    <tr>\n",
       "      <th>CBronte_Villette0156</th>\n",
       "    </tr>\n",
       "    <tr>\n",
       "      <th>Austen_Emma0111</th>\n",
       "    </tr>\n",
       "    <tr>\n",
       "      <th>Austen_Sense0018</th>\n",
       "    </tr>\n",
       "    <tr>\n",
       "      <th>Austen_Emma0100</th>\n",
       "    </tr>\n",
       "  </tbody>\n",
       "</table>\n",
       "</div>"
      ],
      "text/plain": [
       "Empty DataFrame\n",
       "Columns: []\n",
       "Index: [Austen_Emma0136, CBronte_Villette0156, Austen_Emma0111, Austen_Sense0018, Austen_Emma0100]"
      ]
     },
     "execution_count": 13,
     "metadata": {},
     "output_type": "execute_result"
    }
   ],
   "source": [
    "df.head()"
   ]
  },
  {
   "cell_type": "code",
   "execution_count": 14,
   "metadata": {},
   "outputs": [],
   "source": [
    "df['author'] = df.reset_index()['index'].apply(lambda x: x.split('_')[0]).tolist()\n",
    "df['book'] = df.reset_index()['index'].apply(lambda x: x.split('_')[1][:-4]).tolist()\n",
    "df['section'] = df.reset_index()['index'].apply(lambda x: x[-4:]).tolist()\n",
    "df['section'] = df['section'].astype('int')"
   ]
  },
  {
   "cell_type": "code",
   "execution_count": 15,
   "metadata": {},
   "outputs": [],
   "source": [
    "df['author'] = df['author'].map({'Austen':1, 'CBronte':0})"
   ]
  },
  {
   "cell_type": "code",
   "execution_count": 16,
   "metadata": {},
   "outputs": [
    {
     "data": {
      "text/plain": [
       "0    441\n",
       "1    372\n",
       "Name: author, dtype: int64"
      ]
     },
     "execution_count": 16,
     "metadata": {},
     "output_type": "execute_result"
    }
   ],
   "source": [
    "df.author.value_counts()"
   ]
  },
  {
   "cell_type": "markdown",
   "metadata": {},
   "source": [
    "### Streaming Documents\n",
    "Here we use a new pythonic thingy: the `yield` statement in our fucntion. This allows us to iterate over a bunch of documents without actually reading them into memory. You can see how we use this function later on. "
   ]
  },
  {
   "cell_type": "code",
   "execution_count": 17,
   "metadata": {},
   "outputs": [],
   "source": [
    "def doc_stream(path):\n",
    "    for f in os.listdir(path):\n",
    "        if os.path.isdir(f) == False:\n",
    "            if f[-3:] == 'txt':\n",
    "                with open(os.path.join(path,f)) as t:\n",
    "                    text = t.read().strip('\\n')\n",
    "                    tokens = tokenize(str(text))\n",
    "                yield tokens"
   ]
  },
  {
   "cell_type": "code",
   "execution_count": 18,
   "metadata": {},
   "outputs": [],
   "source": [
    "streaming_data = doc_stream(path)"
   ]
  },
  {
   "cell_type": "code",
   "execution_count": 19,
   "metadata": {},
   "outputs": [
    {
     "name": "stdout",
     "output_type": "stream",
     "text": [
      "<generator object doc_stream at 0x7fa65141ee58>\n"
     ]
    }
   ],
   "source": [
    "print(streaming_data) # just a generator"
   ]
  },
  {
   "cell_type": "markdown",
   "metadata": {},
   "source": [
    "### Gensim LDA Topic Modeling"
   ]
  },
  {
   "cell_type": "code",
   "execution_count": 21,
   "metadata": {},
   "outputs": [],
   "source": [
    "# A Dictionary Representation of all the words in our corpus\n",
    "id2word = corpora.Dictionary(doc_stream(path))"
   ]
  },
  {
   "cell_type": "code",
   "execution_count": 22,
   "metadata": {},
   "outputs": [
    {
     "data": {
      "text/plain": [
       "1462"
      ]
     },
     "execution_count": 22,
     "metadata": {},
     "output_type": "execute_result"
    }
   ],
   "source": [
    "id2word.token2id['england']"
   ]
  },
  {
   "cell_type": "code",
   "execution_count": 23,
   "metadata": {},
   "outputs": [
    {
     "data": {
      "text/plain": [
       "[(163, 1), (1462, 3), (2929, 1), (8928, 1)]"
      ]
     },
     "execution_count": 23,
     "metadata": {},
     "output_type": "execute_result"
    }
   ],
   "source": [
    "id2word.doc2bow(tokenize(\"This is a sample message Darcy England England England\"))"
   ]
  },
  {
   "cell_type": "code",
   "execution_count": 24,
   "metadata": {},
   "outputs": [
    {
     "data": {
      "text/plain": [
       "56"
      ]
     },
     "execution_count": 24,
     "metadata": {},
     "output_type": "execute_result"
    }
   ],
   "source": [
    "import sys\n",
    "sys.getsizeof(id2word)"
   ]
  },
  {
   "cell_type": "code",
   "execution_count": 25,
   "metadata": {},
   "outputs": [
    {
     "data": {
      "text/plain": [
       "22095"
      ]
     },
     "execution_count": 25,
     "metadata": {},
     "output_type": "execute_result"
    }
   ],
   "source": [
    "len(id2word.keys())"
   ]
  },
  {
   "cell_type": "code",
   "execution_count": 26,
   "metadata": {},
   "outputs": [],
   "source": [
    "# Let's remove extreme values from the dataset\n",
    "id2word.filter_extremes(no_below=10, no_above=0.75)"
   ]
  },
  {
   "cell_type": "code",
   "execution_count": 27,
   "metadata": {},
   "outputs": [
    {
     "data": {
      "text/plain": [
       "4921"
      ]
     },
     "execution_count": 27,
     "metadata": {},
     "output_type": "execute_result"
    }
   ],
   "source": [
    "len(id2word.keys())"
   ]
  },
  {
   "cell_type": "code",
   "execution_count": 28,
   "metadata": {},
   "outputs": [],
   "source": [
    "# a bag of words(bow) representation of our corpus\n",
    "# Note: we haven't actually read any text into memory here\n",
    "corpus = [id2word.doc2bow(text) for text in doc_stream(path)]"
   ]
  },
  {
   "cell_type": "code",
   "execution_count": 29,
   "metadata": {},
   "outputs": [
    {
     "data": {
      "text/plain": [
       "[(0, 1),\n",
       " (1, 1),\n",
       " (2, 1),\n",
       " (3, 1),\n",
       " (4, 1),\n",
       " (5, 1),\n",
       " (6, 1),\n",
       " (7, 1),\n",
       " (8, 1),\n",
       " (9, 1)]"
      ]
     },
     "execution_count": 29,
     "metadata": {},
     "output_type": "execute_result"
    }
   ],
   "source": [
    "corpus[0][:10]"
   ]
  },
  {
   "cell_type": "code",
   "execution_count": 30,
   "metadata": {},
   "outputs": [],
   "source": [
    "lda = LdaMulticore(corpus=corpus,\n",
    "                   id2word=id2word,\n",
    "                   random_state=723812,\n",
    "                   num_topics = 15,\n",
    "                   passes=10,\n",
    "                   workers=4\n",
    "                  )"
   ]
  },
  {
   "cell_type": "code",
   "execution_count": 31,
   "metadata": {},
   "outputs": [
    {
     "data": {
      "text/plain": [
       "[(0,\n",
       "  '0.015*\"lady\" + 0.015*\"collins\" + 0.014*\"sir\" + 0.010*\"catherine\" + 0.010*\"miss\" + 0.009*\"bennet\" + 0.008*\"elizabeth\" + 0.007*\"ladies\" + 0.006*\"young\" + 0.006*\"william\"'),\n",
       " (1,\n",
       "  '0.008*\"long\" + 0.007*\"miss\" + 0.006*\"room\" + 0.005*\"lady\" + 0.005*\"saw\" + 0.005*\"day\" + 0.005*\"monsieur\" + 0.004*\"having\" + 0.004*\"great\" + 0.003*\"pupil\"'),\n",
       " (2,\n",
       "  '0.014*\"papa\" + 0.008*\"like\" + 0.008*\"old\" + 0.006*\"polly\" + 0.005*\"room\" + 0.005*\"letter\" + 0.005*\"red\" + 0.005*\"madame\" + 0.004*\"saw\" + 0.004*\"hands\"'),\n",
       " (3,\n",
       "  '0.010*\"elizabeth\" + 0.010*\"gardiner\" + 0.005*\"walk\" + 0.005*\"stream\" + 0.005*\"woods\" + 0.005*\"civility\" + 0.004*\"felt\" + 0.004*\"darcy\" + 0.004*\"hunsford\" + 0.004*\"scene\"'),\n",
       " (4,\n",
       "  '0.010*\"hunsden\" + 0.007*\"monsieur\" + 0.006*\"know\" + 0.006*\"come\" + 0.005*\"english\" + 0.005*\"frances\" + 0.004*\"shall\" + 0.004*\"soon\" + 0.004*\"suppose\" + 0.004*\"tell\"'),\n",
       " (5,\n",
       "  '0.009*\"rochester\" + 0.008*\"jane\" + 0.008*\"sir\" + 0.007*\"like\" + 0.005*\"room\" + 0.005*\"thought\" + 0.005*\"shall\" + 0.005*\"night\" + 0.004*\"yes\" + 0.004*\"come\"'),\n",
       " (6,\n",
       "  '0.031*\"elinor\" + 0.023*\"edward\" + 0.018*\"lucy\" + 0.017*\"marianne\" + 0.016*\"dashwood\" + 0.013*\"mother\" + 0.012*\"ferrars\" + 0.010*\"john\" + 0.009*\"jennings\" + 0.009*\"sister\"'),\n",
       " (7,\n",
       "  '0.006*\"like\" + 0.005*\"thought\" + 0.005*\"know\" + 0.004*\"bretton\" + 0.004*\"day\" + 0.004*\"graham\" + 0.004*\"miss\" + 0.004*\"think\" + 0.004*\"eyes\" + 0.004*\"long\"'),\n",
       " (8,\n",
       "  '0.007*\"madame\" + 0.005*\"monsieur\" + 0.005*\"like\" + 0.005*\"door\" + 0.005*\"house\" + 0.004*\"english\" + 0.004*\"long\" + 0.004*\"thought\" + 0.004*\"day\" + 0.004*\"room\"'),\n",
       " (9,\n",
       "  '0.021*\"elizabeth\" + 0.014*\"darcy\" + 0.011*\"bingley\" + 0.010*\"jane\" + 0.010*\"bennet\" + 0.008*\"miss\" + 0.007*\"know\" + 0.007*\"wickham\" + 0.006*\"think\" + 0.006*\"sister\"'),\n",
       " (10,\n",
       "  '0.010*\"like\" + 0.009*\"know\" + 0.008*\"john\" + 0.008*\"st\" + 0.007*\"diana\" + 0.006*\"mary\" + 0.005*\"letter\" + 0.005*\"read\" + 0.005*\"house\" + 0.004*\"tell\"'),\n",
       " (11,\n",
       "  '0.007*\"like\" + 0.006*\"heart\" + 0.005*\"madame\" + 0.005*\"night\" + 0.005*\"thought\" + 0.004*\"saw\" + 0.004*\"hand\" + 0.004*\"life\" + 0.004*\"long\" + 0.004*\"eyes\"'),\n",
       " (12,\n",
       "  '0.007*\"like\" + 0.007*\"know\" + 0.006*\"think\" + 0.005*\"night\" + 0.005*\"day\" + 0.004*\"dear\" + 0.004*\"madame\" + 0.004*\"look\" + 0.004*\"went\" + 0.004*\"saw\"'),\n",
       " (13,\n",
       "  '0.009*\"marianne\" + 0.008*\"elinor\" + 0.006*\"sister\" + 0.005*\"soon\" + 0.005*\"know\" + 0.004*\"willoughby\" + 0.004*\"day\" + 0.004*\"think\" + 0.004*\"colonel\" + 0.004*\"house\"'),\n",
       " (14,\n",
       "  '0.018*\"emma\" + 0.014*\"miss\" + 0.011*\"harriet\" + 0.009*\"weston\" + 0.009*\"think\" + 0.009*\"thing\" + 0.008*\"knightley\" + 0.008*\"elton\" + 0.008*\"know\" + 0.006*\"woodhouse\"')]"
      ]
     },
     "execution_count": 31,
     "metadata": {},
     "output_type": "execute_result"
    }
   ],
   "source": [
    "lda.print_topics()"
   ]
  },
  {
   "cell_type": "code",
   "execution_count": 35,
   "metadata": {},
   "outputs": [],
   "source": [
    "words = [re.findall(r'\"([^\"]*)\"',t[1]) for t in lda.print_topics()]"
   ]
  },
  {
   "cell_type": "code",
   "execution_count": 36,
   "metadata": {},
   "outputs": [],
   "source": [
    "topics = [' '.join(t[0:5]) for t in words]"
   ]
  },
  {
   "cell_type": "code",
   "execution_count": 39,
   "metadata": {},
   "outputs": [
    {
     "name": "stdout",
     "output_type": "stream",
     "text": [
      "------ Topic 0 ------\n",
      "lady collins sir catherine miss\n",
      "\n",
      "------ Topic 1 ------\n",
      "long miss room lady saw\n",
      "\n",
      "------ Topic 2 ------\n",
      "papa like old polly room\n",
      "\n",
      "------ Topic 3 ------\n",
      "elizabeth gardiner walk stream woods\n",
      "\n",
      "------ Topic 4 ------\n",
      "hunsden monsieur know come english\n",
      "\n",
      "------ Topic 5 ------\n",
      "rochester jane sir like room\n",
      "\n",
      "------ Topic 6 ------\n",
      "elinor edward lucy marianne dashwood\n",
      "\n",
      "------ Topic 7 ------\n",
      "like thought know bretton day\n",
      "\n",
      "------ Topic 8 ------\n",
      "madame monsieur like door house\n",
      "\n",
      "------ Topic 9 ------\n",
      "elizabeth darcy bingley jane bennet\n",
      "\n",
      "------ Topic 10 ------\n",
      "like know john st diana\n",
      "\n",
      "------ Topic 11 ------\n",
      "like heart madame night thought\n",
      "\n",
      "------ Topic 12 ------\n",
      "like know think night day\n",
      "\n",
      "------ Topic 13 ------\n",
      "marianne elinor sister soon know\n",
      "\n",
      "------ Topic 14 ------\n",
      "emma miss harriet weston think\n",
      "\n"
     ]
    }
   ],
   "source": [
    "for id, t in enumerate(topics): \n",
    "    print(f\"------ Topic {id} ------\")\n",
    "    print(t, end=\"\\n\\n\")"
   ]
  },
  {
   "cell_type": "markdown",
   "metadata": {},
   "source": [
    "## Challenge \n",
    "\n",
    "You will apply an LDA model to a customer review dataset to practice the fitting and estimation of LDA. "
   ]
  },
  {
   "cell_type": "markdown",
   "metadata": {},
   "source": [
    "# Interpret LDA Results (Learn)\n",
    "<a id=\"#p3\"></a>"
   ]
  },
  {
   "cell_type": "markdown",
   "metadata": {},
   "source": [
    "## Overview"
   ]
  },
  {
   "cell_type": "markdown",
   "metadata": {
    "toc-hr-collapsed": true
   },
   "source": [
    "## Follow Along"
   ]
  },
  {
   "cell_type": "markdown",
   "metadata": {},
   "source": [
    "### Topic Distance Visualization"
   ]
  },
  {
   "cell_type": "code",
   "execution_count": 40,
   "metadata": {},
   "outputs": [
    {
     "name": "stderr",
     "output_type": "stream",
     "text": [
      "/home/ubuntu/.conda/envs/U4-S1-NLP/lib/python3.7/site-packages/_pytest/mark/structures.py:378: DeprecationWarning: The usage of `cmp` is deprecated and will be removed on or after 2021-06-01.  Please use `eq` and `order` instead.\n",
      "  @attr.s(cmp=False, hash=False)\n"
     ]
    }
   ],
   "source": [
    "import pyLDAvis.gensim\n",
    "\n",
    "pyLDAvis.enable_notebook()"
   ]
  },
  {
   "cell_type": "code",
   "execution_count": 41,
   "metadata": {},
   "outputs": [
    {
     "name": "stderr",
     "output_type": "stream",
     "text": [
      "/home/ubuntu/.conda/envs/U4-S1-NLP/lib/python3.7/site-packages/pyLDAvis/_prepare.py:257: FutureWarning: Sorting because non-concatenation axis is not aligned. A future version\n",
      "of pandas will change to not sort by default.\n",
      "\n",
      "To accept the future behavior, pass 'sort=False'.\n",
      "\n",
      "To retain the current behavior and silence the warning, pass 'sort=True'.\n",
      "\n",
      "  return pd.concat([default_term_info] + list(topic_dfs))\n"
     ]
    },
    {
     "data": {
      "text/html": [
       "\n",
       "<link rel=\"stylesheet\" type=\"text/css\" href=\"https://cdn.rawgit.com/bmabey/pyLDAvis/files/ldavis.v1.0.0.css\">\n",
       "\n",
       "\n",
       "<div id=\"ldavis_el24741403519984573204241343069\"></div>\n",
       "<script type=\"text/javascript\">\n",
       "\n",
       "var ldavis_el24741403519984573204241343069_data = {\"mdsDat\": {\"x\": [0.04912970399495056, -0.10483236092162417, -0.09636559977725392, 0.05315253081566533, 0.11590810481362529, -0.1370381324360703, 0.09737434270170772, -0.13917510504332548, 0.03797296466441039, -0.10746154816929826, 0.04202532544591877, 0.010535591620509037, 0.018890094432633585, 0.11740960050068185, 0.042474487357469656], \"y\": [0.012860523130939302, 0.021063398149144562, 0.01171835702792204, 0.034101655988521336, -0.0076279531139494235, -0.03579092019246234, 0.05256692373667591, 0.10493143910056604, 0.06931326188195462, -0.10706686784348915, -0.06817316690023645, 0.022718040775549352, -0.018281063403373893, -0.011840256574251867, -0.08049337176350979], \"topics\": [1, 2, 3, 4, 5, 6, 7, 8, 9, 10, 11, 12, 13, 14, 15], \"cluster\": [1, 1, 1, 1, 1, 1, 1, 1, 1, 1, 1, 1, 1, 1, 1], \"Freq\": [17.345165252685547, 16.10642433166504, 15.871459007263184, 13.152085304260254, 10.983161926269531, 9.730810165405273, 6.469079971313477, 3.2128732204437256, 2.9887943267822266, 1.4179737567901611, 0.8300031423568726, 0.7691521644592285, 0.731155514717102, 0.29406052827835083, 0.09779849648475647]}, \"tinfo\": {\"Category\": [\"Default\", \"Default\", \"Default\", \"Default\", \"Default\", \"Default\", \"Default\", \"Default\", \"Default\", \"Default\", \"Default\", \"Default\", \"Default\", \"Default\", \"Default\", \"Default\", \"Default\", \"Default\", \"Default\", \"Default\", \"Default\", \"Default\", \"Default\", \"Default\", \"Default\", \"Default\", \"Default\", \"Default\", \"Default\", \"Default\", \"Topic1\", \"Topic1\", \"Topic1\", \"Topic1\", \"Topic1\", \"Topic1\", \"Topic1\", \"Topic1\", \"Topic1\", \"Topic1\", \"Topic1\", \"Topic1\", \"Topic1\", \"Topic1\", \"Topic1\", \"Topic1\", \"Topic1\", \"Topic1\", \"Topic1\", \"Topic1\", \"Topic1\", \"Topic1\", \"Topic1\", \"Topic1\", \"Topic1\", \"Topic1\", \"Topic1\", \"Topic1\", \"Topic1\", \"Topic1\", \"Topic1\", \"Topic1\", \"Topic1\", \"Topic1\", \"Topic1\", \"Topic1\", \"Topic1\", \"Topic1\", \"Topic1\", \"Topic1\", \"Topic1\", \"Topic1\", \"Topic1\", \"Topic1\", \"Topic1\", \"Topic1\", \"Topic1\", \"Topic1\", \"Topic1\", \"Topic1\", \"Topic1\", \"Topic1\", \"Topic1\", \"Topic1\", \"Topic1\", \"Topic1\", \"Topic1\", \"Topic1\", \"Topic1\", \"Topic1\", \"Topic1\", \"Topic1\", \"Topic1\", \"Topic1\", \"Topic1\", \"Topic1\", \"Topic1\", \"Topic1\", \"Topic1\", \"Topic1\", \"Topic1\", \"Topic1\", \"Topic2\", \"Topic2\", \"Topic2\", \"Topic2\", \"Topic2\", \"Topic2\", \"Topic2\", \"Topic2\", \"Topic2\", \"Topic2\", \"Topic2\", \"Topic2\", \"Topic2\", \"Topic2\", \"Topic2\", \"Topic2\", \"Topic2\", \"Topic2\", \"Topic2\", \"Topic2\", \"Topic2\", \"Topic2\", \"Topic2\", \"Topic2\", \"Topic2\", \"Topic2\", \"Topic2\", \"Topic2\", \"Topic2\", \"Topic2\", \"Topic2\", \"Topic2\", \"Topic2\", \"Topic2\", \"Topic2\", \"Topic2\", \"Topic2\", \"Topic2\", \"Topic2\", \"Topic2\", \"Topic2\", \"Topic2\", \"Topic2\", \"Topic2\", \"Topic2\", \"Topic2\", \"Topic2\", \"Topic2\", \"Topic2\", \"Topic2\", \"Topic2\", \"Topic2\", \"Topic2\", \"Topic2\", \"Topic2\", \"Topic2\", \"Topic2\", \"Topic2\", \"Topic2\", \"Topic2\", \"Topic2\", \"Topic2\", \"Topic2\", \"Topic2\", \"Topic2\", \"Topic2\", \"Topic2\", \"Topic2\", \"Topic2\", \"Topic2\", \"Topic2\", \"Topic2\", \"Topic2\", \"Topic2\", \"Topic2\", \"Topic2\", \"Topic3\", \"Topic3\", \"Topic3\", \"Topic3\", \"Topic3\", \"Topic3\", \"Topic3\", \"Topic3\", \"Topic3\", \"Topic3\", \"Topic3\", \"Topic3\", \"Topic3\", \"Topic3\", \"Topic3\", \"Topic3\", \"Topic3\", \"Topic3\", \"Topic3\", \"Topic3\", \"Topic3\", \"Topic3\", \"Topic3\", \"Topic3\", \"Topic3\", \"Topic3\", \"Topic3\", \"Topic3\", \"Topic3\", \"Topic3\", \"Topic3\", \"Topic3\", \"Topic3\", \"Topic3\", \"Topic3\", \"Topic3\", \"Topic3\", \"Topic3\", \"Topic3\", \"Topic3\", \"Topic3\", \"Topic3\", \"Topic3\", \"Topic3\", \"Topic3\", \"Topic3\", \"Topic3\", \"Topic3\", \"Topic3\", \"Topic3\", \"Topic3\", \"Topic3\", \"Topic3\", \"Topic3\", \"Topic3\", \"Topic3\", \"Topic4\", \"Topic4\", \"Topic4\", \"Topic4\", \"Topic4\", \"Topic4\", \"Topic4\", \"Topic4\", \"Topic4\", \"Topic4\", \"Topic4\", \"Topic4\", \"Topic4\", \"Topic4\", \"Topic4\", \"Topic4\", \"Topic4\", \"Topic4\", \"Topic4\", \"Topic4\", \"Topic4\", \"Topic4\", \"Topic4\", \"Topic4\", \"Topic4\", \"Topic4\", \"Topic4\", \"Topic4\", \"Topic4\", \"Topic4\", \"Topic4\", \"Topic4\", \"Topic4\", \"Topic4\", \"Topic4\", \"Topic4\", \"Topic4\", \"Topic4\", \"Topic4\", \"Topic4\", \"Topic4\", \"Topic4\", \"Topic4\", \"Topic4\", \"Topic4\", \"Topic4\", \"Topic4\", \"Topic4\", \"Topic4\", \"Topic4\", \"Topic4\", \"Topic4\", \"Topic4\", \"Topic4\", \"Topic4\", \"Topic4\", \"Topic4\", \"Topic4\", \"Topic4\", \"Topic4\", \"Topic4\", \"Topic4\", \"Topic4\", \"Topic4\", \"Topic5\", \"Topic5\", \"Topic5\", \"Topic5\", \"Topic5\", \"Topic5\", \"Topic5\", \"Topic5\", \"Topic5\", \"Topic5\", \"Topic5\", \"Topic5\", \"Topic5\", \"Topic5\", \"Topic5\", \"Topic5\", \"Topic5\", \"Topic5\", \"Topic5\", \"Topic5\", \"Topic5\", \"Topic5\", \"Topic5\", \"Topic5\", \"Topic5\", \"Topic5\", \"Topic5\", \"Topic5\", \"Topic5\", \"Topic5\", \"Topic5\", \"Topic5\", \"Topic5\", \"Topic5\", \"Topic5\", \"Topic5\", \"Topic5\", \"Topic5\", \"Topic5\", \"Topic5\", \"Topic5\", \"Topic5\", \"Topic5\", \"Topic5\", \"Topic5\", \"Topic5\", \"Topic5\", \"Topic5\", \"Topic5\", \"Topic5\", \"Topic5\", \"Topic5\", \"Topic5\", \"Topic5\", \"Topic5\", \"Topic5\", \"Topic5\", \"Topic5\", \"Topic5\", \"Topic5\", \"Topic5\", \"Topic5\", \"Topic5\", \"Topic5\", \"Topic5\", \"Topic5\", \"Topic5\", \"Topic5\", \"Topic5\", \"Topic5\", \"Topic5\", \"Topic6\", \"Topic6\", \"Topic6\", \"Topic6\", \"Topic6\", \"Topic6\", \"Topic6\", \"Topic6\", \"Topic6\", \"Topic6\", \"Topic6\", \"Topic6\", \"Topic6\", \"Topic6\", \"Topic6\", \"Topic6\", \"Topic6\", \"Topic6\", \"Topic6\", \"Topic6\", \"Topic6\", \"Topic6\", \"Topic6\", \"Topic6\", \"Topic6\", \"Topic6\", \"Topic6\", \"Topic6\", \"Topic6\", \"Topic6\", \"Topic6\", \"Topic6\", \"Topic6\", \"Topic6\", \"Topic6\", \"Topic6\", \"Topic6\", \"Topic6\", \"Topic6\", \"Topic6\", \"Topic6\", \"Topic6\", \"Topic6\", \"Topic6\", \"Topic6\", \"Topic6\", \"Topic6\", \"Topic6\", \"Topic6\", \"Topic6\", \"Topic6\", \"Topic6\", \"Topic6\", \"Topic6\", \"Topic6\", \"Topic6\", \"Topic6\", \"Topic6\", \"Topic7\", \"Topic7\", \"Topic7\", \"Topic7\", \"Topic7\", \"Topic7\", \"Topic7\", \"Topic7\", \"Topic7\", \"Topic7\", \"Topic7\", \"Topic7\", \"Topic7\", \"Topic7\", \"Topic7\", \"Topic7\", \"Topic7\", \"Topic7\", \"Topic7\", \"Topic7\", \"Topic7\", \"Topic7\", \"Topic7\", \"Topic7\", \"Topic7\", \"Topic7\", \"Topic7\", \"Topic7\", \"Topic7\", \"Topic7\", \"Topic7\", \"Topic7\", \"Topic7\", \"Topic7\", \"Topic7\", \"Topic7\", \"Topic7\", \"Topic7\", \"Topic7\", \"Topic7\", \"Topic7\", \"Topic7\", \"Topic7\", \"Topic7\", \"Topic7\", \"Topic7\", \"Topic7\", \"Topic7\", \"Topic7\", \"Topic7\", \"Topic7\", \"Topic7\", \"Topic7\", \"Topic7\", \"Topic7\", \"Topic7\", \"Topic7\", \"Topic7\", \"Topic7\", \"Topic7\", \"Topic7\", \"Topic7\", \"Topic7\", \"Topic7\", \"Topic7\", \"Topic7\", \"Topic7\", \"Topic7\", \"Topic7\", \"Topic7\", \"Topic7\", \"Topic7\", \"Topic7\", \"Topic7\", \"Topic8\", \"Topic8\", \"Topic8\", \"Topic8\", \"Topic8\", \"Topic8\", \"Topic8\", \"Topic8\", \"Topic8\", \"Topic8\", \"Topic8\", \"Topic8\", \"Topic8\", \"Topic8\", \"Topic8\", \"Topic8\", \"Topic8\", \"Topic8\", \"Topic8\", \"Topic8\", \"Topic8\", \"Topic8\", \"Topic8\", \"Topic8\", \"Topic8\", \"Topic8\", \"Topic8\", \"Topic8\", \"Topic8\", \"Topic8\", \"Topic8\", \"Topic8\", \"Topic8\", \"Topic8\", \"Topic8\", \"Topic8\", \"Topic8\", \"Topic8\", \"Topic8\", \"Topic8\", \"Topic8\", \"Topic8\", \"Topic8\", \"Topic8\", \"Topic8\", \"Topic8\", \"Topic8\", \"Topic8\", \"Topic8\", \"Topic8\", \"Topic8\", \"Topic8\", \"Topic8\", \"Topic8\", \"Topic8\", \"Topic8\", \"Topic8\", \"Topic8\", \"Topic8\", \"Topic9\", \"Topic9\", \"Topic9\", \"Topic9\", \"Topic9\", \"Topic9\", \"Topic9\", \"Topic9\", \"Topic9\", \"Topic9\", \"Topic9\", \"Topic9\", \"Topic9\", \"Topic9\", \"Topic9\", \"Topic9\", \"Topic9\", \"Topic9\", \"Topic9\", \"Topic9\", \"Topic9\", \"Topic9\", \"Topic9\", \"Topic9\", \"Topic9\", \"Topic9\", \"Topic9\", \"Topic9\", \"Topic9\", \"Topic9\", \"Topic9\", \"Topic9\", \"Topic9\", \"Topic9\", \"Topic9\", \"Topic9\", \"Topic9\", \"Topic9\", \"Topic9\", \"Topic9\", \"Topic9\", \"Topic9\", \"Topic9\", \"Topic9\", \"Topic9\", \"Topic9\", \"Topic9\", \"Topic9\", \"Topic9\", \"Topic9\", \"Topic9\", \"Topic9\", \"Topic9\", \"Topic9\", \"Topic9\", \"Topic9\", \"Topic9\", \"Topic9\", \"Topic9\", \"Topic9\", \"Topic9\", \"Topic9\", \"Topic10\", \"Topic10\", \"Topic10\", \"Topic10\", \"Topic10\", \"Topic10\", \"Topic10\", \"Topic10\", \"Topic10\", \"Topic10\", \"Topic10\", \"Topic10\", \"Topic10\", \"Topic10\", \"Topic10\", \"Topic10\", \"Topic10\", \"Topic10\", \"Topic10\", \"Topic10\", \"Topic10\", \"Topic10\", \"Topic10\", \"Topic10\", \"Topic10\", \"Topic10\", \"Topic10\", \"Topic10\", \"Topic10\", \"Topic10\", \"Topic10\", \"Topic10\", \"Topic10\", \"Topic10\", \"Topic10\", \"Topic10\", \"Topic10\", \"Topic10\", \"Topic10\", \"Topic10\", \"Topic10\", \"Topic10\", \"Topic10\", \"Topic10\", \"Topic10\", \"Topic10\", \"Topic10\", \"Topic10\", \"Topic10\", \"Topic10\", \"Topic10\", \"Topic10\", \"Topic10\", \"Topic10\", \"Topic10\", \"Topic10\", \"Topic10\", \"Topic10\", \"Topic10\", \"Topic10\", \"Topic11\", \"Topic11\", \"Topic11\", \"Topic11\", \"Topic11\", \"Topic11\", \"Topic11\", \"Topic11\", \"Topic11\", \"Topic11\", \"Topic11\", \"Topic11\", \"Topic11\", \"Topic11\", \"Topic11\", \"Topic11\", \"Topic11\", \"Topic11\", \"Topic11\", \"Topic11\", \"Topic11\", \"Topic11\", \"Topic11\", \"Topic11\", \"Topic11\", \"Topic11\", \"Topic11\", \"Topic11\", \"Topic11\", \"Topic11\", \"Topic11\", \"Topic11\", \"Topic11\", \"Topic11\", \"Topic11\", \"Topic11\", \"Topic11\", \"Topic11\", \"Topic11\", \"Topic11\", \"Topic11\", \"Topic11\", \"Topic11\", \"Topic11\", \"Topic11\", \"Topic11\", \"Topic11\", \"Topic11\", \"Topic11\", \"Topic11\", \"Topic11\", \"Topic11\", \"Topic11\", \"Topic11\", \"Topic11\", \"Topic11\", \"Topic11\", \"Topic11\", \"Topic11\", \"Topic11\", \"Topic11\", \"Topic11\", \"Topic11\", \"Topic11\", \"Topic11\", \"Topic11\", \"Topic11\", \"Topic11\", \"Topic11\", \"Topic12\", \"Topic12\", \"Topic12\", \"Topic12\", \"Topic12\", \"Topic12\", \"Topic12\", \"Topic12\", \"Topic12\", \"Topic12\", \"Topic12\", \"Topic12\", \"Topic12\", \"Topic12\", \"Topic12\", \"Topic12\", \"Topic12\", \"Topic12\", \"Topic12\", \"Topic12\", \"Topic12\", \"Topic12\", \"Topic12\", \"Topic12\", \"Topic12\", \"Topic12\", \"Topic12\", \"Topic12\", \"Topic12\", \"Topic12\", \"Topic12\", \"Topic12\", \"Topic12\", \"Topic12\", \"Topic12\", \"Topic12\", \"Topic12\", \"Topic12\", \"Topic12\", \"Topic12\", \"Topic12\", \"Topic12\", \"Topic12\", \"Topic12\", \"Topic12\", \"Topic12\", \"Topic12\", \"Topic12\", \"Topic12\", \"Topic12\", \"Topic12\", \"Topic12\", \"Topic12\", \"Topic12\", \"Topic12\", \"Topic12\", \"Topic12\", \"Topic12\", \"Topic12\", \"Topic12\", \"Topic12\", \"Topic12\", \"Topic12\", \"Topic12\", \"Topic12\", \"Topic12\", \"Topic13\", \"Topic13\", \"Topic13\", \"Topic13\", \"Topic13\", \"Topic13\", \"Topic13\", \"Topic13\", \"Topic13\", \"Topic13\", \"Topic13\", \"Topic13\", \"Topic13\", \"Topic13\", \"Topic13\", \"Topic13\", \"Topic13\", \"Topic13\", \"Topic13\", \"Topic13\", \"Topic13\", \"Topic13\", \"Topic13\", \"Topic13\", \"Topic13\", \"Topic13\", \"Topic13\", \"Topic13\", \"Topic13\", \"Topic13\", \"Topic13\", \"Topic13\", \"Topic13\", \"Topic13\", \"Topic13\", \"Topic13\", \"Topic13\", \"Topic13\", \"Topic13\", \"Topic13\", \"Topic13\", \"Topic13\", \"Topic13\", \"Topic13\", \"Topic13\", \"Topic13\", \"Topic13\", \"Topic13\", \"Topic13\", \"Topic13\", \"Topic13\", \"Topic13\", \"Topic13\", \"Topic13\", \"Topic13\", \"Topic13\", \"Topic13\", \"Topic13\", \"Topic13\", \"Topic13\", \"Topic13\", \"Topic13\", \"Topic13\", \"Topic13\", \"Topic13\", \"Topic13\", \"Topic13\", \"Topic14\", \"Topic14\", \"Topic14\", \"Topic14\", \"Topic14\", \"Topic14\", \"Topic14\", \"Topic14\", \"Topic14\", \"Topic14\", \"Topic14\", \"Topic14\", \"Topic14\", \"Topic14\", \"Topic14\", \"Topic14\", \"Topic14\", \"Topic14\", \"Topic14\", \"Topic14\", \"Topic14\", \"Topic14\", \"Topic14\", \"Topic14\", \"Topic14\", \"Topic14\", \"Topic14\", \"Topic14\", \"Topic14\", \"Topic14\", \"Topic14\", \"Topic14\", \"Topic14\", \"Topic14\", \"Topic14\", \"Topic14\", \"Topic14\", \"Topic14\", \"Topic14\", \"Topic14\", \"Topic14\", \"Topic14\", \"Topic14\", \"Topic14\", \"Topic14\", \"Topic14\", \"Topic14\", \"Topic14\", \"Topic14\", \"Topic14\", \"Topic14\", \"Topic14\", \"Topic14\", \"Topic14\", \"Topic14\", \"Topic14\", \"Topic14\", \"Topic14\", \"Topic14\", \"Topic14\", \"Topic14\", \"Topic14\", \"Topic14\", \"Topic14\", \"Topic14\", \"Topic14\", \"Topic14\", \"Topic14\", \"Topic14\", \"Topic15\", \"Topic15\", \"Topic15\", \"Topic15\", \"Topic15\", \"Topic15\", \"Topic15\", \"Topic15\", \"Topic15\", \"Topic15\", \"Topic15\", \"Topic15\", \"Topic15\", \"Topic15\", \"Topic15\", \"Topic15\", \"Topic15\", \"Topic15\", \"Topic15\", \"Topic15\", \"Topic15\", \"Topic15\", \"Topic15\", \"Topic15\", \"Topic15\", \"Topic15\", \"Topic15\", \"Topic15\", \"Topic15\", \"Topic15\", \"Topic15\", \"Topic15\", \"Topic15\", \"Topic15\", \"Topic15\", \"Topic15\", \"Topic15\", \"Topic15\", \"Topic15\", \"Topic15\", \"Topic15\", \"Topic15\", \"Topic15\", \"Topic15\", \"Topic15\", \"Topic15\", \"Topic15\", \"Topic15\", \"Topic15\", \"Topic15\", \"Topic15\", \"Topic15\", \"Topic15\", \"Topic15\", \"Topic15\", \"Topic15\", \"Topic15\", \"Topic15\", \"Topic15\"], \"Freq\": [646.0, 674.0, 1337.0, 874.0, 1549.0, 553.0, 421.0, 1443.0, 606.0, 617.0, 319.0, 379.0, 1151.0, 892.0, 940.0, 408.0, 669.0, 323.0, 777.0, 529.0, 1326.0, 628.0, 483.0, 957.0, 250.0, 584.0, 927.0, 168.0, 1060.0, 644.0, 31.176395416259766, 59.93168258666992, 223.6045684814453, 205.7932586669922, 71.19702911376953, 27.748252868652344, 66.18885040283203, 52.48627471923828, 10.258298873901367, 9.87186050415039, 71.44205474853516, 9.561275482177734, 10.870129585266113, 10.067170143127441, 9.07312297821045, 14.485095024108887, 8.292723655700684, 16.646024703979492, 11.885140419006348, 8.595020294189453, 14.25637149810791, 21.0873966217041, 12.72962760925293, 11.943965911865234, 15.917991638183594, 13.22619342803955, 19.952486038208008, 9.427985191345215, 8.659869194030762, 62.21324157714844, 13.398417472839355, 157.54025268554688, 74.90203857421875, 111.24923706054688, 21.64422035217285, 42.21988296508789, 45.8602294921875, 110.61250305175781, 56.647865295410156, 43.29698181152344, 84.05085754394531, 137.90704345703125, 77.71919250488281, 112.65127563476562, 50.1688117980957, 310.9198913574219, 177.82315063476562, 127.07388305664062, 146.00669860839844, 101.85700988769531, 250.3895263671875, 161.82264709472656, 222.55123901367188, 244.69786071777344, 126.0664291381836, 176.96514892578125, 121.91914367675781, 136.89208984375, 136.7338409423828, 193.11085510253906, 195.44117736816406, 130.50465393066406, 136.82220458984375, 128.39036560058594, 143.503173828125, 119.97499084472656, 116.34342956542969, 130.54855346679688, 122.64762115478516, 125.30111694335938, 120.20419311523438, 117.25788879394531, 204.4403533935547, 17.176607131958008, 11.320036888122559, 14.712028503417969, 13.430459976196289, 23.246145248413086, 10.505255699157715, 20.96796989440918, 63.03879928588867, 12.418042182922363, 69.32731628417969, 8.307548522949219, 110.58795928955078, 8.945261001586914, 10.178417205810547, 9.372591018676758, 13.950704574584961, 10.19818115234375, 8.57896614074707, 8.505858421325684, 10.4658842086792, 8.20556354522705, 18.934478759765625, 18.15150260925293, 18.842247009277344, 394.2595520019531, 10.2076997756958, 7.436255931854248, 8.705263137817383, 27.22925567626953, 24.943439483642578, 19.139738082885742, 181.10830688476562, 136.26724243164062, 377.4088439941406, 50.026737213134766, 269.8495178222656, 114.41093444824219, 34.96174240112305, 74.44286346435547, 60.67301940917969, 59.95261764526367, 140.50457763671875, 96.45921325683594, 146.0773162841797, 102.3001480102539, 98.51480102539062, 104.7445068359375, 47.98430633544922, 94.04456329345703, 235.66575622558594, 76.88605499267578, 90.05648803710938, 176.7401123046875, 162.35321044921875, 114.82685852050781, 83.9576416015625, 175.1680450439453, 174.68968200683594, 131.83970642089844, 195.34266662597656, 137.22222900390625, 136.70657348632812, 146.919921875, 213.693115234375, 145.51161193847656, 188.81625366210938, 127.92556762695312, 125.2419662475586, 135.4468231201172, 145.18055725097656, 140.1122589111328, 136.22906494140625, 152.2414093017578, 136.28848266601562, 139.50250244140625, 84.08625030517578, 377.0037841796875, 30.950925827026367, 60.05000305175781, 377.6092224121094, 50.16835403442383, 67.45574188232422, 43.305908203125, 18.040775299072266, 76.55511474609375, 47.915191650390625, 25.29364013671875, 294.13885498046875, 30.854114532470703, 811.2363891601562, 55.819114685058594, 141.25514221191406, 16.507558822631836, 405.5009460449219, 29.284181594848633, 480.978515625, 34.61969757080078, 18.522563934326172, 141.359375, 196.83355712890625, 31.710559844970703, 42.6314811706543, 104.7552490234375, 18.918371200561523, 25.69951057434082, 71.98767852783203, 185.48483276367188, 87.13085174560547, 187.50079345703125, 229.44680786132812, 387.0907897949219, 633.7899780273438, 253.94253540039062, 401.09716796875, 233.22645568847656, 204.28565979003906, 363.750732421875, 275.0585021972656, 246.8699188232422, 168.01248168945312, 228.67466735839844, 192.8877410888672, 166.34068298339844, 201.19891357421875, 208.19534301757812, 137.44915771484375, 161.62188720703125, 178.77996826171875, 197.37550354003906, 168.53018188476562, 156.43658447265625, 89.51930236816406, 61.00950241088867, 98.7491455078125, 32.15088653564453, 27.06619644165039, 28.96967315673828, 355.7543640136719, 28.905439376831055, 20.09020233154297, 20.097505569458008, 26.69675636291504, 23.81660270690918, 17.08916473388672, 19.565786361694336, 129.69287109375, 121.685791015625, 119.88147735595703, 26.527664184570312, 89.38421630859375, 20.6872501373291, 11.950056076049805, 35.09834671020508, 33.19868087768555, 13.275894165039062, 11.554901123046875, 11.324193000793457, 12.489372253417969, 8.894913673400879, 9.570003509521484, 16.034509658813477, 41.4090461730957, 33.06199264526367, 314.076416015625, 102.6639404296875, 79.6876220703125, 98.16604614257812, 318.63580322265625, 36.04679870605469, 131.10020446777344, 169.33425903320312, 172.81402587890625, 145.07183837890625, 206.10252380371094, 259.193603515625, 147.46316528320312, 179.4243927001953, 111.91533660888672, 168.05230712890625, 187.74893188476562, 124.0479507446289, 127.7198257446289, 131.6085968017578, 136.84783935546875, 78.85791778564453, 124.4834213256836, 121.48677825927734, 136.07615661621094, 145.8178253173828, 154.57862854003906, 159.98309326171875, 125.01628875732422, 135.3097686767578, 119.24840545654297, 122.50807189941406, 107.7523422241211, 27.665565490722656, 75.48150634765625, 15.74575424194336, 101.80928802490234, 20.36783218383789, 36.203365325927734, 13.249752044677734, 13.126448631286621, 9.724625587463379, 14.381648063659668, 92.67615509033203, 24.611270904541016, 42.308170318603516, 20.85871124267578, 12.262933731079102, 8.275413513183594, 36.15570068359375, 36.85000991821289, 11.754837036132812, 82.23042297363281, 10.675458908081055, 9.219869613647461, 24.62143898010254, 9.228611946105957, 8.51413345336914, 26.979562759399414, 16.3808650970459, 26.277894973754883, 27.15247917175293, 24.444494247436523, 43.43300247192383, 165.8925323486328, 134.1805877685547, 85.22187042236328, 211.78167724609375, 65.44796752929688, 95.36561584472656, 85.98298645019531, 64.59796142578125, 65.16696166992188, 47.47399139404297, 54.20471954345703, 47.7940559387207, 69.735595703125, 149.34097290039062, 36.51372146606445, 92.95655822753906, 44.744476318359375, 38.651363372802734, 144.6148681640625, 61.81159210205078, 76.9312744140625, 164.56167602539062, 133.88259887695312, 81.8740005493164, 111.60655212402344, 130.00994873046875, 132.91754150390625, 117.1309814453125, 100.55564880371094, 82.28900909423828, 76.34104919433594, 85.32740783691406, 88.80149841308594, 81.39476776123047, 82.27413940429688, 82.27222442626953, 82.33106994628906, 78.69557189941406, 76.97526550292969, 302.2115783691406, 402.66796875, 94.53926086425781, 71.21969604492188, 187.01182556152344, 39.71294403076172, 83.85076141357422, 14.023971557617188, 14.018378257751465, 34.635459899902344, 65.65226745605469, 575.0731201171875, 32.923622131347656, 150.7774200439453, 281.4635009765625, 50.27044677734375, 21.618698120117188, 80.06562042236328, 63.70982360839844, 10.068655967712402, 33.23030090332031, 26.056560516357422, 26.450817108154297, 20.51219367980957, 39.67734146118164, 10.337705612182617, 9.63580322265625, 16.03981590270996, 16.627349853515625, 80.87651062011719, 105.32738494873047, 37.214500427246094, 291.2728271484375, 51.830833435058594, 76.05733489990234, 159.3847198486328, 114.02668762207031, 62.674983978271484, 68.50719451904297, 232.13275146484375, 192.19586181640625, 112.4660415649414, 148.74742126464844, 116.42972564697266, 165.7293701171875, 114.76771545410156, 116.40152740478516, 131.9434814453125, 122.6982192993164, 92.8604736328125, 84.3741226196289, 91.8677749633789, 101.56982421875, 92.28097534179688, 90.41556549072266, 91.34223175048828, 91.88712310791016, 84.21631622314453, 28.30404281616211, 19.34198760986328, 17.19346809387207, 28.00824737548828, 30.961801528930664, 26.750425338745117, 12.940064430236816, 15.53940486907959, 9.269437789916992, 7.262264251708984, 23.1727352142334, 10.452716827392578, 15.544377326965332, 23.885250091552734, 9.432336807250977, 8.922712326049805, 6.356666088104248, 5.881058216094971, 5.81015157699585, 6.392094612121582, 7.991213798522949, 5.801864147186279, 7.353964805603027, 6.737679481506348, 7.743030071258545, 7.757573127746582, 5.963286399841309, 11.718162536621094, 13.338651657104492, 5.9125285148620605, 17.441747665405273, 11.715933799743652, 66.20376586914062, 11.425997734069824, 22.57503890991211, 17.94211769104004, 37.02252960205078, 19.940784454345703, 35.974361419677734, 98.849853515625, 49.459129333496094, 63.68417739868164, 62.126644134521484, 20.863685607910156, 46.429901123046875, 107.92782592773438, 19.710573196411133, 43.71466827392578, 93.51495361328125, 49.43716812133789, 124.72582244873047, 74.78334045410156, 71.0380859375, 80.49710083007812, 30.870344161987305, 67.15983581542969, 67.81205749511719, 48.18214416503906, 56.02130889892578, 85.57325744628906, 60.34943771362305, 60.01338577270508, 60.683441162109375, 68.01183319091797, 64.1474609375, 56.92536926269531, 67.43751525878906, 58.191993713378906, 62.038169860839844, 45.722900390625, 54.60884475708008, 49.7375602722168, 49.45037078857422, 47.473655700683594, 28.8687801361084, 14.784195899963379, 35.73020553588867, 14.730501174926758, 42.191097259521484, 112.18678283691406, 37.5683479309082, 211.48190307617188, 146.59397888183594, 58.04648208618164, 13.762908935546875, 7.396454334259033, 9.055497169494629, 16.599868774414062, 170.35899353027344, 7.701179504394531, 6.685245037078857, 5.011590003967285, 284.52520751953125, 17.367258071899414, 4.515243053436279, 5.1481404304504395, 85.2849349975586, 3.827535390853882, 6.35079288482666, 3.9750945568084717, 7.589098930358887, 8.20447826385498, 4.132523536682129, 9.103317260742188, 154.34893798828125, 13.015005111694336, 116.96572875976562, 91.91446685791016, 84.76290893554688, 20.065034866333008, 26.68116569519043, 10.131382942199707, 19.445894241333008, 14.29945182800293, 55.47650909423828, 35.199462890625, 23.41565704345703, 20.085092544555664, 68.25196075439453, 40.13218307495117, 23.725507736206055, 45.8029670715332, 49.70212936401367, 40.07218933105469, 36.0384521484375, 30.52083396911621, 34.6174430847168, 31.105737686157227, 28.52728271484375, 31.16910171508789, 30.54649543762207, 32.682647705078125, 28.66644859313965, 36.096221923828125, 60.59816360473633, 37.134613037109375, 13.934473991394043, 7.659873008728027, 10.359419822692871, 7.894497394561768, 9.442237854003906, 7.704921722412109, 7.476047992706299, 16.094762802124023, 4.972767353057861, 12.557597160339355, 12.212170600891113, 5.707708835601807, 36.499122619628906, 4.896539211273193, 15.268632888793945, 10.202546119689941, 4.474595546722412, 68.07435607910156, 49.5447998046875, 3.872290849685669, 4.983212947845459, 4.591737747192383, 4.866194248199463, 3.6173794269561768, 3.7789127826690674, 6.149326324462891, 5.172883033752441, 7.326952934265137, 11.167140007019043, 24.844257354736328, 44.80814743041992, 71.12181091308594, 46.95323181152344, 24.718708038330078, 13.332399368286133, 82.76741027832031, 79.17034912109375, 38.037139892578125, 43.546661376953125, 18.385669708251953, 35.36663055419922, 28.508527755737305, 20.194257736206055, 32.275028228759766, 26.011350631713867, 21.419410705566406, 23.78300666809082, 30.980451583862305, 27.20604133605957, 29.444746017456055, 30.953529357910156, 24.299917221069336, 30.01579475402832, 24.838350296020508, 22.859174728393555, 23.205495834350586, 22.471572875976562, 22.898090362548828, 23.179466247558594, 5.287611484527588, 14.782662391662598, 8.916332244873047, 4.13453483581543, 62.5728645324707, 3.464653491973877, 3.8988921642303467, 39.773372650146484, 15.995573997497559, 3.54799747467041, 22.732772827148438, 12.884095191955566, 3.5070197582244873, 3.665278434753418, 2.695958375930786, 5.307842254638672, 3.739712715148926, 2.8688249588012695, 2.7878003120422363, 22.29287338256836, 10.72672176361084, 3.1506335735321045, 18.970203399658203, 1.958609938621521, 1.7959082126617432, 4.066797256469727, 1.771506905555725, 2.2353498935699463, 2.720489263534546, 2.4979522228240967, 6.150092601776123, 7.925137996673584, 20.470237731933594, 62.710018157958984, 35.62195587158203, 56.76176452636719, 26.514116287231445, 11.449028015136719, 9.174531936645508, 31.366905212402344, 5.763576984405518, 26.093708038330078, 38.78548049926758, 17.152008056640625, 14.504857063293457, 11.437111854553223, 12.74236011505127, 8.905367851257324, 9.657217979431152, 16.584869384765625, 15.163043022155762, 15.635509490966797, 16.479787826538086, 13.41966438293457, 14.165607452392578, 14.62784481048584, 13.515332221984863, 11.578969955444336, 11.457939147949219, 11.452180862426758, 2.9119327068328857, 2.388948440551758, 3.607975721359253, 2.16201114654541, 1.985188364982605, 1.5432865619659424, 1.4865089654922485, 1.537555456161499, 3.5528101921081543, 2.2137577533721924, 1.4088432788848877, 2.8779773712158203, 3.6364526748657227, 2.139244556427002, 1.5406494140625, 1.4074925184249878, 1.5509916543960571, 1.4364500045776367, 1.4013614654541016, 1.5177727937698364, 1.5979945659637451, 1.3399196863174438, 2.417961835861206, 2.299013137817383, 1.7099874019622803, 2.287696599960327, 1.5575112104415894, 3.074458360671997, 3.133843183517456, 2.2249622344970703, 4.285405158996582, 7.9255690574646, 5.011223793029785, 5.368182182312012, 4.7275800704956055, 6.108120441436768, 2.1027305126190186, 10.744646072387695, 4.331232070922852, 4.121326923370361, 2.778749465942383, 4.070666313171387, 19.39728546142578, 5.5460124015808105, 6.383393287658691, 12.77503490447998, 14.379554748535156, 17.24217987060547, 12.409329414367676, 5.0150933265686035, 11.941996574401855, 9.088885307312012, 6.063940048217773, 6.957640171051025, 7.555549621582031, 8.466691970825195, 7.202667236328125, 5.811321258544922, 7.405561447143555, 6.9632978439331055, 7.911274433135986, 5.736449718475342, 5.7303290367126465, 5.466921329498291, 6.238062858581543, 6.247920989990234, 6.163215160369873, 5.157174587249756, 5.236752986907959, 8.305949211120605, 8.060724258422852, 4.943211555480957, 3.6735634803771973, 1.9330062866210938, 1.9555754661560059, 2.2271502017974854, 1.766230821609497, 4.409355640411377, 2.9710006713867188, 21.89666748046875, 2.2369725704193115, 2.2690343856811523, 1.4580978155136108, 2.259880304336548, 1.4697030782699585, 1.9325506687164307, 1.5116279125213623, 2.132746696472168, 1.5215288400650024, 1.5055279731750488, 1.2560620307922363, 1.5256319046020508, 1.4208210706710815, 1.7489992380142212, 1.5597814321517944, 5.210127830505371, 2.551752805709839, 1.506734848022461, 1.6779927015304565, 7.749642372131348, 9.946820259094238, 4.526179790496826, 14.5545072555542, 2.4177474975585938, 12.113651275634766, 3.7669012546539307, 5.746089935302734, 2.9622597694396973, 5.119027137756348, 9.08145523071289, 6.167330265045166, 12.59227466583252, 7.544370651245117, 13.651716232299805, 8.97754192352295, 4.785820484161377, 8.778124809265137, 5.650970935821533, 7.31912899017334, 5.332815647125244, 9.146034240722656, 9.165108680725098, 7.856456756591797, 6.586599349975586, 7.858133792877197, 5.879419803619385, 6.505889892578125, 7.394636631011963, 7.860025882720947, 7.641437530517578, 6.4673171043396, 6.048376083374023, 6.148402690887451, 6.057801723480225, 6.203327655792236, 6.558855056762695, 6.589900016784668, 2.8873531818389893, 3.4944493770599365, 5.221654415130615, 3.048304319381714, 1.9846738576889038, 2.291069507598877, 6.41821813583374, 2.2259862422943115, 1.8203349113464355, 2.940044403076172, 1.6768912076950073, 2.0907771587371826, 2.543818712234497, 1.624551773071289, 1.604559063911438, 1.4930018186569214, 2.0738964080810547, 3.1664910316467285, 4.718034744262695, 1.49419367313385, 1.6170169115066528, 2.568035364151001, 1.5085663795471191, 1.3693604469299316, 3.6400394439697266, 1.3597677946090698, 1.3555974960327148, 1.5030404329299927, 2.818551540374756, 2.911529541015625, 1.9644352197647095, 2.4427592754364014, 3.4602739810943604, 5.360675811767578, 7.391531467437744, 5.094592571258545, 5.469769477844238, 2.2119293212890625, 3.0252206325531006, 2.338838815689087, 9.294998168945312, 15.327302932739258, 10.571989059448242, 6.9799346923828125, 14.764825820922852, 9.343253135681152, 4.250927925109863, 9.175819396972656, 11.664156913757324, 10.554363250732422, 7.993163108825684, 6.51656436920166, 4.695697784423828, 7.635556221008301, 7.769881725311279, 4.943825721740723, 6.4129180908203125, 6.163304328918457, 6.157773017883301, 5.213813781738281, 5.646509170532227, 5.099696636199951, 5.443004131317139, 5.03845739364624, 5.026529788970947, 1.4174896478652954, 2.7626514434814453, 1.4287878274917603, 1.4205148220062256, 1.4368404150009155, 1.4479180574417114, 1.4257346391677856, 1.4278054237365723, 1.4194713830947876, 1.436287522315979, 1.4161945581436157, 2.1317994594573975, 3.3050806522369385, 1.434123158454895, 0.7583458423614502, 1.425018310546875, 0.7433254718780518, 0.7318757772445679, 0.7440043091773987, 0.7337331175804138, 0.7132915258407593, 0.7429314851760864, 11.433476448059082, 0.7143442034721375, 0.7395084500312805, 0.7411008477210999, 0.7430182695388794, 0.7417935132980347, 0.7432081699371338, 0.740351676940918, 4.964139938354492, 1.4353053569793701, 2.1104073524475098, 4.163265705108643, 2.108477830886841, 2.1272077560424805, 1.434280276298523, 1.4366919994354248, 2.7628939151763916, 2.458048105239868, 1.4222931861877441, 1.6127318143844604, 2.0958852767944336, 1.6328006982803345, 6.766336441040039, 3.70222806930542, 3.731105327606201, 3.594628095626831, 6.895298004150391, 4.19071626663208, 3.5417680740356445, 4.068231582641602, 3.5962681770324707, 4.593735218048096, 3.661356210708618, 3.7839834690093994, 2.1315290927886963, 3.4696404933929443, 3.3575592041015625, 2.3334763050079346, 2.8559465408325195, 3.616377353668213, 2.9133591651916504, 2.966820001602173, 3.128021478652954, 2.9605324268341064, 2.2781898975372314, 2.3182687759399414, 2.287202835083008, 1.398809552192688, 1.3356595039367676, 0.47155189514160156, 1.1042125225067139, 0.48839452862739563, 0.42591720819473267, 0.4644063413143158, 0.3832339346408844, 0.9150494337081909, 0.3735297620296478, 0.458065390586853, 0.843162477016449, 0.45152580738067627, 0.4657336473464966, 0.8892749547958374, 0.470500648021698, 0.4052257239818573, 2.8678793907165527, 0.4665684401988983, 0.42082685232162476, 0.4339159429073334, 0.3290359079837799, 0.33353912830352783, 0.42970654368400574, 0.46668556332588196, 0.46067991852760315, 0.4655683934688568, 0.44163814187049866, 0.27390727400779724, 0.3695242702960968, 0.8699617385864258, 0.9213316440582275, 1.313520908355713, 0.8013922572135925, 0.9047383069992065, 0.9184272885322571, 0.7746260166168213, 2.889766216278076, 0.8395488858222961, 0.8454186320304871, 0.7809963226318359, 1.5183500051498413, 1.0525763034820557, 0.6510248780250549, 0.8656319975852966, 0.6857165098190308, 0.8320282101631165, 1.1291708946228027, 1.2001885175704956, 0.7340040802955627, 0.820703387260437, 0.7460271120071411, 0.7231775522232056, 1.0265352725982666, 0.7421087026596069, 0.7903016805648804, 0.8633493781089783, 0.8329905867576599, 0.7790470123291016], \"Term\": [\"elizabeth\", \"elinor\", \"like\", \"emma\", \"miss\", \"marianne\", \"darcy\", \"know\", \"sir\", \"lady\", \"edward\", \"lucy\", \"thought\", \"room\", \"long\", \"madame\", \"mother\", \"bennet\", \"saw\", \"harriet\", \"think\", \"john\", \"old\", \"jane\", \"dashwood\", \"sister\", \"soon\", \"papa\", \"day\", \"look\", \"burns\", \"helen\", \"bretton\", \"graham\", \"polly\", \"godmother\", \"bassompierre\", \"snowe\", \"incapacity\", \"temperament\", \"paulina\", \"sarcasm\", \"mellow\", \"ranks\", \"france\", \"ship\", \"moods\", \"crecy\", \"religious\", \"brave\", \"terrasse\", \"burden\", \"promptly\", \"substitute\", \"homage\", \"wont\", \"hamal\", \"englishman\", \"energies\", \"fanshawe\", \"concert\", \"dr\", \"ginevra\", \"papa\", \"count\", \"mamma\", \"temple\", \"school\", \"emanuel\", \"position\", \"liked\", \"lucy\", \"paul\", \"girl\", \"desk\", \"like\", \"eyes\", \"eye\", \"face\", \"child\", \"thought\", \"hand\", \"day\", \"know\", \"home\", \"long\", \"took\", \"john\", \"look\", \"think\", \"miss\", \"life\", \"looked\", \"night\", \"man\", \"half\", \"knew\", \"room\", \"way\", \"come\", \"mother\", \"came\", \"willoughby\", \"allenham\", \"unwillingness\", \"combe\", \"impropriety\", \"cleveland\", \"relating\", \"objections\", \"palmer\", \"lessen\", \"barton\", \"goodwill\", \"brandon\", \"unhappiness\", \"complaints\", \"arisen\", \"recollecting\", \"prevail\", \"openness\", \"avoiding\", \"liberality\", \"benefited\", \"removal\", \"censure\", \"devonshire\", \"marianne\", \"promote\", \"speedy\", \"unwell\", \"unfortunate\", \"margaret\", \"attempted\", \"colonel\", \"jennings\", \"elinor\", \"cottage\", \"sister\", \"spirits\", \"immediate\", \"behaviour\", \"engagement\", \"conduct\", \"feelings\", \"town\", \"letter\", \"affection\", \"dashwood\", \"happiness\", \"regret\", \"acquaintance\", \"soon\", \"regard\", \"immediately\", \"house\", \"mother\", \"family\", \"possible\", \"thing\", \"great\", \"hope\", \"day\", \"moment\", \"mind\", \"felt\", \"know\", \"away\", \"think\", \"left\", \"morning\", \"heart\", \"shall\", \"long\", \"room\", \"miss\", \"man\", \"thought\", \"martin\", \"elton\", \"maple\", \"cole\", \"knightley\", \"campbell\", \"isabella\", \"dixon\", \"weymouth\", \"perry\", \"taylor\", \"campbells\", \"woodhouse\", \"surprized\", \"emma\", \"goddard\", \"bates\", \"vicarage\", \"weston\", \"abbey\", \"harriet\", \"surprize\", \"connexion\", \"hartfield\", \"churchill\", \"enscombe\", \"donwell\", \"highbury\", \"eltons\", \"chuse\", \"randalls\", \"frank\", \"smith\", \"body\", \"fairfax\", \"thing\", \"miss\", \"dear\", \"think\", \"sure\", \"oh\", \"know\", \"jane\", \"great\", \"friend\", \"man\", \"young\", \"father\", \"shall\", \"thought\", \"poor\", \"better\", \"soon\", \"like\", \"come\", \"day\", \"ingram\", \"mason\", \"thornfield\", \"poole\", \"leah\", \"dent\", \"rochester\", \"eshton\", \"lynn\", \"janet\", \"sophie\", \"pilot\", \"storey\", \"missis\", \"adele\", \"bessie\", \"reed\", \"millcote\", \"eyre\", \"hay\", \"associations\", \"gateshead\", \"gallery\", \"traveller\", \"frock\", \"frantic\", \"embrace\", \"ire\", \"porter\", \"india\", \"candle\", \"curtain\", \"sir\", \"hall\", \"ll\", \"master\", \"jane\", \"horse\", \"fairfax\", \"yes\", \"night\", \"face\", \"room\", \"like\", \"heard\", \"shall\", \"asked\", \"come\", \"thought\", \"door\", \"love\", \"eyes\", \"looked\", \"god\", \"hand\", \"life\", \"saw\", \"long\", \"think\", \"miss\", \"heart\", \"know\", \"came\", \"day\", \"pelet\", \"zoraide\", \"reuter\", \"maitresse\", \"mdlle\", \"comme\", \"il\", \"belgium\", \"demoiselles\", \"avez\", \"foliage\", \"frances\", \"qu\", \"henri\", \"elle\", \"oui\", \"silvery\", \"directress\", \"bien\", \"screened\", \"est\", \"burned\", \"rows\", \"classes\", \"fait\", \"flemish\", \"les\", \"au\", \"brussels\", \"une\", \"des\", \"que\", \"monsieur\", \"english\", \"hunsden\", \"madame\", \"trees\", \"garden\", \"pupils\", \"vous\", \"mademoiselle\", \"et\", \"green\", \"flowers\", \"french\", \"door\", \"brown\", \"large\", \"doors\", \"je\", \"house\", \"beck\", \"air\", \"like\", \"long\", \"stood\", \"looked\", \"day\", \"thought\", \"room\", \"hand\", \"round\", \"light\", \"old\", \"came\", \"took\", \"knew\", \"night\", \"eyes\", \"having\", \"evening\", \"bingley\", \"darcy\", \"lizzy\", \"netherfield\", \"wickham\", \"hertfordshire\", \"longbourn\", \"lucases\", \"kent\", \"fitzwilliam\", \"lucas\", \"elizabeth\", \"hurst\", \"lydia\", \"bennet\", \"meryton\", \"derbyshire\", \"gardiner\", \"kitty\", \"judgement\", \"forster\", \"phillips\", \"officers\", \"regiment\", \"pemberley\", \"acquaintances\", \"wednesday\", \"hunsford\", \"caroline\", \"catherine\", \"collins\", \"everybody\", \"jane\", \"charlotte\", \"aunt\", \"sister\", \"family\", \"uncle\", \"sisters\", \"miss\", \"know\", \"father\", \"soon\", \"dear\", \"think\", \"lady\", \"mother\", \"shall\", \"man\", \"friend\", \"replied\", \"hope\", \"room\", \"sure\", \"young\", \"great\", \"day\", \"away\", \"marie\", \"thy\", \"garret\", \"rosine\", \"nun\", \"priest\", \"turf\", \"seal\", \"holy\", \"obedience\", \"silas\", \"waters\", \"glory\", \"pere\", \"creed\", \"core\", \"benignant\", \"league\", \"dose\", \"thirst\", \"belle\", \"underwent\", \"penetrate\", \"torment\", \"illusion\", \"thou\", \"sparkle\", \"rome\", \"carre\", \"sheep\", \"dormitory\", \"poured\", \"paul\", \"longing\", \"faith\", \"impulse\", \"emanuel\", \"doctor\", \"heaven\", \"madame\", \"beck\", \"god\", \"dr\", \"angel\", \"sweet\", \"heart\", \"scarce\", \"deep\", \"night\", \"strange\", \"like\", \"hand\", \"life\", \"saw\", \"human\", \"john\", \"eyes\", \"light\", \"hour\", \"thought\", \"knew\", \"love\", \"felt\", \"long\", \"come\", \"look\", \"know\", \"man\", \"think\", \"stood\", \"day\", \"came\", \"shall\", \"half\", \"steeles\", \"exeter\", \"steele\", \"harley\", \"fanny\", \"ferrars\", \"norland\", \"edward\", \"dashwood\", \"middleton\", \"smart\", \"continuance\", \"middletons\", \"dashwoods\", \"lucy\", \"berkeley\", \"monstrous\", \"maids\", \"elinor\", \"morton\", \"buildings\", \"symptom\", \"jennings\", \"sprung\", \"assertion\", \"fettered\", \"opposition\", \"sending\", \"shyness\", \"delaford\", \"marianne\", \"cousins\", \"mother\", \"john\", \"sister\", \"law\", \"brandon\", \"margaret\", \"pounds\", \"eldest\", \"lady\", \"brother\", \"street\", \"ma\", \"miss\", \"sure\", \"sisters\", \"soon\", \"think\", \"thing\", \"heart\", \"gave\", \"saw\", \"sir\", \"kind\", \"young\", \"come\", \"know\", \"like\", \"hannah\", \"diana\", \"rivers\", \"clerk\", \"marsh\", \"uncles\", \"wages\", \"orphan\", \"tradesman\", \"beggar\", \"clergyman\", \"toil\", \"ye\", \"oliver\", \"balm\", \"crimsworth\", \"brass\", \"morton\", \"moor\", \"dismiss\", \"st\", \"mary\", \"greek\", \"vocation\", \"knit\", \"milk\", \"permanently\", \"communicating\", \"theirs\", \"souls\", \"th\", \"ve\", \"hunsden\", \"read\", \"john\", \"letter\", \"book\", \"aid\", \"like\", \"know\", \"tell\", \"house\", \"ll\", \"yes\", \"eye\", \"sisters\", \"looked\", \"asked\", \"work\", \"near\", \"come\", \"moment\", \"saw\", \"shall\", \"home\", \"think\", \"hand\", \"let\", \"night\", \"took\", \"felt\", \"day\", \"condescension\", \"bourgh\", \"maria\", \"patroness\", \"collins\", \"entailed\", \"employments\", \"catherine\", \"ladyship\", \"protested\", \"william\", \"rosings\", \"furnish\", \"breeding\", \"speeches\", \"hunsford\", \"curled\", \"olive\", \"nieces\", \"charlotte\", \"younger\", \"amends\", \"daughters\", \"backwards\", \"accidental\", \"matrimony\", \"reckoned\", \"incumbent\", \"sickly\", \"hospitality\", \"humble\", \"elegance\", \"girls\", \"lady\", \"bennet\", \"sir\", \"ladies\", \"cousin\", \"temple\", \"elizabeth\", \"compliments\", \"young\", \"miss\", \"family\", \"daughter\", \"dinner\", \"visit\", \"park\", \"garden\", \"day\", \"great\", \"soon\", \"think\", \"dear\", \"house\", \"room\", \"man\", \"way\", \"father\", \"long\", \"reluctant\", \"wing\", \"elderly\", \"contemplation\", \"annum\", \"viz\", \"immense\", \"landing\", \"burnt\", \"wardrobe\", \"external\", \"requested\", \"tables\", \"garments\", \"conscientious\", \"abused\", \"definite\", \"dimly\", \"inspire\", \"banks\", \"teased\", \"trite\", \"fourth\", \"upper\", \"bible\", \"cholmondeley\", \"bodily\", \"sunday\", \"mais\", \"represented\", \"shire\", \"pupil\", \"schoolroom\", \"teacher\", \"middle\", \"charlotte\", \"stuff\", \"monsieur\", \"addressed\", \"lessons\", \"prayers\", \"candle\", \"long\", \"vous\", \"girls\", \"lady\", \"room\", \"miss\", \"saw\", \"dressed\", \"day\", \"having\", \"silence\", \"told\", \"left\", \"great\", \"took\", \"sense\", \"house\", \"looked\", \"like\", \"began\", \"called\", \"appeared\", \"hand\", \"eyes\", \"soon\", \"ought\", \"evening\", \"victor\", \"apples\", \"tyrant\", \"baked\", \"attained\", \"sounding\", \"greek\", \"obstacles\", \"eating\", \"meat\", \"hunsden\", \"delusion\", \"grammar\", \"affirmative\", \"sold\", \"quarrelled\", \"greatness\", \"femme\", \"apple\", \"piercing\", \"kinsman\", \"war\", \"merited\", \"dove\", \"earned\", \"solicitous\", \"teach\", \"owe\", \"interposed\", \"lad\", \"william\", \"frances\", \"lace\", \"monsieur\", \"method\", \"english\", \"henri\", \"knowledge\", \"deserved\", \"crimsworth\", \"suppose\", \"lips\", \"come\", \"words\", \"know\", \"tell\", \"mademoiselle\", \"yes\", \"master\", \"speak\", \"paul\", \"soon\", \"shall\", \"half\", \"sort\", \"mother\", \"work\", \"friend\", \"man\", \"like\", \"thought\", \"oh\", \"word\", \"till\", \"thing\", \"think\", \"fun\", \"cholmondeley\", \"audience\", \"presents\", \"hamal\", \"benches\", \"brains\", \"splendour\", \"les\", \"nicely\", \"mix\", \"stage\", \"suis\", \"dieu\", \"accomplishments\", \"displayed\", \"giddy\", \"boxes\", \"repaired\", \"caroline\", \"mon\", \"classic\", \"starved\", \"bought\", \"orange\", \"horseback\", \"satin\", \"presentation\", \"sorts\", \"heiress\", \"moi\", \"visiting\", \"youthful\", \"heads\", \"examination\", \"mamma\", \"ginevra\", \"je\", \"fanshawe\", \"ugly\", \"ne\", \"queen\", \"madame\", \"like\", \"night\", \"married\", \"know\", \"dear\", \"et\", \"look\", \"think\", \"day\", \"went\", \"got\", \"laugh\", \"away\", \"saw\", \"uncle\", \"believe\", \"far\", \"mind\", \"colonel\", \"looked\", \"going\", \"come\", \"young\", \"shall\", \"naughty\", \"basket\", \"costly\", \"prejudice\", \"ruddy\", \"viewed\", \"costume\", \"ivory\", \"lad\", \"thunder\", \"tremble\", \"salon\", \"fruit\", \"writer\", \"courteous\", \"lightning\", \"elf\", \"worshipped\", \"adorned\", \"shuddered\", \"pack\", \"landing\", \"papa\", \"livid\", \"male\", \"cloth\", \"magic\", \"melted\", \"aged\", \"pot\", \"polly\", \"spell\", \"treasure\", \"red\", \"dignity\", \"blush\", \"substance\", \"details\", \"won\", \"passage\", \"apparent\", \"calls\", \"neck\", \"aye\", \"old\", \"opened\", \"hands\", \"graham\", \"like\", \"letter\", \"large\", \"madame\", \"stood\", \"room\", \"tell\", \"saw\", \"post\", \"love\", \"father\", \"wrong\", \"turned\", \"thought\", \"face\", \"look\", \"long\", \"eyes\", \"truth\", \"suppose\", \"heart\", \"stream\", \"woods\", \"triumphant\", \"hunsford\", \"adorned\", \"adieu\", \"range\", \"pausing\", \"river\", \"pack\", \"bidding\", \"valley\", \"recent\", \"fish\", \"parts\", \"bordered\", \"ascended\", \"gardiner\", \"whilst\", \"attentively\", \"sly\", \"condescension\", \"consternation\", \"wander\", \"sprang\", \"sheltered\", \"edge\", \"repeating\", \"irksome\", \"firmly\", \"slow\", \"crossed\", \"civility\", \"humble\", \"longed\", \"opposite\", \"companions\", \"elizabeth\", \"spot\", \"amidst\", \"pemberley\", \"walk\", \"scene\", \"continually\", \"water\", \"astonishment\", \"arm\", \"darcy\", \"felt\", \"charming\", \"taste\", \"turning\", \"surprised\", \"thought\", \"distance\", \"smile\", \"like\", \"house\", \"round\"], \"Total\": [646.0, 674.0, 1337.0, 874.0, 1549.0, 553.0, 421.0, 1443.0, 606.0, 617.0, 319.0, 379.0, 1151.0, 892.0, 940.0, 408.0, 669.0, 323.0, 777.0, 529.0, 1326.0, 628.0, 483.0, 957.0, 250.0, 584.0, 927.0, 168.0, 1060.0, 644.0, 32.353492736816406, 62.9085807800293, 239.71141052246094, 221.86859130859375, 77.59525299072266, 30.347578048706055, 73.4131088256836, 59.654930114746094, 11.694269180297852, 11.472679138183594, 83.04241180419922, 11.70942497253418, 13.638664245605469, 12.68910026550293, 11.669230461120605, 18.64236831665039, 10.710295677185059, 21.570171356201172, 15.411316871643066, 11.191218376159668, 18.607999801635742, 27.538110733032227, 16.637903213500977, 15.617753028869629, 20.993446350097656, 17.648252487182617, 26.63298988342285, 12.711281776428223, 11.710078239440918, 84.67965698242188, 18.34904670715332, 234.54319763183594, 108.24329376220703, 168.81272888183594, 30.456357955932617, 65.90849304199219, 73.83928680419922, 246.73045349121094, 107.62930297851562, 80.50597381591797, 195.5322723388672, 379.4754943847656, 181.87962341308594, 309.27337646484375, 103.22318267822266, 1337.9420166015625, 642.7166748046875, 400.2125549316406, 503.4102783203125, 299.4270935058594, 1151.8721923828125, 619.439453125, 1060.620849609375, 1443.514892578125, 495.5994873046875, 940.7930297851562, 499.0829772949219, 628.87890625, 644.3406982421875, 1326.46435546875, 1549.65673828125, 589.2562255859375, 704.2744140625, 625.845947265625, 914.6343994140625, 595.699951171875, 553.1987915039062, 892.1156616210938, 694.3760986328125, 838.288330078125, 669.6686401367188, 696.0472412109375, 209.53961181640625, 18.246646881103516, 12.462160110473633, 16.34884262084961, 15.390250205993652, 27.053653717041016, 12.385729789733887, 25.067819595336914, 75.69957733154297, 15.443549156188965, 87.44805908203125, 10.575783729553223, 141.07460021972656, 11.558859825134277, 13.204296112060547, 12.265143394470215, 18.372119903564453, 13.470314979553223, 11.587360382080078, 11.57275390625, 14.444623947143555, 11.340669631958008, 26.220035552978516, 25.243627548217773, 26.220178604125977, 553.9454956054688, 14.420989036560059, 10.517454147338867, 12.390689849853516, 38.96346664428711, 36.05953598022461, 28.200660705566406, 302.6250915527344, 226.67355346679688, 674.6158447265625, 83.9184799194336, 584.873291015625, 226.3658905029297, 57.48445129394531, 144.70367431640625, 115.27558898925781, 118.68228912353516, 383.9187316894531, 236.910888671875, 424.989501953125, 263.1202697753906, 250.45111083984375, 278.5165710449219, 95.21633911132812, 244.33340454101562, 927.10595703125, 189.6254425048828, 247.5267333984375, 755.0092163085938, 669.6686401367188, 383.40985107421875, 232.84812927246094, 796.2789916992188, 830.7387084960938, 513.6282958984375, 1060.620849609375, 578.9595947265625, 575.13134765625, 670.3331909179688, 1443.514892578125, 684.228515625, 1326.46435546875, 535.6051635742188, 515.6527099609375, 656.8956298828125, 934.7306518554688, 940.7930297851562, 892.1156616210938, 1549.65673828125, 914.6343994140625, 1151.8721923828125, 86.9523696899414, 391.3695373535156, 32.278297424316406, 62.63914108276367, 394.42864990234375, 52.5609130859375, 70.72325897216797, 45.46369171142578, 19.118179321289062, 81.79024505615234, 51.453609466552734, 27.17953872680664, 316.8593444824219, 33.24833679199219, 874.6935424804688, 60.49985885620117, 153.40147399902344, 18.07499122619629, 444.9556579589844, 32.20383834838867, 529.6277465820312, 38.256065368652344, 21.045135498046875, 162.1088104248047, 226.451904296875, 37.07898712158203, 50.18147277832031, 126.56318664550781, 22.985925674438477, 32.02666473388672, 91.16462707519531, 240.80990600585938, 115.67082214355469, 281.409423828125, 382.2561950683594, 796.2789916992188, 1549.65673828125, 595.6556396484375, 1326.46435546875, 626.6719360351562, 567.6277465820312, 1443.514892578125, 957.7698364257812, 830.7387084960938, 441.104736328125, 914.6343994140625, 668.64892578125, 516.4127807617188, 934.7306518554688, 1151.8721923828125, 393.8216857910156, 620.844970703125, 927.10595703125, 1337.9420166015625, 838.288330078125, 1060.620849609375, 91.66368103027344, 62.47705078125, 101.67516326904297, 33.18629455566406, 28.13163948059082, 30.118356704711914, 369.92559814453125, 30.11311912536621, 21.06126594543457, 21.071218490600586, 28.121919631958008, 25.094938278198242, 18.0394287109375, 21.052295684814453, 139.91574096679688, 132.96839904785156, 131.80006408691406, 29.514570236206055, 104.36724853515625, 24.805051803588867, 14.720698356628418, 43.514766693115234, 41.78655242919922, 16.9769229888916, 14.93074893951416, 14.843008995056152, 16.642324447631836, 11.871009826660156, 12.906543731689453, 21.893516540527344, 62.74034118652344, 50.03017807006836, 606.0874633789062, 176.33261108398438, 150.0530548095703, 206.2119140625, 957.7698364257812, 62.862754821777344, 382.2561950683594, 604.9561767578125, 625.845947265625, 503.4102783203125, 892.1156616210938, 1337.9420166015625, 631.865478515625, 934.7306518554688, 400.19207763671875, 838.288330078125, 1151.8721923828125, 540.6296997070312, 575.9815063476562, 642.7166748046875, 704.2744140625, 230.61392211914062, 619.439453125, 589.2562255859375, 777.8485107421875, 940.7930297851562, 1326.46435546875, 1549.65673828125, 656.8956298828125, 1443.514892578125, 696.0472412109375, 1060.620849609375, 110.79887390136719, 28.861557006835938, 79.31549835205078, 16.857728958129883, 113.1916732788086, 23.286420822143555, 42.870086669921875, 15.861927032470703, 15.836974143981934, 11.836997985839844, 17.556625366210938, 114.21070098876953, 31.20301628112793, 53.98691177368164, 26.76863670349121, 15.811137199401855, 10.831962585449219, 47.417274475097656, 48.45916748046875, 15.717855453491211, 110.20147705078125, 14.318587303161621, 12.581705093383789, 33.654720306396484, 12.627033233642578, 11.810762405395508, 37.45718765258789, 22.767419815063477, 36.83857345581055, 38.214385986328125, 34.682037353515625, 63.17580795288086, 277.0936279296875, 227.82696533203125, 142.2817840576172, 408.07330322265625, 110.71903991699219, 175.00204467773438, 156.01219177246094, 116.57772064208984, 119.0155029296875, 84.44818115234375, 106.73716735839844, 89.63056182861328, 159.15081787109375, 540.6296997070312, 61.5762939453125, 266.395263671875, 85.2099609375, 69.71255493164062, 755.0092163085938, 164.32363891601562, 267.2945556640625, 1337.9420166015625, 940.7930297851562, 327.17486572265625, 704.2744140625, 1060.620849609375, 1151.8721923828125, 892.1156616210938, 619.439453125, 356.7015686035156, 311.4234619140625, 483.29327392578125, 696.0472412109375, 499.0829772949219, 553.1987915039062, 625.845947265625, 642.7166748046875, 541.7312622070312, 489.72052001953125, 311.2891845703125, 421.44989013671875, 99.06333923339844, 74.81417083740234, 197.37734985351562, 42.382568359375, 89.80398559570312, 15.090325355529785, 15.106236457824707, 37.39265441894531, 71.3669204711914, 646.1911010742188, 37.34536361694336, 171.8059844970703, 323.6742248535156, 57.816368103027344, 25.12874984741211, 93.33689880371094, 74.8924331665039, 11.928230285644531, 39.618900299072266, 31.70464515686035, 32.74864196777344, 26.868356704711914, 53.114471435546875, 14.942927360534668, 13.948925971984863, 24.02411651611328, 24.98550033569336, 126.66009521484375, 173.18678283691406, 66.41901397705078, 957.7698364257812, 109.19001770019531, 182.37258911132812, 584.873291015625, 383.40985107421875, 154.57232666015625, 187.5246124267578, 1549.65673828125, 1443.514892578125, 516.4127807617188, 927.10595703125, 595.6556396484375, 1326.46435546875, 617.8704833984375, 669.6686401367188, 934.7306518554688, 914.6343994140625, 441.104736328125, 351.34625244140625, 513.6282958984375, 892.1156616210938, 626.6719360351562, 668.64892578125, 830.7387084960938, 1060.620849609375, 684.228515625, 30.65316390991211, 24.764188766479492, 22.43979263305664, 36.617923736572266, 43.55418395996094, 37.71475601196289, 18.759414672851562, 23.153751373291016, 13.81251049041748, 10.838597297668457, 37.08836364746094, 16.780607223510742, 25.433961868286133, 39.80248260498047, 16.67683219909668, 15.804283142089844, 11.315749168395996, 10.736563682556152, 10.635917663574219, 11.719682693481445, 14.700300216674805, 10.698433876037598, 13.709586143493652, 12.778727531433105, 14.722294807434082, 14.764863014221191, 11.477721214294434, 22.590381622314453, 25.717655181884766, 11.840499877929688, 35.29672622680664, 23.77827262878418, 181.87962341308594, 23.72036361694336, 53.05196762084961, 40.88606262207031, 107.62930297851562, 49.458499908447266, 107.95366668701172, 408.07330322265625, 164.32363891601562, 230.61392211914062, 234.54319763183594, 54.00922775268555, 171.97711181640625, 656.8956298828125, 51.154563903808594, 183.40277099609375, 625.845947265625, 255.68118286132812, 1337.9420166015625, 619.439453125, 589.2562255859375, 777.8485107421875, 119.4780502319336, 628.87890625, 642.7166748046875, 311.4234619140625, 436.9931640625, 1151.8721923828125, 553.1987915039062, 575.9815063476562, 670.3331909179688, 940.7930297851562, 838.288330078125, 644.3406982421875, 1443.514892578125, 914.6343994140625, 1326.46435546875, 327.17486572265625, 1060.620849609375, 696.0472412109375, 934.7306518554688, 595.699951171875, 31.086902618408203, 15.99652099609375, 39.175270080566406, 16.974462509155273, 48.99137496948242, 131.58184814453125, 53.60746383666992, 319.3992004394531, 250.45111083984375, 101.74119567871094, 29.25124740600586, 15.772342681884766, 19.596961975097656, 36.33977127075195, 379.4754943847656, 17.629409790039062, 15.68948745727539, 11.874463081359863, 674.6158447265625, 42.32041549682617, 11.82765007019043, 13.487237930297852, 226.67355346679688, 10.80325698852539, 19.739830017089844, 12.704834938049316, 24.533849716186523, 26.67780303955078, 13.67038345336914, 30.30245018005371, 553.9454956054688, 45.91445541381836, 669.6686401367188, 628.87890625, 584.873291015625, 92.43414306640625, 141.07460021972656, 36.05953598022461, 102.75182342529297, 63.10133361816406, 617.8704833984375, 291.30401611328125, 146.70619201660156, 123.51972198486328, 1549.65673828125, 626.6719360351562, 187.5246124267578, 927.10595703125, 1326.46435546875, 796.2789916992188, 656.8956298828125, 395.0179138183594, 777.8485107421875, 606.0874633789062, 411.84033203125, 668.64892578125, 838.288330078125, 1443.514892578125, 1337.9420166015625, 40.44968795776367, 74.47614288330078, 59.374267578125, 24.1783504486084, 13.506796836853027, 19.533018112182617, 15.576345443725586, 20.367441177368164, 16.965970993041992, 17.06940460205078, 36.924251556396484, 11.64037036895752, 30.138587951660156, 30.278270721435547, 14.326351165771484, 98.22318267822266, 13.569750785827637, 42.32041549682617, 28.53166389465332, 12.528356552124023, 195.0537567138672, 148.64016723632812, 11.884958267211914, 15.55628776550293, 14.61816692352295, 15.604741096496582, 11.709928512573242, 12.500232696533203, 20.344343185424805, 17.30443572998047, 24.516355514526367, 48.248722076416016, 142.2817840576172, 319.32183837890625, 628.87890625, 424.989501953125, 168.88453674316406, 69.7401123046875, 1337.9420166015625, 1443.514892578125, 541.9425659179688, 755.0092163085938, 150.0530548095703, 604.9561767578125, 400.2125549316406, 187.5246124267578, 704.2744140625, 400.19207763671875, 255.4189910888672, 364.2389831542969, 838.288330078125, 578.9595947265625, 777.8485107421875, 934.7306518554688, 495.5994873046875, 1326.46435546875, 619.439453125, 467.79144287109375, 625.845947265625, 499.0829772949219, 670.3331909179688, 1060.620849609375, 11.747756958007812, 38.342350006103516, 23.241811752319336, 11.249634742736816, 173.18678283691406, 10.476024627685547, 12.132681846618652, 126.66009521484375, 54.054229736328125, 12.537638664245605, 83.75325012207031, 47.578311920166016, 14.220298767089844, 15.080085754394531, 11.551216125488281, 24.02411651611328, 17.716575622558594, 13.701350212097168, 13.601497650146484, 109.19001770019531, 55.073036193847656, 17.37187385559082, 104.97843170166016, 11.377300262451172, 10.473031044006348, 24.293716430664062, 10.585546493530273, 13.41286563873291, 16.483047485351562, 15.445897102355957, 40.86720275878906, 55.74921798706055, 162.6492462158203, 617.8704833984375, 323.6742248535156, 606.0874633789062, 266.6269836425781, 92.1521224975586, 73.83928680419922, 646.1911010742188, 42.14276885986328, 668.64892578125, 1549.65673828125, 383.40985107421875, 274.3407287597656, 174.23593139648438, 244.166015625, 121.5614013671875, 175.00204467773438, 1060.620849609375, 830.7387084960938, 927.10595703125, 1326.46435546875, 595.6556396484375, 755.0092163085938, 892.1156616210938, 914.6343994140625, 694.3760986328125, 516.4127807617188, 940.7930297851562, 13.820152282714844, 12.040128707885742, 19.467792510986328, 13.132512092590332, 13.167793273925781, 10.33702278137207, 10.427326202392578, 10.935551643371582, 25.48854637145996, 16.110458374023438, 10.282204627990723, 21.571088790893555, 27.299997329711914, 16.16761589050293, 12.09662914276123, 11.067126274108887, 12.265325546264648, 11.367398262023926, 11.24620532989502, 12.344196319580078, 13.133729934692383, 11.13476848602295, 20.933902740478516, 19.932668685913086, 15.186850547790527, 20.555994033813477, 14.00034236907959, 29.48118782043457, 30.057458877563477, 21.59024429321289, 43.343360900878906, 95.75948333740234, 56.6680908203125, 71.96281433105469, 66.3583755493164, 109.19001770019531, 20.674053192138672, 277.0936279296875, 67.74150085449219, 63.15733337402344, 32.745567321777344, 62.74034118652344, 940.7930297851562, 116.57772064208984, 162.6492462158203, 617.8704833984375, 892.1156616210938, 1549.65673828125, 777.8485107421875, 115.73881530761719, 1060.620849609375, 541.7312622070312, 225.16787719726562, 387.2174987792969, 535.6051635742188, 830.7387084960938, 499.0829772949219, 279.3394470214844, 755.0092163085938, 704.2744140625, 1337.9420166015625, 303.229736328125, 303.9442138671875, 250.2328338623047, 619.439453125, 642.7166748046875, 927.10595703125, 273.1550598144531, 489.72052001953125, 20.926868438720703, 23.169538497924805, 18.194862365722656, 15.582901954650879, 9.846872329711914, 10.15186882019043, 11.884958267211914, 10.20615291595459, 27.940765380859375, 18.84379005432129, 142.2817840576172, 15.165936470031738, 15.626145362854004, 10.848976135253906, 16.95310401916504, 11.168289184570312, 14.968339920043945, 11.929089546203613, 17.124950408935547, 12.3217191696167, 12.279473304748535, 10.325912475585938, 12.92615795135498, 12.300737380981445, 15.214960098266602, 13.762296676635742, 47.57762908935547, 23.654714584350586, 14.37310791015625, 16.364696502685547, 83.75325012207031, 114.21070098876953, 55.90311050415039, 277.0936279296875, 24.76834487915039, 227.82696533203125, 53.98691177368164, 114.2927017211914, 37.55088424682617, 98.22318267822266, 343.6343994140625, 193.42864990234375, 838.288330078125, 342.20709228515625, 1443.514892578125, 541.9425659179688, 119.0155029296875, 604.9561767578125, 206.2119140625, 448.2342529296875, 181.87962341308594, 927.10595703125, 934.7306518554688, 595.699951171875, 365.472412109375, 669.6686401367188, 255.4189910888672, 441.104736328125, 914.6343994140625, 1337.9420166015625, 1151.8721923828125, 567.6277465820312, 400.2292175292969, 524.9450073242188, 796.2789916992188, 1326.46435546875, 13.29601001739502, 20.555994033813477, 12.323681831359863, 17.64700698852539, 26.63298988342285, 16.54974937438965, 11.084385871887207, 12.919459342956543, 37.45718765258789, 13.086759567260742, 12.01734447479248, 19.64432716369629, 11.239648818969727, 14.615744590759277, 17.88732147216797, 11.866756439208984, 12.092545509338379, 11.293513298034668, 16.090877532958984, 24.98550033569336, 37.235755920410156, 11.984375, 13.08185863494873, 20.795936584472656, 12.250478744506836, 11.230029106140137, 30.197216033935547, 11.3035306930542, 11.372514724731445, 12.795502662658691, 24.45679473876953, 26.044784545898438, 17.068416595458984, 22.6074161529541, 36.37883758544922, 65.90849304199219, 108.24329376220703, 69.71255493164062, 84.67965698242188, 20.783605575561523, 35.40469741821289, 23.155620574951172, 408.07330322265625, 1337.9420166015625, 625.845947265625, 247.09329223632812, 1443.514892578125, 595.6556396484375, 84.44818115234375, 644.3406982421875, 1326.46435546875, 1060.620849609375, 497.1593322753906, 289.2919616699219, 125.75146484375, 684.228515625, 777.8485107421875, 154.57232666015625, 459.8797607421875, 465.0496826171875, 575.13134765625, 302.6250915527344, 704.2744140625, 386.1748046875, 838.288330078125, 668.64892578125, 934.7306518554688, 12.241752624511719, 24.557693481445312, 13.14921760559082, 15.038058280944824, 15.750923156738281, 15.875749588012695, 16.132707595825195, 16.238161087036133, 16.364696502685547, 17.163658142089844, 17.205167770385742, 26.124954223632812, 41.540191650390625, 18.38858413696289, 10.478569984436035, 20.285194396972656, 10.581603050231934, 10.517946243286133, 10.733752250671387, 10.63670825958252, 10.438051223754883, 10.935551643371582, 168.81272888183594, 10.584562301635742, 11.054741859436035, 11.26305103302002, 11.402230262756348, 11.473028182983398, 11.512191772460938, 11.4811372756958, 77.59525299072266, 23.096302032470703, 35.71123504638672, 87.69283294677734, 41.49459457397461, 43.224876403808594, 27.011812210083008, 27.455101013183594, 72.06015014648438, 63.173038482666016, 29.13374900817871, 35.58964157104492, 54.9689826965332, 38.69614028930664, 483.29327392578125, 195.69927978515625, 232.45188903808594, 221.86859130859375, 1337.9420166015625, 424.989501953125, 266.395263671875, 408.07330322265625, 327.17486572265625, 892.1156616210938, 541.9425659179688, 777.8485107421875, 80.05265045166016, 575.9815063476562, 516.4127807617188, 126.17948913574219, 339.1241760253906, 1151.8721923828125, 503.4102783203125, 644.3406982421875, 940.7930297851562, 642.7166748046875, 208.1433868408203, 343.6343994140625, 656.8956298828125, 19.76109504699707, 26.770612716674805, 10.244019508361816, 24.02411651611328, 10.733752250671387, 10.67917251586914, 12.243834495544434, 10.189577102661133, 24.645769119262695, 10.438051223754883, 12.880692481994629, 24.47662353515625, 13.149045944213867, 14.019428253173828, 27.386478424072266, 14.619978904724121, 13.184647560119629, 93.33689880371094, 15.231624603271484, 14.102486610412598, 14.997617721557617, 11.747756958007812, 12.31035041809082, 16.269424438476562, 18.00066566467285, 18.123779296875, 18.83423614501953, 18.061166763305664, 11.278365135192871, 16.386085510253906, 39.48255157470703, 47.29487609863281, 77.46146392822266, 40.86720275878906, 53.10955810546875, 56.975494384765625, 43.37266540527344, 646.1911010742188, 58.69553756713867, 62.76282501220703, 53.114471435546875, 248.85134887695312, 113.60124206542969, 37.93518829345703, 113.04956817626953, 56.33892822265625, 117.4260482788086, 421.44989013671875, 670.3331909179688, 87.97126770019531, 157.88909912109375, 118.97899627685547, 101.91966247558594, 1151.8721923828125, 124.01005554199219, 263.91326904296875, 1337.9420166015625, 755.0092163085938, 356.7015686035156], \"loglift\": [30.0, 29.0, 28.0, 27.0, 26.0, 25.0, 24.0, 23.0, 22.0, 21.0, 20.0, 19.0, 18.0, 17.0, 16.0, 15.0, 14.0, 13.0, 12.0, 11.0, 10.0, 9.0, 8.0, 7.0, 6.0, 5.0, 4.0, 3.0, 2.0, 1.0, 1.7148000001907349, 1.7034000158309937, 1.6822999715805054, 1.6765999794006348, 1.6657999753952026, 1.6622999906539917, 1.648300051689148, 1.6238000392913818, 1.6208000183105469, 1.6016000509262085, 1.6014000177383423, 1.5492000579833984, 1.524999976158142, 1.520400047302246, 1.5002000331878662, 1.499500036239624, 1.496000051498413, 1.4926999807357788, 1.4919999837875366, 1.4879000186920166, 1.4854999780654907, 1.4850000143051147, 1.4840999841690063, 1.4837000370025635, 1.475100040435791, 1.4634000062942505, 1.4630999565124512, 1.4529999494552612, 1.4500999450683594, 1.44350004196167, 1.437399983406067, 1.3538999557495117, 1.3837000131607056, 1.3348000049591064, 1.4103000164031982, 1.30649995803833, 1.2755999565124512, 0.9495999813079834, 1.1100000143051147, 1.131600022315979, 0.9075999855995178, 0.7396000027656555, 0.9016000032424927, 0.7419000267982483, 1.030400037765503, 0.29249998927116394, 0.4668999910354614, 0.6046000123023987, 0.5141000151634216, 0.6736000180244446, 0.2257000058889389, 0.40950000286102295, 0.19040000438690186, -0.023000000044703484, 0.3828999996185303, 0.08110000193119049, 0.3424000144004822, 0.22709999978542328, 0.20170000195503235, -0.17520000040531158, -0.31869998574256897, 0.2443999946117401, 0.11339999735355377, 0.16779999434947968, -0.10029999911785126, 0.149399995803833, 0.19269999861717224, -0.17000000178813934, 0.018200000748038292, -0.14880000054836273, 0.034299999475479126, -0.029200000688433647, 1.801300048828125, 1.7654999494552612, 1.7297999858856201, 1.7204999923706055, 1.6897000074386597, 1.674299955368042, 1.6612999439239502, 1.6474000215530396, 1.642899990081787, 1.6079000234603882, 1.5937000513076782, 1.5844999551773071, 1.5824999809265137, 1.569599986076355, 1.5657000541687012, 1.5570000410079956, 1.5506000518798828, 1.547700047492981, 1.5254000425338745, 1.5181000232696533, 1.5038000345230103, 1.5024000406265259, 1.5003999471664429, 1.4960999488830566, 1.4954999685287476, 1.4859000444412231, 1.4803999662399292, 1.4793000221252441, 1.4729000329971313, 1.4675999879837036, 1.4573999643325806, 1.4384000301361084, 1.312600016593933, 1.3171000480651855, 1.2451000213623047, 1.3086999654769897, 1.05239999294281, 1.1435999870300293, 1.3286999464035034, 1.1612999439239502, 1.1841000318527222, 1.1431000232696533, 0.8208000063896179, 0.9273999929428101, 0.7580000162124634, 0.8812999725341797, 0.8928999900817871, 0.8479999899864197, 1.1406999826431274, 0.8712000250816345, 0.4562999904155731, 0.9232000112533569, 0.8148999810218811, 0.37389999628067017, 0.4088999927043915, 0.6202999949455261, 0.805899977684021, 0.3116999864578247, 0.26660001277923584, 0.4659999907016754, 0.13410000503063202, 0.3862999975681305, 0.38920000195503235, 0.30809998512268066, -0.08429999649524689, 0.27790001034736633, -0.12349999696016312, 0.39399999380111694, 0.4108000099658966, 0.24699999392032623, -0.03629999980330467, -0.07829999923706055, -0.053300000727176666, -0.4943999946117401, -0.07779999822378159, -0.2851000130176544, 1.8071000576019287, 1.8033000230789185, 1.798699975013733, 1.7984000444412231, 1.7970999479293823, 1.794100046157837, 1.7933000326156616, 1.7920000553131104, 1.7826000452041626, 1.7745000123977661, 1.7694000005722046, 1.7687000036239624, 1.7661999464035034, 1.7659000158309937, 1.7653000354766846, 1.76010000705719, 1.7582000494003296, 1.749899983406067, 1.7477999925613403, 1.7455999851226807, 1.7443000078201294, 1.7408000230789185, 1.7130000591278076, 1.7036999464035034, 1.7005000114440918, 1.6842000484466553, 1.6776000261306763, 1.6514999866485596, 1.645900011062622, 1.6205999851226807, 1.6045000553131104, 1.5795999765396118, 1.5572999715805054, 1.4345999956130981, 1.330199956893921, 1.1194000244140625, 0.9466000199317932, 0.988099992275238, 0.644599974155426, 0.8521999716758728, 0.8187000155448914, 0.46230000257492065, 0.5929999947547913, 0.6272000074386597, 0.8754000067710876, 0.4544000029563904, 0.5975000262260437, 0.7077999711036682, 0.30469998717308044, 0.12999999523162842, 0.7879999876022339, 0.49480000138282776, 0.19470000267028809, -0.0731000006198883, 0.23639999330043793, -0.07329999655485153, 2.0048999786376953, 2.0048000812530518, 1.999400019645691, 1.996899962425232, 1.9900000095367432, 1.9896999597549438, 1.9895000457763672, 1.9876999855041504, 1.9814000129699707, 1.9812999963760376, 1.9766000509262085, 1.9763000011444092, 1.9744999408721924, 1.955399990081787, 1.9527000188827515, 1.9399000406265259, 1.9337999820709229, 1.9219000339508057, 1.8736000061035156, 1.847100019454956, 1.820099949836731, 1.813599944114685, 1.7984999418258667, 1.7826999425888062, 1.7723000049591064, 1.7580000162124634, 1.7415000200271606, 1.7400000095367432, 1.7295000553131104, 1.7171000242233276, 1.6131000518798828, 1.614300012588501, 1.3711999654769897, 1.4876999855041504, 1.3956999778747559, 1.2862999439239502, 0.9279999732971191, 1.472499966621399, 0.9585000276565552, 0.755299985408783, 0.7416999936103821, 0.7843999862670898, 0.5633999705314636, 0.3873000144958496, 0.5734999775886536, 0.3781000077724457, 0.7544000148773193, 0.42149999737739563, 0.21459999680519104, 0.5565000176429749, 0.5224000215530396, 0.44269999861717224, 0.3903000056743622, 0.9555000066757202, 0.4239000082015991, 0.4494999945163727, 0.28529998660087585, 0.16419999301433563, -0.12099999934434891, -0.24210000038146973, 0.3695000112056732, -0.33869999647140503, 0.26440000534057617, -0.1298000067472458, 2.1809000968933105, 2.1665000915527344, 2.1593000888824463, 2.1405999660491943, 2.102799892425537, 2.074899911880493, 2.039799928665161, 2.028899908065796, 2.0211000442504883, 2.012200117111206, 2.0092999935150146, 1.999899983406067, 1.971500039100647, 1.965000033378601, 1.9593000411987305, 1.954699993133545, 1.9395999908447266, 1.9377000331878662, 1.9349000453948975, 1.9183000326156616, 1.9160000085830688, 1.9151999950408936, 1.8978999853134155, 1.896299958229065, 1.895300030708313, 1.881500005722046, 1.8806999921798706, 1.8796000480651855, 1.871000051498413, 1.8671000003814697, 1.8589999675750732, 1.8341000080108643, 1.6957999467849731, 1.6793999671936035, 1.6963000297546387, 1.552899956703186, 1.6830999851226807, 1.601699948310852, 1.6130000352859497, 1.618399977684021, 1.6065000295639038, 1.6328999996185303, 1.5312000513076782, 1.5800000429153442, 1.3837000131607056, 0.9222999811172485, 1.6862000226974487, 1.156000018119812, 1.5647000074386597, 1.61899995803833, 0.5562000274658203, 1.2310999631881714, 0.9634000062942505, 0.11320000141859055, 0.2590000033378601, 0.8234999775886536, 0.36660000681877136, 0.10980000346899033, 0.049400001764297485, 0.1784999966621399, 0.39070001244544983, 0.7421000003814697, 0.8029000163078308, 0.474700003862381, 0.14980000257492065, 0.3953000009059906, 0.30309998989105225, 0.17970000207424164, 0.15389999747276306, 0.27959999442100525, 0.35850000381469727, 2.300299882888794, 2.2843000888824463, 2.283099889755249, 2.280600070953369, 2.275899887084961, 2.2648000717163086, 2.2613000869750977, 2.2565999031066895, 2.2551000118255615, 2.2532999515533447, 2.2464001178741455, 2.2132999897003174, 2.203900098800659, 2.1993000507354736, 2.1900999546051025, 2.190000057220459, 2.1793999671936035, 2.176500082015991, 2.1682000160217285, 2.160399913787842, 2.1540000438690186, 2.133699893951416, 2.116300106048584, 2.0599000453948975, 2.0381999015808105, 1.961400032043457, 1.9600000381469727, 1.9258999824523926, 1.9226000308990479, 1.8812999725341797, 1.8325999975204468, 1.750599980354309, 1.1395000219345093, 1.5848000049591064, 1.455299973487854, 1.0298000574111938, 1.1172000169754028, 1.4271999597549438, 1.3229000568389893, 0.43140000104904175, 0.31360000371932983, 0.8055999875068665, 0.5001000165939331, 0.6974999904632568, 0.25, 0.6464999914169312, 0.5800999999046326, 0.3720000088214874, 0.32109999656677246, 0.7717000246047974, 0.9034000039100647, 0.6086999773979187, 0.15700000524520874, 0.41429999470710754, 0.32899999618530273, 0.12219999730587006, -0.11620000004768372, 0.23499999940395355, 2.658400058746338, 2.490999937057495, 2.4718000888824463, 2.470099925994873, 2.396899938583374, 2.3945999145507812, 2.36680006980896, 2.339400053024292, 2.3392999172210693, 2.3376998901367188, 2.2678000926971436, 2.2648000717163086, 2.245800018310547, 2.2274999618530273, 2.168299913406372, 2.1665000915527344, 2.161400079727173, 2.136199951171875, 2.133500099182129, 2.1319000720977783, 2.1285998821258545, 2.126199960708618, 2.115299940109253, 2.098099946975708, 2.095599889755249, 2.094599962234497, 2.083400011062622, 2.0817999839782715, 2.0815999507904053, 2.0436999797821045, 2.0332000255584717, 2.0302999019622803, 1.7274999618530273, 2.007699966430664, 1.8837000131607056, 1.9144999980926514, 1.6710000038146973, 1.829800009727478, 1.63919997215271, 1.3202999830245972, 1.5374000072479248, 1.451300024986267, 1.4097000360488892, 1.7869999408721924, 1.4286999702453613, 0.9320999979972839, 1.7843999862670898, 1.3041000366210938, 0.8371999859809875, 1.0949000120162964, 0.3653999865055084, 0.6238999962806702, 0.6225000023841858, 0.4697999954223633, 1.3847999572753906, 0.5012999773025513, 0.48919999599456787, 0.871999979019165, 0.6840000152587891, 0.13840000331401825, 0.522599995136261, 0.4765999913215637, 0.335999995470047, 0.11110000312328339, 0.1679999977350235, 0.311599999666214, -0.3255000114440918, -0.016599999740719795, -0.32440000772476196, 0.7702000141143799, -0.22830000519752502, 0.09950000047683716, -0.2011999934911728, 0.2085999995470047, 3.364000082015991, 3.3592000007629395, 3.3459999561309814, 3.2962000370025635, 3.288599967956543, 3.2785000801086426, 3.0824999809265137, 3.025700092315674, 2.902400016784668, 2.876800060272217, 2.6840999126434326, 2.6807000637054443, 2.6659998893737793, 2.6545000076293945, 2.6370999813079834, 2.609800100326538, 2.58489990234375, 2.5754001140594482, 2.574700117111206, 2.547300100326538, 2.4749999046325684, 2.474900007247925, 2.4605000019073486, 2.400399923324585, 2.3039000034332275, 2.276099920272827, 2.264699935913086, 2.2588999271392822, 2.2416999340057373, 2.2353999614715576, 2.1602001190185547, 2.177299976348877, 1.6930999755859375, 1.5148999691009521, 1.506500005722046, 1.9105000495910645, 1.7726999521255493, 2.1684999465942383, 1.773300051689148, 1.9535000324249268, 1.0276999473571777, 1.3246999979019165, 1.6030000448226929, 1.6216000318527222, 0.31540000438690186, 0.6898000240325928, 1.3705999851226807, 0.4302999973297119, 0.15379999577999115, 0.4487000107765198, 0.535099983215332, 0.8774999976158142, 0.32580000162124634, 0.4684000015258789, 0.7681999802589417, 0.37220001220703125, 0.125900000333786, -0.3499999940395355, -0.4052000045776367, 3.396399974822998, 3.3041000366210938, 3.0409998893737793, 2.959199905395508, 2.9430999755859375, 2.8761000633239746, 2.830699920654297, 2.7416000366210938, 2.720900058746338, 2.6847000122070312, 2.6798999309539795, 2.6598000526428223, 2.6347999572753906, 2.602299928665161, 2.5899999141693115, 2.5202999114990234, 2.490999937057495, 2.490799903869629, 2.4818999767303467, 2.4807000160217285, 2.4576001167297363, 2.411600112915039, 2.3889000415802, 2.3719000816345215, 2.352299928665161, 2.3450000286102295, 2.335599899291992, 2.313999891281128, 2.313800096511841, 2.302799940109253, 2.302500009536743, 2.0469000339508057, 1.7651000022888184, 1.5464999675750732, 1.3308000564575195, 1.3073999881744385, 1.5886000394821167, 1.8557000160217285, 0.727400004863739, 0.6071000099182129, 0.8536999821662903, 0.6574000120162964, 1.4108999967575073, 0.6708999872207642, 0.8684999942779541, 1.2818000316619873, 0.42739999294281006, 0.7768999934196472, 1.0317000150680542, 0.781499981880188, 0.21230000257492065, 0.45249998569488525, 0.2363000065088272, 0.10249999910593033, 0.4950000047683716, -0.2782000005245209, 0.2939000129699707, 0.49160000681877136, 0.21559999883174896, 0.4097999930381775, 0.13359999656677246, -0.31299999356269836, 3.4576001167297363, 3.302799940109253, 3.2978999614715576, 3.255000114440918, 3.2379000186920166, 3.1494998931884766, 3.120699882507324, 3.097599983215332, 3.038300037384033, 2.9935998916625977, 2.951900005340576, 2.9495999813079834, 2.8559999465942383, 2.8415000438690186, 2.8008999824523926, 2.7460999488830566, 2.7004001140594482, 2.6923000812530518, 2.6710000038146973, 2.667099952697754, 2.619999885559082, 2.5487000942230225, 2.545099973678589, 2.4965999126434326, 2.4925999641418457, 2.468600034713745, 2.4683001041412354, 2.464099884033203, 2.454400062561035, 2.4340999126434326, 2.3620998859405518, 2.3050999641418457, 2.183300018310547, 1.9681999683380127, 2.0492000579833984, 1.8877999782562256, 1.9478000402450562, 2.1703999042510986, 2.1705000400543213, 1.2305999994277954, 2.266400098800659, 1.0124000310897827, 0.5681999921798706, 1.1490000486373901, 1.316100001335144, 1.5324000120162964, 1.3029999732971191, 1.642199993133545, 1.3588000535964966, 0.09780000150203705, 0.2524999976158142, 0.17339999973773956, -0.13220000267028809, 0.46299999952316284, 0.2800000011920929, 0.1453000009059906, 0.041200000792741776, 0.16210000216960907, 0.44769999384880066, -0.1526000052690506, 3.2342000007629395, 3.174099922180176, 3.1059000492095947, 2.9874000549316406, 2.899399995803833, 2.889699935913086, 2.8434998989105225, 2.829699993133545, 2.821000099182129, 2.8066999912261963, 2.8039000034332275, 2.7771999835968018, 2.775599956512451, 2.768899917602539, 2.730799913406372, 2.729300022125244, 2.723599910736084, 2.722899913787842, 2.708899974822998, 2.6956000328063965, 2.6851000785827637, 2.6740000247955322, 2.6331000328063965, 2.6315999031066895, 2.607599973678589, 2.595900058746338, 2.5954999923706055, 2.530900001525879, 2.530600070953369, 2.5190000534057617, 2.47760009765625, 2.299799919128418, 2.365999937057495, 2.1958000659942627, 2.1498000621795654, 1.9079999923706055, 2.5058999061584473, 1.5414999723434448, 2.041599988937378, 2.062000036239624, 2.324700117111206, 2.056299924850464, 0.9099000096321106, 1.746000051498413, 1.5535999536514282, 0.9126999974250793, 0.6636999845504761, 0.2930999994277954, 0.6534000039100647, 1.6526000499725342, 0.30489999055862427, 0.7038000226020813, 1.1770000457763672, 0.7723000049591064, 0.5303999781608582, 0.2053000032901764, 0.5532000064849854, 0.9189000129699707, 0.16699999570846558, 0.17499999701976776, -0.3391000032424927, 0.8238000273704529, 0.8203999996185303, 0.9678000211715698, 0.19339999556541443, 0.15800000727176666, -0.22200000286102295, 0.8217999935150146, 0.2533999979496002, 3.9435999393463135, 3.811800003051758, 3.564500093460083, 3.422600030899048, 3.2395999431610107, 3.2207000255584717, 3.1930999755859375, 3.1135001182556152, 3.0213000774383545, 3.020400047302246, 2.9962000846862793, 2.953700065612793, 2.937999963760376, 2.8606998920440674, 2.8524999618530273, 2.839600086212158, 2.820499897003174, 2.801800012588501, 2.7844998836517334, 2.7760000228881836, 2.768899917602539, 2.760999917984009, 2.730799913406372, 2.709199905395508, 2.704400062561035, 2.690200090408325, 2.655900001525879, 2.640899896621704, 2.6122000217437744, 2.590100049972534, 2.4874000549316406, 2.426800012588501, 2.3538999557495117, 1.9212000370025635, 2.5408999919891357, 1.93340003490448, 2.2051000595092773, 1.8774000406265259, 2.327899932861328, 1.9134000539779663, 1.2343000173568726, 1.4220000505447388, 0.6693999767303467, 1.0529999732971191, 0.20669999718666077, 0.7671999931335449, 1.6540000438690186, 0.6347000002861023, 1.2705999612808228, 0.7527999877929688, 1.3381999731063843, 0.24889999628067017, 0.24279999732971191, 0.5392000079154968, 0.8514999747276306, 0.42239999771118164, 1.0961999893188477, 0.6510999798774719, 0.04989999905228615, -0.2694999873638153, -0.14790000021457672, 0.3928999900817871, 0.6754000186920166, 0.4205000102519989, -0.010999999940395355, -0.4975000023841858, 4.211699962615967, 3.7806999683380127, 3.467099905014038, 3.2988998889923096, 3.2890000343322754, 3.2265000343322754, 3.198199987411499, 3.1886000633239746, 3.1542000770568848, 3.146899938583374, 3.0309998989105225, 3.018899917602539, 3.0157999992370605, 2.9737000465393066, 2.967900037765503, 2.929800033569336, 2.8986001014709473, 2.89490008354187, 2.869499921798706, 2.85260009765625, 2.852400064468384, 2.8362998962402344, 2.827699899673462, 2.82669997215271, 2.823899984359741, 2.8141000270843506, 2.802500009536743, 2.80049991607666, 2.791300058364868, 2.776700019836426, 2.7576000690460205, 2.7272000312805176, 2.7562999725341797, 2.6930999755859375, 2.565700054168701, 2.40910005569458, 2.234299898147583, 2.3020999431610107, 2.1786999702453613, 2.677999973297119, 2.458400011062622, 2.625699996948242, 1.136299967765808, 0.4490000009536743, 0.8374000191688538, 1.3516000509262085, 0.33570000529289246, 0.7633000016212463, 1.9292999505996704, 0.6665999889373779, 0.18449999392032623, 0.30820000171661377, 0.7879999876022339, 1.1252000331878662, 1.6305999755859375, 0.4228000044822693, 0.31200000643730164, 1.4758000373840332, 0.6456000208854675, 0.5947999954223633, 0.3813999891281128, 0.8571000099182129, 0.09220000356435776, 0.5911999940872192, -0.11869999766349792, 0.03009999915957451, -0.30720001459121704, 3.6731998920440674, 3.6442999839782715, 3.609600067138672, 3.469599962234497, 3.4347000122070312, 3.434499979019165, 3.4030001163482666, 3.397900104522705, 3.3842999935150146, 3.348400115966797, 3.331899881362915, 3.323199987411499, 3.2978999614715576, 3.2780001163482666, 3.203200101852417, 3.1733999252319336, 3.1733999252319336, 3.1638998985290527, 3.1600000858306885, 3.1552000045776367, 3.1458001136779785, 3.140000104904175, 3.136899948120117, 3.1333999633789062, 3.124500036239624, 3.1080000400543213, 3.098299980163574, 3.0905001163482666, 3.0889999866485596, 3.0878000259399414, 3.079900026321411, 3.050800085067749, 3.0006000995635986, 2.781599998474121, 2.8494999408721924, 2.817500114440918, 2.8935000896453857, 2.8789000511169434, 2.5678999423980713, 2.5826001167297363, 2.809499979019165, 2.734999895095825, 2.562299966812134, 2.6637001037597656, 1.5605000257492065, 1.8615000247955322, 1.6971999406814575, 1.7065000534057617, 0.5611000061035156, 1.2099000215530396, 1.5088000297546387, 1.220900058746338, 1.31850004196167, 0.5601999759674072, 0.8317999839782715, 0.5034000277519226, 2.2032999992370605, 0.7171000242233276, 0.79339998960495, 1.8387999534606934, 1.0521999597549438, 0.06549999862909317, 0.6769999861717224, 0.44839999079704285, 0.12280000001192093, 0.4487999975681305, 1.3142999410629272, 0.8303999900817871, 0.1688999980688095, 4.281899929046631, 3.9321000576019287, 3.851599931716919, 3.850100040435791, 3.8399999141693115, 3.708199977874756, 3.6579999923706055, 3.6494998931884766, 3.6366000175476074, 3.5998001098632812, 3.5934998989105225, 3.5617001056671143, 3.558500051498413, 3.525399923324585, 3.5025999546051025, 3.4937000274658203, 3.447700023651123, 3.4474000930786133, 3.4442999362945557, 3.418100118637085, 3.387200117111206, 3.35479998588562, 3.3215999603271484, 3.296099901199341, 3.2774999141693115, 3.257699966430664, 3.22979998588562, 3.2190001010894775, 3.2121999263763428, 3.138000011444092, 3.1149001121520996, 2.9916999340057373, 2.8529000282287598, 2.998300075531006, 2.8575000762939453, 2.802299976348877, 2.9047999382019043, 1.5200999975204468, 2.682800054550171, 2.6226999759674072, 2.710400104522705, 1.8308000564575195, 2.2486000061035156, 2.8649001121520996, 2.0578999519348145, 2.5213000774383545, 1.980299949645996, 1.0077999830245972, 0.6047000288963318, 2.1438000202178955, 1.6705000400543213, 1.8581000566482544, 1.9816999435424805, -0.09290000051259995, 1.811400055885315, 1.1190999746322632, -0.415800005197525, 0.12060000002384186, 0.8033999800682068], \"logprob\": [30.0, 29.0, 28.0, 27.0, 26.0, 25.0, 24.0, 23.0, 22.0, 21.0, 20.0, 19.0, 18.0, 17.0, 16.0, 15.0, 14.0, 13.0, 12.0, 11.0, 10.0, 9.0, 8.0, 7.0, 6.0, 5.0, 4.0, 3.0, 2.0, 1.0, -7.374899864196777, -6.72130012512207, -5.404600143432617, -5.487599849700928, -6.549099922180176, -7.491300106048584, -6.622000217437744, -6.854000091552734, -8.48639965057373, -8.524800300598145, -6.545599937438965, -8.55679988861084, -8.428500175476074, -8.505200386047363, -8.609199523925781, -8.141400337219238, -8.69909954071045, -8.002300262451172, -8.339200019836426, -8.663299560546875, -8.157299995422363, -7.7657999992370605, -8.270600318908691, -8.33430004119873, -8.047100067138672, -8.2322998046875, -7.821199893951416, -8.570799827575684, -8.655799865722656, -6.683899879455566, -8.219400405883789, -5.754799842834473, -6.498300075531006, -6.102700233459473, -7.739799976348877, -7.071599960327148, -6.988900184631348, -6.108500003814697, -6.777699947357178, -7.04640007019043, -6.3831000328063965, -5.887899875640869, -6.461400032043457, -6.090199947357178, -6.899099826812744, -5.074999809265137, -5.633699893951416, -5.969699859619141, -5.830900192260742, -6.190899848937988, -5.291500091552734, -5.728000164031982, -5.40939998626709, -5.314499855041504, -5.977700233459473, -5.638599872589111, -6.011199951171875, -5.895299911499023, -5.896500110626221, -5.551300048828125, -5.539299964904785, -5.9430999755859375, -5.8958001136779785, -5.959400177001953, -5.848199844360352, -6.027200222015381, -6.058000087738037, -5.942800045013428, -6.005199909210205, -5.983799934387207, -6.025300025939941, -6.050099849700928, -5.420100212097168, -7.896900177001953, -8.313799858093262, -8.051799774169922, -8.142900466918945, -7.594299793243408, -8.388500213623047, -7.697400093078613, -6.596700191497803, -8.22130012512207, -6.5015997886657715, -8.623299598693848, -6.034599781036377, -8.549300193786621, -8.42020034790039, -8.502599716186523, -8.104900360107422, -8.41819953918457, -8.591099739074707, -8.599699974060059, -8.39229965209961, -8.635600090026855, -7.7993998527526855, -7.841700077056885, -7.804299831390381, -4.763400077819824, -8.4173002243042, -8.734100341796875, -8.576499938964844, -7.436100006103516, -7.523799896240234, -7.788700103759766, -5.541299819946289, -5.825799942016602, -4.80709981918335, -6.827899932861328, -5.142600059509277, -6.0005998611450195, -7.186200141906738, -6.4303998947143555, -6.634900093078613, -6.646900177001953, -5.795199871063232, -6.171299934387207, -5.75629997253418, -6.112500190734863, -6.150199890136719, -6.088900089263916, -6.869500160217285, -6.196700096130371, -5.2779998779296875, -6.398099899291992, -6.239999771118164, -5.565700054168701, -5.650599956512451, -5.997000217437744, -6.310100078582764, -5.574699878692627, -5.577400207519531, -5.858799934387207, -5.465700149536133, -5.81879997253418, -5.8225998878479, -5.750500202178955, -5.375899791717529, -5.760200023651123, -5.499599933624268, -5.888999938964844, -5.910200119018555, -5.8317999839782715, -5.762400150299072, -5.797999858856201, -5.826099872589111, -5.715000152587891, -5.8256001472473145, -5.802299976348877, -6.293900012969971, -4.793499946594238, -7.293300151824951, -6.630499839782715, -4.791900157928467, -6.810299873352051, -6.5142998695373535, -6.957399845123291, -7.833099842071533, -6.387700080871582, -6.856299877166748, -7.495200157165527, -5.0416998863220215, -7.296500205993652, -4.027200222015381, -6.70359992980957, -5.775199890136719, -7.921899795532227, -4.720600128173828, -7.348700046539307, -4.549900054931641, -7.181300163269043, -7.806700229644775, -5.774400234222412, -5.443399906158447, -7.269100189208984, -6.973100185394287, -6.074100017547607, -7.785600185394287, -7.479300022125244, -6.44920015335083, -5.502799987792969, -6.258299827575684, -5.4918999671936035, -5.29010009765625, -4.767099857330322, -4.27400016784668, -5.188600063323975, -4.731500148773193, -5.27370023727417, -5.406199932098389, -4.8292999267578125, -5.108699798583984, -5.216899871826172, -5.6016998291015625, -5.293399810791016, -5.463600158691406, -5.611700057983398, -5.42140007019043, -5.387199878692627, -5.802499771118164, -5.640500068664551, -5.539599895477295, -5.4405999183654785, -5.598599910736084, -5.673099994659424, -6.043300151824951, -6.426799774169922, -5.945199966430664, -7.067299842834473, -7.239500045776367, -7.171500205993652, -4.66349983215332, -7.173799991607666, -7.537499904632568, -7.537199974060059, -7.253200054168701, -7.367400169372559, -7.6992998123168945, -7.564000129699707, -5.672599792480469, -5.736299991607666, -5.751299858093262, -7.2596001625061035, -6.0447998046875, -7.508299827575684, -8.057000160217285, -6.979599952697754, -7.035299777984619, -7.9517998695373535, -8.090700149536133, -8.110799789428711, -8.012900352478027, -8.352299690246582, -8.27910041809082, -7.763000011444092, -6.814300060272217, -7.039400100708008, -4.788099765777588, -5.906300067901611, -6.1596999168396, -5.951099872589111, -4.77370023727417, -6.953000068664551, -5.661799907684326, -5.405900001525879, -5.3856000900268555, -5.5605998039245605, -5.209400177001953, -4.980199813842773, -5.5441999435424805, -5.3480000495910645, -5.820000171661377, -5.41349983215332, -5.302700042724609, -5.717100143432617, -5.687900066375732, -5.657899856567383, -5.618899822235107, -6.170100212097168, -5.713600158691406, -5.73799991607666, -5.624599933624268, -5.5553998947143555, -5.497099876403809, -5.462699890136719, -5.7093000411987305, -5.630199909210205, -5.7565999031066895, -5.729599952697754, -5.677700042724609, -7.037399768829346, -6.033699989318848, -7.60099983215332, -5.734499931335449, -7.343599796295166, -6.768400192260742, -7.773600101470947, -7.782899856567383, -8.082900047302246, -7.6915998458862305, -5.828499794006348, -7.154399871826172, -6.612599849700928, -7.319799900054932, -7.85099983215332, -8.24429988861084, -6.769700050354004, -6.750699996948242, -7.8933000564575195, -5.947999954223633, -7.98960018157959, -8.136199951171875, -7.153900146484375, -8.135299682617188, -8.215800285339355, -7.0625, -7.561500072479248, -7.088799953460693, -7.056099891662598, -7.161200046539307, -6.586299896240234, -5.246200084686279, -5.458399772644043, -5.912300109863281, -5.001999855041504, -6.176300048828125, -5.799799919128418, -5.90339994430542, -6.1894001960754395, -6.180600166320801, -6.497399806976318, -6.364799976348877, -6.490699768066406, -6.1128997802734375, -5.35129976272583, -6.759900093078613, -5.825399875640869, -6.556600093841553, -6.703000068664551, -5.383500099182129, -6.233500003814697, -6.014699935913086, -5.254300117492676, -5.460599899291992, -5.952400207519531, -5.642600059509277, -5.489999771118164, -5.467800140380859, -5.594299793243408, -5.7469000816345215, -5.947299957275391, -6.02239990234375, -5.911099910736084, -5.871200084686279, -5.9583001136779785, -5.947500228881836, -5.947500228881836, -5.946800231933594, -5.992000102996826, -6.014100074768066, -4.525400161743164, -4.238399982452393, -5.6875, -5.970699787139893, -5.005300045013428, -6.554800033569336, -5.807499885559082, -7.595699787139893, -7.596099853515625, -6.6915998458862305, -6.05210018157959, -3.881999969482422, -6.742300033569336, -5.220699787139893, -4.596499919891357, -6.3190999031066895, -7.162899971008301, -5.853700160980225, -6.082200050354004, -7.92710018157959, -6.732999801635742, -6.976200103759766, -6.96120023727417, -7.2154998779296875, -6.555699825286865, -7.900700092315674, -7.9710001945495605, -7.461400032043457, -7.4253997802734375, -5.843599796295166, -5.579400062561035, -6.619800090789795, -4.56220006942749, -6.28849983215332, -5.90500020980835, -5.165200233459473, -5.500100135803223, -6.098499774932861, -6.0096001625061035, -4.7891998291015625, -4.978000164031982, -5.513800144195557, -5.2342000007629395, -5.4791998863220215, -5.126100063323975, -5.493599891662598, -5.479499816894531, -5.354100227355957, -5.426799774169922, -5.705399990081787, -5.801199913024902, -5.716100215911865, -5.615799903869629, -5.711699962615967, -5.732100009918213, -5.72189998626709, -5.71589994430542, -5.803100109100342, -6.485199928283691, -6.866000175476074, -6.983699798583984, -6.495699882507324, -6.395500183105469, -6.5416998863220215, -7.267899990081787, -7.08489990234375, -7.601500034332275, -7.8454999923706055, -6.685299873352051, -7.481400012969971, -7.084499835968018, -6.65500020980835, -7.584099769592285, -7.639599800109863, -7.978700160980225, -8.056500434875488, -8.068599700927734, -7.973199844360352, -7.749899864196777, -8.070099830627441, -7.833000183105469, -7.920499801635742, -7.781400203704834, -7.779600143432617, -8.04259967803955, -7.367099761962891, -7.237599849700928, -8.051199913024902, -6.969399929046631, -7.367300033569336, -5.635499954223633, -7.392300128936768, -6.711400032043457, -6.941100120544434, -6.216700077056885, -6.8354997634887695, -6.2453999519348145, -5.234600067138672, -5.92710018157959, -5.674300193786621, -5.699100017547607, -6.790200233459473, -5.990300178527832, -5.1468000411987305, -6.847099781036377, -6.050600051879883, -5.29010009765625, -5.927499771118164, -5.002099990844727, -5.513599872589111, -5.565000057220459, -5.440000057220459, -6.398399829864502, -5.621200084686279, -5.611499786376953, -5.953199863433838, -5.802499771118164, -5.378900051116943, -5.728099822998047, -5.733699798583984, -5.722599983215332, -5.60860013961792, -5.667099952697754, -5.786499977111816, -5.617000102996826, -5.764500141143799, -5.700500011444092, -6.0055999755859375, -5.828000068664551, -5.921500205993652, -5.927299976348877, -5.968100070953369, -5.765600204467773, -6.434800148010254, -5.5524001121521, -6.438399791717529, -5.386199951171875, -4.408199787139893, -5.502200126647949, -3.774199962615967, -4.140699863433838, -5.0671000480651855, -6.506400108337402, -7.127399921417236, -6.925000190734863, -6.318999767303467, -3.990499973297119, -7.086999893188477, -7.228499889373779, -7.516600131988525, -3.4774999618530273, -6.273799896240234, -7.6209001541137695, -7.489699840545654, -4.682400226593018, -7.786099910736084, -7.279799938201904, -7.748300075531006, -7.1016998291015625, -7.02370023727417, -7.709499835968018, -6.9197001457214355, -4.089200019836426, -6.562300205230713, -4.366499900817871, -4.607500076293945, -4.688499927520752, -6.12939977645874, -5.844399929046631, -6.812699794769287, -6.160699844360352, -6.468100070953369, -5.112400054931641, -5.567299842834473, -5.974999904632568, -6.128399848937988, -4.905200004577637, -5.436200141906738, -5.9618000984191895, -5.303999900817871, -5.222300052642822, -5.437699794769287, -5.543799877166748, -5.710000038146973, -5.584000110626221, -5.690999984741211, -5.777500152587891, -5.688899993896484, -5.709099769592285, -5.641499996185303, -5.772600173950195, -5.469900131225586, -4.9517998695373535, -5.441500186920166, -6.4217000007629395, -7.020100116729736, -6.718200206756592, -6.9899001121521, -6.8109002113342285, -7.014200210571289, -7.044400215148926, -6.277599811553955, -7.452099800109863, -6.525700092315674, -6.553599834442139, -7.314300060272217, -5.458799839019775, -7.46750020980835, -6.3302998542785645, -6.733399868011475, -7.557700157165527, -4.8354997634887695, -5.153200149536133, -7.702199935913086, -7.449999809265137, -7.531799793243408, -7.473800182342529, -7.770299911499023, -7.726600170135498, -7.239699840545654, -7.412600040435791, -7.064499855041504, -6.643099784851074, -5.843400001525879, -5.253699779510498, -4.7916998863220215, -5.206900119781494, -5.848499774932861, -6.46589994430542, -4.639999866485596, -4.684500217437744, -5.417500019073486, -5.282199859619141, -6.144499778747559, -5.490300178527832, -5.705900192260742, -6.0507001876831055, -5.5817999839782715, -5.797500133514404, -5.991799831390381, -5.8871002197265625, -5.622700214385986, -5.752600193023682, -5.673600196838379, -5.623600006103516, -5.865600109100342, -5.654300212860107, -5.843699932098389, -5.926700115203857, -5.9116997718811035, -5.94379997253418, -5.925000190734863, -5.912799835205078, -6.645100116729736, -5.617000102996826, -6.122499942779541, -6.89109992980957, -4.174099922180176, -7.067800045013428, -6.949699878692627, -4.627200126647949, -5.538099765777588, -7.044000148773193, -5.186600208282471, -5.75439977645874, -7.055699825286865, -7.011499881744385, -7.318699836730957, -6.641200065612793, -6.991399765014648, -7.256499767303467, -7.285200119018555, -5.206200122833252, -5.937699794769287, -7.162799835205078, -5.367599964141846, -7.638199806213379, -7.724899768829346, -6.907599925994873, -7.73859977722168, -7.50600004196167, -7.309599876403809, -7.394999980926514, -6.49399995803833, -6.2403998374938965, -5.291500091552734, -4.171899795532227, -4.737500190734863, -4.271599769592285, -5.032800197601318, -5.872499942779541, -6.093999862670898, -4.864699840545654, -6.558899879455566, -5.048699855804443, -4.652400016784668, -5.468299865722656, -5.635900020599365, -5.873600006103516, -5.765500068664551, -6.123799800872803, -6.042699813842773, -5.5019001960754395, -5.591599941253662, -5.5609002113342285, -5.508299827575684, -5.713699817657471, -5.659599781036377, -5.627500057220459, -5.706600189208984, -5.861199855804443, -5.871699810028076, -5.872200012207031, -6.706099987030029, -6.9039998054504395, -6.491700172424316, -7.003799915313721, -7.089200019836426, -7.341000080108643, -7.378399848937988, -7.344699859619141, -6.5071001052856445, -6.980199813842773, -7.43209981918335, -6.717800140380859, -6.48390007019043, -7.014400005340576, -7.342700004577637, -7.43310022354126, -7.335999965667725, -7.412700176239014, -7.437399864196777, -7.357600212097168, -7.306099891662598, -7.4822998046875, -6.892000198364258, -6.942399978637695, -7.238399982452393, -6.947299957275391, -7.3317999839782715, -6.651700019836426, -6.632599830627441, -6.975100040435791, -6.319699764251709, -5.704800128936768, -6.1631999015808105, -6.094399929046631, -6.221499919891357, -5.9653000831604, -7.031599998474121, -5.4004998207092285, -6.309000015258789, -6.358699798583984, -6.752900123596191, -6.371099948883057, -4.809700012207031, -6.061800003051758, -5.921199798583984, -5.227399826049805, -5.109099864959717, -4.927499771118164, -5.256400108337402, -6.162399768829346, -5.2947998046875, -5.567800045013428, -5.972499847412109, -5.835000038146973, -5.752600193023682, -5.638700008392334, -5.8003997802734375, -6.015100002288818, -5.772600173950195, -5.834199905395508, -5.706600189208984, -6.0279998779296875, -6.029099941253662, -6.076200008392334, -5.944200038909912, -5.942599773406982, -5.956299781799316, -6.134500026702881, -6.119200229644775, -5.5817999839782715, -5.611700057983398, -6.1006999015808105, -6.397600173950195, -7.039700031280518, -7.0279998779296875, -6.8979997634887695, -7.129899978637695, -6.215000152587891, -6.609799861907959, -4.612400054931641, -6.893599987030029, -6.87939977645874, -7.321599960327148, -6.883399963378906, -7.313700199127197, -7.039899826049805, -7.2855000495910645, -6.941299915313721, -7.2789998054504395, -7.289599895477295, -7.470799922943115, -7.276299953460693, -7.347499847412109, -7.139699935913086, -7.254199981689453, -6.048099994659424, -6.76200008392334, -7.28879976272583, -7.181099891662598, -5.651100158691406, -5.401500225067139, -6.188899993896484, -5.0208001136779785, -6.815899848937988, -5.204400062561035, -6.372499942779541, -5.950200080871582, -6.612800121307373, -6.065800189971924, -5.492499828338623, -5.879499912261963, -5.1656999588012695, -5.6778998374938965, -5.08489990234375, -5.504000186920166, -6.1331000328063965, -5.526500225067139, -5.966899871826172, -5.708199977874756, -6.024899959564209, -5.485400199890137, -5.48330020904541, -5.637400150299072, -5.813700199127197, -5.637199878692627, -5.927299976348877, -5.826000213623047, -5.697999954223633, -5.636899948120117, -5.66510009765625, -5.831999778747559, -5.898900032043457, -5.882500171661377, -5.89739990234375, -5.873600006103516, -5.767300128936768, -5.762499809265137, -6.587699890136719, -6.396900177001953, -5.995299816131592, -6.5335001945495605, -6.962600231170654, -6.8190999031066895, -5.788899898529053, -6.847899913787842, -7.049099922180176, -6.5696001052856445, -7.131100177764893, -6.9105000495910645, -6.714399814605713, -7.162799835205078, -7.17519998550415, -7.247300148010254, -6.918600082397461, -6.4953999519348145, -6.096700191497803, -7.246500015258789, -7.167500019073486, -6.704899787902832, -7.2368998527526855, -7.333700180053711, -6.356100082397461, -7.340799808502197, -7.343800067901611, -7.240600109100342, -6.611800193786621, -6.579400062561035, -6.972899913787842, -6.754899978637695, -6.406700134277344, -5.968999862670898, -5.64769983291626, -6.019899845123291, -5.948800086975098, -6.8541998863220215, -6.541100025177002, -6.798399925231934, -5.418600082397461, -4.918399810791016, -5.289899826049805, -5.704999923706055, -4.9558000564575195, -5.413400173187256, -6.200900077819824, -5.43149995803833, -5.1915998458862305, -5.291500091552734, -5.569499969482422, -5.77370023727417, -6.101399898529053, -5.615300178527832, -5.597799777984619, -6.049900054931641, -5.78980016708374, -5.829500198364258, -5.830399990081787, -5.996799945831299, -5.916999816894531, -6.018899917602539, -5.953700065612793, -6.031000137329102, -6.033299922943115, -6.388299942016602, -5.7210001945495605, -6.38040018081665, -6.386199951171875, -6.374800205230713, -6.367099761962891, -6.382500171661377, -6.381100177764893, -6.386899948120117, -6.375199794769287, -6.3892998695373535, -5.980299949645996, -5.541800022125244, -6.376699924468994, -7.013800144195557, -6.382999897003174, -7.033899784088135, -7.0493998527526855, -7.032899856567383, -7.046800136566162, -7.075099945068359, -7.03439998626709, -4.3007001876831055, -7.073599815368652, -7.039000034332275, -7.036799907684326, -7.034299850463867, -7.035900115966797, -7.033999919891357, -7.037899971008301, -5.135000228881836, -6.375899791717529, -5.9903998374938965, -5.3109002113342285, -5.991300106048584, -5.982399940490723, -6.3765997886657715, -6.374899864196777, -5.7210001945495605, -5.837900161743164, -6.385000228881836, -6.259300231933594, -5.997300148010254, -6.2469000816345215, -4.825300216674805, -5.428299903869629, -5.420499801635742, -5.457799911499023, -4.806399822235107, -5.3043999671936035, -5.472599983215332, -5.334000110626221, -5.457300186157227, -5.212500095367432, -5.4394001960754395, -5.406499862670898, -5.980400085449219, -5.493199825286865, -5.526000022888184, -5.889900207519531, -5.68779993057251, -5.4517998695373535, -5.667900085449219, -5.649700164794922, -5.596799850463867, -5.651899814605713, -5.913899898529053, -5.896399974822998, -5.909900188446045, -5.3007001876831055, -5.34689998626709, -6.3881001472473145, -5.537199974060059, -6.353000164031982, -6.4899001121521, -6.40339994430542, -6.5954999923706055, -5.725100040435791, -6.621099948883057, -6.417099952697754, -5.807000160217285, -6.43149995803833, -6.4004998207092285, -5.753699779510498, -6.3902997970581055, -6.539700031280518, -4.582799911499023, -6.39870023727417, -6.5019001960754395, -6.47130012512207, -6.747900009155273, -6.734399795532227, -6.480999946594238, -6.398499965667725, -6.411399841308594, -6.400899887084961, -6.45359992980957, -6.931300163269043, -6.631899833679199, -5.775700092315674, -5.718299865722656, -5.36359977722168, -5.857800006866455, -5.736499786376953, -5.721399784088135, -5.89169979095459, -4.575200080871582, -5.811200141906738, -5.804299831390381, -5.883500099182129, -5.218699932098389, -5.585100173950195, -6.0655999183654785, -5.780700206756592, -6.013599872589111, -5.820199966430664, -5.514900207519531, -5.45389986038208, -5.9456000328063965, -5.833899974822998, -5.929299831390381, -5.9604997634887695, -5.610199928283691, -5.934599876403809, -5.871699810028076, -5.783299922943115, -5.8190999031066895, -5.886000156402588]}, \"token.table\": {\"Topic\": [2, 3, 1, 2, 3, 4, 5, 11, 13, 1, 2, 3, 10, 3, 4, 5, 6, 9, 10, 13, 1, 2, 3, 4, 5, 6, 7, 8, 9, 10, 11, 12, 13, 14, 2, 4, 6, 9, 1, 2, 3, 4, 5, 6, 7, 9, 10, 11, 1, 4, 5, 9, 10, 1, 2, 7, 13, 1, 2, 5, 8, 10, 14, 1, 2, 3, 4, 5, 6, 7, 8, 9, 10, 11, 12, 2, 3, 4, 5, 10, 11, 12, 1, 4, 7, 14, 1, 2, 4, 5, 7, 8, 9, 11, 1, 2, 3, 4, 5, 6, 7, 8, 9, 10, 11, 13, 2, 1, 2, 3, 6, 8, 10, 1, 2, 4, 5, 7, 9, 11, 15, 1, 2, 3, 4, 5, 6, 7, 11, 12, 13, 1, 3, 5, 6, 9, 11, 2, 3, 4, 5, 6, 7, 14, 1, 2, 3, 4, 5, 6, 7, 8, 9, 10, 11, 12, 13, 1, 3, 4, 5, 7, 9, 12, 1, 3, 4, 5, 7, 12, 2, 4, 11, 1, 2, 3, 4, 5, 6, 7, 8, 15, 1, 2, 4, 5, 10, 1, 2, 3, 4, 5, 6, 7, 8, 9, 10, 11, 12, 13, 1, 2, 3, 6, 7, 8, 3, 4, 13, 1, 2, 3, 4, 6, 10, 15, 1, 2, 8, 11, 12, 1, 2, 3, 4, 6, 2, 3, 4, 5, 1, 5, 7, 1, 5, 7, 10, 11, 13, 1, 2, 3, 4, 5, 6, 7, 9, 10, 12, 13, 1, 5, 2, 3, 1, 2, 3, 4, 5, 6, 7, 8, 9, 10, 11, 12, 13, 14, 2, 3, 6, 9, 10, 14, 2, 4, 7, 10, 12, 1, 3, 5, 9, 12, 1, 4, 5, 9, 13, 4, 5, 7, 11, 2, 3, 8, 10, 1, 3, 5, 10, 14, 1, 7, 13, 14, 2, 3, 4, 1, 5, 7, 9, 13, 14, 1, 2, 3, 4, 5, 6, 7, 8, 9, 10, 11, 13, 14, 4, 5, 7, 9, 13, 14, 1, 2, 3, 6, 7, 8, 10, 4, 5, 1, 2, 3, 4, 5, 6, 7, 8, 9, 10, 11, 12, 13, 14, 1, 4, 5, 7, 1, 5, 11, 13, 2, 6, 12, 3, 5, 7, 8, 11, 13, 2, 6, 10, 12, 13, 2, 3, 8, 1, 4, 5, 7, 1, 2, 3, 4, 5, 6, 7, 8, 9, 10, 11, 12, 13, 1, 4, 7, 11, 1, 2, 4, 6, 12, 1, 5, 7, 12, 2, 6, 10, 12, 13, 1, 2, 3, 4, 9, 11, 14, 1, 4, 5, 11, 12, 1, 2, 3, 4, 5, 8, 9, 10, 12, 13, 1, 2, 3, 4, 5, 6, 7, 8, 9, 10, 11, 1, 3, 5, 11, 14, 1, 2, 3, 4, 6, 7, 9, 10, 13, 6, 10, 1, 4, 5, 7, 13, 1, 4, 13, 2, 3, 8, 10, 4, 5, 9, 1, 12, 13, 2, 3, 6, 10, 13, 1, 7, 8, 9, 13, 14, 1, 2, 3, 4, 5, 6, 7, 8, 9, 12, 13, 1, 2, 3, 4, 5, 6, 8, 9, 11, 13, 14, 1, 5, 9, 12, 1, 5, 8, 1, 4, 5, 5, 7, 11, 12, 1, 3, 4, 6, 10, 11, 12, 1, 2, 3, 4, 5, 6, 7, 8, 9, 10, 11, 12, 13, 14, 1, 2, 3, 4, 5, 7, 12, 14, 1, 2, 3, 4, 5, 6, 7, 8, 9, 10, 11, 12, 13, 14, 3, 6, 2, 3, 1, 4, 5, 7, 9, 11, 1, 3, 5, 6, 13, 1, 5, 7, 1, 2, 6, 10, 11, 1, 2, 3, 4, 6, 8, 2, 3, 6, 8, 9, 10, 11, 1, 2, 3, 4, 5, 6, 7, 8, 10, 11, 13, 15, 1, 2, 3, 4, 5, 6, 7, 8, 9, 10, 11, 12, 13, 1, 7, 11, 13, 2, 3, 12, 2, 3, 1, 2, 3, 4, 5, 6, 8, 10, 15, 1, 5, 11, 13, 1, 4, 12, 13, 1, 2, 4, 6, 9, 10, 3, 4, 9, 10, 2, 8, 1, 3, 4, 5, 7, 12, 14, 2, 3, 2, 6, 10, 11, 1, 2, 3, 4, 6, 7, 8, 10, 13, 2, 8, 1, 2, 3, 4, 5, 6, 7, 8, 9, 10, 11, 12, 13, 14, 5, 11, 13, 2, 5, 9, 1, 2, 3, 4, 5, 6, 7, 9, 15, 1, 2, 11, 1, 2, 3, 5, 6, 7, 8, 10, 1, 3, 7, 13, 1, 3, 4, 10, 1, 2, 3, 4, 5, 6, 7, 8, 12, 2, 3, 1, 4, 7, 8, 10, 11, 1, 2, 5, 7, 8, 1, 3, 6, 11, 1, 2, 3, 4, 5, 6, 9, 15, 2, 3, 5, 6, 8, 4, 5, 7, 1, 4, 5, 14, 1, 5, 14, 1, 2, 3, 4, 5, 8, 9, 10, 1, 4, 5, 7, 1, 4, 5, 6, 14, 1, 2, 3, 4, 5, 6, 7, 8, 10, 13, 1, 2, 3, 4, 5, 6, 7, 8, 9, 10, 1, 7, 1, 5, 7, 9, 1, 3, 4, 5, 9, 12, 13, 1, 2, 3, 4, 5, 6, 7, 9, 14, 15, 1, 3, 4, 5, 7, 8, 10, 13, 1, 3, 4, 5, 7, 2, 6, 10, 11, 12, 15, 2, 3, 6, 8, 2, 3, 8, 1, 2, 3, 4, 5, 6, 7, 8, 9, 10, 13, 14, 1, 2, 3, 4, 5, 6, 7, 8, 9, 10, 11, 12, 13, 1, 2, 3, 4, 5, 6, 7, 8, 9, 10, 11, 12, 13, 14, 1, 2, 3, 4, 5, 6, 7, 8, 9, 10, 11, 12, 13, 1, 2, 3, 4, 5, 6, 7, 9, 12, 13, 14, 1, 4, 7, 11, 2, 3, 8, 1, 3, 4, 7, 12, 1, 5, 7, 4, 2, 6, 1, 5, 7, 1, 2, 3, 4, 6, 12, 1, 2, 3, 4, 5, 7, 9, 12, 1, 4, 5, 9, 11, 14, 2, 8, 1, 4, 7, 9, 1, 7, 11, 13, 1, 2, 3, 5, 6, 7, 9, 14, 1, 4, 9, 11, 1, 2, 3, 4, 5, 6, 7, 8, 9, 10, 11, 12, 13, 1, 5, 12, 1, 2, 9, 2, 3, 4, 11, 13, 1, 2, 3, 4, 5, 6, 7, 9, 10, 13, 15, 3, 6, 1, 3, 5, 7, 8, 9, 2, 3, 1, 2, 3, 4, 5, 6, 7, 8, 9, 10, 11, 12, 13, 14, 1, 2, 3, 4, 5, 6, 7, 10, 12, 1, 5, 7, 9, 13, 5, 7, 9, 10, 1, 2, 5, 6, 8, 12, 1, 3, 5, 7, 8, 9, 12, 13, 1, 2, 3, 4, 5, 6, 7, 8, 9, 11, 13, 14, 1, 3, 4, 5, 7, 9, 12, 1, 2, 3, 4, 5, 6, 7, 12, 13, 1, 2, 4, 5, 7, 9, 10, 11, 2, 3, 4, 5, 8, 9, 1, 2, 3, 4, 7, 9, 11, 1, 2, 3, 4, 5, 6, 7, 8, 10, 13, 1, 2, 3, 4, 5, 6, 8, 10, 1, 4, 14, 2, 3, 8, 10, 1, 2, 3, 4, 5, 6, 7, 10, 11, 12, 13, 15, 1, 5, 2, 3, 12, 2, 3, 1, 5, 7, 9, 11, 12, 13, 1, 4, 9, 13, 2, 3, 4, 6, 9, 12, 2, 10, 1, 7, 2, 3, 5, 6, 8, 1, 2, 3, 4, 5, 7, 9, 11, 12, 13, 1, 5, 2, 3, 6, 7, 10, 4, 1, 5, 7, 12, 13, 1, 4, 5, 7, 11, 13, 14, 1, 2, 3, 4, 5, 6, 7, 8, 9, 10, 11, 12, 13, 14, 1, 2, 4, 6, 7, 8, 13, 1, 2, 3, 4, 5, 6, 7, 8, 9, 13, 8, 1, 2, 4, 5, 11, 1, 2, 3, 4, 5, 6, 7, 8, 9, 10, 11, 12, 13, 14, 1, 2, 3, 4, 5, 6, 7, 8, 9, 10, 11, 12, 13, 14, 1, 4, 7, 9, 1, 2, 3, 4, 5, 6, 7, 8, 9, 10, 11, 12, 13, 14, 1, 2, 3, 4, 5, 6, 9, 11, 12, 1, 5, 11, 1, 2, 3, 4, 5, 7, 9, 12, 1, 2, 3, 4, 5, 6, 7, 8, 9, 10, 12, 13, 2, 3, 8, 10, 1, 7, 13, 1, 2, 3, 4, 5, 6, 7, 8, 9, 10, 11, 12, 13, 14, 1, 2, 3, 4, 5, 6, 7, 8, 9, 10, 12, 13, 14, 1, 2, 3, 4, 5, 6, 7, 8, 9, 10, 12, 1, 2, 3, 4, 5, 6, 7, 8, 9, 10, 11, 12, 13, 15, 1, 5, 12, 13, 2, 3, 8, 4, 5, 8, 11, 1, 2, 3, 4, 7, 8, 3, 5, 6, 10, 11, 2, 6, 1, 5, 1, 3, 4, 5, 7, 11, 13, 5, 7, 14, 2, 6, 10, 13, 1, 2, 3, 4, 5, 6, 8, 11, 1, 7, 9, 1, 4, 5, 7, 11, 12, 1, 2, 3, 4, 5, 7, 9, 12, 1, 4, 1, 3, 4, 5, 7, 9, 11, 12, 13, 14, 1, 2, 3, 4, 5, 6, 7, 8, 9, 10, 11, 12, 1, 4, 1, 2, 3, 4, 5, 7, 9, 10, 12, 14, 1, 4, 10, 13, 1, 2, 10, 1, 4, 6, 7, 11, 1, 2, 3, 4, 5, 7, 8, 9, 10, 11, 13, 2, 6, 15, 1, 4, 5, 7, 11, 5, 7, 13, 1, 4, 5, 7, 9, 10, 11, 1, 2, 3, 4, 5, 6, 7, 8, 9, 10, 11, 12, 13, 15, 1, 8, 13, 1, 7, 11, 13, 1, 2, 3, 4, 5, 6, 7, 8, 9, 10, 11, 13, 1, 2, 3, 4, 5, 6, 7, 8, 9, 10, 11, 13, 1, 3, 5, 7, 11, 1, 2, 3, 4, 5, 6, 7, 9, 10, 12, 14, 2, 3, 1, 7, 9, 1, 2, 3, 4, 5, 6, 7, 8, 9, 10, 11, 12, 13, 2, 6, 1, 2, 3, 4, 5, 6, 7, 8, 9, 10, 11, 12, 13, 1, 3, 7, 9, 14, 1, 7, 9, 11, 12, 1, 2, 3, 4, 5, 6, 7, 8, 9, 10, 11, 12, 13, 15, 1, 2, 3, 4, 5, 8, 10, 12, 1, 9, 12, 1, 2, 3, 4, 5, 7, 10, 11, 14, 1, 2, 3, 4, 5, 6, 7, 8, 9, 10, 11, 12, 13, 1, 2, 3, 4, 5, 6, 7, 9, 10, 12, 1, 7, 13, 1, 2, 3, 4, 5, 6, 7, 8, 9, 10, 11, 12, 13, 14, 1, 2, 3, 4, 5, 6, 7, 8, 9, 10, 11, 12, 13, 14, 1, 3, 9, 1, 2, 3, 4, 5, 6, 7, 8, 9, 10, 12, 13, 2, 3, 8, 1, 2, 3, 5, 12, 2, 3, 1, 2, 3, 4, 5, 6, 7, 8, 9, 10, 11, 12, 13, 3, 4, 5, 12, 1, 2, 4, 5, 11, 13, 1, 2, 3, 4, 5, 6, 7, 8, 9, 10, 11, 12, 13, 14, 1, 2, 3, 4, 5, 6, 7, 8, 9, 10, 11, 12, 13, 14, 1, 2, 3, 4, 5, 6, 7, 8, 9, 11, 13, 1, 2, 7, 8, 9, 10, 11, 13, 1, 4, 1, 5, 11, 12, 2, 6, 2, 3, 4, 5, 7, 1, 9, 11, 12, 1, 2, 3, 4, 5, 6, 7, 8, 9, 10, 11, 12, 13, 14, 1, 2, 3, 4, 5, 6, 7, 8, 9, 10, 12, 13, 1, 2, 3, 4, 5, 6, 9, 2, 3, 4, 13, 1, 3, 5, 6, 7, 9, 10, 1, 2, 3, 4, 5, 6, 7, 8, 9, 10, 11, 12, 13, 1, 2, 3, 4, 5, 6, 7, 8, 9, 10, 11, 12, 13, 14, 15, 1, 2, 3, 4, 5, 6, 7, 8, 9, 11, 12, 14, 1, 2, 3, 4, 5, 7, 8, 9, 10, 15, 1, 3, 4, 5, 9, 12, 13, 6, 10, 15, 1, 2, 6, 5, 7, 12, 13, 1, 5, 7, 1, 2, 3, 4, 5, 6, 8, 10, 1, 2, 3, 4, 5, 6, 7, 8, 9, 10, 11, 12, 13, 14, 3, 4, 7, 11, 2, 4, 1, 2, 4, 5, 6, 7, 8, 9, 10, 11, 1, 5, 2, 3, 4, 9, 10, 1, 4, 9, 4, 1, 2, 3, 11, 1, 3, 4, 5, 8, 12, 4, 7, 1, 2, 3, 7, 10, 2, 3, 1, 4, 5, 7, 8, 14, 1, 2, 3, 4, 5, 6, 7, 9, 10, 12, 13, 4, 1, 5, 7, 11, 12, 13, 14, 2, 3, 8, 1, 2, 3, 4, 5, 6, 7, 8, 9, 10, 12, 13, 14, 6, 10, 6, 1, 2, 3, 4, 5, 6, 7, 8, 9, 10, 11, 12, 13, 1, 5, 12, 2, 3, 6, 10, 13, 1, 2, 3, 4, 5, 6, 7, 8, 9, 10, 11, 12, 13, 2, 3, 4, 6, 12, 1, 3, 4, 5, 9, 1, 2, 3, 4, 5, 6, 7, 8, 9, 10, 11, 12, 13, 14, 15, 1, 2, 3, 4, 5, 6, 7, 8, 9, 10, 12, 13, 1, 3, 4, 5, 6, 7, 12, 14, 5, 6, 9, 12, 13, 14, 1, 2, 3, 4, 5, 6, 7, 8, 9, 10, 11, 12, 13, 1, 2, 3, 4, 5, 6, 7, 8, 9, 10, 11, 13, 1, 2, 6, 8, 10, 11, 1, 2, 4, 7, 11, 14, 1, 2, 3, 4, 5, 6, 7, 8, 9, 10, 11, 12, 13, 14, 1, 2, 3, 4, 5, 6, 7, 8, 9, 13, 1, 2, 3, 4, 6, 7, 8, 10, 1, 2, 5, 7, 4, 1, 2, 3, 4, 5, 6, 7, 8, 9, 10, 11, 12, 13, 14, 1, 5, 13, 2, 3, 1, 3, 5, 7, 11, 12, 1, 2, 3, 4, 5, 6, 7, 8, 9, 10, 11, 12, 13, 14, 1, 2, 3, 4, 5, 6, 7, 8, 9, 10, 11, 12, 13, 14, 1, 2, 7, 1, 2, 3, 4, 5, 6, 7, 8, 9, 10, 11, 12, 13, 14, 1, 2, 3, 4, 5, 6, 7, 8, 9, 10, 11, 13, 4, 5, 7, 14, 1, 2, 3, 4, 5, 6, 7, 8, 9, 10, 11, 12, 13, 14, 15, 1, 2, 3, 4, 5, 6, 7, 8, 9, 10, 11, 12, 13, 14, 1, 2, 3, 4, 5, 6, 7, 8, 9, 11, 12, 13, 1, 4, 5, 7, 14, 2, 6, 10, 12, 1, 2, 4, 5, 6, 7, 8, 9, 12, 13, 14, 1, 2, 3, 4, 5, 6, 7, 8, 9, 10, 11, 12, 13, 14, 2, 6, 10, 1, 2, 3, 4, 5, 6, 7, 8, 9, 11, 12, 15, 1, 3, 5, 6, 7, 10, 1, 2, 3, 4, 5, 6, 7, 8, 9, 10, 11, 12, 13, 14, 15, 1, 2, 3, 4, 5, 6, 7, 8, 9, 10, 11, 12, 13, 14, 1, 2, 3, 4, 5, 6, 7, 8, 9, 10, 11, 12, 13, 14, 6, 10, 11, 6, 1, 2, 3, 7, 8, 9, 11, 12, 14, 2, 6, 10, 13, 4, 1, 2, 3, 4, 5, 6, 7, 8, 10, 12, 1, 3, 4, 5, 7, 8, 9, 11, 12, 13, 14, 1, 4, 5, 7, 9, 10, 11, 12, 1, 5, 7, 9, 14, 1, 3, 4, 5, 8, 1, 5, 7, 11, 13, 5, 1, 3, 7, 10, 12, 14, 1, 2, 6, 8, 9, 10, 13, 1, 2, 3, 4, 5, 6, 7, 8, 9, 10, 11, 12, 13, 14, 3, 2, 8, 5, 6, 7, 10, 11, 2, 3, 8, 1, 5, 7, 1, 2, 3, 4, 5, 6, 7, 8, 9, 10, 11, 13, 14, 4, 5, 9, 2, 3, 1, 2, 4, 5, 6, 7, 9, 10, 13, 14, 4, 1, 2, 3, 4, 5, 6, 7, 8, 9, 12, 2, 3, 4, 5, 6, 9, 10, 1, 5, 11, 12, 1, 2, 5, 7, 9, 11, 12, 13, 1, 5, 9, 1, 4, 14, 1, 2, 4, 7, 9, 11, 12, 2, 6, 10, 13, 1, 2, 3, 5, 6, 12, 1, 2, 3, 4, 5, 7, 9, 11, 13, 2, 3, 8, 10, 2, 8, 1, 5, 9, 4, 11, 1, 2, 3, 4, 5, 6, 7, 8, 9, 10, 11, 12, 13, 14, 1, 2, 3, 4, 5, 6, 7, 8, 9, 10, 11, 12, 13, 14, 4, 2, 3, 13, 1, 5, 7, 12, 13, 1, 2, 3, 4, 5, 6, 7, 8, 9, 10, 11, 12, 13, 14, 1, 5, 7, 11, 12, 13, 1, 4, 5, 7, 9, 11, 12, 1, 2, 3, 7, 8, 1, 5, 1, 4, 5, 9, 1, 2, 3, 4, 5, 6, 7, 8, 9, 10, 11, 12, 13, 1, 3, 4, 8, 9, 1, 2, 3, 4, 5, 6, 7, 8, 9, 10, 11, 12, 13, 14, 1, 4, 7, 14, 1, 5, 7, 12, 13, 1, 2, 3, 4, 5, 6, 7, 8, 9, 10, 11, 12, 13, 14, 1, 2, 4, 5, 7, 8, 9, 11, 13, 14, 2, 6, 13, 1, 3, 8, 13, 2, 3, 6, 10, 1, 2, 3, 4, 5, 6, 7, 8, 9, 10, 11, 12, 13, 2, 8, 1, 5, 7, 13, 3, 4, 7, 1, 2, 6, 7, 2, 3, 4, 9, 12, 2, 6, 8, 10, 1, 2, 3, 4, 5, 6, 7, 8, 9, 10, 11, 12, 13, 14, 1, 2, 3, 4, 5, 6, 7, 8, 9, 10, 11, 12, 13, 14, 1, 3, 4, 5, 10, 12, 13, 1, 4, 7, 8, 9, 1, 2, 3, 4, 5, 6, 7, 8, 9, 10, 11, 12, 14, 2, 6, 1, 2, 3, 4, 5, 6, 10, 11, 12, 15, 1, 2, 3, 6, 7, 8, 12, 1, 5, 13, 1, 2, 5, 7, 9, 1, 2, 3, 4, 5, 6, 7, 8, 9, 10, 11, 12, 1, 5, 7, 1, 2, 3, 4, 5, 6, 7, 9, 12, 1, 4, 6, 11, 12, 13, 14, 2, 3, 8, 1, 2, 3, 4, 6, 7, 8, 9, 13, 14, 1, 2, 3, 5, 6, 7, 8, 10, 11, 13, 1, 2, 3, 4, 5, 6, 7, 8, 9, 14, 15, 1, 2, 3, 4, 5, 7, 9, 11, 14, 1, 2, 6, 10, 1, 4, 5, 7, 9, 11, 12, 13, 1, 5, 7, 13, 1, 2, 7, 1, 5, 2, 6, 15, 1, 5, 7, 8, 9, 1, 4, 5, 7, 9, 11, 1, 3, 4, 9, 2, 3, 6, 10, 1, 4, 7, 12, 4, 1, 14, 4, 1, 2, 3, 4, 5, 6, 7, 8, 9, 10, 11, 12, 13, 2, 4, 5, 1, 2, 4, 5, 6, 9, 11, 1, 2, 3, 4, 5, 6, 7, 8, 9, 10, 13, 1, 2, 3, 4, 5, 6, 7, 8, 9, 11, 14, 1, 5, 9, 14, 1, 2, 3, 4, 6, 8, 9, 11, 1, 4, 5, 6, 7, 8, 1, 4, 5, 7, 9, 11, 1, 2, 3, 6, 7, 8, 13, 14, 3, 6, 7, 10, 13, 1, 3, 4, 6, 7, 13, 1, 2, 3, 5, 1, 4, 7, 11, 14, 2, 6, 8, 10, 1, 5, 7, 3, 6, 7, 10, 1, 3, 4, 5, 7, 9, 10, 11, 12, 1, 5, 7, 10, 11, 12, 1, 5, 7, 11, 12, 1, 2, 3, 12, 1, 5, 7, 11, 13, 14, 1, 3, 7, 9, 11, 13, 14, 2, 3, 1, 2, 3, 5, 1, 5, 1, 2, 3, 4, 5, 6, 7, 8, 9, 10, 11, 13, 14, 1, 2, 3, 5, 6, 8, 10, 1, 2, 3, 10, 2, 3, 4, 1, 2, 3, 4, 5, 7, 9, 10, 11, 13, 14, 1, 4, 5, 7, 10, 1, 2, 3, 4, 5, 6, 7, 8, 9, 11, 12, 13, 2, 6, 7, 8, 13, 1, 2, 3, 4, 5, 6, 9, 2, 10, 1, 4, 12, 1, 6, 7, 11, 2, 3, 5, 6, 8, 1, 4, 5, 6, 13, 1, 2, 3, 5, 6, 7, 1, 2, 3, 4, 5, 6, 7, 8, 9, 10, 12, 13, 1, 2, 4, 5, 6, 7, 9, 10, 11, 13, 1, 2, 4, 5, 6, 8, 10, 11, 1, 5, 11, 12, 1, 2, 4, 5, 6, 7, 9, 15, 1, 4, 6, 7, 8, 9, 1, 4, 5, 7, 9, 10, 1, 5, 7, 9, 1, 2, 3, 4, 5, 6, 7, 8, 9, 10, 11, 12, 13, 14, 1, 5, 7, 2, 6, 10, 11, 1, 2, 3, 4, 5, 6, 7, 8, 9, 10, 11, 12, 13, 14, 15, 1, 5, 11, 1, 4, 5, 7, 9, 11, 13, 14, 1, 5, 7, 11, 13, 14, 1, 4, 1, 3, 4, 5, 9, 13, 14, 1, 2, 3, 4, 5, 6, 7, 8, 9, 10, 11, 12, 13, 14, 1, 3, 5, 6, 7, 13, 1, 2, 3, 4, 5, 6, 7, 8, 9, 10, 11, 14, 15, 1, 2, 3, 4, 5, 7, 8, 9, 10, 11, 12, 13, 1, 3, 4, 5, 7, 9, 10, 11, 13, 5, 7, 10, 1, 4, 5, 7, 8, 9, 11, 1, 2, 3, 5, 6, 8, 12, 1, 2, 3, 4, 5, 6, 7, 8, 9, 10, 11, 12, 13, 1, 2, 3, 4, 5, 6, 7, 8, 9, 10, 11, 12, 13, 14, 3, 4, 5, 7, 1, 2, 4, 5, 7, 1, 4, 1, 4, 5, 6, 9, 11, 4, 5, 14, 2, 5, 7, 8, 9, 1, 2, 3, 4, 6, 10, 1, 4, 5, 7, 9, 11, 1, 2, 3, 4, 5, 6, 7, 8, 9, 10, 11, 12, 13, 1, 5, 1, 2, 3, 4, 5, 6, 7, 8, 9, 10, 11, 12, 1, 2, 3, 4, 5, 6, 7, 8, 9, 10, 11, 12, 13, 1, 2, 3, 4, 6, 7, 8, 9, 10, 12, 13, 1, 2, 3, 5, 7, 8, 15, 2, 3, 7, 9, 12, 1, 2, 3, 4, 5, 7, 8, 10, 13, 1, 2, 3, 4, 5, 6, 7, 8, 9, 11, 12, 13, 14, 15, 1, 2, 3, 5, 9, 10, 12, 13, 1, 7, 14, 1, 2, 3, 4, 5, 8, 12, 13, 1, 2, 3, 4, 11, 12, 13, 1, 2, 3, 4, 5, 6, 7, 8, 9, 10, 11, 12, 13, 14, 4, 1, 2, 3, 4, 5, 6, 7, 9, 10, 11, 12, 14, 1, 3, 4, 5, 7, 13, 1, 2, 7, 9, 10, 5, 7, 9, 12, 1, 5, 7, 11, 1, 2, 3, 4, 5, 6, 7, 8, 9, 10, 11, 12, 13, 14, 1, 3, 4, 7, 10, 1, 2, 1, 4, 5, 7, 9, 14, 1, 2, 3, 4, 5, 6, 7, 8, 11, 13, 1, 2, 5, 13, 1, 2, 3, 4, 5, 6, 7, 8, 9, 10, 11, 12, 15, 1, 4, 5, 7, 9, 13, 2, 5, 7, 8, 9, 1, 2, 4, 5, 6, 7, 8, 9, 10, 13, 1, 2, 4, 5, 7, 8, 13, 1, 5, 7, 9, 13, 3, 8, 3, 8, 1, 2, 3, 4, 5, 6, 7, 8, 9, 10, 11, 12, 13, 14, 4, 1, 2, 3, 4, 5, 6, 7, 8, 9, 10, 11, 13, 14, 1, 4, 5, 7, 14, 15, 1, 2, 3, 4, 5, 6, 7, 8, 9, 10, 13, 1, 4, 5, 7, 9, 10, 11, 12, 1, 2, 3, 5, 6, 7, 9, 14, 1, 2, 3, 7, 5, 7, 13, 1, 2, 3, 5, 6, 7, 10, 11, 1, 2, 3, 4, 5, 6, 7, 8, 9, 10, 11, 12, 13, 14, 1, 2, 3, 4, 5, 6, 7, 8, 9, 10, 11, 12, 13, 1, 2, 3, 4, 5, 6, 7, 8, 10, 12, 15, 2, 3, 2, 3, 1, 2, 3, 4, 5, 6, 7, 8, 9, 12, 13, 1, 2, 5, 6, 8, 14, 1, 2, 4, 5, 6, 10, 11, 1, 2, 3, 4, 5, 6, 7, 8, 9, 10, 11, 12, 13, 15, 2, 3, 1, 2, 3, 4, 5, 6, 7, 9, 11, 12, 1, 3, 5, 7, 9, 11, 12, 1, 2, 7, 11, 1, 2, 3, 4, 5, 6, 7, 8, 9, 10, 11, 12, 13, 14, 1, 12, 1, 2, 4, 5, 7, 8, 9, 10, 1, 7, 1, 3, 4, 6, 7, 8, 9, 10, 1, 2, 3, 4, 5, 6, 9, 1, 2, 3, 4, 5, 6, 7, 8, 9, 10, 11, 12, 13, 14, 1, 2, 3, 4, 5, 6, 7, 8, 9, 10, 11, 12, 13, 14, 4, 7, 10, 4, 5, 1, 3, 4, 5, 7, 1, 2, 3, 4, 5, 6, 7, 8, 9, 10, 11, 12, 13, 14, 15, 1, 4, 5, 7, 14, 3, 4, 5, 7, 1, 2, 3, 4, 5, 6, 7, 8, 9, 10, 11, 12, 13, 1, 4, 9, 1, 2, 3, 4, 5, 6, 7, 8, 9, 10, 11, 12, 13, 1, 2, 3, 4, 5, 6, 7, 8, 9, 10, 11, 12, 13, 14, 2, 4, 6, 7, 9, 1, 2, 3, 4, 5, 6, 7, 8, 9, 10, 11, 12, 1, 2, 3, 4, 5, 6, 9, 13, 1, 4, 5, 1, 3, 4, 5, 7, 9, 10, 14, 1, 2, 3, 4, 5, 7, 8, 9, 11, 12, 1, 3, 4, 6, 7, 9, 14, 1, 5, 9, 11, 1, 3, 5, 6, 1, 2, 3, 4, 5, 6, 7, 8, 9, 10, 12, 13, 14, 2, 4, 5, 7, 1, 2, 3, 4, 5, 6, 7, 8, 9, 10, 11, 12, 13, 14, 15, 1, 2, 3, 4, 5, 6, 7, 9, 10, 12, 15, 1, 4, 5, 7, 12, 1, 2, 4, 13, 1, 2, 3, 4, 6, 7, 8, 9, 10, 11, 13, 1, 4, 6, 9, 1, 7, 9, 1, 5, 13, 2, 3, 4, 8, 2, 8, 2, 3, 13, 2, 1, 3, 4, 5, 10, 11, 2, 4, 5, 8, 15, 1, 4, 5, 8, 9, 12, 13, 2, 3, 1, 4, 7, 8, 12, 1, 3, 4, 7, 8, 13, 14, 1, 2, 3, 4, 5, 6, 7, 8, 10, 1, 2, 3, 6, 9, 10, 11, 13, 1, 4, 5, 7, 11, 1, 4, 7, 9, 1, 5, 7, 11, 12, 14, 4, 5, 9, 1, 2, 3, 4, 5, 6, 7, 8, 9, 10, 11, 12, 13, 15, 1, 2, 3, 4, 5, 6, 1, 2, 3, 7, 12, 1, 4, 5, 7, 11, 1, 2, 3, 4, 5, 6, 7, 8, 9, 11, 12, 13, 15, 1, 3, 4, 5, 7, 1, 2, 3, 4, 5, 6, 7, 8, 9, 10, 11, 12, 13, 14, 15, 3, 6, 1, 2, 3, 4, 5, 6, 7, 8, 9, 10, 11, 12, 13, 14, 2, 3, 4, 12, 3, 1, 5, 6, 7, 2, 6, 7, 10, 13, 1, 2, 3, 5, 6, 8, 9, 10, 12, 13, 2, 3, 8, 1, 5, 11, 1, 2, 3, 4, 5, 6, 7, 9, 10, 13, 14, 1, 5, 8, 2, 3, 12, 1, 2, 3, 4, 5, 15, 1, 2, 3, 4, 5, 6, 7, 8, 9, 10, 11, 12, 13, 1, 2, 3, 4, 5, 6, 7, 8, 9, 11, 12, 13, 14, 1, 2, 3, 4, 5, 6, 7, 8, 9, 10, 11, 12, 15, 2, 4, 5, 7, 14, 1, 2, 7, 9, 10, 11, 14, 1, 2, 3, 4, 5, 6, 7, 9, 10, 12, 13, 14, 2, 3, 4, 9, 10, 1, 2, 3, 4, 5, 6, 7, 8, 9, 10, 11, 12, 13, 1, 2, 3, 4, 5, 6, 7, 8, 9, 10, 11, 12, 13, 14, 1, 2, 4, 5, 6, 8, 10, 11, 12, 1, 2, 3, 5, 7, 13, 5], \"Freq\": [0.062104396522045135, 0.900513768196106, 0.1807153820991516, 0.1807153820991516, 0.0903576910495758, 0.1807153820991516, 0.1807153820991516, 0.0903576910495758, 0.0903576910495758, 0.09548334032297134, 0.3819333612918854, 0.1909666806459427, 0.1909666806459427, 0.05590552091598511, 0.27952760457992554, 0.11181104183197021, 0.22362208366394043, 0.05590552091598511, 0.05590552091598511, 0.16771656274795532, 0.1391541212797165, 0.38472020626068115, 0.20463840663433075, 0.0450204499065876, 0.024556608870625496, 0.10231920331716537, 0.03274214640259743, 0.03274214640259743, 0.004092768300324678, 0.012278304435312748, 0.004092768300324678, 0.008185536600649357, 0.004092768300324678, 0.004092768300324678, 0.1338425874710083, 0.06692129373550415, 0.6692129373550415, 0.06692129373550415, 0.19190599024295807, 0.05904799699783325, 0.05904799699783325, 0.13285799324512482, 0.16238199174404144, 0.16238199174404144, 0.04428599774837494, 0.07380999624729156, 0.04428599774837494, 0.05904799699783325, 0.03573579341173172, 0.9291306138038635, 0.007147158496081829, 0.014294316992163658, 0.007147158496081829, 0.18728043138980865, 0.46820107102394104, 0.09364021569490433, 0.09364021569490433, 0.3726562559604645, 0.18632812798023224, 0.09316406399011612, 0.09316406399011612, 0.09316406399011612, 0.09316406399011612, 0.08741249889135361, 0.38765543699264526, 0.11021576076745987, 0.04180597886443138, 0.03040434792637825, 0.1634233593940735, 0.07981140911579132, 0.0608086958527565, 0.01900271698832512, 0.0038005434907972813, 0.0038005434907972813, 0.0038005434907972813, 0.09217459708452225, 0.09217459708452225, 0.27652379870414734, 0.09217459708452225, 0.09217459708452225, 0.09217459708452225, 0.09217459708452225, 0.17372886836528778, 0.17372886836528778, 0.5211865901947021, 0.08686443418264389, 0.2724400460720062, 0.04301685094833374, 0.20074529945850372, 0.22942321002483368, 0.014338950626552105, 0.014338950626552105, 0.18640635907649994, 0.014338950626552105, 0.17209479212760925, 0.08604739606380463, 0.16461241245269775, 0.10475335270166397, 0.28807172179222107, 0.056117866188287735, 0.059859056025743484, 0.0037411910016089678, 0.014964764006435871, 0.018705954775214195, 0.014964764006435871, 0.0037411910016089678, 0.931678056716919, 0.05756431445479393, 0.28782156109809875, 0.23025725781917572, 0.05756431445479393, 0.11512862890958786, 0.1726929396390915, 0.3345929682254791, 0.047798994928598404, 0.15932998061180115, 0.19119597971439362, 0.15932998061180115, 0.06373199075460434, 0.03186599537730217, 0.015932997688651085, 0.14812283217906952, 0.01851535402238369, 0.12960748374462128, 0.14812283217906952, 0.05554606392979622, 0.05554606392979622, 0.38882243633270264, 0.01851535402238369, 0.01851535402238369, 0.01851535402238369, 0.07594286650419235, 0.07594286650419235, 0.3037714660167694, 0.1518857330083847, 0.1518857330083847, 0.1518857330083847, 0.2402711659669876, 0.2402711659669876, 0.13729780912399292, 0.20594671368598938, 0.06864890456199646, 0.03432445228099823, 0.03432445228099823, 0.21979530155658722, 0.2317841351032257, 0.13986973464488983, 0.10390323400497437, 0.13187718391418457, 0.06394045054912567, 0.019981389865279198, 0.007992556318640709, 0.023977668955922127, 0.015985112637281418, 0.019981389865279198, 0.007992556318640709, 0.007992556318640709, 0.058394331485033035, 0.2919716536998749, 0.11678866297006607, 0.11678866297006607, 0.23357732594013214, 0.058394331485033035, 0.11678866297006607, 0.04316011816263199, 0.25896069407463074, 0.12948034703731537, 0.12948034703731537, 0.04316011816263199, 0.3452809453010559, 0.7337867617607117, 0.08153186738491058, 0.08153186738491058, 0.28954392671585083, 0.05961198732256889, 0.09367597848176956, 0.3065759241580963, 0.14477196335792542, 0.017031995579600334, 0.05961198732256889, 0.008515997789800167, 0.008515997789800167, 0.07584579288959503, 0.15169158577919006, 0.15169158577919006, 0.4550747275352478, 0.07584579288959503, 0.17491599917411804, 0.067467600107193, 0.09245560318231583, 0.2798656225204468, 0.1524268090724945, 0.0699664056301117, 0.054973602294921875, 0.007496400270611048, 0.06496880203485489, 0.009995200671255589, 0.012494000606238842, 0.009995200671255589, 0.004997600335627794, 0.050658997148275375, 0.10131799429655075, 0.10131799429655075, 0.15197698771953583, 0.2026359885931015, 0.30395397543907166, 0.06793156266212463, 0.8151786923408508, 0.06793156266212463, 0.017749715596437454, 0.44374290108680725, 0.10649830102920532, 0.03549943119287491, 0.33724460005760193, 0.03549943119287491, 0.017749715596437454, 0.40622034668922424, 0.20311017334461212, 0.10155508667230606, 0.10155508667230606, 0.20311017334461212, 0.03546016290783882, 0.6737430691719055, 0.07092032581567764, 0.14184065163135529, 0.03546016290783882, 0.3545474112033844, 0.21272844076156616, 0.07090947777032852, 0.21272844076156616, 0.17568965256214142, 0.7027586102485657, 0.08784482628107071, 0.08114457875490189, 0.24343374371528625, 0.16228915750980377, 0.16228915750980377, 0.08114457875490189, 0.24343374371528625, 0.027416400611400604, 0.16449840366840363, 0.23578104376792908, 0.04934952035546303, 0.021933119744062424, 0.41672930121421814, 0.038382962346076965, 0.005483279936015606, 0.010966559872031212, 0.021933119744062424, 0.010966559872031212, 0.084480881690979, 0.84480881690979, 0.7776886820793152, 0.17281971871852875, 0.1417655050754547, 0.21337901055812836, 0.16222649812698364, 0.1432269960641861, 0.08915150165557861, 0.12276600301265717, 0.04822950065135956, 0.02923000045120716, 0.020461000502109528, 0.00730750011280179, 0.00730750011280179, 0.0029230001382529736, 0.011692000553011894, 0.0014615000691264868, 0.25842371582984924, 0.4910050332546234, 0.07752711325883865, 0.025842370465397835, 0.07752711325883865, 0.05168474093079567, 0.08789431303739548, 0.439471572637558, 0.17578862607479095, 0.17578862607479095, 0.08789431303739548, 0.1283458024263382, 0.3208644986152649, 0.1283458024263382, 0.0641729012131691, 0.2566916048526764, 0.2094043344259262, 0.0698014423251152, 0.2792057693004608, 0.4188086688518524, 0.0698014423251152, 0.08100973069667816, 0.5670680999755859, 0.16201946139335632, 0.16201946139335632, 0.7890397906303406, 0.011435359716415405, 0.18296575546264648, 0.011435359716415405, 0.08144087344408035, 0.3664839267730713, 0.3664839267730713, 0.040720436722040176, 0.12216130644083023, 0.8990219831466675, 0.02724309079349041, 0.04086463525891304, 0.013621545396745205, 0.05866957828402519, 0.9191567301750183, 0.006518842186778784, 0.27384981513023376, 0.37730419635772705, 0.29819202423095703, 0.006085551809519529, 0.030427757650613785, 0.012171103619039059, 0.1418066769838333, 0.16818931698799133, 0.20446543395519257, 0.08574356883764267, 0.1385088413953781, 0.14510449767112732, 0.02638263627886772, 0.02638263627886772, 0.02308480627834797, 0.01319131813943386, 0.019786978140473366, 0.00659565906971693, 0.003297829534858465, 0.23433740437030792, 0.05858435109257698, 0.17575305700302124, 0.41009044647216797, 0.05858435109257698, 0.05858435109257698, 0.02073202282190323, 0.5113899111747742, 0.096749447286129, 0.2626056373119354, 0.00691067473962903, 0.07601741701364517, 0.02073202282190323, 0.12608808279037476, 0.8195725679397583, 0.10872407257556915, 0.21092469990253448, 0.22179710865020752, 0.11524751782417297, 0.05653651803731918, 0.15003922581672668, 0.05218755453824997, 0.026093777269124985, 0.023919295519590378, 0.0043489630334079266, 0.006523444317281246, 0.010872406885027885, 0.013046888634562492, 0.0021744815167039633, 0.13605163991451263, 0.13605163991451263, 0.13605163991451263, 0.5442065596580505, 0.18127162754535675, 0.5438148975372314, 0.06042387709021568, 0.18127162754535675, 0.7054257392883301, 0.08817821741104126, 0.08817821741104126, 0.08837240934371948, 0.17674481868743896, 0.5302344560623169, 0.08837240934371948, 0.08837240934371948, 0.08837240934371948, 0.009268579073250294, 0.8681568503379822, 0.11122294515371323, 0.003089526202529669, 0.006179052405059338, 0.5105105638504028, 0.056723397225141525, 0.4537871778011322, 0.007520583923906088, 0.9175112247467041, 0.04512350261211395, 0.022561751306056976, 0.14496372640132904, 0.1481851488351822, 0.2609347105026245, 0.13046735525131226, 0.05315336585044861, 0.11919239908456802, 0.05315336585044861, 0.017717787995934486, 0.03543557599186897, 0.01610708050429821, 0.004832124337553978, 0.008053540252149105, 0.008053540252149105, 0.592617928981781, 0.1975393146276474, 0.06584643572568893, 0.13169287145137787, 0.46581345796585083, 0.07763557881116867, 0.15527115762233734, 0.07763557881116867, 0.07763557881116867, 0.10317964851856232, 0.7635294198989868, 0.10317964851856232, 0.020635930821299553, 0.012849788181483746, 0.9701589941978455, 0.006424894090741873, 0.0032124470453709364, 0.0032124470453709364, 0.23134826123714447, 0.11567413061857224, 0.4858313500881195, 0.046269651502370834, 0.023134825751185417, 0.023134825751185417, 0.046269651502370834, 0.49998778104782104, 0.21428047120571136, 0.14285364747047424, 0.14285364747047424, 0.07142682373523712, 0.05330311879515648, 0.1989983171224594, 0.6680657863616943, 0.03198187053203583, 0.003553541377186775, 0.024874789640307426, 0.003553541377186775, 0.003553541377186775, 0.003553541377186775, 0.003553541377186775, 0.32566627860069275, 0.047369640320539474, 0.0414484366774559, 0.08881808072328568, 0.2072421759366989, 0.05921205133199692, 0.047369640320539474, 0.005921205040067434, 0.1480301320552826, 0.02960602566599846, 0.011842410080134869, 0.34199774265289307, 0.13679909706115723, 0.34199774265289307, 0.06839954853057861, 0.06839954853057861, 0.1923452615737915, 0.048086315393447876, 0.1923452615737915, 0.14425894618034363, 0.09617263078689575, 0.09617263078689575, 0.048086315393447876, 0.048086315393447876, 0.14425894618034363, 0.5737780928611755, 0.3912123143672943, 0.1770928055047989, 0.1770928055047989, 0.3541856110095978, 0.1770928055047989, 0.08854640275239944, 0.4510849714279175, 0.360867977142334, 0.180433988571167, 0.786817729473114, 0.014176896773278713, 0.1913881003856659, 0.007088448386639357, 0.07369332015514374, 0.4421599209308624, 0.3684666156768799, 0.8042019605636597, 0.08935577422380447, 0.08935577422380447, 0.26525047421455383, 0.13262523710727692, 0.26525047421455383, 0.26525047421455383, 0.06631261855363846, 0.934457004070282, 0.03337346389889717, 0.004171682987362146, 0.012515048496425152, 0.004171682987362146, 0.008343365974724293, 0.0514925941824913, 0.22656741738319397, 0.19223903119564056, 0.05492543429136276, 0.01373135857284069, 0.24373161792755127, 0.01716419868171215, 0.1201493889093399, 0.0686567947268486, 0.0034328396432101727, 0.0034328396432101727, 0.14616014063358307, 0.03248003125190735, 0.016240015625953674, 0.09744009375572205, 0.6008805632591248, 0.016240015625953674, 0.016240015625953674, 0.04872004687786102, 0.016240015625953674, 0.016240015625953674, 0.016240015625953674, 0.08143638074398041, 0.7057819366455078, 0.10858184099197388, 0.05429092049598694, 0.2536429464817047, 0.2536429464817047, 0.422738254070282, 0.7625795602798462, 0.1452532410621643, 0.07262662053108215, 0.7682322263717651, 0.06983929127454758, 0.06983929127454758, 0.06983929127454758, 0.9581654667854309, 0.03923330828547478, 0.7061995267868042, 0.03923330828547478, 0.03923330828547478, 0.1569332331418991, 0.03923330828547478, 0.1842443346977234, 0.12502294778823853, 0.13818325102329254, 0.14147332310676575, 0.0987023264169693, 0.1019923985004425, 0.06251147389411926, 0.04606108367443085, 0.05593131482601166, 0.009870232082903385, 0.01974046416580677, 0.006580154877156019, 0.009870232082903385, 0.006580154877156019, 0.39337289333343506, 0.19668644666671753, 0.02809806354343891, 0.14049032330513, 0.11239225417375565, 0.05619612708687782, 0.02809806354343891, 0.05619612708687782, 0.1680920422077179, 0.14223173260688782, 0.16378198564052582, 0.17096540331840515, 0.12786488234996796, 0.08763772994279861, 0.07183420658111572, 0.025860313326120377, 0.017240209504961967, 0.005746736191213131, 0.004310052376240492, 0.005746736191213131, 0.005746736191213131, 0.0014366840478032827, 0.9512772560119629, 0.019025545567274094, 0.03679238259792328, 0.9198095798492432, 0.04781612381339073, 0.6534870266914368, 0.07969354093074799, 0.09563224762678146, 0.031877417117357254, 0.06375483423471451, 0.040023211389780045, 0.040023211389780045, 0.12006963789463043, 0.6803946495056152, 0.12006963789463043, 0.15553517639636993, 0.31107035279273987, 0.5054892897605896, 0.007895146496593952, 0.007895146496593952, 0.6395068764686584, 0.3158058524131775, 0.015790292993187904, 0.039613958448171616, 0.7130512595176697, 0.11884187161922455, 0.039613958448171616, 0.039613958448171616, 0.039613958448171616, 0.2014836221933365, 0.009158346801996231, 0.4762340188026428, 0.036633387207984924, 0.009158346801996231, 0.2014836221933365, 0.05495007708668709, 0.10230612754821777, 0.11367347836494446, 0.3864898383617401, 0.02273469604551792, 0.04546939209103584, 0.14777551591396332, 0.02273469604551792, 0.079571433365345, 0.04546939209103584, 0.01136734802275896, 0.01136734802275896, 0.01136734802275896, 0.3406505286693573, 0.10353104770183563, 0.10687075555324554, 0.21040180325508118, 0.03339711204171181, 0.030057400465011597, 0.0634545087814331, 0.07013393193483353, 0.0066794222220778465, 0.0033397111110389233, 0.0066794222220778465, 0.010019133798778057, 0.010019133798778057, 0.38918089866638184, 0.09729522466659546, 0.09729522466659546, 0.3405332863330841, 0.11923061311244965, 0.8699418902397156, 0.004415948875248432, 0.1561199128627777, 0.8118235468864441, 0.07745786756277084, 0.24528326094150543, 0.11618680506944656, 0.025819290429353714, 0.012909645214676857, 0.3485604226589203, 0.07745786756277084, 0.05163858085870743, 0.012909645214676857, 0.1485675722360611, 0.7428378462791443, 0.08914054185152054, 0.02971351332962513, 0.5840938687324524, 0.16688396036624908, 0.08344198018312454, 0.08344198018312454, 0.05416494235396385, 0.05416494235396385, 0.2166597694158554, 0.13541236519813538, 0.4333195388317108, 0.08124741166830063, 0.082718625664711, 0.2481558918952942, 0.5790303945541382, 0.0413593128323555, 0.8501624464988708, 0.11089075356721878, 0.17757177352905273, 0.08878588676452637, 0.08878588676452637, 0.2663576602935791, 0.17757177352905273, 0.08878588676452637, 0.08878588676452637, 0.015964459627866745, 0.9578675627708435, 0.00577411288395524, 0.6062818169593811, 0.3637691140174866, 0.01154822576791048, 0.006608837284147739, 0.5980997681617737, 0.1288723349571228, 0.052870698273181915, 0.10574139654636383, 0.006608837284147739, 0.07600162923336029, 0.006608837284147739, 0.01652209274470806, 0.9174961447715759, 0.06116640940308571, 0.14911337196826935, 0.10736162960529327, 0.2016012817621231, 0.20040836930274963, 0.07515314221382141, 0.0811176747083664, 0.07634604722261429, 0.03698011487722397, 0.03698011487722397, 0.010736162774264812, 0.0011929069878533483, 0.015507791191339493, 0.0059645348228514194, 0.0023858139757066965, 0.8588696718215942, 0.04294348135590553, 0.04294348135590553, 0.39999255537986755, 0.239995539188385, 0.3199940323829651, 0.1613919734954834, 0.2997279465198517, 0.1844479739665985, 0.023055996745824814, 0.06916798651218414, 0.04611199349164963, 0.1613919734954834, 0.023055996745824814, 0.023055996745824814, 0.07573292404413223, 0.7573292851448059, 0.07573292404413223, 0.11864431947469711, 0.09491544961929321, 0.35593295097351074, 0.09491544961929321, 0.07118658721446991, 0.047457724809646606, 0.07118658721446991, 0.14237317442893982, 0.7084836959838867, 0.05449874326586723, 0.10899748653173447, 0.05449874326586723, 0.08512263000011444, 0.17024526000022888, 0.17024526000022888, 0.4256131649017334, 0.10111028701066971, 0.5055513978004456, 0.11796199530363083, 0.08425857126712799, 0.042129285633563995, 0.10953614115715027, 0.01685171388089657, 0.01685171388089657, 0.008425856940448284, 0.09503383934497833, 0.9028214812278748, 0.413338303565979, 0.16533531248569489, 0.08266765624284744, 0.08266765624284744, 0.16533531248569489, 0.16533531248569489, 0.2436973750591278, 0.1624649167060852, 0.0812324583530426, 0.2436973750591278, 0.0812324583530426, 0.38073447346687317, 0.15229378640651703, 0.22844068706035614, 0.15229378640651703, 0.21088600158691406, 0.10544300079345703, 0.1318037509918213, 0.3163290023803711, 0.052721500396728516, 0.10544300079345703, 0.07908225059509277, 0.026360750198364258, 0.25360849499702454, 0.06340212374925613, 0.06340212374925613, 0.12680424749851227, 0.44381484389305115, 0.18982195854187012, 0.12654797732830048, 0.5694658756256104, 0.6084012389183044, 0.07605015486478806, 0.1521003097295761, 0.07605015486478806, 0.49588701128959656, 0.30992937088012695, 0.06198587641119957, 0.0476653054356575, 0.5958163142204285, 0.011916326358914375, 0.07149796187877655, 0.011916326358914375, 0.19066122174263, 0.035748980939388275, 0.011916326358914375, 0.7223450541496277, 0.03283386677503586, 0.06566773355007172, 0.1641693413257599, 0.5725972056388855, 0.09543287009000778, 0.19086574018001556, 0.09543287009000778, 0.09543287009000778, 0.14107108116149902, 0.14107108116149902, 0.03255486488342285, 0.08681297302246094, 0.010851621627807617, 0.3798067569732666, 0.054258111864328384, 0.010851621627807617, 0.11936784535646439, 0.010851621627807617, 0.04355926811695099, 0.06533890217542648, 0.04355926811695099, 0.13067780435085297, 0.021779634058475494, 0.13067780435085297, 0.021779634058475494, 0.28313523530960083, 0.13067780435085297, 0.13067780435085297, 0.7881253957748413, 0.1854412704706192, 0.23985370993614197, 0.05996342748403549, 0.5396708250045776, 0.11992685496807098, 0.05090447887778282, 0.02036179229617119, 0.02036179229617119, 0.4581403136253357, 0.3665122389793396, 0.05090447887778282, 0.010180896148085594, 0.27487120032310486, 0.021143939346075058, 0.12686364352703094, 0.16915151476860046, 0.2537272870540619, 0.042287878692150116, 0.021143939346075058, 0.042287878692150116, 0.021143939346075058, 0.021143939346075058, 0.28222158551216125, 0.05644431710243225, 0.05644431710243225, 0.1128886342048645, 0.05644431710243225, 0.05644431710243225, 0.225777268409729, 0.1128886342048645, 0.059963807463645935, 0.019987935200333595, 0.6596018671989441, 0.15990348160266876, 0.07995174080133438, 0.028473135083913803, 0.9562228322029114, 0.004745522513985634, 0.002372761256992817, 0.002372761256992817, 0.002372761256992817, 0.3952867388725281, 0.011978385969996452, 0.003992795012891293, 0.5869408845901489, 0.49532508850097656, 0.02751806005835533, 0.46780702471733093, 0.134868785738945, 0.17131979763507843, 0.18954531848430634, 0.029160818085074425, 0.02187061309814453, 0.24057674407958984, 0.04374122619628906, 0.07290204614400864, 0.01822551153600216, 0.05467653274536133, 0.014580409042537212, 0.003645102260634303, 0.028577297925949097, 0.17146378755569458, 0.05715459585189819, 0.05715459585189819, 0.019051533192396164, 0.3334018290042877, 0.009525766596198082, 0.06668036431074142, 0.03810306638479233, 0.1809895634651184, 0.009525766596198082, 0.009525766596198082, 0.028577297925949097, 0.21025420725345612, 0.1838545799255371, 0.14708366990089417, 0.11596981436014175, 0.12256971746683121, 0.08674164861440659, 0.05185642093420029, 0.01791403628885746, 0.021685412153601646, 0.016028348356485367, 0.01131412759423256, 0.00377137609757483, 0.010371283628046513, 0.0009428440243937075, 0.045328203588724136, 0.19642221927642822, 0.4264208674430847, 0.02686115726828575, 0.008394111879169941, 0.19474339485168457, 0.025182334706187248, 0.020145868882536888, 0.013430578634142876, 0.02182469144463539, 0.0016788223292678595, 0.003357644658535719, 0.015109401196241379, 0.2235516905784607, 0.032714881002902985, 0.07088224589824677, 0.17447936534881592, 0.16902689635753632, 0.03816736117005348, 0.2399091273546219, 0.032714881002902985, 0.0054524801671504974, 0.010904960334300995, 0.010904960334300995, 0.32612261176109314, 0.08153065294027328, 0.407653272151947, 0.16306130588054657, 0.5940113663673401, 0.06600126624107361, 0.29700568318367004, 0.06593724340200424, 0.26374897360801697, 0.3296861946582794, 0.19781172275543213, 0.13187448680400848, 0.06314337253570557, 0.8208639025688171, 0.06314337253570557, 0.9628679156303406, 0.11938516795635223, 0.875491201877594, 0.17300021648406982, 0.6920008659362793, 0.08650010824203491, 0.1864137202501297, 0.292935848236084, 0.21304425597190857, 0.07989159226417542, 0.13315266370773315, 0.07989159226417542, 0.4843873083591461, 0.009687745943665504, 0.01937549188733101, 0.009687745943665504, 0.3003201186656952, 0.07750196754932404, 0.07750196754932404, 0.009687745943665504, 0.5463465452194214, 0.07284621149301529, 0.07284621149301529, 0.14569242298603058, 0.036423105746507645, 0.036423105746507645, 0.724632740020752, 0.22883139550685883, 0.05370847508311272, 0.09398982673883438, 0.01342711877077818, 0.8190542459487915, 0.478935569524765, 0.2736774682998657, 0.06841936707496643, 0.13683873414993286, 0.38559240102767944, 0.09639810025691986, 0.12049762159585953, 0.1445971429347992, 0.09639810025691986, 0.024099525064229965, 0.04819905012845993, 0.04819905012845993, 0.17594175040721893, 0.5278252363204956, 0.08797087520360947, 0.08797087520360947, 0.08609016239643097, 0.20661640167236328, 0.22383442521095276, 0.09756885468959808, 0.1377442628145218, 0.10330820083618164, 0.011478688567876816, 0.017218032851815224, 0.017218032851815224, 0.06313278526067734, 0.005739344283938408, 0.011478688567876816, 0.005739344283938408, 0.18980424106121063, 0.7592169642448425, 0.021089360117912292, 0.4789135754108429, 0.07981892675161362, 0.31927570700645447, 0.4213451147079468, 0.16853804886341095, 0.16853804886341095, 0.08426902443170547, 0.16853804886341095, 0.12095793336629868, 0.16127724945545197, 0.14514951407909393, 0.2177242785692215, 0.15321338176727295, 0.0887024849653244, 0.024191586300730705, 0.04031931236386299, 0.008063862100243568, 0.008063862100243568, 0.008063862100243568, 0.9458096623420715, 0.021995574235916138, 0.3235035538673401, 0.020218972116708755, 0.020218972116708755, 0.4043794274330139, 0.16175177693367004, 0.04043794423341751, 0.11956603825092316, 0.8568899631500244, 0.1479755938053131, 0.0943344384431839, 0.06658902019262314, 0.22936217486858368, 0.2756045460700989, 0.03329451009631157, 0.07768718898296356, 0.00924847461283207, 0.040693286806344986, 0.005549084860831499, 0.007398779504001141, 0.005549084860831499, 0.0036993897520005703, 0.0036993897520005703, 0.05867858603596687, 0.07041430473327637, 0.09388573467731476, 0.09388573467731476, 0.5281072854995728, 0.05867858603596687, 0.07041430473327637, 0.035207152366638184, 0.011735716834664345, 0.14165619015693665, 0.2833123803138733, 0.4816310703754425, 0.02833123877644539, 0.02833123877644539, 0.1880420744419098, 0.564126193523407, 0.0940210372209549, 0.0940210372209549, 0.24388781189918518, 0.0812959372997284, 0.40647968649864197, 0.0812959372997284, 0.0812959372997284, 0.0812959372997284, 0.6736499071121216, 0.008527213707566261, 0.008527213707566261, 0.26434361934661865, 0.012790820561349392, 0.021318035200238228, 0.004263606853783131, 0.012790820561349392, 0.224643737077713, 0.025920432060956955, 0.06912115216255188, 0.24192401766777039, 0.21600359678268433, 0.025920432060956955, 0.10368172824382782, 0.008640144020318985, 0.008640144020318985, 0.043200720101594925, 0.025920432060956955, 0.008640144020318985, 0.13144956529140472, 0.3286239206790924, 0.06572478264570236, 0.13144956529140472, 0.06572478264570236, 0.13144956529140472, 0.13144956529140472, 0.10737000405788422, 0.21474000811576843, 0.14316000044345856, 0.03579000011086464, 0.21474000811576843, 0.07158000022172928, 0.03579000011086464, 0.14316000044345856, 0.03579000011086464, 0.26547399163246155, 0.05309480056166649, 0.31856879591941833, 0.05309480056166649, 0.10618960112333298, 0.05309480056166649, 0.05309480056166649, 0.05309480056166649, 0.15967479348182678, 0.05009405314922333, 0.06261756271123886, 0.009392634965479374, 0.6606153249740601, 0.046963173896074295, 0.2054675668478012, 0.2054675668478012, 0.1027337834239006, 0.1541006714105606, 0.0513668917119503, 0.0513668917119503, 0.2054675668478012, 0.04754257574677467, 0.09508515149354935, 0.14262773096561432, 0.04754257574677467, 0.09508515149354935, 0.2535604238510132, 0.015847526490688324, 0.22186535596847534, 0.04754257574677467, 0.03169505298137665, 0.0538124144077301, 0.2152496576309204, 0.3049370050430298, 0.08968735486268997, 0.03587494418025017, 0.07174988836050034, 0.07174988836050034, 0.14349977672100067, 0.18900728225708008, 0.6615254878997803, 0.09450364112854004, 0.5588365793228149, 0.013340925797820091, 0.4224626421928406, 0.0014823251403868198, 0.0015475298278033733, 0.03404565528035164, 0.00464258948341012, 0.0015475298278033733, 0.0015475298278033733, 0.8898296356201172, 0.0015475298278033733, 0.047973424196243286, 0.006190119311213493, 0.0030950596556067467, 0.0030950596556067467, 0.00464258948341012, 0.1867857575416565, 0.7845001816749573, 0.028106428682804108, 0.9632839560508728, 0.0025551298167556524, 0.13051465153694153, 0.826592743396759, 0.5295955538749695, 0.0743291974067688, 0.3437725603580475, 0.0185822993516922, 0.0092911496758461, 0.0185822993516922, 0.0092911496758461, 0.12017551809549332, 0.7210531234741211, 0.06008775904774666, 0.06008775904774666, 0.06630893796682358, 0.9271818995475769, 0.001143257599323988, 0.001143257599323988, 0.001143257599323988, 0.002286515198647976, 0.5769540667533875, 0.32968804240226746, 0.768568754196167, 0.1707930564880371, 0.5291666984558105, 0.2081967294216156, 0.00867486372590065, 0.13012295961380005, 0.11277322471141815, 0.28091496229171753, 0.004389296285808086, 0.021946480497717857, 0.013167887926101685, 0.5881657004356384, 0.004389296285808086, 0.017557185143232346, 0.004389296285808086, 0.05267155170440674, 0.004389296285808086, 0.7080324292182922, 0.15734054148197174, 0.10787781327962875, 0.86302250623703, 0.38182422518730164, 0.19091211259365082, 0.28636816143989563, 0.9630354046821594, 0.0998171716928482, 0.7440916895866394, 0.0998171716928482, 0.018148576840758324, 0.018148576840758324, 0.20130687952041626, 0.02368316240608692, 0.5565543174743652, 0.09473264962434769, 0.04736632481217384, 0.04736632481217384, 0.01184158120304346, 0.19398818910121918, 0.1817363053560257, 0.1531485766172409, 0.08167923986911774, 0.15723253786563873, 0.09801508486270905, 0.07759527862071991, 0.010209904983639717, 0.016335848718881607, 0.008167924359440804, 0.010209904983639717, 0.006125942803919315, 0.004083962179720402, 0.002041981089860201, 0.09033557772636414, 0.10539150983095169, 0.10539150983095169, 0.5570694208145142, 0.04516778886318207, 0.030111858621239662, 0.030111858621239662, 0.30237358808517456, 0.054977018386125565, 0.054977018386125565, 0.054977018386125565, 0.13744254410266876, 0.0824655294418335, 0.0824655294418335, 0.10995403677225113, 0.027488509193062782, 0.0824655294418335, 0.9377039074897766, 0.4862770438194275, 0.0972554087638855, 0.0972554087638855, 0.0972554087638855, 0.0972554087638855, 0.31733137369155884, 0.029984066262841225, 0.07745883613824844, 0.17240838706493378, 0.18740041553974152, 0.022488050162792206, 0.08245618641376495, 0.012493360787630081, 0.07246149331331253, 0.007496016565710306, 0.002498672343790531, 0.007496016565710306, 0.002498672343790531, 0.004997344687581062, 0.276949405670166, 0.090241938829422, 0.07312709093093872, 0.2053782045841217, 0.12758342921733856, 0.046676866710186005, 0.10580089688301086, 0.02022664248943329, 0.02022664248943329, 0.010891268961131573, 0.009335373528301716, 0.0031117910984903574, 0.006223582196980715, 0.004667686764150858, 0.0383262000977993, 0.8527579307556152, 0.01916310004889965, 0.0670708492398262, 0.2900218963623047, 0.04370192810893059, 0.06157999113202095, 0.28803545236587524, 0.13706514239311218, 0.029796769842505455, 0.07548514753580093, 0.009932256303727627, 0.029796769842505455, 0.011918707750737667, 0.0019864512141793966, 0.009932256303727627, 0.003972902428358793, 0.0059593538753688335, 0.0026160464622080326, 0.039240699261426926, 0.59907466173172, 0.34270209074020386, 0.0026160464622080326, 0.0026160464622080326, 0.0026160464622080326, 0.0026160464622080326, 0.0026160464622080326, 0.1583903282880783, 0.7127565145492554, 0.07919516414403915, 0.22619330883026123, 0.13194610178470612, 0.05654832720756531, 0.09424721449613571, 0.018849441781640053, 0.43353718519210815, 0.037698883563280106, 0.018849441781640053, 0.0808534249663353, 0.2999401390552521, 0.17213955521583557, 0.028689924627542496, 0.018257224932312965, 0.29733195900917053, 0.01043269969522953, 0.0260817501693964, 0.01043269969522953, 0.044338975101709366, 0.005216349847614765, 0.007824525237083435, 0.06123526766896248, 0.04082351177930832, 0.8572937846183777, 0.02041175588965416, 0.7321711182594299, 0.17713817954063416, 0.05904605984687805, 0.17202463746070862, 0.16557370126247406, 0.1225675493478775, 0.16342340409755707, 0.11826693266630173, 0.08386200666427612, 0.06450923532247543, 0.034404926002025604, 0.03870554268360138, 0.010751539841294289, 0.006450923625379801, 0.0043006157502532005, 0.012901847250759602, 0.0021503078751266003, 0.13555048406124115, 0.17815205454826355, 0.32144826650619507, 0.019364353269338608, 0.001936435466632247, 0.21688076853752136, 0.040665142238140106, 0.003872870933264494, 0.042601577937603, 0.0213007889688015, 0.005809306167066097, 0.003872870933264494, 0.005809306167066097, 0.12502646446228027, 0.3672652244567871, 0.1875396966934204, 0.06511794775724411, 0.039070770144462585, 0.13023589551448822, 0.049489639699459076, 0.015628308057785034, 0.007814154028892517, 0.007814154028892517, 0.00520943570882082, 0.1551467329263687, 0.21929393708705902, 0.12978620827198029, 0.12978620827198029, 0.09995029121637344, 0.08950772881507874, 0.09099952131509781, 0.03132770583033562, 0.03431129455566406, 0.007458977401256561, 0.0029835908208042383, 0.008950772695243359, 0.0014917954104021192, 0.0014917954104021192, 0.5029721856117249, 0.2514860928058624, 0.16765739023685455, 0.08382869511842728, 0.060798659920692444, 0.07599832117557526, 0.8511812090873718, 0.4722611606121063, 0.07871019095182419, 0.31484076380729675, 0.07871019095182419, 0.18308216333389282, 0.12205477803945541, 0.12205477803945541, 0.24410955607891083, 0.06102738901972771, 0.18308216333389282, 0.07132958620786667, 0.35664793848991394, 0.2853183448314667, 0.07132958620786667, 0.07132958620786667, 0.05348644033074379, 0.9360127449035645, 0.16933707892894745, 0.7620168328285217, 0.21198126673698425, 0.011156909167766571, 0.14503981173038483, 0.5355316400527954, 0.05578454211354256, 0.011156909167766571, 0.022313818335533142, 0.7974197864532471, 0.11391711235046387, 0.056958556175231934, 0.07572143524885178, 0.8329358100891113, 0.025240479037165642, 0.050480958074331284, 0.23884700238704681, 0.04776940122246742, 0.09553880244493484, 0.04776940122246742, 0.33438581228256226, 0.09553880244493484, 0.04776940122246742, 0.09553880244493484, 0.771259069442749, 0.08569545298814774, 0.08569545298814774, 0.03502298891544342, 0.008755747228860855, 0.8142844438552856, 0.01751149445772171, 0.026267241686582565, 0.08755747228860855, 0.016610613092780113, 0.12873224914073944, 0.7682408094406128, 0.008305306546390057, 0.008305306546390057, 0.04983183741569519, 0.008305306546390057, 0.004152653273195028, 0.1347435712814331, 0.7410896420478821, 0.32673409581184387, 0.006283347960561514, 0.09425022453069687, 0.4398343861103058, 0.03770009055733681, 0.03770009055733681, 0.012566695921123028, 0.025133391842246056, 0.006283347960561514, 0.006283347960561514, 0.08388030529022217, 0.17229467630386353, 0.38086193799972534, 0.045340705662965775, 0.013602212071418762, 0.21083427965641022, 0.034005530178546906, 0.015869246795773506, 0.0045340703800320625, 0.009068140760064125, 0.011335176415741444, 0.015869246795773506, 0.13395175337791443, 0.8037105202674866, 0.12036535888910294, 0.048146143555641174, 0.048146143555641174, 0.048146143555641174, 0.48146143555641174, 0.07221921533346176, 0.024073071777820587, 0.024073071777820587, 0.048146143555641174, 0.07221921533346176, 0.30084213614463806, 0.07521053403615952, 0.07521053403615952, 0.5264737606048584, 0.5625760555267334, 0.14064401388168335, 0.2812880277633667, 0.09572457522153854, 0.7897277474403381, 0.023931143805384636, 0.023931143805384636, 0.023931143805384636, 0.09714172035455704, 0.051427971571683884, 0.04571375250816345, 0.03428531438112259, 0.5428507924079895, 0.11428438127040863, 0.0057142190635204315, 0.017142657190561295, 0.057142190635204315, 0.022856876254081726, 0.011428438127040863, 0.0964248850941658, 0.8571101427078247, 0.03214162960648537, 0.06185203790664673, 0.24740815162658691, 0.30926018953323364, 0.24740815162658691, 0.12370407581329346, 0.13369107246398926, 0.7575827836990356, 0.044563692063093185, 0.0689421147108078, 0.8043246865272522, 0.0229807049036026, 0.0229807049036026, 0.0229807049036026, 0.0229807049036026, 0.0229807049036026, 0.18733327090740204, 0.16201797127723694, 0.10885582119226456, 0.10885582119226456, 0.12910807132720947, 0.08607204258441925, 0.06075673922896385, 0.07847745716571808, 0.030378369614481926, 0.020252246409654617, 0.010126123204827309, 0.010126123204827309, 0.0075945924036204815, 0.002531530801206827, 0.6615645885467529, 0.08269557356834412, 0.16539114713668823, 0.6928835511207581, 0.21248430013656616, 0.01847689598798752, 0.06466913223266602, 0.36537253856658936, 0.07436786592006683, 0.16490265727043152, 0.10023494809865952, 0.03556723892688751, 0.11316848546266556, 0.029100468382239342, 0.03880062326788902, 0.04526739567518234, 0.009700155816972256, 0.009700155816972256, 0.012933541089296341, 0.2643725872039795, 0.06148199364542961, 0.07377839088439941, 0.012296399101614952, 0.18444597721099854, 0.16600137948989868, 0.012296399101614952, 0.024592798203229904, 0.024592798203229904, 0.12296398729085922, 0.03688919544219971, 0.018444597721099854, 0.19658753275871277, 0.07863501459360123, 0.03931750729680061, 0.6290801167488098, 0.03931750729680061, 0.1604413092136383, 0.05203501880168915, 0.030353762209415436, 0.3425638675689697, 0.0346900150179863, 0.008672503754496574, 0.2775201201438904, 0.08238878101110458, 0.004336251877248287, 0.008672503754496574, 0.004336251877248287, 0.0661158561706543, 0.9256219863891602, 0.9226436614990234, 0.032951559871435165, 0.032951559871435165, 0.1268855482339859, 0.18385456502437592, 0.2848450839519501, 0.14760154485702515, 0.05437951907515526, 0.10099053382873535, 0.02071600779891014, 0.04143201559782028, 0.02071600779891014, 0.0025895009748637676, 0.0025895009748637676, 0.0025895009748637676, 0.01294750440865755, 0.7564451098442078, 0.09455563873052597, 0.19357606768608093, 0.06567759066820145, 0.1313551813364029, 0.2592536509037018, 0.1348119080066681, 0.05530744791030884, 0.034567154943943024, 0.02765372395515442, 0.04148058593273163, 0.0034567154943943024, 0.01382686197757721, 0.006913430988788605, 0.024197008460760117, 0.9284775257110596, 0.004507172387093306, 0.04056455194950104, 0.004507172387093306, 0.018028689548373222, 0.5759577751159668, 0.06399530917406082, 0.12799061834812164, 0.06399530917406082, 0.12799061834812164, 0.10713356733322144, 0.21065588295459747, 0.2973257303237915, 0.07583612203598022, 0.07342862337827682, 0.10954105854034424, 0.042131178081035614, 0.03370494022965431, 0.010833730921149254, 0.018056219443678856, 0.009629983454942703, 0.0036112437956035137, 0.004814991727471352, 0.001203747931867838, 0.26723068952560425, 0.13361534476280212, 0.06680767238140106, 0.13361534476280212, 0.13361534476280212, 0.06680767238140106, 0.06680767238140106, 0.13361534476280212, 0.4206998348236084, 0.33655986189842224, 0.16827993094921112, 0.22485138475894928, 0.05621284618973732, 0.009368808008730412, 0.15926973521709442, 0.505915641784668, 0.009368808008730412, 0.009368808008730412, 0.009368808008730412, 0.009368808008730412, 0.20144370198249817, 0.11583012342453003, 0.172905832529068, 0.141010582447052, 0.12086621671915054, 0.09568575769662857, 0.07889878004789352, 0.015108277089893818, 0.02518046274781227, 0.0033573948312550783, 0.005036092363297939, 0.013429579325020313, 0.006714789662510157, 0.15879082679748535, 0.02835550345480442, 0.022684402763843536, 0.5841233730316162, 0.10775091499090195, 0.022684402763843536, 0.005671100690960884, 0.051039908081293106, 0.017013302072882652, 0.005671100690960884, 0.7509483695030212, 0.03754741698503494, 0.1877370923757553, 0.26152676343917847, 0.09040431678295135, 0.07426068931818008, 0.2001809924840927, 0.16305063664913177, 0.019372353330254555, 0.12107720971107483, 0.0032287256326526403, 0.04035906866192818, 0.0032287256326526403, 0.009686176665127277, 0.008071813732385635, 0.0016143628163263202, 0.0032287256326526403, 0.2581179141998291, 0.060227517038583755, 0.0946432426571846, 0.23230613768100739, 0.10324717313051224, 0.017207862809300423, 0.10324717313051224, 0.02581179328262806, 0.05162358656525612, 0.008603931404650211, 0.008603931404650211, 0.008603931404650211, 0.01290589664131403, 0.017207862809300423, 0.02472206950187683, 0.04944413900375366, 0.8899945020675659, 0.06462810933589935, 0.37699732184410095, 0.17593207955360413, 0.05026631057262421, 0.010771351866424084, 0.19388432800769806, 0.0789899155497551, 0.02872360497713089, 0.0035904506221413612, 0.010771351866424084, 0.0035904506221413612, 0.0035904506221413612, 0.05891202762722969, 0.05891202762722969, 0.8836804032325745, 0.013216829858720303, 0.06986039131879807, 0.9081850647926331, 0.0018881185678765178, 0.0037762371357530355, 0.11720522493124008, 0.8697861433029175, 0.15875029563903809, 0.16982589662075043, 0.23812544345855713, 0.07014548033475876, 0.14582876861095428, 0.11629382520914078, 0.023997139185667038, 0.01661340333521366, 0.011075601913034916, 0.018459336832165718, 0.01661340333521366, 0.009229668416082859, 0.003691867459565401, 0.04031436890363693, 0.8466017246246338, 0.04031436890363693, 0.04031436890363693, 0.26539963483810425, 0.04423327371478081, 0.13269981741905212, 0.35386618971824646, 0.04423327371478081, 0.08846654742956161, 0.1503484547138214, 0.13452230393886566, 0.19149646162986755, 0.2326444536447525, 0.08862645924091339, 0.09970476478338242, 0.05222630500793457, 0.012660922482609749, 0.014243538491427898, 0.009495692327618599, 0.003165230620652437, 0.0015826153103262186, 0.003165230620652437, 0.003165230620652437, 0.15375348925590515, 0.20551210641860962, 0.06850403547286987, 0.1902889758348465, 0.08677177876234055, 0.030446236953139305, 0.16440968215465546, 0.05480322614312172, 0.024356989189982414, 0.0030446236487478018, 0.004566935356706381, 0.004566935356706381, 0.0030446236487478018, 0.0030446236487478018, 0.11115880310535431, 0.037052933126688004, 0.04631616547703743, 0.19452789425849915, 0.10189556330442429, 0.10189556330442429, 0.33347639441490173, 0.027789700776338577, 0.037052933126688004, 0.009263233281672001, 0.009263233281672001, 0.2344573736190796, 0.07815246284008026, 0.15630492568016052, 0.07815246284008026, 0.15630492568016052, 0.07815246284008026, 0.07815246284008026, 0.15630492568016052, 0.9537649750709534, 0.03179216384887695, 0.0926150381565094, 0.777966320514679, 0.03704601526260376, 0.07409203052520752, 0.023594606667757034, 0.943784236907959, 0.15802383422851562, 0.829625129699707, 0.14479626715183258, 0.07239813357591629, 0.651583194732666, 0.7621425986289978, 0.1429017335176468, 0.04763391241431236, 0.04763391241431236, 0.254237562417984, 0.21388238668441772, 0.20379358530044556, 0.06658602505922318, 0.04640844091773033, 0.08878136426210403, 0.026230858638882637, 0.024213099852204323, 0.048426199704408646, 0.006053274963051081, 0.002017758321017027, 0.010088792070746422, 0.006053274963051081, 0.002017758321017027, 0.08761199563741684, 0.25699520111083984, 0.22000345587730408, 0.10124053061008453, 0.025310132652521133, 0.1791178584098816, 0.06619572639465332, 0.035044796764850616, 0.017522398382425308, 0.0038938664365559816, 0.0038938664365559816, 0.0019469332182779908, 0.01590767130255699, 0.14316903054714203, 0.12726137042045593, 0.5726761221885681, 0.047723010182380676, 0.03181534260511398, 0.047723010182380676, 0.44523483514785767, 0.2671408951282501, 0.08904696255922318, 0.08904696255922318, 0.19422633945941925, 0.19422633945941925, 0.06474211066961288, 0.06474211066961288, 0.06474211066961288, 0.19422633945941925, 0.12948422133922577, 0.18764595687389374, 0.1395902782678604, 0.14645537734031677, 0.1578972041606903, 0.12814845144748688, 0.05492076650261879, 0.12814845144748688, 0.013730191625654697, 0.018306922167539597, 0.006865095812827349, 0.011441826820373535, 0.0022883652709424496, 0.0022883652709424496, 0.0768202543258667, 0.23443421721458435, 0.09403859078884125, 0.1456935852766037, 0.19205063581466675, 0.0900651291012764, 0.0397346131503582, 0.0317876897752285, 0.0582774356007576, 0.01854282058775425, 0.009271410293877125, 0.0013244871515780687, 0.005297948606312275, 0.0013244871515780687, 0.0013244871515780687, 0.167394757270813, 0.01673947647213936, 0.10043685883283615, 0.23435266315937042, 0.10043685883283615, 0.050218429416418076, 0.2594618797302246, 0.01673947647213936, 0.025109214708209038, 0.01673947647213936, 0.00836973823606968, 0.00836973823606968, 0.02446950040757656, 0.14681699872016907, 0.1957560032606125, 0.17128649353981018, 0.09787800163030624, 0.04893900081515312, 0.02446950040757656, 0.09787800163030624, 0.14681699872016907, 0.02446950040757656, 0.021084919571876526, 0.007028306368738413, 0.021084919571876526, 0.5974060893058777, 0.17570766806602478, 0.15462274849414825, 0.021084919571876526, 0.6659974455833435, 0.20812420547008514, 0.04162484034895897, 0.08033125847578049, 0.026777084916830063, 0.8836438059806824, 0.839746356010437, 0.04665257781744003, 0.023326288908720016, 0.023326288908720016, 0.13584838807582855, 0.2716967761516571, 0.5433935523033142, 0.052188023924827576, 0.6088603138923645, 0.12177205830812454, 0.01739600859582424, 0.03479201719164848, 0.08698004484176636, 0.03479201719164848, 0.01739600859582424, 0.06867945194244385, 0.3635970950126648, 0.2221982181072235, 0.028279773890972137, 0.03635970875620842, 0.15351876616477966, 0.016159871593117714, 0.056559547781944275, 0.008079935796558857, 0.024239806458353996, 0.008079935796558857, 0.0040399678982794285, 0.0040399678982794285, 0.0040399678982794285, 0.1918037235736847, 0.3836074471473694, 0.1918037235736847, 0.09590186178684235, 0.8446906208992004, 0.06497620046138763, 0.22012391686439514, 0.04891642555594444, 0.07337463647127151, 0.04891642555594444, 0.02445821277797222, 0.4402478337287903, 0.02445821277797222, 0.02445821277797222, 0.02445821277797222, 0.02445821277797222, 0.8551197052001953, 0.08551196753978729, 0.2982211410999298, 0.22366584837436676, 0.07455528527498245, 0.1491105705499649, 0.1491105705499649, 0.1370268613100052, 0.7308099865913391, 0.09135124832391739, 0.9818501472473145, 0.5335133075714111, 0.17783775925636292, 0.08891887962818146, 0.08891887962818146, 0.20872312784194946, 0.06957437843084335, 0.2782975137233734, 0.1391487568616867, 0.20872312784194946, 0.1391487568616867, 0.7581495046615601, 0.16847766935825348, 0.4433266520500183, 0.08866533637046814, 0.08866533637046814, 0.17733067274093628, 0.08866533637046814, 0.028279239311814308, 0.9473545551300049, 0.12316665798425674, 0.12316665798425674, 0.4310832917690277, 0.12316665798425674, 0.06158332899212837, 0.06158332899212837, 0.00730864517390728, 0.03654322773218155, 0.2871253490447998, 0.3330654203891754, 0.0031322764698415995, 0.3038308322429657, 0.009396829642355442, 0.008352737873792648, 0.0031322764698415995, 0.004176368936896324, 0.0031322764698415995, 0.9491620063781738, 0.22951389849185944, 0.5594401359558105, 0.08606771379709244, 0.014344618655741215, 0.014344618655741215, 0.0717230886220932, 0.014344618655741215, 0.5999817848205566, 0.01764652319252491, 0.3749886155128479, 0.21784798800945282, 0.128800630569458, 0.13675129413604736, 0.12721049785614014, 0.006360524799674749, 0.0015901311999186873, 0.1065387949347496, 0.1462920755147934, 0.11289931833744049, 0.006360524799674749, 0.0015901311999186873, 0.006360524799674749, 0.0015901311999186873, 0.838347315788269, 0.08383473008871078, 0.9267695546150208, 0.14083127677440643, 0.2039625346660614, 0.18696565926074982, 0.06313126534223557, 0.0728437677025795, 0.10926564782857895, 0.09955314546823502, 0.07041563838720322, 0.024281254038214684, 0.014568752609193325, 0.0024281253572553396, 0.012140627019107342, 0.0024281253572553396, 0.3257468640804291, 0.4886203110218048, 0.16287343204021454, 0.05340993404388428, 0.02670496702194214, 0.8545589447021484, 0.04005745053291321, 0.02670496702194214, 0.20968954265117645, 0.11207544058561325, 0.15184414386749268, 0.1138831153512001, 0.14822880923748016, 0.07049906998872757, 0.10846010595560074, 0.039768707007169724, 0.027115026488900185, 0.0072306739166378975, 0.0036153369583189487, 0.0036153369583189487, 0.0036153369583189487, 0.032959066331386566, 0.9583482146263123, 0.0025353129021823406, 0.0025353129021823406, 0.0025353129021823406, 0.34204015135765076, 0.06840802729129791, 0.13681605458259583, 0.06840802729129791, 0.34204015135765076, 0.16972461342811584, 0.14824925363063812, 0.25216227769851685, 0.09352172166109085, 0.04918549954891205, 0.133008673787117, 0.04641448333859444, 0.02286086603999138, 0.05472752824425697, 0.006234781350940466, 0.002078260527923703, 0.009698549285531044, 0.010391302406787872, 0.0013855070574209094, 0.0006927535287104547, 0.16623984277248383, 0.21873663365840912, 0.20998716354370117, 0.017498930916190147, 0.08749464899301529, 0.06999572366476059, 0.026248395442962646, 0.09624411910772324, 0.008749465458095074, 0.043747324496507645, 0.05249679088592529, 0.008749465458095074, 0.160992830991745, 0.10732855647802353, 0.07155236601829529, 0.44720229506492615, 0.017888091504573822, 0.08944046497344971, 0.08944046497344971, 0.017888091504573822, 0.4277500510215759, 0.061107151210308075, 0.2444286048412323, 0.12221430242061615, 0.061107151210308075, 0.061107151210308075, 0.10876618325710297, 0.09001339226961136, 0.1612740010023117, 0.2025301456451416, 0.05250781401991844, 0.16877511143684387, 0.007501116022467613, 0.04500669613480568, 0.0412561409175396, 0.1012650728225708, 0.007501116022467613, 0.0037505580112338066, 0.01125167403370142, 0.15537236630916595, 0.1586092859506607, 0.11329235136508942, 0.11167389154434204, 0.02913231961429119, 0.18612314760684967, 0.009710772894322872, 0.0890154168009758, 0.016184622421860695, 0.1019631177186966, 0.02104000747203827, 0.008092311210930347, 0.07399976253509521, 0.05549981817603111, 0.4809984266757965, 0.07399976253509521, 0.29599905014038086, 0.018499940633773804, 0.18288971483707428, 0.18288971483707428, 0.09144485741853714, 0.274334579706192, 0.18288971483707428, 0.09144485741853714, 0.15390664339065552, 0.07132259011268616, 0.12012225389480591, 0.09009169042110443, 0.3491052985191345, 0.04879966750741005, 0.018769102171063423, 0.04879966750741005, 0.037538204342126846, 0.022522922605276108, 0.015015281736850739, 0.007507640868425369, 0.007507640868425369, 0.015015281736850739, 0.15109167993068695, 0.1351872980594635, 0.10337851941585541, 0.2306136190891266, 0.14313948154449463, 0.12723509967327118, 0.031808774918317795, 0.007952193729579449, 0.02385658025741577, 0.03976096957921982, 0.06491108238697052, 0.21637026965618134, 0.15145918726921082, 0.15145918726921082, 0.1622776985168457, 0.010818513110280037, 0.21637026965618134, 0.021637026220560074, 0.18627934157848358, 0.09313967078924179, 0.09313967078924179, 0.5588380098342896, 0.9597734212875366, 0.1643001288175583, 0.23898200690746307, 0.080283023416996, 0.1699012815952301, 0.11202281713485718, 0.05414436385035515, 0.05227731540799141, 0.04854322224855423, 0.03920798748731613, 0.007468187715858221, 0.014936375431716442, 0.007468187715858221, 0.007468187715858221, 0.0037340938579291105, 0.0800914391875267, 0.7208229303359985, 0.1601828783750534, 0.777023434638977, 0.12950390577316284, 0.3166694939136505, 0.015833474695682526, 0.5225046277046204, 0.015833474695682526, 0.0633338987827301, 0.04750042036175728, 0.16246555745601654, 0.11116065084934235, 0.16674096882343292, 0.1945311278104782, 0.0726819634437561, 0.13253769278526306, 0.07909507304430008, 0.004275409504771233, 0.0491672083735466, 0.008550819009542465, 0.004275409504771233, 0.006413114257156849, 0.008550819009542465, 0.004275409504771233, 0.051765985786914825, 0.3435378968715668, 0.1741219460964203, 0.01176499668508768, 0.007058998104184866, 0.185886949300766, 0.08000197261571884, 0.0023529992904514074, 0.11059096455574036, 0.01176499668508768, 0.0023529992904514074, 0.0023529992904514074, 0.004705998580902815, 0.00941199716180563, 0.06922990828752518, 0.6922990679740906, 0.13845981657505035, 0.22231414914131165, 0.09842916578054428, 0.12049087882041931, 0.2053436040878296, 0.06957923620939255, 0.07127629220485687, 0.12049087882041931, 0.03054698370397091, 0.03733520209789276, 0.013576436787843704, 0.003394109196960926, 0.003394109196960926, 0.003394109196960926, 0.001697054598480463, 0.23440751433372498, 0.0353216789662838, 0.0353216789662838, 0.19908583164215088, 0.24404069781303406, 0.04174380376935005, 0.1541309654712677, 0.009633185341954231, 0.028899556025862694, 0.0032110619358718395, 0.006422123871743679, 0.0032110619358718395, 0.39437630772590637, 0.24648518860340118, 0.2957822382450104, 0.049297038465738297, 0.232446551322937, 0.052319157868623734, 0.14724105596542358, 0.19358088076114655, 0.12332373112440109, 0.042602743953466415, 0.09342706948518753, 0.021675080060958862, 0.06203557178378105, 0.0029896660707890987, 0.0059793321415781975, 0.0059793321415781975, 0.011211248114705086, 0.005231915973126888, 0.0007474165176972747, 0.42959660291671753, 0.03068547137081623, 0.0767136812210083, 0.10739915072917938, 0.0869421660900116, 0.12785613536834717, 0.04602820798754692, 0.015342735685408115, 0.03579971566796303, 0.005114245228469372, 0.015342735685408115, 0.010228490456938744, 0.005114245228469372, 0.005114245228469372, 0.25849324464797974, 0.03618905320763588, 0.031019190326333046, 0.2429836541414261, 0.10856716334819794, 0.04135891795158386, 0.15509594976902008, 0.025849325582385063, 0.046528786420822144, 0.005169864743947983, 0.031019190326333046, 0.015509595163166523, 0.09447722136974335, 0.3779088854789734, 0.1889544427394867, 0.1889544427394867, 0.09447722136974335, 0.010094551369547844, 0.9589824080467224, 0.010094551369547844, 0.010094551369547844, 0.13995049893856049, 0.006664309650659561, 0.5331447720527649, 0.10662895441055298, 0.006664309650659561, 0.026657238602638245, 0.006664309650659561, 0.1199575737118721, 0.026657238602638245, 0.013328619301319122, 0.006664309650659561, 0.1881391555070877, 0.14881062507629395, 0.1286149024963379, 0.15518821775913239, 0.1424330323934555, 0.08078291267156601, 0.0722794458270073, 0.019132794812321663, 0.021258661523461342, 0.011692263185977936, 0.020195728167891502, 0.003188799135386944, 0.004251732025295496, 0.003188799135386944, 0.022270726040005684, 0.9353705048561096, 0.0334060899913311, 0.24477703869342804, 0.09414501488208771, 0.07531601190567017, 0.20711903274059296, 0.01882900297641754, 0.09414501488208771, 0.18829002976417542, 0.03765800595283508, 0.01882900297641754, 0.01882900297641754, 0.01882900297641754, 0.01882900297641754, 0.12647360563278198, 0.16863147914409637, 0.12647360563278198, 0.042157869786024094, 0.46373656392097473, 0.042157869786024094, 0.21262043714523315, 0.12881384789943695, 0.1738210916519165, 0.17071713507175446, 0.0900144875049591, 0.04966316744685173, 0.08846251666545868, 0.024831583723425865, 0.02638355828821659, 0.007759870029985905, 0.006207895930856466, 0.0015519739827141166, 0.013967765495181084, 0.004655921831727028, 0.0015519739827141166, 0.19452644884586334, 0.10081297904253006, 0.11359208822250366, 0.19452644884586334, 0.15902891755104065, 0.06815525144338608, 0.06673534959554672, 0.024138318374753, 0.045436833053827286, 0.011359208263456821, 0.00993930734694004, 0.00425970321521163, 0.00851940643042326, 0.0014199010329321027, 0.09896150976419449, 0.16146351397037506, 0.1805613487958908, 0.22222936153411865, 0.031251002103090286, 0.13368484377861023, 0.10417000949382782, 0.02951483614742756, 0.012153168208897114, 0.001736166886985302, 0.003472333773970604, 0.006944667547941208, 0.006944667547941208, 0.005208500660955906, 0.9247981905937195, 0.056048374623060226, 0.014012093655765057, 0.9277467131614685, 0.3636598587036133, 0.007905649021267891, 0.039528243243694305, 0.11331430077552795, 0.44798678159713745, 0.015811298042535782, 0.0026352163404226303, 0.0026352163404226303, 0.005270432680845261, 0.0407436341047287, 0.8788983821868896, 0.052384670823812485, 0.02328207530081272, 0.9496105313301086, 0.12143809348344803, 0.12953397631645203, 0.11334222555160522, 0.28335556387901306, 0.08095873147249222, 0.024287618696689606, 0.024287618696689606, 0.16191746294498444, 0.04857523739337921, 0.016191747039556503, 0.1862410455942154, 0.0024505401961505413, 0.0024505401961505413, 0.5195145010948181, 0.24260346591472626, 0.0024505401961505413, 0.004901080392301083, 0.0024505401961505413, 0.0024505401961505413, 0.02205486036837101, 0.009802160784602165, 0.21845893561840057, 0.05881586670875549, 0.546147346496582, 0.09242493659257889, 0.016804533079266548, 0.008402266539633274, 0.008402266539633274, 0.042011331766843796, 0.5262128710746765, 0.08770214021205902, 0.08770214021205902, 0.08770214021205902, 0.08770214021205902, 0.08421433717012405, 0.08421433717012405, 0.08421433717012405, 0.25264298915863037, 0.4210716784000397, 0.0665392279624939, 0.5323138236999512, 0.1996176689863205, 0.09980883449316025, 0.0665392279624939, 0.9491195678710938, 0.27137675881385803, 0.09045892208814621, 0.27137675881385803, 0.09045892208814621, 0.09045892208814621, 0.09045892208814621, 0.6372471451759338, 0.09103530645370483, 0.07586275786161423, 0.07586275786161423, 0.01517255138605833, 0.01517255138605833, 0.07586275786161423, 0.1574399620294571, 0.1486932933330536, 0.2503732740879059, 0.11479996889829636, 0.055759984999895096, 0.13447996973991394, 0.06341331452131271, 0.0229599941521883, 0.0229599941521883, 0.015306662768125534, 0.0010933330049738288, 0.007653331384062767, 0.004373332019895315, 0.0010933330049738288, 0.9603976011276245, 0.6932978630065918, 0.27731916308403015, 0.1290777176618576, 0.3442072570323944, 0.0430259071290493, 0.3872331380844116, 0.0430259071290493, 0.7112613320350647, 0.005415695253759623, 0.2780056893825531, 0.032623060047626495, 0.032623060047626495, 0.9134456515312195, 0.036423489451408386, 0.15378807485103607, 0.19021156430244446, 0.1740233451128006, 0.028329381719231606, 0.21044683456420898, 0.020235272124409676, 0.08498813956975937, 0.044517599046230316, 0.020235272124409676, 0.004047054331749678, 0.028329381719231606, 0.004047054331749678, 0.14807359874248505, 0.14807359874248505, 0.5922943949699402, 0.02300109900534153, 0.966046154499054, 0.13455313444137573, 0.02018296904861927, 0.2152850180864334, 0.013455313630402088, 0.22874031960964203, 0.006727656815201044, 0.33638283610343933, 0.013455313630402088, 0.02018296904861927, 0.006727656815201044, 0.9763585329055786, 0.06789132207632065, 0.009698760695755482, 0.048493802547454834, 0.47523927688598633, 0.19882459938526154, 0.07759008556604385, 0.014548140577971935, 0.004849380347877741, 0.06789132207632065, 0.02909628115594387, 0.20581454038619995, 0.3293032646179199, 0.16465163230895996, 0.04116290807723999, 0.04116290807723999, 0.08232581615447998, 0.16465163230895996, 0.04417286068201065, 0.9011263847351074, 0.00883457250893116, 0.03533829003572464, 0.1061357632279396, 0.2653394043445587, 0.0530678816139698, 0.1592036485671997, 0.1061357632279396, 0.0530678816139698, 0.1592036485671997, 0.0530678816139698, 0.8065305948257446, 0.07332096248865128, 0.07332096248865128, 0.6101266145706177, 0.261482834815979, 0.08716094493865967, 0.07736250758171082, 0.30945003032684326, 0.07736250758171082, 0.23208752274513245, 0.07736250758171082, 0.07736250758171082, 0.15472501516342163, 0.017296139150857925, 0.8648070096969604, 0.08648069947957993, 0.017296139150857925, 0.20187057554721832, 0.28261879086494446, 0.040374115109443665, 0.20187057554721832, 0.16149646043777466, 0.08074823021888733, 0.21097563207149506, 0.10548781603574753, 0.15069687366485596, 0.0602787509560585, 0.2561846971511841, 0.10548781603574753, 0.015069687739014626, 0.07534843683242798, 0.03013937547802925, 0.40298327803611755, 0.009828859940171242, 0.5700739026069641, 0.009828859940171242, 0.5102831721305847, 0.4592548608779907, 0.19224926829338074, 0.44858160614967346, 0.3204154372215271, 0.9148024320602417, 0.06776314228773117, 0.159963458776474, 0.23820646107196808, 0.18256698548793793, 0.1408373862504959, 0.08345919847488403, 0.050423264503479004, 0.06259439885616302, 0.024342264980077744, 0.02608099952340126, 0.005216199904680252, 0.005216199904680252, 0.006954933051019907, 0.010432399809360504, 0.0017387332627549767, 0.12583431601524353, 0.09808623790740967, 0.40912285447120667, 0.10324867069721222, 0.007098346017301083, 0.14971058070659637, 0.009034259244799614, 0.04388068616390228, 0.010324867442250252, 0.025166863575577736, 0.01097017154097557, 0.003226520959287882, 0.002581216860562563, 0.0006453042151406407, 0.9500151872634888, 0.49927836656570435, 0.24963918328285217, 0.16642612218856812, 0.08177686482667923, 0.4906612038612366, 0.2453306019306183, 0.040888432413339615, 0.12266530096530914, 0.12263377755880356, 0.2366313636302948, 0.16754192113876343, 0.11745206266641617, 0.12954272329807281, 0.06563498079776764, 0.07081668823957443, 0.02072683535516262, 0.046635378152132034, 0.01036341767758131, 0.0017272362019866705, 0.006908944807946682, 0.0017272362019866705, 0.003454472403973341, 0.08056771755218506, 0.32227087020874023, 0.37598270177841187, 0.02685590647161007, 0.02685590647161007, 0.1342795342206955, 0.20931553840637207, 0.003608888480812311, 0.5990754961967468, 0.0830044373869896, 0.003608888480812311, 0.03969777375459671, 0.054133325815200806, 0.0637369453907013, 0.31868472695350647, 0.0637369453907013, 0.0637369453907013, 0.44615861773490906, 0.7469448447227478, 0.18673621118068695, 0.10514634102582932, 0.45563414692878723, 0.03504877910017967, 0.3504877984523773, 0.18035393953323364, 0.24241121113300323, 0.16290034353733063, 0.16871820390224457, 0.0639965608716011, 0.0950251966714859, 0.02521076612174511, 0.021332187578082085, 0.013575027696788311, 0.011635738424956799, 0.005817869212478399, 0.0019392897374927998, 0.0038785794749855995, 0.09451702982187271, 0.023629257455468178, 0.07088777422904968, 0.4016973674297333, 0.3544388711452484, 0.17919309437274933, 0.2419106811285019, 0.10154275596141815, 0.034345343708992004, 0.008959654718637466, 0.17321999371051788, 0.02986551634967327, 0.17471326887607574, 0.017919309437274933, 0.01642603427171707, 0.0014932758640497923, 0.011946206912398338, 0.005973103456199169, 0.0014932758640497923, 0.32675060629844666, 0.4901258945465088, 0.08168765157461166, 0.08168765157461166, 0.141224205493927, 0.5084071159362793, 0.19771388173103333, 0.02824483998119831, 0.08473452180624008, 0.15374521911144257, 0.09334530681371689, 0.12079980969429016, 0.24983596801757812, 0.09609075635671616, 0.07961805909872055, 0.09609075635671616, 0.016472700983285904, 0.06589080393314362, 0.005490900482982397, 0.0027454502414911985, 0.008236350491642952, 0.010981800965964794, 0.005490900482982397, 0.23649701476097107, 0.018192077055573463, 0.2910732328891754, 0.12734454870224, 0.12734454870224, 0.05457623302936554, 0.07276830822229385, 0.018192077055573463, 0.018192077055573463, 0.03638415411114693, 0.026732902973890305, 0.9490180611610413, 0.013366451486945152, 0.2292393296957016, 0.3820655643939972, 0.1528262197971344, 0.1528262197971344, 0.1470426321029663, 0.1470426321029663, 0.5146492123603821, 0.22056394815444946, 0.20452317595481873, 0.08308754116296768, 0.05432646721601486, 0.276425838470459, 0.13102266192436218, 0.02876107208430767, 0.15019670128822327, 0.00479351170361042, 0.03675025701522827, 0.0015978373121470213, 0.00798918679356575, 0.0031956746242940426, 0.01757621020078659, 0.2798117697238922, 0.7088565230369568, 0.06887972354888916, 0.11479953676462173, 0.7117571234703064, 0.06887972354888916, 0.184525728225708, 0.092262864112854, 0.645840048789978, 0.03989178314805031, 0.837727427482605, 0.03989178314805031, 0.03989178314805031, 0.19596022367477417, 0.09798011183738708, 0.39192044734954834, 0.09798011183738708, 0.19596022367477417, 0.030535617843270302, 0.7939260601997375, 0.030535617843270302, 0.09160685539245605, 0.08632417768239975, 0.12684369087219238, 0.3593904674053192, 0.1603163331747055, 0.024664051830768585, 0.1338905692100525, 0.029949204996228218, 0.010570308193564415, 0.03699607774615288, 0.007046871818602085, 0.0017617179546505213, 0.010570308193564415, 0.008808589540421963, 0.0017617179546505213, 0.22760507464408875, 0.06828152388334274, 0.1696692407131195, 0.13656304776668549, 0.175876647233963, 0.012414822354912758, 0.09104202687740326, 0.03517533093690872, 0.039313603192567825, 0.006207411177456379, 0.010345685295760632, 0.0020691370591521263, 0.008276548236608505, 0.014483959414064884, 0.14597101509571075, 0.07298550754785538, 0.21895653009414673, 0.07298550754785538, 0.21895653009414673, 0.07298550754785538, 0.14597101509571075, 0.2972428798675537, 0.16513492166996002, 0.06605397164821625, 0.033026985824108124, 0.3963238298892975, 0.168626070022583, 0.09708773344755173, 0.05109880864620209, 0.22483475506305695, 0.26571381092071533, 0.04087904840707779, 0.07153832912445068, 0.005109881050884724, 0.025549404323101044, 0.015329642221331596, 0.010219762101769447, 0.010219762101769447, 0.020439524203538895, 0.7767083644866943, 0.1726018637418747, 0.29837387800216675, 0.035102810710668564, 0.12285983562469482, 0.1579626500606537, 0.24571967124938965, 0.08775702863931656, 0.017551405355334282, 0.017551405355334282, 0.017551405355334282, 0.017551405355334282, 0.04076001048088074, 0.2038000524044037, 0.12228003144264221, 0.16304004192352295, 0.12228003144264221, 0.3260800838470459, 0.04076001048088074, 0.32651785016059875, 0.40814730525016785, 0.16325892508029938, 0.04909797012805939, 0.09819594025611877, 0.04909797012805939, 0.2945878207683563, 0.4418817162513733, 0.12813235819339752, 0.18304622173309326, 0.31850042939186096, 0.05125293880701065, 0.05491386353969574, 0.11714957654476166, 0.032948318868875504, 0.018304621800780296, 0.03660924360156059, 0.021965546533465385, 0.018304621800780296, 0.014643697068095207, 0.06324655562639236, 0.7589586973190308, 0.06324655562639236, 0.04227486997842789, 0.3804738223552704, 0.04227486997842789, 0.08454973995685577, 0.08454973995685577, 0.08454973995685577, 0.08454973995685577, 0.04227486997842789, 0.12682461738586426, 0.09580332040786743, 0.3832132816314697, 0.09580332040786743, 0.09580332040786743, 0.09580332040786743, 0.09580332040786743, 0.09580332040786743, 0.8322371244430542, 0.013210113160312176, 0.14531125128269196, 0.6575333476066589, 0.005923723801970482, 0.19548289477825165, 0.005923723801970482, 0.017771171405911446, 0.005923723801970482, 0.017771171405911446, 0.011847447603940964, 0.011847447603940964, 0.06516095995903015, 0.06581036001443863, 0.3208255171775818, 0.016452590003609657, 0.22210997343063354, 0.057584069669246674, 0.08226295560598373, 0.1398470252752304, 0.07403665781021118, 0.008226295001804829, 0.008226295001804829, 0.18257184326648712, 0.03651437163352966, 0.03651437163352966, 0.14605748653411865, 0.14605748653411865, 0.10954310745000839, 0.03651437163352966, 0.18257184326648712, 0.03651437163352966, 0.03651437163352966, 0.03651437163352966, 0.1266362965106964, 0.1266362965106964, 0.20578399300575256, 0.1582953780889511, 0.22161352634429932, 0.07914768904447556, 0.0316590741276741, 0.01582953706383705, 0.0316590741276741, 0.08889177441596985, 0.26667532324790955, 0.1777835488319397, 0.3555670976638794, 0.4288550913333893, 0.01099628396332264, 0.12095912545919418, 0.36287736892700195, 0.02199256792664528, 0.016494426876306534, 0.027490710839629173, 0.00549814198166132, 0.8549848198890686, 0.012042039074003696, 0.09633631259202957, 0.024084078148007393, 0.19627900421619415, 0.4906975030899048, 0.19627900421619415, 0.009025362320244312, 0.974739134311676, 0.20709986984729767, 0.7530904412269592, 0.01882726140320301, 0.07294166088104248, 0.07294166088104248, 0.5105916261672974, 0.07294166088104248, 0.14588332176208496, 0.22611655294895172, 0.025124061852693558, 0.025124061852693558, 0.602977454662323, 0.050248123705387115, 0.050248123705387115, 0.2561928629875183, 0.1707952320575714, 0.1707952320575714, 0.3415904641151428, 0.04890558868646622, 0.941432535648346, 0.8200691342353821, 0.1261644810438156, 0.3246300220489502, 0.3246300220489502, 0.1623150110244751, 0.1623150110244751, 0.9563681483268738, 0.9150044322013855, 0.06443693488836288, 0.9642534852027893, 0.12696100771427155, 0.2031376212835312, 0.34787318110466003, 0.0685589462518692, 0.05840206518769264, 0.04824518412351608, 0.03808830305933952, 0.04062752425670624, 0.03554908186197281, 0.00507844053208828, 0.00507844053208828, 0.00761766079813242, 0.01015688106417656, 0.07748007774353027, 0.7748007774353027, 0.07748007774353027, 0.5341218709945679, 0.012421438470482826, 0.17390014231204987, 0.19874301552772522, 0.012421438470482826, 0.03726431354880333, 0.024842876940965652, 0.0730089619755745, 0.3607501685619354, 0.2748572528362274, 0.04724109172821045, 0.008589289151132107, 0.146017923951149, 0.03435715660452843, 0.017178578302264214, 0.004294644575566053, 0.021473223343491554, 0.004294644575566053, 0.1499013453722, 0.23734380304813385, 0.11242600530385971, 0.16239312291145325, 0.22485201060771942, 0.02498355694115162, 0.01249177847057581, 0.02498355694115162, 0.01249177847057581, 0.01249177847057581, 0.02498355694115162, 0.17419877648353577, 0.6096956729888916, 0.08709938824176788, 0.08709938824176788, 0.01946437545120716, 0.058393124490976334, 0.06812531501054764, 0.058393124490976334, 0.46714499592781067, 0.1849115639925003, 0.11678624898195267, 0.00973218772560358, 0.12616559863090515, 0.16822080314159393, 0.08411040157079697, 0.04205520078539848, 0.5046623945236206, 0.04205520078539848, 0.2748463749885559, 0.24430787563323975, 0.061076968908309937, 0.3053848445415497, 0.030538484454154968, 0.0916154533624649, 0.06649794429540634, 0.06649794429540634, 0.13299588859081268, 0.3324897289276123, 0.06649794429540634, 0.06649794429540634, 0.06649794429540634, 0.06649794429540634, 0.2654038071632385, 0.35387173295021057, 0.08846793323755264, 0.08846793323755264, 0.08846793323755264, 0.17000049352645874, 0.11333366483449936, 0.22666732966899872, 0.22666732966899872, 0.05666683241724968, 0.17000049352645874, 0.07423731684684753, 0.7423731088638306, 0.07423731684684753, 0.07423731684684753, 0.13257411122322083, 0.07954446226358414, 0.715900182723999, 0.026514820754528046, 0.026514820754528046, 0.6934337019920349, 0.13868674635887146, 0.06934337317943573, 0.06934337317943573, 0.781348466873169, 0.060103725641965866, 0.12020745128393173, 0.23927950859069824, 0.39879918098449707, 0.07975983619689941, 0.31903934478759766, 0.30284208059310913, 0.020885659381747246, 0.020885659381747246, 0.3550562262535095, 0.13575679063796997, 0.031328488141298294, 0.020885659381747246, 0.08354263752698898, 0.020885659381747246, 0.33330729603767395, 0.5512389540672302, 0.06409755349159241, 0.012819510884582996, 0.019229266792535782, 0.012819510884582996, 0.0640963688492775, 0.8012046217918396, 0.0640963688492775, 0.03204818442463875, 0.03204818442463875, 0.5372353792190552, 0.08953922986984253, 0.17907845973968506, 0.08953922986984253, 0.1266307532787323, 0.6806402802467346, 0.11080190539360046, 0.031657688319683075, 0.031657688319683075, 0.015828844159841537, 0.6046048402786255, 0.04318605735898018, 0.04318605735898018, 0.08637211471796036, 0.04318605735898018, 0.08637211471796036, 0.04318605735898018, 0.19744500517845154, 0.7897800207138062, 0.163347527384758, 0.081673763692379, 0.163347527384758, 0.4900425672531128, 0.7880779504776001, 0.15761558711528778, 0.24739930033683777, 0.10021237283945084, 0.14718692004680634, 0.05950109660625458, 0.10334401577711105, 0.08768583089113235, 0.07202764600515366, 0.006263273302465677, 0.1409236490726471, 0.01565818302333355, 0.00939491018652916, 0.0031316366512328386, 0.006263273302465677, 0.1521022915840149, 0.1521022915840149, 0.22815343737602234, 0.07605114579200745, 0.22815343737602234, 0.07605114579200745, 0.07605114579200745, 0.3778737485408783, 0.09446843713521957, 0.2834053039550781, 0.18893687427043915, 0.7620242238044739, 0.10886059701442719, 0.05443029850721359, 0.18245504796504974, 0.045613761991262436, 0.022806880995631218, 0.31929633021354675, 0.19385848939418793, 0.11403440684080124, 0.011403440497815609, 0.022806880995631218, 0.011403440497815609, 0.022806880995631218, 0.045613761991262436, 0.022761749103665352, 0.9104699492454529, 0.015174499712884426, 0.0379362478852272, 0.007587249856442213, 0.06855620443820953, 0.40606364607810974, 0.15820661187171936, 0.05800909176468849, 0.03164132311940193, 0.17930082976818085, 0.03164132311940193, 0.02636777050793171, 0.015820661559700966, 0.005273554008454084, 0.005273554008454084, 0.005273554008454084, 0.11165551096200943, 0.7815885543823242, 0.03721850365400314, 0.03721850365400314, 0.03721850365400314, 0.08401919156312943, 0.5041151642799377, 0.16803838312625885, 0.06301439553499222, 0.07351679354906082, 0.07351679354906082, 0.021004797890782356, 0.8881188631057739, 0.08073807507753372, 0.7786485552787781, 0.1297747641801834, 0.0648873820900917, 0.3617905080318451, 0.21707430481910706, 0.14471620321273804, 0.21707430481910706, 0.7246366739273071, 0.038138773292303085, 0.038138773292303085, 0.11441632360219955, 0.07627754658460617, 0.18644104897975922, 0.3107350766658783, 0.18644104897975922, 0.12429402768611908, 0.12429402768611908, 0.11073482036590576, 0.11073482036590576, 0.11073482036590576, 0.11073482036590576, 0.2768370509147644, 0.11073482036590576, 0.02846195176243782, 0.25046518445014954, 0.23908039927482605, 0.05692390352487564, 0.04269292578101158, 0.23908039927482605, 0.0028461951296776533, 0.07400107383728027, 0.02561575546860695, 0.02561575546860695, 0.008538585156202316, 0.005692390259355307, 0.046317216008901596, 0.18526886403560638, 0.23158608376979828, 0.09263443201780319, 0.1389516443014145, 0.09263443201780319, 0.046317216008901596, 0.09263443201780319, 0.09263443201780319, 0.046317216008901596, 0.3245084285736084, 0.13907504081726074, 0.046358346939086914, 0.18543338775634766, 0.046358346939086914, 0.09271669387817383, 0.046358346939086914, 0.13907504081726074, 0.0126078762114048, 0.9455907344818115, 0.0126078762114048, 0.0126078762114048, 0.08114983141422272, 0.04057491570711136, 0.12172474712133408, 0.36517423391342163, 0.08114983141422272, 0.12172474712133408, 0.08114983141422272, 0.04057491570711136, 0.084211565554142, 0.168423131108284, 0.0168423131108284, 0.084211565554142, 0.0168423131108284, 0.6231656074523926, 0.00270324619486928, 0.9623556733131409, 0.00270324619486928, 0.00270324619486928, 0.02432921715080738, 0.00270324619486928, 0.2655997574329376, 0.1327998787164688, 0.5311995148658752, 0.04426662623882294, 0.14684194326400757, 0.15244659781455994, 0.12106053531169891, 0.2309117615222931, 0.13114891946315765, 0.11433494836091995, 0.029144203290343285, 0.019055824726819992, 0.010088377632200718, 0.016813963651657104, 0.01569303311407566, 0.004483723547309637, 0.0022418617736548185, 0.005604654550552368, 0.10923612117767334, 0.10923612117767334, 0.7646528482437134, 0.12610787153244019, 0.5464674830436707, 0.2732337415218353, 0.04203595966100693, 0.2298840433359146, 0.07008659839630127, 0.10092470049858093, 0.17661823332309723, 0.2298840433359146, 0.025231175124645233, 0.0953177735209465, 0.014017320238053799, 0.028034640476107597, 0.0056069279089570045, 0.014017320238053799, 0.0028034639544785023, 0.0028034639544785023, 0.0028034639544785023, 0.0028034639544785023, 0.07948048412799835, 0.715324342250824, 0.07948048412799835, 0.3174417018890381, 0.25395336747169495, 0.12697668373584747, 0.12697668373584747, 0.06348834186792374, 0.06348834186792374, 0.06348834186792374, 0.06348834186792374, 0.1531103104352951, 0.4593309462070465, 0.19138789176940918, 0.038277577608823776, 0.07655515521764755, 0.07655515521764755, 0.8540129065513611, 0.08540128916501999, 0.19869381189346313, 0.03311563655734062, 0.36427199840545654, 0.23180945217609406, 0.03311563655734062, 0.1324625462293625, 0.03311563655734062, 0.14784370362758636, 0.15812847018241882, 0.11827495694160461, 0.1748412400484085, 0.08356382697820663, 0.09127741307020187, 0.10284779220819473, 0.044995907694101334, 0.03728232532739639, 0.003856792114675045, 0.01542716845870018, 0.005142389331012964, 0.010284778662025928, 0.005142389331012964, 0.35187476873397827, 0.019548598676919937, 0.19548597931861877, 0.019548598676919937, 0.39097195863723755, 0.019548598676919937, 0.28168705105781555, 0.09682992845773697, 0.026408161967992783, 0.21126529574394226, 0.14084352552890778, 0.044013604521751404, 0.12323808670043945, 0.017605440691113472, 0.017605440691113472, 0.026408161967992783, 0.008802720345556736, 0.008802720345556736, 0.008802720345556736, 0.44988366961479187, 0.024318035691976547, 0.044583067297935486, 0.105378158390522, 0.210756316781044, 0.04053005948662758, 0.008106011897325516, 0.07700711488723755, 0.004053005948662758, 0.012159017845988274, 0.01621202379465103, 0.004053005948662758, 0.19411276280879974, 0.017646614462137222, 0.19411276280879974, 0.3882255256175995, 0.052939847111701965, 0.017646614462137222, 0.017646614462137222, 0.08823307603597641, 0.017646614462137222, 0.7634629607200623, 0.12724381685256958, 0.06362190842628479, 0.04318954423069954, 0.04318954423069954, 0.04318954423069954, 0.6910327076911926, 0.04318954423069954, 0.08637908846139908, 0.08637908846139908, 0.03748434782028198, 0.14993739128112793, 0.2249060720205307, 0.14993739128112793, 0.03748434782028198, 0.29987478256225586, 0.03748434782028198, 0.1825735718011856, 0.16467420756816864, 0.17183394730091095, 0.14319495856761932, 0.1145559623837471, 0.06801760196685791, 0.07159747928380966, 0.039378613233566284, 0.007159747648984194, 0.007159747648984194, 0.02147924341261387, 0.007159747648984194, 0.007159747648984194, 0.10912234336137772, 0.15512490272521973, 0.21503521502017975, 0.1914990097284317, 0.04600255563855171, 0.1412171572446823, 0.05242151767015457, 0.023536192253232002, 0.03316463530063629, 0.010698269121348858, 0.003209480782970786, 0.009628442116081715, 0.005349134560674429, 0.002139653777703643, 0.08445589244365692, 0.08445589244365692, 0.25336769223213196, 0.5067353844642639, 0.11035226285457611, 0.055176131427288055, 0.16552838683128357, 0.3862329125404358, 0.16552838683128357, 0.7509775161743164, 0.1609237641096115, 0.02307158336043358, 0.18457266688346863, 0.2076442539691925, 0.27685901522636414, 0.18457266688346863, 0.09228633344173431, 0.6580983400344849, 0.18802809715270996, 0.09401404857635498, 0.29260334372520447, 0.21945251524448395, 0.07315083593130112, 0.29260334372520447, 0.07315083593130112, 0.06066839396953583, 0.18200518190860748, 0.30334195494651794, 0.18200518190860748, 0.06066839396953583, 0.18200518190860748, 0.21570107340812683, 0.026962634176015854, 0.026962634176015854, 0.6201406121253967, 0.05392526835203171, 0.026962634176015854, 0.21317428350448608, 0.17320410907268524, 0.07105809450149536, 0.12879279255867004, 0.14655731618404388, 0.1110282689332962, 0.04885243996977806, 0.02664678543806076, 0.03552904725074768, 0.00888226181268692, 0.02664678543806076, 0.00888226181268692, 0.00444113090634346, 0.09231937676668167, 0.7385550141334534, 0.023098977282643318, 0.12044466286897659, 0.11549488455057144, 0.51807701587677, 0.004949780646711588, 0.04784787818789482, 0.003299853764474392, 0.05114773288369179, 0.016499269753694534, 0.09404583275318146, 0.001649926882237196, 0.001649926882237196, 0.020517263561487198, 0.4616384506225586, 0.047873616218566895, 0.017097720876336098, 0.001709772041067481, 0.2718537449836731, 0.0051293158903717995, 0.14533062279224396, 0.011968404054641724, 0.003419544082134962, 0.006839088164269924, 0.001709772041067481, 0.003419544082134962, 0.042661067098379135, 0.17597690224647522, 0.037328433245420456, 0.06399159878492355, 0.3679516911506653, 0.021330533549189568, 0.1279831975698471, 0.10665266960859299, 0.047993700951337814, 0.005332633387297392, 0.005332633387297392, 0.17729350924491882, 0.12663821876049042, 0.10131057351827621, 0.30393171310424805, 0.25327643752098083, 0.025327643379569054, 0.025327643379569054, 0.20003177225589752, 0.46674078702926636, 0.06667725741863251, 0.13335451483726501, 0.06667725741863251, 0.10255973041057587, 0.034186575561761856, 0.034186575561761856, 0.034186575561761856, 0.20511946082115173, 0.06837315112352371, 0.4786120653152466, 0.034186575561761856, 0.034186575561761856, 0.3296537399291992, 0.0833607167005539, 0.17051056027412415, 0.12125195562839508, 0.0833607167005539, 0.0833607167005539, 0.05683685466647148, 0.022734742611646652, 0.02652386575937271, 0.0037891236133873463, 0.011367371305823326, 0.0037891236133873463, 0.0037891236133873463, 0.0037891236133873463, 0.03458089008927345, 0.16425922513008118, 0.752134382724762, 0.008645222522318363, 0.008645222522318363, 0.008645222522318363, 0.008645222522318363, 0.008645222522318363, 0.8716798424720764, 0.08381536602973938, 0.016763074323534966, 0.05898624658584595, 0.05898624658584595, 0.05898624658584595, 0.3539174795150757, 0.05898624658584595, 0.2359449863433838, 0.1179724931716919, 0.05898624658584595, 0.07266229391098022, 0.21798686683177948, 0.21798686683177948, 0.21798686683177948, 0.07266229391098022, 0.14532458782196045, 0.07266229391098022, 0.0819755271077156, 0.2545555830001831, 0.19307394325733185, 0.11325566470623016, 0.05608851835131645, 0.16071517765522003, 0.028044259175658226, 0.04961676523089409, 0.022651132196187973, 0.01725800521671772, 0.006471752189099789, 0.009707627817988396, 0.005393126979470253, 0.002157250652089715, 0.9601051807403564, 0.17511582374572754, 0.06293224543333054, 0.28456321358680725, 0.12039212137460709, 0.16143488883972168, 0.08208554238080978, 0.051987506449222565, 0.016417108476161957, 0.008208554238080978, 0.008208554238080978, 0.01915329322218895, 0.005472369492053986, 0.17586259543895721, 0.08793129771947861, 0.35172519087791443, 0.08793129771947861, 0.17586259543895721, 0.08793129771947861, 0.28894326090812683, 0.057788651436567307, 0.23115460574626923, 0.28894326090812683, 0.057788651436567307, 0.3940161168575287, 0.19700805842876434, 0.09850402921438217, 0.19700805842876434, 0.26137593388557434, 0.08712530881166458, 0.5227518677711487, 0.08712530881166458, 0.1717851758003235, 0.18517103791236877, 0.19855688512325287, 0.11377979069948196, 0.08700807392597198, 0.10262490808963776, 0.05131245404481888, 0.013385857455432415, 0.04461952671408653, 0.008923904970288277, 0.004461952485144138, 0.015616834163665771, 0.002230976242572069, 0.002230976242572069, 0.1731419414281845, 0.346283882856369, 0.08657097071409225, 0.08657097071409225, 0.25971290469169617, 0.19016008079051971, 0.6655603051185608, 0.17318789660930634, 0.21648487448692322, 0.21648487448692322, 0.2597818374633789, 0.043296974152326584, 0.043296974152326584, 0.11485829204320908, 0.5036094188690186, 0.12369354814291, 0.035341013222932816, 0.026505760848522186, 0.08393491059541702, 0.035341013222932816, 0.04859389364719391, 0.004417626652866602, 0.017670506611466408, 0.23220786452293396, 0.07740262150764465, 0.4644157290458679, 0.1548052430152893, 0.08518534898757935, 0.1703706979751587, 0.08518534898757935, 0.1703706979751587, 0.20444484055042267, 0.03407413884997368, 0.11925949156284332, 0.03407413884997368, 0.03407413884997368, 0.01703706942498684, 0.01703706942498684, 0.03407413884997368, 0.01703706942498684, 0.2222139984369278, 0.38887450098991394, 0.05555349960923195, 0.16666050255298615, 0.05555349960923195, 0.05555349960923195, 0.09256467968225479, 0.27769404649734497, 0.09256467968225479, 0.37025871872901917, 0.09256467968225479, 0.1691841334104538, 0.010253584012389183, 0.26659318804740906, 0.07177508622407913, 0.0153803750872612, 0.08715546131134033, 0.0051267920061945915, 0.34862184524536133, 0.010253584012389183, 0.010253584012389183, 0.10181055963039398, 0.15271584689617157, 0.10181055963039398, 0.15271584689617157, 0.30543169379234314, 0.05090527981519699, 0.15271584689617157, 0.22932520508766174, 0.22932520508766174, 0.07644173502922058, 0.3057669401168823, 0.15288347005844116, 0.05105261504650116, 0.9189471006393433, 0.032167889177799225, 0.9328687787055969, 0.2017269879579544, 0.030564695596694946, 0.042790573090314865, 0.2353481501340866, 0.2506304979324341, 0.024451756849884987, 0.14059759676456451, 0.009169408120214939, 0.036677632480859756, 0.006112939212471247, 0.0030564696062356234, 0.0030564696062356234, 0.0030564696062356234, 0.012225878424942493, 0.9423801898956299, 0.19946716725826263, 0.0704001784324646, 0.058666814118623734, 0.2816007137298584, 0.07822241634130478, 0.03128896653652191, 0.19164492189884186, 0.011733362451195717, 0.050844572484493256, 0.003911120817065239, 0.007822241634130478, 0.003911120817065239, 0.003911120817065239, 0.3036268949508667, 0.20241792500019073, 0.3036268949508667, 0.050604481250047684, 0.050604481250047684, 0.050604481250047684, 0.08179613947868347, 0.2522047460079193, 0.047714415937662125, 0.027265379205346107, 0.2999191880226135, 0.054530758410692215, 0.040898069739341736, 0.15677593648433685, 0.006816344801336527, 0.020449034869670868, 0.013632689602673054, 0.09673961997032166, 0.1934792399406433, 0.24184904992580414, 0.09673961997032166, 0.09673961997032166, 0.04836980998516083, 0.09673961997032166, 0.04836980998516083, 0.11106251925230026, 0.18510420620441437, 0.22212503850460052, 0.18510420620441437, 0.037020839750766754, 0.14808335900306702, 0.07404167950153351, 0.037020839750766754, 0.7683563828468323, 0.06402970105409622, 0.06402970105409622, 0.06402970105409622, 0.4448537528514862, 0.2669122517108917, 0.17794150114059448, 0.40703922510147095, 0.06783986836671829, 0.033919934183359146, 0.10175980627536774, 0.16959968209266663, 0.06783986836671829, 0.033919934183359146, 0.10175980627536774, 0.1600538194179535, 0.1484135538339615, 0.24444584548473358, 0.1542336791753769, 0.046561114490032196, 0.10767257213592529, 0.0378309041261673, 0.0320107638835907, 0.0174604170024395, 0.011640278622508049, 0.0029100696556270123, 0.02619062550365925, 0.00873020850121975, 0.0058201393112540245, 0.08936095237731934, 0.1260627657175064, 0.3718053698539734, 0.09733960777521133, 0.03829754889011383, 0.14680728316307068, 0.014361581765115261, 0.06382925063371658, 0.03191462531685829, 0.011170119047164917, 0.0015957312425598502, 0.004787193611264229, 0.0015957312425598502, 0.12755143642425537, 0.26491454243659973, 0.009811649098992348, 0.11773979663848877, 0.07849319279193878, 0.20604464411735535, 0.058869898319244385, 0.04905824735760689, 0.06868154555559158, 0.019623298197984695, 0.009811649098992348, 0.07841894030570984, 0.9148876070976257, 0.03007669188082218, 0.9323774576187134, 0.16281236708164215, 0.05814727395772934, 0.11047981679439545, 0.13955345749855042, 0.15118290483951569, 0.04070309177041054, 0.26747745275497437, 0.023258909583091736, 0.011629454791545868, 0.005814727395772934, 0.011629454791545868, 0.0741441622376442, 0.22243249416351318, 0.0741441622376442, 0.1482883244752884, 0.37072083353996277, 0.0741441622376442, 0.18315020203590393, 0.10989011824131012, 0.14652016758918762, 0.21978023648262024, 0.10989011824131012, 0.07326008379459381, 0.14652016758918762, 0.14567187428474426, 0.10767050832509995, 0.2153410166501999, 0.0950033888220787, 0.11400406807661057, 0.03800135850906372, 0.08866982907056808, 0.0950033888220787, 0.04433491453528404, 0.012667118571698666, 0.01900067925453186, 0.006333559285849333, 0.01900067925453186, 0.006333559285849333, 0.03886996582150459, 0.9328791499137878, 0.18916453421115875, 0.06305484473705292, 0.06305484473705292, 0.2101828157901764, 0.14712797105312347, 0.08407312631607056, 0.02101828157901764, 0.08407312631607056, 0.02101828157901764, 0.1050914078950882, 0.3751937747001648, 0.027792131528258324, 0.36129769682884216, 0.09727246314287186, 0.027792131528258324, 0.06948032975196838, 0.027792131528258324, 0.609118640422821, 0.07613983005285263, 0.15227966010570526, 0.15227966010570526, 0.19928310811519623, 0.17529532313346863, 0.1402362585067749, 0.1568431854248047, 0.05166599154472351, 0.08857027441263199, 0.04613034799695015, 0.022142568603157997, 0.07011812925338745, 0.012916497886180878, 0.005535642150789499, 0.016606925055384636, 0.007380855735391378, 0.007380855735391378, 0.8716359734535217, 0.08716359734535217, 0.6229745745658875, 0.02708585187792778, 0.09480047971010208, 0.01354292593896389, 0.04062877967953682, 0.02708585187792778, 0.05417170375585556, 0.12188633531332016, 0.7523645758628845, 0.161220982670784, 0.12236729264259338, 0.24473458528518677, 0.08157819509506226, 0.08157819509506226, 0.08157819509506226, 0.04078909754753113, 0.2855236828327179, 0.04078909754753113, 0.24576856195926666, 0.14746113121509552, 0.04915371164679527, 0.09830742329359055, 0.04915371164679527, 0.04915371164679527, 0.29492226243019104, 0.06279206275939941, 0.21977221965789795, 0.4860105514526367, 0.07535047829151154, 0.026372665539383888, 0.03390771523118019, 0.017581777647137642, 0.05023365095257759, 0.006279206369072199, 0.005023364908993244, 0.005023364908993244, 0.007535047363489866, 0.002511682454496622, 0.002511682454496622, 0.1454995721578598, 0.14248403906822205, 0.3023073971271515, 0.11685199290513992, 0.03241700306534767, 0.12514470517635345, 0.04674079641699791, 0.037694189697504044, 0.022616514936089516, 0.012062140740454197, 0.0015077675925567746, 0.004523302894085646, 0.009046605788171291, 0.0015077675925567746, 0.25597962737083435, 0.5119592547416687, 0.08532654494047165, 0.9736891388893127, 0.009835243225097656, 0.2031850814819336, 0.06772836297750473, 0.06772836297750473, 0.06772836297750473, 0.5418269038200378, 0.21703796088695526, 0.12154126167297363, 0.18057559430599213, 0.16321255266666412, 0.11546419560909271, 0.06424324214458466, 0.07466106116771698, 0.020835645496845245, 0.017363037914037704, 0.007813367061316967, 0.0026044556871056557, 0.006945215165615082, 0.004340759478509426, 0.003472607582807541, 0.0008681518957018852, 0.34957581758499146, 0.17478790879249573, 0.23305055499076843, 0.11652527749538422, 0.05826263874769211, 0.04038089141249657, 0.04038089141249657, 0.08076178282499313, 0.7672369480133057, 0.16382668912410736, 0.20192591845989227, 0.1600167602300644, 0.15620683133602142, 0.06286372989416122, 0.1314423382282257, 0.036194268614053726, 0.03047938272356987, 0.024764498695731163, 0.009524807333946228, 0.0038099228404462337, 0.011429768986999989, 0.005714884493499994, 0.25772374868392944, 0.25772374868392944, 0.42953959107398987, 0.13170892000198364, 0.2117672860622406, 0.1885245442390442, 0.1446215659379959, 0.03099033422768116, 0.1058836430311203, 0.07231078296899796, 0.03357286378741264, 0.02582527883350849, 0.012912639416754246, 0.01807769574224949, 0.010330111719667912, 0.010330111719667912, 0.24444833397865295, 0.10419109463691711, 0.08415434509515762, 0.13424621522426605, 0.16229766607284546, 0.08014699071645737, 0.08615801483392715, 0.030055122449994087, 0.04408084601163864, 0.004007349722087383, 0.014025723561644554, 0.004007349722087383, 0.004007349722087383, 0.0020036748610436916, 0.0782550498843193, 0.0782550498843193, 0.1565100997686386, 0.5477853417396545, 0.0782550498843193, 0.08019892871379852, 0.40521565079689026, 0.08441992849111557, 0.06331494450569153, 0.05487295240163803, 0.18994483351707458, 0.016883986070752144, 0.05065195634961128, 0.01266298908740282, 0.016883986070752144, 0.016883986070752144, 0.008441993035376072, 0.11788302659988403, 0.11788302659988403, 0.05894151329994202, 0.05894151329994202, 0.05894151329994202, 0.05894151329994202, 0.47153210639953613, 0.05894151329994202, 0.058903489261865616, 0.7657453417778015, 0.11780697852373123, 0.1400119662284851, 0.08400717377662659, 0.2800239324569702, 0.11200957000255585, 0.25202152132987976, 0.028002392500638962, 0.056004785001277924, 0.056004785001277924, 0.0541912205517292, 0.0541912205517292, 0.009031870402395725, 0.09935057163238525, 0.5870715379714966, 0.13547804951667786, 0.009031870402395725, 0.01806374080479145, 0.01806374080479145, 0.009031870402395725, 0.23248828947544098, 0.11624414473772049, 0.23248828947544098, 0.058122072368860245, 0.17436622083187103, 0.058122072368860245, 0.058122072368860245, 0.2694263458251953, 0.2694263458251953, 0.17961756885051727, 0.08980878442525864, 0.3904717266559601, 0.09761793166399002, 0.19523586332798004, 0.09761793166399002, 0.14893579483032227, 0.17776207625865936, 0.15374016761779785, 0.09128322452306747, 0.08647884428501129, 0.08647884428501129, 0.17776207625865936, 0.009608760476112366, 0.028826281428337097, 0.009608760476112366, 0.014413140714168549, 0.004804380238056183, 0.009608760476112366, 0.053306568413972855, 0.10661313682794571, 0.10661313682794571, 0.6929853558540344, 0.1592337042093277, 0.11795089393854141, 0.06487299501895905, 0.2034652978181839, 0.20641405880451202, 0.07961685210466385, 0.08551439642906189, 0.011795089580118656, 0.029487723484635353, 0.005897544790059328, 0.014743861742317677, 0.002948772395029664, 0.008846317417919636, 0.008846317417919636, 0.002948772395029664, 0.22693081200122833, 0.1933114379644394, 0.1428823620080948, 0.09245329350233078, 0.07564360648393631, 0.03361937776207924, 0.08404844999313354, 0.06723875552415848, 0.04202422499656677, 0.025214534252882004, 0.00840484444051981, 0.054960571229457855, 0.2748028337955475, 0.21984228491783142, 0.10992114245891571, 0.2748028337955475, 0.6254929900169373, 0.09622969478368759, 0.1443445384502411, 0.09622969478368759, 0.0711640939116478, 0.16820605099201202, 0.12938927114009857, 0.09057248383760452, 0.40757620334625244, 0.012938926927745342, 0.019408389925956726, 0.05175570771098137, 0.006469463463872671, 0.006469463463872671, 0.03234731778502464, 0.05119536444544792, 0.2047814577817917, 0.15358608961105347, 0.5119536519050598, 0.280414879322052, 0.560829758644104, 0.09347162395715714, 0.2093452513217926, 0.7065402269363403, 0.026168156415224075, 0.692956805229187, 0.15399040281772614, 0.02566506713628769, 0.07699520140886307, 0.7786235213279724, 0.08651372045278549, 0.726351797580719, 0.16141150891780853, 0.08070575445890427, 0.8826720118522644, 0.15050669014453888, 0.15050669014453888, 0.25084447860717773, 0.2006755918264389, 0.10033779591321945, 0.10033779591321945, 0.4494083821773529, 0.20427654683589935, 0.20427654683589935, 0.04085530713200569, 0.04085530713200569, 0.02072593756020069, 0.5181484222412109, 0.1036296859383583, 0.02072593756020069, 0.22798530757427216, 0.04145187512040138, 0.04145187512040138, 0.055325061082839966, 0.9405260682106018, 0.23892728984355927, 0.04778545722365379, 0.14335636794567108, 0.14335636794567108, 0.38228365778923035, 0.37793490290641785, 0.12597830593585968, 0.06298915296792984, 0.12597830593585968, 0.06298915296792984, 0.06298915296792984, 0.06298915296792984, 0.06962475925683975, 0.27440345287323, 0.29488134384155273, 0.040955740958452225, 0.020477870479226112, 0.12286721915006638, 0.040955740958452225, 0.07372033596038818, 0.05324246361851692, 0.11518620699644089, 0.2687678337097168, 0.23037241399288177, 0.03839540481567383, 0.11518620699644089, 0.07679080963134766, 0.03839540481567383, 0.11518620699644089, 0.09673964977264404, 0.09673964977264404, 0.4836982786655426, 0.09673964977264404, 0.19347929954528809, 0.32141342759132385, 0.06428268551826477, 0.2571307420730591, 0.32141342759132385, 0.17155936360359192, 0.5575679540634155, 0.1972932666540146, 0.051467809826135635, 0.017155935987830162, 0.008577967993915081, 0.19259972870349884, 0.2567996382713318, 0.5135992765426636, 0.11251696944236755, 0.2009231597185135, 0.14868314564228058, 0.14868314564228058, 0.21699701249599457, 0.10046157985925674, 0.01205538958311081, 0.00401846319437027, 0.00803692638874054, 0.02812924236059189, 0.00803692638874054, 0.00401846319437027, 0.00401846319437027, 0.00803692638874054, 0.24585995078086853, 0.12292997539043427, 0.06146498769521713, 0.24585995078086853, 0.24585995078086853, 0.06146498769521713, 0.38737496733665466, 0.09684374183416367, 0.09684374183416367, 0.19368748366832733, 0.09684374183416367, 0.12414295971393585, 0.31035739183425903, 0.062071479856967926, 0.31035739183425903, 0.12414295971393585, 0.13268515467643738, 0.044228386133909225, 0.061919741332530975, 0.3803641200065613, 0.22114193439483643, 0.008845677599310875, 0.07961109280586243, 0.01769135519862175, 0.026537032797932625, 0.008845677599310875, 0.008845677599310875, 0.008845677599310875, 0.008845677599310875, 0.1191852018237114, 0.0595926009118557, 0.0595926009118557, 0.1191852018237114, 0.5959259867668152, 0.17713743448257446, 0.15265502035617828, 0.19297899305820465, 0.1483345925807953, 0.08784864842891693, 0.10945077240467072, 0.05184510350227356, 0.01296127587556839, 0.02736269310116768, 0.017281699925661087, 0.005760566797107458, 0.005760566797107458, 0.0072007086127996445, 0.002880283398553729, 0.0014401416992768645, 0.21507032215595245, 0.7169010639190674, 0.18907418847084045, 0.10258280485868454, 0.08447995781898499, 0.1930970549583435, 0.1488456428050995, 0.106605663895607, 0.08246853202581406, 0.026148559525609016, 0.03218284249305725, 0.0060342829674482346, 0.010057138279080391, 0.002011427655816078, 0.016091421246528625, 0.004022855311632156, 0.0786595270037651, 0.9124504923820496, 0.002247415017336607, 0.002247415017336607, 0.9415122270584106, 0.45957013964653015, 0.1313057541847229, 0.19695863127708435, 0.1313057541847229, 0.030398624017834663, 0.9474238157272339, 0.0050664376467466354, 0.010132875293493271, 0.0050664376467466354, 0.01193983480334282, 0.03581950441002846, 0.15521785616874695, 0.09551867842674255, 0.22685687243938446, 0.01193983480334282, 0.059699174016714096, 0.27461621165275574, 0.09551867842674255, 0.02387966960668564, 0.9735629558563232, 0.004772367421537638, 0.014317101798951626, 0.16611118614673615, 0.49833354353904724, 0.16611118614673615, 0.1942821443080902, 0.13877294957637787, 0.06938647478818893, 0.15265025198459625, 0.11101836711168289, 0.027754591777920723, 0.0971410721540451, 0.11101836711168289, 0.027754591777920723, 0.027754591777920723, 0.04163188487291336, 0.736616849899292, 0.11332567036151886, 0.05666283518075943, 0.05996351316571236, 0.9278565049171448, 0.0031559744384139776, 0.14941757917404175, 0.2988351583480835, 0.03735439479351044, 0.14941757917404175, 0.26148074865341187, 0.03735439479351044, 0.14991408586502075, 0.13991981744766235, 0.23986254632472992, 0.14491695165634155, 0.10993700474500656, 0.07995418459177017, 0.05996563658118248, 0.012492841109633446, 0.02748425118625164, 0.012492841109633446, 0.004997136536985636, 0.01499140914529562, 0.002498568268492818, 0.19871008396148682, 0.12273269891738892, 0.11396607756614685, 0.18117684125900269, 0.10812166333198547, 0.06428855657577515, 0.09643283486366272, 0.014611035585403442, 0.06136634945869446, 0.008766621351242065, 0.023377656936645508, 0.0029222071170806885, 0.0029222071170806885, 0.3132108449935913, 0.05872703343629837, 0.0743875801563263, 0.0743875801563263, 0.1996719241142273, 0.05089676380157471, 0.08221784979104996, 0.02740594930946827, 0.08221784979104996, 0.007830271497368813, 0.007830271497368813, 0.023490814492106438, 0.003915135748684406, 0.0950755923986435, 0.190151184797287, 0.190151184797287, 0.47537797689437866, 0.0950755923986435, 0.16314469277858734, 0.4350525140762329, 0.054381564259529114, 0.16314469277858734, 0.054381564259529114, 0.054381564259529114, 0.054381564259529114, 0.11095305532217026, 0.2853078544139862, 0.2456817626953125, 0.1426539272069931, 0.023775655776262283, 0.07925218343734741, 0.04755131155252457, 0.023775655776262283, 0.007925217971205711, 0.007925217971205711, 0.015850435942411423, 0.015850435942411423, 0.06636010855436325, 0.19908033311367035, 0.19908033311367035, 0.4313407242298126, 0.06636010855436325, 0.10744579881429672, 0.09918073564767838, 0.2066265344619751, 0.2793590724468231, 0.06612049043178558, 0.1041397750377655, 0.024795183911919594, 0.018183134496212006, 0.057855430990457535, 0.011571086011826992, 0.006612049415707588, 0.014877110719680786, 0.003306024707853794, 0.17348416149616241, 0.14058199524879456, 0.2886417508125305, 0.05383991450071335, 0.06131767854094505, 0.13459978997707367, 0.028415510430932045, 0.046362146735191345, 0.013459978625178337, 0.03888438269495964, 0.005982212722301483, 0.0014955531805753708, 0.007477765902876854, 0.0029911063611507416, 0.14526164531707764, 0.12710393965244293, 0.10894623398780823, 0.018157705664634705, 0.3268387019634247, 0.018157705664634705, 0.19973476231098175, 0.018157705664634705, 0.018157705664634705, 0.05858774110674858, 0.11717548221349716, 0.17576323449611664, 0.3515264689922333, 0.17576323449611664, 0.11717548221349716, 0.9701486229896545], \"Term\": [\"abbey\", \"abbey\", \"abused\", \"abused\", \"abused\", \"abused\", \"abused\", \"abused\", \"abused\", \"accidental\", \"accidental\", \"accidental\", \"accidental\", \"accomplishments\", \"accomplishments\", \"accomplishments\", \"accomplishments\", \"accomplishments\", \"accomplishments\", \"accomplishments\", \"acquaintance\", \"acquaintance\", \"acquaintance\", \"acquaintance\", \"acquaintance\", \"acquaintance\", \"acquaintance\", \"acquaintance\", \"acquaintance\", \"acquaintance\", \"acquaintance\", \"acquaintance\", \"acquaintance\", \"acquaintance\", \"acquaintances\", \"acquaintances\", \"acquaintances\", \"acquaintances\", \"addressed\", \"addressed\", \"addressed\", \"addressed\", \"addressed\", \"addressed\", \"addressed\", \"addressed\", \"addressed\", \"addressed\", \"adele\", \"adele\", \"adele\", \"adele\", \"adele\", \"adieu\", \"adieu\", \"adieu\", \"adieu\", \"adorned\", \"adorned\", \"adorned\", \"adorned\", \"adorned\", \"adorned\", \"affection\", \"affection\", \"affection\", \"affection\", \"affection\", \"affection\", \"affection\", \"affection\", \"affection\", \"affection\", \"affection\", \"affection\", \"affirmative\", \"affirmative\", \"affirmative\", \"affirmative\", \"affirmative\", \"affirmative\", \"affirmative\", \"aged\", \"aged\", \"aged\", \"aged\", \"aid\", \"aid\", \"aid\", \"aid\", \"aid\", \"aid\", \"aid\", \"aid\", \"air\", \"air\", \"air\", \"air\", \"air\", \"air\", \"air\", \"air\", \"air\", \"air\", \"air\", \"air\", \"allenham\", \"amends\", \"amends\", \"amends\", \"amends\", \"amends\", \"amends\", \"amidst\", \"amidst\", \"amidst\", \"amidst\", \"amidst\", \"amidst\", \"amidst\", \"amidst\", \"angel\", \"angel\", \"angel\", \"angel\", \"angel\", \"angel\", \"angel\", \"angel\", \"angel\", \"angel\", \"annum\", \"annum\", \"annum\", \"annum\", \"annum\", \"annum\", \"apparent\", \"apparent\", \"apparent\", \"apparent\", \"apparent\", \"apparent\", \"apparent\", \"appeared\", \"appeared\", \"appeared\", \"appeared\", \"appeared\", \"appeared\", \"appeared\", \"appeared\", \"appeared\", \"appeared\", \"appeared\", \"appeared\", \"appeared\", \"apple\", \"apple\", \"apple\", \"apple\", \"apple\", \"apple\", \"apple\", \"apples\", \"apples\", \"apples\", \"apples\", \"apples\", \"apples\", \"arisen\", \"arisen\", \"arisen\", \"arm\", \"arm\", \"arm\", \"arm\", \"arm\", \"arm\", \"arm\", \"arm\", \"arm\", \"ascended\", \"ascended\", \"ascended\", \"ascended\", \"ascended\", \"asked\", \"asked\", \"asked\", \"asked\", \"asked\", \"asked\", \"asked\", \"asked\", \"asked\", \"asked\", \"asked\", \"asked\", \"asked\", \"assertion\", \"assertion\", \"assertion\", \"assertion\", \"assertion\", \"assertion\", \"associations\", \"associations\", \"associations\", \"astonishment\", \"astonishment\", \"astonishment\", \"astonishment\", \"astonishment\", \"astonishment\", \"astonishment\", \"attained\", \"attained\", \"attained\", \"attained\", \"attained\", \"attempted\", \"attempted\", \"attempted\", \"attempted\", \"attempted\", \"attentively\", \"attentively\", \"attentively\", \"attentively\", \"au\", \"au\", \"au\", \"audience\", \"audience\", \"audience\", \"audience\", \"audience\", \"audience\", \"aunt\", \"aunt\", \"aunt\", \"aunt\", \"aunt\", \"aunt\", \"aunt\", \"aunt\", \"aunt\", \"aunt\", \"aunt\", \"avez\", \"avez\", \"avoiding\", \"avoiding\", \"away\", \"away\", \"away\", \"away\", \"away\", \"away\", \"away\", \"away\", \"away\", \"away\", \"away\", \"away\", \"away\", \"away\", \"aye\", \"aye\", \"aye\", \"aye\", \"aye\", \"aye\", \"backwards\", \"backwards\", \"backwards\", \"backwards\", \"backwards\", \"baked\", \"baked\", \"baked\", \"baked\", \"baked\", \"balm\", \"balm\", \"balm\", \"balm\", \"balm\", \"banks\", \"banks\", \"banks\", \"banks\", \"barton\", \"barton\", \"barton\", \"barton\", \"basket\", \"basket\", \"basket\", \"basket\", \"basket\", \"bassompierre\", \"bassompierre\", \"bassompierre\", \"bassompierre\", \"bates\", \"bates\", \"bates\", \"beck\", \"beck\", \"beck\", \"beck\", \"beck\", \"beck\", \"began\", \"began\", \"began\", \"began\", \"began\", \"began\", \"began\", \"began\", \"began\", \"began\", \"began\", \"began\", \"began\", \"beggar\", \"beggar\", \"beggar\", \"beggar\", \"beggar\", \"beggar\", \"behaviour\", \"behaviour\", \"behaviour\", \"behaviour\", \"behaviour\", \"behaviour\", \"behaviour\", \"belgium\", \"belgium\", \"believe\", \"believe\", \"believe\", \"believe\", \"believe\", \"believe\", \"believe\", \"believe\", \"believe\", \"believe\", \"believe\", \"believe\", \"believe\", \"believe\", \"belle\", \"belle\", \"belle\", \"belle\", \"benches\", \"benches\", \"benches\", \"benches\", \"benefited\", \"benefited\", \"benefited\", \"benignant\", \"benignant\", \"benignant\", \"benignant\", \"benignant\", \"benignant\", \"bennet\", \"bennet\", \"bennet\", \"bennet\", \"bennet\", \"berkeley\", \"berkeley\", \"berkeley\", \"bessie\", \"bessie\", \"bessie\", \"bessie\", \"better\", \"better\", \"better\", \"better\", \"better\", \"better\", \"better\", \"better\", \"better\", \"better\", \"better\", \"better\", \"better\", \"bible\", \"bible\", \"bible\", \"bible\", \"bidding\", \"bidding\", \"bidding\", \"bidding\", \"bidding\", \"bien\", \"bien\", \"bien\", \"bien\", \"bingley\", \"bingley\", \"bingley\", \"bingley\", \"bingley\", \"blush\", \"blush\", \"blush\", \"blush\", \"blush\", \"blush\", \"blush\", \"bodily\", \"bodily\", \"bodily\", \"bodily\", \"bodily\", \"body\", \"body\", \"body\", \"body\", \"body\", \"body\", \"body\", \"body\", \"body\", \"body\", \"book\", \"book\", \"book\", \"book\", \"book\", \"book\", \"book\", \"book\", \"book\", \"book\", \"book\", \"bordered\", \"bordered\", \"bordered\", \"bordered\", \"bordered\", \"bought\", \"bought\", \"bought\", \"bought\", \"bought\", \"bought\", \"bought\", \"bought\", \"bought\", \"bourgh\", \"bourgh\", \"boxes\", \"boxes\", \"boxes\", \"boxes\", \"boxes\", \"brains\", \"brains\", \"brains\", \"brandon\", \"brandon\", \"brandon\", \"brandon\", \"brass\", \"brass\", \"brass\", \"brave\", \"brave\", \"brave\", \"breeding\", \"breeding\", \"breeding\", \"breeding\", \"breeding\", \"bretton\", \"bretton\", \"bretton\", \"bretton\", \"bretton\", \"bretton\", \"brother\", \"brother\", \"brother\", \"brother\", \"brother\", \"brother\", \"brother\", \"brother\", \"brother\", \"brother\", \"brother\", \"brown\", \"brown\", \"brown\", \"brown\", \"brown\", \"brown\", \"brown\", \"brown\", \"brown\", \"brown\", \"brown\", \"brussels\", \"brussels\", \"brussels\", \"brussels\", \"buildings\", \"buildings\", \"buildings\", \"burden\", \"burden\", \"burden\", \"burned\", \"burned\", \"burned\", \"burned\", \"burns\", \"burnt\", \"burnt\", \"burnt\", \"burnt\", \"burnt\", \"burnt\", \"called\", \"called\", \"called\", \"called\", \"called\", \"called\", \"called\", \"called\", \"called\", \"called\", \"called\", \"called\", \"called\", \"called\", \"calls\", \"calls\", \"calls\", \"calls\", \"calls\", \"calls\", \"calls\", \"calls\", \"came\", \"came\", \"came\", \"came\", \"came\", \"came\", \"came\", \"came\", \"came\", \"came\", \"came\", \"came\", \"came\", \"came\", \"campbell\", \"campbell\", \"campbells\", \"campbells\", \"candle\", \"candle\", \"candle\", \"candle\", \"candle\", \"candle\", \"caroline\", \"caroline\", \"caroline\", \"caroline\", \"caroline\", \"carre\", \"carre\", \"carre\", \"catherine\", \"catherine\", \"catherine\", \"catherine\", \"catherine\", \"censure\", \"censure\", \"censure\", \"censure\", \"censure\", \"censure\", \"charlotte\", \"charlotte\", \"charlotte\", \"charlotte\", \"charlotte\", \"charlotte\", \"charlotte\", \"charming\", \"charming\", \"charming\", \"charming\", \"charming\", \"charming\", \"charming\", \"charming\", \"charming\", \"charming\", \"charming\", \"charming\", \"child\", \"child\", \"child\", \"child\", \"child\", \"child\", \"child\", \"child\", \"child\", \"child\", \"child\", \"child\", \"child\", \"cholmondeley\", \"cholmondeley\", \"cholmondeley\", \"cholmondeley\", \"churchill\", \"churchill\", \"churchill\", \"chuse\", \"chuse\", \"civility\", \"civility\", \"civility\", \"civility\", \"civility\", \"civility\", \"civility\", \"civility\", \"civility\", \"classes\", \"classes\", \"classes\", \"classes\", \"classic\", \"classic\", \"classic\", \"classic\", \"clergyman\", \"clergyman\", \"clergyman\", \"clergyman\", \"clergyman\", \"clergyman\", \"clerk\", \"clerk\", \"clerk\", \"clerk\", \"cleveland\", \"cleveland\", \"cloth\", \"cloth\", \"cloth\", \"cloth\", \"cloth\", \"cloth\", \"cloth\", \"cole\", \"cole\", \"collins\", \"collins\", \"collins\", \"collins\", \"colonel\", \"colonel\", \"colonel\", \"colonel\", \"colonel\", \"colonel\", \"colonel\", \"colonel\", \"colonel\", \"combe\", \"combe\", \"come\", \"come\", \"come\", \"come\", \"come\", \"come\", \"come\", \"come\", \"come\", \"come\", \"come\", \"come\", \"come\", \"come\", \"comme\", \"comme\", \"comme\", \"communicating\", \"communicating\", \"communicating\", \"companions\", \"companions\", \"companions\", \"companions\", \"companions\", \"companions\", \"companions\", \"companions\", \"companions\", \"complaints\", \"complaints\", \"complaints\", \"compliments\", \"compliments\", \"compliments\", \"compliments\", \"compliments\", \"compliments\", \"compliments\", \"compliments\", \"concert\", \"concert\", \"concert\", \"concert\", \"condescension\", \"condescension\", \"condescension\", \"condescension\", \"conduct\", \"conduct\", \"conduct\", \"conduct\", \"conduct\", \"conduct\", \"conduct\", \"conduct\", \"conduct\", \"connexion\", \"connexion\", \"conscientious\", \"conscientious\", \"conscientious\", \"conscientious\", \"conscientious\", \"conscientious\", \"consternation\", \"consternation\", \"consternation\", \"consternation\", \"consternation\", \"contemplation\", \"contemplation\", \"contemplation\", \"contemplation\", \"continually\", \"continually\", \"continually\", \"continually\", \"continually\", \"continually\", \"continually\", \"continually\", \"continuance\", \"continuance\", \"continuance\", \"continuance\", \"continuance\", \"core\", \"core\", \"core\", \"costly\", \"costly\", \"costly\", \"costly\", \"costume\", \"costume\", \"costume\", \"cottage\", \"cottage\", \"cottage\", \"cottage\", \"cottage\", \"cottage\", \"cottage\", \"cottage\", \"count\", \"count\", \"count\", \"count\", \"courteous\", \"courteous\", \"courteous\", \"courteous\", \"courteous\", \"cousin\", \"cousin\", \"cousin\", \"cousin\", \"cousin\", \"cousin\", \"cousin\", \"cousin\", \"cousin\", \"cousin\", \"cousins\", \"cousins\", \"cousins\", \"cousins\", \"cousins\", \"cousins\", \"cousins\", \"cousins\", \"cousins\", \"cousins\", \"crecy\", \"crecy\", \"creed\", \"creed\", \"creed\", \"creed\", \"crimsworth\", \"crimsworth\", \"crimsworth\", \"crimsworth\", \"crimsworth\", \"crimsworth\", \"crimsworth\", \"crossed\", \"crossed\", \"crossed\", \"crossed\", \"crossed\", \"crossed\", \"crossed\", \"crossed\", \"crossed\", \"crossed\", \"curled\", \"curled\", \"curled\", \"curled\", \"curled\", \"curled\", \"curled\", \"curled\", \"curtain\", \"curtain\", \"curtain\", \"curtain\", \"curtain\", \"darcy\", \"darcy\", \"darcy\", \"darcy\", \"darcy\", \"darcy\", \"dashwood\", \"dashwood\", \"dashwood\", \"dashwood\", \"dashwoods\", \"dashwoods\", \"dashwoods\", \"daughter\", \"daughter\", \"daughter\", \"daughter\", \"daughter\", \"daughter\", \"daughter\", \"daughter\", \"daughter\", \"daughter\", \"daughter\", \"daughter\", \"daughters\", \"daughters\", \"daughters\", \"daughters\", \"daughters\", \"daughters\", \"daughters\", \"daughters\", \"daughters\", \"daughters\", \"daughters\", \"daughters\", \"daughters\", \"day\", \"day\", \"day\", \"day\", \"day\", \"day\", \"day\", \"day\", \"day\", \"day\", \"day\", \"day\", \"day\", \"day\", \"dear\", \"dear\", \"dear\", \"dear\", \"dear\", \"dear\", \"dear\", \"dear\", \"dear\", \"dear\", \"dear\", \"dear\", \"dear\", \"deep\", \"deep\", \"deep\", \"deep\", \"deep\", \"deep\", \"deep\", \"deep\", \"deep\", \"deep\", \"deep\", \"definite\", \"definite\", \"definite\", \"definite\", \"delaford\", \"delaford\", \"delaford\", \"delusion\", \"delusion\", \"delusion\", \"delusion\", \"delusion\", \"demoiselles\", \"demoiselles\", \"demoiselles\", \"dent\", \"derbyshire\", \"derbyshire\", \"des\", \"des\", \"des\", \"deserved\", \"deserved\", \"deserved\", \"deserved\", \"deserved\", \"deserved\", \"desk\", \"desk\", \"desk\", \"desk\", \"desk\", \"desk\", \"desk\", \"desk\", \"details\", \"details\", \"details\", \"details\", \"details\", \"details\", \"devonshire\", \"devonshire\", \"diana\", \"diana\", \"diana\", \"diana\", \"dieu\", \"dieu\", \"dieu\", \"dieu\", \"dignity\", \"dignity\", \"dignity\", \"dignity\", \"dignity\", \"dignity\", \"dignity\", \"dignity\", \"dimly\", \"dimly\", \"dimly\", \"dimly\", \"dinner\", \"dinner\", \"dinner\", \"dinner\", \"dinner\", \"dinner\", \"dinner\", \"dinner\", \"dinner\", \"dinner\", \"dinner\", \"dinner\", \"dinner\", \"directress\", \"directress\", \"directress\", \"dismiss\", \"dismiss\", \"dismiss\", \"displayed\", \"displayed\", \"displayed\", \"displayed\", \"displayed\", \"distance\", \"distance\", \"distance\", \"distance\", \"distance\", \"distance\", \"distance\", \"distance\", \"distance\", \"distance\", \"distance\", \"dixon\", \"dixon\", \"doctor\", \"doctor\", \"doctor\", \"doctor\", \"doctor\", \"doctor\", \"donwell\", \"donwell\", \"door\", \"door\", \"door\", \"door\", \"door\", \"door\", \"door\", \"door\", \"door\", \"door\", \"door\", \"door\", \"door\", \"door\", \"doors\", \"doors\", \"doors\", \"doors\", \"doors\", \"doors\", \"doors\", \"doors\", \"doors\", \"dormitory\", \"dormitory\", \"dormitory\", \"dormitory\", \"dormitory\", \"dose\", \"dose\", \"dose\", \"dose\", \"dove\", \"dove\", \"dove\", \"dove\", \"dove\", \"dove\", \"dr\", \"dr\", \"dr\", \"dr\", \"dr\", \"dr\", \"dr\", \"dr\", \"dressed\", \"dressed\", \"dressed\", \"dressed\", \"dressed\", \"dressed\", \"dressed\", \"dressed\", \"dressed\", \"dressed\", \"dressed\", \"dressed\", \"earned\", \"earned\", \"earned\", \"earned\", \"earned\", \"earned\", \"earned\", \"eating\", \"eating\", \"eating\", \"eating\", \"eating\", \"eating\", \"eating\", \"eating\", \"eating\", \"edge\", \"edge\", \"edge\", \"edge\", \"edge\", \"edge\", \"edge\", \"edge\", \"edward\", \"edward\", \"edward\", \"edward\", \"edward\", \"edward\", \"elderly\", \"elderly\", \"elderly\", \"elderly\", \"elderly\", \"elderly\", \"elderly\", \"eldest\", \"eldest\", \"eldest\", \"eldest\", \"eldest\", \"eldest\", \"eldest\", \"eldest\", \"eldest\", \"eldest\", \"elegance\", \"elegance\", \"elegance\", \"elegance\", \"elegance\", \"elegance\", \"elegance\", \"elegance\", \"elf\", \"elf\", \"elf\", \"elinor\", \"elinor\", \"elinor\", \"elinor\", \"elizabeth\", \"elizabeth\", \"elizabeth\", \"elizabeth\", \"elizabeth\", \"elizabeth\", \"elizabeth\", \"elizabeth\", \"elizabeth\", \"elizabeth\", \"elizabeth\", \"elizabeth\", \"elle\", \"elle\", \"elton\", \"elton\", \"elton\", \"eltons\", \"eltons\", \"emanuel\", \"emanuel\", \"emanuel\", \"emanuel\", \"emanuel\", \"emanuel\", \"emanuel\", \"embrace\", \"embrace\", \"embrace\", \"embrace\", \"emma\", \"emma\", \"emma\", \"emma\", \"emma\", \"emma\", \"employments\", \"employments\", \"energies\", \"energies\", \"engagement\", \"engagement\", \"engagement\", \"engagement\", \"engagement\", \"english\", \"english\", \"english\", \"english\", \"english\", \"english\", \"english\", \"english\", \"english\", \"english\", \"englishman\", \"englishman\", \"enscombe\", \"enscombe\", \"entailed\", \"entailed\", \"entailed\", \"eshton\", \"est\", \"est\", \"est\", \"est\", \"est\", \"et\", \"et\", \"et\", \"et\", \"et\", \"et\", \"et\", \"evening\", \"evening\", \"evening\", \"evening\", \"evening\", \"evening\", \"evening\", \"evening\", \"evening\", \"evening\", \"evening\", \"evening\", \"evening\", \"evening\", \"everybody\", \"everybody\", \"everybody\", \"everybody\", \"everybody\", \"everybody\", \"everybody\", \"examination\", \"examination\", \"examination\", \"examination\", \"examination\", \"examination\", \"examination\", \"examination\", \"examination\", \"examination\", \"exeter\", \"external\", \"external\", \"external\", \"external\", \"external\", \"eye\", \"eye\", \"eye\", \"eye\", \"eye\", \"eye\", \"eye\", \"eye\", \"eye\", \"eye\", \"eye\", \"eye\", \"eye\", \"eye\", \"eyes\", \"eyes\", \"eyes\", \"eyes\", \"eyes\", \"eyes\", \"eyes\", \"eyes\", \"eyes\", \"eyes\", \"eyes\", \"eyes\", \"eyes\", \"eyes\", \"eyre\", \"eyre\", \"eyre\", \"eyre\", \"face\", \"face\", \"face\", \"face\", \"face\", \"face\", \"face\", \"face\", \"face\", \"face\", \"face\", \"face\", \"face\", \"face\", \"fairfax\", \"fairfax\", \"fairfax\", \"fairfax\", \"fairfax\", \"fairfax\", \"fairfax\", \"fairfax\", \"fairfax\", \"fait\", \"fait\", \"fait\", \"faith\", \"faith\", \"faith\", \"faith\", \"faith\", \"faith\", \"faith\", \"faith\", \"family\", \"family\", \"family\", \"family\", \"family\", \"family\", \"family\", \"family\", \"family\", \"family\", \"family\", \"family\", \"fanny\", \"fanny\", \"fanny\", \"fanny\", \"fanshawe\", \"fanshawe\", \"fanshawe\", \"far\", \"far\", \"far\", \"far\", \"far\", \"far\", \"far\", \"far\", \"far\", \"far\", \"far\", \"far\", \"far\", \"far\", \"father\", \"father\", \"father\", \"father\", \"father\", \"father\", \"father\", \"father\", \"father\", \"father\", \"father\", \"father\", \"father\", \"feelings\", \"feelings\", \"feelings\", \"feelings\", \"feelings\", \"feelings\", \"feelings\", \"feelings\", \"feelings\", \"feelings\", \"feelings\", \"felt\", \"felt\", \"felt\", \"felt\", \"felt\", \"felt\", \"felt\", \"felt\", \"felt\", \"felt\", \"felt\", \"felt\", \"felt\", \"felt\", \"femme\", \"femme\", \"femme\", \"femme\", \"ferrars\", \"ferrars\", \"ferrars\", \"fettered\", \"fettered\", \"fettered\", \"fettered\", \"firmly\", \"firmly\", \"firmly\", \"firmly\", \"firmly\", \"firmly\", \"fish\", \"fish\", \"fish\", \"fish\", \"fish\", \"fitzwilliam\", \"fitzwilliam\", \"flemish\", \"flemish\", \"flowers\", \"flowers\", \"flowers\", \"flowers\", \"flowers\", \"flowers\", \"flowers\", \"foliage\", \"foliage\", \"foliage\", \"forster\", \"forster\", \"forster\", \"forster\", \"fourth\", \"fourth\", \"fourth\", \"fourth\", \"fourth\", \"fourth\", \"fourth\", \"fourth\", \"france\", \"france\", \"france\", \"frances\", \"frances\", \"frances\", \"frances\", \"frances\", \"frances\", \"frank\", \"frank\", \"frank\", \"frank\", \"frank\", \"frank\", \"frank\", \"frank\", \"frantic\", \"frantic\", \"french\", \"french\", \"french\", \"french\", \"french\", \"french\", \"french\", \"french\", \"french\", \"french\", \"friend\", \"friend\", \"friend\", \"friend\", \"friend\", \"friend\", \"friend\", \"friend\", \"friend\", \"friend\", \"friend\", \"friend\", \"frock\", \"frock\", \"fruit\", \"fruit\", \"fruit\", \"fruit\", \"fruit\", \"fruit\", \"fruit\", \"fruit\", \"fruit\", \"fruit\", \"fun\", \"fun\", \"fun\", \"fun\", \"furnish\", \"furnish\", \"furnish\", \"gallery\", \"gallery\", \"gallery\", \"gallery\", \"gallery\", \"garden\", \"garden\", \"garden\", \"garden\", \"garden\", \"garden\", \"garden\", \"garden\", \"garden\", \"garden\", \"garden\", \"gardiner\", \"gardiner\", \"gardiner\", \"garments\", \"garments\", \"garments\", \"garments\", \"garments\", \"garret\", \"garret\", \"garret\", \"gateshead\", \"gateshead\", \"gateshead\", \"gateshead\", \"gateshead\", \"gateshead\", \"gateshead\", \"gave\", \"gave\", \"gave\", \"gave\", \"gave\", \"gave\", \"gave\", \"gave\", \"gave\", \"gave\", \"gave\", \"gave\", \"gave\", \"gave\", \"giddy\", \"giddy\", \"giddy\", \"ginevra\", \"ginevra\", \"ginevra\", \"ginevra\", \"girl\", \"girl\", \"girl\", \"girl\", \"girl\", \"girl\", \"girl\", \"girl\", \"girl\", \"girl\", \"girl\", \"girl\", \"girls\", \"girls\", \"girls\", \"girls\", \"girls\", \"girls\", \"girls\", \"girls\", \"girls\", \"girls\", \"girls\", \"girls\", \"glory\", \"glory\", \"glory\", \"glory\", \"glory\", \"god\", \"god\", \"god\", \"god\", \"god\", \"god\", \"god\", \"god\", \"god\", \"god\", \"god\", \"goddard\", \"goddard\", \"godmother\", \"godmother\", \"godmother\", \"going\", \"going\", \"going\", \"going\", \"going\", \"going\", \"going\", \"going\", \"going\", \"going\", \"going\", \"going\", \"going\", \"goodwill\", \"goodwill\", \"got\", \"got\", \"got\", \"got\", \"got\", \"got\", \"got\", \"got\", \"got\", \"got\", \"got\", \"got\", \"got\", \"graham\", \"graham\", \"graham\", \"graham\", \"graham\", \"grammar\", \"grammar\", \"grammar\", \"grammar\", \"grammar\", \"great\", \"great\", \"great\", \"great\", \"great\", \"great\", \"great\", \"great\", \"great\", \"great\", \"great\", \"great\", \"great\", \"great\", \"greatness\", \"greatness\", \"greatness\", \"greatness\", \"greatness\", \"greatness\", \"greatness\", \"greatness\", \"greek\", \"greek\", \"greek\", \"green\", \"green\", \"green\", \"green\", \"green\", \"green\", \"green\", \"green\", \"green\", \"half\", \"half\", \"half\", \"half\", \"half\", \"half\", \"half\", \"half\", \"half\", \"half\", \"half\", \"half\", \"half\", \"hall\", \"hall\", \"hall\", \"hall\", \"hall\", \"hall\", \"hall\", \"hall\", \"hall\", \"hall\", \"hamal\", \"hamal\", \"hamal\", \"hand\", \"hand\", \"hand\", \"hand\", \"hand\", \"hand\", \"hand\", \"hand\", \"hand\", \"hand\", \"hand\", \"hand\", \"hand\", \"hand\", \"hands\", \"hands\", \"hands\", \"hands\", \"hands\", \"hands\", \"hands\", \"hands\", \"hands\", \"hands\", \"hands\", \"hands\", \"hands\", \"hands\", \"hannah\", \"hannah\", \"hannah\", \"happiness\", \"happiness\", \"happiness\", \"happiness\", \"happiness\", \"happiness\", \"happiness\", \"happiness\", \"happiness\", \"happiness\", \"happiness\", \"happiness\", \"harley\", \"harley\", \"harley\", \"harriet\", \"harriet\", \"harriet\", \"harriet\", \"harriet\", \"hartfield\", \"hartfield\", \"having\", \"having\", \"having\", \"having\", \"having\", \"having\", \"having\", \"having\", \"having\", \"having\", \"having\", \"having\", \"having\", \"hay\", \"hay\", \"hay\", \"hay\", \"heads\", \"heads\", \"heads\", \"heads\", \"heads\", \"heads\", \"heard\", \"heard\", \"heard\", \"heard\", \"heard\", \"heard\", \"heard\", \"heard\", \"heard\", \"heard\", \"heard\", \"heard\", \"heard\", \"heard\", \"heart\", \"heart\", \"heart\", \"heart\", \"heart\", \"heart\", \"heart\", \"heart\", \"heart\", \"heart\", \"heart\", \"heart\", \"heart\", \"heart\", \"heaven\", \"heaven\", \"heaven\", \"heaven\", \"heaven\", \"heaven\", \"heaven\", \"heaven\", \"heaven\", \"heaven\", \"heaven\", \"heiress\", \"heiress\", \"heiress\", \"heiress\", \"heiress\", \"heiress\", \"heiress\", \"heiress\", \"helen\", \"helen\", \"henri\", \"henri\", \"henri\", \"henri\", \"hertfordshire\", \"hertfordshire\", \"highbury\", \"highbury\", \"holy\", \"holy\", \"holy\", \"homage\", \"homage\", \"homage\", \"homage\", \"home\", \"home\", \"home\", \"home\", \"home\", \"home\", \"home\", \"home\", \"home\", \"home\", \"home\", \"home\", \"home\", \"home\", \"hope\", \"hope\", \"hope\", \"hope\", \"hope\", \"hope\", \"hope\", \"hope\", \"hope\", \"hope\", \"hope\", \"hope\", \"horse\", \"horse\", \"horse\", \"horse\", \"horse\", \"horse\", \"horse\", \"horseback\", \"horseback\", \"horseback\", \"horseback\", \"hospitality\", \"hospitality\", \"hospitality\", \"hospitality\", \"hospitality\", \"hospitality\", \"hospitality\", \"hour\", \"hour\", \"hour\", \"hour\", \"hour\", \"hour\", \"hour\", \"hour\", \"hour\", \"hour\", \"hour\", \"hour\", \"hour\", \"house\", \"house\", \"house\", \"house\", \"house\", \"house\", \"house\", \"house\", \"house\", \"house\", \"house\", \"house\", \"house\", \"house\", \"house\", \"human\", \"human\", \"human\", \"human\", \"human\", \"human\", \"human\", \"human\", \"human\", \"human\", \"human\", \"human\", \"humble\", \"humble\", \"humble\", \"humble\", \"humble\", \"humble\", \"humble\", \"humble\", \"humble\", \"humble\", \"hunsden\", \"hunsden\", \"hunsden\", \"hunsden\", \"hunsden\", \"hunsden\", \"hunsden\", \"hunsford\", \"hunsford\", \"hunsford\", \"hurst\", \"hurst\", \"hurst\", \"il\", \"il\", \"il\", \"il\", \"illusion\", \"illusion\", \"illusion\", \"immediate\", \"immediate\", \"immediate\", \"immediate\", \"immediate\", \"immediate\", \"immediate\", \"immediate\", \"immediately\", \"immediately\", \"immediately\", \"immediately\", \"immediately\", \"immediately\", \"immediately\", \"immediately\", \"immediately\", \"immediately\", \"immediately\", \"immediately\", \"immediately\", \"immediately\", \"immense\", \"immense\", \"immense\", \"immense\", \"impropriety\", \"impropriety\", \"impulse\", \"impulse\", \"impulse\", \"impulse\", \"impulse\", \"impulse\", \"impulse\", \"impulse\", \"impulse\", \"impulse\", \"incapacity\", \"incapacity\", \"incumbent\", \"incumbent\", \"incumbent\", \"incumbent\", \"incumbent\", \"india\", \"india\", \"india\", \"ingram\", \"inspire\", \"inspire\", \"inspire\", \"inspire\", \"interposed\", \"interposed\", \"interposed\", \"interposed\", \"interposed\", \"interposed\", \"ire\", \"ire\", \"irksome\", \"irksome\", \"irksome\", \"irksome\", \"irksome\", \"isabella\", \"isabella\", \"ivory\", \"ivory\", \"ivory\", \"ivory\", \"ivory\", \"ivory\", \"jane\", \"jane\", \"jane\", \"jane\", \"jane\", \"jane\", \"jane\", \"jane\", \"jane\", \"jane\", \"jane\", \"janet\", \"je\", \"je\", \"je\", \"je\", \"je\", \"je\", \"je\", \"jennings\", \"jennings\", \"jennings\", \"john\", \"john\", \"john\", \"john\", \"john\", \"john\", \"john\", \"john\", \"john\", \"john\", \"john\", \"john\", \"john\", \"judgement\", \"judgement\", \"kent\", \"kind\", \"kind\", \"kind\", \"kind\", \"kind\", \"kind\", \"kind\", \"kind\", \"kind\", \"kind\", \"kind\", \"kind\", \"kind\", \"kinsman\", \"kinsman\", \"kinsman\", \"kitty\", \"kitty\", \"kitty\", \"kitty\", \"kitty\", \"knew\", \"knew\", \"knew\", \"knew\", \"knew\", \"knew\", \"knew\", \"knew\", \"knew\", \"knew\", \"knew\", \"knew\", \"knew\", \"knightley\", \"knightley\", \"knightley\", \"knightley\", \"knightley\", \"knit\", \"knit\", \"knit\", \"knit\", \"knit\", \"know\", \"know\", \"know\", \"know\", \"know\", \"know\", \"know\", \"know\", \"know\", \"know\", \"know\", \"know\", \"know\", \"know\", \"know\", \"knowledge\", \"knowledge\", \"knowledge\", \"knowledge\", \"knowledge\", \"knowledge\", \"knowledge\", \"knowledge\", \"knowledge\", \"knowledge\", \"knowledge\", \"knowledge\", \"lace\", \"lace\", \"lace\", \"lace\", \"lace\", \"lace\", \"lace\", \"lace\", \"lad\", \"lad\", \"lad\", \"lad\", \"lad\", \"lad\", \"ladies\", \"ladies\", \"ladies\", \"ladies\", \"ladies\", \"ladies\", \"ladies\", \"ladies\", \"ladies\", \"ladies\", \"ladies\", \"ladies\", \"ladies\", \"lady\", \"lady\", \"lady\", \"lady\", \"lady\", \"lady\", \"lady\", \"lady\", \"lady\", \"lady\", \"lady\", \"lady\", \"ladyship\", \"ladyship\", \"ladyship\", \"ladyship\", \"ladyship\", \"ladyship\", \"landing\", \"landing\", \"landing\", \"landing\", \"landing\", \"landing\", \"large\", \"large\", \"large\", \"large\", \"large\", \"large\", \"large\", \"large\", \"large\", \"large\", \"large\", \"large\", \"large\", \"large\", \"laugh\", \"laugh\", \"laugh\", \"laugh\", \"laugh\", \"laugh\", \"laugh\", \"laugh\", \"laugh\", \"laugh\", \"law\", \"law\", \"law\", \"law\", \"law\", \"law\", \"law\", \"law\", \"league\", \"league\", \"league\", \"league\", \"leah\", \"left\", \"left\", \"left\", \"left\", \"left\", \"left\", \"left\", \"left\", \"left\", \"left\", \"left\", \"left\", \"left\", \"left\", \"les\", \"les\", \"les\", \"lessen\", \"lessen\", \"lessons\", \"lessons\", \"lessons\", \"lessons\", \"lessons\", \"lessons\", \"let\", \"let\", \"let\", \"let\", \"let\", \"let\", \"let\", \"let\", \"let\", \"let\", \"let\", \"let\", \"let\", \"let\", \"letter\", \"letter\", \"letter\", \"letter\", \"letter\", \"letter\", \"letter\", \"letter\", \"letter\", \"letter\", \"letter\", \"letter\", \"letter\", \"letter\", \"liberality\", \"liberality\", \"liberality\", \"life\", \"life\", \"life\", \"life\", \"life\", \"life\", \"life\", \"life\", \"life\", \"life\", \"life\", \"life\", \"life\", \"life\", \"light\", \"light\", \"light\", \"light\", \"light\", \"light\", \"light\", \"light\", \"light\", \"light\", \"light\", \"light\", \"lightning\", \"lightning\", \"lightning\", \"lightning\", \"like\", \"like\", \"like\", \"like\", \"like\", \"like\", \"like\", \"like\", \"like\", \"like\", \"like\", \"like\", \"like\", \"like\", \"like\", \"liked\", \"liked\", \"liked\", \"liked\", \"liked\", \"liked\", \"liked\", \"liked\", \"liked\", \"liked\", \"liked\", \"liked\", \"liked\", \"liked\", \"lips\", \"lips\", \"lips\", \"lips\", \"lips\", \"lips\", \"lips\", \"lips\", \"lips\", \"lips\", \"lips\", \"lips\", \"livid\", \"livid\", \"livid\", \"livid\", \"livid\", \"lizzy\", \"lizzy\", \"lizzy\", \"lizzy\", \"ll\", \"ll\", \"ll\", \"ll\", \"ll\", \"ll\", \"ll\", \"ll\", \"ll\", \"ll\", \"ll\", \"long\", \"long\", \"long\", \"long\", \"long\", \"long\", \"long\", \"long\", \"long\", \"long\", \"long\", \"long\", \"long\", \"long\", \"longbourn\", \"longbourn\", \"longbourn\", \"longed\", \"longed\", \"longed\", \"longed\", \"longed\", \"longed\", \"longed\", \"longed\", \"longed\", \"longed\", \"longed\", \"longed\", \"longing\", \"longing\", \"longing\", \"longing\", \"longing\", \"longing\", \"look\", \"look\", \"look\", \"look\", \"look\", \"look\", \"look\", \"look\", \"look\", \"look\", \"look\", \"look\", \"look\", \"look\", \"look\", \"looked\", \"looked\", \"looked\", \"looked\", \"looked\", \"looked\", \"looked\", \"looked\", \"looked\", \"looked\", \"looked\", \"looked\", \"looked\", \"looked\", \"love\", \"love\", \"love\", \"love\", \"love\", \"love\", \"love\", \"love\", \"love\", \"love\", \"love\", \"love\", \"love\", \"love\", \"lucas\", \"lucas\", \"lucas\", \"lucases\", \"lucy\", \"lucy\", \"lucy\", \"lucy\", \"lucy\", \"lucy\", \"lucy\", \"lucy\", \"lucy\", \"lydia\", \"lydia\", \"lydia\", \"lydia\", \"lynn\", \"ma\", \"ma\", \"ma\", \"ma\", \"ma\", \"ma\", \"ma\", \"ma\", \"ma\", \"ma\", \"madame\", \"madame\", \"madame\", \"madame\", \"madame\", \"madame\", \"madame\", \"madame\", \"madame\", \"madame\", \"madame\", \"mademoiselle\", \"mademoiselle\", \"mademoiselle\", \"mademoiselle\", \"mademoiselle\", \"mademoiselle\", \"mademoiselle\", \"mademoiselle\", \"magic\", \"magic\", \"magic\", \"magic\", \"magic\", \"maids\", \"maids\", \"maids\", \"maids\", \"maids\", \"mais\", \"mais\", \"mais\", \"mais\", \"mais\", \"maitresse\", \"male\", \"male\", \"male\", \"male\", \"male\", \"male\", \"mamma\", \"mamma\", \"mamma\", \"mamma\", \"mamma\", \"mamma\", \"mamma\", \"man\", \"man\", \"man\", \"man\", \"man\", \"man\", \"man\", \"man\", \"man\", \"man\", \"man\", \"man\", \"man\", \"man\", \"maple\", \"margaret\", \"margaret\", \"maria\", \"maria\", \"maria\", \"maria\", \"maria\", \"marianne\", \"marianne\", \"marianne\", \"marie\", \"marie\", \"marie\", \"married\", \"married\", \"married\", \"married\", \"married\", \"married\", \"married\", \"married\", \"married\", \"married\", \"married\", \"married\", \"married\", \"marsh\", \"marsh\", \"marsh\", \"martin\", \"martin\", \"mary\", \"mary\", \"mary\", \"mary\", \"mary\", \"mary\", \"mary\", \"mary\", \"mary\", \"mary\", \"mason\", \"master\", \"master\", \"master\", \"master\", \"master\", \"master\", \"master\", \"master\", \"master\", \"master\", \"matrimony\", \"matrimony\", \"matrimony\", \"matrimony\", \"matrimony\", \"matrimony\", \"matrimony\", \"mdlle\", \"mdlle\", \"mdlle\", \"mdlle\", \"meat\", \"meat\", \"meat\", \"meat\", \"meat\", \"meat\", \"meat\", \"meat\", \"mellow\", \"mellow\", \"mellow\", \"melted\", \"melted\", \"melted\", \"merited\", \"merited\", \"merited\", \"merited\", \"merited\", \"merited\", \"merited\", \"meryton\", \"meryton\", \"meryton\", \"meryton\", \"method\", \"method\", \"method\", \"method\", \"method\", \"method\", \"middle\", \"middle\", \"middle\", \"middle\", \"middle\", \"middle\", \"middle\", \"middle\", \"middle\", \"middleton\", \"middleton\", \"middleton\", \"middleton\", \"middletons\", \"middletons\", \"milk\", \"milk\", \"milk\", \"millcote\", \"millcote\", \"mind\", \"mind\", \"mind\", \"mind\", \"mind\", \"mind\", \"mind\", \"mind\", \"mind\", \"mind\", \"mind\", \"mind\", \"mind\", \"mind\", \"miss\", \"miss\", \"miss\", \"miss\", \"miss\", \"miss\", \"miss\", \"miss\", \"miss\", \"miss\", \"miss\", \"miss\", \"miss\", \"miss\", \"missis\", \"mix\", \"mix\", \"mix\", \"moi\", \"moi\", \"moi\", \"moi\", \"moi\", \"moment\", \"moment\", \"moment\", \"moment\", \"moment\", \"moment\", \"moment\", \"moment\", \"moment\", \"moment\", \"moment\", \"moment\", \"moment\", \"moment\", \"mon\", \"mon\", \"mon\", \"mon\", \"mon\", \"mon\", \"monsieur\", \"monsieur\", \"monsieur\", \"monsieur\", \"monsieur\", \"monsieur\", \"monsieur\", \"monstrous\", \"monstrous\", \"monstrous\", \"monstrous\", \"monstrous\", \"moods\", \"moods\", \"moor\", \"moor\", \"moor\", \"moor\", \"morning\", \"morning\", \"morning\", \"morning\", \"morning\", \"morning\", \"morning\", \"morning\", \"morning\", \"morning\", \"morning\", \"morning\", \"morning\", \"morton\", \"morton\", \"morton\", \"morton\", \"morton\", \"mother\", \"mother\", \"mother\", \"mother\", \"mother\", \"mother\", \"mother\", \"mother\", \"mother\", \"mother\", \"mother\", \"mother\", \"mother\", \"mother\", \"naughty\", \"naughty\", \"naughty\", \"naughty\", \"ne\", \"ne\", \"ne\", \"ne\", \"ne\", \"near\", \"near\", \"near\", \"near\", \"near\", \"near\", \"near\", \"near\", \"near\", \"near\", \"near\", \"near\", \"near\", \"near\", \"neck\", \"neck\", \"neck\", \"neck\", \"neck\", \"neck\", \"neck\", \"neck\", \"neck\", \"neck\", \"netherfield\", \"netherfield\", \"netherfield\", \"nicely\", \"nicely\", \"nicely\", \"nicely\", \"nieces\", \"nieces\", \"nieces\", \"nieces\", \"night\", \"night\", \"night\", \"night\", \"night\", \"night\", \"night\", \"night\", \"night\", \"night\", \"night\", \"night\", \"night\", \"norland\", \"norland\", \"nun\", \"nun\", \"nun\", \"nun\", \"obedience\", \"obedience\", \"obedience\", \"objections\", \"objections\", \"objections\", \"objections\", \"obstacles\", \"obstacles\", \"obstacles\", \"obstacles\", \"obstacles\", \"officers\", \"officers\", \"officers\", \"officers\", \"oh\", \"oh\", \"oh\", \"oh\", \"oh\", \"oh\", \"oh\", \"oh\", \"oh\", \"oh\", \"oh\", \"oh\", \"oh\", \"oh\", \"old\", \"old\", \"old\", \"old\", \"old\", \"old\", \"old\", \"old\", \"old\", \"old\", \"old\", \"old\", \"old\", \"old\", \"olive\", \"olive\", \"olive\", \"olive\", \"olive\", \"olive\", \"olive\", \"oliver\", \"oliver\", \"oliver\", \"oliver\", \"oliver\", \"opened\", \"opened\", \"opened\", \"opened\", \"opened\", \"opened\", \"opened\", \"opened\", \"opened\", \"opened\", \"opened\", \"opened\", \"opened\", \"openness\", \"openness\", \"opposite\", \"opposite\", \"opposite\", \"opposite\", \"opposite\", \"opposite\", \"opposite\", \"opposite\", \"opposite\", \"opposite\", \"opposition\", \"opposition\", \"opposition\", \"opposition\", \"opposition\", \"opposition\", \"opposition\", \"orange\", \"orange\", \"orange\", \"orphan\", \"orphan\", \"orphan\", \"orphan\", \"orphan\", \"ought\", \"ought\", \"ought\", \"ought\", \"ought\", \"ought\", \"ought\", \"ought\", \"ought\", \"ought\", \"ought\", \"ought\", \"oui\", \"oui\", \"oui\", \"owe\", \"owe\", \"owe\", \"owe\", \"owe\", \"owe\", \"owe\", \"owe\", \"owe\", \"pack\", \"pack\", \"pack\", \"pack\", \"pack\", \"pack\", \"pack\", \"palmer\", \"palmer\", \"palmer\", \"papa\", \"papa\", \"papa\", \"papa\", \"papa\", \"papa\", \"papa\", \"papa\", \"papa\", \"papa\", \"park\", \"park\", \"park\", \"park\", \"park\", \"park\", \"park\", \"park\", \"park\", \"park\", \"parts\", \"parts\", \"parts\", \"parts\", \"parts\", \"parts\", \"parts\", \"parts\", \"parts\", \"parts\", \"parts\", \"passage\", \"passage\", \"passage\", \"passage\", \"passage\", \"passage\", \"passage\", \"passage\", \"passage\", \"patroness\", \"patroness\", \"patroness\", \"patroness\", \"paul\", \"paul\", \"paul\", \"paul\", \"paul\", \"paul\", \"paul\", \"paul\", \"paulina\", \"paulina\", \"paulina\", \"paulina\", \"pausing\", \"pausing\", \"pausing\", \"pelet\", \"pelet\", \"pemberley\", \"pemberley\", \"pemberley\", \"penetrate\", \"penetrate\", \"penetrate\", \"penetrate\", \"penetrate\", \"pere\", \"pere\", \"pere\", \"pere\", \"pere\", \"pere\", \"permanently\", \"permanently\", \"permanently\", \"permanently\", \"perry\", \"perry\", \"phillips\", \"phillips\", \"piercing\", \"piercing\", \"piercing\", \"piercing\", \"pilot\", \"polly\", \"polly\", \"poole\", \"poor\", \"poor\", \"poor\", \"poor\", \"poor\", \"poor\", \"poor\", \"poor\", \"poor\", \"poor\", \"poor\", \"poor\", \"poor\", \"porter\", \"porter\", \"porter\", \"position\", \"position\", \"position\", \"position\", \"position\", \"position\", \"position\", \"possible\", \"possible\", \"possible\", \"possible\", \"possible\", \"possible\", \"possible\", \"possible\", \"possible\", \"possible\", \"possible\", \"post\", \"post\", \"post\", \"post\", \"post\", \"post\", \"post\", \"post\", \"post\", \"post\", \"post\", \"pot\", \"pot\", \"pot\", \"pot\", \"pounds\", \"pounds\", \"pounds\", \"pounds\", \"pounds\", \"pounds\", \"pounds\", \"pounds\", \"poured\", \"poured\", \"poured\", \"poured\", \"poured\", \"poured\", \"prayers\", \"prayers\", \"prayers\", \"prayers\", \"prayers\", \"prayers\", \"prejudice\", \"prejudice\", \"prejudice\", \"prejudice\", \"prejudice\", \"prejudice\", \"prejudice\", \"prejudice\", \"presentation\", \"presentation\", \"presentation\", \"presentation\", \"presentation\", \"presents\", \"presents\", \"presents\", \"presents\", \"presents\", \"presents\", \"prevail\", \"prevail\", \"prevail\", \"prevail\", \"priest\", \"priest\", \"priest\", \"priest\", \"priest\", \"promote\", \"promote\", \"promote\", \"promote\", \"promptly\", \"promptly\", \"promptly\", \"protested\", \"protested\", \"protested\", \"protested\", \"pupil\", \"pupil\", \"pupil\", \"pupil\", \"pupil\", \"pupil\", \"pupil\", \"pupil\", \"pupil\", \"pupils\", \"pupils\", \"pupils\", \"pupils\", \"pupils\", \"pupils\", \"qu\", \"qu\", \"qu\", \"qu\", \"qu\", \"quarrelled\", \"quarrelled\", \"quarrelled\", \"quarrelled\", \"que\", \"que\", \"que\", \"que\", \"que\", \"que\", \"queen\", \"queen\", \"queen\", \"queen\", \"queen\", \"queen\", \"queen\", \"randalls\", \"randalls\", \"range\", \"range\", \"range\", \"range\", \"ranks\", \"ranks\", \"read\", \"read\", \"read\", \"read\", \"read\", \"read\", \"read\", \"read\", \"read\", \"read\", \"read\", \"read\", \"read\", \"recent\", \"recent\", \"recent\", \"recent\", \"recent\", \"recent\", \"recent\", \"reckoned\", \"reckoned\", \"reckoned\", \"reckoned\", \"recollecting\", \"recollecting\", \"recollecting\", \"red\", \"red\", \"red\", \"red\", \"red\", \"red\", \"red\", \"red\", \"red\", \"red\", \"red\", \"reed\", \"reed\", \"reed\", \"reed\", \"reed\", \"regard\", \"regard\", \"regard\", \"regard\", \"regard\", \"regard\", \"regard\", \"regard\", \"regard\", \"regard\", \"regard\", \"regard\", \"regiment\", \"regiment\", \"regiment\", \"regiment\", \"regiment\", \"regret\", \"regret\", \"regret\", \"regret\", \"regret\", \"regret\", \"regret\", \"relating\", \"relating\", \"religious\", \"religious\", \"religious\", \"reluctant\", \"reluctant\", \"reluctant\", \"reluctant\", \"removal\", \"removal\", \"removal\", \"removal\", \"removal\", \"repaired\", \"repaired\", \"repaired\", \"repaired\", \"repaired\", \"repeating\", \"repeating\", \"repeating\", \"repeating\", \"repeating\", \"repeating\", \"replied\", \"replied\", \"replied\", \"replied\", \"replied\", \"replied\", \"replied\", \"replied\", \"replied\", \"replied\", \"replied\", \"replied\", \"represented\", \"represented\", \"represented\", \"represented\", \"represented\", \"represented\", \"represented\", \"represented\", \"represented\", \"represented\", \"requested\", \"requested\", \"requested\", \"requested\", \"requested\", \"requested\", \"requested\", \"requested\", \"reuter\", \"reuter\", \"reuter\", \"reuter\", \"river\", \"river\", \"river\", \"river\", \"river\", \"river\", \"river\", \"river\", \"rivers\", \"rivers\", \"rivers\", \"rivers\", \"rivers\", \"rivers\", \"rochester\", \"rochester\", \"rochester\", \"rochester\", \"rochester\", \"rochester\", \"rome\", \"rome\", \"rome\", \"rome\", \"room\", \"room\", \"room\", \"room\", \"room\", \"room\", \"room\", \"room\", \"room\", \"room\", \"room\", \"room\", \"room\", \"room\", \"rosine\", \"rosine\", \"rosine\", \"rosings\", \"rosings\", \"rosings\", \"rosings\", \"round\", \"round\", \"round\", \"round\", \"round\", \"round\", \"round\", \"round\", \"round\", \"round\", \"round\", \"round\", \"round\", \"round\", \"round\", \"rows\", \"rows\", \"rows\", \"ruddy\", \"ruddy\", \"ruddy\", \"ruddy\", \"ruddy\", \"ruddy\", \"ruddy\", \"ruddy\", \"salon\", \"salon\", \"salon\", \"salon\", \"salon\", \"salon\", \"sarcasm\", \"sarcasm\", \"satin\", \"satin\", \"satin\", \"satin\", \"satin\", \"satin\", \"satin\", \"saw\", \"saw\", \"saw\", \"saw\", \"saw\", \"saw\", \"saw\", \"saw\", \"saw\", \"saw\", \"saw\", \"saw\", \"saw\", \"saw\", \"scarce\", \"scarce\", \"scarce\", \"scarce\", \"scarce\", \"scarce\", \"scene\", \"scene\", \"scene\", \"scene\", \"scene\", \"scene\", \"scene\", \"scene\", \"scene\", \"scene\", \"scene\", \"scene\", \"scene\", \"school\", \"school\", \"school\", \"school\", \"school\", \"school\", \"school\", \"school\", \"school\", \"school\", \"school\", \"school\", \"schoolroom\", \"schoolroom\", \"schoolroom\", \"schoolroom\", \"schoolroom\", \"schoolroom\", \"schoolroom\", \"schoolroom\", \"schoolroom\", \"screened\", \"screened\", \"screened\", \"seal\", \"seal\", \"seal\", \"seal\", \"seal\", \"seal\", \"seal\", \"sending\", \"sending\", \"sending\", \"sending\", \"sending\", \"sending\", \"sending\", \"sense\", \"sense\", \"sense\", \"sense\", \"sense\", \"sense\", \"sense\", \"sense\", \"sense\", \"sense\", \"sense\", \"sense\", \"sense\", \"shall\", \"shall\", \"shall\", \"shall\", \"shall\", \"shall\", \"shall\", \"shall\", \"shall\", \"shall\", \"shall\", \"shall\", \"shall\", \"shall\", \"sheep\", \"sheep\", \"sheep\", \"sheep\", \"sheltered\", \"sheltered\", \"sheltered\", \"sheltered\", \"sheltered\", \"ship\", \"ship\", \"shire\", \"shire\", \"shire\", \"shire\", \"shire\", \"shire\", \"shuddered\", \"shuddered\", \"shuddered\", \"shyness\", \"shyness\", \"shyness\", \"shyness\", \"shyness\", \"sickly\", \"sickly\", \"sickly\", \"sickly\", \"sickly\", \"sickly\", \"silas\", \"silas\", \"silas\", \"silas\", \"silas\", \"silas\", \"silence\", \"silence\", \"silence\", \"silence\", \"silence\", \"silence\", \"silence\", \"silence\", \"silence\", \"silence\", \"silence\", \"silence\", \"silence\", \"silvery\", \"silvery\", \"sir\", \"sir\", \"sir\", \"sir\", \"sir\", \"sir\", \"sir\", \"sir\", \"sir\", \"sir\", \"sir\", \"sir\", \"sister\", \"sister\", \"sister\", \"sister\", \"sister\", \"sister\", \"sister\", \"sister\", \"sister\", \"sister\", \"sister\", \"sister\", \"sister\", \"sisters\", \"sisters\", \"sisters\", \"sisters\", \"sisters\", \"sisters\", \"sisters\", \"sisters\", \"sisters\", \"sisters\", \"sisters\", \"slow\", \"slow\", \"slow\", \"slow\", \"slow\", \"slow\", \"slow\", \"sly\", \"sly\", \"sly\", \"sly\", \"sly\", \"smart\", \"smart\", \"smart\", \"smart\", \"smart\", \"smart\", \"smart\", \"smart\", \"smart\", \"smile\", \"smile\", \"smile\", \"smile\", \"smile\", \"smile\", \"smile\", \"smile\", \"smile\", \"smile\", \"smile\", \"smile\", \"smile\", \"smile\", \"smith\", \"smith\", \"smith\", \"smith\", \"smith\", \"smith\", \"smith\", \"smith\", \"snowe\", \"snowe\", \"snowe\", \"sold\", \"sold\", \"sold\", \"sold\", \"sold\", \"sold\", \"sold\", \"sold\", \"solicitous\", \"solicitous\", \"solicitous\", \"solicitous\", \"solicitous\", \"solicitous\", \"solicitous\", \"soon\", \"soon\", \"soon\", \"soon\", \"soon\", \"soon\", \"soon\", \"soon\", \"soon\", \"soon\", \"soon\", \"soon\", \"soon\", \"soon\", \"sophie\", \"sort\", \"sort\", \"sort\", \"sort\", \"sort\", \"sort\", \"sort\", \"sort\", \"sort\", \"sort\", \"sort\", \"sort\", \"sorts\", \"sorts\", \"sorts\", \"sorts\", \"sorts\", \"sorts\", \"souls\", \"souls\", \"souls\", \"souls\", \"souls\", \"sounding\", \"sounding\", \"sounding\", \"sounding\", \"sparkle\", \"sparkle\", \"sparkle\", \"sparkle\", \"speak\", \"speak\", \"speak\", \"speak\", \"speak\", \"speak\", \"speak\", \"speak\", \"speak\", \"speak\", \"speak\", \"speak\", \"speak\", \"speak\", \"speeches\", \"speeches\", \"speeches\", \"speeches\", \"speeches\", \"speedy\", \"speedy\", \"spell\", \"spell\", \"spell\", \"spell\", \"spell\", \"spell\", \"spirits\", \"spirits\", \"spirits\", \"spirits\", \"spirits\", \"spirits\", \"spirits\", \"spirits\", \"spirits\", \"spirits\", \"splendour\", \"splendour\", \"splendour\", \"splendour\", \"spot\", \"spot\", \"spot\", \"spot\", \"spot\", \"spot\", \"spot\", \"spot\", \"spot\", \"spot\", \"spot\", \"spot\", \"spot\", \"sprang\", \"sprang\", \"sprang\", \"sprang\", \"sprang\", \"sprang\", \"sprung\", \"sprung\", \"sprung\", \"sprung\", \"sprung\", \"st\", \"st\", \"st\", \"st\", \"st\", \"st\", \"st\", \"st\", \"st\", \"st\", \"stage\", \"stage\", \"stage\", \"stage\", \"stage\", \"stage\", \"stage\", \"starved\", \"starved\", \"starved\", \"starved\", \"starved\", \"steele\", \"steele\", \"steeles\", \"steeles\", \"stood\", \"stood\", \"stood\", \"stood\", \"stood\", \"stood\", \"stood\", \"stood\", \"stood\", \"stood\", \"stood\", \"stood\", \"stood\", \"stood\", \"storey\", \"strange\", \"strange\", \"strange\", \"strange\", \"strange\", \"strange\", \"strange\", \"strange\", \"strange\", \"strange\", \"strange\", \"strange\", \"strange\", \"stream\", \"stream\", \"stream\", \"stream\", \"stream\", \"stream\", \"street\", \"street\", \"street\", \"street\", \"street\", \"street\", \"street\", \"street\", \"street\", \"street\", \"street\", \"stuff\", \"stuff\", \"stuff\", \"stuff\", \"stuff\", \"stuff\", \"stuff\", \"stuff\", \"substance\", \"substance\", \"substance\", \"substance\", \"substance\", \"substance\", \"substance\", \"substance\", \"substitute\", \"substitute\", \"substitute\", \"substitute\", \"suis\", \"suis\", \"suis\", \"sunday\", \"sunday\", \"sunday\", \"sunday\", \"sunday\", \"sunday\", \"sunday\", \"sunday\", \"suppose\", \"suppose\", \"suppose\", \"suppose\", \"suppose\", \"suppose\", \"suppose\", \"suppose\", \"suppose\", \"suppose\", \"suppose\", \"suppose\", \"suppose\", \"suppose\", \"sure\", \"sure\", \"sure\", \"sure\", \"sure\", \"sure\", \"sure\", \"sure\", \"sure\", \"sure\", \"sure\", \"sure\", \"sure\", \"surprised\", \"surprised\", \"surprised\", \"surprised\", \"surprised\", \"surprised\", \"surprised\", \"surprised\", \"surprised\", \"surprised\", \"surprised\", \"surprize\", \"surprize\", \"surprized\", \"surprized\", \"sweet\", \"sweet\", \"sweet\", \"sweet\", \"sweet\", \"sweet\", \"sweet\", \"sweet\", \"sweet\", \"sweet\", \"sweet\", \"symptom\", \"symptom\", \"symptom\", \"symptom\", \"symptom\", \"symptom\", \"tables\", \"tables\", \"tables\", \"tables\", \"tables\", \"tables\", \"tables\", \"taste\", \"taste\", \"taste\", \"taste\", \"taste\", \"taste\", \"taste\", \"taste\", \"taste\", \"taste\", \"taste\", \"taste\", \"taste\", \"taste\", \"taylor\", \"taylor\", \"teach\", \"teach\", \"teach\", \"teach\", \"teach\", \"teach\", \"teach\", \"teach\", \"teach\", \"teach\", \"teacher\", \"teacher\", \"teacher\", \"teacher\", \"teacher\", \"teacher\", \"teacher\", \"teased\", \"teased\", \"teased\", \"teased\", \"tell\", \"tell\", \"tell\", \"tell\", \"tell\", \"tell\", \"tell\", \"tell\", \"tell\", \"tell\", \"tell\", \"tell\", \"tell\", \"tell\", \"temperament\", \"temperament\", \"temple\", \"temple\", \"temple\", \"temple\", \"temple\", \"temple\", \"temple\", \"temple\", \"terrasse\", \"terrasse\", \"th\", \"th\", \"th\", \"th\", \"th\", \"th\", \"th\", \"th\", \"theirs\", \"theirs\", \"theirs\", \"theirs\", \"theirs\", \"theirs\", \"theirs\", \"thing\", \"thing\", \"thing\", \"thing\", \"thing\", \"thing\", \"thing\", \"thing\", \"thing\", \"thing\", \"thing\", \"thing\", \"thing\", \"thing\", \"think\", \"think\", \"think\", \"think\", \"think\", \"think\", \"think\", \"think\", \"think\", \"think\", \"think\", \"think\", \"think\", \"think\", \"thirst\", \"thirst\", \"thirst\", \"thornfield\", \"thornfield\", \"thou\", \"thou\", \"thou\", \"thou\", \"thou\", \"thought\", \"thought\", \"thought\", \"thought\", \"thought\", \"thought\", \"thought\", \"thought\", \"thought\", \"thought\", \"thought\", \"thought\", \"thought\", \"thought\", \"thought\", \"thunder\", \"thunder\", \"thunder\", \"thunder\", \"thunder\", \"thy\", \"thy\", \"thy\", \"thy\", \"till\", \"till\", \"till\", \"till\", \"till\", \"till\", \"till\", \"till\", \"till\", \"till\", \"till\", \"till\", \"till\", \"toil\", \"toil\", \"toil\", \"told\", \"told\", \"told\", \"told\", \"told\", \"told\", \"told\", \"told\", \"told\", \"told\", \"told\", \"told\", \"told\", \"took\", \"took\", \"took\", \"took\", \"took\", \"took\", \"took\", \"took\", \"took\", \"took\", \"took\", \"took\", \"took\", \"took\", \"torment\", \"torment\", \"torment\", \"torment\", \"torment\", \"town\", \"town\", \"town\", \"town\", \"town\", \"town\", \"town\", \"town\", \"town\", \"town\", \"town\", \"town\", \"tradesman\", \"tradesman\", \"tradesman\", \"tradesman\", \"tradesman\", \"tradesman\", \"tradesman\", \"tradesman\", \"traveller\", \"traveller\", \"traveller\", \"treasure\", \"treasure\", \"treasure\", \"treasure\", \"treasure\", \"treasure\", \"treasure\", \"treasure\", \"trees\", \"trees\", \"trees\", \"trees\", \"trees\", \"trees\", \"trees\", \"trees\", \"trees\", \"trees\", \"tremble\", \"tremble\", \"tremble\", \"tremble\", \"tremble\", \"tremble\", \"tremble\", \"trite\", \"trite\", \"trite\", \"trite\", \"triumphant\", \"triumphant\", \"triumphant\", \"triumphant\", \"truth\", \"truth\", \"truth\", \"truth\", \"truth\", \"truth\", \"truth\", \"truth\", \"truth\", \"truth\", \"truth\", \"truth\", \"truth\", \"turf\", \"turf\", \"turf\", \"turf\", \"turned\", \"turned\", \"turned\", \"turned\", \"turned\", \"turned\", \"turned\", \"turned\", \"turned\", \"turned\", \"turned\", \"turned\", \"turned\", \"turned\", \"turned\", \"turning\", \"turning\", \"turning\", \"turning\", \"turning\", \"turning\", \"turning\", \"turning\", \"turning\", \"turning\", \"turning\", \"tyrant\", \"tyrant\", \"tyrant\", \"tyrant\", \"tyrant\", \"ugly\", \"ugly\", \"ugly\", \"ugly\", \"uncle\", \"uncle\", \"uncle\", \"uncle\", \"uncle\", \"uncle\", \"uncle\", \"uncle\", \"uncle\", \"uncle\", \"uncle\", \"uncles\", \"uncles\", \"uncles\", \"uncles\", \"underwent\", \"underwent\", \"underwent\", \"une\", \"une\", \"une\", \"unfortunate\", \"unfortunate\", \"unfortunate\", \"unfortunate\", \"unhappiness\", \"unhappiness\", \"unwell\", \"unwell\", \"unwell\", \"unwillingness\", \"upper\", \"upper\", \"upper\", \"upper\", \"upper\", \"upper\", \"valley\", \"valley\", \"valley\", \"valley\", \"valley\", \"ve\", \"ve\", \"ve\", \"ve\", \"ve\", \"ve\", \"ve\", \"vicarage\", \"vicarage\", \"victor\", \"victor\", \"victor\", \"victor\", \"victor\", \"viewed\", \"viewed\", \"viewed\", \"viewed\", \"viewed\", \"viewed\", \"viewed\", \"visit\", \"visit\", \"visit\", \"visit\", \"visit\", \"visit\", \"visit\", \"visit\", \"visit\", \"visiting\", \"visiting\", \"visiting\", \"visiting\", \"visiting\", \"visiting\", \"visiting\", \"visiting\", \"viz\", \"viz\", \"viz\", \"viz\", \"viz\", \"vocation\", \"vocation\", \"vocation\", \"vocation\", \"vous\", \"vous\", \"vous\", \"vous\", \"vous\", \"vous\", \"wages\", \"wages\", \"wages\", \"walk\", \"walk\", \"walk\", \"walk\", \"walk\", \"walk\", \"walk\", \"walk\", \"walk\", \"walk\", \"walk\", \"walk\", \"walk\", \"walk\", \"wander\", \"wander\", \"wander\", \"wander\", \"wander\", \"wander\", \"war\", \"war\", \"war\", \"war\", \"war\", \"wardrobe\", \"wardrobe\", \"wardrobe\", \"wardrobe\", \"wardrobe\", \"water\", \"water\", \"water\", \"water\", \"water\", \"water\", \"water\", \"water\", \"water\", \"water\", \"water\", \"water\", \"water\", \"waters\", \"waters\", \"waters\", \"waters\", \"waters\", \"way\", \"way\", \"way\", \"way\", \"way\", \"way\", \"way\", \"way\", \"way\", \"way\", \"way\", \"way\", \"way\", \"way\", \"way\", \"wednesday\", \"wednesday\", \"went\", \"went\", \"went\", \"went\", \"went\", \"went\", \"went\", \"went\", \"went\", \"went\", \"went\", \"went\", \"went\", \"went\", \"weston\", \"weston\", \"weston\", \"weston\", \"weymouth\", \"whilst\", \"whilst\", \"whilst\", \"whilst\", \"wickham\", \"wickham\", \"wickham\", \"wickham\", \"wickham\", \"william\", \"william\", \"william\", \"william\", \"william\", \"william\", \"william\", \"william\", \"william\", \"william\", \"willoughby\", \"willoughby\", \"willoughby\", \"wing\", \"wing\", \"wing\", \"won\", \"won\", \"won\", \"won\", \"won\", \"won\", \"won\", \"won\", \"won\", \"won\", \"won\", \"wont\", \"wont\", \"wont\", \"woodhouse\", \"woodhouse\", \"woodhouse\", \"woods\", \"woods\", \"woods\", \"woods\", \"woods\", \"woods\", \"word\", \"word\", \"word\", \"word\", \"word\", \"word\", \"word\", \"word\", \"word\", \"word\", \"word\", \"word\", \"word\", \"words\", \"words\", \"words\", \"words\", \"words\", \"words\", \"words\", \"words\", \"words\", \"words\", \"words\", \"words\", \"words\", \"work\", \"work\", \"work\", \"work\", \"work\", \"work\", \"work\", \"work\", \"work\", \"work\", \"work\", \"work\", \"work\", \"worshipped\", \"worshipped\", \"worshipped\", \"worshipped\", \"worshipped\", \"writer\", \"writer\", \"writer\", \"writer\", \"writer\", \"writer\", \"writer\", \"wrong\", \"wrong\", \"wrong\", \"wrong\", \"wrong\", \"wrong\", \"wrong\", \"wrong\", \"wrong\", \"wrong\", \"wrong\", \"wrong\", \"ye\", \"ye\", \"ye\", \"ye\", \"ye\", \"yes\", \"yes\", \"yes\", \"yes\", \"yes\", \"yes\", \"yes\", \"yes\", \"yes\", \"yes\", \"yes\", \"yes\", \"yes\", \"young\", \"young\", \"young\", \"young\", \"young\", \"young\", \"young\", \"young\", \"young\", \"young\", \"young\", \"young\", \"young\", \"young\", \"younger\", \"younger\", \"younger\", \"younger\", \"younger\", \"younger\", \"younger\", \"younger\", \"younger\", \"youthful\", \"youthful\", \"youthful\", \"youthful\", \"youthful\", \"youthful\", \"zoraide\"]}, \"R\": 30, \"lambda.step\": 0.01, \"plot.opts\": {\"xlab\": \"PC1\", \"ylab\": \"PC2\"}, \"topic.order\": [8, 14, 15, 6, 9, 10, 12, 7, 11, 1, 2, 5, 13, 3, 4]};\n",
       "\n",
       "function LDAvis_load_lib(url, callback){\n",
       "  var s = document.createElement('script');\n",
       "  s.src = url;\n",
       "  s.async = true;\n",
       "  s.onreadystatechange = s.onload = callback;\n",
       "  s.onerror = function(){console.warn(\"failed to load library \" + url);};\n",
       "  document.getElementsByTagName(\"head\")[0].appendChild(s);\n",
       "}\n",
       "\n",
       "if(typeof(LDAvis) !== \"undefined\"){\n",
       "   // already loaded: just create the visualization\n",
       "   !function(LDAvis){\n",
       "       new LDAvis(\"#\" + \"ldavis_el24741403519984573204241343069\", ldavis_el24741403519984573204241343069_data);\n",
       "   }(LDAvis);\n",
       "}else if(typeof define === \"function\" && define.amd){\n",
       "   // require.js is available: use it to load d3/LDAvis\n",
       "   require.config({paths: {d3: \"https://cdnjs.cloudflare.com/ajax/libs/d3/3.5.5/d3.min\"}});\n",
       "   require([\"d3\"], function(d3){\n",
       "      window.d3 = d3;\n",
       "      LDAvis_load_lib(\"https://cdn.rawgit.com/bmabey/pyLDAvis/files/ldavis.v1.0.0.js\", function(){\n",
       "        new LDAvis(\"#\" + \"ldavis_el24741403519984573204241343069\", ldavis_el24741403519984573204241343069_data);\n",
       "      });\n",
       "    });\n",
       "}else{\n",
       "    // require.js not available: dynamically load d3 & LDAvis\n",
       "    LDAvis_load_lib(\"https://cdnjs.cloudflare.com/ajax/libs/d3/3.5.5/d3.min.js\", function(){\n",
       "         LDAvis_load_lib(\"https://cdn.rawgit.com/bmabey/pyLDAvis/files/ldavis.v1.0.0.js\", function(){\n",
       "                 new LDAvis(\"#\" + \"ldavis_el24741403519984573204241343069\", ldavis_el24741403519984573204241343069_data);\n",
       "            })\n",
       "         });\n",
       "}\n",
       "</script>"
      ],
      "text/plain": [
       "PreparedData(topic_coordinates=              x         y  topics  cluster       Freq\n",
       "topic                                                \n",
       "7      0.049130  0.012861       1        1  17.345165\n",
       "13    -0.104832  0.021063       2        1  16.106424\n",
       "14    -0.096366  0.011718       3        1  15.871459\n",
       "5      0.053153  0.034102       4        1  13.152085\n",
       "8      0.115908 -0.007628       5        1  10.983162\n",
       "9     -0.137038 -0.035791       6        1   9.730810\n",
       "11     0.097374  0.052567       7        1   6.469080\n",
       "6     -0.139175  0.104931       8        1   3.212873\n",
       "10     0.037973  0.069313       9        1   2.988794\n",
       "0     -0.107462 -0.107067      10        1   1.417974\n",
       "1      0.042025 -0.068173      11        1   0.830003\n",
       "4      0.010536  0.022718      12        1   0.769152\n",
       "12     0.018890 -0.018281      13        1   0.731156\n",
       "2      0.117410 -0.011840      14        1   0.294061\n",
       "3      0.042474 -0.080493      15        1   0.097798, topic_info=     Category         Freq          Term        Total  loglift  logprob\n",
       "2198  Default   646.000000     elizabeth   646.000000  30.0000  30.0000\n",
       "728   Default   674.000000        elinor   674.000000  29.0000  29.0000\n",
       "126   Default  1337.000000          like  1337.000000  28.0000  28.0000\n",
       "62    Default   874.000000          emma   874.000000  27.0000  27.0000\n",
       "140   Default  1549.000000          miss  1549.000000  26.0000  26.0000\n",
       "762   Default   553.000000      marianne   553.000000  25.0000  25.0000\n",
       "2192  Default   421.000000         darcy   421.000000  24.0000  24.0000\n",
       "118   Default  1443.000000          know  1443.000000  23.0000  23.0000\n",
       "798   Default   606.000000           sir   606.000000  22.0000  22.0000\n",
       "1907  Default   617.000000          lady   617.000000  21.0000  21.0000\n",
       "1885  Default   319.000000        edward   319.000000  20.0000  20.0000\n",
       "2003  Default   379.000000          lucy   379.000000  19.0000  19.0000\n",
       "210   Default  1151.000000       thought  1151.000000  18.0000  18.0000\n",
       "178   Default   892.000000          room   892.000000  17.0000  17.0000\n",
       "129   Default   940.000000          long   940.000000  16.0000  16.0000\n",
       "132   Default   408.000000        madame   408.000000  15.0000  15.0000\n",
       "142   Default   669.000000        mother   669.000000  14.0000  14.0000\n",
       "2337  Default   323.000000        bennet   323.000000  13.0000  13.0000\n",
       "642   Default   777.000000           saw   777.000000  12.0000  12.0000\n",
       "578   Default   529.000000       harriet   529.000000  11.0000  11.0000\n",
       "209   Default  1326.000000         think  1326.000000  10.0000  10.0000\n",
       "755   Default   628.000000          john   628.000000   9.0000   9.0000\n",
       "620   Default   483.000000           old   483.000000   8.0000   8.0000\n",
       "114   Default   957.000000          jane   957.000000   7.0000   7.0000\n",
       "717   Default   250.000000      dashwood   250.000000   6.0000   6.0000\n",
       "799   Default   584.000000        sister   584.000000   5.0000   5.0000\n",
       "466   Default   927.000000          soon   927.000000   4.0000   4.0000\n",
       "1040  Default   168.000000          papa   168.000000   3.0000   3.0000\n",
       "43    Default  1060.000000           day  1060.000000   2.0000   2.0000\n",
       "602   Default   644.000000          look   644.000000   1.0000   1.0000\n",
       "...       ...          ...           ...          ...      ...      ...\n",
       "3272  Topic15     0.369524        firmly    16.386086   3.1380  -6.6319\n",
       "460   Topic15     0.869962          slow    39.482552   3.1149  -5.7757\n",
       "3524  Topic15     0.921332       crossed    47.294876   2.9917  -5.7183\n",
       "1960  Topic15     1.313521      civility    77.461464   2.8529  -5.3636\n",
       "584   Topic15     0.801392        humble    40.867203   2.9983  -5.8578\n",
       "374   Topic15     0.904738        longed    53.109558   2.8575  -5.7365\n",
       "3751  Topic15     0.918427      opposite    56.975494   2.8023  -5.7214\n",
       "3963  Topic15     0.774626    companions    43.372665   2.9048  -5.8917\n",
       "2198  Topic15     2.889766     elizabeth   646.191101   1.5201  -4.5752\n",
       "1851  Topic15     0.839549          spot    58.695538   2.6828  -5.8112\n",
       "3266  Topic15     0.845419        amidst    62.762825   2.6227  -5.8043\n",
       "3901  Topic15     0.780996     pemberley    53.114471   2.7104  -5.8835\n",
       "221   Topic15     1.518350          walk   248.851349   1.8308  -5.2187\n",
       "1416  Topic15     1.052576         scene   113.601242   2.2486  -5.5851\n",
       "2699  Topic15     0.651025   continually    37.935188   2.8649  -6.0656\n",
       "1773  Topic15     0.865632         water   113.049568   2.0579  -5.7807\n",
       "2929  Topic15     0.685717  astonishment    56.338928   2.5213  -6.0136\n",
       "2401  Topic15     0.832028           arm   117.426048   1.9803  -5.8202\n",
       "2192  Topic15     1.129171         darcy   421.449890   1.0078  -5.5149\n",
       "79    Topic15     1.200189          felt   670.333191   0.6047  -5.4539\n",
       "701   Topic15     0.734004      charming    87.971268   2.1438  -5.9456\n",
       "1430  Topic15     0.820703         taste   157.889099   1.6705  -5.8339\n",
       "937   Topic15     0.746027       turning   118.978996   1.8581  -5.9293\n",
       "2094  Topic15     0.723178     surprised   101.919662   1.9817  -5.9605\n",
       "210   Topic15     1.026535       thought  1151.872192  -0.0929  -5.6102\n",
       "850   Topic15     0.742109      distance   124.010056   1.8114  -5.9346\n",
       "189   Topic15     0.790302         smile   263.913269   1.1191  -5.8717\n",
       "126   Topic15     0.863349          like  1337.942017  -0.4158  -5.7833\n",
       "102   Topic15     0.832991         house   755.009216   0.1206  -5.8191\n",
       "437   Topic15     0.779047         round   356.701569   0.8034  -5.8860\n",
       "\n",
       "[1012 rows x 6 columns], token_table=      Topic      Freq             Term\n",
       "term                                  \n",
       "3067      2  0.062104            abbey\n",
       "3067      3  0.900514            abbey\n",
       "3145      1  0.180715           abused\n",
       "3145      2  0.180715           abused\n",
       "3145      3  0.090358           abused\n",
       "3145      4  0.180715           abused\n",
       "3145      5  0.180715           abused\n",
       "3145     11  0.090358           abused\n",
       "3145     13  0.090358           abused\n",
       "4395      1  0.095483       accidental\n",
       "4395      2  0.381933       accidental\n",
       "4395      3  0.190967       accidental\n",
       "4395     10  0.190967       accidental\n",
       "4099      3  0.055906  accomplishments\n",
       "4099      4  0.279528  accomplishments\n",
       "4099      5  0.111811  accomplishments\n",
       "4099      6  0.223622  accomplishments\n",
       "4099      9  0.055906  accomplishments\n",
       "4099     10  0.055906  accomplishments\n",
       "4099     13  0.167717  accomplishments\n",
       "684       1  0.139154     acquaintance\n",
       "684       2  0.384720     acquaintance\n",
       "684       3  0.204638     acquaintance\n",
       "684       4  0.045020     acquaintance\n",
       "684       5  0.024557     acquaintance\n",
       "684       6  0.102319     acquaintance\n",
       "684       7  0.032742     acquaintance\n",
       "684       8  0.032742     acquaintance\n",
       "684       9  0.004093     acquaintance\n",
       "684      10  0.012278     acquaintance\n",
       "...     ...       ...              ...\n",
       "823       1  0.173484            young\n",
       "823       2  0.140582            young\n",
       "823       3  0.288642            young\n",
       "823       4  0.053840            young\n",
       "823       5  0.061318            young\n",
       "823       6  0.134600            young\n",
       "823       7  0.028416            young\n",
       "823       8  0.046362            young\n",
       "823       9  0.013460            young\n",
       "823      10  0.038884            young\n",
       "823      11  0.005982            young\n",
       "823      12  0.001496            young\n",
       "823      13  0.007478            young\n",
       "823      14  0.002991            young\n",
       "2398      1  0.145262          younger\n",
       "2398      2  0.127104          younger\n",
       "2398      4  0.108946          younger\n",
       "2398      5  0.018158          younger\n",
       "2398      6  0.326839          younger\n",
       "2398      8  0.018158          younger\n",
       "2398     10  0.199735          younger\n",
       "2398     11  0.018158          younger\n",
       "2398     12  0.018158          younger\n",
       "3960      1  0.058588         youthful\n",
       "3960      2  0.117175         youthful\n",
       "3960      3  0.175763         youthful\n",
       "3960      5  0.351526         youthful\n",
       "3960      7  0.175763         youthful\n",
       "3960     13  0.117175         youthful\n",
       "4284      5  0.970149          zoraide\n",
       "\n",
       "[4600 rows x 3 columns], R=30, lambda_step=0.01, plot_opts={'xlab': 'PC1', 'ylab': 'PC2'}, topic_order=[8, 14, 15, 6, 9, 10, 12, 7, 11, 1, 2, 5, 13, 3, 4])"
      ]
     },
     "execution_count": 41,
     "metadata": {},
     "output_type": "execute_result"
    }
   ],
   "source": [
    "pyLDAvis.gensim.prepare(lda, corpus, id2word)"
   ]
  },
  {
   "cell_type": "markdown",
   "metadata": {},
   "source": [
    "### Overall Model / Documents"
   ]
  },
  {
   "cell_type": "code",
   "execution_count": 49,
   "metadata": {},
   "outputs": [
    {
     "data": {
      "text/plain": [
       "[(4, 0.077492304), (14, 0.9197196)]"
      ]
     },
     "execution_count": 49,
     "metadata": {},
     "output_type": "execute_result"
    }
   ],
   "source": [
    "lda[corpus[0]]"
   ]
  },
  {
   "cell_type": "code",
   "execution_count": 50,
   "metadata": {},
   "outputs": [],
   "source": [
    "distro = [lda[d] for d in corpus]"
   ]
  },
  {
   "cell_type": "code",
   "execution_count": 51,
   "metadata": {},
   "outputs": [
    {
     "data": {
      "text/plain": [
       "[(4, 0.07749483), (14, 0.9197172)]"
      ]
     },
     "execution_count": 51,
     "metadata": {},
     "output_type": "execute_result"
    }
   ],
   "source": [
    "distro[0]"
   ]
  },
  {
   "cell_type": "code",
   "execution_count": 52,
   "metadata": {},
   "outputs": [],
   "source": [
    "distro = [lda[d] for d in corpus]\n",
    "\n",
    "def update(doc):\n",
    "        d_dist = {k:0 for k in range(0,15)}\n",
    "        for t in doc:\n",
    "            d_dist[t[0]] = t[1]\n",
    "        return d_dist\n",
    "    \n",
    "new_distro = [update(d) for d in distro]"
   ]
  },
  {
   "cell_type": "code",
   "execution_count": 53,
   "metadata": {},
   "outputs": [],
   "source": [
    "df = pd.DataFrame.from_records(new_distro, index=titles)\n",
    "df.columns = topics\n",
    "df['author'] = df.reset_index()['index'].apply(lambda x: x.split('_')[0]).tolist()"
   ]
  },
  {
   "cell_type": "code",
   "execution_count": 54,
   "metadata": {},
   "outputs": [
    {
     "data": {
      "text/html": [
       "<div>\n",
       "<style scoped>\n",
       "    .dataframe tbody tr th:only-of-type {\n",
       "        vertical-align: middle;\n",
       "    }\n",
       "\n",
       "    .dataframe tbody tr th {\n",
       "        vertical-align: top;\n",
       "    }\n",
       "\n",
       "    .dataframe thead th {\n",
       "        text-align: right;\n",
       "    }\n",
       "</style>\n",
       "<table border=\"1\" class=\"dataframe\">\n",
       "  <thead>\n",
       "    <tr style=\"text-align: right;\">\n",
       "      <th></th>\n",
       "      <th>lady collins sir catherine miss</th>\n",
       "      <th>long miss room lady saw</th>\n",
       "      <th>papa like old polly room</th>\n",
       "      <th>elizabeth gardiner walk stream woods</th>\n",
       "      <th>hunsden monsieur know come english</th>\n",
       "      <th>rochester jane sir like room</th>\n",
       "      <th>elinor edward lucy marianne dashwood</th>\n",
       "      <th>like thought know bretton day</th>\n",
       "      <th>madame monsieur like door house</th>\n",
       "      <th>elizabeth darcy bingley jane bennet</th>\n",
       "      <th>like know john st diana</th>\n",
       "      <th>like heart madame night thought</th>\n",
       "      <th>like know think night day</th>\n",
       "      <th>marianne elinor sister soon know</th>\n",
       "      <th>emma miss harriet weston think</th>\n",
       "      <th>author</th>\n",
       "    </tr>\n",
       "  </thead>\n",
       "  <tbody>\n",
       "    <tr>\n",
       "      <th>Austen_Emma0136</th>\n",
       "      <td>0.0</td>\n",
       "      <td>0.0</td>\n",
       "      <td>0.0</td>\n",
       "      <td>0.0</td>\n",
       "      <td>0.077483</td>\n",
       "      <td>0.000000</td>\n",
       "      <td>0.0</td>\n",
       "      <td>0.0000</td>\n",
       "      <td>0.000000</td>\n",
       "      <td>0.0</td>\n",
       "      <td>0.0</td>\n",
       "      <td>0.000000</td>\n",
       "      <td>0.0</td>\n",
       "      <td>0.000000</td>\n",
       "      <td>0.919729</td>\n",
       "      <td>Austen</td>\n",
       "    </tr>\n",
       "    <tr>\n",
       "      <th>CBronte_Villette0156</th>\n",
       "      <td>0.0</td>\n",
       "      <td>0.0</td>\n",
       "      <td>0.0</td>\n",
       "      <td>0.0</td>\n",
       "      <td>0.000000</td>\n",
       "      <td>0.075107</td>\n",
       "      <td>0.0</td>\n",
       "      <td>0.1412</td>\n",
       "      <td>0.450669</td>\n",
       "      <td>0.0</td>\n",
       "      <td>0.0</td>\n",
       "      <td>0.331137</td>\n",
       "      <td>0.0</td>\n",
       "      <td>0.000000</td>\n",
       "      <td>0.000000</td>\n",
       "      <td>CBronte</td>\n",
       "    </tr>\n",
       "    <tr>\n",
       "      <th>Austen_Emma0111</th>\n",
       "      <td>0.0</td>\n",
       "      <td>0.0</td>\n",
       "      <td>0.0</td>\n",
       "      <td>0.0</td>\n",
       "      <td>0.000000</td>\n",
       "      <td>0.000000</td>\n",
       "      <td>0.0</td>\n",
       "      <td>0.0000</td>\n",
       "      <td>0.000000</td>\n",
       "      <td>0.0</td>\n",
       "      <td>0.0</td>\n",
       "      <td>0.000000</td>\n",
       "      <td>0.0</td>\n",
       "      <td>0.523379</td>\n",
       "      <td>0.474225</td>\n",
       "      <td>Austen</td>\n",
       "    </tr>\n",
       "    <tr>\n",
       "      <th>Austen_Sense0018</th>\n",
       "      <td>0.0</td>\n",
       "      <td>0.0</td>\n",
       "      <td>0.0</td>\n",
       "      <td>0.0</td>\n",
       "      <td>0.000000</td>\n",
       "      <td>0.000000</td>\n",
       "      <td>0.0</td>\n",
       "      <td>0.0000</td>\n",
       "      <td>0.000000</td>\n",
       "      <td>0.0</td>\n",
       "      <td>0.0</td>\n",
       "      <td>0.000000</td>\n",
       "      <td>0.0</td>\n",
       "      <td>0.977330</td>\n",
       "      <td>0.020281</td>\n",
       "      <td>Austen</td>\n",
       "    </tr>\n",
       "    <tr>\n",
       "      <th>Austen_Emma0100</th>\n",
       "      <td>0.0</td>\n",
       "      <td>0.0</td>\n",
       "      <td>0.0</td>\n",
       "      <td>0.0</td>\n",
       "      <td>0.000000</td>\n",
       "      <td>0.000000</td>\n",
       "      <td>0.0</td>\n",
       "      <td>0.0000</td>\n",
       "      <td>0.000000</td>\n",
       "      <td>0.0</td>\n",
       "      <td>0.0</td>\n",
       "      <td>0.000000</td>\n",
       "      <td>0.0</td>\n",
       "      <td>0.000000</td>\n",
       "      <td>0.997278</td>\n",
       "      <td>Austen</td>\n",
       "    </tr>\n",
       "  </tbody>\n",
       "</table>\n",
       "</div>"
      ],
      "text/plain": [
       "                      lady collins sir catherine miss  \\\n",
       "Austen_Emma0136                                   0.0   \n",
       "CBronte_Villette0156                              0.0   \n",
       "Austen_Emma0111                                   0.0   \n",
       "Austen_Sense0018                                  0.0   \n",
       "Austen_Emma0100                                   0.0   \n",
       "\n",
       "                      long miss room lady saw  papa like old polly room  \\\n",
       "Austen_Emma0136                           0.0                       0.0   \n",
       "CBronte_Villette0156                      0.0                       0.0   \n",
       "Austen_Emma0111                           0.0                       0.0   \n",
       "Austen_Sense0018                          0.0                       0.0   \n",
       "Austen_Emma0100                           0.0                       0.0   \n",
       "\n",
       "                      elizabeth gardiner walk stream woods  \\\n",
       "Austen_Emma0136                                        0.0   \n",
       "CBronte_Villette0156                                   0.0   \n",
       "Austen_Emma0111                                        0.0   \n",
       "Austen_Sense0018                                       0.0   \n",
       "Austen_Emma0100                                        0.0   \n",
       "\n",
       "                      hunsden monsieur know come english  \\\n",
       "Austen_Emma0136                                 0.077483   \n",
       "CBronte_Villette0156                            0.000000   \n",
       "Austen_Emma0111                                 0.000000   \n",
       "Austen_Sense0018                                0.000000   \n",
       "Austen_Emma0100                                 0.000000   \n",
       "\n",
       "                      rochester jane sir like room  \\\n",
       "Austen_Emma0136                           0.000000   \n",
       "CBronte_Villette0156                      0.075107   \n",
       "Austen_Emma0111                           0.000000   \n",
       "Austen_Sense0018                          0.000000   \n",
       "Austen_Emma0100                           0.000000   \n",
       "\n",
       "                      elinor edward lucy marianne dashwood  \\\n",
       "Austen_Emma0136                                        0.0   \n",
       "CBronte_Villette0156                                   0.0   \n",
       "Austen_Emma0111                                        0.0   \n",
       "Austen_Sense0018                                       0.0   \n",
       "Austen_Emma0100                                        0.0   \n",
       "\n",
       "                      like thought know bretton day  \\\n",
       "Austen_Emma0136                              0.0000   \n",
       "CBronte_Villette0156                         0.1412   \n",
       "Austen_Emma0111                              0.0000   \n",
       "Austen_Sense0018                             0.0000   \n",
       "Austen_Emma0100                              0.0000   \n",
       "\n",
       "                      madame monsieur like door house  \\\n",
       "Austen_Emma0136                              0.000000   \n",
       "CBronte_Villette0156                         0.450669   \n",
       "Austen_Emma0111                              0.000000   \n",
       "Austen_Sense0018                             0.000000   \n",
       "Austen_Emma0100                              0.000000   \n",
       "\n",
       "                      elizabeth darcy bingley jane bennet  \\\n",
       "Austen_Emma0136                                       0.0   \n",
       "CBronte_Villette0156                                  0.0   \n",
       "Austen_Emma0111                                       0.0   \n",
       "Austen_Sense0018                                      0.0   \n",
       "Austen_Emma0100                                       0.0   \n",
       "\n",
       "                      like know john st diana  \\\n",
       "Austen_Emma0136                           0.0   \n",
       "CBronte_Villette0156                      0.0   \n",
       "Austen_Emma0111                           0.0   \n",
       "Austen_Sense0018                          0.0   \n",
       "Austen_Emma0100                           0.0   \n",
       "\n",
       "                      like heart madame night thought  \\\n",
       "Austen_Emma0136                              0.000000   \n",
       "CBronte_Villette0156                         0.331137   \n",
       "Austen_Emma0111                              0.000000   \n",
       "Austen_Sense0018                             0.000000   \n",
       "Austen_Emma0100                              0.000000   \n",
       "\n",
       "                      like know think night day  \\\n",
       "Austen_Emma0136                             0.0   \n",
       "CBronte_Villette0156                        0.0   \n",
       "Austen_Emma0111                             0.0   \n",
       "Austen_Sense0018                            0.0   \n",
       "Austen_Emma0100                             0.0   \n",
       "\n",
       "                      marianne elinor sister soon know  \\\n",
       "Austen_Emma0136                               0.000000   \n",
       "CBronte_Villette0156                          0.000000   \n",
       "Austen_Emma0111                               0.523379   \n",
       "Austen_Sense0018                              0.977330   \n",
       "Austen_Emma0100                               0.000000   \n",
       "\n",
       "                      emma miss harriet weston think   author  \n",
       "Austen_Emma0136                             0.919729   Austen  \n",
       "CBronte_Villette0156                        0.000000  CBronte  \n",
       "Austen_Emma0111                             0.474225   Austen  \n",
       "Austen_Sense0018                            0.020281   Austen  \n",
       "Austen_Emma0100                             0.997278   Austen  "
      ]
     },
     "execution_count": 54,
     "metadata": {},
     "output_type": "execute_result"
    }
   ],
   "source": [
    "df.head()"
   ]
  },
  {
   "cell_type": "code",
   "execution_count": 55,
   "metadata": {},
   "outputs": [
    {
     "data": {
      "text/html": [
       "<div>\n",
       "<style scoped>\n",
       "    .dataframe tbody tr th:only-of-type {\n",
       "        vertical-align: middle;\n",
       "    }\n",
       "\n",
       "    .dataframe tbody tr th {\n",
       "        vertical-align: top;\n",
       "    }\n",
       "\n",
       "    .dataframe thead th {\n",
       "        text-align: right;\n",
       "    }\n",
       "</style>\n",
       "<table border=\"1\" class=\"dataframe\">\n",
       "  <thead>\n",
       "    <tr style=\"text-align: right;\">\n",
       "      <th></th>\n",
       "      <th>lady collins sir catherine miss</th>\n",
       "      <th>long miss room lady saw</th>\n",
       "      <th>papa like old polly room</th>\n",
       "      <th>elizabeth gardiner walk stream woods</th>\n",
       "      <th>hunsden monsieur know come english</th>\n",
       "      <th>rochester jane sir like room</th>\n",
       "      <th>elinor edward lucy marianne dashwood</th>\n",
       "      <th>like thought know bretton day</th>\n",
       "      <th>madame monsieur like door house</th>\n",
       "      <th>elizabeth darcy bingley jane bennet</th>\n",
       "      <th>like know john st diana</th>\n",
       "      <th>like heart madame night thought</th>\n",
       "      <th>like know think night day</th>\n",
       "      <th>marianne elinor sister soon know</th>\n",
       "      <th>emma miss harriet weston think</th>\n",
       "    </tr>\n",
       "    <tr>\n",
       "      <th>author</th>\n",
       "      <th></th>\n",
       "      <th></th>\n",
       "      <th></th>\n",
       "      <th></th>\n",
       "      <th></th>\n",
       "      <th></th>\n",
       "      <th></th>\n",
       "      <th></th>\n",
       "      <th></th>\n",
       "      <th></th>\n",
       "      <th></th>\n",
       "      <th></th>\n",
       "      <th></th>\n",
       "      <th></th>\n",
       "      <th></th>\n",
       "    </tr>\n",
       "  </thead>\n",
       "  <tbody>\n",
       "    <tr>\n",
       "      <th>Austen</th>\n",
       "      <td>0.027104</td>\n",
       "      <td>0.001782</td>\n",
       "      <td>0.000000</td>\n",
       "      <td>0.001885</td>\n",
       "      <td>0.002407</td>\n",
       "      <td>0.005711</td>\n",
       "      <td>0.066386</td>\n",
       "      <td>0.003300</td>\n",
       "      <td>0.004173</td>\n",
       "      <td>0.220833</td>\n",
       "      <td>0.000801</td>\n",
       "      <td>0.000892</td>\n",
       "      <td>0.002885</td>\n",
       "      <td>0.325976</td>\n",
       "      <td>0.333043</td>\n",
       "    </tr>\n",
       "    <tr>\n",
       "      <th>CBronte</th>\n",
       "      <td>0.002905</td>\n",
       "      <td>0.013133</td>\n",
       "      <td>0.004718</td>\n",
       "      <td>0.000000</td>\n",
       "      <td>0.012465</td>\n",
       "      <td>0.250860</td>\n",
       "      <td>0.001419</td>\n",
       "      <td>0.309355</td>\n",
       "      <td>0.189863</td>\n",
       "      <td>0.003448</td>\n",
       "      <td>0.057661</td>\n",
       "      <td>0.113747</td>\n",
       "      <td>0.010816</td>\n",
       "      <td>0.019004</td>\n",
       "      <td>0.007478</td>\n",
       "    </tr>\n",
       "  </tbody>\n",
       "</table>\n",
       "</div>"
      ],
      "text/plain": [
       "         lady collins sir catherine miss  long miss room lady saw  \\\n",
       "author                                                              \n",
       "Austen                          0.027104                 0.001782   \n",
       "CBronte                         0.002905                 0.013133   \n",
       "\n",
       "         papa like old polly room  elizabeth gardiner walk stream woods  \\\n",
       "author                                                                    \n",
       "Austen                   0.000000                              0.001885   \n",
       "CBronte                  0.004718                              0.000000   \n",
       "\n",
       "         hunsden monsieur know come english  rochester jane sir like room  \\\n",
       "author                                                                      \n",
       "Austen                             0.002407                      0.005711   \n",
       "CBronte                            0.012465                      0.250860   \n",
       "\n",
       "         elinor edward lucy marianne dashwood  like thought know bretton day  \\\n",
       "author                                                                         \n",
       "Austen                               0.066386                       0.003300   \n",
       "CBronte                              0.001419                       0.309355   \n",
       "\n",
       "         madame monsieur like door house  elizabeth darcy bingley jane bennet  \\\n",
       "author                                                                          \n",
       "Austen                          0.004173                             0.220833   \n",
       "CBronte                         0.189863                             0.003448   \n",
       "\n",
       "         like know john st diana  like heart madame night thought  \\\n",
       "author                                                              \n",
       "Austen                  0.000801                         0.000892   \n",
       "CBronte                 0.057661                         0.113747   \n",
       "\n",
       "         like know think night day  marianne elinor sister soon know  \\\n",
       "author                                                                 \n",
       "Austen                    0.002885                          0.325976   \n",
       "CBronte                   0.010816                          0.019004   \n",
       "\n",
       "         emma miss harriet weston think  \n",
       "author                                   \n",
       "Austen                         0.333043  \n",
       "CBronte                        0.007478  "
      ]
     },
     "execution_count": 55,
     "metadata": {},
     "output_type": "execute_result"
    }
   ],
   "source": [
    "df.groupby('author').mean()"
   ]
  },
  {
   "cell_type": "markdown",
   "metadata": {},
   "source": [
    "## Challenge\n",
    "### *Can we see if one of the authors focus more on men than women?*\n",
    "\n",
    "*  Use Spacy for text prepocessing\n",
    "*  Extract the Named Entities from the documents using Spacy (command is fairly straight forward)\n",
    "*  Create unique list of names from the authors (you'll find that there are different types of named entities not all people)\n",
    "*  Label the names with genders (can you this by hand or you use the US census name lists)\n",
    "*  Customize your processing to replace the proper name with your gender from the previous step's lookup table\n",
    "*  Then follow the rest of the LDA flow\n"
   ]
  },
  {
   "cell_type": "markdown",
   "metadata": {},
   "source": [
    "# Selecting the Number of Topics (Learn)\n",
    "<a id=\"#p4\"></a>"
   ]
  },
  {
   "cell_type": "markdown",
   "metadata": {},
   "source": [
    "## Overview"
   ]
  },
  {
   "cell_type": "markdown",
   "metadata": {},
   "source": [
    "## Follow Along"
   ]
  },
  {
   "cell_type": "code",
   "execution_count": 56,
   "metadata": {},
   "outputs": [],
   "source": [
    "from gensim.models.coherencemodel import CoherenceModel\n",
    "\n",
    "def compute_coherence_values(dictionary, corpus, path, limit, start=2, step=3, passes=5):\n",
    "    \"\"\"\n",
    "    Compute c_v coherence for various number of topics\n",
    "\n",
    "    Parameters:\n",
    "    ----------\n",
    "    dictionary : Gensim dictionary\n",
    "    corpus : Gensim corpus\n",
    "    path : path to input texts\n",
    "    limit : Max num of topics\n",
    "    passes: the number of times the entire lda model & coherence values are calculated\n",
    "\n",
    "    Returns:\n",
    "    -------\n",
    "    coherence_values : Coherence values corresponding to the LDA model with respective number of topics\n",
    "    \"\"\"\n",
    "    \n",
    "    coherence_values = []\n",
    "    \n",
    "    tokens = list(doc_stream(path))\n",
    "    \n",
    "    for iter_ in range(passes):\n",
    "        for num_topics in range(start, limit, step):\n",
    "            stream = doc_stream(path)\n",
    "            model = LdaMulticore(corpus=corpus, num_topics=num_topics, id2word=dictionary, workers=4)\n",
    "            coherencemodel = CoherenceModel(model=model,dictionary=dictionary,corpus=corpus, coherence='u_mass')\n",
    "            coherence_values.append({'pass': iter_, \n",
    "                                     'num_topics': num_topics, \n",
    "                                     'coherence_score': coherencemodel.get_coherence()\n",
    "                                    })\n",
    "\n",
    "    return coherence_values"
   ]
  },
  {
   "cell_type": "code",
   "execution_count": 57,
   "metadata": {},
   "outputs": [],
   "source": [
    "# Can take a long time to run.\n",
    "coherence_values = compute_coherence_values(dictionary=id2word, \n",
    "                                                        corpus=corpus, \n",
    "                                                        path=path, \n",
    "                                                        start=2, \n",
    "                                                        limit=40, \n",
    "                                                        step=6,\n",
    "                                                        passes=40)"
   ]
  },
  {
   "cell_type": "code",
   "execution_count": 58,
   "metadata": {},
   "outputs": [],
   "source": [
    "topic_coherence = pd.DataFrame.from_records(coherence_values)"
   ]
  },
  {
   "cell_type": "code",
   "execution_count": 59,
   "metadata": {},
   "outputs": [
    {
     "data": {
      "text/html": [
       "<div>\n",
       "<style scoped>\n",
       "    .dataframe tbody tr th:only-of-type {\n",
       "        vertical-align: middle;\n",
       "    }\n",
       "\n",
       "    .dataframe tbody tr th {\n",
       "        vertical-align: top;\n",
       "    }\n",
       "\n",
       "    .dataframe thead th {\n",
       "        text-align: right;\n",
       "    }\n",
       "</style>\n",
       "<table border=\"1\" class=\"dataframe\">\n",
       "  <thead>\n",
       "    <tr style=\"text-align: right;\">\n",
       "      <th></th>\n",
       "      <th>coherence_score</th>\n",
       "      <th>num_topics</th>\n",
       "      <th>pass</th>\n",
       "    </tr>\n",
       "  </thead>\n",
       "  <tbody>\n",
       "    <tr>\n",
       "      <th>0</th>\n",
       "      <td>-0.867331</td>\n",
       "      <td>2</td>\n",
       "      <td>0</td>\n",
       "    </tr>\n",
       "    <tr>\n",
       "      <th>1</th>\n",
       "      <td>-0.737585</td>\n",
       "      <td>8</td>\n",
       "      <td>0</td>\n",
       "    </tr>\n",
       "    <tr>\n",
       "      <th>2</th>\n",
       "      <td>-0.850439</td>\n",
       "      <td>14</td>\n",
       "      <td>0</td>\n",
       "    </tr>\n",
       "    <tr>\n",
       "      <th>3</th>\n",
       "      <td>-0.939246</td>\n",
       "      <td>20</td>\n",
       "      <td>0</td>\n",
       "    </tr>\n",
       "    <tr>\n",
       "      <th>4</th>\n",
       "      <td>-0.919345</td>\n",
       "      <td>26</td>\n",
       "      <td>0</td>\n",
       "    </tr>\n",
       "  </tbody>\n",
       "</table>\n",
       "</div>"
      ],
      "text/plain": [
       "   coherence_score  num_topics  pass\n",
       "0        -0.867331           2     0\n",
       "1        -0.737585           8     0\n",
       "2        -0.850439          14     0\n",
       "3        -0.939246          20     0\n",
       "4        -0.919345          26     0"
      ]
     },
     "execution_count": 59,
     "metadata": {},
     "output_type": "execute_result"
    }
   ],
   "source": [
    "topic_coherence.head()"
   ]
  },
  {
   "cell_type": "code",
   "execution_count": 60,
   "metadata": {},
   "outputs": [
    {
     "name": "stderr",
     "output_type": "stream",
     "text": [
      "/home/ubuntu/.conda/envs/U4-S1-NLP/lib/python3.7/site-packages/scipy/stats/stats.py:1713: FutureWarning: Using a non-tuple sequence for multidimensional indexing is deprecated; use `arr[tuple(seq)]` instead of `arr[seq]`. In the future this will be interpreted as an array index, `arr[np.array(seq)]`, which will result either in an error or a different result.\n",
      "  return np.add.reduce(sorted[indexer] * weights, axis=axis) / sumval\n"
     ]
    }
   ],
   "source": [
    "import seaborn as sns\n",
    "\n",
    "ax = sns.lineplot(x=\"num_topics\", y=\"coherence_score\", data=topic_coherence)"
   ]
  },
  {
   "cell_type": "code",
   "execution_count": 61,
   "metadata": {},
   "outputs": [
    {
     "ename": "NameError",
     "evalue": "name 'x' is not defined",
     "output_type": "error",
     "traceback": [
      "\u001b[0;31m---------------------------------------------------------------------------\u001b[0m",
      "\u001b[0;31mNameError\u001b[0m                                 Traceback (most recent call last)",
      "\u001b[0;32m<ipython-input-61-374779cc73b5>\u001b[0m in \u001b[0;36m<module>\u001b[0;34m\u001b[0m\n\u001b[1;32m      1\u001b[0m \u001b[0;31m# Print the coherence scores\u001b[0m\u001b[0;34m\u001b[0m\u001b[0;34m\u001b[0m\u001b[0;34m\u001b[0m\u001b[0m\n\u001b[0;32m----> 2\u001b[0;31m \u001b[0;32mfor\u001b[0m \u001b[0mm\u001b[0m\u001b[0;34m,\u001b[0m \u001b[0mcv\u001b[0m \u001b[0;32min\u001b[0m \u001b[0mzip\u001b[0m\u001b[0;34m(\u001b[0m\u001b[0mx\u001b[0m\u001b[0;34m,\u001b[0m \u001b[0mcoherence_values\u001b[0m\u001b[0;34m)\u001b[0m\u001b[0;34m:\u001b[0m\u001b[0;34m\u001b[0m\u001b[0;34m\u001b[0m\u001b[0m\n\u001b[0m\u001b[1;32m      3\u001b[0m     \u001b[0mprint\u001b[0m\u001b[0;34m(\u001b[0m\u001b[0;34m\"Num Topics =\"\u001b[0m\u001b[0;34m,\u001b[0m \u001b[0mm\u001b[0m\u001b[0;34m,\u001b[0m \u001b[0;34m\" has Coherence Value of\"\u001b[0m\u001b[0;34m,\u001b[0m \u001b[0mround\u001b[0m\u001b[0;34m(\u001b[0m\u001b[0mcv\u001b[0m\u001b[0;34m,\u001b[0m \u001b[0;36m4\u001b[0m\u001b[0;34m)\u001b[0m\u001b[0;34m)\u001b[0m\u001b[0;34m\u001b[0m\u001b[0;34m\u001b[0m\u001b[0m\n",
      "\u001b[0;31mNameError\u001b[0m: name 'x' is not defined"
     ]
    }
   ],
   "source": [
    "# Print the coherence scores\n",
    "for m, cv in zip(x, coherence_values):\n",
    "    print(\"Num Topics =\", m, \" has Coherence Value of\", round(cv, 4))"
   ]
  },
  {
   "cell_type": "code",
   "execution_count": null,
   "metadata": {},
   "outputs": [],
   "source": [
    "lda[id2word.doc2bow(tokenize(\"This is a sample document to score with a topic distribution.\"))]"
   ]
  },
  {
   "cell_type": "markdown",
   "metadata": {},
   "source": [
    "## Challenge\n",
    "### *Can we see if one of the authors focus more on men than women?*\n",
    "\n",
    "*  Use Spacy for text prepocessing\n",
    "*  Extract the Named Entities from the documents using Spacy (command is fairly straight forward)\n",
    "*  Create unique list of names from the authors (you'll find that there are different types of named entities not all people)\n",
    "*  Label the names with genders (can you this by hand or you use the US census name lists)\n",
    "*  Customize your processing to replace the proper name with your gender from the previous step's lookup table\n",
    "*  Then follow the rest of the LDA flow"
   ]
  },
  {
   "cell_type": "code",
   "execution_count": null,
   "metadata": {},
   "outputs": [],
   "source": [
    "import spacy\n",
    "\n",
    "nlp = spacy.load('en_core_web_lg')"
   ]
  },
  {
   "cell_type": "code",
   "execution_count": null,
   "metadata": {},
   "outputs": [],
   "source": [
    "test = \"Ned asked me a question about England today.\""
   ]
  },
  {
   "cell_type": "code",
   "execution_count": null,
   "metadata": {},
   "outputs": [],
   "source": [
    "doc = nlp(test)\n",
    "\n",
    "for token in doc:\n",
    "    print(token.text, token.lemma_, token.pos_)"
   ]
  },
  {
   "cell_type": "code",
   "execution_count": null,
   "metadata": {},
   "outputs": [],
   "source": [
    "for ent in doc.ents:\n",
    "    print(ent.text, ent.label_)"
   ]
  },
  {
   "cell_type": "code",
   "execution_count": null,
   "metadata": {},
   "outputs": [],
   "source": [
    "def doc_stream(path):\n",
    "    for f in os.listdir(path):\n",
    "        with open(os.path.join(path,f)) as t:\n",
    "            text = t.read().strip('\\n')\n",
    "            yield text\n",
    "\n",
    "def get_people(docstream):\n",
    "    \n",
    "    ppl = []\n",
    "    \n",
    "    for d in docstream:\n",
    "        \n",
    "        doc = nlp(d)\n",
    "        \n",
    "        for ent in doc.ents:\n",
    "            \n",
    "            if ent.label_ == \"PERSON\":\n",
    "                ppl.append(ent.lemma_)\n",
    "                \n",
    "    return set(ppl)"
   ]
  },
  {
   "cell_type": "code",
   "execution_count": null,
   "metadata": {},
   "outputs": [],
   "source": [
    "people = get_people(doc_stream(path))"
   ]
  },
  {
   "cell_type": "code",
   "execution_count": null,
   "metadata": {},
   "outputs": [],
   "source": [
    "doc = nlp(next(doc_stream(path)))"
   ]
  },
  {
   "cell_type": "code",
   "execution_count": null,
   "metadata": {},
   "outputs": [],
   "source": [
    "doc.ents[0].lemma_"
   ]
  },
  {
   "cell_type": "markdown",
   "metadata": {},
   "source": [
    "# Sources\n",
    "\n",
    "### *References*\n",
    "* [Andrew Ng et al paper on LDA](https://ai.stanford.edu/~ang/papers/jair03-lda.pdf)\n",
    "* On [Coherence](https://pdfs.semanticscholar.org/1521/8d9c029cbb903ae7c729b2c644c24994c201.pdf)\n",
    "\n",
    "### *Resources*\n",
    "\n",
    "* [Gensim](https://radimrehurek.com/gensim/): Python package for topic modeling, nlp, word vectorization, and few other things. Well maintained and well documented.\n",
    "* [Topic Modeling with Gensim](http://www.machinelearningplus.com/nlp/topic-modeling-gensim-python/#11createthedictionaryandcorpusneededfortopicmodeling): A kind of cookbook for LDA with gensim. Excellent overview, but the you need to be aware of missing import statements and assumed prior knowledge.\n",
    "* [Chinese Restuarant Process](https://en.wikipedia.org/wiki/Chinese_restaurant_process): That really obscure stats thing I mentioned... \n",
    "* [PyLDAvis](https://github.com/bmabey/pyLDAvis): Library for visualizing the topic model and performing some exploratory work. Works well. Has a direct parrell implementation in R as well. \n",
    "* [Rare Technologies](https://rare-technologies.com/): The people that made & maintain gensim and a few other libraries.\n",
    "* [Jane Austen v. Charlotte Bronte](https://www.literaryladiesguide.com/literary-musings/jane-austen-charlotte-bronte-different-alike/)"
   ]
  }
 ],
 "metadata": {
  "kernelspec": {
   "display_name": "U4-S1-NLP (Python3)",
   "language": "python",
   "name": "u4-s1-nlp"
  },
  "language_info": {
   "codemirror_mode": {
    "name": "ipython",
    "version": 3
   },
   "file_extension": ".py",
   "mimetype": "text/x-python",
   "name": "python",
   "nbconvert_exporter": "python",
   "pygments_lexer": "ipython3",
   "version": "3.7.3"
  }
 },
 "nbformat": 4,
 "nbformat_minor": 2
}
