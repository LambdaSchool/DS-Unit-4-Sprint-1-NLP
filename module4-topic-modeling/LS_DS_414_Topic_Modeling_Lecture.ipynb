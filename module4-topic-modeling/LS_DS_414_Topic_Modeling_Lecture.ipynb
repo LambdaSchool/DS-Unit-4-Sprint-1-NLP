{
 "cells": [
  {
   "cell_type": "markdown",
   "metadata": {},
   "source": [
    "Lambda School Data Science\n",
    "\n",
    "*Unit 4, Sprint 1, Module 4*\n",
    "\n",
    "---"
   ]
  },
  {
   "cell_type": "markdown",
   "metadata": {},
   "source": [
    "# Topic Modeling (Prepare)"
   ]
  },
  {
   "cell_type": "markdown",
   "metadata": {},
   "source": [
    "# Latent Dirchilet Allocation (LDA) Models (Prepare)\n",
    "<a id=\"#p1\"></a>"
   ]
  },
  {
   "cell_type": "markdown",
   "metadata": {},
   "source": [
    "## Overview\n",
    "LDA is a \"generative probabilistic model\". \n",
    "\n",
    "Let's play with a modoel available [here](https://lettier.com/projects/lda-topic-modeling/)"
   ]
  },
  {
   "cell_type": "markdown",
   "metadata": {},
   "source": [
    "## Follow Along"
   ]
  },
  {
   "cell_type": "markdown",
   "metadata": {},
   "source": [
    "## Challenge "
   ]
  },
  {
   "cell_type": "markdown",
   "metadata": {},
   "source": [
    "# Estimating LDA Models with Gensim (Learn)\n",
    "<a id=\"#p1\"></a>"
   ]
  },
  {
   "cell_type": "markdown",
   "metadata": {
    "toc-hr-collapsed": true
   },
   "source": [
    "## Overview\n",
    "### A Litterary Introduction: *Jane Austen V. Charlotte Bronte*\n",
    "Despite being born nearly forty years apart, modern fans often pit Jane Austen & Charlotte Bronte against one another in a battle for litterary  supremacy. The battle centers around the topics of education for women, courting, and marriage. The authors' similiar backgrounds naturally draw comparisons, but the modern fascination is probably due to novelility of British women publishing novels during the early 19th century. \n",
    "\n",
    "Can we help close a litterary battle for supremacy and simply acknowledge that the authors addressed different topics and deserve to be acknowledged as excellent authors each in their own right?\n",
    "\n",
    "We're going to apply Latent Dirichlet Allocation a machine learning alogrithm for topic modeling to each of the author's novels to compare the distribution of topics in their novels."
   ]
  },
  {
   "cell_type": "code",
   "execution_count": 1,
   "metadata": {},
   "outputs": [
    {
     "name": "stderr",
     "output_type": "stream",
     "text": [
      "C:\\Users\\Samue\\Anaconda3\\envs\\DS-U4-S1-NLP\\lib\\site-packages\\gensim\\utils.py:1197: UserWarning: detected Windows; aliasing chunkize to chunkize_serial\n",
      "  warnings.warn(\"detected Windows; aliasing chunkize to chunkize_serial\")\n"
     ]
    }
   ],
   "source": [
    "import numpy as np\n",
    "import gensim\n",
    "import os\n",
    "import re\n",
    "\n",
    "from gensim.utils import simple_preprocess\n",
    "from gensim.parsing.preprocessing import STOPWORDS\n",
    "from gensim import corpora\n",
    "\n",
    "from gensim.models.ldamulticore import LdaMulticore\n",
    "\n",
    "import pandas as pd"
   ]
  },
  {
   "cell_type": "markdown",
   "metadata": {},
   "source": [
    "### Novel Data\n",
    "I grabbed the novel data pre-split into a bunch of smaller chuncks"
   ]
  },
  {
   "cell_type": "code",
   "execution_count": 2,
   "metadata": {},
   "outputs": [],
   "source": [
    "path = './data/austen-brontë-split'"
   ]
  },
  {
   "cell_type": "code",
   "execution_count": 3,
   "metadata": {},
   "outputs": [],
   "source": [
    "# 1. Plain python - ''.split command\n",
    "#  2. Spacy - just the lemmas from the document\n",
    "#  3. Gensim - simple_preprocess\n",
    "\n",
    "def tokenize(text):\n",
    "    \"Complete this function\"\n",
    "    \n",
    "    return [token for token in simple_preprocess(text) if token in STOPWORDS]"
   ]
  },
  {
   "cell_type": "code",
   "execution_count": 4,
   "metadata": {},
   "outputs": [],
   "source": [
    "import os\n",
    "\n",
    "def gather_data(path_to_data): \n",
    "    data = []\n",
    "    \n",
    "    for f in os.listdir(path):\n",
    "        if os.path.isdir(f) == False:\n",
    "            if f[-3:] == 'txt':\n",
    "                with open(os.path.join(path,f)) as t:\n",
    "                    text = t.read().strip('\\n')\n",
    "                    data.append(tokenize(str(text)))\n",
    "            \n",
    "    return data"
   ]
  },
  {
   "cell_type": "code",
   "execution_count": 5,
   "metadata": {},
   "outputs": [],
   "source": [
    "tokens = gather_data(path)"
   ]
  },
  {
   "cell_type": "code",
   "execution_count": 6,
   "metadata": {},
   "outputs": [
    {
     "data": {
      "text/plain": [
       "['by', 'and', 'with', 'and', 'seemed', 'to', 'some', 'of', 'the', 'of']"
      ]
     },
     "execution_count": 6,
     "metadata": {},
     "output_type": "execute_result"
    }
   ],
   "source": [
    "tokens[0][0:10]"
   ]
  },
  {
   "cell_type": "code",
   "execution_count": 7,
   "metadata": {},
   "outputs": [
    {
     "data": {
      "text/plain": [
       "'this is a sample string with a  newline character'"
      ]
     },
     "execution_count": 7,
     "metadata": {},
     "output_type": "execute_result"
    }
   ],
   "source": [
    "\"this is a sample string with a \\n newline character\".replace('\\n', '')"
   ]
  },
  {
   "cell_type": "code",
   "execution_count": 8,
   "metadata": {},
   "outputs": [],
   "source": [
    "# df['tokens'].head()"
   ]
  },
  {
   "cell_type": "markdown",
   "metadata": {
    "toc-hr-collapsed": true
   },
   "source": [
    "## Follow Along"
   ]
  },
  {
   "cell_type": "markdown",
   "metadata": {},
   "source": [
    "### Text Preprocessing\n",
    "**Challenge**: update the function `tokenize` with any technique you have learned so far this week. "
   ]
  },
  {
   "cell_type": "code",
   "execution_count": 9,
   "metadata": {},
   "outputs": [],
   "source": [
    "titles = [t[:-4] for t in os.listdir(path) if os.path.isdir(t) == False]"
   ]
  },
  {
   "cell_type": "code",
   "execution_count": 10,
   "metadata": {},
   "outputs": [
    {
     "data": {
      "text/plain": [
       "813"
      ]
     },
     "execution_count": 10,
     "metadata": {},
     "output_type": "execute_result"
    }
   ],
   "source": [
    "len(titles)"
   ]
  },
  {
   "cell_type": "code",
   "execution_count": 11,
   "metadata": {},
   "outputs": [],
   "source": [
    "STOPWORDS = set(STOPWORDS).union(set(['said', 'mr', 'mrs']))\n",
    "\n",
    "def tokenize(text):\n",
    "    return [token for token in simple_preprocess(text) if token not in STOPWORDS]"
   ]
  },
  {
   "cell_type": "code",
   "execution_count": 12,
   "metadata": {},
   "outputs": [
    {
     "data": {
      "text/plain": [
       "['hello', 'world', 'test', 'tokenization', 'method']"
      ]
     },
     "execution_count": 12,
     "metadata": {},
     "output_type": "execute_result"
    }
   ],
   "source": [
    "tokenize(\"Hello World! This a test of the tokenization method\")"
   ]
  },
  {
   "cell_type": "code",
   "execution_count": 13,
   "metadata": {},
   "outputs": [
    {
     "data": {
      "text/plain": [
       "813"
      ]
     },
     "execution_count": 13,
     "metadata": {},
     "output_type": "execute_result"
    }
   ],
   "source": [
    "len(tokens)"
   ]
  },
  {
   "cell_type": "markdown",
   "metadata": {},
   "source": [
    "### Author DataFrame\n"
   ]
  },
  {
   "cell_type": "code",
   "execution_count": 14,
   "metadata": {},
   "outputs": [],
   "source": [
    "df = pd.DataFrame(index=titles, data={'tokens': tokens})"
   ]
  },
  {
   "cell_type": "code",
   "execution_count": 15,
   "metadata": {},
   "outputs": [
    {
     "data": {
      "text/html": [
       "<div>\n",
       "<style scoped>\n",
       "    .dataframe tbody tr th:only-of-type {\n",
       "        vertical-align: middle;\n",
       "    }\n",
       "\n",
       "    .dataframe tbody tr th {\n",
       "        vertical-align: top;\n",
       "    }\n",
       "\n",
       "    .dataframe thead th {\n",
       "        text-align: right;\n",
       "    }\n",
       "</style>\n",
       "<table border=\"1\" class=\"dataframe\">\n",
       "  <thead>\n",
       "    <tr style=\"text-align: right;\">\n",
       "      <th></th>\n",
       "      <th>tokens</th>\n",
       "    </tr>\n",
       "  </thead>\n",
       "  <tbody>\n",
       "    <tr>\n",
       "      <th>Austen_Emma0000</th>\n",
       "      <td>[by, and, with, and, seemed, to, some, of, the...</td>\n",
       "    </tr>\n",
       "    <tr>\n",
       "      <th>Austen_Emma0001</th>\n",
       "      <td>[she, were, here, again, what, it, is, that, e...</td>\n",
       "    </tr>\n",
       "    <tr>\n",
       "      <th>Austen_Emma0002</th>\n",
       "      <td>[all, every, was, every, in, their, not, and, ...</td>\n",
       "    </tr>\n",
       "    <tr>\n",
       "      <th>Austen_Emma0003</th>\n",
       "      <td>[of, and, of, which, for, the, last, two, or, ...</td>\n",
       "    </tr>\n",
       "    <tr>\n",
       "      <th>Austen_Emma0004</th>\n",
       "      <td>[some, of, the, had, you, have, of, the, has, ...</td>\n",
       "    </tr>\n",
       "  </tbody>\n",
       "</table>\n",
       "</div>"
      ],
      "text/plain": [
       "                                                            tokens\n",
       "Austen_Emma0000  [by, and, with, and, seemed, to, some, of, the...\n",
       "Austen_Emma0001  [she, were, here, again, what, it, is, that, e...\n",
       "Austen_Emma0002  [all, every, was, every, in, their, not, and, ...\n",
       "Austen_Emma0003  [of, and, of, which, for, the, last, two, or, ...\n",
       "Austen_Emma0004  [some, of, the, had, you, have, of, the, has, ..."
      ]
     },
     "execution_count": 15,
     "metadata": {},
     "output_type": "execute_result"
    }
   ],
   "source": [
    "df.head()"
   ]
  },
  {
   "cell_type": "code",
   "execution_count": 16,
   "metadata": {},
   "outputs": [],
   "source": [
    "df['author'] = df.reset_index()['index'].apply(lambda x: x.split('_')[0]).tolist()\n",
    "df['book'] = df.reset_index()['index'].apply(lambda x: x.split('_')[1][:-4]).tolist()\n",
    "df['section'] = df.reset_index()['index'].apply(lambda x: x[-4:]).tolist()\n",
    "df['section'] = df['section'].astype('int')"
   ]
  },
  {
   "cell_type": "code",
   "execution_count": 17,
   "metadata": {},
   "outputs": [],
   "source": [
    "df['author'] = df['author'].map({'Austen':1, 'CBronte':0})"
   ]
  },
  {
   "cell_type": "code",
   "execution_count": 18,
   "metadata": {},
   "outputs": [
    {
     "data": {
      "text/plain": [
       "0    441\n",
       "1    372\n",
       "Name: author, dtype: int64"
      ]
     },
     "execution_count": 18,
     "metadata": {},
     "output_type": "execute_result"
    }
   ],
   "source": [
    "df.author.value_counts()"
   ]
  },
  {
   "cell_type": "code",
   "execution_count": 19,
   "metadata": {},
   "outputs": [
    {
     "data": {
      "text/html": [
       "<div>\n",
       "<style scoped>\n",
       "    .dataframe tbody tr th:only-of-type {\n",
       "        vertical-align: middle;\n",
       "    }\n",
       "\n",
       "    .dataframe tbody tr th {\n",
       "        vertical-align: top;\n",
       "    }\n",
       "\n",
       "    .dataframe thead th {\n",
       "        text-align: right;\n",
       "    }\n",
       "</style>\n",
       "<table border=\"1\" class=\"dataframe\">\n",
       "  <thead>\n",
       "    <tr style=\"text-align: right;\">\n",
       "      <th></th>\n",
       "      <th>tokens</th>\n",
       "      <th>author</th>\n",
       "      <th>book</th>\n",
       "      <th>section</th>\n",
       "    </tr>\n",
       "  </thead>\n",
       "  <tbody>\n",
       "    <tr>\n",
       "      <th>Austen_Emma0000</th>\n",
       "      <td>[by, and, with, and, seemed, to, some, of, the...</td>\n",
       "      <td>1</td>\n",
       "      <td>Emma</td>\n",
       "      <td>0</td>\n",
       "    </tr>\n",
       "    <tr>\n",
       "      <th>Austen_Emma0001</th>\n",
       "      <td>[she, were, here, again, what, it, is, that, e...</td>\n",
       "      <td>1</td>\n",
       "      <td>Emma</td>\n",
       "      <td>1</td>\n",
       "    </tr>\n",
       "    <tr>\n",
       "      <th>Austen_Emma0002</th>\n",
       "      <td>[all, every, was, every, in, their, not, and, ...</td>\n",
       "      <td>1</td>\n",
       "      <td>Emma</td>\n",
       "      <td>2</td>\n",
       "    </tr>\n",
       "    <tr>\n",
       "      <th>Austen_Emma0003</th>\n",
       "      <td>[of, and, of, which, for, the, last, two, or, ...</td>\n",
       "      <td>1</td>\n",
       "      <td>Emma</td>\n",
       "      <td>3</td>\n",
       "    </tr>\n",
       "    <tr>\n",
       "      <th>Austen_Emma0004</th>\n",
       "      <td>[some, of, the, had, you, have, of, the, has, ...</td>\n",
       "      <td>1</td>\n",
       "      <td>Emma</td>\n",
       "      <td>4</td>\n",
       "    </tr>\n",
       "  </tbody>\n",
       "</table>\n",
       "</div>"
      ],
      "text/plain": [
       "                                                            tokens  author  \\\n",
       "Austen_Emma0000  [by, and, with, and, seemed, to, some, of, the...       1   \n",
       "Austen_Emma0001  [she, were, here, again, what, it, is, that, e...       1   \n",
       "Austen_Emma0002  [all, every, was, every, in, their, not, and, ...       1   \n",
       "Austen_Emma0003  [of, and, of, which, for, the, last, two, or, ...       1   \n",
       "Austen_Emma0004  [some, of, the, had, you, have, of, the, has, ...       1   \n",
       "\n",
       "                 book  section  \n",
       "Austen_Emma0000  Emma        0  \n",
       "Austen_Emma0001  Emma        1  \n",
       "Austen_Emma0002  Emma        2  \n",
       "Austen_Emma0003  Emma        3  \n",
       "Austen_Emma0004  Emma        4  "
      ]
     },
     "execution_count": 19,
     "metadata": {},
     "output_type": "execute_result"
    }
   ],
   "source": [
    "df.head()"
   ]
  },
  {
   "cell_type": "markdown",
   "metadata": {},
   "source": [
    "### Streaming Documents\n",
    "Here we use a new pythonic thingy: the `yield` statement in our fucntion. This allows us to iterate over a bunch of documents without actually reading them into memory. You can see how we use this fucntion later on. "
   ]
  },
  {
   "cell_type": "code",
   "execution_count": 20,
   "metadata": {},
   "outputs": [],
   "source": [
    "def doc_stream(path):\n",
    "    for f in os.listdir(path):\n",
    "        if os.path.isdir(f) == False:\n",
    "            if f[-3:] == 'txt':\n",
    "                with open(os.path.join(path,f)) as t:\n",
    "                    text = t.read().strip('\\n')\n",
    "                    tokens = tokenize(str(text))\n",
    "                yield tokens"
   ]
  },
  {
   "cell_type": "code",
   "execution_count": 21,
   "metadata": {},
   "outputs": [],
   "source": [
    "streaming_data = doc_stream(path)"
   ]
  },
  {
   "cell_type": "code",
   "execution_count": 22,
   "metadata": {},
   "outputs": [],
   "source": [
    "# gather_data => returns a list\n",
    "# doc_stream => returns a generator"
   ]
  },
  {
   "cell_type": "code",
   "execution_count": 23,
   "metadata": {},
   "outputs": [
    {
     "data": {
      "text/plain": [
       "<generator object doc_stream at 0x000002AA8439AED0>"
      ]
     },
     "execution_count": 23,
     "metadata": {},
     "output_type": "execute_result"
    }
   ],
   "source": [
    "streaming_data"
   ]
  },
  {
   "cell_type": "code",
   "execution_count": 24,
   "metadata": {},
   "outputs": [],
   "source": [
    "# next(streaming_data) # Returns one document at a time from the generator"
   ]
  },
  {
   "cell_type": "markdown",
   "metadata": {},
   "source": [
    "### Gensim LDA Topic Modeling"
   ]
  },
  {
   "cell_type": "code",
   "execution_count": 25,
   "metadata": {},
   "outputs": [],
   "source": [
    "# A Dictionary Representation of all the words in our corpus\n",
    "id2word = corpora.Dictionary(doc_stream(path))"
   ]
  },
  {
   "cell_type": "code",
   "execution_count": 26,
   "metadata": {},
   "outputs": [
    {
     "data": {
      "text/plain": [
       "387"
      ]
     },
     "execution_count": 26,
     "metadata": {},
     "output_type": "execute_result"
    }
   ],
   "source": [
    "id2word.token2id['girl']"
   ]
  },
  {
   "cell_type": "code",
   "execution_count": 46,
   "metadata": {},
   "outputs": [
    {
     "data": {
      "text/plain": [
       "'england'"
      ]
     },
     "execution_count": 46,
     "metadata": {},
     "output_type": "execute_result"
    }
   ],
   "source": [
    "id2word[3987]"
   ]
  },
  {
   "cell_type": "code",
   "execution_count": 44,
   "metadata": {},
   "outputs": [
    {
     "data": {
      "text/plain": [
       "[(2754, 1), (3987, 3), (6602, 1), (6819, 1)]"
      ]
     },
     "execution_count": 44,
     "metadata": {},
     "output_type": "execute_result"
    }
   ],
   "source": [
    "id2word.doc2bow(tokenize(\"This is a sample message Darcy England England England\"))"
   ]
  },
  {
   "cell_type": "code",
   "execution_count": 47,
   "metadata": {},
   "outputs": [
    {
     "data": {
      "text/plain": [
       "56"
      ]
     },
     "execution_count": 47,
     "metadata": {},
     "output_type": "execute_result"
    }
   ],
   "source": [
    "import sys\n",
    "sys.getsizeof(id2word)"
   ]
  },
  {
   "cell_type": "code",
   "execution_count": 55,
   "metadata": {},
   "outputs": [
    {
     "data": {
      "text/plain": [
       "22096"
      ]
     },
     "execution_count": 55,
     "metadata": {},
     "output_type": "execute_result"
    }
   ],
   "source": [
    "len(id2word.keys())"
   ]
  },
  {
   "cell_type": "code",
   "execution_count": 57,
   "metadata": {},
   "outputs": [],
   "source": [
    "# Let's remove extreme values from the dataset\n",
    "id2word.filter_extremes(no_below=20, no_above=0.90)"
   ]
  },
  {
   "cell_type": "code",
   "execution_count": 58,
   "metadata": {},
   "outputs": [
    {
     "data": {
      "text/plain": [
       "2881"
      ]
     },
     "execution_count": 58,
     "metadata": {},
     "output_type": "execute_result"
    }
   ],
   "source": [
    "len(id2word.keys())"
   ]
  },
  {
   "cell_type": "code",
   "execution_count": 59,
   "metadata": {},
   "outputs": [],
   "source": [
    "# a bag of words(bow) representation of our corpus\n",
    "# Note: we haven't actually read any text into memory here\n",
    "corpus = [id2word.doc2bow(text) for text in doc_stream(path)]"
   ]
  },
  {
   "cell_type": "code",
   "execution_count": 60,
   "metadata": {},
   "outputs": [
    {
     "data": {
      "text/plain": [
       "[(0, 1),\n",
       " (1, 1),\n",
       " (2, 1),\n",
       " (3, 1),\n",
       " (4, 4),\n",
       " (5, 1),\n",
       " (6, 1),\n",
       " (7, 1),\n",
       " (8, 1),\n",
       " (9, 1)]"
      ]
     },
     "execution_count": 60,
     "metadata": {},
     "output_type": "execute_result"
    }
   ],
   "source": [
    "corpus[0][:10]"
   ]
  },
  {
   "cell_type": "code",
   "execution_count": 61,
   "metadata": {},
   "outputs": [],
   "source": [
    "lda = LdaMulticore(corpus=corpus,\n",
    "                   id2word=id2word,\n",
    "                   random_state=723812,\n",
    "                   num_topics = 15,\n",
    "                   passes=10,\n",
    "                   workers=8\n",
    "                  )"
   ]
  },
  {
   "cell_type": "code",
   "execution_count": 62,
   "metadata": {},
   "outputs": [
    {
     "data": {
      "text/plain": [
       "[(0,\n",
       "  '0.012*\"elinor\" + 0.010*\"marianne\" + 0.007*\"sister\" + 0.006*\"time\" + 0.006*\"know\" + 0.006*\"think\" + 0.005*\"mother\" + 0.005*\"soon\" + 0.005*\"miss\" + 0.005*\"edward\"'),\n",
       " (1,\n",
       "  '0.009*\"night\" + 0.008*\"long\" + 0.007*\"like\" + 0.006*\"saw\" + 0.006*\"thought\" + 0.006*\"heart\" + 0.005*\"jane\" + 0.005*\"hand\" + 0.005*\"life\" + 0.005*\"sir\"'),\n",
       " (2,\n",
       "  '0.012*\"little\" + 0.011*\"bretton\" + 0.011*\"graham\" + 0.009*\"dr\" + 0.008*\"like\" + 0.008*\"lucy\" + 0.007*\"know\" + 0.007*\"think\" + 0.007*\"papa\" + 0.006*\"good\"'),\n",
       " (3,\n",
       "  '0.026*\"madame\" + 0.011*\"beck\" + 0.008*\"little\" + 0.008*\"good\" + 0.007*\"old\" + 0.006*\"door\" + 0.006*\"man\" + 0.006*\"pere\" + 0.006*\"thought\" + 0.005*\"church\"'),\n",
       " (4,\n",
       "  '0.009*\"hunsden\" + 0.009*\"like\" + 0.008*\"know\" + 0.006*\"man\" + 0.006*\"st\" + 0.006*\"good\" + 0.006*\"john\" + 0.006*\"yes\" + 0.006*\"house\" + 0.005*\"shall\"'),\n",
       " (5,\n",
       "  '0.016*\"madame\" + 0.009*\"little\" + 0.008*\"night\" + 0.008*\"vous\" + 0.007*\"like\" + 0.007*\"beck\" + 0.006*\"know\" + 0.006*\"day\" + 0.006*\"evening\" + 0.006*\"paulina\"'),\n",
       " (6,\n",
       "  '0.011*\"room\" + 0.011*\"adele\" + 0.010*\"miss\" + 0.009*\"fairfax\" + 0.009*\"et\" + 0.009*\"vous\" + 0.008*\"master\" + 0.006*\"little\" + 0.006*\"long\" + 0.006*\"je\"'),\n",
       " (7,\n",
       "  '0.024*\"elizabeth\" + 0.016*\"bennet\" + 0.015*\"darcy\" + 0.015*\"bingley\" + 0.013*\"jane\" + 0.009*\"miss\" + 0.007*\"lydia\" + 0.007*\"good\" + 0.007*\"know\" + 0.006*\"soon\"'),\n",
       " (8,\n",
       "  '0.013*\"jane\" + 0.012*\"sir\" + 0.009*\"night\" + 0.008*\"love\" + 0.008*\"thought\" + 0.008*\"life\" + 0.007*\"know\" + 0.007*\"time\" + 0.006*\"little\" + 0.005*\"away\"'),\n",
       " (9,\n",
       "  '0.019*\"emma\" + 0.014*\"miss\" + 0.011*\"harriet\" + 0.010*\"weston\" + 0.009*\"thing\" + 0.009*\"elton\" + 0.008*\"knightley\" + 0.008*\"think\" + 0.008*\"little\" + 0.008*\"good\"'),\n",
       " (10,\n",
       "  '0.008*\"like\" + 0.008*\"little\" + 0.007*\"rochester\" + 0.007*\"room\" + 0.006*\"miss\" + 0.005*\"door\" + 0.005*\"looked\" + 0.005*\"night\" + 0.005*\"come\" + 0.005*\"sir\"'),\n",
       " (11,\n",
       "  '0.025*\"collins\" + 0.023*\"lady\" + 0.021*\"catherine\" + 0.019*\"elizabeth\" + 0.015*\"charlotte\" + 0.012*\"rosings\" + 0.010*\"sir\" + 0.009*\"ladyship\" + 0.008*\"miss\" + 0.008*\"william\"'),\n",
       " (12,\n",
       "  '0.009*\"little\" + 0.006*\"monsieur\" + 0.006*\"like\" + 0.006*\"madame\" + 0.005*\"thought\" + 0.005*\"time\" + 0.005*\"day\" + 0.004*\"hand\" + 0.004*\"good\" + 0.004*\"know\"'),\n",
       " (13,\n",
       "  '0.010*\"rochester\" + 0.009*\"sir\" + 0.007*\"voice\" + 0.007*\"think\" + 0.006*\"man\" + 0.006*\"like\" + 0.006*\"seen\" + 0.006*\"thought\" + 0.006*\"looked\" + 0.005*\"know\"'),\n",
       " (14,\n",
       "  '0.008*\"mother\" + 0.007*\"edward\" + 0.007*\"shall\" + 0.007*\"mind\" + 0.006*\"crimsworth\" + 0.006*\"time\" + 0.006*\"father\" + 0.006*\"thought\" + 0.005*\"day\" + 0.005*\"good\"')]"
      ]
     },
     "execution_count": 62,
     "metadata": {},
     "output_type": "execute_result"
    }
   ],
   "source": [
    "lda.print_topics()"
   ]
  },
  {
   "cell_type": "code",
   "execution_count": 63,
   "metadata": {},
   "outputs": [],
   "source": [
    "words = [re.findall(r'\"([^\"]*)\"',t[1]) for t in lda.print_topics()]"
   ]
  },
  {
   "cell_type": "code",
   "execution_count": 64,
   "metadata": {},
   "outputs": [],
   "source": [
    "topics = [' '.join(t[0:5]) for t in words]"
   ]
  },
  {
   "cell_type": "code",
   "execution_count": 65,
   "metadata": {},
   "outputs": [
    {
     "name": "stdout",
     "output_type": "stream",
     "text": [
      "------ Topic 0 ------\n",
      "elinor marianne sister time know\n",
      "\n",
      "\n",
      "------ Topic 1 ------\n",
      "night long like saw thought\n",
      "\n",
      "\n",
      "------ Topic 2 ------\n",
      "little bretton graham dr like\n",
      "\n",
      "\n",
      "------ Topic 3 ------\n",
      "madame beck little good old\n",
      "\n",
      "\n",
      "------ Topic 4 ------\n",
      "hunsden like know man st\n",
      "\n",
      "\n",
      "------ Topic 5 ------\n",
      "madame little night vous like\n",
      "\n",
      "\n",
      "------ Topic 6 ------\n",
      "room adele miss fairfax et\n",
      "\n",
      "\n",
      "------ Topic 7 ------\n",
      "elizabeth bennet darcy bingley jane\n",
      "\n",
      "\n",
      "------ Topic 8 ------\n",
      "jane sir night love thought\n",
      "\n",
      "\n",
      "------ Topic 9 ------\n",
      "emma miss harriet weston thing\n",
      "\n",
      "\n",
      "------ Topic 10 ------\n",
      "like little rochester room miss\n",
      "\n",
      "\n",
      "------ Topic 11 ------\n",
      "collins lady catherine elizabeth charlotte\n",
      "\n",
      "\n",
      "------ Topic 12 ------\n",
      "little monsieur like madame thought\n",
      "\n",
      "\n",
      "------ Topic 13 ------\n",
      "rochester sir voice think man\n",
      "\n",
      "\n",
      "------ Topic 14 ------\n",
      "mother edward shall mind crimsworth\n",
      "\n",
      "\n"
     ]
    }
   ],
   "source": [
    "for id, t in enumerate(topics): \n",
    "    print(f\"------ Topic {id} ------\")\n",
    "    print(t, end=\"\\n\")\n",
    "    print(\"\\n\")"
   ]
  },
  {
   "cell_type": "markdown",
   "metadata": {},
   "source": [
    "## Challenge \n",
    "\n",
    "You will apply an LDA model to a customer review dataset to practice the fitting and estimation of LDA. "
   ]
  },
  {
   "cell_type": "markdown",
   "metadata": {},
   "source": [
    "# Interpret LDA Results (Learn)\n",
    "<a id=\"#p3\"></a>"
   ]
  },
  {
   "cell_type": "markdown",
   "metadata": {},
   "source": [
    "## Overview"
   ]
  },
  {
   "cell_type": "markdown",
   "metadata": {
    "toc-hr-collapsed": true
   },
   "source": [
    "## Follow Along"
   ]
  },
  {
   "cell_type": "markdown",
   "metadata": {},
   "source": [
    "### Topic Distance Visualization"
   ]
  },
  {
   "cell_type": "code",
   "execution_count": 66,
   "metadata": {},
   "outputs": [
    {
     "name": "stderr",
     "output_type": "stream",
     "text": [
      "C:\\Users\\Samue\\Anaconda3\\envs\\DS-U4-S1-NLP\\lib\\site-packages\\past\\types\\oldstr.py:5: DeprecationWarning: Using or importing the ABCs from 'collections' instead of from 'collections.abc' is deprecated, and in 3.8 it will stop working\n",
      "  from collections import Iterable\n"
     ]
    }
   ],
   "source": [
    "import pyLDAvis.gensim\n",
    "\n",
    "pyLDAvis.enable_notebook()"
   ]
  },
  {
   "cell_type": "code",
   "execution_count": 67,
   "metadata": {},
   "outputs": [
    {
     "name": "stderr",
     "output_type": "stream",
     "text": [
      "C:\\Users\\Samue\\Anaconda3\\envs\\DS-U4-S1-NLP\\lib\\site-packages\\pyLDAvis\\_prepare.py:257: FutureWarning: Sorting because non-concatenation axis is not aligned. A future version\n",
      "of pandas will change to not sort by default.\n",
      "\n",
      "To accept the future behavior, pass 'sort=False'.\n",
      "\n",
      "To retain the current behavior and silence the warning, pass 'sort=True'.\n",
      "\n",
      "  return pd.concat([default_term_info] + list(topic_dfs))\n"
     ]
    },
    {
     "data": {
      "text/html": [
       "\n",
       "<link rel=\"stylesheet\" type=\"text/css\" href=\"https://cdn.rawgit.com/bmabey/pyLDAvis/files/ldavis.v1.0.0.css\">\n",
       "\n",
       "\n",
       "<div id=\"ldavis_el1814819322634055123447171227\"></div>\n",
       "<script type=\"text/javascript\">\n",
       "\n",
       "var ldavis_el1814819322634055123447171227_data = {\"mdsDat\": {\"x\": [-0.1087352598290167, -0.09395754890321016, 0.0469340916137419, 0.0462294485302175, -0.15416474428352797, 0.02730821553617802, 0.11869816427344095, 0.0006203002034387894, 0.05569590940181461, 0.04413972046566273, -0.0020846246147400572, -0.1475494478829727, 0.03532703289226234, 0.04151219644525447, 0.09002654615145615], \"y\": [0.04238470476389263, 0.03763727208752774, -0.021920236225002748, -0.008314319471982353, 0.015950948428555527, 0.01970055073849214, 0.03689596999957161, 0.046294845041303045, 0.005397369414117451, 0.042661015061935335, 0.05387636254548086, -0.09340502169149033, 0.00996269002602871, -0.15896083380031023, -0.028161316918119003], \"topics\": [1, 2, 3, 4, 5, 6, 7, 8, 9, 10, 11, 12, 13, 14, 15], \"cluster\": [1, 1, 1, 1, 1, 1, 1, 1, 1, 1, 1, 1, 1, 1, 1], \"Freq\": [20.400671005249023, 17.461811065673828, 15.201805114746094, 14.200014114379883, 8.076287269592285, 7.123754024505615, 5.9724297523498535, 5.622164726257324, 1.265498399734497, 1.1134998798370361, 0.8738725185394287, 0.8580323457717896, 0.8281749486923218, 0.7227576971054077, 0.2792222499847412]}, \"tinfo\": {\"Category\": [\"Default\", \"Default\", \"Default\", \"Default\", \"Default\", \"Default\", \"Default\", \"Default\", \"Default\", \"Default\", \"Default\", \"Default\", \"Default\", \"Default\", \"Default\", \"Default\", \"Default\", \"Default\", \"Default\", \"Default\", \"Default\", \"Default\", \"Default\", \"Default\", \"Default\", \"Default\", \"Default\", \"Default\", \"Default\", \"Default\", \"Topic1\", \"Topic1\", \"Topic1\", \"Topic1\", \"Topic1\", \"Topic1\", \"Topic1\", \"Topic1\", \"Topic1\", \"Topic1\", \"Topic1\", \"Topic1\", \"Topic1\", \"Topic1\", \"Topic1\", \"Topic1\", \"Topic1\", \"Topic1\", \"Topic1\", \"Topic1\", \"Topic1\", \"Topic1\", \"Topic1\", \"Topic1\", \"Topic1\", \"Topic1\", \"Topic1\", \"Topic1\", \"Topic1\", \"Topic1\", \"Topic1\", \"Topic1\", \"Topic1\", \"Topic1\", \"Topic1\", \"Topic1\", \"Topic1\", \"Topic1\", \"Topic1\", \"Topic1\", \"Topic1\", \"Topic1\", \"Topic1\", \"Topic1\", \"Topic1\", \"Topic1\", \"Topic1\", \"Topic1\", \"Topic1\", \"Topic1\", \"Topic1\", \"Topic1\", \"Topic1\", \"Topic1\", \"Topic1\", \"Topic1\", \"Topic1\", \"Topic1\", \"Topic1\", \"Topic1\", \"Topic1\", \"Topic1\", \"Topic1\", \"Topic1\", \"Topic1\", \"Topic1\", \"Topic2\", \"Topic2\", \"Topic2\", \"Topic2\", \"Topic2\", \"Topic2\", \"Topic2\", \"Topic2\", \"Topic2\", \"Topic2\", \"Topic2\", \"Topic2\", \"Topic2\", \"Topic2\", \"Topic2\", \"Topic2\", \"Topic2\", \"Topic2\", \"Topic2\", \"Topic2\", \"Topic2\", \"Topic2\", \"Topic2\", \"Topic2\", \"Topic2\", \"Topic2\", \"Topic2\", \"Topic2\", \"Topic2\", \"Topic2\", \"Topic2\", \"Topic2\", \"Topic2\", \"Topic2\", \"Topic2\", \"Topic2\", \"Topic2\", \"Topic2\", \"Topic2\", \"Topic2\", \"Topic2\", \"Topic2\", \"Topic2\", \"Topic2\", \"Topic2\", \"Topic2\", \"Topic2\", \"Topic2\", \"Topic2\", \"Topic2\", \"Topic2\", \"Topic2\", \"Topic2\", \"Topic2\", \"Topic2\", \"Topic3\", \"Topic3\", \"Topic3\", \"Topic3\", \"Topic3\", \"Topic3\", \"Topic3\", \"Topic3\", \"Topic3\", \"Topic3\", \"Topic3\", \"Topic3\", \"Topic3\", \"Topic3\", \"Topic3\", \"Topic3\", \"Topic3\", \"Topic3\", \"Topic3\", \"Topic3\", \"Topic3\", \"Topic3\", \"Topic3\", \"Topic3\", \"Topic3\", \"Topic3\", \"Topic3\", \"Topic3\", \"Topic3\", \"Topic3\", \"Topic3\", \"Topic3\", \"Topic3\", \"Topic3\", \"Topic3\", \"Topic3\", \"Topic3\", \"Topic3\", \"Topic3\", \"Topic3\", \"Topic3\", \"Topic3\", \"Topic3\", \"Topic3\", \"Topic3\", \"Topic3\", \"Topic3\", \"Topic3\", \"Topic3\", \"Topic3\", \"Topic3\", \"Topic3\", \"Topic3\", \"Topic3\", \"Topic3\", \"Topic3\", \"Topic3\", \"Topic3\", \"Topic3\", \"Topic3\", \"Topic3\", \"Topic3\", \"Topic3\", \"Topic3\", \"Topic3\", \"Topic3\", \"Topic3\", \"Topic4\", \"Topic4\", \"Topic4\", \"Topic4\", \"Topic4\", \"Topic4\", \"Topic4\", \"Topic4\", \"Topic4\", \"Topic4\", \"Topic4\", \"Topic4\", \"Topic4\", \"Topic4\", \"Topic4\", \"Topic4\", \"Topic4\", \"Topic4\", \"Topic4\", \"Topic4\", \"Topic4\", \"Topic4\", \"Topic4\", \"Topic4\", \"Topic4\", \"Topic4\", \"Topic4\", \"Topic4\", \"Topic4\", \"Topic4\", \"Topic4\", \"Topic4\", \"Topic4\", \"Topic4\", \"Topic4\", \"Topic4\", \"Topic4\", \"Topic4\", \"Topic4\", \"Topic4\", \"Topic4\", \"Topic4\", \"Topic4\", \"Topic4\", \"Topic4\", \"Topic4\", \"Topic4\", \"Topic4\", \"Topic4\", \"Topic4\", \"Topic4\", \"Topic4\", \"Topic4\", \"Topic4\", \"Topic4\", \"Topic4\", \"Topic4\", \"Topic4\", \"Topic4\", \"Topic4\", \"Topic4\", \"Topic4\", \"Topic4\", \"Topic4\", \"Topic4\", \"Topic4\", \"Topic4\", \"Topic4\", \"Topic4\", \"Topic4\", \"Topic4\", \"Topic5\", \"Topic5\", \"Topic5\", \"Topic5\", \"Topic5\", \"Topic5\", \"Topic5\", \"Topic5\", \"Topic5\", \"Topic5\", \"Topic5\", \"Topic5\", \"Topic5\", \"Topic5\", \"Topic5\", \"Topic5\", \"Topic5\", \"Topic5\", \"Topic5\", \"Topic5\", \"Topic5\", \"Topic5\", \"Topic5\", \"Topic5\", \"Topic5\", \"Topic5\", \"Topic5\", \"Topic5\", \"Topic5\", \"Topic5\", \"Topic5\", \"Topic5\", \"Topic5\", \"Topic5\", \"Topic5\", \"Topic5\", \"Topic5\", \"Topic5\", \"Topic5\", \"Topic5\", \"Topic5\", \"Topic5\", \"Topic5\", \"Topic5\", \"Topic5\", \"Topic5\", \"Topic5\", \"Topic5\", \"Topic5\", \"Topic5\", \"Topic5\", \"Topic5\", \"Topic5\", \"Topic5\", \"Topic5\", \"Topic6\", \"Topic6\", \"Topic6\", \"Topic6\", \"Topic6\", \"Topic6\", \"Topic6\", \"Topic6\", \"Topic6\", \"Topic6\", \"Topic6\", \"Topic6\", \"Topic6\", \"Topic6\", \"Topic6\", \"Topic6\", \"Topic6\", \"Topic6\", \"Topic6\", \"Topic6\", \"Topic6\", \"Topic6\", \"Topic6\", \"Topic6\", \"Topic6\", \"Topic6\", \"Topic6\", \"Topic6\", \"Topic6\", \"Topic6\", \"Topic6\", \"Topic6\", \"Topic6\", \"Topic6\", \"Topic6\", \"Topic6\", \"Topic6\", \"Topic6\", \"Topic6\", \"Topic6\", \"Topic6\", \"Topic6\", \"Topic6\", \"Topic6\", \"Topic6\", \"Topic6\", \"Topic6\", \"Topic6\", \"Topic6\", \"Topic6\", \"Topic6\", \"Topic6\", \"Topic6\", \"Topic6\", \"Topic6\", \"Topic6\", \"Topic6\", \"Topic6\", \"Topic6\", \"Topic6\", \"Topic7\", \"Topic7\", \"Topic7\", \"Topic7\", \"Topic7\", \"Topic7\", \"Topic7\", \"Topic7\", \"Topic7\", \"Topic7\", \"Topic7\", \"Topic7\", \"Topic7\", \"Topic7\", \"Topic7\", \"Topic7\", \"Topic7\", \"Topic7\", \"Topic7\", \"Topic7\", \"Topic7\", \"Topic7\", \"Topic7\", \"Topic7\", \"Topic7\", \"Topic7\", \"Topic7\", \"Topic7\", \"Topic7\", \"Topic7\", \"Topic7\", \"Topic7\", \"Topic7\", \"Topic7\", \"Topic7\", \"Topic7\", \"Topic7\", \"Topic7\", \"Topic7\", \"Topic7\", \"Topic7\", \"Topic7\", \"Topic7\", \"Topic7\", \"Topic7\", \"Topic7\", \"Topic7\", \"Topic7\", \"Topic7\", \"Topic7\", \"Topic7\", \"Topic7\", \"Topic7\", \"Topic7\", \"Topic7\", \"Topic7\", \"Topic7\", \"Topic7\", \"Topic7\", \"Topic7\", \"Topic7\", \"Topic7\", \"Topic7\", \"Topic7\", \"Topic7\", \"Topic7\", \"Topic7\", \"Topic7\", \"Topic7\", \"Topic7\", \"Topic7\", \"Topic7\", \"Topic8\", \"Topic8\", \"Topic8\", \"Topic8\", \"Topic8\", \"Topic8\", \"Topic8\", \"Topic8\", \"Topic8\", \"Topic8\", \"Topic8\", \"Topic8\", \"Topic8\", \"Topic8\", \"Topic8\", \"Topic8\", \"Topic8\", \"Topic8\", \"Topic8\", \"Topic8\", \"Topic8\", \"Topic8\", \"Topic8\", \"Topic8\", \"Topic8\", \"Topic8\", \"Topic8\", \"Topic8\", \"Topic8\", \"Topic8\", \"Topic8\", \"Topic8\", \"Topic8\", \"Topic8\", \"Topic8\", \"Topic8\", \"Topic8\", \"Topic8\", \"Topic8\", \"Topic8\", \"Topic8\", \"Topic8\", \"Topic8\", \"Topic8\", \"Topic8\", \"Topic8\", \"Topic8\", \"Topic8\", \"Topic8\", \"Topic8\", \"Topic8\", \"Topic8\", \"Topic8\", \"Topic8\", \"Topic8\", \"Topic8\", \"Topic8\", \"Topic8\", \"Topic8\", \"Topic8\", \"Topic8\", \"Topic8\", \"Topic8\", \"Topic9\", \"Topic9\", \"Topic9\", \"Topic9\", \"Topic9\", \"Topic9\", \"Topic9\", \"Topic9\", \"Topic9\", \"Topic9\", \"Topic9\", \"Topic9\", \"Topic9\", \"Topic9\", \"Topic9\", \"Topic9\", \"Topic9\", \"Topic9\", \"Topic9\", \"Topic9\", \"Topic9\", \"Topic9\", \"Topic9\", \"Topic9\", \"Topic9\", \"Topic9\", \"Topic9\", \"Topic9\", \"Topic9\", \"Topic9\", \"Topic9\", \"Topic9\", \"Topic9\", \"Topic9\", \"Topic9\", \"Topic9\", \"Topic9\", \"Topic9\", \"Topic9\", \"Topic9\", \"Topic9\", \"Topic9\", \"Topic9\", \"Topic9\", \"Topic9\", \"Topic9\", \"Topic9\", \"Topic9\", \"Topic9\", \"Topic9\", \"Topic9\", \"Topic9\", \"Topic9\", \"Topic9\", \"Topic9\", \"Topic9\", \"Topic9\", \"Topic9\", \"Topic9\", \"Topic9\", \"Topic9\", \"Topic9\", \"Topic9\", \"Topic9\", \"Topic9\", \"Topic9\", \"Topic10\", \"Topic10\", \"Topic10\", \"Topic10\", \"Topic10\", \"Topic10\", \"Topic10\", \"Topic10\", \"Topic10\", \"Topic10\", \"Topic10\", \"Topic10\", \"Topic10\", \"Topic10\", \"Topic10\", \"Topic10\", \"Topic10\", \"Topic10\", \"Topic10\", \"Topic10\", \"Topic10\", \"Topic10\", \"Topic10\", \"Topic10\", \"Topic10\", \"Topic10\", \"Topic10\", \"Topic10\", \"Topic10\", \"Topic10\", \"Topic10\", \"Topic10\", \"Topic10\", \"Topic10\", \"Topic10\", \"Topic10\", \"Topic10\", \"Topic10\", \"Topic10\", \"Topic10\", \"Topic10\", \"Topic10\", \"Topic10\", \"Topic10\", \"Topic10\", \"Topic10\", \"Topic10\", \"Topic10\", \"Topic10\", \"Topic10\", \"Topic10\", \"Topic10\", \"Topic10\", \"Topic10\", \"Topic10\", \"Topic10\", \"Topic10\", \"Topic10\", \"Topic10\", \"Topic10\", \"Topic10\", \"Topic10\", \"Topic10\", \"Topic10\", \"Topic10\", \"Topic10\", \"Topic10\", \"Topic10\", \"Topic10\", \"Topic10\", \"Topic11\", \"Topic11\", \"Topic11\", \"Topic11\", \"Topic11\", \"Topic11\", \"Topic11\", \"Topic11\", \"Topic11\", \"Topic11\", \"Topic11\", \"Topic11\", \"Topic11\", \"Topic11\", \"Topic11\", \"Topic11\", \"Topic11\", \"Topic11\", \"Topic11\", \"Topic11\", \"Topic11\", \"Topic11\", \"Topic11\", \"Topic11\", \"Topic11\", \"Topic11\", \"Topic11\", \"Topic11\", \"Topic11\", \"Topic11\", \"Topic11\", \"Topic11\", \"Topic11\", \"Topic11\", \"Topic11\", \"Topic11\", \"Topic11\", \"Topic11\", \"Topic11\", \"Topic11\", \"Topic11\", \"Topic11\", \"Topic11\", \"Topic11\", \"Topic11\", \"Topic11\", \"Topic11\", \"Topic11\", \"Topic11\", \"Topic11\", \"Topic11\", \"Topic11\", \"Topic11\", \"Topic11\", \"Topic11\", \"Topic11\", \"Topic11\", \"Topic11\", \"Topic11\", \"Topic11\", \"Topic11\", \"Topic11\", \"Topic11\", \"Topic11\", \"Topic11\", \"Topic11\", \"Topic11\", \"Topic11\", \"Topic12\", \"Topic12\", \"Topic12\", \"Topic12\", \"Topic12\", \"Topic12\", \"Topic12\", \"Topic12\", \"Topic12\", \"Topic12\", \"Topic12\", \"Topic12\", \"Topic12\", \"Topic12\", \"Topic12\", \"Topic12\", \"Topic12\", \"Topic12\", \"Topic12\", \"Topic12\", \"Topic12\", \"Topic12\", \"Topic12\", \"Topic12\", \"Topic12\", \"Topic12\", \"Topic12\", \"Topic12\", \"Topic12\", \"Topic12\", \"Topic12\", \"Topic12\", \"Topic12\", \"Topic12\", \"Topic12\", \"Topic12\", \"Topic12\", \"Topic12\", \"Topic12\", \"Topic12\", \"Topic12\", \"Topic12\", \"Topic12\", \"Topic12\", \"Topic12\", \"Topic12\", \"Topic12\", \"Topic12\", \"Topic12\", \"Topic12\", \"Topic12\", \"Topic12\", \"Topic12\", \"Topic12\", \"Topic12\", \"Topic12\", \"Topic13\", \"Topic13\", \"Topic13\", \"Topic13\", \"Topic13\", \"Topic13\", \"Topic13\", \"Topic13\", \"Topic13\", \"Topic13\", \"Topic13\", \"Topic13\", \"Topic13\", \"Topic13\", \"Topic13\", \"Topic13\", \"Topic13\", \"Topic13\", \"Topic13\", \"Topic13\", \"Topic13\", \"Topic13\", \"Topic13\", \"Topic13\", \"Topic13\", \"Topic13\", \"Topic13\", \"Topic13\", \"Topic13\", \"Topic13\", \"Topic13\", \"Topic13\", \"Topic13\", \"Topic13\", \"Topic13\", \"Topic13\", \"Topic13\", \"Topic13\", \"Topic13\", \"Topic13\", \"Topic13\", \"Topic13\", \"Topic13\", \"Topic13\", \"Topic13\", \"Topic13\", \"Topic13\", \"Topic13\", \"Topic13\", \"Topic13\", \"Topic13\", \"Topic13\", \"Topic13\", \"Topic13\", \"Topic13\", \"Topic13\", \"Topic13\", \"Topic13\", \"Topic13\", \"Topic13\", \"Topic13\", \"Topic13\", \"Topic13\", \"Topic13\", \"Topic13\", \"Topic13\", \"Topic13\", \"Topic14\", \"Topic14\", \"Topic14\", \"Topic14\", \"Topic14\", \"Topic14\", \"Topic14\", \"Topic14\", \"Topic14\", \"Topic14\", \"Topic14\", \"Topic14\", \"Topic14\", \"Topic14\", \"Topic14\", \"Topic14\", \"Topic14\", \"Topic14\", \"Topic14\", \"Topic14\", \"Topic14\", \"Topic14\", \"Topic14\", \"Topic14\", \"Topic14\", \"Topic14\", \"Topic14\", \"Topic14\", \"Topic14\", \"Topic14\", \"Topic14\", \"Topic14\", \"Topic14\", \"Topic14\", \"Topic14\", \"Topic14\", \"Topic14\", \"Topic14\", \"Topic14\", \"Topic14\", \"Topic14\", \"Topic14\", \"Topic14\", \"Topic14\", \"Topic14\", \"Topic14\", \"Topic14\", \"Topic14\", \"Topic14\", \"Topic14\", \"Topic14\", \"Topic14\", \"Topic14\", \"Topic14\", \"Topic14\", \"Topic15\", \"Topic15\", \"Topic15\", \"Topic15\", \"Topic15\", \"Topic15\", \"Topic15\", \"Topic15\", \"Topic15\", \"Topic15\", \"Topic15\", \"Topic15\", \"Topic15\", \"Topic15\", \"Topic15\", \"Topic15\", \"Topic15\", \"Topic15\", \"Topic15\", \"Topic15\", \"Topic15\", \"Topic15\", \"Topic15\", \"Topic15\", \"Topic15\", \"Topic15\", \"Topic15\", \"Topic15\", \"Topic15\", \"Topic15\", \"Topic15\", \"Topic15\", \"Topic15\", \"Topic15\", \"Topic15\", \"Topic15\", \"Topic15\", \"Topic15\", \"Topic15\", \"Topic15\", \"Topic15\", \"Topic15\", \"Topic15\", \"Topic15\", \"Topic15\", \"Topic15\", \"Topic15\", \"Topic15\", \"Topic15\", \"Topic15\", \"Topic15\", \"Topic15\", \"Topic15\", \"Topic15\", \"Topic15\", \"Topic15\", \"Topic15\", \"Topic15\", \"Topic15\", \"Topic15\", \"Topic15\", \"Topic15\", \"Topic15\", \"Topic15\", \"Topic15\", \"Topic15\", \"Topic15\", \"Topic15\", \"Topic15\", \"Topic15\"], \"Freq\": [676.0, 1740.0, 1561.0, 884.0, 396.0, 620.0, 969.0, 1347.0, 898.0, 601.0, 1149.0, 1447.0, 627.0, 652.0, 1323.0, 1370.0, 1070.0, 379.0, 1322.0, 362.0, 433.0, 347.0, 935.0, 913.0, 539.0, 328.0, 833.0, 185.0, 844.0, 587.0, 204.04811096191406, 644.6456298828125, 532.5398559570312, 136.10218811035156, 216.80955505371094, 96.33301544189453, 72.86168670654297, 84.02894592285156, 121.72689819335938, 233.4421844482422, 45.11341857910156, 49.533973693847656, 33.95800018310547, 35.42058181762695, 19.290130615234375, 250.32559204101562, 31.428625106811523, 21.61695671081543, 86.5710220336914, 228.10194396972656, 17.552183151245117, 62.437469482421875, 17.18806266784668, 19.306419372558594, 27.102293014526367, 19.245349884033203, 17.7856502532959, 24.07745933532715, 20.329238891601562, 14.274794578552246, 22.386171340942383, 382.7341613769531, 97.29720306396484, 37.04514694213867, 39.91258239746094, 29.053510665893555, 136.2703857421875, 44.17095947265625, 285.8424072265625, 119.38790130615234, 166.98269653320312, 66.81041717529297, 176.36549377441406, 146.34909057617188, 155.48641967773438, 124.48980712890625, 280.7984619140625, 346.0425109863281, 312.9496154785156, 197.16932678222656, 324.21600341796875, 146.66856384277344, 211.78720092773438, 212.20469665527344, 270.5226745605469, 189.38198852539062, 238.95672607421875, 169.43540954589844, 202.05149841308594, 172.59559631347656, 222.66677856445312, 186.47549438476562, 183.41226196289062, 160.6808319091797, 172.356201171875, 158.15560913085938, 152.43960571289062, 387.9343566894531, 62.09101867675781, 441.6007080078125, 313.8541564941406, 858.3291015625, 222.95603942871094, 51.46483612060547, 80.14918518066406, 384.9650573730469, 157.98301696777344, 88.97816467285156, 58.47642517089844, 48.70336151123047, 36.995174407958984, 122.18598937988281, 31.69618034362793, 35.52461624145508, 67.0252685546875, 30.12093734741211, 483.4845886230469, 214.73910522460938, 76.6634292602539, 26.4722843170166, 89.59961700439453, 31.334423065185547, 24.31631088256836, 27.99957275390625, 20.685747146606445, 16.691373825073242, 23.115699768066406, 195.07940673828125, 248.5742950439453, 68.57131958007812, 398.045654296875, 643.3070678710938, 239.85299682617188, 309.2300720214844, 371.05377197265625, 198.3738555908203, 259.8467102050781, 346.6555480957031, 340.64178466796875, 198.5691375732422, 352.2657470703125, 203.28208923339844, 170.3302764892578, 253.2119903564453, 215.12149047851562, 211.4427032470703, 185.5858917236328, 203.32127380371094, 214.7877655029297, 199.16033935546875, 175.76171875, 78.10501861572266, 111.66322326660156, 107.5574722290039, 37.36961364746094, 45.55851364135742, 52.631370544433594, 26.752426147460938, 139.78515625, 33.90996170043945, 21.70380210876465, 57.408199310302734, 249.28671264648438, 94.51165771484375, 44.669498443603516, 155.72842407226562, 90.7935562133789, 39.9567756652832, 57.34614181518555, 27.54502296447754, 96.8313980102539, 39.84175109863281, 30.835691452026367, 55.67611312866211, 90.15409851074219, 26.837488174438477, 24.76570701599121, 36.00908279418945, 48.28435516357422, 23.74471664428711, 19.042238235473633, 48.98576354980469, 59.461219787597656, 44.951263427734375, 236.85792541503906, 143.9636688232422, 79.56133270263672, 57.24602127075195, 46.751834869384766, 64.66439056396484, 67.2355728149414, 65.24005889892578, 55.76632308959961, 115.07508087158203, 83.4905776977539, 342.2823486328125, 172.646728515625, 248.46791076660156, 83.46512603759766, 200.65020751953125, 151.85894775390625, 197.05430603027344, 179.5005340576172, 130.3891143798828, 114.04987335205078, 135.60116577148438, 170.14295959472656, 124.61613464355469, 127.75923919677734, 161.5274658203125, 111.59607696533203, 110.10417938232422, 118.25820922851562, 123.01520538330078, 110.21498107910156, 106.72763061523438, 107.57991027832031, 103.86372375488281, 129.35421752929688, 126.0459976196289, 39.530704498291016, 49.37810516357422, 26.11648941040039, 64.32814025878906, 52.4193000793457, 80.12960815429688, 22.16340446472168, 69.91131591796875, 273.5111083984375, 22.489286422729492, 40.07429122924805, 16.240612030029297, 27.799583435058594, 68.9847183227539, 33.32670593261719, 14.618890762329102, 30.813220977783203, 42.02470397949219, 32.91023254394531, 33.70157241821289, 17.624526977539062, 23.184019088745117, 17.88560676574707, 19.305295944213867, 18.66116714477539, 16.124177932739258, 80.84601593017578, 16.11250877380371, 35.27365493774414, 100.44829559326172, 112.23668670654297, 35.123138427734375, 27.12070655822754, 59.26922607421875, 38.57901382446289, 51.462406158447266, 71.77439880371094, 83.715576171875, 192.85157775878906, 271.4874267578125, 305.54473876953125, 179.91873168945312, 152.33023071289062, 169.9102325439453, 130.16615295410156, 111.40076446533203, 182.1858367919922, 80.20127868652344, 162.30624389648438, 158.78555297851562, 284.3529052734375, 86.04861450195312, 174.99008178710938, 233.4811553955078, 152.06800842285156, 106.61884307861328, 167.47256469726562, 143.195068359375, 162.27342224121094, 122.28155517578125, 159.9923858642578, 169.0696258544922, 169.88265991210938, 157.65272521972656, 138.46588134765625, 126.75592041015625, 140.9446563720703, 122.31800079345703, 131.49122619628906, 330.948974609375, 307.5843200683594, 74.95673370361328, 97.7601547241211, 70.79269409179688, 55.867218017578125, 82.94953155517578, 67.69813537597656, 33.84695816040039, 35.27470016479492, 151.5921173095703, 28.32360076904297, 509.11102294921875, 21.0926456451416, 311.9942932128906, 119.13970947265625, 26.124929428100586, 38.121551513671875, 105.41895294189453, 21.707948684692383, 13.795770645141602, 51.1792106628418, 59.92545700073242, 11.938529014587402, 10.716301918029785, 21.850147247314453, 23.682571411132812, 11.656139373779297, 16.69723892211914, 16.781248092651367, 44.34967803955078, 68.04399108886719, 35.13127899169922, 273.8790588378906, 33.5424690246582, 93.67771911621094, 122.57736206054688, 118.41512298583984, 193.8694610595703, 105.6983642578125, 126.6508560180664, 145.6097869873047, 88.81387329101562, 145.5692596435547, 112.1854248046875, 125.97028350830078, 105.2398681640625, 103.34163665771484, 89.04812622070312, 108.49534606933594, 110.45198059082031, 83.9011001586914, 82.13533020019531, 86.11841583251953, 79.2573471069336, 75.16928100585938, 204.16079711914062, 212.61305236816406, 61.79475402832031, 65.19773864746094, 45.494590759277344, 126.26790618896484, 158.13662719726562, 19.240861892700195, 39.09519958496094, 46.782440185546875, 15.747953414916992, 55.78483963012695, 23.487821578979492, 12.13801097869873, 148.21023559570312, 22.264965057373047, 27.46138572692871, 13.801466941833496, 7.86105489730835, 18.062131881713867, 8.853141784667969, 7.777100086212158, 8.863032341003418, 6.820819854736328, 9.79741096496582, 7.944985866546631, 11.03177261352539, 6.608345985412598, 9.107741355895996, 9.169442176818848, 13.462224006652832, 45.796142578125, 66.78703308105469, 27.77000617980957, 41.55702590942383, 107.5739517211914, 30.055938720703125, 230.22239685058594, 82.58312225341797, 63.37108612060547, 148.8069305419922, 126.56121063232422, 132.73484802246094, 109.60113525390625, 119.50757598876953, 45.0928840637207, 76.11772155761719, 74.42272186279297, 72.95777893066406, 63.0853271484375, 65.77989959716797, 62.998374938964844, 97.00310516357422, 80.15245056152344, 72.93833923339844, 74.36412048339844, 70.91261291503906, 66.11962890625, 66.79135131835938, 20.716585159301758, 20.391677856445312, 23.614320755004883, 18.90070343017578, 28.654460906982422, 27.042444229125977, 23.366825103759766, 12.732096672058105, 25.84383773803711, 12.07189655303955, 21.05200958251953, 36.92937469482422, 14.352093696594238, 12.102999687194824, 11.83828067779541, 10.900348663330078, 12.350506782531738, 16.02667808532715, 12.17883586883545, 11.707300186157227, 17.14266014099121, 22.855335235595703, 11.847564697265625, 45.65500259399414, 10.759108543395996, 10.39184856414795, 10.240720748901367, 31.890056610107422, 14.248798370361328, 10.396147727966309, 22.000600814819336, 37.328338623046875, 22.420141220092773, 22.907791137695312, 20.023149490356445, 54.83280944824219, 26.669998168945312, 64.20380401611328, 139.7835235595703, 35.26953125, 35.73032760620117, 22.2194881439209, 65.54806518554688, 41.315799713134766, 124.1774673461914, 50.551734924316406, 51.06433868408203, 97.33815002441406, 87.06278991699219, 78.07785034179688, 78.43344116210938, 110.22575378417969, 72.04278564453125, 97.19083404541016, 85.7581787109375, 70.89756774902344, 65.74192810058594, 65.29192352294922, 58.97687530517578, 58.34142303466797, 70.23775482177734, 56.68522262573242, 61.81260299682617, 49.65380096435547, 42.92631149291992, 52.50315856933594, 65.86902618408203, 55.51976013183594, 50.156585693359375, 58.242855072021484, 48.386714935302734, 49.54023361206055, 127.96231079101562, 60.667598724365234, 47.42036437988281, 59.14280319213867, 23.291439056396484, 15.814159393310547, 20.731496810913086, 12.833667755126953, 94.41516876220703, 11.19143295288086, 22.33891487121582, 13.064072608947754, 11.669178009033203, 17.752534866333008, 14.33334732055664, 8.88890266418457, 9.010518074035645, 13.060942649841309, 7.8610687255859375, 8.992330551147461, 10.129241943359375, 40.13348388671875, 6.97740364074707, 44.1743278503418, 6.453197479248047, 28.557292938232422, 6.429703712463379, 13.112420082092285, 33.107662200927734, 8.74710464477539, 11.622211456298828, 13.530417442321777, 14.665621757507324, 16.655412673950195, 87.36276245117188, 87.92252349853516, 24.22864532470703, 29.118234634399414, 40.91501998901367, 124.97942352294922, 95.20364379882812, 37.83122634887695, 122.51994323730469, 80.94380950927734, 41.3984260559082, 47.967220306396484, 73.93140411376953, 88.11344909667969, 40.150455474853516, 33.53147888183594, 53.067291259765625, 71.50614166259766, 65.49384307861328, 48.83796310424805, 57.70464324951172, 59.19241714477539, 48.05255889892578, 43.82501220703125, 60.113121032714844, 55.26607894897461, 52.174564361572266, 43.02933120727539, 41.3017692565918, 18.8756160736084, 9.696123123168945, 7.220616340637207, 34.77736282348633, 85.81544494628906, 4.184331893920898, 4.8576555252075195, 4.962631702423096, 5.056307792663574, 4.6074018478393555, 4.852309226989746, 3.848127603530884, 17.32694435119629, 6.663246154785156, 2.9805169105529785, 2.925421714782715, 3.5181281566619873, 2.49080228805542, 6.0056071281433105, 3.892930507659912, 3.9985506534576416, 2.3018906116485596, 2.6695899963378906, 6.052772045135498, 2.6020703315734863, 2.999462366104126, 3.2199387550354004, 3.9386355876922607, 4.712708950042725, 5.366464614868164, 4.240936279296875, 8.668951988220215, 4.941406726837158, 23.945528030395508, 6.2985920906066895, 9.383003234863281, 7.809078693389893, 9.538339614868164, 19.242551803588867, 10.144899368286133, 9.85892105102539, 11.272059440612793, 25.859413146972656, 10.311010360717773, 26.07723045349121, 19.19390869140625, 14.665494918823242, 18.347564697265625, 14.01303482055664, 16.68795394897461, 16.490205764770508, 10.782892227172852, 9.305741310119629, 10.546480178833008, 12.148712158203125, 11.759428024291992, 13.318537712097168, 10.073864936828613, 11.323238372802734, 9.779024124145508, 10.630573272705078, 10.771595001220703, 10.046875953674316, 10.156582832336426, 9.949443817138672, 9.887248992919922, 5.512795448303223, 4.220250129699707, 6.767345428466797, 3.796095132827759, 3.5261378288269043, 3.1229310035705566, 5.162938117980957, 3.2655913829803467, 4.257818222045898, 2.600830554962158, 3.5329647064208984, 3.4386212825775146, 2.4827136993408203, 3.034389019012451, 3.8876307010650635, 3.7540242671966553, 2.4665122032165527, 2.3252594470977783, 1.9239026308059692, 2.103653907775879, 3.3914263248443604, 4.741991996765137, 2.3868682384490967, 2.9148201942443848, 2.566152334213257, 1.779405117034912, 3.1741998195648193, 3.4863052368164062, 5.556288719177246, 2.712641954421997, 6.163323402404785, 34.64509201049805, 5.8166937828063965, 4.839171886444092, 36.47250747680664, 24.515668869018555, 25.090049743652344, 6.48405647277832, 23.23591423034668, 7.32059907913208, 7.75237512588501, 13.1961030960083, 11.662016868591309, 23.754207611083984, 7.088456153869629, 9.835497856140137, 15.939936637878418, 10.121846199035645, 12.425729751586914, 19.092010498046875, 11.662681579589844, 19.178937911987305, 12.019006729125977, 9.25329875946045, 16.306081771850586, 14.81889533996582, 14.671831130981445, 12.150812149047852, 11.203022003173828, 12.064369201660156, 8.739813804626465, 8.452838897705078, 11.53946304321289, 10.30274486541748, 12.230138778686523, 10.280485153198242, 9.98454475402832, 9.210923194885254, 9.820503234863281, 9.418191909790039, 13.996423721313477, 3.1169345378875732, 7.781635761260986, 3.536343812942505, 3.4240334033966064, 3.473090410232544, 7.042150497436523, 3.1876299381256104, 2.398963212966919, 4.082446098327637, 5.581160068511963, 2.476033926010132, 2.5311777591705322, 3.143045425415039, 2.7773947715759277, 1.6781620979309082, 2.358891010284424, 3.4829940795898438, 1.687628149986267, 2.5050487518310547, 1.6475948095321655, 2.585052251815796, 1.6790298223495483, 1.7220631837844849, 1.6443854570388794, 2.918886184692383, 3.1384103298187256, 1.7666736841201782, 1.6719096899032593, 2.692713499069214, 4.269815444946289, 16.638647079467773, 4.004234313964844, 3.283859968185425, 4.526555061340332, 4.571877479553223, 5.63474178314209, 4.962059497833252, 8.051822662353516, 7.826970100402832, 17.325458526611328, 14.850053787231445, 6.0578131675720215, 5.081170082092285, 13.221540451049805, 16.349708557128906, 4.510138511657715, 11.006021499633789, 8.793396949768066, 11.146516799926758, 10.569197654724121, 9.667509078979492, 13.96924877166748, 11.077193260192871, 12.924230575561523, 12.52044677734375, 7.538718223571777, 12.2615966796875, 9.300561904907227, 7.554755210876465, 8.436763763427734, 10.26004409790039, 10.455449104309082, 9.187983512878418, 7.968599319458008, 8.263692855834961, 7.99098539352417, 7.180126190185547, 26.23674201965332, 15.78288745880127, 20.482336044311523, 46.50212478637695, 55.439781188964844, 33.06560134887695, 18.023666381835938, 6.536128520965576, 6.812458038330078, 4.263983249664307, 7.3496527671813965, 2.797306537628174, 2.4785611629486084, 6.86647891998291, 3.893146514892578, 4.992992401123047, 4.563665390014648, 3.2119710445404053, 8.751407623291016, 1.9685962200164795, 2.552361488342285, 2.279557704925537, 2.08013653755188, 2.1538097858428955, 1.8830149173736572, 2.546198844909668, 4.781702041625977, 2.820697546005249, 2.462100028991699, 51.87126159667969, 42.330413818359375, 3.9479854106903076, 7.418848514556885, 4.018753528594971, 10.666078567504883, 14.448734283447266, 3.392113208770752, 21.32728385925293, 6.964132785797119, 6.0185866355896, 10.05250072479248, 9.027396202087402, 15.250000953674316, 18.127239227294922, 6.954722881317139, 11.451969146728516, 10.832075119018555, 8.63533878326416, 11.101435661315918, 10.282511711120605, 11.544794082641602, 7.1334967613220215, 8.134296417236328, 7.116770267486572, 7.188316345214844, 7.112086296081543, 2.6787068843841553, 4.423534870147705, 4.159185886383057, 3.3961784839630127, 3.3362960815429688, 2.8354907035827637, 2.21321964263916, 2.3054893016815186, 2.750622034072876, 5.189260959625244, 2.2656242847442627, 4.124205589294434, 1.9359289407730103, 1.6970795392990112, 4.60543966293335, 2.849297046661377, 2.904649257659912, 2.1591384410858154, 1.708550214767456, 2.4583899974823, 2.5393829345703125, 3.3829405307769775, 1.7097222805023193, 1.5993266105651855, 3.27841854095459, 3.494260549545288, 3.981560230255127, 3.223989486694336, 4.309995651245117, 1.7044565677642822, 22.004657745361328, 3.6081478595733643, 6.796507358551025, 9.30652141571045, 20.37742042541504, 14.906155586242676, 4.825629234313965, 13.330474853515625, 6.901279926300049, 8.995734214782715, 12.63248348236084, 4.449396133422852, 13.710633277893066, 8.951905250549316, 7.428338050842285, 14.279354095458984, 5.092685222625732, 12.851686477661133, 9.756969451904297, 13.435100555419922, 9.637090682983398, 8.842355728149414, 6.503039360046387, 8.530803680419922, 10.648831367492676, 9.784502029418945, 11.087370872497559, 6.024197101593018, 6.9437456130981445, 9.005949974060059, 8.125504493713379, 6.279215335845947, 9.178108215332031, 7.379499912261963, 7.182837963104248, 7.002910614013672, 6.659111022949219, 8.632475852966309, 6.389981269836426, 16.80425453186035, 4.276224136352539, 10.002531051635742, 6.711650848388672, 21.219247817993164, 10.761143684387207, 4.1491522789001465, 9.150874137878418, 16.484416961669922, 4.254396438598633, 5.722438335418701, 7.672257900238037, 4.6885480880737305, 3.5423924922943115, 2.953873634338379, 2.6450271606445312, 2.41520619392395, 2.799649238586426, 3.3960232734680176, 5.383667469024658, 4.685558319091797, 3.14852237701416, 2.1457388401031494, 2.262599229812622, 3.9837048053741455, 3.3792214393615723, 2.4092280864715576, 2.967644214630127, 14.800909996032715, 7.380640506744385, 7.242133617401123, 5.42211389541626, 8.614928245544434, 17.64284896850586, 6.787008285522461, 6.883237838745117, 7.428956985473633, 6.372660160064697, 21.600616455078125, 18.515758514404297, 5.785494327545166, 11.568140983581543, 11.8428373336792, 9.296858787536621, 6.904829025268555, 6.261585712432861, 6.744272708892822, 7.447379112243652, 6.324491024017334, 6.965676307678223, 6.9168500900268555, 6.651217937469482, 6.424525260925293, 1.63978111743927, 1.637131929397583, 3.248889207839966, 1.641249179840088, 1.6539771556854248, 1.6436930894851685, 4.141825199127197, 2.4510910511016846, 5.666609287261963, 1.6460464000701904, 1.6445389986038208, 0.8463684916496277, 0.8532475829124451, 1.6450527906417847, 0.8511096835136414, 0.8488472104072571, 0.8448339700698853, 0.8478366732597351, 0.8467102646827698, 0.8437895774841309, 0.8484484553337097, 1.659057855606079, 1.6533141136169434, 0.8516742587089539, 0.8469439148902893, 0.8473278284072876, 0.8485415577888489, 1.6378830671310425, 1.6652274131774902, 0.8454755544662476, 4.915781021118164, 11.31978702545166, 1.6448798179626465, 3.2383604049682617, 1.6857835054397583, 4.081464767456055, 2.4612209796905518, 1.639459490776062, 1.6619563102722168, 1.6524295806884766, 3.269803524017334, 5.742852210998535, 1.6600149869918823, 1.6439204216003418, 4.160061836242676, 3.2631428241729736, 6.714738845825195, 3.292067289352417, 4.13642692565918, 4.9922308921813965, 4.117580890655518, 4.1722869873046875, 2.5062718391418457, 3.4194719791412354, 2.563652753829956, 4.195835113525391, 3.3029699325561523, 2.497981309890747, 2.4525351524353027, 3.3375561237335205, 2.4362456798553467, 3.2804183959960938, 3.408942222595215, 2.483586311340332, 2.677468776702881, 2.5898022651672363, 2.5638513565063477, 2.538633346557617, 2.535443067550659, 2.509610414505005], \"Term\": [\"elizabeth\", \"little\", \"miss\", \"emma\", \"madame\", \"lady\", \"jane\", \"like\", \"room\", \"sir\", \"thought\", \"know\", \"night\", \"elinor\", \"think\", \"good\", \"day\", \"fairfax\", \"time\", \"rochester\", \"darcy\", \"bennet\", \"shall\", \"man\", \"marianne\", \"bingley\", \"great\", \"collins\", \"come\", \"life\", \"willoughby\", \"elinor\", \"marianne\", \"brandon\", \"jennings\", \"middleton\", \"palmer\", \"barton\", \"ferrars\", \"dashwood\", \"fanny\", \"norland\", \"dashwoods\", \"steele\", \"imprudence\", \"edward\", \"unfortunate\", \"secrecy\", \"engagement\", \"colonel\", \"bestow\", \"cottage\", \"disgrace\", \"alteration\", \"engagements\", \"uneasiness\", \"offence\", \"cheerfulness\", \"calmness\", \"effects\", \"openly\", \"sister\", \"behaviour\", \"affectionate\", \"particulars\", \"esteem\", \"affection\", \"exceedingly\", \"mother\", \"town\", \"lucy\", \"conduct\", \"letter\", \"replied\", \"family\", \"brother\", \"soon\", \"time\", \"think\", \"lady\", \"know\", \"feelings\", \"thing\", \"great\", \"miss\", \"house\", \"good\", \"john\", \"day\", \"felt\", \"little\", \"man\", \"shall\", \"sure\", \"thought\", \"dear\", \"bates\", \"elton\", \"cole\", \"weston\", \"woodhouse\", \"emma\", \"churchill\", \"campbell\", \"perry\", \"knightley\", \"hartfield\", \"randalls\", \"goddard\", \"donwell\", \"surprize\", \"highbury\", \"surprized\", \"enscombe\", \"isabella\", \"abbey\", \"harriet\", \"frank\", \"martin\", \"pianoforte\", \"smith\", \"grove\", \"chuse\", \"shew\", \"james\", \"shewed\", \"henry\", \"body\", \"fairfax\", \"extremely\", \"thing\", \"miss\", \"dear\", \"jane\", \"think\", \"father\", \"great\", \"good\", \"know\", \"oh\", \"little\", \"sure\", \"friend\", \"time\", \"man\", \"shall\", \"young\", \"soon\", \"thought\", \"like\", \"day\", \"reuter\", \"mdlle\", \"pelet\", \"estrade\", \"directress\", \"henri\", \"tout\", \"pupils\", \"une\", \"petite\", \"lessons\", \"monsieur\", \"est\", \"ce\", \"paul\", \"emanuel\", \"bien\", \"lesson\", \"des\", \"mademoiselle\", \"en\", \"mon\", \"je\", \"vous\", \"fete\", \"division\", \"le\", \"que\", \"qu\", \"moi\", \"classe\", \"teachers\", \"pas\", \"madame\", \"english\", \"frances\", \"et\", \"professor\", \"pupil\", \"la\", \"desk\", \"class\", \"school\", \"beck\", \"little\", \"hand\", \"like\", \"garden\", \"thought\", \"eyes\", \"time\", \"day\", \"knew\", \"eye\", \"looked\", \"good\", \"half\", \"heart\", \"know\", \"face\", \"took\", \"felt\", \"long\", \"life\", \"came\", \"man\", \"door\", \"bessie\", \"reed\", \"gateshead\", \"lowood\", \"millcote\", \"temple\", \"candle\", \"thornfield\", \"curtains\", \"ingram\", \"rochester\", \"cloak\", \"nurse\", \"surveyed\", \"gallery\", \"eyre\", \"mama\", \"panes\", \"nursery\", \"horse\", \"curtain\", \"apartment\", \"burnt\", \"trunk\", \"chill\", \"sank\", \"carpet\", \"gloomy\", \"adele\", \"stool\", \"georgiana\", \"hall\", \"bed\", \"wet\", \"upstairs\", \"water\", \"hearth\", \"rain\", \"ll\", \"black\", \"door\", \"room\", \"like\", \"night\", \"face\", \"sir\", \"asked\", \"stood\", \"looked\", \"master\", \"eyes\", \"heard\", \"little\", \"dark\", \"come\", \"miss\", \"house\", \"round\", \"long\", \"came\", \"shall\", \"went\", \"jane\", \"thought\", \"time\", \"day\", \"saw\", \"hand\", \"good\", \"felt\", \"think\", \"bennet\", \"bingley\", \"kitty\", \"lizzy\", \"lucas\", \"meryton\", \"longbourn\", \"netherfield\", \"hurst\", \"forster\", \"lydia\", \"officers\", \"elizabeth\", \"regiment\", \"darcy\", \"collins\", \"hertfordshire\", \"everybody\", \"wickham\", \"bourgh\", \"saturday\", \"daughters\", \"catherine\", \"tuesday\", \"congratulations\", \"pemberley\", \"estate\", \"youngest\", \"partner\", \"report\", \"charlotte\", \"sisters\", \"gardiner\", \"jane\", \"ball\", \"family\", \"sister\", \"dear\", \"miss\", \"mother\", \"soon\", \"good\", \"father\", \"know\", \"man\", \"think\", \"shall\", \"room\", \"young\", \"time\", \"little\", \"sure\", \"lady\", \"day\", \"away\", \"polly\", \"graham\", \"bretton\", \"bassompierre\", \"paulina\", \"snowe\", \"papa\", \"dr\", \"godmother\", \"mamma\", \"fanshawe\", \"count\", \"ginevra\", \"doctor\", \"divine\", \"lucy\", \"cup\", \"boy\", \"fairy\", \"tiny\", \"patient\", \"lap\", \"loving\", \"tastes\", \"personage\", \"trembled\", \"stool\", \"lip\", \"pressure\", \"golden\", \"hotel\", \"learned\", \"son\", \"child\", \"ear\", \"pain\", \"john\", \"letters\", \"little\", \"home\", \"eye\", \"like\", \"think\", \"know\", \"thought\", \"good\", \"smile\", \"mother\", \"look\", \"hand\", \"old\", \"tell\", \"evening\", \"miss\", \"day\", \"come\", \"long\", \"saw\", \"shall\", \"time\", \"midnight\", \"dew\", \"dormitory\", \"star\", \"clouds\", \"vision\", \"moonlight\", \"casement\", \"dim\", \"anguish\", \"nun\", \"moon\", \"glorious\", \"gather\", \"glory\", \"stole\", \"wings\", \"west\", \"stars\", \"daylight\", \"veil\", \"scarce\", \"void\", \"sun\", \"streets\", \"shrubs\", \"huge\", \"wall\", \"rushed\", \"leaf\", \"shadow\", \"sky\", \"tree\", \"fate\", \"weary\", \"deep\", \"dream\", \"god\", \"night\", \"heaven\", \"trees\", \"solemn\", \"light\", \"sound\", \"long\", \"white\", \"strange\", \"saw\", \"heart\", \"life\", \"hand\", \"like\", \"sir\", \"thought\", \"jane\", \"eyes\", \"love\", \"look\", \"door\", \"moment\", \"day\", \"knew\", \"come\", \"voice\", \"rose\", \"left\", \"know\", \"house\", \"old\", \"time\", \"came\", \"little\", \"hunsden\", \"diana\", \"rivers\", \"crimsworth\", \"morton\", \"moor\", \"german\", \"practical\", \"st\", \"lodgings\", \"ve\", \"sufficed\", \"portrait\", \"shire\", \"brussels\", \"th\", \"social\", \"clergyman\", \"perform\", \"practice\", \"theme\", \"england\", \"baffled\", \"mary\", \"concerning\", \"pounds\", \"teaching\", \"bride\", \"frances\", \"worked\", \"fool\", \"explain\", \"wealth\", \"clean\", \"yes\", \"john\", \"rich\", \"ll\", \"school\", \"like\", \"man\", \"god\", \"know\", \"house\", \"wife\", \"asked\", \"shall\", \"good\", \"nature\", \"live\", \"better\", \"think\", \"day\", \"tell\", \"come\", \"long\", \"heart\", \"old\", \"little\", \"time\", \"thought\", \"life\", \"jane\", \"pere\", \"priest\", \"bonne\", \"beck\", \"madame\", \"issued\", \"salon\", \"charity\", \"cabinet\", \"phrase\", \"narrative\", \"streets\", \"church\", \"message\", \"yellow\", \"au\", \"ghost\", \"romantic\", \"faith\", \"gathering\", \"corridor\", \"duly\", \"finest\", \"lamp\", \"poured\", \"interview\", \"furnished\", \"turns\", \"inn\", \"tale\", \"fruit\", \"emanuel\", \"villette\", \"old\", \"broad\", \"street\", \"rich\", \"dress\", \"door\", \"son\", \"paul\", \"strange\", \"good\", \"english\", \"little\", \"man\", \"knew\", \"thought\", \"night\", \"like\", \"time\", \"sat\", \"god\", \"head\", \"way\", \"heard\", \"think\", \"voice\", \"great\", \"words\", \"looked\", \"long\", \"woman\", \"shall\", \"felt\", \"love\", \"bliss\", \"appetite\", \"city\", \"events\", \"board\", \"vivid\", \"puzzled\", \"unusual\", \"drink\", \"signs\", \"superiority\", \"glorious\", \"haughty\", \"yard\", \"west\", \"chaise\", \"frost\", \"river\", \"evinced\", \"origin\", \"trunk\", \"faith\", \"affliction\", \"respecting\", \"sees\", \"demeanour\", \"priest\", \"keen\", \"experience\", \"disturbed\", \"existence\", \"sir\", \"wondered\", \"die\", \"jane\", \"love\", \"night\", \"wind\", \"life\", \"mere\", \"loved\", \"rochester\", \"years\", \"thought\", \"adele\", \"strange\", \"away\", \"got\", \"far\", \"time\", \"hour\", \"know\", \"face\", \"air\", \"little\", \"like\", \"good\", \"come\", \"look\", \"man\", \"things\", \"talk\", \"long\", \"eyes\", \"miss\", \"heart\", \"mind\", \"head\", \"looked\", \"yes\", \"crimsworth\", \"surrounding\", \"georgiana\", \"race\", \"burden\", \"render\", \"eliza\", \"woods\", \"animal\", \"dying\", \"nurse\", \"gloomy\", \"absurd\", \"feeble\", \"residence\", \"evinced\", \"disgust\", \"hills\", \"constitution\", \"minds\", \"beat\", \"centre\", \"closing\", \"chanced\", \"gazing\", \"announced\", \"pictures\", \"powerful\", \"rid\", \"similar\", \"frequent\", \"edward\", \"wet\", \"selfish\", \"lord\", \"piece\", \"pity\", \"absence\", \"lay\", \"hair\", \"mother\", \"mind\", \"lived\", \"tall\", \"father\", \"shall\", \"miles\", \"old\", \"years\", \"left\", \"took\", \"face\", \"time\", \"house\", \"thought\", \"day\", \"days\", \"good\", \"half\", \"eye\", \"look\", \"like\", \"know\", \"room\", \"knew\", \"saw\", \"man\", \"woman\", \"rosings\", \"bourgh\", \"ladyship\", \"catherine\", \"collins\", \"charlotte\", \"william\", \"parsonage\", \"humble\", \"encouraged\", \"younger\", \"comfortably\", \"offers\", \"governess\", \"gate\", \"lane\", \"rank\", \"abode\", \"cousin\", \"proportion\", \"pleasures\", \"performed\", \"ate\", \"ornaments\", \"romantic\", \"boast\", \"admire\", \"honoured\", \"james\", \"lady\", \"elizabeth\", \"dine\", \"play\", \"accepted\", \"garden\", \"ladies\", \"visitors\", \"sir\", \"park\", \"invitation\", \"daughter\", \"walk\", \"room\", \"miss\", \"sisters\", \"great\", \"house\", \"family\", \"day\", \"soon\", \"little\", \"means\", \"thought\", \"small\", \"hear\", \"party\", \"homage\", \"movements\", \"group\", \"stately\", \"mien\", \"spectacle\", \"entertainment\", \"finest\", \"sang\", \"smooth\", \"price\", \"smiles\", \"ate\", \"protection\", \"wealth\", \"familiar\", \"appears\", \"daresay\", \"noted\", \"graceful\", \"crimson\", \"nun\", \"solid\", \"permission\", \"mass\", \"kiss\", \"impression\", \"rank\", \"mouth\", \"bliss\", \"rochester\", \"shadow\", \"adele\", \"handsome\", \"sir\", \"voice\", \"blood\", \"seen\", \"beauty\", \"feeling\", \"looked\", \"ingram\", \"man\", \"eye\", \"ladies\", \"think\", \"beautiful\", \"thought\", \"yes\", \"like\", \"lady\", \"face\", \"white\", \"home\", \"jane\", \"saw\", \"know\", \"gentleman\", \"turned\", \"soon\", \"great\", \"power\", \"little\", \"love\", \"place\", \"tell\", \"moment\", \"les\", \"mais\", \"et\", \"moi\", \"pas\", \"gallery\", \"adele\", \"je\", \"tables\", \"que\", \"vous\", \"qu\", \"il\", \"schoolroom\", \"ne\", \"formal\", \"nearest\", \"cook\", \"fourth\", \"process\", \"satin\", \"ce\", \"le\", \"couch\", \"grim\", \"prudence\", \"pour\", \"mon\", \"tempered\", \"vacant\", \"master\", \"servants\", \"grace\", \"rooms\", \"picture\", \"fairfax\", \"la\", \"est\", \"laugh\", \"eyre\", \"room\", \"miss\", \"bell\", \"long\", \"little\", \"great\", \"called\", \"handsome\", \"rochester\", \"day\", \"party\", \"thought\", \"like\", \"good\", \"having\", \"scattered\", \"household\", \"en\", \"entire\", \"mais\", \"golden\", \"paulina\", \"bien\", \"vous\", \"les\", \"season\", \"duly\", \"candour\", \"court\", \"repetition\", \"inner\", \"liable\", \"noted\", \"yellow\", \"commendation\", \"permission\", \"il\", \"illness\", \"drank\", \"au\", \"velvet\", \"correspondence\", \"lives\", \"le\", \"image\", \"beck\", \"madame\", \"sorrow\", \"letters\", \"cup\", \"bed\", \"ginevra\", \"occurred\", \"que\", \"frequent\", \"self\", \"night\", \"je\", \"proof\", \"evening\", \"called\", \"little\", \"words\", \"came\", \"like\", \"come\", \"day\", \"paul\", \"eyes\", \"graham\", \"know\", \"life\", \"lips\", \"met\", \"room\", \"marry\", \"shall\", \"think\", \"white\", \"hand\", \"heart\", \"thought\", \"moment\", \"away\", \"passed\"], \"Total\": [676.0, 1740.0, 1561.0, 884.0, 396.0, 620.0, 969.0, 1347.0, 898.0, 601.0, 1149.0, 1447.0, 627.0, 652.0, 1323.0, 1370.0, 1070.0, 379.0, 1322.0, 362.0, 433.0, 347.0, 935.0, 913.0, 539.0, 328.0, 833.0, 185.0, 844.0, 587.0, 206.41476440429688, 652.412353515625, 539.205322265625, 137.888916015625, 219.69020080566406, 97.98944854736328, 74.20703125, 85.59465789794922, 124.68907165527344, 240.44410705566406, 46.61057662963867, 51.33635330200195, 35.194583892822266, 37.119468688964844, 23.004215240478516, 302.9324951171875, 38.38651657104492, 27.814376831054688, 113.39636993408203, 299.0162658691406, 23.02198028564453, 82.35586547851562, 22.992280960083008, 26.074440002441406, 36.711097717285156, 26.07320785522461, 24.135589599609375, 32.87520980834961, 27.877222061157227, 20.011064529418945, 31.613632202148438, 581.2280883789062, 143.5895538330078, 53.331295013427734, 59.36873245239258, 41.52436447143555, 260.6546936035156, 69.42668914794922, 665.4503173828125, 237.46273803710938, 365.0052185058594, 117.04532623291016, 425.7488098144531, 352.4405822753906, 386.615234375, 289.505126953125, 934.1915893554688, 1322.59228515625, 1323.8453369140625, 620.8987426757812, 1447.785400390625, 383.5437316894531, 798.4227294921875, 833.553955078125, 1561.605712890625, 759.0558471679688, 1370.72900390625, 622.4282836914062, 1070.0020751953125, 673.3627319335938, 1740.42724609375, 913.3276977539062, 935.9484252929688, 626.6157836914062, 1149.3936767578125, 603.7717895507812, 155.29351806640625, 395.40924072265625, 63.32948684692383, 450.55194091796875, 320.7734069824219, 884.050537109375, 229.7498779296875, 53.06694030761719, 82.71583557128906, 398.0519714355469, 164.2493896484375, 92.82818603515625, 61.1839485168457, 50.96567916870117, 38.72930908203125, 128.4947052001953, 33.605838775634766, 37.69091033935547, 71.29084014892578, 32.490699768066406, 533.4147338867188, 243.23690795898438, 87.02732849121094, 34.19043731689453, 116.95899200439453, 41.36739730834961, 32.13267517089844, 38.15293884277344, 28.287675857543945, 23.03148651123047, 31.973522186279297, 283.22943115234375, 379.098876953125, 104.0479965209961, 798.4227294921875, 1561.605712890625, 603.7717895507812, 969.15771484375, 1323.8453369140625, 520.0084228515625, 833.553955078125, 1370.72900390625, 1447.785400390625, 571.6167602539062, 1740.42724609375, 626.6157836914062, 444.64166259765625, 1322.59228515625, 913.3276977539062, 935.9484252929688, 674.9549560546875, 934.1915893554688, 1149.3936767578125, 1347.2242431640625, 1070.0020751953125, 80.34978485107422, 115.53629302978516, 111.49234771728516, 39.08892059326172, 47.98219680786133, 56.182960510253906, 29.82482147216797, 158.400146484375, 38.504764556884766, 24.80276107788086, 65.8734359741211, 286.05010986328125, 109.89132690429688, 51.948333740234375, 184.9700927734375, 108.22335052490234, 47.856327056884766, 70.74932861328125, 34.012393951416016, 120.49742126464844, 49.945106506347656, 38.99214553833008, 70.50173950195312, 115.4852294921875, 34.689640045166016, 32.0416259765625, 46.64219284057617, 62.619510650634766, 30.85884666442871, 25.115123748779297, 64.66834259033203, 79.5160140991211, 59.76405334472656, 396.59613037109375, 231.28578186035156, 118.86461639404297, 83.46147918701172, 65.06763458251953, 98.84124755859375, 105.45540618896484, 103.7440414428711, 82.29170989990234, 249.9655303955078, 159.94955444335938, 1740.42724609375, 624.0509033203125, 1347.2242431640625, 178.56710815429688, 1149.3936767578125, 647.7820434570312, 1322.59228515625, 1070.0020751953125, 551.1784057617188, 399.82965087890625, 707.9323120117188, 1370.72900390625, 600.341064453125, 656.4036254882812, 1447.785400390625, 502.6513671875, 499.1976318359375, 673.3627319335938, 950.280517578125, 587.4185180664062, 697.7515258789062, 913.3276977539062, 543.2462768554688, 132.74496459960938, 131.763427734375, 43.771339416503906, 55.83749008178711, 29.774250030517578, 76.4688491821289, 64.61769104003906, 100.92426300048828, 28.1014404296875, 89.75840759277344, 362.1687927246094, 31.498607635498047, 56.55174255371094, 23.910499572753906, 40.97184371948242, 101.72949981689453, 49.589012145996094, 21.794404983520508, 45.99942398071289, 63.20875930786133, 49.624473571777344, 50.821372985839844, 26.86549186706543, 35.86360168457031, 28.659950256347656, 31.187503814697266, 30.305971145629883, 26.470699310302734, 132.91793823242188, 26.49903106689453, 59.262939453125, 174.5125732421875, 224.98756408691406, 62.00456237792969, 46.173099517822266, 115.14440155029297, 70.12122344970703, 100.11548614501953, 151.51681518554688, 185.92349243164062, 543.2462768554688, 898.2391967773438, 1347.2242431640625, 627.2333984375, 502.6513671875, 601.4868774414062, 403.3210144042969, 328.1617126464844, 707.9323120117188, 204.1808319091797, 647.7820434570312, 632.9057006835938, 1740.42724609375, 230.25001525878906, 844.0427856445312, 1561.605712890625, 759.0558471679688, 360.4765625, 950.280517578125, 697.7515258789062, 935.9484252929688, 501.1580505371094, 969.15771484375, 1149.3936767578125, 1322.59228515625, 1070.0020751953125, 784.2902221679688, 624.0509033203125, 1370.72900390625, 673.3627319335938, 1323.8453369140625, 347.0565185546875, 328.2287902832031, 80.17794036865234, 104.71163940429688, 75.86431884765625, 61.700077056884766, 94.36811065673828, 78.31109619140625, 39.21489715576172, 42.1593132019043, 181.34759521484375, 34.69261932373047, 676.0857543945312, 28.16669464111328, 433.403564453125, 185.8589630126953, 43.01903533935547, 68.53986358642578, 197.82257080078125, 40.76136016845703, 27.779146194458008, 110.4114761352539, 132.27249145507812, 27.748044967651367, 25.593748092651367, 53.375728607177734, 57.929256439208984, 29.06380271911621, 42.40143966674805, 42.767147064208984, 114.07138061523438, 190.89634704589844, 94.72193145751953, 969.15771484375, 92.30949401855469, 386.615234375, 581.2280883789062, 603.7717895507812, 1561.605712890625, 665.4503173828125, 934.1915893554688, 1370.72900390625, 520.0084228515625, 1447.785400390625, 913.3276977539062, 1323.8453369140625, 935.9484252929688, 898.2391967773438, 674.9549560546875, 1322.59228515625, 1740.42724609375, 626.6157836914062, 620.8987426757812, 1070.0020751953125, 688.5399169921875, 77.27230072021484, 215.9327850341797, 233.02041625976562, 72.46548461914062, 80.2183609008789, 58.78178405761719, 170.50221252441406, 228.54226684570312, 29.498699188232422, 67.11534118652344, 85.3685073852539, 29.907093048095703, 109.30525207519531, 48.376930236816406, 28.17040252685547, 365.0052185058594, 54.85783004760742, 68.3048324584961, 37.99677658081055, 23.026145935058594, 55.4151611328125, 27.53239631652832, 24.32978057861328, 28.219257354736328, 22.14045524597168, 32.21955871582031, 26.49903106689453, 37.28562927246094, 22.56270980834961, 31.10744285583496, 32.1136474609375, 49.1351318359375, 192.17022705078125, 299.0328674316406, 114.45061492919922, 185.24838256835938, 622.4282836914062, 130.7422332763672, 1740.42724609375, 495.91522216796875, 399.82965087890625, 1347.2242431640625, 1323.8453369140625, 1447.785400390625, 1149.3936767578125, 1370.72900390625, 264.81512451171875, 665.4503173828125, 648.37353515625, 624.0509033203125, 481.15350341796875, 544.5853881835938, 492.9803161621094, 1561.605712890625, 1070.0020751953125, 844.0427856445312, 950.280517578125, 784.2902221679688, 935.9484252929688, 1322.59228515625, 31.300960540771484, 31.31516456604004, 36.48902893066406, 30.454378128051758, 51.76373291015625, 51.2962760925293, 44.86104965209961, 25.084585189819336, 52.33427429199219, 24.903461456298828, 44.487953186035156, 78.70683288574219, 30.81251335144043, 26.02859878540039, 25.853912353515625, 23.93604850769043, 27.192771911621094, 35.77054214477539, 27.19509506225586, 26.243093490600586, 38.854713439941406, 51.95343017578125, 27.263591766357422, 106.03614044189453, 25.008346557617188, 24.825044631958008, 25.004623413085938, 78.64971923828125, 35.74388885498047, 26.231931686401367, 56.33056640625, 98.02965545654297, 59.081504821777344, 61.354305267333984, 52.713768005371094, 185.32403564453125, 75.45772552490234, 230.87632751464844, 627.2333984375, 109.60514068603516, 112.33959197998047, 60.05481719970703, 312.1260681152344, 161.67665100097656, 950.280517578125, 238.0190887451172, 254.0455780029297, 784.2902221679688, 656.4036254882812, 587.4185180664062, 624.0509033203125, 1347.2242431640625, 601.4868774414062, 1149.3936767578125, 969.15771484375, 647.7820434570312, 574.8245239257812, 648.37353515625, 543.2462768554688, 579.2392578125, 1070.0020751953125, 551.1784057617188, 844.0427856445312, 397.00335693359375, 234.3877410888672, 540.075927734375, 1447.785400390625, 759.0558471679688, 481.15350341796875, 1322.59228515625, 697.7515258789062, 1740.42724609375, 150.28416442871094, 75.80842590332031, 60.20210647583008, 97.79741668701172, 41.68117141723633, 28.852083206176758, 42.39752197265625, 26.761693954467773, 198.087646484375, 23.96915626525879, 49.45505142211914, 30.699337005615234, 28.916088104248047, 44.545902252197266, 37.82673263549805, 25.008132934570312, 25.750648498535156, 38.19921112060547, 23.46689796447754, 27.72740936279297, 31.50009536743164, 129.2467803955078, 23.343669891357422, 153.52630615234375, 22.674360275268555, 101.1711196899414, 22.810911178588867, 46.6696891784668, 118.86461639404297, 31.46613121032715, 42.285186767578125, 50.075538635253906, 54.685760498046875, 65.35586547851562, 607.6102294921875, 622.4282836914062, 115.06961059570312, 151.51681518554688, 249.9655303955078, 1347.2242431640625, 913.3276977539062, 230.87632751464844, 1447.785400390625, 759.0558471679688, 284.84844970703125, 403.3210144042969, 935.9484252929688, 1370.72900390625, 313.60888671875, 215.9672393798828, 625.7777709960938, 1323.8453369140625, 1070.0020751953125, 544.5853881835938, 844.0427856445312, 950.280517578125, 656.4036254882812, 481.15350341796875, 1740.42724609375, 1322.59228515625, 1149.3936767578125, 587.4185180664062, 969.15771484375, 36.95793151855469, 36.322669982910156, 31.48634910583496, 159.94955444335938, 396.59613037109375, 21.63434410095215, 27.112516403198242, 27.809911727905273, 28.838573455810547, 27.8516845703125, 30.254423141479492, 25.008346557617188, 114.52579498291016, 44.082275390625, 21.24788475036621, 22.075271606445312, 27.292268753051758, 20.868555068969727, 51.3456916809082, 33.35066223144531, 34.25704574584961, 19.9204158782959, 23.629880905151367, 53.76926803588867, 23.437822341918945, 27.064434051513672, 29.4976806640625, 36.13457107543945, 43.84700012207031, 50.808319091796875, 43.246646881103516, 108.22335052490234, 53.78178024291992, 481.15350341796875, 78.48148345947266, 144.70968627929688, 115.06961059570312, 161.90113830566406, 543.2462768554688, 192.17022705078125, 184.9700927734375, 254.0455780029297, 1370.72900390625, 231.28578186035156, 1740.42724609375, 913.3276977539062, 551.1784057617188, 1149.3936767578125, 627.2333984375, 1347.2242431640625, 1322.59228515625, 372.022216796875, 230.87632751464844, 414.2789611816406, 700.39501953125, 632.9057006835938, 1323.8453369140625, 397.00335693359375, 833.553955078125, 343.79974365234375, 707.9323120117188, 950.280517578125, 477.18096923828125, 935.9484252929688, 673.3627319335938, 574.8245239257812, 24.947797775268555, 24.323726654052734, 41.3725471496582, 25.916458129882812, 24.295696258544922, 22.16051483154297, 38.516456604003906, 25.22808074951172, 34.103050231933594, 21.568498611450195, 29.45204734802246, 30.81251335144043, 22.428138732910156, 27.720773696899414, 35.77054214477539, 35.330833435058594, 24.477550506591797, 24.213058471679688, 20.10846710205078, 22.207284927368164, 35.86360168457031, 51.3456916809082, 26.545166015625, 32.70368957519531, 28.87021255493164, 20.330385208129883, 36.322669982910156, 39.94688034057617, 63.76329803466797, 31.44612693786621, 78.6953353881836, 601.4868774414062, 77.71968841552734, 65.8821029663086, 969.15771484375, 574.8245239257812, 627.2333984375, 98.72235870361328, 587.4185180664062, 117.15531921386719, 132.14564514160156, 362.1687927246094, 316.522705078125, 1149.3936767578125, 132.91793823242188, 254.0455780029297, 688.5399169921875, 291.6594543457031, 465.53399658203125, 1322.59228515625, 439.09478759765625, 1447.785400390625, 502.6513671875, 269.3026428222656, 1740.42724609375, 1347.2242431640625, 1370.72900390625, 844.0427856445312, 648.37353515625, 913.3276977539062, 292.5088195800781, 269.16973876953125, 950.280517578125, 647.7820434570312, 1561.605712890625, 656.4036254882812, 573.4476318359375, 414.2789611816406, 707.9323120117188, 607.6102294921875, 97.79741668701172, 22.677804946899414, 59.262939453125, 27.095458984375, 27.000343322753906, 27.89020538330078, 60.26226043701172, 27.862812042236328, 21.351058959960938, 39.7595329284668, 56.55174255371094, 26.470699310302734, 27.454294204711914, 34.19057083129883, 32.848323822021484, 20.10846710205078, 28.69011688232422, 42.794410705566406, 21.216922760009766, 31.938383102416992, 21.395992279052734, 34.507598876953125, 22.474674224853516, 23.209835052490234, 22.45295524597168, 39.981876373291016, 43.85760498046875, 24.74717903137207, 23.562307357788086, 38.05946731567383, 62.25030517578125, 302.9324951171875, 62.00456237792969, 49.46872329711914, 77.09493255615234, 78.17156219482422, 106.60608673095703, 92.7018051147461, 194.23167419433594, 190.08203125, 665.4503173828125, 573.4476318359375, 133.9245147705078, 101.01947021484375, 520.0084228515625, 935.9484252929688, 83.40066528320312, 481.15350341796875, 316.522705078125, 540.075927734375, 499.1976318359375, 502.6513671875, 1322.59228515625, 759.0558471679688, 1149.3936767578125, 1070.0020751953125, 291.816162109375, 1370.72900390625, 600.341064453125, 399.82965087890625, 648.37353515625, 1347.2242431640625, 1447.785400390625, 898.2391967773438, 551.1784057617188, 784.2902221679688, 913.3276977539062, 477.18096923828125, 48.097145080566406, 40.76136016845703, 54.623748779296875, 132.27249145507812, 185.8589630126953, 114.07138061523438, 90.41909790039062, 36.60124969482422, 42.44919967651367, 28.66578483581543, 57.46337890625, 22.78307342529297, 20.927135467529297, 62.88020324707031, 37.83457946777344, 49.29945755004883, 45.562721252441406, 33.12043762207031, 92.4433822631836, 20.81687355041504, 27.020111083984375, 24.69157600402832, 22.559383392333984, 23.813966751098633, 20.868555068969727, 28.737224578857422, 54.29208755493164, 32.122310638427734, 28.287675857543945, 620.8987426757812, 676.0857543945312, 48.186004638671875, 104.64102172851562, 50.58917999267578, 178.56710815429688, 271.2723083496094, 42.50337219238281, 601.4868774414062, 122.02680969238281, 100.68651580810547, 276.2967224121094, 252.86947631835938, 898.2391967773438, 1561.605712890625, 190.89634704589844, 833.553955078125, 759.0558471679688, 386.615234375, 1070.0020751953125, 934.1915893554688, 1740.42724609375, 234.39251708984375, 1149.3936767578125, 242.8924102783203, 411.6349182128906, 256.27716064453125, 20.991519927978516, 34.84189987182617, 34.21985626220703, 28.4847354888916, 32.333518981933594, 28.29620933532715, 22.578617095947266, 23.629880905151367, 28.278865814208984, 57.03605270385742, 25.938865661621094, 47.514286041259766, 22.559383392333984, 20.012853622436523, 54.685760498046875, 34.15085983276367, 35.22569274902344, 26.370969772338867, 21.114336013793945, 31.306591033935547, 32.485984802246094, 44.487953186035156, 22.603639602661133, 21.53617286682129, 45.752254486083984, 48.85110855102539, 55.860008239746094, 45.562721252441406, 62.1852912902832, 24.947797775268555, 362.1687927246094, 56.33056640625, 132.91793823242188, 201.33763122558594, 601.4868774414062, 397.00335693359375, 89.69534301757812, 450.0631408691406, 166.89295959472656, 282.0386047363281, 707.9323120117188, 89.75840759277344, 913.3276977539062, 399.82965087890625, 271.2723083496094, 1323.8453369140625, 126.11547088623047, 1149.3936767578125, 607.6102294921875, 1347.2242431640625, 620.8987426757812, 502.6513671875, 238.0190887451172, 495.91522216796875, 969.15771484375, 784.2902221679688, 1447.785400390625, 205.22784423828125, 343.01226806640625, 934.1915893554688, 833.553955078125, 250.1392364501953, 1740.42724609375, 574.8245239257812, 513.803466796875, 544.5853881835938, 579.2392578125, 37.446990966796875, 30.284603118896484, 83.46147918701172, 25.115123748779297, 59.76405334472656, 40.97184371948242, 132.91793823242188, 70.50173950195312, 28.332561492919922, 62.619510650634766, 115.4852294921875, 30.85884666442871, 42.230934143066406, 56.94785690307617, 35.492713928222656, 28.228328704833984, 23.84975242614746, 22.981239318847656, 21.29494285583496, 25.501371383666992, 31.141176223754883, 51.948333740234375, 46.64219284057617, 33.122833251953125, 23.324230194091797, 24.86256980895996, 44.74673080444336, 38.99214553833008, 27.99399185180664, 34.80476379394531, 204.1808319091797, 95.222412109375, 96.06171417236328, 71.26182556152344, 132.80804443359375, 379.098876953125, 105.45540618896484, 109.89132690429688, 126.11190795898438, 101.72949981689453, 898.2391967773438, 1561.605712890625, 108.7513198852539, 950.280517578125, 1740.42724609375, 833.553955078125, 305.3437194824219, 201.33763122558594, 362.1687927246094, 1070.0020751953125, 256.27716064453125, 1149.3936767578125, 1347.2242431640625, 1370.72900390625, 547.95361328125, 24.781431198120117, 25.149986267089844, 49.945106506347656, 29.35011863708496, 30.284603118896484, 31.10744285583496, 80.2183609008789, 47.856327056884766, 115.4852294921875, 37.446990966796875, 38.030616760253906, 19.9204158782959, 20.337268829345703, 39.317901611328125, 20.35482406616211, 20.598913192749023, 20.921489715576172, 21.114336013793945, 21.24788475036621, 21.411632537841797, 21.53617286682129, 42.230934143066406, 42.13719940185547, 21.77210807800293, 22.075271606445312, 22.3372745513916, 23.109289169311523, 44.760215759277344, 46.64219284057617, 23.70057487487793, 159.94955444335938, 396.59613037109375, 48.71392059326172, 130.7422332763672, 54.85783004760742, 224.98756408691406, 109.30525207519531, 58.89180374145508, 62.619510650634766, 62.25030517578125, 216.39866638183594, 627.2333984375, 70.50173950195312, 70.66429138183594, 492.9803161621094, 305.3437194824219, 1740.42724609375, 343.79974365234375, 697.7515258789062, 1347.2242431640625, 844.0427856445312, 1070.0020751953125, 184.9700927734375, 647.7820434570312, 215.9327850341797, 1447.785400390625, 587.4185180664062, 196.37571716308594, 193.65623474121094, 898.2391967773438, 207.5048370361328, 935.9484252929688, 1323.8453369140625, 238.0190887451172, 624.0509033203125, 656.4036254882812, 1149.3936767578125, 579.2392578125, 688.5399169921875, 390.9410095214844], \"loglift\": [30.0, 29.0, 28.0, 27.0, 26.0, 25.0, 24.0, 23.0, 22.0, 21.0, 20.0, 19.0, 18.0, 17.0, 16.0, 15.0, 14.0, 13.0, 12.0, 11.0, 10.0, 9.0, 8.0, 7.0, 6.0, 5.0, 4.0, 3.0, 2.0, 1.0, 1.5780999660491943, 1.5776000022888184, 1.5772000551223755, 1.5765999555587769, 1.5764000415802002, 1.57260000705719, 1.5713000297546387, 1.5710999965667725, 1.565600037574768, 1.559999942779541, 1.5570000410079956, 1.5539000034332275, 1.5537999868392944, 1.542799949645996, 1.4134999513626099, 1.398900032043457, 1.3896000385284424, 1.337499976158142, 1.319700002670288, 1.3188999891281128, 1.3183000087738037, 1.3127000331878662, 1.298699975013733, 1.2891000509262085, 1.2861000299453735, 1.2860000133514404, 1.2842999696731567, 1.2782000303268433, 1.273900032043457, 1.2517999410629272, 1.2445000410079956, 1.1718000173568726, 1.2003999948501587, 1.2252000570297241, 1.1924999952316284, 1.2324999570846558, 0.9409999847412109, 1.1374000310897827, 0.7445999979972839, 0.9020000100135803, 0.8076000213623047, 1.0289000272750854, 0.708299994468689, 0.7106999754905701, 0.6786999702453613, 0.7457000017166138, 0.38760000467300415, 0.24879999458789825, 0.14730000495910645, 0.4424999952316284, 0.09319999814033508, 0.6283000111579895, 0.26249998807907104, 0.2214999943971634, -0.16349999606609344, 0.2012999951839447, -0.15719999372959137, 0.28839999437332153, -0.07729999721050262, 0.22830000519752502, -0.4666000008583069, 0.0007999999797903001, -0.04019999876618385, 0.22869999706745148, -0.3077999949455261, 0.25, 1.7266000509262085, 1.726099967956543, 1.7253999710083008, 1.725100040435791, 1.7232999801635742, 1.7156000137329102, 1.7151000499725342, 1.7144999504089355, 1.7136000394821167, 1.7116999626159668, 1.7063000202178955, 1.7028000354766846, 1.6999000310897827, 1.6996999979019165, 1.6993000507354736, 1.6948000192642212, 1.6866999864578247, 1.6859999895095825, 1.683500051498413, 1.6693999767303467, 1.6469000577926636, 1.6204999685287476, 1.618399977684021, 1.489300012588501, 1.478700041770935, 1.4673999547958374, 1.4664000272750854, 1.4357000589370728, 1.4321999549865723, 1.423200011253357, 1.420799970626831, 1.3723000288009644, 1.323099970817566, 1.3281999826431274, 1.0491000413894653, 0.858299970626831, 0.8220000267028809, 0.6028000116348267, 0.4731999933719635, 0.781499981880188, 0.5795000195503235, 0.37040001153945923, 0.29820001125335693, 0.6877999901771545, 0.1476999968290329, 0.6194000244140625, 0.7856000065803528, 0.09200000017881393, 0.2992999851703644, 0.2574999928474426, 0.45399999618530273, 0.22030000388622284, 0.06780000030994415, -0.1665000021457672, -0.06109999865293503, 1.8553999662399292, 1.8496999740600586, 1.8478000164031982, 1.8387999534606934, 1.8319000005722046, 1.81850004196167, 1.774999976158142, 1.7587000131607056, 1.756700038909912, 1.7503000497817993, 1.7461999654769897, 1.7461999654769897, 1.7330000400543213, 1.732800006866455, 1.7116999626159668, 1.7080999612808228, 1.7034000158309937, 1.673699975013733, 1.6728999614715576, 1.6650999784469604, 1.6576999425888062, 1.6490999460220337, 1.6476999521255493, 1.6361000537872314, 1.6270999908447266, 1.6261999607086182, 1.625, 1.6238000392913818, 1.6217000484466553, 1.6068999767303467, 1.6059999465942383, 1.5930999517440796, 1.5988999605178833, 1.368299961090088, 1.4097000360488892, 1.482300043106079, 1.506700038909912, 1.5532000064849854, 1.4594999551773071, 1.4336999654769897, 1.4198999404907227, 1.4946999549865723, 1.1080000400543213, 1.2336000204086304, 0.2574999928474426, 0.598800003528595, 0.19329999387264252, 1.1232000589370728, 0.13830000162124634, 0.43320000171661377, -0.020099999383091927, 0.09849999845027924, 0.4422000050544739, 0.6294000148773193, 0.23109999299049377, -0.20270000398159027, 0.31150001287460327, 0.24709999561309814, -0.3093999922275543, 0.37869998812675476, 0.37220001220703125, 0.14429999887943268, -0.1606999933719635, 0.21050000190734863, 0.006200000178068876, -0.2551000118255615, 0.22930000722408295, 1.9261000156402588, 1.9076000452041626, 1.850000023841858, 1.8289999961853027, 1.8208999633789062, 1.7790000438690186, 1.7426999807357788, 1.7211999893188477, 1.7144999504089355, 1.7020000219345093, 1.6712000370025635, 1.6150000095367432, 1.6074999570846558, 1.5650999546051025, 1.5641000270843506, 1.5635000467300415, 1.5544999837875366, 1.5526000261306763, 1.551200032234192, 1.5436999797821045, 1.541200041770935, 1.541200041770935, 1.530400037765503, 1.5156999826431274, 1.4803999662399292, 1.4723000526428223, 1.4670000076293945, 1.4562000036239624, 1.454699993133545, 1.4543999433517456, 1.4330999851226807, 1.3996000289916992, 1.256500005722046, 1.3835999965667725, 1.419800043106079, 1.2877999544143677, 1.3544000387191772, 1.2864999771118164, 1.204800009727478, 1.1540000438690186, 0.9162999987602234, 0.7554000020027161, 0.4681999981403351, 0.7031000256538391, 0.7580999732017517, 0.6877999901771545, 0.8209999799728394, 0.8715999722480774, 0.5946000218391418, 1.0175000429153442, 0.5679000020027161, 0.5691999793052673, 0.14030000567436218, 0.9677000045776367, 0.3785000145435333, 0.051600001752376556, 0.3441999852657318, 0.7337999939918518, 0.2160000056028366, 0.3682999908924103, 0.1995999962091446, 0.5412999987602234, 0.15060000121593475, 0.03519999980926514, -0.10029999911785126, 0.03689999878406525, 0.21780000627040863, 0.3580000102519989, -0.32280001044273376, 0.24629999697208405, -0.35740000009536743, 2.4686999320983887, 2.4512999057769775, 2.448899984359741, 2.447499990463257, 2.447000026702881, 2.4168999195098877, 2.3873000144958496, 2.3705999851226807, 2.36899995803833, 2.337899923324585, 2.3369998931884766, 2.3134000301361084, 2.232599973678589, 2.2269999980926514, 2.1875998973846436, 2.071500062942505, 2.0174999237060547, 1.9296000003814697, 1.8868000507354736, 1.886199951171875, 1.8163000345230103, 1.7474000453948975, 1.7244999408721924, 1.6727999448776245, 1.6456999778747559, 1.6231000423431396, 1.6217999458312988, 1.6025999784469604, 1.5843000411987305, 1.5807000398635864, 1.5714999437332153, 1.4846999645233154, 1.524399995803833, 1.252500057220459, 1.5039000511169434, 1.0987000465393066, 0.9598000049591064, 0.8871999979019165, 0.4300000071525574, 0.6764000058174133, 0.5180000066757202, 0.27410000562667847, 0.7488999962806702, 0.2190999984741211, 0.41929998993873596, 0.164000004529953, 0.33090001344680786, 0.3537999987602234, 0.49079999327659607, 0.015599999576807022, -0.2410999983549118, 0.5055000185966492, 0.4934000074863434, -0.0035000001080334187, 0.35440000891685486, 2.6140999794006348, 2.585700035095215, 2.550100088119507, 2.4823999404907227, 2.4344000816345215, 2.385499954223633, 2.341399908065796, 2.2734999656677246, 2.214400053024292, 2.101300001144409, 2.040299892425537, 2.0004000663757324, 1.969099998474121, 1.9191999435424805, 1.7998000383377075, 1.7404999732971191, 1.7400000095367432, 1.7304999828338623, 1.628999948501587, 1.5670000314712524, 1.5206999778747559, 1.507099986076355, 1.5011999607086182, 1.4836000204086304, 1.4643000364303589, 1.451300024986267, 1.4371999502182007, 1.4239000082015991, 1.4138000011444092, 1.4134000539779663, 1.3882999420166016, 1.347000002861023, 1.2075999975204468, 1.142699956893921, 1.2254999876022339, 1.1470999717712402, 0.8863000273704529, 1.1715999841690063, 0.6189000010490417, 0.8490999937057495, 0.7997000217437744, 0.43860000371932983, 0.29420000314712524, 0.2522999942302704, 0.29159998893737793, 0.20200000703334808, 0.871399998664856, 0.47360000014305115, 0.47699999809265137, 0.49540001153945923, 0.6100000143051147, 0.527999997138977, 0.5843999981880188, -0.13699999451637268, 0.050200000405311584, 0.1931000053882599, 0.09399999678134918, 0.23839999735355377, -0.00839999970048666, -0.3440000116825104, 2.4052999019622803, 2.3889999389648438, 2.3828999996185303, 2.3410000801086426, 2.226599931716919, 2.177799940109253, 2.165800094604492, 2.139899969100952, 2.1124000549316406, 2.093899965286255, 2.0697999000549316, 2.061300039291382, 2.053999900817871, 2.052299976348877, 2.036900043487549, 2.031399965286255, 2.0288000106811523, 2.0151000022888184, 2.014699935913086, 2.0107998847961426, 1.9997999668121338, 1.996899962425232, 1.9845999479293823, 1.9752999544143677, 1.9745999574661255, 1.9471999406814575, 1.9253000020980835, 1.9153000116348267, 1.898300051689148, 1.8925000429153442, 1.8777999877929688, 1.8524999618530273, 1.8490999937057495, 1.832800030708313, 1.850000023841858, 1.6002000570297241, 1.777999997138977, 1.5382000207901, 1.3167999982833862, 1.6842000484466553, 1.6725000143051147, 1.823699951171875, 1.2574000358581543, 1.4536999464035034, 0.7829999923706055, 1.2687000036239624, 1.2136000394821167, 0.7314000129699707, 0.7979000210762024, 0.800000011920929, 0.7440000176429749, 0.31470000743865967, 0.695900022983551, 0.34769999980926514, 0.39309999346733093, 0.6057000160217285, 0.6496999859809875, 0.5224000215530396, 0.597599983215332, 0.522599995136261, 0.09449999779462814, 0.5435000061988831, 0.20389999449253082, 0.7390999794006348, 1.1204999685287476, 0.487199991941452, -0.2721000015735626, 0.20270000398159027, 0.5569999814033508, -0.30469998717308044, 0.149399995803833, -0.741100013256073, 2.7177000045776367, 2.6556999683380127, 2.6398000717163086, 2.375499963760376, 2.2964999675750732, 2.2771999835968018, 2.1630001068115234, 2.1435999870300293, 2.137399911880493, 2.11680006980896, 2.083699941635132, 2.0241000652313232, 1.9709999561309814, 1.9585000276565552, 1.9079999923706055, 1.844099998474121, 1.8284000158309937, 1.805299997329712, 1.7848000526428223, 1.7524000406265259, 1.743899941444397, 1.708899974822998, 1.670799970626831, 1.632699966430664, 1.6217999458312988, 1.6136000156402588, 1.6121000051498413, 1.6088999509811401, 1.6002000570297241, 1.5982999801635742, 1.586899995803833, 1.5699000358581543, 1.562399983406067, 1.511299967765808, 0.9390000104904175, 0.9212999939918518, 1.3205000162124634, 1.229099988937378, 1.068600058555603, 0.5008000135421753, 0.6173999905586243, 1.069700002670288, 0.4088999927043915, 0.6401000022888184, 0.9496999979019165, 0.7491999864578247, 0.3400000035762787, 0.1340000033378601, 0.8228999972343445, 1.0157999992370605, 0.41100001335144043, -0.04010000079870224, 0.08500000089406967, 0.4668999910354614, 0.1956000030040741, 0.10249999910593033, 0.2639999985694885, 0.48249998688697815, -0.487199991941452, -0.29670000076293945, -0.21389999985694885, 0.26460000872612, -0.27709999680519104, 3.6977999210357666, 3.0490000247955322, 2.8970999717712402, 2.8438000679016113, 2.8389999866485596, 2.726799964904785, 2.6503000259399414, 2.646199941635132, 2.6285998821258545, 2.570499897003174, 2.5394999980926514, 2.4981000423431396, 2.4811999797821045, 2.480299949645996, 2.4054999351501465, 2.3487000465393066, 2.321000099182129, 2.2441000938415527, 2.22379994392395, 2.2218000888824463, 2.2216999530792236, 2.211699962615967, 2.1891000270843506, 2.185499906539917, 2.1717000007629395, 2.1698999404907227, 2.1547999382019043, 2.1533000469207764, 2.1393001079559326, 2.121799945831299, 2.047600030899048, 1.8452999591827393, 1.9823999404907227, 1.3693000078201294, 1.8472000360488892, 1.6339000463485718, 1.6794999837875366, 1.5379999876022339, 1.0292999744415283, 1.4283000230789185, 1.4378999471664429, 1.2545000314712524, 0.3993000090122223, 1.2592999935150146, 0.1688999980688095, 0.5072000026702881, 0.7430999875068665, 0.2321999967098236, 0.5684000253677368, -0.021400000900030136, -0.01489999983459711, 0.8287000060081482, 1.1584999561309814, 0.6990000009536743, 0.31529998779296875, 0.3840000033378601, -0.22939999401569366, 0.6956999897956848, 0.07090000063180923, 0.8098999857902527, 0.17110000550746918, -0.11010000109672546, 0.5091000199317932, -0.15369999408721924, 0.15489999949932098, 0.3068999946117401, 2.9879000186920166, 2.7460999488830566, 2.6872000694274902, 2.5768001079559326, 2.5676000118255615, 2.538100004196167, 2.488100051879883, 2.4530999660491943, 2.4170000553131104, 2.3822999000549316, 2.377000093460083, 2.304800033569336, 2.2967000007629395, 2.2855000495910645, 2.2783000469207764, 2.25570011138916, 2.202699899673462, 2.154599905014038, 2.150899887084961, 2.140899896621704, 2.13919997215271, 2.115499973297119, 2.0887999534606934, 2.0799999237060547, 2.0773000717163086, 2.061800003051758, 2.06030011177063, 2.059000015258789, 2.0573999881744385, 2.047300100326538, 1.950700044631958, 1.643399953842163, 1.9053000211715698, 1.8865000009536743, 1.2178000211715698, 1.342900037765503, 1.2788000106811523, 1.7747000455856323, 1.2676000595092773, 1.7249000072479248, 1.6618000268936157, 1.1855000257492065, 1.1965999603271484, 0.618399977684021, 1.5664000511169434, 1.2460999488830566, 0.7318999767303467, 1.1368000507354736, 0.8741999864578247, 0.2596000134944916, 0.8693000078201294, 0.1737000048160553, 0.7642999887466431, 1.1267999410629272, -0.17270000278949738, -0.012199999764561653, -0.039500001817941666, 0.25690001249313354, 0.43939998745918274, 0.17080000042915344, 0.9871000051498413, 1.0368000268936157, 0.08669999986886978, 0.3564999997615814, -0.35190001130104065, 0.3411000072956085, 0.44699999690055847, 0.6915000081062317, 0.21979999542236328, 0.33079999685287476, 2.7959001064300537, 2.755500078201294, 2.7098000049591064, 2.703700065612793, 2.674999952316284, 2.6568000316619873, 2.5931999683380127, 2.572000026702881, 2.5539000034332275, 2.4637999534606934, 2.4242000579833984, 2.3705999851226807, 2.3561999797821045, 2.3531999588012695, 2.2695999145507812, 2.256500005722046, 2.2416000366210938, 2.2314999103546143, 2.2084999084472656, 2.194499969482422, 2.176100015640259, 2.1486001014709473, 2.1458001136779785, 2.1389000415802, 2.1259000301361084, 2.12280011177063, 2.102799892425537, 2.100399971008301, 2.0943000316619873, 2.091399908065796, 2.0604000091552734, 1.8381999731063843, 2.0000998973846436, 2.0276999473571777, 1.9048999547958374, 1.9010000228881836, 1.7998000383377075, 1.812399983406067, 1.5568000078201294, 1.5500999689102173, 1.0916999578475952, 1.086300015449524, 1.6440999507904053, 1.7502000331878662, 1.0679999589920044, 0.6926000118255615, 1.822700023651123, 0.9621999859809875, 1.156599998474121, 0.8593999743461609, 0.8848999738693237, 0.7889000177383423, 0.18950000405311584, 0.5127999782562256, 0.25209999084472656, 0.29190000891685486, 1.083899974822998, 0.023399999365210533, 0.5726000070571899, 0.7710999846458435, 0.39809998869895935, -0.13760000467300415, -0.1906999945640564, 0.1574999988079071, 0.5034000277519226, 0.18709999322891235, 0.0012000000569969416, 0.54339998960495, 4.152200222015381, 3.809499979019165, 3.777400016784668, 3.712899923324585, 3.5485999584198, 3.5199999809265137, 3.1454999446868896, 3.0355000495910645, 2.9286999702453613, 2.852799892425537, 2.7018001079559326, 2.660900115966797, 2.6249001026153564, 2.5436999797821045, 2.484299898147583, 2.468400001525879, 2.4572999477386475, 2.424999952316284, 2.400899887084961, 2.3998000621795654, 2.398699998855591, 2.3757998943328857, 2.3745999336242676, 2.3552000522613525, 2.3529000282287598, 2.334700107574463, 2.328700065612793, 2.325700044631958, 2.3169000148773193, 2.275899887084961, 1.9874999523162842, 2.2564001083374023, 2.111799955368042, 2.2255001068115234, 1.9404000043869019, 1.8257999420166016, 2.2302000522613525, 1.4189000129699707, 1.8947999477386475, 1.941100001335144, 1.444599986076355, 1.4256999492645264, 0.6823999881744385, 0.30219998955726624, 1.4459999799728394, 0.4706999957561493, 0.5087000131607056, 0.9567000269889832, 0.1898999959230423, 0.24899999797344208, -0.2574000060558319, 1.2661000490188599, -0.19259999692440033, 1.2280999422073364, 0.7106000185012817, 1.173799991607666, 2.7348999977111816, 2.72979998588562, 2.686199903488159, 2.6670000553131104, 2.5225000381469727, 2.4932000637054443, 2.471100091934204, 2.4665000438690186, 2.463399887084961, 2.3966000080108643, 2.355799913406372, 2.3494999408721924, 2.338099956512451, 2.326200008392334, 2.3192999362945557, 2.309999942779541, 2.2981998920440674, 2.291100025177002, 2.279400110244751, 2.2493999004364014, 2.244800090789795, 2.2172000408172607, 2.211899995803833, 2.19350004196167, 2.1577999591827393, 2.1559998989105225, 2.1524999141693115, 2.14520001411438, 2.124500036239624, 2.1101999282836914, 1.992799997329712, 2.0457000732421875, 1.8203999996185303, 1.7194000482559204, 1.4086999893188477, 1.5115000009536743, 1.8711999654769897, 1.274399995803833, 1.6081000566482544, 1.3483999967575073, 0.7675999999046326, 1.7892999649047852, 0.5947999954223633, 0.9944999814033508, 1.1958999633789062, 0.26420000195503235, 1.5843000411987305, 0.3001999855041504, 0.6621000170707703, 0.1858000010251999, 0.6281999945640564, 0.7534000277519226, 1.193600058555603, 0.7310000061988831, 0.2827000021934509, 0.4097000062465668, -0.07829999923706055, 1.2654000520706177, 0.8938000202178955, 0.15189999341964722, 0.16300000250339508, 1.1088999509811401, -0.4514000117778778, 0.4383000135421753, 0.5235999822616577, 0.4399999976158142, 0.328000009059906, 3.4625000953674316, 3.3738999366760254, 3.3271000385284424, 3.1594998836517334, 3.1422998905181885, 3.120800018310547, 3.0950000286102295, 3.0501999855041504, 3.008699893951416, 3.0065999031066895, 2.983099937438965, 2.9484000205993652, 2.9310998916625977, 2.925299882888794, 2.905600070953369, 2.854300022125244, 2.841200113296509, 2.767899990081787, 2.753200054168701, 2.720599889755249, 2.713900089263916, 2.6630001068115234, 2.6317999362945557, 2.5766000747680664, 2.543800115585327, 2.5329999923706055, 2.510999917984009, 2.484100103378296, 2.4772000312805176, 2.467900037765503, 2.305500030517578, 2.372499942779541, 2.3447999954223633, 2.3540000915527344, 2.1944000720977783, 1.8624000549316406, 2.1865999698638916, 2.15939998626709, 2.098099946975708, 2.159600019454956, 1.2021000385284424, 0.4950000047683716, 1.9960999488830566, 0.5213000178337097, -0.06030000001192093, 0.43380001187324524, 1.1405999660491943, 1.4593000411987305, 0.946399986743927, -0.037700001150369644, 1.2280000448226929, -0.1761000007390976, -0.34200000762939453, -0.3984000086784363, 0.4837999939918518, 3.1654000282287598, 3.1489999294281006, 3.1482999324798584, 2.9971001148223877, 2.9735000133514404, 2.9403998851776123, 2.91729998588562, 2.9091999530792236, 2.8664000034332275, 2.7564001083374023, 2.740000009536743, 2.722399950027466, 2.7098000049591064, 2.7070000171661377, 2.706399917602539, 2.691800117492676, 2.6714999675750732, 2.6658999919891357, 2.6582999229431152, 2.6470999717712402, 2.6468000411987305, 2.6440000534057617, 2.6428000926971436, 2.639699935913086, 2.620300054550171, 2.6089999675750732, 2.5764000415802, 2.572999954223633, 2.5483999252319336, 2.547600030899048, 2.3984999656677246, 2.3245999813079834, 2.4925999641418457, 2.182800054550171, 2.398400068283081, 1.8712999820709229, 2.087399959564209, 2.2995998859405518, 2.251800060272217, 2.252000093460083, 1.6885000467300415, 1.187600016593933, 2.1321001052856445, 2.1201000213623047, 1.1059999465942383, 1.3422000408172607, 0.32330000400543213, 1.2323999404907227, 0.7529000043869019, 0.28299999237060547, 0.5580000281333923, 0.33399999141693115, 1.5794999599456787, 0.6367999911308289, 1.4473999738693237, 0.03720000013709068, 0.699999988079071, 1.5163999795913696, 1.5119999647140503, 0.2856999933719635, 1.4362000226974487, 0.2273000031709671, -0.08100000023841858, 1.3183000087738037, 0.4296000003814697, 0.3456999957561493, -0.22460000216960907, 0.45080000162124634, 0.2766999900341034, 0.8324999809265137], \"logprob\": [30.0, 29.0, 28.0, 27.0, 26.0, 25.0, 24.0, 23.0, 22.0, 21.0, 20.0, 19.0, 18.0, 17.0, 16.0, 15.0, 14.0, 13.0, 12.0, 11.0, 10.0, 9.0, 8.0, 7.0, 6.0, 5.0, 4.0, 3.0, 2.0, 1.0, -5.564700126647949, -4.414299964904785, -4.605400085449219, -5.969600200653076, -5.504000186920166, -6.315199851989746, -6.5945000648498535, -6.451900005340576, -6.081299781799316, -5.430099964141846, -7.07390022277832, -6.980400085449219, -7.357900142669678, -7.315700054168701, -7.923399925231934, -5.360300064086914, -7.435299873352051, -7.809599876403809, -6.422100067138672, -5.453199863433838, -8.017900466918945, -6.748899936676025, -8.038800239562988, -7.922599792480469, -7.583399772644043, -7.92579984664917, -8.004599571228027, -7.7017998695373535, -7.870999813079834, -8.224499702453613, -7.774600028991699, -4.935699939727783, -6.305300235748291, -7.270899772644043, -7.196300029754639, -7.513899803161621, -5.968400001525879, -7.09499979019165, -5.22760009765625, -6.1006999015808105, -5.765100002288818, -6.68120002746582, -5.7104997634887695, -5.896999835968018, -5.83650016784668, -6.058800220489502, -5.2453999519348145, -5.036499977111816, -5.13700008392334, -5.598999977111816, -5.101600170135498, -5.894899845123291, -5.527500152587891, -5.5254998207092285, -5.282700061798096, -5.6392998695373535, -5.406799793243408, -5.7505998611450195, -5.57450008392334, -5.732100009918213, -5.477399826049805, -5.654699802398682, -5.671299934387207, -5.803599834442139, -5.733500003814697, -5.819499969482422, -5.700699806213379, -4.766600131988525, -6.598899841308594, -4.6371002197265625, -4.978600025177002, -3.9725000858306885, -5.320499897003174, -6.786600112915039, -6.343599796295166, -4.7743000984191895, -5.664999961853027, -6.239099979400635, -6.658899784088135, -6.841700077056885, -7.116700172424316, -5.921899795532227, -7.271299839019775, -7.157299995422363, -6.52239990234375, -7.322299957275391, -4.546500205993652, -5.358099937438965, -6.3881001472473145, -7.451399803161621, -6.232100009918213, -7.282800197601318, -7.536300182342529, -7.395299911499023, -7.697999954223633, -7.912600040435791, -7.586999893188477, -5.454100131988525, -5.211699962615967, -6.499599933624268, -4.740900039672852, -4.260900020599365, -5.247499942779541, -4.9934000968933105, -4.811100006103516, -5.437300205230713, -5.167399883270264, -4.879199981689453, -4.896699905395508, -5.436299800872803, -4.863100051879883, -5.412899971008301, -5.589700222015381, -5.193299770355225, -5.356299877166748, -5.373499870300293, -5.504000186920166, -5.412700176239014, -5.357800006866455, -5.4334001541137695, -5.5584001541137695, -6.230800151824951, -5.8734002113342285, -5.910900115966797, -6.9679999351501465, -6.769899845123291, -6.6255998611450195, -7.302299976348877, -5.648799896240234, -7.065199851989746, -7.51140022277832, -6.538700103759766, -5.070300102233887, -6.040200233459473, -6.789599895477295, -5.540800094604492, -6.0802998542785645, -6.901100158691406, -6.53980016708374, -7.273099899291992, -6.015900135040283, -6.9039998054504395, -7.160200119018555, -6.569300174713135, -6.087399959564209, -7.299099922180176, -7.37939977645874, -7.005099773406982, -6.7118000984191895, -7.421500205993652, -7.642199993133545, -6.697400093078613, -6.503600120544434, -6.783299922943115, -5.121399879455566, -5.61929988861084, -6.212399959564209, -6.541500091552734, -6.74399995803833, -6.4197001457214355, -6.38070011138916, -6.410799980163574, -6.567699909210205, -5.843299865722656, -6.164100170135498, -4.753200054168701, -5.437600135803223, -5.073599815368652, -6.1645002365112305, -5.287300109863281, -5.565899848937988, -5.3053998947143555, -5.39870023727417, -5.718400001525879, -5.852200031280518, -5.679200172424316, -5.452199935913086, -5.763599872589111, -5.738699913024902, -5.504199981689453, -5.874000072479248, -5.887499809265137, -5.815999984741211, -5.776599884033203, -5.886499881744385, -5.918600082397461, -5.910600185394287, -5.945799827575684, -5.658199787139893, -5.684100151062012, -6.843599796295166, -6.621200084686279, -7.2581000328063965, -6.3566999435424805, -6.561399936676025, -6.1371002197265625, -7.422299861907959, -6.273499965667725, -4.90939998626709, -7.407700061798096, -6.829999923706055, -7.7332000732421875, -7.195700168609619, -6.286799907684326, -7.014400005340576, -7.838399887084961, -7.092800140380859, -6.78249979019165, -7.026899814605713, -7.003200054168701, -7.651400089263916, -7.377200126647949, -7.63670015335083, -7.560299873352051, -7.594299793243408, -7.7403998374938965, -6.128200054168701, -7.741099834442139, -6.957600116729736, -5.911099910736084, -5.800099849700928, -6.961900234222412, -7.220399856567383, -6.438600063323975, -6.868000030517578, -6.579899787902832, -6.247200012207031, -6.093299865722656, -5.258800029754639, -4.916800022125244, -4.798600196838379, -5.328199863433838, -5.494699954986572, -5.38539981842041, -5.651899814605713, -5.807600021362305, -5.315700054168701, -6.136199951171875, -5.43120002746582, -5.453199863433838, -4.870500087738037, -6.065800189971924, -5.355999946594238, -5.067599773406982, -5.496399879455566, -5.851500034332275, -5.399899959564209, -5.55649995803833, -5.431399822235107, -5.714399814605713, -5.4456000328063965, -5.390399932861328, -5.3856000900268555, -5.460299968719482, -5.590099811553955, -5.678400039672852, -5.572299957275391, -5.714099884033203, -5.6417999267578125, -4.154399871826172, -4.227700233459473, -5.639500141143799, -5.373899936676025, -5.696599960327148, -5.9334001541137695, -5.5381999015808105, -5.741300106048584, -6.434599876403809, -6.393199920654297, -4.935200214385986, -6.61269998550415, -3.7237000465393066, -6.90749979019165, -4.213399887084961, -5.17609977722168, -6.69350004196167, -6.3155999183654785, -5.298500061035156, -6.878699779510498, -7.331999778747559, -6.021100044250488, -5.86329984664917, -7.476600170135498, -7.58459997177124, -6.872200012207031, -6.7916998863220215, -7.5005998611450195, -7.141200065612793, -7.136099815368652, -6.164299964904785, -5.736199855804443, -6.397299766540527, -4.343699932098389, -6.443600177764893, -5.416500091552734, -5.14769983291626, -5.182199954986572, -4.689199924468994, -5.29580020904541, -5.114999771118164, -4.975500106811523, -5.469900131225586, -4.9756999015808105, -5.236199855804443, -5.1203999519348145, -5.30019998550415, -5.318399906158447, -5.467199802398682, -5.269700050354004, -5.251800060272217, -5.526800155639648, -5.547999858856201, -5.500699996948242, -5.583700180053711, -5.511199951171875, -4.51200008392334, -4.471399784088135, -5.707099914550781, -5.653500080108643, -6.013299942016602, -4.992499828338623, -4.767399787902832, -6.873899936676025, -6.164899826049805, -5.985400199890137, -7.07420015335083, -5.8094000816345215, -6.6743998527526855, -7.33459997177124, -4.832300186157227, -6.72790002822876, -6.518099784851074, -7.206099987030029, -7.769000053405762, -6.937099933624268, -7.650100231170654, -7.779699802398682, -7.64900016784668, -7.910900115966797, -7.548799991607666, -7.758399963378906, -7.430099964141846, -7.942599773406982, -7.621799945831299, -7.614999771118164, -7.230999946594238, -6.006700038909912, -5.62939977645874, -6.506899833679199, -6.103799819946289, -5.152699947357178, -6.427800178527832, -4.391900062561035, -5.417099952697754, -5.6819000244140625, -4.8282999992370605, -4.990200042724609, -4.942599773406982, -5.134099960327148, -5.047500133514404, -6.022200107574463, -5.498600006103516, -5.521100044250488, -5.540999889373779, -5.686399936676025, -5.644599914550781, -5.68779993057251, -5.256199836730957, -5.447000026702881, -5.541299819946289, -5.521900177001953, -5.569499969482422, -5.639400005340576, -5.629300117492676, -6.623700141906738, -6.639500141143799, -6.492800235748291, -6.715400218963623, -6.299300193786621, -6.3572001457214355, -6.503300189971924, -7.110499858856201, -6.402599811553955, -7.163700103759766, -6.607600212097168, -6.045599937438965, -6.990699768066406, -7.161200046539307, -7.183300018310547, -7.2657999992370605, -7.140900135040283, -6.88040018081665, -7.154900074005127, -7.194399833679199, -6.8130998611450195, -6.525400161743164, -7.182499885559082, -5.833499908447266, -7.278900146484375, -7.313600063323975, -7.3282999992370605, -6.192299842834473, -6.998000144958496, -7.313199996948242, -6.563600063323975, -6.034900188446045, -6.5447001457214355, -6.523099899291992, -6.657700061798096, -5.650300025939941, -6.371099948883057, -5.492599964141846, -4.7144999504089355, -6.091599941253662, -6.07859992980957, -6.553699970245361, -5.471799850463867, -5.9334001541137695, -4.832900047302246, -5.731599807739258, -5.721499919891357, -5.076399803161621, -5.188000202178955, -5.296899795532227, -5.292399883270264, -4.952099800109863, -5.377399921417236, -5.077899932861328, -5.203100204467773, -5.393400192260742, -5.468900203704834, -5.475800037384033, -5.577499866485596, -5.5883002281188965, -5.402699947357178, -5.617099761962891, -5.5304999351501465, -5.749499797821045, -5.895100116729736, -5.693699836730957, -5.4670000076293945, -5.637899875640869, -5.739500045776367, -5.590000152587891, -5.775400161743164, -5.751800060272217, -4.742400169372559, -5.488800048828125, -5.735099792480469, -5.514200210571289, -6.446100234985352, -6.8333001136779785, -6.5625, -7.042099952697754, -5.046500205993652, -7.178999900817871, -6.4878997802734375, -7.0243000984191895, -7.137199878692627, -6.717700004577637, -6.931600093841553, -7.40939998626709, -7.3958001136779785, -7.024600028991699, -7.532299995422363, -7.397799968719482, -7.278800010681152, -5.9019999504089355, -7.651500225067139, -5.806000232696533, -7.729599952697754, -6.242300033569336, -7.73330020904541, -7.020599842071533, -6.094399929046631, -7.42549991607666, -7.141300201416016, -6.989200115203857, -6.908699989318848, -6.781400203704834, -5.124100208282471, -5.117700099945068, -6.406599998474121, -6.222799777984619, -5.882699966430664, -4.765999794006348, -5.0381999015808105, -5.961100101470947, -4.785900115966797, -5.200399875640869, -5.8709001541137695, -5.723700046539307, -5.290999889373779, -5.115600109100342, -5.901599884033203, -6.081699848175049, -5.622600078582764, -5.324399948120117, -5.412199974060059, -5.705699920654297, -5.53879976272583, -5.513400077819824, -5.72189998626709, -5.814000129699707, -5.498000144958496, -5.581999778747559, -5.639599800109863, -5.832300186157227, -5.873300075531006, -5.16510009765625, -5.831200122833252, -6.125999927520752, -4.553999900817871, -3.650700092315674, -6.671599864959717, -6.52239990234375, -6.500999927520752, -6.4822998046875, -6.575300216674805, -6.523499965667725, -6.755300045013428, -5.250699996948242, -6.206299781799316, -7.010799884796143, -7.0295000076293945, -6.84499979019165, -7.190299987792969, -6.310200214385986, -6.743800163269043, -6.7170000076293945, -7.269199848175049, -7.120999813079834, -6.3024001121521, -7.146599769592285, -7.004499912261963, -6.933599948883057, -6.732100009918213, -6.552700042724609, -6.422800064086914, -6.658199787139893, -5.94320011138916, -6.505300045013428, -4.927199840545654, -6.262599945068359, -5.863999843597412, -6.047599792480469, -5.847599983215332, -5.1458001136779785, -5.785999774932861, -5.814599990844727, -5.680600166320801, -4.850299835205078, -5.769700050354004, -4.841899871826172, -5.1483001708984375, -5.417399883270264, -5.193399906158447, -5.462900161743164, -5.2881999015808105, -5.30019998550415, -5.724999904632568, -5.872300148010254, -5.747099876403809, -5.6057000160217285, -5.638299942016602, -5.513800144195557, -5.793000221252441, -5.67609977722168, -5.822700023651123, -5.739200115203857, -5.72599983215332, -5.7957000732421875, -5.784800052642822, -5.8053998947143555, -5.811699867248535, -6.267899990081787, -6.535099983215332, -6.062900066375732, -6.640999794006348, -6.714799880981445, -6.83620023727417, -6.333499908447266, -6.791500091552734, -6.526199817657471, -7.019100189208984, -6.712800025939941, -6.7399001121521, -7.0655999183654785, -6.864999771118164, -6.617199897766113, -6.652100086212158, -7.072199821472168, -7.131100177764893, -7.3206000328063965, -7.231299877166748, -6.753699779510498, -6.418499946594238, -7.105000019073486, -6.905200004577637, -7.032599925994873, -7.39870023727417, -6.819900035858154, -6.726099967956543, -6.260000228881836, -6.977099895477295, -6.156400203704834, -4.429800033569336, -6.214200019836426, -6.398200035095215, -4.378399848937988, -4.775700092315674, -4.752500057220459, -6.105599880218506, -4.8292999267578125, -5.984300136566162, -5.927000045776367, -5.395100116729736, -5.518599987030029, -4.807199954986572, -6.016499996185303, -5.689000129699707, -5.206099987030029, -5.660299777984619, -5.4552001953125, -5.025700092315674, -5.518599987030029, -5.021200180053711, -5.488500118255615, -5.75, -5.1834001541137695, -5.279099941253662, -5.289000034332275, -5.47760009765625, -5.558800220489502, -5.4847002029418945, -5.80709981918335, -5.8404998779296875, -5.529200077056885, -5.642600059509277, -5.471099853515625, -5.644700050354004, -5.673900127410889, -5.7546000480651855, -5.690499782562256, -5.7322998046875, -5.093800067901611, -6.595799922943115, -5.6809000968933105, -6.469600200653076, -6.501800060272217, -6.487599849700928, -5.780700206756592, -6.573400020599365, -6.857600212097168, -6.326000213623047, -6.013299942016602, -6.826000213623047, -6.803999900817871, -6.587500095367432, -6.711100101470947, -7.214900016784668, -6.874499797821045, -6.484799861907959, -7.2093000411987305, -6.814300060272217, -7.23330020904541, -6.782899856567383, -7.214399814605713, -7.1890997886657715, -7.235300064086914, -6.661399841308594, -6.588900089263916, -7.16349983215332, -7.218699932098389, -6.742099761962891, -6.281099796295166, -4.920899868011475, -6.345300197601318, -6.543600082397461, -6.222700119018555, -6.212699890136719, -6.003699779510498, -6.130799770355225, -5.646699905395508, -5.675099849700928, -4.880499839782715, -5.034599781036377, -5.931300163269043, -6.107100009918213, -5.1508002281188965, -4.938399791717529, -6.22629976272583, -5.334199905395508, -5.558599948883057, -5.321499824523926, -5.37470006942749, -5.463900089263916, -5.095799922943115, -5.3277997970581055, -5.173500061035156, -5.2052998542785645, -5.712600231170654, -5.226200103759766, -5.502600193023682, -5.7104997634887695, -5.599999904632568, -5.404399871826172, -5.385499954223633, -5.514800071716309, -5.657100200653076, -5.620800018310547, -5.654300212860107, -5.761300086975098, -4.447199821472168, -4.955399990081787, -4.694799900054932, -3.8749001026153564, -3.6991000175476074, -4.21589994430542, -4.822700023651123, -5.836999893188477, -5.795599937438965, -6.264200210571289, -5.719699859619141, -6.685699939727783, -6.806700229644775, -5.787700176239014, -6.355100154876709, -6.106299877166748, -6.196199893951416, -6.547500133514404, -5.545100212097168, -7.0370001792907715, -6.777299880981445, -6.890399932861328, -6.981900215148926, -6.9471001625061035, -7.081500053405762, -6.779799938201904, -6.149600028991699, -6.6774001121521, -6.813300132751465, -3.7655999660491943, -3.9688000679016113, -6.34119987487793, -5.710299968719482, -6.323400020599365, -5.347300052642822, -5.043700218200684, -6.4928998947143555, -4.654399871826172, -5.773600101470947, -5.91949987411499, -5.406499862670898, -5.514100074768066, -4.989799976348877, -4.81689977645874, -5.774899959564209, -5.276199817657471, -5.3317999839782715, -5.558499813079834, -5.307300090789795, -5.383900165557861, -5.268099784851074, -5.749599933624268, -5.618299961090088, -5.7519001960754395, -5.7418999671936035, -5.752600193023682, -6.693600177764893, -6.191999912261963, -6.253600120544434, -6.456299781799316, -6.474100112915039, -6.63670015335083, -6.884500026702881, -6.843599796295166, -6.667099952697754, -6.032299995422363, -6.861100196838379, -6.2621002197265625, -7.018400192260742, -7.150000095367432, -6.151700019836426, -6.631899833679199, -6.612599849700928, -6.909200191497803, -7.1433000564575195, -6.779399871826172, -6.747000217437744, -6.46019983291626, -7.142600059509277, -7.209400177001953, -6.491600036621094, -6.427800178527832, -6.297299861907959, -6.508299827575684, -6.2179999351501465, -7.145699977874756, -4.587699890136719, -6.395699977874756, -5.762499809265137, -5.448200225830078, -4.6645002365112305, -4.977200031280518, -6.105000019073486, -5.088900089263916, -5.747200012207031, -5.4822001457214355, -5.1427001953125, -6.186200141906738, -5.060800075531006, -5.487100124359131, -5.673600196838379, -5.020100116729736, -6.05109977722168, -5.125500202178955, -5.401000022888184, -5.081099987030029, -5.413300037384033, -5.4994001388549805, -5.806700229644775, -5.535299777984619, -5.313499927520752, -5.398099899291992, -5.273099899291992, -5.883200168609619, -5.741099834442139, -5.481100082397461, -5.583899974822998, -5.841700077056885, -5.462100028991699, -5.680200099945068, -5.707200050354004, -5.732600212097168, -5.7829999923706055, -5.38730001449585, -5.6880998611450195, -4.721199989318848, -6.089700222015381, -5.2399001121521, -5.638899803161621, -4.4878997802734375, -5.166800022125244, -6.119900226593018, -5.32889986038208, -4.7403998374938965, -6.094799995422363, -5.798399925231934, -5.505199909210205, -5.997700214385986, -6.2779998779296875, -6.459700107574463, -6.570099830627441, -6.660999774932861, -6.513299942016602, -6.320199966430664, -5.859399795532227, -5.998300075531006, -6.395899772644043, -6.779300212860107, -6.72629976272583, -6.160600185394287, -6.325099945068359, -6.66349983215332, -6.454999923706055, -4.848100185394287, -5.543900012969971, -5.562900066375732, -5.85230016708374, -5.3892998695373535, -4.672500133514404, -5.627799987792969, -5.613699913024902, -5.537399768829346, -5.690800189971924, -4.470099925994873, -4.624199867248535, -5.787399768829346, -5.0945000648498535, -5.071100234985352, -5.3130998611450195, -5.610599994659424, -5.708399772644043, -5.634099960327148, -5.534900188446045, -5.698400020599365, -5.601799964904785, -5.608799934387207, -5.6479997634887695, -5.682700157165527, -6.0971999168396, -6.098800182342529, -5.413400173187256, -6.09630012512207, -6.088500022888184, -6.094799995422363, -5.170599937438965, -5.695199966430664, -4.857100009918213, -6.093299865722656, -6.094299793243408, -6.758500099182129, -6.750400066375732, -6.093900203704834, -6.752900123596191, -6.7555999755859375, -6.760300159454346, -6.756800174713135, -6.7581000328063965, -6.761600017547607, -6.756100177764893, -6.0854997634887695, -6.088900089263916, -6.752299785614014, -6.757800102233887, -6.757400035858154, -6.75600004196167, -6.098299980163574, -6.0817999839782715, -6.7596001625061035, -4.999300003051758, -4.165200233459473, -6.094099998474121, -5.4166998863220215, -6.069499969482422, -5.185299873352051, -5.691100120544434, -6.097400188446045, -6.083700180053711, -6.0894999504089355, -5.4070000648498535, -4.843800067901611, -6.08489990234375, -6.094600200653076, -5.166200160980225, -5.408999919891357, -4.687399864196777, -5.400199890136719, -5.171899795532227, -4.983799934387207, -5.176499843597412, -5.163300037384033, -5.672900199890137, -5.362199783325195, -5.650300025939941, -5.157599925994873, -5.396900177001953, -5.676199913024902, -5.6946001052856445, -5.386499881744385, -5.701300144195557, -5.403800010681152, -5.365300178527832, -5.682000160217285, -5.606800079345703, -5.640100002288818, -5.650199890136719, -5.660099983215332, -5.661399841308594, -5.671599864959717]}, \"token.table\": {\"Topic\": [1, 2, 1, 3, 4, 5, 6, 8, 11, 12, 13, 1, 2, 3, 4, 5, 6, 7, 8, 10, 11, 13, 15, 1, 2, 3, 4, 5, 6, 8, 10, 11, 14, 1, 2, 3, 5, 11, 12, 15, 3, 4, 6, 7, 8, 10, 13, 14, 1, 2, 3, 5, 6, 7, 8, 10, 11, 12, 13, 14, 1, 2, 3, 4, 5, 6, 7, 8, 9, 10, 11, 12, 13, 14, 1, 2, 3, 4, 5, 6, 8, 11, 1, 2, 4, 6, 10, 1, 2, 3, 4, 5, 6, 7, 8, 9, 10, 11, 12, 14, 1, 2, 3, 5, 12, 1, 3, 4, 7, 8, 11, 3, 4, 5, 6, 7, 8, 11, 1, 2, 3, 4, 6, 7, 9, 11, 1, 2, 3, 4, 7, 12, 14, 1, 2, 3, 4, 6, 7, 8, 9, 13, 1, 2, 3, 4, 5, 9, 10, 1, 2, 3, 4, 5, 6, 7, 8, 9, 10, 11, 12, 13, 14, 15, 1, 2, 3, 4, 5, 7, 12, 13, 3, 9, 14, 15, 1, 2, 3, 4, 5, 6, 7, 8, 9, 10, 11, 12, 13, 14, 15, 3, 6, 7, 8, 9, 13, 1, 2, 3, 4, 5, 6, 8, 10, 14, 1, 3, 6, 7, 8, 13, 1, 2, 2, 3, 4, 6, 7, 9, 11, 1, 2, 3, 4, 5, 6, 7, 8, 9, 10, 11, 13, 14, 15, 1, 2, 3, 4, 5, 6, 7, 8, 10, 11, 12, 13, 3, 4, 6, 7, 8, 9, 13, 15, 1, 2, 3, 4, 5, 6, 7, 8, 9, 10, 11, 14, 15, 1, 2, 5, 6, 9, 12, 1, 2, 3, 4, 5, 6, 7, 8, 9, 10, 12, 13, 14, 1, 2, 5, 12, 4, 10, 11, 1, 3, 4, 8, 1, 2, 3, 4, 5, 6, 7, 8, 9, 10, 11, 12, 13, 14, 3, 6, 9, 14, 15, 1, 2, 5, 2, 3, 4, 5, 6, 7, 8, 9, 10, 13, 14, 3, 4, 7, 8, 10, 13, 1, 2, 3, 4, 5, 6, 7, 8, 9, 13, 14, 1, 3, 4, 5, 7, 8, 10, 14, 1, 2, 3, 4, 5, 7, 10, 11, 12, 1, 2, 3, 4, 5, 6, 8, 11, 3, 4, 6, 7, 9, 15, 1, 5, 12, 1, 2, 3, 4, 5, 6, 8, 11, 1, 2, 3, 4, 6, 7, 8, 11, 13, 14, 15, 2, 3, 4, 5, 6, 7, 8, 10, 13, 1, 2, 3, 4, 7, 8, 9, 13, 14, 1, 2, 3, 4, 5, 6, 7, 8, 9, 10, 11, 3, 4, 7, 8, 3, 4, 6, 7, 11, 1, 4, 7, 8, 14, 3, 4, 6, 7, 9, 15, 1, 2, 3, 4, 5, 6, 7, 8, 9, 10, 11, 12, 14, 15, 1, 2, 10, 1, 2, 3, 4, 5, 6, 7, 8, 9, 10, 11, 12, 13, 14, 15, 1, 2, 3, 4, 7, 1, 2, 3, 5, 6, 8, 11, 14, 15, 4, 6, 8, 11, 13, 2, 3, 4, 6, 7, 8, 11, 1, 2, 3, 5, 12, 3, 9, 14, 2, 3, 4, 7, 11, 14, 1, 2, 4, 5, 10, 12, 14, 1, 3, 4, 6, 11, 14, 1, 2, 3, 7, 8, 9, 1, 5, 8, 12, 1, 2, 3, 4, 5, 1, 2, 3, 4, 5, 6, 7, 8, 9, 10, 11, 14, 15, 3, 4, 6, 8, 15, 1, 2, 3, 4, 5, 6, 7, 8, 9, 10, 11, 12, 14, 1, 2, 5, 8, 9, 1, 2, 1, 3, 4, 7, 9, 10, 11, 14, 1, 2, 3, 4, 6, 7, 8, 9, 11, 14, 3, 6, 7, 8, 9, 13, 15, 2, 3, 4, 6, 7, 8, 9, 1, 3, 4, 5, 7, 8, 2, 4, 7, 8, 10, 11, 13, 2, 3, 4, 6, 7, 8, 9, 11, 1, 3, 4, 7, 8, 10, 2, 1, 2, 5, 12, 1, 2, 3, 4, 5, 6, 12, 13, 14, 1, 2, 3, 4, 5, 6, 7, 8, 9, 10, 11, 12, 13, 14, 15, 1, 2, 3, 8, 12, 1, 2, 3, 5, 12, 15, 1, 3, 4, 5, 6, 7, 8, 9, 11, 1, 2, 3, 4, 5, 6, 8, 10, 11, 14, 1, 2, 3, 5, 1, 2, 3, 4, 6, 8, 10, 11, 2, 3, 4, 5, 6, 8, 9, 10, 14, 1, 4, 5, 6, 8, 15, 3, 4, 6, 7, 9, 14, 1, 3, 4, 8, 11, 4, 6, 7, 10, 11, 14, 2, 3, 4, 6, 7, 13, 15, 1, 2, 3, 5, 6, 7, 8, 9, 12, 15, 1, 2, 3, 4, 5, 6, 7, 8, 9, 11, 12, 13, 3, 4, 6, 7, 13, 3, 6, 7, 8, 10, 11, 3, 4, 5, 6, 7, 8, 13, 14, 15, 2, 3, 4, 7, 10, 14, 3, 4, 6, 7, 1, 2, 3, 5, 12, 4, 6, 7, 8, 10, 13, 1, 2, 3, 4, 5, 6, 7, 8, 9, 10, 11, 13, 14, 15, 1, 5, 11, 1, 1, 2, 3, 4, 5, 6, 7, 8, 9, 11, 12, 13, 14, 1, 2, 3, 4, 5, 6, 8, 11, 12, 13, 1, 2, 3, 4, 5, 6, 7, 8, 9, 10, 11, 12, 13, 14, 15, 3, 4, 7, 14, 1, 2, 3, 4, 5, 6, 7, 8, 9, 10, 11, 12, 13, 14, 1, 2, 3, 4, 5, 6, 7, 8, 9, 10, 11, 12, 13, 1, 2, 3, 4, 5, 6, 7, 8, 9, 10, 11, 13, 15, 3, 6, 10, 14, 3, 9, 14, 15, 2, 3, 4, 6, 7, 8, 9, 10, 3, 4, 6, 7, 13, 4, 6, 8, 2, 3, 4, 5, 6, 7, 8, 9, 10, 11, 13, 3, 4, 6, 7, 10, 11, 14, 1, 2, 3, 4, 5, 6, 12, 3, 15, 1, 2, 3, 6, 1, 2, 3, 4, 5, 6, 7, 8, 11, 1, 2, 3, 4, 5, 6, 10, 3, 4, 6, 7, 11, 1, 2, 3, 8, 1, 3, 4, 6, 7, 8, 9, 1, 2, 1, 2, 3, 4, 5, 6, 7, 8, 9, 10, 11, 12, 14, 3, 4, 6, 7, 9, 1, 2, 3, 6, 7, 8, 9, 13, 14, 15, 2, 3, 4, 6, 7, 13, 15, 1, 2, 3, 4, 6, 7, 8, 10, 11, 13, 1, 2, 3, 4, 5, 6, 7, 8, 9, 10, 12, 13, 14, 1, 2, 3, 4, 5, 6, 8, 10, 12, 14, 15, 1, 2, 3, 4, 6, 9, 13, 15, 1, 4, 5, 6, 7, 8, 10, 11, 1, 2, 3, 4, 5, 6, 7, 8, 9, 10, 14, 15, 1, 2, 3, 4, 5, 7, 8, 10, 11, 1, 3, 6, 9, 1, 2, 5, 11, 1, 2, 4, 5, 11, 12, 1, 2, 3, 4, 5, 7, 12, 14, 1, 2, 6, 8, 9, 3, 6, 8, 9, 15, 1, 2, 3, 5, 6, 8, 9, 3, 6, 8, 9, 10, 15, 1, 2, 3, 6, 8, 9, 11, 12, 14, 1, 2, 3, 5, 1, 2, 3, 1, 2, 3, 4, 5, 6, 7, 8, 10, 11, 13, 2, 3, 4, 6, 7, 8, 9, 14, 15, 1, 2, 1, 2, 3, 4, 5, 13, 14, 1, 2, 3, 4, 6, 8, 15, 3, 4, 9, 14, 15, 1, 2, 4, 5, 7, 8, 9, 11, 12, 1, 2, 3, 4, 8, 3, 3, 6, 8, 9, 10, 14, 15, 1, 2, 3, 4, 5, 6, 7, 8, 9, 10, 11, 12, 13, 14, 15, 1, 2, 4, 5, 7, 8, 10, 1, 3, 4, 5, 6, 8, 11, 13, 14, 1, 3, 6, 10, 11, 1, 2, 4, 5, 6, 7, 8, 12, 13, 1, 2, 3, 4, 5, 6, 7, 8, 9, 10, 11, 1, 2, 3, 4, 5, 6, 7, 8, 10, 11, 12, 1, 2, 3, 4, 6, 7, 8, 9, 10, 14, 1, 2, 3, 5, 12, 14, 1, 2, 3, 4, 5, 6, 7, 8, 9, 10, 11, 12, 13, 15, 1, 2, 3, 4, 5, 6, 7, 8, 9, 10, 11, 12, 13, 14, 15, 4, 8, 10, 13, 14, 1, 2, 3, 4, 5, 6, 7, 8, 9, 10, 11, 12, 13, 14, 15, 1, 2, 3, 4, 6, 7, 8, 9, 10, 13, 14, 2, 4, 6, 10, 13, 1, 2, 3, 4, 6, 8, 9, 10, 11, 1, 2, 3, 4, 5, 7, 8, 9, 11, 13, 1, 2, 3, 4, 5, 6, 7, 8, 9, 11, 12, 13, 14, 1, 3, 4, 6, 13, 15, 1, 2, 3, 4, 5, 6, 7, 8, 9, 10, 11, 12, 13, 14, 15, 1, 2, 3, 4, 5, 6, 7, 8, 9, 10, 14, 15, 1, 2, 3, 4, 5, 6, 7, 8, 9, 10, 11, 12, 15, 2, 3, 4, 6, 7, 8, 10, 11, 1, 2, 3, 4, 5, 6, 7, 8, 9, 10, 11, 12, 13, 14, 15, 1, 2, 3, 4, 5, 6, 7, 8, 9, 10, 11, 13, 14, 1, 2, 3, 4, 5, 6, 7, 8, 9, 10, 11, 12, 13, 14, 1, 2, 3, 7, 9, 14, 1, 2, 3, 4, 6, 7, 8, 9, 11, 13, 1, 2, 3, 4, 5, 6, 7, 8, 9, 10, 11, 1, 2, 3, 4, 5, 8, 10, 12, 14, 1, 5, 2, 3, 4, 5, 8, 9, 14, 3, 4, 6, 7, 8, 1, 2, 3, 4, 6, 8, 9, 10, 1, 2, 3, 4, 5, 6, 9, 11, 15, 1, 2, 3, 4, 5, 6, 7, 8, 9, 10, 11, 12, 13, 1, 3, 4, 10, 12, 1, 2, 3, 4, 6, 7, 8, 9, 1, 2, 3, 4, 6, 7, 8, 9, 11, 14, 4, 7, 14, 1, 2, 3, 4, 5, 6, 7, 8, 9, 12, 13, 15, 1, 5, 14, 1, 2, 4, 6, 7, 8, 12, 4, 8, 10, 11, 2, 3, 6, 7, 14, 1, 2, 3, 4, 5, 6, 7, 8, 9, 1, 3, 4, 6, 7, 11, 13, 14, 1, 2, 3, 4, 5, 6, 7, 8, 10, 11, 13, 14, 1, 3, 4, 5, 11, 3, 4, 6, 7, 8, 9, 3, 4, 6, 7, 9, 13, 3, 6, 7, 13, 15, 1, 4, 5, 7, 11, 3, 4, 7, 8, 10, 2, 3, 4, 6, 7, 9, 12, 1, 2, 3, 4, 5, 6, 7, 8, 9, 10, 11, 1, 2, 4, 6, 7, 8, 9, 14, 3, 4, 6, 7, 13, 15, 1, 2, 3, 4, 5, 6, 7, 8, 9, 10, 11, 12, 13, 14, 15, 1, 2, 3, 4, 5, 6, 7, 8, 9, 10, 11, 12, 13, 14, 1, 2, 3, 4, 6, 7, 8, 11, 12, 13, 1, 2, 3, 4, 6, 7, 8, 13, 14, 15, 1, 2, 3, 4, 6, 7, 8, 13, 2, 3, 4, 6, 7, 11, 13, 15, 1, 2, 3, 4, 5, 6, 7, 8, 9, 10, 11, 12, 13, 14, 15, 3, 4, 7, 8, 9, 10, 14, 1, 2, 3, 4, 5, 6, 7, 13, 14, 1, 2, 4, 7, 8, 14, 1, 2, 3, 4, 5, 6, 7, 8, 10, 11, 13, 14, 1, 2, 3, 4, 5, 6, 7, 8, 9, 10, 11, 12, 13, 14, 15, 2, 3, 4, 5, 6, 7, 8, 10, 11, 12, 13, 14, 1, 2, 3, 4, 5, 6, 7, 8, 9, 10, 11, 13, 14, 15, 1, 2, 3, 4, 5, 6, 7, 8, 10, 11, 12, 13, 14, 1, 2, 3, 4, 5, 6, 8, 9, 1, 2, 8, 1, 3, 4, 5, 7, 10, 11, 1, 2, 3, 4, 5, 6, 7, 8, 9, 10, 11, 12, 13, 14, 15, 1, 2, 3, 4, 5, 6, 7, 8, 9, 10, 11, 12, 13, 14, 15, 1, 2, 3, 4, 5, 6, 7, 8, 9, 10, 11, 12, 13, 14, 1, 2, 3, 4, 5, 6, 7, 8, 9, 10, 11, 12, 13, 14, 15, 1, 2, 3, 4, 5, 6, 7, 8, 9, 10, 11, 13, 14, 15, 3, 4, 5, 6, 7, 8, 10, 11, 1, 2, 3, 4, 5, 6, 7, 8, 9, 10, 13, 3, 6, 8, 1, 2, 4, 11, 1, 5, 12, 1, 2, 1, 3, 4, 7, 8, 11, 14, 3, 4, 6, 8, 11, 13, 1, 2, 3, 4, 5, 6, 7, 8, 9, 10, 11, 12, 13, 15, 1, 2, 3, 5, 6, 8, 9, 10, 12, 1, 2, 3, 4, 5, 7, 1, 3, 4, 6, 7, 8, 13, 14, 15, 1, 2, 3, 4, 5, 6, 7, 8, 9, 10, 11, 12, 13, 15, 1, 2, 3, 4, 5, 6, 7, 8, 9, 10, 11, 12, 13, 14, 1, 3, 4, 7, 8, 9, 11, 15, 3, 4, 6, 7, 8, 13, 1, 2, 3, 4, 6, 7, 8, 12, 3, 7, 8, 1, 2, 5, 6, 3, 9, 14, 15, 1, 2, 3, 4, 5, 6, 7, 8, 15, 3, 4, 7, 9, 10, 15, 1, 2, 3, 4, 5, 6, 7, 8, 13, 1, 2, 3, 4, 6, 7, 8, 10, 11, 13, 1, 2, 4, 5, 6, 7, 9, 10, 11, 3, 4, 6, 7, 8, 9, 15, 1, 2, 3, 4, 5, 6, 8, 9, 13, 1, 2, 3, 4, 5, 6, 8, 12, 1, 2, 1, 2, 3, 4, 6, 9, 14, 1, 2, 5, 12, 1, 2, 3, 4, 5, 6, 7, 8, 9, 10, 11, 13, 3, 6, 14, 15, 1, 11, 1, 2, 3, 4, 5, 6, 7, 8, 9, 11, 13, 15, 3, 4, 6, 8, 10, 11, 1, 3, 4, 6, 7, 10, 13, 1, 2, 5, 6, 1, 2, 3, 4, 5, 6, 7, 8, 9, 10, 11, 12, 13, 14, 15, 1, 2, 8, 9, 1, 2, 3, 4, 5, 6, 7, 8, 9, 10, 11, 12, 13, 14, 15, 1, 2, 3, 5, 6, 7, 8, 9, 12, 14, 15, 1, 2, 3, 4, 5, 6, 8, 9, 10, 12, 13, 14, 1, 2, 3, 4, 5, 6, 7, 8, 9, 10, 11, 12, 13, 14, 1, 5, 6, 12, 2, 3, 4, 6, 7, 9, 10, 11, 13, 14, 15, 1, 2, 3, 4, 6, 7, 8, 10, 12, 3, 4, 6, 8, 1, 2, 3, 4, 5, 6, 7, 8, 9, 14, 15, 1, 2, 3, 4, 6, 7, 8, 9, 10, 11, 13, 14, 15, 3, 4, 6, 14, 15, 3, 4, 6, 7, 8, 1, 2, 3, 4, 6, 8, 9, 11, 12, 13, 15, 1, 2, 3, 4, 5, 6, 7, 8, 9, 11, 12, 14, 3, 8, 9, 14, 15, 1, 2, 3, 4, 6, 9, 2, 3, 4, 6, 8, 14, 15, 1, 2, 3, 4, 5, 6, 7, 8, 11, 13, 1, 2, 3, 4, 6, 7, 8, 10, 11, 15, 1, 2, 4, 5, 6, 7, 8, 15, 1, 2, 3, 4, 5, 6, 7, 8, 9, 10, 11, 12, 13, 14, 15, 1, 2, 3, 4, 5, 6, 7, 8, 9, 10, 11, 12, 13, 14, 15, 1, 2, 3, 4, 5, 6, 7, 8, 9, 10, 11, 12, 13, 14, 15, 1, 2, 3, 4, 6, 7, 8, 10, 1, 2, 3, 4, 5, 6, 7, 8, 9, 10, 11, 13, 14, 15, 1, 2, 3, 4, 5, 6, 7, 8, 9, 10, 11, 12, 13, 14, 15, 1, 2, 3, 4, 5, 6, 7, 8, 9, 10, 11, 13, 14, 15, 1, 2, 3, 4, 5, 6, 7, 8, 9, 10, 11, 14, 1, 2, 3, 5, 6, 8, 9, 10, 12, 15, 1, 4, 5, 1, 3, 4, 6, 7, 8, 10, 13, 14, 1, 3, 5, 7, 8, 1, 2, 3, 4, 5, 6, 7, 8, 9, 10, 11, 12, 13, 14, 15, 1, 5, 1, 2, 3, 4, 5, 6, 7, 8, 9, 10, 11, 12, 13, 14, 1, 2, 3, 4, 5, 6, 7, 8, 9, 10, 11, 12, 13, 14, 15, 1, 2, 3, 4, 5, 6, 8, 11, 13, 1, 2, 3, 4, 5, 6, 7, 8, 9, 10, 11, 13, 14, 15, 1, 2, 3, 4, 5, 6, 7, 8, 9, 10, 11, 13, 1, 3, 4, 6, 7, 13, 3, 4, 10, 1, 5, 12, 1, 2, 3, 4, 5, 6, 7, 8, 13, 15, 1, 5, 2, 3, 4, 6, 7, 8, 9, 12, 13, 14, 15, 3, 4, 6, 7, 8, 9, 10, 14, 15, 3, 14, 15, 1, 2, 4, 6, 1, 3, 5, 6, 8, 13, 1, 2, 3, 4, 5, 6, 7, 8, 9, 10, 11, 12, 13, 14, 15, 1, 2, 4, 5, 11, 1, 2, 3, 4, 5, 6, 7, 8, 9, 10, 12, 13, 14, 15, 1, 2, 9, 1, 3, 4, 5, 6, 7, 8, 13, 1, 3, 4, 6, 7, 9, 10, 13, 1, 2, 3, 4, 5, 6, 7, 8, 10, 11, 13, 14, 3, 6, 8, 1, 2, 3, 4, 5, 6, 8, 9, 10, 11, 12, 1, 2, 3, 4, 5, 6, 7, 8, 10, 12, 14, 15, 1, 5, 1, 2, 3, 4, 6, 9, 10, 1, 2, 3, 4, 5, 6, 7, 8, 9, 10, 11, 12, 14, 15, 1, 3, 4, 7, 8, 10, 3, 4, 5, 6, 7, 8, 13, 1, 2, 4, 5, 8, 11, 4, 12, 13, 1, 2, 3, 4, 5, 6, 7, 8, 9, 10, 11, 12, 13, 14, 15, 1, 2, 3, 5, 7, 8, 11, 1, 2, 3, 4, 5, 6, 7, 8, 9, 10, 11, 12, 13, 14, 15, 3, 6, 14, 1, 2, 3, 4, 5, 6, 7, 8, 9, 10, 11, 12, 13, 14, 15, 3, 6, 8, 9, 14, 3, 4, 6, 8, 9, 13, 14, 3, 4, 7, 8, 10, 14, 15, 1, 2, 3, 4, 6, 7, 8, 9, 10, 11, 14, 3, 4, 7, 8, 1, 7, 8, 1, 2, 3, 4, 5, 6, 7, 8, 9, 10, 11, 12, 13, 14, 1, 2, 3, 4, 6, 7, 8, 11, 13, 14, 15, 2, 3, 4, 6, 7, 13, 1, 3, 4, 6, 8, 9, 11, 13, 1, 2, 3, 4, 5, 6, 7, 8, 9, 10, 11, 14, 3, 9, 14, 15, 1, 3, 4, 7, 10, 14, 1, 5, 1, 2, 3, 4, 5, 6, 7, 8, 9, 10, 11, 13, 14, 15, 1, 3, 4, 6, 7, 8, 13, 15, 3, 4, 6, 7, 9, 10, 13, 1, 2, 3, 4, 6, 11, 14, 2, 3, 4, 6, 9, 1, 2, 3, 4, 6, 8, 11, 15, 1, 2, 1, 2, 3, 7, 8, 12, 1, 5, 1, 2, 3, 4, 5, 6, 7, 8, 9, 10, 11, 12, 13, 14, 15, 1, 2, 3, 4, 5, 6, 7, 8, 9, 10, 11, 12, 13, 14, 15, 1, 2, 3, 9, 14, 1, 2, 3, 6, 7, 8, 9, 10, 1, 3, 4, 8, 12, 1, 2, 3, 4, 5, 6, 7, 8, 9, 10, 11, 15, 1, 3, 4, 6, 11, 1, 2, 4, 5, 6, 9, 13, 1, 2, 3, 4, 5, 6, 7, 8, 9, 11, 12, 14, 1, 5, 8, 12, 1, 2, 3, 5, 6, 1, 2, 3, 5, 7, 8, 1, 2, 3, 4, 5, 6, 7, 8, 11, 12, 13, 14, 15, 3, 6, 14, 15, 1, 2, 3, 4, 5, 6, 7, 8, 9, 10, 11, 12, 13, 14, 15, 1, 2, 3, 4, 5, 6, 7, 8, 9, 11, 3, 6, 7, 8, 9, 14, 15, 3, 6, 7, 13, 15, 3, 6, 7, 8, 1, 5, 14, 3, 6, 7, 8, 9, 1, 2, 3, 5, 6, 8, 9, 11, 1, 3, 4, 5, 6, 12, 1, 2, 3, 4, 5, 8, 13, 14, 15, 1, 2, 1, 2, 3, 4, 6, 9, 14, 3, 6, 13, 1, 2, 3, 4, 6, 7, 8, 9, 14, 1, 2, 1, 2, 3, 4, 5, 6, 7, 8, 9, 11, 14, 1, 2, 3, 4, 6, 7, 8, 9, 11, 14, 1, 2, 3, 4, 5, 6, 7, 8, 9, 10, 11, 14, 15, 1, 2, 3, 4, 5, 6, 7, 8, 9, 11, 13, 1, 2, 3, 4, 5, 6, 7, 8, 9, 10, 11, 12, 13, 14, 1, 2, 3, 4, 5, 6, 7, 8, 9, 10, 12, 13, 1, 2, 3, 4, 5, 6, 12, 6, 1, 2, 3, 4, 7, 8, 1, 2, 4, 5, 8, 11, 1, 2, 3, 4, 6, 7, 9, 10, 14, 3, 4, 5, 6, 7, 8, 9, 13, 1, 2, 3, 4, 5, 6, 7, 8, 9, 10, 11, 12, 13, 14, 15, 1, 2, 3, 6, 7, 8, 10, 11, 13, 3, 4, 6, 7, 8, 1, 2, 3, 4, 5, 7, 8, 10, 2, 3, 4, 6, 7, 9, 1, 3, 4, 6, 7, 8, 10, 13, 14, 3, 4, 6, 7, 8, 9, 10, 15, 2, 3, 4, 7, 8, 14, 3, 6, 8, 9, 14, 1, 2, 3, 4, 5, 6, 8, 9, 13, 15, 1, 2, 3, 4, 5, 12, 1, 2, 3, 4, 6, 9, 13, 1, 2, 7, 8, 14, 1, 3, 4, 6, 7, 8, 9, 14, 3, 4, 6, 8, 9, 10, 15, 1, 2, 3, 4, 5, 6, 8, 10, 15, 3, 9, 14, 3, 4, 9, 14, 15, 3, 4, 5, 6, 7, 8, 10, 11, 1, 2, 4, 5, 6, 7, 8, 9, 10, 11, 13, 1, 2, 1, 2, 3, 5, 6, 7, 8, 9, 11, 12, 13, 4, 8, 11, 1, 3, 5, 1, 2, 3, 4, 5, 6, 8, 11, 1, 2, 3, 5, 6, 15, 1, 2, 3, 4, 5, 6, 7, 8, 9, 10, 11, 12, 1, 2, 3, 5, 8, 14, 1, 2, 3, 4, 5, 6, 8, 11, 1, 2, 3, 4, 6, 8, 9, 10, 3, 6, 1, 2, 3, 4, 5, 6, 7, 8, 9, 11, 13, 14, 1, 2, 3, 4, 5, 6, 7, 9, 10, 11, 14, 1, 2, 3, 4, 8, 9, 10, 11, 14, 15, 3, 4, 5, 6, 7, 8, 10, 2, 3, 4, 6, 7, 8, 9, 10, 13, 14, 1, 3, 9, 12, 14, 1, 2, 3, 4, 5, 6, 7, 8, 9, 10, 11, 12, 13, 14, 15, 1, 2, 3, 4, 5, 6, 8, 9, 10, 12, 14, 1, 2, 3, 4, 5, 6, 7, 8, 9, 10, 11, 13, 14, 1, 5, 12, 1, 2, 3, 4, 5, 6, 7, 8, 9, 10, 11, 12, 13, 14, 15, 1, 3, 4, 7, 8, 9, 10, 13, 14, 3, 4, 6, 7, 9, 1, 2, 3, 4, 7, 10, 13, 3, 4, 6, 7, 1, 2, 3, 4, 5, 6, 7, 8, 9, 10, 11, 12, 13, 14, 3, 4, 9, 13, 14, 1, 2, 5, 1, 2, 3, 4, 5, 6, 7, 8, 9, 10, 11, 12, 13, 14, 15, 2, 3, 4, 6, 7, 8, 9, 12, 13, 2, 3, 4, 6, 8, 9, 11, 13, 15, 1, 2, 3, 4, 6, 7, 8, 9, 10, 11, 13, 15, 2, 3, 4, 6, 8, 9, 10, 14, 15, 1, 2, 3, 4, 6, 7, 8, 10, 11, 14, 15, 1, 2, 4, 8, 1, 2, 3, 4, 5, 6, 7, 8, 9, 10, 11, 12, 13, 14, 15, 1, 2, 3, 4, 5, 6, 7, 10, 11, 1, 2, 3, 4, 5, 6, 7, 8, 9, 10, 11, 12, 13, 14, 15, 1, 2, 3, 4, 5, 6, 7, 8, 10, 11, 1, 2, 3, 4, 5, 6, 7, 8, 10, 11, 12, 13, 14, 2, 3, 4, 6, 7, 8, 9, 10, 13, 1, 2, 3, 4, 5, 6, 7, 8, 9, 10, 11, 12, 13, 14, 15, 1, 2, 5, 1, 2, 1, 4, 5, 7, 8, 11, 2, 3, 7, 9, 13, 3, 4, 5, 6, 7, 8, 10, 1, 2, 3, 4, 5, 6, 8, 11, 1, 2, 3, 4, 5, 6, 7, 8, 10, 11, 12, 13, 14, 1, 2, 3, 4, 5, 6, 7, 8, 10, 11, 12, 13, 1, 2, 3, 4, 5, 6, 8, 10, 11, 12, 1, 2, 3, 4, 6, 7, 8, 10, 11, 13, 14, 15, 1, 2, 3, 4, 5, 6, 7, 8, 9, 10, 11, 12, 13, 14, 1, 2, 3, 4, 5, 6, 7, 8, 9, 10, 13, 14, 1, 2, 3, 5, 6, 7, 12, 13, 1, 2, 3, 4, 6, 7, 8, 1, 2, 3, 4, 6, 7, 8, 13, 15, 3, 6, 7, 1, 2, 3, 5, 7, 8, 11, 1, 2, 3, 4, 5, 6, 7, 8, 9, 11, 1, 4, 6, 7, 8, 10, 11, 13, 14, 1, 2, 3, 4, 5, 6, 7, 8, 9, 11, 12, 13, 14, 1, 2, 3, 4, 5, 6, 7, 8, 9, 10, 11, 12, 13, 14, 15, 1, 2, 3, 4, 6, 7, 8, 9, 10, 13, 15, 1, 2, 3, 4, 5, 6, 7, 8, 9, 10, 13, 14, 15, 3, 4, 6, 7, 8, 13, 1, 2, 3, 4, 5, 6, 7, 8, 9, 12, 3, 6, 7, 8, 4, 6, 7, 8, 9, 10, 11, 13, 3, 4, 5, 6, 7, 8, 13, 1, 2, 1, 3, 6, 7, 13, 1, 2, 3, 4, 5, 6, 7, 8, 9, 10, 11, 13, 14, 15, 4, 6, 10, 1, 2, 3, 4, 5, 6, 7, 8, 9, 10, 11, 12, 13, 14, 1, 2, 3, 4, 5, 6, 7, 8, 9, 13, 1, 3, 4, 6, 7, 8, 9, 10, 14, 3, 4, 7, 8, 11, 1, 2, 3, 4, 6, 7, 8, 10, 11, 13, 14, 15, 1, 2, 3, 4, 6, 7, 8, 10, 1, 2, 3, 4, 5, 6, 7, 8, 9, 10, 11, 12, 1, 2, 1, 2, 1, 3, 4, 5, 6, 8, 10, 11, 12, 14, 3, 4, 6, 7, 8, 14, 1, 2, 3, 4, 5, 12, 14, 1, 3, 4, 6, 7, 8, 9, 13, 14, 1, 2, 3, 4, 5, 6, 7, 8, 9, 10, 12, 13, 14, 1, 2, 3, 4, 5, 6, 7, 8, 9, 11, 12, 13, 14, 1, 3, 4, 6, 7, 8, 10, 2, 3, 4, 6, 8, 10, 14, 1, 3, 4, 7, 8, 1, 2, 3, 4, 5, 6, 7, 8, 9, 10, 11, 12, 13, 1, 2, 3, 4, 6, 7, 8, 9, 13, 14, 1, 2, 3, 4, 6, 7, 1, 2, 4, 5, 6, 7, 8, 3, 4, 6, 7, 8, 13, 1, 2, 3, 4, 5, 6, 7, 8, 9, 10, 11, 12, 13, 1, 2, 3, 4, 5, 6, 7, 8, 9, 10, 11, 12, 13, 14, 15, 1, 2, 3, 4, 5, 6, 7, 8, 9, 10, 11, 12, 13, 14, 15, 4, 7, 8, 10, 13, 14, 1, 2, 3, 4, 5, 6, 7, 8, 9, 10, 11, 12, 13, 14, 15, 1, 2, 3, 4, 5, 6, 7, 8, 9, 10, 11, 12, 13, 14, 15, 4, 6, 8, 9, 10, 1, 2, 3, 4, 5, 6, 7, 8, 9, 10, 11, 12, 13, 14, 15, 3, 8, 15, 1, 2, 3, 4, 5, 6, 7, 8, 9, 10, 11, 12, 1, 2, 3, 4, 6, 7, 9, 10, 11, 13, 1, 2, 3, 4, 7, 8, 9, 10, 11, 12, 14, 1, 3, 4, 6, 7, 10, 11, 3, 4, 6, 9, 10, 11, 12, 13, 1, 2, 4, 5, 7, 1, 2, 3, 4, 5, 6, 7, 8, 9, 10, 11, 12, 13, 14, 15, 1, 2, 3, 5, 6, 9, 10, 11, 13, 3, 14, 1, 2, 1, 2, 6, 2, 3, 4, 5, 6, 8, 10, 11, 1, 4, 5, 6, 10, 11, 12, 14, 1, 2, 3, 4, 5, 6, 8, 11, 14, 1, 4, 7, 8, 10, 3, 4, 6, 7, 8, 9, 10, 11, 13, 14, 3, 6, 10, 13, 15, 3, 4, 6, 7, 9, 14, 2, 3, 4, 6, 7, 8, 10, 15, 1, 2, 3, 4, 5, 7, 8, 12, 14, 3, 4, 6, 8, 10, 14, 1, 2, 3, 4, 5, 6, 7, 8, 9, 10, 11, 12, 13, 14, 1, 2, 3, 4, 7, 8, 3, 6, 14, 15, 1, 2, 3, 4, 5, 6, 7, 8, 9, 10, 11, 12, 14, 3, 4, 6, 7, 8, 9, 10, 1, 2, 3, 4, 6, 7, 8, 10, 13, 14, 15, 1, 2, 3, 4, 5, 6, 7, 8, 9, 10, 11, 12, 13, 14, 1, 2, 3, 5, 6, 7, 8, 9, 10, 11, 13, 14, 1, 3, 4, 5, 6, 7, 8, 11, 13, 1, 2, 3, 4, 5, 6, 7, 8, 9, 10, 11, 12, 13, 14, 15, 1, 4, 5, 7, 9, 10, 1, 2, 5, 6, 8, 9, 1, 2, 3, 4, 5, 6, 7, 8, 10, 11, 1, 2, 3, 4, 6, 7, 8, 9, 10, 11, 12, 13, 14, 15, 1, 5, 12, 1, 2, 3, 4, 5, 6, 7, 8, 9, 10, 11, 12, 13, 1, 2, 3, 5, 7, 8, 11, 12, 1, 1, 2, 3, 4, 6, 7, 8, 10, 11, 12, 13, 15, 3, 4, 6, 7, 9, 1, 2, 3, 4, 5, 6, 7, 8, 9, 10, 11, 12, 13, 14, 15, 1, 2, 3, 4, 5, 6, 7, 8, 9, 10, 12, 1, 2, 6, 8, 9, 1, 2, 3, 4, 6, 7, 11, 1, 2, 3, 4, 5, 6, 7, 8, 9, 10, 11, 13, 14, 15, 1, 3, 4, 5, 6, 7, 8, 10, 11, 3, 4, 6, 7, 10, 1, 2, 3, 4, 5, 6, 7, 8, 9, 10, 11, 14, 2, 3, 4, 6, 7, 9, 15, 1, 2, 3, 4, 5, 6, 7, 8, 9, 10, 11, 12, 13, 14, 1, 2, 3, 4, 5, 6, 7, 8, 9, 10, 11, 12, 13, 14, 1, 2, 3, 4, 5, 8, 11, 12, 1, 2, 3, 5, 8, 12, 14, 15], \"Freq\": [0.030778037384152412, 0.9233411550521851, 0.21134985983371735, 0.18115702271461487, 0.2717355489730835, 0.09057851135730743, 0.030192837119102478, 0.030192837119102478, 0.060385674238204956, 0.09057851135730743, 0.030192837119102478, 0.31283101439476013, 0.09708549082279205, 0.1294473111629486, 0.07551093399524689, 0.1402345895767212, 0.09708549082279205, 0.021574553102254868, 0.03236182779073715, 0.010787276551127434, 0.05393638089299202, 0.010787276551127434, 0.010787276551127434, 0.21854504942893982, 0.0364241749048233, 0.32781755924224854, 0.0728483498096466, 0.0364241749048233, 0.0728483498096466, 0.0364241749048233, 0.0728483498096466, 0.10927252471446991, 0.0364241749048233, 0.25697195529937744, 0.15813657641410828, 0.25697195529937744, 0.1779036521911621, 0.019767072051763535, 0.07906828820705414, 0.019767072051763535, 0.02257031761109829, 0.6093985438346863, 0.007523438893258572, 0.08275783061981201, 0.007523438893258572, 0.05266407132148743, 0.05266407132148743, 0.15799221396446228, 0.23944556713104248, 0.1657700091600418, 0.14735111594200134, 0.18418890237808228, 0.018418889492750168, 0.036837778985500336, 0.036837778985500336, 0.018418889492750168, 0.018418889492750168, 0.09209445118904114, 0.018418889492750168, 0.018418889492750168, 0.5217630863189697, 0.10742181539535522, 0.11509480327367783, 0.03452844172716141, 0.08056636154651642, 0.026855453848838806, 0.026855453848838806, 0.04987441375851631, 0.0038364932406693697, 0.011509479954838753, 0.0038364932406693697, 0.0038364932406693697, 0.007672986481338739, 0.0038364932406693697, 0.6937764883041382, 0.11250430345535278, 0.018750716000795364, 0.018750716000795364, 0.11250430345535278, 0.018750716000795364, 0.018750716000795364, 0.018750716000795364, 0.6404179334640503, 0.037671640515327454, 0.07534328103065491, 0.15068656206130981, 0.07534328103065491, 0.0891190692782402, 0.1670982539653778, 0.27478379011154175, 0.13739189505577087, 0.05198612064123154, 0.055699415504932404, 0.10768553614616394, 0.02599306032061577, 0.011139883659780025, 0.0334196500480175, 0.007426588796079159, 0.018566472455859184, 0.011139883659780025, 0.7286829352378845, 0.03835173323750496, 0.07670346647500992, 0.07670346647500992, 0.03835173323750496, 0.08031012117862701, 0.04015506058931351, 0.24093036353588104, 0.4818607270717621, 0.04015506058931351, 0.08031012117862701, 0.1405082494020462, 0.18734434247016907, 0.04683608561754227, 0.23418042063713074, 0.1405082494020462, 0.1405082494020462, 0.09367217123508453, 0.1750793308019638, 0.1250566691160202, 0.2251019924879074, 0.2751246690750122, 0.02501133270561695, 0.075033999979496, 0.02501133270561695, 0.075033999979496, 0.07870704680681229, 0.03935352340340614, 0.11806056648492813, 0.6690098643302917, 0.01967676170170307, 0.03935352340340614, 0.01967676170170307, 0.0851651132106781, 0.397437185049057, 0.0851651132106781, 0.0851651132106781, 0.0851651132106781, 0.0567767396569252, 0.1135534793138504, 0.0283883698284626, 0.0851651132106781, 0.08222424238920212, 0.08222424238920212, 0.2055606096982956, 0.32889696955680847, 0.08222424238920212, 0.04111212119460106, 0.16444848477840424, 0.07190302014350891, 0.09669716656208038, 0.16364136338233948, 0.32232388854026794, 0.05454711988568306, 0.07190302014350891, 0.042150046676397324, 0.11901190131902695, 0.012397073209285736, 0.014876487664878368, 0.0024794144555926323, 0.012397073209285736, 0.004958828911185265, 0.004958828911185265, 0.0024794144555926323, 0.08865490555763245, 0.08865490555763245, 0.13298235833644867, 0.3989470601081848, 0.04432745277881622, 0.04432745277881622, 0.08865490555763245, 0.08865490555763245, 0.7247928977012634, 0.1358986645936966, 0.045299556106328964, 0.045299556106328964, 0.22220933437347412, 0.18590062856674194, 0.11473554372787476, 0.17282947897911072, 0.11473554372787476, 0.05954629182815552, 0.05373689904808998, 0.020332880318164825, 0.010166440159082413, 0.023237578570842743, 0.007261743303388357, 0.002904697321355343, 0.005809394642710686, 0.004357045982033014, 0.004357045982033014, 0.21419082581996918, 0.17135266959667206, 0.21419082581996918, 0.2998671531677246, 0.042838167399168015, 0.08567633479833603, 0.07583185285329819, 0.34665989875793457, 0.12999746203422546, 0.02166624367237091, 0.3683261573314667, 0.010833121836185455, 0.010833121836185455, 0.010833121836185455, 0.010833121836185455, 0.98136967420578, 0.05519869178533554, 0.8555797338485718, 0.02759934589266777, 0.013799672946333885, 0.041399020701646805, 0.006439418997615576, 0.9787916541099548, 0.14021317660808563, 0.04673772305250168, 0.28042635321617126, 0.04673772305250168, 0.28042635321617126, 0.09347544610500336, 0.09347544610500336, 0.1268678605556488, 0.1982310265302658, 0.1189386174082756, 0.1427263468503952, 0.0634339302778244, 0.1585848331451416, 0.0555046908557415, 0.0396462082862854, 0.0158584825694561, 0.00792924128472805, 0.00792924128472805, 0.0396462082862854, 0.02378772385418415, 0.00792924128472805, 0.14380474388599396, 0.16178034245967865, 0.16178034245967865, 0.11983729153871536, 0.12582916021347046, 0.07789424061775208, 0.10186169296503067, 0.023967457935214043, 0.005991864483803511, 0.011983728967607021, 0.011983728967607021, 0.04194305092096329, 0.5189136266708374, 0.006251971237361431, 0.1000315397977829, 0.1000315397977829, 0.012503942474722862, 0.21881899237632751, 0.006251971237361431, 0.03125985711812973, 0.07111503928899765, 0.05778096988797188, 0.05778096988797188, 0.49780529737472534, 0.017778759822249413, 0.0933384895324707, 0.12445132434368134, 0.017778759822249413, 0.013334070332348347, 0.013334070332348347, 0.008889379911124706, 0.004444689955562353, 0.017778759822249413, 0.6755366325378418, 0.10446442663669586, 0.1741073727607727, 0.013928589411079884, 0.013928589411079884, 0.006964294705539942, 0.027585871517658234, 0.018390581011772156, 0.30344459414482117, 0.22068697214126587, 0.03678116202354431, 0.05517174303531647, 0.10114819556474686, 0.11034348607063293, 0.03678116202354431, 0.018390581011772156, 0.009195290505886078, 0.018390581011772156, 0.05517174303531647, 0.03169512748718262, 0.002881375141441822, 0.9537351727485657, 0.008644125424325466, 0.9717882871627808, 0.0075332424603402615, 0.0075332424603402615, 0.7818614840507507, 0.08687350153923035, 0.04343675076961517, 0.04343675076961517, 0.1661931872367859, 0.27006393671035767, 0.10227272659540176, 0.11825284361839294, 0.11186079680919647, 0.08149857819080353, 0.02716619335114956, 0.08469460159540176, 0.00639204541221261, 0.014382102526724339, 0.0047940341755747795, 0.0047940341755747795, 0.0047940341755747795, 0.003196022706106305, 0.8358351588249207, 0.020895877853035927, 0.020895877853035927, 0.041791755706071854, 0.041791755706071854, 0.051793139427900314, 0.006093310657888651, 0.938369870185852, 0.016135670244693756, 0.18824946880340576, 0.4517987370491028, 0.005378556437790394, 0.03227134048938751, 0.199006587266922, 0.04840700700879097, 0.005378556437790394, 0.010757112875580788, 0.010757112875580788, 0.026892783120274544, 0.24050219357013702, 0.08016739785671234, 0.2805858850479126, 0.04008369892835617, 0.24050219357013702, 0.08016739785671234, 0.011148850433528423, 0.022297700867056847, 0.15608391165733337, 0.26757243275642395, 0.011148850433528423, 0.04459540173411369, 0.22297701239585876, 0.15608391165733337, 0.04459540173411369, 0.05574425309896469, 0.011148850433528423, 0.12347865849733353, 0.20579776167869568, 0.08231910318136215, 0.041159551590681076, 0.20579776167869568, 0.12347865849733353, 0.1646382063627243, 0.041159551590681076, 0.2087884247303009, 0.06959614157676697, 0.2435864955186844, 0.034798070788383484, 0.2087884247303009, 0.06959614157676697, 0.034798070788383484, 0.034798070788383484, 0.10439421236515045, 0.18712744116783142, 0.6884877681732178, 0.028245652094483376, 0.03177635744214058, 0.007061413023620844, 0.02118423953652382, 0.024714944884181023, 0.003530706511810422, 0.44463711977005005, 0.12703917920589447, 0.03175979480147362, 0.09527938812971115, 0.22231855988502502, 0.03175979480147362, 0.049066077917814255, 0.5397268533706665, 0.39252862334251404, 0.08784151822328568, 0.19032327830791473, 0.0732012614607811, 0.13176226615905762, 0.04392075911164284, 0.39528682827949524, 0.02928050607442856, 0.02928050607442856, 0.9863011837005615, 0.004291469231247902, 0.01287440862506628, 0.004291469231247902, 0.9140830039978027, 0.017165876924991608, 0.004291469231247902, 0.004291469231247902, 0.01287440862506628, 0.017165876924991608, 0.008582938462495804, 0.27855339646339417, 0.021427184343338013, 0.10713592171669006, 0.06428155303001404, 0.021427184343338013, 0.12856310606002808, 0.27855339646339417, 0.06428155303001404, 0.021427184343338013, 0.025483718141913414, 0.06370929628610611, 0.2930627465248108, 0.2930627465248108, 0.11467672884464264, 0.06370929628610611, 0.07645115256309509, 0.038225576281547546, 0.012741859070956707, 0.4283170998096466, 0.1623460054397583, 0.03108753263950348, 0.027633361518383026, 0.16580016911029816, 0.0069083403795957565, 0.03108753263950348, 0.12435013055801392, 0.0034541701897978783, 0.0034541701897978783, 0.013816680759191513, 0.4494176208972931, 0.13218164443969727, 0.026436330750584602, 0.37010863423347473, 0.2962925434112549, 0.14814627170562744, 0.259255975484848, 0.11110969632863998, 0.11110969632863998, 0.07444494217634201, 0.6700044870376587, 0.14888988435268402, 0.07444494217634201, 0.037222471088171005, 0.4507851302623749, 0.06935156136751175, 0.06935156136751175, 0.1387031227350235, 0.17337889969348907, 0.034675780683755875, 0.18667487800121307, 0.13099990785121918, 0.17357487976551056, 0.16047489643096924, 0.0785999447107315, 0.08514994382858276, 0.03929997235536575, 0.07532494515180588, 0.013099990785121918, 0.006549995392560959, 0.006549995392560959, 0.009824993088841438, 0.022924983873963356, 0.009824993088841438, 0.7174316048622131, 0.17935790121555328, 0.03587158024311066, 0.17771369218826294, 0.1619487702846527, 0.15334971249103546, 0.20494401454925537, 0.07309192419052124, 0.07595827430486679, 0.06879239529371262, 0.04012889787554741, 0.005732699763029814, 0.010032224468886852, 0.0042995247058570385, 0.0042995247058570385, 0.008599049411714077, 0.007165874820202589, 0.005732699763029814, 0.018844123929739, 0.9610503315925598, 0.07737819105386734, 0.804733157157898, 0.09285382926464081, 0.19668324291706085, 0.19668324291706085, 0.19668324291706085, 0.09834162145853043, 0.14751243591308594, 0.04917081072926521, 0.04917081072926521, 0.04917081072926521, 0.04917081072926521, 0.6269391775131226, 0.09899039566516876, 0.13198718428611755, 0.06599359214305878, 0.03299679607152939, 0.039865121245384216, 0.039865121245384216, 0.2391907274723053, 0.039865121245384216, 0.5182465314865112, 0.039865121245384216, 0.039865121245384216, 0.17388346791267395, 0.0075601511634886265, 0.0075601511634886265, 0.45360904932022095, 0.3553270995616913, 0.8662453293800354, 0.019249895587563515, 0.09624947607517242, 0.08693737536668777, 0.3187703788280487, 0.057958249002695084, 0.3477495014667511, 0.08693737536668777, 0.057958249002695084, 0.25473499298095703, 0.11321555823087692, 0.19812722504138947, 0.22643111646175385, 0.11321555823087692, 0.02830388955771923, 0.02830388955771923, 0.1723407357931137, 0.3446814715862274, 0.25851109623908997, 0.08617036789655685, 0.08617036789655685, 0.04308518394827843, 0.14383360743522644, 0.17979201674461365, 0.17979201674461365, 0.03595840185880661, 0.2517088055610657, 0.17979201674461365, 0.2892925441265106, 0.38572338223457336, 0.01753288134932518, 0.2892925441265106, 0.7300333380699158, 0.03041805699467659, 0.09125416725873947, 0.03041805699467659, 0.06083611398935318, 0.13042044639587402, 0.10701164603233337, 0.07357050478458405, 0.3243790566921234, 0.040129367262125015, 0.22405563294887543, 0.030097026377916336, 0.026752911508083344, 0.003344113938510418, 0.006688227877020836, 0.020064683631062508, 0.010032341815531254, 0.003344113938510418, 0.10467568784952164, 0.628054141998291, 0.17445947229862213, 0.034891895949840546, 0.034891895949840546, 0.12224320322275162, 0.043658286333084106, 0.06112160161137581, 0.25321805477142334, 0.008731657639145851, 0.034926630556583405, 0.12224320322275162, 0.10477989166975021, 0.14843817055225372, 0.034926630556583405, 0.034926630556583405, 0.017463315278291702, 0.008731657639145851, 0.013057678006589413, 0.9706207513809204, 0.004352559335529804, 0.004352559335529804, 0.004352559335529804, 0.21784678101539612, 0.7469032406806946, 0.048341233283281326, 0.21753555536270142, 0.1691943258047104, 0.29004740715026855, 0.048341233283281326, 0.1691943258047104, 0.048341233283281326, 0.024170616641640663, 0.02430378459393978, 0.06075946241617203, 0.6805059909820557, 0.02430378459393978, 0.06075946241617203, 0.01215189229696989, 0.02430378459393978, 0.04860756918787956, 0.02430378459393978, 0.0364556759595871, 0.7577123045921326, 0.07731758058071136, 0.10824462026357651, 0.015463517047464848, 0.015463517047464848, 0.015463517047464848, 0.015463517047464848, 0.015300845727324486, 0.2907160520553589, 0.32131776213645935, 0.03060169145464897, 0.03060169145464897, 0.2601143717765808, 0.04590253531932831, 0.05235710367560387, 0.026178551837801933, 0.3141426146030426, 0.20942841470241547, 0.026178551837801933, 0.3403211534023285, 0.03174743428826332, 0.698443591594696, 0.06349486857652664, 0.03174743428826332, 0.03174743428826332, 0.06349486857652664, 0.03174743428826332, 0.08898905664682388, 0.35595622658729553, 0.26696714758872986, 0.04449452832341194, 0.04449452832341194, 0.08898905664682388, 0.04449452832341194, 0.08898905664682388, 0.03863709047436714, 0.11591126769781113, 0.21250399947166443, 0.5602378249168396, 0.03863709047436714, 0.03863709047436714, 0.979006826877594, 0.04842381551861763, 0.005380423739552498, 0.6402704119682312, 0.2959233224391937, 0.7625003457069397, 0.11036188900470734, 0.010032898746430874, 0.03678729757666588, 0.04682019725441933, 0.013377198949456215, 0.0033442997373640537, 0.0033442997373640537, 0.010032898746430874, 0.12677082419395447, 0.20615068078041077, 0.09241237491369247, 0.2073354572057724, 0.08767328411340714, 0.0864885076880455, 0.07345598936080933, 0.06871689856052399, 0.010662966407835484, 0.014217289164662361, 0.007108644582331181, 0.005923870485275984, 0.005923870485275984, 0.0011847740970551968, 0.004739096388220787, 0.21946117281913757, 0.48281458020210266, 0.08778446912765503, 0.043892234563827515, 0.13167670369148254, 0.5137394070625305, 0.09340716898441315, 0.09340716898441315, 0.1868143379688263, 0.046703584492206573, 0.046703584492206573, 0.13230803608894348, 0.13230803608894348, 0.08820535242557526, 0.1764107048511505, 0.04410267621278763, 0.04410267621278763, 0.26461607217788696, 0.04410267621278763, 0.04410267621278763, 0.5724278092384338, 0.14524288475513458, 0.06834959238767624, 0.09398068487644196, 0.01708739809691906, 0.025631096214056015, 0.042718492448329926, 0.00854369904845953, 0.025631096214056015, 0.00854369904845953, 0.1953602135181427, 0.2735042870044708, 0.07814408093690872, 0.42979246377944946, 0.18852874636650085, 0.3299253284931183, 0.047132186591625214, 0.047132186591625214, 0.14139656722545624, 0.09426437318325043, 0.047132186591625214, 0.09426437318325043, 0.04351375252008438, 0.17405501008033752, 0.2175687700510025, 0.04351375252008438, 0.17405501008033752, 0.08702750504016876, 0.04351375252008438, 0.04351375252008438, 0.13054126501083374, 0.3894537687301636, 0.08654528111219406, 0.08654528111219406, 0.259635865688324, 0.08654528111219406, 0.04327264055609703, 0.6130125522613525, 0.058382149785757065, 0.029191074892878532, 0.11676429957151413, 0.11676429957151413, 0.029191074892878532, 0.7528303861618042, 0.012142426334321499, 0.07285455614328384, 0.1335666924715042, 0.012142426334321499, 0.21133457124233246, 0.21133457124233246, 0.39247849583625793, 0.03019065409898758, 0.03019065409898758, 0.09057196229696274, 0.03343688324093819, 0.2340581864118576, 0.06687376648187637, 0.534990131855011, 0.06687376648187637, 0.03343688324093819, 0.03343688324093819, 0.12716853618621826, 0.2034696638584137, 0.3815056085586548, 0.025433707982301712, 0.025433707982301712, 0.050867415964603424, 0.050867415964603424, 0.025433707982301712, 0.050867415964603424, 0.050867415964603424, 0.31370553374290466, 0.010817431844770908, 0.05408715829253197, 0.0324522964656353, 0.27043581008911133, 0.07572202384471893, 0.010817431844770908, 0.07572202384471893, 0.010817431844770908, 0.021634863689541817, 0.0973568856716156, 0.021634863689541817, 0.3386075496673584, 0.46173757314682007, 0.09234751760959625, 0.030782505869865417, 0.09234751760959625, 0.10225219279527664, 0.01022521872073412, 0.11247740685939789, 0.603287935256958, 0.02045043744146824, 0.14315307140350342, 0.20051832497119904, 0.12760256230831146, 0.018228938803076744, 0.40103664994239807, 0.03645787760615349, 0.09114468842744827, 0.03645787760615349, 0.018228938803076744, 0.03645787760615349, 0.020151346921920776, 0.14105942845344543, 0.664994478225708, 0.0806053876876831, 0.020151346921920776, 0.06045404076576233, 0.07117073237895966, 0.782878041267395, 0.03558536618947983, 0.07117073237895966, 0.26303428411483765, 0.006921954918652773, 0.0023073183838278055, 0.7198833227157593, 0.004614636767655611, 0.4171253442764282, 0.22752292454242706, 0.18960243463516235, 0.03792048618197441, 0.03792048618197441, 0.07584097236394882, 0.004343105014413595, 0.026058631017804146, 0.186753511428833, 0.373507022857666, 0.00868621002882719, 0.07817588746547699, 0.18241040408611298, 0.039087943732738495, 0.03040173463523388, 0.021715525537729263, 0.013029315508902073, 0.01737242005765438, 0.00868621002882719, 0.004343105014413595, 0.9690401554107666, 0.008317941799759865, 0.012476911768317223, 0.9660577178001404, 0.26420870423316956, 0.18820346891880035, 0.0760052427649498, 0.025335080921649933, 0.21715784072875977, 0.09410173445940018, 0.010857892222702503, 0.03981227055191994, 0.014477189630270004, 0.01809648610651493, 0.03619297221302986, 0.010857892222702503, 0.003619297407567501, 0.2898249328136444, 0.018114058300852776, 0.09962732344865799, 0.03622811660170555, 0.4619085192680359, 0.009057029150426388, 0.03622811660170555, 0.018114058300852776, 0.009057029150426388, 0.009057029150426388, 0.1887846738100052, 0.16448566317558289, 0.16822397708892822, 0.14766326546669006, 0.08037367463111877, 0.07476621121168137, 0.06542043387889862, 0.06074754521250725, 0.005607465747743845, 0.006542043294757605, 0.01214950904250145, 0.01028035394847393, 0.003738310420885682, 0.006542043294757605, 0.003738310420885682, 0.07621052861213684, 0.41915789246559143, 0.45726317167282104, 0.03810526430606842, 0.19190163910388947, 0.1507798582315445, 0.12679214775562286, 0.1439262330532074, 0.0719631165266037, 0.08224356174468994, 0.11651170998811722, 0.061682671308517456, 0.010280445218086243, 0.010280445218086243, 0.02741451933979988, 0.003426814917474985, 0.003426814917474985, 0.003426814917474985, 0.2616882920265198, 0.3975011706352234, 0.02153131365776062, 0.028156334534287453, 0.19543808698654175, 0.04637513682246208, 0.013250038959085941, 0.006625019479542971, 0.00496876472607255, 0.00496876472607255, 0.0016562548698857427, 0.0099375294521451, 0.00496876472607255, 0.032375723123550415, 0.07014740258455276, 0.18346244096755981, 0.16187863051891327, 0.032375723123550415, 0.12410694360733032, 0.29677748680114746, 0.03777167946100235, 0.021583816036581993, 0.010791908018290997, 0.005395954009145498, 0.016187861561775208, 0.005395954009145498, 0.5902495384216309, 0.2459373027086258, 0.09837491810321808, 0.04918745905160904, 0.8232293128967285, 0.05880209431052208, 0.05880209431052208, 0.02940104715526104, 0.009639107622206211, 0.6265420317649841, 0.009639107622206211, 0.08675196766853333, 0.04819554090499878, 0.14458662271499634, 0.028917323797941208, 0.028917323797941208, 0.12773364782333374, 0.031933411955833435, 0.15966704487800598, 0.6386681795120239, 0.031933411955833435, 0.15829375386238098, 0.026382291689515114, 0.804659903049469, 0.07589314877986908, 0.015178629197180271, 0.4553588628768921, 0.060714516788721085, 0.10625040531158447, 0.09107177704572678, 0.060714516788721085, 0.030357258394360542, 0.07589314877986908, 0.015178629197180271, 0.015178629197180271, 0.11464761942625046, 0.22929523885250092, 0.11464761942625046, 0.4968063533306122, 0.019107935950160027, 0.019107935950160027, 0.019107935950160027, 0.24903497099876404, 0.29054078459739685, 0.041505828499794006, 0.041505828499794006, 0.22828204929828644, 0.06225874274969101, 0.08301165699958801, 0.9586889147758484, 0.020841063931584358, 0.7393785715103149, 0.04349285736680031, 0.08698571473360062, 0.08698571473360062, 0.10456562787294388, 0.17427603900432587, 0.06971041858196259, 0.17427603900432587, 0.17427603900432587, 0.03485520929098129, 0.03485520929098129, 0.10456562787294388, 0.06971041858196259, 0.19080251455307007, 0.19080251455307007, 0.09540125727653503, 0.3498046100139618, 0.06360083818435669, 0.031800419092178345, 0.09540125727653503, 0.10649475455284119, 0.21298950910568237, 0.42597901821136475, 0.14199300110340118, 0.07099650055170059, 0.031209401786327362, 0.09362820535898209, 0.7802350521087646, 0.062418803572654724, 0.16536808013916016, 0.14469707012176514, 0.08268404006958008, 0.47543323040008545, 0.06201303005218506, 0.02067101001739502, 0.02067101001739502, 0.019621048122644424, 0.9614313244819641, 0.06810907274484634, 0.07915378361940384, 0.19144171476364136, 0.3552716374397278, 0.0312933586537838, 0.060745928436517715, 0.10860636085271835, 0.03497492894530296, 0.03497492894530296, 0.005522357299923897, 0.009203928522765636, 0.011044714599847794, 0.011044714599847794, 0.13702748715877533, 0.05481099709868431, 0.10962199419736862, 0.6577319502830505, 0.027405498549342155, 0.0043755583465099335, 0.0043755583465099335, 0.21440234780311584, 0.6913381814956665, 0.008751116693019867, 0.0043755583465099335, 0.030628908425569534, 0.021877791732549667, 0.008751116693019867, 0.0043755583465099335, 0.09186065196990967, 0.32151228189468384, 0.1377909779548645, 0.045930325984954834, 0.275581955909729, 0.045930325984954834, 0.045930325984954834, 0.01325245387852192, 0.14577698707580566, 0.03975735977292061, 0.19878681004047394, 0.07951471954584122, 0.35781624913215637, 0.05300981551408768, 0.06626226752996445, 0.01325245387852192, 0.02650490775704384, 0.04323626309633255, 0.04941286891698837, 0.44471582770347595, 0.17912165820598602, 0.012353217229247093, 0.0864725261926651, 0.061766088008880615, 0.006176608614623547, 0.061766088008880615, 0.006176608614623547, 0.006176608614623547, 0.012353217229247093, 0.030883044004440308, 0.08796866983175278, 0.08796866983175278, 0.11729156225919724, 0.23458312451839447, 0.17593733966350555, 0.05864578112959862, 0.02932289056479931, 0.11729156225919724, 0.02932289056479931, 0.02932289056479931, 0.02932289056479931, 0.050199754536151886, 0.050199754536151886, 0.4015980362892151, 0.050199754536151886, 0.20079901814460754, 0.10039950907230377, 0.050199754536151886, 0.050199754536151886, 0.12575601041316986, 0.276663213968277, 0.050302401185035706, 0.15090720355510712, 0.17605841159820557, 0.050302401185035706, 0.025151200592517853, 0.10060480237007141, 0.03494957089424133, 0.043686963617801666, 0.209697425365448, 0.24464699625968933, 0.008737392723560333, 0.24464699625968933, 0.08737392723560333, 0.043686963617801666, 0.026212178170681, 0.03494957089424133, 0.017474785447120667, 0.008737392723560333, 0.8252663612365723, 0.0033010654151439667, 0.006602130830287933, 0.03301065415143967, 0.0033010654151439667, 0.026408523321151733, 0.0297095887362957, 0.013204261660575867, 0.056118112057447433, 0.6996129751205444, 0.09994471073150635, 0.09994471073150635, 0.049972355365753174, 0.9886385202407837, 0.0015327729051932693, 0.0015327729051932693, 0.0030655458103865385, 0.18253546953201294, 0.016594134271144867, 0.3484767973423004, 0.2986944019794464, 0.11615893244743347, 0.033188268542289734, 0.16270124912261963, 0.011832818388938904, 0.001479102298617363, 0.001479102298617363, 0.7528630495071411, 0.001479102298617363, 0.062122296541929245, 0.002958204597234726, 0.010116101242601871, 0.9812618494033813, 0.002529025310650468, 0.002529025310650468, 0.002529025310650468, 0.8408536314964294, 0.04620074853301048, 0.009240150451660156, 0.0831613540649414, 0.009240150451660156, 0.018098512664437294, 0.9705327749252319, 0.0011311570415273309, 0.0011311570415273309, 0.0022623140830546618, 0.0022623140830546618, 0.0033934712409973145, 0.8008792400360107, 0.02002198062837124, 0.060065943747758865, 0.02002198062837124, 0.02002198062837124, 0.060065943747758865, 0.38373273611068726, 0.24419355392456055, 0.03488479554653168, 0.03488479554653168, 0.03488479554653168, 0.03488479554653168, 0.03488479554653168, 0.1395391821861267, 0.06976959109306335, 0.7672203183174133, 0.1410979926586151, 0.008818624541163445, 0.07054899632930756, 0.7354724407196045, 0.19067803025245667, 0.054479438811540604, 0.030948545783758163, 0.07737136632204056, 0.1934284120798111, 0.2553254961967468, 0.030948545783758163, 0.023211410269141197, 0.03868568316102028, 0.30948546528816223, 0.015474272891879082, 0.007737136445939541, 0.007737136445939541, 0.025941932573914528, 0.6226063370704651, 0.0821494534611702, 0.06917848438024521, 0.012970966286957264, 0.12538599967956543, 0.04323655366897583, 0.008647310547530651, 0.0043236552737653255, 0.02653159573674202, 0.9551374316215515, 0.13286907970905304, 0.2657381594181061, 0.13286907970905304, 0.13286907970905304, 0.17715877294540405, 0.08857938647270203, 0.04428969323635101, 0.06814282387495041, 0.27257129549980164, 0.23849989473819733, 0.06814282387495041, 0.13628564774990082, 0.13628564774990082, 0.06814282387495041, 0.8644904494285583, 0.009099898859858513, 0.03639959543943405, 0.06369929760694504, 0.018199797719717026, 0.31072381138801575, 0.01726243458688259, 0.06904973834753036, 0.4142984449863434, 0.05178730562329292, 0.05178730562329292, 0.03452486917376518, 0.03452486917376518, 0.01726243458688259, 0.6983851790428162, 0.0481644943356514, 0.1685757339000702, 0.0481644943356514, 0.0240822471678257, 0.9465597867965698, 0.6829497814178467, 0.02396315149962902, 0.01198157574981451, 0.035944726318120956, 0.02396315149962902, 0.20368677377700806, 0.02396315149962902, 0.15010741353034973, 0.18459154665470123, 0.1561928540468216, 0.10548088699579239, 0.10142392665147781, 0.12779414653778076, 0.08316762000322342, 0.0344841368496418, 0.00608543585985899, 0.01217087171971798, 0.00608543585985899, 0.008113914169371128, 0.008113914169371128, 0.00608543585985899, 0.008113914169371128, 0.38585519790649414, 0.115756556391716, 0.07717104256153107, 0.03858552128076553, 0.03858552128076553, 0.15434208512306213, 0.15434208512306213, 0.16049054265022278, 0.05836019665002823, 0.13131044805049896, 0.5544219017028809, 0.029180098325014114, 0.014590049162507057, 0.014590049162507057, 0.014590049162507057, 0.014590049162507057, 0.049730293452739716, 0.5470332503318787, 0.14919088780879974, 0.09946058690547943, 0.09946058690547943, 0.6337620615959167, 0.10082577913999557, 0.014403683133423328, 0.1584405153989792, 0.028807366266846657, 0.014403683133423328, 0.014403683133423328, 0.014403683133423328, 0.014403683133423328, 0.12707233428955078, 0.08895063400268555, 0.07624340057373047, 0.2922663688659668, 0.012707233428955078, 0.05082893371582031, 0.10165786743164062, 0.1143651008605957, 0.012707233428955078, 0.07624340057373047, 0.05082893371582031, 0.07841501384973526, 0.047049008309841156, 0.2666110396385193, 0.14114703238010406, 0.015683002769947052, 0.10978101938962936, 0.12546402215957642, 0.09409801661968231, 0.09409801661968231, 0.015683002769947052, 0.015683002769947052, 0.2795776128768921, 0.05990948900580406, 0.11981897801160812, 0.07987932115793228, 0.07987932115793228, 0.01996983028948307, 0.2795776128768921, 0.03993966057896614, 0.01996983028948307, 0.03993966057896614, 0.17299708724021912, 0.6631554961204529, 0.04805474728345871, 0.08649854362010956, 0.009610949084162712, 0.009610949084162712, 0.04001704230904579, 0.07002982497215271, 0.2851214110851288, 0.20758840441703796, 0.012505325488746166, 0.157567098736763, 0.09003834426403046, 0.06502769142389297, 0.015006390400230885, 0.005002130288630724, 0.020008521154522896, 0.005002130288630724, 0.022509586066007614, 0.005002130288630724, 0.09571120142936707, 0.07409899681806564, 0.23464682698249817, 0.2500841021537781, 0.04939933121204376, 0.0926237478852272, 0.10960476845502853, 0.04168068617582321, 0.007718645501881838, 0.015437291003763676, 0.00617491640150547, 0.004631187301129103, 0.009262374602258205, 0.0015437291003763676, 0.004631187301129103, 0.6782693266868591, 0.17693983018398285, 0.0393199622631073, 0.01965998113155365, 0.05897994339466095, 0.051725711673498154, 0.05769406259059906, 0.22281844913959503, 0.3023964762687683, 0.02785230614244938, 0.08753582090139389, 0.08355692028999329, 0.07758856564760208, 0.009947252459824085, 0.023873405531048775, 0.01989450491964817, 0.0019894505385309458, 0.01790505461394787, 0.009947252459824085, 0.0039789010770618916, 0.0026378342881798744, 0.6568207144737244, 0.0026378342881798744, 0.23476724326610565, 0.0026378342881798744, 0.010551337152719498, 0.0026378342881798744, 0.0026378342881798744, 0.021102674305438995, 0.013189171440899372, 0.04748101532459259, 0.0263180211186409, 0.5263604521751404, 0.3684523105621338, 0.0263180211186409, 0.0526360422372818, 0.11685498803853989, 0.07790332287549973, 0.23370997607707977, 0.13633081316947937, 0.13633081316947937, 0.03895166143774986, 0.11685498803853989, 0.0973791554570198, 0.01947583071887493, 0.029281839728355408, 0.11712735891342163, 0.08784551918506622, 0.14640919864177704, 0.08784551918506622, 0.23425471782684326, 0.08784551918506622, 0.058563679456710815, 0.029281839728355408, 0.08784551918506622, 0.40091538429260254, 0.16553926467895508, 0.038798265159130096, 0.020692408084869385, 0.24313579499721527, 0.005173102021217346, 0.007759653031826019, 0.07242342829704285, 0.005173102021217346, 0.012932755053043365, 0.023278959095478058, 0.002586551010608673, 0.002586551010608673, 0.9654461145401001, 0.3982733190059662, 0.011713922023773193, 0.5505543351173401, 0.023427844047546387, 0.011713922023773193, 0.22125129401683807, 0.12458810955286026, 0.16325338184833527, 0.18043795228004456, 0.06014598160982132, 0.06659019738435745, 0.06444212794303894, 0.04725755751132965, 0.008592283353209496, 0.025776850059628487, 0.010740353725850582, 0.006444212514907122, 0.006444212514907122, 0.010740353725850582, 0.002148070838302374, 0.1303901970386505, 0.08149387687444687, 0.06519509851932526, 0.03259754925966263, 0.016298774629831314, 0.09779264777898788, 0.3748718202114105, 0.1140914261341095, 0.016298774629831314, 0.04889632388949394, 0.016298774629831314, 0.016298774629831314, 0.1711510717868805, 0.38076305389404297, 0.01730741187930107, 0.02115350402891636, 0.1711510717868805, 0.10192142426967621, 0.00961522851139307, 0.06538355350494385, 0.015384365804493427, 0.0019230457255616784, 0.024999594315886497, 0.011538274586200714, 0.003846091451123357, 0.0292478296905756, 0.2924782931804657, 0.3509739637374878, 0.0584956593811512, 0.08774349093437195, 0.0292478296905756, 0.0292478296905756, 0.08774349093437195, 0.2056456059217453, 0.17373508214950562, 0.15955261886119843, 0.11345964670181274, 0.04609297960996628, 0.11700525879859924, 0.049638595432043076, 0.06027543544769287, 0.0035456139594316483, 0.010636841878294945, 0.02127368375658989, 0.0035456139594316483, 0.031910523772239685, 0.0035456139594316483, 0.0035456139594316483, 0.38326790928840637, 0.20858116447925568, 0.0990760549902916, 0.041716232895851135, 0.0990760549902916, 0.05996708571910858, 0.03389443829655647, 0.044323500245809555, 0.002607264555990696, 0.01303632277995348, 0.002607264555990696, 0.005214529111981392, 0.002607264555990696, 0.2569194734096527, 0.14108294248580933, 0.17523987591266632, 0.1811802089214325, 0.06385859847068787, 0.03861217573285103, 0.05197792872786522, 0.05197792872786522, 0.014850837178528309, 0.0074254185892641544, 0.004455251153558493, 0.0059403348714113235, 0.004455251153558493, 0.0014850837178528309, 0.9784337878227234, 0.008019949309527874, 0.778330385684967, 0.11530820280313492, 0.05765410140156746, 0.02882705070078373, 0.21159648895263672, 0.25391578674316406, 0.042319297790527344, 0.042319297790527344, 0.08463859558105469, 0.08463859558105469, 0.042319297790527344, 0.12695789337158203, 0.042319297790527344, 0.08463859558105469, 0.0709468275308609, 0.0472978875041008, 0.0472978875041008, 0.1655426025390625, 0.0709468275308609, 0.0709468275308609, 0.1891915500164032, 0.2837873101234436, 0.0236489437520504, 0.0236489437520504, 0.0472978875041008, 0.21255242824554443, 0.07085081189870834, 0.07085081189870834, 0.17712703347206116, 0.21255242824554443, 0.03542540594935417, 0.03542540594935417, 0.03542540594935417, 0.1417016237974167, 0.14231730997562408, 0.830184280872345, 0.04695950448513031, 0.28175702691078186, 0.32871654629707336, 0.09391900897026062, 0.04695950448513031, 0.09391900897026062, 0.09391900897026062, 0.6730346083641052, 0.01682586595416069, 0.008412932977080345, 0.025238797068595886, 0.27762678265571594, 0.028778526932001114, 0.8839119076728821, 0.016444873064756393, 0.016444873064756393, 0.012333654798567295, 0.012333654798567295, 0.008222436532378197, 0.016444873064756393, 0.2409626692533493, 0.11244925111532211, 0.14457760751247406, 0.14457760751247406, 0.14457760751247406, 0.11244925111532211, 0.016064178198575974, 0.0642567127943039, 0.03212835639715195, 0.24739022552967072, 0.38233035802841187, 0.08321307599544525, 0.02698802389204502, 0.14618512988090515, 0.051727045327425, 0.0044980039820075035, 0.015743013471364975, 0.0022490019910037518, 0.015743013471364975, 0.0044980039820075035, 0.01349401194602251, 0.0044980039820075035, 0.12256128340959549, 0.20426879823207855, 0.49024513363838196, 0.08170752227306366, 0.04085376113653183, 0.04624636098742485, 0.06936953961849213, 0.3699708878993988, 0.06936953961849213, 0.04624636098742485, 0.20810861885547638, 0.0924927219748497, 0.0924927219748497, 0.1356038749217987, 0.033900968730449677, 0.23730678856372833, 0.10170291364192963, 0.06780193746089935, 0.06780193746089935, 0.1356038749217987, 0.10170291364192963, 0.033900968730449677, 0.06780193746089935, 0.6833961606025696, 0.12203502655029297, 0.1708490401506424, 0.05600135400891304, 0.04480108246207237, 0.464811235666275, 0.07840189337730408, 0.0056001353077590466, 0.0056001353077590466, 0.20160487294197083, 0.033600814640522, 0.022400541231036186, 0.061601489782333374, 0.0056001353077590466, 0.011200270615518093, 0.5700896978378296, 0.36950260400772095, 0.05278608575463295, 0.13215424120426178, 0.07929254323244095, 0.26430848240852356, 0.05286169424653053, 0.23787762224674225, 0.13215424120426178, 0.10572338849306107, 0.9138399958610535, 0.022846000269055367, 0.022846000269055367, 0.04569200053811073, 0.07683856040239334, 0.23051567375659943, 0.11525783687829971, 0.46103134751319885, 0.03841928020119667, 0.02998441271483898, 0.02998441271483898, 0.1799064725637436, 0.3598129451274872, 0.02998441271483898, 0.0899532362818718, 0.11993765085935593, 0.02998441271483898, 0.11993765085935593, 0.04453756660223007, 0.1781502664089203, 0.3563005328178406, 0.04453756660223007, 0.22268784046173096, 0.08907513320446014, 0.04453756660223007, 0.04453756660223007, 0.24850429594516754, 0.14130635559558868, 0.12181583046913147, 0.1559242606163025, 0.10232529789209366, 0.10232529789209366, 0.004872633144259453, 0.06334423273801804, 0.004872633144259453, 0.01949053257703781, 0.029235798865556717, 0.004872633144259453, 0.16873952746391296, 0.016873952001333237, 0.5905883312225342, 0.06749580800533295, 0.1349916160106659, 0.21227656304836273, 0.07075884938240051, 0.09434513747692108, 0.07075884938240051, 0.495311975479126, 0.02358628436923027, 0.036640413105487823, 0.4763253629207611, 0.07328082621097565, 0.21984247863292694, 0.1465616524219513, 0.036640413105487823, 0.38424503803253174, 0.512326717376709, 0.03659476339817047, 0.027446074411273003, 0.018297381699085236, 0.11333286017179489, 0.6044418811798096, 0.0377776175737381, 0.11333286017179489, 0.0755552351474762, 0.06490869075059891, 0.12981738150119781, 0.45436087250709534, 0.22718043625354767, 0.09736303985118866, 0.07735773175954819, 0.23207318782806396, 0.038678865879774094, 0.07735773175954819, 0.46414637565612793, 0.07735773175954819, 0.038678865879774094, 0.03465058654546738, 0.03031926229596138, 0.06930117309093475, 0.22522880136966705, 0.004331323318183422, 0.11694572865962982, 0.277204692363739, 0.1645902842283249, 0.03898191079497337, 0.025987939909100533, 0.004331323318183422, 0.016344156116247177, 0.9479610323905945, 0.03389979898929596, 0.6440961956977844, 0.13559919595718384, 0.03389979898929596, 0.03389979898929596, 0.06779959797859192, 0.32146647572517395, 0.16073323786258698, 0.28931981325149536, 0.09643994271755219, 0.032146647572517395, 0.06429329514503479, 0.1743597686290741, 0.25314995646476746, 0.12402159720659256, 0.10286497324705124, 0.10651266574859619, 0.08754465728998184, 0.03501786291599274, 0.06419941782951355, 0.01896800845861435, 0.01094308216124773, 0.008754465728998184, 0.004377232864499092, 0.003647694131359458, 0.00510677183046937, 0.00145907758269459, 0.10285968333482742, 0.11657430976629257, 0.14057490229606628, 0.25372055172920227, 0.06514446437358856, 0.06857312470674515, 0.06857312470674515, 0.10285968333482742, 0.010285968892276287, 0.034286562353372574, 0.00685731228441, 0.003428656142205, 0.01371462456882, 0.010285968892276287, 0.015903256833553314, 0.14312930405139923, 0.1272260546684265, 0.3339684009552002, 0.04770977050065994, 0.015903256833553314, 0.14312930405139923, 0.015903256833553314, 0.1113227978348732, 0.04770977050065994, 0.03122992441058159, 0.0832797959446907, 0.20819948613643646, 0.3435291647911072, 0.09368976950645447, 0.0832797959446907, 0.04163989797234535, 0.020819948986172676, 0.07286982238292694, 0.010409974493086338, 0.15971077978610992, 0.09582646936178207, 0.31942155957221985, 0.1277686208486557, 0.031942155212163925, 0.06388431042432785, 0.06388431042432785, 0.06388431042432785, 0.004631070885807276, 0.004631070885807276, 0.004631070885807276, 0.9447384476661682, 0.009262141771614552, 0.004631070885807276, 0.009262141771614552, 0.01389321219176054, 0.25433266162872314, 0.31191742420196533, 0.0851774513721466, 0.10437236726284027, 0.0851774513721466, 0.03838983550667763, 0.03359110653400421, 0.028792377561330795, 0.013196506537497044, 0.0047987294383347034, 0.0035990471951663494, 0.013196506537497044, 0.009597458876669407, 0.010797141119837761, 0.0023993647191673517, 0.25724321603775024, 0.3429909646511078, 0.12862160801887512, 0.042873870581388474, 0.042873870581388474, 0.042873870581388474, 0.08574774116277695, 0.029222799465060234, 0.05844559893012047, 0.23378239572048187, 0.23378239572048187, 0.05844559893012047, 0.029222799465060234, 0.1753367930650711, 0.11689119786024094, 0.029222799465060234, 0.07252088189125061, 0.7493824362754822, 0.02417362667620182, 0.04834725335240364, 0.04834725335240364, 0.02417362667620182, 0.04734797775745392, 0.06839152425527573, 0.2735660970211029, 0.37352293729782104, 0.015782659873366356, 0.07365240901708603, 0.05786975100636482, 0.021043546497821808, 0.010521773248910904, 0.042087092995643616, 0.010521773248910904, 0.005260886624455452, 0.1166003867983818, 0.19155777990818024, 0.20821496844291687, 0.1665719747543335, 0.089948870241642, 0.05496875196695328, 0.06496307253837585, 0.053303033113479614, 0.013325758278369904, 0.013325758278369904, 0.014991478063166142, 0.003331439569592476, 0.004997159354388714, 0.004997159354388714, 0.003331439569592476, 0.028651230037212372, 0.06303270906209946, 0.5730246305465698, 0.0401117242872715, 0.057302460074424744, 0.057302460074424744, 0.06303270906209946, 0.005730246193706989, 0.028651230037212372, 0.011460492387413979, 0.028651230037212372, 0.034381475299596786, 0.07851923257112503, 0.07371193915605545, 0.2772209644317627, 0.20350903272628784, 0.017626767978072166, 0.11697763949632645, 0.12498980015516281, 0.0640973374247551, 0.01281946711242199, 0.008012167178094387, 0.0016024333890527487, 0.009614599868655205, 0.004807299934327602, 0.004807299934327602, 0.158937007188797, 0.17880412936210632, 0.144036665558815, 0.09933562576770782, 0.11920275539159775, 0.0794685035943985, 0.014900344423949718, 0.06456815451383591, 0.009933562949299812, 0.024833906441926956, 0.024833906441926956, 0.04470103234052658, 0.029800688847899437, 0.052491988986730576, 0.9054868221282959, 0.0018747139256447554, 0.0018747139256447554, 0.0018747139256447554, 0.024371279403567314, 0.0037494278512895107, 0.0056241415441036224, 0.024353209882974625, 0.9619518518447876, 0.006088302470743656, 0.13376054167747498, 0.08917369693517685, 0.3121079206466675, 0.044586848467588425, 0.1783473938703537, 0.08917369693517685, 0.044586848467588425, 0.19709697365760803, 0.24454624950885773, 0.1770222783088684, 0.13322295248508453, 0.10037346184253693, 0.04927424341440201, 0.010949832387268543, 0.05292418971657753, 0.005474916193634272, 0.0036499439738690853, 0.0036499439738690853, 0.007299887947738171, 0.0018249719869345427, 0.010949832387268543, 0.0018249719869345427, 0.10138096660375595, 0.094139464199543, 0.17620976269245148, 0.25828006863594055, 0.050690483301877975, 0.08931180089712143, 0.10379479825496674, 0.060345809906721115, 0.02655215747654438, 0.02172449231147766, 0.002413832349702716, 0.002413832349702716, 0.007241497281938791, 0.002413832349702716, 0.002413832349702716, 0.21135233342647552, 0.23807504773139954, 0.05344541743397713, 0.12632553279399872, 0.11903752386569977, 0.07530945539474487, 0.036440055817365646, 0.06316276639699936, 0.021864034235477448, 0.014576022513210773, 0.004858674481511116, 0.01700535975396633, 0.007288011256605387, 0.01214668620377779, 0.15800142288208008, 0.19276173412799835, 0.11692105233669281, 0.25122225284576416, 0.08058072626590729, 0.060040540993213654, 0.06320057064294815, 0.023700213059782982, 0.018960170447826385, 0.009480085223913193, 0.004740042611956596, 0.009480085223913193, 0.003160028485581279, 0.007900071330368519, 0.0015800142427906394, 0.23613519966602325, 0.08226645737886429, 0.1950019747018814, 0.11882932484149933, 0.031992509961128235, 0.0868368148803711, 0.13254040479660034, 0.07312574237585068, 0.009140717796981335, 0.015234529040753841, 0.004570358898490667, 0.009140717796981335, 0.0015234529273584485, 0.004570358898490667, 0.14261017739772797, 0.5561797022819519, 0.014261017553508282, 0.15687119960784912, 0.028522035107016563, 0.04278305172920227, 0.028522035107016563, 0.028522035107016563, 0.09123659878969193, 0.027370978146791458, 0.18247319757938385, 0.14597855508327484, 0.08211293816566467, 0.06386561691761017, 0.31932809948921204, 0.03649463877081871, 0.018247319385409355, 0.009123659692704678, 0.009123659692704678, 0.9433465003967285, 0.01779899001121521, 0.03559798002243042, 0.031275879591703415, 0.719345211982727, 0.12510351836681366, 0.06255175918340683, 0.3254373371601105, 0.6043835878372192, 0.046491045504808426, 0.031129688024520874, 0.9494554400444031, 0.163572758436203, 0.04673507437109947, 0.5374533534049988, 0.023367537185549736, 0.09347014874219894, 0.07010260969400406, 0.023367537185549736, 0.38110628724098206, 0.09527657181024551, 0.2381914258003235, 0.04763828590512276, 0.04763828590512276, 0.14291484653949738, 0.207696795463562, 0.25004273653030396, 0.08872484415769577, 0.07864247262477875, 0.06654363125562668, 0.16736730933189392, 0.016131790354847908, 0.07460952550172806, 0.0020164737943559885, 0.010082368738949299, 0.008065895177423954, 0.008065895177423954, 0.018148263916373253, 0.004032947588711977, 0.2179170697927475, 0.15565505623817444, 0.15565505623817444, 0.12452404201030731, 0.09339303523302078, 0.062262021005153656, 0.062262021005153656, 0.031131010502576828, 0.09339303523302078, 0.11074414849281311, 0.142385333776474, 0.015820592641830444, 0.6644648909568787, 0.015820592641830444, 0.015820592641830444, 0.03113940916955471, 0.06227881833910942, 0.1556970477104187, 0.28025469183921814, 0.28025469183921814, 0.06227881833910942, 0.03113940916955471, 0.03113940916955471, 0.03113940916955471, 0.11159321665763855, 0.175360769033432, 0.15941888093948364, 0.20952196419239044, 0.05465790256857872, 0.07059978693723679, 0.10476098209619522, 0.05238049104809761, 0.011387063190340996, 0.02732895128428936, 0.011387063190340996, 0.002277412684634328, 0.004554825369268656, 0.004554825369268656, 0.24899353086948395, 0.10802894085645676, 0.10802894085645676, 0.20024876296520233, 0.07114101201295853, 0.028983375057578087, 0.07377586513757706, 0.10671151429414749, 0.010539408773183823, 0.006587130483239889, 0.014491687528789043, 0.014491687528789043, 0.0039522782899439335, 0.0026348521932959557, 0.15904581546783447, 0.2783301770687103, 0.11928436160087585, 0.1988072693347931, 0.07952290773391724, 0.03976145386695862, 0.03976145386695862, 0.07952290773391724, 0.31994083523750305, 0.07998520880937576, 0.03999260440468788, 0.3999260365962982, 0.07998520880937576, 0.03999260440468788, 0.16490298509597778, 0.21201813220977783, 0.0942302793264389, 0.14134542644023895, 0.023557569831609726, 0.023557569831609726, 0.16490298509597778, 0.16490298509597778, 0.006654060911387205, 0.13308122754096985, 0.8517197966575623, 0.02550051361322403, 0.02550051361322403, 0.8670174479484558, 0.07650154083967209, 0.7577384114265442, 0.023679325357079506, 0.14207594096660614, 0.04735865071415901, 0.3085159957408905, 0.16612400114536285, 0.09492799639701843, 0.14239199459552765, 0.07119599729776382, 0.09492799639701843, 0.047463998198509216, 0.023731999099254608, 0.047463998198509216, 0.37973761558532715, 0.12657921016216278, 0.3375445604324341, 0.04219307005405426, 0.04219307005405426, 0.04219307005405426, 0.2327246367931366, 0.08950947225093842, 0.17901894450187683, 0.26852843165397644, 0.035803791135549545, 0.035803791135549545, 0.05370568484067917, 0.035803791135549545, 0.07160758227109909, 0.8259356021881104, 0.13041087985038757, 0.011141018010675907, 0.7798712253570557, 0.08912814408540726, 0.022282036021351814, 0.011141018010675907, 0.022282036021351814, 0.011141018010675907, 0.04456407204270363, 0.13683946430683136, 0.06841973215341568, 0.47893813252449036, 0.06841973215341568, 0.022806577384471893, 0.04561315476894379, 0.11403288692235947, 0.022806577384471893, 0.022806577384471893, 0.14563874900341034, 0.38837000727653503, 0.09709250181913376, 0.14563874900341034, 0.14563874900341034, 0.04854625090956688, 0.04854625090956688, 0.1477954387664795, 0.03694885969161987, 0.36948859691619873, 0.11084657907485962, 0.03694885969161987, 0.03694885969161987, 0.07389771938323975, 0.11084657907485962, 0.03694885969161987, 0.38734084367752075, 0.18870452046394348, 0.02979544922709465, 0.019863633438944817, 0.2383635938167572, 0.02979544922709465, 0.02979544922709465, 0.0595908984541893, 0.04208114370703697, 0.939812183380127, 0.04622280225157738, 0.04622280225157738, 0.13866840302944183, 0.23111401498317719, 0.23111401498317719, 0.1848912090063095, 0.04622280225157738, 0.07070216536521912, 0.7423727512359619, 0.07070216536521912, 0.07070216536521912, 0.04540024697780609, 0.3188335597515106, 0.0010318238055333495, 0.16509181261062622, 0.2827197313308716, 0.0010318238055333495, 0.08873684704303741, 0.04230477660894394, 0.0030954713001847267, 0.03714565560221672, 0.0030954713001847267, 0.011350061744451523, 0.7943066358566284, 0.014184047468006611, 0.1560245156288147, 0.028368094936013222, 0.9877545833587646, 0.004551864229142666, 0.27151721715927124, 0.12370903044939041, 0.07711731642484665, 0.15262801945209503, 0.0016066108364611864, 0.1735139638185501, 0.03373882547020912, 0.14138175547122955, 0.012852886691689491, 0.0016066108364611864, 0.006426443345844746, 0.0016066108364611864, 0.3754986524581909, 0.2753656804561615, 0.12516622245311737, 0.07509972900152206, 0.07509972900152206, 0.05006648972630501, 0.02047036401927471, 0.20470364391803741, 0.4912887513637543, 0.14329254627227783, 0.04094072803854942, 0.04094072803854942, 0.061411093920469284, 0.03741677477955818, 0.012472258880734444, 0.9354193806648254, 0.012472258880734444, 0.17235799133777618, 0.1451435685157776, 0.23585829138755798, 0.13425779342651367, 0.03991448134183884, 0.06894319504499435, 0.10341478884220123, 0.0362858921289444, 0.027214419096708298, 0.0054428838193416595, 0.014514356851577759, 0.0054428838193416595, 0.0090714730322361, 0.0018142946064472198, 0.0036285892128944397, 0.02261011302471161, 0.9672104120254517, 0.002512234728783369, 0.002512234728783369, 0.22379007935523987, 0.23553214967250824, 0.11189503967761993, 0.06423603743314743, 0.10084367543458939, 0.0918644443154335, 0.04558686539530754, 0.08495733886957169, 0.006216390989720821, 0.013123491778969765, 0.006907100789248943, 0.001381420181132853, 0.007597811054438353, 0.002762840362265706, 0.002762840362265706, 0.028448043391108513, 0.018965361639857292, 0.635339617729187, 0.009482680819928646, 0.16120557487010956, 0.018965361639857292, 0.009482680819928646, 0.018965361639857292, 0.009482680819928646, 0.06637877225875854, 0.009482680819928646, 0.14008064568042755, 0.16219864785671234, 0.08478565514087677, 0.23592530190944672, 0.20274829864501953, 0.02949066273868084, 0.02580432966351509, 0.003686332842335105, 0.003686332842335105, 0.05160865932703018, 0.02580432966351509, 0.022117996588349342, 0.3172820210456848, 0.11757150292396545, 0.05314876139163971, 0.11918207257986069, 0.13206662237644196, 0.08374956250190735, 0.008052842691540718, 0.04026421532034874, 0.009663411416113377, 0.0032211372163146734, 0.006442274432629347, 0.08374956250190735, 0.016105685383081436, 0.008052842691540718, 0.347834050655365, 0.18307055532932281, 0.07322822511196136, 0.36614111065864563, 0.03719596937298775, 0.09298992156982422, 0.2231758087873459, 0.16738185286521912, 0.2417737990617752, 0.11158790439367294, 0.018597984686493874, 0.03719596937298775, 0.018597984686493874, 0.03719596937298775, 0.018597984686493874, 0.18255779147148132, 0.1622735857963562, 0.0811367928981781, 0.10142099112272263, 0.020284198224544525, 0.12170519679784775, 0.1622735857963562, 0.04056839644908905, 0.10142099112272263, 0.25424593687057495, 0.25424593687057495, 0.3268876373767853, 0.1089625433087349, 0.14273037016391754, 0.13480091094970703, 0.13480091094970703, 0.17444823682308197, 0.09515358507633209, 0.07136518508195877, 0.07929465174674988, 0.07136518508195877, 0.015858931466937065, 0.055506255477666855, 0.007929465733468533, 0.07722736150026321, 0.051484908908605576, 0.14930623769760132, 0.2625730335712433, 0.12356378138065338, 0.1956426501274109, 0.036039434373378754, 0.015445472672581673, 0.025742454454302788, 0.04118792712688446, 0.0051484908908605576, 0.010296981781721115, 0.0051484908908605576, 0.7718333601951599, 0.042879629880189896, 0.021439814940094948, 0.10719907283782959, 0.042879629880189896, 0.19060738384723663, 0.1524859070777893, 0.03812147676944733, 0.38121476769447327, 0.1524859070777893, 0.10176018625497818, 0.04070407152175903, 0.2442244440317154, 0.1221122220158577, 0.2645764648914337, 0.10176018625497818, 0.020352035760879517, 0.020352035760879517, 0.020352035760879517, 0.020352035760879517, 0.020352035760879517, 0.24441008269786835, 0.10368912667036057, 0.13886936008930206, 0.1944171041250229, 0.04999297112226486, 0.055547744035720825, 0.098134346306324, 0.06850888580083847, 0.009257957339286804, 0.02036750689148903, 0.007406366057693958, 0.007406366057693958, 0.614201545715332, 0.026704415678977966, 0.05340883135795593, 0.2403397411108017, 0.05340883135795593, 0.04240322858095169, 0.02826881967484951, 0.8056613802909851, 0.02826881967484951, 0.04240322858095169, 0.014134409837424755, 0.015180625952780247, 0.8652957081794739, 0.045541878789663315, 0.015180625952780247, 0.015180625952780247, 0.015180625952780247, 0.015180625952780247, 0.41338929533958435, 0.19025303423404694, 0.04462725296616554, 0.023488027974963188, 0.09160330891609192, 0.12213774770498276, 0.011744013987481594, 0.08455689996480942, 0.007046408485621214, 0.00469760550186038, 0.3059455156326294, 0.26005369424819946, 0.022945914417505264, 0.015297275967895985, 0.22945913672447205, 0.03059455193579197, 0.0841350182890892, 0.007648637983947992, 0.015297275967895985, 0.022945914417505264, 0.14339323341846466, 0.2389887124300003, 0.09559548646211624, 0.09559548646211624, 0.04779774323105812, 0.19119097292423248, 0.04779774323105812, 0.04779774323105812, 0.1378914713859558, 0.12086782604455948, 0.18726001679897308, 0.12767727673053741, 0.05447563901543617, 0.08171346038579941, 0.13278436660766602, 0.07320164144039154, 0.011916546151041985, 0.03915436565876007, 0.010214182548224926, 0.005107091274112463, 0.005107091274112463, 0.0034047274384647608, 0.005107091274112463, 0.054465170949697495, 0.028834503144025803, 0.23387984931468964, 0.26271435618400574, 0.02242683619260788, 0.10893034189939499, 0.21145302057266235, 0.019223002716898918, 0.009611501358449459, 0.016019167378544807, 0.00640766741707921, 0.003203833708539605, 0.009611501358449459, 0.01281533483415842, 0.00640766741707921, 0.06680402159690857, 0.1477111130952835, 0.18408219516277313, 0.22713367640972137, 0.037855613976716995, 0.11059777438640594, 0.08164936304092407, 0.0927833691239357, 0.012618537992238998, 0.011134004220366478, 0.0074226693250238895, 0.0022268008906394243, 0.009649470448493958, 0.005195868667215109, 0.0037113346625119448, 0.02681998535990715, 0.0536399707198143, 0.2681998312473297, 0.1072799414396286, 0.29501983523368835, 0.0536399707198143, 0.13409991562366486, 0.02681998535990715, 0.05601507052779198, 0.02546139620244503, 0.27498307824134827, 0.1629529446363449, 0.030553676187992096, 0.13239926099777222, 0.19859889149665833, 0.06619963049888611, 0.015276838093996048, 0.005092279519885778, 0.005092279519885778, 0.005092279519885778, 0.010184559039771557, 0.010184559039771557, 0.12812945246696472, 0.2022491842508316, 0.19650347530841827, 0.16317832469940186, 0.0632028728723526, 0.13215145468711853, 0.028728578239679337, 0.034474294632673264, 0.014938860200345516, 0.009193144738674164, 0.004022000823169947, 0.006894858554005623, 0.005171143915504217, 0.006894858554005623, 0.004022000823169947, 0.16206161677837372, 0.0740853101015091, 0.1296492964029312, 0.12501895427703857, 0.08797630667686462, 0.09260664135217667, 0.1064976304769516, 0.15743128955364227, 0.013890995644032955, 0.02778199128806591, 0.009260663762688637, 0.009260663762688637, 0.004630331881344318, 0.004630331881344318, 0.19413921236991882, 0.14933785796165466, 0.14933785796165466, 0.16427163779735565, 0.07466892898082733, 0.02240067906677723, 0.007466892711818218, 0.12693718075752258, 0.007466892711818218, 0.04480135813355446, 0.04480135813355446, 0.007466892711818218, 0.15638887882232666, 0.15638887882232666, 0.17873014509677887, 0.08936507254838943, 0.15638887882232666, 0.11170634627342224, 0.02234126813709736, 0.02234126813709736, 0.04468253627419472, 0.04468253627419472, 0.04775018244981766, 0.009550036862492561, 0.9359036087989807, 0.006599927321076393, 0.01979978196322918, 0.4751947820186615, 0.12539862096309662, 0.12539862096309662, 0.19139790534973145, 0.026399709284305573, 0.013199854642152786, 0.006599927321076393, 0.12516085803508759, 0.04172028228640556, 0.16688112914562225, 0.16688112914562225, 0.4589231312274933, 0.1641620546579361, 0.1389063447713852, 0.1294354647397995, 0.17573757469654083, 0.0694531723856926, 0.07787173986434937, 0.13048778474330902, 0.06208692863583565, 0.011575529351830482, 0.012627850286662579, 0.006313925143331289, 0.004209283273667097, 0.004209283273667097, 0.012627850286662579, 0.0010523208184167743, 0.10596799850463867, 0.8795344233512878, 0.13880887627601624, 0.1881631463766098, 0.1588590443134308, 0.16348600387573242, 0.035473380237817764, 0.11413174122571945, 0.10025085508823395, 0.044727303087711334, 0.0077116042375564575, 0.016965528950095177, 0.012338566593825817, 0.0077116042375564575, 0.00925392471253872, 0.0030846416484564543, 0.10735489428043365, 0.12006797641515732, 0.19210876524448395, 0.25708672404289246, 0.06921565532684326, 0.07204078882932663, 0.062152836471796036, 0.04943975433707237, 0.015538209117949009, 0.014125644229352474, 0.004237693268805742, 0.00988795142620802, 0.018363337963819504, 0.007062822114676237, 0.002825128845870495, 0.36318859457969666, 0.077826127409935, 0.0389130637049675, 0.12971021234989166, 0.15565225481987, 0.025942042469978333, 0.12971021234989166, 0.06485510617494583, 0.012971021234989166, 0.2191973328590393, 0.18092477321624756, 0.09220205247402191, 0.08524340391159058, 0.10437968373298645, 0.06436747312545776, 0.11481764912605286, 0.06262780725955963, 0.01739661395549774, 0.043491534888744354, 0.001739661325700581, 0.01217762939631939, 0.001739661325700581, 0.003479322651401162, 0.1967526078224182, 0.17405037581920624, 0.12864594161510468, 0.022702224552631378, 0.022702224552631378, 0.06053926423192024, 0.219454824924469, 0.09080889821052551, 0.00756740802899003, 0.06053926423192024, 0.00756740802899003, 0.01513481605798006, 0.08220378309488297, 0.16440756618976593, 0.08220378309488297, 0.32881513237953186, 0.20550945401191711, 0.04110189154744148, 0.035818230360746384, 0.8775466084480286, 0.053727343678474426, 0.02636285498738289, 0.9358813166618347, 0.02636285498738289, 0.45752769708633423, 0.008219060488045216, 0.082190603017807, 0.0027396867517381907, 0.0027396867517381907, 0.40547364950180054, 0.010958747006952763, 0.008219060488045216, 0.013698434457182884, 0.005479373503476381, 0.15439961850643158, 0.8381693959236145, 0.0025214566849172115, 0.5975852608680725, 0.0025214566849172115, 0.08068661391735077, 0.060514964163303375, 0.005042913369834423, 0.2168452888727188, 0.0025214566849172115, 0.0025214566849172115, 0.0025214566849172115, 0.02773602493107319, 0.8049964904785156, 0.02489679865539074, 0.016597865149378777, 0.008298932574689388, 0.05809253081679344, 0.03319573029875755, 0.008298932574689388, 0.03319573029875755, 0.008298932574689388, 0.6934216618537903, 0.19812047481536865, 0.06604015827178955, 0.24198909103870392, 0.04033151641488075, 0.6654700040817261, 0.020165758207440376, 0.1489972323179245, 0.04469916969537735, 0.16389694809913635, 0.581089198589325, 0.01489972323179245, 0.01489972323179245, 0.20365089178085327, 0.235402911901474, 0.11824890226125717, 0.06240914389491081, 0.12262849509716034, 0.05474486202001572, 0.03394181653857231, 0.10401523858308792, 0.020803047344088554, 0.013138767331838608, 0.008759178221225739, 0.0010948972776532173, 0.015328561887145042, 0.003284691832959652, 0.0010948972776532173, 0.9884917140007019, 0.0018545810598880053, 0.0018545810598880053, 0.0018545810598880053, 0.0037091621197760105, 0.26023489236831665, 0.30842655897140503, 0.04337248206138611, 0.019276659935712814, 0.10602162778377533, 0.024095823988318443, 0.057829976081848145, 0.11084078997373581, 0.009638329967856407, 0.03373415395617485, 0.009638329967856407, 0.004819164983928204, 0.004819164983928204, 0.009638329967856407, 0.08043450117111206, 0.8847795724868774, 0.01149064302444458, 0.01954062469303608, 0.01302708312869072, 0.3191635310649872, 0.2540281414985657, 0.07164895534515381, 0.01302708312869072, 0.28659582138061523, 0.00651354156434536, 0.021856846287846565, 0.4371369183063507, 0.32785269618034363, 0.04371369257569313, 0.021856846287846565, 0.06557054072618484, 0.021856846287846565, 0.06557054072618484, 0.024488097056746483, 0.05877143144607544, 0.1420309692621231, 0.3918095529079437, 0.034283336251974106, 0.02938571572303772, 0.09305477142333984, 0.09795238822698593, 0.024488097056746483, 0.01469285786151886, 0.01469285786151886, 0.0734642893075943, 0.9693923592567444, 0.008655289188027382, 0.017310578376054764, 0.27304625511169434, 0.17918661236763, 0.18771930038928986, 0.06826156377792358, 0.13225677609443665, 0.025598086416721344, 0.07679425925016403, 0.008532695472240448, 0.004266347736120224, 0.008532695472240448, 0.029864434152841568, 0.09389244765043259, 0.13657084107398987, 0.2646059989929199, 0.17071354389190674, 0.008535677567124367, 0.05974974110722542, 0.06828542053699493, 0.11096380650997162, 0.05974974110722542, 0.008535677567124367, 0.008535677567124367, 0.008535677567124367, 0.08103717863559723, 0.907616376876831, 0.272218257188797, 0.24953339993953705, 0.06805456429719925, 0.1814788281917572, 0.0453697070479393, 0.15879398584365845, 0.02268485352396965, 0.21171535551548004, 0.19106020033359528, 0.15491367876529694, 0.09294820576906204, 0.10327578336000443, 0.07745683938264847, 0.0568016842007637, 0.04647410288453102, 0.015491368249058723, 0.005163789261132479, 0.010327578522264957, 0.015491368249058723, 0.005163789261132479, 0.010327578522264957, 0.9796973466873169, 0.09584370255470276, 0.09584370255470276, 0.6709059476852417, 0.03194789960980415, 0.09584370255470276, 0.4639148712158203, 0.061855316162109375, 0.030927658081054688, 0.09278297424316406, 0.12371063232421875, 0.09278297424316406, 0.09278297424316406, 0.1678643673658371, 0.19184499979019165, 0.29975780844688416, 0.14388374984264374, 0.11990311741828918, 0.05995155870914459, 0.8732377886772156, 0.03358606994152069, 0.06717213988304138, 0.2563442587852478, 0.19530990719795227, 0.13253171741962433, 0.11334949731826782, 0.029645252972841263, 0.08370424062013626, 0.061034344136714935, 0.061034344136714935, 0.005231515038758516, 0.017438383772969246, 0.026157576590776443, 0.005231515038758516, 0.0034876768477261066, 0.006975353695452213, 0.0017438384238630533, 0.03131029009819031, 0.12524116039276123, 0.3444131910800934, 0.12524116039276123, 0.21917201578617096, 0.03131029009819031, 0.09393086284399033, 0.17353932559490204, 0.41175565123558044, 0.02881649322807789, 0.14920540153980255, 0.12423110008239746, 0.06211555004119873, 0.0012807330349460244, 0.010886230506002903, 0.0012807330349460244, 0.007684397976845503, 0.0012807330349460244, 0.01152659673243761, 0.0032018325291574, 0.012166963890194893, 0.0012807330349460244, 0.7565162777900696, 0.03981664776802063, 0.15926659107208252, 0.2416963279247284, 0.18990425765514374, 0.15192340314388275, 0.10531054437160492, 0.041433654725551605, 0.053518470376729965, 0.1001313328742981, 0.05697127804160118, 0.008632011711597443, 0.015537620522081852, 0.008632011711597443, 0.008632011711597443, 0.012084816582500935, 0.0034528046380728483, 0.005179206840693951, 0.7950319051742554, 0.025646191090345383, 0.025646191090345383, 0.051292382180690765, 0.07693856954574585, 0.8704768419265747, 0.006991781760007143, 0.006991781760007143, 0.07690960168838501, 0.006991781760007143, 0.006991781760007143, 0.020975345745682716, 0.10164301842451096, 0.343045175075531, 0.47009894251823425, 0.02541075460612774, 0.038116130977869034, 0.01270537730306387, 0.01270537730306387, 0.02229105308651924, 0.04458210617303848, 0.02229105308651924, 0.20061947405338287, 0.02229105308651924, 0.5126941800117493, 0.02229105308651924, 0.02229105308651924, 0.06687315553426743, 0.02229105308651924, 0.02229105308651924, 0.03465954214334488, 0.24261680245399475, 0.13863816857337952, 0.5545526742935181, 0.3838663697242737, 0.023991648107767105, 0.5518078804016113, 0.4297841489315033, 0.09918095916509628, 0.0540987029671669, 0.045082252472639084, 0.1592906266450882, 0.11420837789773941, 0.022541126236319542, 0.02704935148358345, 0.006010967306792736, 0.001502741826698184, 0.025546610355377197, 0.010519192554056644, 0.006010967306792736, 0.001502741826698184, 0.04824291914701462, 0.0804048627614975, 0.27337655425071716, 0.2572955787181854, 0.09648583829402924, 0.01608097366988659, 0.09648583829402924, 0.01608097366988659, 0.06432389467954636, 0.03216194733977318, 0.01608097366988659, 0.02870107628405094, 0.20090752840042114, 0.3731139898300171, 0.20090752840042114, 0.02870107628405094, 0.11480430513620377, 0.033053018152713776, 0.16526509821414948, 0.33053019642829895, 0.09915905445814133, 0.09915905445814133, 0.16526509821414948, 0.06610603630542755, 0.033053018152713776, 0.1498682051897049, 0.1116039827466011, 0.21683059632778168, 0.10841529816389084, 0.03826422244310379, 0.1211700364947319, 0.08290581405162811, 0.12754741311073303, 0.01594342663884163, 0.009566055610775948, 0.01594342663884163, 0.0031886850483715534, 0.7607195377349854, 0.05634959414601326, 0.140873983502388, 0.02817479707300663, 0.3773624002933502, 0.20964577794075012, 0.12578746676445007, 0.08385831117630005, 0.041929155588150024, 0.12578746676445007, 0.11492624133825302, 0.8683316111564636, 0.07333793491125107, 0.057394903153181076, 0.09565816819667816, 0.2869745194911957, 0.03188605606555939, 0.1004410833120346, 0.2232024073600769, 0.036668967455625534, 0.02232024073600769, 0.039857570081949234, 0.007971514016389847, 0.007971514016389847, 0.009565817192196846, 0.009565817192196846, 0.9739686846733093, 0.4262506663799286, 0.047361187636852264, 0.2841671109199524, 0.09472237527370453, 0.047361187636852264, 0.09472237527370453, 0.047361187636852264, 0.2697359323501587, 0.022477995604276657, 0.06743398308753967, 0.4720379114151001, 0.044955991208553314, 0.022477995604276657, 0.06743398308753967, 0.017682921141386032, 0.035365842282772064, 0.035365842282772064, 0.7073168158531189, 0.053048763424158096, 0.10609752684831619, 0.035365842282772064, 0.06521821022033691, 0.17391522228717804, 0.6739214658737183, 0.04347880557179451, 0.021739402785897255, 0.5094087719917297, 0.25470438599586487, 0.03396058455109596, 0.03396058455109596, 0.08490145951509476, 0.03396058455109596, 0.01698029227554798, 0.03396058455109596, 0.7457866072654724, 0.20716294646263123, 0.09556970000267029, 0.23892425000667572, 0.19113940000534058, 0.14335455000400543, 0.09556970000267029, 0.09556970000267029, 0.1441228687763214, 0.8070880770683289, 0.16444584727287292, 0.3481353521347046, 0.04023674875497818, 0.11021370440721512, 0.11896082013845444, 0.07347580045461655, 0.052482716739177704, 0.04723444581031799, 0.010496542789041996, 0.010496542789041996, 0.0017494239145889878, 0.005248271394520998, 0.008747119456529617, 0.0017494239145889878, 0.0034988478291779757, 0.08729022741317749, 0.17250211536884308, 0.12262199074029922, 0.17665879428386688, 0.008313355036079884, 0.13093534111976624, 0.1039169430732727, 0.0914469063282013, 0.04988013207912445, 0.01454837154597044, 0.022861726582050323, 0.002078338759019971, 0.010391694493591785, 0.004156677518039942, 0.002078338759019971, 0.6959023475646973, 0.12652769684791565, 0.09489577263593674, 0.03163192421197891, 0.03163192421197891, 0.13509079813957214, 0.18012107908725739, 0.2701815962791443, 0.09006053954362869, 0.045030269771814346, 0.13509079813957214, 0.045030269771814346, 0.09006053954362869, 0.08398433029651642, 0.29394516348838806, 0.4619137942790985, 0.04199216514825821, 0.08398433029651642, 0.2968986928462982, 0.12955579161643982, 0.08097236603498459, 0.09176868200302124, 0.03778710588812828, 0.2267226278781891, 0.08097236603498459, 0.010796315968036652, 0.016194473952054977, 0.010796315968036652, 0.010796315968036652, 0.005398157984018326, 0.9837342500686646, 0.1376500129699707, 0.6882500648498535, 0.09176667034626007, 0.045883335173130035, 0.005865026731044054, 0.18768085539340973, 0.011730053462088108, 0.029325133189558983, 0.7389933466911316, 0.005865026731044054, 0.005865026731044054, 0.5162799954414368, 0.008194920606911182, 0.09833904355764389, 0.008194920606911182, 0.024584760889410973, 0.008194920606911182, 0.24584761261940002, 0.008194920606911182, 0.016389841213822365, 0.008194920606911182, 0.05736444145441055, 0.008194920606911182, 0.573750913143158, 0.0546429418027401, 0.16392882168293, 0.1912502944469452, 0.6737553477287292, 0.11790718138217926, 0.050531648099422455, 0.10106329619884491, 0.050531648099422455, 0.04716821014881134, 0.28300926089286804, 0.09433642029762268, 0.4009297788143158, 0.11792052537202835, 0.07075231522321701, 0.2458276003599167, 0.38239848613739014, 0.05462835729122162, 0.05462835729122162, 0.1404729187488556, 0.023412153124809265, 0.007804051041603088, 0.007804051041603088, 0.007804051041603088, 0.02731417864561081, 0.01951012760400772, 0.023412153124809265, 0.003902025520801544, 0.7529609799385071, 0.05019740015268326, 0.16732466220855713, 0.016732465475797653, 0.20463445782661438, 0.11766481399536133, 0.1739392876625061, 0.17138135433197021, 0.08185378462076187, 0.040926892310380936, 0.10743308812379837, 0.028137236833572388, 0.023021375760436058, 0.012789653614163399, 0.007673792075365782, 0.010231723077595234, 0.0025579307693988085, 0.007673792075365782, 0.007673792075365782, 0.07218240946531296, 0.03609120473265648, 0.05413680896162987, 0.23459284007549286, 0.01804560236632824, 0.3248208463191986, 0.03609120473265648, 0.1624104231595993, 0.01804560236632824, 0.03609120473265648, 0.843379557132721, 0.02162511833012104, 0.03243767470121384, 0.01621883735060692, 0.054062794893980026, 0.01081255916506052, 0.01621883735060692, 0.06232986971735954, 0.8102883100509644, 0.012465974316000938, 0.037397921085357666, 0.049863897264003754, 0.9686763286590576, 0.008969224989414215, 0.008969224989414215, 0.008969224989414215, 0.48711279034614563, 0.4121723473072052, 0.07494042813777924, 0.162346750497818, 0.162346750497818, 0.081173375248909, 0.05411558225750923, 0.514098048210144, 0.21306608617305756, 0.08522643148899078, 0.12783965468406677, 0.12783965468406677, 0.04261321574449539, 0.34090572595596313, 0.04261321574449539, 0.04261321574449539, 0.28349748253822327, 0.08099928498268127, 0.40499642491340637, 0.08099928498268127, 0.04049964249134064, 0.08099928498268127, 0.09286700934171677, 0.04643350467085838, 0.23216752707958221, 0.13930051028728485, 0.23216752707958221, 0.04643350467085838, 0.09286700934171677, 0.04643350467085838, 0.04643350467085838, 0.012089583091437817, 0.9671666622161865, 0.04516619071364403, 0.04516619071364403, 0.3613295257091522, 0.09033238142728806, 0.3161633312702179, 0.04516619071364403, 0.04516619071364403, 0.8869979977607727, 0.040318090468645096, 0.040318090468645096, 0.03590447083115578, 0.1795223504304886, 0.3590447008609772, 0.03590447083115578, 0.07180894166231155, 0.03590447083115578, 0.07180894166231155, 0.1795223504304886, 0.03590447083115578, 0.20473560690879822, 0.7604465484619141, 0.1280042976140976, 0.1581229567527771, 0.09035596996545792, 0.17318227887153625, 0.015059328638017178, 0.1280042976140976, 0.12047462910413742, 0.08282630890607834, 0.015059328638017178, 0.02258899249136448, 0.06776697933673859, 0.02280106209218502, 0.04560212418437004, 0.20520956814289093, 0.2964138090610504, 0.09120424836874008, 0.13680636882781982, 0.06840318441390991, 0.02280106209218502, 0.06840318441390991, 0.04560212418437004, 0.14071613550186157, 0.1535085141658783, 0.19188563525676727, 0.24305513501167297, 0.051169503480196, 0.051169503480196, 0.012792375870049, 0.025584751740098, 0.025584751740098, 0.012792375870049, 0.06396187841892242, 0.012792375870049, 0.012792375870049, 0.22512786090373993, 0.2438885122537613, 0.10318360477685928, 0.13132458925247192, 0.046901635825634, 0.06566229462623596, 0.02814098261296749, 0.05628196522593498, 0.01876065507531166, 0.05628196522593498, 0.00938032753765583, 0.23160606622695923, 0.16348662972450256, 0.15570156276226044, 0.1732179820537567, 0.08563585579395294, 0.04087165743112564, 0.04281792789697647, 0.07201196998357773, 0.0038925388362258673, 0.005838808603584766, 0.0038925388362258673, 0.0038925388362258673, 0.013623886741697788, 0.005838808603584766, 0.04778240621089935, 0.1911296248435974, 0.2866944372653961, 0.0955648124217987, 0.0955648124217987, 0.0955648124217987, 0.06689537316560745, 0.0095564816147089, 0.0095564816147089, 0.0286694448441267, 0.06689537316560745, 0.0191129632294178, 0.18504735827445984, 0.2960757613182068, 0.03700947016477585, 0.2220568209886551, 0.11102841049432755, 0.03700947016477585, 0.11102841049432755, 0.9705935716629028, 0.034582823514938354, 0.034582823514938354, 0.06916564702987671, 0.13833129405975342, 0.27666258811950684, 0.41499388217926025, 0.4349067211151123, 0.01976848766207695, 0.029652731493115425, 0.1976848691701889, 0.28664305806159973, 0.01976848766207695, 0.06704400479793549, 0.02234800159931183, 0.6033960580825806, 0.06704400479793549, 0.06704400479793549, 0.04469600319862366, 0.02234800159931183, 0.02234800159931183, 0.08939200639724731, 0.21333040297031403, 0.2559964656829834, 0.042666081339120865, 0.08533216267824173, 0.17066432535648346, 0.042666081339120865, 0.1279982328414917, 0.042666081339120865, 0.3278174102306366, 0.13592429459095, 0.17590203881263733, 0.08395323902368546, 0.04397550970315933, 0.0319821871817112, 0.05596882849931717, 0.07195992022752762, 0.0159910935908556, 0.011993320658802986, 0.0039977733977139, 0.0079955467954278, 0.023986641317605972, 0.0039977733977139, 0.0079955467954278, 0.16163457930088043, 0.20204323530197144, 0.04040864482522011, 0.24245187640190125, 0.04040864482522011, 0.12122593820095062, 0.04040864482522011, 0.08081728965044022, 0.04040864482522011, 0.3363015949726105, 0.0373668409883976, 0.0373668409883976, 0.0747336819767952, 0.4857689440250397, 0.216392382979393, 0.1081961914896965, 0.1081961914896965, 0.07213079184293747, 0.1081961914896965, 0.036065395921468735, 0.3245885670185089, 0.036065395921468735, 0.04432091861963272, 0.3988882601261139, 0.08864183723926544, 0.31024640798568726, 0.08864183723926544, 0.04432091861963272, 0.11565656214952469, 0.23131312429904938, 0.038552187383174896, 0.11565656214952469, 0.15420874953269958, 0.15420874953269958, 0.038552187383174896, 0.07710437476634979, 0.038552187383174896, 0.1376550793647766, 0.055062033236026764, 0.11012406647205353, 0.19271710515022278, 0.11012406647205353, 0.2753101587295532, 0.08259304612874985, 0.027531016618013382, 0.03921357914805412, 0.43134933710098267, 0.23528146743774414, 0.03921357914805412, 0.07842715829610825, 0.11764073371887207, 0.722325325012207, 0.046105872839689255, 0.15368624031543732, 0.06147449463605881, 0.015368623659014702, 0.31133121252059937, 0.29717978835105896, 0.2122712880373001, 0.028302839025855064, 0.014151419512927532, 0.014151419512927532, 0.05660567805171013, 0.014151419512927532, 0.014151419512927532, 0.028302839025855064, 0.24018976092338562, 0.14411385357379913, 0.28822770714759827, 0.09607590734958649, 0.09607590734958649, 0.09607590734958649, 0.2498394399881363, 0.04996788501739502, 0.19987154006958008, 0.19987154006958008, 0.09993577003479004, 0.04996788501739502, 0.09993577003479004, 0.5228743553161621, 0.16088441014289856, 0.04022110253572464, 0.12066330760717392, 0.08044220507144928, 0.010117233730852604, 0.6576201915740967, 0.09105510264635086, 0.020234467461705208, 0.030351700261235237, 0.12140680104494095, 0.040468934923410416, 0.030351700261235237, 0.8838375806808472, 0.031565628945827484, 0.025252502411603928, 0.012626251205801964, 0.025252502411603928, 0.012626251205801964, 0.006313125602900982, 0.15577757358551025, 0.07788878679275513, 0.23366636037826538, 0.18174049258232117, 0.02596292831003666, 0.10385171324014664, 0.05192585662007332, 0.12981463968753815, 0.02596292831003666, 0.7777348160743713, 0.06481123715639114, 0.1296224743127823, 0.7665342688560486, 0.01596946455538273, 0.03193892911076546, 0.1437251716852188, 0.03193892911076546, 0.22143931686878204, 0.11071965843439102, 0.03690655156970024, 0.07381310313940048, 0.14762620627880096, 0.22143931686878204, 0.03690655156970024, 0.14762620627880096, 0.05993078649044037, 0.2097577601671219, 0.5094116926193237, 0.03995385766029358, 0.009988464415073395, 0.06991925090551376, 0.049942322075366974, 0.009988464415073395, 0.01997692883014679, 0.009988464415073395, 0.009988464415073395, 0.021545181050896645, 0.9587604999542236, 0.10973883420228958, 0.1755821406841278, 0.15363436937332153, 0.15363436937332153, 0.04389553517103195, 0.021947767585515976, 0.06584329903125763, 0.06584329903125763, 0.021947767585515976, 0.10973883420228958, 0.06584329903125763, 0.9562592506408691, 0.02276807837188244, 0.007589359302073717, 0.17751461267471313, 0.03550292178988457, 0.7455613613128662, 0.1434195190668106, 0.03585487976670265, 0.2151292860507965, 0.1434195190668106, 0.0717097595334053, 0.17927441000938416, 0.0717097595334053, 0.10756464302539825, 0.3930272161960602, 0.1965136080980301, 0.14738520979881287, 0.04912840202450752, 0.09825680404901505, 0.04912840202450752, 0.41425421833992004, 0.21563918888568878, 0.03121093474328518, 0.06525922566652298, 0.17307882010936737, 0.025536218658089638, 0.019861504435539246, 0.03121093474328518, 0.005674715619534254, 0.002837357809767127, 0.005674715619534254, 0.008512073196470737, 0.18705947697162628, 0.18705947697162628, 0.14029461145401, 0.3975013792514801, 0.04676486924290657, 0.023382434621453285, 0.2739865779876709, 0.06088590621948242, 0.03044295310974121, 0.18265771865844727, 0.09132885932922363, 0.03044295310974121, 0.2435436248779297, 0.09132885932922363, 0.21404312551021576, 0.061155177652835846, 0.061155177652835846, 0.24462071061134338, 0.12231035530567169, 0.12231035530567169, 0.061155177652835846, 0.09173277020454407, 0.9707555770874023, 0.012445583939552307, 0.17380782961845398, 0.09559430927038193, 0.08690391480922699, 0.06952313333749771, 0.06952313333749771, 0.09559430927038193, 0.06083274260163307, 0.20856940746307373, 0.06952313333749771, 0.043451957404613495, 0.017380783334374428, 0.008690391667187214, 0.1273220032453537, 0.2546440064907074, 0.042440664023160934, 0.042440664023160934, 0.2546440064907074, 0.08488132804632187, 0.08488132804632187, 0.042440664023160934, 0.042440664023160934, 0.08488132804632187, 0.042440664023160934, 0.08260005712509155, 0.041300028562545776, 0.08260005712509155, 0.3304002285003662, 0.08260005712509155, 0.08260005712509155, 0.08260005712509155, 0.08260005712509155, 0.041300028562545776, 0.041300028562545776, 0.01661071367561817, 0.01661071367561817, 0.01661071367561817, 0.01661071367561817, 0.11627499759197235, 0.780703604221344, 0.01661071367561817, 0.0027611434925347567, 0.0027611434925347567, 0.7565532922744751, 0.005522286985069513, 0.0911177322268486, 0.02485029213130474, 0.0027611434925347567, 0.03589486703276634, 0.060745157301425934, 0.019328003749251366, 0.2395949363708496, 0.3833518922328949, 0.09583797305822372, 0.09583797305822372, 0.09583797305822372, 0.1413877308368683, 0.1302548348903656, 0.09017642587423325, 0.3017013669013977, 0.11466878652572632, 0.06568406522274017, 0.05121130496263504, 0.02560565248131752, 0.010019603185355663, 0.0055664461106061935, 0.010019603185355663, 0.01669933833181858, 0.006679735146462917, 0.024492362514138222, 0.0033398675732314587, 0.070163793861866, 0.1964586228132248, 0.1262948215007782, 0.2525896430015564, 0.0280655175447464, 0.0140327587723732, 0.140327587723732, 0.0420982763171196, 0.0140327587723732, 0.0280655175447464, 0.070163793861866, 0.05119721591472626, 0.02133217453956604, 0.2517196536064148, 0.31144973635673523, 0.012799303978681564, 0.05119721591472626, 0.183456689119339, 0.04266434907913208, 0.017065739259123802, 0.034131478518247604, 0.0042664348147809505, 0.008532869629561901, 0.008532869629561901, 0.3950338363647461, 0.041582509875297546, 0.5405726432800293, 0.06657852977514267, 0.10264190286397934, 0.2524436116218567, 0.2968292832374573, 0.019418738782405853, 0.07212673872709274, 0.11928653717041016, 0.016644632443785667, 0.008322316221892834, 0.008322316221892834, 0.0055482108145952225, 0.008322316221892834, 0.008322316221892834, 0.008322316221892834, 0.0055482108145952225, 0.027976810932159424, 0.19583767652511597, 0.16786086559295654, 0.39167535305023193, 0.05595362186431885, 0.027976810932159424, 0.027976810932159424, 0.027976810932159424, 0.027976810932159424, 0.3688333332538605, 0.11065000295639038, 0.11065000295639038, 0.22130000591278076, 0.18441666662693024, 0.14144839346408844, 0.14144839346408844, 0.17681048810482025, 0.3182588815689087, 0.07072419673204422, 0.03536209836602211, 0.10608629137277603, 0.22444887459278107, 0.6092183589935303, 0.03206412494182587, 0.0961923748254776, 0.11558449268341064, 0.08870437741279602, 0.215040922164917, 0.2580491006374359, 0.06988830119371414, 0.08332835882902145, 0.0456961952149868, 0.037632159888744354, 0.029568126425147057, 0.018816079944372177, 0.00537602324038744, 0.013440057635307312, 0.013440057635307312, 0.01075204648077488, 0.28900641202926636, 0.513789176940918, 0.03211182355880737, 0.03211182355880737, 0.09633547812700272, 0.2159893661737442, 0.2519875764846802, 0.5039751529693604, 0.1963558793067932, 0.12622877955436707, 0.12622877955436707, 0.17595526576042175, 0.06885206699371338, 0.09052771329879761, 0.12367870658636093, 0.039526183158159256, 0.007650229148566723, 0.007650229148566723, 0.010200305841863155, 0.006375191267579794, 0.012750382535159588, 0.006375191267579794, 0.002550076460465789, 0.019248006865382195, 0.28872010111808777, 0.019248006865382195, 0.11548804491758347, 0.4427041709423065, 0.019248006865382195, 0.03849601373076439, 0.019248006865382195, 0.019248006865382195, 0.08070559054613113, 0.08070559054613113, 0.3631751537322998, 0.1210583820939064, 0.08070559054613113, 0.04035279527306557, 0.04035279527306557, 0.04035279527306557, 0.08070559054613113, 0.028003860265016556, 0.036004964262247086, 0.4600634276866913, 0.1600220650434494, 0.10001379251480103, 0.02400331012904644, 0.16402260959148407, 0.004000551532953978, 0.004000551532953978, 0.004000551532953978, 0.008001103065907955, 0.004000551532953978, 0.017559923231601715, 0.4565580189228058, 0.28095877170562744, 0.017559923231601715, 0.03511984646320343, 0.017559923231601715, 0.03511984646320343, 0.14047938585281372, 0.017559923231601715, 0.18406222760677338, 0.1577676236629486, 0.10517841577529907, 0.1577676236629486, 0.026294603943824768, 0.13147301971912384, 0.13147301971912384, 0.026294603943824768, 0.026294603943824768, 0.026294603943824768, 0.052589207887649536, 0.7909578680992126, 0.07190526276826859, 0.03595263138413429, 0.03595263138413429, 0.19330620765686035, 0.14886799454689026, 0.16442137956619263, 0.10887361317873001, 0.08887641876935959, 0.08443259447813034, 0.09776405990123749, 0.035550568252801895, 0.004443821031600237, 0.011109552346169949, 0.008887642063200474, 0.011109552346169949, 0.02888483554124832, 0.013331462629139423, 0.0022219105158001184, 0.034637778997421265, 0.1039133295416832, 0.06927555799484253, 0.06927555799484253, 0.2078266590833664, 0.13855111598968506, 0.24246443808078766, 0.1039133295416832, 0.034637778997421265, 0.19870732724666595, 0.08317980915307999, 0.2957504391670227, 0.07393760979175568, 0.06007430702447891, 0.08317980915307999, 0.06931650638580322, 0.0508321076631546, 0.01386330183595419, 0.01848440244793892, 0.00924220122396946, 0.00924220122396946, 0.01848440244793892, 0.00462110061198473, 0.01386330183595419, 0.4447254538536072, 0.02021479234099388, 0.06064438074827194, 0.04042958468198776, 0.04042958468198776, 0.16171833872795105, 0.02021479234099388, 0.1010739654302597, 0.04042958468198776, 0.06064438074827194, 0.08401383459568024, 0.1470242142677307, 0.16802766919136047, 0.27304497361183167, 0.09451556205749512, 0.02100345864892006, 0.02100345864892006, 0.02100345864892006, 0.02100345864892006, 0.01050172932446003, 0.03150518983602524, 0.02100345864892006, 0.07351210713386536, 0.017752351239323616, 0.24853292107582092, 0.08876175433397293, 0.07100940495729446, 0.39055171608924866, 0.03550470247864723, 0.03550470247864723, 0.017752351239323616, 0.07100940495729446, 0.19552358984947205, 0.22543977200984955, 0.06303766369819641, 0.17308646440505981, 0.11218567192554474, 0.07051670551300049, 0.027779309079051018, 0.07906418293714523, 0.010684349574148655, 0.008547479286789894, 0.017094958573579788, 0.0032053047325462103, 0.0053421747870743275, 0.0021368698216974735, 0.0032053047325462103, 0.23589271306991577, 0.7338884472846985, 0.026210300624370575, 0.21709410846233368, 0.7381199598312378, 0.08979501575231552, 0.17959003150463104, 0.17959003150463104, 0.04489750787615776, 0.40407755970954895, 0.04489750787615776, 0.08056380599737167, 0.36253711581230164, 0.4028190076351166, 0.08056380599737167, 0.04028190299868584, 0.3245473802089691, 0.046363912522792816, 0.046363912522792816, 0.18545565009117126, 0.18545565009117126, 0.046363912522792816, 0.13909174501895905, 0.1839226931333542, 0.052549343556165695, 0.1313733607530594, 0.1313733607530594, 0.1313733607530594, 0.21019737422466278, 0.10509868711233139, 0.0788240134716034, 0.21114341914653778, 0.12469100207090378, 0.0016625466523692012, 0.2826329469680786, 0.05818913131952286, 0.023275652900338173, 0.11970335990190506, 0.046551305800676346, 0.05818913131952286, 0.0016625466523692012, 0.034913480281829834, 0.03325093165040016, 0.0033250933047384024, 0.6589495539665222, 0.037850890308618546, 0.008602474816143513, 0.017204949632287025, 0.21162088215351105, 0.008602474816143513, 0.0034409898798912764, 0.03440989926457405, 0.0017204949399456382, 0.012043464928865433, 0.005161484703421593, 0.0017204949399456382, 0.29859137535095215, 0.036669112741947174, 0.015715334564447403, 0.08381512016057968, 0.3562142550945282, 0.01047689002007246, 0.15191490948200226, 0.00523844501003623, 0.01047689002007246, 0.036669112741947174, 0.01020099502056837, 0.01020099502056837, 0.08160796016454697, 0.32643184065818787, 0.07140696048736572, 0.3774368166923523, 0.061205968260765076, 0.030602984130382538, 0.01020099502056837, 0.01020099502056837, 0.01020099502056837, 0.01020099502056837, 0.12762852013111115, 0.11116033047437668, 0.2429058998823166, 0.21408656239509583, 0.045287542045116425, 0.07822393625974655, 0.02058524638414383, 0.07822393625974655, 0.008234098553657532, 0.016468197107315063, 0.012351147830486298, 0.02881934493780136, 0.004117049276828766, 0.012351147830486298, 0.12839145958423615, 0.1699298769235611, 0.26433536410331726, 0.09062926471233368, 0.060419511049985886, 0.1699298769235611, 0.026433534920215607, 0.049090851098299026, 0.003776219440624118, 0.015104877762496471, 0.02265731617808342, 0.003776219440624118, 0.08418520539999008, 0.2946482300758362, 0.1473241150379181, 0.1473241150379181, 0.10523150861263275, 0.06313890218734741, 0.04209260269999504, 0.08418520539999008, 0.17100010812282562, 0.7695004940032959, 0.008550005033612251, 0.034200020134449005, 0.008550005033612251, 0.008550005033612251, 0.008550005033612251, 0.017532769590616226, 0.12272939085960388, 0.3506554067134857, 0.15779493749141693, 0.05259830877184868, 0.1402621567249298, 0.03506553918123245, 0.08766385167837143, 0.017532769590616226, 0.1701207309961319, 0.7655432820320129, 0.01701207272708416, 0.038833972066640854, 0.19416986405849457, 0.23300383985042572, 0.038833972066640854, 0.07766794413328171, 0.349505752325058, 0.038833972066640854, 0.0499543622136116, 0.0666058138012886, 0.11656017601490021, 0.1332116276025772, 0.0832572653889656, 0.0499543622136116, 0.36633196473121643, 0.0666058138012886, 0.0333029069006443, 0.0333029069006443, 0.13272199034690857, 0.17696265876293182, 0.26544398069381714, 0.044240664690732956, 0.13272199034690857, 0.08848132938146591, 0.044240664690732956, 0.08848132938146591, 0.044240664690732956, 0.23416738212108612, 0.23416738212108612, 0.07805579900741577, 0.005203719716519117, 0.04162975773215294, 0.23937110602855682, 0.01561115961521864, 0.04162975773215294, 0.05203719809651375, 0.026018599048256874, 0.005203719716519117, 0.01561115961521864, 0.005203719716519117, 0.3007948398590088, 0.2173001766204834, 0.06208576634526253, 0.11881931126117706, 0.13594642281532288, 0.04602910205721855, 0.0417473241686821, 0.036395102739334106, 0.0021408884786069393, 0.005352220963686705, 0.006422665435820818, 0.01070444192737341, 0.00963399838656187, 0.005352220963686705, 0.0021408884786069393, 0.32844820618629456, 0.04105602577328682, 0.04105602577328682, 0.04105602577328682, 0.06158404052257538, 0.3489762246608734, 0.04105602577328682, 0.02052801288664341, 0.02052801288664341, 0.02052801288664341, 0.04105602577328682, 0.043296296149492264, 0.061851851642131805, 0.2597777843475342, 0.24122221767902374, 0.030925925821065903, 0.03711111098527908, 0.2535925805568695, 0.030925925821065903, 0.0061851851642131805, 0.012370370328426361, 0.0061851851642131805, 0.012370370328426361, 0.0061851851642131805, 0.14136168360710144, 0.3534042239189148, 0.21204254031181335, 0.14136168360710144, 0.03534042090177536, 0.10602127015590668, 0.010096540674567223, 0.005048270337283611, 0.16659292578697205, 0.16154465079307556, 0.015144811011850834, 0.030289622023701668, 0.12115848809480667, 0.4745374023914337, 0.005048270337283611, 0.015144811011850834, 0.16418001055717468, 0.1313440054655075, 0.6238840222358704, 0.03283600136637688, 0.14708535373210907, 0.1103140115737915, 0.441256046295166, 0.07354267686605453, 0.07354267686605453, 0.03677133843302727, 0.03677133843302727, 0.07354267686605453, 0.14042608439922333, 0.38617175817489624, 0.1053195670247078, 0.1053195670247078, 0.1053195670247078, 0.03510652109980583, 0.1053195670247078, 0.9429014325141907, 0.026940040290355682, 0.04177799075841904, 0.3342239260673523, 0.04177799075841904, 0.4595578908920288, 0.04177799075841904, 0.045709170401096344, 0.036567337810993195, 0.23768769204616547, 0.3382478654384613, 0.018283668905496597, 0.09446562081575394, 0.11884384602308273, 0.042661894112825394, 0.027425503358244896, 0.012189112603664398, 0.006094556301832199, 0.006094556301832199, 0.0030472781509160995, 0.0030472781509160995, 0.6037956476211548, 0.3018978238105774, 0.037737227976322174, 0.09447123855352402, 0.05510822311043739, 0.09447123855352402, 0.2637321949005127, 0.019681507721543312, 0.09053493291139603, 0.2007513791322708, 0.05510822311043739, 0.043299317359924316, 0.039363015443086624, 0.00787260290235281, 0.003936301451176405, 0.019681507721543312, 0.003936301451176405, 0.4284440279006958, 0.03455193713307381, 0.0898350402712822, 0.05528309941291809, 0.06219348683953285, 0.05528309941291809, 0.13820774853229523, 0.06219348683953285, 0.06219348683953285, 0.006910387426614761, 0.11995995044708252, 0.03998665139079094, 0.03998665139079094, 0.07997330278158188, 0.43985316157341003, 0.07997330278158188, 0.15994660556316376, 0.03998665139079094, 0.03998665139079094, 0.26059195399284363, 0.22801795601844788, 0.032573994249105453, 0.4234619140625, 0.032573994249105453, 0.018861493095755577, 0.02829224057495594, 0.2074764370918274, 0.16032269597053528, 0.07544597238302231, 0.4338143467903137, 0.009430746547877789, 0.018861493095755577, 0.018861493095755577, 0.009430746547877789, 0.009430746547877789, 0.018861493095755577, 0.10186049342155457, 0.3395349681377411, 0.2716279625892639, 0.03395349532365799, 0.03395349532365799, 0.03395349532365799, 0.03395349532365799, 0.13581398129463196, 0.2569357454776764, 0.3239624798297882, 0.041492730379104614, 0.11490294337272644, 0.13405343890190125, 0.05585559830069542, 0.012766994535923004, 0.03032161109149456, 0.011171120218932629, 0.009575245901942253, 0.003191748633980751, 0.0015958743169903755, 0.025820238515734673, 0.9553488492965698, 0.029756734147667885, 0.9522154927253723, 0.13228793442249298, 0.13228793442249298, 0.17638391256332397, 0.044095978140830994, 0.08819195628166199, 0.08819195628166199, 0.044095978140830994, 0.13228793442249298, 0.044095978140830994, 0.044095978140830994, 0.12546789646148682, 0.6691620945930481, 0.041822630912065506, 0.041822630912065506, 0.041822630912065506, 0.041822630912065506, 0.03529508039355278, 0.03529508039355278, 0.10588523745536804, 0.45883601903915405, 0.14118032157421112, 0.07059016078710556, 0.14118032157421112, 0.019681816920638084, 0.11809089779853821, 0.334590882062912, 0.03936363384127617, 0.15745453536510468, 0.1771363466978073, 0.09840907901525497, 0.019681816920638084, 0.019681816920638084, 0.1894715279340744, 0.21547742187976837, 0.08173281699419022, 0.10030845552682877, 0.07801768183708191, 0.12259922176599503, 0.0371512770652771, 0.1151689663529396, 0.011145384050905704, 0.02972102351486683, 0.0037151279393583536, 0.007430255878716707, 0.0037151279393583536, 0.039596326649188995, 0.10888990014791489, 0.12868806719779968, 0.32666969299316406, 0.05939448997378349, 0.15838530659675598, 0.009899081662297249, 0.06929357349872589, 0.009899081662297249, 0.04949541017413139, 0.009899081662297249, 0.019798163324594498, 0.009899081662297249, 0.07087358832359314, 0.17718397080898285, 0.17718397080898285, 0.31893113255500793, 0.03543679416179657, 0.17718397080898285, 0.03543679416179657, 0.03772825002670288, 0.7419888973236084, 0.11318475008010864, 0.025152165442705154, 0.012576082721352577, 0.025152165442705154, 0.025152165442705154, 0.08767733722925186, 0.5260640382766724, 0.04383866861462593, 0.04383866861462593, 0.2630320191383362, 0.23136867582798004, 0.13404692709445953, 0.09732174128293991, 0.15975455939769745, 0.056924037635326385, 0.12119311839342117, 0.055087778717279434, 0.0899767056107521, 0.014690075069665909, 0.011017556302249432, 0.007345037534832954, 0.011017556302249432, 0.012853815220296383, 0.14288780093193054, 0.3214975595474243, 0.07144390046596527, 0.035721950232982635, 0.1071658506989479, 0.07144390046596527, 0.07144390046596527, 0.035721950232982635, 0.035721950232982635, 0.07144390046596527, 0.013077220879495144, 0.013077220879495144, 0.09154054522514343, 0.8369421362876892, 0.013077220879495144, 0.013077220879495144, 0.0799739807844162, 0.2399219423532486, 0.1199609711766243, 0.0799739807844162, 0.0399869903922081, 0.0799739807844162, 0.3598829209804535, 0.3174593448638916, 0.06349187344312668, 0.1587296724319458, 0.06349187344312668, 0.3174593448638916, 0.03174593672156334, 0.2655234932899475, 0.4984827935695648, 0.037574078887701035, 0.06638087332248688, 0.028806794434785843, 0.04383642598986626, 0.016282102093100548, 0.02504938654601574, 0.006262346636503935, 0.005009877495467663, 0.003757408121600747, 0.0012524693738669157, 0.0025049387477338314, 0.09230490773916245, 0.21537812054157257, 0.1846098154783249, 0.14016671478748322, 0.08546750992536545, 0.09572360664606094, 0.027349602431058884, 0.09230490773916245, 0.010256101377308369, 0.03076830320060253, 0.0034187003038823605, 0.0034187003038823605, 0.010256101377308369, 0.0034187003038823605, 0.006837400607764721, 0.23643244802951813, 0.28024423122406006, 0.06420689821243286, 0.09895415604114532, 0.09517727792263031, 0.09593265503644943, 0.03172576054930687, 0.05438701808452606, 0.00981987826526165, 0.006798377260565758, 0.0045322515070438385, 0.0045322515070438385, 0.010575253516435623, 0.0045322515070438385, 0.0022661257535219193, 0.7926735877990723, 0.11890104413032532, 0.019816840067505836, 0.019816840067505836, 0.02972526103258133, 0.009908420033752918, 0.14964412152767181, 0.18705514073371887, 0.17487481236457825, 0.14703404903411865, 0.04176114872097969, 0.0957026332616806, 0.08439232409000397, 0.04524124413728714, 0.01566043123602867, 0.020880574360489845, 0.011310311034321785, 0.006960191298276186, 0.011310311034321785, 0.006090167444199324, 0.0026100717950612307, 0.26160746812820435, 0.19129100441932678, 0.14894990622997284, 0.1285354495048523, 0.08165781944990158, 0.05065809190273285, 0.0438532717525959, 0.04158499836921692, 0.012097454629838467, 0.014365727081894875, 0.010585272684693336, 0.005292636342346668, 0.0030243636574596167, 0.0037804546300321817, 0.0015121818287298083, 0.39086002111434937, 0.34743112325668335, 0.08685778081417084, 0.08685778081417084, 0.04342889040708542, 0.1462346613407135, 0.0841350108385086, 0.2203536033630371, 0.20232467353343964, 0.05408679321408272, 0.09815751761198044, 0.07411894202232361, 0.04407072067260742, 0.018028931692242622, 0.01001607347279787, 0.02203536033630371, 0.0060096438974142075, 0.004006429109722376, 0.01001607347279787, 0.004006429109722376, 0.9052862524986267, 0.033529117703437805, 0.033529117703437805, 0.5011312365531921, 0.07580136507749557, 0.06316780298948288, 0.08001255244016647, 0.15160273015499115, 0.03368949517607689, 0.02947830967605114, 0.02947830967605114, 0.008422373794019222, 0.004211186897009611, 0.01263356115669012, 0.008422373794019222, 0.033851541578769684, 0.06770308315753937, 0.16925770044326782, 0.1184803918004036, 0.06770308315753937, 0.3723669648170471, 0.033851541578769684, 0.033851541578769684, 0.016925770789384842, 0.050777312368154526, 0.02670474350452423, 0.02670474350452423, 0.23144111037254333, 0.25814586877822876, 0.32045692205429077, 0.02670474350452423, 0.035606324672698975, 0.02670474350452423, 0.017803162336349487, 0.008901581168174744, 0.008901581168174744, 0.062074095010757446, 0.21725933253765106, 0.18622228503227234, 0.31037047505378723, 0.12414819002151489, 0.031037047505378723, 0.031037047505378723, 0.05576684698462486, 0.6413187384605408, 0.05576684698462486, 0.02788342349231243, 0.08365026861429214, 0.02788342349231243, 0.02788342349231243, 0.02788342349231243, 0.18019287288188934, 0.21623145043849945, 0.03603857383131981, 0.4324629008769989, 0.07207714766263962, 0.11078321188688278, 0.07579904049634933, 0.19241294264793396, 0.23322780430316925, 0.05539160594344139, 0.06705299764871597, 0.13119064271450043, 0.05830695107579231, 0.014576737768948078, 0.005830695386976004, 0.005830695386976004, 0.011661390773952007, 0.020407432690262794, 0.008746042847633362, 0.005830695386976004, 0.13837164640426636, 0.2213946282863617, 0.11069731414318085, 0.055348657071590424, 0.2213946282863617, 0.11069731414318085, 0.055348657071590424, 0.027674328535795212, 0.027674328535795212, 0.8830075860023499, 0.07791243493556976, 0.7287173867225647, 0.23012128472328186, 0.8075752258300781, 0.13025407493114471, 0.026050813496112823, 0.19819185137748718, 0.11891511082649231, 0.15855348110198975, 0.039638370275497437, 0.039638370275497437, 0.19819185137748718, 0.11891511082649231, 0.039638370275497437, 0.021657632663846016, 0.584756076335907, 0.15160343050956726, 0.04331526532769203, 0.04331526532769203, 0.04331526532769203, 0.021657632663846016, 0.0649728998541832, 0.20112189650535583, 0.0287316981703043, 0.31604868173599243, 0.20112189650535583, 0.0574633963406086, 0.0287316981703043, 0.0287316981703043, 0.0574633963406086, 0.08619509637355804, 0.020220382139086723, 0.4650687575340271, 0.020220382139086723, 0.4448483884334564, 0.020220382139086723, 0.10294761508703232, 0.12868452072143555, 0.05147380754351616, 0.4375273585319519, 0.05147380754351616, 0.02573690377175808, 0.07721070945262909, 0.05147380754351616, 0.05147380754351616, 0.05147380754351616, 0.7610597014427185, 0.08953643590211868, 0.04476821795105934, 0.04476821795105934, 0.04476821795105934, 0.4090604782104492, 0.01859365776181221, 0.22312389314174652, 0.2045302391052246, 0.09296828508377075, 0.01859365776181221, 0.019494593143463135, 0.07797837257385254, 0.15595674514770508, 0.15595674514770508, 0.5263540148735046, 0.019494593143463135, 0.019494593143463135, 0.019494593143463135, 0.3293856382369995, 0.11763772368431091, 0.023527545854449272, 0.18822036683559418, 0.16469281911849976, 0.023527545854449272, 0.07058263570070267, 0.07058263570070267, 0.023527545854449272, 0.4963783621788025, 0.09025061130523682, 0.13537591695785522, 0.09025061130523682, 0.13537591695785522, 0.04512530565261841, 0.14357560873031616, 0.11334916949272156, 0.18639640510082245, 0.23173607885837555, 0.020150963217020035, 0.05289627984166145, 0.12594352662563324, 0.04282079637050629, 0.02518870308995247, 0.010075481608510017, 0.005037740804255009, 0.0025188704021275043, 0.03778305649757385, 0.0025188704021275043, 0.03667895123362541, 0.03667895123362541, 0.11003685742616653, 0.11003685742616653, 0.44014742970466614, 0.22007371485233307, 0.7793204188346863, 0.008659115992486477, 0.13854585587978363, 0.05195469781756401, 0.1305021047592163, 0.21750351786613464, 0.15027515590190887, 0.13841132819652557, 0.0949106216430664, 0.019773047417402267, 0.0830467939376831, 0.0711829662322998, 0.0118638277053833, 0.019773047417402267, 0.015818437561392784, 0.0355914831161499, 0.007909218780696392, 0.2161482572555542, 0.26700666546821594, 0.038143809884786606, 0.4068673253059387, 0.02542920783162117, 0.012714603915810585, 0.038143809884786606, 0.03473898768424988, 0.060793228447437286, 0.060793228447437286, 0.5124000906944275, 0.02605424076318741, 0.1997491866350174, 0.05210848152637482, 0.02605424076318741, 0.00868474692106247, 0.00868474692106247, 0.00868474692106247, 0.15848200023174286, 0.2127370983362198, 0.12278785556554794, 0.1670485883951187, 0.09566030651330948, 0.08566594123840332, 0.05996616184711456, 0.047116268426179886, 0.017133189365267754, 0.001427765702828765, 0.007138828746974468, 0.00999435968697071, 0.007138828746974468, 0.00571106281131506, 0.1645766645669937, 0.10971777886152267, 0.10971777886152267, 0.036572590470314026, 0.09143147617578506, 0.05485888943076134, 0.2742944359779358, 0.018286295235157013, 0.018286295235157013, 0.018286295235157013, 0.09143147617578506, 0.018286295235157013, 0.09485188126564026, 0.15176300704479218, 0.09485188126564026, 0.018970375880599022, 0.07588150352239609, 0.37940752506256104, 0.11382225900888443, 0.018970375880599022, 0.037940751761198044, 0.13967649638652802, 0.08380589634180069, 0.19355171918869019, 0.24343617260456085, 0.08979203552007675, 0.0658474937081337, 0.08979203552007675, 0.029930677264928818, 0.009976892732083797, 0.01795840635895729, 0.007981513626873493, 0.0059861354529857635, 0.007981513626873493, 0.011972270905971527, 0.003990756813436747, 0.02795596420764923, 0.30751562118530273, 0.02795596420764923, 0.4472954273223877, 0.02795596420764923, 0.11182385683059692, 0.0066584995947778225, 0.9810189604759216, 0.00221950002014637, 0.00221950002014637, 0.00221950002014637, 0.00221950002014637, 0.016127845272421837, 0.06451138108968735, 0.032255690544843674, 0.5644745826721191, 0.032255690544843674, 0.06451138108968735, 0.06451138108968735, 0.06451138108968735, 0.032255690544843674, 0.06451138108968735, 0.008402687497437, 0.016805374994874, 0.23947659134864807, 0.31089943647384644, 0.10503359138965607, 0.2142685353755951, 0.025208061560988426, 0.0042013437487185, 0.008402687497437, 0.012604030780494213, 0.008402687497437, 0.02940940670669079, 0.008402687497437, 0.008402687497437, 0.4498980939388275, 0.5307786464691162, 0.005055034998804331, 0.20712769031524658, 0.2281915247440338, 0.06670213490724564, 0.11585107445716858, 0.1263829916715622, 0.00702127767726779, 0.0456383042037487, 0.1439361870288849, 0.00702127767726779, 0.017553193494677544, 0.010531916283071041, 0.021063832566142082, 0.003510638838633895, 0.0774172767996788, 0.24331143498420715, 0.03317883238196373, 0.26543065905570984, 0.022119220346212387, 0.12165571749210358, 0.03317883238196373, 0.19907298684120178, 0.9883013963699341, 0.020258834585547447, 0.040517669171094894, 0.05064708739519119, 0.39504727721214294, 0.06077650561928749, 0.26336485147476196, 0.05064708739519119, 0.06077650561928749, 0.010129417292773724, 0.010129417292773724, 0.030388252809643745, 0.010129417292773724, 0.33097031712532043, 0.07354895770549774, 0.07354895770549774, 0.44129374623298645, 0.03677447885274887, 0.19489461183547974, 0.2577638328075409, 0.12154717743396759, 0.12364281713962555, 0.07963436096906662, 0.05658230558037758, 0.06286922842264175, 0.033530257642269135, 0.020956410095095634, 0.006286922842264175, 0.014669487252831459, 0.008382564410567284, 0.004191282205283642, 0.006286922842264175, 0.004191282205283642, 0.1672677844762802, 0.03860025852918625, 0.27020180225372314, 0.09006726741790771, 0.03860025852918625, 0.154401034116745, 0.051467008888721466, 0.03860025852918625, 0.012866752222180367, 0.0772005170583725, 0.025733504444360733, 0.009352396242320538, 0.9788841605186462, 0.003117465414106846, 0.003117465414106846, 0.003117465414106846, 0.287121057510376, 0.035890132188797, 0.071780264377594, 0.287121057510376, 0.071780264377594, 0.10767039656639099, 0.10767039656639099, 0.14834217727184296, 0.12798148393630981, 0.20651556551456451, 0.17742887139320374, 0.029086699709296227, 0.09016876667737961, 0.07271675020456314, 0.09016876667737961, 0.029086699709296227, 0.005817340221256018, 0.008726010099053383, 0.005817340221256018, 0.002908670110628009, 0.008726010099053383, 0.09534060209989548, 0.2860218286514282, 0.12712080776691437, 0.03178020194172859, 0.03178020194172859, 0.06356040388345718, 0.2860218286514282, 0.03178020194172859, 0.03178020194172859, 0.28859221935272217, 0.32466626167297363, 0.03607402741909027, 0.21644417941570282, 0.10822208970785141, 0.21167518198490143, 0.16112588346004486, 0.07898327708244324, 0.19271919131278992, 0.05686795711517334, 0.0884612649679184, 0.025274647399783134, 0.0884612649679184, 0.025274647399783134, 0.037911973893642426, 0.02843397855758667, 0.003159330924972892, 0.1411905288696289, 0.18825402855873108, 0.32944455742836, 0.09412701427936554, 0.04706350713968277, 0.1411905288696289, 0.04706350713968277, 0.1234343945980072, 0.20901557803153992, 0.08064380288124084, 0.1942034512758255, 0.0872269719839096, 0.05595692619681358, 0.0526653416454792, 0.1431839019060135, 0.00329158385284245, 0.014812126755714417, 0.00329158385284245, 0.008228959515690804, 0.016457919031381607, 0.008228959515690804, 0.2177923172712326, 0.2755739390850067, 0.145194873213768, 0.08593165874481201, 0.1318606585264206, 0.062226373702287674, 0.013334223069250584, 0.026668446138501167, 0.004444741178303957, 0.008889482356607914, 0.008889482356607914, 0.010371062904596329, 0.004444741178303957, 0.004444741178303957, 0.19142626225948334, 0.017402388155460358, 0.017402388155460358, 0.26103582978248596, 0.34804776310920715, 0.017402388155460358, 0.017402388155460358, 0.1218167170882225, 0.24084942042827606, 0.06881412118673325, 0.1376282423734665, 0.4128847122192383, 0.03440706059336662, 0.03440706059336662, 0.03440706059336662, 0.03440706059336662], \"Term\": [\"abbey\", \"abbey\", \"abode\", \"abode\", \"abode\", \"abode\", \"abode\", \"abode\", \"abode\", \"abode\", \"abode\", \"absence\", \"absence\", \"absence\", \"absence\", \"absence\", \"absence\", \"absence\", \"absence\", \"absence\", \"absence\", \"absence\", \"absence\", \"absurd\", \"absurd\", \"absurd\", \"absurd\", \"absurd\", \"absurd\", \"absurd\", \"absurd\", \"absurd\", \"absurd\", \"accepted\", \"accepted\", \"accepted\", \"accepted\", \"accepted\", \"accepted\", \"accepted\", \"adele\", \"adele\", \"adele\", \"adele\", \"adele\", \"adele\", \"adele\", \"adele\", \"admire\", \"admire\", \"admire\", \"admire\", \"admire\", \"admire\", \"admire\", \"admire\", \"admire\", \"admire\", \"admire\", \"admire\", \"affection\", \"affection\", \"affection\", \"affection\", \"affection\", \"affection\", \"affection\", \"affection\", \"affection\", \"affection\", \"affection\", \"affection\", \"affection\", \"affection\", \"affectionate\", \"affectionate\", \"affectionate\", \"affectionate\", \"affectionate\", \"affectionate\", \"affectionate\", \"affectionate\", \"affliction\", \"affliction\", \"affliction\", \"affliction\", \"affliction\", \"air\", \"air\", \"air\", \"air\", \"air\", \"air\", \"air\", \"air\", \"air\", \"air\", \"air\", \"air\", \"air\", \"alteration\", \"alteration\", \"alteration\", \"alteration\", \"alteration\", \"anguish\", \"anguish\", \"anguish\", \"anguish\", \"anguish\", \"anguish\", \"animal\", \"animal\", \"animal\", \"animal\", \"animal\", \"animal\", \"animal\", \"announced\", \"announced\", \"announced\", \"announced\", \"announced\", \"announced\", \"announced\", \"announced\", \"apartment\", \"apartment\", \"apartment\", \"apartment\", \"apartment\", \"apartment\", \"apartment\", \"appears\", \"appears\", \"appears\", \"appears\", \"appears\", \"appears\", \"appears\", \"appears\", \"appears\", \"appetite\", \"appetite\", \"appetite\", \"appetite\", \"appetite\", \"appetite\", \"appetite\", \"asked\", \"asked\", \"asked\", \"asked\", \"asked\", \"asked\", \"asked\", \"asked\", \"asked\", \"asked\", \"asked\", \"asked\", \"asked\", \"asked\", \"asked\", \"ate\", \"ate\", \"ate\", \"ate\", \"ate\", \"ate\", \"ate\", \"ate\", \"au\", \"au\", \"au\", \"au\", \"away\", \"away\", \"away\", \"away\", \"away\", \"away\", \"away\", \"away\", \"away\", \"away\", \"away\", \"away\", \"away\", \"away\", \"away\", \"baffled\", \"baffled\", \"baffled\", \"baffled\", \"baffled\", \"baffled\", \"ball\", \"ball\", \"ball\", \"ball\", \"ball\", \"ball\", \"ball\", \"ball\", \"ball\", \"barton\", \"bassompierre\", \"bassompierre\", \"bassompierre\", \"bassompierre\", \"bassompierre\", \"bates\", \"bates\", \"beat\", \"beat\", \"beat\", \"beat\", \"beat\", \"beat\", \"beat\", \"beautiful\", \"beautiful\", \"beautiful\", \"beautiful\", \"beautiful\", \"beautiful\", \"beautiful\", \"beautiful\", \"beautiful\", \"beautiful\", \"beautiful\", \"beautiful\", \"beautiful\", \"beautiful\", \"beauty\", \"beauty\", \"beauty\", \"beauty\", \"beauty\", \"beauty\", \"beauty\", \"beauty\", \"beauty\", \"beauty\", \"beauty\", \"beauty\", \"beck\", \"beck\", \"beck\", \"beck\", \"beck\", \"beck\", \"beck\", \"beck\", \"bed\", \"bed\", \"bed\", \"bed\", \"bed\", \"bed\", \"bed\", \"bed\", \"bed\", \"bed\", \"bed\", \"bed\", \"bed\", \"behaviour\", \"behaviour\", \"behaviour\", \"behaviour\", \"behaviour\", \"behaviour\", \"bell\", \"bell\", \"bell\", \"bell\", \"bell\", \"bell\", \"bell\", \"bell\", \"bell\", \"bell\", \"bell\", \"bell\", \"bell\", \"bennet\", \"bennet\", \"bennet\", \"bennet\", \"bessie\", \"bessie\", \"bessie\", \"bestow\", \"bestow\", \"bestow\", \"bestow\", \"better\", \"better\", \"better\", \"better\", \"better\", \"better\", \"better\", \"better\", \"better\", \"better\", \"better\", \"better\", \"better\", \"better\", \"bien\", \"bien\", \"bien\", \"bien\", \"bien\", \"bingley\", \"bingley\", \"bingley\", \"black\", \"black\", \"black\", \"black\", \"black\", \"black\", \"black\", \"black\", \"black\", \"black\", \"black\", \"bliss\", \"bliss\", \"bliss\", \"bliss\", \"bliss\", \"bliss\", \"blood\", \"blood\", \"blood\", \"blood\", \"blood\", \"blood\", \"blood\", \"blood\", \"blood\", \"blood\", \"blood\", \"board\", \"board\", \"board\", \"board\", \"board\", \"board\", \"board\", \"board\", \"boast\", \"boast\", \"boast\", \"boast\", \"boast\", \"boast\", \"boast\", \"boast\", \"boast\", \"body\", \"body\", \"body\", \"body\", \"body\", \"body\", \"body\", \"body\", \"bonne\", \"bonne\", \"bonne\", \"bonne\", \"bonne\", \"bonne\", \"bourgh\", \"bourgh\", \"bourgh\", \"boy\", \"boy\", \"boy\", \"boy\", \"boy\", \"boy\", \"boy\", \"boy\", \"brandon\", \"bretton\", \"bretton\", \"bretton\", \"bretton\", \"bretton\", \"bretton\", \"bretton\", \"bretton\", \"bretton\", \"bretton\", \"bride\", \"bride\", \"bride\", \"bride\", \"bride\", \"bride\", \"bride\", \"bride\", \"bride\", \"broad\", \"broad\", \"broad\", \"broad\", \"broad\", \"broad\", \"broad\", \"broad\", \"broad\", \"brother\", \"brother\", \"brother\", \"brother\", \"brother\", \"brother\", \"brother\", \"brother\", \"brother\", \"brother\", \"brother\", \"brussels\", \"brussels\", \"brussels\", \"brussels\", \"burden\", \"burden\", \"burden\", \"burden\", \"burden\", \"burnt\", \"burnt\", \"burnt\", \"burnt\", \"burnt\", \"cabinet\", \"cabinet\", \"cabinet\", \"cabinet\", \"cabinet\", \"cabinet\", \"called\", \"called\", \"called\", \"called\", \"called\", \"called\", \"called\", \"called\", \"called\", \"called\", \"called\", \"called\", \"called\", \"called\", \"calmness\", \"calmness\", \"calmness\", \"came\", \"came\", \"came\", \"came\", \"came\", \"came\", \"came\", \"came\", \"came\", \"came\", \"came\", \"came\", \"came\", \"came\", \"came\", \"campbell\", \"campbell\", \"candle\", \"candle\", \"candle\", \"candour\", \"candour\", \"candour\", \"candour\", \"candour\", \"candour\", \"candour\", \"candour\", \"candour\", \"carpet\", \"carpet\", \"carpet\", \"carpet\", \"carpet\", \"casement\", \"casement\", \"casement\", \"casement\", \"casement\", \"casement\", \"casement\", \"catherine\", \"catherine\", \"catherine\", \"catherine\", \"catherine\", \"ce\", \"ce\", \"ce\", \"centre\", \"centre\", \"centre\", \"centre\", \"centre\", \"centre\", \"chaise\", \"chaise\", \"chaise\", \"chaise\", \"chaise\", \"chaise\", \"chaise\", \"chanced\", \"chanced\", \"chanced\", \"chanced\", \"chanced\", \"chanced\", \"charity\", \"charity\", \"charity\", \"charity\", \"charity\", \"charity\", \"charlotte\", \"charlotte\", \"charlotte\", \"charlotte\", \"cheerfulness\", \"cheerfulness\", \"cheerfulness\", \"cheerfulness\", \"cheerfulness\", \"child\", \"child\", \"child\", \"child\", \"child\", \"child\", \"child\", \"child\", \"child\", \"child\", \"child\", \"child\", \"child\", \"chill\", \"chill\", \"chill\", \"chill\", \"chill\", \"church\", \"church\", \"church\", \"church\", \"church\", \"church\", \"church\", \"church\", \"church\", \"church\", \"church\", \"church\", \"church\", \"churchill\", \"churchill\", \"churchill\", \"churchill\", \"churchill\", \"chuse\", \"chuse\", \"city\", \"city\", \"city\", \"city\", \"city\", \"city\", \"city\", \"city\", \"class\", \"class\", \"class\", \"class\", \"class\", \"class\", \"class\", \"class\", \"class\", \"class\", \"classe\", \"classe\", \"classe\", \"classe\", \"classe\", \"classe\", \"classe\", \"clean\", \"clean\", \"clean\", \"clean\", \"clean\", \"clean\", \"clean\", \"clergyman\", \"clergyman\", \"clergyman\", \"clergyman\", \"clergyman\", \"clergyman\", \"cloak\", \"cloak\", \"cloak\", \"cloak\", \"cloak\", \"cloak\", \"cloak\", \"closing\", \"closing\", \"closing\", \"closing\", \"closing\", \"closing\", \"closing\", \"closing\", \"clouds\", \"clouds\", \"clouds\", \"clouds\", \"clouds\", \"clouds\", \"cole\", \"collins\", \"collins\", \"collins\", \"collins\", \"colonel\", \"colonel\", \"colonel\", \"colonel\", \"colonel\", \"colonel\", \"colonel\", \"colonel\", \"colonel\", \"come\", \"come\", \"come\", \"come\", \"come\", \"come\", \"come\", \"come\", \"come\", \"come\", \"come\", \"come\", \"come\", \"come\", \"come\", \"comfortably\", \"comfortably\", \"comfortably\", \"comfortably\", \"comfortably\", \"commendation\", \"commendation\", \"commendation\", \"commendation\", \"commendation\", \"commendation\", \"concerning\", \"concerning\", \"concerning\", \"concerning\", \"concerning\", \"concerning\", \"concerning\", \"concerning\", \"concerning\", \"conduct\", \"conduct\", \"conduct\", \"conduct\", \"conduct\", \"conduct\", \"conduct\", \"conduct\", \"conduct\", \"conduct\", \"congratulations\", \"congratulations\", \"congratulations\", \"congratulations\", \"constitution\", \"constitution\", \"constitution\", \"constitution\", \"constitution\", \"constitution\", \"constitution\", \"constitution\", \"cook\", \"cook\", \"cook\", \"cook\", \"cook\", \"cook\", \"cook\", \"cook\", \"cook\", \"correspondence\", \"correspondence\", \"correspondence\", \"correspondence\", \"correspondence\", \"correspondence\", \"corridor\", \"corridor\", \"corridor\", \"corridor\", \"corridor\", \"corridor\", \"cottage\", \"cottage\", \"cottage\", \"cottage\", \"cottage\", \"couch\", \"couch\", \"couch\", \"couch\", \"couch\", \"couch\", \"count\", \"count\", \"count\", \"count\", \"count\", \"count\", \"count\", \"court\", \"court\", \"court\", \"court\", \"court\", \"court\", \"court\", \"court\", \"court\", \"court\", \"cousin\", \"cousin\", \"cousin\", \"cousin\", \"cousin\", \"cousin\", \"cousin\", \"cousin\", \"cousin\", \"cousin\", \"cousin\", \"cousin\", \"crimson\", \"crimson\", \"crimson\", \"crimson\", \"crimson\", \"crimsworth\", \"crimsworth\", \"crimsworth\", \"crimsworth\", \"crimsworth\", \"crimsworth\", \"cup\", \"cup\", \"cup\", \"cup\", \"cup\", \"cup\", \"cup\", \"cup\", \"cup\", \"curtain\", \"curtain\", \"curtain\", \"curtain\", \"curtain\", \"curtain\", \"curtains\", \"curtains\", \"curtains\", \"curtains\", \"darcy\", \"darcy\", \"darcy\", \"darcy\", \"darcy\", \"daresay\", \"daresay\", \"daresay\", \"daresay\", \"daresay\", \"daresay\", \"dark\", \"dark\", \"dark\", \"dark\", \"dark\", \"dark\", \"dark\", \"dark\", \"dark\", \"dark\", \"dark\", \"dark\", \"dark\", \"dark\", \"dashwood\", \"dashwood\", \"dashwood\", \"dashwoods\", \"daughter\", \"daughter\", \"daughter\", \"daughter\", \"daughter\", \"daughter\", \"daughter\", \"daughter\", \"daughter\", \"daughter\", \"daughter\", \"daughter\", \"daughter\", \"daughters\", \"daughters\", \"daughters\", \"daughters\", \"daughters\", \"daughters\", \"daughters\", \"daughters\", \"daughters\", \"daughters\", \"day\", \"day\", \"day\", \"day\", \"day\", \"day\", \"day\", \"day\", \"day\", \"day\", \"day\", \"day\", \"day\", \"day\", \"day\", \"daylight\", \"daylight\", \"daylight\", \"daylight\", \"days\", \"days\", \"days\", \"days\", \"days\", \"days\", \"days\", \"days\", \"days\", \"days\", \"days\", \"days\", \"days\", \"days\", \"dear\", \"dear\", \"dear\", \"dear\", \"dear\", \"dear\", \"dear\", \"dear\", \"dear\", \"dear\", \"dear\", \"dear\", \"dear\", \"deep\", \"deep\", \"deep\", \"deep\", \"deep\", \"deep\", \"deep\", \"deep\", \"deep\", \"deep\", \"deep\", \"deep\", \"deep\", \"demeanour\", \"demeanour\", \"demeanour\", \"demeanour\", \"des\", \"des\", \"des\", \"des\", \"desk\", \"desk\", \"desk\", \"desk\", \"desk\", \"desk\", \"desk\", \"desk\", \"dew\", \"dew\", \"dew\", \"dew\", \"dew\", \"diana\", \"diana\", \"diana\", \"die\", \"die\", \"die\", \"die\", \"die\", \"die\", \"die\", \"die\", \"die\", \"die\", \"die\", \"dim\", \"dim\", \"dim\", \"dim\", \"dim\", \"dim\", \"dim\", \"dine\", \"dine\", \"dine\", \"dine\", \"dine\", \"dine\", \"dine\", \"directress\", \"directress\", \"disgrace\", \"disgrace\", \"disgrace\", \"disgrace\", \"disgust\", \"disgust\", \"disgust\", \"disgust\", \"disgust\", \"disgust\", \"disgust\", \"disgust\", \"disgust\", \"disturbed\", \"disturbed\", \"disturbed\", \"disturbed\", \"disturbed\", \"disturbed\", \"disturbed\", \"divine\", \"divine\", \"divine\", \"divine\", \"divine\", \"division\", \"division\", \"division\", \"division\", \"doctor\", \"doctor\", \"doctor\", \"doctor\", \"doctor\", \"doctor\", \"doctor\", \"donwell\", \"donwell\", \"door\", \"door\", \"door\", \"door\", \"door\", \"door\", \"door\", \"door\", \"door\", \"door\", \"door\", \"door\", \"door\", \"dormitory\", \"dormitory\", \"dormitory\", \"dormitory\", \"dormitory\", \"dr\", \"dr\", \"dr\", \"dr\", \"dr\", \"dr\", \"dr\", \"dr\", \"dr\", \"dr\", \"drank\", \"drank\", \"drank\", \"drank\", \"drank\", \"drank\", \"drank\", \"dream\", \"dream\", \"dream\", \"dream\", \"dream\", \"dream\", \"dream\", \"dream\", \"dream\", \"dream\", \"dress\", \"dress\", \"dress\", \"dress\", \"dress\", \"dress\", \"dress\", \"dress\", \"dress\", \"dress\", \"dress\", \"dress\", \"dress\", \"drink\", \"drink\", \"drink\", \"drink\", \"drink\", \"drink\", \"drink\", \"drink\", \"drink\", \"drink\", \"drink\", \"duly\", \"duly\", \"duly\", \"duly\", \"duly\", \"duly\", \"duly\", \"duly\", \"dying\", \"dying\", \"dying\", \"dying\", \"dying\", \"dying\", \"dying\", \"dying\", \"ear\", \"ear\", \"ear\", \"ear\", \"ear\", \"ear\", \"ear\", \"ear\", \"ear\", \"ear\", \"ear\", \"ear\", \"edward\", \"edward\", \"edward\", \"edward\", \"edward\", \"edward\", \"edward\", \"edward\", \"edward\", \"effects\", \"effects\", \"effects\", \"effects\", \"elinor\", \"elinor\", \"elinor\", \"elinor\", \"eliza\", \"eliza\", \"eliza\", \"eliza\", \"eliza\", \"eliza\", \"elizabeth\", \"elizabeth\", \"elizabeth\", \"elizabeth\", \"elizabeth\", \"elizabeth\", \"elizabeth\", \"elizabeth\", \"elton\", \"elton\", \"elton\", \"elton\", \"elton\", \"emanuel\", \"emanuel\", \"emanuel\", \"emanuel\", \"emanuel\", \"emma\", \"emma\", \"emma\", \"emma\", \"emma\", \"emma\", \"emma\", \"en\", \"en\", \"en\", \"en\", \"en\", \"en\", \"encouraged\", \"encouraged\", \"encouraged\", \"encouraged\", \"encouraged\", \"encouraged\", \"encouraged\", \"encouraged\", \"encouraged\", \"engagement\", \"engagement\", \"engagement\", \"engagement\", \"engagements\", \"engagements\", \"engagements\", \"england\", \"england\", \"england\", \"england\", \"england\", \"england\", \"england\", \"england\", \"england\", \"england\", \"england\", \"english\", \"english\", \"english\", \"english\", \"english\", \"english\", \"english\", \"english\", \"english\", \"enscombe\", \"enscombe\", \"entertainment\", \"entertainment\", \"entertainment\", \"entertainment\", \"entertainment\", \"entertainment\", \"entertainment\", \"entire\", \"entire\", \"entire\", \"entire\", \"entire\", \"entire\", \"entire\", \"est\", \"est\", \"est\", \"est\", \"est\", \"estate\", \"estate\", \"estate\", \"estate\", \"estate\", \"estate\", \"estate\", \"estate\", \"estate\", \"esteem\", \"esteem\", \"esteem\", \"esteem\", \"esteem\", \"estrade\", \"et\", \"et\", \"et\", \"et\", \"et\", \"et\", \"et\", \"evening\", \"evening\", \"evening\", \"evening\", \"evening\", \"evening\", \"evening\", \"evening\", \"evening\", \"evening\", \"evening\", \"evening\", \"evening\", \"evening\", \"evening\", \"events\", \"events\", \"events\", \"events\", \"events\", \"events\", \"events\", \"everybody\", \"everybody\", \"everybody\", \"everybody\", \"everybody\", \"everybody\", \"everybody\", \"everybody\", \"everybody\", \"evinced\", \"evinced\", \"evinced\", \"evinced\", \"evinced\", \"exceedingly\", \"exceedingly\", \"exceedingly\", \"exceedingly\", \"exceedingly\", \"exceedingly\", \"exceedingly\", \"exceedingly\", \"exceedingly\", \"existence\", \"existence\", \"existence\", \"existence\", \"existence\", \"existence\", \"existence\", \"existence\", \"existence\", \"existence\", \"existence\", \"experience\", \"experience\", \"experience\", \"experience\", \"experience\", \"experience\", \"experience\", \"experience\", \"experience\", \"experience\", \"experience\", \"explain\", \"explain\", \"explain\", \"explain\", \"explain\", \"explain\", \"explain\", \"explain\", \"explain\", \"explain\", \"extremely\", \"extremely\", \"extremely\", \"extremely\", \"extremely\", \"extremely\", \"eye\", \"eye\", \"eye\", \"eye\", \"eye\", \"eye\", \"eye\", \"eye\", \"eye\", \"eye\", \"eye\", \"eye\", \"eye\", \"eye\", \"eyes\", \"eyes\", \"eyes\", \"eyes\", \"eyes\", \"eyes\", \"eyes\", \"eyes\", \"eyes\", \"eyes\", \"eyes\", \"eyes\", \"eyes\", \"eyes\", \"eyes\", \"eyre\", \"eyre\", \"eyre\", \"eyre\", \"eyre\", \"face\", \"face\", \"face\", \"face\", \"face\", \"face\", \"face\", \"face\", \"face\", \"face\", \"face\", \"face\", \"face\", \"face\", \"face\", \"fairfax\", \"fairfax\", \"fairfax\", \"fairfax\", \"fairfax\", \"fairfax\", \"fairfax\", \"fairfax\", \"fairfax\", \"fairfax\", \"fairfax\", \"fairy\", \"fairy\", \"fairy\", \"fairy\", \"fairy\", \"faith\", \"faith\", \"faith\", \"faith\", \"faith\", \"faith\", \"faith\", \"faith\", \"faith\", \"familiar\", \"familiar\", \"familiar\", \"familiar\", \"familiar\", \"familiar\", \"familiar\", \"familiar\", \"familiar\", \"familiar\", \"family\", \"family\", \"family\", \"family\", \"family\", \"family\", \"family\", \"family\", \"family\", \"family\", \"family\", \"family\", \"family\", \"fanny\", \"fanshawe\", \"fanshawe\", \"fanshawe\", \"fanshawe\", \"fanshawe\", \"far\", \"far\", \"far\", \"far\", \"far\", \"far\", \"far\", \"far\", \"far\", \"far\", \"far\", \"far\", \"far\", \"far\", \"far\", \"fate\", \"fate\", \"fate\", \"fate\", \"fate\", \"fate\", \"fate\", \"fate\", \"fate\", \"fate\", \"fate\", \"fate\", \"father\", \"father\", \"father\", \"father\", \"father\", \"father\", \"father\", \"father\", \"father\", \"father\", \"father\", \"father\", \"father\", \"feeble\", \"feeble\", \"feeble\", \"feeble\", \"feeble\", \"feeble\", \"feeble\", \"feeble\", \"feeling\", \"feeling\", \"feeling\", \"feeling\", \"feeling\", \"feeling\", \"feeling\", \"feeling\", \"feeling\", \"feeling\", \"feeling\", \"feeling\", \"feeling\", \"feeling\", \"feeling\", \"feelings\", \"feelings\", \"feelings\", \"feelings\", \"feelings\", \"feelings\", \"feelings\", \"feelings\", \"feelings\", \"feelings\", \"feelings\", \"feelings\", \"feelings\", \"felt\", \"felt\", \"felt\", \"felt\", \"felt\", \"felt\", \"felt\", \"felt\", \"felt\", \"felt\", \"felt\", \"felt\", \"felt\", \"felt\", \"ferrars\", \"ferrars\", \"fete\", \"fete\", \"fete\", \"fete\", \"finest\", \"finest\", \"finest\", \"finest\", \"finest\", \"finest\", \"finest\", \"finest\", \"finest\", \"finest\", \"fool\", \"fool\", \"fool\", \"fool\", \"fool\", \"fool\", \"fool\", \"fool\", \"fool\", \"fool\", \"fool\", \"formal\", \"formal\", \"formal\", \"formal\", \"formal\", \"formal\", \"formal\", \"formal\", \"formal\", \"forster\", \"forster\", \"fourth\", \"fourth\", \"fourth\", \"fourth\", \"fourth\", \"fourth\", \"fourth\", \"frances\", \"frances\", \"frances\", \"frances\", \"frances\", \"frank\", \"frank\", \"frank\", \"frank\", \"frank\", \"frank\", \"frank\", \"frank\", \"frequent\", \"frequent\", \"frequent\", \"frequent\", \"frequent\", \"frequent\", \"frequent\", \"frequent\", \"frequent\", \"friend\", \"friend\", \"friend\", \"friend\", \"friend\", \"friend\", \"friend\", \"friend\", \"friend\", \"friend\", \"friend\", \"friend\", \"friend\", \"frost\", \"frost\", \"frost\", \"frost\", \"frost\", \"fruit\", \"fruit\", \"fruit\", \"fruit\", \"fruit\", \"fruit\", \"fruit\", \"fruit\", \"furnished\", \"furnished\", \"furnished\", \"furnished\", \"furnished\", \"furnished\", \"furnished\", \"furnished\", \"furnished\", \"furnished\", \"gallery\", \"gallery\", \"gallery\", \"garden\", \"garden\", \"garden\", \"garden\", \"garden\", \"garden\", \"garden\", \"garden\", \"garden\", \"garden\", \"garden\", \"garden\", \"gardiner\", \"gardiner\", \"gardiner\", \"gate\", \"gate\", \"gate\", \"gate\", \"gate\", \"gate\", \"gate\", \"gateshead\", \"gateshead\", \"gateshead\", \"gateshead\", \"gather\", \"gather\", \"gather\", \"gather\", \"gather\", \"gathering\", \"gathering\", \"gathering\", \"gathering\", \"gathering\", \"gathering\", \"gathering\", \"gathering\", \"gathering\", \"gazing\", \"gazing\", \"gazing\", \"gazing\", \"gazing\", \"gazing\", \"gazing\", \"gazing\", \"gentleman\", \"gentleman\", \"gentleman\", \"gentleman\", \"gentleman\", \"gentleman\", \"gentleman\", \"gentleman\", \"gentleman\", \"gentleman\", \"gentleman\", \"gentleman\", \"georgiana\", \"georgiana\", \"georgiana\", \"georgiana\", \"georgiana\", \"german\", \"german\", \"german\", \"german\", \"german\", \"german\", \"ghost\", \"ghost\", \"ghost\", \"ghost\", \"ghost\", \"ghost\", \"ginevra\", \"ginevra\", \"ginevra\", \"ginevra\", \"ginevra\", \"gloomy\", \"gloomy\", \"gloomy\", \"gloomy\", \"gloomy\", \"glorious\", \"glorious\", \"glorious\", \"glorious\", \"glorious\", \"glory\", \"glory\", \"glory\", \"glory\", \"glory\", \"glory\", \"glory\", \"god\", \"god\", \"god\", \"god\", \"god\", \"god\", \"god\", \"god\", \"god\", \"god\", \"god\", \"goddard\", \"goddard\", \"godmother\", \"godmother\", \"godmother\", \"godmother\", \"godmother\", \"godmother\", \"golden\", \"golden\", \"golden\", \"golden\", \"golden\", \"golden\", \"good\", \"good\", \"good\", \"good\", \"good\", \"good\", \"good\", \"good\", \"good\", \"good\", \"good\", \"good\", \"good\", \"good\", \"good\", \"got\", \"got\", \"got\", \"got\", \"got\", \"got\", \"got\", \"got\", \"got\", \"got\", \"got\", \"got\", \"got\", \"got\", \"governess\", \"governess\", \"governess\", \"governess\", \"governess\", \"governess\", \"governess\", \"governess\", \"governess\", \"governess\", \"grace\", \"grace\", \"grace\", \"grace\", \"grace\", \"grace\", \"grace\", \"grace\", \"grace\", \"grace\", \"graceful\", \"graceful\", \"graceful\", \"graceful\", \"graceful\", \"graceful\", \"graceful\", \"graceful\", \"graham\", \"graham\", \"graham\", \"graham\", \"graham\", \"graham\", \"graham\", \"graham\", \"great\", \"great\", \"great\", \"great\", \"great\", \"great\", \"great\", \"great\", \"great\", \"great\", \"great\", \"great\", \"great\", \"great\", \"great\", \"grim\", \"grim\", \"grim\", \"grim\", \"grim\", \"grim\", \"grim\", \"group\", \"group\", \"group\", \"group\", \"group\", \"group\", \"group\", \"group\", \"group\", \"grove\", \"grove\", \"grove\", \"grove\", \"grove\", \"grove\", \"hair\", \"hair\", \"hair\", \"hair\", \"hair\", \"hair\", \"hair\", \"hair\", \"hair\", \"hair\", \"hair\", \"hair\", \"half\", \"half\", \"half\", \"half\", \"half\", \"half\", \"half\", \"half\", \"half\", \"half\", \"half\", \"half\", \"half\", \"half\", \"half\", \"hall\", \"hall\", \"hall\", \"hall\", \"hall\", \"hall\", \"hall\", \"hall\", \"hall\", \"hall\", \"hall\", \"hall\", \"hand\", \"hand\", \"hand\", \"hand\", \"hand\", \"hand\", \"hand\", \"hand\", \"hand\", \"hand\", \"hand\", \"hand\", \"hand\", \"hand\", \"handsome\", \"handsome\", \"handsome\", \"handsome\", \"handsome\", \"handsome\", \"handsome\", \"handsome\", \"handsome\", \"handsome\", \"handsome\", \"handsome\", \"handsome\", \"harriet\", \"harriet\", \"harriet\", \"harriet\", \"harriet\", \"harriet\", \"harriet\", \"harriet\", \"hartfield\", \"hartfield\", \"hartfield\", \"haughty\", \"haughty\", \"haughty\", \"haughty\", \"haughty\", \"haughty\", \"haughty\", \"having\", \"having\", \"having\", \"having\", \"having\", \"having\", \"having\", \"having\", \"having\", \"having\", \"having\", \"having\", \"having\", \"having\", \"having\", \"head\", \"head\", \"head\", \"head\", \"head\", \"head\", \"head\", \"head\", \"head\", \"head\", \"head\", \"head\", \"head\", \"head\", \"head\", \"hear\", \"hear\", \"hear\", \"hear\", \"hear\", \"hear\", \"hear\", \"hear\", \"hear\", \"hear\", \"hear\", \"hear\", \"hear\", \"hear\", \"heard\", \"heard\", \"heard\", \"heard\", \"heard\", \"heard\", \"heard\", \"heard\", \"heard\", \"heard\", \"heard\", \"heard\", \"heard\", \"heard\", \"heard\", \"heart\", \"heart\", \"heart\", \"heart\", \"heart\", \"heart\", \"heart\", \"heart\", \"heart\", \"heart\", \"heart\", \"heart\", \"heart\", \"heart\", \"hearth\", \"hearth\", \"hearth\", \"hearth\", \"hearth\", \"hearth\", \"hearth\", \"hearth\", \"heaven\", \"heaven\", \"heaven\", \"heaven\", \"heaven\", \"heaven\", \"heaven\", \"heaven\", \"heaven\", \"heaven\", \"heaven\", \"henri\", \"henri\", \"henri\", \"henry\", \"henry\", \"henry\", \"henry\", \"hertfordshire\", \"hertfordshire\", \"hertfordshire\", \"highbury\", \"highbury\", \"hills\", \"hills\", \"hills\", \"hills\", \"hills\", \"hills\", \"hills\", \"homage\", \"homage\", \"homage\", \"homage\", \"homage\", \"homage\", \"home\", \"home\", \"home\", \"home\", \"home\", \"home\", \"home\", \"home\", \"home\", \"home\", \"home\", \"home\", \"home\", \"home\", \"honoured\", \"honoured\", \"honoured\", \"honoured\", \"honoured\", \"honoured\", \"honoured\", \"honoured\", \"honoured\", \"horse\", \"horse\", \"horse\", \"horse\", \"horse\", \"horse\", \"hotel\", \"hotel\", \"hotel\", \"hotel\", \"hotel\", \"hotel\", \"hotel\", \"hotel\", \"hotel\", \"hour\", \"hour\", \"hour\", \"hour\", \"hour\", \"hour\", \"hour\", \"hour\", \"hour\", \"hour\", \"hour\", \"hour\", \"hour\", \"hour\", \"house\", \"house\", \"house\", \"house\", \"house\", \"house\", \"house\", \"house\", \"house\", \"house\", \"house\", \"house\", \"house\", \"house\", \"household\", \"household\", \"household\", \"household\", \"household\", \"household\", \"household\", \"household\", \"huge\", \"huge\", \"huge\", \"huge\", \"huge\", \"huge\", \"humble\", \"humble\", \"humble\", \"humble\", \"humble\", \"humble\", \"humble\", \"humble\", \"hunsden\", \"hunsden\", \"hunsden\", \"hurst\", \"hurst\", \"hurst\", \"hurst\", \"il\", \"il\", \"il\", \"il\", \"illness\", \"illness\", \"illness\", \"illness\", \"illness\", \"illness\", \"illness\", \"illness\", \"illness\", \"image\", \"image\", \"image\", \"image\", \"image\", \"image\", \"impression\", \"impression\", \"impression\", \"impression\", \"impression\", \"impression\", \"impression\", \"impression\", \"impression\", \"imprudence\", \"imprudence\", \"ingram\", \"ingram\", \"ingram\", \"ingram\", \"ingram\", \"ingram\", \"ingram\", \"ingram\", \"inn\", \"inn\", \"inn\", \"inn\", \"inn\", \"inn\", \"inn\", \"inn\", \"inn\", \"inner\", \"inner\", \"inner\", \"inner\", \"inner\", \"inner\", \"inner\", \"interview\", \"interview\", \"interview\", \"interview\", \"interview\", \"interview\", \"interview\", \"interview\", \"interview\", \"invitation\", \"invitation\", \"invitation\", \"invitation\", \"invitation\", \"invitation\", \"invitation\", \"invitation\", \"isabella\", \"isabella\", \"issued\", \"issued\", \"issued\", \"issued\", \"issued\", \"issued\", \"issued\", \"james\", \"james\", \"james\", \"james\", \"jane\", \"jane\", \"jane\", \"jane\", \"jane\", \"jane\", \"jane\", \"jane\", \"jane\", \"jane\", \"jane\", \"jane\", \"je\", \"je\", \"je\", \"je\", \"jennings\", \"jennings\", \"john\", \"john\", \"john\", \"john\", \"john\", \"john\", \"john\", \"john\", \"john\", \"john\", \"john\", \"john\", \"keen\", \"keen\", \"keen\", \"keen\", \"keen\", \"keen\", \"kiss\", \"kiss\", \"kiss\", \"kiss\", \"kiss\", \"kiss\", \"kiss\", \"kitty\", \"kitty\", \"kitty\", \"kitty\", \"knew\", \"knew\", \"knew\", \"knew\", \"knew\", \"knew\", \"knew\", \"knew\", \"knew\", \"knew\", \"knew\", \"knew\", \"knew\", \"knew\", \"knew\", \"knightley\", \"knightley\", \"knightley\", \"knightley\", \"know\", \"know\", \"know\", \"know\", \"know\", \"know\", \"know\", \"know\", \"know\", \"know\", \"know\", \"know\", \"know\", \"know\", \"know\", \"la\", \"la\", \"la\", \"la\", \"la\", \"la\", \"la\", \"la\", \"la\", \"la\", \"la\", \"ladies\", \"ladies\", \"ladies\", \"ladies\", \"ladies\", \"ladies\", \"ladies\", \"ladies\", \"ladies\", \"ladies\", \"ladies\", \"ladies\", \"lady\", \"lady\", \"lady\", \"lady\", \"lady\", \"lady\", \"lady\", \"lady\", \"lady\", \"lady\", \"lady\", \"lady\", \"lady\", \"lady\", \"ladyship\", \"ladyship\", \"ladyship\", \"ladyship\", \"lamp\", \"lamp\", \"lamp\", \"lamp\", \"lamp\", \"lamp\", \"lamp\", \"lamp\", \"lamp\", \"lamp\", \"lamp\", \"lane\", \"lane\", \"lane\", \"lane\", \"lane\", \"lane\", \"lane\", \"lane\", \"lane\", \"lap\", \"lap\", \"lap\", \"lap\", \"laugh\", \"laugh\", \"laugh\", \"laugh\", \"laugh\", \"laugh\", \"laugh\", \"laugh\", \"laugh\", \"laugh\", \"laugh\", \"lay\", \"lay\", \"lay\", \"lay\", \"lay\", \"lay\", \"lay\", \"lay\", \"lay\", \"lay\", \"lay\", \"lay\", \"lay\", \"le\", \"le\", \"le\", \"le\", \"le\", \"leaf\", \"leaf\", \"leaf\", \"leaf\", \"leaf\", \"learned\", \"learned\", \"learned\", \"learned\", \"learned\", \"learned\", \"learned\", \"learned\", \"learned\", \"learned\", \"learned\", \"left\", \"left\", \"left\", \"left\", \"left\", \"left\", \"left\", \"left\", \"left\", \"left\", \"left\", \"left\", \"les\", \"les\", \"les\", \"les\", \"les\", \"lesson\", \"lesson\", \"lesson\", \"lesson\", \"lesson\", \"lesson\", \"lessons\", \"lessons\", \"lessons\", \"lessons\", \"lessons\", \"lessons\", \"lessons\", \"letter\", \"letter\", \"letter\", \"letter\", \"letter\", \"letter\", \"letter\", \"letter\", \"letter\", \"letter\", \"letters\", \"letters\", \"letters\", \"letters\", \"letters\", \"letters\", \"letters\", \"letters\", \"letters\", \"letters\", \"liable\", \"liable\", \"liable\", \"liable\", \"liable\", \"liable\", \"liable\", \"liable\", \"life\", \"life\", \"life\", \"life\", \"life\", \"life\", \"life\", \"life\", \"life\", \"life\", \"life\", \"life\", \"life\", \"life\", \"life\", \"light\", \"light\", \"light\", \"light\", \"light\", \"light\", \"light\", \"light\", \"light\", \"light\", \"light\", \"light\", \"light\", \"light\", \"light\", \"like\", \"like\", \"like\", \"like\", \"like\", \"like\", \"like\", \"like\", \"like\", \"like\", \"like\", \"like\", \"like\", \"like\", \"like\", \"lip\", \"lip\", \"lip\", \"lip\", \"lip\", \"lip\", \"lip\", \"lip\", \"lips\", \"lips\", \"lips\", \"lips\", \"lips\", \"lips\", \"lips\", \"lips\", \"lips\", \"lips\", \"lips\", \"lips\", \"lips\", \"lips\", \"little\", \"little\", \"little\", \"little\", \"little\", \"little\", \"little\", \"little\", \"little\", \"little\", \"little\", \"little\", \"little\", \"little\", \"little\", \"live\", \"live\", \"live\", \"live\", \"live\", \"live\", \"live\", \"live\", \"live\", \"live\", \"live\", \"live\", \"live\", \"live\", \"lived\", \"lived\", \"lived\", \"lived\", \"lived\", \"lived\", \"lived\", \"lived\", \"lived\", \"lived\", \"lived\", \"lived\", \"lives\", \"lives\", \"lives\", \"lives\", \"lives\", \"lives\", \"lives\", \"lives\", \"lives\", \"lives\", \"lizzy\", \"lizzy\", \"lizzy\", \"ll\", \"ll\", \"ll\", \"ll\", \"ll\", \"ll\", \"ll\", \"ll\", \"ll\", \"lodgings\", \"lodgings\", \"lodgings\", \"lodgings\", \"lodgings\", \"long\", \"long\", \"long\", \"long\", \"long\", \"long\", \"long\", \"long\", \"long\", \"long\", \"long\", \"long\", \"long\", \"long\", \"long\", \"longbourn\", \"longbourn\", \"look\", \"look\", \"look\", \"look\", \"look\", \"look\", \"look\", \"look\", \"look\", \"look\", \"look\", \"look\", \"look\", \"look\", \"looked\", \"looked\", \"looked\", \"looked\", \"looked\", \"looked\", \"looked\", \"looked\", \"looked\", \"looked\", \"looked\", \"looked\", \"looked\", \"looked\", \"looked\", \"lord\", \"lord\", \"lord\", \"lord\", \"lord\", \"lord\", \"lord\", \"lord\", \"lord\", \"love\", \"love\", \"love\", \"love\", \"love\", \"love\", \"love\", \"love\", \"love\", \"love\", \"love\", \"love\", \"love\", \"love\", \"loved\", \"loved\", \"loved\", \"loved\", \"loved\", \"loved\", \"loved\", \"loved\", \"loved\", \"loved\", \"loved\", \"loved\", \"loving\", \"loving\", \"loving\", \"loving\", \"loving\", \"loving\", \"lowood\", \"lowood\", \"lowood\", \"lucas\", \"lucas\", \"lucas\", \"lucy\", \"lucy\", \"lucy\", \"lucy\", \"lucy\", \"lucy\", \"lucy\", \"lucy\", \"lucy\", \"lucy\", \"lydia\", \"lydia\", \"madame\", \"madame\", \"madame\", \"madame\", \"madame\", \"madame\", \"madame\", \"madame\", \"madame\", \"madame\", \"madame\", \"mademoiselle\", \"mademoiselle\", \"mademoiselle\", \"mademoiselle\", \"mademoiselle\", \"mademoiselle\", \"mademoiselle\", \"mademoiselle\", \"mademoiselle\", \"mais\", \"mais\", \"mais\", \"mama\", \"mama\", \"mama\", \"mama\", \"mamma\", \"mamma\", \"mamma\", \"mamma\", \"mamma\", \"mamma\", \"man\", \"man\", \"man\", \"man\", \"man\", \"man\", \"man\", \"man\", \"man\", \"man\", \"man\", \"man\", \"man\", \"man\", \"man\", \"marianne\", \"marianne\", \"marianne\", \"marianne\", \"marianne\", \"marry\", \"marry\", \"marry\", \"marry\", \"marry\", \"marry\", \"marry\", \"marry\", \"marry\", \"marry\", \"marry\", \"marry\", \"marry\", \"marry\", \"martin\", \"martin\", \"martin\", \"mary\", \"mary\", \"mary\", \"mary\", \"mary\", \"mary\", \"mary\", \"mary\", \"mass\", \"mass\", \"mass\", \"mass\", \"mass\", \"mass\", \"mass\", \"mass\", \"master\", \"master\", \"master\", \"master\", \"master\", \"master\", \"master\", \"master\", \"master\", \"master\", \"master\", \"master\", \"mdlle\", \"mdlle\", \"mdlle\", \"means\", \"means\", \"means\", \"means\", \"means\", \"means\", \"means\", \"means\", \"means\", \"means\", \"means\", \"mere\", \"mere\", \"mere\", \"mere\", \"mere\", \"mere\", \"mere\", \"mere\", \"mere\", \"mere\", \"mere\", \"mere\", \"meryton\", \"meryton\", \"message\", \"message\", \"message\", \"message\", \"message\", \"message\", \"message\", \"met\", \"met\", \"met\", \"met\", \"met\", \"met\", \"met\", \"met\", \"met\", \"met\", \"met\", \"met\", \"met\", \"met\", \"middleton\", \"midnight\", \"midnight\", \"midnight\", \"midnight\", \"midnight\", \"mien\", \"mien\", \"mien\", \"mien\", \"mien\", \"mien\", \"mien\", \"miles\", \"miles\", \"miles\", \"miles\", \"miles\", \"miles\", \"millcote\", \"millcote\", \"millcote\", \"mind\", \"mind\", \"mind\", \"mind\", \"mind\", \"mind\", \"mind\", \"mind\", \"mind\", \"mind\", \"mind\", \"mind\", \"mind\", \"mind\", \"mind\", \"minds\", \"minds\", \"minds\", \"minds\", \"minds\", \"minds\", \"minds\", \"miss\", \"miss\", \"miss\", \"miss\", \"miss\", \"miss\", \"miss\", \"miss\", \"miss\", \"miss\", \"miss\", \"miss\", \"miss\", \"miss\", \"miss\", \"moi\", \"moi\", \"moi\", \"moment\", \"moment\", \"moment\", \"moment\", \"moment\", \"moment\", \"moment\", \"moment\", \"moment\", \"moment\", \"moment\", \"moment\", \"moment\", \"moment\", \"moment\", \"mon\", \"mon\", \"mon\", \"mon\", \"mon\", \"monsieur\", \"monsieur\", \"monsieur\", \"monsieur\", \"monsieur\", \"monsieur\", \"monsieur\", \"moon\", \"moon\", \"moon\", \"moon\", \"moon\", \"moon\", \"moon\", \"moonlight\", \"moonlight\", \"moonlight\", \"moonlight\", \"moonlight\", \"moonlight\", \"moonlight\", \"moonlight\", \"moonlight\", \"moonlight\", \"moonlight\", \"moor\", \"moor\", \"moor\", \"moor\", \"morton\", \"morton\", \"morton\", \"mother\", \"mother\", \"mother\", \"mother\", \"mother\", \"mother\", \"mother\", \"mother\", \"mother\", \"mother\", \"mother\", \"mother\", \"mother\", \"mother\", \"mouth\", \"mouth\", \"mouth\", \"mouth\", \"mouth\", \"mouth\", \"mouth\", \"mouth\", \"mouth\", \"mouth\", \"mouth\", \"movements\", \"movements\", \"movements\", \"movements\", \"movements\", \"movements\", \"narrative\", \"narrative\", \"narrative\", \"narrative\", \"narrative\", \"narrative\", \"narrative\", \"narrative\", \"nature\", \"nature\", \"nature\", \"nature\", \"nature\", \"nature\", \"nature\", \"nature\", \"nature\", \"nature\", \"nature\", \"nature\", \"ne\", \"ne\", \"ne\", \"ne\", \"nearest\", \"nearest\", \"nearest\", \"nearest\", \"nearest\", \"nearest\", \"netherfield\", \"netherfield\", \"night\", \"night\", \"night\", \"night\", \"night\", \"night\", \"night\", \"night\", \"night\", \"night\", \"night\", \"night\", \"night\", \"night\", \"norland\", \"noted\", \"noted\", \"noted\", \"noted\", \"noted\", \"noted\", \"noted\", \"nun\", \"nun\", \"nun\", \"nun\", \"nun\", \"nun\", \"nun\", \"nurse\", \"nurse\", \"nurse\", \"nurse\", \"nurse\", \"nurse\", \"nurse\", \"nursery\", \"nursery\", \"nursery\", \"nursery\", \"nursery\", \"occurred\", \"occurred\", \"occurred\", \"occurred\", \"occurred\", \"occurred\", \"occurred\", \"occurred\", \"offence\", \"offence\", \"offers\", \"offers\", \"offers\", \"offers\", \"offers\", \"offers\", \"officers\", \"officers\", \"oh\", \"oh\", \"oh\", \"oh\", \"oh\", \"oh\", \"oh\", \"oh\", \"oh\", \"oh\", \"oh\", \"oh\", \"oh\", \"oh\", \"oh\", \"old\", \"old\", \"old\", \"old\", \"old\", \"old\", \"old\", \"old\", \"old\", \"old\", \"old\", \"old\", \"old\", \"old\", \"old\", \"openly\", \"openly\", \"openly\", \"openly\", \"openly\", \"origin\", \"origin\", \"origin\", \"origin\", \"origin\", \"origin\", \"origin\", \"origin\", \"ornaments\", \"ornaments\", \"ornaments\", \"ornaments\", \"ornaments\", \"pain\", \"pain\", \"pain\", \"pain\", \"pain\", \"pain\", \"pain\", \"pain\", \"pain\", \"pain\", \"pain\", \"pain\", \"palmer\", \"panes\", \"panes\", \"panes\", \"panes\", \"papa\", \"papa\", \"papa\", \"papa\", \"papa\", \"papa\", \"papa\", \"park\", \"park\", \"park\", \"park\", \"park\", \"park\", \"park\", \"park\", \"park\", \"park\", \"park\", \"park\", \"parsonage\", \"parsonage\", \"parsonage\", \"parsonage\", \"particulars\", \"particulars\", \"particulars\", \"particulars\", \"particulars\", \"partner\", \"partner\", \"partner\", \"partner\", \"partner\", \"partner\", \"party\", \"party\", \"party\", \"party\", \"party\", \"party\", \"party\", \"party\", \"party\", \"party\", \"party\", \"party\", \"party\", \"pas\", \"pas\", \"pas\", \"pas\", \"passed\", \"passed\", \"passed\", \"passed\", \"passed\", \"passed\", \"passed\", \"passed\", \"passed\", \"passed\", \"passed\", \"passed\", \"passed\", \"passed\", \"passed\", \"patient\", \"patient\", \"patient\", \"patient\", \"patient\", \"patient\", \"patient\", \"patient\", \"patient\", \"patient\", \"paul\", \"paul\", \"paul\", \"paul\", \"paul\", \"paul\", \"paul\", \"paulina\", \"paulina\", \"paulina\", \"paulina\", \"paulina\", \"pelet\", \"pelet\", \"pelet\", \"pelet\", \"pemberley\", \"pemberley\", \"pemberley\", \"pere\", \"pere\", \"pere\", \"pere\", \"pere\", \"perform\", \"perform\", \"perform\", \"perform\", \"perform\", \"perform\", \"perform\", \"perform\", \"performed\", \"performed\", \"performed\", \"performed\", \"performed\", \"performed\", \"permission\", \"permission\", \"permission\", \"permission\", \"permission\", \"permission\", \"permission\", \"permission\", \"permission\", \"perry\", \"perry\", \"personage\", \"personage\", \"personage\", \"personage\", \"personage\", \"personage\", \"personage\", \"petite\", \"petite\", \"petite\", \"phrase\", \"phrase\", \"phrase\", \"phrase\", \"phrase\", \"phrase\", \"phrase\", \"phrase\", \"phrase\", \"pianoforte\", \"pianoforte\", \"picture\", \"picture\", \"picture\", \"picture\", \"picture\", \"picture\", \"picture\", \"picture\", \"picture\", \"picture\", \"picture\", \"pictures\", \"pictures\", \"pictures\", \"pictures\", \"pictures\", \"pictures\", \"pictures\", \"pictures\", \"pictures\", \"pictures\", \"piece\", \"piece\", \"piece\", \"piece\", \"piece\", \"piece\", \"piece\", \"piece\", \"piece\", \"piece\", \"piece\", \"piece\", \"piece\", \"pity\", \"pity\", \"pity\", \"pity\", \"pity\", \"pity\", \"pity\", \"pity\", \"pity\", \"pity\", \"pity\", \"place\", \"place\", \"place\", \"place\", \"place\", \"place\", \"place\", \"place\", \"place\", \"place\", \"place\", \"place\", \"place\", \"place\", \"play\", \"play\", \"play\", \"play\", \"play\", \"play\", \"play\", \"play\", \"play\", \"play\", \"play\", \"play\", \"pleasures\", \"pleasures\", \"pleasures\", \"pleasures\", \"pleasures\", \"pleasures\", \"pleasures\", \"polly\", \"portrait\", \"portrait\", \"portrait\", \"portrait\", \"portrait\", \"portrait\", \"pounds\", \"pounds\", \"pounds\", \"pounds\", \"pounds\", \"pounds\", \"pour\", \"pour\", \"pour\", \"pour\", \"pour\", \"pour\", \"pour\", \"pour\", \"pour\", \"poured\", \"poured\", \"poured\", \"poured\", \"poured\", \"poured\", \"poured\", \"poured\", \"power\", \"power\", \"power\", \"power\", \"power\", \"power\", \"power\", \"power\", \"power\", \"power\", \"power\", \"power\", \"power\", \"power\", \"power\", \"powerful\", \"powerful\", \"powerful\", \"powerful\", \"powerful\", \"powerful\", \"powerful\", \"powerful\", \"powerful\", \"practical\", \"practical\", \"practical\", \"practical\", \"practical\", \"practice\", \"practice\", \"practice\", \"practice\", \"practice\", \"practice\", \"practice\", \"practice\", \"pressure\", \"pressure\", \"pressure\", \"pressure\", \"pressure\", \"pressure\", \"price\", \"price\", \"price\", \"price\", \"price\", \"price\", \"price\", \"price\", \"price\", \"priest\", \"priest\", \"priest\", \"priest\", \"priest\", \"priest\", \"priest\", \"priest\", \"process\", \"process\", \"process\", \"process\", \"process\", \"process\", \"professor\", \"professor\", \"professor\", \"professor\", \"professor\", \"proof\", \"proof\", \"proof\", \"proof\", \"proof\", \"proof\", \"proof\", \"proof\", \"proof\", \"proof\", \"proportion\", \"proportion\", \"proportion\", \"proportion\", \"proportion\", \"proportion\", \"protection\", \"protection\", \"protection\", \"protection\", \"protection\", \"protection\", \"protection\", \"prudence\", \"prudence\", \"prudence\", \"prudence\", \"prudence\", \"pupil\", \"pupil\", \"pupil\", \"pupil\", \"pupil\", \"pupil\", \"pupil\", \"pupil\", \"pupils\", \"pupils\", \"pupils\", \"pupils\", \"pupils\", \"pupils\", \"pupils\", \"puzzled\", \"puzzled\", \"puzzled\", \"puzzled\", \"puzzled\", \"puzzled\", \"puzzled\", \"puzzled\", \"puzzled\", \"qu\", \"qu\", \"qu\", \"que\", \"que\", \"que\", \"que\", \"que\", \"race\", \"race\", \"race\", \"race\", \"race\", \"race\", \"race\", \"race\", \"rain\", \"rain\", \"rain\", \"rain\", \"rain\", \"rain\", \"rain\", \"rain\", \"rain\", \"rain\", \"rain\", \"randalls\", \"randalls\", \"rank\", \"rank\", \"rank\", \"rank\", \"rank\", \"rank\", \"rank\", \"rank\", \"rank\", \"rank\", \"rank\", \"reed\", \"reed\", \"reed\", \"regiment\", \"regiment\", \"regiment\", \"render\", \"render\", \"render\", \"render\", \"render\", \"render\", \"render\", \"render\", \"repetition\", \"repetition\", \"repetition\", \"repetition\", \"repetition\", \"repetition\", \"replied\", \"replied\", \"replied\", \"replied\", \"replied\", \"replied\", \"replied\", \"replied\", \"replied\", \"replied\", \"replied\", \"replied\", \"report\", \"report\", \"report\", \"report\", \"report\", \"report\", \"residence\", \"residence\", \"residence\", \"residence\", \"residence\", \"residence\", \"residence\", \"residence\", \"respecting\", \"respecting\", \"respecting\", \"respecting\", \"respecting\", \"respecting\", \"respecting\", \"respecting\", \"reuter\", \"reuter\", \"rich\", \"rich\", \"rich\", \"rich\", \"rich\", \"rich\", \"rich\", \"rich\", \"rich\", \"rich\", \"rich\", \"rich\", \"rid\", \"rid\", \"rid\", \"rid\", \"rid\", \"rid\", \"rid\", \"rid\", \"rid\", \"rid\", \"rid\", \"river\", \"river\", \"river\", \"river\", \"river\", \"river\", \"river\", \"river\", \"river\", \"river\", \"rivers\", \"rivers\", \"rivers\", \"rivers\", \"rivers\", \"rivers\", \"rivers\", \"rochester\", \"rochester\", \"rochester\", \"rochester\", \"rochester\", \"rochester\", \"rochester\", \"rochester\", \"rochester\", \"rochester\", \"romantic\", \"romantic\", \"romantic\", \"romantic\", \"romantic\", \"room\", \"room\", \"room\", \"room\", \"room\", \"room\", \"room\", \"room\", \"room\", \"room\", \"room\", \"room\", \"room\", \"room\", \"room\", \"rooms\", \"rooms\", \"rooms\", \"rooms\", \"rooms\", \"rooms\", \"rooms\", \"rooms\", \"rooms\", \"rooms\", \"rooms\", \"rose\", \"rose\", \"rose\", \"rose\", \"rose\", \"rose\", \"rose\", \"rose\", \"rose\", \"rose\", \"rose\", \"rose\", \"rose\", \"rosings\", \"rosings\", \"rosings\", \"round\", \"round\", \"round\", \"round\", \"round\", \"round\", \"round\", \"round\", \"round\", \"round\", \"round\", \"round\", \"round\", \"round\", \"round\", \"rushed\", \"rushed\", \"rushed\", \"rushed\", \"rushed\", \"rushed\", \"rushed\", \"rushed\", \"rushed\", \"salon\", \"salon\", \"salon\", \"salon\", \"salon\", \"sang\", \"sang\", \"sang\", \"sang\", \"sang\", \"sang\", \"sang\", \"sank\", \"sank\", \"sank\", \"sank\", \"sat\", \"sat\", \"sat\", \"sat\", \"sat\", \"sat\", \"sat\", \"sat\", \"sat\", \"sat\", \"sat\", \"sat\", \"sat\", \"sat\", \"satin\", \"satin\", \"satin\", \"satin\", \"satin\", \"saturday\", \"saturday\", \"saturday\", \"saw\", \"saw\", \"saw\", \"saw\", \"saw\", \"saw\", \"saw\", \"saw\", \"saw\", \"saw\", \"saw\", \"saw\", \"saw\", \"saw\", \"saw\", \"scarce\", \"scarce\", \"scarce\", \"scarce\", \"scarce\", \"scarce\", \"scarce\", \"scarce\", \"scarce\", \"scattered\", \"scattered\", \"scattered\", \"scattered\", \"scattered\", \"scattered\", \"scattered\", \"scattered\", \"scattered\", \"school\", \"school\", \"school\", \"school\", \"school\", \"school\", \"school\", \"school\", \"school\", \"school\", \"school\", \"school\", \"schoolroom\", \"schoolroom\", \"schoolroom\", \"schoolroom\", \"schoolroom\", \"schoolroom\", \"schoolroom\", \"schoolroom\", \"schoolroom\", \"season\", \"season\", \"season\", \"season\", \"season\", \"season\", \"season\", \"season\", \"season\", \"season\", \"season\", \"secrecy\", \"secrecy\", \"secrecy\", \"secrecy\", \"seen\", \"seen\", \"seen\", \"seen\", \"seen\", \"seen\", \"seen\", \"seen\", \"seen\", \"seen\", \"seen\", \"seen\", \"seen\", \"seen\", \"seen\", \"sees\", \"sees\", \"sees\", \"sees\", \"sees\", \"sees\", \"sees\", \"sees\", \"sees\", \"self\", \"self\", \"self\", \"self\", \"self\", \"self\", \"self\", \"self\", \"self\", \"self\", \"self\", \"self\", \"self\", \"self\", \"self\", \"selfish\", \"selfish\", \"selfish\", \"selfish\", \"selfish\", \"selfish\", \"selfish\", \"selfish\", \"selfish\", \"selfish\", \"servants\", \"servants\", \"servants\", \"servants\", \"servants\", \"servants\", \"servants\", \"servants\", \"servants\", \"servants\", \"servants\", \"servants\", \"servants\", \"shadow\", \"shadow\", \"shadow\", \"shadow\", \"shadow\", \"shadow\", \"shadow\", \"shadow\", \"shadow\", \"shall\", \"shall\", \"shall\", \"shall\", \"shall\", \"shall\", \"shall\", \"shall\", \"shall\", \"shall\", \"shall\", \"shall\", \"shall\", \"shall\", \"shall\", \"shew\", \"shew\", \"shew\", \"shewed\", \"shewed\", \"shire\", \"shire\", \"shire\", \"shire\", \"shire\", \"shire\", \"shrubs\", \"shrubs\", \"shrubs\", \"shrubs\", \"shrubs\", \"signs\", \"signs\", \"signs\", \"signs\", \"signs\", \"signs\", \"signs\", \"similar\", \"similar\", \"similar\", \"similar\", \"similar\", \"similar\", \"similar\", \"similar\", \"sir\", \"sir\", \"sir\", \"sir\", \"sir\", \"sir\", \"sir\", \"sir\", \"sir\", \"sir\", \"sir\", \"sir\", \"sir\", \"sister\", \"sister\", \"sister\", \"sister\", \"sister\", \"sister\", \"sister\", \"sister\", \"sister\", \"sister\", \"sister\", \"sister\", \"sisters\", \"sisters\", \"sisters\", \"sisters\", \"sisters\", \"sisters\", \"sisters\", \"sisters\", \"sisters\", \"sisters\", \"sky\", \"sky\", \"sky\", \"sky\", \"sky\", \"sky\", \"sky\", \"sky\", \"sky\", \"sky\", \"sky\", \"sky\", \"small\", \"small\", \"small\", \"small\", \"small\", \"small\", \"small\", \"small\", \"small\", \"small\", \"small\", \"small\", \"small\", \"small\", \"smile\", \"smile\", \"smile\", \"smile\", \"smile\", \"smile\", \"smile\", \"smile\", \"smile\", \"smile\", \"smile\", \"smile\", \"smiles\", \"smiles\", \"smiles\", \"smiles\", \"smiles\", \"smiles\", \"smiles\", \"smiles\", \"smith\", \"smith\", \"smith\", \"smith\", \"smith\", \"smith\", \"smith\", \"smooth\", \"smooth\", \"smooth\", \"smooth\", \"smooth\", \"smooth\", \"smooth\", \"smooth\", \"smooth\", \"snowe\", \"snowe\", \"snowe\", \"social\", \"social\", \"social\", \"social\", \"social\", \"social\", \"social\", \"solemn\", \"solemn\", \"solemn\", \"solemn\", \"solemn\", \"solemn\", \"solemn\", \"solemn\", \"solemn\", \"solemn\", \"solid\", \"solid\", \"solid\", \"solid\", \"solid\", \"solid\", \"solid\", \"solid\", \"solid\", \"son\", \"son\", \"son\", \"son\", \"son\", \"son\", \"son\", \"son\", \"son\", \"son\", \"son\", \"son\", \"son\", \"soon\", \"soon\", \"soon\", \"soon\", \"soon\", \"soon\", \"soon\", \"soon\", \"soon\", \"soon\", \"soon\", \"soon\", \"soon\", \"soon\", \"soon\", \"sorrow\", \"sorrow\", \"sorrow\", \"sorrow\", \"sorrow\", \"sorrow\", \"sorrow\", \"sorrow\", \"sorrow\", \"sorrow\", \"sorrow\", \"sound\", \"sound\", \"sound\", \"sound\", \"sound\", \"sound\", \"sound\", \"sound\", \"sound\", \"sound\", \"sound\", \"sound\", \"sound\", \"spectacle\", \"spectacle\", \"spectacle\", \"spectacle\", \"spectacle\", \"spectacle\", \"st\", \"st\", \"st\", \"st\", \"st\", \"st\", \"st\", \"st\", \"st\", \"st\", \"star\", \"star\", \"star\", \"star\", \"stars\", \"stars\", \"stars\", \"stars\", \"stars\", \"stars\", \"stars\", \"stars\", \"stately\", \"stately\", \"stately\", \"stately\", \"stately\", \"stately\", \"stately\", \"steele\", \"steele\", \"stole\", \"stole\", \"stole\", \"stole\", \"stole\", \"stood\", \"stood\", \"stood\", \"stood\", \"stood\", \"stood\", \"stood\", \"stood\", \"stood\", \"stood\", \"stood\", \"stood\", \"stood\", \"stood\", \"stool\", \"stool\", \"stool\", \"strange\", \"strange\", \"strange\", \"strange\", \"strange\", \"strange\", \"strange\", \"strange\", \"strange\", \"strange\", \"strange\", \"strange\", \"strange\", \"strange\", \"street\", \"street\", \"street\", \"street\", \"street\", \"street\", \"street\", \"street\", \"street\", \"street\", \"streets\", \"streets\", \"streets\", \"streets\", \"streets\", \"streets\", \"streets\", \"streets\", \"streets\", \"sufficed\", \"sufficed\", \"sufficed\", \"sufficed\", \"sufficed\", \"sun\", \"sun\", \"sun\", \"sun\", \"sun\", \"sun\", \"sun\", \"sun\", \"sun\", \"sun\", \"sun\", \"sun\", \"superiority\", \"superiority\", \"superiority\", \"superiority\", \"superiority\", \"superiority\", \"superiority\", \"superiority\", \"sure\", \"sure\", \"sure\", \"sure\", \"sure\", \"sure\", \"sure\", \"sure\", \"sure\", \"sure\", \"sure\", \"sure\", \"surprize\", \"surprize\", \"surprized\", \"surprized\", \"surrounding\", \"surrounding\", \"surrounding\", \"surrounding\", \"surrounding\", \"surrounding\", \"surrounding\", \"surrounding\", \"surrounding\", \"surrounding\", \"surveyed\", \"surveyed\", \"surveyed\", \"surveyed\", \"surveyed\", \"surveyed\", \"tables\", \"tables\", \"tables\", \"tables\", \"tables\", \"tables\", \"tables\", \"tale\", \"tale\", \"tale\", \"tale\", \"tale\", \"tale\", \"tale\", \"tale\", \"tale\", \"talk\", \"talk\", \"talk\", \"talk\", \"talk\", \"talk\", \"talk\", \"talk\", \"talk\", \"talk\", \"talk\", \"talk\", \"talk\", \"tall\", \"tall\", \"tall\", \"tall\", \"tall\", \"tall\", \"tall\", \"tall\", \"tall\", \"tall\", \"tall\", \"tall\", \"tall\", \"tastes\", \"tastes\", \"tastes\", \"tastes\", \"tastes\", \"tastes\", \"tastes\", \"teachers\", \"teachers\", \"teachers\", \"teachers\", \"teachers\", \"teachers\", \"teachers\", \"teaching\", \"teaching\", \"teaching\", \"teaching\", \"teaching\", \"tell\", \"tell\", \"tell\", \"tell\", \"tell\", \"tell\", \"tell\", \"tell\", \"tell\", \"tell\", \"tell\", \"tell\", \"tell\", \"tempered\", \"tempered\", \"tempered\", \"tempered\", \"tempered\", \"tempered\", \"tempered\", \"tempered\", \"tempered\", \"tempered\", \"temple\", \"temple\", \"temple\", \"temple\", \"temple\", \"temple\", \"th\", \"th\", \"th\", \"th\", \"th\", \"th\", \"th\", \"theme\", \"theme\", \"theme\", \"theme\", \"theme\", \"theme\", \"thing\", \"thing\", \"thing\", \"thing\", \"thing\", \"thing\", \"thing\", \"thing\", \"thing\", \"thing\", \"thing\", \"thing\", \"thing\", \"things\", \"things\", \"things\", \"things\", \"things\", \"things\", \"things\", \"things\", \"things\", \"things\", \"things\", \"things\", \"things\", \"things\", \"things\", \"think\", \"think\", \"think\", \"think\", \"think\", \"think\", \"think\", \"think\", \"think\", \"think\", \"think\", \"think\", \"think\", \"think\", \"think\", \"thornfield\", \"thornfield\", \"thornfield\", \"thornfield\", \"thornfield\", \"thornfield\", \"thought\", \"thought\", \"thought\", \"thought\", \"thought\", \"thought\", \"thought\", \"thought\", \"thought\", \"thought\", \"thought\", \"thought\", \"thought\", \"thought\", \"thought\", \"time\", \"time\", \"time\", \"time\", \"time\", \"time\", \"time\", \"time\", \"time\", \"time\", \"time\", \"time\", \"time\", \"time\", \"time\", \"tiny\", \"tiny\", \"tiny\", \"tiny\", \"tiny\", \"took\", \"took\", \"took\", \"took\", \"took\", \"took\", \"took\", \"took\", \"took\", \"took\", \"took\", \"took\", \"took\", \"took\", \"took\", \"tout\", \"tout\", \"tout\", \"town\", \"town\", \"town\", \"town\", \"town\", \"town\", \"town\", \"town\", \"town\", \"town\", \"town\", \"town\", \"tree\", \"tree\", \"tree\", \"tree\", \"tree\", \"tree\", \"tree\", \"tree\", \"tree\", \"tree\", \"trees\", \"trees\", \"trees\", \"trees\", \"trees\", \"trees\", \"trees\", \"trees\", \"trees\", \"trees\", \"trees\", \"trembled\", \"trembled\", \"trembled\", \"trembled\", \"trembled\", \"trembled\", \"trembled\", \"trunk\", \"trunk\", \"trunk\", \"trunk\", \"trunk\", \"trunk\", \"trunk\", \"trunk\", \"tuesday\", \"tuesday\", \"tuesday\", \"tuesday\", \"tuesday\", \"turned\", \"turned\", \"turned\", \"turned\", \"turned\", \"turned\", \"turned\", \"turned\", \"turned\", \"turned\", \"turned\", \"turned\", \"turned\", \"turned\", \"turned\", \"turns\", \"turns\", \"turns\", \"turns\", \"turns\", \"turns\", \"turns\", \"turns\", \"turns\", \"une\", \"une\", \"uneasiness\", \"uneasiness\", \"unfortunate\", \"unfortunate\", \"unfortunate\", \"unusual\", \"unusual\", \"unusual\", \"unusual\", \"unusual\", \"unusual\", \"unusual\", \"unusual\", \"upstairs\", \"upstairs\", \"upstairs\", \"upstairs\", \"upstairs\", \"upstairs\", \"upstairs\", \"upstairs\", \"vacant\", \"vacant\", \"vacant\", \"vacant\", \"vacant\", \"vacant\", \"vacant\", \"vacant\", \"vacant\", \"ve\", \"ve\", \"ve\", \"ve\", \"ve\", \"veil\", \"veil\", \"veil\", \"veil\", \"veil\", \"veil\", \"veil\", \"veil\", \"veil\", \"veil\", \"velvet\", \"velvet\", \"velvet\", \"velvet\", \"velvet\", \"villette\", \"villette\", \"villette\", \"villette\", \"villette\", \"villette\", \"vision\", \"vision\", \"vision\", \"vision\", \"vision\", \"vision\", \"vision\", \"vision\", \"visitors\", \"visitors\", \"visitors\", \"visitors\", \"visitors\", \"visitors\", \"visitors\", \"visitors\", \"visitors\", \"vivid\", \"vivid\", \"vivid\", \"vivid\", \"vivid\", \"vivid\", \"voice\", \"voice\", \"voice\", \"voice\", \"voice\", \"voice\", \"voice\", \"voice\", \"voice\", \"voice\", \"voice\", \"voice\", \"voice\", \"voice\", \"void\", \"void\", \"void\", \"void\", \"void\", \"void\", \"vous\", \"vous\", \"vous\", \"vous\", \"walk\", \"walk\", \"walk\", \"walk\", \"walk\", \"walk\", \"walk\", \"walk\", \"walk\", \"walk\", \"walk\", \"walk\", \"walk\", \"wall\", \"wall\", \"wall\", \"wall\", \"wall\", \"wall\", \"wall\", \"water\", \"water\", \"water\", \"water\", \"water\", \"water\", \"water\", \"water\", \"water\", \"water\", \"water\", \"way\", \"way\", \"way\", \"way\", \"way\", \"way\", \"way\", \"way\", \"way\", \"way\", \"way\", \"way\", \"way\", \"way\", \"wealth\", \"wealth\", \"wealth\", \"wealth\", \"wealth\", \"wealth\", \"wealth\", \"wealth\", \"wealth\", \"wealth\", \"wealth\", \"wealth\", \"weary\", \"weary\", \"weary\", \"weary\", \"weary\", \"weary\", \"weary\", \"weary\", \"weary\", \"went\", \"went\", \"went\", \"went\", \"went\", \"went\", \"went\", \"went\", \"went\", \"went\", \"went\", \"went\", \"went\", \"went\", \"went\", \"west\", \"west\", \"west\", \"west\", \"west\", \"west\", \"weston\", \"weston\", \"weston\", \"weston\", \"weston\", \"weston\", \"wet\", \"wet\", \"wet\", \"wet\", \"wet\", \"wet\", \"wet\", \"wet\", \"wet\", \"wet\", \"white\", \"white\", \"white\", \"white\", \"white\", \"white\", \"white\", \"white\", \"white\", \"white\", \"white\", \"white\", \"white\", \"white\", \"wickham\", \"wickham\", \"wickham\", \"wife\", \"wife\", \"wife\", \"wife\", \"wife\", \"wife\", \"wife\", \"wife\", \"wife\", \"wife\", \"wife\", \"wife\", \"wife\", \"william\", \"william\", \"william\", \"william\", \"william\", \"william\", \"william\", \"william\", \"willoughby\", \"wind\", \"wind\", \"wind\", \"wind\", \"wind\", \"wind\", \"wind\", \"wind\", \"wind\", \"wind\", \"wind\", \"wind\", \"wings\", \"wings\", \"wings\", \"wings\", \"wings\", \"woman\", \"woman\", \"woman\", \"woman\", \"woman\", \"woman\", \"woman\", \"woman\", \"woman\", \"woman\", \"woman\", \"woman\", \"woman\", \"woman\", \"woman\", \"wondered\", \"wondered\", \"wondered\", \"wondered\", \"wondered\", \"wondered\", \"wondered\", \"wondered\", \"wondered\", \"wondered\", \"wondered\", \"woodhouse\", \"woodhouse\", \"woodhouse\", \"woodhouse\", \"woodhouse\", \"woods\", \"woods\", \"woods\", \"woods\", \"woods\", \"woods\", \"woods\", \"words\", \"words\", \"words\", \"words\", \"words\", \"words\", \"words\", \"words\", \"words\", \"words\", \"words\", \"words\", \"words\", \"words\", \"worked\", \"worked\", \"worked\", \"worked\", \"worked\", \"worked\", \"worked\", \"worked\", \"worked\", \"yard\", \"yard\", \"yard\", \"yard\", \"yard\", \"years\", \"years\", \"years\", \"years\", \"years\", \"years\", \"years\", \"years\", \"years\", \"years\", \"years\", \"years\", \"yellow\", \"yellow\", \"yellow\", \"yellow\", \"yellow\", \"yellow\", \"yellow\", \"yes\", \"yes\", \"yes\", \"yes\", \"yes\", \"yes\", \"yes\", \"yes\", \"yes\", \"yes\", \"yes\", \"yes\", \"yes\", \"yes\", \"young\", \"young\", \"young\", \"young\", \"young\", \"young\", \"young\", \"young\", \"young\", \"young\", \"young\", \"young\", \"young\", \"young\", \"younger\", \"younger\", \"younger\", \"younger\", \"younger\", \"younger\", \"younger\", \"younger\", \"youngest\", \"youngest\", \"youngest\", \"youngest\", \"youngest\", \"youngest\", \"youngest\", \"youngest\"]}, \"R\": 30, \"lambda.step\": 0.01, \"plot.opts\": {\"xlab\": \"PC1\", \"ylab\": \"PC2\"}, \"topic.order\": [1, 10, 13, 11, 8, 3, 2, 5, 4, 9, 15, 12, 14, 7, 6]};\n",
       "\n",
       "function LDAvis_load_lib(url, callback){\n",
       "  var s = document.createElement('script');\n",
       "  s.src = url;\n",
       "  s.async = true;\n",
       "  s.onreadystatechange = s.onload = callback;\n",
       "  s.onerror = function(){console.warn(\"failed to load library \" + url);};\n",
       "  document.getElementsByTagName(\"head\")[0].appendChild(s);\n",
       "}\n",
       "\n",
       "if(typeof(LDAvis) !== \"undefined\"){\n",
       "   // already loaded: just create the visualization\n",
       "   !function(LDAvis){\n",
       "       new LDAvis(\"#\" + \"ldavis_el1814819322634055123447171227\", ldavis_el1814819322634055123447171227_data);\n",
       "   }(LDAvis);\n",
       "}else if(typeof define === \"function\" && define.amd){\n",
       "   // require.js is available: use it to load d3/LDAvis\n",
       "   require.config({paths: {d3: \"https://cdnjs.cloudflare.com/ajax/libs/d3/3.5.5/d3.min\"}});\n",
       "   require([\"d3\"], function(d3){\n",
       "      window.d3 = d3;\n",
       "      LDAvis_load_lib(\"https://cdn.rawgit.com/bmabey/pyLDAvis/files/ldavis.v1.0.0.js\", function(){\n",
       "        new LDAvis(\"#\" + \"ldavis_el1814819322634055123447171227\", ldavis_el1814819322634055123447171227_data);\n",
       "      });\n",
       "    });\n",
       "}else{\n",
       "    // require.js not available: dynamically load d3 & LDAvis\n",
       "    LDAvis_load_lib(\"https://cdnjs.cloudflare.com/ajax/libs/d3/3.5.5/d3.min.js\", function(){\n",
       "         LDAvis_load_lib(\"https://cdn.rawgit.com/bmabey/pyLDAvis/files/ldavis.v1.0.0.js\", function(){\n",
       "                 new LDAvis(\"#\" + \"ldavis_el1814819322634055123447171227\", ldavis_el1814819322634055123447171227_data);\n",
       "            })\n",
       "         });\n",
       "}\n",
       "</script>"
      ],
      "text/plain": [
       "PreparedData(topic_coordinates=              x         y  topics  cluster       Freq\n",
       "topic                                                \n",
       "0     -0.108735  0.042385       1        1  20.400671\n",
       "9     -0.093958  0.037637       2        1  17.461811\n",
       "12     0.046934 -0.021920       3        1  15.201805\n",
       "10     0.046229 -0.008314       4        1  14.200014\n",
       "7     -0.154165  0.015951       5        1   8.076287\n",
       "2      0.027308  0.019701       6        1   7.123754\n",
       "1      0.118698  0.036896       7        1   5.972430\n",
       "4      0.000620  0.046295       8        1   5.622165\n",
       "3      0.055696  0.005397       9        1   1.265498\n",
       "8      0.044140  0.042661      10        1   1.113500\n",
       "14    -0.002085  0.053876      11        1   0.873873\n",
       "11    -0.147549 -0.093405      12        1   0.858032\n",
       "13     0.035327  0.009963      13        1   0.828175\n",
       "6      0.041512 -0.158961      14        1   0.722758\n",
       "5      0.090027 -0.028161      15        1   0.279222, topic_info=     Category         Freq       Term        Total  loglift  logprob\n",
       "1033  Default   676.000000  elizabeth   676.000000  30.0000  30.0000\n",
       "135   Default  1740.000000     little  1740.000000  29.0000  29.0000\n",
       "157   Default  1561.000000       miss  1561.000000  28.0000  28.0000\n",
       "70    Default   884.000000       emma   884.000000  27.0000  27.0000\n",
       "2504  Default   396.000000     madame   396.000000  26.0000  26.0000\n",
       "459   Default   620.000000       lady   620.000000  25.0000  25.0000\n",
       "125   Default   969.000000       jane   969.000000  24.0000  24.0000\n",
       "343   Default  1347.000000       like  1347.000000  23.0000  23.0000\n",
       "729   Default   898.000000       room   898.000000  22.0000  22.0000\n",
       "385   Default   601.000000        sir   601.000000  21.0000  21.0000\n",
       "241   Default  1149.000000    thought  1149.000000  20.0000  20.0000\n",
       "339   Default  1447.000000       know  1447.000000  19.0000  19.0000\n",
       "357   Default   627.000000      night   627.000000  18.0000  18.0000\n",
       "2669  Default   652.000000     elinor   652.000000  17.0000  17.0000\n",
       "240   Default  1323.000000      think  1323.000000  16.0000  16.0000\n",
       "317   Default  1370.000000       good  1370.000000  15.0000  15.0000\n",
       "52    Default  1070.000000        day  1070.000000  14.0000  14.0000\n",
       "1691  Default   379.000000    fairfax   379.000000  13.0000  13.0000\n",
       "244   Default  1322.000000       time  1322.000000  12.0000  12.0000\n",
       "2811  Default   362.000000  rochester   362.000000  11.0000  11.0000\n",
       "2531  Default   433.000000      darcy   433.000000  10.0000  10.0000\n",
       "2521  Default   347.000000     bennet   347.000000   9.0000   9.0000\n",
       "382   Default   935.000000      shall   935.000000   8.0000   8.0000\n",
       "144   Default   913.000000        man   913.000000   7.0000   7.0000\n",
       "2671  Default   539.000000   marianne   539.000000   6.0000   6.0000\n",
       "2522  Default   328.000000    bingley   328.000000   5.0000   5.0000\n",
       "97    Default   833.000000      great   833.000000   4.0000   4.0000\n",
       "2568  Default   185.000000    collins   185.000000   3.0000   3.0000\n",
       "287   Default   844.000000       come   844.000000   2.0000   2.0000\n",
       "133   Default   587.000000       life   587.000000   1.0000   1.0000\n",
       "...       ...          ...        ...          ...      ...      ...\n",
       "207   Topic15     3.269804       self   216.398666   1.6885  -5.4070\n",
       "357   Topic15     5.742852      night   627.233398   1.1876  -4.8438\n",
       "2840  Topic15     1.660015         je    70.501740   2.1321  -6.0849\n",
       "605   Topic15     1.643920      proof    70.664291   2.1201  -6.0946\n",
       "73    Topic15     4.160062    evening   492.980316   1.1060  -5.1662\n",
       "897   Topic15     3.263143     called   305.343719   1.3422  -5.4090\n",
       "135   Topic15     6.714739     little  1740.427246   0.3233  -4.6874\n",
       "1245  Topic15     3.292067      words   343.799744   1.2324  -5.4002\n",
       "26    Topic15     4.136427       came   697.751526   0.7529  -5.1719\n",
       "343   Topic15     4.992231       like  1347.224243   0.2830  -4.9838\n",
       "287   Topic15     4.117581       come   844.042786   0.5580  -5.1765\n",
       "52    Topic15     4.172287        day  1070.002075   0.3340  -5.1633\n",
       "2853  Topic15     2.506272       paul   184.970093   1.5795  -5.6729\n",
       "786   Topic15     3.419472       eyes   647.782043   0.6368  -5.3622\n",
       "1820  Topic15     2.563653     graham   215.932785   1.4474  -5.6503\n",
       "339   Topic15     4.195835       know  1447.785400   0.0372  -5.1576\n",
       "133   Topic15     3.302970       life   587.418518   0.7000  -5.3969\n",
       "1577  Topic15     2.497981       lips   196.375717   1.5164  -5.6762\n",
       "475   Topic15     2.452535        met   193.656235   1.5120  -5.6946\n",
       "729   Topic15     3.337556       room   898.239197   0.2857  -5.3865\n",
       "470   Topic15     2.436246      marry   207.504837   1.4362  -5.7013\n",
       "382   Topic15     3.280418      shall   935.948425   0.2273  -5.4038\n",
       "240   Topic15     3.408942      think  1323.845337  -0.0810  -5.3653\n",
       "1872  Topic15     2.483586      white   238.019089   1.3183  -5.6820\n",
       "1097  Topic15     2.677469       hand   624.050903   0.4296  -5.6068\n",
       "109   Topic15     2.589802      heart   656.403625   0.3457  -5.6401\n",
       "241   Topic15     2.563851    thought  1149.393677  -0.2246  -5.6502\n",
       "1105  Topic15     2.538633     moment   579.239258   0.4508  -5.6601\n",
       "16    Topic15     2.535443       away   688.539917   0.2767  -5.6614\n",
       "173   Topic15     2.509610     passed   390.941010   0.8325  -5.6716\n",
       "\n",
       "[991 rows x 6 columns], token_table=      Topic      Freq      Term\n",
       "term                           \n",
       "652       1  0.030778     abbey\n",
       "652       2  0.923341     abbey\n",
       "1655      1  0.211350     abode\n",
       "1655      3  0.181157     abode\n",
       "1655      4  0.271736     abode\n",
       "1655      5  0.090579     abode\n",
       "1655      6  0.030193     abode\n",
       "1655      8  0.030193     abode\n",
       "1655     11  0.060386     abode\n",
       "1655     12  0.090579     abode\n",
       "1655     13  0.030193     abode\n",
       "265       1  0.312831   absence\n",
       "265       2  0.097085   absence\n",
       "265       3  0.129447   absence\n",
       "265       4  0.075511   absence\n",
       "265       5  0.140235   absence\n",
       "265       6  0.097085   absence\n",
       "265       7  0.021575   absence\n",
       "265       8  0.032362   absence\n",
       "265      10  0.010787   absence\n",
       "265      11  0.053936   absence\n",
       "265      13  0.010787   absence\n",
       "265      15  0.010787   absence\n",
       "1896      1  0.218545    absurd\n",
       "1896      2  0.036424    absurd\n",
       "1896      3  0.327818    absurd\n",
       "1896      4  0.072848    absurd\n",
       "1896      5  0.036424    absurd\n",
       "1896      6  0.072848    absurd\n",
       "1896      8  0.036424    absurd\n",
       "...     ...       ...       ...\n",
       "521       1  0.217792     young\n",
       "521       2  0.275574     young\n",
       "521       3  0.145195     young\n",
       "521       4  0.085932     young\n",
       "521       5  0.131861     young\n",
       "521       6  0.062226     young\n",
       "521       7  0.013334     young\n",
       "521       8  0.026668     young\n",
       "521       9  0.004445     young\n",
       "521      10  0.008889     young\n",
       "521      11  0.008889     young\n",
       "521      12  0.010371     young\n",
       "521      13  0.004445     young\n",
       "521      14  0.004445     young\n",
       "1984      1  0.191426   younger\n",
       "1984      2  0.017402   younger\n",
       "1984      3  0.017402   younger\n",
       "1984      4  0.261036   younger\n",
       "1984      5  0.348048   younger\n",
       "1984      8  0.017402   younger\n",
       "1984     11  0.017402   younger\n",
       "1984     12  0.121817   younger\n",
       "264       1  0.240849  youngest\n",
       "264       2  0.068814  youngest\n",
       "264       3  0.137628  youngest\n",
       "264       5  0.412885  youngest\n",
       "264       8  0.034407  youngest\n",
       "264      12  0.034407  youngest\n",
       "264      14  0.034407  youngest\n",
       "264      15  0.034407  youngest\n",
       "\n",
       "[4984 rows x 3 columns], R=30, lambda_step=0.01, plot_opts={'xlab': 'PC1', 'ylab': 'PC2'}, topic_order=[1, 10, 13, 11, 8, 3, 2, 5, 4, 9, 15, 12, 14, 7, 6])"
      ]
     },
     "execution_count": 67,
     "metadata": {},
     "output_type": "execute_result"
    }
   ],
   "source": [
    "pyLDAvis.gensim.prepare(lda, corpus, id2word)"
   ]
  },
  {
   "cell_type": "markdown",
   "metadata": {},
   "source": [
    "### Overall Model / Documents"
   ]
  },
  {
   "cell_type": "code",
   "execution_count": 68,
   "metadata": {},
   "outputs": [
    {
     "data": {
      "text/plain": [
       "[(0, 0.2531186), (9, 0.74458253)]"
      ]
     },
     "execution_count": 68,
     "metadata": {},
     "output_type": "execute_result"
    }
   ],
   "source": [
    "lda[corpus[0]]"
   ]
  },
  {
   "cell_type": "code",
   "execution_count": 69,
   "metadata": {},
   "outputs": [],
   "source": [
    "distro = [lda[d] for d in corpus]"
   ]
  },
  {
   "cell_type": "code",
   "execution_count": 72,
   "metadata": {},
   "outputs": [
    {
     "data": {
      "text/plain": [
       "[(0, 0.25296932), (9, 0.7447318)]"
      ]
     },
     "execution_count": 72,
     "metadata": {},
     "output_type": "execute_result"
    }
   ],
   "source": [
    "distro[0]"
   ]
  },
  {
   "cell_type": "code",
   "execution_count": 73,
   "metadata": {},
   "outputs": [],
   "source": [
    "distro = [lda[d] for d in corpus]\n",
    "\n",
    "def update(doc):\n",
    "        d_dist = {k:0 for k in range(0,15)}\n",
    "        for t in doc:\n",
    "            d_dist[t[0]] = t[1]\n",
    "        return d_dist\n",
    "    \n",
    "new_distro = [update(d) for d in distro]"
   ]
  },
  {
   "cell_type": "code",
   "execution_count": 74,
   "metadata": {},
   "outputs": [
    {
     "data": {
      "text/plain": [
       "813"
      ]
     },
     "execution_count": 74,
     "metadata": {},
     "output_type": "execute_result"
    }
   ],
   "source": [
    "len(new_distro)"
   ]
  },
  {
   "cell_type": "code",
   "execution_count": 75,
   "metadata": {},
   "outputs": [
    {
     "data": {
      "text/html": [
       "<div>\n",
       "<style scoped>\n",
       "    .dataframe tbody tr th:only-of-type {\n",
       "        vertical-align: middle;\n",
       "    }\n",
       "\n",
       "    .dataframe tbody tr th {\n",
       "        vertical-align: top;\n",
       "    }\n",
       "\n",
       "    .dataframe thead th {\n",
       "        text-align: right;\n",
       "    }\n",
       "</style>\n",
       "<table border=\"1\" class=\"dataframe\">\n",
       "  <thead>\n",
       "    <tr style=\"text-align: right;\">\n",
       "      <th></th>\n",
       "      <th>tokens</th>\n",
       "      <th>author</th>\n",
       "      <th>book</th>\n",
       "      <th>section</th>\n",
       "    </tr>\n",
       "  </thead>\n",
       "  <tbody>\n",
       "    <tr>\n",
       "      <th>Austen_Emma0000</th>\n",
       "      <td>[emma, jane, austen, volume, chapter, emma, wo...</td>\n",
       "      <td>1</td>\n",
       "      <td>Emma</td>\n",
       "      <td>0</td>\n",
       "    </tr>\n",
       "    <tr>\n",
       "      <th>Austen_Emma0001</th>\n",
       "      <td>[taylor, wish, pity, weston, thought, agree, p...</td>\n",
       "      <td>1</td>\n",
       "      <td>Emma</td>\n",
       "      <td>1</td>\n",
       "    </tr>\n",
       "    <tr>\n",
       "      <th>Austen_Emma0002</th>\n",
       "      <td>[behaved, charmingly, body, punctual, body, be...</td>\n",
       "      <td>1</td>\n",
       "      <td>Emma</td>\n",
       "      <td>2</td>\n",
       "    </tr>\n",
       "    <tr>\n",
       "      <th>Austen_Emma0003</th>\n",
       "      <td>[native, highbury, born, respectable, family, ...</td>\n",
       "      <td>1</td>\n",
       "      <td>Emma</td>\n",
       "      <td>3</td>\n",
       "    </tr>\n",
       "    <tr>\n",
       "      <th>Austen_Emma0004</th>\n",
       "      <td>[mention, handsome, letter, weston, received, ...</td>\n",
       "      <td>1</td>\n",
       "      <td>Emma</td>\n",
       "      <td>4</td>\n",
       "    </tr>\n",
       "  </tbody>\n",
       "</table>\n",
       "</div>"
      ],
      "text/plain": [
       "                                                            tokens  author  \\\n",
       "Austen_Emma0000  [emma, jane, austen, volume, chapter, emma, wo...       1   \n",
       "Austen_Emma0001  [taylor, wish, pity, weston, thought, agree, p...       1   \n",
       "Austen_Emma0002  [behaved, charmingly, body, punctual, body, be...       1   \n",
       "Austen_Emma0003  [native, highbury, born, respectable, family, ...       1   \n",
       "Austen_Emma0004  [mention, handsome, letter, weston, received, ...       1   \n",
       "\n",
       "                 book  section  \n",
       "Austen_Emma0000  Emma        0  \n",
       "Austen_Emma0001  Emma        1  \n",
       "Austen_Emma0002  Emma        2  \n",
       "Austen_Emma0003  Emma        3  \n",
       "Austen_Emma0004  Emma        4  "
      ]
     },
     "execution_count": 75,
     "metadata": {},
     "output_type": "execute_result"
    }
   ],
   "source": [
    "df.head()"
   ]
  },
  {
   "cell_type": "code",
   "execution_count": 76,
   "metadata": {},
   "outputs": [],
   "source": [
    "df = pd.DataFrame.from_records(new_distro, index=titles)\n",
    "df.columns = topics\n",
    "df['author'] = df.reset_index()['index'].apply(lambda x: x.split('_')[0]).tolist()"
   ]
  },
  {
   "cell_type": "code",
   "execution_count": 77,
   "metadata": {},
   "outputs": [
    {
     "data": {
      "text/html": [
       "<div>\n",
       "<style scoped>\n",
       "    .dataframe tbody tr th:only-of-type {\n",
       "        vertical-align: middle;\n",
       "    }\n",
       "\n",
       "    .dataframe tbody tr th {\n",
       "        vertical-align: top;\n",
       "    }\n",
       "\n",
       "    .dataframe thead th {\n",
       "        text-align: right;\n",
       "    }\n",
       "</style>\n",
       "<table border=\"1\" class=\"dataframe\">\n",
       "  <thead>\n",
       "    <tr style=\"text-align: right;\">\n",
       "      <th></th>\n",
       "      <th>elinor marianne sister time know</th>\n",
       "      <th>night long like saw thought</th>\n",
       "      <th>little bretton graham dr like</th>\n",
       "      <th>madame beck little good old</th>\n",
       "      <th>hunsden like know man st</th>\n",
       "      <th>madame little night vous like</th>\n",
       "      <th>room adele miss fairfax et</th>\n",
       "      <th>elizabeth bennet darcy bingley jane</th>\n",
       "      <th>jane sir night love thought</th>\n",
       "      <th>emma miss harriet weston thing</th>\n",
       "      <th>like little rochester room miss</th>\n",
       "      <th>collins lady catherine elizabeth charlotte</th>\n",
       "      <th>little monsieur like madame thought</th>\n",
       "      <th>rochester sir voice think man</th>\n",
       "      <th>mother edward shall mind crimsworth</th>\n",
       "      <th>author</th>\n",
       "    </tr>\n",
       "  </thead>\n",
       "  <tbody>\n",
       "    <tr>\n",
       "      <th>Austen_Emma0000</th>\n",
       "      <td>0.253224</td>\n",
       "      <td>0.0</td>\n",
       "      <td>0.0</td>\n",
       "      <td>0.0</td>\n",
       "      <td>0.0</td>\n",
       "      <td>0.0</td>\n",
       "      <td>0.0</td>\n",
       "      <td>0.000000</td>\n",
       "      <td>0.0</td>\n",
       "      <td>0.744477</td>\n",
       "      <td>0.0</td>\n",
       "      <td>0.0</td>\n",
       "      <td>0.0</td>\n",
       "      <td>0.0</td>\n",
       "      <td>0.000000</td>\n",
       "      <td>Austen</td>\n",
       "    </tr>\n",
       "    <tr>\n",
       "      <th>Austen_Emma0001</th>\n",
       "      <td>0.000000</td>\n",
       "      <td>0.0</td>\n",
       "      <td>0.0</td>\n",
       "      <td>0.0</td>\n",
       "      <td>0.0</td>\n",
       "      <td>0.0</td>\n",
       "      <td>0.0</td>\n",
       "      <td>0.000000</td>\n",
       "      <td>0.0</td>\n",
       "      <td>0.997083</td>\n",
       "      <td>0.0</td>\n",
       "      <td>0.0</td>\n",
       "      <td>0.0</td>\n",
       "      <td>0.0</td>\n",
       "      <td>0.000000</td>\n",
       "      <td>Austen</td>\n",
       "    </tr>\n",
       "    <tr>\n",
       "      <th>Austen_Emma0002</th>\n",
       "      <td>0.000000</td>\n",
       "      <td>0.0</td>\n",
       "      <td>0.0</td>\n",
       "      <td>0.0</td>\n",
       "      <td>0.0</td>\n",
       "      <td>0.0</td>\n",
       "      <td>0.0</td>\n",
       "      <td>0.000000</td>\n",
       "      <td>0.0</td>\n",
       "      <td>0.997348</td>\n",
       "      <td>0.0</td>\n",
       "      <td>0.0</td>\n",
       "      <td>0.0</td>\n",
       "      <td>0.0</td>\n",
       "      <td>0.000000</td>\n",
       "      <td>Austen</td>\n",
       "    </tr>\n",
       "    <tr>\n",
       "      <th>Austen_Emma0003</th>\n",
       "      <td>0.019467</td>\n",
       "      <td>0.0</td>\n",
       "      <td>0.0</td>\n",
       "      <td>0.0</td>\n",
       "      <td>0.0</td>\n",
       "      <td>0.0</td>\n",
       "      <td>0.0</td>\n",
       "      <td>0.241309</td>\n",
       "      <td>0.0</td>\n",
       "      <td>0.736905</td>\n",
       "      <td>0.0</td>\n",
       "      <td>0.0</td>\n",
       "      <td>0.0</td>\n",
       "      <td>0.0</td>\n",
       "      <td>0.000000</td>\n",
       "      <td>Austen</td>\n",
       "    </tr>\n",
       "    <tr>\n",
       "      <th>Austen_Emma0004</th>\n",
       "      <td>0.000000</td>\n",
       "      <td>0.0</td>\n",
       "      <td>0.0</td>\n",
       "      <td>0.0</td>\n",
       "      <td>0.0</td>\n",
       "      <td>0.0</td>\n",
       "      <td>0.0</td>\n",
       "      <td>0.000000</td>\n",
       "      <td>0.0</td>\n",
       "      <td>0.958086</td>\n",
       "      <td>0.0</td>\n",
       "      <td>0.0</td>\n",
       "      <td>0.0</td>\n",
       "      <td>0.0</td>\n",
       "      <td>0.039615</td>\n",
       "      <td>Austen</td>\n",
       "    </tr>\n",
       "  </tbody>\n",
       "</table>\n",
       "</div>"
      ],
      "text/plain": [
       "                 elinor marianne sister time know  \\\n",
       "Austen_Emma0000                          0.253224   \n",
       "Austen_Emma0001                          0.000000   \n",
       "Austen_Emma0002                          0.000000   \n",
       "Austen_Emma0003                          0.019467   \n",
       "Austen_Emma0004                          0.000000   \n",
       "\n",
       "                 night long like saw thought  little bretton graham dr like  \\\n",
       "Austen_Emma0000                          0.0                            0.0   \n",
       "Austen_Emma0001                          0.0                            0.0   \n",
       "Austen_Emma0002                          0.0                            0.0   \n",
       "Austen_Emma0003                          0.0                            0.0   \n",
       "Austen_Emma0004                          0.0                            0.0   \n",
       "\n",
       "                 madame beck little good old  hunsden like know man st  \\\n",
       "Austen_Emma0000                          0.0                       0.0   \n",
       "Austen_Emma0001                          0.0                       0.0   \n",
       "Austen_Emma0002                          0.0                       0.0   \n",
       "Austen_Emma0003                          0.0                       0.0   \n",
       "Austen_Emma0004                          0.0                       0.0   \n",
       "\n",
       "                 madame little night vous like  room adele miss fairfax et  \\\n",
       "Austen_Emma0000                            0.0                         0.0   \n",
       "Austen_Emma0001                            0.0                         0.0   \n",
       "Austen_Emma0002                            0.0                         0.0   \n",
       "Austen_Emma0003                            0.0                         0.0   \n",
       "Austen_Emma0004                            0.0                         0.0   \n",
       "\n",
       "                 elizabeth bennet darcy bingley jane  \\\n",
       "Austen_Emma0000                             0.000000   \n",
       "Austen_Emma0001                             0.000000   \n",
       "Austen_Emma0002                             0.000000   \n",
       "Austen_Emma0003                             0.241309   \n",
       "Austen_Emma0004                             0.000000   \n",
       "\n",
       "                 jane sir night love thought  emma miss harriet weston thing  \\\n",
       "Austen_Emma0000                          0.0                        0.744477   \n",
       "Austen_Emma0001                          0.0                        0.997083   \n",
       "Austen_Emma0002                          0.0                        0.997348   \n",
       "Austen_Emma0003                          0.0                        0.736905   \n",
       "Austen_Emma0004                          0.0                        0.958086   \n",
       "\n",
       "                 like little rochester room miss  \\\n",
       "Austen_Emma0000                              0.0   \n",
       "Austen_Emma0001                              0.0   \n",
       "Austen_Emma0002                              0.0   \n",
       "Austen_Emma0003                              0.0   \n",
       "Austen_Emma0004                              0.0   \n",
       "\n",
       "                 collins lady catherine elizabeth charlotte  \\\n",
       "Austen_Emma0000                                         0.0   \n",
       "Austen_Emma0001                                         0.0   \n",
       "Austen_Emma0002                                         0.0   \n",
       "Austen_Emma0003                                         0.0   \n",
       "Austen_Emma0004                                         0.0   \n",
       "\n",
       "                 little monsieur like madame thought  \\\n",
       "Austen_Emma0000                                  0.0   \n",
       "Austen_Emma0001                                  0.0   \n",
       "Austen_Emma0002                                  0.0   \n",
       "Austen_Emma0003                                  0.0   \n",
       "Austen_Emma0004                                  0.0   \n",
       "\n",
       "                 rochester sir voice think man  \\\n",
       "Austen_Emma0000                            0.0   \n",
       "Austen_Emma0001                            0.0   \n",
       "Austen_Emma0002                            0.0   \n",
       "Austen_Emma0003                            0.0   \n",
       "Austen_Emma0004                            0.0   \n",
       "\n",
       "                 mother edward shall mind crimsworth  author  \n",
       "Austen_Emma0000                             0.000000  Austen  \n",
       "Austen_Emma0001                             0.000000  Austen  \n",
       "Austen_Emma0002                             0.000000  Austen  \n",
       "Austen_Emma0003                             0.000000  Austen  \n",
       "Austen_Emma0004                             0.039615  Austen  "
      ]
     },
     "execution_count": 77,
     "metadata": {},
     "output_type": "execute_result"
    }
   ],
   "source": [
    "df.head()"
   ]
  },
  {
   "cell_type": "code",
   "execution_count": 78,
   "metadata": {},
   "outputs": [
    {
     "data": {
      "text/html": [
       "<div>\n",
       "<style scoped>\n",
       "    .dataframe tbody tr th:only-of-type {\n",
       "        vertical-align: middle;\n",
       "    }\n",
       "\n",
       "    .dataframe tbody tr th {\n",
       "        vertical-align: top;\n",
       "    }\n",
       "\n",
       "    .dataframe thead th {\n",
       "        text-align: right;\n",
       "    }\n",
       "</style>\n",
       "<table border=\"1\" class=\"dataframe\">\n",
       "  <thead>\n",
       "    <tr style=\"text-align: right;\">\n",
       "      <th></th>\n",
       "      <th>elinor marianne sister time know</th>\n",
       "      <th>night long like saw thought</th>\n",
       "      <th>little bretton graham dr like</th>\n",
       "      <th>madame beck little good old</th>\n",
       "      <th>hunsden like know man st</th>\n",
       "      <th>madame little night vous like</th>\n",
       "      <th>room adele miss fairfax et</th>\n",
       "      <th>elizabeth bennet darcy bingley jane</th>\n",
       "      <th>jane sir night love thought</th>\n",
       "      <th>emma miss harriet weston thing</th>\n",
       "      <th>like little rochester room miss</th>\n",
       "      <th>collins lady catherine elizabeth charlotte</th>\n",
       "      <th>little monsieur like madame thought</th>\n",
       "      <th>rochester sir voice think man</th>\n",
       "      <th>mother edward shall mind crimsworth</th>\n",
       "    </tr>\n",
       "    <tr>\n",
       "      <th>author</th>\n",
       "      <th></th>\n",
       "      <th></th>\n",
       "      <th></th>\n",
       "      <th></th>\n",
       "      <th></th>\n",
       "      <th></th>\n",
       "      <th></th>\n",
       "      <th></th>\n",
       "      <th></th>\n",
       "      <th></th>\n",
       "      <th></th>\n",
       "      <th></th>\n",
       "      <th></th>\n",
       "      <th></th>\n",
       "      <th></th>\n",
       "    </tr>\n",
       "  </thead>\n",
       "  <tbody>\n",
       "    <tr>\n",
       "      <th>Austen</th>\n",
       "      <td>0.415786</td>\n",
       "      <td>0.004536</td>\n",
       "      <td>0.003018</td>\n",
       "      <td>0.000250</td>\n",
       "      <td>0.002797</td>\n",
       "      <td>0.000000</td>\n",
       "      <td>0.001236</td>\n",
       "      <td>0.177101</td>\n",
       "      <td>0.000000</td>\n",
       "      <td>0.351221</td>\n",
       "      <td>0.017387</td>\n",
       "      <td>0.017234</td>\n",
       "      <td>0.004543</td>\n",
       "      <td>0.00000</td>\n",
       "      <td>0.002005</td>\n",
       "    </tr>\n",
       "    <tr>\n",
       "      <th>CBronte</th>\n",
       "      <td>0.017102</td>\n",
       "      <td>0.110109</td>\n",
       "      <td>0.124003</td>\n",
       "      <td>0.023394</td>\n",
       "      <td>0.110291</td>\n",
       "      <td>0.004523</td>\n",
       "      <td>0.012137</td>\n",
       "      <td>0.001090</td>\n",
       "      <td>0.021861</td>\n",
       "      <td>0.008344</td>\n",
       "      <td>0.259036</td>\n",
       "      <td>0.000325</td>\n",
       "      <td>0.274607</td>\n",
       "      <td>0.01541</td>\n",
       "      <td>0.014436</td>\n",
       "    </tr>\n",
       "  </tbody>\n",
       "</table>\n",
       "</div>"
      ],
      "text/plain": [
       "         elinor marianne sister time know  night long like saw thought  \\\n",
       "author                                                                   \n",
       "Austen                           0.415786                     0.004536   \n",
       "CBronte                          0.017102                     0.110109   \n",
       "\n",
       "         little bretton graham dr like  madame beck little good old  \\\n",
       "author                                                                \n",
       "Austen                        0.003018                     0.000250   \n",
       "CBronte                       0.124003                     0.023394   \n",
       "\n",
       "         hunsden like know man st  madame little night vous like  \\\n",
       "author                                                             \n",
       "Austen                   0.002797                       0.000000   \n",
       "CBronte                  0.110291                       0.004523   \n",
       "\n",
       "         room adele miss fairfax et  elizabeth bennet darcy bingley jane  \\\n",
       "author                                                                     \n",
       "Austen                     0.001236                             0.177101   \n",
       "CBronte                    0.012137                             0.001090   \n",
       "\n",
       "         jane sir night love thought  emma miss harriet weston thing  \\\n",
       "author                                                                 \n",
       "Austen                      0.000000                        0.351221   \n",
       "CBronte                     0.021861                        0.008344   \n",
       "\n",
       "         like little rochester room miss  \\\n",
       "author                                     \n",
       "Austen                          0.017387   \n",
       "CBronte                         0.259036   \n",
       "\n",
       "         collins lady catherine elizabeth charlotte  \\\n",
       "author                                                \n",
       "Austen                                     0.017234   \n",
       "CBronte                                    0.000325   \n",
       "\n",
       "         little monsieur like madame thought  rochester sir voice think man  \\\n",
       "author                                                                        \n",
       "Austen                              0.004543                        0.00000   \n",
       "CBronte                             0.274607                        0.01541   \n",
       "\n",
       "         mother edward shall mind crimsworth  \n",
       "author                                        \n",
       "Austen                              0.002005  \n",
       "CBronte                             0.014436  "
      ]
     },
     "execution_count": 78,
     "metadata": {},
     "output_type": "execute_result"
    }
   ],
   "source": [
    "df.groupby('author').mean()"
   ]
  },
  {
   "cell_type": "markdown",
   "metadata": {},
   "source": [
    "## Challenge\n",
    "### *Can we see if one of the authors focus more on men than women?*\n",
    "\n",
    "*  Use Spacy for text prepocessing\n",
    "*  Extract the Named Entities from the documents using Spacy (command is fairly straight forward)\n",
    "*  Create unique list of names from the authors (you'll find that there are different types of named entities not all people)\n",
    "*  Label the names with genders (can you this by hand or you use the US census name lists)\n",
    "*  Customize your processing to replace the proper name with your gender from the previous step's lookup table\n",
    "*  Then follow the rest of the LDA flow\n"
   ]
  },
  {
   "cell_type": "markdown",
   "metadata": {},
   "source": [
    "# Selecting the Number of Topics (Learn)\n",
    "<a id=\"#p4\"></a>"
   ]
  },
  {
   "cell_type": "markdown",
   "metadata": {},
   "source": [
    "## Overview"
   ]
  },
  {
   "cell_type": "markdown",
   "metadata": {},
   "source": [
    "## Follow Along"
   ]
  },
  {
   "cell_type": "code",
   "execution_count": 79,
   "metadata": {},
   "outputs": [],
   "source": [
    "from gensim.models.coherencemodel import CoherenceModel\n",
    "\n",
    "def compute_coherence_values(dictionary, corpus, path, limit, start=2, step=3, passes=5):\n",
    "    \"\"\"\n",
    "    Compute c_v coherence for various number of topics\n",
    "\n",
    "    Parameters:\n",
    "    ----------\n",
    "    dictionary : Gensim dictionary\n",
    "    corpus : Gensim corpus\n",
    "    path : path to input texts\n",
    "    limit : Max num of topics\n",
    "    passes: the number of times the entire lda model & coherence values are calculated\n",
    "\n",
    "    Returns:\n",
    "    -------\n",
    "    coherence_values : Coherence values corresponding to the LDA model with respective number of topics\n",
    "    \"\"\"\n",
    "    \n",
    "    coherence_values = []\n",
    "    \n",
    "    tokens = list(doc_stream(path))\n",
    "    \n",
    "    for iter_ in range(passes):\n",
    "        for num_topics in range(start, limit, step):\n",
    "            stream = doc_stream(path)\n",
    "            model = LdaMulticore(corpus=corpus, num_topics=num_topics, id2word=dictionary, workers=4)\n",
    "            coherencemodel = CoherenceModel(model=model,dictionary=dictionary,corpus=corpus, coherence='u_mass')\n",
    "            coherence_values.append({'pass': iter_, \n",
    "                                     'num_topics': num_topics, \n",
    "                                     'coherence_score': coherencemodel.get_coherence()\n",
    "                                    })\n",
    "\n",
    "    return coherence_values"
   ]
  },
  {
   "cell_type": "code",
   "execution_count": 1,
   "metadata": {},
   "outputs": [],
   "source": [
    "# Can take a long time to run.\n",
    "# coherence_values = compute_coherence_values(dictionary=id2word, \n",
    "#                                                         corpus=corpus, \n",
    "#                                                         path=path, \n",
    "#                                                         start=2, \n",
    "#                                                         limit=40, \n",
    "#                                                         step=6,\n",
    "#                                                         passes=40)"
   ]
  },
  {
   "cell_type": "code",
   "execution_count": 123,
   "metadata": {},
   "outputs": [],
   "source": [
    "topic_coherence = pd.DataFrame.from_records(coherence_values)"
   ]
  },
  {
   "cell_type": "code",
   "execution_count": 124,
   "metadata": {},
   "outputs": [
    {
     "data": {
      "text/html": [
       "<div>\n",
       "<style scoped>\n",
       "    .dataframe tbody tr th:only-of-type {\n",
       "        vertical-align: middle;\n",
       "    }\n",
       "\n",
       "    .dataframe tbody tr th {\n",
       "        vertical-align: top;\n",
       "    }\n",
       "\n",
       "    .dataframe thead th {\n",
       "        text-align: right;\n",
       "    }\n",
       "</style>\n",
       "<table border=\"1\" class=\"dataframe\">\n",
       "  <thead>\n",
       "    <tr style=\"text-align: right;\">\n",
       "      <th></th>\n",
       "      <th>coherence_score</th>\n",
       "      <th>num_topics</th>\n",
       "      <th>pass</th>\n",
       "    </tr>\n",
       "  </thead>\n",
       "  <tbody>\n",
       "    <tr>\n",
       "      <th>0</th>\n",
       "      <td>-0.935416</td>\n",
       "      <td>2</td>\n",
       "      <td>0</td>\n",
       "    </tr>\n",
       "    <tr>\n",
       "      <th>1</th>\n",
       "      <td>-0.939436</td>\n",
       "      <td>8</td>\n",
       "      <td>0</td>\n",
       "    </tr>\n",
       "    <tr>\n",
       "      <th>2</th>\n",
       "      <td>-0.952264</td>\n",
       "      <td>14</td>\n",
       "      <td>0</td>\n",
       "    </tr>\n",
       "    <tr>\n",
       "      <th>3</th>\n",
       "      <td>-0.912855</td>\n",
       "      <td>20</td>\n",
       "      <td>0</td>\n",
       "    </tr>\n",
       "    <tr>\n",
       "      <th>4</th>\n",
       "      <td>-0.905050</td>\n",
       "      <td>26</td>\n",
       "      <td>0</td>\n",
       "    </tr>\n",
       "  </tbody>\n",
       "</table>\n",
       "</div>"
      ],
      "text/plain": [
       "   coherence_score  num_topics  pass\n",
       "0        -0.935416           2     0\n",
       "1        -0.939436           8     0\n",
       "2        -0.952264          14     0\n",
       "3        -0.912855          20     0\n",
       "4        -0.905050          26     0"
      ]
     },
     "execution_count": 124,
     "metadata": {},
     "output_type": "execute_result"
    }
   ],
   "source": [
    "topic_coherence.head()"
   ]
  },
  {
   "cell_type": "code",
   "execution_count": 125,
   "metadata": {},
   "outputs": [
    {
     "data": {
      "image/png": "[encoded data removed]",
      "text/plain": [
       "<Figure size 432x288 with 1 Axes>"
      ]
     },
     "metadata": {
      "needs_background": "light"
     },
     "output_type": "display_data"
    }
   ],
   "source": [
    "import seaborn as sns\n",
    "\n",
    "ax = sns.lineplot(x=\"num_topics\", y=\"coherence_score\", data=topic_coherence)"
   ]
  },
  {
   "cell_type": "code",
   "execution_count": 76,
   "metadata": {},
   "outputs": [
    {
     "name": "stdout",
     "output_type": "stream",
     "text": [
      "Num Topics = 2  has Coherence Value of 0.2785\n",
      "Num Topics = 8  has Coherence Value of 0.3029\n",
      "Num Topics = 14  has Coherence Value of 0.2887\n",
      "Num Topics = 20  has Coherence Value of 0.2852\n",
      "Num Topics = 26  has Coherence Value of 0.2846\n",
      "Num Topics = 32  has Coherence Value of 0.2914\n",
      "Num Topics = 38  has Coherence Value of 0.2878\n"
     ]
    }
   ],
   "source": [
    "# Print the coherence scores\n",
    "for m, cv in zip(x, coherence_values):\n",
    "    print(\"Num Topics =\", m, \" has Coherence Value of\", round(cv, 4))"
   ]
  },
  {
   "cell_type": "code",
   "execution_count": 89,
   "metadata": {},
   "outputs": [
    {
     "data": {
      "text/plain": [
       "[(0, 0.02226036),\n",
       " (1, 0.022260414),\n",
       " (2, 0.022260347),\n",
       " (3, 0.022260347),\n",
       " (4, 0.022260392),\n",
       " (5, 0.0222604),\n",
       " (6, 0.022260347),\n",
       " (7, 0.35487327),\n",
       " (8, 0.022260398),\n",
       " (9, 0.022260517),\n",
       " (10, 0.022260416),\n",
       " (11, 0.022260422),\n",
       " (12, 0.3557417),\n",
       " (13, 0.022260347),\n",
       " (14, 0.022260347)]"
      ]
     },
     "execution_count": 89,
     "metadata": {},
     "output_type": "execute_result"
    }
   ],
   "source": [
    "lda[id2word.doc2bow(tokenize(\"This is a sample document to score with a topic distribution.\"))]"
   ]
  },
  {
   "cell_type": "markdown",
   "metadata": {},
   "source": [
    "## Challenge\n",
    "### *Can we see if one of the authors focus more on men than women?*\n",
    "\n",
    "*  Use Spacy for text prepocessing\n",
    "*  Extract the Named Entities from the documents using Spacy (command is fairly straight forward)\n",
    "*  Create unique list of names from the authors (you'll find that there are different types of named entities not all people)\n",
    "*  Label the names with genders (can you this by hand or you use the US census name lists)\n",
    "*  Customize your processing to replace the proper name with your gender from the previous step's lookup table\n",
    "*  Then follow the rest of the LDA flow"
   ]
  },
  {
   "cell_type": "code",
   "execution_count": 78,
   "metadata": {},
   "outputs": [
    {
     "name": "stderr",
     "output_type": "stream",
     "text": [
      "/Users/jonathansokoll/anaconda3/envs/U4-S1-NLP/lib/python3.7/site-packages/thinc/neural/train.py:7: DeprecationWarning: Using or importing the ABCs from 'collections' instead of from 'collections.abc' is deprecated, and in 3.8 it will stop working\n",
      "  from .optimizers import Adam, linear_decay\n",
      "/Users/jonathansokoll/anaconda3/envs/U4-S1-NLP/lib/python3.7/site-packages/thinc/check.py:4: DeprecationWarning: Using or importing the ABCs from 'collections' instead of from 'collections.abc' is deprecated, and in 3.8 it will stop working\n",
      "  from collections import Sequence, Sized, Iterable, Callable\n",
      "/Users/jonathansokoll/anaconda3/envs/U4-S1-NLP/lib/python3.7/site-packages/thinc/check.py:4: DeprecationWarning: Using or importing the ABCs from 'collections' instead of from 'collections.abc' is deprecated, and in 3.8 it will stop working\n",
      "  from collections import Sequence, Sized, Iterable, Callable\n"
     ]
    }
   ],
   "source": [
    "import spacy\n",
    "\n",
    "nlp = spacy.load('en_core_web_lg')"
   ]
  },
  {
   "cell_type": "code",
   "execution_count": 79,
   "metadata": {},
   "outputs": [],
   "source": [
    "test = \"Ned asked me a question about England today.\""
   ]
  },
  {
   "cell_type": "code",
   "execution_count": 80,
   "metadata": {},
   "outputs": [
    {
     "name": "stdout",
     "output_type": "stream",
     "text": [
      "Ned Ned PROPN\n",
      "asked ask VERB\n",
      "me -PRON- PRON\n",
      "a a DET\n",
      "question question NOUN\n",
      "about about ADP\n",
      "England England PROPN\n",
      "today today NOUN\n",
      ". . PUNCT\n"
     ]
    }
   ],
   "source": [
    "doc = nlp(test)\n",
    "\n",
    "for token in doc:\n",
    "    print(token.text, token.lemma_, token.pos_)"
   ]
  },
  {
   "cell_type": "code",
   "execution_count": 81,
   "metadata": {},
   "outputs": [
    {
     "name": "stdout",
     "output_type": "stream",
     "text": [
      "Ned PERSON\n",
      "England GPE\n",
      "today DATE\n"
     ]
    }
   ],
   "source": [
    "for ent in doc.ents:\n",
    "    print(ent.text, ent.label_)"
   ]
  },
  {
   "cell_type": "code",
   "execution_count": 82,
   "metadata": {},
   "outputs": [],
   "source": [
    "def doc_stream(path):\n",
    "    for f in os.listdir(path):\n",
    "        with open(os.path.join(path,f)) as t:\n",
    "            text = t.read().strip('\\n')\n",
    "            yield text\n",
    "\n",
    "def get_people(docstream):\n",
    "    \n",
    "    ppl = []\n",
    "    \n",
    "    for d in docstream:\n",
    "        \n",
    "        doc = nlp(d)\n",
    "        \n",
    "        for ent in doc.ents:\n",
    "            \n",
    "            if ent.label_ == \"PERSON\":\n",
    "                ppl.append(ent.lemma_)\n",
    "                \n",
    "    return set(ppl)"
   ]
  },
  {
   "cell_type": "code",
   "execution_count": 129,
   "metadata": {},
   "outputs": [],
   "source": [
    "people = get_people(doc_stream(path))"
   ]
  },
  {
   "cell_type": "code",
   "execution_count": 126,
   "metadata": {},
   "outputs": [],
   "source": [
    "doc = nlp(next(doc_stream(path)))"
   ]
  },
  {
   "cell_type": "code",
   "execution_count": 128,
   "metadata": {},
   "outputs": [
    {
     "data": {
      "text/plain": [
       "'yesterday'"
      ]
     },
     "execution_count": 128,
     "metadata": {},
     "output_type": "execute_result"
    }
   ],
   "source": [
    "doc.ents[0].lemma_"
   ]
  },
  {
   "cell_type": "markdown",
   "metadata": {},
   "source": [
    "# Sources\n",
    "\n",
    "### *References*\n",
    "* [Andrew Ng et al paper on LDA](https://ai.stanford.edu/~ang/papers/jair03-lda.pdf)\n",
    "* On [Coherence](https://pdfs.semanticscholar.org/1521/8d9c029cbb903ae7c729b2c644c24994c201.pdf)\n",
    "\n",
    "### *Resources*\n",
    "\n",
    "* [Gensim](https://radimrehurek.com/gensim/): Python package for topic modeling, nlp, word vectorization, and few other things. Well maintained and well documented.\n",
    "* [Topic Modeling with Gensim](http://www.machinelearningplus.com/nlp/topic-modeling-gensim-python/#11createthedictionaryandcorpusneededfortopicmodeling): A kind of cookbook for LDA with gensim. Excellent overview, but the you need to be aware of missing import statements and assumed prior knowledge.\n",
    "* [Chinese Restuarant Process](https://en.wikipedia.org/wiki/Chinese_restaurant_process): That really obscure stats thing I mentioned... \n",
    "* [PyLDAvis](https://github.com/bmabey/pyLDAvis): Library for visualizing the topic model and performing some exploratory work. Works well. Has a direct parrell implementation in R as well. \n",
    "* [Rare Technologies](https://rare-technologies.com/): The people that made & maintain gensim and a few other libraries.\n",
    "* [Jane Austen v. Charlotte Bronte](https://www.literaryladiesguide.com/literary-musings/jane-austen-charlotte-bronte-different-alike/)"
   ]
  }
 ],
 "metadata": {
  "kernelspec": {
   "display_name": "DS-U4-S1-NLP (Python3)",
   "language": "python",
   "name": "ds-u4-s1-nlp"
  },
  "language_info": {
   "codemirror_mode": {
    "name": "ipython",
    "version": 3
   },
   "file_extension": ".py",
   "mimetype": "text/x-python",
   "name": "python",
   "nbconvert_exporter": "python",
   "pygments_lexer": "ipython3",
   "version": "3.7.3"
  }
 },
 "nbformat": 4,
 "nbformat_minor": 4
}
