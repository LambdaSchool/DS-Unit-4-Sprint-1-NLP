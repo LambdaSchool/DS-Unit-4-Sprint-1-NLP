{
 "cells": [
  {
   "cell_type": "markdown",
   "metadata": {},
   "source": [
    "<img align=\"left\" src=\"https://lever-client-logos.s3.amazonaws.com/864372b1-534c-480e-acd5-9711f850815c-1524247202159.png\" width=200>\n",
    "<br></br>\n",
    "<br></br>\n",
    "\n",
    "# Topic Modeling\n",
    "## *Data Science Unit 4 Sprint 1 Assignment 4*\n",
    "\n",
    "Analyze a corpus of Amazon reviews from Unit 4 Sprint 1 Module 1's lecture using topic modeling: \n",
    "\n",
    "- Fit a Gensim LDA topic model on Amazon Reviews\n",
    "- Select appropriate number of topics\n",
    "- Create some dope visualization of the topics\n",
    "- Write a few bullets on your findings in markdown at the end\n",
    "- **Note**: You don't *have* to use generators for this assignment"
   ]
  },
  {
   "cell_type": "code",
   "execution_count": 30,
   "metadata": {},
   "outputs": [],
   "source": [
    "#Start Here\n",
    "import pandas as pd\n",
    "import spacy\n",
    "import re\n",
    "import seaborn as sns\n",
    "from gensim.corpora import Dictionary\n",
    "from gensim.models.ldamulticore import LdaMulticore\n",
    "from gensim.models.coherencemodel import CoherenceModel\n",
    "from spacy.tokenizer import Tokenizer"
   ]
  },
  {
   "cell_type": "code",
   "execution_count": 3,
   "metadata": {},
   "outputs": [],
   "source": [
    "df = pd.read_csv('Datafiniti_Amazon_Consumer_Reviews_of_Amazon_Products_May19.csv')"
   ]
  },
  {
   "cell_type": "code",
   "execution_count": 5,
   "metadata": {},
   "outputs": [
    {
     "name": "stdout",
     "output_type": "stream",
     "text": [
      "(28332, 24)\n"
     ]
    },
    {
     "data": {
      "text/html": [
       "<div>\n",
       "<style scoped>\n",
       "    .dataframe tbody tr th:only-of-type {\n",
       "        vertical-align: middle;\n",
       "    }\n",
       "\n",
       "    .dataframe tbody tr th {\n",
       "        vertical-align: top;\n",
       "    }\n",
       "\n",
       "    .dataframe thead th {\n",
       "        text-align: right;\n",
       "    }\n",
       "</style>\n",
       "<table border=\"1\" class=\"dataframe\">\n",
       "  <thead>\n",
       "    <tr style=\"text-align: right;\">\n",
       "      <th></th>\n",
       "      <th>id</th>\n",
       "      <th>dateAdded</th>\n",
       "      <th>dateUpdated</th>\n",
       "      <th>name</th>\n",
       "      <th>asins</th>\n",
       "      <th>brand</th>\n",
       "      <th>categories</th>\n",
       "      <th>primaryCategories</th>\n",
       "      <th>imageURLs</th>\n",
       "      <th>keys</th>\n",
       "      <th>...</th>\n",
       "      <th>reviews.didPurchase</th>\n",
       "      <th>reviews.doRecommend</th>\n",
       "      <th>reviews.id</th>\n",
       "      <th>reviews.numHelpful</th>\n",
       "      <th>reviews.rating</th>\n",
       "      <th>reviews.sourceURLs</th>\n",
       "      <th>reviews.text</th>\n",
       "      <th>reviews.title</th>\n",
       "      <th>reviews.username</th>\n",
       "      <th>sourceURLs</th>\n",
       "    </tr>\n",
       "  </thead>\n",
       "  <tbody>\n",
       "    <tr>\n",
       "      <th>0</th>\n",
       "      <td>AVpgNzjwLJeJML43Kpxn</td>\n",
       "      <td>2015-10-30T08:59:32Z</td>\n",
       "      <td>2019-04-25T09:08:16Z</td>\n",
       "      <td>AmazonBasics AAA Performance Alkaline Batterie...</td>\n",
       "      <td>B00QWO9P0O,B00LH3DMUO</td>\n",
       "      <td>Amazonbasics</td>\n",
       "      <td>AA,AAA,Health,Electronics,Health &amp; Household,C...</td>\n",
       "      <td>Health &amp; Beauty</td>\n",
       "      <td>https://images-na.ssl-images-amazon.com/images...</td>\n",
       "      <td>amazonbasics/hl002619,amazonbasicsaaaperforman...</td>\n",
       "      <td>...</td>\n",
       "      <td>NaN</td>\n",
       "      <td>NaN</td>\n",
       "      <td>NaN</td>\n",
       "      <td>NaN</td>\n",
       "      <td>3</td>\n",
       "      <td>https://www.amazon.com/product-reviews/B00QWO9...</td>\n",
       "      <td>I order 3 of them and one of the item is bad q...</td>\n",
       "      <td>... 3 of them and one of the item is bad quali...</td>\n",
       "      <td>Byger yang</td>\n",
       "      <td>https://www.barcodable.com/upc/841710106442,ht...</td>\n",
       "    </tr>\n",
       "    <tr>\n",
       "      <th>1</th>\n",
       "      <td>AVpgNzjwLJeJML43Kpxn</td>\n",
       "      <td>2015-10-30T08:59:32Z</td>\n",
       "      <td>2019-04-25T09:08:16Z</td>\n",
       "      <td>AmazonBasics AAA Performance Alkaline Batterie...</td>\n",
       "      <td>B00QWO9P0O,B00LH3DMUO</td>\n",
       "      <td>Amazonbasics</td>\n",
       "      <td>AA,AAA,Health,Electronics,Health &amp; Household,C...</td>\n",
       "      <td>Health &amp; Beauty</td>\n",
       "      <td>https://images-na.ssl-images-amazon.com/images...</td>\n",
       "      <td>amazonbasics/hl002619,amazonbasicsaaaperforman...</td>\n",
       "      <td>...</td>\n",
       "      <td>NaN</td>\n",
       "      <td>NaN</td>\n",
       "      <td>NaN</td>\n",
       "      <td>NaN</td>\n",
       "      <td>4</td>\n",
       "      <td>https://www.amazon.com/product-reviews/B00QWO9...</td>\n",
       "      <td>Bulk is always the less expensive way to go fo...</td>\n",
       "      <td>... always the less expensive way to go for pr...</td>\n",
       "      <td>ByMG</td>\n",
       "      <td>https://www.barcodable.com/upc/841710106442,ht...</td>\n",
       "    </tr>\n",
       "    <tr>\n",
       "      <th>2</th>\n",
       "      <td>AVpgNzjwLJeJML43Kpxn</td>\n",
       "      <td>2015-10-30T08:59:32Z</td>\n",
       "      <td>2019-04-25T09:08:16Z</td>\n",
       "      <td>AmazonBasics AAA Performance Alkaline Batterie...</td>\n",
       "      <td>B00QWO9P0O,B00LH3DMUO</td>\n",
       "      <td>Amazonbasics</td>\n",
       "      <td>AA,AAA,Health,Electronics,Health &amp; Household,C...</td>\n",
       "      <td>Health &amp; Beauty</td>\n",
       "      <td>https://images-na.ssl-images-amazon.com/images...</td>\n",
       "      <td>amazonbasics/hl002619,amazonbasicsaaaperforman...</td>\n",
       "      <td>...</td>\n",
       "      <td>NaN</td>\n",
       "      <td>NaN</td>\n",
       "      <td>NaN</td>\n",
       "      <td>NaN</td>\n",
       "      <td>5</td>\n",
       "      <td>https://www.amazon.com/product-reviews/B00QWO9...</td>\n",
       "      <td>Well they are not Duracell but for the price i...</td>\n",
       "      <td>... are not Duracell but for the price i am ha...</td>\n",
       "      <td>BySharon Lambert</td>\n",
       "      <td>https://www.barcodable.com/upc/841710106442,ht...</td>\n",
       "    </tr>\n",
       "    <tr>\n",
       "      <th>3</th>\n",
       "      <td>AVpgNzjwLJeJML43Kpxn</td>\n",
       "      <td>2015-10-30T08:59:32Z</td>\n",
       "      <td>2019-04-25T09:08:16Z</td>\n",
       "      <td>AmazonBasics AAA Performance Alkaline Batterie...</td>\n",
       "      <td>B00QWO9P0O,B00LH3DMUO</td>\n",
       "      <td>Amazonbasics</td>\n",
       "      <td>AA,AAA,Health,Electronics,Health &amp; Household,C...</td>\n",
       "      <td>Health &amp; Beauty</td>\n",
       "      <td>https://images-na.ssl-images-amazon.com/images...</td>\n",
       "      <td>amazonbasics/hl002619,amazonbasicsaaaperforman...</td>\n",
       "      <td>...</td>\n",
       "      <td>NaN</td>\n",
       "      <td>NaN</td>\n",
       "      <td>NaN</td>\n",
       "      <td>NaN</td>\n",
       "      <td>5</td>\n",
       "      <td>https://www.amazon.com/product-reviews/B00QWO9...</td>\n",
       "      <td>Seem to work as well as name brand batteries a...</td>\n",
       "      <td>... as well as name brand batteries at a much ...</td>\n",
       "      <td>Bymark sexson</td>\n",
       "      <td>https://www.barcodable.com/upc/841710106442,ht...</td>\n",
       "    </tr>\n",
       "    <tr>\n",
       "      <th>4</th>\n",
       "      <td>AVpgNzjwLJeJML43Kpxn</td>\n",
       "      <td>2015-10-30T08:59:32Z</td>\n",
       "      <td>2019-04-25T09:08:16Z</td>\n",
       "      <td>AmazonBasics AAA Performance Alkaline Batterie...</td>\n",
       "      <td>B00QWO9P0O,B00LH3DMUO</td>\n",
       "      <td>Amazonbasics</td>\n",
       "      <td>AA,AAA,Health,Electronics,Health &amp; Household,C...</td>\n",
       "      <td>Health &amp; Beauty</td>\n",
       "      <td>https://images-na.ssl-images-amazon.com/images...</td>\n",
       "      <td>amazonbasics/hl002619,amazonbasicsaaaperforman...</td>\n",
       "      <td>...</td>\n",
       "      <td>NaN</td>\n",
       "      <td>NaN</td>\n",
       "      <td>NaN</td>\n",
       "      <td>NaN</td>\n",
       "      <td>5</td>\n",
       "      <td>https://www.amazon.com/product-reviews/B00QWO9...</td>\n",
       "      <td>These batteries are very long lasting the pric...</td>\n",
       "      <td>... batteries are very long lasting the price ...</td>\n",
       "      <td>Bylinda</td>\n",
       "      <td>https://www.barcodable.com/upc/841710106442,ht...</td>\n",
       "    </tr>\n",
       "  </tbody>\n",
       "</table>\n",
       "<p>5 rows × 24 columns</p>\n",
       "</div>"
      ],
      "text/plain": [
       "                     id             dateAdded           dateUpdated  \\\n",
       "0  AVpgNzjwLJeJML43Kpxn  2015-10-30T08:59:32Z  2019-04-25T09:08:16Z   \n",
       "1  AVpgNzjwLJeJML43Kpxn  2015-10-30T08:59:32Z  2019-04-25T09:08:16Z   \n",
       "2  AVpgNzjwLJeJML43Kpxn  2015-10-30T08:59:32Z  2019-04-25T09:08:16Z   \n",
       "3  AVpgNzjwLJeJML43Kpxn  2015-10-30T08:59:32Z  2019-04-25T09:08:16Z   \n",
       "4  AVpgNzjwLJeJML43Kpxn  2015-10-30T08:59:32Z  2019-04-25T09:08:16Z   \n",
       "\n",
       "                                                name                  asins  \\\n",
       "0  AmazonBasics AAA Performance Alkaline Batterie...  B00QWO9P0O,B00LH3DMUO   \n",
       "1  AmazonBasics AAA Performance Alkaline Batterie...  B00QWO9P0O,B00LH3DMUO   \n",
       "2  AmazonBasics AAA Performance Alkaline Batterie...  B00QWO9P0O,B00LH3DMUO   \n",
       "3  AmazonBasics AAA Performance Alkaline Batterie...  B00QWO9P0O,B00LH3DMUO   \n",
       "4  AmazonBasics AAA Performance Alkaline Batterie...  B00QWO9P0O,B00LH3DMUO   \n",
       "\n",
       "          brand                                         categories  \\\n",
       "0  Amazonbasics  AA,AAA,Health,Electronics,Health & Household,C...   \n",
       "1  Amazonbasics  AA,AAA,Health,Electronics,Health & Household,C...   \n",
       "2  Amazonbasics  AA,AAA,Health,Electronics,Health & Household,C...   \n",
       "3  Amazonbasics  AA,AAA,Health,Electronics,Health & Household,C...   \n",
       "4  Amazonbasics  AA,AAA,Health,Electronics,Health & Household,C...   \n",
       "\n",
       "  primaryCategories                                          imageURLs  \\\n",
       "0   Health & Beauty  https://images-na.ssl-images-amazon.com/images...   \n",
       "1   Health & Beauty  https://images-na.ssl-images-amazon.com/images...   \n",
       "2   Health & Beauty  https://images-na.ssl-images-amazon.com/images...   \n",
       "3   Health & Beauty  https://images-na.ssl-images-amazon.com/images...   \n",
       "4   Health & Beauty  https://images-na.ssl-images-amazon.com/images...   \n",
       "\n",
       "                                                keys  ... reviews.didPurchase  \\\n",
       "0  amazonbasics/hl002619,amazonbasicsaaaperforman...  ...                 NaN   \n",
       "1  amazonbasics/hl002619,amazonbasicsaaaperforman...  ...                 NaN   \n",
       "2  amazonbasics/hl002619,amazonbasicsaaaperforman...  ...                 NaN   \n",
       "3  amazonbasics/hl002619,amazonbasicsaaaperforman...  ...                 NaN   \n",
       "4  amazonbasics/hl002619,amazonbasicsaaaperforman...  ...                 NaN   \n",
       "\n",
       "  reviews.doRecommend reviews.id reviews.numHelpful reviews.rating  \\\n",
       "0                 NaN        NaN                NaN              3   \n",
       "1                 NaN        NaN                NaN              4   \n",
       "2                 NaN        NaN                NaN              5   \n",
       "3                 NaN        NaN                NaN              5   \n",
       "4                 NaN        NaN                NaN              5   \n",
       "\n",
       "                                  reviews.sourceURLs  \\\n",
       "0  https://www.amazon.com/product-reviews/B00QWO9...   \n",
       "1  https://www.amazon.com/product-reviews/B00QWO9...   \n",
       "2  https://www.amazon.com/product-reviews/B00QWO9...   \n",
       "3  https://www.amazon.com/product-reviews/B00QWO9...   \n",
       "4  https://www.amazon.com/product-reviews/B00QWO9...   \n",
       "\n",
       "                                        reviews.text  \\\n",
       "0  I order 3 of them and one of the item is bad q...   \n",
       "1  Bulk is always the less expensive way to go fo...   \n",
       "2  Well they are not Duracell but for the price i...   \n",
       "3  Seem to work as well as name brand batteries a...   \n",
       "4  These batteries are very long lasting the pric...   \n",
       "\n",
       "                                       reviews.title  reviews.username  \\\n",
       "0  ... 3 of them and one of the item is bad quali...        Byger yang   \n",
       "1  ... always the less expensive way to go for pr...              ByMG   \n",
       "2  ... are not Duracell but for the price i am ha...  BySharon Lambert   \n",
       "3  ... as well as name brand batteries at a much ...     Bymark sexson   \n",
       "4  ... batteries are very long lasting the price ...           Bylinda   \n",
       "\n",
       "                                          sourceURLs  \n",
       "0  https://www.barcodable.com/upc/841710106442,ht...  \n",
       "1  https://www.barcodable.com/upc/841710106442,ht...  \n",
       "2  https://www.barcodable.com/upc/841710106442,ht...  \n",
       "3  https://www.barcodable.com/upc/841710106442,ht...  \n",
       "4  https://www.barcodable.com/upc/841710106442,ht...  \n",
       "\n",
       "[5 rows x 24 columns]"
      ]
     },
     "execution_count": 5,
     "metadata": {},
     "output_type": "execute_result"
    }
   ],
   "source": [
    "print(df.shape)\n",
    "df.head()"
   ]
  },
  {
   "cell_type": "code",
   "execution_count": 6,
   "metadata": {},
   "outputs": [
    {
     "data": {
      "text/plain": [
       "Electronics                    13995\n",
       "Health & Beauty                12071\n",
       "Toys & Games,Electronics        1676\n",
       "Office Supplies,Electronics      386\n",
       "Electronics,Media                185\n",
       "Office Supplies                    9\n",
       "Animals & Pet Supplies             6\n",
       "Electronics,Furniture              2\n",
       "Home & Garden                      2\n",
       "Name: primaryCategories, dtype: int64"
      ]
     },
     "execution_count": 6,
     "metadata": {},
     "output_type": "execute_result"
    }
   ],
   "source": [
    "# View Categories.\n",
    "df['primaryCategories'].value_counts()"
   ]
  },
  {
   "cell_type": "code",
   "execution_count": 7,
   "metadata": {},
   "outputs": [
    {
     "name": "stdout",
     "output_type": "stream",
     "text": [
      "(12071, 24)\n"
     ]
    },
    {
     "data": {
      "text/html": [
       "<div>\n",
       "<style scoped>\n",
       "    .dataframe tbody tr th:only-of-type {\n",
       "        vertical-align: middle;\n",
       "    }\n",
       "\n",
       "    .dataframe tbody tr th {\n",
       "        vertical-align: top;\n",
       "    }\n",
       "\n",
       "    .dataframe thead th {\n",
       "        text-align: right;\n",
       "    }\n",
       "</style>\n",
       "<table border=\"1\" class=\"dataframe\">\n",
       "  <thead>\n",
       "    <tr style=\"text-align: right;\">\n",
       "      <th></th>\n",
       "      <th>id</th>\n",
       "      <th>dateAdded</th>\n",
       "      <th>dateUpdated</th>\n",
       "      <th>name</th>\n",
       "      <th>asins</th>\n",
       "      <th>brand</th>\n",
       "      <th>categories</th>\n",
       "      <th>primaryCategories</th>\n",
       "      <th>imageURLs</th>\n",
       "      <th>keys</th>\n",
       "      <th>...</th>\n",
       "      <th>reviews.didPurchase</th>\n",
       "      <th>reviews.doRecommend</th>\n",
       "      <th>reviews.id</th>\n",
       "      <th>reviews.numHelpful</th>\n",
       "      <th>reviews.rating</th>\n",
       "      <th>reviews.sourceURLs</th>\n",
       "      <th>reviews.text</th>\n",
       "      <th>reviews.title</th>\n",
       "      <th>reviews.username</th>\n",
       "      <th>sourceURLs</th>\n",
       "    </tr>\n",
       "  </thead>\n",
       "  <tbody>\n",
       "    <tr>\n",
       "      <th>0</th>\n",
       "      <td>AVpgNzjwLJeJML43Kpxn</td>\n",
       "      <td>2015-10-30T08:59:32Z</td>\n",
       "      <td>2019-04-25T09:08:16Z</td>\n",
       "      <td>AmazonBasics AAA Performance Alkaline Batterie...</td>\n",
       "      <td>B00QWO9P0O,B00LH3DMUO</td>\n",
       "      <td>Amazonbasics</td>\n",
       "      <td>AA,AAA,Health,Electronics,Health &amp; Household,C...</td>\n",
       "      <td>Health &amp; Beauty</td>\n",
       "      <td>https://images-na.ssl-images-amazon.com/images...</td>\n",
       "      <td>amazonbasics/hl002619,amazonbasicsaaaperforman...</td>\n",
       "      <td>...</td>\n",
       "      <td>NaN</td>\n",
       "      <td>NaN</td>\n",
       "      <td>NaN</td>\n",
       "      <td>NaN</td>\n",
       "      <td>3</td>\n",
       "      <td>https://www.amazon.com/product-reviews/B00QWO9...</td>\n",
       "      <td>I order 3 of them and one of the item is bad q...</td>\n",
       "      <td>... 3 of them and one of the item is bad quali...</td>\n",
       "      <td>Byger yang</td>\n",
       "      <td>https://www.barcodable.com/upc/841710106442,ht...</td>\n",
       "    </tr>\n",
       "    <tr>\n",
       "      <th>1</th>\n",
       "      <td>AVpgNzjwLJeJML43Kpxn</td>\n",
       "      <td>2015-10-30T08:59:32Z</td>\n",
       "      <td>2019-04-25T09:08:16Z</td>\n",
       "      <td>AmazonBasics AAA Performance Alkaline Batterie...</td>\n",
       "      <td>B00QWO9P0O,B00LH3DMUO</td>\n",
       "      <td>Amazonbasics</td>\n",
       "      <td>AA,AAA,Health,Electronics,Health &amp; Household,C...</td>\n",
       "      <td>Health &amp; Beauty</td>\n",
       "      <td>https://images-na.ssl-images-amazon.com/images...</td>\n",
       "      <td>amazonbasics/hl002619,amazonbasicsaaaperforman...</td>\n",
       "      <td>...</td>\n",
       "      <td>NaN</td>\n",
       "      <td>NaN</td>\n",
       "      <td>NaN</td>\n",
       "      <td>NaN</td>\n",
       "      <td>4</td>\n",
       "      <td>https://www.amazon.com/product-reviews/B00QWO9...</td>\n",
       "      <td>Bulk is always the less expensive way to go fo...</td>\n",
       "      <td>... always the less expensive way to go for pr...</td>\n",
       "      <td>ByMG</td>\n",
       "      <td>https://www.barcodable.com/upc/841710106442,ht...</td>\n",
       "    </tr>\n",
       "    <tr>\n",
       "      <th>2</th>\n",
       "      <td>AVpgNzjwLJeJML43Kpxn</td>\n",
       "      <td>2015-10-30T08:59:32Z</td>\n",
       "      <td>2019-04-25T09:08:16Z</td>\n",
       "      <td>AmazonBasics AAA Performance Alkaline Batterie...</td>\n",
       "      <td>B00QWO9P0O,B00LH3DMUO</td>\n",
       "      <td>Amazonbasics</td>\n",
       "      <td>AA,AAA,Health,Electronics,Health &amp; Household,C...</td>\n",
       "      <td>Health &amp; Beauty</td>\n",
       "      <td>https://images-na.ssl-images-amazon.com/images...</td>\n",
       "      <td>amazonbasics/hl002619,amazonbasicsaaaperforman...</td>\n",
       "      <td>...</td>\n",
       "      <td>NaN</td>\n",
       "      <td>NaN</td>\n",
       "      <td>NaN</td>\n",
       "      <td>NaN</td>\n",
       "      <td>5</td>\n",
       "      <td>https://www.amazon.com/product-reviews/B00QWO9...</td>\n",
       "      <td>Well they are not Duracell but for the price i...</td>\n",
       "      <td>... are not Duracell but for the price i am ha...</td>\n",
       "      <td>BySharon Lambert</td>\n",
       "      <td>https://www.barcodable.com/upc/841710106442,ht...</td>\n",
       "    </tr>\n",
       "    <tr>\n",
       "      <th>3</th>\n",
       "      <td>AVpgNzjwLJeJML43Kpxn</td>\n",
       "      <td>2015-10-30T08:59:32Z</td>\n",
       "      <td>2019-04-25T09:08:16Z</td>\n",
       "      <td>AmazonBasics AAA Performance Alkaline Batterie...</td>\n",
       "      <td>B00QWO9P0O,B00LH3DMUO</td>\n",
       "      <td>Amazonbasics</td>\n",
       "      <td>AA,AAA,Health,Electronics,Health &amp; Household,C...</td>\n",
       "      <td>Health &amp; Beauty</td>\n",
       "      <td>https://images-na.ssl-images-amazon.com/images...</td>\n",
       "      <td>amazonbasics/hl002619,amazonbasicsaaaperforman...</td>\n",
       "      <td>...</td>\n",
       "      <td>NaN</td>\n",
       "      <td>NaN</td>\n",
       "      <td>NaN</td>\n",
       "      <td>NaN</td>\n",
       "      <td>5</td>\n",
       "      <td>https://www.amazon.com/product-reviews/B00QWO9...</td>\n",
       "      <td>Seem to work as well as name brand batteries a...</td>\n",
       "      <td>... as well as name brand batteries at a much ...</td>\n",
       "      <td>Bymark sexson</td>\n",
       "      <td>https://www.barcodable.com/upc/841710106442,ht...</td>\n",
       "    </tr>\n",
       "    <tr>\n",
       "      <th>4</th>\n",
       "      <td>AVpgNzjwLJeJML43Kpxn</td>\n",
       "      <td>2015-10-30T08:59:32Z</td>\n",
       "      <td>2019-04-25T09:08:16Z</td>\n",
       "      <td>AmazonBasics AAA Performance Alkaline Batterie...</td>\n",
       "      <td>B00QWO9P0O,B00LH3DMUO</td>\n",
       "      <td>Amazonbasics</td>\n",
       "      <td>AA,AAA,Health,Electronics,Health &amp; Household,C...</td>\n",
       "      <td>Health &amp; Beauty</td>\n",
       "      <td>https://images-na.ssl-images-amazon.com/images...</td>\n",
       "      <td>amazonbasics/hl002619,amazonbasicsaaaperforman...</td>\n",
       "      <td>...</td>\n",
       "      <td>NaN</td>\n",
       "      <td>NaN</td>\n",
       "      <td>NaN</td>\n",
       "      <td>NaN</td>\n",
       "      <td>5</td>\n",
       "      <td>https://www.amazon.com/product-reviews/B00QWO9...</td>\n",
       "      <td>These batteries are very long lasting the pric...</td>\n",
       "      <td>... batteries are very long lasting the price ...</td>\n",
       "      <td>Bylinda</td>\n",
       "      <td>https://www.barcodable.com/upc/841710106442,ht...</td>\n",
       "    </tr>\n",
       "  </tbody>\n",
       "</table>\n",
       "<p>5 rows × 24 columns</p>\n",
       "</div>"
      ],
      "text/plain": [
       "                     id             dateAdded           dateUpdated  \\\n",
       "0  AVpgNzjwLJeJML43Kpxn  2015-10-30T08:59:32Z  2019-04-25T09:08:16Z   \n",
       "1  AVpgNzjwLJeJML43Kpxn  2015-10-30T08:59:32Z  2019-04-25T09:08:16Z   \n",
       "2  AVpgNzjwLJeJML43Kpxn  2015-10-30T08:59:32Z  2019-04-25T09:08:16Z   \n",
       "3  AVpgNzjwLJeJML43Kpxn  2015-10-30T08:59:32Z  2019-04-25T09:08:16Z   \n",
       "4  AVpgNzjwLJeJML43Kpxn  2015-10-30T08:59:32Z  2019-04-25T09:08:16Z   \n",
       "\n",
       "                                                name                  asins  \\\n",
       "0  AmazonBasics AAA Performance Alkaline Batterie...  B00QWO9P0O,B00LH3DMUO   \n",
       "1  AmazonBasics AAA Performance Alkaline Batterie...  B00QWO9P0O,B00LH3DMUO   \n",
       "2  AmazonBasics AAA Performance Alkaline Batterie...  B00QWO9P0O,B00LH3DMUO   \n",
       "3  AmazonBasics AAA Performance Alkaline Batterie...  B00QWO9P0O,B00LH3DMUO   \n",
       "4  AmazonBasics AAA Performance Alkaline Batterie...  B00QWO9P0O,B00LH3DMUO   \n",
       "\n",
       "          brand                                         categories  \\\n",
       "0  Amazonbasics  AA,AAA,Health,Electronics,Health & Household,C...   \n",
       "1  Amazonbasics  AA,AAA,Health,Electronics,Health & Household,C...   \n",
       "2  Amazonbasics  AA,AAA,Health,Electronics,Health & Household,C...   \n",
       "3  Amazonbasics  AA,AAA,Health,Electronics,Health & Household,C...   \n",
       "4  Amazonbasics  AA,AAA,Health,Electronics,Health & Household,C...   \n",
       "\n",
       "  primaryCategories                                          imageURLs  \\\n",
       "0   Health & Beauty  https://images-na.ssl-images-amazon.com/images...   \n",
       "1   Health & Beauty  https://images-na.ssl-images-amazon.com/images...   \n",
       "2   Health & Beauty  https://images-na.ssl-images-amazon.com/images...   \n",
       "3   Health & Beauty  https://images-na.ssl-images-amazon.com/images...   \n",
       "4   Health & Beauty  https://images-na.ssl-images-amazon.com/images...   \n",
       "\n",
       "                                                keys  ... reviews.didPurchase  \\\n",
       "0  amazonbasics/hl002619,amazonbasicsaaaperforman...  ...                 NaN   \n",
       "1  amazonbasics/hl002619,amazonbasicsaaaperforman...  ...                 NaN   \n",
       "2  amazonbasics/hl002619,amazonbasicsaaaperforman...  ...                 NaN   \n",
       "3  amazonbasics/hl002619,amazonbasicsaaaperforman...  ...                 NaN   \n",
       "4  amazonbasics/hl002619,amazonbasicsaaaperforman...  ...                 NaN   \n",
       "\n",
       "  reviews.doRecommend reviews.id reviews.numHelpful reviews.rating  \\\n",
       "0                 NaN        NaN                NaN              3   \n",
       "1                 NaN        NaN                NaN              4   \n",
       "2                 NaN        NaN                NaN              5   \n",
       "3                 NaN        NaN                NaN              5   \n",
       "4                 NaN        NaN                NaN              5   \n",
       "\n",
       "                                  reviews.sourceURLs  \\\n",
       "0  https://www.amazon.com/product-reviews/B00QWO9...   \n",
       "1  https://www.amazon.com/product-reviews/B00QWO9...   \n",
       "2  https://www.amazon.com/product-reviews/B00QWO9...   \n",
       "3  https://www.amazon.com/product-reviews/B00QWO9...   \n",
       "4  https://www.amazon.com/product-reviews/B00QWO9...   \n",
       "\n",
       "                                        reviews.text  \\\n",
       "0  I order 3 of them and one of the item is bad q...   \n",
       "1  Bulk is always the less expensive way to go fo...   \n",
       "2  Well they are not Duracell but for the price i...   \n",
       "3  Seem to work as well as name brand batteries a...   \n",
       "4  These batteries are very long lasting the pric...   \n",
       "\n",
       "                                       reviews.title  reviews.username  \\\n",
       "0  ... 3 of them and one of the item is bad quali...        Byger yang   \n",
       "1  ... always the less expensive way to go for pr...              ByMG   \n",
       "2  ... are not Duracell but for the price i am ha...  BySharon Lambert   \n",
       "3  ... as well as name brand batteries at a much ...     Bymark sexson   \n",
       "4  ... batteries are very long lasting the price ...           Bylinda   \n",
       "\n",
       "                                          sourceURLs  \n",
       "0  https://www.barcodable.com/upc/841710106442,ht...  \n",
       "1  https://www.barcodable.com/upc/841710106442,ht...  \n",
       "2  https://www.barcodable.com/upc/841710106442,ht...  \n",
       "3  https://www.barcodable.com/upc/841710106442,ht...  \n",
       "4  https://www.barcodable.com/upc/841710106442,ht...  \n",
       "\n",
       "[5 rows x 24 columns]"
      ]
     },
     "execution_count": 7,
     "metadata": {},
     "output_type": "execute_result"
    }
   ],
   "source": [
    "# Let's select Health & Beauty to look at reviews.\n",
    "df = df[df['primaryCategories'] == 'Health & Beauty'].copy()\n",
    "print(df.shape)\n",
    "df.head()"
   ]
  },
  {
   "cell_type": "code",
   "execution_count": 11,
   "metadata": {},
   "outputs": [],
   "source": [
    "# Now let's use Spacy to tokenize.\n",
    "nlp = spacy.load(\"en_core_web_lg\")\n",
    "tokenizer = Tokenizer(nlp.vocab)"
   ]
  },
  {
   "cell_type": "code",
   "execution_count": 12,
   "metadata": {},
   "outputs": [],
   "source": [
    "STOP_WORDS = nlp.Defaults.stop_words.union([\"amazon\",\"battery\",\"duracell\",\"batteries.\",\"batteries,\",\"batteries\",\"price.\"])"
   ]
  },
  {
   "cell_type": "code",
   "execution_count": 13,
   "metadata": {},
   "outputs": [],
   "source": [
    "tokens = []\n",
    "\n",
    "for doc in tokenizer.pipe(df['reviews.text'], batch_size=500):\n",
    "    \n",
    "    doc_tokens = []\n",
    "    \n",
    "    for token in doc:\n",
    "        if (token.text.lower() not in STOP_WORDS) and (token.is_punct == False):\n",
    "            doc_tokens.append(token.lemma_.lower())\n",
    "            \n",
    "    tokens.append(doc_tokens)\n",
    "        \n",
    "df['tokens'] = tokens"
   ]
  },
  {
   "cell_type": "code",
   "execution_count": 14,
   "metadata": {},
   "outputs": [
    {
     "data": {
      "text/plain": [
       "0    [order, 3, item, bad, quality., miss, backup, ...\n",
       "1                [bulk, expensive, way, product, like]\n",
       "2                                      [price, happy.]\n",
       "3                           [work, brand, well, price]\n",
       "4                          [long, last, price, great.]\n",
       "Name: tokens, dtype: object"
      ]
     },
     "execution_count": 14,
     "metadata": {},
     "output_type": "execute_result"
    }
   ],
   "source": [
    "df['tokens'].head()"
   ]
  },
  {
   "cell_type": "code",
   "execution_count": 15,
   "metadata": {},
   "outputs": [
    {
     "name": "stdout",
     "output_type": "stream",
     "text": [
      "9803\n"
     ]
    }
   ],
   "source": [
    "# Gensim dictionary.\n",
    "id2word = Dictionary(df['tokens'])\n",
    "print(len(id2word))"
   ]
  },
  {
   "cell_type": "code",
   "execution_count": 16,
   "metadata": {},
   "outputs": [
    {
     "name": "stdout",
     "output_type": "stream",
     "text": [
      "day\n",
      "savings!\n",
      "thanks..\n"
     ]
    }
   ],
   "source": [
    "print(id2word[106])\n",
    "print(id2word[5000])\n",
    "print(id2word[204])"
   ]
  },
  {
   "cell_type": "code",
   "execution_count": 17,
   "metadata": {},
   "outputs": [
    {
     "name": "stdout",
     "output_type": "stream",
     "text": [
      "9803\n"
     ]
    }
   ],
   "source": [
    "print(len(id2word))"
   ]
  },
  {
   "cell_type": "code",
   "execution_count": 18,
   "metadata": {},
   "outputs": [],
   "source": [
    "corpus = [id2word.doc2bow(token) for token in df['tokens']]"
   ]
  },
  {
   "cell_type": "code",
   "execution_count": 19,
   "metadata": {},
   "outputs": [
    {
     "data": {
      "text/plain": [
       "12071"
      ]
     },
     "execution_count": 19,
     "metadata": {},
     "output_type": "execute_result"
    }
   ],
   "source": [
    "len(corpus) "
   ]
  },
  {
   "cell_type": "code",
   "execution_count": 20,
   "metadata": {},
   "outputs": [
    {
     "data": {
      "text/plain": [
       "11"
      ]
     },
     "execution_count": 20,
     "metadata": {},
     "output_type": "execute_result"
    }
   ],
   "source": [
    "len(corpus[0])"
   ]
  },
  {
   "cell_type": "code",
   "execution_count": 21,
   "metadata": {},
   "outputs": [
    {
     "data": {
      "text/plain": [
       "[(0, 1),\n",
       " (1, 1),\n",
       " (2, 1),\n",
       " (3, 1),\n",
       " (4, 1),\n",
       " (5, 1),\n",
       " (6, 1),\n",
       " (7, 1),\n",
       " (8, 1),\n",
       " (9, 1),\n",
       " (10, 1)]"
      ]
     },
     "execution_count": 21,
     "metadata": {},
     "output_type": "execute_result"
    }
   ],
   "source": [
    "corpus[0]"
   ]
  },
  {
   "cell_type": "code",
   "execution_count": 22,
   "metadata": {},
   "outputs": [],
   "source": [
    "lda_model = LdaMulticore(\n",
    "    corpus=corpus, \n",
    "    num_topics=5, \n",
    "    id2word=id2word, \n",
    "    workers=4, \n",
    "    passes=5)"
   ]
  },
  {
   "cell_type": "code",
   "execution_count": 23,
   "metadata": {},
   "outputs": [
    {
     "data": {
      "text/plain": [
       "[(0,\n",
       "  '0.020*\"buy\" + 0.013*\"work\" + 0.013*\"brand\" + 0.013*\"purchase\" + 0.011*\"long\" + 0.008*\"don\\'t\" + 0.008*\"love\" + 0.008*\"product\" + 0.007*\"price\" + 0.007*\"lot\"'),\n",
       " (1,\n",
       "  '0.041*\"great\" + 0.030*\"long\" + 0.016*\"buy\" + 0.015*\"work\" + 0.013*\"deal\" + 0.013*\"use\" + 0.012*\"brand\" + 0.010*\"don\\'t\" + 0.009*\"i\\'m\" + 0.008*\"good\"'),\n",
       " (2,\n",
       "  '0.062*\"great\" + 0.042*\"work\" + 0.039*\"price\" + 0.023*\"good\" + 0.019*\"buy\" + 0.012*\"brand\" + 0.010*\"like\" + 0.009*\"product\" + 0.008*\"well\" + 0.008*\"can\\'t\"'),\n",
       " (3,\n",
       "  '0.070*\"good\" + 0.019*\"brand\" + 0.019*\"cheap\" + 0.019*\"work\" + 0.014*\"long\" + 0.013*\"buy\" + 0.010*\"price\" + 0.009*\"great.\" + 0.008*\"great\" + 0.008*\"like\"'),\n",
       " (4,\n",
       "  '0.036*\"good\" + 0.034*\"long\" + 0.030*\"great\" + 0.016*\"value\" + 0.016*\"last\" + 0.013*\"price\" + 0.010*\"quality\" + 0.009*\"works\" + 0.009*\"time\" + 0.008*\"brand\"')]"
      ]
     },
     "execution_count": 23,
     "metadata": {},
     "output_type": "execute_result"
    }
   ],
   "source": [
    "lda_model.print_topics()"
   ]
  },
  {
   "cell_type": "code",
   "execution_count": 25,
   "metadata": {},
   "outputs": [
    {
     "name": "stdout",
     "output_type": "stream",
     "text": [
      "------ Topic 0 ------\n",
      "buy work brand purchase long\n",
      "\n",
      "------ Topic 1 ------\n",
      "great long buy work deal\n",
      "\n",
      "------ Topic 2 ------\n",
      "great work price good buy\n",
      "\n",
      "------ Topic 3 ------\n",
      "good brand cheap work long\n",
      "\n",
      "------ Topic 4 ------\n",
      "good long great value last\n",
      "\n"
     ]
    }
   ],
   "source": [
    "words = [re.findall(r'\"([^\"]*)\"',t[1]) for t in lda_model.print_topics()]\n",
    "topics = [' '.join(t[0:5]) for t in words]\n",
    "\n",
    "for id, t in enumerate(topics): \n",
    "    print(f\"------ Topic {id} ------\")\n",
    "    print(t, end=\"\\n\\n\")"
   ]
  },
  {
   "cell_type": "code",
   "execution_count": 32,
   "metadata": {},
   "outputs": [],
   "source": [
    "# Now let's make the \"dope\" visualizations.\n",
    "distro = [lda_model[d] for d in corpus]\n",
    "num_topics = 4\n",
    "\n",
    "def update(doc):\n",
    "        d_dist = {k:0 for k in range(0,num_topics)}\n",
    "        for topic in doc:\n",
    "            d_dist[topic[0]] = topic[1]\n",
    "        return d_dist\n",
    "    \n",
    "new_distro = [update(d) for d in distro]"
   ]
  },
  {
   "cell_type": "code",
   "execution_count": 33,
   "metadata": {},
   "outputs": [
    {
     "data": {
      "text/html": [
       "\n",
       "<link rel=\"stylesheet\" type=\"text/css\" href=\"https://cdn.rawgit.com/bmabey/pyLDAvis/files/ldavis.v1.0.0.css\">\n",
       "\n",
       "\n",
       "<div id=\"ldavis_el123154717310481260666443\"></div>\n",
       "<script type=\"text/javascript\">\n",
       "\n",
       "var ldavis_el123154717310481260666443_data = {\"mdsDat\": {\"x\": [-0.059886724103336814, 0.0660138786612932, -0.06900544157080522, -0.01495765896895459, 0.07783594598180346], \"y\": [0.06755750988685731, -0.010112751562604874, 0.00435981306402625, -0.1058785033856353, 0.044073931997356625], \"topics\": [1, 2, 3, 4, 5], \"cluster\": [1, 1, 1, 1, 1], \"Freq\": [23.75899887084961, 22.379318237304688, 21.014619827270508, 16.465299606323242, 16.381759643554688]}, \"tinfo\": {\"Term\": [\"good\", \"great\", \"price\", \"cheap\", \"long\", \"work\", \"value\", \"deal\", \"last\", \"works\", \"great.\", \"purchase\", \"well.\", \"quality\", \"package\", \"nice\", \"okay\", \"product\", \"expected.\", \"fast\", \"long.\", \"price!\", \"i'm\", \"don't\", \"excellent\", \"product.\", \"can't\", \"fine\", \"order\", \"value!\", \"print\", \"place.\", \"nest\", \"complain\", \"loose\", \"pump\", \"retailer.\", \"etc,\", \"device)\", \"success\", \"monthly\", \"duty\", \"logo\", \"hesitate\", \"everyone.\", \"usual.\", \"stack\", \"contain\", \"joy.\", \"needed,\", \"version.\", \"circle\", \"beet\", \"shortest\", \"win!\", \"truck\", \"overpriced\", \"worse,\", \"below.\", \"hasn't\", \"throw\", \"frequently\", \"long.\", \"significant\", \"unlike\", \"entire\", \"two.\", \"expect\", \"purchase\", \"one.\", \"plastic.\", \"charge\", \"use,\", \"advertised.\", \"explode\", \"amazon.\", \"video\", \"good.\", \"cardboard\", \"leak\", \"handy\", \"pack\", \"again.\", \"receive\", \"new\", \"lot\", \"love\", \"save\", \"buy\", \"recommend\", \"bad\", \"get\", \"product\", \"come\", \"box\", \"order\", \"package\", \"don't\", \"brand\", \"2\", \"these.\", \"life\", \"work\", \"far\", \"like\", \"long\", \"definitely\", \"use\", \"price\", \"aa\", \"great\", \"remote\", \"cheap\", \"need\", \"good\", \"advertised!\", \"power!\", \"working\", \"many.\", \"minimal\", \"advertise\", \"problems.\", \"batterys\", \"always.\", \"fly\", \"unbeatable\", \"should.\", \"now!\", \"acdelco\", \"attach\", \"benefit\", \"mirror.\", \"fabulous\", \"perfect!\", \"gear\", \"advance\", \"unbelievable\", \"stash\", \"service,\", \"supplier\", \"deal..\", \"yup,\", \"material\", \"future,\", \"candy\", \"page\", \"mah\", \"well.\", \"issues.\", \"great,\", \"price\", \"ma\", \"buy,\", \"fine\", \"work\", \"price!\", \"great\", \"fraction\", \"worked\", \"can't\", \"awesome\", \"great!\", \"excellent.\", \"beat\", \"super\", \"product\", \"far.\", \"work.\", \"buy\", \"well\", \"quality\", \"like\", \"quality.\", \"ship\", \"good\", \"fine.\", \"far\", \"brand\", \"package\", \"alkaline\", \"excellent\", \"i've\", \"haven't\", \"time\", \"come\", \"use\", \"need\", \"long\", \"price,\", \"aaa\", \"value\", \"love\", \"okay\", \"kids'\", \"batteries..\", \"brush\", \"fine!\", \"value!!!\", \"ok\", \"staple\", \"value!!\", \"bargain,\", \"twin\", \"energenizer\", \"sanity.\", \"subscription.\", \"toddlers.\", \"know.\", \"grandkids\", \"suit\", \"properly\", \"keeps\", \"wonder\", \"flash.\", \"wanted.\", \"blood\", \"instead.\", \"pro\", \"pressure\", \"weird\", \"yay\", \"deadbolt\", \"deal\", \"product!\", \"buy!\", \"complaints.\", \"thank\", \"i'm\", \"time.\", \"bargain\", \"camera\", \"long\", \"excellent\", \"use\", \"great\", \"that.\", \"sure\", \"they're\", \"day\", \"batteries!\", \"don't\", \"play\", \"deal,\", \"toy\", \"didn't\", \"remote\", \"couple\", \"buy\", \"feel\", \"last\", \"brand\", \"need\", \"work\", \"time\", \"way\", \"xbox\", \"aa\", \"kid\", \"go\", \"like\", \"box\", \"good\", \"life\", \"well\", \"price\", \"love\", \"batt\", \"packaging!\", \"flashes,\", \"very,\", \"coppertops\", \"thanks!\", \"leg\", \"average.\", \"vs\", \"toothbrushes.\", \"calculation\", \"(mwh),\", \"extrapolate\", \"ninja\", \"toothbrush\", \"detectors,\", \"handheld\", \"mistake\", \"balance\", \"will\", \"expensive!\", \"goes.\", \"duracel.\", \"priced,\", \"buy!!!\", \"matt\", \"adv\", \"say!\", \"student\", \"ever!\", \"2a\", \"nice!\", \"value!\", \"energy\", \"option.\", \"value\", \"money!\", \"works\", \"we'll\", \"last\", \"arrived\", \"product.\", \"lots\", \"fast\", \"while.\", \"duracell.\", \"decent\", \"more,\", \"long\", \"deal.\", \"state\", \"pretty\", \"quality\", \"good\", \"great\", \"doesn't\", \"time\", \"cost\", \"high\", \"need\", \"haven't\", \"lot\", \"power\", \"price\", \"replace\", \"well\", \"brands.\", \"change\", \"brand\", \"compare\", \"use\", \"beat\", \"buy\", \"like\", \"product\", \"love\", \"go\", \"find\", \"store\", \"buck.\", \"good!\", \"exclusively\", \"job,\", \"aas.\", \"satisfied.\", \"for...\", \"seen.\", \"packaged,\", \"shall\", \"cell.\", \"anti-leakage\", \"coppertop\", \"pacific\", \"garage\", \"long-lasting.\", \"town\", \"door.\", \"8.5\", \"saw\", \"ultimate\", \"love.\", \"twist\", \"batteries),\", \"sweet\", \"soak\", \"reasonable.\", \"job!\", \"to.dead\", \"drug\", \"hair\", \"describe\", \"expected.\", \"cheap\", \"great.\", \"good\", \"reorder\", \"bang\", \"nice\", \"save.\", \"additional\", \"standard\", \"anymore.\", \"soon.\", \"buy.\", \"duracell,\", \"generic\", \"run\", \"used.\", \"brand\", \"i've\", \"value.\", \"cheaper.\", \"it's\", \"pay\", \"far,\", \"aa\", \"order\", \"work\", \"far\", \"package\", \"don't\", \"like\", \"buy\", \"energizer\", \"long\", \"well\", \"think\", \"them.\", \"amazonbasics\", \"price\", \"brands.\", \"use\", \"love\", \"great\", \"time\"], \"Freq\": [2538.0, 3047.0, 1517.0, 462.0, 1851.0, 1941.0, 416.0, 333.0, 478.0, 237.0, 206.0, 497.0, 211.0, 488.0, 369.0, 249.0, 82.0, 505.0, 94.0, 188.0, 134.0, 248.0, 356.0, 645.0, 235.0, 138.0, 338.0, 169.0, 360.0, 59.0, 10.955605506896973, 9.778204917907715, 7.129728317260742, 12.914168357849121, 21.868423461914062, 9.907622337341309, 7.108908176422119, 7.044733047485352, 7.009119510650635, 6.453652858734131, 7.469572067260742, 6.921966552734375, 5.940913200378418, 6.910048484802246, 5.411509037017822, 5.370042324066162, 5.8706135749816895, 5.9401469230651855, 5.263514518737793, 4.816298961639404, 5.847854137420654, 5.2414350509643555, 4.782101631164551, 4.77902364730835, 4.77309513092041, 4.839019298553467, 9.215085983276367, 4.810567855834961, 6.279221057891846, 6.1943230628967285, 38.3776741027832, 8.281249046325684, 108.90052795410156, 8.556264877319336, 16.246469497680664, 15.487378120422363, 6.2578911781311035, 113.90887451171875, 304.78094482421875, 11.365163803100586, 12.814757347106934, 89.53150177001953, 24.306358337402344, 31.41340446472168, 10.452648162841797, 56.4436149597168, 19.361621856689453, 92.81637573242188, 47.133602142333984, 79.9979476928711, 31.56064796447754, 148.61062622070312, 140.9791717529297, 48.33939743041992, 82.35467529296875, 162.1799774169922, 197.39939880371094, 76.38530731201172, 475.76239013671875, 89.5394058227539, 60.029075622558594, 124.60832977294922, 180.69285583496094, 143.4808807373047, 115.81490325927734, 133.86744689941406, 134.21783447265625, 198.37091064453125, 313.98028564453125, 99.4720458984375, 64.72908782958984, 100.77938079833984, 315.2417907714844, 123.3712387084961, 158.6139678955078, 256.3312072753906, 80.3653793334961, 137.51963806152344, 168.48619079589844, 101.0545425415039, 151.3828887939453, 94.140625, 98.0818099975586, 93.36216735839844, 92.90448760986328, 10.153115272521973, 8.736757278442383, 10.213852882385254, 10.115660667419434, 8.104142189025879, 29.878002166748047, 31.72446632385254, 8.077427864074707, 6.48996114730835, 5.940822601318359, 11.58275032043457, 18.84501838684082, 6.365894794464111, 16.35498046875, 7.220667362213135, 8.529641151428223, 4.429083824157715, 4.428398609161377, 20.132442474365234, 4.412721633911133, 4.398647785186768, 4.396545886993408, 4.933414936065674, 4.86344575881958, 4.389666557312012, 4.3866424560546875, 4.446263790130615, 4.375004768371582, 4.3485517501831055, 3.875627279281616, 4.333889007568359, 18.731464385986328, 151.4242401123047, 30.27979850769043, 49.4757194519043, 874.8112182617188, 16.966039657592773, 15.731756210327148, 108.68580627441406, 949.6420288085938, 149.0849151611328, 1393.547119140625, 54.66183090209961, 33.77634811401367, 177.62338256835938, 65.08843994140625, 71.56673431396484, 17.062091827392578, 104.87920379638672, 56.31727600097656, 206.34779357910156, 48.04010009765625, 76.23734283447266, 437.2102355957031, 190.58619689941406, 176.3410186767578, 229.985595703125, 53.660125732421875, 50.72165298461914, 521.2972412109375, 65.41463470458984, 141.01312255859375, 275.8591613769531, 121.34220123291016, 77.83297729492188, 84.31634521484375, 108.53157806396484, 71.50267791748047, 120.54964447021484, 101.72369384765625, 135.83448791503906, 102.79574584960938, 168.0192108154297, 79.65984344482422, 82.82329559326172, 81.16667938232422, 79.96539306640625, 79.92707824707031, 10.07409381866455, 8.617484092712402, 7.664150238037109, 10.09916877746582, 7.628548622131348, 35.3785400390625, 7.5804877281188965, 7.98593807220459, 6.621427536010742, 7.025921821594238, 6.52520751953125, 6.524198532104492, 6.523531913757324, 7.015187740325928, 7.004217147827148, 6.573286533355713, 7.413403511047363, 6.9966559410095215, 6.460753440856934, 5.892726421356201, 7.265775203704834, 5.457946300506592, 6.824473857879639, 4.958950519561768, 11.998689651489258, 6.798153400421143, 5.003542900085449, 5.903223037719727, 4.925483703613281, 283.1432189941406, 41.09939193725586, 27.0286808013916, 23.431528091430664, 77.78730773925781, 190.82252502441406, 102.35753631591797, 26.89522933959961, 49.92152786254883, 624.4583740234375, 109.806640625, 280.9556579589844, 864.5775146484375, 25.618757247924805, 75.50414276123047, 112.642578125, 91.5646743774414, 87.54761505126953, 214.90573120117188, 32.89310836791992, 29.71656036376953, 94.56291198730469, 67.3101806640625, 118.90396118164062, 43.33186340332031, 328.9404296875, 41.10230255126953, 133.1282501220703, 255.81883239746094, 130.78668212890625, 314.8152160644531, 135.7102813720703, 66.12017822265625, 58.90146255493164, 106.7381362915039, 65.33689880371094, 79.61335754394531, 125.62652587890625, 81.105224609375, 179.09324645996094, 79.64047241210938, 91.04865264892578, 96.540283203125, 78.37621307373047, 12.595561027526855, 8.345093727111816, 8.244296073913574, 7.38144588470459, 13.560510635375977, 11.00852108001709, 8.579974174499512, 5.362639904022217, 9.91873550415039, 5.260305404663086, 5.253884315490723, 5.250964164733887, 5.247564315795898, 5.244609355926514, 10.18089771270752, 5.685421466827393, 4.8239569664001465, 4.819487571716309, 4.337451934814453, 5.663488864898682, 4.792807102203369, 4.3208699226379395, 5.226868629455566, 4.288978576660156, 4.26247501373291, 17.034299850463867, 4.254781246185303, 4.318420886993408, 4.252505779266357, 3.7972512245178223, 4.247844219207764, 9.373491287231445, 46.981719970703125, 23.97536277770996, 8.099369049072266, 269.2965393066406, 15.096123695373535, 146.78579711914062, 19.30013656616211, 256.7579345703125, 23.702035903930664, 79.71199798583984, 20.550830841064453, 102.31423950195312, 24.228370666503906, 47.282508850097656, 49.66587829589844, 8.807222366333008, 567.8689575195312, 58.45266342163086, 13.256348609924316, 75.55484771728516, 166.395751953125, 591.3571166992188, 499.9005432128906, 33.90459442138672, 140.5816192626953, 64.51493835449219, 65.98969268798828, 112.97721099853516, 60.06658172607422, 95.06884002685547, 66.62577056884766, 207.85015869140625, 55.104801177978516, 100.23603820800781, 75.12089538574219, 46.312068939208984, 140.23553466796875, 53.031192779541016, 103.33753967285156, 55.86436462402344, 126.38806915283203, 90.4572525024414, 76.05323791503906, 73.32121276855469, 59.70797348022461, 58.31339645385742, 56.99977111816406, 12.78603458404541, 29.438852310180664, 8.657039642333984, 6.755849361419678, 6.189424991607666, 11.615527153015137, 5.171820163726807, 8.474114418029785, 5.695047378540039, 4.753417015075684, 4.754254341125488, 5.132463455200195, 7.334264278411865, 4.26718807220459, 4.2580413818359375, 5.217094421386719, 4.229481220245361, 11.655863761901855, 4.605580806732178, 3.7355527877807617, 5.011890411376953, 3.7327396869659424, 4.169906139373779, 3.716926336288452, 3.7125988006591797, 3.703814744949341, 4.984519004821777, 7.146987438201904, 3.2041585445404053, 7.054790019989014, 4.119273662567139, 45.757041931152344, 71.05473327636719, 309.370361328125, 141.05633544921875, 1153.8199462890625, 13.130192756652832, 19.436120986938477, 128.18409729003906, 8.941557884216309, 8.11104679107666, 26.270214080810547, 9.179518699645996, 8.55629825592041, 37.479217529296875, 24.95086097717285, 20.701587677001953, 104.10930633544922, 27.665224075317383, 314.8446044921875, 124.8840103149414, 68.0867919921875, 28.8900203704834, 92.14166259765625, 67.19222259521484, 36.33308029174805, 116.24860382080078, 105.80255889892578, 305.93505859375, 110.58751678466797, 98.4375, 133.3825225830078, 137.61473083496094, 214.07113647460938, 63.64533615112305, 235.2337646484375, 110.35321807861328, 72.99166870117188, 67.54647064208984, 66.65473175048828, 170.26547241210938, 69.87378692626953, 98.93121337890625, 79.94285583496094, 138.55857849121094, 76.46900177001953], \"Total\": [2538.0, 3047.0, 1517.0, 462.0, 1851.0, 1941.0, 416.0, 333.0, 478.0, 237.0, 206.0, 497.0, 211.0, 488.0, 369.0, 249.0, 82.0, 505.0, 94.0, 188.0, 134.0, 248.0, 356.0, 645.0, 235.0, 138.0, 338.0, 169.0, 360.0, 59.0, 11.918821334838867, 10.722326278686523, 7.832846164703369, 14.204769134521484, 24.121532440185547, 10.965347290039062, 7.893747329711914, 7.824160099029541, 7.822098731994629, 7.224860668182373, 8.406795501708984, 7.811924934387207, 6.712714672088623, 7.8121843338012695, 6.118865013122559, 6.114700794219971, 6.705265998840332, 6.789860725402832, 6.026853084564209, 5.519565582275391, 6.703044414520264, 6.024951934814453, 5.516719818115234, 5.516213417053223, 5.515016078948975, 5.599775314331055, 10.67616081237793, 5.5802435874938965, 7.28933572769165, 7.192841529846191, 45.37775421142578, 9.64393424987793, 134.7277069091797, 10.055163383483887, 19.65216636657715, 18.710203170776367, 7.288148403167725, 167.0048065185547, 497.6268310546875, 14.155587196350098, 16.221420288085938, 148.58811950683594, 33.845638275146484, 45.61818313598633, 12.981627464294434, 90.28681945800781, 26.435543060302734, 169.2661590576172, 76.66252136230469, 146.21524047851562, 47.9937629699707, 316.1544494628906, 301.92333984375, 84.42870330810547, 165.55728149414062, 388.7507629394531, 509.005126953125, 156.06065368652344, 1582.372314453125, 195.4879150390625, 118.35694885253906, 305.78448486328125, 505.70684814453125, 393.2314453125, 294.88165283203125, 360.8167419433594, 369.129638671875, 645.7377319335938, 1300.738525390625, 270.1132507324219, 143.13230895996094, 292.44329833984375, 1941.8992919921875, 438.47845458984375, 742.298095703125, 1851.9114990234375, 206.43307495117188, 756.5785522460938, 1517.9532470703125, 407.80718994140625, 3047.966796875, 350.02606201171875, 462.34576416015625, 489.9386291503906, 2538.47216796875, 10.975484848022461, 9.478341102600098, 11.137128829956055, 11.1109037399292, 8.9096097946167, 33.042510986328125, 35.171600341796875, 8.991266250610352, 7.274133682250977, 6.723205089569092, 13.15929126739502, 21.706539154052734, 7.342909336090088, 18.983444213867188, 8.381711959838867, 9.910467147827148, 5.147776126861572, 5.147517681121826, 23.416847229003906, 5.148529529571533, 5.148472785949707, 5.146062850952148, 5.776925563812256, 5.697825908660889, 5.146894454956055, 5.147289752960205, 5.225645065307617, 5.148196220397949, 5.14664363861084, 4.595588207244873, 5.148348808288574, 23.60359764099121, 211.72557067871094, 39.26490020751953, 65.90084838867188, 1517.9532470703125, 22.026124954223633, 20.55194091796875, 169.3184356689453, 1941.8992919921875, 248.53848266601562, 3047.966796875, 84.24474334716797, 49.49979782104492, 338.40093994140625, 110.61775207519531, 125.46825408935547, 23.184066772460938, 214.12318420410156, 99.69186401367188, 505.70684814453125, 86.78355407714844, 159.43531799316406, 1582.372314453125, 540.5021362304688, 488.661865234375, 742.298095703125, 104.75486755371094, 97.08346557617188, 2538.47216796875, 138.73892211914062, 438.47845458984375, 1300.738525390625, 369.129638671875, 200.17005920410156, 235.84796142578125, 393.910400390625, 185.99281311035156, 542.5645751953125, 393.2314453125, 756.5785522460938, 489.9386291503906, 1851.9114990234375, 247.32052612304688, 295.6760559082031, 416.0267028808594, 509.005126953125, 82.7840576171875, 10.976476669311523, 9.405818939208984, 8.383359909057617, 11.06062126159668, 8.384592056274414, 39.08390808105469, 8.380322456359863, 8.850302696228027, 7.3419294357299805, 7.830734729766846, 7.279785633087158, 7.279918670654297, 7.279914855957031, 7.8326239585876465, 7.835297584533691, 7.3614606857299805, 8.378227233886719, 7.908443450927734, 7.336338996887207, 6.725766181945801, 8.302987098693848, 6.25191068649292, 7.826144218444824, 5.70499324798584, 13.804400444030762, 7.823060035705566, 5.764082908630371, 6.802446365356445, 5.7012200355529785, 333.3998107910156, 48.90137481689453, 33.759944915771484, 29.574827194213867, 118.50749969482422, 356.60528564453125, 190.6785125732422, 39.53255081176758, 83.2667465209961, 1851.9114990234375, 235.84796142578125, 756.5785522460938, 3047.966796875, 39.43812942504883, 156.34585571289062, 264.86688232421875, 210.5218505859375, 200.5420379638672, 645.7377319335938, 57.50274658203125, 50.938812255859375, 244.04649353027344, 156.61700439453125, 350.02606201171875, 87.92558288574219, 1582.372314453125, 82.34675598144531, 478.5732421875, 1300.738525390625, 489.9386291503906, 1941.8992919921875, 542.5645751953125, 173.93035888671875, 144.92994689941406, 407.80718994140625, 186.43357849121094, 278.31744384765625, 742.298095703125, 294.88165283203125, 2538.47216796875, 292.44329833984375, 540.5021362304688, 1517.9532470703125, 509.005126953125, 13.476367950439453, 9.227584838867188, 9.155404090881348, 8.225922584533691, 15.351241111755371, 12.505021095275879, 9.779207229614258, 6.1400604248046875, 11.395797729492188, 6.065608024597168, 6.06556510925293, 6.065335273742676, 6.065476894378662, 6.065639019012451, 11.80961799621582, 6.600066184997559, 5.600715637207031, 5.602410316467285, 5.059998989105225, 6.606940269470215, 5.601259231567383, 5.060015678405762, 6.139570236206055, 5.059490203857422, 5.0595855712890625, 20.231151580810547, 5.058338642120361, 5.136311054229736, 5.061379432678223, 4.519750118255615, 5.061186790466309, 11.327427864074707, 59.40505599975586, 29.770780563354492, 9.832093238830566, 416.0267028808594, 19.520845413208008, 237.5938262939453, 26.572803497314453, 478.5732421875, 33.41999816894531, 138.1653289794922, 29.191083908081055, 188.09414672851562, 36.51591491699219, 80.59982299804688, 88.28524780273438, 11.283729553222656, 1851.9114990234375, 114.47232818603516, 19.0133113861084, 168.91387939453125, 488.661865234375, 2538.47216796875, 3047.966796875, 69.9197006225586, 542.5645751953125, 179.7873077392578, 191.1393280029297, 489.9386291503906, 185.99281311035156, 388.7507629394531, 226.8278045654297, 1517.9532470703125, 183.85789489746094, 540.5021362304688, 322.79278564453125, 138.85830688476562, 1300.738525390625, 182.22361755371094, 756.5785522460938, 214.12318420410156, 1582.372314453125, 742.298095703125, 505.70684814453125, 509.005126953125, 278.31744384765625, 275.41802978515625, 277.67132568359375, 13.80459976196289, 32.551700592041016, 9.62775707244873, 7.5740814208984375, 7.046609878540039, 13.394712448120117, 5.9794464111328125, 9.808197021484375, 6.591678142547607, 5.5236496925354, 5.5246357917785645, 5.981288909912109, 8.575433731079102, 4.99238920211792, 4.992570877075195, 6.124454498291016, 4.993263244628906, 13.763954162597656, 5.4509735107421875, 4.460860729217529, 5.986175060272217, 4.459791660308838, 4.998259544372559, 4.463094711303711, 4.461381912231445, 4.462140083312988, 6.066145896911621, 8.72646427154541, 3.929394006729126, 8.659538269042969, 5.074376583099365, 59.902469635009766, 94.98811340332031, 462.34576416015625, 206.8973388671875, 2538.47216796875, 18.075927734375, 28.578582763671875, 249.099853515625, 11.897533416748047, 10.7514066696167, 43.7590217590332, 12.466484069824219, 11.490265846252441, 71.50083923339844, 45.17871856689453, 35.79484558105469, 284.7872619628906, 52.84751892089844, 1300.738525390625, 393.910400390625, 176.24481201171875, 57.11585998535156, 268.4390563964844, 176.06259155273438, 80.20246887207031, 407.80718994140625, 360.8167419433594, 1941.8992919921875, 438.47845458984375, 369.129638671875, 645.7377319335938, 742.298095703125, 1582.372314453125, 217.1896209716797, 1851.9114990234375, 540.5021362304688, 277.0783996582031, 254.31732177734375, 252.33270263671875, 1517.9532470703125, 322.79278564453125, 756.5785522460938, 509.005126953125, 3047.966796875, 542.5645751953125], \"Category\": [\"Default\", \"Default\", \"Default\", \"Default\", \"Default\", \"Default\", \"Default\", \"Default\", \"Default\", \"Default\", \"Default\", \"Default\", \"Default\", \"Default\", \"Default\", \"Default\", \"Default\", \"Default\", \"Default\", \"Default\", \"Default\", \"Default\", \"Default\", \"Default\", \"Default\", \"Default\", \"Default\", \"Default\", \"Default\", \"Default\", \"Topic1\", \"Topic1\", \"Topic1\", \"Topic1\", \"Topic1\", \"Topic1\", \"Topic1\", \"Topic1\", \"Topic1\", \"Topic1\", \"Topic1\", \"Topic1\", \"Topic1\", \"Topic1\", \"Topic1\", \"Topic1\", \"Topic1\", \"Topic1\", \"Topic1\", \"Topic1\", \"Topic1\", \"Topic1\", \"Topic1\", \"Topic1\", \"Topic1\", \"Topic1\", \"Topic1\", \"Topic1\", \"Topic1\", \"Topic1\", \"Topic1\", \"Topic1\", \"Topic1\", \"Topic1\", \"Topic1\", \"Topic1\", \"Topic1\", \"Topic1\", \"Topic1\", \"Topic1\", \"Topic1\", \"Topic1\", \"Topic1\", \"Topic1\", \"Topic1\", \"Topic1\", \"Topic1\", \"Topic1\", \"Topic1\", \"Topic1\", \"Topic1\", \"Topic1\", \"Topic1\", \"Topic1\", \"Topic1\", \"Topic1\", \"Topic1\", \"Topic1\", \"Topic1\", \"Topic1\", \"Topic1\", \"Topic1\", \"Topic1\", \"Topic1\", \"Topic1\", \"Topic1\", \"Topic1\", \"Topic1\", \"Topic1\", \"Topic1\", \"Topic1\", \"Topic1\", \"Topic1\", \"Topic1\", \"Topic1\", \"Topic1\", \"Topic1\", \"Topic1\", \"Topic1\", \"Topic1\", \"Topic1\", \"Topic1\", \"Topic1\", \"Topic1\", \"Topic1\", \"Topic2\", \"Topic2\", \"Topic2\", \"Topic2\", \"Topic2\", \"Topic2\", \"Topic2\", \"Topic2\", \"Topic2\", \"Topic2\", \"Topic2\", \"Topic2\", \"Topic2\", \"Topic2\", \"Topic2\", \"Topic2\", \"Topic2\", \"Topic2\", \"Topic2\", \"Topic2\", \"Topic2\", \"Topic2\", \"Topic2\", \"Topic2\", \"Topic2\", \"Topic2\", \"Topic2\", \"Topic2\", \"Topic2\", \"Topic2\", \"Topic2\", \"Topic2\", \"Topic2\", \"Topic2\", \"Topic2\", \"Topic2\", \"Topic2\", \"Topic2\", \"Topic2\", \"Topic2\", \"Topic2\", \"Topic2\", \"Topic2\", \"Topic2\", \"Topic2\", \"Topic2\", \"Topic2\", \"Topic2\", \"Topic2\", \"Topic2\", \"Topic2\", \"Topic2\", \"Topic2\", \"Topic2\", \"Topic2\", \"Topic2\", \"Topic2\", \"Topic2\", \"Topic2\", \"Topic2\", \"Topic2\", \"Topic2\", \"Topic2\", \"Topic2\", \"Topic2\", \"Topic2\", \"Topic2\", \"Topic2\", \"Topic2\", \"Topic2\", \"Topic2\", \"Topic2\", \"Topic2\", \"Topic2\", \"Topic2\", \"Topic2\", \"Topic2\", \"Topic3\", \"Topic3\", \"Topic3\", \"Topic3\", \"Topic3\", \"Topic3\", \"Topic3\", \"Topic3\", \"Topic3\", \"Topic3\", \"Topic3\", \"Topic3\", \"Topic3\", \"Topic3\", \"Topic3\", \"Topic3\", \"Topic3\", \"Topic3\", \"Topic3\", \"Topic3\", \"Topic3\", \"Topic3\", \"Topic3\", \"Topic3\", \"Topic3\", \"Topic3\", \"Topic3\", \"Topic3\", \"Topic3\", \"Topic3\", \"Topic3\", \"Topic3\", \"Topic3\", \"Topic3\", \"Topic3\", \"Topic3\", \"Topic3\", \"Topic3\", \"Topic3\", \"Topic3\", \"Topic3\", \"Topic3\", \"Topic3\", \"Topic3\", \"Topic3\", \"Topic3\", \"Topic3\", \"Topic3\", \"Topic3\", \"Topic3\", \"Topic3\", \"Topic3\", \"Topic3\", \"Topic3\", \"Topic3\", \"Topic3\", \"Topic3\", \"Topic3\", \"Topic3\", \"Topic3\", \"Topic3\", \"Topic3\", \"Topic3\", \"Topic3\", \"Topic3\", \"Topic3\", \"Topic3\", \"Topic3\", \"Topic3\", \"Topic3\", \"Topic3\", \"Topic3\", \"Topic3\", \"Topic3\", \"Topic4\", \"Topic4\", \"Topic4\", \"Topic4\", \"Topic4\", \"Topic4\", \"Topic4\", \"Topic4\", \"Topic4\", \"Topic4\", \"Topic4\", \"Topic4\", \"Topic4\", \"Topic4\", \"Topic4\", \"Topic4\", \"Topic4\", \"Topic4\", \"Topic4\", \"Topic4\", \"Topic4\", \"Topic4\", \"Topic4\", \"Topic4\", \"Topic4\", \"Topic4\", \"Topic4\", \"Topic4\", \"Topic4\", \"Topic4\", \"Topic4\", \"Topic4\", \"Topic4\", \"Topic4\", \"Topic4\", \"Topic4\", \"Topic4\", \"Topic4\", \"Topic4\", \"Topic4\", \"Topic4\", \"Topic4\", \"Topic4\", \"Topic4\", \"Topic4\", \"Topic4\", \"Topic4\", \"Topic4\", \"Topic4\", \"Topic4\", \"Topic4\", \"Topic4\", \"Topic4\", \"Topic4\", \"Topic4\", \"Topic4\", \"Topic4\", \"Topic4\", \"Topic4\", \"Topic4\", \"Topic4\", \"Topic4\", \"Topic4\", \"Topic4\", \"Topic4\", \"Topic4\", \"Topic4\", \"Topic4\", \"Topic4\", \"Topic4\", \"Topic4\", \"Topic4\", \"Topic4\", \"Topic4\", \"Topic4\", \"Topic4\", \"Topic4\", \"Topic4\", \"Topic4\", \"Topic5\", \"Topic5\", \"Topic5\", \"Topic5\", \"Topic5\", \"Topic5\", \"Topic5\", \"Topic5\", \"Topic5\", \"Topic5\", \"Topic5\", \"Topic5\", \"Topic5\", \"Topic5\", \"Topic5\", \"Topic5\", \"Topic5\", \"Topic5\", \"Topic5\", \"Topic5\", \"Topic5\", \"Topic5\", \"Topic5\", \"Topic5\", \"Topic5\", \"Topic5\", \"Topic5\", \"Topic5\", \"Topic5\", \"Topic5\", \"Topic5\", \"Topic5\", \"Topic5\", \"Topic5\", \"Topic5\", \"Topic5\", \"Topic5\", \"Topic5\", \"Topic5\", \"Topic5\", \"Topic5\", \"Topic5\", \"Topic5\", \"Topic5\", \"Topic5\", \"Topic5\", \"Topic5\", \"Topic5\", \"Topic5\", \"Topic5\", \"Topic5\", \"Topic5\", \"Topic5\", \"Topic5\", \"Topic5\", \"Topic5\", \"Topic5\", \"Topic5\", \"Topic5\", \"Topic5\", \"Topic5\", \"Topic5\", \"Topic5\", \"Topic5\", \"Topic5\", \"Topic5\", \"Topic5\", \"Topic5\", \"Topic5\", \"Topic5\", \"Topic5\", \"Topic5\", \"Topic5\", \"Topic5\", \"Topic5\", \"Topic5\"], \"logprob\": [30.0, 29.0, 28.0, 27.0, 26.0, 25.0, 24.0, 23.0, 22.0, 21.0, 20.0, 19.0, 18.0, 17.0, 16.0, 15.0, 14.0, 13.0, 12.0, 11.0, 10.0, 9.0, 8.0, 7.0, 6.0, 5.0, 4.0, 3.0, 2.0, 1.0, -7.686200141906738, -7.799900054931641, -8.115799903869629, -7.521699905395508, -6.994999885559082, -7.786799907684326, -8.11870002746582, -8.127799987792969, -8.13290023803711, -8.215399742126465, -8.069199562072754, -8.145400047302246, -8.298199653625488, -8.147100448608398, -8.391500473022461, -8.399200439453125, -8.310099601745605, -8.298299789428711, -8.419300079345703, -8.508099555969238, -8.314000129699707, -8.423500061035156, -8.515199661254883, -8.515800476074219, -8.51710033416748, -8.503399848937988, -7.8592000007629395, -8.509200096130371, -8.242799758911133, -8.256400108337402, -6.432600021362305, -7.966100215911865, -5.389599800109863, -7.9334001541137695, -7.292200088500977, -7.340000152587891, -8.246199607849121, -5.344699859619141, -4.360499858856201, -7.649499893188477, -7.5295000076293945, -5.5854997634887695, -6.8892998695373535, -6.632800102233887, -7.7332000732421875, -6.046800136566162, -7.116799831390381, -5.5493998527526855, -6.227099895477295, -5.6981000900268555, -6.628200054168701, -5.078700065612793, -5.131499767303467, -6.2017998695373535, -5.669000148773193, -4.991399765014648, -4.7947998046875, -5.74429988861084, -3.91510009765625, -5.585400104522705, -5.985199928283691, -5.254899978637695, -4.883299827575684, -5.113900184631348, -5.328100204467773, -5.183199882507324, -5.180600166320801, -4.789899826049805, -4.330699920654297, -5.480199813842773, -5.909900188446045, -5.467100143432617, -4.326700210571289, -5.264900207519531, -5.013599872589111, -4.533599853515625, -5.69350004196167, -5.156300067901611, -4.953199863433838, -5.464399814605713, -5.060299873352051, -5.535299777984619, -5.49429988861084, -5.543600082397461, -5.548500061035156, -7.702499866485596, -7.852700233459473, -7.696499824523926, -7.706200122833252, -7.9278998374938965, -6.6230998039245605, -6.563199996948242, -7.93120002746582, -8.149999618530273, -8.23840045928955, -7.570700168609619, -7.084000110626221, -8.169300079345703, -7.2256999015808105, -8.043299674987793, -7.876699924468994, -8.531999588012695, -8.53219985961914, -7.017899990081787, -8.535699844360352, -8.538900375366211, -8.539400100708008, -8.424200057983398, -8.43850040435791, -8.541000366210938, -8.54170036315918, -8.528200149536133, -8.544300079345703, -8.550399780273438, -8.665499687194824, -8.553799629211426, -7.090000152587891, -5.000199794769287, -6.609799861907959, -6.118800163269043, -3.2462000846862793, -7.189000129699707, -7.264599800109863, -5.3317999839782715, -3.1642000675201416, -5.015699863433838, -2.780600070953369, -6.019100189208984, -6.500500202178955, -4.84060001373291, -5.8445000648498535, -5.749599933624268, -7.1834001541137695, -5.367400169372559, -5.989200115203857, -4.690700054168701, -6.148200035095215, -5.686399936676025, -3.9398000240325928, -4.770100116729736, -4.847799777984619, -4.582200050354004, -6.037600040435791, -6.093900203704834, -3.7639000415802, -5.8394999504089355, -5.071400165557861, -4.400300025939941, -5.22160005569458, -5.6656999588012695, -5.585700035095215, -5.333199977874756, -5.750500202178955, -5.2281999588012695, -5.3979997634887695, -5.108799934387207, -5.387499809265137, -4.896200180053711, -5.642499923706055, -5.603499889373779, -5.623700141906738, -5.638599872589111, -5.576200008392334, -7.64739990234375, -7.803500175476074, -7.92080020904541, -7.644899845123291, -7.9253997802734375, -6.391200065612793, -7.931700229644775, -7.8796000480651855, -8.067000389099121, -8.007699966430664, -8.081600189208984, -8.08180046081543, -8.081899642944336, -8.009200096130371, -8.0108003616333, -8.074299812316895, -7.953999996185303, -8.011899948120117, -8.09160041809082, -8.183600425720215, -7.974100112915039, -8.260199546813965, -8.036800384521484, -8.356100082397461, -7.472499847412109, -8.04069995880127, -8.347200393676758, -8.18179988861084, -8.362899780273438, -4.311399936676025, -6.241300106048584, -6.660399913787842, -6.803199768066406, -5.603300094604492, -4.705999851226807, -5.328800201416016, -6.66540002822876, -6.046899795532227, -3.520400047302246, -5.258600234985352, -4.3190999031066895, -3.1951000690460205, -6.714000225067139, -5.6331000328063965, -5.233099937438965, -5.440299987792969, -5.485099792480469, -4.587100028991699, -6.464099884033203, -6.5655999183654785, -5.408100128173828, -5.748000144958496, -5.178999900817871, -6.188399791717529, -4.161399841308594, -6.241300106048584, -5.065999984741211, -4.412899971008301, -5.083799839019775, -4.2052998542785645, -5.046800136566162, -5.7657999992370605, -5.881499767303467, -5.286900043487549, -5.7778000831604, -5.580100059509277, -5.124000072479248, -5.561600208282471, -4.769400119781494, -5.579800128936768, -5.445899963378906, -5.387400150299072, -5.595799922943115, -7.179999828338623, -7.591700077056885, -7.603799819946289, -7.714399814605713, -7.106200218200684, -7.314700126647949, -7.563899993896484, -8.033900260925293, -7.418900012969971, -8.053199768066406, -8.054400444030762, -8.054900169372559, -8.0556001663208, -8.05620002746582, -7.3927998542785645, -7.975500106811523, -8.139800071716309, -8.140700340270996, -8.246100425720215, -7.979300022125244, -8.146200180053711, -8.249899864196777, -8.059499740600586, -8.25730037689209, -8.263500213623047, -6.8780999183654785, -8.265299797058105, -8.250499725341797, -8.265800476074219, -8.37909984588623, -8.266900062561035, -7.475500106811523, -5.86359977722168, -6.536300182342529, -7.621600151062012, -4.117499828338623, -6.998899936676025, -4.724400043487549, -6.753200054168701, -4.165200233459473, -6.547800064086914, -5.33489990234375, -6.690499782562256, -5.085299968719482, -6.5258002281188965, -5.8572001457214355, -5.808000087738037, -7.537799835205078, -3.371500015258789, -5.645100116729736, -7.128900051116943, -5.388500213623047, -4.598999977111816, -3.330899953842163, -3.4988999366760254, -6.189799785614014, -4.767600059509277, -5.546500205993652, -5.523900032043457, -4.986199855804443, -5.6178998947143555, -5.15880012512207, -5.5142998695373535, -4.376500129699707, -5.704100131988525, -5.105800151824951, -5.3942999839782715, -5.877999782562256, -4.769999980926514, -5.742499828338623, -5.075399875640869, -5.690400123596191, -4.874000072479248, -5.208499908447266, -5.381899833679199, -5.418499946594238, -5.623899936676025, -5.647500038146973, -5.670300006866455, -7.159900188446045, -6.326000213623047, -7.549900054931641, -7.797900199890137, -7.88539981842041, -7.255899906158447, -8.0649995803833, -7.571300029754639, -7.968699932098389, -8.149399757385254, -8.149200439453125, -8.072699546813965, -7.715700149536133, -8.25730037689209, -8.259499549865723, -8.056300163269043, -8.266200065612793, -7.252500057220459, -8.180999755859375, -8.390399932861328, -8.096500396728516, -8.39109992980957, -8.280400276184082, -8.395400047302246, -8.396499633789062, -8.398900032043457, -8.101900100708008, -7.741600036621094, -8.543800354003906, -7.7546000480651855, -8.29259967803955, -5.884900093078613, -5.444799900054932, -3.9737000465393066, -4.759099960327148, -2.657399892807007, -7.133399963378906, -6.741099834442139, -4.854800224304199, -7.517600059509277, -7.614999771118164, -6.439799785614014, -7.491300106048584, -7.561600208282471, -6.084499835968018, -6.491399765014648, -6.678100109100342, -5.06279993057251, -6.3881001472473145, -3.956199884414673, -4.880899906158447, -5.487500190734863, -6.344799995422363, -5.184899806976318, -5.500699996948242, -6.115499973297119, -4.952499866485596, -5.0467000007629395, -3.9848999977111816, -5.002500057220459, -5.118800163269043, -4.815000057220459, -4.78380012512207, -4.3420000076293945, -5.554900169372559, -4.247700214385986, -5.0046000480651855, -5.417900085449219, -5.495500087738037, -5.508699893951416, -4.570899963378906, -5.461599826812744, -5.113800048828125, -5.327000141143799, -4.7769999504089355, -5.371399879455566], \"loglift\": [30.0, 29.0, 28.0, 27.0, 26.0, 25.0, 24.0, 23.0, 22.0, 21.0, 20.0, 19.0, 18.0, 17.0, 16.0, 15.0, 14.0, 13.0, 12.0, 11.0, 10.0, 9.0, 8.0, 7.0, 6.0, 5.0, 4.0, 3.0, 2.0, 1.0, 1.3529000282287598, 1.3450000286102295, 1.3431999683380127, 1.3420000076293945, 1.3391000032424927, 1.335800051689148, 1.3324999809265137, 1.3322999477386475, 1.3274999856948853, 1.3243000507354736, 1.319000005722046, 1.3163000345230103, 1.3150999546051025, 1.3144999742507935, 1.3143999576568604, 1.3072999715805054, 1.3042999505996704, 1.3035000562667847, 1.301800012588501, 1.3008999824523926, 1.3006999492645264, 1.2978999614715576, 1.2942999601364136, 1.2937999963760376, 1.2927000522613525, 1.291200041770935, 1.2899999618530273, 1.2888000011444092, 1.2879999876022339, 1.2877999544143677, 1.269700050354004, 1.2848999500274658, 1.2244000434875488, 1.2757999897003174, 1.246899962425232, 1.2482000589370728, 1.2848000526428223, 1.0546000003814697, 0.9470000267028809, 1.2177000045776367, 1.2015000581741333, 0.9305999875068665, 1.1060999631881714, 1.0641000270843506, 1.2204999923706055, 0.9674999713897705, 1.1258000135421753, 0.8363999724388123, 0.9508000016212463, 0.8341000080108643, 1.0180000066757202, 0.6822999715805054, 0.675599992275238, 0.8794999718666077, 0.7389000058174133, 0.5630000233650208, 0.49000000953674316, 0.7228000164031982, 0.2354000061750412, 0.6564000248908997, 0.7583000063896179, 0.5394999980926514, 0.4081000089645386, 0.42899999022483826, 0.5026000142097473, 0.4456999897956848, 0.4255000054836273, 0.25699999928474426, 0.01590000092983246, 0.4381999969482422, 0.6437000036239624, 0.3718999922275543, -0.38089999556541443, 0.16910000145435333, -0.10610000044107437, -0.5403000116348267, 0.49380001425743103, -0.2678000032901764, -0.7610999941825867, 0.042100001126527786, -1.5651999711990356, 0.12399999797344208, -0.11330000311136246, -0.22059999406337738, -1.8704999685287476, 1.419100046157837, 1.4155999422073364, 1.4105000495910645, 1.4032000303268433, 1.4023000001907349, 1.396399974822998, 1.3939000368118286, 1.3898999691009521, 1.3830000162124634, 1.3732999563217163, 1.3694000244140625, 1.3557000160217285, 1.3543000221252441, 1.3480000495910645, 1.3479000329971313, 1.347000002861023, 1.3466999530792236, 1.34660005569458, 1.345900058746338, 1.3428000211715698, 1.3395999670028687, 1.3395999670028687, 1.3392000198364258, 1.3387000560760498, 1.3379000425338745, 1.3371000289916992, 1.3355000019073486, 1.3343000411987305, 1.3285000324249268, 1.3265999555587769, 1.3248000144958496, 1.2657999992370605, 1.1618000268936157, 1.2372000217437744, 1.2103999853134155, 0.945900022983551, 1.2359999418258667, 1.2297999858856201, 1.0536999702453613, 0.7817000150680542, 0.9860000014305115, 0.7143999934196472, 1.0644999742507935, 1.114799976348877, 0.8525000214576721, 0.96670001745224, 0.9355999827384949, 1.1904000043869019, 0.78329998254776, 0.9259999990463257, 0.600600004196167, 0.9057000279426575, 0.7591999769210815, 0.21080000698566437, 0.4546000063419342, 0.47780001163482666, 0.325300008058548, 0.8281000256538391, 0.8478000164031982, -0.0860000029206276, 0.745199978351593, 0.3625999987125397, -0.05380000174045563, 0.38449999690055847, 0.5523999929428101, 0.4684000015258789, 0.20800000429153442, 0.541100025177002, -0.007199999876320362, 0.14489999413490295, -0.22030000388622284, -0.06449999660253525, -0.902899980545044, 0.36410000920295715, 0.22450000047683716, -0.1371999979019165, -0.3537999987602234, 1.5247999429702759, 1.4742000102996826, 1.4723999500274658, 1.4702999591827393, 1.468999981880188, 1.465499997138977, 1.4602999687194824, 1.4595999717712402, 1.457200050354004, 1.4566999673843384, 1.4515000581741333, 1.4505000114440918, 1.4503999948501587, 1.4501999616622925, 1.4496999979019165, 1.4478000402450562, 1.4466999769210815, 1.437600016593933, 1.4375, 1.4328999519348145, 1.4277000427246094, 1.4264999628067017, 1.4241000413894653, 1.4229999780654907, 1.419800043106079, 1.419800043106079, 1.4194999933242798, 1.4184999465942383, 1.4182000160217285, 1.413699984550476, 1.3966000080108643, 1.3861000537872314, 1.3375999927520752, 1.3271000385284424, 1.1390000581741333, 0.9347000122070312, 0.9377999901771545, 1.1748000383377075, 1.0484000444412231, 0.47290000319480896, 0.7954999804496765, 0.5692999958992004, 0.30000001192092896, 1.128499984741211, 0.832099974155426, 0.7049000263214111, 0.727400004863739, 0.7311000227928162, 0.45980000495910645, 1.0013999938964844, 1.0210000276565552, 0.6118999719619751, 0.715499997138977, 0.48030000925064087, 0.8522999882698059, -0.010900000110268593, 0.8651000261306763, 0.28049999475479126, -0.06629999727010727, 0.23919999599456787, -0.25949999690055847, 0.17419999837875366, 0.5928000211715698, 0.659600019454956, 0.21950000524520874, 0.5113999843597412, 0.3084000051021576, -0.21649999916553497, 0.26910001039505005, -1.0915000438690186, 0.25920000672340393, -0.22120000422000885, -1.195199966430664, -0.3109999895095825, 1.736299991607666, 1.7034000158309937, 1.6991000175476074, 1.6956000328063965, 1.679900050163269, 1.6764999628067017, 1.6730999946594238, 1.6684999465942383, 1.6650999784469604, 1.6614999771118164, 1.6603000164031982, 1.6597000360488892, 1.65910005569458, 1.6584999561309814, 1.655500054359436, 1.6547000408172607, 1.6546000242233276, 1.65339994430542, 1.6497999429702759, 1.6497999429702759, 1.6480000019073486, 1.6460000276565552, 1.6430000066757202, 1.638700008392334, 1.6325000524520874, 1.6318999528884888, 1.6309000253677368, 1.6304999589920044, 1.6297999620437622, 1.629699945449829, 1.6287000179290771, 1.6145999431610107, 1.5693000555038452, 1.587399959564209, 1.6100000143051147, 1.36899995803833, 1.5469000339508057, 1.3222999572753906, 1.4840999841690063, 1.1812000274658203, 1.4602999687194824, 1.2539000511169434, 1.4529999494552612, 1.1950000524520874, 1.3937000036239624, 1.2705999612808228, 1.228700041770935, 1.5561000108718872, 0.6218000054359436, 1.1318000555038452, 1.4433000087738037, 0.9994000196456909, 0.7265999913215637, 0.34700000286102295, -0.0038999998942017555, 1.0801000595092773, 0.45339998602867126, 0.7789999842643738, 0.7404000163078308, 0.3368000090122223, 0.6736999750137329, 0.39559999108314514, 0.5788000226020813, -0.18440000712871552, 0.5989999771118164, 0.11890000104904175, 0.34599998593330383, 0.7059000134468079, -0.42340001463890076, 0.569599986076355, -0.18690000474452972, 0.4602999985218048, -0.7233999967575073, -0.3009999990463257, -0.09059999883174896, -0.13369999825954437, 0.26460000872612, 0.2515000104904175, 0.22050000727176666, 1.7323999404907227, 1.7085000276565552, 1.7027000188827515, 1.694700002670288, 1.6792999505996704, 1.6664999723434448, 1.6639000177383423, 1.6627999544143677, 1.6627999544143677, 1.6588000059127808, 1.6588000059127808, 1.656000018119812, 1.6526999473571777, 1.6519999504089355, 1.649899959564209, 1.6486999988555908, 1.6430000066757202, 1.642799973487854, 1.6404999494552612, 1.631600022315979, 1.6313999891281128, 1.63100004196167, 1.6277999877929688, 1.626099944114685, 1.6253000497817993, 1.6226999759674072, 1.6125999689102173, 1.6093000173568726, 1.6050000190734863, 1.6039999723434448, 1.6004999876022339, 1.5396000146865845, 1.5187000036239624, 1.4071999788284302, 1.4258999824523926, 1.0204999446868896, 1.489300012588501, 1.4234999418258667, 1.1446000337600708, 1.5233999490737915, 1.5271999835968018, 1.298699975013733, 1.5029000043869019, 1.51419997215271, 1.163100004196167, 1.2152999639511108, 1.2613999843597412, 0.8026999831199646, 1.1618000268936157, 0.3903999924659729, 0.6603000164031982, 0.8579000234603882, 1.1274000406265259, 0.7397000193595886, 0.8457000255584717, 1.017199993133545, 0.5539000034332275, 0.5821999907493591, -0.039000000804662704, 0.43149998784065247, 0.48730000853538513, 0.23180000483989716, 0.12370000034570694, -0.19140000641345978, 0.58160001039505, -0.25440001487731934, 0.22020000219345093, 0.4749999940395355, 0.4832000136375427, 0.47780001163482666, -0.37880000472068787, 0.27869999408721924, -0.22540000081062317, -0.042100001126527786, -1.2819000482559204, -0.15039999783039093]}, \"token.table\": {\"Topic\": [4, 1, 2, 3, 4, 5, 4, 5, 1, 2, 3, 4, 5, 1, 2, 3, 4, 5, 5, 1, 2, 5, 2, 4, 5, 4, 2, 2, 3, 5, 2, 1, 2, 3, 4, 1, 2, 3, 4, 5, 1, 2, 3, 4, 5, 2, 1, 2, 3, 4, 5, 1, 2, 3, 4, 5, 5, 1, 5, 2, 4, 5, 2, 4, 1, 2, 3, 4, 5, 1, 3, 4, 5, 4, 2, 3, 4, 5, 1, 2, 3, 4, 5, 3, 4, 1, 2, 3, 4, 5, 5, 3, 2, 1, 2, 3, 4, 5, 1, 1, 1, 2, 3, 1, 2, 3, 4, 5, 1, 2, 3, 4, 5, 1, 2, 3, 4, 5, 3, 5, 1, 2, 3, 4, 5, 1, 2, 3, 5, 4, 2, 5, 1, 2, 3, 4, 5, 4, 1, 2, 3, 4, 5, 1, 2, 3, 4, 5, 2, 1, 2, 3, 4, 5, 5, 1, 2, 3, 4, 5, 1, 2, 3, 4, 5, 1, 2, 3, 4, 5, 1, 2, 3, 4, 5, 1, 1, 2, 3, 4, 5, 1, 2, 3, 4, 5, 1, 2, 1, 2, 3, 5, 1, 2, 5, 3, 4, 1, 2, 3, 4, 5, 1, 2, 3, 4, 5, 1, 2, 3, 4, 5, 3, 1, 2, 3, 4, 5, 1, 2, 3, 5, 1, 2, 3, 4, 5, 2, 1, 2, 3, 4, 5, 1, 2, 3, 4, 5, 1, 2, 3, 4, 5, 4, 1, 1, 2, 3, 4, 5, 1, 2, 3, 4, 5, 1, 2, 3, 4, 5, 4, 5, 4, 5, 4, 1, 2, 3, 4, 5, 1, 2, 3, 4, 5, 1, 3, 1, 2, 3, 4, 5, 1, 4, 5, 1, 2, 4, 1, 4, 1, 1, 2, 3, 4, 5, 1, 2, 5, 5, 1, 2, 3, 4, 5, 1, 2, 3, 5, 4, 1, 3, 4, 2, 1, 2, 3, 4, 5, 1, 2, 3, 4, 5, 1, 2, 3, 4, 5, 1, 2, 3, 4, 5, 1, 2, 3, 4, 5, 1, 2, 3, 4, 5, 1, 2, 3, 4, 5, 3, 1, 2, 3, 4, 5, 3, 4, 2, 5, 1, 2, 3, 4, 5, 1, 4, 2, 5, 2, 1, 2, 3, 4, 5, 1, 2, 3, 4, 5, 1, 2, 3, 4, 5, 4, 1, 2, 3, 4, 5, 1, 2, 4, 5, 1, 2, 3, 4, 5, 3, 1, 2, 3, 4, 5, 1, 2, 3, 4, 5, 1, 2, 3, 4, 5, 1, 2, 3, 4, 5, 5, 4, 1, 3, 4, 5, 1, 1, 2, 3, 4, 5, 1, 1, 2, 3, 4, 5, 1, 2, 3, 4, 5, 1, 2, 3, 4, 5, 3, 2, 3, 4, 5, 1, 2, 3, 4, 5, 1, 5, 5, 1, 3, 1, 2, 3, 4, 5, 3, 3, 1, 2, 3, 4, 5, 1, 2, 3, 4, 5, 3, 4, 1, 2, 3, 4, 5, 1, 2, 3, 4, 5, 1, 1, 2, 3, 4, 5, 5, 1, 2, 3, 4, 5, 1, 2, 5, 1, 2, 3, 4, 5, 1, 3, 4, 5, 1, 2, 3, 4, 5, 5, 2, 5, 2, 5, 2, 2, 2, 4, 2, 2, 4, 1, 2, 4, 1, 4, 5, 1, 2, 3, 4, 5, 1, 1, 1, 2, 3, 4, 5, 1, 2, 3, 4, 5, 3, 4, 4, 2, 2, 3, 5, 1, 3, 4, 5, 1, 2, 4, 5, 1, 2, 3, 4, 5, 1, 3, 5, 1, 2, 3, 4, 5, 1, 2, 3, 4, 5, 5, 4, 2, 1, 2, 3, 4, 5, 2, 3, 1, 1, 2, 5, 1, 2, 3, 4, 5, 1, 2, 3, 4, 5, 2, 3, 1, 2, 3, 4, 5, 1, 2, 3, 4, 5, 1, 2, 3, 4, 5, 1, 2, 3, 4, 5, 4, 1, 1, 3, 1, 2, 4, 5, 1, 2, 3, 4, 5, 1, 3, 4, 5, 1, 2, 3, 4, 5, 3, 1, 1, 2, 3, 4, 5, 1, 2, 3, 4, 5, 1, 2, 3, 4, 5, 5, 1, 2, 3, 4, 5, 1, 2, 3, 4, 5, 1, 2, 3, 4, 5, 2, 4, 5, 1, 2, 3, 4, 5, 1, 1, 2, 3, 4, 5, 3, 1, 3, 5, 1, 2, 3, 4, 5, 1, 5, 5, 4, 1, 5, 2, 5, 1, 2, 3, 4, 5, 1, 2, 3, 1, 4, 5, 1, 4, 5, 1, 1, 2, 3, 4, 5, 3, 2, 1, 2, 3, 4, 1, 2, 3, 4, 5, 4, 3, 1, 3, 1, 2, 3, 4, 5, 2, 1, 2, 3, 4, 5, 5, 1, 2, 3, 4, 5, 1, 4, 2, 3, 4, 1, 2, 3, 4, 5, 1, 2, 3, 4, 5, 1, 2, 3, 4, 5, 1, 2, 3, 4, 5, 1, 2, 3, 1, 2, 3, 4, 5, 1, 2, 3, 4, 5, 5, 3, 1, 2, 4, 4, 5, 1, 2, 3, 4, 5, 1, 3, 5, 1, 5, 2, 5, 2, 1, 5, 1, 2, 3, 4, 5, 1, 2, 3, 5, 1, 2, 3, 4, 5, 1, 1, 2, 3, 4, 5, 1, 2, 3, 4, 3, 3, 1, 2, 3, 4, 5, 1, 4, 1, 2, 3, 4, 2, 4, 3, 1, 2, 3, 4, 5, 1, 2, 3, 4, 5, 3, 1, 2, 3, 4, 5, 1, 2, 3, 4, 5, 1, 2, 3, 4, 4, 1, 3, 1, 2, 3, 4, 5, 1, 2, 3, 4, 5, 2, 3, 5, 2, 1, 2, 3, 4, 5, 1, 1, 2, 3, 4, 5, 3, 2], \"Freq\": [0.824356734752655, 0.3665129244327545, 0.251746267080307, 0.19991613924503326, 0.13327743113040924, 0.04812796041369438, 0.7903284430503845, 0.9172673225402832, 0.24766606092453003, 0.14467620849609375, 0.26237890124320984, 0.061303481459617615, 0.28444814682006836, 0.16572190821170807, 0.2807126045227051, 0.22321726381778717, 0.12851902842521667, 0.20292478799819946, 0.8514732718467712, 0.05267747864127159, 0.8428396582603455, 0.10535495728254318, 0.09301108866930008, 0.09301108866930008, 0.7440887093544006, 0.7907734513282776, 0.7769294381141663, 0.907921314239502, 0.03026404418051243, 0.06052808836102486, 0.9111214876174927, 0.6795535683631897, 0.19728974997997284, 0.021921083331108093, 0.08768433332443237, 0.46700596809387207, 0.19210174679756165, 0.1192355677485466, 0.10929926484823227, 0.11592346429824829, 0.25478336215019226, 0.38966867327690125, 0.08492778986692429, 0.03497026488184929, 0.23979610204696655, 0.8248404860496521, 0.6202455759048462, 0.011075814254581928, 0.3322744071483612, 0.011075814254581928, 0.022151628509163857, 0.15455785393714905, 0.2496703714132309, 0.12285367399454117, 0.2100401520729065, 0.26552245020866394, 0.8359402418136597, 0.1604301631450653, 0.7219356894493103, 0.14961102604866028, 0.7181329131126404, 0.11968881636857986, 0.8351515531539917, 0.8143242597579956, 0.13560210168361664, 0.5876091122627258, 0.14464224874973297, 0.027120420709252357, 0.0994415432214737, 0.5069410800933838, 0.15208232402801514, 0.12673527002334595, 0.2112254500389099, 0.7905139923095703, 0.17495618760585785, 0.10497371852397919, 0.03499123826622963, 0.6648335456848145, 0.07588683068752289, 0.10118243843317032, 0.6829814910888672, 0.02529560960829258, 0.12647804617881775, 0.9534278512001038, 0.9646515846252441, 0.06981080025434494, 0.13463512063026428, 0.4388107359409332, 0.16954050958156586, 0.18449996411800385, 0.8962391018867493, 0.9568544626235962, 0.8897523283958435, 0.14477647840976715, 0.4903719425201416, 0.04203188046813011, 0.2615317106246948, 0.06071271747350693, 0.9063356518745422, 0.8231202960014343, 0.10090341418981552, 0.9081307649612427, 0.8944379091262817, 0.3933781385421753, 0.18651551008224487, 0.27468645572662354, 0.09495335072278976, 0.054259054362773895, 0.2414013296365738, 0.21218715608119965, 0.1968112736940384, 0.10763116180896759, 0.24217011034488678, 0.24783700704574585, 0.12391850352287292, 0.17968183755874634, 0.23234720528125763, 0.21685738861560822, 0.9542713165283203, 0.9417151212692261, 0.300814151763916, 0.276167631149292, 0.20791566371917725, 0.07962727546691895, 0.13523997366428375, 0.029620900750160217, 0.1481045037508011, 0.7997643351554871, 0.029620900750160217, 0.7905786037445068, 0.7785152792930603, 0.19462881982326508, 0.05594339966773987, 0.22377359867095947, 0.1678301990032196, 0.0419575497508049, 0.5174764394760132, 0.8243255019187927, 0.08406717330217361, 0.0720575749874115, 0.600479781627655, 0.18014393746852875, 0.0720575749874115, 0.16843925416469574, 0.5260032415390015, 0.03841596841812134, 0.16548417508602142, 0.10047253221273422, 0.8704000115394592, 0.6130766272544861, 0.1304418295621872, 0.11739765107631683, 0.0652209147810936, 0.07826510071754456, 0.9050370454788208, 0.1584348827600479, 0.05761268734931946, 0.360079288482666, 0.3312729299068451, 0.09362061321735382, 0.605701208114624, 0.080760158598423, 0.03365006670355797, 0.15479029715061188, 0.12787024676799774, 0.21196258068084717, 0.01946595124900341, 0.09300398826599121, 0.006488650571554899, 0.6683309674263, 0.2976406216621399, 0.01750827208161354, 0.01750827208161354, 0.15757444500923157, 0.5077399015426636, 0.8298821449279785, 0.3636535108089447, 0.2593892216682434, 0.18309827148914337, 0.09409216791391373, 0.10172126442193985, 0.26341262459754944, 0.09877973049879074, 0.1262185424566269, 0.2908514440059662, 0.2195105105638504, 0.9151855707168579, 0.07039888948202133, 0.10143762081861496, 0.06762507557868958, 0.7776883840560913, 0.03381253778934479, 0.8836705684661865, 0.11661218106746674, 0.816285252571106, 0.06514131277799606, 0.9119783639907837, 0.26698213815689087, 0.20579873025417328, 0.06118340790271759, 0.3615383207798004, 0.11124255508184433, 0.238838329911232, 0.09098603576421738, 0.4890499413013458, 0.05686626955866814, 0.12510579824447632, 0.19475412368774414, 0.10450221598148346, 0.4370092749595642, 0.19000403583049774, 0.08075170964002609, 0.8770052790641785, 0.0089982058852911, 0.08398324996232986, 0.8488306999206543, 0.029994018375873566, 0.02699461579322815, 0.058894187211990356, 0.11778837442398071, 0.5889418721199036, 0.2552081346511841, 0.07862161844968796, 0.03494294360280037, 0.27080780267715454, 0.5066726803779602, 0.10482882708311081, 0.7771080136299133, 0.022653840482234955, 0.13592304289340973, 0.022653840482234955, 0.5663460493087769, 0.2491922527551651, 0.3875347971916199, 0.18407903611660004, 0.17439065873622894, 0.15501391887664795, 0.09203951805830002, 0.016693802550435066, 0.06677521020174026, 0.016693802550435066, 0.13355042040348053, 0.767914891242981, 0.9090818166732788, 0.8949005007743835, 0.3000951409339905, 0.1340850591659546, 0.4277951717376709, 0.04469501972198486, 0.08300503343343735, 0.14302121102809906, 0.08581272512674332, 0.27174028754234314, 0.48627209663391113, 0.014302120544016361, 0.30662602186203003, 0.07743081450462341, 0.33295249938964844, 0.0758822038769722, 0.20596596598625183, 0.07265353947877884, 0.8718425035476685, 0.11547959595918655, 0.8083571791648865, 0.8143892288208008, 0.08853726089000702, 0.06640294939279556, 0.13280589878559113, 0.15494020283222198, 0.5533578991889954, 0.12406975030899048, 0.04962790012359619, 0.13647672533988953, 0.5831278562545776, 0.09925580024719238, 0.8960659503936768, 0.9615667462348938, 0.24863067269325256, 0.11050251871347427, 0.12431533634662628, 0.22100503742694855, 0.2946733832359314, 0.1343599259853363, 0.8061595559120178, 0.033589981496334076, 0.8017016053199768, 0.05344677343964577, 0.05344677343964577, 0.8946647047996521, 0.8850046992301941, 0.8171449899673462, 0.11872055381536484, 0.3561616539955139, 0.46640217304229736, 0.004240019712597132, 0.055120255798101425, 0.043133072555065155, 0.7332621812820435, 0.17253229022026062, 0.9347971677780151, 0.6826151013374329, 0.10179347544908524, 0.07784207165241241, 0.017963554710149765, 0.12574487924575806, 0.06316579878330231, 0.010527633130550385, 0.17896975576877594, 0.7474619746208191, 0.8926564455032349, 0.7703194618225098, 0.1540638953447342, 0.8243374824523926, 0.7770735621452332, 0.28051549196243286, 0.32156655192375183, 0.050173502415418625, 0.09578578174114227, 0.2531481385231018, 0.024936888366937637, 0.33664798736572266, 0.17455822229385376, 0.012468444183468819, 0.4488639831542969, 0.1497979611158371, 0.5531001687049866, 0.16132089495658875, 0.04609168320894241, 0.08066044747829437, 0.047848377376794815, 0.2073429822921753, 0.07974729686975479, 0.5422816276550293, 0.12227918952703476, 0.13358145952224731, 0.03643130883574486, 0.4978945255279541, 0.27930667996406555, 0.04857507720589638, 0.22148150205612183, 0.19969643652439117, 0.22511234879493713, 0.2105889767408371, 0.14523378014564514, 0.05315428227186203, 0.6437574028968811, 0.21852315962314606, 0.07677841186523438, 0.005906031467020512, 0.9041083455085754, 0.2234412580728531, 0.468505859375, 0.18740235269069672, 0.08649339526891708, 0.03603891283273697, 0.8430700898170471, 0.8738008737564087, 0.8924314975738525, 0.8361977934837341, 0.24927371740341187, 0.6528597474098206, 0.03561053052544594, 0.02374035306274891, 0.04748070612549782, 0.8295369744300842, 0.10369212180376053, 0.7772055268287659, 0.8011904358863831, 0.7769208550453186, 0.13968491554260254, 0.0838109478354454, 0.1676218956708908, 0.055873967707157135, 0.5866766571998596, 0.4087846279144287, 0.10137858986854553, 0.23545995354652405, 0.1537030190229416, 0.10464886575937271, 0.21917419135570526, 0.22995324432849884, 0.28744155168533325, 0.21558116376399994, 0.05030227452516556, 0.7905113697052002, 0.03663621097803116, 0.20524156093597412, 0.07051485776901245, 0.23281720280647278, 0.4546041488647461, 0.030720360577106476, 0.030720360577106476, 0.030720360577106476, 0.8908904790878296, 0.5494305491447449, 0.11815711110830307, 0.11224925518035889, 0.10043354332447052, 0.12406496703624725, 0.9508982300758362, 0.04954122379422188, 0.4573540687561035, 0.2837957441806793, 0.16404378414154053, 0.045604173094034195, 0.1275223046541214, 0.5738503336906433, 0.015940288081765175, 0.27895501255989075, 0.007970144040882587, 0.0758715569972992, 0.7435412406921387, 0.030348623171448708, 0.045522935688495636, 0.10622017830610275, 0.033833205699920654, 0.18366596102714539, 0.08216635137796402, 0.014499944634735584, 0.6814973950386047, 0.7882741689682007, 0.8927430510520935, 0.6667532920837402, 0.18752436339855194, 0.020836040377616882, 0.1250162422657013, 0.834162712097168, 0.06451862305402756, 0.38711172342300415, 0.12903724610805511, 0.3225931227207184, 0.10215448588132858, 0.8960362076759338, 0.1255628615617752, 0.30344358086586, 0.0156953576952219, 0.34529784321784973, 0.20927143096923828, 0.19629546999931335, 0.11497306078672409, 0.5356062054634094, 0.08693084865808487, 0.06730130314826965, 0.17262808978557587, 0.27671268582344055, 0.1243937686085701, 0.11170052736997604, 0.3173310458660126, 0.8764252066612244, 0.7640411853790283, 0.15280823409557343, 0.050936076790094376, 0.025468038395047188, 0.11548244953155518, 0.182536780834198, 0.23841537535190582, 0.11920768767595291, 0.3427221179008484, 0.11459394544363022, 0.8021576404571533, 0.9242044687271118, 0.829620361328125, 0.8178465962409973, 0.16091522574424744, 0.18237058818340302, 0.34864965081214905, 0.2091897875070572, 0.1019129753112793, 0.9110391736030579, 0.8933929800987244, 0.11910402774810791, 0.035522252321243286, 0.27790939807891846, 0.5370128750801086, 0.031343165785074234, 0.5471385717391968, 0.1367846429347992, 0.04103539511561394, 0.17782004177570343, 0.1025884822010994, 0.10225778073072433, 0.9203199744224548, 0.34536609053611755, 0.05471146106719971, 0.27355730533599854, 0.11626185476779938, 0.21200691163539886, 0.21419966220855713, 0.3098485767841339, 0.1697431206703186, 0.12124509364366531, 0.18590913712978363, 0.8938261866569519, 0.13823555409908295, 0.09071707725524902, 0.3369491398334503, 0.3067101240158081, 0.12689591944217682, 0.8163992166519165, 0.8090392351150513, 0.007422378286719322, 0.04453426972031593, 0.11875805258750916, 0.014844756573438644, 0.9120481610298157, 0.041456736624240875, 0.041456736624240875, 0.4167194366455078, 0.11318305879831314, 0.12604476511478424, 0.24437251687049866, 0.10032134503126144, 0.034257035702466965, 0.06851407140493393, 0.7193977236747742, 0.2055422067642212, 0.3870294988155365, 0.15716934204101562, 0.15324009954929352, 0.14341701567173004, 0.15716934204101562, 0.896902859210968, 0.77181077003479, 0.18160252273082733, 0.8049620389938354, 0.16946569085121155, 0.9000167846679688, 0.776971161365509, 0.09885744750499725, 0.8402882814407349, 0.8979068994522095, 0.77703458070755, 0.8924729824066162, 0.15368187427520752, 0.05122729018330574, 0.7684093713760376, 0.8326597213745117, 0.7976086139678955, 0.1772463619709015, 0.18981969356536865, 0.21023041009902954, 0.26738041639328003, 0.23064112663269043, 0.10205359756946564, 0.905868411064148, 0.8936725854873657, 0.495296835899353, 0.13288451731204987, 0.1691257506608963, 0.08456287533044815, 0.11476390063762665, 0.07627463340759277, 0.20473717153072357, 0.10036136209964752, 0.10437581688165665, 0.5138501524925232, 0.0882812961935997, 0.7945316433906555, 0.8243154287338257, 0.8171148300170898, 0.05117195472121239, 0.8955092430114746, 0.025585977360606194, 0.012079620733857155, 0.96636962890625, 0.012079620733857155, 0.012079620733857155, 0.7770783305168152, 0.1412869691848755, 0.8136619329452515, 0.10170774161815643, 0.37137967348098755, 0.11917407065629959, 0.06651575863361359, 0.15243194997310638, 0.2937779426574707, 0.8429996371269226, 0.09366662800312042, 0.8012195825576782, 0.47128865122795105, 0.15498754382133484, 0.1961066871881485, 0.03163010999560356, 0.14549849927425385, 0.3630160987377167, 0.32779812812805176, 0.0189635269343853, 0.021672602742910385, 0.2654893696308136, 0.9102386236190796, 0.8669657707214355, 0.7769481539726257, 0.05111818388104439, 0.238551527261734, 0.2669505178928375, 0.05679798126220703, 0.3805464804172516, 0.8540859222412109, 0.08540859073400497, 0.9326334595680237, 0.8014094829559326, 0.12329376488924026, 0.06164688244462013, 0.13912378251552582, 0.08695236593484879, 0.5738856196403503, 0.17390473186969757, 0.034780945628881454, 0.13666754961013794, 0.17193658649921417, 0.2072056382894516, 0.2953782379627228, 0.19397974014282227, 0.949533224105835, 0.894790530204773, 0.05328159034252167, 0.20720617473125458, 0.20128600299358368, 0.44993340969085693, 0.09472282230854034, 0.11067534238100052, 0.5764340758323669, 0.06390183418989182, 0.1370266228914261, 0.11199291050434113, 0.04425873979926109, 0.5995047688484192, 0.09254100173711777, 0.1931290477514267, 0.06839986890554428, 0.044476695358753204, 0.3234668970108032, 0.1617334485054016, 0.22642682492733002, 0.24260015785694122, 0.7905935049057007, 0.9229100346565247, 0.07244066894054413, 0.8692880272865295, 0.05686406046152115, 0.9098249673843384, 0.028432030230760574, 0.028432030230760574, 0.35791486501693726, 0.4073506295681, 0.04745832458138466, 0.15028469264507294, 0.03559374436736107, 0.06134796887636185, 0.8384222388267517, 0.020449323579669, 0.081797294318676, 0.12304099649190903, 0.20265576243400574, 0.05790164694190025, 0.5790164470672607, 0.036188527941703796, 0.8851299285888672, 0.9119638204574585, 0.6129090785980225, 0.1466962695121765, 0.12660089135169983, 0.016076304018497467, 0.09846735745668411, 0.16985160112380981, 0.3601672351360321, 0.055252932012081146, 0.33970320224761963, 0.07367057353258133, 0.14319144189357758, 0.5154891610145569, 0.11455314606428146, 0.15273752808570862, 0.08591486513614655, 0.8242465853691101, 0.5685270428657532, 0.04737725108861923, 0.09475450217723846, 0.1658203899860382, 0.13028743863105774, 0.4603865146636963, 0.11765433102846146, 0.13811595737934113, 0.12276973575353622, 0.16369298100471497, 0.26855143904685974, 0.2085558921098709, 0.33997467160224915, 0.1371326446533203, 0.04571088030934334, 0.1106443926692009, 0.16596658527851105, 0.7191885113716125, 0.2338762730360031, 0.14141356945037842, 0.2501932382583618, 0.29914408922195435, 0.08158474415540695, 0.8867778182029724, 0.15098990499973297, 0.12641014158725739, 0.2177063673734665, 0.13694432377815247, 0.36518487334251404, 0.9615492224693298, 0.07465632259845734, 0.07465632259845734, 0.895875871181488, 0.48699015378952026, 0.019223295152187347, 0.31398048996925354, 0.12174753844738007, 0.05766988545656204, 0.16810207068920135, 0.7564592957496643, 0.896687924861908, 0.7787690162658691, 0.10195554047822952, 0.8156443238258362, 0.8775277137756348, 0.9051986336708069, 0.20600830018520355, 0.5253211855888367, 0.07210290431976318, 0.16480664908885956, 0.030901245772838593, 0.9064188599586487, 0.8753122687339783, 0.0921381339430809, 0.8950625061988831, 0.09945139288902283, 0.8964308500289917, 0.1740603744983673, 0.08703018724918365, 0.7832716703414917, 0.8948190808296204, 0.022852430120110512, 0.045704860240221024, 0.22852429747581482, 0.09140972048044205, 0.594163179397583, 0.9546172022819519, 0.8655122518539429, 0.15778419375419617, 0.052594732493162155, 0.10518946498632431, 0.6837314963340759, 0.2629007399082184, 0.17286624014377594, 0.20888005197048187, 0.2052786648273468, 0.1512579619884491, 0.7902984023094177, 0.961549699306488, 0.8304658532142639, 0.8354989290237427, 0.09027817845344543, 0.5617309212684631, 0.07021636515855789, 0.04012363404035568, 0.23071090877056122, 0.7771676778793335, 0.26223912835121155, 0.1471097469329834, 0.48610177636146545, 0.057564686983823776, 0.057564686983823776, 0.8965831995010376, 0.1181359812617302, 0.04219142347574234, 0.6581861972808838, 0.12657426297664642, 0.05062970891594887, 0.07996787875890732, 0.8796466588973999, 0.3042740523815155, 0.6592604517936707, 0.025356171652674675, 0.18087638914585114, 0.2555862069129944, 0.16514800488948822, 0.13369125127792358, 0.26738250255584717, 0.4541252851486206, 0.11877122521400452, 0.2724751830101013, 0.04191925749182701, 0.1117846816778183, 0.2189779281616211, 0.24540629982948303, 0.4266293942928314, 0.045305777341127396, 0.06418318301439285, 0.2742905914783478, 0.15879982709884644, 0.15879982709884644, 0.14436347782611847, 0.2634633481502533, 0.8374147415161133, 0.02203723043203354, 0.1101861521601677, 0.1271737962961197, 0.2230149358510971, 0.2506614029407501, 0.25987690687179565, 0.14007548987865448, 0.12062187492847443, 0.12586630880832672, 0.5349317789077759, 0.20453274250030518, 0.010488858446478844, 0.7634764909744263, 0.89369797706604, 0.08467674255371094, 0.08467674255371094, 0.8467674255371094, 0.8243196606636047, 0.8010793328285217, 0.13522014021873474, 0.1761959344148636, 0.3892700970172882, 0.1761959344148636, 0.12292739748954773, 0.8928929567337036, 0.8939135670661926, 0.8002785444259644, 0.8232543468475342, 0.835257887840271, 0.9119032025337219, 0.07599193602800369, 0.7772932648658752, 0.814159631729126, 0.15265493094921112, 0.18240009248256683, 0.17975661158561707, 0.3714088797569275, 0.13613919913768768, 0.13085223734378815, 0.7091017365455627, 0.08863771706819534, 0.1477295160293579, 0.02954590506851673, 0.2838354706764221, 0.018922364339232445, 0.056767091155052185, 0.11353418231010437, 0.5298262238502502, 0.817701518535614, 0.05768860504031181, 0.19469903409481049, 0.09855136275291443, 0.6465930938720703, 0.002403691876679659, 0.016833584755659103, 0.016833584755659103, 0.18516942858695984, 0.7911784648895264, 0.9039238691329956, 0.9541310667991638, 0.056739259511232376, 0.1418481469154358, 0.3461094796657562, 0.07376103848218918, 0.3858269453048706, 0.8951156735420227, 0.8509683609008789, 0.7187293171882629, 0.037827860563993454, 0.18913929164409637, 0.037827860563993454, 0.08775164186954498, 0.8775164484977722, 0.7997555136680603, 0.16098396480083466, 0.18398168683052063, 0.37946221232414246, 0.12073797732591629, 0.15523454546928406, 0.18816231191158295, 0.03763246163725853, 0.03763246163725853, 0.715016782283783, 0.03763246163725853, 0.8674407005310059, 0.08880630880594254, 0.353375107049942, 0.16836196184158325, 0.18501314520835876, 0.2035144567489624, 0.22198547422885895, 0.7131873369216919, 0.028338570147752762, 0.023615475744009018, 0.014169285073876381, 0.1369265913963318, 0.027385320514440536, 0.16431191563606262, 0.6572476625442505, 0.9081359505653381, 0.906615674495697, 0.892091691493988, 0.1622123271226883, 0.489211767911911, 0.1622123271226883, 0.028837746009230614, 0.15757769346237183, 0.26970183849334717, 0.4766823351383209, 0.11917058378458023, 0.0627213567495346, 0.07526563107967377, 0.6868714690208435, 0.1010105162858963, 0.2020210325717926, 0.897897481918335, 0.050506364554166794, 0.01683545485138893, 0.10101272910833359, 0.6187029480934143, 0.21465204656124115, 0.8960182070732117, 0.40019333362579346, 0.02759954147040844, 0.40709322690963745, 0.11039816588163376, 0.062098968774080276, 0.8820356130599976, 0.7654557228088379], \"Term\": [\"(mwh),\", \"2\", \"2\", \"2\", \"2\", \"2\", \"2a\", \"8.5\", \"aa\", \"aa\", \"aa\", \"aa\", \"aa\", \"aaa\", \"aaa\", \"aaa\", \"aaa\", \"aaa\", \"aas.\", \"acdelco\", \"acdelco\", \"acdelco\", \"additional\", \"additional\", \"additional\", \"adv\", \"advance\", \"advertise\", \"advertise\", \"advertise\", \"advertised!\", \"advertised.\", \"advertised.\", \"advertised.\", \"advertised.\", \"again.\", \"again.\", \"again.\", \"again.\", \"again.\", \"alkaline\", \"alkaline\", \"alkaline\", \"alkaline\", \"alkaline\", \"always.\", \"amazon.\", \"amazon.\", \"amazon.\", \"amazon.\", \"amazon.\", \"amazonbasics\", \"amazonbasics\", \"amazonbasics\", \"amazonbasics\", \"amazonbasics\", \"anti-leakage\", \"anymore.\", \"anymore.\", \"arrived\", \"arrived\", \"arrived\", \"attach\", \"average.\", \"awesome\", \"awesome\", \"awesome\", \"awesome\", \"awesome\", \"bad\", \"bad\", \"bad\", \"bad\", \"balance\", \"bang\", \"bang\", \"bang\", \"bang\", \"bargain\", \"bargain\", \"bargain\", \"bargain\", \"bargain\", \"bargain,\", \"batt\", \"batteries!\", \"batteries!\", \"batteries!\", \"batteries!\", \"batteries!\", \"batteries),\", \"batteries..\", \"batterys\", \"beat\", \"beat\", \"beat\", \"beat\", \"beat\", \"beet\", \"below.\", \"benefit\", \"benefit\", \"blood\", \"box\", \"box\", \"box\", \"box\", \"box\", \"brand\", \"brand\", \"brand\", \"brand\", \"brand\", \"brands.\", \"brands.\", \"brands.\", \"brands.\", \"brands.\", \"brush\", \"buck.\", \"buy\", \"buy\", \"buy\", \"buy\", \"buy\", \"buy!\", \"buy!\", \"buy!\", \"buy!\", \"buy!!!\", \"buy,\", \"buy,\", \"buy.\", \"buy.\", \"buy.\", \"buy.\", \"buy.\", \"calculation\", \"camera\", \"camera\", \"camera\", \"camera\", \"camera\", \"can't\", \"can't\", \"can't\", \"can't\", \"can't\", \"candy\", \"cardboard\", \"cardboard\", \"cardboard\", \"cardboard\", \"cardboard\", \"cell.\", \"change\", \"change\", \"change\", \"change\", \"change\", \"charge\", \"charge\", \"charge\", \"charge\", \"charge\", \"cheap\", \"cheap\", \"cheap\", \"cheap\", \"cheap\", \"cheaper.\", \"cheaper.\", \"cheaper.\", \"cheaper.\", \"cheaper.\", \"circle\", \"come\", \"come\", \"come\", \"come\", \"come\", \"compare\", \"compare\", \"compare\", \"compare\", \"compare\", \"complain\", \"complain\", \"complaints.\", \"complaints.\", \"complaints.\", \"complaints.\", \"contain\", \"coppertop\", \"coppertop\", \"coppertops\", \"coppertops\", \"cost\", \"cost\", \"cost\", \"cost\", \"cost\", \"couple\", \"couple\", \"couple\", \"couple\", \"couple\", \"day\", \"day\", \"day\", \"day\", \"day\", \"deadbolt\", \"deal\", \"deal\", \"deal\", \"deal\", \"deal\", \"deal,\", \"deal,\", \"deal,\", \"deal,\", \"deal.\", \"deal.\", \"deal.\", \"deal.\", \"deal.\", \"deal..\", \"decent\", \"decent\", \"decent\", \"decent\", \"decent\", \"definitely\", \"definitely\", \"definitely\", \"definitely\", \"definitely\", \"describe\", \"describe\", \"describe\", \"describe\", \"describe\", \"detectors,\", \"device)\", \"didn't\", \"didn't\", \"didn't\", \"didn't\", \"didn't\", \"doesn't\", \"doesn't\", \"doesn't\", \"doesn't\", \"doesn't\", \"don't\", \"don't\", \"don't\", \"don't\", \"don't\", \"door.\", \"door.\", \"drug\", \"drug\", \"duracel.\", \"duracell,\", \"duracell,\", \"duracell,\", \"duracell,\", \"duracell,\", \"duracell.\", \"duracell.\", \"duracell.\", \"duracell.\", \"duracell.\", \"duty\", \"energenizer\", \"energizer\", \"energizer\", \"energizer\", \"energizer\", \"energizer\", \"energy\", \"energy\", \"energy\", \"entire\", \"entire\", \"entire\", \"etc,\", \"ever!\", \"everyone.\", \"excellent\", \"excellent\", \"excellent\", \"excellent\", \"excellent\", \"excellent.\", \"excellent.\", \"excellent.\", \"exclusively\", \"expect\", \"expect\", \"expect\", \"expect\", \"expect\", \"expected.\", \"expected.\", \"expected.\", \"expected.\", \"expensive!\", \"explode\", \"explode\", \"extrapolate\", \"fabulous\", \"far\", \"far\", \"far\", \"far\", \"far\", \"far,\", \"far,\", \"far,\", \"far,\", \"far,\", \"far.\", \"far.\", \"far.\", \"far.\", \"far.\", \"fast\", \"fast\", \"fast\", \"fast\", \"fast\", \"feel\", \"feel\", \"feel\", \"feel\", \"feel\", \"find\", \"find\", \"find\", \"find\", \"find\", \"fine\", \"fine\", \"fine\", \"fine\", \"fine\", \"fine!\", \"fine.\", \"fine.\", \"fine.\", \"fine.\", \"fine.\", \"flash.\", \"flashes,\", \"fly\", \"for...\", \"fraction\", \"fraction\", \"fraction\", \"fraction\", \"fraction\", \"frequently\", \"frequently\", \"future,\", \"garage\", \"gear\", \"generic\", \"generic\", \"generic\", \"generic\", \"generic\", \"get\", \"get\", \"get\", \"get\", \"get\", \"go\", \"go\", \"go\", \"go\", \"go\", \"goes.\", \"good\", \"good\", \"good\", \"good\", \"good\", \"good!\", \"good!\", \"good!\", \"good!\", \"good.\", \"good.\", \"good.\", \"good.\", \"good.\", \"grandkids\", \"great\", \"great\", \"great\", \"great\", \"great\", \"great!\", \"great!\", \"great!\", \"great!\", \"great!\", \"great,\", \"great,\", \"great,\", \"great,\", \"great,\", \"great.\", \"great.\", \"great.\", \"great.\", \"great.\", \"hair\", \"handheld\", \"handy\", \"handy\", \"handy\", \"handy\", \"hasn't\", \"haven't\", \"haven't\", \"haven't\", \"haven't\", \"haven't\", \"hesitate\", \"high\", \"high\", \"high\", \"high\", \"high\", \"i'm\", \"i'm\", \"i'm\", \"i'm\", \"i'm\", \"i've\", \"i've\", \"i've\", \"i've\", \"i've\", \"instead.\", \"issues.\", \"issues.\", \"issues.\", \"issues.\", \"it's\", \"it's\", \"it's\", \"it's\", \"it's\", \"job!\", \"job!\", \"job,\", \"joy.\", \"keeps\", \"kid\", \"kid\", \"kid\", \"kid\", \"kid\", \"kids'\", \"know.\", \"last\", \"last\", \"last\", \"last\", \"last\", \"leak\", \"leak\", \"leak\", \"leak\", \"leak\", \"leg\", \"leg\", \"life\", \"life\", \"life\", \"life\", \"life\", \"like\", \"like\", \"like\", \"like\", \"like\", \"logo\", \"long\", \"long\", \"long\", \"long\", \"long\", \"long-lasting.\", \"long.\", \"long.\", \"long.\", \"long.\", \"long.\", \"loose\", \"loose\", \"loose\", \"lot\", \"lot\", \"lot\", \"lot\", \"lot\", \"lots\", \"lots\", \"lots\", \"lots\", \"love\", \"love\", \"love\", \"love\", \"love\", \"love.\", \"ma\", \"ma\", \"mah\", \"mah\", \"many.\", \"material\", \"matt\", \"matt\", \"minimal\", \"mirror.\", \"mistake\", \"money!\", \"money!\", \"money!\", \"monthly\", \"more,\", \"more,\", \"need\", \"need\", \"need\", \"need\", \"need\", \"needed,\", \"nest\", \"new\", \"new\", \"new\", \"new\", \"new\", \"nice\", \"nice\", \"nice\", \"nice\", \"nice\", \"nice!\", \"nice!\", \"ninja\", \"now!\", \"ok\", \"ok\", \"ok\", \"okay\", \"okay\", \"okay\", \"okay\", \"one.\", \"one.\", \"option.\", \"option.\", \"order\", \"order\", \"order\", \"order\", \"order\", \"overpriced\", \"overpriced\", \"pacific\", \"pack\", \"pack\", \"pack\", \"pack\", \"pack\", \"package\", \"package\", \"package\", \"package\", \"package\", \"packaged,\", \"packaging!\", \"page\", \"pay\", \"pay\", \"pay\", \"pay\", \"pay\", \"perfect!\", \"perfect!\", \"place.\", \"plastic.\", \"plastic.\", \"plastic.\", \"play\", \"play\", \"play\", \"play\", \"play\", \"power\", \"power\", \"power\", \"power\", \"power\", \"power!\", \"pressure\", \"pretty\", \"pretty\", \"pretty\", \"pretty\", \"pretty\", \"price\", \"price\", \"price\", \"price\", \"price\", \"price!\", \"price!\", \"price!\", \"price!\", \"price!\", \"price,\", \"price,\", \"price,\", \"price,\", \"price,\", \"priced,\", \"print\", \"pro\", \"pro\", \"problems.\", \"problems.\", \"problems.\", \"problems.\", \"product\", \"product\", \"product\", \"product\", \"product\", \"product!\", \"product!\", \"product!\", \"product!\", \"product.\", \"product.\", \"product.\", \"product.\", \"product.\", \"properly\", \"pump\", \"purchase\", \"purchase\", \"purchase\", \"purchase\", \"purchase\", \"quality\", \"quality\", \"quality\", \"quality\", \"quality\", \"quality.\", \"quality.\", \"quality.\", \"quality.\", \"quality.\", \"reasonable.\", \"receive\", \"receive\", \"receive\", \"receive\", \"receive\", \"recommend\", \"recommend\", \"recommend\", \"recommend\", \"recommend\", \"remote\", \"remote\", \"remote\", \"remote\", \"remote\", \"reorder\", \"reorder\", \"reorder\", \"replace\", \"replace\", \"replace\", \"replace\", \"replace\", \"retailer.\", \"run\", \"run\", \"run\", \"run\", \"run\", \"sanity.\", \"satisfied.\", \"satisfied.\", \"satisfied.\", \"save\", \"save\", \"save\", \"save\", \"save\", \"save.\", \"save.\", \"saw\", \"say!\", \"seen.\", \"seen.\", \"service,\", \"shall\", \"ship\", \"ship\", \"ship\", \"ship\", \"ship\", \"shortest\", \"should.\", \"should.\", \"significant\", \"significant\", \"soak\", \"soon.\", \"soon.\", \"soon.\", \"stack\", \"standard\", \"standard\", \"standard\", \"standard\", \"standard\", \"staple\", \"stash\", \"state\", \"state\", \"state\", \"state\", \"store\", \"store\", \"store\", \"store\", \"store\", \"student\", \"subscription.\", \"success\", \"suit\", \"super\", \"super\", \"super\", \"super\", \"super\", \"supplier\", \"sure\", \"sure\", \"sure\", \"sure\", \"sure\", \"sweet\", \"thank\", \"thank\", \"thank\", \"thank\", \"thank\", \"thanks!\", \"thanks!\", \"that.\", \"that.\", \"that.\", \"them.\", \"them.\", \"them.\", \"them.\", \"them.\", \"these.\", \"these.\", \"these.\", \"these.\", \"these.\", \"they're\", \"they're\", \"they're\", \"they're\", \"they're\", \"think\", \"think\", \"think\", \"think\", \"think\", \"throw\", \"throw\", \"throw\", \"time\", \"time\", \"time\", \"time\", \"time\", \"time.\", \"time.\", \"time.\", \"time.\", \"time.\", \"to.dead\", \"toddlers.\", \"toothbrush\", \"toothbrush\", \"toothbrush\", \"toothbrushes.\", \"town\", \"toy\", \"toy\", \"toy\", \"toy\", \"toy\", \"truck\", \"twin\", \"twist\", \"two.\", \"ultimate\", \"unbeatable\", \"unbeatable\", \"unbelievable\", \"unlike\", \"unlike\", \"use\", \"use\", \"use\", \"use\", \"use\", \"use,\", \"use,\", \"use,\", \"use,\", \"used.\", \"used.\", \"used.\", \"used.\", \"used.\", \"usual.\", \"value\", \"value\", \"value\", \"value\", \"value\", \"value!\", \"value!\", \"value!\", \"value!\", \"value!!\", \"value!!!\", \"value.\", \"value.\", \"value.\", \"value.\", \"value.\", \"version.\", \"very,\", \"video\", \"video\", \"video\", \"video\", \"vs\", \"vs\", \"wanted.\", \"way\", \"way\", \"way\", \"way\", \"way\", \"we'll\", \"we'll\", \"we'll\", \"we'll\", \"we'll\", \"weird\", \"well\", \"well\", \"well\", \"well\", \"well\", \"well.\", \"well.\", \"well.\", \"well.\", \"well.\", \"while.\", \"while.\", \"while.\", \"while.\", \"will\", \"win!\", \"wonder\", \"work\", \"work\", \"work\", \"work\", \"work\", \"work.\", \"work.\", \"work.\", \"work.\", \"work.\", \"worked\", \"worked\", \"worked\", \"working\", \"works\", \"works\", \"works\", \"works\", \"works\", \"worse,\", \"xbox\", \"xbox\", \"xbox\", \"xbox\", \"xbox\", \"yay\", \"yup,\"]}, \"R\": 30, \"lambda.step\": 0.01, \"plot.opts\": {\"xlab\": \"PC1\", \"ylab\": \"PC2\"}, \"topic.order\": [1, 3, 2, 5, 4]};\n",
       "\n",
       "function LDAvis_load_lib(url, callback){\n",
       "  var s = document.createElement('script');\n",
       "  s.src = url;\n",
       "  s.async = true;\n",
       "  s.onreadystatechange = s.onload = callback;\n",
       "  s.onerror = function(){console.warn(\"failed to load library \" + url);};\n",
       "  document.getElementsByTagName(\"head\")[0].appendChild(s);\n",
       "}\n",
       "\n",
       "if(typeof(LDAvis) !== \"undefined\"){\n",
       "   // already loaded: just create the visualization\n",
       "   !function(LDAvis){\n",
       "       new LDAvis(\"#\" + \"ldavis_el123154717310481260666443\", ldavis_el123154717310481260666443_data);\n",
       "   }(LDAvis);\n",
       "}else if(typeof define === \"function\" && define.amd){\n",
       "   // require.js is available: use it to load d3/LDAvis\n",
       "   require.config({paths: {d3: \"https://cdnjs.cloudflare.com/ajax/libs/d3/3.5.5/d3.min\"}});\n",
       "   require([\"d3\"], function(d3){\n",
       "      window.d3 = d3;\n",
       "      LDAvis_load_lib(\"https://cdn.rawgit.com/bmabey/pyLDAvis/files/ldavis.v1.0.0.js\", function(){\n",
       "        new LDAvis(\"#\" + \"ldavis_el123154717310481260666443\", ldavis_el123154717310481260666443_data);\n",
       "      });\n",
       "    });\n",
       "}else{\n",
       "    // require.js not available: dynamically load d3 & LDAvis\n",
       "    LDAvis_load_lib(\"https://cdnjs.cloudflare.com/ajax/libs/d3/3.5.5/d3.min.js\", function(){\n",
       "         LDAvis_load_lib(\"https://cdn.rawgit.com/bmabey/pyLDAvis/files/ldavis.v1.0.0.js\", function(){\n",
       "                 new LDAvis(\"#\" + \"ldavis_el123154717310481260666443\", ldavis_el123154717310481260666443_data);\n",
       "            })\n",
       "         });\n",
       "}\n",
       "</script>"
      ],
      "text/plain": [
       "PreparedData(topic_coordinates=              x         y  topics  cluster       Freq\n",
       "topic                                                \n",
       "0     -0.059887  0.067558       1        1  23.758999\n",
       "2      0.066014 -0.010113       2        1  22.379318\n",
       "1     -0.069005  0.004360       3        1  21.014620\n",
       "4     -0.014958 -0.105879       4        1  16.465300\n",
       "3      0.077836  0.044074       5        1  16.381760, topic_info=        Term         Freq        Total Category  logprob  loglift\n",
       "61      good  2538.000000  2538.000000  Default  30.0000  30.0000\n",
       "70     great  3047.000000  3047.000000  Default  29.0000  29.0000\n",
       "17     price  1517.000000  1517.000000  Default  28.0000  28.0000\n",
       "46     cheap   462.000000   462.000000  Default  27.0000  27.0000\n",
       "23      long  1851.000000  1851.000000  Default  26.0000  26.0000\n",
       "..       ...          ...          ...      ...      ...      ...\n",
       "267  brands.    69.873787   322.792786   Topic5  -5.4616   0.2787\n",
       "103      use    98.931213   756.578552   Topic5  -5.1138  -0.2254\n",
       "98      love    79.942856   509.005127   Topic5  -5.3270  -0.0421\n",
       "70     great   138.558578  3047.966797   Topic5  -4.7770  -1.2819\n",
       "190     time    76.469002   542.564575   Topic5  -5.3714  -0.1504\n",
       "\n",
       "[421 rows x 6 columns], token_table=      Topic      Freq    Term\n",
       "term                         \n",
       "7178      4  0.824357  (mwh),\n",
       "161       1  0.366513       2\n",
       "161       2  0.251746       2\n",
       "161       3  0.199916       2\n",
       "161       4  0.133277       2\n",
       "...     ...       ...     ...\n",
       "169       3  0.407093    xbox\n",
       "169       4  0.110398    xbox\n",
       "169       5  0.062099    xbox\n",
       "2094      3  0.882036     yay\n",
       "2079      2  0.765456    yup,\n",
       "\n",
       "[928 rows x 3 columns], R=30, lambda_step=0.01, plot_opts={'xlab': 'PC1', 'ylab': 'PC2'}, topic_order=[1, 3, 2, 5, 4])"
      ]
     },
     "execution_count": 33,
     "metadata": {},
     "output_type": "execute_result"
    }
   ],
   "source": [
    "import pyLDAvis.gensim\n",
    "\n",
    "pyLDAvis.enable_notebook()\n",
    "\n",
    "pyLDAvis.gensim.prepare(lda_model, corpus, id2word)"
   ]
  },
  {
   "cell_type": "code",
   "execution_count": 34,
   "metadata": {},
   "outputs": [
    {
     "data": {
      "text/html": [
       "<div>\n",
       "<style scoped>\n",
       "    .dataframe tbody tr th:only-of-type {\n",
       "        vertical-align: middle;\n",
       "    }\n",
       "\n",
       "    .dataframe tbody tr th {\n",
       "        vertical-align: top;\n",
       "    }\n",
       "\n",
       "    .dataframe thead th {\n",
       "        text-align: right;\n",
       "    }\n",
       "</style>\n",
       "<table border=\"1\" class=\"dataframe\">\n",
       "  <thead>\n",
       "    <tr style=\"text-align: right;\">\n",
       "      <th></th>\n",
       "      <th>0</th>\n",
       "      <th>1</th>\n",
       "      <th>2</th>\n",
       "      <th>3</th>\n",
       "      <th>4</th>\n",
       "    </tr>\n",
       "  </thead>\n",
       "  <tbody>\n",
       "    <tr>\n",
       "      <th>0</th>\n",
       "      <td>0.493842</td>\n",
       "      <td>0.267194</td>\n",
       "      <td>0.205148</td>\n",
       "      <td>0.016921</td>\n",
       "      <td>0.016895</td>\n",
       "    </tr>\n",
       "    <tr>\n",
       "      <th>1</th>\n",
       "      <td>0.034216</td>\n",
       "      <td>0.034424</td>\n",
       "      <td>0.863416</td>\n",
       "      <td>0.034022</td>\n",
       "      <td>0.033923</td>\n",
       "    </tr>\n",
       "    <tr>\n",
       "      <th>2</th>\n",
       "      <td>0.067330</td>\n",
       "      <td>0.358725</td>\n",
       "      <td>0.439479</td>\n",
       "      <td>0.067178</td>\n",
       "      <td>0.067289</td>\n",
       "    </tr>\n",
       "    <tr>\n",
       "      <th>3</th>\n",
       "      <td>0.040524</td>\n",
       "      <td>0.040576</td>\n",
       "      <td>0.837425</td>\n",
       "      <td>0.040949</td>\n",
       "      <td>0.040526</td>\n",
       "    </tr>\n",
       "    <tr>\n",
       "      <th>4</th>\n",
       "      <td>0.040404</td>\n",
       "      <td>0.040756</td>\n",
       "      <td>0.041511</td>\n",
       "      <td>0.337484</td>\n",
       "      <td>0.539846</td>\n",
       "    </tr>\n",
       "  </tbody>\n",
       "</table>\n",
       "</div>"
      ],
      "text/plain": [
       "          0         1         2         3         4\n",
       "0  0.493842  0.267194  0.205148  0.016921  0.016895\n",
       "1  0.034216  0.034424  0.863416  0.034022  0.033923\n",
       "2  0.067330  0.358725  0.439479  0.067178  0.067289\n",
       "3  0.040524  0.040576  0.837425  0.040949  0.040526\n",
       "4  0.040404  0.040756  0.041511  0.337484  0.539846"
      ]
     },
     "execution_count": 34,
     "metadata": {},
     "output_type": "execute_result"
    }
   ],
   "source": [
    "topics = pd.DataFrame.from_records(new_distro)\n",
    "topics.head()"
   ]
  },
  {
   "cell_type": "code",
   "execution_count": 35,
   "metadata": {},
   "outputs": [
    {
     "data": {
      "text/html": [
       "<div>\n",
       "<style scoped>\n",
       "    .dataframe tbody tr th:only-of-type {\n",
       "        vertical-align: middle;\n",
       "    }\n",
       "\n",
       "    .dataframe tbody tr th {\n",
       "        vertical-align: top;\n",
       "    }\n",
       "\n",
       "    .dataframe thead th {\n",
       "        text-align: right;\n",
       "    }\n",
       "</style>\n",
       "<table border=\"1\" class=\"dataframe\">\n",
       "  <thead>\n",
       "    <tr style=\"text-align: right;\">\n",
       "      <th></th>\n",
       "      <th>reviews.rating</th>\n",
       "    </tr>\n",
       "    <tr>\n",
       "      <th>primaryTopic</th>\n",
       "      <th></th>\n",
       "    </tr>\n",
       "  </thead>\n",
       "  <tbody>\n",
       "    <tr>\n",
       "      <th>0.0</th>\n",
       "      <td>4.077834</td>\n",
       "    </tr>\n",
       "    <tr>\n",
       "      <th>1.0</th>\n",
       "      <td>4.363873</td>\n",
       "    </tr>\n",
       "    <tr>\n",
       "      <th>2.0</th>\n",
       "      <td>4.677932</td>\n",
       "    </tr>\n",
       "    <tr>\n",
       "      <th>3.0</th>\n",
       "      <td>4.503517</td>\n",
       "    </tr>\n",
       "    <tr>\n",
       "      <th>4.0</th>\n",
       "      <td>4.420276</td>\n",
       "    </tr>\n",
       "  </tbody>\n",
       "</table>\n",
       "</div>"
      ],
      "text/plain": [
       "              reviews.rating\n",
       "primaryTopic                \n",
       "0.0                 4.077834\n",
       "1.0                 4.363873\n",
       "2.0                 4.677932\n",
       "3.0                 4.503517\n",
       "4.0                 4.420276"
      ]
     },
     "execution_count": 35,
     "metadata": {},
     "output_type": "execute_result"
    }
   ],
   "source": [
    "df['primaryTopic'] = topics.idxmax(axis=1)\n",
    "df[['primaryTopic', 'reviews.rating']].groupby('primaryTopic').mean()"
   ]
  },
  {
   "cell_type": "code",
   "execution_count": 36,
   "metadata": {},
   "outputs": [
    {
     "data": {
      "image/png": "[encoded data removed]",
      "text/plain": [
       "<Figure size 432x288 with 1 Axes>"
      ]
     },
     "metadata": {
      "needs_background": "light"
     },
     "output_type": "display_data"
    }
   ],
   "source": [
    "ax = sns.boxplot(x=\"primaryTopic\", y=\"reviews.rating\",\n",
    "                 data=df)"
   ]
  },
  {
   "cell_type": "markdown",
   "metadata": {},
   "source": [
    "## Stretch Goals\n",
    "\n",
    "* Incorporate Named Entity Recognition in your analysis\n",
    "* Incorporate some custom pre-processing from our previous lessons (like spacy lemmatization)\n",
    "* Analyze a dataset of interest to you with topic modeling"
   ]
  }
 ],
 "metadata": {
  "kernelspec": {
   "display_name": "U4-S1-NLP (Python3)",
   "language": "python",
   "name": "u4-s1-nlp"
  },
  "language_info": {
   "codemirror_mode": {
    "name": "ipython",
    "version": 3
   },
   "file_extension": ".py",
   "mimetype": "text/x-python",
   "name": "python",
   "nbconvert_exporter": "python",
   "pygments_lexer": "ipython3",
   "version": "3.7.0"
  }
 },
 "nbformat": 4,
 "nbformat_minor": 4
}
