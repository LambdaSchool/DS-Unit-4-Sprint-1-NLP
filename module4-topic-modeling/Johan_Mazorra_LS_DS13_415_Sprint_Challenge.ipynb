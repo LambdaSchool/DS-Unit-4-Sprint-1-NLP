{
 "cells": [
  {
   "cell_type": "markdown",
   "metadata": {},
   "source": [
    "<img align=\"left\" src=\"https://lever-client-logos.s3.amazonaws.com/864372b1-534c-480e-acd5-9711f850815c-1524247202159.png\" width=200>\n",
    "<br></br>\n",
    "<br></br>\n",
    "\n",
    "# Sprint Challenge\n",
    "## *Data Science Unit 4 Sprint 1*\n",
    "\n",
    "After a week of Natural Language Processing, you've learned some cool new stuff: how to process text, how turn text into vectors, and how to model topics from documents. Apply your newly acquired skills to one of the most famous NLP datasets out there: [Yelp](https://www.yelp.com/dataset/challenge). As part of the job selection process, some of my friends have been asked to create analysis of this dataset, so I want to empower you to have a head start.  \n",
    "\n",
    "The real dataset is massive (almost 8 gigs uncompressed). I've sampled the data for you to something more managable for the Sprint Challenge. You can analyze the full dataset as a stretch goal or after the sprint challenge. As you work on the challenge, I suggest adding notes about your findings and things you want to analyze in the future.\n",
    "\n",
    "## Challenge Objectives\n",
    "*Successfully complete these all these objectives to earn a 2. There are more details on each objective further down in the notebook.*\n",
    "* <a href=\"#p1\">Part 1</a>: Write a function to tokenize the yelp reviews\n",
    "* <a href=\"#p2\">Part 2</a>: Create a vector representation of those tokens\n",
    "* <a href=\"#p3\">Part 3</a>: Use your tokens in a classification model on yelp rating\n",
    "* <a href=\"#p4\">Part 4</a>: Estimate & Interpret a topic model of the Yelp reviews"
   ]
  },
  {
   "cell_type": "code",
   "execution_count": 124,
   "metadata": {},
   "outputs": [],
   "source": [
    "import pandas as pd\n",
    "import seaborn as sns\n",
    "import re\n",
    "import spacy\n",
    "import matplotlib.pyplot as plt\n",
    "from sklearn.feature_extraction.text import CountVectorizer\n",
    "from sklearn.neighbors import NearestNeighbors\n",
    "from sklearn.pipeline import Pipeline\n",
    "from sklearn.ensemble import RandomForestClassifier\n",
    "from sklearn.model_selection import GridSearchCV\n",
    "from gensim.models import LdaMulticore\n",
    "from gensim.corpora import Dictionary\n",
    "from gensim import corpora\n",
    "import pyLDAvis.gensim"
   ]
  },
  {
   "cell_type": "code",
   "execution_count": 1,
   "metadata": {},
   "outputs": [],
   "source": [
    "yelp = pd.read_json('review_sample.json', lines=True)"
   ]
  },
  {
   "cell_type": "code",
   "execution_count": 2,
   "metadata": {},
   "outputs": [
    {
     "data": {
      "text/html": [
       "<div>\n",
       "<style scoped>\n",
       "    .dataframe tbody tr th:only-of-type {\n",
       "        vertical-align: middle;\n",
       "    }\n",
       "\n",
       "    .dataframe tbody tr th {\n",
       "        vertical-align: top;\n",
       "    }\n",
       "\n",
       "    .dataframe thead th {\n",
       "        text-align: right;\n",
       "    }\n",
       "</style>\n",
       "<table border=\"1\" class=\"dataframe\">\n",
       "  <thead>\n",
       "    <tr style=\"text-align: right;\">\n",
       "      <th></th>\n",
       "      <th>business_id</th>\n",
       "      <th>cool</th>\n",
       "      <th>date</th>\n",
       "      <th>funny</th>\n",
       "      <th>review_id</th>\n",
       "      <th>stars</th>\n",
       "      <th>text</th>\n",
       "      <th>useful</th>\n",
       "      <th>user_id</th>\n",
       "    </tr>\n",
       "  </thead>\n",
       "  <tbody>\n",
       "    <tr>\n",
       "      <th>0</th>\n",
       "      <td>nDuEqIyRc8YKS1q1fX0CZg</td>\n",
       "      <td>1</td>\n",
       "      <td>2015-03-31 16:50:30</td>\n",
       "      <td>0</td>\n",
       "      <td>eZs2tpEJtXPwawvHnHZIgQ</td>\n",
       "      <td>1</td>\n",
       "      <td>BEWARE!!! FAKE, FAKE, FAKE....We also own a sm...</td>\n",
       "      <td>10</td>\n",
       "      <td>n1LM36qNg4rqGXIcvVXv8w</td>\n",
       "    </tr>\n",
       "    <tr>\n",
       "      <th>1</th>\n",
       "      <td>eMYeEapscbKNqUDCx705hg</td>\n",
       "      <td>0</td>\n",
       "      <td>2015-12-16 05:31:03</td>\n",
       "      <td>0</td>\n",
       "      <td>DoQDWJsNbU0KL1O29l_Xug</td>\n",
       "      <td>4</td>\n",
       "      <td>Came here for lunch Togo. Service was quick. S...</td>\n",
       "      <td>0</td>\n",
       "      <td>5CgjjDAic2-FAvCtiHpytA</td>\n",
       "    </tr>\n",
       "    <tr>\n",
       "      <th>2</th>\n",
       "      <td>6Q7-wkCPc1KF75jZLOTcMw</td>\n",
       "      <td>1</td>\n",
       "      <td>2010-06-20 19:14:48</td>\n",
       "      <td>1</td>\n",
       "      <td>DDOdGU7zh56yQHmUnL1idQ</td>\n",
       "      <td>3</td>\n",
       "      <td>I've been to Vegas dozens of times and had nev...</td>\n",
       "      <td>2</td>\n",
       "      <td>BdV-cf3LScmb8kZ7iiBcMA</td>\n",
       "    </tr>\n",
       "    <tr>\n",
       "      <th>3</th>\n",
       "      <td>k3zrItO4l9hwfLRwHBDc9w</td>\n",
       "      <td>3</td>\n",
       "      <td>2010-07-13 00:33:45</td>\n",
       "      <td>4</td>\n",
       "      <td>LfTMUWnfGFMOfOIyJcwLVA</td>\n",
       "      <td>1</td>\n",
       "      <td>We went here on a night where they closed off ...</td>\n",
       "      <td>5</td>\n",
       "      <td>cZZnBqh4gAEy4CdNvJailQ</td>\n",
       "    </tr>\n",
       "    <tr>\n",
       "      <th>4</th>\n",
       "      <td>6hpfRwGlOzbNv7k5eP9rsQ</td>\n",
       "      <td>1</td>\n",
       "      <td>2018-06-30 02:30:01</td>\n",
       "      <td>0</td>\n",
       "      <td>zJSUdI7bJ8PNJAg4lnl_Gg</td>\n",
       "      <td>4</td>\n",
       "      <td>3.5 to 4 stars\\n\\nNot bad for the price, $12.9...</td>\n",
       "      <td>5</td>\n",
       "      <td>n9QO4ClYAS7h9fpQwa5bhA</td>\n",
       "    </tr>\n",
       "  </tbody>\n",
       "</table>\n",
       "</div>"
      ],
      "text/plain": [
       "              business_id  cool                date  funny  \\\n",
       "0  nDuEqIyRc8YKS1q1fX0CZg     1 2015-03-31 16:50:30      0   \n",
       "1  eMYeEapscbKNqUDCx705hg     0 2015-12-16 05:31:03      0   \n",
       "2  6Q7-wkCPc1KF75jZLOTcMw     1 2010-06-20 19:14:48      1   \n",
       "3  k3zrItO4l9hwfLRwHBDc9w     3 2010-07-13 00:33:45      4   \n",
       "4  6hpfRwGlOzbNv7k5eP9rsQ     1 2018-06-30 02:30:01      0   \n",
       "\n",
       "                review_id  stars  \\\n",
       "0  eZs2tpEJtXPwawvHnHZIgQ      1   \n",
       "1  DoQDWJsNbU0KL1O29l_Xug      4   \n",
       "2  DDOdGU7zh56yQHmUnL1idQ      3   \n",
       "3  LfTMUWnfGFMOfOIyJcwLVA      1   \n",
       "4  zJSUdI7bJ8PNJAg4lnl_Gg      4   \n",
       "\n",
       "                                                text  useful  \\\n",
       "0  BEWARE!!! FAKE, FAKE, FAKE....We also own a sm...      10   \n",
       "1  Came here for lunch Togo. Service was quick. S...       0   \n",
       "2  I've been to Vegas dozens of times and had nev...       2   \n",
       "3  We went here on a night where they closed off ...       5   \n",
       "4  3.5 to 4 stars\\n\\nNot bad for the price, $12.9...       5   \n",
       "\n",
       "                  user_id  \n",
       "0  n1LM36qNg4rqGXIcvVXv8w  \n",
       "1  5CgjjDAic2-FAvCtiHpytA  \n",
       "2  BdV-cf3LScmb8kZ7iiBcMA  \n",
       "3  cZZnBqh4gAEy4CdNvJailQ  \n",
       "4  n9QO4ClYAS7h9fpQwa5bhA  "
      ]
     },
     "execution_count": 2,
     "metadata": {},
     "output_type": "execute_result"
    }
   ],
   "source": [
    "yelp.head()"
   ]
  },
  {
   "cell_type": "markdown",
   "metadata": {},
   "source": [
    "## Part 1: Tokenize Function\n",
    "<a id=\"#p1\"></a>\n",
    "\n",
    "Complete the function `tokenize`. Your function should\n",
    "- accept one document at a time\n",
    "- return a list of tokens\n",
    "\n",
    "You are free to use any method you have learned this week."
   ]
  },
  {
   "cell_type": "code",
   "execution_count": 3,
   "metadata": {},
   "outputs": [],
   "source": [
    "# Defining tokenize function.\n",
    "nlp = spacy.load(\"en_core_web_lg\")\n",
    "\n",
    "def tokenize(doc):\n",
    "    doc = nlp(doc)\n",
    "    tokens = []\n",
    "    for token in doc:\n",
    "        if ((token.is_stop == False) & (token.is_punct == False)) and (token.pos_!='PRON'):\n",
    "            tokens.append(token.lemma_)\n",
    "    \n",
    "    return tokens"
   ]
  },
  {
   "cell_type": "code",
   "execution_count": 4,
   "metadata": {},
   "outputs": [
    {
     "data": {
      "text/plain": [
       "['beware',\n",
       " 'fake',\n",
       " 'fake',\n",
       " 'fake',\n",
       " 'small',\n",
       " 'business',\n",
       " 'Los',\n",
       " 'Alamitos',\n",
       " 'receive',\n",
       " 'look',\n",
       " 'like',\n",
       " 'legitimate',\n",
       " 'bill',\n",
       " '$',\n",
       " '70',\n",
       " 'account',\n",
       " 'number',\n",
       " ' ',\n",
       " 'call',\n",
       " 'phone',\n",
       " 'number',\n",
       " 'list',\n",
       " '866',\n",
       " '273',\n",
       " '7934',\n",
       " ' ',\n",
       " 'wait',\n",
       " 'time',\n",
       " 'hold',\n",
       " 'say',\n",
       " '20',\n",
       " 'minute',\n",
       " 'leave',\n",
       " 'message',\n",
       " ' ',\n",
       " 'live',\n",
       " 'person',\n",
       " 'phone',\n",
       " 'matter',\n",
       " 'number',\n",
       " 'select',\n",
       " ' ',\n",
       " 'leave',\n",
       " 'firm',\n",
       " 'message',\n",
       " 'contact',\n",
       " 'BBB',\n",
       " 'attorney',\n",
       " 'company',\n",
       " 'try',\n",
       " 'scam',\n",
       " 'business',\n",
       " 'illegal']"
      ]
     },
     "execution_count": 4,
     "metadata": {},
     "output_type": "execute_result"
    }
   ],
   "source": [
    "tokenize(yelp.text[0])"
   ]
  },
  {
   "cell_type": "markdown",
   "metadata": {},
   "source": [
    "## Part 2: Vector Representation\n",
    "<a id=\"#p2\"></a>\n",
    "1. Create a vector representation of the reviews\n",
    "2. Write a fake review and query for the 10 most similiar reviews, print the text of the reviews. Do you notice any patterns?\n",
    "    - Given the size of the dataset, it will probably be best to use a `NearestNeighbors` model for this. "
   ]
  },
  {
   "cell_type": "code",
   "execution_count": 6,
   "metadata": {},
   "outputs": [],
   "source": [
    "text = list(yelp.text)\n",
    "\n",
    "# This creates the transformer.\n",
    "vect = CountVectorizer()\n",
    "\n",
    "vect.fit(text)\n",
    "\n",
    "# This transforms the text.\n",
    "dtm = vect.transform(text)"
   ]
  },
  {
   "cell_type": "code",
   "execution_count": 7,
   "metadata": {},
   "outputs": [
    {
     "data": {
      "text/html": [
       "<div>\n",
       "<style scoped>\n",
       "    .dataframe tbody tr th:only-of-type {\n",
       "        vertical-align: middle;\n",
       "    }\n",
       "\n",
       "    .dataframe tbody tr th {\n",
       "        vertical-align: top;\n",
       "    }\n",
       "\n",
       "    .dataframe thead th {\n",
       "        text-align: right;\n",
       "    }\n",
       "</style>\n",
       "<table border=\"1\" class=\"dataframe\">\n",
       "  <thead>\n",
       "    <tr style=\"text-align: right;\">\n",
       "      <th></th>\n",
       "      <th>00</th>\n",
       "      <th>000</th>\n",
       "      <th>001695</th>\n",
       "      <th>007</th>\n",
       "      <th>00a</th>\n",
       "      <th>00am</th>\n",
       "      <th>00ish</th>\n",
       "      <th>00pm</th>\n",
       "      <th>01</th>\n",
       "      <th>011802</th>\n",
       "      <th>...</th>\n",
       "      <th>誰も乗車しなくても</th>\n",
       "      <th>豆腐花</th>\n",
       "      <th>質問にも丁寧に答えてくれましたし</th>\n",
       "      <th>車好きさんには</th>\n",
       "      <th>這是一個不錯的選擇</th>\n",
       "      <th>運転しない</th>\n",
       "      <th>運転中も英語で指導があります</th>\n",
       "      <th>食べ物はうまい</th>\n",
       "      <th>餐後點了甜點</th>\n",
       "      <th>３時間後の便</th>\n",
       "    </tr>\n",
       "  </thead>\n",
       "  <tbody>\n",
       "    <tr>\n",
       "      <th>0</th>\n",
       "      <td>0</td>\n",
       "      <td>0</td>\n",
       "      <td>0</td>\n",
       "      <td>0</td>\n",
       "      <td>0</td>\n",
       "      <td>0</td>\n",
       "      <td>0</td>\n",
       "      <td>0</td>\n",
       "      <td>0</td>\n",
       "      <td>0</td>\n",
       "      <td>...</td>\n",
       "      <td>0</td>\n",
       "      <td>0</td>\n",
       "      <td>0</td>\n",
       "      <td>0</td>\n",
       "      <td>0</td>\n",
       "      <td>0</td>\n",
       "      <td>0</td>\n",
       "      <td>0</td>\n",
       "      <td>0</td>\n",
       "      <td>0</td>\n",
       "    </tr>\n",
       "    <tr>\n",
       "      <th>1</th>\n",
       "      <td>0</td>\n",
       "      <td>0</td>\n",
       "      <td>0</td>\n",
       "      <td>0</td>\n",
       "      <td>0</td>\n",
       "      <td>0</td>\n",
       "      <td>0</td>\n",
       "      <td>0</td>\n",
       "      <td>0</td>\n",
       "      <td>0</td>\n",
       "      <td>...</td>\n",
       "      <td>0</td>\n",
       "      <td>0</td>\n",
       "      <td>0</td>\n",
       "      <td>0</td>\n",
       "      <td>0</td>\n",
       "      <td>0</td>\n",
       "      <td>0</td>\n",
       "      <td>0</td>\n",
       "      <td>0</td>\n",
       "      <td>0</td>\n",
       "    </tr>\n",
       "    <tr>\n",
       "      <th>2</th>\n",
       "      <td>0</td>\n",
       "      <td>0</td>\n",
       "      <td>0</td>\n",
       "      <td>0</td>\n",
       "      <td>0</td>\n",
       "      <td>0</td>\n",
       "      <td>0</td>\n",
       "      <td>0</td>\n",
       "      <td>0</td>\n",
       "      <td>0</td>\n",
       "      <td>...</td>\n",
       "      <td>0</td>\n",
       "      <td>0</td>\n",
       "      <td>0</td>\n",
       "      <td>0</td>\n",
       "      <td>0</td>\n",
       "      <td>0</td>\n",
       "      <td>0</td>\n",
       "      <td>0</td>\n",
       "      <td>0</td>\n",
       "      <td>0</td>\n",
       "    </tr>\n",
       "    <tr>\n",
       "      <th>3</th>\n",
       "      <td>0</td>\n",
       "      <td>0</td>\n",
       "      <td>0</td>\n",
       "      <td>0</td>\n",
       "      <td>0</td>\n",
       "      <td>0</td>\n",
       "      <td>0</td>\n",
       "      <td>0</td>\n",
       "      <td>0</td>\n",
       "      <td>0</td>\n",
       "      <td>...</td>\n",
       "      <td>0</td>\n",
       "      <td>0</td>\n",
       "      <td>0</td>\n",
       "      <td>0</td>\n",
       "      <td>0</td>\n",
       "      <td>0</td>\n",
       "      <td>0</td>\n",
       "      <td>0</td>\n",
       "      <td>0</td>\n",
       "      <td>0</td>\n",
       "    </tr>\n",
       "    <tr>\n",
       "      <th>4</th>\n",
       "      <td>0</td>\n",
       "      <td>0</td>\n",
       "      <td>0</td>\n",
       "      <td>0</td>\n",
       "      <td>0</td>\n",
       "      <td>0</td>\n",
       "      <td>0</td>\n",
       "      <td>0</td>\n",
       "      <td>0</td>\n",
       "      <td>0</td>\n",
       "      <td>...</td>\n",
       "      <td>0</td>\n",
       "      <td>0</td>\n",
       "      <td>0</td>\n",
       "      <td>0</td>\n",
       "      <td>0</td>\n",
       "      <td>0</td>\n",
       "      <td>0</td>\n",
       "      <td>0</td>\n",
       "      <td>0</td>\n",
       "      <td>0</td>\n",
       "    </tr>\n",
       "  </tbody>\n",
       "</table>\n",
       "<p>5 rows × 27588 columns</p>\n",
       "</div>"
      ],
      "text/plain": [
       "   00  000  001695  007  00a  00am  00ish  00pm  01  011802  ...  誰も乗車しなくても  \\\n",
       "0   0    0       0    0    0     0      0     0   0       0  ...          0   \n",
       "1   0    0       0    0    0     0      0     0   0       0  ...          0   \n",
       "2   0    0       0    0    0     0      0     0   0       0  ...          0   \n",
       "3   0    0       0    0    0     0      0     0   0       0  ...          0   \n",
       "4   0    0       0    0    0     0      0     0   0       0  ...          0   \n",
       "\n",
       "   豆腐花  質問にも丁寧に答えてくれましたし  車好きさんには  這是一個不錯的選擇  運転しない  運転中も英語で指導があります  食べ物はうまい  \\\n",
       "0    0                 0        0          0      0               0        0   \n",
       "1    0                 0        0          0      0               0        0   \n",
       "2    0                 0        0          0      0               0        0   \n",
       "3    0                 0        0          0      0               0        0   \n",
       "4    0                 0        0          0      0               0        0   \n",
       "\n",
       "   餐後點了甜點  ３時間後の便  \n",
       "0       0       0  \n",
       "1       0       0  \n",
       "2       0       0  \n",
       "3       0       0  \n",
       "4       0       0  \n",
       "\n",
       "[5 rows x 27588 columns]"
      ]
     },
     "execution_count": 7,
     "metadata": {},
     "output_type": "execute_result"
    }
   ],
   "source": [
    "dtm = pd.DataFrame(dtm.todense(),columns=vect.get_feature_names())\n",
    "dtm.head()"
   ]
  },
  {
   "cell_type": "code",
   "execution_count": 8,
   "metadata": {},
   "outputs": [],
   "source": [
    "fake_review = ['The food was pretty good, but the service could use some work though.']"
   ]
  },
  {
   "cell_type": "code",
   "execution_count": 12,
   "metadata": {},
   "outputs": [
    {
     "data": {
      "text/plain": [
       "NearestNeighbors(algorithm='ball_tree', leaf_size=30, metric='minkowski',\n",
       "                 metric_params=None, n_jobs=None, n_neighbors=15, p=2,\n",
       "                 radius=1.0)"
      ]
     },
     "execution_count": 12,
     "metadata": {},
     "output_type": "execute_result"
    }
   ],
   "source": [
    "nn  = NearestNeighbors(n_neighbors=15, algorithm='ball_tree')\n",
    "nn.fit(dtm)"
   ]
  },
  {
   "cell_type": "code",
   "execution_count": 10,
   "metadata": {},
   "outputs": [],
   "source": [
    "# Let's transform the 'fake_review'.\n",
    "\n",
    "fake_review_transformed = vect.transform(fake_review)"
   ]
  },
  {
   "cell_type": "code",
   "execution_count": 11,
   "metadata": {},
   "outputs": [],
   "source": [
    "# Query using kneighbors. \n",
    "result = nn.kneighbors(fake_review_transformed.todense())"
   ]
  },
  {
   "cell_type": "code",
   "execution_count": 13,
   "metadata": {},
   "outputs": [
    {
     "name": "stdout",
     "output_type": "stream",
     "text": [
      "Joe gave me the beat service and good prices!\n",
      "The turn around date is great.\n",
      "I love YC's! Its really good for the price.\n",
      "While the food and drinks are okay the service is virtually nonexistent.\n",
      "The fries were a little soggy, but still good. Dr. Pepper was excellent!!!\n",
      "The chicken kabobs kick serious arse! Affordable, good service, quick!\n",
      "The food is always good. Plus kids eat free every Thursday!\n",
      "$25 for 2 weeks\n",
      "Best place everrrrr!!!\n",
      "Great place with terrible customer service. Specifically the hotel\n"
     ]
    }
   ],
   "source": [
    "for review_num in result[1][0]:\n",
    "    print(yelp.text[review_num])"
   ]
  },
  {
   "cell_type": "markdown",
   "metadata": {},
   "source": [
    "## Part 3: Classification\n",
    "<a id=\"#p3\"></a>\n",
    "Your goal in this section will be to predict `stars` from the review dataset. \n",
    "\n",
    "1. Create a piepline object with a sklearn `CountVectorizer` or `TfidfVector` and any sklearn classifier. Use that pipeline to estimate a model to predict `stars`. Use the Pipeline to predict a star rating for your fake review from Part 2. \n",
    "2. Tune the entire pipeline with a GridSearch"
   ]
  },
  {
   "cell_type": "code",
   "execution_count": 125,
   "metadata": {},
   "outputs": [],
   "source": [
    "# Let's create the Pipeline.\n",
    "\n",
    "vect = CountVectorizer()\n",
    "clf = RandomForestClassifier()\n",
    "\n",
    "# Let's set the parameters.\n",
    "params = {\n",
    "    'vect__max_df': stats.uniform(0.9, 1.0),\n",
    "    'clf__n_estimators': stats.randint(15, 100),\n",
    "    'clf__max_depth': (5, 10, 15, 20),\n",
    "    'clf__random_state': stats.randint(15, 35),\n",
    "    'clf__verbose': stats.randint(1, 10)\n",
    "}\n",
    "\n",
    "pipe = Pipeline([('vect', vect), ('clf', rfc)])"
   ]
  },
  {
   "cell_type": "code",
   "execution_count": 22,
   "metadata": {},
   "outputs": [
    {
     "name": "stdout",
     "output_type": "stream",
     "text": [
      "Fitting 5 folds for each of 54 candidates, totalling 270 fits\n"
     ]
    },
    {
     "name": "stderr",
     "output_type": "stream",
     "text": [
      "[Parallel(n_jobs=-1)]: Using backend LokyBackend with 4 concurrent workers.\n",
      "[Parallel(n_jobs=-1)]: Done  42 tasks      | elapsed:  1.0min\n",
      "[Parallel(n_jobs=-1)]: Done 192 tasks      | elapsed: 10.5min\n",
      "[Parallel(n_jobs=-1)]: Done 270 out of 270 | elapsed: 22.3min finished\n"
     ]
    },
    {
     "data": {
      "text/plain": [
       "GridSearchCV(cv=5, error_score=nan,\n",
       "             estimator=Pipeline(memory=None,\n",
       "                                steps=[('vect',\n",
       "                                        CountVectorizer(analyzer='word',\n",
       "                                                        binary=False,\n",
       "                                                        decode_error='strict',\n",
       "                                                        dtype=<class 'numpy.int64'>,\n",
       "                                                        encoding='utf-8',\n",
       "                                                        input='content',\n",
       "                                                        lowercase=True,\n",
       "                                                        max_df=1.0,\n",
       "                                                        max_features=None,\n",
       "                                                        min_df=1,\n",
       "                                                        ngram_range=(1, 1),\n",
       "                                                        preprocessor=None,\n",
       "                                                        stop_words=None,\n",
       "                                                        strip_accents=None,\n",
       "                                                        token_pattern='(?u)...\n",
       "                                                               n_estimators=100,\n",
       "                                                               n_jobs=None,\n",
       "                                                               oob_score=False,\n",
       "                                                               random_state=None,\n",
       "                                                               verbose=0,\n",
       "                                                               warm_start=False))],\n",
       "                                verbose=False),\n",
       "             iid='deprecated', n_jobs=-1,\n",
       "             param_grid={'clf__n_estimators': (10, 50, 100),\n",
       "                         'vect__max_df': (0.5, 0.75, 1.0),\n",
       "                         'vect__max_features': (100, 500, 1000),\n",
       "                         'vect__min_df': (0.02, 0.05)},\n",
       "             pre_dispatch='2*n_jobs', refit=True, return_train_score=False,\n",
       "             scoring=None, verbose=1)"
      ]
     },
     "execution_count": 22,
     "metadata": {},
     "output_type": "execute_result"
    }
   ],
   "source": [
    "# Let's instantiate the grid search and fit it.\n",
    "grid_search = GridSearchCV(pipe,parameters, cv=5, n_jobs=-1, verbose=1)\n",
    "grid_search.fit(yelp.text, yelp.stars)"
   ]
  },
  {
   "cell_type": "code",
   "execution_count": 23,
   "metadata": {},
   "outputs": [],
   "source": [
    "best_pipe = grid_search.best_estimator_"
   ]
  },
  {
   "cell_type": "code",
   "execution_count": 25,
   "metadata": {},
   "outputs": [
    {
     "data": {
      "text/plain": [
       "array([3])"
      ]
     },
     "execution_count": 25,
     "metadata": {},
     "output_type": "execute_result"
    }
   ],
   "source": [
    "best_pipe.predict(fake_review)"
   ]
  },
  {
   "cell_type": "markdown",
   "metadata": {},
   "source": [
    "## Part 4: Topic Modeling\n",
    "\n",
    "Let's find out what those yelp reviews are saying! :D\n",
    "\n",
    "1. Estimate a LDA topic model of the review text\n",
    "    - Keep the `iterations` parameter at or below 5 to reduce run time\n",
    "    - The `workers` parameter should match the number of physical cores on your machine.\n",
    "2. Create 1-2 visualizations of the results\n",
    "    - You can use the most important 3 words of a topic in relevant visualizations. Refer to yesterday's notebook to extract. \n",
    "3. In markdown, write 1-2 paragraphs of analysis on the results of your topic model\n",
    "\n",
    "__*Note*__: You can pass the DataFrame column of text reviews to gensim. You do not have to use a generator."
   ]
  },
  {
   "cell_type": "code",
   "execution_count": 31,
   "metadata": {},
   "outputs": [],
   "source": [
    "yelp_tokenized=[]\n",
    "for review in yelp.text:\n",
    "    yelp_tokenized.append(tokenize(review))"
   ]
  },
  {
   "cell_type": "code",
   "execution_count": 104,
   "metadata": {},
   "outputs": [
    {
     "data": {
      "text/plain": [
       "['go',\n",
       " 'night',\n",
       " 'close',\n",
       " 'street',\n",
       " 'party',\n",
       " 'good',\n",
       " 'actually',\n",
       " 'group',\n",
       " 'guy',\n",
       " 'pay',\n",
       " 'table',\n",
       " 'group',\n",
       " 'people',\n",
       " 'convince',\n",
       " 'picture',\n",
       " 'Facebook',\n",
       " 'place',\n",
       " 'lame']"
      ]
     },
     "execution_count": 104,
     "metadata": {},
     "output_type": "execute_result"
    }
   ],
   "source": [
    "yelp_tokenized[3]"
   ]
  },
  {
   "cell_type": "markdown",
   "metadata": {},
   "source": [
    "Learn the vocubalary of the yelp data:"
   ]
  },
  {
   "cell_type": "code",
   "execution_count": 105,
   "metadata": {},
   "outputs": [],
   "source": [
    "id2word = corpora.Dictionary(yelp_tokenized)"
   ]
  },
  {
   "cell_type": "markdown",
   "metadata": {},
   "source": [
    "Create a bag of words representation of the entire corpus"
   ]
  },
  {
   "cell_type": "code",
   "execution_count": 106,
   "metadata": {
    "inputHidden": false,
    "outputHidden": false
   },
   "outputs": [],
   "source": [
    "corpus = [id2word.doc2bow(review) for review in yelp_tokenized]"
   ]
  },
  {
   "cell_type": "markdown",
   "metadata": {},
   "source": [
    "Your LDA model should be ready for estimation: "
   ]
  },
  {
   "cell_type": "code",
   "execution_count": 115,
   "metadata": {
    "inputHidden": false,
    "outputHidden": false
   },
   "outputs": [],
   "source": [
    "lda = LdaMulticore(corpus=corpus,\n",
    "                   id2word=id2word,\n",
    "                   iterations=10,\n",
    "                   workers=4,\n",
    "                   num_topics=5 # You can change this parameter\n",
    "                  )"
   ]
  },
  {
   "cell_type": "markdown",
   "metadata": {},
   "source": [
    "Create 1-2 visualizations of the results"
   ]
  },
  {
   "cell_type": "code",
   "execution_count": 120,
   "metadata": {
    "inputHidden": false,
    "outputHidden": false
   },
   "outputs": [
    {
     "name": "stdout",
     "output_type": "stream",
     "text": [
      "------ Topic 0 ------\n",
      "like great service time order\n",
      "\n",
      "------ Topic 1 ------\n",
      "place great service come like\n",
      "\n",
      "------ Topic 2 ------\n",
      "\n",
      " food great love service\n",
      "\n",
      "------ Topic 3 ------\n",
      "service place great order like\n",
      "\n",
      "------ Topic 4 ------\n",
      "\n",
      " come food time order\n",
      "\n"
     ]
    }
   ],
   "source": [
    "def print_lda_topics(lda):\n",
    "    words = [re.findall(r'\"([^\"]*)\"',t[1]) for t in lda.print_topics()]\n",
    "    topics = [' '.join(t[5:10]) for t in words]\n",
    "    for id, t in enumerate(topics): \n",
    "        print(f\"------ Topic {id} ------\")\n",
    "        print(t, end=\"\\n\\n\")\n",
    "print_lda_topics(lda)"
   ]
  },
  {
   "cell_type": "code",
   "execution_count": 121,
   "metadata": {},
   "outputs": [],
   "source": [
    "pyLDAvis.enable_notebook()"
   ]
  },
  {
   "cell_type": "code",
   "execution_count": 122,
   "metadata": {},
   "outputs": [],
   "source": [
    "vis_data = pyLDAvis.gensim.prepare(lda, corpus, id2word)"
   ]
  },
  {
   "cell_type": "code",
   "execution_count": 123,
   "metadata": {},
   "outputs": [
    {
     "data": {
      "text/html": [
       "\n",
       "<link rel=\"stylesheet\" type=\"text/css\" href=\"https://cdn.rawgit.com/bmabey/pyLDAvis/files/ldavis.v1.0.0.css\">\n",
       "\n",
       "\n",
       "<div id=\"ldavis_el3586159470788963653388046\"></div>\n",
       "<script type=\"text/javascript\">\n",
       "\n",
       "var ldavis_el3586159470788963653388046_data = {\"mdsDat\": {\"x\": [-0.00852829968603417, 0.0013998576508898223, 0.0013559901146772222, 0.0006010666201213899, 0.005171385300345746], \"y\": [-0.0009292157915382555, 0.0015102029533064672, -0.005717994449296856, 0.006312601362377808, -0.00117559407484916], \"topics\": [1, 2, 3, 4, 5], \"cluster\": [1, 1, 1, 1, 1], \"Freq\": [24.01468276977539, 19.56838607788086, 19.361255645751953, 18.86549949645996, 18.19017219543457]}, \"tinfo\": {\"Term\": [\"\\n\\n\", \"good\", \" \", \"\\n\", \"look\", \"place\", \"time\", \"love\", \"like\", \"food\", \"know\", \"delicious\", \"get\", \"way\", \"price\", \"tell\", \"quality\", \"come\", \"make\", \"review\", \"amazing\", \"sushi\", \"clean\", \"check\", \"enjoy\", \"great\", \"restaurant\", \"burger\", \"hour\", \"roll\", \"kheer\", \"Daaayyuuummm\", \"Brookline\", \"palmas\", \"Rudy\", \"Caliente\", \"Colleen\", \"delicious\\u200b\", \"Puzzlemaster\", \"greenhouse\", \"Karen\", \"billing\", \"butterfly\", \"bai\", \"Heyyy\", \"dulce\", \"concha\", \"bookkeeping\", \"booster\", \"axle\", \"CCW\", \"Ireland\", \"donair\", \"negate\", \"priced\", \"wench\", \"tide\", \"restaurant.com\", \"Sheldon\", \"Filipino\", \"fresh\", \"costly\", \" \", \"excellent\", \"time\", \"sweet\", \"class\", \"say\", \"good\", \"small\", \"nice\", \"wait\", \"great\", \"food\", \"little\", \"try\", \"service\", \"minute\", \"think\", \"want\", \"ask\", \"area\", \"menu\", \"strip\", \"place\", \"$\", \"table\", \"come\", \"like\", \"customer\", \"order\", \"pretty\", \"find\", \"go\", \"\\n\\n\", \"take\", \"get\", \"\\n\", \"staff\", \"experience\", \"definitely\", \"love\", \"look\", \"Brookstone\", \"YC\", \"cutest\", \"romper\", \"Elaine\", \"intelligently\", \"bathing\", \"Schwartz\", \"Dental\", \"bra\", \"froide\", \"iphone\", \"Adventure\", \"Talia\", \"Aryon\", \"scrabble\", \"Lucy\", \"Environmental\", \"Styles\", \"nipply\", \"satisfyingly\", \"racerback\", \"transluscent\", \"phone\\\"hello\", \"inversion\", \"n'ai\", \"Roxton\", \"dahl\", \"indefinitely\", \".worth\", \"chop\", \"Pam\", \"roll\", \"love\", \"cheese\", \"burger\", \"visit\", \"soon\", \"waffle\", \"staff\", \"friendly\", \"come\", \"right\", \"nail\", \"place\", \"dish\", \"lot\", \"\\n\", \"\\n\\n\", \"enjoy\", \"awesome\", \"bar\", \"definitely\", \"night\", \"super\", \" \", \"warm\", \"price\", \"drink\", \"happy\", \"way\", \"people\", \"take\", \"good\", \"find\", \"try\", \"little\", \"get\", \"go\", \"order\", \"great\", \"service\", \"food\", \"want\", \"nice\", \"time\", \"like\", \"work\", \"day\", \"wait\", \"$\", \"Delivary\", \"paced\", \"posoleshawwty\", \"Paperjoy\", \"Lydia\", \"Donny\", \"momma\", \"amature\", \"Kang\", \"huge-\", \"cos\", \"Cary\", \"dolci\", \"Greenway\", \"Shatangi\", \"arse\", \"Char\", \"somethjng\", \"livraison\", \"Sixt\", \"everrr\", \"Boneless\", \"boom\", \"Simplified\", \"ny\", \"libretto\", \"AVEDA\", \"Guys\", \"Roof\", \"Hoagies\", \"purchase\", \"pasta\", \"good\", \"review\", \"blonde\", \"\\n\\n\", \"make\", \"quality\", \"cake\", \"car\", \"hotel\", \"waitress\", \"finish\", \"cost\", \"customer\", \"hair\", \"adult\", \"restaurant\", \"new\", \"price\", \"not\", \"cool\", \"know\", \"line\", \"point\", \"well\", \"want\", \" \", \"bring\", \"like\", \"chicken\", \"offer\", \"enjoy\", \"try\", \"order\", \"work\", \"food\", \"get\", \"great\", \"delicious\", \"service\", \"\\n\", \"need\", \"place\", \"go\", \"time\", \"come\", \"take\", \"tell\", \"find\", \"definitely\", \"$\", \"love\", \"look\", \"eat\", \"insectarium\", \"Darlene\", \"\\u5929\\u6c23\\u5f88\\u71b1\\u5403\\u4e0d\\u4e0b\\u6771\\u897f\\uff0c\\u4eca\\u5929\\u6211\\u9ede\\u4e86\\u4e00\\u500b\\u97d3\\u570b\\u51b7\\u9762\\u6e6f\\u3001\\u9910\\u5f8c\\u9ede\\u4e86\\u751c\\u9ede\\uff0c\\u51b0\\u6c99\\u7cfb\\u5217\\u4e0d\\u6703\\u592a\\u751c\\u81a9\\uff0c\\u89ba\\u5f97\\u5e97\\u5bb6\\u5f88\\u7528\\u5fc3\\u88fd\\u4f5c\\uff0c\\u5305\\u542b\\u64fa\\u76e4\\u7cbe\\u7dfb\\u3001\\u4f50\\u6599\\u885b\\u751f\\uff0c\\u590f\\u65e5\\u60f3\\u958b\\u80c3\\uff0c\\u9019\\u662f\\u4e00\\u500b\\u4e0d\\u932f\\u7684\\u9078\\u64c7\\uff0c\\u670d\\u52d9\\u4eba\\u54e1\\u4e5f\\u5f88\\u656c\\u696d\\uff0c\\u4ee5\\u5f8c\\u6703\\u5e38\\u5e38\\u4f86\", \"fridendly\", \"pottery\", \"shoooz\", \"botanical\", \"stance\", \"whooper\", \"macncheese\", \"Matthew\", \"really??all\", \"luddite\", \"butmstill\", \"fetish\", \"1.5h\", \"Falcon\", \"tikki\", \"Riaz\", \"Quiznos\", \"accueillant\", \"J.\", \"shoots.but\", \"Aknowledgement\", \"chaat\", \"waiste\", \"wtf???close\", \"Jeannette\", \"CES\", \"Destini\", \"Greater\", \"fungus\", \"licensed\", \"woman\", \"Chapli\", \"battery\", \"truly\", \"clean\", \"\\n\", \"like\", \"place\", \"coffee\", \"bean\", \" \", \"outstanding\", \"People\", \"great\", \"get\", \"dinner\", \"bad\", \"delicious\", \"come\", \"awesome\", \"look\", \"flavor\", \"hot\", \"highly\", \"order\", \"love\", \"lunch\", \"$\", \"go\", \"eat\", \"thank\", \"guy\", \"time\", \"location\", \"know\", \"tell\", \"\\n\\n\", \"food\", \"service\", \"work\", \"nice\", \"need\", \"drink\", \"recommend\", \"try\", \"good\", \"ask\", \"find\", \"want\", \"imcomplete\", \"Ev36\", \"Jina\", \"huervos\", \"TSO\", \"Kristy\", \"Jeffery\", \"demonic\", \"chintzy\", \"Elmer\", \"rancho\", \"JLO\", \"mikes\", \"ridgeville\", \"FCP\", \"fetta\", \"DR\", \"barley\", \"fluffiest\", \"balloon\", \"Galley\", \"uniform\", \"Deliverance\", \"Mexicanos\", \"pam\", \"Vito\", \"Suzi\", \"Solomon\", \"wattery\", \"jiaozi\", \"Miku\", \"Ray\", \"Renee\", \"Gabe\", \"3.5\", \"look\", \"sushi\", \"sign\", \"wine\", \"extremely\", \"\\n\\n\", \"food\", \"cute\", \"tell\", \"know\", \"cheap\", \"wish\", \"easy\", \"soup\", \"service\", \"hour\", \"time\", \"amazing\", \"go\", \"friend\", \"taste\", \"green\", \"get\", \"way\", \"$\", \"special\", \"need\", \"order\", \"experience\", \"restaurant\", \"day\", \"price\", \"wait\", \"like\", \"ask\", \"drink\", \"come\", \" \", \"great\", \"good\", \"place\", \"love\", \"\\n\", \"try\", \"nice\", \"work\"], \"Freq\": [8137.0, 6095.0, 13810.0, 3050.0, 1901.0, 5070.0, 4137.0, 2150.0, 3637.0, 4748.0, 1623.0, 1137.0, 2777.0, 1111.0, 1704.0, 1466.0, 647.0, 3758.0, 592.0, 882.0, 1293.0, 457.0, 857.0, 904.0, 864.0, 4132.0, 1622.0, 625.0, 938.0, 525.0, 2.066601514816284, 1.9672261476516724, 1.939680576324463, 1.8985835313796997, 2.605782985687256, 3.1192595958709717, 1.782175064086914, 1.7032862901687622, 1.69712495803833, 2.050924301147461, 1.6491559743881226, 9.076505661010742, 1.615115761756897, 0.8341256976127625, 0.8259469866752625, 4.067715644836426, 1.5584434270858765, 1.5439382791519165, 1.527504801750183, 1.8450782299041748, 1.8382192850112915, 0.7912656664848328, 3.19645094871521, 1.8320262432098389, 1.1095412969589233, 1.5040150880813599, 1.5044059753417969, 1.4122768640518188, 1.7953640222549438, 1.790038824081421, 351.9306640625, 3.2875752449035645, 4517.44921875, 243.58323669433594, 1398.1312255859375, 225.6638641357422, 81.38119506835938, 509.5782470703125, 1855.3270263671875, 292.5056457519531, 567.3624267578125, 528.2482299804688, 1253.4447021484375, 1412.587890625, 437.827880859375, 745.4609985351562, 1040.0084228515625, 325.9762268066406, 441.9743347167969, 531.188232421875, 449.63385009765625, 259.6257629394531, 384.8931579589844, 104.82841491699219, 1256.1431884765625, 593.167724609375, 328.9026184082031, 930.9073486328125, 891.6788940429688, 317.17193603515625, 806.3623657226562, 298.6954040527344, 415.47296142578125, 700.9628295898438, 1472.58740234375, 376.2027282714844, 551.6644897460938, 580.3716430664062, 384.87530517578125, 366.3834228515625, 359.0559387207031, 392.9289245605469, 366.3141784667969, 1.6523162126541138, 0.8261780142784119, 1.5689839124679565, 1.5405038595199585, 1.1110767126083374, 1.48540461063385, 1.4517902135849, 5.051159381866455, 3.28831148147583, 8.513155937194824, 1.4235249757766724, 1.4181368350982666, 1.4167691469192505, 1.4040149450302124, 1.3847442865371704, 1.3642948865890503, 2.1439270973205566, 1.342078685760498, 2.231872797012329, 1.3184082508087158, 1.591892123222351, 1.3070595264434814, 0.6798615455627441, 1.298418402671814, 1.2950972318649292, 1.5658880472183228, 1.2781081199645996, 1.2767822742462158, 1.2578456401824951, 1.2544618844985962, 26.61255645751953, 2.081547260284424, 162.55857849121094, 601.1652221679688, 218.05662536621094, 180.79100036621094, 240.9381866455078, 74.46449279785156, 32.096160888671875, 391.3222961425781, 344.31658935546875, 872.1744384765625, 274.4937744140625, 101.09065246582031, 1108.99951171875, 218.7451171875, 270.9388122558594, 699.9564819335938, 1665.6571044921875, 224.6644287109375, 170.7980194091797, 254.9710693359375, 337.7460021972656, 250.48165893554688, 166.03292846679688, 2465.1025390625, 71.37842559814453, 385.4989929199219, 317.5440673828125, 174.41021728515625, 264.02642822265625, 304.43701171875, 324.9385986328125, 1077.095947265625, 336.4465026855469, 490.2538757324219, 302.5372619628906, 528.7459106445312, 547.9925537109375, 574.39501953125, 659.1076049804688, 594.8239135742188, 692.4317016601562, 354.46160888671875, 341.6626281738281, 544.0205688476562, 506.3371887207031, 307.6359558105469, 300.6349182128906, 310.646240234375, 335.2245178222656, 1.808049201965332, 2.167351007461548, 1.5506690740585327, 2.5442681312561035, 1.8102725744247437, 0.7764146327972412, 1.479981541633606, 1.4406691789627075, 2.0549213886260986, 0.7330588698387146, 1.3959895372390747, 1.380134105682373, 1.3527908325195312, 1.9327553510665894, 0.9938123226165771, 0.974677324295044, 1.309281826019287, 0.6799469590187073, 1.2876403331756592, 2.147648572921753, 1.5335606336593628, 1.786504864692688, 2.3141682147979736, 1.2468129396438599, 1.5102652311325073, 0.6487947106361389, 1.2404158115386963, 2.5783238410949707, 2.6772806644439697, 1.202231764793396, 97.11817169189453, 56.82502365112305, 1711.8675537109375, 263.0999450683594, 10.945765495300293, 2023.5712890625, 175.74501037597656, 190.5301971435547, 67.74169921875, 190.96823120117188, 136.9525909423828, 131.59393310546875, 94.90390014648438, 71.5175552368164, 285.79071044921875, 109.71320343017578, 22.54026985168457, 394.1608581542969, 266.560546875, 406.8216247558594, 81.55073547363281, 107.17328643798828, 374.3207092285156, 151.89376831054688, 107.5553970336914, 221.37014770507812, 393.0157165527344, 2346.8134765625, 172.22149658203125, 716.0306396484375, 263.4253845214844, 155.41311645507812, 205.9683074951172, 485.64923095703125, 612.2269287109375, 314.15380859375, 811.7055053710938, 521.381103515625, 697.1767578125, 254.6819305419922, 623.0869140625, 542.767333984375, 283.81500244140625, 771.5535888671875, 516.773681640625, 614.57568359375, 567.4390869140625, 293.33819580078125, 294.032470703125, 300.8696594238281, 282.4908752441406, 338.06646728515625, 323.587158203125, 299.4851379394531, 284.530517578125, 1.708911657333374, 1.6578277349472046, 0.8358074426651001, 1.6020148992538452, 2.19777512550354, 0.8320682644844055, 1.916194200515747, 1.556340217590332, 0.8143912553787231, 1.419758915901184, 1.6921424865722656, 0.728423535823822, 1.372272253036499, 1.3143274784088135, 2.193058490753174, 1.2841641902923584, 1.2788721323013306, 1.4766154289245605, 1.2615934610366821, 1.7928457260131836, 1.2531026601791382, 1.520076036453247, 0.6520654559135437, 0.6492182612419128, 0.9117100238800049, 0.6478238105773926, 0.6453554630279541, 0.6440281271934509, 0.6422496438026428, 1.2254160642623901, 1.220036506652832, 2.027972936630249, 2.011186361312866, 48.751953125, 1.2101885080337524, 11.609333038330078, 61.231651306152344, 241.0692596435547, 791.8922729492188, 907.1138305664062, 1209.446044921875, 165.9076385498047, 62.24238586425781, 2884.031494140625, 37.44736862182617, 19.01155662536621, 893.3822021484375, 612.07421875, 174.07017517089844, 284.3493957519531, 271.5696716308594, 785.3270874023438, 161.68295288085938, 423.0204162597656, 179.2598114013672, 140.7956085205078, 134.53289794921875, 671.1810302734375, 454.6506042480469, 179.52267456054688, 452.337890625, 593.9163818359375, 321.47808837890625, 140.9879608154297, 152.7827606201172, 746.5532836914062, 213.1341094970703, 333.1212158203125, 301.4009704589844, 1178.340576171875, 764.8567504882812, 578.0513916015625, 287.6125793457031, 323.9062805175781, 262.3030090332031, 262.04595947265625, 261.2808837890625, 366.9233093261719, 618.7904663085938, 269.7832946777344, 275.97021484375, 261.293701171875, 2.1491475105285645, 1.9136298894882202, 1.700162410736084, 1.5683250427246094, 1.4878164529800415, 0.7769051790237427, 0.7537796497344971, 1.739057183265686, 1.3901371955871582, 1.3774728775024414, 1.643140196800232, 0.9936827421188354, 1.3462095260620117, 1.2513412237167358, 1.2345693111419678, 0.6406837105751038, 2.523263931274414, 1.2151877880096436, 0.6312474012374878, 14.704086303710938, 3.626695394515991, 3.568662405014038, 1.177258014678955, 0.616435706615448, 0.6157853007316589, 1.4217910766601562, 4.357811450958252, 0.6142211556434631, 0.6122242212295532, 1.1565028429031372, 2.1965575218200684, 6.4611358642578125, 2.6858010292053223, 6.001037120819092, 14.799386978149414, 514.033203125, 132.47549438476562, 75.47958374023438, 120.23485565185547, 102.81375122070312, 1797.4937744140625, 1067.004150390625, 56.23865509033203, 355.3395690917969, 388.25445556640625, 93.29598999023438, 88.05952453613281, 81.4088363647461, 124.4220199584961, 749.5606689453125, 225.06080627441406, 834.0145874023438, 294.1767272949219, 611.023193359375, 240.00022888183594, 254.32215881347656, 79.34478759765625, 563.8193359375, 252.5160675048828, 450.7361145019531, 149.93707275390625, 287.07794189453125, 627.32666015625, 300.54071044921875, 333.7874755859375, 304.14874267578125, 341.44122314453125, 327.4714660644531, 616.3013305664062, 295.215576171875, 277.5747375488281, 602.957763671875, 1596.7960205078125, 629.3378295898438, 831.9447021484375, 724.1451416015625, 378.4533996582031, 435.94317626953125, 374.8727722167969, 305.89093017578125, 284.6582336425781], \"Total\": [8137.0, 6095.0, 13810.0, 3050.0, 1901.0, 5070.0, 4137.0, 2150.0, 3637.0, 4748.0, 1623.0, 1137.0, 2777.0, 1111.0, 1704.0, 1466.0, 647.0, 3758.0, 592.0, 882.0, 1293.0, 457.0, 857.0, 904.0, 864.0, 4132.0, 1622.0, 625.0, 938.0, 525.0, 3.1253726482391357, 3.1204161643981934, 3.1224772930145264, 3.1204895973205566, 4.297553062438965, 5.280071258544922, 3.119771957397461, 3.117790699005127, 3.120297908782959, 3.779421329498291, 3.1146833896636963, 17.18056297302246, 3.108384132385254, 1.6309278011322021, 1.630664348602295, 8.08272933959961, 3.1127796173095703, 3.1180343627929688, 3.107225179672241, 3.772642135620117, 3.7799134254455566, 1.6292839050292969, 6.583800792694092, 3.7751646041870117, 2.2935357093811035, 3.1119301319122314, 3.11362361907959, 2.957770586013794, 3.7739038467407227, 3.776627779006958, 921.0031127929688, 7.0894575119018555, 13810.1923828125, 645.1806030273438, 4137.29541015625, 607.979736328125, 211.63792419433594, 1489.9599609375, 6095.02587890625, 852.8961181640625, 1743.275390625, 1625.1591796875, 4132.44921875, 4748.5859375, 1364.2071533203125, 2463.16015625, 3585.53125, 1016.8839111328125, 1422.3660888671875, 1753.054443359375, 1458.85986328125, 798.4712524414062, 1247.0643310546875, 295.6833190917969, 5070.28759765625, 2169.53271484375, 1108.7674560546875, 3758.805908203125, 3637.4619140625, 1094.01513671875, 3291.491943359375, 1024.3291015625, 1541.853759765625, 2970.668701171875, 8137.64990234375, 1434.724853515625, 2777.68505859375, 3050.930908203125, 1515.0347900390625, 1415.76904296875, 1396.195068359375, 2150.785400390625, 1901.842041015625, 3.07675838470459, 1.6114126443862915, 3.078126907348633, 3.0722970962524414, 2.269886016845703, 3.0779645442962646, 3.076322078704834, 10.763421058654785, 7.022134304046631, 18.307090759277344, 3.081592321395874, 3.0742557048797607, 3.0788674354553223, 3.0756921768188477, 3.083804130554199, 3.0838615894317627, 4.897154331207275, 3.0872397422790527, 5.215579986572266, 3.0828285217285156, 3.7393343448638916, 3.0835623741149902, 1.6136471033096313, 3.0846779346466064, 3.0832722187042236, 3.7450008392333984, 3.085186243057251, 3.085279941558838, 3.0855793952941895, 3.088817834854126, 72.52271270751953, 5.218851089477539, 525.6489868164062, 2150.785400390625, 741.853515625, 625.3681640625, 869.0567016601562, 245.77761840820312, 98.56974792480469, 1515.0347900390625, 1353.5115966796875, 3758.805908203125, 1056.0992431640625, 354.0766296386719, 5070.28759765625, 836.5360107421875, 1061.4395751953125, 3050.930908203125, 8137.64990234375, 864.4210815429688, 639.7304077148438, 1005.262939453125, 1396.195068359375, 999.4773559570312, 630.2932739257812, 13810.1923828125, 244.65631103515625, 1704.21240234375, 1367.6571044921875, 686.1058959960938, 1111.6744384765625, 1325.87548828125, 1434.724853515625, 6095.02587890625, 1541.853759765625, 2463.16015625, 1364.2071533203125, 2777.68505859375, 2970.668701171875, 3291.491943359375, 4132.44921875, 3585.53125, 4748.5859375, 1753.054443359375, 1743.275390625, 4137.29541015625, 3637.4619140625, 1467.16259765625, 1464.92333984375, 1625.1591796875, 2169.53271484375, 3.082674980163574, 3.7418413162231445, 3.0826563835144043, 5.215877056121826, 3.7490787506103516, 1.617215633392334, 3.0852572917938232, 3.0883896350860596, 4.408133506774902, 1.6157628297805786, 3.08880352973938, 3.0816330909729004, 3.076735734939575, 4.416967868804932, 2.2749149799346924, 2.2760941982269287, 3.084566593170166, 1.616036295890808, 3.094510316848755, 5.219574451446533, 3.744002342224121, 4.405511856079102, 5.7214813232421875, 3.0903193950653076, 3.7439563274383545, 1.6177237033843994, 3.0943779945373535, 6.538318157196045, 6.886991024017334, 3.093104839324951, 273.70318603515625, 168.8047332763672, 6095.02587890625, 882.4342651367188, 30.52410125732422, 8137.64990234375, 592.2655029296875, 647.8367919921875, 214.35340881347656, 665.641357421875, 472.0796203613281, 452.553955078125, 321.6521301269531, 237.05621337890625, 1094.01513671875, 384.53778076171875, 68.63736724853516, 1622.102783203125, 1056.303466796875, 1704.21240234375, 288.7625427246094, 394.5782775878906, 1623.567138671875, 586.7691650390625, 397.92388916015625, 910.169677734375, 1753.054443359375, 13810.1923828125, 690.1588134765625, 3637.4619140625, 1153.6719970703125, 617.9140014648438, 864.4210815429688, 2463.16015625, 3291.491943359375, 1467.16259765625, 4748.5859375, 2777.68505859375, 4132.44921875, 1137.15771484375, 3585.53125, 3050.930908203125, 1321.64453125, 5070.28759765625, 2970.668701171875, 4137.29541015625, 3758.805908203125, 1434.724853515625, 1466.8353271484375, 1541.853759765625, 1396.195068359375, 2169.53271484375, 2150.785400390625, 1901.842041015625, 1494.811279296875, 3.0921847820281982, 3.099919557571411, 1.6194549798965454, 3.1063976287841797, 4.2660136222839355, 1.6222100257873535, 3.753077983856201, 3.0949201583862305, 1.6219054460525513, 3.1013402938842773, 3.751157283782959, 1.622359275817871, 3.092189311981201, 3.1026418209075928, 5.227677345275879, 3.0933620929718018, 3.1003193855285645, 3.6028544902801514, 3.101515531539917, 4.422083377838135, 3.0983006954193115, 3.759061813354492, 1.6210649013519287, 1.6201001405715942, 2.2806246280670166, 1.6222087144851685, 1.6214103698730469, 1.6236246824264526, 1.620987892150879, 3.0993456840515137, 3.096251964569092, 5.225364685058594, 5.227110862731934, 142.34613037109375, 3.106180191040039, 33.65534210205078, 199.1006317138672, 857.0400390625, 3050.930908203125, 3637.4619140625, 5070.28759765625, 600.595947265625, 210.865478515625, 13810.1923828125, 123.81416320800781, 58.91139221191406, 4132.44921875, 2777.68505859375, 689.1489868164062, 1196.424072265625, 1137.15771484375, 3758.805908203125, 639.7304077148438, 1901.842041015625, 725.7630615234375, 554.4932861328125, 527.910888671875, 3291.491943359375, 2150.785400390625, 742.082275390625, 2169.53271484375, 2970.668701171875, 1494.811279296875, 568.4390869140625, 629.2183837890625, 4137.29541015625, 934.5499267578125, 1623.567138671875, 1466.8353271484375, 8137.64990234375, 4748.5859375, 3585.53125, 1467.16259765625, 1743.275390625, 1321.64453125, 1367.6571044921875, 1365.64453125, 2463.16015625, 6095.02587890625, 1458.85986328125, 1541.853759765625, 1753.054443359375, 3.097202777862549, 3.0933680534362793, 3.0917701721191406, 3.1009678840637207, 3.084273338317871, 1.6203876733779907, 1.6188149452209473, 3.7446670532226562, 3.0907063484191895, 3.0962696075439453, 3.7569079399108887, 2.2804818153381348, 3.0907278060913086, 3.106804609298706, 3.0909130573272705, 1.6196470260620117, 6.395600318908691, 3.089477062225342, 1.6192269325256348, 38.27952575683594, 9.496129989624023, 9.356122016906738, 3.0920863151550293, 1.6195464134216309, 1.6205005645751953, 3.7479748725891113, 11.497199058532715, 1.6213955879211426, 1.6217970848083496, 3.0938339233398438, 5.894741058349609, 18.144521713256836, 7.369318008422852, 16.954004287719727, 43.89217758178711, 1901.842041015625, 457.07635498046875, 255.44436645507812, 426.19146728515625, 368.59918212890625, 8137.64990234375, 4748.5859375, 193.99078369140625, 1466.8353271484375, 1623.567138671875, 340.2139587402344, 320.98895263671875, 297.2398986816406, 481.9981994628906, 3585.53125, 938.4882202148438, 4137.29541015625, 1293.2904052734375, 2970.668701171875, 1040.377197265625, 1113.3155517578125, 297.00177001953125, 2777.68505859375, 1111.6744384765625, 2169.53271484375, 613.0577392578125, 1321.64453125, 3291.491943359375, 1415.76904296875, 1622.102783203125, 1464.92333984375, 1704.21240234375, 1625.1591796875, 3637.4619140625, 1458.85986328125, 1367.6571044921875, 3758.805908203125, 13810.1923828125, 4132.44921875, 6095.02587890625, 5070.28759765625, 2150.785400390625, 3050.930908203125, 2463.16015625, 1743.275390625, 1467.16259765625], \"Category\": [\"Default\", \"Default\", \"Default\", \"Default\", \"Default\", \"Default\", \"Default\", \"Default\", \"Default\", \"Default\", \"Default\", \"Default\", \"Default\", \"Default\", \"Default\", \"Default\", \"Default\", \"Default\", \"Default\", \"Default\", \"Default\", \"Default\", \"Default\", \"Default\", \"Default\", \"Default\", \"Default\", \"Default\", \"Default\", \"Default\", \"Topic1\", \"Topic1\", \"Topic1\", \"Topic1\", \"Topic1\", \"Topic1\", \"Topic1\", \"Topic1\", \"Topic1\", \"Topic1\", \"Topic1\", \"Topic1\", \"Topic1\", \"Topic1\", \"Topic1\", \"Topic1\", \"Topic1\", \"Topic1\", \"Topic1\", \"Topic1\", \"Topic1\", \"Topic1\", \"Topic1\", \"Topic1\", \"Topic1\", \"Topic1\", \"Topic1\", \"Topic1\", \"Topic1\", \"Topic1\", \"Topic1\", \"Topic1\", \"Topic1\", \"Topic1\", \"Topic1\", \"Topic1\", \"Topic1\", \"Topic1\", \"Topic1\", \"Topic1\", \"Topic1\", \"Topic1\", \"Topic1\", \"Topic1\", \"Topic1\", \"Topic1\", \"Topic1\", \"Topic1\", \"Topic1\", \"Topic1\", \"Topic1\", \"Topic1\", \"Topic1\", \"Topic1\", \"Topic1\", \"Topic1\", \"Topic1\", \"Topic1\", \"Topic1\", \"Topic1\", \"Topic1\", \"Topic1\", \"Topic1\", \"Topic1\", \"Topic1\", \"Topic1\", \"Topic1\", \"Topic1\", \"Topic1\", \"Topic1\", \"Topic1\", \"Topic1\", \"Topic1\", \"Topic2\", \"Topic2\", \"Topic2\", \"Topic2\", \"Topic2\", \"Topic2\", \"Topic2\", \"Topic2\", \"Topic2\", \"Topic2\", \"Topic2\", \"Topic2\", \"Topic2\", \"Topic2\", \"Topic2\", \"Topic2\", \"Topic2\", \"Topic2\", \"Topic2\", \"Topic2\", \"Topic2\", \"Topic2\", \"Topic2\", \"Topic2\", \"Topic2\", \"Topic2\", \"Topic2\", \"Topic2\", \"Topic2\", \"Topic2\", \"Topic2\", \"Topic2\", \"Topic2\", \"Topic2\", \"Topic2\", \"Topic2\", \"Topic2\", \"Topic2\", \"Topic2\", \"Topic2\", \"Topic2\", \"Topic2\", \"Topic2\", \"Topic2\", \"Topic2\", \"Topic2\", \"Topic2\", \"Topic2\", \"Topic2\", \"Topic2\", \"Topic2\", \"Topic2\", \"Topic2\", \"Topic2\", \"Topic2\", \"Topic2\", \"Topic2\", \"Topic2\", \"Topic2\", \"Topic2\", \"Topic2\", \"Topic2\", \"Topic2\", \"Topic2\", \"Topic2\", \"Topic2\", \"Topic2\", \"Topic2\", \"Topic2\", \"Topic2\", \"Topic2\", \"Topic2\", \"Topic2\", \"Topic2\", \"Topic2\", \"Topic2\", \"Topic2\", \"Topic2\", \"Topic2\", \"Topic2\", \"Topic2\", \"Topic3\", \"Topic3\", \"Topic3\", \"Topic3\", \"Topic3\", \"Topic3\", \"Topic3\", \"Topic3\", \"Topic3\", \"Topic3\", \"Topic3\", \"Topic3\", \"Topic3\", \"Topic3\", \"Topic3\", \"Topic3\", \"Topic3\", \"Topic3\", \"Topic3\", \"Topic3\", \"Topic3\", \"Topic3\", \"Topic3\", \"Topic3\", \"Topic3\", \"Topic3\", \"Topic3\", \"Topic3\", \"Topic3\", \"Topic3\", \"Topic3\", \"Topic3\", \"Topic3\", \"Topic3\", \"Topic3\", \"Topic3\", \"Topic3\", \"Topic3\", \"Topic3\", \"Topic3\", \"Topic3\", \"Topic3\", \"Topic3\", \"Topic3\", \"Topic3\", \"Topic3\", \"Topic3\", \"Topic3\", \"Topic3\", \"Topic3\", \"Topic3\", \"Topic3\", \"Topic3\", \"Topic3\", \"Topic3\", \"Topic3\", \"Topic3\", \"Topic3\", \"Topic3\", \"Topic3\", \"Topic3\", \"Topic3\", \"Topic3\", \"Topic3\", \"Topic3\", \"Topic3\", \"Topic3\", \"Topic3\", \"Topic3\", \"Topic3\", \"Topic3\", \"Topic3\", \"Topic3\", \"Topic3\", \"Topic3\", \"Topic3\", \"Topic3\", \"Topic3\", \"Topic3\", \"Topic3\", \"Topic3\", \"Topic3\", \"Topic3\", \"Topic3\", \"Topic3\", \"Topic4\", \"Topic4\", \"Topic4\", \"Topic4\", \"Topic4\", \"Topic4\", \"Topic4\", \"Topic4\", \"Topic4\", \"Topic4\", \"Topic4\", \"Topic4\", \"Topic4\", \"Topic4\", \"Topic4\", \"Topic4\", \"Topic4\", \"Topic4\", \"Topic4\", \"Topic4\", \"Topic4\", \"Topic4\", \"Topic4\", \"Topic4\", \"Topic4\", \"Topic4\", \"Topic4\", \"Topic4\", \"Topic4\", \"Topic4\", \"Topic4\", \"Topic4\", \"Topic4\", \"Topic4\", \"Topic4\", \"Topic4\", \"Topic4\", \"Topic4\", \"Topic4\", \"Topic4\", \"Topic4\", \"Topic4\", \"Topic4\", \"Topic4\", \"Topic4\", \"Topic4\", \"Topic4\", \"Topic4\", \"Topic4\", \"Topic4\", \"Topic4\", \"Topic4\", \"Topic4\", \"Topic4\", \"Topic4\", \"Topic4\", \"Topic4\", \"Topic4\", \"Topic4\", \"Topic4\", \"Topic4\", \"Topic4\", \"Topic4\", \"Topic4\", \"Topic4\", \"Topic4\", \"Topic4\", \"Topic4\", \"Topic4\", \"Topic4\", \"Topic4\", \"Topic4\", \"Topic4\", \"Topic4\", \"Topic4\", \"Topic4\", \"Topic4\", \"Topic4\", \"Topic4\", \"Topic4\", \"Topic4\", \"Topic4\", \"Topic5\", \"Topic5\", \"Topic5\", \"Topic5\", \"Topic5\", \"Topic5\", \"Topic5\", \"Topic5\", \"Topic5\", \"Topic5\", \"Topic5\", \"Topic5\", \"Topic5\", \"Topic5\", \"Topic5\", \"Topic5\", \"Topic5\", \"Topic5\", \"Topic5\", \"Topic5\", \"Topic5\", \"Topic5\", \"Topic5\", \"Topic5\", \"Topic5\", \"Topic5\", \"Topic5\", \"Topic5\", \"Topic5\", \"Topic5\", \"Topic5\", \"Topic5\", \"Topic5\", \"Topic5\", \"Topic5\", \"Topic5\", \"Topic5\", \"Topic5\", \"Topic5\", \"Topic5\", \"Topic5\", \"Topic5\", \"Topic5\", \"Topic5\", \"Topic5\", \"Topic5\", \"Topic5\", \"Topic5\", \"Topic5\", \"Topic5\", \"Topic5\", \"Topic5\", \"Topic5\", \"Topic5\", \"Topic5\", \"Topic5\", \"Topic5\", \"Topic5\", \"Topic5\", \"Topic5\", \"Topic5\", \"Topic5\", \"Topic5\", \"Topic5\", \"Topic5\", \"Topic5\", \"Topic5\", \"Topic5\", \"Topic5\", \"Topic5\", \"Topic5\", \"Topic5\", \"Topic5\", \"Topic5\", \"Topic5\", \"Topic5\", \"Topic5\", \"Topic5\", \"Topic5\", \"Topic5\", \"Topic5\"], \"logprob\": [30.0, 29.0, 28.0, 27.0, 26.0, 25.0, 24.0, 23.0, 22.0, 21.0, 20.0, 19.0, 18.0, 17.0, 16.0, 15.0, 14.0, 13.0, 12.0, 11.0, 10.0, 9.0, 8.0, 7.0, 6.0, 5.0, 4.0, 3.0, 2.0, 1.0, -11.010499954223633, -11.059800148010254, -11.07390022277832, -11.09529972076416, -10.77869987487793, -10.598799705505371, -11.158599853515625, -11.203900337219238, -11.207500457763672, -11.018099784851074, -11.236200332641602, -9.530699729919434, -11.256999969482422, -11.917799949645996, -11.92770004272461, -10.333399772644043, -11.292699813842773, -11.30210018157959, -11.312800407409668, -11.123900413513184, -11.127599716186523, -11.970600128173828, -10.574399948120117, -11.130999565124512, -11.632499694824219, -11.328300476074219, -11.32800006866455, -11.391200065612793, -11.151200294494629, -11.154199600219727, -5.873000144958496, -10.546299934387207, -3.32069993019104, -6.241000175476074, -4.493500232696533, -6.317399978637695, -7.337299823760986, -5.502799987792969, -4.210599899291992, -6.0578999519348145, -5.395400047302246, -5.466899871826172, -4.602799892425537, -4.48330020904541, -5.654600143432617, -5.122399806976318, -4.789400100708008, -5.9496002197265625, -5.645199775695801, -5.461299896240234, -5.627999782562256, -6.177199840545654, -5.7835001945495605, -7.084099769592285, -4.600599765777588, -5.35099983215332, -5.940700054168701, -4.900300025939941, -4.943299770355225, -5.9770002365112305, -5.043900012969971, -6.0370001792907715, -5.706999778747559, -5.184000015258789, -4.441699981689453, -5.806300163269043, -5.423500061035156, -5.372799873352051, -5.7835001945495605, -5.832799911499023, -5.853000164031982, -5.762800216674805, -5.832900047302246, -11.029500007629395, -11.722599983215332, -11.081299781799316, -11.099599838256836, -11.426400184631348, -11.13599967956543, -11.158900260925293, -9.912099838256836, -10.341300010681152, -9.39009952545166, -11.178500175476074, -11.182299613952637, -11.183300018310547, -11.192299842834473, -11.206199645996094, -11.220999717712402, -10.769000053405762, -11.237500190734863, -10.728799819946289, -11.25529956817627, -11.066800117492676, -11.263899803161621, -11.917499542236328, -11.270500183105469, -11.273099899291992, -11.083200454711914, -11.286299705505371, -11.287300109863281, -11.302300453186035, -11.305000305175781, -8.250300407409668, -10.798600196838379, -6.4405999183654785, -5.132800102233887, -6.146900177001953, -6.3343000411987305, -6.047100067138672, -7.221399784088135, -8.062899589538574, -5.56220006942749, -5.690100193023682, -4.760700225830078, -5.916800022125244, -6.9156999588012695, -4.520500183105469, -6.143799781799316, -5.929800033569336, -4.9807000160217285, -4.113699913024902, -6.117099761962891, -6.391200065612793, -5.990499973297119, -5.709400177001953, -6.008299827575684, -6.41949987411499, -3.7216999530792236, -7.263700008392334, -5.577099800109863, -5.771100044250488, -6.370299816131592, -5.955599784851074, -5.813199996948242, -5.748000144958496, -4.549699783325195, -5.713200092315674, -5.3368000984191895, -5.819499969482422, -5.261199951171875, -5.225399971008301, -5.178400039672852, -5.040800094604492, -5.143400192260742, -4.991499900817871, -5.661099910736084, -5.69789981842041, -5.232699871063232, -5.304500102996826, -5.802800178527832, -5.825799942016602, -5.793000221252441, -5.716899871826172, -10.928799629211426, -10.7475004196167, -11.08240032196045, -10.587200164794922, -10.927599906921387, -11.774100303649902, -11.128999710083008, -11.155900001525879, -10.800800323486328, -11.831600189208984, -11.187399864196777, -11.19890022277832, -11.218899726867676, -10.862099647521973, -11.527199745178223, -11.546699523925781, -11.25160026550293, -11.906800270080566, -11.268199920654297, -10.756699562072754, -11.093400001525879, -10.940799713134766, -10.682000160217285, -11.300399780273438, -11.108799934387207, -11.953700065612793, -11.3056001663208, -10.57390022277832, -10.536199569702148, -11.336899757385254, -6.945099830627441, -7.481100082397461, -4.075699806213379, -5.948500156402588, -9.128100395202637, -3.908400058746338, -6.3520002365112305, -6.271200180053711, -7.305300235748291, -6.268899917602539, -6.601399898529053, -6.641300201416016, -6.968200206756592, -7.251100063323975, -5.865799903869629, -6.823200225830078, -8.405699729919434, -5.544300079345703, -5.935400009155273, -5.512700080871582, -7.119800090789795, -6.84660005569458, -5.595900058746338, -6.497900009155273, -6.8429999351501465, -6.121200084686279, -5.5472002029418945, -3.760200023651123, -6.372300148010254, -4.947299957275391, -5.947299957275391, -6.474999904632568, -6.193299770355225, -5.335599899291992, -5.103899955749512, -5.771200180053711, -4.821899890899658, -5.264599800109863, -4.973999977111816, -5.980999946594238, -5.086400032043457, -5.224400043487549, -5.872700214385986, -4.872600078582764, -5.273399829864502, -5.100100040435791, -5.179900169372559, -5.839700222015381, -5.837399959564209, -5.8144001960754395, -5.877399921417236, -5.697800159454346, -5.741600036621094, -5.818999767303467, -5.870200157165527, -10.959199905395508, -10.98960018157959, -11.674500465393066, -11.023799896240234, -10.7076997756958, -11.678899765014648, -10.844799995422363, -11.052800178527832, -11.700400352478027, -11.144599914550781, -10.969099998474121, -11.812000274658203, -11.178600311279297, -11.221799850463867, -10.709799766540527, -11.244999885559082, -11.249099731445312, -11.105299949645996, -11.262700080871582, -10.911299705505371, -11.269499778747559, -11.076299667358398, -11.922699928283691, -11.92710018157959, -11.587499618530273, -11.929200172424316, -11.933099746704102, -11.935099601745605, -11.937899589538574, -11.291799545288086, -11.296199798583984, -10.788100242614746, -10.79640007019043, -7.608399868011475, -11.304300308227539, -9.043299674987793, -7.38040018081665, -6.010000228881836, -4.820700168609619, -4.684800148010254, -4.397200107574463, -6.383699893951416, -7.364099979400635, -3.5281999111175537, -7.872200012207031, -8.550100326538086, -4.700099945068359, -5.078199863433838, -6.335599899291992, -5.844900131225586, -5.890900135040283, -4.828999996185303, -6.4095001220703125, -5.447700023651123, -6.306300163269043, -6.547800064086914, -6.593299865722656, -4.986100196838379, -5.3755998611450195, -6.304800033569336, -5.38070011138916, -5.108399868011475, -5.7221999168396, -6.54640007019043, -6.466100215911865, -4.8796000480651855, -6.133200168609619, -5.686600208282471, -5.7866997718811035, -4.4232001304626465, -4.855400085449219, -5.13539981842041, -5.833499908447266, -5.714600086212158, -5.925600051879883, -5.926599979400635, -5.929500102996826, -5.589900016784668, -5.067299842834473, -5.897500038146973, -5.874800205230713, -5.929500102996826, -10.693599700927734, -10.809599876403809, -10.927900314331055, -11.008600234985352, -11.061300277709961, -11.711099624633789, -11.741299629211426, -10.90530014038086, -11.129199981689453, -11.138400077819824, -10.961999893188477, -11.46500015258789, -11.161399841308594, -11.234399795532227, -11.247900009155273, -11.903900146484375, -10.533100128173828, -11.263799667358398, -11.918700218200684, -8.770500183105469, -10.170299530029297, -10.18649959564209, -11.295499801635742, -11.942399978637695, -11.943499565124512, -11.10669994354248, -9.986700057983398, -11.946000099182129, -11.949299812316895, -11.313199996948242, -10.671799659729004, -9.59280014038086, -10.47070026397705, -9.66670036315918, -8.764100074768066, -5.216400146484375, -6.572299957275391, -7.134799957275391, -6.6691999435424805, -6.825699806213379, -3.9644999504089355, -4.486000061035156, -7.428999900817871, -5.585599899291992, -5.497000217437744, -6.922900199890137, -6.980599880218506, -7.059199810028076, -6.635000228881836, -4.839200019836426, -6.042300224304199, -4.732399940490723, -5.774499893188477, -5.043499946594238, -5.978000164031982, -5.920000076293945, -7.084799766540527, -5.123899936676025, -5.927199840545654, -5.347799777984619, -6.448400020599365, -5.798900127410889, -5.017199993133545, -5.7530999183654785, -5.648099899291992, -5.741099834442139, -5.625500202178955, -5.667200088500977, -5.034900188446045, -5.770899772644043, -5.832600116729736, -5.05679988861084, -4.082900047302246, -5.013999938964844, -4.734899997711182, -4.873700141906738, -5.522600173950195, -5.381100177764893, -5.532100200653076, -5.735400199890137, -5.807400226593018], \"loglift\": [30.0, 29.0, 28.0, 27.0, 26.0, 25.0, 24.0, 23.0, 22.0, 21.0, 20.0, 19.0, 18.0, 17.0, 16.0, 15.0, 14.0, 13.0, 12.0, 11.0, 10.0, 9.0, 8.0, 7.0, 6.0, 5.0, 4.0, 3.0, 2.0, 1.0, 1.0128999948501587, 0.9652000069618225, 0.9503999948501587, 0.9296000003814697, 0.9261999726295471, 0.9002000093460083, 0.866599977016449, 0.8219000101089478, 0.8174999952316284, 0.8151999711990356, 0.7906000018119812, 0.7883999943733215, 0.7717999815940857, 0.7559999823570251, 0.7462999820709229, 0.7398999929428101, 0.7347000241279602, 0.7235999703407288, 0.7164000272750854, 0.7113000154495239, 0.7056000232696533, 0.704200029373169, 0.7038999795913696, 0.703499972820282, 0.7003999948501587, 0.699400007724762, 0.6991000175476074, 0.6873000264167786, 0.6836000084877014, 0.6798999905586243, 0.4645000100135803, 0.6579999923706055, 0.3089999854564667, 0.45239999890327454, 0.3416000008583069, 0.43540000915527344, 0.4708000123500824, 0.35359999537467957, 0.2371000051498413, 0.3564000129699707, 0.30399999022483826, 0.302700012922287, 0.23350000381469727, 0.21410000324249268, 0.28999999165534973, 0.2312999963760376, 0.18880000710487366, 0.2888000011444092, 0.25769999623298645, 0.23250000178813934, 0.24950000643730164, 0.30300000309944153, 0.250900000333786, 0.3894999921321869, 0.031199999153614044, 0.12970000505447388, 0.21130000054836273, 0.030799999833106995, 0.020600000396370888, 0.1882999986410141, 0.019899999722838402, 0.1941000074148178, 0.1151999980211258, -0.01759999990463257, -0.28299999237060547, 0.08789999783039093, -0.1898999959230423, -0.2329999953508377, 0.05620000138878822, 0.07479999959468842, 0.06849999725818634, -0.273499995470047, -0.22059999406337738, 1.009600043296814, 0.9631999731063843, 0.9574000239372253, 0.9409000277519226, 0.9168999791145325, 0.9027000069618225, 0.880299985408783, 0.8747000098228455, 0.8726000189781189, 0.8655999898910522, 0.8589000105857849, 0.8575000166893005, 0.8550999760627747, 0.847100019454956, 0.8306000232696533, 0.8156999945640564, 0.8051999807357788, 0.7982000112533569, 0.7824000120162964, 0.7817999720573425, 0.7773000001907349, 0.7728999853134155, 0.7669000029563904, 0.765999972820282, 0.7638000249862671, 0.7592999935150146, 0.75, 0.7490000128746033, 0.7339000105857849, 0.7301999926567078, 0.6287000179290771, 0.7121000289916992, 0.4577000141143799, 0.3564999997615814, 0.40689998865127563, 0.3903000056743622, 0.3483999967575073, 0.43720000982284546, 0.5091999769210815, 0.2775999903678894, 0.2624000012874603, 0.1703999936580658, 0.28380000591278076, 0.37779998779296875, 0.11129999905824661, 0.289900004863739, 0.26579999923706055, 0.1590999960899353, 0.04500000178813934, 0.28380000591278076, 0.310699999332428, 0.25940001010894775, 0.21199999749660492, 0.24740000069141388, 0.2973000109195709, -0.09189999848604202, 0.399399995803833, 0.14489999413490295, 0.17100000381469727, 0.26159998774528503, 0.19370000064373016, 0.1598999947309494, 0.1462000012397766, -0.10189999639987946, 0.10899999737739563, 0.017000000923871994, 0.1251000016927719, -0.02759999968111515, -0.05900000035762787, -0.1145000010728836, -0.2045000046491623, -0.16509999334812164, -0.29409998655319214, 0.03269999846816063, 0.0015999999595806003, -0.397599995136261, -0.34060001373291016, 0.06909999996423721, 0.047600001096725464, -0.023499999195337296, -0.2362000048160553, 1.108299970626831, 1.0958000421524048, 0.954800009727478, 0.9240000247955322, 0.9139000177383423, 0.9081000089645386, 0.9072999954223633, 0.8794000148773193, 0.8787000179290771, 0.8515999913215637, 0.8476999998092651, 0.8385999798774719, 0.8202000260353088, 0.8154000043869019, 0.8137000203132629, 0.7937999963760376, 0.7850000262260437, 0.776199996471405, 0.7651000022888184, 0.7538999915122986, 0.7493000030517578, 0.739300012588501, 0.7366999983787537, 0.7342000007629395, 0.734000027179718, 0.7282000184059143, 0.7278000116348267, 0.7113999724388123, 0.6970999836921692, 0.6969000101089478, 0.6057999730110168, 0.5530999898910522, 0.3720000088214874, 0.4316999912261963, 0.6162999868392944, 0.25029999017715454, 0.4269999861717224, 0.4180999994277954, 0.49000000953674316, 0.39329999685287476, 0.4043999910354614, 0.4066999852657318, 0.4212999939918518, 0.44350001215934753, 0.2994999885559082, 0.38769999146461487, 0.5284000039100647, 0.2272000014781952, 0.26499998569488525, 0.2093999981880188, 0.3774999976158142, 0.3384999930858612, 0.1746000051498413, 0.2903999984264374, 0.3336000144481659, 0.2281000018119812, 0.14659999310970306, -0.13050000369548798, 0.25380000472068787, 0.016599999740719795, 0.16500000655651093, 0.26159998774528503, 0.20759999752044678, 0.018200000748038292, -0.04010000079870224, 0.1006999984383583, -0.12460000067949295, -0.03099999949336052, -0.13770000636577606, 0.14560000598430634, -0.10809999704360962, -0.08460000157356262, 0.10360000282526016, -0.24089999496936798, -0.10700000077486038, -0.26499998569488525, -0.24879999458789825, 0.054499998688697815, 0.034699998795986176, 0.007799999788403511, 0.04399999976158142, -0.21709999442100525, -0.25220000743865967, -0.20659999549388885, -0.017000000923871994, 1.0748000144958496, 1.0420000553131104, 1.0063999891281128, 1.0055999755859375, 1.0046000480651855, 1.0002000331878662, 0.9955999851226807, 0.980400025844574, 0.9789000153541565, 0.8865000009536743, 0.8718000054359436, 0.8671000003814697, 0.855400025844574, 0.808899998664856, 0.7991999983787537, 0.7886999845504761, 0.7822999954223633, 0.7759000062942505, 0.7682999968528748, 0.7649999856948853, 0.7626000046730042, 0.7623999714851379, 0.757099986076355, 0.7534000277519226, 0.7509999871253967, 0.7498999834060669, 0.7465999722480774, 0.7432000041007996, 0.7419999837875366, 0.7398999929428101, 0.7365000247955322, 0.7213000059127808, 0.7127000093460083, 0.5963000059127808, 0.7251999974250793, 0.6035000085830688, 0.4887000024318695, 0.399399995803833, 0.3190999925136566, 0.2791000008583069, 0.2345999926328659, 0.3813000023365021, 0.44769999384880066, 0.10159999877214432, 0.47200000286102295, 0.5368000268936157, 0.13619999587535858, 0.15530000627040863, 0.29179999232292175, 0.23090000450611115, 0.23579999804496765, 0.10209999978542328, 0.2924000024795532, 0.1647000014781952, 0.2694000005722046, 0.2971000075340271, 0.30070000886917114, 0.07779999822378159, 0.11379999667406082, 0.24869999289512634, 0.10000000149011612, 0.057999998331069946, 0.13099999725818634, 0.2736000120639801, 0.2524000108242035, -0.04450000077486038, 0.18970000743865967, 0.08399999886751175, 0.08540000021457672, -0.26460000872612, -0.15809999406337738, -0.15719999372959137, 0.03840000182390213, -0.015200000256299973, 0.050700001418590546, 0.01549999974668026, 0.014000000432133675, -0.2362000048160553, -0.6195999979972839, -0.019999999552965164, -0.05260000005364418, -0.23559999465942383, 1.3388999700546265, 1.2239999771118164, 1.1062999963760376, 1.0226000547409058, 0.9753000140190125, 0.9692000150680542, 0.9398999810218811, 0.9373000264167786, 0.9053000211715698, 0.8942999839782715, 0.8773000240325928, 0.8736000061035156, 0.873199999332428, 0.7949000000953674, 0.7864999771118164, 0.7768999934196472, 0.7742000222206116, 0.7712000012397766, 0.7623000144958496, 0.7475000023841858, 0.7416999936103821, 0.7404000163078308, 0.7386000156402588, 0.7383000254631042, 0.7366999983787537, 0.7350000143051147, 0.7342000007629395, 0.7336000204086304, 0.7300999760627747, 0.720300018787384, 0.7171000242233276, 0.6717000007629395, 0.6948999762535095, 0.6657000184059143, 0.6171000003814697, 0.3959999978542328, 0.4657999873161316, 0.48510000109672546, 0.43880000710487366, 0.42750000953674316, 0.19419999420642853, 0.21130000054836273, 0.4661000072956085, 0.2865000069141388, 0.2736000120639801, 0.4104999899864197, 0.4108999967575073, 0.4092000126838684, 0.3499999940395355, 0.13910000026226044, 0.27639999985694885, 0.10270000249147415, 0.22349999845027924, 0.12290000170469284, 0.23759999871253967, 0.22779999673366547, 0.38440001010894775, 0.1096000000834465, 0.22210000455379486, 0.13289999961853027, 0.29600000381469727, 0.17739999294281006, 0.04670000076293945, 0.15440000593662262, 0.12330000102519989, 0.13220000267028809, 0.0966000035405159, 0.1023000031709671, -0.07100000232458115, 0.10660000145435333, 0.10949999839067459, -0.1256999969482422, -0.4530999958515167, -0.1776999980211258, -0.287200003862381, -0.2418999969959259, -0.03319999948143959, -0.24140000343322754, -0.17829999327659607, -0.035999998450279236, 0.06449999660253525]}, \"token.table\": {\"Topic\": [1, 2, 3, 4, 5, 1, 2, 3, 4, 5, 1, 2, 3, 4, 5, 1, 2, 3, 4, 5, 1, 2, 5, 2, 3, 4, 1, 2, 3, 4, 5, 1, 3, 5, 2, 4, 4, 1, 2, 1, 2, 3, 4, 5, 1, 2, 1, 4, 4, 1, 3, 4, 5, 2, 3, 4, 1, 4, 2, 3, 1, 1, 2, 3, 4, 5, 1, 4, 1, 3, 2, 5, 1, 2, 3, 4, 5, 1, 4, 5, 3, 2, 4, 5, 1, 2, 5, 5, 3, 5, 1, 4, 1, 2, 4, 1, 2, 3, 4, 5, 1, 2, 3, 4, 5, 3, 4, 1, 3, 4, 1, 2, 3, 4, 5, 1, 1, 3, 1, 1, 3, 4, 5, 4, 5, 3, 5, 1, 2, 3, 5, 1, 5, 1, 2, 3, 4, 5, 3, 4, 2, 3, 4, 5, 1, 2, 3, 4, 5, 1, 2, 3, 4, 5, 2, 3, 4, 1, 2, 3, 4, 5, 1, 4, 1, 3, 4, 5, 1, 2, 3, 4, 5, 1, 2, 3, 4, 5, 1, 4, 1, 2, 3, 4, 5, 1, 2, 1, 2, 1, 2, 3, 4, 5, 3, 1, 2, 4, 3, 4, 1, 2, 3, 4, 5, 1, 2, 3, 5, 1, 2, 3, 4, 5, 2, 5, 2, 3, 5, 2, 3, 4, 5, 2, 4, 5, 1, 2, 3, 4, 5, 1, 3, 1, 2, 3, 4, 5, 1, 2, 3, 4, 5, 3, 1, 2, 3, 4, 5, 1, 2, 3, 4, 5, 1, 2, 4, 5, 1, 2, 3, 4, 5, 1, 1, 2, 3, 4, 5, 1, 2, 3, 4, 5, 2, 4, 5, 2, 3, 5, 1, 2, 3, 4, 5, 1, 2, 3, 4, 5, 1, 2, 3, 4, 5, 1, 2, 3, 4, 5, 1, 4, 1, 2, 3, 4, 5, 1, 3, 3, 4, 1, 2, 3, 4, 5, 1, 2, 3, 4, 5, 1, 2, 3, 4, 5, 1, 4, 1, 2, 1, 2, 3, 4, 5, 1, 2, 3, 4, 5, 4, 1, 2, 3, 4, 5, 1, 2, 3, 4, 5, 1, 2, 3, 4, 5, 1, 2, 3, 4, 5, 4, 5, 1, 2, 3, 4, 5, 1, 2, 3, 4, 5, 1, 2, 3, 4, 5, 1, 2, 3, 4, 5, 1, 2, 3, 4, 5, 1, 2, 1, 2, 3, 4, 5, 3, 5, 1, 2, 3, 4, 5, 1, 2, 3, 4, 5, 1, 2, 3, 4, 5, 1, 2, 3, 4, 5, 2, 5, 1, 2, 5, 1, 2, 3, 4, 5, 1, 2, 3, 4, 5, 1, 2, 3, 4, 5, 1, 5, 2, 5, 1, 2, 3, 4, 5, 1, 2, 3, 4, 5, 2, 3, 1, 2, 3, 5, 1, 2, 3, 4, 5, 1, 2, 3, 4, 5, 1, 2, 3, 4, 5, 1, 2, 3, 4, 5, 1, 2, 3, 4, 5, 1, 2, 3, 1, 2, 3, 4, 5, 1, 2, 3, 4, 5, 1, 2, 3, 4, 5, 1, 2, 3, 4, 5, 5, 1, 2, 3, 4, 5, 1, 2, 3, 4, 5, 1, 2, 3, 4, 5, 5, 1, 2, 3, 4, 5, 1, 2, 3, 4, 5, 1, 4, 1, 2, 3, 4, 5, 1, 2, 3, 4, 5, 2, 1, 2, 3, 4, 5, 1, 2, 3, 4, 5, 1, 2, 3, 4, 5, 1, 2, 3, 4, 5, 1, 2, 3, 4, 5, 1, 2, 3, 4, 5, 1, 2, 1, 2, 3, 4, 5, 1, 2, 3, 4, 5, 1, 2, 3, 4, 5, 1, 2, 3, 4, 5, 1, 2, 3, 4, 5, 1, 2, 3, 4, 5, 1, 2, 3, 4, 5, 5, 3, 5, 1, 2, 3, 4, 1, 2, 2, 3, 2, 3, 5, 2, 4, 5, 1, 1, 2, 3, 4, 5, 3, 1, 2, 3, 4, 5, 1, 2, 3, 4, 5, 1, 2, 3, 4, 5, 1, 2, 3, 4, 5, 1, 3, 4, 1, 2, 3, 4, 5, 1, 2, 3, 4, 5, 1, 2, 3, 4, 5, 1, 2, 3, 4, 5, 2, 4, 5, 1, 2, 3, 4, 5, 1, 4, 1, 2, 3, 4, 5, 1, 2, 3, 4, 5, 2, 4, 5, 1, 2, 3, 4, 5, 3, 5, 1, 2, 4, 1, 2, 3, 4, 5, 1, 2, 3, 4, 5, 1, 3, 4, 1, 2, 3, 4, 5, 1, 2, 3, 4, 5, 1, 2, 3, 4, 5, 2, 1, 2, 3, 4, 5, 2, 3, 5, 1, 2, 3, 4, 5, 1, 2, 3, 4, 5, 1, 2, 3, 4, 5, 2, 3, 1, 5, 1, 2, 3, 4, 5, 1, 2, 3, 4, 5, 1, 2, 5, 1, 2, 3, 4, 5, 1, 2, 3, 4, 5, 3, 5, 1, 2, 4, 1, 2, 3, 4, 5, 1, 2, 3, 4, 5, 1, 1, 2, 3, 4, 5, 1, 2, 3, 4, 5, 2, 3, 1, 3, 4, 5, 4, 1, 2, 3, 4, 5, 1, 2, 3, 4, 5, 1, 1, 2, 3, 4, 5, 1, 4, 5, 1, 2, 3, 4, 5, 1, 2, 3, 4, 5, 2, 3, 2, 4, 5, 1, 2, 3, 4, 5, 1, 2, 1, 2, 3, 4, 5, 4, 4, 1, 2, 3, 4, 5, 1, 2, 3, 4, 5, 3, 1, 2, 3, 4, 5, 1, 2, 3, 4, 5, 1, 2, 3, 4, 5, 1, 2, 3, 4, 5, 4, 1, 2, 3, 4, 5, 1, 2, 3, 4, 5, 1, 2, 3, 4, 5, 1, 2, 3, 4, 5, 1, 2, 3, 4, 5, 1, 2, 3, 4, 5, 1, 2, 3, 4, 5, 1, 2, 3, 4, 5, 1, 2, 3, 4, 5, 1, 2, 3, 4, 5, 1, 5, 1, 2, 4, 1, 2, 3, 4, 5, 2, 1, 2, 3, 4, 5, 1, 2, 3, 4, 5, 1, 2, 3, 4, 5, 1, 2, 3, 4, 5, 1, 2, 3, 4, 5, 4, 1, 2, 3, 4, 5, 1, 2, 3, 4, 5, 1, 2, 3, 4, 5, 1, 2, 3, 4, 5, 5, 1, 2, 3, 4, 5, 1, 2, 3, 4, 5, 1, 3, 4, 1, 2, 3, 4, 5, 1, 2, 3, 4, 5, 1, 2, 3, 4, 5, 1, 2, 3, 4, 5, 4, 4], \"Freq\": [0.19010591506958008, 0.2294381707906723, 0.17797847092151642, 0.2595928907394409, 0.14290720224380493, 0.18101048469543457, 0.2047274112701416, 0.2487204521894455, 0.14475923776626587, 0.2208254188299179, 0.3270772695541382, 0.17849135398864746, 0.16994693875312805, 0.20883126556873322, 0.11563923209905624, 0.2733307480812073, 0.15441113710403442, 0.1557939201593399, 0.20833979547023773, 0.20787887275218964, 0.3237484395503998, 0.3237484395503998, 0.3237484395503998, 0.32327285408973694, 0.32327285408973694, 0.32327285408973694, 0.1594817191362381, 0.1366986185312271, 0.18226481974124908, 0.1594817191362381, 0.3417465388774872, 0.32316672801971436, 0.32316672801971436, 0.32316672801971436, 0.3247947692871094, 0.3247947692871094, 0.6172457933425903, 0.32427480816841125, 0.32427480816841125, 0.22698837518692017, 0.22698837518692017, 0.45397675037384033, 0.22698837518692017, 0.22698837518692017, 0.6405170559883118, 0.6500347852706909, 0.5291126370429993, 0.26455631852149963, 0.6169077754020691, 0.5681741237640381, 0.1893913894891739, 0.1893913894891739, 0.1893913894891739, 0.3245032727718353, 0.3245032727718353, 0.3245032727718353, 0.32193881273269653, 0.32193881273269653, 0.32419463992118835, 0.32419463992118835, 0.6410725116729736, 0.15635748207569122, 0.15635748207569122, 0.15635748207569122, 0.15635748207569122, 0.46907246112823486, 0.6409401297569275, 0.6451780200004578, 0.3243936002254486, 0.6487872004508972, 0.32340624928474426, 0.32340624928474426, 0.14240685105323792, 0.42722055315971375, 0.14240685105323792, 0.14240685105323792, 0.14240685105323792, 0.3226487338542938, 0.3226487338542938, 0.3226487338542938, 0.6183467507362366, 0.4405507445335388, 0.3229692876338959, 0.3229692876338959, 0.32391393184661865, 0.32391393184661865, 0.32391393184661865, 0.6465444564819336, 0.3235290050506592, 0.3235290050506592, 0.32254740595817566, 0.32254740595817566, 0.5295729637145996, 0.2647864818572998, 0.2647864818572998, 0.23593246936798096, 0.11796623468399048, 0.17694935202598572, 0.17694935202598572, 0.35389870405197144, 0.10530605912208557, 0.21061211824417114, 0.21061211824417114, 0.21061211824417114, 0.4212242364883423, 0.3229711353778839, 0.3229711353778839, 0.22639966011047363, 0.45279932022094727, 0.22639966011047363, 0.15294453501701355, 0.15294453501701355, 0.45883360505104065, 0.15294453501701355, 0.15294453501701355, 0.6132469773292542, 0.32329973578453064, 0.32329973578453064, 0.6137665510177612, 0.26602381467819214, 0.26602381467819214, 0.5320476293563843, 0.43850383162498474, 0.6159058809280396, 0.6177358627319336, 0.3234393000602722, 0.6468786001205444, 0.2268533855676651, 0.2268533855676651, 0.4537067711353302, 0.2268533855676651, 0.642119824886322, 0.6171362400054932, 0.20420022308826447, 0.40840044617652893, 0.20420022308826447, 0.20420022308826447, 0.20420022308826447, 0.5334643721580505, 0.26673218607902527, 0.2665843963623047, 0.2665843963623047, 0.5331687927246094, 0.61745685338974, 0.16964273154735565, 0.16964273154735565, 0.16964273154735565, 0.16964273154735565, 0.3392854630947113, 0.19161304831504822, 0.38322609663009644, 0.19161304831504822, 0.19161304831504822, 0.19161304831504822, 0.1917223036289215, 0.5751669406890869, 0.1917223036289215, 0.1867211014032364, 0.16974645853042603, 0.1867211014032364, 0.3225182592868805, 0.1357971578836441, 0.6409644484519958, 0.3204822242259979, 0.22613775730133057, 0.22613775730133057, 0.45227551460266113, 0.22613775730133057, 0.2755652666091919, 0.110226109623909, 0.110226109623909, 0.1653391569852829, 0.3306783139705658, 0.13569776713848114, 0.13569776713848114, 0.2713955342769623, 0.13569776713848114, 0.4070933163166046, 0.3224230110645294, 0.3224230110645294, 0.14520129561424255, 0.14520129561424255, 0.43560388684272766, 0.14520129561424255, 0.14520129561424255, 0.32412955164909363, 0.32412955164909363, 0.6980716586112976, 0.23269055783748627, 0.09290726482868195, 0.46453630924224854, 0.09290726482868195, 0.09290726482868195, 0.1858145296573639, 0.4395768642425537, 0.5299552083015442, 0.2649776041507721, 0.2649776041507721, 0.3235911428928375, 0.3235911428928375, 0.19158649444580078, 0.19158649444580078, 0.38317298889160156, 0.19158649444580078, 0.6167526245117188, 0.1917332261800766, 0.3834664523601532, 0.1917332261800766, 0.1917332261800766, 0.26093313097953796, 0.08697770535945892, 0.17395541071891785, 0.08697770535945892, 0.3479108214378357, 0.3242254853248596, 0.3242254853248596, 0.32513007521629333, 0.32513007521629333, 0.32513007521629333, 0.26681074500083923, 0.26681074500083923, 0.26681074500083923, 0.26681074500083923, 0.6205735206604004, 0.3227575719356537, 0.3227575719356537, 0.23310917615890503, 0.1602625548839569, 0.3350944519042969, 0.1602625548839569, 0.13112391531467438, 0.32379335165023804, 0.32379335165023804, 0.18093383312225342, 0.2118626981973648, 0.204903706908226, 0.17552128434181213, 0.2273271381855011, 0.32562223076820374, 0.17032548785209656, 0.17783984541893005, 0.2116544544696808, 0.11522018164396286, 0.43934911489486694, 0.3084600567817688, 0.14737536013126373, 0.15697190165519714, 0.185076043009758, 0.20221270620822906, 0.1891421675682068, 0.2673000991344452, 0.1703842729330063, 0.2532316744327545, 0.11880004405975342, 0.5301324725151062, 0.2650662362575531, 0.2650662362575531, 0.2650662362575531, 0.2198217213153839, 0.20477688312530518, 0.15964239835739136, 0.23737402260303497, 0.17886634171009064, 0.6131479144096375, 0.2089890092611313, 0.2089890092611313, 0.10449450463056564, 0.1306181252002716, 0.3918543756008148, 0.1760733425617218, 0.2536649703979492, 0.19994768500328064, 0.20591627061367035, 0.16513092815876007, 0.3236793875694275, 0.3236793875694275, 0.3236793875694275, 0.3250634968280792, 0.3250634968280792, 0.3250634968280792, 0.20799075067043304, 0.20799075067043304, 0.14856483042240143, 0.3565555810928345, 0.11885186284780502, 0.16598260402679443, 0.17072495818138123, 0.19917911291122437, 0.29402631521224976, 0.17072495818138123, 0.5238478183746338, 0.11641062051057816, 0.11641062051057816, 0.11641062051057816, 0.11641062051057816, 0.19656598567962646, 0.19656598567962646, 0.3603709638118744, 0.13104398548603058, 0.09828299283981323, 0.6414297223091125, 0.3207148611545563, 0.17477990686893463, 0.17477990686893463, 0.34955981373786926, 0.17477990686893463, 0.17477990686893463, 0.6436610817909241, 0.32183054089546204, 0.2664479613304138, 0.5328959226608276, 0.10924728959798813, 0.4916127920150757, 0.10924728959798813, 0.1638709306716919, 0.10924728959798813, 0.17532196640968323, 0.2057497501373291, 0.24921800196170807, 0.20285186171531677, 0.16517937183380127, 0.21427378058433533, 0.28942951560020447, 0.23026436567306519, 0.09754253923892975, 0.16950015723705292, 0.32230597734451294, 0.32230597734451294, 0.6434211134910583, 0.3217105567455292, 0.26591598987579346, 0.13529059290885925, 0.3172331154346466, 0.1586165577173233, 0.1212950125336647, 0.2043142318725586, 0.17126339673995972, 0.2869413197040558, 0.18177956342697144, 0.1562402993440628, 0.4384763538837433, 0.19399556517601013, 0.18517759442329407, 0.1734202802181244, 0.1734202802181244, 0.2733573913574219, 0.15254607796669006, 0.21887047588825226, 0.2277137190103531, 0.2022893726825714, 0.198973149061203, 0.19680434465408325, 0.2938585579395294, 0.16175700724124908, 0.15501712262630463, 0.1927604228258133, 0.27910879254341125, 0.1915622502565384, 0.2279677391052246, 0.13175322115421295, 0.1690255105495453, 0.32355064153671265, 0.32355064153671265, 0.19304297864437103, 0.37229716777801514, 0.15167662501335144, 0.1378878355026245, 0.15167662501335144, 0.3827291429042816, 0.10395112633705139, 0.1701018363237381, 0.1559266895055771, 0.1842769980430603, 0.1995239406824112, 0.21702603995800018, 0.16451974213123322, 0.2812004089355469, 0.1376831829547882, 0.21978169679641724, 0.18481643497943878, 0.1431911140680313, 0.2763921320438385, 0.1764913648366928, 0.247685045003891, 0.2319885641336441, 0.15084578096866608, 0.2088429182767868, 0.16042329370975494, 0.6425125598907471, 0.32125627994537354, 0.17993894219398499, 0.23569467663764954, 0.2711755931377411, 0.17487023770809174, 0.13685497641563416, 0.32374995946884155, 0.32374995946884155, 0.3205990493297577, 0.12233385443687439, 0.3037254214286804, 0.13077066838741302, 0.1265522688627243, 0.4231635630130768, 0.14105451107025146, 0.14105451107025146, 0.14105451107025146, 0.14105451107025146, 0.2897583246231079, 0.15082058310508728, 0.261422336101532, 0.12614084780216217, 0.17184405028820038, 0.23196978867053986, 0.18042093515396118, 0.10825256258249283, 0.18557582795619965, 0.2886735200881958, 0.649745762348175, 0.3248728811740875, 0.3241196870803833, 0.3241196870803833, 0.3241196870803833, 0.23550720512866974, 0.20547150075435638, 0.17338791489601135, 0.17816631495952606, 0.20751939713954926, 0.25712740421295166, 0.2420865148305893, 0.20197750627994537, 0.1640172004699707, 0.13465167582035065, 0.13366658985614777, 0.20137928426265717, 0.22424329817295074, 0.23919285833835602, 0.2022586613893509, 0.6414798498153687, 0.3207399249076843, 0.2670464515686035, 0.534092903137207, 0.17267674207687378, 0.19008952379226685, 0.19154058396816254, 0.2524853050708771, 0.19299164414405823, 0.2653800845146179, 0.2617938816547394, 0.16735681891441345, 0.1470349133014679, 0.15898896753787994, 0.3250197768211365, 0.3250197768211365, 0.45566385984420776, 0.1518879532814026, 0.1518879532814026, 0.1518879532814026, 0.22374029457569122, 0.232514426112175, 0.14916019141674042, 0.19156847894191742, 0.20326732099056244, 0.49488234519958496, 0.12372058629989624, 0.12372058629989624, 0.12372058629989624, 0.12372058629989624, 0.151392862200737, 0.14466428756713867, 0.2186785787343979, 0.21195001900196075, 0.2725071609020233, 0.20939098298549652, 0.19734932482242584, 0.1906595230102539, 0.21474282443523407, 0.18731461465358734, 0.16889916360378265, 0.2602898180484772, 0.23830978572368622, 0.1908791959285736, 0.14229176938533783, 0.26709383726119995, 0.26709383726119995, 0.5341876745223999, 0.3781886696815491, 0.1983940601348877, 0.14259573817253113, 0.159645214676857, 0.12244633585214615, 0.25851672887802124, 0.19000273942947388, 0.1970660388469696, 0.1426786333322525, 0.2126052975654602, 0.2251768410205841, 0.15463951230049133, 0.1926211565732956, 0.14921356737613678, 0.279436320066452, 0.19128954410552979, 0.19128954410552979, 0.19128954410552979, 0.38257908821105957, 0.19128954410552979, 0.6174184679985046, 0.2691565155982971, 0.2179194986820221, 0.19521954655647278, 0.17900530993938446, 0.13814540207386017, 0.24871590733528137, 0.13368479907512665, 0.2953501343727112, 0.15855638682842255, 0.16477428376674652, 0.20254544913768768, 0.20116758346557617, 0.13089671730995178, 0.24663697183132172, 0.21770189702510834, 0.6175786852836609, 0.29756227135658264, 0.14572758972644806, 0.17099827527999878, 0.1611005961894989, 0.22469846904277802, 0.3821919858455658, 0.14006467163562775, 0.1346358060836792, 0.14875085651874542, 0.19435331225395203, 0.32191628217697144, 0.6438325643539429, 0.1922379732131958, 0.20281106233596802, 0.17109179496765137, 0.20281106233596802, 0.23068556189537048, 0.2423326075077057, 0.2541537284851074, 0.13668149709701538, 0.18322709202766418, 0.18322709202766418, 0.32450756430625916, 0.19137419760227203, 0.19137419760227203, 0.19137419760227203, 0.38274839520454407, 0.19137419760227203, 0.19872663915157318, 0.19044636189937592, 0.18756626546382904, 0.22032734751701355, 0.2030467838048935, 0.2359738051891327, 0.1844702512025833, 0.17403489351272583, 0.19995498657226562, 0.2056775987148285, 0.3043465316295624, 0.17670147120952606, 0.2808847725391388, 0.10155822336673737, 0.13650475442409515, 0.3032100200653076, 0.1594695895910263, 0.1686651110649109, 0.21609461307525635, 0.15220998227596283, 0.2525237500667572, 0.1784501075744629, 0.16498218476772308, 0.13804630935192108, 0.2659916877746582, 0.5291815400123596, 0.2645907700061798, 0.18594497442245483, 0.15257024765014648, 0.21137335896492004, 0.24315881729125977, 0.2081948071718216, 0.2210446000099182, 0.1430288553237915, 0.286057710647583, 0.16383305191993713, 0.18723778426647186, 0.1982201337814331, 0.2536051571369171, 0.16032510995864868, 0.20988014340400696, 0.17635761201381683, 0.2651962637901306, 0.18753165006637573, 0.15911775827407837, 0.2557249665260315, 0.1325981318950653, 0.2578931152820587, 0.1731310486793518, 0.15690000355243683, 0.2542862296104431, 0.15870346128940582, 0.23512983322143555, 0.20547381043434143, 0.2902052700519562, 0.11862405389547348, 0.1503983587026596, 0.21310868859291077, 0.1342584788799286, 0.22696076333522797, 0.18647010624408722, 0.2397472858428955, 0.6449599266052246, 0.6189027428627014, 0.6457439661026001, 0.3240882456302643, 0.3240882456302643, 0.3233959376811981, 0.6467918753623962, 0.32489001750946045, 0.32489001750946045, 0.32433074712753296, 0.32433074712753296, 0.3252819776535034, 0.3252819776535034, 0.3252819776535034, 0.3232235610485077, 0.3232235610485077, 0.3232235610485077, 0.6399236917495728, 0.1619889885187149, 0.1632208377122879, 0.23035696148872375, 0.20510393381118774, 0.23897995054721832, 0.6181525588035583, 0.19131027162075043, 0.19131027162075043, 0.19131027162075043, 0.38262054324150085, 0.19131027162075043, 0.2452259361743927, 0.13910798728466034, 0.1968405544757843, 0.2493496835231781, 0.1693488508462906, 0.20621396601200104, 0.16019928455352783, 0.25904566049575806, 0.14826954901218414, 0.2266649454832077, 0.32106560468673706, 0.22210703790187836, 0.13560990989208221, 0.16566398739814758, 0.15613465011119843, 0.32315289974212646, 0.32315289974212646, 0.32315289974212646, 0.22898723185062408, 0.1615751087665558, 0.18190574645996094, 0.22791719436645508, 0.20009632408618927, 0.19244500994682312, 0.15721599757671356, 0.15721599757671356, 0.222415953874588, 0.27026429772377014, 0.19690239429473877, 0.2553136348724365, 0.1724073588848114, 0.1855970025062561, 0.1893654614686966, 0.18272395431995392, 0.2794328033924103, 0.15064264833927155, 0.21155062317848206, 0.1757497489452362, 0.3233954608440399, 0.3233954608440399, 0.3233954608440399, 0.2695119082927704, 0.19000588357448578, 0.16709737479686737, 0.24256069958209991, 0.13206082582473755, 0.3224412500858307, 0.3224412500858307, 0.21611928939819336, 0.11987867206335068, 0.29716402292251587, 0.130009263753891, 0.23806890845298767, 0.3087250590324402, 0.17080113291740417, 0.17721620202064514, 0.16518795490264893, 0.17881996929645538, 0.3235483765602112, 0.3235483765602112, 0.3235483765602112, 0.32058724761009216, 0.17504456639289856, 0.1455426663160324, 0.1819283366203308, 0.17701135575771332, 0.3241220712661743, 0.3241220712661743, 0.26702263951301575, 0.5340452790260315, 0.26702263951301575, 0.27112776041030884, 0.2852489948272705, 0.12991538643836975, 0.13838812708854675, 0.17227908968925476, 0.20883072912693024, 0.1611628532409668, 0.21488380432128906, 0.19823786616325378, 0.21715369820594788, 0.529778242111206, 0.264889121055603, 0.264889121055603, 0.21300697326660156, 0.1950197070837021, 0.25276827812194824, 0.17608575522899628, 0.16283199191093445, 0.3252498209476471, 0.19618242979049683, 0.1170210987329483, 0.18585704267024994, 0.17553164064884186, 0.22111555933952332, 0.2501307427883148, 0.17409098148345947, 0.20210562646389008, 0.1520794779062271, 0.3243774175643921, 0.21470928192138672, 0.18700486421585083, 0.28397035598754883, 0.16276349127292633, 0.15237432718276978, 0.267097145318985, 0.53419429063797, 0.267097145318985, 0.2637907564640045, 0.12137611210346222, 0.25084397196769714, 0.1585981249809265, 0.20553022623062134, 0.2448737621307373, 0.17438900470733643, 0.185933917760849, 0.20385892689228058, 0.19049112498760223, 0.23422199487686157, 0.1453791707754135, 0.1453791707754135, 0.2988349497318268, 0.17768564820289612, 0.26724809408187866, 0.5344961881637573, 0.6409250497817993, 0.6170932650566101, 0.1540241241455078, 0.19549214839935303, 0.3376682698726654, 0.16587212681770325, 0.1481001079082489, 0.2579427659511566, 0.2292824685573578, 0.15838591754436493, 0.15536904335021973, 0.19835950434207916, 0.3241829574108124, 0.3241829574108124, 0.3241829574108124, 0.2477177083492279, 0.2187252640724182, 0.15225960314273834, 0.23844800889492035, 0.1427926868200302, 0.17339999973773956, 0.13821738958358765, 0.27140867710113525, 0.21360868215560913, 0.20355650782585144, 0.6487910747528076, 0.3243955373764038, 0.23441088199615479, 0.23441088199615479, 0.46882176399230957, 0.29189836978912354, 0.2245372086763382, 0.16108104586601257, 0.14741356670856476, 0.1747485250234604, 0.20185276865959167, 0.22591081261634827, 0.23882000148296356, 0.13319936394691467, 0.20009243488311768, 0.4360080361366272, 0.16441167891025543, 0.1571044921875, 0.3543985188007355, 0.13152934610843658, 0.19364042580127716, 0.20529861748218536, 0.16825225949287415, 0.29482734203338623, 0.09415952116250992, 0.23771418631076813, 0.32430022954940796, 0.32430022954940796, 0.26617634296417236, 0.26617634296417236, 0.26617634296417236, 0.5323526859283447, 0.6163862943649292, 0.24676991999149323, 0.2094249278306961, 0.20063786208629608, 0.19111855328083038, 0.15157677233219147, 0.21823523938655853, 0.1781637966632843, 0.24289458990097046, 0.15412093698978424, 0.20590557157993317, 0.33809247612953186, 0.2697084844112396, 0.1416536122560501, 0.29803919792175293, 0.17905016243457794, 0.11105643212795258, 0.32187411189079285, 0.32187411189079285, 0.32187411189079285, 0.21683567762374878, 0.25944530963897705, 0.1761198192834854, 0.1846417337656021, 0.1619165986776352, 0.18833860754966736, 0.31009286642074585, 0.15219281613826752, 0.12936389446258545, 0.22067958116531372, 0.650978684425354, 0.325489342212677, 0.534854531288147, 0.2674272656440735, 0.2674272656440735, 0.34229108691215515, 0.17248785495758057, 0.1791994422674179, 0.14295686781406403, 0.16309162974357605, 0.32426875829696655, 0.32426875829696655, 0.29005464911460876, 0.16594472527503967, 0.17375388741493225, 0.16120344400405884, 0.2091740220785141, 0.6164429783821106, 0.6168784499168396, 0.21922582387924194, 0.15267512202262878, 0.1409308761358261, 0.1918225884437561, 0.2936060130596161, 0.3435353934764862, 0.20870068669319153, 0.1465594619512558, 0.1465594619512558, 0.15476679801940918, 0.6187979578971863, 0.2197108119726181, 0.3010851740837097, 0.17495490610599518, 0.13019900023937225, 0.17088618874549866, 0.18672269582748413, 0.1701251119375229, 0.2136937379837036, 0.1721998155117035, 0.25726237893104553, 0.21857647597789764, 0.1941089630126953, 0.16801027953624725, 0.17453494668006897, 0.2446751594543457, 0.2541195750236511, 0.2580798864364624, 0.15841220319271088, 0.16567276418209076, 0.16303256154060364, 0.6462202072143555, 0.35510966181755066, 0.16571784019470215, 0.18600980937480927, 0.16571784019470215, 0.12513387203216553, 0.22053225338459015, 0.26336947083473206, 0.2221188247203827, 0.12216535210609436, 0.17134881019592285, 0.20346710085868835, 0.25597473978996277, 0.14220818877220154, 0.10939091444015503, 0.2887920141220093, 0.37172290682792664, 0.14309687912464142, 0.21382291615009308, 0.1381624937057495, 0.1332281231880188, 0.296725869178772, 0.14430437982082367, 0.18128237128257751, 0.18218427896499634, 0.19571281969547272, 0.2620711624622345, 0.2265242636203766, 0.20422033965587616, 0.16518846154212952, 0.14149054884910583, 0.28204044699668884, 0.15090061724185944, 0.18772755563259125, 0.15179882943630219, 0.22814735770225525, 0.2011132389307022, 0.15066449344158173, 0.20043149590492249, 0.20520368218421936, 0.24201762676239014, 0.16008751094341278, 0.16184671223163605, 0.24452927708625793, 0.24804767966270447, 0.1847163587808609, 0.3107498288154602, 0.19333982467651367, 0.18630927801132202, 0.17365430295467377, 0.13639245927333832, 0.6423383951187134, 0.3211691975593567, 0.27755770087242126, 0.27755770087242126, 0.27755770087242126, 0.33790189027786255, 0.13148686289787292, 0.14864782989025116, 0.18055273592472076, 0.2015809714794159, 0.6197142004966736, 0.20592601597309113, 0.1707679182291031, 0.18081308901309967, 0.30637773871421814, 0.13560982048511505, 0.30245697498321533, 0.19893144071102142, 0.1973075121641159, 0.14899559319019318, 0.1522434502840042, 0.2137637734413147, 0.10688188672065735, 0.10688188672065735, 0.10688188672065735, 0.4275275468826294, 0.23588794469833374, 0.27731215953826904, 0.216326504945755, 0.16454622149467468, 0.10586190968751907, 0.23333731293678284, 0.32464322447776794, 0.16232161223888397, 0.11159610748291016, 0.1724667102098465, 0.6164435148239136, 0.32489123940467834, 0.19136586785316467, 0.12798745930194855, 0.15444640815258026, 0.20121106505393982, 0.24085526168346405, 0.1701454520225525, 0.29167792201042175, 0.17456482350826263, 0.12374214828014374, 0.30289989709854126, 0.20193326473236084, 0.22418014705181122, 0.14888300001621246, 0.12150221318006516, 0.2329798936843872, 0.2902030050754547, 0.12670835852622986, 0.18801885843276978, 0.1553199291229248, 0.616599977016449, 0.14752520620822906, 0.23747959733009338, 0.18620559573173523, 0.2023973912000656, 0.2275846153497696, 0.2812662422657013, 0.18348227441310883, 0.2428118735551834, 0.14832399785518646, 0.1428305059671402, 0.642687976360321, 0.3213439881801605, 0.6165587306022644, 0.28156358003616333, 0.15251360833644867, 0.11966452747583389, 0.16189906001091003, 0.28156358003616333, 0.18380695581436157, 0.1682300865650177, 0.19938381016254425, 0.17134545743465424, 0.2741527259349823, 0.11942720413208008, 0.17562824487686157, 0.22480414807796478, 0.34423133730888367, 0.14050258696079254, 0.1860734522342682, 0.20992901921272278, 0.2140185385942459, 0.19629725813865662, 0.19425249099731445, 0.6167470216751099, 0.6174917221069336], \"Term\": [\"\\n\", \"\\n\", \"\\n\", \"\\n\", \"\\n\", \"\\n\\n\", \"\\n\\n\", \"\\n\\n\", \"\\n\\n\", \"\\n\\n\", \" \", \" \", \" \", \" \", \" \", \"$\", \"$\", \"$\", \"$\", \"$\", \".worth\", \".worth\", \".worth\", \"1.5h\", \"1.5h\", \"1.5h\", \"3.5\", \"3.5\", \"3.5\", \"3.5\", \"3.5\", \"AVEDA\", \"AVEDA\", \"AVEDA\", \"Adventure\", \"Adventure\", \"Aknowledgement\", \"Aryon\", \"Aryon\", \"Boneless\", \"Boneless\", \"Boneless\", \"Boneless\", \"Boneless\", \"Brookline\", \"Brookstone\", \"CCW\", \"CCW\", \"CES\", \"Caliente\", \"Caliente\", \"Caliente\", \"Caliente\", \"Cary\", \"Cary\", \"Cary\", \"Chapli\", \"Chapli\", \"Char\", \"Char\", \"Colleen\", \"DR\", \"DR\", \"DR\", \"DR\", \"DR\", \"Daaayyuuummm\", \"Darlene\", \"Delivary\", \"Delivary\", \"Deliverance\", \"Deliverance\", \"Dental\", \"Dental\", \"Dental\", \"Dental\", \"Dental\", \"Destini\", \"Destini\", \"Destini\", \"Donny\", \"Elaine\", \"Elmer\", \"Elmer\", \"Environmental\", \"Environmental\", \"Environmental\", \"Ev36\", \"FCP\", \"FCP\", \"Falcon\", \"Falcon\", \"Filipino\", \"Filipino\", \"Filipino\", \"Gabe\", \"Gabe\", \"Gabe\", \"Gabe\", \"Gabe\", \"Galley\", \"Galley\", \"Galley\", \"Galley\", \"Galley\", \"Greater\", \"Greater\", \"Greenway\", \"Greenway\", \"Greenway\", \"Guys\", \"Guys\", \"Guys\", \"Guys\", \"Guys\", \"Heyyy\", \"Hoagies\", \"Hoagies\", \"Ireland\", \"J.\", \"J.\", \"J.\", \"JLO\", \"Jeannette\", \"Jeffery\", \"Jina\", \"Jina\", \"Kang\", \"Kang\", \"Kang\", \"Kang\", \"Karen\", \"Kristy\", \"Lucy\", \"Lucy\", \"Lucy\", \"Lucy\", \"Lucy\", \"Lydia\", \"Lydia\", \"Matthew\", \"Matthew\", \"Matthew\", \"Mexicanos\", \"Miku\", \"Miku\", \"Miku\", \"Miku\", \"Miku\", \"Pam\", \"Pam\", \"Pam\", \"Pam\", \"Pam\", \"Paperjoy\", \"Paperjoy\", \"Paperjoy\", \"People\", \"People\", \"People\", \"People\", \"People\", \"Puzzlemaster\", \"Puzzlemaster\", \"Quiznos\", \"Quiznos\", \"Quiznos\", \"Quiznos\", \"Ray\", \"Ray\", \"Ray\", \"Ray\", \"Ray\", \"Renee\", \"Renee\", \"Renee\", \"Renee\", \"Renee\", \"Riaz\", \"Riaz\", \"Roof\", \"Roof\", \"Roof\", \"Roof\", \"Roof\", \"Roxton\", \"Roxton\", \"Rudy\", \"Rudy\", \"Schwartz\", \"Schwartz\", \"Schwartz\", \"Schwartz\", \"Schwartz\", \"Shatangi\", \"Sheldon\", \"Sheldon\", \"Sheldon\", \"Simplified\", \"Simplified\", \"Sixt\", \"Sixt\", \"Sixt\", \"Sixt\", \"Solomon\", \"Styles\", \"Styles\", \"Styles\", \"Styles\", \"Suzi\", \"Suzi\", \"Suzi\", \"Suzi\", \"Suzi\", \"TSO\", \"TSO\", \"Talia\", \"Talia\", \"Talia\", \"Vito\", \"Vito\", \"Vito\", \"Vito\", \"YC\", \"accueillant\", \"accueillant\", \"adult\", \"adult\", \"adult\", \"adult\", \"adult\", \"amature\", \"amature\", \"amazing\", \"amazing\", \"amazing\", \"amazing\", \"amazing\", \"area\", \"area\", \"area\", \"area\", \"area\", \"arse\", \"ask\", \"ask\", \"ask\", \"ask\", \"ask\", \"awesome\", \"awesome\", \"awesome\", \"awesome\", \"awesome\", \"axle\", \"axle\", \"axle\", \"axle\", \"bad\", \"bad\", \"bad\", \"bad\", \"bad\", \"bai\", \"balloon\", \"balloon\", \"balloon\", \"balloon\", \"balloon\", \"bar\", \"bar\", \"bar\", \"bar\", \"bar\", \"barley\", \"barley\", \"barley\", \"bathing\", \"bathing\", \"bathing\", \"battery\", \"battery\", \"battery\", \"battery\", \"battery\", \"bean\", \"bean\", \"bean\", \"bean\", \"bean\", \"billing\", \"billing\", \"billing\", \"billing\", \"billing\", \"blonde\", \"blonde\", \"blonde\", \"blonde\", \"blonde\", \"bookkeeping\", \"bookkeeping\", \"boom\", \"boom\", \"boom\", \"boom\", \"boom\", \"booster\", \"booster\", \"botanical\", \"botanical\", \"bra\", \"bra\", \"bra\", \"bra\", \"bra\", \"bring\", \"bring\", \"bring\", \"bring\", \"bring\", \"burger\", \"burger\", \"burger\", \"burger\", \"burger\", \"butmstill\", \"butmstill\", \"butterfly\", \"butterfly\", \"cake\", \"cake\", \"cake\", \"cake\", \"cake\", \"car\", \"car\", \"car\", \"car\", \"car\", \"chaat\", \"cheap\", \"cheap\", \"cheap\", \"cheap\", \"cheap\", \"check\", \"check\", \"check\", \"check\", \"check\", \"cheese\", \"cheese\", \"cheese\", \"cheese\", \"cheese\", \"chicken\", \"chicken\", \"chicken\", \"chicken\", \"chicken\", \"chintzy\", \"chintzy\", \"chop\", \"chop\", \"chop\", \"chop\", \"chop\", \"class\", \"class\", \"class\", \"class\", \"class\", \"clean\", \"clean\", \"clean\", \"clean\", \"clean\", \"coffee\", \"coffee\", \"coffee\", \"coffee\", \"coffee\", \"come\", \"come\", \"come\", \"come\", \"come\", \"concha\", \"concha\", \"cool\", \"cool\", \"cool\", \"cool\", \"cool\", \"cos\", \"cos\", \"cost\", \"cost\", \"cost\", \"cost\", \"cost\", \"costly\", \"costly\", \"costly\", \"costly\", \"costly\", \"customer\", \"customer\", \"customer\", \"customer\", \"customer\", \"cute\", \"cute\", \"cute\", \"cute\", \"cute\", \"cutest\", \"cutest\", \"dahl\", \"dahl\", \"dahl\", \"day\", \"day\", \"day\", \"day\", \"day\", \"definitely\", \"definitely\", \"definitely\", \"definitely\", \"definitely\", \"delicious\", \"delicious\", \"delicious\", \"delicious\", \"delicious\", \"delicious\\u200b\", \"delicious\\u200b\", \"demonic\", \"demonic\", \"dinner\", \"dinner\", \"dinner\", \"dinner\", \"dinner\", \"dish\", \"dish\", \"dish\", \"dish\", \"dish\", \"dolci\", \"dolci\", \"donair\", \"donair\", \"donair\", \"donair\", \"drink\", \"drink\", \"drink\", \"drink\", \"drink\", \"dulce\", \"dulce\", \"dulce\", \"dulce\", \"dulce\", \"easy\", \"easy\", \"easy\", \"easy\", \"easy\", \"eat\", \"eat\", \"eat\", \"eat\", \"eat\", \"enjoy\", \"enjoy\", \"enjoy\", \"enjoy\", \"enjoy\", \"everrr\", \"everrr\", \"everrr\", \"excellent\", \"excellent\", \"excellent\", \"excellent\", \"excellent\", \"experience\", \"experience\", \"experience\", \"experience\", \"experience\", \"extremely\", \"extremely\", \"extremely\", \"extremely\", \"extremely\", \"fetish\", \"fetish\", \"fetish\", \"fetish\", \"fetish\", \"fetta\", \"find\", \"find\", \"find\", \"find\", \"find\", \"finish\", \"finish\", \"finish\", \"finish\", \"finish\", \"flavor\", \"flavor\", \"flavor\", \"flavor\", \"flavor\", \"fluffiest\", \"food\", \"food\", \"food\", \"food\", \"food\", \"fresh\", \"fresh\", \"fresh\", \"fresh\", \"fresh\", \"fridendly\", \"fridendly\", \"friend\", \"friend\", \"friend\", \"friend\", \"friend\", \"friendly\", \"friendly\", \"friendly\", \"friendly\", \"friendly\", \"froide\", \"fungus\", \"fungus\", \"fungus\", \"fungus\", \"fungus\", \"get\", \"get\", \"get\", \"get\", \"get\", \"go\", \"go\", \"go\", \"go\", \"go\", \"good\", \"good\", \"good\", \"good\", \"good\", \"great\", \"great\", \"great\", \"great\", \"great\", \"green\", \"green\", \"green\", \"green\", \"green\", \"greenhouse\", \"greenhouse\", \"guy\", \"guy\", \"guy\", \"guy\", \"guy\", \"hair\", \"hair\", \"hair\", \"hair\", \"hair\", \"happy\", \"happy\", \"happy\", \"happy\", \"happy\", \"highly\", \"highly\", \"highly\", \"highly\", \"highly\", \"hot\", \"hot\", \"hot\", \"hot\", \"hot\", \"hotel\", \"hotel\", \"hotel\", \"hotel\", \"hotel\", \"hour\", \"hour\", \"hour\", \"hour\", \"hour\", \"huervos\", \"huge-\", \"imcomplete\", \"indefinitely\", \"indefinitely\", \"insectarium\", \"insectarium\", \"intelligently\", \"intelligently\", \"inversion\", \"inversion\", \"iphone\", \"iphone\", \"iphone\", \"jiaozi\", \"jiaozi\", \"jiaozi\", \"kheer\", \"know\", \"know\", \"know\", \"know\", \"know\", \"libretto\", \"licensed\", \"licensed\", \"licensed\", \"licensed\", \"licensed\", \"like\", \"like\", \"like\", \"like\", \"like\", \"line\", \"line\", \"line\", \"line\", \"line\", \"little\", \"little\", \"little\", \"little\", \"little\", \"livraison\", \"livraison\", \"livraison\", \"location\", \"location\", \"location\", \"location\", \"location\", \"look\", \"look\", \"look\", \"look\", \"look\", \"lot\", \"lot\", \"lot\", \"lot\", \"lot\", \"love\", \"love\", \"love\", \"love\", \"love\", \"luddite\", \"luddite\", \"luddite\", \"lunch\", \"lunch\", \"lunch\", \"lunch\", \"lunch\", \"macncheese\", \"macncheese\", \"make\", \"make\", \"make\", \"make\", \"make\", \"menu\", \"menu\", \"menu\", \"menu\", \"menu\", \"mikes\", \"mikes\", \"mikes\", \"minute\", \"minute\", \"minute\", \"minute\", \"minute\", \"momma\", \"momma\", \"n'ai\", \"n'ai\", \"n'ai\", \"nail\", \"nail\", \"nail\", \"nail\", \"nail\", \"need\", \"need\", \"need\", \"need\", \"need\", \"negate\", \"negate\", \"negate\", \"new\", \"new\", \"new\", \"new\", \"new\", \"nice\", \"nice\", \"nice\", \"nice\", \"nice\", \"night\", \"night\", \"night\", \"night\", \"night\", \"nipply\", \"not\", \"not\", \"not\", \"not\", \"not\", \"ny\", \"ny\", \"ny\", \"offer\", \"offer\", \"offer\", \"offer\", \"offer\", \"order\", \"order\", \"order\", \"order\", \"order\", \"outstanding\", \"outstanding\", \"outstanding\", \"outstanding\", \"outstanding\", \"paced\", \"paced\", \"palmas\", \"pam\", \"pasta\", \"pasta\", \"pasta\", \"pasta\", \"pasta\", \"people\", \"people\", \"people\", \"people\", \"people\", \"phone\\\"hello\", \"phone\\\"hello\", \"phone\\\"hello\", \"place\", \"place\", \"place\", \"place\", \"place\", \"point\", \"point\", \"point\", \"point\", \"point\", \"posoleshawwty\", \"posoleshawwty\", \"pottery\", \"pottery\", \"pottery\", \"pretty\", \"pretty\", \"pretty\", \"pretty\", \"pretty\", \"price\", \"price\", \"price\", \"price\", \"price\", \"priced\", \"purchase\", \"purchase\", \"purchase\", \"purchase\", \"purchase\", \"quality\", \"quality\", \"quality\", \"quality\", \"quality\", \"racerback\", \"racerback\", \"rancho\", \"rancho\", \"rancho\", \"rancho\", \"really??all\", \"recommend\", \"recommend\", \"recommend\", \"recommend\", \"recommend\", \"restaurant\", \"restaurant\", \"restaurant\", \"restaurant\", \"restaurant\", \"restaurant.com\", \"review\", \"review\", \"review\", \"review\", \"review\", \"ridgeville\", \"ridgeville\", \"ridgeville\", \"right\", \"right\", \"right\", \"right\", \"right\", \"roll\", \"roll\", \"roll\", \"roll\", \"roll\", \"romper\", \"romper\", \"satisfyingly\", \"satisfyingly\", \"satisfyingly\", \"say\", \"say\", \"say\", \"say\", \"say\", \"scrabble\", \"scrabble\", \"service\", \"service\", \"service\", \"service\", \"service\", \"shoooz\", \"shoots.but\", \"sign\", \"sign\", \"sign\", \"sign\", \"sign\", \"small\", \"small\", \"small\", \"small\", \"small\", \"somethjng\", \"soon\", \"soon\", \"soon\", \"soon\", \"soon\", \"soup\", \"soup\", \"soup\", \"soup\", \"soup\", \"special\", \"special\", \"special\", \"special\", \"special\", \"staff\", \"staff\", \"staff\", \"staff\", \"staff\", \"stance\", \"strip\", \"strip\", \"strip\", \"strip\", \"strip\", \"super\", \"super\", \"super\", \"super\", \"super\", \"sushi\", \"sushi\", \"sushi\", \"sushi\", \"sushi\", \"sweet\", \"sweet\", \"sweet\", \"sweet\", \"sweet\", \"table\", \"table\", \"table\", \"table\", \"table\", \"take\", \"take\", \"take\", \"take\", \"take\", \"taste\", \"taste\", \"taste\", \"taste\", \"taste\", \"tell\", \"tell\", \"tell\", \"tell\", \"tell\", \"thank\", \"thank\", \"thank\", \"thank\", \"thank\", \"think\", \"think\", \"think\", \"think\", \"think\", \"tide\", \"tide\", \"tikki\", \"tikki\", \"tikki\", \"time\", \"time\", \"time\", \"time\", \"time\", \"transluscent\", \"truly\", \"truly\", \"truly\", \"truly\", \"truly\", \"try\", \"try\", \"try\", \"try\", \"try\", \"uniform\", \"uniform\", \"uniform\", \"uniform\", \"uniform\", \"visit\", \"visit\", \"visit\", \"visit\", \"visit\", \"waffle\", \"waffle\", \"waffle\", \"waffle\", \"waffle\", \"waiste\", \"wait\", \"wait\", \"wait\", \"wait\", \"wait\", \"waitress\", \"waitress\", \"waitress\", \"waitress\", \"waitress\", \"want\", \"want\", \"want\", \"want\", \"want\", \"warm\", \"warm\", \"warm\", \"warm\", \"warm\", \"wattery\", \"way\", \"way\", \"way\", \"way\", \"way\", \"well\", \"well\", \"well\", \"well\", \"well\", \"wench\", \"wench\", \"whooper\", \"wine\", \"wine\", \"wine\", \"wine\", \"wine\", \"wish\", \"wish\", \"wish\", \"wish\", \"wish\", \"woman\", \"woman\", \"woman\", \"woman\", \"woman\", \"work\", \"work\", \"work\", \"work\", \"work\", \"wtf???close\", \"\\u5929\\u6c23\\u5f88\\u71b1\\u5403\\u4e0d\\u4e0b\\u6771\\u897f\\uff0c\\u4eca\\u5929\\u6211\\u9ede\\u4e86\\u4e00\\u500b\\u97d3\\u570b\\u51b7\\u9762\\u6e6f\\u3001\\u9910\\u5f8c\\u9ede\\u4e86\\u751c\\u9ede\\uff0c\\u51b0\\u6c99\\u7cfb\\u5217\\u4e0d\\u6703\\u592a\\u751c\\u81a9\\uff0c\\u89ba\\u5f97\\u5e97\\u5bb6\\u5f88\\u7528\\u5fc3\\u88fd\\u4f5c\\uff0c\\u5305\\u542b\\u64fa\\u76e4\\u7cbe\\u7dfb\\u3001\\u4f50\\u6599\\u885b\\u751f\\uff0c\\u590f\\u65e5\\u60f3\\u958b\\u80c3\\uff0c\\u9019\\u662f\\u4e00\\u500b\\u4e0d\\u932f\\u7684\\u9078\\u64c7\\uff0c\\u670d\\u52d9\\u4eba\\u54e1\\u4e5f\\u5f88\\u656c\\u696d\\uff0c\\u4ee5\\u5f8c\\u6703\\u5e38\\u5e38\\u4f86\"]}, \"R\": 30, \"lambda.step\": 0.01, \"plot.opts\": {\"xlab\": \"PC1\", \"ylab\": \"PC2\"}, \"topic.order\": [2, 3, 1, 5, 4]};\n",
       "\n",
       "function LDAvis_load_lib(url, callback){\n",
       "  var s = document.createElement('script');\n",
       "  s.src = url;\n",
       "  s.async = true;\n",
       "  s.onreadystatechange = s.onload = callback;\n",
       "  s.onerror = function(){console.warn(\"failed to load library \" + url);};\n",
       "  document.getElementsByTagName(\"head\")[0].appendChild(s);\n",
       "}\n",
       "\n",
       "if(typeof(LDAvis) !== \"undefined\"){\n",
       "   // already loaded: just create the visualization\n",
       "   !function(LDAvis){\n",
       "       new LDAvis(\"#\" + \"ldavis_el3586159470788963653388046\", ldavis_el3586159470788963653388046_data);\n",
       "   }(LDAvis);\n",
       "}else if(typeof define === \"function\" && define.amd){\n",
       "   // require.js is available: use it to load d3/LDAvis\n",
       "   require.config({paths: {d3: \"https://cdnjs.cloudflare.com/ajax/libs/d3/3.5.5/d3.min\"}});\n",
       "   require([\"d3\"], function(d3){\n",
       "      window.d3 = d3;\n",
       "      LDAvis_load_lib(\"https://cdn.rawgit.com/bmabey/pyLDAvis/files/ldavis.v1.0.0.js\", function(){\n",
       "        new LDAvis(\"#\" + \"ldavis_el3586159470788963653388046\", ldavis_el3586159470788963653388046_data);\n",
       "      });\n",
       "    });\n",
       "}else{\n",
       "    // require.js not available: dynamically load d3 & LDAvis\n",
       "    LDAvis_load_lib(\"https://cdnjs.cloudflare.com/ajax/libs/d3/3.5.5/d3.min.js\", function(){\n",
       "         LDAvis_load_lib(\"https://cdn.rawgit.com/bmabey/pyLDAvis/files/ldavis.v1.0.0.js\", function(){\n",
       "                 new LDAvis(\"#\" + \"ldavis_el3586159470788963653388046\", ldavis_el3586159470788963653388046_data);\n",
       "            })\n",
       "         });\n",
       "}\n",
       "</script>"
      ],
      "text/plain": [
       "<IPython.core.display.HTML object>"
      ]
     },
     "execution_count": 123,
     "metadata": {},
     "output_type": "execute_result"
    }
   ],
   "source": [
    "pyLDAvis.display(vis_data)"
   ]
  },
  {
   "cell_type": "code",
   "execution_count": 67,
   "metadata": {},
   "outputs": [
    {
     "data": {
      "image/png": "[encoded data removed]",
      "text/plain": [
       "<Figure size 1080x720 with 1 Axes>"
      ]
     },
     "metadata": {
      "needs_background": "light"
     },
     "output_type": "display_data"
    }
   ],
   "source": [
    "ax = plt.figure(figsize=(15,10))\n",
    "sns.boxplot(x='funny', y='stars',\n",
    "                 data=yelp, palette='cubehelix');"
   ]
  },
  {
   "cell_type": "markdown",
   "metadata": {},
   "source": [
    "### My analysis of the topic model's results were that it was close to what I was expecting from the Yelp reviews. Furthermore, the Gensim visualization seems to be giving me the same results for similar words such as great, good, place, food, which makes sense since the majority of the reviews use those words. Gensim is a great library for NLP that I'll be using more often for these kind of projects."
   ]
  },
  {
   "cell_type": "markdown",
   "metadata": {},
   "source": [
    "## Stretch Goals\n",
    "\n",
    "Complete one of more of these to push your score towards a three: \n",
    "* Incorporate named entity recognition into your analysis\n",
    "* Compare vectorization methods in the classification section\n",
    "* Analyze more (or all) of the yelp dataset - this one is v. hard. \n",
    "* Use a generator object on the reviews file - this would help you with the analyzing the whole dataset.\n",
    "* Incorporate any of the other yelp dataset entities in your analysis (business, users, etc.)"
   ]
  }
 ],
 "metadata": {
  "kernel_info": {
   "name": "u4-s1-nlp"
  },
  "kernelspec": {
   "display_name": "U4-S1-NLP (Python3)",
   "language": "python",
   "name": "u4-s1-nlp"
  },
  "language_info": {
   "codemirror_mode": {
    "name": "ipython",
    "version": 3
   },
   "file_extension": ".py",
   "mimetype": "text/x-python",
   "name": "python",
   "nbconvert_exporter": "python",
   "pygments_lexer": "ipython3",
   "version": "3.7.0"
  },
  "nteract": {
   "version": "0.14.5"
  },
  "toc-autonumbering": false
 },
 "nbformat": 4,
 "nbformat_minor": 4
}
