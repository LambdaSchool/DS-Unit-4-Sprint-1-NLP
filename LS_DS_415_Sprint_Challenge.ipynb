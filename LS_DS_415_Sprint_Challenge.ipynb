{
  "nbformat": 4,
  "nbformat_minor": 0,
  "metadata": {
    "colab": {
      "name": "LS_DS_415_Sprint_Challenge.ipynb",
      "version": "0.3.2",
      "provenance": [],
      "collapsed_sections": [],
      "include_colab_link": true
    },
    "language_info": {
      "codemirror_mode": {
        "name": "ipython",
        "version": 3
      },
      "file_extension": ".py",
      "mimetype": "text/x-python",
      "name": "python",
      "nbconvert_exporter": "python",
      "pygments_lexer": "ipython3",
      "version": "3.7.3"
    },
    "kernelspec": {
      "display_name": "U4-S1-NLP (Python 3)",
      "language": "python",
      "name": "u4-s1-nlp"
    }
  },
  "cells": [
    {
      "cell_type": "markdown",
      "metadata": {
        "id": "view-in-github",
        "colab_type": "text"
      },
      "source": [
        "<a href=\"https://colab.research.google.com/github/danhorsley/DS-Unit-4-Sprint-1-NLP/blob/master/LS_DS_415_Sprint_Challenge.ipynb\" target=\"_parent\"><img src=\"https://colab.research.google.com/assets/colab-badge.svg\" alt=\"Open In Colab\"/></a>"
      ]
    },
    {
      "cell_type": "markdown",
      "metadata": {
        "id": "jlyfJqJJtn2i",
        "colab_type": "text"
      },
      "source": [
        "<img align=\"left\" src=\"https://lever-client-logos.s3.amazonaws.com/864372b1-534c-480e-acd5-9711f850815c-1524247202159.png\" width=200>\n",
        "<br></br>\n",
        "<br></br>\n",
        "\n",
        "# Sprint Challenge\n",
        "## *Data Science Unit 4 Sprint 1*\n",
        "\n",
        "After a week of Natural Language Processing, you've learned some cool new stuff: how to process text, how turn text into vectors, and how to model topics from documents. Apply your newly acquired skills to one of the most famous NLP datasets out there: [Yelp](https://www.yelp.com/dataset/challenge). As part of the job selection process, some of my friends have been asked to create analysis of this dataset, so I want to empower you to have a head start.  \n",
        "\n",
        "The real dataset is massive (almost 8 gigs uncompressed). I've sampled the data for you to something more managable for the Sprint Challenge. You can analyze the full dataset as a stretch goal or after the sprint challenge. As you work on the challenge, I suggest adding notes about your findings and things you want to analyze in the future.\n",
        "\n",
        "## Challenge Objectives\n",
        "*Successfully complete these all these objectives to earn a 2. There are more details on each objective further down in the notebook.*\n",
        "* <a href=\"#p1\">Part 1</a>: Write a function to tokenize the yelp reviews\n",
        "* <a href=\"#p2\">Part 2</a>: Create a vector representation of those tokens\n",
        "* <a href=\"#p3\">Part 3</a>: Use your tokens in a classification model on yelp rating\n",
        "* <a href=\"#p4\">Part 4</a>: Estimate & Interpret a topic model of the Yelp reviews"
      ]
    },
    {
      "cell_type": "code",
      "metadata": {
        "id": "C6lV5SfYtvfh",
        "colab_type": "code",
        "colab": {
          "resources": {
            "http://localhost:8080/nbextensions/google.colab/files.js": {
              "data": "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",
              "ok": true,
              "headers": [
                [
                  "content-type",
                  "application/javascript"
                ]
              ],
              "status": 200,
              "status_text": ""
            }
          },
          "base_uri": "https://localhost:8080/",
          "height": 74
        },
        "outputId": "bda9334f-7f84-413c-f042-c7710b970e98"
      },
      "source": [
        "from google.colab import files\n",
        "upl = files.upload()"
      ],
      "execution_count": 1,
      "outputs": [
        {
          "output_type": "display_data",
          "data": {
            "text/html": [
              "\n",
              "     <input type=\"file\" id=\"files-7945352f-4d14-4c56-9b2b-a89fa7c46fbb\" name=\"files[]\" multiple disabled />\n",
              "     <output id=\"result-7945352f-4d14-4c56-9b2b-a89fa7c46fbb\">\n",
              "      Upload widget is only available when the cell has been executed in the\n",
              "      current browser session. Please rerun this cell to enable.\n",
              "      </output>\n",
              "      <script src=\"/nbextensions/google.colab/files.js\"></script> "
            ],
            "text/plain": [
              "<IPython.core.display.HTML object>"
            ]
          },
          "metadata": {
            "tags": []
          }
        },
        {
          "output_type": "stream",
          "text": [
            "Saving review_sample.json to review_sample.json\n"
          ],
          "name": "stdout"
        }
      ]
    },
    {
      "cell_type": "code",
      "metadata": {
        "id": "srG7XzCMtn2l",
        "colab_type": "code",
        "colab": {}
      },
      "source": [
        "import pandas as pd\n",
        "\n",
        "#yelp = pd.read_json('./data/review_sample.json', lines=True)\n",
        "yelp = pd.read_json('review_sample.json', lines=True)"
      ],
      "execution_count": 0,
      "outputs": []
    },
    {
      "cell_type": "code",
      "metadata": {
        "id": "LAuA4EKStn2y",
        "colab_type": "code",
        "colab": {
          "base_uri": "https://localhost:8080/",
          "height": 279
        },
        "outputId": "52356010-db7f-418c-f69f-e82d7f5584a0"
      },
      "source": [
        "yelp.head()"
      ],
      "execution_count": 3,
      "outputs": [
        {
          "output_type": "execute_result",
          "data": {
            "text/html": [
              "<div>\n",
              "<style scoped>\n",
              "    .dataframe tbody tr th:only-of-type {\n",
              "        vertical-align: middle;\n",
              "    }\n",
              "\n",
              "    .dataframe tbody tr th {\n",
              "        vertical-align: top;\n",
              "    }\n",
              "\n",
              "    .dataframe thead th {\n",
              "        text-align: right;\n",
              "    }\n",
              "</style>\n",
              "<table border=\"1\" class=\"dataframe\">\n",
              "  <thead>\n",
              "    <tr style=\"text-align: right;\">\n",
              "      <th></th>\n",
              "      <th>business_id</th>\n",
              "      <th>cool</th>\n",
              "      <th>date</th>\n",
              "      <th>funny</th>\n",
              "      <th>review_id</th>\n",
              "      <th>stars</th>\n",
              "      <th>text</th>\n",
              "      <th>useful</th>\n",
              "      <th>user_id</th>\n",
              "    </tr>\n",
              "  </thead>\n",
              "  <tbody>\n",
              "    <tr>\n",
              "      <th>0</th>\n",
              "      <td>nDuEqIyRc8YKS1q1fX0CZg</td>\n",
              "      <td>1</td>\n",
              "      <td>2015-03-31 16:50:30</td>\n",
              "      <td>0</td>\n",
              "      <td>eZs2tpEJtXPwawvHnHZIgQ</td>\n",
              "      <td>1</td>\n",
              "      <td>BEWARE!!! FAKE, FAKE, FAKE....We also own a sm...</td>\n",
              "      <td>10</td>\n",
              "      <td>n1LM36qNg4rqGXIcvVXv8w</td>\n",
              "    </tr>\n",
              "    <tr>\n",
              "      <th>1</th>\n",
              "      <td>eMYeEapscbKNqUDCx705hg</td>\n",
              "      <td>0</td>\n",
              "      <td>2015-12-16 05:31:03</td>\n",
              "      <td>0</td>\n",
              "      <td>DoQDWJsNbU0KL1O29l_Xug</td>\n",
              "      <td>4</td>\n",
              "      <td>Came here for lunch Togo. Service was quick. S...</td>\n",
              "      <td>0</td>\n",
              "      <td>5CgjjDAic2-FAvCtiHpytA</td>\n",
              "    </tr>\n",
              "    <tr>\n",
              "      <th>2</th>\n",
              "      <td>6Q7-wkCPc1KF75jZLOTcMw</td>\n",
              "      <td>1</td>\n",
              "      <td>2010-06-20 19:14:48</td>\n",
              "      <td>1</td>\n",
              "      <td>DDOdGU7zh56yQHmUnL1idQ</td>\n",
              "      <td>3</td>\n",
              "      <td>I've been to Vegas dozens of times and had nev...</td>\n",
              "      <td>2</td>\n",
              "      <td>BdV-cf3LScmb8kZ7iiBcMA</td>\n",
              "    </tr>\n",
              "    <tr>\n",
              "      <th>3</th>\n",
              "      <td>k3zrItO4l9hwfLRwHBDc9w</td>\n",
              "      <td>3</td>\n",
              "      <td>2010-07-13 00:33:45</td>\n",
              "      <td>4</td>\n",
              "      <td>LfTMUWnfGFMOfOIyJcwLVA</td>\n",
              "      <td>1</td>\n",
              "      <td>We went here on a night where they closed off ...</td>\n",
              "      <td>5</td>\n",
              "      <td>cZZnBqh4gAEy4CdNvJailQ</td>\n",
              "    </tr>\n",
              "    <tr>\n",
              "      <th>4</th>\n",
              "      <td>6hpfRwGlOzbNv7k5eP9rsQ</td>\n",
              "      <td>1</td>\n",
              "      <td>2018-06-30 02:30:01</td>\n",
              "      <td>0</td>\n",
              "      <td>zJSUdI7bJ8PNJAg4lnl_Gg</td>\n",
              "      <td>4</td>\n",
              "      <td>3.5 to 4 stars\\n\\nNot bad for the price, $12.9...</td>\n",
              "      <td>5</td>\n",
              "      <td>n9QO4ClYAS7h9fpQwa5bhA</td>\n",
              "    </tr>\n",
              "  </tbody>\n",
              "</table>\n",
              "</div>"
            ],
            "text/plain": [
              "              business_id  cool  ... useful                 user_id\n",
              "0  nDuEqIyRc8YKS1q1fX0CZg     1  ...     10  n1LM36qNg4rqGXIcvVXv8w\n",
              "1  eMYeEapscbKNqUDCx705hg     0  ...      0  5CgjjDAic2-FAvCtiHpytA\n",
              "2  6Q7-wkCPc1KF75jZLOTcMw     1  ...      2  BdV-cf3LScmb8kZ7iiBcMA\n",
              "3  k3zrItO4l9hwfLRwHBDc9w     3  ...      5  cZZnBqh4gAEy4CdNvJailQ\n",
              "4  6hpfRwGlOzbNv7k5eP9rsQ     1  ...      5  n9QO4ClYAS7h9fpQwa5bhA\n",
              "\n",
              "[5 rows x 9 columns]"
            ]
          },
          "metadata": {
            "tags": []
          },
          "execution_count": 3
        }
      ]
    },
    {
      "cell_type": "markdown",
      "metadata": {
        "id": "d192QG8Ztn29",
        "colab_type": "text"
      },
      "source": [
        "## Part 1: Tokenize Function\n",
        "<a id=\"#p1\"></a>\n",
        "\n",
        "Complete the function `tokenize`. Your function should\n",
        "- accept one document at a time\n",
        "- return a list of tokens\n",
        "\n",
        "You are free to use any method you have learned this week."
      ]
    },
    {
      "cell_type": "code",
      "metadata": {
        "id": "N6lvdfRfucY4",
        "colab_type": "code",
        "colab": {}
      },
      "source": [
        "import spacy\n",
        "from spacy.tokenizer import Tokenizer\n",
        "nlp = spacy.load(\"en_core_web_sm\")\n",
        "tokenizer = Tokenizer(nlp.vocab)"
      ],
      "execution_count": 0,
      "outputs": []
    },
    {
      "cell_type": "code",
      "metadata": {
        "id": "pTr3_jcP1WbR",
        "colab_type": "code",
        "colab": {}
      },
      "source": [
        "my_words = ['ve','it','go','don']"
      ],
      "execution_count": 0,
      "outputs": []
    },
    {
      "cell_type": "code",
      "metadata": {
        "id": "mh2gtPShvak6",
        "colab_type": "code",
        "colab": {}
      },
      "source": [
        "#testing stuff\n",
        "#for x in tokenizer.tokens_from_list(yelp['text'][0].split()):\n",
        "#  print(x.lemma_)"
      ],
      "execution_count": 0,
      "outputs": []
    },
    {
      "cell_type": "code",
      "metadata": {
        "id": "ViSoJfl_tn2_",
        "colab_type": "code",
        "colab": {}
      },
      "source": [
        "def tokenize(doc):\n",
        "    tokens=[]\n",
        "    for text in tokenizer.tokens_from_list(doc.split()):\n",
        "\n",
        "      if (text.is_stop == False) and (text.is_punct==False) and (text.is_space==False) and (text.lemma_ not in my_words):\n",
        "        tokens.append(text.lemma_)     \n",
        "    \n",
        "    return tokens"
      ],
      "execution_count": 0,
      "outputs": []
    },
    {
      "cell_type": "code",
      "metadata": {
        "id": "ceMlfC0v1fbT",
        "colab_type": "code",
        "colab": {}
      },
      "source": [
        ""
      ],
      "execution_count": 0,
      "outputs": []
    },
    {
      "cell_type": "code",
      "metadata": {
        "id": "p_OJ79bKwYlK",
        "colab_type": "code",
        "colab": {
          "base_uri": "https://localhost:8080/",
          "height": 34
        },
        "outputId": "acc0d0bf-04dd-4bc4-ff06-ab49229fe454"
      },
      "source": [
        "#testing fucntion\n",
        "tokenize(yelp['text'][0])[:5]"
      ],
      "execution_count": 34,
      "outputs": [
        {
          "output_type": "execute_result",
          "data": {
            "text/plain": [
              "['BEWARE!!!', 'FAKE,', 'FAKE,', 'FAKE....We', 'small']"
            ]
          },
          "metadata": {
            "tags": []
          },
          "execution_count": 34
        }
      ]
    },
    {
      "cell_type": "markdown",
      "metadata": {
        "id": "UQZT3BdGtn3F",
        "colab_type": "text"
      },
      "source": [
        "## Part 2: Vector Representation\n",
        "<a id=\"#p2\"></a>\n",
        "1. Create a vector representation of the reviews\n",
        "2. Write a fake review and query for the 10 most similiar reviews, print the text of the reviews. Do you notice any patterns?\n",
        "    - Given the size of the dataset, it will probably be best to use a `NearestNeighbors` model for this. "
      ]
    },
    {
      "cell_type": "code",
      "metadata": {
        "id": "lZswQAUEtn3I",
        "colab_type": "code",
        "colab": {}
      },
      "source": [
        "#first we make a new column of the tokens\n",
        "yelp['tokens'] = yelp['text'].apply(tokenize)"
      ],
      "execution_count": 0,
      "outputs": []
    },
    {
      "cell_type": "code",
      "metadata": {
        "id": "vuEA81Tvtn3R",
        "colab_type": "code",
        "colab": {
          "base_uri": "https://localhost:8080/",
          "height": 241
        },
        "outputId": "fc8fd3c7-e819-41fb-ee5e-457d1816ead4"
      },
      "source": [
        "#checking new column\n",
        "yelp.head(2)"
      ],
      "execution_count": 50,
      "outputs": [
        {
          "output_type": "execute_result",
          "data": {
            "text/html": [
              "<div>\n",
              "<style scoped>\n",
              "    .dataframe tbody tr th:only-of-type {\n",
              "        vertical-align: middle;\n",
              "    }\n",
              "\n",
              "    .dataframe tbody tr th {\n",
              "        vertical-align: top;\n",
              "    }\n",
              "\n",
              "    .dataframe thead th {\n",
              "        text-align: right;\n",
              "    }\n",
              "</style>\n",
              "<table border=\"1\" class=\"dataframe\">\n",
              "  <thead>\n",
              "    <tr style=\"text-align: right;\">\n",
              "      <th></th>\n",
              "      <th>business_id</th>\n",
              "      <th>cool</th>\n",
              "      <th>date</th>\n",
              "      <th>funny</th>\n",
              "      <th>review_id</th>\n",
              "      <th>stars</th>\n",
              "      <th>text</th>\n",
              "      <th>useful</th>\n",
              "      <th>user_id</th>\n",
              "      <th>tokens</th>\n",
              "    </tr>\n",
              "  </thead>\n",
              "  <tbody>\n",
              "    <tr>\n",
              "      <th>0</th>\n",
              "      <td>nDuEqIyRc8YKS1q1fX0CZg</td>\n",
              "      <td>1</td>\n",
              "      <td>2015-03-31 16:50:30</td>\n",
              "      <td>0</td>\n",
              "      <td>eZs2tpEJtXPwawvHnHZIgQ</td>\n",
              "      <td>1</td>\n",
              "      <td>BEWARE!!! FAKE, FAKE, FAKE....We also own a sm...</td>\n",
              "      <td>10</td>\n",
              "      <td>n1LM36qNg4rqGXIcvVXv8w</td>\n",
              "      <td>[BEWARE!!!, FAKE,, FAKE,, FAKE....We, small, b...</td>\n",
              "    </tr>\n",
              "    <tr>\n",
              "      <th>1</th>\n",
              "      <td>eMYeEapscbKNqUDCx705hg</td>\n",
              "      <td>0</td>\n",
              "      <td>2015-12-16 05:31:03</td>\n",
              "      <td>0</td>\n",
              "      <td>DoQDWJsNbU0KL1O29l_Xug</td>\n",
              "      <td>4</td>\n",
              "      <td>Came here for lunch Togo. Service was quick. S...</td>\n",
              "      <td>0</td>\n",
              "      <td>5CgjjDAic2-FAvCtiHpytA</td>\n",
              "      <td>[Came, lunch, Togo., Service, quick., Staff, f...</td>\n",
              "    </tr>\n",
              "  </tbody>\n",
              "</table>\n",
              "</div>"
            ],
            "text/plain": [
              "              business_id  ...                                             tokens\n",
              "0  nDuEqIyRc8YKS1q1fX0CZg  ...  [BEWARE!!!, FAKE,, FAKE,, FAKE....We, small, b...\n",
              "1  eMYeEapscbKNqUDCx705hg  ...  [Came, lunch, Togo., Service, quick., Staff, f...\n",
              "\n",
              "[2 rows x 10 columns]"
            ]
          },
          "metadata": {
            "tags": []
          },
          "execution_count": 50
        }
      ]
    },
    {
      "cell_type": "code",
      "metadata": {
        "id": "JLTM3uXBz3og",
        "colab_type": "code",
        "colab": {}
      },
      "source": [
        "from sklearn.feature_extraction.text import TfidfVectorizer\n",
        "\n",
        "def add_vectors(frame,num_features=20):\n",
        "    tfidf = TfidfVectorizer(max_features = num_features)\n",
        "    mystrings = [' '.join(x) for x in list(frame['tokens'])]\n",
        "    tfidf.fit(mystrings)\n",
        "    dtm = tfidf.transform(mystrings)\n",
        "    vectorframe = pd.DataFrame(dtm.todense(), columns = tfidf.get_feature_names())\n",
        "    #return pd.merge(frame,vectorframe,left_index=True,right_index=True)\n",
        "    #return vectorframe\n",
        "    return dtm"
      ],
      "execution_count": 0,
      "outputs": []
    },
    {
      "cell_type": "code",
      "metadata": {
        "id": "VTYtd2Wd0XN9",
        "colab_type": "code",
        "colab": {}
      },
      "source": [
        "yelp_v = add_vectors(yelp)"
      ],
      "execution_count": 0,
      "outputs": []
    },
    {
      "cell_type": "code",
      "metadata": {
        "id": "SvAou66c0bFq",
        "colab_type": "code",
        "colab": {
          "base_uri": "https://localhost:8080/",
          "height": 215
        },
        "outputId": "796cf2ef-5a2c-4a3b-d73a-d24656bab4c1"
      },
      "source": [
        "yelp_v.head()"
      ],
      "execution_count": 63,
      "outputs": [
        {
          "output_type": "execute_result",
          "data": {
            "text/html": [
              "<div>\n",
              "<style scoped>\n",
              "    .dataframe tbody tr th:only-of-type {\n",
              "        vertical-align: middle;\n",
              "    }\n",
              "\n",
              "    .dataframe tbody tr th {\n",
              "        vertical-align: top;\n",
              "    }\n",
              "\n",
              "    .dataframe thead th {\n",
              "        text-align: right;\n",
              "    }\n",
              "</style>\n",
              "<table border=\"1\" class=\"dataframe\">\n",
              "  <thead>\n",
              "    <tr style=\"text-align: right;\">\n",
              "      <th></th>\n",
              "      <th>come</th>\n",
              "      <th>don</th>\n",
              "      <th>food</th>\n",
              "      <th>get</th>\n",
              "      <th>good</th>\n",
              "      <th>great</th>\n",
              "      <th>it</th>\n",
              "      <th>like</th>\n",
              "      <th>look</th>\n",
              "      <th>love</th>\n",
              "      <th>nice</th>\n",
              "      <th>order</th>\n",
              "      <th>place</th>\n",
              "      <th>restaurant</th>\n",
              "      <th>service</th>\n",
              "      <th>time</th>\n",
              "      <th>try</th>\n",
              "      <th>ve</th>\n",
              "      <th>want</th>\n",
              "      <th>well</th>\n",
              "    </tr>\n",
              "  </thead>\n",
              "  <tbody>\n",
              "    <tr>\n",
              "      <th>0</th>\n",
              "      <td>0.0</td>\n",
              "      <td>0.0</td>\n",
              "      <td>0.00000</td>\n",
              "      <td>0.00000</td>\n",
              "      <td>0.000000</td>\n",
              "      <td>0.0</td>\n",
              "      <td>0.0</td>\n",
              "      <td>0.455882</td>\n",
              "      <td>0.568395</td>\n",
              "      <td>0.0</td>\n",
              "      <td>0.000000</td>\n",
              "      <td>0.0</td>\n",
              "      <td>0.000000</td>\n",
              "      <td>0.0</td>\n",
              "      <td>0.000000</td>\n",
              "      <td>0.442615</td>\n",
              "      <td>0.522676</td>\n",
              "      <td>0.000000</td>\n",
              "      <td>0.0</td>\n",
              "      <td>0.000000</td>\n",
              "    </tr>\n",
              "    <tr>\n",
              "      <th>1</th>\n",
              "      <td>0.0</td>\n",
              "      <td>0.0</td>\n",
              "      <td>0.00000</td>\n",
              "      <td>0.00000</td>\n",
              "      <td>0.697192</td>\n",
              "      <td>0.0</td>\n",
              "      <td>0.0</td>\n",
              "      <td>0.000000</td>\n",
              "      <td>0.000000</td>\n",
              "      <td>0.0</td>\n",
              "      <td>0.000000</td>\n",
              "      <td>0.0</td>\n",
              "      <td>0.000000</td>\n",
              "      <td>0.0</td>\n",
              "      <td>0.716885</td>\n",
              "      <td>0.000000</td>\n",
              "      <td>0.000000</td>\n",
              "      <td>0.000000</td>\n",
              "      <td>0.0</td>\n",
              "      <td>0.000000</td>\n",
              "    </tr>\n",
              "    <tr>\n",
              "      <th>2</th>\n",
              "      <td>0.0</td>\n",
              "      <td>0.0</td>\n",
              "      <td>0.00000</td>\n",
              "      <td>0.30073</td>\n",
              "      <td>0.000000</td>\n",
              "      <td>0.0</td>\n",
              "      <td>0.0</td>\n",
              "      <td>0.269679</td>\n",
              "      <td>0.336236</td>\n",
              "      <td>0.0</td>\n",
              "      <td>0.677962</td>\n",
              "      <td>0.0</td>\n",
              "      <td>0.000000</td>\n",
              "      <td>0.0</td>\n",
              "      <td>0.000000</td>\n",
              "      <td>0.261831</td>\n",
              "      <td>0.000000</td>\n",
              "      <td>0.338506</td>\n",
              "      <td>0.0</td>\n",
              "      <td>0.284614</td>\n",
              "    </tr>\n",
              "    <tr>\n",
              "      <th>3</th>\n",
              "      <td>0.0</td>\n",
              "      <td>0.0</td>\n",
              "      <td>0.00000</td>\n",
              "      <td>0.00000</td>\n",
              "      <td>0.000000</td>\n",
              "      <td>0.0</td>\n",
              "      <td>0.0</td>\n",
              "      <td>0.000000</td>\n",
              "      <td>0.000000</td>\n",
              "      <td>0.0</td>\n",
              "      <td>0.000000</td>\n",
              "      <td>0.0</td>\n",
              "      <td>0.636693</td>\n",
              "      <td>0.0</td>\n",
              "      <td>0.000000</td>\n",
              "      <td>0.000000</td>\n",
              "      <td>0.000000</td>\n",
              "      <td>0.000000</td>\n",
              "      <td>0.0</td>\n",
              "      <td>0.771117</td>\n",
              "    </tr>\n",
              "    <tr>\n",
              "      <th>4</th>\n",
              "      <td>0.0</td>\n",
              "      <td>0.0</td>\n",
              "      <td>0.50124</td>\n",
              "      <td>0.00000</td>\n",
              "      <td>0.511698</td>\n",
              "      <td>0.0</td>\n",
              "      <td>0.0</td>\n",
              "      <td>0.000000</td>\n",
              "      <td>0.697799</td>\n",
              "      <td>0.0</td>\n",
              "      <td>0.000000</td>\n",
              "      <td>0.0</td>\n",
              "      <td>0.000000</td>\n",
              "      <td>0.0</td>\n",
              "      <td>0.000000</td>\n",
              "      <td>0.000000</td>\n",
              "      <td>0.000000</td>\n",
              "      <td>0.000000</td>\n",
              "      <td>0.0</td>\n",
              "      <td>0.000000</td>\n",
              "    </tr>\n",
              "  </tbody>\n",
              "</table>\n",
              "</div>"
            ],
            "text/plain": [
              "   come  don     food      get  ...       try        ve  want      well\n",
              "0   0.0  0.0  0.00000  0.00000  ...  0.522676  0.000000   0.0  0.000000\n",
              "1   0.0  0.0  0.00000  0.00000  ...  0.000000  0.000000   0.0  0.000000\n",
              "2   0.0  0.0  0.00000  0.30073  ...  0.000000  0.338506   0.0  0.284614\n",
              "3   0.0  0.0  0.00000  0.00000  ...  0.000000  0.000000   0.0  0.771117\n",
              "4   0.0  0.0  0.50124  0.00000  ...  0.000000  0.000000   0.0  0.000000\n",
              "\n",
              "[5 rows x 20 columns]"
            ]
          },
          "metadata": {
            "tags": []
          },
          "execution_count": 63
        }
      ]
    },
    {
      "cell_type": "code",
      "metadata": {
        "id": "QQTk_Q9j16ab",
        "colab_type": "code",
        "colab": {
          "base_uri": "https://localhost:8080/",
          "height": 238
        },
        "outputId": "bf7c8a2b-f402-446b-980f-4ae1e903b7a9"
      },
      "source": [
        "from sklearn.neighbors import NearestNeighbors\n",
        "nn = NearestNeighbors(n_neighbors=10, algorithm ='ball_tree')\n",
        "mystrings = [' '.join(x) for x in list(yelp['tokens'])]\n",
        "tfidf = TfidfVectorizer(max_features = 20)\n",
        "tfidf.fit(mystrings)\n",
        "nn.fit(yelp_v)\n",
        "my_fake_review = [\"\"\"this is my nice FAKE review.  let's try what other great reviews \n",
        "are closest to this terrible review I have written.  the restaurant was great, the service was good\n",
        "and the food was not bad.  come here!\"\"\"]\n",
        "new = tfidf.transform(my_fake_review)\n",
        "new.todense()\n",
        "revs = nn.kneighbors(new.todense())[1]\n",
        "for rev in revs[0]:\n",
        "  print(mystrings[rev])"
      ],
      "execution_count": 85,
      "outputs": [
        {
          "output_type": "stream",
          "text": [
            "food service Great... highly recommend restaurant.... manager experience great... Try jalepena cheese dip\n",
            "crave Indian food coupon BF decide try place dinner. share tandoori chicken, Rogan Josh (heat level 5 10), plain basmati rice, garlic naan. Food fresh, aromatic sizzle arrive table. Service great waiter super polite quick fill water. Sunday 7, group restaurant. great experience definitely come dinner check lunch buffet.\n",
            "Prosecco Friday night dinner. Having hear great restaurant eager try it. Friends tell food great, service great great host owner was. excited. True food good, service good. waiter Joaquin terrific. However, owner, Guiseppe, great disappointment. sit watch single table, twice, speak guest sit table talk ask was. sit good 90 minute come table food service was. visit table twice. bill $100 wasn't take space ordering. insulted. husband stop talk leave tell food great notice stop table others, lie say \"was putt fires.\" watch hour visit table. pay left. again. chance impression!\n",
            "Nicely prepare dish good quality food. Nice people. Great restaurant dates! hop Castro's beer dinner...\n",
            "I've eat lunch Olive Ivy numb occasions, include week. great service receive deserve review. enjoy atmosphere restaurant business lunch relaxed, stuffy, noisy (but quiet), attentive staff pretty good affordable food. choose relatively frequently. sit time waitress difficulty answer question. Immediately colleague, earshot, come over, explain new job. answer question assist meal question food (important allergy issues). colleague enjoy sandwich, observe filling, taste great. come ask thing were, share comment, response \"we'd happy provide like\" good response. Later, bill came, tell dessert house share comments. Totally unexpected. example great service attitude restaurant copy.\n",
            "come live Phoenix beer wings- buddy Buffalo place legit. Great beer list, change regularly- 10% ABV Imperial Ale chalice? Yes please. Wings well Phoenix (try Teakwoods Thai Cina) Food great, come bunch coworker meeting. day meeting. day meet Big Data, I'm non-iT nerd there. sure, I'm nerd to, Ops nerd consider self profess nerd friend waitress keep bring say delicious IPAs enjoy vibe- remember Big Data Big Beers together! seriously, nice atmosphere, clean, good choices, service priced. Check out.\n",
            "Great service excellent food. Crispy duck tilapia savory dishes! rice nice fluffy perfect dishes! pad ew amaze order tofu! definitely real soon! glad great Thai restaurant finally open area.\n",
            "want Thank restaurant yummy food drink! Ate twice recent trip great fit long list food need avoid. greatly appreciate take great care sure food exactly need eat. build bowl sesame ginger cashews, YUM! try Powerhouse smoothie yummy nice modification menu item! 2 visit, try Cashew Cream MYLK yummy! Hope consider expand location near Strip SF Bay Area! Great Vegans, GF, SF similar diets!\n",
            "wholeheartedly recommend restaurant! Great food (pho favorite. ..also bake hot candle roll sushi....yummy!), good price drinks, wonderful service (Sonny charactwr!), table outside catch sunset .....I little dog!...nice music, loud, favorite restaurant! Kirsten Parrish tega cay.\n",
            "Second time here. fresh tofu, Japanese eggplant cook tofu sautéed jalapeño bean sprouts. Delicious, different silken texture lot flavors. Fried oyster crispy outside moist juicy inside. Grilled Saba good great. Including 2 beer ice green tea, check $50. Including tax nice tip. Definitely come try sashimi sushi roll Service excellent!\n"
          ],
          "name": "stdout"
        },
        {
          "output_type": "stream",
          "text": [
            "/usr/local/lib/python3.6/dist-packages/sklearn/neighbors/base.py:216: UserWarning: cannot use tree with sparse input: using brute force\n",
            "  warnings.warn(\"cannot use tree with sparse input: \"\n"
          ],
          "name": "stderr"
        }
      ]
    },
    {
      "cell_type": "markdown",
      "metadata": {
        "id": "pDaf1wRktn3Z",
        "colab_type": "text"
      },
      "source": [
        "## Part 3: Classification\n",
        "<a id=\"#p3\"></a>\n",
        "Your goal in this section will be to predict `stars` from the review dataset. \n",
        "\n",
        "1. Create a piepline object with a sklearn `CountVectorizer` or `TfidfVector` and any sklearn classifier. Use that pipeline to estimate a model to predict `stars`. Use the Pipeline to predict a star rating for your fake review from Part 2. \n",
        "2. Tune the entire pipeline with a GridSearch"
      ]
    },
    {
      "cell_type": "code",
      "metadata": {
        "id": "wPylnfuZtn3e",
        "colab_type": "code",
        "colab": {
          "base_uri": "https://localhost:8080/",
          "height": 294
        },
        "outputId": "8227a196-41d1-4c3a-cd55-e6e41e8e07ee"
      },
      "source": [
        "yv = pd.merge(yelp,pd.DataFrame(yelp_v.todense(), columns = tfidf.get_feature_names()),left_index=True,right_index=True)\n",
        "yv.head(2)"
      ],
      "execution_count": 88,
      "outputs": [
        {
          "output_type": "execute_result",
          "data": {
            "text/html": [
              "<div>\n",
              "<style scoped>\n",
              "    .dataframe tbody tr th:only-of-type {\n",
              "        vertical-align: middle;\n",
              "    }\n",
              "\n",
              "    .dataframe tbody tr th {\n",
              "        vertical-align: top;\n",
              "    }\n",
              "\n",
              "    .dataframe thead th {\n",
              "        text-align: right;\n",
              "    }\n",
              "</style>\n",
              "<table border=\"1\" class=\"dataframe\">\n",
              "  <thead>\n",
              "    <tr style=\"text-align: right;\">\n",
              "      <th></th>\n",
              "      <th>business_id</th>\n",
              "      <th>cool</th>\n",
              "      <th>date</th>\n",
              "      <th>funny</th>\n",
              "      <th>review_id</th>\n",
              "      <th>stars</th>\n",
              "      <th>text</th>\n",
              "      <th>useful</th>\n",
              "      <th>user_id</th>\n",
              "      <th>tokens</th>\n",
              "      <th>come</th>\n",
              "      <th>don</th>\n",
              "      <th>food</th>\n",
              "      <th>get</th>\n",
              "      <th>good</th>\n",
              "      <th>great</th>\n",
              "      <th>it</th>\n",
              "      <th>like</th>\n",
              "      <th>look</th>\n",
              "      <th>love</th>\n",
              "      <th>nice</th>\n",
              "      <th>order</th>\n",
              "      <th>place</th>\n",
              "      <th>restaurant</th>\n",
              "      <th>service</th>\n",
              "      <th>time</th>\n",
              "      <th>try</th>\n",
              "      <th>ve</th>\n",
              "      <th>want</th>\n",
              "      <th>well</th>\n",
              "    </tr>\n",
              "  </thead>\n",
              "  <tbody>\n",
              "    <tr>\n",
              "      <th>0</th>\n",
              "      <td>nDuEqIyRc8YKS1q1fX0CZg</td>\n",
              "      <td>1</td>\n",
              "      <td>2015-03-31 16:50:30</td>\n",
              "      <td>0</td>\n",
              "      <td>eZs2tpEJtXPwawvHnHZIgQ</td>\n",
              "      <td>1</td>\n",
              "      <td>BEWARE!!! FAKE, FAKE, FAKE....We also own a sm...</td>\n",
              "      <td>10</td>\n",
              "      <td>n1LM36qNg4rqGXIcvVXv8w</td>\n",
              "      <td>[BEWARE!!!, FAKE,, FAKE,, FAKE....We, small, b...</td>\n",
              "      <td>0.0</td>\n",
              "      <td>0.0</td>\n",
              "      <td>0.0</td>\n",
              "      <td>0.0</td>\n",
              "      <td>0.000000</td>\n",
              "      <td>0.0</td>\n",
              "      <td>0.0</td>\n",
              "      <td>0.455882</td>\n",
              "      <td>0.568395</td>\n",
              "      <td>0.0</td>\n",
              "      <td>0.0</td>\n",
              "      <td>0.0</td>\n",
              "      <td>0.0</td>\n",
              "      <td>0.0</td>\n",
              "      <td>0.000000</td>\n",
              "      <td>0.442615</td>\n",
              "      <td>0.522676</td>\n",
              "      <td>0.0</td>\n",
              "      <td>0.0</td>\n",
              "      <td>0.0</td>\n",
              "    </tr>\n",
              "    <tr>\n",
              "      <th>1</th>\n",
              "      <td>eMYeEapscbKNqUDCx705hg</td>\n",
              "      <td>0</td>\n",
              "      <td>2015-12-16 05:31:03</td>\n",
              "      <td>0</td>\n",
              "      <td>DoQDWJsNbU0KL1O29l_Xug</td>\n",
              "      <td>4</td>\n",
              "      <td>Came here for lunch Togo. Service was quick. S...</td>\n",
              "      <td>0</td>\n",
              "      <td>5CgjjDAic2-FAvCtiHpytA</td>\n",
              "      <td>[Came, lunch, Togo., Service, quick., Staff, f...</td>\n",
              "      <td>0.0</td>\n",
              "      <td>0.0</td>\n",
              "      <td>0.0</td>\n",
              "      <td>0.0</td>\n",
              "      <td>0.697192</td>\n",
              "      <td>0.0</td>\n",
              "      <td>0.0</td>\n",
              "      <td>0.000000</td>\n",
              "      <td>0.000000</td>\n",
              "      <td>0.0</td>\n",
              "      <td>0.0</td>\n",
              "      <td>0.0</td>\n",
              "      <td>0.0</td>\n",
              "      <td>0.0</td>\n",
              "      <td>0.716885</td>\n",
              "      <td>0.000000</td>\n",
              "      <td>0.000000</td>\n",
              "      <td>0.0</td>\n",
              "      <td>0.0</td>\n",
              "      <td>0.0</td>\n",
              "    </tr>\n",
              "  </tbody>\n",
              "</table>\n",
              "</div>"
            ],
            "text/plain": [
              "              business_id  cool                date  ...   ve want  well\n",
              "0  nDuEqIyRc8YKS1q1fX0CZg     1 2015-03-31 16:50:30  ...  0.0  0.0   0.0\n",
              "1  eMYeEapscbKNqUDCx705hg     0 2015-12-16 05:31:03  ...  0.0  0.0   0.0\n",
              "\n",
              "[2 rows x 30 columns]"
            ]
          },
          "metadata": {
            "tags": []
          },
          "execution_count": 88
        }
      ]
    },
    {
      "cell_type": "code",
      "metadata": {
        "id": "8An_gwTy6Ypa",
        "colab_type": "code",
        "colab": {
          "base_uri": "https://localhost:8080/",
          "height": 370
        },
        "outputId": "3bedafcd-e92d-429f-afee-4a54f83994eb"
      },
      "source": [
        "from sklearn.pipeline import Pipeline\n",
        "from sklearn.linear_model import SGDClassifier\n",
        "vect = TfidfVectorizer(stop_words='english')\n",
        "sgdc = SGDClassifier()\n",
        "\n",
        "mystrings = [' '.join(x) for x in list(yelp['tokens'])]\n",
        "\n",
        "pipe = Pipeline([('vect', vect), ('clf', sgdc)])\n",
        "pipe.fit(mystrings, yelp['stars'])"
      ],
      "execution_count": 93,
      "outputs": [
        {
          "output_type": "execute_result",
          "data": {
            "text/plain": [
              "Pipeline(memory=None,\n",
              "         steps=[('vect',\n",
              "                 TfidfVectorizer(analyzer='word', binary=False,\n",
              "                                 decode_error='strict',\n",
              "                                 dtype=<class 'numpy.float64'>,\n",
              "                                 encoding='utf-8', input='content',\n",
              "                                 lowercase=True, max_df=1.0, max_features=None,\n",
              "                                 min_df=1, ngram_range=(1, 1), norm='l2',\n",
              "                                 preprocessor=None, smooth_idf=True,\n",
              "                                 stop_words='english', strip_accents=None,\n",
              "                                 sublinear_tf=False,\n",
              "                                 token_patte...\n",
              "                 SGDClassifier(alpha=0.0001, average=False, class_weight=None,\n",
              "                               early_stopping=False, epsilon=0.1, eta0=0.0,\n",
              "                               fit_intercept=True, l1_ratio=0.15,\n",
              "                               learning_rate='optimal', loss='hinge',\n",
              "                               max_iter=1000, n_iter_no_change=5, n_jobs=None,\n",
              "                               penalty='l2', power_t=0.5, random_state=None,\n",
              "                               shuffle=True, tol=0.001, validation_fraction=0.1,\n",
              "                               verbose=0, warm_start=False))],\n",
              "         verbose=False)"
            ]
          },
          "metadata": {
            "tags": []
          },
          "execution_count": 93
        }
      ]
    },
    {
      "cell_type": "code",
      "metadata": {
        "id": "Flyp5eN37gVt",
        "colab_type": "code",
        "colab": {
          "base_uri": "https://localhost:8080/",
          "height": 34
        },
        "outputId": "611c4670-ef72-4561-acfc-0b37ab6448dc"
      },
      "source": [
        "#looks like my fake review is a five star restuarant!!!\n",
        "pipe.predict(my_fake_review)"
      ],
      "execution_count": 94,
      "outputs": [
        {
          "output_type": "execute_result",
          "data": {
            "text/plain": [
              "array([5])"
            ]
          },
          "metadata": {
            "tags": []
          },
          "execution_count": 94
        }
      ]
    },
    {
      "cell_type": "markdown",
      "metadata": {
        "id": "Th2iuxiItn3l",
        "colab_type": "text"
      },
      "source": [
        "## Part 4: Topic Modeling\n",
        "\n",
        "Let's find out what those yelp reviews are saying! :D\n",
        "\n",
        "1. Estimate a LDA topic model of the review text\n",
        "2. Create 1-2 visualizations of the results\n",
        "    - You can use the most important 3 words of a topic in relevant visualizations. Refer to yesterday's notebook to extract. \n",
        "3. In markdown, write 1-2 paragraphs of analysis on the results of your topic model\n",
        "\n",
        "__*Note*__: You can pass the DataFrame column of text reviews to gensim. You do not have to use a generator."
      ]
    },
    {
      "cell_type": "code",
      "metadata": {
        "id": "R0SeiYW7tn3n",
        "colab_type": "code",
        "colab": {}
      },
      "source": [
        "import numpy as np\n",
        "import re\n",
        "import gensim\n",
        "from gensim.utils import smart_open, simple_preprocess\n",
        "from gensim.parsing.preprocessing import STOPWORDS\n",
        "from gensim import corpora\n",
        "from gensim.models.ldamulticore import LdaMulticore\n"
      ],
      "execution_count": 0,
      "outputs": []
    },
    {
      "cell_type": "code",
      "metadata": {
        "id": "trj_c_UU8Qa7",
        "colab_type": "code",
        "colab": {}
      },
      "source": [
        "id2word = corpora.Dictionary(yelp['tokens'])"
      ],
      "execution_count": 0,
      "outputs": []
    },
    {
      "cell_type": "code",
      "metadata": {
        "id": "qQQsW0A08dfI",
        "colab_type": "code",
        "colab": {}
      },
      "source": [
        "corpus = [id2word.doc2bow(text) for text in yelp['tokens']]"
      ],
      "execution_count": 0,
      "outputs": []
    },
    {
      "cell_type": "code",
      "metadata": {
        "id": "mxYNgpU68txU",
        "colab_type": "code",
        "colab": {}
      },
      "source": [
        "lda = LdaMulticore(corpus=corpus,\n",
        "                   id2word=id2word,\n",
        "                   random_state=723812,\n",
        "                   num_topics = 15,\n",
        "                   passes=10,\n",
        "                   workers=4\n",
        "                  )"
      ],
      "execution_count": 0,
      "outputs": []
    },
    {
      "cell_type": "code",
      "metadata": {
        "id": "8IaFCjDj9d4n",
        "colab_type": "code",
        "colab": {}
      },
      "source": [
        "words = [re.findall(r'\"([^\"]*)\"',t[1]) for t in lda.print_topics()]"
      ],
      "execution_count": 0,
      "outputs": []
    },
    {
      "cell_type": "code",
      "metadata": {
        "id": "tRMXQ5La9fYD",
        "colab_type": "code",
        "colab": {
          "base_uri": "https://localhost:8080/",
          "height": 269
        },
        "outputId": "8b3f2e72-8f5d-477d-e385-71feac1d7c1b"
      },
      "source": [
        "topics = [' '.join(t[0:5]) for t in words]\n",
        "topics"
      ],
      "execution_count": 109,
      "outputs": [
        {
          "output_type": "execute_result",
          "data": {
            "text/plain": [
              "['place like get well good',\n",
              " 'time come place like order',\n",
              " 'place food like great come',\n",
              " 'food great like place service',\n",
              " 'place time like good tell',\n",
              " 'food order come time good',\n",
              " \"like time good I've come\",\n",
              " 'great food come place service',\n",
              " 'time service place food try',\n",
              " 'order like table try food',\n",
              " 'like place come food time',\n",
              " 'place food good get come',\n",
              " 'call work take tell time',\n",
              " 'room like place get come',\n",
              " 'place come like good get']"
            ]
          },
          "metadata": {
            "tags": []
          },
          "execution_count": 109
        }
      ]
    },
    {
      "cell_type": "code",
      "metadata": {
        "id": "GrhKRIOv9zep",
        "colab_type": "code",
        "colab": {}
      },
      "source": [
        "!pip install pyLDAvis"
      ],
      "execution_count": 0,
      "outputs": []
    },
    {
      "cell_type": "code",
      "metadata": {
        "id": "JZ-wkZl3IwYA",
        "colab_type": "code",
        "colab": {}
      },
      "source": [
        "import warnings\n",
        "warnings.filterwarnings(\"ignore\")"
      ],
      "execution_count": 0,
      "outputs": []
    },
    {
      "cell_type": "code",
      "metadata": {
        "id": "Arwi6sdg9u2s",
        "colab_type": "code",
        "colab": {
          "base_uri": "https://localhost:8080/",
          "height": 861
        },
        "outputId": "74ca8622-9175-4e0d-cf1e-3f7934430f15"
      },
      "source": [
        "#this took too long to run - looks like right code to me but had it on for 15 minutes and no joy\n",
        "#so i ran it on a  much smaller subset\n",
        "import pyLDAvis.gensim\n",
        "n=500\n",
        "id2word_mini = corpora.Dictionary(yelp['tokens'][:n])\n",
        "corpus_mini = [id2word_mini.doc2bow(text) for text in yelp['tokens'][:n]]\n",
        "lda_mini = LdaMulticore(corpus=corpus_mini,\n",
        "                   id2word=id2word_mini,\n",
        "                   random_state=55,\n",
        "                   num_topics = 10,\n",
        "                   passes=10,\n",
        "                   workers=4\n",
        "                  )\n",
        "pyLDAvis.enable_notebook()\n",
        "pyLDAvis.gensim.prepare(lda_mini, corpus_mini, id2word_mini)"
      ],
      "execution_count": 150,
      "outputs": [
        {
          "output_type": "execute_result",
          "data": {
            "text/html": [
              "\n",
              "<link rel=\"stylesheet\" type=\"text/css\" href=\"https://cdn.rawgit.com/bmabey/pyLDAvis/files/ldavis.v1.0.0.css\">\n",
              "\n",
              "\n",
              "<div id=\"ldavis_el1311405838080890883774206832\"></div>\n",
              "<script type=\"text/javascript\">\n",
              "\n",
              "var ldavis_el1311405838080890883774206832_data = {\"mdsDat\": {\"x\": [-0.07759590843153667, -0.07981683103683355, -0.035430372267410984, -0.05303677526140696, -0.03496231023138072, -0.007005763729401535, 0.13854941973592047, 0.06445232003847969, 0.056388475619837806, 0.02845774556373245], \"y\": [0.04106799452270872, 0.017641957633956495, -0.12711059717172735, 0.02364646942247518, -0.04243637177129205, 0.0675528377939539, -0.020411166401451453, 0.013689133276869539, 0.054796127267522664, -0.02843638457301556], \"topics\": [1, 2, 3, 4, 5, 6, 7, 8, 9, 10], \"cluster\": [1, 1, 1, 1, 1, 1, 1, 1, 1, 1], \"Freq\": [17.317703247070312, 17.072355270385742, 13.11447811126709, 11.552596092224121, 11.421034812927246, 7.714972496032715, 6.090493679046631, 5.830208778381348, 5.179441452026367, 4.706711769104004]}, \"tinfo\": {\"Category\": [\"Default\", \"Default\", \"Default\", \"Default\", \"Default\", \"Default\", \"Default\", \"Default\", \"Default\", \"Default\", \"Default\", \"Default\", \"Default\", \"Default\", \"Default\", \"Default\", \"Default\", \"Default\", \"Default\", \"Default\", \"Default\", \"Default\", \"Default\", \"Default\", \"Default\", \"Default\", \"Default\", \"Default\", \"Default\", \"Default\", \"Topic1\", \"Topic1\", \"Topic1\", \"Topic1\", \"Topic1\", \"Topic1\", \"Topic1\", \"Topic1\", \"Topic1\", \"Topic1\", \"Topic1\", \"Topic1\", \"Topic1\", \"Topic1\", \"Topic1\", \"Topic1\", \"Topic1\", \"Topic1\", \"Topic1\", \"Topic1\", \"Topic1\", \"Topic1\", \"Topic1\", \"Topic1\", \"Topic1\", \"Topic1\", \"Topic1\", \"Topic1\", \"Topic1\", \"Topic1\", \"Topic1\", \"Topic1\", \"Topic1\", \"Topic1\", \"Topic1\", \"Topic1\", \"Topic1\", \"Topic1\", \"Topic1\", \"Topic1\", \"Topic1\", \"Topic1\", \"Topic1\", \"Topic1\", \"Topic1\", \"Topic1\", \"Topic1\", \"Topic1\", \"Topic1\", \"Topic1\", \"Topic1\", \"Topic1\", \"Topic1\", \"Topic1\", \"Topic1\", \"Topic1\", \"Topic1\", \"Topic1\", \"Topic1\", \"Topic1\", \"Topic1\", \"Topic1\", \"Topic1\", \"Topic1\", \"Topic1\", \"Topic1\", \"Topic1\", \"Topic1\", \"Topic1\", \"Topic1\", \"Topic1\", \"Topic1\", \"Topic1\", \"Topic1\", \"Topic1\", \"Topic1\", \"Topic1\", \"Topic1\", \"Topic2\", \"Topic2\", \"Topic2\", \"Topic2\", \"Topic2\", \"Topic2\", \"Topic2\", \"Topic2\", \"Topic2\", \"Topic2\", \"Topic2\", \"Topic2\", \"Topic2\", \"Topic2\", \"Topic2\", \"Topic2\", \"Topic2\", \"Topic2\", \"Topic2\", \"Topic2\", \"Topic2\", \"Topic2\", \"Topic2\", \"Topic2\", \"Topic2\", \"Topic2\", \"Topic2\", \"Topic2\", \"Topic2\", \"Topic2\", \"Topic2\", \"Topic2\", \"Topic2\", \"Topic2\", \"Topic2\", \"Topic2\", \"Topic2\", \"Topic2\", \"Topic2\", \"Topic2\", \"Topic2\", \"Topic2\", \"Topic2\", \"Topic2\", \"Topic2\", \"Topic2\", \"Topic2\", \"Topic2\", \"Topic2\", \"Topic2\", \"Topic2\", \"Topic2\", \"Topic2\", \"Topic2\", \"Topic2\", \"Topic2\", \"Topic2\", \"Topic2\", \"Topic2\", \"Topic2\", \"Topic2\", \"Topic2\", \"Topic2\", \"Topic2\", \"Topic2\", \"Topic2\", \"Topic2\", \"Topic2\", \"Topic2\", \"Topic2\", \"Topic3\", \"Topic3\", \"Topic3\", \"Topic3\", \"Topic3\", \"Topic3\", \"Topic3\", \"Topic3\", \"Topic3\", \"Topic3\", \"Topic3\", \"Topic3\", \"Topic3\", \"Topic3\", \"Topic3\", \"Topic3\", \"Topic3\", \"Topic3\", \"Topic3\", \"Topic3\", \"Topic3\", \"Topic3\", \"Topic3\", \"Topic3\", \"Topic3\", \"Topic3\", \"Topic3\", \"Topic3\", \"Topic3\", \"Topic3\", \"Topic3\", \"Topic3\", \"Topic3\", \"Topic3\", \"Topic3\", \"Topic3\", \"Topic3\", \"Topic3\", \"Topic3\", \"Topic3\", \"Topic3\", \"Topic3\", \"Topic3\", \"Topic3\", \"Topic3\", \"Topic3\", \"Topic3\", \"Topic3\", \"Topic3\", \"Topic3\", \"Topic3\", \"Topic3\", \"Topic3\", \"Topic3\", \"Topic3\", \"Topic3\", \"Topic3\", \"Topic3\", \"Topic3\", \"Topic3\", \"Topic3\", \"Topic3\", \"Topic3\", \"Topic3\", \"Topic3\", \"Topic3\", \"Topic3\", \"Topic3\", \"Topic3\", \"Topic3\", \"Topic3\", \"Topic3\", \"Topic3\", \"Topic3\", \"Topic3\", \"Topic3\", \"Topic3\", \"Topic3\", \"Topic3\", \"Topic3\", \"Topic3\", \"Topic4\", \"Topic4\", \"Topic4\", \"Topic4\", \"Topic4\", \"Topic4\", \"Topic4\", \"Topic4\", \"Topic4\", \"Topic4\", \"Topic4\", \"Topic4\", \"Topic4\", \"Topic4\", \"Topic4\", \"Topic4\", \"Topic4\", \"Topic4\", \"Topic4\", \"Topic4\", \"Topic4\", \"Topic4\", \"Topic4\", \"Topic4\", \"Topic4\", \"Topic4\", \"Topic4\", \"Topic4\", \"Topic4\", \"Topic4\", \"Topic4\", \"Topic4\", \"Topic4\", \"Topic4\", \"Topic4\", \"Topic4\", \"Topic4\", \"Topic4\", \"Topic4\", \"Topic4\", \"Topic4\", \"Topic4\", \"Topic4\", \"Topic4\", \"Topic4\", \"Topic4\", \"Topic4\", \"Topic4\", \"Topic4\", \"Topic4\", \"Topic4\", \"Topic4\", \"Topic4\", \"Topic4\", \"Topic4\", \"Topic4\", \"Topic4\", \"Topic4\", \"Topic4\", \"Topic4\", \"Topic4\", \"Topic4\", \"Topic4\", \"Topic4\", \"Topic4\", \"Topic4\", \"Topic4\", \"Topic4\", \"Topic4\", \"Topic4\", \"Topic4\", \"Topic4\", \"Topic4\", \"Topic4\", \"Topic4\", \"Topic4\", \"Topic4\", \"Topic4\", \"Topic4\", \"Topic4\", \"Topic4\", \"Topic5\", \"Topic5\", \"Topic5\", \"Topic5\", \"Topic5\", \"Topic5\", \"Topic5\", \"Topic5\", \"Topic5\", \"Topic5\", \"Topic5\", \"Topic5\", \"Topic5\", \"Topic5\", \"Topic5\", \"Topic5\", \"Topic5\", \"Topic5\", \"Topic5\", \"Topic5\", \"Topic5\", \"Topic5\", \"Topic5\", \"Topic5\", \"Topic5\", \"Topic5\", \"Topic5\", \"Topic5\", \"Topic5\", \"Topic5\", \"Topic5\", \"Topic5\", \"Topic5\", \"Topic5\", \"Topic5\", \"Topic5\", \"Topic5\", \"Topic5\", \"Topic5\", \"Topic5\", \"Topic5\", \"Topic5\", \"Topic5\", \"Topic5\", \"Topic5\", \"Topic5\", \"Topic5\", \"Topic5\", \"Topic5\", \"Topic5\", \"Topic5\", \"Topic5\", \"Topic5\", \"Topic5\", \"Topic5\", \"Topic5\", \"Topic5\", \"Topic5\", \"Topic5\", \"Topic5\", \"Topic5\", \"Topic5\", \"Topic5\", \"Topic5\", \"Topic5\", \"Topic5\", \"Topic5\", \"Topic5\", \"Topic5\", \"Topic5\", \"Topic5\", \"Topic5\", \"Topic5\", \"Topic5\", \"Topic5\", \"Topic5\", \"Topic5\", \"Topic5\", \"Topic5\", \"Topic6\", \"Topic6\", \"Topic6\", \"Topic6\", \"Topic6\", \"Topic6\", \"Topic6\", \"Topic6\", \"Topic6\", \"Topic6\", \"Topic6\", \"Topic6\", \"Topic6\", \"Topic6\", \"Topic6\", \"Topic6\", \"Topic6\", \"Topic6\", \"Topic6\", \"Topic6\", \"Topic6\", \"Topic6\", \"Topic6\", \"Topic6\", \"Topic6\", \"Topic6\", \"Topic6\", \"Topic6\", \"Topic6\", \"Topic6\", \"Topic6\", \"Topic6\", \"Topic6\", \"Topic6\", \"Topic6\", \"Topic6\", \"Topic6\", \"Topic6\", \"Topic6\", \"Topic6\", \"Topic6\", \"Topic6\", \"Topic6\", \"Topic6\", \"Topic6\", \"Topic6\", \"Topic6\", \"Topic6\", \"Topic6\", \"Topic6\", \"Topic6\", \"Topic6\", \"Topic6\", \"Topic6\", \"Topic6\", \"Topic6\", \"Topic6\", \"Topic6\", \"Topic6\", \"Topic6\", \"Topic6\", \"Topic6\", \"Topic6\", \"Topic6\", \"Topic6\", \"Topic6\", \"Topic6\", \"Topic6\", \"Topic6\", \"Topic6\", \"Topic6\", \"Topic6\", \"Topic6\", \"Topic6\", \"Topic6\", \"Topic6\", \"Topic6\", \"Topic6\", \"Topic7\", \"Topic7\", \"Topic7\", \"Topic7\", \"Topic7\", \"Topic7\", \"Topic7\", \"Topic7\", \"Topic7\", \"Topic7\", \"Topic7\", \"Topic7\", \"Topic7\", \"Topic7\", \"Topic7\", \"Topic7\", \"Topic7\", \"Topic7\", \"Topic7\", \"Topic7\", \"Topic7\", \"Topic7\", \"Topic7\", \"Topic7\", \"Topic7\", \"Topic7\", \"Topic7\", \"Topic7\", \"Topic7\", \"Topic7\", \"Topic7\", \"Topic7\", \"Topic7\", \"Topic7\", \"Topic7\", \"Topic7\", \"Topic7\", \"Topic7\", \"Topic7\", \"Topic7\", \"Topic7\", \"Topic7\", \"Topic7\", \"Topic7\", \"Topic7\", \"Topic7\", \"Topic7\", \"Topic7\", \"Topic7\", \"Topic7\", \"Topic7\", \"Topic7\", \"Topic7\", \"Topic7\", \"Topic7\", \"Topic7\", \"Topic7\", \"Topic7\", \"Topic7\", \"Topic7\", \"Topic7\", \"Topic7\", \"Topic7\", \"Topic7\", \"Topic7\", \"Topic7\", \"Topic8\", \"Topic8\", \"Topic8\", \"Topic8\", \"Topic8\", \"Topic8\", \"Topic8\", \"Topic8\", \"Topic8\", \"Topic8\", \"Topic8\", \"Topic8\", \"Topic8\", \"Topic8\", \"Topic8\", \"Topic8\", \"Topic8\", \"Topic8\", \"Topic8\", \"Topic8\", \"Topic8\", \"Topic8\", \"Topic8\", \"Topic8\", \"Topic8\", \"Topic8\", \"Topic8\", \"Topic8\", \"Topic8\", \"Topic8\", \"Topic8\", \"Topic8\", \"Topic8\", \"Topic8\", \"Topic8\", \"Topic8\", \"Topic8\", \"Topic8\", \"Topic8\", \"Topic8\", \"Topic8\", \"Topic8\", \"Topic8\", \"Topic8\", \"Topic8\", \"Topic8\", \"Topic8\", \"Topic8\", \"Topic8\", \"Topic8\", \"Topic8\", \"Topic8\", \"Topic8\", \"Topic8\", \"Topic8\", \"Topic8\", \"Topic8\", \"Topic8\", \"Topic8\", \"Topic8\", \"Topic8\", \"Topic8\", \"Topic8\", \"Topic8\", \"Topic8\", \"Topic8\", \"Topic8\", \"Topic8\", \"Topic8\", \"Topic8\", \"Topic8\", \"Topic9\", \"Topic9\", \"Topic9\", \"Topic9\", \"Topic9\", \"Topic9\", \"Topic9\", \"Topic9\", \"Topic9\", \"Topic9\", \"Topic9\", \"Topic9\", \"Topic9\", \"Topic9\", \"Topic9\", \"Topic9\", \"Topic9\", \"Topic9\", \"Topic9\", \"Topic9\", \"Topic9\", \"Topic9\", \"Topic9\", \"Topic9\", \"Topic9\", \"Topic9\", \"Topic9\", \"Topic9\", \"Topic9\", \"Topic9\", \"Topic9\", \"Topic9\", \"Topic9\", \"Topic9\", \"Topic9\", \"Topic9\", \"Topic9\", \"Topic9\", \"Topic9\", \"Topic9\", \"Topic9\", \"Topic9\", \"Topic9\", \"Topic9\", \"Topic9\", \"Topic9\", \"Topic9\", \"Topic9\", \"Topic9\", \"Topic9\", \"Topic9\", \"Topic9\", \"Topic9\", \"Topic9\", \"Topic9\", \"Topic9\", \"Topic9\", \"Topic9\", \"Topic9\", \"Topic9\", \"Topic9\", \"Topic9\", \"Topic9\", \"Topic9\", \"Topic9\", \"Topic9\", \"Topic9\", \"Topic9\", \"Topic9\", \"Topic10\", \"Topic10\", \"Topic10\", \"Topic10\", \"Topic10\", \"Topic10\", \"Topic10\", \"Topic10\", \"Topic10\", \"Topic10\", \"Topic10\", \"Topic10\", \"Topic10\", \"Topic10\", \"Topic10\", \"Topic10\", \"Topic10\", \"Topic10\", \"Topic10\", \"Topic10\", \"Topic10\", \"Topic10\", \"Topic10\", \"Topic10\", \"Topic10\", \"Topic10\", \"Topic10\", \"Topic10\", \"Topic10\", \"Topic10\", \"Topic10\", \"Topic10\", \"Topic10\", \"Topic10\", \"Topic10\", \"Topic10\", \"Topic10\", \"Topic10\", \"Topic10\", \"Topic10\", \"Topic10\", \"Topic10\", \"Topic10\", \"Topic10\", \"Topic10\", \"Topic10\", \"Topic10\", \"Topic10\", \"Topic10\", \"Topic10\", \"Topic10\", \"Topic10\", \"Topic10\", \"Topic10\", \"Topic10\", \"Topic10\", \"Topic10\", \"Topic10\", \"Topic10\", \"Topic10\", \"Topic10\", \"Topic10\", \"Topic10\", \"Topic10\", \"Topic10\", \"Topic10\", \"Topic10\", \"Topic10\", \"Topic10\", \"Topic10\", \"Topic10\", \"Topic10\", \"Topic10\", \"Topic10\", \"Topic10\", \"Topic10\", \"Topic10\", \"Topic10\", \"Topic10\", \"Topic10\", \"Topic10\", \"Topic10\", \"Topic10\", \"Topic10\", \"Topic10\", \"Topic10\", \"Topic10\", \"Topic10\", \"Topic10\", \"Topic10\", \"Topic10\", \"Topic10\", \"Topic10\", \"Topic10\", \"Topic10\", \"Topic10\", \"Topic10\", \"Topic10\", \"Topic10\", \"Topic10\", \"Topic10\"], \"Freq\": [124.0, 23.0, 119.0, 43.0, 31.0, 34.0, 81.0, 67.0, 59.0, 23.0, 24.0, 64.0, 75.0, 27.0, 36.0, 26.0, 138.0, 43.0, 35.0, 29.0, 101.0, 52.0, 57.0, 49.0, 22.0, 57.0, 11.0, 27.0, 24.0, 38.0, 5.1065754890441895, 5.102944850921631, 3.4385008811950684, 3.4347641468048096, 3.4334139823913574, 3.432399034500122, 3.4233603477478027, 2.6009438037872314, 2.597269058227539, 2.5962672233581543, 2.5959391593933105, 2.5960240364074707, 2.5959396362304688, 2.5953898429870605, 2.5949289798736572, 2.5944924354553223, 2.594228982925415, 2.593775987625122, 2.5932505130767822, 2.592714786529541, 2.5929388999938965, 2.591965675354004, 2.5877156257629395, 2.5390734672546387, 4.251012802124023, 1.7616945505142212, 1.7616218328475952, 1.7613605260849, 1.7612510919570923, 1.761200189590454, 6.596632480621338, 3.4331421852111816, 5.107338905334473, 3.43432354927063, 14.76860523223877, 9.03095531463623, 6.781479358673096, 12.653678894042969, 4.2727742195129395, 34.501068115234375, 7.581143379211426, 6.394569396972656, 8.461627006530762, 34.82039260864258, 31.09951400756836, 15.43333911895752, 15.33053970336914, 3.804532766342163, 10.207722663879395, 7.800051212310791, 11.848506927490234, 3.4373602867126465, 28.31831169128418, 11.132192611694336, 10.971277236938477, 27.466632843017578, 28.59334945678711, 30.560453414916992, 11.56452465057373, 23.390623092651367, 16.165912628173828, 8.874567031860352, 15.590224266052246, 14.479445457458496, 12.6827392578125, 13.89572525024414, 17.839736938476562, 11.053679466247559, 12.35059928894043, 15.418195724487305, 9.897978782653809, 13.595660209655762, 10.40200424194336, 12.472331047058105, 11.678841590881348, 11.242462158203125, 11.526640892028809, 11.079282760620117, 8.352703094482422, 3.395742416381836, 3.390216827392578, 3.3866679668426514, 3.384229898452759, 3.3549084663391113, 2.565767526626587, 2.563260793685913, 2.56337308883667, 2.5623843669891357, 2.562762975692749, 2.561819076538086, 2.55930233001709, 2.560866355895996, 2.5600857734680176, 2.554631233215332, 4.183717250823975, 4.885918617248535, 4.222620964050293, 4.224348068237305, 2.3828914165496826, 1.7402281761169434, 1.7402281761169434, 1.7402281761169434, 1.7399901151657104, 1.7397534847259521, 1.7398322820663452, 1.7396321296691895, 1.7396804094314575, 1.7395241260528564, 3.3796303272247314, 3.3398890495300293, 7.5311689376831055, 2.30645751953125, 5.046205043792725, 3.3519692420959473, 4.979483127593994, 17.480514526367188, 28.47346305847168, 33.02741622924805, 15.330313682556152, 22.0548038482666, 23.053537368774414, 49.6672248840332, 36.97575759887695, 15.84222412109375, 20.058767318725586, 6.820525169372559, 15.554800033569336, 7.907554626464844, 36.42945098876953, 17.002851486206055, 29.964582443237305, 14.982683181762695, 16.650070190429688, 27.58683967590332, 18.68857192993164, 26.061782836914062, 13.591408729553223, 23.201860427856445, 23.272172927856445, 18.58566665649414, 9.307600021362305, 16.669422149658203, 15.510486602783203, 15.495287895202637, 16.857614517211914, 21.714574813842773, 15.438233375549316, 13.852255821228027, 4.0543599128723145, 2.4641666412353516, 2.46256160736084, 2.462021827697754, 2.4623918533325195, 2.4614014625549316, 2.4610936641693115, 2.4602572917938232, 2.4586029052734375, 2.45661997795105, 2.4422552585601807, 4.0478010177612305, 3.2614006996154785, 1.6713312864303589, 1.6713312864303589, 1.6710783243179321, 1.6710402965545654, 1.6706821918487549, 1.6703861951828003, 1.67034912109375, 1.6701843738555908, 1.6702057123184204, 1.6702290773391724, 1.6697442531585693, 1.669718623161316, 1.6695371866226196, 1.6698026657104492, 1.6694189310073853, 1.669224500656128, 1.668973445892334, 3.255903720855713, 23.158958435058594, 4.053427219390869, 2.4541568756103516, 4.847283840179443, 3.9914326667785645, 2.466392993927002, 2.4625885486602783, 3.0485036373138428, 2.465711832046509, 6.277521133422852, 2.4640588760375977, 8.742948532104492, 7.701996326446533, 3.2530717849731445, 24.208621978759766, 7.607670307159424, 14.658548355102539, 8.37890625, 28.275859832763672, 4.8275065422058105, 4.064326763153076, 16.206111907958984, 5.5782365798950195, 6.050797939300537, 16.5013427734375, 17.99376106262207, 7.759947299957275, 17.025428771972656, 17.26606559753418, 11.975678443908691, 10.24782657623291, 7.411066055297852, 8.468586921691895, 10.105083465576172, 7.217608451843262, 7.084532737731934, 8.371454238891602, 7.857995986938477, 8.701980590820312, 12.037644386291504, 12.176682472229004, 9.07914924621582, 9.197044372558594, 11.24919605255127, 9.748111724853516, 8.837586402893066, 7.999508857727051, 8.397480964660645, 8.109869003295898, 7.70778751373291, 2.3863821029663086, 2.383843421936035, 2.3838133811950684, 2.3836231231689453, 2.3805413246154785, 2.381002902984619, 2.3765618801116943, 2.3707401752471924, 4.68988561630249, 2.2452762126922607, 1.6177977323532104, 1.6175527572631836, 1.6171685457229614, 1.617018222808838, 1.616552710533142, 1.6163606643676758, 1.6161596775054932, 1.6160099506378174, 1.615648865699768, 1.6157969236373901, 1.6153689622879028, 1.6155346632003784, 1.6147408485412598, 1.6147607564926147, 1.6145299673080444, 1.6148799657821655, 1.6141630411148071, 1.6139373779296875, 1.6139287948608398, 1.614256739616394, 3.1526126861572266, 3.1522750854492188, 2.5851473808288574, 4.59357213973999, 3.1108269691467285, 3.5348687171936035, 3.14292049407959, 3.156703233718872, 3.1336889266967773, 19.006996154785156, 4.939655780792236, 2.3806076049804688, 24.64785385131836, 2.3440704345703125, 3.919337034225464, 25.533016204833984, 9.977425575256348, 7.378698348999023, 5.781601905822754, 2.7188432216644287, 24.599746704101562, 14.722043991088867, 6.744017601013184, 19.34361457824707, 18.515396118164062, 6.0305633544921875, 18.64788818359375, 13.964324951171875, 10.5191650390625, 19.663835525512695, 10.086943626403809, 12.415404319763184, 15.751094818115234, 4.693612575531006, 10.42284107208252, 14.867924690246582, 6.852023601531982, 11.953666687011719, 9.185281753540039, 9.257741928100586, 6.838761329650879, 7.271679878234863, 9.694671630859375, 9.897589683532715, 8.626802444458008, 9.275794982910156, 8.174203872680664, 7.838903903961182, 8.949748039245605, 7.815892219543457, 7.517646789550781, 6.265639305114746, 3.9248650074005127, 3.1738131046295166, 3.1699860095977783, 3.163933277130127, 3.1602067947387695, 2.4003636837005615, 2.399477481842041, 2.395857572555542, 2.3943192958831787, 2.3933558464050293, 2.3917605876922607, 2.390465497970581, 2.3586173057556152, 2.352273464202881, 3.932297468185425, 1.6271685361862183, 1.6271687746047974, 1.6262022256851196, 1.6259835958480835, 1.6257678270339966, 1.6248648166656494, 1.6249500513076782, 1.624883770942688, 1.62451171875, 1.6242492198944092, 1.6238456964492798, 1.6230361461639404, 1.6231040954589844, 1.6232229471206665, 3.1576523780822754, 3.176854133605957, 3.1698944568634033, 3.1617517471313477, 4.597144603729248, 4.7077813148498535, 2.393496036529541, 10.823966979980469, 2.40201473236084, 2.4000613689422607, 4.7092084884643555, 4.708002090454102, 2.3967888355255127, 2.3958146572113037, 3.9177730083465576, 14.418946266174316, 3.1604115962982178, 4.380918979644775, 12.142799377441406, 4.715052127838135, 16.583498001098633, 8.729813575744629, 14.818516731262207, 11.45529842376709, 18.65506362915039, 8.063794136047363, 10.961545944213867, 9.48667049407959, 8.873152732849121, 6.4714250564575195, 6.645113468170166, 9.607406616210938, 14.025405883789062, 10.79565143585205, 7.760017395019531, 9.155181884765625, 9.536477088928223, 7.015740871429443, 6.953948497772217, 10.629008293151855, 10.111523628234863, 10.46306037902832, 8.342460632324219, 8.719852447509766, 7.775544166564941, 8.969112396240234, 8.200639724731445, 7.978910446166992, 7.020516872406006, 2.879730701446533, 2.1824569702148438, 2.177529811859131, 2.1756370067596436, 2.1636857986450195, 2.1562514305114746, 2.0525224208831787, 1.4784387350082397, 1.4770023822784424, 1.476854920387268, 1.476335883140564, 1.475144386291504, 1.4753321409225464, 1.4753139019012451, 1.4755007028579712, 1.4752695560455322, 1.4751421213150024, 1.47501540184021, 1.4748563766479492, 1.4746443033218384, 1.4745181798934937, 1.4735372066497803, 1.4733426570892334, 1.472992181777954, 1.4726539850234985, 1.4726098775863647, 1.4721044301986694, 1.46981942653656, 1.4680061340332031, 1.467910885810852, 11.166158676147461, 3.284749984741211, 2.8810224533081055, 2.179594039916992, 2.1785013675689697, 6.395120143890381, 2.1770782470703125, 4.082394123077393, 10.16395092010498, 3.5280587673187256, 3.5875537395477295, 3.5120153427124023, 2.179704427719116, 16.652069091796875, 2.1789894104003906, 8.750044822692871, 13.572144508361816, 2.177064895629883, 13.869213104248047, 7.632232666015625, 2.1782727241516113, 2.17401385307312, 4.348902225494385, 4.2918901443481445, 4.289238452911377, 9.028937339782715, 6.190454006195068, 4.991848468780518, 8.272677421569824, 6.105338096618652, 5.178928852081299, 6.3597941398620605, 9.294577598571777, 6.389163494110107, 8.570687294006348, 9.45400333404541, 5.124650001525879, 5.802049160003662, 6.57396125793457, 4.86559534072876, 4.682338714599609, 5.7574462890625, 6.509362697601318, 5.5741682052612305, 4.9313764572143555, 4.937171936035156, 5.044953346252441, 4.774672031402588, 3.327911138534546, 3.3254106044769287, 3.3248414993286133, 2.6768927574157715, 2.6734321117401123, 2.6731956005096436, 4.627402305603027, 2.025615692138672, 2.024625062942505, 2.02286696434021, 2.021181344985962, 3.324169397354126, 1.3729571104049683, 1.3726110458374023, 1.3721104860305786, 1.3719199895858765, 1.3716517686843872, 1.3707683086395264, 1.3702645301818848, 1.3700324296951294, 1.3699440956115723, 1.3697972297668457, 1.3700196743011475, 1.3698569536209106, 1.3696080446243286, 1.3695447444915771, 1.3697395324707031, 1.3694075345993042, 1.3694069385528564, 1.3693139553070068, 3.3276729583740234, 5.286012172698975, 2.0017635822296143, 2.0224714279174805, 2.0085158348083496, 3.329519748687744, 3.132774591445923, 2.0242161750793457, 2.0225272178649902, 3.328174114227295, 2.671760082244873, 2.5192654132843018, 9.90959644317627, 2.441265106201172, 3.052398681640625, 1.9972041845321655, 3.332747220993042, 6.149990558624268, 6.165790557861328, 4.486782550811768, 3.7698915004730225, 2.9123387336730957, 4.417205810546875, 3.6055188179016113, 3.5115487575531006, 3.26403546333313, 2.605926752090454, 2.844754457473755, 3.244664192199707, 3.3372533321380615, 3.4329566955566406, 2.9876368045806885, 3.0342628955841064, 3.1311206817626953, 2.880345582962036, 2.9129908084869385, 3.259222984313965, 2.6173603534698486, 2.606675863265991, 1.9834320545196533, 1.9821144342422485, 1.9809802770614624, 1.9816211462020874, 1.9790643453598022, 1.3455326557159424, 1.3443506956100464, 1.343675136566162, 1.343489646911621, 1.3433371782302856, 1.342859148979187, 1.3430633544921875, 1.34286367893219, 1.3428195714950562, 1.3423655033111572, 1.3424819707870483, 1.3422977924346924, 1.3424017429351807, 1.3409254550933838, 1.3409016132354736, 1.34056556224823, 1.3403438329696655, 1.3395638465881348, 1.338796615600586, 1.3351466655731201, 1.3321341276168823, 1.3248412609100342, 2.6228442192077637, 2.6213202476501465, 3.9011318683624268, 1.9829145669937134, 1.9729259014129639, 1.983158826828003, 3.243859052658081, 9.470720291137695, 1.983850359916687, 10.691423416137695, 4.039480209350586, 1.9654051065444946, 7.603945732116699, 5.1915411949157715, 3.8144214153289795, 1.979587435722351, 1.9811327457427979, 1.9839146137237549, 4.455475330352783, 5.191867351531982, 5.697039604187012, 5.188884735107422, 6.520471096038818, 4.734086990356445, 3.225529432296753, 3.3169853687286377, 3.2604119777679443, 2.6245572566986084, 3.0645463466644287, 3.2672512531280518, 2.976677417755127, 2.6291706562042236, 3.826608180999756, 3.29939866065979, 2.927138566970825, 3.2678475379943848, 3.598083019256592, 3.079604387283325, 3.0971860885620117, 2.9115519523620605, 2.851295232772827, 2.508836269378662, 2.5080738067626953, 2.5030782222747803, 1.8981764316558838, 1.8970304727554321, 1.8958042860031128, 1.8944759368896484, 1.8942275047302246, 1.892783522605896, 1.8925548791885376, 1.8925552368164062, 1.89249587059021, 1.286151647567749, 1.2861511707305908, 1.285982370376587, 1.285956621170044, 1.2859420776367188, 1.2857954502105713, 1.2856470346450806, 1.2853994369506836, 1.285310983657837, 1.2846672534942627, 1.2846342325210571, 1.2846790552139282, 1.2833317518234253, 1.2826447486877441, 1.282575011253357, 1.2824301719665527, 1.2823383808135986, 1.282166600227356, 1.8930785655975342, 4.347931385040283, 2.5035617351531982, 1.8962658643722534, 2.4131369590759277, 1.8679107427597046, 5.3024067878723145, 1.8948109149932861, 10.525449752807617, 5.023773670196533, 1.8953810930252075, 6.869334697723389, 3.2829840183258057, 9.476110458374023, 6.102695941925049, 3.119455575942993, 4.799718856811523, 2.517298698425293, 4.347021579742432, 4.12677001953125, 4.383935928344727, 5.390681743621826, 4.8681206703186035, 4.668837070465088, 4.792012691497803, 3.7923059463500977, 3.7388758659362793, 3.707512855529785, 3.7100939750671387, 2.9506285190582275, 3.398859977722168, 3.363720417022705, 3.157508373260498, 3.0070266723632812, 3.0609536170959473, 3.095463752746582, 2.9964678287506104, 2.751145124435425, 2.828986883163452, 1.8278504610061646, 1.8265399932861328, 1.2394713163375854, 1.2394713163375854, 1.2384254932403564, 1.238242506980896, 1.2368847131729126, 1.2329131364822388, 1.220036506652832, 1.8215488195419312, 1.8274304866790771, 0.6492469310760498, 0.6492468118667603, 0.6492469310760498, 0.6492468118667603, 0.6492468118667603, 0.6492469310760498, 0.6492468118667603, 0.6492468118667603, 0.6492468118667603, 0.6492468118667603, 0.6492469310760498, 0.6492468118667603, 0.6492468118667603, 0.6492468118667603, 0.6492468118667603, 0.6492468118667603, 0.6492468118667603, 0.6492469310760498, 0.6492469310760498, 0.6492467522621155, 0.6492469310760498, 0.6492468118667603, 0.6492467522621155, 0.6492467522621155, 0.6492467522621155, 0.6492468118667603, 0.6492468118667603, 0.6492468118667603, 0.6492467522621155, 0.6492467522621155, 0.6492468118667603, 0.6492469310760498, 0.6492469310760498, 0.6492469310760498, 0.6492469310760498, 1.237723469734192, 0.6492468118667603, 0.6492469310760498, 1.2369751930236816, 1.2366752624511719, 1.2377598285675049, 1.2452045679092407, 1.239477276802063, 1.2372760772705078, 2.416442632675171, 1.357521653175354, 2.4097821712493896, 1.2373539209365845, 1.2395758628845215, 1.233500599861145, 1.2383259534835815, 1.2379584312438965, 1.235567569732666, 1.8266743421554565, 1.2247787714004517, 11.791922569274902, 4.771644115447998, 2.417104482650757, 5.976318836212158, 7.039094924926758, 1.8286675214767456, 3.009749412536621, 3.5077555179595947, 3.012735366821289, 5.846743106842041, 2.413396120071411, 2.417430877685547, 3.0151102542877197, 2.9516303539276123, 4.189929485321045, 5.953868865966797, 3.5103414058685303, 3.4002368450164795, 4.669334888458252, 3.8037545680999756, 3.595187187194824, 4.233367443084717, 3.0072617530822754, 2.41795015335083, 3.599891185760498, 3.4060027599334717, 2.9438912868499756, 3.017728090286255, 2.750991106033325, 3.0118331909179688, 3.009355068206787, 3.2324681282043457, 2.9740495681762695, 3.0190417766571045, 2.424405574798584], \"Term\": [\"like\", \"Chinese\", \"order\", \"room\", \"you're\", \"chicken\", \"well\", \"wait\", \"didn't\", \"sandwich\", \"waitress\", \"it's\", \"love\", \"call\", \"hour\", \"food.\", \"come\", \"tell\", \"customer\", \"fry\", \"try\", \"It's\", \"ask\", \"staff\", \"old\", \"work\", \"French\", \"minute\", \"car\", \"long\", \"gluten\", \"specialty\", \"hole\", \"Milk\", \"deli\", \"`\", \"to-go\", \"groupon\", \"handicap\", \"cooky\", \"Charlotte.\", \"Bar\", \"Trattoria\", \"voice\", \"pastrami\", \"slaw\", \"Uni\", \"Smooth\", \"blend\", \"seabass\", \"Deli\", \"Carly\", \"response\", \"decent,\", \"respond\", \"friends,\", \"Cloud\", \"kitten\", \"Irish\", \"Called\", \"simply\", \"Chocolate\", \"crust\", \"Bacon\", \"sandwich\", \"them.\", \"grab\", \"minute\", \"(which\", \"great\", \"choice\", \"menu.\", \"free\", \"come\", \"order\", \"thing\", \"tell\", \"speed\", \"location\", \"couple\", \"serve\", \"yard\", \"time\", \"bring\", \"right\", \"good\", \"food\", \"place\", \"menu\", \"get\", \"think\", \"cook\", \"take\", \"it's\", \"eat\", \"know\", \"like\", \"long\", \"I'm\", \"try\", \"different\", \"want\", \"2\", \"wait\", \"ask\", \"little\", \"look\", \"say\", \"Korean\", \"Annie\", \"Mediterranean\", \"member\", \"ticket\", \"sushi,\", \"bonus\", \"wide\", \"section\", \"concession\", \"funeral\", \"Toronto,\", \"Harrah's\", \"instructor\", \"generous\", \"cheat\", \"seven\", \"happen\", \"$30\", \"goat\", \"Happy\", \"c\", \"doughnut\", \"nb\", \"Stop\", \"for.\", \"\\\"$10\", \"kielbasa\", \"tip!\\\"\", \"DC\", \"theater\", \"value\", \"watch\", \"understand.\", \"spicy\", \"fire\", \"restaurant,\", \"customer\", \"I've\", \"service\", \"sit\", \"work\", \"restaurant\", \"place\", \"good\", \"price\", \"say\", \"roll\", \"people\", \"sushi\", \"food\", \"staff\", \"like\", \"experience\", \"nice\", \"order\", \"look\", \"great\", \"drink\", \"time\", \"get\", \"want\", \"back.\", \"love\", \"don't\", \"know\", \"well\", \"come\", \"take\", \"wait\", \"San\", \"German\", \"Safeway\", \"Bistro\", \"fuse\", \"treatment\", \"Zinc\", \"appt\", \"checkout\", \"Fried\", \"-The\", \"amenity\", \"apartment\", \"apart\", \"keychain\", \"Nails\", \"strongly\", \"fast!\", \"Tried\", \"Tan\", \"water,\", \"School\", \"assortment\", \"brat\", \"pleased.\", \"escape\", \"FAKE,\", \"matcha\", \"loud,\", \"vacciness\", \"result\", \"room\", \"box\", \"degree\", \"locate\", \"desk\", \"listen\", \"Mongolian\", \"shower\", \"Chandler\", \"rude\", \"downtown\", \"car\", \"charge\", \"AC\", \"get\", \"late\", \"didn't\", \"open\", \"place\", \"hotel\", \"card\", \"well\", \"live\", \"half\", \"try\", \"great\", \"help\", \"like\", \"come\", \"take\", \"I'm\", \"stay\", \"new\", \"definitely\", \"let\", \"check\", \"give\", \"wasn't\", \"staff\", \"time\", \"good\", \"say\", \"look\", \"food\", \"service\", \"I've\", \"bite\", \"ask\", \"want\", \"recommend\", \"rotation\", \"mechanic\", \"donut\", \"staff,\", \"Proper\", \"ever,\", \"boba\", \"Snow\", \"bike\", \"scoop\", \"4/5\", \"7%\", \"Seriously\", \"yummiest\", \"physical\", \"pizza,\", \"aesthetic\", \"Marriotts\", \"fluid\", \"5%\", \"efficient.\", \"professional,\", \"Beer\", \"Thai\", \"Beast\", \"Mark\", \"$300.\", \"Charles\", \"kimchi\", \"Giants\", \"bunch\", \"tire\", \"taro\", \"bake\", \"plain\", \"cup\", \"mac\", \"excellent.\", \"Crab\", \"it's\", \"water\", \"elsewhere.\", \"try\", \"housekeeping\", \"write\", \"good\", \"lunch\", \"special\", \"cheese\", \"invite\", \"food\", \"don't\", \"highly\", \"like\", \"time\", \"breakfast\", \"come\", \"service\", \"nice\", \"place\", \"enjoy\", \"love\", \"great\", \"quick\", \"ask\", \"order\", \"star\", \"well\", \"pretty\", \"eat\", \"review\", \"you're\", \"think\", \"know\", \"restaurant\", \"want\", \"little\", \"It's\", \"get\", \"find\", \"work\", \"RAC\", \"online\", \"bird\", \"Jerry\", \"Zipps\", \"Jr.\", \"Seafood\", \"Sonoran\", \"currywurst,\", \"WAY\", \"pork,\", \"Pita\", \"Pit\", \"rescue\", \"offering\", \"website\", \"bloody\", \"Del\", \"overcooked.\", \"hasn't\", \"program\", \"shrimp,\", \"bum\", \"\\\"manager\\\"\", \"Poutine\", \"Gilbert,\", \"Smoke's\", \"Commander's\", \"Tender\", \"croissant\", \"parmesan\", \"boil\", \"class\", \"Jenny\", \"mention\", \"dress\", \"one,\", \"call\", \"soggy\", \"Worst\", \"near\", \"smoke\", \"store,\", \"surround\", \"Chicken\", \"find\", \"pepper\", \"plan\", \"didn't\", \"sell\", \"get\", \"table\", \"try\", \"know\", \"place\", \"way\", \"don't\", \"enjoy\", \"tell\", \"offer\", \"visit\", \"say\", \"food\", \"well\", \"feel\", \"think\", \"love\", \"wasn't\", \"friend\", \"like\", \"time\", \"come\", \"take\", \"service\", \"look\", \"order\", \"want\", \"great\", \"little\", \"Express\", \"CTR\", \"Pastor\", \"boneless\", \"linguini\", \"gondola\", \"chinese\", \"wind\", \"Ma\", \"double\", \"hey,\", \"Spirit\", \"coaster\", \"restaurant/bar\", \"quantity\", \"pea\", \"night).\", \"mein\", \"ramen\", \"disappointment.\", \"go!\", \"eggplant,\", \"melon\", \"are.\", \"Plan\", \"space.\", \"positive\", \"relocate\", \"\\\"Meadowvale\", \"'gourmet\", \"Chinese\", \"meat.\", \"ball\", \"sticky\", \"Peking\", \"steak\", \"Cleveland\", \"seafood\", \"chicken\", \"authentic\", \"awesome.\", \"pork\", \"lemon\", \"food\", \"grow\", \"eat\", \"order\", \"pho\", \"come\", \"it.\", \"fiance\", \"review.\", \"large\", \"kid\", \"salad\", \"love\", \"hour\", \"close\", \"well\", \"lot\", \"dish\", \"enjoy\", \"good\", \"little\", \"like\", \"place\", \"end\", \"staff\", \"want\", \"server\", \"food.\", \"wait\", \"time\", \"restaurant\", \"need\", \"nice\", \"try\", \"I'm\", \"IMAX\", \"powder\", \"Topped\", \"brother\", \"buttermilk\", \"Toast\", \"~\", \"barber\", \"Discount\", \"3D\", \"Ol'\", \"vanilla\", \"Deanna\", \"Firearms\", \"shoot.\", \"fade\", \"rifle\", \"effort\", \"protein\", \"Having\", \"SLS\", \"casino,\", \"Superman\", \"Villas\", \"shuttle\", \"\\\"Mom's\", \"Parking\", \"Griddle\", \"Barry\", \"pumpkin\", \"whip\", \"French\", \"=\", \"resort.\", \"hot.\", \"burrito\", \"comment\", \"install\", \"client\", \"movie\", \"sugar\", \"face\", \"place\", \"too,\", \"plate\", \"wife's\", \"cream\", \"want\", \"come\", \"think\", \"nice\", \"dine\", \"like\", \"little\", \"eat\", \"good.\", \"experience.\", \"charge\", \"It's\", \"service\", \"time\", \"table\", \"staff\", \"try\", \"tell\", \"food\", \"Kidney\", \"Bianco's\", \"Bang\", \"magic\", \"chip.\", \"Disease\", \"society\", \"suffer\", \"audience\", \"slot\", \"Service,\", \"Maryann\", \"Car\", \"aware\", \"Officer\", \"adopt\", \"UW\", \"tissue\", \"Humane\", \"humane\", \"dispatch\", \"successful\", \"table?\", \"consumer\", \"Naples\", \"jasmine\", \"Shrimp\", \"Chef\", \"calamari\", \"different,\", \"emergency\", \"animal\", \"waffle\", \"future\", \"mimosa\", \"parent\", \"numb\", \"wait\", \"Highly\", \"time\", \"dog\", \"famous\", \"love\", \"hour\", \"happy\", \"white\", \"way.\", \"rave\", \"give\", \"work\", \"want\", \"don't\", \"great\", \"know\", \"drive\", \"amaze\", \"car\", \"Vegas.\", \"3\", \"chicken\", \"check\", \"money\", \"like\", \"I'm\", \"minute\", \"restaurant\", \"food\", \"get\", \"come\", \"place\", \"well\", \"Ric's\", \"Mobile\", \"et\", \"Master\", \"eggplant\", \"TAPAS\", \"milk\", \"Andrew\", \"les\", \"tr\\u00e8s\", \"le\", \"est\", \"Thrifty\", \"spa's\", \"properly\", \"Massage\", \"Ms.\", \"Kathy\", \"injector\", \"Fresh,\", \"engine\", \"Dish\", \"Jack\", \"Dan\", \"instant\", \"0.5/5\", \"Le\", \"\\u00e9t\\u00e9\", \"HK\", \"tout\", \"de\", \"massage\", \"dark\", \"Dave\", \"till\", \"bread,\", \"waitress\", \"truck\", \"order\", \"fry\", \"noodle\", \"ask\", \"problem\", \"come\", \"didn't\", \"beef\", \"long\", \"read\", \"chicken\", \"new\", \"recommend\", \"good\", \"try\", \"service\", \"get\", \"little\", \"definitely\", \"it's\", \"look\", \"old\", \"take\", \"wait\", \"find\", \"tell\", \"work\", \"great\", \"want\", \"sandwich\", \"It's\", \"Cartel\", \"very.\", \"inventory\", \"Castle\", \"manicure\", \"tasty,\", \"pinto\", \"Booming\", \"omelette\", \"driver\", \"heat\", \"Hmm.\", \"LAX\", \"O'Hare.\", \"STOKED\", \"fantastic!!\", \"Chicagoan,\", \"had;\", \"are!\", \"cannolis\", \"cassada\", \"Vons,\", \"co-worker...average.\", \"them...indeed\", \"tasty...finger\", \"unreal;\", \"aroma\", \"\\\"game\\\"\", \"paperbacks,\", \"lower.\", \"saying.\", \"craving,\", \"Store\", \"assholes.\", \"accent\", \"knowledgeable!\", \"products!!\", \"baklava\", \"reasonably\", \"night!\", \"work/\", \"unbelievable\", \"$4-$5\", \"$4-$7.50\", \"current\", \"find!\", \"swim\", \"Decent\", \"bookstores,\", \"Check\", \"tostada\", \"Taco\", \"tower\", \"White\", \"meatball\", \"pool\", \"scramble\", \"buffet\", \"airport\", \"evening.\", \"carry\", \"unfortunately\", \"small,\", \"life!\", \"space\", \"Garden\", \"like\", \"you're\", \"share\", \"It's\", \"well\", \"here,\", \"big\", \"bad\", \"old\", \"get\", \"reason\", \"line\", \"food.\", \"item\", \"it's\", \"place\", \"bite\", \"people\", \"great\", \"wait\", \"find\", \"try\", \"way\", \"probably\", \"I've\", \"didn't\", \"customer\", \"room\", \"night\", \"look\", \"love\", \"come\", \"want\", \"good\", \"stay\"], \"Total\": [124.0, 23.0, 119.0, 43.0, 31.0, 34.0, 81.0, 67.0, 59.0, 23.0, 24.0, 64.0, 75.0, 27.0, 36.0, 26.0, 138.0, 43.0, 35.0, 29.0, 101.0, 52.0, 57.0, 49.0, 22.0, 57.0, 11.0, 27.0, 24.0, 38.0, 5.754958152770996, 5.753499507904053, 4.077719688415527, 4.0770697593688965, 4.077171802520752, 4.076724052429199, 4.076223373413086, 3.2386152744293213, 3.238118886947632, 3.2380738258361816, 3.2377407550811768, 3.237894058227539, 3.2377889156341553, 3.237783908843994, 3.237733840942383, 3.2377798557281494, 3.237642526626587, 3.237431526184082, 3.2372145652770996, 3.23730731010437, 3.2377021312713623, 3.237560749053955, 3.236809015274048, 3.225297451019287, 5.741840362548828, 2.3993945121765137, 2.3993120193481445, 2.3992416858673096, 2.3994603157043457, 2.3993942737579346, 9.058192253112793, 4.7313737869262695, 7.1482110023498535, 4.85210657119751, 23.079872131347656, 16.646059036254883, 11.937381744384766, 27.629959106445312, 6.481235504150391, 122.10161590576172, 15.105500221252441, 11.83171558380127, 17.791492462158203, 138.7527313232422, 119.00330352783203, 43.63975143432617, 43.69978332519531, 5.647246837615967, 24.565200805664062, 16.467864990234375, 30.806638717651367, 4.906030178070068, 116.38456726074219, 29.575592041015625, 30.041831970214844, 130.71128845214844, 142.3323516845703, 176.47019958496094, 33.7180061340332, 117.03858184814453, 62.82180404663086, 22.554201126098633, 68.39840698242188, 64.25729370117188, 49.792728424072266, 66.33881378173828, 124.32066345214844, 38.72706604003906, 52.4708251953125, 101.05341339111328, 30.88064956665039, 82.15914154052734, 36.07194519042969, 67.7177963256836, 57.317752838134766, 53.98030471801758, 64.86018371582031, 58.663822174072266, 9.005187034606934, 4.035339832305908, 4.035033226013184, 4.034988880157471, 4.033193111419678, 4.03079080581665, 3.2068917751312256, 3.2061269283294678, 3.206453561782837, 3.2059295177459717, 3.20676851272583, 3.206068515777588, 3.2047417163848877, 3.2068991661071777, 3.206237316131592, 3.2067158222198486, 5.516754627227783, 6.457092761993408, 5.634537220001221, 5.660084247589111, 3.208324670791626, 2.37846040725708, 2.37846040725708, 2.37846040725708, 2.3784637451171875, 2.3783369064331055, 2.3784561157226562, 2.3783352375030518, 2.378455877304077, 2.3782846927642822, 4.686733722686768, 4.647987365722656, 10.846464157104492, 3.1896274089813232, 7.235281944274902, 4.728175640106201, 8.127873420715332, 35.91432189941406, 66.82074737548828, 87.16193389892578, 34.70387649536133, 57.75263977050781, 61.63114929199219, 176.47019958496094, 130.71128845214844, 41.333675384521484, 58.663822174072266, 12.831084251403809, 41.682674407958984, 15.953619003295898, 142.3323516845703, 49.34733581542969, 124.32066345214844, 44.062660217285156, 52.89430618286133, 119.00330352783203, 64.86018371582031, 122.10161590576172, 41.49383544921875, 116.38456726074219, 117.03858184814453, 82.15914154052734, 24.574312210083008, 75.17106628417969, 65.9123764038086, 66.33881378173828, 81.66715240478516, 138.7527313232422, 68.39840698242188, 67.7177963256836, 4.700389385223389, 3.1083791255950928, 3.1079776287078857, 3.1078104972839355, 3.108612060546875, 3.1076226234436035, 3.107637405395508, 3.1089465618133545, 3.108035087585449, 3.1081910133361816, 3.10811448097229, 5.3546857833862305, 4.495113372802734, 2.3128445148468018, 2.3128445148468018, 2.312838077545166, 2.3128364086151123, 2.3128550052642822, 2.312706232070923, 2.312793493270874, 2.3126983642578125, 2.312793254852295, 2.3128721714019775, 2.3125624656677246, 2.3125712871551514, 2.3125228881835938, 2.312920093536377, 2.312504529953003, 2.312636137008667, 2.312530040740967, 4.742780685424805, 43.6255989074707, 6.828439712524414, 3.761911153793335, 8.977616310119629, 7.078094959259033, 3.8833022117614746, 3.878316879272461, 5.257968902587891, 3.9373323917388916, 14.299041748046875, 3.9474151134490967, 24.553640365600586, 21.0993709564209, 6.076939582824707, 117.03858184814453, 21.76125144958496, 59.491397857666016, 25.615924835205078, 176.47019958496094, 11.170428276062012, 8.604015350341797, 81.66715240478516, 14.358041763305664, 16.506921768188477, 101.05341339111328, 122.10161590576172, 26.931455612182617, 124.32066345214844, 138.7527313232422, 68.39840698242188, 52.4708251953125, 27.89812469482422, 36.72730255126953, 52.348121643066406, 26.901348114013672, 26.211362838745117, 38.59983825683594, 34.624107360839844, 49.34733581542969, 116.38456726074219, 130.71128845214844, 58.663822174072266, 64.86018371582031, 142.3323516845703, 87.16193389892578, 66.82074737548828, 43.844085693359375, 57.317752838134766, 82.15914154052734, 52.23991012573242, 3.03212833404541, 3.0320956707000732, 3.032532215118408, 3.0324487686157227, 3.030519723892212, 3.0325846672058105, 3.030634641647339, 3.0330214500427246, 6.139775276184082, 3.032804012298584, 2.2618601322174072, 2.261878490447998, 2.261880874633789, 2.261864423751831, 2.2617835998535156, 2.261892318725586, 2.261986255645752, 2.261995315551758, 2.2617027759552, 2.2619264125823975, 2.261580467224121, 2.261939287185669, 2.261202573776245, 2.261270761489868, 2.261139154434204, 2.261997938156128, 2.2617077827453613, 2.2615127563476562, 2.2615957260131836, 2.262169122695923, 4.631491661071777, 4.6310319900512695, 3.7526729106903076, 7.468229293823242, 5.247498512268066, 6.223371982574463, 5.416831970214844, 5.45911169052124, 5.4715962409973145, 64.25729370117188, 10.316679000854492, 3.8715760707855225, 101.05341339111328, 3.8286097049713135, 8.254106521606445, 130.71128845214844, 33.73271179199219, 21.982755661010742, 15.396797180175781, 4.9444732666015625, 142.3323516845703, 65.9123764038086, 20.796733856201172, 124.32066345214844, 116.38456726074219, 17.463499069213867, 138.7527313232422, 87.16193389892578, 52.89430618286133, 176.47019958496094, 49.346519470214844, 75.17106628417969, 122.10161590576172, 11.591021537780762, 57.317752838134766, 119.00330352783203, 25.47899055480957, 81.66715240478516, 48.689857482910156, 49.792728424072266, 27.455833435058594, 31.674962997436523, 62.82180404663086, 66.33881378173828, 61.63114929199219, 82.15914154052734, 53.98030471801758, 52.54896545410156, 117.03858184814453, 57.228431701660156, 57.75263977050781, 6.919625282287598, 4.592735290527344, 3.8199968338012695, 3.8201138973236084, 3.8192131519317627, 3.8206698894500732, 3.0456719398498535, 3.045696258544922, 3.0456223487854004, 3.045667886734009, 3.045381546020508, 3.045976161956787, 3.0461745262145996, 3.03741192817688, 3.0420076847076416, 5.434718132019043, 2.270784616470337, 2.270784854888916, 2.270810842514038, 2.2707419395446777, 2.2706568241119385, 2.270660877227783, 2.270798444747925, 2.2707178592681885, 2.270749807357788, 2.270695447921753, 2.2706570625305176, 2.270247220993042, 2.270569324493408, 2.2707605361938477, 4.523855209350586, 4.59091329574585, 4.616655349731445, 4.613797187805176, 8.219281196594238, 8.495312690734863, 3.686643123626709, 27.03891372680664, 3.816007137298584, 3.874224901199341, 9.89723014831543, 9.903576850891113, 3.8842830657958984, 3.8836629390716553, 7.80755090713501, 57.228431701660156, 6.01751184463501, 10.396222114562988, 59.491397857666016, 12.022332191467285, 117.03858184814453, 37.049495697021484, 101.05341339111328, 66.33881378173828, 176.47019958496094, 33.389503479003906, 65.9123764038086, 49.346519470214844, 43.69978332519531, 24.080625534057617, 25.592138290405273, 58.663822174072266, 142.3323516845703, 81.66715240478516, 37.29939270019531, 62.82180404663086, 75.17106628417969, 34.624107360839844, 33.852725982666016, 124.32066345214844, 116.38456726074219, 138.7527313232422, 68.39840698242188, 87.16193389892578, 64.86018371582031, 119.00330352783203, 82.15914154052734, 122.10161590576172, 53.98030471801758, 3.5375711917877197, 2.833155393600464, 2.8323593139648438, 2.833444118499756, 2.8321797847747803, 2.8314013481140137, 2.8504226207733154, 2.1291370391845703, 2.1290078163146973, 2.1291377544403076, 2.129412889480591, 2.1286046504974365, 2.1289708614349365, 2.1291258335113525, 2.129396438598633, 2.129509210586548, 2.129441976547241, 2.129423141479492, 2.1295642852783203, 2.129369020462036, 2.1294784545898438, 2.1294167041778564, 2.129432201385498, 2.129263162612915, 2.1289360523223877, 2.129138469696045, 2.128999948501587, 2.1295933723449707, 2.1279141902923584, 2.1279327869415283, 23.1174373626709, 5.909115314483643, 5.0784502029418945, 3.6292121410369873, 3.6292006969451904, 16.50434112548828, 3.672595500946045, 8.990456581115723, 34.79423141479492, 8.069356918334961, 8.987955093383789, 8.988679885864258, 4.1426897048950195, 142.3323516845703, 4.218965530395508, 49.792728424072266, 119.00330352783203, 4.374166011810303, 138.7527313232422, 46.059425354003906, 4.381672382354736, 4.378171920776367, 17.283048629760742, 16.90518569946289, 16.909839630126953, 75.17106628417969, 36.03679656982422, 23.898086547851562, 81.66715240478516, 40.897789001464844, 28.5313777923584, 49.346519470214844, 130.71128845214844, 53.98030471801758, 124.32066345214844, 176.47019958496094, 30.699861526489258, 49.34733581542969, 82.15914154052734, 29.633441925048828, 26.182336807250977, 67.7177963256836, 116.38456726074219, 61.63114929199219, 47.22487258911133, 52.89430618286133, 101.05341339111328, 52.4708251953125, 3.994271993637085, 3.9941654205322266, 3.9943387508392334, 3.3392953872680664, 3.3395166397094727, 3.339629650115967, 6.131719589233398, 2.684791326522827, 2.6852827072143555, 2.6850879192352295, 2.684939384460449, 4.832363128662109, 2.030121326446533, 2.030275821685791, 2.0304088592529297, 2.030263900756836, 2.0305309295654297, 2.030334711074829, 2.0302541255950928, 2.0302560329437256, 2.0301809310913086, 2.0300350189208984, 2.0305368900299072, 2.030344247817993, 2.0303142070770264, 2.0302889347076416, 2.0308001041412354, 2.030329704284668, 2.030380964279175, 2.030341863632202, 6.227112770080566, 11.760921478271484, 3.32967472076416, 3.4806182384490967, 3.523613691329956, 8.518476486206055, 7.900683879852295, 4.068291187286377, 4.2303571701049805, 11.98631763458252, 8.410304069519043, 7.4741315841674805, 176.47019958496094, 7.424017429351807, 12.855070114135742, 4.897820472717285, 16.681297302246094, 82.15914154052734, 138.7527313232422, 62.82180404663086, 52.89430618286133, 18.288097381591797, 124.32066345214844, 53.98030471801758, 49.792728424072266, 38.14531707763672, 11.664652824401855, 21.0993709564209, 52.54896545410156, 87.16193389892578, 116.38456726074219, 37.049495697021484, 49.34733581542969, 101.05341339111328, 43.69978332519531, 142.3323516845703, 3.9243452548980713, 3.2858774662017822, 3.287982702255249, 2.643894910812378, 2.6439626216888428, 2.6430184841156006, 2.644090414047241, 2.6446523666381836, 2.0025599002838135, 2.0027260780334473, 2.0029354095458984, 2.0027616024017334, 2.0030529499053955, 2.0025720596313477, 2.003295421600342, 2.0030293464660645, 2.0030357837677, 2.0024166107177734, 2.003065824508667, 2.003087282180786, 2.003495216369629, 2.0033464431762695, 2.0034055709838867, 2.0034806728363037, 2.003592014312744, 2.0040206909179688, 2.003775119781494, 2.005566358566284, 2.006439447402954, 2.008594512939453, 4.059547424316406, 4.124122142791748, 6.598010063171387, 3.439727783203125, 3.4208858013153076, 3.4825689792633057, 8.597126007080078, 67.7177963256836, 4.267998695373535, 116.38456726074219, 17.8668155670166, 4.261297702789307, 75.17106628417969, 36.03679656982422, 21.645605087280273, 4.914266586303711, 4.9260149002075195, 5.16045618057251, 38.59983825683594, 57.75263977050781, 82.15914154052734, 65.9123764038086, 122.10161590576172, 66.33881378173828, 20.741474151611328, 25.587289810180664, 24.553640365600586, 11.979766845703125, 24.278453826904297, 34.79423141479492, 26.211362838745117, 12.825813293457031, 124.32066345214844, 52.4708251953125, 27.629959106445312, 61.63114929199219, 142.3323516845703, 117.03858184814453, 138.7527313232422, 176.47019958496094, 81.66715240478516, 3.17213773727417, 3.1729629039764404, 3.173786163330078, 2.5594887733459473, 2.5596985816955566, 2.5599617958068848, 2.5603315830230713, 2.5605125427246094, 2.5605485439300537, 2.5605404376983643, 2.5606791973114014, 2.560645818710327, 1.9465734958648682, 1.9465734958648682, 1.946641445159912, 1.9466248750686646, 1.9466290473937988, 1.9466677904129028, 1.946756362915039, 1.946544885635376, 1.9468739032745361, 1.9468114376068115, 1.9468350410461426, 1.947166919708252, 1.9472934007644653, 1.9473357200622559, 1.9473329782485962, 1.947421669960022, 1.9475836753845215, 1.9475362300872803, 3.2010984420776367, 9.470772743225098, 4.673393726348877, 3.2634243965148926, 4.82163143157959, 3.338515043258667, 24.612289428710938, 4.03479528427124, 119.00330352783203, 29.553007125854492, 4.217621326446533, 57.317752838134766, 13.09981918334961, 138.7527313232422, 59.491397857666016, 13.689451217651367, 38.72706604003906, 8.967646598815918, 34.79423141479492, 36.72730255126953, 52.23991012573242, 130.71128845214844, 101.05341339111328, 87.16193389892578, 117.03858184814453, 53.98030471801758, 52.348121643066406, 64.25729370117188, 64.86018371582031, 22.02695083618164, 68.39840698242188, 67.7177963256836, 57.228431701660156, 43.69978332519531, 57.75263977050781, 122.10161590576172, 82.15914154052734, 23.079872131347656, 52.54896545410156, 2.491931438446045, 2.492760419845581, 1.9015488624572754, 1.9015488624572754, 1.9017212390899658, 1.901955485343933, 1.9023948907852173, 1.9042913913726807, 1.9082071781158447, 3.107067108154297, 3.2627358436584473, 1.3113244771957397, 1.3113243579864502, 1.3113244771957397, 1.3113243579864502, 1.3113243579864502, 1.3113244771957397, 1.3113243579864502, 1.3113243579864502, 1.3113243579864502, 1.3113243579864502, 1.3113244771957397, 1.3113243579864502, 1.3113243579864502, 1.3113243579864502, 1.3113243579864502, 1.3113243579864502, 1.3113243579864502, 1.3113244771957397, 1.3113244771957397, 1.3113243579864502, 1.3113244771957397, 1.3113243579864502, 1.3113243579864502, 1.3113243579864502, 1.3113243579864502, 1.3113244771957397, 1.3113243579864502, 1.3113244771957397, 1.3113243579864502, 1.3113243579864502, 1.3113243579864502, 1.3113244771957397, 1.3113244771957397, 1.3113244771957397, 1.3113244771957397, 2.5424976348876953, 1.3113243579864502, 1.3113244771957397, 2.672863006591797, 2.6729001998901367, 2.676996946334839, 2.7276673316955566, 2.7301816940307617, 2.741361141204834, 6.240135192871094, 3.5281429290771484, 8.6788969039917, 3.3708090782165527, 3.384866714477539, 3.397341728210449, 3.434384346008301, 3.4424188137054443, 3.505770683288574, 6.409597873687744, 3.4974193572998047, 124.32066345214844, 31.674962997436523, 10.790979385375977, 52.54896545410156, 81.66715240478516, 7.013430118560791, 19.486534118652344, 28.571640014648438, 22.02695083618164, 117.03858184814453, 13.657726287841797, 14.152140617370605, 26.182336807250977, 25.040348052978516, 64.25729370117188, 176.47019958496094, 43.844085693359375, 41.682674407958984, 122.10161590576172, 67.7177963256836, 57.228431701660156, 101.05341339111328, 33.389503479003906, 17.40729331970215, 66.82074737548828, 59.491397857666016, 35.91432189941406, 43.6255989074707, 30.629562377929688, 64.86018371582031, 75.17106628417969, 138.7527313232422, 82.15914154052734, 130.71128845214844, 27.89812469482422], \"loglift\": [30.0, 29.0, 28.0, 27.0, 26.0, 25.0, 24.0, 23.0, 22.0, 21.0, 20.0, 19.0, 18.0, 17.0, 16.0, 15.0, 14.0, 13.0, 12.0, 11.0, 10.0, 9.0, 8.0, 7.0, 6.0, 5.0, 4.0, 3.0, 2.0, 1.0, 1.6339000463485718, 1.6334999799728394, 1.582900047302246, 1.5820000171661377, 1.5815999507904053, 1.5814000368118286, 1.5788999795913696, 1.5341999530792236, 1.5328999757766724, 1.5325000286102295, 1.5325000286102295, 1.5325000286102295, 1.5325000286102295, 1.5322999954223633, 1.532099962234497, 1.5319000482559204, 1.5319000482559204, 1.5318000316619873, 1.531599998474121, 1.5313999652862549, 1.5313999652862549, 1.531000018119812, 1.5296000242233276, 1.51419997215271, 1.4528000354766846, 1.4444999694824219, 1.4444999694824219, 1.4443999528884888, 1.444200038909912, 1.444200038909912, 1.4363000392913818, 1.4327000379562378, 1.4172999858856201, 1.4077999591827393, 1.3070000410079956, 1.1418999433517456, 1.187999963760376, 0.9725000262260437, 1.3367999792099, 0.4896000027656555, 1.0640000104904175, 1.138100028038025, 1.0103000402450562, 0.3709999918937683, 0.4115000069141388, 0.7139999866485596, 0.7059000134468079, 1.3585000038146973, 0.8752999901771545, 1.0061999559402466, 0.7979000210762024, 1.3976999521255493, 0.3400000035762787, 0.7763000130653381, 0.7461000084877014, 0.19339999556541443, 0.148499995470047, -0.0, 0.6833999752998352, 0.14329999685287476, 0.3959999978542328, 0.8206999897956848, 0.27469998598098755, 0.26330000162124634, 0.38580000400543213, 0.19020000100135803, -0.18799999356269836, 0.49970000982284546, 0.3068999946117401, -0.1266999989748001, 0.6155999898910522, -0.045499999076128006, 0.5098999738693237, 0.06159999966621399, 0.16259999573230743, 0.18449999392032623, 0.02590000070631504, 0.08669999986886978, 1.6924999952316284, 1.5951000452041626, 1.5936000347137451, 1.5925999879837036, 1.5923000574111938, 1.5842000246047974, 1.544700026512146, 1.5439000129699707, 1.5439000129699707, 1.5435999631881714, 1.5434999465942383, 1.5434000492095947, 1.542799949645996, 1.542799949645996, 1.5427000522613525, 1.5404000282287598, 1.4910999536514282, 1.4888999462127686, 1.4793000221252441, 1.475100040435791, 1.4702999591827393, 1.455299973487854, 1.455299973487854, 1.455299973487854, 1.4551000595092773, 1.4551000595092773, 1.4550000429153442, 1.4550000429153442, 1.4550000429153442, 1.4549000263214111, 1.4407000541687012, 1.4371999502182007, 1.402899980545044, 1.44350004196167, 1.4074000120162964, 1.423699975013733, 1.2776999473571777, 1.047700047492981, 0.9146999716758728, 0.7972999811172485, 0.9506999850273132, 0.8051000237464905, 0.7843999862670898, 0.4999000132083893, 0.5049999952316284, 0.8087000250816345, 0.694599986076355, 1.1358000040054321, 0.7820000052452087, 1.0657999515533447, 0.4049000144004822, 0.7021999955177307, 0.3449000120162964, 0.6890000104904175, 0.6118000149726868, 0.3059000074863434, 0.5234000086784363, 0.2232999950647354, 0.6516000032424927, 0.1550000011920929, 0.1525000035762787, 0.28139999508857727, 0.7968000173568726, 0.2615000009536743, 0.32089999318122864, 0.31349998712539673, 0.1898999959230423, -0.08699999749660492, 0.2791999876499176, 0.18080000579357147, 1.8835999965667725, 1.7992000579833984, 1.798699975013733, 1.7984999418258667, 1.7984000444412231, 1.79830002784729, 1.798200011253357, 1.7973999977111816, 1.7970999479293823, 1.7962000370025635, 1.7904000282287598, 1.7517000436782837, 1.7106000185012817, 1.7065999507904053, 1.7065999507904053, 1.7064000368118286, 1.7064000368118286, 1.7062000036239624, 1.7060999870300293, 1.7059999704360962, 1.7059999704360962, 1.705899953842163, 1.705899953842163, 1.7058000564575195, 1.7057000398635864, 1.7057000398635864, 1.7056000232696533, 1.7056000232696533, 1.705399990081787, 1.705299973487854, 1.6553000211715698, 1.3982000350952148, 1.5098999738693237, 1.6043000221252441, 1.4150999784469604, 1.4586000442504883, 1.5774999856948853, 1.577299952507019, 1.4864000082015991, 1.5634000301361084, 1.2081999778747559, 1.5601999759674072, 0.9987999796867371, 1.0236999988555908, 1.406599998474121, 0.45570001006126404, 0.9804999828338623, 0.6305999755859375, 0.9139999747276306, 0.20029999315738678, 1.1924999952316284, 1.281499981880188, 0.4142000079154968, 1.0859999656677246, 1.027899980545044, 0.219200000166893, 0.11659999936819077, 0.7871000170707703, 0.043299999088048935, -0.05249999836087227, 0.289000004529953, 0.3982999920845032, 0.7059000134468079, 0.564300000667572, 0.38659998774528503, 0.7157999873161316, 0.7232000231742859, 0.503000020980835, 0.5483999848365784, 0.296099990606308, -0.23739999532699585, -0.34200000762939453, 0.1656000018119812, 0.07810000330209732, -0.5063999891281128, -0.15919999778270721, 0.008500000461935997, 0.3301999866962433, 0.11079999804496765, -0.2840999960899353, 0.11779999732971191, 1.9187999963760376, 1.9177000522613525, 1.9176000356674194, 1.9175000190734863, 1.9169000387191772, 1.9163999557495117, 1.9150999784469604, 1.9119000434875488, 1.8889000415802002, 1.8575999736785889, 1.823099970817566, 1.8229999542236328, 1.822700023651123, 1.822700023651123, 1.8223999738693237, 1.8221999406814575, 1.822100043296814, 1.8220000267028809, 1.8219000101089478, 1.8219000101089478, 1.8217999935150146, 1.8216999769210815, 1.8214999437332153, 1.8214999437332153, 1.8214000463485718, 1.8213000297546387, 1.8209999799728394, 1.8208999633789062, 1.8208999633789062, 1.8207999467849731, 1.7735999822616577, 1.7735999822616577, 1.785599946975708, 1.6722999811172485, 1.6354000568389893, 1.5925999879837036, 1.6138999462127686, 1.6104999780654907, 1.6009000539779663, 0.9401999711990356, 1.4218000173568726, 1.6720000505447388, 0.7473000288009644, 1.6676000356674194, 1.4134999513626099, 0.5252000093460083, 0.9401000142097473, 1.06659996509552, 1.1787999868392944, 1.5601999759674072, 0.4027999937534332, 0.6593000292778015, 1.032099962234497, 0.2978000044822693, 0.3199999928474426, 1.0950000286102295, 0.15129999816417694, 0.3269999921321869, 0.5432000160217285, -0.03610000014305115, 0.5705999732017517, 0.35740000009536743, 0.11029999703168869, 1.2541999816894531, 0.4535999894142151, 0.07829999923706055, 0.8449000120162964, 0.23659999668598175, 0.4903999865055084, 0.47589999437332153, 0.7682999968528748, 0.6866999864578247, 0.28949999809265137, 0.2558000087738037, 0.19200000166893005, -0.023000000044703484, 0.27059999108314514, 0.2556000053882599, -0.41260001063346863, 0.16740000247955322, 0.1193000003695488, 2.0703999996185303, 2.0125999450683594, 1.9844000339508057, 1.983199954032898, 1.9815000295639038, 1.9799000024795532, 1.9315999746322632, 1.9312000274658203, 1.9297000169754028, 1.9291000366210938, 1.9287999868392944, 1.927899956703186, 1.927299976348877, 1.9168000221252441, 1.912600040435791, 1.8460999727249146, 1.836400032043457, 1.836400032043457, 1.835800051689148, 1.8357000350952148, 1.8356000185012817, 1.8351000547409058, 1.8351000547409058, 1.8351000547409058, 1.8348000049591064, 1.8346999883651733, 1.8344000577926636, 1.8341000080108643, 1.8339999914169312, 1.8339999914169312, 1.8101999759674072, 1.8014999628067017, 1.7936999797821045, 1.7918000221252441, 1.5887000560760498, 1.5793999433517456, 1.7378000020980835, 1.2541999816894531, 1.7067999839782715, 1.6908999681472778, 1.4270000457763672, 1.4261000156402588, 1.686900019645691, 1.6866999864578247, 1.4801000356674194, 0.7911999821662903, 1.5256999731063843, 1.3055000305175781, 0.5806000232696533, 1.2337000370025635, 0.21559999883174896, 0.7242000102996826, 0.2498999983072281, 0.41339999437332153, -0.07729999721050262, 0.7488999962806702, 0.3758000135421753, 0.5206999778747559, 0.5753999948501587, 0.8557000160217285, 0.8213000297546387, 0.36039999127388, -0.147599995136261, 0.1462000012397766, 0.5996999740600586, 0.24369999766349792, 0.10509999841451645, 0.5733000040054321, 0.5870000123977661, -0.2896000146865845, -0.273499995470047, -0.41510000824928284, 0.065700002014637, -0.13249999284744263, 0.048500001430511475, -0.4156999886035919, -0.1347000002861023, -0.5583000183105469, 0.1298999935388565, 2.356300115585327, 2.301100015640259, 2.299099922180176, 2.297800064086914, 2.292799949645996, 2.289599895477295, 2.233599901199341, 2.1972999572753906, 2.1963999271392822, 2.196199893951416, 2.19569993019104, 2.1953001022338867, 2.1953001022338867, 2.195199966430664, 2.195199966430664, 2.194999933242798, 2.1949000358581543, 2.1947999000549316, 2.194700002670288, 2.1946001052856445, 2.194499969482422, 2.1937999725341797, 2.193700075149536, 2.19350004196167, 2.19350004196167, 2.1933000087738037, 2.193000078201294, 2.191200017929077, 2.1907999515533447, 2.190700054168701, 1.8343000411987305, 1.9747999906539917, 1.9951000213623047, 2.0520999431610107, 2.0515999794006348, 1.6138999462127686, 2.039099931716919, 1.7725000381469727, 1.3314000368118286, 1.7346999645233154, 1.6435999870300293, 1.6222000122070312, 1.9198999404907227, 0.4163999855518341, 1.9012999534606934, 0.823199987411499, 0.39089998602867126, 1.864300012588501, 0.2590000033378601, 0.7645000219345093, 1.8631000518798828, 1.8619999885559082, 1.1821999549865723, 1.191100001335144, 1.1901999711990356, 0.44269999861717224, 0.8004999756813049, 0.9959999918937683, 0.27230000495910645, 0.660099983215332, 0.8555999994277954, 0.5131000280380249, -0.08160000294446945, 0.42800000309944153, -0.11249999701976776, -0.36469998955726624, 0.7717999815940857, 0.4212999939918518, 0.0364999994635582, 0.755299985408783, 0.8406999707221985, 0.09719999879598618, -0.32170000672340393, 0.1589999943971634, 0.302700012922287, 0.19050000607967377, -0.43529999256134033, 0.16509999334812164, 2.6159000396728516, 2.6152000427246094, 2.615000009536743, 2.5773000717163086, 2.5759999752044678, 2.575900077819824, 2.5169999599456787, 2.516700029373169, 2.5160000324249268, 2.515199899673462, 2.5144999027252197, 2.424299955368042, 2.4072999954223633, 2.4070000648498535, 2.406599998474121, 2.4065001010894775, 2.4061999320983887, 2.405600070953369, 2.4052999019622803, 2.405100107192993, 2.405100107192993, 2.405100107192993, 2.4049999713897705, 2.404900074005127, 2.4047999382019043, 2.4047000408172607, 2.404599905014038, 2.404599905014038, 2.404599905014038, 2.4045000076293945, 2.171799898147583, 1.9987000226974487, 2.289599895477295, 2.2555999755859375, 2.2363998889923096, 1.8589999675750732, 1.8733999729156494, 2.100399971008301, 2.060499906539917, 1.5170999765396118, 1.6517000198364258, 1.7109999656677246, -0.0812000036239624, 1.6862000226974487, 1.3605999946594238, 1.9013999700546265, 1.1878999471664429, 0.2062000036239624, -0.31520000100135803, 0.15929999947547913, 0.15719999372959137, 0.9610999822616577, -0.5389000177383423, 0.09229999780654907, 0.14659999310970306, 0.3400000035762787, 1.2997000217437744, 0.794700026512146, 0.013700000010430813, -0.4641999900341034, -0.7250000238418579, 0.2806999981403351, 0.009499999694526196, -0.6758000254631042, 0.07900000363588333, -1.090499997138977, 2.656399965286255, 2.6145999431610107, 2.6098999977111816, 2.5546998977661133, 2.553999900817871, 2.553800106048584, 2.5536999702453613, 2.5522000789642334, 2.444499969482422, 2.44350004196167, 2.4428999423980713, 2.4428999423980713, 2.4426000118255615, 2.442500114440918, 2.4423000812530518, 2.4423000812530518, 2.442199945449829, 2.442199945449829, 2.441999912261963, 2.441800117492676, 2.441699981689453, 2.440700054168701, 2.4405999183654785, 2.4402999877929688, 2.4400999546051025, 2.439300060272217, 2.4388999938964844, 2.4351999759674072, 2.432499885559082, 2.4260001182556152, 2.4052999019622803, 2.3889000415802, 2.3166000843048096, 2.291300058364868, 2.2916998863220215, 2.2790000438690186, 1.8674999475479126, 0.875, 2.0759999752044678, 0.4546999931335449, 1.355299949645996, 2.06820011138916, 0.5509999990463257, 0.9046000242233276, 1.1060999631881714, 1.9328999519348145, 1.9313000440597534, 1.886199951171875, 0.6830000281333923, 0.43299999833106995, 0.17339999973773956, 0.3003000020980835, -0.08780000358819962, 0.2020999938249588, 0.9811000227928162, 0.7990999817848206, 0.8230999708175659, 1.323799967765808, 0.7724000215530396, 0.4765999913215637, 0.666700005531311, 1.2573000192642212, -0.6388000249862671, 0.07559999823570251, 0.5971999764442444, -0.09489999711513519, -0.8356000185012817, -0.7955999970436096, -0.960099995136261, -1.2623000144958496, -0.5127999782562256, 2.7258999347686768, 2.7253000736236572, 2.723099946975708, 2.661600112915039, 2.660900115966797, 2.660099983215332, 2.6593000888824463, 2.65910005569458, 2.6582999229431152, 2.6582000255584717, 2.658099889755249, 2.658099889755249, 2.546099901199341, 2.546099901199341, 2.5459001064300537, 2.5459001064300537, 2.5459001064300537, 2.5457000732421875, 2.545599937438965, 2.5455000400543213, 2.5452001094818115, 2.544800043106079, 2.5446999073028564, 2.544600009918213, 2.5434999465942383, 2.5429000854492188, 2.5429000854492188, 2.5427000522613525, 2.54259991645813, 2.5425000190734863, 2.4351999759674072, 2.181999921798706, 2.3362998962402344, 2.41759991645813, 2.2683000564575195, 2.3798000812530518, 1.4254000186920166, 2.2046000957489014, 0.535099983215332, 1.1885000467300415, 2.160599946975708, 0.8389000296592712, 1.5765999555587769, 0.2766000032424927, 0.6833999752998352, 1.4815000295639038, 0.8725000023841858, 1.690000057220459, 0.8805000185966492, 0.774399995803833, 0.48260000348091125, -0.22779999673366547, -0.07249999791383743, 0.03359999880194664, -0.23510000109672546, 0.30480000376701355, 0.3212999999523163, 0.10790000110864639, 0.09929999709129333, 0.9502000212669373, -0.0414000004529953, -0.04179999977350235, 0.06319999694824219, 0.2840999960899353, 0.023000000044703484, -0.7143999934196472, -0.3508000075817108, 0.8335000276565552, 0.038600001484155655, 2.746299982070923, 2.7451999187469482, 2.628200054168701, 2.628200054168701, 2.6273000240325928, 2.627000093460083, 2.625699996948242, 2.621500015258789, 2.6089000701904297, 2.522200107574463, 2.4765000343322754, 2.3531999588012695, 2.3531999588012695, 2.3531999588012695, 2.3531999588012695, 2.3531999588012695, 2.3531999588012695, 2.3531999588012695, 2.3531999588012695, 2.3531999588012695, 2.3531999588012695, 2.3531999588012695, 2.3531999588012695, 2.3531999588012695, 2.3531999588012695, 2.3531999588012695, 2.3531999588012695, 2.3531999588012695, 2.3531999588012695, 2.3531999588012695, 2.3531999588012695, 2.3531999588012695, 2.3531999588012695, 2.3531999588012695, 2.3531999588012695, 2.3531999588012695, 2.3531999588012695, 2.3531999588012695, 2.3531999588012695, 2.3531999588012695, 2.3531999588012695, 2.3531999588012695, 2.3531999588012695, 2.3531999588012695, 2.3531999588012695, 2.3531999588012695, 2.3362998962402344, 2.3531999588012695, 2.3531999588012695, 2.2857000827789307, 2.285399913787842, 2.2848000526428223, 2.2720000743865967, 2.2664999961853027, 2.2606000900268555, 2.1075000762939453, 2.101099967956543, 1.7747999429702759, 2.053999900817871, 2.0515999794006348, 2.0429999828338623, 2.036099910736084, 2.0334999561309814, 2.0132999420166016, 1.8008999824523926, 2.0069000720977783, 0.7006999850273132, 1.1633000373840332, 1.559999942779541, 0.8822000026702881, 0.6050000190734863, 1.711899995803833, 1.1883000135421753, 0.9587000012397766, 1.0667999982833862, 0.05959999933838844, 1.3229000568389893, 1.2890000343322754, 0.8946999907493591, 0.9179999828338623, 0.32600000500679016, -0.3328999876976013, 0.5313000082969666, 0.5498999953269958, -0.2076999992132187, 0.17679999768733978, 0.28870001435279846, -0.11649999767541885, 0.6489999890327454, 1.082200050354004, 0.13510000705718994, 0.19589999318122864, 0.5547999739646912, 0.38499999046325684, 0.6462000012397766, -0.013500000350177288, -0.16189999878406525, -0.7032999992370605, -0.26260000467300415, -0.711899995803833, 0.6132000088691711], \"logprob\": [30.0, 29.0, 28.0, 27.0, 26.0, 25.0, 24.0, 23.0, 22.0, 21.0, 20.0, 19.0, 18.0, 17.0, 16.0, 15.0, 14.0, 13.0, 12.0, 11.0, 10.0, 9.0, 8.0, 7.0, 6.0, 5.0, 4.0, 3.0, 2.0, 1.0, -6.853799819946289, -6.854499816894531, -7.249300003051758, -7.250400066375732, -7.250699996948242, -7.250999927520752, -7.253699779510498, -7.52839994430542, -7.529799938201904, -7.530200004577637, -7.530399799346924, -7.530300140380859, -7.530399799346924, -7.530600070953369, -7.530700206756592, -7.530900001525879, -7.531000137329102, -7.531199932098389, -7.531400203704834, -7.531599998474121, -7.531499862670898, -7.531899929046631, -7.5335001945495605, -7.552499771118164, -7.037099838256836, -7.918000221252441, -7.918099880218506, -7.9182000160217285, -7.918300151824951, -7.918300151824951, -6.597700119018555, -7.250800132751465, -6.853600025177002, -7.250500202178955, -5.791800022125244, -6.283599853515625, -6.570099830627441, -5.946400165557861, -7.0320000648498535, -4.943299770355225, -6.458600044250488, -6.628900051116943, -6.348800182342529, -4.934100151062012, -5.047100067138672, -5.747799873352051, -5.754499912261963, -7.148099899291992, -6.161200046539307, -6.430200099945068, -6.0121002197265625, -7.249599933624268, -5.1407999992370605, -6.07450008392334, -6.089000225067139, -5.171299934387207, -5.131100177764893, -5.064599990844727, -6.036399841308594, -5.331999778747559, -5.701399803161621, -6.30109977722168, -5.73769998550415, -5.811600208282471, -5.9440999031066895, -5.852700233459473, -5.60290002822876, -6.081500053405762, -5.970600128173828, -5.748799800872803, -6.191999912261963, -5.874599933624268, -6.142300128936768, -5.9608001708984375, -6.026500225067139, -6.064599990844727, -6.039599895477295, -6.07919979095459, -6.347400188446045, -7.247499942779541, -7.249100208282471, -7.250199794769287, -7.250899791717529, -7.2596001625061035, -7.5278000831604, -7.528800010681152, -7.52869987487793, -7.529099941253662, -7.528900146484375, -7.529300212860107, -7.530300140380859, -7.529699802398682, -7.53000020980835, -7.532100200653076, -7.03879976272583, -6.883699893951416, -7.029600143432617, -7.029200077056885, -7.6016998291015625, -7.915999889373779, -7.915999889373779, -7.915999889373779, -7.916200160980225, -7.916299819946289, -7.916200160980225, -7.916399955749512, -7.916299819946289, -7.916399955749512, -7.252299785614014, -7.264100074768066, -6.451000213623047, -7.634300231933594, -6.851399898529053, -7.260499954223633, -6.864699840545654, -5.60890007019043, -5.121099948883057, -4.972700119018555, -5.740200042724609, -5.376500129699707, -5.332200050354004, -4.564700126647949, -4.859799861907959, -5.707399845123291, -5.471399784088135, -6.550099849700928, -5.7256999015808105, -6.402200222015381, -4.87470006942749, -5.63670015335083, -5.070000171661377, -5.7631001472473145, -5.657599925994873, -5.152699947357178, -5.542099952697754, -5.20959997177124, -5.860599994659424, -5.325799942016602, -5.322800159454346, -5.547599792480469, -6.239200115203857, -5.656499862670898, -5.728499889373779, -5.729499816894531, -5.645199775695801, -5.392000198364258, -5.7332000732421875, -5.841599941253662, -6.80649995803833, -7.3043999671936035, -7.305099964141846, -7.305300235748291, -7.305200099945068, -7.305600166320801, -7.305699825286865, -7.306000232696533, -7.306700229644775, -7.307499885559082, -7.313399791717529, -6.80810022354126, -7.024099826812744, -7.692699909210205, -7.692699909210205, -7.692800045013428, -7.692800045013428, -7.6930999755859375, -7.69320011138916, -7.693299770355225, -7.693399906158447, -7.693299770355225, -7.693299770355225, -7.693600177764893, -7.693600177764893, -7.693699836730957, -7.693600177764893, -7.69379997253418, -7.693900108337402, -7.6940999031066895, -7.0258002281188965, -5.063899993896484, -6.806700229644775, -7.308499813079834, -6.627900123596191, -6.8221001625061035, -7.303500175476074, -7.305099964141846, -7.091599941253662, -7.303800106048584, -6.36929988861084, -7.304500102996826, -6.038000106811523, -6.16480016708374, -7.026700019836426, -5.019599914550781, -6.17710018157959, -5.521299839019775, -6.080599784851074, -4.864299774169922, -6.631999969482422, -6.803999900817871, -5.420899868011475, -6.487400054931641, -6.406099796295166, -5.4028000831604, -5.316299915313721, -6.157299995422363, -5.371600151062012, -5.357500076293945, -5.723400115966797, -5.879199981689453, -6.2032999992370605, -6.069900035858154, -5.8933000564575195, -6.229800224304199, -6.2484002113342285, -6.081500053405762, -6.144800186157227, -6.042699813842773, -5.718299865722656, -5.7067999839782715, -6.00029993057251, -5.987400054931641, -5.785999774932861, -5.929200172424316, -6.027299880981445, -6.1269001960754395, -6.078400135040283, -6.1132001876831055, -6.164100170135498, -7.209700107574463, -7.2108001708984375, -7.2108001708984375, -7.210899829864502, -7.212200164794922, -7.211999893188477, -7.213799953460693, -7.216300010681152, -6.53410005569458, -7.270699977874756, -7.598400115966797, -7.598599910736084, -7.598800182342529, -7.598899841308594, -7.5991997718811035, -7.599299907684326, -7.599400043487549, -7.5995001792907715, -7.599699974060059, -7.599699974060059, -7.599899768829346, -7.599800109863281, -7.600299835205078, -7.600299835205078, -7.600399971008301, -7.600200176239014, -7.6006999015808105, -7.600800037384033, -7.600800037384033, -7.600599765777588, -6.931300163269043, -6.931399822235107, -7.129700183868408, -6.554800033569336, -6.9446001052856445, -6.816800117492676, -6.934299945831299, -6.929999828338623, -6.937300205230713, -5.134699821472168, -6.4822001457214355, -7.212100028991699, -4.874800205230713, -7.22760009765625, -6.713600158691406, -4.8394999504089355, -5.779200077056885, -6.080900192260742, -6.32480001449585, -7.0792999267578125, -4.876699924468994, -5.390100002288818, -6.17080020904541, -5.117099761962891, -5.160900115966797, -6.282599925994873, -5.15369987487793, -5.442999839782715, -5.72629976272583, -5.1006999015808105, -5.768199920654297, -5.560500144958496, -5.3225998878479, -6.533299922943115, -5.735499858856201, -5.380300045013428, -6.154900074005127, -5.598400115966797, -5.8618998527526855, -5.854000091552734, -6.156899929046631, -6.0954999923706055, -5.8078999519348145, -5.787199974060059, -5.924600124359131, -5.852099895477295, -5.978499889373779, -6.020400047302246, -5.887899875640869, -6.0233001708984375, -6.06220006942749, -6.232900142669678, -6.700699806213379, -6.913099765777588, -6.914299964904785, -6.916200160980225, -6.917399883270264, -7.192399978637695, -7.192800045013428, -7.194300174713135, -7.194900035858154, -7.195300102233887, -7.196000099182129, -7.196499824523926, -7.210000038146973, -7.212600231170654, -6.698800086975098, -7.581200122833252, -7.581200122833252, -7.5817999839782715, -7.581900119781494, -7.581999778747559, -7.582600116729736, -7.582600116729736, -7.582600116729736, -7.582799911499023, -7.583000183105469, -7.583199977874756, -7.583700180053711, -7.583700180053711, -7.583600044250488, -6.9182000160217285, -6.912099838256836, -6.914299964904785, -6.916900157928467, -6.542600154876709, -6.518799781799316, -7.195300102233887, -5.686299800872803, -7.191699981689453, -7.192500114440918, -6.518499851226807, -6.518799781799316, -7.193900108337402, -7.194300174713135, -6.702499866485596, -5.399499893188477, -6.917300224304199, -6.590799808502197, -5.571300029754639, -6.517300128936768, -5.2596001625061035, -5.901299953460693, -5.372200012207031, -5.6296000480651855, -5.141900062561035, -5.980599880218506, -5.673600196838379, -5.8180999755859375, -5.885000228881836, -6.2006001472473145, -6.174099922180176, -5.805500030517578, -5.427199840545654, -5.688899993896484, -6.019000053405762, -5.853700160980225, -5.812900066375732, -6.119900226593018, -6.128699779510498, -5.704400062561035, -5.75439977645874, -5.720200061798096, -5.946700096130371, -5.902400016784668, -6.017000198364258, -5.874199867248535, -5.963799953460693, -5.991199970245361, -6.119200229644775, -6.618000030517578, -6.895299911499023, -6.897500038146973, -6.898399829864502, -6.903900146484375, -6.907400131225586, -6.956699848175049, -7.2846999168396, -7.285699844360352, -7.285799980163574, -7.286200046539307, -7.2870001792907715, -7.286900043487549, -7.286900043487549, -7.2866997718811035, -7.286900043487549, -7.2870001792907715, -7.287099838256836, -7.287199974060059, -7.287300109863281, -7.287399768829346, -7.288099765777588, -7.2881999015808105, -7.288400173187256, -7.288700103759766, -7.288700103759766, -7.289000034332275, -7.290599822998047, -7.291800022125244, -7.291900157928467, -5.262800216674805, -6.486400127410889, -6.617599964141846, -6.896599769592285, -6.89709997177124, -5.820199966430664, -6.897799968719482, -6.269100189208984, -5.356900215148926, -6.414999961853027, -6.3983001708984375, -6.41949987411499, -6.896500110626221, -4.8632001876831055, -6.896900177001953, -5.506700038909912, -5.067699909210205, -6.897799968719482, -5.04610013961792, -5.643400192260742, -6.897200107574463, -6.899199962615967, -6.2058000564575195, -6.218999862670898, -6.219600200653076, -5.475299835205078, -5.852700233459473, -6.06790018081665, -5.56279993057251, -5.866600036621094, -6.031099796295166, -5.825699806213379, -5.446300029754639, -5.821100234985352, -5.527400016784668, -5.429299831390381, -6.0416998863220215, -5.917500019073486, -5.792600154876709, -6.093500137329102, -6.131899833679199, -5.92519998550415, -5.802499771118164, -5.957600116729736, -6.080100059509277, -6.07889986038208, -6.057300090789795, -6.112400054931641, -6.236999988555908, -6.23769998550415, -6.2378997802734375, -6.454599857330322, -6.455900192260742, -6.455999851226807, -5.907299995422363, -6.733399868011475, -6.73390007019043, -6.734799861907959, -6.735599994659424, -6.238100051879883, -7.122300148010254, -7.122600078582764, -7.123000144958496, -7.1230998039245605, -7.123300075531006, -7.123899936676025, -7.124300003051758, -7.124499797821045, -7.124499797821045, -7.124599933624268, -7.124499797821045, -7.124599933624268, -7.124800205230713, -7.124800205230713, -7.12470006942749, -7.124899864196777, -7.124899864196777, -7.125, -6.236999988555908, -5.774199962615967, -6.745299816131592, -6.735000133514404, -6.7418999671936035, -6.236499786376953, -6.297399997711182, -6.734099864959717, -6.735000133514404, -6.2368998527526855, -6.456600189208984, -6.5152997970581055, -5.1458001136779785, -6.546800136566162, -6.323400020599365, -6.747600078582764, -6.235499858856201, -5.622900009155273, -5.620299816131592, -5.938199996948242, -6.112299919128418, -6.370299816131592, -5.953800201416016, -6.156799793243408, -6.183199882507324, -6.25629997253418, -6.481500148773193, -6.393799781799316, -6.26230001449585, -6.2342000007629395, -6.205900192260742, -6.344799995422363, -6.3292999267578125, -6.297900199890137, -6.381400108337402, -6.370100021362305, -6.214099884033203, -6.433499813079834, -6.4375, -6.7108001708984375, -6.71150016784668, -6.711999893188477, -6.711699962615967, -6.7129998207092285, -7.098800182342529, -7.099699974060059, -7.100200176239014, -7.100399971008301, -7.100500106811523, -7.100800037384033, -7.1006999015808105, -7.100800037384033, -7.100900173187256, -7.101200103759766, -7.101099967956543, -7.101200103759766, -7.101200103759766, -7.10230016708374, -7.10230016708374, -7.102499961853027, -7.102700233459473, -7.103300094604492, -7.103899955749512, -7.106599807739258, -7.108799934387207, -7.114299774169922, -6.431399822235107, -6.4319000244140625, -6.03439998626709, -6.711100101470947, -6.716100215911865, -6.710899829864502, -6.218900203704834, -5.14739990234375, -6.710599899291992, -5.026199817657471, -5.999499797821045, -6.719900131225586, -5.367000102996826, -5.748600006103516, -6.05679988861084, -6.712699890136719, -6.711999893188477, -6.710599899291992, -5.901500225067139, -5.748499870300293, -5.655700206756592, -5.749100208282471, -5.520699977874756, -5.840799808502197, -6.2245001792907715, -6.196599960327148, -6.213799953460693, -6.430699825286865, -6.275700092315674, -6.211699962615967, -6.304800033569336, -6.428999900817871, -6.053599834442139, -6.201900005340576, -6.321599960327148, -6.21150016784668, -6.115200042724609, -6.2708001136779785, -6.265100002288818, -6.326900005340576, -6.347899913787842, -6.357500076293945, -6.357800006866455, -6.3597002029418945, -6.63640022277832, -6.63700008392334, -6.637599945068359, -6.638299942016602, -6.638500213623047, -6.639200210571289, -6.6392998695373535, -6.6392998695373535, -6.639400005340576, -7.025599956512451, -7.025599956512451, -7.025700092315674, -7.0258002281188965, -7.0258002281188965, -7.025899887084961, -7.026000022888184, -7.026199817657471, -7.026299953460693, -7.026800155639648, -7.026800155639648, -7.026800155639648, -7.0278000831604, -7.028299808502197, -7.02839994430542, -7.028500080108643, -7.028600215911865, -7.02869987487793, -6.639100074768066, -5.807600021362305, -6.359600067138672, -6.637400150299072, -6.396299839019775, -6.652400016784668, -5.609099864959717, -6.638199806213379, -4.923500061035156, -5.663099765777588, -6.637800216674805, -5.350200176239014, -6.088500022888184, -5.028500080108643, -5.468500137329102, -6.139599800109863, -5.708700180053711, -6.354100227355957, -5.807799816131592, -5.859799861907959, -5.799300193786621, -5.592599868774414, -5.6946001052856445, -5.736400127410889, -5.710299968719482, -5.944300174713135, -5.958499908447266, -5.966899871826172, -5.96619987487793, -6.195300102233887, -6.053800106048584, -6.064199924468994, -6.127500057220459, -6.176300048828125, -6.1585001945495605, -6.147299766540527, -6.179800033569336, -6.2652997970581055, -6.237400054931641, -6.578400135040283, -6.579100131988525, -6.966899871826172, -6.966899871826172, -6.967700004577637, -6.967899799346924, -6.968999862670898, -6.9721999168396, -6.982699871063232, -6.581900119781494, -6.578700065612793, -7.613500118255615, -7.613500118255615, -7.613500118255615, -7.613500118255615, -7.613500118255615, -7.613500118255615, -7.613500118255615, -7.613500118255615, -7.613500118255615, -7.613500118255615, -7.613500118255615, -7.613500118255615, -7.613500118255615, -7.613500118255615, -7.613500118255615, -7.613500118255615, -7.613500118255615, -7.613500118255615, -7.613500118255615, -7.613500118255615, -7.613500118255615, -7.613500118255615, -7.613500118255615, -7.613500118255615, -7.613500118255615, -7.613500118255615, -7.613500118255615, -7.613500118255615, -7.613500118255615, -7.613500118255615, -7.613500118255615, -7.613500118255615, -7.613500118255615, -7.613500118255615, -7.613500118255615, -6.968299865722656, -7.613500118255615, -7.613500118255615, -6.968900203704834, -6.969099998474121, -6.968299865722656, -6.962299823760986, -6.966899871826172, -6.968599796295166, -6.299300193786621, -6.875899791717529, -6.302000045776367, -6.968599796295166, -6.966800212860107, -6.971700191497803, -6.967800140380859, -6.968100070953369, -6.96999979019165, -6.579100131988525, -6.978799819946289, -4.714099884033203, -5.618899822235107, -6.298999786376953, -5.393799781799316, -5.230100154876709, -6.578000068664551, -6.079699993133545, -5.926599979400635, -6.078700065612793, -5.4156999588012695, -6.30049991607666, -6.298900127410889, -6.077899932861328, -6.0991997718811035, -5.748899936676025, -5.397500038146973, -5.92579984664917, -5.957699775695801, -5.640500068664551, -5.845600128173828, -5.9019999504089355, -5.73859977722168, -6.08050012588501, -6.298600196838379, -5.900700092315674, -5.955999851226807, -6.101799964904785, -6.077099800109863, -6.169600009918213, -6.078999996185303, -6.079800128936768, -6.008299827575684, -6.091599941253662, -6.076600074768066, -6.296000003814697]}, \"token.table\": {\"Topic\": [2, 6, 7, 10, 5, 2, 4, 4, 10, 10, 6, 1, 3, 4, 3, 9, 1, 2, 3, 4, 5, 6, 7, 9, 10, 1, 2, 3, 4, 5, 7, 8, 9, 10, 7, 4, 4, 4, 7, 8, 2, 3, 6, 8, 9, 2, 1, 5, 8, 1, 7, 4, 4, 8, 3, 10, 6, 1, 8, 1, 10, 10, 2, 3, 4, 1, 4, 10, 8, 10, 2, 3, 5, 1, 2, 5, 6, 8, 1, 7, 1, 6, 1, 5, 1, 2, 4, 2, 9, 6, 9, 7, 10, 5, 1, 7, 8, 9, 6, 3, 7, 1, 3, 4, 7, 9, 10, 9, 3, 3, 10, 3, 4, 5, 7, 9, 2, 2, 7, 2, 3, 8, 10, 8, 1, 2, 3, 4, 5, 6, 7, 8, 9, 10, 1, 2, 3, 4, 5, 6, 8, 9, 10, 7, 1, 1, 2, 3, 4, 5, 6, 7, 8, 9, 10, 9, 3, 5, 5, 5, 9, 8, 2, 10, 9, 6, 4, 4, 8, 9, 9, 2, 1, 9, 3, 4, 9, 3, 8, 10, 8, 7, 7, 6, 3, 6, 5, 5, 6, 5, 4, 5, 9, 7, 10, 3, 3, 3, 5, 4, 8, 8, 5, 1, 4, 5, 6, 2, 10, 7, 9, 5, 10, 3, 5, 4, 9, 7, 7, 2, 1, 3, 8, 1, 1, 2, 3, 4, 5, 6, 8, 7, 10, 5, 2, 10, 2, 5, 3, 5, 1, 10, 8, 4, 2, 8, 10, 1, 2, 3, 4, 5, 6, 8, 10, 3, 7, 1, 8, 3, 3, 10, 3, 10, 6, 10, 1, 2, 3, 4, 5, 6, 7, 8, 9, 10, 10, 3, 8, 2, 3, 5, 6, 10, 8, 1, 2, 4, 6, 1, 2, 3, 4, 5, 7, 8, 1, 2, 3, 4, 5, 6, 7, 8, 10, 4, 5, 10, 10, 4, 6, 7, 1, 2, 4, 5, 6, 9, 1, 2, 3, 4, 5, 6, 7, 10, 3, 4, 5, 1, 2, 3, 4, 5, 6, 7, 8, 9, 10, 1, 5, 4, 4, 5, 6, 2, 10, 3, 4, 10, 3, 4, 9, 1, 3, 4, 5, 6, 7, 8, 1, 2, 3, 4, 5, 6, 7, 8, 9, 7, 1, 2, 3, 4, 6, 10, 5, 2, 4, 3, 4, 5, 7, 8, 7, 2, 8, 1, 3, 4, 5, 6, 8, 9, 10, 1, 2, 3, 4, 6, 8, 9, 1, 3, 5, 9, 1, 7, 10, 7, 10, 2, 3, 4, 5, 7, 8, 9, 2, 1, 2, 3, 4, 5, 6, 8, 9, 10, 3, 1, 2, 3, 4, 5, 9, 1, 2, 3, 4, 5, 6, 8, 9, 10, 6, 8, 1, 2, 3, 7, 3, 5, 4, 5, 7, 1, 2, 3, 4, 5, 6, 7, 10, 10, 6, 1, 2, 3, 4, 5, 6, 7, 8, 9, 10, 1, 2, 4, 7, 10, 2, 8, 1, 3, 4, 5, 6, 8, 9, 1, 1, 2, 3, 4, 5, 8, 9, 10, 1, 2, 3, 4, 6, 7, 8, 5, 1, 5, 9, 2, 4, 10, 5, 1, 2, 3, 4, 5, 6, 10, 3, 6, 9, 8, 9, 1, 1, 2, 3, 4, 5, 6, 7, 8, 9, 10, 3, 7, 1, 1, 3, 4, 1, 2, 3, 4, 5, 6, 7, 8, 9, 10, 1, 2, 3, 4, 5, 6, 8, 9, 10, 8, 1, 2, 4, 5, 6, 7, 8, 6, 1, 2, 3, 4, 5, 6, 7, 8, 9, 8, 1, 2, 3, 5, 6, 7, 8, 1, 2, 3, 4, 5, 6, 7, 8, 9, 10, 4, 6, 2, 1, 3, 2, 5, 8, 1, 2, 3, 4, 5, 6, 7, 8, 9, 10, 1, 2, 3, 4, 5, 6, 7, 8, 9, 9, 10, 1, 2, 3, 4, 5, 6, 7, 8, 9, 10, 4, 7, 9, 6, 1, 4, 5, 8, 1, 2, 3, 4, 5, 6, 7, 8, 9, 10, 9, 1, 2, 3, 4, 5, 6, 9, 10, 3, 9, 9, 2, 7, 10, 4, 2, 4, 1, 2, 3, 4, 5, 6, 7, 2, 3, 5, 7, 8, 1, 2, 4, 7, 7, 1, 5, 8, 10, 3, 1, 2, 3, 4, 5, 6, 7, 8, 10, 5, 6, 1, 2, 3, 4, 5, 6, 7, 8, 9, 10, 10, 2, 6, 4, 1, 2, 3, 4, 5, 6, 7, 8, 9, 10, 1, 2, 3, 4, 6, 9, 10, 2, 1, 2, 3, 5, 7, 1, 2, 3, 4, 5, 6, 7, 9, 1, 1, 2, 3, 4, 5, 6, 7, 8, 9, 2, 3, 3, 8, 2, 1, 2, 3, 4, 5, 6, 7, 8, 9, 10, 1, 2, 3, 4, 6, 7, 8, 9, 1, 6, 2, 3, 6, 1, 2, 3, 4, 5, 6, 7, 8, 9, 10, 1, 2, 3, 4, 5, 6, 7, 8, 9, 10, 1, 3, 4, 5, 9, 1, 2, 3, 4, 5, 6, 7, 8, 9, 10, 1, 4, 6, 9, 10, 1, 2, 3, 5, 6, 9, 10, 1, 2, 5, 1, 2, 3, 4, 5, 6, 7, 8, 10, 5, 4, 10, 1, 2, 3, 4, 5, 10, 1, 3, 5, 6, 10, 6, 1, 2, 3, 4, 5, 6, 9, 1, 1, 7, 2, 3, 4, 5, 6, 10, 1, 2, 3, 4, 6, 7, 8, 9, 3, 4, 8, 9, 4, 7, 9, 9, 2, 10, 4, 10, 1, 2, 3, 4, 5, 6, 7, 8, 9, 10, 1, 2, 3, 4, 5, 6, 8, 9, 10, 1, 2, 3, 4, 5, 6, 9, 10, 8, 3, 1, 3, 4, 6, 7, 8, 10, 2, 4, 1, 1, 2, 3, 4, 5, 6, 7, 8, 9, 10, 1, 2, 4, 5, 6, 7, 8, 10, 1, 3, 4, 6, 7, 8, 9, 6, 7, 9, 1, 2, 3, 4, 5, 6, 7, 8, 9, 10, 2, 5, 10, 1, 2, 3, 4, 5, 6, 7, 8, 9, 10, 2, 5, 8, 9, 10, 6, 3, 5, 1, 2, 3, 4, 5, 6, 7, 8, 9, 10, 1, 2, 3, 4, 5, 7, 8, 10, 2, 3, 6, 7, 10, 1, 2, 3, 4, 6, 7, 8, 9, 1, 2, 3, 4, 5, 6, 8, 9, 1, 2, 3, 4, 5, 6, 8, 9, 10, 1, 2, 3, 4, 5, 6, 7, 8, 9, 10, 3, 1, 2, 3, 4, 5, 6, 7, 8, 9, 10, 10, 1, 2, 3, 4, 5, 6, 7, 8, 10, 1, 4, 5, 8, 10, 2, 3, 4, 7, 8, 9, 3, 1, 5, 6, 1, 10, 4, 6, 6, 2, 2, 3, 5, 9, 1, 2, 3, 4, 5, 6, 7, 8, 10, 1, 4, 5, 6, 9, 5, 8, 1, 2, 3, 5, 6, 8, 9, 1, 2, 3, 4, 6, 7, 8, 1, 2, 3, 5, 7, 9, 2, 1, 2, 3, 4, 5, 6, 10, 1, 2, 3, 4, 5, 6, 7, 8, 9, 10, 1, 2, 3, 4, 5, 7, 8, 9, 10, 1, 2, 3, 4, 5, 6, 7, 9, 10, 1, 2, 3, 4, 5, 6, 7, 9, 10, 10, 6, 2, 9, 1, 2, 3, 8, 9, 1, 2, 3, 4, 5, 6, 7, 9, 10, 5, 1, 2, 3, 4, 5, 9, 10, 10, 5, 8, 5, 1, 2, 3, 4, 5, 6, 8, 9, 1, 2, 3, 4, 5, 6, 7, 8, 9, 10, 5, 10, 1, 8, 5, 6, 1, 6, 1, 2, 3, 4, 5, 6, 7, 8, 9, 10, 1, 5, 6, 7, 4, 6, 4, 10, 4, 1, 2, 3, 4, 5, 6, 7, 8, 9, 10, 1, 4, 9, 1, 3, 4, 5, 7, 10, 1, 2, 3, 4, 5, 6, 7, 8, 9, 3, 3, 4, 10, 2, 4, 5, 6, 5, 6, 7, 1, 2, 3, 4, 5, 6, 7, 8, 9, 10, 1, 2, 3, 4, 5, 6, 8, 10, 1, 2, 3, 4, 5, 7, 8, 10, 1, 2, 3, 4, 5, 6, 9, 10, 4, 5, 9, 7, 7, 6, 1, 2, 3, 4, 5, 9, 6, 1, 8, 1, 2, 6, 7, 8, 9, 1, 2, 3, 4, 10, 10, 1, 2, 3, 4, 5, 6, 7, 8, 9, 10, 6, 5, 3, 7, 1, 2, 1, 1, 2, 3, 4, 5, 6, 7, 8, 9, 10, 1, 2, 4, 6, 1, 3, 1, 2, 3, 4, 5, 6, 7, 8, 9, 4, 5, 6, 7, 1, 2, 3, 4, 5, 6, 7, 10, 1, 2, 4, 6, 1, 2, 3, 4, 5, 6, 7, 8, 10, 4, 1, 2, 3, 4, 10, 1, 2, 3, 5, 6, 7, 9, 10, 1, 4, 5, 6, 9, 10, 1, 2, 3, 4, 5, 6, 7, 8, 10, 10, 4, 1, 10, 1, 2, 4, 6, 2, 1, 2, 3, 4, 5, 6, 9, 1, 2, 3, 4, 5, 6, 7, 8, 9, 1, 2, 3, 4, 5, 6, 8, 9, 10, 1, 2, 3, 4, 5, 6, 7, 8, 9, 10, 2, 7, 1, 2, 4, 6, 8, 10, 7, 3, 4, 10, 5, 7, 1, 2, 1, 2, 3, 4, 5, 6, 7, 9, 10, 1, 8, 1, 7, 10, 1, 4, 5, 6, 9, 8, 4, 5, 9, 1, 2, 4, 5, 6, 10, 6, 1, 2, 3, 4, 6, 7, 8, 1, 1, 4, 1, 2, 6, 2, 3, 4, 5, 6, 7, 8, 10, 4, 1, 2, 3, 4, 8, 10, 1, 2, 3, 4, 5, 6, 7, 8, 10, 1, 2, 3, 4, 5, 6, 9, 10, 3, 6, 1, 5, 3, 8, 8, 2, 4, 6, 7, 9, 1, 5, 1, 2, 3, 4, 10, 2, 8, 10, 1, 2, 3, 4, 5, 6, 7, 8, 9, 8, 1, 2, 3, 4, 5, 6, 8, 9, 10, 4, 6, 10, 10, 1, 2, 3, 4, 5, 7, 9, 10, 2, 7, 1, 3, 4, 5, 8, 10, 1, 2, 3, 4, 5, 6, 7, 8, 9, 10, 1, 2, 3, 4, 5, 6, 7, 8, 9, 2, 1, 5, 9, 1, 2, 3, 4, 5, 6, 7, 8, 9, 10, 2, 2, 4, 8, 1, 1, 2, 3, 5, 7, 4, 10, 9, 2, 10, 3, 4, 6, 9, 1, 2, 3, 4, 5, 6, 7, 8, 9, 10, 9, 10, 2, 2, 6, 10, 10, 3, 2, 9, 1, 7, 10, 1, 2, 4, 5, 6, 7, 8, 9, 10, 1, 2, 8, 9, 10, 1, 2, 3, 4, 5, 6, 7, 8, 9, 10, 1, 2, 3, 4, 5, 7, 8, 9, 1, 2, 3, 4, 5, 6, 7, 8, 9, 10, 1, 2, 3, 4, 5, 6, 8, 10, 2, 4, 7, 10, 2, 3, 4, 7, 10, 3, 1, 2, 3, 4, 5, 7, 8, 9, 10, 1, 2, 8, 9, 1, 5, 1, 2, 3, 4, 5, 6, 7, 8, 9, 10, 3, 7, 8, 2, 8, 9, 2, 3, 4, 7, 8, 6, 1, 2, 3, 4, 5, 7, 8, 9, 10, 10, 1, 4, 6, 7, 8, 1, 2, 1, 2, 3, 4, 6, 10, 4, 2, 7, 9], \"Freq\": [0.8408815860748291, 0.4699437618255615, 0.49254074692726135, 0.76258784532547, 0.8807787299156189, 0.7099074721336365, 0.17747686803340912, 0.8842875361442566, 0.7625877857208252, 0.7625877857208252, 0.469939649105072, 0.61716628074646, 0.154291570186615, 0.154291570186615, 0.6434769630432129, 0.5135221481323242, 0.27722376585006714, 0.221779003739357, 0.1108895018696785, 0.1108895018696785, 0.08316712826490402, 0.08316712826490402, 0.027722375467419624, 0.027722375467419624, 0.027722375467419624, 0.16475513577461243, 0.20594392716884613, 0.16475513577461243, 0.12356635183095932, 0.08237756788730621, 0.04118878394365311, 0.12356635183095932, 0.04118878394365311, 0.04118878394365311, 0.7448545694351196, 0.884227991104126, 0.8842020630836487, 0.8842207789421082, 0.6006592512130737, 0.30032962560653687, 0.16455651819705963, 0.4936695396900177, 0.16455651819705963, 0.16455651819705963, 0.7810935974121094, 0.743431806564331, 0.6182881593704224, 0.20609605312347412, 0.9124135375022888, 0.9265281558036804, 0.4925183951854706, 0.8845099210739136, 0.884485125541687, 0.9129981398582458, 0.6435399055480957, 0.5251297354698181, 0.7059267163276672, 0.8335437178611755, 0.49923792481422424, 0.926623523235321, 0.8025903105735779, 0.5258870720863342, 0.25397905707359314, 0.5079581141471863, 0.8843637704849243, 0.9265720248222351, 0.3741306662559509, 0.3741306662559509, 0.49861228466033936, 0.7625877857208252, 0.12808114290237427, 0.25616228580474854, 0.5123245716094971, 0.08651477843523026, 0.1730295568704605, 0.21628694236278534, 0.4758313000202179, 0.04325738921761513, 0.6340653300285339, 0.21135510504245758, 0.2722870111465454, 0.5445740222930908, 0.833572268486023, 0.8809612989425659, 0.1827620267868042, 0.1827620267868042, 0.5482860803604126, 0.8409422039985657, 0.5135666728019714, 0.3064265847206116, 0.6128531694412231, 0.49258139729499817, 0.76258784532547, 0.8807527422904968, 0.9265830516815186, 0.7448005080223083, 0.7567105889320374, 0.5136604309082031, 0.848039448261261, 0.8647077679634094, 0.49254390597343445, 0.17005470395088196, 0.08502735197544098, 0.17005470395088196, 0.4251367449760437, 0.08502735197544098, 0.08502735197544098, 0.5137307643890381, 0.6434611082077026, 0.5718502402305603, 0.28592512011528015, 0.6434221267700195, 0.8841071724891663, 0.8807874321937561, 0.49253085255622864, 0.5134567618370056, 0.6233782768249512, 0.9361128807067871, 0.49254870414733887, 0.2343018501996994, 0.2343018501996994, 0.4686037003993988, 0.7625877857208252, 0.49923470616340637, 0.2286985218524933, 0.15246568620204926, 0.19058209657669067, 0.05717463046312332, 0.09529104828834534, 0.09529104828834534, 0.019058210775256157, 0.05717463046312332, 0.038116421550512314, 0.038116421550512314, 0.11972329765558243, 0.4190315306186676, 0.13468870520591736, 0.08979246765375137, 0.07482706010341644, 0.029930824413895607, 0.04489623382687569, 0.029930824413895607, 0.059861648827791214, 0.7510755658149719, 0.833520770072937, 0.11417922377586365, 0.2093285769224167, 0.13320909440517426, 0.15223896503448486, 0.07611948251724243, 0.057089611887931824, 0.057089611887931824, 0.019029870629310608, 0.057089611887931824, 0.11417922377586365, 0.5136542320251465, 0.21674121916294098, 0.6502236127853394, 0.7853168845176697, 0.7852026224136353, 0.5136983394622803, 0.7644587159156799, 0.8883768916130066, 0.76258784532547, 0.5135228633880615, 0.4697023630142212, 0.884174108505249, 0.8841751217842102, 0.49931055307388306, 0.5137096643447876, 0.781406044960022, 0.7434883117675781, 0.7358225584030151, 0.9454885125160217, 0.5156876444816589, 0.25784382224082947, 0.5137085318565369, 0.8647384643554688, 0.4991036057472229, 0.7625877857208252, 0.499177485704422, 0.7448957562446594, 0.49241676926612854, 0.7061250805854797, 0.2755427658557892, 0.5510855317115784, 0.6565611958503723, 0.6566039323806763, 0.46971818804740906, 0.8807663321495056, 0.6599528193473816, 0.8670989871025085, 0.945734441280365, 0.49256694316864014, 0.76258784532547, 0.6435052752494812, 0.8509933352470398, 0.8647552132606506, 0.656669557094574, 0.8842198848724365, 0.49926722049713135, 0.4990580081939697, 0.88080233335495, 0.9266605377197266, 0.659408450126648, 0.6566643118858337, 0.46979132294654846, 0.8408789038658142, 0.76258784532547, 0.4924805760383606, 0.781261682510376, 0.37355291843414307, 0.37355291843414307, 0.8647550940513611, 0.8808363676071167, 0.8844584226608276, 0.5137231945991516, 0.898303210735321, 0.7510629892349243, 0.9357254505157471, 0.926558256149292, 0.864787757396698, 0.49924221634864807, 0.9266001582145691, 0.25042223930358887, 0.08347407728433609, 0.08347407728433609, 0.16694815456867218, 0.08347407728433609, 0.08347407728433609, 0.25042223930358887, 0.4925273060798645, 0.7625877857208252, 0.6566703915596008, 0.36627599596977234, 0.36627599596977234, 0.2581161558628082, 0.5162323117256165, 0.6435757279396057, 0.7855021357536316, 0.735884964466095, 0.76258784532547, 0.4992437958717346, 0.8841786980628967, 0.29666468501091003, 0.29666468501091003, 0.29666468501091003, 0.11724571138620377, 0.23449142277240753, 0.07816381007432938, 0.19540952146053314, 0.11724571138620377, 0.03908190503716469, 0.11724571138620377, 0.07816381007432938, 0.74700927734375, 0.1867523193359375, 0.24247583746910095, 0.7274275422096252, 0.864736020565033, 0.6673914194107056, 0.22246380150318146, 0.643304705619812, 0.76258784532547, 0.46964603662490845, 0.76258784532547, 0.20935921370983124, 0.15701942145824432, 0.13957281410694122, 0.17446601390838623, 0.08723300695419312, 0.034893203526735306, 0.017446601763367653, 0.05233980342745781, 0.12212621420621872, 0.034893203526735306, 0.76258784532547, 0.8647257089614868, 0.4993608295917511, 0.24785122275352478, 0.12392561137676239, 0.12392561137676239, 0.49570244550704956, 0.12392561137676239, 0.49935781955718994, 0.11126001179218292, 0.11126001179218292, 0.33378005027770996, 0.4450400471687317, 0.12207869440317154, 0.3662360906600952, 0.12207869440317154, 0.20346449315547943, 0.12207869440317154, 0.040692899376153946, 0.040692899376153946, 0.24499818682670593, 0.10499922186136246, 0.10499922186136246, 0.20999844372272491, 0.06999947875738144, 0.03499973937869072, 0.03499973937869072, 0.03499973937869072, 0.13999895751476288, 0.6695027351379395, 0.26780110597610474, 0.13390055298805237, 0.76258784532547, 0.39382094144821167, 0.5907313823699951, 0.7449368238449097, 0.07304894924163818, 0.14609789848327637, 0.14609789848327637, 0.14609789848327637, 0.29219579696655273, 0.21914684772491455, 0.0513174906373024, 0.1539524644613266, 0.0513174906373024, 0.1539524644613266, 0.1026349812746048, 0.2052699625492096, 0.1026349812746048, 0.1539524644613266, 0.16287240386009216, 0.8143620491027832, 0.7853409647941589, 0.18246474862098694, 0.1368485540151596, 0.18246474862098694, 0.15965665876865387, 0.09123237431049347, 0.09123237431049347, 0.045616187155246735, 0.022808093577623367, 0.022808093577623367, 0.09123237431049347, 0.9267226457595825, 0.8807528614997864, 0.6599277853965759, 0.21782158315181732, 0.6534647345542908, 0.7058547735214233, 0.9354852437973022, 0.7625877857208252, 0.5857853293418884, 0.2928926646709442, 0.1464463323354721, 0.8648415207862854, 0.2995343804359436, 0.5990687608718872, 0.17178687453269958, 0.17178687453269958, 0.34357374906539917, 0.05726229399442673, 0.05726229399442673, 0.11452458798885345, 0.05726229399442673, 0.37192830443382263, 0.1352466642856598, 0.1352466642856598, 0.03381166607141495, 0.1352466642856598, 0.0676233321428299, 0.03381166607141495, 0.0676233321428299, 0.03381166607141495, 0.8983930945396423, 0.1152220144867897, 0.3456660509109497, 0.1152220144867897, 0.1152220144867897, 0.1152220144867897, 0.2304440289735794, 0.8807474970817566, 0.21591316163539886, 0.6477394700050354, 0.11739188432693481, 0.23478376865386963, 0.11739188432693481, 0.35217565298080444, 0.11739188432693481, 0.8983336091041565, 0.8408800959587097, 0.49839529395103455, 0.11095120012760162, 0.22190240025520325, 0.036983735859394073, 0.406821072101593, 0.036983735859394073, 0.07396747171878815, 0.11095120012760162, 0.76258784532547, 0.0814543142914772, 0.1221814751625061, 0.3665444254875183, 0.1629086285829544, 0.0407271571457386, 0.1221814751625061, 0.1221814751625061, 0.3486744165420532, 0.4648992121219635, 0.11622480303049088, 0.11622480303049088, 0.2943477928638458, 0.2943477928638458, 0.2943477928638458, 0.4926023483276367, 0.76258784532547, 0.18957911431789398, 0.37915822863578796, 0.047394778579473495, 0.1421843320131302, 0.1421843320131302, 0.047394778579473495, 0.047394778579473495, 0.9355366230010986, 0.07630278915166855, 0.1526055783033371, 0.2670597434043884, 0.22890836000442505, 0.038151394575834274, 0.07630278915166855, 0.11445418000221252, 0.038151394575834274, 0.038151394575834274, 0.6434933543205261, 0.19484572112560272, 0.06494857370853424, 0.12989714741706848, 0.38969144225120544, 0.12989714741706848, 0.06494857370853424, 0.057480793446302414, 0.11496158689260483, 0.11496158689260483, 0.057480793446302414, 0.057480793446302414, 0.28740397095680237, 0.08622118830680847, 0.11496158689260483, 0.057480793446302414, 0.7016503214836121, 0.7564403414726257, 0.529608428478241, 0.19860315322875977, 0.13240210711956024, 0.13240210711956024, 0.21660703420639038, 0.6498211026191711, 0.23638665676116943, 0.23638665676116943, 0.47277331352233887, 0.16737741231918335, 0.08368870615959167, 0.2092217653989792, 0.08368870615959167, 0.08368870615959167, 0.2092217653989792, 0.04184435307979584, 0.08368870615959167, 0.76258784532547, 0.4697105288505554, 0.25224727392196655, 0.15855543315410614, 0.12252011150121689, 0.13693423569202423, 0.0720706507563591, 0.10089891403913498, 0.04324239119887352, 0.02162119559943676, 0.06486358493566513, 0.02162119559943676, 0.12657132744789124, 0.25314265489578247, 0.12657132744789124, 0.3797139525413513, 0.12657132744789124, 0.9357660412788391, 0.49913135170936584, 0.39903873205184937, 0.04433763772249222, 0.17735055088996887, 0.2216881960630417, 0.04433763772249222, 0.04433763772249222, 0.04433763772249222, 0.9264767169952393, 0.4857946038246155, 0.12144865095615387, 0.060724325478076935, 0.060724325478076935, 0.1821729838848114, 0.060724325478076935, 0.060724325478076935, 0.7625877857208252, 0.299736887216568, 0.11989475041627884, 0.11989475041627884, 0.17984212934970856, 0.05994737520813942, 0.17984212934970856, 0.05994737520813942, 0.8807621598243713, 0.6994757056236267, 0.13989514112472534, 0.13989514112472534, 0.3213692009449005, 0.642738401889801, 0.7625877857208252, 0.6566802263259888, 0.11137618124485016, 0.4733487665653229, 0.05568809062242508, 0.08353213220834732, 0.11137618124485016, 0.05568809062242508, 0.08353213220834732, 0.21397726237773895, 0.21397726237773895, 0.6419317722320557, 0.3123927712440491, 0.6247855424880981, 0.9301467537879944, 0.13372017443180084, 0.24833746254444122, 0.19102881848812103, 0.11461729556322098, 0.05730864778161049, 0.05730864778161049, 0.038205765187740326, 0.038205765187740326, 0.07641153037548065, 0.038205765187740326, 0.5316446423530579, 0.26582232117652893, 0.7358041405677795, 0.14128094911575317, 0.5651237964630127, 0.28256189823150635, 0.08404576778411865, 0.15128237009048462, 0.25213730335235596, 0.05042745918035507, 0.2017098367214203, 0.05042745918035507, 0.05042745918035507, 0.01680915243923664, 0.10085491836071014, 0.05042745918035507, 0.3238273859024048, 0.1619136929512024, 0.03238273784518242, 0.12953095138072968, 0.1619136929512024, 0.09714821726083755, 0.03238273784518242, 0.03238273784518242, 0.03238273784518242, 0.49786055088043213, 0.16404111683368683, 0.32808223366737366, 0.05468037351965904, 0.16404111683368683, 0.10936074703931808, 0.16404111683368683, 0.05468037351965904, 0.4696227014064789, 0.2803930342197418, 0.21029478311538696, 0.07009825855493546, 0.10514739155769348, 0.07009825855493546, 0.17524565756320953, 0.03504912927746773, 0.03504912927746773, 0.03504912927746773, 0.49912771582603455, 0.16790904104709625, 0.22387872636318207, 0.11193936318159103, 0.11193936318159103, 0.05596968159079552, 0.11193936318159103, 0.22387872636318207, 0.13654491305351257, 0.2427465170621872, 0.045514971017837524, 0.22757486999034882, 0.16688823699951172, 0.07585828751325607, 0.0151716573163867, 0.07585828751325607, 0.0303433146327734, 0.0151716573163867, 0.659514844417572, 0.46967369318008423, 0.8408800959587097, 0.2533303499221802, 0.5066606998443604, 0.3531359136104584, 0.5885598659515381, 0.11771196871995926, 0.19279971718788147, 0.33739951252937317, 0.07229989767074585, 0.09639985859394073, 0.04819992929697037, 0.09639985859394073, 0.024099964648485184, 0.04819992929697037, 0.024099964648485184, 0.04819992929697037, 0.09642516076564789, 0.14463774859905243, 0.24106290936470032, 0.09642516076564789, 0.09642516076564789, 0.09642516076564789, 0.048212580382823944, 0.14463774859905243, 0.048212580382823944, 0.32184693217277527, 0.6436938643455505, 0.2610822916030884, 0.06024976074695587, 0.06024976074695587, 0.18074928224086761, 0.10041626542806625, 0.18074928224086761, 0.08033301681280136, 0.06024976074695587, 0.02008325420320034, 0.02008325420320034, 0.884337306022644, 0.49252963066101074, 0.7813419699668884, 0.469612181186676, 0.2582927346229553, 0.5165854692459106, 0.24633288383483887, 0.7389986515045166, 0.16286718845367432, 0.1954406201839447, 0.16286718845367432, 0.06514687091112137, 0.13029374182224274, 0.16286718845367432, 0.032573435455560684, 0.032573435455560684, 0.032573435455560684, 0.032573435455560684, 0.5136439204216003, 0.20264853537082672, 0.08105941861867905, 0.12158912420272827, 0.20264853537082672, 0.1823836863040924, 0.12158912420272827, 0.04052970930933952, 0.02026485465466976, 0.8648563027381897, 0.7810529470443726, 0.945243239402771, 0.29543259739875793, 0.29543259739875793, 0.29543259739875793, 0.6595034599304199, 0.36635997891426086, 0.5495399832725525, 0.2269495278596878, 0.3404242992401123, 0.15886467695236206, 0.06808485835790634, 0.1134747639298439, 0.02269495278596878, 0.04538990557193756, 0.1714581698179245, 0.1714581698179245, 0.25718724727630615, 0.25718724727630615, 0.1714581698179245, 0.13379481434822083, 0.4013844132423401, 0.13379481434822083, 0.4013844132423401, 0.49254679679870605, 0.23467029631137848, 0.23467029631137848, 0.46934059262275696, 0.76258784532547, 0.8647320866584778, 0.24129079282283783, 0.16086052358150482, 0.16086052358150482, 0.08043026179075241, 0.2144806981086731, 0.053620174527168274, 0.053620174527168274, 0.026810087263584137, 0.026810087263584137, 0.45644673705101013, 0.45644673705101013, 0.12231682240962982, 0.19221214950084686, 0.03494766354560852, 0.13979065418243408, 0.24463364481925964, 0.06989532709121704, 0.03494766354560852, 0.01747383177280426, 0.05242149531841278, 0.06989532709121704, 0.7625877857208252, 0.6344941854476929, 0.21149806678295135, 0.8842895030975342, 0.20374847948551178, 0.252929151058197, 0.07728390395641327, 0.17564523220062256, 0.09836133569478989, 0.11943875998258591, 0.02107742801308632, 0.028103237971663475, 0.02107742801308632, 0.014051618985831738, 0.19096843898296356, 0.15277475118637085, 0.07638737559318542, 0.22916212677955627, 0.19096843898296356, 0.03819368779659271, 0.11458106338977814, 0.8409237265586853, 0.44965311884880066, 0.16861991584300995, 0.11241327971220016, 0.11241327971220016, 0.05620663985610008, 0.23631775379180908, 0.14769859611988068, 0.14769859611988068, 0.20677803456783295, 0.20677803456783295, 0.029539719223976135, 0.029539719223976135, 0.029539719223976135, 0.833543598651886, 0.10151251405477524, 0.06767500936985016, 0.06767500936985016, 0.1691875159740448, 0.10151251405477524, 0.13535001873970032, 0.10151251405477524, 0.06767500936985016, 0.1691875159740448, 0.9355212450027466, 0.643373966217041, 0.290720671415329, 0.581441342830658, 0.9356762170791626, 0.19651639461517334, 0.19651639461517334, 0.20506058633327484, 0.07689771801233292, 0.14525124430656433, 0.04272095486521721, 0.017088381573557854, 0.025632573291659355, 0.04272095486521721, 0.05126514658331871, 0.18134790658950806, 0.25906842947006226, 0.20725475251674652, 0.10362737625837326, 0.025906844064593315, 0.025906844064593315, 0.10362737625837326, 0.025906844064593315, 0.868816077709198, 0.46959856152534485, 0.706703245639801, 0.17667581140995026, 0.7063640356063843, 0.2065621167421341, 0.28306660056114197, 0.09180538356304169, 0.1989116668701172, 0.05355314165353775, 0.06885404139757156, 0.01530089695006609, 0.01530089695006609, 0.03825224190950394, 0.022951345890760422, 0.2097243070602417, 0.2097243070602417, 0.1835087686777115, 0.07864661514759064, 0.026215538382530212, 0.13107769191265106, 0.07864661514759064, 0.026215538382530212, 0.052431076765060425, 0.026215538382530212, 0.5863932371139526, 0.08377046138048172, 0.08377046138048172, 0.16754092276096344, 0.08377046138048172, 0.2866464853286743, 0.2129373997449875, 0.14741820096969604, 0.13103839755058289, 0.06551919877529144, 0.040949497371912, 0.00818989984691143, 0.05732929706573486, 0.02456969954073429, 0.040949497371912, 0.926321804523468, 0.2370249330997467, 0.4740498661994934, 0.2370249330997467, 0.76258784532547, 0.18174193799495697, 0.060580648481845856, 0.36348387598991394, 0.060580648481845856, 0.24232259392738342, 0.060580648481845856, 0.060580648481845856, 0.9264638423919678, 0.7743422985076904, 0.1548684537410736, 0.18479502201080322, 0.13859626650810242, 0.09239751100540161, 0.09239751100540161, 0.13859626650810242, 0.046198755502700806, 0.046198755502700806, 0.18479502201080322, 0.046198755502700806, 0.8807693719863892, 0.30649125576019287, 0.6129825115203857, 0.148525208234787, 0.0742626041173935, 0.297050416469574, 0.25991910696029663, 0.18565650284290314, 0.0742626041173935, 0.14258357882499695, 0.14258357882499695, 0.14258357882499695, 0.2851671576499939, 0.2851671576499939, 0.4696130156517029, 0.09616895020008087, 0.1442534178495407, 0.1442534178495407, 0.33659130334854126, 0.1442534178495407, 0.048084475100040436, 0.048084475100040436, 0.7357053160667419, 0.28379955887794495, 0.5675991177558899, 0.17904415726661682, 0.44761040806770325, 0.08952207863330841, 0.08952207863330841, 0.08952207863330841, 0.17904415726661682, 0.2497447282075882, 0.16649648547172546, 0.13874706625938416, 0.05549882724881172, 0.16649648547172546, 0.05549882724881172, 0.13874706625938416, 0.02774941362440586, 0.2611914277076721, 0.5223828554153442, 0.499229371547699, 0.5136749744415283, 0.24580344557762146, 0.4916068911552429, 0.24580344557762146, 0.5135332942008972, 0.9354830980300903, 0.5258870720863342, 0.6067380309104919, 0.20224601030349731, 0.21787409484386444, 0.10893704742193222, 0.09337461739778519, 0.295686274766922, 0.062249742448329926, 0.031124871224164963, 0.015562435612082481, 0.031124871224164963, 0.062249742448329926, 0.062249742448329926, 0.19539974629878998, 0.15197758376598358, 0.10855541378259659, 0.15197758376598358, 0.08684433251619339, 0.17368866503238678, 0.06513325124979019, 0.021711083129048347, 0.043422166258096695, 0.15974219143390656, 0.1996777355670929, 0.11980663985013962, 0.07987109571695328, 0.23961327970027924, 0.03993554785847664, 0.03993554785847664, 0.11980663985013962, 0.4989968538284302, 0.864736020565033, 0.17746034264564514, 0.17746034264564514, 0.17746034264564514, 0.23661378026008606, 0.11830689013004303, 0.059153445065021515, 0.059153445065021515, 0.8409243226051331, 0.8843313455581665, 0.8335967063903809, 0.21103784441947937, 0.2261119782924652, 0.09044478833675385, 0.150741308927536, 0.16581544280052185, 0.04522239416837692, 0.015074131079018116, 0.075370654463768, 0.015074131079018116, 0.76258784532547, 0.11572032421827316, 0.05786016210913658, 0.11572032421827316, 0.23144064843654633, 0.23144064843654633, 0.05786016210913658, 0.11572032421827316, 0.05786016210913658, 0.13785971701145172, 0.3676259219646454, 0.1838129609823227, 0.13785971701145172, 0.13785971701145172, 0.04595324024558067, 0.781042754650116, 0.4827781319618225, 0.24138906598091125, 0.7810826301574707, 0.07434571534395218, 0.11151857674121857, 0.2602100074291229, 0.03717285767197609, 0.14869143068790436, 0.07434571534395218, 0.07434571534395218, 0.11151857674121857, 0.03717285767197609, 0.03717285767197609, 0.2852439880371094, 0.2852439880371094, 0.2852439880371094, 0.14478687942028046, 0.2413114607334137, 0.13674315810203552, 0.1528305858373642, 0.0884808674454689, 0.07239343971014023, 0.03217485919594765, 0.03217485919594765, 0.008043714798986912, 0.09652458131313324, 0.21198207139968872, 0.3533034324645996, 0.07066068798303604, 0.14132137596607208, 0.14132137596607208, 0.706169843673706, 0.5150256156921387, 0.25751280784606934, 0.20377802848815918, 0.11115165054798126, 0.09262637794017792, 0.14820219576358795, 0.1296769231557846, 0.11115165054798126, 0.07410109788179398, 0.03705054894089699, 0.07410109788179398, 0.018525274470448494, 0.20894214510917664, 0.06964737921953201, 0.41788429021835327, 0.06964737921953201, 0.06964737921953201, 0.06964737921953201, 0.06964737921953201, 0.06964737921953201, 0.11138813942670822, 0.5569407343864441, 0.11138813942670822, 0.11138813942670822, 0.11138813942670822, 0.40707993507385254, 0.16283196210861206, 0.08141598105430603, 0.08141598105430603, 0.08141598105430603, 0.08141598105430603, 0.040707990527153015, 0.08141598105430603, 0.28403908014297485, 0.15493039786815643, 0.15493039786815643, 0.07746519893407822, 0.05164346843957901, 0.07746519893407822, 0.07746519893407822, 0.12910866737365723, 0.18501335382461548, 0.2929378151893616, 0.1387600153684616, 0.1079244539141655, 0.12334223836660385, 0.030835559591650963, 0.030835559591650963, 0.061671119183301926, 0.04625333845615387, 0.1467071920633316, 0.24451199173927307, 0.09780479967594147, 0.09780479967594147, 0.1467071920633316, 0.1467071920633316, 0.048902399837970734, 0.048902399837970734, 0.024451199918985367, 0.024451199918985367, 0.8648139238357544, 0.11972691863775253, 0.22615084052085876, 0.06651495397090912, 0.15963588654994965, 0.13302990794181824, 0.11972691863775253, 0.03990897163748741, 0.10642392933368683, 0.013302991166710854, 0.03990897163748741, 0.7625877857208252, 0.08893444389104843, 0.23715852200984955, 0.11857926100492477, 0.29644814133644104, 0.08893444389104843, 0.05928963050246239, 0.08893444389104843, 0.029644815251231194, 0.029644815251231194, 0.18460975587368011, 0.5538292527198792, 0.18460975587368011, 0.7564597129821777, 0.5258394479751587, 0.10558800399303436, 0.10558800399303436, 0.21117600798606873, 0.10558800399303436, 0.10558800399303436, 0.42235201597213745, 0.8648631572723389, 0.16923007369041443, 0.16923007369041443, 0.5076901912689209, 0.36478230357170105, 0.36478230357170105, 0.6596097946166992, 0.4696107506752014, 0.46960875391960144, 0.7434964776039124, 0.12166514247655869, 0.12166514247655869, 0.608325719833374, 0.12166514247655869, 0.35589292645454407, 0.20760421454906464, 0.08897323161363602, 0.05931548774242401, 0.17794646322727203, 0.05931548774242401, 0.029657743871212006, 0.029657743871212006, 0.029657743871212006, 0.5071116089820862, 0.16903719305992126, 0.08451859652996063, 0.16903719305992126, 0.7811488509178162, 0.29232195019721985, 0.5846439003944397, 0.4705037772655487, 0.14477039873600006, 0.036192599684000015, 0.07238519936800003, 0.07238519936800003, 0.10857779532670975, 0.10857779532670975, 0.23390328884124756, 0.23390328884124756, 0.15593552589416504, 0.07796776294708252, 0.07796776294708252, 0.07796776294708252, 0.23390328884124756, 0.08342845737934113, 0.4171423017978668, 0.08342845737934113, 0.08342845737934113, 0.25028538703918457, 0.08342845737934113, 0.8408800959587097, 0.1010383665561676, 0.1010383665561676, 0.1010383665561676, 0.1010383665561676, 0.5051918625831604, 0.1010383665561676, 0.1010383665561676, 0.19057753682136536, 0.2541033923625946, 0.08470112830400467, 0.10587640851736069, 0.10587640851736069, 0.10587640851736069, 0.042350564152002335, 0.06352584809064865, 0.042350564152002335, 0.021175282076001167, 0.1905938982963562, 0.1633661985397339, 0.21782159805297852, 0.10891079902648926, 0.10891079902648926, 0.027227699756622314, 0.027227699756622314, 0.10891079902648926, 0.027227699756622314, 0.09452813118696213, 0.3213956654071808, 0.07562250643968582, 0.20796188712120056, 0.07562250643968582, 0.09452813118696213, 0.07562250643968582, 0.03781125321984291, 0.018905626609921455, 0.29383376240730286, 0.09794459491968155, 0.16324098408222198, 0.09794459491968155, 0.16324098408222198, 0.032648198306560516, 0.032648198306560516, 0.032648198306560516, 0.09794459491968155, 0.76258784532547, 0.4696066081523895, 0.47420093417167664, 0.47420093417167664, 0.11631794273853302, 0.11631794273853302, 0.23263588547706604, 0.34895381331443787, 0.11631794273853302, 0.2076358050107956, 0.2076358050107956, 0.083054319024086, 0.083054319024086, 0.249162957072258, 0.041527159512043, 0.041527159512043, 0.041527159512043, 0.041527159512043, 0.6574605107307434, 0.22699464857578278, 0.09079785645008087, 0.1361967921257019, 0.09079785645008087, 0.18159571290016174, 0.1361967921257019, 0.1361967921257019, 0.524052083492279, 0.5424989461898804, 0.2712494730949402, 0.8709406852722168, 0.1561528593301773, 0.11711464822292328, 0.3123057186603546, 0.11711464822292328, 0.11711464822292328, 0.03903821483254433, 0.07807642966508865, 0.03903821483254433, 0.26049697399139404, 0.2352875918149948, 0.0588218979537487, 0.12604692578315735, 0.07562815397977829, 0.1176437959074974, 0.016806256026029587, 0.02520938403904438, 0.09243440628051758, 0.008403128013014793, 0.8807426691055298, 0.7625877857208252, 0.28714436292648315, 0.5742887258529663, 0.663151204586029, 0.22105039656162262, 0.9265739917755127, 0.46959176659584045, 0.16793547570705414, 0.3838525414466858, 0.023990783840417862, 0.09596313536167145, 0.047981567680835724, 0.07197234779596329, 0.023990783840417862, 0.047981567680835724, 0.047981567680835724, 0.07197234779596329, 0.16618163883686066, 0.49854493141174316, 0.16618163883686066, 0.16618163883686066, 0.4572300314903259, 0.4572300314903259, 0.8842579126358032, 0.5256532430648804, 0.8842154145240784, 0.17566704750061035, 0.283333957195282, 0.15866701304912567, 0.11333358287811279, 0.10766690224409103, 0.05100011080503464, 0.056666791439056396, 0.01700003817677498, 0.005666679237037897, 0.03400007635354996, 0.1905669867992401, 0.5717009902000427, 0.1905669867992401, 0.19237758219242096, 0.09618879109621048, 0.09618879109621048, 0.3847551643848419, 0.09618879109621048, 0.09618879109621048, 0.07779031991958618, 0.07779031991958618, 0.07779031991958618, 0.07779031991958618, 0.23337095975875854, 0.07779031991958618, 0.23337095975875854, 0.15558063983917236, 0.07779031991958618, 0.864838182926178, 0.32050588726997375, 0.16025294363498688, 0.32050588726997375, 0.22250208258628845, 0.22250208258628845, 0.11125104129314423, 0.4450041651725769, 0.6567321419715881, 0.4697040915489197, 0.7510955929756165, 0.2053815871477127, 0.2053815871477127, 0.1437671035528183, 0.18484342098236084, 0.10269079357385635, 0.02053815871477127, 0.04107631742954254, 0.02053815871477127, 0.04107631742954254, 0.04107631742954254, 0.09677339345216751, 0.38709357380867004, 0.09677339345216751, 0.1693534404039383, 0.09677339345216751, 0.024193348363041878, 0.048386696726083755, 0.048386696726083755, 0.11489436775445938, 0.05744718387722969, 0.11489436775445938, 0.28723591566085815, 0.05744718387722969, 0.11489436775445938, 0.05744718387722969, 0.11489436775445938, 0.1526738703250885, 0.1526738703250885, 0.07633693516254425, 0.07633693516254425, 0.1526738703250885, 0.1526738703250885, 0.22901079058647156, 0.7625877857208252, 0.8841970562934875, 0.8808023929595947, 0.513705313205719, 0.49254918098449707, 0.49252790212631226, 0.4696166515350342, 0.1725473403930664, 0.0862736701965332, 0.0862736701965332, 0.431368350982666, 0.1725473403930664, 0.0862736701965332, 0.46957963705062866, 0.581343948841095, 0.38756263256073, 0.11151197552680969, 0.11151197552680969, 0.11151197552680969, 0.22302395105361938, 0.11151197552680969, 0.3345359265804291, 0.21965588629245758, 0.2928745150566101, 0.21965588629245758, 0.07321862876415253, 0.14643725752830505, 0.7625877857208252, 0.1531396210193634, 0.21056698262691498, 0.1531396210193634, 0.13399717211723328, 0.09571225941181183, 0.0765698105096817, 0.057427357882261276, 0.03828490525484085, 0.0765698105096817, 0.019142452627420425, 0.4695731997489929, 0.6584553122520447, 0.2873052954673767, 0.5746105909347534, 0.6966407299041748, 0.1741601824760437, 0.926838755607605, 0.09735336899757385, 0.3731878995895386, 0.08112780749797821, 0.14603005349636078, 0.08112780749797821, 0.09735336899757385, 0.032451122999191284, 0.048676684498786926, 0.032451122999191284, 0.016225561499595642, 0.24606682360172272, 0.6151670813560486, 0.12303341180086136, 0.46967631578445435, 0.21084676682949066, 0.6325403451919556, 0.14568853378295898, 0.10926640033721924, 0.07284426689147949, 0.2549549341201782, 0.21853280067443848, 0.07284426689147949, 0.036422133445739746, 0.036422133445739746, 0.036422133445739746, 0.22840583324432373, 0.22840583324432373, 0.45681166648864746, 0.4924820363521576, 0.36615610122680664, 0.23300842940807343, 0.09986075758934021, 0.06657383590936661, 0.09986075758934021, 0.06657383590936661, 0.06657383590936661, 0.033286917954683304, 0.23380720615386963, 0.5455501675605774, 0.1558714658021927, 0.07793573290109634, 0.13753393292427063, 0.04584464430809021, 0.5272133946418762, 0.09168928861618042, 0.022922322154045105, 0.04584464430809021, 0.04584464430809021, 0.022922322154045105, 0.06876696646213531, 0.659602701663971, 0.06993475556373596, 0.3496737778186798, 0.41960853338241577, 0.06993475556373596, 0.06993475556373596, 0.059137165546417236, 0.11827433109283447, 0.23654866218566895, 0.11827433109283447, 0.23654866218566895, 0.059137165546417236, 0.11827433109283447, 0.059137165546417236, 0.64991694688797, 0.08665559440851212, 0.04332779720425606, 0.04332779720425606, 0.12998339533805847, 0.04332779720425606, 0.18750908970832825, 0.3409256339073181, 0.15341652929782867, 0.06818512082099915, 0.17046281695365906, 0.017046280205249786, 0.017046280205249786, 0.017046280205249786, 0.03409256041049957, 0.76258784532547, 0.6594557166099548, 0.5668704509735107, 0.28343522548675537, 0.9266960620880127, 0.3336871564388275, 0.2224581092596054, 0.4449162185192108, 0.9356130957603455, 0.08317853510379791, 0.08317853510379791, 0.08317853510379791, 0.16635707020759583, 0.41589269042015076, 0.08317853510379791, 0.08317853510379791, 0.3895264267921448, 0.1623026728630066, 0.064921073615551, 0.0324605368077755, 0.0973816066980362, 0.0973816066980362, 0.064921073615551, 0.0324605368077755, 0.064921073615551, 0.134982630610466, 0.1012369766831398, 0.1687282919883728, 0.2024739533662796, 0.1687282919883728, 0.1687282919883728, 0.0337456576526165, 0.0337456576526165, 0.0337456576526165, 0.06883738934993744, 0.3786056339740753, 0.11472897976636887, 0.1606205701828003, 0.10325608402490616, 0.03441869467496872, 0.03441869467496872, 0.022945797070860863, 0.05736448988318443, 0.022945797070860863, 0.7250639796257019, 0.18126599490642548, 0.09266999363899231, 0.37067997455596924, 0.18533998727798462, 0.09266999363899231, 0.09266999363899231, 0.18533998727798462, 0.4925116300582886, 0.5705625414848328, 0.1901875138282776, 0.1901875138282776, 0.8808008432388306, 0.4925346076488495, 0.7727811336517334, 0.22079460322856903, 0.17289134860038757, 0.43222835659980774, 0.11526089906692505, 0.057630449533462524, 0.08644567430019379, 0.057630449533462524, 0.028815224766731262, 0.028815224766731262, 0.028815224766731262, 0.9265608191490173, 0.4993194043636322, 0.2904934287071228, 0.2904934287071228, 0.2904934287071228, 0.20194724202156067, 0.20194724202156067, 0.5048680901527405, 0.10097362101078033, 0.10097362101078033, 0.7564038038253784, 0.2620540261268616, 0.5241080522537231, 0.5137231945991516, 0.1560160219669342, 0.1560160219669342, 0.1560160219669342, 0.1560160219669342, 0.1560160219669342, 0.3120320439338684, 0.4696735441684723, 0.22745101153850555, 0.13647060096263885, 0.04549020156264305, 0.31843140721321106, 0.04549020156264305, 0.0909804031252861, 0.0909804031252861, 0.8690363168716431, 0.7083097696304321, 0.17707744240760803, 0.13821160793304443, 0.6910580992698669, 0.13821160793304443, 0.34449681639671326, 0.18238066136837006, 0.10132259130477905, 0.10132259130477905, 0.1215871125459671, 0.06079355627298355, 0.0405290387570858, 0.0405290387570858, 0.6595329642295837, 0.2747361660003662, 0.3139841854572296, 0.0784960463643074, 0.2747361660003662, 0.0392480231821537, 0.0392480231821537, 0.21506822109222412, 0.07168940454721451, 0.25091293454170227, 0.14337880909442902, 0.035844702273607254, 0.10753411054611206, 0.035844702273607254, 0.035844702273607254, 0.07168940454721451, 0.12118023633956909, 0.060590118169784546, 0.060590118169784546, 0.060590118169784546, 0.12118023633956909, 0.3635407090187073, 0.12118023633956909, 0.060590118169784546, 0.27554190158843994, 0.5510838031768799, 0.2574477791786194, 0.5148955583572388, 0.8647390604019165, 0.49916478991508484, 0.7562430500984192, 0.23780353367328644, 0.11890176683664322, 0.11890176683664322, 0.35670530796051025, 0.11890176683664322, 0.257488876581192, 0.514977753162384, 0.12536340951919556, 0.5014536380767822, 0.12536340951919556, 0.18804511427879333, 0.06268170475959778, 0.7442708015441895, 0.39331403374671936, 0.39331403374671936, 0.13495460152626038, 0.18893644213676453, 0.08097276091575623, 0.05398184061050415, 0.24291828274726868, 0.1079636812210083, 0.08097276091575623, 0.05398184061050415, 0.05398184061050415, 0.4991500675678253, 0.23392356932163239, 0.21930335462093353, 0.1754426807165146, 0.0877213403582573, 0.11696178466081619, 0.04386067017912865, 0.04386067017912865, 0.04386067017912865, 0.029240446165204048, 0.7994301915168762, 0.26647672057151794, 0.5257746577262878, 0.76258784532547, 0.34325113892555237, 0.13730044662952423, 0.09153363108634949, 0.022883407771587372, 0.20595067739486694, 0.06865022331476212, 0.06865022331476212, 0.045766815543174744, 0.6401046514511108, 0.21336820721626282, 0.5406684875488281, 0.06007428094744682, 0.06007428094744682, 0.2402971237897873, 0.06007428094744682, 0.76258784532547, 0.343723326921463, 0.1833191066980362, 0.11457443982362747, 0.022914888337254524, 0.13748931884765625, 0.0916595533490181, 0.022914888337254524, 0.022914888337254524, 0.04582977667450905, 0.022914888337254524, 0.25468865036964417, 0.1750984489917755, 0.09550824016332626, 0.1591804027557373, 0.1432623565196991, 0.03183608129620552, 0.06367216259241104, 0.03183608129620552, 0.03183608129620552, 0.7438275218009949, 0.2073986828327179, 0.2073986828327179, 0.4147973656654358, 0.2405817210674286, 0.1976207047700882, 0.10310645401477814, 0.16325189173221588, 0.08592204749584198, 0.06014543026685715, 0.025776613503694534, 0.09451425075531006, 0.025776613503694534, 0.008592204190790653, 0.8408817052841187, 0.21593458950519562, 0.647803783416748, 0.49939656257629395, 0.7359753847122192, 0.13469795882701874, 0.13469795882701874, 0.2693959176540375, 0.13469795882701874, 0.2693959176540375, 0.3741254508495331, 0.3741254508495331, 0.5134692788124084, 0.36661362648010254, 0.36661362648010254, 0.6435787677764893, 0.24784405529499054, 0.24784405529499054, 0.4956881105899811, 0.14843635261058807, 0.09895756840705872, 0.16822786629199982, 0.2473939210176468, 0.14843635261058807, 0.04947878420352936, 0.029687270522117615, 0.019791513681411743, 0.04947878420352936, 0.039583027362823486, 0.7810851335525513, 0.76258784532547, 0.627032458782196, 0.2911730110645294, 0.2911730110645294, 0.2911730110645294, 0.76258784532547, 0.8648536205291748, 0.6454406380653381, 0.21514688432216644, 0.20693808794021606, 0.6208142638206482, 0.8023234009742737, 0.2735215127468109, 0.23444700241088867, 0.07814899832010269, 0.2735215127468109, 0.039074499160051346, 0.039074499160051346, 0.039074499160051346, 0.039074499160051346, 0.039074499160051346, 0.9265596866607666, 0.15156084299087524, 0.606243371963501, 0.15156084299087524, 0.15156084299087524, 0.17720600962638855, 0.2067403346300125, 0.08860300481319427, 0.10337016731500626, 0.0738358348608017, 0.08860300481319427, 0.014767167158424854, 0.13290449976921082, 0.04430150240659714, 0.05906866863369942, 0.12189032882452011, 0.2844107747077942, 0.04063010960817337, 0.16252043843269348, 0.12189032882452011, 0.04063010960817337, 0.04063010960817337, 0.20315054059028625, 0.17040100693702698, 0.23125849664211273, 0.09737200289964676, 0.10954350233078003, 0.09737200289964676, 0.08520050346851349, 0.07302900403738022, 0.07302900403738022, 0.03651450201869011, 0.03651450201869011, 0.17328967154026031, 0.11552644520998001, 0.23105289041996002, 0.11552644520998001, 0.20217128098011017, 0.057763222604990005, 0.057763222604990005, 0.057763222604990005, 0.7375675439834595, 0.09219594299793243, 0.09219594299793243, 0.09219594299793243, 0.19386082887649536, 0.09693041443824768, 0.4846520721912384, 0.09693041443824768, 0.09693041443824768, 0.864790678024292, 0.23959626257419586, 0.14974765479564667, 0.059899065643548965, 0.11979813128709793, 0.23959626257419586, 0.029949532821774483, 0.029949532821774483, 0.029949532821774483, 0.089848592877388, 0.20300385355949402, 0.20300385355949402, 0.40600770711898804, 0.20300385355949402, 0.18400217592716217, 0.7360087037086487, 0.04897930100560188, 0.20816202461719513, 0.19591720402240753, 0.14693790674209595, 0.13469307124614716, 0.09795860201120377, 0.01224482525140047, 0.03673447668552399, 0.02448965050280094, 0.08571377396583557, 0.321176141500473, 0.48176419734954834, 0.1605880707502365, 0.4069783389568329, 0.4069783389568329, 0.20348916947841644, 0.9357084035873413, 0.20417244732379913, 0.20417244732379913, 0.40834489464759827, 0.20417244732379913, 0.46967384219169617, 0.051945678889751434, 0.3809349536895752, 0.10389135777950287, 0.13852180540561676, 0.10389135777950287, 0.03463045135140419, 0.08657612651586533, 0.051945678889751434, 0.03463045135140419, 0.76258784532547, 0.24230363965034485, 0.4846072793006897, 0.12115181982517242, 0.12115181982517242, 0.12115181982517242, 0.611492395401001, 0.2038307934999466, 0.0631413534283638, 0.2841360867023468, 0.1894240528345108, 0.2209947407245636, 0.0631413534283638, 0.1578533798456192, 0.8842263221740723, 0.16308638453483582, 0.8154319524765015, 0.5134994983673096], \"Term\": [\"\\\"$10\", \"\\\"Meadowvale\", \"\\\"Mom's\", \"\\\"game\\\"\", \"\\\"manager\\\"\", \"$30\", \"$30\", \"$300.\", \"$4-$5\", \"$4-$7.50\", \"'gourmet\", \"(which\", \"(which\", \"(which\", \"-The\", \"0.5/5\", \"2\", \"2\", \"2\", \"2\", \"2\", \"2\", \"2\", \"2\", \"2\", \"3\", \"3\", \"3\", \"3\", \"3\", \"3\", \"3\", \"3\", \"3\", \"3D\", \"4/5\", \"5%\", \"7%\", \"=\", \"=\", \"AC\", \"AC\", \"AC\", \"AC\", \"Andrew\", \"Annie\", \"Bacon\", \"Bacon\", \"Bang\", \"Bar\", \"Barry\", \"Beast\", \"Beer\", \"Bianco's\", \"Bistro\", \"Booming\", \"CTR\", \"Called\", \"Car\", \"Carly\", \"Cartel\", \"Castle\", \"Chandler\", \"Chandler\", \"Charles\", \"Charlotte.\", \"Check\", \"Check\", \"Chef\", \"Chicagoan,\", \"Chicken\", \"Chicken\", \"Chicken\", \"Chinese\", \"Chinese\", \"Chinese\", \"Chinese\", \"Chinese\", \"Chocolate\", \"Chocolate\", \"Cleveland\", \"Cleveland\", \"Cloud\", \"Commander's\", \"Crab\", \"Crab\", \"Crab\", \"DC\", \"Dan\", \"Dave\", \"Dave\", \"Deanna\", \"Decent\", \"Del\", \"Deli\", \"Discount\", \"Disease\", \"Dish\", \"Express\", \"FAKE,\", \"Firearms\", \"French\", \"French\", \"French\", \"French\", \"French\", \"French\", \"Fresh,\", \"Fried\", \"Garden\", \"Garden\", \"German\", \"Giants\", \"Gilbert,\", \"Griddle\", \"HK\", \"Happy\", \"Harrah's\", \"Having\", \"Highly\", \"Highly\", \"Highly\", \"Hmm.\", \"Humane\", \"I'm\", \"I'm\", \"I'm\", \"I'm\", \"I'm\", \"I'm\", \"I'm\", \"I'm\", \"I'm\", \"I'm\", \"I've\", \"I've\", \"I've\", \"I've\", \"I've\", \"I've\", \"I've\", \"I've\", \"I've\", \"IMAX\", \"Irish\", \"It's\", \"It's\", \"It's\", \"It's\", \"It's\", \"It's\", \"It's\", \"It's\", \"It's\", \"It's\", \"Jack\", \"Jenny\", \"Jenny\", \"Jerry\", \"Jr.\", \"Kathy\", \"Kidney\", \"Korean\", \"LAX\", \"Le\", \"Ma\", \"Mark\", \"Marriotts\", \"Maryann\", \"Massage\", \"Master\", \"Mediterranean\", \"Milk\", \"Mobile\", \"Mongolian\", \"Mongolian\", \"Ms.\", \"Nails\", \"Naples\", \"O'Hare.\", \"Officer\", \"Ol'\", \"Parking\", \"Pastor\", \"Peking\", \"Peking\", \"Pit\", \"Pita\", \"Plan\", \"Poutine\", \"Proper\", \"RAC\", \"Ric's\", \"SLS\", \"STOKED\", \"Safeway\", \"San\", \"School\", \"Seafood\", \"Seriously\", \"Service,\", \"Shrimp\", \"Smoke's\", \"Smooth\", \"Snow\", \"Sonoran\", \"Spirit\", \"Stop\", \"Store\", \"Superman\", \"TAPAS\", \"Taco\", \"Taco\", \"Tan\", \"Tender\", \"Thai\", \"Thrifty\", \"Toast\", \"Topped\", \"Toronto,\", \"Trattoria\", \"Tried\", \"UW\", \"Uni\", \"Vegas.\", \"Vegas.\", \"Vegas.\", \"Vegas.\", \"Vegas.\", \"Vegas.\", \"Vegas.\", \"Villas\", \"Vons,\", \"WAY\", \"White\", \"White\", \"Worst\", \"Worst\", \"Zinc\", \"Zipps\", \"`\", \"accent\", \"adopt\", \"aesthetic\", \"airport\", \"airport\", \"airport\", \"amaze\", \"amaze\", \"amaze\", \"amaze\", \"amaze\", \"amaze\", \"amaze\", \"amaze\", \"amenity\", \"amenity\", \"animal\", \"animal\", \"apart\", \"apartment\", \"apartment\", \"appt\", \"are!\", \"are.\", \"aroma\", \"ask\", \"ask\", \"ask\", \"ask\", \"ask\", \"ask\", \"ask\", \"ask\", \"ask\", \"ask\", \"assholes.\", \"assortment\", \"audience\", \"authentic\", \"authentic\", \"authentic\", \"authentic\", \"authentic\", \"aware\", \"awesome.\", \"awesome.\", \"awesome.\", \"awesome.\", \"back.\", \"back.\", \"back.\", \"back.\", \"back.\", \"back.\", \"back.\", \"bad\", \"bad\", \"bad\", \"bad\", \"bad\", \"bad\", \"bad\", \"bad\", \"bad\", \"bake\", \"bake\", \"bake\", \"baklava\", \"ball\", \"ball\", \"barber\", \"beef\", \"beef\", \"beef\", \"beef\", \"beef\", \"beef\", \"big\", \"big\", \"big\", \"big\", \"big\", \"big\", \"big\", \"big\", \"bike\", \"bike\", \"bird\", \"bite\", \"bite\", \"bite\", \"bite\", \"bite\", \"bite\", \"bite\", \"bite\", \"bite\", \"bite\", \"blend\", \"bloody\", \"boba\", \"boil\", \"boil\", \"boneless\", \"bonus\", \"bookstores,\", \"box\", \"box\", \"box\", \"brat\", \"bread,\", \"bread,\", \"breakfast\", \"breakfast\", \"breakfast\", \"breakfast\", \"breakfast\", \"breakfast\", \"breakfast\", \"bring\", \"bring\", \"bring\", \"bring\", \"bring\", \"bring\", \"bring\", \"bring\", \"bring\", \"brother\", \"buffet\", \"buffet\", \"buffet\", \"buffet\", \"buffet\", \"buffet\", \"bum\", \"bunch\", \"bunch\", \"burrito\", \"burrito\", \"burrito\", \"burrito\", \"burrito\", \"buttermilk\", \"c\", \"calamari\", \"call\", \"call\", \"call\", \"call\", \"call\", \"call\", \"call\", \"cannolis\", \"car\", \"car\", \"car\", \"car\", \"car\", \"car\", \"car\", \"card\", \"card\", \"card\", \"card\", \"carry\", \"carry\", \"carry\", \"casino,\", \"cassada\", \"charge\", \"charge\", \"charge\", \"charge\", \"charge\", \"charge\", \"charge\", \"cheat\", \"check\", \"check\", \"check\", \"check\", \"check\", \"check\", \"check\", \"check\", \"check\", \"checkout\", \"cheese\", \"cheese\", \"cheese\", \"cheese\", \"cheese\", \"cheese\", \"chicken\", \"chicken\", \"chicken\", \"chicken\", \"chicken\", \"chicken\", \"chicken\", \"chicken\", \"chicken\", \"chinese\", \"chip.\", \"choice\", \"choice\", \"choice\", \"choice\", \"class\", \"class\", \"client\", \"client\", \"client\", \"close\", \"close\", \"close\", \"close\", \"close\", \"close\", \"close\", \"close\", \"co-worker...average.\", \"coaster\", \"come\", \"come\", \"come\", \"come\", \"come\", \"come\", \"come\", \"come\", \"come\", \"come\", \"comment\", \"comment\", \"comment\", \"comment\", \"comment\", \"concession\", \"consumer\", \"cook\", \"cook\", \"cook\", \"cook\", \"cook\", \"cook\", \"cook\", \"cooky\", \"couple\", \"couple\", \"couple\", \"couple\", \"couple\", \"couple\", \"couple\", \"craving,\", \"cream\", \"cream\", \"cream\", \"cream\", \"cream\", \"cream\", \"cream\", \"croissant\", \"crust\", \"crust\", \"crust\", \"cup\", \"cup\", \"current\", \"currywurst,\", \"customer\", \"customer\", \"customer\", \"customer\", \"customer\", \"customer\", \"customer\", \"dark\", \"dark\", \"dark\", \"de\", \"de\", \"decent,\", \"definitely\", \"definitely\", \"definitely\", \"definitely\", \"definitely\", \"definitely\", \"definitely\", \"definitely\", \"definitely\", \"definitely\", \"degree\", \"degree\", \"deli\", \"desk\", \"desk\", \"desk\", \"didn't\", \"didn't\", \"didn't\", \"didn't\", \"didn't\", \"didn't\", \"didn't\", \"didn't\", \"didn't\", \"didn't\", \"different\", \"different\", \"different\", \"different\", \"different\", \"different\", \"different\", \"different\", \"different\", \"different,\", \"dine\", \"dine\", \"dine\", \"dine\", \"dine\", \"dine\", \"dine\", \"disappointment.\", \"dish\", \"dish\", \"dish\", \"dish\", \"dish\", \"dish\", \"dish\", \"dish\", \"dish\", \"dispatch\", \"dog\", \"dog\", \"dog\", \"dog\", \"dog\", \"dog\", \"dog\", \"don't\", \"don't\", \"don't\", \"don't\", \"don't\", \"don't\", \"don't\", \"don't\", \"don't\", \"don't\", \"donut\", \"double\", \"doughnut\", \"downtown\", \"downtown\", \"dress\", \"dress\", \"dress\", \"drink\", \"drink\", \"drink\", \"drink\", \"drink\", \"drink\", \"drink\", \"drink\", \"drink\", \"drink\", \"drive\", \"drive\", \"drive\", \"drive\", \"drive\", \"drive\", \"drive\", \"drive\", \"drive\", \"driver\", \"driver\", \"eat\", \"eat\", \"eat\", \"eat\", \"eat\", \"eat\", \"eat\", \"eat\", \"eat\", \"eat\", \"efficient.\", \"effort\", \"eggplant\", \"eggplant,\", \"elsewhere.\", \"elsewhere.\", \"emergency\", \"emergency\", \"end\", \"end\", \"end\", \"end\", \"end\", \"end\", \"end\", \"end\", \"end\", \"end\", \"engine\", \"enjoy\", \"enjoy\", \"enjoy\", \"enjoy\", \"enjoy\", \"enjoy\", \"enjoy\", \"enjoy\", \"escape\", \"est\", \"et\", \"evening.\", \"evening.\", \"evening.\", \"ever,\", \"excellent.\", \"excellent.\", \"experience\", \"experience\", \"experience\", \"experience\", \"experience\", \"experience\", \"experience\", \"experience.\", \"experience.\", \"experience.\", \"experience.\", \"experience.\", \"face\", \"face\", \"face\", \"face\", \"fade\", \"famous\", \"famous\", \"famous\", \"fantastic!!\", \"fast!\", \"feel\", \"feel\", \"feel\", \"feel\", \"feel\", \"feel\", \"feel\", \"feel\", \"feel\", \"fiance\", \"fiance\", \"find\", \"find\", \"find\", \"find\", \"find\", \"find\", \"find\", \"find\", \"find\", \"find\", \"find!\", \"fire\", \"fire\", \"fluid\", \"food\", \"food\", \"food\", \"food\", \"food\", \"food\", \"food\", \"food\", \"food\", \"food\", \"food.\", \"food.\", \"food.\", \"food.\", \"food.\", \"food.\", \"food.\", \"for.\", \"free\", \"free\", \"free\", \"free\", \"free\", \"friend\", \"friend\", \"friend\", \"friend\", \"friend\", \"friend\", \"friend\", \"friend\", \"friends,\", \"fry\", \"fry\", \"fry\", \"fry\", \"fry\", \"fry\", \"fry\", \"fry\", \"fry\", \"funeral\", \"fuse\", \"future\", \"future\", \"generous\", \"get\", \"get\", \"get\", \"get\", \"get\", \"get\", \"get\", \"get\", \"get\", \"get\", \"give\", \"give\", \"give\", \"give\", \"give\", \"give\", \"give\", \"give\", \"gluten\", \"go!\", \"goat\", \"goat\", \"gondola\", \"good\", \"good\", \"good\", \"good\", \"good\", \"good\", \"good\", \"good\", \"good\", \"good\", \"good.\", \"good.\", \"good.\", \"good.\", \"good.\", \"good.\", \"good.\", \"good.\", \"good.\", \"good.\", \"grab\", \"grab\", \"grab\", \"grab\", \"grab\", \"great\", \"great\", \"great\", \"great\", \"great\", \"great\", \"great\", \"great\", \"great\", \"great\", \"groupon\", \"grow\", \"grow\", \"grow\", \"had;\", \"half\", \"half\", \"half\", \"half\", \"half\", \"half\", \"half\", \"handicap\", \"happen\", \"happen\", \"happy\", \"happy\", \"happy\", \"happy\", \"happy\", \"happy\", \"happy\", \"happy\", \"happy\", \"hasn't\", \"heat\", \"heat\", \"help\", \"help\", \"help\", \"help\", \"help\", \"help\", \"here,\", \"here,\", \"here,\", \"here,\", \"here,\", \"hey,\", \"highly\", \"highly\", \"highly\", \"highly\", \"highly\", \"highly\", \"highly\", \"hole\", \"hot.\", \"hot.\", \"hotel\", \"hotel\", \"hotel\", \"hotel\", \"hotel\", \"hotel\", \"hour\", \"hour\", \"hour\", \"hour\", \"hour\", \"hour\", \"hour\", \"hour\", \"housekeeping\", \"housekeeping\", \"humane\", \"injector\", \"install\", \"install\", \"install\", \"instant\", \"instructor\", \"inventory\", \"invite\", \"invite\", \"it's\", \"it's\", \"it's\", \"it's\", \"it's\", \"it's\", \"it's\", \"it's\", \"it's\", \"it's\", \"it.\", \"it.\", \"it.\", \"it.\", \"it.\", \"it.\", \"it.\", \"it.\", \"it.\", \"item\", \"item\", \"item\", \"item\", \"item\", \"item\", \"item\", \"item\", \"jasmine\", \"keychain\", \"kid\", \"kid\", \"kid\", \"kid\", \"kid\", \"kid\", \"kid\", \"kielbasa\", \"kimchi\", \"kitten\", \"know\", \"know\", \"know\", \"know\", \"know\", \"know\", \"know\", \"know\", \"know\", \"knowledgeable!\", \"large\", \"large\", \"large\", \"large\", \"large\", \"large\", \"large\", \"large\", \"late\", \"late\", \"late\", \"late\", \"late\", \"late\", \"le\", \"lemon\", \"lemon\", \"les\", \"let\", \"let\", \"let\", \"let\", \"let\", \"let\", \"let\", \"let\", \"let\", \"let\", \"life!\", \"life!\", \"life!\", \"like\", \"like\", \"like\", \"like\", \"like\", \"like\", \"like\", \"like\", \"like\", \"like\", \"line\", \"line\", \"line\", \"line\", \"line\", \"linguini\", \"listen\", \"listen\", \"little\", \"little\", \"little\", \"little\", \"little\", \"little\", \"little\", \"little\", \"little\", \"little\", \"live\", \"live\", \"live\", \"live\", \"live\", \"live\", \"live\", \"live\", \"locate\", \"locate\", \"locate\", \"locate\", \"locate\", \"location\", \"location\", \"location\", \"location\", \"location\", \"location\", \"location\", \"location\", \"long\", \"long\", \"long\", \"long\", \"long\", \"long\", \"long\", \"long\", \"look\", \"look\", \"look\", \"look\", \"look\", \"look\", \"look\", \"look\", \"look\", \"lot\", \"lot\", \"lot\", \"lot\", \"lot\", \"lot\", \"lot\", \"lot\", \"lot\", \"lot\", \"loud,\", \"love\", \"love\", \"love\", \"love\", \"love\", \"love\", \"love\", \"love\", \"love\", \"love\", \"lower.\", \"lunch\", \"lunch\", \"lunch\", \"lunch\", \"lunch\", \"lunch\", \"lunch\", \"lunch\", \"lunch\", \"mac\", \"mac\", \"mac\", \"magic\", \"manicure\", \"massage\", \"massage\", \"massage\", \"massage\", \"massage\", \"massage\", \"matcha\", \"meat.\", \"meat.\", \"meat.\", \"meatball\", \"meatball\", \"mechanic\", \"mein\", \"melon\", \"member\", \"mention\", \"mention\", \"mention\", \"mention\", \"menu\", \"menu\", \"menu\", \"menu\", \"menu\", \"menu\", \"menu\", \"menu\", \"menu\", \"menu.\", \"menu.\", \"menu.\", \"menu.\", \"milk\", \"mimosa\", \"mimosa\", \"minute\", \"minute\", \"minute\", \"minute\", \"minute\", \"minute\", \"minute\", \"money\", \"money\", \"money\", \"money\", \"money\", \"money\", \"money\", \"movie\", \"movie\", \"movie\", \"movie\", \"movie\", \"movie\", \"nb\", \"near\", \"near\", \"near\", \"near\", \"near\", \"near\", \"near\", \"need\", \"need\", \"need\", \"need\", \"need\", \"need\", \"need\", \"need\", \"need\", \"need\", \"new\", \"new\", \"new\", \"new\", \"new\", \"new\", \"new\", \"new\", \"new\", \"nice\", \"nice\", \"nice\", \"nice\", \"nice\", \"nice\", \"nice\", \"nice\", \"nice\", \"night\", \"night\", \"night\", \"night\", \"night\", \"night\", \"night\", \"night\", \"night\", \"night!\", \"night).\", \"noodle\", \"noodle\", \"numb\", \"numb\", \"numb\", \"numb\", \"numb\", \"offer\", \"offer\", \"offer\", \"offer\", \"offer\", \"offer\", \"offer\", \"offer\", \"offer\", \"offering\", \"old\", \"old\", \"old\", \"old\", \"old\", \"old\", \"old\", \"omelette\", \"one,\", \"one,\", \"online\", \"open\", \"open\", \"open\", \"open\", \"open\", \"open\", \"open\", \"open\", \"order\", \"order\", \"order\", \"order\", \"order\", \"order\", \"order\", \"order\", \"order\", \"order\", \"overcooked.\", \"paperbacks,\", \"parent\", \"parent\", \"parmesan\", \"parmesan\", \"pastrami\", \"pea\", \"people\", \"people\", \"people\", \"people\", \"people\", \"people\", \"people\", \"people\", \"people\", \"people\", \"pepper\", \"pepper\", \"pepper\", \"pepper\", \"pho\", \"pho\", \"physical\", \"pinto\", \"pizza,\", \"place\", \"place\", \"place\", \"place\", \"place\", \"place\", \"place\", \"place\", \"place\", \"place\", \"plain\", \"plain\", \"plain\", \"plan\", \"plan\", \"plan\", \"plan\", \"plan\", \"plan\", \"plate\", \"plate\", \"plate\", \"plate\", \"plate\", \"plate\", \"plate\", \"plate\", \"plate\", \"pleased.\", \"pool\", \"pool\", \"pool\", \"pork\", \"pork\", \"pork\", \"pork\", \"pork,\", \"positive\", \"powder\", \"pretty\", \"pretty\", \"pretty\", \"pretty\", \"pretty\", \"pretty\", \"pretty\", \"pretty\", \"pretty\", \"pretty\", \"price\", \"price\", \"price\", \"price\", \"price\", \"price\", \"price\", \"price\", \"probably\", \"probably\", \"probably\", \"probably\", \"probably\", \"probably\", \"probably\", \"probably\", \"problem\", \"problem\", \"problem\", \"problem\", \"problem\", \"problem\", \"problem\", \"products!!\", \"professional,\", \"program\", \"properly\", \"protein\", \"pumpkin\", \"quantity\", \"quick\", \"quick\", \"quick\", \"quick\", \"quick\", \"quick\", \"ramen\", \"rave\", \"rave\", \"read\", \"read\", \"read\", \"read\", \"read\", \"read\", \"reason\", \"reason\", \"reason\", \"reason\", \"reason\", \"reasonably\", \"recommend\", \"recommend\", \"recommend\", \"recommend\", \"recommend\", \"recommend\", \"recommend\", \"recommend\", \"recommend\", \"recommend\", \"relocate\", \"rescue\", \"resort.\", \"resort.\", \"respond\", \"respond\", \"response\", \"restaurant\", \"restaurant\", \"restaurant\", \"restaurant\", \"restaurant\", \"restaurant\", \"restaurant\", \"restaurant\", \"restaurant\", \"restaurant\", \"restaurant,\", \"restaurant,\", \"restaurant,\", \"restaurant/bar\", \"result\", \"result\", \"review\", \"review\", \"review\", \"review\", \"review\", \"review\", \"review\", \"review\", \"review\", \"review.\", \"review.\", \"review.\", \"rifle\", \"right\", \"right\", \"right\", \"right\", \"right\", \"right\", \"right\", \"right\", \"roll\", \"roll\", \"roll\", \"roll\", \"room\", \"room\", \"room\", \"room\", \"room\", \"room\", \"room\", \"room\", \"room\", \"rotation\", \"rude\", \"rude\", \"rude\", \"rude\", \"rude\", \"salad\", \"salad\", \"salad\", \"salad\", \"salad\", \"salad\", \"salad\", \"salad\", \"sandwich\", \"sandwich\", \"sandwich\", \"sandwich\", \"sandwich\", \"sandwich\", \"say\", \"say\", \"say\", \"say\", \"say\", \"say\", \"say\", \"say\", \"say\", \"saying.\", \"scoop\", \"scramble\", \"scramble\", \"seabass\", \"seafood\", \"seafood\", \"seafood\", \"section\", \"sell\", \"sell\", \"sell\", \"sell\", \"sell\", \"sell\", \"sell\", \"serve\", \"serve\", \"serve\", \"serve\", \"serve\", \"serve\", \"serve\", \"serve\", \"serve\", \"server\", \"server\", \"server\", \"server\", \"server\", \"server\", \"server\", \"server\", \"server\", \"service\", \"service\", \"service\", \"service\", \"service\", \"service\", \"service\", \"service\", \"service\", \"service\", \"seven\", \"seven\", \"share\", \"share\", \"share\", \"share\", \"share\", \"share\", \"shoot.\", \"shower\", \"shower\", \"shower\", \"shrimp,\", \"shuttle\", \"simply\", \"simply\", \"sit\", \"sit\", \"sit\", \"sit\", \"sit\", \"sit\", \"sit\", \"sit\", \"sit\", \"slaw\", \"slot\", \"small,\", \"small,\", \"small,\", \"smoke\", \"smoke\", \"smoke\", \"smoke\", \"smoke\", \"society\", \"soggy\", \"soggy\", \"spa's\", \"space\", \"space\", \"space\", \"space\", \"space\", \"space\", \"space.\", \"special\", \"special\", \"special\", \"special\", \"special\", \"special\", \"special\", \"specialty\", \"speed\", \"speed\", \"spicy\", \"spicy\", \"spicy\", \"staff\", \"staff\", \"staff\", \"staff\", \"staff\", \"staff\", \"staff\", \"staff\", \"staff,\", \"star\", \"star\", \"star\", \"star\", \"star\", \"star\", \"stay\", \"stay\", \"stay\", \"stay\", \"stay\", \"stay\", \"stay\", \"stay\", \"stay\", \"steak\", \"steak\", \"steak\", \"steak\", \"steak\", \"steak\", \"steak\", \"steak\", \"sticky\", \"sticky\", \"store,\", \"store,\", \"strongly\", \"successful\", \"suffer\", \"sugar\", \"sugar\", \"sugar\", \"sugar\", \"sugar\", \"surround\", \"surround\", \"sushi\", \"sushi\", \"sushi\", \"sushi\", \"sushi\", \"sushi,\", \"swim\", \"swim\", \"table\", \"table\", \"table\", \"table\", \"table\", \"table\", \"table\", \"table\", \"table\", \"table?\", \"take\", \"take\", \"take\", \"take\", \"take\", \"take\", \"take\", \"take\", \"take\", \"taro\", \"taro\", \"tasty,\", \"tasty...finger\", \"tell\", \"tell\", \"tell\", \"tell\", \"tell\", \"tell\", \"tell\", \"tell\", \"theater\", \"theater\", \"them.\", \"them.\", \"them.\", \"them.\", \"them.\", \"them...indeed\", \"thing\", \"thing\", \"thing\", \"thing\", \"thing\", \"thing\", \"thing\", \"thing\", \"thing\", \"thing\", \"think\", \"think\", \"think\", \"think\", \"think\", \"think\", \"think\", \"think\", \"think\", \"ticket\", \"till\", \"till\", \"till\", \"time\", \"time\", \"time\", \"time\", \"time\", \"time\", \"time\", \"time\", \"time\", \"time\", \"tip!\\\"\", \"tire\", \"tire\", \"tissue\", \"to-go\", \"too,\", \"too,\", \"too,\", \"too,\", \"too,\", \"tostada\", \"tostada\", \"tout\", \"tower\", \"tower\", \"treatment\", \"truck\", \"truck\", \"truck\", \"try\", \"try\", \"try\", \"try\", \"try\", \"try\", \"try\", \"try\", \"try\", \"try\", \"tr\\u00e8s\", \"unbelievable\", \"understand.\", \"unfortunately\", \"unfortunately\", \"unfortunately\", \"unreal;\", \"vacciness\", \"value\", \"value\", \"vanilla\", \"vanilla\", \"very.\", \"visit\", \"visit\", \"visit\", \"visit\", \"visit\", \"visit\", \"visit\", \"visit\", \"visit\", \"voice\", \"waffle\", \"waffle\", \"waffle\", \"waffle\", \"wait\", \"wait\", \"wait\", \"wait\", \"wait\", \"wait\", \"wait\", \"wait\", \"wait\", \"wait\", \"waitress\", \"waitress\", \"waitress\", \"waitress\", \"waitress\", \"waitress\", \"waitress\", \"waitress\", \"want\", \"want\", \"want\", \"want\", \"want\", \"want\", \"want\", \"want\", \"want\", \"want\", \"wasn't\", \"wasn't\", \"wasn't\", \"wasn't\", \"wasn't\", \"wasn't\", \"wasn't\", \"wasn't\", \"watch\", \"watch\", \"watch\", \"watch\", \"water\", \"water\", \"water\", \"water\", \"water\", \"water,\", \"way\", \"way\", \"way\", \"way\", \"way\", \"way\", \"way\", \"way\", \"way\", \"way.\", \"way.\", \"way.\", \"way.\", \"website\", \"website\", \"well\", \"well\", \"well\", \"well\", \"well\", \"well\", \"well\", \"well\", \"well\", \"well\", \"whip\", \"whip\", \"whip\", \"white\", \"white\", \"white\", \"wide\", \"wife's\", \"wife's\", \"wife's\", \"wife's\", \"wind\", \"work\", \"work\", \"work\", \"work\", \"work\", \"work\", \"work\", \"work\", \"work\", \"work/\", \"write\", \"write\", \"write\", \"write\", \"write\", \"yard\", \"yard\", \"you're\", \"you're\", \"you're\", \"you're\", \"you're\", \"you're\", \"yummiest\", \"~\", \"~\", \"\\u00e9t\\u00e9\"]}, \"R\": 30, \"lambda.step\": 0.01, \"plot.opts\": {\"xlab\": \"PC1\", \"ylab\": \"PC2\"}, \"topic.order\": [5, 9, 3, 7, 6, 10, 2, 1, 4, 8]};\n",
              "\n",
              "function LDAvis_load_lib(url, callback){\n",
              "  var s = document.createElement('script');\n",
              "  s.src = url;\n",
              "  s.async = true;\n",
              "  s.onreadystatechange = s.onload = callback;\n",
              "  s.onerror = function(){console.warn(\"failed to load library \" + url);};\n",
              "  document.getElementsByTagName(\"head\")[0].appendChild(s);\n",
              "}\n",
              "\n",
              "if(typeof(LDAvis) !== \"undefined\"){\n",
              "   // already loaded: just create the visualization\n",
              "   !function(LDAvis){\n",
              "       new LDAvis(\"#\" + \"ldavis_el1311405838080890883774206832\", ldavis_el1311405838080890883774206832_data);\n",
              "   }(LDAvis);\n",
              "}else if(typeof define === \"function\" && define.amd){\n",
              "   // require.js is available: use it to load d3/LDAvis\n",
              "   require.config({paths: {d3: \"https://cdnjs.cloudflare.com/ajax/libs/d3/3.5.5/d3.min\"}});\n",
              "   require([\"d3\"], function(d3){\n",
              "      window.d3 = d3;\n",
              "      LDAvis_load_lib(\"https://cdn.rawgit.com/bmabey/pyLDAvis/files/ldavis.v1.0.0.js\", function(){\n",
              "        new LDAvis(\"#\" + \"ldavis_el1311405838080890883774206832\", ldavis_el1311405838080890883774206832_data);\n",
              "      });\n",
              "    });\n",
              "}else{\n",
              "    // require.js not available: dynamically load d3 & LDAvis\n",
              "    LDAvis_load_lib(\"https://cdnjs.cloudflare.com/ajax/libs/d3/3.5.5/d3.min.js\", function(){\n",
              "         LDAvis_load_lib(\"https://cdn.rawgit.com/bmabey/pyLDAvis/files/ldavis.v1.0.0.js\", function(){\n",
              "                 new LDAvis(\"#\" + \"ldavis_el1311405838080890883774206832\", ldavis_el1311405838080890883774206832_data);\n",
              "            })\n",
              "         });\n",
              "}\n",
              "</script>"
            ],
            "text/plain": [
              "PreparedData(topic_coordinates=              x         y  topics  cluster       Freq\n",
              "topic                                                \n",
              "4     -0.077596  0.041068       1        1  17.317703\n",
              "8     -0.079817  0.017642       2        1  17.072355\n",
              "2     -0.035430 -0.127111       3        1  13.114478\n",
              "6     -0.053037  0.023646       4        1  11.552596\n",
              "5     -0.034962 -0.042436       5        1  11.421035\n",
              "9     -0.007006  0.067553       6        1   7.714972\n",
              "1      0.138549 -0.020411       7        1   6.090494\n",
              "0      0.064452  0.013689       8        1   5.830209\n",
              "3      0.056388  0.054796       9        1   5.179441\n",
              "7      0.028458 -0.028436      10        1   4.706712, topic_info=     Category        Freq      Term       Total  loglift  logprob\n",
              "24    Default  124.000000      like  124.000000  30.0000  30.0000\n",
              "981   Default   23.000000   Chinese   23.000000  29.0000  29.0000\n",
              "437   Default  119.000000     order  119.000000  28.0000  28.0000\n",
              "119   Default   43.000000      room   43.000000  27.0000  27.0000\n",
              "1146  Default   31.000000    you're   31.000000  26.0000  26.0000\n",
              "1572  Default   34.000000   chicken   34.000000  25.0000  25.0000\n",
              "150   Default   81.000000      well   81.000000  24.0000  24.0000\n",
              "42    Default   67.000000      wait   67.000000  23.0000  23.0000\n",
              "782   Default   59.000000    didn't   59.000000  22.0000  22.0000\n",
              "1189  Default   23.000000  sandwich   23.000000  21.0000  21.0000\n",
              "374   Default   24.000000  waitress   24.000000  20.0000  20.0000\n",
              "957   Default   64.000000      it's   64.000000  19.0000  19.0000\n",
              "879   Default   75.000000      love   75.000000  18.0000  18.0000\n",
              "17    Default   27.000000      call   27.000000  17.0000  17.0000\n",
              "545   Default   36.000000      hour   36.000000  16.0000  16.0000\n",
              "205   Default   26.000000     food.   26.000000  15.0000  15.0000\n",
              "400   Default  138.000000      come  138.000000  14.0000  14.0000\n",
              "598   Default   43.000000      tell   43.000000  13.0000  13.0000\n",
              "518   Default   35.000000  customer   35.000000  12.0000  12.0000\n",
              "170   Default   29.000000       fry   29.000000  11.0000  11.0000\n",
              "41    Default  101.000000       try  101.000000  10.0000  10.0000\n",
              "1248  Default   52.000000      It's   52.000000   9.0000   9.0000\n",
              "499   Default   57.000000       ask   57.000000   8.0000   8.0000\n",
              "455   Default   49.000000     staff   49.000000   7.0000   7.0000\n",
              "111   Default   22.000000       old   22.000000   6.0000   6.0000\n",
              "375   Default   57.000000      work   57.000000   5.0000   5.0000\n",
              "2249  Default   11.000000    French   11.000000   4.0000   4.0000\n",
              "31    Default   27.000000    minute   27.000000   3.0000   3.0000\n",
              "1003  Default   24.000000       car   24.000000   2.0000   2.0000\n",
              "102   Default   38.000000      long   38.000000   1.0000   1.0000\n",
              "...       ...         ...       ...         ...      ...      ...\n",
              "4098  Topic10    1.828668     here,    7.013430   1.7119  -6.5780\n",
              "389   Topic10    3.009749       big   19.486534   1.1883  -6.0797\n",
              "157   Topic10    3.507756       bad   28.571640   0.9587  -5.9266\n",
              "111   Topic10    3.012735       old   22.026951   1.0668  -6.0787\n",
              "92    Topic10    5.846743       get  117.038582   0.0596  -5.4157\n",
              "116   Topic10    2.413396    reason   13.657726   1.3229  -6.3005\n",
              "690   Topic10    2.417431      line   14.152141   1.2890  -6.2989\n",
              "205   Topic10    3.015110     food.   26.182337   0.8947  -6.0779\n",
              "1093  Topic10    2.951630      item   25.040348   0.9180  -6.0992\n",
              "957   Topic10    4.189929      it's   64.257294   0.3260  -5.7489\n",
              "145   Topic10    5.953869     place  176.470200  -0.3329  -5.3975\n",
              "160   Topic10    3.510341      bite   43.844086   0.5313  -5.9258\n",
              "143   Topic10    3.400237    people   41.682674   0.5499  -5.9577\n",
              "241   Topic10    4.669335     great  122.101616  -0.2077  -5.6405\n",
              "42    Topic10    3.803755      wait   67.717796   0.1768  -5.8456\n",
              "420   Topic10    3.595187      find   57.228432   0.2887  -5.9020\n",
              "41    Topic10    4.233367       try  101.053413  -0.1165  -5.7386\n",
              "1773  Topic10    3.007262       way   33.389503   0.6490  -6.0805\n",
              "2166  Topic10    2.417950  probably   17.407293   1.0822  -6.2986\n",
              "64    Topic10    3.599891      I've   66.820747   0.1351  -5.9007\n",
              "782   Topic10    3.406003    didn't   59.491398   0.1959  -5.9560\n",
              "518   Topic10    2.943891  customer   35.914322   0.5548  -6.1018\n",
              "119   Topic10    3.017728      room   43.625599   0.3850  -6.0771\n",
              "110   Topic10    2.750991     night   30.629562   0.6462  -6.1696\n",
              "27    Topic10    3.011833      look   64.860184  -0.0135  -6.0790\n",
              "879   Topic10    3.009355      love   75.171066  -0.1619  -6.0798\n",
              "400   Topic10    3.232468      come  138.752731  -0.7033  -6.0083\n",
              "345   Topic10    2.974050      want   82.159142  -0.2626  -6.0916\n",
              "206   Topic10    3.019042      good  130.711288  -0.7119  -6.0766\n",
              "122   Topic10    2.424406      stay   27.898125   0.6132  -6.2960\n",
              "\n",
              "[804 rows x 6 columns], token_table=      Topic      Freq         Term\n",
              "term                              \n",
              "9242      2  0.840882         \"$10\n",
              "4567      6  0.469944  \"Meadowvale\n",
              "8660      7  0.492541       \"Mom's\n",
              "6038     10  0.762588       \"game\"\n",
              "2760      5  0.880779    \"manager\"\n",
              "2667      2  0.709907          $30\n",
              "2667      4  0.177477          $30\n",
              "3943      4  0.884288        $300.\n",
              "7158     10  0.762588        $4-$5\n",
              "7159     10  0.762588     $4-$7.50\n",
              "4571      6  0.469940     'gourmet\n",
              "1531      1  0.617166       (which\n",
              "1531      3  0.154292       (which\n",
              "1531      4  0.154292       (which\n",
              "5771      3  0.643477         -The\n",
              "2241      9  0.513522        0.5/5\n",
              "475       1  0.277224            2\n",
              "475       2  0.221779            2\n",
              "475       3  0.110890            2\n",
              "475       4  0.110890            2\n",
              "475       5  0.083167            2\n",
              "475       6  0.083167            2\n",
              "475       7  0.027722            2\n",
              "475       9  0.027722            2\n",
              "475      10  0.027722            2\n",
              "977       1  0.164755            3\n",
              "977       2  0.205944            3\n",
              "977       3  0.164755            3\n",
              "977       4  0.123566            3\n",
              "977       5  0.082378            3\n",
              "...     ...       ...          ...\n",
              "2189      7  0.408345       wife's\n",
              "2189      8  0.204172       wife's\n",
              "9108      6  0.469674         wind\n",
              "375       1  0.051946         work\n",
              "375       2  0.380935         work\n",
              "375       3  0.103891         work\n",
              "375       4  0.138522         work\n",
              "375       5  0.103891         work\n",
              "375       7  0.034630         work\n",
              "375       8  0.086576         work\n",
              "375       9  0.051946         work\n",
              "375      10  0.034630         work\n",
              "7775     10  0.762588        work/\n",
              "902       1  0.242304        write\n",
              "902       4  0.484607        write\n",
              "902       6  0.121152        write\n",
              "902       7  0.121152        write\n",
              "902       8  0.121152        write\n",
              "2911      1  0.611492         yard\n",
              "2911      2  0.203831         yard\n",
              "1146      1  0.063141       you're\n",
              "1146      2  0.284136       you're\n",
              "1146      3  0.189424       you're\n",
              "1146      4  0.220995       you're\n",
              "1146      6  0.063141       you're\n",
              "1146     10  0.157853       you're\n",
              "3866      4  0.884226     yummiest\n",
              "1103      2  0.163086            ~\n",
              "1103      7  0.815432            ~\n",
              "5748      9  0.513499          été\n",
              "\n",
              "[1847 rows x 3 columns], R=30, lambda_step=0.01, plot_opts={'xlab': 'PC1', 'ylab': 'PC2'}, topic_order=[5, 9, 3, 7, 6, 10, 2, 1, 4, 8])"
            ]
          },
          "metadata": {
            "tags": []
          },
          "execution_count": 150
        }
      ]
    },
    {
      "cell_type": "code",
      "metadata": {
        "id": "dm2qw6aRAK8a",
        "colab_type": "code",
        "colab": {
          "base_uri": "https://localhost:8080/",
          "height": 339
        },
        "outputId": "5646e01d-c205-41ef-ba68-6a685f4255df"
      },
      "source": [
        "#plotting 20 most common tokens\n",
        "from sklearn.feature_extraction.text import CountVectorizer\n",
        "vectorizer = CountVectorizer(tokenizer=lambda doc: doc, lowercase=False, stop_words='english')\n",
        "dtm = vectorizer.fit_transform(yelp['tokens'])\n",
        "dtm = pd.DataFrame(dtm.todense(), columns = vectorizer.get_feature_names())\n",
        "import matplotlib.pyplot as plt\n",
        "common20 = dtm.sum().sort_values(ascending=False)[:20]\n",
        "plt.barh(common20.index,list(common20))"
      ],
      "execution_count": 114,
      "outputs": [
        {
          "output_type": "stream",
          "text": [
            "/usr/local/lib/python3.6/dist-packages/sklearn/feature_extraction/text.py:300: UserWarning: Your stop_words may be inconsistent with your preprocessing. Tokenizing the stop words generated tokens ['b', 'c', 'd', 'e', 'f', 'g', 'h', 'k', 'l', 'm', 'n', 'o', 'p', 'r', 's', 't', 'u', 'v', 'w', 'x', 'y'] not in stop_words.\n",
            "  'stop_words.' % sorted(inconsistent))\n"
          ],
          "name": "stderr"
        },
        {
          "output_type": "execute_result",
          "data": {
            "text/plain": [
              "<BarContainer object of 20 artists>"
            ]
          },
          "metadata": {
            "tags": []
          },
          "execution_count": 114
        },
        {
          "output_type": "display_data",
          "data": {
            "image/png": "[encoded data removed]",
            "text/plain": [
              "<Figure size 432x288 with 1 Axes>"
            ]
          },
          "metadata": {
            "tags": []
          }
        }
      ]
    },
    {
      "cell_type": "code",
      "metadata": {
        "id": "jfJTLiZdCO4Z",
        "colab_type": "code",
        "colab": {
          "base_uri": "https://localhost:8080/",
          "height": 286
        },
        "outputId": "3914eb5b-d63d-475a-c668-31b5105a709c"
      },
      "source": [
        "#now looking at 20-40 seeing if you can get more insight than the more basic words\n",
        "#but it doesn't really help that much\n",
        "common2040 = dtm.sum().sort_values(ascending=False)[20:40]\n",
        "plt.barh(common2040.index,list(common2040))"
      ],
      "execution_count": 115,
      "outputs": [
        {
          "output_type": "execute_result",
          "data": {
            "text/plain": [
              "<BarContainer object of 20 artists>"
            ]
          },
          "metadata": {
            "tags": []
          },
          "execution_count": 115
        },
        {
          "output_type": "display_data",
          "data": {
            "image/png": "[encoded data removed]",
            "text/plain": [
              "<Figure size 432x288 with 1 Axes>"
            ]
          },
          "metadata": {
            "tags": []
          }
        }
      ]
    },
    {
      "cell_type": "markdown",
      "metadata": {
        "id": "k0LKDAOz_In8",
        "colab_type": "text"
      },
      "source": [
        "It's clear here the topics are different combinations of adjectives and attributes a restaurant may have.  For example service, food, place, time, tables are the attributes and good, great, like.  If i had more time I would go back and take out some of the more common words from the topics (using the top and bottom filter described in the lectures).  \n",
        "\n",
        "Also I think because I used a low number of vectors, there don't seem to be any negative words which would be good features for low star reviews.  Positive or mildly positive statements much be much more common than negative statements, also negative words may be more diverse (i.e. positive is good or great, but negative is terrible, bad, sucked etc etc)\n",
        "\n",
        "one more thing.  I've had some really long run times on this sprint challenge.  not sure if it's because I'm using colab, but I doubt it would be signifigantly slower than my laptop\n"
      ]
    },
    {
      "cell_type": "markdown",
      "metadata": {
        "id": "-jHx5DPLtn3w",
        "colab_type": "text"
      },
      "source": [
        "## Stretch Goals\n",
        "\n",
        "Complete one of more of these to push your score towards a three: \n",
        "* Incorporate named entity recognition into your analysis\n",
        "* Compare vectorization methods in the classification section\n",
        "* Analyze more (or all) of the yelp dataset - this one is v. hard. \n",
        "* Use a generator object on the reviews file - this would help you with the analyzing the whole dataset.\n",
        "* Incorporate any of the other yelp dataset entities in your analysis (business, users, etc.)"
      ]
    },
    {
      "cell_type": "code",
      "metadata": {
        "id": "8wp0ZeUDBaA5",
        "colab_type": "code",
        "colab": {}
      },
      "source": [
        "#trying some named entity recognition\n",
        "#goign to make a new column called ord.  if review doesn't contain an org i will set it to 0\n",
        "#otherwise i will put name of ORG\n",
        "orgs=[]\n",
        "for t in yelp['tokens']:\n",
        "  doc = nlp(' '.join(t))\n",
        "  classer=[]\n",
        "  for ent in doc.ents:\n",
        "    if ent.label_==\"ORG\":\n",
        "      classer.append(ent.text)\n",
        "    else:\n",
        "      pass\n",
        "   \n",
        "  if classer == []:\n",
        "    orgs.append(0)\n",
        "  else:\n",
        "    orgs.append(classer)\n",
        "    \n",
        "    "
      ],
      "execution_count": 0,
      "outputs": []
    },
    {
      "cell_type": "code",
      "metadata": {
        "id": "O9jOt-JsCmhw",
        "colab_type": "code",
        "colab": {}
      },
      "source": [
        "orgs_first = []\n",
        "for x in orgs:\n",
        "  if x==0:\n",
        "    orgs_first.append(0)\n",
        "  else:\n",
        "    orgs_first.append(x[0])\n",
        "yelp['orgs'] = orgs_first"
      ],
      "execution_count": 0,
      "outputs": []
    },
    {
      "cell_type": "code",
      "metadata": {
        "id": "tYmr09YfE6dL",
        "colab_type": "code",
        "colab": {
          "base_uri": "https://localhost:8080/",
          "height": 202
        },
        "outputId": "6169a147-9c02-4e85-a426-08bfe3681e26"
      },
      "source": [
        "#here we can see a helpful  classification into some restaurant styles and brands.  however, only 40% of reviews were populated\n",
        "#and each subdivision is too small to be helpful\n",
        "yelp['orgs'].value_counts()[0:10]"
      ],
      "execution_count": 138,
      "outputs": [
        {
          "output_type": "execute_result",
          "data": {
            "text/plain": [
              "0            6724\n",
              "BBQ            57\n",
              "Starbucks      47\n",
              "AYCE           32\n",
              "AC             21\n",
              "WOW            19\n",
              "Mesa           16\n",
              "Sushi          15\n",
              "AZ             14\n",
              "OMG            12\n",
              "Name: orgs, dtype: int64"
            ]
          },
          "metadata": {
            "tags": []
          },
          "execution_count": 138
        }
      ]
    },
    {
      "cell_type": "code",
      "metadata": {
        "id": "gkFQreGGFgCl",
        "colab_type": "code",
        "colab": {
          "base_uri": "https://localhost:8080/",
          "height": 168
        },
        "outputId": "457e1864-ded0-4fb8-ba44-b370e90f19b6"
      },
      "source": [
        "\n",
        "#seeing what other labels i could use\n",
        "doc =nlp(' '.join(yelp['tokens'][555]))\n",
        "for ent in doc.ents:\n",
        "    print(ent.text, ent.start_char, ent.end_char, ent.label_)"
      ],
      "execution_count": 140,
      "outputs": [
        {
          "output_type": "stream",
          "text": [
            "Chingu Korean BBQ's 0 19 PERSON\n",
            "Lunch Specials 20 34 ORG\n",
            "5.99 36 40 MONEY\n",
            "7 42 43 CARDINAL\n",
            "2 dollar 64 72 MONEY\n",
            "20 minute 156 165 TIME\n",
            "Korean 244 250 NORP\n",
            "Kimchi/Pork Bone/Tofu 387 408 ORG\n",
            "5.99 415 419 MONEY\n"
          ],
          "name": "stdout"
        }
      ]
    },
    {
      "cell_type": "code",
      "metadata": {
        "id": "oIf0PTG7Go1f",
        "colab_type": "code",
        "colab": {}
      },
      "source": [
        "#let's try money and time\n",
        "money=[]\n",
        "for t in yelp['tokens']:\n",
        "  doc = nlp(' '.join(t))\n",
        "  classer=[]\n",
        "  for ent in doc.ents:\n",
        "    if ent.label_==\"MONEY\":\n",
        "      classer.append(ent.text)\n",
        "    else:\n",
        "      pass\n",
        "   \n",
        "  if classer == []:\n",
        "    money.append([0])\n",
        "  else:\n",
        "    money.append(classer)\n"
      ],
      "execution_count": 0,
      "outputs": []
    },
    {
      "cell_type": "code",
      "metadata": {
        "id": "nM9VnLVgH3-p",
        "colab_type": "code",
        "colab": {
          "base_uri": "https://localhost:8080/",
          "height": 202
        },
        "outputId": "b34f22c0-62be-4fa8-cbbb-c04c7ce68464"
      },
      "source": [
        "#no use either\n",
        "yelp['money'] = [x[0] for x in money]\n",
        "yelp['money'].value_counts()[:10]"
      ],
      "execution_count": 143,
      "outputs": [
        {
          "output_type": "execute_result",
          "data": {
            "text/plain": [
              "0      8629\n",
              "10       67\n",
              "5        55\n",
              "20       39\n",
              "50       37\n",
              "1        34\n",
              "12       32\n",
              "25       30\n",
              "100      29\n",
              "30       27\n",
              "Name: money, dtype: int64"
            ]
          },
          "metadata": {
            "tags": []
          },
          "execution_count": 143
        }
      ]
    },
    {
      "cell_type": "code",
      "metadata": {
        "id": "K98Le-y2HB58",
        "colab_type": "code",
        "colab": {}
      },
      "source": [
        "time=[]\n",
        "for t in yelp['tokens']:\n",
        "  doc = nlp(' '.join(t))\n",
        "  classer=[]\n",
        "  for ent in doc.ents:\n",
        "    if ent.label_==\"TIME\":\n",
        "      classer.append(ent.text)\n",
        "    else:\n",
        "      pass\n",
        "   \n",
        "  if classer == []:\n",
        "    time.append([0])\n",
        "  else:\n",
        "    time.append(classer)"
      ],
      "execution_count": 0,
      "outputs": []
    },
    {
      "cell_type": "code",
      "metadata": {
        "id": "16_FCDo1KGkS",
        "colab_type": "code",
        "colab": {
          "base_uri": "https://localhost:8080/",
          "height": 202
        },
        "outputId": "210559fc-bcc5-4b02-9259-8c36bd1c3219"
      },
      "source": [
        "#no use either\n",
        "yelp['time'] = [x[0] for x in time]\n",
        "yelp['time'].value_counts()[:10]"
      ],
      "execution_count": 148,
      "outputs": [
        {
          "output_type": "execute_result",
          "data": {
            "text/plain": [
              "0            8059\n",
              "night         194\n",
              "hour          101\n",
              "morning        76\n",
              "afternoon      73\n",
              "tonight        62\n",
              "20 minute      50\n",
              "15 minute      47\n",
              "30 minute      41\n",
              "10 minute      40\n",
              "Name: time, dtype: int64"
            ]
          },
          "metadata": {
            "tags": []
          },
          "execution_count": 148
        }
      ]
    },
    {
      "cell_type": "code",
      "metadata": {
        "id": "BmyRgZk5KMvh",
        "colab_type": "code",
        "colab": {}
      },
      "source": [
        ""
      ],
      "execution_count": 0,
      "outputs": []
    }
  ]
}