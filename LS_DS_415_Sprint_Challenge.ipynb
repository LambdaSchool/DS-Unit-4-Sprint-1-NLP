{
 "cells": [
  {
   "cell_type": "markdown",
   "metadata": {},
   "source": [
    "<img align=\"left\" src=\"https://lever-client-logos.s3.amazonaws.com/864372b1-534c-480e-acd5-9711f850815c-1524247202159.png\" width=200>\n",
    "<br></br>\n",
    "<br></br>\n",
    "\n",
    "# Sprint Challenge\n",
    "## *Data Science Unit 4 Sprint 1*\n",
    "\n",
    "After a week of Natural Language Processing, you've learned some cool new stuff: how to process text, how turn text into vectors, and how to model topics from documents. Apply your newly acquired skills to one of the most famous NLP datasets out there: [Yelp](https://www.yelp.com/dataset/challenge). As part of the job selection process, some of my friends have been asked to create analysis of this dataset, so I want to empower you to have a head start.  \n",
    "\n",
    "The real dataset is massive (almost 8 gigs uncompressed). I've sampled the data for you to something more managable for the Sprint Challenge. You can analyze the full dataset as a stretch goal or after the sprint challenge. As you work on the challenge, I suggest adding notes about your findings and things you want to analyze in the future.\n",
    "\n",
    "## Challenge Objectives\n",
    "*Successfully complete these all these objectives to earn a 2. There are more details on each objective further down in the notebook.*\n",
    "* <a href=\"#p1\">Part 1</a>: Write a function to tokenize the yelp reviews\n",
    "* <a href=\"#p2\">Part 2</a>: Create a vector representation of those tokens\n",
    "* <a href=\"#p3\">Part 3</a>: Use your tokens in a classification model on yelp rating\n",
    "* <a href=\"#p4\">Part 4</a>: Estimate & Interpret a topic model of the Yelp reviews"
   ]
  },
  {
   "cell_type": "code",
   "execution_count": 3,
   "metadata": {},
   "outputs": [],
   "source": [
    "import pandas as pd\n",
    "\n",
    "yelp = pd.read_json('./sprint_data/review_sample.json', lines=True)"
   ]
  },
  {
   "cell_type": "code",
   "execution_count": 4,
   "metadata": {},
   "outputs": [
    {
     "data": {
      "text/html": [
       "<div>\n",
       "<style scoped>\n",
       "    .dataframe tbody tr th:only-of-type {\n",
       "        vertical-align: middle;\n",
       "    }\n",
       "\n",
       "    .dataframe tbody tr th {\n",
       "        vertical-align: top;\n",
       "    }\n",
       "\n",
       "    .dataframe thead th {\n",
       "        text-align: right;\n",
       "    }\n",
       "</style>\n",
       "<table border=\"1\" class=\"dataframe\">\n",
       "  <thead>\n",
       "    <tr style=\"text-align: right;\">\n",
       "      <th></th>\n",
       "      <th>business_id</th>\n",
       "      <th>cool</th>\n",
       "      <th>date</th>\n",
       "      <th>funny</th>\n",
       "      <th>review_id</th>\n",
       "      <th>stars</th>\n",
       "      <th>text</th>\n",
       "      <th>useful</th>\n",
       "      <th>user_id</th>\n",
       "    </tr>\n",
       "  </thead>\n",
       "  <tbody>\n",
       "    <tr>\n",
       "      <th>0</th>\n",
       "      <td>nDuEqIyRc8YKS1q1fX0CZg</td>\n",
       "      <td>1</td>\n",
       "      <td>2015-03-31 16:50:30</td>\n",
       "      <td>0</td>\n",
       "      <td>eZs2tpEJtXPwawvHnHZIgQ</td>\n",
       "      <td>1</td>\n",
       "      <td>BEWARE!!! FAKE, FAKE, FAKE....We also own a sm...</td>\n",
       "      <td>10</td>\n",
       "      <td>n1LM36qNg4rqGXIcvVXv8w</td>\n",
       "    </tr>\n",
       "    <tr>\n",
       "      <th>1</th>\n",
       "      <td>eMYeEapscbKNqUDCx705hg</td>\n",
       "      <td>0</td>\n",
       "      <td>2015-12-16 05:31:03</td>\n",
       "      <td>0</td>\n",
       "      <td>DoQDWJsNbU0KL1O29l_Xug</td>\n",
       "      <td>4</td>\n",
       "      <td>Came here for lunch Togo. Service was quick. S...</td>\n",
       "      <td>0</td>\n",
       "      <td>5CgjjDAic2-FAvCtiHpytA</td>\n",
       "    </tr>\n",
       "    <tr>\n",
       "      <th>2</th>\n",
       "      <td>6Q7-wkCPc1KF75jZLOTcMw</td>\n",
       "      <td>1</td>\n",
       "      <td>2010-06-20 19:14:48</td>\n",
       "      <td>1</td>\n",
       "      <td>DDOdGU7zh56yQHmUnL1idQ</td>\n",
       "      <td>3</td>\n",
       "      <td>I've been to Vegas dozens of times and had nev...</td>\n",
       "      <td>2</td>\n",
       "      <td>BdV-cf3LScmb8kZ7iiBcMA</td>\n",
       "    </tr>\n",
       "    <tr>\n",
       "      <th>3</th>\n",
       "      <td>k3zrItO4l9hwfLRwHBDc9w</td>\n",
       "      <td>3</td>\n",
       "      <td>2010-07-13 00:33:45</td>\n",
       "      <td>4</td>\n",
       "      <td>LfTMUWnfGFMOfOIyJcwLVA</td>\n",
       "      <td>1</td>\n",
       "      <td>We went here on a night where they closed off ...</td>\n",
       "      <td>5</td>\n",
       "      <td>cZZnBqh4gAEy4CdNvJailQ</td>\n",
       "    </tr>\n",
       "    <tr>\n",
       "      <th>4</th>\n",
       "      <td>6hpfRwGlOzbNv7k5eP9rsQ</td>\n",
       "      <td>1</td>\n",
       "      <td>2018-06-30 02:30:01</td>\n",
       "      <td>0</td>\n",
       "      <td>zJSUdI7bJ8PNJAg4lnl_Gg</td>\n",
       "      <td>4</td>\n",
       "      <td>3.5 to 4 stars\\n\\nNot bad for the price, $12.9...</td>\n",
       "      <td>5</td>\n",
       "      <td>n9QO4ClYAS7h9fpQwa5bhA</td>\n",
       "    </tr>\n",
       "  </tbody>\n",
       "</table>\n",
       "</div>"
      ],
      "text/plain": [
       "              business_id  cool                date  funny  \\\n",
       "0  nDuEqIyRc8YKS1q1fX0CZg     1 2015-03-31 16:50:30      0   \n",
       "1  eMYeEapscbKNqUDCx705hg     0 2015-12-16 05:31:03      0   \n",
       "2  6Q7-wkCPc1KF75jZLOTcMw     1 2010-06-20 19:14:48      1   \n",
       "3  k3zrItO4l9hwfLRwHBDc9w     3 2010-07-13 00:33:45      4   \n",
       "4  6hpfRwGlOzbNv7k5eP9rsQ     1 2018-06-30 02:30:01      0   \n",
       "\n",
       "                review_id  stars  \\\n",
       "0  eZs2tpEJtXPwawvHnHZIgQ      1   \n",
       "1  DoQDWJsNbU0KL1O29l_Xug      4   \n",
       "2  DDOdGU7zh56yQHmUnL1idQ      3   \n",
       "3  LfTMUWnfGFMOfOIyJcwLVA      1   \n",
       "4  zJSUdI7bJ8PNJAg4lnl_Gg      4   \n",
       "\n",
       "                                                text  useful  \\\n",
       "0  BEWARE!!! FAKE, FAKE, FAKE....We also own a sm...      10   \n",
       "1  Came here for lunch Togo. Service was quick. S...       0   \n",
       "2  I've been to Vegas dozens of times and had nev...       2   \n",
       "3  We went here on a night where they closed off ...       5   \n",
       "4  3.5 to 4 stars\\n\\nNot bad for the price, $12.9...       5   \n",
       "\n",
       "                  user_id  \n",
       "0  n1LM36qNg4rqGXIcvVXv8w  \n",
       "1  5CgjjDAic2-FAvCtiHpytA  \n",
       "2  BdV-cf3LScmb8kZ7iiBcMA  \n",
       "3  cZZnBqh4gAEy4CdNvJailQ  \n",
       "4  n9QO4ClYAS7h9fpQwa5bhA  "
      ]
     },
     "execution_count": 4,
     "metadata": {},
     "output_type": "execute_result"
    }
   ],
   "source": [
    "yelp.head()"
   ]
  },
  {
   "cell_type": "code",
   "execution_count": 5,
   "metadata": {},
   "outputs": [
    {
     "data": {
      "text/plain": [
       "(10000, 9)"
      ]
     },
     "execution_count": 5,
     "metadata": {},
     "output_type": "execute_result"
    }
   ],
   "source": []
  },
  {
   "cell_type": "markdown",
   "metadata": {},
   "source": [
    "## Part 1: Tokenize Function\n",
    "<a id=\"#p1\"></a>\n",
    "\n",
    "Complete the function `tokenize`. Your function should\n",
    "- accept one document at a time\n",
    "- return a list of tokens\n",
    "\n",
    "You are free to use any method you have learned this week."
   ]
  },
  {
   "cell_type": "code",
   "execution_count": 45,
   "metadata": {},
   "outputs": [],
   "source": [
    "import spacy\n",
    "from spacy.tokenizer import Tokenizer\n",
    "\n",
    "nlp = spacy.load(\"en_core_web_sm\")\n",
    "\n",
    "def get_lemmas(text):\n",
    "    lemmas = []\n",
    "    \n",
    "    doc = nlp(text)\n",
    "    \n",
    "    for token in doc:\n",
    "        if ((token.is_stop == False) and (token.is_punct == False) and token.pos_ != 'PRON'):\n",
    "            lemmas.append(token.lemma_)\n",
    "            \n",
    "    \n",
    "    return lemmas"
   ]
  },
  {
   "cell_type": "code",
   "execution_count": 46,
   "metadata": {},
   "outputs": [],
   "source": [
    "yelp['tokens'] = yelp['text'].apply(get_lemmas)"
   ]
  },
  {
   "cell_type": "code",
   "execution_count": 87,
   "metadata": {},
   "outputs": [
    {
     "data": {
      "text/plain": [
       "0    absolute bad place stay 43 year life   time ti...\n",
       "1    absolute bad place stay 43 year life   time ti...\n",
       "2    absolute bad place stay 43 year life   time ti...\n",
       "3    absolute bad place stay 43 year life   time ti...\n",
       "4    absolute bad place stay 43 year life   time ti...\n",
       "Name: tokens, dtype: object"
      ]
     },
     "execution_count": 87,
     "metadata": {},
     "output_type": "execute_result"
    }
   ],
   "source": [
    "yelp['tokens'][:5]"
   ]
  },
  {
   "cell_type": "markdown",
   "metadata": {},
   "source": [
    "## Part 2: Vector Representation\n",
    "<a id=\"#p2\"></a>\n",
    "1. Create a vector representation of the reviews\n",
    "2. Write a fake review and query for the 10 most similiar reviews, print the text of the reviews. Do you notice any patterns?\n",
    "    - Given the size of the dataset, it will probably be best to use a `NearestNeighbors` model for this. "
   ]
  },
  {
   "cell_type": "code",
   "execution_count": 57,
   "metadata": {},
   "outputs": [],
   "source": [
    "from sklearn.feature_extraction.text import CountVectorizer, TfidfVectorizer\n",
    "from sklearn.neighbors import NearestNeighbors"
   ]
  },
  {
   "cell_type": "code",
   "execution_count": 78,
   "metadata": {},
   "outputs": [],
   "source": [
    "strings = []\n",
    "for token in yelp['tokens']:\n",
    "    strings.append([' '.join(token)])"
   ]
  },
  {
   "cell_type": "code",
   "execution_count": 88,
   "metadata": {},
   "outputs": [
    {
     "name": "stderr",
     "output_type": "stream",
     "text": [
      "/Users/lambda_school_loaner_95/anaconda3/lib/python3.7/site-packages/ipykernel_launcher.py:2: SettingWithCopyWarning: \n",
      "A value is trying to be set on a copy of a slice from a DataFrame\n",
      "\n",
      "See the caveats in the documentation: http://pandas.pydata.org/pandas-docs/stable/indexing.html#indexing-view-versus-copy\n",
      "  \n"
     ]
    }
   ],
   "source": [
    "for token in range(yelp['tokens'].shape[0]):\n",
    "    yelp['tokens'][token:token+1] = strings[token][0]"
   ]
  },
  {
   "cell_type": "code",
   "execution_count": 90,
   "metadata": {},
   "outputs": [
    {
     "data": {
      "text/plain": [
       "9995    family hungry Subway open 24 hour guy work say...\n",
       "9996    wife come couple friend sever excited point ob...\n",
       "9997    food ok brag food hot item tasty horrible look...\n",
       "9998    today visit great love enjoy Town Square Las V...\n",
       "9999    absolute bad place stay 43 year life   time ti...\n",
       "Name: tokens, dtype: object"
      ]
     },
     "execution_count": 90,
     "metadata": {},
     "output_type": "execute_result"
    }
   ],
   "source": [
    "yelp['tokens'][-5:]"
   ]
  },
  {
   "cell_type": "code",
   "execution_count": 91,
   "metadata": {},
   "outputs": [],
   "source": [
    "vectorizer = CountVectorizer(stop_words='english')\n",
    "# can ad custom tokenizer as long as it returns a list\n",
    "\n",
    "# tokenize and build vocab\n",
    "vectorizer.fit(yelp['text'])\n",
    "\n",
    "# Create a Vocabulary\n",
    "# The vocabulary establishes all of the possible words that we might use.\n",
    "vectorizer.vocabulary_\n",
    "\n",
    "# The vocabulary dictionary does not represent the counts of words!!\n",
    "dtm = vectorizer.transform(yelp['text'])"
   ]
  },
  {
   "cell_type": "code",
   "execution_count": 100,
   "metadata": {},
   "outputs": [],
   "source": [
    "from sklearn.feature_extraction.text import TfidfVectorizer\n",
    "\n",
    "# Instantiate vectorizer object\n",
    "tfidf = TfidfVectorizer(stop_words='english', max_features = 5000, min_df=.05)\n",
    "\n",
    "# Create a vocabulary and get word counts per document\n",
    "dtm = tfidf.fit_transform(yelp['tokens'])"
   ]
  },
  {
   "cell_type": "code",
   "execution_count": 101,
   "metadata": {},
   "outputs": [
    {
     "data": {
      "text/plain": [
       "NearestNeighbors(algorithm='ball_tree', leaf_size=30, metric='minkowski',\n",
       "         metric_params=None, n_jobs=None, n_neighbors=10, p=2, radius=1.0)"
      ]
     },
     "execution_count": 101,
     "metadata": {},
     "output_type": "execute_result"
    }
   ],
   "source": [
    "nn = NearestNeighbors(n_neighbors=10, algorithm='ball_tree')\n",
    "\n",
    "# Fit on TF-IDF Vectors\n",
    "nn.fit(dtm.todense())"
   ]
  },
  {
   "cell_type": "code",
   "execution_count": 102,
   "metadata": {},
   "outputs": [],
   "source": [
    "fake_review = [\"\"\"\n",
    "I love Crystal Creek. Their drinks are great, their vibe is dope, and it's such a fun environment. \n",
    "The bartenders are super fun and the bouncer, Rocket, makes sure everyone's being respectful \n",
    "(see picture of Rocket  attached). This is a cool place out in Spicewood to end the evening on.\n",
    "\"\"\"]"
   ]
  },
  {
   "cell_type": "code",
   "execution_count": 103,
   "metadata": {},
   "outputs": [
    {
     "data": {
      "text/plain": [
       "(array([[0.83899653, 0.88507658, 0.94390376, 0.95260172, 0.95844194,\n",
       "         0.96408191, 0.96408191, 0.96408191, 0.9956159 , 0.99663324]]),\n",
       " array([[5184, 7196, 8197, 2684, 2295, 7955, 4600, 6278, 7471, 2286]]))"
      ]
     },
     "execution_count": 103,
     "metadata": {},
     "output_type": "execute_result"
    }
   ],
   "source": [
    "random = tfidf.transform(fake_review)\n",
    "\n",
    "nn.kneighbors(random.todense())"
   ]
  },
  {
   "cell_type": "code",
   "execution_count": 107,
   "metadata": {},
   "outputs": [
    {
     "name": "stdout",
     "output_type": "stream",
     "text": [
      "Love Kabobs way lamb super tasty great middle eastern flavor beef stew soup good end spoon rice \n",
      "\n",
      " hungry forgot picture \n",
      "\n",
      " Super yummy sandwich person great judge sandwich city love family own sandwich place great quality \n",
      "\n",
      " main reason drop place absolutely obsess penguin enter initial thought wow expect waiter waitress super earth tattoo ton piercing earth attitude confuse give bad review opinion absolutely love atmosphere place great sit hang friend family stranger people super friendly helpful food great boyfriend express love cheeseburger great place stop need STAT \n",
      "\n",
      " bar cram clean waitress super friendly accommodate   sure year bloody mary super great \n",
      "\n",
      " great tan Z Bods weekend Abby tan perfectly personal will tan sure soon \n",
      "\n",
      " calm beautiful place god   great message magnificent music add joy beautiful surrounding   love bookstore \n",
      "\n",
      " great place huge portion love bear stuff brunch mom daughter \n",
      "\n",
      " great hidden gem Hudson   love place   southern cooking dome flair   favs Hudson \n",
      "\n",
      " love choice option plus end result amazing employee little better place topping \n",
      "\n",
      " super beigne nouvelle entreprise à essayer leurs beigne se retrouvent aussi dan de nombreux cafés de Montréal vous pourrez toujour y gouter à ce endroit voir leur site web pour plus d'info\n"
     ]
    }
   ],
   "source": [
    "## print text of reviews\n",
    "print(yelp['tokens'][5184], '\\n\\n', yelp['tokens'][7196], '\\n\\n', yelp['tokens'][8197], '\\n\\n',\n",
    "      yelp['tokens'][2684], '\\n\\n', yelp['tokens'][2295], '\\n\\n', yelp['tokens'][7955], '\\n\\n',\n",
    "      yelp['tokens'][4600], '\\n\\n', yelp['tokens'][6278], '\\n\\n', yelp['tokens'][7471], '\\n\\n',\n",
    "      yelp['tokens'][2286])"
   ]
  },
  {
   "cell_type": "markdown",
   "metadata": {},
   "source": [
    "## Part 3: Classification\n",
    "<a id=\"#p3\"></a>\n",
    "Your goal in this section will be to predict `stars` from the review dataset. \n",
    "\n",
    "1. Create a piepline object with a sklearn `CountVectorizer` or `TfidfVector` and any sklearn classifier. Use that pipeline to estimate a model to predict `stars`. Use the Pipeline to predict a star rating for your fake review from Part 2. \n",
    "2. Tune the entire pipeline with a GridSearch"
   ]
  },
  {
   "cell_type": "code",
   "execution_count": 110,
   "metadata": {},
   "outputs": [],
   "source": [
    "from sklearn.pipeline import Pipeline\n",
    "from sklearn.linear_model import SGDClassifier\n",
    "from sklearn.feature_extraction.text import TfidfVectorizer\n",
    "from sklearn.model_selection import train_test_split\n",
    "from sklearn.metrics import accuracy_score\n",
    "\n",
    "\n",
    "X_train, X_test, y_train, y_test = train_test_split(yelp['tokens'], yelp['stars'], test_size=.33, random_state=42)\n",
    "\n",
    "vect = TfidfVectorizer(stop_words='english')\n",
    "sgdc = SGDClassifier()\n",
    "pipe = Pipeline([('vect', vect), ('classifier', sgdc)])\n",
    "\n",
    "#Fit pipeline:\n",
    "pipe.fit(X_train, y_train)\n",
    "y_pred = pipe.predict(X_test)"
   ]
  },
  {
   "cell_type": "code",
   "execution_count": 113,
   "metadata": {},
   "outputs": [
    {
     "data": {
      "text/plain": [
       "0.5951515151515151"
      ]
     },
     "execution_count": 113,
     "metadata": {},
     "output_type": "execute_result"
    }
   ],
   "source": [
    "accuracy_score(y_test, y_pred)"
   ]
  },
  {
   "cell_type": "markdown",
   "metadata": {},
   "source": [
    "### Tuning with Grid Search"
   ]
  },
  {
   "cell_type": "code",
   "execution_count": 144,
   "metadata": {},
   "outputs": [
    {
     "name": "stdout",
     "output_type": "stream",
     "text": [
      "Fitting 5 folds for each of 9 candidates, totalling 45 fits\n"
     ]
    },
    {
     "name": "stderr",
     "output_type": "stream",
     "text": [
      "[Parallel(n_jobs=-1)]: Using backend LokyBackend with 4 concurrent workers.\n",
      "[Parallel(n_jobs=-1)]: Done   5 tasks      | elapsed:    7.0s\n",
      "[Parallel(n_jobs=-1)]: Done  10 tasks      | elapsed:    9.1s\n",
      "[Parallel(n_jobs=-1)]: Done  17 tasks      | elapsed:   12.8s\n",
      "[Parallel(n_jobs=-1)]: Done  24 tasks      | elapsed:   15.0s\n",
      "[Parallel(n_jobs=-1)]: Done  33 tasks      | elapsed:   21.5s\n",
      "[Parallel(n_jobs=-1)]: Done  43 out of  45 | elapsed:   28.7s remaining:    1.3s\n",
      "[Parallel(n_jobs=-1)]: Done  45 out of  45 | elapsed:   29.2s finished\n",
      "/Users/lambda_school_loaner_95/anaconda3/lib/python3.7/site-packages/sklearn/linear_model/stochastic_gradient.py:183: FutureWarning: max_iter and tol parameters have been added in SGDClassifier in 0.19. If max_iter is set but tol is left unset, the default value for tol in 0.19 and 0.20 will be None (which is equivalent to -infinity, so it has no effect) but will change in 0.21 to 1e-3. Specify tol to silence this warning.\n",
      "  FutureWarning)\n"
     ]
    },
    {
     "data": {
      "text/plain": [
       "GridSearchCV(cv=5, error_score='raise-deprecating',\n",
       "       estimator=Pipeline(memory=None,\n",
       "     steps=[('vect', TfidfVectorizer(analyzer='word', binary=False, decode_error='strict',\n",
       "        dtype=<class 'numpy.float64'>, encoding='utf-8', input='content',\n",
       "        lowercase=True, max_df=1.0, max_features=None, min_df=1,\n",
       "        ngram_range=(1, 1), norm='l2', preprocessor=None, smooth_idf=True,\n",
       "...m_state=None, shuffle=True, tol=None,\n",
       "       validation_fraction=0.1, verbose=0, warm_start=False))]),\n",
       "       fit_params=None, iid='warn', n_jobs=-1,\n",
       "       param_grid={'vect__max_df': (0.5, 0.75, 1.0), 'classifier__max_iter': (20, 10, 100)},\n",
       "       pre_dispatch='2*n_jobs', refit=True, return_train_score='warn',\n",
       "       scoring=None, verbose=10)"
      ]
     },
     "execution_count": 144,
     "metadata": {},
     "output_type": "execute_result"
    }
   ],
   "source": [
    "from sklearn.model_selection import GridSearchCV, RandomizedSearchCV\n",
    "\n",
    "parameters = {\n",
    "    'vect__max_df': (0.5, 0.75, 1.0),\n",
    "    'classifier__max_iter': (20, 10, 100)\n",
    "}\n",
    "\n",
    "grid_search = GridSearchCV(pipe, parameters, cv=5, n_jobs=-1, verbose=10)\n",
    "grid_search.fit(X_train, y_train)"
   ]
  },
  {
   "cell_type": "code",
   "execution_count": 145,
   "metadata": {},
   "outputs": [],
   "source": [
    "best = grid_search.best_estimator_\n",
    "grid_y_pred = best.predict(X_test)"
   ]
  },
  {
   "cell_type": "code",
   "execution_count": 146,
   "metadata": {},
   "outputs": [
    {
     "data": {
      "text/plain": [
       "0.5990909090909091"
      ]
     },
     "execution_count": 146,
     "metadata": {},
     "output_type": "execute_result"
    }
   ],
   "source": [
    "accuracy_score(y_test, grid_y_pred)"
   ]
  },
  {
   "cell_type": "code",
   "execution_count": 115,
   "metadata": {},
   "outputs": [
    {
     "data": {
      "text/plain": [
       "5    0.4462\n",
       "4    0.2185\n",
       "1    0.1496\n",
       "3    0.1098\n",
       "2    0.0759\n",
       "Name: stars, dtype: float64"
      ]
     },
     "execution_count": 115,
     "metadata": {},
     "output_type": "execute_result"
    }
   ],
   "source": [
    "yelp['stars'].value_counts(normalize=True)"
   ]
  },
  {
   "cell_type": "markdown",
   "metadata": {},
   "source": [
    "## Part 4: Topic Modeling\n",
    "\n",
    "Let's find out what those yelp reviews are saying! :D\n",
    "\n",
    "1. Estimate a LDA topic model of the review text\n",
    "2. Create 1-2 visualizations of the results\n",
    "    - You can use the most important 3 words of a topic in relevant visualizations. Refer to yesterday's notebook to extract. \n",
    "3. In markdown, write 1-2 paragraphs of analysis on the results of your topic model\n",
    "\n",
    "__*Note*__: You can pass the DataFrame column of text reviews to gensim. You do not have to use a generator."
   ]
  },
  {
   "cell_type": "code",
   "execution_count": 116,
   "metadata": {},
   "outputs": [],
   "source": [
    "from gensim.utils import simple_preprocess\n",
    "from gensim.parsing.preprocessing import STOPWORDS\n",
    "from gensim import corpora\n",
    "\n",
    "from gensim.models.ldamulticore import LdaMulticore\n",
    "\n",
    "import matplotlib.pyplot as plt"
   ]
  },
  {
   "cell_type": "code",
   "execution_count": 117,
   "metadata": {},
   "outputs": [],
   "source": [
    "def gather_data(reviews):\n",
    "    \n",
    "    data = []\n",
    "    \n",
    "    for r in reviews: \n",
    "        \n",
    "        tokens = tokenize(str(reviews))\n",
    "        data.append(tokens)\n",
    "    \n",
    "    return data"
   ]
  },
  {
   "cell_type": "code",
   "execution_count": 182,
   "metadata": {},
   "outputs": [],
   "source": [
    "data = gather_data(yelp['tokens'])"
   ]
  },
  {
   "cell_type": "code",
   "execution_count": 183,
   "metadata": {},
   "outputs": [],
   "source": [
    "id2word = corpora.Dictionary(data)"
   ]
  },
  {
   "cell_type": "code",
   "execution_count": 180,
   "metadata": {},
   "outputs": [],
   "source": [
    "id2word.filter_extremes(no_below=5, no_above=0.90)"
   ]
  },
  {
   "cell_type": "code",
   "execution_count": 184,
   "metadata": {},
   "outputs": [],
   "source": [
    "corpus = [id2word.doc2bow(review) for review in data]"
   ]
  },
  {
   "cell_type": "code",
   "execution_count": 186,
   "metadata": {},
   "outputs": [
    {
     "data": {
      "text/plain": [
       "2"
      ]
     },
     "execution_count": 186,
     "metadata": {},
     "output_type": "execute_result"
    }
   ],
   "source": [
    "len(corpus[0][0])"
   ]
  },
  {
   "cell_type": "code",
   "execution_count": 179,
   "metadata": {},
   "outputs": [],
   "source": [
    "lda = LdaMulticore(corpus=corpus,\n",
    "                  id2word=id2word,\n",
    "                  random_state=42,\n",
    "                  num_topics=10,\n",
    "                  workers=4\n",
    "                  )"
   ]
  },
  {
   "cell_type": "code",
   "execution_count": 134,
   "metadata": {},
   "outputs": [],
   "source": [
    "words = [re.findall(r'\"([^\"]*)\"',t[1]) for t in lda.print_topics()]"
   ]
  },
  {
   "cell_type": "code",
   "execution_count": 135,
   "metadata": {},
   "outputs": [],
   "source": [
    "topics = [' '.join(t[:3]) for t in words]"
   ]
  },
  {
   "cell_type": "code",
   "execution_count": 136,
   "metadata": {},
   "outputs": [],
   "source": [
    "import pyLDAvis.gensim\n",
    "\n",
    "pyLDAvis.enable_notebook()"
   ]
  },
  {
   "cell_type": "code",
   "execution_count": 137,
   "metadata": {},
   "outputs": [
    {
     "name": "stderr",
     "output_type": "stream",
     "text": [
      "/Users/lambda_school_loaner_95/anaconda3/lib/python3.7/site-packages/pyLDAvis/_prepare.py:257: FutureWarning: Sorting because non-concatenation axis is not aligned. A future version\n",
      "of pandas will change to not sort by default.\n",
      "\n",
      "To accept the future behavior, pass 'sort=False'.\n",
      "\n",
      "To retain the current behavior and silence the warning, pass 'sort=True'.\n",
      "\n",
      "  return pd.concat([default_term_info] + list(topic_dfs))\n"
     ]
    },
    {
     "data": {
      "text/html": [
       "\n",
       "<link rel=\"stylesheet\" type=\"text/css\" href=\"https://cdn.rawgit.com/bmabey/pyLDAvis/files/ldavis.v1.0.0.css\">\n",
       "\n",
       "\n",
       "<div id=\"ldavis_el7301611774266856080410517\"></div>\n",
       "<script type=\"text/javascript\">\n",
       "\n",
       "var ldavis_el7301611774266856080410517_data = {\"mdsDat\": {\"x\": [0.003243673316338108, 0.0020173113701044596, 9.788096517117793e-05, 0.0005105832829039775, 0.001759439009989423, -0.0017271676221457305, -0.0003760099972384364, -0.0028172389199232, 0.00019672451298661953, -0.002905195918186402], \"y\": [0.002892413154233847, 0.00026421727617240566, 0.0002009520624935231, -0.0006796518273124065, -0.002470282993265729, -0.0008029956800757469, -0.0011164901698823059, -0.0014831071512806891, -0.0006268487051657243, 0.0038217940340828293], \"topics\": [1, 2, 3, 4, 5, 6, 7, 8, 9, 10], \"cluster\": [1, 1, 1, 1, 1, 1, 1, 1, 1, 1], \"Freq\": [11.03105354309082, 10.775642395019531, 10.405325889587402, 10.310887336730957, 10.291472434997559, 9.695089340209961, 9.685154914855957, 9.500224113464355, 9.315921783447266, 8.98923110961914]}, \"tinfo\": {\"Category\": [\"Default\", \"Default\", \"Default\", \"Default\", \"Default\", \"Default\", \"Default\", \"Default\", \"Default\", \"Default\", \"Default\", \"Default\", \"Default\", \"Default\", \"Default\", \"Default\", \"Default\", \"Default\", \"Default\", \"Default\", \"Default\", \"Default\", \"Default\", \"Default\", \"Default\", \"Default\", \"Default\", \"Default\", \"Default\", \"Default\", \"Topic1\", \"Topic1\", \"Topic1\", \"Topic1\", \"Topic1\", \"Topic1\", \"Topic1\", \"Topic1\", \"Topic1\", \"Topic1\", \"Topic1\", \"Topic1\", \"Topic1\", \"Topic1\", \"Topic1\", \"Topic1\", \"Topic1\", \"Topic1\", \"Topic1\", \"Topic1\", \"Topic1\", \"Topic1\", \"Topic1\", \"Topic1\", \"Topic1\", \"Topic1\", \"Topic1\", \"Topic1\", \"Topic1\", \"Topic1\", \"Topic1\", \"Topic1\", \"Topic1\", \"Topic1\", \"Topic1\", \"Topic1\", \"Topic1\", \"Topic1\", \"Topic1\", \"Topic1\", \"Topic1\", \"Topic1\", \"Topic1\", \"Topic1\", \"Topic1\", \"Topic1\", \"Topic1\", \"Topic1\", \"Topic1\", \"Topic1\", \"Topic1\", \"Topic1\", \"Topic1\", \"Topic1\", \"Topic1\", \"Topic1\", \"Topic1\", \"Topic1\", \"Topic1\", \"Topic2\", \"Topic2\", \"Topic2\", \"Topic2\", \"Topic2\", \"Topic2\", \"Topic2\", \"Topic2\", \"Topic2\", \"Topic2\", \"Topic2\", \"Topic2\", \"Topic2\", \"Topic2\", \"Topic2\", \"Topic2\", \"Topic2\", \"Topic2\", \"Topic2\", \"Topic2\", \"Topic2\", \"Topic2\", \"Topic2\", \"Topic2\", \"Topic2\", \"Topic2\", \"Topic2\", \"Topic2\", \"Topic2\", \"Topic2\", \"Topic2\", \"Topic2\", \"Topic2\", \"Topic2\", \"Topic2\", \"Topic2\", \"Topic2\", \"Topic2\", \"Topic2\", \"Topic2\", \"Topic2\", \"Topic2\", \"Topic2\", \"Topic2\", \"Topic2\", \"Topic2\", \"Topic2\", \"Topic2\", \"Topic2\", \"Topic2\", \"Topic2\", \"Topic2\", \"Topic3\", \"Topic3\", \"Topic3\", \"Topic3\", \"Topic3\", \"Topic3\", \"Topic3\", \"Topic3\", \"Topic3\", \"Topic3\", \"Topic3\", \"Topic3\", \"Topic3\", \"Topic3\", \"Topic3\", \"Topic3\", \"Topic3\", \"Topic3\", \"Topic3\", \"Topic3\", \"Topic3\", \"Topic3\", \"Topic3\", \"Topic3\", \"Topic3\", \"Topic3\", \"Topic3\", \"Topic3\", \"Topic3\", \"Topic3\", \"Topic3\", \"Topic3\", \"Topic3\", \"Topic3\", \"Topic3\", \"Topic3\", \"Topic3\", \"Topic3\", \"Topic3\", \"Topic3\", \"Topic3\", \"Topic3\", \"Topic3\", \"Topic3\", \"Topic3\", \"Topic3\", \"Topic3\", \"Topic3\", \"Topic3\", \"Topic3\", \"Topic3\", \"Topic3\", \"Topic3\", \"Topic3\", \"Topic3\", \"Topic3\", \"Topic4\", \"Topic4\", \"Topic4\", \"Topic4\", \"Topic4\", \"Topic4\", \"Topic4\", \"Topic4\", \"Topic4\", \"Topic4\", \"Topic4\", \"Topic4\", \"Topic4\", \"Topic4\", \"Topic4\", \"Topic4\", \"Topic4\", \"Topic4\", \"Topic4\", \"Topic4\", \"Topic4\", \"Topic4\", \"Topic4\", \"Topic4\", \"Topic4\", \"Topic4\", \"Topic4\", \"Topic4\", \"Topic4\", \"Topic4\", \"Topic4\", \"Topic4\", \"Topic4\", \"Topic4\", \"Topic4\", \"Topic4\", \"Topic4\", \"Topic4\", \"Topic4\", \"Topic4\", \"Topic4\", \"Topic4\", \"Topic4\", \"Topic4\", \"Topic4\", \"Topic4\", \"Topic4\", \"Topic4\", \"Topic4\", \"Topic4\", \"Topic4\", \"Topic4\", \"Topic4\", \"Topic4\", \"Topic4\", \"Topic4\", \"Topic4\", \"Topic4\", \"Topic4\", \"Topic4\", \"Topic4\", \"Topic4\", \"Topic4\", \"Topic4\", \"Topic5\", \"Topic5\", \"Topic5\", \"Topic5\", \"Topic5\", \"Topic5\", \"Topic5\", \"Topic5\", \"Topic5\", \"Topic5\", \"Topic5\", \"Topic5\", \"Topic5\", \"Topic5\", \"Topic5\", \"Topic5\", \"Topic5\", \"Topic5\", \"Topic5\", \"Topic5\", \"Topic5\", \"Topic5\", \"Topic5\", \"Topic5\", \"Topic5\", \"Topic5\", \"Topic5\", \"Topic5\", \"Topic5\", \"Topic5\", \"Topic5\", \"Topic5\", \"Topic5\", \"Topic5\", \"Topic5\", \"Topic5\", \"Topic5\", \"Topic5\", \"Topic5\", \"Topic5\", \"Topic5\", \"Topic5\", \"Topic5\", \"Topic5\", \"Topic5\", \"Topic5\", \"Topic5\", \"Topic5\", \"Topic5\", \"Topic5\", \"Topic5\", \"Topic5\", \"Topic5\", \"Topic5\", \"Topic5\", \"Topic5\", \"Topic6\", \"Topic6\", \"Topic6\", \"Topic6\", \"Topic6\", \"Topic6\", \"Topic6\", \"Topic6\", \"Topic6\", \"Topic6\", \"Topic6\", \"Topic6\", \"Topic6\", \"Topic6\", \"Topic6\", \"Topic6\", \"Topic6\", \"Topic6\", \"Topic6\", \"Topic6\", \"Topic6\", \"Topic6\", \"Topic6\", \"Topic6\", \"Topic6\", \"Topic6\", \"Topic6\", \"Topic6\", \"Topic6\", \"Topic6\", \"Topic6\", \"Topic6\", \"Topic6\", \"Topic6\", \"Topic6\", \"Topic6\", \"Topic6\", \"Topic6\", \"Topic6\", \"Topic6\", \"Topic6\", \"Topic6\", \"Topic6\", \"Topic6\", \"Topic6\", \"Topic6\", \"Topic6\", \"Topic6\", \"Topic6\", \"Topic6\", \"Topic6\", \"Topic6\", \"Topic6\", \"Topic6\", \"Topic6\", \"Topic6\", \"Topic6\", \"Topic6\", \"Topic6\", \"Topic7\", \"Topic7\", \"Topic7\", \"Topic7\", \"Topic7\", \"Topic7\", \"Topic7\", \"Topic7\", \"Topic7\", \"Topic7\", \"Topic7\", \"Topic7\", \"Topic7\", \"Topic7\", \"Topic7\", \"Topic7\", \"Topic7\", \"Topic7\", \"Topic7\", \"Topic7\", \"Topic7\", \"Topic7\", \"Topic7\", \"Topic7\", \"Topic7\", \"Topic7\", \"Topic7\", \"Topic7\", \"Topic7\", \"Topic7\", \"Topic7\", \"Topic7\", \"Topic7\", \"Topic7\", \"Topic7\", \"Topic7\", \"Topic7\", \"Topic7\", \"Topic7\", \"Topic7\", \"Topic7\", \"Topic7\", \"Topic7\", \"Topic7\", \"Topic7\", \"Topic7\", \"Topic7\", \"Topic7\", \"Topic7\", \"Topic7\", \"Topic7\", \"Topic7\", \"Topic7\", \"Topic7\", \"Topic7\", \"Topic7\", \"Topic7\", \"Topic7\", \"Topic8\", \"Topic8\", \"Topic8\", \"Topic8\", \"Topic8\", \"Topic8\", \"Topic8\", \"Topic8\", \"Topic8\", \"Topic8\", \"Topic8\", \"Topic8\", \"Topic8\", \"Topic8\", \"Topic8\", \"Topic8\", \"Topic8\", \"Topic8\", \"Topic8\", \"Topic8\", \"Topic8\", \"Topic8\", \"Topic8\", \"Topic8\", \"Topic8\", \"Topic8\", \"Topic8\", \"Topic8\", \"Topic8\", \"Topic8\", \"Topic8\", \"Topic8\", \"Topic8\", \"Topic8\", \"Topic8\", \"Topic8\", \"Topic8\", \"Topic8\", \"Topic8\", \"Topic8\", \"Topic8\", \"Topic8\", \"Topic8\", \"Topic8\", \"Topic8\", \"Topic8\", \"Topic8\", \"Topic8\", \"Topic8\", \"Topic8\", \"Topic8\", \"Topic8\", \"Topic8\", \"Topic8\", \"Topic8\", \"Topic8\", \"Topic9\", \"Topic9\", \"Topic9\", \"Topic9\", \"Topic9\", \"Topic9\", \"Topic9\", \"Topic9\", \"Topic9\", \"Topic9\", \"Topic9\", \"Topic9\", \"Topic9\", \"Topic9\", \"Topic9\", \"Topic9\", \"Topic9\", \"Topic9\", \"Topic9\", \"Topic9\", \"Topic9\", \"Topic9\", \"Topic9\", \"Topic9\", \"Topic9\", \"Topic9\", \"Topic9\", \"Topic9\", \"Topic9\", \"Topic9\", \"Topic9\", \"Topic9\", \"Topic9\", \"Topic9\", \"Topic9\", \"Topic9\", \"Topic9\", \"Topic9\", \"Topic9\", \"Topic9\", \"Topic9\", \"Topic9\", \"Topic9\", \"Topic9\", \"Topic9\", \"Topic9\", \"Topic9\", \"Topic9\", \"Topic9\", \"Topic9\", \"Topic9\", \"Topic9\", \"Topic9\", \"Topic9\", \"Topic9\", \"Topic9\", \"Topic9\", \"Topic9\", \"Topic9\", \"Topic10\", \"Topic10\", \"Topic10\", \"Topic10\", \"Topic10\", \"Topic10\", \"Topic10\", \"Topic10\", \"Topic10\", \"Topic10\", \"Topic10\", \"Topic10\", \"Topic10\", \"Topic10\", \"Topic10\", \"Topic10\", \"Topic10\", \"Topic10\", \"Topic10\", \"Topic10\", \"Topic10\", \"Topic10\", \"Topic10\", \"Topic10\", \"Topic10\", \"Topic10\", \"Topic10\", \"Topic10\", \"Topic10\", \"Topic10\", \"Topic10\", \"Topic10\", \"Topic10\", \"Topic10\", \"Topic10\", \"Topic10\", \"Topic10\", \"Topic10\", \"Topic10\", \"Topic10\", \"Topic10\", \"Topic10\", \"Topic10\", \"Topic10\", \"Topic10\", \"Topic10\", \"Topic10\", \"Topic10\", \"Topic10\", \"Topic10\", \"Topic10\", \"Topic10\", \"Topic10\", \"Topic10\", \"Topic10\", \"Topic10\", \"Topic10\"], \"Freq\": [69587.0, 51283.0, 68687.0, 98061.0, 30973.0, 60028.0, 30303.0, 50393.0, 69089.0, 29565.0, 20046.0, 40178.0, 30592.0, 20497.0, 10493.0, 50120.0, 30455.0, 19641.0, 20520.0, 20112.0, 20345.0, 20027.0, 20299.0, 20310.0, 10359.0, 20102.0, 9829.0, 19602.0, 49947.0, 19873.0, 1691.0404052734375, 1541.9432373046875, 1474.9210205078125, 1499.3614501953125, 1513.6153564453125, 1456.5535888671875, 1469.7752685546875, 1424.5684814453125, 1442.5694580078125, 2803.259765625, 1403.761962890625, 2792.776611328125, 1424.04248046875, 1434.620361328125, 1419.552001953125, 2770.224365234375, 2765.830810546875, 1394.463134765625, 1368.1697998046875, 1358.3177490234375, 1372.5855712890625, 1370.0787353515625, 1367.0400390625, 1366.93798828125, 1381.8607177734375, 13475.560546875, 1369.1771240234375, 1358.1998291015625, 1346.7425537109375, 1360.9803466796875, 9329.5361328125, 6632.361328125, 6761.248046875, 5384.1298828125, 3869.51953125, 2524.048095703125, 2500.169921875, 5573.44287109375, 2494.427978515625, 7221.76953125, 2544.764404296875, 5334.3408203125, 6085.947265625, 3489.14697265625, 3420.97998046875, 3389.313720703125, 6513.474609375, 3322.931640625, 5606.689453125, 3256.412841796875, 2410.592041015625, 2427.918212890625, 2381.80126953125, 4465.48193359375, 2383.742919921875, 2851.60791015625, 2731.1171875, 2579.605224609375, 2481.45849609375, 1511.013916015625, 2986.834716796875, 1487.6767578125, 1481.615234375, 1447.98388671875, 1419.144287109375, 1408.156982421875, 1359.9991455078125, 1375.47412109375, 1391.3740234375, 2758.643798828125, 2706.569580078125, 1374.6768798828125, 1381.2587890625, 1292.5364990234375, 1322.1669921875, 1333.5557861328125, 2612.20263671875, 9091.5029296875, 2591.050537109375, 1318.360107421875, 2639.939697265625, 2562.79052734375, 2588.32421875, 2589.7802734375, 2551.688232421875, 1259.9124755859375, 1282.3792724609375, 1296.7225341796875, 2540.967041015625, 12367.6689453125, 2465.8671875, 5964.93359375, 3626.872314453125, 6674.64794921875, 7677.67431640625, 2507.324951171875, 3568.395263671875, 7318.44677734375, 5547.08447265625, 5492.05615234375, 5162.64306640625, 3430.965087890625, 5155.2861328125, 2501.6357421875, 5661.43994140625, 3284.666748046875, 3930.3583984375, 3128.466552734375, 3057.2236328125, 2759.703857421875, 2654.010986328125, 1701.6053466796875, 1453.8294677734375, 1442.3802490234375, 1434.979248046875, 1453.477294921875, 1408.96240234375, 1408.73193359375, 1387.990234375, 2754.0625, 2729.99951171875, 2667.868896484375, 2710.109619140625, 1346.499267578125, 1302.9837646484375, 1323.751708984375, 1347.62158203125, 1320.6160888671875, 1311.529541015625, 1303.35986328125, 1299.695068359375, 2553.793212890625, 2576.7607421875, 1340.06591796875, 1269.71875, 7665.80712890625, 1264.9986572265625, 1237.2803955078125, 1249.2506103515625, 1275.049560546875, 1266.09228515625, 2507.607666015625, 8088.36474609375, 3639.7138671875, 2431.672119140625, 6821.60009765625, 2394.431884765625, 7562.06298828125, 5469.6767578125, 7357.08544921875, 2459.871337890625, 2420.492919921875, 5294.140625, 3319.33203125, 2391.538818359375, 4215.34521484375, 5016.57177734375, 8397.7783203125, 4736.50341796875, 3243.600830078125, 3206.86474609375, 3198.02880859375, 3129.60205078125, 4528.52734375, 3145.6572265625, 2804.509033203125, 2761.52392578125, 1385.33349609375, 1407.5831298828125, 1395.6680908203125, 9530.9248046875, 1318.0224609375, 1370.1951904296875, 1325.5296630859375, 1340.814697265625, 1336.390869140625, 1338.014892578125, 1325.278564453125, 1278.32958984375, 1311.0072021484375, 1287.5528564453125, 1318.116455078125, 1305.49462890625, 1317.1214599609375, 1316.90234375, 1272.2451171875, 1272.9814453125, 1263.6256103515625, 1272.6839599609375, 1262.0267333984375, 1302.5201416015625, 1272.3580322265625, 1262.4437255859375, 1303.37939453125, 1245.4622802734375, 1281.1632080078125, 1232.4344482421875, 3900.55615234375, 3729.17626953125, 2400.44775390625, 2419.67822265625, 6619.78076171875, 6535.8701171875, 2360.252197265625, 10235.419921875, 2401.74951171875, 7303.6484375, 2414.78076171875, 6810.64599609375, 2340.73974609375, 2351.40576171875, 2322.209716796875, 2279.6015625, 2343.03076171875, 2296.818359375, 3223.86572265625, 4003.681640625, 4725.65087890625, 4801.31005859375, 3143.503662109375, 3115.259765625, 2299.243408203125, 4542.2392578125, 4566.37451171875, 4303.9033203125, 2278.058349609375, 2979.76806640625, 2937.41845703125, 2822.162109375, 2545.535400390625, 2520.18359375, 1589.795654296875, 1550.85400390625, 1519.8597412109375, 1474.35693359375, 1466.4932861328125, 1443.3984375, 1394.40380859375, 1384.5406494140625, 1372.115478515625, 4043.7734375, 1344.894775390625, 1380.192626953125, 2647.540283203125, 2648.627685546875, 1332.282958984375, 1312.1982421875, 1304.0711669921875, 1325.5174560546875, 1266.7135009765625, 1269.744140625, 1287.8302001953125, 1238.7186279296875, 1305.4456787109375, 1260.6644287109375, 1277.1529541015625, 2512.523681640625, 2446.173583984375, 1253.2039794921875, 8537.7138671875, 1234.397216796875, 12026.5126953125, 5976.35595703125, 2453.0341796875, 2410.263916015625, 3545.432861328125, 3532.956787109375, 2424.107666015625, 3503.8671875, 3594.55078125, 2401.35791015625, 2428.14208984375, 6203.9580078125, 5295.31201171875, 6198.5419921875, 5010.6962890625, 2375.362060546875, 3200.556640625, 4680.91943359375, 4450.1826171875, 5463.4541015625, 3746.505859375, 3094.37646484375, 5149.0185546875, 3042.150146484375, 2976.5947265625, 2437.613037109375, 1382.7490234375, 1302.22705078125, 1317.50439453125, 1299.0621337890625, 1248.7384033203125, 1236.921875, 2448.437255859375, 1192.530029296875, 1181.2960205078125, 1232.850341796875, 1236.692138671875, 1240.5836181640625, 1223.882568359375, 1236.0302734375, 1205.927978515625, 1222.9815673828125, 2412.0087890625, 2387.955078125, 1189.9361572265625, 1179.3662109375, 1216.84375, 1182.30078125, 1165.7490234375, 1221.614990234375, 1187.906005859375, 1186.7469482421875, 1196.9892578125, 1149.9617919921875, 6973.6455078125, 1162.577880859375, 5746.7802734375, 3466.784912109375, 2287.68505859375, 5865.34619140625, 3419.654541015625, 3361.181396484375, 6371.14013671875, 7374.9208984375, 4400.24072265625, 5255.73046875, 2272.451171875, 3282.953125, 2268.738525390625, 4942.93408203125, 3126.422607421875, 2253.000732421875, 2184.244873046875, 6440.11669921875, 4823.78564453125, 6140.8515625, 8249.642578125, 2158.59033203125, 3057.162109375, 2136.246337890625, 2103.365478515625, 2727.609619140625, 2637.111083984375, 2586.697021484375, 2174.20654296875, 1514.725341796875, 2913.4912109375, 1390.8487548828125, 1421.0877685546875, 1387.625244140625, 1366.164306640625, 1372.375732421875, 1330.5494384765625, 1265.3114013671875, 2541.35107421875, 1262.5667724609375, 1256.0731201171875, 2524.717529296875, 3732.3408203125, 1274.3775634765625, 1265.008056640625, 1216.6187744140625, 1222.7257080078125, 1236.844482421875, 1223.1055908203125, 1238.6473388671875, 1237.2763671875, 2413.292724609375, 1220.261474609375, 1244.8585205078125, 2370.181884765625, 1218.9178466796875, 1187.93408203125, 2384.0986328125, 1193.09423828125, 5926.82373046875, 3563.90869140625, 3409.867919921875, 2342.1376953125, 5591.29345703125, 5325.75146484375, 2297.635498046875, 6221.20654296875, 2286.77734375, 9376.1357421875, 6803.77001953125, 3192.678955078125, 3220.0146484375, 3181.900634765625, 2254.626953125, 6229.7734375, 5115.15185546875, 2245.017822265625, 4175.42822265625, 4072.366455078125, 2220.022705078125, 2192.902099609375, 4514.0244140625, 2715.605712890625, 2785.215087890625, 2524.215087890625, 2365.283203125, 2346.85791015625, 1409.354736328125, 1426.36962890625, 1333.0350341796875, 1319.06494140625, 2662.986572265625, 1303.7091064453125, 1265.71240234375, 3828.986572265625, 1264.4251708984375, 3715.533203125, 1228.6729736328125, 2488.34814453125, 8353.1904296875, 1229.0733642578125, 1204.577880859375, 1207.19287109375, 1185.202392578125, 2384.328125, 1186.2744140625, 1184.3426513671875, 1186.2247314453125, 1172.449462890625, 1196.0887451171875, 8201.0380859375, 1184.2432861328125, 1157.014404296875, 1181.546630859375, 1144.744384765625, 1153.0216064453125, 1161.15625, 2350.38818359375, 3407.997314453125, 3386.945068359375, 3409.74267578125, 2178.38525390625, 6677.2001953125, 2202.8857421875, 5643.8876953125, 4749.185546875, 4838.1357421875, 2162.484619140625, 4865.25341796875, 3046.42578125, 2177.344970703125, 2159.78759765625, 2170.052978515625, 2932.09814453125, 2104.09619140625, 4042.998291015625, 6294.5693359375, 4313.3818359375, 3765.13818359375, 3256.003662109375, 2607.552734375, 2414.720703125, 2226.67333984375, 1442.0213623046875, 1397.114013671875, 1312.26025390625, 1281.7801513671875, 1272.86474609375, 1254.5538330078125, 1239.234375, 1254.142822265625, 1214.4561767578125, 1230.983154296875, 1210.609130859375, 2429.0947265625, 1215.5369873046875, 2429.630859375, 1217.896728515625, 1209.9788818359375, 1221.4365234375, 1203.282470703125, 1183.4559326171875, 1197.34716796875, 1196.5902099609375, 1150.7113037109375, 1169.4271240234375, 1157.5860595703125, 1150.49365234375, 1157.8653564453125, 1161.6656494140625, 2297.32275390625, 1137.666259765625, 1127.4295654296875, 2213.064453125, 4419.82861328125, 3339.742919921875, 2218.02099609375, 9682.76953125, 3217.627197265625, 4994.67041015625, 4872.75244140625, 5631.0908203125, 6373.7265625, 2993.84033203125, 6035.4619140625, 2966.67822265625, 5265.28369140625, 2941.038818359375, 2110.3095703125, 2141.781982421875, 2121.993896484375, 4236.37158203125, 5402.15966796875, 2887.234619140625, 3950.54345703125, 4078.961181640625, 2772.55078125, 2744.408203125, 2070.678466796875, 2064.574462890625, 2552.337646484375, 2214.9189453125, 1535.6021728515625, 1333.03271484375, 1350.201171875, 6584.45458984375, 1291.6746826171875, 1283.9669189453125, 1262.560302734375, 2527.806640625, 1190.8236083984375, 1226.1231689453125, 3596.366455078125, 1190.0791015625, 1174.571044921875, 1191.927490234375, 1181.2822265625, 1212.4876708984375, 1189.6627197265625, 1168.9178466796875, 1193.33984375, 1193.256103515625, 1152.5723876953125, 2297.908447265625, 1158.3363037109375, 1187.936279296875, 1146.052490234375, 1155.7642822265625, 5611.4775390625, 1113.6781005859375, 1116.870849609375, 1116.0010986328125, 2203.7900390625, 3266.273681640625, 2154.76171875, 4973.78955078125, 6577.005859375, 4037.3623046875, 5502.83349609375, 2091.529541015625, 2080.649658203125, 7955.87646484375, 5667.4775390625, 4226.56396484375, 2009.7469482421875, 2013.704345703125, 1988.232177734375, 2007.1507568359375, 2013.0126953125, 4441.822265625, 2008.3544921875, 3745.32421875, 2644.562255859375, 2537.849365234375, 2503.401123046875, 2495.04443359375, 2510.982421875, 3617.8115234375, 2371.338623046875], \"Term\": [\"great\", \"\\\\n\\\\n\", \"service\", \"good\", \"menu\", \"time\", \"fresh\", \"amazing\", \"food\", \"year\", \"10\", \"love\", \"night\", \"beef\", \"montreal\", \"go\", \"fake\", \"watch\", \"say\", \"lunch\", \"restaurant\", \"noodle\", \"drink\", \"walk\", \"serve\", \"circus\", \"forum\", \"busy\", \"get\", \"end\", \"susten28\", \"point\", \"item\", \"niguel\", \"sw\", \"country\", \"store\", \"43\", \"city\", \"price\", \"square\", \"fun\", \"5\", \"find\", \"reservation\", \"joint\", \"busy\", \"past\", \"ask\", \"hot\", \"live\", \"feel\", \"length\", \"steak\", \"file\", \"good\", \"provide\", \"job\", \"br9990\", \"later\", \"food\", \"come\", \"amazing\", \"love\", \"friendly\", \"watch\", \"fast\", \"get\", \"hour\", \"great\", \"beef\", \"go\", \"place\", \"night\", \"dinner\", \"work\", \"service\", \"year\", \"time\", \"fresh\", \"star\", \"lunch\", \"little\", \"\\\\n\\\\n\", \"stay\", \"couple\", \"fake\", \"menu\", \"bad\", \"world\", \"massage\", \"try14\", \"pop\", \"indie\", \"friend17\", \"expand\", \"9983\", \"wow\", \"authentic\", \"look\", \"vegas\", \"3\", \"technician\", \"mall\", \"fly\", \"latin\", \"busy\", \"service\", \"joint\", \"0\", \"10\", \"try\", \"far\", \"end\", \"fast\", \"ma12\", \"pay\", \"test\", \"awesome\", \"good\", \"chance\", \"get\", \"couple\", \"place\", \"great\", \"new\", \"bad\", \"food\", \"go\", \"\\\\n\\\\n\", \"come\", \"friendly\", \"amazing\", \"restaurant\", \"time\", \"year\", \"love\", \"fresh\", \"work\", \"fake\", \"dinner\", \"forum\", \"hope\", \"salesp9989\", \"slider\", \"carpaccio9982\", \"party\", \"oak\", \"cold\", \"watch\", \"open\", \"fun\", \"noodle\", \"look9998\", \"ayce\", \"pop\", \"15\", \"previous\", \"quick\", \"25\", \"portion\", \"little\", \"end\", \"serve\", \"job\", \"time\", \"yes\", \"diana\", \"los\", \"appropriate\", \"preppe\", \"lunch\", \"food\", \"fresh\", \"enjoy\", \"place\", \"try\", \"great\", \"come\", \"service\", \"walk\", \"staff\", \"go\", \"couple\", \"professional\", \"love\", \"amazing\", \"good\", \"get\", \"fake\", \"bad\", \"dinner\", \"year\", \"\\\\n\\\\n\", \"night\", \"friendly\", \"work\", \"9983\", \"16\", \"sport\", \"great\", \"hot\", \"wife\", \"shopping\", \"dad\", \"talk\", \"grab\", \"favourite\", \"ma12\", \"small\", \"length\", \"management\", \"900pm\", \"stand\", \"step\", \"cold\", \"se26\", \"hungry\", \"pho\", \"absolute\", \"parathas\", \"knight\", \"incredible\", \"ka9993\", \"high\", \"expensive\", \"thw\", \"menu\", \"fake\", \"purchase\", \"review\", \"time\", \"place\", \"chance\", \"good\", \"excited\", \"food\", \"owner\", \"service\", \"open\", \"tasty\", \"far\", \"price\", \"visit\", \"24\", \"dinner\", \"love\", \"go\", \"\\\\n\\\\n\", \"work\", \"friendly\", \"absolutely\", \"get\", \"amazing\", \"come\", \"long\", \"night\", \"bad\", \"couple\", \"fresh\", \"year\", \"read\", \"wow\", \"truly\", \"game\", \"wi9987\", \"month\", \"toronto\", \"junctionites\", \"run\", \"year\", \"hard\", \"clean\", \"watch\", \"little\", \"tokens\", \"daniel\", \"ambience\", \"700\", \"shut\", \"9971\", \"expensive\", \"thw\", \"instead\", \"shops\", \"35\", \"review\", \"vegas\", \"test\", \"service\", \"25\", \"good\", \"come\", \"24\", \"star\", \"dinner\", \"work\", \"noodle\", \"bad\", \"menu\", \"kid\", \"visit\", \"place\", \"get\", \"time\", \"\\\\n\\\\n\", \"lunch\", \"friendly\", \"go\", \"amazing\", \"great\", \"love\", \"fake\", \"food\", \"couple\", \"night\", \"fresh\", \"tour\", \"encourage\", \"casual\", \"name\", \"guarantee\", \"9970\", \"long\", \"diana\", \"ask\", \"recommend\", \"jack\", \"laguna\", \"w9976\", \"charlotte\", \"lovely\", \"instead\", \"drink\", \"circus\", \"dandan\", \"place11\", \"selection\", \"latin\", \"\\\\13\", \"expert\", \"sure\", \"minute\", \"sushi\", \"friend17\", \"time\", \"preppe\", \"go\", \"bad\", \"purchase\", \"\\\\n\\\\n\", \"dinner\", \"year\", \"place\", \"great\", \"love\", \"get\", \"2\", \"fake\", \"walk\", \"come\", \"friendly\", \"restaurant\", \"watch\", \"food\", \"amazing\", \"service\", \"good\", \"look\", \"menu\", \"stay\", \"24\", \"night\", \"couple\", \"fresh\", \"work\", \"morning\", \"10\", \"charge\", \"togo\", \"save\", \"marketing\", \"loga\", \"object\", \"burger9978\", \"buffet\", \"reservation\", \"9995\", \"professional\", \"couple\", \"mexican\", \"perfe7\", \"square\", \"wond23\", \"junctionites\", \"mac\", \"iv20\", \"1299\", \"far\", \"minute\", \"actually\", \"joint\", \"in9984\", \"shops\", \"noodle\", \"grou4\", \"go\", \"menu\", \"work\", \"circus\", \"\\\\n\\\\n\", \"get\", \"salon\", \"time\", \"excited\", \"good\", \"food\", \"year\", \"night\", \"fresh\", \"staff\", \"service\", \"place\", \"street\", \"amazing\", \"come\", \"tasty\", \"hour\", \"great\", \"bad\", \"love\", \"dinner\", \"fake\", \"friendly\", \"groupon\", \"finally\", \"package\", \"19\", \"beef\", \"door\", \"stock\", \"night\", \"close\", \"fresh\", \"guy\", \"restaurant\", \"service\", \"guarantee\", \"combo\", \"spot\", \"slider\", \"stay\", \"maryann\", \"\\\\n\", \"remember\", \"give\", \"colean\", \"great\", \"indie\", \"feel\", \"tonight\", \"se26\", \"ove6\", \"indian\", \"say\", \"work\", \"fake\", \"menu\", \"fast\", \"food\", \"owner\", \"place\", \"come\", \"amazing\", \"salon\", \"\\\\n\\\\n\", \"couple\", \"2\", \"circus\", \"drink\", \"bad\", \"excited\", \"get\", \"good\", \"time\", \"go\", \"love\", \"dinner\", \"friendly\", \"year\", \"serve\", \"drive\", \"town\", \"9037\", \"shop\", \"attentive\", \"file\", \"sushi\", \"3\", \"like\", \"subway\", \"lunch\", \"lot\", \"street\", \"sit\", \"sever\", \"happy\", \"parathas\", \"dozen\", \"burger\", \"today\", \"excellent\", \"laguna\", \"week\", \"see\", \"\\\\n9994\", \"perfe7\", \"walk\", \"groupon\", \"overwh9986\", \"fun\", \"love\", \"night\", \"10\", \"good\", \"fake\", \"amazing\", \"go\", \"place\", \"great\", \"year\", \"service\", \"friendly\", \"time\", \"dinner\", \"new\", \"beef\", \"restaurant\", \"get\", \"food\", \"menu\", \"come\", \"\\\\n\\\\n\", \"bad\", \"couple\", \"long\", \"absolutely\", \"work\", \"fresh\", \"montreal\", \"35\", \"charlotte\", \"\\\\n\\\\n\", \"mu9977\", \"family\", \"notch\", \"say\", \"touch\", \"actually\", \"fresh\", \"iv20\", \"later\", \"step\", \"8\", \"700\", \"c2\", \"las\", \"retailer\", \"selection\", \"knight\", \"end\", \"friend\", \"expert\", \"sw\", \"order\", \"amazing\", \"kraft\", \"beware\", \"tour\", \"drink\", \"menu\", \"buffet\", \"get\", \"food\", \"love\", \"time\", \"enjoy\", \"awesome\", \"good\", \"great\", \"go\", \"busy\", \"customer\", \"24\", \"circus\", \"bartender\", \"place\", \"owner\", \"come\", \"fake\", \"work\", \"bad\", \"dinner\", \"night\", \"service\", \"friendly\"], \"Total\": [69587.0, 51283.0, 68687.0, 98061.0, 30973.0, 60028.0, 30303.0, 50393.0, 69089.0, 29565.0, 20046.0, 40178.0, 30592.0, 20497.0, 10493.0, 50120.0, 30455.0, 19641.0, 20520.0, 20112.0, 20345.0, 20027.0, 20299.0, 20310.0, 10359.0, 20102.0, 9829.0, 19602.0, 49947.0, 19873.0, 9842.7412109375, 10036.412109375, 9714.8974609375, 9878.484375, 9993.763671875, 9722.6923828125, 9903.021484375, 9762.830078125, 9966.1767578125, 19456.80859375, 9856.6220703125, 19678.12890625, 10035.3935546875, 10132.3837890625, 10031.171875, 19579.798828125, 19602.111328125, 9901.380859375, 9732.052734375, 9712.021484375, 9858.3623046875, 9869.98046875, 9863.6044921875, 9910.326171875, 10023.09765625, 98061.9375, 9996.7451171875, 9930.9404296875, 9872.96875, 9990.5009765625, 69089.265625, 49005.2890625, 50393.1640625, 40178.671875, 29646.82421875, 19641.1328125, 19596.44140625, 49947.07421875, 19724.833984375, 69587.0703125, 20497.765625, 50120.1953125, 59525.1171875, 30592.36328125, 30029.82421875, 29966.78125, 68687.5078125, 29565.939453125, 60028.609375, 30303.16015625, 19806.48046875, 20112.6328125, 19676.349609375, 51283.37890625, 19911.5234375, 29811.30859375, 30455.345703125, 30973.248046875, 30088.443359375, 9849.939453125, 19664.078125, 9923.3583984375, 9933.962890625, 10065.1669921875, 9882.328125, 9810.2265625, 9564.2880859375, 9749.16015625, 9971.5517578125, 19909.73046875, 19595.83984375, 9964.2392578125, 10085.69140625, 9661.8017578125, 9900.791015625, 10004.66796875, 19602.111328125, 68687.5078125, 19579.798828125, 10003.8359375, 20046.5859375, 19638.91015625, 19843.02734375, 19873.998046875, 19596.44140625, 9698.3701171875, 9945.93359375, 10059.138671875, 19794.197265625, 98061.9375, 19502.6796875, 49947.07421875, 29811.30859375, 59525.1171875, 69587.0703125, 20116.89453125, 30088.443359375, 69089.265625, 50120.1953125, 51283.37890625, 49005.2890625, 29646.82421875, 50393.1640625, 20345.728515625, 60028.609375, 29565.939453125, 40178.671875, 30303.16015625, 29966.78125, 30455.345703125, 30029.82421875, 9829.6279296875, 9851.1904296875, 9895.5634765625, 9876.943359375, 10004.2734375, 9922.6884765625, 9929.025390625, 9836.94921875, 19641.1328125, 19951.048828125, 19678.12890625, 20027.484375, 9973.6943359375, 9718.94140625, 9933.962890625, 10122.439453125, 10006.2763671875, 10027.0458984375, 9971.849609375, 9957.849609375, 19676.349609375, 19873.998046875, 10359.0859375, 9930.9404296875, 60028.609375, 9970.615234375, 9794.05078125, 9891.5, 10104.861328125, 10039.7099609375, 20112.6328125, 69089.265625, 30303.16015625, 19851.662109375, 59525.1171875, 19638.91015625, 69587.0703125, 49005.2890625, 68687.5078125, 20310.341796875, 20109.69921875, 50120.1953125, 29811.30859375, 20126.06640625, 40178.671875, 50393.1640625, 98061.9375, 49947.07421875, 30455.345703125, 30088.443359375, 30029.82421875, 29565.939453125, 51283.37890625, 30592.36328125, 29646.82421875, 29966.78125, 9564.2880859375, 9970.1650390625, 9906.017578125, 69587.0703125, 9712.021484375, 10168.5048828125, 9860.572265625, 9992.5625, 9979.822265625, 10003.6904296875, 9928.30859375, 9698.3701171875, 10017.9697265625, 9863.6044921875, 10100.9501953125, 10019.3330078125, 10136.1318359375, 10139.26953125, 9836.94921875, 9879.0283203125, 9810.1220703125, 9887.037109375, 9838.576171875, 10171.1494140625, 9946.27734375, 9885.9130859375, 10221.8525390625, 9798.6640625, 10098.4228515625, 9725.8515625, 30973.248046875, 30455.345703125, 19778.98828125, 20024.609375, 60028.609375, 59525.1171875, 19502.6796875, 98061.9375, 19988.50390625, 69089.265625, 20235.16796875, 68687.5078125, 19951.048828125, 20092.728515625, 19843.02734375, 19456.80859375, 20206.779296875, 19833.5546875, 30029.82421875, 40178.671875, 50120.1953125, 51283.37890625, 29966.78125, 29646.82421875, 20006.30859375, 49947.07421875, 50393.1640625, 49005.2890625, 20091.99609375, 30592.36328125, 30088.443359375, 29811.30859375, 30303.16015625, 29565.939453125, 9965.17578125, 9749.16015625, 10019.787109375, 10088.900390625, 10045.7744140625, 9932.5009765625, 10001.1123046875, 10044.794921875, 10010.0009765625, 29565.939453125, 9862.6630859375, 10158.0634765625, 19641.1328125, 19676.349609375, 10130.2587890625, 10148.654296875, 10096.265625, 10325.9248046875, 9906.4375, 9939.9931640625, 10098.4228515625, 9725.8515625, 10269.98828125, 9935.623046875, 10127.513671875, 20024.609375, 19595.83984375, 10059.138671875, 68687.5078125, 9971.849609375, 98061.9375, 49005.2890625, 19833.5546875, 19806.48046875, 30029.82421875, 29966.78125, 20027.484375, 30088.443359375, 30973.248046875, 19936.2421875, 20206.779296875, 59525.1171875, 49947.07421875, 60028.609375, 51283.37890625, 20112.6328125, 29646.82421875, 50120.1953125, 50393.1640625, 69587.0703125, 40178.671875, 30455.345703125, 69089.265625, 29811.30859375, 30592.36328125, 30303.16015625, 10081.0361328125, 9883.6005859375, 10164.17578125, 10054.5673828125, 10116.9833984375, 10110.171875, 20091.99609375, 9794.05078125, 9732.052734375, 10159.6494140625, 10227.3740234375, 10262.1767578125, 10154.3203125, 10320.205078125, 10097.0693359375, 10269.98828125, 20299.7265625, 20102.572265625, 10038.18359375, 9954.3984375, 10277.341796875, 10004.66796875, 9867.0576171875, 10351.0380859375, 10066.357421875, 10075.3603515625, 10285.8037109375, 9882.328125, 60028.609375, 10039.7099609375, 50120.1953125, 30088.443359375, 19778.98828125, 51283.37890625, 30029.82421875, 29565.939453125, 59525.1171875, 69587.0703125, 40178.671875, 49947.07421875, 20228.291015625, 30455.345703125, 20310.341796875, 49005.2890625, 29646.82421875, 20345.728515625, 19641.1328125, 69089.265625, 50393.1640625, 68687.5078125, 98061.9375, 19909.73046875, 30973.248046875, 19911.5234375, 19833.5546875, 30592.36328125, 29811.30859375, 30303.16015625, 29966.78125, 9977.4462890625, 20046.5859375, 9949.1181640625, 10225.955078125, 10068.671875, 9924.1572265625, 10129.5009765625, 10186.3994140625, 10004.5029296875, 20147.669921875, 10031.171875, 10007.8447265625, 20126.06640625, 29811.30859375, 10250.3681640625, 10241.8291015625, 9856.6220703125, 9928.8154296875, 10044.794921875, 9990.4365234375, 10121.7421875, 10123.408203125, 19843.02734375, 10075.3603515625, 10278.8134765625, 19579.798828125, 10092.5625, 9935.623046875, 20027.484375, 10065.8525390625, 50120.1953125, 30973.248046875, 29966.78125, 20102.572265625, 51283.37890625, 49947.07421875, 19945.974609375, 60028.609375, 19988.50390625, 98061.9375, 69089.265625, 29565.939453125, 30592.36328125, 30303.16015625, 20109.69921875, 68687.5078125, 59525.1171875, 20292.26953125, 50393.1640625, 49005.2890625, 20092.728515625, 19724.833984375, 69587.0703125, 30088.443359375, 40178.671875, 30029.82421875, 30455.345703125, 29646.82421875, 10086.47265625, 10330.8193359375, 10007.4580078125, 10062.2353515625, 20497.765625, 10144.2001953125, 10041.140625, 30592.36328125, 10108.923828125, 30303.16015625, 10032.265625, 20345.728515625, 68687.5078125, 10116.9833984375, 9945.447265625, 10015.2880859375, 9876.943359375, 19911.5234375, 9934.0283203125, 9950.015625, 10002.7509765625, 9932.1474609375, 10143.802734375, 69587.0703125, 10065.1669921875, 9869.98046875, 10079.4296875, 9879.0283203125, 9971.8671875, 10079.2333984375, 20520.517578125, 29966.78125, 30455.345703125, 30973.248046875, 19596.44140625, 69089.265625, 20235.16796875, 59525.1171875, 49005.2890625, 50393.1640625, 19945.974609375, 51283.37890625, 29811.30859375, 20228.291015625, 20102.572265625, 20299.7265625, 30088.443359375, 19988.50390625, 49947.07421875, 98061.9375, 60028.609375, 50120.1953125, 40178.671875, 30029.82421875, 29646.82421875, 29565.939453125, 10359.0859375, 10422.1748046875, 10244.8564453125, 10175.65625, 10184.365234375, 10095.890625, 10023.09765625, 10285.8037109375, 9964.2392578125, 10133.7685546875, 10023.0390625, 20112.6328125, 10114.3369140625, 20292.26953125, 10189.0126953125, 10146.5849609375, 10263.8427734375, 10171.1494140625, 10039.3056640625, 10197.98828125, 10240.6875, 10070.6787109375, 10262.1767578125, 10182.1533203125, 10133.353515625, 10200.62109375, 10241.8291015625, 20310.341796875, 10086.47265625, 9999.6005859375, 19678.12890625, 40178.671875, 30592.36328125, 20046.5859375, 98061.9375, 30455.345703125, 50393.1640625, 50120.1953125, 59525.1171875, 69587.0703125, 29565.939453125, 68687.5078125, 29646.82421875, 60028.609375, 30029.82421875, 20116.89453125, 20497.765625, 20345.728515625, 49947.07421875, 69089.265625, 30973.248046875, 49005.2890625, 51283.37890625, 30088.443359375, 29811.30859375, 20091.99609375, 20006.30859375, 29966.78125, 30303.16015625, 10493.3251953125, 10127.513671875, 10320.205078125, 51283.37890625, 10180.1494140625, 10150.6328125, 10112.0830078125, 20520.517578125, 9920.5966796875, 10278.8134765625, 30303.16015625, 10121.7421875, 9990.5009765625, 10139.26953125, 10052.4248046875, 10325.9248046875, 10133.4658203125, 10013.95703125, 10253.79296875, 10277.341796875, 9946.27734375, 19873.998046875, 10063.5751953125, 10351.0380859375, 9993.763671875, 10107.84375, 50393.1640625, 10012.0625, 10081.9306640625, 10081.0361328125, 20299.7265625, 30973.248046875, 20147.669921875, 49947.07421875, 69089.265625, 40178.671875, 60028.609375, 19851.662109375, 19794.197265625, 98061.9375, 69587.0703125, 50120.1953125, 19602.111328125, 19796.34765625, 19833.5546875, 20102.572265625, 20247.72265625, 59525.1171875, 20235.16796875, 49005.2890625, 30455.345703125, 29966.78125, 30088.443359375, 30029.82421875, 30592.36328125, 68687.5078125, 29646.82421875], \"loglift\": [30.0, 29.0, 28.0, 27.0, 26.0, 25.0, 24.0, 23.0, 22.0, 21.0, 20.0, 19.0, 18.0, 17.0, 16.0, 15.0, 14.0, 13.0, 12.0, 11.0, 10.0, 9.0, 8.0, 7.0, 6.0, 5.0, 4.0, 3.0, 2.0, 1.0, 0.4431000053882599, 0.3312999904155731, 0.31940001249313354, 0.3190999925136566, 0.31700000166893005, 0.3061000108718872, 0.29670000076293945, 0.27970001101493835, 0.271699994802475, 0.2669999897480011, 0.2554999887943268, 0.25200000405311584, 0.251800000667572, 0.24959999322891235, 0.249099999666214, 0.24889999628067017, 0.24619999527931213, 0.2442999929189682, 0.24250000715255737, 0.23729999363422394, 0.23280000686645508, 0.2298000007867813, 0.22830000519752502, 0.22349999845027924, 0.22300000488758087, 0.21969999372959137, 0.21639999747276306, 0.2150000035762787, 0.21230000257492065, 0.210999995470047, 0.2021999955177307, 0.2045000046491623, 0.19580000638961792, 0.19460000097751617, 0.16820000112056732, 0.1527000069618225, 0.14550000429153442, 0.011500000022351742, 0.13660000264644623, -0.061000000685453415, 0.11819999665021896, -0.03579999879002571, -0.07599999755620956, 0.033399999141693115, 0.03220000118017197, 0.02500000037252903, -0.15119999647140503, 0.018699999898672104, -0.1664000004529953, -0.026200000196695328, 0.09830000251531601, 0.09009999781847, 0.09290000051259995, -0.23649999499320984, 0.08179999887943268, -0.14249999821186066, -0.2071000039577484, -0.2809999883174896, -0.290800005197525, 0.3531999886035919, 0.3433000147342682, 0.3301999866962433, 0.32510000467300415, 0.289000004529953, 0.287200003862381, 0.2867000102996826, 0.27730000019073486, 0.2694999873638153, 0.25839999318122864, 0.2513999938964844, 0.24819999933242798, 0.24709999561309814, 0.23980000615119934, 0.21629999577999115, 0.21449999511241913, 0.2126999944448471, 0.21240000426769257, 0.20569999516010284, 0.2054000049829483, 0.2012999951839447, 0.20059999823570251, 0.1914999932050705, 0.19099999964237213, 0.1899999976158142, 0.18930000066757202, 0.18700000643730164, 0.1793999969959259, 0.17919999361038208, 0.17499999701976776, 0.1573999971151352, 0.1598999947309494, 0.10279999673366547, 0.12139999866485596, 0.039799999445676804, 0.023600000888109207, 0.14550000429153442, 0.09589999914169312, -0.017100000753998756, 0.02669999934732914, -0.006200000178068876, -0.022600000724196434, 0.0714000016450882, -0.052000001072883606, 0.13199999928474426, -0.13330000638961792, 0.030500000342726707, -0.09669999778270721, -0.04280000180006027, -0.05469999834895134, -0.17329999804496765, -0.19820000231266022, 0.5090000033378601, 0.34950000047683716, 0.33709999918937683, 0.33379998803138733, 0.33379998803138733, 0.3109000027179718, 0.3100999891757965, 0.3046000003814697, 0.29829999804496765, 0.27390000224113464, 0.26460000872612, 0.26269999146461487, 0.2603999972343445, 0.2533999979496002, 0.24740000069141388, 0.24639999866485596, 0.23770000040531158, 0.2287999987602234, 0.2280000001192093, 0.22660000622272491, 0.22100000083446503, 0.2199999988079071, 0.21770000457763672, 0.20600000023841858, 0.20479999482631683, 0.19830000400543213, 0.1940000057220459, 0.19370000064373016, 0.19280000030994415, 0.19220000505447388, 0.18080000579357147, 0.11789999902248383, 0.14350000023841858, 0.163100004196167, 0.09650000184774399, 0.15850000083446503, 0.04340000078082085, 0.07010000199079514, 0.02889999933540821, 0.1518000066280365, 0.14560000598430634, 0.014999999664723873, 0.06769999861717224, 0.13279999792575836, 0.008200000040233135, -0.04430000111460686, -0.19480000436306, -0.09279999881982803, 0.02329999953508377, 0.024000000208616257, 0.02319999970495701, 0.017100000753998756, -0.16410000622272491, -0.011900000274181366, -0.09529999643564224, -0.12150000035762787, 0.3398999869823456, 0.3142000138759613, 0.31220000982284546, 0.2838999927043915, 0.27469998598098755, 0.26759999990463257, 0.2651999890804291, 0.26339998841285706, 0.2614000141620636, 0.26019999384880066, 0.2581999897956848, 0.24560000002384186, 0.23839999735355377, 0.23589999973773956, 0.23549999296665192, 0.23399999737739563, 0.2312999963760376, 0.23080000281333923, 0.22660000622272491, 0.22290000319480896, 0.2224999964237213, 0.22190000116825104, 0.2184000015258789, 0.2167000025510788, 0.21559999883174896, 0.21389999985694885, 0.21240000426769257, 0.20919999480247498, 0.20739999413490295, 0.2062000036239624, 0.20000000298023224, 0.17190000414848328, 0.16300000250339508, 0.15860000252723694, 0.06719999760389328, 0.06289999932050705, 0.16019999980926514, 0.012199999764561653, 0.15299999713897705, 0.024900000542402267, 0.1462000012397766, -0.03909999877214432, 0.12919999659061432, 0.1265999972820282, 0.1265999972820282, 0.12780000269412994, 0.11739999800920486, 0.1160999983549118, 0.04039999842643738, -0.03420000150799751, -0.08940000087022781, -0.09650000184774399, 0.01720000058412552, 0.01889999955892563, 0.10849999636411667, -0.12559999525547028, -0.12919999659061432, -0.16040000319480896, 0.0949999988079071, -0.05689999833703041, -0.05460000038146973, -0.08540000021457672, -0.20489999651908875, -0.19030000269412994, 0.438400000333786, 0.43549999594688416, 0.3878999948501587, 0.350600004196167, 0.3495999872684479, 0.3449999988079071, 0.303600013256073, 0.2921999990940094, 0.2865999937057495, 0.28439998626708984, 0.28139999508857727, 0.2777999937534332, 0.26989999413490295, 0.2685000002384186, 0.2451999932527542, 0.2282000035047531, 0.2272000014781952, 0.22100000083446503, 0.21709999442100525, 0.21610000729560852, 0.21439999341964722, 0.21310000121593475, 0.21119999885559082, 0.2093999981880188, 0.20319999754428864, 0.19820000231266022, 0.1931000053882599, 0.19110000133514404, 0.18880000710487366, 0.18469999730587006, 0.1754000037908554, 0.1696999967098236, 0.18379999697208405, 0.16760000586509705, 0.13729999959468842, 0.13590000569820404, 0.16220000386238098, 0.12359999865293503, 0.1200999990105629, 0.15729999542236328, 0.1550000011920929, 0.012600000016391277, 0.02969999983906746, 0.0032999999821186066, -0.051899999380111694, 0.13770000636577606, 0.04780000075697899, -0.09709999710321426, -0.15309999883174896, -0.27059999108314514, -0.09870000183582306, -0.012799999676644802, -0.32269999384880066, -0.008500000461935997, -0.05609999969601631, -0.24639999866485596, 0.34700000286102295, 0.3066999912261963, 0.2903999984264374, 0.287200003862381, 0.24150000512599945, 0.23260000348091125, 0.22869999706745148, 0.22789999842643738, 0.22470000386238098, 0.22450000047683716, 0.22089999914169312, 0.2206999957561493, 0.21770000457763672, 0.21140000224113464, 0.2085999995470047, 0.20559999346733093, 0.20340000092983246, 0.20309999585151672, 0.20110000669956207, 0.2004999965429306, 0.19990000128746033, 0.1979999989271164, 0.19769999384880066, 0.19660000503063202, 0.1965000033378601, 0.19470000267028809, 0.1826000064611435, 0.18250000476837158, 0.1808999925851822, 0.17759999632835388, 0.16779999434947968, 0.17260000109672546, 0.17649999260902405, 0.16519999504089355, 0.16089999675750732, 0.15919999778270721, 0.09889999777078629, 0.08910000324249268, 0.12189999967813492, 0.08190000057220459, 0.14730000495910645, 0.10599999874830246, 0.14159999787807465, 0.03959999978542328, 0.08410000056028366, 0.13289999961853027, 0.1371999979019165, -0.03929999843239784, -0.01269999984651804, -0.08110000193119049, -0.14190000295639038, 0.11180000007152557, 0.017899999395012856, 0.10130000114440918, 0.08969999849796295, -0.08380000293254852, -0.0917000025510788, -0.12729999423027039, -0.289900004863739, 0.4494999945163727, 0.4059000015258789, 0.367000013589859, 0.3610999882221222, 0.35269999504089355, 0.3515999913215637, 0.33570000529289246, 0.29910001158714294, 0.2669000029563904, 0.26420000195503235, 0.2619999945163727, 0.25920000672340393, 0.25870001316070557, 0.2567000091075897, 0.24969999492168427, 0.24320000410079956, 0.24250000715255737, 0.2401999980211258, 0.24009999632835388, 0.23430000245571136, 0.23389999568462372, 0.23260000348091125, 0.22769999504089355, 0.22349999845027924, 0.22349999845027924, 0.22300000488758087, 0.2206999957561493, 0.21070000529289246, 0.20630000531673431, 0.20200000703334808, 0.1995999962091446, 0.17229999601840973, 0.16120000183582306, 0.18479999899864197, 0.11840000003576279, 0.09619999676942825, 0.17339999973773956, 0.06769999861717224, 0.16660000383853912, -0.012900000438094139, 0.016699999570846558, 0.1088000014424324, 0.08320000022649765, 0.08079999685287476, 0.14640000462532043, -0.065700002014637, -0.11959999799728394, 0.13300000131130219, -0.15610000491142273, -0.15309999883174896, 0.13169999420642853, 0.1378999948501587, -0.4007999897003174, -0.0706000030040741, -0.3343999981880188, -0.14169999957084656, -0.2207999974489212, -0.20170000195503235, 0.38580000400543213, 0.37389999628067017, 0.33799999952316284, 0.32199999690055847, 0.31299999356269836, 0.30219998955726624, 0.28279998898506165, 0.27570000290870667, 0.2750999927520752, 0.2551000118255615, 0.2540000081062317, 0.2526000142097473, 0.24690000712871552, 0.2459000051021576, 0.24289999902248383, 0.23800000548362732, 0.23360000550746918, 0.23149999976158142, 0.22869999706745148, 0.22550000250339508, 0.22179999947547913, 0.21719999611377716, 0.2160000056028366, 0.21549999713897705, 0.21389999985694885, 0.2101999968290329, 0.2101999968290329, 0.19859999418258667, 0.1965000033378601, 0.19280000030994415, 0.18700000643730164, 0.17990000545978546, 0.1574999988079071, 0.14740000665187836, 0.15710000693798065, 0.01720000058412552, 0.13619999587535858, -0.0020000000949949026, 0.019899999722838402, 0.010499999858438969, 0.13210000097751617, -0.00139999995008111, 0.07289999723434448, 0.12489999830722809, 0.12300000339746475, 0.11800000071525574, 0.02539999969303608, 0.10260000079870224, -0.16009999811649323, -0.3921000063419342, -0.2791999876499176, -0.23479999601840973, -0.1589999943971634, -0.08990000188350677, -0.15389999747276306, -0.23229999840259552, 0.4016000032424927, 0.36390000581741333, 0.31839999556541443, 0.30169999599456787, 0.2939000129699707, 0.288100004196167, 0.28299999237060547, 0.26910001039505005, 0.2687000036239624, 0.2653999924659729, 0.2597000002861023, 0.2596000134944916, 0.2547000050544739, 0.250900000333786, 0.2493000030517578, 0.24690000712871552, 0.24480000138282776, 0.23890000581741333, 0.2354000061750412, 0.2313999980688095, 0.22660000622272491, 0.20419999957084656, 0.20149999856948853, 0.19910000264644623, 0.19779999554157257, 0.19760000705718994, 0.19679999351501465, 0.1941000074148178, 0.19120000302791595, 0.1907999962568283, 0.1882999986410141, 0.16619999706745148, 0.15860000252723694, 0.1720000058412552, 0.05820000171661377, 0.1257999986410141, 0.06199999898672104, 0.04270000010728836, 0.015399999916553497, -0.016899999231100082, 0.08340000361204147, -0.05849999934434891, 0.07150000333786011, -0.06019999831914902, 0.05000000074505806, 0.11869999766349792, 0.11479999870061874, 0.11289999634027481, -0.09380000084638596, -0.17520000040531158, 0.0006000000284984708, -0.1446000039577484, -0.15809999406337738, -0.010900000110268593, -0.011900000274181366, 0.10100000351667404, 0.1023000031709671, -0.08959999680519104, -0.2425999939441681, 0.48730000853538513, 0.3813000023365021, 0.37529999017715454, 0.3564999997615814, 0.34459999203681946, 0.3416000008583069, 0.3285999894142151, 0.3151000142097473, 0.2892000079154968, 0.28290000557899475, 0.2777999937534332, 0.2685000002384186, 0.26840001344680786, 0.26829999685287476, 0.2678999900817871, 0.2671999931335449, 0.2669999897480011, 0.2612000107765198, 0.2583000063896179, 0.25589999556541443, 0.2538999915122986, 0.2517000138759613, 0.24719999730587006, 0.2442999929189682, 0.2434999942779541, 0.24060000479221344, 0.21410000324249268, 0.21299999952316284, 0.20890000462532043, 0.20819999277591705, 0.18870000541210175, 0.15970000624656677, 0.1737000048160553, 0.10239999741315842, 0.05730000138282776, 0.11140000075101852, 0.019600000232458115, 0.15880000591278076, 0.15639999508857727, -0.10249999910593033, -0.09870000183582306, -0.06390000134706497, 0.1315000057220459, 0.12359999865293503, 0.10899999737739563, 0.10499999672174454, 0.1006999984383583, -0.18619999289512634, 0.0989999994635582, -0.1623000055551529, -0.03460000082850456, -0.05959999933838844, -0.07729999721050262, -0.0786999985575676, -0.0908999964594841, -0.534600019454956, -0.11680000275373459], \"logprob\": [30.0, 29.0, 28.0, 27.0, 26.0, 25.0, 24.0, 23.0, 22.0, 21.0, 20.0, 19.0, 18.0, 17.0, 16.0, 15.0, 14.0, 13.0, 12.0, 11.0, 10.0, 9.0, 8.0, 7.0, 6.0, 5.0, 4.0, 3.0, 2.0, 1.0, -5.756899833679199, -5.8491997718811035, -5.893700122833252, -5.877200126647949, -5.867800235748291, -5.906199932098389, -5.897200107574463, -5.928400039672852, -5.915900230407715, -5.251500129699707, -5.9430999755859375, -5.255199909210205, -5.928800106048584, -5.92140007019043, -5.9319000244140625, -5.263299942016602, -5.264900207519531, -5.94980001449585, -5.968800067901611, -5.97599983215332, -5.96560001373291, -5.967400074005127, -5.969600200653076, -5.969699859619141, -5.958799839019775, -3.6814000606536865, -5.968100070953369, -5.976099967956543, -5.984600067138672, -5.974100112915039, -4.049099922180176, -4.3902997970581055, -4.371099948883057, -4.598800182342529, -4.929100036621094, -5.356400012969971, -5.365900039672852, -4.564300060272217, -5.368199825286865, -4.305200099945068, -5.348199844360352, -4.608099937438965, -4.47629976272583, -5.032599925994873, -5.0524001121521, -5.061699867248535, -4.408400058746338, -5.081399917602539, -4.558300018310547, -5.1016998291015625, -5.402400016784668, -5.395199775695801, -5.414400100708008, -4.785900115966797, -5.413599967956543, -5.234399795532227, -5.277599811553955, -5.33459997177124, -5.3734002113342285, -5.846099853515625, -5.164599895477295, -5.861599922180176, -5.865699768066406, -5.888700008392334, -5.90880012512207, -5.916600227355957, -5.951399803161621, -5.940100193023682, -5.928599834442139, -5.244100093841553, -5.263199806213379, -5.9405999183654785, -5.9359002113342285, -6.002200126647949, -5.979599952697754, -5.9710001945495605, -5.298699855804443, -4.051499843597412, -5.30679988861084, -5.982500076293945, -5.288099765777588, -5.317800045013428, -5.307799816131592, -5.307300090789795, -5.3221001625061035, -6.0278000831604, -6.0100998878479, -5.999000072479248, -5.326300144195557, -3.743799924850464, -5.356299877166748, -4.4730000495910645, -4.9704999923706055, -4.360499858856201, -4.2204999923706055, -5.339600086212158, -4.986700057983398, -4.268499851226807, -4.545599937438965, -4.555500030517578, -4.617400169372559, -5.026000022888184, -4.618800163269043, -5.341899871826172, -4.525199890136719, -5.0696001052856445, -4.890100002288818, -5.118299961090088, -5.141300201416016, -5.24370002746582, -5.282800197601318, -5.692299842834473, -5.849699974060059, -5.857600212097168, -5.86269998550415, -5.849899768829346, -5.88100004196167, -5.881199836730957, -5.895999908447266, -5.2108001708984375, -5.219600200653076, -5.242599964141846, -5.226900100708008, -5.926400184631348, -5.959199905395508, -5.943399906158447, -5.92549991607666, -5.945799827575684, -5.952700138092041, -5.958899974822998, -5.9618000984191895, -5.286300182342529, -5.277299880981445, -5.93120002746582, -5.985099792480469, -4.187099933624268, -5.988800048828125, -6.011000156402588, -6.001299858093262, -5.980899810791016, -5.9878997802734375, -5.304599761962891, -4.133500099182129, -4.932000160217285, -5.335299968719482, -4.303800106048584, -5.3506999015808105, -4.200699806213379, -4.524700164794922, -4.2281999588012695, -5.323800086975098, -5.339900016784668, -4.557300090789795, -5.024099826812744, -5.351900100708008, -4.785099983215332, -4.611100196838379, -4.095900058746338, -4.668600082397461, -5.0472002029418945, -5.058599948883057, -5.061299800872803, -5.083000183105469, -4.713500022888184, -5.077899932861328, -5.192699909210205, -5.208099842071533, -5.888800144195557, -5.872900009155273, -5.881400108337402, -3.960200071334839, -5.938600063323975, -5.899799823760986, -5.933000087738037, -5.921500205993652, -5.924799919128418, -5.923600196838379, -5.93310022354126, -5.969200134277344, -5.943999767303467, -5.961999893188477, -5.938600063323975, -5.948200225830078, -5.939300060272217, -5.939499855041504, -5.973999977111816, -5.973400115966797, -5.980800151824951, -5.973599910736084, -5.98199987411499, -5.950500011444092, -5.973899841308594, -5.9816999435424805, -5.94980001449585, -5.995299816131592, -5.9670000076293945, -6.005799770355225, -4.853600025177002, -4.898600101470947, -5.339099884033203, -5.331099987030029, -4.324699878692627, -4.337500095367432, -5.355999946594238, -3.8889000415802, -5.338600158691406, -4.226399898529053, -5.333199977874756, -4.296299934387207, -5.364299774169922, -5.359799861907959, -5.372200012207031, -5.3907999992370605, -5.36329984664917, -5.383200168609619, -5.0441999435424805, -4.827499866485596, -4.661799907684326, -4.645899772644043, -5.069399833679199, -5.078499794006348, -5.382199764251709, -4.701300144195557, -4.696000099182129, -4.755199909210205, -5.39139986038208, -5.122900009155273, -5.137199878692627, -5.177299976348877, -5.280399799346924, -5.29040002822876, -5.749300003051758, -5.774099826812744, -5.794300079345703, -5.824699878692627, -5.829999923706055, -5.845900058746338, -5.88040018081665, -5.887499809265137, -5.896500110626221, -4.815700054168701, -5.916600227355957, -5.890699863433838, -5.239200115203857, -5.238800048828125, -5.926000118255615, -5.941199779510498, -5.947400093078613, -5.931099891662598, -5.976500034332275, -5.974100112915039, -5.95989990234375, -5.998799800872803, -5.946300029754639, -5.981200218200684, -5.968200206756592, -5.291600227355957, -5.318399906158447, -5.987199783325195, -4.068399906158447, -6.002299785614014, -3.725800037384033, -4.425099849700928, -5.3155999183654785, -5.333099842071533, -4.947199821472168, -4.950699806213379, -5.327400207519531, -4.959000110626221, -4.933499813079834, -5.3368000984191895, -5.325799942016602, -4.387700080871582, -4.54610013961792, -4.388599872589111, -4.60129976272583, -5.347700119018555, -5.049600124359131, -4.669400215148926, -4.719900131225586, -4.514800071716309, -4.892099857330322, -5.0833001136779785, -4.574100017547607, -5.100299835205078, -5.122099876403809, -5.321899890899658, -5.829100131988525, -5.889100074768066, -5.877399921417236, -5.891499996185303, -5.931000232696533, -5.9405999183654785, -5.257699966430664, -5.977099895477295, -5.986599922180176, -5.943900108337402, -5.940700054168701, -5.937600135803223, -5.951200008392334, -5.941299915313721, -5.96589994430542, -5.951900005340576, -5.27269983291626, -5.282700061798096, -5.979300022125244, -5.9882001876831055, -5.956900119781494, -5.9857001304626465, -5.999800205230713, -5.953000068664551, -5.980999946594238, -5.98199987411499, -5.973400115966797, -6.013500213623047, -4.210999965667725, -6.002500057220459, -4.4045000076293945, -4.909999847412109, -5.3256001472473145, -4.384099960327148, -4.923600196838379, -4.940899848937988, -4.301400184631348, -4.155099868774414, -4.671500205993652, -4.493899822235107, -5.332300186157227, -4.964399814605713, -5.334000110626221, -4.555200099945068, -5.013299942016602, -5.34089994430542, -5.3719000816345215, -4.290599822998047, -4.579599857330322, -4.338200092315674, -4.043000221252441, -5.383699893951416, -5.035699844360352, -5.394100189208984, -5.409599781036377, -5.149799823760986, -5.183499813079834, -5.2027997970581055, -5.376500129699707, -5.7368998527526855, -5.082799911499023, -5.822199821472168, -5.8007001876831055, -5.8246002197265625, -5.840199947357178, -5.835599899291992, -5.866600036621094, -5.916800022125244, -5.2195000648498535, -5.919000148773193, -5.924200057983398, -5.22599983215332, -4.835100173950195, -5.9096999168396, -5.917099952697754, -5.956099987030029, -5.951099872589111, -5.939599990844727, -5.950799942016602, -5.9380998611450195, -5.939199924468994, -5.271200180053711, -5.953100204467773, -5.93310022354126, -5.2891998291015625, -5.95419979095459, -5.979899883270264, -5.283299922943115, -5.975599765777588, -4.372700214385986, -4.88129997253418, -4.92549991607666, -5.30109977722168, -4.4309000968933105, -4.479599952697754, -5.320300102233887, -4.32420015335083, -5.324999809265137, -3.9140000343322754, -4.2347002029418945, -4.991300106048584, -4.982800006866455, -4.994699954986572, -5.339200019836426, -4.322800159454346, -4.519999980926514, -5.343400001525879, -4.722899913787842, -4.747900009155273, -5.354599952697754, -5.3668999671936035, -4.644999980926514, -5.15310001373291, -5.127799987792969, -5.226200103759766, -5.291299819946289, -5.299099922180176, -5.789700031280518, -5.777699947357178, -5.845399856567383, -5.855999946594238, -5.15339994430542, -5.867700099945068, -5.897200107574463, -4.790299892425537, -5.8983001708984375, -4.820400238037109, -5.9268999099731445, -5.22130012512207, -4.010200023651123, -5.926599979400635, -5.946700096130371, -5.9446001052856445, -5.9629998207092285, -5.263999938964844, -5.962100028991699, -5.963699817657471, -5.962100028991699, -5.973800182342529, -5.953800201416016, -4.028600215911865, -5.963799953460693, -5.986999988555908, -5.966100215911865, -5.997700214385986, -5.990499973297119, -5.983500003814697, -5.278299808502197, -4.906799793243408, -4.913000106811523, -4.906199932098389, -5.354300022125244, -4.2342000007629395, -5.343100070953369, -4.402299880981445, -4.574900150299072, -4.556300163269043, -5.361599922180176, -4.55079984664917, -5.018899917602539, -5.354800224304199, -5.3628997802734375, -5.358099937438965, -5.057199954986572, -5.388999938964844, -4.735899925231934, -4.2932000160217285, -4.671199798583984, -4.80709981918335, -4.952400207519531, -5.174499988555908, -5.251299858093262, -5.332399845123291, -5.747200012207031, -5.778900146484375, -5.8414998054504395, -5.864999771118164, -5.872000217437744, -5.886499881744385, -5.898799896240234, -5.8867998123168945, -5.919000148773193, -5.9054999351501465, -5.9222002029418945, -5.225800037384033, -5.918099880218506, -5.225500106811523, -5.916200160980225, -5.922699928283691, -5.913300037384033, -5.928199768066406, -5.944799900054932, -5.933199882507324, -5.933800220489502, -5.972899913787842, -5.9567999839782715, -5.9670000076293945, -5.973100185394287, -5.966700077056885, -5.963399887084961, -5.281499862670898, -5.984300136566162, -5.993299961090088, -5.318900108337402, -4.627200126647949, -4.907400131225586, -5.316699981689453, -3.842900037765503, -4.9446001052856445, -4.504899978637695, -4.529600143432617, -4.385000228881836, -4.261099815368652, -5.01669979095459, -4.3155999183654785, -5.0258002281188965, -4.452199935913086, -5.0345001220703125, -5.366499900817871, -5.3516998291015625, -5.360899925231934, -4.669600009918213, -4.426499843597412, -5.052999973297119, -4.7393999099731445, -4.707399845123291, -5.093500137329102, -5.103700160980225, -5.38539981842041, -5.388400077819824, -5.176300048828125, -5.3180999755859375, -5.64870023727417, -5.79010009765625, -5.777299880981445, -4.19290018081665, -5.821700096130371, -5.827600002288818, -5.844399929046631, -5.150199890136719, -5.902900218963623, -5.873700141906738, -4.797699928283691, -5.903600215911865, -5.9166998863220215, -5.9019999504089355, -5.910999774932861, -5.884900093078613, -5.903900146484375, -5.921500205993652, -5.9008002281188965, -5.900899887084961, -5.9355998039245605, -5.24560022354126, -5.930600166320801, -5.905399799346924, -5.941299915313721, -5.932799816131592, -4.352799892425537, -5.969900131225586, -5.967100143432617, -5.967800140380859, -5.287399768829346, -4.893899917602539, -5.309899806976318, -4.473400115966797, -4.193999767303467, -4.682000160217285, -4.372300148010254, -5.339700222015381, -5.344900131225586, -4.003699779510498, -4.342800140380859, -4.636199951171875, -5.3796000480651855, -5.377600193023682, -5.3902997970581055, -5.380899906158447, -5.377999782562256, -4.58650016784668, -5.380300045013428, -4.7571001052856445, -5.105100154876709, -5.146299839019775, -5.159900188446045, -5.163300037384033, -5.156899929046631, -4.7916998863220215, -5.214099884033203]}, \"token.table\": {\"Topic\": [1, 2, 3, 4, 5, 6, 7, 8, 9, 10, 1, 2, 3, 4, 5, 6, 7, 8, 9, 10, 1, 2, 3, 4, 5, 6, 7, 8, 9, 10, 1, 2, 3, 4, 5, 6, 7, 8, 9, 10, 1, 2, 3, 4, 5, 6, 7, 8, 9, 10, 1, 2, 3, 4, 5, 6, 7, 8, 9, 10, 1, 2, 3, 4, 5, 6, 7, 8, 9, 10, 1, 2, 3, 4, 5, 6, 7, 8, 9, 10, 1, 2, 3, 4, 5, 6, 7, 8, 9, 10, 1, 2, 3, 4, 5, 6, 7, 8, 9, 10, 1, 2, 3, 4, 5, 6, 7, 8, 9, 10, 1, 2, 3, 4, 5, 6, 7, 8, 9, 10, 1, 2, 3, 4, 5, 6, 7, 8, 9, 10, 1, 2, 3, 4, 5, 6, 7, 8, 9, 10, 1, 2, 3, 4, 5, 6, 7, 8, 9, 10, 1, 2, 3, 4, 5, 6, 7, 8, 9, 10, 1, 2, 3, 4, 5, 6, 7, 8, 9, 10, 1, 2, 3, 4, 5, 6, 7, 8, 9, 10, 1, 2, 3, 4, 5, 6, 7, 8, 9, 10, 1, 2, 3, 4, 5, 6, 7, 8, 9, 10, 1, 2, 3, 4, 5, 6, 7, 8, 9, 10, 1, 2, 3, 4, 5, 6, 7, 8, 9, 10, 1, 2, 3, 4, 5, 6, 7, 8, 9, 10, 1, 2, 3, 4, 5, 6, 7, 8, 9, 10, 1, 2, 3, 4, 5, 6, 7, 8, 9, 10, 1, 2, 3, 4, 5, 6, 7, 8, 9, 10, 1, 2, 3, 4, 5, 6, 7, 8, 9, 10, 1, 2, 3, 4, 5, 6, 7, 8, 9, 10, 1, 2, 3, 4, 5, 6, 7, 8, 9, 10, 1, 2, 3, 4, 5, 6, 7, 8, 9, 10, 1, 2, 3, 4, 5, 6, 7, 8, 9, 10, 1, 2, 3, 4, 5, 6, 7, 8, 9, 10, 1, 2, 3, 4, 5, 6, 7, 8, 9, 10, 1, 2, 3, 4, 5, 6, 7, 8, 9, 10, 1, 2, 3, 4, 5, 6, 7, 8, 9, 10, 1, 2, 3, 4, 5, 6, 7, 8, 9, 10, 1, 2, 3, 4, 5, 6, 7, 8, 9, 10, 1, 2, 3, 4, 5, 6, 7, 8, 9, 10, 1, 2, 3, 4, 5, 6, 7, 8, 9, 10, 1, 2, 3, 4, 5, 6, 7, 8, 9, 10, 1, 2, 3, 4, 5, 6, 7, 8, 9, 10, 1, 2, 3, 4, 5, 6, 7, 8, 9, 10, 1, 2, 3, 4, 5, 6, 7, 8, 9, 10, 1, 2, 3, 4, 5, 6, 7, 8, 9, 10, 1, 2, 3, 4, 5, 6, 7, 8, 9, 10, 1, 2, 3, 4, 5, 6, 7, 8, 9, 10, 1, 2, 3, 4, 5, 6, 7, 8, 9, 10, 1, 2, 3, 4, 5, 6, 7, 8, 9, 10, 1, 2, 3, 4, 5, 6, 7, 8, 9, 10, 1, 2, 3, 4, 5, 6, 7, 8, 9, 10, 1, 2, 3, 4, 5, 6, 7, 8, 9, 10, 1, 2, 3, 4, 5, 6, 7, 8, 9, 10, 1, 2, 3, 4, 5, 6, 7, 8, 9, 10, 1, 2, 3, 4, 5, 6, 7, 8, 9, 10, 1, 2, 3, 4, 5, 6, 7, 8, 9, 10, 1, 2, 3, 4, 5, 6, 7, 8, 9, 10, 1, 2, 3, 4, 5, 6, 7, 8, 9, 10, 1, 2, 3, 4, 5, 6, 7, 8, 9, 10, 1, 2, 3, 4, 5, 6, 7, 8, 9, 10, 1, 2, 3, 4, 5, 6, 7, 8, 9, 10, 1, 2, 3, 4, 5, 6, 7, 8, 9, 10, 1, 2, 3, 4, 5, 6, 7, 8, 9, 10, 1, 2, 3, 4, 5, 6, 7, 8, 9, 10, 1, 2, 3, 4, 5, 6, 7, 8, 9, 10, 1, 2, 3, 4, 5, 6, 7, 8, 9, 10, 1, 2, 3, 4, 5, 6, 7, 8, 9, 10, 1, 2, 3, 4, 5, 6, 7, 8, 9, 10, 1, 2, 3, 4, 5, 6, 7, 8, 9, 10, 1, 2, 3, 4, 5, 6, 7, 8, 9, 10, 1, 2, 3, 4, 5, 6, 7, 8, 9, 10, 1, 2, 3, 4, 5, 6, 7, 8, 9, 10, 1, 2, 3, 4, 5, 6, 7, 8, 9, 10, 1, 2, 3, 4, 5, 6, 7, 8, 9, 10, 1, 2, 3, 4, 5, 6, 7, 8, 9, 10, 1, 2, 3, 4, 5, 6, 7, 8, 9, 10, 1, 2, 3, 4, 5, 6, 7, 8, 9, 10, 1, 2, 3, 4, 5, 6, 7, 8, 9, 10, 1, 2, 3, 4, 5, 6, 7, 8, 9, 10, 1, 2, 3, 4, 5, 6, 7, 8, 9, 10, 1, 2, 3, 4, 5, 6, 7, 8, 9, 10, 1, 2, 3, 4, 5, 6, 7, 8, 9, 10, 1, 2, 3, 4, 5, 6, 7, 8, 9, 10, 1, 2, 3, 4, 5, 6, 7, 8, 9, 10, 1, 2, 3, 4, 5, 6, 7, 8, 9, 10, 1, 2, 3, 4, 5, 6, 7, 8, 9, 10, 1, 2, 3, 4, 5, 6, 7, 8, 9, 10, 1, 2, 3, 4, 5, 6, 7, 8, 9, 10, 1, 2, 3, 4, 5, 6, 7, 8, 9, 10, 1, 2, 3, 4, 5, 6, 7, 8, 9, 10, 1, 2, 3, 4, 5, 6, 7, 8, 9, 10, 1, 2, 3, 4, 5, 6, 7, 8, 9, 10, 1, 2, 3, 4, 5, 6, 7, 8, 9, 10, 1, 2, 3, 4, 5, 6, 7, 8, 9, 10, 1, 2, 3, 4, 5, 6, 7, 8, 9, 10, 1, 2, 3, 4, 5, 6, 7, 8, 9, 10, 1, 2, 3, 4, 5, 6, 7, 8, 9, 10, 1, 2, 3, 4, 5, 6, 7, 8, 9, 10, 1, 2, 3, 4, 5, 6, 7, 8, 9, 10, 1, 2, 3, 4, 5, 6, 7, 8, 9, 10, 1, 2, 3, 4, 5, 6, 7, 8, 9, 10, 1, 2, 3, 4, 5, 6, 7, 8, 9, 10, 1, 2, 3, 4, 5, 6, 7, 8, 9, 10, 1, 2, 3, 4, 5, 6, 7, 8, 9, 10, 1, 2, 3, 4, 5, 6, 7, 8, 9, 10, 1, 2, 3, 4, 5, 6, 7, 8, 9, 10, 1, 2, 3, 4, 5, 6, 7, 8, 9, 10, 1, 2, 3, 4, 5, 6, 7, 8, 9, 10, 1, 2, 3, 4, 5, 6, 7, 8, 9, 10, 1, 2, 3, 4, 5, 6, 7, 8, 9, 10, 1, 2, 3, 4, 5, 6, 7, 8, 9, 10, 1, 2, 3, 4, 5, 6, 7, 8, 9, 10, 1, 2, 3, 4, 5, 6, 7, 8, 9, 10, 1, 2, 3, 4, 5, 6, 7, 8, 9, 10, 1, 2, 3, 4, 5, 6, 7, 8, 9, 10, 1, 2, 3, 4, 5, 6, 7, 8, 9, 10, 1, 2, 3, 4, 5, 6, 7, 8, 9, 10, 1, 2, 3, 4, 5, 6, 7, 8, 9, 10, 1, 2, 3, 4, 5, 6, 7, 8, 9, 10, 1, 2, 3, 4, 5, 6, 7, 8, 9, 10, 1, 2, 3, 4, 5, 6, 7, 8, 9, 10, 1, 2, 3, 4, 5, 6, 7, 8, 9, 10, 1, 2, 3, 4, 5, 6, 7, 8, 9, 10, 1, 2, 3, 4, 5, 6, 7, 8, 9, 10, 1, 2, 3, 4, 5, 6, 7, 8, 9, 10, 1, 2, 3, 4, 5, 6, 7, 8, 9, 10, 1, 2, 3, 4, 5, 6, 7, 8, 9, 10, 1, 2, 3, 4, 5, 6, 7, 8, 9, 10, 1, 2, 3, 4, 5, 6, 7, 8, 9, 10, 1, 2, 3, 4, 5, 6, 7, 8, 9, 10, 1, 2, 3, 4, 5, 6, 7, 8, 9, 10, 1, 2, 3, 4, 5, 6, 7, 8, 9, 10, 1, 2, 3, 4, 5, 6, 7, 8, 9, 10, 1, 2, 3, 4, 5, 6, 7, 8, 9, 10, 1, 2, 3, 4, 5, 6, 7, 8, 9, 10, 1, 2, 3, 4, 5, 6, 7, 8, 9, 10, 1, 2, 3, 4, 5, 6, 7, 8, 9, 10, 1, 2, 3, 4, 5, 6, 7, 8, 9, 10, 1, 2, 3, 4, 5, 6, 7, 8, 9, 10, 1, 2, 3, 4, 5, 6, 7, 8, 9, 10, 1, 2, 3, 4, 5, 6, 7, 8, 9, 10, 1, 2, 3, 4, 5, 6, 7, 8, 9, 10, 1, 2, 3, 4, 5, 6, 7, 8, 9, 10, 1, 2, 3, 4, 5, 6, 7, 8, 9, 10, 1, 2, 3, 4, 5, 6, 7, 8, 9, 10, 1, 2, 3, 4, 5, 6, 7, 8, 9, 10, 1, 2, 3, 4, 5, 6, 7, 8, 9, 10, 1, 2, 3, 4, 5, 6, 7, 8, 9, 10, 1, 2, 3, 4, 5, 6, 7, 8, 9, 10, 1, 2, 3, 4, 5, 6, 7, 8, 9, 10, 1, 2, 3, 4, 5, 6, 7, 8, 9, 10, 1, 2, 3, 4, 5, 6, 7, 8, 9, 10, 1, 2, 3, 4, 5, 6, 7, 8, 9, 10, 1, 2, 3, 4, 5, 6, 7, 8, 9, 10, 1, 2, 3, 4, 5, 6, 7, 8, 9, 10, 1, 2, 3, 4, 5, 6, 7, 8, 9, 10, 1, 2, 3, 4, 5, 6, 7, 8, 9, 10, 1, 2, 3, 4, 5, 6, 7, 8, 9, 10, 1, 2, 3, 4, 5, 6, 7, 8, 9, 10, 1, 2, 3, 4, 5, 6, 7, 8, 9, 10, 1, 2, 3, 4, 5, 6, 7, 8, 9, 10, 1, 2, 3, 4, 5, 6, 7, 8, 9, 10, 1, 2, 3, 4, 5, 6, 7, 8, 9, 10, 1, 2, 3, 4, 5, 6, 7, 8, 9, 10, 1, 2, 3, 4, 5, 6, 7, 8, 9, 10, 1, 2, 3, 4, 5, 6, 7, 8, 9, 10, 1, 2, 3, 4, 5, 6, 7, 8, 9, 10, 1, 2, 3, 4, 5, 6, 7, 8, 9, 10, 1, 2, 3, 4, 5, 6, 7, 8, 9, 10, 1, 2, 3, 4, 5, 6, 7, 8, 9, 10, 1, 2, 3, 4, 5, 6, 7, 8, 9, 10, 1, 2, 3, 4, 5, 6, 7, 8, 9, 10, 1, 2, 3, 4, 5, 6, 7, 8, 9, 10, 1, 2, 3, 4, 5, 6, 7, 8, 9, 10, 1, 2, 3, 4, 5, 6, 7, 8, 9, 10, 1, 2, 3, 4, 5, 6, 7, 8, 9, 10, 1, 2, 3, 4, 5, 6, 7, 8, 9, 10, 1, 2, 3, 4, 5, 6, 7, 8, 9, 10, 1, 2, 3, 4, 5, 6, 7, 8, 9, 10, 1, 2, 3, 4, 5, 6, 7, 8, 9, 10, 1, 2, 3, 4, 5, 6, 7, 8, 9, 10, 1, 2, 3, 4, 5, 6, 7, 8, 9, 10, 1, 2, 3, 4, 5, 6, 7, 8, 9, 10, 1, 2, 3, 4, 5, 6, 7, 8, 9, 10, 1, 2, 3, 4, 5, 6, 7, 8, 9, 10, 1, 2, 3, 4, 5, 6, 7, 8, 9, 10, 1, 2, 3, 4, 5, 6, 7, 8, 9, 10, 1, 2, 3, 4, 5, 6, 7, 8, 9, 10, 1, 2, 3, 4, 5, 6, 7, 8, 9, 10, 1, 2, 3, 4, 5, 6, 7, 8, 9, 10, 1, 2, 3, 4, 5, 6, 7, 8, 9, 10, 1, 2, 3, 4, 5, 6, 7, 8, 9, 10, 1, 2, 3, 4, 5, 6, 7, 8, 9, 10, 1, 2, 3, 4, 5, 6, 7, 8, 9, 10, 1, 2, 3, 4, 5, 6, 7, 8, 9, 10, 1, 2, 3, 4, 5, 6, 7, 8, 9, 10, 1, 2, 3, 4, 5, 6, 7, 8, 9, 10, 1, 2, 3, 4, 5, 6, 7, 8, 9, 10, 1, 2, 3, 4, 5, 6, 7, 8, 9, 10, 1, 2, 3, 4, 5, 6, 7, 8, 9, 10, 1, 2, 3, 4, 5, 6, 7, 8, 9, 10, 1, 2, 3, 4, 5, 6, 7, 8, 9, 10, 1, 2, 3, 4, 5, 6, 7, 8, 9, 10, 1, 2, 3, 4, 5, 6, 7, 8, 9, 10, 1, 2, 3, 4, 5, 6, 7, 8, 9, 10, 1, 2, 3, 4, 5, 6, 7, 8, 9, 10, 1, 2, 3, 4, 5, 6, 7, 8, 9, 10, 1, 2, 3, 4, 5, 6, 7, 8, 9, 10, 1, 2, 3, 4, 5, 6, 7, 8, 9, 10, 1, 2, 3, 4, 5, 6, 7, 8, 9, 10, 1, 2, 3, 4, 5, 6, 7, 8, 9, 10, 1, 2, 3, 4, 5, 6, 7, 8, 9, 10, 1, 2, 3, 4, 5, 6, 7, 8, 9, 10, 1, 2, 3, 4, 5, 6, 7, 8, 9, 10, 1, 2, 3, 4, 5, 6, 7, 8, 9, 10, 1, 2, 3, 4, 5, 6, 7, 8, 9, 10, 1, 2, 3, 4, 5, 6, 7, 8, 9, 10, 1, 2, 3, 4, 5, 6, 7, 8, 9, 10, 1, 2, 3, 4, 5, 6, 7, 8, 9, 10, 1, 2, 3, 4, 5, 6, 7, 8, 9, 10, 1, 2, 3, 4, 5, 6, 7, 8, 9, 10, 1, 2, 3, 4, 5, 6, 7, 8, 9, 10, 1, 2, 3, 4, 5, 6, 7, 8, 9, 10, 1, 2, 3, 4, 5, 6, 7, 8, 9, 10, 1, 2, 3, 4, 5, 6, 7, 8, 9, 10, 1, 2, 3, 4, 5, 6, 7, 8, 9, 10, 1, 2, 3, 4, 5, 6, 7, 8, 9, 10, 1, 2, 3, 4, 5, 6, 7, 8, 9, 10, 1, 2, 3, 4, 5, 6, 7, 8, 9, 10, 1, 2, 3, 4, 5, 6, 7, 8, 9, 10, 1, 2, 3, 4, 5, 6, 7, 8, 9, 10, 1, 2, 3, 4, 5, 6, 7, 8, 9, 10, 1, 2, 3, 4, 5, 6, 7, 8, 9, 10, 1, 2, 3, 4, 5, 6, 7, 8, 9, 10, 1, 2, 3, 4, 5, 6, 7, 8, 9, 10, 1, 2, 3, 4, 5, 6, 7, 8, 9, 10, 1, 2, 3, 4, 5, 6, 7, 8, 9, 10, 1, 2, 3, 4, 5, 6, 7, 8, 9, 10, 1, 2, 3, 4, 5, 6, 7, 8, 9, 10, 1, 2, 3, 4, 5, 6, 7, 8, 9, 10, 1, 2, 3, 4, 5, 6, 7, 8, 9, 10, 1, 2, 3, 4, 5, 6, 7, 8, 9, 10, 1, 2, 3, 4, 5, 6, 7, 8, 9, 10, 1, 2, 3, 4, 5, 6, 7, 8, 9, 10, 1, 2, 3, 4, 5, 6, 7, 8, 9, 10, 1, 2, 3, 4, 5, 6, 7, 8, 9, 10, 1, 2, 3, 4, 5, 6, 7, 8, 9, 10, 1, 2, 3, 4, 5, 6, 7, 8, 9, 10, 1, 2, 3, 4, 5, 6, 7, 8, 9, 10, 1, 2, 3, 4, 5, 6, 7, 8, 9, 10, 1, 2, 3, 4, 5, 6, 7, 8, 9, 10, 1, 2, 3, 4, 5, 6, 7, 8, 9, 10, 1, 2, 3, 4, 5, 6, 7, 8, 9, 10, 1, 2, 3, 4, 5, 6, 7, 8, 9, 10, 1, 2, 3, 4, 5, 6, 7, 8, 9, 10, 1, 2, 3, 4, 5, 6, 7, 8, 9, 10, 1, 2, 3, 4, 5, 6, 7, 8, 9, 10, 1, 2, 3, 4, 5, 6, 7, 8, 9, 10, 1, 2, 3, 4, 5, 6, 7, 8, 9, 10, 1, 2, 3, 4, 5, 6, 7, 8, 9, 10, 1, 2, 3, 4, 5, 6, 7, 8, 9, 10, 1, 2, 3, 4, 5, 6, 7, 8, 9, 10, 1, 2, 3, 4, 5, 6, 7, 8, 9, 10, 1, 2, 3, 4, 5, 6, 7, 8, 9, 10, 1, 2, 3, 4, 5, 6, 7, 8, 9, 10, 1, 2, 3, 4, 5, 6, 7, 8, 9, 10], \"Freq\": [0.09846223145723343, 0.1317494660615921, 0.11205701529979706, 0.1068590059876442, 0.07497124373912811, 0.1072588562965393, 0.08706659823656082, 0.08606698364019394, 0.10805854946374893, 0.087366484105587, 0.11573042720556259, 0.13169324398040771, 0.09976761043071747, 0.08300665020942688, 0.06769232451915741, 0.08989062160253525, 0.14531151950359344, 0.07871664315462112, 0.11064228415489197, 0.07746955007314682, 0.08169185370206833, 0.09571874886751175, 0.1017443910241127, 0.11715421825647354, 0.11735178530216217, 0.09453338384628296, 0.12219204753637314, 0.08514919131994247, 0.09641022235155106, 0.08801383525133133, 0.10807671397924423, 0.08752831071615219, 0.133169487118721, 0.08999806642532349, 0.09780251234769821, 0.09572791308164597, 0.08308274298906326, 0.0993831604719162, 0.10728639364242554, 0.09790129959583282, 0.0937797948718071, 0.10120193660259247, 0.10340851545333862, 0.1412213295698166, 0.12136208266019821, 0.08284717053174973, 0.09538458287715912, 0.07181425392627716, 0.08294747024774551, 0.10591600090265274, 0.09789077192544937, 0.1251213103532791, 0.11478562653064728, 0.09192788600921631, 0.077517569065094, 0.08944334834814072, 0.08308292925357819, 0.13108418881893158, 0.09878520667552948, 0.09033778309822083, 0.10163982957601547, 0.11389988660812378, 0.07796011865139008, 0.10594073683023453, 0.09565810859203339, 0.11231794208288193, 0.09990957379341125, 0.10762155055999756, 0.09348293393850327, 0.09155493974685669, 0.1130407527089119, 0.09645270556211472, 0.10396522283554077, 0.11581383645534515, 0.12367929518222809, 0.10603243112564087, 0.07734367251396179, 0.09181410074234009, 0.07159584015607834, 0.10023417323827744, 0.09065520018339157, 0.10349132865667343, 0.13066783547401428, 0.10008173435926437, 0.12374835461378098, 0.08493910729885101, 0.09125689417123795, 0.09827665239572525, 0.09576959162950516, 0.08102809637784958, 0.1035703718662262, 0.1379934698343277, 0.10005781054496765, 0.0954413041472435, 0.10818688571453094, 0.09955602139234543, 0.08580685406923294, 0.0744662955403328, 0.12183569371700287, 0.07326199114322662, 0.08926179260015488, 0.12085888534784317, 0.09508750587701797, 0.08649704605340958, 0.12609215080738068, 0.09222401678562164, 0.09597617387771606, 0.0844234824180603, 0.07780784368515015, 0.13162164390087128, 0.14596177637577057, 0.11687184870243073, 0.09976615011692047, 0.0825580283999443, 0.1155402660369873, 0.10324875265359879, 0.08860135823488235, 0.09116209298372269, 0.07292967289686203, 0.08347988873720169, 0.1418977677822113, 0.08071432262659073, 0.09536247700452805, 0.09028046578168869, 0.11429546773433685, 0.08051502704620361, 0.10443038493394852, 0.10602474212646484, 0.08798857778310776, 0.09845154732465744, 0.09248566627502441, 0.10352583974599838, 0.08125180006027222, 0.07389168441295624, 0.12841464579105377, 0.1104985773563385, 0.09587518870830536, 0.09151722490787506, 0.10507533699274063, 0.1173744723200798, 0.11867783218622208, 0.11559399962425232, 0.11459921300411224, 0.06028396263718605, 0.09052541851997375, 0.11420129984617233, 0.09559882432222366, 0.09520091116428375, 0.07769269496202469, 0.11748409271240234, 0.10799121856689453, 0.09042517840862274, 0.07904718071222305, 0.13024818897247314, 0.11308138072490692, 0.11058620363473892, 0.10679353773593903, 0.1022024154663086, 0.10599508136510849, 0.05369618907570839, 0.10937869548797607, 0.09070668369531631, 0.10014095902442932, 0.1141941100358963, 0.10289262980222702, 0.07134675234556198, 0.09689792990684509, 0.10348226875066757, 0.1259869635105133, 0.08510507643222809, 0.09564624726772308, 0.07784239202737808, 0.12017599493265152, 0.10078958421945572, 0.11176862567663193, 0.12235202640295029, 0.10761439055204391, 0.08585412800312042, 0.09920702129602432, 0.07873258739709854, 0.09899403154850006, 0.1231389194726944, 0.10824957489967346, 0.08591555058956146, 0.1277666836977005, 0.10563387721776962, 0.09446686506271362, 0.07666001468896866, 0.08541253209114075, 0.09366203844547272, 0.1214936226606369, 0.14219562709331512, 0.09807316213846207, 0.1448095291852951, 0.11354739218950272, 0.08500371128320694, 0.08709482848644257, 0.06618370115756989, 0.06618370115756989, 0.07528004050254822, 0.11640868335962296, 0.0912284329533577, 0.0977233350276947, 0.1024196520447731, 0.11081307381391525, 0.08593259006738663, 0.12550154328346252, 0.10231973230838776, 0.08343454450368881, 0.08423391729593277, 0.13296771049499512, 0.12060333043336868, 0.09040182083845139, 0.09952308237552643, 0.08969239145517349, 0.11817099153995514, 0.08492906391620636, 0.09546919167041779, 0.07013235986232758, 0.09820556640625, 0.11909528821706772, 0.1249244287610054, 0.10552747547626495, 0.086030013859272, 0.09999984502792358, 0.0960802510380745, 0.06783908605575562, 0.11899478733539581, 0.10623098909854889, 0.07527626305818558, 0.08470072597265244, 0.10342507809400558, 0.1135224997997284, 0.10567983984947205, 0.0869554877281189, 0.09911160916090012, 0.10313097387552261, 0.10018997639417648, 0.1135224997997284, 0.08989648520946503, 0.08706524968147278, 0.10709122568368912, 0.08831321448087692, 0.09361707419157028, 0.0977119728922844, 0.11436454206705093, 0.10902167856693268, 0.09486504644155502, 0.07953844219446182, 0.12838467955589294, 0.12237542867660522, 0.11526057869195938, 0.11363432556390762, 0.12827059626579285, 0.07724694907665253, 0.08029617369174957, 0.09350946545600891, 0.09950626641511917, 0.09533900022506714, 0.07460428774356842, 0.10566666722297668, 0.1045670136809349, 0.11276443302631378, 0.11491375416517258, 0.10181788355112076, 0.08507316559553146, 0.09856890887022018, 0.0854230523109436, 0.10321744531393051, 0.0879722535610199, 0.09232582896947861, 0.10088712722063065, 0.12024734169244766, 0.07053343206644058, 0.09339599311351776, 0.09543903172016144, 0.12112292647361755, 0.08376453071832657, 0.10293016582727432, 0.11927446722984314, 0.13416501879692078, 0.10229562222957611, 0.09955715388059616, 0.09060752391815186, 0.08830562978982925, 0.09572727233171463, 0.08284854143857956, 0.09600508213043213, 0.09912058711051941, 0.11134446412324905, 0.07359156757593155, 0.10380075871944427, 0.0974617749452591, 0.12093580514192581, 0.1291566640138626, 0.09151898324489594, 0.09993793815374374, 0.10508836060762405, 0.09320277720689774, 0.08527905493974686, 0.09718094766139984, 0.08411792665719986, 0.1261768937110901, 0.12271321564912796, 0.07441962510347366, 0.11014500260353088, 0.09747783094644547, 0.1019311398267746, 0.10084255039691925, 0.08490962535142899, 0.14056643843650818, 0.12607823312282562, 0.12309838831424713, 0.08096955716609955, 0.08045578747987747, 0.12135158479213715, 0.09658805280923843, 0.07285205274820328, 0.07141350209712982, 0.08651823550462723, 0.12945860624313354, 0.09855495393276215, 0.11123337596654892, 0.09479103982448578, 0.08835277706384659, 0.0776553601026535, 0.0975644513964653, 0.08686702698469162, 0.12430800497531891, 0.09132428467273712, 0.09206189960241318, 0.139496847987175, 0.09737701714038849, 0.11592979729175568, 0.08514221757650375, 0.10509898513555527, 0.08223394304513931, 0.09657473862171173, 0.08995591104030609, 0.09617359936237335, 0.11366967856884003, 0.1283709555864334, 0.10412142425775528, 0.09927152097225189, 0.10033243149518967, 0.08179164677858353, 0.0950278490781784, 0.09699812531471252, 0.07537562400102615, 0.10513181984424591, 0.12861482799053192, 0.11328393965959549, 0.134068101644516, 0.09754148870706558, 0.1111232116818428, 0.07665444165468216, 0.0825192779302597, 0.10515548288822174, 0.08961881697177887, 0.06142644211649895, 0.08245690912008286, 0.11858373880386353, 0.10658577084541321, 0.09761222451925278, 0.11645667254924774, 0.11522696167230606, 0.09026721864938736, 0.09744605422019958, 0.0921616330742836, 0.08318808674812317, 0.09546753019094467, 0.10391291975975037, 0.10875297337770462, 0.0961589589715004, 0.1007026806473732, 0.09373893588781357, 0.10450558364391327, 0.10366597771644592, 0.09368954598903656, 0.09941858798265457, 0.12415987253189087, 0.06732440739870071, 0.10332833230495453, 0.08927801996469498, 0.09503474831581116, 0.0910831019282341, 0.09981575608253479, 0.12991659343242645, 0.10449919104576111, 0.09557139128446579, 0.11158577352762222, 0.10067515820264816, 0.10910608619451523, 0.12041344493627548, 0.08787999302148819, 0.09502148628234863, 0.07290270179510117, 0.0897645503282547, 0.10186541080474854, 0.11079227179288864, 0.13643312454223633, 0.10857929289340973, 0.10047636181116104, 0.10138794034719467, 0.11445391923189163, 0.1017930880188942, 0.08042160421609879, 0.06816592067480087, 0.08234605193138123, 0.10594584047794342, 0.1143060252070427, 0.11043460667133331, 0.09122642874717712, 0.09896925836801529, 0.08854621648788452, 0.0903826579451561, 0.12611880898475647, 0.08651124686002731, 0.08651124686002731, 0.10696025937795639, 0.11021781712770462, 0.1072760596871376, 0.08854687213897705, 0.09433232992887497, 0.09786243736743927, 0.1101197600364685, 0.08374200761318207, 0.09109640121459961, 0.11737608909606934, 0.09933331608772278, 0.11854662001132965, 0.11744711548089981, 0.1070517972111702, 0.07316705584526062, 0.08576138317584991, 0.08975958079099655, 0.1264430582523346, 0.10395319014787674, 0.07946421951055527, 0.09835571050643921, 0.1411072462797165, 0.13325095176696777, 0.10713131725788116, 0.10381534695625305, 0.09667325764894485, 0.09034740924835205, 0.06422777473926544, 0.06177905946969986, 0.09912197291851044, 0.10253997147083282, 0.13026145100593567, 0.1041104793548584, 0.07312404364347458, 0.09276194870471954, 0.09858423471450806, 0.11397877335548401, 0.09207116812467575, 0.08624887466430664, 0.09138038754463196, 0.11743267625570297, 0.10635454952716827, 0.09905766695737839, 0.14523793756961823, 0.08386415988206863, 0.09016147255897522, 0.10355574637651443, 0.08436394482851028, 0.10115677118301392, 0.09216061234474182, 0.09395984560251236, 0.0828399658203125, 0.07664173096418381, 0.10015568882226944, 0.12002940475940704, 0.10901031643152237, 0.129671111702919, 0.10163145512342453, 0.114519864320755, 0.08697212487459183, 0.07851103693246841, 0.10542140901088715, 0.12644416093826294, 0.11839398741722107, 0.12100901454687119, 0.10029391199350357, 0.09367943555116653, 0.10065283626317978, 0.08286041021347046, 0.07916861027479172, 0.07209265977144241, 0.13106688857078552, 0.0780973732471466, 0.12413160502910614, 0.07106157392263412, 0.11377892643213272, 0.10965795814990997, 0.13981138169765472, 0.07216720283031464, 0.08523368835449219, 0.07498151808977127, 0.0786806046962738, 0.10745910555124283, 0.09234312921762466, 0.09311830252408981, 0.099125936627388, 0.11976506561040878, 0.10629633814096451, 0.08139373362064362, 0.09098656475543976, 0.13081134855747223, 0.11053311824798584, 0.09988771378993988, 0.09033669531345367, 0.08670531958341599, 0.10456373542547226, 0.11879076808691025, 0.11650250107049942, 0.10744893550872803, 0.065364770591259, 0.09983796626329422, 0.14478972554206848, 0.12201268970966339, 0.08087354153394699, 0.09451969712972641, 0.0876966193318367, 0.10114209353923798, 0.06381584703922272, 0.10856720805168152, 0.10074073821306229, 0.09582410752773285, 0.09421087056398392, 0.08810734748840332, 0.10631947964429855, 0.08121626824140549, 0.1358526647090912, 0.10563036799430847, 0.10986346006393433, 0.08889489620923996, 0.08928867429494858, 0.10080661624670029, 0.10940828174352646, 0.12612618505954742, 0.08408412337303162, 0.08210567384958267, 0.1106942743062973, 0.08754640817642212, 0.0741918757557869, 0.1250380426645279, 0.10604491829872131, 0.09486667811870575, 0.0996243804693222, 0.09189841151237488, 0.1411006599664688, 0.12930838763713837, 0.10013267397880554, 0.09189841151237488, 0.09952272474765778, 0.0920000672340393, 0.07166855782270432, 0.08285088837146759, 0.13121311366558075, 0.06171255558729172, 0.09187875688076019, 0.11198955774307251, 0.11918607354164124, 0.08951278030872345, 0.08113328367471695, 0.11790449917316437, 0.09020286053419113, 0.10528595745563507, 0.12900374829769135, 0.11090501397848129, 0.09823590517044067, 0.10537485033273697, 0.0831536278128624, 0.0632450208067894, 0.1172395721077919, 0.12116096913814545, 0.09823590517044067, 0.07340042293071747, 0.13533233106136322, 0.10535597801208496, 0.11162060499191284, 0.08782725781202316, 0.12194602191448212, 0.1008666604757309, 0.0830930694937706, 0.09690790623426437, 0.08062394708395004, 0.07642032206058502, 0.1498556137084961, 0.11622294783592224, 0.07816764712333679, 0.12249693274497986, 0.09308121353387833, 0.10624629259109497, 0.09976660460233688, 0.08948138356208801, 0.06829383969306946, 0.07652201503515244, 0.09566839039325714, 0.12166523933410645, 0.11133358627557755, 0.09466206282377243, 0.1020418107509613, 0.08845636248588562, 0.12518739700317383, 0.1021759882569313, 0.0920456051826477, 0.06671964377164841, 0.11436452716588974, 0.12118396908044815, 0.1143140122294426, 0.10749457776546478, 0.09577523916959763, 0.09375467151403427, 0.08496516942977905, 0.07956013083457947, 0.08683419972658157, 0.10173593461513519, 0.09226862341165543, 0.09877346456050873, 0.1173873096704483, 0.1341998130083084, 0.09917376190423965, 0.08816557377576828, 0.11068232357501984, 0.08055991679430008, 0.10988172143697739, 0.0690513551235199, 0.11456255614757538, 0.09732836484909058, 0.11466217786073685, 0.1164553314447403, 0.08537401258945465, 0.11854734271764755, 0.07033144682645798, 0.08079151064157486, 0.09882266074419022, 0.1031063050031662, 0.08897731453180313, 0.09557917714118958, 0.10346199572086334, 0.08848463743925095, 0.12927822768688202, 0.09587477892637253, 0.11558182537555695, 0.0986337661743164, 0.10198396444320679, 0.08217838406562805, 0.12783271074295044, 0.11241517961025238, 0.12630116939544678, 0.09965233504772186, 0.09138200432062149, 0.12180864065885544, 0.07606658339500427, 0.0826011672616005, 0.0920967236161232, 0.06994041800498962, 0.11392007768154144, 0.08837880939245224, 0.10649412870407104, 0.10735993832349777, 0.11804930865764618, 0.11388678103685379, 0.0840497761964798, 0.08684699237346649, 0.09793597459793091, 0.08308406919240952, 0.10370457917451859, 0.09118510782718658, 0.1143510565161705, 0.10715482383966446, 0.08320025354623795, 0.09660692512989044, 0.07994715869426727, 0.1285463571548462, 0.08477750420570374, 0.11060507595539093, 0.11544623225927353, 0.10608303546905518, 0.1140517145395279, 0.10349321365356445, 0.10608303546905518, 0.10020613670349121, 0.061358824372291565, 0.08058325946331024, 0.1178368330001831, 0.09482727199792862, 0.1017255112528801, 0.10773544013500214, 0.10748913139104843, 0.1026122197508812, 0.06743933260440826, 0.11881933361291885, 0.08640510588884354, 0.1068979948759079, 0.09226725250482559, 0.10857289284467697, 0.08385965973138809, 0.10496849566698074, 0.09115180373191833, 0.07781485468149185, 0.09000040590763092, 0.11082139611244202, 0.10813482105731964, 0.11043760180473328, 0.13404111564159393, 0.08865711838006973, 0.10046945512294769, 0.12586505711078644, 0.10431420803070068, 0.11918733268976212, 0.08559633791446686, 0.13173337280750275, 0.0873163565993309, 0.07982920855283737, 0.0795256718993187, 0.08610222488641739, 0.10294858366250992, 0.13032104074954987, 0.12966690957546234, 0.09363994002342224, 0.09847037494182587, 0.0855892226099968, 0.0861930251121521, 0.06682097911834717, 0.0907718688249588, 0.11562847346067429, 0.10563347488641739, 0.11671566963195801, 0.12250863015651703, 0.10170432925224304, 0.10387039929628372, 0.07344473153352737, 0.09329193830490112, 0.0980270579457283, 0.079489566385746, 0.10538160055875778, 0.10595115274190903, 0.11081676185131073, 0.08936835825443268, 0.09691501408815384, 0.11101535707712173, 0.10992307960987091, 0.10019185394048691, 0.0905599370598793, 0.1142921969294548, 0.0709981918334961, 0.11346521973609924, 0.1146659106016159, 0.0832478478550911, 0.12016907334327698, 0.10045774281024933, 0.06513743847608566, 0.11441576480865479, 0.10526050627231598, 0.09005176275968552, 0.09315354377031326, 0.10203637927770615, 0.1435236930847168, 0.12374841421842575, 0.09704159200191498, 0.0792030617594719, 0.10856018215417862, 0.09082359075546265, 0.09530870616436005, 0.09082359075546265, 0.06890768557786942, 0.08862770348787308, 0.10665031522512436, 0.09892633557319641, 0.12685148417949677, 0.12754467129707336, 0.06674309819936752, 0.08377546072006226, 0.09169748425483704, 0.1096210777759552, 0.09961951524019241, 0.07438867539167404, 0.09187484532594681, 0.10472379624843597, 0.09998997300863266, 0.0971883162856102, 0.1180557906627655, 0.10124588757753372, 0.0964154526591301, 0.10124588757753372, 0.11477109789848328, 0.0896722674369812, 0.09062448143959045, 0.10651660710573196, 0.12244156002998352, 0.10159136354923248, 0.10779716819524765, 0.07765467464923859, 0.11121200025081635, 0.10566289722919464, 0.08684846758842468, 0.10304776579141617, 0.10285072773694992, 0.09250655025243759, 0.10688988864421844, 0.10580620914697647, 0.101175956428051, 0.07733508199453354, 0.10097892582416534, 0.08295049518346786, 0.12649457156658173, 0.10875356942415237, 0.1304236501455307, 0.07690358906984329, 0.1170184314250946, 0.09781773388385773, 0.10210135579109192, 0.12160442769527435, 0.07347669452428818, 0.08385816961526871, 0.08799060434103012, 0.12757417559623718, 0.130227729678154, 0.1175723671913147, 0.10272273421287537, 0.09690535068511963, 0.0649607703089714, 0.07057403773069382, 0.11114262789487839, 0.09047561138868332, 0.0878220647573471, 0.11693834513425827, 0.09276504814624786, 0.08762821555137634, 0.1334567666053772, 0.12197445333003998, 0.09216071665287018, 0.09608887135982513, 0.08934049308300018, 0.08178633451461792, 0.08782966434955597, 0.13880473375320435, 0.12158078700304031, 0.09057768434286118, 0.09635277092456818, 0.09331325441598892, 0.09148954600095749, 0.07730511575937271, 0.11722414195537567, 0.07234057039022446, 0.10101336985826492, 0.13788153231143951, 0.08570204675197601, 0.10176494717597961, 0.12271655350923538, 0.08699905127286911, 0.10366056859493256, 0.07123546302318573, 0.09138891100883484, 0.12361448258161545, 0.0749269351363182, 0.09118347615003586, 0.09089308232069016, 0.08382684737443924, 0.09612015634775162, 0.09253863990306854, 0.09950807690620422, 0.11344695836305618, 0.13803358376026154, 0.09989526867866516, 0.0946681946516037, 0.14162510633468628, 0.08191557228565216, 0.11487918347120285, 0.08053386211395264, 0.08576461672782898, 0.09020581841468811, 0.09139014035463333, 0.10027255117893219, 0.10530591756105423, 0.10816802829504013, 0.12675754725933075, 0.13352468609809875, 0.11786936968564987, 0.0864577367901802, 0.05747015401721001, 0.08544772118330002, 0.11110223084688187, 0.09746696054935455, 0.08332667499780655, 0.10029501467943192, 0.1350426822900772, 0.1059209406375885, 0.11706594377756119, 0.10571830719709396, 0.07452677190303802, 0.09321274608373642, 0.09848129004240036, 0.09664309024810791, 0.0781887024641037, 0.09519568830728531, 0.10753204673528671, 0.08728712797164917, 0.1731499880552292, 0.09501885622739792, 0.12289376556873322, 0.10661644488573074, 0.054427288472652435, 0.07925020158290863, 0.10214018076658249, 0.07172194123268127, 0.1074475422501564, 0.10322355479001999, 0.12011948227882385, 0.08401764184236526, 0.08045365661382675, 0.08537063747644424, 0.10500554740428925, 0.12262747436761856, 0.0730946883559227, 0.11866749078035355, 0.10701961815357208, 0.09012701362371445, 0.11417413502931595, 0.10791393369436264, 0.10155436396598816, 0.0929093286395073, 0.09499605745077133, 0.10056068003177643, 0.07561925053596497, 0.1150684505701065, 0.11009551584720612, 0.14358964562416077, 0.08449426293373108, 0.09764905273914337, 0.09177999198436737, 0.1163693368434906, 0.08682164549827576, 0.10665503144264221, 0.07913114875555038, 0.08348235487937927, 0.130536749958992, 0.11572909355163574, 0.09461384266614914, 0.10507027804851532, 0.10797109454870224, 0.10544130951166153, 0.07916530966758728, 0.08145897835493088, 0.10007817298173904, 0.07997483760118484, 0.14193423092365265, 0.09970460087060928, 0.13558200001716614, 0.08476416021585464, 0.10626010596752167, 0.07399077713489532, 0.09939969331026077, 0.07683657109737396, 0.11245987564325333, 0.06906144320964813, 0.10457036644220352, 0.1204293817281723, 0.07622238248586655, 0.0959470272064209, 0.14610116183757782, 0.059074822813272476, 0.08246686309576035, 0.10813864320516586, 0.10397565364837646, 0.1029844656586647, 0.11157810688018799, 0.1194264143705368, 0.0948403924703598, 0.09093625843524933, 0.10601221770048141, 0.1052313894033432, 0.10663287341594696, 0.080945685505867, 0.08480977267026901, 0.09958541393280029, 0.1114562600851059, 0.11397333443164825, 0.08739298582077026, 0.12132320553064346, 0.08900391310453415, 0.09625310450792313, 0.10289818793535233, 0.11800066381692886, 0.06947138160467148, 0.09011142700910568, 0.10642416775226593, 0.1106739491224289, 0.10562608391046524, 0.09429332613945007, 0.09339548647403717, 0.11466436088085175, 0.11825572699308395, 0.07511942088603973, 0.09722627699375153, 0.0843372642993927, 0.1374233514070511, 0.12612436711788177, 0.08563975244760513, 0.10437280684709549, 0.12264697253704071, 0.08413050323724747, 0.0956130400300026, 0.06419412046670914, 0.09874371439218521, 0.08113239705562592, 0.10026299953460693, 0.11375802010297775, 0.07427258789539337, 0.13375064730644226, 0.1175566166639328, 0.09896347671747208, 0.10166247934103012, 0.07497233152389526, 0.09436517208814621, 0.09046661108732224, 0.10378364473581314, 0.11033658683300018, 0.10866961628198624, 0.1369650959968567, 0.07850596308708191, 0.10598233342170715, 0.06486837565898895, 0.1178523525595665, 0.09159747511148453, 0.08143754303455353, 0.10023989528417587, 0.11146596819162369, 0.09119942784309387, 0.09288831055164337, 0.1119626984000206, 0.10600195080041885, 0.11851952224969864, 0.08732493966817856, 0.09149746596813202, 0.08891447633504868, 0.10677667707204819, 0.11222951859235764, 0.10191868245601654, 0.09606926143169403, 0.08605585247278214, 0.10122468322515488, 0.07376215606927872, 0.1396920531988144, 0.11282438039779663, 0.0693998783826828, 0.08777319639921188, 0.08174373209476471, 0.11307718604803085, 0.10773962736129761, 0.115548275411129, 0.12345577031373978, 0.07769114524126053, 0.12147890031337738, 0.08391829580068588, 0.08767435699701309, 0.09469446539878845, 0.08871375769376755, 0.11283592879772186, 0.10236969590187073, 0.11612531542778015, 0.09967838227748871, 0.10416390746831894, 0.12250473350286484, 0.07605460286140442, 0.08283273130655289, 0.12071502208709717, 0.08330213278532028, 0.09596795588731766, 0.09236306697130203, 0.0965525284409523, 0.105808325111866, 0.0765795037150383, 0.10814663022756577, 0.11896128952503204, 0.10152143239974976, 0.11994732171297073, 0.11396516114473343, 0.08790729194879532, 0.10727325826883316, 0.136372908949852, 0.08709615468978882, 0.09257134795188904, 0.0872989371418953, 0.08963096141815186, 0.07786943763494492, 0.1277725249528885, 0.10542253404855728, 0.11317869275808334, 0.12705813348293304, 0.08623624593019485, 0.08297049254179001, 0.11011705547571182, 0.08970610797405243, 0.08572597056627274, 0.07174447178840637, 0.1215081587433815, 0.0893293023109436, 0.14759637415409088, 0.09684108942747116, 0.09278066456317902, 0.0822235643863678, 0.10252568125724792, 0.10973293334245682, 0.07521933317184448, 0.08232507854700089, 0.1398267149925232, 0.11954256892204285, 0.11490913480520248, 0.13570810854434967, 0.09225679934024811, 0.06795701384544373, 0.07825352996587753, 0.07104597240686417, 0.08947673439979553, 0.09091825038194656, 0.12643960118293762, 0.11842938512563705, 0.09252295643091202, 0.0941452756524086, 0.1076815128326416, 0.09607178717851639, 0.1111796423792839, 0.09267505258321762, 0.0775671899318695, 0.08329600840806961, 0.10866327583789825, 0.1221187636256218, 0.111313596367836, 0.12884651124477386, 0.10631875693798065, 0.06483099609613419, 0.10152778774499893, 0.08848004043102264, 0.09316907823085785, 0.07471874356269836, 0.12603341042995453, 0.07817637920379639, 0.07857271283864975, 0.1099819764494896, 0.11335079371929169, 0.08392318338155746, 0.12078201025724411, 0.11414346098899841, 0.08877824991941452, 0.08620209246873856, 0.10965097695589066, 0.12229523062705994, 0.09296055883169174, 0.12765638530254364, 0.09205017238855362, 0.08011399954557419, 0.11410175263881683, 0.09296055883169174, 0.08021514862775803, 0.08810516446828842, 0.09147521108388901, 0.0847286656498909, 0.11766768246889114, 0.11508812010288239, 0.1024879515171051, 0.1089368537068367, 0.09316184371709824, 0.11518733203411102, 0.08978857100009918, 0.08145460486412048, 0.08554254472255707, 0.14386248588562012, 0.07858786731958389, 0.11048003286123276, 0.0980609655380249, 0.09180175513029099, 0.08564189821481705, 0.11763341724872589, 0.11147356033325195, 0.07679951936006546, 0.06708868592977524, 0.086173415184021, 0.09308676421642303, 0.10564763844013214, 0.12706927955150604, 0.11908484995365143, 0.11519000679254532, 0.10340810567140579, 0.08841295540332794, 0.0947420746088028, 0.15182867646217346, 0.11291936039924622, 0.11374283581972122, 0.10664034634828568, 0.10406697541475296, 0.10087600350379944, 0.06711342185735703, 0.07081907242536545, 0.08883263915777206, 0.08317123353481293, 0.10689859092235565, 0.10176113992929459, 0.10235392302274704, 0.10600941628217697, 0.09069585055112839, 0.07903777807950974, 0.12240975350141525, 0.08585478365421295, 0.08743554353713989, 0.11756869405508041, 0.08839023858308792, 0.10051456093788147, 0.0964079350233078, 0.09494128078222275, 0.11214999854564667, 0.12094991654157639, 0.10638117045164108, 0.07127929478883743, 0.10638117045164108, 0.10266564786434174, 0.13674435019493103, 0.06968121230602264, 0.1278831511735916, 0.10180304944515228, 0.10059469938278198, 0.11449066549539566, 0.07904588431119919, 0.09968844056129456, 0.07642780989408493, 0.09354602545499802, 0.14147233963012695, 0.1323302686214447, 0.08115506917238235, 0.09994995594024658, 0.09918385744094849, 0.07946966588497162, 0.1210431233048439, 0.08432160317897797, 0.09857098013162613, 0.06246233731508255, 0.10512907803058624, 0.0785481408238411, 0.09457634389400482, 0.10612461715936661, 0.13788235187530518, 0.1006491407752037, 0.1231483593583107, 0.08860310167074203, 0.084023617208004, 0.0812361016869545, 0.07777455449104309, 0.09244899451732635, 0.1023297905921936, 0.12747199833393097, 0.11133011430501938, 0.07953548431396484, 0.0930359736084938, 0.11221057921648026, 0.1103518158197403, 0.09342729300260544, 0.10553643852472305, 0.10448308289051056, 0.11316074430942535, 0.11110419034957886, 0.12043392658233643, 0.07845009118318558, 0.0885322317481041, 0.08963575214147568, 0.09455142170190811, 0.09404981881380081, 0.10315417498350143, 0.11592277139425278, 0.09149152040481567, 0.1278870403766632, 0.10275200754404068, 0.08395100384950638, 0.09581474214792252, 0.10054013133049011, 0.062435418367385864, 0.11592277139425278, 0.12235241383314133, 0.10657145082950592, 0.11486145108938217, 0.09119000285863876, 0.10227663069963455, 0.08949205279350281, 0.07860518246889114, 0.08989156782627106, 0.09368699043989182, 0.11126578599214554, 0.07483792304992676, 0.09627587348222733, 0.10904119163751602, 0.10563061386346817, 0.09481418877840042, 0.12092950940132141, 0.10563061386346817, 0.09198828041553497, 0.11391345411539078, 0.08692113310098648, 0.12552480399608612, 0.11054570972919464, 0.08637943863868713, 0.10026006400585175, 0.08038780093193054, 0.1123431995511055, 0.11164417862892151, 0.08787734806537628, 0.06830466538667679, 0.11673706769943237, 0.13622941076755524, 0.10860316455364227, 0.09489013999700546, 0.0913868099451065, 0.10259746015071869, 0.08618186414241791, 0.07917521148920059, 0.10149641335010529, 0.08177768439054489, 0.11761172115802765, 0.09655492752790451, 0.13333775103092194, 0.09705469757318497, 0.08745917677879333, 0.10135269165039062, 0.11814484745264053, 0.07536482065916061, 0.1126474142074585, 0.08845870941877365, 0.08965814858675003, 0.13859030604362488, 0.09154868125915527, 0.11344736814498901, 0.1305810660123825, 0.0901293233036995, 0.0940832570195198, 0.09388048946857452, 0.0612352192401886, 0.09215697646141052, 0.09438740462064743, 0.10548888891935349, 0.107758529484272, 0.11811992526054382, 0.06887862086296082, 0.11160704493522644, 0.09571957588195801, 0.08437137305736542, 0.10351528972387314, 0.12147504836320877, 0.08318721503019333, 0.12105903774499893, 0.08853267878293991, 0.12980049848556519, 0.08771952241659164, 0.13462862372398376, 0.10499914735555649, 0.10245802998542786, 0.07384499907493591, 0.08024862408638, 0.07679270207881927, 0.13927263021469116, 0.11259476840496063, 0.09869793802499771, 0.1087401732802391, 0.09311891347169876, 0.0768890380859375, 0.10955166816711426, 0.08256949484348297, 0.0890614464879036, 0.08946719020605087, 0.10622438043355942, 0.0998074859380722, 0.10958091914653778, 0.08213632553815842, 0.08904683589935303, 0.08657879382371902, 0.1354459673166275, 0.10829753428697586, 0.10207808017730713, 0.08075422793626785, 0.09929326921701431, 0.10845114290714264, 0.09794945269823074, 0.11337848007678986, 0.10088594257831573, 0.12183956056833267, 0.09675494581460953, 0.07386025786399841, 0.10307586938142776, 0.08446149528026581, 0.10301495343446732, 0.1385754644870758, 0.08448130637407303, 0.10627969354391098, 0.09266825765371323, 0.10843943804502487, 0.09472755342721939, 0.09603344649076462, 0.09799228608608246, 0.07785137742757797, 0.10437456518411636, 0.09795768558979034, 0.1349550038576126, 0.09535082429647446, 0.09113974869251251, 0.11309751123189926, 0.09825847297906876, 0.08963578939437866, 0.081915482878685, 0.09324529021978378, 0.1168680191040039, 0.12303493171930313, 0.12627002596855164, 0.07956326007843018, 0.09553657472133636, 0.09846838563680649, 0.09361573308706284, 0.08532578498125076, 0.08259616792201996, 0.09867057204246521, 0.10559268295764923, 0.10203338414430618, 0.11488642543554306, 0.08888372778892517, 0.10539494454860687, 0.10094581544399261, 0.09669442474842072, 0.08097416907548904, 0.12022537738084793, 0.08443459868431091, 0.1340014487504959, 0.09781309217214584, 0.10490640252828598, 0.09965486079454422, 0.09325843304395676, 0.10951083898544312, 0.06931538134813309, 0.08103802055120468, 0.1100086122751236, 0.10047619044780731, 0.08913477510213852, 0.1253829151391983, 0.08438091725111008, 0.10270306468009949, 0.10943769663572311, 0.11944060027599335, 0.08348957449197769, 0.0911155492067337, 0.09032323956489563, 0.10458480566740036, 0.12072014808654785, 0.07965143024921417, 0.124697744846344, 0.08492175489664078, 0.11808498948812485, 0.07726487517356873, 0.10858847200870514, 0.10093159228563309, 0.12076986581087112, 0.06438739597797394, 0.12136059999465942, 0.12991873919963837, 0.10424432158470154, 0.13177472352981567, 0.11280246078968048, 0.061969175934791565, 0.08599383383989334, 0.09218043833971024, 0.07496105134487152, 0.08485961705446243, 0.10480022430419922, 0.0831795483827591, 0.12181650102138519, 0.11881362646818161, 0.09539122879505157, 0.0985942929983139, 0.12241706997156143, 0.08698318898677826, 0.0827791690826416, 0.08518145978450775, 0.1261669397354126, 0.13382597267627716, 0.10174085944890976, 0.11881841719150543, 0.11560990661382675, 0.1098138839006424, 0.077728770673275, 0.059409208595752716, 0.06913824379444122, 0.08766480535268784, 0.07167642563581467, 0.09484256058931351, 0.09870358556509018, 0.1304827779531479, 0.12107771635055542, 0.08939752727746964, 0.11474168300628662, 0.1138506755232811, 0.10088159888982773, 0.06435038149356842, 0.0940130203962326, 0.10217492282390594, 0.0973382368683815, 0.10731390118598938, 0.11587885767221451, 0.10812000930309296, 0.1376439332962036, 0.1067093163728714, 0.0753716379404068, 0.05552108585834503, 0.1288500428199768, 0.11022718995809555, 0.09885214269161224, 0.10519398003816605, 0.09472491592168808, 0.08284655213356018, 0.08405452221632004, 0.11938761919736862, 0.09895280748605728, 0.07670604437589645, 0.10343734174966812, 0.15190134942531586, 0.08411276340484619, 0.09535153210163116, 0.10709884017705917, 0.10242026299238205, 0.10155574232339859, 0.09641946852207184, 0.07073812186717987, 0.08696059882640839, 0.08329769223928452, 0.07642078399658203, 0.07577507197856903, 0.12594740092754364, 0.11606790125370026, 0.09869807958602905, 0.11506704241037369, 0.11009500920772552, 0.09320946782827377, 0.10544583201408386, 0.08146049082279205, 0.09541120380163193, 0.0948258638381958, 0.10789856314659119, 0.1112155169248581, 0.09394784271717072, 0.12428821623325348, 0.08809439837932587, 0.10682543367147446, 0.09609410911798477, 0.09677073359489441, 0.09071636199951172, 0.10619967430830002, 0.09677073359489441, 0.1145368441939354, 0.11781216412782669, 0.12108748406171799, 0.08813580870628357, 0.10222959518432617, 0.065704844892025, 0.10078025609254837, 0.09786055237054825, 0.11145228892564774, 0.08910142630338669, 0.1452806293964386, 0.10732442885637283, 0.09635035693645477, 0.09111502021551132, 0.06805939227342606, 0.0926252081990242, 0.08090857416391373, 0.11435841023921967, 0.09272561222314835, 0.06709026545286179, 0.08977135270833969, 0.07966969162225723, 0.11254773288965225, 0.11226183921098709, 0.10435204952955246, 0.1463787704706192, 0.1282893419265747, 0.08809869736433029, 0.10894571244716644, 0.10002559423446655, 0.07456818222999573, 0.09511452168226242, 0.15184246003627777, 0.09561564773321152, 0.09160660952329636, 0.0659487396478653, 0.1017666757106781, 0.11492954939603806, 0.10569589585065842, 0.07033295929431915, 0.10697288811206818, 0.08870203793048859, 0.11443839967250824, 0.0773073136806488, 0.09292594343423843, 0.1269136518239975, 0.1352619081735611, 0.06673584133386612, 0.10184426605701447, 0.08672675490379333, 0.11129270493984222, 0.12919501960277557, 0.10005403310060501, 0.09985511749982834, 0.08622946590185165, 0.08264900743961334, 0.08609678596258163, 0.12462162226438522, 0.10265003889799118, 0.09757967293262482, 0.1065770834684372, 0.09767909348011017, 0.10642796009778976, 0.09250930696725845, 0.1048869639635086, 0.0809767097234726, 0.114048071205616, 0.07760106772184372, 0.10283612459897995, 0.0974099338054657, 0.09731186926364899, 0.08917257934808731, 0.10525502264499664, 0.12516196072101593, 0.10917757451534271, 0.08207930624485016, 0.15174391865730286, 0.10831621289253235, 0.1073039099574089, 0.0980919674038887, 0.07420166581869125, 0.09900303930044174, 0.07126599550247192, 0.10770883411169052, 0.09029725193977356, 0.09201816469430923, 0.07419803738594055, 0.10725261270999908, 0.13531404733657837, 0.09252285212278366, 0.121033675968647, 0.08593191206455231, 0.11903642117977142, 0.09062545746564865, 0.07844220101833344, 0.0956185981631279, 0.11234085261821747, 0.10255058109760284, 0.0941447988152504, 0.09424369037151337, 0.09918826818466187, 0.1000782921910286, 0.0882112979888916, 0.11263752728700638, 0.07169640809297562, 0.12490008026361465, 0.11884348839521408, 0.0943697839975357, 0.14190718531608582, 0.08470116555690765, 0.11239773780107498, 0.1025276854634285, 0.07563682645559311, 0.08389544486999512, 0.09487336128950119, 0.0908447653055191, 0.1199638769030571, 0.09443964809179306, 0.07480562478303909, 0.0982682853937149, 0.1144663542509079, 0.06695201992988586, 0.1306644231081009, 0.0952250137925148, 0.1120121031999588, 0.09316343814134598, 0.10906694829463959, 0.08746407181024551, 0.13683490455150604, 0.1173371896147728, 0.0973382443189621, 0.07363021373748779, 0.0910227820277214, 0.1009470745921135, 0.09307781606912613, 0.09327830374240875, 0.12406206876039505, 0.08686323463916779, 0.09744907170534134, 0.11308049410581589, 0.09764693677425385, 0.060942769050598145, 0.11110183596611023, 0.10457225143909454, 0.08993016183376312, 0.11436662822961807, 0.12615491449832916, 0.09366349875926971, 0.10950807482004166, 0.08945165574550629, 0.10018184036016464, 0.10459425300359726, 0.09416491538286209, 0.1156252846121788, 0.08453782647848129, 0.08223134279251099, 0.12130484730005264, 0.1050041913986206, 0.12430496513843536, 0.10250409692525864, 0.09690386801958084, 0.07340293377637863, 0.07580302655696869, 0.09230368584394455, 0.11270450055599213, 0.09580382704734802, 0.0832214504480362, 0.09241336584091187, 0.1185065507888794, 0.11934667080640793, 0.11311989277601242, 0.0945877954363823, 0.07575919479131699, 0.10886986553668976, 0.09493373334407806, 0.09923318028450012, 0.10881884396076202, 0.12770475447177887, 0.0911320373415947, 0.10052502900362015, 0.08173903822898865, 0.08373755216598511, 0.09373009949922562, 0.13320066034793854, 0.07064731419086456, 0.10871891677379608, 0.09114014357328415, 0.10460961610078812, 0.07344302535057068, 0.1281074434518814, 0.11326153576374054, 0.1015617772936821, 0.09674423187971115, 0.09418797492980957, 0.1182757169008255, 0.07875216007232666, 0.10087991505861282, 0.10410485416650772, 0.1419977992773056, 0.1172061413526535, 0.09301914274692535, 0.06379319727420807, 0.09543784707784653, 0.09946901351213455, 0.08697240054607391, 0.09715109318494797, 0.14078845083713531, 0.1107926294207573, 0.09786513447761536, 0.08816952258348465, 0.10877270996570587, 0.09018944203853607, 0.08463466167449951, 0.09412828832864761, 0.08210975676774979, 0.1024099588394165, 0.08516043424606323, 0.12889689207077026, 0.12125558406114578, 0.09089142084121704, 0.1094919815659523, 0.08606532216072083, 0.09722566604614258, 0.11260883510112762, 0.08727184683084488, 0.08103814721107483, 0.0938308984041214, 0.08894895762205124, 0.11238227039575577, 0.0998845025897026, 0.09734589606523514, 0.0755724385380745, 0.12351309508085251, 0.10037269443273544, 0.11345629394054413, 0.09480728209018707, 0.12794530391693115, 0.09740026295185089, 0.09274770319461823, 0.12875445187091827, 0.08657801151275635, 0.09507398307323456, 0.1021539643406868, 0.11247050017118454, 0.06442779302597046, 0.0924442782998085, 0.10224255174398422, 0.11213753372430801, 0.1146070808172226, 0.10980238765478134, 0.10422491282224655, 0.10703045129776001, 0.08593010902404785, 0.09481711685657501, 0.09459872543811798, 0.0746239572763443, 0.11773689836263657, 0.10809291899204254, 0.09633932262659073, 0.09382787346839905, 0.10467734187841415, 0.11844010651111603, 0.09573657065629959, 0.09915214776992798, 0.08187335729598999, 0.0840834304690361, 0.15364056825637817, 0.10153030604124069, 0.07881302386522293, 0.09754481911659241, 0.0691482201218605, 0.10252667963504791, 0.1101987436413765, 0.08867710828781128, 0.08867710828781128, 0.10930200666189194, 0.08878631889820099, 0.1491851806640625, 0.13328014314174652, 0.08022981137037277, 0.09915479272603989, 0.07479391992092133, 0.08868565410375595, 0.08556504547595978, 0.09190692752599716, 0.10841594636440277, 0.09158603847026825, 0.11859990656375885, 0.13055028021335602, 0.09339366108179092, 0.09269069135189056, 0.0968080461025238, 0.0943978875875473, 0.11408085376024246, 0.09138519316911697, 0.07652254402637482, 0.10249300301074982, 0.08715391159057617, 0.12609925866127014, 0.09432543069124222, 0.0997040718793869, 0.11584000289440155, 0.10956491529941559, 0.09034125506877899, 0.07779109477996826, 0.09671594202518463, 0.1022358313202858, 0.08664561808109283, 0.1320171356201172, 0.11732636392116547, 0.10253564268350601, 0.1017361432313919, 0.08274806290864944, 0.09214216470718384, 0.10973113030195236, 0.07305414974689484, 0.14406268298625946, 0.11168327182531357, 0.11111791431903839, 0.11718262732028961, 0.11420166492462158, 0.07174866646528244, 0.08171946555376053, 0.07498660683631897, 0.09297516196966171, 0.08038317412137985, 0.09281495958566666, 0.1042926087975502, 0.11885084211826324, 0.11015565693378448, 0.09216903150081635, 0.0721452459692955, 0.1254591941833496, 0.09664084017276764, 0.09410681575536728, 0.09341119974851608, 0.13694457709789276, 0.12674124538898468, 0.080326147377491, 0.08202669769525528, 0.09463080018758774, 0.08442748337984085, 0.10343366861343384, 0.09643138945102692, 0.10763503611087799, 0.08742845803499222, 0.10359477996826172, 0.11350429058074951, 0.09353359788656235, 0.12134088575839996, 0.09585930407047272, 0.11567831039428711, 0.10880232602357864, 0.10308919847011566, 0.08357353508472443, 0.060973796993494034, 0.11967632174491882, 0.08098097890615463, 0.13084611296653748, 0.10870599746704102, 0.10342028737068176, 0.08686506748199463, 0.08786236494779587, 0.07868718355894089, 0.09983000159263611, 0.10312110185623169, 0.09111730754375458, 0.1152011826634407, 0.07576384395360947, 0.10055015981197357, 0.15955564379692078, 0.09914526343345642, 0.09563303738832474, 0.10205540060997009, 0.06301946192979813, 0.0979410707950592, 0.09271973371505737, 0.09655845165252686, 0.09144016355276108, 0.10945259779691696, 0.11319287866353989, 0.12136245518922806, 0.0964600220322609, 0.08720773458480835, 0.10817302763462067, 0.08356587588787079, 0.12096672505140305, 0.12056683003902435, 0.10697057098150253, 0.06298267096281052, 0.09057508409023285, 0.1059708446264267, 0.09557370841503143, 0.11856738477945328, 0.07807852327823639, 0.09977255016565323, 0.14155873656272888, 0.07087905704975128, 0.1067671850323677, 0.09340883046388626, 0.08892281353473663, 0.09859266877174377, 0.1259075254201889, 0.10277961939573288, 0.08483555167913437, 0.08643057942390442, 0.08930621296167374, 0.1229742169380188, 0.08488268405199051, 0.08109810203313828, 0.11530675739049911, 0.11073577404022217, 0.08036084473133087, 0.1222861111164093, 0.10429707914590836, 0.08876556158065796, 0.08426149934530258, 0.10045063495635986, 0.10376647859811783, 0.08270110189914703, 0.12180858105421066, 0.0974273607134819, 0.08621200174093246, 0.11459174007177353, 0.09245359152555466, 0.11634719371795654, 0.09663109481334686, 0.09148743003606796, 0.1187039390206337, 0.1208512932062149, 0.12549558281898499, 0.082748182117939, 0.0824485495686531, 0.09178706258535385, 0.09123773127794266, 0.09857869893312454, 0.1204795092344284, 0.11668330430984497, 0.09020978212356567, 0.08511487394571304, 0.1370629221200943, 0.07112886756658554, 0.08631367981433868, 0.09190808236598969, 0.10899099707603455, 0.09210788458585739, 0.10469338297843933, 0.10550182312726974, 0.14572186768054962, 0.08114747703075409, 0.09327412396669388, 0.09974166750907898, 0.10368283092975616, 0.11156515032052994, 0.08721079677343369, 0.06740394234657288, 0.10939550399780273, 0.11375728994607925, 0.10764076560735703, 0.09831557422876358, 0.08608253300189972, 0.09249986708164215, 0.11521121859550476, 0.10839279741048813, 0.08763673156499863, 0.0810689926147461, 0.10577363520860672, 0.10031114518642426, 0.10239682346582413, 0.10726340115070343, 0.09524592757225037, 0.07568028569221497, 0.13785333931446075, 0.09008139371871948, 0.09117389470338821, 0.09435206651687622, 0.0914694294333458, 0.08635259419679642, 0.10891538113355637, 0.09795074909925461, 0.1042371392250061, 0.09760962426662445, 0.08893537521362305, 0.11451952904462814, 0.08683991432189941, 0.12319377064704895, 0.09332901984453201, 0.12541718780994415, 0.09181065112352371, 0.12885881960391998, 0.10416004061698914, 0.09535350650548935, 0.09585963189601898, 0.11590208858251572, 0.0856359526515007, 0.06367023289203644, 0.11427608877420425, 0.09582217782735825, 0.0923682376742363, 0.11723660677671432, 0.08407878130674362, 0.11427608877420425, 0.0888156145811081, 0.0923682376742363, 0.11348661780357361, 0.0872366651892662, 0.09846904128789902, 0.0826089084148407, 0.0976906269788742, 0.11033981293439865, 0.10031776875257492, 0.11841583251953125, 0.08017637580633163, 0.09389587491750717, 0.10197189450263977, 0.11608059704303741, 0.07568234950304031, 0.0989469513297081, 0.1293550431728363, 0.10251870006322861, 0.08504611253738403, 0.10164989531040192, 0.07944716513156891, 0.07983329892158508, 0.13920147716999054, 0.10802111029624939, 0.09482073783874512, 0.1323675960302353, 0.10710826516151428, 0.09915922582149506, 0.12430208176374435, 0.08940490335226059, 0.09070062637329102, 0.12160871922969818, 0.08786167949438095, 0.0526733323931694, 0.12743203341960907, 0.09727410972118378, 0.09835821390151978, 0.11452128738164902, 0.07992836833000183, 0.07312805205583572, 0.09313478320837021, 0.09057234227657318, 0.11925194412469864, 0.10634119808673859, 0.08945083618164062, 0.11429283767938614, 0.08964721858501434, 0.11016886681318283, 0.10840145498514175, 0.09622592478990555, 0.08709428459405899, 0.09416394680738449, 0.12499551475048065, 0.0856214389204979, 0.10212389379739761, 0.10891862958669662, 0.08731744438409805, 0.1344749480485916, 0.12159537523984909, 0.1130766049027443, 0.09259097278118134, 0.09208390861749649, 0.08549199253320694, 0.06236960366368294, 0.11624836921691895, 0.10759264975786209, 0.08152483403682709, 0.10074859112501144, 0.1269170492887497, 0.07538530975580215, 0.11956975609064102, 0.11504059284925461, 0.07115809619426727, 0.08585269004106522, 0.12345507740974426, 0.09963218122720718, 0.08943679183721542, 0.11709557473659515, 0.12789663672447205, 0.07944329082965851, 0.11083701997995377, 0.0780300721526146, 0.08398579061031342, 0.09014340490102768, 0.12837357819080353, 0.09412099421024323, 0.08813415467739105, 0.08764342963695526, 0.11070749163627625, 0.08754528313875198, 0.08263803273439407, 0.10128557682037354, 0.11954053491353989, 0.1001078337430954, 0.1167365238070488, 0.08383160084486008, 0.14528785645961761, 0.09952471405267715, 0.11957140266895294, 0.08950137346982956, 0.0635824203491211, 0.11997638642787933, 0.09972720593214035, 0.06226622685790062, 0.1055103987455368, 0.08774232864379883, 0.11389533430337906, 0.13086484372615814, 0.09033766388893127, 0.10451219230890274, 0.09053730964660645, 0.09852295368909836, 0.1004195511341095, 0.0776604488492012, 0.10791420191526413, 0.10690471529960632, 0.08338365703821182, 0.14092443883419037, 0.11740338802337646, 0.09458897262811661, 0.08499883860349655, 0.09913166612386703, 0.0906519666314125, 0.0739954262971878, 0.13539300858974457, 0.11132980138063431, 0.10274292528629303, 0.1036415547132492, 0.0708916187286377, 0.07348765432834625, 0.08227422088384628, 0.12051575630903244, 0.10983208566904068, 0.08986261487007141, 0.14244230091571808, 0.08826553076505661, 0.10794772952795029, 0.10946955531835556, 0.08572916686534882, 0.0821782574057579, 0.12347029149532318, 0.1097739189863205, 0.07680115848779678, 0.07406188547611237, 0.09885776787996292, 0.08921068161725998, 0.12033993750810623, 0.10686385631561279, 0.09736595302820206, 0.09940476715564728, 0.11213494092226028, 0.10129440575838089, 0.09269159287214279, 0.08175159245729446, 0.11740178614854813, 0.08484499156475067, 0.0803067684173584, 0.1299312263727188, 0.10161667317152023, 0.0990515947341919, 0.08977783471345901, 0.09510531276464462, 0.09421740472316742, 0.10773340612649918, 0.1217278391122818, 0.11975878477096558, 0.11067084968090057, 0.08189238607883453, 0.12167734652757645, 0.09022299200296402, 0.0967865064740181, 0.07002758234739304, 0.10335001349449158, 0.08386144042015076, 0.1197296604514122, 0.11094078421592712, 0.08417236059904099, 0.09170568734407425, 0.10888167470693588, 0.10727456212043762, 0.10285501182079315, 0.1197296604514122, 0.08984746783971786, 0.06483682990074158, 0.13793693482875824, 0.09444694221019745, 0.10221661627292633, 0.1154351532459259, 0.08627364784479141, 0.08697998523712158, 0.1060509979724884, 0.09888675808906555, 0.08556731790304184, 0.08627364784479141, 0.09813330322504044, 0.0877775251865387, 0.10345912724733353, 0.12989100813865662, 0.10326187312602997, 0.08758027106523514, 0.08876378834247589, 0.09487862884998322, 0.08866516500711441, 0.11756271123886108, 0.11761611700057983, 0.09391363710165024, 0.09192182868719101, 0.11233783513307571, 0.09281814098358154, 0.1151263639330864, 0.0790746808052063, 0.12608128786087036, 0.09102551639080048, 0.080170176923275, 0.14843954145908356, 0.12339667975902557, 0.09633423388004303, 0.08977058529853821, 0.08855883032083511, 0.0870441421866417, 0.08573140949010849, 0.0820961594581604, 0.10623020678758621, 0.09239604324102402, 0.10067873448133469, 0.11975003778934479, 0.08875300735235214, 0.09185764193534851, 0.10097441077232361, 0.09959457814693451, 0.11063326150178909, 0.08352934569120407, 0.11975003778934479, 0.08446566015481949, 0.12381473928689957, 0.08719909936189651, 0.11164278537034988, 0.10535726696252823, 0.11493519693613052, 0.07153519243001938, 0.1119420975446701, 0.07891818135976791, 0.12082163989543915, 0.07392967492341995, 0.1024203673005104, 0.11513599008321762, 0.08304890990257263, 0.11732148379087448, 0.09139353781938553, 0.11801686882972717, 0.09934079647064209, 0.0864264965057373, 0.1024203673005104, 0.0845390185713768, 0.07524934411048889, 0.10305465757846832, 0.11501289159059525, 0.0896381065249443, 0.11287401616573334, 0.11637398600578308, 0.08837423473596573, 0.07466601580381393, 0.12191560864448547, 0.1028602197766304, 0.17180173099040985, 0.1051536351442337, 0.0764014795422554, 0.09001557528972626, 0.09885457158088684, 0.09519705921411514, 0.09987055510282516, 0.08859320729970932, 0.08188775926828384, 0.09214912354946136, 0.15149447321891785, 0.10246390104293823, 0.10246390104293823, 0.0796496719121933, 0.10606614500284195, 0.07264530658721924, 0.08965591341257095, 0.08205117285251617, 0.0989617183804512, 0.11467151343822479, 0.1077173501253128, 0.1070159375667572, 0.1167355477809906, 0.13387012481689453, 0.09358884394168854, 0.06903930753469467, 0.0951920747756958, 0.06923971325159073, 0.10310804843902588, 0.10461108386516571, 0.10466472804546356, 0.11974481493234634, 0.07545018196105957, 0.11700750142335892, 0.09655234217643738, 0.09615419059991837, 0.11048772931098938, 0.09456156939268112, 0.08839018642902374, 0.09695049375295639, 0.07961774617433548, 0.13692665100097656, 0.0903259813785553, 0.11620423197746277, 0.09538265317678452, 0.10162912309169769, 0.08318715542554855, 0.09587840735912323, 0.0940936952829361, 0.10678494721651077, 0.07684554904699326, 0.1289374828338623, 0.10090327262878418, 0.09364619106054306, 0.12456335127353668, 0.10597328841686249, 0.09951150417327881, 0.08092144131660461, 0.09871620684862137, 0.08986853063106537, 0.12492479383945465, 0.0940791666507721, 0.11279217898845673, 0.12667271494865417, 0.12739244103431702, 0.10220184922218323, 0.08760158717632294, 0.08431138098239899, 0.07598306238651276, 0.06405609101057053, 0.09340546280145645, 0.09430503100156784, 0.12770576775074005, 0.11028075218200684, 0.10326742380857468, 0.11617793887853622, 0.10363391786813736, 0.07184907048940659, 0.08770817518234253, 0.09167295694351196, 0.10038388520479202, 0.08954476565122604, 0.09413430839776993, 0.1004815325140953, 0.11112534999847412, 0.09227895736694336, 0.10692641139030457, 0.09686849266290665, 0.1168866828083992, 0.09130246192216873, 0.09915944188833237, 0.09426992386579514, 0.10629814118146896, 0.08693564683198929, 0.1088406890630722, 0.06943117082118988, 0.1389601230621338, 0.08468646556138992, 0.10796057432889938, 0.10356000810861588, 0.08578260987997055, 0.11115214228630066, 0.09298873692750931, 0.09693730622529984, 0.13148726522922516, 0.0886453166604042, 0.10137944668531418, 0.09673988074064255, 0.09565402567386627, 0.09920772910118103, 0.09296160936355591, 0.11201030761003494, 0.10099777579307556, 0.0829412043094635, 0.10198989510536194, 0.10992685705423355, 0.11587957292795181, 0.11726853996515274, 0.08859628438949585, 0.07748454064130783, 0.11228751391172409, 0.10988777875900269, 0.09558936953544617, 0.08009108901023865, 0.13938449323177338, 0.10258858650922775, 0.07279190421104431, 0.10378845781087875, 0.08499054610729218, 0.09858903288841248, 0.11773485690355301, 0.11904525756835938, 0.11209002882242203, 0.12106126546859741, 0.1033203974366188, 0.0650162473320961, 0.08376511931419373, 0.06602425128221512, 0.09203075617551804, 0.1200532615184784, 0.11536512523889542, 0.08937573432922363, 0.09949374198913574, 0.07985290139913559, 0.11586110293865204, 0.13718828558921814, 0.09453393518924713, 0.086598239839077, 0.0711236447095871, 0.11070290952920914, 0.0764285996556282, 0.09800039976835251, 0.11449647694826126, 0.08960594236850739, 0.11947458982467651, 0.10395460575819016, 0.09809800982475281, 0.09653624892234802, 0.12806425988674164, 0.07525727897882462, 0.10499224811792374, 0.10119975358247757, 0.09032128006219864, 0.09211772680282593, 0.15169982612133026, 0.09401397407054901, 0.09541121125221252, 0.09002187103033066, 0.08722740411758423, 0.09311575442552567, 0.10132945328950882, 0.1305062174797058, 0.12190085649490356, 0.10657414048910141, 0.09817245602607727, 0.09043271839618683, 0.08992352336645126, 0.10015830397605896, 0.08467883616685867, 0.07622622698545456, 0.11246192455291748, 0.14994923770427704, 0.09593526273965836, 0.07920705527067184, 0.09311363846063614, 0.08928428590297699, 0.09704376012086868, 0.0997646152973175, 0.0983537957072258, 0.08474953472614288, 0.10823725908994675, 0.13814157247543335, 0.11206459999084473, 0.09889854490756989, 0.12482241541147232, 0.07950667291879654, 0.08608970046043396, 0.07399529963731766, 0.08496701717376709, 0.09328510612249374, 0.1129818856716156, 0.09818486869335175, 0.07225298136472702, 0.11595118790864944, 0.12015769630670547, 0.08615919947624207, 0.10234189033508301, 0.10060980170965195, 0.10234189033508301, 0.0889800414443016, 0.09887417405843735, 0.10202553868293762, 0.08321581035852432, 0.09444256126880646, 0.10832827538251877, 0.1205398291349411, 0.11669909954071045, 0.09680608659982681, 0.11177508533000946, 0.06726200878620148, 0.0975857526063919, 0.11407981067895889, 0.12112056463956833, 0.08709848672151566, 0.07439559698104858, 0.11171648651361465, 0.0832088440656662, 0.10310018807649612, 0.11309508979320526, 0.09458235651254654, 0.12850582599639893, 0.07341735064983368, 0.1402159482240677, 0.08736766874790192, 0.13481910526752472, 0.11119521409273148, 0.09413917362689972, 0.07657399773597717, 0.06690041720867157, 0.08680762350559235, 0.11618367582559586, 0.09477366507053375, 0.09182733297348022, 0.09320229291915894, 0.09752357751131058, 0.09163091331720352, 0.10754110664129257, 0.10606794059276581, 0.11372839659452438, 0.08760426193475723, 0.09625937789678574, 0.10342656821012497, 0.10561654716730118, 0.0893908217549324, 0.14593200385570526, 0.10740834474563599, 0.08182545006275177, 0.07794322073459625, 0.09347213804721832, 0.09884753078222275, 0.09136053174734116, 0.09785115718841553, 0.09106550365686417, 0.13472974300384521, 0.07916601747274399, 0.106997050344944, 0.10335835814476013, 0.10473515838384628, 0.10788213461637497, 0.08280470222234726, 0.11894671618938446, 0.11481732130050659, 0.09608396887779236, 0.11038577556610107, 0.10414132475852966, 0.06244450807571411, 0.12317682802677155, 0.09215600788593292, 0.0950767993927002, 0.08289004862308502, 0.11309189349412918, 0.10201295465230942, 0.09216872602701187, 0.10491617023944855, 0.11789721250534058, 0.07254699617624283, 0.11379266530275345, 0.1137259304523468, 0.08516096323728561, 0.0846937820315361, 0.09837623685598373, 0.1534019559621811, 0.10802096873521805, 0.08599037677049637, 0.1064981147646904, 0.0851781889796257, 0.08467057347297668, 0.1077163964509964, 0.08771627396345139, 0.08243705332279205, 0.11159935593605042, 0.14103779196739197, 0.09559797495603561, 0.08698184788227081, 0.15909062325954437, 0.07067275792360306, 0.09498254209756851, 0.07662198692560196, 0.07908373326063156, 0.08421238511800766, 0.1123928427696228, 0.11110758036375046, 0.10586506128311157, 0.08523321151733398, 0.13677901029586792, 0.11367810517549515, 0.1079958900809288, 0.07532315701246262, 0.10126517713069916, 0.05039582774043083, 0.09146878123283386, 0.10791711509227753, 0.12687280774116516, 0.12095542252063751, 0.08414726704359055, 0.10430650413036346, 0.10651298612356186, 0.08153960108757019, 0.09778734296560287, 0.07843046635389328], \"Term\": [\"0\", \"0\", \"0\", \"0\", \"0\", \"0\", \"0\", \"0\", \"0\", \"0\", \"10\", \"10\", \"10\", \"10\", \"10\", \"10\", \"10\", \"10\", \"10\", \"10\", \"1299\", \"1299\", \"1299\", \"1299\", \"1299\", \"1299\", \"1299\", \"1299\", \"1299\", \"1299\", \"15\", \"15\", \"15\", \"15\", \"15\", \"15\", \"15\", \"15\", \"15\", \"15\", \"16\", \"16\", \"16\", \"16\", \"16\", \"16\", \"16\", \"16\", \"16\", \"16\", \"19\", \"19\", \"19\", \"19\", \"19\", \"19\", \"19\", \"19\", \"19\", \"19\", \"2\", \"2\", \"2\", \"2\", \"2\", \"2\", \"2\", \"2\", \"2\", \"2\", \"24\", \"24\", \"24\", \"24\", \"24\", \"24\", \"24\", \"24\", \"24\", \"24\", \"25\", \"25\", \"25\", \"25\", \"25\", \"25\", \"25\", \"25\", \"25\", \"25\", \"3\", \"3\", \"3\", \"3\", \"3\", \"3\", \"3\", \"3\", \"3\", \"3\", \"35\", \"35\", \"35\", \"35\", \"35\", \"35\", \"35\", \"35\", \"35\", \"35\", \"43\", \"43\", \"43\", \"43\", \"43\", \"43\", \"43\", \"43\", \"43\", \"43\", \"5\", \"5\", \"5\", \"5\", \"5\", \"5\", \"5\", \"5\", \"5\", \"5\", \"700\", \"700\", \"700\", \"700\", \"700\", \"700\", \"700\", \"700\", \"700\", \"700\", \"8\", \"8\", \"8\", \"8\", \"8\", \"8\", \"8\", \"8\", \"8\", \"8\", \"900pm\", \"900pm\", \"900pm\", \"900pm\", \"900pm\", \"900pm\", \"900pm\", \"900pm\", \"900pm\", \"900pm\", \"9037\", \"9037\", \"9037\", \"9037\", \"9037\", \"9037\", \"9037\", \"9037\", \"9037\", \"9037\", \"9970\", \"9970\", \"9970\", \"9970\", \"9970\", \"9970\", \"9970\", \"9970\", \"9970\", \"9970\", \"9971\", \"9971\", \"9971\", \"9971\", \"9971\", \"9971\", \"9971\", \"9971\", \"9971\", \"9971\", \"9983\", \"9983\", \"9983\", \"9983\", \"9983\", \"9983\", \"9983\", \"9983\", \"9983\", \"9983\", \"9995\", \"9995\", \"9995\", \"9995\", \"9995\", \"9995\", \"9995\", \"9995\", \"9995\", \"9995\", \"\\\\13\", \"\\\\13\", \"\\\\13\", \"\\\\13\", \"\\\\13\", \"\\\\13\", \"\\\\13\", \"\\\\13\", \"\\\\13\", \"\\\\13\", \"\\\\n\", \"\\\\n\", \"\\\\n\", \"\\\\n\", \"\\\\n\", \"\\\\n\", \"\\\\n\", \"\\\\n\", \"\\\\n\", \"\\\\n\", \"\\\\n9994\", \"\\\\n9994\", \"\\\\n9994\", \"\\\\n9994\", \"\\\\n9994\", \"\\\\n9994\", \"\\\\n9994\", \"\\\\n9994\", \"\\\\n9994\", \"\\\\n9994\", \"\\\\n\\\\n\", \"\\\\n\\\\n\", \"\\\\n\\\\n\", \"\\\\n\\\\n\", \"\\\\n\\\\n\", \"\\\\n\\\\n\", \"\\\\n\\\\n\", \"\\\\n\\\\n\", \"\\\\n\\\\n\", \"\\\\n\\\\n\", \"absolute\", \"absolute\", \"absolute\", \"absolute\", \"absolute\", \"absolute\", \"absolute\", \"absolute\", \"absolute\", \"absolute\", \"absolutely\", \"absolutely\", \"absolutely\", \"absolutely\", \"absolutely\", \"absolutely\", \"absolutely\", \"absolutely\", \"absolutely\", \"absolutely\", \"actually\", \"actually\", \"actually\", \"actually\", \"actually\", \"actually\", \"actually\", \"actually\", \"actually\", \"actually\", \"amazing\", \"amazing\", \"amazing\", \"amazing\", \"amazing\", \"amazing\", \"amazing\", \"amazing\", \"amazing\", \"amazing\", \"ambience\", \"ambience\", \"ambience\", \"ambience\", \"ambience\", \"ambience\", \"ambience\", \"ambience\", \"ambience\", \"ambience\", \"appropriate\", \"appropriate\", \"appropriate\", \"appropriate\", \"appropriate\", \"appropriate\", \"appropriate\", \"appropriate\", \"appropriate\", \"appropriate\", \"ask\", \"ask\", \"ask\", \"ask\", \"ask\", \"ask\", \"ask\", \"ask\", \"ask\", \"ask\", \"attentive\", \"attentive\", \"attentive\", \"attentive\", \"attentive\", \"attentive\", \"attentive\", \"attentive\", \"attentive\", \"attentive\", \"authentic\", \"authentic\", \"authentic\", \"authentic\", \"authentic\", \"authentic\", \"authentic\", \"authentic\", \"authentic\", \"authentic\", \"awesome\", \"awesome\", \"awesome\", \"awesome\", \"awesome\", \"awesome\", \"awesome\", \"awesome\", \"awesome\", \"awesome\", \"ayce\", \"ayce\", \"ayce\", \"ayce\", \"ayce\", \"ayce\", \"ayce\", \"ayce\", \"ayce\", \"ayce\", \"bad\", \"bad\", \"bad\", \"bad\", \"bad\", \"bad\", \"bad\", \"bad\", \"bad\", \"bad\", \"bartender\", \"bartender\", \"bartender\", \"bartender\", \"bartender\", \"bartender\", \"bartender\", \"bartender\", \"bartender\", \"bartender\", \"beef\", \"beef\", \"beef\", \"beef\", \"beef\", \"beef\", \"beef\", \"beef\", \"beef\", \"beef\", \"beware\", \"beware\", \"beware\", \"beware\", \"beware\", \"beware\", \"beware\", \"beware\", \"beware\", \"beware\", \"br9990\", \"br9990\", \"br9990\", \"br9990\", \"br9990\", \"br9990\", \"br9990\", \"br9990\", \"br9990\", \"br9990\", \"buffet\", \"buffet\", \"buffet\", \"buffet\", \"buffet\", \"buffet\", \"buffet\", \"buffet\", \"buffet\", \"buffet\", \"burger\", \"burger\", \"burger\", \"burger\", \"burger\", \"burger\", \"burger\", \"burger\", \"burger\", \"burger\", \"burger9978\", \"burger9978\", \"burger9978\", \"burger9978\", \"burger9978\", \"burger9978\", \"burger9978\", \"burger9978\", \"burger9978\", \"burger9978\", \"busy\", \"busy\", \"busy\", \"busy\", \"busy\", \"busy\", \"busy\", \"busy\", \"busy\", \"busy\", \"c2\", \"c2\", \"c2\", \"c2\", \"c2\", \"c2\", \"c2\", \"c2\", \"c2\", \"c2\", \"carpaccio9982\", \"carpaccio9982\", \"carpaccio9982\", \"carpaccio9982\", \"carpaccio9982\", \"carpaccio9982\", \"carpaccio9982\", \"carpaccio9982\", \"carpaccio9982\", \"carpaccio9982\", \"casual\", \"casual\", \"casual\", \"casual\", \"casual\", \"casual\", \"casual\", \"casual\", \"casual\", \"casual\", \"chance\", \"chance\", \"chance\", \"chance\", \"chance\", \"chance\", \"chance\", \"chance\", \"chance\", \"chance\", \"charge\", \"charge\", \"charge\", \"charge\", \"charge\", \"charge\", \"charge\", \"charge\", \"charge\", \"charge\", \"charlotte\", \"charlotte\", \"charlotte\", \"charlotte\", \"charlotte\", \"charlotte\", \"charlotte\", \"charlotte\", \"charlotte\", \"charlotte\", \"circus\", \"circus\", \"circus\", \"circus\", \"circus\", \"circus\", \"circus\", \"circus\", \"circus\", \"circus\", \"city\", \"city\", \"city\", \"city\", \"city\", \"city\", \"city\", \"city\", \"city\", \"city\", \"clean\", \"clean\", \"clean\", \"clean\", \"clean\", \"clean\", \"clean\", \"clean\", \"clean\", \"clean\", \"close\", \"close\", \"close\", \"close\", \"close\", \"close\", \"close\", \"close\", \"close\", \"close\", \"cold\", \"cold\", \"cold\", \"cold\", \"cold\", \"cold\", \"cold\", \"cold\", \"cold\", \"cold\", \"colean\", \"colean\", \"colean\", \"colean\", \"colean\", \"colean\", \"colean\", \"colean\", \"colean\", \"colean\", \"combo\", \"combo\", \"combo\", \"combo\", \"combo\", \"combo\", \"combo\", \"combo\", \"combo\", \"combo\", \"come\", \"come\", \"come\", \"come\", \"come\", \"come\", \"come\", \"come\", \"come\", \"come\", \"country\", \"country\", \"country\", \"country\", \"country\", \"country\", \"country\", \"country\", \"country\", \"country\", \"couple\", \"couple\", \"couple\", \"couple\", \"couple\", \"couple\", \"couple\", \"couple\", \"couple\", \"couple\", \"customer\", \"customer\", \"customer\", \"customer\", \"customer\", \"customer\", \"customer\", \"customer\", \"customer\", \"customer\", \"dad\", \"dad\", \"dad\", \"dad\", \"dad\", \"dad\", \"dad\", \"dad\", \"dad\", \"dad\", \"dandan\", \"dandan\", \"dandan\", \"dandan\", \"dandan\", \"dandan\", \"dandan\", \"dandan\", \"dandan\", \"dandan\", \"daniel\", \"daniel\", \"daniel\", \"daniel\", \"daniel\", \"daniel\", \"daniel\", \"daniel\", \"daniel\", \"daniel\", \"diana\", \"diana\", \"diana\", \"diana\", \"diana\", \"diana\", \"diana\", \"diana\", \"diana\", \"diana\", \"dinner\", \"dinner\", \"dinner\", \"dinner\", \"dinner\", \"dinner\", \"dinner\", \"dinner\", \"dinner\", \"dinner\", \"door\", \"door\", \"door\", \"door\", \"door\", \"door\", \"door\", \"door\", \"door\", \"door\", \"dozen\", \"dozen\", \"dozen\", \"dozen\", \"dozen\", \"dozen\", \"dozen\", \"dozen\", \"dozen\", \"dozen\", \"drink\", \"drink\", \"drink\", \"drink\", \"drink\", \"drink\", \"drink\", \"drink\", \"drink\", \"drink\", \"drive\", \"drive\", \"drive\", \"drive\", \"drive\", \"drive\", \"drive\", \"drive\", \"drive\", \"drive\", \"encourage\", \"encourage\", \"encourage\", \"encourage\", \"encourage\", \"encourage\", \"encourage\", \"encourage\", \"encourage\", \"encourage\", \"end\", \"end\", \"end\", \"end\", \"end\", \"end\", \"end\", \"end\", \"end\", \"end\", \"enjoy\", \"enjoy\", \"enjoy\", \"enjoy\", \"enjoy\", \"enjoy\", \"enjoy\", \"enjoy\", \"enjoy\", \"enjoy\", \"excellent\", \"excellent\", \"excellent\", \"excellent\", \"excellent\", \"excellent\", \"excellent\", \"excellent\", \"excellent\", \"excellent\", \"excited\", \"excited\", \"excited\", \"excited\", \"excited\", \"excited\", \"excited\", \"excited\", \"excited\", \"excited\", \"expand\", \"expand\", \"expand\", \"expand\", \"expand\", \"expand\", \"expand\", \"expand\", \"expand\", \"expand\", \"expensive\", \"expensive\", \"expensive\", \"expensive\", \"expensive\", \"expensive\", \"expensive\", \"expensive\", \"expensive\", \"expensive\", \"expert\", \"expert\", \"expert\", \"expert\", \"expert\", \"expert\", \"expert\", \"expert\", \"expert\", \"expert\", \"fake\", \"fake\", \"fake\", \"fake\", \"fake\", \"fake\", \"fake\", \"fake\", \"fake\", \"fake\", \"family\", \"family\", \"family\", \"family\", \"family\", \"family\", \"family\", \"family\", \"family\", \"family\", \"far\", \"far\", \"far\", \"far\", \"far\", \"far\", \"far\", \"far\", \"far\", \"far\", \"fast\", \"fast\", \"fast\", \"fast\", \"fast\", \"fast\", \"fast\", \"fast\", \"fast\", \"fast\", \"favourite\", \"favourite\", \"favourite\", \"favourite\", \"favourite\", \"favourite\", \"favourite\", \"favourite\", \"favourite\", \"favourite\", \"feel\", \"feel\", \"feel\", \"feel\", \"feel\", \"feel\", \"feel\", \"feel\", \"feel\", \"feel\", \"file\", \"file\", \"file\", \"file\", \"file\", \"file\", \"file\", \"file\", \"file\", \"file\", \"finally\", \"finally\", \"finally\", \"finally\", \"finally\", \"finally\", \"finally\", \"finally\", \"finally\", \"finally\", \"find\", \"find\", \"find\", \"find\", \"find\", \"find\", \"find\", \"find\", \"find\", \"find\", \"fly\", \"fly\", \"fly\", \"fly\", \"fly\", \"fly\", \"fly\", \"fly\", \"fly\", \"fly\", \"food\", \"food\", \"food\", \"food\", \"food\", \"food\", \"food\", \"food\", \"food\", \"food\", \"forum\", \"forum\", \"forum\", \"forum\", \"forum\", \"forum\", \"forum\", \"forum\", \"forum\", \"forum\", \"fresh\", \"fresh\", \"fresh\", \"fresh\", \"fresh\", \"fresh\", \"fresh\", \"fresh\", \"fresh\", \"fresh\", \"friend\", \"friend\", \"friend\", \"friend\", \"friend\", \"friend\", \"friend\", \"friend\", \"friend\", \"friend\", \"friend17\", \"friend17\", \"friend17\", \"friend17\", \"friend17\", \"friend17\", \"friend17\", \"friend17\", \"friend17\", \"friend17\", \"friendly\", \"friendly\", \"friendly\", \"friendly\", \"friendly\", \"friendly\", \"friendly\", \"friendly\", \"friendly\", \"friendly\", \"fun\", \"fun\", \"fun\", \"fun\", \"fun\", \"fun\", \"fun\", \"fun\", \"fun\", \"fun\", \"game\", \"game\", \"game\", \"game\", \"game\", \"game\", \"game\", \"game\", \"game\", \"game\", \"get\", \"get\", \"get\", \"get\", \"get\", \"get\", \"get\", \"get\", \"get\", \"get\", \"give\", \"give\", \"give\", \"give\", \"give\", \"give\", \"give\", \"give\", \"give\", \"give\", \"go\", \"go\", \"go\", \"go\", \"go\", \"go\", \"go\", \"go\", \"go\", \"go\", \"good\", \"good\", \"good\", \"good\", \"good\", \"good\", \"good\", \"good\", \"good\", \"good\", \"grab\", \"grab\", \"grab\", \"grab\", \"grab\", \"grab\", \"grab\", \"grab\", \"grab\", \"grab\", \"great\", \"great\", \"great\", \"great\", \"great\", \"great\", \"great\", \"great\", \"great\", \"great\", \"grou4\", \"grou4\", \"grou4\", \"grou4\", \"grou4\", \"grou4\", \"grou4\", \"grou4\", \"grou4\", \"grou4\", \"groupon\", \"groupon\", \"groupon\", \"groupon\", \"groupon\", \"groupon\", \"groupon\", \"groupon\", \"groupon\", \"groupon\", \"guarantee\", \"guarantee\", \"guarantee\", \"guarantee\", \"guarantee\", \"guarantee\", \"guarantee\", \"guarantee\", \"guarantee\", \"guarantee\", \"guy\", \"guy\", \"guy\", \"guy\", \"guy\", \"guy\", \"guy\", \"guy\", \"guy\", \"guy\", \"happy\", \"happy\", \"happy\", \"happy\", \"happy\", \"happy\", \"happy\", \"happy\", \"happy\", \"happy\", \"hard\", \"hard\", \"hard\", \"hard\", \"hard\", \"hard\", \"hard\", \"hard\", \"hard\", \"hard\", \"high\", \"high\", \"high\", \"high\", \"high\", \"high\", \"high\", \"high\", \"high\", \"high\", \"hope\", \"hope\", \"hope\", \"hope\", \"hope\", \"hope\", \"hope\", \"hope\", \"hope\", \"hope\", \"hot\", \"hot\", \"hot\", \"hot\", \"hot\", \"hot\", \"hot\", \"hot\", \"hot\", \"hot\", \"hour\", \"hour\", \"hour\", \"hour\", \"hour\", \"hour\", \"hour\", \"hour\", \"hour\", \"hour\", \"hungry\", \"hungry\", \"hungry\", \"hungry\", \"hungry\", \"hungry\", \"hungry\", \"hungry\", \"hungry\", \"hungry\", \"in9984\", \"in9984\", \"in9984\", \"in9984\", \"in9984\", \"in9984\", \"in9984\", \"in9984\", \"in9984\", \"in9984\", \"incredible\", \"incredible\", \"incredible\", \"incredible\", \"incredible\", \"incredible\", \"incredible\", \"incredible\", \"incredible\", \"incredible\", \"indian\", \"indian\", \"indian\", \"indian\", \"indian\", \"indian\", \"indian\", \"indian\", \"indian\", \"indian\", \"indie\", \"indie\", \"indie\", \"indie\", \"indie\", \"indie\", \"indie\", \"indie\", \"indie\", \"indie\", \"instead\", \"instead\", \"instead\", \"instead\", \"instead\", \"instead\", \"instead\", \"instead\", \"instead\", \"instead\", \"item\", \"item\", \"item\", \"item\", \"item\", \"item\", \"item\", \"item\", \"item\", \"item\", \"iv20\", \"iv20\", \"iv20\", \"iv20\", \"iv20\", \"iv20\", \"iv20\", \"iv20\", \"iv20\", \"iv20\", \"jack\", \"jack\", \"jack\", \"jack\", \"jack\", \"jack\", \"jack\", \"jack\", \"jack\", \"jack\", \"job\", \"job\", \"job\", \"job\", \"job\", \"job\", \"job\", \"job\", \"job\", \"job\", \"joint\", \"joint\", \"joint\", \"joint\", \"joint\", \"joint\", \"joint\", \"joint\", \"joint\", \"joint\", \"junctionites\", \"junctionites\", \"junctionites\", \"junctionites\", \"junctionites\", \"junctionites\", \"junctionites\", \"junctionites\", \"junctionites\", \"junctionites\", \"ka9993\", \"ka9993\", \"ka9993\", \"ka9993\", \"ka9993\", \"ka9993\", \"ka9993\", \"ka9993\", \"ka9993\", \"ka9993\", \"kid\", \"kid\", \"kid\", \"kid\", \"kid\", \"kid\", \"kid\", \"kid\", \"kid\", \"kid\", \"knight\", \"knight\", \"knight\", \"knight\", \"knight\", \"knight\", \"knight\", \"knight\", \"knight\", \"knight\", \"kraft\", \"kraft\", \"kraft\", \"kraft\", \"kraft\", \"kraft\", \"kraft\", \"kraft\", \"kraft\", \"kraft\", \"laguna\", \"laguna\", \"laguna\", \"laguna\", \"laguna\", \"laguna\", \"laguna\", \"laguna\", \"laguna\", \"laguna\", \"las\", \"las\", \"las\", \"las\", \"las\", \"las\", \"las\", \"las\", \"las\", \"las\", \"later\", \"later\", \"later\", \"later\", \"later\", \"later\", \"later\", \"later\", \"later\", \"later\", \"latin\", \"latin\", \"latin\", \"latin\", \"latin\", \"latin\", \"latin\", \"latin\", \"latin\", \"latin\", \"length\", \"length\", \"length\", \"length\", \"length\", \"length\", \"length\", \"length\", \"length\", \"length\", \"like\", \"like\", \"like\", \"like\", \"like\", \"like\", \"like\", \"like\", \"like\", \"like\", \"little\", \"little\", \"little\", \"little\", \"little\", \"little\", \"little\", \"little\", \"little\", \"little\", \"live\", \"live\", \"live\", \"live\", \"live\", \"live\", \"live\", \"live\", \"live\", \"live\", \"loga\", \"loga\", \"loga\", \"loga\", \"loga\", \"loga\", \"loga\", \"loga\", \"loga\", \"loga\", \"long\", \"long\", \"long\", \"long\", \"long\", \"long\", \"long\", \"long\", \"long\", \"long\", \"look\", \"look\", \"look\", \"look\", \"look\", \"look\", \"look\", \"look\", \"look\", \"look\", \"look9998\", \"look9998\", \"look9998\", \"look9998\", \"look9998\", \"look9998\", \"look9998\", \"look9998\", \"look9998\", \"look9998\", \"los\", \"los\", \"los\", \"los\", \"los\", \"los\", \"los\", \"los\", \"los\", \"los\", \"lot\", \"lot\", \"lot\", \"lot\", \"lot\", \"lot\", \"lot\", \"lot\", \"lot\", \"lot\", \"love\", \"love\", \"love\", \"love\", \"love\", \"love\", \"love\", \"love\", \"love\", \"love\", \"lovely\", \"lovely\", \"lovely\", \"lovely\", \"lovely\", \"lovely\", \"lovely\", \"lovely\", \"lovely\", \"lovely\", \"lunch\", \"lunch\", \"lunch\", \"lunch\", \"lunch\", \"lunch\", \"lunch\", \"lunch\", \"lunch\", \"lunch\", \"ma12\", \"ma12\", \"ma12\", \"ma12\", \"ma12\", \"ma12\", \"ma12\", \"ma12\", \"ma12\", \"ma12\", \"mac\", \"mac\", \"mac\", \"mac\", \"mac\", \"mac\", \"mac\", \"mac\", \"mac\", \"mac\", \"mall\", \"mall\", \"mall\", \"mall\", \"mall\", \"mall\", \"mall\", \"mall\", \"mall\", \"mall\", \"management\", \"management\", \"management\", \"management\", \"management\", \"management\", \"management\", \"management\", \"management\", \"management\", \"marketing\", \"marketing\", \"marketing\", \"marketing\", \"marketing\", \"marketing\", \"marketing\", \"marketing\", \"marketing\", \"marketing\", \"maryann\", \"maryann\", \"maryann\", \"maryann\", \"maryann\", \"maryann\", \"maryann\", \"maryann\", \"maryann\", \"maryann\", \"massage\", \"massage\", \"massage\", \"massage\", \"massage\", \"massage\", \"massage\", \"massage\", \"massage\", \"massage\", \"menu\", \"menu\", \"menu\", \"menu\", \"menu\", \"menu\", \"menu\", \"menu\", \"menu\", \"menu\", \"mexican\", \"mexican\", \"mexican\", \"mexican\", \"mexican\", \"mexican\", \"mexican\", \"mexican\", \"mexican\", \"mexican\", \"minute\", \"minute\", \"minute\", \"minute\", \"minute\", \"minute\", \"minute\", \"minute\", \"minute\", \"minute\", \"month\", \"month\", \"month\", \"month\", \"month\", \"month\", \"month\", \"month\", \"month\", \"month\", \"montreal\", \"montreal\", \"montreal\", \"montreal\", \"montreal\", \"montreal\", \"montreal\", \"montreal\", \"montreal\", \"montreal\", \"morning\", \"morning\", \"morning\", \"morning\", \"morning\", \"morning\", \"morning\", \"morning\", \"morning\", \"morning\", \"mu9977\", \"mu9977\", \"mu9977\", \"mu9977\", \"mu9977\", \"mu9977\", \"mu9977\", \"mu9977\", \"mu9977\", \"mu9977\", \"name\", \"name\", \"name\", \"name\", \"name\", \"name\", \"name\", \"name\", \"name\", \"name\", \"new\", \"new\", \"new\", \"new\", \"new\", \"new\", \"new\", \"new\", \"new\", \"new\", \"night\", \"night\", \"night\", \"night\", \"night\", \"night\", \"night\", \"night\", \"night\", \"night\", \"niguel\", \"niguel\", \"niguel\", \"niguel\", \"niguel\", \"niguel\", \"niguel\", \"niguel\", \"niguel\", \"niguel\", \"noodle\", \"noodle\", \"noodle\", \"noodle\", \"noodle\", \"noodle\", \"noodle\", \"noodle\", \"noodle\", \"noodle\", \"notch\", \"notch\", \"notch\", \"notch\", \"notch\", \"notch\", \"notch\", \"notch\", \"notch\", \"notch\", \"oak\", \"oak\", \"oak\", \"oak\", \"oak\", \"oak\", \"oak\", \"oak\", \"oak\", \"oak\", \"object\", \"object\", \"object\", \"object\", \"object\", \"object\", \"object\", \"object\", \"object\", \"object\", \"open\", \"open\", \"open\", \"open\", \"open\", \"open\", \"open\", \"open\", \"open\", \"open\", \"order\", \"order\", \"order\", \"order\", \"order\", \"order\", \"order\", \"order\", \"order\", \"order\", \"ove6\", \"ove6\", \"ove6\", \"ove6\", \"ove6\", \"ove6\", \"ove6\", \"ove6\", \"ove6\", \"ove6\", \"overwh9986\", \"overwh9986\", \"overwh9986\", \"overwh9986\", \"overwh9986\", \"overwh9986\", \"overwh9986\", \"overwh9986\", \"overwh9986\", \"overwh9986\", \"owner\", \"owner\", \"owner\", \"owner\", \"owner\", \"owner\", \"owner\", \"owner\", \"owner\", \"owner\", \"package\", \"package\", \"package\", \"package\", \"package\", \"package\", \"package\", \"package\", \"package\", \"package\", \"parathas\", \"parathas\", \"parathas\", \"parathas\", \"parathas\", \"parathas\", \"parathas\", \"parathas\", \"parathas\", \"parathas\", \"party\", \"party\", \"party\", \"party\", \"party\", \"party\", \"party\", \"party\", \"party\", \"party\", \"past\", \"past\", \"past\", \"past\", \"past\", \"past\", \"past\", \"past\", \"past\", \"past\", \"pay\", \"pay\", \"pay\", \"pay\", \"pay\", \"pay\", \"pay\", \"pay\", \"pay\", \"pay\", \"perfe7\", \"perfe7\", \"perfe7\", \"perfe7\", \"perfe7\", \"perfe7\", \"perfe7\", \"perfe7\", \"perfe7\", \"perfe7\", \"pho\", \"pho\", \"pho\", \"pho\", \"pho\", \"pho\", \"pho\", \"pho\", \"pho\", \"pho\", \"place\", \"place\", \"place\", \"place\", \"place\", \"place\", \"place\", \"place\", \"place\", \"place\", \"place11\", \"place11\", \"place11\", \"place11\", \"place11\", \"place11\", \"place11\", \"place11\", \"place11\", \"place11\", \"point\", \"point\", \"point\", \"point\", \"point\", \"point\", \"point\", \"point\", \"point\", \"point\", \"pop\", \"pop\", \"pop\", \"pop\", \"pop\", \"pop\", \"pop\", \"pop\", \"pop\", \"pop\", \"portion\", \"portion\", \"portion\", \"portion\", \"portion\", \"portion\", \"portion\", \"portion\", \"portion\", \"portion\", \"preppe\", \"preppe\", \"preppe\", \"preppe\", \"preppe\", \"preppe\", \"preppe\", \"preppe\", \"preppe\", \"preppe\", \"previous\", \"previous\", \"previous\", \"previous\", \"previous\", \"previous\", \"previous\", \"previous\", \"previous\", \"previous\", \"price\", \"price\", \"price\", \"price\", \"price\", \"price\", \"price\", \"price\", \"price\", \"price\", \"professional\", \"professional\", \"professional\", \"professional\", \"professional\", \"professional\", \"professional\", \"professional\", \"professional\", \"professional\", \"provide\", \"provide\", \"provide\", \"provide\", \"provide\", \"provide\", \"provide\", \"provide\", \"provide\", \"provide\", \"purchase\", \"purchase\", \"purchase\", \"purchase\", \"purchase\", \"purchase\", \"purchase\", \"purchase\", \"purchase\", \"purchase\", \"quick\", \"quick\", \"quick\", \"quick\", \"quick\", \"quick\", \"quick\", \"quick\", \"quick\", \"quick\", \"read\", \"read\", \"read\", \"read\", \"read\", \"read\", \"read\", \"read\", \"read\", \"read\", \"recommend\", \"recommend\", \"recommend\", \"recommend\", \"recommend\", \"recommend\", \"recommend\", \"recommend\", \"recommend\", \"recommend\", \"remember\", \"remember\", \"remember\", \"remember\", \"remember\", \"remember\", \"remember\", \"remember\", \"remember\", \"remember\", \"reservation\", \"reservation\", \"reservation\", \"reservation\", \"reservation\", \"reservation\", \"reservation\", \"reservation\", \"reservation\", \"reservation\", \"restaurant\", \"restaurant\", \"restaurant\", \"restaurant\", \"restaurant\", \"restaurant\", \"restaurant\", \"restaurant\", \"restaurant\", \"restaurant\", \"retailer\", \"retailer\", \"retailer\", \"retailer\", \"retailer\", \"retailer\", \"retailer\", \"retailer\", \"retailer\", \"retailer\", \"review\", \"review\", \"review\", \"review\", \"review\", \"review\", \"review\", \"review\", \"review\", \"review\", \"run\", \"run\", \"run\", \"run\", \"run\", \"run\", \"run\", \"run\", \"run\", \"run\", \"salesp9989\", \"salesp9989\", \"salesp9989\", \"salesp9989\", \"salesp9989\", \"salesp9989\", \"salesp9989\", \"salesp9989\", \"salesp9989\", \"salesp9989\", \"salon\", \"salon\", \"salon\", \"salon\", \"salon\", \"salon\", \"salon\", \"salon\", \"salon\", \"salon\", \"save\", \"save\", \"save\", \"save\", \"save\", \"save\", \"save\", \"save\", \"save\", \"save\", \"say\", \"say\", \"say\", \"say\", \"say\", \"say\", \"say\", \"say\", \"say\", \"say\", \"se26\", \"se26\", \"se26\", \"se26\", \"se26\", \"se26\", \"se26\", \"se26\", \"se26\", \"se26\", \"see\", \"see\", \"see\", \"see\", \"see\", \"see\", \"see\", \"see\", \"see\", \"see\", \"selection\", \"selection\", \"selection\", \"selection\", \"selection\", \"selection\", \"selection\", \"selection\", \"selection\", \"selection\", \"serve\", \"serve\", \"serve\", \"serve\", \"serve\", \"serve\", \"serve\", \"serve\", \"serve\", \"serve\", \"service\", \"service\", \"service\", \"service\", \"service\", \"service\", \"service\", \"service\", \"service\", \"service\", \"sever\", \"sever\", \"sever\", \"sever\", \"sever\", \"sever\", \"sever\", \"sever\", \"sever\", \"sever\", \"shop\", \"shop\", \"shop\", \"shop\", \"shop\", \"shop\", \"shop\", \"shop\", \"shop\", \"shop\", \"shopping\", \"shopping\", \"shopping\", \"shopping\", \"shopping\", \"shopping\", \"shopping\", \"shopping\", \"shopping\", \"shopping\", \"shops\", \"shops\", \"shops\", \"shops\", \"shops\", \"shops\", \"shops\", \"shops\", \"shops\", \"shops\", \"shut\", \"shut\", \"shut\", \"shut\", \"shut\", \"shut\", \"shut\", \"shut\", \"shut\", \"shut\", \"sit\", \"sit\", \"sit\", \"sit\", \"sit\", \"sit\", \"sit\", \"sit\", \"sit\", \"sit\", \"slider\", \"slider\", \"slider\", \"slider\", \"slider\", \"slider\", \"slider\", \"slider\", \"slider\", \"slider\", \"small\", \"small\", \"small\", \"small\", \"small\", \"small\", \"small\", \"small\", \"small\", \"small\", \"sport\", \"sport\", \"sport\", \"sport\", \"sport\", \"sport\", \"sport\", \"sport\", \"sport\", \"sport\", \"spot\", \"spot\", \"spot\", \"spot\", \"spot\", \"spot\", \"spot\", \"spot\", \"spot\", \"spot\", \"square\", \"square\", \"square\", \"square\", \"square\", \"square\", \"square\", \"square\", \"square\", \"square\", \"staff\", \"staff\", \"staff\", \"staff\", \"staff\", \"staff\", \"staff\", \"staff\", \"staff\", \"staff\", \"stand\", \"stand\", \"stand\", \"stand\", \"stand\", \"stand\", \"stand\", \"stand\", \"stand\", \"stand\", \"star\", \"star\", \"star\", \"star\", \"star\", \"star\", \"star\", \"star\", \"star\", \"star\", \"stay\", \"stay\", \"stay\", \"stay\", \"stay\", \"stay\", \"stay\", \"stay\", \"stay\", \"stay\", \"steak\", \"steak\", \"steak\", \"steak\", \"steak\", \"steak\", \"steak\", \"steak\", \"steak\", \"steak\", \"step\", \"step\", \"step\", \"step\", \"step\", \"step\", \"step\", \"step\", \"step\", \"step\", \"stock\", \"stock\", \"stock\", \"stock\", \"stock\", \"stock\", \"stock\", \"stock\", \"stock\", \"stock\", \"store\", \"store\", \"store\", \"store\", \"store\", \"store\", \"store\", \"store\", \"store\", \"store\", \"street\", \"street\", \"street\", \"street\", \"street\", \"street\", \"street\", \"street\", \"street\", \"street\", \"subway\", \"subway\", \"subway\", \"subway\", \"subway\", \"subway\", \"subway\", \"subway\", \"subway\", \"subway\", \"sure\", \"sure\", \"sure\", \"sure\", \"sure\", \"sure\", \"sure\", \"sure\", \"sure\", \"sure\", \"sushi\", \"sushi\", \"sushi\", \"sushi\", \"sushi\", \"sushi\", \"sushi\", \"sushi\", \"sushi\", \"sushi\", \"susten28\", \"susten28\", \"susten28\", \"susten28\", \"susten28\", \"susten28\", \"susten28\", \"susten28\", \"susten28\", \"susten28\", \"sw\", \"sw\", \"sw\", \"sw\", \"sw\", \"sw\", \"sw\", \"sw\", \"sw\", \"sw\", \"talk\", \"talk\", \"talk\", \"talk\", \"talk\", \"talk\", \"talk\", \"talk\", \"talk\", \"talk\", \"tasty\", \"tasty\", \"tasty\", \"tasty\", \"tasty\", \"tasty\", \"tasty\", \"tasty\", \"tasty\", \"tasty\", \"technician\", \"technician\", \"technician\", \"technician\", \"technician\", \"technician\", \"technician\", \"technician\", \"technician\", \"technician\", \"test\", \"test\", \"test\", \"test\", \"test\", \"test\", \"test\", \"test\", \"test\", \"test\", \"thw\", \"thw\", \"thw\", \"thw\", \"thw\", \"thw\", \"thw\", \"thw\", \"thw\", \"thw\", \"time\", \"time\", \"time\", \"time\", \"time\", \"time\", \"time\", \"time\", \"time\", \"time\", \"today\", \"today\", \"today\", \"today\", \"today\", \"today\", \"today\", \"today\", \"today\", \"today\", \"togo\", \"togo\", \"togo\", \"togo\", \"togo\", \"togo\", \"togo\", \"togo\", \"togo\", \"togo\", \"tokens\", \"tokens\", \"tokens\", \"tokens\", \"tokens\", \"tokens\", \"tokens\", \"tokens\", \"tokens\", \"tokens\", \"tonight\", \"tonight\", \"tonight\", \"tonight\", \"tonight\", \"tonight\", \"tonight\", \"tonight\", \"tonight\", \"tonight\", \"toronto\", \"toronto\", \"toronto\", \"toronto\", \"toronto\", \"toronto\", \"toronto\", \"toronto\", \"toronto\", \"toronto\", \"touch\", \"touch\", \"touch\", \"touch\", \"touch\", \"touch\", \"touch\", \"touch\", \"touch\", \"touch\", \"tour\", \"tour\", \"tour\", \"tour\", \"tour\", \"tour\", \"tour\", \"tour\", \"tour\", \"tour\", \"town\", \"town\", \"town\", \"town\", \"town\", \"town\", \"town\", \"town\", \"town\", \"town\", \"truly\", \"truly\", \"truly\", \"truly\", \"truly\", \"truly\", \"truly\", \"truly\", \"truly\", \"truly\", \"try\", \"try\", \"try\", \"try\", \"try\", \"try\", \"try\", \"try\", \"try\", \"try\", \"try14\", \"try14\", \"try14\", \"try14\", \"try14\", \"try14\", \"try14\", \"try14\", \"try14\", \"try14\", \"vegas\", \"vegas\", \"vegas\", \"vegas\", \"vegas\", \"vegas\", \"vegas\", \"vegas\", \"vegas\", \"vegas\", \"visit\", \"visit\", \"visit\", \"visit\", \"visit\", \"visit\", \"visit\", \"visit\", \"visit\", \"visit\", \"w9976\", \"w9976\", \"w9976\", \"w9976\", \"w9976\", \"w9976\", \"w9976\", \"w9976\", \"w9976\", \"w9976\", \"walk\", \"walk\", \"walk\", \"walk\", \"walk\", \"walk\", \"walk\", \"walk\", \"walk\", \"walk\", \"watch\", \"watch\", \"watch\", \"watch\", \"watch\", \"watch\", \"watch\", \"watch\", \"watch\", \"watch\", \"week\", \"week\", \"week\", \"week\", \"week\", \"week\", \"week\", \"week\", \"week\", \"week\", \"wi9987\", \"wi9987\", \"wi9987\", \"wi9987\", \"wi9987\", \"wi9987\", \"wi9987\", \"wi9987\", \"wi9987\", \"wi9987\", \"wife\", \"wife\", \"wife\", \"wife\", \"wife\", \"wife\", \"wife\", \"wife\", \"wife\", \"wife\", \"wond23\", \"wond23\", \"wond23\", \"wond23\", \"wond23\", \"wond23\", \"wond23\", \"wond23\", \"wond23\", \"wond23\", \"work\", \"work\", \"work\", \"work\", \"work\", \"work\", \"work\", \"work\", \"work\", \"work\", \"world\", \"world\", \"world\", \"world\", \"world\", \"world\", \"world\", \"world\", \"world\", \"world\", \"wow\", \"wow\", \"wow\", \"wow\", \"wow\", \"wow\", \"wow\", \"wow\", \"wow\", \"wow\", \"year\", \"year\", \"year\", \"year\", \"year\", \"year\", \"year\", \"year\", \"year\", \"year\", \"yes\", \"yes\", \"yes\", \"yes\", \"yes\", \"yes\", \"yes\", \"yes\", \"yes\", \"yes\"]}, \"R\": 30, \"lambda.step\": 0.01, \"plot.opts\": {\"xlab\": \"PC1\", \"ylab\": \"PC2\"}, \"topic.order\": [6, 4, 1, 2, 8, 7, 10, 3, 9, 5]};\n",
       "\n",
       "function LDAvis_load_lib(url, callback){\n",
       "  var s = document.createElement('script');\n",
       "  s.src = url;\n",
       "  s.async = true;\n",
       "  s.onreadystatechange = s.onload = callback;\n",
       "  s.onerror = function(){console.warn(\"failed to load library \" + url);};\n",
       "  document.getElementsByTagName(\"head\")[0].appendChild(s);\n",
       "}\n",
       "\n",
       "if(typeof(LDAvis) !== \"undefined\"){\n",
       "   // already loaded: just create the visualization\n",
       "   !function(LDAvis){\n",
       "       new LDAvis(\"#\" + \"ldavis_el7301611774266856080410517\", ldavis_el7301611774266856080410517_data);\n",
       "   }(LDAvis);\n",
       "}else if(typeof define === \"function\" && define.amd){\n",
       "   // require.js is available: use it to load d3/LDAvis\n",
       "   require.config({paths: {d3: \"https://cdnjs.cloudflare.com/ajax/libs/d3/3.5.5/d3.min\"}});\n",
       "   require([\"d3\"], function(d3){\n",
       "      window.d3 = d3;\n",
       "      LDAvis_load_lib(\"https://cdn.rawgit.com/bmabey/pyLDAvis/files/ldavis.v1.0.0.js\", function(){\n",
       "        new LDAvis(\"#\" + \"ldavis_el7301611774266856080410517\", ldavis_el7301611774266856080410517_data);\n",
       "      });\n",
       "    });\n",
       "}else{\n",
       "    // require.js not available: dynamically load d3 & LDAvis\n",
       "    LDAvis_load_lib(\"https://cdnjs.cloudflare.com/ajax/libs/d3/3.5.5/d3.min.js\", function(){\n",
       "         LDAvis_load_lib(\"https://cdn.rawgit.com/bmabey/pyLDAvis/files/ldavis.v1.0.0.js\", function(){\n",
       "                 new LDAvis(\"#\" + \"ldavis_el7301611774266856080410517\", ldavis_el7301611774266856080410517_data);\n",
       "            })\n",
       "         });\n",
       "}\n",
       "</script>"
      ],
      "text/plain": [
       "PreparedData(topic_coordinates=              x         y  topics  cluster       Freq\n",
       "topic                                                \n",
       "5      0.003244  0.002892       1        1  11.031054\n",
       "3      0.002017  0.000264       2        1  10.775642\n",
       "0      0.000098  0.000201       3        1  10.405326\n",
       "1      0.000511 -0.000680       4        1  10.310887\n",
       "7      0.001759 -0.002470       5        1  10.291472\n",
       "6     -0.001727 -0.000803       6        1   9.695089\n",
       "9     -0.000376 -0.001116       7        1   9.685155\n",
       "2     -0.002817 -0.001483       8        1   9.500224\n",
       "8      0.000197 -0.000627       9        1   9.315922\n",
       "4     -0.002905  0.003822      10        1   8.989231, topic_info=    Category          Freq        Term         Total  loglift  logprob\n",
       "143  Default  69587.000000       great  69587.000000  30.0000  30.0000\n",
       "32   Default  51283.000000        \\n\\n  51283.000000  29.0000  29.0000\n",
       "281  Default  68687.000000     service  68687.000000  28.0000  28.0000\n",
       "141  Default  98061.000000        good  98061.000000  27.0000  27.0000\n",
       "205  Default  30973.000000        menu  30973.000000  26.0000  26.0000\n",
       "319  Default  60028.000000        time  60028.000000  25.0000  25.0000\n",
       "130  Default  30303.000000       fresh  30303.000000  24.0000  24.0000\n",
       "37   Default  50393.000000     amazing  50393.000000  23.0000  23.0000\n",
       "126  Default  69089.000000        food  69089.000000  22.0000  22.0000\n",
       "352  Default  29565.000000        year  29565.000000  21.0000  21.0000\n",
       "1    Default  20046.000000          10  20046.000000  20.0000  20.0000\n",
       "194  Default  40178.000000        love  40178.000000  19.0000  19.0000\n",
       "218  Default  30592.000000       night  30592.000000  18.0000  18.0000\n",
       "51   Default  20497.000000        beef  20497.000000  17.0000  17.0000\n",
       "209  Default  10493.000000    montreal  10493.000000  16.0000  16.0000\n",
       "140  Default  50120.000000          go  50120.000000  15.0000  15.0000\n",
       "115  Default  30455.000000        fake  30455.000000  14.0000  14.0000\n",
       "341  Default  19641.000000       watch  19641.000000  13.0000  13.0000\n",
       "273  Default  20520.000000         say  20520.000000  12.0000  12.0000\n",
       "196  Default  20112.000000       lunch  20112.000000  11.0000  11.0000\n",
       "263  Default  20345.000000  restaurant  20345.000000  10.0000  10.0000\n",
       "220  Default  20027.000000      noodle  20027.000000   9.0000   9.0000\n",
       "101  Default  20299.000000       drink  20299.000000   8.0000   8.0000\n",
       "340  Default  20310.000000        walk  20310.000000   7.0000   7.0000\n",
       "279  Default  10359.000000       serve  10359.000000   6.0000   6.0000\n",
       "77   Default  20102.000000      circus  20102.000000   5.0000   5.0000\n",
       "129  Default   9829.000000       forum   9829.000000   4.0000   4.0000\n",
       "65   Default  19602.000000        busy  19602.000000   3.0000   3.0000\n",
       "136  Default  49947.000000         get  49947.000000   2.0000   2.0000\n",
       "107  Default  19873.000000         end  19873.000000   1.0000   1.0000\n",
       "..       ...           ...         ...           ...      ...      ...\n",
       "176  Topic10   1113.678101       kraft  10012.062500   0.2130  -5.9699\n",
       "53   Topic10   1116.870850      beware  10081.930664   0.2089  -5.9671\n",
       "327  Topic10   1116.001099        tour  10081.036133   0.2082  -5.9678\n",
       "101  Topic10   2203.790039       drink  20299.726562   0.1887  -5.2874\n",
       "205  Topic10   3266.273682        menu  30973.248047   0.1597  -4.8939\n",
       "61   Topic10   2154.761719      buffet  20147.669922   0.1737  -5.3099\n",
       "136  Topic10   4973.789551         get  49947.074219   0.1024  -4.4734\n",
       "126  Topic10   6577.005859        food  69089.265625   0.0573  -4.1940\n",
       "194  Topic10   4037.362305        love  40178.671875   0.1114  -4.6820\n",
       "319  Topic10   5502.833496        time  60028.609375   0.0196  -4.3723\n",
       "108  Topic10   2091.529541       enjoy  19851.662109   0.1588  -5.3397\n",
       "44   Topic10   2080.649658     awesome  19794.197266   0.1564  -5.3449\n",
       "141  Topic10   7955.876465        good  98061.937500  -0.1025  -4.0037\n",
       "143  Topic10   5667.477539       great  69587.070312  -0.0987  -4.3428\n",
       "140  Topic10   4226.563965          go  50120.195312  -0.0639  -4.6362\n",
       "65   Topic10   2009.746948        busy  19602.111328   0.1315  -5.3796\n",
       "88   Topic10   2013.704346    customer  19796.347656   0.1236  -5.3776\n",
       "11   Topic10   1988.232178          24  19833.554688   0.1090  -5.3903\n",
       "77   Topic10   2007.150757      circus  20102.572266   0.1050  -5.3809\n",
       "49   Topic10   2013.012695   bartender  20247.722656   0.1007  -5.3780\n",
       "241  Topic10   4441.822266       place  59525.117188  -0.1862  -4.5865\n",
       "232  Topic10   2008.354492       owner  20235.167969   0.0990  -5.3803\n",
       "84   Topic10   3745.324219        come  49005.289062  -0.1623  -4.7571\n",
       "115  Topic10   2644.562256        fake  30455.345703  -0.0346  -5.1051\n",
       "349  Topic10   2537.849365        work  29966.781250  -0.0596  -5.1463\n",
       "46   Topic10   2503.401123         bad  30088.443359  -0.0773  -5.1599\n",
       "97   Topic10   2495.044434      dinner  30029.824219  -0.0787  -5.1633\n",
       "218  Topic10   2510.982422       night  30592.363281  -0.0909  -5.1569\n",
       "281  Topic10   3617.811523     service  68687.507812  -0.5346  -4.7917\n",
       "133  Topic10   2371.338623    friendly  29646.824219  -0.1168  -5.2141\n",
       "\n",
       "[606 rows x 6 columns], token_table=      Topic      Freq  Term\n",
       "term                       \n",
       "0         1  0.098462     0\n",
       "0         2  0.131749     0\n",
       "0         3  0.112057     0\n",
       "0         4  0.106859     0\n",
       "0         5  0.074971     0\n",
       "0         6  0.107259     0\n",
       "0         7  0.087067     0\n",
       "0         8  0.086067     0\n",
       "0         9  0.108059     0\n",
       "0        10  0.087366     0\n",
       "1         1  0.115730    10\n",
       "1         2  0.131693    10\n",
       "1         3  0.099768    10\n",
       "1         4  0.083007    10\n",
       "1         5  0.067692    10\n",
       "1         6  0.089891    10\n",
       "1         7  0.145312    10\n",
       "1         8  0.078717    10\n",
       "1         9  0.110642    10\n",
       "1        10  0.077470    10\n",
       "3         1  0.081692  1299\n",
       "3         2  0.095719  1299\n",
       "3         3  0.101744  1299\n",
       "3         4  0.117154  1299\n",
       "3         5  0.117352  1299\n",
       "3         6  0.094533  1299\n",
       "3         7  0.122192  1299\n",
       "3         8  0.085149  1299\n",
       "3         9  0.096410  1299\n",
       "3        10  0.088014  1299\n",
       "...     ...       ...   ...\n",
       "351       1  0.111599   wow\n",
       "351       2  0.141038   wow\n",
       "351       3  0.095598   wow\n",
       "351       4  0.086982   wow\n",
       "351       5  0.159091   wow\n",
       "351       6  0.070673   wow\n",
       "351       7  0.094983   wow\n",
       "351       8  0.076622   wow\n",
       "351       9  0.079084   wow\n",
       "351      10  0.084212   wow\n",
       "352       1  0.112393  year\n",
       "352       2  0.111108  year\n",
       "352       3  0.105865  year\n",
       "352       4  0.085233  year\n",
       "352       5  0.136779  year\n",
       "352       6  0.113678  year\n",
       "352       7  0.107996  year\n",
       "352       8  0.075323  year\n",
       "352       9  0.101265  year\n",
       "352      10  0.050396  year\n",
       "353       1  0.091469   yes\n",
       "353       2  0.107917   yes\n",
       "353       3  0.126873   yes\n",
       "353       4  0.120955   yes\n",
       "353       5  0.084147   yes\n",
       "353       6  0.104307   yes\n",
       "353       7  0.106513   yes\n",
       "353       8  0.081540   yes\n",
       "353       9  0.097787   yes\n",
       "353      10  0.078430   yes\n",
       "\n",
       "[2650 rows x 3 columns], R=30, lambda_step=0.01, plot_opts={'xlab': 'PC1', 'ylab': 'PC2'}, topic_order=[6, 4, 1, 2, 8, 7, 10, 3, 9, 5])"
      ]
     },
     "execution_count": 137,
     "metadata": {},
     "output_type": "execute_result"
    }
   ],
   "source": [
    "pyLDAvis.gensim.prepare(lda, corpus, id2word)"
   ]
  },
  {
   "cell_type": "code",
   "execution_count": 138,
   "metadata": {},
   "outputs": [],
   "source": [
    "distro = [lda[d] for d in corpus]"
   ]
  },
  {
   "cell_type": "code",
   "execution_count": 139,
   "metadata": {},
   "outputs": [],
   "source": [
    "def update(doc):\n",
    "    d_dist = {k:0 for k in range(0,3)}\n",
    "    for t in doc:\n",
    "        d_dist[t[0]] = t[1]\n",
    "    return d_dist\n",
    "\n",
    "new_distro = [update(d) for d in distro]"
   ]
  },
  {
   "cell_type": "code",
   "execution_count": 141,
   "metadata": {},
   "outputs": [],
   "source": [
    "df_distro = pd.DataFrame.from_records(new_distro)\n",
    "df_distro.columns = topics\n",
    "df_distro['stars'] = yelp['stars']"
   ]
  },
  {
   "cell_type": "code",
   "execution_count": 142,
   "metadata": {},
   "outputs": [
    {
     "data": {
      "text/html": [
       "<div>\n",
       "<style scoped>\n",
       "    .dataframe tbody tr th:only-of-type {\n",
       "        vertical-align: middle;\n",
       "    }\n",
       "\n",
       "    .dataframe tbody tr th {\n",
       "        vertical-align: top;\n",
       "    }\n",
       "\n",
       "    .dataframe thead th {\n",
       "        text-align: right;\n",
       "    }\n",
       "</style>\n",
       "<table border=\"1\" class=\"dataframe\">\n",
       "  <thead>\n",
       "    <tr style=\"text-align: right;\">\n",
       "      <th></th>\n",
       "      <th>good food time</th>\n",
       "      <th>good great food</th>\n",
       "      <th>service great food</th>\n",
       "      <th>good service great</th>\n",
       "      <th>good \\n\\n food</th>\n",
       "      <th>good food great</th>\n",
       "      <th>good great time</th>\n",
       "      <th>good service place</th>\n",
       "      <th>good great service</th>\n",
       "      <th>good food service</th>\n",
       "      <th>stars</th>\n",
       "    </tr>\n",
       "  </thead>\n",
       "  <tbody>\n",
       "    <tr>\n",
       "      <th>0</th>\n",
       "      <td>0.095442</td>\n",
       "      <td>0.134489</td>\n",
       "      <td>0.099430</td>\n",
       "      <td>0.081039</td>\n",
       "      <td>0.109884</td>\n",
       "      <td>0.114156</td>\n",
       "      <td>0.103827</td>\n",
       "      <td>0.099038</td>\n",
       "      <td>0.088693</td>\n",
       "      <td>0.074003</td>\n",
       "      <td>1</td>\n",
       "    </tr>\n",
       "    <tr>\n",
       "      <th>1</th>\n",
       "      <td>0.102073</td>\n",
       "      <td>0.134879</td>\n",
       "      <td>0.096491</td>\n",
       "      <td>0.115645</td>\n",
       "      <td>0.039926</td>\n",
       "      <td>0.101781</td>\n",
       "      <td>0.084390</td>\n",
       "      <td>0.096708</td>\n",
       "      <td>0.105131</td>\n",
       "      <td>0.122977</td>\n",
       "      <td>4</td>\n",
       "    </tr>\n",
       "    <tr>\n",
       "      <th>2</th>\n",
       "      <td>0.106589</td>\n",
       "      <td>0.084181</td>\n",
       "      <td>0.090468</td>\n",
       "      <td>0.108731</td>\n",
       "      <td>0.111972</td>\n",
       "      <td>0.122389</td>\n",
       "      <td>0.079082</td>\n",
       "      <td>0.098128</td>\n",
       "      <td>0.146918</td>\n",
       "      <td>0.051542</td>\n",
       "      <td>3</td>\n",
       "    </tr>\n",
       "    <tr>\n",
       "      <th>3</th>\n",
       "      <td>0.054478</td>\n",
       "      <td>0.138235</td>\n",
       "      <td>0.116778</td>\n",
       "      <td>0.114537</td>\n",
       "      <td>0.067033</td>\n",
       "      <td>0.121999</td>\n",
       "      <td>0.070710</td>\n",
       "      <td>0.091003</td>\n",
       "      <td>0.105376</td>\n",
       "      <td>0.119850</td>\n",
       "      <td>1</td>\n",
       "    </tr>\n",
       "    <tr>\n",
       "      <th>4</th>\n",
       "      <td>0.125981</td>\n",
       "      <td>0.044595</td>\n",
       "      <td>0.103188</td>\n",
       "      <td>0.099606</td>\n",
       "      <td>0.079684</td>\n",
       "      <td>0.105309</td>\n",
       "      <td>0.091549</td>\n",
       "      <td>0.148051</td>\n",
       "      <td>0.112323</td>\n",
       "      <td>0.089714</td>\n",
       "      <td>4</td>\n",
       "    </tr>\n",
       "  </tbody>\n",
       "</table>\n",
       "</div>"
      ],
      "text/plain": [
       "   good food time  good great food  service great food  good service great  \\\n",
       "0        0.095442         0.134489            0.099430            0.081039   \n",
       "1        0.102073         0.134879            0.096491            0.115645   \n",
       "2        0.106589         0.084181            0.090468            0.108731   \n",
       "3        0.054478         0.138235            0.116778            0.114537   \n",
       "4        0.125981         0.044595            0.103188            0.099606   \n",
       "\n",
       "   good \\n\\n food  good food great  good great time  good service place  \\\n",
       "0        0.109884         0.114156         0.103827            0.099038   \n",
       "1        0.039926         0.101781         0.084390            0.096708   \n",
       "2        0.111972         0.122389         0.079082            0.098128   \n",
       "3        0.067033         0.121999         0.070710            0.091003   \n",
       "4        0.079684         0.105309         0.091549            0.148051   \n",
       "\n",
       "   good great service  good food service  stars  \n",
       "0            0.088693           0.074003      1  \n",
       "1            0.105131           0.122977      4  \n",
       "2            0.146918           0.051542      3  \n",
       "3            0.105376           0.119850      1  \n",
       "4            0.112323           0.089714      4  "
      ]
     },
     "execution_count": 142,
     "metadata": {},
     "output_type": "execute_result"
    }
   ],
   "source": [
    "df_distro.head()"
   ]
  },
  {
   "cell_type": "code",
   "execution_count": 143,
   "metadata": {},
   "outputs": [
    {
     "data": {
      "text/html": [
       "<div>\n",
       "<style scoped>\n",
       "    .dataframe tbody tr th:only-of-type {\n",
       "        vertical-align: middle;\n",
       "    }\n",
       "\n",
       "    .dataframe tbody tr th {\n",
       "        vertical-align: top;\n",
       "    }\n",
       "\n",
       "    .dataframe thead th {\n",
       "        text-align: right;\n",
       "    }\n",
       "</style>\n",
       "<table border=\"1\" class=\"dataframe\">\n",
       "  <thead>\n",
       "    <tr style=\"text-align: right;\">\n",
       "      <th></th>\n",
       "      <th>good food time</th>\n",
       "      <th>good great food</th>\n",
       "      <th>service great food</th>\n",
       "      <th>good service great</th>\n",
       "      <th>good \\n\\n food</th>\n",
       "      <th>good food great</th>\n",
       "      <th>good great time</th>\n",
       "      <th>good service place</th>\n",
       "      <th>good great service</th>\n",
       "      <th>good food service</th>\n",
       "    </tr>\n",
       "    <tr>\n",
       "      <th>stars</th>\n",
       "      <th></th>\n",
       "      <th></th>\n",
       "      <th></th>\n",
       "      <th></th>\n",
       "      <th></th>\n",
       "      <th></th>\n",
       "      <th></th>\n",
       "      <th></th>\n",
       "      <th></th>\n",
       "      <th></th>\n",
       "    </tr>\n",
       "  </thead>\n",
       "  <tbody>\n",
       "    <tr>\n",
       "      <th>1</th>\n",
       "      <td>0.103883</td>\n",
       "      <td>0.104629</td>\n",
       "      <td>0.095179</td>\n",
       "      <td>0.108542</td>\n",
       "      <td>0.090202</td>\n",
       "      <td>0.109530</td>\n",
       "      <td>0.095507</td>\n",
       "      <td>0.102837</td>\n",
       "      <td>0.092568</td>\n",
       "      <td>0.097123</td>\n",
       "    </tr>\n",
       "    <tr>\n",
       "      <th>2</th>\n",
       "      <td>0.105031</td>\n",
       "      <td>0.103065</td>\n",
       "      <td>0.094925</td>\n",
       "      <td>0.107806</td>\n",
       "      <td>0.089944</td>\n",
       "      <td>0.109861</td>\n",
       "      <td>0.097623</td>\n",
       "      <td>0.100653</td>\n",
       "      <td>0.093897</td>\n",
       "      <td>0.097196</td>\n",
       "    </tr>\n",
       "    <tr>\n",
       "      <th>3</th>\n",
       "      <td>0.103895</td>\n",
       "      <td>0.102713</td>\n",
       "      <td>0.094016</td>\n",
       "      <td>0.109264</td>\n",
       "      <td>0.090945</td>\n",
       "      <td>0.110146</td>\n",
       "      <td>0.096430</td>\n",
       "      <td>0.103863</td>\n",
       "      <td>0.091964</td>\n",
       "      <td>0.096765</td>\n",
       "    </tr>\n",
       "    <tr>\n",
       "      <th>4</th>\n",
       "      <td>0.105201</td>\n",
       "      <td>0.102841</td>\n",
       "      <td>0.095054</td>\n",
       "      <td>0.107802</td>\n",
       "      <td>0.090335</td>\n",
       "      <td>0.109521</td>\n",
       "      <td>0.097325</td>\n",
       "      <td>0.103037</td>\n",
       "      <td>0.093033</td>\n",
       "      <td>0.095852</td>\n",
       "    </tr>\n",
       "    <tr>\n",
       "      <th>5</th>\n",
       "      <td>0.103516</td>\n",
       "      <td>0.103353</td>\n",
       "      <td>0.095876</td>\n",
       "      <td>0.108538</td>\n",
       "      <td>0.089653</td>\n",
       "      <td>0.110219</td>\n",
       "      <td>0.096728</td>\n",
       "      <td>0.103188</td>\n",
       "      <td>0.092463</td>\n",
       "      <td>0.096465</td>\n",
       "    </tr>\n",
       "  </tbody>\n",
       "</table>\n",
       "</div>"
      ],
      "text/plain": [
       "       good food time  good great food  service great food  \\\n",
       "stars                                                        \n",
       "1            0.103883         0.104629            0.095179   \n",
       "2            0.105031         0.103065            0.094925   \n",
       "3            0.103895         0.102713            0.094016   \n",
       "4            0.105201         0.102841            0.095054   \n",
       "5            0.103516         0.103353            0.095876   \n",
       "\n",
       "       good service great  good \\n\\n food  good food great  good great time  \\\n",
       "stars                                                                         \n",
       "1                0.108542        0.090202         0.109530         0.095507   \n",
       "2                0.107806        0.089944         0.109861         0.097623   \n",
       "3                0.109264        0.090945         0.110146         0.096430   \n",
       "4                0.107802        0.090335         0.109521         0.097325   \n",
       "5                0.108538        0.089653         0.110219         0.096728   \n",
       "\n",
       "       good service place  good great service  good food service  \n",
       "stars                                                             \n",
       "1                0.102837            0.092568           0.097123  \n",
       "2                0.100653            0.093897           0.097196  \n",
       "3                0.103863            0.091964           0.096765  \n",
       "4                0.103037            0.093033           0.095852  \n",
       "5                0.103188            0.092463           0.096465  "
      ]
     },
     "execution_count": 143,
     "metadata": {},
     "output_type": "execute_result"
    }
   ],
   "source": [
    "df_distro.groupby('stars').mean().head()"
   ]
  },
  {
   "cell_type": "markdown",
   "metadata": {},
   "source": [
    "### Analysis\n",
    "\n",
    "I can tell from my topic model that I need to add some specific stop words to make the results more meaningful.  \"Good\", \"Service\", \"Food\", \"Great\" come to mind.  For some reason the filtering of high frequency words did not work on the id2word function.. which is another reason.  I ran out of time before I could debug it. \n",
    "\n",
    "Despite all that, I have a frame work for analyzing the text pretty well.  I was also able to group the tf-idf dataframe by rating.  By doing this, and better filtering of words, I feel like it would be possible to get a sentiment on what time of things makes up a five star review.  By doing so, a business can make use of feedback more efficiently.  The same can be said for low star reviews."
   ]
  },
  {
   "cell_type": "markdown",
   "metadata": {},
   "source": [
    "## Stretch Goals\n",
    "\n",
    "Complete one of more of these to push your score towards a three: \n",
    "* Incorporate named entity recognition into your analysis\n",
    "* Compare vectorization methods in the classification section\n",
    "* Analyze more (or all) of the yelp dataset - this one is v. hard. \n",
    "* Use a generator object on the reviews file - this would help you with the analyzing the whole dataset.\n",
    "* Incorporate any of the other yelp dataset entities in your analysis (business, users, etc.)"
   ]
  }
 ],
 "metadata": {
  "kernelspec": {
   "display_name": "U4-S1-NLP (Python 3)",
   "language": "python",
   "name": "u4-s1-nlp"
  },
  "language_info": {
   "codemirror_mode": {
    "name": "ipython",
    "version": 3
   },
   "file_extension": ".py",
   "mimetype": "text/x-python",
   "name": "python",
   "nbconvert_exporter": "python",
   "pygments_lexer": "ipython3",
   "version": "3.7.3"
  },
  "toc-autonumbering": false
 },
 "nbformat": 4,
 "nbformat_minor": 2
}
