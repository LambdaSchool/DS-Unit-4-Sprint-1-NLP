{
 "cells": [
  {
   "cell_type": "code",
   "execution_count": 14,
   "metadata": {},
   "outputs": [],
   "source": [
    "def time_planner(a, b, dur):\n",
    "    for a_ in a:\n",
    "        for b_ in b:\n",
    "            if (a_[0] < b_[1]) and (a_[1] > b_[0]):\n",
    "                window = min(a_[1], b_[1]) - max(a_[0], b_[0])\n",
    "                if window >= dur:\n",
    "                    start = max(a_[0], b_[0])\n",
    "                    end = start + dur\n",
    "                    return (start, end)\n",
    "    return None"
   ]
  },
  {
   "cell_type": "code",
   "execution_count": 15,
   "metadata": {},
   "outputs": [
    {
     "data": {
      "text/plain": [
       "(60, 68)"
      ]
     },
     "execution_count": 15,
     "metadata": {},
     "output_type": "execute_result"
    }
   ],
   "source": [
    "time_planner([(10, 50), (60, 120), (140, 210)], [(0, 15), (60, 70)], 8)"
   ]
  },
  {
   "cell_type": "code",
   "execution_count": 16,
   "metadata": {},
   "outputs": [],
   "source": [
    "time_planner([(10, 50), (60, 120), (140, 210)], [(0, 15), (60, 70)], 12)"
   ]
  },
  {
   "cell_type": "code",
   "execution_count": 17,
   "metadata": {},
   "outputs": [],
   "source": [
    "time_planner([(7,12)], [(2,11)], 5)"
   ]
  },
  {
   "cell_type": "markdown",
   "metadata": {},
   "source": [
    "Implement a time planner that receives the availability of two people and a duration. The time planner should return the earliest time slot that matches the given duration where both people have availability. If there is no common time slot that satisfies these requirements, return None.\n",
    "\n",
    "Each person's availability will be a list of tuples, with the first tuple element representing the start time of a time slot, and the second tuple element representing the end time of that time slot. The input variable dur is a positive integer that represents the duration of a meeting in seconds. The output should be a tuple with the appropriate start time and end time.\n",
    "\n",
    "Examples:\n",
    "\n",
    "input: a = [(10, 50), (60, 120), (140, 210)]         \n",
    "       b = [(0, 15), (60, 70)]         \n",
    "       dur = 8 \n",
    "output: (60, 68)  \n",
    "\n",
    "input: a = [(10, 50), (60, 120), (140, 210)]         \n",
    "       b = [(0, 15), (60, 70)]         \n",
    "       dur = 12 \n",
    "output: None # since there is no common slot\n",
    "\n",
    "These example inputs are obviously not realistic input numbers for representing meeting times. Ideally the inputs would consist of Unix epoch timestamps, but those are very large numbers to have to type out over and over again, so we're just going to fake that part. If your function works with these faux inputs, it will work just fine with Unix timestamps. "
   ]
  }
 ],
 "metadata": {
  "kernelspec": {
   "display_name": "US4-S1-NLP (Python 3)",
   "language": "python",
   "name": "u4-s1-nlp"
  },
  "language_info": {
   "codemirror_mode": {
    "name": "ipython",
    "version": 3
   },
   "file_extension": ".py",
   "mimetype": "text/x-python",
   "name": "python",
   "nbconvert_exporter": "python",
   "pygments_lexer": "ipython3",
   "version": "3.7.3"
  }
 },
 "nbformat": 4,
 "nbformat_minor": 2
}
