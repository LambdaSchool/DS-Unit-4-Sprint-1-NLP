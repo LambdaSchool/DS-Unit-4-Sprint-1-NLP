{
  "nbformat": 4,
  "nbformat_minor": 0,
  "metadata": {
    "colab": {
      "name": "LS_DS_423_Document_Classification_Assignment.ipynb",
      "version": "0.3.2",
      "provenance": []
    },
    "kernelspec": {
      "name": "python3",
      "display_name": "Python 3"
    }
  },
  "cells": [
    {
      "metadata": {
        "id": "-OJHr-tbuSuI",
        "colab_type": "text"
      },
      "cell_type": "markdown",
      "source": [
        "# Now it's your turn!\n",
        "\n",
        "Use the following dataset of scraped \"Data Scientist\" and \"Data Analyst\" job listings to create your own Document Classification Models.\n",
        "\n",
        "<https://raw.githubusercontent.com/LambdaSchool/DS-Unit-4-Sprint-2-NLP/master/module3-Document-Classification/job_listings.csv>\n",
        "\n",
        "Requirements:\n",
        "\n",
        "- Apply both CountVectorizer and TfidfVectorizer methods to this data and compare results\n",
        "- Use at least two different classification models to compare differences in model accuracy\n",
        "- Try to \"Hyperparameter Tune\" your model by using different n_gram ranges, max_results, and data cleaning methods\n",
        "- Try and get the highest accuracy possible!"
      ]
    },
    {
      "metadata": {
        "id": "ZZzt3Cr1fJZ_",
        "colab_type": "code",
        "colab": {}
      },
      "cell_type": "code",
      "source": [
        "import pandas as pd\n",
        "import numpy as np\n",
        "import re\n",
        "from sklearn.model_selection import cross_val_score, train_test_split\n",
        "from sklearn.feature_extraction.text import CountVectorizer\n"
      ],
      "execution_count": 0,
      "outputs": []
    },
    {
      "metadata": {
        "id": "MFreAPN3uGgz",
        "colab_type": "code",
        "colab": {}
      },
      "cell_type": "code",
      "source": [
        "##### Your Code Here #####\n",
        "\n",
        "df = pd.read_csv(\"https://raw.githubusercontent.com/LambdaSchool/DS-Unit-4-Sprint-2-NLP/master/module3-Document-Classification/job_listings.csv\")"
      ],
      "execution_count": 0,
      "outputs": []
    },
    {
      "metadata": {
        "id": "dBsKw5yjgloS",
        "colab_type": "code",
        "colab": {
          "base_uri": "https://localhost:8080/",
          "height": 204
        },
        "outputId": "4893ab45-95e6-46a3-b127-acaa2e3f7c9a"
      },
      "cell_type": "code",
      "source": [
        "df.head()"
      ],
      "execution_count": 3,
      "outputs": [
        {
          "output_type": "execute_result",
          "data": {
            "text/html": [
              "<div>\n",
              "<style scoped>\n",
              "    .dataframe tbody tr th:only-of-type {\n",
              "        vertical-align: middle;\n",
              "    }\n",
              "\n",
              "    .dataframe tbody tr th {\n",
              "        vertical-align: top;\n",
              "    }\n",
              "\n",
              "    .dataframe thead th {\n",
              "        text-align: right;\n",
              "    }\n",
              "</style>\n",
              "<table border=\"1\" class=\"dataframe\">\n",
              "  <thead>\n",
              "    <tr style=\"text-align: right;\">\n",
              "      <th></th>\n",
              "      <th>description</th>\n",
              "      <th>title</th>\n",
              "      <th>job</th>\n",
              "    </tr>\n",
              "  </thead>\n",
              "  <tbody>\n",
              "    <tr>\n",
              "      <th>0</th>\n",
              "      <td>b\"&lt;div&gt;&lt;div&gt;Job Requirements:&lt;/div&gt;&lt;ul&gt;&lt;li&gt;&lt;p&gt;...</td>\n",
              "      <td>Data scientist</td>\n",
              "      <td>Data Scientist</td>\n",
              "    </tr>\n",
              "    <tr>\n",
              "      <th>1</th>\n",
              "      <td>b'&lt;div&gt;Job Description&lt;br/&gt;\\n&lt;br/&gt;\\n&lt;p&gt;As a Da...</td>\n",
              "      <td>Data Scientist I</td>\n",
              "      <td>Data Scientist</td>\n",
              "    </tr>\n",
              "    <tr>\n",
              "      <th>2</th>\n",
              "      <td>b'&lt;div&gt;&lt;p&gt;As a Data Scientist you will be work...</td>\n",
              "      <td>Data Scientist - Entry Level</td>\n",
              "      <td>Data Scientist</td>\n",
              "    </tr>\n",
              "    <tr>\n",
              "      <th>3</th>\n",
              "      <td>b'&lt;div class=\"jobsearch-JobMetadataHeader icl-...</td>\n",
              "      <td>Data Scientist</td>\n",
              "      <td>Data Scientist</td>\n",
              "    </tr>\n",
              "    <tr>\n",
              "      <th>4</th>\n",
              "      <td>b'&lt;ul&gt;&lt;li&gt;Location: USA \\xe2\\x80\\x93 multiple ...</td>\n",
              "      <td>Data Scientist</td>\n",
              "      <td>Data Scientist</td>\n",
              "    </tr>\n",
              "  </tbody>\n",
              "</table>\n",
              "</div>"
            ],
            "text/plain": [
              "                                         description  \\\n",
              "0  b\"<div><div>Job Requirements:</div><ul><li><p>...   \n",
              "1  b'<div>Job Description<br/>\\n<br/>\\n<p>As a Da...   \n",
              "2  b'<div><p>As a Data Scientist you will be work...   \n",
              "3  b'<div class=\"jobsearch-JobMetadataHeader icl-...   \n",
              "4  b'<ul><li>Location: USA \\xe2\\x80\\x93 multiple ...   \n",
              "\n",
              "                          title             job  \n",
              "0               Data scientist   Data Scientist  \n",
              "1              Data Scientist I  Data Scientist  \n",
              "2  Data Scientist - Entry Level  Data Scientist  \n",
              "3                Data Scientist  Data Scientist  \n",
              "4                Data Scientist  Data Scientist  "
            ]
          },
          "metadata": {
            "tags": []
          },
          "execution_count": 3
        }
      ]
    },
    {
      "metadata": {
        "id": "-siVFvxegqgF",
        "colab_type": "code",
        "colab": {
          "base_uri": "https://localhost:8080/",
          "height": 68
        },
        "outputId": "6c57e2ee-915b-45ec-ceaa-b4421348cb85"
      },
      "cell_type": "code",
      "source": [
        "df.job.value_counts()"
      ],
      "execution_count": 5,
      "outputs": [
        {
          "output_type": "execute_result",
          "data": {
            "text/plain": [
              "Data Scientist    250\n",
              "Data Analyst      250\n",
              "Name: job, dtype: int64"
            ]
          },
          "metadata": {
            "tags": []
          },
          "execution_count": 5
        }
      ]
    },
    {
      "metadata": {
        "id": "prQf9LXphFcx",
        "colab_type": "code",
        "colab": {}
      },
      "cell_type": "code",
      "source": [
        "df.title.value_counts()"
      ],
      "execution_count": 0,
      "outputs": []
    },
    {
      "metadata": {
        "id": "hZfMnNsNjSQ_",
        "colab_type": "code",
        "colab": {}
      },
      "cell_type": "code",
      "source": [
        "import re"
      ],
      "execution_count": 0,
      "outputs": []
    },
    {
      "metadata": {
        "id": "mDMKVLN_kXoU",
        "colab_type": "code",
        "colab": {
          "base_uri": "https://localhost:8080/",
          "height": 54
        },
        "outputId": "03f62454-8b49-41ad-af41-01e9a58123a4"
      },
      "cell_type": "code",
      "source": [
        "s"
      ],
      "execution_count": 12,
      "outputs": [
        {
          "output_type": "execute_result",
          "data": {
            "text/plain": [
              "'b\"<div><div>Job Requirements:</div><ul><li><p>\\\\nConceptual understanding in Machine Learning models like Nai\\\\xc2\\\\xa8ve Bayes, K-Means, SVM, Apriori, Linear/ Logistic Regression, Neural, Random Forests, Decision Trees, K-NN along with hands-on experience in at least 2 of them</p>\\\\n</li><li><p>Intermediate to expert level coding skills in Python/R. (Ability to write functions, clean and efficient data manipulation are mandatory for this role)</p>\\\\n</li><li><p>Exposure to packages like NumPy, SciPy, Pandas, Matplotlib etc in Python or GGPlot2, dplyr, tidyR in R</p>\\\\n</li><li><p>Ability to communicate Model findings to both Technical and Non-Technical stake holders</p>\\\\n</li><li><p>Hands on experience in SQL/Hive or similar programming language</p>\\\\n</li><li><p>Must show past work via GitHub, Kaggle or any other published article</p>\\\\n</li><li><p>Master\\'s degree in Statistics/Mathematics/Computer Science or any other quant specific field.</p></li></ul><div><div><div><div><div><div>\\\\nApply Now</div></div></div></div></div></div></div><div></div>\"'"
            ]
          },
          "metadata": {
            "tags": []
          },
          "execution_count": 12
        }
      ]
    },
    {
      "metadata": {
        "id": "UD70x5FbjeUN",
        "colab_type": "code",
        "colab": {
          "base_uri": "https://localhost:8080/",
          "height": 34
        },
        "outputId": "fc1fa4c6-b6ea-4902-e2f4-c2f4d5208de5"
      },
      "cell_type": "code",
      "source": [
        "s=df['description'][0]\n",
        "s\n",
        "re.sub(\"<.*?>\",'',s)\n",
        "type(remove_tag(s))"
      ],
      "execution_count": 25,
      "outputs": [
        {
          "output_type": "execute_result",
          "data": {
            "text/plain": [
              "str"
            ]
          },
          "metadata": {
            "tags": []
          },
          "execution_count": 25
        }
      ]
    },
    {
      "metadata": {
        "id": "bCRt4DvzlvhD",
        "colab_type": "code",
        "colab": {}
      },
      "cell_type": "code",
      "source": [
        "def remove_tag(s):\n",
        "  \n",
        "  return re.sub(\"<.*?>\",'',s)"
      ],
      "execution_count": 0,
      "outputs": []
    },
    {
      "metadata": {
        "id": "Dxc5mPuFnka9",
        "colab_type": "code",
        "colab": {
          "base_uri": "https://localhost:8080/",
          "height": 34
        },
        "outputId": "eefac6a9-2af0-47a9-b846-d32aba31f9a8"
      },
      "cell_type": "code",
      "source": [
        "type('ajfdlajf')"
      ],
      "execution_count": 30,
      "outputs": [
        {
          "output_type": "execute_result",
          "data": {
            "text/plain": [
              "str"
            ]
          },
          "metadata": {
            "tags": []
          },
          "execution_count": 30
        }
      ]
    },
    {
      "metadata": {
        "id": "fRha7xaFl1cT",
        "colab_type": "code",
        "colab": {}
      },
      "cell_type": "code",
      "source": [
        "text =[]\n",
        "for i in df['description']:\n",
        "  s=remove_tag(str(i))\n",
        "  text.append(s)\n",
        "  \n",
        "\n",
        "df['d']=text"
      ],
      "execution_count": 0,
      "outputs": []
    },
    {
      "metadata": {
        "id": "8Ls9_Je_orib",
        "colab_type": "code",
        "colab": {
          "base_uri": "https://localhost:8080/",
          "height": 289
        },
        "outputId": "745ba60a-245c-467c-b67b-a2e7f5042a80"
      },
      "cell_type": "code",
      "source": [
        "df.head()"
      ],
      "execution_count": 35,
      "outputs": [
        {
          "output_type": "execute_result",
          "data": {
            "text/html": [
              "<div>\n",
              "<style scoped>\n",
              "    .dataframe tbody tr th:only-of-type {\n",
              "        vertical-align: middle;\n",
              "    }\n",
              "\n",
              "    .dataframe tbody tr th {\n",
              "        vertical-align: top;\n",
              "    }\n",
              "\n",
              "    .dataframe thead th {\n",
              "        text-align: right;\n",
              "    }\n",
              "</style>\n",
              "<table border=\"1\" class=\"dataframe\">\n",
              "  <thead>\n",
              "    <tr style=\"text-align: right;\">\n",
              "      <th></th>\n",
              "      <th>description</th>\n",
              "      <th>title</th>\n",
              "      <th>job</th>\n",
              "      <th>d</th>\n",
              "    </tr>\n",
              "  </thead>\n",
              "  <tbody>\n",
              "    <tr>\n",
              "      <th>0</th>\n",
              "      <td>b\"&lt;div&gt;&lt;div&gt;Job Requirements:&lt;/div&gt;&lt;ul&gt;&lt;li&gt;&lt;p&gt;...</td>\n",
              "      <td>Data scientist</td>\n",
              "      <td>Data Scientist</td>\n",
              "      <td>b\"Job Requirements:\\nConceptual understanding ...</td>\n",
              "    </tr>\n",
              "    <tr>\n",
              "      <th>1</th>\n",
              "      <td>b'&lt;div&gt;Job Description&lt;br/&gt;\\n&lt;br/&gt;\\n&lt;p&gt;As a Da...</td>\n",
              "      <td>Data Scientist I</td>\n",
              "      <td>Data Scientist</td>\n",
              "      <td>b'Job Description\\n\\nAs a Data Scientist 1, yo...</td>\n",
              "    </tr>\n",
              "    <tr>\n",
              "      <th>2</th>\n",
              "      <td>b'&lt;div&gt;&lt;p&gt;As a Data Scientist you will be work...</td>\n",
              "      <td>Data Scientist - Entry Level</td>\n",
              "      <td>Data Scientist</td>\n",
              "      <td>b'As a Data Scientist you will be working on c...</td>\n",
              "    </tr>\n",
              "    <tr>\n",
              "      <th>3</th>\n",
              "      <td>b'&lt;div class=\"jobsearch-JobMetadataHeader icl-...</td>\n",
              "      <td>Data Scientist</td>\n",
              "      <td>Data Scientist</td>\n",
              "      <td>b'$4,969 - $6,756 a monthContractUnder the gen...</td>\n",
              "    </tr>\n",
              "    <tr>\n",
              "      <th>4</th>\n",
              "      <td>b'&lt;ul&gt;&lt;li&gt;Location: USA \\xe2\\x80\\x93 multiple ...</td>\n",
              "      <td>Data Scientist</td>\n",
              "      <td>Data Scientist</td>\n",
              "      <td>b'Location: USA \\xe2\\x80\\x93 multiple location...</td>\n",
              "    </tr>\n",
              "  </tbody>\n",
              "</table>\n",
              "</div>"
            ],
            "text/plain": [
              "                                         description  \\\n",
              "0  b\"<div><div>Job Requirements:</div><ul><li><p>...   \n",
              "1  b'<div>Job Description<br/>\\n<br/>\\n<p>As a Da...   \n",
              "2  b'<div><p>As a Data Scientist you will be work...   \n",
              "3  b'<div class=\"jobsearch-JobMetadataHeader icl-...   \n",
              "4  b'<ul><li>Location: USA \\xe2\\x80\\x93 multiple ...   \n",
              "\n",
              "                          title             job  \\\n",
              "0               Data scientist   Data Scientist   \n",
              "1              Data Scientist I  Data Scientist   \n",
              "2  Data Scientist - Entry Level  Data Scientist   \n",
              "3                Data Scientist  Data Scientist   \n",
              "4                Data Scientist  Data Scientist   \n",
              "\n",
              "                                                   d  \n",
              "0  b\"Job Requirements:\\nConceptual understanding ...  \n",
              "1  b'Job Description\\n\\nAs a Data Scientist 1, yo...  \n",
              "2  b'As a Data Scientist you will be working on c...  \n",
              "3  b'$4,969 - $6,756 a monthContractUnder the gen...  \n",
              "4  b'Location: USA \\xe2\\x80\\x93 multiple location...  "
            ]
          },
          "metadata": {
            "tags": []
          },
          "execution_count": 35
        }
      ]
    },
    {
      "metadata": {
        "id": "lxGnu_GOhREA",
        "colab_type": "code",
        "colab": {}
      },
      "cell_type": "code",
      "source": [
        "X = df['d']\n",
        "y = df['job']\n",
        "\n",
        "X_train, X_test, y_train, y_test = train_test_split(X, y, test_size=0.2, random_state=42)"
      ],
      "execution_count": 0,
      "outputs": []
    },
    {
      "metadata": {
        "id": "2pPv2GNnqb3_",
        "colab_type": "code",
        "colab": {
          "base_uri": "https://localhost:8080/",
          "height": 34
        },
        "outputId": "23777b61-375b-4bd1-af00-fc977b0523e2"
      },
      "cell_type": "code",
      "source": [
        "X_train.shape, X_test.shape, y_train.shape, y_test.shape"
      ],
      "execution_count": 37,
      "outputs": [
        {
          "output_type": "execute_result",
          "data": {
            "text/plain": [
              "((400,), (100,), (400,), (100,))"
            ]
          },
          "metadata": {
            "tags": []
          },
          "execution_count": 37
        }
      ]
    },
    {
      "metadata": {
        "id": "JjkebX-lqwj4",
        "colab_type": "code",
        "colab": {
          "base_uri": "https://localhost:8080/",
          "height": 54
        },
        "outputId": "57342609-9f42-4647-c8c0-4b61b36da852"
      },
      "cell_type": "code",
      "source": [
        "vectorizer = CountVectorizer(max_features=None, ngram_range=(1,1), stop_words='english')\n",
        "\n",
        "vectorizer.fit(X_train)\n",
        "\n",
        "print(vectorizer.vocabulary_)"
      ],
      "execution_count": 38,
      "outputs": [
        {
          "output_type": "stream",
          "text": [
            "{'company': 1660, 'overview': 7037, 'ndigital': 5613, 'assets': 786, 'data': 2127, 'leader': 4513, 'helping': 3720, 'sophisticated': 8667, 'institutional': 4134, 'investors': 4284, 'understand': 9500, 'cryptoasset': 2055, 'markets': 4803, 'unique': 9519, 'sets': 8457, 'insightful': 4112, 'analysis': 609, 'fast': 3142, 'growing': 3609, 'startup': 8822, '5m': 205, 'seed': 8384, 'funding': 3401, 'digital': 2383, 'rolled': 8187, 'software': 8640, 'crypto': 2053, 'funds': 3403, 'ndata': 5564, 'scientist': 8322, 'role': 8184, 'looking': 4679, 'join': 4355, 'analytics': 618, 'team': 9131, 'based': 963, 'denver': 2259, 'xe2': 10050, 'x80': 9940, 'x99ll': 9979, 'high': 3732, 'performing': 7174, 'leading': 4516, 'disruption': 2477, 'investment': 4282, 'industry': 4021, 'motivated': 5090, 'passionate': 7114, 'designing': 2303, 'novel': 6258, 'trading': 9330, 'indicators': 4009, 'indices': 4010, 'analyses': 607, 'emerging': 2747, 'field': 3181, 'cryptoanalysis': 2054, 'producing': 7545, 'thought': 9240, 'leadership': 4515, 'help': 3716, 'shape': 8472, 'think': 9230, 'value': 9640, 'space': 8686, 'extremely': 3083, 'large': 4478, 'datasets': 2148, 'consisting': 1817, 'billions': 1040, 'records': 7863, 'exchanges': 2966, 'blockchains': 1070, 'utilizing': 9612, 'access': 319, 'nperks': 6298, 'njoin': 6028, 'funded': 3399, 'rapidly': 7786, 'fastest': 3144, 'tech': 9141, 'sectors': 8378, 'x94cryptocurrencies': 9960, 'distributed': 2489, 'ledger': 4536, 'technology': 9158, 'nwork': 6805, 'energetic': 2793, 'knowledgeable': 4435, 'x94a': 9957, 'x99s': 9981, 'previously': 7482, 'built': 1198, 'sold': 8644, 'enterprise': 2839, 'service': 8449, 'fintech': 3222, 'nlearn': 6050, 'cryptocurrency': 2057, 'ecosystem': 2650, 'nreceive': 6428, 'competitive': 1680, 'benefits': 1012, 'health': 3700, 'dental': 2257, 'vision': 9732, 'nduties': 5652, 'responsibilities': 8086, 'nproduce': 6360, 'python': 7703, 'jupyter': 4390, 'notebooks': 6245, 'nevaluate': 5748, 'use': 9591, 'standard': 8800, 'financial': 3205, 'modeling': 5039, 'techniques': 9147, 'ndevelop': 5606, 'predictive': 7425, 'forecasting': 3290, 'models': 5043, 'specific': 8715, 'showcase': 8510, 'analytic': 616, 'platform': 7302, 'ncommunicate': 5476, 'findings': 3210, 'non': 6200, 'technical': 9143, 'customers': 2098, 'stakeholders': 8792, 'collaboratively': 1584, 'development': 2332, 'enhance': 2814, 'infrastructure': 4060, 'ensure': 2833, 'complete': 1689, 'quality': 7724, 'nhelp': 5919, 'design': 2296, 'implement': 3928, 'science': 8319, 'functions': 3394, 'lowering': 4700, 'requirement': 8034, 'produce': 7541, 'advanced': 444, 'nimplement': 5961, 'new': 5752, 'statistical': 8835, 'variables': 9648, 'sql': 8760, 'stored': 8872, 'procedures': 7527, 'nlead': 6046, 'develop': 2327, 'mentor': 4910, 'research': 8041, 'analysts': 615, 'junior': 4387, 'scientists': 8324, 'nsome': 6566, 'travel': 9380, 'required': 8033, 'nrequired': 6469, 'qualifications': 7718, 'ndegree': 5577, 'computer': 1727, 'statistics': 8838, 'econometrics': 2642, 'applied': 688, 'mathematics': 4833, 'quantitative': 7733, 'discipline': 2426, 'nbachelors': 5349, 'years': 10067, 'experience': 3012, 'masters': 4819, 'nexpertise': 5792, 'analytical': 617, 'nfluency': 5838, 'pandas': 7063, 'numpy': 6722, 'scipy': 8328, 'scikit': 8326, 'learn': 4520, 'nknowledge': 6041, 'education': 2671, 'probability': 7517, 'combinatorics': 1611, 'applications': 685, 'business': 1210, 'nextensive': 5801, 'manipulating': 4772, 'analyzing': 626, 'time': 9259, 'series': 8441, 'nmachine': 6090, 'learning': 4524, 'expertise': 3033, 'building': 1194, 'machine': 4723, 'start': 8816, 'finish': 3217, 'including': 3972, 'gathering': 3443, 'cleaning': 1512, 'feature': 3159, 'engineering': 2810, 'selection': 8405, 'dimensionality': 2389, 'reduction': 7884, 'algorithm': 545, 'tuning': 9437, 'output': 7021, 'generation': 3469, 'working': 9906, 'relational': 7948, 'databases': 2132, 'etl': 2916, 'warehousing': 9797, 'fundamentals': 3398, 'nmastery': 6111, 'preferably': 7430, 'postgresql': 7377, 'nability': 5186, 'contributor': 1893, 'nexperience': 5787, 'npreferred': 6339, 'cryptoassets': 2056, 'perspective': 7214, 'using': 9599, 'notebook': 6244, 'leveraging': 4565, 'altair': 568, 'visualization': 9742, 'big': 1031, 'tools': 9299, 'spark': 8694, 'hadoop': 3643, 'able': 284, 'offer': 6879, 'immigration': 3917, 'sponsorship': 8744, 'position': 7359, 'analyst': 614, 'njob': 6026, 'purpose': 7687, 'na': 5184, 'ali': 548, 'x99i': 9978, 'hire': 3742, 'support': 9021, 'naval': 5333, 'supply': 9020, 'systems': 9076, 'command': 1624, 'navsup': 5339, 'weapons': 9819, 'wss': 9935, 'philadelphia': 7246, 'successful': 8974, 'candidate': 1270, 'analyze': 623, 'solutions': 8653, 'visualizations': 9743, 'used': 9592, 'reform': 7903, 'initiatives': 4078, 'duties': 2601, 'include': 3969, 'following': 3275, 'reflect': 7901, 'management': 4758, 'definition': 2220, 'essential': 2899, 'job': 4350, 'restrict': 8099, 'tasks': 9118, 'assigned': 788, 'assign': 787, 'additional': 403, 'reasonable': 7826, 'accommodation': 327, 'reasons': 7829, 'nproviding': 6388, 'derive': 2285, 'actionable': 369, 'insights': 4113, 'ms': 5110, 'excel': 2958, 'visual': 9741, 'basic': 968, 'write': 9927, 'diagnose': 2351, 'problems': 7522, 'macros': 4727, 'alteryx': 573, 'manipulate': 4770, 'files': 3193, 'multiple': 5128, 'set': 8456, 'office': 6884, 'suite': 8985, 'ncreating': 5544, 'tables': 9080, 'charts': 1428, 'graphs': 3584, 'transpose': 9378, 'powerpoint': 7398, 'drive': 2576, 'workable': 9896, 'meetings': 4894, 'client': 1532, 'nidentifying': 5954, 'documenting': 2525, 'communicating': 1646, 'issues': 4318, 'determining': 2324, 'root': 8195, 'cause': 1348, 'problem': 7520, 'recommend': 7845, 'execute': 2975, 'corrective': 1952, 'action': 368, 'implementing': 3933, 'process': 7531, 'improvements': 3952, 'relation': 7947, 'collection': 1591, 'processing': 7536, 'repeatability': 8001, 'model': 5036, 'documentation': 2523, 'describes': 2290, 'flow': 3257, 'given': 3508, 'final': 3200, 'format': 3304, 'accordance': 334, 'policies': 7337, 'forth': 3319, 'government': 3549, 'nassisting': 5303, 'implementation': 3930, 'cleansing': 1516, 'validation': 9634, 'maintenance': 4741, 'good': 3536, 'accurate': 349, 'flowing': 3258, 'user': 9595, 'inputs': 4099, 'reporting': 8008, 'outputs': 7022, 'neducating': 5667, 'providing': 7652, 'needed': 5671, 'requested': 8029, 'scope': 8331, 'related': 7944, 'project': 7587, 'manager': 4762, 'nskills': 6553, 'excellent': 2960, 'skills': 8575, 'organizational': 6982, 'planning': 7298, 'communication': 1647, 'solving': 8662, 'attention': 841, 'accuracy': 348, 'solid': 8649, 'judgment': 4377, 'decision': 2190, 'making': 4750, 'ability': 283, 'takes': 9096, 'initiative': 4077, 'adaptable': 392, 'customer': 2097, 'oriented': 6992, 'specifically': 8716, 'ideal': 3876, 'familiar': 3125, 'knowledge': 4434, 'abilities': 282, 'strong': 8916, 'keen': 4402, 'eye': 3086, 'understanding': 9502, 'writing': 9931, 'syntax': 9068, 'multi': 5120, 'task': 9116, 'manage': 4755, 'priorities': 7500, 'minimum': 4991, 'direction': 2401, 'supervision': 9006, 'neducation': 5668, 'requires': 8036, 'bachelor': 931, 'degree': 2223, 'higher': 3734, 'social': 8627, 'equivalent': 2881, 'accredited': 345, 'institution': 4133, 'relevant': 7962, 'professional': 7556, 'familiarity': 3126, 'advance': 443, 'directly': 2405, 'dod': 2527, 'desired': 2307, 'nclearance': 5445, 'requirements': 8035, 'national': 5312, 'agency': 498, 'check': 1436, 'inquiries': 4102, 'naci': 5197, 'background': 937, 'investigation': 4276, 'secure': 8379, 'issued': 4317, 'common': 1639, 'card': 1293, 'cac': 1233, 'location': 4658, 'work': 9895, 'performed': 7173, 'site': 8561, 'unless': 9537, 'directed': 2399, 'employees': 2760, 'close': 1543, 'proximity': 7655, 'personnel': 7212, 'core': 1938, 'hours': 3816, '0730': 14, '1400': 49, 'monday': 5064, 'friday': 3365, 'holidays': 3776, 'nna': 6158, 'proud': 7643, 'equal': 2873, 'opportunity': 6951, 'affirmative': 487, 'employer': 2761, '70': 223, '000': 1, '100': 18, 'yeartitle': 10072, 'jr': 4370, 'nlocations': 6079, 'charleston': 1422, 'sc': 8291, 'nsalary': 6505, '100k': 22, 'dependent': 2268, 'nqualifications': 6400, 'n2': 5160, 'database': 2131, 'architecture': 722, 'tableau': 9079, 'sisense': 8558, 'preferred': 7433, 'bit': 1057, 'nin': 5966, 'ngreat': 5894, 'culture': 2074, 'environment': 2854, 'namazing': 5243, 'nindustry': 5976, 'disruptive': 2478, 'organization': 6981, 'report': 8006, 'stanley': 8811, 'electronic': 2712, 'security': 8383, 'ses': 8454, 'segment': 8394, 'ss': 8768, 'growth': 3612, 'nthe': 6658, 'fills': 3196, 'driven': 2577, 'person': 7201, 'promoted': 7596, 'finance': 3204, 'accounting': 343, 'demonstrated': 2252, 'primary': 7488, 'operational': 6938, 'processes': 7533, 'assemble': 777, 'perform': 7169, 'provide': 7647, 'sufficient': 8977, 'periodic': 7180, 'information': 4052, 'units': 9527, 'key': 4410, 'objectives': 6841, 'obtained': 6855, 'temporarydata': 9174, 'req2358': 8027, 'norganization': 6229, 'world': 9915, 'bank': 952, 'nsector': 6518, 'amp': 601, 'ngrade': 5892, 'ge': 3453, 'nterm': 6652, 'duration': 2599, 'months': 5079, 'nrecruitment': 6440, 'type': 9451, 'local': 4652, 'recruitment': 7871, 'nlocation': 6078, 'washington': 9801, 'dc': 2168, 'language': 4470, 'english': 2813, 'nclosing': 5452, 'date': 2154, '2019': 113, 'mm': 5024, 'dd': 2169, 'yyyy': 10085, '11': 31, '59pm': 203, 'utc': 9605, 'ndescription': 5593, 'nestablished': 5731, '1944': 76, 'group': 3606, 'largest': 4481, 'sources': 8678, 'developing': 2331, 'countries': 1979, 'uses': 9597, 'resources': 8068, 'extensive': 3070, 'reduce': 7882, 'poverty': 7390, 'increase': 3985, 'economic': 2643, 'improve': 3948, 'life': 4588, 'governed': 3547, '188': 65, 'member': 4899, 'delivers': 2239, 'services': 8451, '120': 39, 'offices': 6887, '16': 56, 'staff': 8783, 'globally': 3521, 'wfa': 9855, 'vice': 9704, 'presidency': 7467, 'unit': 9522, 'responsible': 8088, 'aspects': 769, 'internal': 4194, 'control': 1895, 'framework': 3340, 'international': 4196, 'reconstruction': 7859, 'ibrd': 3866, 'association': 803, 'ida': 3874, 'corporation': 1947, 'ifc': 3891, 'trust': 9423, 'fund': 3395, 'partnership': 7103, 'portfolio': 7353, 'entities': 2847, 'vpu': 9773, 'expressing': 3060, 'viewpoint': 9716, 'controls': 1897, 'operations': 6943, 'nwfa': 6791, 'comprises': 1720, 'instruments': 4142, 'valuation': 9639, 'loan': 4650, 'policy': 7338, 'advisory': 464, 'risks': 8164, 'collectively': 1594, 'approximately': 710, '500': 187, '170': 60, 'remainder': 7980, 'regional': 7914, 'chennai': 1444, 'india': 4003, 'nunit': 6732, 'nworld': 6810, 'presidencies': 7466, 'wbg': 9816, '450': 178, 'located': 4656, 'fuds': 3378, 'loans': 4651, 'wfatl': 9856, 'seeking': 8389, 'assist': 793, 'needs': 5674, 'capabilities': 1277, 'closely': 1545, 'create': 2009, 'clients': 1533, 'additionally': 404, 'engaged': 2802, 'various': 9657, 'strategic': 8884, 'projects': 7591, 'priority': 7506, 'robotics': 8176, 'automation': 888, 'rpa': 8211, 'helpdesk': 3717, 'usual': 9603, 'bau': 973, 'commitment': 1633, 'enhancement': 2816, 'efforts': 2696, 'success': 8973, 'factors': 3111, 'anticipating': 661, 'capacity': 1280, 'synthesize': 9070, 'messages': 4928, 'broad': 1160, 'range': 7778, 'subject': 8943, 'matter': 4841, 'different': 2370, 'audiences': 858, 'important': 3939, 'build': 1191, 'relationships': 7951, 'wide': 9867, 'overall': 7029, 'commission': 1632, 'director': 2406, 'accountabilities': 338, 'drawing': 2566, 'executing': 2979, 'construct': 1829, 'germane': 3493, 'base': 962, 'critical': 2038, 'components': 1708, 'drill': 2572, 'layers': 4505, 'identify': 3886, 'causes': 1350, 'validate': 9630, 'drivers': 2579, 'add': 398, 'addition': 402, 'determine': 2321, 'added': 399, 'proactively': 7514, 'colleagues': 1587, 'flag': 3238, 'areas': 730, 'faster': 3143, 'disbursements': 2421, 'teams': 9135, 'businesses': 1212, 'publish': 7666, 'creating': 2013, 'effective': 2684, 'communications': 1648, 'strategy': 8890, 'platforms': 7303, 'nresponsibilities': 6482, 'ngather': 5871, 'maintain': 4736, 'reports': 8010, 'external': 3071, 'ensuring': 2835, 'consistency': 1814, 'relevance': 7960, 'narratives': 5287, 'conducting': 1760, 'presentations': 7460, 'ideally': 3877, 'area': 729, 'npinpoint': 6308, 'trends': 9399, 'correlations': 1958, 'patterns': 7128, 'complicated': 1702, 'nidentify': 5953, 'opportunities': 6950, 'capture': 1289, 'algorithms': 547, 'pivot': 7282, 'nproject': 6372, 'nbuild': 5388, 'relationship': 7950, 'systematically': 9074, 'engage': 2801, 'nactively': 5205, 'participate': 7091, 'contribute': 1887, 'corporate': 1946, 'cross': 2045, 'guidance': 3627, 'npropose': 6381, 'plans': 7300, 'timelines': 9263, 'strategies': 8887, 'escalate': 2888, 'nensure': 5707, 'appropriate': 704, 'follow': 3274, 'actions': 370, 'decisions': 2192, 'commitments': 1634, 'parties': 7097, 'nsupport': 6629, 'established': 2902, 'nselection': 6523, 'criteria': 2037, 'mba': 4852, 'master': 4817, 'consulting': 1839, 'banking': 953, 'exceptional': 2962, 'unyielding': 9562, 'inquisitive': 4104, 'mind': 4980, 'intellectual': 4162, 'curiosity': 2083, 'answer': 652, 'n3': 5166, 'n4': 5168, 'visualize': 9745, 'display': 2468, 'results': 8104, 'n5': 5172, 'collaboration': 1581, 'presentation': 7459, 'proficiency': 7563, 'graphics': 3580, 'spreadsheet': 8754, 'highly': 3738, 'desirable': 2305, 'n6': 5174, 'dynamic': 2605, 'demonstrate': 2251, 'teamwork': 9140, 'function': 3388, 'productively': 7550, 'n7': 5175, 'acumen': 385, 'n8': 5176, 'proven': 7646, 'leverage': 4562, 'cutting': 2105, 'divisions': 2505, 'achievement': 352, 'collective': 1593, 'goals': 3528, 'n9': 5177, 'proactive': 7513, 'innovative': 4094, 'open': 6925, 'collegial': 1597, 'style': 8937, 'listen': 4628, 'integrate': 4154, 'ideas': 3879, 'diverse': 2498, 'views': 9717, 'partnerships': 7105, 'collaborate': 1578, 'n10': 5150, 'thinker': 9231, 'confidently': 1770, 'complexity': 1699, 'ambiguity': 579, 'stress': 8903, 'situations': 8566, 'navigate': 5335, 'interdependencies': 4181, 'view': 9710, 'n11': 5153, 'judgement': 4376, 'trade': 9327, 'offs': 6891, 'orientation': 6991, 'escalating': 2889, 'n12': 5154, 'meets': 4895, 'exhibits': 2991, 'competencies': 1675, 'level': 4557, 'nkey': 6039, 'n1': 5149, 'communicate': 1643, 'effectively': 2685, 'share': 8475, 'exchange': 2965, 'actively': 375, 'obtain': 6854, 'necessary': 5664, 'input': 4098, 'speak': 8700, 'persuasively': 7218, 'convey': 1911, 'clear': 1518, 'objective': 6839, 'concise': 1747, 'manner': 4774, 'boundaries': 1114, 'order': 6972, 'achieve': 351, 'best': 1015, 'mindset': 4984, 'individual': 4012, 'innovation': 4092, 'persistent': 7200, 'seek': 8386, 'inspire': 4119, 'encourage': 2781, 'positive': 7362, 'attitude': 842, 'impact': 3922, 'adapt': 390, 'changing': 1408, 'circumstances': 1477, 'bold': 1093, 'effectiveness': 2687, 'smart': 8601, 'balance': 948, 'need': 5670, 'empirically': 2756, 'sound': 8674, 'sense': 8425, 'urgency': 9581, 'quick': 7752, 'timely': 9265, 'solvers': 8660, 'advising': 461, 'strive': 8912, 'forces': 3287, 'organizes': 6989, 'monitors': 5071, 'methodologies': 4943, 'thinking': 9234, 'breakdown': 1139, 'raw': 7798, 'undefined': 9489, 'turn': 9439, 'clearly': 1523, 'hand': 3648, 'make': 4747, 'logical': 4664, 'conclusions': 1750, 'anticipate': 658, 'obstacles': 6853, 'consider': 1807, 'approaches': 701, 'nother': 6247, 'address': 405, 'challenges': 1398, 'hold': 3767, 'accountable': 340, 'personal': 7203, 'ownership': 7043, 'identifying': 3887, 'managing': 4765, 'delivering': 2238, 'evidence': 2941, 'creation': 2014, 'application': 684, 'sharing': 8480, 'body': 1092, 'efficiently': 2694, 'draw': 2564, 'lessons': 4553, 'expand': 3000, 'networks': 5740, 'solicit': 8647, 'makes': 4749, 'recommendations': 7847, 'linked': 4620, 'procedure': 7526, 'apply': 690, 'assess': 780, 'efficient': 2693, 'identification': 3882, 'mitigating': 5014, 'n13': 5155, 'utilize': 9609, 'values': 9642, 'diversity': 2500, 'encourages': 2783, 'qualified': 7720, 'candidates': 1271, 'nationals': 5313, 'regardless': 7910, 'gender': 3459, 'identity': 3888, 'religion': 7970, 'race': 7762, 'ethnicity': 2915, 'sexual': 8468, 'disability': 2414, 'sub': 8940, 'saharan': 8244, 'african': 493, 'caribbean': 1307, 'female': 3176, 'strongly': 8919, 'encouraged': 2782, 'temporary': 9172, 'internshipdescription': 4209, 'innovations': 4093, 'docomo': 2517, 'ph': 7234, 'students': 8929, '12': 38, 'week': 9828, 'summer': 8996, 'internship': 4200, 'aws': 917, 'operation': 6937, 'cost': 1967, 'experiences': 3020, 'ncandidates': 5407, 'optimization': 6956, 'theory': 9222, 'supervised': 9005, 'unsupervised': 9557, 'depth': 2282, 'concepts': 1736, 'linux': 4624, 'ssh': 8772, 'github': 3507, 'attributes': 850, 'self': 8408, 'synthesis': 9069, 'proficient': 7564, 'programming': 7577, 'nnotes': 6182, 'nstart': 6590, 'end': 2785, 'dates': 2156, 'flexible': 3247, 'ninternship': 6006, 'length': 4548, 'weeks': 9833, 'spring': 8757, 'contractjob': 1878, 'description': 2292, 'summary': 8995, 'nthis': 6663, 'insight': 4111, 'generating': 3468, 'experienced': 3015, 'conduct': 1758, 'robust': 8177, 'tracking': 9324, 'evaluation': 2929, 'st': 8777, 'joseph': 4362, 'center': 1368, 'measure': 4873, 'program': 7572, 'better': 1018, 'serve': 8443, 'target': 9112, 'population': 7350, 'integral': 4153, 'bringing': 1158, 'thorough': 9238, 'nessential': 5729, 'responsibility': 8087, 'nconduct': 5502, 'generate': 3465, 'ncreate': 5542, 'compelling': 1669, 'depict': 2272, 'outcomes': 7006, 'nmonitor': 6145, 'performance': 7170, 'kpis': 4444, 'aid': 523, 'interactive': 4179, 'dashboard': 2124, 'drafting': 2559, 'monthly': 5078, 'outcome': 7005, 'compliance': 1700, 'grant': 3572, 'calculating': 1243, 'baselines': 965, 'setting': 8460, 'targets': 9115, 'benchmark': 1005, 'methods': 4945, 'programs': 7578, 'monitoring': 5070, 'practices': 7412, 'understood': 9505, 'contractual': 1885, 'assisting': 798, 'evaluations': 2930, 'nmaintain': 6093, 'current': 2086, 'hud': 3839, 'elements': 2717, 'listed': 4627, 'designed': 2300, 'typical': 9453, 'examples': 2953, 'included': 3970, 'expected': 3007, 'similar': 8538, 'positions': 7361, 'duty': 2602, 'nexcellent': 5770, 'nproficiency': 6366, 'queries': 7741, 'nstrong': 6609, 'nattention': 5324, 'nfluent': 5839, 'dashboards': 2126, 'qualitative': 7722, 'nproficient': 6367, 'applying': 691, 'numerical': 6720, 'enhanced': 2815, 'perspectives': 7216, 'course': 1984, 'corrections': 1951, 'ntwo': 6702, 'plus': 7323, 'running': 8230, 'hmis': 3763, 'ehr': 2700, 'point': 7331, 'clarity': 1499, 'exym': 3085, 'champ': 1401, 'zoho': 10093, 'awards': 910, 'nbachelor': 5348, 'college': 1596, 'university': 9530, 'math': 4830, 'ndirect': 5614, 'direct': 2398, 'supervisory': 9012, 'ncomputer': 5499, 'microsoft': 4960, 'word': 9892, 'widely': 9868, 'supported': 9022, 'internet': 4198, 'browsers': 1174, 'ncertificates': 5426, 'licenses': 4581, 'registrations': 7918, 'nvalid': 6758, 'california': 1249, 'class': 1500, 'driver': 2578, 'license': 4579, 'alternative': 571, 'method': 4937, 'transportation': 9377, 'carry': 1315, 'automobile': 889, 'liability': 4572, 'insurance': 4143, 'nadditional': 5214, 'nstatus': 6597, 'exempt': 2985, 'doe': 2528, 'nemployment': 5693, 'contingent': 1861, 'completion': 1696, 'satisfactory': 8277, 'nst': 6586, 'endorses': 2791, 'supports': 9025, 'intent': 4171, 'americans': 592, 'disabilities': 2413, 'act': 366, '1990': 84, 'ada': 389, 'fair': 3118, 'employment': 2764, 'housing': 3820, 'feha': 3172, 'committed': 1635, 'accommodations': 328, 'individuals': 4015, 'applicants': 683, 'require': 8032, 'experiencing': 3024, 'submitting': 8951, 'accompanying': 329, 'materials': 4827, 'contact': 1845, 'human': 3842, '310': 149, '396': 166, '6468': 214, 'nfor': 5843, 'consideration': 1809, 'submit': 8947, 'cover': 1991, 'letter': 4555, 'resume': 8107, 'receive': 7832, 'regard': 7908, 'color': 1599, 'sex': 8466, 'origin': 6994, 'status': 8840, 'protected': 7632, 'veteran': 9696, 'invited': 4288, 'voluntarily': 9763, 'completing': 1695, 'eeo': 2678, 'voluntary': 9764, 'refusal': 7906, 'adverse': 453, 'treatment': 9391, 'similarly': 8540, 'invites': 4289, 'review': 8134, 'law': 4496, 'poster': 7373, 'link': 4619, 'https': 3836, 'www': 9937, 'dol': 2533, 'gov': 3544, 'ofccp': 6875, 'regs': 7923, 'posters': 7374, 'pdf': 7145, 'eeopost': 2681, 'li': 4571, 'dni': 2513, 'expedia': 3009, 'ndo': 5630, 'wish': 9883, 'transform': 9355, 'volumes': 9762, 'untapped': 9559, 'ocean': 6865, 'nare': 5284, 'dreams': 2570, 'numbers': 6716, 'generates': 3467, 'sleep': 8591, 'friendly': 3368, 'hilarious': 3739, 'professionals': 7559, 'nif': 5955, 'answered': 653, 'yes': 10076, 'questions': 7748, 'x99ve': 9983, 'right': 8157, 'place': 7288, 'nwe': 6783, 'wealth': 9818, 'harvest': 3677, 'optimize': 6957, 'cases': 1323, 'nat': 5310, 'carrentals': 1310, 'mission': 5006, 'automated': 883, 'scale': 8296, 'solve': 8657, 'variety': 9656, 'challenging': 1399, 'rigor': 8159, 'hypothesis': 3861, 'testing': 9203, 'nwhat': 6792, 'll': 4644, 'nyou': 6825, 'ndetermine': 5604, 'difficult': 2376, 'nown': 6267, 'tests': 9204, 'multivariate': 5134, 'test': 9200, 'winners': 9877, 'segments': 8399, 'targeting': 9114, 'improved': 3949, 'profitability': 7569, 'nexplore': 5795, 'passion': 7113, 'deep': 2204, 'continuous': 1869, 'marketing': 4799, 'product': 7546, 'pricing': 7485, 'merge': 4919, 'context': 1856, 'prowess': 7654, 'bring': 1157, 'npartner': 6279, 'engineers': 2811, 'developers': 2330, 'train': 9336, 'deploy': 2274, 'scalable': 8294, 'nnetwork': 6166, 'peers': 7153, 'accelerate': 307, 'centric': 1375, 'approach': 699, 'journey': 4367, 'ndiscover': 5619, 'global': 3520, 'travelers': 9382, 'way': 9814, 'clarify': 1498, 'transparency': 9374, 'led': 4535, 'truly': 9422, 'leaders': 4514, 'surrounded': 9035, 'love': 4695, 'experiment': 3025, 'tons': 9291, 'single': 8555, 'day': 2160, 'interesting': 4184, 'impacts': 3925, 'millions': 4976, 'fun': 3387, 'continually': 1863, 'grow': 3608, 'conference': 1764, 'attendance': 838, 'skillset': 8576, 'expansion': 3004, 'classes': 1501, 'nwho': 6798, 'informatics': 4051, 'training': 9338, 'scoring': 8336, 'sem': 8415, 'bidding': 1029, 'rank': 7781, 'involving': 4295, 'regression': 7921, 'classification': 1504, 'preparation': 7444, 'creative': 2016, 'ways': 9815, 'history': 3753, 'outstanding': 7028, 'professionally': 7558, 'personally': 7209, 'forward': 3322, 'organized': 6987, 'nwhy': 6799, 'nexpedia': 5786, 'recognizes': 7843, 'people': 7160, 'brands': 1133, 'recognize': 7841, 'power': 7391, 'break': 1138, 'barriers': 959, 'lives': 4641, 'x93': 9953, 'inspires': 4121, 'want': 9791, 'nwhether': 6796, 'lodging': 4660, 'goal': 3527, 'reach': 7805, 'relentlessly': 7959, 'humility': 3846, 'optimism': 6955, 'respecting': 8075, 'small': 8598, 'voices': 9759, 'feet': 3171, 'ground': 3603, 'stay': 8841, 'simple': 8541, 'chance': 1404, 'difference': 2368, 'cares': 1306, 'hunger': 3850, 'loved': 4696, 'consumer': 1841, 'nour': 6254, 'family': 3128, 'includes': 3971, 'brand': 1131, 'xc2': 10048, 'xae': 10038, 'hotels': 3804, 'com': 1606, 'partner': 7099, 'egencia': 2697, 'trivago': 9410, 'homeaway': 3779, 'orbitz': 6968, 'travelocity': 9384, 'wotif': 9924, 'lastminute': 4484, 'au': 854, 'ebookers': 2630, 'cheaptickets': 1435, 'hotwire': 3807, 'classic': 1502, 'vacations': 9624, 'media': 4883, 'x84': 9950, 'xa2': 10025, 'expert': 3032, 'cruiseshipcenters': 2050, 'silverrail': 8537, 'technologies': 9153, 'alice': 549, 'traveldoo': 9381, 'ms1': 5111, 'inclusive': 3974, 'workforce': 9905, 'expression': 3061, 'genetics': 3476, 'age': 496, 'participates': 7092, 'verify': 9683, 'administration': 425, 'ssa': 8769, 'department': 2260, 'homeland': 3780, 'dhs': 2349, 'employee': 2759, 'confirm': 1775, 'authorization': 875, 'limited': 4605, 'ncontributing': 5527, 'execution': 2980, 'intelligence': 4165, 'roadmap': 8174, 'establish': 2901, 'disciplines': 2427, 'adoption': 435, 'bi': 1024, 'nconducting': 5503, 'levels': 4559, 'ndeveloping': 5608, 'custom': 2095, 'owners': 7042, 'nworking': 6807, 'interactions': 4178, 'managers': 4763, 'users': 9596, 'document': 2522, 'nperforming': 6295, 'complex': 1697, 'ntranslating': 6690, 'frameworks': 3341, 'extracting': 3076, 'fine': 3211, 'nhelping': 5921, 'define': 2216, 'tune': 9436, 'offerings': 6882, 'nprevious': 6346, 'nfamiliarity': 5812, 'stephen': 8851, 'edward': 2675, 'tufte': 9433, 'principals': 7492, 'storytelling': 8880, 'concurrent': 1753, 'ndetail': 5599, 'verbal': 9676, 'written': 9932, 'comfortable': 1620, 'presenting': 7462, 'groups': 3607, 'nself': 6524, 'starter': 8818, 'independently': 3999, 'prioritize': 7502, 'appropriately': 705, 'ssas': 8770, 'cube': 2067, 'nmust': 6156, 'possess': 7365, 'windows': 9876, 'outlook': 7016, 'sharepoint': 8478, 'visio': 9731, 'healthcare': 3701, 'managed': 4757, 'care': 1297, 'focus': 3268, 'mental': 4905, 'substance': 8963, 'abuse': 301, 'medical': 4885, 'claims': 1494, 'nprior': 6349, 'record': 7860, 'clinical': 1537, 'terminology': 9193, 'standards': 8805, 'meaningful': 4867, 'previous': 7481, 'products': 7552, 'influence': 4037, 'deal': 2175, 'change': 1405, 'pressure': 7471, 'pain': 7059, 'points': 7332, 'alleviate': 557, 'supporting': 9023, 'tsql': 9430, 'dax': 2159, 'ssrs': 8776, 'developer': 2329, 'ngood': 5888, 'dimensional': 2388, 'conditions': 1756, 'primarily': 7487, 'occurs': 6864, 'normal': 6233, 'cardinal': 1295, 'reserves': 8048, 'meet': 4892, 'demands': 2245, 'invitae': 4286, 'envisions': 2863, 'genomic': 3478, 'sequencing': 8440, 'routinely': 8208, 'informs': 4057, 'lifelong': 4590, 'enabling': 2776, 'utilization': 9608, 'catalyze': 1335, 'scientific': 8321, 'title': 9276, 'free': 3354, 'operates': 6935, 'meritocracy': 4924, 'intently': 4173, 'deliver': 2234, 'reliable': 7964, 'improving': 3955, 'ncustomer': 5558, 'works': 9911, 'functionally': 3392, 'cycle': 2110, 'iteration': 4324, 'experimentation': 3028, 'functional': 3389, 'designers': 2302, 'founders': 3332, 'genetic': 3475, 'counselors': 1976, 'nas': 5290, 'patients': 7124, 'study': 8933, 'behavior': 992, 'content': 1853, 'features': 3161, 'patient': 7123, 'daily': 2116, 'basis': 969, 'edge': 2656, 'medicine': 4886, 'napply': 5275, 'nperform': 6293, 'extract': 3074, 'naid': 5235, 'market': 4796, 'metrics': 4948, 'ndesign': 5594, 'facing': 3103, 'experiments': 3031, 'ncollaborate': 5459, 'leads': 4517, 'economics': 2645, 'competence': 1673, 'ncoding': 5458, 'nanalytics': 5256, 'redshift': 7880, 'capable': 1279, 'tackling': 9085, 'loosely': 4685, 'defined': 2217, 'communicative': 1649, 'explain': 3038, 'topics': 9303, 'terms': 9196, 'nnice': 6172, 'haves': 3681, 'ndomain': 5637, 've': 9665, 'learned': 4521, 'don': 2541, 'match': 4821, 'perfectly': 7168, 'interested': 4183, 'fit': 3230, 'hesitate': 3725, 'marital': 4794, 'criminal': 2032, 'histories': 3752, 'consistent': 1815, 'san': 8263, 'francisco': 3348, 'ordinance': 6975, 'x99re': 9980, 'elliott': 2728, 'davis': 2158, 'cpa': 1996, 'firm': 3223, '700': 224, 'states': 8829, 'southeast': 8682, 'consistently': 1816, 'named': 5245, 'places': 7292, 'revolutionizing': 8140, 'means': 4869, 'specialize': 8710, 'public': 7662, 'starting': 8820, 'powerful': 7396, 'mixture': 5019, 'wisdom': 9882, 'energy': 2796, 'fresh': 3361, 'dig': 2378, 'finding': 3209, 'courage': 1983, 'challenge': 1395, 'assumption': 806, 'accountants': 342, 'like': 4599, 'entrepreneurs': 2851, 'gooders': 3538, 'community': 1652, 'nso': 6560, 'does': 2530, 'mean': 4865, 'glad': 3512, 'asked': 765, 'hands': 3653, 'alongside': 565, 'experts': 3036, 'enjoying': 2822, 'freedom': 3355, 'autonomy': 894, 'career': 1298, 'charlotte': 1424, 'nc': 5396, 'raleigh': 7771, 'greenville': 3595, 'practice': 7411, 'deliverables': 2236, 'newly': 5756, 'formed': 3311, 'prospective': 7626, 'addressing': 407, 'approaching': 703, 'nprioritizing': 6352, 'handling': 3652, 'researching': 8045, 'pertinent': 7221, 'matters': 4842, 'formats': 3307, 'nunderstanding': 6728, 'roles': 8185, 'contributing': 1890, 'members': 4900, 'clarification': 1497, 'feedback': 3167, 'articulating': 755, 'available': 896, 'manipulation': 4773, 'npartnering': 6280, 'audit': 860, 'nminimum': 6132, 'nadvanced': 5224, 'combined': 1613, 'track': 9322, 'foundational': 3328, 'java': 4333, 'ndemonstrated': 5582, 'interface': 4186, 'intermediate': 4191, 'gaap': 3415, 'verticals': 9694, 'ndemonstrates': 5583, 'real': 7816, 'ntechniques': 6647, 'computational': 1724, 'nstatistical': 6595, 'sampling': 8260, 'logistic': 4666, 'cluster': 1553, 'summarizing': 8994, 'naptitude': 5282, 'driving': 2582, 'efficiencies': 2690, 'entrepreneurial': 2850, 'qualities': 7723, 'taking': 9097, 'mentoring': 4911, 'immediate': 3911, 'confidential': 1768, 'send': 8422, 'anna': 638, 'christofaris': 1463, 'elliottdavis': 2729, 'handle': 3650, 'acts': 379, 'lead': 4511, 'nprovide': 6386, 'provider': 7649, 'hedis': 3713, 'pharmacy': 7239, 'nextract': 5802, 'load': 4648, 'reconcile': 7854, 'amounts': 600, 'nreview': 6491, 'elevate': 2718, 'improvement': 3950, 'nmodel': 6138, 'ware': 9794, 'house': 3818, 'nassist': 5302, 'federal': 3164, 'state': 8825, 'deliverable': 2235, 'audits': 863, 'activities': 376, 'heavy': 3711, 'involvement': 4293, 'ncentene': 5423, 'characteristic': 1414, 'applicable': 681, 'trinity': 9408, 'industries': 4020, 'searching': 8363, 'dallas': 2117, 'tx': 9450, 'nleverage': 6054, 'presented': 7461, 'scenarios': 8306, 'gather': 3441, 'facilitate': 3097, 'discovery': 2442, 'potential': 7386, 'nsources': 6569, 'vary': 9658, 'sift': 8524, 'eliminate': 2724, 'irrelevant': 4306, 'interpret': 4232, 'nanalytical': 5254, 'facts': 3113, 'figures': 3189, 'number': 6714, 'crunching': 2052, 'ncommunication': 5478, 'present': 7458, 'translate': 9366, 'understandable': 9501, 'easily': 2621, 'ncritical': 5549, 'look': 4677, 'come': 1616, 'precise': 7417, 'sure': 9026, 'vigilant': 9718, 'correct': 1949, 'nmath': 6112, 'estimate': 2906, 'nbs': 5387, 'nproven': 6385, 'ntechnical': 6645, 'regarding': 7909, 'kimball': 4417, 'vs': 9774, 'inmon': 4085, 'packages': 7053, 'qlik': 7712, 'server': 8446, 'collect': 1588, 'organize': 6986, 'disseminate': 2479, 'significant': 8533, 'nadept': 5220, 'ninterpret': 6009, 'ongoing': 6914, 'efficiency': 2692, 'nacquire': 5198, 'secondary': 8370, 'nfilter': 5823, 'x9cclean': 9992, 'x9d': 10023, 'reviewing': 8136, 'printouts': 7497, 'locate': 4655, 'code': 1561, 'nlocate': 6076, 'ads': 439, 'measurement': 4875, 'partners': 7102, 'org': 6980, 'generalizable': 3461, 'pinterest': 7273, 'internally': 4195, 'externally': 3072, 'advertisers': 456, 'ad': 388, 'nuse': 6745, 'rigorous': 8161, 'experimentally': 3027, 'nparticipate': 6276, 'consultant': 1835, 'nhas': 5910, 'usage': 9587, 'hive': 3758, 'provides': 7651, 'departmental': 2261, 'pulling': 7674, 'types': 9452, 'adjustments': 420, 'enhancements': 2817, 'updates': 9566, 'resolutions': 8062, 'true': 9419, 'optimal': 6954, 'ndepartment': 5588, 'ops': 6953, 'nreports': 6461, 'idlewild': 3890, 'ave': 898, 'tampa': 9107, 'fl': 3237, '33634': 157, 'nacts': 5206, 'attends': 840, 'nworks': 6809, 'associates': 802, 'workflow': 9903, 'collaborates': 1579, 'defining': 2219, 'options': 6963, 'alternatives': 572, 'nprepares': 6341, 'interpretation': 4234, 'senior': 8424, 'nanalyzes': 5258, 'performs': 7175, 'determines': 2323, 'steps': 8852, 'resolution': 8061, 'nresearches': 6475, 'compiles': 1684, 'drafts': 2560, 'corresponding': 1960, 'documents': 2526, 'nparticipates': 6277, 'calls': 1251, 'supervisor': 9010, 'departments': 2262, 'changes': 1407, 'issue': 4316, 'ncommunicates': 5477, 'structured': 8922, 'leveraged': 4563, 'sample': 8258, 'size': 8567, 'nescalate': 5725, 'discrepancies': 2443, 'nruns': 6502, 'analyzes': 625, 'hoc': 3766, 'nformulates': 5850, 'applies': 689, 'assists': 799, 'ntests': 6654, 'validity': 9636, 'manual': 4776, 'calculations': 1245, 'frequently': 3360, 'concentrates': 1732, 'collecting': 1590, 'case': 1322, 'negative': 5682, 'nrecommends': 6435, 'result': 8102, 'nprovides': 6387, 'assistance': 794, 'material': 4826, 'nresponsible': 6484, 'special': 8705, 'analyzed': 624, 'angles': 633, 'unknown': 9532, 'ntrack': 6682, 'integrity': 4160, 'ncandidate': 5406, 'school': 8317, 'ged': 3456, 'practical': 7408, 'delivery': 2240, 'multifunctional': 5125, 'coordinate': 1925, 'interpersonal': 4231, 'respond': 8079, 'nlicenses': 6060, 'certifications': 1386, 'perot': 7192, 'peradigm': 7163, 'wellcare': 9843, 'legacy': 4539, 'intelliclaim': 4164, 'nlanguages': 6044, 'general': 3460, 'turning': 9442, 'intuitive': 4260, 'spent': 8729, 'prioritizing': 7505, 'bulk': 1200, 'trying': 9428, 'ultimately': 9471, 'helps': 3721, 'nhave': 5911, 'npossess': 6322, 'paas': 7048, 'iaas': 3862, 'ncomfortable': 5472, 'ncan': 5405, 'existing': 2993, 'correctness': 1954, 'nfind': 5827, 'nunderstand': 6727, 'constructive': 1831, 'conflict': 1778, 'ndon': 5639, 'x99t': 9982, 'paced': 7050, 'fluid': 3265, 'workplace': 9908, 'proficiencies': 7562, '80': 236, '20': 92, 'rule': 8227, 'n0': 5147, 'x99': 9976, 'ncasual': 5419, 'statements': 8828, 'intended': 4168, 'nature': 5327, 'enable': 2773, 'nconnectwise': 5509, 'nphd': 6305, 'experiencehighly': 3018, 'javaextremely': 4334, 'productsexperience': 7553, 'terabytes': 9186, 'dataa': 2128, 'lineexperience': 4612, 'leadblog': 4512, 'posts': 7384, 'papers': 7068, 'talks': 9106, 'showing': 8512, 'learningcontributions': 4526, 'source': 8676, 'ml': 5020, 'ncompany': 5484, 'walmart': 9788, 'ecommerce': 2640, 'innovating': 4091, 'evolve': 2943, 'future': 3412, 'shopping': 8503, 'retailer': 8110, 'save': 8281, 'money': 5066, 'live': 4636, 'brightest': 1154, 'minds': 4983, 'merchandising': 4916, 'chain': 1393, 'talent': 9099, 'reimagining': 7933, 'intersection': 4241, 'physical': 7253, 'nposition': 6320, 'search': 8361, 'walmartlabs': 9789, 'dedicated': 2201, 'forefront': 3292, 'attacking': 833, 'commerce': 1629, 'query': 7742, 'browses': 1175, 'categories': 1338, 'web': 9821, 'phone': 7250, 'ipad': 4299, 'goes': 3531, 'tens': 9181, 'deploying': 2276, 'fascinating': 3140, 'impactful': 3923, 'retrieval': 8119, 'nlp': 6082, 'champion': 1402, 'express': 3059, 'preferences': 7432, 'implicitly': 3936, 'explicitly': 3046, 'devices': 2338, 'modalities': 5033, 'voice': 9758, 'text': 9207, 'image': 3901, 'converse': 1906, 'expectations': 3006, 'purchase': 7682, 'visible': 9730, 'fortune': 3320, 'talk': 9104, 'exciting': 2971, 'nact': 5202, 'customersdesign': 2099, 'art': 748, 'approacheswork': 702, 'workersdevelop': 9902, 'major': 4742, 'technologiesstay': 9155, 'retrievalbecome': 8120, 'ranking': 7783, 'visionpush': 9734, 'benefit': 1011, 'communitybe': 1653, 'ambassador': 578, 'innovators': 4096, 'envisioning': 2862, 'careers': 1300, 'simply': 8548, 'couldn': 1973, 'possibility': 7368, 'openness': 6929, 'sky': 8583, 'limit': 4603, 'cloud': 1549, 'enabled': 2774, 'empower': 2766, 'planet': 7295, 'ambitious': 583, 'deeply': 2208, 'capability': 1278, 'harmonizing': 3669, 'organizations': 6985, 'ideals': 3878, 'corners': 1942, 'insatiably': 4107, 'curious': 2084, 'lean': 4519, 'uncertainty': 9481, 'quickly': 7753, 'mistakes': 5011, 'stand': 8798, 'awe': 915, 'humans': 3844, 'dare': 2120, 'nto': 6672, 'visit': 9735, 'ncheck': 5434, 'http': 3835, 'en': 2772, 'nmicrosoft': 6126, 'aspires': 773, 'transformation': 9356, 'investing': 4281, 'successfully': 8975, 'adopt': 434, 'solution': 8652, 'artificial': 757, 'architect': 718, 'azure': 923, 'accounts': 344, 'owning': 7044, 'engagements': 2804, 'architectural': 721, 'sessions': 8455, 'pilots': 7269, 'discussions': 2456, 'executives': 2983, 'architects': 720, 'targeted': 9113, 'manufacturing': 4780, 'cpg': 1997, 'estate': 2905, 'measures': 4877, 'architectures': 724, '3rd': 167, 'party': 7107, 'nwell': 6787, 'versed': 9688, 'sciences': 8320, 'aa': 276, 'ai': 522, 'roadmaps': 8175, 'long': 4673, 'term': 9189, 'viability': 9700, 'deployments': 2278, 'infusing': 4063, 'lerning': 4550, 'bot': 1113, 'cognitive': 1571, 'databricks': 2133, 'nincrease': 5969, 'consumption': 1844, 'db': 2163, 'warehouse': 9795, 'hd': 3690, 'miachine': 4955, 'streeam': 8896, 'factory': 3112, 'event': 2935, 'hubs': 3837, 'notification': 6250, 'ndeep': 5571, 'iot': 4297, 'storage': 8869, 'sl': 8587, 'dtabase': 2593, 'mysql': 5146, 'stretch': 8905, 'bus': 1209, 'orcle': 6971, 'vms': 9755, 'biztalk': 1060, 'makers': 4748, 'advocates': 467, 'keeping': 4403, 'nbe': 5357, 'connect': 1788, 'remove': 7990, 'blockers': 1071, 'evangelist': 2931, 'communities': 1651, 'nassess': 5297, 'readiness': 7812, 'plan': 7294, 'nemphasis': 5689, 'min': 4979, 'bachelors': 932, 'adjacent': 416, 'fields': 3184, 'aptitude': 715, 'nbreadth': 5381, 'governance': 3546, 'consultative': 1838, 'sales': 8252, 'deployment': 2277, 'stakeholder': 8791, 'consensus': 1799, 'resolving': 8065, 'conflicts': 1780, 'npresentation': 6343, 'comfort': 1619, 'amazon': 577, 'google': 3541, 'salesforce': 8253, 'vmware': 9756, 'ibm': 3865, 'avanade': 897, 'wipro': 9880, 'csc': 2060, 'hp': 3822, 'infosys': 4058, 'servicenow': 8450, 'dell': 2241, 'tcs': 9125, 'ntravel': 6693, '30': 143, 'ancestry': 627, 'leave': 4533, 'condition': 1755, 'political': 7342, 'affiliation': 485, 'pregnancy': 7436, 'laws': 4501, 'regulations': 7929, 'ordinances': 6976, 'legal': 4540, 'recruiting': 7870, 'request': 8028, 'form': 3300, 'nbenefits': 5365, 'perks': 7185, 'depending': 2270, 'country': 1980, 'details': 2315, 'nfounded': 5853, '1967': 78, 'berkley': 1013, 'holding': 3770, 'commercial': 1630, 'lines': 4613, 'writers': 9929, 'united': 9524, 'worldwide': 9920, 'property': 7613, 'casualty': 1332, 'reinsurance': 7939, 'companies': 1659, 'operating': 6936, 'niche': 5946, 'requiring': 8037, 'specialized': 8711, 'territory': 9197, 'advantage': 450, 'lies': 4586, 'decentralized': 2188, 'allowing': 563, 'structure': 8921, 'accountability': 339, 'incentives': 3962, 'enables': 2775, 'attract': 848, 'retain': 8113, 'highest': 3735, 'caliber': 1248, 'strengths': 8902, 'flexibility': 3246, 'innovate': 4089, 'nberkley': 5366, 'luxury': 4717, 'offers': 6883, 'tailored': 9093, 'condo': 1757, 'op': 6924, 'rental': 7993, 'properties': 7612, 'dining': 2393, 'restaurants': 8093, 'specialists': 8707, 'recall': 7831, 'protection': 7634, 'prevention': 7479, 'indemnification': 3996, 'contamination': 1852, 'events': 2937, 'participation': 7094, 'involved': 4292, 'refining': 7900, 'descriptive': 2294, 'interfacing': 4188, 'underwriting': 9507, 'traditional': 9331, 'actuarial': 382, 'reserving': 8049, 'unaided': 9476, 'x9creasonable': 10010, 'nperforms': 6296, 'generalize': 3462, 'linear': 4611, 'forms': 3312, 'refine': 7899, 'nidentifies': 5952, 'retrieves': 8123, 'prepares': 7448, 'essbase': 2897, 'smartview': 8605, 'exposure': 3058, 'premium': 7441, 'loss': 4687, 'price': 7483, 'bureau': 1205, 'costs': 1970, 'macroeconomic': 4726, 'nensures': 5708, 'suitability': 8983, 'manipulates': 4771, 'preliminary': 7437, 'interprets': 4236, 'summarizes': 8993, 'presents': 7464, 'nadapts': 5212, 'develops': 2336, 'incorporating': 3984, 'pursuit': 7692, 'profit': 7568, 'nsupports': 6631, 'static': 8831, 'increasing': 3987, 'availability': 895, 'division': 2503, 'operationalizing': 6942, 'profitable': 7570, 'underperforming': 9497, 'proposing': 7619, 'regular': 7924, 'trees': 9394, 'random': 7776, 'forests': 3297, 'neural': 5741, 'clustering': 1554, 'nmay': 6115, 'risk': 8163, 'catastrophe': 1336, 'rate': 7790, 'reviews': 8137, 'nleads': 6049, 'combine': 1612, 'pattern': 7127, 'propose': 7617, 'excellence': 2959, 'deadlines': 2174, 'conceptualizing': 1741, 'bases': 966, 'combination': 1608, 'sas': 8272, 'exams': 2955, '10': 17, 'simulation': 8549, 'acquisition': 363, 'apache': 668, 'miningprogramming': 4993, 'scripting': 8347, 'conceptshave': 1737, 'hdfs': 3691, 'kafka': 4396, 'pythonstronger': 7705, 'nnull': 6184, 'nall': 5240, 'kept': 4406, 'according': 335, 'guidelines': 3631, '78': 232, '600': 209, 'yearjob': 10064, 'opening': 6926, '447618': 176, 'contributes': 1889, 'serves': 8448, 'effort': 2695, 'align': 551, 'functionality': 3391, 'integrated': 4155, 'administrative': 426, 'creates': 2012, 'compiling': 1685, 'educational': 2672, 'involves': 4294, 'mathematical': 4832, 'nmasters': 6110, 'industrial': 4017, 'phd': 7242, 'recent': 7835, 'discrete': 2444, 'logic': 4663, 'languages': 4472, 'ncivis': 5441, 'nonprofits': 6209, 'constituents': 1826, 'citizens': 1484, 'blend': 1063, 'proprietary': 7622, 'interdisciplinary': 4182, 'survey': 9039, 'civis': 1491, 'stop': 8868, 'guessing': 3623, 'proof': 7604, 'guide': 3628, 'atwww': 853, 'civisanalytics': 1492, 'embraces': 2740, 'individuality': 4013, 'celebrate': 1361, 'differences': 2369, 'thrive': 9246, 'brought': 1173, 'citizenship': 1485, 'let': 4554, 'know': 4432, 'nabout': 5188, 'arm': 736, 'governments': 3551, 'campaigns': 1263, 'toughest': 9314, 'situation': 8565, 'sector': 8377, 'commonly': 1640, 'agencies': 497, 'utilities': 9606, 'hard': 3662, 'progress': 7580, 'proposals': 7616, 'governmental': 3550, 'nan': 5250, 'nunifying': 6730, '1st': 89, 'nderiving': 5592, 'ready': 7814, 'varying': 9659, 'ncreatively': 5546, 'collaborating': 1580, 'nmaintaining': 6094, 'independent': 3998, 'lt': 4710, 'physics': 7256, 'affinity': 486, 'messy': 4929, 'nsql': 6583, 'pragmatically': 7415, 'ppt': 7403, 'shiny': 8493, 'npractical': 6331, 'causal': 1346, 'inference': 4031, 'git': 3506, 'gateway': 3438, 'louis': 4693, 'online': 6915, 'publisher': 7668, 'maintains': 4740, 'sites': 8563, 'readers': 7811, 'month': 5076, 'fulfill': 3382, 'requests': 8031, 'clayton': 1510, 'missouri': 5008, '40': 169, 'hour': 3808, 'schedule': 8308, 'ninterpreting': 6010, 'troubleshoot': 9414, 'inconsistencies': 3980, 'arise': 732, 'acting': 367, 'shared': 8476, 'resource': 8066, 'ngathering': 5872, 'equitable': 2878, 'focused': 3269, 'sheets': 8485, 'advertising': 457, 'deadline': 2173, 'eager': 2608, 'box': 1119, 'oral': 6966, 'nextremely': 5804, 'jira': 4347, 'trello': 9395, 'uniqueness': 9521, 'recruit': 7867, 'promote': 7595, 'ethnic': 2914, 'preference': 7431, 'military': 4973, 'legally': 4541, 'compensation': 1671, 'privileges': 7510, 'principal': 7491, 'practitioners': 7414, 'ndefine': 5574, 'tooling': 9295, 'face': 3093, 'prospects': 7627, 'nkeep': 6037, 'pulse': 7676, 'latest': 4488, 'nrole': 6499, 'emphasis': 2752, 'tree': 9393, 'advantages': 451, 'drawbacks': 2565, 'distributions': 2494, 'proper': 7610, 'nfamiliar': 5811, 'programing': 7573, 'javascript': 4335, 'mining': 4992, 'glm': 3518, 'forest': 3295, 'boosting': 1104, 'network': 5737, 'querying': 7743, 'computing': 1728, 'mapreduce': 4787, 'scenario': 8305, 'nprofessional': 6365, 'nthese': 6661, 'expect': 3005, 'fully': 3386, 'nverbal': 6765, 'nwritten': 6814, 'nteamwork': 6643, 'nrelationships': 6451, 'norganizational': 6230, 'awareness': 912, 'nlearning': 6051, 'agility': 511, 'nanalysis': 5251, 'nproblem': 6355, 'nprocess': 6356, 'nprioritization': 6350, 'npeople': 6291, 'reward': 8142, 'resourcing': 8070, 'coaching': 1559, 'engaging': 2806, 'production': 7547, 'sms': 8613, 'nsms': 6558, 'america': 590, 'multisite': 5130, 'subcontractor': 8941, 'affiliates': 484, '140': 48, 'locations': 4659, 'allows': 564, 'radical': 7764, 'budget': 1185, 'list': 4626, 'aren': 731, 'just': 4392, '24': 128, 'chicago': 1447, 'headquarters': 3697, 'staffed': 8784, 'trained': 9337, 'responsive': 8089, 'oil': 6897, 'gas': 3437, 'currently': 2088, 'upstream': 9579, 'subsurface': 8968, 'reservoirs': 8051, 'codes': 1564, 'smes': 8607, 'workflows': 9904, 'autonomous': 892, 'empowered': 2767, 'limits': 4607, 'ip': 4298, 'stack': 8780, 'reservoir': 8050, 'implemented': 3932, 'agents': 501, 'ncontribute': 5525, 'usually': 9604, 'engineer': 2808, 'petrophysicist': 7231, 'nmsc': 6153, 'petroleum': 7230, 'nalgorithmic': 5238, 'matlab': 4835, 'mathematica': 4831, 'nbeyond': 5368, 'pioneering': 7276, 'exploration': 3049, 'spinoff': 8734, 'nasa': 5291, 'jet': 4344, 'propulsion': 7623, 'lab': 4454, 'caltech': 1255, 'far': 3131, 'conventional': 1901, 'mimics': 4978, 'reasoning': 7828, 'complies': 1703, 'governing': 3548, 'nondiscrimination': 6202, 'facilities': 3101, 'hiring': 3745, 'placement': 7290, 'promotion': 7600, 'termination': 9192, 'layoff': 4506, 'transfer': 9352, 'leaves': 4534, 'absence': 290, 'expressly': 3063, 'prohibits': 7586, 'harassment': 3661, 'improper': 3947, 'interference': 4189, 'discharge': 2423, 'omd': 6907, 'award': 908, 'winning': 9878, 'fueled': 3380, 'creativity': 2018, 'shaping': 8474, 'explore': 3051, 'having': 3682, 'nareas': 5285, 'nexploration': 5794, 'stories': 8875, 'npredictive': 6336, 'omg': 6908, 'pipelines': 7279, 'nensuring': 5709, 'scheduled': 8309, 'npresent': 6342, 'ngenerating': 5879, 'nagency': 5231, 'boss': 1111, 'fight': 3187, 'tightly': 9258, 'game': 3425, 'possible': 7369, 'players': 7307, 'enjoy': 2820, 'games': 3427, 'communicator': 1650, 'nestablish': 5730, 'ontology': 6922, 'player': 7306, 'motivations': 5092, 'gaming': 3429, 'nhighly': 5926, 'synthesizing': 9072, 'interpreting': 4235, 'proposal': 7615, 'nanalyze': 5257, 'trend': 9397, 'naccountable': 5193, 'nmentor': 6122, 'ninterest': 5998, 'highlight': 3736, 'limitations': 4604, 'nanalytic': 5253, 'eq': 2872, 'nintellectual': 5994, 'offered': 6880, 'ford': 3288, 'motor': 5094, 'dearborn': 2180, 'mi': 4954, 'formation': 3305, 'experimental': 3026, 'nrequires': 6472, 'foreign': 3293, 'automotive': 891, 'natural': 5325, 'parsing': 7087, 'embeddings': 2736, 'cosine': 1965, 'distance': 2481, 'similarity': 8539, 'ontologies': 6921, 'confidence': 1766, 'intervals': 4243, 'unix': 9531, 'waterfall': 9807, 'agile': 509, 'sparkml': 8696, 'gradient': 3558, 'descent': 2288, 'year': 10056, 'docker': 2516, 'containerization': 1850, 'tomorrow': 9287, 'believe': 997, 'putting': 7698, 'head': 3693, 'tough': 9313, 'striving': 8914, 'going': 3532, 'win': 9874, 'nford': 5845, 'culturally': 2073, 'nvisa': 6773, 'outfront': 7008, 'profits': 7571, 'structures': 8923, 'extracts': 3079, 'comprehensive': 1716, 'loading': 4649, 'extraction': 3077, 'impacting': 3924, 'peer': 7152, 'phase': 7240, 'sourcing': 8680, 'sourced': 8677, 'ndemonstrate': 5581, 'creatively': 2017, 'maintaining': 4739, 'noracle': 6224, 'obiee': 6837, 'bics': 1027, 'oac': 6834, 'oracle': 6964, 'toad': 9280, 'llc': 4645, 'accept': 312, 'unsolicited': 9554, 'resumes': 8108, 'noutfront': 6255, 'fees': 3170, 'shall': 8471, 'refer': 7891, 'statement': 8827, 'blue': 1080, 'shield': 8488, 'illinois': 3897, 'mexico': 4951, 'montana': 5073, 'oklahoma': 6900, 'texas': 9206, 'spend': 8727, 'quarter': 7736, 'promoting': 7599, 'organizing': 6990, 'broader': 1162, 'owned': 7040, 'insurer': 4145, 'fourth': 3334, 'massive': 4816, 'revenue': 8131, 'affect': 478, 'delivered': 2237, 'loves': 4697, 'demonstrates': 2253, 'possesses': 7366, 'employing': 2763, 'domain': 2536, 'feasible': 3158, 'credential': 2020, 'yearsexperience': 10068, 'mindsetcustomer': 4985, 'focusedstrong': 3270, 'il': 3895, 'nrelocation': 6457, 'provided': 7648, 'nsponsorship': 6580, 'nhcsc': 5914, 'drug': 2585, 'smoke': 8609, 'screening': 8344, 'allowed': 562, 'nrequirements': 6471, 'disabled': 2416, 'website': 9823, 'email': 2731, 'nplease': 6315, 'note': 6243, 'returned': 8126, 'submitted': 8950, 'hcsc': 3689, 'line': 4610, 'account': 337, 'click': 1529, 'submissions': 8946, 'x9cpeople': 10006, 'personify': 7211, 'exceed': 2956, 'anxious': 664, 'welcome': 9837, 'abounds': 287, 'aimbridge': 526, 'nmines': 6130, 'unstructured': 9556, 'enhancing': 2819, 'experiencetypically': 3023, 'nserves': 6528, 'authority': 874, 'pertaining': 7219, 'hospitality': 3800, 'nmakes': 6099, 'authoritative': 873, 'nplans': 6311, 'guides': 3632, 'subordinate': 8952, 'mgnt': 4953, 'beneficial': 1010, 'projection': 7589, 'noral': 6225, 'ndevelops': 5610, 'answering': 654, 'specified': 8719, 'associate': 800, 'signed': 8531, 'nmedical': 6118, 'coverage': 1992, 'n401k': 5171, 'retirement': 8116, 'nshort': 6540, 'income': 3975, 'nvacation': 6757, 'pto': 7661, 'holiday': 3774, 'sick': 8520, 'nemployee': 5691, 'programspecific': 7579, 'ndow': 5640, 'jones': 4360, 'news': 5758, 'consumers': 1842, 'print': 7495, 'mobile': 5029, 'dow': 2549, 'produced': 7542, 'unrivaled': 9552, '125': 40, 'today': 9282, 'produces': 7544, 'publications': 7664, 'flagship': 3239, 'wall': 9784, 'street': 8897, 'journal': 4363, 'newspaper': 5761, 'paid': 7058, 'circulation': 1475, 'factiva': 3105, 'barron': 960, 'marketwatch': 4804, 'djx': 2509, 'newswires': 5763, 'venturesource': 9675, 'million': 4975, 'expanded': 3001, 'offering': 6881, 'arts': 759, 'lifestyle': 4591, 'sports': 8747, 'heritage': 3723, 'published': 7667, 'nearly': 5659, 'journalists': 4365, 'bureaus': 1206, 'spans': 8692, 'editions': 2662, 'newspapers': 5762, 'websites': 9824, 'magazines': 4730, 'video': 9708, 'holds': 3772, '35': 159, 'pulitzer': 7671, 'prizes': 7511, 'journalism': 4364, 'central': 1373, 'informed': 4055, 'main': 4735, 'princeton': 7490, 'nj': 6025, 'york': 10079, 'london': 4672, 'monitor': 5069, 'nprimary': 6347, 'noverseeing': 6263, 'weekly': 9832, 'quarterly': 7737, 'lake': 4464, 'dynamics': 2607, 'nproposing': 6383, 'learnt': 4529, 'membership': 4901, 'roi': 8183, 'rates': 7793, 'churn': 1468, 'tool': 9292, 'adobe': 433, 'worked': 9899, 'deals': 2179, 'newsworthy': 5764, 'vets': 9698, 'interview': 4246, 'talentresourceteam': 9102, 'dowjones': 2550, 'nbusiness': 5393, 'category': 1341, 'corp': 1945, 'nasdaq': 5295, 'nws': 6815, 'nwsa': 6816, 'asx': 814, 'nwslv': 6817, 'section': 8374, 'workday': 9897, 'homepage': 3783, 'jobs': 4351, 'thank': 9214, 'nreq': 6465, 'id': 3873, '15454': 55, 'sr': 8766, 'integration': 4158, 'author': 871, 'scripts': 8348, 'encompass': 2778, 'valid': 9629, 'invalid': 4262, 'prepare': 7446, 'defect': 2210, 'adheres': 413, 'communicated': 1644, 'detailed': 2313, 'cycles': 2111, 'nplan': 6309, 'dependencies': 2265, 'interfaces': 4187, 'nreliably': 6456, 'specifications': 8718, 'developed': 2328, 'stewardship': 8856, 'continuously': 1870, 'guarantee': 3619, 'crm': 2042, 'assure': 809, 'traceable': 9321, 'insertion': 4109, 'tracks': 9325, 'administrators': 428, 'resolve': 8063, 'defects': 2211, 'correction': 1950, 'errors': 2887, 'formal': 3302, 'discover': 2438, 'configuration': 1771, 'interoperability': 4230, 'flaws': 3243, 'problematic': 7521, 'transformations': 9358, 'exceptions': 2964, 'nproactively': 6354, 'relates': 7945, 'ncomply': 5495, 'keeps': 4404, 'nmine': 6129, 'discoveries': 2440, 'relating': 7946, 'owner': 7041, 'mechanisms': 4882, 'nemploy': 5690, 'bad': 944, 'hypotheses': 3860, 'mbr': 4853, 'qbr': 7709, 'nlearns': 6052, 'choices': 1459, 'sme': 8606, 'nconsistently': 5512, 'defines': 2218, 'owns': 7045, 'nmonitoring': 6146, 'prod': 7540, 'accomplish': 330, 'conversion': 1907, 'violations': 9720, 'editors': 2664, 'informatica': 4050, 'powercenteridq': 7394, 'mercury': 4917, 'qtp': 7715, 'rdbms': 7803, '10g': 28, '2005': 99, '2010': 104, 'productivity': 7551, 'phases': 7241, 'stages': 8788, 'modular': 5056, 'verification': 9679, 'sprint': 8758, 'troubleshooting': 9415, 'investigative': 4278, 'superior': 9002, 'concisely': 1748, 'articulate': 753, 'ndetailed': 5600, 'decompose': 2197, 'manageable': 4756, 'pieces': 7264, 'tight': 9257, 'collaborative': 1583, 'nhi': 5923, 'chewse': 1446, 'hundreds': 3848, 'run': 8229, 'meal': 4863, '19': 67, 'meals': 4864, 'burden': 1204, 'doing': 2531, 'great': 3587, 'amazing': 576, 'outperform': 7020, 'competition': 1678, 'propositions': 7621, 'curated': 2080, 'menus': 4914, 'little': 4635, 'constantly': 1823, 'experimenting': 3030, 'fulfilling': 3383, 'productive': 7549, 'paving': 7130, 'caas': 1230, 'hairy': 3644, 'authentic': 870, 'connection': 1791, 'easy': 2624, 'intellectually': 4163, 'insatiable': 4106, 'desire': 2306, 'speaking': 8703, 'sweat': 9055, 'flip': 3250, 'switch': 9059, 'zoom': 10096, 'motivate': 5089, 'teammates': 9134, 'workers': 9901, 'invested': 4271, 'really': 7822, 'brainstorm': 1126, 'nreport': 6459, 'allow': 561, 'scaling': 8299, 'welding': 9840, 'charge': 1417, 'truth': 9426, 'fluent': 3263, 'moving': 5100, 'feel': 3169, 'facto': 3107, 'stays': 8843, 'nexposure': 5797, 'periscope': 7183, 'statistic': 8834, 'nflexible': 5836, 'happiness': 3659, 'nhealth': 5916, 'worth': 9922, 'nfood': 5842, 'food': 3277, 'catered': 1342, '3x': 168, 'bonding': 1096, 'stock': 8863, 'healthy': 3704, 'snacks': 8616, 'attend': 837, 'workshops': 9912, 'conferences': 1765, 'night': 5956, 'extra': 3073, 'mile': 4971, 'nteam': 6642, 'budgets': 1189, 'strengthening': 8901, 'weekday': 9829, 'tribe': 9402, '67': 217, '968': 266, '126': 41, '062': 11, 'yearas': 10058, 'cia': 1470, 'inform': 4048, 'investments': 4283, 'hardware': 3667, 'audience': 857, 'sponsored': 8741, 'continuing': 1867, 'academic': 305, 'noffices': 6195, 'directorate': 2407, 'ddi': 2171, 'focuses': 3271, 'modernizing': 5051, 'officers': 6886, 'cyber': 2108, 'safeguard': 8238, 'nation': 5311, 'nsee': 6520, 'nlife': 6063, 'package': 7052, 'altering': 569, 'happen': 3656, 'isn': 4310, 'nus': 6743, 'dual': 2594, 'eligible': 2723, 'relocation': 7976, 'metro': 4949, 'stem': 8848, 'ncomputational': 5498, 'neconomics': 5665, 'nengineering': 5702, 'ngeospatial': 5881, 'nmathematics': 6113, 'noperations': 6217, 'nquantitative': 6408, 'nstatistics': 6596, 'ngpa': 5891, 'thesis': 9227, 'internships': 4222, 'ncreativity': 5547, 'ninitiative': 5981, 'nintegrity': 5993, 'nleadership': 6047, 'ndesired': 5598, 'rich': 8149, 'incomplete': 3977, 'psychological': 7659, 'exam': 2949, 'polygraph': 7345, 'considered': 1810, 'suitable': 8984, 'generally': 3464, 'illegal': 3896, 'drugs': 2586, 'prior': 7498, 'ago': 513, 'carefully': 1303, 'evaluated': 2926, 'internshipposition': 4218, 'contracts': 1882, 'methodology': 4944, 'feasibility': 3157, 'assessment': 783, 'concept': 1734, 'reliability': 7963, 'employed': 2758, 'ncreates': 5543, 'generated': 3466, 'emphasizing': 2753, 'channels': 1411, 'nassists': 5304, 'contractwe': 1886, 'remote': 7987, 'ndeveloper': 5607, 'postgres': 7376, 'ngoal': 5886, 'script': 8346, 'imported': 3941, 'choose': 1460, 'predictions': 7424, 'american': 591, 'citizen': 1483, 'authorized': 877, 'noverview': 6265, 'bug': 1190, 'fixing': 3236, 'automates': 884, 'remotely': 7988, 'skype': 8584, 'contract': 1871, 'rafael': 7766, 'edm': 2666, 'modifications': 5052, 'oversight': 7036, 'executed': 2976, 'complement': 1687, 'enrichment': 2827, 'hierarchies': 3731, 'nbuilding': 5389, 'ndesigning': 5595, 'modifying': 5055, 'nstructuring': 6612, 'pull': 7672, 'volume': 9761, 'recurring': 7873, 'sending': 8423, 'offshore': 6892, 'vendors': 9672, 'potentials': 7388, 'detect': 2317, 'syncing': 9065, 'servers': 8447, 'nmanaging': 6103, 'siebel': 8523, 'mdm': 4862, 'marketo': 4800, 'importing': 3942, 'exporting': 3055, 'reps': 8023, 'ntraining': 6685, 'onboarding': 6912, 'sharp': 8481, 'npassionate': 6283, 'nopen': 6211, 'respectful': 8073, 'differing': 2375, 'opinions': 6948, 'naddresses': 5218, 'quo': 7757, 'telling': 9168, 'story': 8878, 'html': 3834, 'autodesk': 881, 'nwith': 6803, 'things': 9229, 'disrupting': 2476, 'construction': 1830, 'entertainment': 2841, 'hobbyists': 3765, 'dimensions': 2390, 'ultimate': 9470, 'imagine': 3907, 'dnp': 2514, 'considers': 1812, 'headhunter': 3695, 'pay': 7132, 'agreement': 516, 'slack': 8589, 'evolving': 2945, 'scrappy': 8340, 'visibility': 9729, 'craft': 2001, 'integrations': 4159, 'nslack': 6554, 'supportive': 9024, 'x94we': 9971, 'inventive': 4265, 'aim': 525, 'humble': 3845, 'hardworking': 3668, 'sounds': 8675, 'say': 8286, 'hello': 3715, 'ndeepen': 5572, 'uncover': 9487, 'ncraft': 5541, 'scaled': 8297, 'entire': 2845, 'exploratory': 3050, 'grasp': 3585, 'probabilities': 7516, 'layer': 4504, 'brings': 1159, 'thousands': 9242, 'corner': 1941, 'kinds': 4420, 'headquartered': 3696, 'ca': 1229, 'connected': 1789, 'backgrounds': 938, 'pleasant': 7313, 'ncome': 5470, 'virtually': 9725, 'chip': 1456, 'atomic': 826, 'possibilities': 7367, 'reality': 7818, 'x9chr': 9996, 'hr': 3826, 'x9cprovide': 10009, 'capital': 1282, 'measurable': 4872, 'achieving': 355, 'translating': 9369, 'technically': 9144, 'fellow': 3173, 'investigate': 4272, 'causality': 1347, 'connections': 1792, 'nmerge': 6123, 'semi': 8419, 'retaining': 8114, 'assumptions': 807, 'relate': 7943, 'adds': 408, 'factor': 3108, 'anova': 651, 'nprediction': 6335, 'neffectively': 5678, 'implications': 3935, 'ndeliver': 5578, 'larger': 4480, 'nstay': 6598, 'streamline': 8893, 'compilation': 1682, 'nmaster': 6109, 'libraries': 4575, 'predict': 7419, 'nstellar': 6600, 'assume': 805, 'nbasic': 5356, 'hris': 3828, 'ncertifications': 5428, 'nyears': 6823, 'nyes': 6824, 'nno': 6175, 'napplied': 5273, 'minorities': 4997, 'females': 3177, 'veterans': 9697, 'wix': 9886, 'ba': 927, '90': 255, 'interact': 4175, '130': 43, 'billion': 1039, '1tb': 91, 'store': 8871, 'presto': 7473, 'skilled': 8573, 'harness': 3671, 'initiate': 4074, 'beginning': 989, 'minimal': 4988, 'nbonus': 5376, 'bsc': 1180, 'especially': 2894, 'reported': 8007, 'x93churn': 9954, 'segmentation': 8395, 'otherabout': 7003, 'westrock': 9851, 'nwestrock': 6790, 'nyse': 6828, 'wrk': 9934, 'differentiated': 2372, 'paper': 7067, 'packaging': 7055, 'marketplace': 4801, '50': 186, '320': 154, 'spanning': 8691, 'north': 6238, 'south': 8681, 'europe': 2921, 'asia': 763, 'australia': 869, 'nsenior': 6526, 'atlanta': 821, 'ga': 3414, 'n1000': 5152, 'abernathy': 281, 'rd': 7802, 'ne': 5655, 'natlanta': 5317, 'georgia': 3490, '30328': 145, 'nunited': 6733, 'nrequisition': 6473, '8954': 252, '1000': 19, 'road': 8172, 'unanticipated': 9477, 'formulate': 3316, 'optimizing': 6960, 'formulation': 3317, 'predicting': 7422, 'characteristics': 1415, 'setup': 8463, 'briefings': 1151, 'researches': 8044, 'telecommuting': 9164, 'occupation': 6861, 'cplex': 1998, 'ampl': 602, 'opl': 6949, 'ncontact': 5515, 'mail': 4732, 'requisition': 8038, 'attn': 845, 'stephanie': 8850, 'xef': 10051, 'x83': 9949, 'x98': 9972, 'mitigation': 5015, 'assurance': 808, 'satisfied': 8278, 'hybrid': 3855, 'geographically': 3487, 'dispersed': 2467, 'budgeting': 1188, 'executive': 2982, 'nshift': 6539, 'n1st': 5158, 'shift': 8489, 'nhours': 5934, 'n40': 5169, 'accomplished': 331, 'spectrum': 8723, 'establishing': 2903, 'executiion': 2978, 'stewards': 8855, 'consuming': 1843, 'play': 7305, 'progressing': 7582, 'spaceflight': 8687, 'nfacilitating': 5808, 'nexecuting': 5777, 'definitions': 2221, 'enforcing': 2799, 'metadata': 4932, 'stores': 8873, 'usages': 9588, 'interrogating': 4238, 'nosql': 6241, 'directing': 2400, 'pace': 7049, 'environments': 2857, 'skill': 8572, 'profiling': 7567, 'permanent': 7187, 'resident': 8055, 'green': 3592, 'holder': 3768, 'lawfully': 4498, 'admitted': 431, 'refugee': 7905, 'granted': 3573, 'asylum': 815, 'aerorspace': 474, 'supplier': 9017, 'nblue': 5375, 'phenomenal': 7244, 'awesome': 916, '401k': 172, 'principles': 7494, 'motiion': 5087, 'merit': 4923, 'fostering': 3325, 'scattered': 8303, 'inconsistently': 3982, 'waste': 9802, 'freshness': 3362, 'reading': 7813, 'answers': 655, 'bolster': 1095, 'dive': 2497, 'breadth': 1137, 'geographical': 3486, 'traits': 9342, 'boxes': 1120, 'aspire': 772, 'signs': 8535, 'ntoolbox': 6675, 'intuitively': 4261, 'shortlist': 8508, 'short': 8506, 'termimpact': 9190, 'focusing': 3272, 'x9cbang': 9988, 'buck': 1182, 'nperformance': 6294, 'recognized': 7842, 'past': 7116, 'nstarter': 6591, 'finisher': 3218, 'collaborators': 1585, 'hope': 3792, 'continue': 1864, 'ethic': 2910, 'unquestioned': 9550, 'sustainable': 9047, 'ndisciplined': 5616, 'hit': 3754, 'snag': 8617, 'reset': 8052, 'early': 2613, 'ncollaborative': 5463, 'nappreciation': 5277, 'honest': 3787, 'kindly': 4419, 'unnecessary': 9544, 'acceptable': 314, 'absolutely': 291, 'spending': 8728, 'rest': 8091, 'outlast': 7011, 'founder': 3331, 'scratch': 8341, 'painful': 7060, 'eyes': 3087, 'laser': 4482, 'nremote': 6458, 'catch': 1337, 'certainly': 1381, 'comes': 1618, 'vastly': 9662, 'outnumber': 7017, 'disadvantages': 2417, 'dozens': 2556, 'shown': 8513, 'obstacle': 6852, 'half': 3645, 'mode': 5035, 'home': 3778, 'prefer': 7428, 'regularly': 7926, 'interaction': 4177, 'npersonal': 6300, 'seen': 8392, 'devolve': 2340, 'empire': 2754, 'contributors': 1894, 'notch': 6242, 'matching': 4824, 'generous': 3474, 'vacation': 9623, 'n1strategy': 5159, 'consultancy': 1834, 'empowering': 2768, 'nimble': 5960, 'contribution': 1891, '1strategy': 90, 'breaking': 1143, 'native': 5316, 'tasked': 9117, 'hear': 3705, 'iterative': 4325, 'sagemaker': 8243, 'nearn': 5660, 'roadblocks': 8173, 'nclean': 5443, 'uncleansed': 9484, 'nengage': 5700, 'ruby': 8225, 'scala': 8292, 'pig': 7265, 'architecting': 719, 'scalability': 8293, 's3': 8234, 'emr': 2771, 'rds': 7804, 'willingness': 9873, 'versioning': 9690, 'nice': 5945, 'node': 6191, 'ncultivating': 5552, 'ndid': 5611, 'lyft': 4719, 'politically': 7343, 'progressive': 7584, 'aftermath': 494, 'uber': 9458, 'press': 7469, 'woes': 9889, 'nis': 6019, 'rural': 8232, 'nhow': 5935, 'did': 2363, 'path': 7120, 'solar': 8643, 'eclipse': 2637, 'hotel': 3803, 'bookings': 1100, 'nascent': 5292, 'dataset': 2147, 'statistically': 8836, 'itch': 4319, 'ahead': 521, 'toolbelt': 9293, 'demand': 2243, 'stickler': 8857, 'careful': 1302, 'gifted': 3502, 'juggling': 4380, 'relish': 7973, 'goods': 3540, 'ndesire': 5597, 'sociology': 8634, 'nexcited': 5772, 'curve': 2091, 'ncompensation': 5485, 'salary': 8251, 'nstock': 6602, 'grants': 3574, 'pre': 7416, 'ipo': 4301, 'backed': 935, 'ntake': 6637, 'unlimited': 9538, 'nedison': 5666, 'intelligent': 4166, 'valuable': 9638, 'earth': 2619, 'gain': 3418, 'island': 4309, 'lend': 4544, 'stuck': 8927, 'egos': 2699, 'backseat': 941, 'figuring': 3190, 'energized': 2794, 'excited': 2968, 'textbook': 9208, 'finally': 3203, 'posture': 7385, 'lot': 4689, 'attempt': 836, 'blameless': 1062, 'postmortems': 7383, 'hiringorganization': 3746, 'edison': 2659, 'nlsg': 6083, 'logistics': 4668, 'pride': 7486, 'responsiveness': 8090, 'promise': 7593, 'biggest': 1033, 'asset': 785, 'lsg': 4706, 'npto': 6389, 'ninsurance': 5991, 'n401': 5170, 'nhealthy': 5918, 'nflsa': 5837, 'compliant': 1701, 'parameters': 7075, 'responses': 8084, 'drawn': 2567, 'map': 4782, 'genuine': 3481, 'conceptual': 1738, 'planned': 7296, 'outline': 7014, 'considering': 1811, 'accessibility': 320, 'translated': 9367, 'adherence': 412, 'multivariable': 5133, 'secret': 8372, 'clearance': 1519, 'active': 374, 'substituted': 8967, 'ncity': 5439, 'norfolk': 6228, 'nstate': 6593, 'virginia': 9723, 'nutilize': 6750, 'calculated': 1241, 'columns': 1605, 'flows': 3259, 'teradata': 9187, 'recommendation': 7846, 'vector': 9666, 'frontend': 3371, 'ux': 9618, 'designer': 2301, 'behaviors': 994, 'customized': 2103, 'recommended': 7849, 'items': 4321, 'modified': 5053, 'desktop': 2310, 'ncollect': 5464, 'categorize': 1340, 'optimized': 6958, 'device': 2337, 'geographic': 3485, 'shopper': 8501, 'nconsult': 5513, 'admin': 421, 'frame': 3338, 'designs': 2304, '57': 199, '85': 245, 'yearthe': 10070, 'labs': 4460, 'gpl': 3554, 'housed': 3819, 'andrew': 630, 'young': 10080, 'studies': 8930, 'policymakers': 7340, 'try': 9427, 'pressing': 7470, 'decide': 2189, 'promising': 7594, 'scarce': 8301, 'child': 1452, 'children': 1454, 'families': 3127, 'teaching': 9130, 'officials': 6889, 'seeks': 8390, 'conscientious': 1797, 'researchers': 8043, 'safety': 8242, 'micro': 4959, 'toolkit': 9296, 'coding': 1565, 'enjoys': 2824, 'wants': 9793, 'completeness': 1693, 'uniformity': 9514, 'purposes': 7688, 'bias': 1025, 'x94including': 9962, 'x94to': 9970, 'nwrite': 6812, 'clean': 1511, 'accessible': 321, 'ndisclaimer': 5617, 'exclusive': 2972, 'discretion': 2445, 'ncollege': 5467, 'campus': 1265, '15': 51, 'pm': 7326, 'npay': 6287, 'grade': 3557, 'posting': 7380, '03': 8, '25': 130, '17': 59, '33': 155, '04': 10, '18': 63, '59': 202, '00': 0, 'degrees': 2226, 'mastery': 4820, 'stata': 8824, 'gis': 3505, 'helpful': 3719, 'lay': 4503, 'nspecial': 6571, 'instructions': 4137, 'samples': 8259, 'references': 7894, 'rolling': 8188, 'filled': 3195, 'reviewed': 8135, 'april': 714, 'board': 1085, 'requisitions': 8039, 'removed': 7991, 'notice': 6248, 'expires': 3037, 'futuristic': 3413, 'groundbreaking': 3604, 'influencing': 4040, 'retail': 8109, 'contributions': 1892, 'reinvent': 7940, 'guests': 3625, 'responsib': 8085, 'nle': 6045, 'drives': 2580, 'xbb': 10044, 'algorithmic': 546, 'recommender': 7850, 'filtering': 3198, 'propensity': 7609, 'msc': 5112, 'stream': 8891, 'rf': 8147, 'generalized': 3463, 'naive': 5236, 'bayes': 975, 'empirical': 2755, 'nemail': 5688, 'analytos': 621, 'neventbrite': 5750, 'bustling': 1214, 'post': 7371, 'minutes': 5000, 'buy': 1220, 'ticket': 9250, 'seconds': 8371, 'fraud': 3351, 'smoothly': 8612, 'organizers': 6988, 'attendees': 839, 'happens': 3657, 'reliably': 7965, 'launch': 4491, 'knowing': 4433, 'low': 4698, 'profile': 7565, 'precision': 7418, 'landscape': 4468, 'threats': 9244, 'disciplinary': 2425, 'ranging': 7780, 'chargeback': 1418, 'eventbrite': 2936, 'safe': 8237, 'needle': 5673, 'gets': 3495, 'pulled': 7673, 'haystack': 3683, 'spam': 8689, 'detection': 2318, 'nitty': 6023, 'gritty': 3600, 'gaps': 3432, 'decisioning': 2191, 'ship': 8494, 'exactly': 2948, 'envisioned': 2861, 'succinctly': 8976, 'accurately': 350, 'gt': 3615, 'ncomfort': 5471, 'payments': 7138, 'nactive': 5204, 'powering': 7397, 'music': 5139, 'festivals': 3178, 'marathons': 4790, 'hackathons': 3641, 'rallies': 7772, 'fundraisers': 3402, 'competitions': 1679, 'x94': 9956, 'exact': 2947, 'nsign': 6545, 'touch': 9310, 'discriminate': 2447, 'childbirth': 1453, 'registered': 7916, 'domestic': 2538, 'caregiver': 1304, 'transgender': 9362, 'stereotypes': 8853, 'victim': 9705, 'violence': 9721, 'assault': 776, 'stalking': 8794, 'npursuant': 6394, 'arrest': 745, 'conviction': 1915, 'ethical': 2911, 'words': 9894, 'loyalty': 4703, 'restaurant': 8092, 'telecommunications': 9163, 'newest': 5755, 'increased': 3986, 'transactional': 9345, 'importantly': 3940, 'nbecome': 5358, 'nexplain': 5793, 'exercises': 2987, 'retention': 8115, 'campaign': 1262, 'nkobie': 6043, 'rewards': 8145, 'fulfillment': 3384, 'ton': 9289, 'embrace': 2739, 'stake': 8790, 'kobie': 4441, 'spss': 8759, 'ols': 6904, 'xa6': 10032, 'rfm': 8148, 'nsas': 6509, 'miner': 4986, 'viya': 9751, 'nretail': 6488, 'telecom': 9161, 'twice': 9448, 'ok': 6898, 'distribute': 2488, 'imbalances': 3909, 'monetization': 5065, 'elicit': 2721, 'gameplay': 3426, 'nserve': 6527, 'accessing': 322, 'publishing': 7670, 'nintermediate': 6001, 'aggregate': 503, 'windowing': 9875, 'narticulate': 5289, 'studio': 8931, 'titles': 9277, 'n_____________________________________________________________________': 5181, 'nsix': 6550, 'foot': 3279, 'staffing': 8785, 'conceived': 1729, 'intricacies': 4252, 'connectors': 1794, 'lightly': 4598, 'workplaces': 9909, 'celebrated': 1362, 'valued': 9641, 'studios': 8932, 'immediately': 3912, 'associated': 801, 'connects': 1795, 'importance': 3938, 'balancing': 949, 'concert': 1745, '969': 267, '756': 231, 'monthcontractunder': 5077, 'professors': 7561, 'dana': 2119, 'mukamel': 5119, 'kai': 4397, 'zheng': 10091, 'incumbent': 3994, 'calmhsa': 1253, 'inn': 4086, 'statewide': 8830, 'evaluate': 2925, 'chatting': 1433, 'listeners': 4629, 'created': 2010, 'faculty': 3114, 'describing': 2291, 'apps': 712, 'irvine': 4307, 'advancing': 449, 'covered': 1993, 'uc': 9459, '58': 201, '755': 230, '83': 240, 'ntotal': 6679, 'ncontract': 5524, 'nfinal': 5824, 'contractor': 1879, 'substantial': 8965, 'certain': 1380, 'subcontracts': 8942, 'attach': 830, 'nraise': 6417, 'ncapture': 5412, 'mfc': 4952, 'estimation': 2908, 'seven': 8464, 'reveal': 8130, 'socialize': 8628, 'onshore': 6919, 'respect': 8071, 'nmckesson': 6116, 'creed': 2026, 'disqualified': 2473, 'mckesson': 4856, 'seekers': 8388, 'disability_accommodation': 2415, 'cvs': 2107, 'accepted': 316, 'nlocated': 6077, 'beautiful': 982, 'santa': 8268, 'barbara': 957, 'hg': 3728, 'powered': 7395, 'mandate': 4767, 'install': 4124, 'casual': 1331, 'fitness': 3231, 'beach': 978, 'blocks': 1072, 'away': 913, 'riding': 8156, 'bikes': 1036, 'lunch': 4715, 'funk': 3404, 'zone': 10094, 'hanging': 3655, 'spaces': 8688, 'seriously': 8442, 'days': 2162, 'surf': 9028, 'furthering': 3410, 'curation': 2081, 'gained': 3419, 'nexperiment': 5790, 'comprehensively': 1717, 'ngenerate': 5878, 'ncoordinate': 5531, 'systematic': 9073, 'nproduction': 6364, 'dictated': 2360, 'npre': 6333, 'tokens': 9285, 'stage': 8786, 'mrf': 5106, 'qc': 7710, 'ninput': 5986, 'bpo': 1122, 'outsource': 7026, 'centers': 1372, 'noutput': 6256, 'append': 676, 'file': 3191, 'athena': 817, 'anomalies': 647, 'ethics': 2913, 'betterment': 1019, 'comprehension': 1715, 'nreq6316': 6466, 'nnumber': 6185, 'openings': 6927, 'nregular': 6447, 'nfirst': 5831, 'nweekends': 6785, 'nnot': 6180, 'ndallas': 5561, 'phoenix': 7249, 'az': 921, 'bloomington': 1078, 'representation': 8015, 'clearer': 1522, 'viewer': 9713, 'engagement': 2803, 'ninvestigates': 6016, 'recommends': 7852, 'initiates': 4075, 'extend': 3065, 'nmanages': 6102, 'napplies': 5274, 'theories': 9221, 'contacts': 1846, 'obtaining': 6856, 'emergent': 2746, 'ncontributes': 5526, 'farm': 3133, 'articles': 752, 'journals': 4366, 'ncollaborates': 5460, 'select': 8402, 'inferential': 4033, 'generative': 3471, 'discriminative': 2451, 'graph': 3578, 'repositories': 8012, 'movement': 5098, 'fundamental': 3396, '95': 263, 'chief': 1450, 'officer': 6885, 'employ': 2757, 'nimplementing': 5962, 'proposed': 7618, 'probable': 7518, 'recognition': 7840, 'numerous': 6721, 'warehouses': 9796, 'hierarchical': 3730, 'exercise': 2986, 'ci': 1469, 'cd': 1354, 'nmultiple': 6155, 'option': 6961, 'mv1': 5142, 'nmon18': 6143, 'nsfarm': 6534, 'npm18': 6316, 'unsurpassed': 9558, 'enforcement': 2798, 'fsa': 3374, 'joint': 4359, 'venture': 9673, 'trusted': 9424, 'providers': 7650, 'saic': 8245, 'aecom': 470, 'vacancy': 9622, 'atf': 816, 'executes': 2977, 'nobtain': 6188, 'nprepare': 6340, 'notices': 6249, 'advertisements': 455, 'suspense': 9043, 'petitions': 7228, 'nreconcile': 6436, 'declarations': 2195, 'nverify': 6766, 'disposition': 2471, 'forfeited': 3298, 'nassure': 5308, 'computations': 1725, 'inventories': 4266, 'ndistribute': 5622, 'official': 6888, 'concerning': 1743, 'attorney': 846, 'doj': 2532, 'entry': 2852, 'nhigh': 5924, 'diploma': 2396, 'enter': 2836, 'retrieve': 8121, 'compute': 1726, 'spreadsheets': 8755, 'correspondence': 1959, 'nforfeiture': 5847, 'compensate': 1670, 'quali': 7717, 'xac': 10037, 'x81ed': 9942, 'persons': 7213, 'hiv': 3757, 'x81ned': 9946, '92': 260, '093': 16, '118': 37, '670': 218, 'yearthere': 10071, 'city': 1486, 'distinction': 2485, 'metropolitan': 4950, 'police': 7336, 'premiere': 7439, 'visitors': 9739, 'residents': 8056, '21': 121, 'private': 7508, 'consists': 1818, '850': 246, 'sworn': 9061, '650': 216, 'civilian': 1490, 'honor': 3789, 'safeguarding': 8239, 'protecting': 7633, 'mpd': 5101, 'civic': 1488, 'minded': 4981, 'propel': 7608, 'advisor': 462, 'advice': 458, 'visualizes': 9746, 'concern': 1742, 'coordinates': 1927, 'annual': 645, 'meeting': 4893, 'nadvise': 5226, 'nrecommend': 6432, 'capstat': 1287, 'alignment': 553, 'district': 2496, 'templates': 9170, 'abreast': 288, 'nexpert': 5791, 'cognos': 1572, 'arcgis': 717, 'nskilled': 6552, 'streams': 8895, 'nlicensures': 6062, 'nn': 6157, 'hrm': 3829, 'satisfactorily': 8276, 'napplicants': 5270, 'cs': 2059, 'equipped': 2875, 'applicant': 682, 'particular': 7095, 'nincumbent': 5971, 'weekend': 9830, 'courts': 1990, 'trainings': 9339, 'occasionally': 6859, 'travels': 9385, 'town': 9317, 'vehicle': 9668, 'operator': 6944, 'permit': 7190, 'npositions': 6321, 'traffic': 9333, 'columbia': 1603, 'internshipsummary': 4224, 'nsierra': 6543, 'nevada': 5747, 'ncontext': 5517, 'herndon': 3724, 'va': 9620, 'intern': 4193, 'scrub': 8350, 'horizontal': 3795, 'partnering': 7101, 'agent': 500, 'pushing': 7696, 'copious': 1933, 'nsuccessful': 6620, 'ninitiate': 5980, 'snc': 8619, 'ipdp': 4300, 'nstudy': 6613, 'protocol': 7637, 'layout': 4507, 'originate': 6996, 'nexecute': 5775, 'estimates': 2907, 'labor': 4457, 'dollars': 2535, 'standardize': 8803, 'npunctuality': 6392, 'prepared': 7447, 'ncompliance': 5494, 'thoughtful': 9241, 'nsnc': 6559, 'descriptions': 2293, 'meant': 4870, 'summarizations': 8990, 'necessarily': 5663, 'pursuing': 7691, 'nimportant': 5964, 'defense': 2212, 'disco': 2433, 'handles': 3651, 'adjudicates': 417, 'allegiance': 555, 'conform': 1782, 'export': 3054, 'lawful': 4497, '1324b': 45, 'authorizations': 876, 'minority': 4998, 'regulation': 7928, 'fdr': 3154, 'airworthiness': 534, 'reasonability': 7825, 'checks': 1439, 'avionica': 903, 'flight': 3248, 'incident': 3964, 'extrapolate': 3081, 'aircraft': 531, 'downloads': 2552, 'assisted': 797, 'nindependently': 5973, 'known': 4438, 'coming': 1622, 'guideline': 3630, 'frames': 3339, 'paperwork': 7069, 'quoting': 7759, 'billing': 1038, 'orders': 6974, 'ninterface': 6000, 'evolution': 2942, 'second': 8369, 'ncomplete': 5491, 'fashion': 3141, 'ncommitment': 5474, 'comply': 1705, 'ncontinual': 5518, 'aviation': 902, 'aeronautical': 473, 'foqa': 3282, 'pilot': 7268, 'nground': 5895, 'binary': 1043, 'octal': 6867, 'hex': 3727, 'numbering': 6715, 'nsoftware': 6562, 'ncompetency': 5488, 'sg': 8469, 'imagination': 3905, 'genx': 3483, 'engines': 2812, 'fuel': 3379, 'noise': 6198, 'imaginative': 3906, 'advances': 448, 'embedded': 2734, 'ecomagination': 2639, 'got': 3543, 'advancement': 445, 'reengineering': 7889, 'globe': 3522, 'generations': 3470, 'nge': 5875, 'florida': 3255, 'miami': 4956, 'isolved': 4313, 'hcm': 3688, 'payroll': 7140, 'aca': 302, 'enrollment': 2829, 'mid': 4962, 'sized': 8569, 'import': 3937, 'nbrief': 5382, 'electronically': 2713, 'convert': 1908, 'infinisource': 4034, 'smooth': 8611, 'nmap': 6106, 'pdf2excel': 7146, 'nconvert': 5530, 'ntroubleshoot': 6697, 'nfacilitate': 5807, 'met': 4930, 'nexamine': 5767, 'communicates': 1645, 'nsuperior': 6625, 'nphysical': 6306, 'nnormal': 6178, 'concentration': 1733, 'dexterity': 2346, 'lifting': 4595, 'pounds': 7389, 'moderate': 5045, 'lists': 4633, 'exhaustive': 2989, 'merely': 4918, 'revise': 8138, 'nposted': 6325, 'mar': 4789, 'nweekly': 6786, '114157802': 34, 'nwireless': 6802, 'ecosystems': 2651, 'apple': 678, 'fielding': 3182, 'wireless': 9881, 'span': 8690, 'viable': 9701, 'invent': 4264, 'customize': 2102, 'nconceive': 5500, 'ntakes': 6638, 'automate': 882, 'nm': 6088, 'everytown': 2940, 'gun': 3634, 'advocacy': 465, 'identifies': 3885, 'interventions': 4245, 'prevent': 7476, 'populations': 7351, 'differently': 2374, 'researcher': 8042, 'original': 6995, 'avenues': 899, 'noversee': 6262, 'update': 9564, 'frequent': 3358, 'reference': 7892, 'cdc': 1356, 'fatal': 3145, 'nonfatal': 6203, 'injury': 4084, 'fbi': 3148, 'supplementary': 9016, 'homicide': 3785, 'noptimize': 6220, 'publication': 7663, 'legislative': 4542, 'outreach': 7023, 'nclearly': 5446, 'scholars': 8316, 'enforce': 2797, 'modelling': 5042, 'composite': 1710, 'index': 4001, 'nsignificant': 6546, 'census': 1367, 'floor': 3253, 'nreasonable': 6427, 'neverytown': 5751, 'amnesty': 599, 'historically': 3751, 'underrepresented': 9499, 'heart': 3708, 'vital': 9750, 'goby': 3529, 'payable': 7133, 'esg': 2892, 'environmental': 2855, 'bright': 1153, 'ndriving': 5647, 'water': 9806, 'ghg': 3499, 'emissions': 2749, 'disclosure': 2431, 'gresb': 3597, 'cdp': 1358, 'gri': 3598, 'djsi': 2507, 'sasb': 8273, 'disclosures': 2432, 'vendor': 9671, 'missing': 5005, 'leed': 4537, 'purchasing': 7684, 'invoices': 4290, 'tickets': 9252, 'submittal': 8949, 'nfoundational': 5852, 'tcfd': 9124, 'nwillingness': 6801, 'nentrepreneurial': 5715, 'spirit': 8735, 'worker': 9900, 'ncreative': 5545, 'solver': 8659, 'particularly': 7096, 'nleed': 6053, 'assessing': 782, 'ndynamic': 5654, 'dress': 2571, '401': 171, 'noffice': 6194, 'loop': 4684, 'amenities': 588, 'foosball': 3278, 'ping': 7271, 'pong': 7346, 'outdoor': 7007, 'patio': 7125, 'door': 2544, 'club': 1551, 'golf': 3535, 'simulator': 8550, 'visa': 9728, 'nkayak': 6035, 'anomaly': 648, 'advancements': 446, 'iterating': 4323, 'plot': 7319, 'nvery': 6767, 'modern': 5048, 'bash': 967, 'ui': 9464, 'css': 2062, 'react': 7807, 'kayak': 4400, 'confident': 1767, 'searches': 8362, 'flights': 3249, 'cars': 1317, 'engine': 2807, 'opentable': 6931, 'metasearch': 4935, 'swoodoo': 9060, 'checkfelix': 1437, 'momondo': 5063, 'cheapflights': 1434, 'mundi': 5136, 'hotelscombined': 3805, 'subsidiary': 8960, 'booking': 1099, 'holdings': 3771, 'nday': 5568, 'birthday': 1055, 'ngenerous': 5880, 'nawesome': 5340, 'stupid': 8936, 'ndrinks': 5643, 'coffee': 1567, 'nfree': 5856, 'massages': 4815, 'massage': 4814, 'therapist': 9225, 'excursions': 2974, 'shop': 8500, 'outside': 7024, 'rebuild': 7830, 'semantic': 8416, 'groceries': 3601, 'apparel': 673, 'assignment': 789, 'nconnect': 5508, 'olympics': 6906, 'outings': 7010, 'visionary': 9733, 'technologist': 9156, 'solutionsdemonstrated': 8655, 'illustrate': 3899, 'scenariosexperience': 8307, 'quantity': 7735, 'modelingmachine': 5040, 'terminologyability': 9194, 'teamstrong': 9139, 'acute': 387, 'detaila': 2312, 'huge': 3841, 'neducational': 5669, 'ncurrently': 5557, 'enrolled': 2828, 'undergraduate': 9493, 'electrical': 2711, 'fieldprojects': 3183, 'interns': 4199, 'student': 8928, 'nbig': 5370, 'couchbase': 1972, 'cassandraknowledge': 1329, 'tensor': 9182, 'frameworksability': 3342, 'channel': 1409, 'revenues': 8132, '80bn': 238, 'bing': 1044, 'msn': 5114, 'surface': 9029, 'xbox': 10047, 'surprised': 9034, 'inspired': 4120, 'plays': 7310, 'invite': 4287, 'appreciates': 696, 'chipp': 1457, 'redmond': 7879, 'investigator': 4279, 'reactively': 7809, 'piracy': 7280, 'remediate': 7984, 'activity': 377, 'investigations': 4277, 'greater': 3588, 'nbackground': 5351, 'pass': 7108, 'exploits': 3048, 'virtual': 9724, 'raise': 7768, 'remediation': 7985, 'theft': 9217, 'nboth': 5378, 'distances': 2482, 'attacks': 834, 'ninforms': 5979, 'projected': 7588, 'ndrive': 5644, 'manages': 4764, 'nresults': 6486, 'example': 2952, 'compromise': 1722, 'velocity': 9670, 'nidentification': 5951, 'perpetration': 7193, 'perpetrators': 7195, 'nproper': 6379, 'leakage': 4518, 'referral': 7896, 'response': 8083, 'affairs': 477, 'cela': 1360, 'attorneys': 847, 'naddt': 5219, 'implementations': 3931, 'modus': 5059, 'operandi': 6933, 'attack': 832, 'vectors': 9667, 'nusing': 6747, 'perpetrator': 7194, 'justice': 4393, 'nuses': 6746, 'unasked': 9478, 'nextends': 5800, 'adding': 401, 'significantly': 8534, 'ncoaches': 5456, 'correctly': 1953, 'nengages': 5701, 'objectively': 6840, 'opposing': 6952, 'inquiry': 4103, 'nshares': 6536, 'timeliness': 9264, 'resulting': 8103, 'thoroughly': 9239, 'nfully': 5862, 'conversant': 1904, 'verbally': 9678, 'threat': 9243, 'nsecondary': 6516, 'chinese': 1455, 'russian': 8233, 'cseo': 2061, 'cdas': 1355, 'realize': 7820, 'nand': 5260, 'sensors': 8429, 'installed': 4125, 'portfolios': 7354, 'enterprises': 2840, 'nthey': 6662, 'multidimensional': 5123, 'unlock': 9539, 'nadditionally': 5215, 'nscripts': 6513, 'npatterns': 6285, 'ninsights': 5989, 'nset': 6532, 'ninform': 5977, 'ninternal': 6003, 'nproduct': 6363, 'quantification': 7728, 'ndefects': 5573, 'outliers': 7013, 'nprogress': 6371, 'ntoward': 6681, 'benchmarks': 1007, 'nsustainable': 6632, 'ones': 6913, 'nscale': 6510, 'nmanipulate': 6105, 'nvariety': 6764, 'ncomplex': 5493, 'nstories': 6603, 'nexecutive': 5779, 'ndashboards': 5563, 'infographics': 4047, 'voc': 9757, 'nadvance': 5223, 'nmaturity': 6114, 'counseling': 1975, 'nvalue': 6761, 'nundergraduate': 6726, 'exp': 2999, 'ndecision': 5569, 'nefficiently': 5681, 'walk': 9781, 'ggplot2': 3498, 'gainsight': 3422, 'api': 670, 'logically': 4665, 'aggressive': 507, 'staying': 8842, 'ncurrent': 5556, 'kind': 4418, 'walls': 9787, 'blends': 1066, 'networked': 5738, 'buildings': 1195, 'cities': 1482, 'hidden': 3729, 'currentbyge': 2087, 'nnote': 6181, 'announced': 642, 'sell': 8411, 'equity': 2879, 'buying': 1223, 'transaction': 9344, 'customary': 2096, 'closing': 1546, 'regulatory': 7930, 'approvals': 707, 'consultation': 1837, 'massachusetts': 4813, 'boston': 1112, 'east': 2622, 'cleveland': 1527, 'nbased': 5355, 'northern': 6239, 'axiologic': 919, 'oversee': 7033, 'ndirects': 5615, 'conducts': 1762, 'nexamines': 5768, 'affecting': 480, 'sought': 8673, 'ts': 9429, 'sci': 8318, 'poly': 7344, 'napproximately': 5281, 'near': 5658, 'feeds': 3168, 'missions': 5007, 'transitioning': 9365, 'negatively': 5683, 'tactical': 9088, 'lifecycle': 4589, 'disparate': 2462, 'edit': 2660, 'contents': 1854, 'slides': 8594, 'letters': 4556, 'fact': 3104, 'diagrams': 2355, 'formally': 3303, 'informally': 4049, 'forums': 3321, 'naws': 5341, 'atlassian': 823, 'confluence': 1781, 'inside': 4110, 'region': 7913, 'ncr': 5540, 'nequal': 5722, 'x93minorities': 9955, 'naxiologic': 5343, 'sdvosb': 8355, 'optimizes': 6959, 'arthur': 750, 'lawrence': 4499, 'urgently': 9583, 'palo': 7062, 'alto': 575, 'earliest': 2612, 'proceed': 7528, 'nworked': 6806, 'cosmos': 1966, 'dms': 2512, 'nrelevant': 6454, 'certification': 1385, 'anum': 663, '832': 241, '941': 261, '0356': 9, 'arthurlawrence': 751, 'net': 5733, 'fluency': 3262, 'squarespace': 8765, 'ndepending': 5590, 'tackle': 9083, 'paths': 7122, 'nreframe': 6444, 'quantifiable': 7727, 'instrument': 4139, 'underlying': 9495, 'wider': 9869, 'devise': 2339, 'competency': 1676, 'nsquarespace': 6584, 'succeed': 8970, 'blending': 1065, 'elegant': 2715, 'artists': 758, 'iconic': 3870, '800': 237, 'downtown': 2554, 'dublin': 2595, 'portland': 7356, 'nequity': 5723, 'ndog': 5635, 'ntoday': 6673, 'nbrooks': 5386, 'itw': 4328, '150': 52, 'facility': 3102, 'hatfield': 3679, 'pa': 7047, 'suburban': 8969, 'brooks': 1171, 'hungary': 3849, 'france': 3345, 'japan': 4332, 'laboratory': 4459, 'chemicals': 1440, 'semiconductor': 8420, 'nuclear': 6709, 'cells': 1365, 'nunder': 6725, 'pareto': 7082, 'histograms': 3748, 'nadminister': 5221, 'trackwise': 9326, 'preventive': 7480, 'capa': 1276, 'complaint': 1686, 'cc': 1353, 'failure': 3116, 'fa': 3090, 'traintrack': 9340, 'deficiencies': 2215, 'conformances': 1784, 'nassociate': 5305, 'certificate': 1383, 'nminitab': 6134, 'ncontinuing': 5521, 'reimbursement': 7934, 'dynamically': 2606, 'satisfying': 8280, 'rapid': 7785, 'compete': 1672, 'nitw': 6024, 'strength': 8899, 'helped': 3718, '60': 208, 'remain': 7979, 'talented': 9101, 'prospered': 7629, 'changed': 1406, 'timeabout': 9260, 'nhere': 5922, 'grubhub': 3613, 'giving': 3511, 'diners': 2392, 'convenient': 1899, 'favorite': 3146, 'late': 4485, 'chalupa': 1400, 'taco': 9086, 'bell': 999, 'salad': 8248, 'enjoyed': 2821, 'said': 8246, 'nwhile': 6797, 'obsessed': 6849, 'memorable': 4902, 'diner': 2391, 'flawlessly': 3242, 'ordering': 6973, 'partnered': 7100, '105': 26, 'levelup': 4561, 'seamless': 8359, 'tapingo': 9111, 'eat24': 2626, 'nwant': 6781, 'eating': 2628, 'selecting': 8404, 'nquestion': 6412, 'nrelentlessly': 6453, 'ngot': 5890, 'bayesian': 976, 'knack': 4424, 'strings': 8911, 'attached': 831, 'recharge': 7837, 'nbetter': 5367, 'flex': 3245, 'commuter': 1655, 'kitchens': 4422, 'stocked': 8865, 'restricted': 8100, 'rays': 7799, 'rooftop': 8191, 'comfy': 1621, 'couch': 1971, 'coworkers': 1995, 'ngrubhub': 5897, 'talentacquisition': 9100, 'responded': 8080, 'ingest': 4066, 'offline': 6890, 'underneath': 9496, 'hbase': 3685, 'nyour': 6826, 'excites': 2970, 'nresearch': 6474, 'elasticities': 2705, 'elasticity': 2706, 'sparkexperience': 8695, 'shell': 8486, 'contracttorchlight': 1884, 'surveys': 9041, 'nprogram': 6369, 'approval': 706, 'adhere': 411, 'formatting': 3310, 'question': 7745, 'proofread': 7607, 'grammar': 3569, 'spelling': 8726, 'tabulation': 9082, 'hygiene': 3858, 'granular': 3575, 'nanticipate': 5265, 'merging': 4922, 'torchlight': 9306, 'ntorchlight': 6678, 'premier': 7438, 'placing': 7293, 'ranked': 7782, 'magazine': 4729, 'voted': 9769, '2017': 111, 'torchlighthire': 9307, 'internshipinnovative': 4211, 'ninternships': 6007, 'exposed': 3057, 'inner': 4088, 'hosted': 3802, 'saas': 8235, 'ninnovative': 5985, 'breed': 1147, 'standing': 8806, 'reputation': 8024, 'cleanse': 1514, 'centralized': 1374, 'standalone': 8799, 'conjunction': 1787, 'nfinscan': 5829, 'laundering': 4494, 'terrorist': 9198, 'financing': 3207, 'safer': 8241, 'cultural': 2072, 'bunch': 1203, 'friends': 3369, 'abroad': 289, 'hang': 3654, 'internshipthe': 4225, 'chartered': 1426, 'builds': 1196, 'nthrough': 6669, 'tremendous': 9396, 'scratched': 8342, 'revolutionize': 8139, 'discovered': 2439, 'solved': 8658, 'thinks': 9236, 'naturally': 5326, 'grad': 3556, 'viewing': 9715, 'videos': 9709, 'photo': 7251, 'album': 538, 'facebook': 3094, 'ntypical': 6704, 'nretention': 6490, 'attrition': 852, 'lifetime': 4593, 'nnurture': 6187, 'ncampaign': 5403, 'prioritization': 7501, 'nrecommender': 6434, 'ncross': 5550, 'nfull': 5861, 'glms': 3519, 'cart': 1318, 'chaid': 1392, 'survival': 9042, 'internshipjob': 4214, 'transwestern': 9379, 'comprise': 1718, 'privately': 7509, 'held': 3714, 'diversified': 2499, 'underlies': 9494, 'independence': 3997, 'extraordinary': 3080, 'genuinely': 3482, 'baltimore': 950, 'ncollects': 5466, 'ntracks': 6683, 'leases': 4531, 'tenant': 9177, 'expands': 3003, 'npromotes': 6377, 'brokers': 1168, 'coursework': 1987, 'indesign': 4000, 'costar': 1969, 'nsolid': 6563, 'workload': 9907, 'npaid': 6271, 'calendar': 1247, 'budgeted': 1187, 'nwashington': 6782, 'ntranswestern': 6692, 'corva': 1963, 'hottest': 3806, 'ups': 9577, 'houston': 3821, 'reason': 7824, 'rely': 7978, 'minute': 4999, 'drilling': 2573, 'ensures': 2834, 'qcs': 7711, 'visuals': 9749, 'nenter': 5710, 'qaqc': 7708, 'prioritized': 7503, 'completed': 1690, 'nfollow': 5841, 'protocols': 7638, 'staged': 8787, 'string': 8909, 'bha': 1023, 'configurations': 1772, 'bits': 1058, 'mud': 5118, 'motors': 5095, 'casing': 1325, 'nights': 5958, 'weekends': 9831, 'rotation': 8201, 'nthorough': 6664, 'navigating': 5336, 'nfour': 5854, 'nrig': 6494, 'rto': 8222, 'temporarybilling': 9173, 'nneeds': 6165, 'reconciliation': 7856, 'nwill': 6800, 'temp': 9169, 'nbabylist': 5347, 'uniquely': 9520, 'babylist': 929, 'nspot': 6581, 'pr': 7406, 'baby': 928, 'lens': 4549, 'wizard': 9887, 'adept': 410, 'overwhelmed': 7038, 'mockups': 5032, 'registry': 7920, 'expecting': 3008, 'parents': 7081, '300': 144, 'gifts': 3503, 'purchased': 7683, 'registries': 7919, 'stuff': 8935, 'donewe': 2542, 'liveswe': 4642, 'appreciate': 694, 'themwe': 9218, 'advancementwe': 447, 'technological': 9151, 'businesswe': 1213, 'doers': 2529, 'thinkerswe': 9233, 'initiativewe': 4082, 'paycompetitive': 7135, 'hra': 3827, 'dental401': 2258, 'insuranceflexible': 4144, 'parental': 7080, 'policyeasy': 7339, 'bart': 961, 'assistancewe': 795, 'wfh': 9857, 'wednesday': 9826, 'transferable': 9353, 'internshipwho': 4229, 'criteo': 2035, 'shoppers': 8502, 'petabytes': 7226, 'tb': 9122, '10ms': 29, 'buzzwords': 1225, 'excite': 2967, 'prediction': 7423, 'ctr': 2066, 'cr': 1999, 'retailers': 8111, 'whilst': 9861, 'likely': 4600, 'instantly': 4127, 'dislike': 2459, 'passing': 7112, 'fixer': 3234, 'fuels': 3381, 'felt': 3175, 'criteos': 2036, 'heard': 3706, 'belonging': 1001, 'treated': 9389, 'dignity': 2385, 'ncriteo': 5548, 'collects': 1595, 'consequently': 1803, 'clicking': 1530, 'button': 1219, 'consent': 1800, 'xpo': 10054, 'invest': 4270, 'methodical': 4938, 'evaluating': 2928, 'alternate': 570, 'producers': 7543, 'incentive': 3961, 'artifacts': 756, 'rollout': 8189, 'ngeneralize': 5877, 'simplify': 8547, 'mis': 5001, 'graduates': 3565, 'moderately': 5046, 'geo': 3484, 'spatial': 8699, 'plotly': 7320, 'matplotlib': 4837, 'mixed': 5017, 'principle': 7493, 'fluently': 3264, 'inefficient': 4025, 'error': 2886, 'prone': 7603, 'navailability': 5331, 'nit': 6020, 'x99d': 9977, 'specialization': 8708, 'coursera': 1985, 'udacity': 9461, 'camp': 1261, 'ed1': 2654, 'nxpo': 6819, 'disney': 2460, 'pepsi': 7161, 'xc3': 10049, 'xa9al': 10036, 'toyota': 9319, 'getting': 3496, 'started': 8817, 'construed': 1832, 'classified': 1506, 'platts': 7304, 'commodity': 1638, 'useful': 9593, 'placed': 7289, 'steep': 8846, 'competing': 1677, 'complementary': 1688, 'lng': 4647, 'liquids': 4625, 'petrochemicals': 7229, 'continued': 1865, 'demonstrating': 2254, 'expanding': 3002, 'crude': 2049, 'says': 8288, 'occur': 6863, 'enthusiastic': 2844, 'covering': 1994, 'spotting': 8751, 'nleverages': 6055, 'outgoing': 7009, 'nconducts': 5504, 'return': 8125, 'engages': 2805, 'nresponds': 6481, 'ntrains': 6686, 'mentors': 4912, 'nba': 5346, 'bs': 1178, 'npersistent': 6299, 'pipeline': 7278, 'grid': 3599, 'ndisplays': 5620, 'rounded': 8203, 'listening': 4630, 'personalities': 7204, 'adapting': 394, 'numeracy': 6717, 'conceptualize': 1740, 'proportional': 7614, 'algebra': 544, 'adhering': 414, 'adjust': 418, 'prices': 7484, 'commodities': 1637, 'metals': 4934, 'agriculture': 518, 'shipping': 8496, 'ns': 6503, 'spgi': 8731, 'spglobal': 8732, 'avvo': 907, 'profiles': 7566, 'lawyers': 4502, 'digging': 2382, 'teammate': 9133, 'likes': 4601, 'mentorship': 4913, 'envelope': 2853, 'approximations': 711, 'dives': 2501, 'uncovering': 9488, 'conveying': 1913, 'maximum': 4849, 'kpi': 4443, 'nsuccess': 6619, 'starts': 8821, 'breathe': 1146, 'sustain': 9045, 'ib': 3863, 'applauds': 677, 'embracing': 2741, 'intensely': 4169, 'jeans': 4341, 'sneakers': 8621, 'stability': 8778, 'ninternet': 6004, 'wholly': 9863, 'announcement': 643, 'silicon': 8536, 'valley': 9637, 'clara': 1496, 'mateo': 4825, 'counties': 1978, 'banks': 954, 'average': 900, '260': 132, 'nharvest': 5909, 'founded': 3330, '1974': 81, 'despite': 2311, 'immense': 3913, 'nsilicon': 6547, 'partly': 7098, 'living': 4643, 'malnutrition': 4753, 'pervasive': 7223, 'ndistributes': 5624, 'nutritious': 6756, '309': 146, 'nonprofit': 6208, '985': 271, 'feed': 3166, 'hungry': 3852, 'nadvocates': 5228, 'anti': 656, 'nutrition': 6753, 'nresources': 6479, 'shfb': 8487, 'nsecond': 6515, 'nreach': 6424, 'ndifferent': 5612, 'willing': 9872, 'roll': 8186, 'nup': 6738, 'sleeves': 8592, 'selected': 8403, 'mapping': 4784, 'ninitiatives': 5982, 'npublic': 6390, 'preferredexperience': 7434, 'preparing': 7449, 'supervisionexcellent': 9009, 'orientedability': 6993, 'orally': 6967, 'neagerness': 5657, '750': 229, 'curtner': 2090, 'jose': 4361, '95125': 264, 'occasional': 6858, 'nevenings': 5749, 'commensurate': 1627, 'fto': 3377, '200': 93, 'nholidays': 5930, 'savings': 8284, 'neoe': 5720, 'represented': 8019, 'nreporting': 6460, 'ninterviews': 6011, 'october': 6868, '2018': 112, 'march': 4792, 'june': 4386, 'august': 867, 'september': 8438, '17th': 62, 'interests': 4185, 'arrow': 747, 'electronics': 2714, 'narrow': 5288, 'equipment': 2874, 'manufacturers': 4779, 'resellers': 8046, '45': 177, 'distribution': 2492, 'serving': 8453, '113': 33, 'connecting': 1790, 'suppliers': 9018, 'nhands': 5906, 'nchance': 5431, 'nsmall': 6555, 'nstretch': 6608, 'vp': 9771, 'directors': 2408, 'nfunctional': 5865, 'graduation': 3567, 'earlier': 2611, 'december': 2187, 'navailable': 5332, 'gpa': 3553, 'multitask': 5131, 'ndenver': 5587, 'panorama': 7065, 'ntime': 6670, 'nnon': 6176, 'catalog': 1333, 'affected': 479, 'pursue': 7690, 'x9clive': 10001, 'images': 3904, 'nr': 6414, 'tensorflow': 9183, 'nspecific': 6573, 'tinton': 9271, 'falls': 3123, 'jump': 4383, 'suited': 8986, 'characterize': 1416, 'classifier': 1507, 'technics': 9145, 'ndocument': 5632, 'pwerpoint': 7700, 'summarize': 8991, 'nrecognized': 6431, 'gartner': 3436, 'magic': 4731, 'quadrant': 7716, 'backup': 942, 'recovery': 7865, 'definitive': 2222, 'seventh': 8465, 'straight': 8881, 'commvault': 1656, 'furthest': 3411, 'ncommvault': 5483, 'array': 744, 'cisco': 1479, 'sap': 8269, 'nutanix': 6749, 'pure': 7685, 'hitachi': 3755, 'netapp': 5734, 'americas': 593, 'emea': 2742, 'apac': 667, 'fiat': 3180, 'chrysler': 1466, 'automobiles': 890, 'fca': 3150, 'cio': 1473, 'pivotal': 7283, 'pipe': 7277, 'lining': 4618, 'hired': 3743, 'ict': 3872, 'constraints': 1828, 'stochastic': 8862, 'neighbor': 5686, 'embedding': 2735, 'sne': 8620, 'pca': 7143, 'mechanics': 4881, 'fairness': 3120, 'noperationalization': 6216, 'mlops': 5023, 'challenger': 1397, 'specialist': 8706, 'coe': 1566, 'nthree': 6666, 'launching': 4493, 'premises': 7440, 'kubernetes': 4449, 'elastic': 2704, 'container': 1849, 'db2': 2164, 'greenplum': 3594, 'nconfident': 5507, 'starters': 8819, 'moderation': 5047, 'domains': 2537, 'rstudio': 8218, 'knime': 4427, 'rapidminer': 7787, 'dataiku': 2137, 'h2o': 3639, 'em': 2730, 'azureml': 924, 'watson': 9812, 'modeler': 5037, 'convolutional': 1918, 'cnn': 1555, 'recurrent': 7872, 'rnn': 8170, 'nspecialization': 6572, 'devops': 2341, 'qlikview': 7713, 'objects': 6843, 'nshould': 6541, 'exhibit': 2990, 'reflects': 7902, 'promotes': 7598, 'rewarding': 8144, 'norms': 6236, 'entity': 2848, 'sit': 8560, 'augment': 864, 'mix': 5016, 'equivalents': 2882, 'ncore': 5534, 'seamlessly': 8360, 'digestible': 2380, 'representative': 8017, 'described': 2289, 'nsit': 6548, 'finger': 3213, 'arms': 739, 'ntalk': 6639, 'nwalk': 6780, 'noccasionally': 6190, 'climb': 1535, 'stoop': 8867, 'kneel': 4425, 'crouch': 2047, 'nlift': 6064, 'naverage': 5334, 'noisy': 6199, 'nspending': 6577, 'traveling': 9383, 'air': 530, 'land': 4467, 'modify': 5054, 'neeoc': 5676, 'complying': 1706, 'discrimination': 2450, 'alienage': 550, 'nneed': 6164, '317': 152, '613': 211, '6890': 220, 'finishline': 3220, 'soon': 8666, 'reasonably': 7827, 'armour': 738, 'chosen': 1462, 'athletes': 819, 'blistering': 1068, 'heat': 3709, 'bitter': 1059, 'cold': 1577, 'sport': 8746, 'nthat': 6657, 'baseline': 964, 'protect': 7631, 'commonplace': 1641, 'hungriest': 3851, 'pledge': 7316, 'xa6protect': 10033, 'athlete': 818, 'mapmyfitness': 4783, 'endomondo': 2790, 'myfitnesspal': 5144, 'teamed': 9132, 'aimed': 527, 'transforming': 9360, 'unmatched': 9542, 'nms': 6152, 'utilized': 9610, 'nresourceful': 6478, 'npassion': 6282, 'mutual': 5141, 'lactation': 4462, 'believes': 998, 'inclusion': 3973, 'pool': 7347, 'req': 8026, 'clickstream': 1531, 'udf': 9462, 'nproactive': 6353, 'learner': 4522, 'capitalizes': 1285, 'reacting': 7808, 'info': 4044, '2dreaminc': 139, 'nnew': 6168, 'newyork': 5766, 'presbyterian': 7450, 'weill': 9835, 'cornell': 1940, 'ao1': 665, 'hospital': 3799, 'tuition': 9434, 'n__________________': 5179, 'hospitals': 3801, 'n2018': 5162, 'choice': 1458, 'glassdoor': 3514, 'ceos': 1378, 'x9camerica': 9987, 'employers': 2762, 'forbes': 3284, 'becker': 984, 'rated': 7791, 'nyp': 6827, 'nnewyork': 6170, 'nprojectmanager': 6373, 'paying': 7136, 'nations': 5314, 'austin': 868, 'ceo': 1377, 'nselect': 6521, 'fingertips': 3216, 'configure': 1773, 'nonce': 6201, 'periods': 7182, 'ltv': 4711, 'ratios': 7795, 'nhaving': 5912, 'aspect': 768, 'instance': 4126, 'tactic': 9087, 'caused': 1349, 'adjusted': 419, 'nstrategy': 6605, 'tactics': 9090, 'identified': 3883, 'nby': 5394, 'traversing': 9387, 'nbuilt': 5391, 'levers': 4566, 'nideally': 5950, 'capitalist': 1283, 'ntableau': 6635, 'munging': 5137, 'meaning': 4866, 'ninterpersonal': 6008, 'nhonest': 5932, 'upfront': 9568, 'ncompetitive': 5489, 'atmosphere': 825, 'continues': 1866, 'dealer': 2176, 'salesperson': 8254, 'exploring': 3053, 'simultaneously': 8552, 'tell': 9167, 'ears': 2618, 'nconfidence': 5506, 'hustle': 3854, 'crucial': 2048, 'step': 8849, 'farming': 3136, 'farmer': 3134, 'fbn': 3149, 'proudly': 7644, 'farmers': 3135, 'xa0': 10024, 'unbiased': 9480, 'farms': 3138, 'anonymously': 650, 'securely': 8381, 'democratize': 2247, 'playing': 7309, 'sustainably': 9048, '2050': 118, 'farmland': 3137, 'decreasing': 2199, 'odds': 6871, 'stacked': 8781, 'squarely': 8763, 'shoulders': 8509, 'increasingly': 3988, 'harder': 3664, 'nfarmers': 5817, 'forced': 3286, 'agronomic': 519, 'gathered': 3442, 'effect': 2683, 'unprecedented': 9548, 'agricultural': 517, 'nexplores': 5796, 'nfurthers': 5867, 'affects': 481, 'nuncovers': 6724, 'yield': 10077, 'soil': 8642, 'chemistry': 1441, 'plant': 7301, 'physiology': 7258, 'entomology': 2849, 'agronomy': 520, 'nfarmer': 5816, 'contained': 1848, 'derivation': 2284, 'nframe': 5855, 'comma': 1623, 'delimited': 2232, 'json': 4374, 'ntransform': 6687, 'informative': 4054, 'commercially': 1631, 'nderive': 5591, 'object': 6838, 'rshiny': 8216, 'd3': 2113, 'js': 4372, 'linking': 4622, 'eligibility': 2722, 'clearances': 1520, 'capgemini': 1281, 'footprint': 3281, 'xa6rapidly': 10034, 'geospatial': 3491, 'sentiment': 8432, 'harnessed': 3672, 'influx': 4043, 'demanding': 2244, 'realm': 7823, 'aerospace': 475, 'publicly': 7665, 'eda': 2655, 'tier': 9255, 'variance': 9649, 'frequentist': 3359, 'pearl': 7149, 'caffe': 1238, 'kxen': 4450, 'ect': 2652, 'mongodb': 5067, 'ec2': 2633, 'hana': 3647, 'svms': 9052, 'kmeans': 4423, 'nmf': 6125, 'rnns': 8171, 'cnns': 1556, 'scrapping': 8339, 'napplications': 5272, 'consultants': 1836, 'realization': 7819, 'release': 7955, 'methodological': 4941, 'acquire': 359, 'versatility': 9687, 'nqualification': 6399, 'ncapgemini': 5410, 'encouraging': 2784, 'sensory': 8430, 'referenced': 7893, 'traditionally': 9332, 'involve': 4291, 'pose': 7358, 'undue': 9508, 'hardship': 3666, 'nclick': 5449, 'rights': 8158, 'ambitions': 582, 'multicultural': 5122, 'eur': 2918, '14': 47, 'usd': 9589, 'nvisit': 6775, 'count': 1977, 'internshipabout': 4201, 'ngap': 5870, 'gap': 3431, 'room': 8192, 'pushed': 7695, 'incredible': 3989, 'giants': 3500, 'happy': 3660, 'tournaments': 9316, 'bowling': 1118, 'volunteering': 9766, 'harnessing': 3674, 'vast': 9661, 'pools': 7348, 'nmeet': 6119, 'dollar': 2534, 'graduate': 3563, 'left': 4538, 'combinations': 1609, 'abstractly': 298, 'meticulous': 4946, '62': 212, '844': 244, '908': 258, 'yearsummary': 10069, 'oregon': 6978, 'lottery': 4690, 'app': 672, 'naccess': 5190, 'ncompile': 5490, 'tabulate': 9081, 'nprioritize': 6351, 'assignments': 790, 'ncontinuous': 5522, 'nfive': 5833, 'casino': 1326, 'accruals': 347, 'nsick': 6542, 'ntelework': 6649, 'schedules': 8311, 'ncomprehensive': 5497, 'prescription': 7455, 'premiums': 7442, 'accidental': 323, 'death': 2181, 'tax': 9120, 'pers': 7197, 'pension': 7158, 'noregon': 6227, '457': 179, 'deferred': 2214, 'oregonlottery': 6979, 'vacancies': 9621, 'withdraw': 9885, 'announcements': 644, 'dictate': 2359, 'nors': 6237, '461': 180, 'convicted': 1914, 'felony': 3174, 'gambling': 3424, 'offense': 6878, 'fingerprinting': 3214, 'credit': 2024, 'checking': 1438, 'character': 1413, 'prohibited': 7585, 'naccording': 5191, '503': 189, '540': 195, '1315': 44, 'lotterycareers': 4691, 'read': 7810, 'mappings': 4785, 'repository': 8013, 'dictionary': 2362, 'facets': 3096, 'nasco': 5294, 'internshipoverview': 4217, 'institutions': 4135, 'nimport': 5963, 'nquery': 6410, 'ncoursework': 5538, 'period': 7178, '31': 148, 'verifications': 9680, 'ofac': 6874, 'vb': 9663, 'nback': 5350, 'measurevarious': 4878, 'troubleshoots': 9416, 'softwareproblems': 8641, 'reportsas': 8011, 'neurosurgery': 5746, 'bargaining': 958, 'union': 9517, 'moses': 5086, '3316': 156, 'rochambeau': 8179, 'bronx': 1169, '98463': 270, 'nmontefiore': 6147, 'montefiore': 5074, 'classifications': 1505, 'actual': 380, 'presumed': 7474, 'predisposition': 7426, 'carrier': 1312, 'instrumental': 4140, 'wwe': 9936, 'behavioral': 993, 'subscriber': 8955, 'operationalize': 6940, 'comprising': 1721, 'heterogeneous': 3726, 'spotfire': 8749, 'nable': 5187, 'highlighting': 3737, 'signals': 8529, 'n_': 5178, 'internshiprally': 4219, 'diet': 2367, 'choosing': 1461, 'doctor': 2519, 'healthier': 3703, 'president': 7468, 'coo': 1919, 'david': 2157, 'ko': 4440, 'innovates': 4090, 'okay': 6899, 'burn': 1208, 'follows': 3276, 'ninvestigate': 6015, 'functioning': 3393, 'npursuing': 6395, 'ngeneral': 5876, 'schemas': 8314, 'nadaptable': 5210, 'speed': 8725, 'rally': 7773, 'lunches': 4716, 'nrally': 6419, 'knows': 4439, 'enrich': 2826, 'inspiration': 4117, 'administer': 422, 'appearance': 675, 'matriculation': 4838, 'nindividuals': 5975, 'notify': 6252, 'rallyhealth': 7774, 'recorded': 7861, 'imaged': 3902, 'servicing': 8452, 'lien': 4585, '2016': 110, 'datatree': 2151, 'concentrated': 1731, 'examining': 2951, 'superiority': 9003, 'subscribe': 8954, 'repairs': 7999, 'nrepresent': 6462, 'boarding': 1086, 'rules': 8228, 'x9cmaintenance': 10002, 'cis': 1478, 'behalf': 991, 'invests': 4285, 'empowers': 2770, 'dedication': 2202, 'firstam': 3227, 'administers': 424, 'essc': 2898, 'institute': 4130, 'pavir': 7131, 'pi': 7259, 'eugene': 2917, 'butcher': 1216, 'butcherlab': 1217, 'stanford': 8810, 'edu': 2667, 'bioinformatics': 1045, 'cell': 1363, 'transcriptomics': 9350, 'investigators': 4280, 'vascular': 9660, 'biology': 1047, 'immunology': 3921, 'tumor': 9435, 'translational': 9371, 'transcriptomic': 9349, 'biological': 1046, 'hrs': 3831, 'wk': 9888, 'nvision': 6774, 'ndental': 5586, 'nlong': 6081, 'ncommuter': 5482, 'npavir': 6286, 'foundation': 3327, 'affiliated': 483, 'vapahcs': 9646, 'approved': 709, 'appointment': 693, 'commence': 1626, 'jsl': 4373, 'potentially': 7387, 'inadequate': 3959, 'edits': 2665, 'suggest': 8978, 'nlicense': 6059, 'nsubstantial': 6618, 'jmp': 4349, 'nenvironmental': 5717, 'lbs': 4509, 'bending': 1008, 'repetitive': 8003, 'wet': 9852, 'animals': 637, 'blood': 1075, 'borne': 1110, 'pathogens': 7121, 'toxic': 9318, 'caustic': 1351, 'reagents': 7815, 'radiation': 7763, 'sponsors': 8743, 'administering': 423, 'combat': 1607, 'disease': 2457, 'pleased': 7315, 'women': 9890, 'posted': 7372, 'nike': 5959, 'sustaining': 9050, 'transition': 9364, 'athletic': 820, 'smallest': 8600, 'picture': 7261, 'macro': 4725, 'nsrl': 6585, 'teamsprovide': 9137, 'managementlead': 4760, 'adoptioncreate': 436, 'adoptiondocumentation': 437, 'stakeholderssupport': 8793, 'experiencedemonstrated': 3016, 'improvementsa': 3953, 'individually': 4014, 'inter': 4174, 'verbalability': 9677, 'solutionsa': 8654, 'improvementa': 3951, 'seeker': 8387, 'efficienciesable': 2691, 'parts': 7106, 'objectivesprovide': 6842, 'detailsuperior': 2316, 'simultaneouslyexperience': 8553, 'plusability': 7324, 'mclean': 4857, '19050': 74, 'chairman': 1394, 'richard': 8150, 'fairbank': 3119, 'ingenuity': 4065, 'simplicity': 8544, 'humanity': 3843, 'succeeding': 8971, 'nguided': 5901, 'obsess': 6848, 'thing': 9228, 'quest': 7744, 'launched': 4492, 'disrupted': 2475, 'personalizing': 7208, '1988': 82, 'skyrocketed': 8585, 'outsized': 7025, 'reusable': 8129, 'modules': 5058, '2nd': 140, 'extensible': 3069, 'experiencesbuilding': 3021, 'dependenciesbuilding': 2266, 'abstracting': 295, 'encoding': 2777, 'formsbuilding': 3313, 'representations': 8016, 'effectivelyexploring': 2686, 'richer': 8151, 'simplerleading': 8542, 'wave': 9813, 'inspirational': 4118, 'examplessharing': 2954, 'demos': 2256, 'onlookers': 6918, 'ask': 764, 'afraid': 491, 'blurt': 1082, 'crazy': 2007, 'idea': 3875, 'probably': 7519, 'credentials': 2021, 'impressive': 3946, 'dropped': 2584, 'taught': 9119, 'wrangler': 9925, 'render': 7992, 'experimenter': 3029, 'fail': 3115, 'shipped': 8495, 'flopped': 3254, 'fearless': 3155, 'frighten': 3370, 'tiny': 9272, 'crack': 2000, 'broken': 1166, 'nut': 6748, 'ntwenty': 6701, 'smartest': 8603, 'phdat': 7243, 'analysisat': 610, 'learningat': 4525, 'x9cstem': 10015, 'textual': 9210, 'dataat': 2129, 'librariesat': 4576, 'ncapital': 5411, 'sponsoring': 8742, 'contractoverview': 1881, 'nnorthwest': 6179, 'permanente': 7188, 'physician': 7254, 'specialty': 8714, '1500': 53, 'physicians': 7255, 'surgeons': 9031, 'clinicians': 1540, 'caring': 1308, 'southwest': 8684, 'kaiser': 4398, 'eminent': 2748, 'iii': 3894, 'marts': 4809, 'nmajor': 6097, 'kpit': 4446, 'ndefines': 5575, 'meta': 4931, 'conventions': 1902, 'ndocuments': 5634, 'nmaintains': 6095, 'npopulates': 6317, 'deploys': 2279, 'conflicting': 1779, 'convergence': 1903, 'timly': 9270, 'ninformation': 5978, 'candid': 1269, 'workplans': 9910, 'avoidance': 905, 'northwest': 6240, 'nauvera': 5330, 'intricately': 4253, 'theoretical': 9220, 'ncloud': 5453, 'sw': 9054, 'ndistributed': 5623, 'ndatabase': 5565, 'postgress': 7378, 'titan': 9275, 'casandra': 1321, 'rails': 7767, 'angular': 635, 'storm': 8877, 'contributed': 1888, '00011236': 2, 'nsummary': 6622, 'acquires': 361, 'ngathers': 5873, 'nutilizes': 6751, 'nreviews': 6493, 'nextracts': 5803, 'ndesigns': 5596, 'implements': 3934, 'nestablishes': 5732, 'developments': 2335, 'validations': 9635, 'ingestion': 4069, 'nassumes': 5307, 'compile': 1683, 'structuring': 8925, 'sitecatalyst': 8562, 'perl': 7186, 'rudy': 8226, 'jd': 4339, 'edwards': 2676, 'ndvanced': 5653, 'budgetary': 1186, 'whataburger': 9858, 'delegate': 2228, 'nexpected': 5785, 'locally': 4653, 'worksites': 9913, 'releasing': 7958, 'residence': 8054, 'concord': 1751, 'plaza': 7311, 'dr': 2557, 'antonio': 662, '78216': 234, '6903': 221, 'ap': 666, 'reshape': 8053, 'boost': 1102, '51': 191, 'nacquiring': 5200, 'configuring': 1774, 'nrefining': 6443, 'sustainability': 9046, 'star': 8813, 'remains': 7982, 'reliance': 7966, 'samsung': 8262, '360': 162, 'nstrategic': 6604, 'paradigm': 7070, 'innate': 4087, 'uncharted': 9482, 'combines': 1614, 'backbone': 934, 'activate': 371, 'ncommon': 5475, 'operationalized': 6941, 'explicit': 3045, 'ncombine': 5468, 'addressed': 406, 'impala': 3926, 'logit': 4669, 'multinomial': 5127, 'component': 1707, 'panel': 7064, 'times': 9268, 'priori': 7499, 'schema': 8313, 'incremental': 3991, 'nnecessary': 6163, 'convince': 1916, 'adversarial': 452, 'vps': 9772, 'approve': 708, 'philosophy': 7248, 'subordinates': 8953, 'negotiate': 5685, 'medium': 4891, 'operate': 6934, 'keyboard': 4411, 'terminal': 9191, 'prolonged': 7592, 'considerable': 1808, 'acuity': 384, 'numeric': 6719, 'normally': 6235, 'cyclical': 2112, 'sensitive': 8426, 'machines': 4724, 'aids': 524, 'printers': 7496, 'copiers': 1931, 'faxes': 3147, 'varies': 9655, 'confidentiality': 1769, 'privacy': 7507, 'defaults': 2209, 'page': 7057, 'european': 2922, 'ngetting': 5883, 'invaluable': 4263, 'aspirations': 771, 'begin': 987, 'canon': 1273, '9am': 273, '5pm': 206, 'participating': 7093, 'ds': 2588, 'buddy': 1184, 'sourcessupport': 8679, 'initiativesassist': 4080, 'recommendationstake': 7848, 'scientistleverage': 8323, 'problemsunderstand': 7525, 'linesquantitative': 4614, 'imaging': 3908, 'latin': 4489, '36': 161, 'parent': 7079, 'caj': 1239, 'ranks': 7784, 'patents': 7118, 'admired': 429, 'satisfaction': 8275, 'percent': 7165, 'distributes': 2490, 'kyosei': 4453, '2014': 108, 'secured': 8380, 'gold': 3533, 'apprised': 698, 'sign': 8527, 'rss': 8217, 'visiting': 9737, 'usa': 9584, 'twitter': 9449, 'canonusa': 1274, 'cusa': 2092, 'patent': 7117, 'counts': 1981, 'trademark': 9328, 'names': 5246, 'marks': 4807, 'trademarks': 9329, 'respective': 8076, 'portal': 7352, 'postings': 7381, 'frontier': 3372, 'programmatic': 7574, 'livereach': 4639, 'disrupt': 2474, 'collected': 1589, 'lrm': 4704, 'sunnyvale': 8998, 'nfield': 5822, 'nfunctions': 5866, 'log': 4661, 'splunk': 8737, 'elasticsearch': 2707, 'logstash': 4671, 'kibana': 4413, 'julia': 4382, 'usable': 9586, 'livereachmedia': 4640, 'temporaryhow': 9175, 'ross': 8198, 'relative': 7952, 'qualtrics': 7725, 'strata': 8883, 'designation': 2298, 'napplication': 5271, 'boards': 1087, 'ended': 2787, 'zeus': 10090, 'flawless': 3241, 'november': 6259, '2015': 109, 'shaking': 8470, '18b': 66, 'leasing': 4532, 'unfurnished': 9512, 'homes': 3784, 'converting': 1909, 'expertly': 3035, 'appointed': 692, 'bay': 974, 'los': 4686, 'angeles': 632, 'seattle': 8368, 'realizing': 7821, 'raised': 7769, '24m': 129, 'initialized': 4073, 'ventures': 9674, 'bowery': 1116, 'floodgate': 3252, 'exits': 2997, 'rentals': 7994, 'acquisitions': 364, 'npragmatic': 6332, 'bonus': 1097, 'n100': 5151, 'dependents': 2269, 'nparking': 6273, 'expense': 3010, 'n20': 5161, 'n16': 5156, 'ncatered': 5421, 'nmake': 6098, 'analyse': 606, 'collections': 1592, 'indictors': 4011, 'analysing': 608, 'advocate': 466, 'incites': 3966, 'internshipwhat': 4228, 'ingesting': 4068, 'nb': 5345, 'uild': 9465, 'ntechnically': 6646, 'savvy': 8285, 'snowflake': 8623, 'airflow': 532, 'ncommunicator': 5480, '2013': 107, 'loyal': 4702, 'freakishly': 3353, 'nviagogo': 6768, 'shows': 8515, 'pro': 7512, 'x81table': 9947, 'carried': 1311, 'viagogo': 9703, 'geographies': 3488, 'currencies': 2085, 'x81nd': 9944, 'piece': 7263, 'tie': 9253, 'underpinnings': 9498, 'ntypes': 6703, 'noptimizing': 6221, 'ef': 2682, 'x81ciency': 9941, 'ppc': 7401, 'inventory': 4267, 'won': 9891, 'x81eld': 9943, 'parallel': 7072, 'teach': 9129, 'pretty': 7475, 'x81ndings': 9945, 'recognizing': 7844, 'black': 1061, 'logistical': 4667, 'fabric': 3092, 'ride': 8153, 'sandwich': 8266, 'represents': 8020, 'earn': 2614, 'strengthen': 8900, 'economies': 2647, 'streets': 8898, 'trucking': 9418, 'haul': 3680, 'embed': 2733, 'rider': 8154, 'deriving': 2287, 'intensive': 4170, 'ocr': 6866, 'cohorts': 1575, 'anticipated': 659, 'demonstrable': 2250, 'guided': 3629, 'nsuperb': 6624, 'internshipdata': 4208, 'nbloom': 5374, 'oxide': 7046, 'newark': 5753, 'comments': 1628, 'comparable': 1662, 'bloom': 1076, 'affordable': 489, 'resilient': 8059, 'x98always': 9973, 'electric': 2710, 'bloomenergy': 1077, 'spotify': 8750, 'swells': 9057, '96m': 268, 'subscribers': 8956, 'subscription': 8957, 'joining': 4357, 'translates': 9368, 'marketers': 4798, 'routine': 8207, 'migration': 4969, 'ab': 277, 'minitab': 4994, 'eb': 2629, 'containing': 1851, 'redesigning': 7877, 'ncollaborating': 5461, 'energizing': 2795, 'remarkable': 7983, 'healthequity': 3702, 'aims': 529, '13': 42, 'classroom': 1509, 'learnings': 4527, 'directs': 2410, 'preventing': 7478, 'enrollments': 2830, 'surrounding': 9036, 'kri': 4447, 'cei': 1359, 'risky': 8165, 'interacting': 4176, 'abnormal': 285, 'assimilate': 791, 'consequential': 1802, 'payment': 7137, 'ambiguous': 580, 'nhealthequity': 5917, '2030': 117, 'hsas': 3833, 'spread': 8753, 'popular': 7349, 'firmly': 3225, 'thrill': 9245, 'purple': 7686, 'fiercely': 3185, 'ambition': 581, 'personality': 7205, 'promoter': 7597, 'ebsco': 2631, 'eis': 2702, 'comprised': 1719, 'books': 1101, 'maximize': 4847, 'ipswich': 4302, 'ma': 4720, 'employs': 2765, 'birmingham': 1053, 'al': 535, 'corporations': 1948, 'influences': 4039, 'firms': 3226, 'interviews': 4248, 'forecast': 3289, 'nebsco': 5662, 'strictly': 8908, 'tolerate': 9286, 'amended': 586, 'amendments': 587, 'nview': 6772, 'weka': 9836, 'significance': 8532, 'measurements': 4876, 'alexa': 542, 'everyday': 2939, 'spot': 8748, 'echo': 2636, 'dot': 2547, 'tap': 9109, 'nlu': 6086, 'hardest': 3665, 'delight': 2230, 'conversational': 1905, 'exceeds': 2957, 'tagging': 9092, 'syntactic': 9067, 'disambiguation': 2419, 'topic': 9302, 'contextual': 1858, 'namazon': 5244, 'contract1': 1872, 'ecd': 2634, 'trial': 9400, 'medidata': 4888, 'rave': 7797, 'clinicaltrials': 1539, 'ndevelopment': 5609, 'activation': 372, 'ndetect': 5602, 'ecdi': 2635, 'pytorch': 7706, 'keras': 4407, 'probabilistic': 7515, 'library': 4577, 'pymc3': 7701, 'figaro': 3186, 'yrs': 10084, 'pharmaceutical': 7235, 'hourinternshipthe': 3813, 'coordinator': 1930, 'transit': 9363, 'tdm': 9127, 'updating': 9567, 'surveying': 9040, 'efficacy': 2689, 'farebox': 3132, 'inaccuracies': 3957, 'rejection': 7942, 'reschedule': 8040, 'forecasts': 3291, 'endeavors': 2786, 'confer': 1763, 'originating': 6997, 'entering': 2838, 'receiving': 7834, 'urban': 9580, 'levelstrong': 4560, 'hourly': 3814, 'viacom': 9702, 'touches': 9311, 'tv': 9445, 'total': 9308, 'translation': 9370, 'deeper': 2207, 'viewers': 9714, 'devoted': 2342, 'mtv': 5117, 'comedy': 1617, 'paramount': 7078, 'vh1': 9699, 'bet': 1016, 'metered': 4936, 'syndicated': 9066, 'foresting': 3296, 'attitudinal': 844, 'standardized': 8804, 'redis': 7878, 'thrives': 9247, 'x98think': 9975, 'tank': 9108, 'ish': 4308, 'catalyst': 1334, 'neffective': 5677, 'upper': 9576, 'enthusiasm': 2842, 'ntantus': 6640, 'isolate': 4312, 'nmanage': 6101, 'traceability': 9320, 'authoring': 872, 'matrix': 4839, 'rtm': 8221, 'historical': 3750, 'acceptance': 315, 'uat': 9457, 'nrecord': 6437, 'compare': 1663, 'conformance': 1783, 'walkthroughs': 9783, 'inspections': 4115, 'navigator': 5337, 'routines': 8209, 'universes': 9528, 'qa': 7707, 'directions': 2403, 'clm': 1541, 'rqm': 8212, 'nblackthorn': 5371, 'therapeutics': 9223, 'neurobehavioral': 5742, 'disorders': 2461, 'depression': 2281, 'schizophrenia': 8315, 'autism': 879, 'pioneered': 7275, 'psychiatry': 7658, 'treatments': 9392, 'gen': 3458, 'trials': 9401, 'multimodal': 5126, 'neuroimaging': 5744, 'physiological': 7257, 'deepen': 2205, 'thinkers': 9232, 'neuroscience': 5745, 'resting': 8095, 'fmri': 3267, 'structural': 8920, 'mri': 5107, 'dwi': 2603, 'ample': 603, 'afni': 490, 'fsl': 3375, 'freesurfer': 3357, 'toolboxes': 9294, 'signal': 8528, 'eeg': 2677, 'speech': 8724, 'usdc': 9590, 'pioneer': 7274, 'builder': 1193, 'mold': 5060, 'horizon': 3794, 'vertica': 9691, 'ramp': 7775, 'nexperienced': 5788, 'aggregation': 506, 'spoken': 8739, 'cron': 2044, 'pyspark': 7702, 'sparksql': 8697, 'deloitte': 2242, 'sharpen': 8482, 'ndeloitte': 5579, 'centered': 1369, 'aware': 911, 'ncorporate': 5535, 'extends': 3068, 'volunteerism': 9767, 'nrecruiter': 6438, 'tips': 9273, 'cfdss': 1389, 'cfds': 1388, 'evangelizing': 2933, 'nroles': 6500, 'nrepresenting': 6463, 'datarobot': 2146, 'standpoint': 8808, 'demonstrations': 2255, 'informing': 4056, 'nenabling': 5697, 'framing': 3344, 'empathizing': 2751, 'nqualifying': 6402, 'npresenting': 6344, 'nmain': 6092, 'dealing': 2178, 'telecommunication': 9162, 'nid': 5948, 'n2019': 5163, '52799': 193, 'pra': 7407, '15000': 54, 'grown': 3610, 'cro': 2043, 'maintained': 4738, 'settle': 8462, 'old': 6901, 'permeates': 7189, 'ndue': 5649, 'nacting': 5203, 'trending': 9398, 'specifying': 8720, 'nreviewing': 6492, 'teamsto': 9138, 'adaptive': 395, 'utilizingapplicable': 9613, 'usingprogramming': 9600, 'nescalates': 5726, 'concerns': 1744, 'outof': 7018, 'nanalytically': 5255, 'constant': 1822, 'programmers': 7576, 'jreview': 4371, 'aggregating': 505, 'npra': 6330, 'noptions': 6223, 'onlineapply': 6917, 'nshare': 6535, 'nsorry': 6567, 'properly': 7611, 'moment': 5062, 'refresh': 7904, 'later': 4487, 'newsfeed': 5759, 'internshipresponsibilities': 4220, 'alpha': 566, 'prototyping': 7641, 'faceted': 3095, 'nneuberger': 6167, 'berman': 1014, 'onlineaccommodations': 6916, 'modernization': 5049, 'scrum': 8351, 'obsolete': 6851, 'redundant': 7885, 'migrating': 4968, 'verifying': 9684, 'migratiion': 4967, 'nmandatory': 6104, 'nseven': 6533, 'unified': 9513, 'uft': 9463, 'selenium': 8407, 'vba': 9664, 'powerbuilder': 7393, 'typos': 9455, 'grammatical': 3570, 'validating': 9633, 'migrations': 4970, 'bdd': 977, 'cucumber': 2068, 'postman': 7382, 'soapui': 8625, 'junit': 4388, 'agilecraft': 510, 'nformal': 5848, 'nsalient': 6507, 'crgt': 2029, 'mobility': 5031, 'salient': 8255, 'salientcrgt': 8256, 'westlake': 9850, 'village': 9719, '1996': 85, 'specializing': 8713, 'chat': 1430, 'stretches': 8906, 'continent': 1859, 'presence': 7456, 'streaming': 8892, 'gamification': 3428, 'nvs': 6779, 'referred': 7898, 'x9cppc': 10007, 'buyer': 1221, 'adwords': 469, 'adult': 441, 'publishers': 7669, 'succeeds': 8972, 'decisive': 2193, 'resourceful': 8067, 'buys': 1224, 'caps': 1286, 'impression': 3945, 'score': 8333, 'placements': 7291, 'nqualities': 6403, 'nadaptive': 5211, 'composure': 1713, 'critically': 2039, 'summaries': 8988, 'motivation': 5091, 'nhelpful': 5920, 'noutstanding': 6257, 'appreciated': 695, 'colleague': 1586, 'screen': 8343, 'representatives': 8018, 'imperative': 3927, 'flirt4free': 3251, 'understands': 9503, 'respects': 8078, 'attractive': 849, 'healing': 3699, 'ii': 3893, 'oversees': 7035, 'analyzable': 622, 'completes': 1694, 'editing': 2661, 'difficulties': 2377, 'manuscripts': 4781, 'perpetuate': 7196, 'nexceptional': 5771, 'conceptualization': 1739, 'nstrength': 6606, 'mount': 5096, 'sinai': 8554, 'devotion': 2343, 'ethically': 2912, 'welcoming': 9839, 'nurturing': 6742, 'belief': 995, 'chapter': 1412, 'nover': 6260, '38': 164, 'compassionate': 1668, 'coordination': 1929, 'nformed': 5849, 'icahn': 3867, 'beth': 1017, 'israel': 4314, 'brooklyn': 1170, 'queens': 7740, 'west': 9848, 'roosevelt': 8194, 'luke': 4714, 'ear': 2610, 'infirmary': 4035, 'southern': 8683, 'jersey': 4343, 'perinatal': 7177, 'cooperative': 1923, '27': 133, 'bu1968': 1181, '116': 36, 'npennsauken': 6290, 'coordinating': 1928, 'organizationally': 6983, 'car': 1291, 'ntravels': 6694, 'indicated': 4007, 'ncoordinates': 5532, 'manuals': 4778, 'snjpc': 8622, 'undergo': 9490, 'nsouthern': 6570, 'maternal': 4828, 'pediatric': 7151, 'comp': 1657, 'pkg': 7286, 'accommodate': 326, 'eoe': 2865, '1901744': 73, 'xgboost': 10052, 'agenda': 499, 'wallet': 9786, 'ndrives': 5646, 'nenhance': 5703, 'establishment': 2904, 'earning': 2616, '75': 228, '06366': 12, '1001': 21, 'nschedule': 6511, 'internshipare': 4202, 'wellsky': 9846, 'lookout': 4681, 'grads': 3561, 'gives': 3510, 'exists': 2994, 'semester': 8418, 'ngain': 5868, 'ninnovation': 5984, 'saves': 8283, 'nwellsky': 6788, 'hourpart': 3815, 'timeposition': 9266, 'nutritional': 6754, 'federally': 3165, 'disparities': 2463, 'snap': 8618, 'ed': 2653, 'incoming': 3976, 'assessments': 784, 'intake': 4150, 'archive': 726, 'docs': 2518, 'fte': 3376, 'ua': 9456, 'asu': 813, 'nau': 5328, 'recreation': 7866, 'arizona': 734, 'worldatwork': 9916, 'recording': 7862, 'copy': 1934, 'verifies': 9682, 'sorts': 8672, 'entered': 2837, 'corrects': 1955, 'reconciles': 7855, 'trackers': 9323, 'disseminates': 2480, 'logs': 4670, 'filing': 3194, 'archives': 727, 'hardcopy': 3663, 'investigates': 4274, 'prioritizes': 7504, 'professionalism': 7557, 'accepts': 318, 'nskill': 6551, 'absorb': 292, 'calm': 1252, 'stressful': 8904, 'unexpected': 9510, 'regents': 7912, 'narizona': 5286, 'alphanumeric': 567, 'proofing': 7605, 'reconciling': 7858, 'nvivo': 6776, 'composition': 1712, 'punctuation': 7681, 'flsa': 3260, 'nfar': 5815, 'immerses': 3916, 'socials': 8630, 'periodcross': 7179, 'hackday': 3642, 'playground': 7308, 'endless': 2788, 'undergradinternships': 9492, 'gradinternships': 3560, 'kpisexperience': 4445, 'sqlproficient': 8761, 'storycapacity': 8879, 'terminologyworks': 9195, 'detailpassionate': 2314, 'experiencea': 3013, 'graduating': 3566, 'nnone': 6177, 'mentioned': 4908, 'prototype': 7639, 'bridge': 1150, 'lapack': 4475, 'gurobi': 3635, 'therapy': 9226, 'enormous': 2825, 'nextend': 5798, 'nfunction': 5864, 'nrespond': 6480, 'desk': 2308, 'ticketing': 9251, 'asana': 760, 'gatewaylg': 3439, 'contractfocuskpi': 1877, 'nthank': 6656, 'nfocuskpi': 5840, 'focuskpi': 3273, 'customization': 2100, 'internshipsamsara': 4223, 'plug': 7322, 'mechanical': 4880, 'jdms': 4340, 'toolmakers': 9298, 'quantify': 7730, 'scoping': 8332, 'shifting': 8490, 'releases': 7957, 'cohort': 1574, 'returns': 8128, 'nproliferate': 6375, 'nstudying': 6614, 'gleaning': 3516, 'graphql': 3583, 'samsara': 8261, 'sizes': 8570, 'colors': 1601, 'cultures': 2075, 'sexes': 8467, 'beliefs': 996, 'religions': 7971, 'ages': 502, 'depend': 2263, 'internshiplocation': 4215, 'cupertino': 2078, 'nseagate': 6514, 'hqs': 3825, 'bigdata': 1032, 'ninterns': 6005, 'typically': 9454, '8am': 253, 'sole': 8645, 'seagate': 8358, 'returning': 8127, 'fall': 3122, 'nvoice': 6777, 'completely': 1692, 'infancy': 4027, 'nericsson': 5724, 'society': 8633, 'ericsson': 2884, 'greatest': 3589, 'borders': 1108, '180': 64, 'achievements': 353, 'practically': 7410, 'impossible': 3944, 'brains': 1125, '5g': 204, 'accelerator': 311, 'sweden': 9056, 'push': 7694, 'frontiers': 3373, 'collaborations': 1582, 'digitalization': 2384, 'acceleration': 310, 'societal': 8631, 'nthen': 6659, 'accelerating': 309, '4g': 184, 'validated': 9631, 'exogenous': 2998, 'reinforcement': 7936, 'industrialize': 4019, 'academia': 304, 'cassandra': 1328, 'nprogramming': 6370, 'discriminant': 2446, 'bagging': 946, 'svm': 9051, 'functionalities': 3390, 'industrialization': 4018, 'ncertifying': 5429, 'moocs': 5080, 'nurture': 6741, 'persistence': 7199, 'white': 9862, 'blogs': 1074, 'sensitivity': 8427, 'nli': 6058, 'bf1': 1022, 'ntag': 6636, 'manahj': 4766, 'opinion': 6947, 'guiding': 3633, 'compact': 1658, 'inquired': 4101, 'discussed': 2454, 'disclosed': 2430, 'disclose': 2429, 'furtherance': 3409, 'proceeding': 7529, 'hearing': 3707, 'conducted': 1759, 'furnish': 3407, 'requesting': 8030, 'lie': 4584, 'detector': 2319, 'discharging': 2424, 'disciplining': 2428, 'discriminating': 2449, 'refusing': 7907, 'exercising': 2988, 'whd': 9860, 'eppac': 2871, '866': 249, '374': 163, '2272': 126, '877': 251, '338': 158, '9966': 272, 'canada': 1267, 'serveng': 8445, 'nulta': 6713, 'beauty': 983, 'enthusiast': 2843, 'butterflies': 1218, 'shops': 8504, 'prestige': 7472, 'mass': 4812, 'salon': 8257, 'roof': 8190, 'committing': 1636, 'nqm': 6398, 'harnesses': 3673, 'ulta': 9469, 'qm': 7714, 'joined': 4356, 'differentiate': 2371, 'guest': 3624, 'journeys': 4368, 'discovering': 2441, 'rock': 8181, 'x9cwow': 10022, 'versatile': 9686, 'mark': 4795, 'nnatural': 6160, 'personalization': 7206, 'nplatform': 6312, 'nrelation': 6450, 'garner': 3435, 'lesser': 4552, 'strategically': 8886, 'tactically': 9089, 'nprefered': 6337, 'gpu': 3555, 'trustmark': 9425, 'personalized': 7207, 'circumstance': 1476, 'revolves': 8141, 'peace': 7148, 'digest': 2379, 'nprofile': 6368, 'aggregated': 504, '19000bn4': 69, '199': 83, 'viewability': 9711, 'addthis': 409, 'bluekai': 1081, 'crosswise': 2046, 'datalogix': 2139, 'grapeshot': 3577, 'moat': 5028, 'x9crivr': 10011, 'telco': 9160, 'b2b': 925, 'odc': 6870, 'rivr': 8168, 'smarter': 8602, 'broomfield': 1172, 'maximizing': 4848, 'viewable': 9712, 'educating': 2670, 'proposition': 7620, 'grounding': 3605, 'nuances': 6707, 'interrogate': 4237, 'prospect': 7624, 'visitation': 9736, 'adtech': 440, 'pixel': 7285, 'walled': 9785, 'garden': 3434, 'profession': 7555, 'mandatory': 4768, 'complimented': 1704, 'x98big': 9974, 'qubole': 7739, 'gui': 3626, 'convention': 1900, 'x9cwhy': 10021, 'extending': 3067, 'lack': 4461, 'prescribed': 7454, 'consolidate': 1820, 'x9cbig': 9990, 'ninteracts': 5997, 'varied': 9654, 'contractdata': 1875, 'batch': 971, 'solr': 8651, 'domo': 2540, 'nhadoop': 5903, 'connectivity': 1793, 'instincts': 4129, 'penney': 7156, 'nplano': 6310, 'upgrade': 9569, 'upgrades': 9570, 'nacquires': 5199, 'accomplishments': 333, 'datameer': 2140, 'quantities': 7734, 'plano': 7299, 'jcpenney': 4338, 'nationwide': 5315, 'discount': 2435, 'merchandise': 4915, 'clinic': 1536, 'daycare': 2161, 'preschool': 7451, 'cafeteria': 1237, 'garage': 3433, 'parking': 7085, 'golden': 3534, 'rooted': 8196, 'treat': 9388, 'touchpoint': 9312, 'stylish': 8939, 'reinforcing': 7938, 'warrior': 9799, '98': 269, 'prosper': 7628, 'flourishes': 3256, 'instagram': 4123, 'linkedin': 4621, 'jcp': 4337, '1082692': 27, 'variable': 9647, 'operationalization': 6939, 'advise': 459, 'hampshire': 3646, 'contractcompany': 1874, 'cst': 2063, 'avoid': 904, 'visits': 9740, 'chronic': 1465, 'turnkey': 9443, 'facilitating': 3099, 'utilizes': 9611, 'elite': 2727, 'nmission': 6135, 'older': 6902, 'adults': 442, 'battling': 972, 'illness': 3898, 'received': 7833, 'sybase': 9062, 'crystal': 2058, 'novi': 6266, 'triggers': 9405, 'nefficiency': 5679, 'contracted': 1876, 'ncst': 5551, 'emerge': 2743, 'dropbox': 2583, 'mentions': 4909, 'backlog': 939, 'multitude': 5132, 'excitement': 2969, 'leveling': 4558, 'super': 9000, 'nsaas': 6504, 'hourinternshipour': 3812, 'petco': 7227, 'pets': 7232, 'happier': 3658, 'pet': 7224, 'reducing': 7883, 'carbon': 1292, 'passionately': 7115, 'nfrom': 5858, 'animal': 636, 'welfare': 9841, 'npetco': 6303, 'supplies': 9019, 'diego': 2365, 'nassigned': 5300, 'calculate': 1240, 'metric': 4947, 'table': 9078, 'contain': 1847, 'glossary': 3523, 'nenable': 5696, 'crawlers': 2006, 'crawl': 2005, 'buckets': 1183, 'lambda': 4466, 'gateways': 3440, 'sandbox': 8265, 'tenure': 9184, 'capstone': 1288, 'conclusion': 1749, 'yoga': 10078, 'basketball': 970, 'court': 1988, 'walking': 9782, 'trail': 9334, 'caf': 1235, 'xa9': 10035, 'starbucks': 8814, 'technoloty': 9159, 'bachlor': 933, 'asks': 767, 'surfaces': 9030, 'puts': 7697, 'finishes': 3219, 'suggests': 8981, 'suggestions': 8980, 'breakdowns': 1140, 'listens': 4631, 'writes': 9930, 'accepting': 317, 'discussing': 2455, 'internshipbmw': 4203, 'breakthrough': 1145, 'talents': 9103, 'bmw': 1084, 'ninteract': 5996, 'repeatable': 8002, 'rmarkdown': 8169, 'napprise': 5278, 'derived': 2286, 'ignite': 3892, 'motion': 5088, 'riders': 8155, 'eaters': 2627, 'nuber': 6708, 'obsession': 6850, 'nexample': 5769, 'delightful': 2231, 'friction': 3363, 'npredicting': 6334, 'ndemonstrable': 5580, 'nknow': 6040, 'retraining': 8118, 'lda': 4510, 'tf': 9211, 'idf': 3889, 'word2vec': 9893, 'doc2vec': 2515, 'glove': 3524, 'variational': 9652, 'theorem': 9219, 'explained': 3040, 'internshipintern': 4212, 'ndublin': 5648, 'nthrive': 6667, 'stable': 8779, 'inspiring': 4122, 'explanations': 3043, 'germany': 3494, 'sophomore': 8669, 'erp': 2885, 'zeiss': 10086, 'preserving': 7465, 'shaped': 8473, 'auto': 880, '169334br': 58, 'npepsico': 6292, 'undergoing': 9491, 'beverage': 1020, 'pepsico': 7162, 'assembled': 778, 'tied': 9254, 'resembles': 8047, 'bounds': 1115, 'grocery': 3602, 'codebase': 1562, 'foster': 3324, 'dsa': 2589, 'postgressql': 7379, 'mssql': 5115, 'noffers': 6193, 'prescreens': 7452, 'alcohol': 539, 'sections': 8376, '4901': 182, '4919': 183, 'download': 2551, 'supplement': 9014, 'trilogy': 9407, 'npowered': 6328, 'instructors': 4138, 'universities': 9529, 'boot': 1105, 'camps': 1264, 'graduated': 3564, 'ndriven': 5645, 'mentality': 4906, 'ntrilogy': 6696, 'curriculum': 2089, 'deserve': 2295, 'depends': 2271, 'fans': 3129, 'critics': 2041, 'confront': 1785, 'figure': 3188, 'envision': 2860, 'diving': 2502, 'credibly': 2023, 'ntranslate': 6688, 'nimprove': 5965, 'rows': 8210, 'nibi': 5943, 'passengers': 7110, 'gtfs': 3618, 'procure': 7538, 'passenger': 7109, 'everett': 2938, 'vancouver': 9644, 'translink': 9372, 'rtd': 8219, 'mbta': 4854, 'nmost': 6151, 'alerts': 541, 'archival': 725, 'memos': 4903, 'formatted': 3309, 'civil': 1489, 'yearly': 10066, 'nbagels': 5352, 'mini': 4987, 'cupcakes': 2077, 'thursday': 9249, 'birthdays': 1056, 'seasonal': 8365, 'pumpkin': 7677, 'carving': 1320, 'contest': 1855, 'transcripts': 9351, 'submission': 8945, 'ibi': 3864, 'confirmation': 1776, 'offence': 6876, '200041690': 95, 'challenged': 1396, 'applecare': 679, 'standout': 8807, 'intuition': 4259, 'gbi': 3446, 'nvalidated': 6760, 'cooperation': 1922, 'poise': 7334, 'resilience': 8058, 'adaptability': 391, 'midst': 4964, 'courses': 1986, 'explaining': 3041, 'directional': 2402, 'nalpharetta': 5241, 'boca': 1089, 'raton': 7796, 'mn': 5027, 'observations': 6846, 'n50': 5173, 'n25': 5165, 'nresponsibility': 6483, 'nexercise': 5781, 'transparent': 9375, 'toolkits': 9297, 'abstract': 294, 'inefficiencies': 4024, 'mitigate': 5013, 'prove': 7645, 'ninsert': 5988, 'lexisnexis': 4568, 'upholding': 9572, 'relx': 7977, 'plc': 7312, 'lexisnexisrisk': 4569, '734': 227, '1938': 75, 'dea': 2172, 'catholic': 1345, 'inferences': 4032, 'indicate': 4006, 'ext': 3064, 'criticism': 2040, '29': 137, '64': 213, '143': 50, 'longevity': 4675, 'testimony': 9202, 'ncatholic': 5422, 'fraternal': 3350, 'consecutive': 1798, 'milwaukee': 4977, 'sentinel': 8433, 'soft': 8636, 'faith': 3121, 'nserving': 6531, 'god': 3530, 'andenhancing': 629, 'nxj6': 6818, 'hourtemporaryoverview': 3817, 'vance': 9643, 'rotate': 8200, 'closed': 1544, 'inqa': 4100, 'stamp': 8795, 'stamped': 8796, 'yard': 10055, 'sorters': 8671, 'repair': 7998, 'assembly': 779, 'nregularly': 6448, 'stands': 8809, 'bends': 1009, 'lifts': 4596, 'moves': 5099, 'intermittently': 4192, 'shifts': 8491, 'inclement': 3967, 'weather': 9820, 'advertisement': 454, 'dorahitsolutions': 2546, 'nwestern': 6789, 'losses': 4688, 'nupdate': 6739, 'book': 1098, 'midwestern': 4965, 'western': 9849, 'alaska': 537, '57th': 200, 'minnesota': 4996, 'minneapolis': 4995, 'paul': 7129, 'earned': 2615, 'accolades': 325, 'tribune': 9403, '2011': 105, 'recipient': 7838, 'x9c10': 9985, 'finalist': 3201, 'alfred': 543, 'sloan': 8595, 'x9cwhen': 10020, 'x9cthe': 10017, 'wellbeing': 9842, 'volunteer': 9765, 'thanks': 9215, 'subsidy': 8962, 'ppo': 7402, 'deductible': 2203, 'hdhp': 3692, 'snack': 8615, 'workstations': 9914, 'seminars': 8421, 'ndiscounts': 5618, 'homeowner': 3781, 'instead': 4128, 'quotes': 7758, 'x9cexcellent': 9994, 'x9cjust': 10000, 'x9cabove': 9986, 'x9ci': 9997, 'welcomed': 9838, 'ly': 4718, '2qxtl4a': 141, 'alive': 554, 'textio': 9209, 'genre': 3479, 'linguistic': 4616, 'introspection': 4258, 'niteratively': 6021, 'ncontinuously': 5523, 'intrinsic': 4254, 'extrinsic': 3084, 'ncurating': 5554, 'abstractions': 297, 'nstrengthening': 6607, 'interpretable': 4233, 'explainability': 3039, 'practicality': 7409, 'iteratively': 4326, 'concrete': 1752, 'prototypes': 7640, 'louder': 4692, 'specs': 8721, 'ego': 2698, 'ntextio': 6655, 'nreq6826': 6467, 'nperiodic': 6297, 'ntempe': 6650, 'storing': 8876, 'retrieving': 8124, 'standardization': 8801, 'ntranslates': 6689, 'ims': 3956, 'toolset': 9300, 'replication': 8004, 'synchronization': 9064, 'nunderstands': 6729, 'nexhibits': 5783, 'inception': 3963, 'sunset': 8999, 'vehicles': 9669, 'irregular': 4305, 'aligned': 552, 'red': 7874, 'skillsfile': 8578, 'columnar': 1604, 'storesoperational': 8874, 'metadatasmall': 4933, 'buildsstructured': 1197, 'datadatabase': 2136, 'designdatabase': 2299, 'builddatabase': 1192, 'tuningdatabase': 9438, 'scalingindexing': 8300, 'invertedquery': 4269, 'knowledgeopportunistic': 4437, 'sensor': 8428, 'createdinternal': 2011, 'knowledgedata': 4436, 'skillstranslate': 8581, 'structuresuse': 8924, 'languagesdata': 4473, 'prep': 7443, 'techniquesdata': 9148, 'techniquesuse': 9150, 'analyticsdashboarding': 619, 'scorecarding': 8334, 'ncompetencies': 5487, 'expertisedecision': 3034, 'judgmentteamworkcritical': 4378, 'thinkingadaptability': 9235, 'njt18': 6031, 'temporaryjob': 9176, '3188439': 153, '26': 131, 'nregulation': 6449, 'crime': 2030, 'afc': 476, 'protects': 7636, 'deutsche': 2326, 'avert': 901, 'unintentional': 9516, 'breaches': 1136, 'kyc': 4452, 'perimeter': 7176, 'assistant': 796, 'ny': 6820, 'pacific': 7051, 'franchise': 3346, 'heavily': 3710, 'gains': 3421, 'packed': 7056, 'ndeutsche': 5605, 'x9cbank': 9989, 'x9cgtb': 9995, 'respectively': 8077, 'gtb': 3616, 'middle': 4963, 'x9cnca': 10005, 'x9cpr': 10008, 'rr': 8213, 'exited': 2996, 'subsidiaries': 8959, 'domiciled': 2539, 'transactions': 9346, 'avp': 906, 'gtb_tfccm_us': 3617, 'adoptions': 438, 'x9cedr': 9993, 'distinct': 2484, 'tfccm_us': 9212, 'licensed': 4580, 'pinpoint': 7272, 'heads': 3698, 'gears': 3455, 'charged': 1419, 'proces': 7530, 'nface': 5806, 'depiction': 2273, 'eus': 2923, 'aml': 598, 'directives': 2404, 'escalations': 2890, 'nappropriate': 5279, 'govern': 3545, 'bsa': 1179, 'patriot': 7126, 'solely': 8646, 'pivots': 7284, 'lookups': 4683, 'turnaround': 9440, 'satisfy': 8279, 'overlapping': 7032, 'pmo': 7327, 'nmoderate': 6140, 'cash': 1324, 'links': 4623, 'x9c': 9984, 'nbuilds': 5390, 'cerner': 1379, 'scheduling': 8312, 'modality': 5034, 'admitting': 432, 'registration': 7917, 'palm': 7061, 'nfacility': 5809, 'saint': 8247, 'mary': 4810, 'influenced': 4038, 'tenet': 9179, 'suit': 8982, 'administrator': 427, 'wishes': 9884, 'nservice': 6529, 'nmaintenance': 6096, 'paralegal': 7071, 'numerate': 6718, 'naccustomed': 5196, 'sla': 8588, 'astreya': 812, 'brilliant': 1156, 'nintroduction': 6012, 'ncareer': 5414, 'nonline': 6205, 'cbt': 1352, 'nuggets': 6711, 'upskill': 9578, 'ndedicated': 5570, 'nnumerous': 6186, 'npeer': 6288, 'nmarket': 6107, 'nastreya': 5309, 'lendio': 4546, 'plenty': 7318, 'introduced': 4256, 'ndomo': 5638, '50k': 190, 'relaxed': 7953, 'nbright': 5384, 'nhttp': 5938, 'greatplacetowork': 3591, 'npartners': 6281, 'nassesses': 5298, 'maturity': 4844, 'vudu': 9775, 'ab1': 278, 'practicing': 7413, 'strict': 8907, 'juggle': 4379, 'waitr': 9778, 'redefining': 7876, 'sided': 8522, 'concierge': 1746, 'convenience': 1898, 'humor': 3847, 'came': 1259, 'waitrapp': 9779, 'nnow': 6183, 'iterate': 4322, 'backwards': 943, 'sizing': 8571, 'ideating': 3880, 'ncollecting': 5465, 'carve': 1319, 'hyper': 3859, 'perk': 7184, 'rare': 7788, 'reinventing': 7941, 'continual': 1862, 'subscriptions': 8958, 'nsharp': 6537, 'nnine': 6173, 'nunlimited': 6736, 'nstandard': 6587, 'macbook': 4722, 'substitute': 8966, 'brass': 1134, 'negotiable': 5684, 'reonomy': 7997, 'nheadquartered': 5915, 'sapphire': 8270, 'bain': 947, 'softbank': 8638, 'represent': 8014, 'cre': 2008, 'newmark': 5757, 'knight': 4426, 'frank': 3349, 'cushman': 2093, 'wakefield': 9780, 'tishman': 9274, 'speyer': 8730, 'wework': 9854, 'intelligently': 4167, 'complexities': 1698, 'nplaying': 6314, 'nwriting': 6813, 'trivial': 9411, 'nhistory': 5928, 'breakfast': 1141, '2x': 142, 'citi': 1481, 'bike': 1035, 'discounts': 2437, 'wellness': 9845, 'rooms': 8193, 'recruiters': 7869, 'interacts': 4180, 'dexcom': 2345, '1999': 87, 'glucose': 3526, 'diabetes': 2350, 'caregivers': 1305, 'timeline': 9262, 'sklearn': 8582, 'seaborn': 8357, 'bigquery': 1034, 'dataproc': 2144, 'datalab': 2138, 'aways': 914, 'decomposition': 2198, 'factorization': 3110, 'mllib': 5022, 'nlist': 6070, 'ntypically': 6705, 'discriminated': 2448, 'proofpoint': 7606, 'nblend': 5372, 'intel': 4161, 'singularly': 8556, 'cybersecurity': 2109, 'x94and': 9958, 'gans': 3430, 'resnets': 8060, 'mastered': 4818, 'classics': 1503, 'malicious': 4751, 'actors': 378, 'craftsmanship': 2004, 'nfeature': 5820, 'classifiers': 1508, 'nblending': 5373, 'tested': 9201, 'repo': 8005, 'nprocessing': 6358, 'nsupervised': 6626, 'xafve': 10039, 'convnet': 1917, 'lstm': 4709, 'siamese': 8519, 'nunsupervised': 6737, 'dbscan': 2167, 'spectral': 8722, 'som': 8663, 'lsh': 4707, 'ntoolkits': 6676, 'genism': 3477, 'vowpal': 9770, 'wabbit': 9777, 'npython': 6397, 'cultivating': 2071, 'appreciation': 697, 'treating': 9390, 'jl3': 4348, 'staples': 8812, 'assortment': 804, 'lowest': 4701, 'embodied': 2738, 'x9cwe': 10019, 'resides': 8057, 'strategiesdevelop': 8888, 'segmentationdevelop': 8396, 'sba': 8289, 'businesscoordinate': 1211, 'initiativesassess': 4079, 'techniquesrecommend': 9149, 'modelsexcellent': 5044, 'alteryxexperience': 574, 'visualizing': 9747, 'powerbi': 7392, 'teradataexcellent': 9188, 'writtenproven': 9933, 'nstaples': 6589, 'breakroom': 1144, 'furniture': 3408, 'promotional': 7601, 'solopreneurs': 8650, 'sycamore': 9063, 'composed': 1709, 'totaling': 9309, '17b': 61, 'grainger': 3568, 'distributor': 2495, 'mro': 5109, 'gloves': 3525, 'ladders': 4463, 'janitorial': 4331, 'branches': 1130, 'ncapable': 5408, 'snr': 8624, 'sbs': 8290, 'diligence': 2386, 'agreed': 515, 'setsuse': 8459, 'labeled': 4456, 'setsassuring': 8458, 'analysisutilize': 613, 'processesunderstand': 7535, 'resourceswork': 8069, 'automating': 887, 'applicationssuperior': 687, 'datastrong': 2150, 'supervisionability': 9007, 'mustexperience': 5140, 'plusproven': 7325, 'sustained': 9049, 'seated': 8367, 'positon': 7364, 'reed': 7887, 'nreed': 6442, 'rbi': 7800, 'reedbusiness': 7888, 'nrbi': 6422, 'uk': 9466, 'holidaypaid': 3775, 'charity': 1421, 'yearbenefits': 10059, 'dateexcellent': 2155, 'ote': 7002, 'salaries': 8250, 'null': 6712, 'nten': 6651, 'force': 3285, 'multiplier': 5129, 'sellers': 8413, 'buyers': 1222, 'matches': 4823, 'accelerates': 308, 'streamlines': 8894, '55': 196, 'safely': 8240, 'entirely': 2846, 'virtue': 9726, 'seller': 8412, 'transacting': 9343, 'positioned': 7360, 'dramatic': 2562, 'nhttps': 5939, 'branch': 1129, 'parameter': 7074, 'regressions': 7922, 'louisville': 4694, 'ky': 4451, 'referencing': 7895, 'hits': 3756, 'datacreate': 2135, 'analysisdevelop': 612, 'consistencies': 1813, 'standardizations': 8802, 'dataproduce': 2145, 'epic': 2866, 'meditechstrong': 4890, 'asc': 762, 'x12': 9939, 'edi': 2657, '270': 134, '271': 135, '837': 243, '835experience': 242, 'languageexperience': 4471, 'frameworkworking': 3343, 'joins': 4358, 'hl7': 3759, 'fhir': 3179, 'preferredproven': 7435, 'formatsstrong': 3308, 'major2': 4743, 'firmkeen': 3224, 'perspectiveexcellent': 7215, 'hipaa': 3741, 'recordsstrong': 7864, 'skillsprofessional': 8579, 'presenceorganizational': 7457, 'fantastic': 3130, 'progression': 7583, 'respected': 8072, '1970': 80, 'thirteen': 9237, 'indiana': 4004, 'kentucky': 4405, 'ohio': 6895, 'sponsor': 8740, 'mister': 5012, 'wash': 9800, 'formula': 3314, 'dry': 2587, 'tucson': 9432, 'uwc': 9617, 'nchurn': 5437, 'nmember': 6121, 'nbehavioral': 5361, 'ntrial': 6695, 'nad': 5208, 'distill': 2483, 'whys': 9865, 'whats': 9859, 'pos': 7357, 'nlike': 6065, 'dirty': 2412, 'nmodern': 6141, 'nfast': 5818, 'nfun': 5863, 'ncar': 5413, 'nmister': 6136, 'nbrand': 5380, 'naddress': 5216, '222': 125, '5th': 207, '85705': 247, 'nproperty': 6380, 'anonymization': 649, 'jupiter': 4389, 'scikitlearn': 8327, 'nongoing': 6204, 'restful': 8094, 'apis': 671, 'mac': 4721, 'drinks': 2575, 'nkegerator': 6038, 'nzogsports': 6832, 'internshipchicago': 4207, 'inspector': 4116, 'oig': 6896, 'watchdog': 9805, 'taxpayers': 9121, 'jurisdiction': 4391, 'economy': 2649, 'rooting': 8197, 'corruption': 1962, 'mismanagement': 5003, 'x94investigations': 9963, 'x94legal': 9964, 'noig': 6197, 'unpaid': 9546, 'cita': 1480, 'citywide': 1487, 'pentaho': 7159, 'usability': 9585, 'nonpartisan': 6207, 'nannual': 5262, 'nacademic': 5189, 'majoring': 4744, 'cumulative': 2076, 'grading': 3559, 'ngraduate': 5893, 'penatho': 7154, 'summarized': 8992, 'ninstructions': 5990, 'nsubmit': 6615, 'chicagoinspectorgeneral': 1448, 'nattach': 5322, 'transcript': 9347, 'repeat': 8000, 'instruction': 4136, 'writer': 9928, 'holders': 3769, 'imports': 3943, 'exports': 3056, 'validates': 9632, 'submits': 8948, 'courteous': 1989, 'nassociates': 5306, 'nspeech': 6576, 'comprehend': 1714, 'gym': 3638, 'npartially': 6275, 'hsa': 3832, 'extended': 3066, 'eap': 2609, 'nmuch': 6154, 'n________________________________________________': 5180, 'nascentia': 5293, 'nnascentia': 6159, 'featuring': 3162, 'innovator': 4095, 'holistic': 3777, 'busy': 1215, 'regions': 7915, '________________________________________________': 274, 'costa': 1968, 'mesa': 4926, 'conceives': 1730, 'sickness': 8521, 'unleashes': 9535, 'experienceexperience': 3017, 'prototypingknowledge': 7642, 'architectureknowledge': 723, 'technologiesknowledge': 9154, 'environmentsknowledge': 2859, 'managementability': 4759, 'processesbusiness': 7534, 'acumensdlc': 386, 'developmentoral': 2334, 'nca': 5399, '350': 160, 'yeara': 10057, 'die': 2364, 'collisions': 1598, 'zero': 10088, 'insurtech': 4147, 'recently': 7836, 'hiroad': 3747, 'poised': 7335, 'trillion': 9406, 'longer': 4674, 'mindful': 4982, 'backend': 936, 'suites': 8987, 'consumed': 1840, 'nactuarial': 5207, 'nmore': 6149, 'factoring': 3109, 'unable': 9474, 'shower': 8511, 'panoramic': 7066, 'montgomery': 5075, 'station': 8832, 'locals': 4654, 'owl': 7039, 'looks': 4682, 'pursuant': 7689, 'namplion': 5249, 'synthesizes': 9071, 'biomedical': 1049, 'diagnostic': 2353, 'leverages': 4564, 'amplion': 605, 'biomarker': 1048, 'looker': 4678, 'extracted': 3075, 'technologists': 9157, 'neo4j': 5719, 'automatically': 886, 'mountain': 5097, 'bruno': 1177, 'wa': 9776, 'arrive': 746, 'ngoogle': 5889, 'chrome': 1464, 'android': 631, 'youtube': 10082, 'specification': 8717, 'advocating': 468, 'displays': 2469, 'nap': 5267, 'intego': 4152, 'combining': 1615, 'meaningfully': 4868, 'npurpose': 6393, 'evaluates': 2927, 'intra': 4250, 'socialized': 8629, 'nagile': 5232, 'beats': 980, 'nfitness': 5832, 'nvoluntary': 6778, 'supplemental': 9015, 'dramatically': 2563, 'x94something': 9967, 'insurtechs': 4148, 'dream': 2569, '2006': 100, 'waltham': 9790, 'rochester': 8180, 'pleasanton': 7314, 'religious': 7972, 'unfavorable': 9511, 'minimize': 4989, 'pharmaceuticals': 7236, 'cures': 2082, 'diseases': 2458, 'matched': 4822, 'deployed': 2275, 'nsan': 6508, 'nraleigh': 6418, 'durham': 2600, 'nlittleton': 6071, 'ncleveland': 5448, 'oh': 6894, 'naustin': 5329, 'nann': 5261, 'arbor': 716, 'nopportunities': 6218, 'debugging': 2185, 'prof': 7554, 'neo': 5718, 'nibm': 5944, '42': 174, 'timecontractor': 9261, 'nalelo': 5237, 'learners': 4523, 'alelo': 540, 'saved': 8282, 'enskill': 2832, 'examine': 2950, 'dialogue': 2358, 'annotation': 641, 'raters': 7792, 'ntrain': 6684, 'retrain': 8117, 'taken': 9095, 'chatbot': 1431, 'nmodels': 6139, 'npresents': 6345, 'ncertificate': 5425, 'ndoctoral': 5631, 'selling': 8414, '695': 222, 'banners': 955, '28': 136, 'fiscal': 3228, '485': 181, 'philanthropy': 7247, 'unwavering': 9561, 'psychology': 7660, 'spm': 8738, 'naffirmative': 5229, 'npenn': 6289, 'nfosys': 5851, 'pythoninfosys': 7704, 'transferring': 9354, 'wanted': 9792, 'navigators': 5338, 'transformationsas': 9359, 'anchor': 628, 'evangelize': 2932, 'pursuits': 7693, 'rewarded': 8143, 'bellevue': 1000, 'travelu': 9386, 'qualificationsbasic': 7719, 'lieu': 4587, 'preferable': 7429, 'nlstm': 6084, 'knn': 4429, 'gcp': 3450, 'integer': 4151, 'constraint': 1827, 'analyticso': 620, 'managemento': 4761, 'segmentationo': 8397, 'assesses': 781, 'sticks': 8858, 'differentiators': 2373, 'outlined': 7015, 'usinfosys': 9598, 'outsourcing': 7027, 'internshipmongodb': 4216, 'dinners': 2394, 'broadway': 1165, 'nyc': 6821, 'sightseeing': 8525, 'speaker': 8701, 'fitting': 3232, 'autonomously': 893, 'nmongodb': 6144, 'troves': 9417, 'prescribe': 7453, 'nadobe': 5222, 'attribution': 851, 'nideal': 5949, 'sparse': 8698, 'hmm': 3764, 'asking': 766, 'immersed': 3915, 'freely': 3356, 'saying': 8287, 'blog': 1073, 'constellis': 1824, 'operators': 6945, 'academi': 303, 'amk9': 597, 'triple': 9409, 'canopy': 1275, 'olive': 6903, 'omniplex': 6909, 'centerra': 1371, 'edinburgh': 2658, 'procurement': 7539, 'c4i': 1228, 'crisis': 2034, 'africa': 492, 'reston': 8096, 'megacenter': 4896, 'nvalidate': 6759, 'gsa': 3614, 'fps': 3336, 'emergency': 2745, 'leso': 4551, 'responders': 8081, 'guard': 3620, 'occupant': 6860, 'elevators': 2720, 'dispatching': 2466, 'nprojects': 6374, 'nguard': 5898, 'ncall': 5401, 'removal': 7989, 'rexus': 8146, 'alarm': 536, 'demographics': 2249, 'zones': 10095, 'notes': 6246, 'delete': 2229, 'copies': 1932, 'ul': 9468, 'ncontacts': 5516, 'dispatcher': 2465, 'nexclude': 5773, 'delayed': 2227, 'nsend': 6525, 'emails': 2732, 'dispatch': 2464, 'nmegacenter': 6120, 'blotter': 1079, 'logging': 4662, 'nlog': 6080, 'stats': 8839, 'webrms': 9822, 'leims': 4543, 'mist': 5009, 'megan': 4897, 'moral': 5082, 'cornerstone': 1943, 'majority': 4745, 'augmented': 865, 'intimate': 4249, 'nrace': 6415, 'vet': 9695, 'umb': 9472, 'xbfs': 10046, 'atm': 824, 'pin': 7270, 'debit': 2182, 'cards': 1296, 'label': 4455, 'fraudulent': 3352, 'stringent': 8910, 'educationsome': 2673, 'completedtwo': 1691, 'experiencetwo': 3022, 'degreeanalytics': 2225, 'experienceapplied': 3014, 'analysisdemonstrates': 611, 'resultsadvanced': 8105, 'reportingdemonstrates': 8009, 'xbf': 10045, 'supervisiondemonstrates': 9008, 'environmentdemonstrates': 2856, 'naddress928': 5217, 'grand': 3571, 'blvd': 1083, 'nkansas': 6033, 'nstatemo': 6594, 'schedulemonday': 8310, '00am': 4, '00pm': 5, 'ndivision': 5628, 'nenterprise': 5711, 'unparalleled': 9547, 'nunique': 6731, 'spouse': 8752, 'ncommunity': 5481, 'dedicate': 2200, 'worthy': 9923, 'nculture': 5553, 'maybe': 4850, 'eng': 2800, 'mediation': 4884, 'literature': 4634, 'parametric': 7077, 'quasi': 7738, 'dyadic': 2604, 'sophistication': 8668, 'participant': 7090, 'empowerment': 2769, 'aspiring': 774, 'essentials': 2900, 'nudacity': 6710, 'payback': 7134, 'nmarketing': 6108, 'nforecasting': 5846, 'lgbtq': 4570, 'studying': 8934, 'crunch': 2051, 'datacenter': 2134, 'broadly': 1164, 'fleet': 3244, 'nbehind': 5363, 'voiding': 9760, 'warranties': 9798, 'apart': 669, 'lasting': 4483, 'kids': 4416, 'namikids': 5247, 'served': 8444, '136': 46, '1969': 79, 'amikids': 596, 'youth': 10081, 'positively': 7363, 'separating': 8437, 'troubled': 9413, 'honesty': 3788, 'affiliate': 482, 'institutes': 4132, 'distributing': 2491, 'comparison': 1665, 'sis': 8557, 'reoccurring': 7995, 'kid': 4415, 'indicator': 4008, 'conduction': 1761, 'comparing': 1664, 'nintroductory': 6013, 'juvenile': 4395, 'criminology': 2033, 'cdl': 1357, 'std': 8844, 'ayima': 920, 'nsummer': 6623, 'fridays': 3366, 'sun': 8997, 'njunior': 6032, 'immerse': 3914, 'determination': 2320, 'sharer': 8479, 'nanalyzing': 5259, 'nclient': 5450, 'ngaining': 5869, 'omniture': 6910, 'utm': 9614, 'formulas': 3315, 'vlookup': 9753, 'seo': 8434, 'breakfasts': 1142, 'sonos': 8665, 'nickelback': 5947, 'nbeer': 5360, 'fridge': 3367, 'bar': 956, 'nnintendo': 6174, 'worlds': 9919, 'forge': 3299, 'lauded': 4490, 'rsg': 8214, 'modelers': 5038, 'river': 8166, 'junction': 4385, 'vermont': 9685, 'reproducible': 8022, 'wrangling': 9926, 'landscapes': 4469, 'nefficient': 5680, 'ntransportation': 6691, '1b': 88, 'rsginc': 8215, 'inscape': 4108, 'vizio': 9752, 'automatic': 885, 'tvs': 9446, 'ninscape': 5987, 'unavailable': 9479, 'granularity': 3576, 'dash': 2123, 'x9cmake': 10003, 'dashboarding': 2125, 'polished': 7341, 'nenthusiastic': 5714, 'extreme': 3082, 'demeanor': 2246, 'nzywave': 6833, 'consult': 1833, 'broker': 1167, 'zywave': 10097, 'maps': 4788, '2008': 102, 'datastage': 2149, 'openx': 6932, 'petabyte': 7225, 'cut': 2104, 'talking': 9105, 'bagged': 945, 'boosted': 1103, 'nrapidly': 6421, 'nleveraging': 6056, 'nph': 6304, 'glance': 3513, 'nopenx': 6212, 'unleashing': 9536, 'screens': 8345, 'marketplaces': 4802, 'executors': 2984, 'fascinated': 3139, 'empathetic': 2750, 'bedrock': 985, 'remind': 7986, 'dies': 2366, 'reputations': 8025, 'openly': 6928, 'aggressively': 508, 'defensiveness': 2213, 'weaklings': 9817, 'internshipcheck': 4206, 'nready': 6425, 'cooper': 1921, 'alley': 558, 'determined': 2322, 'lending': 4545, 'candor': 1272, 'punch': 7679, 'clock': 1542, 'hole': 3773, 'nintern': 6002, 'mr': 5105, 'manger': 4769, 'x9cbusy': 9991, 'gaining': 3420, 'sttm': 8926, 'reverse': 8133, 'upcoming': 9563, 'geared': 3454, 'xa2gather': 10026, 'xa2work': 10031, 'xa2showcase': 10030, 'incredibly': 3990, 'technologically': 9152, 'xa2knowledge': 10028, 'understating': 9504, 'xa2hands': 10027, 'xa2preferred': 10029, 'equivalency': 2880, '2021': 116, 'concurrently': 1754, 'ndemonstration': 5585, 'nenergetic': 5699, 'michael': 4957, 'kors': 4442, 'activations': 373, 'downstream': 2553, 'draws': 2568, 'inconsistency': 3981, 'nexecutes': 5776, 'hourdata': 3811, 'hydromax': 3857, 'crews': 2027, 'inspection': 4114, 'overcoming': 7030, 'mentally': 4907, 'ngis': 5884, 'esri': 2896, 'arcmap': 728, '2003': 97, 'husa': 3853, 'locating': 4657, 'aging': 512, 'wastewater': 9804, 'conveyance': 1912, 'contractors': 1880, 'utility': 9607, 'rehabilitation': 7931, 'buried': 1207, 'coast': 1560, 'exception': 2961, 'broadest': 1163, 'nhydromax': 5942, 'handicap': 3649, 'ntogether': 6674, 'ncarrot': 5417, 'cigarette': 1472, 'smoking': 8610, 'preventable': 7477, 'fda': 3151, 'cleared': 1521, 'coaches': 1558, 'smartphone': 8604, 'njoining': 6029, 'formative': 3306, 'creators': 2019, 'carrot': 1314, 'instrumented': 4141, 'nfantastic': 5814, 'mixpanel': 5018, 'zendesk': 10087, 'keynote': 4412, 'developmental': 2333, 'trails': 9335, 'waterway': 9811, 'cafe': 1236, 'caltrain': 1256, 'shuttle': 8517, '101': 24, 'doxo': 2555, 'bills': 1041, 'mature': 4843, 'biller': 1037, 'directory': 2409, 'nrun': 6501, 'charting': 1427, 'graphing': 3581, 'facilitation': 3100, 'ncapacity': 5409, 'steward': 8854, 'nvalues': 6762, 'ntitle': 6671, 'nnature': 6161, 'nsupporting': 6630, 'quantitate': 7732, 'iqvia': 4304, 'merger': 4920, 'quintiles': 7754, 'flat': 3240, 'responds': 8082, 'transmission': 9373, 'layouts': 4508, 'customizations': 2101, 'nknowledgeable': 6042, 'reimagine': 7932, 'nqvia': 6413, 'niqvia': 6018, 'workday_recruiting': 9898, 'arrange': 742, 'r1071407': 7761, 'methodist': 4940, 'hm': 3760, 'cor': 1935, 'clinically': 1538, 'economically': 2644, 'crafted': 2002, 'council': 1974, 'givers': 3509, 'crafting': 2003, 'icare': 3868, 'npatient': 6284, 'progresses': 7581, 'hmh': 3762, 'nfinance': 5825, 'nquality': 6404, 'ngrowth': 5896, 'nconsults': 5514, 'implementable': 3929, 'arises': 733, 'md': 4860, 'settings': 8461, 'pertains': 7220, 'nsufficient': 6621, 'atlantic': 822, 'editorial': 2663, 'nguide': 5900, 'fundamentally': 3397, 'npreference': 6338, 'natlantic': 5318, 'nacross': 5201, 'pillar': 7267, 'aspirational': 770, 'intentions': 4172, 'nforce': 5844, 'consequence': 1801, 'nspirit': 6579, 'generosity': 3473, 'selfless': 8409, 'cloth': 1548, 'merits': 4925, 'forbearance': 3283, 'measuring': 4879, 'motive': 5093, 'productionizing': 7548, 'allocation': 560, 'prospecting': 7625, 'nbalance': 5353, 'swift': 9058, 'nhunger': 5941, 'nenthusiasm': 5713, '43': 175, '65': 215, 'yearunder': 10073, 'partakes': 7088, 'nenvironment': 5716, 'epidemiological': 2867, 'nprocesses': 6357, 'npartakes': 6274, 'nproduces': 6361, 'relations': 7949, 'nrepresents': 6464, 'nconfers': 5505, 'epidemiology': 2869, 'infection': 4028, 'biostatistics': 1051, 'communicable': 1642, 'cancer': 1268, 'asthma': 811, 'napplicant': 5269, 'diplomas': 2397, 'unofficial': 9545, 'advised': 460, 'claiming': 1493, 'dd214': 2170, 'nunless': 6735, 'stated': 8826, 'permitted': 7191, 'carrying': 1316, 'sitting': 8564, 'reaching': 7806, 'hazardous': 3684, 'bodily': 1091, 'fluids': 3266, 'infectious': 4029, 'interval': 4242, 'filed': 3192, 'sanantonio': 8264, 'careercenter': 1299, 'aspx': 775, 'nhuman': 5940, '78205': 233, 'n210': 5164, '207': 119, '8705': 250, 'nhrcustomerservice': 5937, '00805': 3, 'nepidemiologist': 5721, 'nlh': 6057, 'questionnaire': 7746, '539': 194, '86': 248, 'annually': 646, 'nagree': 5234, 'disagree': 2418, 'cosa': 1964, 'armed': 737, 'accrediting': 346, 'credits': 2025, 'beginner': 988, 'nhospital': 5933, 'nhanes': 5907, 'brfss': 1149, 'nlimited': 6067, 'pie': 7262, 'scatterplots': 8304, 'visually': 9748, 'appealing': 674, 'epidemiologist': 2868, 'nmorgan': 6150, 'nservices': 6530, 'securities': 8382, 'ninvestment': 6017, 'nbalances': 5354, 'lifestyles': 4592, 'ntechnology': 6648, 'morgan': 5083, 'redefine': 7875, 'nstanley': 6588, 'sizeable': 8568, 'nsystems': 6634, 'nsecurity': 6519, 'nworldwide': 6811, 'nclients': 5451, 'imit': 3910, 'nexclusively': 5774, 'msim': 5113, 'nportfolio': 6318, 'ncomponents': 5496, 'nrecommendation': 6433, 'nmining': 6133, 'xb7identify': 10042, 'nopportunity': 6219, 'nstructured': 6611, 'xb7': 10040, 'nyear': 6822, 'calculus': 1246, 'applicability': 680, 'nalgorithms': 5239, 'nmind': 6128, 'xb7experience': 10041, 'xb7knowledge': 10043, 'nof': 6192, 'nadvantages': 5225, 'ndistributions': 5625, 'nrandom': 6420, 'nquerying': 6411, 'ggplot': 3497, 'nplatforms': 6313, '190007ji': 68, 'centerpiece': 1370, 'telemetry': 9165, 'unlocks': 9541, 'ninja': 5983, 'transforms': 9361, 'v1': 9619, 'nthere': 6660, 'puzzle': 7699, 'nminimal': 6131, 'matrixed': 4840, 'nintellectually': 5995, 'variation': 9651, 'largely': 4479, 'njr': 6030, 'ncategory': 5420, 'arlington': 735, 'j0319': 4329, '2145': 122, 'ncgi': 5430, 'assimilation': 792, 'sdlc': 8353, 'nsecret': 6517, 'nrequirement': 6470, 'ntesting': 6653, 'nmomentum': 6142, 'financials': 3206, 'cgi': 1391, 'x94supporting': 9968, 'reinforces': 7937, 'referrals': 7897, 'nqualified': 6401, 'perceived': 7164, 'familial': 3124, 'mailbox': 4734, 'usemploymentcompliance': 9594, 'message': 4927, 'routed': 8206, 'recruiter': 7868, 'brainjolt': 1123, 'brainjoltmedia': 1124, 'nbrainjolt': 5379, 'quantcast': 7726, 'cleverness': 1528, 'smile': 8608, 'inducing': 4016, 'viral': 9722, 'quizzes': 7756, 'nhighlights': 5925, '22': 124, '20m': 120, 'nmagiquiz': 6091, 'mobiles': 5030, 'boasting': 1088, 'visitor': 9738, 'whopping': 9864, 'monster': 5072, 'possibly': 7370, 'fin': 3199, 'nspecifically': 6574, 'biased': 1026, 'draft': 2558, 'nstructure': 6610, 'bid': 1028, 'gds': 3452, 'gam': 3423, 'drama': 2561, 'dsps': 2590, 'ssps': 8775, 'dfp': 2348, 'nmeasurable': 6117, 'header': 3694, 'desks': 2309, 'nexpectations': 5784, 'ntroubleshooting': 6698, 'nmitigate': 6137, 'nthought': 6665, 'educate': 2668, 'greatly': 3590, 'boredom': 1109, 'nhome': 5931, 'ngym': 5902, 'nspotify': 6582, 'netflix': 5736, 'audible': 856, 'nmonthly': 6148, 'djw': 2508, 'soliciting': 8648, 'qualify': 7721, 'faa': 3091, 'amcd': 585, 'mmac': 5025, 'cami': 1260, 'certificates': 1384, 'effects': 2688, 'demographic': 2248, 'longitudinal': 4676, 'airman': 533, 'issuance': 4315, 'ames': 594, 'caci': 1234, 'therapies': 9224, 'limiting': 4606, 'aeromedical': 472, 'ndjw': 5629, 'nzillow': 6831, 'zillow': 10092, 'certainty': 1382, 'homeowners': 3782, 'sparing': 8693, 'absorbing': 293, 'segmented': 8398, 'methodologically': 4942, 'incrementality': 3992, 'academies': 306, 'shy': 8518, 'personas': 7210, 'cultivate': 2070, 'seasoned': 8366, 'terabyte': 9185, 'ingested': 4067, 'minimizes': 4990, 'misinterpretation': 5002, 'realistic': 7817, 'nget': 5882, 'preparations': 7445, 'njohnson': 6027, 'jci': 4336, 'nduration': 5650, 'nrising': 6495, 'nu': 6706, 'nduring': 5651, 'roundtable': 8204, 'networking': 5739, 'johnsoncontrols': 4354, 'tomorrowneedsyou': 9288, 'integrates': 4156, 'facilitates': 3098, 'npersons': 6302, 'ineligible': 4026, 'sister': 8559, 'notifications': 6251, 'kaplan': 4399, 'nconverse': 5529, 'exist': 2992, 'nsynthesize': 6633, 'nsound': 6568, 'nfirm': 5830, 'ninclusive': 5968, 'ncourageous': 5537, 'toolsets': 9301, 'srrs': 8767, 'slide': 8593, 'gemba': 3457, 'a3': 275, 'mdi': 4861, 'n00079': 5148, 'nkaplan': 6034, 'ratings': 7794, 'augmenting': 866, 'undertaken': 9506, 'linguistics': 4617, 'distributional': 2493, 'semantics': 8417, 'libsvm': 4578, 'shogun': 8497, 'cleartk': 1525, 'scalanlp': 8295, 'breeze': 1148, 'clearnlp': 1524, 'opennlp': 6930, 'nltk': 6085, 'ipython': 4303, 'lucene': 4712, 'graphlab': 3582, 'ndatabases': 5566, 'foremost': 3294, 'equips': 2877, 'seize': 8401, 'stimulating': 8859, 'unions': 9518, 'unemployment': 9509, 'forwarded': 3323, 'pdfdescribes': 7147, 'protections': 7635, 'takeaway': 9094, 'divisional': 2504, 'calculation': 1244, 'extractions': 3078, 'ndocumentation': 5633, 'majors': 4746, 'introduction': 4257, 'shareholders': 8477, 'amex': 595, 'module': 5057, 'orchestra': 6969, 'napplying': 5276, 'rigorious': 8160, 'reolve': 7996, 'performances': 7171, 'markov': 4806, 'nindependent': 5972, 'dialog': 2357, 'django': 2506, 'nreqid': 6468, '19004162': 72, 'ndate': 5567, 'stronger': 8917, 'founding': 3333, 'featured': 3160, 'harvard': 3676, 'pbs': 7142, 'newshour': 5760, 'techcrunch': 9142, 'outlets': 7012, 'nparadigm': 6272, 'dsr': 2591, 'ndefining': 5576, 'debug': 2184, 'scraped': 8338, 'econometric': 2641, 'bootcamps': 1106, 'observational': 6845, 'nsocial': 6561, 'ntools': 6677, 'version': 9689, 'finder': 3208, 'double': 2548, 'jumping': 4384, 'acknowledge': 356, 'mistake': 5010, 'ndetails': 5601, 'x8bthis': 9951, 'x8bwe': 9952, 'tonnes': 9290, 'ideation': 3881, 'approachable': 700, 'pockets': 7329, 'correlation': 1957, 'internshipwe': 4227, 'nintuitive': 6014, 'gdit': 3451, 'economics5': 2646, 'experienceproficiency': 3019, 'matlabexpertise': 4836, 'acquiring': 362, 'dataoutstanding': 2143, 'skillsexcellent': 8577, 'nwhere': 6795, 'quintuple': 7755, 'topline': 9304, 'scot': 8337, 'economists': 2648, 'statisticians': 8837, 'problemsimprove': 7523, 'parametersdirectly': 7076, 'systemsbuild': 9077, 'variancecollaborate': 9650, 'visualizationsexperience': 9744, 'environmentsexperience': 2858, 'languagesexperience': 4474, 'applicationsstrong': 686, 'pharmacies': 7237, 'n___________________________________________________________________________________': 5183, 'databank': 2130, 'fdb': 3152, 'ssms': 8774, 'nincludes': 5967, 'dart': 2122, 'tfs': 9213, 'nhandling': 5905, 'pharmacists': 7238, 'nany': 5266, 'runs': 8231, 'xml': 10053, 'php': 7252, 'n___________________________________________________________________________': 5182, 'nfdb': 5819, 'decades': 2186, 'fdbhealth': 3153, 'indianapolis': 4005, 'awarded': 909, 'honors': 3790, 'indy': 4023, 'specializes': 8712, 'neeo': 5675, 'pgh': 7233, 'charlestown': 1423, 'marc': 4791, 'cogniscient': 1569, 'marcusa': 4793, 'cogniscientmedia': 1570, 'yearjr': 10065, 'outpaced': 7019, 'lendr': 4547, 'guy': 3637, 'hoops': 3791, 'nsalesforce': 6506, 'nazure': 5344, 'nwhatever': 6793, 'ncompetence': 5486, 'indexes': 4002, 'organizationoutstanding': 6984, 'skillsproficiency': 8580, 'problemsms': 7524, 'degreeability': 2224, 'justify': 4394, 'technique': 9146, 'regularization': 7925, 'weighted': 9834, 'squares': 8764, 'censored': 1366, 'endogeneity': 2789, 'chart': 1425, 'nconceptualize': 5501, 'initiativesguide': 4081, 'recommending': 7851, 'resultsfunctionally': 8106, 'attitudeproven': 843, 'teamsexperience': 9136, 'partnershipphd': 7104, 'suplari': 9013, 'shine': 8492, 'light': 4597, 'manpower': 4775, 'clunky': 1552, 'nsuplari': 6628, 'nordstrom': 6226, '21st': 123, 'century': 1376, 'fox': 3335, 'tesla': 9199, 'aiming': 528, 'x9cshare': 10014, 'hq': 3824, '2000': 94, 'integrating': 4157, 'seeing': 8385, 'uploaded': 9575, 'normalization': 6234, 'categorization': 1339, 'unclean': 9483, 'credibility': 2022, 'nownership': 6269, 'nbeen': 5359, 'apptio': 713, 'skytap': 8586, 'iconclude': 3869, 'trulia': 9421, 'madrona': 4728, 'shasta': 8483, 'amplify': 604, 'sigma': 8526, 'interviewing': 4247, 'nliveintent': 6073, 'knit': 4428, 'ncontinually': 5519, 'dbs': 2166, 'kbs': 4401, 'tbs': 9123, 'inversely': 4268, 'lookml': 4680, 'beverages': 1021, 'nfamily': 5813, 'pilates': 7266, 'nsubsidized': 6617, 'softball': 8637, 'football': 3280, 'soccer': 8626, 'maternity': 4829, 'paternity': 7119, 'nbi': 5369, 'nbook': 5377, 'nlunch': 6087, 'learns': 4528, 'speakers': 8702, 'offsite': 6893, 'liveintent': 4638, 'simplest': 8543, 'superpower': 9004, 'ml1': 5021, 'nnewwave': 6169, 'modernize': 5050, 'newwave': 5765, 'began': 986, '2004': 98, 'nassemble': 5296, 'separated': 8435, 'dependency': 2267, 'disconnected': 2434, 'queuing': 7751, 'attained': 835, 'azkaban': 922, 'luigi': 4713, 'nresidency': 6476, 'lived': 4637, 'nexempt': 5780, 'closure': 1547, 'persuasion': 7217, '56': 197, '784': 235, 'yeardata': 10060, 'nschool': 6512, 'rc': 7801, 'pennsylvania': 7157, '19002353': 71, 'pittsburgh': 7281, 'radiology': 7765, 'psychiatric': 7657, 'molecular': 5061, 'pmod': 7328, 'neurochemical': 5743, 'abnormalities': 286, 'addictive': 400, 'nassignment': 5301, 'fulltime': 3385, 'programmer': 7575, 'ncampus': 5404, 'baccalaureate': 930, '30am': 147, 'nhiring': 5927, 'finalists': 3202, 'nchild': 5436, 'noptional': 6222, 'contracttitle': 1883, 'netezza': 5735, 'mpp': 5103, 'initio': 4083, 'nend': 5698, 'informational': 4053, 'microstrategy': 4961, 'lilly': 4602, 'liaison': 4573, 'nstewardship': 6601, 'pulls': 7675, 'nowner': 6268, 'unite': 9523, '39': 165, 'medicines': 4887, 'tn': 9279, 'nlilly': 6066, 'msword': 5116, 'pl': 7287, 'belt': 1003, 'nregionnorth': 6445, 'ncountry': 5536, 'nusa': 6744, 'ncityindianapolis': 5440, 'nindianapolis': 5974, 'nworkplace': 6808, 'arrangementlocal': 743, 'n19': 5157, 'jul': 4381, 'computation': 1723, 'scorecards': 8335, 'svp': 9053, 'evp': 2946, 'interruptions': 4239, 'chs': 1467, 'telephone': 9166, 'occasion': 6857, 'projectors': 7590, 'laptops': 4477, 'atrium': 829, 'carolinas': 1309, 'compassion': 1667, '900': 256, 'nposting': 6326, 'ncarolinas': 5416, 'yeardescription': 10061, 'nchesapeake': 5435, 'conservancy': 1804, 'annapolis': 639, 'maryland': 4811, 'chesapeake': 1445, 'watershed': 9810, 'fish': 3229, 'wildlife': 9871, 'waters': 9809, 'abundant': 300, 'wetlands': 9853, 'shorelines': 8505, 'acres': 365, 'vanishing': 9645, 'conserve': 1806, 'rivers': 8167, 'restore': 8098, 'park': 7084, 'foundations': 3329, 'conservation': 1805, 'nwithin': 6804, 'cic': 1471, 'restoration': 8097, 'habitat': 3640, 'incorporate': 3983, 'overseeing': 7034, 'supervisors': 9011, 'brainstorming': 1127, 'scientistwill': 8325, 'satellite': 8274, 'aerial': 471, 'imagery': 3903, 'lidar': 4583, 'ecological': 2638, 'unknowns': 9533, 'encountered': 2780, 'decks': 2194, 'funders': 3400, 'dependable': 2264, 'finite': 3221, 'nonlinear': 6206, 'cntk': 1557, 'nlive': 6072, 'relocate': 7975, 'knot': 4431, 'weddingwire': 9825, 'bodas': 1090, 'gigmasters': 3504, 'bump': 1202, 'milestones': 4972, 'couples': 1982, 'tkww': 9278, 'funnels': 3406, 'birst': 1054, 'nfront': 5859, 'respectfully': 8074, 'turned': 9441, 'persevere': 7198, 'x94in': 9961, 'nenters': 5712, 'aco': 358, 'recipients': 7839, 'nsubmits': 6616, 'auditing': 861, 'rosters': 8199, 'beaumont': 981, 'harris': 3675, 'birkhill': 1052, 'nobtains': 6189, 'presently': 7463, 'internationally': 4197, 'multidisciplinary': 5124, 'orthopaedic': 6998, 'arthritis': 749, 'surgery': 9032, 'brigham': 1152, 'authorship': 878, 'abstracts': 299, 'oracore': 6965, 'nprincipal': 6348, 'listings': 4632, 'resolves': 8064, 'codebooks': 1563, 'hectic': 3712, 'cv': 2106, 'nbrigham': 5383, 'unrelated': 9551, 'bwh': 1226, 'francis': 3347, '02115': 7, 'nrecruiting': 6439, 'orthopedics': 7000, 'unitedhealthcare': 9526, 'rise': 8162, 'gadget': 3417, 'sm': 8596, 'distinguish': 2486, 'assuring': 810, 'nproducing': 6362, 'predominately': 7427, 'tend': 9178, 'ncareers': 5415, 'doors': 2545, 'ndiversity': 5627, 'unitedhealth': 9525, 'nunitedhealth': 6734, 'usstratcom': 9602, 'commander': 1625, 'designated': 2297, 'nc3': 5398, 'se': 8356, 'ec': 2632, 'cohesive': 1573, 'compartmented': 1666, 'nc2': 5397, 'esi': 2893, 'nato': 5320, 'sar': 8271, 'nportland': 6319, 'ncambia': 5402, 'frictionless': 3364, 'fragmented': 3337, 'disposal': 2470, 'chatbots': 1432, 'diagnosis': 2352, 'ncluster': 5454, 'nintegrate': 5992, 'cambia': 1258, 'tokenization': 9284, 'expressions': 3062, 'corenlp': 1939, 'gensim': 3480, 'mallet': 4752, 'lingpipe': 4615, 'ctakes': 2065, 'theano': 9216, 'crf': 2028, 'maxent': 4845, 'lsi': 4708, 'neager': 5656, 'convex': 1910, 'carries': 1313, 'graphical': 3579, 'tackles': 9084, 'tries': 9404, 'storages': 8870, 'nadapt': 5209, 'exploit': 3047, 'nrecent': 6429, 'eighteen': 2701, 'nbroad': 5385, 'conception': 1735, 'kernel': 4408, 'ensemble': 2831, 'methodically': 4939, 'companywide': 1661, 'investigated': 4273, 'scatter': 8302, 'plots': 7321, 'influential': 4041, 'sectional': 8375, 'tobacco': 9281, 'beginnings': 990, 'afford': 488, 'guru': 3636, 'npromote': 6376, 'nexecution': 5778, 'dataminer': 2141, 'intermedia': 4190, 'prime': 7489, 'blended': 1064, 'x94combined': 9959, 'nrocky': 6498, 'hill': 3740, 'ct': 2064, 'naxians': 5342, 'redtoo': 7881, 'axians': 918, 'advisors': 463, 'npublish': 6391, 'intacct': 4149, 'npotential': 6327, 'contractcandidates': 1873, 'ods': 6872, 'edw': 2674, 'nresource': 6477, 'drivetime': 2581, 'periodically': 7181, 'nquantifying': 6407, 'nassessing': 5299, 'nvaluing': 6763, 'unseen': 9553, 'bids': 1030, 'auctions': 855, 'ins': 4105, 'nutilizing': 6752, 'calculates': 1242, 'ncuriosity': 5555, 'nwhen': 6794, 'meditech': 4889, 'cornwall': 1944, 'slch': 8590, 'campuses': 1266, 'newburgh': 5754, 'hudson': 3840, 'cardiac': 1294, 'stroke': 8915, 'orthopedic': 6999, 'oems': 6873, 'dealerships': 2177, 'camaraderie': 1257, 'coordinated': 1926, 'nlocal': 6075, 'eastern': 2623, 'naccurately': 5195, 'usps': 9601, 'sort': 8670, 'cass': 1327, 'ncoa': 5455, 'duplicate': 2597, 'conquest': 1796, 'mailable': 4733, 'uphold': 9571, 'evolves': 2944, 'grows': 3611, 'punctual': 7680, 'onsite': 6920, 'salaried': 8249, 'nnext': 6171, 'perfect': 7166, 'internshipc3': 4205, 'c3': 1227, 'abstraction': 296, '10x': 30, '100x': 23, 'tweak': 9447, 'nsmart': 6556, 'kitchen': 4421, 'tennis': 9180, 'evening': 2934, 'drink': 2574, 'accolade': 324, 'noperates': 6213, 'fixes': 3235, 'turns': 9444, 'performant': 7172, 'illustrated': 3900, 'grasps': 3586, 'skillful': 8574, 'nthrives': 6668, 'norm': 6232, 'enduring': 2792, 'joy': 4369, 'nmaking': 6100, 'ntrusting': 6700, 'boldly': 1094, 'knock': 4430, 'strategical': 8885, 'pda': 7144, 'introduce': 4255, 'cleansed': 1515, 'trouble': 9412, 'shoots': 8499, 'ssdt': 8771, 'nrdbms': 6423, 'ssis': 8773, 'nftp': 5860, 'dmexpress': 2511, 'talend': 9098, 'mc1': 4855, 'nzeta': 6830, 'steinberg': 8847, 'john': 4352, 'sculley': 8352, 'cola': 1576, '2007': 101, 'zetahub': 10089, 'february': 3163, 'multichannel': 5121, 'noperating': 6214, 'continents': 1860, 'hyderabad': 3856, 'relevancy': 7961, '4th': 185, 'milliman': 4974, 'actuaries': 383, 'licensing': 4582, 'lapse': 4476, 'mortality': 5085, 'nmilliman': 6127, '1947': 77, 'x94senior': 9966, 'era': 2883, 'ncyber': 5559, 'breach': 1135, 'ncode': 5457, 'nrisk': 6496, 'nbehaviors': 5362, 'split': 8736, 'chemometric': 1442, 'nappropriately': 5280, 'annotates': 640, 'ksa': 4448, 'sequence': 8439, 'nsupervisory': 6627, 'emergencies': 2744, 'incumbents': 3995, 'fixed': 3233, 'route': 8205, 'ncombining': 5469, 'ntd': 6641, 'geography': 3489, 'ndepartmental': 5589, 'packagesexperience': 7054, 'industrystrong': 4022, 'spreadsheetsexperience': 8756, '09': 15, '07': 13, 'et': 2909, 'remaining': 7981, 'partially': 7089, 'arra': 741, 'stimulus': 8860, 'monies': 5068, 'nproposed': 6382, '01': 6, 'naa': 5185, 'nnc': 6162, '919': 259, '515': 192, '3148': 151, 'offender': 6877, 'verified': 9681, 'wes': 9847, 'shaw': 8484, 'richness': 8152, 'fosters': 3326, 'dan': 2118, 'lavender': 4495, 'nshaw': 6538, 'missed': 5004, 'cable': 1231, 'b2c': 926, 'maximization': 4846, 'accomplishment': 332, 'colorado': 1600, 'expenses': 3011, 'amer': 589, 'needing': 5672, 'wins': 9879, 'selflessly': 8410, 'digger': 2381, 'actually': 381, 'sees': 8393, 'unafraid': 9475, 'admit': 430, 'nsift': 6544, 'initial': 4072, 'brainstorms': 1128, 'investigating': 4275, 'bime': 1042, 'gooddata': 3537, 'funnel': 3405, 'mqls': 5104, 'arr': 740, 'scales': 8298, 'startups': 8823, 'ninterested': 5999, 'nzendesk': 6829, 'agree': 514, 'explains': 3042, 'ncaci': 5400, 'nrestore': 6485, 'tapes': 9110, 'nload': 6074, 'audio': 859, 'atos': 827, 'societas': 8632, 'europaea': 2920, 'forma': 3301, 'circa': 1474, 'x82': 9948, '72': 226, 'worldline': 9918, 'natos': 5321, 'powers': 7400, 'olympic': 6905, 'paralympic': 7073, 'euronext': 2919, 'paris': 7083, 'worldgrid': 9917, 'bull': 1201, 'unify': 9515, 'competences': 1674, 'nselecting': 6522, 'nextending': 5799, 'nenhancing': 5704, 'ndoing': 5636, 'dataviz': 2152, 'cloudera': 1550, 'hortonworks': 3797, 'mapr': 4786, 'oozie': 6923, 'rtf': 8220, 'colour': 1602, '68': 219, 'hourcontractthe': 3810, 'documented': 2524, 'simultaneous': 8551, 'urgent': 9582, 'n30': 5167, 'nclear': 5444, 'nincredible': 5970, 'nhr': 5936, 'internshipbrightstart': 4204, 'lawrenceville': 4500, 'brightree': 1155, 'hme': 3761, 'hospice': 3798, 'reimbursements': 7935, 'equipping': 2876, 'orthotic': 7001, 'prosthetic': 7630, 'infusion': 4064, 'nreduce': 6441, 'df1': 2347, 'sponsorships': 8745, 'nvictorious': 6769, 'victorious': 9706, 'x9ctranslate': 10018, 'simplified': 8545, 'nhandle': 5904, 'tag': 9091, 'console': 1819, 'nkeen': 6036, 'ndashboard': 5562, 'nrelentless': 6452, 'ngiving': 5885, 'upholds': 9573, 'inherent': 4070, 'trait': 9341, 'nradical': 6416, 'horizontally': 3796, 'vertically': 9693, 'nempowering': 5695, 'x9cit': 9998, 'perfecting': 7167, 'devours': 2344, 'daring': 2121, 'discernment': 2422, 'strongest': 8918, 'nescape': 5728, 'rat': 7789, 'historic': 3749, 'showplace': 8514, 'square': 8762, 'capitalists': 1284, 'x9crunway': 10012, 'x9cmvp': 10004, 'exit': 2995, 'worrying': 9921, 'shutting': 8516, 'myriad': 5145, 'muni': 5138, 'michelin': 4958, 'starred': 8815, 'nightlife': 5957, 'soma': 8664, 'commute': 1654, 'nvictoriousseo': 6770, 'victoriousseo': 9707, 'nretailnext': 6489, 'thriving': 9248, 'retailnext': 8112, 'glean': 3515, 'cleanliness': 1513, 'npowerpivot': 6329, 'powerquery': 7399, 'gcdo': 3449, 'roc': 8178, 'observer': 6847, 'relishes': 7974, 'sn1': 8614, 'llp': 4646, 'competitors': 1681, 'questionnaires': 7747, 'separately': 8436, 'composites': 1711, 'nfactset': 5810, 'nharvard': 5908, 'continuity': 1868, 'disaster': 2420, 'abbott': 279, 'diagnostics': 2354, 'nutritionals': 6755, 'branded': 1132, 'generic': 3472, '103': 25, '160': 57, 'pqe': 7405, 'pqa': 7404, 'surveillance': 9038, 'ndrafting': 5641, 'nescalating': 5727, 'regulated': 7927, 'spin': 8733, 'nspin': 6578, 'scooters': 8330, 'planners': 7297, 'elected': 2708, 'stationless': 8833, 'orchestrated': 6970, 'combinator': 1610, 'scooter': 8329, 'coral': 1936, 'gables': 3416, 'lexington': 4567, 'detroit': 2325, 'embeds': 2737, 'neighborhoods': 5687, 'hires': 3744, 'infoemd': 4045, 'finely': 3212, 'overhead': 7031, 'ndaily': 5560, 'cellphone': 1364, 'stipend': 8861, 'lindquist': 4609, 'personable': 7202, 'obligations': 6844, 'nafter': 5230, 'auditors': 862, 'nreliable': 6455, 'nfrequent': 5857, 'infrequent': 4062, 'sacramento': 8236, 'stockton': 8866, 'nlindquist': 6068, '82': 239, 'clearwater': 1526, 'solves': 8661, 'explores': 3052, 'blockchain': 1069, 'custodian': 2094, 'seemingly': 8391, 'nclearwater': 5447, 'surroundings': 9037, 'hasn': 3678, 'nchanging': 5432, 'nleading': 6048, 'ndemonstrating': 5584, 'engineered': 2809, 'regence': 7911, 'nemployer': 5692, 'nflex': 5834, 'ncentral': 5424, 'upload': 9574, 'selects': 8406, 'adapts': 396, 'anticipates': 660, 'exceptionally': 2963, 'measured': 4874, '202': 114, 'yearworks': 10075, 'johns': 4353, 'hopkins': 3793, 'benchmarking': 1006, 'educates': 2669, 'acquired': 360, 'cogito': 1568, 'caboodle': 1232, 'nsitting': 6549, 'nclassified': 5442, 'atp': 828, 'pb': 7141, 'nstarting': 6592, '10003093': 20, 'ped': 7150, 'npersonnel': 6301, 'jhurecruitment': 4346, 'jhu': 4345, 'tty': 9431, 'relay': 7954, 'dial': 2356, '711': 225, 'provisions': 7653, 'accordingly': 336, 'influenza': 4042, 'flu': 3261, 'season': 8364, 'vaccination': 9625, 'laboratories': 4458, 'subjects': 8944, 'immune': 3918, 'rubella': 8223, 'german': 3492, 'measles': 4871, 'rubeola': 8224, 'mumps': 5135, 'varicella': 9653, 'chickenpox': 1449, 'hepatitis': 3722, 'tdap': 9126, 'tetanus': 9205, 'diphtheria': 2395, 'pertussis': 7222, 'mmr': 5026, 'vaccines': 9628, 'antibody': 657, 'immunities': 3919, 'ordinarily': 6977, 'immunization': 3920, 'vaccinations': 9626, 'occupational': 6862, 'updated': 9565, 'www1': 9938, 'eeoc': 2679, 'eeoc_self_print_poster': 2680, 'hrnt': 3830, 'cfm': 1390, '2012': 106, 'obama': 6836, 'reliantly': 7967, 'transparently': 9376, 'nbelow': 5364, 'discuss': 2453, 'strategists': 8889, '2020': 115, 'election': 2709, 'incubate': 3993, 'stan': 8797, 'naccurate': 5194, 'nprompt': 6378, 'insures': 4146, 'omphalos': 6911, 'npush': 6396, 'ease': 2620, 'fingerprints': 3215, 'ezcater': 3088, 'greenhouse': 3593, 'io': 4296, 'catering': 1344, '23': 127, '8m': 254, '60k': 210, 'caterers': 1343, 'superbly': 9001, 'iconiq': 3871, 'wellington': 9844, '2b': 138, 'surely': 9027, 'elevating': 2719, 'ezdispatch': 3089, 'ndive': 5626, 'clamor': 1495, 'nquantify': 6406, 'nadd': 5213, 'champions': 1403, 'weeds': 9827, 'ncommunicative': 5479, 'straightforward': 8882, 'kick': 4414, 'shortage': 8507, 'hone': 3786, 'nalso': 5242, 'sane': 8267, 'noh': 6196, 'eat': 2625, 'subsidized': 8961, 'passes': 7111, 'smack': 8597, 'dab': 2115, 'wicked': 9866, 'goodies': 3539, 'rocket': 8182, 'moon': 5081, 'nezcater': 5805, 'jerks': 4342, '19000c1k': 70, 'unusually': 9560, 'encounter': 2779, 'discounting': 2436, 'unpredictable': 9549, 'styles': 8938, 'uncommon': 9485, 'enjoyment': 2823, 'postgraduate': 7375, 'nconsistency': 5511, 'nrobust': 6497, 'predicted': 7421, 'adaptations': 393, 'npost': 6324, 'doctoral': 2520, 'dataops': 2142, 'gaussian': 3445, 'mcmc': 4858, 'summarization': 8989, 'mxnet': 5143, 'torch': 9305, 'ranges': 7779, 'modelled': 5041, 'internshipupper': 4226, 'escape': 2891, 'vortex': 9768, 'simplifies': 8546, 'articulates': 754, 'nqueries': 6409, 'nadvises': 5227, 'nconsiders': 5510, 'reproducibility': 8021, 'nfinancial': 5826, 'jan': 4330, '114182628': 35, 'napple': 5268, 'confronted': 1786, 'staggering': 8789, 'pois': 7333, 'ncommercial': 5473, 'poi': 7330, 'nexperiences': 5789, 'duping': 2596, 'timeqxbranch': 9267, 'qxbranch': 7760, 'nprototype': 6384, 'norganize': 6231, 'curate': 2079, 'ncontinue': 5520, 'portions': 7355, 'maintainable': 4737, 'specializations': 8709, 'cuda': 2069, 'initiation': 4076, 'da': 2114, 'predictable': 7420, 'hc1': 3686, 'nhl7': 5929, 'sdm': 8354, 'ntech': 6644, 'nweb': 6784, 'nhc1': 5913, 'improves': 3954, 'payors': 7139, 'harms': 3670, 'eliminating': 2725, 'wasteful': 9803, 'glimpse': 3517, 'hc1dotcom': 3687, 'internshipit': 4213, 'wild': 9870, 'achievers': 354, 'systemic': 9075, 'uncommongoods': 9486, 'nuncommongoods': 6723, 'jsp': 4375, 'utm_medium': 9615, 'utm_source': 9616, 'cool': 1920, 'bios': 1050, 'ncarry': 5418, 'nresume': 6487, 'ncover': 5539, 'optional': 6962, 'internshiprifiniti': 4221, 'sofia': 8635, 'bulgaria': 1199, 'ukraine': 9467, 'leased': 4530, 'infrastructures': 4061, 'disprove': 2472, 'dataxpander': 2153, 'inovalon': 4097, 'intervention': 4244, 'tea': 9128, 'executions': 2981, 'called': 1250, 'channeling': 1410, 'noversees': 6264, 'natleast': 5319, 'unlocking': 9540, 'secrets': 8373, 'nempower': 5694, 'booz': 1107, 'allen': 556, 'bowl': 1117, 'x94the': 9969, 'nparticipation': 6278, 'nvidia': 6771, 'dli': 2510, '5000': 188, 'npossession': 6323, 'nma': 6089, 'x94no': 9965, 'fearlessly': 3156, 'nurt1': 6740, 'nbyl': 5395, 'retrieved': 8122, 'ncompleting': 5492, 'reconciliations': 7857, 'reconcilable': 7853, 'item': 4320, 'yeargcc': 10062, '1997': 86, 'oakland': 6835, 'hubzone': 3838, 'gcc': 3448, 'iso': 4311, 'certified': 1387, '9001': 257, 'ngcc': 5874, 'bpa': 1121, 'released': 7956, 'ree': 7886, 'deputy': 2283, 'reeta': 7890, 'intranet': 4251, 'inactivating': 3958, 'discriminatory': 2452, 'intersecting': 4240, 'incidents': 3965, 'inclination': 3968, 'mayors': 4851, 'governors': 3552, 'chiefs': 1451, 'ndistilling': 5621, 'nenjoys': 5705, 'ncitizen': 5438, 'yeargrowing': 10063, 'confirming': 1777, 'ncharge': 5433, 'charges': 1420, 'vlookups': 9754, 'roth': 8202, 'nguardian': 5899, 'debt': 2183, 'relief': 7969, 'steady': 8845, 'guardian': 3621, 'adcenter': 397, 'guardiandebtrelief': 3622, '400': 170, 'deepening': 2206, 'quantifying': 7731, '200046821': 96, 'itunes': 4327, 'uml': 9473, 'factless': 3106, 'temporal': 9171, 'noverall': 6261, 'tiered': 9256, 'inherently': 4071, 'capturing': 1290, 'epms': 2870, 'suspension': 9044, 'transcription': 9348, 'mpi': 5102, 'duplicates': 2598, 'merges': 4921, 'unmerges': 9543, 'belongs': 1002, 'identifier': 3884, 'nlicensure': 6061, 'hpf': 3823, 'greenway': 3596, 'inappropriate': 3960, 'abbreviations': 280, 'backs': 940, 'surgical': 9033, 'ambulatory': 584, 'doctors': 2521, 'decline': 2196, 'signature': 8530, 'queues': 7750, 'sent': 8431, 'adi': 415, 'queue': 7749, 'stockamp': 8864, 'migrate': 4966, 'brrh': 1176, 'mrn': 5108, 'elimination': 2726, 'creations': 2015, 'suggested': 8979, 'cleanup': 1517, 'ncontributor': 5528, 'infraction': 4059, 'nrecognize': 6430, 'nexhibit': 5782, 'phi': 7245, 'delinquent': 2233, 'promptness': 7602, 'nlinking': 6069, 'manually': 4777, 'nmerging': 6124, 'man': 4754, 'evacuation': 2924, 'restrictions': 8101, 'instituted': 4131, 'vaccine': 9627, '561': 198, '955': 265, '4075': 173, 'truemotion': 9420, 'acceptability': 313, 'incongruences': 3978, 'notifying': 6253, 'dictionaries': 2361, 'infogram': 4046, 'incongruencies': 3979, 'lift': 4594, 'nfeel': 5821, 'distracted': 2487, 'ntouch': 6680, 'toes': 9283, 'nburn': 5392, 'calories': 1254, 'waterfront': 9808, 'afternoon': 495, 'sox': 8685, 'esplanade': 2895, 'lower': 4699, 'solvable': 8656, 'pun': 7678, 'band': 951, 'fort': 3318, 'ntruemotion': 6699, 'lakestar': 4465, 'houras': 3809, 'nenrolled': 5706, 'nphysics': 6307, 'tour': 9315, 'nattending': 5323, 'kernels': 4409, 'bear': 979, 'quantifind': 7729, 'nquantifind': 6405, 'explanatory': 3044, 'vertical': 9692, 'crimes': 2031, 'dimension': 2387, 'nreal': 6426, 'latent': 4486, 'dirichlet': 2411, 'lsa': 4705, 'menlo': 4904, 'strives': 8913, 'dss': 2592, 'gauge': 3444, 'proctor': 7537, 'randomized': 7777, 'controlled': 1896, 'ocular': 6869, 'blindness': 1067, 'relied': 7968, 'correlates': 1956, 'gradually': 3562, 'nproctor': 6359, 'ophthalmology': 6946, 'ucsf': 9460, 'inflammatory': 4036, 'professions': 7560, 'exclusively': 2973, 'stacks': 8782, 'gbm': 3447, 'naccountabilities': 5192, 'parse': 7086, 'noperational': 6215, 'nsolutions': 6564, 'ndetection': 5603, 'nanalyst': 5252, 'nregression': 6446, 'namount': 5248, 'nanomalies': 5263, 'morganstanley': 5084, 'careersearch': 1301, 'scroll': 8349, '3127828': 150, 'x9cjob': 9999, 'x9csearch': 10013, 'transformational': 9357, 'marry': 4808, 'filter': 3197, 'npack': 6270, 'softvision': 8639, 'acknowledgement': 357, 'pledges': 7317, 'constituent': 1825, 'mcw': 4859, 'gift': 3501, 'deposits': 2280, 'nanswer': 5264, 'donor': 2543, 'accountant': 341, 'shooting': 8498, 'nspecifications': 6575, 'raisers': 7770, 'ncertification': 5427, 'yr': 10083, 'melissa': 4898, 'climate': 1534, '201': 103, '1100': 32, '94103': 262, 'speaks': 8704, 'contexts': 1857, 'chen': 1443, 'angrist': 634, 'castillo': 1330, 'x9csurge': 10016, 'goose': 3542, 'chase': 1429, 'earnings': 2617, 'virtues': 9727, 'timethe': 9269, 'nittany': 6022, 'alliance': 559, 'psu': 7656, 'enhances': 2818, 'penn': 7155, 'marketable': 4797, 'unsolved': 9555, 'nontechnical': 6210, 'infer': 4030, 'asap': 761, 'el': 2703, 'segundo': 8400, 'nsolve': 6565, 'failures': 3117, 'broadcast': 1161, 'outages': 7004, 'highcharts': 3733, 'matillion': 4834, 'yearworking': 10074, 'nebraska': 5661, 'lincoln': 4608, 'eo': 2864, 'unl': 9534, 'cooperatively': 1924, 'substances': 8964, 'cordell': 1937, 'ncordell': 5533, 'liberates': 4574, 'ndraw': 5642, 'processed': 7532, 'smaller': 8599, 'dba': 2165, 'ngoes': 5887, 'nstaying': 6599, 'narchitecting': 5283, 'nfinding': 5828, 'bench': 1004, 'marking': 4805, 'ncollaboration': 5462, 'consolidation': 1821, 'corridor': 1961, 'internshipelement': 4210, 'element': 2716, 'nsmarts': 6557, 'pick': 7260, 'nagility': 5233, 'nflexibility': 5835}\n"
          ],
          "name": "stdout"
        }
      ]
    },
    {
      "metadata": {
        "id": "jIK1tOOPrhAn",
        "colab_type": "code",
        "colab": {
          "base_uri": "https://localhost:8080/",
          "height": 34
        },
        "outputId": "b89c66fa-c687-4776-bad9-f373df0a647d"
      },
      "cell_type": "code",
      "source": [
        "len(vectorizer.vocabulary_)"
      ],
      "execution_count": 39,
      "outputs": [
        {
          "output_type": "execute_result",
          "data": {
            "text/plain": [
              "10098"
            ]
          },
          "metadata": {
            "tags": []
          },
          "execution_count": 39
        }
      ]
    },
    {
      "metadata": {
        "id": "ZA10aW0YrqUy",
        "colab_type": "code",
        "colab": {
          "base_uri": "https://localhost:8080/",
          "height": 270
        },
        "outputId": "bde175e7-f756-46dc-a4ad-15156006f1f5"
      },
      "cell_type": "code",
      "source": [
        "train_word_counts = vectorizer.transform(X_train)\n",
        "\n",
        "X_train_vectorized = pd.DataFrame(train_word_counts.toarray(), columns=vectorizer.get_feature_names())\n",
        "\n",
        "print(X_train_vectorized.shape)\n",
        "X_train_vectorized.head()"
      ],
      "execution_count": 40,
      "outputs": [
        {
          "output_type": "stream",
          "text": [
            "(400, 10098)\n"
          ],
          "name": "stdout"
        },
        {
          "output_type": "execute_result",
          "data": {
            "text/html": [
              "<div>\n",
              "<style scoped>\n",
              "    .dataframe tbody tr th:only-of-type {\n",
              "        vertical-align: middle;\n",
              "    }\n",
              "\n",
              "    .dataframe tbody tr th {\n",
              "        vertical-align: top;\n",
              "    }\n",
              "\n",
              "    .dataframe thead th {\n",
              "        text-align: right;\n",
              "    }\n",
              "</style>\n",
              "<table border=\"1\" class=\"dataframe\">\n",
              "  <thead>\n",
              "    <tr style=\"text-align: right;\">\n",
              "      <th></th>\n",
              "      <th>00</th>\n",
              "      <th>000</th>\n",
              "      <th>00011236</th>\n",
              "      <th>00805</th>\n",
              "      <th>00am</th>\n",
              "      <th>00pm</th>\n",
              "      <th>01</th>\n",
              "      <th>02115</th>\n",
              "      <th>03</th>\n",
              "      <th>0356</th>\n",
              "      <th>...</th>\n",
              "      <th>zero</th>\n",
              "      <th>zetahub</th>\n",
              "      <th>zeus</th>\n",
              "      <th>zheng</th>\n",
              "      <th>zillow</th>\n",
              "      <th>zoho</th>\n",
              "      <th>zone</th>\n",
              "      <th>zones</th>\n",
              "      <th>zoom</th>\n",
              "      <th>zywave</th>\n",
              "    </tr>\n",
              "  </thead>\n",
              "  <tbody>\n",
              "    <tr>\n",
              "      <th>0</th>\n",
              "      <td>0</td>\n",
              "      <td>0</td>\n",
              "      <td>0</td>\n",
              "      <td>0</td>\n",
              "      <td>0</td>\n",
              "      <td>0</td>\n",
              "      <td>0</td>\n",
              "      <td>0</td>\n",
              "      <td>0</td>\n",
              "      <td>0</td>\n",
              "      <td>...</td>\n",
              "      <td>0</td>\n",
              "      <td>0</td>\n",
              "      <td>0</td>\n",
              "      <td>0</td>\n",
              "      <td>0</td>\n",
              "      <td>0</td>\n",
              "      <td>0</td>\n",
              "      <td>0</td>\n",
              "      <td>0</td>\n",
              "      <td>0</td>\n",
              "    </tr>\n",
              "    <tr>\n",
              "      <th>1</th>\n",
              "      <td>0</td>\n",
              "      <td>0</td>\n",
              "      <td>0</td>\n",
              "      <td>0</td>\n",
              "      <td>0</td>\n",
              "      <td>0</td>\n",
              "      <td>0</td>\n",
              "      <td>0</td>\n",
              "      <td>0</td>\n",
              "      <td>0</td>\n",
              "      <td>...</td>\n",
              "      <td>0</td>\n",
              "      <td>0</td>\n",
              "      <td>0</td>\n",
              "      <td>0</td>\n",
              "      <td>0</td>\n",
              "      <td>0</td>\n",
              "      <td>0</td>\n",
              "      <td>0</td>\n",
              "      <td>0</td>\n",
              "      <td>0</td>\n",
              "    </tr>\n",
              "    <tr>\n",
              "      <th>2</th>\n",
              "      <td>0</td>\n",
              "      <td>2</td>\n",
              "      <td>0</td>\n",
              "      <td>0</td>\n",
              "      <td>0</td>\n",
              "      <td>0</td>\n",
              "      <td>0</td>\n",
              "      <td>0</td>\n",
              "      <td>0</td>\n",
              "      <td>0</td>\n",
              "      <td>...</td>\n",
              "      <td>0</td>\n",
              "      <td>0</td>\n",
              "      <td>0</td>\n",
              "      <td>0</td>\n",
              "      <td>0</td>\n",
              "      <td>0</td>\n",
              "      <td>0</td>\n",
              "      <td>0</td>\n",
              "      <td>0</td>\n",
              "      <td>0</td>\n",
              "    </tr>\n",
              "    <tr>\n",
              "      <th>3</th>\n",
              "      <td>0</td>\n",
              "      <td>0</td>\n",
              "      <td>0</td>\n",
              "      <td>0</td>\n",
              "      <td>0</td>\n",
              "      <td>0</td>\n",
              "      <td>0</td>\n",
              "      <td>0</td>\n",
              "      <td>0</td>\n",
              "      <td>0</td>\n",
              "      <td>...</td>\n",
              "      <td>0</td>\n",
              "      <td>0</td>\n",
              "      <td>0</td>\n",
              "      <td>0</td>\n",
              "      <td>0</td>\n",
              "      <td>0</td>\n",
              "      <td>0</td>\n",
              "      <td>0</td>\n",
              "      <td>0</td>\n",
              "      <td>0</td>\n",
              "    </tr>\n",
              "    <tr>\n",
              "      <th>4</th>\n",
              "      <td>0</td>\n",
              "      <td>1</td>\n",
              "      <td>0</td>\n",
              "      <td>0</td>\n",
              "      <td>0</td>\n",
              "      <td>0</td>\n",
              "      <td>0</td>\n",
              "      <td>0</td>\n",
              "      <td>0</td>\n",
              "      <td>0</td>\n",
              "      <td>...</td>\n",
              "      <td>0</td>\n",
              "      <td>0</td>\n",
              "      <td>0</td>\n",
              "      <td>0</td>\n",
              "      <td>0</td>\n",
              "      <td>0</td>\n",
              "      <td>0</td>\n",
              "      <td>0</td>\n",
              "      <td>0</td>\n",
              "      <td>0</td>\n",
              "    </tr>\n",
              "  </tbody>\n",
              "</table>\n",
              "<p>5 rows × 10098 columns</p>\n",
              "</div>"
            ],
            "text/plain": [
              "   00  000  00011236  00805  00am  00pm  01  02115  03  0356  ...  zero  \\\n",
              "0   0    0         0      0     0     0   0      0   0     0  ...     0   \n",
              "1   0    0         0      0     0     0   0      0   0     0  ...     0   \n",
              "2   0    2         0      0     0     0   0      0   0     0  ...     0   \n",
              "3   0    0         0      0     0     0   0      0   0     0  ...     0   \n",
              "4   0    1         0      0     0     0   0      0   0     0  ...     0   \n",
              "\n",
              "   zetahub  zeus  zheng  zillow  zoho  zone  zones  zoom  zywave  \n",
              "0        0     0      0       0     0     0      0     0       0  \n",
              "1        0     0      0       0     0     0      0     0       0  \n",
              "2        0     0      0       0     0     0      0     0       0  \n",
              "3        0     0      0       0     0     0      0     0       0  \n",
              "4        0     0      0       0     0     0      0     0       0  \n",
              "\n",
              "[5 rows x 10098 columns]"
            ]
          },
          "metadata": {
            "tags": []
          },
          "execution_count": 40
        }
      ]
    },
    {
      "metadata": {
        "id": "Y7nxlXLfvdaB",
        "colab_type": "code",
        "colab": {
          "base_uri": "https://localhost:8080/",
          "height": 270
        },
        "outputId": "44b57375-8a2e-4aed-e3ed-a3d1b6ca454a"
      },
      "cell_type": "code",
      "source": [
        "test_word_counts = vectorizer.transform(X_test)\n",
        "\n",
        "X_test_vectorized = pd.DataFrame(test_word_counts.toarray(), columns=vectorizer.get_feature_names())\n",
        "\n",
        "print(X_test_vectorized.shape)\n",
        "X_test_vectorized.head()"
      ],
      "execution_count": 42,
      "outputs": [
        {
          "output_type": "stream",
          "text": [
            "(100, 10098)\n"
          ],
          "name": "stdout"
        },
        {
          "output_type": "execute_result",
          "data": {
            "text/html": [
              "<div>\n",
              "<style scoped>\n",
              "    .dataframe tbody tr th:only-of-type {\n",
              "        vertical-align: middle;\n",
              "    }\n",
              "\n",
              "    .dataframe tbody tr th {\n",
              "        vertical-align: top;\n",
              "    }\n",
              "\n",
              "    .dataframe thead th {\n",
              "        text-align: right;\n",
              "    }\n",
              "</style>\n",
              "<table border=\"1\" class=\"dataframe\">\n",
              "  <thead>\n",
              "    <tr style=\"text-align: right;\">\n",
              "      <th></th>\n",
              "      <th>00</th>\n",
              "      <th>000</th>\n",
              "      <th>00011236</th>\n",
              "      <th>00805</th>\n",
              "      <th>00am</th>\n",
              "      <th>00pm</th>\n",
              "      <th>01</th>\n",
              "      <th>02115</th>\n",
              "      <th>03</th>\n",
              "      <th>0356</th>\n",
              "      <th>...</th>\n",
              "      <th>zero</th>\n",
              "      <th>zetahub</th>\n",
              "      <th>zeus</th>\n",
              "      <th>zheng</th>\n",
              "      <th>zillow</th>\n",
              "      <th>zoho</th>\n",
              "      <th>zone</th>\n",
              "      <th>zones</th>\n",
              "      <th>zoom</th>\n",
              "      <th>zywave</th>\n",
              "    </tr>\n",
              "  </thead>\n",
              "  <tbody>\n",
              "    <tr>\n",
              "      <th>0</th>\n",
              "      <td>0</td>\n",
              "      <td>0</td>\n",
              "      <td>0</td>\n",
              "      <td>0</td>\n",
              "      <td>0</td>\n",
              "      <td>0</td>\n",
              "      <td>0</td>\n",
              "      <td>0</td>\n",
              "      <td>0</td>\n",
              "      <td>0</td>\n",
              "      <td>...</td>\n",
              "      <td>0</td>\n",
              "      <td>0</td>\n",
              "      <td>0</td>\n",
              "      <td>0</td>\n",
              "      <td>0</td>\n",
              "      <td>0</td>\n",
              "      <td>0</td>\n",
              "      <td>0</td>\n",
              "      <td>0</td>\n",
              "      <td>0</td>\n",
              "    </tr>\n",
              "    <tr>\n",
              "      <th>1</th>\n",
              "      <td>0</td>\n",
              "      <td>0</td>\n",
              "      <td>0</td>\n",
              "      <td>0</td>\n",
              "      <td>0</td>\n",
              "      <td>0</td>\n",
              "      <td>0</td>\n",
              "      <td>0</td>\n",
              "      <td>0</td>\n",
              "      <td>0</td>\n",
              "      <td>...</td>\n",
              "      <td>0</td>\n",
              "      <td>0</td>\n",
              "      <td>0</td>\n",
              "      <td>0</td>\n",
              "      <td>0</td>\n",
              "      <td>0</td>\n",
              "      <td>0</td>\n",
              "      <td>0</td>\n",
              "      <td>0</td>\n",
              "      <td>0</td>\n",
              "    </tr>\n",
              "    <tr>\n",
              "      <th>2</th>\n",
              "      <td>0</td>\n",
              "      <td>0</td>\n",
              "      <td>0</td>\n",
              "      <td>0</td>\n",
              "      <td>0</td>\n",
              "      <td>0</td>\n",
              "      <td>0</td>\n",
              "      <td>0</td>\n",
              "      <td>0</td>\n",
              "      <td>0</td>\n",
              "      <td>...</td>\n",
              "      <td>0</td>\n",
              "      <td>0</td>\n",
              "      <td>0</td>\n",
              "      <td>0</td>\n",
              "      <td>0</td>\n",
              "      <td>0</td>\n",
              "      <td>0</td>\n",
              "      <td>0</td>\n",
              "      <td>0</td>\n",
              "      <td>0</td>\n",
              "    </tr>\n",
              "    <tr>\n",
              "      <th>3</th>\n",
              "      <td>0</td>\n",
              "      <td>0</td>\n",
              "      <td>0</td>\n",
              "      <td>0</td>\n",
              "      <td>0</td>\n",
              "      <td>0</td>\n",
              "      <td>0</td>\n",
              "      <td>0</td>\n",
              "      <td>0</td>\n",
              "      <td>0</td>\n",
              "      <td>...</td>\n",
              "      <td>0</td>\n",
              "      <td>0</td>\n",
              "      <td>0</td>\n",
              "      <td>0</td>\n",
              "      <td>0</td>\n",
              "      <td>0</td>\n",
              "      <td>0</td>\n",
              "      <td>0</td>\n",
              "      <td>0</td>\n",
              "      <td>0</td>\n",
              "    </tr>\n",
              "    <tr>\n",
              "      <th>4</th>\n",
              "      <td>0</td>\n",
              "      <td>0</td>\n",
              "      <td>0</td>\n",
              "      <td>0</td>\n",
              "      <td>0</td>\n",
              "      <td>0</td>\n",
              "      <td>0</td>\n",
              "      <td>0</td>\n",
              "      <td>0</td>\n",
              "      <td>0</td>\n",
              "      <td>...</td>\n",
              "      <td>0</td>\n",
              "      <td>0</td>\n",
              "      <td>0</td>\n",
              "      <td>0</td>\n",
              "      <td>0</td>\n",
              "      <td>0</td>\n",
              "      <td>0</td>\n",
              "      <td>0</td>\n",
              "      <td>0</td>\n",
              "      <td>0</td>\n",
              "    </tr>\n",
              "  </tbody>\n",
              "</table>\n",
              "<p>5 rows × 10098 columns</p>\n",
              "</div>"
            ],
            "text/plain": [
              "   00  000  00011236  00805  00am  00pm  01  02115  03  0356  ...  zero  \\\n",
              "0   0    0         0      0     0     0   0      0   0     0  ...     0   \n",
              "1   0    0         0      0     0     0   0      0   0     0  ...     0   \n",
              "2   0    0         0      0     0     0   0      0   0     0  ...     0   \n",
              "3   0    0         0      0     0     0   0      0   0     0  ...     0   \n",
              "4   0    0         0      0     0     0   0      0   0     0  ...     0   \n",
              "\n",
              "   zetahub  zeus  zheng  zillow  zoho  zone  zones  zoom  zywave  \n",
              "0        0     0      0       0     0     0      0     0       0  \n",
              "1        0     0      0       0     0     0      0     0       0  \n",
              "2        0     0      0       0     0     0      0     0       0  \n",
              "3        0     0      0       0     0     0      0     0       0  \n",
              "4        0     0      0       0     0     0      0     0       0  \n",
              "\n",
              "[5 rows x 10098 columns]"
            ]
          },
          "metadata": {
            "tags": []
          },
          "execution_count": 42
        }
      ]
    },
    {
      "metadata": {
        "id": "rYHSfNxYuwnA",
        "colab_type": "code",
        "colab": {
          "base_uri": "https://localhost:8080/",
          "height": 71
        },
        "outputId": "8369b58c-f2d7-4759-d1d5-96dc54daca06"
      },
      "cell_type": "code",
      "source": [
        "from sklearn.linear_model import LogisticRegression\n",
        "\n",
        "LR = LogisticRegression(random_state=42).fit(X_train_vectorized, y_train)\n",
        "\n",
        "train_predictions = LR.predict(X_train_vectorized)\n",
        "test_predictions = LR.predict(X_test_vectorized)"
      ],
      "execution_count": 43,
      "outputs": [
        {
          "output_type": "stream",
          "text": [
            "/usr/local/lib/python3.6/dist-packages/sklearn/linear_model/logistic.py:433: FutureWarning: Default solver will be changed to 'lbfgs' in 0.22. Specify a solver to silence this warning.\n",
            "  FutureWarning)\n"
          ],
          "name": "stderr"
        }
      ]
    },
    {
      "metadata": {
        "id": "FKxOexTtvmkR",
        "colab_type": "code",
        "colab": {
          "base_uri": "https://localhost:8080/",
          "height": 51
        },
        "outputId": "e110042a-0518-436d-b73d-8e9cd76e3b32"
      },
      "cell_type": "code",
      "source": [
        "from sklearn.metrics import accuracy_score\n",
        "\n",
        "print(f'Train Accuracy: {accuracy_score(y_train, train_predictions)}')\n",
        "print(f'Test Accuracy: {accuracy_score(y_test, test_predictions)}')"
      ],
      "execution_count": 44,
      "outputs": [
        {
          "output_type": "stream",
          "text": [
            "Train Accuracy: 0.9925\n",
            "Test Accuracy: 0.92\n"
          ],
          "name": "stdout"
        }
      ]
    },
    {
      "metadata": {
        "id": "vlclSdSSveq-",
        "colab_type": "text"
      },
      "cell_type": "markdown",
      "source": [
        "# Stretch Goals\n",
        "\n",
        "- Try some agglomerative clustering using cosine-similarity-distance! (works better with high dimensional spaces) robust clustering - Agglomerative clustering like Ward would be cool. Try and create an awesome Dendrogram of the most important terms from the dataset.\n",
        "\n",
        "- Awesome resource for clustering stretch goals: \n",
        " - Agglomerative Clustering with Scipy: <https://joernhees.de/blog/2015/08/26/scipy-hierarchical-clustering-and-dendrogram-tutorial/>\n",
        " - Agglomerative Clustering for NLP: <http://brandonrose.org/clustering>\n",
        " \n",
        "- Use Latent Dirichlet Allocation (LDA) to perform topic modeling on the dataset: \n",
        " - Topic Modeling and LDA in Python: <https://towardsdatascience.com/topic-modeling-and-latent-dirichlet-allocation-in-python-9bf156893c24>\n",
        " - Topic Modeling and LDA using Gensim: <https://www.machinelearningplus.com/nlp/topic-modeling-gensim-python/>\n"
      ]
    }
  ]
}