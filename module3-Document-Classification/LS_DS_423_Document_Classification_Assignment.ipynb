{
 "cells": [
  {
   "cell_type": "markdown",
   "metadata": {
    "colab_type": "text",
    "id": "-OJHr-tbuSuI"
   },
   "source": [
    "# Now it's your turn!\n",
    "\n",
    "Use the following dataset of scraped \"Data Scientist\" and \"Data Analyst\" job listings to create your own Document Classification Models.\n",
    "\n",
    "<https://raw.githubusercontent.com/LambdaSchool/DS-Unit-4-Sprint-2-NLP/master/module3-Document-Classification/job_listings.csv>\n",
    "\n",
    "Requirements:\n",
    "\n",
    "- Apply both CountVectorizer and TfidfVectorizer methods to this data and compare results\n",
    "- Use at least two different classification models to compare differences in model accuracy\n",
    "- Try to \"Hyperparameter Tune\" your model by using different n_gram ranges, max_results, and data cleaning methods\n",
    "- Try and get the highest accuracy possible!"
   ]
  },
  {
   "cell_type": "code",
   "execution_count": 1,
   "metadata": {
    "colab": {},
    "colab_type": "code",
    "id": "MFreAPN3uGgz"
   },
   "outputs": [
    {
     "name": "stdout",
     "output_type": "stream",
     "text": [
      "(500, 3)\n"
     ]
    },
    {
     "data": {
      "text/html": [
       "<div>\n",
       "<style scoped>\n",
       "    .dataframe tbody tr th:only-of-type {\n",
       "        vertical-align: middle;\n",
       "    }\n",
       "\n",
       "    .dataframe tbody tr th {\n",
       "        vertical-align: top;\n",
       "    }\n",
       "\n",
       "    .dataframe thead th {\n",
       "        text-align: right;\n",
       "    }\n",
       "</style>\n",
       "<table border=\"1\" class=\"dataframe\">\n",
       "  <thead>\n",
       "    <tr style=\"text-align: right;\">\n",
       "      <th></th>\n",
       "      <th>description</th>\n",
       "      <th>title</th>\n",
       "      <th>job</th>\n",
       "    </tr>\n",
       "  </thead>\n",
       "  <tbody>\n",
       "    <tr>\n",
       "      <th>0</th>\n",
       "      <td>b\"&lt;div&gt;&lt;div&gt;Job Requirements:&lt;/div&gt;&lt;ul&gt;&lt;li&gt;&lt;p&gt;...</td>\n",
       "      <td>Data scientist</td>\n",
       "      <td>Data Scientist</td>\n",
       "    </tr>\n",
       "    <tr>\n",
       "      <th>1</th>\n",
       "      <td>b'&lt;div&gt;Job Description&lt;br/&gt;\\n&lt;br/&gt;\\n&lt;p&gt;As a Da...</td>\n",
       "      <td>Data Scientist I</td>\n",
       "      <td>Data Scientist</td>\n",
       "    </tr>\n",
       "    <tr>\n",
       "      <th>2</th>\n",
       "      <td>b'&lt;div&gt;&lt;p&gt;As a Data Scientist you will be work...</td>\n",
       "      <td>Data Scientist - Entry Level</td>\n",
       "      <td>Data Scientist</td>\n",
       "    </tr>\n",
       "    <tr>\n",
       "      <th>3</th>\n",
       "      <td>b'&lt;div class=\"jobsearch-JobMetadataHeader icl-...</td>\n",
       "      <td>Data Scientist</td>\n",
       "      <td>Data Scientist</td>\n",
       "    </tr>\n",
       "    <tr>\n",
       "      <th>4</th>\n",
       "      <td>b'&lt;ul&gt;&lt;li&gt;Location: USA \\xe2\\x80\\x93 multiple ...</td>\n",
       "      <td>Data Scientist</td>\n",
       "      <td>Data Scientist</td>\n",
       "    </tr>\n",
       "  </tbody>\n",
       "</table>\n",
       "</div>"
      ],
      "text/plain": [
       "                                         description  \\\n",
       "0  b\"<div><div>Job Requirements:</div><ul><li><p>...   \n",
       "1  b'<div>Job Description<br/>\\n<br/>\\n<p>As a Da...   \n",
       "2  b'<div><p>As a Data Scientist you will be work...   \n",
       "3  b'<div class=\"jobsearch-JobMetadataHeader icl-...   \n",
       "4  b'<ul><li>Location: USA \\xe2\\x80\\x93 multiple ...   \n",
       "\n",
       "                          title             job  \n",
       "0               Data scientist   Data Scientist  \n",
       "1              Data Scientist I  Data Scientist  \n",
       "2  Data Scientist - Entry Level  Data Scientist  \n",
       "3                Data Scientist  Data Scientist  \n",
       "4                Data Scientist  Data Scientist  "
      ]
     },
     "execution_count": 1,
     "metadata": {},
     "output_type": "execute_result"
    }
   ],
   "source": [
    "import pandas as pd\n",
    "url = 'https://raw.githubusercontent.com/LambdaSchool/DS-Unit-4-Sprint-2-NLP/master/module3-Document-Classification/job_listings.csv'\n",
    "df = pd.read_csv(url)\n",
    "print(df.shape)\n",
    "df.head()"
   ]
  },
  {
   "cell_type": "code",
   "execution_count": 2,
   "metadata": {},
   "outputs": [
    {
     "data": {
      "text/plain": [
       "'b\"<div><div>Job Requirements:</div><ul><li><p>\\\\nConceptual understanding in Machine Learning models like Nai\\\\xc2\\\\xa8ve Bayes, K-Means, SVM, Apriori, Linear/ Logistic Regression, Neural, Random Forests, Decision Trees, K-NN along with hands-on experience in at least 2 of them</p>\\\\n</li><li><p>Intermediate to expert level coding skills in Python/R. (Ability to write functions, clean and efficient data manipulation are mandatory for this role)</p>\\\\n</li><li><p>Exposure to packages like NumPy, SciPy, Pandas, Matplotlib etc in Python or GGPlot2, dplyr, tidyR in R</p>\\\\n</li><li><p>Ability to communicate Model findings to both Technical and Non-Technical stake holders</p>\\\\n</li><li><p>Hands on experience in SQL/Hive or similar programming language</p>\\\\n</li><li><p>Must show past work via GitHub, Kaggle or any other published article</p>\\\\n</li><li><p>Master\\'s degree in Statistics/Mathematics/Computer Science or any other quant specific field.</p></li></ul><div><div><div><div><div><div>\\\\nApply Now</div></div></div></div></div></div></div><div></div>\"'"
      ]
     },
     "execution_count": 2,
     "metadata": {},
     "output_type": "execute_result"
    }
   ],
   "source": [
    "# What does one entry look like?\n",
    "df.description[0]"
   ]
  },
  {
   "cell_type": "code",
   "execution_count": 3,
   "metadata": {},
   "outputs": [
    {
     "data": {
      "text/html": [
       "<div>\n",
       "<style scoped>\n",
       "    .dataframe tbody tr th:only-of-type {\n",
       "        vertical-align: middle;\n",
       "    }\n",
       "\n",
       "    .dataframe tbody tr th {\n",
       "        vertical-align: top;\n",
       "    }\n",
       "\n",
       "    .dataframe thead th {\n",
       "        text-align: right;\n",
       "    }\n",
       "</style>\n",
       "<table border=\"1\" class=\"dataframe\">\n",
       "  <thead>\n",
       "    <tr style=\"text-align: right;\">\n",
       "      <th></th>\n",
       "      <th>description</th>\n",
       "      <th>title</th>\n",
       "      <th>job</th>\n",
       "    </tr>\n",
       "  </thead>\n",
       "  <tbody>\n",
       "    <tr>\n",
       "      <th>480</th>\n",
       "      <td>b'&lt;div&gt;&lt;p&gt;Responsible for data acquisition and ongoing data integrity in University Advancement systems. Works independently to analyze, compare, manipulate, and transform data sets in preparation...</td>\n",
       "      <td>Data Analyst</td>\n",
       "      <td>Data Analyst</td>\n",
       "    </tr>\n",
       "    <tr>\n",
       "      <th>473</th>\n",
       "      <td>b'&lt;div class=\"jobsearch-JobMetadataHeader icl-u-xs-mb--md\"&gt;&lt;div class=\"jobsearch-JobMetadataHeader-item icl-u-xs-mt--xs\"&gt;Internship&lt;/div&gt;&lt;/div&gt;&lt;div&gt;&lt;div&gt;&lt;b&gt;BrightStart Intern - Salesforce Data Ana...</td>\n",
       "      <td>BrightStart - Intern - Salesforce Data Analyst</td>\n",
       "      <td>Data Analyst</td>\n",
       "    </tr>\n",
       "    <tr>\n",
       "      <th>250</th>\n",
       "      <td>b'&lt;div&gt;Creates, generates and analyzes statistical reports to track and measurevarious clinical functions. Troubleshoots hardware and softwareproblems, maintains databases, and provides standing a...</td>\n",
       "      <td>DATA ANALYST</td>\n",
       "      <td>Data Analyst</td>\n",
       "    </tr>\n",
       "    <tr>\n",
       "      <th>4</th>\n",
       "      <td>b'&lt;ul&gt;&lt;li&gt;Location: USA \\xe2\\x80\\x93 multiple locations&lt;/li&gt;\\n&lt;li&gt;2+ years of Analytics experience&lt;/li&gt;\\n&lt;li&gt;Understand business requirements and technical requirements&lt;/li&gt;\\n&lt;li&gt;Can handle data e...</td>\n",
       "      <td>Data Scientist</td>\n",
       "      <td>Data Scientist</td>\n",
       "    </tr>\n",
       "    <tr>\n",
       "      <th>200</th>\n",
       "      <td>b'&lt;p&gt;&lt;/p&gt;&lt;div&gt;&lt;h2 class=\"jobSectionHeader\"&gt;&lt;b&gt;About the team&lt;/b&gt;&lt;/h2&gt;\\nZillow is looking for an extraordinary Data Scientist to join a growing team. Zillow is on a mission to give consumers certai...</td>\n",
       "      <td>Data Scientist- Zillow Offers</td>\n",
       "      <td>Data Scientist</td>\n",
       "    </tr>\n",
       "  </tbody>\n",
       "</table>\n",
       "</div>"
      ],
      "text/plain": [
       "                                                                                                                                                                                                 description  \\\n",
       "480  b'<div><p>Responsible for data acquisition and ongoing data integrity in University Advancement systems. Works independently to analyze, compare, manipulate, and transform data sets in preparation...   \n",
       "473  b'<div class=\"jobsearch-JobMetadataHeader icl-u-xs-mb--md\"><div class=\"jobsearch-JobMetadataHeader-item icl-u-xs-mt--xs\">Internship</div></div><div><div><b>BrightStart Intern - Salesforce Data Ana...   \n",
       "250  b'<div>Creates, generates and analyzes statistical reports to track and measurevarious clinical functions. Troubleshoots hardware and softwareproblems, maintains databases, and provides standing a...   \n",
       "4    b'<ul><li>Location: USA \\xe2\\x80\\x93 multiple locations</li>\\n<li>2+ years of Analytics experience</li>\\n<li>Understand business requirements and technical requirements</li>\\n<li>Can handle data e...   \n",
       "200  b'<p></p><div><h2 class=\"jobSectionHeader\"><b>About the team</b></h2>\\nZillow is looking for an extraordinary Data Scientist to join a growing team. Zillow is on a mission to give consumers certai...   \n",
       "\n",
       "                                              title             job  \n",
       "480                                    Data Analyst    Data Analyst  \n",
       "473  BrightStart - Intern - Salesforce Data Analyst    Data Analyst  \n",
       "250                                    DATA ANALYST    Data Analyst  \n",
       "4                                    Data Scientist  Data Scientist  \n",
       "200                   Data Scientist- Zillow Offers  Data Scientist  "
      ]
     },
     "execution_count": 3,
     "metadata": {},
     "output_type": "execute_result"
    }
   ],
   "source": [
    "pd.set_option('display.max_colwidth', 200)\n",
    "df.sample(5)"
   ]
  },
  {
   "cell_type": "code",
   "execution_count": 4,
   "metadata": {},
   "outputs": [
    {
     "data": {
      "text/plain": [
       "description    1\n",
       "title          1\n",
       "job            0\n",
       "dtype: int64"
      ]
     },
     "execution_count": 4,
     "metadata": {},
     "output_type": "execute_result"
    }
   ],
   "source": [
    "df.isna().sum()"
   ]
  },
  {
   "cell_type": "code",
   "execution_count": 5,
   "metadata": {},
   "outputs": [
    {
     "data": {
      "text/plain": [
       "index          0\n",
       "description    0\n",
       "title          0\n",
       "job            0\n",
       "dtype: int64"
      ]
     },
     "execution_count": 5,
     "metadata": {},
     "output_type": "execute_result"
    }
   ],
   "source": [
    "df = df.dropna().reset_index()\n",
    "df.isna().sum()"
   ]
  },
  {
   "cell_type": "code",
   "execution_count": 6,
   "metadata": {},
   "outputs": [
    {
     "data": {
      "text/plain": [
       "Data Scientist    250\n",
       "Data Analyst      249\n",
       "Name: job, dtype: int64"
      ]
     },
     "execution_count": 6,
     "metadata": {},
     "output_type": "execute_result"
    }
   ],
   "source": [
    "df.job.value_counts()"
   ]
  },
  {
   "cell_type": "code",
   "execution_count": 7,
   "metadata": {},
   "outputs": [
    {
     "data": {
      "text/html": [
       "<div>\n",
       "<style scoped>\n",
       "    .dataframe tbody tr th:only-of-type {\n",
       "        vertical-align: middle;\n",
       "    }\n",
       "\n",
       "    .dataframe tbody tr th {\n",
       "        vertical-align: top;\n",
       "    }\n",
       "\n",
       "    .dataframe thead th {\n",
       "        text-align: right;\n",
       "    }\n",
       "</style>\n",
       "<table border=\"1\" class=\"dataframe\">\n",
       "  <thead>\n",
       "    <tr style=\"text-align: right;\">\n",
       "      <th></th>\n",
       "      <th>index</th>\n",
       "      <th>description</th>\n",
       "      <th>title</th>\n",
       "      <th>job</th>\n",
       "      <th>label_num</th>\n",
       "    </tr>\n",
       "  </thead>\n",
       "  <tbody>\n",
       "    <tr>\n",
       "      <th>494</th>\n",
       "      <td>495</td>\n",
       "      <td>b'&lt;div&gt;&lt;p&gt;&lt;b&gt;POSITION DESCRIPTION&lt;/b&gt;&lt;br/&gt;\\n&lt;br/&gt;\\nThe &lt;b&gt;Data Analysts\\xe2\\x80\\x99&lt;/b&gt; primary responsibilities will be to fulfill data requests for RFPs, research, evaluation and CQI projects. T...</td>\n",
       "      <td>Data Analyst</td>\n",
       "      <td>Data Analyst</td>\n",
       "      <td>0</td>\n",
       "    </tr>\n",
       "    <tr>\n",
       "      <th>495</th>\n",
       "      <td>496</td>\n",
       "      <td>b'The Data Analyst supports the Service Delivery team from initiation to project delivery and closure. The DA is an important resource in helping to streamline and create best practices to ensure ...</td>\n",
       "      <td>Data Analyst</td>\n",
       "      <td>Data Analyst</td>\n",
       "      <td>0</td>\n",
       "    </tr>\n",
       "    <tr>\n",
       "      <th>496</th>\n",
       "      <td>497</td>\n",
       "      <td>b'TITLE Data Analyst\\n&lt;br/&gt;&lt;br/&gt;\\n&lt;b&gt;MINIMUM CLEARANCE LEVEL:&lt;/b&gt; SECRET\\n&lt;br/&gt;&lt;br/&gt;\\n&lt;b&gt;CITIZENSHIP:&lt;/b&gt; US Citizenship\\n&lt;br/&gt;&lt;b&gt;LOCATION:&lt;/b&gt; Warner Robins Air Force Base, Warner Robins, GA\\n&lt;br...</td>\n",
       "      <td>Systems Data Analyst</td>\n",
       "      <td>Data Analyst</td>\n",
       "      <td>0</td>\n",
       "    </tr>\n",
       "    <tr>\n",
       "      <th>497</th>\n",
       "      <td>498</td>\n",
       "      <td>b'&lt;div&gt;&lt;h2 class=\"jobSectionHeader\"&gt;&lt;b&gt;Overview\\n&lt;/b&gt;&lt;/h2&gt;&lt;div&gt;&lt;div&gt;&lt;div&gt;&lt;div&gt;Zywave provides unique, industry-leading solutions for insurance brokers, and is hiring an Associate Database Analyst ...</td>\n",
       "      <td>Associate Data Analyst</td>\n",
       "      <td>Data Analyst</td>\n",
       "      <td>0</td>\n",
       "    </tr>\n",
       "    <tr>\n",
       "      <th>498</th>\n",
       "      <td>499</td>\n",
       "      <td>b'&lt;div&gt;&lt;div&gt;Location: El Segundo, California, United States&lt;br/&gt;\\n&lt;/div&gt;&lt;div&gt;&lt;/div&gt;&lt;div&gt;&lt;b&gt;\\nJob Summary:&lt;/b&gt;&lt;/div&gt;&lt;div&gt;&lt;/div&gt;&lt;div&gt;&lt;br/&gt;\\nAT&amp;amp;T is seeking a Data Analyst to partner with Enterta...</td>\n",
       "      <td>Data Analyst</td>\n",
       "      <td>Data Analyst</td>\n",
       "      <td>0</td>\n",
       "    </tr>\n",
       "  </tbody>\n",
       "</table>\n",
       "</div>"
      ],
      "text/plain": [
       "     index  \\\n",
       "494    495   \n",
       "495    496   \n",
       "496    497   \n",
       "497    498   \n",
       "498    499   \n",
       "\n",
       "                                                                                                                                                                                                 description  \\\n",
       "494  b'<div><p><b>POSITION DESCRIPTION</b><br/>\\n<br/>\\nThe <b>Data Analysts\\xe2\\x80\\x99</b> primary responsibilities will be to fulfill data requests for RFPs, research, evaluation and CQI projects. T...   \n",
       "495  b'The Data Analyst supports the Service Delivery team from initiation to project delivery and closure. The DA is an important resource in helping to streamline and create best practices to ensure ...   \n",
       "496  b'TITLE Data Analyst\\n<br/><br/>\\n<b>MINIMUM CLEARANCE LEVEL:</b> SECRET\\n<br/><br/>\\n<b>CITIZENSHIP:</b> US Citizenship\\n<br/><b>LOCATION:</b> Warner Robins Air Force Base, Warner Robins, GA\\n<br...   \n",
       "497  b'<div><h2 class=\"jobSectionHeader\"><b>Overview\\n</b></h2><div><div><div><div>Zywave provides unique, industry-leading solutions for insurance brokers, and is hiring an Associate Database Analyst ...   \n",
       "498  b'<div><div>Location: El Segundo, California, United States<br/>\\n</div><div></div><div><b>\\nJob Summary:</b></div><div></div><div><br/>\\nAT&amp;T is seeking a Data Analyst to partner with Enterta...   \n",
       "\n",
       "                      title           job  label_num  \n",
       "494            Data Analyst  Data Analyst          0  \n",
       "495            Data Analyst  Data Analyst          0  \n",
       "496    Systems Data Analyst  Data Analyst          0  \n",
       "497  Associate Data Analyst  Data Analyst          0  \n",
       "498            Data Analyst  Data Analyst          0  "
      ]
     },
     "execution_count": 7,
     "metadata": {},
     "output_type": "execute_result"
    }
   ],
   "source": [
    "df['label_num'] = df.job.map({'Data Analyst': 0, 'Data Scientist': 1})\n",
    "df.tail()"
   ]
  },
  {
   "cell_type": "code",
   "execution_count": 8,
   "metadata": {},
   "outputs": [
    {
     "data": {
      "text/plain": [
       "499"
      ]
     },
     "execution_count": 8,
     "metadata": {},
     "output_type": "execute_result"
    }
   ],
   "source": [
    "len(df)"
   ]
  },
  {
   "cell_type": "code",
   "execution_count": 9,
   "metadata": {},
   "outputs": [],
   "source": [
    "from sklearn.model_selection import train_test_split\n",
    "X = df.description\n",
    "y = df.label_num\n",
    "X_train, X_test, y_train, y_test = train_test_split(X, y, test_size=0.2, random_state=42)"
   ]
  },
  {
   "cell_type": "code",
   "execution_count": 10,
   "metadata": {},
   "outputs": [
    {
     "name": "stdout",
     "output_type": "stream",
     "text": [
      "(399,)\n",
      "(100,)\n",
      "(399,)\n",
      "(100,)\n"
     ]
    }
   ],
   "source": [
    "print(X_train.shape)\n",
    "print(X_test.shape)\n",
    "print(y_train.shape)\n",
    "print(y_test.shape)"
   ]
  },
  {
   "cell_type": "code",
   "execution_count": 11,
   "metadata": {},
   "outputs": [
    {
     "name": "stdout",
     "output_type": "stream",
     "text": [
      "{'div': 2421, 'class': 1459, 'jobsearch': 4203, 'jobmetadataheader': 4201, 'icl': 3755, 'xs': 9261, 'mb': 4694, 'md': 4702, 'item': 4171, 'mt': 4952, 'temporary': 8405, 'internship': 4077, 'description': 2218, 'nthe': 5996, 'data': 2068, 'analytics': 605, 'innovations': 3970, 'group': 3501, 'docomo': 2441, 'seeking': 7661, 'ph': 6522, 'students': 8178, 'computer': 1688, 'science': 7590, 'engineering': 2730, 'related': 7220, '12': 37, 'week': 9043, 'summer': 8243, 'aws': 889, 'operation': 6226, 'cost': 1913, 'analysis': 599, 'nrequired': 5872, 'skills': 7847, 'experiences': 2931, 'education': 2593, 'ncandidates': 5157, 'position': 6644, 'solid': 7914, 'background': 909, 'machine': 4568, 'learning': 4376, 'optimization': 6244, 'theory': 8447, 'experience': 2929, 'algorithm': 536, 'design': 2223, 'developing': 2255, 'supervised': 8252, 'unsupervised': 8776, 'models': 4874, 'depth': 2208, 'concepts': 1696, 'statistics': 8092, 'linux': 4469, 'ssh': 8029, 'github': 3406, 'sql': 8017, 'highly': 3634, 'desirable': 2231, 'candidate': 1240, 'attributes': 825, 'strongly': 8169, 'self': 7679, 'motivated': 4923, 'strong': 8166, 'analytical': 603, 'synthesis': 8314, 'proficient': 6841, 'python': 6978, 'programming': 6853, 'nnotes': 5682, 'nstart': 5953, 'end': 2704, 'dates': 2091, 'flexible': 3154, 'ninternship': 5567, 'length': 4399, 'weeks': 9047, 'spring': 8013, '2019': 107, 'agency': 491, 'job': 4200, 'overview': 6325, 'br': 1096, 'omd': 6197, 'award': 881, 'winning': 9088, 'integrated': 4032, 'communications': 1613, 'fueled': 3279, 'driven': 2501, 'creativity': 1964, 'provides': 6925, 'clients': 1491, 'innovative': 3971, 'actionable': 365, 'media': 4722, 'amp': 591, 'communication': 1612, 'strategies': 8141, 'accelerate': 302, 'business': 1180, 'senior': 7694, 'member': 4737, 'xe2': 9255, 'x80': 9146, 'x99s': 9185, 'marketing': 4643, 'sciences': 7591, 'team': 8371, 'responsible': 7361, 'delivering': 2166, 'vision': 8951, 'shaping': 7742, 'strategic': 8138, 'direction': 2325, 'ideal': 3763, 'explore': 2958, 'analyze': 609, 'visualize': 8962, 'dynamic': 2529, 'datasets': 2085, 'having': 3579, 'technical': 8380, 'expertise': 2941, 'building': 1166, 'statistical': 8089, 'supervisor': 8254, 'work': 9104, 'closely': 1503, 'director': 2329, 'manage': 4599, 'resources': 7343, 'implement': 3814, 'process': 6812, 'improvements': 3836, 'mentor': 4749, 'junior': 4240, 'members': 4738, 'areas': 709, 'responsibility': 7360, 'ul': 8683, 'li': 4420, 'exploration': 2956, 'experimentation': 2936, 'large': 4327, 'number': 6035, 'draw': 2487, 'insights': 3989, 'search': 7633, 'stories': 8129, 'predictive': 6713, 'descriptive': 2221, 'based': 937, 'omg': 6198, 'maintain': 4582, 'pipelines': 6566, 'visualization': 8960, 'outputs': 6309, 'understand': 8713, 'participate': 6379, 'measurement': 4714, 'planning': 6584, 'development': 2256, 'execution': 2897, 'ensuring': 2754, 'timely': 8487, 'follow': 3179, 'scheduled': 7580, 'ad': 384, 'hoc': 3661, 'deliverables': 2164, 'present': 6744, 'analytic': 602, 'appropriate': 683, 'generating': 3367, 'communicating': 1611, 'clear': 1476, 'compelling': 1632, 'advanced': 437, 'techniques': 8384, 'actively': 371, 'teams': 8375, 'anticipate': 643, 'client': 1490, 'needs': 5346, 'develop': 2251, 'solutions': 7918, 'nagency': 5035, 'company': 1623, 'brainjolt': 1097, 'brainjoltmedia': 1098, 'com': 1568, 'leading': 4367, 'digital': 2307, 'sites': 7834, 'quantcast': 7002, '75': 221, 'mobile': 4860, 'constant': 1779, 'learners': 4375, 'value': 8854, 'scrappy': 7613, 'cleverness': 1486, 'best': 989, 'practices': 6698, 'working': 9114, 'despite': 2237, 'lean': 4371, 'reach': 7081, '36': 154, 'million': 4809, 'users': 8812, 'month': 4910, 'properties': 6889, 'social': 7892, 'channels': 1379, 'engaging': 2726, 'smile': 7874, 'inducing': 3899, 'viral': 8940, 'quizzes': 7033, 'highlights': 3633, 'xa6': 9239, 'flagship': 3146, 'site': 7832, '22': 117, 'words': 9103, 'ranked': 7058, '20': 88, 'country': 1926, '20m': 113, 'unique': 8739, 'visitors': 8957, 'magiquiz': 4576, 'mobiles': 4861, 'boasting': 1059, 'minutes': 4832, 'visitor': 8956, 'whopping': 9074, '60': 201, 'completion': 1656, 'rate': 7066, 'following': 3180, '26': 124, 'growing': 3504, 'fast': 3046, 'culture': 2017, 'continuous': 1827, 'strive': 8162, 'better': 992, 'day': 2095, 'opportunity': 6240, 'product': 6825, 'analyst': 600, 'nat': 5092, 'heart': 3603, 'need': 5342, 'numbers': 6037, 'monster': 4905, 'pricing': 6769, 'bidding': 1003, 'help': 3612, 'grow': 3503, 'support': 8266, 'revenue': 7401, 'strategy': 8143, 'provide': 6921, 'kpis': 4298, 'discover': 2360, 'ways': 9031, 'automate': 855, 'reporting': 7285, 'x99re': 9184, 'keen': 4255, 'partner': 6387, 'excel': 2873, 'modeling': 4871, 'possibly': 6657, 'worked': 9108, 'trading': 8548, 'desk': 2234, 'fin': 3103, 'tech': 8378, 'past': 6404, 'specifically': 7977, 'clean': 1469, 'trusted': 8640, 'produce': 6820, 'action': 364, 'biased': 1000, 'vp': 8986, 'optimize': 6245, 'existing': 2910, 'create': 1956, 'new': 5406, 'streams': 8148, 'detailed': 2238, 'reports': 7286, 'thoughtful': 8464, 'deep': 2134, 'concern': 1701, 'question': 7022, 'recommendations': 7125, 'items': 4172, 'draft': 2482, 'test': 8426, 'plans': 6586, 'requirements': 7311, 'hand': 3545, 'developers': 2254, 'structure': 8171, 'report': 7283, 'tests': 8429, 'increase': 3869, 'monetization': 4897, 'nhave': 5509, 'bachelor': 903, 'degree': 2153, 'equivalent': 2797, 'non': 5692, 'traditional': 8549, 'paths': 6411, 'welcome': 9051, 'years': 9265, 'evenue': 2854, 'yield': 9267, 'bid': 1002, 'foundation': 3231, 'aggregating': 498, '1st': 85, '3rd': 161, 'party': 6394, 'knowledge': 4290, 'management': 4602, 'technologies': 8387, 'sources': 7942, 'like': 4447, 'gds': 3351, 'ga': 3314, 'gam': 3322, 'desire': 2232, 'continually': 1821, 'opportunities': 6239, 'changing': 1376, 'programmatic': 6850, 'ecosystem': 2572, 'love': 4541, 'paced': 6338, 'environment': 2775, 'starter': 8073, 'results': 7377, 'growth': 3507, 'mindset': 4816, 'drama': 2484, 'nice': 5528, 'familiar': 3029, 'dsps': 2515, 'ssps': 8032, 'exchanges': 2881, 'networks': 5395, 'server': 7717, 'dfp': 2271, 'measurable': 4711, 'success': 8220, 'managing': 4607, 'partnerships': 6392, 'foundational': 3232, 'header': 3590, 'stack': 8037, 'proven': 6920, 'track': 8540, 'record': 7136, 'meeting': 4731, 'goals': 3427, 'supporting': 8268, 'vendors': 8885, 'desks': 2235, 'expectations': 2923, 'primary': 6772, 'performance': 6461, 'ensure': 2752, 'accurate': 345, 'provided': 6922, 'daily': 2057, 'automation': 861, 'manual': 4620, 'pulling': 6948, 'troubleshooting': 8631, 'require': 7308, 'availability': 868, 'weekends': 9045, 'needed': 5343, 'deliver': 2162, 'troubleshoot': 8630, 'issues': 4169, 'communicate': 1608, 'partners': 6390, 'coordinate': 1872, 'internal': 4071, 'stakeholders': 8049, 'ux': 8833, 'initiatives': 3959, 'mitigate': 4845, 'risks': 7436, 'constantly': 1780, 'monitor': 4901, 'eliminate': 2646, 'negatively': 5354, 'impact': 3808, 'overall': 6316, 'integrity': 4038, 'expert': 2940, 'attention': 817, 'relates': 7221, 'ability': 278, 'key': 4264, 'trust': 8639, 'maintained': 4584, 'thought': 8463, 'leadership': 4366, 'entire': 2765, 'effort': 2616, 'educate': 2590, 'enhance': 2734, 'improvement': 3835, 'benefits': 987, 'nthis': 6001, 'fully': 3285, 'remote': 7263, 'nbrainjolt': 5139, 'fun': 3286, 'entrepreneurial': 2770, 'empowers': 2689, 'employees': 2679, 'independently': 3882, 'drive': 2500, 'greatly': 3486, 'early': 2538, 'values': 8856, 'fight': 3092, 'boredom': 1082, 'spread': 8010, 'happiness': 3556, 'just': 4244, 'audience': 831, 'addition': 397, 'basic': 942, 'additional': 398, 'continued': 1823, 'unlimited': 8758, 'pto': 6935, 'home': 3671, 'internet': 4075, 'phone': 6539, 'assistance': 772, 'gym': 3532, 'membership': 4739, 'tickets': 8476, 'concert': 1704, 'choice': 1421, 'year': 9263, 'spotify': 8009, 'netflix': 5391, 'audible': 830, 'subscriptions': 8206, 'monthly': 4911, 'personal': 6494, 'book': 1069, 'budget': 1159, 'h2': 3534, 'jobsectionheader': 4204, 'summary': 8242, 'nbuilds': 5147, 'maintains': 4586, 'sci': 7589, 'procedures': 6808, 'resource': 7341, 'units': 8747, 'cerner': 1348, 'upgrades': 8788, 'utilizes': 8826, 'clinical': 1495, 'schedule': 7579, 'imaging': 3794, 'services': 7721, 'utilizing': 8827, 'scheduling': 7582, 'coordinates': 1874, 'patient': 6412, 'utilization': 8823, 'modality': 4866, 'nqualifications': 5834, 'high': 3627, 'school': 7587, 'diploma': 2320, 'ged': 3355, 'certificate': 1352, 'npreferred': 5796, 'associate': 777, 'healthcare': 3597, 'setting': 7727, 'nfull': 5484, 'time': 8483, 'days': 2097, 'njob': 5582, 'admitting': 427, 'registration': 7194, 'location': 4503, 'west': 9060, 'palm': 6350, 'beach': 953, 'florida': 3161, 'facility': 3010, 'saint': 7521, 'mary': 4655, 'medical': 4724, 'center': 1337, 'type': 8666, 'shift': 7757, 'employment': 2683, 'influenced': 3920, 'affected': 473, 'applicant': 664, 'employee': 2678, 'race': 7039, 'color': 1561, 'religion': 7247, 'sex': 7732, 'including': 3856, 'pregnancy': 6722, 'national': 5094, 'origin': 6282, 'age': 489, 'disability': 2336, 'genetic': 3374, 'information': 3934, 'sexual': 7734, 'orientation': 6280, 'gender': 3359, 'identity': 3775, 'expression': 2967, 'veteran': 8910, 'status': 8094, 'legally': 4392, 'protected': 6907, 'tenet': 8408, 'make': 4591, 'reasonable': 7104, 'accommodations': 324, 'qualified': 6995, 'individuals': 3898, 'disabilities': 2335, 'unless': 8757, 'doing': 2455, 'result': 7375, 'undue': 8722, 'hardship': 3563, 'span': 7952, 'mr': 4940, '78': 225, '600': 202, 'consultant': 1792, 'opening': 6215, '447618': 170, 'contributes': 1838, 'serves': 7719, 'level': 4407, 'contributor': 1842, 'lead': 4363, 'complex': 1657, 'align': 541, 'technology': 8390, 'care': 1264, 'implementation': 3816, 'functionality': 3290, 'evaluation': 2844, 'systems': 8320, 'practice': 6697, 'administrative': 421, 'outcomes': 6294, 'scientist': 7593, 'creates': 1958, 'organization': 6271, 'compiling': 1648, 'analyzing': 612, 'research': 7317, 'educational': 2594, 'operational': 6227, 'enterprise': 2758, 'wide': 9077, 'role': 7458, 'involves': 4146, 'application': 666, 'methods': 4780, 'mathematical': 4676, 'simulation': 7821, 'excellent': 2875, 'order': 6261, 'identify': 3773, 'long': 4518, 'term': 8417, 'masters': 4664, 'required': 7309, 'industrial': 3900, 'operations': 6232, 'applied': 668, 'mathematics': 4677, 'informatics': 3933, 'field': 3088, 'phd': 6531, 'desired': 2233, 'minimum': 4824, 'recent': 7113, 'relevant': 7239, 'hands': 3550, 'leveraged': 4412, 'discrete': 2366, 'event': 2850, 'acquisition': 359, 'using': 8815, 'format': 3210, 'understanding': 8715, 'relational': 7224, 'base': 936, 'logic': 4508, 'languages': 4323, 'tools': 8517, 'sas': 7545, 'tantus': 8350, 'quality': 7000, 'assurance': 784, 'performing': 6465, 'functional': 3288, 'verification': 8892, 'software': 7905, 'applications': 667, 'isolate': 4163, 'solve': 7920, 'initiate': 3955, 'problems': 6806, 'duties': 2525, 'include': 3853, 'testing': 8428, 'products': 6830, 'produced': 6821, 'intelligence': 4042, 'etl': 2831, 'designers': 2228, 'able': 279, 'bi': 998, 'directly': 2328, 'government': 3446, 'customers': 2040, 'secure': 7651, 'responsibilities': 7359, 'validate': 8845, 'writing': 9139, 'independent': 3881, 'queries': 7018, 'standards': 8061, 'examine': 2867, 'code': 1522, 'various': 8870, 'environments': 2777, 'traceability': 8538, 'lifecycle': 4437, 'authoring': 845, 'matrix': 4682, 'rtm': 7493, 'defects': 2141, 'anomalies': 632, 'resolution': 7336, 'generate': 3364, 'historical': 3646, 'execute': 2892, 'specifications': 7979, 'conduct': 1716, 'user': 8811, 'acceptance': 310, 'uat': 8672, 'instructions': 4013, 'document': 2446, 'compare': 1626, 'expected': 2924, 'compliance': 1660, 'general': 3360, 'accepted': 311, 'web': 9036, 'set': 7725, 'forth': 3223, 'upstream': 8797, 'review': 7404, 'deployment': 2204, 'scripts': 7620, 'conformance': 1741, 'coding': 1527, 'guidelines': 3524, 'accordance': 330, 'perform': 6460, 'reviews': 7407, 'walkthroughs': 8998, 'inspections': 3991, 'toad': 8498, 'navigator': 5113, 'similar': 7810, 'tool': 8510, 'creating': 1959, 'sets': 7726, 'extract': 2980, 'load': 4493, 'assist': 771, 'transform': 8572, 'routines': 7481, 'database': 2070, 'views': 8932, 'objects': 6133, 'universes': 8748, 'databases': 2071, 'designs': 2230, 'qualifications': 6993, 'active': 370, 'security': 7655, 'clearance': 1477, 'secret': 7644, 'n4': 4994, 'qa': 6981, 'deal': 2110, 'multiple': 4963, 'concurrent': 1712, 'efforts': 2617, 'multi': 4956, 'task': 8358, 'directions': 2326, 'managers': 4605, 'completed': 1651, 'assignments': 769, 'manner': 4618, 'oral': 6255, 'written': 9140, 'effectively': 2608, 'people': 6449, 'federal': 3068, 'contractor': 1832, 'successfully': 8222, 'scientific': 7592, 'preferred': 6721, 'consider': 1764, 'place': 6575, 'safe': 7512, 'agile': 502, 'methodology': 4779, 'ibm': 3752, 'clm': 1499, 'rqm': 7484, 'sap': 7542, 'hana': 3544, 'unit': 8742, 'handle': 3547, 'projects': 6866, 'acts': 375, 'analysts': 601, 'claims': 1453, 'provider': 6923, 'hedis': 3608, 'pharmacy': 6528, 'external': 2977, 'model': 4868, 'reconcile': 7131, 'amounts': 590, 'platforms': 6589, 'determine': 2245, 'impacts': 3811, 'actions': 366, 'elevate': 2640, 'trends': 8615, 'ms': 4945, 'access': 314, 'ware': 9009, 'house': 3705, 'driving': 2506, 'decisions': 2123, 'state': 8080, 'deliverable': 2163, 'audits': 837, 'training': 8556, 'mentoring': 4750, 'determining': 2248, 'activities': 372, 'neducation': 5340, 'microsoft': 4793, 'office': 6175, 'heavy': 3606, 'involvement': 4145, 'project': 6862, 'centene': 1336, 'equal': 2788, 'employer': 2680, 'committed': 1599, 'diversity': 2425, 'different': 2295, 'applicants': 665, 'receive': 7110, 'consideration': 1766, 'regard': 7184, 'characteristic': 1382, 'applicable': 663, 'law': 4346, 'contract': 1830, 'insight': 3987, 'experienced': 2930, 'robust': 7451, 'visualizations': 8961, 'improve': 3833, 'collection': 1554, 'tracking': 8542, 'supervision': 8253, 'st': 8034, 'joseph': 4216, 'measure': 4712, 'program': 6849, 'effectiveness': 2609, 'serve': 7714, 'target': 8354, 'population': 6634, 'integral': 4030, 'bringing': 1133, 'thorough': 8461, 'decision': 2121, 'making': 4594, 'nessential': 5384, 'nkey': 5589, 'essential': 2812, 'nconduct': 5216, 'ncreate': 5241, 'depict': 2199, 'nmonitor': 5655, 'indicators': 3892, 'aid': 515, 'nbuild': 5145, 'interactive': 4056, 'dashboard': 2065, 'tableau': 8322, 'nsupport': 5975, 'drafting': 2483, 'outcome': 6293, 'nhelp': 5513, 'grant': 3467, 'identifying': 3774, 'calculating': 1212, 'baselines': 939, 'targets': 8357, 'benchmark': 980, 'nensure': 5371, 'effective': 2607, 'efficient': 2614, 'nwork': 6105, 'programs': 6854, 'monitoring': 4903, 'understood': 8718, 'contractual': 1835, 'designing': 2229, 'assisting': 775, 'evaluations': 2845, 'nmaintain': 5620, 'current': 2028, 'hud': 3727, 'elements': 2639, 'nother': 5731, 'assigned': 767, 'listed': 4472, 'designed': 2226, 'typical': 8668, 'examples': 2870, 'performed': 6464, 'included': 3854, 'positions': 6646, 'duty': 2526, 'nknowledge': 5591, 'abilities': 277, 'nexcellent': 5423, 'nproficiency': 5816, 'write': 9136, 'nstrong': 5963, 'problem': 6804, 'solving': 7924, 'nattention': 5102, 'accuracy': 344, 'nfluent': 5469, 'nexperience': 5435, 'dashboards': 2067, 'preferably': 6718, 'qualitative': 6998, 'quantitative': 7009, 'nproficient': 5817, 'presentation': 6745, 'commitment': 1597, 'applying': 671, 'numerical': 6040, 'achieve': 347, 'enhanced': 2735, 'nability': 5008, 'perspectives': 6506, 'recommend': 7123, 'course': 1931, 'corrections': 1898, 'findings': 3115, 'ntwo': 6027, 'plus': 6609, 'running': 7503, 'hmis': 3658, 'ehr': 2621, 'service': 7720, 'point': 6617, 'clarity': 1458, 'exym': 2991, 'champ': 1369, 'zoho': 9284, 'awards': 883, 'nbachelor': 5121, 'accredited': 340, 'college': 1559, 'university': 8750, 'math': 4675, 'ndirect': 5301, 'direct': 2322, 'supervisory': 8256, 'ncomputer': 5214, 'word': 9101, 'powerpoint': 6684, 'use': 8808, 'widely': 9078, 'supported': 8267, 'browsers': 1149, 'ncertificates': 5169, 'licenses': 4429, 'registrations': 7195, 'nvalid': 6072, 'california': 1218, 'driver': 2502, 'license': 4427, 'utilize': 8824, 'alternative': 562, 'method': 4772, 'transportation': 8593, 'carry': 1284, 'functions': 3293, 'automobile': 862, 'liability': 4421, 'insurance': 4021, 'nadditional': 5025, 'exempt': 2902, 'nsalary': 5898, 'doe': 2451, 'nemployment': 5362, 'contingent': 1819, 'satisfactory': 7550, 'check': 1401, 'nst': 5951, 'endorses': 2710, 'supports': 8270, 'intent': 4048, 'americans': 582, 'act': 362, '1990': 80, 'ada': 385, 'fair': 3023, 'housing': 3707, 'feha': 3078, 'providing': 6926, 'accommodation': 323, 'complete': 1650, 'experiencing': 2932, 'submitting': 8199, 'accompanying': 325, 'materials': 4672, 'contact': 1803, 'human': 3730, '310': 141, '396': 160, '6468': 206, 'nfor': 5473, 'submit': 8195, 'cover': 1938, 'letter': 4405, 'resume': 7378, 'affirmative': 481, 'invited': 4140, 'voluntarily': 8978, 'ethnicity': 2829, 'completing': 1655, 'eeo': 2600, 'voluntary': 8979, 'refusal': 7182, 'subject': 8191, 'adverse': 445, 'treatment': 8607, 'similarly': 7812, 'invites': 4141, 'poster': 6660, 'link': 4464, 'located': 4501, 'https': 3724, 'www': 9143, 'dol': 2457, 'gov': 3441, 'ofccp': 6166, 'regs': 7200, 'posters': 6661, 'pdf': 6435, 'eeopost': 2603, 'dni': 2438, 'ads': 432, 'org': 6269, 'demonstrate': 2179, 'generalizable': 3361, 'pinterest': 6560, 'platform': 6588, 'internally': 4072, 'externally': 2978, 'advertisers': 448, 'meet': 4730, 'll': 4490, 'broad': 1135, 'range': 7054, 'topics': 8521, 'efficiently': 2615, 'algorithms': 538, 'build': 1164, 'rigorous': 7433, 'facing': 3011, 'cross': 1991, 'functionally': 3291, 'experimentally': 2935, 'community': 1617, 'looking': 4523, 'industry': 3904, 'real': 7094, 'world': 9124, 'big': 1005, 'usage': 8804, 'hive': 3653, 'collaborate': 1540, 'ms1': 4946, 'expedia': 2926, 'ndo': 5313, 'wish': 9092, 'volumes': 8977, 'untapped': 8778, 'ocean': 6155, 'nare': 5071, 'dreams': 2493, 'generates': 3366, 'sleep': 7857, 'join': 4209, 'friendly': 3268, 'hilarious': 3635, 'professionals': 6836, 'nif': 5533, 'answered': 638, 'yes': 9266, 'questions': 7025, 'x99ve': 9187, 'right': 7429, 'nwe': 6089, 'wealth': 9034, 'harvest': 3573, 'cases': 1293, 'life': 4436, 'carrentals': 1279, 'mission': 4838, 'scientists': 7594, 'customer': 2039, 'automated': 856, 'scale': 7569, 'variety': 8869, 'challenging': 1367, 'rigor': 7431, 'hypothesis': 3748, 'nwhat': 6094, 'nyou': 6118, 'ndetermine': 5292, 'methodologies': 4778, 'difficult': 2300, 'nown': 5744, 'apply': 670, 'multivariate': 4967, 'winners': 9087, 'ndevelop': 5294, 'segments': 7670, 'audiences': 832, 'used': 8809, 'targeting': 8356, 'improved': 3834, 'profitability': 6846, 'nexplore': 5440, 'passion': 6400, 'relationships': 7227, 'merge': 4756, 'context': 1814, 'prowess': 6928, 'bring': 1132, 'npartner': 5752, 'engineers': 2731, 'train': 8554, 'deploy': 2201, 'scalable': 7567, 'nnetwork': 5670, 'peers': 6443, 'seek': 7658, 'approaches': 681, 'centric': 1344, 'approach': 679, 'aspects': 748, 'journey': 4221, 'ndiscover': 5306, 'address': 400, 'global': 3418, 'travelers': 8597, 'way': 9030, 'narratives': 5074, 'clarify': 1457, 'transparency': 8590, 'offer': 6170, 'led': 4386, 'truly': 8638, 'leaders': 4365, 'surrounded': 8280, 'learn': 4372, 'experiment': 2933, 'tons': 8509, 'single': 7826, 'interesting': 4061, 'millions': 4810, 'encourages': 2702, 'innovation': 3969, 'collaboration': 1543, 'conference': 1722, 'attendance': 813, 'skillset': 7848, 'expansion': 2921, 'classes': 1460, 'nwho': 6098, 'master': 4662, 'higher': 3629, 'scoring': 7607, 'sem': 7686, 'rank': 7057, 'involving': 4147, 'regression': 7198, 'classification': 1463, 'preparation': 6730, 'creative': 1962, 'history': 3649, 'producing': 6824, 'outstanding': 6315, 'professionally': 6835, 'personally': 6500, 'forward': 3226, 'thinking': 8458, 'organized': 6276, 'nwhy': 6099, 'nexpedia': 5434, 'recognizes': 7121, 'dependent': 2195, 'travel': 8595, 'knowledgeable': 4291, 'passionate': 6401, 'brands': 1107, 'recognize': 7119, 'power': 6676, 'break': 1112, 'barriers': 933, 'lives': 4487, 'x93': 9159, 'inspires': 3996, 'exceptional': 2877, 'want': 9006, 'nwhether': 6097, 'lodging': 4505, 'supply': 8264, 'common': 1603, 'goal': 3426, 'relentlessly': 7236, 'humility': 3734, 'optimism': 6243, 'respecting': 7348, 'ideas': 3765, 'small': 7864, 'voices': 8974, 'feet': 3077, 'ground': 3498, 'stay': 8095, 'simple': 7813, 'chance': 1372, 'local': 4497, 'difference': 2293, 'corporate': 1893, 'cares': 1274, 'hunger': 3738, 'loved': 4542, 'consumer': 1799, 'nour': 5738, 'family': 3032, 'includes': 3855, 'brand': 1105, 'xc2': 9253, 'xae': 9245, 'hotels': 3698, 'egencia': 2618, 'trivago': 8626, 'homeaway': 3672, 'orbitz': 6258, 'travelocity': 8599, 'wotif': 9132, 'lastminute': 4333, 'au': 828, 'ebookers': 2554, 'cheaptickets': 1400, 'hotwire': 3701, 'classic': 1461, 'vacations': 8839, 'x84': 9156, 'xa2': 9232, 'cruiseshipcenters': 1995, 'silverrail': 7809, 'alice': 539, 'traveldoo': 8596, 'inclusive': 3858, 'diverse': 2423, 'workforce': 9113, 'genetics': 3375, 'participates': 6380, 'verify': 8896, 'administration': 420, 'ssa': 8025, 'necessary': 5338, 'department': 2188, 'homeland': 3673, 'dhs': 2273, 'confirm': 1733, 'authorization': 848, 'hire': 3638, 'green': 3489, 'card': 1262, 'citizenship': 1445, 'builds': 1168, 'valuable': 8853, 'legal': 4391, 'contracts': 1834, 'ai': 514, 'important': 3824, 'documents': 2450, 'matter': 4684, 'experts': 2943, 'gain': 3317, 'intimate': 4100, 'content': 1811, 'types': 8667, 'answer': 637, 'bs': 1152, 'computational': 1685, 'linguistics': 4462, 'natural': 5103, 'language': 4322, 'processing': 6815, 'nlp': 5614, 'verbal': 8890, 'solver': 7922, 'nbonus': 5137, 'graph': 3473, 'cloud': 1507, 'architectures': 703, 'devops': 2264, 'person': 6492, 'fdr': 3058, 'airworthiness': 526, 'reasonability': 7103, 'checks': 1404, 'avionica': 875, 'flight': 3155, 'incident': 3848, 'documentation': 2447, 'tasks': 8360, 'extrapolate': 2987, 'aircraft': 523, 'downloads': 2475, 'assisted': 774, 'known': 4292, 'coming': 1584, 'files': 3098, 'interpretation': 4083, 'guideline': 3523, 'frames': 3243, 'paperwork': 6358, 'quoting': 7036, 'billing': 1012, 'orders': 6263, 'interface': 4063, 'manager': 4604, 'regular': 7201, 'basis': 943, 'evolution': 2859, 'offerings': 6173, 'second': 7641, 'parties': 6385, 'fashion': 3045, 'minimal': 4821, 'comply': 1665, 'continual': 1820, 'discipline': 2346, 'aviation': 874, 'aeronautical': 467, 'combined': 1575, 'foqa': 3187, 'pilot': 6556, 'maintenance': 4587, 'certifications': 1355, 'commercial': 1592, 'characteristics': 1383, 'binary': 1017, 'octal': 6157, 'hex': 3622, 'numbering': 6036, 'good': 3434, 'organizational': 6272, 'competency': 1639, 'spreadsheets': 8012, 'windows': 9086, 'sg': 7737, 'ge': 3352, 'imagination': 3791, 'manufacturing': 4624, 'components': 1668, 'genx': 3382, 'engines': 2732, 'fuel': 3278, 'noise': 5690, 'reduction': 7160, 'dedicated': 2131, 'turning': 8655, 'imaginative': 3792, 'advances': 440, 'toughest': 8532, 'x99ll': 9183, 'ongoing': 6204, 'substantial': 8213, 'investment': 4134, 'keeps': 4257, 'moving': 4934, 'ahead': 513, 'embedded': 2654, 'collaboratively': 1546, 'highest': 3630, 'caliber': 1217, 'talent': 8342, 'cutting': 2046, 'edge': 2578, 'processes': 6814, 'generation': 3368, 'ecomagination': 2563, 'future': 3311, 'got': 3440, 'art': 727, 'reality': 7096, 'career': 1265, 'rich': 7419, 'challenges': 1366, 'advancement': 438, 'reengineering': 7165, 'sky': 7850, 'globe': 3420, 'generations': 3369, 'come': 1578, 'nge': 5491, 'offers': 6174, 'great': 3483, 'professional': 6833, 'careers': 1267, 'competitive': 1643, 'compensation': 1634, 'ethnic': 2828, 'locations': 4504, 'united': 8744, 'states': 8084, 'miami': 4789, 'employ': 2676, 'authorized': 850, 'ntasks': 5982, 'nreports': 5867, 'bat': 945, 'architect': 698, 'attribution': 826, 'fraud': 3252, 'nships': 5923, 'implementing': 3819, 'nskills': 5934, 'graphs': 3480, 'modelling': 4873, 'structured': 8172, 'unstructured': 8775, 'postgres': 6663, 'mapreduce': 4631, 'remotely': 7264, 'points': 6618, 'nadvanced': 5031, '10': 16, 'forecasting': 3195, 'ml': 4852, 'scikit': 7596, 'apache': 651, 'spark': 7956, 'hadoop': 3542, 'mining': 4825, 'java': 4184, 'scripting': 7619, 'hdfs': 3587, 'kafka': 4248, 'fine': 3116, 'stronger': 8167, 'image': 3786, 'nnull': 5684, 'kept': 4260, 'confidential': 1727, 'according': 331, 'transwestern': 8594, 'companies': 1622, 'comprise': 1679, 'privately': 6793, 'held': 3610, 'diversified': 2424, 'estate': 2818, 'na': 5007, 'underlies': 8707, 'differently': 2299, 'empowering': 2687, 'independence': 3880, 'extraordinary': 2986, 'start': 8071, 'hiring': 3641, 'hard': 3559, 'smart': 7867, 'genuinely': 3381, 'organize': 6275, 'collaborative': 1545, 'outperform': 6307, 'freedom': 3255, 'ownership': 6331, 'exceed': 2871, 'x99': 9181, 'makes': 4593, 'intern': 4070, 'collecting': 1553, 'maintaining': 4585, 'market': 4640, 'washington': 9017, 'baltimore': 924, 'region': 7190, 'collects': 1558, 'inputs': 3976, 'manages': 4606, 'ensures': 2753, 'tracks': 8543, 'updates': 8784, 'changes': 1375, 'sales': 7526, 'leases': 4382, 'construction': 1787, 'proposed': 6894, 'vacancy': 8837, 'tenant': 8406, 'movement': 4932, 'assists': 776, 'quarterly': 7014, 'recommends': 7129, 'expands': 2920, 'promotes': 6873, 'brokers': 1143, 'h3': 3536, 'coursework': 1934, 'economics': 2569, 'proficiency': 6840, 'indesign': 3883, 'costar': 1915, 'succeed': 8217, 'pressure': 6755, 'workload': 9115, 'guidance': 3520, 'paid': 6345, 'calendar': 1216, 'weekly': 9046, 'budgeted': 1161, '15': 48, 'hours': 3704, 'district': 2419, 'columbia': 1565, 'today': 8500, 'energetic': 2713, 'exciting': 2887, 'salary': 7525, 'dental': 2186, 'coverage': 1939, '401': 165, 'plan': 6581, 'agencies': 490, 'calls': 1221, 'corva': 1909, 'hottest': 3700, 'ups': 8795, 'houston': 3708, 'reason': 7102, 'emerging': 2667, 'leader': 4364, 'oil': 6186, 'gas': 3336, 'biggest': 1007, 'rely': 7255, 'minute': 4831, 'critical': 1984, 'contribute': 1836, 'drilling': 2497, '24': 121, 'ready': 7092, 'laser': 4331, 'focus': 3174, 'timeliness': 8486, 'email': 2651, 'proactively': 6798, 'qcs': 6985, 'visuals': 8966, 'enter': 2755, 'qaqc': 6982, 'correct': 1896, 'resolve': 7338, 'completeness': 1653, 'prioritized': 6787, 'correctly': 1900, 'problematic': 6805, 'protocols': 6913, 'prepare': 6732, 'regarding': 7185, 'proper': 6887, 'staged': 8044, 'prior': 6782, 'production': 6826, 'efficiencies': 2612, 'drill': 2496, 'string': 8160, 'bha': 997, 'configurations': 1730, 'bits': 1032, 'mud': 4954, 'motors': 4928, 'casing': 1295, 'fluid': 3171, 'nights': 5536, 'rotation': 7474, 'prioritize': 6786, 'english': 2733, 'navigating': 5112, 'modern': 4879, 'recommended': 7126, 'rig': 7428, 'rto': 7494, 'neuroscience': 5401, 'assessments': 763, 'pymetrics': 6976, 'reinventing': 7217, 'recruiting': 7145, 'matching': 4669, 'candidates': 1241, 'jobs': 4202, 'likely': 4448, 'charge': 1384, 'evolving': 2862, 'amazing': 566, 'unleash': 8754, 'potential': 6673, 'remove': 7266, 'bias': 999, 'hardworking': 3565, 'curiosity': 2025, 'propensity': 6886, 'exploring': 2960, 'behavior': 967, 'believe': 972, 'equitable': 2794, 'sure': 8271, 'measuring': 4718, 'speaks': 7965, 'hope': 3685, 'nrequirements': 5873, 'ba': 899, 'know': 4288, 'concise': 1706, 'especially': 2808, 'regards': 7187, 'dimensional': 2312, 'familiarity': 3030, 'mpp': 4938, 'warehouses': 9011, 'redshift': 7156, 'snowflake': 7888, 'dealing': 2112, 'salesforce': 7527, 'zendesk': 9276, 'marketo': 4644, 'logs': 4515, 'introductory': 4109, 'intermediate': 4068, 'libraries': 4424, 'pandas': 6352, 'scipy': 7598, 'matplotlib': 4680, 'seaborn': 7629, 'plotly': 6606, 'mode': 4867, 'embodiment': 2659, 'core': 1886, 'motivation': 4924, 'positivity': 6649, 'buy': 1188, 'eliminating': 2647, 'health': 3596, 'leave': 4384, 'maternity': 4674, 'paternity': 6408, '401k': 166, 'stock': 8116, 'option': 6249, 'commuter': 1619, 'reimbursement': 7211, 'midtown': 4798, 'manhattan': 4613, 'dog': 2454, 'workplace': 9116, 'intellectually': 4041, 'eager': 2532, 'coworkers': 1942, 'happy': 3557, 'retreats': 7390, 'entry': 2773, 'finally': 3107, 'discriminate': 2369, 'marital': 4638, 'wix': 9095, '90': 249, 'interact': 4052, '130': 42, 'collect': 1551, 'billion': 1013, 'events': 2852, '1tb': 87, 'added': 394, 'store': 8125, 'query': 7019, 'presto': 6757, 'skilled': 7845, 'communicator': 1615, 'analyses': 597, 'clearly': 1481, 'sense': 7696, 'harness': 3567, 'interfaces': 4064, 'beginning': 964, 'bsc': 1154, 'experiments': 2939, 'nas': 5077, 'metrics': 4783, 'validity': 8851, 'reported': 7284, 'nsee': 5909, 'inform': 3930, 'influence': 3919, 'x93churn': 9161, 'segmentation': 7667, 'streamline': 8146, 'finance': 3108, 'mclean': 4699, '19050': 71, 'america': 580, 'virginia': 8941, 'capital': 1252, 'founder': 3235, 'chairman': 1363, 'chief': 1412, 'executive': 2899, 'officer': 6176, 'richard': 7420, 'fairbank': 3024, 'ingenuity': 3946, 'simplicity': 7816, 'humanity': 3731, 'banking': 927, 'enjoy': 2740, 'advocacy': 458, 'exhibit': 2907, 'succeeding': 8218, 'nguided': 5503, 'shared': 7744, 'thrive': 8470, 'openness': 6218, 'valued': 8855, 'powered': 6680, 'perspective': 6505, 'teamwork': 8377, 'respect': 7344, 'superior': 8249, 'obsess': 6138, 'thing': 8453, 'associates': 779, 'helping': 3615, 'realize': 7098, 'quest': 7021, 'change': 1373, 'ndata': 5260, 'launched': 4342, 'startup': 8077, 'disrupted': 2396, 'credit': 1970, 'individually': 3897, 'personalizing': 6499, '1988': 78, 'little': 4481, 'skyrocketed': 7852, 'fortune': 3224, '200': 89, 'risk': 7435, 'outsized': 6312, 'tough': 8531, 'reusable': 7399, 'modules': 4889, 'enabling': 2695, 'leverage': 4411, 'latest': 4337, 'frameworks': 3245, 'levels': 4409, 'executives': 2900, '2nd': 132, 'lines': 4459, 'defense': 2142, 'given': 3407, 'meaningful': 4706, 'extensible': 2974, 'succinctly': 8223, 'communicates': 1610, 'interactions': 4055, 'static': 8086, 'patterns': 6417, 'dependencies': 2193, 'domain': 2460, 'abstracting': 289, 'encoding': 2696, 'visual': 8959, 'forms': 3217, 'representations': 7292, 'evaluating': 2843, 'faster': 3047, 'tell': 8401, 'richer': 7421, 'things': 8454, 'bit': 1031, 'simpler': 7814, 'wave': 9029, 'sharing': 7748, 'inspirational': 3993, 'demos': 2185, 'curious': 2026, 'onlookers': 6208, 'inside': 3986, 'outside': 6311, 'ask': 743, 'afraid': 485, 'blurt': 1054, 'crazy': 1954, 'idea': 3762, 'probably': 6803, 'incredible': 3873, 'list': 4471, 'credentials': 1967, 'impressive': 3831, 'gpa': 3450, 'dropped': 2508, 'taught': 8361, 'open': 6214, 'source': 7940, 'wrangler': 9134, 'api': 653, 'parsing': 6375, 'cleaning': 1470, 'suite': 8234, 'render': 7268, 'useful': 8810, 'think': 8455, 'solved': 7921, 'javascript': 4185, 'experimenter': 2937, 'try': 8642, 'fail': 3020, 'expect': 2922, 'shipped': 7763, 'flopped': 3160, 'fearless': 3059, 'undefined': 8702, 'petabytes': 6516, 'don': 2465, 'frighten': 3270, 'tiny': 8490, 'crack': 1946, 've': 8878, 'broken': 1141, 'nut': 6062, 'ntwenty': 6026, 'started': 8072, 'smartest': 7869, 'met': 4766, 'nbasic': 5127, 'x9cstem': 9222, 'x9d': 9230, 'textual': 8435, 'contributing': 1839, 'ncapital': 5159, 'sponsoring': 8001, 'accuity': 343, 'established': 2815, '1999': 83, 'headquartered': 3592, 'mineola': 4817, 'york': 9269, 'currently': 2030, 'fiu': 3139, 'ny': 6115, 'city': 1446, 'powerful': 6681, 'anti': 641, 'money': 4898, 'laundering': 4344, 'enable': 2691, 'institutions': 4011, 'assess': 759, 'sbs': 7563, 'holistic': 3670, 'reaches': 7082, 'silos': 7808, 'combat': 1569, 'financial': 3109, 'crime': 1976, 'bad': 916, 'guys': 3531, 'miss': 4835, 'patented': 6406, 'ranking': 7059, 'probability': 6801, 'solves': 7923, 'kyc': 4304, 'diligence': 2310, 'supportive': 8269, 'earn': 2539, 'consistently': 1773, 'adhering': 410, 'applies': 669, 'extremely': 2989, 'door': 2467, 'policy': 6623, 'promote': 6872, 'furthering': 3309, 'coaching': 1520, 'nin': 5543, 'profiles': 6843, 'match': 4666, 'individual': 3895, 'names': 5043, 'entities': 2767, 'identified': 3770, 'suspected': 8286, 'affiliated': 477, 'terrorism': 8423, 'crimes': 1977, 'limited': 4453, 'suspicious': 8289, 'activity': 373, 'terrorist': 8424, 'respond': 7352, 'proactive': 6797, 'flexibility': 3153, 'alternate': 561, 'schedules': 7581, 'holidays': 3669, 'talk': 8347, 'min': 4811, 'bsa': 1153, 'usa': 8802, 'patriot': 6415, 'feel': 3074, 'drew': 2495, 'interested': 4060, 'send': 7693, 'boss': 1084, 'tightly': 8482, 'game': 3324, 'arm': 715, 'possible': 6656, 'players': 6593, 'successful': 8221, 'games': 3326, 'establish': 2814, 'ontology': 6211, 'player': 6592, 'motivations': 4925, 'gaming': 3328, 'presenting': 6748, 'disciplines': 2348, 'gateway': 3337, 'blend': 1036, 'louis': 4539, 'online': 6205, 'publisher': 6942, 'portfolio': 6638, 'readers': 7088, 'mysql': 4978, 'fulfill': 3281, 'requests': 7307, 'creation': 1960, 'oriented': 6281, 'clayton': 1468, 'missouri': 4840, 'standard': 8056, '40': 163, 'hour': 3702, 'nresponsibilities': 5882, 'interpreting': 4085, 'issue': 4167, 'inconsistencies': 3864, 'arise': 711, 'workflow': 9111, 'efficiency': 2613, 'acting': 363, 'gathering': 3342, 'focused': 3175, 'google': 3438, 'spreadsheet': 8011, 'sheets': 7753, 'advertising': 449, 'deadline': 2108, 'box': 1091, 'thinker': 8456, 'jira': 4197, 'trello': 8611, 'uniqueness': 8741, 'recruit': 7142, 'preference': 6719, 'military': 4807, 'physical': 6541, 'mental': 4744, 'categories': 1307, 'laws': 4351, 'privileges': 6794, 'live': 4482, 'breathe': 1119, 'fantastic': 3034, 'shop': 7769, 'innovator': 3972, 'subscriber': 8203, 'engagement': 2723, 'personalization': 6496, 'publishers': 6943, 'subscribers': 8204, 'sophisticated': 7930, 'easy': 2548, 'nimble': 5538, 'firm': 3130, 'disciplined': 2347, 'pro': 6796, 'wework': 9066, 'space': 7948, 'entirely': 2766, 'nprimary': 5802, 'nact': 5019, 'storehouses': 8127, 'available': 869, 'mechanisms': 4721, 'departments': 2190, 'ngather': 5488, 'refine': 7175, 'iterate': 4173, 'mock': 4863, 'prototypes': 6915, 'feedback': 3072, 'stakeholder': 8048, 'nassist': 5087, 'selection': 7676, 'nconsistently': 5220, 'milestones': 4806, 'deadlines': 2109, 'progress': 6855, 'traits': 8560, 'n5': 4998, 'ideally': 3764, 'nproven': 5826, 'workspace': 9122, 'strict': 8158, 'requirement': 7310, 'interpersonal': 4080, 'focusing': 3177, 'roles': 7459, 'seniority': 7695, 'helps': 3616, 'define': 2146, 'music': 4972, 'audio': 833, 'listeners': 4474, 'personalize': 6497, 'works': 9119, 'multidisciplinary': 4960, 'researchers': 7319, 'nyour': 6119, 'undertake': 8719, 'greater': 3484, 'lasting': 4332, 'interpret': 4081, 'exploratory': 2957, 'evaluate': 2840, 'root': 7469, 'causes': 1318, 'function': 3287, 'wider': 9079, 'coach': 1518, 'psychology': 6934, 'competence': 1636, 'scala': 7565, 'ggplot': 3395, 'metric': 4782, 'autonomously': 866, 'capable': 1249, 'taking': 8340, 'loosely': 4530, 'defined': 2147, 'translating': 8585, 'practical': 6694, 'communicative': 1614, 'colleagues': 1550, 'enjoys': 2744, 'teaching': 8370, 'writer': 9137, 'validation': 8849, 'specialist': 7967, 'importing': 3827, 'transforming': 8577, 'validating': 8848, 'purpose': 6962, 'regulatory': 7207, 'collaborates': 1541, 'stake': 8047, 'holders': 3664, 'file': 3096, 'imports': 3828, 'exports': 2963, 'warehouse': 9010, 'develops': 2259, 'response': 7356, 'assesses': 760, 'validates': 8847, 'vital': 8967, 'extracting': 2982, 'staff': 8041, 'monitors': 4904, 'submissions': 8194, 'submits': 8196, 'facilitate': 3005, 'courteous': 1936, 'responsive': 7362, 'respectful': 7346, 'developed': 2252, 'adaptable': 388, 'vba': 8877, 'ethical': 2824, 'speech': 7985, 'hearing': 3602, 'sufficient': 8225, 'comprehend': 1675, 'express': 2966, 'sit': 7831, 'generous': 3373, 'fitness': 3137, 'partially': 6377, 'funded': 3298, 'hsa': 3721, 'extended': 2971, 'sick': 7791, 'short': 7776, 'balance': 921, 'eap': 2534, '________________________________________________': 268, 'nascentia': 5080, 'post': 6658, 'acute': 383, 'headquarters': 3593, 'featuring': 3066, 'walls': 9002, 'concept': 1694, 'serving': 7723, 'homes': 3677, 'true': 8635, 'immediate': 3797, 'positive': 6647, 'lifestyle': 4439, 'choices': 1422, 'avoid': 877, 'unnecessary': 8764, 'visits': 8958, 'busy': 1183, 'facilities': 3009, 'greatest': 3485, 'asset': 764, 'premier': 6724, 'regions': 7192, 'excited': 2884, 'pride': 6770, 'eoe': 2782, 'negative': 5353, 'pre': 6702, 'drug': 2509, 'screen': 7615, 'verb': 8889, 'surgical': 8278, 'johnson': 4207, 'joint': 4213, 'venture': 8886, 'clinicians': 1498, 'hospitals': 3695, 'patients': 6413, 'scenes': 7578, 'procedure': 6807, 'video': 8922, 'robot': 7448, 'sensors': 7700, 'interacting': 4053, 'experimenting': 2938, 'collected': 1552, 'finding': 3114, 'leveraging': 4414, 'annotation': 626, 'integrate': 4031, 'collaborations': 1544, 'images': 3790, 'clustering': 1512, 'tree': 8609, 'advantages': 443, 'drawbacks': 2488, 'distributions': 2416, 'manipulate': 4614, 'coordinating': 1875, 'electrical': 2632, 'biomedical': 1023, 'nverb': 6077, 'surgery': 8277, 'unimagined': 8733, 'ago': 506, 'involve': 4143, 'robotic': 7449, 'instrumentation': 4017, 'aims': 521, 'lower': 4545, 'costs': 1916, 'hospital': 3693, 'founded': 3234, 'funding': 3300, 'verily': 8898, 'ethicon': 2826, 'device': 2260, 'continue': 1822, 'partnership': 6391, 'advance': 436, 'capabilities': 1247, 'surgeons': 8276, 'area': 708, 'excellence': 2874, 'blue': 1052, 'shield': 7756, 'illinois': 3782, 'mexico': 4786, 'montana': 4906, 'oklahoma': 6190, 'texas': 8431, 'spend': 7988, 'approximately': 689, 'quarter': 7013, 'promoting': 6874, 'organizing': 6279, 'broader': 1137, 'largest': 4330, 'owned': 6328, 'profit': 6845, 'insurer': 4022, 'fourth': 3238, 'massive': 4661, 'affect': 472, 'delivered': 2165, 'nan': 5046, 'loves': 4543, 'demonstrates': 2181, 'possesses': 6652, 'intersection': 4091, 'employing': 2682, 'adoption': 430, 'add': 393, 'derive': 2211, 'explain': 2945, 'feasible': 3062, 'physics': 6544, 'actuarial': 378, 'credential': 1966, 'style': 8186, 'distributed': 2411, 'computing': 1689, 'bachelors': 904, 'significant': 7804, 'chicago': 1410, 'il': 3780, 'nrelocation': 5863, 'nsponsorship': 5947, 'hcsc': 3586, 'free': 3254, 'smoke': 7875, 'screening': 7616, 'investigation': 4128, 'allowed': 551, 'h4': 3537, 'disabled': 2337, 'website': 9038, 'request': 7304, 'note': 5727, 'returned': 7396, 'resumes': 7379, 'submitted': 8198, 'line': 4457, 'navigate': 5111, 'account': 333, 'click': 1487, 'view': 8926, 'x9cpeople': 9212, 'personify': 6502, 'anxious': 648, 'abounds': 281, 'aimbridge': 518, 'nmines': 5646, 'analyzes': 611, 'enhancing': 2739, 'typically': 8669, 'requires': 7312, 'authority': 847, 'pertaining': 6509, 'hospitality': 3694, 'authoritative': 846, 'organizes': 6278, 'guides': 3525, 'subordinate': 8200, 'mgnt': 4787, 'beneficial': 985, 'linear': 4458, 'projection': 6864, 'situation': 7837, 'performs': 6466, 'improving': 3838, 'answering': 639, 'intended': 4045, 'details': 2239, 'specified': 7980, 'signed': 7802, 'nmedical': 5639, 'n401k': 4997, 'retirement': 7387, 'nshort': 5924, 'income': 3859, 'nterm': 5992, 'nvacation': 6071, 'holiday': 3668, 'nemployee': 5360, 'specific': 7976, 'goby': 3428, 'ap': 650, 'esg': 2806, 'reshape': 7327, 'boost': 1073, '140': 47, '51': 185, 'countries': 1925, 'seeks': 7662, 'ambitious': 573, 'acquiring': 358, 'configuring': 1732, 'refining': 7176, 'acquire': 355, 'macros': 4571, 'templates': 8404, 'possess': 6651, 'sustainability': 8291, 'energy': 2716, 'aptitude': 695, 'willingness': 9083, 'spirit': 7994, 'worker': 9109, 'attitude': 818, 'particularly': 6384, 'star': 8068, 'backed': 907, 'casual': 1300, 'dress': 2494, 'loop': 4528, 'amenities': 578, 'foosball': 3183, 'ping': 6558, 'pong': 6630, 'tables': 8323, 'private': 6792, 'outdoor': 6295, 'patio': 6414, 'club': 1509, 'golf': 3433, 'simulator': 7822, 'eligible': 2645, 'visa': 8947, 'sponsorship': 8003, 'engineer': 2728, 'supplying': 8265, 'fellow': 3079, 'hql': 3713, 'presentations': 6746, 'resporting': 7364, 'brainstorm': 1100, 'months': 4912, 'minitab': 4826, 'directed': 2323, 'scrum': 7623, 'corporation': 1894, 'affiliates': 478, 'collectively': 1557, 'x9csg': 9220, 'engaged': 2722, 'regulated': 7204, 'lottery': 4536, 'businesses': 1181, 'certain': 1349, 'obtain': 6144, 'undergo': 8703, 'investigations': 4129, 'dictated': 2284, 'regulation': 7205, 'complies': 1663, 'commitments': 1598, 'condition': 1714, 'continuing': 1825, 'prerequisite': 6736, 'extent': 2976, 'permitted': 6483, 'shall': 7739, 'asked': 744, 'consent': 1758, 'conducting': 1718, 'interpreted': 4084, 'major': 4588, 'requested': 7305, 'stated': 8081, 'does': 2453, 'x99d': 9182, 'rights': 7430, '67': 209, '968': 260, '126': 40, '062': 11, 'cia': 1432, 'makers': 4592, 'shape': 7740, 'investments': 4135, 'specialized': 7972, 'hardware': 3564, 'conclusions': 1709, 'sponsored': 8000, 'academic': 299, 'conferences': 1723, 'h5': 3538, 'offices': 6178, 'directorate': 2330, 'ddi': 2106, 'forefront': 3197, 'defining': 2149, 'focuses': 3176, 'investing': 4133, 'infrastructure': 3942, 'modernizing': 4882, 'officers': 6177, 'integration': 4035, 'cyber': 2049, 'ultimately': 8686, 'safeguard': 7513, 'nation': 5093, 'nlife': 5604, 'comprehensive': 1677, 'package': 6340, 'altering': 560, 'happen': 3553, 'isn': 4161, 'dual': 2518, 'citizens': 1444, 'relocation': 7253, 'dc': 2104, 'metro': 4784, 'nminimum': 5648, 'stem': 8101, 'geospatial': 3390, 'thesis': 8452, 'internships': 4078, 'initiative': 3958, 'sub': 8189, 'incomplete': 3861, 'psychological': 6933, 'exam': 2866, 'polygraph': 6629, 'interview': 4096, 'considered': 1767, 'suitable': 8233, 'generally': 3363, 'illegal': 3781, 'drugs': 2510, 'carefully': 1271, 'evaluated': 2841, 'student': 8177, 'administers': 419, 'advising': 454, 'incumbent': 3878, 'essc': 2811, 'study': 8182, 'encompass': 2697, 'experimental': 2934, 'feasibility': 3061, 'assessment': 762, 'sampling': 7533, 'proof': 6880, 'reliability': 7240, 'employed': 2677, 'generated': 3365, 'emphasizing': 2673, 'ndeveloper': 5295, 'ngoal': 5497, 'script': 7618, 'imported': 3826, 'choose': 1423, 'predictions': 6712, 'nmust': 5665, 'american': 581, 'citizen': 1443, 'noverview': 5742, 'built': 1169, 'features': 3065, 'bug': 1163, 'fixing': 3143, 'nself': 5911, 'automates': 857, 'collaborating': 1542, 'skype': 7851, 'title': 8494, 'dig': 2302, 'figure': 3093, 'matters': 4685, 'numo': 6042, 'incubate': 3877, 'fintech': 3129, 'minded': 4813, 'wants': 9008, 'stage': 8043, 'sits': 7835, 'fuzzy': 3313, 'pipeline': 6565, 'partnering': 6389, 'academics': 300, 'wizard': 9096, 'combination': 1570, 'digging': 2306, 'novel': 5739, 'turn': 8652, 'commercializable': 1593, 'horsepower': 3690, 'bear': 954, 'ambiguous': 570, 'prototype': 6914, 'actually': 377, 'fit': 3136, 'allow': 550, 'gather': 3340, 'soon': 7929, 'necessarily': 5337, 'stewarding': 8107, 'launch': 4341, 'going': 3430, 'angles': 618, 'sound': 7938, 'ideate': 3766, 'outline': 6301, 'objectives': 6132, 'limitations': 4452, 'table': 8321, 'demonstrating': 2182, 'stata': 8079, 'coder': 1525, 'operate': 6223, 'quickly': 7030, 'technologists': 8389, 'thinkers': 8457, 'pair': 6349, 'parent': 6367, 'institution': 4009, 'x94we': 9176, 'pains': 6348, 'cool': 1867, 'bakery': 920, 'square': 8018, 'addresses': 402, 'slack': 7855, 'comfortable': 1582, 'informed': 3937, 'visibility': 8948, 'craft': 1947, 'integrations': 4036, 'enables': 2694, 'nslack': 5935, 'look': 4521, 'inventive': 4117, 'aim': 517, 'humble': 3733, 'sounds': 7939, 'say': 7559, 'hello': 3611, 'roadmaps': 7446, 'deepen': 2135, 'uncover': 8699, 'scaled': 7570, 'empower': 2685, 'grasp': 3481, 'probabilities': 6800, 'consulting': 1796, 'layer': 4354, 'brings': 1134, 'hundreds': 3736, 'thousands': 8465, '100': 17, 'corner': 1889, 'markets': 4647, 'kinds': 4275, 'san': 7536, 'francisco': 3250, 'ca': 1199, 'connected': 1747, 'visit': 8953, 'nensuring': 5373, 'backgrounds': 910, 'pleasant': 6599, 'ncome': 5197, 'beautiful': 957, 'santa': 7541, 'barbara': 931, 'hg': 3623, 'intelligent': 4043, 'mandate': 4609, 'install': 4000, 'sweat': 8300, 'run': 7502, 'blocks': 1044, 'away': 886, 'riding': 7426, 'bikes': 1010, 'lunch': 4560, 'funk': 3303, 'zone': 9285, 'hanging': 3552, 'spaces': 7950, 'seriously': 7713, 'surf': 8273, 'dataset': 2084, 'enhancements': 2737, 'curation': 2023, 'gained': 3318, 'impactful': 3809, 'achievement': 348, 'departmental': 2189, 'comprehensively': 1678, 'rule': 7499, 'guide': 3521, 'systematic': 8318, 'associated': 778, 'demand': 2170, 'tokens': 8503, 'final': 3104, 'determines': 2247, 'mrf': 4941, 'qc': 6984, 'cycle': 2051, 'control': 1844, 'input': 3975, 'bpo': 1094, 'outsource': 6313, 'centers': 1341, 'output': 6308, 'append': 659, 'athena': 793, 'translate': 8583, 'created': 1957, 'ethics': 2827, 'confidence': 1725, 'betterment': 993, 'reading': 7090, 'comprehension': 1676, 'immediately': 3798, 'haves': 3578, 'h1': 3533, 'nreporting': 5866, 'ninterviews': 5571, 'october': 6158, '2018': 106, 'march': 4636, '11': 30, 'mid': 4795, 'june': 4239, 'august': 841, 'september': 7708, 'denver': 2187, '17th': 60, '16': 53, 'nbased': 5126, 'interests': 4062, 'interns': 4076, 'arrow': 726, 'electronics': 2635, 'narrow': 5075, 'electronic': 2633, 'channel': 1377, '150': 49, '000': 1, 'original': 6283, 'equipment': 2790, 'manufacturers': 4623, 'resellers': 7322, 'network': 5392, '300': 136, '45': 171, 'distribution': 2414, '80': 229, '113': 32, '18': 61, '800': 230, 'worldwide': 9129, 'breadth': 1111, 'telecommunications': 8396, 'connecting': 1748, 'price': 6767, 'suppliers': 8262, 'connects': 1753, 'nhands': 5505, 'nchance': 5172, '125': 39, 'nsmall': 5936, 'forums': 3225, 'nstretch': 5962, 'directors': 2331, 'nfunctional': 5486, 'drivers': 2503, 'definition': 2151, 'profile': 6842, 'ncurrently': 5253, 'enrolled': 2748, 'pursuing': 6966, 'graduation': 3463, 'date': 2090, 'earlier': 2536, 'december': 2119, 'navailable': 5110, 'n3': 4993, 'multitask': 4965, 'ndetail': 5290, 'ncompensation': 5205, 'nlocation': 5612, 'ndenver': 5280, 'panorama': 6354, 'ntime': 6006, 'category': 1310, 'nnon': 5677, 'supplier': 8261, 'westrock': 9063, 'nwestrock': 6093, 'nyse': 6121, 'wrk': 9141, 'differentiated': 2297, 'paper': 6356, 'packaging': 6342, 'win': 9084, 'marketplace': 4645, '50': 179, '320': 147, 'operating': 6225, 'spanning': 7953, 'north': 5721, 'south': 7944, 'europe': 2836, 'asia': 742, 'australia': 843, 'atlanta': 798, 'n1000': 4983, 'abernathy': 276, 'rd': 7078, 'ne': 5331, 'natlanta': 5098, 'georgia': 3389, '30328': 137, 'nunited': 6050, 'nrequisition': 5875, '8954': 246, '1000': 18, 'road': 7443, 'unanticipated': 8689, 'formulate': 3220, 'optimizing': 6248, 'formulation': 3221, 'save': 7554, 'predicting': 6710, 'setup': 7730, 'transformation': 8573, 'briefings': 1125, 'researches': 7320, 'telecommuting': 8397, 'accept': 307, 'offered': 6171, 'occupation': 6152, 'cplex': 1944, 'ampl': 592, 'opl': 6237, 'chain': 1362, 'ncontact': 5223, 'mail': 4578, 'requisition': 7314, 'attn': 820, 'stephanie': 8103, 'davis': 2093, 'nredjack': 5856, 'protect': 6906, 'enterprises': 2759, 'resilience': 7332, 'curriculum': 2031, 'complied': 1662, 'rust': 7507, 'ruby': 7497, 'accomplished': 327, 'pc': 6432, 'osx': 6290, 'redjack': 7154, 'reserve': 7324, 'stimulating': 8112, 'feels': 3075, 'positioned': 6645, 'ends': 2711, 'lost': 4534, 'uninformed': 8734, 'eventually': 2853, 'paying': 6424, 'nthat': 5995, 'vim': 8936, 'x94': 9163, 'npatients': 5757, 'doctors': 2445, 'reduce': 7158, 'burden': 1175, 'afford': 482, 'nvim': 6082, 'providers': 6924, 'populations': 6635, 'transfer': 8569, 'sftp': 7736, 'documenting': 2449, 'cmo': 1514, 'justify': 4246, 'sensitive': 7697, 'ingest': 3947, 'map': 4626, 'enrich': 2746, 'consumers': 1800, 'majority': 4589, 'unfortunately': 8726, 'executing': 2896, 'crafting': 1949, 'distilling': 2405, 'resiliency': 7333, 'face': 3000, 'insufficient': 4020, 'prioritizing': 6789, 'enthusiastic': 2764, 'learner': 4374, 'timelines': 8485, 'certainly': 1350, 'emr': 2690, 'git': 3405, 'tel': 8392, 'aviv': 876, 'greatpoint': 3488, 'ventures': 8887, 'optum': 6252, 'sequoia': 7711, 'israel': 4165, 'bcbs': 951, 'payers': 6423, 'motiion': 4920, 'food': 3182, 'merit': 4760, 'fostering': 3229, 'accountability': 335, 'previously': 6766, 'scattered': 7575, 'inconsistently': 3866, 'waste': 9018, 'freshness': 3262, 'answers': 640, 'bolster': 1067, 'dive': 2422, 'geographical': 3385, 'boxes': 1092, 'aspire': 751, 'signs': 7806, 'ntoolbox': 6009, 'artificial': 736, 'intuitively': 4113, 'shortlist': 7778, 'nunderstanding': 6046, 'termimpact': 8418, 'x9cbang': 9192, 'buck': 1156, 'nperformance': 5765, 'recognized': 7120, 'nstarter': 5954, 'finisher': 3124, 'solution': 7917, 'collaborators': 1547, 'far': 3035, 'ethic': 2823, 'unquestioned': 8769, 'sustainable': 8292, 'ndisciplined': 5303, 'reliable': 7241, 'hit': 3650, 'snag': 7882, 'reset': 7326, 'ncollaborative': 5192, 'strengths': 8153, 'nappreciation': 5064, 'honest': 3680, 'constructive': 1788, 'kindly': 4274, 'ambiguity': 569, 'nanalytical': 5048, 'mind': 4812, 'precise': 6703, 'acceptable': 309, 'absolutely': 285, 'main': 4581, 'spending': 7989, 'rest': 7365, 'outlast': 6298, 'achieving': 351, 'founders': 3236, 'scratch': 7614, 'painful': 6347, 'proud': 6917, 'invested': 4123, 'eyes': 2993, 'priorities': 6784, 'nremote': 5864, 'catch': 1306, 'comes': 1580, 'vastly': 8875, 'outnumber': 6304, 'disadvantages': 2338, 'speaking': 7964, 'dozens': 2479, 'shown': 7783, 'obstacle': 6142, 'half': 3543, 'mean': 4704, 'pay': 6420, 'prefer': 6716, 'encourage': 2700, 'regularly': 7203, 'interaction': 4054, 'npersonal': 5770, 'seen': 7664, 'devolve': 2263, 'empire': 2674, 'contributors': 1843, 'nbenefits': 5133, 'notch': 5726, 'vacation': 8838, 'nauvera': 5108, 'intricately': 4104, 'involved': 4144, 'methodical': 4773, 'theoretical': 8445, 'devise': 2262, 'sw': 8299, 'architecture': 702, 'saas': 7510, 'postgress': 6665, 'titan': 8493, 'casandra': 1290, 'rails': 7043, 'elastic': 2625, 'angular': 620, 'storm': 8131, 'contributed': 1837, 'articulate': 732, 'nplease': 5779, 'kids': 4270, 'namikids': 5044, 'served': 7715, '136': 45, 'families': 3031, '1969': 74, 'amikids': 586, 'means': 4708, 'youth': 9271, 'productive': 6828, 'public': 6936, 'safety': 7517, 'positively': 6648, 'communities': 1616, 'separating': 7707, 'troubled': 8629, 'bright': 1127, 'guiding': 3526, 'principles': 6778, 'honesty': 3681, 'enthusiasm': 2762, 'loyalty': 4549, 'dedication': 2132, 'nnow': 5683, 'step': 8102, 'aggregation': 499, 'affiliate': 476, 'institutes': 4008, 'distributing': 2413, 'comparison': 1628, 'sis': 7828, 'distribute': 2410, 'reoccurring': 7272, 'kid': 4269, 'count': 1923, 'indicator': 3891, 'frequently': 3260, 'conduction': 1719, 'charts': 1393, 'papers': 6357, 'disseminate': 2400, 'literature': 4480, 'regional': 7191, 'codes': 1526, 'comparing': 1627, 'special': 7966, 'juvenile': 4247, 'justice': 4245, 'criminology': 1979, 'verbally': 8891, 'listen': 4473, 'groups': 3502, 'valid': 8844, 'meets': 4733, 'cdl': 1326, 'std': 8098, 'union': 8736, 'minorities': 4829, 'females': 3083, 'veterans': 8911, 'xj6': 9258, 'footprint': 3186, 'acquisitions': 360, 'autodesk': 854, 'equipped': 2791, 'revolutionize': 7409, 'close': 1501, 'sync': 8309, 'nautodesk': 5107, 'accessible': 317, 'simplify': 7819, 'complexity': 1659, 'trying': 8643, 'measurements': 4715, 'ndesign': 5285, 'intuitive': 4112, 'disparate': 2384, 'housed': 3706, 'numerous': 6041, 'optimal': 6242, 'extraction': 2983, 'loading': 4494, 'outlets': 6299, 'sfdc': 7735, 'domo': 2464, 'delivery': 2168, 'mba': 4695, 'manipulation': 4617, 'pyspark': 6977, 'dataframes': 2074, 'nbroad': 5143, 'nprior': 5803, 'nprofessional': 5815, 'ninternships': 5568, 'runs': 7504, 'x93august': 9160, 'interviewing': 4097, 'january': 4182, 'rolling': 7462, 'recruiter': 7143, 'didn': 2288, 'x99t': 9186, 'nabout': 5010, 'nwith': 6103, 'radical': 7041, 'disrupting': 2397, 'entertainment': 2761, 'disruption': 2398, 'architects': 700, 'artists': 737, 'hobbyists': 3660, 'dimensions': 2314, 'ultimate': 8685, 'expand': 2917, 'imagine': 3793, 'considers': 1769, 'regardless': 7186, 'criminal': 1978, 'histories': 3648, 'consistent': 1772, 'recruitment': 7146, 'unsolicited': 8773, 'headhunter': 3591, 'fees': 3076, 'agreement': 509, 'nutilize': 6064, 'calculated': 1210, 'columns': 1567, 'purchase': 6958, 'series': 7712, 'flows': 3165, 'teradata': 8416, 'recommendation': 7124, 'random': 7052, 'forest': 3200, 'vector': 8879, 'metadata': 4768, 'frontend': 3271, 'developer': 2253, 'designer': 2227, 'shopping': 7772, 'deploying': 2203, 'promotion': 6875, 'nanalyze': 5050, 'behaviors': 969, 'customized': 2044, 'modified': 4884, 'desktop': 2236, 'ncollect': 5193, 'categorize': 1309, 'optimized': 6246, 'geographic': 3384, 'shopper': 7770, 'sessions': 7724, 'implications': 3821, 'nconsult': 5221, 'admin': 416, 'configuration': 1729, 'frame': 3242, 'scenarios': 7577, '57': 193, '85': 238, 'labs': 4312, 'gpl': 3451, 'evidence': 2858, 'andrew': 615, 'young': 9270, 'studies': 8179, 'policymakers': 6624, 'policies': 6622, 'addressing': 403, 'pressing': 6754, 'decide': 2120, 'promising': 6871, 'scarce': 7573, 'comprises': 1681, 'lab': 4307, 'exchange': 2880, 'child': 1414, 'children': 1416, 'officials': 6180, 'constituents': 1783, 'conscientious': 1755, 'hold': 3662, 'economic': 2567, 'micro': 4792, 'toolkit': 8514, 'encouraged': 2701, 'scope': 7602, 'nclean': 5180, 'uniformity': 8730, 'readiness': 7089, 'purposes': 6963, 'napply': 5062, 'x94including': 9169, 'x94to': 9175, 'nwrite': 6109, 'nperform': 5764, 'ndisclaimer': 5304, 'exclusive': 2889, 'discretion': 2367, 'ncollege': 5196, 'ndepartment': 5281, 'campus': 1235, 'nshift': 5922, '30': 135, 'pm': 6611, 'monday': 4896, 'friday': 3265, 'npay': 5760, 'grade': 3454, 'nflsa': 5467, 'posting': 6667, '03': 8, '25': 123, '19': 64, '17': 56, '33': 148, 'nclosing': 5185, '04': 10, '59': 196, '00': 0, 'governmental': 3447, 'nmaster': 5634, 'degrees': 2154, 'mastery': 4665, 'gis': 3404, 'helpful': 3614, 'lay': 4353, 'nspecial': 5943, 'samples': 7532, 'references': 7170, 'filled': 3100, 'reviewed': 7405, 'april': 694, 'board': 1056, 'requisitions': 7315, 'removed': 7267, 'notice': 5732, 'expires': 2944, 'brightest': 1128, 'minds': 4815, 'futuristic': 3312, 'researching': 7321, 'groundbreaking': 3499, 'influencing': 3922, 'retail': 7380, 'contributions': 1841, 'reinvent': 7216, 'guests': 3518, 'responsib': 7358, 'nle': 5594, 'nosql': 5725, 'text': 8432, 'drives': 2504, 'xbb': 9251, 'algorithmic': 537, 'recommender': 7127, 'filtering': 3102, 'msc': 4947, 'stream': 8144, 'rf': 7417, 'generalized': 3362, 'naive': 5036, 'bayes': 949, 'empirical': 2675, 'analytos': 607, 'challenge': 1364, 'neventbrite': 5404, 'bustling': 1182, 'ticket': 8474, 'seconds': 7643, 'goes': 3429, 'smoothly': 7878, 'organizers': 6277, 'attendees': 814, 'happens': 3554, 'reliably': 7242, 'knowing': 4289, 'low': 4544, 'precision': 6704, 'landscape': 4320, 'threats': 8467, 'disciplinary': 2345, 'ranging': 7056, 'chargeback': 1385, 'specialists': 7968, 'keeping': 4256, 'eventbrite': 2851, 'vigilant': 8934, 'terms': 8422, 'needle': 5345, 'gets': 3393, 'pulled': 6947, 'haystack': 3580, 'spam': 7951, 'detection': 2241, 'nitty': 5580, 'gritty': 3495, 'gaps': 3331, 'decisioning': 2122, 'ship': 7762, 'exactly': 2865, 'envisioned': 2779, 'skill': 7844, 'fluency': 3168, 'accurately': 346, 'gt': 3510, 'comfort': 1581, 'messy': 4765, 'bonus': 1068, 'payments': 6426, 'powering': 6682, 'allows': 553, 'share': 7743, 'attend': 812, 'festivals': 3084, 'marathons': 4634, 'hackathons': 3540, 'political': 6626, 'rallies': 7048, 'fundraisers': 3301, 'competitions': 1642, 'nis': 5576, 'exact': 2864, 'nsign': 5929, 'touch': 8528, 'let': 4404, 'ancestry': 613, 'childbirth': 1415, 'conditions': 1715, 'registered': 7193, 'domestic': 2462, 'caregiver': 1272, 'transgender': 8579, 'stereotypes': 8105, 'affiliation': 479, 'victim': 8919, 'violence': 8938, 'assault': 755, 'stalking': 8050, 'npursuant': 5831, 'ordinance': 6264, 'arrest': 724, 'conviction': 1862, 'records': 7139, 'restaurant': 7366, 'newest': 5409, 'increased': 3870, 'transactional': 8563, 'importantly': 3825, 'nbecome': 5129, 'nprovide': 5827, 'drawing': 2489, 'nexplain': 5439, 'ncollaborate': 5189, 'exercises': 2904, 'retention': 7386, 'ntrack': 6013, 'campaign': 1232, 'nincrease': 5545, 'roi': 7457, 'kobie': 4295, 'rewards': 7415, 'fulfillment': 3283, 'ton': 8507, 'fresh': 3261, 'embrace': 2660, 'rapidly': 7062, 'crm': 1988, 'manipulating': 4616, 'spss': 8015, 'ols': 6194, 'logistic': 4511, 'trees': 8610, 'relate': 7219, 'ndemonstrated': 5277, 'rfm': 7418, 'cluster': 1511, 'targeted': 8355, 'stand': 8054, 'nsas': 5902, 'miner': 4818, 'viya': 8968, 'nretail': 5887, 'telecom': 8394, 'twice': 8662, 'ok': 6188, 'ryerson': 7508, 'son': 7927, 'metals': 4769, 'distributors': 2418, 'recently': 7114, 'celebrated': 1330, '176th': 58, 'anniversary': 624, 'canada': 1237, 'china': 1417, 'lisle': 4470, 'nexpected': 5433, 'circumstances': 1439, 'cognos': 1534, 'engine': 2727, 'pertinent': 6511, 'accounting': 338, 'treasury': 8603, 'newly': 5410, 'tactical': 8331, 'demands': 2172, 'anticipated': 644, 'oracle': 6253, 'learned': 4373, 'progressive': 6859, 'matriculation': 4681, 'logical': 4509, 'creatively': 1963, 'envision': 2778, 'cumulative': 2019, 'intellectual': 4040, 'pivot': 6569, 'vlookups': 8971, '969': 261, '756': 224, 'professors': 6838, 'dana': 2060, 'mukamel': 4955, 'kai': 4250, 'zheng': 9281, 'calmhsa': 1223, 'inn': 3963, 'statewide': 8085, 'chatting': 1398, 'faculty': 3019, 'variables': 8862, 'describing': 2217, 'apps': 691, 'irvine': 4158, 'advancing': 441, 'covered': 1940, 'uc': 8674, 'nondiscrimination': 5694, '58': 195, '755': 223, '83': 233, 'ntotal': 6011, 'ncontract': 5229, 'nfinal': 5460, 'subcontracts': 8190, 'attach': 806, 'announcement': 628, 'bank': 926, 'silicon': 7807, 'valley': 8852, 'clara': 1455, 'mateo': 4670, 'counties': 1924, 'nfood': 5472, 'banks': 928, 'average': 872, '260': 125, 'nharvest': 5507, '1974': 77, 'immense': 3799, 'nsilicon': 5931, 'partly': 6386, 'living': 4489, 'malnutrition': 4597, 'pervasive': 6513, 'ndistributes': 5311, 'nutritious': 6070, 'nthrough': 6005, '309': 138, 'nonprofit': 5698, '985': 265, 'feed': 3071, 'hungry': 3740, 'nadvocates': 5033, 'nutrition': 6067, 'nresources': 5881, 'shfb': 7755, 'nsecond': 5907, 'nusing': 6061, 'floor': 3159, 'nreach': 5848, 'ndifferent': 5299, 'nfind': 5462, 'willing': 9082, 'roll': 7460, 'nup': 6053, 'sleeves': 7858, 'nwill': 6100, 'selected': 7674, 'mapping': 4628, 'deriving': 2213, 'storage': 8123, 'fields': 3090, 'preparing': 6735, 'demonstrated': 2180, 'orally': 6256, 'eagerness': 2533, '750': 222, 'curtner': 2032, 'ave': 870, 'jose': 4215, '95125': 258, 'occasional': 6149, 'evenings': 2849, 'commensurate': 1589, 'fto': 3277, 'starting': 8075, 'nholidays': 5519, 'savings': 7557, 'represented': 7295, 'international': 4073, 'dsi': 2514, 'preclinical': 6705, 'physiological': 6545, 'telemetry': 8398, 'pulmonary': 6950, 'allowing': 552, 'treatments': 8608, 'trials': 8618, 'inspiration': 3992, 'openly': 6217, 'organizations': 6274, 'shunned': 7786, 'relationship': 7226, 'latitude': 4339, 'judgment': 4231, 'npassionate': 5755, 'certification': 1354, 'cbap': 1320, 'pba': 6430, 'cma': 1513, 'id': 3761, 'nreq6316': 5870, 'openings': 6216, 'n6': 5000, 'nregular': 5857, 'nfirst': 5463, 'nnot': 5680, 'ndallas': 5257, 'tx': 8665, 'phoenix': 6538, 'az': 893, 'bloomington': 1050, 'representation': 7291, 'clearer': 1480, 'viewer': 8929, 'ninvestigates': 5574, 'initiates': 3956, 'nworks': 6107, 'nidentifies': 5531, 'extend': 2970, 'nmanages': 5629, 'napplies': 5061, 'theories': 8446, 'ndevelops': 5298, 'contacts': 1805, 'obtaining': 6146, 'emergent': 2666, 'ncontributes': 5231, 'farm': 3037, 'publications': 6938, 'articles': 731, 'journals': 4220, 'select': 7673, 'inferential': 3915, 'generative': 3370, 'discriminative': 2373, 'repositories': 7288, 'nassists': 5089, 'nprepares': 5798, 'manipulates': 4615, 'fundamental': 3295, 'uses': 8813, '95': 257, 'engage': 2721, 'nimplementing': 5540, 'identification': 3769, 'proposal': 6891, 'ns': 5897, 'kills': 4271, 'hypotheses': 3747, 'probable': 6802, 'recognition': 7118, 'pull': 6946, 'rdbms': 7079, 'hierarchical': 3626, 'boosting': 1075, 'forests': 3202, 'exercise': 2903, 'diagnose': 2275, 'ci': 1431, 'cd': 1323, 'docker': 2440, 'nmultiple': 5664, 'dallas': 2058, 'mv1': 4974, 'nmon18': 5654, 'nsfarm': 5917, 'npm18': 5780, 'invitae': 4138, 'envisions': 2780, 'genomic': 3377, 'sequencing': 7710, 'routinely': 7480, 'informs': 3939, 'lifelong': 4438, 'catalyze': 1304, 'operates': 6224, 'meritocracy': 4761, 'intently': 4050, 'ncustomer': 5254, 'iteration': 4175, 'counselors': 1922, 'medicine': 4725, 'leads': 4368, 'tackling': 8328, 'perfectly': 6459, 'hesitate': 3620, 'prominent': 6869, 'custom': 2037, 'intuition': 4111, 'extensive': 2975, 'russian': 7506, 'kaplan': 4252, 'meaningfully': 4707, 'converse': 1854, 'exist': 2909, 'apis': 654, 'nature': 5104, 'factors': 3017, 'synthesize': 8315, 'distill': 2404, 'nminimal': 5647, 'lt': 4555, 'meetings': 4732, 'visually': 8965, 'courageous': 1930, 'accountable': 336, 'querying': 7020, 'toolsets': 8519, 'srrs': 8023, 'slide': 7859, 'gemba': 3357, 'a3': 270, 'mdi': 4703, 'nationwide': 5096, '00079': 3, 'nsierra': 5927, 'nevada': 5403, 'ncontext': 5224, 'herndon': 3619, 'va': 8835, 'scrub': 7622, 'horizontal': 3688, 'agent': 493, 'pushing': 6971, 'copious': 1881, 'nsuccessful': 5967, 'telling': 8402, 'snc': 7884, 'ipdp': 4151, 'protocol': 6912, 'layout': 4358, 'originate': 6284, 'material': 4671, 'periodic': 6471, 'estimates': 2820, 'labor': 4309, 'dollars': 2459, 'accomplish': 326, 'standardize': 8059, 'criteria': 1983, 'punctuality': 6956, 'prepared': 6733, 'adherence': 408, 'regulations': 7206, 'descriptions': 2220, 'meant': 4709, 'summarizations': 8238, 'reflect': 7177, 'pursuit': 6967, 'notices': 5733, 'disco': 2355, 'handles': 3548, 'adjudicates': 412, 'allegiance': 545, 'foreign': 3198, 'violations': 8937, 'conform': 1740, 'export': 2961, 'lawful': 4347, 'permanent': 6479, 'resident': 7329, '1324b': 44, 'authorizations': 849, 'sierra': 7794, 'minority': 4830, 'female': 3082, 'pursuant': 6964, 'vance': 8857, 'al': 527, 'hr': 3715, 'extra': 2979, 'night': 5534, 'rotate': 7473, 'nreviewing': 5890, 'vehicle': 8881, 'closed': 1502, 'inqa': 3977, 'stamp': 8051, 'properly': 6888, 'stamped': 8052, 'oversees': 6323, 'yard': 9262, 'sorters': 7935, 'repair': 7275, 'assembly': 758, 'automotive': 864, 'nworking': 6106, 'nadept': 5028, 'nenvironmental': 5376, 'nregularly': 5858, 'stands': 8064, 'bends': 984, 'lifts': 4444, 'moves': 4933, 'intermittently': 4069, 'shifts': 7759, 'usually': 8820, 'moderate': 4875, 'nmay': 5638, 'inclement': 3851, 'weather': 9035, 'offering': 6172, 'pass': 6395, 'sports': 8006, 'kagr': 4249, 'additionally': 399, 'nkraft': 5593, 'comprised': 1680, 'brilliant': 1131, 'proprietary': 6897, 'leagues': 4369, 'athletics': 797, 'technically': 8381, 'ceo': 1346, 'jessica': 4194, 'gelman': 3356, 'basketball': 944, 'court': 1935, 'room': 7466, 'overlooks': 6320, 'gillette': 3403, 'stadium': 8040, 'scrape': 7609, 'compile': 1646, 'putting': 6973, 'reinforcement': 7213, 'association': 780, 'rules': 7501, 'handling': 3549, 'scraping': 7611, 'sitting': 7836, 'periods': 6473, 'dexterity': 2269, 'fingers': 3121, 'keyboard': 4265, 'mouse': 4931, 'hear': 3600, 'occasionally': 6150, 'arms': 718, 'distance': 2402, 'peripheral': 6474, 'perception': 6456, 'adjust': 413, 'certificates': 1353, 'contain': 1806, 'listing': 4477, 'nposted': 5787, 'mar': 4633, '114157802': 33, 'nwireless': 6101, 'ecosystems': 2573, 'apple': 661, 'fielding': 3089, 'wireless': 9090, 'viable': 8915, 'invent': 4116, 'customize': 2043, 'nfamiliarity': 5452, 'warehousing': 9012, 'ncreativity': 5245, 'ndescription': 5284, 'nconceive': 5215, 'npresent': 5799, 'ntakes': 5981, 'nm': 5618, 'everytown': 2857, 'gun': 3527, 'prevention': 6763, 'occurs': 6154, 'identifies': 3772, 'interventions': 4095, 'prevent': 6760, 'principal': 6775, 'researcher': 7318, 'calculations': 1214, 'avenues': 871, 'campaigns': 1233, 'packages': 6341, 'oversee': 6321, 'update': 8782, 'frequent': 3258, 'reference': 7168, 'cdc': 1325, 'fatal': 3049, 'nonfatal': 5695, 'injury': 3961, 'fbi': 3052, 'supplementary': 8260, 'homicide': 3678, 'managed': 4601, 'publication': 6937, 'legislative': 4393, 'outreach': 6310, 'scholars': 7586, 'practitioners': 6700, 'enforce': 2717, 'survey': 8283, 'composite': 1671, 'index': 3884, 'census': 1335, 'nreasonable': 5849, 'neverytown': 5405, 'amnesty': 589, 'historically': 3647, 'underrepresented': 8712, 'accounts': 339, 'payable': 6421, 'environmental': 2776, 'governance': 3443, 'water': 9022, 'ghg': 3397, 'emissions': 2669, 'disclosure': 2353, 'gresb': 3493, 'cdp': 1327, 'gri': 3494, 'djsi': 2432, 'sasb': 7546, 'disclosures': 2354, 'vendor': 8884, 'missing': 4837, 'leed': 4388, 'purchasing': 6960, 'invoices': 4142, 'submittal': 8197, 'tcfd': 8365, 'assessing': 761, 'inventories': 4118, 'sector': 7649, 'nkayak': 5587, 'anomaly': 633, 'versed': 8902, 'advancements': 439, 'iterating': 4174, 'plot': 6605, 'particular': 6383, 'inference': 3913, 'bash': 941, 'ui': 8679, 'html': 3722, 'css': 2006, 'react': 7084, 'kayak': 4253, 'confident': 1726, 'searches': 7634, 'flights': 3156, 'rental': 7270, 'cars': 1286, 'opentable': 6220, 'metasearch': 4770, 'swoodoo': 8305, 'checkfelix': 1402, 'momondo': 4895, 'cheapflights': 1399, 'mundi': 4969, 'hotelscombined': 3699, 'benefit': 986, 'dining': 2317, 'subsidiary': 8208, 'booking': 1070, 'holdings': 3665, 'perks': 6477, 'birthday': 1029, 'awesome': 888, 'stupid': 8185, 'drinks': 2499, 'coffee': 1529, 'snacks': 7881, 'massages': 4660, 'massage': 4659, 'therapist': 8450, 'excursions': 2891, 'ecommerce': 2564, 'rebuild': 7108, 'semantic': 7687, 'groceries': 3496, 'apparel': 656, 'assignment': 768, 'connect': 1746, 'olympics': 6196, 'outings': 6297, 'visionary': 8952, 'technologist': 8388, 'illustrate': 3784, 'quantity': 7011, 'capacity': 1250, 'terminology': 8421, 'quick': 7029, 'huge': 3729, 'neducational': 5341, 'undergraduate': 8706, 'econometrics': 2566, 'depending': 2197, 'pig': 6553, 'couchbase': 1918, 'cassandra': 1298, 'tensor': 8411, 'flow': 3163, 'ncompany': 5204, 'walmart': 9003, 'innovating': 3968, 'evolve': 2860, 'retailer': 7381, 'merchandising': 4753, 'reimagining': 7210, 'property': 6890, 'protection': 6909, 'investigative': 4130, 'nmicrosoft': 5643, 'revenues': 7402, '80bn': 231, 'azure': 895, 'studio': 8180, 'bing': 1018, 'msn': 4949, 'devices': 2261, 'surface': 8274, 'xbox': 9252, 'defines': 2148, 'really': 7100, 'surprised': 8279, 'inspired': 3995, 'plays': 6596, 'invite': 4139, 'appreciates': 676, 'chipp': 1420, 'redmond': 7155, 'investigator': 4131, 'reactively': 7086, 'piracy': 6567, 'remediate': 7260, 'exploits': 2955, 'genuine': 3380, 'pattern': 6416, 'virtual': 8942, 'raise': 7044, 'awareness': 885, 'remediation': 7261, 'phases': 6530, 'controls': 1846, 'theft': 8443, 'distances': 2403, 'attacks': 809, 'ninforms': 5552, 'projected': 6863, 'capability': 1248, 'example': 2869, 'compromise': 1683, 'mitigation': 4847, 'velocity': 8883, '70': 215, 'nlead': 5595, 'case': 1291, 'nidentification': 5530, 'perpetration': 6484, 'cause': 1316, 'perpetrators': 6486, 'nproper': 5824, 'leakage': 4370, 'referral': 7172, 'affairs': 471, 'cela': 1328, 'attorneys': 822, 'naddt': 5027, 'implementations': 3817, 'ndeep': 5266, 'modus': 4890, 'operandi': 6222, 'attack': 808, 'vectors': 8880, 'perpetrator': 6485, 'ndrive': 5324, 'nformulates': 5478, 'nuses': 6060, 'unasked': 8690, 'nextends': 5443, 'adding': 396, 'mitigating': 4846, 'significantly': 7805, 'ncoaches': 5188, 'nengages': 5367, 'peer': 6442, 'objectively': 6131, 'takes': 8339, 'advantage': 442, 'opposing': 6241, 'inquiry': 3980, 'conflict': 1736, 'nshares': 5919, 'nhas': 5508, 'resulting': 7376, 'thoroughly': 8462, 'nhigh': 5515, 'nfully': 5485, 'conversant': 1852, 'threat': 8466, 'nhighly': 5516, 'nsecondary': 5908, 'chinese': 1418, 'cseo': 2005, 'cdas': 1324, 'ordinances': 6265, 'form': 3206, 'vary': 8871, 'samsara': 7534, 'plug': 6608, 'play': 6591, 'mechanical': 4719, 'jdms': 4190, 'toolmakers': 8516, 'quantify': 7006, 'scoping': 7603, 'learnings': 4377, 'combine': 1574, 'read': 7087, 'shifting': 7758, 'releases': 7233, 'aggressive': 500, 'cohort': 1536, 'returns': 7398, 'size': 7839, 'proliferate': 6867, 'studying': 8183, 'gleaning': 3414, 'graphql': 3479, 'candid': 1239, 'sizes': 7842, 'colors': 1563, 'cultures': 2018, 'sexes': 7733, 'beliefs': 971, 'religions': 7248, 'ages': 495, 'depend': 2191, 'increasing': 3871, 'northern': 5723, 'axiologic': 891, 'llc': 4491, 'delivers': 2167, 'presents': 6750, 'ndirects': 5302, 'conducts': 1720, 'nexamines': 5421, 'affecting': 474, 'resolving': 7340, 'nidentify': 5532, 'sought': 7937, 'ts': 8644, 'poly': 6628, 'napproximately': 5068, 'volume': 8976, 'near': 5333, 'feeds': 3073, 'missions': 4839, 'architecting': 699, 'transitioning': 8582, 'impacting': 3810, 'sme': 7872, 'formats': 3213, 'edit': 2582, 'contents': 1812, 'slides': 7860, 'letters': 4406, 'fact': 3012, 'diagrams': 2279, 'statements': 8083, 'neffectively': 5349, 'ncommunicate': 5201, 'formally': 3209, 'informally': 3931, 'naws': 5115, 'atlassian': 800, 'confluence': 1739, 'ntravel': 6018, 'ncr': 5240, 'nequal': 5380, 'x93minorities': 9162, 'sdvosb': 7627, 'optimizes': 6247, 'arthur': 729, 'lawrence': 4349, 'urgently': 8801, 'palo': 6351, 'alto': 565, 'earliest': 2537, 'proceed': 6809, 'cosmos': 1912, 'dms': 2437, 'anum': 647, '832': 234, '941': 255, '0356': 9, 'arthurlawrence': 730, 'net': 5388, 'grubhub': 3508, 'giving': 3410, 'diners': 2316, 'convenient': 1848, 'favorite': 3050, 'restaurants': 7367, 'late': 4334, 'chalupa': 1368, 'taco': 8329, 'bell': 974, 'salad': 7522, 'enjoyed': 2741, 'said': 7520, 'obsessed': 6139, 'innovate': 3966, 'memorable': 4740, 'owners': 6330, 'diner': 2315, 'flawlessly': 3149, 'ordering': 6262, 'partnered': 6388, '105': 25, 'cities': 1442, 'levelup': 4410, 'seamless': 7631, 'tapingo': 8353, 'eat24': 2550, 'nwant': 6088, 'eating': 2552, 'tackle': 8326, 'selecting': 7675, 'nbe': 5128, 'assumptions': 783, 'nproduce': 5812, 'nrelentlessly': 5860, 'nmsc': 5663, 'ncomfort': 5198, 'ngot': 5500, 'glm': 3416, 'bayesian': 950, 'knack': 4279, 'strings': 8161, 'attached': 807, 'recharge': 7115, 'flex': 3152, 'options': 6251, 'nfree': 5482, 'kitchens': 4277, 'stocked': 8118, 'granted': 3468, 'restricted': 7373, 'rays': 7075, 'rooftop': 7465, 'comfy': 1583, 'couch': 1917, 'ngrubhub': 5502, 'talentacquisition': 8343, 'inquiries': 3979, 'concerning': 1702, 'responded': 7353, 'ncivis': 5179, 'nonprofits': 5699, 'attract': 823, 'advisory': 457, 'interdisciplinary': 4059, 'civis': 1450, 'stop': 8122, 'guessing': 3516, 'atwww': 827, 'civisanalytics': 1451, 'http': 3723, 'embraces': 2661, 'individuality': 3896, 'celebrate': 1329, 'differences': 2294, 'brought': 1148, 'governments': 3448, 'commonly': 1604, 'utilities': 8821, 'proposals': 6892, 'engagements': 2724, 'unifying': 8732, 'varying': 8872, 'construct': 1786, 'affinity': 480, 'pragmatically': 6701, 'ppt': 6689, 'shiny': 7761, 'causal': 1314, 'offline': 6181, 'commerce': 1591, 'underneath': 8709, 'hbase': 3582, 'showcase': 7780, 'visible': 8949, 'excites': 2886, 'elasticities': 2626, 'predict': 6707, 'elasticity': 2627, 'underlying': 8708, 'shell': 7754, 'cupertino': 2021, 'seagate': 7630, 'continuously': 1828, 'hqs': 3714, 'bigdata': 1006, 'migration': 4803, 'framework': 3244, '8am': 247, '5pm': 199, 'sole': 7910, 'returning': 7397, 'fall': 3026, 'acumen': 382, 'discovery': 2364, 'spectrum': 7984, 'establishing': 2816, 'executiion': 2895, 'stewards': 8108, 'consistency': 1771, 'consuming': 1801, 'progressing': 6857, 'spaceflight': 7949, 'facilitating': 3007, 'definitions': 2152, 'enforcing': 2719, 'stores': 8128, 'usages': 8805, 'interrogating': 4088, 'directing': 2324, 'pace': 6337, 'profiling': 6844, 'holder': 3663, 'lawfully': 4348, 'admitted': 426, 'refugee': 7181, 'asylum': 791, 'aerorspace': 468, 'phenomenal': 6532, 'prohibits': 6861, 'harassment': 3558, 'ebsco': 2555, 'eis': 2623, 'books': 1072, 'maximize': 4690, 'ipswich': 4153, 'ma': 4565, 'employs': 2684, 'philosophy': 6537, 'division': 2428, 'industries': 3903, 'birmingham': 1027, 'corporations': 1895, 'forbes': 3189, 'magazine': 4573, 'motivate': 4922, 'inspire': 3994, 'nunder': 6044, 'developments': 2258, 'interprets': 4086, 'stability': 8035, 'influences': 3921, 'firms': 3132, 'trade': 8545, 'interviews': 4098, 'forecast': 3194, 'nebsco': 5336, 'strictly': 8159, 'tolerate': 8504, 'discrimination': 2372, 'persons': 6504, 'creed': 1972, 'termination': 8420, 'amended': 576, 'amendments': 577, 'virtually': 8944, 'chip': 1419, 'display': 2390, 'modifying': 4886, 'atomic': 802, 'possibilities': 6654, 'x9chr': 9201, 'x9cprovide': 9215, 'investigate': 4124, 'measures': 4716, 'correlations': 1905, 'causality': 1315, 'connections': 1750, 'semi': 7690, 'highlight': 3631, 'retaining': 7385, 'adds': 404, 'factor': 3014, 'anova': 636, 'prediction': 6711, 'trend': 8613, 'consumption': 1802, 'larger': 4329, 'compilation': 1645, 'requiring': 7313, 'stellar': 8100, 'consultative': 1795, 'tight': 8481, 'assume': 782, 'hris': 3717, 'workday': 9106, 'commission': 1595, 'red': 7149, 'hat': 3575, 'middleware': 4797, 'virtualization': 8943, '500': 180, 'raleigh': 7047, 'nc': 5150, 'operationalize': 6229, 'marketers': 4642, 'array': 723, 'nmanage': 5627, 'feature': 3063, 'ncoordinate': 5234, 'simultaneously': 7824, 'nadvocate': 5032, 'validated': 8846, 'tested': 8427, 'nsolid': 5938, 'numpy': 6043, 'amazon': 567, 'bigquery': 1008, 'migrating': 4802, 'jupyter': 4243, 'notebooks': 5729, 'nred': 5855, 'uniformed': 8729, 'prohibited': 6860, 'cvs': 2048, 'commissions': 1596, 'payment': 6425, 'requesting': 7306, 'fee': 3070, 'jan': 4180, '14': 46, '114182628': 34, 'napple': 5055, 'maps': 4632, 'confronted': 1744, 'staggering': 8046, 'pois': 6619, 'paramount': 6366, 'nit': 5577, 'qualify': 6996, 'ncommercial': 5200, 'ncomplete': 5210, 'poi': 6616, 'nexperiences': 5437, 'merging': 4759, 'duping': 2520, 'lookout': 4525, 'talented': 8344, 'geography': 3388, 'nbabylist': 5120, 'uniquely': 8740, 'nearly': 5334, 'babylist': 901, 'transaction': 8562, 'spot': 8007, 'pr': 6692, 'baby': 900, 'lens': 4400, 'adept': 406, 'matlab': 4679, 'overwhelmed': 6326, 'mockups': 4864, 'registry': 7197, 'expecting': 2925, 'parents': 6369, 'worth': 9131, 'gifts': 3401, 'purchased': 6959, 'registries': 7196, 'stuff': 8184, 'appreciate': 674, 'profitable': 6847, 'technological': 8385, 'doers': 2452, 'autonomy': 867, 'reward': 7412, 'hra': 3716, 'fsa': 3274, 'parental': 6368, 'bart': 935, 'wfh': 9067, 'wednesday': 9041, 'transferable': 8570, 'page': 6344, 'ross': 7471, 'relative': 7228, 'discussions': 2378, 'qualtrics': 7001, 'strata': 8137, 'appointment': 673, 'designation': 2225, 'napplication': 5058, 'posted': 6659, 'seven': 7731, 'boards': 1058, 'period': 6469, 'ended': 2706, 'criteo': 1981, 'shoppers': 7771, '120': 38, 'tb': 8363, '10ms': 28, 'buzzwords': 1193, 'excite': 2883, 'ctr': 2010, 'cr': 1945, 'workshops': 9120, 'retailers': 7382, 'voice': 8973, 'whilst': 9071, 'instantly': 4003, 'dislike': 2381, 'passing': 6399, 'fixer': 3141, 'dare': 2061, 'fuels': 3280, 'felt': 3081, 'champion': 1370, 'criteos': 1982, 'heard': 3601, 'belonging': 976, 'treated': 8605, 'dignity': 2309, 'ncriteo': 5246, 'consequently': 1760, 'relation': 7223, 'clicking': 1488, 'button': 1187, 'expressly': 2969, 'mutual': 4973, 'gny': 3425, 'rated': 7067, 'financially': 3110, 'stable': 8036, 'casualty': 1301, 'northeast': 5722, 'actuary': 380, 'loss': 4532, 'imageright': 3788, 'obtained': 6145, 'logistics': 4513, 'xpo': 9260, 'invest': 4122, '450': 172, 'producers': 6822, 'incentive': 3845, 'ntroubleshoot': 6021, 'solicit': 7912, 'nunderstand': 6045, 'artifacts': 735, 'rollout': 7463, 'ngeneralize': 5493, 'mis': 4833, 'graduates': 3461, 'moderately': 4876, 'n1': 4980, 'geo': 3383, 'spatial': 7960, 'nsignificant': 5930, 'mixed': 4849, 'principle': 6777, 'fluently': 3170, 'inefficient': 3907, 'error': 2802, 'prone': 6879, 'navailability': 5109, 'specialization': 7969, 'coursera': 1932, 'udacity': 8676, 'camp': 1231, 'n10': 4981, 'ed1': 2576, 'nxpo': 6114, 'disney': 2382, 'pepsi': 6451, 'xc3': 9254, 'xa9al': 9243, 'toyota': 8537, 'fastest': 3048, 'getting': 3394, 'construed': 1789, 'exhaustive': 2906, 'personnel': 6503, 'classified': 1465, 'normal': 5716, '34': 151, '28': 129, '23': 120, 'ii': 3778, 'ncoordinating': 5235, 'nrelevant': 5861, 'displays': 2391, 'county': 1928, 'administrator': 422, 'nand': 5051, 'ed': 2575, 'calpads': 1225, 'dataquest': 2082, 'nmanagement': 5628, 'aeries': 465, 'nplanning': 5776, 'tutorials': 8658, 'mentioned': 4747, 'nboth': 5138, 'districts': 2420, 'memorandum': 4741, 'nreconciling': 5852, 'inaccuracies': 3840, 'compiles': 1647, 'mandated': 4610, 'validations': 8850, 'consults': 1797, 'nschool': 5905, 'lcap': 4361, 'ndevelopment': 5297, 'instructional': 4012, 'grants': 3469, 'ncollection': 5195, 'administrators': 423, 'leas': 4380, 'shasta': 7751, 'neffectiveness': 5350, 'norder': 5710, 'investigates': 4126, 'resolves': 7339, 'errors': 2803, 'discrepancies': 2365, 'collections': 1555, 'prepares': 6734, 'narrative': 5073, 'nto': 6007, 'compose': 1669, 'ninformation': 5551, 'nmarch': 5632, 'nassigned': 5085, 'conflicts': 1738, 'exchanging': 2882, 'coordinators': 1878, 'nefficient': 5351, 'nperforming': 5766, 'schools': 7588, 'ncountywide': 5238, 'scoe': 7599, 'confidentiality': 1728, 'attends': 816, 'inservices': 3985, 'neffective': 5348, 'functioning': 3292, 'upgrade': 8787, 'competencies': 1638, 'satisfactorily': 7549, 'ntechniques': 5987, 'nspeaking': 5942, 'nfractions': 5481, 'percents': 6455, 'ratios': 7071, 'ndocuments': 5317, 'grammar': 3465, 'punctuation': 6957, 'nprocedures': 5808, 'telephone': 8399, 'etiquette': 2830, 'nhealth': 5512, 'practicing': 6699, 'cultural': 2015, 'stages': 8045, 'collate': 1548, 'classify': 1467, 'ndefined': 5269, 'nvaried': 6075, 'nrequires': 5874, 'nlimited': 5606, 'adapting': 390, 'nsetting': 5915, 'interruptions': 4089, 'nmaintaining': 5621, 'nresponsibility': 5883, 'standardized': 8060, 'nutilization': 6063, 'nthere': 5998, 'usual': 8819, 'customary': 2038, 'lifting': 4443, 'carrying': 1285, 'stooping': 8121, 'kneeling': 4281, 'ncrouching': 5248, 'crawling': 1953, 'finger': 3118, 'nsitting': 5932, 'walking': 8997, 'standing': 8062, 'helathy': 3609, 'nenvironment': 5375, 'casemis': 1292, 'netc': 5389, 'equivalency': 2796, 'nresearch': 5876, 'increasingly': 3872, 'nadministration': 5029, 'substitute': 8214, 'nallowed': 5038, 'ncontinuing': 5226, 'educ': 2589, 'clearances': 1478, 'nmaintains': 5622, 'livescan': 4488, 'nclearance': 5181, 'npre': 5793, 'placement': 6577, 'ntuberculosis': 6025, 'approval': 685, '38': 158, 'western': 9061, 'relating': 7222, 'premiums': 6728, 'losses': 4533, 'underwriting': 8721, 'nupdate': 6054, 'modify': 4885, 'njoin': 5583, 'previous': 6765, 'midwestern': 4799, 'alaska': 529, '57th': 194, 'minnesota': 4828, 'minneapolis': 4827, 'paul': 6418, 'journal': 4217, 'earned': 2540, 'accolades': 321, 'tribune': 8619, '2011': 99, '2016': 104, 'recipient': 7116, 'x9c10': 9189, 'finalist': 3105, 'alfred': 534, 'sloan': 7861, 'x9cwhen': 9227, 'nwestern': 6092, 'x9cthe': 9224, 'caring': 1276, 'wellbeing': 9055, 'healthy': 3599, 'volunteer': 8980, 'reasons': 7107, 'n401': 4996, 'affordable': 483, 'thanks': 8441, 'subsidy': 8210, 'ppo': 6688, 'deductible': 2133, 'hdhp': 3588, 'yoga': 9268, 'snack': 7880, 'workstations': 9123, 'seminars': 7692, 'tuition': 8648, 'approved': 688, 'ndiscounts': 5305, 'homeowner': 3674, 'instead': 4004, 'actual': 376, 'quotes': 7035, 'glassdoor': 3412, 'x9cexcellent': 9199, 'prioritizes': 6788, 'x9cjust': 9205, 'x9cabove': 9190, 'x9ci': 9202, 'welcomed': 9052, 'ly': 4563, '2qxtl4a': 133, 'catalog': 1302, 'walmartlabs': 9004, 'pursue': 6965, 'globally': 3419, 'x9clive': 9206, 'nbachelors': 5122, 'nestablished': 5386, 'nr': 5842, 'tensorflow': 8412, 'nspecific': 5944, 'nphd': 5773, 'ngood': 5498, 'isolved': 4164, 'hcm': 3585, 'payroll': 6428, 'onboarding': 6202, 'aca': 296, 'enrollment': 2749, 'sized': 7841, 'import': 3822, 'brief': 1124, 'statement': 8082, 'electronically': 2634, 'convert': 1856, 'infinisource': 3916, 'smooth': 7877, 'conversion': 1855, 'legacy': 4390, 'pdf2excel': 6436, 'workable': 9105, 'concentration': 1693, 'pounds': 6675, 'disclaimer': 2350, 'lists': 4479, 'merely': 4755, 'reserves': 7325, 'revise': 7408, 'fiat': 3086, 'chrysler': 1428, 'automobiles': 863, 'fca': 3054, 'cio': 1435, 'pivotal': 6570, 'bulk': 1171, 'pipe': 6564, 'lining': 4463, 'hired': 3639, 'ict': 3760, 'constraints': 1785, 'corresponding': 1907, 'stochastic': 8115, 'neighbor': 5357, 'embedding': 2655, 'sne': 7885, 'pca': 6433, 'mechanics': 4720, 'assets': 765, 'repeatability': 7278, 'fairness': 3025, 'operationalization': 6228, 'mlops': 4855, 'challenger': 1365, 'coe': 1528, 'launching': 4343, 'premises': 6726, 'hybrid': 3742, 'containerization': 1809, 'kubernetes': 4301, 'container': 1808, 'db2': 2100, 'greenplum': 3491, 'starters': 8074, 'moderation': 4878, 'domains': 2461, 'rstudio': 7490, 'knime': 4283, 'rapidminer': 7063, 'alteryx': 564, 'dataiku': 2075, 'h2o': 3535, 'em': 2650, 'azureml': 896, 'watson': 9028, 'modeler': 4869, 'sagemaker': 7518, 'convolutional': 1865, 'neural': 5397, 'cnn': 1515, 'recurrent': 7147, 'rnn': 7441, 'qlikview': 6987, 'storytelling': 8134, 'reflects': 7178, 'rewarding': 7414, 'norms': 5719, 'entity': 2768, 'finish': 3123, 'formed': 3216, 'augment': 838, 'mix': 4848, 'equivalents': 2798, 'facts': 3018, 'seamlessly': 7632, 'digestible': 2304, 'representative': 7293, 'described': 2215, 'walk': 8996, 'climb': 1493, 'stoop': 8120, 'kneel': 4280, 'crouch': 1993, 'lift': 4442, 'noisy': 5691, 'traveling': 8598, 'air': 522, 'land': 4319, 'eeoc': 2601, 'complying': 1666, 'alienage': 540, 'accessibility': 316, 'napplicants': 5057, '317': 144, '613': 204, '6890': 212, 'finishline': 3126, 'reasonably': 7105, 'armour': 717, 'chosen': 1425, 'athletes': 795, 'tomorrow': 8505, 'blistering': 1041, 'heat': 3604, 'bitter': 1033, 'cold': 1539, 'sport': 8005, 'baseline': 938, 'commonplace': 1605, 'hungriest': 3739, 'pledge': 6602, 'xa6protect': 9240, 'nno': 5676, 'athlete': 794, 'mapmyfitness': 4627, 'endomondo': 2709, 'myfitnesspal': 4976, 'teamed': 8372, 'aimed': 519, 'unmatched': 8762, 'nms': 5662, 'breaking': 1116, 'utilized': 8825, 'nresourceful': 5880, 'npassion': 5754, 'nimplement': 5539, 'nkeep': 5588, 'teammates': 8374, 'lactation': 4314, 'believes': 973, 'inclusion': 3857, 'retain': 7384, 'pool': 6631, 'imbalances': 3795, 'recurring': 7148, 'elicit': 2643, 'gameplay': 3325, 'accessing': 318, 'publishing': 6944, 'aggregate': 496, 'windowing': 9085, 'ndesired': 5289, 'titles': 8495, 'rds': 7080, 'n_____________________________________________________________________': 5005, 'nsix': 5933, 'foot': 3184, 'staffing': 8042, 'conceived': 1690, 'intricacies': 4103, 'connectors': 1752, 'lightly': 4446, 'workplaces': 9117, 'empowered': 2686, 'studios': 8181, 'consultancy': 1791, 'importance': 3823, 'balancing': 923, 'uber': 8673, 'ignite': 3777, 'motion': 4921, 'riders': 7425, 'eaters': 2551, 'commops': 1606, 'priority': 6790, 'exposure': 2965, 'agents': 494, 'fingertips': 3122, 'nproblem': 5807, 'faced': 3002, 'poc': 6614, 'weaknesses': 9033, 'central': 1342, 'tremendous': 8612, 'nprojectmanager': 5821, 'nasa': 5078, 'nations': 5095, 'austin': 842, 'configure': 1731, 'rates': 7069, 'churn': 1430, 'cac': 1202, 'ltv': 4556, 'aspect': 747, 'instance': 4002, 'tactic': 8330, 'caused': 1317, 'adjusted': 414, 'editions': 2584, 'tactics': 8333, 'traversing': 8602, 'rolled': 7461, 'levers': 4415, 'equity': 2795, 'capitalist': 1253, 'ntechnical': 5986, 'munging': 4970, 'meaning': 4705, 'ninterpersonal': 5569, 'upfront': 8786, 'atmosphere': 801, 'continues': 1824, 'zywave': 9287, 'consult': 1790, 'broker': 1142, 'formatting': 3215, 'ngenerate': 5494, 'routine': 7479, 'ninterpret': 5570, '2005': 93, '2008': 96, 'datastage': 2086, 'appropriately': 684, 'understandable': 8714, 'farming': 3040, 'rural': 7505, 'farmer': 3038, 'fbn': 3053, 'proudly': 6918, 'farmers': 3039, 'xa0': 9231, 'unbiased': 8692, 'farms': 3042, 'anonymously': 635, 'securely': 7653, 'democratize': 2175, 'playing': 6595, 'nhow': 5521, 'sustainably': 8293, '2050': 111, 'farmland': 3041, 'decreasing': 2130, 'odds': 6162, 'stacked': 8038, 'falls': 3027, 'squarely': 8019, 'shoulders': 7779, 'harder': 3561, 'nfarmers': 5455, 'forced': 3191, 'uncertainty': 8693, 'agronomic': 511, 'billions': 1014, 'gathered': 3341, 'effect': 2605, 'unprecedented': 8767, 'agricultural': 510, 'discoveries': 2362, 'explores': 2959, 'furthers': 3310, 'affects': 475, 'uncovers': 8701, 'soil': 7907, 'chemistry': 1406, 'plant': 6587, 'physiology': 6546, 'entomology': 2769, 'agronomy': 512, 'nfarmer': 5454, 'immigration': 3803, 'unsurpassed': 8777, 'enforcement': 2718, 'saic': 7519, 'aecom': 463, 'dea': 2107, 'executes': 2894, 'advertisements': 447, 'suspense': 8287, 'petitions': 6518, 'declarations': 2126, 'disposition': 2393, 'forfeited': 3203, 'assure': 785, 'computations': 1686, 'official': 6179, 'attorney': 821, 'doj': 2456, 'retrieve': 7392, 'bases': 940, 'compute': 1687, 'print': 6779, 'correspondence': 1906, 'nforfeiture': 5476, 'compensate': 1633, 'quali': 6991, 'xef': 9256, 'xac': 9244, 'x81ed': 9148, 'hiv': 3652, 'x81ned': 9152, 'capgemini': 1251, 'expanding': 2919, 'xa6rapidly': 9241, 'sentiment': 7703, 'harnessed': 3568, 'influx': 3925, 'iot': 4149, 'demanding': 2171, 'realm': 7101, 'cognitive': 1533, 'aerospace': 469, 'articulating': 734, 'publicly': 6939, 'eda': 2577, 'tier': 8480, 'variance': 8863, 'emphasis': 2672, 'chaid': 1361, 'cart': 1287, 'frequentist': 3259, 'pearl': 6439, 'caffe': 1207, 'kxen': 4302, 'ect': 2574, 'mongodb': 4899, 's3': 7509, 'ec2': 2557, 'gradient': 3455, 'svms': 8297, 'kmeans': 4278, 'nmf': 5642, 'rnns': 7442, 'cnns': 1516, 'scrapping': 7612, 'napplications': 5059, 'consultants': 1793, 'realization': 7097, 'release': 7231, 'methodological': 4776, 'versatility': 8901, 'qualification': 6992, 'ncapgemini': 5158, 'encouraging': 2703, 'sensory': 7701, 'referenced': 7169, 'attempt': 811, 'traditionally': 8550, 'pose': 6643, 'nclick': 5184, 'heritage': 3618, 'ambitions': 572, 'multicultural': 4958, '2017': 105, 'eur': 2833, 'usd': 8806, 'n1strategy': 4987, 'contribution': 1840, '1strategy': 86, 'specialize': 7971, 'native': 5097, 'cleansing': 1474, 'tasked': 8359, 'iterative': 4176, 'roadblocks': 7444, 'consensus': 1757, 'uncleansed': 8696, 'scalability': 7566, 'versioning': 8904, 'node': 5686, 'cultivating': 2014, '62': 205, '844': 237, '908': 252, 'oregon': 6267, 'app': 655, 'preferences': 6720, 'pain': 6346, 'nbusiness': 5148, 'naccess': 5011, 'ncompile': 5209, 'tabulate': 8324, 'nprioritize': 5804, 'ncontinuous': 5227, 'nfive': 5464, 'facebook': 3001, 'adobe': 428, 'ndegree': 5272, 'nuse': 6059, 'casino': 1296, 'accruals': 342, 'nsick': 5926, 'n11': 4984, 'ntelework': 5989, 'ncomprehensive': 5213, 'prescription': 6742, 'accidental': 319, 'death': 2115, 'tax': 8362, 'npublic': 5830, 'pers': 6488, 'pension': 6448, 'noregon': 5712, '457': 173, 'deferred': 2144, 'oregonlottery': 6268, 'vacancies': 8836, 'withdraw': 9094, 'announcements': 629, 'dictate': 2283, 'nors': 5720, '461': 174, 'convicted': 1861, 'felony': 3080, 'gambling': 3323, 'offense': 6169, 'fingerprinting': 3119, 'checking': 1403, 'character': 1381, 'nall': 5037, 'naccording': 5012, '503': 183, '540': 189, '1315': 43, 'lotterycareers': 4537, 'nreq6826': 5871, 'nperiodic': 5768, 'ntempe': 5990, 'nprovides': 5828, 'storing': 8130, 'retrieving': 7394, 'nensures': 5372, 'standardization': 8057, 'ntranslates': 6017, 'ims': 3839, 'ndefines': 5270, 'conceptual': 1697, 'informatica': 3932, 'toolset': 8518, 'ntests': 5993, 'replication': 7281, 'synchronization': 8310, 'nunderstands': 6047, 'nproactively': 5806, 'nexhibits': 5432, 'inception': 3847, 'sunset': 8246, 'motor': 4927, 'vehicles': 8882, 'irregular': 4156, 'aligned': 542, 'nphysical': 5774, 'columnar': 1566, 'vs': 8988, 'tuning': 8651, 'scaling': 7572, 'indexing': 3886, 'secondary': 7642, 'inverted': 4121, 'opportunistic': 6238, 'sensor': 7699, 'structures': 8173, 'prep': 6729, 'dashboarding': 2066, 'scorecarding': 7605, 'ncompetencies': 5207, 'adaptability': 387, 'njt18': 5585, 'zeus': 9280, 'flawless': 3148, 'stays': 8097, 'nfounded': 5480, 'november': 5740, '2015': 103, 'shaking': 7738, '18b': 63, 'leasing': 4383, 'unfurnished': 8727, 'converting': 1857, 'expertly': 2942, 'appointed': 672, 'earth': 2543, '700': 216, 'bay': 948, 'los': 4531, 'angeles': 617, 'seattle': 7640, 'realizing': 7099, 'raised': 7045, '24m': 122, 'financing': 3112, 'initialized': 3953, 'bowery': 1088, 'floodgate': 3158, 'exits': 2914, 'rentals': 7271, 'npragmatic': 5792, 'n100': 4982, 'dependents': 2196, 'nparking': 5749, 'expense': 2927, 'n20': 4989, 'n16': 4985, 'ncatered': 5166, 'lunches': 4561, 'instrumental': 4016, 'wwe': 9142, 'dives': 2426, 'behavioral': 968, 'comprising': 1682, 'heterogeneous': 3621, 'servers': 7718, 'spotfire': 8008, 'highlighting': 3632, 'signals': 7800, 'spent': 7990, 'npossess': 5785, 'paas': 6336, 'iaas': 3749, 'ncomfortable': 5199, 'ncan': 5156, 'correctness': 1901, 'resolutions': 7337, 'ndon': 5322, 'proficiencies': 6839, 'n0': 4979, 'ncasual': 5165, 'nsome': 5940, 'nconnectwise': 5218, 'ncontribute': 5230, 'modernization': 4880, 'obsolete': 6141, 'redundant': 7161, 'repository': 7289, 'verifying': 8897, 'migratiion': 4801, 'nprepare': 5797, 'mandatory': 4611, 'nseven': 5916, 'nthree': 6003, 'hp': 3709, 'unified': 8728, 'uft': 8678, 'selenium': 7678, 'powerbuilder': 6678, 'limit': 4451, 'typos': 8670, 'grammatical': 3466, 'mistakes': 4843, 'migrations': 4804, 'bdd': 952, 'cucumber': 2011, 'postman': 6669, 'soapui': 7890, 'junit': 4241, 'nunit': 6049, 'agilecraft': 503, 'story': 8132, 'nformal': 5477, 'nsalient': 5900, 'crgt': 1975, 'mobility': 4862, 'civilian': 1449, 'viewing': 8931, 'salient': 7528, 'salientcrgt': 7529, 'ndigital': 5300, 'institutional': 4010, 'investors': 4136, 'cryptoasset': 2000, 'insightful': 3988, '5m': 198, 'seed': 7656, 'crypto': 1998, 'funds': 3302, 'indices': 3893, 'cryptoanalysis': 1999, 'consisting': 1774, 'blockchains': 1043, 'nperks': 5769, 'sectors': 7650, 'x94cryptocurrencies': 9167, 'ledger': 4387, 'x94a': 9164, 'sold': 7909, 'cryptocurrency': 2002, 'nduties': 5329, 'lowering': 4546, 'stored': 8126, 'combinatorics': 1573, 'dimensionality': 2313, 'fundamentals': 3297, 'postgresql': 6664, 'cryptoassets': 2001, 'notebook': 5728, 'altair': 559, 'northwest': 5724, 'permanente': 6480, 'governed': 3444, 'physician': 6542, 'specialty': 7975, '1500': 50, 'physicians': 6543, 'southwest': 7946, 'kaiser': 4251, 'eminent': 2668, 'iii': 3779, 'marts': 4654, 'nmajor': 5624, 'accountabilities': 334, 'kpit': 4299, 'meta': 4767, 'conventions': 1850, 'npopulates': 5781, 'deploys': 2205, 'conflicting': 1737, 'nparticipates': 5751, 'convergence': 1851, 'tailored': 8336, 'easily': 2545, 'nreport': 5865, 'timly': 8489, 'nmasters': 5635, 'workplans': 9118, 'nproactive': 5805, 'avoidance': 878, 'nike': 5537, 'sustaining': 8295, 'transition': 8581, 'athletic': 796, 'smallest': 7866, 'picture': 6549, 'macro': 4570, 'nsrl': 5950, 'inter': 4051, 'seeker': 7659, 'parts': 6393, 'eye': 2992, 'trinity': 8624, 'searching': 7635, 'nleverage': 5600, 'presented': 6747, 'nsources': 5941, 'sift': 7795, 'irrelevant': 4157, 'figures': 3094, 'crunching': 1997, 'ncommunication': 5202, 'speak': 7961, 'ncritical': 5247, 'nmath': 5636, 'estimate': 2819, 'nbs': 5144, 'kimball': 4272, 'inmon': 3962, 'qlik': 6986, 'nacquire': 5016, 'nfilter': 5459, 'x9cclean': 9196, 'reviewing': 7406, 'printouts': 6781, 'locate': 4500, 'nlocate': 5611, 'measurevarious': 4717, 'troubleshoots': 8632, 'softwareproblems': 7906, 'reportsas': 7287, 'neurosurgery': 5402, 'bargaining': 932, 'moses': 4919, '3316': 149, 'rochambeau': 7453, 'bronx': 1144, 'req': 7302, '98463': 264, 'nmontefiore': 5657, 'montefiore': 4908, 'layoff': 4357, 'discharge': 2343, 'classifications': 1464, 'presumed': 6758, 'predisposition': 6714, 'carrier': 1281, 'nn': 5666, 'gap': 3330, 'pushed': 6970, 'implemented': 3818, 'giants': 3398, 'tournaments': 8534, 'bowling': 1090, 'volunteering': 8981, 'alongside': 554, 'harnessing': 3570, 'vast': 8874, 'pools': 6632, 'sr': 8022, 'dollar': 2458, 'nhere': 5514, 'graduate': 3459, 'left': 4389, 'combinations': 1571, 'd3': 2054, 'abstractly': 292, 'meticulous': 4781, '00011236': 2, 'nsummary': 5969, 'acquires': 357, 'gathers': 3343, 'segment': 7666, 'nutilizes': 6065, 'nreviews': 5891, 'nextracts': 5446, 'ndesigns': 5287, 'capture': 1259, 'implements': 3820, 'nestablishes': 5387, 'ncollaborates': 5190, 'ingestion': 3950, 'nassumes': 5090, 'structuring': 8174, 'sitecatalyst': 7833, 'perl': 6478, 'rudy': 7498, 'outlook': 6303, 'visio': 8950, 'jd': 4189, 'edwards': 2597, 'ndisplays': 5307, 'workers': 9110, 'ndvanced': 5330, 'budgetary': 1160, 'whataburger': 9068, 'delegate': 2156, 'locally': 4498, 'worksites': 9121, 'releasing': 7234, 'adheres': 409, 'residence': 7328, 'concord': 1710, 'plaza': 6597, 'dr': 2481, 'antonio': 646, '78216': 227, '6903': 213, 'exposed': 2964, 'inner': 3965, 'hosted': 3696, 'breed': 1120, 'reputation': 7300, 'cleanse': 1472, 'centralized': 1343, 'standalone': 8055, 'conjunction': 1745, 'finscan': 3128, 'safer': 7516, 'bunch': 1174, 'friends': 3269, 'abroad': 283, 'hang': 3551, 'remains': 7258, 'reliance': 7243, 'samsung': 7535, '360': 155, 'nstrategic': 5960, 'paradigm': 6359, 'innate': 3964, 'uncharted': 8694, 'combines': 1576, 'backbone': 906, 'activate': 367, 'sponsors': 8002, 'operationalized': 6230, 'explicit': 2952, 'addressed': 401, 'quantifiable': 7003, 'impala': 3812, 'logit': 4514, 'multinomial': 4962, 'component': 1667, 'panel': 6353, 'times': 8488, 'priori': 6783, 'schema': 7583, 'incremental': 3875, 'convince': 1863, 'potentially': 6674, 'adversarial': 444, 'vps': 8987, 'approve': 687, 'alternatives': 563, 'subordinates': 8201, 'negotiate': 5356, 'behalf': 966, 'medium': 4729, 'terminal': 8419, 'prolonged': 6868, 'considerable': 1765, 'acuity': 381, 'numeric': 6039, 'distinction': 2407, 'stress': 8154, 'normally': 5718, 'cyclical': 2053, 'machines': 4569, 'aids': 516, 'printers': 6780, 'copiers': 1879, 'faxes': 3051, 'varies': 8868, 'privacy': 6791, 'defaults': 2139, 'european': 2837, 'invaluable': 4115, 'aspirations': 750, 'begin': 962, 'canon': 1243, '9am': 267, '35': 152, 'participating': 6381, 'ds': 2512, 'buddy': 1158, 'latin': 4338, 'caribbean': 1275, 'caj': 1208, 'ranks': 7060, 'patents': 6407, 'admired': 424, 'satisfaction': 7548, 'percent': 6454, 'distributes': 2412, 'kyosei': 4305, '2014': 102, 'americas': 583, 'secured': 7652, 'gold': 3431, 'buildings': 1167, 'apprised': 678, 'news': 5412, 'sign': 7798, 'rss': 7489, 'visiting': 8955, 'twitter': 8663, 'canonusa': 1244, 'cusa': 2034, 'patent': 6405, 'counts': 1927, 'issued': 4168, 'trademark': 8546, 'marks': 4651, 'trademarks': 8547, 'respective': 7349, 'aa': 271, 'portal': 6637, 'guarantee': 3514, 'postings': 6668, 'frontier': 3272, 'buying': 1191, 'livereach': 4485, 'disrupt': 2395, 'lrm': 4550, 'sunnyvale': 8245, 'nfield': 5458, 'nfunctions': 5487, 'log': 4506, 'splunk': 7996, 'elasticsearch': 2628, 'logstash': 4516, 'kibana': 4267, 'julia': 4235, 'usable': 8803, 'livereachmedia': 4486, 'conceives': 1691, 'collective': 1556, 'sickness': 7792, 'unleashes': 8755, 'courses': 1933, 'prototyping': 6916, 'sdlc': 7625, 'neyeview': 5448, 'eyeview': 2994, 'return': 7395, 'videoiq': 8923, 'leverages': 4413, 'elemental': 2638, 'powers': 6686, 'message': 4764, 'television': 8400, 'nheadquartered': 5511, 'la': 4306, 'tri': 8616, 'deloitte': 2169, '500tm': 182, 'rendering': 7269, 'brainstorming': 1101, 'hq': 3712, 'shocks': 7765, 'sudden': 8224, 'instabilities': 3998, 'monte': 4907, 'carlo': 1277, 'bootstrapping': 1078, 'sklearn': 7849, 'keras': 4261, 'plusses': 6610, 'linguistic': 4461, 'contexts': 1815, 'mahalanobis': 4577, 'adtech': 433, 'cell': 1331, 'catered': 1311, 'governing': 3445, 'recall': 7109, 'leaves': 4385, 'absence': 284, 'improper': 3832, 'interference': 4066, 'petco': 6517, 'healthier': 3598, 'pets': 6520, 'happier': 3555, 'planet': 6582, 'animals': 622, 'educating': 2592, 'pet': 6514, 'reducing': 7159, 'carbon': 1261, 'starts': 8076, 'passionately': 6402, 'animal': 621, 'welfare': 9054, 'enrichment': 2747, 'supplies': 8263, 'diego': 2290, 'calculate': 1209, 'glossary': 3421, 'lake': 4316, 'crawlers': 1952, 'crawl': 1951, 'dictionary': 2286, 'buckets': 1157, 'lambda': 4318, 'gateways': 3339, 'sandbox': 7538, 'tenure': 8413, 'capstone': 1258, 'conclusion': 1708, 'summarizing': 8241, 'trail': 8552, 'caf': 1204, 'xa9': 9242, 'starbucks': 8069, 'technoloty': 8391, 'bachlor': 905, 'asks': 746, 'deals': 2113, 'surfaces': 8275, 'speed': 7986, 'puts': 6972, 'finishes': 3125, 'suggests': 8230, 'suggestions': 8229, 'breakdowns': 1113, 'listens': 4476, 'concisely': 1707, 'writes': 9138, 'accepting': 312, 'personality': 6495, 'discussing': 2377, 'situations': 7838, 'ingesting': 3949, 'uild': 8680, 'savvy': 7558, 'airflow': 524, 'ipo': 4152, '2013': 101, 'loyal': 4548, 'freakishly': 3253, 'nviagogo': 6079, 'shows': 7785, 'helped': 3613, 'rapid': 7061, 'x81table': 9153, 'carried': 1280, 'crucial': 1994, 'viagogo': 8917, 'geographies': 3387, 'currencies': 2027, 'x81nd': 9150, 'piece': 6551, 'tie': 8478, 'underpinnings': 8711, 'ef': 2604, 'x81ciency': 9147, 'ppc': 6687, 'inventory': 4119, 'won': 9100, 'x81eld': 9149, 'parallel': 6361, 'stretch': 8156, 'teach': 8369, 'pretty': 6759, 'x81ndings': 9151, 'recognizing': 7122, 'catasys': 1305, 'od': 6160, 'storytellers': 8133, 'prizes': 6795, 'initial': 3952, 'moderating': 4877, 'detective': 2242, 'initially': 3954, 'sharp': 7749, 'vigilance': 8933, 'iqvia': 4155, 'merger': 4757, 'quintiles': 7031, 'edi': 2579, 'flat': 3147, 'library': 4425, 'manuals': 4622, 'responds': 7355, 'transmission': 8589, 'layouts': 4359, 'customizations': 2042, 'facets': 3004, 'nknowledgeable': 5592, 'tactically': 8332, 'turnaround': 8653, 'adapt': 386, 'transactions': 8564, 'reimagine': 7209, 'nqvia': 5841, 'niqvia': 5575, 'workday_recruiting': 9107, 'arrange': 721, 'r1071407': 7038, 'premium': 6727, 'swells': 8302, '96m': 262, 'subscription': 8205, 'joining': 4211, 'translates': 8584, 'phase': 6529, 'ab': 272, 'synthesizing': 8317, 'lendio': 4397, 'primarily': 6771, 'plenty': 6604, 'introduced': 4107, 'listening': 4475, 'ncontinuously': 5228, 'talents': 8346, 'nsql': 5948, 'ndomo': 5321, 'ncompetitive': 5208, '50k': 184, 'npeople': 5762, 'relaxed': 7229, 'nbright': 5142, 'npaid': 5747, 'nlearn': 5598, 'nhttp': 5523, 'greatplacetowork': 3487, 'filter': 3101, 'ngreat': 5501, 'philips': 6536, 'layered': 4355, 'formula': 3218, 'xml': 9259, 'precondition': 6706, 'calling': 1220, 'society': 7897, 'continuum': 1829, 'unexpected': 8724, 'moments': 4894, 'watching': 9021, 'blog': 1045, 'perceived': 6453, 'section': 7646, 'rehabilitation': 7208, '1973': 76, 'vietnam': 8925, 'readjustment': 7091, '888': 245, '367': 156, '7223': 219, 'ph1': 6523, 'forgot': 3205, 'password': 6403, 'difficulties': 2301, 'careersite': 1269, 'monitored': 4902, 'inbox': 3844, 'received': 7111, 'snr': 7889, 'tune': 8650, 'alignment': 543, 'agreed': 508, 'labeled': 4308, 'assuring': 786, 'automating': 860, 'sustained': 8294, 'posture': 6672, 'seated': 7639, 'positon': 6650, 'reed': 7163, 'rbi': 7076, 'petrochemicals': 6519, 'relx': 7254, 'plc': 6598, 'reedbusiness': 7164, 'uk': 8681, 'supplement': 8258, 'nrbi': 5846, 'charity': 1388, 'ote': 6291, 'salaries': 7524, 'cs': 2004, 'weka': 9050, 'parameters': 6364, 'intervals': 4093, 'significance': 7803, 'alexa': 533, 'everyday': 2856, 'simply': 7820, 'echo': 2560, 'dot': 2470, 'tap': 8351, 'nlu': 5617, 'hardest': 3562, 'delight': 2158, 'conversational': 1853, 'exceeds': 2872, 'tagging': 8335, 'syntactic': 8312, 'disambiguation': 2340, 'topic': 8520, 'contextual': 1816, 'namazon': 5041, 'women': 9099, 'ecd': 2558, 'pa': 6335, 'trial': 8617, 'pilots': 6557, 'medidata': 4727, 'rave': 7073, 'clinicaltrials': 1497, 'activation': 368, 'detect': 2240, 'ecdi': 2559, 'sparkml': 7957, 'pytorch': 6980, 'probabilistic': 6799, 'pymc3': 6975, 'edward': 2596, 'figaro': 3091, 'yrs': 9274, 'pharmaceutical': 6524, 'coordinator': 1877, 'transit': 8580, 'tdm': 8367, 'updating': 8785, 'surveying': 8284, 'efficacy': 2611, 'farebox': 3036, 'exceptions': 2879, 'rejection': 7218, 'reschedule': 7316, 'corrective': 1899, 'forecasts': 3196, 'endeavors': 2705, 'confer': 1721, 'originating': 6285, 'entering': 2757, 'receiving': 7112, 'urban': 8798, 'propose': 6893, 'hourly': 3703, 'viacom': 8916, 'touches': 8529, 'tv': 8659, 'total': 8526, 'translation': 8586, 'jr': 4224, 'deeper': 2137, 'viewers': 8930, 'devoted': 2265, 'mtv': 4953, 'comedy': 1579, 'vh1': 8913, 'bet': 990, 'ncore': 5236, 'metered': 4771, 'syndicated': 8311, 'foresting': 3201, 'attitudinal': 819, 'nba': 5119, 'nexpertise': 5438, 'redis': 7153, 'ncreative': 5244, 'thrives': 8471, 'x98think': 9180, 'tank': 8349, 'ish': 4159, 'catalyst': 1303, 'upper': 8794, 'wellsky': 9058, 'grads': 3457, 'gives': 3409, 'exists': 2911, 'semester': 7689, 'saves': 7556, 'nwellsky': 6091, 'eligibility': 2644, 'nblackthorn': 5134, 'therapeutics': 8448, 'neurobehavioral': 5398, 'disorders': 2383, 'depression': 2207, 'schizophrenia': 7585, 'autism': 852, 'pioneered': 6562, 'psychiatry': 6932, 'gen': 3358, 'multimodal': 4961, 'neuroimaging': 5400, 'resting': 7369, 'fmri': 3173, 'structural': 8170, 'mri': 4942, 'dwi': 2527, 'ample': 593, 'afni': 484, 'fsl': 3275, 'freesurfer': 3257, 'toolboxes': 8512, 'signal': 7799, 'modalities': 4865, 'eeg': 2599, 'fixed': 3140, 'route': 7477, 'specification': 7978, 'gtfs': 3513, 'combining': 1577, 'ntd': 5983, 'arcgis': 697, '09': 14, '07': 13, 'et': 2822, 'remaining': 7257, '13': 41, 'arra': 720, 'stimulus': 8113, 'monies': 4900, '01': 6, 'nindividuals': 5548, '919': 253, '515': 186, '3148': 143, 'offender': 6168, 'verified': 8894, 'wes': 9059, 'nnc': 5669, 'employers': 2681, 'cfdss': 1358, 'cfds': 1357, 'evangelizing': 2847, 'representing': 7296, 'datarobot': 2083, 'standpoint': 8063, 'demonstrations': 2184, 'informing': 3938, 'framing': 3246, 'workflows': 9112, 'advisor': 455, 'empathizing': 2671, 'qualifying': 6997, 'telecommunication': 8395, '52799': 187, 'pra': 6693, '15000': 51, 'grown': 3505, 'cro': 1989, 'settle': 7729, 'old': 6191, 'permeates': 6481, 'nacting': 5020, 'trending': 8614, 'ndeveloping': 5296, 'specifying': 7981, 'nproviding': 5829, 'ncreating': 5243, 'nperforms': 5767, 'teamsto': 8376, 'nrecommend': 5851, 'adaptive': 391, 'utilizingapplicable': 8828, 'usingprogramming': 8816, 'nleads': 5597, 'nescalates': 5382, 'concerns': 1703, 'outof': 6305, 'analytically': 604, 'nprevious': 5801, 'considering': 1768, 'programmers': 6852, 'jreview': 4225, 'jmp': 4199, 'graphics': 3476, 'manageable': 4600, 'npra': 5790, 'onlineapply': 6207, 'nshare': 5918, 'sorry': 7933, 'moment': 4893, 'refresh': 7180, 'later': 4336, 'newsfeed': 5413, 'alpha': 555, 'correction': 1897, 'faceted': 3003, 'neuberger': 5396, 'berman': 988, 'onlineaccommodations': 6206, 'nb': 5118, 'installed': 4001, 'portfolios': 6639, 'nthey': 6000, 'multidimensional': 4959, 'unlock': 8759, 'enhancement': 2736, 'nscripts': 5906, 'npatterns': 5758, 'ninsights': 5556, 'nset': 5914, 'ninform': 5550, 'ninternal': 5564, 'nproduct': 5814, 'quantification': 7004, 'ndefects': 5267, 'outliers': 6300, 'nprogress': 5819, 'ntoward': 6012, 'benchmarks': 982, 'nsustainable': 5978, 'ones': 6203, 'nscale': 5903, 'nmanipulate': 5631, 'nvariety': 6076, 'ndefine': 5268, 'ncomplex': 5211, 'nstories': 5959, 'nexecutive': 5429, 'ndashboards': 5259, 'infographics': 3929, 'voc': 8972, 'nadvance': 5030, 'nmaturity': 5637, 'counseling': 1921, 'nextract': 5445, 'nvalue': 6073, 'nyears': 6117, 'exp': 2916, 'nanalytics': 5049, 'ndecision': 5264, 'nefficiently': 5352, 'ggplot2': 3396, 'gainsight': 3321, 'connection': 1749, 'logically': 4510, 'staying': 8096, 'ncurrent': 5252, 'kind': 4273, 'blends': 1039, 'networked': 5393, 'hidden': 3624, 'currentbyge': 2029, 'announced': 627, 'sell': 7682, 'closing': 1504, 'approvals': 686, 'consultation': 1794, 'massachusetts': 4658, 'boston': 1085, 'east': 2546, 'cleveland': 1485, 'westlake': 9062, 'village': 8935, '1996': 81, 'specializing': 7974, 'traffic': 8551, 'chat': 1395, 'websites': 9039, 'stretches': 8157, 'continent': 1817, 'presence': 6743, 'streaming': 8145, 'gamification': 3327, 'referred': 7174, 'x9cppc': 9213, 'buyer': 1189, 'adwords': 462, 'adult': 434, 'succeeds': 8219, 'decisive': 2124, 'resourceful': 7342, 'buys': 1192, 'caps': 1256, 'impression': 3830, 'score': 7604, 'placements': 6578, 'qualities': 6999, 'composure': 1674, 'critically': 1985, 'summaries': 8236, 'appreciated': 675, 'colleague': 1549, 'representatives': 7294, 'imperative': 3813, 'flirt4free': 3157, 'understands': 8716, 'respects': 7351, 'attractive': 824, 'ods': 6163, 'edw': 2595, 'eb': 2553, 'containing': 1810, 'redesigning': 7152, 'responsiveness': 7363, 'energizing': 2715, '1901744': 70, 'summarizes': 8240, 'xgboost': 9257, 'agenda': 492, 'wallet': 9001, 'ndrives': 5326, 'nenhance': 5368, 'establishment': 2817, 'nresponsible': 5884, 'n2': 4988, 'earning': 2541, 'street': 8149, '06366': 12, 'corp': 1892, 'norganization': 5713, '1001': 20, 'nschedule': 5904, 'strength': 8151, 'healing': 3595, 'analyzable': 608, 'analyzed': 610, 'completes': 1654, 'ndocument': 5315, 'editing': 2583, 'retrieval': 7391, 'manuscripts': 4625, 'perpetuate': 6487, 'nexceptional': 5424, 'conceptualization': 1698, 'mount': 4929, 'sinai': 7825, 'devotion': 2266, 'culturally': 2016, 'ethically': 2825, 'unrivaled': 8771, 'welcoming': 9053, 'nurturing': 6057, 'belief': 970, 'chapter': 1380, 'compassionate': 1631, 'coordination': 1876, 'icahn': 3753, 'beth': 991, 'brooklyn': 1145, 'queens': 7017, 'roosevelt': 7468, 'luke': 4559, 'ear': 2535, 'infirmary': 3917, 'bored': 1081, 'journalists': 4219, 'bodies': 1062, 'civil': 1448, 'ndashboard': 5258, 'dplyr': 2480, 'tidyverse': 8477, 'js': 4226, 'definite': 2150, 'sample': 7531, 'c4ads': 1197, 'ninterns': 5566, 'stipend': 8114, 'prorated': 6898, 'objective': 6130, 'equality': 2789, 'ndue': 5327, 'contacted': 1804, 'nposition': 5783, 'x83': 9155, 'x98': 9177, 'satisfied': 7551, 'waterfall': 9023, 'geographically': 3386, 'dispersed': 2389, 'budgeting': 1162, 'n1st': 4986, 'nhours': 5520, 'n40': 4995, 'appzen': 693, 'nappzen': 5069, 'ee': 2598, 'bioinformatics': 1019, 'biology': 1021, 'nfamiliar': 5451, 'nsolve': 5939, 'iteratively': 4177, 'advocating': 461, 'ninteract': 5559, 'nchinese': 5177, 'black': 1034, 'metropolitan': 4785, 'logistical': 4512, 'fabric': 2999, 'ride': 7423, 'sandwich': 7539, 'represents': 7297, 'strengthen': 8152, 'economies': 2570, 'streets': 8150, 'autonomous': 865, 'trucking': 8634, 'haul': 3577, 'embed': 2653, 'rider': 7424, 'intensive': 4047, 'ocr': 6156, 'statistically': 8090, 'cohorts': 1537, 'demonstrable': 2178, 'guided': 3522, 'nsuperb': 5971, 'nfar': 5453, 'immerses': 3802, 'socials': 7894, 'lot': 4535, 'periodcross': 6470, 'hackday': 3541, 'playground': 6594, 'endless': 2707, 'undergradinternships': 8705, 'gradinternships': 3456, 'graduating': 3462, 'nnone': 5678, 'bridge': 1123, 'lapack': 4324, 'gurobi': 3528, 'contained': 1807, 'derivation': 2210, 'comma': 1585, 'delimited': 2160, 'json': 4228, 'ntransform': 6015, 'informative': 3936, 'commercially': 1594, 'nderive': 5283, 'object': 6129, 'rshiny': 7488, 'linking': 4467, 'nsuperior': 5972, 'nutritional': 6068, 'federally': 3069, 'disparities': 2385, 'snap': 7883, 'incoming': 3860, 'surveys': 8285, 'intake': 4027, 'archive': 705, 'docs': 2442, 'fte': 3276, 'ua': 8671, 'asu': 789, 'nau': 5105, 'recreation': 7141, 'arizona': 713, 'worldatwork': 9125, 'recording': 7138, 'copy': 1882, 'responses': 7357, 'verifies': 8895, 'follows': 3181, 'sorts': 7936, 'entered': 2756, 'corrects': 1902, 'reconciles': 7132, 'extracts': 2985, 'trackers': 8541, 'disseminates': 2401, 'filing': 3099, 'archives': 706, 'hardcopy': 3560, 'complicated': 1661, 'professionalism': 6834, 'accepts': 313, 'oversight': 6324, 'absorb': 286, 'remain': 7256, 'calm': 1222, 'stressful': 8155, 'regents': 7189, 'narizona': 5072, 'alphanumeric': 556, 'proofing': 6881, 'reconciling': 7135, 'nvivo': 6086, 'composition': 1673, 'spelling': 7987, 'flsa': 3166, 'therapy': 8451, 'expanded': 2918, 'audit': 834, 'enormous': 2745, 'president': 6752, 'ticketing': 8475, 'asana': 739, 'gatewaylg': 3338, 'focuskpi': 3178, 'unix': 8751, 'thank': 8440, 'nfocuskpi': 5470, 'customization': 2041, 'nanalysis': 5047, 'videos': 8924, 'analyse': 596, 'indictors': 3894, 'analysing': 598, 'advocate': 459, 'incites': 3850, 'clickstream': 1489, 'udf': 8677, 'inquisitive': 3981, 'capitalizes': 1255, 'reacting': 7085, 'prioritization': 6785, 'info': 3926, '2dreaminc': 131, 'nvoice': 6087, 'completely': 1652, 'spoken': 7998, 'infancy': 3909, 'ericsson': 2800, 'nericsson': 5381, 'borders': 1080, '180': 62, 'achievements': 349, 'practically': 6696, 'impossible': 3829, 'brains': 1099, '5g': 197, 'accelerator': 306, 'sweden': 8301, 'india': 3887, 'nmachine': 5619, 'mi': 4788, 'push': 6969, 'frontiers': 3273, 'digitalization': 2308, 'acceleration': 305, 'societal': 7895, 'nthen': 5997, 'nrole': 5895, 'accelerating': 304, '4g': 178, 'exogenous': 2915, 'proposing': 6895, 'industrialize': 3902, 'nengage': 5366, 'academia': 298, 'nstatistics': 5957, 'nprogramming': 5818, 'discriminant': 2368, 'bagging': 918, 'svm': 8296, 'functionalities': 3289, 'industrialization': 3901, 'viability': 8914, 'ncertifying': 5171, 'moocs': 4913, 'nurture': 6056, 'persistence': 6490, 'white': 9072, 'blogs': 1046, 'sensitivity': 7698, 'bf1': 996, 'ntag': 5980, 'manahj': 4608, 'substance': 8211, 'abuse': 295, 'opinion': 6236, 'compact': 1621, 'inquired': 3978, 'discussed': 2376, 'disclosed': 2352, 'disclose': 2351, 'formal': 3208, 'complaint': 1649, 'furtherance': 3308, 'proceeding': 6810, 'conducted': 1717, 'furnish': 3306, 'lie': 4433, 'detector': 2243, 'discharging': 2344, 'disciplining': 2349, 'discriminating': 2371, 'prospective': 6901, 'refusing': 7183, 'exercising': 2905, 'whd': 9070, 'eppac': 2787, 'modifications': 4883, 'adjustments': 415, '866': 242, '374': 157, '2272': 119, '877': 244, '338': 150, '9966': 266, 'serveng': 7716, 'nulta': 6034, 'beauty': 958, 'enthusiast': 2763, 'butterflies': 1186, 'shops': 7773, 'prestige': 6756, 'mass': 4657, 'salon': 7530, 'roof': 7464, 'committing': 1600, 'thrill': 8469, 'qm': 6988, 'harnesses': 3569, 'ulta': 8684, 'joined': 4210, 'differentiate': 2296, 'guest': 3517, 'journeys': 4222, 'discovering': 2363, 'boundaries': 1086, 'rock': 7455, 'x9cwow': 9229, 'versatile': 8900, 'mark': 4639, 'nplatform': 5778, 'nrelation': 5859, 'garner': 3334, 'nmentor': 5641, 'lesser': 4402, 'strategically': 8140, 'nprefered': 5795, 'gpu': 3452, 'approaching': 682, 'squarespace': 8021, 'ndepending': 5282, 'roadmap': 7445, 'reframe': 7179, 'reveal': 7400, 'instrument': 4015, 'transformations': 8575, 'nsquarespace': 5949, 'blending': 1038, 'elegant': 2636, 'entrepreneurs': 2771, 'iconic': 3757, 'downtown': 2477, 'dublin': 2519, 'portland': 6641, 'ntoday': 6008, '19000bn4': 66, '199': 79, 'relevance': 7237, 'viewability': 8927, 'addthis': 405, 'bluekai': 1053, 'crosswise': 1992, 'datalogix': 2077, 'grapeshot': 3472, 'moat': 4859, 'x9crivr': 9217, 'verticals': 8908, 'telco': 8393, 'b2b': 897, 'odc': 6161, 'rivr': 7439, 'smarter': 7868, 'ambition': 571, 'broomfield': 1147, 'communicated': 1609, 'maximizing': 4691, 'viewable': 8928, 'persuasively': 6508, 'proposition': 6896, 'grounding': 3500, 'nuances': 6028, 'interrogate': 4087, 'prospect': 6899, 'visitation': 8954, 'pixel': 6572, 'walled': 9000, 'garden': 3333, 'profession': 6832, 'complimented': 1664, 'x98big': 9179, 'underperforming': 8710, 'qubole': 7016, 'gui': 3519, 'convention': 1849, 'x9cwhy': 9228, 'extending': 2972, 'lack': 4313, 'prescribed': 6741, 'consolidate': 1777, 'x9cbig': 9194, 'ninteracts': 5560, 'varied': 8867, 'noracle': 5709, 'batch': 946, 'solr': 7916, 'connectivity': 1751, 'instincts': 4005, 'kpi': 4297, 'sourcing': 7943, 'penney': 6445, 'nplano': 5777, 'nacquires': 5017, 'accomplishments': 329, 'sharepoint': 7746, 'datameer': 2078, 'competing': 1640, 'ndemonstrate': 5276, 'quantities': 7010, 'plano': 6585, 'jcpenney': 4188, 'discount': 2357, 'merchandise': 4752, 'clinic': 1494, 'daycare': 2096, 'preschool': 6738, 'cafeteria': 1206, 'garage': 3332, 'parking': 6373, 'golden': 3432, 'rooted': 7470, 'treat': 8604, 'touchpoint': 8530, 'stylish': 8188, 'reinforcing': 7215, 'warrior': 9015, '98': 263, 'prosper': 6903, 'flourishes': 3162, 'nfollow': 5471, 'instagram': 3999, 'linkedin': 4466, 'jcp': 4187, 'nreq': 5869, '1082692': 26, 'cooper': 1868, 'alley': 547, 'dream': 2492, 'alive': 544, 'oh': 6184, 'determined': 2246, 'lending': 4396, 'candor': 1242, 'aren': 710, 'punch': 6954, 'clock': 1500, 'hole': 3667, 'quo': 7034, 'manger': 4612, 'talking': 8348, 'x9cbusy': 9195, 'gaining': 3319, 'mappings': 4629, 'sttm': 8175, 'reverse': 7403, 'upcoming': 8781, 'geared': 3353, 'xa2gather': 9233, 'xa2work': 9238, 'xa2showcase': 9237, 'incredibly': 3874, 'technologically': 8386, 'xa2knowledge': 9235, 'understating': 8717, 'xa2hands': 9234, 'xa2preferred': 9236, '2021': 110, 'concurrently': 1713, 'demonstration': 2183, 'trustmark': 8641, 'personalized': 6498, 'circumstance': 1438, 'revolves': 7411, 'peace': 6438, 'digest': 2303, 'suggest': 8226, 'raw': 7074, 'aggregated': 497, 'recorded': 7137, 'imaged': 3787, 'servicing': 7722, 'lien': 4434, 'named': 5042, 'datatree': 2087, 'concentrated': 1692, 'energized': 2714, 'examining': 2868, 'superiority': 8250, 'nserve': 5912, 'subscribe': 8202, 'nemploy': 5359, 'repairs': 7276, 'nrepresent': 5868, 'boarding': 1057, 'x9cmaintenance': 9207, 'cis': 1440, 'interfacing': 4065, 'invests': 4137, 'firstam': 3133, 'emerge': 2663, 'dropbox': 2507, 'mentions': 4748, 'backlog': 911, 'multitude': 4966, 'excitement': 2885, 'leveling': 4408, 'super': 8247, 'atf': 792, 'bmw': 1055, 'breakthrough': 1118, 'car': 1260, 'pleased': 6601, 'databricks': 2072, 'repeatable': 7279, 'rmarkdown': 7440, 'ndistribute': 5309, 'napprise': 5065, 'derived': 2212, 'nuber': 6029, 'obsession': 6140, 'deeply': 2138, 'owning': 6332, 'nexample': 5422, 'nenabling': 5364, 'delightful': 2159, 'nbuilding': 5146, 'friction': 3263, 'npredicting': 5794, 'ndemonstrable': 5275, 'nknow': 5590, 'retraining': 7389, 'nsubstantial': 5965, 'lda': 4362, 'tf': 8436, 'idf': 3776, 'embeddings': 2656, 'word2vec': 9102, 'doc2vec': 2439, 'glove': 3422, 'variational': 8865, 'theorem': 8444, 'explained': 2947, 'inspiring': 3997, 'explanations': 2950, 'germany': 3392, 'sophomore': 7932, 'erp': 2801, 'zeiss': 9275, 'preserving': 6751, 'shaped': 7741, '170': 57, 'auto': 853, '169334br': 55, 'pepsico': 6452, 'undergoing': 8704, 'beverage': 994, 'assembled': 757, 'tied': 8479, 'resembles': 7323, 'embracing': 2662, 'npepsico': 5763, 'innovators': 3973, 'bounds': 1087, 'possibility': 6655, 'grocery': 3497, 'codebase': 1523, 'foster': 3228, 'dsa': 2513, 'postgressql': 6666, 'mssql': 4950, 'offs': 6182, 'prescreens': 6739, 'alcohol': 530, 'police': 6621, 'sections': 7648, '4901': 176, '4919': 177, 'download': 2474, 'trilogy': 8623, 'npowered': 5789, 'egos': 2620, 'instructors': 4014, 'universities': 8749, 'boot': 1076, 'camps': 1234, 'graduated': 3460, 'ndriven': 5325, 'mentality': 4745, 'ntrilogy': 6020, 'deserve': 2222, 'depends': 2198, 'lend': 4395, 'fans': 3033, 'critics': 1987, 'confront': 1743, 'head': 3589, 'nteamwork': 5985, 'diving': 2427, 'credibly': 1969, 'rows': 7482, 'ssas': 8026, 'integrates': 4033, 'facilitates': 3006, 'ncreates': 5242, 'cpa': 1943, 'ineligible': 3908, 'brooks': 1146, 'itw': 4178, 'hatfield': 3576, 'suburban': 8216, 'philadelphia': 6534, 'hungary': 3737, 'france': 3247, 'japan': 4183, 'laboratory': 4311, 'chemicals': 1405, 'semiconductor': 7691, 'instruments': 4019, 'nuclear': 6030, 'solar': 7908, 'cells': 1333, 'pareto': 6370, 'histograms': 3644, 'administer': 417, 'trackwise': 8544, 'preventive': 6764, 'capa': 1246, 'cc': 1322, 'failure': 3021, 'fa': 2997, 'traintrack': 8558, 'deficiencies': 2145, 'conformances': 1742, 'dynamically': 2530, 'satisfying': 7553, 'compete': 1635, 'prospered': 6904, 'changed': 1374, 'advertisement': 446, 'dorahitsolutions': 2469, 'avvo': 880, 'lawyers': 4352, 'teammate': 8373, 'likes': 4449, 'mentorship': 4751, 'envelope': 2774, 'approximations': 690, 'uncovering': 8700, 'conveying': 1860, 'maximum': 4692, 'nsuccess': 5966, 'enabled': 2692, 'sustain': 8290, 'ib': 3750, 'applauds': 660, 'intensely': 4046, 'enjoying': 2742, 'luxury': 4562, 'jeans': 4191, 'sneakers': 7886, 'ninternet': 5565, 'wholly': 9073, 'author': 844, 'invalid': 4114, 'defect': 2140, 'cycles': 2052, 'nplan': 5775, 'nreliably': 5862, 'stewardship': 8109, 'lessons': 4403, 'flowing': 3164, 'traceable': 8539, 'insertion': 3984, 'interoperability': 4079, 'flaws': 3150, 'ncomply': 5212, 'nmine': 5645, 'operationalizing': 6231, 'owner': 6329, 'mbr': 4696, 'qbr': 6983, 'nlearns': 5599, 'owns': 6333, 'nmonitoring': 5656, 'prod': 6819, 'n9': 5003, 'editors': 2586, 'powercenteridq': 6679, 'mercury': 4754, 'qtp': 6989, '10g': 27, '2010': 98, 'productivity': 6829, 'modular': 4887, 'sprint': 8014, 'ndetailed': 5291, 'decompose': 2128, 'pieces': 6552, 'institute': 4006, 'pavir': 6419, 'pi': 6547, 'eugene': 2832, 'butcher': 1184, 'butcherlab': 1185, 'stanford': 8065, 'edu': 2588, 'transcriptomics': 8567, 'investigators': 4132, 'vascular': 8873, 'immunology': 3807, 'tumor': 8649, 'translational': 8587, 'transcriptomic': 8566, 'biological': 1020, 'hrs': 3720, 'wk': 9097, 'nvision': 6084, 'ndental': 5279, 'nlong': 5613, 'nflexible': 5466, 'ncommuter': 5203, 'npavir': 5759, 'vapahcs': 8860, 'commence': 1588, 'jsl': 4227, 'inadequate': 3842, 'edits': 2587, 'nlicense': 5602, 'lbs': 4360, 'bending': 983, 'repetitive': 7280, 'wet': 9064, 'blood': 1047, 'borne': 1083, 'pathogens': 6410, 'toxic': 8536, 'caustic': 1319, 'reagents': 7093, 'radiation': 7040, 'engages': 2725, 'administering': 418, 'disease': 2379, 'refer': 7167, 'southern': 7945, 'jersey': 4193, 'perinatal': 6468, 'cooperative': 1870, '27': 126, 'bu1968': 1155, '116': 35, 'pennsauken': 6446, 'nj': 5581, 'organizationally': 6273, 'travels': 8600, 'indicated': 3890, 'annual': 630, 'snjpc': 7887, 'maternal': 4673, 'pediatric': 6441, 'comp': 1620, 'pkg': 6573, 'accommodate': 322, 'charleston': 1389, 'sc': 7564, '100k': 21, 'sisense': 7829, 'disruptive': 2399, '3188439': 145, 'afc': 470, 'protects': 6911, 'deutsche': 2250, 'avert': 873, 'unintentional': 8735, 'breaches': 1110, 'advise': 451, 'perimeter': 6467, 'assistant': 773, 'vice': 8918, 'pacific': 6339, 'franchise': 3248, 'heavily': 3605, 'gains': 3320, 'packed': 6343, 'x9cbank': 9193, 'x9cgtb': 9200, 'respectively': 7350, 'gtb': 3511, 'middle': 4796, 'x9cnca': 9210, 'x9cpr': 9214, 'rr': 7485, 'exited': 2913, 'subsidiaries': 8207, 'domiciled': 2463, 'avp': 879, 'gtb_tfccm_us': 3512, 'adoptions': 431, 'x9cedr': 9198, 'distinct': 2406, 'tfccm_us': 8437, 'licensed': 4428, 'pinpoint': 6559, 'soft': 7901, 'heads': 3594, 'switch': 8304, 'gears': 3354, 'charged': 1386, 'proces': 6811, 'divisions': 2430, 'depiction': 2200, 'eus': 2838, 'aml': 588, 'directives': 2327, 'escalations': 2804, 'steps': 8104, 'govern': 3442, 'solely': 7911, 'pivots': 6571, 'lookups': 4527, 'satisfy': 7552, 'overlapping': 6319, 'pmo': 6612, 'cash': 1294, 'ndeutsche': 5293, 'links': 4468, 'x9c': 9188, 'press': 6753, 'textio': 8434, 'genre': 3378, 'introspection': 4110, 'niteratively': 5578, 'intrinsic': 4105, 'extrinsic': 2990, 'ncurating': 5250, 'ncollaborating': 5191, 'abstractions': 291, 'ncontributing': 5232, 'nstrengthening': 5961, 'interpretable': 4082, 'explainability': 2946, 'shipping': 7764, 'practicality': 6695, 'path': 6409, 'concrete': 1711, 'louder': 4538, 'specs': 7982, 'ego': 2619, 'ntextio': 5994, 'outfront': 6296, 'profits': 6848, 'sourced': 7941, 'obiee': 6128, 'bics': 1001, 'oac': 6125, 'suit': 8231, 'wishes': 9093, 'nservice': 5913, 'nmaintenance': 5623, 'paralegal': 6360, 'numerate': 6038, 'naptitude': 5070, 'naccustomed': 5015, 'sla': 7854, 'aware': 884, 'nintermediate': 5563, 'nindependently': 5547, 'nexperienced': 5436, 'astreya': 788, 'nintroduction': 5572, 'ncareer': 5162, 'nonline': 5696, 'cbt': 1321, 'nuggets': 6032, 'upskill': 8796, 'ndedicated': 5265, 'nnumerous': 5685, 'npeer': 5761, 'nmarket': 5633, 'nastreya': 5091, 'showing': 7782, '31': 140, 'verifications': 8893, 'ofac': 6165, 'ss': 8024, 'vb': 8876, 'ssential': 8028, 'mines': 4819, 'maturity': 4687, 'rally': 7049, 'diet': 2292, 'choosing': 1424, 'doctor': 2443, 'coo': 1866, 'david': 2092, 'ko': 4294, 'says': 7561, 'innovates': 3967, 'okay': 6189, 'burn': 1179, 'lifetime': 4441, 'mixture': 4851, 'schemas': 7584, 'nrally': 5845, 'knows': 4293, 'appearance': 658, 'notify': 5736, 'rallyhealth': 7050, 'vudu': 8989, 'ab1': 273, 'juggle': 4232, 'waitr': 8993, 'redefining': 7151, 'sided': 7793, 'concierge': 1705, 'convenience': 1847, 'humor': 3735, 'came': 1229, 'waitrapp': 8994, 'dynamics': 2531, 'backwards': 915, 'sizing': 7843, 'ideating': 3767, 'ncollecting': 5194, 'nmanaging': 5630, 'jump': 4236, 'resilient': 7334, 'carve': 1288, 'hyper': 3746, 'perk': 6476, 'rare': 7064, 'nsharp': 5920, 'nnine': 5674, 'nunlimited': 6052, 'nstandard': 5952, 'macbook': 4567, 'brass': 1108, 'negotiable': 5355, 'reonomy': 7274, 'sapphire': 7543, 'bain': 919, 'softbank': 7903, 'represent': 7290, 'cre': 1955, 'newmark': 5411, 'knight': 4282, 'frank': 3251, 'cushman': 2035, 'wakefield': 8995, 'tishman': 8492, 'speyer': 7991, 'intelligently': 4044, 'complexities': 1658, 'nwriting': 6110, 'trivial': 8627, 'nhistory': 5518, 'noffice': 5688, '3x': 162, 'breakfast': 1114, '2x': 134, 'citi': 1441, 'bike': 1009, 'discounts': 2359, 'wellness': 9057, 'rooms': 7467, 'recruiters': 7144, 'interacts': 4057, 'dexcom': 2268, 'glucose': 3424, 'diabetes': 2274, 'caregivers': 1273, 'timeline': 8484, 'dataproc': 2081, 'datalab': 2076, 'aways': 887, 'decomposition': 2129, 'factorization': 3016, 'mllib': 4854, 'published': 6941, 'discriminated': 2370, 'proofpoint': 6882, 'protecting': 6908, 'intel': 4039, 'singularly': 7827, 'cybersecurity': 2050, 'x94and': 9165, 'gans': 3329, 'resnets': 7335, 'mastered': 4663, 'classics': 1462, 'malicious': 4595, 'actors': 374, 'craftsmanship': 1950, 'classifiers': 1466, 'repo': 7282, 'xafve': 9246, 'convnet': 1864, 'lstm': 4554, 'siamese': 7790, 'dbscan': 2103, 'spectral': 7983, 'som': 7925, 'lsh': 4552, 'toolkits': 8515, 'genism': 3376, 'vowpal': 8985, 'wabbit': 8992, 'algebra': 535, 'appreciation': 677, 'treating': 8606, 'jl3': 4198, 'staples': 8067, 'assortment': 781, 'lowest': 4547, 'embodied': 2658, 'promise': 6870, 'x9cwe': 9226, 'incentives': 3846, 'resides': 7331, 'sba': 7562, 'visualizing': 8964, 'powerbi': 6677, 'breakroom': 1117, 'furniture': 3307, 'promotional': 6876, 'solopreneurs': 7915, 'sycamore': 8308, 'composed': 1670, 'totaling': 8527, '17b': 59, 'warner': 9013, 'robins': 7447, 'force': 3190, 'nwould': 6108, 'branch': 1103, 'organic': 6270, 'advice': 450, 'effects': 2610, 'integrating': 4034, 'prompt': 6877, 'ncse': 5249, 'grainger': 3464, 'distributor': 2417, 'mro': 4944, 'gloves': 3423, 'ladders': 4315, 'janitorial': 4181, 'branches': 1104, 'outlined': 6302, 'jci': 4186, 'duration': 2523, 'npursuing': 5832, 'nrising': 5892, 'op': 6213, 'developmental': 2257, 'roundtable': 7476, 'networking': 5394, 'johnsoncontrols': 4208, 'tomorrowneedsyou': 8506, 'tws': 8664, 'terabytes': 8415, 'strives': 8163, 'observational': 6135, 'sq': 8016, 'vertica': 8905, 'documented': 2448, 'nestablish': 5385, 'urgency': 8799, 'ntraining': 6014, 'nindustry': 5549, 'graphic': 3474, 'vulgar': 8990, 'violent': 8939, 'pornography': 6636, 'null': 6033, 'nten': 5991, 'multiplier': 4964, 'sellers': 7684, 'buyers': 1190, 'matches': 4668, 'accelerates': 303, 'streamlines': 8147, '55': 190, 'safely': 7515, 'virtue': 8945, 'seller': 7683, 'transacting': 8561, 'dramatic': 2485, 'nhttps': 5524, 'parameter': 6363, 'estimation': 2821, 'nthorough': 6002, 'regressions': 7199, 'louisville': 4540, 'ky': 4303, 'referencing': 7171, 'hits': 3651, 'consistencies': 1770, 'standardizations': 8058, 'epic': 2783, 'meditech': 4728, 'asc': 741, 'x12': 9145, '270': 127, '271': 128, '837': 236, '835': 235, 'joins': 4212, 'hl7': 3654, 'fhir': 3085, 'hipaa': 3637, 'progression': 6858, 'respected': 7345, 'advocates': 460, 'nblue': 5135, '1970': 75, 'thirteen': 8460, 'indiana': 3888, 'kentucky': 4259, 'ohio': 6185, 'sponsor': 7999, 'mister': 4844, 'wash': 9016, 'dry': 2511, 'tucson': 8647, 'uwc': 8832, 'nmember': 5640, 'nbehavioral': 5131, 'ntrial': 6019, 'nintellectual': 5558, 'whys': 9075, 'whats': 9069, 'pos': 6642, 'nlike': 5605, 'dirty': 2334, 'nmodern': 5651, 'nfast': 5456, 'ncar': 5161, 'nmister': 5649, 'nbrand': 5140, 'naddress': 5026, '222': 118, '5th': 200, '85705': 240, 'nproperty': 5825, 'anonymization': 634, 'jupiter': 4242, 'scikitlearn': 7597, 'restful': 7368, 'mac': 4566, 'command': 1586, 'kegerator': 4258, 'zogsports': 9283, 'torchlight': 8524, 'adhere': 407, 'proofread': 6883, 'tabulation': 8325, 'hygiene': 3745, 'granular': 3470, 'syntax': 8313, 'ntorchlight': 6010, 'placing': 6580, 'voted': 8984, 'places': 6579, 'torchlighthire': 8525, 'did': 2287, 'lyft': 4564, 'prospects': 6902, 'politically': 6627, 'aftermath': 487, 'woes': 9098, 'eclipse': 2561, 'hotel': 3697, 'bookings': 1071, 'nascent': 5079, 'itch': 4170, 'obstacles': 6143, 'toolbelt': 8511, 'stickler': 8110, 'careful': 1270, 'gifted': 3400, 'juggling': 4233, 'relish': 7250, 'goods': 3437, 'sociology': 7898, 'curve': 2033, 'nedison': 5339, 'island': 4160, 'stuck': 8176, 'backseat': 913, 'figuring': 3095, 'textbook': 8433, 'blameless': 1035, 'postmortems': 6670, 'hiringorganization': 3642, 'edison': 2581, 'costa': 1914, 'mesa': 4763, 'executed': 2893, 'mart': 4653, 'steward': 8106, '350': 153, 'die': 2289, 'collisions': 1560, 'zero': 9277, 'insurtech': 4024, 'preventing': 6762, 'hiroad': 3643, 'poised': 6620, 'trillion': 8622, 'longer': 4519, 'mindful': 4814, 'backend': 908, 'suites': 8235, 'ngeneral': 5492, 'consumed': 1798, 'glms': 3417, 'nactuarial': 5022, 'factoring': 3015, 'unable': 8687, 'shower': 7781, 'panoramic': 6355, 'montgomery': 4909, 'station': 8087, 'locals': 4499, 'owl': 6327, 'looks': 4526, 'suplari': 8257, 'shine': 7760, 'light': 4445, 'procurement': 6818, 'visualizes': 8963, 'manpower': 4619, 'clunky': 1510, 'nsuplari': 5974, 'nordstrom': 5711, '21st': 116, 'century': 1345, 'fox': 3239, 'tesla': 8425, 'sonos': 7928, 'aiming': 520, 'x9cshare': 9221, '2000': 90, 'seeing': 7657, 'formatted': 3214, 'uploaded': 8793, 'normalization': 5717, 'categorization': 1308, 'unclean': 8695, 'credibility': 1968, 'wrangling': 9135, 'apptio': 692, 'skytap': 7853, 'iconclude': 3756, 'trulia': 8637, 'zillow': 9282, 'madrona': 4572, 'amplify': 594, 'sigma': 7797, 'automatically': 859, 'mountain': 4930, 'bruno': 1151, 'wa': 8991, 'napplied': 5060, 'arrive': 725, 'chrome': 1426, 'android': 616, 'youtube': 9272, 'intego': 4029, 'evaluates': 2842, 'intra': 4101, 'summarize': 8239, 'socialized': 7893, 'looker': 4522, 'firmly': 3131, 'beats': 955, 'supplemental': 8259, 'dramatically': 2486, 'x94something': 9172, 'insurtechs': 4025, '2006': 94, 'waltham': 9005, 'rochester': 7454, 'pleasanton': 6600, 'religious': 7249, 'unfavorable': 8725, 'minimize': 4822, 'pharmaceuticals': 6525, 'cures': 2024, 'diseases': 2380, 'matched': 4667, 'deployed': 2202, 'nsan': 5901, 'nraleigh': 5844, 'durham': 2524, 'nnew': 5671, 'nlittleton': 5607, 'ncleveland': 5183, 'naustin': 5106, 'nann': 5052, 'arbor': 696, 'debugging': 2117, 'prof': 6831, 'eo': 2781, 'nibm': 5527, '42': 168, 'alelo': 531, 'saved': 7555, 'enskill': 2751, 'dialogue': 2282, 'raters': 7068, 'retrain': 7388, 'taken': 8338, 'chatbot': 1396, 'ndemonstrates': 5278, 'nmodels': 5650, 'npresents': 5800, 'ncertificate': 5168, 'ndoctoral': 5314, 'selling': 7685, '695': 214, 'banners': 929, 'fiscal': 3134, '485': 175, 'philanthropy': 6535, 'unwavering': 8780, 'exporting': 2962, 'spm': 7997, 'naffirmative': 5034, 'penn': 6444, 'nfosys': 5479, 'pythoninfosys': 6979, 'transferring': 8571, 'wanted': 9007, 'navigators': 5114, 'transformationsas': 8576, 'architectural': 701, 'anchor': 614, 'evangelize': 2846, 'infosys': 3940, 'pursuits': 6968, 'rewarded': 7413, 'bellevue': 975, 'travelu': 8601, 'qualificationsbasic': 6994, 'lieu': 4435, 'preferable': 6717, 'nlstm': 5615, 'knn': 4285, 'gcp': 3349, 'integer': 4028, 'constraint': 1784, 'analyticso': 606, 'managemento': 4603, 'segmentationo': 7668, 'sticks': 8111, 'differentiators': 2298, 'usinfosys': 8814, 'outsourcing': 6314, 'competition': 1641, 'dinners': 2318, 'broadway': 1140, 'nyc': 6116, 'sightseeing': 7796, 'speaker': 7962, 'fitting': 3138, 'robotics': 7450, 'troves': 8633, 'prescribe': 6740, 'bq': 1095, 'sharpen': 7750, 'centered': 1338, 'ncorporate': 5237, 'ndeloitte': 5274, 'extends': 2973, 'volunteerism': 8982, 'nrecruiter': 5853, 'tips': 8491, 'seekers': 7660, 'sparse': 7959, 'hmm': 3659, 'asking': 745, 'immersed': 3801, 'freely': 3256, 'saying': 7560, 'constellis': 1781, 'operators': 6234, 'academi': 297, 'amk9': 587, 'triple': 8625, 'canopy': 1245, 'olive': 6193, 'omniplex': 6199, 'centerra': 1340, 'edinburgh': 2580, 'c4i': 1198, 'crisis': 1980, 'africa': 486, 'reston': 7370, 'megacenter': 4734, 'gsa': 3509, 'fps': 3240, 'emergency': 2665, 'leso': 4401, 'responders': 7354, 'guard': 3515, 'posts': 6671, 'occupant': 6151, 'elevators': 2642, 'dispatching': 2388, 'removal': 7265, 'rexus': 7416, 'alarm': 528, 'demographics': 2177, 'zones': 9286, 'notes': 5730, 'delete': 2157, 'copies': 1880, 'backup': 914, 'dispatcher': 2387, 'exclude': 2888, 'delayed': 2155, 'emails': 2652, 'dispatch': 2386, 'flag': 3145, 'notification': 5734, 'blotter': 1051, 'logging': 4507, 'stats': 8093, 'webrms': 9037, 'leims': 4394, 'mist': 4841, 'megan': 4735, 'moral': 4915, 'cornerstone': 1890, '21': 114, 'augmented': 839, 'nrace': 5843, 'vet': 8909, 'reconciliation': 7133, 'effecting': 2606, 'ninvestigate': 5573, 'exploitation': 2954, 'loopholes': 4529, 'grad': 3453, 'nwish': 6102, 'eng': 2720, 'mediation': 4723, 'parametric': 6365, 'quasi': 7015, 'dyadic': 2528, 'ncheck': 5174, 'adopt': 429, 'ambassador': 568, 'sophistication': 7931, 'participant': 6378, 'empowerment': 2688, 'aspiring': 753, 'essentials': 2813, 'nudacity': 6031, 'payback': 6422, 'lgbtq': 4419, 'crunch': 1996, 'datacenter': 2073, 'broadly': 1139, 'fleet': 3151, 'voiding': 8975, 'warranties': 9014, 'apart': 652, 'narticulate': 5076, 'descriptionalphawise': 2219, 'morgan': 4916, 'stanley': 8066, 'alphawise': 558, 'enabler': 2693, 'x9coffense': 9211, 'x9cdefense': 9197, 'smes': 7873, 'quants': 7012, 'rulebooks': 7500, 'shore': 7774, 'reasoning': 7106, 'suggesting': 8228, 'ayima': 892, 'n25': 4992, 'nsummer': 5970, 'fridays': 3266, 'sun': 8244, 'nopportunities': 5705, 'njunior': 5586, 'immerse': 3800, 'determination': 2244, 'sharer': 7747, 'omniture': 6200, 'utm': 8829, 'formulas': 3219, 'vlookup': 8970, 'seo': 7704, 'nteam': 5984, 'breakfasts': 1115, 'nickelback': 5529, 'ndog': 5318, 'nbeer': 5130, 'fridge': 3267, 'bar': 930, 'nnintendo': 5675, 'worlds': 9128, 'forge': 3204, 'lauded': 4340, 'rsg': 7486, 'modelers': 4870, 'river': 7437, 'junction': 4238, 'vermont': 8899, 'reproducible': 7299, 'landscapes': 4321, '1b': 84, 'vets': 8912, 'rsginc': 7487, 'inscape': 3983, 'vizio': 8969, 'automatic': 858, 'tvs': 8660, 'ninscape': 5554, 'unavailable': 8691, 'granularity': 3471, 'dash': 2064, 'x9cmake': 9208, 'polished': 6625, 'nextremely': 5447, 'nenthusiastic': 5374, 'extreme': 2988, 'demeanor': 2173, 'upload': 8792, 'selects': 7677, 'adapts': 392, 'anticipates': 645, 'exceptionally': 2878, 'measured': 4713, 'harvard': 3572, 'llp': 4492, 'advisors': 456, 'competitors': 1644, 'questionnaires': 7024, 'nfluency': 5468, 'separately': 7706, 'composites': 1672, 'nfactset': 5450, 'continuity': 1826, 'disaster': 2341, 'recovery': 7140, 'dialog': 2281, 'simplified': 7817, 'participation': 6382, 'openx': 6221, 'petabyte': 6515, 'cut': 2045, 'bagged': 917, 'boosted': 1074, 'incorporating': 3868, 'glance': 3411, 'nopenx': 5702, 'unleashing': 8756, 'screens': 7617, 'marketplaces': 4646, 'executors': 2901, 'fascinated': 3044, 'empathetic': 2670, 'bedrock': 960, 'remind': 7262, 'dies': 2291, 'reputations': 7301, 'repeat': 7277, 'aggressively': 501, 'criticism': 1986, 'defensiveness': 2143, 'weaklings': 9032, 'michael': 4790, 'kors': 4296, 'activations': 369, 'downstream': 2476, 'draws': 2491, 'npartners': 5753, 'nacts': 5021, 'nsupports': 5977, 'inconsistency': 3865, 'nexecutes': 5427, 'hydromax': 3744, 'crews': 1973, 'inspection': 3990, 'assign': 766, 'overcoming': 6317, 'mentally': 4746, 'esri': 2810, 'arcmap': 707, '2003': 91, 'husa': 3741, 'locating': 4502, 'aging': 505, 'wastewater': 9020, 'conveyance': 1859, 'contractors': 1833, 'utility': 8822, 'buried': 1178, 'coast': 1521, 'covering': 1941, 'exception': 2876, 'broadest': 1138, 'handicap': 3546, 'ncarrot': 5164, 'cigarette': 1434, 'smoking': 7876, 'preventable': 6761, 'fda': 3055, 'cleared': 1479, 'coaches': 1519, 'smartphone': 7870, 'njoining': 5584, 'formative': 3212, 'creators': 1965, 'publish': 6940, 'carrot': 1283, 'instrumented': 4018, 'mixpanel': 4850, 'keynote': 4266, 'trails': 8553, 'waterway': 9027, 'cafe': 1205, 'caltrain': 1226, 'shuttle': 7788, 'proximity': 6929, '101': 23, 'nvisit': 6085, 'doxo': 2478, 'bills': 1015, 'mature': 4686, 'biller': 1011, 'directory': 2332, 'charting': 1392, 'graphing': 3477, 'facilitation': 3008, 'nnature': 5668, 'nsupporting': 5976, 'nimprove': 5542, 'nextensive': 5444, 'quantitate': 7008, 'amer': 579, 'needing': 5344, 'wins': 9089, 'selflessly': 7681, 'digger': 2305, 'sees': 7665, 'unafraid': 8688, 'admit': 425, 'prove': 6919, 'nsift': 5928, 'nassess': 5083, 'brainstorms': 1102, 'investigating': 4127, 'bime': 1016, 'gooddata': 3435, 'funnel': 3304, 'mqls': 4939, 'arr': 719, 'scales': 7571, 'startups': 8078, 'ninterested': 5562, 'nzendesk': 6122, 'nby': 5149, 'agree': 507, 'explains': 2949, 'methodist': 4775, 'hm': 3655, 'cor': 1883, 'clinically': 1496, 'economically': 2568, 'crafted': 1948, 'council': 1920, 'givers': 3408, 'icare': 3754, 'npatient': 5756, 'progresses': 6856, 'hmh': 3657, 'nfinance': 5461, 'nquality': 5836, 'nconsults': 5222, 'implementable': 3815, 'arises': 712, 'settings': 7728, 'pertains': 6510, 'nsufficient': 5968, 'nnormal': 5679, 'atlantic': 799, 'editorial': 2585, 'formation': 3211, 'journalism': 4218, 'fundamentally': 3296, 'nacross': 5018, 'pillar': 6555, 'aspirational': 749, 'intentions': 4049, 'consequence': 1759, 'generosity': 3372, 'selfless': 7680, 'cloth': 1506, 'merits': 4762, 'forbearance': 3188, 'motive': 4926, 'productionizing': 6827, 'allocation': 549, 'prospecting': 6900, 'ntranslate': 6016, 'nbalance': 5125, 'swift': 8303, '43': 169, '65': 207, 'partakes': 6376, 'epidemiological': 2784, 'produces': 6823, 'relations': 7225, 'confers': 1724, 'epidemiology': 2786, 'infection': 3910, 'biostatistics': 1025, 'chronic': 1427, 'communicable': 1607, 'bureau': 1176, 'cancer': 1238, 'asthma': 787, 'napplicant': 5056, 'transcripts': 8568, 'diplomas': 2321, 'unofficial': 8765, 'advised': 452, 'claiming': 1452, 'dd214': 2105, 'reaching': 7083, 'hazardous': 3581, 'bodily': 1063, 'fluids': 3172, 'infectious': 3911, 'interval': 4092, 'filed': 3097, 'sanantonio': 7537, 'careercenter': 1266, 'aspx': 754, 'nhuman': 5525, '78205': 226, 'n210': 4991, '207': 112, '8705': 243, 'nhrcustomerservice': 5522, '00805': 4, 'nepidemiologist': 5379, 'nlh': 5601, 'epidemiologist': 2785, 'questionnaire': 7023, '539': 188, '86': 241, 'annually': 631, 'disagree': 2339, 'cosa': 1910, 'armed': 716, 'forces': 3192, 'describes': 2216, 'accrediting': 341, 'credits': 1971, 'beginner': 963, 'nhanes': 5506, 'brfss': 1122, 'pie': 6550, 'scatterplots': 7576, 'appealing': 657, 'nmorgan': 5660, 'securities': 7654, 'balances': 922, 'lifestyles': 4440, 'ntechnology': 5988, 'redefine': 7150, 'sizeable': 7840, 'imit': 3796, 'exclusively': 2890, 'msim': 4948, 'explaining': 2948, 'xb7identify': 9249, 'nopportunity': 5706, 'nstructured': 5964, 'xb7': 9247, 'variable': 8861, 'calculus': 1215, 'applicability': 662, 'xb7experience': 9248, 'xb7knowledge': 9250, 'nof': 5687, 'nquerying': 5840, '190007ji': 65, 'centerpiece': 1339, 'unlocks': 8761, 'ninja': 5553, 'transforms': 8578, 'v1': 8834, 'layers': 4356, 'puzzle': 6974, 'matrixed': 4683, 'variation': 8864, 'largely': 4328, 'arlington': 714, 'j0319': 4179, '2145': 115, 'cgi': 1360, 'builder': 1165, 'assimilation': 770, 'nmomentum': 5653, 'financials': 3111, 'x94supporting': 9173, 'reinforces': 7214, 'referrals': 7173, 'familial': 3028, 'mailbox': 4580, 'routed': 7478, 'djw': 2433, 'soliciting': 7913, 'faa': 2998, 'amcd': 575, 'mmac': 4856, 'cami': 1230, 'demographic': 2176, 'longitudinal': 4520, 'airman': 525, 'issuance': 4166, 'ames': 584, 'caci': 1203, 'therapies': 8449, 'limiting': 4454, 'aeromedical': 466, 'nzillow': 6124, 'certainty': 1351, 'unparalleled': 8766, 'homeowners': 3675, 'sparing': 7955, 'absorbing': 287, 'nonce': 5693, 'segmented': 7669, 'methodologically': 4777, 'incrementality': 3876, 'academies': 301, 'shy': 7789, 'personas': 6501, 'cultivate': 2013, 'seasoned': 7638, 'terabyte': 8414, 'ingested': 3948, 'minimizes': 4823, 'misinterpretation': 4834, 'realistic': 7095, 'nget': 5496, 'fulfilling': 3282, 'preparations': 6731, 'temp': 8403, 'sister': 7830, 'notifications': 5735, 'ratings': 7070, 'bold': 1065, 'augmenting': 840, 'undertaken': 8720, 'distributional': 2415, 'semantics': 7688, 'nproject': 5820, 'libsvm': 4426, 'shogun': 7766, 'nnatural': 5667, 'cleartk': 1483, 'scalanlp': 7568, 'breeze': 1121, 'clearnlp': 1482, 'opennlp': 6219, 'nltk': 5616, 'nstatistical': 5956, 'ipython': 4154, 'lucene': 4557, 'ndistributed': 5310, 'graphlab': 3478, 'ndatabases': 5261, 'foremost': 3199, 'commodity': 1602, 'dow': 2472, 'jones': 4214, 'platts': 6590, 'equips': 2793, 'seize': 7672, 'commodities': 1601, 'unions': 8737, 'unemployment': 8723, 'spglobal': 7992, 'forwarded': 3227, 'pdfdescribes': 6437, 'protections': 6910, 'takeaway': 8337, 'nparticipate': 5750, 'divisional': 2429, 'dax': 2094, 'calculation': 1213, 'extractions': 2984, 'ndocumentation': 5316, 'majors': 4590, 'trainings': 8557, 'introduction': 4108, 'shareholders': 7745, 'amex': 585, 'module': 4888, 'orchestra': 6259, 'rigorious': 7432, 'reolve': 7273, 'performances': 6462, 'markov': 4650, 'django': 2431, 'reqid': 7303, '19004162': 69, 'ndate': 5262, 'founding': 3237, 'featured': 3064, 'wall': 8999, 'pbs': 6431, 'newshour': 5414, 'techcrunch': 8379, 'nparadigm': 5748, 'dsr': 2516, 'ndefining': 5271, 'debug': 2116, 'scraped': 7610, 'econometric': 2565, 'bootcamps': 1077, 'version': 8903, 'finder': 3113, 'double': 2471, 'jumping': 4237, 'acknowledge': 352, 'mistake': 4842, 'x8bthis': 9157, 'x8bwe': 9158, 'tonnes': 8508, 'ideation': 3768, 'abstract': 288, 'approachable': 680, 'pockets': 6615, 'correlation': 1904, 'gdit': 3350, 'quintuple': 7032, 'prices': 6768, 'nthese': 5999, 'topline': 8522, 'scot': 7608, 'economists': 2571, 'statisticians': 8091, 'oin': 6187, 'pharmacies': 6526, 'n___________________________________________________________________________________': 5006, 'databank': 2069, 'fdb': 3056, 'ssms': 8031, 'nincludes': 5544, 'dart': 2063, 'tfs': 8438, 'nhandling': 5504, 'pharmacists': 6527, 'nany': 5054, 'ntroubleshooting': 6022, 'php': 6540, '___________________________________________________________________________': 269, 'nfdb': 5457, 'decades': 2118, 'fdbhealth': 3057, 'indianapolis': 3889, 'awarded': 882, 'honors': 3683, 'indy': 3905, 'honor': 3682, 'specializes': 7973, 'neeo': 5347, 'pgh': 6521, 'charlestown': 1390, 'marc': 4635, 'cogniscient': 1531, 'marcusa': 4637, 'cogniscientmedia': 1532, 'outpaced': 6306, 'lendr': 4398, 'loans': 4496, 'revolutionizing': 7410, 'guy': 3530, 'hoops': 3684, 'nsalesforce': 5899, 'nazure': 5117, 'nwhatever': 6095, 'indexes': 3885, 'mile': 4805, 'technique': 8383, 'regularization': 7202, 'weighted': 9048, 'squares': 8020, 'censored': 1334, 'endogeneity': 2708, 'conceptualizing': 1700, 'chart': 1391, 'conceptualize': 1699, 'recommending': 7128, 'straight': 8135, 'pioneering': 6563, 'usdc': 8807, 'pioneer': 6561, 'mold': 4891, 'horizon': 3687, 'ramp': 7051, 'cron': 1990, 'sparksql': 7958, 'nliveintent': 5609, 'knit': 4284, 'dbs': 2102, 'kbs': 4254, 'tbs': 8364, 'inversely': 4120, 'lookml': 4524, 'beverages': 995, 'pilates': 6554, 'subsidized': 8209, 'liveintent': 4484, 'softball': 7902, 'football': 3185, 'soccer': 7891, 'learns': 4378, 'speakers': 7963, 'offsite': 6183, 'simplest': 7815, 'superpower': 8251, 'ml1': 4853, 'newwave': 5419, 'modernize': 4881, 'began': 961, '2004': 92, 'nassemble': 5082, 'separated': 7705, 'dependency': 2194, 'disconnected': 2356, 'queuing': 7028, 'attained': 810, 'azkaban': 894, 'luigi': 4558, 'nresidency': 5878, 'lived': 4483, 'nexempt': 5430, 'nshould': 5925, 'closure': 1505, 'persuasion': 6507, 'nnewwave': 5672, '56': 191, '784': 228, 'rc': 7077, 'pennsylvania': 6447, '19002353': 68, 'pittsburgh': 6568, 'radiology': 7042, 'psychiatric': 6931, 'molecular': 4892, 'pmod': 6613, 'neurochemical': 5399, 'abnormalities': 280, 'addictive': 395, 'humans': 3732, 'nassignment': 5086, 'fulltime': 3284, 'programmer': 6851, 'ncampus': 5155, 'baccalaureate': 902, '30am': 139, '00pm': 5, 'nhiring': 5517, 'nvisa': 6083, 'nbackground': 5123, 'finalists': 3106, 'nchild': 5176, 'noptional': 5708, 'nduration': 5328, 'netezza': 5390, 'initio': 3960, 'nend': 5365, 'informational': 3935, 'microstrategy': 4794, 'lilly': 4450, 'liaison': 4422, 'nmonthly': 5658, 'nstewardship': 5958, 'pulls': 6949, 'nad': 5023, 'nowner': 5745, 'unite': 8743, '39': 159, 'medicines': 4726, 'nqualified': 5835, 'tn': 8497, 'msword': 4951, 'pl': 6574, 'db': 2099, 'belt': 978, 'arrangement': 722, 'jul': 4234, 'computation': 1684, 'scorecards': 7606, 'svp': 8298, 'evp': 2863, 'chs': 1429, 'occasion': 6148, 'projectors': 6865, 'laptops': 4326, 'atrium': 805, 'carolinas': 1278, 'compassion': 1630, '900': 250, 'nposting': 5788, 'ncarolinas': 5163, 'nchesapeake': 5175, 'conservancy': 1761, 'annapolis': 623, 'maryland': 4656, 'chesapeake': 1409, 'watershed': 9026, 'fish': 3135, 'wildlife': 9081, 'waters': 9025, 'abundant': 294, 'wetlands': 9065, 'shorelines': 7775, 'tens': 8410, 'acres': 361, 'vanishing': 8859, 'conserve': 1763, 'rivers': 7438, 'restore': 7372, 'park': 6372, 'foundations': 3233, 'conservation': 1762, 'nwithin': 6104, 'cic': 1433, 'restoration': 7371, 'habitat': 3539, 'incorporate': 3867, 'overseeing': 6322, 'supervisors': 8255, 'scientistwill': 7595, 'satellite': 7547, 'aerial': 464, 'imagery': 3789, 'lidar': 4432, 'ecological': 2562, 'unknowns': 8752, 'encountered': 2699, 'memos': 4742, 'decks': 2125, 'funders': 3299, 'dependable': 2192, 'finite': 3127, 'nonlinear': 5697, 'cntk': 1517, 'elite': 2649, 'nlive': 5608, 'relocate': 7252, 'nquantitative': 5839, 'neo': 5377, '92': 254, '093': 15, '118': 36, '670': 210, 'premiere': 6725, 'residents': 7330, 'consists': 1775, '850': 239, 'sworn': 8306, '650': 208, 'trained': 8555, 'safeguarding': 7514, 'mpd': 4935, 'civic': 1447, 'propel': 6885, 'capstat': 1257, 'abreast': 282, 'nlicensures': 5603, 'hrm': 3718, 'exhibits': 2908, 'nincumbent': 5546, 'weekend': 9044, 'courts': 1937, 'town': 8535, 'operator': 6233, 'permit': 6482, 'npositions': 5784, 'knot': 4287, 'weddingwire': 9040, 'bodas': 1061, 'gigmasters': 3402, 'bump': 1173, 'couples': 1929, 'tkww': 8496, 'funnels': 3305, 'birst': 1028, 'respectfully': 7347, 'turned': 8654, 'persevere': 6489, 'x94in': 9168, 'enters': 2760, 'aco': 354, 'recipients': 7117, 'auditing': 835, 'rosters': 7472, 'beaumont': 956, 'harris': 3571, 'birkhill': 1026, 'obtains': 6147, 'presently': 6749, 'internationally': 4074, 'orthopaedic': 6286, 'arthritis': 728, 'brigham': 1126, 'authorship': 851, 'abstracts': 293, 'oracore': 6254, 'listings': 4478, 'preliminary': 6723, 'codebooks': 1524, 'hectic': 3607, 'cv': 2047, 'nbrigham': 5141, 'unrelated': 8770, 'bwh': 1194, 'francis': 3249, '02115': 7, 'nrecruiting': 5854, 'orthopedics': 6288, 'nreview': 5889, 'acknowledgement': 353, 'pledges': 6603, 'constituent': 1782, 'mcw': 4701, 'fund': 3294, 'gift': 3399, 'deposits': 2206, 'nanswer': 5053, 'ndivision': 5312, 'donor': 2466, 'accountant': 337, 'trouble': 8628, 'shooting': 7767, 'nspecifications': 5945, 'nappropriate': 5066, 'substituted': 8215, 'raisers': 7046, 'ncertification': 5170, 'unitedhealthcare': 8746, 'rise': 7434, 'gadget': 3316, 'sm': 7862, 'distinguish': 2408, 'nproducing': 5813, 'predominately': 6715, 'tend': 8407, 'ssrs': 8033, 'couldn': 1919, 'doors': 2468, 'unitedhealth': 8745, 'nunitedhealth': 6051, 'usstratcom': 8818, 'commander': 1587, 'designated': 2224, 'nc3': 5152, 'se': 7628, 'ec': 2556, 'cohesive': 1535, 'compartmented': 1629, 'nc2': 5151, 'esi': 2807, 'nato': 5100, 'sar': 7544, 'nportland': 5782, 'cambia': 1228, 'frictionless': 3264, 'fragmented': 3241, 'disposal': 2392, 'chatbots': 1397, 'diagnosis': 2276, 'ncluster': 5186, 'nintegrate': 5557, 'tokenization': 8502, 'expressions': 2968, 'corenlp': 1887, 'gensim': 3379, 'mallet': 4596, 'lingpipe': 4460, 'ctakes': 2009, 'theano': 8442, 'crf': 1974, 'maxent': 4688, 'lsi': 4553, 'npractical': 5791, 'neager': 5332, 'convex': 1858, 'carries': 1282, 'graphical': 3475, 'tackles': 8327, 'tries': 8620, 'storages': 8124, 'napplying': 5063, 'nadapt': 5024, 'exploit': 2953, 'nrecent': 5850, 'eighteen': 2622, 'nable': 5009, 'ninterest': 5561, 'conception': 1695, 'nsynthesize': 5979, 'kernel': 4262, 'ensemble': 2750, 'methodically': 4774, 'companywide': 1624, 'investigated': 4125, 'scatter': 7574, 'plots': 6607, 'influential': 3923, 'sectional': 7647, 'ncoursework': 5239, 'tobacco': 8499, 'ncambia': 5154, 'spans': 7954, 'beginnings': 965, 'guru': 3529, 'npromote': 5822, 'nexecution': 5428, 'dataminer': 2079, 'intermedia': 4067, 'prime': 6773, 'blended': 1037, 'x94combined': 9166, 'nrocky': 5894, 'hill': 3636, 'ct': 2008, 'naxians': 5116, 'redtoo': 7157, 'axians': 890, 'assemble': 756, 'comparable': 1625, 'intacct': 4026, 'drivetime': 2505, 'periodically': 6472, 'nquantifying': 5838, 'nassessing': 5084, 'nforecasting': 5475, 'noptimizing': 5707, 'loan': 4495, 'nvaluing': 6074, 'unseen': 8772, 'bids': 1004, 'auctions': 829, 'ins': 3982, 'nutilizing': 6066, 'calculates': 1211, 'similarity': 7811, 'ndesigning': 5286, 'ncuriosity': 5251, 'nwhen': 6096, 'cornwall': 1891, 'slch': 7856, 'campuses': 1236, 'newburgh': 5408, 'hudson': 3728, 'aspires': 752, 'cardiac': 1263, 'stroke': 8165, 'orthopedic': 6287, 'oems': 6164, 'dealerships': 2111, 'camaraderie': 1227, 'coordinated': 1873, 'eastern': 2547, 'usps': 8817, 'sort': 7934, 'cass': 1297, 'ncoa': 5187, 'duplicate': 2521, 'conquest': 1754, 'mailable': 4579, 'uphold': 8789, 'evolves': 2861, 'grows': 3506, 'punctual': 6955, 'tooling': 8513, 'onsite': 6209, 'salaried': 7523, 'perfect': 6457, 'c3': 1196, 'abstraction': 290, '10x': 29, '100x': 22, 'tweak': 8661, 'kitchen': 4276, 'tennis': 8409, 'evening': 2848, 'drink': 2498, 'accolade': 320, 'noperates': 5703, 'fixes': 3142, 'turns': 8657, 'performant': 6463, 'illustrated': 3785, 'ndesire': 5288, 'grasps': 3482, 'skillful': 7846, 'thinks': 8459, 'nthrives': 6004, 'norm': 5715, 'nexcited': 5425, 'enduring': 2712, 'joy': 4223, 'nmaking': 5626, 'ntrusting': 6024, 'nresults': 5886, 'boldly': 1066, 'knock': 4286, 'strategical': 8139, 'pda': 6434, 'introduce': 4106, 'cleansed': 1473, 'nresearches': 5877, 'shoots': 7768, 'ssdt': 8027, 'nrdbms': 5847, 'ssis': 8030, 'nftp': 5483, 'nexposure': 5441, 'dmexpress': 2436, 'talend': 8341, 'mc1': 4698, 'nzeta': 6123, 'steinberg': 8099, 'john': 4205, 'sculley': 7624, 'cola': 1538, '2007': 95, 'zetahub': 9279, 'gartner': 3335, 'magic': 4575, 'quadrant': 6990, 'hubs': 3725, 'february': 3067, 'multichannel': 4957, 'noperating': 5704, 'continents': 1818, 'london': 4517, 'hyderabad': 3743, 'zeta': 9278, 'relevancy': 7238, 'th': 8439, 'consecutive': 1756, 'milliman': 4808, 'actuaries': 379, 'licensing': 4430, 'lapse': 4325, 'mortality': 4918, 'nmilliman': 5644, '1947': 73, 'principals': 6776, 'x94senior': 9171, 'era': 2799, 'ncyber': 5255, 'breach': 1109, 'split': 7995, 'chemometric': 1407, 'nappropriately': 5067, 'annotates': 625, 'comments': 1590, 'ksa': 4300, 'sequence': 7709, 'nsoftware': 5937, 'suitability': 8232, 'nsupervisory': 5973, 'emergencies': 2664, 'incumbents': 3879, 'nibi': 5526, 'passengers': 6397, 'procure': 6817, 'passenger': 6396, 'everett': 2855, 'vancouver': 8858, 'translink': 8588, 'rtd': 7491, 'mbta': 4697, 'nmost': 5661, 'alerts': 532, 'archival': 704, 'yearly': 9264, 'nbagels': 5124, 'mini': 4820, 'cupcakes': 2020, 'thursday': 8473, 'birthdays': 1030, 'seasonal': 7637, 'pumpkin': 6952, 'carving': 1289, 'contest': 1813, 'submission': 8193, 'ibi': 3751, 'confirmation': 1734, 'offence': 6167, 'shaw': 7752, 'richness': 7422, 'fosters': 3230, 'dan': 2059, 'lavender': 4345, 'nshaw': 5921, 'missed': 4836, 'cable': 1200, 'b2c': 898, 'maximization': 4689, 'accomplishment': 328, 'colorado': 1562, 'expenses': 2928, 'newspaper': 5415, 'circulation': 1437, 'factiva': 3013, 'barron': 934, 'marketwatch': 4648, 'djx': 2434, 'newswires': 5417, 'venturesource': 8888, 'arts': 738, 'bureaus': 1177, 'newspapers': 5416, 'magazines': 4574, 'holds': 3666, 'pulitzer': 6945, 'princeton': 6774, 'learnt': 4379, 'newsworthy': 5418, 'talentresourceteam': 8345, 'dowjones': 2473, 'x9creasonable': 9216, 'nasdaq': 5081, 'nws': 6111, 'nwsa': 6112, 'asx': 790, 'nwslv': 6113, 'homepage': 3676, '15454': 52, 'ncaci': 5153, 'nprocess': 5809, 'nrestore': 5885, 'tapes': 8352, 'nload': 5610, 'nconvert': 5233, 'ncapture': 5160, 'nus': 6058, 'atos': 803, 'societas': 7896, 'europaea': 2835, 'forma': 3207, 'circa': 1436, 'x82': 9154, '72': 218, 'worldline': 9127, 'natos': 5101, 'olympic': 6195, 'paralympic': 6362, 'euronext': 2834, 'paris': 6371, 'worldgrid': 9126, 'bull': 1172, 'unify': 8731, 'competences': 1637, 'pure': 6961, 'nselecting': 5910, 'nextending': 5442, 'nenhancing': 5369, 'nprocessing': 5810, 'ndoing': 5319, 'dataviz': 2088, 'cloudera': 1508, 'hortonworks': 3691, 'mapr': 4630, 'oozie': 6212, 'technics': 8382, 'rtf': 7492, 'colour': 1564, '68': 211, 'simultaneous': 7823, 'urgent': 8800, 'brightstart': 1130, 'lawrenceville': 4350, 'brightree': 1129, 'hme': 3656, 'hospice': 3692, 'reimbursements': 7212, 'pulse': 6951, 'equipping': 2792, 'orthotic': 6289, 'prosthetic': 6905, 'infusion': 3945, 'persistent': 6491, 'df1': 2270, 'sponsorships': 8004, 'victorious': 8920, 'x9ctranslate': 9225, 'tag': 8334, 'console': 1776, 'relentless': 7235, 'upholds': 8791, 'inherent': 3951, 'trait': 8559, 'horizontally': 3689, 'vertically': 8907, 'x9cit': 9203, 'perfecting': 6458, 'devours': 2267, 'daring': 2062, 'discernment': 2342, 'strongest': 8168, 'escape': 2805, 'rat': 7065, 'nvictorious': 6080, 'historic': 3645, 'showplace': 7784, 'capitalists': 1254, 'x9crunway': 9218, 'x9cmvp': 9209, 'exit': 2912, 'worrying': 9130, 'shutting': 7787, 'myriad': 4977, 'muni': 4971, 'michelin': 4791, 'starred': 8070, 'nightlife': 5535, 'placed': 6576, 'soma': 7926, 'commute': 1618, 'victoriousseo': 8921, 'nretailnext': 5888, 'thriving': 8472, 'retailnext': 7383, 'discovered': 2361, 'glean': 3413, 'cleanliness': 1471, 'powerpivot': 6683, 'powerquery': 6685, 'gcdo': 3348, 'roc': 7452, 'nph': 5772, 'observer': 6137, 'relishes': 7251, 'sn1': 7879, 'relief': 7246, 'pepfar': 6450, 'tuberculosis': 8646, 'dght': 2272, 'hidmsb': 3625, 'entrusted': 2772, 'icpi': 3759, 'surveillance': 8282, 'ngos': 5499, 'orange': 6257, 'farragut': 3043, 'fidelity': 3087, 'accessed': 315, 'wrangled': 9133, 'mph': 4936, 'wise': 9091, 'socrata': 7899, 'integrator': 4037, '32': 146, 'abbott': 274, 'diagnostics': 2278, 'nutritionals': 6069, 'branded': 1106, 'generic': 3371, '103': 24, '160': 54, 'ngathers': 5489, 'pqe': 6691, 'pqa': 6690, 'nassisting': 5088, 'ndrafting': 5323, 'nescalating': 5383, 'spin': 7993, 'nspin': 5946, 'electric': 2631, 'scooters': 7601, 'cooperation': 1869, 'planners': 6583, 'elected': 2629, 'stationless': 8088, 'orchestrated': 6260, 'combinator': 1572, 'scooter': 7600, 'coral': 1884, 'gables': 3315, 'lexington': 4416, 'detroit': 2249, 'embeds': 2657, 'neighborhoods': 5358, 'hires': 3640, 'infoemd': 3927, 'finely': 3117, 'overhead': 6318, 'ndaily': 5256, 'cellphone': 1332, 'ngenerous': 5495, 'lindquist': 4456, 'personable': 6493, 'obligations': 6134, 'auditors': 836, 'infrequent': 3944, 'sacramento': 7511, 'stockton': 8119, '82': 232, 'clearwater': 1484, 'rpa': 7483, 'blockchain': 1042, 'custodian': 2036, 'seemingly': 7663, 'nclearwater': 5182, 'surroundings': 8281, 'hasn': 3574, 'engineered': 2729, 'regence': 7188, 'nemployer': 5361, 'nflex': 5465, 'ncentral': 5167, '202': 108, 'johns': 4206, 'hopkins': 3686, 'benchmarking': 981, 'educates': 2591, 'acquired': 356, 'cogito': 1530, 'caboodle': 1201, 'atp': 804, 'pb': 6429, 'nstarting': 5955, '10003093': 19, 'ped': 6440, 'npersonnel': 5771, 'jhurecruitment': 4196, 'jhu': 4195, 'tty': 8645, 'relay': 7230, 'dial': 2280, '711': 217, 'provisions': 6927, 'accordingly': 332, 'influenza': 3924, 'flu': 3167, 'season': 7636, 'vaccination': 8840, 'laboratories': 4310, 'subjects': 8192, 'immune': 3804, 'rubella': 7495, 'german': 3391, 'measles': 4710, 'rubeola': 7496, 'mumps': 4968, 'varicella': 8866, 'chickenpox': 1411, 'hepatitis': 3617, 'tdap': 8366, 'tetanus': 8430, 'diphtheria': 2319, 'pertussis': 6512, 'mmr': 4857, 'vaccines': 8843, 'antibody': 642, 'immunities': 3805, 'ordinarily': 6266, 'immunization': 3806, 'vaccinations': 8841, 'occupational': 6153, 'nnote': 5681, 'updated': 8783, 'www1': 9144, 'eeoc_self_print_poster': 2602, 'nimportant': 5541, 'hrnt': 3719, 'cfm': 1359, '2012': 100, 'obama': 6127, 'reliantly': 7244, 'transparently': 8592, 'nbelow': 5132, 'discuss': 2375, 'strategists': 8142, '2020': 109, 'election': 2630, 'stan': 8053, 'naccurate': 5014, 'nprompt': 5823, 'insures': 4023, 'omphalos': 6201, 'npush': 5833, 'ease': 2544, 'fingerprints': 3120, 'ezcater': 2995, 'greenhouse': 3490, 'io': 4148, 'catering': 1313, '8m': 248, '60k': 203, 'caterers': 1312, 'superbly': 8248, 'iconiq': 3758, 'wellington': 9056, '2b': 130, 'surely': 8272, 'elevating': 2641, 'ezdispatch': 2996, 'clamor': 1454, 'champions': 1371, 'weeds': 9042, 'straightforward': 8136, 'kick': 4268, 'shortage': 7777, 'hone': 3679, 'nalso': 5040, 'sane': 7540, 'eat': 2549, 'passes': 6398, 'smack': 7863, 'dab': 2056, 'wicked': 9076, 'goodies': 3436, 'rocket': 7456, 'moon': 4914, 'nezcater': 5449, 'jerks': 4192, '19000c1k': 67, 'unusually': 8779, 'encounter': 2698, 'discounting': 2358, 'nmore': 5659, 'unpredictable': 8768, 'styles': 8187, 'transparent': 8591, 'uncommon': 8697, 'enjoyment': 2743, 'postgraduate': 6662, 'nconsistency': 5219, 'nrobust': 5893, 'predicted': 6709, 'ndomain': 5320, 'adaptations': 389, 'npost': 5786, 'doctoral': 2444, 'dataops': 2080, 'gaussian': 3345, 'mcmc': 4700, 'summarization': 8237, 'popular': 6633, 'mxnet': 4975, 'torch': 8523, 'ranges': 7055, 'modelled': 4872, 'nleading': 5596, 'vortex': 8983, 'simplifies': 7818, 'articulates': 733, 'drawn': 2490, 'advises': 453, 'reproducibility': 7298, 'periscope': 6475, 'ford': 3193, 'dearborn': 2114, 'cosine': 1911, 'ontologies': 6210, 'descent': 2214, 'striving': 8164, 'nford': 5474, 'qxbranch': 7037, 'norganize': 5714, 'curate': 2022, 'ndeliver': 5273, 'ncontinue': 5225, 'ncompetence': 5206, 'portions': 6640, 'maintainable': 4583, 'specializations': 7970, 'cuda': 2012, 'initiation': 3957, 'da': 2055, 'predictable': 6708, 'hc1': 3583, 'sdm': 7626, 'nhc1': 5510, 'improves': 3837, 'payors': 6427, 'harms': 3566, 'wasteful': 9019, 'glimpse': 3415, 'hc1dotcom': 3584, 'wild': 9080, 'achievers': 350, 'systemic': 8319, 'uncommongoods': 8698, 'remarkable': 7259, 'jsp': 4229, 'utm_medium': 8830, 'utm_source': 8831, 'bios': 1024, 'optional': 6250, 'rifiniti': 7427, 'sofia': 7900, 'bulgaria': 1170, 'ukraine': 8682, 'leased': 4381, 'infrastructures': 3943, 'disprove': 2394, 'dataxpander': 2089, 'inovalon': 3974, 'intervention': 4094, 'tea': 8368, 'executions': 2898, 'called': 1219, 'channeling': 1378, 'noversees': 5741, 'natleast': 5099, 'unlocking': 8760, 'secrets': 7645, 'nempower': 5363, 'booz': 1079, 'allen': 546, 'bowl': 1089, 'x94the': 9174, 'nvidia': 6081, 'dli': 2435, '5000': 181, 'possession': 6653, 'x94no': 9170, 'fearlessly': 3060, 'nurt1': 6055, 'byl': 1195, 'unior': 8738, 'retrieved': 7393, 'reconciliations': 7134, 'reconcilable': 7130, 'namplion': 5045, 'synthesizes': 8316, 'diagnostic': 2277, 'amplion': 595, 'biomarker': 1022, 'extracted': 2981, 'neo4j': 5378, 'intersecting': 4090, 'incidents': 3849, 'inclination': 3852, 'mayors': 4693, 'governors': 3449, 'chiefs': 1413, 'ndistilling': 5308, 'nenjoys': 5370, 'ncitizen': 5178, 'confirming': 1735, 'nweekly': 6090, 'ncharge': 5173, 'charges': 1387, 'roth': 7475, 'nalpharetta': 5039, 'boca': 1060, 'raton': 7072, 'fl': 3144, 'mn': 4858, 'observations': 6136, 'n50': 4999, 'nexercise': 5431, 'judgement': 4230, 'nopen': 5701, 'nverbal': 6078, 'inefficiencies': 3906, 'nexecute': 5426, 'ninsert': 5555, 'lexisnexis': 4417, 'upholding': 8790, 'lexisnexisrisk': 4418, '734': 220, '1938': 72, '400': 164, 'deepening': 2136, 'quantifying': 7007, 'cst': 2007, 'turnkey': 8656, 'older': 6192, 'adults': 435, 'battling': 947, 'illness': 3783, 'sybase': 8307, 'crystal': 2003, 'novi': 5743, 'triggers': 8621, 'contracted': 1831, 'nboca': 5136, 'alpharetta': 557, 'dayton': 2098, 'demo': 2174, 'thresholds': 8468, 'dictionaries': 2285, 'hpcc': 3710, 'proofreading': 6884, 'linked': 4465, 'naccountabilities': 5013, 'nmodify': 5652, 'nrun': 5896, 'nconducts': 5217, 'clarifications': 1456, 'intimacy': 4099, 'nundertake': 6048, 'nresolve': 5879, 'suspension': 8288, 'transcription': 8565, 'mpi': 4937, 'duplicates': 2522, 'merges': 4758, 'unmerges': 8763, 'belongs': 977, 'identifier': 3771, 'licensure': 4431, 'hpf': 3711, 'greenway': 3492, 'inappropriate': 3843, 'abbreviations': 275, 'backs': 912, 'body': 1064, 'ip': 4150, 'ambulatory': 574, 'decline': 2127, 'signature': 7801, 'queues': 7027, 'sent': 7702, 'adi': 411, 'queue': 7026, 'stockamp': 8117, 'migrate': 4800, 'brrh': 1150, 'mrn': 4943, 'elimination': 2648, 'creations': 1961, 'suggested': 8227, 'cleanup': 1475, 'infraction': 3941, 'phi': 6533, 'delinquent': 2161, 'promptness': 6878, 'manually': 4621, 'man': 4598, 'evacuation': 2839, 'restrictions': 7374, 'instituted': 4007, 'vaccine': 8842, '561': 192, '955': 259, '4075': 167, 'truemotion': 8636, 'acceptability': 308, 'interdependencies': 4058, 'incongruences': 3862, 'notifying': 5737, 'infogram': 3928, 'incongruencies': 3863, 'distracted': 2409, 'toes': 8501, 'calories': 1224, 'waterfront': 9024, 'afternoon': 488, 'sox': 7947, 'esplanade': 2809, 'solvable': 7919, 'pun': 6953, 'band': 925, 'fort': 3222, 'ntruemotion': 6023, 'lakestar': 4317, 'noffices': 5689, 'tour': 8533, 'attending': 815, 'kernels': 4263, 'quantifind': 7005, 'nquantifind': 5837, 'explanatory': 2951, 'vertical': 8906, 'dimension': 2311, 'latent': 4335, 'dirichlet': 2333, 'lsa': 4551, 'menlo': 4743, 'dss': 2517, 'gauge': 3344, 'proctor': 6816, 'randomized': 7053, 'controlled': 1845, 'ocular': 6159, 'blindness': 1040, 'relied': 7245, 'correlates': 1903, 'gradually': 3458, 'nproctor': 5811, 'ophthalmology': 6235, 'ucsf': 8675, 'inflammatory': 3918, 'professions': 6837, 'stacks': 8039, 'gbm': 3346, 'parse': 6374, 'n7': 5001, 'n8': 5002, 'morganstanley': 4917, 'careersearch': 1268, 'scroll': 7621, '3127828': 142, 'x9cjob': 9204, 'x9csearch': 9219, 'transformational': 8574, 'marry': 4652, 'npack': 5746, 'softvision': 7904, 'gcc': 3347, '1997': 82, 'oakland': 6126, 'hubzone': 3726, 'iso': 4162, 'certified': 1356, '9001': 251, 'bpa': 1093, 'released': 7232, 'ree': 7162, 'deputy': 2209, 'reeta': 7166, 'intranet': 4102, 'inactivating': 3841, 'ngcc': 5490, 'discriminatory': 2374, 'yr': 9273, 'melissa': 4736, 'climate': 1492, '201': 97, '1100': 31, '94103': 256, 'chen': 1408, 'angrist': 619, 'castillo': 1299, 'x9csurge': 9223, 'goose': 3439, 'chase': 1394, 'earnings': 2542, 'virtues': 8946, 'nday': 5263, 'newyork': 5420, 'presbyterian': 6737, 'weill': 9049, 'cornell': 1888, 'ao1': 649, 'n__________________': 5004, 'n2018': 4990, 'ceos': 1347, 'x9camerica': 9191, 'becker': 959, 'nyp': 6120, 'nnewyork': 5673, 'nittany': 5579, 'alliance': 548, 'psu': 6930, 'enhances': 2738, 'marketable': 4641, 'unsolved': 8774, 'nontechnical': 5700, 'infer': 3912, 'asap': 740, 'el': 2624, 'segundo': 7671, 'failures': 3022, 'broadcast': 1136, 'outages': 6292, 'nmake': 5625, 'highcharts': 3628, 'matillion': 4678, 'nebraska': 5335, 'lincoln': 4455, 'unl': 8753, 'cooperatively': 1871, 'substances': 8212, 'cordell': 1885, 'liberates': 4423, 'inferences': 3914, 'processed': 6813, 'smaller': 7865, 'dba': 2101, 'bench': 979, 'marking': 4649, 'consolidation': 1778, 'fluent': 3169, 'corridor': 1908, 'element': 2637, 'smarts': 7871, 'pick': 6548, 'agility': 504, 'bloom': 1048, 'oxide': 6334, 'newark': 5407, 'x98always': 9178, 'bloomenergy': 1049}\n"
     ]
    }
   ],
   "source": [
    "from sklearn.feature_extraction.text import CountVectorizer\n",
    "vectorizer = CountVectorizer(max_features=None, ngram_range=(1,1), stop_words='english')\n",
    "vectorizer.fit(X_train)\n",
    "print(vectorizer.vocabulary_)"
   ]
  },
  {
   "cell_type": "code",
   "execution_count": 12,
   "metadata": {},
   "outputs": [
    {
     "name": "stdout",
     "output_type": "stream",
     "text": [
      "(399, 9288)\n"
     ]
    },
    {
     "data": {
      "text/html": [
       "<div>\n",
       "<style scoped>\n",
       "    .dataframe tbody tr th:only-of-type {\n",
       "        vertical-align: middle;\n",
       "    }\n",
       "\n",
       "    .dataframe tbody tr th {\n",
       "        vertical-align: top;\n",
       "    }\n",
       "\n",
       "    .dataframe thead th {\n",
       "        text-align: right;\n",
       "    }\n",
       "</style>\n",
       "<table border=\"1\" class=\"dataframe\">\n",
       "  <thead>\n",
       "    <tr style=\"text-align: right;\">\n",
       "      <th></th>\n",
       "      <th>00</th>\n",
       "      <th>000</th>\n",
       "      <th>00011236</th>\n",
       "      <th>00079</th>\n",
       "      <th>00805</th>\n",
       "      <th>00pm</th>\n",
       "      <th>01</th>\n",
       "      <th>02115</th>\n",
       "      <th>03</th>\n",
       "      <th>0356</th>\n",
       "      <th>...</th>\n",
       "      <th>zeta</th>\n",
       "      <th>zetahub</th>\n",
       "      <th>zeus</th>\n",
       "      <th>zheng</th>\n",
       "      <th>zillow</th>\n",
       "      <th>zogsports</th>\n",
       "      <th>zoho</th>\n",
       "      <th>zone</th>\n",
       "      <th>zones</th>\n",
       "      <th>zywave</th>\n",
       "    </tr>\n",
       "  </thead>\n",
       "  <tbody>\n",
       "    <tr>\n",
       "      <th>0</th>\n",
       "      <td>0</td>\n",
       "      <td>0</td>\n",
       "      <td>0</td>\n",
       "      <td>0</td>\n",
       "      <td>0</td>\n",
       "      <td>0</td>\n",
       "      <td>0</td>\n",
       "      <td>0</td>\n",
       "      <td>0</td>\n",
       "      <td>0</td>\n",
       "      <td>...</td>\n",
       "      <td>0</td>\n",
       "      <td>0</td>\n",
       "      <td>0</td>\n",
       "      <td>0</td>\n",
       "      <td>0</td>\n",
       "      <td>0</td>\n",
       "      <td>0</td>\n",
       "      <td>0</td>\n",
       "      <td>0</td>\n",
       "      <td>0</td>\n",
       "    </tr>\n",
       "    <tr>\n",
       "      <th>1</th>\n",
       "      <td>0</td>\n",
       "      <td>0</td>\n",
       "      <td>0</td>\n",
       "      <td>0</td>\n",
       "      <td>0</td>\n",
       "      <td>0</td>\n",
       "      <td>0</td>\n",
       "      <td>0</td>\n",
       "      <td>0</td>\n",
       "      <td>0</td>\n",
       "      <td>...</td>\n",
       "      <td>0</td>\n",
       "      <td>0</td>\n",
       "      <td>0</td>\n",
       "      <td>0</td>\n",
       "      <td>0</td>\n",
       "      <td>0</td>\n",
       "      <td>0</td>\n",
       "      <td>0</td>\n",
       "      <td>0</td>\n",
       "      <td>0</td>\n",
       "    </tr>\n",
       "    <tr>\n",
       "      <th>2</th>\n",
       "      <td>0</td>\n",
       "      <td>0</td>\n",
       "      <td>0</td>\n",
       "      <td>0</td>\n",
       "      <td>0</td>\n",
       "      <td>0</td>\n",
       "      <td>0</td>\n",
       "      <td>0</td>\n",
       "      <td>0</td>\n",
       "      <td>0</td>\n",
       "      <td>...</td>\n",
       "      <td>0</td>\n",
       "      <td>0</td>\n",
       "      <td>0</td>\n",
       "      <td>0</td>\n",
       "      <td>0</td>\n",
       "      <td>0</td>\n",
       "      <td>0</td>\n",
       "      <td>0</td>\n",
       "      <td>0</td>\n",
       "      <td>0</td>\n",
       "    </tr>\n",
       "    <tr>\n",
       "      <th>3</th>\n",
       "      <td>0</td>\n",
       "      <td>0</td>\n",
       "      <td>0</td>\n",
       "      <td>0</td>\n",
       "      <td>0</td>\n",
       "      <td>0</td>\n",
       "      <td>0</td>\n",
       "      <td>0</td>\n",
       "      <td>0</td>\n",
       "      <td>0</td>\n",
       "      <td>...</td>\n",
       "      <td>0</td>\n",
       "      <td>0</td>\n",
       "      <td>0</td>\n",
       "      <td>0</td>\n",
       "      <td>0</td>\n",
       "      <td>0</td>\n",
       "      <td>0</td>\n",
       "      <td>0</td>\n",
       "      <td>0</td>\n",
       "      <td>0</td>\n",
       "    </tr>\n",
       "    <tr>\n",
       "      <th>4</th>\n",
       "      <td>0</td>\n",
       "      <td>0</td>\n",
       "      <td>0</td>\n",
       "      <td>0</td>\n",
       "      <td>0</td>\n",
       "      <td>0</td>\n",
       "      <td>0</td>\n",
       "      <td>0</td>\n",
       "      <td>0</td>\n",
       "      <td>0</td>\n",
       "      <td>...</td>\n",
       "      <td>0</td>\n",
       "      <td>0</td>\n",
       "      <td>0</td>\n",
       "      <td>0</td>\n",
       "      <td>0</td>\n",
       "      <td>0</td>\n",
       "      <td>0</td>\n",
       "      <td>0</td>\n",
       "      <td>0</td>\n",
       "      <td>0</td>\n",
       "    </tr>\n",
       "  </tbody>\n",
       "</table>\n",
       "<p>5 rows × 9288 columns</p>\n",
       "</div>"
      ],
      "text/plain": [
       "   00  000  00011236  00079  00805  00pm  01  02115  03  0356  ...  zeta  \\\n",
       "0   0    0         0      0      0     0   0      0   0     0  ...     0   \n",
       "1   0    0         0      0      0     0   0      0   0     0  ...     0   \n",
       "2   0    0         0      0      0     0   0      0   0     0  ...     0   \n",
       "3   0    0         0      0      0     0   0      0   0     0  ...     0   \n",
       "4   0    0         0      0      0     0   0      0   0     0  ...     0   \n",
       "\n",
       "   zetahub  zeus  zheng  zillow  zogsports  zoho  zone  zones  zywave  \n",
       "0        0     0      0       0          0     0     0      0       0  \n",
       "1        0     0      0       0          0     0     0      0       0  \n",
       "2        0     0      0       0          0     0     0      0       0  \n",
       "3        0     0      0       0          0     0     0      0       0  \n",
       "4        0     0      0       0          0     0     0      0       0  \n",
       "\n",
       "[5 rows x 9288 columns]"
      ]
     },
     "execution_count": 12,
     "metadata": {},
     "output_type": "execute_result"
    }
   ],
   "source": [
    "train_word_counts = vectorizer.transform(X_train)\n",
    "\n",
    "X_train_vectorized = pd.DataFrame(train_word_counts.toarray(), columns=vectorizer.get_feature_names())\n",
    "\n",
    "print(X_train_vectorized.shape)\n",
    "X_train_vectorized.head()"
   ]
  },
  {
   "cell_type": "code",
   "execution_count": 13,
   "metadata": {},
   "outputs": [
    {
     "name": "stdout",
     "output_type": "stream",
     "text": [
      "(100, 9288)\n"
     ]
    },
    {
     "data": {
      "text/html": [
       "<div>\n",
       "<style scoped>\n",
       "    .dataframe tbody tr th:only-of-type {\n",
       "        vertical-align: middle;\n",
       "    }\n",
       "\n",
       "    .dataframe tbody tr th {\n",
       "        vertical-align: top;\n",
       "    }\n",
       "\n",
       "    .dataframe thead th {\n",
       "        text-align: right;\n",
       "    }\n",
       "</style>\n",
       "<table border=\"1\" class=\"dataframe\">\n",
       "  <thead>\n",
       "    <tr style=\"text-align: right;\">\n",
       "      <th></th>\n",
       "      <th>00</th>\n",
       "      <th>000</th>\n",
       "      <th>00011236</th>\n",
       "      <th>00079</th>\n",
       "      <th>00805</th>\n",
       "      <th>00pm</th>\n",
       "      <th>01</th>\n",
       "      <th>02115</th>\n",
       "      <th>03</th>\n",
       "      <th>0356</th>\n",
       "      <th>...</th>\n",
       "      <th>zeta</th>\n",
       "      <th>zetahub</th>\n",
       "      <th>zeus</th>\n",
       "      <th>zheng</th>\n",
       "      <th>zillow</th>\n",
       "      <th>zogsports</th>\n",
       "      <th>zoho</th>\n",
       "      <th>zone</th>\n",
       "      <th>zones</th>\n",
       "      <th>zywave</th>\n",
       "    </tr>\n",
       "  </thead>\n",
       "  <tbody>\n",
       "    <tr>\n",
       "      <th>0</th>\n",
       "      <td>0</td>\n",
       "      <td>0</td>\n",
       "      <td>0</td>\n",
       "      <td>0</td>\n",
       "      <td>0</td>\n",
       "      <td>0</td>\n",
       "      <td>0</td>\n",
       "      <td>0</td>\n",
       "      <td>0</td>\n",
       "      <td>0</td>\n",
       "      <td>...</td>\n",
       "      <td>0</td>\n",
       "      <td>0</td>\n",
       "      <td>0</td>\n",
       "      <td>0</td>\n",
       "      <td>0</td>\n",
       "      <td>0</td>\n",
       "      <td>0</td>\n",
       "      <td>0</td>\n",
       "      <td>0</td>\n",
       "      <td>0</td>\n",
       "    </tr>\n",
       "    <tr>\n",
       "      <th>1</th>\n",
       "      <td>0</td>\n",
       "      <td>0</td>\n",
       "      <td>0</td>\n",
       "      <td>0</td>\n",
       "      <td>0</td>\n",
       "      <td>0</td>\n",
       "      <td>0</td>\n",
       "      <td>0</td>\n",
       "      <td>0</td>\n",
       "      <td>0</td>\n",
       "      <td>...</td>\n",
       "      <td>0</td>\n",
       "      <td>0</td>\n",
       "      <td>0</td>\n",
       "      <td>0</td>\n",
       "      <td>0</td>\n",
       "      <td>0</td>\n",
       "      <td>0</td>\n",
       "      <td>0</td>\n",
       "      <td>0</td>\n",
       "      <td>0</td>\n",
       "    </tr>\n",
       "    <tr>\n",
       "      <th>2</th>\n",
       "      <td>0</td>\n",
       "      <td>0</td>\n",
       "      <td>0</td>\n",
       "      <td>0</td>\n",
       "      <td>0</td>\n",
       "      <td>0</td>\n",
       "      <td>0</td>\n",
       "      <td>0</td>\n",
       "      <td>0</td>\n",
       "      <td>0</td>\n",
       "      <td>...</td>\n",
       "      <td>0</td>\n",
       "      <td>0</td>\n",
       "      <td>0</td>\n",
       "      <td>0</td>\n",
       "      <td>0</td>\n",
       "      <td>0</td>\n",
       "      <td>0</td>\n",
       "      <td>0</td>\n",
       "      <td>0</td>\n",
       "      <td>0</td>\n",
       "    </tr>\n",
       "    <tr>\n",
       "      <th>3</th>\n",
       "      <td>0</td>\n",
       "      <td>0</td>\n",
       "      <td>0</td>\n",
       "      <td>0</td>\n",
       "      <td>0</td>\n",
       "      <td>0</td>\n",
       "      <td>0</td>\n",
       "      <td>0</td>\n",
       "      <td>0</td>\n",
       "      <td>0</td>\n",
       "      <td>...</td>\n",
       "      <td>0</td>\n",
       "      <td>0</td>\n",
       "      <td>0</td>\n",
       "      <td>0</td>\n",
       "      <td>0</td>\n",
       "      <td>0</td>\n",
       "      <td>0</td>\n",
       "      <td>0</td>\n",
       "      <td>0</td>\n",
       "      <td>0</td>\n",
       "    </tr>\n",
       "    <tr>\n",
       "      <th>4</th>\n",
       "      <td>0</td>\n",
       "      <td>0</td>\n",
       "      <td>0</td>\n",
       "      <td>0</td>\n",
       "      <td>0</td>\n",
       "      <td>0</td>\n",
       "      <td>0</td>\n",
       "      <td>0</td>\n",
       "      <td>0</td>\n",
       "      <td>0</td>\n",
       "      <td>...</td>\n",
       "      <td>0</td>\n",
       "      <td>0</td>\n",
       "      <td>0</td>\n",
       "      <td>0</td>\n",
       "      <td>0</td>\n",
       "      <td>0</td>\n",
       "      <td>0</td>\n",
       "      <td>0</td>\n",
       "      <td>0</td>\n",
       "      <td>0</td>\n",
       "    </tr>\n",
       "  </tbody>\n",
       "</table>\n",
       "<p>5 rows × 9288 columns</p>\n",
       "</div>"
      ],
      "text/plain": [
       "   00  000  00011236  00079  00805  00pm  01  02115  03  0356  ...  zeta  \\\n",
       "0   0    0         0      0      0     0   0      0   0     0  ...     0   \n",
       "1   0    0         0      0      0     0   0      0   0     0  ...     0   \n",
       "2   0    0         0      0      0     0   0      0   0     0  ...     0   \n",
       "3   0    0         0      0      0     0   0      0   0     0  ...     0   \n",
       "4   0    0         0      0      0     0   0      0   0     0  ...     0   \n",
       "\n",
       "   zetahub  zeus  zheng  zillow  zogsports  zoho  zone  zones  zywave  \n",
       "0        0     0      0       0          0     0     0      0       0  \n",
       "1        0     0      0       0          0     0     0      0       0  \n",
       "2        0     0      0       0          0     0     0      0       0  \n",
       "3        0     0      0       0          0     0     0      0       0  \n",
       "4        0     0      0       0          0     0     0      0       0  \n",
       "\n",
       "[5 rows x 9288 columns]"
      ]
     },
     "execution_count": 13,
     "metadata": {},
     "output_type": "execute_result"
    }
   ],
   "source": [
    "test_word_counts = vectorizer.transform(X_test)\n",
    "\n",
    "X_test_vectorized = pd.DataFrame(test_word_counts.toarray(), columns=vectorizer.get_feature_names())\n",
    "\n",
    "print(X_test_vectorized.shape)\n",
    "X_test_vectorized.head()"
   ]
  },
  {
   "cell_type": "code",
   "execution_count": 14,
   "metadata": {},
   "outputs": [
    {
     "name": "stderr",
     "output_type": "stream",
     "text": [
      "C:\\Users\\Valerie\\Anaconda3\\lib\\site-packages\\sklearn\\linear_model\\logistic.py:433: FutureWarning: Default solver will be changed to 'lbfgs' in 0.22. Specify a solver to silence this warning.\n",
      "  FutureWarning)\n"
     ]
    }
   ],
   "source": [
    "from sklearn.linear_model import LogisticRegression\n",
    "\n",
    "LR = LogisticRegression(random_state=42).fit(X_train_vectorized, y_train)\n",
    "\n",
    "train_predictions = LR.predict(X_train_vectorized)\n",
    "test_predictions = LR.predict(X_test_vectorized)"
   ]
  },
  {
   "cell_type": "code",
   "execution_count": 15,
   "metadata": {},
   "outputs": [
    {
     "name": "stdout",
     "output_type": "stream",
     "text": [
      "Train Accuracy: 0.9974937343358395\n",
      "Test Accuracy: 0.92\n"
     ]
    }
   ],
   "source": [
    "from sklearn.metrics import accuracy_score\n",
    "\n",
    "print(f'Train Accuracy: {accuracy_score(y_train, train_predictions)}')\n",
    "print(f'Test Accuracy: {accuracy_score(y_test, test_predictions)}')"
   ]
  },
  {
   "cell_type": "code",
   "execution_count": 16,
   "metadata": {},
   "outputs": [
    {
     "name": "stdout",
     "output_type": "stream",
     "text": [
      "Train Accuracy: 0.9674185463659147\n",
      "Test Accuracy: 0.88\n"
     ]
    }
   ],
   "source": [
    "from sklearn.naive_bayes import MultinomialNB\n",
    "\n",
    "MNB = MultinomialNB().fit(X_train_vectorized, y_train)\n",
    "\n",
    "train_predictions = MNB.predict(X_train_vectorized)\n",
    "test_predictions = MNB.predict(X_test_vectorized)\n",
    "\n",
    "print(f'Train Accuracy: {accuracy_score(y_train, train_predictions)}')\n",
    "print(f'Test Accuracy: {accuracy_score(y_test, test_predictions)}')"
   ]
  },
  {
   "cell_type": "code",
   "execution_count": 18,
   "metadata": {},
   "outputs": [
    {
     "name": "stdout",
     "output_type": "stream",
     "text": [
      "Train Accuracy: 0.9974937343358395\n",
      "Test Accuracy: 0.89\n"
     ]
    }
   ],
   "source": [
    "from sklearn.ensemble import RandomForestClassifier\n",
    "\n",
    "RFC = RandomForestClassifier(n_estimators=100).fit(X_train_vectorized, y_train)\n",
    "\n",
    "train_predictions = RFC.predict(X_train_vectorized)\n",
    "test_predictions = RFC.predict(X_test_vectorized)\n",
    "\n",
    "print(f'Train Accuracy: {accuracy_score(y_train, train_predictions)}')\n",
    "print(f'Test Accuracy: {accuracy_score(y_test, test_predictions)}')"
   ]
  },
  {
   "cell_type": "code",
   "execution_count": 19,
   "metadata": {},
   "outputs": [
    {
     "name": "stdout",
     "output_type": "stream",
     "text": [
      "{'div': 2421, 'class': 1459, 'jobsearch': 4203, 'jobmetadataheader': 4201, 'icl': 3755, 'xs': 9261, 'mb': 4694, 'md': 4702, 'item': 4171, 'mt': 4952, 'temporary': 8405, 'internship': 4077, 'description': 2218, 'nthe': 5996, 'data': 2068, 'analytics': 605, 'innovations': 3970, 'group': 3501, 'docomo': 2441, 'seeking': 7661, 'ph': 6522, 'students': 8178, 'computer': 1688, 'science': 7590, 'engineering': 2730, 'related': 7220, '12': 37, 'week': 9043, 'summer': 8243, 'aws': 889, 'operation': 6226, 'cost': 1913, 'analysis': 599, 'nrequired': 5872, 'skills': 7847, 'experiences': 2931, 'education': 2593, 'ncandidates': 5157, 'position': 6644, 'solid': 7914, 'background': 909, 'machine': 4568, 'learning': 4376, 'optimization': 6244, 'theory': 8447, 'experience': 2929, 'algorithm': 536, 'design': 2223, 'developing': 2255, 'supervised': 8252, 'unsupervised': 8776, 'models': 4874, 'depth': 2208, 'concepts': 1696, 'statistics': 8092, 'linux': 4469, 'ssh': 8029, 'github': 3406, 'sql': 8017, 'highly': 3634, 'desirable': 2231, 'candidate': 1240, 'attributes': 825, 'strongly': 8169, 'self': 7679, 'motivated': 4923, 'strong': 8166, 'analytical': 603, 'synthesis': 8314, 'proficient': 6841, 'python': 6978, 'programming': 6853, 'nnotes': 5682, 'nstart': 5953, 'end': 2704, 'dates': 2091, 'flexible': 3154, 'ninternship': 5567, 'length': 4399, 'weeks': 9047, 'spring': 8013, '2019': 107, 'agency': 491, 'job': 4200, 'overview': 6325, 'br': 1096, 'omd': 6197, 'award': 881, 'winning': 9088, 'integrated': 4032, 'communications': 1613, 'fueled': 3279, 'driven': 2501, 'creativity': 1964, 'provides': 6925, 'clients': 1491, 'innovative': 3971, 'actionable': 365, 'media': 4722, 'amp': 591, 'communication': 1612, 'strategies': 8141, 'accelerate': 302, 'business': 1180, 'senior': 7694, 'member': 4737, 'xe2': 9255, 'x80': 9146, 'x99s': 9185, 'marketing': 4643, 'sciences': 7591, 'team': 8371, 'responsible': 7361, 'delivering': 2166, 'vision': 8951, 'shaping': 7742, 'strategic': 8138, 'direction': 2325, 'ideal': 3763, 'explore': 2958, 'analyze': 609, 'visualize': 8962, 'dynamic': 2529, 'datasets': 2085, 'having': 3579, 'technical': 8380, 'expertise': 2941, 'building': 1166, 'statistical': 8089, 'supervisor': 8254, 'work': 9104, 'closely': 1503, 'director': 2329, 'manage': 4599, 'resources': 7343, 'implement': 3814, 'process': 6812, 'improvements': 3836, 'mentor': 4749, 'junior': 4240, 'members': 4738, 'areas': 709, 'responsibility': 7360, 'ul': 8683, 'li': 4420, 'exploration': 2956, 'experimentation': 2936, 'large': 4327, 'number': 6035, 'draw': 2487, 'insights': 3989, 'search': 7633, 'stories': 8129, 'predictive': 6713, 'descriptive': 2221, 'based': 937, 'omg': 6198, 'maintain': 4582, 'pipelines': 6566, 'visualization': 8960, 'outputs': 6309, 'understand': 8713, 'participate': 6379, 'measurement': 4714, 'planning': 6584, 'development': 2256, 'execution': 2897, 'ensuring': 2754, 'timely': 8487, 'follow': 3179, 'scheduled': 7580, 'ad': 384, 'hoc': 3661, 'deliverables': 2164, 'present': 6744, 'analytic': 602, 'appropriate': 683, 'generating': 3367, 'communicating': 1611, 'clear': 1476, 'compelling': 1632, 'advanced': 437, 'techniques': 8384, 'actively': 371, 'teams': 8375, 'anticipate': 643, 'client': 1490, 'needs': 5346, 'develop': 2251, 'solutions': 7918, 'nagency': 5035, 'company': 1623, 'brainjolt': 1097, 'brainjoltmedia': 1098, 'com': 1568, 'leading': 4367, 'digital': 2307, 'sites': 7834, 'quantcast': 7002, '75': 221, 'mobile': 4860, 'constant': 1779, 'learners': 4375, 'value': 8854, 'scrappy': 7613, 'cleverness': 1486, 'best': 989, 'practices': 6698, 'working': 9114, 'despite': 2237, 'lean': 4371, 'reach': 7081, '36': 154, 'million': 4809, 'users': 8812, 'month': 4910, 'properties': 6889, 'social': 7892, 'channels': 1379, 'engaging': 2726, 'smile': 7874, 'inducing': 3899, 'viral': 8940, 'quizzes': 7033, 'highlights': 3633, 'xa6': 9239, 'flagship': 3146, 'site': 7832, '22': 117, 'words': 9103, 'ranked': 7058, '20': 88, 'country': 1926, '20m': 113, 'unique': 8739, 'visitors': 8957, 'magiquiz': 4576, 'mobiles': 4861, 'boasting': 1059, 'minutes': 4832, 'visitor': 8956, 'whopping': 9074, '60': 201, 'completion': 1656, 'rate': 7066, 'following': 3180, '26': 124, 'growing': 3504, 'fast': 3046, 'culture': 2017, 'continuous': 1827, 'strive': 8162, 'better': 992, 'day': 2095, 'opportunity': 6240, 'product': 6825, 'analyst': 600, 'nat': 5092, 'heart': 3603, 'need': 5342, 'numbers': 6037, 'monster': 4905, 'pricing': 6769, 'bidding': 1003, 'help': 3612, 'grow': 3503, 'support': 8266, 'revenue': 7401, 'strategy': 8143, 'provide': 6921, 'kpis': 4298, 'discover': 2360, 'ways': 9031, 'automate': 855, 'reporting': 7285, 'x99re': 9184, 'keen': 4255, 'partner': 6387, 'excel': 2873, 'modeling': 4871, 'possibly': 6657, 'worked': 9108, 'trading': 8548, 'desk': 2234, 'fin': 3103, 'tech': 8378, 'past': 6404, 'specifically': 7977, 'clean': 1469, 'trusted': 8640, 'produce': 6820, 'action': 364, 'biased': 1000, 'vp': 8986, 'optimize': 6245, 'existing': 2910, 'create': 1956, 'new': 5406, 'streams': 8148, 'detailed': 2238, 'reports': 7286, 'thoughtful': 8464, 'deep': 2134, 'concern': 1701, 'question': 7022, 'recommendations': 7125, 'items': 4172, 'draft': 2482, 'test': 8426, 'plans': 6586, 'requirements': 7311, 'hand': 3545, 'developers': 2254, 'structure': 8171, 'report': 7283, 'tests': 8429, 'increase': 3869, 'monetization': 4897, 'nhave': 5509, 'bachelor': 903, 'degree': 2153, 'equivalent': 2797, 'non': 5692, 'traditional': 8549, 'paths': 6411, 'welcome': 9051, 'years': 9265, 'evenue': 2854, 'yield': 9267, 'bid': 1002, 'foundation': 3231, 'aggregating': 498, '1st': 85, '3rd': 161, 'party': 6394, 'knowledge': 4290, 'management': 4602, 'technologies': 8387, 'sources': 7942, 'like': 4447, 'gds': 3351, 'ga': 3314, 'gam': 3322, 'desire': 2232, 'continually': 1821, 'opportunities': 6239, 'changing': 1376, 'programmatic': 6850, 'ecosystem': 2572, 'love': 4541, 'paced': 6338, 'environment': 2775, 'starter': 8073, 'results': 7377, 'growth': 3507, 'mindset': 4816, 'drama': 2484, 'nice': 5528, 'familiar': 3029, 'dsps': 2515, 'ssps': 8032, 'exchanges': 2881, 'networks': 5395, 'server': 7717, 'dfp': 2271, 'measurable': 4711, 'success': 8220, 'managing': 4607, 'partnerships': 6392, 'foundational': 3232, 'header': 3590, 'stack': 8037, 'proven': 6920, 'track': 8540, 'record': 7136, 'meeting': 4731, 'goals': 3427, 'supporting': 8268, 'vendors': 8885, 'desks': 2235, 'expectations': 2923, 'primary': 6772, 'performance': 6461, 'ensure': 2752, 'accurate': 345, 'provided': 6922, 'daily': 2057, 'automation': 861, 'manual': 4620, 'pulling': 6948, 'troubleshooting': 8631, 'require': 7308, 'availability': 868, 'weekends': 9045, 'needed': 5343, 'deliver': 2162, 'troubleshoot': 8630, 'issues': 4169, 'communicate': 1608, 'partners': 6390, 'coordinate': 1872, 'internal': 4071, 'stakeholders': 8049, 'ux': 8833, 'initiatives': 3959, 'mitigate': 4845, 'risks': 7436, 'constantly': 1780, 'monitor': 4901, 'eliminate': 2646, 'negatively': 5354, 'impact': 3808, 'overall': 6316, 'integrity': 4038, 'expert': 2940, 'attention': 817, 'relates': 7221, 'ability': 278, 'key': 4264, 'trust': 8639, 'maintained': 4584, 'thought': 8463, 'leadership': 4366, 'entire': 2765, 'effort': 2616, 'educate': 2590, 'enhance': 2734, 'improvement': 3835, 'benefits': 987, 'nthis': 6001, 'fully': 3285, 'remote': 7263, 'nbrainjolt': 5139, 'fun': 3286, 'entrepreneurial': 2770, 'empowers': 2689, 'employees': 2679, 'independently': 3882, 'drive': 2500, 'greatly': 3486, 'early': 2538, 'values': 8856, 'fight': 3092, 'boredom': 1082, 'spread': 8010, 'happiness': 3556, 'just': 4244, 'audience': 831, 'addition': 397, 'basic': 942, 'additional': 398, 'continued': 1823, 'unlimited': 8758, 'pto': 6935, 'home': 3671, 'internet': 4075, 'phone': 6539, 'assistance': 772, 'gym': 3532, 'membership': 4739, 'tickets': 8476, 'concert': 1704, 'choice': 1421, 'year': 9263, 'spotify': 8009, 'netflix': 5391, 'audible': 830, 'subscriptions': 8206, 'monthly': 4911, 'personal': 6494, 'book': 1069, 'budget': 1159, 'h2': 3534, 'jobsectionheader': 4204, 'summary': 8242, 'nbuilds': 5147, 'maintains': 4586, 'sci': 7589, 'procedures': 6808, 'resource': 7341, 'units': 8747, 'cerner': 1348, 'upgrades': 8788, 'utilizes': 8826, 'clinical': 1495, 'schedule': 7579, 'imaging': 3794, 'services': 7721, 'utilizing': 8827, 'scheduling': 7582, 'coordinates': 1874, 'patient': 6412, 'utilization': 8823, 'modality': 4866, 'nqualifications': 5834, 'high': 3627, 'school': 7587, 'diploma': 2320, 'ged': 3355, 'certificate': 1352, 'npreferred': 5796, 'associate': 777, 'healthcare': 3597, 'setting': 7727, 'nfull': 5484, 'time': 8483, 'days': 2097, 'njob': 5582, 'admitting': 427, 'registration': 7194, 'location': 4503, 'west': 9060, 'palm': 6350, 'beach': 953, 'florida': 3161, 'facility': 3010, 'saint': 7521, 'mary': 4655, 'medical': 4724, 'center': 1337, 'type': 8666, 'shift': 7757, 'employment': 2683, 'influenced': 3920, 'affected': 473, 'applicant': 664, 'employee': 2678, 'race': 7039, 'color': 1561, 'religion': 7247, 'sex': 7732, 'including': 3856, 'pregnancy': 6722, 'national': 5094, 'origin': 6282, 'age': 489, 'disability': 2336, 'genetic': 3374, 'information': 3934, 'sexual': 7734, 'orientation': 6280, 'gender': 3359, 'identity': 3775, 'expression': 2967, 'veteran': 8910, 'status': 8094, 'legally': 4392, 'protected': 6907, 'tenet': 8408, 'make': 4591, 'reasonable': 7104, 'accommodations': 324, 'qualified': 6995, 'individuals': 3898, 'disabilities': 2335, 'unless': 8757, 'doing': 2455, 'result': 7375, 'undue': 8722, 'hardship': 3563, 'span': 7952, 'mr': 4940, '78': 225, '600': 202, 'consultant': 1792, 'opening': 6215, '447618': 170, 'contributes': 1838, 'serves': 7719, 'level': 4407, 'contributor': 1842, 'lead': 4363, 'complex': 1657, 'align': 541, 'technology': 8390, 'care': 1264, 'implementation': 3816, 'functionality': 3290, 'evaluation': 2844, 'systems': 8320, 'practice': 6697, 'administrative': 421, 'outcomes': 6294, 'scientist': 7593, 'creates': 1958, 'organization': 6271, 'compiling': 1648, 'analyzing': 612, 'research': 7317, 'educational': 2594, 'operational': 6227, 'enterprise': 2758, 'wide': 9077, 'role': 7458, 'involves': 4146, 'application': 666, 'methods': 4780, 'mathematical': 4676, 'simulation': 7821, 'excellent': 2875, 'order': 6261, 'identify': 3773, 'long': 4518, 'term': 8417, 'masters': 4664, 'required': 7309, 'industrial': 3900, 'operations': 6232, 'applied': 668, 'mathematics': 4677, 'informatics': 3933, 'field': 3088, 'phd': 6531, 'desired': 2233, 'minimum': 4824, 'recent': 7113, 'relevant': 7239, 'hands': 3550, 'leveraged': 4412, 'discrete': 2366, 'event': 2850, 'acquisition': 359, 'using': 8815, 'format': 3210, 'understanding': 8715, 'relational': 7224, 'base': 936, 'logic': 4508, 'languages': 4323, 'tools': 8517, 'sas': 7545, 'tantus': 8350, 'quality': 7000, 'assurance': 784, 'performing': 6465, 'functional': 3288, 'verification': 8892, 'software': 7905, 'applications': 667, 'isolate': 4163, 'solve': 7920, 'initiate': 3955, 'problems': 6806, 'duties': 2525, 'include': 3853, 'testing': 8428, 'products': 6830, 'produced': 6821, 'intelligence': 4042, 'etl': 2831, 'designers': 2228, 'able': 279, 'bi': 998, 'directly': 2328, 'government': 3446, 'customers': 2040, 'secure': 7651, 'responsibilities': 7359, 'validate': 8845, 'writing': 9139, 'independent': 3881, 'queries': 7018, 'standards': 8061, 'examine': 2867, 'code': 1522, 'various': 8870, 'environments': 2777, 'traceability': 8538, 'lifecycle': 4437, 'authoring': 845, 'matrix': 4682, 'rtm': 7493, 'defects': 2141, 'anomalies': 632, 'resolution': 7336, 'generate': 3364, 'historical': 3646, 'execute': 2892, 'specifications': 7979, 'conduct': 1716, 'user': 8811, 'acceptance': 310, 'uat': 8672, 'instructions': 4013, 'document': 2446, 'compare': 1626, 'expected': 2924, 'compliance': 1660, 'general': 3360, 'accepted': 311, 'web': 9036, 'set': 7725, 'forth': 3223, 'upstream': 8797, 'review': 7404, 'deployment': 2204, 'scripts': 7620, 'conformance': 1741, 'coding': 1527, 'guidelines': 3524, 'accordance': 330, 'perform': 6460, 'reviews': 7407, 'walkthroughs': 8998, 'inspections': 3991, 'toad': 8498, 'navigator': 5113, 'similar': 7810, 'tool': 8510, 'creating': 1959, 'sets': 7726, 'extract': 2980, 'load': 4493, 'assist': 771, 'transform': 8572, 'routines': 7481, 'database': 2070, 'views': 8932, 'objects': 6133, 'universes': 8748, 'databases': 2071, 'designs': 2230, 'qualifications': 6993, 'active': 370, 'security': 7655, 'clearance': 1477, 'secret': 7644, 'n4': 4994, 'qa': 6981, 'deal': 2110, 'multiple': 4963, 'concurrent': 1712, 'efforts': 2617, 'multi': 4956, 'task': 8358, 'directions': 2326, 'managers': 4605, 'completed': 1651, 'assignments': 769, 'manner': 4618, 'oral': 6255, 'written': 9140, 'effectively': 2608, 'people': 6449, 'federal': 3068, 'contractor': 1832, 'successfully': 8222, 'scientific': 7592, 'preferred': 6721, 'consider': 1764, 'place': 6575, 'safe': 7512, 'agile': 502, 'methodology': 4779, 'ibm': 3752, 'clm': 1499, 'rqm': 7484, 'sap': 7542, 'hana': 3544, 'unit': 8742, 'handle': 3547, 'projects': 6866, 'acts': 375, 'analysts': 601, 'claims': 1453, 'provider': 6923, 'hedis': 3608, 'pharmacy': 6528, 'external': 2977, 'model': 4868, 'reconcile': 7131, 'amounts': 590, 'platforms': 6589, 'determine': 2245, 'impacts': 3811, 'actions': 366, 'elevate': 2640, 'trends': 8615, 'ms': 4945, 'access': 314, 'ware': 9009, 'house': 3705, 'driving': 2506, 'decisions': 2123, 'state': 8080, 'deliverable': 2163, 'audits': 837, 'training': 8556, 'mentoring': 4750, 'determining': 2248, 'activities': 372, 'neducation': 5340, 'microsoft': 4793, 'office': 6175, 'heavy': 3606, 'involvement': 4145, 'project': 6862, 'centene': 1336, 'equal': 2788, 'employer': 2680, 'committed': 1599, 'diversity': 2425, 'different': 2295, 'applicants': 665, 'receive': 7110, 'consideration': 1766, 'regard': 7184, 'characteristic': 1382, 'applicable': 663, 'law': 4346, 'contract': 1830, 'insight': 3987, 'experienced': 2930, 'robust': 7451, 'visualizations': 8961, 'improve': 3833, 'collection': 1554, 'tracking': 8542, 'supervision': 8253, 'st': 8034, 'joseph': 4216, 'measure': 4712, 'program': 6849, 'effectiveness': 2609, 'serve': 7714, 'target': 8354, 'population': 6634, 'integral': 4030, 'bringing': 1133, 'thorough': 8461, 'decision': 2121, 'making': 4594, 'nessential': 5384, 'nkey': 5589, 'essential': 2812, 'nconduct': 5216, 'ncreate': 5241, 'depict': 2199, 'nmonitor': 5655, 'indicators': 3892, 'aid': 515, 'nbuild': 5145, 'interactive': 4056, 'dashboard': 2065, 'tableau': 8322, 'nsupport': 5975, 'drafting': 2483, 'outcome': 6293, 'nhelp': 5513, 'grant': 3467, 'identifying': 3774, 'calculating': 1212, 'baselines': 939, 'targets': 8357, 'benchmark': 980, 'nensure': 5371, 'effective': 2607, 'efficient': 2614, 'nwork': 6105, 'programs': 6854, 'monitoring': 4903, 'understood': 8718, 'contractual': 1835, 'designing': 2229, 'assisting': 775, 'evaluations': 2845, 'nmaintain': 5620, 'current': 2028, 'hud': 3727, 'elements': 2639, 'nother': 5731, 'assigned': 767, 'listed': 4472, 'designed': 2226, 'typical': 8668, 'examples': 2870, 'performed': 6464, 'included': 3854, 'positions': 6646, 'duty': 2526, 'nknowledge': 5591, 'abilities': 277, 'nexcellent': 5423, 'nproficiency': 5816, 'write': 9136, 'nstrong': 5963, 'problem': 6804, 'solving': 7924, 'nattention': 5102, 'accuracy': 344, 'nfluent': 5469, 'nexperience': 5435, 'dashboards': 2067, 'preferably': 6718, 'qualitative': 6998, 'quantitative': 7009, 'nproficient': 5817, 'presentation': 6745, 'commitment': 1597, 'applying': 671, 'numerical': 6040, 'achieve': 347, 'enhanced': 2735, 'nability': 5008, 'perspectives': 6506, 'recommend': 7123, 'course': 1931, 'corrections': 1898, 'findings': 3115, 'ntwo': 6027, 'plus': 6609, 'running': 7503, 'hmis': 3658, 'ehr': 2621, 'service': 7720, 'point': 6617, 'clarity': 1458, 'exym': 2991, 'champ': 1369, 'zoho': 9284, 'awards': 883, 'nbachelor': 5121, 'accredited': 340, 'college': 1559, 'university': 8750, 'math': 4675, 'ndirect': 5301, 'direct': 2322, 'supervisory': 8256, 'ncomputer': 5214, 'word': 9101, 'powerpoint': 6684, 'use': 8808, 'widely': 9078, 'supported': 8267, 'browsers': 1149, 'ncertificates': 5169, 'licenses': 4429, 'registrations': 7195, 'nvalid': 6072, 'california': 1218, 'driver': 2502, 'license': 4427, 'utilize': 8824, 'alternative': 562, 'method': 4772, 'transportation': 8593, 'carry': 1284, 'functions': 3293, 'automobile': 862, 'liability': 4421, 'insurance': 4021, 'nadditional': 5025, 'exempt': 2902, 'nsalary': 5898, 'doe': 2451, 'nemployment': 5362, 'contingent': 1819, 'satisfactory': 7550, 'check': 1401, 'nst': 5951, 'endorses': 2710, 'supports': 8270, 'intent': 4048, 'americans': 582, 'act': 362, '1990': 80, 'ada': 385, 'fair': 3023, 'housing': 3707, 'feha': 3078, 'providing': 6926, 'accommodation': 323, 'complete': 1650, 'experiencing': 2932, 'submitting': 8199, 'accompanying': 325, 'materials': 4672, 'contact': 1803, 'human': 3730, '310': 141, '396': 160, '6468': 206, 'nfor': 5473, 'submit': 8195, 'cover': 1938, 'letter': 4405, 'resume': 7378, 'affirmative': 481, 'invited': 4140, 'voluntarily': 8978, 'ethnicity': 2829, 'completing': 1655, 'eeo': 2600, 'voluntary': 8979, 'refusal': 7182, 'subject': 8191, 'adverse': 445, 'treatment': 8607, 'similarly': 7812, 'invites': 4141, 'poster': 6660, 'link': 4464, 'located': 4501, 'https': 3724, 'www': 9143, 'dol': 2457, 'gov': 3441, 'ofccp': 6166, 'regs': 7200, 'posters': 6661, 'pdf': 6435, 'eeopost': 2603, 'dni': 2438, 'ads': 432, 'org': 6269, 'demonstrate': 2179, 'generalizable': 3361, 'pinterest': 6560, 'platform': 6588, 'internally': 4072, 'externally': 2978, 'advertisers': 448, 'meet': 4730, 'll': 4490, 'broad': 1135, 'range': 7054, 'topics': 8521, 'efficiently': 2615, 'algorithms': 538, 'build': 1164, 'rigorous': 7433, 'facing': 3011, 'cross': 1991, 'functionally': 3291, 'experimentally': 2935, 'community': 1617, 'looking': 4523, 'industry': 3904, 'real': 7094, 'world': 9124, 'big': 1005, 'usage': 8804, 'hive': 3653, 'collaborate': 1540, 'ms1': 4946, 'expedia': 2926, 'ndo': 5313, 'wish': 9092, 'volumes': 8977, 'untapped': 8778, 'ocean': 6155, 'nare': 5071, 'dreams': 2493, 'generates': 3366, 'sleep': 7857, 'join': 4209, 'friendly': 3268, 'hilarious': 3635, 'professionals': 6836, 'nif': 5533, 'answered': 638, 'yes': 9266, 'questions': 7025, 'x99ve': 9187, 'right': 7429, 'nwe': 6089, 'wealth': 9034, 'harvest': 3573, 'cases': 1293, 'life': 4436, 'carrentals': 1279, 'mission': 4838, 'scientists': 7594, 'customer': 2039, 'automated': 856, 'scale': 7569, 'variety': 8869, 'challenging': 1367, 'rigor': 7431, 'hypothesis': 3748, 'nwhat': 6094, 'nyou': 6118, 'ndetermine': 5292, 'methodologies': 4778, 'difficult': 2300, 'nown': 5744, 'apply': 670, 'multivariate': 4967, 'winners': 9087, 'ndevelop': 5294, 'segments': 7670, 'audiences': 832, 'used': 8809, 'targeting': 8356, 'improved': 3834, 'profitability': 6846, 'nexplore': 5440, 'passion': 6400, 'relationships': 7227, 'merge': 4756, 'context': 1814, 'prowess': 6928, 'bring': 1132, 'npartner': 5752, 'engineers': 2731, 'train': 8554, 'deploy': 2201, 'scalable': 7567, 'nnetwork': 5670, 'peers': 6443, 'seek': 7658, 'approaches': 681, 'centric': 1344, 'approach': 679, 'aspects': 748, 'journey': 4221, 'ndiscover': 5306, 'address': 400, 'global': 3418, 'travelers': 8597, 'way': 9030, 'narratives': 5074, 'clarify': 1457, 'transparency': 8590, 'offer': 6170, 'led': 4386, 'truly': 8638, 'leaders': 4365, 'surrounded': 8280, 'learn': 4372, 'experiment': 2933, 'tons': 8509, 'single': 7826, 'interesting': 4061, 'millions': 4810, 'encourages': 2702, 'innovation': 3969, 'collaboration': 1543, 'conference': 1722, 'attendance': 813, 'skillset': 7848, 'expansion': 2921, 'classes': 1460, 'nwho': 6098, 'master': 4662, 'higher': 3629, 'scoring': 7607, 'sem': 7686, 'rank': 7057, 'involving': 4147, 'regression': 7198, 'classification': 1463, 'preparation': 6730, 'creative': 1962, 'history': 3649, 'producing': 6824, 'outstanding': 6315, 'professionally': 6835, 'personally': 6500, 'forward': 3226, 'thinking': 8458, 'organized': 6276, 'nwhy': 6099, 'nexpedia': 5434, 'recognizes': 7121, 'dependent': 2195, 'travel': 8595, 'knowledgeable': 4291, 'passionate': 6401, 'brands': 1107, 'recognize': 7119, 'power': 6676, 'break': 1112, 'barriers': 933, 'lives': 4487, 'x93': 9159, 'inspires': 3996, 'exceptional': 2877, 'want': 9006, 'nwhether': 6097, 'lodging': 4505, 'supply': 8264, 'common': 1603, 'goal': 3426, 'relentlessly': 7236, 'humility': 3734, 'optimism': 6243, 'respecting': 7348, 'ideas': 3765, 'small': 7864, 'voices': 8974, 'feet': 3077, 'ground': 3498, 'stay': 8095, 'simple': 7813, 'chance': 1372, 'local': 4497, 'difference': 2293, 'corporate': 1893, 'cares': 1274, 'hunger': 3738, 'loved': 4542, 'consumer': 1799, 'nour': 5738, 'family': 3032, 'includes': 3855, 'brand': 1105, 'xc2': 9253, 'xae': 9245, 'hotels': 3698, 'egencia': 2618, 'trivago': 8626, 'homeaway': 3672, 'orbitz': 6258, 'travelocity': 8599, 'wotif': 9132, 'lastminute': 4333, 'au': 828, 'ebookers': 2554, 'cheaptickets': 1400, 'hotwire': 3701, 'classic': 1461, 'vacations': 8839, 'x84': 9156, 'xa2': 9232, 'cruiseshipcenters': 1995, 'silverrail': 7809, 'alice': 539, 'traveldoo': 8596, 'inclusive': 3858, 'diverse': 2423, 'workforce': 9113, 'genetics': 3375, 'participates': 6380, 'verify': 8896, 'administration': 420, 'ssa': 8025, 'necessary': 5338, 'department': 2188, 'homeland': 3673, 'dhs': 2273, 'confirm': 1733, 'authorization': 848, 'hire': 3638, 'green': 3489, 'card': 1262, 'citizenship': 1445, 'builds': 1168, 'valuable': 8853, 'legal': 4391, 'contracts': 1834, 'ai': 514, 'important': 3824, 'documents': 2450, 'matter': 4684, 'experts': 2943, 'gain': 3317, 'intimate': 4100, 'content': 1811, 'types': 8667, 'answer': 637, 'bs': 1152, 'computational': 1685, 'linguistics': 4462, 'natural': 5103, 'language': 4322, 'processing': 6815, 'nlp': 5614, 'verbal': 8890, 'solver': 7922, 'nbonus': 5137, 'graph': 3473, 'cloud': 1507, 'architectures': 703, 'devops': 2264, 'person': 6492, 'fdr': 3058, 'airworthiness': 526, 'reasonability': 7103, 'checks': 1404, 'avionica': 875, 'flight': 3155, 'incident': 3848, 'documentation': 2447, 'tasks': 8360, 'extrapolate': 2987, 'aircraft': 523, 'downloads': 2475, 'assisted': 774, 'known': 4292, 'coming': 1584, 'files': 3098, 'interpretation': 4083, 'guideline': 3523, 'frames': 3243, 'paperwork': 6358, 'quoting': 7036, 'billing': 1012, 'orders': 6263, 'interface': 4063, 'manager': 4604, 'regular': 7201, 'basis': 943, 'evolution': 2859, 'offerings': 6173, 'second': 7641, 'parties': 6385, 'fashion': 3045, 'minimal': 4821, 'comply': 1665, 'continual': 1820, 'discipline': 2346, 'aviation': 874, 'aeronautical': 467, 'combined': 1575, 'foqa': 3187, 'pilot': 6556, 'maintenance': 4587, 'certifications': 1355, 'commercial': 1592, 'characteristics': 1383, 'binary': 1017, 'octal': 6157, 'hex': 3622, 'numbering': 6036, 'good': 3434, 'organizational': 6272, 'competency': 1639, 'spreadsheets': 8012, 'windows': 9086, 'sg': 7737, 'ge': 3352, 'imagination': 3791, 'manufacturing': 4624, 'components': 1668, 'genx': 3382, 'engines': 2732, 'fuel': 3278, 'noise': 5690, 'reduction': 7160, 'dedicated': 2131, 'turning': 8655, 'imaginative': 3792, 'advances': 440, 'toughest': 8532, 'x99ll': 9183, 'ongoing': 6204, 'substantial': 8213, 'investment': 4134, 'keeps': 4257, 'moving': 4934, 'ahead': 513, 'embedded': 2654, 'collaboratively': 1546, 'highest': 3630, 'caliber': 1217, 'talent': 8342, 'cutting': 2046, 'edge': 2578, 'processes': 6814, 'generation': 3368, 'ecomagination': 2563, 'future': 3311, 'got': 3440, 'art': 727, 'reality': 7096, 'career': 1265, 'rich': 7419, 'challenges': 1366, 'advancement': 438, 'reengineering': 7165, 'sky': 7850, 'globe': 3420, 'generations': 3369, 'come': 1578, 'nge': 5491, 'offers': 6174, 'great': 3483, 'professional': 6833, 'careers': 1267, 'competitive': 1643, 'compensation': 1634, 'ethnic': 2828, 'locations': 4504, 'united': 8744, 'states': 8084, 'miami': 4789, 'employ': 2676, 'authorized': 850, 'ntasks': 5982, 'nreports': 5867, 'bat': 945, 'architect': 698, 'attribution': 826, 'fraud': 3252, 'nships': 5923, 'implementing': 3819, 'nskills': 5934, 'graphs': 3480, 'modelling': 4873, 'structured': 8172, 'unstructured': 8775, 'postgres': 6663, 'mapreduce': 4631, 'remotely': 7264, 'points': 6618, 'nadvanced': 5031, '10': 16, 'forecasting': 3195, 'ml': 4852, 'scikit': 7596, 'apache': 651, 'spark': 7956, 'hadoop': 3542, 'mining': 4825, 'java': 4184, 'scripting': 7619, 'hdfs': 3587, 'kafka': 4248, 'fine': 3116, 'stronger': 8167, 'image': 3786, 'nnull': 5684, 'kept': 4260, 'confidential': 1727, 'according': 331, 'transwestern': 8594, 'companies': 1622, 'comprise': 1679, 'privately': 6793, 'held': 3610, 'diversified': 2424, 'estate': 2818, 'na': 5007, 'underlies': 8707, 'differently': 2299, 'empowering': 2687, 'independence': 3880, 'extraordinary': 2986, 'start': 8071, 'hiring': 3641, 'hard': 3559, 'smart': 7867, 'genuinely': 3381, 'organize': 6275, 'collaborative': 1545, 'outperform': 6307, 'freedom': 3255, 'ownership': 6331, 'exceed': 2871, 'x99': 9181, 'makes': 4593, 'intern': 4070, 'collecting': 1553, 'maintaining': 4585, 'market': 4640, 'washington': 9017, 'baltimore': 924, 'region': 7190, 'collects': 1558, 'inputs': 3976, 'manages': 4606, 'ensures': 2753, 'tracks': 8543, 'updates': 8784, 'changes': 1375, 'sales': 7526, 'leases': 4382, 'construction': 1787, 'proposed': 6894, 'vacancy': 8837, 'tenant': 8406, 'movement': 4932, 'assists': 776, 'quarterly': 7014, 'recommends': 7129, 'expands': 2920, 'promotes': 6873, 'brokers': 1143, 'h3': 3536, 'coursework': 1934, 'economics': 2569, 'proficiency': 6840, 'indesign': 3883, 'costar': 1915, 'succeed': 8217, 'pressure': 6755, 'workload': 9115, 'guidance': 3520, 'paid': 6345, 'calendar': 1216, 'weekly': 9046, 'budgeted': 1161, '15': 48, 'hours': 3704, 'district': 2419, 'columbia': 1565, 'today': 8500, 'energetic': 2713, 'exciting': 2887, 'salary': 7525, 'dental': 2186, 'coverage': 1939, '401': 165, 'plan': 6581, 'agencies': 490, 'calls': 1221, 'corva': 1909, 'hottest': 3700, 'ups': 8795, 'houston': 3708, 'reason': 7102, 'emerging': 2667, 'leader': 4364, 'oil': 6186, 'gas': 3336, 'biggest': 1007, 'rely': 7255, 'minute': 4831, 'critical': 1984, 'contribute': 1836, 'drilling': 2497, '24': 121, 'ready': 7092, 'laser': 4331, 'focus': 3174, 'timeliness': 8486, 'email': 2651, 'proactively': 6798, 'qcs': 6985, 'visuals': 8966, 'enter': 2755, 'qaqc': 6982, 'correct': 1896, 'resolve': 7338, 'completeness': 1653, 'prioritized': 6787, 'correctly': 1900, 'problematic': 6805, 'protocols': 6913, 'prepare': 6732, 'regarding': 7185, 'proper': 6887, 'staged': 8044, 'prior': 6782, 'production': 6826, 'efficiencies': 2612, 'drill': 2496, 'string': 8160, 'bha': 997, 'configurations': 1730, 'bits': 1032, 'mud': 4954, 'motors': 4928, 'casing': 1295, 'fluid': 3171, 'nights': 5536, 'rotation': 7474, 'prioritize': 6786, 'english': 2733, 'navigating': 5112, 'modern': 4879, 'recommended': 7126, 'rig': 7428, 'rto': 7494, 'neuroscience': 5401, 'assessments': 763, 'pymetrics': 6976, 'reinventing': 7217, 'recruiting': 7145, 'matching': 4669, 'candidates': 1241, 'jobs': 4202, 'likely': 4448, 'charge': 1384, 'evolving': 2862, 'amazing': 566, 'unleash': 8754, 'potential': 6673, 'remove': 7266, 'bias': 999, 'hardworking': 3565, 'curiosity': 2025, 'propensity': 6886, 'exploring': 2960, 'behavior': 967, 'believe': 972, 'equitable': 2794, 'sure': 8271, 'measuring': 4718, 'speaks': 7965, 'hope': 3685, 'nrequirements': 5873, 'ba': 899, 'know': 4288, 'concise': 1706, 'especially': 2808, 'regards': 7187, 'dimensional': 2312, 'familiarity': 3030, 'mpp': 4938, 'warehouses': 9011, 'redshift': 7156, 'snowflake': 7888, 'dealing': 2112, 'salesforce': 7527, 'zendesk': 9276, 'marketo': 4644, 'logs': 4515, 'introductory': 4109, 'intermediate': 4068, 'libraries': 4424, 'pandas': 6352, 'scipy': 7598, 'matplotlib': 4680, 'seaborn': 7629, 'plotly': 6606, 'mode': 4867, 'embodiment': 2659, 'core': 1886, 'motivation': 4924, 'positivity': 6649, 'buy': 1188, 'eliminating': 2647, 'health': 3596, 'leave': 4384, 'maternity': 4674, 'paternity': 6408, '401k': 166, 'stock': 8116, 'option': 6249, 'commuter': 1619, 'reimbursement': 7211, 'midtown': 4798, 'manhattan': 4613, 'dog': 2454, 'workplace': 9116, 'intellectually': 4041, 'eager': 2532, 'coworkers': 1942, 'happy': 3557, 'retreats': 7390, 'entry': 2773, 'finally': 3107, 'discriminate': 2369, 'marital': 4638, 'wix': 9095, '90': 249, 'interact': 4052, '130': 42, 'collect': 1551, 'billion': 1013, 'events': 2852, '1tb': 87, 'added': 394, 'store': 8125, 'query': 7019, 'presto': 6757, 'skilled': 7845, 'communicator': 1615, 'analyses': 597, 'clearly': 1481, 'sense': 7696, 'harness': 3567, 'interfaces': 4064, 'beginning': 964, 'bsc': 1154, 'experiments': 2939, 'nas': 5077, 'metrics': 4783, 'validity': 8851, 'reported': 7284, 'nsee': 5909, 'inform': 3930, 'influence': 3919, 'x93churn': 9161, 'segmentation': 7667, 'streamline': 8146, 'finance': 3108, 'mclean': 4699, '19050': 71, 'america': 580, 'virginia': 8941, 'capital': 1252, 'founder': 3235, 'chairman': 1363, 'chief': 1412, 'executive': 2899, 'officer': 6176, 'richard': 7420, 'fairbank': 3024, 'ingenuity': 3946, 'simplicity': 7816, 'humanity': 3731, 'banking': 927, 'enjoy': 2740, 'advocacy': 458, 'exhibit': 2907, 'succeeding': 8218, 'nguided': 5503, 'shared': 7744, 'thrive': 8470, 'openness': 6218, 'valued': 8855, 'powered': 6680, 'perspective': 6505, 'teamwork': 8377, 'respect': 7344, 'superior': 8249, 'obsess': 6138, 'thing': 8453, 'associates': 779, 'helping': 3615, 'realize': 7098, 'quest': 7021, 'change': 1373, 'ndata': 5260, 'launched': 4342, 'startup': 8077, 'disrupted': 2396, 'credit': 1970, 'individually': 3897, 'personalizing': 6499, '1988': 78, 'little': 4481, 'skyrocketed': 7852, 'fortune': 3224, '200': 89, 'risk': 7435, 'outsized': 6312, 'tough': 8531, 'reusable': 7399, 'modules': 4889, 'enabling': 2695, 'leverage': 4411, 'latest': 4337, 'frameworks': 3245, 'levels': 4409, 'executives': 2900, '2nd': 132, 'lines': 4459, 'defense': 2142, 'given': 3407, 'meaningful': 4706, 'extensible': 2974, 'succinctly': 8223, 'communicates': 1610, 'interactions': 4055, 'static': 8086, 'patterns': 6417, 'dependencies': 2193, 'domain': 2460, 'abstracting': 289, 'encoding': 2696, 'visual': 8959, 'forms': 3217, 'representations': 7292, 'evaluating': 2843, 'faster': 3047, 'tell': 8401, 'richer': 7421, 'things': 8454, 'bit': 1031, 'simpler': 7814, 'wave': 9029, 'sharing': 7748, 'inspirational': 3993, 'demos': 2185, 'curious': 2026, 'onlookers': 6208, 'inside': 3986, 'outside': 6311, 'ask': 743, 'afraid': 485, 'blurt': 1054, 'crazy': 1954, 'idea': 3762, 'probably': 6803, 'incredible': 3873, 'list': 4471, 'credentials': 1967, 'impressive': 3831, 'gpa': 3450, 'dropped': 2508, 'taught': 8361, 'open': 6214, 'source': 7940, 'wrangler': 9134, 'api': 653, 'parsing': 6375, 'cleaning': 1470, 'suite': 8234, 'render': 7268, 'useful': 8810, 'think': 8455, 'solved': 7921, 'javascript': 4185, 'experimenter': 2937, 'try': 8642, 'fail': 3020, 'expect': 2922, 'shipped': 7763, 'flopped': 3160, 'fearless': 3059, 'undefined': 8702, 'petabytes': 6516, 'don': 2465, 'frighten': 3270, 'tiny': 8490, 'crack': 1946, 've': 8878, 'broken': 1141, 'nut': 6062, 'ntwenty': 6026, 'started': 8072, 'smartest': 7869, 'met': 4766, 'nbasic': 5127, 'x9cstem': 9222, 'x9d': 9230, 'textual': 8435, 'contributing': 1839, 'ncapital': 5159, 'sponsoring': 8001, 'accuity': 343, 'established': 2815, '1999': 83, 'headquartered': 3592, 'mineola': 4817, 'york': 9269, 'currently': 2030, 'fiu': 3139, 'ny': 6115, 'city': 1446, 'powerful': 6681, 'anti': 641, 'money': 4898, 'laundering': 4344, 'enable': 2691, 'institutions': 4011, 'assess': 759, 'sbs': 7563, 'holistic': 3670, 'reaches': 7082, 'silos': 7808, 'combat': 1569, 'financial': 3109, 'crime': 1976, 'bad': 916, 'guys': 3531, 'miss': 4835, 'patented': 6406, 'ranking': 7059, 'probability': 6801, 'solves': 7923, 'kyc': 4304, 'diligence': 2310, 'supportive': 8269, 'earn': 2539, 'consistently': 1773, 'adhering': 410, 'applies': 669, 'extremely': 2989, 'door': 2467, 'policy': 6623, 'promote': 6872, 'furthering': 3309, 'coaching': 1520, 'nin': 5543, 'profiles': 6843, 'match': 4666, 'individual': 3895, 'names': 5043, 'entities': 2767, 'identified': 3770, 'suspected': 8286, 'affiliated': 477, 'terrorism': 8423, 'crimes': 1977, 'limited': 4453, 'suspicious': 8289, 'activity': 373, 'terrorist': 8424, 'respond': 7352, 'proactive': 6797, 'flexibility': 3153, 'alternate': 561, 'schedules': 7581, 'holidays': 3669, 'talk': 8347, 'min': 4811, 'bsa': 1153, 'usa': 8802, 'patriot': 6415, 'feel': 3074, 'drew': 2495, 'interested': 4060, 'send': 7693, 'boss': 1084, 'tightly': 8482, 'game': 3324, 'arm': 715, 'possible': 6656, 'players': 6593, 'successful': 8221, 'games': 3326, 'establish': 2814, 'ontology': 6211, 'player': 6592, 'motivations': 4925, 'gaming': 3328, 'presenting': 6748, 'disciplines': 2348, 'gateway': 3337, 'blend': 1036, 'louis': 4539, 'online': 6205, 'publisher': 6942, 'portfolio': 6638, 'readers': 7088, 'mysql': 4978, 'fulfill': 3281, 'requests': 7307, 'creation': 1960, 'oriented': 6281, 'clayton': 1468, 'missouri': 4840, 'standard': 8056, '40': 163, 'hour': 3702, 'nresponsibilities': 5882, 'interpreting': 4085, 'issue': 4167, 'inconsistencies': 3864, 'arise': 711, 'workflow': 9111, 'efficiency': 2613, 'acting': 363, 'gathering': 3342, 'focused': 3175, 'google': 3438, 'spreadsheet': 8011, 'sheets': 7753, 'advertising': 449, 'deadline': 2108, 'box': 1091, 'thinker': 8456, 'jira': 4197, 'trello': 8611, 'uniqueness': 8741, 'recruit': 7142, 'preference': 6719, 'military': 4807, 'physical': 6541, 'mental': 4744, 'categories': 1307, 'laws': 4351, 'privileges': 6794, 'live': 4482, 'breathe': 1119, 'fantastic': 3034, 'shop': 7769, 'innovator': 3972, 'subscriber': 8203, 'engagement': 2723, 'personalization': 6496, 'publishers': 6943, 'subscribers': 8204, 'sophisticated': 7930, 'easy': 2548, 'nimble': 5538, 'firm': 3130, 'disciplined': 2347, 'pro': 6796, 'wework': 9066, 'space': 7948, 'entirely': 2766, 'nprimary': 5802, 'nact': 5019, 'storehouses': 8127, 'available': 869, 'mechanisms': 4721, 'departments': 2190, 'ngather': 5488, 'refine': 7175, 'iterate': 4173, 'mock': 4863, 'prototypes': 6915, 'feedback': 3072, 'stakeholder': 8048, 'nassist': 5087, 'selection': 7676, 'nconsistently': 5220, 'milestones': 4806, 'deadlines': 2109, 'progress': 6855, 'traits': 8560, 'n5': 4998, 'ideally': 3764, 'nproven': 5826, 'workspace': 9122, 'strict': 8158, 'requirement': 7310, 'interpersonal': 4080, 'focusing': 3177, 'roles': 7459, 'seniority': 7695, 'helps': 3616, 'define': 2146, 'music': 4972, 'audio': 833, 'listeners': 4474, 'personalize': 6497, 'works': 9119, 'multidisciplinary': 4960, 'researchers': 7319, 'nyour': 6119, 'undertake': 8719, 'greater': 3484, 'lasting': 4332, 'interpret': 4081, 'exploratory': 2957, 'evaluate': 2840, 'root': 7469, 'causes': 1318, 'function': 3287, 'wider': 9079, 'coach': 1518, 'psychology': 6934, 'competence': 1636, 'scala': 7565, 'ggplot': 3395, 'metric': 4782, 'autonomously': 866, 'capable': 1249, 'taking': 8340, 'loosely': 4530, 'defined': 2147, 'translating': 8585, 'practical': 6694, 'communicative': 1614, 'colleagues': 1550, 'enjoys': 2744, 'teaching': 8370, 'writer': 9137, 'validation': 8849, 'specialist': 7967, 'importing': 3827, 'transforming': 8577, 'validating': 8848, 'purpose': 6962, 'regulatory': 7207, 'collaborates': 1541, 'stake': 8047, 'holders': 3664, 'file': 3096, 'imports': 3828, 'exports': 2963, 'warehouse': 9010, 'develops': 2259, 'response': 7356, 'assesses': 760, 'validates': 8847, 'vital': 8967, 'extracting': 2982, 'staff': 8041, 'monitors': 4904, 'submissions': 8194, 'submits': 8196, 'facilitate': 3005, 'courteous': 1936, 'responsive': 7362, 'respectful': 7346, 'developed': 2252, 'adaptable': 388, 'vba': 8877, 'ethical': 2824, 'speech': 7985, 'hearing': 3602, 'sufficient': 8225, 'comprehend': 1675, 'express': 2966, 'sit': 7831, 'generous': 3373, 'fitness': 3137, 'partially': 6377, 'funded': 3298, 'hsa': 3721, 'extended': 2971, 'sick': 7791, 'short': 7776, 'balance': 921, 'eap': 2534, '________________________________________________': 268, 'nascentia': 5080, 'post': 6658, 'acute': 383, 'headquarters': 3593, 'featuring': 3066, 'walls': 9002, 'concept': 1694, 'serving': 7723, 'homes': 3677, 'true': 8635, 'immediate': 3797, 'positive': 6647, 'lifestyle': 4439, 'choices': 1422, 'avoid': 877, 'unnecessary': 8764, 'visits': 8958, 'busy': 1183, 'facilities': 3009, 'greatest': 3485, 'asset': 764, 'premier': 6724, 'regions': 7192, 'excited': 2884, 'pride': 6770, 'eoe': 2782, 'negative': 5353, 'pre': 6702, 'drug': 2509, 'screen': 7615, 'verb': 8889, 'surgical': 8278, 'johnson': 4207, 'joint': 4213, 'venture': 8886, 'clinicians': 1498, 'hospitals': 3695, 'patients': 6413, 'scenes': 7578, 'procedure': 6807, 'video': 8922, 'robot': 7448, 'sensors': 7700, 'interacting': 4053, 'experimenting': 2938, 'collected': 1552, 'finding': 3114, 'leveraging': 4414, 'annotation': 626, 'integrate': 4031, 'collaborations': 1544, 'images': 3790, 'clustering': 1512, 'tree': 8609, 'advantages': 443, 'drawbacks': 2488, 'distributions': 2416, 'manipulate': 4614, 'coordinating': 1875, 'electrical': 2632, 'biomedical': 1023, 'nverb': 6077, 'surgery': 8277, 'unimagined': 8733, 'ago': 506, 'involve': 4143, 'robotic': 7449, 'instrumentation': 4017, 'aims': 521, 'lower': 4545, 'costs': 1916, 'hospital': 3693, 'founded': 3234, 'funding': 3300, 'verily': 8898, 'ethicon': 2826, 'device': 2260, 'continue': 1822, 'partnership': 6391, 'advance': 436, 'capabilities': 1247, 'surgeons': 8276, 'area': 708, 'excellence': 2874, 'blue': 1052, 'shield': 7756, 'illinois': 3782, 'mexico': 4786, 'montana': 4906, 'oklahoma': 6190, 'texas': 8431, 'spend': 7988, 'approximately': 689, 'quarter': 7013, 'promoting': 6874, 'organizing': 6279, 'broader': 1137, 'largest': 4330, 'owned': 6328, 'profit': 6845, 'insurer': 4022, 'fourth': 3238, 'massive': 4661, 'affect': 472, 'delivered': 2165, 'nan': 5046, 'loves': 4543, 'demonstrates': 2181, 'possesses': 6652, 'intersection': 4091, 'employing': 2682, 'adoption': 430, 'add': 393, 'derive': 2211, 'explain': 2945, 'feasible': 3062, 'physics': 6544, 'actuarial': 378, 'credential': 1966, 'style': 8186, 'distributed': 2411, 'computing': 1689, 'bachelors': 904, 'significant': 7804, 'chicago': 1410, 'il': 3780, 'nrelocation': 5863, 'nsponsorship': 5947, 'hcsc': 3586, 'free': 3254, 'smoke': 7875, 'screening': 7616, 'investigation': 4128, 'allowed': 551, 'h4': 3537, 'disabled': 2337, 'website': 9038, 'request': 7304, 'note': 5727, 'returned': 7396, 'resumes': 7379, 'submitted': 8198, 'line': 4457, 'navigate': 5111, 'account': 333, 'click': 1487, 'view': 8926, 'x9cpeople': 9212, 'personify': 6502, 'anxious': 648, 'abounds': 281, 'aimbridge': 518, 'nmines': 5646, 'analyzes': 611, 'enhancing': 2739, 'typically': 8669, 'requires': 7312, 'authority': 847, 'pertaining': 6509, 'hospitality': 3694, 'authoritative': 846, 'organizes': 6278, 'guides': 3525, 'subordinate': 8200, 'mgnt': 4787, 'beneficial': 985, 'linear': 4458, 'projection': 6864, 'situation': 7837, 'performs': 6466, 'improving': 3838, 'answering': 639, 'intended': 4045, 'details': 2239, 'specified': 7980, 'signed': 7802, 'nmedical': 5639, 'n401k': 4997, 'retirement': 7387, 'nshort': 5924, 'income': 3859, 'nterm': 5992, 'nvacation': 6071, 'holiday': 3668, 'nemployee': 5360, 'specific': 7976, 'goby': 3428, 'ap': 650, 'esg': 2806, 'reshape': 7327, 'boost': 1073, '140': 47, '51': 185, 'countries': 1925, 'seeks': 7662, 'ambitious': 573, 'acquiring': 358, 'configuring': 1732, 'refining': 7176, 'acquire': 355, 'macros': 4571, 'templates': 8404, 'possess': 6651, 'sustainability': 8291, 'energy': 2716, 'aptitude': 695, 'willingness': 9083, 'spirit': 7994, 'worker': 9109, 'attitude': 818, 'particularly': 6384, 'star': 8068, 'backed': 907, 'casual': 1300, 'dress': 2494, 'loop': 4528, 'amenities': 578, 'foosball': 3183, 'ping': 6558, 'pong': 6630, 'tables': 8323, 'private': 6792, 'outdoor': 6295, 'patio': 6414, 'club': 1509, 'golf': 3433, 'simulator': 7822, 'eligible': 2645, 'visa': 8947, 'sponsorship': 8003, 'engineer': 2728, 'supplying': 8265, 'fellow': 3079, 'hql': 3713, 'presentations': 6746, 'resporting': 7364, 'brainstorm': 1100, 'months': 4912, 'minitab': 4826, 'directed': 2323, 'scrum': 7623, 'corporation': 1894, 'affiliates': 478, 'collectively': 1557, 'x9csg': 9220, 'engaged': 2722, 'regulated': 7204, 'lottery': 4536, 'businesses': 1181, 'certain': 1349, 'obtain': 6144, 'undergo': 8703, 'investigations': 4129, 'dictated': 2284, 'regulation': 7205, 'complies': 1663, 'commitments': 1598, 'condition': 1714, 'continuing': 1825, 'prerequisite': 6736, 'extent': 2976, 'permitted': 6483, 'shall': 7739, 'asked': 744, 'consent': 1758, 'conducting': 1718, 'interpreted': 4084, 'major': 4588, 'requested': 7305, 'stated': 8081, 'does': 2453, 'x99d': 9182, 'rights': 7430, '67': 209, '968': 260, '126': 40, '062': 11, 'cia': 1432, 'makers': 4592, 'shape': 7740, 'investments': 4135, 'specialized': 7972, 'hardware': 3564, 'conclusions': 1709, 'sponsored': 8000, 'academic': 299, 'conferences': 1723, 'h5': 3538, 'offices': 6178, 'directorate': 2330, 'ddi': 2106, 'forefront': 3197, 'defining': 2149, 'focuses': 3176, 'investing': 4133, 'infrastructure': 3942, 'modernizing': 4882, 'officers': 6177, 'integration': 4035, 'cyber': 2049, 'ultimately': 8686, 'safeguard': 7513, 'nation': 5093, 'nlife': 5604, 'comprehensive': 1677, 'package': 6340, 'altering': 560, 'happen': 3553, 'isn': 4161, 'dual': 2518, 'citizens': 1444, 'relocation': 7253, 'dc': 2104, 'metro': 4784, 'nminimum': 5648, 'stem': 8101, 'geospatial': 3390, 'thesis': 8452, 'internships': 4078, 'initiative': 3958, 'sub': 8189, 'incomplete': 3861, 'psychological': 6933, 'exam': 2866, 'polygraph': 6629, 'interview': 4096, 'considered': 1767, 'suitable': 8233, 'generally': 3363, 'illegal': 3781, 'drugs': 2510, 'carefully': 1271, 'evaluated': 2841, 'student': 8177, 'administers': 419, 'advising': 454, 'incumbent': 3878, 'essc': 2811, 'study': 8182, 'encompass': 2697, 'experimental': 2934, 'feasibility': 3061, 'assessment': 762, 'sampling': 7533, 'proof': 6880, 'reliability': 7240, 'employed': 2677, 'generated': 3365, 'emphasizing': 2673, 'ndeveloper': 5295, 'ngoal': 5497, 'script': 7618, 'imported': 3826, 'choose': 1423, 'predictions': 6712, 'nmust': 5665, 'american': 581, 'citizen': 1443, 'noverview': 5742, 'built': 1169, 'features': 3065, 'bug': 1163, 'fixing': 3143, 'nself': 5911, 'automates': 857, 'collaborating': 1542, 'skype': 7851, 'title': 8494, 'dig': 2302, 'figure': 3093, 'matters': 4685, 'numo': 6042, 'incubate': 3877, 'fintech': 3129, 'minded': 4813, 'wants': 9008, 'stage': 8043, 'sits': 7835, 'fuzzy': 3313, 'pipeline': 6565, 'partnering': 6389, 'academics': 300, 'wizard': 9096, 'combination': 1570, 'digging': 2306, 'novel': 5739, 'turn': 8652, 'commercializable': 1593, 'horsepower': 3690, 'bear': 954, 'ambiguous': 570, 'prototype': 6914, 'actually': 377, 'fit': 3136, 'allow': 550, 'gather': 3340, 'soon': 7929, 'necessarily': 5337, 'stewarding': 8107, 'launch': 4341, 'going': 3430, 'angles': 618, 'sound': 7938, 'ideate': 3766, 'outline': 6301, 'objectives': 6132, 'limitations': 4452, 'table': 8321, 'demonstrating': 2182, 'stata': 8079, 'coder': 1525, 'operate': 6223, 'quickly': 7030, 'technologists': 8389, 'thinkers': 8457, 'pair': 6349, 'parent': 6367, 'institution': 4009, 'x94we': 9176, 'pains': 6348, 'cool': 1867, 'bakery': 920, 'square': 8018, 'addresses': 402, 'slack': 7855, 'comfortable': 1582, 'informed': 3937, 'visibility': 8948, 'craft': 1947, 'integrations': 4036, 'enables': 2694, 'nslack': 5935, 'look': 4521, 'inventive': 4117, 'aim': 517, 'humble': 3733, 'sounds': 7939, 'say': 7559, 'hello': 3611, 'roadmaps': 7446, 'deepen': 2135, 'uncover': 8699, 'scaled': 7570, 'empower': 2685, 'grasp': 3481, 'probabilities': 6800, 'consulting': 1796, 'layer': 4354, 'brings': 1134, 'hundreds': 3736, 'thousands': 8465, '100': 17, 'corner': 1889, 'markets': 4647, 'kinds': 4275, 'san': 7536, 'francisco': 3250, 'ca': 1199, 'connected': 1747, 'visit': 8953, 'nensuring': 5373, 'backgrounds': 910, 'pleasant': 6599, 'ncome': 5197, 'beautiful': 957, 'santa': 7541, 'barbara': 931, 'hg': 3623, 'intelligent': 4043, 'mandate': 4609, 'install': 4000, 'sweat': 8300, 'run': 7502, 'blocks': 1044, 'away': 886, 'riding': 7426, 'bikes': 1010, 'lunch': 4560, 'funk': 3303, 'zone': 9285, 'hanging': 3552, 'spaces': 7950, 'seriously': 7713, 'surf': 8273, 'dataset': 2084, 'enhancements': 2737, 'curation': 2023, 'gained': 3318, 'impactful': 3809, 'achievement': 348, 'departmental': 2189, 'comprehensively': 1678, 'rule': 7499, 'guide': 3521, 'systematic': 8318, 'associated': 778, 'demand': 2170, 'tokens': 8503, 'final': 3104, 'determines': 2247, 'mrf': 4941, 'qc': 6984, 'cycle': 2051, 'control': 1844, 'input': 3975, 'bpo': 1094, 'outsource': 6313, 'centers': 1341, 'output': 6308, 'append': 659, 'athena': 793, 'translate': 8583, 'created': 1957, 'ethics': 2827, 'confidence': 1725, 'betterment': 993, 'reading': 7090, 'comprehension': 1676, 'immediately': 3798, 'haves': 3578, 'h1': 3533, 'nreporting': 5866, 'ninterviews': 5571, 'october': 6158, '2018': 106, 'march': 4636, '11': 30, 'mid': 4795, 'june': 4239, 'august': 841, 'september': 7708, 'denver': 2187, '17th': 60, '16': 53, 'nbased': 5126, 'interests': 4062, 'interns': 4076, 'arrow': 726, 'electronics': 2635, 'narrow': 5075, 'electronic': 2633, 'channel': 1377, '150': 49, '000': 1, 'original': 6283, 'equipment': 2790, 'manufacturers': 4623, 'resellers': 7322, 'network': 5392, '300': 136, '45': 171, 'distribution': 2414, '80': 229, '113': 32, '18': 61, '800': 230, 'worldwide': 9129, 'breadth': 1111, 'telecommunications': 8396, 'connecting': 1748, 'price': 6767, 'suppliers': 8262, 'connects': 1753, 'nhands': 5505, 'nchance': 5172, '125': 39, 'nsmall': 5936, 'forums': 3225, 'nstretch': 5962, 'directors': 2331, 'nfunctional': 5486, 'drivers': 2503, 'definition': 2151, 'profile': 6842, 'ncurrently': 5253, 'enrolled': 2748, 'pursuing': 6966, 'graduation': 3463, 'date': 2090, 'earlier': 2536, 'december': 2119, 'navailable': 5110, 'n3': 4993, 'multitask': 4965, 'ndetail': 5290, 'ncompensation': 5205, 'nlocation': 5612, 'ndenver': 5280, 'panorama': 6354, 'ntime': 6006, 'category': 1310, 'nnon': 5677, 'supplier': 8261, 'westrock': 9063, 'nwestrock': 6093, 'nyse': 6121, 'wrk': 9141, 'differentiated': 2297, 'paper': 6356, 'packaging': 6342, 'win': 9084, 'marketplace': 4645, '50': 179, '320': 147, 'operating': 6225, 'spanning': 7953, 'north': 5721, 'south': 7944, 'europe': 2836, 'asia': 742, 'australia': 843, 'atlanta': 798, 'n1000': 4983, 'abernathy': 276, 'rd': 7078, 'ne': 5331, 'natlanta': 5098, 'georgia': 3389, '30328': 137, 'nunited': 6050, 'nrequisition': 5875, '8954': 246, '1000': 18, 'road': 7443, 'unanticipated': 8689, 'formulate': 3220, 'optimizing': 6248, 'formulation': 3221, 'save': 7554, 'predicting': 6710, 'setup': 7730, 'transformation': 8573, 'briefings': 1125, 'researches': 7320, 'telecommuting': 8397, 'accept': 307, 'offered': 6171, 'occupation': 6152, 'cplex': 1944, 'ampl': 592, 'opl': 6237, 'chain': 1362, 'ncontact': 5223, 'mail': 4578, 'requisition': 7314, 'attn': 820, 'stephanie': 8103, 'davis': 2093, 'nredjack': 5856, 'protect': 6906, 'enterprises': 2759, 'resilience': 7332, 'curriculum': 2031, 'complied': 1662, 'rust': 7507, 'ruby': 7497, 'accomplished': 327, 'pc': 6432, 'osx': 6290, 'redjack': 7154, 'reserve': 7324, 'stimulating': 8112, 'feels': 3075, 'positioned': 6645, 'ends': 2711, 'lost': 4534, 'uninformed': 8734, 'eventually': 2853, 'paying': 6424, 'nthat': 5995, 'vim': 8936, 'x94': 9163, 'npatients': 5757, 'doctors': 2445, 'reduce': 7158, 'burden': 1175, 'afford': 482, 'nvim': 6082, 'providers': 6924, 'populations': 6635, 'transfer': 8569, 'sftp': 7736, 'documenting': 2449, 'cmo': 1514, 'justify': 4246, 'sensitive': 7697, 'ingest': 3947, 'map': 4626, 'enrich': 2746, 'consumers': 1800, 'majority': 4589, 'unfortunately': 8726, 'executing': 2896, 'crafting': 1949, 'distilling': 2405, 'resiliency': 7333, 'face': 3000, 'insufficient': 4020, 'prioritizing': 6789, 'enthusiastic': 2764, 'learner': 4374, 'timelines': 8485, 'certainly': 1350, 'emr': 2690, 'git': 3405, 'tel': 8392, 'aviv': 876, 'greatpoint': 3488, 'ventures': 8887, 'optum': 6252, 'sequoia': 7711, 'israel': 4165, 'bcbs': 951, 'payers': 6423, 'motiion': 4920, 'food': 3182, 'merit': 4760, 'fostering': 3229, 'accountability': 335, 'previously': 6766, 'scattered': 7575, 'inconsistently': 3866, 'waste': 9018, 'freshness': 3262, 'answers': 640, 'bolster': 1067, 'dive': 2422, 'geographical': 3385, 'boxes': 1092, 'aspire': 751, 'signs': 7806, 'ntoolbox': 6009, 'artificial': 736, 'intuitively': 4113, 'shortlist': 7778, 'nunderstanding': 6046, 'termimpact': 8418, 'x9cbang': 9192, 'buck': 1156, 'nperformance': 5765, 'recognized': 7120, 'nstarter': 5954, 'finisher': 3124, 'solution': 7917, 'collaborators': 1547, 'far': 3035, 'ethic': 2823, 'unquestioned': 8769, 'sustainable': 8292, 'ndisciplined': 5303, 'reliable': 7241, 'hit': 3650, 'snag': 7882, 'reset': 7326, 'ncollaborative': 5192, 'strengths': 8153, 'nappreciation': 5064, 'honest': 3680, 'constructive': 1788, 'kindly': 4274, 'ambiguity': 569, 'nanalytical': 5048, 'mind': 4812, 'precise': 6703, 'acceptable': 309, 'absolutely': 285, 'main': 4581, 'spending': 7989, 'rest': 7365, 'outlast': 6298, 'achieving': 351, 'founders': 3236, 'scratch': 7614, 'painful': 6347, 'proud': 6917, 'invested': 4123, 'eyes': 2993, 'priorities': 6784, 'nremote': 5864, 'catch': 1306, 'comes': 1580, 'vastly': 8875, 'outnumber': 6304, 'disadvantages': 2338, 'speaking': 7964, 'dozens': 2479, 'shown': 7783, 'obstacle': 6142, 'half': 3543, 'mean': 4704, 'pay': 6420, 'prefer': 6716, 'encourage': 2700, 'regularly': 7203, 'interaction': 4054, 'npersonal': 5770, 'seen': 7664, 'devolve': 2263, 'empire': 2674, 'contributors': 1843, 'nbenefits': 5133, 'notch': 5726, 'vacation': 8838, 'nauvera': 5108, 'intricately': 4104, 'involved': 4144, 'methodical': 4773, 'theoretical': 8445, 'devise': 2262, 'sw': 8299, 'architecture': 702, 'saas': 7510, 'postgress': 6665, 'titan': 8493, 'casandra': 1290, 'rails': 7043, 'elastic': 2625, 'angular': 620, 'storm': 8131, 'contributed': 1837, 'articulate': 732, 'nplease': 5779, 'kids': 4270, 'namikids': 5044, 'served': 7715, '136': 45, 'families': 3031, '1969': 74, 'amikids': 586, 'means': 4708, 'youth': 9271, 'productive': 6828, 'public': 6936, 'safety': 7517, 'positively': 6648, 'communities': 1616, 'separating': 7707, 'troubled': 8629, 'bright': 1127, 'guiding': 3526, 'principles': 6778, 'honesty': 3681, 'enthusiasm': 2762, 'loyalty': 4549, 'dedication': 2132, 'nnow': 5683, 'step': 8102, 'aggregation': 499, 'affiliate': 476, 'institutes': 4008, 'distributing': 2413, 'comparison': 1628, 'sis': 7828, 'distribute': 2410, 'reoccurring': 7272, 'kid': 4269, 'count': 1923, 'indicator': 3891, 'frequently': 3260, 'conduction': 1719, 'charts': 1393, 'papers': 6357, 'disseminate': 2400, 'literature': 4480, 'regional': 7191, 'codes': 1526, 'comparing': 1627, 'special': 7966, 'juvenile': 4247, 'justice': 4245, 'criminology': 1979, 'verbally': 8891, 'listen': 4473, 'groups': 3502, 'valid': 8844, 'meets': 4733, 'cdl': 1326, 'std': 8098, 'union': 8736, 'minorities': 4829, 'females': 3083, 'veterans': 8911, 'xj6': 9258, 'footprint': 3186, 'acquisitions': 360, 'autodesk': 854, 'equipped': 2791, 'revolutionize': 7409, 'close': 1501, 'sync': 8309, 'nautodesk': 5107, 'accessible': 317, 'simplify': 7819, 'complexity': 1659, 'trying': 8643, 'measurements': 4715, 'ndesign': 5285, 'intuitive': 4112, 'disparate': 2384, 'housed': 3706, 'numerous': 6041, 'optimal': 6242, 'extraction': 2983, 'loading': 4494, 'outlets': 6299, 'sfdc': 7735, 'domo': 2464, 'delivery': 2168, 'mba': 4695, 'manipulation': 4617, 'pyspark': 6977, 'dataframes': 2074, 'nbroad': 5143, 'nprior': 5803, 'nprofessional': 5815, 'ninternships': 5568, 'runs': 7504, 'x93august': 9160, 'interviewing': 4097, 'january': 4182, 'rolling': 7462, 'recruiter': 7143, 'didn': 2288, 'x99t': 9186, 'nabout': 5010, 'nwith': 6103, 'radical': 7041, 'disrupting': 2397, 'entertainment': 2761, 'disruption': 2398, 'architects': 700, 'artists': 737, 'hobbyists': 3660, 'dimensions': 2314, 'ultimate': 8685, 'expand': 2917, 'imagine': 3793, 'considers': 1769, 'regardless': 7186, 'criminal': 1978, 'histories': 3648, 'consistent': 1772, 'recruitment': 7146, 'unsolicited': 8773, 'headhunter': 3591, 'fees': 3076, 'agreement': 509, 'nutilize': 6064, 'calculated': 1210, 'columns': 1567, 'purchase': 6958, 'series': 7712, 'flows': 3165, 'teradata': 8416, 'recommendation': 7124, 'random': 7052, 'forest': 3200, 'vector': 8879, 'metadata': 4768, 'frontend': 3271, 'developer': 2253, 'designer': 2227, 'shopping': 7772, 'deploying': 2203, 'promotion': 6875, 'nanalyze': 5050, 'behaviors': 969, 'customized': 2044, 'modified': 4884, 'desktop': 2236, 'ncollect': 5193, 'categorize': 1309, 'optimized': 6246, 'geographic': 3384, 'shopper': 7770, 'sessions': 7724, 'implications': 3821, 'nconsult': 5221, 'admin': 416, 'configuration': 1729, 'frame': 3242, 'scenarios': 7577, '57': 193, '85': 238, 'labs': 4312, 'gpl': 3451, 'evidence': 2858, 'andrew': 615, 'young': 9270, 'studies': 8179, 'policymakers': 6624, 'policies': 6622, 'addressing': 403, 'pressing': 6754, 'decide': 2120, 'promising': 6871, 'scarce': 7573, 'comprises': 1681, 'lab': 4307, 'exchange': 2880, 'child': 1414, 'children': 1416, 'officials': 6180, 'constituents': 1783, 'conscientious': 1755, 'hold': 3662, 'economic': 2567, 'micro': 4792, 'toolkit': 8514, 'encouraged': 2701, 'scope': 7602, 'nclean': 5180, 'uniformity': 8730, 'readiness': 7089, 'purposes': 6963, 'napply': 5062, 'x94including': 9169, 'x94to': 9175, 'nwrite': 6109, 'nperform': 5764, 'ndisclaimer': 5304, 'exclusive': 2889, 'discretion': 2367, 'ncollege': 5196, 'ndepartment': 5281, 'campus': 1235, 'nshift': 5922, '30': 135, 'pm': 6611, 'monday': 4896, 'friday': 3265, 'npay': 5760, 'grade': 3454, 'nflsa': 5467, 'posting': 6667, '03': 8, '25': 123, '19': 64, '17': 56, '33': 148, 'nclosing': 5185, '04': 10, '59': 196, '00': 0, 'governmental': 3447, 'nmaster': 5634, 'degrees': 2154, 'mastery': 4665, 'gis': 3404, 'helpful': 3614, 'lay': 4353, 'nspecial': 5943, 'samples': 7532, 'references': 7170, 'filled': 3100, 'reviewed': 7405, 'april': 694, 'board': 1056, 'requisitions': 7315, 'removed': 7267, 'notice': 5732, 'expires': 2944, 'brightest': 1128, 'minds': 4815, 'futuristic': 3312, 'researching': 7321, 'groundbreaking': 3499, 'influencing': 3922, 'retail': 7380, 'contributions': 1841, 'reinvent': 7216, 'guests': 3518, 'responsib': 7358, 'nle': 5594, 'nosql': 5725, 'text': 8432, 'drives': 2504, 'xbb': 9251, 'algorithmic': 537, 'recommender': 7127, 'filtering': 3102, 'msc': 4947, 'stream': 8144, 'rf': 7417, 'generalized': 3362, 'naive': 5036, 'bayes': 949, 'empirical': 2675, 'analytos': 607, 'challenge': 1364, 'neventbrite': 5404, 'bustling': 1182, 'ticket': 8474, 'seconds': 7643, 'goes': 3429, 'smoothly': 7878, 'organizers': 6277, 'attendees': 814, 'happens': 3554, 'reliably': 7242, 'knowing': 4289, 'low': 4544, 'precision': 6704, 'landscape': 4320, 'threats': 8467, 'disciplinary': 2345, 'ranging': 7056, 'chargeback': 1385, 'specialists': 7968, 'keeping': 4256, 'eventbrite': 2851, 'vigilant': 8934, 'terms': 8422, 'needle': 5345, 'gets': 3393, 'pulled': 6947, 'haystack': 3580, 'spam': 7951, 'detection': 2241, 'nitty': 5580, 'gritty': 3495, 'gaps': 3331, 'decisioning': 2122, 'ship': 7762, 'exactly': 2865, 'envisioned': 2779, 'skill': 7844, 'fluency': 3168, 'accurately': 346, 'gt': 3510, 'comfort': 1581, 'messy': 4765, 'bonus': 1068, 'payments': 6426, 'powering': 6682, 'allows': 553, 'share': 7743, 'attend': 812, 'festivals': 3084, 'marathons': 4634, 'hackathons': 3540, 'political': 6626, 'rallies': 7048, 'fundraisers': 3301, 'competitions': 1642, 'nis': 5576, 'exact': 2864, 'nsign': 5929, 'touch': 8528, 'let': 4404, 'ancestry': 613, 'childbirth': 1415, 'conditions': 1715, 'registered': 7193, 'domestic': 2462, 'caregiver': 1272, 'transgender': 8579, 'stereotypes': 8105, 'affiliation': 479, 'victim': 8919, 'violence': 8938, 'assault': 755, 'stalking': 8050, 'npursuant': 5831, 'ordinance': 6264, 'arrest': 724, 'conviction': 1862, 'records': 7139, 'restaurant': 7366, 'newest': 5409, 'increased': 3870, 'transactional': 8563, 'importantly': 3825, 'nbecome': 5129, 'nprovide': 5827, 'drawing': 2489, 'nexplain': 5439, 'ncollaborate': 5189, 'exercises': 2904, 'retention': 7386, 'ntrack': 6013, 'campaign': 1232, 'nincrease': 5545, 'roi': 7457, 'kobie': 4295, 'rewards': 7415, 'fulfillment': 3283, 'ton': 8507, 'fresh': 3261, 'embrace': 2660, 'rapidly': 7062, 'crm': 1988, 'manipulating': 4616, 'spss': 8015, 'ols': 6194, 'logistic': 4511, 'trees': 8610, 'relate': 7219, 'ndemonstrated': 5277, 'rfm': 7418, 'cluster': 1511, 'targeted': 8355, 'stand': 8054, 'nsas': 5902, 'miner': 4818, 'viya': 8968, 'nretail': 5887, 'telecom': 8394, 'twice': 8662, 'ok': 6188, 'ryerson': 7508, 'son': 7927, 'metals': 4769, 'distributors': 2418, 'recently': 7114, 'celebrated': 1330, '176th': 58, 'anniversary': 624, 'canada': 1237, 'china': 1417, 'lisle': 4470, 'nexpected': 5433, 'circumstances': 1439, 'cognos': 1534, 'engine': 2727, 'pertinent': 6511, 'accounting': 338, 'treasury': 8603, 'newly': 5410, 'tactical': 8331, 'demands': 2172, 'anticipated': 644, 'oracle': 6253, 'learned': 4373, 'progressive': 6859, 'matriculation': 4681, 'logical': 4509, 'creatively': 1963, 'envision': 2778, 'cumulative': 2019, 'intellectual': 4040, 'pivot': 6569, 'vlookups': 8971, '969': 261, '756': 224, 'professors': 6838, 'dana': 2060, 'mukamel': 4955, 'kai': 4250, 'zheng': 9281, 'calmhsa': 1223, 'inn': 3963, 'statewide': 8085, 'chatting': 1398, 'faculty': 3019, 'variables': 8862, 'describing': 2217, 'apps': 691, 'irvine': 4158, 'advancing': 441, 'covered': 1940, 'uc': 8674, 'nondiscrimination': 5694, '58': 195, '755': 223, '83': 233, 'ntotal': 6011, 'ncontract': 5229, 'nfinal': 5460, 'subcontracts': 8190, 'attach': 806, 'announcement': 628, 'bank': 926, 'silicon': 7807, 'valley': 8852, 'clara': 1455, 'mateo': 4670, 'counties': 1924, 'nfood': 5472, 'banks': 928, 'average': 872, '260': 125, 'nharvest': 5507, '1974': 77, 'immense': 3799, 'nsilicon': 5931, 'partly': 6386, 'living': 4489, 'malnutrition': 4597, 'pervasive': 6513, 'ndistributes': 5311, 'nutritious': 6070, 'nthrough': 6005, '309': 138, 'nonprofit': 5698, '985': 265, 'feed': 3071, 'hungry': 3740, 'nadvocates': 5033, 'nutrition': 6067, 'nresources': 5881, 'shfb': 7755, 'nsecond': 5907, 'nusing': 6061, 'floor': 3159, 'nreach': 5848, 'ndifferent': 5299, 'nfind': 5462, 'willing': 9082, 'roll': 7460, 'nup': 6053, 'sleeves': 7858, 'nwill': 6100, 'selected': 7674, 'mapping': 4628, 'deriving': 2213, 'storage': 8123, 'fields': 3090, 'preparing': 6735, 'demonstrated': 2180, 'orally': 6256, 'eagerness': 2533, '750': 222, 'curtner': 2032, 'ave': 870, 'jose': 4215, '95125': 258, 'occasional': 6149, 'evenings': 2849, 'commensurate': 1589, 'fto': 3277, 'starting': 8075, 'nholidays': 5519, 'savings': 7557, 'represented': 7295, 'international': 4073, 'dsi': 2514, 'preclinical': 6705, 'physiological': 6545, 'telemetry': 8398, 'pulmonary': 6950, 'allowing': 552, 'treatments': 8608, 'trials': 8618, 'inspiration': 3992, 'openly': 6217, 'organizations': 6274, 'shunned': 7786, 'relationship': 7226, 'latitude': 4339, 'judgment': 4231, 'npassionate': 5755, 'certification': 1354, 'cbap': 1320, 'pba': 6430, 'cma': 1513, 'id': 3761, 'nreq6316': 5870, 'openings': 6216, 'n6': 5000, 'nregular': 5857, 'nfirst': 5463, 'nnot': 5680, 'ndallas': 5257, 'tx': 8665, 'phoenix': 6538, 'az': 893, 'bloomington': 1050, 'representation': 7291, 'clearer': 1480, 'viewer': 8929, 'ninvestigates': 5574, 'initiates': 3956, 'nworks': 6107, 'nidentifies': 5531, 'extend': 2970, 'nmanages': 5629, 'napplies': 5061, 'theories': 8446, 'ndevelops': 5298, 'contacts': 1805, 'obtaining': 6146, 'emergent': 2666, 'ncontributes': 5231, 'farm': 3037, 'publications': 6938, 'articles': 731, 'journals': 4220, 'select': 7673, 'inferential': 3915, 'generative': 3370, 'discriminative': 2373, 'repositories': 7288, 'nassists': 5089, 'nprepares': 5798, 'manipulates': 4615, 'fundamental': 3295, 'uses': 8813, '95': 257, 'engage': 2721, 'nimplementing': 5540, 'identification': 3769, 'proposal': 6891, 'ns': 5897, 'kills': 4271, 'hypotheses': 3747, 'probable': 6802, 'recognition': 7118, 'pull': 6946, 'rdbms': 7079, 'hierarchical': 3626, 'boosting': 1075, 'forests': 3202, 'exercise': 2903, 'diagnose': 2275, 'ci': 1431, 'cd': 1323, 'docker': 2440, 'nmultiple': 5664, 'dallas': 2058, 'mv1': 4974, 'nmon18': 5654, 'nsfarm': 5917, 'npm18': 5780, 'invitae': 4138, 'envisions': 2780, 'genomic': 3377, 'sequencing': 7710, 'routinely': 7480, 'informs': 3939, 'lifelong': 4438, 'catalyze': 1304, 'operates': 6224, 'meritocracy': 4761, 'intently': 4050, 'ncustomer': 5254, 'iteration': 4175, 'counselors': 1922, 'medicine': 4725, 'leads': 4368, 'tackling': 8328, 'perfectly': 6459, 'hesitate': 3620, 'prominent': 6869, 'custom': 2037, 'intuition': 4111, 'extensive': 2975, 'russian': 7506, 'kaplan': 4252, 'meaningfully': 4707, 'converse': 1854, 'exist': 2909, 'apis': 654, 'nature': 5104, 'factors': 3017, 'synthesize': 8315, 'distill': 2404, 'nminimal': 5647, 'lt': 4555, 'meetings': 4732, 'visually': 8965, 'courageous': 1930, 'accountable': 336, 'querying': 7020, 'toolsets': 8519, 'srrs': 8023, 'slide': 7859, 'gemba': 3357, 'a3': 270, 'mdi': 4703, 'nationwide': 5096, '00079': 3, 'nsierra': 5927, 'nevada': 5403, 'ncontext': 5224, 'herndon': 3619, 'va': 8835, 'scrub': 7622, 'horizontal': 3688, 'agent': 493, 'pushing': 6971, 'copious': 1881, 'nsuccessful': 5967, 'telling': 8402, 'snc': 7884, 'ipdp': 4151, 'protocol': 6912, 'layout': 4358, 'originate': 6284, 'material': 4671, 'periodic': 6471, 'estimates': 2820, 'labor': 4309, 'dollars': 2459, 'accomplish': 326, 'standardize': 8059, 'criteria': 1983, 'punctuality': 6956, 'prepared': 6733, 'adherence': 408, 'regulations': 7206, 'descriptions': 2220, 'meant': 4709, 'summarizations': 8238, 'reflect': 7177, 'pursuit': 6967, 'notices': 5733, 'disco': 2355, 'handles': 3548, 'adjudicates': 412, 'allegiance': 545, 'foreign': 3198, 'violations': 8937, 'conform': 1740, 'export': 2961, 'lawful': 4347, 'permanent': 6479, 'resident': 7329, '1324b': 44, 'authorizations': 849, 'sierra': 7794, 'minority': 4830, 'female': 3082, 'pursuant': 6964, 'vance': 8857, 'al': 527, 'hr': 3715, 'extra': 2979, 'night': 5534, 'rotate': 7473, 'nreviewing': 5890, 'vehicle': 8881, 'closed': 1502, 'inqa': 3977, 'stamp': 8051, 'properly': 6888, 'stamped': 8052, 'oversees': 6323, 'yard': 9262, 'sorters': 7935, 'repair': 7275, 'assembly': 758, 'automotive': 864, 'nworking': 6106, 'nadept': 5028, 'nenvironmental': 5376, 'nregularly': 5858, 'stands': 8064, 'bends': 984, 'lifts': 4444, 'moves': 4933, 'intermittently': 4069, 'shifts': 7759, 'usually': 8820, 'moderate': 4875, 'nmay': 5638, 'inclement': 3851, 'weather': 9035, 'offering': 6172, 'pass': 6395, 'sports': 8006, 'kagr': 4249, 'additionally': 399, 'nkraft': 5593, 'comprised': 1680, 'brilliant': 1131, 'proprietary': 6897, 'leagues': 4369, 'athletics': 797, 'technically': 8381, 'ceo': 1346, 'jessica': 4194, 'gelman': 3356, 'basketball': 944, 'court': 1935, 'room': 7466, 'overlooks': 6320, 'gillette': 3403, 'stadium': 8040, 'scrape': 7609, 'compile': 1646, 'putting': 6973, 'reinforcement': 7213, 'association': 780, 'rules': 7501, 'handling': 3549, 'scraping': 7611, 'sitting': 7836, 'periods': 6473, 'dexterity': 2269, 'fingers': 3121, 'keyboard': 4265, 'mouse': 4931, 'hear': 3600, 'occasionally': 6150, 'arms': 718, 'distance': 2402, 'peripheral': 6474, 'perception': 6456, 'adjust': 413, 'certificates': 1353, 'contain': 1806, 'listing': 4477, 'nposted': 5787, 'mar': 4633, '114157802': 33, 'nwireless': 6101, 'ecosystems': 2573, 'apple': 661, 'fielding': 3089, 'wireless': 9090, 'viable': 8915, 'invent': 4116, 'customize': 2043, 'nfamiliarity': 5452, 'warehousing': 9012, 'ncreativity': 5245, 'ndescription': 5284, 'nconceive': 5215, 'npresent': 5799, 'ntakes': 5981, 'nm': 5618, 'everytown': 2857, 'gun': 3527, 'prevention': 6763, 'occurs': 6154, 'identifies': 3772, 'interventions': 4095, 'prevent': 6760, 'principal': 6775, 'researcher': 7318, 'calculations': 1214, 'avenues': 871, 'campaigns': 1233, 'packages': 6341, 'oversee': 6321, 'update': 8782, 'frequent': 3258, 'reference': 7168, 'cdc': 1325, 'fatal': 3049, 'nonfatal': 5695, 'injury': 3961, 'fbi': 3052, 'supplementary': 8260, 'homicide': 3678, 'managed': 4601, 'publication': 6937, 'legislative': 4393, 'outreach': 6310, 'scholars': 7586, 'practitioners': 6700, 'enforce': 2717, 'survey': 8283, 'composite': 1671, 'index': 3884, 'census': 1335, 'nreasonable': 5849, 'neverytown': 5405, 'amnesty': 589, 'historically': 3647, 'underrepresented': 8712, 'accounts': 339, 'payable': 6421, 'environmental': 2776, 'governance': 3443, 'water': 9022, 'ghg': 3397, 'emissions': 2669, 'disclosure': 2353, 'gresb': 3493, 'cdp': 1327, 'gri': 3494, 'djsi': 2432, 'sasb': 7546, 'disclosures': 2354, 'vendor': 8884, 'missing': 4837, 'leed': 4388, 'purchasing': 6960, 'invoices': 4142, 'submittal': 8197, 'tcfd': 8365, 'assessing': 761, 'inventories': 4118, 'sector': 7649, 'nkayak': 5587, 'anomaly': 633, 'versed': 8902, 'advancements': 439, 'iterating': 4174, 'plot': 6605, 'particular': 6383, 'inference': 3913, 'bash': 941, 'ui': 8679, 'html': 3722, 'css': 2006, 'react': 7084, 'kayak': 4253, 'confident': 1726, 'searches': 7634, 'flights': 3156, 'rental': 7270, 'cars': 1286, 'opentable': 6220, 'metasearch': 4770, 'swoodoo': 8305, 'checkfelix': 1402, 'momondo': 4895, 'cheapflights': 1399, 'mundi': 4969, 'hotelscombined': 3699, 'benefit': 986, 'dining': 2317, 'subsidiary': 8208, 'booking': 1070, 'holdings': 3665, 'perks': 6477, 'birthday': 1029, 'awesome': 888, 'stupid': 8185, 'drinks': 2499, 'coffee': 1529, 'snacks': 7881, 'massages': 4660, 'massage': 4659, 'therapist': 8450, 'excursions': 2891, 'ecommerce': 2564, 'rebuild': 7108, 'semantic': 7687, 'groceries': 3496, 'apparel': 656, 'assignment': 768, 'connect': 1746, 'olympics': 6196, 'outings': 6297, 'visionary': 8952, 'technologist': 8388, 'illustrate': 3784, 'quantity': 7011, 'capacity': 1250, 'terminology': 8421, 'quick': 7029, 'huge': 3729, 'neducational': 5341, 'undergraduate': 8706, 'econometrics': 2566, 'depending': 2197, 'pig': 6553, 'couchbase': 1918, 'cassandra': 1298, 'tensor': 8411, 'flow': 3163, 'ncompany': 5204, 'walmart': 9003, 'innovating': 3968, 'evolve': 2860, 'retailer': 7381, 'merchandising': 4753, 'reimagining': 7210, 'property': 6890, 'protection': 6909, 'investigative': 4130, 'nmicrosoft': 5643, 'revenues': 7402, '80bn': 231, 'azure': 895, 'studio': 8180, 'bing': 1018, 'msn': 4949, 'devices': 2261, 'surface': 8274, 'xbox': 9252, 'defines': 2148, 'really': 7100, 'surprised': 8279, 'inspired': 3995, 'plays': 6596, 'invite': 4139, 'appreciates': 676, 'chipp': 1420, 'redmond': 7155, 'investigator': 4131, 'reactively': 7086, 'piracy': 6567, 'remediate': 7260, 'exploits': 2955, 'genuine': 3380, 'pattern': 6416, 'virtual': 8942, 'raise': 7044, 'awareness': 885, 'remediation': 7261, 'phases': 6530, 'controls': 1846, 'theft': 8443, 'distances': 2403, 'attacks': 809, 'ninforms': 5552, 'projected': 6863, 'capability': 1248, 'example': 2869, 'compromise': 1683, 'mitigation': 4847, 'velocity': 8883, '70': 215, 'nlead': 5595, 'case': 1291, 'nidentification': 5530, 'perpetration': 6484, 'cause': 1316, 'perpetrators': 6486, 'nproper': 5824, 'leakage': 4370, 'referral': 7172, 'affairs': 471, 'cela': 1328, 'attorneys': 822, 'naddt': 5027, 'implementations': 3817, 'ndeep': 5266, 'modus': 4890, 'operandi': 6222, 'attack': 808, 'vectors': 8880, 'perpetrator': 6485, 'ndrive': 5324, 'nformulates': 5478, 'nuses': 6060, 'unasked': 8690, 'nextends': 5443, 'adding': 396, 'mitigating': 4846, 'significantly': 7805, 'ncoaches': 5188, 'nengages': 5367, 'peer': 6442, 'objectively': 6131, 'takes': 8339, 'advantage': 442, 'opposing': 6241, 'inquiry': 3980, 'conflict': 1736, 'nshares': 5919, 'nhas': 5508, 'resulting': 7376, 'thoroughly': 8462, 'nhigh': 5515, 'nfully': 5485, 'conversant': 1852, 'threat': 8466, 'nhighly': 5516, 'nsecondary': 5908, 'chinese': 1418, 'cseo': 2005, 'cdas': 1324, 'ordinances': 6265, 'form': 3206, 'vary': 8871, 'samsara': 7534, 'plug': 6608, 'play': 6591, 'mechanical': 4719, 'jdms': 4190, 'toolmakers': 8516, 'quantify': 7006, 'scoping': 7603, 'learnings': 4377, 'combine': 1574, 'read': 7087, 'shifting': 7758, 'releases': 7233, 'aggressive': 500, 'cohort': 1536, 'returns': 7398, 'size': 7839, 'proliferate': 6867, 'studying': 8183, 'gleaning': 3414, 'graphql': 3479, 'candid': 1239, 'sizes': 7842, 'colors': 1563, 'cultures': 2018, 'sexes': 7733, 'beliefs': 971, 'religions': 7248, 'ages': 495, 'depend': 2191, 'increasing': 3871, 'northern': 5723, 'axiologic': 891, 'llc': 4491, 'delivers': 2167, 'presents': 6750, 'ndirects': 5302, 'conducts': 1720, 'nexamines': 5421, 'affecting': 474, 'resolving': 7340, 'nidentify': 5532, 'sought': 7937, 'ts': 8644, 'poly': 6628, 'napproximately': 5068, 'volume': 8976, 'near': 5333, 'feeds': 3073, 'missions': 4839, 'architecting': 699, 'transitioning': 8582, 'impacting': 3810, 'sme': 7872, 'formats': 3213, 'edit': 2582, 'contents': 1812, 'slides': 7860, 'letters': 4406, 'fact': 3012, 'diagrams': 2279, 'statements': 8083, 'neffectively': 5349, 'ncommunicate': 5201, 'formally': 3209, 'informally': 3931, 'naws': 5115, 'atlassian': 800, 'confluence': 1739, 'ntravel': 6018, 'ncr': 5240, 'nequal': 5380, 'x93minorities': 9162, 'sdvosb': 7627, 'optimizes': 6247, 'arthur': 729, 'lawrence': 4349, 'urgently': 8801, 'palo': 6351, 'alto': 565, 'earliest': 2537, 'proceed': 6809, 'cosmos': 1912, 'dms': 2437, 'anum': 647, '832': 234, '941': 255, '0356': 9, 'arthurlawrence': 730, 'net': 5388, 'grubhub': 3508, 'giving': 3410, 'diners': 2316, 'convenient': 1848, 'favorite': 3050, 'restaurants': 7367, 'late': 4334, 'chalupa': 1368, 'taco': 8329, 'bell': 974, 'salad': 7522, 'enjoyed': 2741, 'said': 7520, 'obsessed': 6139, 'innovate': 3966, 'memorable': 4740, 'owners': 6330, 'diner': 2315, 'flawlessly': 3149, 'ordering': 6262, 'partnered': 6388, '105': 25, 'cities': 1442, 'levelup': 4410, 'seamless': 7631, 'tapingo': 8353, 'eat24': 2550, 'nwant': 6088, 'eating': 2552, 'tackle': 8326, 'selecting': 7675, 'nbe': 5128, 'assumptions': 783, 'nproduce': 5812, 'nrelentlessly': 5860, 'nmsc': 5663, 'ncomfort': 5198, 'ngot': 5500, 'glm': 3416, 'bayesian': 950, 'knack': 4279, 'strings': 8161, 'attached': 807, 'recharge': 7115, 'flex': 3152, 'options': 6251, 'nfree': 5482, 'kitchens': 4277, 'stocked': 8118, 'granted': 3468, 'restricted': 7373, 'rays': 7075, 'rooftop': 7465, 'comfy': 1583, 'couch': 1917, 'ngrubhub': 5502, 'talentacquisition': 8343, 'inquiries': 3979, 'concerning': 1702, 'responded': 7353, 'ncivis': 5179, 'nonprofits': 5699, 'attract': 823, 'advisory': 457, 'interdisciplinary': 4059, 'civis': 1450, 'stop': 8122, 'guessing': 3516, 'atwww': 827, 'civisanalytics': 1451, 'http': 3723, 'embraces': 2661, 'individuality': 3896, 'celebrate': 1329, 'differences': 2294, 'brought': 1148, 'governments': 3448, 'commonly': 1604, 'utilities': 8821, 'proposals': 6892, 'engagements': 2724, 'unifying': 8732, 'varying': 8872, 'construct': 1786, 'affinity': 480, 'pragmatically': 6701, 'ppt': 6689, 'shiny': 7761, 'causal': 1314, 'offline': 6181, 'commerce': 1591, 'underneath': 8709, 'hbase': 3582, 'showcase': 7780, 'visible': 8949, 'excites': 2886, 'elasticities': 2626, 'predict': 6707, 'elasticity': 2627, 'underlying': 8708, 'shell': 7754, 'cupertino': 2021, 'seagate': 7630, 'continuously': 1828, 'hqs': 3714, 'bigdata': 1006, 'migration': 4803, 'framework': 3244, '8am': 247, '5pm': 199, 'sole': 7910, 'returning': 7397, 'fall': 3026, 'acumen': 382, 'discovery': 2364, 'spectrum': 7984, 'establishing': 2816, 'executiion': 2895, 'stewards': 8108, 'consistency': 1771, 'consuming': 1801, 'progressing': 6857, 'spaceflight': 7949, 'facilitating': 3007, 'definitions': 2152, 'enforcing': 2719, 'stores': 8128, 'usages': 8805, 'interrogating': 4088, 'directing': 2324, 'pace': 6337, 'profiling': 6844, 'holder': 3663, 'lawfully': 4348, 'admitted': 426, 'refugee': 7181, 'asylum': 791, 'aerorspace': 468, 'phenomenal': 6532, 'prohibits': 6861, 'harassment': 3558, 'ebsco': 2555, 'eis': 2623, 'books': 1072, 'maximize': 4690, 'ipswich': 4153, 'ma': 4565, 'employs': 2684, 'philosophy': 6537, 'division': 2428, 'industries': 3903, 'birmingham': 1027, 'corporations': 1895, 'forbes': 3189, 'magazine': 4573, 'motivate': 4922, 'inspire': 3994, 'nunder': 6044, 'developments': 2258, 'interprets': 4086, 'stability': 8035, 'influences': 3921, 'firms': 3132, 'trade': 8545, 'interviews': 4098, 'forecast': 3194, 'nebsco': 5336, 'strictly': 8159, 'tolerate': 8504, 'discrimination': 2372, 'persons': 6504, 'creed': 1972, 'termination': 8420, 'amended': 576, 'amendments': 577, 'virtually': 8944, 'chip': 1419, 'display': 2390, 'modifying': 4886, 'atomic': 802, 'possibilities': 6654, 'x9chr': 9201, 'x9cprovide': 9215, 'investigate': 4124, 'measures': 4716, 'correlations': 1905, 'causality': 1315, 'connections': 1750, 'semi': 7690, 'highlight': 3631, 'retaining': 7385, 'adds': 404, 'factor': 3014, 'anova': 636, 'prediction': 6711, 'trend': 8613, 'consumption': 1802, 'larger': 4329, 'compilation': 1645, 'requiring': 7313, 'stellar': 8100, 'consultative': 1795, 'tight': 8481, 'assume': 782, 'hris': 3717, 'workday': 9106, 'commission': 1595, 'red': 7149, 'hat': 3575, 'middleware': 4797, 'virtualization': 8943, '500': 180, 'raleigh': 7047, 'nc': 5150, 'operationalize': 6229, 'marketers': 4642, 'array': 723, 'nmanage': 5627, 'feature': 3063, 'ncoordinate': 5234, 'simultaneously': 7824, 'nadvocate': 5032, 'validated': 8846, 'tested': 8427, 'nsolid': 5938, 'numpy': 6043, 'amazon': 567, 'bigquery': 1008, 'migrating': 4802, 'jupyter': 4243, 'notebooks': 5729, 'nred': 5855, 'uniformed': 8729, 'prohibited': 6860, 'cvs': 2048, 'commissions': 1596, 'payment': 6425, 'requesting': 7306, 'fee': 3070, 'jan': 4180, '14': 46, '114182628': 34, 'napple': 5055, 'maps': 4632, 'confronted': 1744, 'staggering': 8046, 'pois': 6619, 'paramount': 6366, 'nit': 5577, 'qualify': 6996, 'ncommercial': 5200, 'ncomplete': 5210, 'poi': 6616, 'nexperiences': 5437, 'merging': 4759, 'duping': 2520, 'lookout': 4525, 'talented': 8344, 'geography': 3388, 'nbabylist': 5120, 'uniquely': 8740, 'nearly': 5334, 'babylist': 901, 'transaction': 8562, 'spot': 8007, 'pr': 6692, 'baby': 900, 'lens': 4400, 'adept': 406, 'matlab': 4679, 'overwhelmed': 6326, 'mockups': 4864, 'registry': 7197, 'expecting': 2925, 'parents': 6369, 'worth': 9131, 'gifts': 3401, 'purchased': 6959, 'registries': 7196, 'stuff': 8184, 'appreciate': 674, 'profitable': 6847, 'technological': 8385, 'doers': 2452, 'autonomy': 867, 'reward': 7412, 'hra': 3716, 'fsa': 3274, 'parental': 6368, 'bart': 935, 'wfh': 9067, 'wednesday': 9041, 'transferable': 8570, 'page': 6344, 'ross': 7471, 'relative': 7228, 'discussions': 2378, 'qualtrics': 7001, 'strata': 8137, 'appointment': 673, 'designation': 2225, 'napplication': 5058, 'posted': 6659, 'seven': 7731, 'boards': 1058, 'period': 6469, 'ended': 2706, 'criteo': 1981, 'shoppers': 7771, '120': 38, 'tb': 8363, '10ms': 28, 'buzzwords': 1193, 'excite': 2883, 'ctr': 2010, 'cr': 1945, 'workshops': 9120, 'retailers': 7382, 'voice': 8973, 'whilst': 9071, 'instantly': 4003, 'dislike': 2381, 'passing': 6399, 'fixer': 3141, 'dare': 2061, 'fuels': 3280, 'felt': 3081, 'champion': 1370, 'criteos': 1982, 'heard': 3601, 'belonging': 976, 'treated': 8605, 'dignity': 2309, 'ncriteo': 5246, 'consequently': 1760, 'relation': 7223, 'clicking': 1488, 'button': 1187, 'expressly': 2969, 'mutual': 4973, 'gny': 3425, 'rated': 7067, 'financially': 3110, 'stable': 8036, 'casualty': 1301, 'northeast': 5722, 'actuary': 380, 'loss': 4532, 'imageright': 3788, 'obtained': 6145, 'logistics': 4513, 'xpo': 9260, 'invest': 4122, '450': 172, 'producers': 6822, 'incentive': 3845, 'ntroubleshoot': 6021, 'solicit': 7912, 'nunderstand': 6045, 'artifacts': 735, 'rollout': 7463, 'ngeneralize': 5493, 'mis': 4833, 'graduates': 3461, 'moderately': 4876, 'n1': 4980, 'geo': 3383, 'spatial': 7960, 'nsignificant': 5930, 'mixed': 4849, 'principle': 6777, 'fluently': 3170, 'inefficient': 3907, 'error': 2802, 'prone': 6879, 'navailability': 5109, 'specialization': 7969, 'coursera': 1932, 'udacity': 8676, 'camp': 1231, 'n10': 4981, 'ed1': 2576, 'nxpo': 6114, 'disney': 2382, 'pepsi': 6451, 'xc3': 9254, 'xa9al': 9243, 'toyota': 8537, 'fastest': 3048, 'getting': 3394, 'construed': 1789, 'exhaustive': 2906, 'personnel': 6503, 'classified': 1465, 'normal': 5716, '34': 151, '28': 129, '23': 120, 'ii': 3778, 'ncoordinating': 5235, 'nrelevant': 5861, 'displays': 2391, 'county': 1928, 'administrator': 422, 'nand': 5051, 'ed': 2575, 'calpads': 1225, 'dataquest': 2082, 'nmanagement': 5628, 'aeries': 465, 'nplanning': 5776, 'tutorials': 8658, 'mentioned': 4747, 'nboth': 5138, 'districts': 2420, 'memorandum': 4741, 'nreconciling': 5852, 'inaccuracies': 3840, 'compiles': 1647, 'mandated': 4610, 'validations': 8850, 'consults': 1797, 'nschool': 5905, 'lcap': 4361, 'ndevelopment': 5297, 'instructional': 4012, 'grants': 3469, 'ncollection': 5195, 'administrators': 423, 'leas': 4380, 'shasta': 7751, 'neffectiveness': 5350, 'norder': 5710, 'investigates': 4126, 'resolves': 7339, 'errors': 2803, 'discrepancies': 2365, 'collections': 1555, 'prepares': 6734, 'narrative': 5073, 'nto': 6007, 'compose': 1669, 'ninformation': 5551, 'nmarch': 5632, 'nassigned': 5085, 'conflicts': 1738, 'exchanging': 2882, 'coordinators': 1878, 'nefficient': 5351, 'nperforming': 5766, 'schools': 7588, 'ncountywide': 5238, 'scoe': 7599, 'confidentiality': 1728, 'attends': 816, 'inservices': 3985, 'neffective': 5348, 'functioning': 3292, 'upgrade': 8787, 'competencies': 1638, 'satisfactorily': 7549, 'ntechniques': 5987, 'nspeaking': 5942, 'nfractions': 5481, 'percents': 6455, 'ratios': 7071, 'ndocuments': 5317, 'grammar': 3465, 'punctuation': 6957, 'nprocedures': 5808, 'telephone': 8399, 'etiquette': 2830, 'nhealth': 5512, 'practicing': 6699, 'cultural': 2015, 'stages': 8045, 'collate': 1548, 'classify': 1467, 'ndefined': 5269, 'nvaried': 6075, 'nrequires': 5874, 'nlimited': 5606, 'adapting': 390, 'nsetting': 5915, 'interruptions': 4089, 'nmaintaining': 5621, 'nresponsibility': 5883, 'standardized': 8060, 'nutilization': 6063, 'nthere': 5998, 'usual': 8819, 'customary': 2038, 'lifting': 4443, 'carrying': 1285, 'stooping': 8121, 'kneeling': 4281, 'ncrouching': 5248, 'crawling': 1953, 'finger': 3118, 'nsitting': 5932, 'walking': 8997, 'standing': 8062, 'helathy': 3609, 'nenvironment': 5375, 'casemis': 1292, 'netc': 5389, 'equivalency': 2796, 'nresearch': 5876, 'increasingly': 3872, 'nadministration': 5029, 'substitute': 8214, 'nallowed': 5038, 'ncontinuing': 5226, 'educ': 2589, 'clearances': 1478, 'nmaintains': 5622, 'livescan': 4488, 'nclearance': 5181, 'npre': 5793, 'placement': 6577, 'ntuberculosis': 6025, 'approval': 685, '38': 158, 'western': 9061, 'relating': 7222, 'premiums': 6728, 'losses': 4533, 'underwriting': 8721, 'nupdate': 6054, 'modify': 4885, 'njoin': 5583, 'previous': 6765, 'midwestern': 4799, 'alaska': 529, '57th': 194, 'minnesota': 4828, 'minneapolis': 4827, 'paul': 6418, 'journal': 4217, 'earned': 2540, 'accolades': 321, 'tribune': 8619, '2011': 99, '2016': 104, 'recipient': 7116, 'x9c10': 9189, 'finalist': 3105, 'alfred': 534, 'sloan': 7861, 'x9cwhen': 9227, 'nwestern': 6092, 'x9cthe': 9224, 'caring': 1276, 'wellbeing': 9055, 'healthy': 3599, 'volunteer': 8980, 'reasons': 7107, 'n401': 4996, 'affordable': 483, 'thanks': 8441, 'subsidy': 8210, 'ppo': 6688, 'deductible': 2133, 'hdhp': 3588, 'yoga': 9268, 'snack': 7880, 'workstations': 9123, 'seminars': 7692, 'tuition': 8648, 'approved': 688, 'ndiscounts': 5305, 'homeowner': 3674, 'instead': 4004, 'actual': 376, 'quotes': 7035, 'glassdoor': 3412, 'x9cexcellent': 9199, 'prioritizes': 6788, 'x9cjust': 9205, 'x9cabove': 9190, 'x9ci': 9202, 'welcomed': 9052, 'ly': 4563, '2qxtl4a': 133, 'catalog': 1302, 'walmartlabs': 9004, 'pursue': 6965, 'globally': 3419, 'x9clive': 9206, 'nbachelors': 5122, 'nestablished': 5386, 'nr': 5842, 'tensorflow': 8412, 'nspecific': 5944, 'nphd': 5773, 'ngood': 5498, 'isolved': 4164, 'hcm': 3585, 'payroll': 6428, 'onboarding': 6202, 'aca': 296, 'enrollment': 2749, 'sized': 7841, 'import': 3822, 'brief': 1124, 'statement': 8082, 'electronically': 2634, 'convert': 1856, 'infinisource': 3916, 'smooth': 7877, 'conversion': 1855, 'legacy': 4390, 'pdf2excel': 6436, 'workable': 9105, 'concentration': 1693, 'pounds': 6675, 'disclaimer': 2350, 'lists': 4479, 'merely': 4755, 'reserves': 7325, 'revise': 7408, 'fiat': 3086, 'chrysler': 1428, 'automobiles': 863, 'fca': 3054, 'cio': 1435, 'pivotal': 6570, 'bulk': 1171, 'pipe': 6564, 'lining': 4463, 'hired': 3639, 'ict': 3760, 'constraints': 1785, 'corresponding': 1907, 'stochastic': 8115, 'neighbor': 5357, 'embedding': 2655, 'sne': 7885, 'pca': 6433, 'mechanics': 4720, 'assets': 765, 'repeatability': 7278, 'fairness': 3025, 'operationalization': 6228, 'mlops': 4855, 'challenger': 1365, 'coe': 1528, 'launching': 4343, 'premises': 6726, 'hybrid': 3742, 'containerization': 1809, 'kubernetes': 4301, 'container': 1808, 'db2': 2100, 'greenplum': 3491, 'starters': 8074, 'moderation': 4878, 'domains': 2461, 'rstudio': 7490, 'knime': 4283, 'rapidminer': 7063, 'alteryx': 564, 'dataiku': 2075, 'h2o': 3535, 'em': 2650, 'azureml': 896, 'watson': 9028, 'modeler': 4869, 'sagemaker': 7518, 'convolutional': 1865, 'neural': 5397, 'cnn': 1515, 'recurrent': 7147, 'rnn': 7441, 'qlikview': 6987, 'storytelling': 8134, 'reflects': 7178, 'rewarding': 7414, 'norms': 5719, 'entity': 2768, 'finish': 3123, 'formed': 3216, 'augment': 838, 'mix': 4848, 'equivalents': 2798, 'facts': 3018, 'seamlessly': 7632, 'digestible': 2304, 'representative': 7293, 'described': 2215, 'walk': 8996, 'climb': 1493, 'stoop': 8120, 'kneel': 4280, 'crouch': 1993, 'lift': 4442, 'noisy': 5691, 'traveling': 8598, 'air': 522, 'land': 4319, 'eeoc': 2601, 'complying': 1666, 'alienage': 540, 'accessibility': 316, 'napplicants': 5057, '317': 144, '613': 204, '6890': 212, 'finishline': 3126, 'reasonably': 7105, 'armour': 717, 'chosen': 1425, 'athletes': 795, 'tomorrow': 8505, 'blistering': 1041, 'heat': 3604, 'bitter': 1033, 'cold': 1539, 'sport': 8005, 'baseline': 938, 'commonplace': 1605, 'hungriest': 3739, 'pledge': 6602, 'xa6protect': 9240, 'nno': 5676, 'athlete': 794, 'mapmyfitness': 4627, 'endomondo': 2709, 'myfitnesspal': 4976, 'teamed': 8372, 'aimed': 519, 'unmatched': 8762, 'nms': 5662, 'breaking': 1116, 'utilized': 8825, 'nresourceful': 5880, 'npassion': 5754, 'nimplement': 5539, 'nkeep': 5588, 'teammates': 8374, 'lactation': 4314, 'believes': 973, 'inclusion': 3857, 'retain': 7384, 'pool': 6631, 'imbalances': 3795, 'recurring': 7148, 'elicit': 2643, 'gameplay': 3325, 'accessing': 318, 'publishing': 6944, 'aggregate': 496, 'windowing': 9085, 'ndesired': 5289, 'titles': 8495, 'rds': 7080, 'n_____________________________________________________________________': 5005, 'nsix': 5933, 'foot': 3184, 'staffing': 8042, 'conceived': 1690, 'intricacies': 4103, 'connectors': 1752, 'lightly': 4446, 'workplaces': 9117, 'empowered': 2686, 'studios': 8181, 'consultancy': 1791, 'importance': 3823, 'balancing': 923, 'uber': 8673, 'ignite': 3777, 'motion': 4921, 'riders': 7425, 'eaters': 2551, 'commops': 1606, 'priority': 6790, 'exposure': 2965, 'agents': 494, 'fingertips': 3122, 'nproblem': 5807, 'faced': 3002, 'poc': 6614, 'weaknesses': 9033, 'central': 1342, 'tremendous': 8612, 'nprojectmanager': 5821, 'nasa': 5078, 'nations': 5095, 'austin': 842, 'configure': 1731, 'rates': 7069, 'churn': 1430, 'cac': 1202, 'ltv': 4556, 'aspect': 747, 'instance': 4002, 'tactic': 8330, 'caused': 1317, 'adjusted': 414, 'editions': 2584, 'tactics': 8333, 'traversing': 8602, 'rolled': 7461, 'levers': 4415, 'equity': 2795, 'capitalist': 1253, 'ntechnical': 5986, 'munging': 4970, 'meaning': 4705, 'ninterpersonal': 5569, 'upfront': 8786, 'atmosphere': 801, 'continues': 1824, 'zywave': 9287, 'consult': 1790, 'broker': 1142, 'formatting': 3215, 'ngenerate': 5494, 'routine': 7479, 'ninterpret': 5570, '2005': 93, '2008': 96, 'datastage': 2086, 'appropriately': 684, 'understandable': 8714, 'farming': 3040, 'rural': 7505, 'farmer': 3038, 'fbn': 3053, 'proudly': 6918, 'farmers': 3039, 'xa0': 9231, 'unbiased': 8692, 'farms': 3042, 'anonymously': 635, 'securely': 7653, 'democratize': 2175, 'playing': 6595, 'nhow': 5521, 'sustainably': 8293, '2050': 111, 'farmland': 3041, 'decreasing': 2130, 'odds': 6162, 'stacked': 8038, 'falls': 3027, 'squarely': 8019, 'shoulders': 7779, 'harder': 3561, 'nfarmers': 5455, 'forced': 3191, 'uncertainty': 8693, 'agronomic': 511, 'billions': 1014, 'gathered': 3341, 'effect': 2605, 'unprecedented': 8767, 'agricultural': 510, 'discoveries': 2362, 'explores': 2959, 'furthers': 3310, 'affects': 475, 'uncovers': 8701, 'soil': 7907, 'chemistry': 1406, 'plant': 6587, 'physiology': 6546, 'entomology': 2769, 'agronomy': 512, 'nfarmer': 5454, 'immigration': 3803, 'unsurpassed': 8777, 'enforcement': 2718, 'saic': 7519, 'aecom': 463, 'dea': 2107, 'executes': 2894, 'advertisements': 447, 'suspense': 8287, 'petitions': 6518, 'declarations': 2126, 'disposition': 2393, 'forfeited': 3203, 'assure': 785, 'computations': 1686, 'official': 6179, 'attorney': 821, 'doj': 2456, 'retrieve': 7392, 'bases': 940, 'compute': 1687, 'print': 6779, 'correspondence': 1906, 'nforfeiture': 5476, 'compensate': 1633, 'quali': 6991, 'xef': 9256, 'xac': 9244, 'x81ed': 9148, 'hiv': 3652, 'x81ned': 9152, 'capgemini': 1251, 'expanding': 2919, 'xa6rapidly': 9241, 'sentiment': 7703, 'harnessed': 3568, 'influx': 3925, 'iot': 4149, 'demanding': 2171, 'realm': 7101, 'cognitive': 1533, 'aerospace': 469, 'articulating': 734, 'publicly': 6939, 'eda': 2577, 'tier': 8480, 'variance': 8863, 'emphasis': 2672, 'chaid': 1361, 'cart': 1287, 'frequentist': 3259, 'pearl': 6439, 'caffe': 1207, 'kxen': 4302, 'ect': 2574, 'mongodb': 4899, 's3': 7509, 'ec2': 2557, 'gradient': 3455, 'svms': 8297, 'kmeans': 4278, 'nmf': 5642, 'rnns': 7442, 'cnns': 1516, 'scrapping': 7612, 'napplications': 5059, 'consultants': 1793, 'realization': 7097, 'release': 7231, 'methodological': 4776, 'versatility': 8901, 'qualification': 6992, 'ncapgemini': 5158, 'encouraging': 2703, 'sensory': 7701, 'referenced': 7169, 'attempt': 811, 'traditionally': 8550, 'pose': 6643, 'nclick': 5184, 'heritage': 3618, 'ambitions': 572, 'multicultural': 4958, '2017': 105, 'eur': 2833, 'usd': 8806, 'n1strategy': 4987, 'contribution': 1840, '1strategy': 86, 'specialize': 7971, 'native': 5097, 'cleansing': 1474, 'tasked': 8359, 'iterative': 4176, 'roadblocks': 7444, 'consensus': 1757, 'uncleansed': 8696, 'scalability': 7566, 'versioning': 8904, 'node': 5686, 'cultivating': 2014, '62': 205, '844': 237, '908': 252, 'oregon': 6267, 'app': 655, 'preferences': 6720, 'pain': 6346, 'nbusiness': 5148, 'naccess': 5011, 'ncompile': 5209, 'tabulate': 8324, 'nprioritize': 5804, 'ncontinuous': 5227, 'nfive': 5464, 'facebook': 3001, 'adobe': 428, 'ndegree': 5272, 'nuse': 6059, 'casino': 1296, 'accruals': 342, 'nsick': 5926, 'n11': 4984, 'ntelework': 5989, 'ncomprehensive': 5213, 'prescription': 6742, 'accidental': 319, 'death': 2115, 'tax': 8362, 'npublic': 5830, 'pers': 6488, 'pension': 6448, 'noregon': 5712, '457': 173, 'deferred': 2144, 'oregonlottery': 6268, 'vacancies': 8836, 'withdraw': 9094, 'announcements': 629, 'dictate': 2283, 'nors': 5720, '461': 174, 'convicted': 1861, 'felony': 3080, 'gambling': 3323, 'offense': 6169, 'fingerprinting': 3119, 'checking': 1403, 'character': 1381, 'nall': 5037, 'naccording': 5012, '503': 183, '540': 189, '1315': 43, 'lotterycareers': 4537, 'nreq6826': 5871, 'nperiodic': 5768, 'ntempe': 5990, 'nprovides': 5828, 'storing': 8130, 'retrieving': 7394, 'nensures': 5372, 'standardization': 8057, 'ntranslates': 6017, 'ims': 3839, 'ndefines': 5270, 'conceptual': 1697, 'informatica': 3932, 'toolset': 8518, 'ntests': 5993, 'replication': 7281, 'synchronization': 8310, 'nunderstands': 6047, 'nproactively': 5806, 'nexhibits': 5432, 'inception': 3847, 'sunset': 8246, 'motor': 4927, 'vehicles': 8882, 'irregular': 4156, 'aligned': 542, 'nphysical': 5774, 'columnar': 1566, 'vs': 8988, 'tuning': 8651, 'scaling': 7572, 'indexing': 3886, 'secondary': 7642, 'inverted': 4121, 'opportunistic': 6238, 'sensor': 7699, 'structures': 8173, 'prep': 6729, 'dashboarding': 2066, 'scorecarding': 7605, 'ncompetencies': 5207, 'adaptability': 387, 'njt18': 5585, 'zeus': 9280, 'flawless': 3148, 'stays': 8097, 'nfounded': 5480, 'november': 5740, '2015': 103, 'shaking': 7738, '18b': 63, 'leasing': 4383, 'unfurnished': 8727, 'converting': 1857, 'expertly': 2942, 'appointed': 672, 'earth': 2543, '700': 216, 'bay': 948, 'los': 4531, 'angeles': 617, 'seattle': 7640, 'realizing': 7099, 'raised': 7045, '24m': 122, 'financing': 3112, 'initialized': 3953, 'bowery': 1088, 'floodgate': 3158, 'exits': 2914, 'rentals': 7271, 'npragmatic': 5792, 'n100': 4982, 'dependents': 2196, 'nparking': 5749, 'expense': 2927, 'n20': 4989, 'n16': 4985, 'ncatered': 5166, 'lunches': 4561, 'instrumental': 4016, 'wwe': 9142, 'dives': 2426, 'behavioral': 968, 'comprising': 1682, 'heterogeneous': 3621, 'servers': 7718, 'spotfire': 8008, 'highlighting': 3632, 'signals': 7800, 'spent': 7990, 'npossess': 5785, 'paas': 6336, 'iaas': 3749, 'ncomfortable': 5199, 'ncan': 5156, 'correctness': 1901, 'resolutions': 7337, 'ndon': 5322, 'proficiencies': 6839, 'n0': 4979, 'ncasual': 5165, 'nsome': 5940, 'nconnectwise': 5218, 'ncontribute': 5230, 'modernization': 4880, 'obsolete': 6141, 'redundant': 7161, 'repository': 7289, 'verifying': 8897, 'migratiion': 4801, 'nprepare': 5797, 'mandatory': 4611, 'nseven': 5916, 'nthree': 6003, 'hp': 3709, 'unified': 8728, 'uft': 8678, 'selenium': 7678, 'powerbuilder': 6678, 'limit': 4451, 'typos': 8670, 'grammatical': 3466, 'mistakes': 4843, 'migrations': 4804, 'bdd': 952, 'cucumber': 2011, 'postman': 6669, 'soapui': 7890, 'junit': 4241, 'nunit': 6049, 'agilecraft': 503, 'story': 8132, 'nformal': 5477, 'nsalient': 5900, 'crgt': 1975, 'mobility': 4862, 'civilian': 1449, 'viewing': 8931, 'salient': 7528, 'salientcrgt': 7529, 'ndigital': 5300, 'institutional': 4010, 'investors': 4136, 'cryptoasset': 2000, 'insightful': 3988, '5m': 198, 'seed': 7656, 'crypto': 1998, 'funds': 3302, 'indices': 3893, 'cryptoanalysis': 1999, 'consisting': 1774, 'blockchains': 1043, 'nperks': 5769, 'sectors': 7650, 'x94cryptocurrencies': 9167, 'ledger': 4387, 'x94a': 9164, 'sold': 7909, 'cryptocurrency': 2002, 'nduties': 5329, 'lowering': 4546, 'stored': 8126, 'combinatorics': 1573, 'dimensionality': 2313, 'fundamentals': 3297, 'postgresql': 6664, 'cryptoassets': 2001, 'notebook': 5728, 'altair': 559, 'northwest': 5724, 'permanente': 6480, 'governed': 3444, 'physician': 6542, 'specialty': 7975, '1500': 50, 'physicians': 6543, 'southwest': 7946, 'kaiser': 4251, 'eminent': 2668, 'iii': 3779, 'marts': 4654, 'nmajor': 5624, 'accountabilities': 334, 'kpit': 4299, 'meta': 4767, 'conventions': 1850, 'npopulates': 5781, 'deploys': 2205, 'conflicting': 1737, 'nparticipates': 5751, 'convergence': 1851, 'tailored': 8336, 'easily': 2545, 'nreport': 5865, 'timly': 8489, 'nmasters': 5635, 'workplans': 9118, 'nproactive': 5805, 'avoidance': 878, 'nike': 5537, 'sustaining': 8295, 'transition': 8581, 'athletic': 796, 'smallest': 7866, 'picture': 6549, 'macro': 4570, 'nsrl': 5950, 'inter': 4051, 'seeker': 7659, 'parts': 6393, 'eye': 2992, 'trinity': 8624, 'searching': 7635, 'nleverage': 5600, 'presented': 6747, 'nsources': 5941, 'sift': 7795, 'irrelevant': 4157, 'figures': 3094, 'crunching': 1997, 'ncommunication': 5202, 'speak': 7961, 'ncritical': 5247, 'nmath': 5636, 'estimate': 2819, 'nbs': 5144, 'kimball': 4272, 'inmon': 3962, 'qlik': 6986, 'nacquire': 5016, 'nfilter': 5459, 'x9cclean': 9196, 'reviewing': 7406, 'printouts': 6781, 'locate': 4500, 'nlocate': 5611, 'measurevarious': 4717, 'troubleshoots': 8632, 'softwareproblems': 7906, 'reportsas': 7287, 'neurosurgery': 5402, 'bargaining': 932, 'moses': 4919, '3316': 149, 'rochambeau': 7453, 'bronx': 1144, 'req': 7302, '98463': 264, 'nmontefiore': 5657, 'montefiore': 4908, 'layoff': 4357, 'discharge': 2343, 'classifications': 1464, 'presumed': 6758, 'predisposition': 6714, 'carrier': 1281, 'nn': 5666, 'gap': 3330, 'pushed': 6970, 'implemented': 3818, 'giants': 3398, 'tournaments': 8534, 'bowling': 1090, 'volunteering': 8981, 'alongside': 554, 'harnessing': 3570, 'vast': 8874, 'pools': 6632, 'sr': 8022, 'dollar': 2458, 'nhere': 5514, 'graduate': 3459, 'left': 4389, 'combinations': 1571, 'd3': 2054, 'abstractly': 292, 'meticulous': 4781, '00011236': 2, 'nsummary': 5969, 'acquires': 357, 'gathers': 3343, 'segment': 7666, 'nutilizes': 6065, 'nreviews': 5891, 'nextracts': 5446, 'ndesigns': 5287, 'capture': 1259, 'implements': 3820, 'nestablishes': 5387, 'ncollaborates': 5190, 'ingestion': 3950, 'nassumes': 5090, 'structuring': 8174, 'sitecatalyst': 7833, 'perl': 6478, 'rudy': 7498, 'outlook': 6303, 'visio': 8950, 'jd': 4189, 'edwards': 2597, 'ndisplays': 5307, 'workers': 9110, 'ndvanced': 5330, 'budgetary': 1160, 'whataburger': 9068, 'delegate': 2156, 'locally': 4498, 'worksites': 9121, 'releasing': 7234, 'adheres': 409, 'residence': 7328, 'concord': 1710, 'plaza': 6597, 'dr': 2481, 'antonio': 646, '78216': 227, '6903': 213, 'exposed': 2964, 'inner': 3965, 'hosted': 3696, 'breed': 1120, 'reputation': 7300, 'cleanse': 1472, 'centralized': 1343, 'standalone': 8055, 'conjunction': 1745, 'finscan': 3128, 'safer': 7516, 'bunch': 1174, 'friends': 3269, 'abroad': 283, 'hang': 3551, 'remains': 7258, 'reliance': 7243, 'samsung': 7535, '360': 155, 'nstrategic': 5960, 'paradigm': 6359, 'innate': 3964, 'uncharted': 8694, 'combines': 1576, 'backbone': 906, 'activate': 367, 'sponsors': 8002, 'operationalized': 6230, 'explicit': 2952, 'addressed': 401, 'quantifiable': 7003, 'impala': 3812, 'logit': 4514, 'multinomial': 4962, 'component': 1667, 'panel': 6353, 'times': 8488, 'priori': 6783, 'schema': 7583, 'incremental': 3875, 'convince': 1863, 'potentially': 6674, 'adversarial': 444, 'vps': 8987, 'approve': 687, 'alternatives': 563, 'subordinates': 8201, 'negotiate': 5356, 'behalf': 966, 'medium': 4729, 'terminal': 8419, 'prolonged': 6868, 'considerable': 1765, 'acuity': 381, 'numeric': 6039, 'distinction': 2407, 'stress': 8154, 'normally': 5718, 'cyclical': 2053, 'machines': 4569, 'aids': 516, 'printers': 6780, 'copiers': 1879, 'faxes': 3051, 'varies': 8868, 'privacy': 6791, 'defaults': 2139, 'european': 2837, 'invaluable': 4115, 'aspirations': 750, 'begin': 962, 'canon': 1243, '9am': 267, '35': 152, 'participating': 6381, 'ds': 2512, 'buddy': 1158, 'latin': 4338, 'caribbean': 1275, 'caj': 1208, 'ranks': 7060, 'patents': 6407, 'admired': 424, 'satisfaction': 7548, 'percent': 6454, 'distributes': 2412, 'kyosei': 4305, '2014': 102, 'americas': 583, 'secured': 7652, 'gold': 3431, 'buildings': 1167, 'apprised': 678, 'news': 5412, 'sign': 7798, 'rss': 7489, 'visiting': 8955, 'twitter': 8663, 'canonusa': 1244, 'cusa': 2034, 'patent': 6405, 'counts': 1927, 'issued': 4168, 'trademark': 8546, 'marks': 4651, 'trademarks': 8547, 'respective': 7349, 'aa': 271, 'portal': 6637, 'guarantee': 3514, 'postings': 6668, 'frontier': 3272, 'buying': 1191, 'livereach': 4485, 'disrupt': 2395, 'lrm': 4550, 'sunnyvale': 8245, 'nfield': 5458, 'nfunctions': 5487, 'log': 4506, 'splunk': 7996, 'elasticsearch': 2628, 'logstash': 4516, 'kibana': 4267, 'julia': 4235, 'usable': 8803, 'livereachmedia': 4486, 'conceives': 1691, 'collective': 1556, 'sickness': 7792, 'unleashes': 8755, 'courses': 1933, 'prototyping': 6916, 'sdlc': 7625, 'neyeview': 5448, 'eyeview': 2994, 'return': 7395, 'videoiq': 8923, 'leverages': 4413, 'elemental': 2638, 'powers': 6686, 'message': 4764, 'television': 8400, 'nheadquartered': 5511, 'la': 4306, 'tri': 8616, 'deloitte': 2169, '500tm': 182, 'rendering': 7269, 'brainstorming': 1101, 'hq': 3712, 'shocks': 7765, 'sudden': 8224, 'instabilities': 3998, 'monte': 4907, 'carlo': 1277, 'bootstrapping': 1078, 'sklearn': 7849, 'keras': 4261, 'plusses': 6610, 'linguistic': 4461, 'contexts': 1815, 'mahalanobis': 4577, 'adtech': 433, 'cell': 1331, 'catered': 1311, 'governing': 3445, 'recall': 7109, 'leaves': 4385, 'absence': 284, 'improper': 3832, 'interference': 4066, 'petco': 6517, 'healthier': 3598, 'pets': 6520, 'happier': 3555, 'planet': 6582, 'animals': 622, 'educating': 2592, 'pet': 6514, 'reducing': 7159, 'carbon': 1261, 'starts': 8076, 'passionately': 6402, 'animal': 621, 'welfare': 9054, 'enrichment': 2747, 'supplies': 8263, 'diego': 2290, 'calculate': 1209, 'glossary': 3421, 'lake': 4316, 'crawlers': 1952, 'crawl': 1951, 'dictionary': 2286, 'buckets': 1157, 'lambda': 4318, 'gateways': 3339, 'sandbox': 7538, 'tenure': 8413, 'capstone': 1258, 'conclusion': 1708, 'summarizing': 8241, 'trail': 8552, 'caf': 1204, 'xa9': 9242, 'starbucks': 8069, 'technoloty': 8391, 'bachlor': 905, 'asks': 746, 'deals': 2113, 'surfaces': 8275, 'speed': 7986, 'puts': 6972, 'finishes': 3125, 'suggests': 8230, 'suggestions': 8229, 'breakdowns': 1113, 'listens': 4476, 'concisely': 1707, 'writes': 9138, 'accepting': 312, 'personality': 6495, 'discussing': 2377, 'situations': 7838, 'ingesting': 3949, 'uild': 8680, 'savvy': 7558, 'airflow': 524, 'ipo': 4152, '2013': 101, 'loyal': 4548, 'freakishly': 3253, 'nviagogo': 6079, 'shows': 7785, 'helped': 3613, 'rapid': 7061, 'x81table': 9153, 'carried': 1280, 'crucial': 1994, 'viagogo': 8917, 'geographies': 3387, 'currencies': 2027, 'x81nd': 9150, 'piece': 6551, 'tie': 8478, 'underpinnings': 8711, 'ef': 2604, 'x81ciency': 9147, 'ppc': 6687, 'inventory': 4119, 'won': 9100, 'x81eld': 9149, 'parallel': 6361, 'stretch': 8156, 'teach': 8369, 'pretty': 6759, 'x81ndings': 9151, 'recognizing': 7122, 'catasys': 1305, 'od': 6160, 'storytellers': 8133, 'prizes': 6795, 'initial': 3952, 'moderating': 4877, 'detective': 2242, 'initially': 3954, 'sharp': 7749, 'vigilance': 8933, 'iqvia': 4155, 'merger': 4757, 'quintiles': 7031, 'edi': 2579, 'flat': 3147, 'library': 4425, 'manuals': 4622, 'responds': 7355, 'transmission': 8589, 'layouts': 4359, 'customizations': 2042, 'facets': 3004, 'nknowledgeable': 5592, 'tactically': 8332, 'turnaround': 8653, 'adapt': 386, 'transactions': 8564, 'reimagine': 7209, 'nqvia': 5841, 'niqvia': 5575, 'workday_recruiting': 9107, 'arrange': 721, 'r1071407': 7038, 'premium': 6727, 'swells': 8302, '96m': 262, 'subscription': 8205, 'joining': 4211, 'translates': 8584, 'phase': 6529, 'ab': 272, 'synthesizing': 8317, 'lendio': 4397, 'primarily': 6771, 'plenty': 6604, 'introduced': 4107, 'listening': 4475, 'ncontinuously': 5228, 'talents': 8346, 'nsql': 5948, 'ndomo': 5321, 'ncompetitive': 5208, '50k': 184, 'npeople': 5762, 'relaxed': 7229, 'nbright': 5142, 'npaid': 5747, 'nlearn': 5598, 'nhttp': 5523, 'greatplacetowork': 3487, 'filter': 3101, 'ngreat': 5501, 'philips': 6536, 'layered': 4355, 'formula': 3218, 'xml': 9259, 'precondition': 6706, 'calling': 1220, 'society': 7897, 'continuum': 1829, 'unexpected': 8724, 'moments': 4894, 'watching': 9021, 'blog': 1045, 'perceived': 6453, 'section': 7646, 'rehabilitation': 7208, '1973': 76, 'vietnam': 8925, 'readjustment': 7091, '888': 245, '367': 156, '7223': 219, 'ph1': 6523, 'forgot': 3205, 'password': 6403, 'difficulties': 2301, 'careersite': 1269, 'monitored': 4902, 'inbox': 3844, 'received': 7111, 'snr': 7889, 'tune': 8650, 'alignment': 543, 'agreed': 508, 'labeled': 4308, 'assuring': 786, 'automating': 860, 'sustained': 8294, 'posture': 6672, 'seated': 7639, 'positon': 6650, 'reed': 7163, 'rbi': 7076, 'petrochemicals': 6519, 'relx': 7254, 'plc': 6598, 'reedbusiness': 7164, 'uk': 8681, 'supplement': 8258, 'nrbi': 5846, 'charity': 1388, 'ote': 6291, 'salaries': 7524, 'cs': 2004, 'weka': 9050, 'parameters': 6364, 'intervals': 4093, 'significance': 7803, 'alexa': 533, 'everyday': 2856, 'simply': 7820, 'echo': 2560, 'dot': 2470, 'tap': 8351, 'nlu': 5617, 'hardest': 3562, 'delight': 2158, 'conversational': 1853, 'exceeds': 2872, 'tagging': 8335, 'syntactic': 8312, 'disambiguation': 2340, 'topic': 8520, 'contextual': 1816, 'namazon': 5041, 'women': 9099, 'ecd': 2558, 'pa': 6335, 'trial': 8617, 'pilots': 6557, 'medidata': 4727, 'rave': 7073, 'clinicaltrials': 1497, 'activation': 368, 'detect': 2240, 'ecdi': 2559, 'sparkml': 7957, 'pytorch': 6980, 'probabilistic': 6799, 'pymc3': 6975, 'edward': 2596, 'figaro': 3091, 'yrs': 9274, 'pharmaceutical': 6524, 'coordinator': 1877, 'transit': 8580, 'tdm': 8367, 'updating': 8785, 'surveying': 8284, 'efficacy': 2611, 'farebox': 3036, 'exceptions': 2879, 'rejection': 7218, 'reschedule': 7316, 'corrective': 1899, 'forecasts': 3196, 'endeavors': 2705, 'confer': 1721, 'originating': 6285, 'entering': 2757, 'receiving': 7112, 'urban': 8798, 'propose': 6893, 'hourly': 3703, 'viacom': 8916, 'touches': 8529, 'tv': 8659, 'total': 8526, 'translation': 8586, 'jr': 4224, 'deeper': 2137, 'viewers': 8930, 'devoted': 2265, 'mtv': 4953, 'comedy': 1579, 'vh1': 8913, 'bet': 990, 'ncore': 5236, 'metered': 4771, 'syndicated': 8311, 'foresting': 3201, 'attitudinal': 819, 'nba': 5119, 'nexpertise': 5438, 'redis': 7153, 'ncreative': 5244, 'thrives': 8471, 'x98think': 9180, 'tank': 8349, 'ish': 4159, 'catalyst': 1303, 'upper': 8794, 'wellsky': 9058, 'grads': 3457, 'gives': 3409, 'exists': 2911, 'semester': 7689, 'saves': 7556, 'nwellsky': 6091, 'eligibility': 2644, 'nblackthorn': 5134, 'therapeutics': 8448, 'neurobehavioral': 5398, 'disorders': 2383, 'depression': 2207, 'schizophrenia': 7585, 'autism': 852, 'pioneered': 6562, 'psychiatry': 6932, 'gen': 3358, 'multimodal': 4961, 'neuroimaging': 5400, 'resting': 7369, 'fmri': 3173, 'structural': 8170, 'mri': 4942, 'dwi': 2527, 'ample': 593, 'afni': 484, 'fsl': 3275, 'freesurfer': 3257, 'toolboxes': 8512, 'signal': 7799, 'modalities': 4865, 'eeg': 2599, 'fixed': 3140, 'route': 7477, 'specification': 7978, 'gtfs': 3513, 'combining': 1577, 'ntd': 5983, 'arcgis': 697, '09': 14, '07': 13, 'et': 2822, 'remaining': 7257, '13': 41, 'arra': 720, 'stimulus': 8113, 'monies': 4900, '01': 6, 'nindividuals': 5548, '919': 253, '515': 186, '3148': 143, 'offender': 6168, 'verified': 8894, 'wes': 9059, 'nnc': 5669, 'employers': 2681, 'cfdss': 1358, 'cfds': 1357, 'evangelizing': 2847, 'representing': 7296, 'datarobot': 2083, 'standpoint': 8063, 'demonstrations': 2184, 'informing': 3938, 'framing': 3246, 'workflows': 9112, 'advisor': 455, 'empathizing': 2671, 'qualifying': 6997, 'telecommunication': 8395, '52799': 187, 'pra': 6693, '15000': 51, 'grown': 3505, 'cro': 1989, 'settle': 7729, 'old': 6191, 'permeates': 6481, 'nacting': 5020, 'trending': 8614, 'ndeveloping': 5296, 'specifying': 7981, 'nproviding': 5829, 'ncreating': 5243, 'nperforms': 5767, 'teamsto': 8376, 'nrecommend': 5851, 'adaptive': 391, 'utilizingapplicable': 8828, 'usingprogramming': 8816, 'nleads': 5597, 'nescalates': 5382, 'concerns': 1703, 'outof': 6305, 'analytically': 604, 'nprevious': 5801, 'considering': 1768, 'programmers': 6852, 'jreview': 4225, 'jmp': 4199, 'graphics': 3476, 'manageable': 4600, 'npra': 5790, 'onlineapply': 6207, 'nshare': 5918, 'sorry': 7933, 'moment': 4893, 'refresh': 7180, 'later': 4336, 'newsfeed': 5413, 'alpha': 555, 'correction': 1897, 'faceted': 3003, 'neuberger': 5396, 'berman': 988, 'onlineaccommodations': 6206, 'nb': 5118, 'installed': 4001, 'portfolios': 6639, 'nthey': 6000, 'multidimensional': 4959, 'unlock': 8759, 'enhancement': 2736, 'nscripts': 5906, 'npatterns': 5758, 'ninsights': 5556, 'nset': 5914, 'ninform': 5550, 'ninternal': 5564, 'nproduct': 5814, 'quantification': 7004, 'ndefects': 5267, 'outliers': 6300, 'nprogress': 5819, 'ntoward': 6012, 'benchmarks': 982, 'nsustainable': 5978, 'ones': 6203, 'nscale': 5903, 'nmanipulate': 5631, 'nvariety': 6076, 'ndefine': 5268, 'ncomplex': 5211, 'nstories': 5959, 'nexecutive': 5429, 'ndashboards': 5259, 'infographics': 3929, 'voc': 8972, 'nadvance': 5030, 'nmaturity': 5637, 'counseling': 1921, 'nextract': 5445, 'nvalue': 6073, 'nyears': 6117, 'exp': 2916, 'nanalytics': 5049, 'ndecision': 5264, 'nefficiently': 5352, 'ggplot2': 3396, 'gainsight': 3321, 'connection': 1749, 'logically': 4510, 'staying': 8096, 'ncurrent': 5252, 'kind': 4273, 'blends': 1039, 'networked': 5393, 'hidden': 3624, 'currentbyge': 2029, 'announced': 627, 'sell': 7682, 'closing': 1504, 'approvals': 686, 'consultation': 1794, 'massachusetts': 4658, 'boston': 1085, 'east': 2546, 'cleveland': 1485, 'westlake': 9062, 'village': 8935, '1996': 81, 'specializing': 7974, 'traffic': 8551, 'chat': 1395, 'websites': 9039, 'stretches': 8157, 'continent': 1817, 'presence': 6743, 'streaming': 8145, 'gamification': 3327, 'referred': 7174, 'x9cppc': 9213, 'buyer': 1189, 'adwords': 462, 'adult': 434, 'succeeds': 8219, 'decisive': 2124, 'resourceful': 7342, 'buys': 1192, 'caps': 1256, 'impression': 3830, 'score': 7604, 'placements': 6578, 'qualities': 6999, 'composure': 1674, 'critically': 1985, 'summaries': 8236, 'appreciated': 675, 'colleague': 1549, 'representatives': 7294, 'imperative': 3813, 'flirt4free': 3157, 'understands': 8716, 'respects': 7351, 'attractive': 824, 'ods': 6163, 'edw': 2595, 'eb': 2553, 'containing': 1810, 'redesigning': 7152, 'responsiveness': 7363, 'energizing': 2715, '1901744': 70, 'summarizes': 8240, 'xgboost': 9257, 'agenda': 492, 'wallet': 9001, 'ndrives': 5326, 'nenhance': 5368, 'establishment': 2817, 'nresponsible': 5884, 'n2': 4988, 'earning': 2541, 'street': 8149, '06366': 12, 'corp': 1892, 'norganization': 5713, '1001': 20, 'nschedule': 5904, 'strength': 8151, 'healing': 3595, 'analyzable': 608, 'analyzed': 610, 'completes': 1654, 'ndocument': 5315, 'editing': 2583, 'retrieval': 7391, 'manuscripts': 4625, 'perpetuate': 6487, 'nexceptional': 5424, 'conceptualization': 1698, 'mount': 4929, 'sinai': 7825, 'devotion': 2266, 'culturally': 2016, 'ethically': 2825, 'unrivaled': 8771, 'welcoming': 9053, 'nurturing': 6057, 'belief': 970, 'chapter': 1380, 'compassionate': 1631, 'coordination': 1876, 'icahn': 3753, 'beth': 991, 'brooklyn': 1145, 'queens': 7017, 'roosevelt': 7468, 'luke': 4559, 'ear': 2535, 'infirmary': 3917, 'bored': 1081, 'journalists': 4219, 'bodies': 1062, 'civil': 1448, 'ndashboard': 5258, 'dplyr': 2480, 'tidyverse': 8477, 'js': 4226, 'definite': 2150, 'sample': 7531, 'c4ads': 1197, 'ninterns': 5566, 'stipend': 8114, 'prorated': 6898, 'objective': 6130, 'equality': 2789, 'ndue': 5327, 'contacted': 1804, 'nposition': 5783, 'x83': 9155, 'x98': 9177, 'satisfied': 7551, 'waterfall': 9023, 'geographically': 3386, 'dispersed': 2389, 'budgeting': 1162, 'n1st': 4986, 'nhours': 5520, 'n40': 4995, 'appzen': 693, 'nappzen': 5069, 'ee': 2598, 'bioinformatics': 1019, 'biology': 1021, 'nfamiliar': 5451, 'nsolve': 5939, 'iteratively': 4177, 'advocating': 461, 'ninteract': 5559, 'nchinese': 5177, 'black': 1034, 'metropolitan': 4785, 'logistical': 4512, 'fabric': 2999, 'ride': 7423, 'sandwich': 7539, 'represents': 7297, 'strengthen': 8152, 'economies': 2570, 'streets': 8150, 'autonomous': 865, 'trucking': 8634, 'haul': 3577, 'embed': 2653, 'rider': 7424, 'intensive': 4047, 'ocr': 6156, 'statistically': 8090, 'cohorts': 1537, 'demonstrable': 2178, 'guided': 3522, 'nsuperb': 5971, 'nfar': 5453, 'immerses': 3802, 'socials': 7894, 'lot': 4535, 'periodcross': 6470, 'hackday': 3541, 'playground': 6594, 'endless': 2707, 'undergradinternships': 8705, 'gradinternships': 3456, 'graduating': 3462, 'nnone': 5678, 'bridge': 1123, 'lapack': 4324, 'gurobi': 3528, 'contained': 1807, 'derivation': 2210, 'comma': 1585, 'delimited': 2160, 'json': 4228, 'ntransform': 6015, 'informative': 3936, 'commercially': 1594, 'nderive': 5283, 'object': 6129, 'rshiny': 7488, 'linking': 4467, 'nsuperior': 5972, 'nutritional': 6068, 'federally': 3069, 'disparities': 2385, 'snap': 7883, 'incoming': 3860, 'surveys': 8285, 'intake': 4027, 'archive': 705, 'docs': 2442, 'fte': 3276, 'ua': 8671, 'asu': 789, 'nau': 5105, 'recreation': 7141, 'arizona': 713, 'worldatwork': 9125, 'recording': 7138, 'copy': 1882, 'responses': 7357, 'verifies': 8895, 'follows': 3181, 'sorts': 7936, 'entered': 2756, 'corrects': 1902, 'reconciles': 7132, 'extracts': 2985, 'trackers': 8541, 'disseminates': 2401, 'filing': 3099, 'archives': 706, 'hardcopy': 3560, 'complicated': 1661, 'professionalism': 6834, 'accepts': 313, 'oversight': 6324, 'absorb': 286, 'remain': 7256, 'calm': 1222, 'stressful': 8155, 'regents': 7189, 'narizona': 5072, 'alphanumeric': 556, 'proofing': 6881, 'reconciling': 7135, 'nvivo': 6086, 'composition': 1673, 'spelling': 7987, 'flsa': 3166, 'therapy': 8451, 'expanded': 2918, 'audit': 834, 'enormous': 2745, 'president': 6752, 'ticketing': 8475, 'asana': 739, 'gatewaylg': 3338, 'focuskpi': 3178, 'unix': 8751, 'thank': 8440, 'nfocuskpi': 5470, 'customization': 2041, 'nanalysis': 5047, 'videos': 8924, 'analyse': 596, 'indictors': 3894, 'analysing': 598, 'advocate': 459, 'incites': 3850, 'clickstream': 1489, 'udf': 8677, 'inquisitive': 3981, 'capitalizes': 1255, 'reacting': 7085, 'prioritization': 6785, 'info': 3926, '2dreaminc': 131, 'nvoice': 6087, 'completely': 1652, 'spoken': 7998, 'infancy': 3909, 'ericsson': 2800, 'nericsson': 5381, 'borders': 1080, '180': 62, 'achievements': 349, 'practically': 6696, 'impossible': 3829, 'brains': 1099, '5g': 197, 'accelerator': 306, 'sweden': 8301, 'india': 3887, 'nmachine': 5619, 'mi': 4788, 'push': 6969, 'frontiers': 3273, 'digitalization': 2308, 'acceleration': 305, 'societal': 7895, 'nthen': 5997, 'nrole': 5895, 'accelerating': 304, '4g': 178, 'exogenous': 2915, 'proposing': 6895, 'industrialize': 3902, 'nengage': 5366, 'academia': 298, 'nstatistics': 5957, 'nprogramming': 5818, 'discriminant': 2368, 'bagging': 918, 'svm': 8296, 'functionalities': 3289, 'industrialization': 3901, 'viability': 8914, 'ncertifying': 5171, 'moocs': 4913, 'nurture': 6056, 'persistence': 6490, 'white': 9072, 'blogs': 1046, 'sensitivity': 7698, 'bf1': 996, 'ntag': 5980, 'manahj': 4608, 'substance': 8211, 'abuse': 295, 'opinion': 6236, 'compact': 1621, 'inquired': 3978, 'discussed': 2376, 'disclosed': 2352, 'disclose': 2351, 'formal': 3208, 'complaint': 1649, 'furtherance': 3308, 'proceeding': 6810, 'conducted': 1717, 'furnish': 3306, 'lie': 4433, 'detector': 2243, 'discharging': 2344, 'disciplining': 2349, 'discriminating': 2371, 'prospective': 6901, 'refusing': 7183, 'exercising': 2905, 'whd': 9070, 'eppac': 2787, 'modifications': 4883, 'adjustments': 415, '866': 242, '374': 157, '2272': 119, '877': 244, '338': 150, '9966': 266, 'serveng': 7716, 'nulta': 6034, 'beauty': 958, 'enthusiast': 2763, 'butterflies': 1186, 'shops': 7773, 'prestige': 6756, 'mass': 4657, 'salon': 7530, 'roof': 7464, 'committing': 1600, 'thrill': 8469, 'qm': 6988, 'harnesses': 3569, 'ulta': 8684, 'joined': 4210, 'differentiate': 2296, 'guest': 3517, 'journeys': 4222, 'discovering': 2363, 'boundaries': 1086, 'rock': 7455, 'x9cwow': 9229, 'versatile': 8900, 'mark': 4639, 'nplatform': 5778, 'nrelation': 5859, 'garner': 3334, 'nmentor': 5641, 'lesser': 4402, 'strategically': 8140, 'nprefered': 5795, 'gpu': 3452, 'approaching': 682, 'squarespace': 8021, 'ndepending': 5282, 'roadmap': 7445, 'reframe': 7179, 'reveal': 7400, 'instrument': 4015, 'transformations': 8575, 'nsquarespace': 5949, 'blending': 1038, 'elegant': 2636, 'entrepreneurs': 2771, 'iconic': 3757, 'downtown': 2477, 'dublin': 2519, 'portland': 6641, 'ntoday': 6008, '19000bn4': 66, '199': 79, 'relevance': 7237, 'viewability': 8927, 'addthis': 405, 'bluekai': 1053, 'crosswise': 1992, 'datalogix': 2077, 'grapeshot': 3472, 'moat': 4859, 'x9crivr': 9217, 'verticals': 8908, 'telco': 8393, 'b2b': 897, 'odc': 6161, 'rivr': 7439, 'smarter': 7868, 'ambition': 571, 'broomfield': 1147, 'communicated': 1609, 'maximizing': 4691, 'viewable': 8928, 'persuasively': 6508, 'proposition': 6896, 'grounding': 3500, 'nuances': 6028, 'interrogate': 4087, 'prospect': 6899, 'visitation': 8954, 'pixel': 6572, 'walled': 9000, 'garden': 3333, 'profession': 6832, 'complimented': 1664, 'x98big': 9179, 'underperforming': 8710, 'qubole': 7016, 'gui': 3519, 'convention': 1849, 'x9cwhy': 9228, 'extending': 2972, 'lack': 4313, 'prescribed': 6741, 'consolidate': 1777, 'x9cbig': 9194, 'ninteracts': 5560, 'varied': 8867, 'noracle': 5709, 'batch': 946, 'solr': 7916, 'connectivity': 1751, 'instincts': 4005, 'kpi': 4297, 'sourcing': 7943, 'penney': 6445, 'nplano': 5777, 'nacquires': 5017, 'accomplishments': 329, 'sharepoint': 7746, 'datameer': 2078, 'competing': 1640, 'ndemonstrate': 5276, 'quantities': 7010, 'plano': 6585, 'jcpenney': 4188, 'discount': 2357, 'merchandise': 4752, 'clinic': 1494, 'daycare': 2096, 'preschool': 6738, 'cafeteria': 1206, 'garage': 3332, 'parking': 6373, 'golden': 3432, 'rooted': 7470, 'treat': 8604, 'touchpoint': 8530, 'stylish': 8188, 'reinforcing': 7215, 'warrior': 9015, '98': 263, 'prosper': 6903, 'flourishes': 3162, 'nfollow': 5471, 'instagram': 3999, 'linkedin': 4466, 'jcp': 4187, 'nreq': 5869, '1082692': 26, 'cooper': 1868, 'alley': 547, 'dream': 2492, 'alive': 544, 'oh': 6184, 'determined': 2246, 'lending': 4396, 'candor': 1242, 'aren': 710, 'punch': 6954, 'clock': 1500, 'hole': 3667, 'quo': 7034, 'manger': 4612, 'talking': 8348, 'x9cbusy': 9195, 'gaining': 3319, 'mappings': 4629, 'sttm': 8175, 'reverse': 7403, 'upcoming': 8781, 'geared': 3353, 'xa2gather': 9233, 'xa2work': 9238, 'xa2showcase': 9237, 'incredibly': 3874, 'technologically': 8386, 'xa2knowledge': 9235, 'understating': 8717, 'xa2hands': 9234, 'xa2preferred': 9236, '2021': 110, 'concurrently': 1713, 'demonstration': 2183, 'trustmark': 8641, 'personalized': 6498, 'circumstance': 1438, 'revolves': 7411, 'peace': 6438, 'digest': 2303, 'suggest': 8226, 'raw': 7074, 'aggregated': 497, 'recorded': 7137, 'imaged': 3787, 'servicing': 7722, 'lien': 4434, 'named': 5042, 'datatree': 2087, 'concentrated': 1692, 'energized': 2714, 'examining': 2868, 'superiority': 8250, 'nserve': 5912, 'subscribe': 8202, 'nemploy': 5359, 'repairs': 7276, 'nrepresent': 5868, 'boarding': 1057, 'x9cmaintenance': 9207, 'cis': 1440, 'interfacing': 4065, 'invests': 4137, 'firstam': 3133, 'emerge': 2663, 'dropbox': 2507, 'mentions': 4748, 'backlog': 911, 'multitude': 4966, 'excitement': 2885, 'leveling': 4408, 'super': 8247, 'atf': 792, 'bmw': 1055, 'breakthrough': 1118, 'car': 1260, 'pleased': 6601, 'databricks': 2072, 'repeatable': 7279, 'rmarkdown': 7440, 'ndistribute': 5309, 'napprise': 5065, 'derived': 2212, 'nuber': 6029, 'obsession': 6140, 'deeply': 2138, 'owning': 6332, 'nexample': 5422, 'nenabling': 5364, 'delightful': 2159, 'nbuilding': 5146, 'friction': 3263, 'npredicting': 5794, 'ndemonstrable': 5275, 'nknow': 5590, 'retraining': 7389, 'nsubstantial': 5965, 'lda': 4362, 'tf': 8436, 'idf': 3776, 'embeddings': 2656, 'word2vec': 9102, 'doc2vec': 2439, 'glove': 3422, 'variational': 8865, 'theorem': 8444, 'explained': 2947, 'inspiring': 3997, 'explanations': 2950, 'germany': 3392, 'sophomore': 7932, 'erp': 2801, 'zeiss': 9275, 'preserving': 6751, 'shaped': 7741, '170': 57, 'auto': 853, '169334br': 55, 'pepsico': 6452, 'undergoing': 8704, 'beverage': 994, 'assembled': 757, 'tied': 8479, 'resembles': 7323, 'embracing': 2662, 'npepsico': 5763, 'innovators': 3973, 'bounds': 1087, 'possibility': 6655, 'grocery': 3497, 'codebase': 1523, 'foster': 3228, 'dsa': 2513, 'postgressql': 6666, 'mssql': 4950, 'offs': 6182, 'prescreens': 6739, 'alcohol': 530, 'police': 6621, 'sections': 7648, '4901': 176, '4919': 177, 'download': 2474, 'trilogy': 8623, 'npowered': 5789, 'egos': 2620, 'instructors': 4014, 'universities': 8749, 'boot': 1076, 'camps': 1234, 'graduated': 3460, 'ndriven': 5325, 'mentality': 4745, 'ntrilogy': 6020, 'deserve': 2222, 'depends': 2198, 'lend': 4395, 'fans': 3033, 'critics': 1987, 'confront': 1743, 'head': 3589, 'nteamwork': 5985, 'diving': 2427, 'credibly': 1969, 'rows': 7482, 'ssas': 8026, 'integrates': 4033, 'facilitates': 3006, 'ncreates': 5242, 'cpa': 1943, 'ineligible': 3908, 'brooks': 1146, 'itw': 4178, 'hatfield': 3576, 'suburban': 8216, 'philadelphia': 6534, 'hungary': 3737, 'france': 3247, 'japan': 4183, 'laboratory': 4311, 'chemicals': 1405, 'semiconductor': 7691, 'instruments': 4019, 'nuclear': 6030, 'solar': 7908, 'cells': 1333, 'pareto': 6370, 'histograms': 3644, 'administer': 417, 'trackwise': 8544, 'preventive': 6764, 'capa': 1246, 'cc': 1322, 'failure': 3021, 'fa': 2997, 'traintrack': 8558, 'deficiencies': 2145, 'conformances': 1742, 'dynamically': 2530, 'satisfying': 7553, 'compete': 1635, 'prospered': 6904, 'changed': 1374, 'advertisement': 446, 'dorahitsolutions': 2469, 'avvo': 880, 'lawyers': 4352, 'teammate': 8373, 'likes': 4449, 'mentorship': 4751, 'envelope': 2774, 'approximations': 690, 'uncovering': 8700, 'conveying': 1860, 'maximum': 4692, 'nsuccess': 5966, 'enabled': 2692, 'sustain': 8290, 'ib': 3750, 'applauds': 660, 'intensely': 4046, 'enjoying': 2742, 'luxury': 4562, 'jeans': 4191, 'sneakers': 7886, 'ninternet': 5565, 'wholly': 9073, 'author': 844, 'invalid': 4114, 'defect': 2140, 'cycles': 2052, 'nplan': 5775, 'nreliably': 5862, 'stewardship': 8109, 'lessons': 4403, 'flowing': 3164, 'traceable': 8539, 'insertion': 3984, 'interoperability': 4079, 'flaws': 3150, 'ncomply': 5212, 'nmine': 5645, 'operationalizing': 6231, 'owner': 6329, 'mbr': 4696, 'qbr': 6983, 'nlearns': 5599, 'owns': 6333, 'nmonitoring': 5656, 'prod': 6819, 'n9': 5003, 'editors': 2586, 'powercenteridq': 6679, 'mercury': 4754, 'qtp': 6989, '10g': 27, '2010': 98, 'productivity': 6829, 'modular': 4887, 'sprint': 8014, 'ndetailed': 5291, 'decompose': 2128, 'pieces': 6552, 'institute': 4006, 'pavir': 6419, 'pi': 6547, 'eugene': 2832, 'butcher': 1184, 'butcherlab': 1185, 'stanford': 8065, 'edu': 2588, 'transcriptomics': 8567, 'investigators': 4132, 'vascular': 8873, 'immunology': 3807, 'tumor': 8649, 'translational': 8587, 'transcriptomic': 8566, 'biological': 1020, 'hrs': 3720, 'wk': 9097, 'nvision': 6084, 'ndental': 5279, 'nlong': 5613, 'nflexible': 5466, 'ncommuter': 5203, 'npavir': 5759, 'vapahcs': 8860, 'commence': 1588, 'jsl': 4227, 'inadequate': 3842, 'edits': 2587, 'nlicense': 5602, 'lbs': 4360, 'bending': 983, 'repetitive': 7280, 'wet': 9064, 'blood': 1047, 'borne': 1083, 'pathogens': 6410, 'toxic': 8536, 'caustic': 1319, 'reagents': 7093, 'radiation': 7040, 'engages': 2725, 'administering': 418, 'disease': 2379, 'refer': 7167, 'southern': 7945, 'jersey': 4193, 'perinatal': 6468, 'cooperative': 1870, '27': 126, 'bu1968': 1155, '116': 35, 'pennsauken': 6446, 'nj': 5581, 'organizationally': 6273, 'travels': 8600, 'indicated': 3890, 'annual': 630, 'snjpc': 7887, 'maternal': 4673, 'pediatric': 6441, 'comp': 1620, 'pkg': 6573, 'accommodate': 322, 'charleston': 1389, 'sc': 7564, '100k': 21, 'sisense': 7829, 'disruptive': 2399, '3188439': 145, 'afc': 470, 'protects': 6911, 'deutsche': 2250, 'avert': 873, 'unintentional': 8735, 'breaches': 1110, 'advise': 451, 'perimeter': 6467, 'assistant': 773, 'vice': 8918, 'pacific': 6339, 'franchise': 3248, 'heavily': 3605, 'gains': 3320, 'packed': 6343, 'x9cbank': 9193, 'x9cgtb': 9200, 'respectively': 7350, 'gtb': 3511, 'middle': 4796, 'x9cnca': 9210, 'x9cpr': 9214, 'rr': 7485, 'exited': 2913, 'subsidiaries': 8207, 'domiciled': 2463, 'avp': 879, 'gtb_tfccm_us': 3512, 'adoptions': 431, 'x9cedr': 9198, 'distinct': 2406, 'tfccm_us': 8437, 'licensed': 4428, 'pinpoint': 6559, 'soft': 7901, 'heads': 3594, 'switch': 8304, 'gears': 3354, 'charged': 1386, 'proces': 6811, 'divisions': 2430, 'depiction': 2200, 'eus': 2838, 'aml': 588, 'directives': 2327, 'escalations': 2804, 'steps': 8104, 'govern': 3442, 'solely': 7911, 'pivots': 6571, 'lookups': 4527, 'satisfy': 7552, 'overlapping': 6319, 'pmo': 6612, 'cash': 1294, 'ndeutsche': 5293, 'links': 4468, 'x9c': 9188, 'press': 6753, 'textio': 8434, 'genre': 3378, 'introspection': 4110, 'niteratively': 5578, 'intrinsic': 4105, 'extrinsic': 2990, 'ncurating': 5250, 'ncollaborating': 5191, 'abstractions': 291, 'ncontributing': 5232, 'nstrengthening': 5961, 'interpretable': 4082, 'explainability': 2946, 'shipping': 7764, 'practicality': 6695, 'path': 6409, 'concrete': 1711, 'louder': 4538, 'specs': 7982, 'ego': 2619, 'ntextio': 5994, 'outfront': 6296, 'profits': 6848, 'sourced': 7941, 'obiee': 6128, 'bics': 1001, 'oac': 6125, 'suit': 8231, 'wishes': 9093, 'nservice': 5913, 'nmaintenance': 5623, 'paralegal': 6360, 'numerate': 6038, 'naptitude': 5070, 'naccustomed': 5015, 'sla': 7854, 'aware': 884, 'nintermediate': 5563, 'nindependently': 5547, 'nexperienced': 5436, 'astreya': 788, 'nintroduction': 5572, 'ncareer': 5162, 'nonline': 5696, 'cbt': 1321, 'nuggets': 6032, 'upskill': 8796, 'ndedicated': 5265, 'nnumerous': 5685, 'npeer': 5761, 'nmarket': 5633, 'nastreya': 5091, 'showing': 7782, '31': 140, 'verifications': 8893, 'ofac': 6165, 'ss': 8024, 'vb': 8876, 'ssential': 8028, 'mines': 4819, 'maturity': 4687, 'rally': 7049, 'diet': 2292, 'choosing': 1424, 'doctor': 2443, 'coo': 1866, 'david': 2092, 'ko': 4294, 'says': 7561, 'innovates': 3967, 'okay': 6189, 'burn': 1179, 'lifetime': 4441, 'mixture': 4851, 'schemas': 7584, 'nrally': 5845, 'knows': 4293, 'appearance': 658, 'notify': 5736, 'rallyhealth': 7050, 'vudu': 8989, 'ab1': 273, 'juggle': 4232, 'waitr': 8993, 'redefining': 7151, 'sided': 7793, 'concierge': 1705, 'convenience': 1847, 'humor': 3735, 'came': 1229, 'waitrapp': 8994, 'dynamics': 2531, 'backwards': 915, 'sizing': 7843, 'ideating': 3767, 'ncollecting': 5194, 'nmanaging': 5630, 'jump': 4236, 'resilient': 7334, 'carve': 1288, 'hyper': 3746, 'perk': 6476, 'rare': 7064, 'nsharp': 5920, 'nnine': 5674, 'nunlimited': 6052, 'nstandard': 5952, 'macbook': 4567, 'brass': 1108, 'negotiable': 5355, 'reonomy': 7274, 'sapphire': 7543, 'bain': 919, 'softbank': 7903, 'represent': 7290, 'cre': 1955, 'newmark': 5411, 'knight': 4282, 'frank': 3251, 'cushman': 2035, 'wakefield': 8995, 'tishman': 8492, 'speyer': 7991, 'intelligently': 4044, 'complexities': 1658, 'nwriting': 6110, 'trivial': 8627, 'nhistory': 5518, 'noffice': 5688, '3x': 162, 'breakfast': 1114, '2x': 134, 'citi': 1441, 'bike': 1009, 'discounts': 2359, 'wellness': 9057, 'rooms': 7467, 'recruiters': 7144, 'interacts': 4057, 'dexcom': 2268, 'glucose': 3424, 'diabetes': 2274, 'caregivers': 1273, 'timeline': 8484, 'dataproc': 2081, 'datalab': 2076, 'aways': 887, 'decomposition': 2129, 'factorization': 3016, 'mllib': 4854, 'published': 6941, 'discriminated': 2370, 'proofpoint': 6882, 'protecting': 6908, 'intel': 4039, 'singularly': 7827, 'cybersecurity': 2050, 'x94and': 9165, 'gans': 3329, 'resnets': 7335, 'mastered': 4663, 'classics': 1462, 'malicious': 4595, 'actors': 374, 'craftsmanship': 1950, 'classifiers': 1466, 'repo': 7282, 'xafve': 9246, 'convnet': 1864, 'lstm': 4554, 'siamese': 7790, 'dbscan': 2103, 'spectral': 7983, 'som': 7925, 'lsh': 4552, 'toolkits': 8515, 'genism': 3376, 'vowpal': 8985, 'wabbit': 8992, 'algebra': 535, 'appreciation': 677, 'treating': 8606, 'jl3': 4198, 'staples': 8067, 'assortment': 781, 'lowest': 4547, 'embodied': 2658, 'promise': 6870, 'x9cwe': 9226, 'incentives': 3846, 'resides': 7331, 'sba': 7562, 'visualizing': 8964, 'powerbi': 6677, 'breakroom': 1117, 'furniture': 3307, 'promotional': 6876, 'solopreneurs': 7915, 'sycamore': 8308, 'composed': 1670, 'totaling': 8527, '17b': 59, 'warner': 9013, 'robins': 7447, 'force': 3190, 'nwould': 6108, 'branch': 1103, 'organic': 6270, 'advice': 450, 'effects': 2610, 'integrating': 4034, 'prompt': 6877, 'ncse': 5249, 'grainger': 3464, 'distributor': 2417, 'mro': 4944, 'gloves': 3423, 'ladders': 4315, 'janitorial': 4181, 'branches': 1104, 'outlined': 6302, 'jci': 4186, 'duration': 2523, 'npursuing': 5832, 'nrising': 5892, 'op': 6213, 'developmental': 2257, 'roundtable': 7476, 'networking': 5394, 'johnsoncontrols': 4208, 'tomorrowneedsyou': 8506, 'tws': 8664, 'terabytes': 8415, 'strives': 8163, 'observational': 6135, 'sq': 8016, 'vertica': 8905, 'documented': 2448, 'nestablish': 5385, 'urgency': 8799, 'ntraining': 6014, 'nindustry': 5549, 'graphic': 3474, 'vulgar': 8990, 'violent': 8939, 'pornography': 6636, 'null': 6033, 'nten': 5991, 'multiplier': 4964, 'sellers': 7684, 'buyers': 1190, 'matches': 4668, 'accelerates': 303, 'streamlines': 8147, '55': 190, 'safely': 7515, 'virtue': 8945, 'seller': 7683, 'transacting': 8561, 'dramatic': 2485, 'nhttps': 5524, 'parameter': 6363, 'estimation': 2821, 'nthorough': 6002, 'regressions': 7199, 'louisville': 4540, 'ky': 4303, 'referencing': 7171, 'hits': 3651, 'consistencies': 1770, 'standardizations': 8058, 'epic': 2783, 'meditech': 4728, 'asc': 741, 'x12': 9145, '270': 127, '271': 128, '837': 236, '835': 235, 'joins': 4212, 'hl7': 3654, 'fhir': 3085, 'hipaa': 3637, 'progression': 6858, 'respected': 7345, 'advocates': 460, 'nblue': 5135, '1970': 75, 'thirteen': 8460, 'indiana': 3888, 'kentucky': 4259, 'ohio': 6185, 'sponsor': 7999, 'mister': 4844, 'wash': 9016, 'dry': 2511, 'tucson': 8647, 'uwc': 8832, 'nmember': 5640, 'nbehavioral': 5131, 'ntrial': 6019, 'nintellectual': 5558, 'whys': 9075, 'whats': 9069, 'pos': 6642, 'nlike': 5605, 'dirty': 2334, 'nmodern': 5651, 'nfast': 5456, 'ncar': 5161, 'nmister': 5649, 'nbrand': 5140, 'naddress': 5026, '222': 118, '5th': 200, '85705': 240, 'nproperty': 5825, 'anonymization': 634, 'jupiter': 4242, 'scikitlearn': 7597, 'restful': 7368, 'mac': 4566, 'command': 1586, 'kegerator': 4258, 'zogsports': 9283, 'torchlight': 8524, 'adhere': 407, 'proofread': 6883, 'tabulation': 8325, 'hygiene': 3745, 'granular': 3470, 'syntax': 8313, 'ntorchlight': 6010, 'placing': 6580, 'voted': 8984, 'places': 6579, 'torchlighthire': 8525, 'did': 2287, 'lyft': 4564, 'prospects': 6902, 'politically': 6627, 'aftermath': 487, 'woes': 9098, 'eclipse': 2561, 'hotel': 3697, 'bookings': 1071, 'nascent': 5079, 'itch': 4170, 'obstacles': 6143, 'toolbelt': 8511, 'stickler': 8110, 'careful': 1270, 'gifted': 3400, 'juggling': 4233, 'relish': 7250, 'goods': 3437, 'sociology': 7898, 'curve': 2033, 'nedison': 5339, 'island': 4160, 'stuck': 8176, 'backseat': 913, 'figuring': 3095, 'textbook': 8433, 'blameless': 1035, 'postmortems': 6670, 'hiringorganization': 3642, 'edison': 2581, 'costa': 1914, 'mesa': 4763, 'executed': 2893, 'mart': 4653, 'steward': 8106, '350': 153, 'die': 2289, 'collisions': 1560, 'zero': 9277, 'insurtech': 4024, 'preventing': 6762, 'hiroad': 3643, 'poised': 6620, 'trillion': 8622, 'longer': 4519, 'mindful': 4814, 'backend': 908, 'suites': 8235, 'ngeneral': 5492, 'consumed': 1798, 'glms': 3417, 'nactuarial': 5022, 'factoring': 3015, 'unable': 8687, 'shower': 7781, 'panoramic': 6355, 'montgomery': 4909, 'station': 8087, 'locals': 4499, 'owl': 6327, 'looks': 4526, 'suplari': 8257, 'shine': 7760, 'light': 4445, 'procurement': 6818, 'visualizes': 8963, 'manpower': 4619, 'clunky': 1510, 'nsuplari': 5974, 'nordstrom': 5711, '21st': 116, 'century': 1345, 'fox': 3239, 'tesla': 8425, 'sonos': 7928, 'aiming': 520, 'x9cshare': 9221, '2000': 90, 'seeing': 7657, 'formatted': 3214, 'uploaded': 8793, 'normalization': 5717, 'categorization': 1308, 'unclean': 8695, 'credibility': 1968, 'wrangling': 9135, 'apptio': 692, 'skytap': 7853, 'iconclude': 3756, 'trulia': 8637, 'zillow': 9282, 'madrona': 4572, 'amplify': 594, 'sigma': 7797, 'automatically': 859, 'mountain': 4930, 'bruno': 1151, 'wa': 8991, 'napplied': 5060, 'arrive': 725, 'chrome': 1426, 'android': 616, 'youtube': 9272, 'intego': 4029, 'evaluates': 2842, 'intra': 4101, 'summarize': 8239, 'socialized': 7893, 'looker': 4522, 'firmly': 3131, 'beats': 955, 'supplemental': 8259, 'dramatically': 2486, 'x94something': 9172, 'insurtechs': 4025, '2006': 94, 'waltham': 9005, 'rochester': 7454, 'pleasanton': 6600, 'religious': 7249, 'unfavorable': 8725, 'minimize': 4822, 'pharmaceuticals': 6525, 'cures': 2024, 'diseases': 2380, 'matched': 4667, 'deployed': 2202, 'nsan': 5901, 'nraleigh': 5844, 'durham': 2524, 'nnew': 5671, 'nlittleton': 5607, 'ncleveland': 5183, 'naustin': 5106, 'nann': 5052, 'arbor': 696, 'debugging': 2117, 'prof': 6831, 'eo': 2781, 'nibm': 5527, '42': 168, 'alelo': 531, 'saved': 7555, 'enskill': 2751, 'dialogue': 2282, 'raters': 7068, 'retrain': 7388, 'taken': 8338, 'chatbot': 1396, 'ndemonstrates': 5278, 'nmodels': 5650, 'npresents': 5800, 'ncertificate': 5168, 'ndoctoral': 5314, 'selling': 7685, '695': 214, 'banners': 929, 'fiscal': 3134, '485': 175, 'philanthropy': 6535, 'unwavering': 8780, 'exporting': 2962, 'spm': 7997, 'naffirmative': 5034, 'penn': 6444, 'nfosys': 5479, 'pythoninfosys': 6979, 'transferring': 8571, 'wanted': 9007, 'navigators': 5114, 'transformationsas': 8576, 'architectural': 701, 'anchor': 614, 'evangelize': 2846, 'infosys': 3940, 'pursuits': 6968, 'rewarded': 7413, 'bellevue': 975, 'travelu': 8601, 'qualificationsbasic': 6994, 'lieu': 4435, 'preferable': 6717, 'nlstm': 5615, 'knn': 4285, 'gcp': 3349, 'integer': 4028, 'constraint': 1784, 'analyticso': 606, 'managemento': 4603, 'segmentationo': 7668, 'sticks': 8111, 'differentiators': 2298, 'usinfosys': 8814, 'outsourcing': 6314, 'competition': 1641, 'dinners': 2318, 'broadway': 1140, 'nyc': 6116, 'sightseeing': 7796, 'speaker': 7962, 'fitting': 3138, 'robotics': 7450, 'troves': 8633, 'prescribe': 6740, 'bq': 1095, 'sharpen': 7750, 'centered': 1338, 'ncorporate': 5237, 'ndeloitte': 5274, 'extends': 2973, 'volunteerism': 8982, 'nrecruiter': 5853, 'tips': 8491, 'seekers': 7660, 'sparse': 7959, 'hmm': 3659, 'asking': 745, 'immersed': 3801, 'freely': 3256, 'saying': 7560, 'constellis': 1781, 'operators': 6234, 'academi': 297, 'amk9': 587, 'triple': 8625, 'canopy': 1245, 'olive': 6193, 'omniplex': 6199, 'centerra': 1340, 'edinburgh': 2580, 'c4i': 1198, 'crisis': 1980, 'africa': 486, 'reston': 7370, 'megacenter': 4734, 'gsa': 3509, 'fps': 3240, 'emergency': 2665, 'leso': 4401, 'responders': 7354, 'guard': 3515, 'posts': 6671, 'occupant': 6151, 'elevators': 2642, 'dispatching': 2388, 'removal': 7265, 'rexus': 7416, 'alarm': 528, 'demographics': 2177, 'zones': 9286, 'notes': 5730, 'delete': 2157, 'copies': 1880, 'backup': 914, 'dispatcher': 2387, 'exclude': 2888, 'delayed': 2155, 'emails': 2652, 'dispatch': 2386, 'flag': 3145, 'notification': 5734, 'blotter': 1051, 'logging': 4507, 'stats': 8093, 'webrms': 9037, 'leims': 4394, 'mist': 4841, 'megan': 4735, 'moral': 4915, 'cornerstone': 1890, '21': 114, 'augmented': 839, 'nrace': 5843, 'vet': 8909, 'reconciliation': 7133, 'effecting': 2606, 'ninvestigate': 5573, 'exploitation': 2954, 'loopholes': 4529, 'grad': 3453, 'nwish': 6102, 'eng': 2720, 'mediation': 4723, 'parametric': 6365, 'quasi': 7015, 'dyadic': 2528, 'ncheck': 5174, 'adopt': 429, 'ambassador': 568, 'sophistication': 7931, 'participant': 6378, 'empowerment': 2688, 'aspiring': 753, 'essentials': 2813, 'nudacity': 6031, 'payback': 6422, 'lgbtq': 4419, 'crunch': 1996, 'datacenter': 2073, 'broadly': 1139, 'fleet': 3151, 'voiding': 8975, 'warranties': 9014, 'apart': 652, 'narticulate': 5076, 'descriptionalphawise': 2219, 'morgan': 4916, 'stanley': 8066, 'alphawise': 558, 'enabler': 2693, 'x9coffense': 9211, 'x9cdefense': 9197, 'smes': 7873, 'quants': 7012, 'rulebooks': 7500, 'shore': 7774, 'reasoning': 7106, 'suggesting': 8228, 'ayima': 892, 'n25': 4992, 'nsummer': 5970, 'fridays': 3266, 'sun': 8244, 'nopportunities': 5705, 'njunior': 5586, 'immerse': 3800, 'determination': 2244, 'sharer': 7747, 'omniture': 6200, 'utm': 8829, 'formulas': 3219, 'vlookup': 8970, 'seo': 7704, 'nteam': 5984, 'breakfasts': 1115, 'nickelback': 5529, 'ndog': 5318, 'nbeer': 5130, 'fridge': 3267, 'bar': 930, 'nnintendo': 5675, 'worlds': 9128, 'forge': 3204, 'lauded': 4340, 'rsg': 7486, 'modelers': 4870, 'river': 7437, 'junction': 4238, 'vermont': 8899, 'reproducible': 7299, 'landscapes': 4321, '1b': 84, 'vets': 8912, 'rsginc': 7487, 'inscape': 3983, 'vizio': 8969, 'automatic': 858, 'tvs': 8660, 'ninscape': 5554, 'unavailable': 8691, 'granularity': 3471, 'dash': 2064, 'x9cmake': 9208, 'polished': 6625, 'nextremely': 5447, 'nenthusiastic': 5374, 'extreme': 2988, 'demeanor': 2173, 'upload': 8792, 'selects': 7677, 'adapts': 392, 'anticipates': 645, 'exceptionally': 2878, 'measured': 4713, 'harvard': 3572, 'llp': 4492, 'advisors': 456, 'competitors': 1644, 'questionnaires': 7024, 'nfluency': 5468, 'separately': 7706, 'composites': 1672, 'nfactset': 5450, 'continuity': 1826, 'disaster': 2341, 'recovery': 7140, 'dialog': 2281, 'simplified': 7817, 'participation': 6382, 'openx': 6221, 'petabyte': 6515, 'cut': 2045, 'bagged': 917, 'boosted': 1074, 'incorporating': 3868, 'glance': 3411, 'nopenx': 5702, 'unleashing': 8756, 'screens': 7617, 'marketplaces': 4646, 'executors': 2901, 'fascinated': 3044, 'empathetic': 2670, 'bedrock': 960, 'remind': 7262, 'dies': 2291, 'reputations': 7301, 'repeat': 7277, 'aggressively': 501, 'criticism': 1986, 'defensiveness': 2143, 'weaklings': 9032, 'michael': 4790, 'kors': 4296, 'activations': 369, 'downstream': 2476, 'draws': 2491, 'npartners': 5753, 'nacts': 5021, 'nsupports': 5977, 'inconsistency': 3865, 'nexecutes': 5427, 'hydromax': 3744, 'crews': 1973, 'inspection': 3990, 'assign': 766, 'overcoming': 6317, 'mentally': 4746, 'esri': 2810, 'arcmap': 707, '2003': 91, 'husa': 3741, 'locating': 4502, 'aging': 505, 'wastewater': 9020, 'conveyance': 1859, 'contractors': 1833, 'utility': 8822, 'buried': 1178, 'coast': 1521, 'covering': 1941, 'exception': 2876, 'broadest': 1138, 'handicap': 3546, 'ncarrot': 5164, 'cigarette': 1434, 'smoking': 7876, 'preventable': 6761, 'fda': 3055, 'cleared': 1479, 'coaches': 1519, 'smartphone': 7870, 'njoining': 5584, 'formative': 3212, 'creators': 1965, 'publish': 6940, 'carrot': 1283, 'instrumented': 4018, 'mixpanel': 4850, 'keynote': 4266, 'trails': 8553, 'waterway': 9027, 'cafe': 1205, 'caltrain': 1226, 'shuttle': 7788, 'proximity': 6929, '101': 23, 'nvisit': 6085, 'doxo': 2478, 'bills': 1015, 'mature': 4686, 'biller': 1011, 'directory': 2332, 'charting': 1392, 'graphing': 3477, 'facilitation': 3008, 'nnature': 5668, 'nsupporting': 5976, 'nimprove': 5542, 'nextensive': 5444, 'quantitate': 7008, 'amer': 579, 'needing': 5344, 'wins': 9089, 'selflessly': 7681, 'digger': 2305, 'sees': 7665, 'unafraid': 8688, 'admit': 425, 'prove': 6919, 'nsift': 5928, 'nassess': 5083, 'brainstorms': 1102, 'investigating': 4127, 'bime': 1016, 'gooddata': 3435, 'funnel': 3304, 'mqls': 4939, 'arr': 719, 'scales': 7571, 'startups': 8078, 'ninterested': 5562, 'nzendesk': 6122, 'nby': 5149, 'agree': 507, 'explains': 2949, 'methodist': 4775, 'hm': 3655, 'cor': 1883, 'clinically': 1496, 'economically': 2568, 'crafted': 1948, 'council': 1920, 'givers': 3408, 'icare': 3754, 'npatient': 5756, 'progresses': 6856, 'hmh': 3657, 'nfinance': 5461, 'nquality': 5836, 'nconsults': 5222, 'implementable': 3815, 'arises': 712, 'settings': 7728, 'pertains': 6510, 'nsufficient': 5968, 'nnormal': 5679, 'atlantic': 799, 'editorial': 2585, 'formation': 3211, 'journalism': 4218, 'fundamentally': 3296, 'nacross': 5018, 'pillar': 6555, 'aspirational': 749, 'intentions': 4049, 'consequence': 1759, 'generosity': 3372, 'selfless': 7680, 'cloth': 1506, 'merits': 4762, 'forbearance': 3188, 'motive': 4926, 'productionizing': 6827, 'allocation': 549, 'prospecting': 6900, 'ntranslate': 6016, 'nbalance': 5125, 'swift': 8303, '43': 169, '65': 207, 'partakes': 6376, 'epidemiological': 2784, 'produces': 6823, 'relations': 7225, 'confers': 1724, 'epidemiology': 2786, 'infection': 3910, 'biostatistics': 1025, 'chronic': 1427, 'communicable': 1607, 'bureau': 1176, 'cancer': 1238, 'asthma': 787, 'napplicant': 5056, 'transcripts': 8568, 'diplomas': 2321, 'unofficial': 8765, 'advised': 452, 'claiming': 1452, 'dd214': 2105, 'reaching': 7083, 'hazardous': 3581, 'bodily': 1063, 'fluids': 3172, 'infectious': 3911, 'interval': 4092, 'filed': 3097, 'sanantonio': 7537, 'careercenter': 1266, 'aspx': 754, 'nhuman': 5525, '78205': 226, 'n210': 4991, '207': 112, '8705': 243, 'nhrcustomerservice': 5522, '00805': 4, 'nepidemiologist': 5379, 'nlh': 5601, 'epidemiologist': 2785, 'questionnaire': 7023, '539': 188, '86': 241, 'annually': 631, 'disagree': 2339, 'cosa': 1910, 'armed': 716, 'forces': 3192, 'describes': 2216, 'accrediting': 341, 'credits': 1971, 'beginner': 963, 'nhanes': 5506, 'brfss': 1122, 'pie': 6550, 'scatterplots': 7576, 'appealing': 657, 'nmorgan': 5660, 'securities': 7654, 'balances': 922, 'lifestyles': 4440, 'ntechnology': 5988, 'redefine': 7150, 'sizeable': 7840, 'imit': 3796, 'exclusively': 2890, 'msim': 4948, 'explaining': 2948, 'xb7identify': 9249, 'nopportunity': 5706, 'nstructured': 5964, 'xb7': 9247, 'variable': 8861, 'calculus': 1215, 'applicability': 662, 'xb7experience': 9248, 'xb7knowledge': 9250, 'nof': 5687, 'nquerying': 5840, '190007ji': 65, 'centerpiece': 1339, 'unlocks': 8761, 'ninja': 5553, 'transforms': 8578, 'v1': 8834, 'layers': 4356, 'puzzle': 6974, 'matrixed': 4683, 'variation': 8864, 'largely': 4328, 'arlington': 714, 'j0319': 4179, '2145': 115, 'cgi': 1360, 'builder': 1165, 'assimilation': 770, 'nmomentum': 5653, 'financials': 3111, 'x94supporting': 9173, 'reinforces': 7214, 'referrals': 7173, 'familial': 3028, 'mailbox': 4580, 'routed': 7478, 'djw': 2433, 'soliciting': 7913, 'faa': 2998, 'amcd': 575, 'mmac': 4856, 'cami': 1230, 'demographic': 2176, 'longitudinal': 4520, 'airman': 525, 'issuance': 4166, 'ames': 584, 'caci': 1203, 'therapies': 8449, 'limiting': 4454, 'aeromedical': 466, 'nzillow': 6124, 'certainty': 1351, 'unparalleled': 8766, 'homeowners': 3675, 'sparing': 7955, 'absorbing': 287, 'nonce': 5693, 'segmented': 7669, 'methodologically': 4777, 'incrementality': 3876, 'academies': 301, 'shy': 7789, 'personas': 6501, 'cultivate': 2013, 'seasoned': 7638, 'terabyte': 8414, 'ingested': 3948, 'minimizes': 4823, 'misinterpretation': 4834, 'realistic': 7095, 'nget': 5496, 'fulfilling': 3282, 'preparations': 6731, 'temp': 8403, 'sister': 7830, 'notifications': 5735, 'ratings': 7070, 'bold': 1065, 'augmenting': 840, 'undertaken': 8720, 'distributional': 2415, 'semantics': 7688, 'nproject': 5820, 'libsvm': 4426, 'shogun': 7766, 'nnatural': 5667, 'cleartk': 1483, 'scalanlp': 7568, 'breeze': 1121, 'clearnlp': 1482, 'opennlp': 6219, 'nltk': 5616, 'nstatistical': 5956, 'ipython': 4154, 'lucene': 4557, 'ndistributed': 5310, 'graphlab': 3478, 'ndatabases': 5261, 'foremost': 3199, 'commodity': 1602, 'dow': 2472, 'jones': 4214, 'platts': 6590, 'equips': 2793, 'seize': 7672, 'commodities': 1601, 'unions': 8737, 'unemployment': 8723, 'spglobal': 7992, 'forwarded': 3227, 'pdfdescribes': 6437, 'protections': 6910, 'takeaway': 8337, 'nparticipate': 5750, 'divisional': 2429, 'dax': 2094, 'calculation': 1213, 'extractions': 2984, 'ndocumentation': 5316, 'majors': 4590, 'trainings': 8557, 'introduction': 4108, 'shareholders': 7745, 'amex': 585, 'module': 4888, 'orchestra': 6259, 'rigorious': 7432, 'reolve': 7273, 'performances': 6462, 'markov': 4650, 'django': 2431, 'reqid': 7303, '19004162': 69, 'ndate': 5262, 'founding': 3237, 'featured': 3064, 'wall': 8999, 'pbs': 6431, 'newshour': 5414, 'techcrunch': 8379, 'nparadigm': 5748, 'dsr': 2516, 'ndefining': 5271, 'debug': 2116, 'scraped': 7610, 'econometric': 2565, 'bootcamps': 1077, 'version': 8903, 'finder': 3113, 'double': 2471, 'jumping': 4237, 'acknowledge': 352, 'mistake': 4842, 'x8bthis': 9157, 'x8bwe': 9158, 'tonnes': 8508, 'ideation': 3768, 'abstract': 288, 'approachable': 680, 'pockets': 6615, 'correlation': 1904, 'gdit': 3350, 'quintuple': 7032, 'prices': 6768, 'nthese': 5999, 'topline': 8522, 'scot': 7608, 'economists': 2571, 'statisticians': 8091, 'oin': 6187, 'pharmacies': 6526, 'n___________________________________________________________________________________': 5006, 'databank': 2069, 'fdb': 3056, 'ssms': 8031, 'nincludes': 5544, 'dart': 2063, 'tfs': 8438, 'nhandling': 5504, 'pharmacists': 6527, 'nany': 5054, 'ntroubleshooting': 6022, 'php': 6540, '___________________________________________________________________________': 269, 'nfdb': 5457, 'decades': 2118, 'fdbhealth': 3057, 'indianapolis': 3889, 'awarded': 882, 'honors': 3683, 'indy': 3905, 'honor': 3682, 'specializes': 7973, 'neeo': 5347, 'pgh': 6521, 'charlestown': 1390, 'marc': 4635, 'cogniscient': 1531, 'marcusa': 4637, 'cogniscientmedia': 1532, 'outpaced': 6306, 'lendr': 4398, 'loans': 4496, 'revolutionizing': 7410, 'guy': 3530, 'hoops': 3684, 'nsalesforce': 5899, 'nazure': 5117, 'nwhatever': 6095, 'indexes': 3885, 'mile': 4805, 'technique': 8383, 'regularization': 7202, 'weighted': 9048, 'squares': 8020, 'censored': 1334, 'endogeneity': 2708, 'conceptualizing': 1700, 'chart': 1391, 'conceptualize': 1699, 'recommending': 7128, 'straight': 8135, 'pioneering': 6563, 'usdc': 8807, 'pioneer': 6561, 'mold': 4891, 'horizon': 3687, 'ramp': 7051, 'cron': 1990, 'sparksql': 7958, 'nliveintent': 5609, 'knit': 4284, 'dbs': 2102, 'kbs': 4254, 'tbs': 8364, 'inversely': 4120, 'lookml': 4524, 'beverages': 995, 'pilates': 6554, 'subsidized': 8209, 'liveintent': 4484, 'softball': 7902, 'football': 3185, 'soccer': 7891, 'learns': 4378, 'speakers': 7963, 'offsite': 6183, 'simplest': 7815, 'superpower': 8251, 'ml1': 4853, 'newwave': 5419, 'modernize': 4881, 'began': 961, '2004': 92, 'nassemble': 5082, 'separated': 7705, 'dependency': 2194, 'disconnected': 2356, 'queuing': 7028, 'attained': 810, 'azkaban': 894, 'luigi': 4558, 'nresidency': 5878, 'lived': 4483, 'nexempt': 5430, 'nshould': 5925, 'closure': 1505, 'persuasion': 6507, 'nnewwave': 5672, '56': 191, '784': 228, 'rc': 7077, 'pennsylvania': 6447, '19002353': 68, 'pittsburgh': 6568, 'radiology': 7042, 'psychiatric': 6931, 'molecular': 4892, 'pmod': 6613, 'neurochemical': 5399, 'abnormalities': 280, 'addictive': 395, 'humans': 3732, 'nassignment': 5086, 'fulltime': 3284, 'programmer': 6851, 'ncampus': 5155, 'baccalaureate': 902, '30am': 139, '00pm': 5, 'nhiring': 5517, 'nvisa': 6083, 'nbackground': 5123, 'finalists': 3106, 'nchild': 5176, 'noptional': 5708, 'nduration': 5328, 'netezza': 5390, 'initio': 3960, 'nend': 5365, 'informational': 3935, 'microstrategy': 4794, 'lilly': 4450, 'liaison': 4422, 'nmonthly': 5658, 'nstewardship': 5958, 'pulls': 6949, 'nad': 5023, 'nowner': 5745, 'unite': 8743, '39': 159, 'medicines': 4726, 'nqualified': 5835, 'tn': 8497, 'msword': 4951, 'pl': 6574, 'db': 2099, 'belt': 978, 'arrangement': 722, 'jul': 4234, 'computation': 1684, 'scorecards': 7606, 'svp': 8298, 'evp': 2863, 'chs': 1429, 'occasion': 6148, 'projectors': 6865, 'laptops': 4326, 'atrium': 805, 'carolinas': 1278, 'compassion': 1630, '900': 250, 'nposting': 5788, 'ncarolinas': 5163, 'nchesapeake': 5175, 'conservancy': 1761, 'annapolis': 623, 'maryland': 4656, 'chesapeake': 1409, 'watershed': 9026, 'fish': 3135, 'wildlife': 9081, 'waters': 9025, 'abundant': 294, 'wetlands': 9065, 'shorelines': 7775, 'tens': 8410, 'acres': 361, 'vanishing': 8859, 'conserve': 1763, 'rivers': 7438, 'restore': 7372, 'park': 6372, 'foundations': 3233, 'conservation': 1762, 'nwithin': 6104, 'cic': 1433, 'restoration': 7371, 'habitat': 3539, 'incorporate': 3867, 'overseeing': 6322, 'supervisors': 8255, 'scientistwill': 7595, 'satellite': 7547, 'aerial': 464, 'imagery': 3789, 'lidar': 4432, 'ecological': 2562, 'unknowns': 8752, 'encountered': 2699, 'memos': 4742, 'decks': 2125, 'funders': 3299, 'dependable': 2192, 'finite': 3127, 'nonlinear': 5697, 'cntk': 1517, 'elite': 2649, 'nlive': 5608, 'relocate': 7252, 'nquantitative': 5839, 'neo': 5377, '92': 254, '093': 15, '118': 36, '670': 210, 'premiere': 6725, 'residents': 7330, 'consists': 1775, '850': 239, 'sworn': 8306, '650': 208, 'trained': 8555, 'safeguarding': 7514, 'mpd': 4935, 'civic': 1447, 'propel': 6885, 'capstat': 1257, 'abreast': 282, 'nlicensures': 5603, 'hrm': 3718, 'exhibits': 2908, 'nincumbent': 5546, 'weekend': 9044, 'courts': 1937, 'town': 8535, 'operator': 6233, 'permit': 6482, 'npositions': 5784, 'knot': 4287, 'weddingwire': 9040, 'bodas': 1061, 'gigmasters': 3402, 'bump': 1173, 'couples': 1929, 'tkww': 8496, 'funnels': 3305, 'birst': 1028, 'respectfully': 7347, 'turned': 8654, 'persevere': 6489, 'x94in': 9168, 'enters': 2760, 'aco': 354, 'recipients': 7117, 'auditing': 835, 'rosters': 7472, 'beaumont': 956, 'harris': 3571, 'birkhill': 1026, 'obtains': 6147, 'presently': 6749, 'internationally': 4074, 'orthopaedic': 6286, 'arthritis': 728, 'brigham': 1126, 'authorship': 851, 'abstracts': 293, 'oracore': 6254, 'listings': 4478, 'preliminary': 6723, 'codebooks': 1524, 'hectic': 3607, 'cv': 2047, 'nbrigham': 5141, 'unrelated': 8770, 'bwh': 1194, 'francis': 3249, '02115': 7, 'nrecruiting': 5854, 'orthopedics': 6288, 'nreview': 5889, 'acknowledgement': 353, 'pledges': 6603, 'constituent': 1782, 'mcw': 4701, 'fund': 3294, 'gift': 3399, 'deposits': 2206, 'nanswer': 5053, 'ndivision': 5312, 'donor': 2466, 'accountant': 337, 'trouble': 8628, 'shooting': 7767, 'nspecifications': 5945, 'nappropriate': 5066, 'substituted': 8215, 'raisers': 7046, 'ncertification': 5170, 'unitedhealthcare': 8746, 'rise': 7434, 'gadget': 3316, 'sm': 7862, 'distinguish': 2408, 'nproducing': 5813, 'predominately': 6715, 'tend': 8407, 'ssrs': 8033, 'couldn': 1919, 'doors': 2468, 'unitedhealth': 8745, 'nunitedhealth': 6051, 'usstratcom': 8818, 'commander': 1587, 'designated': 2224, 'nc3': 5152, 'se': 7628, 'ec': 2556, 'cohesive': 1535, 'compartmented': 1629, 'nc2': 5151, 'esi': 2807, 'nato': 5100, 'sar': 7544, 'nportland': 5782, 'cambia': 1228, 'frictionless': 3264, 'fragmented': 3241, 'disposal': 2392, 'chatbots': 1397, 'diagnosis': 2276, 'ncluster': 5186, 'nintegrate': 5557, 'tokenization': 8502, 'expressions': 2968, 'corenlp': 1887, 'gensim': 3379, 'mallet': 4596, 'lingpipe': 4460, 'ctakes': 2009, 'theano': 8442, 'crf': 1974, 'maxent': 4688, 'lsi': 4553, 'npractical': 5791, 'neager': 5332, 'convex': 1858, 'carries': 1282, 'graphical': 3475, 'tackles': 8327, 'tries': 8620, 'storages': 8124, 'napplying': 5063, 'nadapt': 5024, 'exploit': 2953, 'nrecent': 5850, 'eighteen': 2622, 'nable': 5009, 'ninterest': 5561, 'conception': 1695, 'nsynthesize': 5979, 'kernel': 4262, 'ensemble': 2750, 'methodically': 4774, 'companywide': 1624, 'investigated': 4125, 'scatter': 7574, 'plots': 6607, 'influential': 3923, 'sectional': 7647, 'ncoursework': 5239, 'tobacco': 8499, 'ncambia': 5154, 'spans': 7954, 'beginnings': 965, 'guru': 3529, 'npromote': 5822, 'nexecution': 5428, 'dataminer': 2079, 'intermedia': 4067, 'prime': 6773, 'blended': 1037, 'x94combined': 9166, 'nrocky': 5894, 'hill': 3636, 'ct': 2008, 'naxians': 5116, 'redtoo': 7157, 'axians': 890, 'assemble': 756, 'comparable': 1625, 'intacct': 4026, 'drivetime': 2505, 'periodically': 6472, 'nquantifying': 5838, 'nassessing': 5084, 'nforecasting': 5475, 'noptimizing': 5707, 'loan': 4495, 'nvaluing': 6074, 'unseen': 8772, 'bids': 1004, 'auctions': 829, 'ins': 3982, 'nutilizing': 6066, 'calculates': 1211, 'similarity': 7811, 'ndesigning': 5286, 'ncuriosity': 5251, 'nwhen': 6096, 'cornwall': 1891, 'slch': 7856, 'campuses': 1236, 'newburgh': 5408, 'hudson': 3728, 'aspires': 752, 'cardiac': 1263, 'stroke': 8165, 'orthopedic': 6287, 'oems': 6164, 'dealerships': 2111, 'camaraderie': 1227, 'coordinated': 1873, 'eastern': 2547, 'usps': 8817, 'sort': 7934, 'cass': 1297, 'ncoa': 5187, 'duplicate': 2521, 'conquest': 1754, 'mailable': 4579, 'uphold': 8789, 'evolves': 2861, 'grows': 3506, 'punctual': 6955, 'tooling': 8513, 'onsite': 6209, 'salaried': 7523, 'perfect': 6457, 'c3': 1196, 'abstraction': 290, '10x': 29, '100x': 22, 'tweak': 8661, 'kitchen': 4276, 'tennis': 8409, 'evening': 2848, 'drink': 2498, 'accolade': 320, 'noperates': 5703, 'fixes': 3142, 'turns': 8657, 'performant': 6463, 'illustrated': 3785, 'ndesire': 5288, 'grasps': 3482, 'skillful': 7846, 'thinks': 8459, 'nthrives': 6004, 'norm': 5715, 'nexcited': 5425, 'enduring': 2712, 'joy': 4223, 'nmaking': 5626, 'ntrusting': 6024, 'nresults': 5886, 'boldly': 1066, 'knock': 4286, 'strategical': 8139, 'pda': 6434, 'introduce': 4106, 'cleansed': 1473, 'nresearches': 5877, 'shoots': 7768, 'ssdt': 8027, 'nrdbms': 5847, 'ssis': 8030, 'nftp': 5483, 'nexposure': 5441, 'dmexpress': 2436, 'talend': 8341, 'mc1': 4698, 'nzeta': 6123, 'steinberg': 8099, 'john': 4205, 'sculley': 7624, 'cola': 1538, '2007': 95, 'zetahub': 9279, 'gartner': 3335, 'magic': 4575, 'quadrant': 6990, 'hubs': 3725, 'february': 3067, 'multichannel': 4957, 'noperating': 5704, 'continents': 1818, 'london': 4517, 'hyderabad': 3743, 'zeta': 9278, 'relevancy': 7238, 'th': 8439, 'consecutive': 1756, 'milliman': 4808, 'actuaries': 379, 'licensing': 4430, 'lapse': 4325, 'mortality': 4918, 'nmilliman': 5644, '1947': 73, 'principals': 6776, 'x94senior': 9171, 'era': 2799, 'ncyber': 5255, 'breach': 1109, 'split': 7995, 'chemometric': 1407, 'nappropriately': 5067, 'annotates': 625, 'comments': 1590, 'ksa': 4300, 'sequence': 7709, 'nsoftware': 5937, 'suitability': 8232, 'nsupervisory': 5973, 'emergencies': 2664, 'incumbents': 3879, 'nibi': 5526, 'passengers': 6397, 'procure': 6817, 'passenger': 6396, 'everett': 2855, 'vancouver': 8858, 'translink': 8588, 'rtd': 7491, 'mbta': 4697, 'nmost': 5661, 'alerts': 532, 'archival': 704, 'yearly': 9264, 'nbagels': 5124, 'mini': 4820, 'cupcakes': 2020, 'thursday': 8473, 'birthdays': 1030, 'seasonal': 7637, 'pumpkin': 6952, 'carving': 1289, 'contest': 1813, 'submission': 8193, 'ibi': 3751, 'confirmation': 1734, 'offence': 6167, 'shaw': 7752, 'richness': 7422, 'fosters': 3230, 'dan': 2059, 'lavender': 4345, 'nshaw': 5921, 'missed': 4836, 'cable': 1200, 'b2c': 898, 'maximization': 4689, 'accomplishment': 328, 'colorado': 1562, 'expenses': 2928, 'newspaper': 5415, 'circulation': 1437, 'factiva': 3013, 'barron': 934, 'marketwatch': 4648, 'djx': 2434, 'newswires': 5417, 'venturesource': 8888, 'arts': 738, 'bureaus': 1177, 'newspapers': 5416, 'magazines': 4574, 'holds': 3666, 'pulitzer': 6945, 'princeton': 6774, 'learnt': 4379, 'newsworthy': 5418, 'talentresourceteam': 8345, 'dowjones': 2473, 'x9creasonable': 9216, 'nasdaq': 5081, 'nws': 6111, 'nwsa': 6112, 'asx': 790, 'nwslv': 6113, 'homepage': 3676, '15454': 52, 'ncaci': 5153, 'nprocess': 5809, 'nrestore': 5885, 'tapes': 8352, 'nload': 5610, 'nconvert': 5233, 'ncapture': 5160, 'nus': 6058, 'atos': 803, 'societas': 7896, 'europaea': 2835, 'forma': 3207, 'circa': 1436, 'x82': 9154, '72': 218, 'worldline': 9127, 'natos': 5101, 'olympic': 6195, 'paralympic': 6362, 'euronext': 2834, 'paris': 6371, 'worldgrid': 9126, 'bull': 1172, 'unify': 8731, 'competences': 1637, 'pure': 6961, 'nselecting': 5910, 'nextending': 5442, 'nenhancing': 5369, 'nprocessing': 5810, 'ndoing': 5319, 'dataviz': 2088, 'cloudera': 1508, 'hortonworks': 3691, 'mapr': 4630, 'oozie': 6212, 'technics': 8382, 'rtf': 7492, 'colour': 1564, '68': 211, 'simultaneous': 7823, 'urgent': 8800, 'brightstart': 1130, 'lawrenceville': 4350, 'brightree': 1129, 'hme': 3656, 'hospice': 3692, 'reimbursements': 7212, 'pulse': 6951, 'equipping': 2792, 'orthotic': 6289, 'prosthetic': 6905, 'infusion': 3945, 'persistent': 6491, 'df1': 2270, 'sponsorships': 8004, 'victorious': 8920, 'x9ctranslate': 9225, 'tag': 8334, 'console': 1776, 'relentless': 7235, 'upholds': 8791, 'inherent': 3951, 'trait': 8559, 'horizontally': 3689, 'vertically': 8907, 'x9cit': 9203, 'perfecting': 6458, 'devours': 2267, 'daring': 2062, 'discernment': 2342, 'strongest': 8168, 'escape': 2805, 'rat': 7065, 'nvictorious': 6080, 'historic': 3645, 'showplace': 7784, 'capitalists': 1254, 'x9crunway': 9218, 'x9cmvp': 9209, 'exit': 2912, 'worrying': 9130, 'shutting': 7787, 'myriad': 4977, 'muni': 4971, 'michelin': 4791, 'starred': 8070, 'nightlife': 5535, 'placed': 6576, 'soma': 7926, 'commute': 1618, 'victoriousseo': 8921, 'nretailnext': 5888, 'thriving': 8472, 'retailnext': 7383, 'discovered': 2361, 'glean': 3413, 'cleanliness': 1471, 'powerpivot': 6683, 'powerquery': 6685, 'gcdo': 3348, 'roc': 7452, 'nph': 5772, 'observer': 6137, 'relishes': 7251, 'sn1': 7879, 'relief': 7246, 'pepfar': 6450, 'tuberculosis': 8646, 'dght': 2272, 'hidmsb': 3625, 'entrusted': 2772, 'icpi': 3759, 'surveillance': 8282, 'ngos': 5499, 'orange': 6257, 'farragut': 3043, 'fidelity': 3087, 'accessed': 315, 'wrangled': 9133, 'mph': 4936, 'wise': 9091, 'socrata': 7899, 'integrator': 4037, '32': 146, 'abbott': 274, 'diagnostics': 2278, 'nutritionals': 6069, 'branded': 1106, 'generic': 3371, '103': 24, '160': 54, 'ngathers': 5489, 'pqe': 6691, 'pqa': 6690, 'nassisting': 5088, 'ndrafting': 5323, 'nescalating': 5383, 'spin': 7993, 'nspin': 5946, 'electric': 2631, 'scooters': 7601, 'cooperation': 1869, 'planners': 6583, 'elected': 2629, 'stationless': 8088, 'orchestrated': 6260, 'combinator': 1572, 'scooter': 7600, 'coral': 1884, 'gables': 3315, 'lexington': 4416, 'detroit': 2249, 'embeds': 2657, 'neighborhoods': 5358, 'hires': 3640, 'infoemd': 3927, 'finely': 3117, 'overhead': 6318, 'ndaily': 5256, 'cellphone': 1332, 'ngenerous': 5495, 'lindquist': 4456, 'personable': 6493, 'obligations': 6134, 'auditors': 836, 'infrequent': 3944, 'sacramento': 7511, 'stockton': 8119, '82': 232, 'clearwater': 1484, 'rpa': 7483, 'blockchain': 1042, 'custodian': 2036, 'seemingly': 7663, 'nclearwater': 5182, 'surroundings': 8281, 'hasn': 3574, 'engineered': 2729, 'regence': 7188, 'nemployer': 5361, 'nflex': 5465, 'ncentral': 5167, '202': 108, 'johns': 4206, 'hopkins': 3686, 'benchmarking': 981, 'educates': 2591, 'acquired': 356, 'cogito': 1530, 'caboodle': 1201, 'atp': 804, 'pb': 6429, 'nstarting': 5955, '10003093': 19, 'ped': 6440, 'npersonnel': 5771, 'jhurecruitment': 4196, 'jhu': 4195, 'tty': 8645, 'relay': 7230, 'dial': 2280, '711': 217, 'provisions': 6927, 'accordingly': 332, 'influenza': 3924, 'flu': 3167, 'season': 7636, 'vaccination': 8840, 'laboratories': 4310, 'subjects': 8192, 'immune': 3804, 'rubella': 7495, 'german': 3391, 'measles': 4710, 'rubeola': 7496, 'mumps': 4968, 'varicella': 8866, 'chickenpox': 1411, 'hepatitis': 3617, 'tdap': 8366, 'tetanus': 8430, 'diphtheria': 2319, 'pertussis': 6512, 'mmr': 4857, 'vaccines': 8843, 'antibody': 642, 'immunities': 3805, 'ordinarily': 6266, 'immunization': 3806, 'vaccinations': 8841, 'occupational': 6153, 'nnote': 5681, 'updated': 8783, 'www1': 9144, 'eeoc_self_print_poster': 2602, 'nimportant': 5541, 'hrnt': 3719, 'cfm': 1359, '2012': 100, 'obama': 6127, 'reliantly': 7244, 'transparently': 8592, 'nbelow': 5132, 'discuss': 2375, 'strategists': 8142, '2020': 109, 'election': 2630, 'stan': 8053, 'naccurate': 5014, 'nprompt': 5823, 'insures': 4023, 'omphalos': 6201, 'npush': 5833, 'ease': 2544, 'fingerprints': 3120, 'ezcater': 2995, 'greenhouse': 3490, 'io': 4148, 'catering': 1313, '8m': 248, '60k': 203, 'caterers': 1312, 'superbly': 8248, 'iconiq': 3758, 'wellington': 9056, '2b': 130, 'surely': 8272, 'elevating': 2641, 'ezdispatch': 2996, 'clamor': 1454, 'champions': 1371, 'weeds': 9042, 'straightforward': 8136, 'kick': 4268, 'shortage': 7777, 'hone': 3679, 'nalso': 5040, 'sane': 7540, 'eat': 2549, 'passes': 6398, 'smack': 7863, 'dab': 2056, 'wicked': 9076, 'goodies': 3436, 'rocket': 7456, 'moon': 4914, 'nezcater': 5449, 'jerks': 4192, '19000c1k': 67, 'unusually': 8779, 'encounter': 2698, 'discounting': 2358, 'nmore': 5659, 'unpredictable': 8768, 'styles': 8187, 'transparent': 8591, 'uncommon': 8697, 'enjoyment': 2743, 'postgraduate': 6662, 'nconsistency': 5219, 'nrobust': 5893, 'predicted': 6709, 'ndomain': 5320, 'adaptations': 389, 'npost': 5786, 'doctoral': 2444, 'dataops': 2080, 'gaussian': 3345, 'mcmc': 4700, 'summarization': 8237, 'popular': 6633, 'mxnet': 4975, 'torch': 8523, 'ranges': 7055, 'modelled': 4872, 'nleading': 5596, 'vortex': 8983, 'simplifies': 7818, 'articulates': 733, 'drawn': 2490, 'advises': 453, 'reproducibility': 7298, 'periscope': 6475, 'ford': 3193, 'dearborn': 2114, 'cosine': 1911, 'ontologies': 6210, 'descent': 2214, 'striving': 8164, 'nford': 5474, 'qxbranch': 7037, 'norganize': 5714, 'curate': 2022, 'ndeliver': 5273, 'ncontinue': 5225, 'ncompetence': 5206, 'portions': 6640, 'maintainable': 4583, 'specializations': 7970, 'cuda': 2012, 'initiation': 3957, 'da': 2055, 'predictable': 6708, 'hc1': 3583, 'sdm': 7626, 'nhc1': 5510, 'improves': 3837, 'payors': 6427, 'harms': 3566, 'wasteful': 9019, 'glimpse': 3415, 'hc1dotcom': 3584, 'wild': 9080, 'achievers': 350, 'systemic': 8319, 'uncommongoods': 8698, 'remarkable': 7259, 'jsp': 4229, 'utm_medium': 8830, 'utm_source': 8831, 'bios': 1024, 'optional': 6250, 'rifiniti': 7427, 'sofia': 7900, 'bulgaria': 1170, 'ukraine': 8682, 'leased': 4381, 'infrastructures': 3943, 'disprove': 2394, 'dataxpander': 2089, 'inovalon': 3974, 'intervention': 4094, 'tea': 8368, 'executions': 2898, 'called': 1219, 'channeling': 1378, 'noversees': 5741, 'natleast': 5099, 'unlocking': 8760, 'secrets': 7645, 'nempower': 5363, 'booz': 1079, 'allen': 546, 'bowl': 1089, 'x94the': 9174, 'nvidia': 6081, 'dli': 2435, '5000': 181, 'possession': 6653, 'x94no': 9170, 'fearlessly': 3060, 'nurt1': 6055, 'byl': 1195, 'unior': 8738, 'retrieved': 7393, 'reconciliations': 7134, 'reconcilable': 7130, 'namplion': 5045, 'synthesizes': 8316, 'diagnostic': 2277, 'amplion': 595, 'biomarker': 1022, 'extracted': 2981, 'neo4j': 5378, 'intersecting': 4090, 'incidents': 3849, 'inclination': 3852, 'mayors': 4693, 'governors': 3449, 'chiefs': 1413, 'ndistilling': 5308, 'nenjoys': 5370, 'ncitizen': 5178, 'confirming': 1735, 'nweekly': 6090, 'ncharge': 5173, 'charges': 1387, 'roth': 7475, 'nalpharetta': 5039, 'boca': 1060, 'raton': 7072, 'fl': 3144, 'mn': 4858, 'observations': 6136, 'n50': 4999, 'nexercise': 5431, 'judgement': 4230, 'nopen': 5701, 'nverbal': 6078, 'inefficiencies': 3906, 'nexecute': 5426, 'ninsert': 5555, 'lexisnexis': 4417, 'upholding': 8790, 'lexisnexisrisk': 4418, '734': 220, '1938': 72, '400': 164, 'deepening': 2136, 'quantifying': 7007, 'cst': 2007, 'turnkey': 8656, 'older': 6192, 'adults': 435, 'battling': 947, 'illness': 3783, 'sybase': 8307, 'crystal': 2003, 'novi': 5743, 'triggers': 8621, 'contracted': 1831, 'nboca': 5136, 'alpharetta': 557, 'dayton': 2098, 'demo': 2174, 'thresholds': 8468, 'dictionaries': 2285, 'hpcc': 3710, 'proofreading': 6884, 'linked': 4465, 'naccountabilities': 5013, 'nmodify': 5652, 'nrun': 5896, 'nconducts': 5217, 'clarifications': 1456, 'intimacy': 4099, 'nundertake': 6048, 'nresolve': 5879, 'suspension': 8288, 'transcription': 8565, 'mpi': 4937, 'duplicates': 2522, 'merges': 4758, 'unmerges': 8763, 'belongs': 977, 'identifier': 3771, 'licensure': 4431, 'hpf': 3711, 'greenway': 3492, 'inappropriate': 3843, 'abbreviations': 275, 'backs': 912, 'body': 1064, 'ip': 4150, 'ambulatory': 574, 'decline': 2127, 'signature': 7801, 'queues': 7027, 'sent': 7702, 'adi': 411, 'queue': 7026, 'stockamp': 8117, 'migrate': 4800, 'brrh': 1150, 'mrn': 4943, 'elimination': 2648, 'creations': 1961, 'suggested': 8227, 'cleanup': 1475, 'infraction': 3941, 'phi': 6533, 'delinquent': 2161, 'promptness': 6878, 'manually': 4621, 'man': 4598, 'evacuation': 2839, 'restrictions': 7374, 'instituted': 4007, 'vaccine': 8842, '561': 192, '955': 259, '4075': 167, 'truemotion': 8636, 'acceptability': 308, 'interdependencies': 4058, 'incongruences': 3862, 'notifying': 5737, 'infogram': 3928, 'incongruencies': 3863, 'distracted': 2409, 'toes': 8501, 'calories': 1224, 'waterfront': 9024, 'afternoon': 488, 'sox': 7947, 'esplanade': 2809, 'solvable': 7919, 'pun': 6953, 'band': 925, 'fort': 3222, 'ntruemotion': 6023, 'lakestar': 4317, 'noffices': 5689, 'tour': 8533, 'attending': 815, 'kernels': 4263, 'quantifind': 7005, 'nquantifind': 5837, 'explanatory': 2951, 'vertical': 8906, 'dimension': 2311, 'latent': 4335, 'dirichlet': 2333, 'lsa': 4551, 'menlo': 4743, 'dss': 2517, 'gauge': 3344, 'proctor': 6816, 'randomized': 7053, 'controlled': 1845, 'ocular': 6159, 'blindness': 1040, 'relied': 7245, 'correlates': 1903, 'gradually': 3458, 'nproctor': 5811, 'ophthalmology': 6235, 'ucsf': 8675, 'inflammatory': 3918, 'professions': 6837, 'stacks': 8039, 'gbm': 3346, 'parse': 6374, 'n7': 5001, 'n8': 5002, 'morganstanley': 4917, 'careersearch': 1268, 'scroll': 7621, '3127828': 142, 'x9cjob': 9204, 'x9csearch': 9219, 'transformational': 8574, 'marry': 4652, 'npack': 5746, 'softvision': 7904, 'gcc': 3347, '1997': 82, 'oakland': 6126, 'hubzone': 3726, 'iso': 4162, 'certified': 1356, '9001': 251, 'bpa': 1093, 'released': 7232, 'ree': 7162, 'deputy': 2209, 'reeta': 7166, 'intranet': 4102, 'inactivating': 3841, 'ngcc': 5490, 'discriminatory': 2374, 'yr': 9273, 'melissa': 4736, 'climate': 1492, '201': 97, '1100': 31, '94103': 256, 'chen': 1408, 'angrist': 619, 'castillo': 1299, 'x9csurge': 9223, 'goose': 3439, 'chase': 1394, 'earnings': 2542, 'virtues': 8946, 'nday': 5263, 'newyork': 5420, 'presbyterian': 6737, 'weill': 9049, 'cornell': 1888, 'ao1': 649, 'n__________________': 5004, 'n2018': 4990, 'ceos': 1347, 'x9camerica': 9191, 'becker': 959, 'nyp': 6120, 'nnewyork': 5673, 'nittany': 5579, 'alliance': 548, 'psu': 6930, 'enhances': 2738, 'marketable': 4641, 'unsolved': 8774, 'nontechnical': 5700, 'infer': 3912, 'asap': 740, 'el': 2624, 'segundo': 7671, 'failures': 3022, 'broadcast': 1136, 'outages': 6292, 'nmake': 5625, 'highcharts': 3628, 'matillion': 4678, 'nebraska': 5335, 'lincoln': 4455, 'unl': 8753, 'cooperatively': 1871, 'substances': 8212, 'cordell': 1885, 'liberates': 4423, 'inferences': 3914, 'processed': 6813, 'smaller': 7865, 'dba': 2101, 'bench': 979, 'marking': 4649, 'consolidation': 1778, 'fluent': 3169, 'corridor': 1908, 'element': 2637, 'smarts': 7871, 'pick': 6548, 'agility': 504, 'bloom': 1048, 'oxide': 6334, 'newark': 5407, 'x98always': 9178, 'bloomenergy': 1049}\n"
     ]
    }
   ],
   "source": [
    "from sklearn.feature_extraction.text import TfidfVectorizer\n",
    "\n",
    "vectorizer = TfidfVectorizer(max_features=None, ngram_range=(1,1), stop_words='english')\n",
    "\n",
    "vectorizer.fit(X_train)\n",
    "\n",
    "print(vectorizer.vocabulary_)"
   ]
  },
  {
   "cell_type": "code",
   "execution_count": 20,
   "metadata": {},
   "outputs": [
    {
     "name": "stdout",
     "output_type": "stream",
     "text": [
      "(399, 9288)\n"
     ]
    },
    {
     "data": {
      "text/html": [
       "<div>\n",
       "<style scoped>\n",
       "    .dataframe tbody tr th:only-of-type {\n",
       "        vertical-align: middle;\n",
       "    }\n",
       "\n",
       "    .dataframe tbody tr th {\n",
       "        vertical-align: top;\n",
       "    }\n",
       "\n",
       "    .dataframe thead th {\n",
       "        text-align: right;\n",
       "    }\n",
       "</style>\n",
       "<table border=\"1\" class=\"dataframe\">\n",
       "  <thead>\n",
       "    <tr style=\"text-align: right;\">\n",
       "      <th></th>\n",
       "      <th>00</th>\n",
       "      <th>000</th>\n",
       "      <th>00011236</th>\n",
       "      <th>00079</th>\n",
       "      <th>00805</th>\n",
       "      <th>00pm</th>\n",
       "      <th>01</th>\n",
       "      <th>02115</th>\n",
       "      <th>03</th>\n",
       "      <th>0356</th>\n",
       "      <th>...</th>\n",
       "      <th>zeta</th>\n",
       "      <th>zetahub</th>\n",
       "      <th>zeus</th>\n",
       "      <th>zheng</th>\n",
       "      <th>zillow</th>\n",
       "      <th>zogsports</th>\n",
       "      <th>zoho</th>\n",
       "      <th>zone</th>\n",
       "      <th>zones</th>\n",
       "      <th>zywave</th>\n",
       "    </tr>\n",
       "  </thead>\n",
       "  <tbody>\n",
       "    <tr>\n",
       "      <th>0</th>\n",
       "      <td>0.0</td>\n",
       "      <td>0.0</td>\n",
       "      <td>0.0</td>\n",
       "      <td>0.0</td>\n",
       "      <td>0.0</td>\n",
       "      <td>0.0</td>\n",
       "      <td>0.0</td>\n",
       "      <td>0.0</td>\n",
       "      <td>0.0</td>\n",
       "      <td>0.0</td>\n",
       "      <td>...</td>\n",
       "      <td>0.0</td>\n",
       "      <td>0.0</td>\n",
       "      <td>0.0</td>\n",
       "      <td>0.0</td>\n",
       "      <td>0.0</td>\n",
       "      <td>0.0</td>\n",
       "      <td>0.0</td>\n",
       "      <td>0.0</td>\n",
       "      <td>0.0</td>\n",
       "      <td>0.0</td>\n",
       "    </tr>\n",
       "    <tr>\n",
       "      <th>1</th>\n",
       "      <td>0.0</td>\n",
       "      <td>0.0</td>\n",
       "      <td>0.0</td>\n",
       "      <td>0.0</td>\n",
       "      <td>0.0</td>\n",
       "      <td>0.0</td>\n",
       "      <td>0.0</td>\n",
       "      <td>0.0</td>\n",
       "      <td>0.0</td>\n",
       "      <td>0.0</td>\n",
       "      <td>...</td>\n",
       "      <td>0.0</td>\n",
       "      <td>0.0</td>\n",
       "      <td>0.0</td>\n",
       "      <td>0.0</td>\n",
       "      <td>0.0</td>\n",
       "      <td>0.0</td>\n",
       "      <td>0.0</td>\n",
       "      <td>0.0</td>\n",
       "      <td>0.0</td>\n",
       "      <td>0.0</td>\n",
       "    </tr>\n",
       "    <tr>\n",
       "      <th>2</th>\n",
       "      <td>0.0</td>\n",
       "      <td>0.0</td>\n",
       "      <td>0.0</td>\n",
       "      <td>0.0</td>\n",
       "      <td>0.0</td>\n",
       "      <td>0.0</td>\n",
       "      <td>0.0</td>\n",
       "      <td>0.0</td>\n",
       "      <td>0.0</td>\n",
       "      <td>0.0</td>\n",
       "      <td>...</td>\n",
       "      <td>0.0</td>\n",
       "      <td>0.0</td>\n",
       "      <td>0.0</td>\n",
       "      <td>0.0</td>\n",
       "      <td>0.0</td>\n",
       "      <td>0.0</td>\n",
       "      <td>0.0</td>\n",
       "      <td>0.0</td>\n",
       "      <td>0.0</td>\n",
       "      <td>0.0</td>\n",
       "    </tr>\n",
       "    <tr>\n",
       "      <th>3</th>\n",
       "      <td>0.0</td>\n",
       "      <td>0.0</td>\n",
       "      <td>0.0</td>\n",
       "      <td>0.0</td>\n",
       "      <td>0.0</td>\n",
       "      <td>0.0</td>\n",
       "      <td>0.0</td>\n",
       "      <td>0.0</td>\n",
       "      <td>0.0</td>\n",
       "      <td>0.0</td>\n",
       "      <td>...</td>\n",
       "      <td>0.0</td>\n",
       "      <td>0.0</td>\n",
       "      <td>0.0</td>\n",
       "      <td>0.0</td>\n",
       "      <td>0.0</td>\n",
       "      <td>0.0</td>\n",
       "      <td>0.0</td>\n",
       "      <td>0.0</td>\n",
       "      <td>0.0</td>\n",
       "      <td>0.0</td>\n",
       "    </tr>\n",
       "    <tr>\n",
       "      <th>4</th>\n",
       "      <td>0.0</td>\n",
       "      <td>0.0</td>\n",
       "      <td>0.0</td>\n",
       "      <td>0.0</td>\n",
       "      <td>0.0</td>\n",
       "      <td>0.0</td>\n",
       "      <td>0.0</td>\n",
       "      <td>0.0</td>\n",
       "      <td>0.0</td>\n",
       "      <td>0.0</td>\n",
       "      <td>...</td>\n",
       "      <td>0.0</td>\n",
       "      <td>0.0</td>\n",
       "      <td>0.0</td>\n",
       "      <td>0.0</td>\n",
       "      <td>0.0</td>\n",
       "      <td>0.0</td>\n",
       "      <td>0.0</td>\n",
       "      <td>0.0</td>\n",
       "      <td>0.0</td>\n",
       "      <td>0.0</td>\n",
       "    </tr>\n",
       "  </tbody>\n",
       "</table>\n",
       "<p>5 rows × 9288 columns</p>\n",
       "</div>"
      ],
      "text/plain": [
       "    00  000  00011236  00079  00805  00pm   01  02115   03  0356  ...  zeta  \\\n",
       "0  0.0  0.0       0.0    0.0    0.0   0.0  0.0    0.0  0.0   0.0  ...   0.0   \n",
       "1  0.0  0.0       0.0    0.0    0.0   0.0  0.0    0.0  0.0   0.0  ...   0.0   \n",
       "2  0.0  0.0       0.0    0.0    0.0   0.0  0.0    0.0  0.0   0.0  ...   0.0   \n",
       "3  0.0  0.0       0.0    0.0    0.0   0.0  0.0    0.0  0.0   0.0  ...   0.0   \n",
       "4  0.0  0.0       0.0    0.0    0.0   0.0  0.0    0.0  0.0   0.0  ...   0.0   \n",
       "\n",
       "   zetahub  zeus  zheng  zillow  zogsports  zoho  zone  zones  zywave  \n",
       "0      0.0   0.0    0.0     0.0        0.0   0.0   0.0    0.0     0.0  \n",
       "1      0.0   0.0    0.0     0.0        0.0   0.0   0.0    0.0     0.0  \n",
       "2      0.0   0.0    0.0     0.0        0.0   0.0   0.0    0.0     0.0  \n",
       "3      0.0   0.0    0.0     0.0        0.0   0.0   0.0    0.0     0.0  \n",
       "4      0.0   0.0    0.0     0.0        0.0   0.0   0.0    0.0     0.0  \n",
       "\n",
       "[5 rows x 9288 columns]"
      ]
     },
     "execution_count": 20,
     "metadata": {},
     "output_type": "execute_result"
    }
   ],
   "source": [
    "train_word_counts = vectorizer.transform(X_train)\n",
    "\n",
    "X_train_vectorized = pd.DataFrame(train_word_counts.toarray(), columns=vectorizer.get_feature_names())\n",
    "\n",
    "print(X_train_vectorized.shape)\n",
    "X_train_vectorized.head()"
   ]
  },
  {
   "cell_type": "code",
   "execution_count": 21,
   "metadata": {},
   "outputs": [
    {
     "name": "stdout",
     "output_type": "stream",
     "text": [
      "(100, 9288)\n"
     ]
    },
    {
     "data": {
      "text/html": [
       "<div>\n",
       "<style scoped>\n",
       "    .dataframe tbody tr th:only-of-type {\n",
       "        vertical-align: middle;\n",
       "    }\n",
       "\n",
       "    .dataframe tbody tr th {\n",
       "        vertical-align: top;\n",
       "    }\n",
       "\n",
       "    .dataframe thead th {\n",
       "        text-align: right;\n",
       "    }\n",
       "</style>\n",
       "<table border=\"1\" class=\"dataframe\">\n",
       "  <thead>\n",
       "    <tr style=\"text-align: right;\">\n",
       "      <th></th>\n",
       "      <th>00</th>\n",
       "      <th>000</th>\n",
       "      <th>00011236</th>\n",
       "      <th>00079</th>\n",
       "      <th>00805</th>\n",
       "      <th>00pm</th>\n",
       "      <th>01</th>\n",
       "      <th>02115</th>\n",
       "      <th>03</th>\n",
       "      <th>0356</th>\n",
       "      <th>...</th>\n",
       "      <th>zeta</th>\n",
       "      <th>zetahub</th>\n",
       "      <th>zeus</th>\n",
       "      <th>zheng</th>\n",
       "      <th>zillow</th>\n",
       "      <th>zogsports</th>\n",
       "      <th>zoho</th>\n",
       "      <th>zone</th>\n",
       "      <th>zones</th>\n",
       "      <th>zywave</th>\n",
       "    </tr>\n",
       "  </thead>\n",
       "  <tbody>\n",
       "    <tr>\n",
       "      <th>0</th>\n",
       "      <td>0.0</td>\n",
       "      <td>0.0</td>\n",
       "      <td>0.0</td>\n",
       "      <td>0.0</td>\n",
       "      <td>0.0</td>\n",
       "      <td>0.0</td>\n",
       "      <td>0.0</td>\n",
       "      <td>0.0</td>\n",
       "      <td>0.0</td>\n",
       "      <td>0.0</td>\n",
       "      <td>...</td>\n",
       "      <td>0.0</td>\n",
       "      <td>0.0</td>\n",
       "      <td>0.0</td>\n",
       "      <td>0.0</td>\n",
       "      <td>0.0</td>\n",
       "      <td>0.0</td>\n",
       "      <td>0.0</td>\n",
       "      <td>0.0</td>\n",
       "      <td>0.0</td>\n",
       "      <td>0.0</td>\n",
       "    </tr>\n",
       "    <tr>\n",
       "      <th>1</th>\n",
       "      <td>0.0</td>\n",
       "      <td>0.0</td>\n",
       "      <td>0.0</td>\n",
       "      <td>0.0</td>\n",
       "      <td>0.0</td>\n",
       "      <td>0.0</td>\n",
       "      <td>0.0</td>\n",
       "      <td>0.0</td>\n",
       "      <td>0.0</td>\n",
       "      <td>0.0</td>\n",
       "      <td>...</td>\n",
       "      <td>0.0</td>\n",
       "      <td>0.0</td>\n",
       "      <td>0.0</td>\n",
       "      <td>0.0</td>\n",
       "      <td>0.0</td>\n",
       "      <td>0.0</td>\n",
       "      <td>0.0</td>\n",
       "      <td>0.0</td>\n",
       "      <td>0.0</td>\n",
       "      <td>0.0</td>\n",
       "    </tr>\n",
       "    <tr>\n",
       "      <th>2</th>\n",
       "      <td>0.0</td>\n",
       "      <td>0.0</td>\n",
       "      <td>0.0</td>\n",
       "      <td>0.0</td>\n",
       "      <td>0.0</td>\n",
       "      <td>0.0</td>\n",
       "      <td>0.0</td>\n",
       "      <td>0.0</td>\n",
       "      <td>0.0</td>\n",
       "      <td>0.0</td>\n",
       "      <td>...</td>\n",
       "      <td>0.0</td>\n",
       "      <td>0.0</td>\n",
       "      <td>0.0</td>\n",
       "      <td>0.0</td>\n",
       "      <td>0.0</td>\n",
       "      <td>0.0</td>\n",
       "      <td>0.0</td>\n",
       "      <td>0.0</td>\n",
       "      <td>0.0</td>\n",
       "      <td>0.0</td>\n",
       "    </tr>\n",
       "    <tr>\n",
       "      <th>3</th>\n",
       "      <td>0.0</td>\n",
       "      <td>0.0</td>\n",
       "      <td>0.0</td>\n",
       "      <td>0.0</td>\n",
       "      <td>0.0</td>\n",
       "      <td>0.0</td>\n",
       "      <td>0.0</td>\n",
       "      <td>0.0</td>\n",
       "      <td>0.0</td>\n",
       "      <td>0.0</td>\n",
       "      <td>...</td>\n",
       "      <td>0.0</td>\n",
       "      <td>0.0</td>\n",
       "      <td>0.0</td>\n",
       "      <td>0.0</td>\n",
       "      <td>0.0</td>\n",
       "      <td>0.0</td>\n",
       "      <td>0.0</td>\n",
       "      <td>0.0</td>\n",
       "      <td>0.0</td>\n",
       "      <td>0.0</td>\n",
       "    </tr>\n",
       "    <tr>\n",
       "      <th>4</th>\n",
       "      <td>0.0</td>\n",
       "      <td>0.0</td>\n",
       "      <td>0.0</td>\n",
       "      <td>0.0</td>\n",
       "      <td>0.0</td>\n",
       "      <td>0.0</td>\n",
       "      <td>0.0</td>\n",
       "      <td>0.0</td>\n",
       "      <td>0.0</td>\n",
       "      <td>0.0</td>\n",
       "      <td>...</td>\n",
       "      <td>0.0</td>\n",
       "      <td>0.0</td>\n",
       "      <td>0.0</td>\n",
       "      <td>0.0</td>\n",
       "      <td>0.0</td>\n",
       "      <td>0.0</td>\n",
       "      <td>0.0</td>\n",
       "      <td>0.0</td>\n",
       "      <td>0.0</td>\n",
       "      <td>0.0</td>\n",
       "    </tr>\n",
       "  </tbody>\n",
       "</table>\n",
       "<p>5 rows × 9288 columns</p>\n",
       "</div>"
      ],
      "text/plain": [
       "    00  000  00011236  00079  00805  00pm   01  02115   03  0356  ...  zeta  \\\n",
       "0  0.0  0.0       0.0    0.0    0.0   0.0  0.0    0.0  0.0   0.0  ...   0.0   \n",
       "1  0.0  0.0       0.0    0.0    0.0   0.0  0.0    0.0  0.0   0.0  ...   0.0   \n",
       "2  0.0  0.0       0.0    0.0    0.0   0.0  0.0    0.0  0.0   0.0  ...   0.0   \n",
       "3  0.0  0.0       0.0    0.0    0.0   0.0  0.0    0.0  0.0   0.0  ...   0.0   \n",
       "4  0.0  0.0       0.0    0.0    0.0   0.0  0.0    0.0  0.0   0.0  ...   0.0   \n",
       "\n",
       "   zetahub  zeus  zheng  zillow  zogsports  zoho  zone  zones  zywave  \n",
       "0      0.0   0.0    0.0     0.0        0.0   0.0   0.0    0.0     0.0  \n",
       "1      0.0   0.0    0.0     0.0        0.0   0.0   0.0    0.0     0.0  \n",
       "2      0.0   0.0    0.0     0.0        0.0   0.0   0.0    0.0     0.0  \n",
       "3      0.0   0.0    0.0     0.0        0.0   0.0   0.0    0.0     0.0  \n",
       "4      0.0   0.0    0.0     0.0        0.0   0.0   0.0    0.0     0.0  \n",
       "\n",
       "[5 rows x 9288 columns]"
      ]
     },
     "execution_count": 21,
     "metadata": {},
     "output_type": "execute_result"
    }
   ],
   "source": [
    "test_word_counts = vectorizer.transform(X_test)\n",
    "\n",
    "X_test_vectorized = pd.DataFrame(test_word_counts.toarray(), columns=vectorizer.get_feature_names())\n",
    "\n",
    "print(X_test_vectorized.shape)\n",
    "X_test_vectorized.head()"
   ]
  },
  {
   "cell_type": "code",
   "execution_count": 22,
   "metadata": {},
   "outputs": [
    {
     "name": "stdout",
     "output_type": "stream",
     "text": [
      "Train Accuracy: 0.9649122807017544\n",
      "Test Accuracy: 0.86\n"
     ]
    },
    {
     "name": "stderr",
     "output_type": "stream",
     "text": [
      "C:\\Users\\Valerie\\Anaconda3\\lib\\site-packages\\sklearn\\linear_model\\logistic.py:433: FutureWarning: Default solver will be changed to 'lbfgs' in 0.22. Specify a solver to silence this warning.\n",
      "  FutureWarning)\n"
     ]
    }
   ],
   "source": [
    "LR = LogisticRegression(random_state=42).fit(X_train_vectorized, y_train)\n",
    "\n",
    "train_predictions = LR.predict(X_train_vectorized)\n",
    "test_predictions = LR.predict(X_test_vectorized)\n",
    "\n",
    "print(f'Train Accuracy: {accuracy_score(y_train, train_predictions)}')\n",
    "print(f'Test Accuracy: {accuracy_score(y_test, test_predictions)}')"
   ]
  },
  {
   "cell_type": "code",
   "execution_count": 23,
   "metadata": {},
   "outputs": [
    {
     "name": "stdout",
     "output_type": "stream",
     "text": [
      "Train Accuracy: 0.9649122807017544\n",
      "Test Accuracy: 0.85\n"
     ]
    }
   ],
   "source": [
    "from sklearn.naive_bayes import MultinomialNB\n",
    "\n",
    "MNB = MultinomialNB().fit(X_train_vectorized, y_train)\n",
    "\n",
    "train_predictions = MNB.predict(X_train_vectorized)\n",
    "test_predictions = MNB.predict(X_test_vectorized)\n",
    "\n",
    "print(f'Train Accuracy: {accuracy_score(y_train, train_predictions)}')\n",
    "print(f'Test Accuracy: {accuracy_score(y_test, test_predictions)}')"
   ]
  },
  {
   "cell_type": "code",
   "execution_count": 25,
   "metadata": {},
   "outputs": [
    {
     "name": "stdout",
     "output_type": "stream",
     "text": [
      "Train Accuracy: 0.9974937343358395\n",
      "Test Accuracy: 0.89\n"
     ]
    }
   ],
   "source": [
    "from sklearn.ensemble import RandomForestClassifier\n",
    "\n",
    "RFC = RandomForestClassifier(n_estimators=100).fit(X_train_vectorized, y_train)\n",
    "\n",
    "train_predictions = RFC.predict(X_train_vectorized)\n",
    "test_predictions = RFC.predict(X_test_vectorized)\n",
    "\n",
    "print(f'Train Accuracy: {accuracy_score(y_train, train_predictions)}')\n",
    "print(f'Test Accuracy: {accuracy_score(y_test, test_predictions)}')"
   ]
  },
  {
   "cell_type": "code",
   "execution_count": 28,
   "metadata": {},
   "outputs": [
    {
     "data": {
      "text/html": [
       "<div>\n",
       "<style scoped>\n",
       "    .dataframe tbody tr th:only-of-type {\n",
       "        vertical-align: middle;\n",
       "    }\n",
       "\n",
       "    .dataframe tbody tr th {\n",
       "        vertical-align: top;\n",
       "    }\n",
       "\n",
       "    .dataframe thead th {\n",
       "        text-align: right;\n",
       "    }\n",
       "</style>\n",
       "<table border=\"1\" class=\"dataframe\">\n",
       "  <thead>\n",
       "    <tr style=\"text-align: right;\">\n",
       "      <th></th>\n",
       "      <th>index</th>\n",
       "      <th>description</th>\n",
       "      <th>title</th>\n",
       "      <th>job</th>\n",
       "      <th>label_num</th>\n",
       "    </tr>\n",
       "  </thead>\n",
       "  <tbody>\n",
       "    <tr>\n",
       "      <th>0</th>\n",
       "      <td>0</td>\n",
       "      <td>Job Requirements: Conceptual understanding in Machine Learning models like Nai\\xc2\\xa8ve Bayes, K-Means, SVM, Apriori, Linear/ Logistic Regression, Neural, Random Forests, Decision Trees, K-NN alo...</td>\n",
       "      <td>Data scientist</td>\n",
       "      <td>Data Scientist</td>\n",
       "      <td>1</td>\n",
       "    </tr>\n",
       "    <tr>\n",
       "      <th>1</th>\n",
       "      <td>1</td>\n",
       "      <td>Job Description  As a Data Scientist 1, you will help us build machine learning models, data pipelines, and micro-services to help our clients navigate their healthcare journey. You will do so by ...</td>\n",
       "      <td>Data Scientist I</td>\n",
       "      <td>Data Scientist</td>\n",
       "      <td>1</td>\n",
       "    </tr>\n",
       "    <tr>\n",
       "      <th>2</th>\n",
       "      <td>2</td>\n",
       "      <td>As a Data Scientist you will be working on consulting side of our business. You will be responsible for analyzing large, complex datasets and identify meaningful patterns that lead to actionable r...</td>\n",
       "      <td>Data Scientist - Entry Level</td>\n",
       "      <td>Data Scientist</td>\n",
       "      <td>1</td>\n",
       "    </tr>\n",
       "    <tr>\n",
       "      <th>3</th>\n",
       "      <td>3</td>\n",
       "      <td>$4,969 - $6,756 a monthContractUnder the general supervision of Professors Dana Mukamel and Kai Zheng, the incumbent will join the CalMHSA Mental Health Tech Suite Innovation (INN) Evaluation Team...</td>\n",
       "      <td>Data Scientist</td>\n",
       "      <td>Data Scientist</td>\n",
       "      <td>1</td>\n",
       "    </tr>\n",
       "    <tr>\n",
       "      <th>4</th>\n",
       "      <td>4</td>\n",
       "      <td>Location: USA \\xe2\\x80\\x93 multiple locations 2+ years of Analytics experience Understand business requirements and technical requirements Can handle data extraction, preparation and transformatio...</td>\n",
       "      <td>Data Scientist</td>\n",
       "      <td>Data Scientist</td>\n",
       "      <td>1</td>\n",
       "    </tr>\n",
       "  </tbody>\n",
       "</table>\n",
       "</div>"
      ],
      "text/plain": [
       "   index  \\\n",
       "0      0   \n",
       "1      1   \n",
       "2      2   \n",
       "3      3   \n",
       "4      4   \n",
       "\n",
       "                                                                                                                                                                                               description  \\\n",
       "0  Job Requirements: Conceptual understanding in Machine Learning models like Nai\\xc2\\xa8ve Bayes, K-Means, SVM, Apriori, Linear/ Logistic Regression, Neural, Random Forests, Decision Trees, K-NN alo...   \n",
       "1  Job Description  As a Data Scientist 1, you will help us build machine learning models, data pipelines, and micro-services to help our clients navigate their healthcare journey. You will do so by ...   \n",
       "2  As a Data Scientist you will be working on consulting side of our business. You will be responsible for analyzing large, complex datasets and identify meaningful patterns that lead to actionable r...   \n",
       "3  $4,969 - $6,756 a monthContractUnder the general supervision of Professors Dana Mukamel and Kai Zheng, the incumbent will join the CalMHSA Mental Health Tech Suite Innovation (INN) Evaluation Team...   \n",
       "4  Location: USA \\xe2\\x80\\x93 multiple locations 2+ years of Analytics experience Understand business requirements and technical requirements Can handle data extraction, preparation and transformatio...   \n",
       "\n",
       "                          title             job  label_num  \n",
       "0               Data scientist   Data Scientist          1  \n",
       "1              Data Scientist I  Data Scientist          1  \n",
       "2  Data Scientist - Entry Level  Data Scientist          1  \n",
       "3                Data Scientist  Data Scientist          1  \n",
       "4                Data Scientist  Data Scientist          1  "
      ]
     },
     "execution_count": 28,
     "metadata": {},
     "output_type": "execute_result"
    }
   ],
   "source": [
    "from bs4 import BeautifulSoup\n",
    "from unidecode import unidecode\n",
    "# Clean the description \n",
    "\n",
    "def clean_html_with_bs4(string):\n",
    "    soup = BeautifulSoup(string)\n",
    "    string = soup.get_text()\n",
    "    return string\n",
    "\n",
    "listings = []\n",
    "for x in df['description']:\n",
    "    # Remove extra quotation marks\n",
    "    x = x[2:-1]\n",
    "    # Clean out HTML\n",
    "    x = clean_html_with_bs4(x)\n",
    "    # Remove line breaks\n",
    "    x = x.replace('\\\\n',' ')\n",
    "    # Translate unicode characters to ASCII\n",
    "#     x = unidecode(x)\n",
    "    listings.append(x)\n",
    "    \n",
    "df['description'] = listings\n",
    "df.head()"
   ]
  },
  {
   "cell_type": "code",
   "execution_count": 29,
   "metadata": {},
   "outputs": [],
   "source": [
    "from sklearn.svm import LinearSVC\n",
    "from sklearn.linear_model import LogisticRegression\n",
    "from sklearn.ensemble import RandomForestClassifier\n",
    "from sklearn.neural_network import MLPClassifier\n",
    "from sklearn.model_selection import GridSearchCV\n",
    "from sklearn.model_selection import train_test_split\n",
    "import numpy as np\n",
    "from sklearn.pipeline import Pipeline"
   ]
  },
  {
   "cell_type": "code",
   "execution_count": 30,
   "metadata": {},
   "outputs": [],
   "source": [
    "vectorizers = [\n",
    "    TfidfVectorizer(stop_words='english',\n",
    "                    max_features=None),\n",
    "    CountVectorizer(stop_words='english',\n",
    "                   max_features=None)\n",
    "]\n",
    "\n",
    "classifiers = [\n",
    "    MultinomialNB(),\n",
    "    LinearSVC(),\n",
    "    LogisticRegression(),\n",
    "    RandomForestClassifier()\n",
    "]\n",
    "\n",
    "clf_names = [\n",
    "         \"Naive Bayes\",\n",
    "         \"Linear SVC\",\n",
    "         \"Logistic Regression\",\n",
    "         \"Random Forest\"\n",
    "        ]\n",
    "\n",
    "vect_names = [\n",
    "    \"TfidfVectorizer\",\n",
    "    \"CountVectorizer\"\n",
    "]\n",
    "\n",
    "clf_params = [\n",
    "              {'vect__ngram_range': [(1, 1), (1, 2)],\n",
    "              'clf__alpha': (1e-2, 1e-3)},\n",
    "              {'vect__ngram_range': [(1, 1), (1, 2)],\n",
    "              'clf__C': (np.logspace(-5, 1, 5))},\n",
    "              {'vect__ngram_range': [(1, 1), (1, 2)],\n",
    "              'clf__C': (np.logspace(-5, 1, 5))},\n",
    "              {'vect__ngram_range': [(1, 1), (1, 2)],\n",
    "              'clf__max_depth': (1, 2)},\n",
    "             ]"
   ]
  },
  {
   "cell_type": "code",
   "execution_count": 35,
   "metadata": {},
   "outputs": [
    {
     "name": "stdout",
     "output_type": "stream",
     "text": [
      "Fitting 5 folds for each of 4 candidates, totalling 20 fits\n"
     ]
    },
    {
     "name": "stderr",
     "output_type": "stream",
     "text": [
      "[Parallel(n_jobs=-1)]: Using backend LokyBackend with 4 concurrent workers.\n",
      "[Parallel(n_jobs=-1)]: Done   5 tasks      | elapsed:    6.0s\n",
      "[Parallel(n_jobs=-1)]: Done  10 tasks      | elapsed:    7.9s\n",
      "[Parallel(n_jobs=-1)]: Done  16 out of  20 | elapsed:   10.3s remaining:    2.5s\n",
      "[Parallel(n_jobs=-1)]: Done  20 out of  20 | elapsed:   11.2s finished\n"
     ]
    },
    {
     "name": "stdout",
     "output_type": "stream",
     "text": [
      "\n",
      "Classifier: Naive Bayes\n",
      "Vectorizer: TfidfVectorizer\n",
      "Score: 0.9155\n",
      "Params: {'clf__alpha': 0.01, 'vect__ngram_range': (1, 2)}\n",
      "------------------------------\n",
      "            \n",
      "Fitting 5 folds for each of 4 candidates, totalling 20 fits\n"
     ]
    },
    {
     "name": "stderr",
     "output_type": "stream",
     "text": [
      "[Parallel(n_jobs=-1)]: Using backend LokyBackend with 4 concurrent workers.\n",
      "[Parallel(n_jobs=-1)]: Done   5 tasks      | elapsed:    1.4s\n",
      "[Parallel(n_jobs=-1)]: Done  10 tasks      | elapsed:    3.2s\n",
      "[Parallel(n_jobs=-1)]: Done  16 out of  20 | elapsed:    5.6s remaining:    1.3s\n",
      "[Parallel(n_jobs=-1)]: Done  20 out of  20 | elapsed:    6.7s finished\n"
     ]
    },
    {
     "name": "stdout",
     "output_type": "stream",
     "text": [
      "\n",
      "Classifier: Naive Bayes\n",
      "Vectorizer: CountVectorizer\n",
      "Score: 0.8978\n",
      "Params: {'clf__alpha': 0.01, 'vect__ngram_range': (1, 1)}\n",
      "------------------------------\n",
      "            \n",
      "Fitting 5 folds for each of 10 candidates, totalling 50 fits\n"
     ]
    },
    {
     "name": "stderr",
     "output_type": "stream",
     "text": [
      "[Parallel(n_jobs=-1)]: Using backend LokyBackend with 4 concurrent workers.\n",
      "[Parallel(n_jobs=-1)]: Done   5 tasks      | elapsed:    1.6s\n",
      "[Parallel(n_jobs=-1)]: Done  10 tasks      | elapsed:    3.5s\n",
      "[Parallel(n_jobs=-1)]: Done  17 tasks      | elapsed:    5.9s\n",
      "[Parallel(n_jobs=-1)]: Done  24 tasks      | elapsed:    7.5s\n",
      "[Parallel(n_jobs=-1)]: Done  33 tasks      | elapsed:   10.1s\n",
      "[Parallel(n_jobs=-1)]: Done  42 tasks      | elapsed:   13.2s\n",
      "[Parallel(n_jobs=-1)]: Done  50 out of  50 | elapsed:   16.5s finished\n"
     ]
    },
    {
     "name": "stdout",
     "output_type": "stream",
     "text": [
      "\n",
      "Classifier: Linear SVC\n",
      "Vectorizer: TfidfVectorizer\n",
      "Score: 0.9606\n",
      "Params: {'clf__C': 0.31622776601683794, 'vect__ngram_range': (1, 2)}\n",
      "------------------------------\n",
      "            \n",
      "Fitting 5 folds for each of 10 candidates, totalling 50 fits\n"
     ]
    },
    {
     "name": "stderr",
     "output_type": "stream",
     "text": [
      "[Parallel(n_jobs=-1)]: Using backend LokyBackend with 4 concurrent workers.\n",
      "[Parallel(n_jobs=-1)]: Done   5 tasks      | elapsed:    1.6s\n",
      "[Parallel(n_jobs=-1)]: Done  10 tasks      | elapsed:    3.3s\n",
      "[Parallel(n_jobs=-1)]: Done  17 tasks      | elapsed:    5.7s\n",
      "[Parallel(n_jobs=-1)]: Done  24 tasks      | elapsed:    7.4s\n",
      "[Parallel(n_jobs=-1)]: Done  33 tasks      | elapsed:   10.6s\n",
      "[Parallel(n_jobs=-1)]: Done  42 tasks      | elapsed:   14.9s\n",
      "[Parallel(n_jobs=-1)]: Done  50 out of  50 | elapsed:   19.2s finished\n"
     ]
    },
    {
     "name": "stdout",
     "output_type": "stream",
     "text": [
      "\n",
      "Classifier: Linear SVC\n",
      "Vectorizer: CountVectorizer\n",
      "Score: 0.9761\n",
      "Params: {'clf__C': 0.01, 'vect__ngram_range': (1, 2)}\n",
      "------------------------------\n",
      "            \n",
      "Fitting 5 folds for each of 10 candidates, totalling 50 fits\n"
     ]
    },
    {
     "name": "stderr",
     "output_type": "stream",
     "text": [
      "[Parallel(n_jobs=-1)]: Using backend LokyBackend with 4 concurrent workers.\n",
      "[Parallel(n_jobs=-1)]: Done   5 tasks      | elapsed:    1.4s\n",
      "[Parallel(n_jobs=-1)]: Done  10 tasks      | elapsed:    3.3s\n",
      "[Parallel(n_jobs=-1)]: Done  17 tasks      | elapsed:    5.7s\n",
      "[Parallel(n_jobs=-1)]: Done  24 tasks      | elapsed:    7.2s\n",
      "[Parallel(n_jobs=-1)]: Done  33 tasks      | elapsed:    9.9s\n",
      "[Parallel(n_jobs=-1)]: Done  42 tasks      | elapsed:   13.2s\n",
      "[Parallel(n_jobs=-1)]: Done  50 out of  50 | elapsed:   16.0s finished\n",
      "C:\\Users\\Valerie\\Anaconda3\\lib\\site-packages\\sklearn\\linear_model\\logistic.py:433: FutureWarning: Default solver will be changed to 'lbfgs' in 0.22. Specify a solver to silence this warning.\n",
      "  FutureWarning)\n",
      "[Parallel(n_jobs=-1)]: Using backend LokyBackend with 4 concurrent workers.\n"
     ]
    },
    {
     "name": "stdout",
     "output_type": "stream",
     "text": [
      "\n",
      "Classifier: Logistic Regression\n",
      "Vectorizer: TfidfVectorizer\n",
      "Score: 0.9602\n",
      "Params: {'clf__C': 10.0, 'vect__ngram_range': (1, 2)}\n",
      "------------------------------\n",
      "            \n",
      "Fitting 5 folds for each of 10 candidates, totalling 50 fits\n"
     ]
    },
    {
     "name": "stderr",
     "output_type": "stream",
     "text": [
      "[Parallel(n_jobs=-1)]: Done   5 tasks      | elapsed:    1.5s\n",
      "[Parallel(n_jobs=-1)]: Done  10 tasks      | elapsed:    3.3s\n",
      "[Parallel(n_jobs=-1)]: Done  17 tasks      | elapsed:    5.7s\n",
      "[Parallel(n_jobs=-1)]: Done  24 tasks      | elapsed:    7.3s\n",
      "[Parallel(n_jobs=-1)]: Done  33 tasks      | elapsed:   10.1s\n",
      "[Parallel(n_jobs=-1)]: Done  42 tasks      | elapsed:   13.8s\n",
      "[Parallel(n_jobs=-1)]: Done  50 out of  50 | elapsed:   17.0s finished\n",
      "C:\\Users\\Valerie\\Anaconda3\\lib\\site-packages\\sklearn\\linear_model\\logistic.py:433: FutureWarning: Default solver will be changed to 'lbfgs' in 0.22. Specify a solver to silence this warning.\n",
      "  FutureWarning)\n"
     ]
    },
    {
     "name": "stdout",
     "output_type": "stream",
     "text": [
      "\n",
      "Classifier: Logistic Regression\n",
      "Vectorizer: CountVectorizer\n",
      "Score: 0.9754\n",
      "Params: {'clf__C': 10.0, 'vect__ngram_range': (1, 2)}\n",
      "------------------------------\n",
      "            \n",
      "Fitting 5 folds for each of 4 candidates, totalling 20 fits\n"
     ]
    },
    {
     "name": "stderr",
     "output_type": "stream",
     "text": [
      "[Parallel(n_jobs=-1)]: Using backend LokyBackend with 4 concurrent workers.\n",
      "[Parallel(n_jobs=-1)]: Done   5 tasks      | elapsed:    1.5s\n",
      "[Parallel(n_jobs=-1)]: Done  10 tasks      | elapsed:    3.3s\n",
      "[Parallel(n_jobs=-1)]: Done  16 out of  20 | elapsed:    5.6s remaining:    1.3s\n",
      "[Parallel(n_jobs=-1)]: Done  20 out of  20 | elapsed:    6.6s finished\n",
      "C:\\Users\\Valerie\\Anaconda3\\lib\\site-packages\\sklearn\\model_selection\\_search.py:841: DeprecationWarning: The default of the `iid` parameter will change from True to False in version 0.22 and will be removed in 0.24. This will change numeric results when test-set sizes are unequal.\n",
      "  DeprecationWarning)\n",
      "C:\\Users\\Valerie\\Anaconda3\\lib\\site-packages\\sklearn\\ensemble\\forest.py:246: FutureWarning: The default value of n_estimators will change from 10 in version 0.20 to 100 in 0.22.\n",
      "  \"10 in version 0.20 to 100 in 0.22.\", FutureWarning)\n",
      "[Parallel(n_jobs=-1)]: Using backend LokyBackend with 4 concurrent workers.\n"
     ]
    },
    {
     "name": "stdout",
     "output_type": "stream",
     "text": [
      "\n",
      "Classifier: Random Forest\n",
      "Vectorizer: TfidfVectorizer\n",
      "Score: 0.8796\n",
      "Params: {'clf__max_depth': 2, 'vect__ngram_range': (1, 1)}\n",
      "------------------------------\n",
      "            \n",
      "Fitting 5 folds for each of 4 candidates, totalling 20 fits\n"
     ]
    },
    {
     "name": "stderr",
     "output_type": "stream",
     "text": [
      "[Parallel(n_jobs=-1)]: Done   5 tasks      | elapsed:    1.5s\n",
      "[Parallel(n_jobs=-1)]: Done  10 tasks      | elapsed:    3.4s\n",
      "[Parallel(n_jobs=-1)]: Done  16 out of  20 | elapsed:    5.9s remaining:    1.4s\n",
      "[Parallel(n_jobs=-1)]: Done  20 out of  20 | elapsed:    7.0s finished\n",
      "C:\\Users\\Valerie\\Anaconda3\\lib\\site-packages\\sklearn\\model_selection\\_search.py:841: DeprecationWarning: The default of the `iid` parameter will change from True to False in version 0.22 and will be removed in 0.24. This will change numeric results when test-set sizes are unequal.\n",
      "  DeprecationWarning)\n"
     ]
    },
    {
     "name": "stdout",
     "output_type": "stream",
     "text": [
      "\n",
      "Classifier: Random Forest\n",
      "Vectorizer: CountVectorizer\n",
      "Score: 0.8447\n",
      "Params: {'clf__max_depth': 2, 'vect__ngram_range': (1, 1)}\n",
      "------------------------------\n",
      "            \n"
     ]
    },
    {
     "name": "stderr",
     "output_type": "stream",
     "text": [
      "C:\\Users\\Valerie\\Anaconda3\\lib\\site-packages\\sklearn\\ensemble\\forest.py:246: FutureWarning: The default value of n_estimators will change from 10 in version 0.20 to 100 in 0.22.\n",
      "  \"10 in version 0.20 to 100 in 0.22.\", FutureWarning)\n"
     ]
    }
   ],
   "source": [
    "models = []\n",
    "for classifier, clf_name, params in zip(classifiers, \n",
    "                                        clf_names, \n",
    "                                        clf_params):\n",
    "    for vectorizer, vect_name in zip(vectorizers, \n",
    "                                     vect_names):\n",
    "        pipe = Pipeline([\n",
    "            ('vect', vectorizer),\n",
    "            ('clf', classifier),\n",
    "        ])\n",
    "        gs = GridSearchCV(pipe, \n",
    "                          param_grid=params, \n",
    "                          n_jobs=-1,\n",
    "                          scoring='roc_auc',\n",
    "                          cv=5,\n",
    "                          verbose=10)\n",
    "        \n",
    "        gs.fit(df.description, df.label_num)\n",
    "        score = gs.best_score_\n",
    "        print(f'''\n",
    "Classifier: {clf_name}\n",
    "Vectorizer: {vect_name}\n",
    "Score: {gs.best_score_:.4f}\n",
    "Params: {gs.best_params_}\n",
    "------------------------------\n",
    "            ''')\n",
    "        models.append((clf_name, vect_name, gs.best_score_, gs.best_params_))"
   ]
  },
  {
   "cell_type": "code",
   "execution_count": 49,
   "metadata": {},
   "outputs": [
    {
     "name": "stdout",
     "output_type": "stream",
     "text": [
      "And the winner is...\n",
      "\n",
      "Classifier: Linear SVC\n",
      "Vectorizer: CountVectorizer\n",
      "Score: 0.9760566030019222\n",
      "Params: {'clf__C': 0.01, 'vect__ngram_range': (1, 2)}\n"
     ]
    }
   ],
   "source": [
    "models = sorted(models, key=lambda tup: tup[2])\n",
    "print('And the winner is...')\n",
    "print()\n",
    "print('Classifier:', models[-1][0])\n",
    "print('Vectorizer:', models[-1][1])\n",
    "print('Score:', models[-1][2])\n",
    "print('Params:', models[-1][3])"
   ]
  },
  {
   "cell_type": "markdown",
   "metadata": {
    "colab_type": "text",
    "id": "vlclSdSSveq-"
   },
   "source": [
    "# Stretch Goals\n",
    "\n",
    "- Try some agglomerative clustering using cosine-similarity-distance! (works better with high dimensional spaces) robust clustering - Agglomerative clustering like Ward would be cool. Try and create an awesome Dendrogram of the most important terms from the dataset.\n",
    "\n",
    "- Awesome resource for clustering stretch goals: \n",
    " - Agglomerative Clustering with Scipy: <https://joernhees.de/blog/2015/08/26/scipy-hierarchical-clustering-and-dendrogram-tutorial/>\n",
    " - Agglomerative Clustering for NLP: <http://brandonrose.org/clustering>\n",
    " \n",
    "- Use Latent Dirichlet Allocation (LDA) to perform topic modeling on the dataset: \n",
    " - Topic Modeling and LDA in Python: <https://towardsdatascience.com/topic-modeling-and-latent-dirichlet-allocation-in-python-9bf156893c24>\n",
    " - Topic Modeling and LDA using Gensim: <https://www.machinelearningplus.com/nlp/topic-modeling-gensim-python/>\n"
   ]
  }
 ],
 "metadata": {
  "colab": {
   "name": "LS_DS_423_Document_Classification_Assignment.ipynb",
   "provenance": [],
   "version": "0.3.2"
  },
  "kernelspec": {
   "display_name": "Python 3",
   "language": "python",
   "name": "python3"
  },
  "language_info": {
   "codemirror_mode": {
    "name": "ipython",
    "version": 3
   },
   "file_extension": ".py",
   "mimetype": "text/x-python",
   "name": "python",
   "nbconvert_exporter": "python",
   "pygments_lexer": "ipython3",
   "version": "3.6.5"
  }
 },
 "nbformat": 4,
 "nbformat_minor": 1
}
