{
 "cells": [
  {
   "cell_type": "markdown",
   "metadata": {},
   "source": [
    "# Latent Dirichlet Allocation (LDA)\n",
    "## A Litterary Introduction: *Jane Austen V. Charlotte Bronte*\n",
    "Despite being born nearly forty years apart, modern fans often pit Jane Austen & Charlotte Bronte against one another in a battle for litterary  supremacy. The battle centers around the topics of education for women, courting, and marriage. The authors' similiar backgrounds naturally draw comparisons, but the modern fascination is probably due to novelility of British women publishing novels during the early 19th century. \n",
    "\n",
    "Can we help close a litterary battle for supremacy and simply acknowledge that the authors addressed different topics and deserve to be acknowledged as excellent authors each in their own right?\n",
    "\n",
    "We're going to apply Latent Dirichlet Allocation a machine learning alogrithm for topic modeling to each of the author's novels to compare the distribution of topics in their novels."
   ]
  },
  {
   "cell_type": "code",
   "execution_count": 1,
   "metadata": {
    "collapsed": false,
    "inputHidden": false,
    "outputHidden": false
   },
   "outputs": [],
   "source": [
    "import numpy as np\n",
    "import gensim\n",
    "import os\n",
    "import re\n",
    "\n",
    "from gensim.utils import smart_open, simple_preprocess\n",
    "from gensim.parsing.preprocessing import STOPWORDS\n",
    "from gensim import corpora\n",
    "\n",
    "from gensim.models.ldamulticore import LdaMulticore\n",
    "\n",
    "import pandas as pd"
   ]
  },
  {
   "cell_type": "markdown",
   "metadata": {},
   "source": [
    "## Novel Data\n",
    "I grabbed the novel data pre-split into a bunch of smaller chuncks"
   ]
  },
  {
   "cell_type": "code",
   "execution_count": 7,
   "metadata": {
    "collapsed": false,
    "inputHidden": false,
    "outputHidden": false
   },
   "outputs": [],
   "source": [
    "path = '../data/austen-brontë-split'"
   ]
  },
  {
   "cell_type": "code",
   "execution_count": 4,
   "metadata": {},
   "outputs": [
    {
     "data": {
      "text/plain": [
       "'/Users/jsokoll/Documents/lessons/LatentDirichletAllocation/code'"
      ]
     },
     "execution_count": 4,
     "metadata": {},
     "output_type": "execute_result"
    }
   ],
   "source": []
  },
  {
   "cell_type": "markdown",
   "metadata": {
    "inputHidden": false,
    "outputHidden": false
   },
   "source": [
    "## Text Preprocessing"
   ]
  },
  {
   "cell_type": "code",
   "execution_count": 8,
   "metadata": {
    "collapsed": false,
    "inputHidden": false,
    "outputHidden": false
   },
   "outputs": [],
   "source": [
    "titles = [t[:-4] for t in os.listdir(path)]"
   ]
  },
  {
   "cell_type": "code",
   "execution_count": 9,
   "metadata": {
    "collapsed": false,
    "inputHidden": false,
    "outputHidden": false
   },
   "outputs": [],
   "source": [
    "STOPWORDS = set(STOPWORDS).union(set(['said', 'mr', 'mrs']))\n",
    "\n",
    "def tokenize(text):\n",
    "    return [token for token in simple_preprocess(text) if token not in STOPWORDS]"
   ]
  },
  {
   "cell_type": "code",
   "execution_count": 10,
   "metadata": {
    "collapsed": false,
    "inputHidden": false,
    "outputHidden": false
   },
   "outputs": [
    {
     "data": {
      "text/plain": [
       "['hello', 'world', 'test', 'tokenization', 'method']"
      ]
     },
     "execution_count": 10,
     "metadata": {},
     "output_type": "execute_result"
    }
   ],
   "source": [
    "tokenize(\"Hello World! This a test of the tokenization method\")"
   ]
  },
  {
   "cell_type": "markdown",
   "metadata": {},
   "source": [
    "## Python Genators\n",
    "Here we use a new pythonic thingy: the `yield` statement in our fucntion. This allows us to iterate over a bunch of documents without actually reading them into memory. You can see how we use this fucntion later on. "
   ]
  },
  {
   "cell_type": "code",
   "execution_count": 11,
   "metadata": {
    "collapsed": false,
    "inputHidden": false,
    "outputHidden": false
   },
   "outputs": [],
   "source": [
    "def doc_stream(path):\n",
    "    for f in os.listdir(path):\n",
    "        with open(os.path.join(path,f)) as t:\n",
    "            text = t.read().strip('\\n')\n",
    "            tokens = tokenize(str(text))\n",
    "            yield tokens"
   ]
  },
  {
   "cell_type": "code",
   "execution_count": 15,
   "metadata": {},
   "outputs": [],
   "source": [
    "data = [\" \".join(doc) for doc in doc_stream(path)]"
   ]
  },
  {
   "cell_type": "code",
   "execution_count": 18,
   "metadata": {},
   "outputs": [
    {
     "data": {
      "text/plain": [
       "'giving fair companion account yesterday party friend cole come stilton cheese north wiltshire butter cellery beet root dessert soon led better course consoling reflection thing interests love thing serve introduction near heart kept longer away walked quietly till view vicarage pales sudden resolution getting harriet house amiss boot fall arrange broke lace short dexterously throwing ditch presently obliged entreat stop acknowledged inability rights able walk home tolerable comfort lace gone know contrive troublesome companion hope ill equipped elton beg leave stop house ask housekeeper bit ribband string thing boot elton looked happiness proposition exceed alertness attention conducting house endeavouring thing appear advantage room taken chiefly occupied looking forwards immediately communicated door open emma passed housekeeper receive assistance comfortable manner obliged leave door ajar fully intended elton close closed remained ajar engaging housekeeper incessant conversation hoped practicable chuse subject adjoining room minutes hear protracted longer obliged finished appearance lovers standing windows favourable aspect half minute emma felt glory having schemed successfully come point agreeable delightful told harriet seen purposely followed little gallantries allusions dropt cautious cautious thought emma advances inch inch hazard till believes secure thing accomplished ingenious device flatter occasion present enjoyment leading forward great event chapter xi elton left longer emma power superintend happiness quicken measures coming sister family near hand anticipation reality henceforth prime object days stay hartfield expected expect thing occasional fortuitous assistance afforded lovers advance rapidly advance hardly wished leisure people john knightley having longer usual absent surry exciting course usual till year long vacation marriage divided hartfield donwell abbey holidays autumn given sea bathing children months seen regular way surry connexions seen woodhouse induced far london poor isabella sake consequently nervously apprehensively happy forestalling short visit thought evils journey little fatigues horses coachman bring party half way alarms needless sixteen miles happily accomplished john knightley children competent number nursery maids reaching hartfield safety bustle joy arrival talked welcomed encouraged variously dispersed disposed produced noise confusion nerves borne cause endured longer ways hartfield feelings father respected john knightley spite maternal solicitude immediate enjoyment little ones having instantly liberty attendance eating drinking sleeping playing possibly wish smallest delay children allowed long disturbance restless attendance john knightley pretty elegant little woman gentle quiet manners disposition remarkably amiable affectionate wrapt family devoted wife doating mother tenderly attached father sister higher ties warmer love impossible fault woman strong understanding quickness resemblance father inherited constitution delicate health careful children fears nerves fond wingfield town'"
      ]
     },
     "execution_count": 18,
     "metadata": {},
     "output_type": "execute_result"
    }
   ],
   "source": [
    "f"
   ]
  },
  {
   "cell_type": "code",
   "execution_count": 20,
   "metadata": {},
   "outputs": [],
   "source": [
    "df = pd.DataFrame(index=titles)\n",
    "df['text'] = data"
   ]
  },
  {
   "cell_type": "code",
   "execution_count": 22,
   "metadata": {},
   "outputs": [],
   "source": [
    "df['author'] = df.reset_index()['index'].apply(lambda x: x.split('_')[0]).tolist()\n",
    "df['book'] = df.reset_index()['index'].apply(lambda x: x.split('_')[1][:-4]).tolist()\n",
    "df['section'] = df.reset_index()['index'].apply(lambda x: x[-4:]).tolist()"
   ]
  },
  {
   "cell_type": "code",
   "execution_count": 24,
   "metadata": {},
   "outputs": [],
   "source": [
    "df['author'] = df['author'].map({'Austen':1, 'CBronte':0})"
   ]
  },
  {
   "cell_type": "code",
   "execution_count": 26,
   "metadata": {},
   "outputs": [
    {
     "data": {
      "text/plain": [
       "0    441\n",
       "1    372\n",
       "Name: author, dtype: int64"
      ]
     },
     "execution_count": 26,
     "metadata": {},
     "output_type": "execute_result"
    }
   ],
   "source": [
    "df.author.value_counts()"
   ]
  },
  {
   "cell_type": "code",
   "execution_count": 46,
   "metadata": {},
   "outputs": [],
   "source": [
    "from sklearn.feature_extraction.text import TfidfVectorizer\n",
    "from sklearn.decomposition import TruncatedSVD\n",
    "from sklearn.preprocessing import Normalizer\n",
    "from sklearn.pipeline import make_pipeline\n",
    "\n",
    "from sklearn.model_selection import cross_val_score"
   ]
  },
  {
   "cell_type": "code",
   "execution_count": 34,
   "metadata": {},
   "outputs": [],
   "source": [
    "vect = TfidfVectorizer()\n",
    "svd = TruncatedSVD(n_components=200)\n",
    "norm = Normalizer()"
   ]
  },
  {
   "cell_type": "code",
   "execution_count": 37,
   "metadata": {},
   "outputs": [],
   "source": [
    "lsa = make_pipeline(vect, svd, norm)"
   ]
  },
  {
   "cell_type": "code",
   "execution_count": 41,
   "metadata": {},
   "outputs": [],
   "source": [
    "lsa_dtm = lsa.fit_transform(df['text'])\n",
    "tfidf_dtm = vect.fit_transform(df['text'])"
   ]
  },
  {
   "cell_type": "code",
   "execution_count": 53,
   "metadata": {},
   "outputs": [
    {
     "data": {
      "text/plain": [
       "(813, 22095)"
      ]
     },
     "execution_count": 53,
     "metadata": {},
     "output_type": "execute_result"
    }
   ],
   "source": [
    "tfidf_dtm.shape"
   ]
  },
  {
   "cell_type": "code",
   "execution_count": 48,
   "metadata": {},
   "outputs": [],
   "source": [
    "from sklearn.linear_model import LogisticRegression\n",
    "\n",
    "lr = LogisticRegression()\n",
    "\n",
    "lsa = cross_val_score(lr, lsa_dtm, df['author'], cv=7, scoring='accuracy').mean()\n",
    "tfidf = cross_val_score(lr, tfidf_dtm, df['author'], cv=7, scoring='accuracy').mean()"
   ]
  },
  {
   "cell_type": "code",
   "execution_count": 51,
   "metadata": {},
   "outputs": [
    {
     "data": {
      "text/plain": [
       "1.0"
      ]
     },
     "execution_count": 51,
     "metadata": {},
     "output_type": "execute_result"
    }
   ],
   "source": []
  },
  {
   "cell_type": "code",
   "execution_count": 49,
   "metadata": {},
   "outputs": [
    {
     "name": "stdout",
     "output_type": "stream",
     "text": [
      "LSA Accuracy: 1.0\n",
      "TF-IDF Accuracy: 1.0\n"
     ]
    }
   ],
   "source": [
    "print(\"LSA Accuracy: {%f}\".format(lsa))\n",
    "print(\"TF-IDF Accuracy: {}\".format(tfidf))"
   ]
  },
  {
   "cell_type": "markdown",
   "metadata": {},
   "source": [
    "## Gensim LDA Topic Modeling"
   ]
  },
  {
   "cell_type": "code",
   "execution_count": 18,
   "metadata": {
    "collapsed": false,
    "inputHidden": false,
    "outputHidden": false
   },
   "outputs": [],
   "source": [
    "# A Dictionary Representation of all the words in our corpus\n",
    "id2word = corpora.Dictionary(doc_stream(path))"
   ]
  },
  {
   "cell_type": "code",
   "execution_count": 20,
   "metadata": {
    "collapsed": false,
    "inputHidden": false,
    "outputHidden": false
   },
   "outputs": [],
   "source": [
    "# Let's remove extreme values from the dataset\n",
    "id2word.filter_extremes(no_below=10, no_above=0.75)"
   ]
  },
  {
   "cell_type": "code",
   "execution_count": 41,
   "metadata": {
    "collapsed": false,
    "inputHidden": false,
    "outputHidden": false
   },
   "outputs": [],
   "source": [
    "# a bag of words(bow) representation of our corpus\n",
    "# Note: we haven't actually read any text into memory here\n",
    "corpus = [id2word.doc2bow(text) for text in doc_stream(path)]"
   ]
  },
  {
   "cell_type": "markdown",
   "metadata": {},
   "source": [
    "## LDA Model\n",
    "\n",
    "Run your Multicore LDA Model. "
   ]
  },
  {
   "cell_type": "code",
   "execution_count": 23,
   "metadata": {
    "collapsed": false,
    "inputHidden": false,
    "outputHidden": false
   },
   "outputs": [],
   "source": [
    "lda = LdaMulticore(corpus=corpus,\n",
    "                   id2word=id2word,\n",
    "                   random_state=723812,\n",
    "                   num_topics = 15,\n",
    "                   passes=10)"
   ]
  },
  {
   "cell_type": "code",
   "execution_count": 47,
   "metadata": {
    "collapsed": false,
    "inputHidden": false,
    "outputHidden": false
   },
   "outputs": [],
   "source": [
    "words = [re.findall(r'\"([^\"]*)\"',t[1]) for t in lda.print_topics()]"
   ]
  },
  {
   "cell_type": "code",
   "execution_count": 58,
   "metadata": {
    "collapsed": false,
    "inputHidden": false,
    "outputHidden": false
   },
   "outputs": [],
   "source": [
    "topics = [' '.join(t[2:5]) for t in words]"
   ]
  },
  {
   "cell_type": "code",
   "execution_count": 59,
   "metadata": {
    "collapsed": false,
    "inputHidden": false,
    "outputHidden": false
   },
   "outputs": [
    {
     "data": {
      "text/plain": [
       "['years rochester adele',\n",
       " 'wife living sir',\n",
       " 'think know thing',\n",
       " 'think colonel wickham',\n",
       " 'bingley miss bennet',\n",
       " 'madame thought know',\n",
       " 'mother john elinor',\n",
       " 'like ingram rochester',\n",
       " 'harriet weston knightley',\n",
       " 'know think sister',\n",
       " 'bennet know lydia',\n",
       " 'heard eliza day',\n",
       " 'thought long room',\n",
       " 'elinor shall come',\n",
       " 'house like day']"
      ]
     },
     "execution_count": 59,
     "metadata": {},
     "output_type": "execute_result"
    }
   ],
   "source": [
    "topics"
   ]
  },
  {
   "cell_type": "markdown",
   "metadata": {},
   "source": [
    "## Comparison"
   ]
  },
  {
   "cell_type": "code",
   "execution_count": 62,
   "metadata": {
    "collapsed": false,
    "inputHidden": false,
    "outputHidden": false
   },
   "outputs": [],
   "source": [
    "distro = [lda[d] for d in corpus]"
   ]
  },
  {
   "cell_type": "code",
   "execution_count": 63,
   "metadata": {
    "collapsed": false,
    "inputHidden": false,
    "outputHidden": false
   },
   "outputs": [
    {
     "data": {
      "text/plain": [
       "[(2, 0.22452806), (4, 0.24244052), (8, 0.4533502), (9, 0.077866085)]"
      ]
     },
     "execution_count": 63,
     "metadata": {},
     "output_type": "execute_result"
    }
   ],
   "source": [
    "distro[0]"
   ]
  },
  {
   "cell_type": "code",
   "execution_count": 64,
   "metadata": {
    "collapsed": false,
    "inputHidden": false,
    "outputHidden": false
   },
   "outputs": [],
   "source": [
    "def update(doc):\n",
    "        d_dist = {k:0 for k in range(0,15)}\n",
    "        for t in doc:\n",
    "            d_dist[t[0]] = t[1]\n",
    "        return d_dist\n",
    "    \n",
    "new_distro = [update(d) for d in distro]"
   ]
  },
  {
   "cell_type": "code",
   "execution_count": 65,
   "metadata": {
    "collapsed": false,
    "inputHidden": false,
    "outputHidden": false
   },
   "outputs": [
    {
     "data": {
      "text/plain": [
       "{0: 0,\n",
       " 1: 0,\n",
       " 2: 0.22452806,\n",
       " 3: 0,\n",
       " 4: 0.24244052,\n",
       " 5: 0,\n",
       " 6: 0,\n",
       " 7: 0,\n",
       " 8: 0.4533502,\n",
       " 9: 0.077866085,\n",
       " 10: 0,\n",
       " 11: 0,\n",
       " 12: 0,\n",
       " 13: 0,\n",
       " 14: 0}"
      ]
     },
     "execution_count": 65,
     "metadata": {},
     "output_type": "execute_result"
    }
   ],
   "source": [
    "new_distro[0]"
   ]
  },
  {
   "cell_type": "code",
   "execution_count": 72,
   "metadata": {
    "collapsed": false,
    "inputHidden": false,
    "outputHidden": false
   },
   "outputs": [],
   "source": [
    "df = pd.DataFrame.from_records(new_distro, index=titles)\n",
    "df.columns = topics"
   ]
  },
  {
   "cell_type": "code",
   "execution_count": 73,
   "metadata": {
    "collapsed": false,
    "inputHidden": false,
    "outputHidden": false
   },
   "outputs": [
    {
     "data": {
      "text/html": [
       "<div>\n",
       "<style scoped>\n",
       "    .dataframe tbody tr th:only-of-type {\n",
       "        vertical-align: middle;\n",
       "    }\n",
       "\n",
       "    .dataframe tbody tr th {\n",
       "        vertical-align: top;\n",
       "    }\n",
       "\n",
       "    .dataframe thead th {\n",
       "        text-align: right;\n",
       "    }\n",
       "</style>\n",
       "<table border=\"1\" class=\"dataframe\">\n",
       "  <thead>\n",
       "    <tr style=\"text-align: right;\">\n",
       "      <th></th>\n",
       "      <th>years rochester adele</th>\n",
       "      <th>wife living sir</th>\n",
       "      <th>think know thing</th>\n",
       "      <th>think colonel wickham</th>\n",
       "      <th>bingley miss bennet</th>\n",
       "      <th>madame thought know</th>\n",
       "      <th>mother john elinor</th>\n",
       "      <th>like ingram rochester</th>\n",
       "      <th>harriet weston knightley</th>\n",
       "      <th>know think sister</th>\n",
       "      <th>bennet know lydia</th>\n",
       "      <th>heard eliza day</th>\n",
       "      <th>thought long room</th>\n",
       "      <th>elinor shall come</th>\n",
       "      <th>house like day</th>\n",
       "    </tr>\n",
       "  </thead>\n",
       "  <tbody>\n",
       "    <tr>\n",
       "      <th>Austen_Emma0000</th>\n",
       "      <td>0.0</td>\n",
       "      <td>0.0</td>\n",
       "      <td>0.224528</td>\n",
       "      <td>0.0</td>\n",
       "      <td>0.242441</td>\n",
       "      <td>0.0</td>\n",
       "      <td>0.0</td>\n",
       "      <td>0.0</td>\n",
       "      <td>0.453350</td>\n",
       "      <td>0.077866</td>\n",
       "      <td>0.0</td>\n",
       "      <td>0.0</td>\n",
       "      <td>0.0</td>\n",
       "      <td>0.0</td>\n",
       "      <td>0.0</td>\n",
       "    </tr>\n",
       "    <tr>\n",
       "      <th>Austen_Emma0001</th>\n",
       "      <td>0.0</td>\n",
       "      <td>0.0</td>\n",
       "      <td>0.000000</td>\n",
       "      <td>0.0</td>\n",
       "      <td>0.000000</td>\n",
       "      <td>0.0</td>\n",
       "      <td>0.0</td>\n",
       "      <td>0.0</td>\n",
       "      <td>0.997247</td>\n",
       "      <td>0.000000</td>\n",
       "      <td>0.0</td>\n",
       "      <td>0.0</td>\n",
       "      <td>0.0</td>\n",
       "      <td>0.0</td>\n",
       "      <td>0.0</td>\n",
       "    </tr>\n",
       "    <tr>\n",
       "      <th>Austen_Emma0002</th>\n",
       "      <td>0.0</td>\n",
       "      <td>0.0</td>\n",
       "      <td>0.000000</td>\n",
       "      <td>0.0</td>\n",
       "      <td>0.000000</td>\n",
       "      <td>0.0</td>\n",
       "      <td>0.0</td>\n",
       "      <td>0.0</td>\n",
       "      <td>0.997422</td>\n",
       "      <td>0.000000</td>\n",
       "      <td>0.0</td>\n",
       "      <td>0.0</td>\n",
       "      <td>0.0</td>\n",
       "      <td>0.0</td>\n",
       "      <td>0.0</td>\n",
       "    </tr>\n",
       "    <tr>\n",
       "      <th>Austen_Emma0003</th>\n",
       "      <td>0.0</td>\n",
       "      <td>0.0</td>\n",
       "      <td>0.177979</td>\n",
       "      <td>0.0</td>\n",
       "      <td>0.000000</td>\n",
       "      <td>0.0</td>\n",
       "      <td>0.0</td>\n",
       "      <td>0.0</td>\n",
       "      <td>0.477138</td>\n",
       "      <td>0.342727</td>\n",
       "      <td>0.0</td>\n",
       "      <td>0.0</td>\n",
       "      <td>0.0</td>\n",
       "      <td>0.0</td>\n",
       "      <td>0.0</td>\n",
       "    </tr>\n",
       "    <tr>\n",
       "      <th>Austen_Emma0004</th>\n",
       "      <td>0.0</td>\n",
       "      <td>0.0</td>\n",
       "      <td>0.000000</td>\n",
       "      <td>0.0</td>\n",
       "      <td>0.125666</td>\n",
       "      <td>0.0</td>\n",
       "      <td>0.0</td>\n",
       "      <td>0.0</td>\n",
       "      <td>0.872183</td>\n",
       "      <td>0.000000</td>\n",
       "      <td>0.0</td>\n",
       "      <td>0.0</td>\n",
       "      <td>0.0</td>\n",
       "      <td>0.0</td>\n",
       "      <td>0.0</td>\n",
       "    </tr>\n",
       "  </tbody>\n",
       "</table>\n",
       "</div>"
      ],
      "text/plain": [
       "                 years rochester adele  wife living sir  think know thing  \\\n",
       "Austen_Emma0000                    0.0              0.0          0.224528   \n",
       "Austen_Emma0001                    0.0              0.0          0.000000   \n",
       "Austen_Emma0002                    0.0              0.0          0.000000   \n",
       "Austen_Emma0003                    0.0              0.0          0.177979   \n",
       "Austen_Emma0004                    0.0              0.0          0.000000   \n",
       "\n",
       "                 think colonel wickham  bingley miss bennet  \\\n",
       "Austen_Emma0000                    0.0             0.242441   \n",
       "Austen_Emma0001                    0.0             0.000000   \n",
       "Austen_Emma0002                    0.0             0.000000   \n",
       "Austen_Emma0003                    0.0             0.000000   \n",
       "Austen_Emma0004                    0.0             0.125666   \n",
       "\n",
       "                 madame thought know  mother john elinor  \\\n",
       "Austen_Emma0000                  0.0                 0.0   \n",
       "Austen_Emma0001                  0.0                 0.0   \n",
       "Austen_Emma0002                  0.0                 0.0   \n",
       "Austen_Emma0003                  0.0                 0.0   \n",
       "Austen_Emma0004                  0.0                 0.0   \n",
       "\n",
       "                 like ingram rochester  harriet weston knightley  \\\n",
       "Austen_Emma0000                    0.0                  0.453350   \n",
       "Austen_Emma0001                    0.0                  0.997247   \n",
       "Austen_Emma0002                    0.0                  0.997422   \n",
       "Austen_Emma0003                    0.0                  0.477138   \n",
       "Austen_Emma0004                    0.0                  0.872183   \n",
       "\n",
       "                 know think sister  bennet know lydia  heard eliza day  \\\n",
       "Austen_Emma0000           0.077866                0.0              0.0   \n",
       "Austen_Emma0001           0.000000                0.0              0.0   \n",
       "Austen_Emma0002           0.000000                0.0              0.0   \n",
       "Austen_Emma0003           0.342727                0.0              0.0   \n",
       "Austen_Emma0004           0.000000                0.0              0.0   \n",
       "\n",
       "                 thought long room  elinor shall come  house like day  \n",
       "Austen_Emma0000                0.0                0.0             0.0  \n",
       "Austen_Emma0001                0.0                0.0             0.0  \n",
       "Austen_Emma0002                0.0                0.0             0.0  \n",
       "Austen_Emma0003                0.0                0.0             0.0  \n",
       "Austen_Emma0004                0.0                0.0             0.0  "
      ]
     },
     "execution_count": 73,
     "metadata": {},
     "output_type": "execute_result"
    }
   ],
   "source": [
    "df.head()"
   ]
  },
  {
   "cell_type": "code",
   "execution_count": 74,
   "metadata": {
    "collapsed": false,
    "inputHidden": false,
    "outputHidden": false
   },
   "outputs": [
    {
     "data": {
      "text/html": [
       "<div>\n",
       "<style scoped>\n",
       "    .dataframe tbody tr th:only-of-type {\n",
       "        vertical-align: middle;\n",
       "    }\n",
       "\n",
       "    .dataframe tbody tr th {\n",
       "        vertical-align: top;\n",
       "    }\n",
       "\n",
       "    .dataframe thead th {\n",
       "        text-align: right;\n",
       "    }\n",
       "</style>\n",
       "<table border=\"1\" class=\"dataframe\">\n",
       "  <thead>\n",
       "    <tr style=\"text-align: right;\">\n",
       "      <th></th>\n",
       "      <th>years rochester adele</th>\n",
       "      <th>wife living sir</th>\n",
       "      <th>think know thing</th>\n",
       "      <th>think colonel wickham</th>\n",
       "      <th>bingley miss bennet</th>\n",
       "      <th>madame thought know</th>\n",
       "      <th>mother john elinor</th>\n",
       "      <th>like ingram rochester</th>\n",
       "      <th>harriet weston knightley</th>\n",
       "      <th>know think sister</th>\n",
       "      <th>bennet know lydia</th>\n",
       "      <th>heard eliza day</th>\n",
       "      <th>thought long room</th>\n",
       "      <th>elinor shall come</th>\n",
       "      <th>house like day</th>\n",
       "      <th>author</th>\n",
       "      <th>book</th>\n",
       "      <th>section</th>\n",
       "    </tr>\n",
       "  </thead>\n",
       "  <tbody>\n",
       "    <tr>\n",
       "      <th>Austen_Emma0000</th>\n",
       "      <td>0.0</td>\n",
       "      <td>0.0</td>\n",
       "      <td>0.224528</td>\n",
       "      <td>0.0</td>\n",
       "      <td>0.242441</td>\n",
       "      <td>0.0</td>\n",
       "      <td>0.0</td>\n",
       "      <td>0.0</td>\n",
       "      <td>0.453350</td>\n",
       "      <td>0.077866</td>\n",
       "      <td>0.0</td>\n",
       "      <td>0.0</td>\n",
       "      <td>0.0</td>\n",
       "      <td>0.0</td>\n",
       "      <td>0.0</td>\n",
       "      <td>Austen</td>\n",
       "      <td>Emma</td>\n",
       "      <td>0000</td>\n",
       "    </tr>\n",
       "    <tr>\n",
       "      <th>Austen_Emma0001</th>\n",
       "      <td>0.0</td>\n",
       "      <td>0.0</td>\n",
       "      <td>0.000000</td>\n",
       "      <td>0.0</td>\n",
       "      <td>0.000000</td>\n",
       "      <td>0.0</td>\n",
       "      <td>0.0</td>\n",
       "      <td>0.0</td>\n",
       "      <td>0.997247</td>\n",
       "      <td>0.000000</td>\n",
       "      <td>0.0</td>\n",
       "      <td>0.0</td>\n",
       "      <td>0.0</td>\n",
       "      <td>0.0</td>\n",
       "      <td>0.0</td>\n",
       "      <td>Austen</td>\n",
       "      <td>Emma</td>\n",
       "      <td>0001</td>\n",
       "    </tr>\n",
       "    <tr>\n",
       "      <th>Austen_Emma0002</th>\n",
       "      <td>0.0</td>\n",
       "      <td>0.0</td>\n",
       "      <td>0.000000</td>\n",
       "      <td>0.0</td>\n",
       "      <td>0.000000</td>\n",
       "      <td>0.0</td>\n",
       "      <td>0.0</td>\n",
       "      <td>0.0</td>\n",
       "      <td>0.997422</td>\n",
       "      <td>0.000000</td>\n",
       "      <td>0.0</td>\n",
       "      <td>0.0</td>\n",
       "      <td>0.0</td>\n",
       "      <td>0.0</td>\n",
       "      <td>0.0</td>\n",
       "      <td>Austen</td>\n",
       "      <td>Emma</td>\n",
       "      <td>0002</td>\n",
       "    </tr>\n",
       "    <tr>\n",
       "      <th>Austen_Emma0003</th>\n",
       "      <td>0.0</td>\n",
       "      <td>0.0</td>\n",
       "      <td>0.177979</td>\n",
       "      <td>0.0</td>\n",
       "      <td>0.000000</td>\n",
       "      <td>0.0</td>\n",
       "      <td>0.0</td>\n",
       "      <td>0.0</td>\n",
       "      <td>0.477138</td>\n",
       "      <td>0.342727</td>\n",
       "      <td>0.0</td>\n",
       "      <td>0.0</td>\n",
       "      <td>0.0</td>\n",
       "      <td>0.0</td>\n",
       "      <td>0.0</td>\n",
       "      <td>Austen</td>\n",
       "      <td>Emma</td>\n",
       "      <td>0003</td>\n",
       "    </tr>\n",
       "    <tr>\n",
       "      <th>Austen_Emma0004</th>\n",
       "      <td>0.0</td>\n",
       "      <td>0.0</td>\n",
       "      <td>0.000000</td>\n",
       "      <td>0.0</td>\n",
       "      <td>0.125666</td>\n",
       "      <td>0.0</td>\n",
       "      <td>0.0</td>\n",
       "      <td>0.0</td>\n",
       "      <td>0.872183</td>\n",
       "      <td>0.000000</td>\n",
       "      <td>0.0</td>\n",
       "      <td>0.0</td>\n",
       "      <td>0.0</td>\n",
       "      <td>0.0</td>\n",
       "      <td>0.0</td>\n",
       "      <td>Austen</td>\n",
       "      <td>Emma</td>\n",
       "      <td>0004</td>\n",
       "    </tr>\n",
       "  </tbody>\n",
       "</table>\n",
       "</div>"
      ],
      "text/plain": [
       "                 years rochester adele  wife living sir  think know thing  \\\n",
       "Austen_Emma0000                    0.0              0.0          0.224528   \n",
       "Austen_Emma0001                    0.0              0.0          0.000000   \n",
       "Austen_Emma0002                    0.0              0.0          0.000000   \n",
       "Austen_Emma0003                    0.0              0.0          0.177979   \n",
       "Austen_Emma0004                    0.0              0.0          0.000000   \n",
       "\n",
       "                 think colonel wickham  bingley miss bennet  \\\n",
       "Austen_Emma0000                    0.0             0.242441   \n",
       "Austen_Emma0001                    0.0             0.000000   \n",
       "Austen_Emma0002                    0.0             0.000000   \n",
       "Austen_Emma0003                    0.0             0.000000   \n",
       "Austen_Emma0004                    0.0             0.125666   \n",
       "\n",
       "                 madame thought know  mother john elinor  \\\n",
       "Austen_Emma0000                  0.0                 0.0   \n",
       "Austen_Emma0001                  0.0                 0.0   \n",
       "Austen_Emma0002                  0.0                 0.0   \n",
       "Austen_Emma0003                  0.0                 0.0   \n",
       "Austen_Emma0004                  0.0                 0.0   \n",
       "\n",
       "                 like ingram rochester  harriet weston knightley  \\\n",
       "Austen_Emma0000                    0.0                  0.453350   \n",
       "Austen_Emma0001                    0.0                  0.997247   \n",
       "Austen_Emma0002                    0.0                  0.997422   \n",
       "Austen_Emma0003                    0.0                  0.477138   \n",
       "Austen_Emma0004                    0.0                  0.872183   \n",
       "\n",
       "                 know think sister  bennet know lydia  heard eliza day  \\\n",
       "Austen_Emma0000           0.077866                0.0              0.0   \n",
       "Austen_Emma0001           0.000000                0.0              0.0   \n",
       "Austen_Emma0002           0.000000                0.0              0.0   \n",
       "Austen_Emma0003           0.342727                0.0              0.0   \n",
       "Austen_Emma0004           0.000000                0.0              0.0   \n",
       "\n",
       "                 thought long room  elinor shall come  house like day  author  \\\n",
       "Austen_Emma0000                0.0                0.0             0.0  Austen   \n",
       "Austen_Emma0001                0.0                0.0             0.0  Austen   \n",
       "Austen_Emma0002                0.0                0.0             0.0  Austen   \n",
       "Austen_Emma0003                0.0                0.0             0.0  Austen   \n",
       "Austen_Emma0004                0.0                0.0             0.0  Austen   \n",
       "\n",
       "                 book section  \n",
       "Austen_Emma0000  Emma    0000  \n",
       "Austen_Emma0001  Emma    0001  \n",
       "Austen_Emma0002  Emma    0002  \n",
       "Austen_Emma0003  Emma    0003  \n",
       "Austen_Emma0004  Emma    0004  "
      ]
     },
     "execution_count": 74,
     "metadata": {},
     "output_type": "execute_result"
    }
   ],
   "source": [
    "df['author'] = df.reset_index()['index'].apply(lambda x: x.split('_')[0]).tolist()\n",
    "df['book'] = df.reset_index()['index'].apply(lambda x: x.split('_')[1][:-4]).tolist()\n",
    "df['section'] = df.reset_index()['index'].apply(lambda x: x[-4:]).tolist()\n",
    "df.head()"
   ]
  },
  {
   "cell_type": "code",
   "execution_count": 75,
   "metadata": {
    "collapsed": false,
    "inputHidden": false,
    "outputHidden": false
   },
   "outputs": [
    {
     "data": {
      "text/html": [
       "<div>\n",
       "<style scoped>\n",
       "    .dataframe tbody tr th:only-of-type {\n",
       "        vertical-align: middle;\n",
       "    }\n",
       "\n",
       "    .dataframe tbody tr th {\n",
       "        vertical-align: top;\n",
       "    }\n",
       "\n",
       "    .dataframe thead th {\n",
       "        text-align: right;\n",
       "    }\n",
       "</style>\n",
       "<table border=\"1\" class=\"dataframe\">\n",
       "  <thead>\n",
       "    <tr style=\"text-align: right;\">\n",
       "      <th></th>\n",
       "      <th>years rochester adele</th>\n",
       "      <th>wife living sir</th>\n",
       "      <th>think know thing</th>\n",
       "      <th>think colonel wickham</th>\n",
       "      <th>bingley miss bennet</th>\n",
       "      <th>madame thought know</th>\n",
       "      <th>mother john elinor</th>\n",
       "      <th>like ingram rochester</th>\n",
       "      <th>harriet weston knightley</th>\n",
       "      <th>know think sister</th>\n",
       "      <th>bennet know lydia</th>\n",
       "      <th>heard eliza day</th>\n",
       "      <th>thought long room</th>\n",
       "      <th>elinor shall come</th>\n",
       "      <th>house like day</th>\n",
       "    </tr>\n",
       "  </thead>\n",
       "  <tbody>\n",
       "    <tr>\n",
       "      <th>count</th>\n",
       "      <td>813.000000</td>\n",
       "      <td>813.000000</td>\n",
       "      <td>813.000000</td>\n",
       "      <td>813.000000</td>\n",
       "      <td>813.000000</td>\n",
       "      <td>813.000000</td>\n",
       "      <td>813.000000</td>\n",
       "      <td>813.000000</td>\n",
       "      <td>813.000000</td>\n",
       "      <td>813.000000</td>\n",
       "      <td>813.000000</td>\n",
       "      <td>813.000000</td>\n",
       "      <td>813.000000</td>\n",
       "      <td>813.000000</td>\n",
       "      <td>813.000000</td>\n",
       "    </tr>\n",
       "    <tr>\n",
       "      <th>mean</th>\n",
       "      <td>0.003044</td>\n",
       "      <td>0.001283</td>\n",
       "      <td>0.014421</td>\n",
       "      <td>0.010870</td>\n",
       "      <td>0.065071</td>\n",
       "      <td>0.155098</td>\n",
       "      <td>0.005907</td>\n",
       "      <td>0.037986</td>\n",
       "      <td>0.145708</td>\n",
       "      <td>0.188003</td>\n",
       "      <td>0.070472</td>\n",
       "      <td>0.007806</td>\n",
       "      <td>0.278250</td>\n",
       "      <td>0.007810</td>\n",
       "      <td>0.005507</td>\n",
       "    </tr>\n",
       "    <tr>\n",
       "      <th>std</th>\n",
       "      <td>0.052194</td>\n",
       "      <td>0.035014</td>\n",
       "      <td>0.096115</td>\n",
       "      <td>0.091922</td>\n",
       "      <td>0.208182</td>\n",
       "      <td>0.281066</td>\n",
       "      <td>0.070760</td>\n",
       "      <td>0.145822</td>\n",
       "      <td>0.324443</td>\n",
       "      <td>0.319548</td>\n",
       "      <td>0.214361</td>\n",
       "      <td>0.079167</td>\n",
       "      <td>0.355732</td>\n",
       "      <td>0.077163</td>\n",
       "      <td>0.071168</td>\n",
       "    </tr>\n",
       "    <tr>\n",
       "      <th>min</th>\n",
       "      <td>0.000000</td>\n",
       "      <td>0.000000</td>\n",
       "      <td>0.000000</td>\n",
       "      <td>0.000000</td>\n",
       "      <td>0.000000</td>\n",
       "      <td>0.000000</td>\n",
       "      <td>0.000000</td>\n",
       "      <td>0.000000</td>\n",
       "      <td>0.000000</td>\n",
       "      <td>0.000000</td>\n",
       "      <td>0.000000</td>\n",
       "      <td>0.000000</td>\n",
       "      <td>0.000000</td>\n",
       "      <td>0.000000</td>\n",
       "      <td>0.000000</td>\n",
       "    </tr>\n",
       "    <tr>\n",
       "      <th>25%</th>\n",
       "      <td>0.000000</td>\n",
       "      <td>0.000000</td>\n",
       "      <td>0.000000</td>\n",
       "      <td>0.000000</td>\n",
       "      <td>0.000000</td>\n",
       "      <td>0.000000</td>\n",
       "      <td>0.000000</td>\n",
       "      <td>0.000000</td>\n",
       "      <td>0.000000</td>\n",
       "      <td>0.000000</td>\n",
       "      <td>0.000000</td>\n",
       "      <td>0.000000</td>\n",
       "      <td>0.000000</td>\n",
       "      <td>0.000000</td>\n",
       "      <td>0.000000</td>\n",
       "    </tr>\n",
       "    <tr>\n",
       "      <th>50%</th>\n",
       "      <td>0.000000</td>\n",
       "      <td>0.000000</td>\n",
       "      <td>0.000000</td>\n",
       "      <td>0.000000</td>\n",
       "      <td>0.000000</td>\n",
       "      <td>0.000000</td>\n",
       "      <td>0.000000</td>\n",
       "      <td>0.000000</td>\n",
       "      <td>0.000000</td>\n",
       "      <td>0.000000</td>\n",
       "      <td>0.000000</td>\n",
       "      <td>0.000000</td>\n",
       "      <td>0.012480</td>\n",
       "      <td>0.000000</td>\n",
       "      <td>0.000000</td>\n",
       "    </tr>\n",
       "    <tr>\n",
       "      <th>75%</th>\n",
       "      <td>0.000000</td>\n",
       "      <td>0.000000</td>\n",
       "      <td>0.000000</td>\n",
       "      <td>0.000000</td>\n",
       "      <td>0.000000</td>\n",
       "      <td>0.194960</td>\n",
       "      <td>0.000000</td>\n",
       "      <td>0.000000</td>\n",
       "      <td>0.000000</td>\n",
       "      <td>0.217176</td>\n",
       "      <td>0.000000</td>\n",
       "      <td>0.000000</td>\n",
       "      <td>0.583615</td>\n",
       "      <td>0.000000</td>\n",
       "      <td>0.000000</td>\n",
       "    </tr>\n",
       "    <tr>\n",
       "      <th>max</th>\n",
       "      <td>0.997498</td>\n",
       "      <td>0.997378</td>\n",
       "      <td>0.997471</td>\n",
       "      <td>0.997295</td>\n",
       "      <td>0.997531</td>\n",
       "      <td>0.997667</td>\n",
       "      <td>0.997655</td>\n",
       "      <td>0.997436</td>\n",
       "      <td>0.997672</td>\n",
       "      <td>0.997762</td>\n",
       "      <td>0.997531</td>\n",
       "      <td>0.997386</td>\n",
       "      <td>0.997767</td>\n",
       "      <td>0.997625</td>\n",
       "      <td>0.997279</td>\n",
       "    </tr>\n",
       "  </tbody>\n",
       "</table>\n",
       "</div>"
      ],
      "text/plain": [
       "       years rochester adele  wife living sir  think know thing  \\\n",
       "count             813.000000       813.000000        813.000000   \n",
       "mean                0.003044         0.001283          0.014421   \n",
       "std                 0.052194         0.035014          0.096115   \n",
       "min                 0.000000         0.000000          0.000000   \n",
       "25%                 0.000000         0.000000          0.000000   \n",
       "50%                 0.000000         0.000000          0.000000   \n",
       "75%                 0.000000         0.000000          0.000000   \n",
       "max                 0.997498         0.997378          0.997471   \n",
       "\n",
       "       think colonel wickham  bingley miss bennet  madame thought know  \\\n",
       "count             813.000000           813.000000           813.000000   \n",
       "mean                0.010870             0.065071             0.155098   \n",
       "std                 0.091922             0.208182             0.281066   \n",
       "min                 0.000000             0.000000             0.000000   \n",
       "25%                 0.000000             0.000000             0.000000   \n",
       "50%                 0.000000             0.000000             0.000000   \n",
       "75%                 0.000000             0.000000             0.194960   \n",
       "max                 0.997295             0.997531             0.997667   \n",
       "\n",
       "       mother john elinor  like ingram rochester  harriet weston knightley  \\\n",
       "count          813.000000             813.000000                813.000000   \n",
       "mean             0.005907               0.037986                  0.145708   \n",
       "std              0.070760               0.145822                  0.324443   \n",
       "min              0.000000               0.000000                  0.000000   \n",
       "25%              0.000000               0.000000                  0.000000   \n",
       "50%              0.000000               0.000000                  0.000000   \n",
       "75%              0.000000               0.000000                  0.000000   \n",
       "max              0.997655               0.997436                  0.997672   \n",
       "\n",
       "       know think sister  bennet know lydia  heard eliza day  \\\n",
       "count         813.000000         813.000000       813.000000   \n",
       "mean            0.188003           0.070472         0.007806   \n",
       "std             0.319548           0.214361         0.079167   \n",
       "min             0.000000           0.000000         0.000000   \n",
       "25%             0.000000           0.000000         0.000000   \n",
       "50%             0.000000           0.000000         0.000000   \n",
       "75%             0.217176           0.000000         0.000000   \n",
       "max             0.997762           0.997531         0.997386   \n",
       "\n",
       "       thought long room  elinor shall come  house like day  \n",
       "count         813.000000         813.000000      813.000000  \n",
       "mean            0.278250           0.007810        0.005507  \n",
       "std             0.355732           0.077163        0.071168  \n",
       "min             0.000000           0.000000        0.000000  \n",
       "25%             0.000000           0.000000        0.000000  \n",
       "50%             0.012480           0.000000        0.000000  \n",
       "75%             0.583615           0.000000        0.000000  \n",
       "max             0.997767           0.997625        0.997279  "
      ]
     },
     "execution_count": 75,
     "metadata": {},
     "output_type": "execute_result"
    }
   ],
   "source": [
    "df.describe()"
   ]
  },
  {
   "cell_type": "code",
   "execution_count": 76,
   "metadata": {
    "collapsed": false,
    "inputHidden": false,
    "outputHidden": false
   },
   "outputs": [],
   "source": [
    "author_mean = df.groupby(by=['author']).mean()"
   ]
  },
  {
   "cell_type": "code",
   "execution_count": 77,
   "metadata": {
    "collapsed": false,
    "inputHidden": false,
    "outputHidden": false
   },
   "outputs": [
    {
     "data": {
      "text/html": [
       "<div>\n",
       "<style scoped>\n",
       "    .dataframe tbody tr th:only-of-type {\n",
       "        vertical-align: middle;\n",
       "    }\n",
       "\n",
       "    .dataframe tbody tr th {\n",
       "        vertical-align: top;\n",
       "    }\n",
       "\n",
       "    .dataframe thead th {\n",
       "        text-align: right;\n",
       "    }\n",
       "</style>\n",
       "<table border=\"1\" class=\"dataframe\">\n",
       "  <thead>\n",
       "    <tr style=\"text-align: right;\">\n",
       "      <th></th>\n",
       "      <th>years rochester adele</th>\n",
       "      <th>wife living sir</th>\n",
       "      <th>think know thing</th>\n",
       "      <th>think colonel wickham</th>\n",
       "      <th>bingley miss bennet</th>\n",
       "      <th>madame thought know</th>\n",
       "      <th>mother john elinor</th>\n",
       "      <th>like ingram rochester</th>\n",
       "      <th>harriet weston knightley</th>\n",
       "      <th>know think sister</th>\n",
       "      <th>bennet know lydia</th>\n",
       "      <th>heard eliza day</th>\n",
       "      <th>thought long room</th>\n",
       "      <th>elinor shall come</th>\n",
       "      <th>house like day</th>\n",
       "    </tr>\n",
       "    <tr>\n",
       "      <th>author</th>\n",
       "      <th></th>\n",
       "      <th></th>\n",
       "      <th></th>\n",
       "      <th></th>\n",
       "      <th></th>\n",
       "      <th></th>\n",
       "      <th></th>\n",
       "      <th></th>\n",
       "      <th></th>\n",
       "      <th></th>\n",
       "      <th></th>\n",
       "      <th></th>\n",
       "      <th></th>\n",
       "      <th></th>\n",
       "      <th></th>\n",
       "    </tr>\n",
       "  </thead>\n",
       "  <tbody>\n",
       "    <tr>\n",
       "      <th>Austen</th>\n",
       "      <td>0.000000</td>\n",
       "      <td>0.000000</td>\n",
       "      <td>0.029317</td>\n",
       "      <td>0.023416</td>\n",
       "      <td>0.137172</td>\n",
       "      <td>0.001817</td>\n",
       "      <td>0.007148</td>\n",
       "      <td>0.002057</td>\n",
       "      <td>0.313899</td>\n",
       "      <td>0.316756</td>\n",
       "      <td>0.143855</td>\n",
       "      <td>0.00000</td>\n",
       "      <td>0.010486</td>\n",
       "      <td>0.010214</td>\n",
       "      <td>0.001125</td>\n",
       "    </tr>\n",
       "    <tr>\n",
       "      <th>CBronte</th>\n",
       "      <td>0.005611</td>\n",
       "      <td>0.002365</td>\n",
       "      <td>0.001856</td>\n",
       "      <td>0.000287</td>\n",
       "      <td>0.004251</td>\n",
       "      <td>0.284396</td>\n",
       "      <td>0.004860</td>\n",
       "      <td>0.068294</td>\n",
       "      <td>0.003832</td>\n",
       "      <td>0.079395</td>\n",
       "      <td>0.008571</td>\n",
       "      <td>0.01439</td>\n",
       "      <td>0.504119</td>\n",
       "      <td>0.005783</td>\n",
       "      <td>0.009204</td>\n",
       "    </tr>\n",
       "  </tbody>\n",
       "</table>\n",
       "</div>"
      ],
      "text/plain": [
       "         years rochester adele  wife living sir  think know thing  \\\n",
       "author                                                              \n",
       "Austen                0.000000         0.000000          0.029317   \n",
       "CBronte               0.005611         0.002365          0.001856   \n",
       "\n",
       "         think colonel wickham  bingley miss bennet  madame thought know  \\\n",
       "author                                                                     \n",
       "Austen                0.023416             0.137172             0.001817   \n",
       "CBronte               0.000287             0.004251             0.284396   \n",
       "\n",
       "         mother john elinor  like ingram rochester  harriet weston knightley  \\\n",
       "author                                                                         \n",
       "Austen             0.007148               0.002057                  0.313899   \n",
       "CBronte            0.004860               0.068294                  0.003832   \n",
       "\n",
       "         know think sister  bennet know lydia  heard eliza day  \\\n",
       "author                                                           \n",
       "Austen            0.316756           0.143855          0.00000   \n",
       "CBronte           0.079395           0.008571          0.01439   \n",
       "\n",
       "         thought long room  elinor shall come  house like day  \n",
       "author                                                         \n",
       "Austen            0.010486           0.010214        0.001125  \n",
       "CBronte           0.504119           0.005783        0.009204  "
      ]
     },
     "execution_count": 77,
     "metadata": {},
     "output_type": "execute_result"
    }
   ],
   "source": [
    "author_mean"
   ]
  },
  {
   "cell_type": "code",
   "execution_count": 35,
   "metadata": {
    "collapsed": false,
    "inputHidden": false,
    "outputHidden": false
   },
   "outputs": [
    {
     "data": {
      "text/plain": [
       "[('like', 0.0072644744),\n",
       " ('night', 0.0049664956),\n",
       " ('thought', 0.0048304982),\n",
       " ('long', 0.0046967305),\n",
       " ('room', 0.004392841),\n",
       " ('come', 0.004066149),\n",
       " ('day', 0.0038081058),\n",
       " ('door', 0.0037465198),\n",
       " ('eyes', 0.003669961),\n",
       " ('saw', 0.003612934)]"
      ]
     },
     "execution_count": 35,
     "metadata": {},
     "output_type": "execute_result"
    }
   ],
   "source": [
    "#CBronte's big topic\n",
    "lda.show_topic(12)"
   ]
  },
  {
   "cell_type": "markdown",
   "metadata": {
    "inputHidden": false,
    "outputHidden": false
   },
   "source": [
    "## Making a Prediction on an unseen document"
   ]
  },
  {
   "cell_type": "code",
   "execution_count": 36,
   "metadata": {
    "collapsed": false,
    "inputHidden": false,
    "outputHidden": false
   },
   "outputs": [],
   "source": [
    "tokens = \"like night though long ed the world room come day door eyes saw\".split()\n",
    "bow = id2word.doc2bow(tokens)"
   ]
  },
  {
   "cell_type": "code",
   "execution_count": 39,
   "metadata": {
    "collapsed": false,
    "inputHidden": false,
    "outputHidden": false
   },
   "outputs": [
    {
     "data": {
      "text/plain": [
       "[(12, 0.91515136)]"
      ]
     },
     "execution_count": 39,
     "metadata": {},
     "output_type": "execute_result"
    }
   ],
   "source": [
    "lda[bow]"
   ]
  },
  {
   "cell_type": "markdown",
   "metadata": {},
   "source": [
    "## Resources\n",
    "\n",
    "* [Gensim](https://radimrehurek.com/gensim/): Python package for topic modeling, nlp, word vectorization, and few other things. Well maintained and well documented.\n",
    "* [Topic Modeling with Gensim](http://www.machinelearningplus.com/nlp/topic-modeling-gensim-python/#11createthedictionaryandcorpusneededfortopicmodeling): A kind of cookbook for LDA with gensim. Excellent overview, but the you need to be aware of missing import statements and assumed prior knowledge.\n",
    "* [Chinese Restuarant Process](https://en.wikipedia.org/wiki/Chinese_restaurant_process): That really obscure stats thing I mentioned... \n",
    "* [PyLDAvis](https://github.com/bmabey/pyLDAvis): Library for visualizing the topic model and performing some exploratory work. Works well. Has a direct parrell implementation in R as well. \n",
    "* [Rare Technologies](https://rare-technologies.com/): The people that made & maintain gensim and a few other libraries.\n",
    "* [Jane Austen v. Charlotte Bronte](https://www.literaryladiesguide.com/literary-musings/jane-austen-charlotte-bronte-different-alike/)"
   ]
  }
 ],
 "metadata": {
  "kernel_info": {
   "name": "python3"
  },
  "kernelspec": {
   "display_name": "Python 3",
   "language": "python",
   "name": "python3"
  },
  "language_info": {
   "codemirror_mode": {
    "name": "ipython",
    "version": 3
   },
   "file_extension": ".py",
   "mimetype": "text/x-python",
   "name": "python",
   "nbconvert_exporter": "python",
   "pygments_lexer": "ipython3",
   "version": "3.7.3"
  },
  "nteract": {
   "version": "0.12.3"
  }
 },
 "nbformat": 4,
 "nbformat_minor": 4
}
