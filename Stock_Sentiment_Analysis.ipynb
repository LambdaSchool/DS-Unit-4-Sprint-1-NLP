{
  "nbformat": 4,
  "nbformat_minor": 0,
  "metadata": {
    "colab": {
      "name": "Stock Sentiment Analysis.ipynb",
      "version": "0.3.2",
      "provenance": [],
      "include_colab_link": true
    },
    "kernelspec": {
      "name": "python3",
      "display_name": "Python 3"
    }
  },
  "cells": [
    {
      "cell_type": "markdown",
      "metadata": {
        "id": "view-in-github",
        "colab_type": "text"
      },
      "source": [
        "<a href=\"https://colab.research.google.com/github/derek-shing/DS-Unit-4-Sprint-2-NLP/blob/master/Stock_Sentiment_Analysis.ipynb\" target=\"_parent\"><img src=\"https://colab.research.google.com/assets/colab-badge.svg\" alt=\"Open In Colab\"/></a>"
      ]
    },
    {
      "metadata": {
        "id": "wXgSPUP4g9-N",
        "colab_type": "code",
        "colab": {}
      },
      "cell_type": "code",
      "source": [
        "import requests\n",
        "import pandas as pd\n",
        "from bs4 import BeautifulSoup\n",
        "import nltk"
      ],
      "execution_count": 0,
      "outputs": []
    },
    {
      "metadata": {
        "id": "EkKcDLUGgZwb",
        "colab_type": "code",
        "colab": {}
      },
      "cell_type": "code",
      "source": [
        "url=\"http://finance.yahoo.com/rss/headline?s=\"\n",
        "symbol=\"AAPL\"\n",
        "\n",
        "feed = requests.get(url+symbol)"
      ],
      "execution_count": 0,
      "outputs": []
    },
    {
      "metadata": {
        "id": "Ep0ImBrShcJl",
        "colab_type": "code",
        "colab": {
          "base_uri": "https://localhost:8080/",
          "height": 54
        },
        "outputId": "fa7bc732-69a6-4c68-a3bb-3ab82c51871f"
      },
      "cell_type": "code",
      "source": [
        "feed.content"
      ],
      "execution_count": 4,
      "outputs": [
        {
          "output_type": "execute_result",
          "data": {
            "text/plain": [
              "b'<?xml version=\"1.0\" encoding=\"UTF-8\" standalone=\"yes\"?>\\n<rss version=\"2.0\">\\n    <channel>\\n        <copyright>Copyright (c) 2019 Yahoo! Inc. All rights reserved.</copyright>\\n        <description>Latest Financial News for APPL</description>\\n        <image>\\n            <height>45</height>\\n            <link>http://finance.yahoo.com/q/h?s=APPL</link>\\n            <title>Yahoo! Finance: APPL News</title>\\n            <url>http://l.yimg.com/a/i/brand/purplelogo/uh/us/fin.gif</url>\\n            <width>144</width>\\n        </image>\\n        <language>en-US</language>\\n        <lastBuildDate>Thu, 02 May 2019 07:50:11 +0000</lastBuildDate>\\n        <link>http://finance.yahoo.com/q/h?s=APPL</link>\\n        <title>Yahoo! Finance: APPL News</title>\\n    </channel>\\n</rss>\\n'"
            ]
          },
          "metadata": {
            "tags": []
          },
          "execution_count": 4
        }
      ]
    },
    {
      "metadata": {
        "id": "QDb629HWhuQ3",
        "colab_type": "code",
        "colab": {}
      },
      "cell_type": "code",
      "source": [
        "soup = BeautifulSoup(feed.text)"
      ],
      "execution_count": 0,
      "outputs": []
    },
    {
      "metadata": {
        "id": "vXkY4zdBh8tm",
        "colab_type": "code",
        "colab": {
          "base_uri": "https://localhost:8080/",
          "height": 2485
        },
        "outputId": "4795c0fb-9790-42cd-b026-02a63ff39a34"
      },
      "cell_type": "code",
      "source": [
        "soup"
      ],
      "execution_count": 11,
      "outputs": [
        {
          "output_type": "execute_result",
          "data": {
            "text/plain": [
              "<?xml version=\"1.0\" encoding=\"UTF-8\" standalone=\"yes\"?><html><body><rss version=\"2.0\">\n",
              "<channel>\n",
              "<copyright>Copyright (c) 2019 Yahoo! Inc. All rights reserved.</copyright>\n",
              "<description>Latest Financial News for AAPL</description>\n",
              "<image>\n",
              "<height>45</height>\n",
              "<link/>http://finance.yahoo.com/q/h?s=AAPL\n",
              "            <title>Yahoo! Finance: AAPL News</title>\n",
              "<url>http://l.yimg.com/a/i/brand/purplelogo/uh/us/fin.gif</url>\n",
              "<width>144</width>\n",
              "</image>\n",
              "<item>\n",
              "<description>If you've had a discussion with anyone about the state of the music industry over the past decade, it probably started with a lamentation about the relative collapse of record sales, before ending on the optimistic note of “well, at least live music is going gangbusters”.  While recorded music revenues still linger in both real and nominal terms below 1999's highs, shrinking artists' income from their imprinted art, live music has been a boon for those willing to dare the stage.</description>\n",
              "<guid ispermalink=\"false\">93ba0aed-50ae-36a3-bd23-35a3b02b03ed</guid>\n",
              "<link/>https://finance.yahoo.com/m/93ba0aed-50ae-36a3-bd23-35a3b02b03ed/stadium-shows-in-the-age-of.html?.tsrc=rss\n",
              "            <pubdate>Thu, 02 May 2019 04:00:49 +0000</pubdate>\n",
              "<title>Stadium shows in the age of mechanical reproduction</title>\n",
              "</item>\n",
              "<item>\n",
              "<description>Two weeks ago, investors cheered when Qualcomm Inc. and Apple Inc. settled their mega-patent and royalty feud just as a trial was starting. Those investors were reminded Wednesday that the nice, big settlement isn’t going to change the chip company’s underlying issues with its core business.</description>\n",
              "<guid ispermalink=\"false\">7a21f57f-72d4-35bc-b4ce-bd97cdd9044b</guid>\n",
              "<link/>https://finance.yahoo.com/m/7a21f57f-72d4-35bc-b4ce-bd97cdd9044b/apple-deal-doesn%E2%80%99t-solve.html?.tsrc=rss\n",
              "            <pubdate>Thu, 02 May 2019 00:53:00 +0000</pubdate>\n",
              "<title>Apple deal doesn’t solve Qualcomm’s problems</title>\n",
              "</item>\n",
              "<item>\n",
              "<description>QCOM earnings call for the period ending March 31, 2019.</description>\n",
              "<guid ispermalink=\"false\">306f58d9-ee68-3106-89e1-22b637306285</guid>\n",
              "<link/>https://finance.yahoo.com/news/qualcomm-inc-qcom-q2-2019-004620603.html?.tsrc=rss\n",
              "            <pubdate>Thu, 02 May 2019 00:46:20 +0000</pubdate>\n",
              "<title>Qualcomm Inc (QCOM) Q2 2019 Earnings Call Transcript</title>\n",
              "</item>\n",
              "<item>\n",
              "<description>reported its iPhone revenue fell 17% annually during its March quarter, research firm IDC estimated global smartphone shipments fell 6.6% annually in Q1 to 310.8 million, a bigger decline than the 4.9% drop it estimated for Q4.  Peer Strategy Analytics estimates Q1 shipments fell 4.3% to 330.4 million.  The company now expects total shipments of 3G, 4G and 5G-capable devices (including products other than smartphones) to be in a range of 1.8 billion to 1.9 billion (flat to up 6%) this year, after having previously guided for shipments of 1.85 billion to 1.95 billion.</description>\n",
              "<guid ispermalink=\"false\">eee6686a-eea8-31a7-a307-38ade8ee6c4a</guid>\n",
              "<link/>https://finance.yahoo.com/m/eee6686a-eea8-31a7-a307-38ade8ee6c4a/qualcomm%27s-guidance-and.html?.tsrc=rss\n",
              "            <pubdate>Thu, 02 May 2019 00:02:00 +0000</pubdate>\n",
              "<title>Qualcomm's Guidance and Industry Stats Suggest Smartphone Demand Remains Weak</title>\n",
              "</item>\n",
              "<item>\n",
              "<description>\"With this quarter, we got yet another reason to stick with Apple, and even after today's terrific run, I think it will turn out to be a real bargain because of its embrace of the subscription economy,\" CNBC's Jim Cramer says.  \"When I say this is a paradigm shift, what I mean is that, within two years, this subscriber base will profoundly define the way we judge the stock of Apple,\" he says.  Apple AAPL rallied nearly 5% on Wednesday, but CNBC's Jim Cramer said there could soon be even more upside.</description>\n",
              "<guid ispermalink=\"false\">43f76ec4-6284-30d5-8c4d-6c7820fc896e</guid>\n",
              "<link/>https://finance.yahoo.com/m/43f76ec4-6284-30d5-8c4d-6c7820fc896e/cramer-remix%3A-own-apple%2C.html?.tsrc=rss\n",
              "            <pubdate>Wed, 01 May 2019 23:37:39 +0000</pubdate>\n",
              "<title>Cramer Remix: Own Apple, don't trade it — The stock could have more upside</title>\n",
              "</item>\n",
              "<item>\n",
              "<description>Qualcomm made the disclosure in its earnings report Wednesday, while Apple declined to answer questions about the settlement during its own second-quarter earnings conference call on Tuesday.  The figure was less than the $7 billion Qualcomm claimed Apple owed.  Apple had accused its former chip supplier of using a strong position in cellular modems to force the payment for artificially inflated technology licensing.</description>\n",
              "<guid ispermalink=\"false\">eeb443c2-0f82-3b5d-a39e-5af3cef8f795</guid>\n",
              "<link/>https://finance.yahoo.com/news/qualcomm-sees-4-7-billion-202041200.html?.tsrc=rss\n",
              "            <pubdate>Wed, 01 May 2019 23:33:15 +0000</pubdate>\n",
              "<title>Qualcomm Sees Up to $4.7 Billion Payment From Apple Deal</title>\n",
              "</item>\n",
              "<item>\n",
              "<description>The stock kept most of the 50%-plus gains of the past few weeks, reflecting investor relief that Qualcomm had found a path to resume supplying chips to the iPhone.  Qualcomm will book a one-time payment of $4.5 billion to $4.7 billion in the fiscal third quarter from the settlement, as Apple catches up on royalties that the iPhone maker did not pay while they were locked a legal dispute.  Excluding that payment, Qualcomm estimated $4.7 billion to $5.5 billion in revenue, generally below the $5.29 billion analysts were expecting, according to IBES data from Refinitiv.</description>\n",
              "<guid ispermalink=\"false\">022aaad9-9e5d-37ee-b0e5-61257249d6f3</guid>\n",
              "<link/>https://finance.yahoo.com/news/qualcomm-quarterly-revenue-beats-estimates-201910215.html?.tsrc=rss\n",
              "            <pubdate>Wed, 01 May 2019 23:19:19 +0000</pubdate>\n",
              "<title>Qualcomm hangs on to most Apple gains after earnings report</title>\n",
              "</item>\n",
              "<item>\n",
              "<description>The disappointing outlook overshadowed the benefits of settling a prolonged legal dispute with Apple Inc., sending the shares down in extended trading.  Fiscal third-quarter revenue will be $9.2 billion to $10.2 billion, the San Diego-based company said Wednesday in a statement.  Excluding a one-time payment from Apple, revenue in the current period will be $4.7 billion to $5.5 billion.</description>\n",
              "<guid ispermalink=\"false\">2a4bedc6-0d23-34d3-b55d-e8fd0c7b6b2b</guid>\n",
              "<link/>https://finance.yahoo.com/news/qualcomm-drops-sales-forecast-signals-202355907.html?.tsrc=rss\n",
              "            <pubdate>Wed, 01 May 2019 23:17:24 +0000</pubdate>\n",
              "<title>Qualcomm Drops After Sales Forecast Signals Weak Demand in China</title>\n",
              "</item>\n",
              "<item>\n",
              "<description>Despite the positivity on the back of Services strength, Apple is still an iPhone company and sales of its flagship product look poised to fall again. So, let&amp;#39;s see what might be next for Apple with its stock already up 33% in 2019.</description>\n",
              "<guid ispermalink=\"false\">31c32034-4995-33e5-a0bf-f65674cddcbe</guid>\n",
              "<link/>https://finance.yahoo.com/news/whats-next-apple-aapl-stock-231611377.html?.tsrc=rss\n",
              "            <pubdate>Wed, 01 May 2019 23:16:11 +0000</pubdate>\n",
              "<title>What&amp;#39;s Next for Apple (AAPL) Stock After Earnings as iPhone Sales Fall Again?</title>\n",
              "</item>\n",
              "<item>\n",
              "<description>from being the company always putting brilliant and elegant technology into the hands of hundreds of millions of people on this planet to a company that now gives you a service stream that will soon be worth much more than the technology itself.  Services aren't as breathtaking as product, never will be.</description>\n",
              "<guid ispermalink=\"false\">bc0dad31-24ad-3ea5-a112-968b2de14495</guid>\n",
              "<link/>https://finance.yahoo.com/m/bc0dad31-24ad-3ea5-a112-968b2de14495/jim-cramer%3A-i-keep-saying-it.html?.tsrc=rss\n",
              "            <pubdate>Wed, 01 May 2019 23:01:00 +0000</pubdate>\n",
              "<title>Jim Cramer: I Keep Saying It -- Services Revenue Is the Future for Apple</title>\n",
              "</item>\n",
              "<item>\n",
              "<description>Global equities lost ground on Wednesday, snapping a three-day winning streak after the U.S. Federal Reserve held rates steady as expected but comments from Fed Chairman Jerome Powell cast doubt on whether the central bank's next move would be a rate cut.  The Fed made no move on interest rates as policymakers took heart in continued U.S. job gains and economic growth and held out hope that weak inflation will edge higher.  Stocks initially added to gains, U.S. Treasury yields fell and the dollar stayed weaker after the statement.</description>\n",
              "<guid ispermalink=\"false\">d47f9706-541a-39bd-9cdb-eabcdea7819c</guid>\n",
              "<link/>https://finance.yahoo.com/news/apple-magic-extends-global-equities-092307647.html?.tsrc=rss\n",
              "            <pubdate>Wed, 01 May 2019 22:49:20 +0000</pubdate>\n",
              "<title>Global stocks fall, dollar gains on Powell comments</title>\n",
              "</item>\n",
              "<item>\n",
              "<description>NEW YORK, NY / ACCESSWIRE / May 1, 2019 / The Law Offices of Vincent Wong announce that class actions have commenced on behalf of shareholders of the following companies. If you suffered a loss you have ...</description>\n",
              "<guid ispermalink=\"false\">f59f4168-323f-3ddb-b55d-4466da03d8ee</guid>\n",
              "<link/>https://finance.yahoo.com/news/shareholder-alert-eb-fsnn-aapl-221500097.html?.tsrc=rss\n",
              "            <pubdate>Wed, 01 May 2019 22:15:00 +0000</pubdate>\n",
              "<title>SHAREHOLDER ALERT: EB FSNN AAPL: The Law Offices of Vincent Wong Reminds Investors of Important Class Action Deadlines</title>\n",
              "</item>\n",
              "<item>\n",
              "<description>While the iPhone maker is hovering near re-entry into the 13-digit club, along with Microsoft Corp. and Amazon.com Inc., it falls short because of its hefty buyback program.  Apple had 4.601 billion shares outstanding as of April 22, according to a filing late Wednesday.  Apple reported 4.72 billion shares outstanding in its last quarterly filing.</description>\n",
              "<guid ispermalink=\"false\">e92496d1-2e82-3a8b-904e-7a830d8389ce</guid>\n",
              "<link/>https://finance.yahoo.com/news/apple-apos-1-trillion-valuation-163001166.html?.tsrc=rss\n",
              "            <pubdate>Wed, 01 May 2019 22:08:43 +0000</pubdate>\n",
              "<title>Apple&amp;apos;s $1 Trillion Valuation Is Further Away Than It Looks</title>\n",
              "</item>\n",
              "<item>\n",
              "<description>Apple Inc shares rose nearly 5 percent on Wednesday, pushing the iPhone maker's market valuation back toward $1 trillion as its quarterly report and upbeat forecast soothed investors worried about falling ...</description>\n",
              "<guid ispermalink=\"false\">2a7175d5-7ccc-3abd-bdcb-e2b9997b1ef1</guid>\n",
              "<link/>https://finance.yahoo.com/news/apple-results-beat-sets-eyes-135826334.html?.tsrc=rss\n",
              "            <pubdate>Wed, 01 May 2019 22:05:34 +0000</pubdate>\n",
              "<title>Apple's upbeat forecast pushes market value back toward $1 trillion</title>\n",
              "</item>\n",
              "<item>\n",
              "<description>Qualcomm indicated an expected gain from the IP deal with Apple in its fiscal Q3 of $4.5-4.7 billion, indicated to be a GAAP payment.</description>\n",
              "<guid ispermalink=\"false\">5ce992d7-ed09-307a-84c9-35066ad8ea1f</guid>\n",
              "<link/>https://finance.yahoo.com/news/qualcomm-qcom-beats-traders-sell-215309158.html?.tsrc=rss\n",
              "            <pubdate>Wed, 01 May 2019 21:53:09 +0000</pubdate>\n",
              "<title>Qualcomm (QCOM) Beats, Traders Sell the News</title>\n",
              "</item>\n",
              "<item>\n",
              "<description>Qualcomm (NASDAQ:QCOM) unveiled its quarterly earnings results late today, amassing a profit that surpassed Wall Street&amp;#39;s expectations, while its guidance for the current quarter is expected to receive a considerable boost from the company&amp;#39;s 5G settlement with Apple (NASDAQ:AAPL).The San Diego, Calif.-based business said that for its second quarter of 2019, it amassed net income of $663 million, or 55 cents per share, more than doubling its year-ago profit of $330 million, or 22 cents per share. On an adjusted basis, it earned 77 cents per share, ahead of the 71 cents per share that 20 analysts surveyed by FactSet projected on average.Qualcomm&amp;#39;s sales for the period reached $4.98 billion, marking a 4.6% decline from the $5.22 billion it raked in during the same period in 2018. The Wall Street consensus estimate saw the chipmaker amassing sales of $4.8 billion, per a survey of 17 analysts conducted by FactSet.InvestorPlace - Stock Market News, Stock Advice &amp; Trading TipsFor its third quarter, the company predicts its earnings will be in the range of $3.57 to $3.77 per share, a figure that is positively impacted by the company&amp;#39;s settlement with Apple. The settlement is a result of a 5G chip dispute for future smartphones, which added about $3.02 to $3.12 per share to Qualcomm&amp;#39;s third quarter.The company sees its revenue for the period in the range of $9.2 billion to $10.2 billion per share, with the settlement adding about $4.5 billion to $4.7 billion. On an adjusted basis, the company predicts earnings of 70 cents to 80 cents per share, below the FactSet guidance of $1.29 per share.QCOM stock is sliding roughly 2.9% after the bell Wednesday despite the company&amp;#39;s strong quarterly performance. Shared had increased 0.3% during regular trading hours in anticipation of Qualcomm&amp;#39;s results. More From InvestorPlace  * 7 Stocks to Buy That Ought to Buy Back Shares   * 7 Stocks That Are Soaring This Earnings Season   * 7 A-Rated Stocks That Are Under $10 Compare Brokers The post Qualcomm Earnings: QCOM Stock Slides on Q2 Results, Apple Settlement appeared first on InvestorPlace.</description>\n",
              "<guid ispermalink=\"false\">64b8ef4f-69f8-35e4-b64d-4d7ea5dfa65b</guid>\n",
              "<link/>https://finance.yahoo.com/news/qualcomm-earnings-qcom-stock-slides-212010613.html?.tsrc=rss\n",
              "            <pubdate>Wed, 01 May 2019 21:20:10 +0000</pubdate>\n",
              "<title>Qualcomm Earnings: QCOM Stock Slides on Q2 Results, Apple Settlement</title>\n",
              "</item>\n",
              "<item>\n",
              "<description>Making Sense of Tech Sector Earnings</description>\n",
              "<guid ispermalink=\"false\">e914a277-de1c-399d-9920-cb081a22ffb9</guid>\n",
              "<link/>https://finance.yahoo.com/news/making-sense-tech-sector-earnings-212009697.html?.tsrc=rss\n",
              "            <pubdate>Wed, 01 May 2019 21:20:09 +0000</pubdate>\n",
              "<title>Making Sense of Tech Sector Earnings</title>\n",
              "</item>\n",
              "<item>\n",
              "<description>Faruqi &amp; Faruqi, LLP, a leading national securities law firm, reminds investors in Apple, Inc. (“Apple” or the “Company”) (AAPL) of the June 17, 2019 deadline to seek the role of lead plaintiff in a federal securities class action that has been filed against the Company.  If you invested in Apple stock or options between November 2, 2018 and January 2, 2019 and would like to discuss your legal rights, click here: www.faruqilaw.com/AAPL.  There is no cost or obligation to you.</description>\n",
              "<guid ispermalink=\"false\">d0fa7340-26df-323c-a4c9-455dea8bb6fc</guid>\n",
              "<link/>https://finance.yahoo.com/news/lead-plaintiff-deadline-alert-faruqi-211900562.html?.tsrc=rss\n",
              "            <pubdate>Wed, 01 May 2019 21:19:00 +0000</pubdate>\n",
              "<title>LEAD PLAINTIFF DEADLINE ALERT: Faruqi &amp; Faruqi, LLP Encourages Investors Who Suffered Losses Exceeding $500,000 In Apple, Inc. To Contact The Firm</title>\n",
              "</item>\n",
              "<language>en-US</language>\n",
              "<lastbuilddate>Thu, 02 May 2019 07:52:48 +0000</lastbuilddate>\n",
              "<link/>http://finance.yahoo.com/q/h?s=AAPL\n",
              "        <title>Yahoo! Finance: AAPL News</title>\n",
              "</channel>\n",
              "</rss>\n",
              "</body></html>"
            ]
          },
          "metadata": {
            "tags": []
          },
          "execution_count": 11
        }
      ]
    },
    {
      "metadata": {
        "id": "guC7RGUYk0jR",
        "colab_type": "code",
        "colab": {
          "base_uri": "https://localhost:8080/",
          "height": 360
        },
        "outputId": "859d6ee6-4e0f-43b8-e632-d64c3ebc424d"
      },
      "cell_type": "code",
      "source": [
        "news = soup.find_all('description')\n",
        "text=[]\n",
        "\n",
        "for new in news:\n",
        "  text.append(new.text)\n",
        "  \n",
        "\n",
        "text\n",
        "\n"
      ],
      "execution_count": 16,
      "outputs": [
        {
          "output_type": "execute_result",
          "data": {
            "text/plain": [
              "['Latest Financial News for AAPL',\n",
              " \"If you've had a discussion with anyone about the state of the music industry over the past decade, it probably started with a lamentation about the relative collapse of record sales, before ending on the optimistic note of “well, at least live music is going gangbusters”.  While recorded music revenues still linger in both real and nominal terms below 1999's highs, shrinking artists' income from their imprinted art, live music has been a boon for those willing to dare the stage.\",\n",
              " 'Two weeks ago, investors cheered when Qualcomm Inc. and Apple Inc. settled their mega-patent and royalty feud just as a trial was starting. Those investors were reminded Wednesday that the nice, big settlement isn’t going to change the chip company’s underlying issues with its core business.',\n",
              " 'QCOM earnings call for the period ending March 31, 2019.',\n",
              " 'reported its iPhone revenue fell 17% annually during its March quarter, research firm IDC estimated global smartphone shipments fell 6.6% annually in Q1 to 310.8 million, a bigger decline than the 4.9% drop it estimated for Q4.  Peer Strategy Analytics estimates Q1 shipments fell 4.3% to 330.4 million.  The company now expects total shipments of 3G, 4G and 5G-capable devices (including products other than smartphones) to be in a range of 1.8 billion to 1.9 billion (flat to up 6%) this year, after having previously guided for shipments of 1.85 billion to 1.95 billion.',\n",
              " '\"With this quarter, we got yet another reason to stick with Apple, and even after today\\'s terrific run, I think it will turn out to be a real bargain because of its embrace of the subscription economy,\" CNBC\\'s Jim Cramer says.  \"When I say this is a paradigm shift, what I mean is that, within two years, this subscriber base will profoundly define the way we judge the stock of Apple,\" he says.  Apple AAPL rallied nearly 5% on Wednesday, but CNBC\\'s Jim Cramer said there could soon be even more upside.',\n",
              " 'Qualcomm made the disclosure in its earnings report Wednesday, while Apple declined to answer questions about the settlement during its own second-quarter earnings conference call on Tuesday.  The figure was less than the $7 billion Qualcomm claimed Apple owed.  Apple had accused its former chip supplier of using a strong position in cellular modems to force the payment for artificially inflated technology licensing.',\n",
              " 'The stock kept most of the 50%-plus gains of the past few weeks, reflecting investor relief that Qualcomm had found a path to resume supplying chips to the iPhone.  Qualcomm will book a one-time payment of $4.5 billion to $4.7 billion in the fiscal third quarter from the settlement, as Apple catches up on royalties that the iPhone maker did not pay while they were locked a legal dispute.  Excluding that payment, Qualcomm estimated $4.7 billion to $5.5 billion in revenue, generally below the $5.29 billion analysts were expecting, according to IBES data from Refinitiv.',\n",
              " 'The disappointing outlook overshadowed the benefits of settling a prolonged legal dispute with Apple Inc., sending the shares down in extended trading.  Fiscal third-quarter revenue will be $9.2 billion to $10.2 billion, the San Diego-based company said Wednesday in a statement.  Excluding a one-time payment from Apple, revenue in the current period will be $4.7 billion to $5.5 billion.',\n",
              " 'Despite the positivity on the back of Services strength, Apple is still an iPhone company and sales of its flagship product look poised to fall again. So, let&#39;s see what might be next for Apple with its stock already up 33% in 2019.',\n",
              " \"from being the company always putting brilliant and elegant technology into the hands of hundreds of millions of people on this planet to a company that now gives you a service stream that will soon be worth much more than the technology itself.  Services aren't as breathtaking as product, never will be.\",\n",
              " \"Global equities lost ground on Wednesday, snapping a three-day winning streak after the U.S. Federal Reserve held rates steady as expected but comments from Fed Chairman Jerome Powell cast doubt on whether the central bank's next move would be a rate cut.  The Fed made no move on interest rates as policymakers took heart in continued U.S. job gains and economic growth and held out hope that weak inflation will edge higher.  Stocks initially added to gains, U.S. Treasury yields fell and the dollar stayed weaker after the statement.\",\n",
              " 'NEW YORK, NY / ACCESSWIRE / May 1, 2019 / The Law Offices of Vincent Wong announce that class actions have commenced on behalf of shareholders of the following companies. If you suffered a loss you have ...',\n",
              " 'While the iPhone maker is hovering near re-entry into the 13-digit club, along with Microsoft Corp. and Amazon.com Inc., it falls short because of its hefty buyback program.  Apple had 4.601 billion shares outstanding as of April 22, according to a filing late Wednesday.  Apple reported 4.72 billion shares outstanding in its last quarterly filing.',\n",
              " \"Apple Inc shares rose nearly 5 percent on Wednesday, pushing the iPhone maker's market valuation back toward $1 trillion as its quarterly report and upbeat forecast soothed investors worried about falling ...\",\n",
              " 'Qualcomm indicated an expected gain from the IP deal with Apple in its fiscal Q3 of $4.5-4.7 billion, indicated to be a GAAP payment.',\n",
              " 'Qualcomm (NASDAQ:QCOM) unveiled its quarterly earnings results late today, amassing a profit that surpassed Wall Street&#39;s expectations, while its guidance for the current quarter is expected to receive a considerable boost from the company&#39;s 5G settlement with Apple (NASDAQ:AAPL).The San Diego, Calif.-based business said that for its second quarter of 2019, it amassed net income of $663 million, or 55 cents per share, more than doubling its year-ago profit of $330 million, or 22 cents per share. On an adjusted basis, it earned 77 cents per share, ahead of the 71 cents per share that 20 analysts surveyed by FactSet projected on average.Qualcomm&#39;s sales for the period reached $4.98 billion, marking a 4.6% decline from the $5.22 billion it raked in during the same period in 2018. The Wall Street consensus estimate saw the chipmaker amassing sales of $4.8 billion, per a survey of 17 analysts conducted by FactSet.InvestorPlace - Stock Market News, Stock Advice & Trading TipsFor its third quarter, the company predicts its earnings will be in the range of $3.57 to $3.77 per share, a figure that is positively impacted by the company&#39;s settlement with Apple. The settlement is a result of a 5G chip dispute for future smartphones, which added about $3.02 to $3.12 per share to Qualcomm&#39;s third quarter.The company sees its revenue for the period in the range of $9.2 billion to $10.2 billion per share, with the settlement adding about $4.5 billion to $4.7 billion. On an adjusted basis, the company predicts earnings of 70 cents to 80 cents per share, below the FactSet guidance of $1.29 per share.QCOM stock is sliding roughly 2.9% after the bell Wednesday despite the company&#39;s strong quarterly performance. Shared had increased 0.3% during regular trading hours in anticipation of Qualcomm&#39;s results. More From InvestorPlace  * 7 Stocks to Buy That Ought to Buy Back Shares   * 7 Stocks That Are Soaring This Earnings Season   * 7 A-Rated Stocks That Are Under $10 Compare Brokers The post Qualcomm Earnings: QCOM Stock Slides on Q2 Results, Apple Settlement appeared first on InvestorPlace.',\n",
              " 'Making Sense of Tech Sector Earnings',\n",
              " 'Faruqi & Faruqi, LLP, a leading national securities law firm, reminds investors in Apple, Inc. (“Apple” or the “Company”) (AAPL) of the June 17, 2019 deadline to seek the role of lead plaintiff in a federal securities class action that has been filed against the Company.  If you invested in Apple stock or options between November 2, 2018 and January 2, 2019 and would like to discuss your legal rights, click here:\\xa0www.faruqilaw.com/AAPL.\\xa0 There is no cost or obligation to you.']"
            ]
          },
          "metadata": {
            "tags": []
          },
          "execution_count": 16
        }
      ]
    },
    {
      "metadata": {
        "id": "ykVqey4OrzD6",
        "colab_type": "code",
        "colab": {}
      },
      "cell_type": "code",
      "source": [
        "X_train = pd.DataFrame(text)"
      ],
      "execution_count": 0,
      "outputs": []
    },
    {
      "metadata": {
        "id": "xBdLMKqAr42-",
        "colab_type": "code",
        "colab": {}
      },
      "cell_type": "code",
      "source": [
        "X_train = X_train.rename(columns={0:\"new\"})"
      ],
      "execution_count": 0,
      "outputs": []
    },
    {
      "metadata": {
        "id": "1cFduhJEvgw0",
        "colab_type": "code",
        "colab": {
          "base_uri": "https://localhost:8080/",
          "height": 68
        },
        "outputId": "a03aad13-d17a-45e4-b158-11ce2fefaf9c"
      },
      "cell_type": "code",
      "source": [
        "nltk.download('punkt')"
      ],
      "execution_count": 28,
      "outputs": [
        {
          "output_type": "stream",
          "text": [
            "[nltk_data] Downloading package punkt to /root/nltk_data...\n",
            "[nltk_data]   Unzipping tokenizers/punkt.zip.\n"
          ],
          "name": "stdout"
        },
        {
          "output_type": "execute_result",
          "data": {
            "text/plain": [
              "True"
            ]
          },
          "metadata": {
            "tags": []
          },
          "execution_count": 28
        }
      ]
    },
    {
      "metadata": {
        "id": "KWsv7iPSsK3U",
        "colab_type": "code",
        "colab": {}
      },
      "cell_type": "code",
      "source": [
        "from nltk.tokenize import word_tokenize\n",
        "token=[]\n",
        "for new in X_train['new']:\n",
        "  temp = word_tokenize(new)\n",
        "  token.append(temp)\n",
        "  \n",
        "token"
      ],
      "execution_count": 0,
      "outputs": []
    },
    {
      "metadata": {
        "id": "it_5gsHev4Ju",
        "colab_type": "code",
        "colab": {
          "base_uri": "https://localhost:8080/",
          "height": 68
        },
        "outputId": "26db8d90-4241-4cad-e582-faad94a0f729"
      },
      "cell_type": "code",
      "source": [
        "nltk.download('stopwords')"
      ],
      "execution_count": 31,
      "outputs": [
        {
          "output_type": "stream",
          "text": [
            "[nltk_data] Downloading package stopwords to /root/nltk_data...\n",
            "[nltk_data]   Unzipping corpora/stopwords.zip.\n"
          ],
          "name": "stdout"
        },
        {
          "output_type": "execute_result",
          "data": {
            "text/plain": [
              "True"
            ]
          },
          "metadata": {
            "tags": []
          },
          "execution_count": 31
        }
      ]
    },
    {
      "metadata": {
        "id": "MH615DUzv0Sv",
        "colab_type": "code",
        "colab": {
          "base_uri": "https://localhost:8080/",
          "height": 54
        },
        "outputId": "55741813-e20b-47d8-ffc9-6a165c1b5b49"
      },
      "cell_type": "code",
      "source": [
        "from nltk.corpus import stopwords\n",
        "stop_words=set(stopwords.words(\"english\"))\n",
        "print(stop_words)"
      ],
      "execution_count": 32,
      "outputs": [
        {
          "output_type": "stream",
          "text": [
            "{'m', 'wouldn', \"weren't\", 'such', 'on', 'wasn', 'does', 'me', 'through', 'more', 'most', 'did', 'about', 'you', 'do', 'off', 'were', 'by', \"haven't\", 'she', 'both', 'with', 'ours', 'not', 'their', 'few', 'than', 'won', 'o', 'an', 'that', 'any', 'her', 'it', 't', 'his', 'its', 'was', 'the', 'when', 'where', 'needn', 'ma', 'and', 'himself', 'how', 'doesn', 'be', \"shouldn't\", 'him', 'at', 'during', 've', 'for', 'yourselves', 'why', \"it's\", 'all', 'ain', \"aren't\", 'itself', 'then', 'out', 'further', 'again', 'if', 'because', 'yours', 'as', 'only', 'my', 'herself', 'themselves', 'hadn', 'have', 'having', 'i', 'while', 'some', 'our', 'what', \"you'd\", \"that'll\", \"she's\", 'been', 'mustn', 'to', 'are', 'until', 'a', 'can', 'aren', 'he', 'your', 'd', 'hasn', 'in', 're', 'had', 'll', \"hadn't\", 'theirs', \"should've\", 'between', 'them', 'but', 'here', 'down', 'above', 'doing', 'too', \"couldn't\", 'into', 'don', \"hasn't\", \"mustn't\", 'this', 'once', 'haven', 'mightn', 'they', 'just', \"won't\", 'over', 'no', 'couldn', 'we', 'from', 'will', 'own', 'very', 'yourself', 'whom', 'against', 'so', 'isn', 'should', \"mightn't\", \"shan't\", 's', 'same', \"isn't\", \"doesn't\", 'there', 'after', 'hers', \"don't\", \"you're\", 'these', \"wouldn't\", 'am', 'which', 'didn', 'or', 'each', \"wasn't\", 'up', 'below', 'myself', 'who', 'has', 'nor', \"needn't\", 'being', \"didn't\", 'before', 'under', 'ourselves', 'shouldn', 'weren', 'other', 'now', \"you'll\", 'of', 'y', 'those', 'shan', 'is', \"you've\"}\n"
          ],
          "name": "stdout"
        }
      ]
    },
    {
      "metadata": {
        "id": "QZsHOiQpw56m",
        "colab_type": "code",
        "colab": {}
      },
      "cell_type": "code",
      "source": [
        ""
      ],
      "execution_count": 0,
      "outputs": []
    }
  ]
}