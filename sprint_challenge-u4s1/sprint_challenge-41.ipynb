{
 "cells": [
  {
   "cell_type": "markdown",
   "metadata": {},
   "source": [
    "<img align=\"left\" src=\"https://lever-client-logos.s3.amazonaws.com/864372b1-534c-480e-acd5-9711f850815c-1524247202159.png\" width=200>\n",
    "<br></br>\n",
    "<br></br>\n",
    "\n",
    "# Sprint Challenge\n",
    "## *Data Science Unit 4 Sprint 1*\n",
    "\n",
    "After a week of Natural Language Processing, you've learned some cool new stuff: how to process text, how turn text into vectors, and how to model topics from documents. Apply your newly acquired skills to one of the most famous NLP datasets out there: [Yelp](https://www.yelp.com/dataset/challenge). As part of the job selection process, some of my friends have been asked to create analysis of this dataset, so I want to empower you to have a head start.  \n",
    "\n",
    "The real dataset is massive (almost 8 gigs uncompressed). I've sampled the data for you to something more managable for the Sprint Challenge. You can analyze the full dataset as a stretch goal or after the sprint challenge. As you work on the challenge, I suggest adding notes about your findings and things you want to analyze in the future.\n",
    "\n",
    "## Challenge Objectives\n",
    "*Successfully complete these all these objectives to earn a 2. There are more details on each objective further down in the notebook.*\n",
    "* <a href=\"#p1\">Part 1</a>: Write a function to tokenize the yelp reviews\n",
    "* <a href=\"#p2\">Part 2</a>: Create a vector representation of those tokens\n",
    "* <a href=\"#p3\">Part 3</a>: Use your tokens in a classification model on yelp rating\n",
    "* <a href=\"#p4\">Part 4</a>: Estimate & Interpret a topic model of the Yelp reviews"
   ]
  },
  {
   "cell_type": "code",
   "execution_count": 1,
   "metadata": {},
   "outputs": [],
   "source": [
    "import pandas as pd\n",
    "\n",
    "yelp = pd.read_json('./data/review_sample.json', lines=True)"
   ]
  },
  {
   "cell_type": "code",
   "execution_count": 2,
   "metadata": {},
   "outputs": [
    {
     "data": {
      "text/html": [
       "<div>\n",
       "<style scoped>\n",
       "    .dataframe tbody tr th:only-of-type {\n",
       "        vertical-align: middle;\n",
       "    }\n",
       "\n",
       "    .dataframe tbody tr th {\n",
       "        vertical-align: top;\n",
       "    }\n",
       "\n",
       "    .dataframe thead th {\n",
       "        text-align: right;\n",
       "    }\n",
       "</style>\n",
       "<table border=\"1\" class=\"dataframe\">\n",
       "  <thead>\n",
       "    <tr style=\"text-align: right;\">\n",
       "      <th></th>\n",
       "      <th>business_id</th>\n",
       "      <th>cool</th>\n",
       "      <th>date</th>\n",
       "      <th>funny</th>\n",
       "      <th>review_id</th>\n",
       "      <th>stars</th>\n",
       "      <th>text</th>\n",
       "      <th>useful</th>\n",
       "      <th>user_id</th>\n",
       "    </tr>\n",
       "  </thead>\n",
       "  <tbody>\n",
       "    <tr>\n",
       "      <th>0</th>\n",
       "      <td>nDuEqIyRc8YKS1q1fX0CZg</td>\n",
       "      <td>1</td>\n",
       "      <td>2015-03-31 16:50:30</td>\n",
       "      <td>0</td>\n",
       "      <td>eZs2tpEJtXPwawvHnHZIgQ</td>\n",
       "      <td>1</td>\n",
       "      <td>BEWARE!!! FAKE, FAKE, FAKE....We also own a sm...</td>\n",
       "      <td>10</td>\n",
       "      <td>n1LM36qNg4rqGXIcvVXv8w</td>\n",
       "    </tr>\n",
       "    <tr>\n",
       "      <th>1</th>\n",
       "      <td>eMYeEapscbKNqUDCx705hg</td>\n",
       "      <td>0</td>\n",
       "      <td>2015-12-16 05:31:03</td>\n",
       "      <td>0</td>\n",
       "      <td>DoQDWJsNbU0KL1O29l_Xug</td>\n",
       "      <td>4</td>\n",
       "      <td>Came here for lunch Togo. Service was quick. S...</td>\n",
       "      <td>0</td>\n",
       "      <td>5CgjjDAic2-FAvCtiHpytA</td>\n",
       "    </tr>\n",
       "    <tr>\n",
       "      <th>2</th>\n",
       "      <td>6Q7-wkCPc1KF75jZLOTcMw</td>\n",
       "      <td>1</td>\n",
       "      <td>2010-06-20 19:14:48</td>\n",
       "      <td>1</td>\n",
       "      <td>DDOdGU7zh56yQHmUnL1idQ</td>\n",
       "      <td>3</td>\n",
       "      <td>I've been to Vegas dozens of times and had nev...</td>\n",
       "      <td>2</td>\n",
       "      <td>BdV-cf3LScmb8kZ7iiBcMA</td>\n",
       "    </tr>\n",
       "    <tr>\n",
       "      <th>3</th>\n",
       "      <td>k3zrItO4l9hwfLRwHBDc9w</td>\n",
       "      <td>3</td>\n",
       "      <td>2010-07-13 00:33:45</td>\n",
       "      <td>4</td>\n",
       "      <td>LfTMUWnfGFMOfOIyJcwLVA</td>\n",
       "      <td>1</td>\n",
       "      <td>We went here on a night where they closed off ...</td>\n",
       "      <td>5</td>\n",
       "      <td>cZZnBqh4gAEy4CdNvJailQ</td>\n",
       "    </tr>\n",
       "    <tr>\n",
       "      <th>4</th>\n",
       "      <td>6hpfRwGlOzbNv7k5eP9rsQ</td>\n",
       "      <td>1</td>\n",
       "      <td>2018-06-30 02:30:01</td>\n",
       "      <td>0</td>\n",
       "      <td>zJSUdI7bJ8PNJAg4lnl_Gg</td>\n",
       "      <td>4</td>\n",
       "      <td>3.5 to 4 stars\\n\\nNot bad for the price, $12.9...</td>\n",
       "      <td>5</td>\n",
       "      <td>n9QO4ClYAS7h9fpQwa5bhA</td>\n",
       "    </tr>\n",
       "  </tbody>\n",
       "</table>\n",
       "</div>"
      ],
      "text/plain": [
       "              business_id  cool                date  funny  \\\n",
       "0  nDuEqIyRc8YKS1q1fX0CZg     1 2015-03-31 16:50:30      0   \n",
       "1  eMYeEapscbKNqUDCx705hg     0 2015-12-16 05:31:03      0   \n",
       "2  6Q7-wkCPc1KF75jZLOTcMw     1 2010-06-20 19:14:48      1   \n",
       "3  k3zrItO4l9hwfLRwHBDc9w     3 2010-07-13 00:33:45      4   \n",
       "4  6hpfRwGlOzbNv7k5eP9rsQ     1 2018-06-30 02:30:01      0   \n",
       "\n",
       "                review_id  stars  \\\n",
       "0  eZs2tpEJtXPwawvHnHZIgQ      1   \n",
       "1  DoQDWJsNbU0KL1O29l_Xug      4   \n",
       "2  DDOdGU7zh56yQHmUnL1idQ      3   \n",
       "3  LfTMUWnfGFMOfOIyJcwLVA      1   \n",
       "4  zJSUdI7bJ8PNJAg4lnl_Gg      4   \n",
       "\n",
       "                                                text  useful  \\\n",
       "0  BEWARE!!! FAKE, FAKE, FAKE....We also own a sm...      10   \n",
       "1  Came here for lunch Togo. Service was quick. S...       0   \n",
       "2  I've been to Vegas dozens of times and had nev...       2   \n",
       "3  We went here on a night where they closed off ...       5   \n",
       "4  3.5 to 4 stars\\n\\nNot bad for the price, $12.9...       5   \n",
       "\n",
       "                  user_id  \n",
       "0  n1LM36qNg4rqGXIcvVXv8w  \n",
       "1  5CgjjDAic2-FAvCtiHpytA  \n",
       "2  BdV-cf3LScmb8kZ7iiBcMA  \n",
       "3  cZZnBqh4gAEy4CdNvJailQ  \n",
       "4  n9QO4ClYAS7h9fpQwa5bhA  "
      ]
     },
     "execution_count": 2,
     "metadata": {},
     "output_type": "execute_result"
    }
   ],
   "source": [
    "yelp.head()"
   ]
  },
  {
   "cell_type": "code",
   "execution_count": 3,
   "metadata": {},
   "outputs": [
    {
     "data": {
      "text/plain": [
       "(10000, 9)"
      ]
     },
     "execution_count": 3,
     "metadata": {},
     "output_type": "execute_result"
    }
   ],
   "source": [
    "yelp.shape"
   ]
  },
  {
   "cell_type": "code",
   "execution_count": 4,
   "metadata": {},
   "outputs": [],
   "source": [
    "import spacy\n",
    "nlp = spacy.load(\"en_core_web_lg\")"
   ]
  },
  {
   "cell_type": "markdown",
   "metadata": {},
   "source": [
    "## Part 1: Tokenize Function\n",
    "<a id=\"#p1\"></a>\n",
    "\n",
    "Complete the function `tokenize`. Your function should\n",
    "- accept one document at a time\n",
    "- return a list of tokens\n",
    "\n",
    "You are free to use any method you have learned this week."
   ]
  },
  {
   "cell_type": "code",
   "execution_count": 198,
   "metadata": {},
   "outputs": [
    {
     "name": "stderr",
     "output_type": "stream",
     "text": [
      "/Users/shahnam/opt/anaconda3/envs/U4-S1-NLP/lib/python3.7/site-packages/ipykernel/ipkernel.py:287: DeprecationWarning: `should_run_async` will not call `transform_cell` automatically in the future. Please pass the result to `transformed_cell` argument and any exception that happen during thetransform in `preprocessing_exc_tuple` in IPython 7.17 and above.\n",
      "  and should_run_async(code)\n"
     ]
    },
    {
     "data": {
      "text/plain": [
       "0    beware fake fake fakewe also own a small busin...\n",
       "1    came here for lunch togo service was quick sta...\n",
       "2    ive been to vegas dozens of times and had neve...\n",
       "3    we went here on a night where they closed off ...\n",
       "4     to  starsnot bad for the price  for lunch sen...\n",
       "Name: clean_text, dtype: object"
      ]
     },
     "execution_count": 198,
     "metadata": {},
     "output_type": "execute_result"
    }
   ],
   "source": [
    "import re\n",
    "def cleanup(text):\n",
    "    return re.sub('[^a-zA-Z ]', '', text).lower()\n",
    "\n",
    "yelp['clean_text'] = yelp['text'].apply(cleanup)\n",
    "yelp['clean_text'].head()"
   ]
  },
  {
   "cell_type": "code",
   "execution_count": 199,
   "metadata": {},
   "outputs": [
    {
     "name": "stderr",
     "output_type": "stream",
     "text": [
      "/Users/shahnam/opt/anaconda3/envs/U4-S1-NLP/lib/python3.7/site-packages/ipykernel/ipkernel.py:287: DeprecationWarning: `should_run_async` will not call `transform_cell` automatically in the future. Please pass the result to `transformed_cell` argument and any exception that happen during thetransform in `preprocessing_exc_tuple` in IPython 7.17 and above.\n",
      "  and should_run_async(code)\n"
     ]
    }
   ],
   "source": [
    "stop_words = ['yelp','review', 'not', 'go', 'get', 'come', 'good', 'try', 'like']\n",
    "stops = nlp.Defaults.stop_words.union(stop_words)"
   ]
  },
  {
   "cell_type": "code",
   "execution_count": 209,
   "metadata": {},
   "outputs": [
    {
     "name": "stderr",
     "output_type": "stream",
     "text": [
      "/Users/shahnam/opt/anaconda3/envs/U4-S1-NLP/lib/python3.7/site-packages/ipykernel/ipkernel.py:287: DeprecationWarning: `should_run_async` will not call `transform_cell` automatically in the future. Please pass the result to `transformed_cell` argument and any exception that happen during thetransform in `preprocessing_exc_tuple` in IPython 7.17 and above.\n",
      "  and should_run_async(code)\n"
     ]
    },
    {
     "data": {
      "text/plain": [
       "'this show is absolutely amazing what an incredible production and perfection in musicianship  i was transported back to the s and rode the wave through the s and s  this is a must see for us baby boomers  i was up singing and dancing for the whole show  i could have stayed another hour  fabulous in every way  airy comfortable theatre great sound and lighting  the jumbotron visuals were not only nostalgic they were funny and exciting to watch  did we really dress and wear our hair that way the commentary was amusing emotional and interesting where it could have been cheesy  everything about this fabulous show is perfection  dont miss it this show is going to be the talk of las vegas  it has only recently opened but it is likely to go on for a long long time  thanks for a terrific fun evening guys it made my weekend'"
      ]
     },
     "execution_count": 209,
     "metadata": {},
     "output_type": "execute_result"
    }
   ],
   "source": [
    "yelp['clean_text'][6]"
   ]
  },
  {
   "cell_type": "code",
   "execution_count": 230,
   "metadata": {},
   "outputs": [
    {
     "name": "stderr",
     "output_type": "stream",
     "text": [
      "/Users/shahnam/opt/anaconda3/envs/U4-S1-NLP/lib/python3.7/site-packages/ipykernel/ipkernel.py:287: DeprecationWarning: `should_run_async` will not call `transform_cell` automatically in the future. Please pass the result to `transformed_cell` argument and any exception that happen during thetransform in `preprocessing_exc_tuple` in IPython 7.17 and above.\n",
      "  and should_run_async(code)\n"
     ]
    }
   ],
   "source": [
    "def tokenize(doc):\n",
    "    \n",
    "    mydoc = nlp(doc)\n",
    "    lemmaed =[]\n",
    "    for token in mydoc:\n",
    "        if (token.is_stop != True) and (token.is_punct != True) and (token.pos_ != 'PRON'):\n",
    "            keyword = token.lemma_.strip()\n",
    "            if keyword in stops:\n",
    "                pass\n",
    "            # to exclude blanks\n",
    "            elif len(keyword) > 2: \n",
    "                lemmaed.append(keyword)\n",
    "    return lemmaed"
   ]
  },
  {
   "cell_type": "code",
   "execution_count": 226,
   "metadata": {},
   "outputs": [
    {
     "name": "stderr",
     "output_type": "stream",
     "text": [
      "/Users/shahnam/opt/anaconda3/envs/U4-S1-NLP/lib/python3.7/site-packages/ipykernel/ipkernel.py:287: DeprecationWarning: `should_run_async` will not call `transform_cell` automatically in the future. Please pass the result to `transformed_cell` argument and any exception that happen during thetransform in `preprocessing_exc_tuple` in IPython 7.17 and above.\n",
      "  and should_run_async(code)\n"
     ]
    }
   ],
   "source": [
    "# dir(token)"
   ]
  },
  {
   "cell_type": "code",
   "execution_count": 229,
   "metadata": {},
   "outputs": [
    {
     "name": "stdout",
     "output_type": "stream",
     "text": [
      "lemma is absolutely, strip is:absolutely<\n",
      "lemma is amazing, strip is:amazing<\n",
      "lemma is incredible, strip is:incredible<\n",
      "lemma is production, strip is:production<\n",
      "lemma is perfection, strip is:perfection<\n",
      "lemma is musicianship, strip is:musicianship<\n",
      "lemma is transport, strip is:transport<\n",
      "lemma is ride, strip is:ride<\n",
      "lemma is wave, strip is:wave<\n",
      "lemma is baby, strip is:baby<\n",
      "lemma is boomer, strip is:boomer<\n",
      "lemma is singe, strip is:singe<\n",
      "lemma is dance, strip is:dance<\n",
      "lemma is stay, strip is:stay<\n",
      "lemma is hour, strip is:hour<\n",
      "lemma is fabulous, strip is:fabulous<\n",
      "lemma is way, strip is:way<\n",
      "lemma is airy, strip is:airy<\n",
      "lemma is comfortable, strip is:comfortable<\n",
      "lemma is theatre, strip is:theatre<\n",
      "lemma is great, strip is:great<\n",
      "lemma is sound, strip is:sound<\n",
      "lemma is lighting, strip is:lighting<\n",
      "lemma is jumbotron, strip is:jumbotron<\n",
      "lemma is visual, strip is:visual<\n",
      "lemma is nostalgic, strip is:nostalgic<\n",
      "lemma is funny, strip is:funny<\n",
      "lemma is exciting, strip is:exciting<\n",
      "lemma is watch, strip is:watch<\n",
      "lemma is dress, strip is:dress<\n",
      "lemma is wear, strip is:wear<\n",
      "lemma is hair, strip is:hair<\n",
      "lemma is way, strip is:way<\n",
      "lemma is commentary, strip is:commentary<\n",
      "lemma is amusing, strip is:amusing<\n",
      "lemma is emotional, strip is:emotional<\n",
      "lemma is interesting, strip is:interesting<\n",
      "lemma is cheesy, strip is:cheesy<\n",
      "lemma is fabulous, strip is:fabulous<\n",
      "lemma is perfection, strip is:perfection<\n",
      "lemma is miss, strip is:miss<\n",
      "lemma is talk, strip is:talk<\n",
      "lemma is las, strip is:las<\n",
      "lemma is vegas, strip is:vegas<\n",
      "lemma is recently, strip is:recently<\n",
      "lemma is open, strip is:open<\n",
      "lemma is likely, strip is:likely<\n",
      "lemma is long, strip is:long<\n",
      "lemma is long, strip is:long<\n",
      "lemma is time, strip is:time<\n",
      "lemma is thank, strip is:thank<\n",
      "lemma is terrific, strip is:terrific<\n",
      "lemma is fun, strip is:fun<\n",
      "lemma is evening, strip is:evening<\n",
      "lemma is guy, strip is:guy<\n",
      "lemma is weekend, strip is:weekend<\n"
     ]
    },
    {
     "name": "stderr",
     "output_type": "stream",
     "text": [
      "/Users/shahnam/opt/anaconda3/envs/U4-S1-NLP/lib/python3.7/site-packages/ipykernel/ipkernel.py:287: DeprecationWarning: `should_run_async` will not call `transform_cell` automatically in the future. Please pass the result to `transformed_cell` argument and any exception that happen during thetransform in `preprocessing_exc_tuple` in IPython 7.17 and above.\n",
      "  and should_run_async(code)\n"
     ]
    }
   ],
   "source": [
    "for token in nlp(yelp['clean_text'][6]):\n",
    "    if (token.is_stop != True) and (token.is_punct != True) and (token.pos_ != 'PRON'):\n",
    "        keyword = token.lemma_.strip()\n",
    "        if keyword in stops:\n",
    "            pass\n",
    "        # to exclude blanks\n",
    "        elif len(keyword) > 2: \n",
    "            print(f\"lemma is {token.lemma_}, strip is:{token.lemma_.strip()}<\")"
   ]
  },
  {
   "cell_type": "code",
   "execution_count": 232,
   "metadata": {},
   "outputs": [
    {
     "name": "stderr",
     "output_type": "stream",
     "text": [
      "/Users/shahnam/opt/anaconda3/envs/U4-S1-NLP/lib/python3.7/site-packages/ipykernel/ipkernel.py:287: DeprecationWarning: `should_run_async` will not call `transform_cell` automatically in the future. Please pass the result to `transformed_cell` argument and any exception that happen during thetransform in `preprocessing_exc_tuple` in IPython 7.17 and above.\n",
      "  and should_run_async(code)\n"
     ]
    },
    {
     "data": {
      "text/plain": [
       "['absolutely',\n",
       " 'amazing',\n",
       " 'incredible',\n",
       " 'production',\n",
       " 'perfection',\n",
       " 'musicianship',\n",
       " 'transport',\n",
       " 'ride',\n",
       " 'wave',\n",
       " 'baby',\n",
       " 'boomer',\n",
       " 'singe',\n",
       " 'dance',\n",
       " 'stay',\n",
       " 'hour',\n",
       " 'fabulous',\n",
       " 'way',\n",
       " 'airy',\n",
       " 'comfortable',\n",
       " 'theatre',\n",
       " 'great',\n",
       " 'sound',\n",
       " 'lighting',\n",
       " 'jumbotron',\n",
       " 'visual',\n",
       " 'nostalgic',\n",
       " 'funny',\n",
       " 'exciting',\n",
       " 'watch',\n",
       " 'dress',\n",
       " 'wear',\n",
       " 'hair',\n",
       " 'way',\n",
       " 'commentary',\n",
       " 'amusing',\n",
       " 'emotional',\n",
       " 'interesting',\n",
       " 'cheesy',\n",
       " 'fabulous',\n",
       " 'perfection',\n",
       " 'miss',\n",
       " 'talk',\n",
       " 'las',\n",
       " 'vegas',\n",
       " 'recently',\n",
       " 'open',\n",
       " 'likely',\n",
       " 'long',\n",
       " 'long',\n",
       " 'time',\n",
       " 'thank',\n",
       " 'terrific',\n",
       " 'fun',\n",
       " 'evening',\n",
       " 'guy',\n",
       " 'weekend']"
      ]
     },
     "execution_count": 232,
     "metadata": {},
     "output_type": "execute_result"
    }
   ],
   "source": [
    "tokenize(yelp['clean_text'][6])"
   ]
  },
  {
   "cell_type": "code",
   "execution_count": 231,
   "metadata": {},
   "outputs": [
    {
     "name": "stderr",
     "output_type": "stream",
     "text": [
      "/Users/shahnam/opt/anaconda3/envs/U4-S1-NLP/lib/python3.7/site-packages/ipykernel/ipkernel.py:287: DeprecationWarning: `should_run_async` will not call `transform_cell` automatically in the future. Please pass the result to `transformed_cell` argument and any exception that happen during thetransform in `preprocessing_exc_tuple` in IPython 7.17 and above.\n",
      "  and should_run_async(code)\n"
     ]
    },
    {
     "data": {
      "text/plain": [
       "0    [beware, fake, fake, fakewe, small, business, ...\n",
       "1    [lunch, togo, service, quick, staff, friendly,...\n",
       "2    [vegas, dozen, time, step, foot, circus, circu...\n",
       "3    [night, close, street, party, actually, group,...\n",
       "4    [starsnot, bad, price, lunch, senior, pay, eat...\n",
       "Name: clean_tokens, dtype: object"
      ]
     },
     "execution_count": 231,
     "metadata": {},
     "output_type": "execute_result"
    }
   ],
   "source": [
    "yelp['clean_tokens'] = yelp['clean_text'].apply(tokenize)\n",
    "yelp['clean_tokens'].head()"
   ]
  },
  {
   "cell_type": "code",
   "execution_count": 233,
   "metadata": {},
   "outputs": [
    {
     "name": "stderr",
     "output_type": "stream",
     "text": [
      "/Users/shahnam/opt/anaconda3/envs/U4-S1-NLP/lib/python3.7/site-packages/ipykernel/ipkernel.py:287: DeprecationWarning: `should_run_async` will not call `transform_cell` automatically in the future. Please pass the result to `transformed_cell` argument and any exception that happen during thetransform in `preprocessing_exc_tuple` in IPython 7.17 and above.\n",
      "  and should_run_async(code)\n"
     ]
    },
    {
     "data": {
      "text/plain": [
       "0     [beware, fake, fake, fakewe, small, business, ...\n",
       "1     [lunch, togo, service, quick, staff, friendly,...\n",
       "2     [vegas, dozen, time, step, foot, circus, circu...\n",
       "3     [night, close, street, party, actually, group,...\n",
       "4     [starsnot, bad, price, lunch, senior, pay, eat...\n",
       "5     [tasty, fast, casual, latin, street, food, men...\n",
       "6     [absolutely, amazing, incredible, production, ...\n",
       "7     [pho, enjoy, busy, serve, right, away, broth, ...\n",
       "8     [absolutely, unique, experience, nail, shop, f...\n",
       "9     [wow, walk, sit, bar, minute, bartender, work,...\n",
       "10    [pop, dinner, yesterday, reservation, despite,...\n",
       "11    [thw, bad, stay, end, pay, night, maybe, nice,...\n",
       "12    [great, friendly, customer, service, quality, ...\n",
       "13    [food, great, super, busy, server, attentive, ...\n",
       "14    [talk, rip, charge, shut, valve, cost, realize...\n",
       "15    [girl, night, tonight, kid, decide, drive, hop...\n",
       "16    [stop, drink, fly, charlotte, week, bartender,...\n",
       "17    [excellent, restaurant, encourage, visit, mont...\n",
       "18    [purchase, groupon, massage, maryann, massage,...\n",
       "19    [previous, stand, year, later, oak, ivy, pregn...\n",
       "20    [awesome, ayce, sushi, joint, like, fresh, ins...\n",
       "21    [yorkdale, shopping, centre, mall, torontoit, ...\n",
       "22    [biancos, marketing, ploy, city, powerball, wo...\n",
       "23    [indian, food, buffet, legitbuffet, stock, ite...\n",
       "24    [kid, menu, kraft, mac, cheese, price, appropr...\n",
       "25    [place, friendly, clean, yes, bathroom, fun, g...\n",
       "26    [high, end, retailer, store, forum, shop, lot,...\n",
       "27    [spend, hour, chance, dad, definitely, need, s...\n",
       "28    [love, feel, throw, joint, love, place, dcor, ...\n",
       "29    [long, time, glad, finally, man, food, filet, ...\n",
       "30    [decide, zipline, friend, yolo, day, vegas, pr...\n",
       "31    [nice, library, book, audio, book, kiddo, hub,...\n",
       "32    [love, theater, old, school, modern, vibe, out...\n",
       "33    [wing, giant, beer, perfect, seriously, wing, ...\n",
       "34    [unbelievable, dance, singe, juggling, magic, ...\n",
       "35    [amc, theatre, imax, pretty, cool, sound, imax...\n",
       "36    [stumble, place, look, business, sprint, locat...\n",
       "37    [soon, walk, salon, employee, stare, greet, la...\n",
       "38    [look, classic, diner, experience, atmosphere,...\n",
       "39    [walk, quick, glance, yupwe, asian, people, st...\n",
       "40    [room, escape, group, innovate, think, prison,...\n",
       "41    [handels, great, place, homemade, ice, cream, ...\n",
       "42    [happen, town, decide, try, leticias, parking,...\n",
       "43    [revel, add, list, happy, place, time, today, ...\n",
       "44    [restaurantbeautiful, restaurantimpeccable, se...\n",
       "45    [love, punkrock, ramshackle, approachenvironme...\n",
       "46    [absolutely, love, new, apartment, san, valenc...\n",
       "47    [food, horrible, service, kitchen, way, long, ...\n",
       "48    [angela, cloud, past, week, care, month, old, ...\n",
       "49    [greek, bowl, healthy, fresh, flavorful, space...\n",
       "Name: clean_tokens, dtype: object"
      ]
     },
     "execution_count": 233,
     "metadata": {},
     "output_type": "execute_result"
    }
   ],
   "source": [
    "yelp['clean_tokens'].head(50)"
   ]
  },
  {
   "cell_type": "markdown",
   "metadata": {},
   "source": [
    "## Part 2: Vector Representation\n",
    "<a id=\"#p2\"></a>\n",
    "1. Create a vector representation of the reviews\n",
    "2. Write a fake review and query for the 10 most similiar reviews, print the text of the reviews. Do you notice any patterns?\n",
    "    - Given the size of the dataset, it will probably be best to use a `NearestNeighbors` model for this. "
   ]
  },
  {
   "cell_type": "code",
   "execution_count": null,
   "metadata": {},
   "outputs": [],
   "source": []
  },
  {
   "cell_type": "code",
   "execution_count": 234,
   "metadata": {},
   "outputs": [
    {
     "name": "stderr",
     "output_type": "stream",
     "text": [
      "/Users/shahnam/opt/anaconda3/envs/U4-S1-NLP/lib/python3.7/site-packages/ipykernel/ipkernel.py:287: DeprecationWarning: `should_run_async` will not call `transform_cell` automatically in the future. Please pass the result to `transformed_cell` argument and any exception that happen during thetransform in `preprocessing_exc_tuple` in IPython 7.17 and above.\n",
      "  and should_run_async(code)\n"
     ]
    }
   ],
   "source": [
    "from sklearn.feature_extraction.text import TfidfVectorizer"
   ]
  },
  {
   "cell_type": "code",
   "execution_count": 235,
   "metadata": {},
   "outputs": [
    {
     "name": "stderr",
     "output_type": "stream",
     "text": [
      "/Users/shahnam/opt/anaconda3/envs/U4-S1-NLP/lib/python3.7/site-packages/ipykernel/ipkernel.py:287: DeprecationWarning: `should_run_async` will not call `transform_cell` automatically in the future. Please pass the result to `transformed_cell` argument and any exception that happen during thetransform in `preprocessing_exc_tuple` in IPython 7.17 and above.\n",
      "  and should_run_async(code)\n"
     ]
    },
    {
     "data": {
      "text/html": [
       "<div>\n",
       "<style scoped>\n",
       "    .dataframe tbody tr th:only-of-type {\n",
       "        vertical-align: middle;\n",
       "    }\n",
       "\n",
       "    .dataframe tbody tr th {\n",
       "        vertical-align: top;\n",
       "    }\n",
       "\n",
       "    .dataframe thead th {\n",
       "        text-align: right;\n",
       "    }\n",
       "</style>\n",
       "<table border=\"1\" class=\"dataframe\">\n",
       "  <thead>\n",
       "    <tr style=\"text-align: right;\">\n",
       "      <th></th>\n",
       "      <th>amazing</th>\n",
       "      <th>area</th>\n",
       "      <th>ask</th>\n",
       "      <th>awesome</th>\n",
       "      <th>bad</th>\n",
       "      <th>bar</th>\n",
       "      <th>big</th>\n",
       "      <th>bit</th>\n",
       "      <th>bring</th>\n",
       "      <th>burger</th>\n",
       "      <th>...</th>\n",
       "      <th>try</th>\n",
       "      <th>vegas</th>\n",
       "      <th>visit</th>\n",
       "      <th>wait</th>\n",
       "      <th>walk</th>\n",
       "      <th>want</th>\n",
       "      <th>way</th>\n",
       "      <th>work</th>\n",
       "      <th>worth</th>\n",
       "      <th>year</th>\n",
       "    </tr>\n",
       "  </thead>\n",
       "  <tbody>\n",
       "    <tr>\n",
       "      <th>0</th>\n",
       "      <td>0.0</td>\n",
       "      <td>0.000000</td>\n",
       "      <td>0.0</td>\n",
       "      <td>0.0</td>\n",
       "      <td>0.000000</td>\n",
       "      <td>0.000000</td>\n",
       "      <td>0.0</td>\n",
       "      <td>0.000000</td>\n",
       "      <td>0.0</td>\n",
       "      <td>0.0</td>\n",
       "      <td>...</td>\n",
       "      <td>0.25414</td>\n",
       "      <td>0.000000</td>\n",
       "      <td>0.0</td>\n",
       "      <td>0.296355</td>\n",
       "      <td>0.0</td>\n",
       "      <td>0.0</td>\n",
       "      <td>0.0</td>\n",
       "      <td>0.0</td>\n",
       "      <td>0.0</td>\n",
       "      <td>0.000000</td>\n",
       "    </tr>\n",
       "    <tr>\n",
       "      <th>1</th>\n",
       "      <td>0.0</td>\n",
       "      <td>0.000000</td>\n",
       "      <td>0.0</td>\n",
       "      <td>0.0</td>\n",
       "      <td>0.000000</td>\n",
       "      <td>0.000000</td>\n",
       "      <td>0.0</td>\n",
       "      <td>0.000000</td>\n",
       "      <td>0.0</td>\n",
       "      <td>0.0</td>\n",
       "      <td>...</td>\n",
       "      <td>0.00000</td>\n",
       "      <td>0.000000</td>\n",
       "      <td>0.0</td>\n",
       "      <td>0.000000</td>\n",
       "      <td>0.0</td>\n",
       "      <td>0.0</td>\n",
       "      <td>0.0</td>\n",
       "      <td>0.0</td>\n",
       "      <td>0.0</td>\n",
       "      <td>0.000000</td>\n",
       "    </tr>\n",
       "    <tr>\n",
       "      <th>2</th>\n",
       "      <td>0.0</td>\n",
       "      <td>0.136188</td>\n",
       "      <td>0.0</td>\n",
       "      <td>0.0</td>\n",
       "      <td>0.000000</td>\n",
       "      <td>0.134922</td>\n",
       "      <td>0.0</td>\n",
       "      <td>0.000000</td>\n",
       "      <td>0.0</td>\n",
       "      <td>0.0</td>\n",
       "      <td>...</td>\n",
       "      <td>0.00000</td>\n",
       "      <td>0.272807</td>\n",
       "      <td>0.0</td>\n",
       "      <td>0.000000</td>\n",
       "      <td>0.0</td>\n",
       "      <td>0.0</td>\n",
       "      <td>0.0</td>\n",
       "      <td>0.0</td>\n",
       "      <td>0.0</td>\n",
       "      <td>0.129705</td>\n",
       "    </tr>\n",
       "    <tr>\n",
       "      <th>3</th>\n",
       "      <td>0.0</td>\n",
       "      <td>0.000000</td>\n",
       "      <td>0.0</td>\n",
       "      <td>0.0</td>\n",
       "      <td>0.000000</td>\n",
       "      <td>0.000000</td>\n",
       "      <td>0.0</td>\n",
       "      <td>0.000000</td>\n",
       "      <td>0.0</td>\n",
       "      <td>0.0</td>\n",
       "      <td>...</td>\n",
       "      <td>0.00000</td>\n",
       "      <td>0.000000</td>\n",
       "      <td>0.0</td>\n",
       "      <td>0.000000</td>\n",
       "      <td>0.0</td>\n",
       "      <td>0.0</td>\n",
       "      <td>0.0</td>\n",
       "      <td>0.0</td>\n",
       "      <td>0.0</td>\n",
       "      <td>0.000000</td>\n",
       "    </tr>\n",
       "    <tr>\n",
       "      <th>4</th>\n",
       "      <td>0.0</td>\n",
       "      <td>0.000000</td>\n",
       "      <td>0.0</td>\n",
       "      <td>0.0</td>\n",
       "      <td>0.211974</td>\n",
       "      <td>0.464884</td>\n",
       "      <td>0.0</td>\n",
       "      <td>0.233888</td>\n",
       "      <td>0.0</td>\n",
       "      <td>0.0</td>\n",
       "      <td>...</td>\n",
       "      <td>0.00000</td>\n",
       "      <td>0.000000</td>\n",
       "      <td>0.0</td>\n",
       "      <td>0.000000</td>\n",
       "      <td>0.0</td>\n",
       "      <td>0.0</td>\n",
       "      <td>0.0</td>\n",
       "      <td>0.0</td>\n",
       "      <td>0.0</td>\n",
       "      <td>0.000000</td>\n",
       "    </tr>\n",
       "  </tbody>\n",
       "</table>\n",
       "<p>5 rows × 100 columns</p>\n",
       "</div>"
      ],
      "text/plain": [
       "   amazing      area  ask  awesome       bad       bar  big       bit  bring  \\\n",
       "0      0.0  0.000000  0.0      0.0  0.000000  0.000000  0.0  0.000000    0.0   \n",
       "1      0.0  0.000000  0.0      0.0  0.000000  0.000000  0.0  0.000000    0.0   \n",
       "2      0.0  0.136188  0.0      0.0  0.000000  0.134922  0.0  0.000000    0.0   \n",
       "3      0.0  0.000000  0.0      0.0  0.000000  0.000000  0.0  0.000000    0.0   \n",
       "4      0.0  0.000000  0.0      0.0  0.211974  0.464884  0.0  0.233888    0.0   \n",
       "\n",
       "   burger  ...      try     vegas  visit      wait  walk  want  way  work  \\\n",
       "0     0.0  ...  0.25414  0.000000    0.0  0.296355   0.0   0.0  0.0   0.0   \n",
       "1     0.0  ...  0.00000  0.000000    0.0  0.000000   0.0   0.0  0.0   0.0   \n",
       "2     0.0  ...  0.00000  0.272807    0.0  0.000000   0.0   0.0  0.0   0.0   \n",
       "3     0.0  ...  0.00000  0.000000    0.0  0.000000   0.0   0.0  0.0   0.0   \n",
       "4     0.0  ...  0.00000  0.000000    0.0  0.000000   0.0   0.0  0.0   0.0   \n",
       "\n",
       "   worth      year  \n",
       "0    0.0  0.000000  \n",
       "1    0.0  0.000000  \n",
       "2    0.0  0.129705  \n",
       "3    0.0  0.000000  \n",
       "4    0.0  0.000000  \n",
       "\n",
       "[5 rows x 100 columns]"
      ]
     },
     "execution_count": 235,
     "metadata": {},
     "output_type": "execute_result"
    }
   ],
   "source": [
    "# Create bag of words and returns a meaure of count for each review based on its uniqueness\n",
    "tfidf = TfidfVectorizer(ngram_range=(1,2),\n",
    "                        stop_words='english',\n",
    "                        max_df=.8,\n",
    "                        min_df= 3,\n",
    "                        max_features=100,\n",
    "                        tokenizer=tokenize)\n",
    "\n",
    "# Create a vocabulary and get word counts per document\n",
    "dtm = tfidf.fit_transform(yelp['clean_text'])\n",
    "# Get feature names to use as dataframe column headers\n",
    "dtm = pd.DataFrame(dtm.todense(), columns=tfidf.get_feature_names())\n",
    "\n",
    "# View Feature Matrix as DataFrame\n",
    "dtm.head()"
   ]
  },
  {
   "cell_type": "code",
   "execution_count": 236,
   "metadata": {},
   "outputs": [
    {
     "name": "stderr",
     "output_type": "stream",
     "text": [
      "/Users/shahnam/opt/anaconda3/envs/U4-S1-NLP/lib/python3.7/site-packages/ipykernel/ipkernel.py:287: DeprecationWarning: `should_run_async` will not call `transform_cell` automatically in the future. Please pass the result to `transformed_cell` argument and any exception that happen during thetransform in `preprocessing_exc_tuple` in IPython 7.17 and above.\n",
      "  and should_run_async(code)\n"
     ]
    },
    {
     "data": {
      "text/plain": [
       "NearestNeighbors(algorithm='kd_tree', leaf_size=30, metric='minkowski',\n",
       "                 metric_params=None, n_jobs=None, n_neighbors=10, p=2,\n",
       "                 radius=1.0)"
      ]
     },
     "execution_count": 236,
     "metadata": {},
     "output_type": "execute_result"
    }
   ],
   "source": [
    "from sklearn.neighbors import NearestNeighbors\n",
    "\n",
    "# Fit on DTM\n",
    "nn = NearestNeighbors(n_neighbors=10, algorithm='kd_tree')\n",
    "nn.fit(dtm)"
   ]
  },
  {
   "cell_type": "code",
   "execution_count": 237,
   "metadata": {},
   "outputs": [
    {
     "name": "stdout",
     "output_type": "stream",
     "text": [
      "100\n",
      "<class 'numpy.ndarray'>\n"
     ]
    },
    {
     "name": "stderr",
     "output_type": "stream",
     "text": [
      "/Users/shahnam/opt/anaconda3/envs/U4-S1-NLP/lib/python3.7/site-packages/ipykernel/ipkernel.py:287: DeprecationWarning: `should_run_async` will not call `transform_cell` automatically in the future. Please pass the result to `transformed_cell` argument and any exception that happen during thetransform in `preprocessing_exc_tuple` in IPython 7.17 and above.\n",
      "  and should_run_async(code)\n"
     ]
    },
    {
     "data": {
      "text/plain": [
       "(array([[0.        , 0.73666793, 0.81809706, 0.81809706, 0.81809706,\n",
       "         0.86491255, 0.89029169, 0.9101442 , 0.92091018, 0.92391536]]),\n",
       " array([[   0, 4486, 8017, 3412,  262, 3133, 8575, 1861, 2045, 8437]]))"
      ]
     },
     "execution_count": 237,
     "metadata": {},
     "output_type": "execute_result"
    }
   ],
   "source": [
    "print(len(dtm.iloc[0]))   # tfidf vector of all articles with respect to the first article\n",
    "\n",
    "print(type(dtm.iloc[92].values))\n",
    "# returns a list of five nearest neighbors distance, and another list of those neighbors' row number\n",
    "nn.kneighbors([dtm.iloc[0].values])"
   ]
  },
  {
   "cell_type": "code",
   "execution_count": 238,
   "metadata": {},
   "outputs": [
    {
     "name": "stderr",
     "output_type": "stream",
     "text": [
      "/Users/shahnam/opt/anaconda3/envs/U4-S1-NLP/lib/python3.7/site-packages/ipykernel/ipkernel.py:287: DeprecationWarning: `should_run_async` will not call `transform_cell` automatically in the future. Please pass the result to `transformed_cell` argument and any exception that happen during thetransform in `preprocessing_exc_tuple` in IPython 7.17 and above.\n",
      "  and should_run_async(code)\n"
     ]
    }
   ],
   "source": [
    "rndm_review = [ \"We went to Togo lunch in Vegas. Price was good and it was awesome\"]"
   ]
  },
  {
   "cell_type": "code",
   "execution_count": 239,
   "metadata": {},
   "outputs": [
    {
     "name": "stdout",
     "output_type": "stream",
     "text": [
      "(1, 100)\n"
     ]
    },
    {
     "name": "stderr",
     "output_type": "stream",
     "text": [
      "/Users/shahnam/opt/anaconda3/envs/U4-S1-NLP/lib/python3.7/site-packages/ipykernel/ipkernel.py:287: DeprecationWarning: `should_run_async` will not call `transform_cell` automatically in the future. Please pass the result to `transformed_cell` argument and any exception that happen during thetransform in `preprocessing_exc_tuple` in IPython 7.17 and above.\n",
      "  and should_run_async(code)\n"
     ]
    }
   ],
   "source": [
    "new_dtm = tfidf.transform(rndm_review)\n",
    "print(new_dtm.shape)"
   ]
  },
  {
   "cell_type": "code",
   "execution_count": 240,
   "metadata": {},
   "outputs": [
    {
     "name": "stderr",
     "output_type": "stream",
     "text": [
      "/Users/shahnam/opt/anaconda3/envs/U4-S1-NLP/lib/python3.7/site-packages/ipykernel/ipkernel.py:287: DeprecationWarning: `should_run_async` will not call `transform_cell` automatically in the future. Please pass the result to `transformed_cell` argument and any exception that happen during thetransform in `preprocessing_exc_tuple` in IPython 7.17 and above.\n",
      "  and should_run_async(code)\n"
     ]
    },
    {
     "data": {
      "text/plain": [
       "(array([[0.87708969, 0.87924582, 0.90498294, 0.91701733, 0.92022996,\n",
       "         0.92735254, 0.92838584, 0.96088408, 0.96171207, 0.96803653]]),\n",
       " array([[7718, 8848, 6129, 4949, 2956, 8989, 4404, 8740, 2405, 1132]]))"
      ]
     },
     "execution_count": 240,
     "metadata": {},
     "output_type": "execute_result"
    }
   ],
   "source": [
    "nn.kneighbors(new_dtm.todense())"
   ]
  },
  {
   "cell_type": "code",
   "execution_count": 241,
   "metadata": {},
   "outputs": [
    {
     "name": "stderr",
     "output_type": "stream",
     "text": [
      "/Users/shahnam/opt/anaconda3/envs/U4-S1-NLP/lib/python3.7/site-packages/ipykernel/ipkernel.py:287: DeprecationWarning: `should_run_async` will not call `transform_cell` automatically in the future. Please pass the result to `transformed_cell` argument and any exception that happen during thetransform in `preprocessing_exc_tuple` in IPython 7.17 and above.\n",
      "  and should_run_async(code)\n"
     ]
    },
    {
     "data": {
      "text/plain": [
       "'Went for a light lunch today and had the steamed BBQ pork rolls and beef & chive dim sum. All very good and great prices! Will be back soon!'"
      ]
     },
     "execution_count": 241,
     "metadata": {},
     "output_type": "execute_result"
    }
   ],
   "source": [
    "# Need to remove non-english characters\n",
    "yelp[\"text\"][7718]"
   ]
  },
  {
   "cell_type": "markdown",
   "metadata": {},
   "source": [
    "* We get similar keywords in the neighboring queries"
   ]
  },
  {
   "cell_type": "markdown",
   "metadata": {},
   "source": [
    "## Part 3: Classification\n",
    "<a id=\"#p3\"></a>\n",
    "Your goal in this section will be to predict `stars` from the review dataset. \n",
    "\n",
    "1. Create a piepline object with a sklearn `CountVectorizer` or `TfidfVector` and any sklearn classifier. Use that pipeline to estimate a model to predict `stars`. Use the Pipeline to predict a star rating for your fake review from Part 2. \n",
    "2. Tune the entire pipeline with a GridSearch"
   ]
  },
  {
   "cell_type": "code",
   "execution_count": 242,
   "metadata": {},
   "outputs": [
    {
     "name": "stderr",
     "output_type": "stream",
     "text": [
      "/Users/shahnam/opt/anaconda3/envs/U4-S1-NLP/lib/python3.7/site-packages/ipykernel/ipkernel.py:287: DeprecationWarning: `should_run_async` will not call `transform_cell` automatically in the future. Please pass the result to `transformed_cell` argument and any exception that happen during thetransform in `preprocessing_exc_tuple` in IPython 7.17 and above.\n",
      "  and should_run_async(code)\n"
     ]
    },
    {
     "data": {
      "text/plain": [
       "5    4462\n",
       "4    2185\n",
       "1    1496\n",
       "3    1098\n",
       "2     759\n",
       "Name: stars, dtype: int64"
      ]
     },
     "execution_count": 242,
     "metadata": {},
     "output_type": "execute_result"
    }
   ],
   "source": [
    "yelp[\"stars\"].value_counts()"
   ]
  },
  {
   "cell_type": "code",
   "execution_count": 243,
   "metadata": {},
   "outputs": [
    {
     "name": "stderr",
     "output_type": "stream",
     "text": [
      "/Users/shahnam/opt/anaconda3/envs/U4-S1-NLP/lib/python3.7/site-packages/ipykernel/ipkernel.py:287: DeprecationWarning: `should_run_async` will not call `transform_cell` automatically in the future. Please pass the result to `transformed_cell` argument and any exception that happen during thetransform in `preprocessing_exc_tuple` in IPython 7.17 and above.\n",
      "  and should_run_async(code)\n"
     ]
    }
   ],
   "source": [
    "from sklearn.ensemble import RandomForestClassifier\n",
    "from sklearn.model_selection import GridSearchCV\n",
    "from sklearn.pipeline import Pipeline"
   ]
  },
  {
   "cell_type": "code",
   "execution_count": 244,
   "metadata": {},
   "outputs": [
    {
     "name": "stderr",
     "output_type": "stream",
     "text": [
      "/Users/shahnam/opt/anaconda3/envs/U4-S1-NLP/lib/python3.7/site-packages/ipykernel/ipkernel.py:287: DeprecationWarning: `should_run_async` will not call `transform_cell` automatically in the future. Please pass the result to `transformed_cell` argument and any exception that happen during thetransform in `preprocessing_exc_tuple` in IPython 7.17 and above.\n",
      "  and should_run_async(code)\n"
     ]
    }
   ],
   "source": [
    "rfc = RandomForestClassifier()\n",
    "\n",
    "pipe = Pipeline([\n",
    "        ('vect', tfidf), \n",
    "        ('clf', rfc)\n",
    "        ])"
   ]
  },
  {
   "cell_type": "code",
   "execution_count": 245,
   "metadata": {},
   "outputs": [
    {
     "name": "stdout",
     "output_type": "stream",
     "text": [
      "Fitting 2 folds for each of 2 candidates, totalling 4 fits\n"
     ]
    },
    {
     "name": "stderr",
     "output_type": "stream",
     "text": [
      "/Users/shahnam/opt/anaconda3/envs/U4-S1-NLP/lib/python3.7/site-packages/ipykernel/ipkernel.py:287: DeprecationWarning: `should_run_async` will not call `transform_cell` automatically in the future. Please pass the result to `transformed_cell` argument and any exception that happen during thetransform in `preprocessing_exc_tuple` in IPython 7.17 and above.\n",
      "  and should_run_async(code)\n",
      "[Parallel(n_jobs=-1)]: Using backend LokyBackend with 8 concurrent workers.\n",
      "[Parallel(n_jobs=-1)]: Done   4 out of   4 | elapsed:  2.8min finished\n",
      "[Parallel(n_jobs=-1)]: Done   4 out of   4 | elapsed:  2.8min remaining:    0.0s\n"
     ]
    },
    {
     "data": {
      "text/plain": [
       "GridSearchCV(cv=2, error_score=nan,\n",
       "             estimator=Pipeline(memory=None,\n",
       "                                steps=[('vect',\n",
       "                                        TfidfVectorizer(analyzer='word',\n",
       "                                                        binary=False,\n",
       "                                                        decode_error='strict',\n",
       "                                                        dtype=<class 'numpy.float64'>,\n",
       "                                                        encoding='utf-8',\n",
       "                                                        input='content',\n",
       "                                                        lowercase=True,\n",
       "                                                        max_df=0.8,\n",
       "                                                        max_features=100,\n",
       "                                                        min_df=3,\n",
       "                                                        ngram_range=(1, 2),\n",
       "                                                        norm='l2',\n",
       "                                                        preprocessor=None,\n",
       "                                                        smooth_idf=True,\n",
       "                                                        stop_words='english',\n",
       "                                                        strip_...\n",
       "                                                               min_impurity_decrease=0.0,\n",
       "                                                               min_impurity_split=None,\n",
       "                                                               min_samples_leaf=1,\n",
       "                                                               min_samples_split=2,\n",
       "                                                               min_weight_fraction_leaf=0.0,\n",
       "                                                               n_estimators=100,\n",
       "                                                               n_jobs=None,\n",
       "                                                               oob_score=False,\n",
       "                                                               random_state=None,\n",
       "                                                               verbose=0,\n",
       "                                                               warm_start=False))],\n",
       "                                verbose=False),\n",
       "             iid='deprecated', n_jobs=-1,\n",
       "             param_grid={'clf__max_depth': (5, 10)}, pre_dispatch='2*n_jobs',\n",
       "             refit=True, return_train_score=False, scoring=None, verbose=1)"
      ]
     },
     "execution_count": 245,
     "metadata": {},
     "output_type": "execute_result"
    }
   ],
   "source": [
    "parameters = {\n",
    "#     'vect__max_df': (0.75, 0.85),\n",
    "    'clf__max_depth':(5,10)\n",
    "}\n",
    "\n",
    "grid_search = GridSearchCV(pipe,parameters, cv=2, n_jobs=-1, verbose=1)\n",
    "grid_search.fit(yelp['clean_text'], yelp['stars'])"
   ]
  },
  {
   "cell_type": "code",
   "execution_count": 246,
   "metadata": {},
   "outputs": [
    {
     "name": "stderr",
     "output_type": "stream",
     "text": [
      "/Users/shahnam/opt/anaconda3/envs/U4-S1-NLP/lib/python3.7/site-packages/ipykernel/ipkernel.py:287: DeprecationWarning: `should_run_async` will not call `transform_cell` automatically in the future. Please pass the result to `transformed_cell` argument and any exception that happen during thetransform in `preprocessing_exc_tuple` in IPython 7.17 and above.\n",
      "  and should_run_async(code)\n"
     ]
    },
    {
     "data": {
      "text/plain": [
       "{'clf__max_depth': 5}"
      ]
     },
     "execution_count": 246,
     "metadata": {},
     "output_type": "execute_result"
    }
   ],
   "source": [
    "grid_search.best_params_"
   ]
  },
  {
   "cell_type": "code",
   "execution_count": 247,
   "metadata": {},
   "outputs": [
    {
     "name": "stderr",
     "output_type": "stream",
     "text": [
      "/Users/shahnam/opt/anaconda3/envs/U4-S1-NLP/lib/python3.7/site-packages/ipykernel/ipkernel.py:287: DeprecationWarning: `should_run_async` will not call `transform_cell` automatically in the future. Please pass the result to `transformed_cell` argument and any exception that happen during thetransform in `preprocessing_exc_tuple` in IPython 7.17 and above.\n",
      "  and should_run_async(code)\n"
     ]
    },
    {
     "data": {
      "text/plain": [
       "array([5])"
      ]
     },
     "execution_count": 247,
     "metadata": {},
     "output_type": "execute_result"
    }
   ],
   "source": [
    "# Predictions on test sample\n",
    "pred = grid_search.predict(rndm_review)\n",
    "pred"
   ]
  },
  {
   "cell_type": "markdown",
   "metadata": {},
   "source": [
    "* It gives a star rating 5 which matches the review content :)"
   ]
  },
  {
   "cell_type": "markdown",
   "metadata": {},
   "source": [
    "## Part 4: Topic Modeling\n",
    "\n",
    "Let's find out what those yelp reviews are saying! :D\n",
    "\n",
    "1. Estimate a LDA topic model of the review text\n",
    "    - Keep the `iterations` parameter at or below 5 to reduce run time\n",
    "    - The `workers` parameter should match the number of physical cores on your machine.\n",
    "2. Create 1-2 visualizations of the results\n",
    "    - You can use the most important 3 words of a topic in relevant visualizations. Refer to yesterday's notebook to extract. \n",
    "3. In markdown, write 1-2 paragraphs of analysis on the results of your topic model\n",
    "\n",
    "__*Note*__: You can pass the DataFrame column of text reviews to gensim. You do not have to use a generator."
   ]
  },
  {
   "cell_type": "code",
   "execution_count": 248,
   "metadata": {
    "collapsed": false,
    "inputHidden": false,
    "jupyter": {
     "outputs_hidden": false
    },
    "outputHidden": false
   },
   "outputs": [
    {
     "name": "stderr",
     "output_type": "stream",
     "text": [
      "/Users/shahnam/opt/anaconda3/envs/U4-S1-NLP/lib/python3.7/site-packages/ipykernel/ipkernel.py:287: DeprecationWarning: `should_run_async` will not call `transform_cell` automatically in the future. Please pass the result to `transformed_cell` argument and any exception that happen during thetransform in `preprocessing_exc_tuple` in IPython 7.17 and above.\n",
      "  and should_run_async(code)\n"
     ]
    }
   ],
   "source": [
    "import gensim\n",
    "from gensim.models import LdaMulticore\n",
    "# from gensim.corpora import Dictionary\n",
    "from gensim import corpora"
   ]
  },
  {
   "cell_type": "markdown",
   "metadata": {},
   "source": [
    "Learn the vocubalary of the yelp data:"
   ]
  },
  {
   "cell_type": "code",
   "execution_count": 258,
   "metadata": {},
   "outputs": [
    {
     "name": "stderr",
     "output_type": "stream",
     "text": [
      "/Users/shahnam/opt/anaconda3/envs/U4-S1-NLP/lib/python3.7/site-packages/ipykernel/ipkernel.py:287: DeprecationWarning: `should_run_async` will not call `transform_cell` automatically in the future. Please pass the result to `transformed_cell` argument and any exception that happen during thetransform in `preprocessing_exc_tuple` in IPython 7.17 and above.\n",
      "  and should_run_async(code)\n"
     ]
    },
    {
     "name": "stdout",
     "output_type": "stream",
     "text": [
      "30784 10000\n"
     ]
    }
   ],
   "source": [
    "id2word = corpora.Dictionary(yelp['clean_tokens'])\n",
    "print(len(id2word),len(yelp))"
   ]
  },
  {
   "cell_type": "code",
   "execution_count": 259,
   "metadata": {},
   "outputs": [
    {
     "name": "stderr",
     "output_type": "stream",
     "text": [
      "/Users/shahnam/opt/anaconda3/envs/U4-S1-NLP/lib/python3.7/site-packages/ipykernel/ipkernel.py:287: DeprecationWarning: `should_run_async` will not call `transform_cell` automatically in the future. Please pass the result to `transformed_cell` argument and any exception that happen during thetransform in `preprocessing_exc_tuple` in IPython 7.17 and above.\n",
      "  and should_run_async(code)\n"
     ]
    },
    {
     "data": {
      "text/plain": [
       "2859"
      ]
     },
     "execution_count": 259,
     "metadata": {},
     "output_type": "execute_result"
    }
   ],
   "source": [
    "id2word.filter_extremes(no_below=15, no_above=0.85)\n",
    "len(id2word.keys())"
   ]
  },
  {
   "cell_type": "markdown",
   "metadata": {},
   "source": [
    "Create a bag of words representation of the entire corpus"
   ]
  },
  {
   "cell_type": "code",
   "execution_count": 260,
   "metadata": {
    "collapsed": false,
    "inputHidden": false,
    "jupyter": {
     "outputs_hidden": false
    },
    "outputHidden": false
   },
   "outputs": [
    {
     "name": "stderr",
     "output_type": "stream",
     "text": [
      "/Users/shahnam/opt/anaconda3/envs/U4-S1-NLP/lib/python3.7/site-packages/ipykernel/ipkernel.py:287: DeprecationWarning: `should_run_async` will not call `transform_cell` automatically in the future. Please pass the result to `transformed_cell` argument and any exception that happen during thetransform in `preprocessing_exc_tuple` in IPython 7.17 and above.\n",
      "  and should_run_async(code)\n"
     ]
    },
    {
     "data": {
      "text/plain": [
       "10000"
      ]
     },
     "execution_count": 260,
     "metadata": {},
     "output_type": "execute_result"
    }
   ],
   "source": [
    "corpus = [id2word.doc2bow(text) for text in yelp['clean_tokens']]\n",
    "len(corpus)"
   ]
  },
  {
   "cell_type": "markdown",
   "metadata": {},
   "source": [
    "Your LDA model should be ready for estimation: "
   ]
  },
  {
   "cell_type": "code",
   "execution_count": 261,
   "metadata": {
    "collapsed": false,
    "inputHidden": false,
    "jupyter": {
     "outputs_hidden": false
    },
    "outputHidden": false
   },
   "outputs": [
    {
     "name": "stderr",
     "output_type": "stream",
     "text": [
      "/Users/shahnam/opt/anaconda3/envs/U4-S1-NLP/lib/python3.7/site-packages/ipykernel/ipkernel.py:287: DeprecationWarning: `should_run_async` will not call `transform_cell` automatically in the future. Please pass the result to `transformed_cell` argument and any exception that happen during thetransform in `preprocessing_exc_tuple` in IPython 7.17 and above.\n",
      "  and should_run_async(code)\n"
     ]
    }
   ],
   "source": [
    "lda = LdaMulticore(corpus=corpus,\n",
    "                   id2word=id2word,\n",
    "                   iterations=2,\n",
    "                   workers=4,\n",
    "                   num_topics = 10 # You can change this parameter\n",
    "                  )"
   ]
  },
  {
   "cell_type": "code",
   "execution_count": 263,
   "metadata": {},
   "outputs": [
    {
     "name": "stderr",
     "output_type": "stream",
     "text": [
      "/Users/shahnam/opt/anaconda3/envs/U4-S1-NLP/lib/python3.7/site-packages/ipykernel/ipkernel.py:287: DeprecationWarning: `should_run_async` will not call `transform_cell` automatically in the future. Please pass the result to `transformed_cell` argument and any exception that happen during thetransform in `preprocessing_exc_tuple` in IPython 7.17 and above.\n",
      "  and should_run_async(code)\n"
     ]
    },
    {
     "data": {
      "text/plain": [
       "[(0,\n",
       "  '0.014*\"place\" + 0.014*\"food\" + 0.013*\"great\" + 0.012*\"like\" + 0.010*\"time\" + 0.009*\"try\" + 0.007*\"service\" + 0.007*\"love\" + 0.006*\"order\" + 0.005*\"chicken\"'),\n",
       " (1,\n",
       "  '0.016*\"food\" + 0.015*\"place\" + 0.015*\"time\" + 0.009*\"great\" + 0.009*\"service\" + 0.008*\"like\" + 0.007*\"order\" + 0.006*\"recommend\" + 0.006*\"love\" + 0.006*\"day\"'),\n",
       " (2,\n",
       "  '0.014*\"place\" + 0.013*\"time\" + 0.013*\"great\" + 0.012*\"food\" + 0.009*\"like\" + 0.009*\"service\" + 0.009*\"order\" + 0.006*\"try\" + 0.006*\"love\" + 0.005*\"want\"'),\n",
       " (3,\n",
       "  '0.014*\"food\" + 0.013*\"place\" + 0.011*\"service\" + 0.010*\"like\" + 0.010*\"order\" + 0.009*\"time\" + 0.006*\"great\" + 0.006*\"try\" + 0.005*\"find\" + 0.005*\"look\"'),\n",
       " (4,\n",
       "  '0.014*\"place\" + 0.011*\"food\" + 0.011*\"service\" + 0.010*\"time\" + 0.009*\"great\" + 0.009*\"order\" + 0.008*\"like\" + 0.008*\"try\" + 0.007*\"love\" + 0.006*\"nice\"'),\n",
       " (5,\n",
       "  '0.013*\"food\" + 0.011*\"time\" + 0.011*\"place\" + 0.009*\"service\" + 0.009*\"like\" + 0.009*\"order\" + 0.009*\"great\" + 0.008*\"try\" + 0.007*\"love\" + 0.005*\"eat\"'),\n",
       " (6,\n",
       "  '0.016*\"great\" + 0.015*\"food\" + 0.013*\"place\" + 0.012*\"service\" + 0.012*\"time\" + 0.011*\"order\" + 0.010*\"like\" + 0.007*\"look\" + 0.006*\"try\" + 0.006*\"want\"'),\n",
       " (7,\n",
       "  '0.013*\"place\" + 0.013*\"great\" + 0.012*\"time\" + 0.012*\"like\" + 0.010*\"order\" + 0.007*\"food\" + 0.007*\"service\" + 0.007*\"try\" + 0.006*\"little\" + 0.006*\"look\"'),\n",
       " (8,\n",
       "  '0.016*\"place\" + 0.014*\"food\" + 0.011*\"service\" + 0.011*\"time\" + 0.011*\"great\" + 0.009*\"like\" + 0.009*\"order\" + 0.007*\"try\" + 0.005*\"love\" + 0.005*\"wait\"'),\n",
       " (9,\n",
       "  '0.015*\"place\" + 0.014*\"great\" + 0.012*\"food\" + 0.012*\"service\" + 0.011*\"order\" + 0.010*\"like\" + 0.008*\"time\" + 0.007*\"want\" + 0.007*\"try\" + 0.007*\"love\"')]"
      ]
     },
     "execution_count": 263,
     "metadata": {},
     "output_type": "execute_result"
    }
   ],
   "source": [
    "lda.print_topics()"
   ]
  },
  {
   "cell_type": "markdown",
   "metadata": {},
   "source": [
    "Create 1-2 visualizations of the results"
   ]
  },
  {
   "cell_type": "code",
   "execution_count": 264,
   "metadata": {
    "collapsed": false,
    "inputHidden": false,
    "jupyter": {
     "outputs_hidden": false
    },
    "outputHidden": false
   },
   "outputs": [
    {
     "name": "stderr",
     "output_type": "stream",
     "text": [
      "/Users/shahnam/opt/anaconda3/envs/U4-S1-NLP/lib/python3.7/site-packages/ipykernel/ipkernel.py:287: DeprecationWarning: `should_run_async` will not call `transform_cell` automatically in the future. Please pass the result to `transformed_cell` argument and any exception that happen during thetransform in `preprocessing_exc_tuple` in IPython 7.17 and above.\n",
      "  and should_run_async(code)\n"
     ]
    }
   ],
   "source": [
    "words = [re.findall(r'\"[^\"]*\"', t[1]) for t in lda.print_topics(10)]"
   ]
  },
  {
   "cell_type": "code",
   "execution_count": 265,
   "metadata": {},
   "outputs": [
    {
     "name": "stdout",
     "output_type": "stream",
     "text": [
      "10\n"
     ]
    },
    {
     "name": "stderr",
     "output_type": "stream",
     "text": [
      "/Users/shahnam/opt/anaconda3/envs/U4-S1-NLP/lib/python3.7/site-packages/ipykernel/ipkernel.py:287: DeprecationWarning: `should_run_async` will not call `transform_cell` automatically in the future. Please pass the result to `transformed_cell` argument and any exception that happen during thetransform in `preprocessing_exc_tuple` in IPython 7.17 and above.\n",
      "  and should_run_async(code)\n"
     ]
    },
    {
     "data": {
      "text/plain": [
       "['\"place\"',\n",
       " '\"food\"',\n",
       " '\"great\"',\n",
       " '\"like\"',\n",
       " '\"time\"',\n",
       " '\"try\"',\n",
       " '\"service\"',\n",
       " '\"love\"',\n",
       " '\"order\"',\n",
       " '\"chicken\"']"
      ]
     },
     "execution_count": 265,
     "metadata": {},
     "output_type": "execute_result"
    }
   ],
   "source": [
    "print(len(words))\n",
    "words[0]"
   ]
  },
  {
   "cell_type": "code",
   "execution_count": 270,
   "metadata": {},
   "outputs": [
    {
     "name": "stderr",
     "output_type": "stream",
     "text": [
      "/Users/shahnam/opt/anaconda3/envs/U4-S1-NLP/lib/python3.7/site-packages/ipykernel/ipkernel.py:287: DeprecationWarning: `should_run_async` will not call `transform_cell` automatically in the future. Please pass the result to `transformed_cell` argument and any exception that happen during thetransform in `preprocessing_exc_tuple` in IPython 7.17 and above.\n",
      "  and should_run_async(code)\n"
     ]
    }
   ],
   "source": [
    "topic_labels = [', '.join(t[:]) for t in words]"
   ]
  },
  {
   "cell_type": "code",
   "execution_count": 271,
   "metadata": {},
   "outputs": [
    {
     "name": "stdout",
     "output_type": "stream",
     "text": [
      "------ Topic 0 ------\n",
      "\"place\", \"food\", \"great\", \"like\", \"time\", \"try\", \"service\", \"love\", \"order\", \"chicken\"\n",
      "\n",
      "------ Topic 1 ------\n",
      "\"food\", \"place\", \"time\", \"great\", \"service\", \"like\", \"order\", \"recommend\", \"love\", \"day\"\n",
      "\n",
      "------ Topic 2 ------\n",
      "\"place\", \"time\", \"great\", \"food\", \"like\", \"service\", \"order\", \"try\", \"love\", \"want\"\n",
      "\n",
      "------ Topic 3 ------\n",
      "\"food\", \"place\", \"service\", \"like\", \"order\", \"time\", \"great\", \"try\", \"find\", \"look\"\n",
      "\n",
      "------ Topic 4 ------\n",
      "\"place\", \"food\", \"service\", \"time\", \"great\", \"order\", \"like\", \"try\", \"love\", \"nice\"\n",
      "\n",
      "------ Topic 5 ------\n",
      "\"food\", \"time\", \"place\", \"service\", \"like\", \"order\", \"great\", \"try\", \"love\", \"eat\"\n",
      "\n",
      "------ Topic 6 ------\n",
      "\"great\", \"food\", \"place\", \"service\", \"time\", \"order\", \"like\", \"look\", \"try\", \"want\"\n",
      "\n",
      "------ Topic 7 ------\n",
      "\"place\", \"great\", \"time\", \"like\", \"order\", \"food\", \"service\", \"try\", \"little\", \"look\"\n",
      "\n",
      "------ Topic 8 ------\n",
      "\"place\", \"food\", \"service\", \"time\", \"great\", \"like\", \"order\", \"try\", \"love\", \"wait\"\n",
      "\n",
      "------ Topic 9 ------\n",
      "\"place\", \"great\", \"food\", \"service\", \"order\", \"like\", \"time\", \"want\", \"try\", \"love\"\n",
      "\n"
     ]
    },
    {
     "name": "stderr",
     "output_type": "stream",
     "text": [
      "/Users/shahnam/opt/anaconda3/envs/U4-S1-NLP/lib/python3.7/site-packages/ipykernel/ipkernel.py:287: DeprecationWarning: `should_run_async` will not call `transform_cell` automatically in the future. Please pass the result to `transformed_cell` argument and any exception that happen during thetransform in `preprocessing_exc_tuple` in IPython 7.17 and above.\n",
      "  and should_run_async(code)\n"
     ]
    }
   ],
   "source": [
    "for id, t in enumerate(topic_labels): \n",
    "    print(f\"------ Topic {id} ------\")\n",
    "    print(t, end=\"\\n\\n\")"
   ]
  },
  {
   "cell_type": "code",
   "execution_count": 272,
   "metadata": {},
   "outputs": [
    {
     "name": "stderr",
     "output_type": "stream",
     "text": [
      "/Users/shahnam/opt/anaconda3/envs/U4-S1-NLP/lib/python3.7/site-packages/ipykernel/ipkernel.py:287: DeprecationWarning: `should_run_async` will not call `transform_cell` automatically in the future. Please pass the result to `transformed_cell` argument and any exception that happen during thetransform in `preprocessing_exc_tuple` in IPython 7.17 and above.\n",
      "  and should_run_async(code)\n"
     ]
    },
    {
     "data": {
      "text/plain": [
       "[(0, 0.10377862),\n",
       " (1, 0.124557465),\n",
       " (2, 0.08456643),\n",
       " (3, 0.08116452),\n",
       " (4, 0.1082602),\n",
       " (5, 0.10491256),\n",
       " (6, 0.114996254),\n",
       " (7, 0.113580994),\n",
       " (8, 0.08474555),\n",
       " (9, 0.07943745)]"
      ]
     },
     "execution_count": 272,
     "metadata": {},
     "output_type": "execute_result"
    }
   ],
   "source": [
    "# estimated percentage of topics that exist in each document\n",
    "distro = [lda[doc] for doc in corpus]\n",
    "distro[0]"
   ]
  },
  {
   "cell_type": "code",
   "execution_count": 274,
   "metadata": {},
   "outputs": [
    {
     "name": "stderr",
     "output_type": "stream",
     "text": [
      "/Users/shahnam/opt/anaconda3/envs/U4-S1-NLP/lib/python3.7/site-packages/ipykernel/ipkernel.py:287: DeprecationWarning: `should_run_async` will not call `transform_cell` automatically in the future. Please pass the result to `transformed_cell` argument and any exception that happen during thetransform in `preprocessing_exc_tuple` in IPython 7.17 and above.\n",
      "  and should_run_async(code)\n"
     ]
    }
   ],
   "source": [
    "def update(doc):\n",
    "    \"\"\"fills all the irrelevant topic keys for document doc with 0 distribution probability\"\"\"\n",
    "    d_dist = {k:0 for k in range(0,10)}\n",
    "    for t in doc:\n",
    "        #update topic # t[0] key with t[1] value\n",
    "        d_dist[t[0]] = t[1]\n",
    "    return d_dist\n",
    "\n",
    "new_distro = [update(doc) for doc in distro] "
   ]
  },
  {
   "cell_type": "code",
   "execution_count": 275,
   "metadata": {},
   "outputs": [
    {
     "name": "stdout",
     "output_type": "stream",
     "text": [
      "(10000, 10)\n"
     ]
    },
    {
     "name": "stderr",
     "output_type": "stream",
     "text": [
      "/Users/shahnam/opt/anaconda3/envs/U4-S1-NLP/lib/python3.7/site-packages/ipykernel/ipkernel.py:287: DeprecationWarning: `should_run_async` will not call `transform_cell` automatically in the future. Please pass the result to `transformed_cell` argument and any exception that happen during thetransform in `preprocessing_exc_tuple` in IPython 7.17 and above.\n",
      "  and should_run_async(code)\n"
     ]
    },
    {
     "data": {
      "text/html": [
       "<div>\n",
       "<style scoped>\n",
       "    .dataframe tbody tr th:only-of-type {\n",
       "        vertical-align: middle;\n",
       "    }\n",
       "\n",
       "    .dataframe tbody tr th {\n",
       "        vertical-align: top;\n",
       "    }\n",
       "\n",
       "    .dataframe thead th {\n",
       "        text-align: right;\n",
       "    }\n",
       "</style>\n",
       "<table border=\"1\" class=\"dataframe\">\n",
       "  <thead>\n",
       "    <tr style=\"text-align: right;\">\n",
       "      <th></th>\n",
       "      <th>\"place\", \"food\", \"great\", \"like\", \"time\", \"try\", \"service\", \"love\", \"order\", \"chicken\"</th>\n",
       "      <th>\"food\", \"place\", \"time\", \"great\", \"service\", \"like\", \"order\", \"recommend\", \"love\", \"day\"</th>\n",
       "      <th>\"place\", \"time\", \"great\", \"food\", \"like\", \"service\", \"order\", \"try\", \"love\", \"want\"</th>\n",
       "      <th>\"food\", \"place\", \"service\", \"like\", \"order\", \"time\", \"great\", \"try\", \"find\", \"look\"</th>\n",
       "      <th>\"place\", \"food\", \"service\", \"time\", \"great\", \"order\", \"like\", \"try\", \"love\", \"nice\"</th>\n",
       "      <th>\"food\", \"time\", \"place\", \"service\", \"like\", \"order\", \"great\", \"try\", \"love\", \"eat\"</th>\n",
       "      <th>\"great\", \"food\", \"place\", \"service\", \"time\", \"order\", \"like\", \"look\", \"try\", \"want\"</th>\n",
       "      <th>\"place\", \"great\", \"time\", \"like\", \"order\", \"food\", \"service\", \"try\", \"little\", \"look\"</th>\n",
       "      <th>\"place\", \"food\", \"service\", \"time\", \"great\", \"like\", \"order\", \"try\", \"love\", \"wait\"</th>\n",
       "      <th>\"place\", \"great\", \"food\", \"service\", \"order\", \"like\", \"time\", \"want\", \"try\", \"love\"</th>\n",
       "    </tr>\n",
       "  </thead>\n",
       "  <tbody>\n",
       "    <tr>\n",
       "      <th>0</th>\n",
       "      <td>0.103779</td>\n",
       "      <td>0.124557</td>\n",
       "      <td>0.084566</td>\n",
       "      <td>0.081165</td>\n",
       "      <td>0.108260</td>\n",
       "      <td>0.104913</td>\n",
       "      <td>0.114996</td>\n",
       "      <td>0.113581</td>\n",
       "      <td>0.084746</td>\n",
       "      <td>0.079437</td>\n",
       "    </tr>\n",
       "    <tr>\n",
       "      <th>1</th>\n",
       "      <td>0.094039</td>\n",
       "      <td>0.082169</td>\n",
       "      <td>0.096152</td>\n",
       "      <td>0.090466</td>\n",
       "      <td>0.110798</td>\n",
       "      <td>0.111954</td>\n",
       "      <td>0.099092</td>\n",
       "      <td>0.104850</td>\n",
       "      <td>0.116100</td>\n",
       "      <td>0.094380</td>\n",
       "    </tr>\n",
       "    <tr>\n",
       "      <th>2</th>\n",
       "      <td>0.097951</td>\n",
       "      <td>0.103597</td>\n",
       "      <td>0.092476</td>\n",
       "      <td>0.107979</td>\n",
       "      <td>0.099433</td>\n",
       "      <td>0.105340</td>\n",
       "      <td>0.107286</td>\n",
       "      <td>0.103595</td>\n",
       "      <td>0.096338</td>\n",
       "      <td>0.086005</td>\n",
       "    </tr>\n",
       "    <tr>\n",
       "      <th>3</th>\n",
       "      <td>0.079111</td>\n",
       "      <td>0.100229</td>\n",
       "      <td>0.065564</td>\n",
       "      <td>0.161842</td>\n",
       "      <td>0.091863</td>\n",
       "      <td>0.116539</td>\n",
       "      <td>0.096105</td>\n",
       "      <td>0.095765</td>\n",
       "      <td>0.097178</td>\n",
       "      <td>0.095804</td>\n",
       "    </tr>\n",
       "    <tr>\n",
       "      <th>4</th>\n",
       "      <td>0.140254</td>\n",
       "      <td>0.086722</td>\n",
       "      <td>0.097698</td>\n",
       "      <td>0.104076</td>\n",
       "      <td>0.083738</td>\n",
       "      <td>0.093123</td>\n",
       "      <td>0.115259</td>\n",
       "      <td>0.085025</td>\n",
       "      <td>0.081442</td>\n",
       "      <td>0.112662</td>\n",
       "    </tr>\n",
       "  </tbody>\n",
       "</table>\n",
       "</div>"
      ],
      "text/plain": [
       "   \"place\", \"food\", \"great\", \"like\", \"time\", \"try\", \"service\", \"love\", \"order\", \"chicken\"  \\\n",
       "0                                           0.103779                                        \n",
       "1                                           0.094039                                        \n",
       "2                                           0.097951                                        \n",
       "3                                           0.079111                                        \n",
       "4                                           0.140254                                        \n",
       "\n",
       "   \"food\", \"place\", \"time\", \"great\", \"service\", \"like\", \"order\", \"recommend\", \"love\", \"day\"  \\\n",
       "0                                           0.124557                                          \n",
       "1                                           0.082169                                          \n",
       "2                                           0.103597                                          \n",
       "3                                           0.100229                                          \n",
       "4                                           0.086722                                          \n",
       "\n",
       "   \"place\", \"time\", \"great\", \"food\", \"like\", \"service\", \"order\", \"try\", \"love\", \"want\"  \\\n",
       "0                                           0.084566                                     \n",
       "1                                           0.096152                                     \n",
       "2                                           0.092476                                     \n",
       "3                                           0.065564                                     \n",
       "4                                           0.097698                                     \n",
       "\n",
       "   \"food\", \"place\", \"service\", \"like\", \"order\", \"time\", \"great\", \"try\", \"find\", \"look\"  \\\n",
       "0                                           0.081165                                     \n",
       "1                                           0.090466                                     \n",
       "2                                           0.107979                                     \n",
       "3                                           0.161842                                     \n",
       "4                                           0.104076                                     \n",
       "\n",
       "   \"place\", \"food\", \"service\", \"time\", \"great\", \"order\", \"like\", \"try\", \"love\", \"nice\"  \\\n",
       "0                                           0.108260                                     \n",
       "1                                           0.110798                                     \n",
       "2                                           0.099433                                     \n",
       "3                                           0.091863                                     \n",
       "4                                           0.083738                                     \n",
       "\n",
       "   \"food\", \"time\", \"place\", \"service\", \"like\", \"order\", \"great\", \"try\", \"love\", \"eat\"  \\\n",
       "0                                           0.104913                                    \n",
       "1                                           0.111954                                    \n",
       "2                                           0.105340                                    \n",
       "3                                           0.116539                                    \n",
       "4                                           0.093123                                    \n",
       "\n",
       "   \"great\", \"food\", \"place\", \"service\", \"time\", \"order\", \"like\", \"look\", \"try\", \"want\"  \\\n",
       "0                                           0.114996                                     \n",
       "1                                           0.099092                                     \n",
       "2                                           0.107286                                     \n",
       "3                                           0.096105                                     \n",
       "4                                           0.115259                                     \n",
       "\n",
       "   \"place\", \"great\", \"time\", \"like\", \"order\", \"food\", \"service\", \"try\", \"little\", \"look\"  \\\n",
       "0                                           0.113581                                       \n",
       "1                                           0.104850                                       \n",
       "2                                           0.103595                                       \n",
       "3                                           0.095765                                       \n",
       "4                                           0.085025                                       \n",
       "\n",
       "   \"place\", \"food\", \"service\", \"time\", \"great\", \"like\", \"order\", \"try\", \"love\", \"wait\"  \\\n",
       "0                                           0.084746                                     \n",
       "1                                           0.116100                                     \n",
       "2                                           0.096338                                     \n",
       "3                                           0.097178                                     \n",
       "4                                           0.081442                                     \n",
       "\n",
       "   \"place\", \"great\", \"food\", \"service\", \"order\", \"like\", \"time\", \"want\", \"try\", \"love\"  \n",
       "0                                           0.079437                                    \n",
       "1                                           0.094380                                    \n",
       "2                                           0.086005                                    \n",
       "3                                           0.095804                                    \n",
       "4                                           0.112662                                    "
      ]
     },
     "execution_count": 275,
     "metadata": {},
     "output_type": "execute_result"
    }
   ],
   "source": [
    "# .from_records Creates a DataFrame object from a structured ndarray, sequence of tuples or dicts, or DataFrame\n",
    "topics = pd.DataFrame.from_records(new_distro)\n",
    "topics.columns = topic_labels\n",
    "print(topics.shape)\n",
    "topics.head()"
   ]
  },
  {
   "cell_type": "code",
   "execution_count": 276,
   "metadata": {},
   "outputs": [
    {
     "name": "stderr",
     "output_type": "stream",
     "text": [
      "/Users/shahnam/opt/anaconda3/envs/U4-S1-NLP/lib/python3.7/site-packages/ipykernel/ipkernel.py:287: DeprecationWarning: `should_run_async` will not call `transform_cell` automatically in the future. Please pass the result to `transformed_cell` argument and any exception that happen during thetransform in `preprocessing_exc_tuple` in IPython 7.17 and above.\n",
      "  and should_run_async(code)\n"
     ]
    }
   ],
   "source": [
    "# find the index on axis=1 where the value in the row is max\n",
    "yelp['primary_topic'] = topics.idxmax(axis=1)"
   ]
  },
  {
   "cell_type": "code",
   "execution_count": 277,
   "metadata": {},
   "outputs": [
    {
     "name": "stderr",
     "output_type": "stream",
     "text": [
      "/Users/shahnam/opt/anaconda3/envs/U4-S1-NLP/lib/python3.7/site-packages/ipykernel/ipkernel.py:287: DeprecationWarning: `should_run_async` will not call `transform_cell` automatically in the future. Please pass the result to `transformed_cell` argument and any exception that happen during thetransform in `preprocessing_exc_tuple` in IPython 7.17 and above.\n",
      "  and should_run_async(code)\n"
     ]
    },
    {
     "data": {
      "text/plain": [
       "\"place\", \"great\", \"food\", \"service\", \"order\", \"like\", \"time\", \"want\", \"try\", \"love\"         1191\n",
       "\"great\", \"food\", \"place\", \"service\", \"time\", \"order\", \"like\", \"look\", \"try\", \"want\"         1053\n",
       "\"food\", \"place\", \"service\", \"like\", \"order\", \"time\", \"great\", \"try\", \"find\", \"look\"         1023\n",
       "\"place\", \"food\", \"service\", \"time\", \"great\", \"order\", \"like\", \"try\", \"love\", \"nice\"         1015\n",
       "\"food\", \"place\", \"time\", \"great\", \"service\", \"like\", \"order\", \"recommend\", \"love\", \"day\"    1003\n",
       "\"place\", \"food\", \"service\", \"time\", \"great\", \"like\", \"order\", \"try\", \"love\", \"wait\"          979\n",
       "\"place\", \"food\", \"great\", \"like\", \"time\", \"try\", \"service\", \"love\", \"order\", \"chicken\"       974\n",
       "\"place\", \"great\", \"time\", \"like\", \"order\", \"food\", \"service\", \"try\", \"little\", \"look\"        970\n",
       "\"food\", \"time\", \"place\", \"service\", \"like\", \"order\", \"great\", \"try\", \"love\", \"eat\"           897\n",
       "\"place\", \"time\", \"great\", \"food\", \"like\", \"service\", \"order\", \"try\", \"love\", \"want\"          895\n",
       "Name: primary_topic, dtype: int64"
      ]
     },
     "execution_count": 277,
     "metadata": {},
     "output_type": "execute_result"
    }
   ],
   "source": [
    "yelp['primary_topic'].value_counts()"
   ]
  },
  {
   "cell_type": "code",
   "execution_count": 278,
   "metadata": {},
   "outputs": [
    {
     "name": "stderr",
     "output_type": "stream",
     "text": [
      "/Users/shahnam/opt/anaconda3/envs/U4-S1-NLP/lib/python3.7/site-packages/ipykernel/ipkernel.py:287: DeprecationWarning: `should_run_async` will not call `transform_cell` automatically in the future. Please pass the result to `transformed_cell` argument and any exception that happen during thetransform in `preprocessing_exc_tuple` in IPython 7.17 and above.\n",
      "  and should_run_async(code)\n"
     ]
    }
   ],
   "source": [
    "# Count number of reviews for each primary_topic that have different star ratings\n",
    "agg = pd.pivot_table(yelp, values=['text'], \n",
    "                     index=['primary_topic'], \n",
    "                     columns=['stars'], aggfunc='count')"
   ]
  },
  {
   "cell_type": "code",
   "execution_count": 280,
   "metadata": {},
   "outputs": [
    {
     "name": "stderr",
     "output_type": "stream",
     "text": [
      "/Users/shahnam/opt/anaconda3/envs/U4-S1-NLP/lib/python3.7/site-packages/ipykernel/ipkernel.py:287: DeprecationWarning: `should_run_async` will not call `transform_cell` automatically in the future. Please pass the result to `transformed_cell` argument and any exception that happen during thetransform in `preprocessing_exc_tuple` in IPython 7.17 and above.\n",
      "  and should_run_async(code)\n"
     ]
    },
    {
     "data": {
      "text/html": [
       "<div>\n",
       "<style scoped>\n",
       "    .dataframe tbody tr th:only-of-type {\n",
       "        vertical-align: middle;\n",
       "    }\n",
       "\n",
       "    .dataframe tbody tr th {\n",
       "        vertical-align: top;\n",
       "    }\n",
       "\n",
       "    .dataframe thead tr th {\n",
       "        text-align: left;\n",
       "    }\n",
       "\n",
       "    .dataframe thead tr:last-of-type th {\n",
       "        text-align: right;\n",
       "    }\n",
       "</style>\n",
       "<table border=\"1\" class=\"dataframe\">\n",
       "  <thead>\n",
       "    <tr>\n",
       "      <th></th>\n",
       "      <th colspan=\"5\" halign=\"left\">text</th>\n",
       "    </tr>\n",
       "    <tr>\n",
       "      <th>stars</th>\n",
       "      <th>1</th>\n",
       "      <th>2</th>\n",
       "      <th>3</th>\n",
       "      <th>4</th>\n",
       "      <th>5</th>\n",
       "    </tr>\n",
       "    <tr>\n",
       "      <th>primary_topic</th>\n",
       "      <th></th>\n",
       "      <th></th>\n",
       "      <th></th>\n",
       "      <th></th>\n",
       "      <th></th>\n",
       "    </tr>\n",
       "  </thead>\n",
       "  <tbody>\n",
       "    <tr>\n",
       "      <th>\"food\", \"place\", \"service\", \"like\", \"order\", \"time\", \"great\", \"try\", \"find\", \"look\"</th>\n",
       "      <td>177</td>\n",
       "      <td>86</td>\n",
       "      <td>110</td>\n",
       "      <td>217</td>\n",
       "      <td>433</td>\n",
       "    </tr>\n",
       "    <tr>\n",
       "      <th>\"food\", \"place\", \"time\", \"great\", \"service\", \"like\", \"order\", \"recommend\", \"love\", \"day\"</th>\n",
       "      <td>161</td>\n",
       "      <td>75</td>\n",
       "      <td>89</td>\n",
       "      <td>200</td>\n",
       "      <td>478</td>\n",
       "    </tr>\n",
       "    <tr>\n",
       "      <th>\"food\", \"time\", \"place\", \"service\", \"like\", \"order\", \"great\", \"try\", \"love\", \"eat\"</th>\n",
       "      <td>148</td>\n",
       "      <td>74</td>\n",
       "      <td>112</td>\n",
       "      <td>190</td>\n",
       "      <td>373</td>\n",
       "    </tr>\n",
       "    <tr>\n",
       "      <th>\"great\", \"food\", \"place\", \"service\", \"time\", \"order\", \"like\", \"look\", \"try\", \"want\"</th>\n",
       "      <td>150</td>\n",
       "      <td>83</td>\n",
       "      <td>118</td>\n",
       "      <td>219</td>\n",
       "      <td>483</td>\n",
       "    </tr>\n",
       "    <tr>\n",
       "      <th>\"place\", \"food\", \"great\", \"like\", \"time\", \"try\", \"service\", \"love\", \"order\", \"chicken\"</th>\n",
       "      <td>155</td>\n",
       "      <td>69</td>\n",
       "      <td>105</td>\n",
       "      <td>212</td>\n",
       "      <td>433</td>\n",
       "    </tr>\n",
       "    <tr>\n",
       "      <th>\"place\", \"food\", \"service\", \"time\", \"great\", \"like\", \"order\", \"try\", \"love\", \"wait\"</th>\n",
       "      <td>131</td>\n",
       "      <td>88</td>\n",
       "      <td>123</td>\n",
       "      <td>215</td>\n",
       "      <td>422</td>\n",
       "    </tr>\n",
       "    <tr>\n",
       "      <th>\"place\", \"food\", \"service\", \"time\", \"great\", \"order\", \"like\", \"try\", \"love\", \"nice\"</th>\n",
       "      <td>155</td>\n",
       "      <td>63</td>\n",
       "      <td>107</td>\n",
       "      <td>226</td>\n",
       "      <td>464</td>\n",
       "    </tr>\n",
       "    <tr>\n",
       "      <th>\"place\", \"great\", \"food\", \"service\", \"order\", \"like\", \"time\", \"want\", \"try\", \"love\"</th>\n",
       "      <td>165</td>\n",
       "      <td>89</td>\n",
       "      <td>121</td>\n",
       "      <td>275</td>\n",
       "      <td>541</td>\n",
       "    </tr>\n",
       "    <tr>\n",
       "      <th>\"place\", \"great\", \"time\", \"like\", \"order\", \"food\", \"service\", \"try\", \"little\", \"look\"</th>\n",
       "      <td>123</td>\n",
       "      <td>62</td>\n",
       "      <td>116</td>\n",
       "      <td>237</td>\n",
       "      <td>432</td>\n",
       "    </tr>\n",
       "    <tr>\n",
       "      <th>\"place\", \"time\", \"great\", \"food\", \"like\", \"service\", \"order\", \"try\", \"love\", \"want\"</th>\n",
       "      <td>131</td>\n",
       "      <td>70</td>\n",
       "      <td>97</td>\n",
       "      <td>194</td>\n",
       "      <td>403</td>\n",
       "    </tr>\n",
       "  </tbody>\n",
       "</table>\n",
       "</div>"
      ],
      "text/plain": [
       "                                                   text                   \n",
       "stars                                                 1   2    3    4    5\n",
       "primary_topic                                                             \n",
       "\"food\", \"place\", \"service\", \"like\", \"order\", \"t...  177  86  110  217  433\n",
       "\"food\", \"place\", \"time\", \"great\", \"service\", \"l...  161  75   89  200  478\n",
       "\"food\", \"time\", \"place\", \"service\", \"like\", \"or...  148  74  112  190  373\n",
       "\"great\", \"food\", \"place\", \"service\", \"time\", \"o...  150  83  118  219  483\n",
       "\"place\", \"food\", \"great\", \"like\", \"time\", \"try\"...  155  69  105  212  433\n",
       "\"place\", \"food\", \"service\", \"time\", \"great\", \"l...  131  88  123  215  422\n",
       "\"place\", \"food\", \"service\", \"time\", \"great\", \"o...  155  63  107  226  464\n",
       "\"place\", \"great\", \"food\", \"service\", \"order\", \"...  165  89  121  275  541\n",
       "\"place\", \"great\", \"time\", \"like\", \"order\", \"foo...  123  62  116  237  432\n",
       "\"place\", \"time\", \"great\", \"food\", \"like\", \"serv...  131  70   97  194  403"
      ]
     },
     "execution_count": 280,
     "metadata": {},
     "output_type": "execute_result"
    }
   ],
   "source": [
    "agg"
   ]
  },
  {
   "cell_type": "code",
   "execution_count": 281,
   "metadata": {},
   "outputs": [
    {
     "name": "stderr",
     "output_type": "stream",
     "text": [
      "/Users/shahnam/opt/anaconda3/envs/U4-S1-NLP/lib/python3.7/site-packages/ipykernel/ipkernel.py:287: DeprecationWarning: `should_run_async` will not call `transform_cell` automatically in the future. Please pass the result to `transformed_cell` argument and any exception that happen during thetransform in `preprocessing_exc_tuple` in IPython 7.17 and above.\n",
      "  and should_run_async(code)\n"
     ]
    },
    {
     "data": {
      "text/html": [
       "<div>\n",
       "<style scoped>\n",
       "    .dataframe tbody tr th:only-of-type {\n",
       "        vertical-align: middle;\n",
       "    }\n",
       "\n",
       "    .dataframe tbody tr th {\n",
       "        vertical-align: top;\n",
       "    }\n",
       "\n",
       "    .dataframe thead th {\n",
       "        text-align: right;\n",
       "    }\n",
       "</style>\n",
       "<table border=\"1\" class=\"dataframe\">\n",
       "  <thead>\n",
       "    <tr style=\"text-align: right;\">\n",
       "      <th></th>\n",
       "      <th>primary_topic</th>\n",
       "      <th>star1</th>\n",
       "      <th>star2</th>\n",
       "      <th>star3</th>\n",
       "      <th>star4</th>\n",
       "      <th>star5</th>\n",
       "    </tr>\n",
       "  </thead>\n",
       "  <tbody>\n",
       "    <tr>\n",
       "      <th>0</th>\n",
       "      <td>\"food\", \"place\", \"service\", \"like\", \"order\", \"...</td>\n",
       "      <td>177</td>\n",
       "      <td>86</td>\n",
       "      <td>110</td>\n",
       "      <td>217</td>\n",
       "      <td>433</td>\n",
       "    </tr>\n",
       "    <tr>\n",
       "      <th>1</th>\n",
       "      <td>\"food\", \"place\", \"time\", \"great\", \"service\", \"...</td>\n",
       "      <td>161</td>\n",
       "      <td>75</td>\n",
       "      <td>89</td>\n",
       "      <td>200</td>\n",
       "      <td>478</td>\n",
       "    </tr>\n",
       "    <tr>\n",
       "      <th>2</th>\n",
       "      <td>\"food\", \"time\", \"place\", \"service\", \"like\", \"o...</td>\n",
       "      <td>148</td>\n",
       "      <td>74</td>\n",
       "      <td>112</td>\n",
       "      <td>190</td>\n",
       "      <td>373</td>\n",
       "    </tr>\n",
       "    <tr>\n",
       "      <th>3</th>\n",
       "      <td>\"great\", \"food\", \"place\", \"service\", \"time\", \"...</td>\n",
       "      <td>150</td>\n",
       "      <td>83</td>\n",
       "      <td>118</td>\n",
       "      <td>219</td>\n",
       "      <td>483</td>\n",
       "    </tr>\n",
       "    <tr>\n",
       "      <th>4</th>\n",
       "      <td>\"place\", \"food\", \"great\", \"like\", \"time\", \"try...</td>\n",
       "      <td>155</td>\n",
       "      <td>69</td>\n",
       "      <td>105</td>\n",
       "      <td>212</td>\n",
       "      <td>433</td>\n",
       "    </tr>\n",
       "  </tbody>\n",
       "</table>\n",
       "</div>"
      ],
      "text/plain": [
       "                                       primary_topic  star1  star2  star3  \\\n",
       "0  \"food\", \"place\", \"service\", \"like\", \"order\", \"...    177     86    110   \n",
       "1  \"food\", \"place\", \"time\", \"great\", \"service\", \"...    161     75     89   \n",
       "2  \"food\", \"time\", \"place\", \"service\", \"like\", \"o...    148     74    112   \n",
       "3  \"great\", \"food\", \"place\", \"service\", \"time\", \"...    150     83    118   \n",
       "4  \"place\", \"food\", \"great\", \"like\", \"time\", \"try...    155     69    105   \n",
       "\n",
       "   star4  star5  \n",
       "0    217    433  \n",
       "1    200    478  \n",
       "2    190    373  \n",
       "3    219    483  \n",
       "4    212    433  "
      ]
     },
     "execution_count": 281,
     "metadata": {},
     "output_type": "execute_result"
    }
   ],
   "source": [
    "# Remov the nested columns\n",
    "agg = agg.reset_index()\n",
    "agg.columns = ['primary_topic', 'star1', 'star2', 'star3', 'star4', 'star5']\n",
    "agg.head()"
   ]
  },
  {
   "cell_type": "code",
   "execution_count": 284,
   "metadata": {},
   "outputs": [
    {
     "name": "stderr",
     "output_type": "stream",
     "text": [
      "/Users/shahnam/opt/anaconda3/envs/U4-S1-NLP/lib/python3.7/site-packages/ipykernel/ipkernel.py:287: DeprecationWarning: `should_run_async` will not call `transform_cell` automatically in the future. Please pass the result to `transformed_cell` argument and any exception that happen during thetransform in `preprocessing_exc_tuple` in IPython 7.17 and above.\n",
      "  and should_run_async(code)\n"
     ]
    },
    {
     "ename": "AttributeError",
     "evalue": "'Rectangle' object has no property 'stacked'",
     "output_type": "error",
     "traceback": [
      "\u001b[0;31m---------------------------------------------------------------------------\u001b[0m",
      "\u001b[0;31mAttributeError\u001b[0m                            Traceback (most recent call last)",
      "\u001b[0;32m<ipython-input-284-1f21c2754eab>\u001b[0m in \u001b[0;36m<module>\u001b[0;34m\u001b[0m\n\u001b[1;32m      8\u001b[0m \u001b[0;34m\u001b[0m\u001b[0m\n\u001b[1;32m      9\u001b[0m \u001b[0msns\u001b[0m\u001b[0;34m.\u001b[0m\u001b[0mset_color_codes\u001b[0m\u001b[0;34m(\u001b[0m\u001b[0;34m'pastel'\u001b[0m\u001b[0;34m)\u001b[0m\u001b[0;34m\u001b[0m\u001b[0m\n\u001b[0;32m---> 10\u001b[0;31m \u001b[0msns\u001b[0m\u001b[0;34m.\u001b[0m\u001b[0mbarplot\u001b[0m\u001b[0;34m(\u001b[0m\u001b[0mx\u001b[0m\u001b[0;34m=\u001b[0m\u001b[0;34m'star1'\u001b[0m\u001b[0;34m,\u001b[0m \u001b[0my\u001b[0m\u001b[0;34m=\u001b[0m\u001b[0;34m'primary_topic'\u001b[0m\u001b[0;34m,\u001b[0m \u001b[0mdata\u001b[0m\u001b[0;34m=\u001b[0m\u001b[0magg\u001b[0m\u001b[0;34m,\u001b[0m \u001b[0mlabel\u001b[0m\u001b[0;34m=\u001b[0m\u001b[0;34m\"STAR1\"\u001b[0m\u001b[0;34m,\u001b[0m \u001b[0mcolor\u001b[0m\u001b[0;34m=\u001b[0m\u001b[0;34m\"r\"\u001b[0m\u001b[0;34m,\u001b[0m \u001b[0malpha\u001b[0m\u001b[0;34m=\u001b[0m\u001b[0;36m0.2\u001b[0m\u001b[0;34m,\u001b[0m \u001b[0mstacked\u001b[0m\u001b[0;34m=\u001b[0m\u001b[0;32mTrue\u001b[0m\u001b[0;34m)\u001b[0m\u001b[0;34m\u001b[0m\u001b[0m\n\u001b[0m\u001b[1;32m     11\u001b[0m \u001b[0;34m\u001b[0m\u001b[0m\n\u001b[1;32m     12\u001b[0m \u001b[0msns\u001b[0m\u001b[0;34m.\u001b[0m\u001b[0mset_color_codes\u001b[0m\u001b[0;34m(\u001b[0m\u001b[0;34m'muted'\u001b[0m\u001b[0;34m)\u001b[0m\u001b[0;34m\u001b[0m\u001b[0m\n",
      "\u001b[0;32m~/opt/anaconda3/envs/U4-S1-NLP/lib/python3.7/site-packages/seaborn/categorical.py\u001b[0m in \u001b[0;36mbarplot\u001b[0;34m(x, y, hue, data, order, hue_order, estimator, ci, n_boot, units, orient, color, palette, saturation, errcolor, errwidth, capsize, dodge, ax, **kwargs)\u001b[0m\n\u001b[1;32m   3152\u001b[0m         \u001b[0max\u001b[0m \u001b[0;34m=\u001b[0m \u001b[0mplt\u001b[0m\u001b[0;34m.\u001b[0m\u001b[0mgca\u001b[0m\u001b[0;34m(\u001b[0m\u001b[0;34m)\u001b[0m\u001b[0;34m\u001b[0m\u001b[0m\n\u001b[1;32m   3153\u001b[0m \u001b[0;34m\u001b[0m\u001b[0m\n\u001b[0;32m-> 3154\u001b[0;31m     \u001b[0mplotter\u001b[0m\u001b[0;34m.\u001b[0m\u001b[0mplot\u001b[0m\u001b[0;34m(\u001b[0m\u001b[0max\u001b[0m\u001b[0;34m,\u001b[0m \u001b[0mkwargs\u001b[0m\u001b[0;34m)\u001b[0m\u001b[0;34m\u001b[0m\u001b[0m\n\u001b[0m\u001b[1;32m   3155\u001b[0m     \u001b[0;32mreturn\u001b[0m \u001b[0max\u001b[0m\u001b[0;34m\u001b[0m\u001b[0m\n\u001b[1;32m   3156\u001b[0m \u001b[0;34m\u001b[0m\u001b[0m\n",
      "\u001b[0;32m~/opt/anaconda3/envs/U4-S1-NLP/lib/python3.7/site-packages/seaborn/categorical.py\u001b[0m in \u001b[0;36mplot\u001b[0;34m(self, ax, bar_kws)\u001b[0m\n\u001b[1;32m   1659\u001b[0m     \u001b[0;32mdef\u001b[0m \u001b[0mplot\u001b[0m\u001b[0;34m(\u001b[0m\u001b[0mself\u001b[0m\u001b[0;34m,\u001b[0m \u001b[0max\u001b[0m\u001b[0;34m,\u001b[0m \u001b[0mbar_kws\u001b[0m\u001b[0;34m)\u001b[0m\u001b[0;34m:\u001b[0m\u001b[0;34m\u001b[0m\u001b[0m\n\u001b[1;32m   1660\u001b[0m         \u001b[0;34m\"\"\"Make the plot.\"\"\"\u001b[0m\u001b[0;34m\u001b[0m\u001b[0m\n\u001b[0;32m-> 1661\u001b[0;31m         \u001b[0mself\u001b[0m\u001b[0;34m.\u001b[0m\u001b[0mdraw_bars\u001b[0m\u001b[0;34m(\u001b[0m\u001b[0max\u001b[0m\u001b[0;34m,\u001b[0m \u001b[0mbar_kws\u001b[0m\u001b[0;34m)\u001b[0m\u001b[0;34m\u001b[0m\u001b[0m\n\u001b[0m\u001b[1;32m   1662\u001b[0m         \u001b[0mself\u001b[0m\u001b[0;34m.\u001b[0m\u001b[0mannotate_axes\u001b[0m\u001b[0;34m(\u001b[0m\u001b[0max\u001b[0m\u001b[0;34m)\u001b[0m\u001b[0;34m\u001b[0m\u001b[0m\n\u001b[1;32m   1663\u001b[0m         \u001b[0;32mif\u001b[0m \u001b[0mself\u001b[0m\u001b[0;34m.\u001b[0m\u001b[0morient\u001b[0m \u001b[0;34m==\u001b[0m \u001b[0;34m\"h\"\u001b[0m\u001b[0;34m:\u001b[0m\u001b[0;34m\u001b[0m\u001b[0m\n",
      "\u001b[0;32m~/opt/anaconda3/envs/U4-S1-NLP/lib/python3.7/site-packages/seaborn/categorical.py\u001b[0m in \u001b[0;36mdraw_bars\u001b[0;34m(self, ax, kws)\u001b[0m\n\u001b[1;32m   1625\u001b[0m             \u001b[0;31m# Draw the bars\u001b[0m\u001b[0;34m\u001b[0m\u001b[0;34m\u001b[0m\u001b[0m\n\u001b[1;32m   1626\u001b[0m             barfunc(barpos, self.statistic, self.width,\n\u001b[0;32m-> 1627\u001b[0;31m                     color=self.colors, align=\"center\", **kws)\n\u001b[0m\u001b[1;32m   1628\u001b[0m \u001b[0;34m\u001b[0m\u001b[0m\n\u001b[1;32m   1629\u001b[0m             \u001b[0;31m# Draw the confidence intervals\u001b[0m\u001b[0;34m\u001b[0m\u001b[0;34m\u001b[0m\u001b[0m\n",
      "\u001b[0;32m~/opt/anaconda3/envs/U4-S1-NLP/lib/python3.7/site-packages/matplotlib/axes/_axes.py\u001b[0m in \u001b[0;36mbarh\u001b[0;34m(self, y, width, height, left, align, **kwargs)\u001b[0m\n\u001b[1;32m   2629\u001b[0m         \u001b[0mkwargs\u001b[0m\u001b[0;34m.\u001b[0m\u001b[0msetdefault\u001b[0m\u001b[0;34m(\u001b[0m\u001b[0;34m'orientation'\u001b[0m\u001b[0;34m,\u001b[0m \u001b[0;34m'horizontal'\u001b[0m\u001b[0;34m)\u001b[0m\u001b[0;34m\u001b[0m\u001b[0m\n\u001b[1;32m   2630\u001b[0m         patches = self.bar(x=left, height=height, width=width, bottom=y,\n\u001b[0;32m-> 2631\u001b[0;31m                            align=align, **kwargs)\n\u001b[0m\u001b[1;32m   2632\u001b[0m         \u001b[0;32mreturn\u001b[0m \u001b[0mpatches\u001b[0m\u001b[0;34m\u001b[0m\u001b[0m\n\u001b[1;32m   2633\u001b[0m \u001b[0;34m\u001b[0m\u001b[0m\n",
      "\u001b[0;32m~/opt/anaconda3/envs/U4-S1-NLP/lib/python3.7/site-packages/matplotlib/__init__.py\u001b[0m in \u001b[0;36minner\u001b[0;34m(ax, data, *args, **kwargs)\u001b[0m\n\u001b[1;32m   1436\u001b[0m     \u001b[0;32mdef\u001b[0m \u001b[0minner\u001b[0m\u001b[0;34m(\u001b[0m\u001b[0max\u001b[0m\u001b[0;34m,\u001b[0m \u001b[0;34m*\u001b[0m\u001b[0margs\u001b[0m\u001b[0;34m,\u001b[0m \u001b[0mdata\u001b[0m\u001b[0;34m=\u001b[0m\u001b[0;32mNone\u001b[0m\u001b[0;34m,\u001b[0m \u001b[0;34m**\u001b[0m\u001b[0mkwargs\u001b[0m\u001b[0;34m)\u001b[0m\u001b[0;34m:\u001b[0m\u001b[0;34m\u001b[0m\u001b[0m\n\u001b[1;32m   1437\u001b[0m         \u001b[0;32mif\u001b[0m \u001b[0mdata\u001b[0m \u001b[0;32mis\u001b[0m \u001b[0;32mNone\u001b[0m\u001b[0;34m:\u001b[0m\u001b[0;34m\u001b[0m\u001b[0m\n\u001b[0;32m-> 1438\u001b[0;31m             \u001b[0;32mreturn\u001b[0m \u001b[0mfunc\u001b[0m\u001b[0;34m(\u001b[0m\u001b[0max\u001b[0m\u001b[0;34m,\u001b[0m \u001b[0;34m*\u001b[0m\u001b[0mmap\u001b[0m\u001b[0;34m(\u001b[0m\u001b[0msanitize_sequence\u001b[0m\u001b[0;34m,\u001b[0m \u001b[0margs\u001b[0m\u001b[0;34m)\u001b[0m\u001b[0;34m,\u001b[0m \u001b[0;34m**\u001b[0m\u001b[0mkwargs\u001b[0m\u001b[0;34m)\u001b[0m\u001b[0;34m\u001b[0m\u001b[0m\n\u001b[0m\u001b[1;32m   1439\u001b[0m \u001b[0;34m\u001b[0m\u001b[0m\n\u001b[1;32m   1440\u001b[0m         \u001b[0mbound\u001b[0m \u001b[0;34m=\u001b[0m \u001b[0mnew_sig\u001b[0m\u001b[0;34m.\u001b[0m\u001b[0mbind\u001b[0m\u001b[0;34m(\u001b[0m\u001b[0max\u001b[0m\u001b[0;34m,\u001b[0m \u001b[0;34m*\u001b[0m\u001b[0margs\u001b[0m\u001b[0;34m,\u001b[0m \u001b[0;34m**\u001b[0m\u001b[0mkwargs\u001b[0m\u001b[0;34m)\u001b[0m\u001b[0;34m\u001b[0m\u001b[0m\n",
      "\u001b[0;32m~/opt/anaconda3/envs/U4-S1-NLP/lib/python3.7/site-packages/matplotlib/axes/_axes.py\u001b[0m in \u001b[0;36mbar\u001b[0;34m(self, x, height, width, bottom, align, **kwargs)\u001b[0m\n\u001b[1;32m   2486\u001b[0m                 \u001b[0mlabel\u001b[0m\u001b[0;34m=\u001b[0m\u001b[0;34m'_nolegend_'\u001b[0m\u001b[0;34m,\u001b[0m\u001b[0;34m\u001b[0m\u001b[0m\n\u001b[1;32m   2487\u001b[0m                 )\n\u001b[0;32m-> 2488\u001b[0;31m             \u001b[0mr\u001b[0m\u001b[0;34m.\u001b[0m\u001b[0mupdate\u001b[0m\u001b[0;34m(\u001b[0m\u001b[0mkwargs\u001b[0m\u001b[0;34m)\u001b[0m\u001b[0;34m\u001b[0m\u001b[0m\n\u001b[0m\u001b[1;32m   2489\u001b[0m             \u001b[0mr\u001b[0m\u001b[0;34m.\u001b[0m\u001b[0mget_path\u001b[0m\u001b[0;34m(\u001b[0m\u001b[0;34m)\u001b[0m\u001b[0;34m.\u001b[0m\u001b[0m_interpolation_steps\u001b[0m \u001b[0;34m=\u001b[0m \u001b[0;36m100\u001b[0m\u001b[0;34m\u001b[0m\u001b[0m\n\u001b[1;32m   2490\u001b[0m             \u001b[0;32mif\u001b[0m \u001b[0morientation\u001b[0m \u001b[0;34m==\u001b[0m \u001b[0;34m'vertical'\u001b[0m\u001b[0;34m:\u001b[0m\u001b[0;34m\u001b[0m\u001b[0m\n",
      "\u001b[0;32m~/opt/anaconda3/envs/U4-S1-NLP/lib/python3.7/site-packages/matplotlib/artist.py\u001b[0m in \u001b[0;36mupdate\u001b[0;34m(self, props)\u001b[0m\n\u001b[1;32m    994\u001b[0m                     \u001b[0mfunc\u001b[0m \u001b[0;34m=\u001b[0m \u001b[0mgetattr\u001b[0m\u001b[0;34m(\u001b[0m\u001b[0mself\u001b[0m\u001b[0;34m,\u001b[0m \u001b[0;34mf\"set_{k}\"\u001b[0m\u001b[0;34m,\u001b[0m \u001b[0;32mNone\u001b[0m\u001b[0;34m)\u001b[0m\u001b[0;34m\u001b[0m\u001b[0m\n\u001b[1;32m    995\u001b[0m                     \u001b[0;32mif\u001b[0m \u001b[0;32mnot\u001b[0m \u001b[0mcallable\u001b[0m\u001b[0;34m(\u001b[0m\u001b[0mfunc\u001b[0m\u001b[0;34m)\u001b[0m\u001b[0;34m:\u001b[0m\u001b[0;34m\u001b[0m\u001b[0m\n\u001b[0;32m--> 996\u001b[0;31m                         raise AttributeError(f\"{type(self).__name__!r} object \"\n\u001b[0m\u001b[1;32m    997\u001b[0m                                              f\"has no property {k!r}\")\n\u001b[1;32m    998\u001b[0m                     \u001b[0mret\u001b[0m\u001b[0;34m.\u001b[0m\u001b[0mappend\u001b[0m\u001b[0;34m(\u001b[0m\u001b[0mfunc\u001b[0m\u001b[0;34m(\u001b[0m\u001b[0mv\u001b[0m\u001b[0;34m)\u001b[0m\u001b[0;34m)\u001b[0m\u001b[0;34m\u001b[0m\u001b[0m\n",
      "\u001b[0;31mAttributeError\u001b[0m: 'Rectangle' object has no property 'stacked'"
     ]
    },
    {
     "data": {
      "image/png": "[encoded data removed]",
      "text/plain": [
       "<Figure size 432x1080 with 1 Axes>"
      ]
     },
     "metadata": {},
     "output_type": "display_data"
    }
   ],
   "source": [
    "import seaborn as sns\n",
    "import matplotlib.pyplot as plt\n",
    "\n",
    "sns.set(style=\"whitegrid\")\n",
    "\n",
    "# Initialize the matplotlib figure\n",
    "f, ax = plt.subplots(figsize=(6, 15))\n",
    "\n",
    "sns.set_color_codes('pastel')\n",
    "sns.barplot(x='star1', y='primary_topic', data=agg, label=\"STAR1\", color=\"r\", alpha=0.2, stacked=True)\n",
    "\n",
    "sns.set_color_codes('muted')\n",
    "sns.barplot(x='star2', y='primary_topic', data=agg, label=\"STAR2\", color=\"g\", alpha=0.8)\n",
    "\n",
    "sns.set_color_codes('muted')\n",
    "sns.barplot(x='star3', y='primary_topic', data=agg, label=\"STAR3\", color=\"b\", alpha=0.3)\n",
    "\n",
    "sns.set_color_codes('pastel')\n",
    "sns.barplot(x='star4', y='primary_topic', data=agg, label=\"STAR4\", color=\"magenta\", alpha=0.1)\n",
    "\n",
    "sns.set_color_codes('pastel')\n",
    "sns.barplot(x='star5', y='primary_topic', data=agg, label=\"STAR5\", color=\"brown\", alpha=0.1)\n",
    "\n",
    "ax.legend(ncol=1, loc=\"lower right\", frameon=True)\n",
    "ax.set(xlim=(0,500), ylabel=\"star ratings\", xlabel=\"Count of Reviews\")\n",
    "sns.despine(left=True, bottom=True)"
   ]
  },
  {
   "cell_type": "code",
   "execution_count": 145,
   "metadata": {},
   "outputs": [
    {
     "name": "stderr",
     "output_type": "stream",
     "text": [
      "/Users/shahnam/opt/anaconda3/envs/U4-S1-NLP/lib/python3.7/site-packages/ipykernel/ipkernel.py:287: DeprecationWarning: `should_run_async` will not call `transform_cell` automatically in the future. Please pass the result to `transformed_cell` argument and any exception that happen during thetransform in `preprocessing_exc_tuple` in IPython 7.17 and above.\n",
      "  and should_run_async(code)\n"
     ]
    }
   ],
   "source": [
    "import pyLDAvis.gensim\n",
    "\n",
    "pyLDAvis.enable_notebook()"
   ]
  },
  {
   "cell_type": "code",
   "execution_count": 146,
   "metadata": {},
   "outputs": [
    {
     "name": "stderr",
     "output_type": "stream",
     "text": [
      "/Users/shahnam/opt/anaconda3/envs/U4-S1-NLP/lib/python3.7/site-packages/ipykernel/ipkernel.py:287: DeprecationWarning: `should_run_async` will not call `transform_cell` automatically in the future. Please pass the result to `transformed_cell` argument and any exception that happen during thetransform in `preprocessing_exc_tuple` in IPython 7.17 and above.\n",
      "  and should_run_async(code)\n"
     ]
    }
   ],
   "source": [
    "pyLDAvis.gensim.prepare(lda, corpus, id2word)"
   ]
  },
  {
   "cell_type": "markdown",
   "metadata": {},
   "source": [
    "## For topic 1, recomment is the most important keyword in terms of uniquness across all topics, while keyword place seems to show up the most in this topic. "
   ]
  },
  {
   "cell_type": "markdown",
   "metadata": {},
   "source": [
    "## Stretch Goals\n",
    "\n",
    "Complete one of more of these to push your score towards a three: \n",
    "* Create more visualizations of the LDA results and provide written analysis\n",
    "* Incorporate RandomizedSearchCV into docoument classification pipeline\n",
    "* Incorporate named entity recognition into your analysis\n",
    "* Compare vectorization methods in the classification section\n",
    "* Analyze more (or all) of the yelp dataset - this one is v. hard. \n",
    "* Use a generator object on the reviews file - this would help you with the analyzing the whole dataset.\n",
    "* Incorporate any of the other yelp dataset entities in your analysis (business, users, etc.)"
   ]
  },
  {
   "cell_type": "code",
   "execution_count": 137,
   "metadata": {},
   "outputs": [
    {
     "name": "stderr",
     "output_type": "stream",
     "text": [
      "/Users/shahnam/opt/anaconda3/envs/U4-S1-NLP/lib/python3.7/site-packages/ipykernel/ipkernel.py:287: DeprecationWarning: `should_run_async` will not call `transform_cell` automatically in the future. Please pass the result to `transformed_cell` argument and any exception that happen during thetransform in `preprocessing_exc_tuple` in IPython 7.17 and above.\n",
      "  and should_run_async(code)\n"
     ]
    }
   ],
   "source": [
    "from sklearn.model_selection import RandomizedSearchCV\n",
    "from sklearn.ensemble import GradientBoostingClassifier\n",
    "import numpy as np\n",
    "from scipy.stats import randint\n"
   ]
  },
  {
   "cell_type": "code",
   "execution_count": 138,
   "metadata": {},
   "outputs": [
    {
     "name": "stderr",
     "output_type": "stream",
     "text": [
      "/Users/shahnam/opt/anaconda3/envs/U4-S1-NLP/lib/python3.7/site-packages/ipykernel/ipkernel.py:287: DeprecationWarning: `should_run_async` will not call `transform_cell` automatically in the future. Please pass the result to `transformed_cell` argument and any exception that happen during thetransform in `preprocessing_exc_tuple` in IPython 7.17 and above.\n",
      "  and should_run_async(code)\n"
     ]
    }
   ],
   "source": [
    "# GradientBoostingClassifier\n",
    "gbc = GradientBoostingClassifier(loss='deviance', learning_rate=0.1, n_estimators=100, \n",
    "                               subsample=1.0, criterion='friedman_mse', min_samples_split=2, \n",
    "                               min_samples_leaf=1, min_weight_fraction_leaf=0.0, \n",
    "                               max_depth=3, min_impurity_decrease=0.0, min_impurity_split=None, \n",
    "                               init=None, random_state=None, max_features=None, verbose=0, \n",
    "                               max_leaf_nodes=None, warm_start=False, presort='deprecated', \n",
    "                               validation_fraction=0.1, n_iter_no_change=None, tol=0.0001, ccp_alpha=0.0)"
   ]
  },
  {
   "cell_type": "code",
   "execution_count": 139,
   "metadata": {},
   "outputs": [
    {
     "name": "stderr",
     "output_type": "stream",
     "text": [
      "/Users/shahnam/opt/anaconda3/envs/U4-S1-NLP/lib/python3.7/site-packages/ipykernel/ipkernel.py:287: DeprecationWarning: `should_run_async` will not call `transform_cell` automatically in the future. Please pass the result to `transformed_cell` argument and any exception that happen during thetransform in `preprocessing_exc_tuple` in IPython 7.17 and above.\n",
      "  and should_run_async(code)\n"
     ]
    }
   ],
   "source": [
    "pipe = Pipeline([\n",
    "    ('vect', tfidf), \n",
    "    ('clf', gbc)\n",
    "    ])"
   ]
  },
  {
   "cell_type": "code",
   "execution_count": 140,
   "metadata": {},
   "outputs": [
    {
     "name": "stderr",
     "output_type": "stream",
     "text": [
      "/Users/shahnam/opt/anaconda3/envs/U4-S1-NLP/lib/python3.7/site-packages/ipykernel/ipkernel.py:287: DeprecationWarning: `should_run_async` will not call `transform_cell` automatically in the future. Please pass the result to `transformed_cell` argument and any exception that happen during thetransform in `preprocessing_exc_tuple` in IPython 7.17 and above.\n",
      "  and should_run_async(code)\n"
     ]
    }
   ],
   "source": [
    "# Gradient Boost Classifier\n",
    "gbc_par_names = [\"max_features\", \"max_depth\", \"min_samples_split\", \"min_samples_leaf\"]\n",
    "\n",
    "max_features_gbc = np.arange(2,10,2)\n",
    "max_depth_gbc = range(2,6,2)\n",
    "min_samples_split_gbc = np.linspace(2, 40, 10, endpoint=True).astype(int)\n",
    "min_samples_leaf_gbc = np.linspace(2, 40, 10, endpoint=True).astype(int)\n",
    "criterion_gbc = [\"gini\", \"entropy\"]\n",
    "gbc_param_ranges = [max_features_gbc, max_depth_gbc, min_samples_split_gbc, min_samples_leaf_gbc]\n",
    "\n",
    "param_dist = {\n",
    "    'clf__max_features': max_features_gbc, \n",
    "    'clf__max_depth': max_depth_gbc, \n",
    "#     'clf__min_samples_split': min_samples_split_gbc, \n",
    "#     'clf__min_samples_leaf': min_samples_leaf_gbc\n",
    "    }"
   ]
  },
  {
   "cell_type": "code",
   "execution_count": 141,
   "metadata": {},
   "outputs": [
    {
     "name": "stderr",
     "output_type": "stream",
     "text": [
      "/Users/shahnam/opt/anaconda3/envs/U4-S1-NLP/lib/python3.7/site-packages/ipykernel/ipkernel.py:287: DeprecationWarning: `should_run_async` will not call `transform_cell` automatically in the future. Please pass the result to `transformed_cell` argument and any exception that happen during thetransform in `preprocessing_exc_tuple` in IPython 7.17 and above.\n",
      "  and should_run_async(code)\n"
     ]
    }
   ],
   "source": [
    "rscv = RandomizedSearchCV(pipe, param_distributions=param_dist, n_iter=2, cv=2, verbose=1, n_jobs=-1)"
   ]
  },
  {
   "cell_type": "code",
   "execution_count": 142,
   "metadata": {},
   "outputs": [
    {
     "name": "stdout",
     "output_type": "stream",
     "text": [
      "Fitting 2 folds for each of 2 candidates, totalling 4 fits\n"
     ]
    },
    {
     "name": "stderr",
     "output_type": "stream",
     "text": [
      "/Users/shahnam/opt/anaconda3/envs/U4-S1-NLP/lib/python3.7/site-packages/ipykernel/ipkernel.py:287: DeprecationWarning: `should_run_async` will not call `transform_cell` automatically in the future. Please pass the result to `transformed_cell` argument and any exception that happen during thetransform in `preprocessing_exc_tuple` in IPython 7.17 and above.\n",
      "  and should_run_async(code)\n",
      "[Parallel(n_jobs=-1)]: Using backend LokyBackend with 8 concurrent workers.\n",
      "[Parallel(n_jobs=-1)]: Done   4 out of   4 | elapsed:  2.9min remaining:    0.0s\n",
      "[Parallel(n_jobs=-1)]: Done   4 out of   4 | elapsed:  2.9min finished\n"
     ]
    },
    {
     "data": {
      "text/plain": [
       "RandomizedSearchCV(cv=2, error_score=nan,\n",
       "                   estimator=Pipeline(memory=None,\n",
       "                                      steps=[('vect',\n",
       "                                              TfidfVectorizer(analyzer='word',\n",
       "                                                              binary=False,\n",
       "                                                              decode_error='strict',\n",
       "                                                              dtype=<class 'numpy.float64'>,\n",
       "                                                              encoding='utf-8',\n",
       "                                                              input='content',\n",
       "                                                              lowercase=True,\n",
       "                                                              max_df=0.75,\n",
       "                                                              max_features=100,\n",
       "                                                              min_df=10,\n",
       "                                                              ngram_range=(1,\n",
       "                                                                           2),\n",
       "                                                              norm='l2',\n",
       "                                                              preprocessor=None,\n",
       "                                                              smooth_idf=True,\n",
       "                                                              stop_words='english...\n",
       "                                                                         presort='deprecated',\n",
       "                                                                         random_state=None,\n",
       "                                                                         subsample=1.0,\n",
       "                                                                         tol=0.0001,\n",
       "                                                                         validation_fraction=0.1,\n",
       "                                                                         verbose=0,\n",
       "                                                                         warm_start=False))],\n",
       "                                      verbose=False),\n",
       "                   iid='deprecated', n_iter=2, n_jobs=-1,\n",
       "                   param_distributions={'clf__max_depth': range(2, 6, 2),\n",
       "                                        'clf__max_features': array([2, 4, 6, 8])},\n",
       "                   pre_dispatch='2*n_jobs', random_state=None, refit=True,\n",
       "                   return_train_score=False, scoring=None, verbose=1)"
      ]
     },
     "execution_count": 142,
     "metadata": {},
     "output_type": "execute_result"
    }
   ],
   "source": [
    "rscv.fit(yelp['clean_text'], yelp['stars'])"
   ]
  },
  {
   "cell_type": "code",
   "execution_count": null,
   "metadata": {},
   "outputs": [],
   "source": [
    "# Predictions on test sample\n",
    "pred = rscv.predict(rndm_review)\n",
    "pred"
   ]
  }
 ],
 "metadata": {
  "kernel_info": {
   "name": "u4-s1-nlp"
  },
  "kernelspec": {
   "display_name": "U4-S1-NLP (Python3)",
   "language": "python",
   "name": "u4-s1-nlp"
  },
  "language_info": {
   "codemirror_mode": {
    "name": "ipython",
    "version": 3
   },
   "file_extension": ".py",
   "mimetype": "text/x-python",
   "name": "python",
   "nbconvert_exporter": "python",
   "pygments_lexer": "ipython3",
   "version": "3.7.0"
  },
  "nteract": {
   "version": "0.22.4"
  },
  "toc-autonumbering": false
 },
 "nbformat": 4,
 "nbformat_minor": 4
}
