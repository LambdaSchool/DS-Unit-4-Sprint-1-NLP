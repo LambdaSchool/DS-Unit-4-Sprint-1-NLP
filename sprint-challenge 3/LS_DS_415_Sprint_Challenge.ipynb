{
 "cells": [
  {
   "cell_type": "markdown",
   "metadata": {},
   "source": [
    "<img align=\"left\" src=\"https://lever-client-logos.s3.amazonaws.com/864372b1-534c-480e-acd5-9711f850815c-1524247202159.png\" width=200>\n",
    "<br></br>\n",
    "<br></br>\n",
    "\n",
    "# Sprint Challenge\n",
    "## *Data Science Unit 4 Sprint 1*\n",
    "\n",
    "After a week of Natural Language Processing, you've learned some cool new stuff: how to process text, how turn text into vectors, and how to model topics from documents. Apply your newly acquired skills to one of the most famous NLP datasets out there: [Yelp](https://www.yelp.com/dataset/challenge). As part of the job selection process, some of my friends have been asked to create analysis of this dataset, so I want to empower you to have a head start.  \n",
    "\n",
    "The real dataset is massive (almost 8 gigs uncompressed). I've sampled the data for you to something more managable for the Sprint Challenge. You can analyze the full dataset as a stretch goal or after the sprint challenge. As you work on the challenge, I suggest adding notes about your findings and things you want to analyze in the future.\n",
    "\n",
    "## Challenge Objectives\n",
    "*Successfully complete these all these objectives to earn a 2. There are more details on each objective further down in the notebook.*\n",
    "* <a href=\"#p1\">Part 1</a>: Write a function to tokenize the yelp reviews\n",
    "* <a href=\"#p2\">Part 2</a>: Create a vector representation of those tokens\n",
    "* <a href=\"#p3\">Part 3</a>: Use your tokens in a classification model on yelp rating\n",
    "* <a href=\"#p4\">Part 4</a>: Estimate & Interpret a topic model of the Yelp reviews"
   ]
  },
  {
   "cell_type": "code",
   "execution_count": 4,
   "metadata": {},
   "outputs": [],
   "source": [
    "import pandas as pd\n",
    "\n",
    "yelp = pd.read_json('./data/review_sample.json', lines=True)"
   ]
  },
  {
   "cell_type": "code",
   "execution_count": 5,
   "metadata": {},
   "outputs": [
    {
     "data": {
      "text/html": [
       "<div>\n",
       "<style scoped>\n",
       "    .dataframe tbody tr th:only-of-type {\n",
       "        vertical-align: middle;\n",
       "    }\n",
       "\n",
       "    .dataframe tbody tr th {\n",
       "        vertical-align: top;\n",
       "    }\n",
       "\n",
       "    .dataframe thead th {\n",
       "        text-align: right;\n",
       "    }\n",
       "</style>\n",
       "<table border=\"1\" class=\"dataframe\">\n",
       "  <thead>\n",
       "    <tr style=\"text-align: right;\">\n",
       "      <th></th>\n",
       "      <th>business_id</th>\n",
       "      <th>cool</th>\n",
       "      <th>date</th>\n",
       "      <th>funny</th>\n",
       "      <th>review_id</th>\n",
       "      <th>stars</th>\n",
       "      <th>text</th>\n",
       "      <th>useful</th>\n",
       "      <th>user_id</th>\n",
       "    </tr>\n",
       "  </thead>\n",
       "  <tbody>\n",
       "    <tr>\n",
       "      <th>0</th>\n",
       "      <td>nDuEqIyRc8YKS1q1fX0CZg</td>\n",
       "      <td>1</td>\n",
       "      <td>2015-03-31 16:50:30</td>\n",
       "      <td>0</td>\n",
       "      <td>eZs2tpEJtXPwawvHnHZIgQ</td>\n",
       "      <td>1</td>\n",
       "      <td>BEWARE!!! FAKE, FAKE, FAKE....We also own a sm...</td>\n",
       "      <td>10</td>\n",
       "      <td>n1LM36qNg4rqGXIcvVXv8w</td>\n",
       "    </tr>\n",
       "    <tr>\n",
       "      <th>1</th>\n",
       "      <td>eMYeEapscbKNqUDCx705hg</td>\n",
       "      <td>0</td>\n",
       "      <td>2015-12-16 05:31:03</td>\n",
       "      <td>0</td>\n",
       "      <td>DoQDWJsNbU0KL1O29l_Xug</td>\n",
       "      <td>4</td>\n",
       "      <td>Came here for lunch Togo. Service was quick. S...</td>\n",
       "      <td>0</td>\n",
       "      <td>5CgjjDAic2-FAvCtiHpytA</td>\n",
       "    </tr>\n",
       "    <tr>\n",
       "      <th>2</th>\n",
       "      <td>6Q7-wkCPc1KF75jZLOTcMw</td>\n",
       "      <td>1</td>\n",
       "      <td>2010-06-20 19:14:48</td>\n",
       "      <td>1</td>\n",
       "      <td>DDOdGU7zh56yQHmUnL1idQ</td>\n",
       "      <td>3</td>\n",
       "      <td>I've been to Vegas dozens of times and had nev...</td>\n",
       "      <td>2</td>\n",
       "      <td>BdV-cf3LScmb8kZ7iiBcMA</td>\n",
       "    </tr>\n",
       "    <tr>\n",
       "      <th>3</th>\n",
       "      <td>k3zrItO4l9hwfLRwHBDc9w</td>\n",
       "      <td>3</td>\n",
       "      <td>2010-07-13 00:33:45</td>\n",
       "      <td>4</td>\n",
       "      <td>LfTMUWnfGFMOfOIyJcwLVA</td>\n",
       "      <td>1</td>\n",
       "      <td>We went here on a night where they closed off ...</td>\n",
       "      <td>5</td>\n",
       "      <td>cZZnBqh4gAEy4CdNvJailQ</td>\n",
       "    </tr>\n",
       "    <tr>\n",
       "      <th>4</th>\n",
       "      <td>6hpfRwGlOzbNv7k5eP9rsQ</td>\n",
       "      <td>1</td>\n",
       "      <td>2018-06-30 02:30:01</td>\n",
       "      <td>0</td>\n",
       "      <td>zJSUdI7bJ8PNJAg4lnl_Gg</td>\n",
       "      <td>4</td>\n",
       "      <td>3.5 to 4 stars\\n\\nNot bad for the price, $12.9...</td>\n",
       "      <td>5</td>\n",
       "      <td>n9QO4ClYAS7h9fpQwa5bhA</td>\n",
       "    </tr>\n",
       "  </tbody>\n",
       "</table>\n",
       "</div>"
      ],
      "text/plain": [
       "              business_id  cool                date  funny  \\\n",
       "0  nDuEqIyRc8YKS1q1fX0CZg     1 2015-03-31 16:50:30      0   \n",
       "1  eMYeEapscbKNqUDCx705hg     0 2015-12-16 05:31:03      0   \n",
       "2  6Q7-wkCPc1KF75jZLOTcMw     1 2010-06-20 19:14:48      1   \n",
       "3  k3zrItO4l9hwfLRwHBDc9w     3 2010-07-13 00:33:45      4   \n",
       "4  6hpfRwGlOzbNv7k5eP9rsQ     1 2018-06-30 02:30:01      0   \n",
       "\n",
       "                review_id  stars  \\\n",
       "0  eZs2tpEJtXPwawvHnHZIgQ      1   \n",
       "1  DoQDWJsNbU0KL1O29l_Xug      4   \n",
       "2  DDOdGU7zh56yQHmUnL1idQ      3   \n",
       "3  LfTMUWnfGFMOfOIyJcwLVA      1   \n",
       "4  zJSUdI7bJ8PNJAg4lnl_Gg      4   \n",
       "\n",
       "                                                text  useful  \\\n",
       "0  BEWARE!!! FAKE, FAKE, FAKE....We also own a sm...      10   \n",
       "1  Came here for lunch Togo. Service was quick. S...       0   \n",
       "2  I've been to Vegas dozens of times and had nev...       2   \n",
       "3  We went here on a night where they closed off ...       5   \n",
       "4  3.5 to 4 stars\\n\\nNot bad for the price, $12.9...       5   \n",
       "\n",
       "                  user_id  \n",
       "0  n1LM36qNg4rqGXIcvVXv8w  \n",
       "1  5CgjjDAic2-FAvCtiHpytA  \n",
       "2  BdV-cf3LScmb8kZ7iiBcMA  \n",
       "3  cZZnBqh4gAEy4CdNvJailQ  \n",
       "4  n9QO4ClYAS7h9fpQwa5bhA  "
      ]
     },
     "execution_count": 5,
     "metadata": {},
     "output_type": "execute_result"
    }
   ],
   "source": [
    "yelp.head()"
   ]
  },
  {
   "cell_type": "markdown",
   "metadata": {},
   "source": [
    "## Part 1: Tokenize Function\n",
    "<a id=\"#p1\"></a>\n",
    "\n",
    "Complete the function `tokenize`. Your function should\n",
    "- accept one document at a time\n",
    "- return a list of tokens\n",
    "\n",
    "You are free to use any method you have learned this week."
   ]
  },
  {
   "cell_type": "code",
   "execution_count": 1,
   "metadata": {},
   "outputs": [],
   "source": [
    "# Import necessary modules\n",
    "import numpy as np\n",
    "import re\n",
    "\n",
    "# ML libraries\n",
    "from sklearn.feature_extraction.text import CountVectorizer, TfidfVectorizer\n",
    "from sklearn.neighbors import NearestNeighbors\n",
    "from sklearn.linear_model import SGDClassifier\n",
    "from sklearn.model_selection import GridSearchCV\n",
    "from sklearn.pipeline import Pipeline\n",
    "\n",
    "# spaCy and friends\n",
    "import spacy\n",
    "from spacy.lang.en.stop_words import STOP_WORDS\n",
    "nlp = spacy.load('en_core_web_lg')\n",
    "\n",
    "# Gensim - topic modeling\n",
    "import gensim\n",
    "import os, sys, re\n",
    "from gensim.models import LdaMulticore\n",
    "from gensim.utils import simple_preprocess\n",
    "from gensim.parsing.preprocessing import STOPWORDS\n",
    "from gensim import corpora\n",
    "from gensim.corpora import Dictionary\n",
    "from gensim.models.ldamulticore import LdaMulticore\n",
    "from gensim.models.coherencemodel import CoherenceModel\n",
    "\n",
    "# Pretty pictures\n",
    "import squarify\n",
    "import pyLDAvis.gensim\n",
    "import matplotlib.pyplot as plt\n",
    "%matplotlib inline"
   ]
  },
  {
   "cell_type": "code",
   "execution_count": 2,
   "metadata": {},
   "outputs": [],
   "source": [
    "def tokenize(doc):\n",
    "    \n",
    "    tokens = [t for t in simple_preprocess(doc) if t not in STOPWORDS]\n",
    "    \n",
    "    return tokens"
   ]
  },
  {
   "cell_type": "code",
   "execution_count": 6,
   "metadata": {},
   "outputs": [
    {
     "data": {
      "text/html": [
       "<div>\n",
       "<style scoped>\n",
       "    .dataframe tbody tr th:only-of-type {\n",
       "        vertical-align: middle;\n",
       "    }\n",
       "\n",
       "    .dataframe tbody tr th {\n",
       "        vertical-align: top;\n",
       "    }\n",
       "\n",
       "    .dataframe thead th {\n",
       "        text-align: right;\n",
       "    }\n",
       "</style>\n",
       "<table border=\"1\" class=\"dataframe\">\n",
       "  <thead>\n",
       "    <tr style=\"text-align: right;\">\n",
       "      <th></th>\n",
       "      <th>business_id</th>\n",
       "      <th>cool</th>\n",
       "      <th>date</th>\n",
       "      <th>funny</th>\n",
       "      <th>review_id</th>\n",
       "      <th>stars</th>\n",
       "      <th>text</th>\n",
       "      <th>useful</th>\n",
       "      <th>user_id</th>\n",
       "      <th>tokens</th>\n",
       "    </tr>\n",
       "  </thead>\n",
       "  <tbody>\n",
       "    <tr>\n",
       "      <th>0</th>\n",
       "      <td>nDuEqIyRc8YKS1q1fX0CZg</td>\n",
       "      <td>1</td>\n",
       "      <td>2015-03-31 16:50:30</td>\n",
       "      <td>0</td>\n",
       "      <td>eZs2tpEJtXPwawvHnHZIgQ</td>\n",
       "      <td>1</td>\n",
       "      <td>BEWARE!!! FAKE, FAKE, FAKE....We also own a sm...</td>\n",
       "      <td>10</td>\n",
       "      <td>n1LM36qNg4rqGXIcvVXv8w</td>\n",
       "      <td>[beware, fake, fake, fake, small, business, lo...</td>\n",
       "    </tr>\n",
       "    <tr>\n",
       "      <th>1</th>\n",
       "      <td>eMYeEapscbKNqUDCx705hg</td>\n",
       "      <td>0</td>\n",
       "      <td>2015-12-16 05:31:03</td>\n",
       "      <td>0</td>\n",
       "      <td>DoQDWJsNbU0KL1O29l_Xug</td>\n",
       "      <td>4</td>\n",
       "      <td>Came here for lunch Togo. Service was quick. S...</td>\n",
       "      <td>0</td>\n",
       "      <td>5CgjjDAic2-FAvCtiHpytA</td>\n",
       "      <td>[came, lunch, togo, service, quick, staff, fri...</td>\n",
       "    </tr>\n",
       "    <tr>\n",
       "      <th>2</th>\n",
       "      <td>6Q7-wkCPc1KF75jZLOTcMw</td>\n",
       "      <td>1</td>\n",
       "      <td>2010-06-20 19:14:48</td>\n",
       "      <td>1</td>\n",
       "      <td>DDOdGU7zh56yQHmUnL1idQ</td>\n",
       "      <td>3</td>\n",
       "      <td>I've been to Vegas dozens of times and had nev...</td>\n",
       "      <td>2</td>\n",
       "      <td>BdV-cf3LScmb8kZ7iiBcMA</td>\n",
       "      <td>[ve, vegas, dozens, times, stepped, foot, circ...</td>\n",
       "    </tr>\n",
       "    <tr>\n",
       "      <th>3</th>\n",
       "      <td>k3zrItO4l9hwfLRwHBDc9w</td>\n",
       "      <td>3</td>\n",
       "      <td>2010-07-13 00:33:45</td>\n",
       "      <td>4</td>\n",
       "      <td>LfTMUWnfGFMOfOIyJcwLVA</td>\n",
       "      <td>1</td>\n",
       "      <td>We went here on a night where they closed off ...</td>\n",
       "      <td>5</td>\n",
       "      <td>cZZnBqh4gAEy4CdNvJailQ</td>\n",
       "      <td>[went, night, closed, street, party, best, act...</td>\n",
       "    </tr>\n",
       "    <tr>\n",
       "      <th>4</th>\n",
       "      <td>6hpfRwGlOzbNv7k5eP9rsQ</td>\n",
       "      <td>1</td>\n",
       "      <td>2018-06-30 02:30:01</td>\n",
       "      <td>0</td>\n",
       "      <td>zJSUdI7bJ8PNJAg4lnl_Gg</td>\n",
       "      <td>4</td>\n",
       "      <td>3.5 to 4 stars\\n\\nNot bad for the price, $12.9...</td>\n",
       "      <td>5</td>\n",
       "      <td>n9QO4ClYAS7h9fpQwa5bhA</td>\n",
       "      <td>[stars, bad, price, lunch, seniors, pay, eatin...</td>\n",
       "    </tr>\n",
       "  </tbody>\n",
       "</table>\n",
       "</div>"
      ],
      "text/plain": [
       "              business_id  cool                date  funny  \\\n",
       "0  nDuEqIyRc8YKS1q1fX0CZg     1 2015-03-31 16:50:30      0   \n",
       "1  eMYeEapscbKNqUDCx705hg     0 2015-12-16 05:31:03      0   \n",
       "2  6Q7-wkCPc1KF75jZLOTcMw     1 2010-06-20 19:14:48      1   \n",
       "3  k3zrItO4l9hwfLRwHBDc9w     3 2010-07-13 00:33:45      4   \n",
       "4  6hpfRwGlOzbNv7k5eP9rsQ     1 2018-06-30 02:30:01      0   \n",
       "\n",
       "                review_id  stars  \\\n",
       "0  eZs2tpEJtXPwawvHnHZIgQ      1   \n",
       "1  DoQDWJsNbU0KL1O29l_Xug      4   \n",
       "2  DDOdGU7zh56yQHmUnL1idQ      3   \n",
       "3  LfTMUWnfGFMOfOIyJcwLVA      1   \n",
       "4  zJSUdI7bJ8PNJAg4lnl_Gg      4   \n",
       "\n",
       "                                                text  useful  \\\n",
       "0  BEWARE!!! FAKE, FAKE, FAKE....We also own a sm...      10   \n",
       "1  Came here for lunch Togo. Service was quick. S...       0   \n",
       "2  I've been to Vegas dozens of times and had nev...       2   \n",
       "3  We went here on a night where they closed off ...       5   \n",
       "4  3.5 to 4 stars\\n\\nNot bad for the price, $12.9...       5   \n",
       "\n",
       "                  user_id                                             tokens  \n",
       "0  n1LM36qNg4rqGXIcvVXv8w  [beware, fake, fake, fake, small, business, lo...  \n",
       "1  5CgjjDAic2-FAvCtiHpytA  [came, lunch, togo, service, quick, staff, fri...  \n",
       "2  BdV-cf3LScmb8kZ7iiBcMA  [ve, vegas, dozens, times, stepped, foot, circ...  \n",
       "3  cZZnBqh4gAEy4CdNvJailQ  [went, night, closed, street, party, best, act...  \n",
       "4  n9QO4ClYAS7h9fpQwa5bhA  [stars, bad, price, lunch, seniors, pay, eatin...  "
      ]
     },
     "execution_count": 6,
     "metadata": {},
     "output_type": "execute_result"
    }
   ],
   "source": [
    "yelp['tokens'] = yelp['text'].apply(lambda x: tokenize(x))\n",
    "\n",
    "yelp.head()"
   ]
  },
  {
   "cell_type": "code",
   "execution_count": 53,
   "metadata": {},
   "outputs": [],
   "source": [
    "# Visualize the tokens\n",
    "from collections import Counter\n",
    "\n",
    "def count(docs):\n",
    "\n",
    "        word_counts = Counter()\n",
    "        appears_in = Counter()\n",
    "        \n",
    "        total_docs = len(docs)\n",
    "\n",
    "        for doc in docs:\n",
    "            word_counts.update(doc)\n",
    "            appears_in.update(set(doc))\n",
    "\n",
    "        temp = zip(word_counts.keys(), word_counts.values())\n",
    "        \n",
    "        wc = pd.DataFrame(temp, columns = ['word', 'count'])\n",
    "\n",
    "        wc['rank'] = wc['count'].rank(method='first', ascending=False)\n",
    "        total = wc['count'].sum()\n",
    "\n",
    "        wc['pct_total'] = wc['count'].apply(lambda x: x / total)\n",
    "        \n",
    "        wc = wc.sort_values(by='rank')\n",
    "        wc['cul_pct_total'] = wc['pct_total'].cumsum()\n",
    "\n",
    "        t2 = zip(appears_in.keys(), appears_in.values())\n",
    "        ac = pd.DataFrame(t2, columns=['word', 'appears_in'])\n",
    "        wc = ac.merge(wc, on='word')\n",
    "\n",
    "        wc['appears_in_pct'] = wc['appears_in'].apply(lambda x: x / total_docs)\n",
    "        \n",
    "        return wc.sort_values(by='rank')"
   ]
  },
  {
   "cell_type": "code",
   "execution_count": 54,
   "metadata": {},
   "outputs": [
    {
     "data": {
      "text/html": [
       "<div>\n",
       "<style scoped>\n",
       "    .dataframe tbody tr th:only-of-type {\n",
       "        vertical-align: middle;\n",
       "    }\n",
       "\n",
       "    .dataframe tbody tr th {\n",
       "        vertical-align: top;\n",
       "    }\n",
       "\n",
       "    .dataframe thead th {\n",
       "        text-align: right;\n",
       "    }\n",
       "</style>\n",
       "<table border=\"1\" class=\"dataframe\">\n",
       "  <thead>\n",
       "    <tr style=\"text-align: right;\">\n",
       "      <th></th>\n",
       "      <th>word</th>\n",
       "      <th>appears_in</th>\n",
       "      <th>count</th>\n",
       "      <th>rank</th>\n",
       "      <th>pct_total</th>\n",
       "      <th>cul_pct_total</th>\n",
       "      <th>appears_in_pct</th>\n",
       "    </tr>\n",
       "  </thead>\n",
       "  <tbody>\n",
       "    <tr>\n",
       "      <th>172</th>\n",
       "      <td>food</td>\n",
       "      <td>3363</td>\n",
       "      <td>5071</td>\n",
       "      <td>1.0</td>\n",
       "      <td>0.010553</td>\n",
       "      <td>0.010553</td>\n",
       "      <td>0.3363</td>\n",
       "    </tr>\n",
       "    <tr>\n",
       "      <th>134</th>\n",
       "      <td>place</td>\n",
       "      <td>3385</td>\n",
       "      <td>4832</td>\n",
       "      <td>2.0</td>\n",
       "      <td>0.010056</td>\n",
       "      <td>0.020609</td>\n",
       "      <td>0.3385</td>\n",
       "    </tr>\n",
       "    <tr>\n",
       "      <th>38</th>\n",
       "      <td>good</td>\n",
       "      <td>3228</td>\n",
       "      <td>4806</td>\n",
       "      <td>3.0</td>\n",
       "      <td>0.010002</td>\n",
       "      <td>0.030611</td>\n",
       "      <td>0.3228</td>\n",
       "    </tr>\n",
       "    <tr>\n",
       "      <th>237</th>\n",
       "      <td>great</td>\n",
       "      <td>3101</td>\n",
       "      <td>4297</td>\n",
       "      <td>4.0</td>\n",
       "      <td>0.008943</td>\n",
       "      <td>0.039554</td>\n",
       "      <td>0.3101</td>\n",
       "    </tr>\n",
       "    <tr>\n",
       "      <th>37</th>\n",
       "      <td>service</td>\n",
       "      <td>2987</td>\n",
       "      <td>3695</td>\n",
       "      <td>5.0</td>\n",
       "      <td>0.007690</td>\n",
       "      <td>0.047244</td>\n",
       "      <td>0.2987</td>\n",
       "    </tr>\n",
       "  </tbody>\n",
       "</table>\n",
       "</div>"
      ],
      "text/plain": [
       "        word  appears_in  count  rank  pct_total  cul_pct_total  \\\n",
       "172     food        3363   5071   1.0   0.010553       0.010553   \n",
       "134    place        3385   4832   2.0   0.010056       0.020609   \n",
       "38      good        3228   4806   3.0   0.010002       0.030611   \n",
       "237    great        3101   4297   4.0   0.008943       0.039554   \n",
       "37   service        2987   3695   5.0   0.007690       0.047244   \n",
       "\n",
       "     appears_in_pct  \n",
       "172          0.3363  \n",
       "134          0.3385  \n",
       "38           0.3228  \n",
       "237          0.3101  \n",
       "37           0.2987  "
      ]
     },
     "execution_count": 54,
     "metadata": {},
     "output_type": "execute_result"
    }
   ],
   "source": [
    "wc = count(yelp['tokens'])\n",
    "wc.head()"
   ]
  },
  {
   "cell_type": "code",
   "execution_count": 55,
   "metadata": {},
   "outputs": [
    {
     "data": {
      "image/png": "[encoded data removed]",
      "text/plain": [
       "<Figure size 432x288 with 1 Axes>"
      ]
     },
     "metadata": {
      "needs_background": "light"
     },
     "output_type": "display_data"
    }
   ],
   "source": [
    "# Plot word distribution\n",
    "import seaborn as sns\n",
    "sns.lineplot(x='rank', y='cul_pct_total', data=wc);"
   ]
  },
  {
   "cell_type": "code",
   "execution_count": 56,
   "metadata": {},
   "outputs": [
    {
     "data": {
      "image/png": "[encoded data removed]",
      "text/plain": [
       "<Figure size 432x288 with 1 Axes>"
      ]
     },
     "metadata": {
      "needs_background": "light"
     },
     "output_type": "display_data"
    }
   ],
   "source": [
    "# Visualize the top 20 words\n",
    "# Get good ratings\n",
    "wc_top20 = wc[wc['rank'] <= 20]\n",
    "\n",
    "squarify.plot(sizes=wc_top20['pct_total'], label=wc_top20['word'], alpha=.8 )\n",
    "plt.axis('off')\n",
    "plt.show()"
   ]
  },
  {
   "cell_type": "markdown",
   "metadata": {},
   "source": [
    "## Part 2: Vector Representation\n",
    "<a id=\"#p2\"></a>\n",
    "1. Create a vector representation of the reviews\n",
    "2. Write a fake review and query for the 10 most similiar reviews, print the text of the reviews. Do you notice any patterns?\n",
    "    - Given the size of the dataset, it will probably be best to use a `NearestNeighbors` model for this. "
   ]
  },
  {
   "cell_type": "code",
   "execution_count": 7,
   "metadata": {},
   "outputs": [
    {
     "data": {
      "text/html": [
       "<div>\n",
       "<style scoped>\n",
       "    .dataframe tbody tr th:only-of-type {\n",
       "        vertical-align: middle;\n",
       "    }\n",
       "\n",
       "    .dataframe tbody tr th {\n",
       "        vertical-align: top;\n",
       "    }\n",
       "\n",
       "    .dataframe thead th {\n",
       "        text-align: right;\n",
       "    }\n",
       "</style>\n",
       "<table border=\"1\" class=\"dataframe\">\n",
       "  <thead>\n",
       "    <tr style=\"text-align: right;\">\n",
       "      <th></th>\n",
       "      <th>00</th>\n",
       "      <th>000</th>\n",
       "      <th>001695</th>\n",
       "      <th>007</th>\n",
       "      <th>00a</th>\n",
       "      <th>00am</th>\n",
       "      <th>00ish</th>\n",
       "      <th>00pm</th>\n",
       "      <th>01</th>\n",
       "      <th>011802</th>\n",
       "      <th>...</th>\n",
       "      <th>誰も乗車しなくても</th>\n",
       "      <th>豆腐花</th>\n",
       "      <th>質問にも丁寧に答えてくれましたし</th>\n",
       "      <th>車好きさんには</th>\n",
       "      <th>這是一個不錯的選擇</th>\n",
       "      <th>運転しない</th>\n",
       "      <th>運転中も英語で指導があります</th>\n",
       "      <th>食べ物はうまい</th>\n",
       "      <th>餐後點了甜點</th>\n",
       "      <th>３時間後の便</th>\n",
       "    </tr>\n",
       "  </thead>\n",
       "  <tbody>\n",
       "    <tr>\n",
       "      <th>0</th>\n",
       "      <td>0.0</td>\n",
       "      <td>0.0</td>\n",
       "      <td>0.0</td>\n",
       "      <td>0.0</td>\n",
       "      <td>0.0</td>\n",
       "      <td>0.0</td>\n",
       "      <td>0.0</td>\n",
       "      <td>0.0</td>\n",
       "      <td>0.0</td>\n",
       "      <td>0.0</td>\n",
       "      <td>...</td>\n",
       "      <td>0.0</td>\n",
       "      <td>0.0</td>\n",
       "      <td>0.0</td>\n",
       "      <td>0.0</td>\n",
       "      <td>0.0</td>\n",
       "      <td>0.0</td>\n",
       "      <td>0.0</td>\n",
       "      <td>0.0</td>\n",
       "      <td>0.0</td>\n",
       "      <td>0.0</td>\n",
       "    </tr>\n",
       "    <tr>\n",
       "      <th>1</th>\n",
       "      <td>0.0</td>\n",
       "      <td>0.0</td>\n",
       "      <td>0.0</td>\n",
       "      <td>0.0</td>\n",
       "      <td>0.0</td>\n",
       "      <td>0.0</td>\n",
       "      <td>0.0</td>\n",
       "      <td>0.0</td>\n",
       "      <td>0.0</td>\n",
       "      <td>0.0</td>\n",
       "      <td>...</td>\n",
       "      <td>0.0</td>\n",
       "      <td>0.0</td>\n",
       "      <td>0.0</td>\n",
       "      <td>0.0</td>\n",
       "      <td>0.0</td>\n",
       "      <td>0.0</td>\n",
       "      <td>0.0</td>\n",
       "      <td>0.0</td>\n",
       "      <td>0.0</td>\n",
       "      <td>0.0</td>\n",
       "    </tr>\n",
       "    <tr>\n",
       "      <th>2</th>\n",
       "      <td>0.0</td>\n",
       "      <td>0.0</td>\n",
       "      <td>0.0</td>\n",
       "      <td>0.0</td>\n",
       "      <td>0.0</td>\n",
       "      <td>0.0</td>\n",
       "      <td>0.0</td>\n",
       "      <td>0.0</td>\n",
       "      <td>0.0</td>\n",
       "      <td>0.0</td>\n",
       "      <td>...</td>\n",
       "      <td>0.0</td>\n",
       "      <td>0.0</td>\n",
       "      <td>0.0</td>\n",
       "      <td>0.0</td>\n",
       "      <td>0.0</td>\n",
       "      <td>0.0</td>\n",
       "      <td>0.0</td>\n",
       "      <td>0.0</td>\n",
       "      <td>0.0</td>\n",
       "      <td>0.0</td>\n",
       "    </tr>\n",
       "    <tr>\n",
       "      <th>3</th>\n",
       "      <td>0.0</td>\n",
       "      <td>0.0</td>\n",
       "      <td>0.0</td>\n",
       "      <td>0.0</td>\n",
       "      <td>0.0</td>\n",
       "      <td>0.0</td>\n",
       "      <td>0.0</td>\n",
       "      <td>0.0</td>\n",
       "      <td>0.0</td>\n",
       "      <td>0.0</td>\n",
       "      <td>...</td>\n",
       "      <td>0.0</td>\n",
       "      <td>0.0</td>\n",
       "      <td>0.0</td>\n",
       "      <td>0.0</td>\n",
       "      <td>0.0</td>\n",
       "      <td>0.0</td>\n",
       "      <td>0.0</td>\n",
       "      <td>0.0</td>\n",
       "      <td>0.0</td>\n",
       "      <td>0.0</td>\n",
       "    </tr>\n",
       "    <tr>\n",
       "      <th>4</th>\n",
       "      <td>0.0</td>\n",
       "      <td>0.0</td>\n",
       "      <td>0.0</td>\n",
       "      <td>0.0</td>\n",
       "      <td>0.0</td>\n",
       "      <td>0.0</td>\n",
       "      <td>0.0</td>\n",
       "      <td>0.0</td>\n",
       "      <td>0.0</td>\n",
       "      <td>0.0</td>\n",
       "      <td>...</td>\n",
       "      <td>0.0</td>\n",
       "      <td>0.0</td>\n",
       "      <td>0.0</td>\n",
       "      <td>0.0</td>\n",
       "      <td>0.0</td>\n",
       "      <td>0.0</td>\n",
       "      <td>0.0</td>\n",
       "      <td>0.0</td>\n",
       "      <td>0.0</td>\n",
       "      <td>0.0</td>\n",
       "    </tr>\n",
       "  </tbody>\n",
       "</table>\n",
       "<p>5 rows × 27588 columns</p>\n",
       "</div>"
      ],
      "text/plain": [
       "    00  000  001695  007  00a  00am  00ish  00pm   01  011802  ...  誰も乗車しなくても  \\\n",
       "0  0.0  0.0     0.0  0.0  0.0   0.0    0.0   0.0  0.0     0.0  ...        0.0   \n",
       "1  0.0  0.0     0.0  0.0  0.0   0.0    0.0   0.0  0.0     0.0  ...        0.0   \n",
       "2  0.0  0.0     0.0  0.0  0.0   0.0    0.0   0.0  0.0     0.0  ...        0.0   \n",
       "3  0.0  0.0     0.0  0.0  0.0   0.0    0.0   0.0  0.0     0.0  ...        0.0   \n",
       "4  0.0  0.0     0.0  0.0  0.0   0.0    0.0   0.0  0.0     0.0  ...        0.0   \n",
       "\n",
       "   豆腐花  質問にも丁寧に答えてくれましたし  車好きさんには  這是一個不錯的選擇  運転しない  運転中も英語で指導があります  食べ物はうまい  \\\n",
       "0  0.0               0.0      0.0        0.0    0.0             0.0      0.0   \n",
       "1  0.0               0.0      0.0        0.0    0.0             0.0      0.0   \n",
       "2  0.0               0.0      0.0        0.0    0.0             0.0      0.0   \n",
       "3  0.0               0.0      0.0        0.0    0.0             0.0      0.0   \n",
       "4  0.0               0.0      0.0        0.0    0.0             0.0      0.0   \n",
       "\n",
       "   餐後點了甜點  ３時間後の便  \n",
       "0     0.0     0.0  \n",
       "1     0.0     0.0  \n",
       "2     0.0     0.0  \n",
       "3     0.0     0.0  \n",
       "4     0.0     0.0  \n",
       "\n",
       "[5 rows x 27588 columns]"
      ]
     },
     "execution_count": 7,
     "metadata": {},
     "output_type": "execute_result"
    }
   ],
   "source": [
    "vect = TfidfVectorizer()\n",
    "\n",
    "dtm = vect.fit_transform(yelp['text'].values)\n",
    "dtm_df = pd.DataFrame(dtm.todense(), columns=vect.get_feature_names())\n",
    "dtm_df.head()"
   ]
  },
  {
   "cell_type": "code",
   "execution_count": 9,
   "metadata": {},
   "outputs": [
    {
     "data": {
      "text/plain": [
       "NearestNeighbors(algorithm='ball_tree', leaf_size=30, metric='minkowski',\n",
       "         metric_params=None, n_jobs=None, n_neighbors=5, p=2, radius=1.0)"
      ]
     },
     "execution_count": 9,
     "metadata": {},
     "output_type": "execute_result"
    }
   ],
   "source": [
    "# Instantiate nearest-neighbors model\n",
    "nn = NearestNeighbors(n_neighbors=5, algorithm='ball_tree')\n",
    "\n",
    "nn.fit(dtm_df)"
   ]
  },
  {
   "cell_type": "code",
   "execution_count": 10,
   "metadata": {},
   "outputs": [],
   "source": [
    "# Fake review and query among 10 most similar\n",
    "fake_text = ['このお店はピザがあんまり美味しくないけど、店員さんがすっごく優しかったです。それにしてももう一回行こうと思ってます。']\n",
    "fake_text_trans = vect.transform(fake_text)\n",
    "\n",
    "_, similar_topic_indices = nn.kneighbors(fake_text_trans.todense())"
   ]
  },
  {
   "cell_type": "code",
   "execution_count": 19,
   "metadata": {},
   "outputs": [
    {
     "name": "stdout",
     "output_type": "stream",
     "text": [
      "[3615    Ok, so this place is a big box dental corporat...\n",
      "3072    Suis venue ici un samedi soir pendant l'événem...\n",
      "1412    Items Selected:\\nCronut\\nButtermilk Bar\\nThe K...\n",
      "1628    Visited this restaurant for lunch, after I had...\n",
      "4104    Oh I am sorry, did you want some food?  This s...\n",
      "Name: text, dtype: object]\n"
     ]
    }
   ],
   "source": [
    "similar_topics = [yelp['text'][t] for t in similar_topic_indices]\n",
    "print(similar_topics, sep='\\n\\n')"
   ]
  },
  {
   "cell_type": "markdown",
   "metadata": {},
   "source": [
    "## Part 3: Classification\n",
    "<a id=\"#p3\"></a>\n",
    "Your goal in this section will be to predict `stars` from the review dataset. \n",
    "\n",
    "1. Create a piepline object with a sklearn `CountVectorizer` or `TfidfVector` and any sklearn classifier. Use that pipeline to estimate a model to predict `stars`. Use the Pipeline to predict a star rating for your fake review from Part 2. \n",
    "2. Tune the entire pipeline with a GridSearch"
   ]
  },
  {
   "cell_type": "code",
   "execution_count": 22,
   "metadata": {},
   "outputs": [],
   "source": [
    "vect_pipe = TfidfVectorizer()\n",
    "sgdc = SGDClassifier()\n",
    "pipe = Pipeline([('vect', vect_pipe),\n",
    "                  ('sgdc', sgdc)])\n",
    "\n",
    "parameters = {\n",
    "    'vect__max_df': (0.5, 0.75),\n",
    "    'vect__min_df': (.02, .05),\n",
    "    'vect__max_features': ( 100, 500, 1000),\n",
    "    'sgdc__max_iter': (300, 1000),\n",
    "}\n",
    "grid_search = GridSearchCV(pipe, parameters, cv=5, n_jobs=-1, verbose=10)"
   ]
  },
  {
   "cell_type": "code",
   "execution_count": 23,
   "metadata": {},
   "outputs": [
    {
     "name": "stdout",
     "output_type": "stream",
     "text": [
      "Fitting 5 folds for each of 24 candidates, totalling 120 fits\n"
     ]
    },
    {
     "name": "stderr",
     "output_type": "stream",
     "text": [
      "[Parallel(n_jobs=-1)]: Using backend LokyBackend with 4 concurrent workers.\n",
      "[Parallel(n_jobs=-1)]: Done   5 tasks      | elapsed:   11.4s\n",
      "[Parallel(n_jobs=-1)]: Done  10 tasks      | elapsed:   16.2s\n",
      "[Parallel(n_jobs=-1)]: Done  17 tasks      | elapsed:   25.7s\n",
      "[Parallel(n_jobs=-1)]: Done  24 tasks      | elapsed:   32.3s\n",
      "[Parallel(n_jobs=-1)]: Done  33 tasks      | elapsed:   45.9s\n",
      "[Parallel(n_jobs=-1)]: Done  42 tasks      | elapsed:   56.9s\n",
      "[Parallel(n_jobs=-1)]: Done  53 tasks      | elapsed:  1.2min\n",
      "[Parallel(n_jobs=-1)]: Done  64 tasks      | elapsed:  1.5min\n",
      "[Parallel(n_jobs=-1)]: Done  77 tasks      | elapsed:  2.1min\n",
      "[Parallel(n_jobs=-1)]: Done  90 tasks      | elapsed:  2.6min\n",
      "[Parallel(n_jobs=-1)]: Done 105 tasks      | elapsed:  3.3min\n",
      "[Parallel(n_jobs=-1)]: Done 120 out of 120 | elapsed:  3.9min finished\n",
      "/anaconda3/envs/u4s1env/lib/python3.7/site-packages/sklearn/linear_model/stochastic_gradient.py:183: FutureWarning: max_iter and tol parameters have been added in SGDClassifier in 0.19. If max_iter is set but tol is left unset, the default value for tol in 0.19 and 0.20 will be None (which is equivalent to -infinity, so it has no effect) but will change in 0.21 to 1e-3. Specify tol to silence this warning.\n",
      "  FutureWarning)\n"
     ]
    },
    {
     "data": {
      "text/plain": [
       "GridSearchCV(cv=5, error_score='raise-deprecating',\n",
       "       estimator=Pipeline(memory=None,\n",
       "     steps=[('vect', TfidfVectorizer(analyzer='word', binary=False, decode_error='strict',\n",
       "        dtype=<class 'numpy.float64'>, encoding='utf-8', input='content',\n",
       "        lowercase=True, max_df=1.0, max_features=None, min_df=1,\n",
       "        ngram_range=(1, 1), norm='l2', preprocessor=None, smooth_idf=True,\n",
       "...m_state=None, shuffle=True, tol=None,\n",
       "       validation_fraction=0.1, verbose=0, warm_start=False))]),\n",
       "       fit_params=None, iid='warn', n_jobs=-1,\n",
       "       param_grid={'vect__max_df': (0.5, 0.75), 'vect__min_df': (0.02, 0.05), 'vect__max_features': (100, 500, 1000), 'sgdc__max_iter': (300, 1000)},\n",
       "       pre_dispatch='2*n_jobs', refit=True, return_train_score='warn',\n",
       "       scoring=None, verbose=10)"
      ]
     },
     "execution_count": 23,
     "metadata": {},
     "output_type": "execute_result"
    }
   ],
   "source": [
    "grid_search.fit(yelp['text'], yelp['stars'])"
   ]
  },
  {
   "cell_type": "code",
   "execution_count": 24,
   "metadata": {},
   "outputs": [
    {
     "data": {
      "text/plain": [
       "0.608"
      ]
     },
     "execution_count": 24,
     "metadata": {},
     "output_type": "execute_result"
    }
   ],
   "source": [
    "grid_search.best_score_"
   ]
  },
  {
   "cell_type": "code",
   "execution_count": 25,
   "metadata": {},
   "outputs": [
    {
     "data": {
      "text/plain": [
       "array([1, 5, 4, ..., 1, 5, 1])"
      ]
     },
     "execution_count": 25,
     "metadata": {},
     "output_type": "execute_result"
    }
   ],
   "source": [
    "grid_search.predict(yelp['text'])"
   ]
  },
  {
   "cell_type": "code",
   "execution_count": 27,
   "metadata": {},
   "outputs": [],
   "source": [
    "# Stretch goal\n",
    "vect2 = CountVectorizer()\n",
    "sgdc2 = SGDClassifier()\n",
    "pipe2 = Pipeline([('vect', vect2),\n",
    "                  ('sgdc', sgdc2)])\n",
    "\n",
    "param2 = {\n",
    "    'vect__max_df': (0.5, 0.75),\n",
    "    'vect__min_df': (.02, .05),\n",
    "    'vect__max_features': ( 100, 500, 1000),\n",
    "    'sgdc__max_iter': (300, 1000),\n",
    "}\n",
    "grid2 = GridSearchCV(pipe2, param2, cv=5, n_jobs=-1, verbose=10)"
   ]
  },
  {
   "cell_type": "code",
   "execution_count": 28,
   "metadata": {},
   "outputs": [
    {
     "name": "stdout",
     "output_type": "stream",
     "text": [
      "Fitting 5 folds for each of 24 candidates, totalling 120 fits\n"
     ]
    },
    {
     "name": "stderr",
     "output_type": "stream",
     "text": [
      "[Parallel(n_jobs=-1)]: Using backend LokyBackend with 4 concurrent workers.\n",
      "[Parallel(n_jobs=-1)]: Done   5 tasks      | elapsed:   10.7s\n",
      "[Parallel(n_jobs=-1)]: Done  10 tasks      | elapsed:   15.4s\n",
      "[Parallel(n_jobs=-1)]: Done  17 tasks      | elapsed:   24.8s\n",
      "[Parallel(n_jobs=-1)]: Done  24 tasks      | elapsed:   30.6s\n",
      "[Parallel(n_jobs=-1)]: Done  33 tasks      | elapsed:   44.0s\n",
      "[Parallel(n_jobs=-1)]: Done  42 tasks      | elapsed:   53.7s\n",
      "[Parallel(n_jobs=-1)]: Done  53 tasks      | elapsed:  1.1min\n",
      "[Parallel(n_jobs=-1)]: Done  64 tasks      | elapsed:  1.4min\n",
      "[Parallel(n_jobs=-1)]: Done  77 tasks      | elapsed:  2.0min\n",
      "[Parallel(n_jobs=-1)]: Done  90 tasks      | elapsed:  2.6min\n",
      "[Parallel(n_jobs=-1)]: Done 105 tasks      | elapsed:  3.2min\n",
      "[Parallel(n_jobs=-1)]: Done 120 out of 120 | elapsed:  3.8min finished\n",
      "/anaconda3/envs/u4s1env/lib/python3.7/site-packages/sklearn/linear_model/stochastic_gradient.py:183: FutureWarning: max_iter and tol parameters have been added in SGDClassifier in 0.19. If max_iter is set but tol is left unset, the default value for tol in 0.19 and 0.20 will be None (which is equivalent to -infinity, so it has no effect) but will change in 0.21 to 1e-3. Specify tol to silence this warning.\n",
      "  FutureWarning)\n"
     ]
    },
    {
     "data": {
      "text/plain": [
       "GridSearchCV(cv=5, error_score='raise-deprecating',\n",
       "       estimator=Pipeline(memory=None,\n",
       "     steps=[('vect', CountVectorizer(analyzer='word', binary=False, decode_error='strict',\n",
       "        dtype=<class 'numpy.int64'>, encoding='utf-8', input='content',\n",
       "        lowercase=True, max_df=1.0, max_features=None, min_df=1,\n",
       "        ngram_range=(1, 1), preprocessor=None, stop_words=None,\n",
       "        strip...m_state=None, shuffle=True, tol=None,\n",
       "       validation_fraction=0.1, verbose=0, warm_start=False))]),\n",
       "       fit_params=None, iid='warn', n_jobs=-1,\n",
       "       param_grid={'vect__max_df': (0.5, 0.75), 'vect__min_df': (0.02, 0.05), 'vect__max_features': (100, 500, 1000), 'sgdc__max_iter': (300, 1000)},\n",
       "       pre_dispatch='2*n_jobs', refit=True, return_train_score='warn',\n",
       "       scoring=None, verbose=10)"
      ]
     },
     "execution_count": 28,
     "metadata": {},
     "output_type": "execute_result"
    }
   ],
   "source": [
    "grid2.fit(yelp['text'], yelp['stars'])"
   ]
  },
  {
   "cell_type": "code",
   "execution_count": 29,
   "metadata": {},
   "outputs": [
    {
     "data": {
      "text/plain": [
       "0.6008"
      ]
     },
     "execution_count": 29,
     "metadata": {},
     "output_type": "execute_result"
    }
   ],
   "source": [
    "grid2.best_score_"
   ]
  },
  {
   "cell_type": "code",
   "execution_count": 30,
   "metadata": {},
   "outputs": [
    {
     "data": {
      "text/plain": [
       "array([1, 5, 4, ..., 1, 5, 1])"
      ]
     },
     "execution_count": 30,
     "metadata": {},
     "output_type": "execute_result"
    }
   ],
   "source": [
    "grid2.predict(yelp['text'])"
   ]
  },
  {
   "cell_type": "markdown",
   "metadata": {},
   "source": [
    "## Part 4: Topic Modeling\n",
    "\n",
    "Let's find out what those yelp reviews are saying! :D\n",
    "\n",
    "1. Estimate a LDA topic model of the review text\n",
    "    - Keep the `iterations` parameter at or below 5 to reduce run time\n",
    "    - The `workers` parameter should match the number of physical cores on your machine.\n",
    "2. Create 1-2 visualizations of the results\n",
    "    - You can use the most important 3 words of a topic in relevant visualizations. Refer to yesterday's notebook to extract. \n",
    "3. In markdown, write 1-2 paragraphs of analysis on the results of your topic model\n",
    "\n",
    "__*Note*__: You can pass the DataFrame column of text reviews to gensim. You do not have to use a generator."
   ]
  },
  {
   "cell_type": "code",
   "execution_count": 33,
   "metadata": {
    "collapsed": false,
    "inputHidden": false,
    "outputHidden": false
   },
   "outputs": [],
   "source": [
    "from gensim.models import LdaMulticore\n",
    "from gensim.corpora import Dictionary\n",
    "\n",
    "# Define generator function\n",
    "def get_reviews(df, token_col):\n",
    "\n",
    "    for index, row in df.iterrows():\n",
    "        review_token = row[token_col]\n",
    "        yield review_token"
   ]
  },
  {
   "cell_type": "markdown",
   "metadata": {},
   "source": [
    "Learn the vocubalary of the yelp data:"
   ]
  },
  {
   "cell_type": "code",
   "execution_count": 35,
   "metadata": {},
   "outputs": [],
   "source": [
    "id2word = corpora.Dictionary(get_reviews(yelp, 'tokens'))"
   ]
  },
  {
   "cell_type": "markdown",
   "metadata": {},
   "source": [
    "Create a bag of words representation of the entire corpus"
   ]
  },
  {
   "cell_type": "code",
   "execution_count": 37,
   "metadata": {
    "collapsed": false,
    "inputHidden": false,
    "outputHidden": false
   },
   "outputs": [],
   "source": [
    "corpus = [id2word.doc2bow(review) for review in get_reviews(yelp, 'tokens')]"
   ]
  },
  {
   "cell_type": "markdown",
   "metadata": {},
   "source": [
    "Your LDA model should be ready for estimation: "
   ]
  },
  {
   "cell_type": "code",
   "execution_count": 38,
   "metadata": {
    "collapsed": false,
    "inputHidden": false,
    "outputHidden": false
   },
   "outputs": [],
   "source": [
    "lda = LdaMulticore(corpus=corpus,\n",
    "                   id2word=id2word,\n",
    "                   iterations=5,\n",
    "                   workers=4,\n",
    "                   num_topics = 10 # You can change this parameter\n",
    "                  )"
   ]
  },
  {
   "cell_type": "markdown",
   "metadata": {},
   "source": [
    "Create 1-2 visualizations of the results"
   ]
  },
  {
   "cell_type": "code",
   "execution_count": 39,
   "metadata": {
    "collapsed": false,
    "inputHidden": false,
    "outputHidden": false
   },
   "outputs": [],
   "source": [
    "words = [re.findall(r'\"([^\"]*)\"',t[1]) for t in lda.print_topics()]"
   ]
  },
  {
   "cell_type": "code",
   "execution_count": 40,
   "metadata": {},
   "outputs": [],
   "source": [
    "topics = [' '.join(t[0:5]) for t in words]"
   ]
  },
  {
   "cell_type": "code",
   "execution_count": 41,
   "metadata": {},
   "outputs": [
    {
     "name": "stdout",
     "output_type": "stream",
     "text": [
      "------ Topic 1 ------\n",
      "place great food like good\n",
      "\n",
      "------ Topic 2 ------\n",
      "place food good great time\n",
      "\n",
      "------ Topic 3 ------\n",
      "food place good great service\n",
      "\n",
      "------ Topic 4 ------\n",
      "good food service place great\n",
      "\n",
      "------ Topic 5 ------\n",
      "food place good service great\n",
      "\n",
      "------ Topic 6 ------\n",
      "good great food place service\n",
      "\n",
      "------ Topic 7 ------\n",
      "great food place good service\n",
      "\n",
      "------ Topic 8 ------\n",
      "good food like place time\n",
      "\n",
      "------ Topic 9 ------\n",
      "food place like time great\n",
      "\n",
      "------ Topic 10 ------\n",
      "place great good like food\n",
      "\n"
     ]
    }
   ],
   "source": [
    "for id, t in enumerate(topics): \n",
    "    print(f\"------ Topic {id + 1} ------\")\n",
    "    print(t, end=\"\\n\\n\")"
   ]
  },
  {
   "cell_type": "code",
   "execution_count": 42,
   "metadata": {},
   "outputs": [
    {
     "name": "stderr",
     "output_type": "stream",
     "text": [
      "/anaconda3/envs/u4s1env/lib/python3.7/site-packages/pyLDAvis/_prepare.py:257: FutureWarning: Sorting because non-concatenation axis is not aligned. A future version\n",
      "of pandas will change to not sort by default.\n",
      "\n",
      "To accept the future behavior, pass 'sort=False'.\n",
      "\n",
      "To retain the current behavior and silence the warning, pass 'sort=True'.\n",
      "\n",
      "  return pd.concat([default_term_info] + list(topic_dfs))\n"
     ]
    },
    {
     "data": {
      "text/html": [
       "\n",
       "<link rel=\"stylesheet\" type=\"text/css\" href=\"https://cdn.rawgit.com/bmabey/pyLDAvis/files/ldavis.v1.0.0.css\">\n",
       "\n",
       "\n",
       "<div id=\"ldavis_el138561128341741929064304954\"></div>\n",
       "<script type=\"text/javascript\">\n",
       "\n",
       "var ldavis_el138561128341741929064304954_data = {\"mdsDat\": {\"x\": [0.003996330992173773, -0.0011646032254076786, -0.0020809767815484536, -0.003405405620872549, -0.00012926381928588532, -0.0036677512298300317, -0.0006614649243052266, 0.0026877701566469145, 0.004518699407455542, -9.333495502640938e-05], \"y\": [-0.002654921369295211, -0.003559114950865547, 0.0009653617325746443, -0.001805328701718416, 0.0034154970651510217, -0.001845387846257473, 0.004120994357626882, -0.0017225680008889062, 0.0007898521746864726, 0.002295615538986539], \"topics\": [1, 2, 3, 4, 5, 6, 7, 8, 9, 10], \"cluster\": [1, 1, 1, 1, 1, 1, 1, 1, 1, 1], \"Freq\": [10.629053115844727, 10.358078956604004, 10.313624382019043, 10.041326522827148, 9.939194679260254, 9.894749641418457, 9.834783554077148, 9.708451271057129, 9.678023338317871, 9.602718353271484]}, \"tinfo\": {\"Category\": [\"Default\", \"Default\", \"Default\", \"Default\", \"Default\", \"Default\", \"Default\", \"Default\", \"Default\", \"Default\", \"Default\", \"Default\", \"Default\", \"Default\", \"Default\", \"Default\", \"Default\", \"Default\", \"Default\", \"Default\", \"Default\", \"Default\", \"Default\", \"Default\", \"Default\", \"Default\", \"Default\", \"Default\", \"Default\", \"Default\", \"Topic1\", \"Topic1\", \"Topic1\", \"Topic1\", \"Topic1\", \"Topic1\", \"Topic1\", \"Topic1\", \"Topic1\", \"Topic1\", \"Topic1\", \"Topic1\", \"Topic1\", \"Topic1\", \"Topic1\", \"Topic1\", \"Topic1\", \"Topic1\", \"Topic1\", \"Topic1\", \"Topic1\", \"Topic1\", \"Topic1\", \"Topic1\", \"Topic1\", \"Topic1\", \"Topic1\", \"Topic1\", \"Topic1\", \"Topic1\", \"Topic1\", \"Topic1\", \"Topic1\", \"Topic1\", \"Topic1\", \"Topic1\", \"Topic1\", \"Topic1\", \"Topic1\", \"Topic1\", \"Topic1\", \"Topic1\", \"Topic1\", \"Topic1\", \"Topic1\", \"Topic1\", \"Topic1\", \"Topic1\", \"Topic1\", \"Topic1\", \"Topic1\", \"Topic1\", \"Topic1\", \"Topic1\", \"Topic1\", \"Topic1\", \"Topic1\", \"Topic1\", \"Topic1\", \"Topic1\", \"Topic1\", \"Topic1\", \"Topic1\", \"Topic1\", \"Topic1\", \"Topic1\", \"Topic1\", \"Topic1\", \"Topic1\", \"Topic1\", \"Topic1\", \"Topic1\", \"Topic1\", \"Topic1\", \"Topic1\", \"Topic1\", \"Topic1\", \"Topic1\", \"Topic1\", \"Topic1\", \"Topic1\", \"Topic2\", \"Topic2\", \"Topic2\", \"Topic2\", \"Topic2\", \"Topic2\", \"Topic2\", \"Topic2\", \"Topic2\", \"Topic2\", \"Topic2\", \"Topic2\", \"Topic2\", \"Topic2\", \"Topic2\", \"Topic2\", \"Topic2\", \"Topic2\", \"Topic2\", \"Topic2\", \"Topic2\", \"Topic2\", \"Topic2\", \"Topic2\", \"Topic2\", \"Topic2\", \"Topic2\", \"Topic2\", \"Topic2\", \"Topic2\", \"Topic2\", \"Topic2\", \"Topic2\", \"Topic2\", \"Topic2\", \"Topic2\", \"Topic2\", \"Topic2\", \"Topic2\", \"Topic2\", \"Topic2\", \"Topic2\", \"Topic2\", \"Topic2\", \"Topic2\", \"Topic2\", \"Topic2\", \"Topic2\", \"Topic2\", \"Topic2\", \"Topic2\", \"Topic2\", \"Topic2\", \"Topic2\", \"Topic2\", \"Topic2\", \"Topic2\", \"Topic2\", \"Topic2\", \"Topic2\", \"Topic2\", \"Topic2\", \"Topic2\", \"Topic2\", \"Topic2\", \"Topic2\", \"Topic2\", \"Topic2\", \"Topic2\", \"Topic2\", \"Topic2\", \"Topic2\", \"Topic2\", \"Topic2\", \"Topic2\", \"Topic2\", \"Topic2\", \"Topic2\", \"Topic2\", \"Topic2\", \"Topic2\", \"Topic2\", \"Topic3\", \"Topic3\", \"Topic3\", \"Topic3\", \"Topic3\", \"Topic3\", \"Topic3\", \"Topic3\", \"Topic3\", \"Topic3\", \"Topic3\", \"Topic3\", \"Topic3\", \"Topic3\", \"Topic3\", \"Topic3\", \"Topic3\", \"Topic3\", \"Topic3\", \"Topic3\", \"Topic3\", \"Topic3\", \"Topic3\", \"Topic3\", \"Topic3\", \"Topic3\", \"Topic3\", \"Topic3\", \"Topic3\", \"Topic3\", \"Topic3\", \"Topic3\", \"Topic3\", \"Topic3\", \"Topic3\", \"Topic3\", \"Topic3\", \"Topic3\", \"Topic3\", \"Topic3\", \"Topic3\", \"Topic3\", \"Topic3\", \"Topic3\", \"Topic3\", \"Topic3\", \"Topic3\", \"Topic3\", \"Topic3\", \"Topic3\", \"Topic3\", \"Topic3\", \"Topic3\", \"Topic3\", \"Topic3\", \"Topic3\", \"Topic3\", \"Topic3\", \"Topic3\", \"Topic3\", \"Topic3\", \"Topic3\", \"Topic3\", \"Topic3\", \"Topic3\", \"Topic3\", \"Topic3\", \"Topic3\", \"Topic3\", \"Topic3\", \"Topic3\", \"Topic3\", \"Topic3\", \"Topic3\", \"Topic3\", \"Topic3\", \"Topic3\", \"Topic3\", \"Topic3\", \"Topic3\", \"Topic3\", \"Topic3\", \"Topic3\", \"Topic4\", \"Topic4\", \"Topic4\", \"Topic4\", \"Topic4\", \"Topic4\", \"Topic4\", \"Topic4\", \"Topic4\", \"Topic4\", \"Topic4\", \"Topic4\", \"Topic4\", \"Topic4\", \"Topic4\", \"Topic4\", \"Topic4\", \"Topic4\", \"Topic4\", \"Topic4\", \"Topic4\", \"Topic4\", \"Topic4\", \"Topic4\", \"Topic4\", \"Topic4\", \"Topic4\", \"Topic4\", \"Topic4\", \"Topic4\", \"Topic4\", \"Topic4\", \"Topic4\", \"Topic4\", \"Topic4\", \"Topic4\", \"Topic4\", \"Topic4\", \"Topic4\", \"Topic4\", \"Topic4\", \"Topic4\", \"Topic4\", \"Topic4\", \"Topic4\", \"Topic4\", \"Topic4\", \"Topic4\", \"Topic4\", \"Topic4\", \"Topic4\", \"Topic4\", \"Topic4\", \"Topic4\", \"Topic4\", \"Topic4\", \"Topic4\", \"Topic4\", \"Topic4\", \"Topic4\", \"Topic4\", \"Topic4\", \"Topic4\", \"Topic4\", \"Topic4\", \"Topic4\", \"Topic4\", \"Topic4\", \"Topic4\", \"Topic4\", \"Topic4\", \"Topic4\", \"Topic4\", \"Topic4\", \"Topic4\", \"Topic4\", \"Topic4\", \"Topic4\", \"Topic4\", \"Topic4\", \"Topic4\", \"Topic5\", \"Topic5\", \"Topic5\", \"Topic5\", \"Topic5\", \"Topic5\", \"Topic5\", \"Topic5\", \"Topic5\", \"Topic5\", \"Topic5\", \"Topic5\", \"Topic5\", \"Topic5\", \"Topic5\", \"Topic5\", \"Topic5\", \"Topic5\", \"Topic5\", \"Topic5\", \"Topic5\", \"Topic5\", \"Topic5\", \"Topic5\", \"Topic5\", \"Topic5\", \"Topic5\", \"Topic5\", \"Topic5\", \"Topic5\", \"Topic5\", \"Topic5\", \"Topic5\", \"Topic5\", \"Topic5\", \"Topic5\", \"Topic5\", \"Topic5\", \"Topic5\", \"Topic5\", \"Topic5\", \"Topic5\", \"Topic5\", \"Topic5\", \"Topic5\", \"Topic5\", \"Topic5\", \"Topic5\", \"Topic5\", \"Topic5\", \"Topic5\", \"Topic5\", \"Topic5\", \"Topic5\", \"Topic5\", \"Topic5\", \"Topic5\", \"Topic5\", \"Topic5\", \"Topic5\", \"Topic5\", \"Topic5\", \"Topic5\", \"Topic5\", \"Topic5\", \"Topic5\", \"Topic5\", \"Topic5\", \"Topic5\", \"Topic5\", \"Topic5\", \"Topic5\", \"Topic5\", \"Topic5\", \"Topic5\", \"Topic5\", \"Topic5\", \"Topic5\", \"Topic5\", \"Topic5\", \"Topic5\", \"Topic6\", \"Topic6\", \"Topic6\", \"Topic6\", \"Topic6\", \"Topic6\", \"Topic6\", \"Topic6\", \"Topic6\", \"Topic6\", \"Topic6\", \"Topic6\", \"Topic6\", \"Topic6\", \"Topic6\", \"Topic6\", \"Topic6\", \"Topic6\", \"Topic6\", \"Topic6\", \"Topic6\", \"Topic6\", \"Topic6\", \"Topic6\", \"Topic6\", \"Topic6\", \"Topic6\", \"Topic6\", \"Topic6\", \"Topic6\", \"Topic6\", \"Topic6\", \"Topic6\", \"Topic6\", \"Topic6\", \"Topic6\", \"Topic6\", \"Topic6\", \"Topic6\", \"Topic6\", \"Topic6\", \"Topic6\", \"Topic6\", \"Topic6\", \"Topic6\", \"Topic6\", \"Topic6\", \"Topic6\", \"Topic6\", \"Topic6\", \"Topic6\", \"Topic6\", \"Topic6\", \"Topic6\", \"Topic6\", \"Topic6\", \"Topic6\", \"Topic6\", \"Topic6\", \"Topic6\", \"Topic6\", \"Topic6\", \"Topic6\", \"Topic6\", \"Topic6\", \"Topic6\", \"Topic6\", \"Topic6\", \"Topic6\", \"Topic6\", \"Topic6\", \"Topic6\", \"Topic6\", \"Topic6\", \"Topic6\", \"Topic6\", \"Topic6\", \"Topic6\", \"Topic6\", \"Topic6\", \"Topic6\", \"Topic6\", \"Topic6\", \"Topic6\", \"Topic6\", \"Topic6\", \"Topic6\", \"Topic6\", \"Topic7\", \"Topic7\", \"Topic7\", \"Topic7\", \"Topic7\", \"Topic7\", \"Topic7\", \"Topic7\", \"Topic7\", \"Topic7\", \"Topic7\", \"Topic7\", \"Topic7\", \"Topic7\", \"Topic7\", \"Topic7\", \"Topic7\", \"Topic7\", \"Topic7\", \"Topic7\", \"Topic7\", \"Topic7\", \"Topic7\", \"Topic7\", \"Topic7\", \"Topic7\", \"Topic7\", \"Topic7\", \"Topic7\", \"Topic7\", \"Topic7\", \"Topic7\", \"Topic7\", \"Topic7\", \"Topic7\", \"Topic7\", \"Topic7\", \"Topic7\", \"Topic7\", \"Topic7\", \"Topic7\", \"Topic7\", \"Topic7\", \"Topic7\", \"Topic7\", \"Topic7\", \"Topic7\", \"Topic7\", \"Topic7\", \"Topic7\", \"Topic7\", \"Topic7\", \"Topic7\", \"Topic7\", \"Topic7\", \"Topic7\", \"Topic7\", \"Topic7\", \"Topic7\", \"Topic7\", \"Topic7\", \"Topic7\", \"Topic7\", \"Topic7\", \"Topic7\", \"Topic7\", \"Topic7\", \"Topic7\", \"Topic7\", \"Topic7\", \"Topic7\", \"Topic7\", \"Topic7\", \"Topic7\", \"Topic7\", \"Topic7\", \"Topic7\", \"Topic7\", \"Topic7\", \"Topic8\", \"Topic8\", \"Topic8\", \"Topic8\", \"Topic8\", \"Topic8\", \"Topic8\", \"Topic8\", \"Topic8\", \"Topic8\", \"Topic8\", \"Topic8\", \"Topic8\", \"Topic8\", \"Topic8\", \"Topic8\", \"Topic8\", \"Topic8\", \"Topic8\", \"Topic8\", \"Topic8\", \"Topic8\", \"Topic8\", \"Topic8\", \"Topic8\", \"Topic8\", \"Topic8\", \"Topic8\", \"Topic8\", \"Topic8\", \"Topic8\", \"Topic8\", \"Topic8\", \"Topic8\", \"Topic8\", \"Topic8\", \"Topic8\", \"Topic8\", \"Topic8\", \"Topic8\", \"Topic8\", \"Topic8\", \"Topic8\", \"Topic8\", \"Topic8\", \"Topic8\", \"Topic8\", \"Topic8\", \"Topic8\", \"Topic8\", \"Topic8\", \"Topic8\", \"Topic8\", \"Topic8\", \"Topic8\", \"Topic8\", \"Topic8\", \"Topic8\", \"Topic8\", \"Topic8\", \"Topic8\", \"Topic8\", \"Topic8\", \"Topic8\", \"Topic8\", \"Topic8\", \"Topic8\", \"Topic8\", \"Topic8\", \"Topic8\", \"Topic8\", \"Topic8\", \"Topic8\", \"Topic8\", \"Topic8\", \"Topic8\", \"Topic8\", \"Topic8\", \"Topic8\", \"Topic8\", \"Topic8\", \"Topic8\", \"Topic9\", \"Topic9\", \"Topic9\", \"Topic9\", \"Topic9\", \"Topic9\", \"Topic9\", \"Topic9\", \"Topic9\", \"Topic9\", \"Topic9\", \"Topic9\", \"Topic9\", \"Topic9\", \"Topic9\", \"Topic9\", \"Topic9\", \"Topic9\", \"Topic9\", \"Topic9\", \"Topic9\", \"Topic9\", \"Topic9\", \"Topic9\", \"Topic9\", \"Topic9\", \"Topic9\", \"Topic9\", \"Topic9\", \"Topic9\", \"Topic9\", \"Topic9\", \"Topic9\", \"Topic9\", \"Topic9\", \"Topic9\", \"Topic9\", \"Topic9\", \"Topic9\", \"Topic9\", \"Topic9\", \"Topic9\", \"Topic9\", \"Topic9\", \"Topic9\", \"Topic9\", \"Topic9\", \"Topic9\", \"Topic9\", \"Topic9\", \"Topic9\", \"Topic9\", \"Topic9\", \"Topic9\", \"Topic9\", \"Topic9\", \"Topic9\", \"Topic9\", \"Topic9\", \"Topic9\", \"Topic9\", \"Topic9\", \"Topic9\", \"Topic9\", \"Topic9\", \"Topic9\", \"Topic9\", \"Topic9\", \"Topic9\", \"Topic9\", \"Topic9\", \"Topic9\", \"Topic9\", \"Topic9\", \"Topic9\", \"Topic9\", \"Topic9\", \"Topic9\", \"Topic9\", \"Topic9\", \"Topic10\", \"Topic10\", \"Topic10\", \"Topic10\", \"Topic10\", \"Topic10\", \"Topic10\", \"Topic10\", \"Topic10\", \"Topic10\", \"Topic10\", \"Topic10\", \"Topic10\", \"Topic10\", \"Topic10\", \"Topic10\", \"Topic10\", \"Topic10\", \"Topic10\", \"Topic10\", \"Topic10\", \"Topic10\", \"Topic10\", \"Topic10\", \"Topic10\", \"Topic10\", \"Topic10\", \"Topic10\", \"Topic10\", \"Topic10\", \"Topic10\", \"Topic10\", \"Topic10\", \"Topic10\", \"Topic10\", \"Topic10\", \"Topic10\", \"Topic10\", \"Topic10\", \"Topic10\", \"Topic10\", \"Topic10\", \"Topic10\", \"Topic10\", \"Topic10\", \"Topic10\", \"Topic10\", \"Topic10\", \"Topic10\", \"Topic10\", \"Topic10\", \"Topic10\", \"Topic10\", \"Topic10\", \"Topic10\", \"Topic10\", \"Topic10\", \"Topic10\", \"Topic10\", \"Topic10\", \"Topic10\", \"Topic10\", \"Topic10\", \"Topic10\", \"Topic10\", \"Topic10\", \"Topic10\", \"Topic10\", \"Topic10\", \"Topic10\", \"Topic10\", \"Topic10\", \"Topic10\", \"Topic10\", \"Topic10\", \"Topic10\", \"Topic10\", \"Topic10\", \"Topic10\", \"Topic10\", \"Topic10\", \"Topic10\", \"Topic10\", \"Topic10\", \"Topic10\", \"Topic10\", \"Topic10\", \"Topic10\", \"Topic10\", \"Topic10\", \"Topic10\"], \"Freq\": [4456.0, 4125.0, 1588.0, 3502.0, 1751.0, 4757.0, 1986.0, 1194.0, 1313.0, 3331.0, 1071.0, 1505.0, 923.0, 1331.0, 1122.0, 941.0, 1106.0, 1488.0, 1021.0, 1858.0, 1433.0, 873.0, 1250.0, 724.0, 675.0, 1440.0, 808.0, 1372.0, 3303.0, 656.0, 1.1537491083145142, 0.5781794786453247, 1.4154614210128784, 0.903334379196167, 0.894129753112793, 0.8800742626190186, 0.4479160010814667, 0.5912540555000305, 0.5795816779136658, 0.4114396572113037, 1.6392980813980103, 1.0975486040115356, 0.4022907018661499, 0.7654860019683838, 0.7599984407424927, 1.2773784399032593, 0.5526590943336487, 1.54707670211792, 0.38030412793159485, 0.7261801958084106, 0.3794220983982086, 1.175066590309143, 0.6934877038002014, 1.1666635274887085, 0.9762530326843262, 0.6819185018539429, 0.6639297604560852, 0.6609119772911072, 0.6280369758605957, 0.9403112530708313, 3.993046760559082, 3.664546489715576, 19.097572326660156, 167.29051208496094, 239.09022521972656, 530.3504638671875, 106.90766906738281, 97.26995849609375, 658.0424194335938, 192.4857940673828, 101.32689666748047, 82.69457244873047, 66.67623138427734, 112.87481689453125, 120.87608337402344, 33.89512252807617, 553.7235717773438, 72.8082046508789, 224.69288635253906, 536.5355834960938, 191.10223388671875, 70.67698669433594, 27.34063720703125, 81.67178344726562, 246.7798309326172, 59.16904067993164, 53.499359130859375, 181.07208251953125, 60.09212875366211, 61.60411834716797, 141.92333984375, 88.92523193359375, 170.6370391845703, 173.61659240722656, 212.68199157714844, 165.8809356689453, 98.23522186279297, 137.576904296875, 327.3028259277344, 156.3149871826172, 369.4707336425781, 142.38858032226562, 153.60328674316406, 298.1339111328125, 129.14154052734375, 168.91497802734375, 142.7935791015625, 148.2986602783203, 128.64675903320312, 135.86582946777344, 134.40505981445312, 1.0186408758163452, 0.5303436517715454, 0.9490873217582703, 0.49523746967315674, 0.910174548625946, 0.899860680103302, 0.4549020826816559, 0.8666502237319946, 0.8653397560119629, 0.45253050327301025, 2.1350975036621094, 1.2118154764175415, 0.7896009087562561, 0.6111223697662354, 0.8053677678108215, 0.4157659113407135, 0.9609294533729553, 1.128326416015625, 0.7880374789237976, 0.40477338433265686, 0.9390335083007812, 0.755568265914917, 0.5557094812393188, 0.9155327677726746, 1.0678735971450806, 0.9052666425704956, 1.7264621257781982, 1.0540072917938232, 0.3845052719116211, 0.8380116820335388, 2.249213218688965, 1.35536527633667, 23.502826690673828, 152.5086212158203, 219.73760986328125, 68.08438873291016, 21.964628219604492, 632.7420654296875, 76.57398223876953, 230.92857360839844, 74.42256927490234, 26.68500328063965, 21.04880714416504, 236.30369567871094, 158.7820281982422, 41.19466018676758, 105.45960235595703, 122.57683563232422, 165.24000549316406, 157.1323699951172, 68.00332641601562, 48.94612121582031, 141.35964965820312, 55.634159088134766, 57.76314163208008, 468.913330078125, 127.37686920166016, 74.13827514648438, 72.86601257324219, 449.9590759277344, 130.5369110107422, 66.77727508544922, 330.7958679199219, 162.1015167236328, 342.5286865234375, 390.4946594238281, 324.410400390625, 85.2281723022461, 181.54563903808594, 112.93867492675781, 204.2821502685547, 158.91282653808594, 155.0942840576172, 163.2579803466797, 147.4576873779297, 132.26904296875, 131.96145629882812, 111.01116180419922, 121.56330108642578, 139.67138671875, 127.01500701904297, 125.69759368896484, 1.161083698272705, 1.4623446464538574, 0.7532098889350891, 0.882763683795929, 0.8716614842414856, 0.3757627010345459, 0.3745381534099579, 0.7138707041740417, 0.8655174970626831, 0.36960357427597046, 0.7012246251106262, 0.6999973058700562, 0.6844969987869263, 0.9701324105262756, 0.7805530428886414, 0.802492618560791, 0.661647617816925, 0.6600915789604187, 0.7857661247253418, 0.6466132402420044, 0.3350642919540405, 0.33336904644966125, 0.6242784261703491, 0.4571850001811981, 0.7500549554824829, 0.6115642786026001, 0.7098340392112732, 1.7832485437393188, 3.7268640995025635, 0.31914207339286804, 0.7054038047790527, 143.6610870361328, 4.615931510925293, 1.1474100351333618, 2.0077199935913086, 211.8649444580078, 166.89431762695312, 59.42792892456055, 62.97712326049805, 58.38546371459961, 36.974876403808594, 442.3330993652344, 420.3322448730469, 154.7644805908203, 25.874393463134766, 88.00960540771484, 142.9844512939453, 86.63163757324219, 30.866907119750977, 58.02779769897461, 212.2552032470703, 70.05072784423828, 82.8380355834961, 147.7629852294922, 33.09068298339844, 166.37489318847656, 511.7336120605469, 30.397493362426758, 45.66655731201172, 117.91010284423828, 473.5461120605469, 177.4481964111328, 371.94561767578125, 168.73184204101562, 99.60723876953125, 95.9253158569336, 156.26104736328125, 393.0575256347656, 152.43104553222656, 209.551513671875, 152.53028869628906, 180.18539428710938, 159.4080352783203, 359.6344299316406, 133.25767517089844, 122.4839096069336, 119.51444244384766, 141.1721954345703, 143.93443298339844, 167.84730529785156, 149.9553680419922, 133.30064392089844, 130.1921844482422, 1.7587002515792847, 1.0356134176254272, 0.48018878698349, 0.8828958868980408, 0.9837650656700134, 0.9253979921340942, 0.416262149810791, 0.7496159672737122, 0.9083743095397949, 0.757239580154419, 1.3989627361297607, 1.666625738143921, 0.38304147124290466, 0.8833734393119812, 0.8652791380882263, 0.7051256895065308, 0.36689189076423645, 0.6889129281044006, 0.35413792729377747, 1.084991216659546, 0.8020032644271851, 0.34369757771492004, 0.6549302935600281, 1.0345416069030762, 0.6493595242500305, 0.6422218680381775, 0.3312729597091675, 0.33044108748435974, 0.32856854796409607, 0.5928440690040588, 2.0012834072113037, 1.9298744201660156, 0.6221003532409668, 214.72689819335938, 92.5841064453125, 14.0195894241333, 576.5249633789062, 134.29762268066406, 77.7922592163086, 28.177331924438477, 186.6441192626953, 217.22793579101562, 31.18671417236328, 185.495849609375, 23.203571319580078, 118.71342468261719, 104.57173156738281, 176.12301635742188, 226.828369140625, 174.99932861328125, 137.48431396484375, 185.95816040039062, 60.3264274597168, 86.25374603271484, 102.97587585449219, 56.545345306396484, 59.11294174194336, 59.6279296875, 57.735103607177734, 168.41610717773438, 62.653541564941406, 62.099727630615234, 423.6379089355469, 427.11627197265625, 180.88436889648438, 185.38491821289062, 93.3804931640625, 116.23899841308594, 319.6780700683594, 131.5919647216797, 298.7088928222656, 371.35894775390625, 291.22015380859375, 150.6222381591797, 141.1250457763672, 137.66372680664062, 174.50088500976562, 144.55162048339844, 135.08311462402344, 124.198486328125, 121.88523864746094, 1.6419233083724976, 1.2573753595352173, 0.5880056619644165, 0.5833804607391357, 1.6364635229110718, 0.8298466205596924, 1.1531039476394653, 2.1372976303100586, 0.9336535930633545, 0.7576559782028198, 0.90473473072052, 0.7183720469474792, 1.3534557819366455, 0.36574479937553406, 1.7554609775543213, 1.1440489292144775, 0.961073637008667, 0.6636940240859985, 0.3469492793083191, 0.7713396549224854, 1.3240071535110474, 0.6240350604057312, 0.6204253435134888, 0.6192126870155334, 1.0461424589157104, 0.582030713558197, 0.3207026720046997, 0.6122112274169922, 0.6113117337226868, 1.552243709564209, 11.726712226867676, 48.001060485839844, 1.4970685243606567, 322.04052734375, 19.912250518798828, 2.3133180141448975, 125.08303833007812, 73.6793441772461, 77.60897064208984, 67.52143859863281, 119.96833038330078, 68.92688751220703, 24.013599395751953, 177.0960235595703, 146.62062072753906, 125.68461608886719, 139.23641967773438, 60.03545379638672, 378.2765808105469, 104.90443420410156, 84.1857681274414, 77.63063049316406, 58.331233978271484, 23.283540725708008, 147.3594970703125, 159.0574188232422, 405.0112609863281, 80.36196899414062, 113.86740112304688, 429.2900390625, 324.6795654296875, 117.07910919189453, 165.0160675048828, 129.968994140625, 160.4463653564453, 154.23509216308594, 379.9761047363281, 149.00132751464844, 128.4326934814453, 286.3732604980469, 336.826416015625, 147.04002380371094, 141.8183135986328, 122.83586883544922, 155.29827880859375, 128.92807006835938, 137.53689575195312, 126.43647003173828, 121.42559814453125, 123.56671142578125, 121.57632446289062, 0.6002588868141174, 0.712340772151947, 0.7105522155761719, 0.9348465204238892, 0.9036552906036377, 0.4732297360897064, 0.8849684596061707, 0.8041746616363525, 0.9393302798271179, 0.40287289023399353, 0.7224021553993225, 0.7563318610191345, 0.3956589102745056, 0.7525748014450073, 0.39415252208709717, 1.2529137134552002, 0.3874172568321228, 1.718217372894287, 0.5377140045166016, 0.3823869228363037, 0.728005051612854, 0.7210294008255005, 0.3775815963745117, 0.3750044107437134, 0.37416526675224304, 1.2043973207473755, 0.37110403180122375, 0.7083427906036377, 0.7017849683761597, 0.6976297497749329, 73.1317367553711, 149.10877990722656, 1.6936194896697998, 4.079075336456299, 228.5908966064453, 77.55789947509766, 7.180943489074707, 527.5711669921875, 133.4826202392578, 27.221830368041992, 77.79788970947266, 88.9799575805664, 49.318485260009766, 529.068359375, 85.75475311279297, 13.14966869354248, 26.595382690429688, 49.03422546386719, 46.65219497680664, 95.96766662597656, 21.541051864624023, 28.610946655273438, 180.45700073242188, 44.061031341552734, 80.22319030761719, 98.0969467163086, 42.15693283081055, 66.52465057373047, 151.82899475097656, 142.83740234375, 76.35799407958984, 59.04716873168945, 156.0228729248047, 322.6611328125, 119.66297149658203, 107.7119369506836, 146.29708862304688, 80.83934783935547, 297.375244140625, 383.66143798828125, 96.75965118408203, 141.13980102539062, 292.1974792480469, 139.63624572753906, 163.29229736328125, 169.5528106689453, 310.0204162597656, 118.07156372070312, 137.3677978515625, 132.7813720703125, 158.82594299316406, 130.73403930664062, 110.62650299072266, 134.0340576171875, 121.4293212890625, 109.43795776367188, 116.7480239868164, 112.12351989746094, 0.9913269877433777, 0.5160093903541565, 0.47135886549949646, 0.8977504372596741, 0.44520336389541626, 0.8280676007270813, 0.4071791172027588, 0.5726123452186584, 0.774096667766571, 0.765033483505249, 0.9168109893798828, 0.5516628623008728, 0.7185812592506409, 0.504869282245636, 0.35786673426628113, 0.6834896206855774, 2.567307233810425, 0.35599076747894287, 0.6377657651901245, 0.34678956866264343, 0.9443444609642029, 0.6594282388687134, 1.6725645065307617, 0.47186216711997986, 1.211426019668579, 0.6348462700843811, 1.0020806789398193, 0.6293317079544067, 1.3299996852874756, 0.6279933452606201, 1.2911585569381714, 2.220160722732544, 109.77484893798828, 115.18390655517578, 24.053974151611328, 166.66148376464844, 96.82841491699219, 69.60912322998047, 199.23931884765625, 87.07110595703125, 73.98876190185547, 35.366031646728516, 231.52911376953125, 182.22637939453125, 87.40422821044922, 127.46376037597656, 171.9084930419922, 65.4398422241211, 25.197446823120117, 95.20342254638672, 480.44403076171875, 353.45013427734375, 82.67562866210938, 67.38105010986328, 19.574487686157227, 125.90484619140625, 163.14834594726562, 328.1039733886719, 127.61002349853516, 159.36151123046875, 153.86251831054688, 79.91079711914062, 421.979736328125, 146.82760620117188, 361.92340087890625, 173.7093048095703, 376.7403869628906, 92.6436767578125, 149.41265869140625, 105.00403594970703, 134.9921875, 237.48500061035156, 114.1833724975586, 154.6340789794922, 134.7440185546875, 117.30591583251953, 120.68356323242188, 121.85657501220703, 113.15779876708984, 0.5673153400421143, 0.45106789469718933, 0.8094323873519897, 1.5033297538757324, 0.7657039165496826, 0.7511165142059326, 0.3925720751285553, 0.5438251495361328, 0.37571820616722107, 1.0166178941726685, 0.36859405040740967, 1.1759885549545288, 1.6103562116622925, 0.6846312880516052, 0.3579844534397125, 0.6790111064910889, 0.3502010703086853, 0.6644072532653809, 0.34797805547714233, 0.6577286124229431, 0.3421502411365509, 0.651191771030426, 0.6437686681747437, 0.8850759267807007, 0.3347680866718292, 0.9085013270378113, 0.32891181111335754, 0.3252333104610443, 0.6210414171218872, 1.0078736543655396, 1.5510181188583374, 55.03324890136719, 258.3787536621094, 1.75592041015625, 82.1471939086914, 63.55859375, 557.86474609375, 29.43015480041504, 51.97394943237305, 492.8578796386719, 125.72887420654297, 416.6842041015625, 129.66123962402344, 80.9977798461914, 178.61354064941406, 22.75402069091797, 144.0068359375, 47.9830436706543, 37.2960205078125, 346.1640625, 37.51605987548828, 137.76060485839844, 101.20218658447266, 456.7384948730469, 435.92730712890625, 43.673526763916016, 155.3069305419922, 86.41798400878906, 126.08319854736328, 57.22643280029297, 173.49099731445312, 78.4207534790039, 54.263397216796875, 144.53700256347656, 79.51571655273438, 73.41145324707031, 117.77961730957031, 271.04974365234375, 126.38587188720703, 99.7900619506836, 141.97572326660156, 160.14779663085938, 116.36839294433594, 126.11917877197266, 128.65745544433594, 128.47142028808594, 146.85301208496094, 112.479736328125, 113.5279769897461, 114.4205093383789, 103.61524200439453, 104.06527709960938, 0.9500249624252319, 0.850059449672699, 1.430988073348999, 0.838860809803009, 0.43627792596817017, 1.8520729541778564, 1.3395230770111084, 0.4101240038871765, 0.777640700340271, 0.7712982892990112, 1.0828526020050049, 0.38185837864875793, 0.6959367990493774, 0.35799479484558105, 0.9328796863555908, 0.8050387501716614, 1.0967378616333008, 0.6467260122299194, 0.33403265476226807, 0.638037919998169, 0.3318774402141571, 0.5948350429534912, 0.6218298673629761, 0.6216444373130798, 0.32316476106643677, 0.6045182943344116, 0.3120976686477661, 0.5957226753234863, 1.7826968431472778, 0.7153018712997437, 1.9311717748641968, 1.966936469078064, 4.738317966461182, 2.1529293060302734, 605.3309326171875, 61.405399322509766, 115.22998809814453, 99.30009460449219, 47.76957321166992, 6.767353057861328, 10.319615364074707, 81.96540832519531, 36.637855529785156, 28.31117820739746, 402.6852722167969, 130.14617919921875, 176.41497802734375, 124.12516784667969, 78.29104614257812, 205.18360900878906, 111.99769592285156, 51.8818359375, 81.65611267089844, 480.1739196777344, 62.176185607910156, 112.87617492675781, 65.05854797363281, 155.6317596435547, 157.52243041992188, 109.00218200683594, 211.00146484375, 127.64366912841797, 92.26322937011719, 150.0301055908203, 191.27992248535156, 132.34747314453125, 77.6707763671875, 387.2149658203125, 126.70855712890625, 272.30755615234375, 138.68133544921875, 258.7245788574219, 287.73626708984375, 137.92306518554688, 115.23429870605469, 136.76284790039062, 125.60896301269531, 112.40270233154297, 124.7333755493164, 115.29210662841797, 1.4047672748565674, 11.226166725158691, 0.691735565662384, 0.3568005859851837, 0.6406406164169312, 0.9106562733650208, 0.3308466076850891, 0.627005398273468, 0.3271869719028473, 0.6145470142364502, 0.5820948481559753, 0.860817015171051, 1.214774489402771, 0.3139680325984955, 0.5985350608825684, 0.5678207278251648, 0.7219316959381104, 0.5870957374572754, 0.585279643535614, 1.082358717918396, 0.3060742914676666, 0.30440351366996765, 0.8262807130813599, 0.4229280948638916, 0.6944162249565125, 0.4210311770439148, 0.2984277307987213, 0.567585289478302, 0.8106521964073181, 0.29591235518455505, 1.6752374172210693, 1.1698815822601318, 15.067540168762207, 1.9009658098220825, 1.1653258800506592, 66.9415054321289, 12.612996101379395, 11.244044303894043, 40.23798370361328, 158.01670837402344, 12.960468292236328, 6.852442264556885, 403.020751953125, 118.87789154052734, 20.18265724182129, 13.04859447479248, 44.966373443603516, 509.4864196777344, 41.95355224609375, 134.1038055419922, 143.76950073242188, 30.05817413330078, 34.92155838012695, 86.86357116699219, 151.33990478515625, 24.98778533935547, 24.67109489440918, 56.597660064697266, 33.708045959472656, 345.9014587402344, 22.767492294311523, 103.949951171875, 203.3345489501953, 67.12407684326172, 127.61138153076172, 448.5981750488281, 105.33695983886719, 130.83657836914062, 141.456298828125, 165.61898803710938, 122.10077667236328, 377.6682434082031, 302.60406494140625, 74.8443374633789, 112.11112213134766, 122.1434326171875, 138.04412841796875, 321.29351806640625, 146.31430053710938, 135.0511932373047, 88.85333251953125, 129.4288330078125, 146.2792510986328, 158.5032501220703, 113.35981750488281, 125.96316528320312, 116.6230697631836, 116.3641128540039, 122.24771881103516, 114.71642303466797, 114.74571990966797], \"Term\": [\"good\", \"great\", \"love\", \"service\", \"best\", \"food\", \"got\", \"delicious\", \"amazing\", \"like\", \"way\", \"staff\", \"room\", \"restaurant\", \"recommend\", \"wait\", \"going\", \"ordered\", \"pretty\", \"ve\", \"went\", \"price\", \"experience\", \"long\", \"store\", \"came\", \"asked\", \"little\", \"time\", \"server\", \"chauffeured\", \"tellers\", \"pittsburg\", \"saddest\", \"imcomplete\", \"cos\", \"transluscent\", \"florence\", \"indignant\", \"lgbtq\", \"paced\", \"medallions\", \"siela\", \"hehehe\", \"arturo\", \"yasmin\", \"paints\", \"flush\", \"synchrony\", \"greulich\", \"bihon\", \"magnolia\", \"byt\", \"busta\", \"fingernail\", \"pimpin\", \"luddite\", \"irrigation\", \"lars\", \"diesel\", \"freshest\", \"nom\", \"pie\", \"pretty\", \"ordered\", \"service\", \"server\", \"drink\", \"food\", \"amazing\", \"super\", \"sushi\", \"town\", \"pizza\", \"times\", \"priced\", \"place\", \"old\", \"nice\", \"good\", \"went\", \"thought\", \"wow\", \"meat\", \"got\", \"cold\", \"stop\", \"came\", \"sandwich\", \"water\", \"going\", \"feel\", \"come\", \"order\", \"ve\", \"try\", \"ll\", \"better\", \"time\", \"chicken\", \"great\", \"delicious\", \"friendly\", \"like\", \"recommend\", \"best\", \"restaurant\", \"love\", \"day\", \"definitely\", \"little\", \"butterflies\", \"tasha\", \"romper\", \"jeffery\", \"talia\", \"walkthrough\", \"kristy\", \"clinical\", \"carina\", \"twiceinoneday\", \"machaca\", \"greenhouse\", \"janet\", \"nowait\", \"posoleshawwty\", \"alam\", \"bathing\", \"rubio\", \"krung\", \"reclined\", \"prima\", \"golfweek\", \"conrad\", \"doorstep\", \"zombies\", \"mcqueen\", \"shawn\", \"pesky\", \"karl\", \"exceeds\", \"stole\", \"whimsical\", \"girls\", \"took\", \"amazing\", \"fish\", \"repair\", \"food\", \"tasty\", \"love\", \"loved\", \"minute\", \"donuts\", \"best\", \"recommend\", \"decor\", \"area\", \"price\", \"experience\", \"menu\", \"thought\", \"rude\", \"new\", \"star\", \"spot\", \"place\", \"want\", \"highly\", \"care\", \"good\", \"right\", \"soup\", \"time\", \"definitely\", \"service\", \"great\", \"like\", \"excellent\", \"nice\", \"room\", \"got\", \"came\", \"come\", \"staff\", \"friendly\", \"said\", \"day\", \"told\", \"know\", \"ve\", \"people\", \"little\", \"sheldon\", \"tastey\", \"cwru\", \"heal\", \"tostones\", \"pruitt\", \"ziggy\", \"browbeaten\", \"squished\", \"frumpy\", \"chauffeured\", \"rendevouz\", \"posta\", \"messaging\", \"nitro\", \"topper\", \"gnocci\", \"menudazo\", \"sydney\", \"rellenitos\", \"difinitly\", \"sevice\", \"shithole\", \"ta\", \"marshall\", \"stieg\", \"luci\", \"halo\", \"attorney\", \"exclamation\", \"hks\", \"asked\", \"common\", \"donair\", \"definately\", \"came\", \"recommend\", \"wonderful\", \"husband\", \"star\", \"white\", \"like\", \"time\", \"new\", \"weren\", \"wanted\", \"way\", \"worth\", \"truly\", \"shop\", \"nice\", \"decided\", \"thing\", \"said\", \"knew\", \"restaurant\", \"food\", \"lady\", \"point\", \"told\", \"place\", \"staff\", \"service\", \"went\", \"sauce\", \"wasn\", \"little\", \"great\", \"friendly\", \"got\", \"chicken\", \"best\", \"ordered\", \"good\", \"know\", \"right\", \"pretty\", \"amazing\", \"try\", \"ve\", \"love\", \"people\", \"definitely\", \"squishies\", \"shimp\", \"poom\", \"cary\", \"smokies\", \"calvin\", \"reasonablely\", \"edward\", \"jellyfish\", \"gastropub\", \"linda\", \"tattoos\", \"irrational\", \"garments\", \"pediatrics\", \"kindest\", \"increible\", \"complexly\", \"youll\", \"factors\", \"arboretum\", \"guacamolie\", \"peggy\", \"ahwatukee\", \"suitemates\", \"puzzlemaster\", \"singles\", \"carted\", \"xtra\", \"stacy\", \"bi\\u00e8res\", \"carpaccio\", \"organis\\u00e9\", \"restaurant\", \"free\", \"dollar\", \"great\", \"minutes\", \"family\", \"hit\", \"friendly\", \"love\", \"taco\", \"come\", \"services\", \"price\", \"pizza\", \"try\", \"ve\", \"definitely\", \"way\", \"staff\", \"fast\", \"quality\", \"bad\", \"absolutely\", \"hotel\", \"waiting\", \"town\", \"ordered\", \"review\", \"gave\", \"place\", \"food\", \"nice\", \"best\", \"wasn\", \"want\", \"service\", \"day\", \"time\", \"good\", \"like\", \"came\", \"chicken\", \"amazing\", \"got\", \"order\", \"people\", \"menu\", \"know\", \"matthew\", \"insectarium\", \"\\u63a2\\u3057\\u305f\\u304a\\u5e97\\u3067\\u3057\\u305f\", \"\\u3068\\u3066\\u3082\\u6c17\\u306b\\u5165\\u308a\\u307e\\u3057\\u305f\", \"peru\", \"romper\", \"fingernail\", \"rugs\", \"puzzle\", \"talia\", \"bathing\", \"operative\", \"botanical\", \"umiya\", \"instruments\", \"fungus\", \"skimping\", \"poms\", \"boooo\", \"costumers\", \"forces\", \"rania\", \"antiisrael\", \"ahve\", \"katrina\", \"treadstone\", \"summerline\", \"tipper\", \"darlene\", \"legendary\", \"soda\", \"beautiful\", \"ganoush\", \"got\", \"turn\", \"burro\", \"eat\", \"ask\", \"burger\", \"looked\", \"think\", \"job\", \"lobster\", \"chicken\", \"going\", \"wait\", \"right\", \"bread\", \"like\", \"bit\", \"big\", \"sweet\", \"usually\", \"charged\", \"experience\", \"little\", \"great\", \"years\", \"night\", \"place\", \"time\", \"bar\", \"ordered\", \"better\", \"order\", \"try\", \"good\", \"people\", \"know\", \"service\", \"food\", \"came\", \"come\", \"said\", \"ve\", \"definitely\", \"nice\", \"went\", \"friendly\", \"love\", \"best\", \"shoooz\", \"nadya\", \"nb\", \"bb\", \"jina\", \"cellos\", \"roomtastic\", \"truvyjones\", \"explosive\", \"nnn\", \"puffs\", \"ricketts\", \"shortening\", \"kendel\", \"xx\", \"ceux\", \"celeste\", \"woot\", \"melinda\", \"cvg\", \"erika\", \"picante\", \"ellen\", \"lad\", \"nvehxcfvvv\", \"caliente\", \"convent\", \"engages\", \"drizzly\", \"hairstylist\", \"dishes\", \"room\", \"vaccinations\", \"kevin\", \"love\", \"family\", \"terrific\", \"great\", \"wait\", \"ambiance\", \"overall\", \"coffee\", \"walk\", \"place\", \"away\", \"tire\", \"pricey\", \"tables\", \"appointment\", \"meal\", \"burrito\", \"haven\", \"staff\", \"waited\", \"thing\", \"small\", \"style\", \"line\", \"friendly\", \"experience\", \"left\", \"having\", \"definitely\", \"like\", \"pretty\", \"fresh\", \"restaurant\", \"server\", \"time\", \"food\", \"times\", \"chicken\", \"service\", \"little\", \"best\", \"ve\", \"good\", \"recommend\", \"order\", \"try\", \"got\", \"people\", \"way\", \"nice\", \"come\", \"going\", \"went\", \"came\", \"delivary\", \"kashi\", \"outbacks\", \"palmas\", \"tryed\", \"brookline\", \"avarage\", \"cruffin\", \"livraison\", \"inbred\", \"axle\", \"noel\", \"aims\", \"smoker\", \"zo\", \"discontinue\", \"hikari\", \"whoopers\", \"albertsons\", \"meth\", \"waxes\", \"preseason\", \"tar\", \"astors\", \"intelligent\", \"tjx\", \"crime\", \"deptartment\", \"sw\", \"deliverance\", \"firefly\", \"nan\", \"long\", \"lot\", \"products\", \"delicious\", \"store\", \"beer\", \"staff\", \"called\", \"sushi\", \"taking\", \"ve\", \"went\", \"excellent\", \"bar\", \"little\", \"use\", \"reservation\", \"ll\", \"place\", \"time\", \"prices\", \"burger\", \"plan\", \"way\", \"order\", \"like\", \"going\", \"came\", \"people\", \"quality\", \"food\", \"chicken\", \"great\", \"nice\", \"good\", \"home\", \"ordered\", \"told\", \"come\", \"service\", \"better\", \"got\", \"love\", \"menu\", \"restaurant\", \"try\", \"day\", \"everrrrr\", \"aga\", \"froide\", \"reef\", \"setups\", \"imcomplete\", \"jeannette\", \"arse\", \"\\u590f\\u65e5\\u60f3\\u958b\\u80c3\", \"greenway\", \"yoself\", \"brice\", \"gems\", \"scariest\", \"\\u51b0\\u6c99\\u7cfb\\u5217\\u4e0d\\u6703\\u592a\\u751c\\u81a9\", \"cathedral\", \"\\u9910\\u5f8c\\u9ede\\u4e86\\u751c\\u9ede\", \"erika\", \"\\u4f50\\u6599\\u885b\\u751f\", \"delivary\", \"\\u5305\\u542b\\u64fa\\u76e4\\u7cbe\\u7dfb\", \"peggy\", \"reefs\", \"plantains\", \"cages\", \"gowns\", \"presentaiton\", \"\\u89ba\\u5f97\\u5e97\\u5bb6\\u5f88\\u7528\\u5fc3\\u88fd\\u4f5c\", \"badder\", \"jumper\", \"accepting\", \"tacos\", \"best\", \"flan\", \"highly\", \"fast\", \"good\", \"glass\", \"pork\", \"great\", \"wait\", \"service\", \"want\", \"stars\", \"order\", \"beans\", \"delicious\", \"close\", \"bring\", \"time\", \"sit\", \"menu\", \"location\", \"food\", \"place\", \"wife\", \"come\", \"drinks\", \"new\", \"fun\", \"nice\", \"awesome\", \"bread\", \"people\", \"store\", \"need\", \"better\", \"like\", \"experience\", \"sure\", \"ordered\", \"ve\", \"know\", \"restaurant\", \"little\", \"try\", \"got\", \"amazing\", \"chicken\", \"went\", \"said\", \"came\", \"conchas\", \"dolci\", \"suzanne\", \"bb\", \"ktown\", \"swedish\", \"caliente\", \"ireland\", \"booster\", \"roomtastic\", \"deter\", \"luxuriously\", \"daaayyuuummm\", \"makets\", \"southview\", \"kheer\", \"frizzy\", \"zolton\", \"fufill\", \"suxs\", \"stabbed\", \"uk\", \"inconvience\", \"extreamly\", \"papas\", \"fridendly\", \"diming\", \"voluminous\", \"dulce\", \"lanterns\", \"mazes\", \"enclosed\", \"fav\", \"omai\", \"good\", \"items\", \"cheese\", \"tried\", \"chocolate\", \"handed\", \"sample\", \"sweet\", \"yes\", \"la\", \"service\", \"pretty\", \"went\", \"bar\", \"stars\", \"best\", \"fresh\", \"hair\", \"prices\", \"food\", \"getting\", \"night\", \"friend\", \"little\", \"definitely\", \"sure\", \"got\", \"going\", \"small\", \"people\", \"ve\", \"delicious\", \"big\", \"place\", \"menu\", \"like\", \"try\", \"time\", \"great\", \"order\", \"better\", \"ordered\", \"come\", \"day\", \"nice\", \"love\", \"ev\", \"yuk\", \"beause\", \"yc\", \"econolight\", \"greenway\", \"yik\", \"estimating\", \"te\", \"flannery\", \"premiere\", \"intentions\", \"pawn\", \"dieing\", \"orellana\", \"remarkably\", \"purolator\", \"gustav\", \"fridendly\", \"acrobatics\", \"cabbageworm\", \"uso\", \"electricians\", \"registry\", \"twilight\", \"trevor\", \"azure\", \"darlene\", \"aaron\", \"shush\", \"aldi\", \"photographers\", \"baby\", \"managing\", \"solon\", \"ice\", \"screen\", \"san\", \"red\", \"day\", \"pop\", \"procedure\", \"like\", \"fresh\", \"dollars\", \"gives\", \"tea\", \"good\", \"making\", \"way\", \"said\", \"chef\", \"comfortable\", \"store\", \"experience\", \"park\", \"city\", \"inside\", \"morning\", \"time\", \"feeling\", \"price\", \"ve\", \"cream\", \"new\", \"food\", \"work\", \"delicious\", \"amazing\", \"love\", \"better\", \"place\", \"service\", \"feel\", \"right\", \"menu\", \"definitely\", \"great\", \"staff\", \"people\", \"asked\", \"try\", \"nice\", \"got\", \"know\", \"went\", \"friendly\", \"chicken\", \"best\", \"little\", \"order\"], \"Total\": [4456.0, 4125.0, 1588.0, 3502.0, 1751.0, 4757.0, 1986.0, 1194.0, 1313.0, 3331.0, 1071.0, 1505.0, 923.0, 1331.0, 1122.0, 941.0, 1106.0, 1488.0, 1021.0, 1858.0, 1433.0, 873.0, 1250.0, 724.0, 675.0, 1440.0, 808.0, 1372.0, 3303.0, 656.0, 3.091543197631836, 1.6191871166229248, 4.41279411315918, 3.0936591625213623, 3.0893003940582275, 3.0962910652160645, 1.6203668117523193, 2.278949022293091, 2.2795023918151855, 1.6194360256195068, 6.548298358917236, 4.411298751831055, 1.6193897724151611, 3.0933618545532227, 3.0920610427856445, 5.225196361541748, 2.2767605781555176, 6.548336029052734, 1.6197636127471924, 3.0948944091796875, 1.6207501888275146, 5.226728916168213, 3.0947835445404053, 5.231226921081543, 4.407169342041016, 3.09372615814209, 3.0949184894561768, 3.0902698040008545, 2.9393768310546875, 4.408046722412109, 19.55881118774414, 17.928857803344727, 103.23031616210938, 1021.6331787109375, 1488.2734375, 3502.531982421875, 656.7171630859375, 598.730712890625, 4757.6123046875, 1313.4453125, 656.07080078125, 528.398193359375, 420.0510559082031, 762.5856323242188, 826.6298828125, 205.20257568359375, 4559.43408203125, 480.6949768066406, 1689.1619873046875, 4456.9072265625, 1433.043212890625, 472.55633544921875, 164.3777313232422, 563.077880859375, 1986.97265625, 395.25823974609375, 353.2275390625, 1440.734619140625, 406.56817626953125, 419.1589660644531, 1106.9874267578125, 643.540283203125, 1402.0609130859375, 1449.193359375, 1858.1715087890625, 1400.8016357421875, 739.4607543945312, 1116.3447265625, 3303.434814453125, 1344.3167724609375, 4125.94140625, 1194.42333984375, 1336.6473388671875, 3331.517578125, 1122.34033203125, 1751.186767578125, 1331.879638671875, 1588.037109375, 1166.7021484375, 1395.5302734375, 1372.40869140625, 3.0898444652557373, 1.6186912059783936, 3.088132858276367, 1.619910717010498, 3.0887222290039062, 3.0906896591186523, 1.6185284852981567, 3.091158628463745, 3.089531898498535, 1.6181381940841675, 7.711546421051025, 4.409877777099609, 2.936699390411377, 2.278951644897461, 3.0912601947784424, 1.6185040473937988, 3.748725175857544, 4.4143218994140625, 3.085127353668213, 1.617734670639038, 3.754629135131836, 3.0891499519348145, 2.27846622467041, 3.7540998458862305, 4.410610198974609, 3.7533740997314453, 7.20547342300415, 4.413194179534912, 1.6188491582870483, 3.599430561065674, 9.834128379821777, 5.885342121124268, 120.80998229980469, 883.6246337890625, 1313.4453125, 379.38372802734375, 118.37799072265625, 4757.6123046875, 469.48553466796875, 1588.037109375, 473.38262939453125, 151.89393615722656, 117.29488372802734, 1751.186767578125, 1122.34033203125, 250.758056640625, 728.0344848632812, 873.5166625976562, 1250.618408203125, 1193.1541748046875, 472.55633544921875, 325.2174377441406, 1118.0062255859375, 378.06573486328125, 395.75811767578125, 4559.43408203125, 996.03759765625, 529.1142578125, 519.34619140625, 4456.9072265625, 1055.7572021484375, 472.50006103515625, 3303.434814453125, 1395.5302734375, 3502.531982421875, 4125.94140625, 3331.517578125, 643.3907470703125, 1689.1619873046875, 923.0042114257812, 1986.97265625, 1440.734619140625, 1402.0609130859375, 1505.9793701171875, 1336.6473388671875, 1161.5748291015625, 1166.7021484375, 929.9830932617188, 1174.5634765625, 1858.1715087890625, 1382.9090576171875, 1372.40869140625, 3.7491257190704346, 5.726934432983398, 3.0908427238464355, 3.7497949600219727, 3.7519826889038086, 1.6184793710708618, 1.6185120344161987, 3.0894412994384766, 3.7529349327087402, 1.618670105934143, 3.091543197631836, 3.091830015182495, 3.093285083770752, 4.412020683288574, 3.5977447032928467, 3.750607490539551, 3.0929770469665527, 3.088912010192871, 3.7519030570983887, 3.0961060523986816, 1.6182843446731567, 1.6187304258346558, 3.0936927795410156, 2.278296947479248, 3.7510621547698975, 3.0924429893493652, 3.592287540435791, 9.02698040008545, 18.886009216308594, 1.6191909313201904, 3.597266435623169, 808.8224487304688, 24.675716400146484, 5.881082057952881, 10.654736518859863, 1440.734619140625, 1122.34033203125, 379.694091796875, 409.6058044433594, 378.06573486328125, 235.2864532470703, 3331.517578125, 3303.434814453125, 1118.0062255859375, 165.29904174804688, 628.3825073242188, 1071.1959228515625, 622.281494140625, 201.04019165039062, 405.78619384765625, 1689.1619873046875, 500.8710632324219, 604.8569946289062, 1161.5748291015625, 221.05868530273438, 1331.879638671875, 4757.6123046875, 202.392333984375, 319.7926940917969, 929.9830932617188, 4559.43408203125, 1505.9793701171875, 3502.531982421875, 1433.043212890625, 790.7879028320312, 757.5145263671875, 1372.40869140625, 4125.94140625, 1336.6473388671875, 1986.97265625, 1344.3167724609375, 1751.186767578125, 1488.2734375, 4456.9072265625, 1174.5634765625, 1055.7572021484375, 1021.6331787109375, 1313.4453125, 1400.8016357421875, 1858.1715087890625, 1588.037109375, 1382.9090576171875, 1395.5302734375, 5.216599941253662, 3.0913751125335693, 1.618598222732544, 3.087263822555542, 3.5960278511047363, 3.598954439163208, 1.6191149950027466, 2.9370834827423096, 3.5949249267578125, 3.091754674911499, 5.8783183097839355, 7.046359539031982, 1.619483232498169, 3.750718355178833, 3.7508769035339355, 3.0933167934417725, 1.61921226978302, 3.089365005493164, 1.6186774969100952, 5.067142009735107, 3.752591133117676, 1.6174185276031494, 3.087937593460083, 4.916062831878662, 3.0876877307891846, 3.0902976989746094, 1.6191260814666748, 1.6177231073379517, 1.618194580078125, 2.936690330505371, 9.999226570129395, 9.680660247802734, 3.088169574737549, 1331.879638671875, 567.7758178710938, 79.97505950927734, 4125.94140625, 878.9658813476562, 499.7939758300781, 173.0855712890625, 1336.6473388671875, 1588.037109375, 197.35525512695312, 1402.0609130859375, 144.69778442382812, 873.5166625976562, 762.5856323242188, 1400.8016357421875, 1858.1715087890625, 1395.5302734375, 1071.1959228515625, 1505.9793701171875, 430.0917053222656, 645.8528442382812, 800.6017456054688, 407.5309143066406, 429.53558349609375, 434.4885559082031, 420.0510559082031, 1488.2734375, 465.71710205078125, 461.2065124511719, 4559.43408203125, 4757.6123046875, 1689.1619873046875, 1751.186767578125, 757.5145263671875, 996.03759765625, 3502.531982421875, 1166.7021484375, 3303.434814453125, 4456.9072265625, 3331.517578125, 1440.734619140625, 1344.3167724609375, 1313.4453125, 1986.97265625, 1449.193359375, 1382.9090576171875, 1193.1541748046875, 1174.5634765625, 3.746561050415039, 3.085716962814331, 1.614639163017273, 1.6150215864181519, 5.878469467163086, 3.088132858276367, 4.407169342041016, 8.356253623962402, 3.75005841255188, 3.0887222290039062, 3.748725175857544, 3.0879623889923096, 5.880012512207031, 1.6172329187393188, 7.849155426025391, 5.223452091217041, 4.4095234870910645, 3.0883493423461914, 1.6166434288024902, 3.7480852603912354, 6.5460920333862305, 3.0914666652679443, 3.0919108390808105, 3.091970443725586, 5.224097728729248, 2.936279773712158, 1.6186236143112183, 3.092129707336426, 3.0891268253326416, 7.863131523132324, 62.03083801269531, 274.1629943847656, 7.706482410430908, 1986.97265625, 114.84736633300781, 12.284826278686523, 830.972412109375, 487.8735656738281, 516.390869140625, 445.065185546875, 843.5097045898438, 474.5098571777344, 152.95758056640625, 1344.3167724609375, 1106.9874267578125, 941.0416259765625, 1055.7572021484375, 424.26483154296875, 3331.517578125, 803.8759155273438, 629.169189453125, 583.6629028320312, 429.2997131347656, 149.96424865722656, 1250.618408203125, 1372.40869140625, 4125.94140625, 623.4808349609375, 940.6008911132812, 4559.43408203125, 3303.434814453125, 982.2398681640625, 1488.2734375, 1116.3447265625, 1449.193359375, 1400.8016357421875, 4456.9072265625, 1382.9090576171875, 1174.5634765625, 3502.531982421875, 4757.6123046875, 1440.734619140625, 1402.0609130859375, 1161.5748291015625, 1858.1715087890625, 1395.5302734375, 1689.1619873046875, 1433.043212890625, 1336.6473388671875, 1588.037109375, 1751.186767578125, 1.6173269748687744, 2.2786102294921875, 2.2766618728637695, 3.0872275829315186, 3.0877652168273926, 1.6182175874710083, 3.085883617401123, 3.0916340351104736, 3.7522614002227783, 1.618741750717163, 2.9363508224487305, 3.0892579555511475, 1.6183569431304932, 3.0894384384155273, 1.618817687034607, 5.226299285888672, 1.6197867393493652, 7.189549446105957, 2.273864984512329, 1.6187270879745483, 3.0884416103363037, 3.089153289794922, 1.619075059890747, 1.6174479722976685, 1.6184790134429932, 5.224273204803467, 1.6191924810409546, 3.0910654067993164, 3.0924899578094482, 3.091123342514038, 414.77667236328125, 923.0042114257812, 8.021695137023926, 20.84942626953125, 1588.037109375, 499.7939758300781, 38.31867218017578, 4125.94140625, 941.0416259765625, 164.62843322753906, 522.8074340820312, 613.4443969726562, 326.4900817871094, 4559.43408203125, 611.5209350585938, 76.23690032958984, 167.06512451171875, 330.4825134277344, 312.8087463378906, 709.2481079101562, 133.32447814941406, 184.21693420410156, 1505.9793701171875, 302.9285888671875, 604.8569946289062, 771.3374633789062, 294.12109375, 502.09613037109375, 1336.6473388671875, 1250.618408203125, 594.2738037109375, 437.67620849609375, 1395.5302734375, 3331.517578125, 1021.6331787109375, 905.8284912109375, 1331.879638671875, 656.7171630859375, 3303.434814453125, 4757.6123046875, 826.6298828125, 1344.3167724609375, 3502.531982421875, 1372.40869140625, 1751.186767578125, 1858.1715087890625, 4456.9072265625, 1122.34033203125, 1449.193359375, 1400.8016357421875, 1986.97265625, 1382.9090576171875, 1071.1959228515625, 1689.1619873046875, 1402.0609130859375, 1106.9874267578125, 1433.043212890625, 1440.734619140625, 3.0862934589385986, 1.6183549165725708, 1.6169719696044922, 3.0871083736419678, 1.6181285381317139, 3.0885818004608154, 1.618312954902649, 2.2765326499938965, 3.093411922454834, 3.092923402786255, 3.74393367767334, 2.276743173599243, 3.088913917541504, 2.2781262397766113, 1.618328332901001, 3.0933163166046143, 11.630067825317383, 1.617329716682434, 2.9359519481658936, 1.6186906099319458, 4.408357620239258, 3.093034267425537, 7.858480930328369, 2.276336431503296, 5.87977409362793, 3.0922412872314453, 4.916711807250977, 3.092520236968994, 6.543785095214844, 3.091676712036133, 6.381592750549316, 11.462574005126953, 724.6534423828125, 774.126953125, 146.7271270751953, 1194.42333984375, 675.2470703125, 474.21728515625, 1505.9793701171875, 613.8402099609375, 528.398193359375, 235.653564453125, 1858.1715087890625, 1433.043212890625, 643.3907470703125, 982.2398681640625, 1372.40869140625, 470.4664306640625, 164.86705017089844, 739.4607543945312, 4559.43408203125, 3303.434814453125, 639.026611328125, 516.390869140625, 125.73849487304688, 1071.1959228515625, 1449.193359375, 3331.517578125, 1106.9874267578125, 1440.734619140625, 1382.9090576171875, 645.8528442382812, 4757.6123046875, 1344.3167724609375, 4125.94140625, 1689.1619873046875, 4456.9072265625, 775.22509765625, 1488.2734375, 929.9830932617188, 1402.0609130859375, 3502.531982421875, 1116.3447265625, 1986.97265625, 1588.037109375, 1193.1541748046875, 1331.879638671875, 1400.8016357421875, 1166.7021484375, 1.6184043884277344, 1.6195944547653198, 3.092768669128418, 5.887709140777588, 3.0934040546417236, 3.0893003940582275, 1.619250774383545, 2.2788496017456055, 1.6184438467025757, 4.413992404937744, 1.62065589427948, 5.2275824546813965, 7.2074971199035645, 3.09395694732666, 1.6184771060943604, 3.0948848724365234, 1.6179804801940918, 3.0884416103363037, 1.618643879890442, 3.0862934589385986, 1.618550419807434, 3.087937593460083, 3.0929079055786133, 4.252887725830078, 1.6191608905792236, 4.41459321975708, 1.6201658248901367, 1.6177122592926025, 3.0948028564453125, 5.073029041290283, 7.865581512451172, 321.8861999511719, 1751.186767578125, 9.188090324401855, 529.1142578125, 430.0917053222656, 4456.9072265625, 190.19886779785156, 356.6333312988281, 4125.94140625, 941.0416259765625, 3502.531982421875, 996.03759765625, 598.1900634765625, 1449.193359375, 152.20382690429688, 1194.42333984375, 353.78662109375, 268.6049499511719, 3303.434814453125, 272.1664123535156, 1193.1541748046875, 841.3812255859375, 4757.6123046875, 4559.43408203125, 325.0329895019531, 1402.0609130859375, 715.5220947265625, 1118.0062255859375, 447.5680236816406, 1689.1619873046875, 657.732421875, 424.26483154296875, 1382.9090576171875, 675.2470703125, 616.3475341796875, 1116.3447265625, 3331.517578125, 1250.618408203125, 921.2852172851562, 1488.2734375, 1858.1715087890625, 1174.5634765625, 1331.879638671875, 1372.40869140625, 1400.8016357421875, 1986.97265625, 1313.4453125, 1344.3167724609375, 1433.043212890625, 1161.5748291015625, 1440.734619140625, 3.094331979751587, 3.0889601707458496, 5.22669792175293, 3.0872275829315186, 1.6175761222839355, 7.202127456665039, 5.224273204803467, 1.6186294555664062, 3.088092565536499, 3.085883617401123, 4.412077903747559, 1.6172956228256226, 3.089892864227295, 1.6175388097763062, 4.2598347663879395, 3.7488088607788086, 5.226806163787842, 3.0934665203094482, 1.6177945137023926, 3.090782642364502, 1.6153433322906494, 2.937439203262329, 3.089738368988037, 3.094517230987549, 1.6190745830535889, 3.0947163105010986, 1.6189374923706055, 3.092874765396118, 9.341303825378418, 3.753134250640869, 10.150940895080566, 10.495658874511719, 26.123926162719727, 11.63333511352539, 4456.9072265625, 404.7957763671875, 795.7008666992188, 684.0357055664062, 317.5227355957031, 39.63256072998047, 62.536376953125, 583.6629028320312, 247.9276885986328, 187.5931396484375, 3502.531982421875, 1021.6331787109375, 1433.043212890625, 982.2398681640625, 598.1900634765625, 1751.186767578125, 905.8284912109375, 382.0266418457031, 639.026611328125, 4757.6123046875, 475.4752502441406, 940.6008911132812, 503.1604309082031, 1372.40869140625, 1395.5302734375, 921.2852172851562, 1986.97265625, 1106.9874267578125, 771.3374633789062, 1382.9090576171875, 1858.1715087890625, 1194.42333984375, 629.169189453125, 4559.43408203125, 1193.1541748046875, 3331.517578125, 1400.8016357421875, 3303.434814453125, 4125.94140625, 1449.193359375, 1116.3447265625, 1488.2734375, 1402.0609130859375, 1166.7021484375, 1689.1619873046875, 1588.037109375, 3.7621686458587646, 30.749610900878906, 3.091815233230591, 1.6183456182479858, 3.0964889526367188, 4.413992404937744, 1.6216988563537598, 3.0977416038513184, 1.621581792831421, 3.096196413040161, 2.9408230781555176, 4.413650989532471, 6.236770153045654, 1.620045781135559, 3.0931544303894043, 2.9401822090148926, 3.752204179763794, 3.0944879055023193, 3.0947163105010986, 5.7301788330078125, 1.620802640914917, 1.6207821369171143, 4.417746543884277, 2.2809224128723145, 3.754434108734131, 2.2785589694976807, 1.621169924736023, 3.0891268253326416, 4.41273307800293, 1.6196798086166382, 9.34709644317627, 6.544833183288574, 93.29058074951172, 10.81846809387207, 6.551390647888184, 449.62982177734375, 78.46379852294922, 70.50546264648438, 270.27947998046875, 1166.7021484375, 82.48207092285156, 42.41667175292969, 3331.517578125, 905.8284912109375, 134.59373474121094, 84.57725524902344, 319.9425354003906, 4456.9072265625, 300.0574951171875, 1071.1959228515625, 1161.5748291015625, 212.73733520507812, 250.52268981933594, 675.2470703125, 1250.618408203125, 174.48245239257812, 173.01622009277344, 432.6961975097656, 244.9952392578125, 3303.434814453125, 160.88572692871094, 873.5166625976562, 1858.1715087890625, 536.9623413085938, 1118.0062255859375, 4757.6123046875, 907.9979858398438, 1194.42333984375, 1313.4453125, 1588.037109375, 1116.3447265625, 4559.43408203125, 3502.531982421875, 643.540283203125, 1055.7572021484375, 1193.1541748046875, 1395.5302734375, 4125.94140625, 1505.9793701171875, 1382.9090576171875, 808.8224487304688, 1400.8016357421875, 1689.1619873046875, 1986.97265625, 1174.5634765625, 1433.043212890625, 1336.6473388671875, 1344.3167724609375, 1751.186767578125, 1372.40869140625, 1449.193359375], \"loglift\": [30.0, 29.0, 28.0, 27.0, 26.0, 25.0, 24.0, 23.0, 22.0, 21.0, 20.0, 19.0, 18.0, 17.0, 16.0, 15.0, 14.0, 13.0, 12.0, 11.0, 10.0, 9.0, 8.0, 7.0, 6.0, 5.0, 4.0, 3.0, 2.0, 1.0, 1.2559000253677368, 1.2117999792099, 1.1045000553131104, 1.010599970817566, 1.0017000436782837, 0.9836000204086304, 0.9557999968528748, 0.8924000263214111, 0.8722000122070312, 0.871399998664856, 0.8565999865531921, 0.8504999876022339, 0.8489000201225281, 0.8450999855995178, 0.8382999897003174, 0.8328999876976013, 0.8258000016212463, 0.7986999750137329, 0.7925000190734863, 0.7918999791145325, 0.7896000146865845, 0.7491000294685364, 0.7458000183105469, 0.741100013256073, 0.7343000173568726, 0.7293999791145325, 0.7021999955177307, 0.6991999745368958, 0.698199987411499, 0.6966000199317932, 0.6527000069618225, 0.6539000272750854, 0.5541999936103821, 0.43220001459121704, 0.4129999876022339, 0.3538999855518341, 0.4262999892234802, 0.4242999851703644, 0.26330000162124634, 0.32120001316070557, 0.37369999289512634, 0.38690000772476196, 0.4011000096797943, 0.3310999870300293, 0.3190000057220459, 0.4408999979496002, 0.13330000638961792, 0.35420000553131104, 0.22429999709129333, 0.12449999898672104, 0.22679999470710754, 0.34150001406669617, 0.44780001044273376, 0.3109000027179718, 0.15569999814033508, 0.3424000144004822, 0.35409998893737793, 0.16760000586509705, 0.3296999931335449, 0.32409998774528503, 0.1875, 0.2624000012874603, 0.13539999723434448, 0.11969999969005585, 0.07400000095367432, 0.1080000028014183, 0.22300000488758087, 0.14790000021457672, -0.07029999792575836, 0.08980000019073486, -0.17139999568462372, 0.11469999700784683, 0.07800000160932541, -0.1720999926328659, 0.07930000126361847, -0.09709999710321426, 0.00860000029206276, -0.12939999997615814, 0.03669999912381172, -0.08780000358819962, -0.08190000057220459, 1.1577999591827393, 1.1516000032424927, 1.0875999927520752, 1.0822999477386475, 1.0455000400543213, 1.0334999561309814, 0.998199999332428, 0.9957000017166138, 0.9947999715805054, 0.9932000041007996, 0.9832000136375427, 0.9757000207901001, 0.9538999795913696, 0.951200008392334, 0.9223999977111816, 0.90829998254776, 0.9060999751091003, 0.9032999873161316, 0.9025999903678894, 0.8819000124931335, 0.8815000057220459, 0.8592000007629395, 0.8564000129699707, 0.8562999963760376, 0.8490999937057495, 0.8452000021934509, 0.8385999798774719, 0.8353999853134155, 0.8299000263214111, 0.8098999857902527, 0.7921000123023987, 0.7990000247955322, 0.630299985408783, 0.5105999708175659, 0.47940000891685486, 0.5496000051498413, 0.5830000042915344, 0.25, 0.45399999618530273, 0.3393000066280365, 0.4172999858856201, 0.5282999873161316, 0.5496000051498413, 0.2644999921321869, 0.3118000030517578, 0.4611999988555908, 0.3353999853134155, 0.303600013256073, 0.2433999925851822, 0.24009999632835388, 0.3287999927997589, 0.3736000061035156, 0.19939999282360077, 0.35109999775886536, 0.34299999475479126, -0.0071000000461936, 0.21080000698566437, 0.3021000027656555, 0.3034999966621399, -0.025699999183416367, 0.1770000010728836, 0.310699999332428, -0.033799998462200165, 0.11460000276565552, -0.057500001043081284, -0.09019999951124191, -0.061799999326467514, 0.2460000067949295, 0.03689999878406525, 0.16660000383853912, -0.007499999832361937, 0.06289999932050705, 0.065700002014637, 0.045499999076128006, 0.06300000101327896, 0.09470000118017197, 0.08799999952316284, 0.14190000295639038, -0.0007999999797903001, -0.3206999897956848, -0.12020000070333481, -0.12300000339746475, 1.0994999408721924, 0.9065999984741211, 0.8597999811172485, 0.8252999782562256, 0.8120999932289124, 0.8113999962806702, 0.8080999851226807, 0.8066999912261963, 0.8047000169754028, 0.7947999835014343, 0.788100004196167, 0.786300003528595, 0.7634000182151794, 0.7570000290870667, 0.7436000108718872, 0.7297999858856201, 0.7294999957084656, 0.7285000085830688, 0.708299994468689, 0.7056000232696533, 0.6969000101089478, 0.6916000247001648, 0.6711999773979187, 0.6656000018119812, 0.6621000170707703, 0.6510000228881836, 0.6502000093460083, 0.6499000191688538, 0.6488999724388123, 0.6477000117301941, 0.6424999833106995, 0.5436000227928162, 0.5953999757766724, 0.637499988079071, 0.6026999950408936, 0.3546999990940094, 0.3659000098705292, 0.4171000123023987, 0.3993000090122223, 0.40369999408721924, 0.421099990606308, 0.2526000142097473, 0.20999999344348907, 0.29429998993873596, 0.4171999990940094, 0.3059999942779541, 0.2578999996185303, 0.30000001192092896, 0.3978999853134155, 0.32679998874664307, 0.19750000536441803, 0.3046000003814697, 0.28360000252723694, 0.20980000495910645, 0.3725000023841858, 0.1915999948978424, 0.041999999433755875, 0.375900000333786, 0.3253999948501587, 0.20649999380111694, 0.007000000216066837, 0.133200004696846, 0.029200000688433647, 0.13249999284744263, 0.19990000128746033, 0.20520000159740448, 0.09889999777078629, -0.07940000295639038, 0.10050000250339508, 0.022299999371170998, 0.09539999812841415, -0.002400000113993883, 0.03779999911785126, -0.24539999663829803, 0.09529999643564224, 0.1177000030875206, 0.12600000202655792, 0.04129999876022339, -0.003700000001117587, -0.13259999454021454, -0.08820000290870667, -0.06759999692440033, -0.10029999911785126, 1.2111999988555908, 1.204800009727478, 1.083299994468689, 1.0465999841690063, 1.0023000240325928, 0.9402999877929688, 0.9401000142097473, 0.9327999949455261, 0.9228000044822693, 0.8916000127792358, 0.8629000186920166, 0.8568000197410583, 0.8567000031471252, 0.8525000214576721, 0.8317999839782715, 0.8198000192642212, 0.8137999773025513, 0.7979000210762024, 0.7788000106811523, 0.7573000192642212, 0.7554000020027161, 0.7495999932289124, 0.7476999759674072, 0.7398999929428101, 0.739300012588501, 0.727400004863739, 0.7117999792098999, 0.710099995136261, 0.7041000127792358, 0.6984000205993652, 0.6897000074386597, 0.6858000159263611, 0.6962000131607056, 0.47350001335144043, 0.48489999771118164, 0.557200014591217, 0.3303999900817871, 0.4198000133037567, 0.4383000135421753, 0.4832000136375427, 0.3296999931335449, 0.3091999888420105, 0.45339998602867126, 0.2757999897003174, 0.46810001134872437, 0.3025999963283539, 0.311599999666214, 0.2248000055551529, 0.19529999792575836, 0.22220000624656677, 0.24539999663829803, 0.20679999887943268, 0.334199994802475, 0.28519999980926514, 0.2476000040769577, 0.32339999079704285, 0.31520000100135803, 0.3124000132083893, 0.3140000104904175, 0.11949999630451202, 0.29249998927116394, 0.29339998960494995, -0.07760000228881836, -0.1120000034570694, 0.06430000066757202, 0.052799999713897705, 0.20509999990463257, 0.15029999613761902, -0.09549999982118607, 0.11620000004768372, -0.10480000078678131, -0.186599999666214, -0.13860000669956207, 0.040300000458955765, 0.04450000077486038, 0.042899999767541885, -0.1340000033378601, -0.0066999997943639755, -0.02759999968111515, 0.035999998450279236, 0.03290000185370445, 1.4837000370025635, 1.4108999967575073, 1.2985999584197998, 1.2904000282287598, 1.0298999547958374, 0.9945999979972839, 0.9678999781608582, 0.9452000260353088, 0.9182999730110168, 0.9034000039100647, 0.8871999979019165, 0.8503999710083008, 0.8398000001907349, 0.8220999836921692, 0.8109999895095825, 0.7900999784469604, 0.7851999998092651, 0.7710999846458435, 0.7698000073432922, 0.7278000116348267, 0.7105000019073486, 0.7085000276565552, 0.7024999856948853, 0.7006000280380249, 0.7005000114440918, 0.6902999877929688, 0.6898999810218811, 0.6891000270843506, 0.6886000037193298, 0.6862000226974487, 0.6428999900817871, 0.5662000179290771, 0.6700999736785889, 0.48899999260902405, 0.5564000010490417, 0.6389999985694885, 0.41510000824928284, 0.41839998960494995, 0.41350001096725464, 0.42289999127388, 0.35830000042915344, 0.37940001487731934, 0.4571000039577484, 0.2816999852657318, 0.2870999872684479, 0.2955000102519989, 0.28279998898506165, 0.353300005197525, 0.1331000030040741, 0.27230000495910645, 0.2973000109195709, 0.2912999987602234, 0.3127000033855438, 0.44600000977516174, 0.17020000517368317, 0.15360000729560852, -0.012500000186264515, 0.2599000036716461, 0.1972000002861023, -0.054099999368190765, -0.01119999960064888, 0.18170000612735748, 0.10939999669790268, 0.1581999957561493, 0.10790000110864639, 0.10239999741315842, -0.1534000039100647, 0.08070000261068344, 0.09539999812841415, -0.19529999792575836, -0.3391999900341034, 0.026499999687075615, 0.017500000074505806, 0.06199999898672104, -0.17329999804496765, -0.0731000006198883, -0.19939999282360077, -0.11909999698400497, -0.08990000188350677, -0.24480000138282776, -0.3587999939918518, 1.3220000267028809, 1.1504000425338745, 1.1486999988555908, 1.118499994277954, 1.0844000577926636, 1.0836999416351318, 1.0641000270843506, 0.9664999842643738, 0.9282000064849854, 0.9223999977111816, 0.9107999801635742, 0.906000018119812, 0.9046000242233276, 0.9009000062942505, 0.9004999995231628, 0.8848999738693237, 0.8826000094413757, 0.8817999958992004, 0.8712999820709229, 0.870199978351593, 0.8680999875068665, 0.8582000136375427, 0.8572999835014343, 0.8514999747276306, 0.8485999703407288, 0.84579998254776, 0.8399999737739563, 0.8398000001907349, 0.8300999999046326, 0.8245999813079834, 0.5777000188827515, 0.490200012922287, 0.7578999996185303, 0.6816999912261963, 0.3747999966144562, 0.44999998807907104, 0.638700008392334, 0.2563999891281128, 0.36010000109672546, 0.5134999752044678, 0.4081000089645386, 0.3824999928474426, 0.42309999465942383, 0.15929999947547913, 0.34869998693466187, 0.5557000041007996, 0.4754999876022339, 0.4050999879837036, 0.41029998660087585, 0.31299999356269836, 0.4902999997138977, 0.45080000162124634, 0.1914999932050705, 0.38519999384880066, 0.2930000126361847, 0.25099998712539673, 0.37059998512268066, 0.29190000891685486, 0.1379999965429306, 0.14350000023841858, 0.2612999975681305, 0.3100000023841858, 0.12210000306367874, -0.021400000900030136, 0.16869999468326569, 0.18379999697208405, 0.10450000315904617, 0.2184000015258789, -0.09459999948740005, -0.2046000063419342, 0.1679999977350235, 0.059300001710653305, -0.17059999704360962, 0.027899999171495438, -0.059300001710653305, -0.08100000023841858, -0.352400004863739, 0.06129999831318855, -0.042899999767541885, -0.042899999767541885, -0.2134000062942505, -0.04560000076889992, 0.04280000180006027, -0.2206999957561493, -0.133200004696846, -0.0008999999845400453, -0.19439999759197235, -0.24009999632835388, 1.1835999488830566, 1.176200032234192, 1.0865999460220337, 1.0841000080108643, 1.0288000106811523, 1.0029000043869019, 0.9394000172615051, 0.9390000104904175, 0.933899998664856, 0.9222999811172485, 0.9122999906539917, 0.9017000198364258, 0.8608999848365784, 0.8123999834060669, 0.8102999925613403, 0.809499979019165, 0.8084999918937683, 0.8055999875068665, 0.7924000024795532, 0.7785999774932861, 0.7785000205039978, 0.7736999988555908, 0.7720000147819519, 0.7455999851226807, 0.7394999861717224, 0.7360000014305115, 0.7286999821662903, 0.7271999716758728, 0.7258999943733215, 0.7253000140190125, 0.7214000225067139, 0.6776999831199646, 0.4320000112056732, 0.414000004529953, 0.5109999775886536, 0.3497999906539917, 0.37709999084472656, 0.40049999952316284, 0.29660001397132874, 0.3662000000476837, 0.353300005197525, 0.42260000109672546, 0.23659999668598175, 0.25690001249313354, 0.3230000138282776, 0.27720001339912415, 0.2418999969959259, 0.3467000126838684, 0.4408000111579895, 0.26930001378059387, 0.0689999982714653, 0.08429999649524689, 0.2741999924182892, 0.2827000021934509, 0.4593000113964081, 0.17820000648498535, 0.13510000705718994, 0.00139999995008111, 0.15880000591278076, 0.11749999970197678, 0.1234000027179718, 0.2295999974012375, -0.10329999774694443, 0.10490000247955322, -0.1143999993801117, 0.044599998742341995, -0.15139999985694885, 0.1949000060558319, 0.020600000396370888, 0.13809999823570251, -0.021199999377131462, -0.3718999922275543, 0.03920000046491623, -0.23409999907016754, -0.147599995136261, -0.0003000000142492354, -0.08190000057220459, -0.12269999831914902, -0.013899999670684338, 1.2839000225067139, 1.0539000034332275, 0.9916999936103821, 0.9670000076293945, 0.9358999729156494, 0.9179999828338623, 0.9151999950408936, 0.899399995803833, 0.8718000054359436, 0.8639000058174133, 0.8513000011444092, 0.8403000235557556, 0.8335000276565552, 0.8238000273704529, 0.8234000205993652, 0.8152999877929688, 0.8016999959945679, 0.7955999970436096, 0.7950000166893005, 0.7861999869346619, 0.7781000137329102, 0.7756999731063843, 0.7626000046730042, 0.762499988079071, 0.7559000253677368, 0.7512999773025513, 0.7376999855041504, 0.7279000282287598, 0.7261000275611877, 0.7160999774932861, 0.7085999846458435, 0.5659000277519226, 0.4185999929904938, 0.677299976348877, 0.46950000524520874, 0.42010000348091125, 0.2540999948978424, 0.4661000072956085, 0.40619999170303345, 0.20730000734329224, 0.31929999589920044, 0.20329999923706055, 0.29330000281333923, 0.3327000141143799, 0.2386000007390976, 0.4316999912261963, 0.21660000085830688, 0.3343000113964081, 0.3578000068664551, 0.07639999687671661, 0.3504999876022339, 0.17329999804496765, 0.2142000049352646, -0.01119999960064888, -0.015300000086426735, 0.32499998807907104, 0.13189999759197235, 0.2184000015258789, 0.14980000257492065, 0.2754000127315521, 0.056299999356269836, 0.20550000667572021, 0.27570000290870667, 0.0737999975681305, 0.19300000369548798, 0.20440000295639038, 0.08320000022649765, -0.17669999599456787, 0.04010000079870224, 0.10949999839067459, -0.017500000074505806, -0.11909999698400497, 0.0203000009059906, -0.024900000542402267, -0.03500000014901161, -0.05689999833703041, -0.2727999985218048, -0.12549999356269836, -0.13940000534057617, -0.19550000131130219, -0.08470000326633453, -0.2957000136375427, 1.1545000076293945, 1.0449999570846558, 1.0398999452590942, 1.0322999954223633, 1.024899959564209, 0.9771999716758728, 0.9743000268936157, 0.9624000191688538, 0.9563000202178955, 0.9488000273704529, 0.9305999875068665, 0.8919000029563904, 0.8446999788284302, 0.8271999955177307, 0.8166000247001648, 0.796999990940094, 0.7738999724388123, 0.7702000141143799, 0.7577000260353088, 0.7574999928474426, 0.7527999877929688, 0.7383000254631042, 0.7321000099182129, 0.7303000092506409, 0.7239000201225281, 0.7023000121116638, 0.6891000270843506, 0.6881999969482422, 0.6790000200271606, 0.6776999831199646, 0.6758999824523926, 0.6607999801635742, 0.6280999779701233, 0.6482999920845032, 0.33889999985694885, 0.44940000772476196, 0.40299999713897705, 0.40540000796318054, 0.44119998812675476, 0.567799985408783, 0.5335999727249146, 0.37229999899864197, 0.42329999804496765, 0.44429999589920044, 0.17219999432563782, 0.27480000257492065, 0.24060000479221344, 0.2667999863624573, 0.301800012588501, 0.19120000302791595, 0.24490000307559967, 0.33880001306533813, 0.27790001034736633, 0.041999999433755875, 0.3009999990463257, 0.2151000052690506, 0.2897000014781952, 0.15850000083446503, 0.15389999747276306, 0.20090000331401825, 0.09279999881982803, 0.17520000040531158, 0.2117999941110611, 0.11420000344514847, 0.0617000013589859, 0.13529999554157257, 0.2433999925851822, -0.1307000070810318, 0.09279999881982803, -0.1688999980688095, 0.022700000554323196, -0.21160000562667847, -0.3276999890804291, -0.01679999940097332, 0.06449999660253525, -0.05180000141263008, -0.07720000296831131, -0.0044999998062849045, -0.2705000042915344, -0.2874999940395355, 1.3580000400543213, 1.3355000019073486, 0.84579998254776, 0.8310999870300293, 0.7675999999046326, 0.7648000121116638, 0.7534999847412109, 0.7457000017166138, 0.7425000071525574, 0.7261000275611877, 0.7232999801635742, 0.7085000276565552, 0.7071999907493591, 0.7021999955177307, 0.7006999850273132, 0.6987000107765198, 0.6949999928474426, 0.680899977684021, 0.6777999997138977, 0.6765000224113464, 0.6762999892234802, 0.670799970626831, 0.666700005531311, 0.6579999923706055, 0.6554999947547913, 0.6545000076293945, 0.6506999731063843, 0.6488999724388123, 0.6486999988555908, 0.6431999802589417, 0.6240000128746033, 0.621399998664856, 0.5199000239372253, 0.604200005531311, 0.6164000034332275, 0.43849998712539673, 0.5152000188827515, 0.5073000192642212, 0.43849998712539673, 0.34389999508857727, 0.49239999055862427, 0.5202000141143799, 0.23090000450611115, 0.3124000132083893, 0.4456999897956848, 0.4740999937057495, 0.38089999556541443, 0.17430000007152557, 0.3756999969482422, 0.2651999890804291, 0.25380000472068787, 0.3862000107765198, 0.3727000057697296, 0.2924000024795532, 0.2312999963760376, 0.39969998598098755, 0.3953999876976013, 0.3091000020503998, 0.3596000075340271, 0.08659999817609787, 0.387800008058548, 0.21449999511241913, 0.1306000053882599, 0.263700008392334, 0.1728000044822693, -0.018200000748038292, 0.1889999955892563, 0.13169999420642853, 0.11469999700784683, 0.08259999752044678, 0.13019999861717224, -0.1477999985218048, -0.10570000112056732, 0.1914999932050705, 0.1005999967455864, 0.06400000303983688, 0.02969999983906746, -0.20960000157356262, 0.011699999682605267, 0.01679999940097332, 0.13449999690055847, -0.03849999979138374, -0.10329999774694443, -0.18549999594688416, 0.004999999888241291, -0.08839999884366989, -0.0957999974489212, -0.10379999876022339, -0.3188999891281128, -0.1386999934911728, -0.19290000200271606], \"logprob\": [30.0, 29.0, 28.0, 27.0, 26.0, 25.0, 24.0, 23.0, 22.0, 21.0, 20.0, 19.0, 18.0, 17.0, 16.0, 15.0, 14.0, 13.0, 12.0, 11.0, 10.0, 9.0, 8.0, 7.0, 6.0, 5.0, 4.0, 3.0, 2.0, 1.0, -10.697999954223633, -11.388899803161621, -10.493599891662598, -10.942700386047363, -10.952899932861328, -10.968799591064453, -11.644200325012207, -11.366499900817871, -11.386500358581543, -11.729100227355957, -10.346699714660645, -10.747900009155273, -11.75160026550293, -11.10830020904541, -11.115500450134277, -10.596199989318848, -11.434000015258789, -10.40470027923584, -11.80780029296875, -11.16100025177002, -11.810099601745605, -10.679699897766113, -11.206999778747559, -10.68690013885498, -10.865099906921387, -11.223899841308594, -11.25059986114502, -11.255200386047363, -11.30620002746582, -10.902600288391113, -9.456500053405762, -9.5423002243042, -7.891499996185303, -5.72130012512207, -5.364200115203857, -4.567500114440918, -6.169099807739258, -6.263500213623047, -4.3516998291015625, -5.580999851226807, -6.222700119018555, -6.425899982452393, -6.641200065612793, -6.114699840545654, -6.046299934387207, -7.317699909210205, -4.524400234222412, -6.553199768066406, -5.426300048828125, -4.5559000968933105, -5.588200092315674, -6.582900047302246, -7.532599925994873, -6.438300132751465, -5.332499980926514, -6.7606000900268555, -6.861299991607666, -5.642099857330322, -6.745100021362305, -6.720300197601318, -5.885700225830078, -6.3531999588012695, -5.701499938964844, -5.684199810028076, -5.481200218200684, -5.729700088500977, -6.253699779510498, -5.916800022125244, -5.050099849700928, -5.789100170135498, -4.928899765014648, -5.882500171661377, -5.806600093841553, -5.143499851226807, -5.980100154876709, -5.711599826812744, -5.8796000480651855, -5.841800212860107, -5.98390007019043, -5.9293999671936035, -5.940199851989746, -10.796699523925781, -11.449399948120117, -10.867400169372559, -11.517900466918945, -10.909299850463867, -10.920700073242188, -11.602899551391602, -10.95829963684082, -10.959799766540527, -11.608099937438965, -10.056699752807617, -10.623100280761719, -11.051400184631348, -11.307700157165527, -11.031599998474121, -11.69279956817627, -10.854999542236328, -10.694499969482422, -11.053400039672852, -11.719599723815918, -10.878100395202637, -11.095499992370605, -11.402700424194336, -10.903400421142578, -10.749500274658203, -10.91469955444336, -10.269100189208984, -10.76259994506836, -11.770999908447266, -10.991900444030762, -10.004599571228027, -10.511099815368652, -7.658100128173828, -5.788000106811523, -5.422800064086914, -6.594399929046631, -7.725800037384033, -4.365099906921387, -6.476900100708008, -5.3730998039245605, -6.50540018081665, -7.531099796295166, -7.768400192260742, -5.350100040435791, -5.747700214385986, -7.09689998626709, -6.156899929046631, -6.006499767303467, -5.707799911499023, -5.7581000328063965, -6.595600128173828, -6.924499988555908, -5.863900184631348, -6.79640007019043, -6.758800029754639, -4.66480016708374, -5.9679999351501465, -6.509300231933594, -6.526599884033203, -4.705999851226807, -5.94350004196167, -6.613800048828125, -5.013700008392334, -5.7270002365112305, -4.978799819946289, -4.847799777984619, -5.033199787139893, -6.369900226593018, -5.613699913024902, -6.0883002281188965, -5.495699882507324, -5.746799945831299, -5.771200180053711, -5.719900131225586, -5.821700096130371, -5.9303998947143555, -5.932700157165527, -6.105599880218506, -6.014800071716309, -5.875899791717529, -5.970900058746338, -5.981299877166748, -10.661499977111816, -10.430899620056152, -11.094300270080566, -10.935600280761719, -10.948200225830078, -11.78969955444336, -11.793000221252441, -11.147899627685547, -10.955300331115723, -11.80620002746582, -11.165800094604492, -11.16759967803955, -11.1899995803833, -10.84119987487793, -11.058600425720215, -11.030900001525879, -11.223899841308594, -11.226300239562988, -11.052000045776367, -11.246899604797363, -11.90429973602295, -11.90939998626709, -11.282099723815918, -11.593600273132324, -11.09850025177002, -11.302599906921387, -11.153599739074707, -10.232500076293945, -9.49530029296875, -11.95300006866455, -11.159899711608887, -5.843400001525879, -9.281399726867676, -10.673399925231934, -10.113900184631348, -5.454899787902832, -5.69350004196167, -6.726099967956543, -6.668099880218506, -6.743800163269043, -7.200699806213379, -4.718800067901611, -4.769800186157227, -5.769000053405762, -7.557600021362305, -6.333399772644043, -5.848199844360352, -6.3491997718811035, -7.381199836730957, -6.75, -5.453100204467773, -6.561699867248535, -6.394000053405762, -5.815299987792969, -7.311600208282471, -5.696599960327148, -4.5731000900268555, -7.396500110626221, -6.989500045776367, -6.040999889373779, -4.650599956512451, -5.632199764251709, -4.892099857330322, -5.682600021362305, -6.209700107574463, -6.247300148010254, -5.759399890899658, -4.836900234222412, -5.784200191497803, -5.46589994430542, -5.7835001945495605, -5.6168999671936035, -5.7393999099731445, -4.92579984664917, -5.918600082397461, -6.002900123596191, -6.027500152587891, -5.860899925231934, -5.8414998054504395, -5.68779993057251, -5.800600051879883, -5.918300151824951, -5.94189977645874, -10.219599723815918, -10.749099731445312, -11.5177001953125, -10.908699989318848, -10.80049991607666, -10.861700057983398, -11.660599708557129, -11.07229995727539, -10.880200386047363, -11.062199592590332, -10.448399543762207, -10.273300170898438, -11.74370002746582, -10.908100128173828, -10.928799629211426, -11.133500099182129, -11.786800384521484, -11.156800270080566, -11.822199821472168, -10.70259952545166, -11.004799842834473, -11.852100372314453, -11.20740032196045, -10.750200271606445, -11.215900421142578, -11.22700023651123, -11.888899803161621, -11.891500473022461, -11.897100448608398, -11.307000160217285, -10.090299606323242, -10.126700401306152, -11.25879955291748, -5.41480016708374, -6.25600004196167, -8.143699645996094, -4.42710018157959, -5.884099960327148, -6.430099964141846, -7.4456000328063965, -5.554900169372559, -5.403200149536133, -7.344099998474121, -5.561100006103516, -7.639800071716309, -6.007400035858154, -6.134300231933594, -5.61299991607666, -5.359899997711182, -5.6194000244140625, -5.860599994659424, -5.558599948883057, -6.6844000816345215, -6.3267998695373535, -6.149600028991699, -6.749100208282471, -6.704699993133545, -6.696000099182129, -6.728300094604492, -5.657700061798096, -6.646500110626221, -6.655399799346924, -4.735300064086914, -4.727099895477295, -5.586299896240234, -5.561699867248535, -6.247499942779541, -6.028500080108643, -5.0167999267578125, -5.904399871826172, -5.084700107574463, -4.867000102996826, -5.110099792480469, -5.769400119781494, -5.834499835968018, -5.859300136566162, -5.622200012207031, -5.810500144958496, -5.878200054168701, -5.962299823760986, -5.981100082397461, -10.277999877929688, -10.544899940490723, -11.304900169372559, -11.312800407409668, -10.281399726867676, -10.960399627685547, -10.631500244140625, -10.014399528503418, -10.842599868774414, -11.051400184631348, -10.87399959564209, -11.104700088500977, -10.47130012512207, -11.77970027923584, -10.211199760437012, -10.639300346374512, -10.813599586486816, -11.183799743652344, -11.832500457763672, -11.033499717712402, -10.493200302124023, -11.245499610900879, -11.251299858093262, -11.253199577331543, -10.728799819946289, -11.315099716186523, -11.911199569702148, -11.264599800109863, -11.26609992980957, -10.334199905395508, -8.312000274658203, -6.902699947357178, -10.370400428771973, -4.999199867248535, -7.782599925994873, -9.935199737548828, -5.944900035858154, -6.4741997718811035, -6.4222002029418945, -6.561500072479248, -5.986700057983398, -6.540900230407715, -7.595300197601318, -5.5971999168396, -5.786099910736084, -5.940100193023682, -5.837699890136719, -6.678999900817871, -4.8383002281188965, -6.1209001541137695, -6.34089994430542, -6.421999931335449, -6.707799911499023, -7.626200199127197, -5.781000137329102, -5.704599857330322, -4.769999980926514, -6.387400150299072, -6.038899898529053, -4.7118000984191895, -4.991099834442139, -6.011099815368652, -5.667900085449219, -5.906599998474121, -5.696000099182129, -5.735400199890137, -4.833799839019775, -5.769999980926514, -5.918499946594238, -5.116600036621094, -4.9542999267578125, -5.783199787139893, -5.819399833679199, -5.963099956512451, -5.728600025177002, -5.914700031280518, -5.849999904632568, -5.934199810028076, -5.974599838256836, -5.957099914550781, -5.973400115966797, -11.279800415039062, -11.108599662780762, -11.111100196838379, -10.836799621582031, -10.870699882507324, -11.517600059509277, -10.891599655151367, -10.98740005493164, -10.831999778747559, -11.678600311279297, -11.094599723815918, -11.048700332641602, -11.696599960327148, -11.05370044708252, -11.700400352478027, -10.543999671936035, -11.717700004577637, -10.228099822998047, -11.389900207519531, -11.730799674987793, -11.086899757385254, -11.096500396728516, -11.743399620056152, -11.750200271606445, -11.7524995803833, -10.583499908447266, -11.760700225830078, -11.114299774169922, -11.123600006103516, -11.129500389099121, -6.477200031280518, -5.764800071716309, -10.242600440979004, -9.36359977722168, -5.337500095367432, -6.418399810791016, -8.79800033569336, -4.501100063323975, -5.875500202178955, -7.465400218963623, -6.415299892425537, -6.281000137329102, -6.871099948883057, -4.498300075531006, -6.31790018081665, -8.192999839782715, -7.488699913024902, -6.8769001960754395, -6.926700115203857, -6.205399990081787, -7.69950008392334, -7.415599822998047, -5.57390022277832, -6.98390007019043, -6.3846001625061035, -6.183499813079834, -7.0279998779296875, -6.571899890899658, -5.746699810028076, -5.807700157165527, -6.434000015258789, -6.691100120544434, -5.719399929046631, -4.992800235748291, -5.984799861907959, -6.090000152587891, -5.78380012512207, -6.376999855041504, -5.074399948120117, -4.819699764251709, -6.197199821472168, -5.819699764251709, -5.0920000076293945, -5.830399990081787, -5.673900127410889, -5.636300086975098, -5.032800197601318, -5.9980998039245605, -5.846799850463867, -5.88070011138916, -5.701600074768066, -5.896299839019775, -6.063300132751465, -5.871300220489502, -5.970099925994873, -6.074100017547607, -6.009399890899658, -6.049799919128418, -10.772100448608398, -11.425000190734863, -11.51550006866455, -10.871199607849121, -11.572600364685059, -10.95199966430664, -11.66189956665039, -11.320899963378906, -11.019399642944336, -11.031200408935547, -10.850199699401855, -11.358200073242188, -11.093799591064453, -11.446800231933594, -11.790900230407715, -11.143899917602539, -9.820500373840332, -11.796199798583984, -11.21310043334961, -11.822400093078613, -10.820599555969238, -11.179699897766113, -10.24899959564209, -11.514399528503418, -10.571599960327148, -11.217700004577637, -10.761300086975098, -11.226400375366211, -10.47819995880127, -11.228599548339844, -10.507800102233887, -9.965800285339355, -6.064899921417236, -6.0167999267578125, -7.583099842071533, -5.64739990234375, -6.190400123596191, -6.520500183105469, -5.468800067901611, -6.296599864959717, -6.459400177001953, -7.1975998878479, -5.318600177764893, -5.55810022354126, -6.292799949645996, -5.915500164031982, -5.616399765014648, -6.582200050354004, -7.536600112915039, -6.207300186157227, -4.588600158691406, -4.895599842071533, -6.348400115966797, -6.552999973297119, -7.789100170135498, -5.927800178527832, -5.668700218200684, -4.96999979019165, -5.914400100708008, -5.692200183868408, -5.72730016708374, -6.382400035858154, -4.718400001525879, -5.774099826812744, -4.8719000816345215, -5.605999946594238, -4.8317999839782715, -6.234600067138672, -5.7565999031066895, -6.109399795532227, -5.858099937438965, -5.2932000160217285, -6.0254998207092285, -5.722300052642822, -5.860000133514404, -5.998600006103516, -5.970200061798096, -5.9604997634887695, -6.034599781036377, -11.317299842834473, -11.546600341796875, -10.961799621582031, -10.342700004577637, -11.017399787902832, -11.036600112915039, -11.685500144958496, -11.359600067138672, -11.729299545288086, -10.73390007019043, -11.748499870300293, -10.588299751281738, -10.27400016784668, -11.129300117492676, -11.777700424194336, -11.137499809265137, -11.799699783325195, -11.159299850463867, -11.805999755859375, -11.169400215148926, -11.82289981842041, -11.179400444030762, -11.190799713134766, -10.8725004196167, -11.84469985961914, -10.846400260925293, -11.86240005493164, -11.873600006103516, -11.226799964904785, -10.742600440979004, -10.31149959564209, -6.742499828338623, -5.196000099182129, -10.187399864196777, -6.341899871826172, -6.598499774932861, -4.426300048828125, -7.3684000968933105, -6.799699783325195, -4.55019998550415, -5.916299819946289, -4.718100070953369, -5.885499954223633, -6.355999946594238, -5.565199851989746, -7.625699996948242, -5.780600070953369, -6.8796000480651855, -7.131499767303467, -4.903500080108643, -7.125699996948242, -5.824900150299072, -6.133299827575684, -4.626299858093262, -4.672900199890137, -6.973700046539307, -5.704999923706055, -6.291200160980225, -5.91349983215332, -6.703400135040283, -5.594299793243408, -6.388299942016602, -6.7565999031066895, -5.776899814605713, -6.374499797821045, -6.4542999267578125, -5.981599807739258, -5.148099899291992, -5.911099910736084, -6.14739990234375, -5.7947998046875, -5.674300193786621, -5.99370002746582, -5.9131999015808105, -5.8933000564575195, -5.894700050354004, -5.761000156402588, -6.027699947357178, -6.018400192260742, -6.010499954223633, -6.1097002029418945, -6.105400085449219, -10.798600196838379, -10.909700393676758, -10.388899803161621, -10.92300033569336, -11.576800346374512, -10.130999565124512, -10.454999923706055, -11.63860034942627, -10.998800277709961, -11.006999969482422, -10.667699813842773, -11.710000038146973, -11.109800338745117, -11.774499893188477, -10.816800117492676, -10.964099884033203, -10.654899597167969, -11.183099746704102, -11.843799591064453, -11.196599960327148, -11.850299835205078, -11.266799926757812, -11.222399711608887, -11.222700119018555, -11.876899719238281, -11.25059986114502, -11.911700248718262, -11.265299797058105, -10.16919994354248, -11.082300186157227, -10.089200019836426, -10.070799827575684, -9.19159984588623, -9.980500221252441, -4.3414998054504395, -6.629799842834473, -6.000400066375732, -6.149099826812744, -6.880899906158447, -8.835200309753418, -8.413200378417969, -6.341000080108643, -7.146200180053711, -7.4039998054504395, -4.749100208282471, -5.878600120544434, -5.574399948120117, -5.926000118255615, -6.386899948120117, -5.423399925231934, -6.028800010681152, -6.798299789428711, -6.344799995422363, -4.5731000900268555, -6.617300033569336, -6.020999908447266, -6.572000026702881, -5.69980001449585, -5.687699794769287, -6.0559000968933105, -5.395400047302246, -5.8979997634887695, -6.222599983215332, -5.736400127410889, -5.493500232696533, -5.8618998527526855, -6.394800186157227, -4.788300037384033, -5.905399799346924, -5.140399932861328, -5.815100193023682, -5.191500186920166, -5.08519983291626, -5.8206000328063965, -6.00029993057251, -5.828999996185303, -5.914100170135498, -6.025199890136719, -5.92110013961792, -5.999800205230713, -10.3996000289917, -8.321200370788574, -11.107999801635742, -11.770099639892578, -11.184800148010254, -10.833100318908691, -11.845600128173828, -11.206299781799316, -11.85669994354248, -11.226300239562988, -11.280599594116211, -10.889300346374512, -10.544899940490723, -11.897899627685547, -11.252699851989746, -11.305399894714355, -11.065299987792969, -11.272000312805176, -11.275099754333496, -10.660300254821777, -11.923399925231934, -11.928899765014648, -10.930299758911133, -11.600000381469727, -11.10420036315918, -11.604499816894531, -11.948699951171875, -11.305800437927246, -10.949399948120117, -11.957200050354004, -10.22350025177002, -10.582599639892578, -8.026900291442871, -10.097100257873535, -10.58650016784668, -6.535699844360352, -8.204700469970703, -8.319600105285645, -7.0447001457214355, -5.676799774169922, -8.177599906921387, -8.814900398254395, -4.740499973297119, -5.961400032043457, -7.734600067138672, -8.17080020904541, -6.933599948883057, -4.506100177764893, -7.002900123596191, -5.84089994430542, -5.771299839019775, -7.336299896240234, -7.186399936676025, -6.275100231170654, -5.719900131225586, -7.521100044250488, -7.53380012512207, -6.703499794006348, -7.221700191497803, -4.8933000564575195, -7.614099979400635, -6.095600128173828, -5.424600124359131, -6.532899856567383, -5.890500068664551, -4.633299827575684, -6.082300186157227, -5.865499973297119, -5.787499904632568, -5.629799842834473, -5.934599876403809, -4.805500030517578, -5.0269999504089355, -6.424099922180176, -6.019999980926514, -5.934299945831299, -5.8119001388549805, -4.967100143432617, -5.753699779510498, -5.833799839019775, -6.252500057220459, -5.876299858093262, -5.754000186920166, -5.673699855804443, -6.008900165557861, -5.903500080108643, -5.980500221252441, -5.982699871063232, -5.9334001541137695, -5.997000217437744, -5.996799945831299]}, \"token.table\": {\"Topic\": [2, 4, 10, 1, 2, 3, 4, 5, 6, 7, 8, 9, 10, 1, 3, 4, 6, 8, 10, 1, 3, 4, 5, 10, 4, 5, 3, 4, 4, 7, 7, 1, 2, 3, 4, 5, 6, 7, 8, 10, 1, 2, 3, 4, 5, 6, 7, 8, 9, 10, 1, 2, 3, 4, 5, 6, 7, 8, 9, 10, 5, 1, 2, 3, 4, 5, 6, 7, 8, 9, 10, 4, 1, 2, 3, 4, 5, 6, 7, 8, 9, 10, 8, 1, 1, 2, 3, 4, 5, 6, 7, 8, 9, 10, 1, 2, 3, 4, 5, 6, 7, 8, 9, 10, 1, 2, 3, 4, 5, 6, 7, 8, 9, 10, 1, 2, 3, 4, 5, 6, 7, 8, 9, 10, 1, 2, 3, 4, 5, 6, 7, 8, 9, 10, 7, 1, 2, 3, 4, 5, 6, 7, 8, 9, 10, 1, 2, 3, 4, 5, 6, 7, 8, 9, 10, 8, 1, 2, 3, 4, 5, 6, 7, 8, 9, 10, 2, 5, 6, 9, 1, 2, 3, 4, 5, 6, 7, 8, 9, 10, 3, 10, 1, 2, 3, 4, 5, 6, 7, 8, 9, 10, 1, 2, 3, 4, 5, 6, 7, 8, 9, 10, 1, 2, 3, 4, 5, 6, 7, 8, 9, 10, 1, 2, 3, 4, 5, 6, 7, 8, 9, 10, 1, 2, 3, 4, 5, 6, 7, 8, 9, 10, 1, 2, 3, 4, 5, 6, 7, 8, 9, 10, 1, 3, 4, 5, 6, 7, 8, 9, 10, 5, 8, 9, 1, 3, 4, 5, 1, 2, 3, 4, 5, 6, 7, 8, 9, 10, 2, 3, 8, 9, 1, 2, 3, 4, 5, 6, 7, 8, 9, 10, 7, 2, 3, 1, 2, 3, 4, 5, 6, 7, 8, 9, 10, 1, 2, 3, 4, 5, 6, 7, 8, 9, 10, 1, 2, 3, 4, 5, 6, 7, 8, 9, 10, 1, 3, 7, 8, 2, 1, 6, 9, 1, 2, 3, 4, 5, 6, 7, 8, 9, 10, 4, 1, 2, 3, 4, 5, 6, 7, 8, 9, 10, 1, 2, 3, 4, 5, 6, 7, 8, 9, 10, 2, 1, 2, 3, 4, 5, 6, 7, 8, 9, 10, 4, 6, 8, 2, 6, 9, 10, 1, 2, 3, 4, 5, 6, 7, 8, 9, 10, 1, 3, 1, 2, 3, 4, 5, 6, 7, 8, 9, 10, 1, 2, 3, 4, 5, 6, 7, 8, 9, 10, 1, 2, 3, 4, 5, 6, 7, 8, 9, 10, 1, 2, 3, 4, 5, 6, 7, 8, 9, 10, 1, 2, 3, 4, 5, 6, 7, 8, 9, 10, 2, 3, 1, 2, 3, 4, 5, 6, 7, 8, 9, 10, 1, 2, 3, 4, 5, 6, 7, 8, 9, 10, 1, 2, 3, 4, 5, 6, 7, 8, 9, 10, 1, 2, 3, 4, 5, 6, 7, 8, 9, 10, 1, 2, 3, 4, 5, 6, 7, 8, 9, 10, 1, 2, 3, 4, 5, 6, 7, 8, 9, 10, 4, 7, 9, 10, 2, 1, 10, 1, 4, 5, 1, 2, 3, 4, 5, 6, 7, 8, 9, 10, 2, 7, 10, 7, 3, 4, 9, 5, 10, 1, 2, 3, 4, 5, 6, 7, 8, 9, 10, 1, 2, 3, 4, 5, 6, 7, 8, 9, 10, 1, 2, 3, 4, 5, 6, 7, 8, 9, 10, 1, 2, 3, 4, 5, 6, 7, 8, 9, 10, 1, 2, 3, 4, 5, 6, 7, 8, 9, 10, 1, 2, 3, 4, 5, 6, 7, 8, 9, 10, 7, 8, 7, 3, 7, 8, 9, 1, 2, 4, 7, 1, 2, 3, 4, 5, 6, 7, 8, 9, 10, 9, 1, 2, 3, 4, 5, 6, 7, 8, 9, 10, 1, 2, 3, 4, 5, 6, 7, 8, 9, 10, 3, 4, 7, 9, 1, 2, 3, 4, 5, 6, 7, 8, 9, 10, 2, 1, 2, 3, 4, 5, 6, 7, 8, 9, 10, 1, 2, 3, 4, 5, 6, 7, 8, 9, 10, 6, 1, 2, 4, 5, 6, 7, 8, 9, 10, 1, 2, 3, 4, 5, 6, 7, 8, 9, 10, 10, 4, 9, 10, 1, 2, 3, 4, 5, 6, 7, 8, 9, 10, 6, 7, 6, 8, 10, 2, 10, 8, 2, 1, 2, 3, 4, 5, 6, 7, 8, 9, 10, 1, 2, 3, 4, 5, 6, 7, 8, 9, 10, 6, 7, 9, 2, 4, 5, 1, 2, 3, 4, 5, 6, 7, 8, 9, 10, 1, 2, 3, 4, 5, 6, 7, 8, 9, 10, 1, 2, 3, 4, 5, 6, 7, 8, 9, 10, 1, 2, 3, 4, 5, 6, 7, 8, 9, 10, 1, 2, 3, 4, 5, 6, 7, 8, 9, 10, 1, 5, 1, 2, 4, 5, 6, 7, 8, 10, 1, 2, 3, 4, 5, 6, 7, 8, 9, 10, 1, 2, 3, 4, 6, 7, 8, 9, 10, 10, 1, 1, 6, 7, 9, 10, 1, 2, 3, 4, 5, 6, 7, 8, 9, 10, 1, 2, 3, 4, 5, 7, 8, 10, 1, 2, 3, 4, 5, 6, 7, 8, 9, 10, 1, 2, 3, 4, 5, 6, 7, 8, 9, 10, 1, 2, 3, 4, 5, 6, 7, 8, 9, 10, 9, 10, 1, 2, 3, 4, 5, 6, 7, 8, 9, 10, 1, 2, 3, 4, 5, 6, 7, 8, 9, 10, 3, 6, 7, 8, 9, 6, 8, 1, 2, 3, 4, 5, 6, 7, 8, 9, 10, 1, 5, 6, 10, 1, 3, 4, 5, 6, 8, 9, 10, 4, 8, 9, 2, 4, 1, 2, 3, 4, 5, 6, 7, 8, 9, 10, 1, 2, 4, 7, 8, 9, 10, 1, 2, 3, 4, 5, 6, 7, 8, 9, 10, 1, 2, 3, 4, 5, 6, 7, 8, 9, 10, 1, 2, 3, 4, 5, 6, 7, 8, 9, 10, 1, 2, 3, 4, 5, 6, 7, 8, 9, 10, 3, 1, 2, 3, 4, 5, 6, 7, 8, 9, 10, 2, 7, 8, 1, 2, 3, 4, 5, 6, 7, 8, 9, 10, 1, 2, 3, 4, 5, 6, 7, 8, 9, 10, 8, 9, 10, 1, 2, 3, 4, 5, 6, 7, 8, 9, 10, 1, 2, 8, 10, 1, 10, 1, 2, 3, 4, 5, 6, 7, 8, 9, 10, 6, 1, 2, 3, 4, 5, 6, 7, 8, 9, 10, 1, 2, 3, 4, 5, 6, 7, 8, 9, 10, 1, 2, 3, 4, 5, 6, 7, 8, 9, 10, 1, 2, 3, 4, 5, 6, 7, 8, 9, 10, 3, 5, 1, 1, 2, 3, 4, 5, 6, 7, 8, 9, 10, 1, 2, 3, 4, 5, 6, 7, 8, 9, 10, 1, 2, 3, 4, 5, 6, 7, 8, 9, 10, 3, 4, 1, 2, 3, 4, 5, 6, 7, 8, 9, 10, 1, 2, 3, 4, 5, 6, 7, 8, 9, 10, 1, 2, 3, 4, 5, 6, 7, 8, 9, 10, 1, 2, 3, 4, 5, 6, 7, 8, 9, 10, 1, 8, 7, 9, 1, 4, 5, 1, 2, 3, 4, 5, 6, 7, 8, 9, 10, 1, 3, 4, 5, 6, 7, 8, 9, 1, 3, 4, 5, 7, 8, 9, 1, 9, 10, 1, 1, 2, 3, 4, 5, 6, 7, 8, 9, 10, 2, 4, 6, 6, 7, 1, 2, 3, 4, 5, 6, 7, 8, 9, 10, 1, 6, 8, 7, 5, 6, 7, 8, 9, 6, 1, 2, 3, 4, 5, 6, 7, 8, 9, 10, 5, 9, 4, 1, 2, 3, 4, 5, 6, 7, 8, 9, 10, 1, 2, 3, 4, 5, 6, 7, 8, 9, 10, 2, 3, 1, 2, 3, 4, 5, 6, 7, 8, 9, 10, 1, 2, 3, 4, 5, 6, 7, 8, 9, 10, 9, 1, 1, 2, 3, 4, 5, 6, 7, 8, 9, 10, 1, 2, 3, 4, 5, 6, 7, 9, 10, 1, 2, 3, 4, 5, 6, 7, 8, 9, 10, 1, 4, 6, 7, 8, 10, 1, 2, 3, 4, 5, 6, 7, 8, 9, 10, 1, 2, 3, 4, 5, 6, 7, 8, 9, 10, 7, 1, 2, 3, 4, 5, 6, 7, 8, 9, 10, 1, 2, 3, 4, 5, 6, 7, 8, 9, 10, 1, 2, 3, 4, 5, 6, 7, 8, 9, 10, 1, 2, 3, 4, 5, 6, 7, 8, 9, 10, 1, 2, 3, 4, 5, 6, 7, 8, 9, 10, 1, 2, 3, 4, 5, 6, 7, 8, 9, 10, 1, 2, 3, 4, 5, 6, 7, 8, 9, 10, 1, 2, 3, 4, 5, 6, 7, 8, 9, 10, 3, 6, 1, 1, 2, 4, 6, 7, 10, 1, 3, 4, 6, 10, 1, 2, 3, 4, 5, 6, 7, 8, 9, 10, 1, 2, 3, 4, 5, 6, 7, 8, 9, 10, 3, 7, 2, 5, 1, 2, 3, 4, 5, 6, 7, 8, 9, 10, 1, 2, 3, 8, 1, 2, 3, 4, 5, 6, 7, 8, 9, 10, 1, 2, 3, 4, 5, 6, 7, 8, 9, 10, 1, 2, 4, 6, 1, 2, 3, 4, 5, 6, 7, 8, 9, 10, 3, 3, 1, 2, 3, 4, 5, 6, 7, 8, 9, 10, 1, 2, 3, 4, 5, 6, 7, 8, 9, 10, 1, 2, 3, 4, 5, 6, 7, 8, 9, 10, 6, 1, 2, 3, 4, 5, 6, 7, 8, 9, 6, 1, 2, 3, 4, 5, 6, 7, 8, 9, 10, 1, 2, 3, 4, 5, 6, 7, 8, 9, 10, 1, 2, 3, 4, 5, 6, 7, 8, 9, 10, 1, 2, 3, 4, 5, 6, 7, 8, 9, 10, 2, 3, 7, 1, 2, 3, 4, 5, 6, 7, 8, 9, 10, 2, 1, 2, 3, 4, 5, 6, 7, 8, 9, 10, 1, 2, 3, 4, 5, 6, 7, 8, 9, 10, 5, 8, 1, 2, 3, 4, 5, 6, 7, 8, 9, 10, 1, 2, 3, 4, 5, 6, 7, 8, 9, 10, 10, 4, 1, 2, 3, 4, 5, 6, 7, 8, 9, 10, 1, 4, 6, 10, 1, 5, 7, 1, 2, 3, 4, 5, 6, 7, 8, 9, 10, 1, 2, 5, 6, 8, 10, 4, 4, 8, 1, 2, 3, 4, 5, 6, 7, 8, 9, 10, 4, 5, 7, 8, 1, 2, 5, 9, 2, 5, 6, 7, 8, 9, 10, 6, 8, 1, 2, 3, 4, 5, 6, 7, 8, 9, 10, 1, 1, 1, 2, 3, 4, 5, 6, 7, 8, 9, 10, 1, 2, 3, 4, 5, 6, 7, 8, 9, 10, 1, 2, 3, 4, 5, 6, 7, 8, 9, 10, 1, 8, 1, 2, 3, 4, 5, 6, 7, 8, 9, 10, 2, 5, 1, 2, 3, 4, 5, 6, 7, 8, 9, 10, 1, 2, 3, 4, 5, 6, 7, 8, 9, 10, 2, 3, 10, 7, 1, 2, 3, 4, 5, 6, 7, 8, 9, 10, 1, 2, 3, 4, 5, 6, 7, 8, 9, 10, 1, 2, 3, 4, 5, 6, 7, 8, 9, 10, 1, 2, 3, 4, 5, 6, 7, 8, 9, 10, 1, 2, 3, 4, 5, 6, 7, 8, 9, 10, 2, 8, 1, 2, 3, 4, 5, 6, 7, 8, 9, 10, 1, 2, 3, 4, 5, 6, 7, 8, 9, 10, 6, 5, 7, 9, 10, 1, 5, 2, 4, 1, 2, 3, 4, 5, 6, 7, 8, 9, 10, 5, 1, 2, 3, 4, 5, 6, 7, 8, 9, 10, 1, 2, 3, 4, 5, 6, 7, 8, 9, 10, 2, 3, 4, 7, 8, 8, 3, 10, 1, 3, 1, 2, 3, 4, 5, 6, 7, 8, 9, 10, 1, 2, 3, 4, 5, 6, 7, 8, 9, 10, 1, 2, 3, 4, 5, 6, 7, 8, 9, 10, 1, 2, 3, 4, 5, 6, 7, 8, 9, 10, 6, 8, 1, 2, 3, 4, 5, 6, 7, 8, 9, 10, 2, 5, 1, 2, 3, 4, 5, 6, 7, 8, 9, 10, 6, 9, 2, 6, 10, 1, 2, 3, 4, 5, 6, 7, 8, 9, 10, 1, 3, 4, 5, 6, 7, 8, 10, 1, 1, 2, 3, 4, 5, 6, 7, 8, 9, 10, 1, 2, 3, 4, 5, 6, 7, 8, 9, 10, 1, 2, 3, 4, 5, 6, 7, 8, 9, 10, 1, 2, 3, 4, 5, 6, 7, 8, 9, 10, 1, 2, 3, 4, 5, 6, 7, 8, 9, 10, 8, 1, 2, 3, 4, 5, 6, 7, 8, 9, 10, 1, 2, 3, 4, 5, 6, 7, 8, 9, 10, 1, 2, 3, 4, 5, 6, 7, 8, 9, 10, 1, 2, 3, 4, 5, 6, 7, 8, 9, 10, 8, 1, 2, 3, 6, 7, 8, 3, 2, 4, 3, 6, 1, 2, 3, 4, 5, 6, 7, 8, 9, 10, 1, 2, 3, 4, 5, 6, 7, 8, 9, 10, 1, 5, 6, 1, 2, 3, 4, 5, 6, 7, 8, 9, 10, 7, 4, 1, 2, 3, 4, 5, 6, 7, 8, 9, 10, 1, 2, 5, 6, 8, 9, 10, 1, 2, 3, 4, 5, 6, 7, 8, 9, 10, 9, 1, 2, 3, 4, 5, 6, 7, 8, 9, 10, 3, 6, 10, 3, 4, 6, 4, 1, 2, 3, 4, 5, 6, 7, 8, 9, 10, 1, 2, 3, 4, 5, 6, 7, 8, 9, 10, 1, 2, 3, 4, 5, 6, 7, 8, 9, 10, 3, 1, 2, 3, 4, 6, 7, 8, 9, 10, 1, 2, 3, 4, 5, 6, 7, 8, 9, 10, 1, 2, 3, 4, 5, 6, 7, 8, 9, 10, 1, 2, 3, 4, 5, 6, 7, 8, 9, 10, 3, 4, 1, 2, 3, 4, 5, 6, 7, 8, 9, 10, 1, 2, 3, 4, 5, 6, 7, 8, 9, 10, 1, 2, 3, 4, 5, 6, 7, 8, 9, 10, 9, 6, 7, 9, 1, 2, 3, 4, 6, 7, 8, 10, 1, 2, 3, 4, 6, 8, 9, 1, 2, 3, 4, 5, 6, 7, 8, 9, 10, 3, 7, 10, 1, 2, 3, 4, 5, 6, 7, 8, 9, 10, 1, 2, 3, 4, 5, 6, 7, 8, 9, 10, 1, 2, 3, 4, 5, 6, 7, 8, 9, 10, 1, 2, 3, 4, 5, 6, 7, 8, 9, 10, 2, 5, 1, 2, 3, 5, 7, 8, 9, 10, 2, 1, 2, 3, 6, 8, 1, 2, 3, 4, 5, 6, 7, 8, 9, 10, 1, 2, 3, 4, 6, 9, 10, 1, 2, 3, 4, 5, 6, 7, 8, 9, 10, 1, 1, 2, 3, 4, 5, 6, 7, 8, 9, 10, 1, 2, 3, 4, 5, 6, 7, 8, 9, 10, 1, 2, 3, 4, 5, 6, 7, 8, 9, 10, 1, 2, 3, 4, 5, 6, 7, 8, 9, 10, 1, 2, 3, 4, 5, 6, 7, 8, 9, 10, 1, 2, 3, 4, 5, 6, 7, 8, 9, 10, 5, 1, 2, 3, 4, 5, 6, 7, 8, 9, 10, 3, 7, 1, 2, 3, 4, 5, 6, 7, 8, 9, 10, 1, 2, 3, 4, 5, 6, 7, 8, 9, 10, 3, 3, 1, 2, 3, 4, 5, 6, 7, 8, 9, 10, 5, 1, 2, 3, 4, 5, 6, 7, 8, 9, 10, 1, 2, 3, 4, 5, 6, 7, 8, 9, 10, 5, 6, 1, 2, 3, 4, 5, 6, 7, 8, 9, 10, 1, 2, 3, 4, 5, 6, 7, 8, 9, 10, 1, 10, 9, 1, 2, 3, 4, 5, 6, 7, 8, 9, 10, 1, 2, 3, 4, 5, 6, 7, 8, 9, 10, 1, 2, 3, 4, 5, 6, 7, 8, 10, 1, 2, 3, 4, 5, 6, 7, 8, 9, 10, 9, 1, 2, 3, 4, 5, 6, 7, 8, 9, 10, 1, 2, 3, 4, 5, 6, 7, 8, 9, 10, 1, 2, 3, 4, 5, 6, 7, 8, 9, 10, 1, 2, 3, 4, 5, 6, 7, 8, 9, 10, 2, 1, 2, 3, 4, 5, 6, 7, 8, 9, 10, 1, 2, 3, 4, 5, 6, 7, 8, 9, 10, 1, 2, 3, 4, 5, 6, 7, 8, 9, 10, 1, 2, 3, 4, 5, 6, 7, 8, 9, 10, 1, 7, 1, 2, 3, 4, 5, 6, 7, 8, 9, 10, 1, 2, 3, 4, 5, 6, 7, 8, 9, 10, 1, 2, 3, 4, 5, 6, 7, 8, 9, 10, 1, 2, 3, 5, 8, 9, 1, 2, 3, 4, 5, 6, 7, 8, 9, 10, 1, 2, 3, 4, 5, 6, 7, 8, 9, 10, 1, 2, 3, 4, 5, 6, 7, 8, 9, 10, 1, 4, 5, 6, 7, 8, 9, 1, 2, 3, 4, 5, 6, 7, 8, 9, 10, 1, 2, 3, 4, 5, 6, 7, 8, 9, 10, 1, 2, 3, 4, 5, 6, 7, 8, 9, 10, 1, 3, 5, 1, 2, 3, 4, 5, 6, 7, 8, 9, 10, 1, 2, 3, 4, 5, 6, 7, 8, 9, 10, 1, 2, 3, 4, 5, 6, 7, 8, 10, 9, 2, 3, 5, 5], \"Freq\": [0.22661691904067993, 0.22661691904067993, 0.22661691904067993, 0.09569825977087021, 0.12269008159637451, 0.08588305860757828, 0.1398666948080063, 0.09815206378698349, 0.10305966436862946, 0.06379883736371994, 0.07852165400981903, 0.12269008159637451, 0.08833685517311096, 0.12713618576526642, 0.12713618576526642, 0.12713618576526642, 0.25427237153053284, 0.25427237153053284, 0.12713618576526642, 0.17451462149620056, 0.17451462149620056, 0.17451462149620056, 0.17451462149620056, 0.17451462149620056, 0.32341834902763367, 0.32341834902763367, 0.20341481268405914, 0.20341481268405914, 0.3237383961677551, 0.3237383961677551, 0.3406050205230713, 0.10698509216308594, 0.10698509216308594, 0.10698509216308594, 0.10698509216308594, 0.10698509216308594, 0.10698509216308594, 0.10698509216308594, 0.10698509216308594, 0.21397018432617188, 0.1461804360151291, 0.1674984097480774, 0.10735125094652176, 0.1050671860575676, 0.06928343325853348, 0.0738515704870224, 0.0639539361000061, 0.085271917283535, 0.0738515704870224, 0.10735125094652176, 0.1154114156961441, 0.09111427515745163, 0.0789657011628151, 0.08503998816013336, 0.10326284170150757, 0.16400569677352905, 0.10326284170150757, 0.10326284170150757, 0.0789657011628151, 0.0789657011628151, 0.3234245777130127, 0.07033051550388336, 0.11188945174217224, 0.10869261622428894, 0.07352735847234726, 0.09270840883255005, 0.15025155246257782, 0.08631472289562225, 0.10869261622428894, 0.09270840883255005, 0.10869261622428894, 0.26648253202438354, 0.10576421767473221, 0.14422394335269928, 0.09614928811788559, 0.09202861040830612, 0.10576421767473221, 0.11263202875852585, 0.11263202875852585, 0.07691943645477295, 0.07417231053113937, 0.07829299569129944, 0.4388178884983063, 0.3234088718891144, 0.10248556733131409, 0.0758393183350563, 0.1229826807975769, 0.11068441718816757, 0.1516786366701126, 0.11068441718816757, 0.0655907616019249, 0.1127341240644455, 0.07788903266191483, 0.07173989713191986, 0.08036374300718307, 0.11374560743570328, 0.17803660035133362, 0.09272739291191101, 0.08407284319400787, 0.08036374300718307, 0.10138195008039474, 0.08036374300718307, 0.08160010725259781, 0.11003650724887848, 0.05294924974441528, 0.10589849948883057, 0.21179699897766113, 0.10589849948883057, 0.05294924974441528, 0.15884774923324585, 0.10589849948883057, 0.10589849948883057, 0.05294924974441528, 0.10589849948883057, 0.09321022033691406, 0.10138655453920364, 0.11937449127435684, 0.08012808114290237, 0.08339861780405045, 0.14063295722007751, 0.08830441534519196, 0.10629235208034515, 0.08176334947347641, 0.10629235208034515, 0.10186513513326645, 0.12315038591623306, 0.09578362852334976, 0.08666138350963593, 0.08666138350963593, 0.09578362852334976, 0.10642625391483307, 0.11858925968408585, 0.0988243818283081, 0.08666138350963593, 0.2670987546443939, 0.07503437250852585, 0.10719195753335953, 0.07503437250852585, 0.11791115254163742, 0.07503437250852585, 0.11791115254163742, 0.09647276252508163, 0.08575356751680374, 0.09647276252508163, 0.1607879400253296, 0.12490604817867279, 0.1236569881439209, 0.09742671996355057, 0.12865322828292847, 0.08993235230445862, 0.0936795324087143, 0.08493611216545105, 0.08743423223495483, 0.09867577999830246, 0.06994738429784775, 0.3231223523616791, 0.09569963812828064, 0.07635609060525894, 0.09875388443470001, 0.07431992888450623, 0.11911550909280777, 0.09060923010110855, 0.12929631769657135, 0.09162731468677521, 0.12624207139015198, 0.0967177227139473, 0.2667573392391205, 0.2667573392391205, 0.3239152133464813, 0.3239152133464813, 0.12483260035514832, 0.07884164154529572, 0.0919819176197052, 0.09855205565690994, 0.11169233173131943, 0.07884164154529572, 0.07227151095867157, 0.15111315250396729, 0.07884164154529572, 0.10512219369411469, 0.32343459129333496, 0.32343459129333496, 0.0948340967297554, 0.07659677416086197, 0.10942395776510239, 0.0948340967297554, 0.17507833242416382, 0.1021290272474289, 0.0948340967297554, 0.09118663519620895, 0.06930184364318848, 0.09118663519620895, 0.0906757339835167, 0.12019806355237961, 0.1033281609416008, 0.09700194746255875, 0.11387185007333755, 0.06747961789369583, 0.14761166274547577, 0.08645825833082199, 0.07591456919908524, 0.0991106852889061, 0.09650598466396332, 0.13476574420928955, 0.10278743505477905, 0.1056426465511322, 0.0696670413017273, 0.09307973831892014, 0.06281454861164093, 0.14732865989208221, 0.11706347018480301, 0.0696670413017273, 0.1236177310347557, 0.07972447574138641, 0.09943164885044098, 0.07255823165178299, 0.11645148694515228, 0.08868228644132614, 0.10211899131536484, 0.10570211708545685, 0.10301477462053299, 0.10928523540496826, 0.06834409385919571, 0.09218505769968033, 0.1001320481300354, 0.07946988195180893, 0.13350939750671387, 0.10807903856039047, 0.09536385536193848, 0.10966843366622925, 0.12397301197052002, 0.09059566259384155, 0.10324976593255997, 0.10822565853595734, 0.10698168724775314, 0.0970299020409584, 0.1306171715259552, 0.11568949371576309, 0.07215043902397156, 0.07961427420377731, 0.10573770850896835, 0.08334619551897049, 0.10000773519277573, 0.10000773519277573, 0.20001547038555145, 0.10000773519277573, 0.10000773519277573, 0.10000773519277573, 0.10000773519277573, 0.10000773519277573, 0.10000773519277573, 0.3238244950771332, 0.3238244950771332, 0.3238244950771332, 0.1700676679611206, 0.1700676679611206, 0.1700676679611206, 0.1700676679611206, 0.09663775563240051, 0.09428073465824127, 0.0730675682425499, 0.1013517901301384, 0.1414210945367813, 0.09428073465824127, 0.08956670016050339, 0.12727899849414825, 0.09663775563240051, 0.0848526582121849, 0.19129301607608795, 0.19129301607608795, 0.19129301607608795, 0.19129301607608795, 0.11541112512350082, 0.07445879280567169, 0.08190467208623886, 0.11913406848907471, 0.07818172872066498, 0.10796524584293365, 0.07818172872066498, 0.13774876296520233, 0.08935055136680603, 0.11913406848907471, 0.32377320528030396, 0.32368311285972595, 0.32368311285972595, 0.12006408721208572, 0.06777811795473099, 0.11812756955623627, 0.07358767092227936, 0.15104837715625763, 0.08714329451322556, 0.129746675491333, 0.06777811795473099, 0.09101632982492447, 0.09101632982492447, 0.11250746995210648, 0.11250746995210648, 0.12750846147537231, 0.09000597894191742, 0.0825054794549942, 0.1650109589099884, 0.09750647842884064, 0.0825054794549942, 0.06750448048114777, 0.07500497996807098, 0.08140122890472412, 0.08140122890472412, 0.08140122890472412, 0.08140122890472412, 0.16280245780944824, 0.08140122890472412, 0.08140122890472412, 0.08140122890472412, 0.08140122890472412, 0.08140122890472412, 0.19115974009037018, 0.19115974009037018, 0.19115974009037018, 0.19115974009037018, 0.3236408829689026, 0.32312437891960144, 0.19141419231891632, 0.19141419231891632, 0.09611622244119644, 0.09285803884267807, 0.1140361949801445, 0.0895998626947403, 0.0879707783460617, 0.09285803884267807, 0.14173069596290588, 0.11566527932882309, 0.0879707783460617, 0.07982533425092697, 0.2778584659099579, 0.12563034892082214, 0.11036036908626556, 0.14714714884757996, 0.10480764508247375, 0.10203128308057785, 0.07773812115192413, 0.11036036908626556, 0.07218539714813232, 0.07010312378406525, 0.07982038706541061, 0.09820039570331573, 0.14056134223937988, 0.11360437422990799, 0.07316891849040985, 0.10975337773561478, 0.11360437422990799, 0.08279640972614288, 0.0885729044675827, 0.07894541323184967, 0.09820039570331573, 0.32367363572120667, 0.10329873859882355, 0.2065974771976471, 0.10329873859882355, 0.2065974771976471, 0.10329873859882355, 0.10329873859882355, 0.10329873859882355, 0.10329873859882355, 0.10329873859882355, 0.10329873859882355, 0.3239114284515381, 0.3239114284515381, 0.3231137990951538, 0.19133998453617096, 0.19133998453617096, 0.19133998453617096, 0.19133998453617096, 0.1266968697309494, 0.08668732643127441, 0.10002384334802628, 0.10669209808111191, 0.15336988866329193, 0.08001907169818878, 0.11336035281419754, 0.08001907169818878, 0.08001907169818878, 0.08001907169818878, 0.3234630525112152, 0.3234630525112152, 0.10808081924915314, 0.0967700332403183, 0.08168899267911911, 0.08671600371599197, 0.113107830286026, 0.10682406276464462, 0.10431055724620819, 0.08545924723148346, 0.1445266753435135, 0.07163496315479279, 0.1316177099943161, 0.09871327877044678, 0.08461137861013412, 0.08931201696395874, 0.11281517893075943, 0.09871327877044678, 0.09871327877044678, 0.07050948590040207, 0.07521011680364609, 0.14101897180080414, 0.1160440742969513, 0.06694850325584412, 0.11381246149539948, 0.104885995388031, 0.1316653937101364, 0.104885995388031, 0.10934922844171524, 0.08480144292116165, 0.08182594925165176, 0.086289182305336, 0.0976308062672615, 0.06928637623786926, 0.11022832989692688, 0.1039295643568039, 0.08503328263759613, 0.1007801815867424, 0.07873451709747314, 0.09133204072713852, 0.1511702835559845, 0.10707894712686539, 0.09247688204050064, 0.0982566848397255, 0.0982566848397255, 0.0982566848397255, 0.07513746619224548, 0.1098162904381752, 0.09247688204050064, 0.1098162904381752, 0.08669707179069519, 0.1444951295852661, 0.3235032856464386, 0.3235032856464386, 0.0763171911239624, 0.07349062711000443, 0.08762343972921371, 0.11023593693971634, 0.10458281636238098, 0.09892968833446503, 0.11306250095367432, 0.13567499816417694, 0.08197031170129776, 0.12154218554496765, 0.10758921504020691, 0.09128781408071518, 0.10269879549741745, 0.08313711732625961, 0.09454809874296188, 0.14508242905139923, 0.11900018900632858, 0.06683572381734848, 0.11247963458299637, 0.0766165629029274, 0.14926950633525848, 0.0708397626876831, 0.12143959105014801, 0.0809597298502922, 0.12902957201004028, 0.08348972350358963, 0.09613967686891556, 0.08601970970630646, 0.08601970970630646, 0.09613967686891556, 0.12196331471204758, 0.11055154353380203, 0.08844123780727386, 0.13194862008094788, 0.10127948224544525, 0.0863015279173851, 0.0962868258357048, 0.11055154353380203, 0.08986771106719971, 0.06276474893093109, 0.11575797945261002, 0.09180805087089539, 0.09180805087089539, 0.1237412840127945, 0.08382474631071091, 0.07983309030532837, 0.10777466744184494, 0.07983309030532837, 0.08781639486551285, 0.13970790803432465, 0.08105134218931198, 0.08105134218931198, 0.20262835919857025, 0.08105134218931198, 0.08105134218931198, 0.08105134218931198, 0.08105134218931198, 0.08105134218931198, 0.12157701700925827, 0.08105134218931198, 0.32369109988212585, 0.32369109988212585, 0.3231715261936188, 0.3231715261936188, 0.438891738653183, 0.3229670524597168, 0.3229670524597168, 0.26680290699005127, 0.26680290699005127, 0.26680290699005127, 0.11918899416923523, 0.08380475640296936, 0.1080150231719017, 0.08566708862781525, 0.10242804139852524, 0.08008010685443878, 0.10429036617279053, 0.08008010685443878, 0.11173968017101288, 0.1247759759426117, 0.20338796079158783, 0.20338796079158783, 0.20338796079158783, 0.4392645061016083, 0.32353636622428894, 0.32353636622428894, 0.3236358165740967, 0.32371607422828674, 0.32371607422828674, 0.11056806892156601, 0.11313941329717636, 0.07714051008224487, 0.11313941329717636, 0.09771131724119186, 0.08571168035268784, 0.09685419499874115, 0.07456915825605392, 0.09599708020687103, 0.1354244500398636, 0.11979130655527115, 0.09383652359247208, 0.13975653052330017, 0.07786434888839722, 0.1257808804512024, 0.1018226146697998, 0.09782956540584564, 0.08784695714712143, 0.07387130707502365, 0.08185739070177078, 0.1076735109090805, 0.1635042130947113, 0.08773396909236908, 0.09172187745571136, 0.12362513691186905, 0.06779443472623825, 0.09570978581905365, 0.0837460607290268, 0.10368560254573822, 0.07577024400234222, 0.09385497123003006, 0.09385497123003006, 0.18770994246006012, 0.09385497123003006, 0.09385497123003006, 0.09385497123003006, 0.09385497123003006, 0.09385497123003006, 0.09385497123003006, 0.09385497123003006, 0.0974539965391159, 0.11608490347862244, 0.09315455704927444, 0.1254003643989563, 0.0924379825592041, 0.11178546398878098, 0.07738994061946869, 0.07452364265918732, 0.11321861296892166, 0.098887138068676, 0.1188858225941658, 0.09711799770593643, 0.10214134305715561, 0.09544354677200317, 0.050233446061611176, 0.05525679141283035, 0.13981641829013824, 0.12056026607751846, 0.1105135828256607, 0.10967635363340378, 0.32401326298713684, 0.32401326298713684, 0.3234490752220154, 0.3233608603477478, 0.3233608603477478, 0.22665058076381683, 0.22665058076381683, 0.22685785591602325, 0.22685785591602325, 0.22685785591602325, 0.32327765226364136, 0.0867936983704567, 0.08438275754451752, 0.09643743932247162, 0.09643743932247162, 0.07232807576656342, 0.17599833011627197, 0.08920463174581528, 0.1109030544757843, 0.0867936983704567, 0.09643743932247162, 0.32373353838920593, 0.10003118216991425, 0.08752728998661041, 0.08752728998661041, 0.17505457997322083, 0.1250389814376831, 0.08752728998661041, 0.06251949071884155, 0.07502339035272598, 0.10003118216991425, 0.11253508180379868, 0.11144649237394333, 0.11144649237394333, 0.09658696502447128, 0.07429766654968262, 0.07429766654968262, 0.11144649237394333, 0.1040167286992073, 0.08172743022441864, 0.08172743022441864, 0.14859533309936523, 0.17003673315048218, 0.17003673315048218, 0.17003673315048218, 0.17003673315048218, 0.09378073364496231, 0.179035946726799, 0.07672969251871109, 0.07672969251871109, 0.11083177477121353, 0.05967864766716957, 0.12788280844688416, 0.0852552130818367, 0.11083177477121353, 0.0852552130818367, 0.26637545228004456, 0.16200938820838928, 0.0885205939412117, 0.08518019318580627, 0.0751589983701706, 0.12359479814767838, 0.09353119879961014, 0.09186099469661713, 0.10689279437065125, 0.07682919502258301, 0.09687159955501556, 0.11460163444280624, 0.10901130735874176, 0.1020234078168869, 0.08944517374038696, 0.08105969429016113, 0.09643308073282242, 0.08105969429016113, 0.12019195407629013, 0.10342098772525787, 0.10342098772525787, 0.3233640193939209, 0.10705143958330154, 0.10705143958330154, 0.10705143958330154, 0.10705143958330154, 0.10705143958330154, 0.10705143958330154, 0.10705143958330154, 0.2141028791666031, 0.10705143958330154, 0.1046966165304184, 0.10349320620298386, 0.09988298267126083, 0.10108638554811478, 0.15042617917060852, 0.08905229717493057, 0.11432389169931412, 0.07461138069629669, 0.09747616201639175, 0.06378069519996643, 0.3229463994503021, 0.34047380089759827, 0.2263597548007965, 0.2263597548007965, 0.09527748823165894, 0.09527748823165894, 0.09527748823165894, 0.09527748823165894, 0.09527748823165894, 0.09527748823165894, 0.09527748823165894, 0.09527748823165894, 0.19055497646331787, 0.09527748823165894, 0.32351306080818176, 0.32351306080818176, 0.3237878978252411, 0.3237878978252411, 0.32281583547592163, 0.26580414175987244, 0.26580414175987244, 0.6178925633430481, 0.27782171964645386, 0.11812417209148407, 0.1321125626564026, 0.06683341413736343, 0.07305047661066055, 0.09481019526720047, 0.11501564085483551, 0.13522109389305115, 0.06838767975568771, 0.10413578152656555, 0.09014739841222763, 0.10314896702766418, 0.1319347321987152, 0.07276400178670883, 0.08635727316141129, 0.1175418496131897, 0.11434343457221985, 0.07596241682767868, 0.1007501557469368, 0.07596241682767868, 0.12074026465415955, 0.2665059566497803, 0.2665059566497803, 0.32315218448638916, 0.1973499059677124, 0.1973499059677124, 0.1973499059677124, 0.08203380554914474, 0.11004534363746643, 0.10804452002048492, 0.15606430172920227, 0.0680280327796936, 0.15606430172920227, 0.08003297448158264, 0.0680280327796936, 0.07202968001365662, 0.0980403944849968, 0.125554621219635, 0.08602816611528397, 0.08370307832956314, 0.13950513303279877, 0.0534769669175148, 0.06742747873067856, 0.07672782242298126, 0.14880546927452087, 0.125554621219635, 0.09532850980758667, 0.0765581727027893, 0.0765581727027893, 0.0765581727027893, 0.0765581727027893, 0.0765581727027893, 0.11483725905418396, 0.11483725905418396, 0.11483725905418396, 0.19139543175697327, 0.0765581727027893, 0.13829748332500458, 0.11965063214302063, 0.09789597243070602, 0.10411158949136734, 0.09944987297058105, 0.09168035537004471, 0.0808030217885971, 0.06215617060661316, 0.09012644737958908, 0.11654282361268997, 0.1429586112499237, 0.07458709925413132, 0.10566505789756775, 0.0932338759303093, 0.08701828122138977, 0.09944947063922882, 0.08080269396305084, 0.08080269396305084, 0.0932338759303093, 0.1429586112499237, 0.2269030064344406, 0.2269030064344406, 0.15670068562030792, 0.15670068562030792, 0.15670068562030792, 0.15670068562030792, 0.15670068562030792, 0.15670068562030792, 0.15670068562030792, 0.15670068562030792, 0.09489073604345322, 0.17923805117607117, 0.08434731513261795, 0.0764397606253624, 0.12124927341938019, 0.06326048821210861, 0.10279829055070877, 0.0922548770904541, 0.11597756296396255, 0.07116805016994476, 0.10883654654026031, 0.10883654654026031, 0.10883654654026031, 0.10883654654026031, 0.10883654654026031, 0.10883654654026031, 0.21767309308052063, 0.10883654654026031, 0.10883654654026031, 0.3229769170284271, 0.4387987554073334, 0.3054211139678955, 0.15271055698394775, 0.15271055698394775, 0.15271055698394775, 0.15271055698394775, 0.1383046656847, 0.13304993510246277, 0.10761700570583344, 0.08975090086460114, 0.07083385437726974, 0.08071275800466537, 0.08869995921850204, 0.09605658799409866, 0.10089094191789627, 0.09437507390975952, 0.15276290476322174, 0.15276290476322174, 0.15276290476322174, 0.15276290476322174, 0.15276290476322174, 0.15276290476322174, 0.15276290476322174, 0.15276290476322174, 0.0810178890824318, 0.08806292712688446, 0.11448180675506592, 0.1637970358133316, 0.11448180675506592, 0.0722116008400917, 0.0810178890824318, 0.0722116008400917, 0.10567551106214523, 0.10743676871061325, 0.08721297979354858, 0.08500505238771439, 0.10929220914840698, 0.10377240180969238, 0.07396543771028519, 0.11922787129878998, 0.08831693977117538, 0.07727732509374619, 0.12364371865987778, 0.13137145340442657, 0.20451140403747559, 0.1533835530281067, 0.10225570201873779, 0.051127851009368896, 0.051127851009368896, 0.10225570201873779, 0.10225570201873779, 0.10225570201873779, 0.10225570201873779, 0.10225570201873779, 0.32313138246536255, 0.32313138246536255, 0.12918345630168915, 0.12123370170593262, 0.09340956807136536, 0.05962312966585159, 0.08744725584983826, 0.09539701044559479, 0.11129651218652725, 0.07751006633043289, 0.12918345630168915, 0.09340956807136536, 0.11521363258361816, 0.10997664928436279, 0.11371735483407974, 0.1399022787809372, 0.09052500128746033, 0.11371735483407974, 0.08005103468894958, 0.07705847173929214, 0.07256963104009628, 0.08753243833780289, 0.19132141768932343, 0.19132141768932343, 0.19132141768932343, 0.19132141768932343, 0.19132141768932343, 0.32333487272262573, 0.32333487272262573, 0.14522932469844818, 0.08043470233678818, 0.08713759481906891, 0.08043470233678818, 0.10277767479419708, 0.11841775476932526, 0.09830907732248306, 0.1273549497127533, 0.08937188982963562, 0.07149751484394073, 0.1914442777633667, 0.1914442777633667, 0.1914442777633667, 0.1914442777633667, 0.12976089119911194, 0.12976089119911194, 0.12976089119911194, 0.12976089119911194, 0.12976089119911194, 0.12976089119911194, 0.12976089119911194, 0.12976089119911194, 0.2666155993938446, 0.2666155993938446, 0.2666155993938446, 0.32344093918800354, 0.32344093918800354, 0.09323371946811676, 0.08022436499595642, 0.09540195018053055, 0.13443002104759216, 0.09757017344236374, 0.10407485067844391, 0.11708421260118484, 0.06071032956242561, 0.12142065912485123, 0.09757017344236374, 0.13874441385269165, 0.13874441385269165, 0.13874441385269165, 0.13874441385269165, 0.2774888277053833, 0.13874441385269165, 0.13874441385269165, 0.08833267539739609, 0.13039584457874298, 0.08412635326385498, 0.08622951805591583, 0.07781688123941422, 0.10726110637187958, 0.10936426371335983, 0.08833267539739609, 0.13039584457874298, 0.09884846955537796, 0.09932953864336014, 0.19865907728672028, 0.09105207771062851, 0.08277461677789688, 0.07449715584516525, 0.08277461677789688, 0.1158844605088234, 0.07449715584516525, 0.09105207771062851, 0.08277461677789688, 0.08276456594467163, 0.10641159117221832, 0.13005860149860382, 0.07094106078147888, 0.10641159117221832, 0.09458807855844498, 0.07094106078147888, 0.09458807855844498, 0.09458807855844498, 0.1537056267261505, 0.10515309870243073, 0.10515309870243073, 0.09989544004201889, 0.09463778883218765, 0.06309185922145844, 0.08412247896194458, 0.07360716909170151, 0.15247198939323425, 0.11041074991226196, 0.11041074991226196, 0.3233130872249603, 0.12827607989311218, 0.09936878830194473, 0.09756208211183548, 0.0542011559009552, 0.13279283046722412, 0.0984654352068901, 0.11562913656234741, 0.06504138559103012, 0.11562913656234741, 0.09304532408714294, 0.32371366024017334, 0.32371366024017334, 0.32371366024017334, 0.12048713862895966, 0.10096687823534012, 0.0807735025882721, 0.08324158191680908, 0.08526092022657394, 0.06955496221780777, 0.08458780497312546, 0.12519893050193787, 0.1357443630695343, 0.1142047569155693, 0.1243097111582756, 0.10266874730587006, 0.1056884229183197, 0.08807368576526642, 0.1620555818080902, 0.08002123236656189, 0.07800812274217606, 0.07398189604282379, 0.10619169473648071, 0.08002123236656189, 0.22652143239974976, 0.22652143239974976, 0.22652143239974976, 0.08943413197994232, 0.09452388435602188, 0.09525098651647568, 0.13984687626361847, 0.09815941751003265, 0.12797079980373383, 0.0877375528216362, 0.11948788166046143, 0.06980225443840027, 0.07780042290687561, 0.22676365077495575, 0.22676365077495575, 0.22655226290225983, 0.22655226290225983, 0.3231127858161926, 0.3231552541255951, 0.04711713269352913, 0.08376379311084747, 0.1256456822156906, 0.11255759745836258, 0.08638141304254532, 0.08899902552366257, 0.11779282987117767, 0.1020871177315712, 0.136116161942482, 0.1020871177315712, 0.3235069811344147, 0.11077901721000671, 0.11077901721000671, 0.22155803442001343, 0.11077901721000671, 0.11077901721000671, 0.11077901721000671, 0.11077901721000671, 0.11077901721000671, 0.11077901721000671, 0.11077901721000671, 0.10092711448669434, 0.10092711448669434, 0.10092711448669434, 0.10092711448669434, 0.10092711448669434, 0.07569533586502075, 0.10092711448669434, 0.07569533586502075, 0.1766224503517151, 0.07569533586502075, 0.09771088510751724, 0.09771088510751724, 0.13570956885814667, 0.06514059007167816, 0.081425741314888, 0.15742309391498566, 0.0922825038433075, 0.0922825038433075, 0.0922825038433075, 0.08685412257909775, 0.10281573235988617, 0.12337888032197952, 0.10510052740573883, 0.054835058748722076, 0.0891069695353508, 0.13480284810066223, 0.10510052740573883, 0.10967011749744415, 0.09367655962705612, 0.08225258439779282, 0.2666812539100647, 0.2666812539100647, 0.3232728838920593, 0.10772720724344254, 0.13985636830329895, 0.10205735266208649, 0.10205735266208649, 0.08693774789571762, 0.0888276919722557, 0.07181813567876816, 0.1549759805202484, 0.08315784484148026, 0.06425832957029343, 0.08598402142524719, 0.08598402142524719, 0.08598402142524719, 0.08598402142524719, 0.08598402142524719, 0.08598402142524719, 0.2579520642757416, 0.08598402142524719, 0.17196804285049438, 0.08598402142524719, 0.09821731597185135, 0.07510735839605331, 0.09821731597185135, 0.16176968812942505, 0.0693298727273941, 0.12132727354764938, 0.08666233718395233, 0.08666233718395233, 0.0693298727273941, 0.1328822523355484, 0.27798885107040405, 0.27798885107040405, 0.1238349974155426, 0.09416619688272476, 0.11351541429758072, 0.08126671612262726, 0.0864265114068985, 0.10706567764282227, 0.11996515840291977, 0.07739687711000443, 0.09545614570379257, 0.10319583117961884, 0.07449906319379807, 0.10476431250572205, 0.09545192867517471, 0.1373576521873474, 0.09079574048519135, 0.10709241032600403, 0.08613954484462738, 0.08846764266490936, 0.11640479415655136, 0.0977800264954567, 0.08300663530826569, 0.09277212619781494, 0.1538064181804657, 0.12206858396530151, 0.12206858396530151, 0.07324115186929703, 0.0854480043053627, 0.09765486419200897, 0.08056526631116867, 0.0854480043053627, 0.11342664062976837, 0.06894560158252716, 0.10230638086795807, 0.09785827994346619, 0.08673802018165588, 0.06227345019578934, 0.11120259016752243, 0.1200987920165062, 0.08451396971940994, 0.14901146292686462, 0.32369789481163025, 0.32369789481163025, 0.3233187198638916, 0.3236519992351532, 0.43869224190711975, 0.32407379150390625, 0.32407379150390625, 0.09244361519813538, 0.12017669528722763, 0.103999063372612, 0.08319925516843796, 0.09937688708305359, 0.09013251960277557, 0.09244361519813538, 0.07395488768815994, 0.11093233525753021, 0.13173215091228485, 0.12740224599838257, 0.12740224599838257, 0.12740224599838257, 0.25480449199676514, 0.12740224599838257, 0.12740224599838257, 0.12740224599838257, 0.12740224599838257, 0.17007456719875336, 0.17007456719875336, 0.17007456719875336, 0.17007456719875336, 0.17007456719875336, 0.17007456719875336, 0.17007456719875336, 0.22656980156898499, 0.22656980156898499, 0.22656980156898499, 0.323596328496933, 0.07658182829618454, 0.09140411764383316, 0.12598945200443268, 0.09634488075971603, 0.11116717010736465, 0.06422992050647736, 0.1284598410129547, 0.08152259141206741, 0.15069326758384705, 0.0741114467382431, 0.3405183255672455, 0.2781699299812317, 0.2781699299812317, 0.3238588273525238, 0.3238588273525238, 0.11801651865243912, 0.10747932642698288, 0.10537189245223999, 0.09904957562685013, 0.14541320502758026, 0.07586775720119476, 0.10537189245223999, 0.06111569702625275, 0.09061982482671738, 0.09272725880146027, 0.19712089002132416, 0.19712089002132416, 0.19712089002132416, 0.6179114580154419, 0.19142061471939087, 0.19142061471939087, 0.19142061471939087, 0.19142061471939087, 0.19142061471939087, 0.32368341088294983, 0.09592589735984802, 0.09592589735984802, 0.09592589735984802, 0.09592589735984802, 0.09592589735984802, 0.19185179471969604, 0.09592589735984802, 0.09592589735984802, 0.09592589735984802, 0.04796294867992401, 0.26675140857696533, 0.26675140857696533, 0.3232775926589966, 0.0904737114906311, 0.08595002442598343, 0.14928162097930908, 0.10404477268457413, 0.10404477268457413, 0.11309213936328888, 0.07690265774726868, 0.08142634481191635, 0.09952108561992645, 0.09499739855527878, 0.10046285390853882, 0.10386837273836136, 0.11323355883359909, 0.10386837273836136, 0.10897665470838547, 0.08684077113866806, 0.09280043095350266, 0.09876009821891785, 0.09365181624889374, 0.09620595723390579, 0.3241357207298279, 0.3241357207298279, 0.07996027916669846, 0.10661371052265167, 0.06929890811443329, 0.10661371052265167, 0.12260576337575912, 0.11194439232349396, 0.06929890811443329, 0.07996027916669846, 0.14925919473171234, 0.11194439232349396, 0.10375887155532837, 0.09387707710266113, 0.14822696149349213, 0.09881797432899475, 0.07905437797307968, 0.09881797432899475, 0.10375887155532837, 0.10375887155532837, 0.09387707710266113, 0.07411348074674606, 0.26644396781921387, 0.34020817279815674, 0.0975981131196022, 0.1262044459581375, 0.0774054005742073, 0.0774054005742073, 0.0975981131196022, 0.12788717448711395, 0.0891844779253006, 0.11105991899967194, 0.10264629125595093, 0.09423265606164932, 0.12717579305171967, 0.12717579305171967, 0.12717579305171967, 0.12717579305171967, 0.25435158610343933, 0.12717579305171967, 0.12717579305171967, 0.12717579305171967, 0.12717579305171967, 0.0894487276673317, 0.0972529798746109, 0.1326722651720047, 0.08734758198261261, 0.11346180737018585, 0.09695281088352203, 0.09845363348722458, 0.08134431391954422, 0.08164447546005249, 0.12096589058637619, 0.17011667788028717, 0.17011667788028717, 0.17011667788028717, 0.17011667788028717, 0.17011667788028717, 0.17011667788028717, 0.10954077541828156, 0.11949902772903442, 0.10157417505979538, 0.07169941812753677, 0.0955992266535759, 0.13344058394432068, 0.10754912346601486, 0.097590871155262, 0.07767436653375626, 0.08564097434282303, 0.0976385548710823, 0.09180938452482224, 0.1136687621474266, 0.06266354769468307, 0.11585470288991928, 0.10201042890548706, 0.12532709538936615, 0.09399532526731491, 0.1136687621474266, 0.08379428088665009, 0.3232676386833191, 0.13252900540828705, 0.0865495577454567, 0.10412993282079697, 0.08114020526409149, 0.07978787273168564, 0.10818694531917572, 0.1284720003604889, 0.08519721776247025, 0.10142526030540466, 0.0919589027762413, 0.13729296624660492, 0.07191536575555801, 0.07845312356948853, 0.10460416227579117, 0.15690624713897705, 0.09152864664793015, 0.1242174431681633, 0.07191536575555801, 0.09806640446186066, 0.0653776004910469, 0.1259833127260208, 0.0903276652097702, 0.10577844828367233, 0.10458992421627045, 0.0820080116391182, 0.10340140759944916, 0.09389322996139526, 0.12004070729017258, 0.08913914114236832, 0.08795061707496643, 0.05933871120214462, 0.11039759963750839, 0.11453750729560852, 0.11039759963750839, 0.08831807971000671, 0.06761852651834488, 0.15179669857025146, 0.10625769197940826, 0.10901762545108795, 0.0814182311296463, 0.10110878199338913, 0.08762761205434799, 0.11234309524297714, 0.08762761205434799, 0.15278661251068115, 0.058418408036231995, 0.09212134033441544, 0.11683681607246399, 0.08313389122486115, 0.11009623110294342, 0.10075866430997849, 0.10075866430997849, 0.09300800412893295, 0.1033422201871872, 0.09688333421945572, 0.09688333421945572, 0.14855444431304932, 0.08396555483341217, 0.08396555483341217, 0.0917162224650383, 0.0931968167424202, 0.14546260237693787, 0.09445623308420181, 0.13664668798446655, 0.0780838206410408, 0.14420318603515625, 0.08501061052083969, 0.0465984083712101, 0.07241644710302353, 0.10453156381845474, 0.11618508398532867, 0.15632174909114838, 0.11618508398532867, 0.10351034998893738, 0.11829753965139389, 0.0929480642080307, 0.05492385849356651, 0.07182350754737854, 0.06971105188131332, 0.10139788687229156, 0.27837416529655457, 0.27837416529655457, 0.32311028242111206, 0.12967567145824432, 0.25935134291648865, 0.12967567145824432, 0.12967567145824432, 0.12967567145824432, 0.12967567145824432, 0.19132424890995026, 0.19132424890995026, 0.19132424890995026, 0.19132424890995026, 0.19132424890995026, 0.06998658925294876, 0.08331736922264099, 0.10331353545188904, 0.09331545233726501, 0.07331927865743637, 0.09998083859682083, 0.11331161856651306, 0.11997700482606888, 0.10331353545188904, 0.13997317850589752, 0.09243452548980713, 0.09243452548980713, 0.09243452548980713, 0.09243452548980713, 0.09243452548980713, 0.09243452548980713, 0.09243452548980713, 0.09243452548980713, 0.09243452548980713, 0.18486905097961426, 0.2665911614894867, 0.2665911614894867, 0.26691144704818726, 0.5338228940963745, 0.09851303696632385, 0.09851303696632385, 0.09851303696632385, 0.09851303696632385, 0.09851303696632385, 0.09851303696632385, 0.09851303696632385, 0.09851303696632385, 0.1970260739326477, 0.09851303696632385, 0.2664269506931305, 0.2664269506931305, 0.2664269506931305, 0.2664269506931305, 0.11843528598546982, 0.09587617963552475, 0.10856567323207855, 0.08318668603897095, 0.09587617963552475, 0.13535460829734802, 0.08459663391113281, 0.10292589664459229, 0.10292589664459229, 0.07049719244241714, 0.1456281691789627, 0.0816938504576683, 0.09767743200063705, 0.09057361632585526, 0.08702170848846436, 0.120764821767807, 0.08702170848846436, 0.09057361632585526, 0.11188505589962006, 0.08702170848846436, 0.2266906052827835, 0.2266906052827835, 0.2266906052827835, 0.4397798478603363, 0.0812971219420433, 0.13158400356769562, 0.09135449677705765, 0.10392621904611588, 0.09303072839975357, 0.07626843452453613, 0.09805941581726074, 0.11565982550382614, 0.10644055902957916, 0.10224998742341995, 0.32373857498168945, 0.22665351629257202, 0.08558603376150131, 0.17775560915470123, 0.08558603376150131, 0.10533665865659714, 0.09216957539319992, 0.08558603376150131, 0.08558603376150131, 0.09216957539319992, 0.08558603376150131, 0.10533665865659714, 0.10694385319948196, 0.08987834304571152, 0.08418984711170197, 0.15245187282562256, 0.0978422537446022, 0.0978422537446022, 0.09101604670286179, 0.07281284034252167, 0.10239305347204208, 0.10580615699291229, 0.08571594953536987, 0.09387937188148499, 0.08571594953536987, 0.1387782096862793, 0.05714396759867668, 0.1020428016781807, 0.12653307616710663, 0.10612451285123825, 0.06938910484313965, 0.1387782096862793, 0.43886399269104004, 0.08724044263362885, 0.08724044263362885, 0.08724044263362885, 0.1744808852672577, 0.08724044263362885, 0.08724044263362885, 0.1744808852672577, 0.08724044263362885, 0.08724044263362885, 0.43923959136009216, 0.08761290460824966, 0.1038375198841095, 0.10221505910158157, 0.10545998066663742, 0.07950060069561005, 0.11357229202985764, 0.07463321834802628, 0.1184396743774414, 0.11519475281238556, 0.0973476767539978, 0.07960599660873413, 0.12611736357212067, 0.1386396586894989, 0.08855049312114716, 0.08050044625997543, 0.08676159381866455, 0.08944494277238846, 0.11270062625408173, 0.08318379521369934, 0.11448952555656433, 0.13320215046405792, 0.10774573683738708, 0.12550602853298187, 0.10715372860431671, 0.08169731497764587, 0.07932927459478378, 0.1030096560716629, 0.10241764783859253, 0.07400119304656982, 0.08643338829278946, 0.1126939207315445, 0.10737816989421844, 0.08398886024951935, 0.10525186359882355, 0.1211991161108017, 0.10737816989421844, 0.06272585690021515, 0.08611516654491425, 0.12013597041368484, 0.0935572162270546, 0.2779518961906433, 0.2779518961906433, 0.43922388553619385, 0.22310400009155273, 0.11155200004577637, 0.055776000022888184, 0.055776000022888184, 0.11155200004577637, 0.055776000022888184, 0.11155200004577637, 0.055776000022888184, 0.055776000022888184, 0.16732800006866455, 0.4387982487678528, 0.1518634557723999, 0.08737349510192871, 0.09569478034973145, 0.11857831478118896, 0.09985542297363281, 0.08113253116607666, 0.09361445903778076, 0.10817670822143555, 0.11025702953338623, 0.05200803279876709, 0.08595987409353256, 0.08595987409353256, 0.08595987409353256, 0.08595987409353256, 0.08595987409353256, 0.08595987409353256, 0.08595987409353256, 0.08595987409353256, 0.17191974818706512, 0.08595987409353256, 0.32383814454078674, 0.32383814454078674, 0.12006679177284241, 0.07521425932645798, 0.08970507234334946, 0.10005566477775574, 0.11040624976158142, 0.09453535079956055, 0.11247636377811432, 0.1235169917345047, 0.09522538632154465, 0.07935448735952377, 0.16058877110481262, 0.0806303471326828, 0.10683520883321762, 0.11288248002529144, 0.1108667254447937, 0.06652003526687622, 0.10011601448059082, 0.09541257470846176, 0.09205297380685806, 0.073911152780056, 0.3232945501804352, 0.3238164186477661, 0.1338925063610077, 0.08607375621795654, 0.08989925682544708, 0.10520125925540924, 0.09563750773668289, 0.14919450879096985, 0.08416100591421127, 0.10520125925540924, 0.08798650652170181, 0.06503350287675858, 0.3054228723049164, 0.1527114361524582, 0.1527114361524582, 0.1527114361524582, 0.4392205476760864, 0.32392773032188416, 0.32392773032188416, 0.11462470889091492, 0.08023729175329208, 0.0974310040473938, 0.08596853166818619, 0.1031622365117073, 0.08023729175329208, 0.1031622365117073, 0.08023729175329208, 0.10889346897602081, 0.14328087866306305, 0.16033940017223358, 0.16033940017223358, 0.16033940017223358, 0.16033940017223358, 0.16033940017223358, 0.16033940017223358, 0.26660433411598206, 0.3238407373428345, 0.3238407373428345, 0.08966605365276337, 0.0918353945016861, 0.09617407619953156, 0.09762030094861984, 0.10774388909339905, 0.09472785145044327, 0.11135945469141006, 0.10485143214464188, 0.10846700519323349, 0.09762030094861984, 0.17011231184005737, 0.34022462368011475, 0.17011231184005737, 0.17011231184005737, 0.2265932410955429, 0.2265932410955429, 0.2265932410955429, 0.2265932410955429, 0.15279227495193481, 0.15279227495193481, 0.15279227495193481, 0.15279227495193481, 0.15279227495193481, 0.15279227495193481, 0.15279227495193481, 0.3237133026123047, 0.3237133026123047, 0.18405446410179138, 0.09687076508998871, 0.09687076508998871, 0.08718369156122208, 0.07749661803245544, 0.08718369156122208, 0.09687076508998871, 0.08718369156122208, 0.07749661803245544, 0.09687076508998871, 0.32323482632637024, 0.22661378979682922, 0.14818008244037628, 0.07081171870231628, 0.07736836373806, 0.13768945634365082, 0.11277422308921814, 0.09572695195674896, 0.09048163890838623, 0.09966094046831131, 0.07736836373806, 0.09048163890838623, 0.12150631099939346, 0.10286363959312439, 0.10396026819944382, 0.09299399703741074, 0.09409062564373016, 0.11602316796779633, 0.10527621954679489, 0.09562589973211288, 0.08487895131111145, 0.08290502429008484, 0.07157712429761887, 0.07953014224767685, 0.11134219169616699, 0.1033891811966896, 0.07157712429761887, 0.08748315274715424, 0.1590602844953537, 0.08748315274715424, 0.1033891811966896, 0.12724822759628296, 0.23513434827327728, 0.23513434827327728, 0.10006482154130936, 0.08442969620227814, 0.14384318888187408, 0.10944589972496033, 0.12508103251457214, 0.09693779796361923, 0.10944589972496033, 0.10319185256958008, 0.06254051625728607, 0.06879457086324692, 0.3237975537776947, 0.3237975537776947, 0.08486692607402802, 0.09699077159166336, 0.07274308055639267, 0.1091146245598793, 0.08486692607402802, 0.07274308055639267, 0.1091146245598793, 0.09699077159166336, 0.1091146245598793, 0.15761001408100128, 0.10935601592063904, 0.1233760192990303, 0.09253201633691788, 0.06449200958013535, 0.13459201157093048, 0.08972801268100739, 0.07570800930261612, 0.14580802619457245, 0.08972801268100739, 0.07570800930261612, 0.3234926760196686, 0.3232809007167816, 0.3400408625602722, 0.3233071267604828, 0.16346375644207, 0.07928481698036194, 0.11745899170637131, 0.086136594414711, 0.0802636444568634, 0.11745899170637131, 0.07439069449901581, 0.07341186702251434, 0.12724724411964417, 0.08124246448278427, 0.09959741681814194, 0.14081013202667236, 0.07555665820837021, 0.1362309455871582, 0.09387342631816864, 0.10646620392799377, 0.07326706498861313, 0.09959741681814194, 0.05609509348869324, 0.11905897408723831, 0.16568993031978607, 0.06822526454925537, 0.11695759743452072, 0.09259142726659775, 0.09259142726659775, 0.11695759743452072, 0.09259142726659775, 0.07797173410654068, 0.08284496515989304, 0.08771819621324539, 0.09702256321907043, 0.12675528228282928, 0.07511424273252487, 0.09232792258262634, 0.08763328194618225, 0.1142362430691719, 0.12988504767417908, 0.07980888336896896, 0.12832015752792358, 0.07041960209608078, 0.07781396806240082, 0.07182827591896057, 0.11971379816532135, 0.06584258377552032, 0.08379965275526047, 0.16161362826824188, 0.10774241387844086, 0.1137281060218811, 0.09577103704214096, 0.10175672173500061, 0.26633790135383606, 0.26633790135383606, 0.09430254250764847, 0.11787817627191544, 0.0707269087433815, 0.0707269087433815, 0.09430254250764847, 0.09430254250764847, 0.09430254250764847, 0.11787817627191544, 0.09430254250764847, 0.16502945125102997, 0.08859983831644058, 0.0749690979719162, 0.12949207425117493, 0.10223058611154556, 0.0749690979719162, 0.10223058611154556, 0.16356892883777618, 0.08178446441888809, 0.10904596000909805, 0.0749690979719162, 0.3405587673187256, 0.266510009765625, 0.266510009765625, 0.266510009765625, 0.266510009765625, 0.26666250824928284, 0.26666250824928284, 0.323593407869339, 0.323593407869339, 0.11148050427436829, 0.10219046473503113, 0.09754543751478195, 0.13315726816654205, 0.08361037820577621, 0.11922220140695572, 0.1238672286272049, 0.08980374038219452, 0.08670705556869507, 0.051095232367515564, 0.3234710693359375, 0.1149384006857872, 0.14166826009750366, 0.1487962156534195, 0.09800948947668076, 0.06058768182992935, 0.10513745248317719, 0.0962274968624115, 0.09088152647018433, 0.08909953385591507, 0.05524171143770218, 0.11469609290361404, 0.0924968495965004, 0.08139722794294357, 0.08509709686040878, 0.10359647125005722, 0.07769735157489777, 0.0924968495965004, 0.10729634016752243, 0.0961967185139656, 0.14799495041370392, 0.1698453426361084, 0.1698453426361084, 0.1698453426361084, 0.1698453426361084, 0.3396906852722168, 0.32332032918930054, 0.322986364364624, 0.3401149809360504, 0.3234330415725708, 0.3234330415725708, 0.04223757982254028, 0.18584536015987396, 0.13516026735305786, 0.08447515964508057, 0.07602764666080475, 0.07602764666080475, 0.08447515964508057, 0.09292268007993698, 0.09292268007993698, 0.12671273946762085, 0.06672042608261108, 0.11524437367916107, 0.10917887836694717, 0.09704789519309998, 0.08491690456867218, 0.10311339050531387, 0.15163733065128326, 0.11524437367916107, 0.07278592139482498, 0.07885141670703888, 0.10736706107854843, 0.08784577250480652, 0.12463589012622833, 0.16142599284648895, 0.08033759146928787, 0.10961951315402985, 0.09084904938936234, 0.09460314363241196, 0.06907530874013901, 0.07433103770017624, 0.13742248713970184, 0.08803627640008926, 0.07085846364498138, 0.13527525961399078, 0.07730014622211456, 0.08374182134866714, 0.10091963410377502, 0.08159460127353668, 0.10306686162948608, 0.12239189445972443, 0.323702335357666, 0.323702335357666, 0.0738806203007698, 0.1240815594792366, 0.11555687338113785, 0.10229624807834625, 0.13165906071662903, 0.09566593170166016, 0.09945468604564667, 0.0738806203007698, 0.07577499747276306, 0.10608499497175217, 0.3238202631473541, 0.3238202631473541, 0.0704222172498703, 0.12242630869150162, 0.08559007197618484, 0.11267554014921188, 0.11267554014921188, 0.16142937541007996, 0.0704222172498703, 0.06608854234218597, 0.10292477160692215, 0.09534084051847458, 0.3240562975406647, 0.3240562975406647, 0.226535364985466, 0.226535364985466, 0.226535364985466, 0.09532084316015244, 0.1506684273481369, 0.10147057473659515, 0.0983957052230835, 0.11069516837596893, 0.05534758418798447, 0.1352940946817398, 0.10762030631303787, 0.06457218527793884, 0.083021380007267, 0.11967085301876068, 0.11967085301876068, 0.11967085301876068, 0.23934170603752136, 0.11967085301876068, 0.11967085301876068, 0.11967085301876068, 0.11967085301876068, 0.32324180006980896, 0.09728172421455383, 0.11363882571458817, 0.12741322815418243, 0.08264642208814621, 0.10589072108268738, 0.09383811801671982, 0.09125541895627975, 0.08953361958265305, 0.07575921714305878, 0.12396962940692902, 0.07995346188545227, 0.09594415873289108, 0.07995346188545227, 0.09594415873289108, 0.1119348481297493, 0.09594415873289108, 0.09594415873289108, 0.07995346188545227, 0.15990692377090454, 0.07995346188545227, 0.08509978652000427, 0.11346638202667236, 0.08509978652000427, 0.08509978652000427, 0.09928308427333832, 0.09928308427333832, 0.1276496797800064, 0.08509978652000427, 0.07091648876667023, 0.1560162752866745, 0.1475767195224762, 0.11068254709243774, 0.06640952825546265, 0.10576331615447998, 0.1033037081360817, 0.10576331615447998, 0.09838448464870453, 0.08116719871759415, 0.07870758324861526, 0.1033037081360817, 0.09484212100505829, 0.0923129990696907, 0.126456156373024, 0.11128141731023788, 0.10116492956876755, 0.07460913062095642, 0.08093193918466568, 0.10495860874652863, 0.11001686006784439, 0.10369405150413513, 0.3232107162475586, 0.08921311795711517, 0.07646838575601578, 0.11470257490873337, 0.11470257490873337, 0.07646838575601578, 0.12744730710983276, 0.08921311795711517, 0.08921311795711517, 0.06372365355491638, 0.16568149626255035, 0.1629316359758377, 0.10202261060476303, 0.0776590034365654, 0.08374990522861481, 0.0791817307472229, 0.12334077060222626, 0.09288626164197922, 0.11420441418886185, 0.11268168687820435, 0.051772668957710266, 0.15131910145282745, 0.09792915731668472, 0.10620888322591782, 0.09136247634887695, 0.08165521174669266, 0.08336826413869858, 0.06766533851623535, 0.11905673146247864, 0.11505962163209915, 0.0865088477730751, 0.1036643385887146, 0.09675338119268417, 0.12439720332622528, 0.15895198285579681, 0.11057529598474503, 0.08293147385120392, 0.08293147385120392, 0.08293147385120392, 0.06219860166311264, 0.09675338119268417, 0.32326847314834595, 0.13878338038921356, 0.2775667607784271, 0.13878338038921356, 0.13878338038921356, 0.13878338038921356, 0.13878338038921356, 0.26672884821891785, 0.32348063588142395, 0.32348063588142395, 0.3232383131980896, 0.6183041334152222, 0.10596713423728943, 0.13307499885559082, 0.14293241500854492, 0.10596713423728943, 0.09857407957315445, 0.10843148827552795, 0.08625231683254242, 0.07393056154251099, 0.06900185346603394, 0.07885926216840744, 0.08818134665489197, 0.08450712263584137, 0.12492357194423676, 0.12124934792518616, 0.09552978724241257, 0.09185556322336197, 0.08083289861679077, 0.13962046802043915, 0.08083289861679077, 0.09185556322336197, 0.22678187489509583, 0.22678187489509583, 0.22678187489509583, 0.09593725949525833, 0.11019819974899292, 0.08037986606359482, 0.10371595621109009, 0.08297276496887207, 0.12705203890800476, 0.09723370522260666, 0.07389761507511139, 0.119273342192173, 0.10760530084371567, 0.43895724415779114, 0.2780846059322357, 0.09672608226537704, 0.08060506731271744, 0.11284709721803665, 0.11284709721803665, 0.1934521645307541, 0.06448405236005783, 0.09672608226537704, 0.08060506731271744, 0.08060506731271744, 0.08060506731271744, 0.15263934433460236, 0.15263934433460236, 0.15263934433460236, 0.15263934433460236, 0.15263934433460236, 0.15263934433460236, 0.15263934433460236, 0.12275131046772003, 0.1417989283800125, 0.06772486120462418, 0.10158728808164597, 0.13121691346168518, 0.10158728808164597, 0.09100528061389923, 0.09312167763710022, 0.07195766270160675, 0.07830686867237091, 0.234750896692276, 0.08085747063159943, 0.1465541571378708, 0.08338426798582077, 0.13139338791370392, 0.11370581388473511, 0.08843785524368286, 0.08085747063159943, 0.08843785524368286, 0.10865222662687302, 0.07833067327737808, 0.266458123922348, 0.266458123922348, 0.266458123922348, 0.19169574975967407, 0.38339149951934814, 0.19169574975967407, 0.34051939845085144, 0.08167442679405212, 0.10823521763086319, 0.11753149330615997, 0.12350767105817795, 0.0796823650598526, 0.1195235475897789, 0.1321399211883545, 0.06706599146127701, 0.07304216921329498, 0.09694688022136688, 0.060835979878902435, 0.1481223851442337, 0.15341247618198395, 0.11638187617063522, 0.07670623809099197, 0.08993145078420639, 0.0793512836098671, 0.07406119257211685, 0.11902692168951035, 0.08199632167816162, 0.09695915132761002, 0.09194402396678925, 0.07857034355401993, 0.08860060572624207, 0.1003025695681572, 0.08525718003511429, 0.08024205267429352, 0.1354084610939026, 0.13039334118366241, 0.11200453341007233, 0.32336893677711487, 0.10168669372797012, 0.20337338745594025, 0.10168669372797012, 0.10168669372797012, 0.10168669372797012, 0.10168669372797012, 0.10168669372797012, 0.10168669372797012, 0.10168669372797012, 0.15004493296146393, 0.11324145644903183, 0.09059316664934158, 0.10757938027381897, 0.08776212483644485, 0.09059316664934158, 0.08776212483644485, 0.10757938027381897, 0.09625523537397385, 0.07077591121196747, 0.06219945475459099, 0.10366576164960861, 0.09033730626106262, 0.09774199873209, 0.08885636180639267, 0.0681232139468193, 0.14365112781524658, 0.11847515404224396, 0.09922294318675995, 0.12884172797203064, 0.1155986487865448, 0.08159904181957245, 0.07819908112287521, 0.1155986487865448, 0.09859884530305862, 0.1427983194589615, 0.07819908112287521, 0.09859884530305862, 0.09179892390966415, 0.09859884530305862, 0.32386693358421326, 0.32386693358421326, 0.15394680202007294, 0.08992931991815567, 0.11279270797967911, 0.08840509504079819, 0.08383241295814514, 0.11584115773439407, 0.11279270797967911, 0.0868808701634407, 0.07773551344871521, 0.07925973832607269, 0.08357889205217361, 0.11722753942012787, 0.11614210158586502, 0.10962945967912674, 0.09226241707801819, 0.0900915339589119, 0.07055361568927765, 0.10854402184486389, 0.11831297725439072, 0.09334785491228104, 0.15707850456237793, 0.11165821552276611, 0.09084058552980423, 0.10030314326286316, 0.09841062873601913, 0.07002294808626175, 0.1400458961725235, 0.08705555647611618, 0.07191546261310577, 0.0738079771399498, 0.32354265451431274, 0.191325381398201, 0.191325381398201, 0.191325381398201, 0.1528167575597763, 0.1528167575597763, 0.1528167575597763, 0.1528167575597763, 0.1528167575597763, 0.1528167575597763, 0.1528167575597763, 0.1528167575597763, 0.13884785771369934, 0.13884785771369934, 0.13884785771369934, 0.13884785771369934, 0.13884785771369934, 0.13884785771369934, 0.2776957154273987, 0.10793901979923248, 0.10622569918632507, 0.07367265969514847, 0.07538598030805588, 0.13363878428936005, 0.11650560796260834, 0.08395256847143173, 0.10108574479818344, 0.1404920518398285, 0.06167943775653839, 0.26653140783309937, 0.26653140783309937, 0.26653140783309937, 0.0998539999127388, 0.09077636152505875, 0.0786728486418724, 0.13313865661621094, 0.09077636152505875, 0.14826805889606476, 0.1210351511836052, 0.08472460508346558, 0.06959521025419235, 0.08472460508346558, 0.11147410422563553, 0.09627308696508408, 0.08107207715511322, 0.1570771485567093, 0.09627308696508408, 0.08613908290863037, 0.08107207715511322, 0.09627308696508408, 0.09627308696508408, 0.09627308696508408, 0.08388057351112366, 0.12426751852035522, 0.09630732983350754, 0.08077389001846313, 0.09941401332616806, 0.06213375926017761, 0.0900939553976059, 0.17086784541606903, 0.11494745314121246, 0.07766719907522202, 0.0594092421233654, 0.0933573842048645, 0.1018444150686264, 0.1188184842467308, 0.08062683045864105, 0.1357925534248352, 0.14852310717105865, 0.1018444150686264, 0.0763833150267601, 0.084870345890522, 0.32375848293304443, 0.32375848293304443, 0.1272510588169098, 0.1272510588169098, 0.1272510588169098, 0.1272510588169098, 0.2545021176338196, 0.1272510588169098, 0.1272510588169098, 0.1272510588169098, 0.6177830696105957, 0.17461349070072174, 0.17461349070072174, 0.17461349070072174, 0.17461349070072174, 0.17461349070072174, 0.08093965798616409, 0.16400931775569916, 0.07028970867395401, 0.12779946625232697, 0.10862954705953598, 0.07028970867395401, 0.10010957717895508, 0.09584959596395493, 0.07454968988895416, 0.10862954705953598, 0.14191725850105286, 0.14191725850105286, 0.14191725850105286, 0.2838345170021057, 0.14191725850105286, 0.14191725850105286, 0.14191725850105286, 0.12502245604991913, 0.10939464718103409, 0.09689240157604218, 0.09064127504825592, 0.07813902944326401, 0.06251122802495956, 0.10314352065324783, 0.1000179573893547, 0.09376683831214905, 0.14065025746822357, 0.6175938248634338, 0.07829081267118454, 0.1304846853017807, 0.1304846853017807, 0.07829081267118454, 0.07829081267118454, 0.18267856538295746, 0.07829081267118454, 0.05219387635588646, 0.10438775271177292, 0.10438775271177292, 0.09093058109283447, 0.09258386492729187, 0.1372225135564804, 0.0710911825299263, 0.08431745320558548, 0.13226266205310822, 0.08431745320558548, 0.10415685176849365, 0.10415685176849365, 0.09919700026512146, 0.09484182298183441, 0.09839839488267899, 0.10314048826694489, 0.09721287339925766, 0.14226274192333221, 0.09365630149841309, 0.11143914610147476, 0.07943002879619598, 0.09721287339925766, 0.08298660069704056, 0.15024663507938385, 0.14389818906784058, 0.05713604390621185, 0.11003979295492172, 0.0909944400191307, 0.09734289348125458, 0.10157518833875656, 0.07406524568796158, 0.10157518833875656, 0.07618139684200287, 0.098987877368927, 0.10019873827695847, 0.12714038789272308, 0.09051185101270676, 0.09838244318962097, 0.08990642428398132, 0.10685846954584122, 0.1047394648194313, 0.07840324193239212, 0.1047394648194313, 0.14637747406959534, 0.09072984009981155, 0.11129527539014816, 0.0967784970998764, 0.08952011168003082, 0.11734393239021301, 0.09798823297023773, 0.08105199038982391, 0.08589091897010803, 0.0846811905503273, 0.32340168952941895, 0.07870204746723175, 0.09181905537843704, 0.09181905537843704, 0.07870204746723175, 0.07870204746723175, 0.1705210953950882, 0.13117007911205292, 0.09181905537843704, 0.10493606328964233, 0.07870204746723175, 0.32339003682136536, 0.32339003682136536, 0.08064662665128708, 0.11935701221227646, 0.12688402831554413, 0.11182998865842819, 0.08817364275455475, 0.08924893289804459, 0.11290527880191803, 0.06881845742464066, 0.0978512391448021, 0.10430297255516052, 0.10864342004060745, 0.1731504499912262, 0.10185320675373077, 0.09732639789581299, 0.07129724323749542, 0.09053618460893631, 0.07582405209541321, 0.08148255944252014, 0.09732639789581299, 0.10411661118268967, 0.26662346720695496, 0.2665257453918457, 0.15950441360473633, 0.09046519547700882, 0.06189723685383797, 0.1380784511566162, 0.07618121802806854, 0.12141381204128265, 0.09522651880979538, 0.07618121802806854, 0.12141381204128265, 0.05951657518744469, 0.3405669927597046, 0.11987677961587906, 0.09941001236438751, 0.0979481041431427, 0.09356236457824707, 0.09941001236438751, 0.0833289846777916, 0.07163368910551071, 0.09502428025007248, 0.14472928643226624, 0.0979481041431427, 0.10445672273635864, 0.08456020802259445, 0.15419802069664001, 0.10445672273635864, 0.10943085700273514, 0.10445672273635864, 0.06963782012462616, 0.07958607375621796, 0.08456020802259445, 0.09948259592056274, 0.32345354557037354, 0.32345354557037354, 0.11850357055664062, 0.07781258970499039, 0.10279828310012817, 0.1256423443555832, 0.10993704944849014, 0.09494563192129135, 0.08709298819303513, 0.09137625247240067, 0.09922889620065689, 0.09209012985229492, 0.09577929973602295, 0.10448650270700455, 0.08707208931446075, 0.09577929973602295, 0.1741441786289215, 0.08707208931446075, 0.06965766847133636, 0.07836487889289856, 0.13060812652111053, 0.08707208931446075, 0.26635172963142395, 0.26635172963142395, 0.3404325842857361, 0.07439425587654114, 0.10202641040086746, 0.09139865636825562, 0.09139865636825562, 0.09990085661411285, 0.09777531027793884, 0.13816076517105103, 0.08077090978622437, 0.1105286106467247, 0.1105286106467247, 0.13044500350952148, 0.0931750014424324, 0.12112750113010406, 0.07453999668359756, 0.1351037472486496, 0.10016312450170517, 0.10948061943054199, 0.04425812512636185, 0.10016312450170517, 0.0885162502527237, 0.12466192990541458, 0.12466192990541458, 0.12466192990541458, 0.12466192990541458, 0.12466192990541458, 0.24932385981082916, 0.12466192990541458, 0.12466192990541458, 0.12466192990541458, 0.11462881416082382, 0.07534288614988327, 0.0904114618897438, 0.12216310203075409, 0.08341533690690994, 0.09148778766393661, 0.12485392391681671, 0.08610615134239197, 0.10278922319412231, 0.10924717783927917, 0.3233237862586975, 0.09776400774717331, 0.09882666170597076, 0.07438565790653229, 0.08501218259334564, 0.1338941901922226, 0.141332745552063, 0.07119770348072052, 0.1338941901922226, 0.08820013701915741, 0.07544831186532974, 0.07922659069299698, 0.10893656313419342, 0.11223767697811127, 0.09903324395418167, 0.08582881093025208, 0.14524875581264496, 0.07592548429965973, 0.08912991732358932, 0.11553878337144852, 0.08912991732358932, 0.10357004404067993, 0.0736498087644577, 0.11047471314668655, 0.13809339702129364, 0.10357004404067993, 0.13118872046470642, 0.07825292646884918, 0.09666537493467331, 0.08976070582866669, 0.07134825736284256, 0.0796348825097084, 0.07350912690162659, 0.08882352709770203, 0.1194523274898529, 0.0796348825097084, 0.15008112788200378, 0.11332656443119049, 0.09494928270578384, 0.08882352709770203, 0.1163894459605217, 0.32355237007141113, 0.10742566734552383, 0.12750522792339325, 0.0883500799536705, 0.11646147072315216, 0.09035803377628326, 0.09738588333129883, 0.10642168670892715, 0.1305171549320221, 0.06827051192522049, 0.0672665387392044, 0.08275214582681656, 0.09866601973772049, 0.14004209637641907, 0.08593492209911346, 0.09548324346542358, 0.09548324346542358, 0.12253683060407639, 0.08752630650997162, 0.09389185905456543, 0.09707462787628174, 0.12937045097351074, 0.10428842902183533, 0.12673024833202362, 0.12276992201805115, 0.10560853779315948, 0.0924074724316597, 0.08976725488901138, 0.0765661895275116, 0.06600533425807953, 0.0858069360256195, 0.14791524410247803, 0.10258638113737106, 0.0954291895031929, 0.09781491756439209, 0.09304346144199371, 0.08827199786901474, 0.07872907817363739, 0.11690075695514679, 0.08827199786901474, 0.09304346144199371, 0.22684185206890106, 0.22684185206890106, 0.06254691630601883, 0.07188227772712708, 0.13349565863609314, 0.12789443135261536, 0.09428714215755463, 0.10362250357866287, 0.11762554198503494, 0.07561641931533813, 0.08775238692760468, 0.12509383261203766, 0.13328279554843903, 0.08513350784778595, 0.11793084442615509, 0.0760619044303894, 0.0879247710108757, 0.08164443075656891, 0.12700244784355164, 0.07955098897218704, 0.1228155568242073, 0.0879247710108757, 0.10889355093240738, 0.10284391045570374, 0.15729068219661713, 0.07259570062160492, 0.06654606014490128, 0.09074462950229645, 0.10284391045570374, 0.07864534109830856, 0.10284391045570374, 0.12099283933639526, 0.169913649559021, 0.169913649559021, 0.169913649559021, 0.169913649559021, 0.169913649559021, 0.169913649559021, 0.11475373804569244, 0.08500277251005173, 0.1572551280260086, 0.09350304305553436, 0.08925290405750275, 0.09350304305553436, 0.08925290405750275, 0.10625346004962921, 0.09775318205356598, 0.0765024945139885, 0.13229426741600037, 0.0953749343752861, 0.08922171592712402, 0.08922171592712402, 0.11691121011972427, 0.06768544018268585, 0.08922171592712402, 0.1353708803653717, 0.08306849002838135, 0.09845154732465744, 0.10798166692256927, 0.12115015834569931, 0.1553882509469986, 0.10271426290273666, 0.08427837491035461, 0.08954577147960663, 0.10271426290273666, 0.1185164600610733, 0.06584247946739197, 0.052673984318971634, 0.13909077644348145, 0.13909077644348145, 0.13909077644348145, 0.2781815528869629, 0.13909077644348145, 0.13909077644348145, 0.13909077644348145, 0.12224696576595306, 0.10022048652172089, 0.08370062708854675, 0.08480194956064224, 0.09801784157752991, 0.10572710633277893, 0.08039665222167969, 0.10462578386068344, 0.10352446138858795, 0.11563902348279953, 0.08356346935033798, 0.08356346935033798, 0.13980810344219208, 0.11731025576591492, 0.09641938656568527, 0.10445433855056763, 0.057851631194353104, 0.10284734517335892, 0.09641938656568527, 0.11731025576591492, 0.16425582766532898, 0.10950388014316559, 0.08516968786716461, 0.07908613979816437, 0.10950388014316559, 0.09125323593616486, 0.07300259172916412, 0.07908613979816437, 0.09125323593616486, 0.11558743566274643, 0.1913803666830063, 0.1913803666830063, 0.1913803666830063, 0.10906510055065155, 0.07859102636575699, 0.08661051839590073, 0.10746119916439056, 0.128311887383461, 0.09783781319856644, 0.09783781319856644, 0.09623391181230545, 0.10746119916439056, 0.0898183211684227, 0.11696959286928177, 0.09276898205280304, 0.09680242091417313, 0.08066868036985397, 0.08066868036985397, 0.09276898205280304, 0.11293615400791168, 0.072601817548275, 0.14923706650733948, 0.11293615400791168, 0.06504147499799728, 0.13008294999599457, 0.03252073749899864, 0.03252073749899864, 0.03252073749899864, 0.03252073749899864, 0.13008294999599457, 0.13008294999599457, 0.35772809386253357, 0.32326194643974304, 0.2267259955406189, 0.2267259955406189, 0.6191867589950562, 0.6193334460258484], \"Term\": [\"aaron\", \"aaron\", \"aaron\", \"absolutely\", \"absolutely\", \"absolutely\", \"absolutely\", \"absolutely\", \"absolutely\", \"absolutely\", \"absolutely\", \"absolutely\", \"absolutely\", \"accepting\", \"accepting\", \"accepting\", \"accepting\", \"accepting\", \"accepting\", \"acrobatics\", \"acrobatics\", \"acrobatics\", \"acrobatics\", \"acrobatics\", \"ahve\", \"ahve\", \"ahwatukee\", \"ahwatukee\", \"aims\", \"aims\", \"albertsons\", \"aldi\", \"aldi\", \"aldi\", \"aldi\", \"aldi\", \"aldi\", \"aldi\", \"aldi\", \"aldi\", \"amazing\", \"amazing\", \"amazing\", \"amazing\", \"amazing\", \"amazing\", \"amazing\", \"amazing\", \"amazing\", \"amazing\", \"ambiance\", \"ambiance\", \"ambiance\", \"ambiance\", \"ambiance\", \"ambiance\", \"ambiance\", \"ambiance\", \"ambiance\", \"ambiance\", \"antiisrael\", \"appointment\", \"appointment\", \"appointment\", \"appointment\", \"appointment\", \"appointment\", \"appointment\", \"appointment\", \"appointment\", \"appointment\", \"arboretum\", \"area\", \"area\", \"area\", \"area\", \"area\", \"area\", \"area\", \"area\", \"area\", \"area\", \"arse\", \"arturo\", \"ask\", \"ask\", \"ask\", \"ask\", \"ask\", \"ask\", \"ask\", \"ask\", \"ask\", \"ask\", \"asked\", \"asked\", \"asked\", \"asked\", \"asked\", \"asked\", \"asked\", \"asked\", \"asked\", \"asked\", \"attorney\", \"attorney\", \"attorney\", \"attorney\", \"attorney\", \"attorney\", \"attorney\", \"attorney\", \"attorney\", \"attorney\", \"away\", \"away\", \"away\", \"away\", \"away\", \"away\", \"away\", \"away\", \"away\", \"away\", \"awesome\", \"awesome\", \"awesome\", \"awesome\", \"awesome\", \"awesome\", \"awesome\", \"awesome\", \"awesome\", \"awesome\", \"axle\", \"baby\", \"baby\", \"baby\", \"baby\", \"baby\", \"baby\", \"baby\", \"baby\", \"baby\", \"baby\", \"bad\", \"bad\", \"bad\", \"bad\", \"bad\", \"bad\", \"bad\", \"bad\", \"bad\", \"bad\", \"badder\", \"bar\", \"bar\", \"bar\", \"bar\", \"bar\", \"bar\", \"bar\", \"bar\", \"bar\", \"bar\", \"bathing\", \"bathing\", \"bb\", \"bb\", \"beans\", \"beans\", \"beans\", \"beans\", \"beans\", \"beans\", \"beans\", \"beans\", \"beans\", \"beans\", \"beause\", \"beause\", \"beautiful\", \"beautiful\", \"beautiful\", \"beautiful\", \"beautiful\", \"beautiful\", \"beautiful\", \"beautiful\", \"beautiful\", \"beautiful\", \"beer\", \"beer\", \"beer\", \"beer\", \"beer\", \"beer\", \"beer\", \"beer\", \"beer\", \"beer\", \"best\", \"best\", \"best\", \"best\", \"best\", \"best\", \"best\", \"best\", \"best\", \"best\", \"better\", \"better\", \"better\", \"better\", \"better\", \"better\", \"better\", \"better\", \"better\", \"better\", \"big\", \"big\", \"big\", \"big\", \"big\", \"big\", \"big\", \"big\", \"big\", \"big\", \"bit\", \"bit\", \"bit\", \"bit\", \"bit\", \"bit\", \"bit\", \"bit\", \"bit\", \"bit\", \"bi\\u00e8res\", \"bi\\u00e8res\", \"bi\\u00e8res\", \"bi\\u00e8res\", \"bi\\u00e8res\", \"bi\\u00e8res\", \"bi\\u00e8res\", \"bi\\u00e8res\", \"bi\\u00e8res\", \"booster\", \"booster\", \"booster\", \"botanical\", \"botanical\", \"botanical\", \"botanical\", \"bread\", \"bread\", \"bread\", \"bread\", \"bread\", \"bread\", \"bread\", \"bread\", \"bread\", \"bread\", \"brice\", \"brice\", \"brice\", \"brice\", \"bring\", \"bring\", \"bring\", \"bring\", \"bring\", \"bring\", \"bring\", \"bring\", \"bring\", \"bring\", \"brookline\", \"browbeaten\", \"browbeaten\", \"burger\", \"burger\", \"burger\", \"burger\", \"burger\", \"burger\", \"burger\", \"burger\", \"burger\", \"burger\", \"burrito\", \"burrito\", \"burrito\", \"burrito\", \"burrito\", \"burrito\", \"burrito\", \"burrito\", \"burrito\", \"burrito\", \"burro\", \"burro\", \"burro\", \"burro\", \"burro\", \"burro\", \"burro\", \"burro\", \"burro\", \"burro\", \"busta\", \"busta\", \"busta\", \"busta\", \"butterflies\", \"byt\", \"caliente\", \"caliente\", \"called\", \"called\", \"called\", \"called\", \"called\", \"called\", \"called\", \"called\", \"called\", \"called\", \"calvin\", \"came\", \"came\", \"came\", \"came\", \"came\", \"came\", \"came\", \"came\", \"came\", \"came\", \"care\", \"care\", \"care\", \"care\", \"care\", \"care\", \"care\", \"care\", \"care\", \"care\", \"carina\", \"carpaccio\", \"carpaccio\", \"carpaccio\", \"carpaccio\", \"carpaccio\", \"carpaccio\", \"carpaccio\", \"carpaccio\", \"carpaccio\", \"carpaccio\", \"cary\", \"cary\", \"cathedral\", \"ceux\", \"ceux\", \"ceux\", \"ceux\", \"charged\", \"charged\", \"charged\", \"charged\", \"charged\", \"charged\", \"charged\", \"charged\", \"charged\", \"charged\", \"chauffeured\", \"chauffeured\", \"cheese\", \"cheese\", \"cheese\", \"cheese\", \"cheese\", \"cheese\", \"cheese\", \"cheese\", \"cheese\", \"cheese\", \"chef\", \"chef\", \"chef\", \"chef\", \"chef\", \"chef\", \"chef\", \"chef\", \"chef\", \"chef\", \"chicken\", \"chicken\", \"chicken\", \"chicken\", \"chicken\", \"chicken\", \"chicken\", \"chicken\", \"chicken\", \"chicken\", \"chocolate\", \"chocolate\", \"chocolate\", \"chocolate\", \"chocolate\", \"chocolate\", \"chocolate\", \"chocolate\", \"chocolate\", \"chocolate\", \"city\", \"city\", \"city\", \"city\", \"city\", \"city\", \"city\", \"city\", \"city\", \"city\", \"clinical\", \"clinical\", \"close\", \"close\", \"close\", \"close\", \"close\", \"close\", \"close\", \"close\", \"close\", \"close\", \"coffee\", \"coffee\", \"coffee\", \"coffee\", \"coffee\", \"coffee\", \"coffee\", \"coffee\", \"coffee\", \"coffee\", \"cold\", \"cold\", \"cold\", \"cold\", \"cold\", \"cold\", \"cold\", \"cold\", \"cold\", \"cold\", \"come\", \"come\", \"come\", \"come\", \"come\", \"come\", \"come\", \"come\", \"come\", \"come\", \"comfortable\", \"comfortable\", \"comfortable\", \"comfortable\", \"comfortable\", \"comfortable\", \"comfortable\", \"comfortable\", \"comfortable\", \"comfortable\", \"common\", \"common\", \"common\", \"common\", \"common\", \"common\", \"common\", \"common\", \"common\", \"common\", \"complexly\", \"complexly\", \"conchas\", \"conchas\", \"conrad\", \"cos\", \"cos\", \"costumers\", \"costumers\", \"costumers\", \"cream\", \"cream\", \"cream\", \"cream\", \"cream\", \"cream\", \"cream\", \"cream\", \"cream\", \"cream\", \"crime\", \"crime\", \"crime\", \"cruffin\", \"cwru\", \"cwru\", \"daaayyuuummm\", \"darlene\", \"darlene\", \"day\", \"day\", \"day\", \"day\", \"day\", \"day\", \"day\", \"day\", \"day\", \"day\", \"decided\", \"decided\", \"decided\", \"decided\", \"decided\", \"decided\", \"decided\", \"decided\", \"decided\", \"decided\", \"decor\", \"decor\", \"decor\", \"decor\", \"decor\", \"decor\", \"decor\", \"decor\", \"decor\", \"decor\", \"definately\", \"definately\", \"definately\", \"definately\", \"definately\", \"definately\", \"definately\", \"definately\", \"definately\", \"definately\", \"definitely\", \"definitely\", \"definitely\", \"definitely\", \"definitely\", \"definitely\", \"definitely\", \"definitely\", \"definitely\", \"definitely\", \"delicious\", \"delicious\", \"delicious\", \"delicious\", \"delicious\", \"delicious\", \"delicious\", \"delicious\", \"delicious\", \"delicious\", \"delivary\", \"delivary\", \"deliverance\", \"deptartment\", \"deptartment\", \"deter\", \"deter\", \"diesel\", \"diesel\", \"diesel\", \"discontinue\", \"dishes\", \"dishes\", \"dishes\", \"dishes\", \"dishes\", \"dishes\", \"dishes\", \"dishes\", \"dishes\", \"dishes\", \"dolci\", \"dollar\", \"dollar\", \"dollar\", \"dollar\", \"dollar\", \"dollar\", \"dollar\", \"dollar\", \"dollar\", \"dollar\", \"dollars\", \"dollars\", \"dollars\", \"dollars\", \"dollars\", \"dollars\", \"dollars\", \"dollars\", \"dollars\", \"dollars\", \"donair\", \"donair\", \"donair\", \"donair\", \"donuts\", \"donuts\", \"donuts\", \"donuts\", \"donuts\", \"donuts\", \"donuts\", \"donuts\", \"donuts\", \"donuts\", \"doorstep\", \"drink\", \"drink\", \"drink\", \"drink\", \"drink\", \"drink\", \"drink\", \"drink\", \"drink\", \"drink\", \"drinks\", \"drinks\", \"drinks\", \"drinks\", \"drinks\", \"drinks\", \"drinks\", \"drinks\", \"drinks\", \"drinks\", \"drizzly\", \"dulce\", \"dulce\", \"dulce\", \"dulce\", \"dulce\", \"dulce\", \"dulce\", \"dulce\", \"dulce\", \"eat\", \"eat\", \"eat\", \"eat\", \"eat\", \"eat\", \"eat\", \"eat\", \"eat\", \"eat\", \"econolight\", \"edward\", \"electricians\", \"electricians\", \"enclosed\", \"enclosed\", \"enclosed\", \"enclosed\", \"enclosed\", \"enclosed\", \"enclosed\", \"enclosed\", \"enclosed\", \"enclosed\", \"engages\", \"engages\", \"erika\", \"erika\", \"estimating\", \"ev\", \"ev\", \"everrrrr\", \"exceeds\", \"excellent\", \"excellent\", \"excellent\", \"excellent\", \"excellent\", \"excellent\", \"excellent\", \"excellent\", \"excellent\", \"excellent\", \"experience\", \"experience\", \"experience\", \"experience\", \"experience\", \"experience\", \"experience\", \"experience\", \"experience\", \"experience\", \"explosive\", \"explosive\", \"extreamly\", \"factors\", \"factors\", \"factors\", \"family\", \"family\", \"family\", \"family\", \"family\", \"family\", \"family\", \"family\", \"family\", \"family\", \"fast\", \"fast\", \"fast\", \"fast\", \"fast\", \"fast\", \"fast\", \"fast\", \"fast\", \"fast\", \"fav\", \"fav\", \"fav\", \"fav\", \"fav\", \"fav\", \"fav\", \"fav\", \"fav\", \"fav\", \"feel\", \"feel\", \"feel\", \"feel\", \"feel\", \"feel\", \"feel\", \"feel\", \"feel\", \"feel\", \"feeling\", \"feeling\", \"feeling\", \"feeling\", \"feeling\", \"feeling\", \"feeling\", \"feeling\", \"feeling\", \"feeling\", \"fingernail\", \"fingernail\", \"firefly\", \"firefly\", \"firefly\", \"firefly\", \"firefly\", \"firefly\", \"firefly\", \"firefly\", \"fish\", \"fish\", \"fish\", \"fish\", \"fish\", \"fish\", \"fish\", \"fish\", \"fish\", \"fish\", \"flan\", \"flan\", \"flan\", \"flan\", \"flan\", \"flan\", \"flan\", \"flan\", \"flan\", \"flannery\", \"florence\", \"flush\", \"flush\", \"flush\", \"flush\", \"flush\", \"food\", \"food\", \"food\", \"food\", \"food\", \"food\", \"food\", \"food\", \"food\", \"food\", \"forces\", \"forces\", \"forces\", \"forces\", \"forces\", \"forces\", \"forces\", \"forces\", \"free\", \"free\", \"free\", \"free\", \"free\", \"free\", \"free\", \"free\", \"free\", \"free\", \"fresh\", \"fresh\", \"fresh\", \"fresh\", \"fresh\", \"fresh\", \"fresh\", \"fresh\", \"fresh\", \"fresh\", \"freshest\", \"freshest\", \"freshest\", \"freshest\", \"freshest\", \"freshest\", \"freshest\", \"freshest\", \"freshest\", \"freshest\", \"fridendly\", \"fridendly\", \"friend\", \"friend\", \"friend\", \"friend\", \"friend\", \"friend\", \"friend\", \"friend\", \"friend\", \"friend\", \"friendly\", \"friendly\", \"friendly\", \"friendly\", \"friendly\", \"friendly\", \"friendly\", \"friendly\", \"friendly\", \"friendly\", \"frizzy\", \"frizzy\", \"frizzy\", \"frizzy\", \"frizzy\", \"froide\", \"froide\", \"fun\", \"fun\", \"fun\", \"fun\", \"fun\", \"fun\", \"fun\", \"fun\", \"fun\", \"fun\", \"fungus\", \"fungus\", \"fungus\", \"fungus\", \"ganoush\", \"ganoush\", \"ganoush\", \"ganoush\", \"ganoush\", \"ganoush\", \"ganoush\", \"ganoush\", \"garments\", \"garments\", \"garments\", \"gastropub\", \"gastropub\", \"gave\", \"gave\", \"gave\", \"gave\", \"gave\", \"gave\", \"gave\", \"gave\", \"gave\", \"gave\", \"gems\", \"gems\", \"gems\", \"gems\", \"gems\", \"gems\", \"gems\", \"getting\", \"getting\", \"getting\", \"getting\", \"getting\", \"getting\", \"getting\", \"getting\", \"getting\", \"getting\", \"girls\", \"girls\", \"girls\", \"girls\", \"girls\", \"girls\", \"girls\", \"girls\", \"girls\", \"girls\", \"gives\", \"gives\", \"gives\", \"gives\", \"gives\", \"gives\", \"gives\", \"gives\", \"gives\", \"gives\", \"glass\", \"glass\", \"glass\", \"glass\", \"glass\", \"glass\", \"glass\", \"glass\", \"glass\", \"glass\", \"gnocci\", \"going\", \"going\", \"going\", \"going\", \"going\", \"going\", \"going\", \"going\", \"going\", \"going\", \"golfweek\", \"golfweek\", \"golfweek\", \"good\", \"good\", \"good\", \"good\", \"good\", \"good\", \"good\", \"good\", \"good\", \"good\", \"got\", \"got\", \"got\", \"got\", \"got\", \"got\", \"got\", \"got\", \"got\", \"got\", \"gowns\", \"gowns\", \"gowns\", \"great\", \"great\", \"great\", \"great\", \"great\", \"great\", \"great\", \"great\", \"great\", \"great\", \"greenhouse\", \"greenhouse\", \"greenway\", \"greenway\", \"greulich\", \"gustav\", \"hair\", \"hair\", \"hair\", \"hair\", \"hair\", \"hair\", \"hair\", \"hair\", \"hair\", \"hair\", \"hairstylist\", \"halo\", \"halo\", \"halo\", \"halo\", \"halo\", \"halo\", \"halo\", \"halo\", \"halo\", \"halo\", \"handed\", \"handed\", \"handed\", \"handed\", \"handed\", \"handed\", \"handed\", \"handed\", \"handed\", \"handed\", \"haven\", \"haven\", \"haven\", \"haven\", \"haven\", \"haven\", \"haven\", \"haven\", \"haven\", \"haven\", \"having\", \"having\", \"having\", \"having\", \"having\", \"having\", \"having\", \"having\", \"having\", \"having\", \"heal\", \"heal\", \"hehehe\", \"highly\", \"highly\", \"highly\", \"highly\", \"highly\", \"highly\", \"highly\", \"highly\", \"highly\", \"highly\", \"hikari\", \"hikari\", \"hikari\", \"hikari\", \"hikari\", \"hikari\", \"hikari\", \"hikari\", \"hikari\", \"hikari\", \"hit\", \"hit\", \"hit\", \"hit\", \"hit\", \"hit\", \"hit\", \"hit\", \"hit\", \"hit\", \"hks\", \"hks\", \"home\", \"home\", \"home\", \"home\", \"home\", \"home\", \"home\", \"home\", \"home\", \"home\", \"hotel\", \"hotel\", \"hotel\", \"hotel\", \"hotel\", \"hotel\", \"hotel\", \"hotel\", \"hotel\", \"hotel\", \"husband\", \"husband\", \"husband\", \"husband\", \"husband\", \"husband\", \"husband\", \"husband\", \"husband\", \"husband\", \"ice\", \"ice\", \"ice\", \"ice\", \"ice\", \"ice\", \"ice\", \"ice\", \"ice\", \"ice\", \"imcomplete\", \"imcomplete\", \"inbred\", \"inconvience\", \"indignant\", \"insectarium\", \"insectarium\", \"inside\", \"inside\", \"inside\", \"inside\", \"inside\", \"inside\", \"inside\", \"inside\", \"inside\", \"inside\", \"instruments\", \"instruments\", \"instruments\", \"instruments\", \"instruments\", \"instruments\", \"instruments\", \"instruments\", \"intelligent\", \"intelligent\", \"intelligent\", \"intelligent\", \"intelligent\", \"intelligent\", \"intelligent\", \"intentions\", \"intentions\", \"intentions\", \"irrigation\", \"items\", \"items\", \"items\", \"items\", \"items\", \"items\", \"items\", \"items\", \"items\", \"items\", \"janet\", \"jellyfish\", \"jellyfish\", \"jina\", \"jina\", \"job\", \"job\", \"job\", \"job\", \"job\", \"job\", \"job\", \"job\", \"job\", \"job\", \"jumper\", \"jumper\", \"jumper\", \"kashi\", \"katrina\", \"katrina\", \"katrina\", \"katrina\", \"katrina\", \"kendel\", \"kevin\", \"kevin\", \"kevin\", \"kevin\", \"kevin\", \"kevin\", \"kevin\", \"kevin\", \"kevin\", \"kevin\", \"kheer\", \"kheer\", \"kindest\", \"knew\", \"knew\", \"knew\", \"knew\", \"knew\", \"knew\", \"knew\", \"knew\", \"knew\", \"knew\", \"know\", \"know\", \"know\", \"know\", \"know\", \"know\", \"know\", \"know\", \"know\", \"know\", \"krung\", \"krung\", \"la\", \"la\", \"la\", \"la\", \"la\", \"la\", \"la\", \"la\", \"la\", \"la\", \"lady\", \"lady\", \"lady\", \"lady\", \"lady\", \"lady\", \"lady\", \"lady\", \"lady\", \"lady\", \"lanterns\", \"lars\", \"left\", \"left\", \"left\", \"left\", \"left\", \"left\", \"left\", \"left\", \"left\", \"left\", \"legendary\", \"legendary\", \"legendary\", \"legendary\", \"legendary\", \"legendary\", \"legendary\", \"legendary\", \"legendary\", \"like\", \"like\", \"like\", \"like\", \"like\", \"like\", \"like\", \"like\", \"like\", \"like\", \"linda\", \"linda\", \"linda\", \"linda\", \"linda\", \"linda\", \"line\", \"line\", \"line\", \"line\", \"line\", \"line\", \"line\", \"line\", \"line\", \"line\", \"little\", \"little\", \"little\", \"little\", \"little\", \"little\", \"little\", \"little\", \"little\", \"little\", \"livraison\", \"ll\", \"ll\", \"ll\", \"ll\", \"ll\", \"ll\", \"ll\", \"ll\", \"ll\", \"ll\", \"lobster\", \"lobster\", \"lobster\", \"lobster\", \"lobster\", \"lobster\", \"lobster\", \"lobster\", \"lobster\", \"lobster\", \"location\", \"location\", \"location\", \"location\", \"location\", \"location\", \"location\", \"location\", \"location\", \"location\", \"long\", \"long\", \"long\", \"long\", \"long\", \"long\", \"long\", \"long\", \"long\", \"long\", \"looked\", \"looked\", \"looked\", \"looked\", \"looked\", \"looked\", \"looked\", \"looked\", \"looked\", \"looked\", \"lot\", \"lot\", \"lot\", \"lot\", \"lot\", \"lot\", \"lot\", \"lot\", \"lot\", \"lot\", \"love\", \"love\", \"love\", \"love\", \"love\", \"love\", \"love\", \"love\", \"love\", \"love\", \"loved\", \"loved\", \"loved\", \"loved\", \"loved\", \"loved\", \"loved\", \"loved\", \"loved\", \"loved\", \"luci\", \"luci\", \"luddite\", \"machaca\", \"machaca\", \"machaca\", \"machaca\", \"machaca\", \"machaca\", \"magnolia\", \"magnolia\", \"magnolia\", \"magnolia\", \"magnolia\", \"making\", \"making\", \"making\", \"making\", \"making\", \"making\", \"making\", \"making\", \"making\", \"making\", \"managing\", \"managing\", \"managing\", \"managing\", \"managing\", \"managing\", \"managing\", \"managing\", \"managing\", \"managing\", \"marshall\", \"marshall\", \"matthew\", \"matthew\", \"mazes\", \"mazes\", \"mazes\", \"mazes\", \"mazes\", \"mazes\", \"mazes\", \"mazes\", \"mazes\", \"mazes\", \"mcqueen\", \"mcqueen\", \"mcqueen\", \"mcqueen\", \"meal\", \"meal\", \"meal\", \"meal\", \"meal\", \"meal\", \"meal\", \"meal\", \"meal\", \"meal\", \"meat\", \"meat\", \"meat\", \"meat\", \"meat\", \"meat\", \"meat\", \"meat\", \"meat\", \"meat\", \"medallions\", \"medallions\", \"medallions\", \"melinda\", \"menu\", \"menu\", \"menu\", \"menu\", \"menu\", \"menu\", \"menu\", \"menu\", \"menu\", \"menu\", \"menudazo\", \"messaging\", \"minute\", \"minute\", \"minute\", \"minute\", \"minute\", \"minute\", \"minute\", \"minute\", \"minute\", \"minute\", \"minutes\", \"minutes\", \"minutes\", \"minutes\", \"minutes\", \"minutes\", \"minutes\", \"minutes\", \"minutes\", \"minutes\", \"morning\", \"morning\", \"morning\", \"morning\", \"morning\", \"morning\", \"morning\", \"morning\", \"morning\", \"morning\", \"nadya\", \"nan\", \"nan\", \"nan\", \"nan\", \"nan\", \"nan\", \"nan\", \"nan\", \"nan\", \"nb\", \"need\", \"need\", \"need\", \"need\", \"need\", \"need\", \"need\", \"need\", \"need\", \"need\", \"new\", \"new\", \"new\", \"new\", \"new\", \"new\", \"new\", \"new\", \"new\", \"new\", \"nice\", \"nice\", \"nice\", \"nice\", \"nice\", \"nice\", \"nice\", \"nice\", \"nice\", \"nice\", \"night\", \"night\", \"night\", \"night\", \"night\", \"night\", \"night\", \"night\", \"night\", \"night\", \"nitro\", \"nitro\", \"noel\", \"nom\", \"nom\", \"nom\", \"nom\", \"nom\", \"nom\", \"nom\", \"nom\", \"nom\", \"nom\", \"nowait\", \"old\", \"old\", \"old\", \"old\", \"old\", \"old\", \"old\", \"old\", \"old\", \"old\", \"omai\", \"omai\", \"omai\", \"omai\", \"omai\", \"omai\", \"omai\", \"omai\", \"omai\", \"omai\", \"operative\", \"operative\", \"order\", \"order\", \"order\", \"order\", \"order\", \"order\", \"order\", \"order\", \"order\", \"order\", \"ordered\", \"ordered\", \"ordered\", \"ordered\", \"ordered\", \"ordered\", \"ordered\", \"ordered\", \"ordered\", \"ordered\", \"orellana\", \"organis\\u00e9\", \"overall\", \"overall\", \"overall\", \"overall\", \"overall\", \"overall\", \"overall\", \"overall\", \"overall\", \"overall\", \"paced\", \"paced\", \"paced\", \"paced\", \"paints\", \"palmas\", \"palmas\", \"park\", \"park\", \"park\", \"park\", \"park\", \"park\", \"park\", \"park\", \"park\", \"park\", \"pawn\", \"pawn\", \"pawn\", \"pawn\", \"pawn\", \"pawn\", \"pediatrics\", \"peggy\", \"peggy\", \"people\", \"people\", \"people\", \"people\", \"people\", \"people\", \"people\", \"people\", \"people\", \"people\", \"peru\", \"peru\", \"peru\", \"peru\", \"pesky\", \"pesky\", \"pesky\", \"pesky\", \"photographers\", \"photographers\", \"photographers\", \"photographers\", \"photographers\", \"photographers\", \"photographers\", \"picante\", \"picante\", \"pie\", \"pie\", \"pie\", \"pie\", \"pie\", \"pie\", \"pie\", \"pie\", \"pie\", \"pie\", \"pimpin\", \"pittsburg\", \"pizza\", \"pizza\", \"pizza\", \"pizza\", \"pizza\", \"pizza\", \"pizza\", \"pizza\", \"pizza\", \"pizza\", \"place\", \"place\", \"place\", \"place\", \"place\", \"place\", \"place\", \"place\", \"place\", \"place\", \"plan\", \"plan\", \"plan\", \"plan\", \"plan\", \"plan\", \"plan\", \"plan\", \"plan\", \"plan\", \"plantains\", \"plantains\", \"point\", \"point\", \"point\", \"point\", \"point\", \"point\", \"point\", \"point\", \"point\", \"point\", \"poms\", \"poms\", \"pop\", \"pop\", \"pop\", \"pop\", \"pop\", \"pop\", \"pop\", \"pop\", \"pop\", \"pop\", \"pork\", \"pork\", \"pork\", \"pork\", \"pork\", \"pork\", \"pork\", \"pork\", \"pork\", \"pork\", \"posoleshawwty\", \"posta\", \"premiere\", \"preseason\", \"pretty\", \"pretty\", \"pretty\", \"pretty\", \"pretty\", \"pretty\", \"pretty\", \"pretty\", \"pretty\", \"pretty\", \"price\", \"price\", \"price\", \"price\", \"price\", \"price\", \"price\", \"price\", \"price\", \"price\", \"priced\", \"priced\", \"priced\", \"priced\", \"priced\", \"priced\", \"priced\", \"priced\", \"priced\", \"priced\", \"prices\", \"prices\", \"prices\", \"prices\", \"prices\", \"prices\", \"prices\", \"prices\", \"prices\", \"prices\", \"pricey\", \"pricey\", \"pricey\", \"pricey\", \"pricey\", \"pricey\", \"pricey\", \"pricey\", \"pricey\", \"pricey\", \"prima\", \"prima\", \"procedure\", \"procedure\", \"procedure\", \"procedure\", \"procedure\", \"procedure\", \"procedure\", \"procedure\", \"procedure\", \"procedure\", \"products\", \"products\", \"products\", \"products\", \"products\", \"products\", \"products\", \"products\", \"products\", \"products\", \"puffs\", \"purolator\", \"purolator\", \"purolator\", \"purolator\", \"puzzle\", \"puzzle\", \"puzzlemaster\", \"puzzlemaster\", \"quality\", \"quality\", \"quality\", \"quality\", \"quality\", \"quality\", \"quality\", \"quality\", \"quality\", \"quality\", \"rania\", \"recommend\", \"recommend\", \"recommend\", \"recommend\", \"recommend\", \"recommend\", \"recommend\", \"recommend\", \"recommend\", \"recommend\", \"red\", \"red\", \"red\", \"red\", \"red\", \"red\", \"red\", \"red\", \"red\", \"red\", \"reef\", \"reef\", \"reef\", \"reef\", \"reef\", \"reefs\", \"rellenitos\", \"remarkably\", \"rendevouz\", \"rendevouz\", \"repair\", \"repair\", \"repair\", \"repair\", \"repair\", \"repair\", \"repair\", \"repair\", \"repair\", \"repair\", \"reservation\", \"reservation\", \"reservation\", \"reservation\", \"reservation\", \"reservation\", \"reservation\", \"reservation\", \"reservation\", \"reservation\", \"restaurant\", \"restaurant\", \"restaurant\", \"restaurant\", \"restaurant\", \"restaurant\", \"restaurant\", \"restaurant\", \"restaurant\", \"restaurant\", \"review\", \"review\", \"review\", \"review\", \"review\", \"review\", \"review\", \"review\", \"review\", \"review\", \"ricketts\", \"ricketts\", \"right\", \"right\", \"right\", \"right\", \"right\", \"right\", \"right\", \"right\", \"right\", \"right\", \"romper\", \"romper\", \"room\", \"room\", \"room\", \"room\", \"room\", \"room\", \"room\", \"room\", \"room\", \"room\", \"roomtastic\", \"roomtastic\", \"rubio\", \"rubio\", \"rubio\", \"rude\", \"rude\", \"rude\", \"rude\", \"rude\", \"rude\", \"rude\", \"rude\", \"rude\", \"rude\", \"rugs\", \"rugs\", \"rugs\", \"rugs\", \"rugs\", \"rugs\", \"rugs\", \"rugs\", \"saddest\", \"said\", \"said\", \"said\", \"said\", \"said\", \"said\", \"said\", \"said\", \"said\", \"said\", \"sample\", \"sample\", \"sample\", \"sample\", \"sample\", \"sample\", \"sample\", \"sample\", \"sample\", \"sample\", \"san\", \"san\", \"san\", \"san\", \"san\", \"san\", \"san\", \"san\", \"san\", \"san\", \"sandwich\", \"sandwich\", \"sandwich\", \"sandwich\", \"sandwich\", \"sandwich\", \"sandwich\", \"sandwich\", \"sandwich\", \"sandwich\", \"sauce\", \"sauce\", \"sauce\", \"sauce\", \"sauce\", \"sauce\", \"sauce\", \"sauce\", \"sauce\", \"sauce\", \"scariest\", \"screen\", \"screen\", \"screen\", \"screen\", \"screen\", \"screen\", \"screen\", \"screen\", \"screen\", \"screen\", \"server\", \"server\", \"server\", \"server\", \"server\", \"server\", \"server\", \"server\", \"server\", \"server\", \"service\", \"service\", \"service\", \"service\", \"service\", \"service\", \"service\", \"service\", \"service\", \"service\", \"services\", \"services\", \"services\", \"services\", \"services\", \"services\", \"services\", \"services\", \"services\", \"services\", \"setups\", \"shawn\", \"shawn\", \"shawn\", \"shawn\", \"shawn\", \"shawn\", \"sheldon\", \"shimp\", \"shimp\", \"shithole\", \"shoooz\", \"shop\", \"shop\", \"shop\", \"shop\", \"shop\", \"shop\", \"shop\", \"shop\", \"shop\", \"shop\", \"sit\", \"sit\", \"sit\", \"sit\", \"sit\", \"sit\", \"sit\", \"sit\", \"sit\", \"sit\", \"skimping\", \"skimping\", \"skimping\", \"small\", \"small\", \"small\", \"small\", \"small\", \"small\", \"small\", \"small\", \"small\", \"small\", \"smoker\", \"smokies\", \"soda\", \"soda\", \"soda\", \"soda\", \"soda\", \"soda\", \"soda\", \"soda\", \"soda\", \"soda\", \"solon\", \"solon\", \"solon\", \"solon\", \"solon\", \"solon\", \"solon\", \"soup\", \"soup\", \"soup\", \"soup\", \"soup\", \"soup\", \"soup\", \"soup\", \"soup\", \"soup\", \"southview\", \"spot\", \"spot\", \"spot\", \"spot\", \"spot\", \"spot\", \"spot\", \"spot\", \"spot\", \"spot\", \"squished\", \"squished\", \"squished\", \"squishies\", \"squishies\", \"squishies\", \"stacy\", \"staff\", \"staff\", \"staff\", \"staff\", \"staff\", \"staff\", \"staff\", \"staff\", \"staff\", \"staff\", \"star\", \"star\", \"star\", \"star\", \"star\", \"star\", \"star\", \"star\", \"star\", \"star\", \"stars\", \"stars\", \"stars\", \"stars\", \"stars\", \"stars\", \"stars\", \"stars\", \"stars\", \"stars\", \"stieg\", \"stole\", \"stole\", \"stole\", \"stole\", \"stole\", \"stole\", \"stole\", \"stole\", \"stole\", \"stop\", \"stop\", \"stop\", \"stop\", \"stop\", \"stop\", \"stop\", \"stop\", \"stop\", \"stop\", \"store\", \"store\", \"store\", \"store\", \"store\", \"store\", \"store\", \"store\", \"store\", \"store\", \"style\", \"style\", \"style\", \"style\", \"style\", \"style\", \"style\", \"style\", \"style\", \"style\", \"suitemates\", \"suitemates\", \"super\", \"super\", \"super\", \"super\", \"super\", \"super\", \"super\", \"super\", \"super\", \"super\", \"sure\", \"sure\", \"sure\", \"sure\", \"sure\", \"sure\", \"sure\", \"sure\", \"sure\", \"sure\", \"sushi\", \"sushi\", \"sushi\", \"sushi\", \"sushi\", \"sushi\", \"sushi\", \"sushi\", \"sushi\", \"sushi\", \"suxs\", \"suzanne\", \"suzanne\", \"suzanne\", \"sw\", \"sw\", \"sw\", \"sw\", \"sw\", \"sw\", \"sw\", \"sw\", \"swedish\", \"swedish\", \"swedish\", \"swedish\", \"swedish\", \"swedish\", \"swedish\", \"sweet\", \"sweet\", \"sweet\", \"sweet\", \"sweet\", \"sweet\", \"sweet\", \"sweet\", \"sweet\", \"sweet\", \"sydney\", \"sydney\", \"sydney\", \"tables\", \"tables\", \"tables\", \"tables\", \"tables\", \"tables\", \"tables\", \"tables\", \"tables\", \"tables\", \"taco\", \"taco\", \"taco\", \"taco\", \"taco\", \"taco\", \"taco\", \"taco\", \"taco\", \"taco\", \"tacos\", \"tacos\", \"tacos\", \"tacos\", \"tacos\", \"tacos\", \"tacos\", \"tacos\", \"tacos\", \"tacos\", \"taking\", \"taking\", \"taking\", \"taking\", \"taking\", \"taking\", \"taking\", \"taking\", \"taking\", \"taking\", \"talia\", \"talia\", \"tar\", \"tar\", \"tar\", \"tar\", \"tar\", \"tar\", \"tar\", \"tar\", \"tasha\", \"tastey\", \"tastey\", \"tastey\", \"tastey\", \"tastey\", \"tasty\", \"tasty\", \"tasty\", \"tasty\", \"tasty\", \"tasty\", \"tasty\", \"tasty\", \"tasty\", \"tasty\", \"tattoos\", \"tattoos\", \"tattoos\", \"tattoos\", \"tattoos\", \"tattoos\", \"tattoos\", \"tea\", \"tea\", \"tea\", \"tea\", \"tea\", \"tea\", \"tea\", \"tea\", \"tea\", \"tea\", \"tellers\", \"terrific\", \"terrific\", \"terrific\", \"terrific\", \"terrific\", \"terrific\", \"terrific\", \"terrific\", \"terrific\", \"terrific\", \"thing\", \"thing\", \"thing\", \"thing\", \"thing\", \"thing\", \"thing\", \"thing\", \"thing\", \"thing\", \"think\", \"think\", \"think\", \"think\", \"think\", \"think\", \"think\", \"think\", \"think\", \"think\", \"thought\", \"thought\", \"thought\", \"thought\", \"thought\", \"thought\", \"thought\", \"thought\", \"thought\", \"thought\", \"time\", \"time\", \"time\", \"time\", \"time\", \"time\", \"time\", \"time\", \"time\", \"time\", \"times\", \"times\", \"times\", \"times\", \"times\", \"times\", \"times\", \"times\", \"times\", \"times\", \"tipper\", \"tire\", \"tire\", \"tire\", \"tire\", \"tire\", \"tire\", \"tire\", \"tire\", \"tire\", \"tire\", \"tjx\", \"tjx\", \"told\", \"told\", \"told\", \"told\", \"told\", \"told\", \"told\", \"told\", \"told\", \"told\", \"took\", \"took\", \"took\", \"took\", \"took\", \"took\", \"took\", \"took\", \"took\", \"took\", \"topper\", \"tostones\", \"town\", \"town\", \"town\", \"town\", \"town\", \"town\", \"town\", \"town\", \"town\", \"town\", \"treadstone\", \"tried\", \"tried\", \"tried\", \"tried\", \"tried\", \"tried\", \"tried\", \"tried\", \"tried\", \"tried\", \"truly\", \"truly\", \"truly\", \"truly\", \"truly\", \"truly\", \"truly\", \"truly\", \"truly\", \"truly\", \"truvyjones\", \"truvyjones\", \"try\", \"try\", \"try\", \"try\", \"try\", \"try\", \"try\", \"try\", \"try\", \"try\", \"turn\", \"turn\", \"turn\", \"turn\", \"turn\", \"turn\", \"turn\", \"turn\", \"turn\", \"turn\", \"twilight\", \"twilight\", \"uk\", \"use\", \"use\", \"use\", \"use\", \"use\", \"use\", \"use\", \"use\", \"use\", \"use\", \"usually\", \"usually\", \"usually\", \"usually\", \"usually\", \"usually\", \"usually\", \"usually\", \"usually\", \"usually\", \"vaccinations\", \"vaccinations\", \"vaccinations\", \"vaccinations\", \"vaccinations\", \"vaccinations\", \"vaccinations\", \"vaccinations\", \"vaccinations\", \"ve\", \"ve\", \"ve\", \"ve\", \"ve\", \"ve\", \"ve\", \"ve\", \"ve\", \"ve\", \"voluminous\", \"wait\", \"wait\", \"wait\", \"wait\", \"wait\", \"wait\", \"wait\", \"wait\", \"wait\", \"wait\", \"waited\", \"waited\", \"waited\", \"waited\", \"waited\", \"waited\", \"waited\", \"waited\", \"waited\", \"waited\", \"waiting\", \"waiting\", \"waiting\", \"waiting\", \"waiting\", \"waiting\", \"waiting\", \"waiting\", \"waiting\", \"waiting\", \"walk\", \"walk\", \"walk\", \"walk\", \"walk\", \"walk\", \"walk\", \"walk\", \"walk\", \"walk\", \"walkthrough\", \"want\", \"want\", \"want\", \"want\", \"want\", \"want\", \"want\", \"want\", \"want\", \"want\", \"wanted\", \"wanted\", \"wanted\", \"wanted\", \"wanted\", \"wanted\", \"wanted\", \"wanted\", \"wanted\", \"wanted\", \"wasn\", \"wasn\", \"wasn\", \"wasn\", \"wasn\", \"wasn\", \"wasn\", \"wasn\", \"wasn\", \"wasn\", \"water\", \"water\", \"water\", \"water\", \"water\", \"water\", \"water\", \"water\", \"water\", \"water\", \"waxes\", \"waxes\", \"way\", \"way\", \"way\", \"way\", \"way\", \"way\", \"way\", \"way\", \"way\", \"way\", \"went\", \"went\", \"went\", \"went\", \"went\", \"went\", \"went\", \"went\", \"went\", \"went\", \"weren\", \"weren\", \"weren\", \"weren\", \"weren\", \"weren\", \"weren\", \"weren\", \"weren\", \"weren\", \"whimsical\", \"whimsical\", \"whimsical\", \"whimsical\", \"whimsical\", \"whimsical\", \"white\", \"white\", \"white\", \"white\", \"white\", \"white\", \"white\", \"white\", \"white\", \"white\", \"wife\", \"wife\", \"wife\", \"wife\", \"wife\", \"wife\", \"wife\", \"wife\", \"wife\", \"wife\", \"wonderful\", \"wonderful\", \"wonderful\", \"wonderful\", \"wonderful\", \"wonderful\", \"wonderful\", \"wonderful\", \"wonderful\", \"wonderful\", \"woot\", \"woot\", \"woot\", \"woot\", \"woot\", \"woot\", \"woot\", \"work\", \"work\", \"work\", \"work\", \"work\", \"work\", \"work\", \"work\", \"work\", \"work\", \"worth\", \"worth\", \"worth\", \"worth\", \"worth\", \"worth\", \"worth\", \"worth\", \"worth\", \"worth\", \"wow\", \"wow\", \"wow\", \"wow\", \"wow\", \"wow\", \"wow\", \"wow\", \"wow\", \"wow\", \"yasmin\", \"yasmin\", \"yasmin\", \"years\", \"years\", \"years\", \"years\", \"years\", \"years\", \"years\", \"years\", \"years\", \"years\", \"yes\", \"yes\", \"yes\", \"yes\", \"yes\", \"yes\", \"yes\", \"yes\", \"yes\", \"yes\", \"yuk\", \"yuk\", \"yuk\", \"yuk\", \"yuk\", \"yuk\", \"yuk\", \"yuk\", \"yuk\", \"zolton\", \"zombies\", \"zombies\", \"\\u3068\\u3066\\u3082\\u6c17\\u306b\\u5165\\u308a\\u307e\\u3057\\u305f\", \"\\u63a2\\u3057\\u305f\\u304a\\u5e97\\u3067\\u3057\\u305f\"]}, \"R\": 30, \"lambda.step\": 0.01, \"plot.opts\": {\"xlab\": \"PC1\", \"ylab\": \"PC2\"}, \"topic.order\": [5, 3, 9, 7, 10, 1, 2, 6, 4, 8]};\n",
       "\n",
       "function LDAvis_load_lib(url, callback){\n",
       "  var s = document.createElement('script');\n",
       "  s.src = url;\n",
       "  s.async = true;\n",
       "  s.onreadystatechange = s.onload = callback;\n",
       "  s.onerror = function(){console.warn(\"failed to load library \" + url);};\n",
       "  document.getElementsByTagName(\"head\")[0].appendChild(s);\n",
       "}\n",
       "\n",
       "if(typeof(LDAvis) !== \"undefined\"){\n",
       "   // already loaded: just create the visualization\n",
       "   !function(LDAvis){\n",
       "       new LDAvis(\"#\" + \"ldavis_el138561128341741929064304954\", ldavis_el138561128341741929064304954_data);\n",
       "   }(LDAvis);\n",
       "}else if(typeof define === \"function\" && define.amd){\n",
       "   // require.js is available: use it to load d3/LDAvis\n",
       "   require.config({paths: {d3: \"https://cdnjs.cloudflare.com/ajax/libs/d3/3.5.5/d3.min\"}});\n",
       "   require([\"d3\"], function(d3){\n",
       "      window.d3 = d3;\n",
       "      LDAvis_load_lib(\"https://cdn.rawgit.com/bmabey/pyLDAvis/files/ldavis.v1.0.0.js\", function(){\n",
       "        new LDAvis(\"#\" + \"ldavis_el138561128341741929064304954\", ldavis_el138561128341741929064304954_data);\n",
       "      });\n",
       "    });\n",
       "}else{\n",
       "    // require.js not available: dynamically load d3 & LDAvis\n",
       "    LDAvis_load_lib(\"https://cdnjs.cloudflare.com/ajax/libs/d3/3.5.5/d3.min.js\", function(){\n",
       "         LDAvis_load_lib(\"https://cdn.rawgit.com/bmabey/pyLDAvis/files/ldavis.v1.0.0.js\", function(){\n",
       "                 new LDAvis(\"#\" + \"ldavis_el138561128341741929064304954\", ldavis_el138561128341741929064304954_data);\n",
       "            })\n",
       "         });\n",
       "}\n",
       "</script>"
      ],
      "text/plain": [
       "PreparedData(topic_coordinates=              x         y  topics  cluster       Freq\n",
       "topic                                                \n",
       "4      0.003996 -0.002655       1        1  10.629053\n",
       "2     -0.001165 -0.003559       2        1  10.358079\n",
       "8     -0.002081  0.000965       3        1  10.313624\n",
       "6     -0.003405 -0.001805       4        1  10.041327\n",
       "9     -0.000129  0.003415       5        1   9.939195\n",
       "0     -0.003668 -0.001845       6        1   9.894750\n",
       "1     -0.000661  0.004121       7        1   9.834784\n",
       "5      0.002688 -0.001723       8        1   9.708451\n",
       "3      0.004519  0.000790       9        1   9.678023\n",
       "7     -0.000093  0.002296      10        1   9.602718, topic_info=     Category         Freq        Term        Total  loglift  logprob\n",
       "40    Default  4456.000000        good  4456.000000  30.0000  30.0000\n",
       "208   Default  4125.000000       great  4125.000000  29.0000  29.0000\n",
       "735   Default  1588.000000        love  1588.000000  28.0000  28.0000\n",
       "45    Default  3502.000000     service  3502.000000  27.0000  27.0000\n",
       "122   Default  1751.000000        best  1751.000000  26.0000  26.0000\n",
       "144   Default  4757.000000        food  4757.000000  25.0000  25.0000\n",
       "75    Default  1986.000000         got  1986.000000  24.0000  24.0000\n",
       "359   Default  1194.000000   delicious  1194.000000  23.0000  23.0000\n",
       "192   Default  1313.000000     amazing  1313.000000  22.0000  22.0000\n",
       "18    Default  3331.000000        like  3331.000000  21.0000  21.0000\n",
       "235   Default  1071.000000         way  1071.000000  20.0000  20.0000\n",
       "46    Default  1505.000000       staff  1505.000000  19.0000  19.0000\n",
       "103   Default   923.000000        room   923.000000  18.0000  18.0000\n",
       "651   Default  1331.000000  restaurant  1331.000000  17.0000  17.0000\n",
       "184   Default  1122.000000   recommend  1122.000000  16.0000  16.0000\n",
       "36    Default   941.000000        wait   941.000000  15.0000  15.0000\n",
       "207   Default  1106.000000       going  1106.000000  14.0000  14.0000\n",
       "1266  Default  1488.000000     ordered  1488.000000  13.0000  13.0000\n",
       "156   Default  1021.000000      pretty  1021.000000  12.0000  12.0000\n",
       "115   Default  1858.000000          ve  1858.000000  11.0000  11.0000\n",
       "117   Default  1433.000000        went  1433.000000  10.0000  10.0000\n",
       "157   Default   873.000000       price   873.000000   9.0000   9.0000\n",
       "264   Default  1250.000000  experience  1250.000000   8.0000   8.0000\n",
       "85    Default   724.000000        long   724.000000   7.0000   7.0000\n",
       "812   Default   675.000000       store   675.000000   6.0000   6.0000\n",
       "37    Default  1440.000000        came  1440.000000   5.0000   5.0000\n",
       "421   Default   808.000000       asked   808.000000   4.0000   4.0000\n",
       "381   Default  1372.000000      little  1372.000000   3.0000   3.0000\n",
       "34    Default  3303.000000        time  3303.000000   2.0000   2.0000\n",
       "403   Default   656.000000      server   656.000000   1.0000   1.0000\n",
       "...       ...          ...         ...          ...      ...      ...\n",
       "157   Topic10   103.949951       price   873.516663   0.2145  -6.0956\n",
       "115   Topic10   203.334549          ve  1858.171509   0.1306  -5.4246\n",
       "771   Topic10    67.124077       cream   536.962341   0.2637  -6.5329\n",
       "1066  Topic10   127.611382         new  1118.006226   0.1728  -5.8905\n",
       "144   Topic10   448.598175        food  4757.612305  -0.0182  -4.6333\n",
       "535   Topic10   105.336960        work   907.997986   0.1890  -6.0823\n",
       "359   Topic10   130.836578   delicious  1194.423340   0.1317  -5.8655\n",
       "192   Topic10   141.456299     amazing  1313.445312   0.1147  -5.7875\n",
       "735   Topic10   165.618988        love  1588.037109   0.0826  -5.6298\n",
       "426   Topic10   122.100777      better  1116.344727   0.1302  -5.9346\n",
       "133   Topic10   377.668243       place  4559.434082  -0.1478  -4.8055\n",
       "45    Topic10   302.604065     service  3502.531982  -0.1057  -5.0270\n",
       "726   Topic10    74.844337        feel   643.540283   0.1915  -6.4241\n",
       "246   Topic10   112.111122       right  1055.757202   0.1006  -6.0200\n",
       "180   Topic10   122.143433        menu  1193.154175   0.0640  -5.9343\n",
       "358   Topic10   138.044128  definitely  1395.530273   0.0297  -5.8119\n",
       "208   Topic10   321.293518       great  4125.941406  -0.2096  -4.9671\n",
       "46    Topic10   146.314301       staff  1505.979370   0.0117  -5.7537\n",
       "131   Topic10   135.051193      people  1382.909058   0.0168  -5.8338\n",
       "421   Topic10    88.853333       asked   808.822449   0.1345  -6.2525\n",
       "310   Topic10   129.428833         try  1400.801636  -0.0385  -5.8763\n",
       "92    Topic10   146.279251        nice  1689.161987  -0.1033  -5.7540\n",
       "75    Topic10   158.503250         got  1986.972656  -0.1855  -5.6737\n",
       "478   Topic10   113.359818        know  1174.563477   0.0050  -6.0089\n",
       "117   Topic10   125.963165        went  1433.043213  -0.0884  -5.9035\n",
       "39    Topic10   116.623070    friendly  1336.647339  -0.0958  -5.9805\n",
       "1277  Topic10   116.364113     chicken  1344.316772  -0.1038  -5.9827\n",
       "122   Topic10   122.247719        best  1751.186768  -0.3189  -5.9334\n",
       "381   Topic10   114.716423      little  1372.408691  -0.1387  -5.9970\n",
       "387   Topic10   114.745720       order  1449.193359  -0.1929  -5.9968\n",
       "\n",
       "[858 rows x 6 columns], token_table=       Topic      Freq        Term\n",
       "term                              \n",
       "11956      2  0.226617       aaron\n",
       "11956      4  0.226617       aaron\n",
       "11956     10  0.226617       aaron\n",
       "190        1  0.095698  absolutely\n",
       "190        2  0.122690  absolutely\n",
       "190        3  0.085883  absolutely\n",
       "190        4  0.139867  absolutely\n",
       "190        5  0.098152  absolutely\n",
       "190        6  0.103060  absolutely\n",
       "190        7  0.063799  absolutely\n",
       "190        8  0.078522  absolutely\n",
       "190        9  0.122690  absolutely\n",
       "190       10  0.088337  absolutely\n",
       "2925       1  0.127136   accepting\n",
       "2925       3  0.127136   accepting\n",
       "2925       4  0.127136   accepting\n",
       "2925       6  0.254272   accepting\n",
       "2925       8  0.254272   accepting\n",
       "2925      10  0.127136   accepting\n",
       "3077       1  0.174515  acrobatics\n",
       "3077       3  0.174515  acrobatics\n",
       "3077       4  0.174515  acrobatics\n",
       "3077       5  0.174515  acrobatics\n",
       "3077      10  0.174515  acrobatics\n",
       "24868      4  0.323418        ahve\n",
       "24868      5  0.323418        ahve\n",
       "8163       3  0.203415   ahwatukee\n",
       "8163       4  0.203415   ahwatukee\n",
       "24272      4  0.323738        aims\n",
       "24272      7  0.323738        aims\n",
       "...      ...       ...         ...\n",
       "766        5  0.128312       years\n",
       "766        6  0.097838       years\n",
       "766        7  0.097838       years\n",
       "766        8  0.096234       years\n",
       "766        9  0.107461       years\n",
       "766       10  0.089818       years\n",
       "538        1  0.116970         yes\n",
       "538        2  0.092769         yes\n",
       "538        3  0.096802         yes\n",
       "538        4  0.080669         yes\n",
       "538        5  0.080669         yes\n",
       "538        6  0.092769         yes\n",
       "538        7  0.112936         yes\n",
       "538        8  0.072602         yes\n",
       "538        9  0.149237         yes\n",
       "538       10  0.112936         yes\n",
       "13097      1  0.065041         yuk\n",
       "13097      2  0.130083         yuk\n",
       "13097      3  0.032521         yuk\n",
       "13097      4  0.032521         yuk\n",
       "13097      5  0.032521         yuk\n",
       "13097      6  0.032521         yuk\n",
       "13097      7  0.130083         yuk\n",
       "13097      8  0.130083         yuk\n",
       "13097     10  0.357728         yuk\n",
       "24102      9  0.323262      zolton\n",
       "13549      2  0.226726     zombies\n",
       "13549      3  0.226726     zombies\n",
       "21303      5  0.619187  とても気に入りました\n",
       "21304      5  0.619333    探したお店でした\n",
       "\n",
       "[2816 rows x 3 columns], R=30, lambda_step=0.01, plot_opts={'xlab': 'PC1', 'ylab': 'PC2'}, topic_order=[5, 3, 9, 7, 10, 1, 2, 6, 4, 8])"
      ]
     },
     "execution_count": 42,
     "metadata": {},
     "output_type": "execute_result"
    }
   ],
   "source": [
    "pyLDAvis.enable_notebook()\n",
    "\n",
    "pyLDAvis.gensim.prepare(lda, corpus, id2word)"
   ]
  },
  {
   "cell_type": "code",
   "execution_count": 43,
   "metadata": {},
   "outputs": [],
   "source": [
    "# Find coherence scores\n",
    "def compute_coherence_values(dictionary, corpus, df, token_col, limit, start=2, step=3, passes=5):\n",
    "    \"\"\"\n",
    "    Compute c_v coherence for various number of topics\n",
    "\n",
    "    Parameters:\n",
    "    ----------\n",
    "    dictionary : Gensim dictionary\n",
    "    corpus : Gensim corpus\n",
    "    path : path to input texts\n",
    "    limit : Max num of topics\n",
    "    passes: the number of times the entire lda model & coherence values are calculated\n",
    "\n",
    "    Returns:\n",
    "    -------\n",
    "    coherence_values : Coherence values corresponding to the LDA model with respective number of topics\n",
    "    \"\"\"\n",
    "    \n",
    "    coherence_values = []\n",
    "    model_list = []\n",
    "    \n",
    "    tokens = list(get_reviews(df, token_col))\n",
    "    \n",
    "    # for iter_ in range(passes):\n",
    "    for num_topics in range(start, limit, step):\n",
    "        stream = get_reviews(df, token_col)\n",
    "        model = LdaMulticore(corpus=corpus, \n",
    "                             num_topics=num_topics, \n",
    "                             id2word=dictionary, \n",
    "                             workers=4)\n",
    "        model_list.append(model)\n",
    "        coherencemodel = CoherenceModel(model=model, \n",
    "                                        texts=df[token_col], \n",
    "                                        dictionary=dictionary, \n",
    "                                        corpus=corpus, \n",
    "                                        coherence='c_v')\n",
    "        coherence_values.append({\n",
    "            'num_topics': num_topics,\n",
    "            'coherence_score': coherencemodel.get_coherence()\n",
    "                                })\n",
    "\n",
    "    return model_list, coherence_values"
   ]
  },
  {
   "cell_type": "code",
   "execution_count": 45,
   "metadata": {},
   "outputs": [],
   "source": [
    "model_list, coherence_values = compute_coherence_values(dictionary=id2word, \n",
    "                                                        corpus=corpus, \n",
    "                                                        df=yelp, \n",
    "                                                        token_col='tokens', \n",
    "                                                        start=2, \n",
    "                                                        limit=10)"
   ]
  },
  {
   "cell_type": "code",
   "execution_count": 46,
   "metadata": {},
   "outputs": [],
   "source": [
    "cv_list = [d['coherence_score'] for d in coherence_values]"
   ]
  },
  {
   "cell_type": "code",
   "execution_count": 51,
   "metadata": {},
   "outputs": [
    {
     "data": {
      "text/plain": [
       "3"
      ]
     },
     "execution_count": 51,
     "metadata": {},
     "output_type": "execute_result"
    }
   ],
   "source": [
    "len(cv_list)"
   ]
  },
  {
   "cell_type": "code",
   "execution_count": 47,
   "metadata": {},
   "outputs": [
    {
     "data": {
      "text/html": [
       "<div>\n",
       "<style scoped>\n",
       "    .dataframe tbody tr th:only-of-type {\n",
       "        vertical-align: middle;\n",
       "    }\n",
       "\n",
       "    .dataframe tbody tr th {\n",
       "        vertical-align: top;\n",
       "    }\n",
       "\n",
       "    .dataframe thead th {\n",
       "        text-align: right;\n",
       "    }\n",
       "</style>\n",
       "<table border=\"1\" class=\"dataframe\">\n",
       "  <thead>\n",
       "    <tr style=\"text-align: right;\">\n",
       "      <th></th>\n",
       "      <th>coherence_score</th>\n",
       "      <th>num_topics</th>\n",
       "    </tr>\n",
       "  </thead>\n",
       "  <tbody>\n",
       "    <tr>\n",
       "      <th>0</th>\n",
       "      <td>0.372084</td>\n",
       "      <td>2</td>\n",
       "    </tr>\n",
       "    <tr>\n",
       "      <th>1</th>\n",
       "      <td>0.348524</td>\n",
       "      <td>5</td>\n",
       "    </tr>\n",
       "    <tr>\n",
       "      <th>2</th>\n",
       "      <td>0.350477</td>\n",
       "      <td>8</td>\n",
       "    </tr>\n",
       "  </tbody>\n",
       "</table>\n",
       "</div>"
      ],
      "text/plain": [
       "   coherence_score  num_topics\n",
       "0         0.372084           2\n",
       "1         0.348524           5\n",
       "2         0.350477           8"
      ]
     },
     "execution_count": 47,
     "metadata": {},
     "output_type": "execute_result"
    }
   ],
   "source": [
    "topic_coherence = pd.DataFrame.from_records(coherence_values)\n",
    "topic_coherence.head()"
   ]
  },
  {
   "cell_type": "code",
   "execution_count": 50,
   "metadata": {},
   "outputs": [
    {
     "data": {
      "image/png": "[encoded data removed]",
      "text/plain": [
       "<Figure size 432x288 with 1 Axes>"
      ]
     },
     "metadata": {
      "needs_background": "light"
     },
     "output_type": "display_data"
    }
   ],
   "source": [
    "import seaborn as sns\n",
    "ax = sns.lineplot(x=\"num_topics\", y=\"coherence_score\", data=topic_coherence);"
   ]
  },
  {
   "cell_type": "markdown",
   "metadata": {},
   "source": [
    "## Findings\n",
    "- Based on the data, it appears that a majority of people are posting positively about their dining experiences. That being said, it is uncertain whether removing sentiment words like \"good\" or \"great\" will render a more accurate analysis because we would also have to remove their opposites, which appear in the data far less frequently. More research is required.\n",
    "\n",
    "- Additionally, coherence score is difficult to interpret. Different methods, like 'c_v' and 'u_mass', cannot be compared in the same way as RMSE & MAE. Optimizing for coherence will also require additional methods."
   ]
  },
  {
   "cell_type": "markdown",
   "metadata": {},
   "source": [
    "## Stretch Goals\n",
    "\n",
    "Complete one of more of these to push your score towards a three: \n",
    "* Incorporate named entity recognition into your analysis\n",
    "* Compare vectorization methods in the classification section\n",
    "* Analyze more (or all) of the yelp dataset - this one is v. hard. \n",
    "* Use a generator object on the reviews file - this would help you with the analyzing the whole dataset.\n",
    "* Incorporate any of the other yelp dataset entities in your analysis (business, users, etc.)"
   ]
  }
 ],
 "metadata": {
  "kernel_info": {
   "name": "u4-s1-nlp"
  },
  "kernelspec": {
   "display_name": "u4s1env(python3)",
   "language": "python",
   "name": "u4s1env"
  },
  "language_info": {
   "codemirror_mode": {
    "name": "ipython",
    "version": 3
   },
   "file_extension": ".py",
   "mimetype": "text/x-python",
   "name": "python",
   "nbconvert_exporter": "python",
   "pygments_lexer": "ipython3",
   "version": "3.7.3"
  },
  "nteract": {
   "version": "0.14.5"
  },
  "toc-autonumbering": false
 },
 "nbformat": 4,
 "nbformat_minor": 2
}
