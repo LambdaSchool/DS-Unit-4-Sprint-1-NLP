{
 "cells": [
  {
   "cell_type": "markdown",
   "metadata": {},
   "source": [
    "<img align=\"left\" src=\"https://lever-client-logos.s3.amazonaws.com/864372b1-534c-480e-acd5-9711f850815c-1524247202159.png\" width=200>\n",
    "<br></br>\n",
    "<br></br>\n",
    "\n",
    "# Natural Language Processing (NLP)\n",
    "## *Data Science Unit 4 Sprint 1 Assignment 1*\n",
    "\n",
    "Your goal in this assignment: find the attributes of the best & worst coffee shops in the dataset. The text is fairly raw: dates in the review, extra words in the `star_rating` column, etc. You'll probably want to clean that stuff up for a better analysis. \n",
    "\n",
    "Analyze the corpus of text using text visualizations of token frequency. Try cleaning the data as much as possible. Try the following techniques: \n",
    "- Lemmatization\n",
    "- Custom stopword removal\n",
    "\n",
    "Keep in mind the attributes of good tokens. Once you have a solid baseline, layer in the star rating in your visualization(s). Key part of this assignment - produce a write-up of the attributes of the best and worst coffee shops. Based on your analysis, what makes the best the best and the worst the worst. Use graphs and numbesr from your analysis to support your conclusions. There should be plenty of markdown cells! :coffee:"
   ]
  },
  {
   "cell_type": "code",
   "execution_count": 5,
   "metadata": {},
   "outputs": [],
   "source": [
    "# Import Required Libariries\n",
    "import pandas as pd\n",
    "from collections import Counter\n",
    "\n",
    "# Plotting\n",
    "import squarify\n",
    "import matplotlib.pyplot as plt\n",
    "import seaborn as sns\n",
    "\n",
    "# NLP Libraries\n",
    "import re\n",
    "from nltk.stem import PorterStemmer\n",
    "import spacy\n",
    "from spacy.tokenizer import Tokenizer"
   ]
  },
  {
   "cell_type": "code",
   "execution_count": 6,
   "metadata": {},
   "outputs": [
    {
     "data": {
      "image/jpeg": "[encoded data removed]",
      "text/html": [
       "\n",
       "        <iframe\n",
       "            width=\"400\"\n",
       "            height=\"300\"\n",
       "            src=\"https://www.youtube.com/embed/Jml7NVYm8cs\"\n",
       "            frameborder=\"0\"\n",
       "            allowfullscreen\n",
       "        ></iframe>\n",
       "        "
      ],
      "text/plain": [
       "<IPython.lib.display.YouTubeVideo at 0x119c9beb8>"
      ]
     },
     "execution_count": 6,
     "metadata": {},
     "output_type": "execute_result"
    }
   ],
   "source": [
    "from IPython.display import YouTubeVideo\n",
    "\n",
    "YouTubeVideo('Jml7NVYm8cs')"
   ]
  },
  {
   "cell_type": "code",
   "execution_count": 7,
   "metadata": {},
   "outputs": [
    {
     "data": {
      "text/plain": [
       "'/Users/rubyclaguna/Desktop/Sprint_4.1/module1-text-data'"
      ]
     },
     "execution_count": 7,
     "metadata": {},
     "output_type": "execute_result"
    }
   ],
   "source": [
    "%pwd"
   ]
  },
  {
   "cell_type": "code",
   "execution_count": 8,
   "metadata": {},
   "outputs": [
    {
     "data": {
      "text/html": [
       "<div>\n",
       "<style scoped>\n",
       "    .dataframe tbody tr th:only-of-type {\n",
       "        vertical-align: middle;\n",
       "    }\n",
       "\n",
       "    .dataframe tbody tr th {\n",
       "        vertical-align: top;\n",
       "    }\n",
       "\n",
       "    .dataframe thead th {\n",
       "        text-align: right;\n",
       "    }\n",
       "</style>\n",
       "<table border=\"1\" class=\"dataframe\">\n",
       "  <thead>\n",
       "    <tr style=\"text-align: right;\">\n",
       "      <th></th>\n",
       "      <th>coffee_shop_name</th>\n",
       "      <th>full_review_text</th>\n",
       "      <th>star_rating</th>\n",
       "    </tr>\n",
       "  </thead>\n",
       "  <tbody>\n",
       "    <tr>\n",
       "      <th>0</th>\n",
       "      <td>The Factory - Cafe With a Soul</td>\n",
       "      <td>11/25/2016 1 check-in Love love loved the atm...</td>\n",
       "      <td>5.0 star rating</td>\n",
       "    </tr>\n",
       "    <tr>\n",
       "      <th>1</th>\n",
       "      <td>The Factory - Cafe With a Soul</td>\n",
       "      <td>12/2/2016 Listed in Date Night: Austin, Ambia...</td>\n",
       "      <td>4.0 star rating</td>\n",
       "    </tr>\n",
       "    <tr>\n",
       "      <th>2</th>\n",
       "      <td>The Factory - Cafe With a Soul</td>\n",
       "      <td>11/30/2016 1 check-in Listed in Brunch Spots ...</td>\n",
       "      <td>4.0 star rating</td>\n",
       "    </tr>\n",
       "    <tr>\n",
       "      <th>3</th>\n",
       "      <td>The Factory - Cafe With a Soul</td>\n",
       "      <td>11/25/2016 Very cool decor! Good drinks Nice ...</td>\n",
       "      <td>2.0 star rating</td>\n",
       "    </tr>\n",
       "    <tr>\n",
       "      <th>4</th>\n",
       "      <td>The Factory - Cafe With a Soul</td>\n",
       "      <td>12/3/2016 1 check-in They are located within ...</td>\n",
       "      <td>4.0 star rating</td>\n",
       "    </tr>\n",
       "  </tbody>\n",
       "</table>\n",
       "</div>"
      ],
      "text/plain": [
       "                  coffee_shop_name  \\\n",
       "0  The Factory - Cafe With a Soul    \n",
       "1  The Factory - Cafe With a Soul    \n",
       "2  The Factory - Cafe With a Soul    \n",
       "3  The Factory - Cafe With a Soul    \n",
       "4  The Factory - Cafe With a Soul    \n",
       "\n",
       "                                    full_review_text        star_rating  \n",
       "0   11/25/2016 1 check-in Love love loved the atm...   5.0 star rating   \n",
       "1   12/2/2016 Listed in Date Night: Austin, Ambia...   4.0 star rating   \n",
       "2   11/30/2016 1 check-in Listed in Brunch Spots ...   4.0 star rating   \n",
       "3   11/25/2016 Very cool decor! Good drinks Nice ...   2.0 star rating   \n",
       "4   12/3/2016 1 check-in They are located within ...   4.0 star rating   "
      ]
     },
     "execution_count": 8,
     "metadata": {},
     "output_type": "execute_result"
    }
   ],
   "source": [
    "import pandas as pd\n",
    "\n",
    "url = \"https://raw.githubusercontent.com/LambdaSchool/DS-Unit-4-Sprint-1-NLP/master/module1-text-data/data/yelp_coffeeshop_review_data.csv\"\n",
    "\n",
    "df = pd.read_csv(url)\n",
    "df.head()"
   ]
  },
  {
   "cell_type": "code",
   "execution_count": 9,
   "metadata": {},
   "outputs": [],
   "source": [
    "# remove \"star rating\" str from column star_rating\n",
    "df['star_rating'] = df['star_rating'].str.replace('star rating', '')"
   ]
  },
  {
   "cell_type": "code",
   "execution_count": 10,
   "metadata": {},
   "outputs": [
    {
     "data": {
      "text/html": [
       "<div>\n",
       "<style scoped>\n",
       "    .dataframe tbody tr th:only-of-type {\n",
       "        vertical-align: middle;\n",
       "    }\n",
       "\n",
       "    .dataframe tbody tr th {\n",
       "        vertical-align: top;\n",
       "    }\n",
       "\n",
       "    .dataframe thead th {\n",
       "        text-align: right;\n",
       "    }\n",
       "</style>\n",
       "<table border=\"1\" class=\"dataframe\">\n",
       "  <thead>\n",
       "    <tr style=\"text-align: right;\">\n",
       "      <th></th>\n",
       "      <th>coffee_shop_name</th>\n",
       "      <th>full_review_text</th>\n",
       "      <th>star_rating</th>\n",
       "    </tr>\n",
       "  </thead>\n",
       "  <tbody>\n",
       "    <tr>\n",
       "      <th>0</th>\n",
       "      <td>The Factory - Cafe With a Soul</td>\n",
       "      <td>11/25/2016 1 check-in Love love loved the atm...</td>\n",
       "      <td>5.0</td>\n",
       "    </tr>\n",
       "    <tr>\n",
       "      <th>1</th>\n",
       "      <td>The Factory - Cafe With a Soul</td>\n",
       "      <td>12/2/2016 Listed in Date Night: Austin, Ambia...</td>\n",
       "      <td>4.0</td>\n",
       "    </tr>\n",
       "    <tr>\n",
       "      <th>2</th>\n",
       "      <td>The Factory - Cafe With a Soul</td>\n",
       "      <td>11/30/2016 1 check-in Listed in Brunch Spots ...</td>\n",
       "      <td>4.0</td>\n",
       "    </tr>\n",
       "    <tr>\n",
       "      <th>3</th>\n",
       "      <td>The Factory - Cafe With a Soul</td>\n",
       "      <td>11/25/2016 Very cool decor! Good drinks Nice ...</td>\n",
       "      <td>2.0</td>\n",
       "    </tr>\n",
       "    <tr>\n",
       "      <th>4</th>\n",
       "      <td>The Factory - Cafe With a Soul</td>\n",
       "      <td>12/3/2016 1 check-in They are located within ...</td>\n",
       "      <td>4.0</td>\n",
       "    </tr>\n",
       "  </tbody>\n",
       "</table>\n",
       "</div>"
      ],
      "text/plain": [
       "                  coffee_shop_name  \\\n",
       "0  The Factory - Cafe With a Soul    \n",
       "1  The Factory - Cafe With a Soul    \n",
       "2  The Factory - Cafe With a Soul    \n",
       "3  The Factory - Cafe With a Soul    \n",
       "4  The Factory - Cafe With a Soul    \n",
       "\n",
       "                                    full_review_text star_rating  \n",
       "0   11/25/2016 1 check-in Love love loved the atm...       5.0    \n",
       "1   12/2/2016 Listed in Date Night: Austin, Ambia...       4.0    \n",
       "2   11/30/2016 1 check-in Listed in Brunch Spots ...       4.0    \n",
       "3   11/25/2016 Very cool decor! Good drinks Nice ...       2.0    \n",
       "4   12/3/2016 1 check-in They are located within ...       4.0    "
      ]
     },
     "execution_count": 10,
     "metadata": {},
     "output_type": "execute_result"
    }
   ],
   "source": [
    "df.head()"
   ]
  },
  {
   "cell_type": "code",
   "execution_count": 11,
   "metadata": {},
   "outputs": [
    {
     "data": {
      "text/plain": [
       " 5.0      3780\n",
       " 4.0      2360\n",
       " 3.0       738\n",
       " 2.0       460\n",
       " 1.0       278\n",
       "Name: star_rating, dtype: int64"
      ]
     },
     "execution_count": 11,
     "metadata": {},
     "output_type": "execute_result"
    }
   ],
   "source": [
    "df['star_rating'].value_counts()"
   ]
  },
  {
   "cell_type": "code",
   "execution_count": 12,
   "metadata": {},
   "outputs": [
    {
     "data": {
      "text/plain": [
       "coffee_shop_name    object\n",
       "full_review_text    object\n",
       "star_rating         object\n",
       "dtype: object"
      ]
     },
     "execution_count": 12,
     "metadata": {},
     "output_type": "execute_result"
    }
   ],
   "source": [
    "df.dtypes"
   ]
  },
  {
   "cell_type": "code",
   "execution_count": 13,
   "metadata": {},
   "outputs": [],
   "source": [
    "# convert star_rating column to float \n",
    "df['star_rating'] = df['star_rating'].astype(float)"
   ]
  },
  {
   "cell_type": "code",
   "execution_count": 14,
   "metadata": {},
   "outputs": [
    {
     "data": {
      "text/plain": [
       "coffee_shop_name     object\n",
       "full_review_text     object\n",
       "star_rating         float64\n",
       "dtype: object"
      ]
     },
     "execution_count": 14,
     "metadata": {},
     "output_type": "execute_result"
    }
   ],
   "source": [
    "df.dtypes"
   ]
  },
  {
   "cell_type": "code",
   "execution_count": 15,
   "metadata": {},
   "outputs": [],
   "source": [
    "nlp = spacy.load(\"en_core_web_lg\")\n",
    "tokenizer = Tokenizer(nlp.vocab)"
   ]
  },
  {
   "cell_type": "code",
   "execution_count": 16,
   "metadata": {},
   "outputs": [
    {
     "data": {
      "text/html": [
       "<div>\n",
       "<style scoped>\n",
       "    .dataframe tbody tr th:only-of-type {\n",
       "        vertical-align: middle;\n",
       "    }\n",
       "\n",
       "    .dataframe tbody tr th {\n",
       "        vertical-align: top;\n",
       "    }\n",
       "\n",
       "    .dataframe thead th {\n",
       "        text-align: right;\n",
       "    }\n",
       "</style>\n",
       "<table border=\"1\" class=\"dataframe\">\n",
       "  <thead>\n",
       "    <tr style=\"text-align: right;\">\n",
       "      <th></th>\n",
       "      <th>coffee_shop_name</th>\n",
       "      <th>full_review_text</th>\n",
       "      <th>star_rating</th>\n",
       "      <th>tokens</th>\n",
       "    </tr>\n",
       "  </thead>\n",
       "  <tbody>\n",
       "    <tr>\n",
       "      <th>0</th>\n",
       "      <td>The Factory - Cafe With a Soul</td>\n",
       "      <td>11/25/2016 1 check-in Love love loved the atm...</td>\n",
       "      <td>5.0</td>\n",
       "      <td>[ , 11/25/2016, 1, check-in, Love, love, loved...</td>\n",
       "    </tr>\n",
       "    <tr>\n",
       "      <th>1</th>\n",
       "      <td>The Factory - Cafe With a Soul</td>\n",
       "      <td>12/2/2016 Listed in Date Night: Austin, Ambia...</td>\n",
       "      <td>4.0</td>\n",
       "      <td>[ , 12/2/2016, Listed, in, Date, Night:, Austi...</td>\n",
       "    </tr>\n",
       "    <tr>\n",
       "      <th>2</th>\n",
       "      <td>The Factory - Cafe With a Soul</td>\n",
       "      <td>11/30/2016 1 check-in Listed in Brunch Spots ...</td>\n",
       "      <td>4.0</td>\n",
       "      <td>[ , 11/30/2016, 1, check-in, Listed, in, Brunc...</td>\n",
       "    </tr>\n",
       "    <tr>\n",
       "      <th>3</th>\n",
       "      <td>The Factory - Cafe With a Soul</td>\n",
       "      <td>11/25/2016 Very cool decor! Good drinks Nice ...</td>\n",
       "      <td>2.0</td>\n",
       "      <td>[ , 11/25/2016, Very, cool, decor!, Good, drin...</td>\n",
       "    </tr>\n",
       "    <tr>\n",
       "      <th>4</th>\n",
       "      <td>The Factory - Cafe With a Soul</td>\n",
       "      <td>12/3/2016 1 check-in They are located within ...</td>\n",
       "      <td>4.0</td>\n",
       "      <td>[ , 12/3/2016, 1, check-in, They, are, located...</td>\n",
       "    </tr>\n",
       "  </tbody>\n",
       "</table>\n",
       "</div>"
      ],
      "text/plain": [
       "                  coffee_shop_name  \\\n",
       "0  The Factory - Cafe With a Soul    \n",
       "1  The Factory - Cafe With a Soul    \n",
       "2  The Factory - Cafe With a Soul    \n",
       "3  The Factory - Cafe With a Soul    \n",
       "4  The Factory - Cafe With a Soul    \n",
       "\n",
       "                                    full_review_text  star_rating  \\\n",
       "0   11/25/2016 1 check-in Love love loved the atm...          5.0   \n",
       "1   12/2/2016 Listed in Date Night: Austin, Ambia...          4.0   \n",
       "2   11/30/2016 1 check-in Listed in Brunch Spots ...          4.0   \n",
       "3   11/25/2016 Very cool decor! Good drinks Nice ...          2.0   \n",
       "4   12/3/2016 1 check-in They are located within ...          4.0   \n",
       "\n",
       "                                              tokens  \n",
       "0  [ , 11/25/2016, 1, check-in, Love, love, loved...  \n",
       "1  [ , 12/2/2016, Listed, in, Date, Night:, Austi...  \n",
       "2  [ , 11/30/2016, 1, check-in, Listed, in, Brunc...  \n",
       "3  [ , 11/25/2016, Very, cool, decor!, Good, drin...  \n",
       "4  [ , 12/3/2016, 1, check-in, They, are, located...  "
      ]
     },
     "execution_count": 16,
     "metadata": {},
     "output_type": "execute_result"
    }
   ],
   "source": [
    "# tokenize full_review_text, add column\n",
    "tokenizer = Tokenizer(nlp.vocab)\n",
    "\n",
    "tokens = []\n",
    "\n",
    "for doc in tokenizer.pipe(shops['full_review_text']):\n",
    "    doc_tokens = [token.text for token in doc]\n",
    "    tokens.append(doc_tokens)\n",
    "\n",
    "df['tokens'] = tokens\n",
    "\n",
    "df.head()"
   ]
  },
  {
   "cell_type": "code",
   "execution_count": 17,
   "metadata": {},
   "outputs": [
    {
     "data": {
      "text/plain": [
       " 11/10/2016 3 check-ins This place has been shown on my social media for days so i finally visited! One of THE cutest and artistic looking coffeeshops I have ever visited. You can self order which is nice because you can take your time and look at the pictures to help you decide! I especially liked how pictures were shown so I knew which coffee/tea came out aesthetically  I ordered the famous matcha green latte and i dont usually drink coffee but it went beyond my expectations. They give you a good amount and its creamy and sweet. Only downside is no wifi.. So hard to study here. Matcha green tea and living la vida mocha Matcha green tea latte Interior design See all photos from Sarah L. for The Factory - Cafe With a Soul                                                                                                                                                                                                                                                                                                                                                                                                                                                                                                                                                                                                                                                                                                                                                                                                                                                                                                                                                                                                                                                                                                                                                               0.000525\n",
       " 10/7/2016 Love the Factory. Good coffee, tasty chicken and waffles and awesome atmosphere. Definitely recommend the Nutella waffle.                                                                                                                                                                                                                                                                                                                                                                                                                                                                                                                                                                                                                                                                                                                                                                                                                                                                                                                                                                                                                                                                                                                                                                                                                                                                                                                                                                                                                                                                                                                                                                                                                                                                                                                                                                                      0.000525\n",
       " 10/25/2016 1 check-in Ok, let's try this approach...  Pros: Music Seating Decor General ambiance Service  Cons: iPad ordering (I'm a crotchety old man, kids) Limited coffee menu, or menu in general Relatively expensive Food is pretty but lackluster  I'm still sitting here as I type this and I'm less than overjoyed with the experience, sadly. The space and vibe are great but not quite familiar or intimate enough to beat out a place like Genuine Joe down the street. It seems like they bank on the vibe, and fall short the rest of the way. (This would be a great hangout for the artsy/design crowd having a collaborative meeting.)  The staff is great but the iPad ordering system limits your required interaction with them. They take pride in no wifi to increase interaction but then use iPads instead of people?  Seating is ample, if cramped in a surprisingly large space.  But the food, kids. So pretty, but again lackluster. I tried the Pop+art ($5) and the Nutella Waffle ($4.75) and they both sit on their respective tiny awkward plates half eaten. (Yes the plate liners are cute) The waffle is a great idea but the waffle itself  has no flavor and there's no delight. The tart is similar - the pastry crust is much too thick compared to the Smuckers jam tasting filling and it is essentially just pure sugar. The pastry itself doesn't even taste buttery or crisp. Meh. There appears to be no soul in this confectionary.  Coffee- passable. But at $4 for a cortado and a $1.50 up-charge for almond milk- I'll pick another place.  I get why the reviews are so good here, but there are much better places nearby for that \"cafe with a soul\" feel. This feels like an ACL pop-up. Going for that?  Great, come here. Pop+art and Cortado Emailed receipt and satisfaction survey. See all photos from Kimberlee A. for The Factory - Cafe With a Soul     0.000525\n",
       " 11/10/2016 7 check-ins The Factory Cafe is overall such a beautiful and really cool place to just hang out with friends or work on homework. You'll probably see the people around you taking the time to perfect their aesthetic Instagram pictures and Snapchat stories (myself included). Although the cafe itself doesn't provide wifi, it's within range of other places with wifi so that shouldn't deter you from going! This place looks like it literally came straight off of Pinterest! So cute!                                                                                                                                                                                                                                                                                                                                                                                                                                                                                                                                                                                                                                                                                                                                                                                                                                                                                                                                                                                                                                                                                                                                                                                                                                                                                                                                                                                                              0.000525\n",
       " 11/6/2016 Really love the atmosphere here! I frequent coffee shops and this one is definitely unique and worth checking out.  Pros: great atmosphere Friendly staff Good hangout/ study environment Beautiful lighting Tasty drinks  Cons: no wifi Slightly pricey Pretty things Love all the details here. It just has good vibes. Definitely the perfect cafe atmosphere. See all photos from Sierra L. for The Factory - Cafe With a Soul                                                                                                                                                                                                                                                                                                                                                                                                                                                                                                                                                                                                                                                                                                                                                                                                                                                                                                                                                                                                                                                                                                                                                                                                                                                                                                                                                                                                                                                                             0.000525\n",
       " 11/2/2016 I was so pleasantly surprised by this place! I only went because I had time to kill and they were the only coffee shop nearby open until 2 am. But I'm so glad I tried it out. It's not your typical Austin coffee shop. The quality of the drinks here was top notch, and they offer unique food and drinks. I had the macha latte (I think that's what it was called) and it was fantastic! The people were so friendly, the decor was beautiful, with plenty of comfortable seating (including swings from the ceiling!), and it was just the perfect place to chill with friends. I'll definitely be coming back!                                                                                                                                                                                                                                                                                                                                                                                                                                                                                                                                                                                                                                                                                                                                                                                                                                                                                                                                                                                                                                                                                                                                                                                                                                                                                          0.000525\n",
       " 11/23/2016 1 check-in My best friend and I came to The Factory after seeing it on a couple of best new Austin brunch lists. It's super cute and trendy, to the point where it feels kind of out of place in a strip mall. Although I loved the interior design and general ambiance of the place, I was a little disappointed with the menu. This is more of a coffee shop than a cafe - their food options are pretty limited. My friend ordered the chicken and waffles and I ordered Nutella waffles with strawberries and bananas. For the price I paid, the portions were definitely on the smaller side. I enjoyed my meal still, but it's hard to mess up Nutella and fruit, so I wasn't particularly impressed. I would love to come back to study sometime but since they don't have wifi, I don't think it'll be likely.                                                                                                                                                                                                                                                                                                                                                                                                                                                                                                                                                                                                                                                                                                                                                                                                                                                                                                                                                                                                                                                                                       0.000525\n",
       " 11/2/2016 Interesting new coffee place with a vibe that blends posh, hipster, and comfy.  Medium roasted beans have a milder, sweeter flavor than your typical Starbucks espresso shot, so be aware that the coffee tastes less bitter but packs more of a caffeine punch!  This place has homemade pop tarts!                                                                                                                                                                                                                                                                                                                                                                                                                                                                                                                                                                                                                                                                                                                                                                                                                                                                                                                                                                                                                                                                                                                                                                                                                                                                                                                                                                                                                                                                                                                                                                                                           0.000525\n",
       " 11/14/2016 Honestly, this place is having an identity crisis. Not a great place for a date or to meet a friend - very cute decor (props to the designer), but music is a bit all over the place, and for the price I would go somewhere else. Not really a family place, at least not for all families since bathrooms have framed art of sexual positions. Lights get turned down around 9pm (but they stay open till 2), so if you wanted to stop by to get a bit of reading done, you're out of luck. It is also not a beer/coffee lounge like Thunderbird. Menu is very limited, and if you were in the mood for a treat, I'd recommend Quacks. If they wanted to expand the menu, ipad ordering would have to go.  Which is sad since it's very cute, and we need more chill places to hang out in the evenings away from the University area.  Matcha was good. I hope the owners will rethink their direction. Would I come back? Eeh, too many other treats to entice my attention.                                                                                                                                                                                                                                                                                                                                                                                                                                                                                                                                                                                                                                                                                                                                                                                                                                                                                                                              0.000525\n",
       " 12/1/2016 This place is amazing! No wifi, but that's fine. it's meant to be a place to hang out with friends, socialize or by yourself reading a good book!                                                                                                                                                                                                                                                                                                                                                                                                                                                                                                                                                                                                                                                                                                                                                                                                                                                                                                                                                                                                                                                                                                                                                                                                                                                                                                                                                                                                                                                                                                                                                                                                                                                                                                                                                              0.000525\n",
       " 10/18/2016 I got waffle wasted at The Factory!!! Not your average coffee shop! Super social without wifi, novel idea!                                                                                                                                                                                                                                                                                                                                                                                                                                                                                                                                                                                                                                                                                                                                                                                                                                                                                                                                                                                                                                                                                                                                                                                                                                                                                                                                                                                                                                                                                                                                                                                                                                                                                                                                                                                                    0.000525\n",
       " 11/13/2016 Beautiful eccentric coffee shop with a library of peculiar books.  Swings, couches, and pillow corners for cuddle puddles.  Coffee with mint and ways you've never imagined coffee could be made. Try the matcha green tea with soy, creamiest matcha I've ever had.  First time here and already my favorite coffee bar so far. See all photos from Vicki Y. for The Factory - Cafe With a Soul                                                                                                                                                                                                                                                                                                                                                                                                                                                                                                                                                                                                                                                                                                                                                                                                                                                                                                                                                                                                                                                                                                                                                                                                                                                                                                                                                                                                                                                                                                              0.000525\n",
       " 11/2/2016 2 check-ins Love this place!  5 stars for cleanliness 5 stars for fun ambiance/ open space 5 stars for ample seating and comfort 5 stars for convenient parking 5 stars for attentive employees and fast service  I am definitely a fan Cafe w/ a Soul. I finally found a coffee shop I can study at without sacrificing comfort (Starbucks' uncomfortable chairs). The coffee shop endorses social connection, hence, wifi  isn't available. It makes me really happy that a lot of students hang out here with their book bags and laptops and we can all just study in peace and somehow quiet (the background music can get pretty loud). Unfortunately, there will always be that kid who's obnoxiously loud and would like the whole world to know her business. Seriously, unless it's something intriguing or educational, no one cares. In addition, as much \"fun\" as this place looks, it's not child friendly. So parents, make sure your children do not hit the table in front of it and knock out the chess set. Lastly, the sex images in the bathrooms are definitely not appropriate for children.  The ambiance is very much like Austin-- very eccentric and hip! Food and drink presentations are on par. Drink prices are reasonable and similar to good ole Starbucks. But unlike you're typical coffee shop, they have real food such as chicken and waffles.  My favorite about this place is the cleanliness. The employees do a good job maintaining the place. Also, as I watch them make coffees, they do it with fines as if they're creating some type of art, it's pretty cool (in my opinion).  In conclusion, Cafe w/ a Soul is probably the best coffee shop I've ever been to. It's like studying in my own home but away from distractions. I'm awake! Bathroom decor See all photos from Jay T. for The Factory - Cafe With a Soul                                        0.000525\n",
       " 10/30/2016 1 check-in Super cute place for lounging and chatting up with a friend. The chicken and waffle was delicious. Chicken was cooked to perfection! Super moist chicken with fluffy waffle...more of a snack than a meal, so don't go here expecting to be filled with a meal.                                                                                                                                                                                                                                                                                                                                                                                                                                                                                                                                                                                                                                                                                                                                                                                                                                                                                                                                                                                                                                                                                                                                                                                                                                                                                                                                                                                                                                                                                                                                                                                                                                    0.000525\n",
       " 11/9/2016 Really cute and heavily hipster atmosphere. We tried this place late night on Saturday and enjoyed the first visit. You will want to try their swing for sure. Seating space is somewhat limited and no wifi is available, so be aware. This is more like a place for you to enjoy its atmosphere. Drinks were good, though make sure you have enough in your bank account because their drinks are probably not for broke college students. That swing!                                                                                                                                                                                                                                                                                                                                                                                                                                                                                                                                                                                                                                                                                                                                                                                                                                                                                                                                                                                                                                                                                                                                                                                                                                                                                                                                                                                                                                                       0.000525\n",
       "Name: full_review_text, dtype: float64"
      ]
     },
     "execution_count": 17,
     "metadata": {},
     "output_type": "execute_result"
    }
   ],
   "source": [
    "# inspect reviews\n",
    "df.full_review_text.value_counts(normalize=True)[:15]"
   ]
  },
  {
   "cell_type": "markdown",
   "metadata": {},
   "source": [
    "## How do we want to analyze these coffee shop tokens? \n",
    "\n",
    "- Overall Word / Token Count\n",
    "- View Counts by Rating \n",
    "- *Hint:* a 'bad' coffee shops has a rating betweeen 1 & 3 based on the distribution of ratings. A 'good' coffee shop is a 4 or 5. "
   ]
  },
  {
   "cell_type": "code",
   "execution_count": 18,
   "metadata": {},
   "outputs": [],
   "source": [
    "STOP_WORDS = nlp.Defaults.stop_words.union([\"coffee\",\"got\",\"check-in\",\"i'm\",\"i've\",\"place\",\"it's\",\" \",\n",
    "                                            \"come\",\"1\",\"try\",\"order\",\"-\",\"time\", \"drink\",\"shop\", \"like\"])"
   ]
  },
  {
   "cell_type": "code",
   "execution_count": 19,
   "metadata": {},
   "outputs": [],
   "source": [
    "tokens = []\n",
    "\n",
    "for doc in tokenizer.pipe(shops['full_review_text']):\n",
    "    \n",
    "    doc_tokens = []\n",
    "    \n",
    "    for token in doc: \n",
    "        if token.text.lower() not in STOP_WORDS:\n",
    "            doc_tokens.append(token.lemma_.lower())\n",
    "   \n",
    "    tokens.append(doc_tokens)\n",
    "    \n",
    "df['tokens'] = tokens"
   ]
  },
  {
   "cell_type": "code",
   "execution_count": 20,
   "metadata": {},
   "outputs": [],
   "source": [
    "def count(docs):\n",
    "    \n",
    "    word_counts = Counter()\n",
    "    appears_in = Counter()\n",
    "    \n",
    "    for doc in docs:\n",
    "        word_counts.update(doc)\n",
    "        appears_in.update(set(doc))\n",
    "        \n",
    "    temp = zip(word_counts.keys(), word_counts.values())\n",
    "    \n",
    "    wc = pd.DataFrame(temp, columns=['word', 'count'])\n",
    "    \n",
    "    wc['rank'] = wc['count'].rank(method='first', ascending=False)\n",
    "    \n",
    "    total = wc['count'].sum()\n",
    "    wc['pct_total'] = wc['count'].apply(lambda x: x / total)\n",
    "    \n",
    "    wc = wc.sort_values(by='rank')\n",
    "    wc['cul_pct_total'] = wc['pct_total'].cumsum()\n",
    "    \n",
    "    t2 = zip(appears_in.keys(), appears_in.values())\n",
    "    ac = pd.DataFrame(t2, columns=['word', 'appears_in'])\n",
    "    wc = ac.merge(wc, on='word')\n",
    "    \n",
    "    total_docs = len(docs)\n",
    "    wc['appears_in_pct'] = wc['appears_in'].apply(lambda x: x / total_docs)\n",
    "    \n",
    "    return wc.sort_values(by='rank')"
   ]
  },
  {
   "cell_type": "code",
   "execution_count": 21,
   "metadata": {},
   "outputs": [
    {
     "name": "stdout",
     "output_type": "stream",
     "text": [
      "(37589, 7)\n"
     ]
    },
    {
     "data": {
      "text/html": [
       "<div>\n",
       "<style scoped>\n",
       "    .dataframe tbody tr th:only-of-type {\n",
       "        vertical-align: middle;\n",
       "    }\n",
       "\n",
       "    .dataframe tbody tr th {\n",
       "        vertical-align: top;\n",
       "    }\n",
       "\n",
       "    .dataframe thead th {\n",
       "        text-align: right;\n",
       "    }\n",
       "</style>\n",
       "<table border=\"1\" class=\"dataframe\">\n",
       "  <thead>\n",
       "    <tr style=\"text-align: right;\">\n",
       "      <th></th>\n",
       "      <th>word</th>\n",
       "      <th>appears_in</th>\n",
       "      <th>count</th>\n",
       "      <th>rank</th>\n",
       "      <th>pct_total</th>\n",
       "      <th>cul_pct_total</th>\n",
       "      <th>appears_in_pct</th>\n",
       "    </tr>\n",
       "  </thead>\n",
       "  <tbody>\n",
       "    <tr>\n",
       "      <th>148</th>\n",
       "      <td>great</td>\n",
       "      <td>2454</td>\n",
       "      <td>3272</td>\n",
       "      <td>1.0</td>\n",
       "      <td>0.008891</td>\n",
       "      <td>0.008891</td>\n",
       "      <td>0.322216</td>\n",
       "    </tr>\n",
       "    <tr>\n",
       "      <th>153</th>\n",
       "      <td>good</td>\n",
       "      <td>2158</td>\n",
       "      <td>2896</td>\n",
       "      <td>2.0</td>\n",
       "      <td>0.007869</td>\n",
       "      <td>0.016760</td>\n",
       "      <td>0.283351</td>\n",
       "    </tr>\n",
       "    <tr>\n",
       "      <th>29</th>\n",
       "      <td>love</td>\n",
       "      <td>1689</td>\n",
       "      <td>2161</td>\n",
       "      <td>3.0</td>\n",
       "      <td>0.005872</td>\n",
       "      <td>0.022632</td>\n",
       "      <td>0.221770</td>\n",
       "    </tr>\n",
       "    <tr>\n",
       "      <th>750</th>\n",
       "      <td>little</td>\n",
       "      <td>1230</td>\n",
       "      <td>1479</td>\n",
       "      <td>4.0</td>\n",
       "      <td>0.004019</td>\n",
       "      <td>0.026650</td>\n",
       "      <td>0.161502</td>\n",
       "    </tr>\n",
       "    <tr>\n",
       "      <th>810</th>\n",
       "      <td>work</td>\n",
       "      <td>1206</td>\n",
       "      <td>1475</td>\n",
       "      <td>5.0</td>\n",
       "      <td>0.004008</td>\n",
       "      <td>0.030658</td>\n",
       "      <td>0.158351</td>\n",
       "    </tr>\n",
       "  </tbody>\n",
       "</table>\n",
       "</div>"
      ],
      "text/plain": [
       "       word  appears_in  count  rank  pct_total  cul_pct_total  appears_in_pct\n",
       "148   great        2454   3272   1.0   0.008891       0.008891        0.322216\n",
       "153    good        2158   2896   2.0   0.007869       0.016760        0.283351\n",
       "29     love        1689   2161   3.0   0.005872       0.022632        0.221770\n",
       "750  little        1230   1479   4.0   0.004019       0.026650        0.161502\n",
       "810    work        1206   1475   5.0   0.004008       0.030658        0.158351"
      ]
     },
     "execution_count": 21,
     "metadata": {},
     "output_type": "execute_result"
    }
   ],
   "source": [
    "wc = count(df['tokens'])\n",
    "print (wc.shape)\n",
    "wc.head()"
   ]
  },
  {
   "cell_type": "code",
   "execution_count": 22,
   "metadata": {},
   "outputs": [
    {
     "data": {
      "text/html": [
       "<div>\n",
       "<style scoped>\n",
       "    .dataframe tbody tr th:only-of-type {\n",
       "        vertical-align: middle;\n",
       "    }\n",
       "\n",
       "    .dataframe tbody tr th {\n",
       "        vertical-align: top;\n",
       "    }\n",
       "\n",
       "    .dataframe thead th {\n",
       "        text-align: right;\n",
       "    }\n",
       "</style>\n",
       "<table border=\"1\" class=\"dataframe\">\n",
       "  <thead>\n",
       "    <tr style=\"text-align: right;\">\n",
       "      <th></th>\n",
       "      <th>word</th>\n",
       "      <th>appears_in</th>\n",
       "      <th>count</th>\n",
       "      <th>rank</th>\n",
       "      <th>pct_total</th>\n",
       "      <th>cul_pct_total</th>\n",
       "      <th>appears_in_pct</th>\n",
       "    </tr>\n",
       "  </thead>\n",
       "  <tbody>\n",
       "    <tr>\n",
       "      <th>148</th>\n",
       "      <td>great</td>\n",
       "      <td>2454</td>\n",
       "      <td>3272</td>\n",
       "      <td>1.0</td>\n",
       "      <td>0.008891</td>\n",
       "      <td>0.008891</td>\n",
       "      <td>0.322216</td>\n",
       "    </tr>\n",
       "    <tr>\n",
       "      <th>153</th>\n",
       "      <td>good</td>\n",
       "      <td>2158</td>\n",
       "      <td>2896</td>\n",
       "      <td>2.0</td>\n",
       "      <td>0.007869</td>\n",
       "      <td>0.016760</td>\n",
       "      <td>0.283351</td>\n",
       "    </tr>\n",
       "    <tr>\n",
       "      <th>29</th>\n",
       "      <td>love</td>\n",
       "      <td>1689</td>\n",
       "      <td>2161</td>\n",
       "      <td>3.0</td>\n",
       "      <td>0.005872</td>\n",
       "      <td>0.022632</td>\n",
       "      <td>0.221770</td>\n",
       "    </tr>\n",
       "    <tr>\n",
       "      <th>750</th>\n",
       "      <td>little</td>\n",
       "      <td>1230</td>\n",
       "      <td>1479</td>\n",
       "      <td>4.0</td>\n",
       "      <td>0.004019</td>\n",
       "      <td>0.026650</td>\n",
       "      <td>0.161502</td>\n",
       "    </tr>\n",
       "    <tr>\n",
       "      <th>810</th>\n",
       "      <td>work</td>\n",
       "      <td>1206</td>\n",
       "      <td>1475</td>\n",
       "      <td>5.0</td>\n",
       "      <td>0.004008</td>\n",
       "      <td>0.030658</td>\n",
       "      <td>0.158351</td>\n",
       "    </tr>\n",
       "    <tr>\n",
       "      <th>375</th>\n",
       "      <td>well</td>\n",
       "      <td>1238</td>\n",
       "      <td>1422</td>\n",
       "      <td>6.0</td>\n",
       "      <td>0.003864</td>\n",
       "      <td>0.034522</td>\n",
       "      <td>0.162553</td>\n",
       "    </tr>\n",
       "    <tr>\n",
       "      <th>175</th>\n",
       "      <td>nice</td>\n",
       "      <td>1222</td>\n",
       "      <td>1412</td>\n",
       "      <td>7.0</td>\n",
       "      <td>0.003837</td>\n",
       "      <td>0.038359</td>\n",
       "      <td>0.160452</td>\n",
       "    </tr>\n",
       "    <tr>\n",
       "      <th>303</th>\n",
       "      <td>don't</td>\n",
       "      <td>1133</td>\n",
       "      <td>1395</td>\n",
       "      <td>8.0</td>\n",
       "      <td>0.003791</td>\n",
       "      <td>0.042149</td>\n",
       "      <td>0.148766</td>\n",
       "    </tr>\n",
       "    <tr>\n",
       "      <th>443</th>\n",
       "      <td>food</td>\n",
       "      <td>1109</td>\n",
       "      <td>1391</td>\n",
       "      <td>9.0</td>\n",
       "      <td>0.003780</td>\n",
       "      <td>0.045929</td>\n",
       "      <td>0.145614</td>\n",
       "    </tr>\n",
       "    <tr>\n",
       "      <th>17</th>\n",
       "      <td>pretty</td>\n",
       "      <td>1069</td>\n",
       "      <td>1342</td>\n",
       "      <td>10.0</td>\n",
       "      <td>0.003647</td>\n",
       "      <td>0.049576</td>\n",
       "      <td>0.140362</td>\n",
       "    </tr>\n",
       "    <tr>\n",
       "      <th>34</th>\n",
       "      <td>latte</td>\n",
       "      <td>955</td>\n",
       "      <td>1274</td>\n",
       "      <td>11.0</td>\n",
       "      <td>0.003462</td>\n",
       "      <td>0.053037</td>\n",
       "      <td>0.125394</td>\n",
       "    </tr>\n",
       "    <tr>\n",
       "      <th>681</th>\n",
       "      <td>ice</td>\n",
       "      <td>929</td>\n",
       "      <td>1270</td>\n",
       "      <td>12.0</td>\n",
       "      <td>0.003451</td>\n",
       "      <td>0.056488</td>\n",
       "      <td>0.121980</td>\n",
       "    </tr>\n",
       "    <tr>\n",
       "      <th>259</th>\n",
       "      <td>go</td>\n",
       "      <td>1032</td>\n",
       "      <td>1250</td>\n",
       "      <td>13.0</td>\n",
       "      <td>0.003397</td>\n",
       "      <td>0.059885</td>\n",
       "      <td>0.135504</td>\n",
       "    </tr>\n",
       "    <tr>\n",
       "      <th>587</th>\n",
       "      <td>come</td>\n",
       "      <td>1051</td>\n",
       "      <td>1246</td>\n",
       "      <td>14.0</td>\n",
       "      <td>0.003386</td>\n",
       "      <td>0.063270</td>\n",
       "      <td>0.137999</td>\n",
       "    </tr>\n",
       "    <tr>\n",
       "      <th>890</th>\n",
       "      <td>people</td>\n",
       "      <td>1015</td>\n",
       "      <td>1223</td>\n",
       "      <td>15.0</td>\n",
       "      <td>0.003323</td>\n",
       "      <td>0.066593</td>\n",
       "      <td>0.133272</td>\n",
       "    </tr>\n",
       "    <tr>\n",
       "      <th>58</th>\n",
       "      <td>austin</td>\n",
       "      <td>1034</td>\n",
       "      <td>1188</td>\n",
       "      <td>16.0</td>\n",
       "      <td>0.003228</td>\n",
       "      <td>0.069822</td>\n",
       "      <td>0.135767</td>\n",
       "    </tr>\n",
       "    <tr>\n",
       "      <th>221</th>\n",
       "      <td>friendly</td>\n",
       "      <td>1128</td>\n",
       "      <td>1170</td>\n",
       "      <td>17.0</td>\n",
       "      <td>0.003179</td>\n",
       "      <td>0.073001</td>\n",
       "      <td>0.148109</td>\n",
       "    </tr>\n",
       "    <tr>\n",
       "      <th>38</th>\n",
       "      <td>definitely</td>\n",
       "      <td>1011</td>\n",
       "      <td>1154</td>\n",
       "      <td>18.0</td>\n",
       "      <td>0.003136</td>\n",
       "      <td>0.076136</td>\n",
       "      <td>0.132747</td>\n",
       "    </tr>\n",
       "    <tr>\n",
       "      <th>109</th>\n",
       "      <td>want</td>\n",
       "      <td>930</td>\n",
       "      <td>1118</td>\n",
       "      <td>19.0</td>\n",
       "      <td>0.003038</td>\n",
       "      <td>0.079174</td>\n",
       "      <td>0.122111</td>\n",
       "    </tr>\n",
       "    <tr>\n",
       "      <th>13</th>\n",
       "      <td>find</td>\n",
       "      <td>925</td>\n",
       "      <td>1088</td>\n",
       "      <td>20.0</td>\n",
       "      <td>0.002956</td>\n",
       "      <td>0.082131</td>\n",
       "      <td>0.121455</td>\n",
       "    </tr>\n",
       "  </tbody>\n",
       "</table>\n",
       "</div>"
      ],
      "text/plain": [
       "           word  appears_in  count  rank  pct_total  cul_pct_total  \\\n",
       "148       great        2454   3272   1.0   0.008891       0.008891   \n",
       "153        good        2158   2896   2.0   0.007869       0.016760   \n",
       "29         love        1689   2161   3.0   0.005872       0.022632   \n",
       "750      little        1230   1479   4.0   0.004019       0.026650   \n",
       "810        work        1206   1475   5.0   0.004008       0.030658   \n",
       "375        well        1238   1422   6.0   0.003864       0.034522   \n",
       "175        nice        1222   1412   7.0   0.003837       0.038359   \n",
       "303       don't        1133   1395   8.0   0.003791       0.042149   \n",
       "443        food        1109   1391   9.0   0.003780       0.045929   \n",
       "17       pretty        1069   1342  10.0   0.003647       0.049576   \n",
       "34        latte         955   1274  11.0   0.003462       0.053037   \n",
       "681         ice         929   1270  12.0   0.003451       0.056488   \n",
       "259          go        1032   1250  13.0   0.003397       0.059885   \n",
       "587        come        1051   1246  14.0   0.003386       0.063270   \n",
       "890      people        1015   1223  15.0   0.003323       0.066593   \n",
       "58       austin        1034   1188  16.0   0.003228       0.069822   \n",
       "221    friendly        1128   1170  17.0   0.003179       0.073001   \n",
       "38   definitely        1011   1154  18.0   0.003136       0.076136   \n",
       "109        want         930   1118  19.0   0.003038       0.079174   \n",
       "13         find         925   1088  20.0   0.002956       0.082131   \n",
       "\n",
       "     appears_in_pct  \n",
       "148        0.322216  \n",
       "153        0.283351  \n",
       "29         0.221770  \n",
       "750        0.161502  \n",
       "810        0.158351  \n",
       "375        0.162553  \n",
       "175        0.160452  \n",
       "303        0.148766  \n",
       "443        0.145614  \n",
       "17         0.140362  \n",
       "34         0.125394  \n",
       "681        0.121980  \n",
       "259        0.135504  \n",
       "587        0.137999  \n",
       "890        0.133272  \n",
       "58         0.135767  \n",
       "221        0.148109  \n",
       "38         0.132747  \n",
       "109        0.122111  \n",
       "13         0.121455  "
      ]
     },
     "execution_count": 22,
     "metadata": {},
     "output_type": "execute_result"
    }
   ],
   "source": [
    "wc.head(20)"
   ]
  },
  {
   "cell_type": "markdown",
   "metadata": {},
   "source": [
    "## Can visualize the words with the greatest difference in counts between 'good' & 'bad'?\n",
    "\n",
    "Couple Notes: \n",
    "- Rel. freq. instead of absolute counts b/c of different numbers of reviews\n",
    "- Only look at the top 5-10 words with the greatest differences\n"
   ]
  },
  {
   "cell_type": "code",
   "execution_count": 23,
   "metadata": {},
   "outputs": [],
   "source": [
    "def get_lemmas(text):\n",
    "\n",
    "    lemmas = []\n",
    "    \n",
    "    doc = nlp(text)\n",
    "\n",
    "    for token in doc: \n",
    "        if token.text.lower() not in STOP_WORDS:\n",
    "            if ((token.is_stop == False) and (token.is_punct == False)) and (token.pos_ == 'ADJ'):\n",
    "                lemmas.append(token.lemma_)\n",
    "    \n",
    "    return lemmas"
   ]
  },
  {
   "cell_type": "code",
   "execution_count": 24,
   "metadata": {},
   "outputs": [],
   "source": [
    "df['lemmas'] = df['full_review_text'].apply(get_lemmas)"
   ]
  },
  {
   "cell_type": "code",
   "execution_count": 25,
   "metadata": {},
   "outputs": [
    {
     "data": {
      "text/plain": [
       "0                               [streamlined, typical]\n",
       "1    [beautiful, worthy, pretty, decent, unique, nice]\n",
       "2    [eclectic, homey, plush, pricy, worth, ample, ...\n",
       "3    [cool, good, nice, overpriced, extra, loud, od...\n",
       "4    [computerized, friendly, easy, tart, ideal, ne...\n",
       "Name: lemmas, dtype: object"
      ]
     },
     "execution_count": 25,
     "metadata": {},
     "output_type": "execute_result"
    }
   ],
   "source": [
    "df['lemmas'].head()"
   ]
  },
  {
   "cell_type": "code",
   "execution_count": null,
   "metadata": {},
   "outputs": [],
   "source": [
    "df['lemmas'] = df['full_review_text'].apply(get_lemmas)"
   ]
  },
  {
   "cell_type": "code",
   "execution_count": null,
   "metadata": {},
   "outputs": [],
   "source": [
    "# top 20 words from good reviews \n",
    "\n",
    "good_reviews = count(df[df['star_rating'] > 3]['lemmas'])\n",
    "\n",
    "good_top20 = good_reviews[good_reviews['rank'] <= 20]"
   ]
  },
  {
   "cell_type": "code",
   "execution_count": null,
   "metadata": {},
   "outputs": [],
   "source": [
    "squarify.plot(sizes=good_top20['pct_total'], label=good_top20['word'], alpha=.8 )\n",
    "plt.axis('off')\n",
    "plt.show()"
   ]
  },
  {
   "cell_type": "code",
   "execution_count": null,
   "metadata": {},
   "outputs": [],
   "source": [
    "# top 20 words from bad reviews \n",
    "\n",
    "bad_reviews = count(df[df['star_rating'] < 3]['lemmas'])\n",
    "\n",
    "bad_top20 = bad_reviews[bad_reviews['rank'] <= 20]"
   ]
  },
  {
   "cell_type": "code",
   "execution_count": null,
   "metadata": {},
   "outputs": [],
   "source": [
    "squarify.plot(sizes=bad_top20['pct_total'], label=bad_top20['word'], alpha=.8 )\n",
    "plt.axis('off')\n",
    "plt.show()"
   ]
  },
  {
   "cell_type": "markdown",
   "metadata": {
    "colab_type": "text",
    "id": "1dCb1q8XphcP",
    "toc-hr-collapsed": true
   },
   "source": [
    "## Stretch Goals\n",
    "\n",
    "* Analyze another corpus of documents - such as Indeed.com job listings ;).\n",
    "* Play with the Spacy API to\n",
    " - Extract Named Entities\n",
    " - Extracting 'noun chunks'\n",
    " - Attempt Document Classification with just Spacy\n",
    " - *Note:* This [course](https://course.spacy.io/) will be of interesting in helping you with these stretch goals. \n",
    "* Try to build a plotly dash app with your text data \n",
    "\n"
   ]
  }
 ],
 "metadata": {
  "colab": {
   "collapsed_sections": [],
   "name": "LS_DS_421_Text_Data_Assignment.ipynb",
   "provenance": [],
   "version": "0.3.2"
  },
  "kernelspec": {
   "display_name": "U4-S1-NLP (Python3)",
   "language": "python",
   "name": "u4-s1-nlp"
  },
  "language_info": {
   "codemirror_mode": {
    "name": "ipython",
    "version": 3
   },
   "file_extension": ".py",
   "mimetype": "text/x-python",
   "name": "python",
   "nbconvert_exporter": "python",
   "pygments_lexer": "ipython3",
   "version": "3.7.0"
  },
  "toc-autonumbering": false
 },
 "nbformat": 4,
 "nbformat_minor": 4
}
