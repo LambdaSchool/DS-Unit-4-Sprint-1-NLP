{
 "cells": [
  {
   "cell_type": "markdown",
   "metadata": {},
   "source": [
    "# Vector Representations\n",
    "## *Data Science Unit 4 Sprint 2 Assignment 2*"
   ]
  },
  {
   "cell_type": "code",
   "execution_count": 1,
   "metadata": {
    "colab": {
     "base_uri": "https://localhost:8080/",
     "height": 159
    },
    "colab_type": "code",
    "id": "hyj-f9FDcVFp",
    "outputId": "5dd045fe-6e4c-458c-e2fc-253c3da9c805"
   },
   "outputs": [],
   "source": [
    "import re\n",
    "import string\n",
    "from sklearn.feature_extraction.text import CountVectorizer, TfidfVectorizer\n",
    "import matplotlib.pyplot as plt\n",
    "import pandas as pd\n",
    "import numpy as np\n",
    "import spacy\n",
    "from bs4 import BeautifulSoup\n",
    "import squarify\n",
    "import matplotlib\n",
    "import matplotlib.pyplot as plt\n",
    "from sklearn.neighbors import NearestNeighbors"
   ]
  },
  {
   "cell_type": "markdown",
   "metadata": {
    "colab_type": "text",
    "id": "5C4xFZNtX1m2"
   },
   "source": [
    "## 2) Use Spacy to tokenize / clean the listings "
   ]
  },
  {
   "cell_type": "code",
   "execution_count": 173,
   "metadata": {
    "colab": {},
    "colab_type": "code",
    "id": "dhUHuMr-X-II",
    "scrolled": true
   },
   "outputs": [
    {
     "data": {
      "text/html": [
       "<div>\n",
       "<style scoped>\n",
       "    .dataframe tbody tr th:only-of-type {\n",
       "        vertical-align: middle;\n",
       "    }\n",
       "\n",
       "    .dataframe tbody tr th {\n",
       "        vertical-align: top;\n",
       "    }\n",
       "\n",
       "    .dataframe thead th {\n",
       "        text-align: right;\n",
       "    }\n",
       "</style>\n",
       "<table border=\"1\" class=\"dataframe\">\n",
       "  <thead>\n",
       "    <tr style=\"text-align: right;\">\n",
       "      <th></th>\n",
       "      <th>Unnamed: 0</th>\n",
       "      <th>job</th>\n",
       "      <th>title</th>\n",
       "    </tr>\n",
       "  </thead>\n",
       "  <tbody>\n",
       "    <tr>\n",
       "      <th>0</th>\n",
       "      <td>0</td>\n",
       "      <td>b\"Job Requirements:\\nConceptual understanding ...</td>\n",
       "      <td>Data scientist</td>\n",
       "    </tr>\n",
       "    <tr>\n",
       "      <th>1</th>\n",
       "      <td>1</td>\n",
       "      <td>b'Job Description\\n\\nAs a Data Scientist 1, yo...</td>\n",
       "      <td>Data Scientist I</td>\n",
       "    </tr>\n",
       "    <tr>\n",
       "      <th>2</th>\n",
       "      <td>2</td>\n",
       "      <td>b'As a Data Scientist you will be working on c...</td>\n",
       "      <td>Data Scientist - Entry Level</td>\n",
       "    </tr>\n",
       "    <tr>\n",
       "      <th>3</th>\n",
       "      <td>3</td>\n",
       "      <td>b'$4,969 - $6,756 a monthContractUnder the gen...</td>\n",
       "      <td>Data Scientist</td>\n",
       "    </tr>\n",
       "    <tr>\n",
       "      <th>4</th>\n",
       "      <td>4</td>\n",
       "      <td>b'Location: USA \\xe2\\x80\\x93 multiple location...</td>\n",
       "      <td>Data Scientist</td>\n",
       "    </tr>\n",
       "  </tbody>\n",
       "</table>\n",
       "</div>"
      ],
      "text/plain": [
       "   Unnamed: 0                                                job  \\\n",
       "0           0  b\"Job Requirements:\\nConceptual understanding ...   \n",
       "1           1  b'Job Description\\n\\nAs a Data Scientist 1, yo...   \n",
       "2           2  b'As a Data Scientist you will be working on c...   \n",
       "3           3  b'$4,969 - $6,756 a monthContractUnder the gen...   \n",
       "4           4  b'Location: USA \\xe2\\x80\\x93 multiple location...   \n",
       "\n",
       "                          title  \n",
       "0               Data scientist   \n",
       "1              Data Scientist I  \n",
       "2  Data Scientist - Entry Level  \n",
       "3                Data Scientist  \n",
       "4                Data Scientist  "
      ]
     },
     "execution_count": 173,
     "metadata": {},
     "output_type": "execute_result"
    }
   ],
   "source": [
    "# Read in the data.\n",
    "df = pd.read_csv('data/job_listings.csv')\n",
    "\n",
    "# Rename columns.\n",
    "df.rename(columns={'description': 'job'}, inplace=True)\n",
    "\n",
    "# Remove html tags.\n",
    "df.job = [BeautifulSoup(row, 'html.parser').text for row in df.job]\n",
    "\n",
    "df.head()"
   ]
  },
  {
   "cell_type": "code",
   "execution_count": 174,
   "metadata": {},
   "outputs": [
    {
     "data": {
      "text/html": [
       "<div>\n",
       "<style scoped>\n",
       "    .dataframe tbody tr th:only-of-type {\n",
       "        vertical-align: middle;\n",
       "    }\n",
       "\n",
       "    .dataframe tbody tr th {\n",
       "        vertical-align: top;\n",
       "    }\n",
       "\n",
       "    .dataframe thead th {\n",
       "        text-align: right;\n",
       "    }\n",
       "</style>\n",
       "<table border=\"1\" class=\"dataframe\">\n",
       "  <thead>\n",
       "    <tr style=\"text-align: right;\">\n",
       "      <th></th>\n",
       "      <th>Unnamed: 0</th>\n",
       "      <th>job</th>\n",
       "      <th>title</th>\n",
       "    </tr>\n",
       "  </thead>\n",
       "  <tbody>\n",
       "    <tr>\n",
       "      <th>0</th>\n",
       "      <td>0</td>\n",
       "      <td>b\"Job Requirements: Conceptual understanding i...</td>\n",
       "      <td>Data scientist</td>\n",
       "    </tr>\n",
       "    <tr>\n",
       "      <th>1</th>\n",
       "      <td>1</td>\n",
       "      <td>b'Job Description  As a Data Scientist 1, you ...</td>\n",
       "      <td>Data Scientist I</td>\n",
       "    </tr>\n",
       "    <tr>\n",
       "      <th>2</th>\n",
       "      <td>2</td>\n",
       "      <td>b'As a Data Scientist you will be working on c...</td>\n",
       "      <td>Data Scientist - Entry Level</td>\n",
       "    </tr>\n",
       "    <tr>\n",
       "      <th>3</th>\n",
       "      <td>3</td>\n",
       "      <td>b'$4,969 - $6,756 a monthContractUnder the gen...</td>\n",
       "      <td>Data Scientist</td>\n",
       "    </tr>\n",
       "    <tr>\n",
       "      <th>4</th>\n",
       "      <td>4</td>\n",
       "      <td>b'Location: USA  multiple locations 2+ years o...</td>\n",
       "      <td>Data Scientist</td>\n",
       "    </tr>\n",
       "  </tbody>\n",
       "</table>\n",
       "</div>"
      ],
      "text/plain": [
       "   Unnamed: 0                                                job  \\\n",
       "0           0  b\"Job Requirements: Conceptual understanding i...   \n",
       "1           1  b'Job Description  As a Data Scientist 1, you ...   \n",
       "2           2  b'As a Data Scientist you will be working on c...   \n",
       "3           3  b'$4,969 - $6,756 a monthContractUnder the gen...   \n",
       "4           4  b'Location: USA  multiple locations 2+ years o...   \n",
       "\n",
       "                          title  \n",
       "0               Data scientist   \n",
       "1              Data Scientist I  \n",
       "2  Data Scientist - Entry Level  \n",
       "3                Data Scientist  \n",
       "4                Data Scientist  "
      ]
     },
     "execution_count": 174,
     "metadata": {},
     "output_type": "execute_result"
    }
   ],
   "source": [
    "# Remove urls.\n",
    "df.job = [re.sub(r'http\\S+', '', row) for row in df.job]\n",
    "\n",
    "# Remove other weird stuff.\n",
    "df.job = [re.sub(r'x[a-z][0-9]', '', row) for row in df.job]\n",
    "df.job = [re.sub(r'x[0-9][0-9]', '', row) for row in df.job]\n",
    "df.job = [re.sub(r'\\\\n', ' ', row) for row in df.job]\n",
    "df.job = [re.sub(r'\\\\', '', row) for row in df.job]\n",
    "df.job = [re.sub(r'/', ' or ', row) for row in df.job]\n",
    "\n",
    "df.head()"
   ]
  },
  {
   "cell_type": "code",
   "execution_count": 189,
   "metadata": {},
   "outputs": [
    {
     "data": {
      "text/plain": [
       "0    [conceptual understanding, machine learning mo...\n",
       "1    [a data scientist, machine learning models, da...\n",
       "2    [a data scientist, consulting side, our busine...\n",
       "3    [a monthcontractunder, the general supervision...\n",
       "4    [usa  multiple locations, years, analytics exp...\n",
       "Name: chunks, dtype: object"
      ]
     },
     "execution_count": 189,
     "metadata": {},
     "output_type": "execute_result"
    }
   ],
   "source": [
    "nlp = spacy.load(\"en_core_web_lg\")\n",
    "\n",
    "# Update Spacy's stopwords.\n",
    "stopwords = nlp.Defaults.stop_words.union([\n",
    "    'job', 'requirements', 'description', 'location',\n",
    "    'b\"Job Requirements', \"b'Job Description\", \"b'Location\",\n",
    "    'we', 'you', \n",
    "])\n",
    "\n",
    "# Instantiate a list of punctuations.\n",
    "punctuation = list(string.punctuation)\n",
    "\n",
    "# Create function that takes a string, creates a doc object,\n",
    "# and returns a list of groups of words that go together,\n",
    "# if those groups aren't stopwords or punctuation.\n",
    "def get_chunks(text):\n",
    "    doc = nlp(text)\n",
    "    chunks = list(doc.noun_chunks)\n",
    "    chunks = [str(i) for i in chunks]\n",
    "    return [i.lower() for i in chunks if i not in stopwords and i not in punctuation]\n",
    "\n",
    "df['chunks'] = [get_chunks(text) for text in df.job]\n",
    "df.chunks.head()"
   ]
  },
  {
   "cell_type": "markdown",
   "metadata": {
    "colab_type": "text",
    "id": "-lgCZNL_YycP"
   },
   "source": [
    "## 3) Use Scikit-Learn's CountVectorizer to get word counts for each listing."
   ]
  },
  {
   "cell_type": "code",
   "execution_count": 190,
   "metadata": {
    "colab": {},
    "colab_type": "code",
    "id": "X2PZ8Pj_YxcF"
   },
   "outputs": [],
   "source": [
    "# Create the transformer.\n",
    "bow = CountVectorizer(tokenizer=get_chunks)\n",
    "\n",
    "# Tokenize and build vocab.\n",
    "bow.fit(df.job)\n",
    "\n",
    "# Transform the text.\n",
    "dtm = bow.transform(df.job)"
   ]
  },
  {
   "cell_type": "code",
   "execution_count": 191,
   "metadata": {},
   "outputs": [
    {
     "data": {
      "text/html": [
       "<div>\n",
       "<style scoped>\n",
       "    .dataframe tbody tr th:only-of-type {\n",
       "        vertical-align: middle;\n",
       "    }\n",
       "\n",
       "    .dataframe tbody tr th {\n",
       "        vertical-align: top;\n",
       "    }\n",
       "\n",
       "    .dataframe thead th {\n",
       "        text-align: right;\n",
       "    }\n",
       "</style>\n",
       "<table border=\"1\" class=\"dataframe\">\n",
       "  <thead>\n",
       "    <tr style=\"text-align: right;\">\n",
       "      <th></th>\n",
       "      <th>\" attitude</th>\n",
       "      <th>\" the resources</th>\n",
       "      <th>\" we</th>\n",
       "      <th>\"customer</th>\n",
       "      <th>\"engineering results</th>\n",
       "      <th>\"my account</th>\n",
       "      <th>\"open-sourcing</th>\n",
       "      <th>\"success</th>\n",
       "      <th>\"tmus</th>\n",
       "      <th>#: 8954  job location</th>\n",
       "      <th>...</th>\n",
       "      <th>zillow group</th>\n",
       "      <th>zillow's internal and third party data</th>\n",
       "      <th>zurich</th>\n",
       "      <th>zurich american insurance</th>\n",
       "      <th>zurich north america</th>\n",
       "      <th>zurichs predictive analytics team</th>\n",
       "      <th>| work</th>\n",
       "      <th>||</th>\n",
       "      <th>|| americas</th>\n",
       "      <th>~4 weeks</th>\n",
       "    </tr>\n",
       "  </thead>\n",
       "  <tbody>\n",
       "    <tr>\n",
       "      <th>0</th>\n",
       "      <td>0</td>\n",
       "      <td>0</td>\n",
       "      <td>0</td>\n",
       "      <td>0</td>\n",
       "      <td>0</td>\n",
       "      <td>0</td>\n",
       "      <td>0</td>\n",
       "      <td>0</td>\n",
       "      <td>0</td>\n",
       "      <td>0</td>\n",
       "      <td>...</td>\n",
       "      <td>0</td>\n",
       "      <td>0</td>\n",
       "      <td>0</td>\n",
       "      <td>0</td>\n",
       "      <td>0</td>\n",
       "      <td>0</td>\n",
       "      <td>0</td>\n",
       "      <td>0</td>\n",
       "      <td>0</td>\n",
       "      <td>0</td>\n",
       "    </tr>\n",
       "  </tbody>\n",
       "</table>\n",
       "<p>1 rows × 20300 columns</p>\n",
       "</div>"
      ],
      "text/plain": [
       "   \" attitude  \" the resources  \" we  \"customer  \"engineering results  \\\n",
       "0           0                0     0          0                     0   \n",
       "\n",
       "   \"my account  \"open-sourcing  \"success  \"tmus  #: 8954  job location  ...  \\\n",
       "0            0               0         0      0                      0  ...   \n",
       "\n",
       "   zillow group  zillow's internal and third party data  zurich  \\\n",
       "0             0                                       0       0   \n",
       "\n",
       "   zurich american insurance  zurich north america  \\\n",
       "0                          0                     0   \n",
       "\n",
       "   zurichs predictive analytics team  | work  ||  || americas  ~4 weeks  \n",
       "0                                  0       0   0            0         0  \n",
       "\n",
       "[1 rows x 20300 columns]"
      ]
     },
     "execution_count": 191,
     "metadata": {},
     "output_type": "execute_result"
    }
   ],
   "source": [
    "# Get word counts for each description.\n",
    "dtm = pd.DataFrame(dtm.todense(), columns=bow.get_feature_names())\n",
    "dtm.head(1)"
   ]
  },
  {
   "cell_type": "markdown",
   "metadata": {
    "colab_type": "text",
    "id": "Zo1iH_UeY7_n"
   },
   "source": [
    "## 4) Visualize the most common word counts"
   ]
  },
  {
   "cell_type": "code",
   "execution_count": 192,
   "metadata": {
    "colab": {},
    "colab_type": "code",
    "id": "M5LB00uyZKV5"
   },
   "outputs": [],
   "source": [
    "from collections import Counter\n",
    "\n",
    "# Function that takes a corpus and returns a dataframe of word counts.\n",
    "def count(docs):\n",
    "\n",
    "        word_counts = Counter()\n",
    "        appears_in = Counter()\n",
    "        \n",
    "        total_docs = len(docs)\n",
    "\n",
    "        for doc in docs:\n",
    "            word_counts.update(doc)\n",
    "            appears_in.update(set(doc))\n",
    "\n",
    "        temp = zip(word_counts.keys(), word_counts.values())\n",
    "        \n",
    "        wc = pd.DataFrame(temp, columns = ['word', 'count'])\n",
    "\n",
    "        wc['rank'] = wc['count'].rank(method='first', ascending=False)\n",
    "        total = wc['count'].sum()\n",
    "\n",
    "        wc['pct_total'] = wc['count'].apply(lambda x: x / total)\n",
    "        \n",
    "        wc = wc.sort_values(by='rank')\n",
    "        wc['cul_pct_total'] = wc['pct_total'].cumsum()\n",
    "\n",
    "        t2 = zip(appears_in.keys(), appears_in.values())\n",
    "        ac = pd.DataFrame(t2, columns=['word', 'appears_in'])\n",
    "        wc = ac.merge(wc, on='word')\n",
    "\n",
    "        wc['appears_in_pct'] = wc['appears_in'].apply(lambda x: x / total_docs)\n",
    "        \n",
    "        return wc.sort_values(by='rank')"
   ]
  },
  {
   "cell_type": "code",
   "execution_count": 198,
   "metadata": {},
   "outputs": [
    {
     "data": {
      "image/png": "[encoded data removed]",
      "text/plain": [
       "<Figure size 432x288 with 1 Axes>"
      ]
     },
     "metadata": {
      "needs_background": "light"
     },
     "output_type": "display_data"
    }
   ],
   "source": [
    "top_words = count(df['chunks'])\n",
    "top_20 = top_words[top_words['rank'] <= 20]\n",
    "pct_totals = top_20['pct_total']\n",
    "\n",
    "cmap = matplotlib.cm.Blues\n",
    "mini=min(pct_totals)\n",
    "maxi=max(pct_totals)\n",
    "norm = matplotlib.colors.Normalize(vmin=mini, vmax=maxi)\n",
    "colors = [cmap(norm(value)) for value in pct_totals]\n",
    "\n",
    "squarify.plot(\n",
    "    sizes=pct_totals,\n",
    "    label=top_words['word'],\n",
    "    alpha=.8,\n",
    "    color=colors\n",
    ")\n",
    "plt.axis('off')\n",
    "plt.show()"
   ]
  },
  {
   "cell_type": "markdown",
   "metadata": {
    "colab_type": "text",
    "id": "bwFsTqrVZMYi"
   },
   "source": [
    "## 5) Use Scikit-Learn's tfidfVectorizer to get a TF-IDF feature matrix"
   ]
  },
  {
   "cell_type": "code",
   "execution_count": 203,
   "metadata": {},
   "outputs": [
    {
     "data": {
      "text/html": [
       "<div>\n",
       "<style scoped>\n",
       "    .dataframe tbody tr th:only-of-type {\n",
       "        vertical-align: middle;\n",
       "    }\n",
       "\n",
       "    .dataframe tbody tr th {\n",
       "        vertical-align: top;\n",
       "    }\n",
       "\n",
       "    .dataframe thead th {\n",
       "        text-align: right;\n",
       "    }\n",
       "</style>\n",
       "<table border=\"1\" class=\"dataframe\">\n",
       "  <thead>\n",
       "    <tr style=\"text-align: right;\">\n",
       "      <th></th>\n",
       "      <th>2 years</th>\n",
       "      <th>2+ years</th>\n",
       "      <th>3+ years</th>\n",
       "      <th>5+ years</th>\n",
       "      <th>a broad range</th>\n",
       "      <th>a company</th>\n",
       "      <th>a data scientist</th>\n",
       "      <th>a degree</th>\n",
       "      <th>a difference</th>\n",
       "      <th>a disability</th>\n",
       "      <th>...</th>\n",
       "      <th>visualization</th>\n",
       "      <th>visualizations</th>\n",
       "      <th>ways</th>\n",
       "      <th>women</th>\n",
       "      <th>work</th>\n",
       "      <th>work experience</th>\n",
       "      <th>years</th>\n",
       "      <th>your career</th>\n",
       "      <th>your skills</th>\n",
       "      <th>your work</th>\n",
       "    </tr>\n",
       "  </thead>\n",
       "  <tbody>\n",
       "    <tr>\n",
       "      <th>0</th>\n",
       "      <td>0.0</td>\n",
       "      <td>0.0</td>\n",
       "      <td>0.0</td>\n",
       "      <td>0.0</td>\n",
       "      <td>0.0</td>\n",
       "      <td>0.0</td>\n",
       "      <td>0.000000</td>\n",
       "      <td>0.0</td>\n",
       "      <td>0.000000</td>\n",
       "      <td>0.0</td>\n",
       "      <td>...</td>\n",
       "      <td>0.0</td>\n",
       "      <td>0.0</td>\n",
       "      <td>0.0</td>\n",
       "      <td>0.0</td>\n",
       "      <td>0.000000</td>\n",
       "      <td>0.0</td>\n",
       "      <td>0.000000</td>\n",
       "      <td>0.0</td>\n",
       "      <td>0.0</td>\n",
       "      <td>0.0</td>\n",
       "    </tr>\n",
       "    <tr>\n",
       "      <th>1</th>\n",
       "      <td>0.0</td>\n",
       "      <td>0.0</td>\n",
       "      <td>0.0</td>\n",
       "      <td>0.0</td>\n",
       "      <td>0.0</td>\n",
       "      <td>0.0</td>\n",
       "      <td>0.092967</td>\n",
       "      <td>0.0</td>\n",
       "      <td>0.172566</td>\n",
       "      <td>0.0</td>\n",
       "      <td>...</td>\n",
       "      <td>0.0</td>\n",
       "      <td>0.0</td>\n",
       "      <td>0.0</td>\n",
       "      <td>0.0</td>\n",
       "      <td>0.112367</td>\n",
       "      <td>0.0</td>\n",
       "      <td>0.000000</td>\n",
       "      <td>0.0</td>\n",
       "      <td>0.0</td>\n",
       "      <td>0.0</td>\n",
       "    </tr>\n",
       "    <tr>\n",
       "      <th>2</th>\n",
       "      <td>0.0</td>\n",
       "      <td>0.0</td>\n",
       "      <td>0.0</td>\n",
       "      <td>0.0</td>\n",
       "      <td>0.0</td>\n",
       "      <td>0.0</td>\n",
       "      <td>0.161349</td>\n",
       "      <td>0.0</td>\n",
       "      <td>0.000000</td>\n",
       "      <td>0.0</td>\n",
       "      <td>...</td>\n",
       "      <td>0.0</td>\n",
       "      <td>0.0</td>\n",
       "      <td>0.0</td>\n",
       "      <td>0.0</td>\n",
       "      <td>0.000000</td>\n",
       "      <td>0.0</td>\n",
       "      <td>0.000000</td>\n",
       "      <td>0.0</td>\n",
       "      <td>0.0</td>\n",
       "      <td>0.0</td>\n",
       "    </tr>\n",
       "    <tr>\n",
       "      <th>3</th>\n",
       "      <td>0.0</td>\n",
       "      <td>0.0</td>\n",
       "      <td>0.0</td>\n",
       "      <td>0.0</td>\n",
       "      <td>0.0</td>\n",
       "      <td>0.0</td>\n",
       "      <td>0.000000</td>\n",
       "      <td>0.0</td>\n",
       "      <td>0.000000</td>\n",
       "      <td>0.0</td>\n",
       "      <td>...</td>\n",
       "      <td>0.0</td>\n",
       "      <td>0.0</td>\n",
       "      <td>0.0</td>\n",
       "      <td>0.0</td>\n",
       "      <td>0.000000</td>\n",
       "      <td>0.0</td>\n",
       "      <td>0.000000</td>\n",
       "      <td>0.0</td>\n",
       "      <td>0.0</td>\n",
       "      <td>0.0</td>\n",
       "    </tr>\n",
       "    <tr>\n",
       "      <th>4</th>\n",
       "      <td>0.0</td>\n",
       "      <td>0.0</td>\n",
       "      <td>0.0</td>\n",
       "      <td>0.0</td>\n",
       "      <td>0.0</td>\n",
       "      <td>0.0</td>\n",
       "      <td>0.000000</td>\n",
       "      <td>0.0</td>\n",
       "      <td>0.000000</td>\n",
       "      <td>0.0</td>\n",
       "      <td>...</td>\n",
       "      <td>0.0</td>\n",
       "      <td>0.0</td>\n",
       "      <td>0.0</td>\n",
       "      <td>0.0</td>\n",
       "      <td>0.000000</td>\n",
       "      <td>0.0</td>\n",
       "      <td>0.490904</td>\n",
       "      <td>0.0</td>\n",
       "      <td>0.0</td>\n",
       "      <td>0.0</td>\n",
       "    </tr>\n",
       "  </tbody>\n",
       "</table>\n",
       "<p>5 rows × 568 columns</p>\n",
       "</div>"
      ],
      "text/plain": [
       "   2 years  2+ years  3+ years  5+ years  a broad range  a company  \\\n",
       "0      0.0       0.0       0.0       0.0            0.0        0.0   \n",
       "1      0.0       0.0       0.0       0.0            0.0        0.0   \n",
       "2      0.0       0.0       0.0       0.0            0.0        0.0   \n",
       "3      0.0       0.0       0.0       0.0            0.0        0.0   \n",
       "4      0.0       0.0       0.0       0.0            0.0        0.0   \n",
       "\n",
       "   a data scientist  a degree  a difference  a disability  ...  visualization  \\\n",
       "0          0.000000       0.0      0.000000           0.0  ...            0.0   \n",
       "1          0.092967       0.0      0.172566           0.0  ...            0.0   \n",
       "2          0.161349       0.0      0.000000           0.0  ...            0.0   \n",
       "3          0.000000       0.0      0.000000           0.0  ...            0.0   \n",
       "4          0.000000       0.0      0.000000           0.0  ...            0.0   \n",
       "\n",
       "   visualizations  ways  women      work  work experience     years  \\\n",
       "0             0.0   0.0    0.0  0.000000              0.0  0.000000   \n",
       "1             0.0   0.0    0.0  0.112367              0.0  0.000000   \n",
       "2             0.0   0.0    0.0  0.000000              0.0  0.000000   \n",
       "3             0.0   0.0    0.0  0.000000              0.0  0.000000   \n",
       "4             0.0   0.0    0.0  0.000000              0.0  0.490904   \n",
       "\n",
       "   your career  your skills  your work  \n",
       "0          0.0          0.0        0.0  \n",
       "1          0.0          0.0        0.0  \n",
       "2          0.0          0.0        0.0  \n",
       "3          0.0          0.0        0.0  \n",
       "4          0.0          0.0        0.0  \n",
       "\n",
       "[5 rows x 568 columns]"
      ]
     },
     "execution_count": 203,
     "metadata": {},
     "output_type": "execute_result"
    }
   ],
   "source": [
    "# Instantiate vectorizer object.\n",
    "tfidf = TfidfVectorizer(\n",
    "    tokenizer=get_chunks, \n",
    "    min_df=0.025, \n",
    "    max_df=.975,\n",
    "    stop_words='english'\n",
    ") # ngram_range=(1,2)\n",
    "\n",
    "# Create a vocabulary and get word counts per document.\n",
    "dtm = tfidf.fit_transform(df.job) # Similiar to fit_predict\n",
    "\n",
    "# Get feature names to use as dataframe column headers.\n",
    "dtm_df = pd.DataFrame(dtm.todense(), columns=tfidf.get_feature_names())\n",
    "\n",
    "# View Feature Matrix as DataFrame.\n",
    "dtm_df.head()"
   ]
  },
  {
   "cell_type": "markdown",
   "metadata": {},
   "source": [
    "## 6) Create a NearestNeighbor Model. Write the description of your ideal datascience job and query your job listings. "
   ]
  },
  {
   "cell_type": "code",
   "execution_count": 205,
   "metadata": {
    "inputHidden": false,
    "outputHidden": false,
    "scrolled": true
   },
   "outputs": [
    {
     "name": "stderr",
     "output_type": "stream",
     "text": [
      "C:\\Users\\Owen\\Anaconda3\\envs\\nlp1\\lib\\site-packages\\sklearn\\neighbors\\base.py:217: UserWarning: cannot use tree with sparse input: using brute force\n",
      "  warnings.warn(\"cannot use tree with sparse input: \"\n"
     ]
    },
    {
     "data": {
      "text/plain": [
       "NearestNeighbors(algorithm='kd_tree', leaf_size=30, metric='minkowski',\n",
       "         metric_params=None, n_jobs=None, n_neighbors=5, p=2, radius=1.0)"
      ]
     },
     "execution_count": 205,
     "metadata": {},
     "output_type": "execute_result"
    }
   ],
   "source": [
    "# Instantiate the model.\n",
    "nn_model  = NearestNeighbors(\n",
    "    n_neighbors=5,\n",
    "    algorithm='kd_tree')\n",
    "\n",
    "# Fit model on TF-IDF Vectors.\n",
    "nn_model.fit(dtm)"
   ]
  },
  {
   "cell_type": "code",
   "execution_count": 208,
   "metadata": {},
   "outputs": [],
   "source": [
    "ideal_job_description = [\n",
    "    \"\"\"\n",
    "    Machine Learning Engineer\n",
    "\n",
    "$80k – $160k • 0.0% – 1.0%\n",
    "\n",
    "Apply now\n",
    "\n",
    "We are looking for a Machine learning scientist to join our Science team and help us scale our ambitious Natural language processing (NLP) and ML (Vision, Speech) efforts to build the best conversational Artificial intelligence.\n",
    "\n",
    "So far, each time we’ve incorporated new NLP models into the product, we’ve seen significant improvements to both the conversation quality, and the long-term user retention. In particular, our coreference resolution module (NeuralCoref) helped us understand the context in quick exchanges of short text messages measurably better. Our emotion classifier, called TorchMoji (trained on 1.6 billion tweets!) has let us create stronger empathy and more emotional connection to our users.\n",
    "\n",
    "Your task will be to make our NLP stack and models 10x smarter. You’ll be able to train on our large scale conversation dataset (+100M messages), and you’ll see the output of your work in production, used by real users, in almost real time (we ship NLP models every week).\n",
    "\n",
    "Along the way, you’ll also publish open source implementations and contribute to the state-of-the-art in academic research in Machine learning. In 2018, our team already got papers accepted in several top conferences in AI/ML happening this year: ACL (current top conference in NLP) and ICLR (founded in 2013 by Yoshua Bengio & Yann Lecun) and we are on track to be featured in several other top AI/ML venues this year.\n",
    "\n",
    "\n",
    "What You’ll Do\n",
    "\n",
    "- Design and implement cutting-edge NLP models.\n",
    "- Working with our engineering and product team, deploy those models in production to our conversation stack, and monitor and analyse their results.\n",
    "- Along the way, publish some kick-ass research papers to top-tier conferences.\n",
    "\n",
    "Who You Are\n",
    "\n",
    "- MSc. or PhD in Computer science, engineering or a related field (Math, Physics, Statistics, …).\n",
    "- Vision alignment: you believe everyone will talk to an AI everyday in 5 years and you are passionate to work hard to achieve this vision.\n",
    "- Proficient in Python and at least one ML framework: PyTorch or Tensorflow.\n",
    "- Familiarity with NLP “deep-learning style”: RNN, CNN, attention-based models, embeddings (the content of Richard Socher’s Stanford class for instance)\n",
    "- Optional but appreciated:\n",
    "- Familiar with “classical” NLP tasks and tools: syntactic and semantic parsing, semantic relations extraction (openIE), co-reference resolution\n",
    "- Knowledge of C/C++ and Carnegie Mellon’s DyNet (a C++ neural net framework) would be appreciated\n",
    "\n",
    "\n",
    "We want to develop a strong culture of ownership where all team members are top-level builders and doers (no long meetings here!). We’ve done other startups in the past, so we want to always find the intersection between what makes you most excited, and what makes sense for the company.\n",
    "\n",
    "This is a full time salaried position, including competitive salaries, stock options and health insurance. Location is in Brooklyn, New York.\n",
    "\n",
    "If not based in NY we can help you relocate.\n",
    "\n",
    "Location\n",
    "\n",
    "New York CityParis\n",
    "\n",
    "Job typeFull-time\n",
    "\n",
    "Visa sponsorshipAvailable\n",
    "\n",
    "Experience3+ years\n",
    "    \"\"\"\n",
    "]"
   ]
  },
  {
   "cell_type": "code",
   "execution_count": 210,
   "metadata": {},
   "outputs": [
    {
     "data": {
      "text/plain": [
       "(array([[1.        , 1.19610205, 1.20930289, 1.22498067, 1.22504008]]),\n",
       " array([[159, 421,  93, 179, 254]], dtype=int64))"
      ]
     },
     "execution_count": 210,
     "metadata": {},
     "output_type": "execute_result"
    }
   ],
   "source": [
    "# Make description correct format.\n",
    "ideal_job = tfidf.transform(ideal_job_description)\n",
    "\n",
    "# Find similar job listings.\n",
    "nn_model.kneighbors(ideal_job.todense())"
   ]
  },
  {
   "cell_type": "code",
   "execution_count": 213,
   "metadata": {},
   "outputs": [
    {
     "data": {
      "text/plain": [
       "\"b'Please review the job details below. Are you excited by the possibilities presented by combining machine learning and the cloud? Do you have the drive to contribute to our nation's security? In an increasingly data-rich environment, threats to our country are harder to detect and require the augmentation of intelligence by machines. As a part of our team, you can help turn this complex problem into a real solution for an important Intelligence Community customer. We are looking to hire a cleared Data Scientist to an established team of motivated data scientists to make the customer's vision a reality. What you will be doing: Contributing to the development and maintenance of NGA Maritimes automated machine learning framework housed in AWS and using natural language processing (NLP) Improving an architecture to ingest naval chart or notice data and other location based intelligence data at scale Learning and applying NLP to customer data Assisting NGA in their efforts to migrate the above workflow from their contractor to a solely NGA-controlled system  Minimum Qualifications: Must have a current or active TS or SCI Require 2 years of relevant experience Bachelors degree in a relevant field (physics, mathematics, computer science, operations research, etc.). 4 additional years of experience may be substituted in lieu of the degree. Proficient in AWS suite of services (particularly EC2) General NOSQL skills (particularly MongoDB) Proficient with Linux (particularly Red Hat enterprise 7) Networking knowledge (i.e. connecting to AWS instances, gathering metrics, monitoring network traffic, etc.)  Preferred Skills: Python and or or Java Bash scripting Familiarity with ESRI ArcGIS and open source geospatial tools. Familiarity natural language processing (NLP) MAXAR Technologies offers a generous compensation package including a competitive salary; choice of medical plan; dental, life, and disability insurance; a 401(K) plan with competitive company match; paid holidays and paid time off.'\""
      ]
     },
     "execution_count": 213,
     "metadata": {},
     "output_type": "execute_result"
    }
   ],
   "source": [
    "# Look at a relevant result.\n",
    "df.job[254]"
   ]
  },
  {
   "cell_type": "markdown",
   "metadata": {
    "colab_type": "text",
    "id": "FiDfTWceoRkH"
   },
   "source": [
    "## Stretch Goals\n",
    "\n",
    " - Try different visualizations for words and frequencies - what story do you want to tell with the data?\n",
    " - Scrape Job Listings for the job title \"Data Analyst\". How do these differ from Data Scientist Job Listings\n",
    " - Try and identify requirements for experience specific technologies that are asked for in the job listings. How are those distributed among the job listings?\n",
    " - Use a clustering algorithm to cluster documents by their most important terms. Do the clusters reveal any common themes?\n",
    "  - **Hint:** K-means might not be the best algorithm for this. Do a little bit of research to see what might be good for this. Also, remember that algorithms that depend on Euclidean distance break down with high dimensional data.\n",
    " - Create a labeled dataset - which jobs will you apply for? Train a model to select the jobs you are most likely to apply for. :) "
   ]
  }
 ],
 "metadata": {
  "colab": {
   "collapsed_sections": [],
   "name": "LS_DS_422_BOW_Assignment.ipynb",
   "provenance": [],
   "version": "0.3.2"
  },
  "kernel_info": {
   "name": "python3"
  },
  "kernelspec": {
   "display_name": "nlp1 (python3)",
   "language": "python",
   "name": "nlp1"
  },
  "language_info": {
   "codemirror_mode": {
    "name": "ipython",
    "version": 3
   },
   "file_extension": ".py",
   "mimetype": "text/x-python",
   "name": "python",
   "nbconvert_exporter": "python",
   "pygments_lexer": "ipython3",
   "version": "3.7.0"
  },
  "nteract": {
   "version": "0.14.3"
  }
 },
 "nbformat": 4,
 "nbformat_minor": 2
}
