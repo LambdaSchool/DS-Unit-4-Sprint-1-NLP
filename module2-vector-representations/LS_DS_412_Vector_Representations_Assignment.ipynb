{
 "cells": [
  {
   "cell_type": "markdown",
   "metadata": {},
   "source": [
    "<img align=\"left\" src=\"https://lever-client-logos.s3.amazonaws.com/864372b1-534c-480e-acd5-9711f850815c-1524247202159.png\" width=200>\n",
    "<br></br>\n",
    "\n",
    "# Vector Representations\n",
    "## *Data Science Unit 4 Sprint 2 Assignment 2*"
   ]
  },
  {
   "cell_type": "code",
   "execution_count": 137,
   "metadata": {
    "colab": {
     "base_uri": "https://localhost:8080/",
     "height": 159
    },
    "colab_type": "code",
    "id": "hyj-f9FDcVFp",
    "outputId": "5dd045fe-6e4c-458c-e2fc-253c3da9c805"
   },
   "outputs": [],
   "source": [
    "import re\n",
    "import string\n",
    "\n",
    "from sklearn.feature_extraction.text import CountVectorizer, TfidfVectorizer\n",
    "from sklearn.neighbors import NearestNeighbors\n",
    "import matplotlib.pyplot as plt\n",
    "import pandas as pd\n",
    "import numpy as np \n",
    "import spacy\n",
    "from bs4 import BeautifulSoup\n",
    "from nltk.corpus import stopwords\n",
    "nlp = spacy.load(\"en_core_web_lg\")\n"
   ]
  },
  {
   "cell_type": "markdown",
   "metadata": {
    "colab_type": "text",
    "id": "M7bcmqfGXrFG"
   },
   "source": [
    "## 1) *Clean:* Job Listings from indeed.com that contain the title \"Data Scientist\" \n",
    "\n",
    "You have `job_listings.csv` in the data folder for this module. The text data in the description column is still messy - full of html tags. Use the [BeautifulSoup](https://www.crummy.com/software/BeautifulSoup/bs4/doc/) library to clean up this column. You will need to read through the documentation to accomplish this task. "
   ]
  },
  {
   "cell_type": "code",
   "execution_count": 7,
   "metadata": {},
   "outputs": [],
   "source": [
    "df = pd.read_csv('data/job_listings.csv',usecols=['description', 'title'])"
   ]
  },
  {
   "cell_type": "code",
   "execution_count": 74,
   "metadata": {},
   "outputs": [],
   "source": [
    "df.head()\n",
    "STOPWORDS = set(stopwords.words('english'))\n",
    "\n",
    "def clean_text(X):\n",
    "    \"\"\"\n",
    "        customized cleaning function\n",
    "        X: series\n",
    "    \n",
    "        return: np.array\n",
    "    \"\"\"\n",
    "    REPLACE_BY_SPACE_RE = re.compile('[/(){}\\[\\]\\|@,;]')\n",
    "    BAD_SYMBOLS_RE = re.compile('[^0-9a-z #+_]')\n",
    "    number = re.compile('[0-9]+\\s')  #remove freestanding numbers\n",
    "\n",
    "    X = X.map(lambda t : t.lower()) # lwercase text\n",
    "    X = X.map(lambda t : re.sub(\"\\\\\\\\n\", ' ', t))\n",
    "    X = X.map(lambda t : re.sub(\"\\\\\\\\x..\", '',t))   \n",
    "    X = X.map(lambda t : re.sub(\"^b[\\'\\\"]\", '',t))   \n",
    "    X = X.map(lambda t : BeautifulSoup(t, \"lxml\").text) # strip html tags\n",
    "    X = X.map(lambda t : REPLACE_BY_SPACE_RE.sub(' ', t))  # symbols by space in text\n",
    "    X = X.map(lambda t : BAD_SYMBOLS_RE.sub('', t)) # delete symbols which are in BAD_SYMBOLS_RE\n",
    "    X = X.map(lambda t : number.sub('', t))         # remove groups of digits\n",
    "    X = X.map(lambda t : ' '.join(word for word in t.split() if word not in STOPWORDS))# delete stopwords\n",
    "    return np.array(X)\n"
   ]
  },
  {
   "cell_type": "code",
   "execution_count": 125,
   "metadata": {},
   "outputs": [
    {
     "data": {
      "text/html": [
       "<div>\n",
       "<style scoped>\n",
       "    .dataframe tbody tr th:only-of-type {\n",
       "        vertical-align: middle;\n",
       "    }\n",
       "\n",
       "    .dataframe tbody tr th {\n",
       "        vertical-align: top;\n",
       "    }\n",
       "\n",
       "    .dataframe thead th {\n",
       "        text-align: right;\n",
       "    }\n",
       "</style>\n",
       "<table border=\"1\" class=\"dataframe\">\n",
       "  <thead>\n",
       "    <tr style=\"text-align: right;\">\n",
       "      <th></th>\n",
       "      <th>description</th>\n",
       "      <th>title</th>\n",
       "      <th>cleaned</th>\n",
       "      <th>tokens</th>\n",
       "    </tr>\n",
       "  </thead>\n",
       "  <tbody>\n",
       "    <tr>\n",
       "      <th>0</th>\n",
       "      <td>b\"&lt;div&gt;&lt;div&gt;Job Requirements:&lt;/div&gt;&lt;ul&gt;&lt;li&gt;&lt;p&gt;...</td>\n",
       "      <td>Data scientist</td>\n",
       "      <td>requirements conceptual understanding machine ...</td>\n",
       "      <td>(requirements, conceptual, understanding, mach...</td>\n",
       "    </tr>\n",
       "    <tr>\n",
       "      <th>1</th>\n",
       "      <td>b'&lt;div&gt;Job Description&lt;br/&gt;\\n&lt;br/&gt;\\n&lt;p&gt;As a Da...</td>\n",
       "      <td>Data Scientist I</td>\n",
       "      <td>description help us build machine learning mod...</td>\n",
       "      <td>(description, help, us, build, machine, learni...</td>\n",
       "    </tr>\n",
       "    <tr>\n",
       "      <th>2</th>\n",
       "      <td>b'&lt;div&gt;&lt;p&gt;As a Data Scientist you will be work...</td>\n",
       "      <td>Data Scientist - Entry Level</td>\n",
       "      <td>working consulting side business responsible a...</td>\n",
       "      <td>(working, consulting, side, business, responsi...</td>\n",
       "    </tr>\n",
       "    <tr>\n",
       "      <th>3</th>\n",
       "      <td>b'&lt;div class=\"jobsearch-JobMetadataHeader icl-...</td>\n",
       "      <td>Data Scientist</td>\n",
       "      <td>monthcontractunder general supervision profess...</td>\n",
       "      <td>(monthcontractunder, general, supervision, pro...</td>\n",
       "    </tr>\n",
       "    <tr>\n",
       "      <th>4</th>\n",
       "      <td>b'&lt;ul&gt;&lt;li&gt;Location: USA \\xe2\\x80\\x93 multiple ...</td>\n",
       "      <td>Data Scientist</td>\n",
       "      <td>location usa multiple locations 2+ years analy...</td>\n",
       "      <td>(location, usa, multiple, locations, 2, +, yea...</td>\n",
       "    </tr>\n",
       "    <tr>\n",
       "      <th>5</th>\n",
       "      <td>b'&lt;div&gt;Create various Business Intelligence An...</td>\n",
       "      <td>Data Scientist</td>\n",
       "      <td>create various business intelligence analytica...</td>\n",
       "      <td>(create, various, business, intelligence, anal...</td>\n",
       "    </tr>\n",
       "    <tr>\n",
       "      <th>6</th>\n",
       "      <td>b'&lt;div&gt;&lt;p&gt;As Spotify Premium swells to over 96...</td>\n",
       "      <td>Associate Data Scientist – Premium Analytics</td>\n",
       "      <td>spotify premium swells 96m subscribers around ...</td>\n",
       "      <td>(spotify, premium, swells, 96, m, subscribers,...</td>\n",
       "    </tr>\n",
       "    <tr>\n",
       "      <th>7</th>\n",
       "      <td>b\"Everytown for Gun Safety, the nation's large...</td>\n",
       "      <td>Data Scientist</td>\n",
       "      <td>everytown gun safety nations largest gun viole...</td>\n",
       "      <td>(everytown, gun, safety, nations, largest, gun...</td>\n",
       "    </tr>\n",
       "    <tr>\n",
       "      <th>8</th>\n",
       "      <td>b\"&lt;ul&gt;&lt;li&gt;MS in a quantitative discipline such...</td>\n",
       "      <td>Sr. Data Scientist</td>\n",
       "      <td>ms quantitative discipline statistics mathemat...</td>\n",
       "      <td>(ms, quantitative, discipline, statistics, mat...</td>\n",
       "    </tr>\n",
       "    <tr>\n",
       "      <th>9</th>\n",
       "      <td>b'&lt;div&gt;&lt;p&gt;Slack is hiring experienced data sci...</td>\n",
       "      <td>Data Scientist, Lifecyle</td>\n",
       "      <td>slack hiring experienced scientists join lifec...</td>\n",
       "      <td>(slack, hiring, experienced, scientists, join,...</td>\n",
       "    </tr>\n",
       "  </tbody>\n",
       "</table>\n",
       "</div>"
      ],
      "text/plain": [
       "                                         description  \\\n",
       "0  b\"<div><div>Job Requirements:</div><ul><li><p>...   \n",
       "1  b'<div>Job Description<br/>\\n<br/>\\n<p>As a Da...   \n",
       "2  b'<div><p>As a Data Scientist you will be work...   \n",
       "3  b'<div class=\"jobsearch-JobMetadataHeader icl-...   \n",
       "4  b'<ul><li>Location: USA \\xe2\\x80\\x93 multiple ...   \n",
       "5  b'<div>Create various Business Intelligence An...   \n",
       "6  b'<div><p>As Spotify Premium swells to over 96...   \n",
       "7  b\"Everytown for Gun Safety, the nation's large...   \n",
       "8  b\"<ul><li>MS in a quantitative discipline such...   \n",
       "9  b'<div><p>Slack is hiring experienced data sci...   \n",
       "\n",
       "                                          title  \\\n",
       "0                               Data scientist    \n",
       "1                              Data Scientist I   \n",
       "2                  Data Scientist - Entry Level   \n",
       "3                                Data Scientist   \n",
       "4                                Data Scientist   \n",
       "5                                Data Scientist   \n",
       "6  Associate Data Scientist – Premium Analytics   \n",
       "7                                Data Scientist   \n",
       "8                            Sr. Data Scientist   \n",
       "9                      Data Scientist, Lifecyle   \n",
       "\n",
       "                                             cleaned  \\\n",
       "0  requirements conceptual understanding machine ...   \n",
       "1  description help us build machine learning mod...   \n",
       "2  working consulting side business responsible a...   \n",
       "3  monthcontractunder general supervision profess...   \n",
       "4  location usa multiple locations 2+ years analy...   \n",
       "5  create various business intelligence analytica...   \n",
       "6  spotify premium swells 96m subscribers around ...   \n",
       "7  everytown gun safety nations largest gun viole...   \n",
       "8  ms quantitative discipline statistics mathemat...   \n",
       "9  slack hiring experienced scientists join lifec...   \n",
       "\n",
       "                                              tokens  \n",
       "0  (requirements, conceptual, understanding, mach...  \n",
       "1  (description, help, us, build, machine, learni...  \n",
       "2  (working, consulting, side, business, responsi...  \n",
       "3  (monthcontractunder, general, supervision, pro...  \n",
       "4  (location, usa, multiple, locations, 2, +, yea...  \n",
       "5  (create, various, business, intelligence, anal...  \n",
       "6  (spotify, premium, swells, 96, m, subscribers,...  \n",
       "7  (everytown, gun, safety, nations, largest, gun...  \n",
       "8  (ms, quantitative, discipline, statistics, mat...  \n",
       "9  (slack, hiring, experienced, scientists, join,...  "
      ]
     },
     "execution_count": 125,
     "metadata": {},
     "output_type": "execute_result"
    }
   ],
   "source": [
    "STOPWORDS.update(['data','scientist', 'science','job', 'bjob', 'b'])\n",
    "df['cleaned'] = clean_text(df.description)\n",
    "df.head(10)"
   ]
  },
  {
   "cell_type": "code",
   "execution_count": 126,
   "metadata": {},
   "outputs": [
    {
     "data": {
      "text/plain": [
       "Data Scientist                                                                     150\n",
       "Senior Data Scientist                                                               14\n",
       "Junior Data Scientist                                                               10\n",
       "Associate Data Scientist                                                             8\n",
       "Data Scientist Intern                                                                7\n",
       "                                                                                  ... \n",
       "2019 PhD University Graduate - Data Scientist I/II - Applied Behavioral Science      1\n",
       "2019 PhD University Graduate - Data Scientist I/II - Experimentation                 1\n",
       "Sr. Data Scientist – Data for Insights Practice                                      1\n",
       "People Data Scientist                                                                1\n",
       "Data Analyst / Data Scientist                                                        1\n",
       "Name: title, Length: 177, dtype: int64"
      ]
     },
     "execution_count": 126,
     "metadata": {},
     "output_type": "execute_result"
    }
   ],
   "source": [
    "df.title.value_counts()\n"
   ]
  },
  {
   "cell_type": "markdown",
   "metadata": {
    "colab_type": "text",
    "id": "5C4xFZNtX1m2"
   },
   "source": [
    "## 2) Use Spacy to tokenize the listings "
   ]
  },
  {
   "cell_type": "code",
   "execution_count": 127,
   "metadata": {
    "colab": {},
    "colab_type": "code",
    "id": "dhUHuMr-X-II"
   },
   "outputs": [
    {
     "data": {
      "text/plain": [
       "(426, 4)"
      ]
     },
     "execution_count": 127,
     "metadata": {},
     "output_type": "execute_result"
    }
   ],
   "source": [
    "##### Your Code Here #####\n",
    "df['tokens'] = df['cleaned'].map(nlp)\n",
    "\n",
    "df.shape"
   ]
  },
  {
   "cell_type": "code",
   "execution_count": null,
   "metadata": {},
   "outputs": [],
   "source": []
  },
  {
   "cell_type": "code",
   "execution_count": 128,
   "metadata": {},
   "outputs": [
    {
     "data": {
      "text/plain": [
       "spacy.tokens.doc.Doc"
      ]
     },
     "execution_count": 128,
     "metadata": {},
     "output_type": "execute_result"
    }
   ],
   "source": [
    "type(df.tokens.array[0])"
   ]
  },
  {
   "cell_type": "markdown",
   "metadata": {
    "colab_type": "text",
    "id": "-lgCZNL_YycP"
   },
   "source": [
    "## 3) Use Scikit-Learn's CountVectorizer to get word counts for each listing."
   ]
  },
  {
   "cell_type": "code",
   "execution_count": 129,
   "metadata": {
    "colab": {},
    "colab_type": "code",
    "id": "X2PZ8Pj_YxcF"
   },
   "outputs": [
    {
     "data": {
      "text/plain": [
       "(426, 9558)"
      ]
     },
     "execution_count": 129,
     "metadata": {},
     "output_type": "execute_result"
    }
   ],
   "source": [
    "##### Your Code Here #####\n",
    "countvec = CountVectorizer(stop_words=list(STOPWORDS))   \n",
    "word_vec = countvec.fit_transform(df.cleaned)\n",
    "word_vec.shape"
   ]
  },
  {
   "cell_type": "code",
   "execution_count": 130,
   "metadata": {},
   "outputs": [],
   "source": [
    "#countvec.vocabulary_\n",
    "wc_df = pd.DataFrame(word_vec.todense(), columns=countvec.get_feature_names())\n"
   ]
  },
  {
   "cell_type": "code",
   "execution_count": 131,
   "metadata": {},
   "outputs": [
    {
     "data": {
      "text/html": [
       "<div>\n",
       "<style scoped>\n",
       "    .dataframe tbody tr th:only-of-type {\n",
       "        vertical-align: middle;\n",
       "    }\n",
       "\n",
       "    .dataframe tbody tr th {\n",
       "        vertical-align: top;\n",
       "    }\n",
       "\n",
       "    .dataframe thead th {\n",
       "        text-align: right;\n",
       "    }\n",
       "</style>\n",
       "<table border=\"1\" class=\"dataframe\">\n",
       "  <thead>\n",
       "    <tr style=\"text-align: right;\">\n",
       "      <th></th>\n",
       "      <th>00</th>\n",
       "      <th>000</th>\n",
       "      <th>000125</th>\n",
       "      <th>02</th>\n",
       "      <th>02115</th>\n",
       "      <th>03</th>\n",
       "      <th>030</th>\n",
       "      <th>030547069</th>\n",
       "      <th>04</th>\n",
       "      <th>062</th>\n",
       "      <th>...</th>\n",
       "      <th>zfs</th>\n",
       "      <th>zheng</th>\n",
       "      <th>zillow</th>\n",
       "      <th>zillows</th>\n",
       "      <th>zogsports</th>\n",
       "      <th>zones</th>\n",
       "      <th>zoom</th>\n",
       "      <th>zuckerberg</th>\n",
       "      <th>zurich</th>\n",
       "      <th>zurichs</th>\n",
       "    </tr>\n",
       "  </thead>\n",
       "  <tbody>\n",
       "    <tr>\n",
       "      <th>0</th>\n",
       "      <td>0</td>\n",
       "      <td>0</td>\n",
       "      <td>0</td>\n",
       "      <td>0</td>\n",
       "      <td>0</td>\n",
       "      <td>0</td>\n",
       "      <td>0</td>\n",
       "      <td>0</td>\n",
       "      <td>0</td>\n",
       "      <td>0</td>\n",
       "      <td>...</td>\n",
       "      <td>0</td>\n",
       "      <td>0</td>\n",
       "      <td>0</td>\n",
       "      <td>0</td>\n",
       "      <td>0</td>\n",
       "      <td>0</td>\n",
       "      <td>0</td>\n",
       "      <td>0</td>\n",
       "      <td>0</td>\n",
       "      <td>0</td>\n",
       "    </tr>\n",
       "    <tr>\n",
       "      <th>1</th>\n",
       "      <td>0</td>\n",
       "      <td>0</td>\n",
       "      <td>0</td>\n",
       "      <td>0</td>\n",
       "      <td>0</td>\n",
       "      <td>0</td>\n",
       "      <td>0</td>\n",
       "      <td>0</td>\n",
       "      <td>0</td>\n",
       "      <td>0</td>\n",
       "      <td>...</td>\n",
       "      <td>0</td>\n",
       "      <td>0</td>\n",
       "      <td>0</td>\n",
       "      <td>0</td>\n",
       "      <td>0</td>\n",
       "      <td>0</td>\n",
       "      <td>0</td>\n",
       "      <td>0</td>\n",
       "      <td>0</td>\n",
       "      <td>0</td>\n",
       "    </tr>\n",
       "    <tr>\n",
       "      <th>2</th>\n",
       "      <td>0</td>\n",
       "      <td>0</td>\n",
       "      <td>0</td>\n",
       "      <td>0</td>\n",
       "      <td>0</td>\n",
       "      <td>0</td>\n",
       "      <td>0</td>\n",
       "      <td>0</td>\n",
       "      <td>0</td>\n",
       "      <td>0</td>\n",
       "      <td>...</td>\n",
       "      <td>0</td>\n",
       "      <td>0</td>\n",
       "      <td>0</td>\n",
       "      <td>0</td>\n",
       "      <td>0</td>\n",
       "      <td>0</td>\n",
       "      <td>0</td>\n",
       "      <td>0</td>\n",
       "      <td>0</td>\n",
       "      <td>0</td>\n",
       "    </tr>\n",
       "    <tr>\n",
       "      <th>3</th>\n",
       "      <td>0</td>\n",
       "      <td>0</td>\n",
       "      <td>0</td>\n",
       "      <td>0</td>\n",
       "      <td>0</td>\n",
       "      <td>0</td>\n",
       "      <td>0</td>\n",
       "      <td>0</td>\n",
       "      <td>0</td>\n",
       "      <td>0</td>\n",
       "      <td>...</td>\n",
       "      <td>0</td>\n",
       "      <td>1</td>\n",
       "      <td>0</td>\n",
       "      <td>0</td>\n",
       "      <td>0</td>\n",
       "      <td>0</td>\n",
       "      <td>0</td>\n",
       "      <td>0</td>\n",
       "      <td>0</td>\n",
       "      <td>0</td>\n",
       "    </tr>\n",
       "    <tr>\n",
       "      <th>4</th>\n",
       "      <td>0</td>\n",
       "      <td>0</td>\n",
       "      <td>0</td>\n",
       "      <td>0</td>\n",
       "      <td>0</td>\n",
       "      <td>0</td>\n",
       "      <td>0</td>\n",
       "      <td>0</td>\n",
       "      <td>0</td>\n",
       "      <td>0</td>\n",
       "      <td>...</td>\n",
       "      <td>0</td>\n",
       "      <td>0</td>\n",
       "      <td>0</td>\n",
       "      <td>0</td>\n",
       "      <td>0</td>\n",
       "      <td>0</td>\n",
       "      <td>0</td>\n",
       "      <td>0</td>\n",
       "      <td>0</td>\n",
       "      <td>0</td>\n",
       "    </tr>\n",
       "  </tbody>\n",
       "</table>\n",
       "<p>5 rows × 9558 columns</p>\n",
       "</div>"
      ],
      "text/plain": [
       "   00  000  000125  02  02115  03  030  030547069  04  062  ...  zfs  zheng  \\\n",
       "0   0    0       0   0      0   0    0          0   0    0  ...    0      0   \n",
       "1   0    0       0   0      0   0    0          0   0    0  ...    0      0   \n",
       "2   0    0       0   0      0   0    0          0   0    0  ...    0      0   \n",
       "3   0    0       0   0      0   0    0          0   0    0  ...    0      1   \n",
       "4   0    0       0   0      0   0    0          0   0    0  ...    0      0   \n",
       "\n",
       "   zillow  zillows  zogsports  zones  zoom  zuckerberg  zurich  zurichs  \n",
       "0       0        0          0      0     0           0       0        0  \n",
       "1       0        0          0      0     0           0       0        0  \n",
       "2       0        0          0      0     0           0       0        0  \n",
       "3       0        0          0      0     0           0       0        0  \n",
       "4       0        0          0      0     0           0       0        0  \n",
       "\n",
       "[5 rows x 9558 columns]"
      ]
     },
     "execution_count": 131,
     "metadata": {},
     "output_type": "execute_result"
    }
   ],
   "source": [
    "wc_df.head()"
   ]
  },
  {
   "cell_type": "markdown",
   "metadata": {
    "colab_type": "text",
    "id": "Zo1iH_UeY7_n"
   },
   "source": [
    "## 4) Visualize the most common word counts"
   ]
  },
  {
   "cell_type": "code",
   "execution_count": 135,
   "metadata": {
    "colab": {},
    "colab_type": "code",
    "id": "M5LB00uyZKV5"
   },
   "outputs": [
    {
     "name": "stderr",
     "output_type": "stream",
     "text": [
      "/home/dliu/.conda/envs/U4-S1-NLP/lib/python3.7/site-packages/pandas/plotting/_matplotlib/core.py:1235: UserWarning: FixedFormatter should only be used together with FixedLocator\n",
      "  ax.set_xticklabels(xticklabels)\n"
     ]
    },
    {
     "data": {
      "text/plain": [
       "<AxesSubplot:>"
      ]
     },
     "execution_count": 135,
     "metadata": {},
     "output_type": "execute_result"
    },
    {
     "data": {
      "image/png": "[encoded data removed]",
      "text/plain": [
       "<Figure size 432x288 with 1 Axes>"
      ]
     },
     "metadata": {
      "needs_background": "light"
     },
     "output_type": "display_data"
    }
   ],
   "source": [
    "##### Your Code Here #####\n",
    "wc_df.sum().sort_values(ascending=False).head(10).plot()\n",
    "\n"
   ]
  },
  {
   "cell_type": "code",
   "execution_count": null,
   "metadata": {},
   "outputs": [],
   "source": []
  },
  {
   "cell_type": "markdown",
   "metadata": {
    "colab_type": "text",
    "id": "bwFsTqrVZMYi"
   },
   "source": [
    "## 5) Use Scikit-Learn's tfidfVectorizer to get a TF-IDF feature matrix"
   ]
  },
  {
   "cell_type": "code",
   "execution_count": 182,
   "metadata": {
    "colab": {},
    "colab_type": "code",
    "id": "-gx2gZCbl5Np"
   },
   "outputs": [
    {
     "name": "stdout",
     "output_type": "stream",
     "text": [
      "(426, 9558)\n"
     ]
    },
    {
     "data": {
      "text/html": [
       "<div>\n",
       "<style scoped>\n",
       "    .dataframe tbody tr th:only-of-type {\n",
       "        vertical-align: middle;\n",
       "    }\n",
       "\n",
       "    .dataframe tbody tr th {\n",
       "        vertical-align: top;\n",
       "    }\n",
       "\n",
       "    .dataframe thead th {\n",
       "        text-align: right;\n",
       "    }\n",
       "</style>\n",
       "<table border=\"1\" class=\"dataframe\">\n",
       "  <thead>\n",
       "    <tr style=\"text-align: right;\">\n",
       "      <th></th>\n",
       "      <th>00</th>\n",
       "      <th>000</th>\n",
       "      <th>000125</th>\n",
       "      <th>02</th>\n",
       "      <th>02115</th>\n",
       "      <th>03</th>\n",
       "      <th>030</th>\n",
       "      <th>030547069</th>\n",
       "      <th>04</th>\n",
       "      <th>062</th>\n",
       "      <th>...</th>\n",
       "      <th>zfs</th>\n",
       "      <th>zheng</th>\n",
       "      <th>zillow</th>\n",
       "      <th>zillows</th>\n",
       "      <th>zogsports</th>\n",
       "      <th>zones</th>\n",
       "      <th>zoom</th>\n",
       "      <th>zuckerberg</th>\n",
       "      <th>zurich</th>\n",
       "      <th>zurichs</th>\n",
       "    </tr>\n",
       "  </thead>\n",
       "  <tbody>\n",
       "    <tr>\n",
       "      <th>3</th>\n",
       "      <td>0.0</td>\n",
       "      <td>0.0</td>\n",
       "      <td>0.0</td>\n",
       "      <td>0.0</td>\n",
       "      <td>0.0</td>\n",
       "      <td>0.0</td>\n",
       "      <td>0.0</td>\n",
       "      <td>0.0</td>\n",
       "      <td>0.0</td>\n",
       "      <td>0.0</td>\n",
       "      <td>...</td>\n",
       "      <td>0.0</td>\n",
       "      <td>0.10409</td>\n",
       "      <td>0.0</td>\n",
       "      <td>0.0</td>\n",
       "      <td>0.0</td>\n",
       "      <td>0.0</td>\n",
       "      <td>0.0</td>\n",
       "      <td>0.0</td>\n",
       "      <td>0.0</td>\n",
       "      <td>0.0</td>\n",
       "    </tr>\n",
       "    <tr>\n",
       "      <th>0</th>\n",
       "      <td>0.0</td>\n",
       "      <td>0.0</td>\n",
       "      <td>0.0</td>\n",
       "      <td>0.0</td>\n",
       "      <td>0.0</td>\n",
       "      <td>0.0</td>\n",
       "      <td>0.0</td>\n",
       "      <td>0.0</td>\n",
       "      <td>0.0</td>\n",
       "      <td>0.0</td>\n",
       "      <td>...</td>\n",
       "      <td>0.0</td>\n",
       "      <td>0.00000</td>\n",
       "      <td>0.0</td>\n",
       "      <td>0.0</td>\n",
       "      <td>0.0</td>\n",
       "      <td>0.0</td>\n",
       "      <td>0.0</td>\n",
       "      <td>0.0</td>\n",
       "      <td>0.0</td>\n",
       "      <td>0.0</td>\n",
       "    </tr>\n",
       "    <tr>\n",
       "      <th>280</th>\n",
       "      <td>0.0</td>\n",
       "      <td>0.0</td>\n",
       "      <td>0.0</td>\n",
       "      <td>0.0</td>\n",
       "      <td>0.0</td>\n",
       "      <td>0.0</td>\n",
       "      <td>0.0</td>\n",
       "      <td>0.0</td>\n",
       "      <td>0.0</td>\n",
       "      <td>0.0</td>\n",
       "      <td>...</td>\n",
       "      <td>0.0</td>\n",
       "      <td>0.00000</td>\n",
       "      <td>0.0</td>\n",
       "      <td>0.0</td>\n",
       "      <td>0.0</td>\n",
       "      <td>0.0</td>\n",
       "      <td>0.0</td>\n",
       "      <td>0.0</td>\n",
       "      <td>0.0</td>\n",
       "      <td>0.0</td>\n",
       "    </tr>\n",
       "    <tr>\n",
       "      <th>291</th>\n",
       "      <td>0.0</td>\n",
       "      <td>0.0</td>\n",
       "      <td>0.0</td>\n",
       "      <td>0.0</td>\n",
       "      <td>0.0</td>\n",
       "      <td>0.0</td>\n",
       "      <td>0.0</td>\n",
       "      <td>0.0</td>\n",
       "      <td>0.0</td>\n",
       "      <td>0.0</td>\n",
       "      <td>...</td>\n",
       "      <td>0.0</td>\n",
       "      <td>0.00000</td>\n",
       "      <td>0.0</td>\n",
       "      <td>0.0</td>\n",
       "      <td>0.0</td>\n",
       "      <td>0.0</td>\n",
       "      <td>0.0</td>\n",
       "      <td>0.0</td>\n",
       "      <td>0.0</td>\n",
       "      <td>0.0</td>\n",
       "    </tr>\n",
       "    <tr>\n",
       "      <th>290</th>\n",
       "      <td>0.0</td>\n",
       "      <td>0.0</td>\n",
       "      <td>0.0</td>\n",
       "      <td>0.0</td>\n",
       "      <td>0.0</td>\n",
       "      <td>0.0</td>\n",
       "      <td>0.0</td>\n",
       "      <td>0.0</td>\n",
       "      <td>0.0</td>\n",
       "      <td>0.0</td>\n",
       "      <td>...</td>\n",
       "      <td>0.0</td>\n",
       "      <td>0.00000</td>\n",
       "      <td>0.0</td>\n",
       "      <td>0.0</td>\n",
       "      <td>0.0</td>\n",
       "      <td>0.0</td>\n",
       "      <td>0.0</td>\n",
       "      <td>0.0</td>\n",
       "      <td>0.0</td>\n",
       "      <td>0.0</td>\n",
       "    </tr>\n",
       "  </tbody>\n",
       "</table>\n",
       "<p>5 rows × 9558 columns</p>\n",
       "</div>"
      ],
      "text/plain": [
       "      00  000  000125   02  02115   03  030  030547069   04  062  ...  zfs  \\\n",
       "3    0.0  0.0     0.0  0.0    0.0  0.0  0.0        0.0  0.0  0.0  ...  0.0   \n",
       "0    0.0  0.0     0.0  0.0    0.0  0.0  0.0        0.0  0.0  0.0  ...  0.0   \n",
       "280  0.0  0.0     0.0  0.0    0.0  0.0  0.0        0.0  0.0  0.0  ...  0.0   \n",
       "291  0.0  0.0     0.0  0.0    0.0  0.0  0.0        0.0  0.0  0.0  ...  0.0   \n",
       "290  0.0  0.0     0.0  0.0    0.0  0.0  0.0        0.0  0.0  0.0  ...  0.0   \n",
       "\n",
       "       zheng  zillow  zillows  zogsports  zones  zoom  zuckerberg  zurich  \\\n",
       "3    0.10409     0.0      0.0        0.0    0.0   0.0         0.0     0.0   \n",
       "0    0.00000     0.0      0.0        0.0    0.0   0.0         0.0     0.0   \n",
       "280  0.00000     0.0      0.0        0.0    0.0   0.0         0.0     0.0   \n",
       "291  0.00000     0.0      0.0        0.0    0.0   0.0         0.0     0.0   \n",
       "290  0.00000     0.0      0.0        0.0    0.0   0.0         0.0     0.0   \n",
       "\n",
       "     zurichs  \n",
       "3        0.0  \n",
       "0        0.0  \n",
       "280      0.0  \n",
       "291      0.0  \n",
       "290      0.0  \n",
       "\n",
       "[5 rows x 9558 columns]"
      ]
     },
     "execution_count": 182,
     "metadata": {},
     "output_type": "execute_result"
    }
   ],
   "source": [
    "##### Your Code Here #####\n",
    "\n",
    "tf_vectorizer = TfidfVectorizer(stop_words=list(STOPWORDS))   \n",
    "tf_vec = tf_vectorizer.fit_transform(df.cleaned)\n",
    "\n",
    "\n",
    "# Get feature names to use as dataframe column headers\n",
    "dliu = pd.DataFrame(tf_vec.todense(), columns=tf_vectorizer.get_feature_names())\n",
    "\n",
    "\n",
    "# View Feature Matrix as DataFrame\n",
    "print(dliu.shape)\n",
    "dliu.sort_values('zheng', ascending=False).head()"
   ]
  },
  {
   "cell_type": "markdown",
   "metadata": {},
   "source": [
    "## 6) Create a NearestNeighbor Model. Write the description of your ideal datascience job and query your job listings. "
   ]
  },
  {
   "cell_type": "code",
   "execution_count": 193,
   "metadata": {
    "collapsed": false,
    "inputHidden": false,
    "jupyter": {
     "outputs_hidden": false
    },
    "outputHidden": false
   },
   "outputs": [],
   "source": [
    "##### Your Code Here #####\n",
    "ideal_job = (f\"Are you the next Chief Data Officer at shape.ly silicon valley new  VC darling, according to pitchbook.com? expect to be touted\"\n",
    "            \" are you a big data visionary with strong leadership and demonstrated ability to lead a growing team of brilliant data scientists and engineers\" \n",
    "            \" as we scale our team to infinity and our revenues to the moon. Don't worry about the fact that we have got a plan to make profit, we are well funded\"\n",
    "            \" and our generous options package with and liberal policies will allow you to pivot our way to another startup success story. You should have a number of \"\n",
    "            \"academic or industry credentials commensurate with your astronomical compensation package, and of course you should posess the right optics for such an public\"\n",
    "            \"role in our next chapter\")\n",
    "\n",
    "nn = NearestNeighbors(n_neighbors=5, algorithm='kd_tree')\n",
    "nn.fit(dliu)\n",
    "\n",
    "xp = tf_vectorizer.transform([ideal_job])\n",
    "xpdf = pd.DataFrame(xp.todense(), columns=tf_vectorizer.get_feature_names())\n",
    "\n",
    "listings =nn.kneighbors(xpdf, 3)[1]   #indices of 3 nearest neighbs\n",
    "[df.iloc[x] for x in listings]\n",
    "\n",
    "bestmatch =  df.iloc[212][0]\n",
    "bestmatch = re.sub(\"\\\\\\\\n\", ' ', bestmatch)\n",
    "bestmatch = re.sub(\"\\\\\\\\x..\", '',bestmatch)\n",
    "bestmatch = re.sub(\"^b[\\'\\\"]\", '',bestmatch) \n"
   ]
  },
  {
   "cell_type": "code",
   "execution_count": 195,
   "metadata": {},
   "outputs": [
    {
     "data": {
      "text/html": [
       "<div class=\"jobsearch-JobMetadataHeader icl-u-xs-mb--md\"><div class=\"jobsearch-JobMetadataHeader-item icl-u-xs-mt--xs\">Internship</div></div><div><b>Job Description</b><br/> The smartest companies today fully leverage data analytics for strategic decision making. The IBM Chief Analytics Office, a division of IBM Corporate Headquarters, combines business knowledge with big data to direct the future of IBMs strategic transformation. Do you want to drive significant change within a leading global company and influence C-suite level decisions?<br/> <br/> The IBM Chief Analytics Office is an elite analytics consulting team that is tasked by IBM executives to pursue our most complex strategic issues. Our work is a combination of data science and management consulting. Through state of the art technology, and the power of artificial intelligence we strive to improve traditional business decision-making and processes. <br/> This position is an internal Data Scientist Intern role with the Chief Analytics Office. You will work alongside consultants, managers, and data scientists to enhance business performance through analytics and data science focused initiatives.<br/> <br/> The positions responsibilities include building innovative analytical models, testing and validating models, data gathering and research, fact-based quantitative analysis, interpreting the models in business terms, and communicating findings to business leaders. Are you passionate about harnessing the power of big data and analytics to address real-world business problems and play a key role in influencing change? If so, we want you to apply.<br/> <br/> <br/> <b>Required Technical and Professional Expertise</b><br/> <br/> <ul><li>BA/BS in Data Science, Machine Learning, Statistics, or related STEM field</li><li> Proficiency in Python, R, SQL or another programming language</li><li> Experience or coursework in machine learning and/or natural language processing</li><li> Statistical modeling through software (e.g. SPSS) or programming language (e.g. Python)</li><li> Understanding of database and analytical technologies in the industry </li><li>Demonstrated ability to think strategically about business, product and technical challenges in an enterprise environment</li><li> Excellent oral and written communication skills</li><li> Ability to collaborate in a team environment</li><li> Live or be willing to relocate to New York<br/> </li></ul><br/> <br/> <b>Preferred Tech and Prof Experience</b><br/> <br/> <ul><li>MS in Data Science, Machine Learning, Statistics, or related STEM field</li><li> Quantitative data analysis</li><li> Experience and/or coursework in Deep Learning</li><li> Advanced MS Excel skills (e.g. VLOOKUP, Pivot tables)</li><li> Professional experience with Spark and/or TensorFlow</li><li> Hands-on experience deploying analytical models to solve business problems</li><li> Ability to develop experimental and analytical plans for data modeling processes</li><li> Experience with data visualization tools</li></ul><br/> <b> EO Statement</b><br/> IBM is committed to creating a diverse environment and is proud to be an equal opportunity employer. All qualified applicants will receive consideration for employment without regard to race, color, religion, gender, gender identity or expression, sexual orientation, national origin, genetics, disability, age, or veteran status. IBM is also committed to compliance with all fair employment practices regarding citizenship and immigration status.</div>'"
      ],
      "text/plain": [
       "<IPython.core.display.HTML object>"
      ]
     },
     "metadata": {},
     "output_type": "display_data"
    }
   ],
   "source": [
    "from IPython.core.display import display, HTML\n",
    "display(HTML(f\"{bestmatch}\"))"
   ]
  },
  {
   "cell_type": "code",
   "execution_count": 144,
   "metadata": {},
   "outputs": [],
   "source": []
  },
  {
   "cell_type": "code",
   "execution_count": 145,
   "metadata": {},
   "outputs": [
    {
     "data": {
      "text/plain": [
       "\"Are you the next Chief Data Officer at shape.ly silicon valley new  VC darling, according to pitchbook.com? expect to be touted are you a big data visionary with strong leadership and demonstrated ability to lead a growing team of brilliant data scientists and engineers as we scale our team to infinity and our revenues to the moon. Don't worry about the fact that we have got a plan to make profit, we are well funded and our generous options package with and liberal policies will allow you to pivot our way to another startup success story. You should have a number of academic or industry credentials commensurate with your astronomical compesation package, and of course you should possess the right optics for such an publicrole in our next chapter\""
      ]
     },
     "execution_count": 145,
     "metadata": {},
     "output_type": "execute_result"
    }
   ],
   "source": [
    "ideal_job\n"
   ]
  },
  {
   "cell_type": "markdown",
   "metadata": {
    "colab_type": "text",
    "id": "FiDfTWceoRkH"
   },
   "source": [
    "## Stretch Goals\n",
    "\n",
    " - Try different visualizations for words and frequencies - what story do you want to tell with the data?\n",
    " - Scrape Job Listings for the job title \"Data Analyst\". How do these differ from Data Scientist Job Listings\n",
    " - Try and identify requirements for experience specific technologies that are asked for in the job listings. How are those distributed among the job listings?\n",
    " - Use a clustering algorithm to cluster documents by their most important terms. Do the clusters reveal any common themes?\n",
    "  - **Hint:** K-means might not be the best algorithm for this. Do a little bit of research to see what might be good for this. Also, remember that algorithms that depend on Euclidean distance break down with high dimensional data.\n",
    " - Create a labeled dataset - which jobs will you apply for? Train a model to select the jobs you are most likely to apply for. :) "
   ]
  }
 ],
 "metadata": {
  "colab": {
   "collapsed_sections": [],
   "name": "LS_DS_422_BOW_Assignment.ipynb",
   "provenance": [],
   "version": "0.3.2"
  },
  "kernel_info": {
   "name": "python3"
  },
  "kernelspec": {
   "display_name": "U4-S1-NLP (Python3)",
   "language": "python",
   "name": "u4-s1-nlp"
  },
  "language_info": {
   "codemirror_mode": {
    "name": "ipython",
    "version": 3
   },
   "file_extension": ".py",
   "mimetype": "text/x-python",
   "name": "python",
   "nbconvert_exporter": "python",
   "pygments_lexer": "ipython3",
   "version": "3.7.0"
  },
  "nteract": {
   "version": "0.14.3"
  }
 },
 "nbformat": 4,
 "nbformat_minor": 4
}
