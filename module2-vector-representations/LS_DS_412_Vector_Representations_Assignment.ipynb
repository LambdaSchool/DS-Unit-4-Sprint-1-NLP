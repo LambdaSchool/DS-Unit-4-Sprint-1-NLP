{
 "cells": [
  {
   "cell_type": "markdown",
   "metadata": {},
   "source": [
    "<img align=\"left\" src=\"https://lever-client-logos.s3.amazonaws.com/864372b1-534c-480e-acd5-9711f850815c-1524247202159.png\" width=200>\n",
    "<br></br>\n",
    "\n",
    "# Vector Representations\n",
    "## *Data Science Unit 4 Sprint 2 Assignment 2*"
   ]
  },
  {
   "cell_type": "code",
   "execution_count": 101,
   "metadata": {
    "colab": {
     "base_uri": "https://localhost:8080/",
     "height": 159
    },
    "colab_type": "code",
    "id": "hyj-f9FDcVFp",
    "outputId": "5dd045fe-6e4c-458c-e2fc-253c3da9c805"
   },
   "outputs": [],
   "source": [
    "import re\n",
    "import string\n",
    "\n",
    "from sklearn.feature_extraction.text import CountVectorizer, TfidfVectorizer\n",
    "import matplotlib.pyplot as plt\n",
    "import pandas as pd\n",
    "import numpy as np\n",
    "import spacy\n",
    "\n",
    "from bs4 import BeautifulSoup"
   ]
  },
  {
   "cell_type": "markdown",
   "metadata": {
    "colab_type": "text",
    "id": "M7bcmqfGXrFG"
   },
   "source": [
    "## 1) *Clean:* Job Listings from indeed.com that contain the title \"Data Scientist\" \n",
    "\n",
    "You have `job_listings.csv` in the data folder for this module. The text data in the description column is still messy - full of html tags. Use the [BeautifulSoup](https://www.crummy.com/software/BeautifulSoup/bs4/doc/) library to clean up this column. You will need to read through the documentation to accomplish this task. "
   ]
  },
  {
   "cell_type": "code",
   "execution_count": 102,
   "metadata": {
    "colab": {},
    "colab_type": "code",
    "id": "KcYlc1URXhlC"
   },
   "outputs": [],
   "source": [
    "from bs4 import BeautifulSoup\n",
    "import requests\n",
    "\n",
    "##### Your Code Here #####"
   ]
  },
  {
   "cell_type": "code",
   "execution_count": 103,
   "metadata": {},
   "outputs": [
    {
     "data": {
      "text/html": [
       "<div>\n",
       "<style scoped>\n",
       "    .dataframe tbody tr th:only-of-type {\n",
       "        vertical-align: middle;\n",
       "    }\n",
       "\n",
       "    .dataframe tbody tr th {\n",
       "        vertical-align: top;\n",
       "    }\n",
       "\n",
       "    .dataframe thead th {\n",
       "        text-align: right;\n",
       "    }\n",
       "</style>\n",
       "<table border=\"1\" class=\"dataframe\">\n",
       "  <thead>\n",
       "    <tr style=\"text-align: right;\">\n",
       "      <th></th>\n",
       "      <th>Unnamed: 0</th>\n",
       "      <th>description</th>\n",
       "      <th>title</th>\n",
       "    </tr>\n",
       "  </thead>\n",
       "  <tbody>\n",
       "    <tr>\n",
       "      <th>0</th>\n",
       "      <td>0</td>\n",
       "      <td>b\"&lt;div&gt;&lt;div&gt;Job Requirements:&lt;/div&gt;&lt;ul&gt;&lt;li&gt;&lt;p&gt;...</td>\n",
       "      <td>Data scientist</td>\n",
       "    </tr>\n",
       "    <tr>\n",
       "      <th>1</th>\n",
       "      <td>1</td>\n",
       "      <td>b'&lt;div&gt;Job Description&lt;br/&gt;\\n&lt;br/&gt;\\n&lt;p&gt;As a Da...</td>\n",
       "      <td>Data Scientist I</td>\n",
       "    </tr>\n",
       "    <tr>\n",
       "      <th>2</th>\n",
       "      <td>2</td>\n",
       "      <td>b'&lt;div&gt;&lt;p&gt;As a Data Scientist you will be work...</td>\n",
       "      <td>Data Scientist - Entry Level</td>\n",
       "    </tr>\n",
       "    <tr>\n",
       "      <th>3</th>\n",
       "      <td>3</td>\n",
       "      <td>b'&lt;div class=\"jobsearch-JobMetadataHeader icl-...</td>\n",
       "      <td>Data Scientist</td>\n",
       "    </tr>\n",
       "    <tr>\n",
       "      <th>4</th>\n",
       "      <td>4</td>\n",
       "      <td>b'&lt;ul&gt;&lt;li&gt;Location: USA \\xe2\\x80\\x93 multiple ...</td>\n",
       "      <td>Data Scientist</td>\n",
       "    </tr>\n",
       "  </tbody>\n",
       "</table>\n",
       "</div>"
      ],
      "text/plain": [
       "   Unnamed: 0                                        description  \\\n",
       "0           0  b\"<div><div>Job Requirements:</div><ul><li><p>...   \n",
       "1           1  b'<div>Job Description<br/>\\n<br/>\\n<p>As a Da...   \n",
       "2           2  b'<div><p>As a Data Scientist you will be work...   \n",
       "3           3  b'<div class=\"jobsearch-JobMetadataHeader icl-...   \n",
       "4           4  b'<ul><li>Location: USA \\xe2\\x80\\x93 multiple ...   \n",
       "\n",
       "                          title  \n",
       "0               Data scientist   \n",
       "1              Data Scientist I  \n",
       "2  Data Scientist - Entry Level  \n",
       "3                Data Scientist  \n",
       "4                Data Scientist  "
      ]
     },
     "execution_count": 103,
     "metadata": {},
     "output_type": "execute_result"
    }
   ],
   "source": [
    "# import df and print head\n",
    "df = pd.read_csv('data/job_listings.csv')\n",
    "df.head()"
   ]
  },
  {
   "cell_type": "code",
   "execution_count": 105,
   "metadata": {},
   "outputs": [
    {
     "data": {
      "text/html": [
       "<div>\n",
       "<style scoped>\n",
       "    .dataframe tbody tr th:only-of-type {\n",
       "        vertical-align: middle;\n",
       "    }\n",
       "\n",
       "    .dataframe tbody tr th {\n",
       "        vertical-align: top;\n",
       "    }\n",
       "\n",
       "    .dataframe thead th {\n",
       "        text-align: right;\n",
       "    }\n",
       "</style>\n",
       "<table border=\"1\" class=\"dataframe\">\n",
       "  <thead>\n",
       "    <tr style=\"text-align: right;\">\n",
       "      <th></th>\n",
       "      <th>Unnamed: 0</th>\n",
       "      <th>description</th>\n",
       "      <th>title</th>\n",
       "    </tr>\n",
       "  </thead>\n",
       "  <tbody>\n",
       "    <tr>\n",
       "      <th>0</th>\n",
       "      <td>0</td>\n",
       "      <td>b\"Job Requirements:\\nConceptual understanding ...</td>\n",
       "      <td>Data scientist</td>\n",
       "    </tr>\n",
       "    <tr>\n",
       "      <th>1</th>\n",
       "      <td>1</td>\n",
       "      <td>b'Job Description\\n\\nAs a Data Scientist 1, yo...</td>\n",
       "      <td>Data Scientist I</td>\n",
       "    </tr>\n",
       "    <tr>\n",
       "      <th>2</th>\n",
       "      <td>2</td>\n",
       "      <td>b'As a Data Scientist you will be working on c...</td>\n",
       "      <td>Data Scientist - Entry Level</td>\n",
       "    </tr>\n",
       "    <tr>\n",
       "      <th>3</th>\n",
       "      <td>3</td>\n",
       "      <td>b'$4,969 - $6,756 a monthContractUnder the gen...</td>\n",
       "      <td>Data Scientist</td>\n",
       "    </tr>\n",
       "    <tr>\n",
       "      <th>4</th>\n",
       "      <td>4</td>\n",
       "      <td>b'Location: USA \\xe2\\x80\\x93 multiple location...</td>\n",
       "      <td>Data Scientist</td>\n",
       "    </tr>\n",
       "  </tbody>\n",
       "</table>\n",
       "</div>"
      ],
      "text/plain": [
       "   Unnamed: 0                                        description  \\\n",
       "0           0  b\"Job Requirements:\\nConceptual understanding ...   \n",
       "1           1  b'Job Description\\n\\nAs a Data Scientist 1, yo...   \n",
       "2           2  b'As a Data Scientist you will be working on c...   \n",
       "3           3  b'$4,969 - $6,756 a monthContractUnder the gen...   \n",
       "4           4  b'Location: USA \\xe2\\x80\\x93 multiple location...   \n",
       "\n",
       "                          title  \n",
       "0               Data scientist   \n",
       "1              Data Scientist I  \n",
       "2  Data Scientist - Entry Level  \n",
       "3                Data Scientist  \n",
       "4                Data Scientist  "
      ]
     },
     "execution_count": 105,
     "metadata": {},
     "output_type": "execute_result"
    }
   ],
   "source": [
    "# Using BeautifulSoup to strip html tags\n",
    "df['description'] = [BeautifulSoup(text).get_text() for text in df['description']]\n",
    "df.head()"
   ]
  },
  {
   "cell_type": "code",
   "execution_count": 106,
   "metadata": {},
   "outputs": [],
   "source": [
    "# df.drop(columns=['Unnamed: 0']) "
   ]
  },
  {
   "cell_type": "markdown",
   "metadata": {
    "colab_type": "text",
    "id": "5C4xFZNtX1m2"
   },
   "source": [
    "## 2) Use Spacy to tokenize the listings "
   ]
  },
  {
   "cell_type": "code",
   "execution_count": 107,
   "metadata": {
    "colab": {},
    "colab_type": "code",
    "id": "dhUHuMr-X-II"
   },
   "outputs": [],
   "source": [
    "##### Your Code Here #####"
   ]
  },
  {
   "cell_type": "code",
   "execution_count": 108,
   "metadata": {},
   "outputs": [],
   "source": [
    "# import library and model\n",
    "import spacy\n",
    "nlp = spacy.load(\"en_core_web_lg\")"
   ]
  },
  {
   "cell_type": "code",
   "execution_count": 109,
   "metadata": {},
   "outputs": [],
   "source": [
    "def lemma_producer(text):\n",
    "    \"\"\"\n",
    "    tokenizes string, returning a list of lemmas\n",
    "    \"\"\"\n",
    "    lemmas = []\n",
    "    processed_text = nlp(text)\n",
    "    \n",
    "    for token in processed_text:\n",
    "        if ((token.is_stop == False) and (token.is_punct == False)) and (token.pos_!= 'PRON'):\n",
    "            lemmas.append(token.lemma_)\n",
    "    return ' '.join(lemmas)"
   ]
  },
  {
   "cell_type": "code",
   "execution_count": 110,
   "metadata": {},
   "outputs": [],
   "source": [
    "df['description'] = df['description'].apply(lemma_producer)"
   ]
  },
  {
   "cell_type": "code",
   "execution_count": 112,
   "metadata": {},
   "outputs": [
    {
     "data": {
      "text/plain": [
       "'b\"Job requirements:\\\\nconceptual understanding Machine Learning model like nai\\\\xc2\\\\xa8ve Bayes K Means SVM Apriori Linear/ Logistic Regression neural Random Forests decision Trees K NN hand experience 2 them\\\\nintermediate expert level coding skill Python R. ability write function clean efficient datum manipulation mandatory role)\\\\nexposure package like NumPy SciPy Pandas Matplotlib etc Python GGPlot2 dplyr tidyR R\\\\nAbility communicate Model finding Technical Non technical stake holders\\\\nhand experience SQL Hive similar programming language\\\\nmust past work GitHub Kaggle publish article\\\\nmaster degree Statistics Mathematics Computer Science quant specific field.\\\\napply'"
      ]
     },
     "execution_count": 112,
     "metadata": {},
     "output_type": "execute_result"
    }
   ],
   "source": [
    "df['description'][0]"
   ]
  },
  {
   "cell_type": "code",
   "execution_count": 113,
   "metadata": {},
   "outputs": [
    {
     "data": {
      "text/plain": [
       "'b\\'Job description\\\\n\\\\na Data scientist 1 help build machine learning model data pipeline micro service help client navigate healthcare journey empower improve generation Accolade Applications user experiences.\\\\nA day life\\\\xe2\\\\x80\\\\xa6\\\\nwork small agile team design develop mobile application iterative fashion.\\\\nwork tight knit group development team member Seattle.\\\\nContribute good practice help guide future applications.\\\\noperate effectively collaborative member development team.\\\\nOperates effectively individual quick turnaround enhancement fixes.\\\\nResponsible meet expectation deliverable time high quality.\\\\ndrive implement new feature mobile applications.\\\\nPerform thorough manual testing writing test case cover areas.\\\\nIdentify new development tool approach increase code quality efficiency good practices.\\\\ndevelop champion development process code style guideline architectural design necessary innovate maintain great product quality.\\\\neffectively turn design document graphic performant usable ui.\\\\ndemonstrate creative technical analytical skills.\\\\nDemonstrates ability communicate effectively technical business environments\\\\n\\\\nqualifications\\\\n\\\\nwhat look for\\\\xe2\\\\x80\\\\xa6\\\\nmaster\\\\xe2\\\\x80\\\\x99s Degree Computer Science Math related field.\\\\nComputer science fundamental illustrate algorithm design problem solve complexity analysis.\\\\nMust 1 + year real world experience develop deploy micro service datum pipelines\\\\nmust fundamental understanding key machine learning concept accuracy measure cross validation open source machine learning libraries\\\\nFluent Python SQL\\\\nProficient write unit functional test familiar automation frameworks\\\\nExperience cloud infrastructure AWS Azure plus.\\\\nexperience distribute data pipeline spark plus.\\\\nstrong write oral communication skills.\\\\ndesire willingness work agile collaborative innovative flexible team orient environment\\\\nhand detail orient methodical inquisitive\\\\nA motivated self starter solid level experience quickly grasp complex challenges\\\\na skillful communicator experience work technical management teams\\\\n service orient person think customer first\"\\\\nfast fail entrepreneurial spirit\\\\nthrive fast pace environment continuous improvement norm bar quality extremely high\\\\nexcite challenge work product team undergo rapid international growth\\\\nadditional information\\\\n\\\\nwhat important us\\\\ncreate endure company hyper focused culture make meaningful impact life employee member customer secret success is:\\\\nWe find joy purpose serve others\\\\nmake difference members\\\\xe2\\\\x80\\\\x99 customers\\\\xe2\\\\x80\\\\x99 live it\\\\xe2\\\\x80\\\\x99s hard right thing right reasons.\\\\nWe strong individually we\\\\xe2\\\\x80\\\\x99re powerful\\\\ntruste colleague embrace different background experience enable solve tough problem creative way have fun way.\\\\nWe roll sleeve stuff done\\\\nResults motivate afraid hard work tough decision need there.\\\\nWe\\\\xe2\\\\x80\\\\x99re boldly relentlessly reinvent healthcare\\\\nwe\\\\\\'re curious act big afraid knock barrier calculate risk change world person time.\\\\nall information keep confidential according EEO guideline'"
      ]
     },
     "execution_count": 113,
     "metadata": {},
     "output_type": "execute_result"
    }
   ],
   "source": [
    "df['description'][1]"
   ]
  },
  {
   "cell_type": "code",
   "execution_count": 114,
   "metadata": {},
   "outputs": [
    {
     "data": {
      "text/plain": [
       "\"b'As Data scientist work consult business responsible analyze large complex dataset identify meaningful pattern lead actionable recommendation perform thorough testing validation model support aspect business datum analytics.\\\\nability statistical modeling build predictive model leverage machine learn algorithms.\\\\nthis position combine typical Data Scientist math analytical skill research advanced business communication presentation skills.\\\\nprimary job location Sacramento work home option available.\\\\n\\\\nqualifications\\\\nbachelor MS phd relevant field Computer Science Engineering Statistics Physics Applied math)\\\\nexperience R and/or Python prefer\""
      ]
     },
     "execution_count": 114,
     "metadata": {},
     "output_type": "execute_result"
    }
   ],
   "source": [
    "df['description'][2]"
   ]
  },
  {
   "cell_type": "code",
   "execution_count": 111,
   "metadata": {},
   "outputs": [
    {
     "data": {
      "text/html": [
       "<div>\n",
       "<style scoped>\n",
       "    .dataframe tbody tr th:only-of-type {\n",
       "        vertical-align: middle;\n",
       "    }\n",
       "\n",
       "    .dataframe tbody tr th {\n",
       "        vertical-align: top;\n",
       "    }\n",
       "\n",
       "    .dataframe thead th {\n",
       "        text-align: right;\n",
       "    }\n",
       "</style>\n",
       "<table border=\"1\" class=\"dataframe\">\n",
       "  <thead>\n",
       "    <tr style=\"text-align: right;\">\n",
       "      <th></th>\n",
       "      <th>Unnamed: 0</th>\n",
       "      <th>description</th>\n",
       "      <th>title</th>\n",
       "    </tr>\n",
       "  </thead>\n",
       "  <tbody>\n",
       "    <tr>\n",
       "      <th>0</th>\n",
       "      <td>0</td>\n",
       "      <td>b\"Job requirements:\\nconceptual understanding ...</td>\n",
       "      <td>Data scientist</td>\n",
       "    </tr>\n",
       "    <tr>\n",
       "      <th>1</th>\n",
       "      <td>1</td>\n",
       "      <td>b'Job description\\n\\na Data scientist 1 help b...</td>\n",
       "      <td>Data Scientist I</td>\n",
       "    </tr>\n",
       "    <tr>\n",
       "      <th>2</th>\n",
       "      <td>2</td>\n",
       "      <td>b'As Data scientist work consult business resp...</td>\n",
       "      <td>Data Scientist - Entry Level</td>\n",
       "    </tr>\n",
       "    <tr>\n",
       "      <th>3</th>\n",
       "      <td>3</td>\n",
       "      <td>b'$4,969 $ 6,756 monthcontractunder general su...</td>\n",
       "      <td>Data Scientist</td>\n",
       "    </tr>\n",
       "    <tr>\n",
       "      <th>4</th>\n",
       "      <td>4</td>\n",
       "      <td>b'Location USA \\xe2\\x80\\x93 multiple locations...</td>\n",
       "      <td>Data Scientist</td>\n",
       "    </tr>\n",
       "  </tbody>\n",
       "</table>\n",
       "</div>"
      ],
      "text/plain": [
       "   Unnamed: 0                                        description  \\\n",
       "0           0  b\"Job requirements:\\nconceptual understanding ...   \n",
       "1           1  b'Job description\\n\\na Data scientist 1 help b...   \n",
       "2           2  b'As Data scientist work consult business resp...   \n",
       "3           3  b'$4,969 $ 6,756 monthcontractunder general su...   \n",
       "4           4  b'Location USA \\xe2\\x80\\x93 multiple locations...   \n",
       "\n",
       "                          title  \n",
       "0               Data scientist   \n",
       "1              Data Scientist I  \n",
       "2  Data Scientist - Entry Level  \n",
       "3                Data Scientist  \n",
       "4                Data Scientist  "
      ]
     },
     "execution_count": 111,
     "metadata": {},
     "output_type": "execute_result"
    }
   ],
   "source": [
    "df.head()"
   ]
  },
  {
   "cell_type": "markdown",
   "metadata": {
    "colab_type": "text",
    "id": "-lgCZNL_YycP"
   },
   "source": [
    "## 3) Use Scikit-Learn's CountVectorizer to get word counts for each listing."
   ]
  },
  {
   "cell_type": "code",
   "execution_count": 148,
   "metadata": {},
   "outputs": [],
   "source": [
    "# another way to do it it keep groups of words\n",
    "#vect = CountVectorizer(stop_words=\"english\", min_df=0.025, max_df=0.98, ngram_range=(1,3))\n",
    "vect = CountVectorizer(stop_words=\"english\", min_df=0.025, max_df=0.98)"
   ]
  },
  {
   "cell_type": "code",
   "execution_count": 149,
   "metadata": {},
   "outputs": [],
   "source": [
    "dtm = vect.fit_transform(df['description'])"
   ]
  },
  {
   "cell_type": "code",
   "execution_count": 150,
   "metadata": {},
   "outputs": [
    {
     "name": "stdout",
     "output_type": "stream",
     "text": [
      "  (0, 705)\t1\n",
      "  (0, 1247)\t1\n",
      "  (0, 1502)\t1\n",
      "  (0, 764)\t1\n",
      "  (0, 731)\t1\n",
      "  (0, 832)\t2\n",
      "  (0, 744)\t2\n",
      "  (0, 1584)\t1\n",
      "  (0, 131)\t1\n",
      "  (0, 748)\t1\n",
      "  (0, 758)\t1\n",
      "  (0, 1224)\t1\n",
      "  (0, 918)\t1\n",
      "  (0, 1201)\t1\n",
      "  (0, 333)\t1\n",
      "  (0, 1488)\t1\n",
      "  (0, 604)\t1\n",
      "  (0, 492)\t2\n",
      "  (0, 497)\t1\n",
      "  (0, 736)\t1\n",
      "  (0, 215)\t1\n",
      "  (0, 1343)\t1\n",
      "  (0, 1186)\t2\n",
      "  (0, 14)\t1\n",
      "  (0, 1568)\t1\n",
      "  :\t:\n",
      "  (425, 1505)\t1\n",
      "  (425, 1383)\t1\n",
      "  (425, 1231)\t1\n",
      "  (425, 7)\t1\n",
      "  (425, 42)\t1\n",
      "  (425, 1089)\t1\n",
      "  (425, 955)\t1\n",
      "  (425, 151)\t1\n",
      "  (425, 681)\t1\n",
      "  (425, 314)\t1\n",
      "  (425, 634)\t1\n",
      "  (425, 836)\t2\n",
      "  (425, 1012)\t1\n",
      "  (425, 883)\t1\n",
      "  (425, 104)\t1\n",
      "  (425, 1369)\t1\n",
      "  (425, 1390)\t1\n",
      "  (425, 780)\t1\n",
      "  (425, 1177)\t1\n",
      "  (425, 917)\t1\n",
      "  (425, 1562)\t1\n",
      "  (425, 222)\t1\n",
      "  (425, 643)\t1\n",
      "  (425, 475)\t1\n",
      "  (425, 516)\t2\n"
     ]
    }
   ],
   "source": [
    "print(dtm)"
   ]
  },
  {
   "cell_type": "code",
   "execution_count": 151,
   "metadata": {},
   "outputs": [
    {
     "data": {
      "text/plain": [
       "scipy.sparse.csr.csr_matrix"
      ]
     },
     "execution_count": 151,
     "metadata": {},
     "output_type": "execute_result"
    }
   ],
   "source": [
    "type(dtm)"
   ]
  },
  {
   "cell_type": "code",
   "execution_count": 152,
   "metadata": {},
   "outputs": [
    {
     "data": {
      "text/html": [
       "<div>\n",
       "<style scoped>\n",
       "    .dataframe tbody tr th:only-of-type {\n",
       "        vertical-align: middle;\n",
       "    }\n",
       "\n",
       "    .dataframe tbody tr th {\n",
       "        vertical-align: top;\n",
       "    }\n",
       "\n",
       "    .dataframe thead th {\n",
       "        text-align: right;\n",
       "    }\n",
       "</style>\n",
       "<table border=\"1\" class=\"dataframe\">\n",
       "  <thead>\n",
       "    <tr style=\"text-align: right;\">\n",
       "      <th></th>\n",
       "      <th>000</th>\n",
       "      <th>10</th>\n",
       "      <th>100</th>\n",
       "      <th>12</th>\n",
       "      <th>15</th>\n",
       "      <th>20</th>\n",
       "      <th>2019</th>\n",
       "      <th>25</th>\n",
       "      <th>3rd</th>\n",
       "      <th>40</th>\n",
       "      <th>...</th>\n",
       "      <th>x99ve</th>\n",
       "      <th>x9cbig</th>\n",
       "      <th>x9d</th>\n",
       "      <th>xa6</th>\n",
       "      <th>xae</th>\n",
       "      <th>xc2</th>\n",
       "      <th>xe2</th>\n",
       "      <th>year</th>\n",
       "      <th>years</th>\n",
       "      <th>york</th>\n",
       "    </tr>\n",
       "  </thead>\n",
       "  <tbody>\n",
       "    <tr>\n",
       "      <th>0</th>\n",
       "      <td>0</td>\n",
       "      <td>0</td>\n",
       "      <td>0</td>\n",
       "      <td>0</td>\n",
       "      <td>0</td>\n",
       "      <td>0</td>\n",
       "      <td>0</td>\n",
       "      <td>0</td>\n",
       "      <td>0</td>\n",
       "      <td>0</td>\n",
       "      <td>...</td>\n",
       "      <td>0</td>\n",
       "      <td>0</td>\n",
       "      <td>0</td>\n",
       "      <td>0</td>\n",
       "      <td>0</td>\n",
       "      <td>1</td>\n",
       "      <td>0</td>\n",
       "      <td>0</td>\n",
       "      <td>0</td>\n",
       "      <td>0</td>\n",
       "    </tr>\n",
       "    <tr>\n",
       "      <th>1</th>\n",
       "      <td>0</td>\n",
       "      <td>0</td>\n",
       "      <td>0</td>\n",
       "      <td>0</td>\n",
       "      <td>0</td>\n",
       "      <td>0</td>\n",
       "      <td>0</td>\n",
       "      <td>0</td>\n",
       "      <td>0</td>\n",
       "      <td>0</td>\n",
       "      <td>...</td>\n",
       "      <td>0</td>\n",
       "      <td>0</td>\n",
       "      <td>0</td>\n",
       "      <td>2</td>\n",
       "      <td>0</td>\n",
       "      <td>0</td>\n",
       "      <td>8</td>\n",
       "      <td>1</td>\n",
       "      <td>0</td>\n",
       "      <td>0</td>\n",
       "    </tr>\n",
       "    <tr>\n",
       "      <th>2</th>\n",
       "      <td>0</td>\n",
       "      <td>0</td>\n",
       "      <td>0</td>\n",
       "      <td>0</td>\n",
       "      <td>0</td>\n",
       "      <td>0</td>\n",
       "      <td>0</td>\n",
       "      <td>0</td>\n",
       "      <td>0</td>\n",
       "      <td>0</td>\n",
       "      <td>...</td>\n",
       "      <td>0</td>\n",
       "      <td>0</td>\n",
       "      <td>0</td>\n",
       "      <td>0</td>\n",
       "      <td>0</td>\n",
       "      <td>0</td>\n",
       "      <td>0</td>\n",
       "      <td>0</td>\n",
       "      <td>0</td>\n",
       "      <td>0</td>\n",
       "    </tr>\n",
       "    <tr>\n",
       "      <th>3</th>\n",
       "      <td>0</td>\n",
       "      <td>0</td>\n",
       "      <td>0</td>\n",
       "      <td>0</td>\n",
       "      <td>0</td>\n",
       "      <td>0</td>\n",
       "      <td>0</td>\n",
       "      <td>0</td>\n",
       "      <td>0</td>\n",
       "      <td>0</td>\n",
       "      <td>...</td>\n",
       "      <td>0</td>\n",
       "      <td>0</td>\n",
       "      <td>0</td>\n",
       "      <td>0</td>\n",
       "      <td>0</td>\n",
       "      <td>0</td>\n",
       "      <td>0</td>\n",
       "      <td>1</td>\n",
       "      <td>0</td>\n",
       "      <td>0</td>\n",
       "    </tr>\n",
       "    <tr>\n",
       "      <th>4</th>\n",
       "      <td>0</td>\n",
       "      <td>0</td>\n",
       "      <td>0</td>\n",
       "      <td>0</td>\n",
       "      <td>0</td>\n",
       "      <td>0</td>\n",
       "      <td>0</td>\n",
       "      <td>0</td>\n",
       "      <td>0</td>\n",
       "      <td>0</td>\n",
       "      <td>...</td>\n",
       "      <td>0</td>\n",
       "      <td>0</td>\n",
       "      <td>0</td>\n",
       "      <td>0</td>\n",
       "      <td>0</td>\n",
       "      <td>0</td>\n",
       "      <td>1</td>\n",
       "      <td>1</td>\n",
       "      <td>0</td>\n",
       "      <td>0</td>\n",
       "    </tr>\n",
       "  </tbody>\n",
       "</table>\n",
       "<p>5 rows × 1589 columns</p>\n",
       "</div>"
      ],
      "text/plain": [
       "   000  10  100  12  15  20  2019  25  3rd  40  ...  x99ve  x9cbig  x9d  xa6  \\\n",
       "0    0   0    0   0   0   0     0   0    0   0  ...      0       0    0    0   \n",
       "1    0   0    0   0   0   0     0   0    0   0  ...      0       0    0    2   \n",
       "2    0   0    0   0   0   0     0   0    0   0  ...      0       0    0    0   \n",
       "3    0   0    0   0   0   0     0   0    0   0  ...      0       0    0    0   \n",
       "4    0   0    0   0   0   0     0   0    0   0  ...      0       0    0    0   \n",
       "\n",
       "   xae  xc2  xe2  year  years  york  \n",
       "0    0    1    0     0      0     0  \n",
       "1    0    0    8     1      0     0  \n",
       "2    0    0    0     0      0     0  \n",
       "3    0    0    0     1      0     0  \n",
       "4    0    0    1     1      0     0  \n",
       "\n",
       "[5 rows x 1589 columns]"
      ]
     },
     "execution_count": 152,
     "metadata": {},
     "output_type": "execute_result"
    }
   ],
   "source": [
    "# dtm to DataFrame\n",
    "dtm = pd.DataFrame(dtm.todense(), columns=vect.get_feature_names())\n",
    "dtm.head()"
   ]
  },
  {
   "cell_type": "markdown",
   "metadata": {
    "colab_type": "text",
    "id": "Zo1iH_UeY7_n"
   },
   "source": [
    "## 4) Visualize the most common word counts"
   ]
  },
  {
   "cell_type": "code",
   "execution_count": 165,
   "metadata": {
    "colab": {},
    "colab_type": "code",
    "id": "M5LB00uyZKV5"
   },
   "outputs": [],
   "source": [
    "##### Your Code Here #####\n",
    "doc_len = [len(doc) for doc in dtm]"
   ]
  },
  {
   "cell_type": "code",
   "execution_count": 166,
   "metadata": {},
   "outputs": [
    {
     "data": {
      "image/png": "[encoded data removed]",
      "text/plain": [
       "<Figure size 432x288 with 1 Axes>"
      ]
     },
     "metadata": {
      "needs_background": "light"
     },
     "output_type": "display_data"
    }
   ],
   "source": [
    "import seaborn as sns\n",
    "\n",
    "sns.distplot(doc_len);"
   ]
  },
  {
   "cell_type": "markdown",
   "metadata": {
    "colab_type": "text",
    "id": "bwFsTqrVZMYi"
   },
   "source": [
    "## 5) Use Scikit-Learn's tfidfVectorizer to get a TF-IDF feature matrix"
   ]
  },
  {
   "cell_type": "code",
   "execution_count": 172,
   "metadata": {
    "colab": {},
    "colab_type": "code",
    "id": "-gx2gZCbl5Np"
   },
   "outputs": [],
   "source": [
    "##### Your Code Here #####\n",
    "tfidf = TfidfVectorizer(stop_words=\"english\")"
   ]
  },
  {
   "cell_type": "code",
   "execution_count": 173,
   "metadata": {},
   "outputs": [],
   "source": [
    "dtm = tfidf.fit_transform(df['description'])"
   ]
  },
  {
   "cell_type": "code",
   "execution_count": 174,
   "metadata": {},
   "outputs": [],
   "source": [
    "dtm = pd.DataFrame(dtm.todense(), columns=tfidf.get_feature_names())"
   ]
  },
  {
   "cell_type": "code",
   "execution_count": 175,
   "metadata": {},
   "outputs": [
    {
     "data": {
      "text/html": [
       "<div>\n",
       "<style scoped>\n",
       "    .dataframe tbody tr th:only-of-type {\n",
       "        vertical-align: middle;\n",
       "    }\n",
       "\n",
       "    .dataframe tbody tr th {\n",
       "        vertical-align: top;\n",
       "    }\n",
       "\n",
       "    .dataframe thead th {\n",
       "        text-align: right;\n",
       "    }\n",
       "</style>\n",
       "<table border=\"1\" class=\"dataframe\">\n",
       "  <thead>\n",
       "    <tr style=\"text-align: right;\">\n",
       "      <th></th>\n",
       "      <th>ability</th>\n",
       "      <th>apriori</th>\n",
       "      <th>article</th>\n",
       "      <th>bayes</th>\n",
       "      <th>clean</th>\n",
       "      <th>coding</th>\n",
       "      <th>communicate</th>\n",
       "      <th>computer</th>\n",
       "      <th>datum</th>\n",
       "      <th>decision</th>\n",
       "      <th>...</th>\n",
       "      <th>statistics</th>\n",
       "      <th>svm</th>\n",
       "      <th>technical</th>\n",
       "      <th>tidyr</th>\n",
       "      <th>trees</th>\n",
       "      <th>understanding</th>\n",
       "      <th>work</th>\n",
       "      <th>write</th>\n",
       "      <th>xa8ve</th>\n",
       "      <th>xc2</th>\n",
       "    </tr>\n",
       "  </thead>\n",
       "  <tbody>\n",
       "    <tr>\n",
       "      <th>0</th>\n",
       "      <td>0.102598</td>\n",
       "      <td>0.102598</td>\n",
       "      <td>0.102598</td>\n",
       "      <td>0.102598</td>\n",
       "      <td>0.102598</td>\n",
       "      <td>0.102598</td>\n",
       "      <td>0.102598</td>\n",
       "      <td>0.102598</td>\n",
       "      <td>0.102598</td>\n",
       "      <td>0.102598</td>\n",
       "      <td>...</td>\n",
       "      <td>0.102598</td>\n",
       "      <td>0.102598</td>\n",
       "      <td>0.205196</td>\n",
       "      <td>0.102598</td>\n",
       "      <td>0.102598</td>\n",
       "      <td>0.102598</td>\n",
       "      <td>0.102598</td>\n",
       "      <td>0.102598</td>\n",
       "      <td>0.102598</td>\n",
       "      <td>0.102598</td>\n",
       "    </tr>\n",
       "    <tr>\n",
       "      <th>1</th>\n",
       "      <td>0.102598</td>\n",
       "      <td>0.102598</td>\n",
       "      <td>0.102598</td>\n",
       "      <td>0.102598</td>\n",
       "      <td>0.102598</td>\n",
       "      <td>0.102598</td>\n",
       "      <td>0.102598</td>\n",
       "      <td>0.102598</td>\n",
       "      <td>0.102598</td>\n",
       "      <td>0.102598</td>\n",
       "      <td>...</td>\n",
       "      <td>0.102598</td>\n",
       "      <td>0.102598</td>\n",
       "      <td>0.205196</td>\n",
       "      <td>0.102598</td>\n",
       "      <td>0.102598</td>\n",
       "      <td>0.102598</td>\n",
       "      <td>0.102598</td>\n",
       "      <td>0.102598</td>\n",
       "      <td>0.102598</td>\n",
       "      <td>0.102598</td>\n",
       "    </tr>\n",
       "    <tr>\n",
       "      <th>2</th>\n",
       "      <td>0.102598</td>\n",
       "      <td>0.102598</td>\n",
       "      <td>0.102598</td>\n",
       "      <td>0.102598</td>\n",
       "      <td>0.102598</td>\n",
       "      <td>0.102598</td>\n",
       "      <td>0.102598</td>\n",
       "      <td>0.102598</td>\n",
       "      <td>0.102598</td>\n",
       "      <td>0.102598</td>\n",
       "      <td>...</td>\n",
       "      <td>0.102598</td>\n",
       "      <td>0.102598</td>\n",
       "      <td>0.205196</td>\n",
       "      <td>0.102598</td>\n",
       "      <td>0.102598</td>\n",
       "      <td>0.102598</td>\n",
       "      <td>0.102598</td>\n",
       "      <td>0.102598</td>\n",
       "      <td>0.102598</td>\n",
       "      <td>0.102598</td>\n",
       "    </tr>\n",
       "    <tr>\n",
       "      <th>3</th>\n",
       "      <td>0.102598</td>\n",
       "      <td>0.102598</td>\n",
       "      <td>0.102598</td>\n",
       "      <td>0.102598</td>\n",
       "      <td>0.102598</td>\n",
       "      <td>0.102598</td>\n",
       "      <td>0.102598</td>\n",
       "      <td>0.102598</td>\n",
       "      <td>0.102598</td>\n",
       "      <td>0.102598</td>\n",
       "      <td>...</td>\n",
       "      <td>0.102598</td>\n",
       "      <td>0.102598</td>\n",
       "      <td>0.205196</td>\n",
       "      <td>0.102598</td>\n",
       "      <td>0.102598</td>\n",
       "      <td>0.102598</td>\n",
       "      <td>0.102598</td>\n",
       "      <td>0.102598</td>\n",
       "      <td>0.102598</td>\n",
       "      <td>0.102598</td>\n",
       "    </tr>\n",
       "    <tr>\n",
       "      <th>4</th>\n",
       "      <td>0.102598</td>\n",
       "      <td>0.102598</td>\n",
       "      <td>0.102598</td>\n",
       "      <td>0.102598</td>\n",
       "      <td>0.102598</td>\n",
       "      <td>0.102598</td>\n",
       "      <td>0.102598</td>\n",
       "      <td>0.102598</td>\n",
       "      <td>0.102598</td>\n",
       "      <td>0.102598</td>\n",
       "      <td>...</td>\n",
       "      <td>0.102598</td>\n",
       "      <td>0.102598</td>\n",
       "      <td>0.205196</td>\n",
       "      <td>0.102598</td>\n",
       "      <td>0.102598</td>\n",
       "      <td>0.102598</td>\n",
       "      <td>0.102598</td>\n",
       "      <td>0.102598</td>\n",
       "      <td>0.102598</td>\n",
       "      <td>0.102598</td>\n",
       "    </tr>\n",
       "  </tbody>\n",
       "</table>\n",
       "<p>5 rows × 80 columns</p>\n",
       "</div>"
      ],
      "text/plain": [
       "    ability   apriori   article     bayes     clean    coding  communicate  \\\n",
       "0  0.102598  0.102598  0.102598  0.102598  0.102598  0.102598     0.102598   \n",
       "1  0.102598  0.102598  0.102598  0.102598  0.102598  0.102598     0.102598   \n",
       "2  0.102598  0.102598  0.102598  0.102598  0.102598  0.102598     0.102598   \n",
       "3  0.102598  0.102598  0.102598  0.102598  0.102598  0.102598     0.102598   \n",
       "4  0.102598  0.102598  0.102598  0.102598  0.102598  0.102598     0.102598   \n",
       "\n",
       "   computer     datum  decision  ...  statistics       svm  technical  \\\n",
       "0  0.102598  0.102598  0.102598  ...    0.102598  0.102598   0.205196   \n",
       "1  0.102598  0.102598  0.102598  ...    0.102598  0.102598   0.205196   \n",
       "2  0.102598  0.102598  0.102598  ...    0.102598  0.102598   0.205196   \n",
       "3  0.102598  0.102598  0.102598  ...    0.102598  0.102598   0.205196   \n",
       "4  0.102598  0.102598  0.102598  ...    0.102598  0.102598   0.205196   \n",
       "\n",
       "      tidyr     trees  understanding      work     write     xa8ve       xc2  \n",
       "0  0.102598  0.102598       0.102598  0.102598  0.102598  0.102598  0.102598  \n",
       "1  0.102598  0.102598       0.102598  0.102598  0.102598  0.102598  0.102598  \n",
       "2  0.102598  0.102598       0.102598  0.102598  0.102598  0.102598  0.102598  \n",
       "3  0.102598  0.102598       0.102598  0.102598  0.102598  0.102598  0.102598  \n",
       "4  0.102598  0.102598       0.102598  0.102598  0.102598  0.102598  0.102598  \n",
       "\n",
       "[5 rows x 80 columns]"
      ]
     },
     "execution_count": 175,
     "metadata": {},
     "output_type": "execute_result"
    }
   ],
   "source": [
    "dtm.head()"
   ]
  },
  {
   "cell_type": "code",
   "execution_count": 177,
   "metadata": {},
   "outputs": [
    {
     "data": {
      "image/png": "[encoded data removed]",
      "text/plain": [
       "<Figure size 432x288 with 1 Axes>"
      ]
     },
     "metadata": {
      "needs_background": "light"
     },
     "output_type": "display_data"
    }
   ],
   "source": [
    "# plot 2 - word vizulaization\n",
    "doc_len = [len(doc) for doc in dtm]\n",
    "sns.distplot(doc_len);"
   ]
  },
  {
   "cell_type": "markdown",
   "metadata": {},
   "source": [
    "## 6) Create a NearestNeighbor Model. Write the description of your ideal datascience job and query your job listings. "
   ]
  },
  {
   "cell_type": "code",
   "execution_count": 179,
   "metadata": {
    "collapsed": false,
    "inputHidden": false,
    "jupyter": {
     "outputs_hidden": false
    },
    "outputHidden": false
   },
   "outputs": [
    {
     "data": {
      "text/plain": [
       "NearestNeighbors(algorithm='kd_tree', leaf_size=30, metric='minkowski',\n",
       "                 metric_params=None, n_jobs=None, n_neighbors=3, p=2,\n",
       "                 radius=1.0)"
      ]
     },
     "execution_count": 179,
     "metadata": {},
     "output_type": "execute_result"
    }
   ],
   "source": [
    "# Instantiate\n",
    "from sklearn.neighbors import NearestNeighbors\n",
    "\n",
    "model = NearestNeighbors(n_neighbors=3, algorithm='kd_tree')\n",
    "model.fit(dtm)"
   ]
  },
  {
   "cell_type": "code",
   "execution_count": 180,
   "metadata": {},
   "outputs": [],
   "source": [
    "test_string = ['I would like to live in a big city near a university. I would like to be responsible for working long hours in a atmosphere with very smart and talented people. I want a high salary.']"
   ]
  },
  {
   "cell_type": "code",
   "execution_count": 182,
   "metadata": {},
   "outputs": [],
   "source": [
    "test_string = tfidf.transform(test_string)"
   ]
  },
  {
   "cell_type": "code",
   "execution_count": 183,
   "metadata": {},
   "outputs": [],
   "source": [
    "test_string = test_string.todense()"
   ]
  },
  {
   "cell_type": "code",
   "execution_count": 184,
   "metadata": {},
   "outputs": [],
   "source": [
    "predictions = model.kneighbors(test_string)"
   ]
  },
  {
   "cell_type": "code",
   "execution_count": 190,
   "metadata": {},
   "outputs": [
    {
     "data": {
      "text/plain": [
       "(array([[1.26079684, 1.26079684, 1.26079684]]), array([[425, 103, 211]]))"
      ]
     },
     "execution_count": 190,
     "metadata": {},
     "output_type": "execute_result"
    }
   ],
   "source": [
    "predictions"
   ]
  },
  {
   "cell_type": "code",
   "execution_count": 194,
   "metadata": {},
   "outputs": [
    {
     "data": {
      "text/plain": [
       "'b\"Job requirements:\\\\nconceptual understanding Machine Learning model like nai\\\\xc2\\\\xa8ve Bayes K Means SVM Apriori Linear/ Logistic Regression neural Random Forests decision Trees K NN hand experience 2 them\\\\nintermediate expert level coding skill Python R. ability write function clean efficient datum manipulation mandatory role)\\\\nexposure package like NumPy SciPy Pandas Matplotlib etc Python GGPlot2 dplyr tidyR R\\\\nAbility communicate Model finding Technical Non technical stake holders\\\\nhand experience SQL Hive similar programming language\\\\nmust past work GitHub Kaggle publish article\\\\nmaster degree Statistics Mathematics Computer Science quant specific field.\\\\napply'"
      ]
     },
     "execution_count": 194,
     "metadata": {},
     "output_type": "execute_result"
    }
   ],
   "source": [
    "df['description'][425]"
   ]
  },
  {
   "cell_type": "markdown",
   "metadata": {
    "colab_type": "text",
    "id": "FiDfTWceoRkH"
   },
   "source": [
    "## Stretch Goals\n",
    "\n",
    " - Try different visualizations for words and frequencies - what story do you want to tell with the data?\n",
    " - Scrape Job Listings for the job title \"Data Analyst\". How do these differ from Data Scientist Job Listings\n",
    " - Try and identify requirements for experience specific technologies that are asked for in the job listings. How are those distributed among the job listings?\n",
    " - Use a clustering algorithm to cluster documents by their most important terms. Do the clusters reveal any common themes?\n",
    "  - **Hint:** K-means might not be the best algorithm for this. Do a little bit of research to see what might be good for this. Also, remember that algorithms that depend on Euclidean distance break down with high dimensional data.\n",
    " - Create a labeled dataset - which jobs will you apply for? Train a model to select the jobs you are most likely to apply for. :) "
   ]
  }
 ],
 "metadata": {
  "colab": {
   "collapsed_sections": [],
   "name": "LS_DS_422_BOW_Assignment.ipynb",
   "provenance": [],
   "version": "0.3.2"
  },
  "kernel_info": {
   "name": "python3"
  },
  "kernelspec": {
   "display_name": "U4-S1-NLP (Python3)",
   "language": "python",
   "name": "u4-s1-nlp"
  },
  "language_info": {
   "codemirror_mode": {
    "name": "ipython",
    "version": 3
   },
   "file_extension": ".py",
   "mimetype": "text/x-python",
   "name": "python",
   "nbconvert_exporter": "python",
   "pygments_lexer": "ipython3",
   "version": "3.7.0"
  },
  "nteract": {
   "version": "0.14.3"
  }
 },
 "nbformat": 4,
 "nbformat_minor": 4
}
