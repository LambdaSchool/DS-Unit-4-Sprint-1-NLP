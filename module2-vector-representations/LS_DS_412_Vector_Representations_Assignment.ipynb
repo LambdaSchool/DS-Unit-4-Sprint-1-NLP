{
 "cells": [
  {
   "cell_type": "markdown",
   "metadata": {},
   "source": [
    "<img align=\"left\" src=\"https://lever-client-logos.s3.amazonaws.com/864372b1-534c-480e-acd5-9711f850815c-1524247202159.png\" width=200>\n",
    "<br></br>\n",
    "\n",
    "# Vector Representations\n",
    "## *Data Science Unit 4 Sprint 2 Assignment 2*"
   ]
  },
  {
   "cell_type": "code",
   "execution_count": 18,
   "metadata": {
    "colab": {
     "base_uri": "https://localhost:8080/",
     "height": 159
    },
    "colab_type": "code",
    "id": "hyj-f9FDcVFp",
    "outputId": "5dd045fe-6e4c-458c-e2fc-253c3da9c805"
   },
   "outputs": [],
   "source": [
    "\"\"\" Import Statements \"\"\"\n",
    "\n",
    "import re\n",
    "import string\n",
    "\n",
    "from sklearn.feature_extraction.text import CountVectorizer, TfidfVectorizer\n",
    "import matplotlib.pyplot as plt\n",
    "import pandas as pd\n",
    "import numpy as np\n",
    "import spacy\n",
    "from bs4 import BeautifulSoup\n",
    "from sklearn.neighbors import NearestNeighbors\n",
    "# Beautiful Soup assists in cleaning the job listings"
   ]
  },
  {
   "cell_type": "markdown",
   "metadata": {
    "colab_type": "text",
    "id": "M7bcmqfGXrFG"
   },
   "source": [
    "## 1) *Clean:* Job Listings from indeed.com that contain the title \"Data Scientist\" \n",
    "\n",
    "You have `job_listings.csv` in the data folder for this module. The text data in the description column is still messy - full of html tags. Use the [BeautifulSoup](https://www.crummy.com/software/BeautifulSoup/bs4/doc/) library to clean up this column. You will need to read through the documentation to accomplish this task. "
   ]
  },
  {
   "cell_type": "code",
   "execution_count": 19,
   "metadata": {},
   "outputs": [],
   "source": [
    "job_listings = ('https://raw.githubusercontent.com/LambdaSchool/DS-Unit-4-Sprint-1-NLP/main/module2-vector-representations/data/job_listings.csv')\n",
    "jobs = pd.read_csv(job_listings)\n",
    "text = jobs['description']"
   ]
  },
  {
   "cell_type": "code",
   "execution_count": 20,
   "metadata": {
    "colab": {},
    "colab_type": "code",
    "id": "KcYlc1URXhlC"
   },
   "outputs": [
    {
     "name": "stdout",
     "output_type": "stream",
     "text": [
      " Job Requirements: Conceptual understanding in Machine Learning models like Nai\\xc2\\xa8ve Bayes, K-Means, SVM, Apriori, Linear  Logistic Regression, Neural, Random Forests, Decision Trees, K-NN along with hands-on experience in at least 2 of them  Intermediate to expert level coding skills in Python R. (Ability to write functions, clean and efficient data manipulation are mandatory for this role)  Exposure to packages like NumPy, SciPy, Pandas, Matplotlib etc in Python or GGPlot2, dplyr, tidyR in R  Ability to communicate Model findings to both Technical and Non-Technical stake holders  Hands on experience in SQL Hive or similar programming language  Must show past work via GitHub, Kaggle or any other published article  Master's degree in Statistics Mathematics Computer Science or any other quant specific field. Apply Now \"\n",
      "\n",
      " Job Description   As a Data Scientist 1, you will help us build machine learning models, data pipelines, and micro-services to help our clients navigate their healthcare journey. You will do so by empowering and improving the next generation of Accolade Applications and user experiences. A day in the life\\xe2\\x80\\xa6 Work with a small agile team to design and develop mobile applications in an iterative fashion. Work with a tight-knit group of development team members in Seattle. Contribute to best practices and help guide the future of our applications. Operates effectively as a collaborative member of the development team. Operates effectively as an individual for quick turnaround of enhancements and fixes. Responsible for meeting expectations and deliverables on time with high quality. Drive and implement new features within our mobile applications. Perform thorough manual testing and writing test cases that cover all areas. Identify new development tools approaches that will increase code quality, efficiency, and best practices. Develop and champion the the development processes, coding style guidelines, and architectural designs necessary to innovate and maintain great product quality. Effectively turns design documents and graphics into performant, usable UI. Demonstrates creative, technical, and analytical skills. Demonstrates ability to communicate effectively in both technical and business environments   Qualifications   What we are looking for\\xe2\\x80\\xa6 Master's Degree in Computer Science, Math, or related field. Computer Science fundamentals, as illustrated through algorithm design, problem solving, and complexity analysis. Must have 1+ year real-world experience developing and deploying micro-services or data pipelines Must have a fundamental understanding of key machine learning concepts, such as accuracy measures, cross-validation, and open source machine learning libraries Fluent in Python and SQL Proficient with writing unit functional tests and familiar with automation frameworks Experience with cloud infrastructure, such as AWS or Azure, is a plus. Experience with distributed data pipelines, such as a Spark, is a plus. Strong written and oral communication skills. Desire and willingness to work in an Agile, collaborative, innovative, flexible, and team-oriented environment Hands-on, detail-oriented, methodical & inquisitive A motivated self-starter with a solid level of experience that quickly grasps complex challenges A skillful communicator with experience working with technical management teams  A service oriented person who thinks \"Customer First\" Fast fail entrepreneurial spirit Thrives in a fast-paced environment where continuous improvement is the norm and the bar for quality is extremely high Excited by the challenges of working in a product team undergoing rapid, international growth Additional Information   What is important to us Creating an enduring company that is hyper-focused on our culture and making a meaningful impact in the lives of our employees, members and customers. The secret to our success is: We find joy and purpose in serving others Making a difference in our members' and customers' lives is what we do. Even when it's hard, we do the right thing for the right reasons. We are strong individually and together, we're powerful Trusting in our colleagues and embracing their different backgrounds and experiences enable us to solve tough problems in creative ways, having fun along the way. We roll up our sleeves and get stuff done Results motivate us. And we aren\\'t afraid of the hard work or tough decisions needed to get us there. We're boldly and relentlessly reinventing healthcare We\\'re curious and act big - not afraid to knock down barriers or take calculated risks to change the world, one person at a time. All your information will be kept confidential according to EEO guidelines. '\n",
      "\n",
      " As a Data Scientist you will be working on consulting side of our business. You will be responsible for analyzing large, complex datasets and identify meaningful patterns that lead to actionable recommendations. You will be performing thorough testing and validation of models, and support various aspects of the business with data analytics. Ability to do statistical modeling, build predictive models and leverage machine learning algorithms. This position will combine the typical Data Scientist math and analytical skills, with research, advanced business, communication, and presentation skills. Primary job location is in Sacramento, but work-from-home option is available.  Qualifications Bachelors, MS or PhD in a relevant field (Computer Science, Engineering, Statistics, Physics, Applied Math) Experience in R and or Python is preferred '\n"
     ]
    },
    {
     "data": {
      "text/html": [
       "<div>\n",
       "<style scoped>\n",
       "    .dataframe tbody tr th:only-of-type {\n",
       "        vertical-align: middle;\n",
       "    }\n",
       "\n",
       "    .dataframe tbody tr th {\n",
       "        vertical-align: top;\n",
       "    }\n",
       "\n",
       "    .dataframe thead th {\n",
       "        text-align: right;\n",
       "    }\n",
       "</style>\n",
       "<table border=\"1\" class=\"dataframe\">\n",
       "  <thead>\n",
       "    <tr style=\"text-align: right;\">\n",
       "      <th></th>\n",
       "      <th>Unnamed: 0</th>\n",
       "      <th>description</th>\n",
       "      <th>title</th>\n",
       "      <th>text</th>\n",
       "    </tr>\n",
       "  </thead>\n",
       "  <tbody>\n",
       "    <tr>\n",
       "      <th>0</th>\n",
       "      <td>0</td>\n",
       "      <td>b\"&lt;div&gt;&lt;div&gt;Job Requirements:&lt;/div&gt;&lt;ul&gt;&lt;li&gt;&lt;p&gt;...</td>\n",
       "      <td>Data scientist</td>\n",
       "      <td>Job Requirements: Conceptual understanding in...</td>\n",
       "    </tr>\n",
       "    <tr>\n",
       "      <th>1</th>\n",
       "      <td>1</td>\n",
       "      <td>b'&lt;div&gt;Job Description&lt;br/&gt;\\n&lt;br/&gt;\\n&lt;p&gt;As a Da...</td>\n",
       "      <td>Data Scientist I</td>\n",
       "      <td>Job Description   As a Data Scientist 1, you ...</td>\n",
       "    </tr>\n",
       "    <tr>\n",
       "      <th>2</th>\n",
       "      <td>2</td>\n",
       "      <td>b'&lt;div&gt;&lt;p&gt;As a Data Scientist you will be work...</td>\n",
       "      <td>Data Scientist - Entry Level</td>\n",
       "      <td>As a Data Scientist you will be working on co...</td>\n",
       "    </tr>\n",
       "    <tr>\n",
       "      <th>3</th>\n",
       "      <td>3</td>\n",
       "      <td>b'&lt;div class=\"jobsearch-JobMetadataHeader icl-...</td>\n",
       "      <td>Data Scientist</td>\n",
       "      <td>$4,969 - $6,756 a month Contract Under the ge...</td>\n",
       "    </tr>\n",
       "    <tr>\n",
       "      <th>4</th>\n",
       "      <td>4</td>\n",
       "      <td>b'&lt;ul&gt;&lt;li&gt;Location: USA \\xe2\\x80\\x93 multiple ...</td>\n",
       "      <td>Data Scientist</td>\n",
       "      <td>Location: USA \\xe2\\x80\\x93 multiple locations...</td>\n",
       "    </tr>\n",
       "  </tbody>\n",
       "</table>\n",
       "</div>"
      ],
      "text/plain": [
       "   Unnamed: 0                                        description  \\\n",
       "0           0  b\"<div><div>Job Requirements:</div><ul><li><p>...   \n",
       "1           1  b'<div>Job Description<br/>\\n<br/>\\n<p>As a Da...   \n",
       "2           2  b'<div><p>As a Data Scientist you will be work...   \n",
       "3           3  b'<div class=\"jobsearch-JobMetadataHeader icl-...   \n",
       "4           4  b'<ul><li>Location: USA \\xe2\\x80\\x93 multiple ...   \n",
       "\n",
       "                          title  \\\n",
       "0               Data scientist    \n",
       "1              Data Scientist I   \n",
       "2  Data Scientist - Entry Level   \n",
       "3                Data Scientist   \n",
       "4                Data Scientist   \n",
       "\n",
       "                                                text  \n",
       "0   Job Requirements: Conceptual understanding in...  \n",
       "1   Job Description   As a Data Scientist 1, you ...  \n",
       "2   As a Data Scientist you will be working on co...  \n",
       "3   $4,969 - $6,756 a month Contract Under the ge...  \n",
       "4   Location: USA \\xe2\\x80\\x93 multiple locations...  "
      ]
     },
     "execution_count": 20,
     "metadata": {},
     "output_type": "execute_result"
    }
   ],
   "source": [
    "from bs4 import BeautifulSoup\n",
    "import requests\n",
    "\n",
    "##### Your Code Here #####\n",
    "\"\"\"\n",
    "Getting individual text from description column from soup documentation\n",
    "soup = BeautifulSoup(text[0])\n",
    "print(soup.prettify())\n",
    "soup.get_text()\n",
    "\"\"\"\n",
    "\n",
    "job_description = []\n",
    "\n",
    "for doc in text:\n",
    "    soup = BeautifulSoup(doc)\n",
    "    soup_text = soup.get_text(\" \")\n",
    "    text = soup_text.replace(\"\\\\n\", '')\n",
    "    text2 = text.replace(\"/\", \" \")\n",
    "    text3 = text2.replace('\\\\xe2\\\\x80\\\\x99', \"'\")\n",
    "    text4 = text3.replace('\\xe2\\x80\\x99', \"'\")\n",
    "    text5 = text4.replace(' \\xe2\\x80\\xa6', '')\n",
    "    text6 = text5.replace('b\"', '')\n",
    "    text7 = text6.replace(' \\xe2\\x80\\x93', '')\n",
    "    text8 = text7.replace('nfosys\\xe2\\x80\\x93', '')\n",
    "    text9 = text8.replace(\"b'\", '')\n",
    "    job_description.append(text9)\n",
    "\n",
    "print(*job_description[:3], sep= \"\\n\\n\")\n",
    "\n",
    "jobs['text'] = job_description\n",
    "\n",
    "jobs.head()\n"
   ]
  },
  {
   "cell_type": "code",
   "execution_count": 21,
   "metadata": {},
   "outputs": [
    {
     "data": {
      "text/html": [
       "<div>\n",
       "<style scoped>\n",
       "    .dataframe tbody tr th:only-of-type {\n",
       "        vertical-align: middle;\n",
       "    }\n",
       "\n",
       "    .dataframe tbody tr th {\n",
       "        vertical-align: top;\n",
       "    }\n",
       "\n",
       "    .dataframe thead th {\n",
       "        text-align: right;\n",
       "    }\n",
       "</style>\n",
       "<table border=\"1\" class=\"dataframe\">\n",
       "  <thead>\n",
       "    <tr style=\"text-align: right;\">\n",
       "      <th></th>\n",
       "      <th>title</th>\n",
       "      <th>text</th>\n",
       "    </tr>\n",
       "  </thead>\n",
       "  <tbody>\n",
       "    <tr>\n",
       "      <th>0</th>\n",
       "      <td>Data scientist</td>\n",
       "      <td>Job Requirements: Conceptual understanding in...</td>\n",
       "    </tr>\n",
       "    <tr>\n",
       "      <th>1</th>\n",
       "      <td>Data Scientist I</td>\n",
       "      <td>Job Description   As a Data Scientist 1, you ...</td>\n",
       "    </tr>\n",
       "    <tr>\n",
       "      <th>2</th>\n",
       "      <td>Data Scientist - Entry Level</td>\n",
       "      <td>As a Data Scientist you will be working on co...</td>\n",
       "    </tr>\n",
       "    <tr>\n",
       "      <th>3</th>\n",
       "      <td>Data Scientist</td>\n",
       "      <td>$4,969 - $6,756 a month Contract Under the ge...</td>\n",
       "    </tr>\n",
       "    <tr>\n",
       "      <th>4</th>\n",
       "      <td>Data Scientist</td>\n",
       "      <td>Location: USA \\xe2\\x80\\x93 multiple locations...</td>\n",
       "    </tr>\n",
       "  </tbody>\n",
       "</table>\n",
       "</div>"
      ],
      "text/plain": [
       "                          title  \\\n",
       "0               Data scientist    \n",
       "1              Data Scientist I   \n",
       "2  Data Scientist - Entry Level   \n",
       "3                Data Scientist   \n",
       "4                Data Scientist   \n",
       "\n",
       "                                                text  \n",
       "0   Job Requirements: Conceptual understanding in...  \n",
       "1   Job Description   As a Data Scientist 1, you ...  \n",
       "2   As a Data Scientist you will be working on co...  \n",
       "3   $4,969 - $6,756 a month Contract Under the ge...  \n",
       "4   Location: USA \\xe2\\x80\\x93 multiple locations...  "
      ]
     },
     "execution_count": 21,
     "metadata": {},
     "output_type": "execute_result"
    }
   ],
   "source": [
    "# drop unused columns from jobs dataframe\n",
    "jobs = jobs.drop(columns=[\"Unnamed: 0\", 'description'])\n",
    "jobs.head()"
   ]
  },
  {
   "cell_type": "code",
   "execution_count": 22,
   "metadata": {},
   "outputs": [],
   "source": [
    "# defining stop words - removing unuseful words from the text\n",
    "nlp = spacy.load(\"en_core_web_lg\")\n",
    "STOP_WORDS = nlp.Defaults.stop_words.union(['\\\\n', 'b', 'etc', ' ', 'job','requirement', 'requirements', 'for\\\\xe2\\\\x80\\\\xa6','life\\\\xe2\\\\x80\\\\xa6',\"we\\\\'re\", \"aren\\\\'t\",'', 'b\"'])"
   ]
  },
  {
   "cell_type": "markdown",
   "metadata": {
    "colab_type": "text",
    "id": "5C4xFZNtX1m2"
   },
   "source": [
    "## 2) Use Spacy to tokenize the listings "
   ]
  },
  {
   "cell_type": "code",
   "execution_count": 23,
   "metadata": {
    "colab": {},
    "colab_type": "code",
    "id": "dhUHuMr-X-II"
   },
   "outputs": [
    {
     "name": "stdout",
     "output_type": "stream",
     "text": [
      "['description', '  ', 'Data', 'scientist', '1', 'help', 'build', 'machine', 'learning', 'model', 'data', 'pipeline', 'micro', 'service', 'help', 'client', 'navigate', 'healthcare', 'journey', 'empower', 'improve', 'generation', 'Accolade', 'Applications', 'user', 'experience', 'day', 'work', 'small', 'agile', 'team', 'design', 'develop', 'mobile', 'application', 'iterative', 'fashion', 'work', 'tight', 'knit', 'group', 'development', 'team', 'member', 'Seattle', 'contribute', 'good', 'practice', 'help', 'guide', 'future', 'application', 'operate', 'effectively', 'collaborative', 'member', 'development', 'team', 'operate', 'effectively', 'individual', 'quick', 'turnaround', 'enhancement', 'fix', 'responsible', 'meet', 'expectation', 'deliverable', 'time', 'high', 'quality', 'drive', 'implement', 'new', 'feature', 'mobile', 'application', 'perform', 'thorough', 'manual', 'testing', 'writing', 'test', 'case', 'cover', 'area', 'identify', 'new', 'development', 'tool', 'approach', 'increase', 'code', 'quality', 'efficiency', 'good', 'practice', 'develop', 'champion', 'development', 'process', 'code', 'style', 'guideline', 'architectural', 'design', 'necessary', 'innovate', 'maintain', 'great', 'product', 'quality', 'effectively', 'turn', 'design', 'document', 'graphic', 'performant', 'usable', 'UI', 'demonstrate', 'creative', 'technical', 'analytical', 'skill', 'demonstrate', 'ability', 'communicate', 'effectively', 'technical', 'business', 'environment', '  ', 'qualification', '  ', 'look', 'Master', 'Degree', 'Computer', 'Science', 'Math', 'related', 'field', 'computer', 'Science', 'fundamental', 'illustrate', 'algorithm', 'design', 'problem', 'solve', 'complexity', 'analysis', '1', '+', 'year', 'real', 'world', 'experience', 'develop', 'deploy', 'micro', 'service', 'datum', 'pipeline', 'fundamental', 'understanding', 'key', 'machine', 'learning', 'concept', 'accuracy', 'measure', 'cross', 'validation', 'open', 'source', 'machine', 'learn', 'library', 'Fluent', 'Python', 'SQL', 'Proficient', 'write', 'unit', 'functional', 'test', 'familiar', 'automation', 'framework', 'experience', 'cloud', 'infrastructure', 'AWS', 'Azure', 'plus', 'experience', 'distribute', 'data', 'pipeline', 'spark', 'plus', 'strong', 'write', 'oral', 'communication', 'skill', 'desire', 'willingness', 'work', 'agile', 'collaborative', 'innovative', 'flexible', 'team', 'orient', 'environment', 'hand', 'detail', 'orient', 'methodical', 'inquisitive', 'motivated', 'self', 'starter', 'solid', 'level', 'experience', 'quickly', 'grasp', 'complex', 'challenge', 'skillful', 'communicator', 'experience', 'work', 'technical', 'management', 'team', 'service', 'orient', 'person', 'think', 'customer', 'fast', 'fail', 'entrepreneurial', 'spirit', 'thrive', 'fast', 'pace', 'environment', 'continuous', 'improvement', 'norm', 'bar', 'quality', 'extremely', 'high', 'excite', 'challenge', 'work', 'product', 'team', 'undergo', 'rapid', 'international', 'growth', 'additional', 'information', '  ', 'important', 'create', 'endure', 'company', 'hyper', 'focused', 'culture', 'make', 'meaningful', 'impact', 'life', 'employee', 'member', 'customer', 'secret', 'success', 'find', 'joy', 'purpose', 'serve', 'make', 'difference', 'member', 'customer', 'life', 'hard', 'right', 'thing', 'right', 'reason', 'strong', 'individually', 'powerful', 'trusting', 'colleague', 'embrace', 'different', 'background', 'experience', 'enable', 'solve', 'tough', 'problem', 'creative', 'way', 'have', 'fun', 'way', 'roll', 'sleeve', 'stuff', 'result', 'motivate', 'afraid', 'hard', 'work', 'tough', 'decision', 'need', 'boldly', 'relentlessly', 'reinvent', 'healthcare', 'curious', 'act', 'big', 'afraid', 'knock', 'barrier', 'calculate', 'risk', 'change', 'world', 'person', 'time', 'information', 'keep', 'confidential', 'according', 'EEO', 'guideline']\n"
     ]
    }
   ],
   "source": [
    "##### Your Code Here #####\n",
    "importantwords = jobs['text'][1]\n",
    "print([token.lemma_ for token in nlp(importantwords) if\n",
    "       (token.is_punct == False) and\n",
    "       (token.text.lower() not in STOP_WORDS)]) "
   ]
  },
  {
   "cell_type": "code",
   "execution_count": 24,
   "metadata": {},
   "outputs": [
    {
     "data": {
      "text/html": [
       "<div>\n",
       "<style scoped>\n",
       "    .dataframe tbody tr th:only-of-type {\n",
       "        vertical-align: middle;\n",
       "    }\n",
       "\n",
       "    .dataframe tbody tr th {\n",
       "        vertical-align: top;\n",
       "    }\n",
       "\n",
       "    .dataframe thead th {\n",
       "        text-align: right;\n",
       "    }\n",
       "</style>\n",
       "<table border=\"1\" class=\"dataframe\">\n",
       "  <thead>\n",
       "    <tr style=\"text-align: right;\">\n",
       "      <th></th>\n",
       "      <th>title</th>\n",
       "      <th>text</th>\n",
       "      <th>token</th>\n",
       "    </tr>\n",
       "  </thead>\n",
       "  <tbody>\n",
       "    <tr>\n",
       "      <th>0</th>\n",
       "      <td>Data scientist</td>\n",
       "      <td>Job Requirements: Conceptual understanding in...</td>\n",
       "      <td>[conceptual, understanding, Machine, Learning,...</td>\n",
       "    </tr>\n",
       "    <tr>\n",
       "      <th>1</th>\n",
       "      <td>Data Scientist I</td>\n",
       "      <td>Job Description   As a Data Scientist 1, you ...</td>\n",
       "      <td>[description,   , Data, scientist, 1, help, bu...</td>\n",
       "    </tr>\n",
       "    <tr>\n",
       "      <th>2</th>\n",
       "      <td>Data Scientist - Entry Level</td>\n",
       "      <td>As a Data Scientist you will be working on co...</td>\n",
       "      <td>[Data, scientist, work, consult, business, res...</td>\n",
       "    </tr>\n",
       "    <tr>\n",
       "      <th>3</th>\n",
       "      <td>Data Scientist</td>\n",
       "      <td>$4,969 - $6,756 a month Contract Under the ge...</td>\n",
       "      <td>[$, 4,969, $, 6,756, month, contract, general,...</td>\n",
       "    </tr>\n",
       "    <tr>\n",
       "      <th>4</th>\n",
       "      <td>Data Scientist</td>\n",
       "      <td>Location: USA \\xe2\\x80\\x93 multiple locations...</td>\n",
       "      <td>[location, USA, \\xe2\\x80\\x93, multiple, locati...</td>\n",
       "    </tr>\n",
       "    <tr>\n",
       "      <th>5</th>\n",
       "      <td>Data Scientist</td>\n",
       "      <td>Create various Business Intelligence Analytic...</td>\n",
       "      <td>[create, Business, Intelligence, Analytical, r...</td>\n",
       "    </tr>\n",
       "    <tr>\n",
       "      <th>6</th>\n",
       "      <td>Associate Data Scientist – Premium Analytics</td>\n",
       "      <td>As Spotify Premium swells to over 96M subscri...</td>\n",
       "      <td>[Spotify, Premium, swell, 96, M, subscriber, g...</td>\n",
       "    </tr>\n",
       "    <tr>\n",
       "      <th>7</th>\n",
       "      <td>Data Scientist</td>\n",
       "      <td>Everytown for Gun Safety, the nation's largest...</td>\n",
       "      <td>[Everytown, Gun, Safety, nation, large, gun, v...</td>\n",
       "    </tr>\n",
       "    <tr>\n",
       "      <th>8</th>\n",
       "      <td>Sr. Data Scientist</td>\n",
       "      <td>MS in a quantitative discipline such as Stati...</td>\n",
       "      <td>[MS, quantitative, discipline, Statistics, Mat...</td>\n",
       "    </tr>\n",
       "    <tr>\n",
       "      <th>9</th>\n",
       "      <td>Data Scientist, Lifecyle</td>\n",
       "      <td>Slack is hiring experienced data scientists t...</td>\n",
       "      <td>[Slack, hire, experienced, datum, scientist, j...</td>\n",
       "    </tr>\n",
       "  </tbody>\n",
       "</table>\n",
       "</div>"
      ],
      "text/plain": [
       "                                          title  \\\n",
       "0                               Data scientist    \n",
       "1                              Data Scientist I   \n",
       "2                  Data Scientist - Entry Level   \n",
       "3                                Data Scientist   \n",
       "4                                Data Scientist   \n",
       "5                                Data Scientist   \n",
       "6  Associate Data Scientist – Premium Analytics   \n",
       "7                                Data Scientist   \n",
       "8                            Sr. Data Scientist   \n",
       "9                      Data Scientist, Lifecyle   \n",
       "\n",
       "                                                text  \\\n",
       "0   Job Requirements: Conceptual understanding in...   \n",
       "1   Job Description   As a Data Scientist 1, you ...   \n",
       "2   As a Data Scientist you will be working on co...   \n",
       "3   $4,969 - $6,756 a month Contract Under the ge...   \n",
       "4   Location: USA \\xe2\\x80\\x93 multiple locations...   \n",
       "5   Create various Business Intelligence Analytic...   \n",
       "6   As Spotify Premium swells to over 96M subscri...   \n",
       "7  Everytown for Gun Safety, the nation's largest...   \n",
       "8   MS in a quantitative discipline such as Stati...   \n",
       "9   Slack is hiring experienced data scientists t...   \n",
       "\n",
       "                                               token  \n",
       "0  [conceptual, understanding, Machine, Learning,...  \n",
       "1  [description,   , Data, scientist, 1, help, bu...  \n",
       "2  [Data, scientist, work, consult, business, res...  \n",
       "3  [$, 4,969, $, 6,756, month, contract, general,...  \n",
       "4  [location, USA, \\xe2\\x80\\x93, multiple, locati...  \n",
       "5  [create, Business, Intelligence, Analytical, r...  \n",
       "6  [Spotify, Premium, swell, 96, M, subscriber, g...  \n",
       "7  [Everytown, Gun, Safety, nation, large, gun, v...  \n",
       "8  [MS, quantitative, discipline, Statistics, Mat...  \n",
       "9  [Slack, hire, experienced, datum, scientist, j...  "
      ]
     },
     "execution_count": 24,
     "metadata": {},
     "output_type": "execute_result"
    }
   ],
   "source": [
    "#tokenize\n",
    "token = []\n",
    "for doc in jobs['text']:\n",
    "    text = [token.lemma_ for token in nlp(doc) if\n",
    "            (token.is_punct == False) and\n",
    "            (token.text.lower() not in STOP_WORDS)]\n",
    "    token.append(text)\n",
    "jobs['token'] = token\n",
    "jobs.head(10)"
   ]
  },
  {
   "cell_type": "markdown",
   "metadata": {
    "colab_type": "text",
    "id": "-lgCZNL_YycP"
   },
   "source": [
    "## 3) Use Scikit-Learn's CountVectorizer to get word counts for each listing."
   ]
  },
  {
   "cell_type": "code",
   "execution_count": 25,
   "metadata": {
    "colab": {},
    "colab_type": "code",
    "id": "X2PZ8Pj_YxcF"
   },
   "outputs": [
    {
     "name": "stdout",
     "output_type": "stream",
     "text": [
      "(426, 8525)\n"
     ]
    }
   ],
   "source": [
    "##### Your Code Here #####\n",
    "\n",
    "# jobs text variable\n",
    "wc = jobs['text']\n",
    "#transformer function\n",
    "vect = CountVectorizer()\n",
    "#fit the vocab\n",
    "vect.fit(wc)\n",
    "#transform the text\n",
    "dtm = vect.transform(wc)\n",
    "print(dtm.shape)\n"
   ]
  },
  {
   "cell_type": "code",
   "execution_count": 26,
   "metadata": {},
   "outputs": [
    {
     "data": {
      "text/plain": [
       "<426x8525 sparse matrix of type '<class 'numpy.int64'>'\n",
       "\twith 111670 stored elements in Compressed Sparse Row format>"
      ]
     },
     "execution_count": 26,
     "metadata": {},
     "output_type": "execute_result"
    }
   ],
   "source": [
    "dtm"
   ]
  },
  {
   "cell_type": "markdown",
   "metadata": {
    "colab_type": "text",
    "id": "Zo1iH_UeY7_n"
   },
   "source": [
    "## 4) Visualize the most common word counts"
   ]
  },
  {
   "cell_type": "code",
   "execution_count": 27,
   "metadata": {
    "colab": {},
    "colab_type": "code",
    "id": "M5LB00uyZKV5"
   },
   "outputs": [
    {
     "data": {
      "image/png": "[encoded data removed]",
      "text/plain": [
       "<Figure size 864x432 with 1 Axes>"
      ]
     },
     "metadata": {},
     "output_type": "display_data"
    }
   ],
   "source": [
    "##### Your Code Here #####\n",
    "import seaborn as sns\n",
    "sns.set()\n",
    "num_words = [len(s.split()) for s in jobs['text']]\n",
    "plt.figure(figsize=(12, 6))\n",
    "sns.distplot(num_words)\n",
    "plt.title('Words per Document')\n",
    "plt.xlabel('Number of Words')\n",
    "plt.ylabel('Proportion of Documents')\n",
    "plt.show()"
   ]
  },
  {
   "cell_type": "markdown",
   "metadata": {
    "colab_type": "text",
    "id": "bwFsTqrVZMYi"
   },
   "source": [
    "## 5) Use Scikit-Learn's tfidfVectorizer to get a TF-IDF feature matrix"
   ]
  },
  {
   "cell_type": "code",
   "execution_count": 28,
   "metadata": {
    "colab": {},
    "colab_type": "code",
    "id": "-gx2gZCbl5Np"
   },
   "outputs": [
    {
     "name": "stdout",
     "output_type": "stream",
     "text": [
      "(426, 6205)\n"
     ]
    },
    {
     "data": {
      "text/html": [
       "<div>\n",
       "<style scoped>\n",
       "    .dataframe tbody tr th:only-of-type {\n",
       "        vertical-align: middle;\n",
       "    }\n",
       "\n",
       "    .dataframe tbody tr th {\n",
       "        vertical-align: top;\n",
       "    }\n",
       "\n",
       "    .dataframe thead th {\n",
       "        text-align: right;\n",
       "    }\n",
       "</style>\n",
       "<table border=\"1\" class=\"dataframe\">\n",
       "  <thead>\n",
       "    <tr style=\"text-align: right;\">\n",
       "      <th></th>\n",
       "      <th>04</th>\n",
       "      <th>10 time</th>\n",
       "      <th>100 premium</th>\n",
       "      <th>1079302</th>\n",
       "      <th>1079302 kbrwyle</th>\n",
       "      <th>11 04</th>\n",
       "      <th>14</th>\n",
       "      <th>150</th>\n",
       "      <th>19 2019</th>\n",
       "      <th>20 pounds</th>\n",
       "      <th>...</th>\n",
       "      <th>xef x83</th>\n",
       "      <th>xgboost</th>\n",
       "      <th>year simple</th>\n",
       "      <th>years analytical</th>\n",
       "      <th>years applied</th>\n",
       "      <th>years come</th>\n",
       "      <th>years requirements</th>\n",
       "      <th>years technical</th>\n",
       "      <th>york offices</th>\n",
       "      <th>yrs</th>\n",
       "    </tr>\n",
       "  </thead>\n",
       "  <tbody>\n",
       "    <tr>\n",
       "      <th>0</th>\n",
       "      <td>0.0</td>\n",
       "      <td>0.0</td>\n",
       "      <td>0.0</td>\n",
       "      <td>0.0</td>\n",
       "      <td>0.0</td>\n",
       "      <td>0.0</td>\n",
       "      <td>0.0</td>\n",
       "      <td>0.0</td>\n",
       "      <td>0.0</td>\n",
       "      <td>0.0</td>\n",
       "      <td>...</td>\n",
       "      <td>0.0</td>\n",
       "      <td>0.0</td>\n",
       "      <td>0.0</td>\n",
       "      <td>0.0</td>\n",
       "      <td>0.0</td>\n",
       "      <td>0.0</td>\n",
       "      <td>0.0</td>\n",
       "      <td>0.0</td>\n",
       "      <td>0.0</td>\n",
       "      <td>0.0</td>\n",
       "    </tr>\n",
       "    <tr>\n",
       "      <th>1</th>\n",
       "      <td>0.0</td>\n",
       "      <td>0.0</td>\n",
       "      <td>0.0</td>\n",
       "      <td>0.0</td>\n",
       "      <td>0.0</td>\n",
       "      <td>0.0</td>\n",
       "      <td>0.0</td>\n",
       "      <td>0.0</td>\n",
       "      <td>0.0</td>\n",
       "      <td>0.0</td>\n",
       "      <td>...</td>\n",
       "      <td>0.0</td>\n",
       "      <td>0.0</td>\n",
       "      <td>0.0</td>\n",
       "      <td>0.0</td>\n",
       "      <td>0.0</td>\n",
       "      <td>0.0</td>\n",
       "      <td>0.0</td>\n",
       "      <td>0.0</td>\n",
       "      <td>0.0</td>\n",
       "      <td>0.0</td>\n",
       "    </tr>\n",
       "    <tr>\n",
       "      <th>2</th>\n",
       "      <td>0.0</td>\n",
       "      <td>0.0</td>\n",
       "      <td>0.0</td>\n",
       "      <td>0.0</td>\n",
       "      <td>0.0</td>\n",
       "      <td>0.0</td>\n",
       "      <td>0.0</td>\n",
       "      <td>0.0</td>\n",
       "      <td>0.0</td>\n",
       "      <td>0.0</td>\n",
       "      <td>...</td>\n",
       "      <td>0.0</td>\n",
       "      <td>0.0</td>\n",
       "      <td>0.0</td>\n",
       "      <td>0.0</td>\n",
       "      <td>0.0</td>\n",
       "      <td>0.0</td>\n",
       "      <td>0.0</td>\n",
       "      <td>0.0</td>\n",
       "      <td>0.0</td>\n",
       "      <td>0.0</td>\n",
       "    </tr>\n",
       "    <tr>\n",
       "      <th>3</th>\n",
       "      <td>0.0</td>\n",
       "      <td>0.0</td>\n",
       "      <td>0.0</td>\n",
       "      <td>0.0</td>\n",
       "      <td>0.0</td>\n",
       "      <td>0.0</td>\n",
       "      <td>0.0</td>\n",
       "      <td>0.0</td>\n",
       "      <td>0.0</td>\n",
       "      <td>0.0</td>\n",
       "      <td>...</td>\n",
       "      <td>0.0</td>\n",
       "      <td>0.0</td>\n",
       "      <td>0.0</td>\n",
       "      <td>0.0</td>\n",
       "      <td>0.0</td>\n",
       "      <td>0.0</td>\n",
       "      <td>0.0</td>\n",
       "      <td>0.0</td>\n",
       "      <td>0.0</td>\n",
       "      <td>0.0</td>\n",
       "    </tr>\n",
       "    <tr>\n",
       "      <th>4</th>\n",
       "      <td>0.0</td>\n",
       "      <td>0.0</td>\n",
       "      <td>0.0</td>\n",
       "      <td>0.0</td>\n",
       "      <td>0.0</td>\n",
       "      <td>0.0</td>\n",
       "      <td>0.0</td>\n",
       "      <td>0.0</td>\n",
       "      <td>0.0</td>\n",
       "      <td>0.0</td>\n",
       "      <td>...</td>\n",
       "      <td>0.0</td>\n",
       "      <td>0.0</td>\n",
       "      <td>0.0</td>\n",
       "      <td>0.0</td>\n",
       "      <td>0.0</td>\n",
       "      <td>0.0</td>\n",
       "      <td>0.0</td>\n",
       "      <td>0.0</td>\n",
       "      <td>0.0</td>\n",
       "      <td>0.0</td>\n",
       "    </tr>\n",
       "  </tbody>\n",
       "</table>\n",
       "<p>5 rows × 6205 columns</p>\n",
       "</div>"
      ],
      "text/plain": [
       "    04  10 time  100 premium  1079302  1079302 kbrwyle  11 04   14  150  \\\n",
       "0  0.0      0.0          0.0      0.0              0.0    0.0  0.0  0.0   \n",
       "1  0.0      0.0          0.0      0.0              0.0    0.0  0.0  0.0   \n",
       "2  0.0      0.0          0.0      0.0              0.0    0.0  0.0  0.0   \n",
       "3  0.0      0.0          0.0      0.0              0.0    0.0  0.0  0.0   \n",
       "4  0.0      0.0          0.0      0.0              0.0    0.0  0.0  0.0   \n",
       "\n",
       "   19 2019  20 pounds  ...  xef x83  xgboost  year simple  years analytical  \\\n",
       "0      0.0        0.0  ...      0.0      0.0          0.0               0.0   \n",
       "1      0.0        0.0  ...      0.0      0.0          0.0               0.0   \n",
       "2      0.0        0.0  ...      0.0      0.0          0.0               0.0   \n",
       "3      0.0        0.0  ...      0.0      0.0          0.0               0.0   \n",
       "4      0.0        0.0  ...      0.0      0.0          0.0               0.0   \n",
       "\n",
       "   years applied  years come  years requirements  years technical  \\\n",
       "0            0.0         0.0                 0.0              0.0   \n",
       "1            0.0         0.0                 0.0              0.0   \n",
       "2            0.0         0.0                 0.0              0.0   \n",
       "3            0.0         0.0                 0.0              0.0   \n",
       "4            0.0         0.0                 0.0              0.0   \n",
       "\n",
       "   york offices  yrs  \n",
       "0           0.0  0.0  \n",
       "1           0.0  0.0  \n",
       "2           0.0  0.0  \n",
       "3           0.0  0.0  \n",
       "4           0.0  0.0  \n",
       "\n",
       "[5 rows x 6205 columns]"
      ]
     },
     "execution_count": 28,
     "metadata": {},
     "output_type": "execute_result"
    }
   ],
   "source": [
    "##### Your Code Here #####\n",
    "tfidf = TfidfVectorizer(stop_words = 'english',\n",
    "                        ngram_range = (1, 2),\n",
    "                        min_df = 3,\n",
    "                        max_df = 0.01)\n",
    "#The following should create the vocab and tf-idf score per document.\n",
    "dtm = tfidf.fit_transform(jobs['text'])\n",
    "#The following will get feature names to use as a df column headers.\n",
    "dtm = pd.DataFrame(dtm.todense(), columns = tfidf.get_feature_names())\n",
    "print(dtm.shape)\n",
    "dtm.head()"
   ]
  },
  {
   "cell_type": "markdown",
   "metadata": {},
   "source": [
    "## 6) Create a NearestNeighbor Model. Write the description of your ideal datascience job and query your job listings. "
   ]
  },
  {
   "cell_type": "code",
   "execution_count": 29,
   "metadata": {
    "collapsed": false,
    "inputHidden": false,
    "jupyter": {
     "outputs_hidden": false
    },
    "outputHidden": false
   },
   "outputs": [
    {
     "data": {
      "text/plain": [
       "NearestNeighbors(algorithm='kd_tree', leaf_size=50, metric='minkowski',\n",
       "                 metric_params=None, n_jobs=6, n_neighbors=10, p=10,\n",
       "                 radius=1.0)"
      ]
     },
     "execution_count": 29,
     "metadata": {},
     "output_type": "execute_result"
    }
   ],
   "source": [
    "##### Your Code Here #####\n",
    "# Fitting into dtm\n",
    "NN = NearestNeighbors(n_neighbors=10, algorithm='kd_tree', leaf_size=50, n_jobs=6, p=10)\n",
    "NN.fit(dtm)"
   ]
  },
  {
   "cell_type": "code",
   "execution_count": 30,
   "metadata": {},
   "outputs": [
    {
     "data": {
      "text/plain": [
       "(array([[0.        , 0.29682721, 0.29682721, 0.29682721, 0.29687564,\n",
       "         0.29687824, 0.29687824, 0.29695633, 0.29700496, 0.29702777]]),\n",
       " array([[  1, 275, 240, 334,  89,  52, 142, 129, 238, 298]], dtype=int64))"
      ]
     },
     "execution_count": 30,
     "metadata": {},
     "output_type": "execute_result"
    }
   ],
   "source": [
    "NN.kneighbors([dtm.iloc[1].values])"
   ]
  },
  {
   "cell_type": "code",
   "execution_count": 31,
   "metadata": {},
   "outputs": [
    {
     "data": {
      "text/plain": [
       "'The Data Scientist will perform analysis and modeling for all demand generation and conversion elements including product, placement, price, and promotion in support of the short and long-term goals of the Sales & Marketing and Supply Chain teams.  Job responsibilities include but are not limited to: Perform data mining and predictive analytics to help answer questions to identify key areas within the various function for performance improvement and predict future outcomes and trends. Design, deploy and provide ongoing evaluations of the statistical models and data mining techniques for predictive learning applications. Establish scalable, efficient, automated processes for large-scale data analyses, model development, model validation, and model implementation. Discover patterns and anomalies in data using ad-hoc query visual discovery. Based on findings, make recommendations to management on possible actions to ensure the desired outcome. Collaborate with internal teams to generate ideas and strategies based on data-driven insights and recommendations. Partner with the data teams to assemble data from multiple systems and sources, which includes evaluation of data accuracy and completeness  Short-term deliverables include: Collaborate with marketing to develop a robust model to predict the future state of the demand funnel and then integration Media Mix Modeling outcomes to recommend actions to close the gap. Develop models to quantify the relationship between price position\\'s and conversions and collaborate with internal and external teams to enhance incentive program effectiveness models. Collaborate with SCM to develop a model for predictive future dealer orders.  Basic Qualifications: Bachelor\\'s degree in computer science, data science, operations research, statistics, applied mathematics, or a related quantitative field or equivalent Familiar with various modeling methodologies including economics, econometrics, statistics, and data mining 3+ years of experience conducting statistical analysis in a business or academic environment. 3+ years of experience with one or more of the following tools: Data Gathering skills tools (e.g. SQL, Hadoop, Teradata, SAS, R, Python, Business Objects, etc.)  Preferred Qualifications: Master\\'s degree in quantitative field, such as Statistics, Economics, Mathematics, Computer Science, Data Science, Operation Research Strong problem formulation and problem-solving skills Proven ability to transform business requirements into technical specifications Ability to handle multiple projects within a given timeframe Proven ability to present strategies and make recommendations to senior management Have a lifetime learning attitude Our benefits reflects the FCA commitment to helping you reach your personal and professional goals. In addition to an environment that promotes career development, we offer benefits for a healthy lifestyle and a rewarding future, designed to take care of you and your family, in various stages of life. As a global company, our employee packages will vary by country, customary norms and the legal entity into which you are hired.\"'"
      ]
     },
     "execution_count": 31,
     "metadata": {},
     "output_type": "execute_result"
    }
   ],
   "source": [
    "jobs['text'][298][:8000]"
   ]
  },
  {
   "cell_type": "code",
   "execution_count": 32,
   "metadata": {},
   "outputs": [],
   "source": [
    "Linkedin_job_posting = [\"\"\"\n",
    "We’re looking for Data Scientists to work on our core and business products (ex. Instagram, Messenger, FB App, Ads, What's App, Integrity, etc.) to help shape the future of what we build at Facebook. You will enjoy working with one of the richest data sets in the world, cutting edge technology, and the ability to see your insights turned into real products on a regular basis. You should have a background in a quantitative or technical field, experience working with large data sets, and experience in data-driven decision making. You are focused on results, a self-starter, and have demonstrated success in using analytics to drive the understanding, growth, and success of a product.\n",
    "Apply your expertise in quantitative analysis, data mining, and the presentation of data to see beyond the numbers and understand how our users interact with both our consumer and business products\n",
    "Partner with Product and Engineering teams to solve problems and identify trends and opportunities\n",
    "Inform, influence, support, and execute our product decisions and product launches\n",
    "The Data Scientist Analytics role has work across the following four areas:\n",
    "Product Operations\n",
    "Forecasting and setting product team goals\n",
    "Designing and evaluating experiments\n",
    "Monitoring key product metrics, understanding root causes of changes in metrics\n",
    "Building and analyzing dashboards and reports\n",
    "Building key data sets to empower operational and exploratory analysis\n",
    "Evaluating and defining metrics\n",
    "Exploratory Analysis\n",
    "Proposing what to build in the next roadmap\n",
    "Understanding ecosystems, user behaviors, and long-term trends\n",
    "Identifying new levers to help move key metrics\n",
    "Building models of user behaviors for analysis or to power production systems\n",
    "Product Leadership\n",
    "Influencing product teams through presentation of data-based recommendations\n",
    "Communicating state of business, experiment results, etc. to product teams\n",
    "Spreading best practices to analytics and product teams\n",
    "Data Infrastructure\n",
    "Working in Hadoop and Hive primarily, sometimes MySQL, Oracle, and Vertica\n",
    "Automating analyses and authoring pipelines via SQL and Python based ETL framework\n",
    "Bachelors/Masters/PhD\n",
    "4+ years of experience doing complex quantitative analysis and working with distributed (i.e. Hive, Hadoop or similar databases) or highly complex datasets\n",
    "4+ years of experience with data querying languages (e.g. SQL), scripting languages (e.g. Python), or statistical/mathematical software (e.g. R, SAS, Matlab)\n",
    "4+ years of experience with applied statistics or experimentation (i.e. A/B testing) in an industry setting\n",
    "2+ years of experience communicating the results of analyses to leadership teams to influence the strategy\n",
    "Experience in a consumer technology company\n",
    "6+ years of experience in all the above minimums\n",
    "Facebook is proud to be an Equal Opportunity and Affirmative Action employer. We do not discriminate based upon race, religion, color, national origin, sex (including pregnancy, childbirth, or related medical conditions), sexual orientation, gender, gender identity, gender expression, transgender status, sexual stereotypes, age, status as a protected veteran, status as an individual with a disability, or other applicable legally protected characteristics. We also consider qualified applicants with criminal histories, consistent with applicable federal, state and local law.\n",
    "\n",
    "Facebook is committed to providing reasonable accommodations for candidates with disabilities in our recruiting process. If you need any assistance or accommodations due to a disability, please let us know at accommodations-ext@fb.com.\n",
    "\"\"\"]"
   ]
  },
  {
   "cell_type": "code",
   "execution_count": 33,
   "metadata": {},
   "outputs": [
    {
     "data": {
      "text/plain": [
       "<1x6205 sparse matrix of type '<class 'numpy.float64'>'\n",
       "\twith 54 stored elements in Compressed Sparse Row format>"
      ]
     },
     "execution_count": 33,
     "metadata": {},
     "output_type": "execute_result"
    }
   ],
   "source": [
    "#The Query\n",
    "Query = tfidf.transform(Linkedin_job_posting)\n",
    "Query"
   ]
  },
  {
   "cell_type": "code",
   "execution_count": 34,
   "metadata": {},
   "outputs": [
    {
     "data": {
      "text/plain": [
       "(array([[0.19918448, 0.27070866, 0.27070866, 0.27070866, 0.27079843,\n",
       "         0.27079843, 0.2708195 , 0.27101705, 0.27111423, 0.27116605]]),\n",
       " array([[301, 275, 334, 240,  52, 142,  89, 129, 238, 298]], dtype=int64))"
      ]
     },
     "execution_count": 34,
     "metadata": {},
     "output_type": "execute_result"
    }
   ],
   "source": [
    "NN.kneighbors(Query.todense())"
   ]
  },
  {
   "cell_type": "code",
   "execution_count": 35,
   "metadata": {},
   "outputs": [
    {
     "data": {
      "text/plain": [
       "' Description  A rare opportunity to join the development division within Information Systems at Steward Health Care, the top leader in the competitive for-profit hospital industry. We are seeking a motivated and experienced Data Scientist to contribute to the software development initiatives that improve the quality of health care across the country. This individual will be working with programmers, analysts and senior level management to optimize the development process within the enterprise by expanding our existing predictive analytics field. Key Responsibilities  Conduct research and build actionable visualizations that drive decisions.  Collect data required to extract actionable insights.  Work with the subject matter experts and key stakeholders to understand end goals for enhancements and new predictive tools.  Values critical thinking and has the ability to solve complex problems with incomplete data and a genuine curiosity. Contribute to the team\\'s overall knowledge by educating colleagues and peers about new functionality and upcoming tools applicable to data science. Ability and willingness to adapt quickly to changing priorities and requests.  Skills Experience  2+ years of experience in a data scientist role.  Can solve business problems using data analytics and big data and data lake technologies.  Basic python programming experience at the minimum.  Familiar with machine learning and modeling capabilities. Knowledge of tools required to extract, transform, and visualize big data. Understanding of the Agile Software Development principles and practices a plus.   Job Relationship  The Data Scientist reports to the Development Director. \"'"
      ]
     },
     "execution_count": 35,
     "metadata": {},
     "output_type": "execute_result"
    }
   ],
   "source": [
    "jobs['text'][100]"
   ]
  },
  {
   "cell_type": "markdown",
   "metadata": {
    "colab_type": "text",
    "id": "FiDfTWceoRkH"
   },
   "source": [
    "## Stretch Goals\n",
    "\n",
    " - Try different visualizations for words and frequencies - what story do you want to tell with the data?\n",
    " - Scrape Job Listings for the job title \"Data Analyst\". How do these differ from Data Scientist Job Listings\n",
    " - Try and identify requirements for experience specific technologies that are asked for in the job listings. How are those distributed among the job listings?\n",
    " - Use a clustering algorithm to cluster documents by their most important terms. Do the clusters reveal any common themes?\n",
    "  - **Hint:** K-means might not be the best algorithm for this. Do a little bit of research to see what might be good for this. Also, remember that algorithms that depend on Euclidean distance break down with high dimensional data.\n",
    " - Create a labeled dataset - which jobs will you apply for? Train a model to select the jobs you are most likely to apply for. :) "
   ]
  }
 ],
 "metadata": {
  "colab": {
   "collapsed_sections": [],
   "name": "LS_DS_422_BOW_Assignment.ipynb",
   "provenance": [],
   "version": "0.3.2"
  },
  "kernel_info": {
   "name": "python3"
  },
  "kernelspec": {
   "display_name": "U4-S1-NLP (Python3)",
   "language": "python",
   "name": "u4-s1-nlp"
  },
  "language_info": {
   "codemirror_mode": {
    "name": "ipython",
    "version": 3
   },
   "file_extension": ".py",
   "mimetype": "text/x-python",
   "name": "python",
   "nbconvert_exporter": "python",
   "pygments_lexer": "ipython3",
   "version": "3.7.0"
  },
  "nteract": {
   "version": "0.14.3"
  }
 },
 "nbformat": 4,
 "nbformat_minor": 4
}
