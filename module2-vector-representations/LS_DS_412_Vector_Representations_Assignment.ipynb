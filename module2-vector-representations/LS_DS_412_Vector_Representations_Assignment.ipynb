{
 "cells": [
  {
   "cell_type": "markdown",
   "metadata": {},
   "source": [
    "<img align=\"left\" src=\"https://lever-client-logos.s3.amazonaws.com/864372b1-534c-480e-acd5-9711f850815c-1524247202159.png\" width=200>\n",
    "<br></br>\n",
    "\n",
    "# Vector Representations\n",
    "## *Data Science Unit 4 Sprint 2 Assignment 2*"
   ]
  },
  {
   "cell_type": "code",
   "execution_count": 1,
   "metadata": {
    "colab": {
     "base_uri": "https://localhost:8080/",
     "height": 159
    },
    "colab_type": "code",
    "id": "hyj-f9FDcVFp",
    "outputId": "5dd045fe-6e4c-458c-e2fc-253c3da9c805"
   },
   "outputs": [],
   "source": [
    "import re\n",
    "import string\n",
    "\n",
    "from sklearn.feature_extraction.text import CountVectorizer, TfidfVectorizer\n",
    "import matplotlib.pyplot as plt\n",
    "import pandas as pd\n",
    "import numpy as np\n",
    "import spacy\n",
    "\n",
    "from bs4 import BeautifulSoup"
   ]
  },
  {
   "cell_type": "markdown",
   "metadata": {
    "colab_type": "text",
    "id": "M7bcmqfGXrFG"
   },
   "source": [
    "## 1) *Clean:* Job Listings from indeed.com that contain the title \"Data Scientist\" \n",
    "\n",
    "You have `job_listings.csv` in the data folder for this module. The text data in the description column is still messy - full of html tags. Use the [BeautifulSoup](https://www.crummy.com/software/BeautifulSoup/bs4/doc/) library to clean up this column. You will need to read through the documentation to accomplish this task. "
   ]
  },
  {
   "cell_type": "code",
   "execution_count": 2,
   "metadata": {},
   "outputs": [],
   "source": [
    "import os"
   ]
  },
  {
   "cell_type": "code",
   "execution_count": 3,
   "metadata": {},
   "outputs": [
    {
     "data": {
      "text/plain": [
       "'C:\\\\Users\\\\SKrishna\\\\Documents\\\\GitHub\\\\DS-Unit-4-Sprint-1-NLP\\\\module2-vector-representations'"
      ]
     },
     "execution_count": 3,
     "metadata": {},
     "output_type": "execute_result"
    }
   ],
   "source": [
    "os.getcwd()"
   ]
  },
  {
   "cell_type": "code",
   "execution_count": null,
   "metadata": {},
   "outputs": [],
   "source": []
  },
  {
   "cell_type": "code",
   "execution_count": 4,
   "metadata": {
    "colab": {},
    "colab_type": "code",
    "id": "KcYlc1URXhlC"
   },
   "outputs": [],
   "source": [
    "from bs4 import BeautifulSoup\n",
    "import requests\n",
    "\n",
    "df = pd.read_csv('data\\job_listings.csv')\n",
    "##### Your Code Here #####\n",
    "#raise Exception(\"\\nThis task is not complete. \\nReplace this line with your code for the task.\")\n",
    "                \n"
   ]
  },
  {
   "cell_type": "code",
   "execution_count": 5,
   "metadata": {},
   "outputs": [],
   "source": [
    "parsed_data = []\n",
    "for desc in df['description']:\n",
    "    soup = BeautifulSoup(desc, \"html.parser\")\n",
    "    parsed_data.append(soup.get_text()[2:-1])"
   ]
  },
  {
   "cell_type": "code",
   "execution_count": 6,
   "metadata": {},
   "outputs": [],
   "source": [
    "df['parsed_desc'] = parsed_data"
   ]
  },
  {
   "cell_type": "code",
   "execution_count": 7,
   "metadata": {},
   "outputs": [
    {
     "data": {
      "text/html": [
       "<div>\n",
       "<style scoped>\n",
       "    .dataframe tbody tr th:only-of-type {\n",
       "        vertical-align: middle;\n",
       "    }\n",
       "\n",
       "    .dataframe tbody tr th {\n",
       "        vertical-align: top;\n",
       "    }\n",
       "\n",
       "    .dataframe thead th {\n",
       "        text-align: right;\n",
       "    }\n",
       "</style>\n",
       "<table border=\"1\" class=\"dataframe\">\n",
       "  <thead>\n",
       "    <tr style=\"text-align: right;\">\n",
       "      <th></th>\n",
       "      <th>Unnamed: 0</th>\n",
       "      <th>description</th>\n",
       "      <th>title</th>\n",
       "      <th>parsed_desc</th>\n",
       "    </tr>\n",
       "  </thead>\n",
       "  <tbody>\n",
       "    <tr>\n",
       "      <th>0</th>\n",
       "      <td>0</td>\n",
       "      <td>b\"&lt;div&gt;&lt;div&gt;Job Requirements:&lt;/div&gt;&lt;ul&gt;&lt;li&gt;&lt;p&gt;...</td>\n",
       "      <td>Data scientist</td>\n",
       "      <td>Job Requirements:\\nConceptual understanding in...</td>\n",
       "    </tr>\n",
       "    <tr>\n",
       "      <th>1</th>\n",
       "      <td>1</td>\n",
       "      <td>b'&lt;div&gt;Job Description&lt;br/&gt;\\n&lt;br/&gt;\\n&lt;p&gt;As a Da...</td>\n",
       "      <td>Data Scientist I</td>\n",
       "      <td>Job Description\\n\\nAs a Data Scientist 1, you ...</td>\n",
       "    </tr>\n",
       "    <tr>\n",
       "      <th>2</th>\n",
       "      <td>2</td>\n",
       "      <td>b'&lt;div&gt;&lt;p&gt;As a Data Scientist you will be work...</td>\n",
       "      <td>Data Scientist - Entry Level</td>\n",
       "      <td>As a Data Scientist you will be working on con...</td>\n",
       "    </tr>\n",
       "    <tr>\n",
       "      <th>3</th>\n",
       "      <td>3</td>\n",
       "      <td>b'&lt;div class=\"jobsearch-JobMetadataHeader icl-...</td>\n",
       "      <td>Data Scientist</td>\n",
       "      <td>$4,969 - $6,756 a monthContractUnder the gener...</td>\n",
       "    </tr>\n",
       "    <tr>\n",
       "      <th>4</th>\n",
       "      <td>4</td>\n",
       "      <td>b'&lt;ul&gt;&lt;li&gt;Location: USA \\xe2\\x80\\x93 multiple ...</td>\n",
       "      <td>Data Scientist</td>\n",
       "      <td>Location: USA \\xe2\\x80\\x93 multiple locations\\...</td>\n",
       "    </tr>\n",
       "  </tbody>\n",
       "</table>\n",
       "</div>"
      ],
      "text/plain": [
       "   Unnamed: 0                                        description  \\\n",
       "0           0  b\"<div><div>Job Requirements:</div><ul><li><p>...   \n",
       "1           1  b'<div>Job Description<br/>\\n<br/>\\n<p>As a Da...   \n",
       "2           2  b'<div><p>As a Data Scientist you will be work...   \n",
       "3           3  b'<div class=\"jobsearch-JobMetadataHeader icl-...   \n",
       "4           4  b'<ul><li>Location: USA \\xe2\\x80\\x93 multiple ...   \n",
       "\n",
       "                          title  \\\n",
       "0               Data scientist    \n",
       "1              Data Scientist I   \n",
       "2  Data Scientist - Entry Level   \n",
       "3                Data Scientist   \n",
       "4                Data Scientist   \n",
       "\n",
       "                                         parsed_desc  \n",
       "0  Job Requirements:\\nConceptual understanding in...  \n",
       "1  Job Description\\n\\nAs a Data Scientist 1, you ...  \n",
       "2  As a Data Scientist you will be working on con...  \n",
       "3  $4,969 - $6,756 a monthContractUnder the gener...  \n",
       "4  Location: USA \\xe2\\x80\\x93 multiple locations\\...  "
      ]
     },
     "execution_count": 7,
     "metadata": {},
     "output_type": "execute_result"
    }
   ],
   "source": [
    "df.head()"
   ]
  },
  {
   "cell_type": "code",
   "execution_count": 8,
   "metadata": {},
   "outputs": [],
   "source": [
    "df['parsed_desc'] = df['parsed_desc'].str.replace(\"\\\\\", \" \").str.replace(\" n \", \"\")"
   ]
  },
  {
   "cell_type": "code",
   "execution_count": 9,
   "metadata": {},
   "outputs": [
    {
     "data": {
      "text/html": [
       "<div>\n",
       "<style scoped>\n",
       "    .dataframe tbody tr th:only-of-type {\n",
       "        vertical-align: middle;\n",
       "    }\n",
       "\n",
       "    .dataframe tbody tr th {\n",
       "        vertical-align: top;\n",
       "    }\n",
       "\n",
       "    .dataframe thead th {\n",
       "        text-align: right;\n",
       "    }\n",
       "</style>\n",
       "<table border=\"1\" class=\"dataframe\">\n",
       "  <thead>\n",
       "    <tr style=\"text-align: right;\">\n",
       "      <th></th>\n",
       "      <th>Unnamed: 0</th>\n",
       "      <th>description</th>\n",
       "      <th>title</th>\n",
       "      <th>parsed_desc</th>\n",
       "    </tr>\n",
       "  </thead>\n",
       "  <tbody>\n",
       "    <tr>\n",
       "      <th>0</th>\n",
       "      <td>0</td>\n",
       "      <td>b\"&lt;div&gt;&lt;div&gt;Job Requirements:&lt;/div&gt;&lt;ul&gt;&lt;li&gt;&lt;p&gt;...</td>\n",
       "      <td>Data scientist</td>\n",
       "      <td>Job Requirements: nConceptual understanding in...</td>\n",
       "    </tr>\n",
       "    <tr>\n",
       "      <th>1</th>\n",
       "      <td>1</td>\n",
       "      <td>b'&lt;div&gt;Job Description&lt;br/&gt;\\n&lt;br/&gt;\\n&lt;p&gt;As a Da...</td>\n",
       "      <td>Data Scientist I</td>\n",
       "      <td>Job DescriptionnAs a Data Scientist 1, you wil...</td>\n",
       "    </tr>\n",
       "    <tr>\n",
       "      <th>2</th>\n",
       "      <td>2</td>\n",
       "      <td>b'&lt;div&gt;&lt;p&gt;As a Data Scientist you will be work...</td>\n",
       "      <td>Data Scientist - Entry Level</td>\n",
       "      <td>As a Data Scientist you will be working on con...</td>\n",
       "    </tr>\n",
       "    <tr>\n",
       "      <th>3</th>\n",
       "      <td>3</td>\n",
       "      <td>b'&lt;div class=\"jobsearch-JobMetadataHeader icl-...</td>\n",
       "      <td>Data Scientist</td>\n",
       "      <td>$4,969 - $6,756 a monthContractUnder the gener...</td>\n",
       "    </tr>\n",
       "    <tr>\n",
       "      <th>4</th>\n",
       "      <td>4</td>\n",
       "      <td>b'&lt;ul&gt;&lt;li&gt;Location: USA \\xe2\\x80\\x93 multiple ...</td>\n",
       "      <td>Data Scientist</td>\n",
       "      <td>Location: USA  xe2 x80 x93 multiple locations ...</td>\n",
       "    </tr>\n",
       "  </tbody>\n",
       "</table>\n",
       "</div>"
      ],
      "text/plain": [
       "   Unnamed: 0                                        description  \\\n",
       "0           0  b\"<div><div>Job Requirements:</div><ul><li><p>...   \n",
       "1           1  b'<div>Job Description<br/>\\n<br/>\\n<p>As a Da...   \n",
       "2           2  b'<div><p>As a Data Scientist you will be work...   \n",
       "3           3  b'<div class=\"jobsearch-JobMetadataHeader icl-...   \n",
       "4           4  b'<ul><li>Location: USA \\xe2\\x80\\x93 multiple ...   \n",
       "\n",
       "                          title  \\\n",
       "0               Data scientist    \n",
       "1              Data Scientist I   \n",
       "2  Data Scientist - Entry Level   \n",
       "3                Data Scientist   \n",
       "4                Data Scientist   \n",
       "\n",
       "                                         parsed_desc  \n",
       "0  Job Requirements: nConceptual understanding in...  \n",
       "1  Job DescriptionnAs a Data Scientist 1, you wil...  \n",
       "2  As a Data Scientist you will be working on con...  \n",
       "3  $4,969 - $6,756 a monthContractUnder the gener...  \n",
       "4  Location: USA  xe2 x80 x93 multiple locations ...  "
      ]
     },
     "execution_count": 9,
     "metadata": {},
     "output_type": "execute_result"
    }
   ],
   "source": [
    "df.head()"
   ]
  },
  {
   "cell_type": "code",
   "execution_count": null,
   "metadata": {},
   "outputs": [],
   "source": []
  },
  {
   "cell_type": "markdown",
   "metadata": {
    "colab_type": "text",
    "id": "5C4xFZNtX1m2"
   },
   "source": [
    "## 2) Use Spacy to tokenize the listings "
   ]
  },
  {
   "cell_type": "code",
   "execution_count": 10,
   "metadata": {
    "colab": {},
    "colab_type": "code",
    "id": "dhUHuMr-X-II"
   },
   "outputs": [],
   "source": [
    "##### Your Code Here #####\n",
    "def tokenize(text):\n",
    "    \"\"\"Parses a string into a list of semantic units (words)\n",
    "\n",
    "    Args:\n",
    "        text (str): The string that the function will tokenize.\n",
    "\n",
    "    Returns:\n",
    "        list: tokens parsed out by the mechanics of your choice\n",
    "    \"\"\"\n",
    "    \n",
    "    tokens = re.sub(r'[^a-zA-Z ^0-9]', '', text)\n",
    "    tokens = tokens.lower().split()\n",
    "    \n",
    "    return tokens \n",
    "\n",
    "#raise Exception(\"\\nThis task is not complete. \\nReplace this line with your code for the task.\""
   ]
  },
  {
   "cell_type": "code",
   "execution_count": 11,
   "metadata": {},
   "outputs": [],
   "source": [
    "#import base\n",
    "from collections import Counter\n",
    "import re\n",
    "import matplotlib.pyplot as plt\n",
    "import seaborn as sns\n",
    "\n",
    "#NLP libraries\n",
    "import spacy\n",
    "from spacy.tokenizer import Tokenizer\n",
    "\n",
    "\n",
    "nlp = spacy.load(\"en_core_web_lg\")\n"
   ]
  },
  {
   "cell_type": "code",
   "execution_count": 12,
   "metadata": {},
   "outputs": [],
   "source": [
    "df['tokens'] = df['parsed_desc'].apply(tokenize)"
   ]
  },
  {
   "cell_type": "code",
   "execution_count": 13,
   "metadata": {},
   "outputs": [
    {
     "data": {
      "text/plain": [
       "0    [job, requirements, nconceptual, understanding...\n",
       "1    [job, descriptionnas, a, data, scientist, 1, y...\n",
       "2    [as, a, data, scientist, you, will, be, workin...\n",
       "3    [4969, 6756, a, monthcontractunder, the, gener...\n",
       "4    [location, usa, xe2, x80, x93, multiple, locat...\n",
       "Name: tokens, dtype: object"
      ]
     },
     "execution_count": 13,
     "metadata": {},
     "output_type": "execute_result"
    }
   ],
   "source": [
    "df['tokens'].head()"
   ]
  },
  {
   "cell_type": "code",
   "execution_count": null,
   "metadata": {},
   "outputs": [],
   "source": []
  },
  {
   "cell_type": "code",
   "execution_count": null,
   "metadata": {},
   "outputs": [],
   "source": []
  },
  {
   "cell_type": "markdown",
   "metadata": {
    "colab_type": "text",
    "id": "-lgCZNL_YycP"
   },
   "source": [
    "## 3) Use Scikit-Learn's CountVectorizer to get word counts for each listing."
   ]
  },
  {
   "cell_type": "code",
   "execution_count": 14,
   "metadata": {
    "colab": {},
    "colab_type": "code",
    "id": "X2PZ8Pj_YxcF"
   },
   "outputs": [
    {
     "data": {
      "text/plain": [
       "CountVectorizer(analyzer='word', binary=False, decode_error='strict',\n",
       "                dtype=<class 'numpy.int64'>, encoding='utf-8', input='content',\n",
       "                lowercase=True, max_df=1.0, max_features=None, min_df=1,\n",
       "                ngram_range=(1, 1), preprocessor=None, stop_words='english',\n",
       "                strip_accents=None, token_pattern='(?u)\\\\b\\\\w\\\\w+\\\\b',\n",
       "                tokenizer=None, vocabulary=None)"
      ]
     },
     "execution_count": 14,
     "metadata": {},
     "output_type": "execute_result"
    }
   ],
   "source": [
    "##### Your Code Here #####\n",
    "\n",
    "\n",
    "from sklearn.feature_extraction.text import CountVectorizer, TfidfVectorizer\n",
    "\n",
    "vect = CountVectorizer(stop_words = 'english')\n",
    "\n",
    "vect.fit(df['parsed_desc'])\n",
    "\n",
    "#raise Exception(\"\\nThis task is not complete. \\nReplace this line with your code for the task.\""
   ]
  },
  {
   "cell_type": "code",
   "execution_count": 15,
   "metadata": {},
   "outputs": [],
   "source": [
    "dtm = vect.transform(df['parsed_desc'])"
   ]
  },
  {
   "cell_type": "code",
   "execution_count": 16,
   "metadata": {},
   "outputs": [
    {
     "data": {
      "text/plain": [
       "numpy.matrix"
      ]
     },
     "execution_count": 16,
     "metadata": {},
     "output_type": "execute_result"
    }
   ],
   "source": [
    "type(dtm.todense())"
   ]
  },
  {
   "cell_type": "code",
   "execution_count": 17,
   "metadata": {},
   "outputs": [
    {
     "name": "stdout",
     "output_type": "stream",
     "text": [
      "['00', '000', '000npay', '02115', '03', '0356', '04', '062', '06366', '08', '0ndeep', '10', '100', '1000', '1001', '1008', '100k', '100x', '105', '1079302nwho', '1082692', '10b', '10ms', '10x', '11', '110k', '112', '114157802', '12', '120', '125', '126', '130', '1315', '1324b', '138', '14', '140', '15', '150', '15000', '159m', '16', '1605', '165', '169334brnjob', '17', '170', '17b', '18', '180', '180008jqnzurich', '18b', '19', '190', '190007jin', '19000bn4n', '19000c1kn', '19004162', '1901744', '1904', '1904labs', '1905', '19050', '1938', '1944', '1967', '1971', '1975', '1979', '1988', '199', '1994', '1999', '1b', '1st', '1strategy', '1tb', '20', '200', '2000', '200020183', '200041695', '2004', '2008', '2011', '2012', '2013', '2014', '2015', '2016', '2017', '2018', '2019', '2019nposition', '2020', '2050', '20nflsa', '21', '210', '2145', '2272', '24', '24m', '25', '250', '25256', '26', '260', '27', '28', '2nd', '2x', '30', '300', '30328', '30bn', '30k', '31', '317', '320', '3201', '3201nabout', '33', '33051', '338', '35', '350', '3535', '35million', '36', '360', '365', '374', '37m', '380', '3d', '3rd', '3x', '40', '400', '401', '401k', '408', '4111', '42', '43', '447618', '45', '450', '45040', '457', '461', '47069nwe', '485', '49', '4901', '4919', '4g', '4th', '50', '500', '5000', '500tm', '503', '510', '52799', '540', '55', '57', '579', '58', '59', '5g', '5m', '5pm', '60', '600', '60606', '613', '62', '66', '67', '6890', '695', '70', '700', '72', '725', '734', '75', '755', '756', '771', '78', '7901', '80', '800', '80bn', '82', '83', '832', '844', '85', '85034', '866', '877', '8954', '8954njob', '90', '900', '907', '908', '920', '9226', '93', '941', '95', '95035', '968', '969', '96m', '98', '9966', '9am', 'aa', 'aap', 'ab', 'ab1', 'ab1nminimum', 'abernathy', 'abilities', 'abilitiesninterpersonal', 'ability', 'able', 'abounds', 'abroad', 'absence', 'absolutely', 'absorbing', 'abstract', 'abstracting', 'abstraction', 'abstractions', 'abstractly', 'abundant', 'abuse', 'academia', 'academic', 'academics', 'academies', 'accelerate', 'accelerates', 'accelerating', 'acceleration', 'accelerator', 'accelerometer', 'accept', 'acceptable', 'acceptance', 'accepted', 'accepting', 'access', 'accessibility', 'accessible', 'accessing', 'accidental', 'accolade', 'accolades', 'accommodate', 'accommodating', 'accommodation', 'accommodations', 'accomplish', 'accomplished', 'accomplishment', 'accomplishmentnlocationnthis', 'accomplishments', 'accordance', 'according', 'account', 'accountability', 'accountable', 'accountants', 'accounting', 'accounts', 'accredited', 'accruals', 'accuracy', 'accurate', 'accurately', 'achieve', 'achieved', 'achievement', 'achievements', 'achievenboth', 'achievers', 'achieves', 'achieving', 'acknowledge', 'acl', 'acquire', 'acquired', 'acquiring', 'acquisition', 'acquisitions', 'acres', 'act', 'acted', 'acting', 'action', 'actionable', 'actions', 'activate', 'activation', 'active', 'actively', 'activities', 'activity', 'actors', 'acts', 'actual', 'actually', 'actuarial', 'actuary', 'acuity', 'acumen', 'acute', 'ad', 'adam', 'adapt', 'adaptability', 'adaptable', 'adaptations', 'adapting', 'adaption', 'adaptive', 'add', 'added', 'adding', 'addition', 'additional', 'additionally', 'additive', 'additives', 'address', 'addressed', 'addresses', 'addressing', 'adds', 'addthis', 'adept', 'adhere', 'adherence', 'adhering', 'adhoc', 'adjacent', 'adjudicates', 'adjust', 'adjusted', 'adjustments', 'admin', 'administration', 'administrationnpreferred', 'administrative', 'administrators', 'admired', 'admission', 'admitting', 'adobe', 'adopt', 'adopting', 'adoption', 'ads', 'adtech', 'advance', 'advanced', 'advancednpeople', 'advancement', 'advancements', 'advancementsn', 'advancementwe', 'advances', 'advancing', 'advantage', 'advantagenalternate', 'advantages', 'adventures', 'adversarial', 'advertisement', 'advertiser', 'advertisers', 'advertising', 'advertisingn', 'advice', 'advise', 'advisement', 'advisor', 'advisors', 'advisory', 'advocacy', 'advocate', 'advocates', 'advocating', 'adwords', 'aerial', 'aerospace', 'aetna', 'aetnas', 'afb', 'affairs', 'affect', 'affected', 'affecting', 'affectional', 'affects', 'affiliate', 'affiliates', 'affiliation', 'affinity', 'affirm', 'affirmative', 'afford', 'affordability', 'affordable', 'afni', 'afraid', 'age', 'agencies', 'agency', 'agenda', 'agent', 'agents', 'aggregate', 'aggregated', 'aggregating', 'aggregation', 'aggressive', 'aggressively', 'agile', 'agility', 'ago', 'agree', 'agreed', 'agreement', 'agricultural', 'agronomic', 'agronomy', 'ah1', 'ahead', 'ai', 'aid', 'aide', 'aiding', 'aids', 'aim', 'aimbridge', 'aimed', 'aiming', 'aims', 'air', 'airbnb', 'aircraft', 'airflow', 'airline', 'akraya', 'al', 'album', 'albuquerque', 'alcohol', 'alelo', 'alerting', 'alerts', 'alertsunderstanding', 'alex', 'alexa', 'algebra', 'algorithm', 'algorithmic', 'algorithms', 'algorithmsnrequired', 'alice', 'alienage', 'align', 'aligned', 'aligning', 'alignment', 'alignmentexperience', 'alike', 'alive', 'allazoengine', 'allazoenginenbuild', 'allazohealth', 'allegiance', 'allen', 'allennlp', 'allentown', 'alliance', 'allianz', 'allocates', 'allocation', 'allow', 'allowance', 'allowed', 'allowing', 'allows', 'alongside', 'alpha', 'alpharetta', 'altair', 'altering', 'alternate', 'alternately', 'alternating', 'alternative', 'alternatives', 'alteryx', 'alteryxexperience', 'alto', 'amazing', 'amazon', 'ambassador', 'ambiguity', 'ambiguityncreative', 'ambiguous', 'ambiguously', 'ambition', 'ambitions', 'ambitious', 'amenities', 'america', 'american', 'americans', 'americas', 'amex', 'aml', 'amnesty', 'amnpreferred', 'amounts', 'amp', 'ampl', 'ample', 'amplion', 'amusement', 'anaheim', 'analyse', 'analyses', 'analysesnconduct', 'analysing', 'analysis', 'analysisat', 'analysisexperience', 'analysisnpreferred', 'analysisrunning', 'analysisuses', 'analysisxc2', 'analyst', 'analysts', 'analytic', 'analytical', 'analytically', 'analytics', 'analyticsidentifying', 'analyticsneo', 'analyticsnoracle', 'analyticso', 'analytos', 'analyze', 'analyzed', 'analyzes', 'analyzing', 'ancestry', 'anchor', 'ancillary', 'andnculture', 'andndata', 'andnproductsncollaborating', 'andover', 'andpython', 'andrew', 'android', 'angeles', 'angles', 'angrist', 'angular', 'anna', 'annapolis', 'annotate', 'annotates', 'annotating', 'annotation', 'announced', 'announcements', 'annual', 'annually', 'anomalies', 'anomaly', 'anonymization', 'anonymous', 'anonymously', 'anova', 'anpreferred', 'answer', 'answered', 'answering', 'answers', 'anti', 'anticipate', 'anticipated', 'anticipates', 'anticipating', 'antimalware', 'antonio', 'anum', 'anxious', 'anylogic', 'ap', 'apac', 'apache', 'apart', 'apex', 'api', 'apinrequirements', 'apis', 'app', 'apparel', 'appealing', 'appear', 'appended', 'apple', 'applicability', 'applicable', 'applicablenjob', 'applicant', 'applicants', 'application', 'applications', 'applicationsdrive', 'applicationsstrong', 'applied', 'applies', 'apply', 'applying', 'applynif', 'applynour', 'applynplease', 'appointed', 'appointment', 'appreciate', 'appreciates', 'appreciation', 'apprised', 'approach', 'approachability', 'approachable', 'approaches', 'approachesnrequired', 'approacheswork', 'approaching', 'appropriate', 'appropriately', 'appropriatenrequired', 'approval', 'approve', 'approved', 'approximately', 'approximating', 'approximation', 'apps', 'appzen', 'april', 'apriori', 'aptible', 'aptitude', 'ar', 'arbor', 'arcade', 'arcgis', 'architect', 'architecting', 'architects', 'architectural', 'architecture', 'architecturenbenefits', 'architectures', 'architecturesnatural', 'area', 'areantechnical', 'areas', 'aren', 'aren4', 'arenanalytical', 'arenat', 'arenhere', 'arenwe', 'arise', 'arises', 'arizona', 'arl', 'arlington', 'arm', 'armour', 'arms', 'army', 'arrange', 'arrangements', 'array', 'arrest', 'arrive', 'art', 'arthur', 'arthurlawrence', 'article', 'articles', 'articulate', 'articulating', 'artifacts', 'artificial', 'artist', 'artists', 'asap', 'ascensus', 'asia', 'ask', 'asked', 'asking', 'aspect', 'aspects', 'aspirational', 'aspirations', 'aspire', 'aspires', 'aspiring', 'assault', 'assemble', 'assembled', 'assembly', 'assess', 'assesses', 'assessing', 'assessment', 'assessments', 'asset', 'assets', 'assigned', 'assigning', 'assignment', 'assignments', 'assimilation', 'assist', 'assistance', 'assistancewe', 'assistants', 'assisted', 'assisting', 'assistn', 'assists', 'associate', 'associated', 'associates', 'associatesnyou', 'association', 'assortment', 'assume', 'assuming', 'assumption', 'assumptions', 'assurance', 'assure', 'assured', 'asynchronous', 'athena', 'athlete', 'athletes', 'athletics', 'atlanta', 'atlantic', 'atlassian', 'atmosphere', 'atomic', 'atos', 'atrium', 'attach', 'attached', 'attack', 'attacking', 'attacks', 'attained', 'attempt', 'attend', 'attendance', 'attendees', 'attending', 'attention', 'attitude', 'attitudenour', 'attitudenwe', 'attitudeproven', 'attitudinal', 'attn', 'attorneys', 'attract', 'attracting', 'attractions', 'attracts', 'attributes', 'attribution', 'attrition', 'atwww', 'au', 'auburn', 'auctions', 'audience', 'audiencen', 'audiencenbonus', 'audiencencompany', 'audiences', 'audiencesnwhere', 'audiencexc2', 'audio', 'audit', 'auditing', 'augment', 'augmentation', 'augmented', 'augmenting', 'august', 'aurora', 'austin', 'australia', 'authentic', 'author', 'authoring', 'authoritative', 'authorities', 'authority', 'authorization', 'authorizations', 'authorized', 'autism', 'auto', 'autodesk', 'autodeskinterns', 'automate', 'automated', 'automates', 'automatic', 'automatically', 'automating', 'automation', 'automobiles', 'automotive', 'autonomous', 'autonomously', 'autonomy', 'availability', 'available', 'avanade', 'avenues', 'average', 'averagenabout', 'avidly', 'avidxchange', 'avoid', 'avp', 'avro', 'award', 'awarded', 'awards', 'aware', 'awarendetailed', 'awareness', 'away', 'aways', 'awe', 'awesome', 'aws', 'awsnlocation', 'axians', 'axiologic', 'az', 'azkaban', 'azure', 'azureml', 'b2b', 'b2c', 'ba', 'baby', 'babylist', 'bachelor', 'bachelors', 'backbone', 'backed', 'backend', 'background', 'backgroundnperks', 'backgrounds', 'backgroundsnkey', 'backing', 'backup', 'backwards', 'bacteria', 'bacterial', 'bad', 'bagged', 'bagging', 'bain', 'bake', 'bakery', 'balance', 'balancing', 'band', 'bandits', 'bangalore', 'bank', 'banking', 'banks', 'banners', 'bar', 'barriers', 'bart', 'base', 'baseball', 'based', 'baseline', 'baselines', 'bases', 'bash', 'basic', 'basically', 'basics', 'basis', 'basketball', 'baskets', 'bat', 'batch', 'batches', 'battery', 'battle', 'bay', 'bayes', 'bayesian', 'bayesxc2', 'baytown', 'bcbs', 'bcbsaz', 'bda', 'beach', 'bear', 'beats', 'beautiful', 'beauty', 'beaverton', 'bed', 'bedrock', 'began', 'begets', 'begin', 'beginning', 'beginnings', 'behalf', 'behave', 'behavior', 'behavioral', 'behaviors', 'behaviour', 'behaviours', 'beijing', 'beings', 'belief', 'beliefs', 'believe', 'believes', 'bell', 'bellevue', 'belonging', 'benchmark', 'benchmarking', 'benchmarks', 'beneficial', 'benefit', 'benefits', 'berkley', 'berlin', 'berman', 'best', 'bet', 'bethlehem', 'bets', 'better', 'betternexperience', 'beverage', 'bf1', 'bi', 'bias', 'biases', 'bicycles', 'bidding', 'bids', 'big', 'bigdata', 'biggest', 'bigquery', 'bike', 'billing', 'billion', 'billions', 'bing', 'bioequivalence', 'bioinformatic', 'bioinformaticians', 'bioinformatics', 'biological', 'biologists', 'biology', 'biomedical', 'biophysical', 'biorxiv', 'bios', 'bioscience', 'biostatistical', 'biostatisticians', 'biostatistics', 'birthday', 'bis', 'bisexual', 'bit', 'bits', 'bitter', 'biz', 'biztalk', 'black', 'blacklists', 'blacksky', 'blast', 'bleeding', 'blend', 'blended', 'blending', 'blends', 'blistering', 'block', 'blockchain', 'blockchains', 'blockers', 'blog', 'blogs', 'bloomington', 'bloomnet', 'blow', 'blowouts', 'blue', 'bluekai', 'bluemix', 'blues', 'blueshift', 'bluevine', 'bluntly', 'blurt', 'bmw', 'board', 'boarding', 'boca', 'body', 'bold', 'boldly', 'bolster', 'bonding', 'bonus', 'bonuses', 'book', 'booking', 'bookings', 'booknwe', 'books', 'booming', 'boost', 'boosted', 'boosting', 'boot', 'bootcamps', 'bootstrapping', 'booz', 'borders', 'boston', 'bot', 'botnets', 'bottle', 'bottomlinenrequirements', 'bound', 'boundaries', 'boundariesn', 'bounded', 'bounds', 'bowery', 'bowl', 'bowling', 'box', 'boxes', 'bpo', 'brains', 'brainstorm', 'brainstorming', 'branch', 'branches', 'branching', 'brand', 'branded', 'brands', 'brass', 'breadth', 'break', 'breakdown', 'breakfast', 'breaking', 'breakroom', 'breakthrough', 'breakthroughs', 'breastfeeding', 'breath', 'breeze', 'brentwood', 'brick', 'bridge', 'bridges', 'bridging', 'briefings', 'brigham', 'bright', 'brighter', 'brightest', 'brilliant', 'bring', 'bringing', 'brings', 'broad', 'broadband', 'broader', 'broadly', 'broadway', 'broken', 'brokerage', 'brokers', 'broomfield', 'brothers', 'brought', 'browse', 'browser', 'browses', 'bruno', 'bs', 'bsnjob', 'bu', 'buck', 'budd', 'buddy', 'budget', 'budgeting', 'budgets', 'buffalo', 'bug', 'bugs', 'build', 'builder', 'builders', 'building', 'buildings', 'builds', 'built', 'bulgaria', 'bulk', 'bull', 'burden', 'bureau', 'burns', 'burr', 'bus', 'business', 'businesscoordinate', 'businesses', 'businessexperience', 'businessnopportunity', 'businesswe', 'bustling', 'butterflies', 'button', 'buy', 'buyers', 'buying', 'buys', 'buzzwords', 'bwh', 'byers', 'c3', 'ca', 'caas', 'cable', 'cac', 'caci', 'cadence', 'cafe', 'cafeteria', 'cafeterias', 'caffe', 'caffe2', 'caffeine', 'caj', 'calabasas', 'calculated', 'calculates', 'calculations', 'calculus', 'calendar', 'calendars', 'caliber', 'calibrating', 'calibration', 'california', 'californian', 'called', 'calls', 'calmhsa', 'caltech', 'caltrain', 'cambia', 'cambridge', 'came', 'camp', 'campaign', 'campaigns', 'camps', 'campus', 'campuses', 'campusnshift', 'canabout', 'canada', 'canal', 'cancelling', 'cancer', 'candata', 'candidacy', 'candidate', 'candidates', 'candy', 'canon', 'canonusa', 'canopy', 'capabilities', 'capabilitiesnnequal', 'capability', 'capable', 'capacity', 'capgemini', 'capgeminina', 'capital', 'capitalist', 'capitalizing', 'capture', 'captured', 'captures', 'car', 'carbon', 'card', 'care', 'career', 'careers', 'careful', 'carefully', 'caregiver', 'caregivers', 'cares', 'caribbean', 'caring', 'carlo', 'carolina', 'carolinas', 'carpool', 'carpooling', 'carrentals', 'carried', 'carrier', 'carries', 'carry', 'carrying', 'cars', 'cart', 'carve', 'casandra', 'case', 'cases', 'casesexperience', 'cash', 'casino', 'cassandra', 'cassandraknowledge', 'castillo', 'casual', 'casualty', 'catalog', 'catalyst', 'catalyze', 'catastrophe', 'catastrophic', 'catch', 'categories', 'categoriesnresponsibilities', 'categorize', 'category', 'catered', 'caufield', 'causal', 'causality', 'cause', 'caused', 'causes', 'caveats', 'cbs', 'cco', 'ccoteam', 'ccs', 'cd', 'cdasnmicrosoft', 'cdc', 'cdisc', 'cdl', 'cela', 'celebrate', 'celebrated', 'celebrates', 'celebrating', 'celebrations', 'celebratory', 'cell', 'cellphone', 'censored', 'census', 'center', 'centered', 'centering', 'centerpiece', 'centers', 'central', 'centralized', 'centrally', 'centric', 'centuries', 'century', 'ceo', 'cerner', 'certain', 'certainly', 'certainty', 'certificates', 'certification', 'certifications', 'certified', 'cfa', 'cfds', 'cfdss', 'cfo', 'cfos', 'cgi', 'chaid', 'chain', 'chains', 'chairman', 'challenge', 'challenged', 'challenger', 'challenges', 'challenging', 'chalupa', 'champion', 'championing', 'champions', 'chan', 'chance', 'change', 'changed', 'changes', 'changesnthe', 'changing', 'channel', 'channels', 'chantilly', 'chapel', 'character', 'characteristic', 'characteristics', 'characteristicsn', 'characterization', 'characterize', 'charge', 'chargeback', 'charity', 'charles', 'charleston', 'charlotte', 'chart', 'charter', 'chartered', 'charts', 'chase', 'chat', 'chatbot', 'chatbots', 'chatting', 'cheap', 'cheapflights', 'cheaptickets', 'check', 'checkfelix', 'checking', 'checklist', 'checks', 'chemical', 'chemicals', 'chemistry', 'chemometric', 'chen', 'cheryl', 'chesapeake', 'chewse', 'chicago', 'chicagoneducation', 'chicagonhcsc', 'chief', 'chiefs', 'child', 'childbirth', 'children', 'china', 'chinese', 'chip', 'chipotle', 'chipp', 'chocolatesm', 'choice', 'choices', 'choose', 'choosing', 'chops', 'chosen', 'christofaris', 'chrome', 'chronic', 'chrysler', 'chs', 'chuck', 'churn', 'ci', 'cia', 'cic', 'cino', 'cio', 'circa', 'circadian', 'circle', 'circleci', 'circleup', 'circumstances', 'cisco', 'citi', 'cities', 'citizen', 'citizens', 'citizenship', 'citizenshipndeloitte', 'city', 'citynallazohealth', 'citynschedule', 'civil', 'civilian', 'civis', 'civisanalytics', 'cjpost', 'claims', 'clara', 'clarification', 'clarify', 'clarity', 'claritynabout', 'clarivate', 'clarkston', 'class', 'classdojo', 'classdojonclassdojo', 'classes', 'classic', 'classical', 'classically', 'classics', 'classification', 'classifications', 'classified', 'classifier', 'classifiers', 'clayton', 'clean', 'cleanchoice', 'cleanchoiceenergy', 'cleaner', 'cleaning', 'cleanse', 'cleansing', 'clear', 'clearance', 'clearances', 'cleared', 'clearer', 'clearly', 'clearnlp', 'cleartk', 'clearwater', 'click', 'clicking', 'clickstream', 'client', 'clients', 'clientsevaluating', 'clientsshare', 'climate', 'climb', 'clinic', 'clinical', 'clinically', 'clinicaltrials', 'clinicians', 'clinton', 'close', 'closed', 'closely', 'closer', 'closing', 'closure', 'cloth', 'cloud', 'cloudera', 'cloudnrequired', 'club', 'cluster', 'clustering', 'clusteroptimizing', 'clusters', 'cmg', 'cnn', 'cnns', 'cntk', 'coach', 'coaching', 'code', 'codebase', 'codenabout', 'coder', 'coders0057', 'codes', 'coding', 'coe', 'coffee', 'cognitive', 'cognitivenin', 'cognos', 'coherent', 'cohesive', 'cohort', 'cohorts', 'cold', 'collaborate', 'collaborates', 'collaborating', 'collaboration', 'collaborations', 'collaborative', 'collaboratively', 'collaborator', 'collaborators', 'colleague', 'colleagues', 'collect', 'collected', 'collecting', 'collection', 'collections', 'collective', 'collectively', 'collects', 'college', 'collegial', 'collisions', 'color', 'colorado', 'colors', 'colour', 'columbia', 'columns', 'com', 'combating', 'combination', 'combinations', 'combinator', 'combinatorics', 'combine', 'combined', 'combines', 'combining', 'come', 'comedy', 'comes', 'comet', 'comfort', 'comfortable', 'comfortably', 'comfy', 'coming', 'comma', 'command', 'commander', 'commands', 'commence', 'commensurate', 'comments', 'commerce', 'commercial', 'commercializable', 'commercialization', 'commercially', 'commercialnten', 'commissionat', 'commissions', 'commit', 'commitment', 'commitments', 'commits', 'committed', 'committee', 'committing', 'commodities', 'commodity', 'common', 'commonly', 'commonplace', 'communal', 'communicate', 'communicated', 'communicates', 'communicating', 'communication', 'communications', 'communicationsnrole', 'communicative', 'communicator', 'communities', 'communitiesdeploy', 'communitiesdevelop', 'communitiesnwhat', 'community', 'communitybe', 'communitynrequirements', 'commute', 'commuter', 'commuters', 'commvault', 'comnas', 'comneoe', 'comp', 'compact', 'companies', 'company', 'companyn', 'companyncivis', 'companyneyeview', 'companynprojectmanager', 'companynthe', 'companynwhat', 'companywide', 'comparable', 'compare', 'comparison', 'compassion', 'compelling', 'compensation', 'compensationnadaction', 'compete', 'competence', 'competences', 'competencies', 'competenciesn', 'competency', 'competent', 'competing', 'competition', 'competitions', 'competitive', 'competitiveness', 'competitor', 'compilation', 'compile', 'compiled', 'compiling', 'complaint', 'complete', 'completed', 'completely', 'completeness', 'completenessnshort', 'completes', 'completing', 'completion', 'complex', 'complexities', 'complexity', 'compliance', 'complicated', 'complied', 'complies', 'complimentary', 'complimented', 'comply', 'complying', 'component', 'components', 'composed', 'composite', 'comprehensive', 'comprise', 'comprised', 'comprises', 'comprising', 'compromise', 'compromises', 'computation', 'computational', 'compute', 'computer', 'computers', 'computing', 'conceive', 'conceiving', 'concentration', 'concept', 'conception', 'concepts', 'conceptshave', 'conceptualization', 'conceptualize', 'conceptualizing', 'conceptually', 'concern', 'concerned', 'concerning', 'concerns', 'concerts', 'concierge', 'concise', 'concisely', 'conciselynability', 'conclusions', 'concrete', 'concurrent', 'concurrently', 'condition', 'conditions', 'condo', 'conduct', 'conducted', 'conducting', 'conducts', 'conference', 'conferences', 'confidence', 'confident', 'confidential', 'confidentiality', 'confidentially', 'confidently', 'configuration', 'configure', 'configuring', 'confirm', 'conflict', 'conflicting', 'conflicts', 'confluence', 'conform', 'confront', 'conjunction', 'connect', 'connected', 'connecting', 'connection', 'connections', 'connectivity', 'connects', 'conscientious', 'consensus', 'consent', 'consequence', 'consequences', 'consequently', 'conservancy', 'conservation', 'conserve', 'conshohocken', 'consider', 'considerable', 'consideration', 'considerations', 'considered', 'considering', 'considers', 'consist', 'consistency', 'consistent', 'consistently', 'consisting', 'consists', 'consolidate', 'constant', 'constantly', 'constituents', 'constrained', 'constraint', 'constraints', 'construct', 'construction', 'constructive', 'constructs', 'construed', 'consult', 'consultancy', 'consultant', 'consultantn', 'consultants', 'consultation', 'consultations', 'consultative', 'consulting', 'consumable', 'consumed', 'consumer', 'consumers', 'consuming', 'consumption', 'contact', 'contacted', 'contacting', 'contacts', 'contain', 'contained', 'container', 'containerization', 'containers', 'contains', 'contamination', 'content', 'contents', 'context', 'contexts', 'contextual', 'contextualize', 'contingencies', 'contingent', 'continual', 'continually', 'continue', 'continued', 'continues', 'continuing', 'continuous', 'continuously', 'contract', 'contract1', 'contract6', 'contractakraya', 'contractdata', 'contractjob', 'contractor', 'contracts', 'contractthe', 'contractwe', 'contribute', 'contributed', 'contributes', 'contributing', 'contribution', 'contributions', 'contributor', 'contributors', 'control', 'controlled', 'controls', 'convenience', 'conveniences', 'convenient', 'convention', 'conventional', 'conventions', 'conversant', 'conversation', 'conversational', 'conversations', 'converse', 'conversely', 'conversion', 'conversions', 'convert', 'converting', 'convex', 'convey', 'convicted', 'conviction', 'convince', 'convnet', 'convolutional', 'coo', 'cooked', 'cookies', 'cool', 'cooperation', 'cooperatively', 'coordinate', 'coordinating', 'coordination', 'coordinators', 'copiers', 'copious', 'copy', 'cor', 'coral', 'cordell', 'core', 'coreference', 'coremetrics', 'corenlp', 'corner', 'corners', 'corp', 'corporate', 'corporation', 'corporations', 'corpus', 'correct', 'correction', 'corrective', 'correctly', 'correlate', 'correlation', 'correlations', 'corresponding', 'cosine', 'cosmos', 'cost', 'costa', 'costing', 'costs', 'couch', 'couchbase', 'couldn', 'council', 'counselors', 'count', 'counterintelligence', 'counterpart', 'counterparts', 'counting', 'countries', 'country', 'counts', 'courage', 'course', 'coursera', 'courses', 'coursework', 'court', 'courteous', 'cover', 'coverage', 'covered', 'covering', 'covers', 'coworkers', 'cpa', 'cpg', 'cplex', 'cr', 'crack', 'craft', 'crafted', 'crafting', 'craftsmanship', 'cranford', 'craves', 'crazy', 'cre', 'create', 'created', 'creates', 'creating', 'creation', 'creative', 'creatively', 'creativity', 'creators', 'credential', 'credentials', 'credibility', 'credible', 'credibly', 'credit', 'credits', 'creed', 'crf', 'crime', 'crimes', 'criminal', 'crimson', 'crisp', 'crisply', 'criteo', 'criteos', 'criteria', 'critical', 'critically', 'criticism', 'critics', 'crm', 'cro', 'cross', 'crosscut', 'crosshairs', 'crosswise', 'crouch', 'crucial', 'cruise', 'cruiseshipcenters', 'crunch', 'crunching', 'crux', 'crypto', 'cryptoanalysis', 'cryptoasset', 'cryptoassets', 'cryptocurrency', 'crystallizing', 'cs', 'csc', 'cseo', 'csim', 'css', 'cst', 'csv', 'ctakes', 'ctnnjob', 'cto', 'ctr', 'cubes', 'cuda', 'culling', 'cultivate', 'cultivating', 'cultivation', 'cultural', 'culturally', 'culture', 'culturenongoing', 'culturenour', 'cultures', 'cumbersome', 'cumulative', 'curate', 'curated', 'curation', 'curators', 'cure', 'cures', 'curiosity', 'curious', 'currencies', 'current', 'currently', 'curriculum', 'curve', 'curvencompany', 'cusa', 'cushman', 'custodian', 'custom', 'customary', 'customer', 'customers', 'customersdesign', 'customersn25', 'customersnresponsibilities', 'customersxc2', 'customize', 'customized', 'cut', 'cuts', 'cutting', 'cv', 'cvs', 'cyber', 'cyberattacks', 'cybersecurity', 'cyberthreat', 'cyberthreats', 'cycle', 'cycles', 'cyclical', 'czi', 'd3', 'daf', 'daily', 'dallas', 'dan', 'dana', 'dare', 'daring', 'dash', 'dashboard', 'dashboarding', 'dashboards', 'dashboardsnwhat', 'data', 'dataa', 'dataassemble', 'dataat', 'database', 'databases', 'databasesability', 'databricks', 'datacenter', 'datacollaborate', 'datadesigning', 'datadevelop', 'dataframes', 'dataiku', 'datalab', 'datalogix', 'datameer', 'dataminer', 'datandesired', 'datanwhat', 'dataops', 'dataoutstanding', 'datapossessing', 'dataproc', 'datarobot', 'dataset', 'datasets', 'datastrong', 'dataviz', 'dataxc2', 'dataxpander', 'date', 'dates', 'david', 'davis', 'day', 'daycare', 'daynabout', 'days', 'daysnat', 'daysnlanguages', 'db', 'db2', 'dba', 'dbscan', 'dc', 'ddi', 'deadline', 'deadlines', 'deal', 'dealer', 'dealing', 'deals', 'dearborn', 'death', 'debate', 'debug', 'debugging', 'dec', 'decade', 'decades', 'december', 'decentralized', 'decide', 'decided', 'deciding', 'decision', 'decisioning', 'decisions', 'decisionsnwhat', 'decisive', 'decks', 'decompose', 'decomposition', 'decreasing', 'dedicated', 'dedication', 'deductive', 'deemed', 'deep', 'deepen', 'deepening', 'deeper', 'deeply', 'default', 'defaulted', 'defaults', 'defender', 'defending', 'defense', 'defensible', 'defensive', 'defensiveness', 'deferred', 'deficiencies', 'define', 'defined', 'defines', 'defining', 'definition', 'definitions', 'definitive', 'degree', 'degreeability', 'degreedemonstrated', 'degreen', 'degreennice', 'degrees', 'delegating', 'delight', 'delightful', 'delimited', 'deliver', 'deliverable', 'deliverables', 'delivered', 'delivering', 'delivernresponsibilities', 'delivers', 'delivery', 'deliveryability', 'dell', 'deloitte', 'delve', 'demand', 'demanding', 'demands', 'demeanor', 'democratize', 'democratizing', 'demographic', 'demonstrable', 'demonstrate', 'demonstrated', 'demonstrates', 'demonstrating', 'demonstrations', 'demos', 'demystify', 'dental', 'dental401', 'denver', 'department', 'departmental', 'departments', 'depend', 'dependable', 'dependencies', 'dependenciesbuilding', 'dependency', 'dependent', 'dependents', 'depending', 'depends', 'deploy', 'deployable', 'deployed', 'deploying', 'deployment', 'deployments', 'deploys', 'deposit', 'depression', 'depth', 'derivation', 'derive', 'derived', 'deriving', 'descent', 'described', 'describes', 'describing', 'description', 'descriptionn5', 'descriptionnabout', 'descriptionnas', 'descriptionndata', 'descriptionndemonstrates', 'descriptionnoverview', 'descriptionntasks', 'descriptionntitle', 'descriptionntoomey', 'descriptionnwe', 'descriptions', 'descriptive', 'deserve', 'design', 'designated', 'designed', 'designer', 'designers', 'designing', 'designnlocation', 'designpac', 'designs', 'desirable', 'desire', 'desired', 'desk', 'desktop', 'desktops', 'destination', 'destinations', 'destiny', 'detaila', 'detailed', 'detailing', 'detailpassionate', 'details', 'detailsnfounded', 'detect', 'detecting', 'detection', 'detectionexperience', 'detectionnrequirementsn', 'detector', 'determination', 'determine', 'determines', 'determining', 'deterministic', 'detroit', 'develop', 'developed', 'developer', 'developers', 'developing', 'development', 'developmentexperience', 'developments', 'develops', 'device', 'devices', 'devise', 'devises', 'devolve', 'devops', 'devopsn', 'devoted', 'dexcom', 'dexterity', 'dhs', 'diabetes', 'diagnose', 'diagnosis', 'diagnostic', 'diagnostics', 'diagnosticsperforming', 'diagrams', 'dialog', 'dialogue', 'dictate', 'didn', 'die', 'diego', 'dies', 'diesel', 'diets', 'difference', 'differences', 'differencesnin', 'different', 'differentiate', 'differentiated', 'differentiation', 'differentiators', 'differently', 'differentnour', 'differing', 'difficult', 'difficulties', 'dig', 'digest', 'digestible', 'digital', 'digitalization', 'digitalocean', 'digitizing', 'dignity', 'dimension', 'dimensional', 'dimensionality', 'dimensions', 'dimly', 'diner', 'diners', 'dining', 'dinners', 'direct', 'directed', 'direction', 'directions', 'directly', 'director', 'directorate', 'directors', 'dirichlet', 'dirt', 'dirty', 'disabilities', 'disability', 'disability_accommodation', 'disabled', 'disadvantages', 'disambiguation', 'discharge', 'discharging', 'disciplinary', 'discipline', 'disciplined', 'disciplines', 'disciplining', 'disclose', 'disclosed', 'disclosure', 'disclosures', 'disco', 'disconnected', 'discount', 'discounting', 'discounts', 'discover', 'discovered', 'discoveries', 'discovering', 'discovery', 'discrete', 'discretion', 'discretionary', 'discriminant', 'discriminate', 'discriminated', 'discriminating', 'discrimination', 'discriminative', 'discriminatory', 'discuss', 'discussed', 'discussing', 'discussion', 'discussions', 'disease', 'diseases', 'dislike', 'disney', 'disorders', 'disparate', 'dispatch', 'dispatches', 'dispatching', 'display', 'displaying', 'displays', 'disposal', 'disposition', 'disprove', 'disqualified', 'disqualifying', 'disrupt', 'disrupted', 'disrupting', 'disruption', 'disruptive', 'dissemination', 'distance', 'distances', 'distill', 'distilled', 'distilling', 'distinction', 'distracted', 'distractions', 'distributed', 'distributes', 'distribution', 'distributional', 'distributions', 'distributor', 'dive', 'diverse', 'diversified', 'diversifying', 'diversity', 'dives', 'diving', 'division', 'divisions', 'django', 'dl', 'dli', 'dm', 'dmp', 'dms', 'dneducation', 'doc2vec', 'docker', 'docomo', 'docs', 'doctoral', 'document', 'documentation', 'documented', 'documenting', 'documents', 'dod', 'dodd', 'doers', 'does', 'doesn', 'doing', 'doingnuse', 'dol', 'dollar', 'dollars', 'domain', 'domains', 'domestic', 'domo', 'don', 'donanalyze', 'donbuild', 'dondevelop', 'donenundergraduate', 'donewe', 'donlead', 'donleverage', 'donpartner', 'donpush', 'door', 'doors', 'dose', 'dot', 'dots', 'double', 'doubleclick', 'dow', 'download', 'downstream', 'downtime', 'downtown', 'dozens', 'dplyr', 'dr', 'draft', 'drafting', 'dramatic', 'dramatically', 'draper', 'draw', 'drawbacks', 'drawing', 'draws', 'dream', 'dreams', 'dress', 'drift', 'drink', 'drinks', 'drive', 'driven', 'driver', 'drivers', 'drives', 'drivetime', 'driving', 'drop', 'dropbox', 'dropoff', 'dropped', 'drug', 'drugs', 'dry', 'drybar', 'ds', 'dsa', 'dscout', 'dsit', 'dsr', 'dss', 'dtabase', 'dual', 'dubai', 'dublin', 'duplication', 'durham', 'duties', 'duty', 'dw', 'dwi', 'dyadic', 'dylan', 'dynamic', 'dynamically', 'dynamics', 'dynamo', 'dynet', 'dyplr', 'e2e', 'eager', 'ear', 'earliest', 'early', 'earmarked', 'earn', 'earned', 'earners', 'earning', 'earnings', 'ears', 'earth', 'ease', 'easier', 'easily', 'easy', 'eat', 'eat24', 'eaters', 'eating', 'ebookers', 'ec', 'ec2', 'ecd', 'ecdi', 'echo', 'ecl', 'ecolab', 'ecological', 'ecommerce', 'econometric', 'econometrics', 'economic', 'economically', 'economics', 'economics5', 'economies', 'economists', 'economy', 'ecosystem', 'ecosystems', 'ecosystemxc2', 'ecs', 'ect', 'ed1', 'eda', 'edge', 'edit', 'editions', 'editor', 'editorial', 'eds', 'edu', 'educated', 'educating', 'education', 'educational', 'educationndesired', 'educators', 'edw', 'edward', 'ee', 'eeg', 'eeo', 'eeopost', 'ef', 'ef1', 'effect', 'effective', 'effectively', 'effectivelyexploring', 'effectivelyn', 'effectiveness', 'effects', 'efficacy', 'efficiencies', 'efficiency', 'efficient', 'efficiently', 'effort', 'efforts', 'effortsneducation', 'egencia', 'ego', 'egos', 'ehr', 'eighteen', 'el', 'elastic', 'elasticities', 'elasticity', 'elasticsearch', 'elbow', 'elected', 'election', 'electric', 'electrical', 'electricity', 'electronic', 'elegant', 'elegantly', 'element', 'elemental', 'elements', 'elevate', 'elevating', 'eligibility', 'eligible', 'elite', 'elixir', 'elk', 'elliott', 'elliottdavis', 'elsen', 'em', 'email', 'emails', 'embed', 'embedded', 'embedding', 'embeddings', 'embeds', 'ember', 'embodied', 'embody', 'embrace', 'embraces', 'embracing', 'emea', 'emergencies', 'emergent', 'emerging', 'emnlp', 'emotion', 'emotional', 'empathetic', 'empathizing', 'empathy', 'emphasis', 'emphasizes', 'emphasizing', 'empire', 'empirical', 'employ', 'employed', 'employee', 'employees', 'employeesnjob', 'employer', 'employernascensus', 'employers', 'employerxe2', 'employing', 'employment', 'employs', 'empower', 'empowered', 'empowering', 'empowerment', 'empowers', 'emr', 'en', 'enable', 'enabled', 'enablers', 'enables', 'enabling', 'encode', 'encoded', 'encoders', 'encoding', 'encompass', 'encompasses', 'encounter', 'encountered', 'encourage', 'encouraged', 'encourages', 'encouraging', 'end', 'ended', 'ending', 'endless', 'endogeneity', 'endomondo', 'endpoints', 'ends', 'enduring', 'energetic', 'energized', 'energy', 'enforce', 'eng', 'engage', 'engaged', 'engagement', 'engagements', 'engages', 'engaging', 'engine', 'engineer', 'engineered', 'engineering', 'engineeringn', 'engineers', 'engines', 'englewood', 'english', 'enhance', 'enhanced', 'enhancement', 'enhancements', 'enhances', 'enhancing', 'enjoy', 'enjoyable', 'enjoyed', 'enjoying', 'enjoyment', 'enjoys', 'enormous', 'enquiry', 'enrolled', 'enrollmentndetect', 'ensemble', 'ensembling', 'enskill', 'ensure', 'ensures', 'ensuring', 'entails', 'enter', 'enterprise', 'enterprises', 'entertaining', 'entertainment', 'enthusiasm', 'enthusiast', 'enthusiastic', 'entire', 'entirely', 'entities', 'entity', 'entomology', 'entrepreneur', 'entrepreneurial', 'entrepreneurs', 'entries', 'entrust', 'entry', 'envelope', 'environment', 'environmentadvanced', 'environmental', 'environmentintuitive', 'environmentnabout', 'environmentnpreferred', 'environmentnprofessional', 'environmentnthe', 'environmentnto', 'environmentproficiency', 'environments', 'environmentsexperience', 'environmentsn', 'environmentsnqualificationsnwhat', 'envision', 'envisioned', 'envisioning', 'envisions', 'eo', 'eoe', 'epic', 'epidemiological', 'epidemiologists', 'epidemiology', 'epidemiologyxef', 'eppac', 'eq', 'equal', 'equally', 'equate', 'equation', 'equations', 'equip', 'equipment', 'equipped', 'equips', 'equitable', 'equities', 'equity', 'equivalent', 'equivalents', 'er', 'era', 'eradicating', 'ericsson', 'erp', 'errant', 'erroneous', 'error', 'errors', 'escalations', 'especially', 'esports', 'espresso', 'esri', 'essbase', 'essential', 'essentials', 'establish', 'established', 'establishes', 'establishing', 'establishment', 'estate', 'estimates', 'estimation', 'estimations', 'et', 'etcndesired', 'etfs', 'ethic', 'ethical', 'ethicon', 'ethics', 'ethnic', 'ethnicity', 'etl', 'eur', 'euronext', 'europaea', 'europe', 'european', 'evaluate', 'evaluated', 'evaluates', 'evaluating', 'evaluation', 'evaluations', 'evangelist', 'evangelists', 'evangelize', 'evangelizing', 'evening', 'event', 'eventbrite', 'events', 'eventsnabout', 'eventual', 'everett', 'everybody', 'everyday', 'everytown', 'evidence', 'evidenced', 'evms', 'evolution', 'evolve', 'evolving', 'evp', 'ex', 'exact', 'exactly', 'exactness', 'exam', 'examine', 'examining', 'example', 'examples', 'examplessharing', 'exams', 'exceed', 'exceeds', 'excel', 'excellence', 'excellent', 'excels', 'exceptional', 'exceptions', 'excess', 'exchange', 'exchanges', 'excite', 'excited', 'excitement', 'excites', 'exciting', 'exclusive', 'excursionsn', 'execute', 'executecrecruiters', 'executed', 'executes', 'executing', 'execution', 'executive', 'executives', 'executors', 'exemplary', 'exemplify', 'exemplifying', 'exempt', 'exemptnjob', 'exemptnpursuant', 'exercise', 'exercises', 'exercising', 'exert', 'exhaustive', 'exhibit', 'exist', 'existing', 'exits', 'exogenous', 'expand', 'expanded', 'expanding', 'expansion', 'expect', 'expectations', 'expected', 'expecting', 'expectn', 'expedia', 'expedite', 'expense', 'expenses', 'expensive', 'experience', 'experiencea', 'experienced', 'experienceexperience', 'experiencehighly', 'experiencen', 'experiencenadvanced', 'experiencencurrently', 'experiencenfar', 'experiencenice', 'experiencenmasters', 'experiencenms', 'experiencenproficiency', 'experiencenqualifications', 'experiencenrequired', 'experiencenthe', 'experiencenunderstanding', 'experienceproficiency', 'experiences', 'experiencesbuilding', 'experiencesnskills', 'experiencetypically', 'experiment', 'experimental', 'experimentally', 'experimentation', 'experimentations', 'experimenter', 'experimenting', 'experiments', 'experimentsnwhat', 'expert', 'expertise', 'expertisenba', 'expertisencurrently', 'expertisenmust', 'expertisenunderstanding', 'expertize', 'expertly', 'experts', 'expires', 'explain', 'explainability', 'explained', 'explaining', 'explains', 'explanations', 'explanatory', 'explicit', 'explicitly', 'exploit', 'exploiting', 'exploits', 'exploration', 'explorations', 'exploratory', 'explore', 'explorers', 'explores', 'explorewrangler', 'exploring', 'exponential', 'export', 'expose', 'exposed', 'exposure', 'exposures', 'express', 'expression', 'expressions', 'expressly', 'extant', 'extend', 'extended', 'extending', 'extends', 'extensible', 'extension', 'extensive', 'external', 'externally', 'extra', 'extract', 'extracting', 'extraction', 'extracts', 'extraordinarily', 'extraordinary', 'extreme', 'extremely', 'extremes', 'extrinsic', 'exudes', 'eye', 'eyes', 'eyeview', 'f1', 'fabric', 'face', 'facebook', 'faces', 'faceted', 'facets', 'facilitate', 'facilitation', 'facilities', 'facility', 'facing', 'fact', 'facto', 'factor', 'factorial', 'factoring', 'factorization', 'factors', 'factory', 'facts', 'faculty', 'fail', 'failur', 'failure', 'failures', 'fair', 'fairbank', 'fairness', 'fall', 'falls', 'false', 'familial', 'familiar', 'familiarity', 'families', 'family', 'fanatical', 'fans', 'fantastic', 'fantastically', 'far', 'fares', 'farm', 'farmer', 'farmers', 'farming', 'farmland', 'farms', 'fascinated', 'fascinating', 'fashion', 'fast', 'faster', 'fastest', 'fastnwe', 'fatal', 'favorite', 'faxes', 'fb', 'fbi', 'fbn', 'fca', 'fearless', 'fearlessly', 'feasibility', 'feasible', 'feature', 'featured', 'features', 'federal', 'federation', 'fedramp', 'fee', 'feed', 'feedback', 'feedbacks', 'feedforward', 'feeding', 'feeds', 'feel', 'feelings', 'feels', 'fees', 'feet', 'fellow', 'felony', 'felt', 'female', 'females', 'ferry', 'fervor', 'festivals', 'fewer', 'fiat', 'field', 'fieldat', 'fieldexperience', 'fielding', 'fieldn', 'fieldprojects', 'fields', 'fieldxef', 'fifth', 'figaro', 'figure', 'figures', 'file', 'files', 'filled', 'filter', 'filtering', 'final', 'finalize', 'finally', 'finance', 'financial', 'financially', 'financialsnwhat', 'financing', 'finder', 'finding', 'findings', 'finds', 'fine', 'finely', 'finger', 'fingerprinting', 'fingerprints', 'fingers', 'fingertips', 'finish', 'finisher', 'finishline', 'finite', 'finlocker', 'fintech', 'fips', 'firewall', 'firm', 'firmhave', 'firms', 'firstnwe', 'fiscal', 'fischbach', 'fish', 'fisma', 'fit', 'fitness', 'fitting', 'fix', 'fixed', 'fixer', 'fixes', 'fixing', 'fixnat', 'flagship', 'flask', 'flat', 'flavor', 'flavors', 'flawless', 'flawlessly', 'flaws', 'fleet', 'fleets', 'flex', 'flexibility', 'flexible', 'flexibleninternship', 'flight', 'flights', 'flip', 'floodgate', 'floor', 'flopped', 'flops', 'floral', 'florida', 'florists', 'flourishes', 'flow', 'flowers', 'flows', 'flu', 'fluency', 'fluent', 'fluently', 'fluentnpreferred', 'fluffy', 'fluid', 'fluidity', 'flume', 'flws', 'fly', 'fmri', 'focus', 'focused', 'focusedstrong', 'focuses', 'focusing', 'focussed', 'focusses', 'fold', 'folder', 'follow', 'following', 'followingnresume', 'follows', 'food', 'football', 'footprint', 'footwear', 'forbearance', 'forbes', 'forbidden', 'force', 'forced', 'forces', 'ford', 'forecast', 'forecasting', 'forecasts', 'forefront', 'foreign', 'foremost', 'forescout', 'forest', 'foresting', 'forests', 'forge', 'forget', 'form', 'forma', 'formal', 'formalize', 'formally', 'format', 'formatexperience', 'formation', 'formats', 'formatting', 'formed', 'forms', 'formsbuilding', 'formulas', 'formulate', 'formulation', 'forn', 'fornabout', 'fornexpertise', 'fortune', 'forums', 'forward', 'forwarded', 'forwarders', 'foster', 'fostering', 'fosters', 'foundation', 'foundational', 'foundationproven', 'foundations', 'founded', 'founder', 'founders', 'founding', 'foundry', 'fourier', 'fourth', 'fraank', 'fraction', 'fractional', 'fragmented', 'frame', 'frames', 'framework', 'frameworks', 'frameworksability', 'frameworksnqualifications', 'frameworksnwhat', 'framing', 'franca', 'france', 'francis', 'francisco', 'frank', 'fraud', 'freakishly', 'free', 'freedom', 'freely', 'freesurfer', 'freight', 'french', 'frequent', 'frequentist', 'frequently', 'fresh', 'freshness', 'friction', 'frictionless', 'friday', 'fridaynsalary', 'friendly', 'friends', 'friendships', 'frighten', 'frontend', 'frontier', 'frontiers', 'fruitbouquets', 'fsa', 'fsl', 'ftp', 'fuel', 'fueled', 'fuels', 'fulfill', 'fulfilling', 'fulfillment', 'fullest', 'fullpower', 'fulltime', 'fully', 'fun', 'function', 'functional', 'functionalities', 'functionality', 'functionally', 'functioninformation', 'functions', 'functionsexperience', 'functionsnlisted', 'fund', 'fundamental', 'fundamentally', 'fundamentals', 'funded', 'funders', 'funding', 'fundraisers', 'funds', 'funnel', 'funnels', 'furnish', 'furniture', 'furry', 'furtherance', 'furthermore', 'furthest', 'fused', 'fusion', 'future', 'futures', 'futuristic', 'fuzzy', 'ga', 'gaap', 'gables', 'gadget', 'gain', 'gained', 'gaining', 'gains', 'galvanize', 'galvanizing', 'gambling', 'game', 'gamers', 'games', 'gaming', 'gans', 'gap', 'gaps', 'garage', 'garden', 'garner', 'gartner', 'gas', 'gases', 'gates', 'gather', 'gathered', 'gathering', 'gatherings', 'gatos', 'gauge', 'gaussian', 'gay', 'gbas', 'gbm', 'gcdo', 'gcp', 'gdit', 'ge', 'gear', 'geared', 'geek', 'gelman', 'gen', 'gender', 'general', 'generalist', 'generality', 'generalizable', 'generalize', 'generalized', 'generally', 'generate', 'generated', 'generates', 'generating', 'generation', 'generations', 'generative', 'generosity', 'generous', 'genes', 'genetic', 'geneticists', 'genetics', 'genism', 'genome', 'genomes', 'genomic', 'genomics', 'genre', 'gensim', 'genuine', 'genuinely', 'geo', 'geographic', 'geographical', 'geographically', 'geographies', 'geographiesn', 'geography', 'geoint', 'georgetown', 'georgia', 'georgian', 'geospatial', 'german', 'germany', 'gets', 'getting', 'ggplot', 'ggplot2', 'giants', 'gift', 'gifting', 'gifts', 'gillette', 'gis', 'git', 'gitflow', 'github', 'given', 'givers', 'gives', 'giving', 'glad', 'glancenopenx', 'glidepath', 'glm', 'glms', 'glob', 'global', 'globalization', 'globally', 'globe', 'glove', 'gloves', 'glucose', 'gm', 'gmmcb', 'gny', 'goal', 'goals', 'goalsnweekly', 'goes', 'going', 'gold', 'golden', 'good', 'gooders', 'goods', 'google', 'goose', 'gov', 'govern', 'governance', 'governing', 'government', 'governmental', 'governmentnyou', 'governments', 'governors', 'gpa', 'gpl', 'gpu', 'grad', 'grade', 'grade057', 'gradient', 'grading', 'gradinternships', 'graduate', 'graduated', 'graduates', 'graduating', 'graduation', 'grainger', 'grandkids', 'grant', 'granted', 'grantmaking', 'grants', 'granular', 'granularity', 'grapeshot', 'graph', 'graphical', 'graphics', 'graphlab', 'graphql', 'graphs', 'grasp', 'grasps', 'grasshopper', 'gratitude', 'grease', 'great', 'greater', 'greatest', 'greatness', 'green', 'greenplum', 'greenville', 'grep', 'greylock', 'grid', 'grill', 'gritty', 'groceries', 'grocers', 'grocery', 'ground', 'groundbreaking', 'grounding', 'group', 'groupon', 'groups', 'grow', 'growing', 'grown', 'grownat', 'grows', 'growth', 'grubhub', 'gsd', 'gsv', 'guarantee', 'guaranteed', 'guessing', 'guest', 'guests', 'gui', 'guidance', 'guidancenwe', 'guidancenyou', 'guide', 'guided', 'guidelines', 'guides', 'guiding', 'gun', 'gurobi', 'guru', 'gut', 'gym', 'h1', 'h1b', 'h2o', 'habitat', 'hack', 'hackathons', 'hackday', 'hackers', 'hadoop', 'hairy', 'half', 'hall', 'hampshire', 'hana', 'hand', 'handicap', 'handle', 'handles', 'handling', 'hands', 'hanover', 'happen', 'happening', 'happens', 'happiness', 'happy', 'haptics', 'harassment', 'harbor', 'hard', 'harder', 'hardest', 'hardship', 'hardware', 'hardworking', 'harm', 'harmonization', 'harmonize', 'harmonizing', 'harness', 'harnessed', 'harnesses', 'harnessing', 'harry', 'harvard', 'harvest', 'hasn', 'hat', 'hats', 'haul', 'haven', 'haven3', 'haven6', 'havena', 'havenfluency', 'haves', 'having', 'haystack', 'hbase', 'hcdagile', 'hcsc', 'hcss', 'hcv', 'hd', 'hdfs', 'head', 'header', 'headhunter', 'headphone', 'headquartered', 'headquarters', 'health', 'healthcare', 'healthier', 'healthtech', 'healthy', 'hear', 'heard', 'hearing', 'heart', 'heartfelt', 'heat', 'heavily', 'heavy', 'hedge', 'hedging', 'heights', 'held', 'helio', 'hello', 'help', 'helped', 'helpful', 'helping', 'helps', 'heritage', 'herndon', 'heroku', 'hesitate', 'heterogeneous', 'heuristic', 'heuristics', 'hewlett', 'hexagon', 'hidden', 'hierarchical', 'high', 'higher', 'highest', 'highlight', 'highlighting', 'highlights', 'highly', 'hilarious', 'hill', 'hills', 'hindering', 'hinge', 'hire', 'hired', 'hires', 'hiring', 'hiroad', 'histograms', 'historians', 'historical', 'historically', 'histories', 'history', 'hit', 'hitachi', 'hiv', 'hive', 'hivenabout', 'hivencheck', 'hm', 'hmh', 'hmm', 'hobbies', 'hobbyists', 'hoc', 'hold', 'holder', 'holders', 'holding', 'holdings', 'holiday', 'holidays', 'holistic', 'hollywood', 'home', 'homeaway', 'homeland', 'homeowners', 'homes', 'homicide', 'honed', 'honest', 'honesty', 'honeywell', 'hong', 'honor', 'hood', 'hope', 'hopefully', 'horizons', 'horizontal', 'horizontally', 'horn', 'horsepower', 'hortonworks', 'hospital', 'hospitality', 'hospitals', 'host', 'hosted', 'hot', 'hotel', 'hotels', 'hotelscombined', 'hottest', 'hotwire', 'hour', 'houras', 'hourinternshipas', 'hourly', 'hourpart', 'hours', 'house', 'housed', 'household', 'housing', 'houston', 'houstonnjob', 'hp', 'hpe', 'hq', 'hql', 'hr', 'hra', 'hrd53130', 'hris', 'hrs', 'hsa', 'html', 'http', 'https', 'hubs', 'huge', 'hugoton', 'human', 'humanities', 'humanity', 'humans', 'humble', 'humility', 'humint', 'humor', 'hundreds', 'hunger', 'hungriest', 'hunters', 'huobigroup', 'hurdles', 'hustle', 'hybrid', 'hygiene', 'hype', 'hyper', 'hyperparameter', 'hypotheses', 'hypothesis', 'i4', 'iac', 'iba', 'ibm', 'ic', 'icare', 'icml', 'iconic', 'ict', 'id', 'idea', 'ideal', 'ideally', 'ideals', 'ideas', 'ideasn', 'ideate', 'ideating', 'ideation', 'identification', 'identified', 'identifies', 'identify', 'identifying', 'identities', 'identity', 'identityn', 'ideo', 'idf', 'ifnexpertise', 'ig', 'ignite', 'ii', 'iii', 'iiot', 'il', 'il150sw', 'illegal', 'illicit', 'illinois', 'illness', 'illustrate', 'illustrated', 'ilog', 'image', 'imageright', 'imagery', 'images', 'imaginable', 'imagine', 'imaging', 'imbedded', 'imit', 'immediate', 'immediately', 'immense', 'immersed', 'immerses', 'immigrants', 'immigration', 'immunization', 'impact', 'impactful', 'impacting', 'impactnthe', 'impacts', 'impala', 'impeccable', 'imperfect', 'implement', 'implementable', 'implementation', 'implementations', 'implemented', 'implementing', 'implements', 'implications', 'implicitly', 'import', 'importance', 'important', 'importantly', 'imported', 'impossible', 'impressions', 'impressive', 'improper', 'improve', 'improved', 'improvement', 'improvements', 'improvementsn', 'improvementsntechnical', 'improves', 'improving', 'improvingnwe', 'imputations', 'inaccuracies', 'inaccuracy', 'inbox', 'inca', 'incarcerated', 'incentive', 'incentives', 'inception', 'incident', 'incidents', 'inclination', 'include', 'included', 'includen', 'includes', 'including', 'inclusion', 'inclusive', 'income', 'incoming', 'incomplete', 'inconsistencies', 'inconsistent', 'inconsistently', 'incorporate', 'incorporating', 'increase', 'increased', 'increases', 'increasing', 'increasingly', 'incredible', 'incredibly', 'incremental', 'incrementality', 'incrementally', 'incubate', 'incumbent', 'incumbents', 'indemnification', 'independence', 'independent', 'independently', 'index', 'indexed', 'india', 'indicates', 'indications', 'indicators', 'indices', 'indicia', 'individual', 'individuality', 'individualized', 'individually', 'individuals', 'inductive', 'industrial', 'industrialization', 'industrialize', 'industries', 'industry', 'industrynabout', 'inefficient', 'inextricably', 'infancy', 'infectious', 'infer', 'inference', 'inferences', 'inferential', 'inferred', 'infinitely', 'influence', 'influenced', 'influencenwe', 'influencer', 'influences', 'influencing', 'influential', 'influx', 'infoemd', 'inform', 'informally', 'informaticians', 'informatics', 'information', 'informationnall', 'informationnrecognized', 'informationnwhat', 'informationnwhen', 'informative', 'informed', 'informing', 'informs', 'infosys', 'infra', 'infrastructure', 'infrastructures', 'infuse', 'infusing', 'ingenuity', 'ingest', 'ingested', 'ingesting', 'ingestion', 'ingredients', 'inherent', 'inhibit', 'initial', 'initialized', 'initiate', 'initiated', 'initiates', 'initiation', 'initiative', 'initiatives', 'initiativesappropriately', 'initiativesassess', 'initiativesassist', 'initiativesguide', 'initiativewe', 'injury', 'inn', 'innate', 'inner', 'innovate', 'innovatexc2', 'innovating', 'innovation', 'innovations', 'innovative', 'innovatively', 'innovator', 'innovators', 'input', 'inputs', 'inquired', 'inquiries', 'inquiry', 'inquisitive', 'ins', 'insatiable', 'insatiably', 'inscape', 'inside', 'insider', 'insight', 'insightful', 'insights', 'insightsnengage', 'inspect', 'inspection', 'inspiration', 'inspirational', 'inspire', 'inspired', 'inspires', 'inspiring', 'instabilities', 'instagram', 'instance', 'instances', 'instantly', 'instead', 'instinct', 'instincts', 'institute', 'institutes', 'institution', 'institutional', 'institutions', 'instructions', 'instructor', 'instructors', 'instrument', 'instrumental', 'instrumentation', 'insurance', 'insuranceflexible', 'insurer', 'insures', 'insurtech', 'intacct', 'integer', 'integral', 'integrate', 'integrated', 'integrates', 'integrating', 'integration', 'integrations', 'integrator', 'integrators', 'integrity', 'intel', 'intellect', 'intellectual', 'intellectually', 'intelligence', 'intelligent', 'intelligently', 'intelligrated', 'intended', 'intensely', 'intensive', 'intent', 'intention', 'intentionally', 'intentions', 'intently', 'inter', 'interact', 'interacting', 'interaction', 'interactions', 'interactive', 'interacts', 'interdisciplinary', 'interested', 'interesting', 'interests', 'interface', 'interfaces', 'interfacing', 'interference', 'interim', 'interleaving', 'interlinked', 'intermedia', 'intermediate', 'intern', 'internal', 'internally', 'international', 'internationally', 'internet', 'internnare', 'interns', 'internship', 'internshipabout', 'internshipat', 'internshipbmw', 'internshipc3', 'internshipdata', 'internshipdescription', 'internshipgreater', 'internshipit', 'internshipjob', 'internshipmongodb', 'internshipour', 'internshipoverview', 'internshipposition', 'internshipresponsibilities', 'internshiprifiniti', 'internships', 'internshipsummary', 'internshipthe', 'internshipwe', 'internshipwhat', 'internshipwho', 'internshipwith', 'internsnminimum', 'internsnthe', 'interoperably', 'interpersonal', 'interpret', 'interpretable', 'interpretation', 'interpreted', 'interpreting', 'interpretive', 'interprets', 'interrogate', 'interruptions', 'intersecting', 'intersection', 'intervals', 'intervention', 'interventions', 'interview', 'interviewing', 'interviews', 'intimate', 'intramural', 'intricacies', 'intricate', 'intricately', 'intrinsic', 'introduction', 'introductions', 'introspection', 'intuition', 'intuitive', 'intuitively', 'invaluable', 'invent', 'invention', 'inventions', 'inventive', 'inventors', 'inventory', 'invents', 'invest', 'invested', 'investigate', 'investigated', 'investigating', 'investigation', 'investigations', 'investigative', 'investigator', 'investigators', 'investing', 'investment', 'investments', 'investors', 'invests', 'invitae', 'invite', 'invited', 'involve', 'involved', 'involvement', 'involves', 'involving', 'io', 'ios', 'iot', 'iowa', 'ip', 'ipad', 'ipdp', 'ipo', 'ipython', 'ironpython', 'irregular', 'irs', 'irvine', 'ish', 'isn', 'isolate', 'issue', 'issued', 'issues', 'issuesgather', 'iswc', 'itd', 'items', 'iterate', 'iteratenoting', 'iterates', 'iterating', 'iteration', 'iterative', 'iteratively', 'itnwhy', 'itunes', 'iv', 'j0319', 'janitorial', 'january', 'japan', 'java', 'javaextremely', 'javascript', 'jcp', 'jcpenney', 'jdpac', 'jenkins', 'jersey', 'jessica', 'jet', 'jira', 'jl3', 'jmp', 'job', 'jobncare', 'jobs', 'johnson', 'join', 'joined', 'joining', 'joins', 'joint', 'jones', 'jornaya', 'jose', 'journal', 'journalism', 'journals', 'journey', 'journeys', 'joy', 'jr', 'jreview', 'js', 'json', 'jsp', 'juan', 'judgement', 'judgementxc2', 'judgment', 'juggle', 'juggling', 'julia', 'jump', 'jumping', 'junction', 'june', 'junior', 'junk', 'jupiter', 'jupyter', 'just', 'justice', 'justify', 'juxtaposition', 'jvm', 'jyve', 'jyver', 'jyvers', 'kaban', 'kafka', 'kaggle', 'kagr', 'kai', 'kanban', 'kansas', 'kansasnexxonmobil', 'kayak', 'kayaknat', 'kbr', 'kbrwyle', 'kdd', 'keen', 'keeping', 'keeps', 'kennedy', 'kentucky', 'kenworth', 'kept', 'keras', 'kernel', 'kernels', 'key', 'keyboard', 'keyboarding', 'keynote', 'keysight', 'kibana', 'kid', 'kids', 'kind', 'kindly', 'kinds', 'kinesis', 'king', 'kingdom', 'kitchen', 'kitchens', 'kits', 'kleiner', 'kmeans', 'knack', 'kneel', 'knight', 'knime', 'knit', 'knn', 'knock', 'know', 'knowing', 'knowledge', 'knowledgeable', 'known', 'knownyou', 'knows', 'kong', 'kosmix', 'kpi', 'kpis', 'kpisexperience', 'kpit', 'kraken', 'krakenites', 'ksa', 'kubernetes', 'kxen', 'kyosei', 'la', 'lab', 'labor', 'laboratory', 'labs', 'labsnlocation', 'lack', 'lactation', 'ladders', 'lake', 'lakes', 'land', 'landfills', 'landing', 'landscape', 'landscapes', 'language', 'languages', 'languagesexperience', 'languagesknowledge', 'languagesnknowledge', 'lapack', 'laptop', 'laptops', 'large', 'largely', 'larger', 'largest', 'lark', 'laser', 'lasting', 'lastminute', 'late', 'latent', 'later', 'lateral', 'latest', 'latex', 'latin', 'latitude', 'launch', 'launched', 'launches', 'launching', 'laundering', 'lavenderncareer', 'lavish', 'law', 'lawful', 'lawn', 'lawrence', 'laws', 'lawyers', 'lay', 'layer', 'layers', 'layman', 'laymen', 'layoff', 'layout', 'layperson', 'lda', 'lead', 'leadblog', 'leader', 'leadernminimum', 'leaders', 'leadership', 'leadersinvestigating', 'leadersown', 'leading', 'leads', 'leagues', 'leakage', 'lean', 'leap', 'leapros', 'leaprosnchipotle', 'learn', 'learned', 'learner', 'learnernpreferred', 'learners', 'learning', 'learninganalysis', 'learningat', 'learningcontributions', 'learningnqualificationsnnullnadditional', 'learnings', 'leased', 'leasing', 'leave', 'leaves', 'led', 'ledger', 'leed', 'left', 'legacy', 'legal', 'legally', 'legislative', 'lend', 'lending', 'lendingtree', 'lends', 'length', 'lens', 'lerning', 'lesbian', 'lesser', 'let', 'letter', 'letters', 'lev', 'level', 'level1', 'levels', 'levelsn', 'levelup', 'lever', 'leverage', 'leveraged', 'leverages', 'leveraging', 'levers', 'lexington', 'lexisnexis', 'lexisnexisrisk', 'lgbtq', 'li', 'liabilities', 'liaise', 'liaison', 'liberates', 'libraries', 'librariesat', 'library', 'libsvm', 'license', 'licensed', 'licenses', 'lidar', 'lie', 'lies', 'lieu', 'life', 'lifecycle', 'lifecyclenwe', 'lifelong', 'lifenwe', 'lifestyle', 'lifestyles', 'lifetime', 'lift', 'light', 'lightgbm', 'lighthouse', 'like', 'likelihood', 'likely', 'likes', 'limit', 'limitations', 'limitationsn', 'limited', 'limiting', 'limits', 'limitsnbeyond', 'lincoln', 'line', 'linear', 'lineexperience', 'lines', 'linesquantitative', 'lingpipe', 'lingua', 'linguistic', 'linguistics', 'lining', 'link', 'linkage', 'linked', 'linkedin', 'linking', 'links', 'linting', 'linux', 'list', 'listed', 'listen', 'listeners', 'listening', 'listing', 'listings', 'lists', 'lit', 'literature', 'little', 'live', 'lived', 'livereach', 'livereachmedia', 'lives', 'liveswe', 'living', 'll', 'llc', 'lmi', 'load', 'loading', 'loan', 'loans', 'local', 'locally', 'locals', 'locate', 'located', 'locates', 'location', 'locations', 'locationus', 'lodging', 'log', 'logging', 'logic', 'logical', 'logistic', 'logistical', 'logistics', 'logit', 'logs', 'logstash', 'london', 'lone', 'long', 'longer', 'longitudinal', 'longtime', 'longwood', 'look', 'looker', 'looking', 'lookout', 'looks', 'loop', 'loosely', 'los', 'loss', 'lot', 'lots', 'lottery', 'lotterycareers', 'louder', 'louis', 'love', 'loved', 'loveland', 'loves', 'low', 'lower', 'lowering', 'lowest', 'loyal', 'loyalty', 'lrm', 'lrs', 'ls1', 'lsa', 'lsh', 'lsi', 'lstm', 'lte', 'ltv', 'lucene', 'luigi', 'lunch', 'lunches', 'luxury', 'lyft', 'm12', 'm4', 'ma', 'mac', 'macbook', 'machine', 'machines', 'macro', 'macroeconomic', 'macroeconomics', 'magazine', 'magic', 'magical', 'mahalanobis', 'mail', 'mailbox', 'main', 'mainstream', 'maintain', 'maintainability', 'maintainable', 'maintained', 'maintaining', 'maintains', 'maintenance', 'major', 'majoring', 'majority', 'majorneo', 'majornpreferred', 'majornqualificationsndemonstrates', 'make', 'makers', 'makes', 'making', 'makingn', 'malicious', 'mallet', 'malvern', 'malware', 'manage', 'manageable', 'managed', 'management', 'managementnrequired', 'managemento', 'manager', 'managers', 'manages', 'managing', 'manahj', 'mandate', 'mandatory', 'manger', 'manhattan', 'manipulate', 'manipulates', 'manipulating', 'manipulation', 'manner', 'mannerxc2', 'manual', 'manually', 'manuals', 'manufacture', 'manufacturer', 'manufacturers', 'manufactures', 'manufacturing', 'map', 'mapmyfitness', 'mapping', 'mapr', 'mapreduce', 'maps', 'mar', 'marathon', 'marathons', 'march', 'marcoline', 'marginalized', 'marian', 'marital', 'maritime', 'mark', 'market', 'marketable', 'marketers', 'marketing', 'marketingnwhat', 'marketo', 'marketplace', 'marketplaces', 'markets', 'markov', 'marks', 'marry', 'maryland', 'marzocco', 'mason', 'mass', 'massachusetts', 'massage', 'massages', 'massaging', 'massive', 'massively', 'massmutual', 'master', 'mastered', 'masters', 'mastery', 'match', 'matched', 'matches', 'matching', 'mateo', 'material', 'materials', 'maternity', 'math', 'mathematica', 'mathematical', 'mathematician', 'mathematicians', 'mathematics', 'mathematicsxc2', 'matlab', 'matlabexpertise', 'matplotlib', 'matrix', 'matrixed', 'matter', 'matters', 'mature', 'maturity', 'maxent', 'maximization', 'maximize', 'maximizing', 'maximum', 'maybe', 'mayors', 'mba', 'mckesson', 'mclean', 'mcmc', 'md', 'meal', 'meals', 'mean', 'meaning', 'meaningful', 'meaningfully', 'means', 'meant', 'measurable', 'measure', 'measured', 'measurement', 'measurements', 'measures', 'measuring', 'mechanical', 'mechanics', 'mechanism', 'mechanisms', 'media', 'mediation', 'medical', 'medically', 'medication', 'medicine', 'medidata', 'medium', 'meet', 'meeting', 'meetings', 'meets', 'member', 'members', 'membership', 'membersmodeling', 'membersnfor', 'memorable', 'memos', 'men', 'menlo', 'mental', 'mentality', 'mention', 'mentioned', 'mentionsnslync', 'mentor', 'mentoring', 'mentoringnmentor', 'mentors', 'mentorship', 'mentorships', 'menus', 'merch', 'merchandise', 'merchandisers', 'merchandising', 'merchants', 'merge', 'merit', 'meritocracy', 'merits', 'mertado', 'mesa', 'mesos', 'message', 'messages', 'messaging', 'messenger', 'messy', 'met', 'meta', 'metabiota', 'metadata', 'metagenome', 'metagenomic', 'metagenomics', 'metasearch', 'metered', 'method', 'methodical', 'methodically', 'methodicaln', 'methodist', 'methodolgies', 'methodological', 'methodologically', 'methodologies', 'methodologiesn25', 'methodologiesnbenefits', 'methodology', 'methods', 'meticulous', 'metis', 'metnrequired', 'metric', 'metrics', 'metricsinnovate', 'metro', 'metropolitan', 'mexican', 'mexico', 'mfc', 'mgnt', 'mi', 'miachine', 'michael', 'michigan', 'micro', 'microbial', 'microbiology', 'microbiologyexperience', 'microbiome', 'microservices', 'microsoft', 'microstrategy', 'mid', 'middleware', 'midsize', 'migrate', 'migrating', 'migration', 'miguelhelft', 'mile', 'military', 'militaryfriendly', 'million', 'millions', 'milpitas', 'mimics', 'min', 'mind', 'minded', 'mindful', 'minds', 'mindset', 'mindsetcustomer', 'mindsets', 'minenwe', 'miner', 'mines', 'mini', 'minimal', 'minimize', 'minimizes', 'minimum', 'minimumnideally', 'mining', 'miningnavidxchange', 'miningprogramming', 'minitab', 'minorities', 'minority', 'mintel', 'minute', 'minutes', 'mis', 'misinterpretation', 'miss', 'missed', 'missing', 'mission', 'missions', 'mistake', 'mistakes', 'mitigate', 'mitigating', 'mitigation', 'mix', 'mixed', 'mixes', 'mixture', 'ml', 'mllib', 'mlops', 'mo', 'moat', 'mobile', 'mobility', 'mockups', 'modalities', 'modality', 'mode', 'modeanalytics', 'model', 'modeler', 'modelers', 'modeling', 'modelingmachine', 'modelingnadditional', 'modelingnproject', 'modelled', 'modelling', 'models', 'modelscreating', 'modelsexcellent', 'modelsknowledge', 'modelsnand', 'modelswindows', 'modenmode', 'moderate', 'moderately', 'moderation', 'modern', 'modernize', 'modernized', 'modernizing', 'modifications', 'modified', 'modifies', 'modify', 'modifying', 'module', 'modules', 'modus', 'moment', 'moments', 'momondo', 'monday', 'monetization', 'money', 'mongodb', 'monitor', 'monitoring', 'monitors', 'montana', 'monte', 'montgomery', 'month', 'monthcontractunder', 'monthly', 'months', 'moocs', 'moose', 'morgan', 'morrisville', 'mortar', 'mortgage', 'moses', 'mothers', 'motiion', 'motion', 'motionx', 'motivate', 'motivated', 'motivates', 'motivation', 'motivator', 'motive', 'motor', 'motors', 'mountain', 'mouse', 'movado', 'moved', 'movement', 'moves', 'movie', 'movies', 'moving', 'mpc', 'mpp', 'mri', 'mro', 'ms', 'ms1', 'msc', 'msim', 'msja', 'msn', 'mssql', 'mt', 'mtv', 'mukamel', 'multi', 'multicultural', 'multidisciplinary', 'multimodal', 'multinomial', 'multiple', 'multiplier', 'multisite', 'multitask', 'multivariable', 'multivariate', 'munch', 'mundi', 'munging', 'muni', 'municipal', 'musculoskeletal', 'music', 'mustnresponsibilities', 'mutual', 'mutually', 'mv1', 'mxnet', 'myfitnesspal', 'mysql', 'mysqlexperience', 'n0', 'n00', 'n0305', 'n1', 'n10', 'n100', 'n1000', 'n1026036', 'n11', 'n12', 'n15', 'n16', 'n1st', 'n1strategy', 'n2', 'n20', 'n2019', 'n25', 'n3', 'n4', 'n40', 'n401', 'n401k', 'n5', 'n58490', 'n6', 'n7', 'n8', 'n9', 'n_', 'n___________________________________________________________________________________', 'na', 'naacl', 'nability', 'nable', 'nabout', 'nacademic', 'naccess', 'naccomplished', 'naccording', 'naccountabilities', 'naccountable', 'naccurate', 'nacquires', 'nacquisition', 'nact', 'nacting', 'nactivation', 'nactive', 'nactively', 'nactuarial', 'nad', 'nadapt', 'nadaptability', 'nadapts', 'nadding', 'nadditional', 'nadditionally', 'naddt', 'nadept', 'nadherence', 'nadobe', 'nadvance', 'nadvanced', 'nadvantages', 'nadvise', 'nadvocate', 'naerospace', 'naetna', 'nafter', 'nagency', 'nai', 'naid', 'naive', 'nakraya', 'nalco', 'nalelo', 'nalgorithmic', 'nalgorithms', 'nalign', 'nall', 'nallazo', 'namazing', 'namazon', 'named', 'nameplates', 'namericas', 'names', 'namplion', 'nan', 'nanalyse', 'nanalysis', 'nanalytic', 'nanalytical', 'nanalytically', 'nanalytics', 'nanalyze', 'nanalyzes', 'nanalyzing', 'nand', 'nann', 'nannotation', 'nannual', 'nanswer', 'nany', 'napco', 'napi', 'napplicants', 'napplications', 'napplied', 'napplies', 'napply', 'napplying', 'nappreciation', 'napprise', 'napproach', 'nappropriate', 'nappropriately', 'napproximately', 'nappzen', 'naptitude', 'narchitect', 'narchitecting', 'nare', 'nareas', 'narratives', 'narticulate', 'nartificial', 'nas', 'nasa', 'nascensus', 'nascent', 'nascertain', 'nasdaq', 'nashua', 'nassemble', 'nassess', 'nassesses', 'nassessing', 'nassigned', 'nassist', 'nassisting', 'nassists', 'nassociate', 'nat', 'nathenex', 'nation', 'national', 'nationality', 'nationally', 'nations', 'nationwide', 'native', 'natlanta', 'natlantic', 'natos', 'nattending', 'nattention', 'nattentive', 'natural', 'naturally', 'nature', 'naustin', 'nauthorities', 'nauto', 'nautodesk', 'nautomate', 'nautomating', 'nautomotive', 'nauvera', 'navailability', 'navailable', 'navair', 'naval', 'naverage', 'navigate', 'navigation', 'navigators', 'nawarded', 'nawesome', 'naws', 'naxians', 'naxiologic', 'naxle', 'nb', 'nba', 'nbabylist', 'nbachelor', 'nbachelors', 'nbackground', 'nbalance', 'nbalances', 'nbased', 'nbash', 'nbasic', 'nbc', 'nbe', 'nbeautiful', 'nbehavioral', 'nbehaviors', 'nbehind', 'nbeing', 'nbelow', 'nbenefit', 'nbenefits', 'nbenefitsnat', 'nberkley', 'nbetter', 'nbeyond', 'nbig', 'nbit', 'nblacksky', 'nblackthorn', 'nblend', 'nblending', 'nblockchain', 'nblueshift', 'nbluevine', 'nbonus', 'nboth', 'nbreadth', 'nbreak', 'nbringing', 'nbroad', 'nbs', 'nbuild', 'nbuilding', 'nbuilds', 'nbuilt', 'nbusiness', 'nbut', 'nbuzzwords', 'nby', 'nc', 'nc3', 'ncaa', 'ncaci', 'ncambia', 'ncampaign', 'ncan', 'ncandidate', 'ncandidates', 'ncapable', 'ncapgemini', 'ncapital', 'ncapture', 'ncare', 'ncareer', 'ncarolinas', 'ncarry', 'ncasual', 'ncategory', 'ncatered', 'ncentral', 'ncerner', 'ncertificate', 'ncertificates', 'ncertifications', 'ncertifying', 'ncgi', 'nchanging', 'nchannel', 'ncharles', 'ncheck', 'nchesapeake', 'nchicago', 'nchinese', 'nchipotle', 'ncitizen', 'ncity', 'ncivis', 'nclarkston', 'nclean', 'ncleaning', 'nclear', 'nclearance', 'nclearly', 'nclearwater', 'ncleveland', 'nclick', 'nclient', 'nclients', 'ncloud', 'ncluster', 'ncoaches', 'ncoding', 'ncognitive', 'ncollaborate', 'ncollaborates', 'ncollaborating', 'ncollaborative', 'ncollaboratively', 'ncollect', 'ncollecting', 'ncollege', 'ncombination', 'ncombine', 'ncome', 'ncomet', 'ncomfort', 'ncomfortable', 'ncommitted', 'ncommon', 'ncommunicate', 'ncommunicates', 'ncommunicating', 'ncommunication', 'ncommunicator', 'ncommunity', 'ncommuter', 'ncommvault', 'ncompany', 'ncompensation', 'ncompetence', 'ncompetitive', 'ncompile', 'ncompliance', 'ncomponents', 'ncomposition', 'ncomprehensive', 'ncomprised', 'ncomputational', 'ncomputer', 'ncomputingfoundation', 'nconceive', 'nconceptual', 'nconceptualize', 'ncondition', 'nconduct', 'nconducting', 'nconducts', 'nconfidence', 'nconfident', 'nconnect', 'nconsistency', 'nconsistently', 'nconstantly', 'nconstruct', 'nconstructs', 'nconsult', 'nconsults', 'nconsumer', 'ncontact', 'ncontext', 'ncontextualize', 'ncontinually', 'ncontinue', 'ncontinued', 'ncontinuous', 'ncontinuously', 'ncontract', 'ncontribute', 'ncontributes', 'ncontributing', 'ncontributions', 'nconversant', 'nconvert', 'ncool', 'ncoordinate', 'ncoordinates', 'ncoordination', 'ncordell', 'ncore', 'ncorporate', 'ncoursework', 'ncover', 'ncr', 'ncraft', 'ncreate', 'ncreates', 'ncreating', 'ncreative', 'ncreatively', 'ncreativity', 'ncriteo', 'ncritical', 'ncrm', 'ncross', 'ncultivating', 'nculture', 'ncurating', 'ncuriosity', 'ncurious', 'ncurrent', 'ncurrently', 'ncustomer', 'nd', 'ndacohp', 'ndaily', 'ndallas', 'ndata', 'ndatabase', 'ndatabases', 'ndate', 'nday', 'ndedication', 'ndeep', 'ndeepen', 'ndefine', 'ndefines', 'ndefining', 'ndegree', 'ndeliver', 'ndelivering', 'ndelivery', 'ndell', 'ndeloitte', 'ndelve', 'ndemocratize', 'ndemonstrable', 'ndemonstrate', 'ndemonstrated', 'ndemonstrates', 'ndemonstrating', 'ndenver', 'ndepartment', 'ndepending', 'ndeploy', 'ndeploying', 'ndepth', 'nderive', 'nderiving', 'ndescription', 'ndesign', 'ndesigning', 'ndesigns', 'ndesire', 'ndesired', 'ndetail', 'ndetailed', 'ndetails', 'ndetermine', 'ndevelop', 'ndeveloper', 'ndeveloping', 'ndevelopment', 'ndevelopmentanalyze', 'ndevelops', 'ndexterity', 'ndid', 'ndigging', 'ndigital', 'ndirect', 'ndirects', 'ndisciplined', 'ndisclaimer', 'ndiscover', 'ndisplay', 'ndisplaying', 'ndisseminates', 'ndistilling', 'ndistinctive', 'ndistribute', 'ndistributed', 'ndistributions', 'ndiversity', 'ndiversitynclassdojo', 'ndivision', 'ndivisional', 'ndo', 'ndoctoral', 'ndocument', 'ndocuments', 'ndog', 'ndoing', 'ndomain', 'ndraw', 'ndress', 'ndrinks', 'ndrive', 'ndriven', 'ndriver', 'ndrives', 'ndriving', 'ndrybar', 'ndue', 'nduration', 'nduring', 'nduties', 'ne', 'nea', 'neach', 'neager', 'near', 'nearby', 'nearest', 'nearly', 'nearn', 'nebraska', 'necessarily', 'necessary', 'necessaryconsults', 'necolab', 'neconomics', 'nedit', 'neducate', 'neducated', 'neducation', 'neducational', 'need', 'needed', 'needle', 'needna', 'neednmasters', 'neednminimum', 'neednphd', 'needs', 'needsnqualificationsnrequired', 'needsnto', 'neeo', 'neeoc', 'neffective', 'neffectively', 'nefficient', 'nefficiently', 'negative', 'negatively', 'negotiable', 'negotiate', 'negotiation', 'neighbor', 'neighborhoods', 'neighbors', 'neight', 'nelevate', 'nemail', 'nembrace', 'nemphasis', 'nemploy', 'nemployee', 'nemployer', 'nemployment', 'nempower', 'nenable', 'nenabling', 'nend', 'nengage', 'nengages', 'nengaging', 'nengineering', 'nenglish', 'nenhance', 'nenhanced', 'nenhancing', 'nenjoys', 'nenrolled', 'nensure', 'nensures', 'nensuring', 'nenthusiasm', 'nenthusiastic', 'nentrepreneurial', 'nenvironment', 'neo', 'neo4j', 'neoe', 'nequal', 'nequity', 'nequivalent', 'nerds', 'nerdy', 'nericsson', 'nescalates', 'nessential', 'nestablish', 'nestablished', 'nestimate', 'net', 'netapp', 'netc', 'netflix', 'network', 'networked', 'networking', 'networks', 'networksimplementing', 'neural', 'neurobehavioral', 'neuroimaging', 'neuroscience', 'neutral', 'nevada', 'nevaluate', 'nevaluating', 'nevangelize', 'neven', 'neventbrite', 'nevery', 'neveryday', 'neverytown', 'new', 'newest', 'newly', 'newmark', 'newport', 'news', 'newsfeed', 'newshour', 'newwave', 'nexamines', 'nexample', 'nexcel', 'nexcellent', 'nexceptional', 'nexcited', 'nexciting', 'nexclusively', 'nexecute', 'nexecution', 'nexecutive', 'nexempt', 'nexhibit', 'nexpand', 'nexpectations', 'nexpedia', 'nexperience', 'nexperienced', 'nexperiencenmust', 'nexperiencenwith', 'nexperiment', 'nexpert', 'nexpertise', 'nexpertisenquerying', 'nexpiration', 'nexplain', 'nexploration', 'nexploratory', 'nexplore', 'nexplores', 'nexploring', 'nexposure', 'nextdoor', 'nextending', 'nextends', 'nextensive', 'nextract', 'nextracts', 'nextremely', 'nexus', 'neyeview', 'nfacilitate', 'nfamiliar', 'nfamiliarity', 'nfarmer', 'nfarmers', 'nfascinating', 'nfast', 'nfeature', 'nfeel', 'nfield', 'nfinal', 'nfinance', 'nfinancial', 'nfind', 'nfinding', 'nfirst', 'nfive', 'nfl', 'nflat', 'nflex', 'nflexibility', 'nflexible', 'nfloating', 'nflsa', 'nfluency', 'nfluent', 'nfocus', 'nfocused', 'nfollow', 'nfood', 'nfor', 'nforce', 'nford', 'nforecasting', 'nforescout', 'nformalizing', 'nformulate', 'nformulates', 'nforward', 'nfoster', 'nfosys', 'nfounded', 'nfour', 'nframe', 'nframes', 'nfree', 'nfrequently', 'nfrom', 'nfs', 'nfull', 'nfullpower', 'nfully', 'nfunctions', 'nfundamental', 'nfurthermore', 'nfurthers', 'nga', 'ngap', 'ngather', 'nge', 'ngender', 'ngeneral', 'ngeneralize', 'ngenerate', 'ngenerates', 'ngenerating', 'ngenerous', 'ngenomics', 'ngeospatial', 'nget', 'ngetting', 'ngive', 'nglobal', 'ngoal', 'ngoes', 'ngood', 'ngoogle', 'ngos', 'ngpa', 'ngraduate', 'ngraphical', 'ngreat', 'nground', 'ngrow', 'ngrowth', 'ngrubhub', 'ngs', 'nguide', 'nguided', 'nhadoop', 'nhandle', 'nhands', 'nhas', 'nhave', 'nhaving', 'nhcsc', 'nhe', 'nheadquartered', 'nhealth', 'nhelp', 'nhelping', 'nhere', 'nhi', 'nhigh', 'nhighly', 'nhiring', 'nhistory', 'nhl', 'nhold', 'nhonest', 'nhoneywell', 'nhonor', 'nhow', 'nhttps', 'nhuge', 'nhunger', 'ni', 'nibm', 'nic', 'nice', 'niche', 'nid', 'nideal', 'nideate', 'nidentification', 'nidentifies', 'nidentify', 'nidentifying', 'nidentity', 'nif', 'night', 'nights', 'nii', 'nike', 'nikenbachelor', 'nimagine', 'nimble', 'nimplement', 'nimplementing', 'nimplements', 'nimportant', 'nimprove', 'nimproving', 'nin', 'nincludes', 'ninclusion', 'ninclusive', 'nincrease', 'nindependent', 'nindependently', 'nindustry', 'ninfluencing', 'ninform', 'ninformation', 'ninforms', 'ninfrastructure', 'ninitiate', 'ninitiative', 'ninja', 'ninnate', 'ninnovate', 'ninnovation', 'ninscape', 'ninspire', 'ninspires', 'ninstrument', 'nintegral', 'nintegrate', 'nintegrates', 'nintegration', 'nintegrity', 'nintellectual', 'nintellectually', 'ninteract', 'ninteractive', 'ninteracts', 'ninterest', 'ninterested', 'ninteresting', 'ninterface', 'nintermediate', 'nintern', 'ninternship', 'ninterpersonal', 'ninterpret', 'ninterprets', 'nintroduce', 'ninvestigates', 'ninvestment', 'ninvestors', 'ninvolvement', 'nips', 'nis', 'nist', 'nit', 'niteratively', 'nittany', 'nitty', 'niv', 'nj', 'njava', 'njavascript', 'njhujobs', 'njob', 'njoin', 'njornaya', 'njr', 'nkayak', 'nkbr', 'nkbrwyle', 'nkeep', 'nkegerator', 'nkey', 'nkeysight', 'nkeyword', 'nknow', 'nknowledge', 'nknowledgeable', 'nknowledgenand', 'nknowledgenof', 'nkraft', 'nla', 'nlanguage', 'nlanguages', 'nlark', 'nlast', 'nle', 'nlead', 'nleader', 'nleadership', 'nleading', 'nleads', 'nlean', 'nlearn', 'nlearning', 'nlearns', 'nlevel', 'nleverage', 'nleveraging', 'nli', 'nlife', 'nlift', 'nlinux', 'nlist', 'nlittleton', 'nlive', 'nlocate', 'nlocation', 'nlocationna', 'nlocations', 'nlocationusa', 'nlogic20', 'nlogic2020', 'nlooking', 'nlots', 'nlp', 'nlrs', 'nlstm', 'nltk', 'nlu', 'nm', 'nma', 'nmachine', 'nmain', 'nmaintain', 'nmaintaining', 'nmaintains', 'nmajor', 'nmake', 'nmakes', 'nmaking', 'nmanage', 'nmanages', 'nmanaging', 'nmanipulate', 'nmapping', 'nmarket', 'nmarketing', 'nmarketplace', 'nmaster', 'nmasters', 'nmastery', 'nmatching', 'nmath', 'nmathematics', 'nmatlab', 'nmaxar', 'nmay', 'nmba', 'nmckesson', 'nmeals', 'nmeasure', 'nmediation', 'nmedical', 'nmeet', 'nmentor', 'nmentoring', 'nmerge', 'nmeta', 'nmetabiota', 'nmethodsexpertise', 'nmf', 'nmicrobiome', 'nmicrosoft', 'nmind', 'nmine', 'nmines', 'nminimal', 'nminimum', 'nmining', 'nmixed', 'nmode', 'nmodeling', 'nmodels', 'nmoderate', 'nmon18', 'nmongodb', 'nmonitor', 'nmonitoring', 'nmonpost', 'nmonthly', 'nmore', 'nmorgan', 'nmost', 'nms', 'nmsc', 'nmultiple', 'nmust', 'nn', 'nna', 'nnatural', 'nnature', 'nnbenefits', 'nnearest', 'nnecessary', 'nneed', 'nnetflix', 'nnetwork', 'nnetworking', 'nneuberger', 'nnew', 'nnewwave', 'nngs', 'nnice', 'nnike', 'nnine', 'nno', 'nnoise', 'nnone', 'nnormal', 'nnot', 'nnote', 'nnow', 'nnumber', 'nnurture', 'nobserves', 'noccasionally', 'node', 'nodejs', 'nof', 'noffers', 'noffice', 'noffices', 'noise', 'noisy', 'nomis', 'non', 'nonce', 'nonconforming', 'nondiscrimination', 'nonenrelevant', 'nonfatal', 'nongoing', 'nonlinear', 'nonprofit', 'nonprofits', 'nontechnical', 'nopen', 'nopenx', 'noperates', 'noperating', 'noperational', 'noperationalization', 'noperations', 'nopportunities', 'nopportunity', 'noptimization', 'noptimize', 'noptimizing', 'noptional', 'noptions', 'noracle', 'noral', 'noregon', 'norganization', 'norganizational', 'norganize', 'norganized', 'norm', 'normal', 'normalising', 'normalization', 'normally', 'norms', 'nors', 'north', 'northeast', 'northern', 'northwest', 'nosql', 'notable', 'notch', 'note', 'notebook', 'notebooks', 'notes', 'nother', 'notice', 'notices', 'notification', 'notifications', 'notify', 'nour', 'noutstanding', 'noutward', 'novel', 'november', 'noverall', 'noversee', 'noverview', 'novi', 'nown', 'nownership', 'nowning', 'npaccar', 'npack', 'npaid', 'npalo', 'nparadigm', 'nparking', 'npart', 'nparticipate', 'nparticipates', 'nparticipating', 'nparticipation', 'npartner', 'npartnering', 'npartners', 'npassion', 'npassionate', 'npast', 'npatient', 'npay', 'npeople', 'npepsico', 'nperform', 'nperformance', 'nperforming', 'nperforms', 'nperiodic', 'nperks', 'nperksn', 'nperksnbenefits', 'nperksngenerous', 'nperksnhealth', 'npersonal', 'npersonalization', 'nperspecta', 'npersuasive', 'npet', 'nph', 'nphd', 'nphysical', 'nphysics', 'npimco', 'nplan', 'nplano', 'nplans', 'nplatform', 'nplatforms', 'nplay', 'nplaying', 'nplaystation', 'nplease', 'nplenty', 'nplus', 'npm18', 'npoised', 'nportfolio', 'nportland', 'nposition', 'npositions', 'npossess', 'npossession', 'npost', 'nposted', 'nposting', 'npotential', 'npowered', 'npra', 'npractical', 'npragmatic', 'npre', 'npredicting', 'nprediction', 'npredictive', 'nprefer', 'nprefered', 'npreference', 'npreferred', 'npreferredn', 'npreferrednexperience', 'npreparation', 'nprepare', 'nprepares', 'npresent', 'npresentation', 'npresenting', 'npresents', 'nprevious', 'nprimary', 'nprincipal', 'nprior', 'nprioritization', 'nprioritize', 'nprioritizing', 'nprivacy', 'nproactively', 'nproblem', 'nprocess', 'nprocessing', 'nproduce', 'nproduct', 'nproduction', 'nprofessional', 'nprofessors', 'nproficiency', 'nproficient', 'nprogramming', 'nproject', 'npromote', 'nprompt', 'nproof', 'npropensity', 'nproper', 'nproposing', 'nprototype', 'nproven', 'nprovide', 'nproviders', 'nprovides', 'nproviding', 'nproximity', 'nps', 'npto', 'npublic', 'npublish', 'npunctuality', 'npursuant', 'npursuing', 'nput', 'npython', 'nqm', 'nquaificaition', 'nqualification', 'nqualifications', 'nqualificationsn', 'nqualificationsnapplications', 'nqualificationsnbasic', 'nqualificationsndata', 'nqualificationsnqualifications', 'nqualificationsnyou', 'nqualified', 'nqualifying', 'nquality', 'nquantifind', 'nquantify', 'nquantifying', 'nquantitative', 'nquery', 'nquestion', 'nquick', 'nr', 'nradiant', 'nraise', 'nraleigh', 'nrandom', 'nrapidly', 'nreach', 'nread', 'nreal', 'nreasonable', 'nreceive', 'nrecent', 'nrecently', 'nrecognized', 'nrecommend', 'nrecommendation', 'nrecommender', 'nrecruiter', 'nrecruiting', 'nred', 'nredjack', 'nredshift', 'nref', 'nreframe', 'nregular', 'nrelated', 'nrelation', 'nrelationship', 'nrelationships', 'nrelentlessly', 'nrelevance', 'nrelevant', 'nrelocation', 'nremain', 'nremote', 'nreport', 'nreporting', 'nreports', 'nrepresenting', 'nreq', 'nreq6316', 'nreqid', 'nrequire', 'nrequired', 'nrequirement', 'nrequirements', 'nrequirementsn', 'nrequirementsnbackground', 'nrequirementsxc2', 'nrequires', 'nrequisition', 'nresearch', 'nresearches', 'nresidency', 'nresourceful', 'nresponsibilities', 'nresponsibilitiesessential', 'nresponsibilitiesn', 'nresponsibilitiesnas', 'nresponsibilitiesnbuild', 'nresponsibilitiesncollaborate', 'nresponsibilitiesnidentify', 'nresponsibilitiesnlead', 'nresponsibilitiesnperform', 'nresponsibilitiesnproactively', 'nresponsibilitiesnresearch', 'nresponsibilitiesnwe', 'nresponsibilitiesxc2', 'nresponsibility', 'nresponsible', 'nresposibilities', 'nrestaurant', 'nresults', 'nretail', 'nretention', 'nretrieve', 'nreview', 'nreviewing', 'nrider', 'nright', 'nrigorously', 'nrising', 'nrobust', 'nrocky', 'nrole', 'nroles', 'nruns', 'ns', 'nsalary', 'nsample', 'nsan', 'nsavviness', 'nschedule', 'nscience', 'nscientific', 'nscoop', 'nscope', 'nsecond', 'nsecondary', 'nsecret', 'nsection', 'nsecurity', 'nsee', 'nseeking', 'nselect', 'nselecting', 'nself', 'nseller', 'nsenior', 'nserve', 'nserved', 'nserver', 'nserves', 'nservice', 'nservices', 'nseveral', 'nsexual', 'nsfarm', 'nshare', 'nshared', 'nshares', 'nsharp', 'nshift', 'nships', 'nshorenstein', 'nshort', 'nshould', 'nshow', 'nsick', 'nsierra', 'nsign', 'nsignificant', 'nsimilar', 'nsimple', 'nsimulation', 'nsit', 'nsitting', 'nsix', 'nsixleaf', 'nskilled', 'nskills', 'nskillsnthis', 'nslack', 'nsleuth', 'nslync', 'nsmart', 'nsms', 'nsnacks', 'nsnc', 'nsnowflake', 'nso', 'nsocial', 'nsocure', 'nsoft', 'nsoftware', 'nsolid', 'nsolution', 'nsolve', 'nsome', 'nsorry', 'nsoundcloud', 'nspaceflight', 'nsparkfund', 'nspecial', 'nspecialization', 'nspecific', 'nspending', 'nspin', 'nspirit', 'nsponsorship', 'nspot', 'nspreading', 'nsql', 'nsqlnmomentum', 'nstandard', 'nstanley', 'nstanza', 'nstaples', 'nstart', 'nstarter', 'nstatistical', 'nstatistics', 'nstay', 'nstaying', 'nstellar', 'nstock', 'nstrategic', 'nstrategize', 'nstrategy', 'nstrength', 'nstrengthening', 'nstrive', 'nstrong', 'nstrongly', 'nstructure', 'nstructured', 'nstudy', 'nsub', 'nsubject', 'nsubstantial', 'nsubstantive', 'nsuccessful', 'nsufficient', 'nsummarize', 'nsummary', 'nsummer', 'nsuperb', 'nsuperior', 'nsupervise', 'nsupervised', 'nsupervisory', 'nsupport', 'nsupporting', 'nsupportive', 'nsupports', 'nsynthesis', 'nsynthesize', 'nsynthetic', 'nsystems', 'ntableau', 'ntag', 'ntakes', 'ntalent', 'ntalk', 'nteam', 'nteamwork', 'ntech', 'ntechnical', 'ntechnically', 'ntechniques', 'ntechnology', 'ntechnologyntechnology', 'ntelework', 'nten', 'nteradata', 'nterm', 'ntest', 'ntesting', 'ntext', 'ntextio', 'nthat', 'nthe', 'nthen', 'nthere', 'nthese', 'nthey', 'nthink', 'nthis', 'nthorough', 'nthree', 'nthrive', 'nthrives', 'nthrough', 'ntied', 'ntime', 'nto', 'ntoday', 'ntogether', 'ntoolbox', 'ntoolkits', 'ntools', 'ntotal', 'ntrack', 'ntrain', 'ntraining', 'ntransform', 'ntranslate', 'ntranslates', 'ntranslating', 'ntransparency', 'ntravel', 'ntremendous', 'ntrilogy', 'ntroubleshoot', 'ntrusting', 'ntwenty', 'ntwice', 'ntwo', 'ntypes', 'ntypical', 'ntypically', 'nu', 'nuances', 'nuber', 'nuclear', 'nudacity', 'nudges', 'null', 'nulta', 'number', 'numbers', 'numeric', 'numerical', 'numerous', 'numo', 'numpy', 'nunassailable', 'nunbounded', 'nuncommongoods', 'nuncover', 'nuncovers', 'nunder', 'nundergraduate', 'nunderstand', 'nunderstanding', 'nunderstands', 'nunifying', 'nunion', 'nunited', 'nunitedhealth', 'nunitedhealthcare', 'nuniversal', 'nuniversally', 'nunlimited', 'nunsupervised', 'nup', 'nurse', 'nurses', 'nurt1', 'nurture', 'nus', 'nusaa', 'nuse', 'nuses', 'nusing', 'nut', 'nutanix', 'nutilize', 'nutilizes', 'nutilizing', 'nv', 'nvacation', 'nvalidate', 'nvalues', 'nvaluing', 'nvariety', 'nventure', 'nverb', 'nverbal', 'nverifies', 'nvery', 'nviagogo', 'nvidia', 'nvirtual', 'nvisa', 'nvisit', 'nvisualize', 'nvoice', 'nwages', 'nwalk', 'nwant', 'nwaste', 'nwe', 'nwealth', 'nweb', 'nweekends', 'nweekly', 'nwell', 'nwellness', 'nwestrock', 'nwework', 'nwhat', 'nwhen', 'nwhether', 'nwhile', 'nwho', 'nwhy', 'nwill', 'nwilling', 'nwillingness', 'nwireless', 'nwith', 'nwithin', 'nwork', 'nworked', 'nworking', 'nworks', 'nworld', 'nworldwide', 'nwrangles', 'nwrite', 'nwriting', 'nwritten', 'nwww', 'nxpo', 'ny', 'nyc', 'nyear', 'nyears', 'nyes', 'nyou', 'nyour', 'nyse', 'nzenreach', 'nzillow', 'nzogsports', 'nzurich', 'obama', 'object', 'objective', 'objectively', 'objectives', 'objects', 'obligated', 'obscured', 'observation', 'observational', 'observer', 'obsess', 'obsessed', 'obsession', 'obstacle', 'obstacles', 'obtain', 'obtained', 'obtaining', 'occasion', 'occasionally', 'occasions', 'occupation', 'occupational', 'occur', 'occurred', 'occurs', 'ocean', 'ocr', 'odc', 'odds', 'odors', 'oem', 'ofccp', 'ofccp_eeo_supplement_final_jrf_qa_508c', 'offense', 'offer', 'offered', 'offering', 'offerings', 'offerncompetitive', 'offers', 'office', 'officen', 'officenqualificationsnnullnadditional', 'officer', 'officers', 'offices', 'officials', 'offline', 'offs', 'offshore', 'ofncare', 'ofnstructured', 'oh', 'ohio', 'oil', 'oklahoma', 'old', 'oldest', 'olympic', 'olympics', 'omaha', 'omd', 'omg', 'omphalos', 'onboard', 'onboarding', 'onenone', 'onenthese', 'ones', 'ongoing', 'online', 'onlineaccommodations', 'onlineapply', 'onlookers', 'onlyntop', 'onshore', 'onsite', 'ontologies', 'ontology', 'onwatch', 'oop', 'oozie', 'op', 'open', 'opening', 'openings', 'openly', 'openlyfearless', 'openness', 'opennlp', 'openshift', 'opentable', 'openx', 'operandi', 'operate', 'operates', 'operating', 'operation', 'operational', 'operationalization', 'operationalize', 'operationalized', 'operationalizing', 'operations', 'operationsnnauto', 'operators', 'opinion', 'opinions', 'opl', 'opportunities', 'opportunitiesnfor', 'opportunity', 'opposing', 'ops', 'optimal', 'optimise', 'optimised', 'optimism', 'optimistic', 'optimization', 'optimizationnto', 'optimizations', 'optimize', 'optimized', 'optimizers', 'optimizes', 'optimizing', 'option', 'optional', 'options', 'oracle', 'oral', 'orally', 'orbitz', 'orchestra', 'orchestrate', 'orchestrated', 'orcle', 'order', 'ordering', 'orders', 'ordinance', 'ordinances', 'oregon', 'oregonlottery', 'org', 'organisation', 'organising', 'organization', 'organizational', 'organizationally', 'organizationn', 'organizationnour', 'organizationnrequired', 'organizationnyeti', 'organizationoutstanding', 'organizations', 'organize', 'organized', 'organizers', 'organizes', 'organizexc2', 'organizing', 'orientation', 'orientationability', 'orientationnexcellent', 'orientationnexperience', 'oriented', 'origin', 'original', 'originate', 'originating', 'orlando', 'os', 'osmo', 'oswego', 'osx', 'otherabout', 'otherdue', 'outcome', 'outcomes', 'outdoors', 'outings', 'outlast', 'outlets', 'outlier', 'outliers', 'outline', 'outlined', 'outlining', 'outlook', 'outnumber', 'outof', 'outperform', 'output', 'outputs', 'outreach', 'outside', 'outsidendata', 'outsized', 'outsourcing', 'outstanding', 'outward', 'outwardinc', 'overall', 'overcome', 'overhead', 'overlooking', 'overlooks', 'oversee', 'overseeing', 'oversight', 'overview', 'overviewn1strategy', 'overviewnas', 'overviewndigital', 'overviewnwe', 'overwhelmed', 'owl', 'owned', 'owner', 'owners', 'ownership', 'owning', 'owns', 'pa', 'paccar', 'pace', 'paced', 'pacific', 'package', 'packages', 'packaging', 'packard', 'packs', 'page', 'pages', 'pageviews', 'paid', 'pain', 'painful', 'pains', 'paint', 'pair', 'paired', 'pairing', 'pal', 'palantir', 'palo', 'paloaltonetworks', 'pandas', 'panel', 'panoramic', 'paper', 'papers', 'paradigm', 'parallel', 'parallels', 'paralympic', 'parameter', 'parameters', 'parametersdirectly', 'parametric', 'paramount', 'parent', 'parental', 'parents', 'pareto', 'paris', 'park', 'parking', 'parks', 'parse', 'parsing', 'participant', 'participantnpursuant', 'participants', 'participate', 'participates', 'participating', 'participation', 'particular', 'particularly', 'parties', 'partitioning', 'partly', 'partner', 'partnered', 'partnering', 'partners', 'partnership', 'partnershipphd', 'partnerships', 'partnersnpreferred', 'partnersnwe', 'parts', 'party', 'pass', 'passed', 'passes', 'passing', 'passion', 'passionate', 'passions', 'passport', 'past', 'patent', 'patented', 'patents', 'paternity', 'path', 'paths', 'patience', 'patient', 'patients', 'pattern', 'patterns', 'paving', 'pay', 'payable', 'payback', 'paycompetitive', 'paying', 'payment', 'payments', 'payors', 'paypal', 'pays', 'pbms', 'pbs', 'pc', 'pca', 'pdf', 'pdfdescribes', 'pdfnhttps', 'pearl', 'peel', 'peer', 'peers', 'peership', 'penn', 'penney', 'pennsylvania', 'pension', 'people', 'pepsi', 'pepsico', 'perceived', 'percent', 'perception', 'perceptually', 'perfect', 'perfection', 'perfectly', 'perform', 'performance', 'performances', 'performant', 'performed', 'performing', 'performs', 'period', 'periodcross', 'periodic', 'periodically', 'periods', 'peripheral', 'periscope', 'perk', 'perkins', 'perks', 'perksn', 'perksnrobust', 'perl', 'permanent', 'permeates', 'permitted', 'perpetration', 'perpetrator', 'perpetrators', 'pers', 'persistence', 'person', 'personable', 'personal', 'personality', 'personalization', 'personalize', 'personalized', 'personalizing', 'personally', 'personas', 'personify', 'personnel', 'persons', 'perspecta', 'perspective', 'perspectives', 'persuasion', 'persuasively', 'pertaining', 'pertains', 'pertinent', 'petabyte', 'petabytes', 'peterbilt', 'petroleum', 'petrophysicist', 'ph', 'pharma', 'pharmaceutical', 'pharmaceuticals', 'pharmacology', 'pharmacy', 'phase', 'phases', 'phd', 'phdat', 'phds', 'phenomena', 'phenomenal', 'philadelphia', 'philanthropy', 'philosophy', 'phishing', 'phoenix', 'phone', 'phones', 'photo', 'photos', 'php', 'phylogenetics', 'physical', 'physician', 'physicians', 'physics', 'physiological', 'physiology', 'pick', 'pickup', 'picture', 'pictures', 'piece', 'pieces', 'pig', 'pillar', 'pilot', 'piloting', 'pilots', 'pimco', 'ping', 'pinpoint', 'pinterest', 'pinterestnwhat', 'pioneer', 'pioneered', 'pioneering', 'pipe', 'pipeline', 'pipelines', 'piracy', 'pitfalls', 'pittsford', 'pivot', 'pivotal', 'pivoted', 'pixel', 'pixels', 'pl', 'place', 'placed', 'placement', 'placements', 'places', 'placing', 'plan', 'planet', 'plann', 'planners', 'planning', 'plannreasonable', 'plano', 'plans', 'plant', 'plants', 'platform', 'platforms', 'platts', 'play', 'playbooks', 'player', 'playernbenefitsn', 'playful', 'playground', 'playing', 'plays', 'playstation', 'plc', 'pleasant', 'pleasanton', 'pleased', 'pledge', 'plenty', 'plot', 'plotly', 'plots', 'ploty', 'plug', 'plumber', 'plus', 'plusexperience', 'plusn', 'plusnabout', 'plusnbenefitsnhealth', 'plusneducation', 'plusnthe', 'plusnwhy', 'plusses', 'pm', 'pmnclosing', 'poc', 'pockets', 'pocs', 'point', 'points', 'poised', 'police', 'policies', 'policiesnthe', 'policy', 'policyeasy', 'policymakers', 'policyn', 'polished', 'political', 'politics', 'pollution', 'poly', 'polygraph', 'pong', 'pool', 'pools', 'poor', 'pop', 'popcorn', 'popular', 'population', 'populations', 'pores', 'port', 'portal', 'portfolio', 'portfolios', 'portions', 'portland', 'pos', 'pose', 'posing', 'position', 'positional', 'positioned', 'positioning', 'positionn', 'positionnkayak', 'positionnthe', 'positions', 'positive', 'positively', 'positives', 'possess', 'possesses', 'possibilities', 'possibility', 'possible', 'possibly', 'post', 'posted', 'poster', 'posters', 'postgraduate', 'postgres', 'postgresql', 'postgress', 'postgressql', 'posting', 'postings', 'posts', 'posture', 'potential', 'potentially', 'pounds', 'power', 'powerbi', 'powered', 'powerful', 'powering', 'powerpivot', 'powerpoint', 'powers', 'ppc', 'ppt', 'pr', 'pra', 'practical', 'practicality', 'practically', 'practice', 'practices', 'practicing', 'practitioner', 'practitioners', 'pragmatic', 'pragmatically', 'pre', 'prebuilt', 'precise', 'precisely', 'precision', 'predict', 'predictability', 'predicted', 'predicting', 'prediction', 'predictions', 'predictive', 'prefer', 'preferable', 'preferably', 'preference', 'preferences', 'preferred', 'preferrednperks', 'preferrednwe', 'preferredxc2', 'pregnancy', 'preliminary', 'prem', 'premier', 'premises', 'premium', 'premiums', 'prep', 'preparation', 'preparations', 'prepare', 'prepared', 'prepares', 'preparing', 'preprints', 'preprocess', 'preprocessing', 'presales', 'preschool', 'prescient', 'prescientedge', 'prescreens', 'prescribe', 'prescribed', 'prescription', 'prescriptive', 'presence', 'present', 'presentation', 'presentational', 'presentations', 'presentationsnqualificationsn', 'presented', 'presenting', 'presents', 'press', 'pressing', 'pressure', 'prestige', 'presto', 'pretty', 'prevent', 'preventing', 'prevention', 'previous', 'previously', 'price', 'prices', 'pricing', 'pride', 'prides', 'primarily', 'primary', 'prime', 'primed', 'principal', 'principals', 'principle', 'principles', 'print', 'printers', 'prior', 'priori', 'priorities', 'prioritiesxc2', 'prioritise', 'prioritization', 'prioritize', 'prioritizing', 'priority', 'priscilla', 'privacy', 'private', 'privately', 'pro', 'proactive', 'proactively', 'proactivendesired', 'probabilistic', 'probabilities', 'probability', 'probable', 'probably', 'probationary', 'probes', 'problem', 'problems', 'problemsimprove', 'problemsms', 'problemsneducation', 'problemsunderstand', 'procedure', 'procedures', 'proceed', 'proceeding', 'process', 'processed', 'processes', 'processesnpreferred', 'processing', 'processingpattern', 'processnaccess', 'procurement', 'produce', 'produced', 'producers', 'produces', 'producing', 'product', 'production', 'productionize', 'productionized', 'productionizing', 'productionnqualificationsn3', 'productive', 'productively', 'productivity', 'productize', 'productnqualificationsn', 'products', 'productsexperience', 'productsn', 'productsnair', 'productsnsample', 'productsnto', 'productsnwhat', 'prof', 'profession', 'professional', 'professionalism', 'professionally', 'professionals', 'professors', 'proficiency', 'proficient', 'proficiently', 'profile', 'profilenmorgan', 'profiles', 'profiling', 'profit', 'profitability', 'profitable', 'profitably', 'profits', 'program', 'programing', 'programmatic', 'programmer', 'programmers', 'programming', 'programmingnnotes', 'programs', 'programspecific', 'progress', 'progresses', 'progressing', 'progression', 'progressive', 'progressively', 'prohibited', 'prohibits', 'project', 'projected', 'projection', 'projections', 'projectors', 'projects', 'prolonged', 'promise', 'promises', 'promising', 'promote', 'promotes', 'promoting', 'promotion', 'promotional', 'promotions', 'prone', 'proof', 'proofpoint', 'proofpointnas', 'proofs', 'propelled', 'propensity', 'proper', 'properly', 'properties', 'property', 'proposal', 'proposals', 'propose', 'proposed', 'proposes', 'proposing', 'proposition', 'propositions', 'proprietary', 'propriety', 'propulsion', 'prospect', 'prospecting', 'prospective', 'prospects', 'prosper', 'protect', 'protected', 'protecting', 'protection', 'protections', 'proteins', 'protocol', 'protocols', 'prototype', 'prototypes', 'prototypesn25', 'prototyping', 'prototypingnpreferred', 'prototypingnyou', 'proud', 'proudly', 'prove', 'proven', 'provide', 'provided', 'provider', 'providers', 'provides', 'providing', 'proving', 'prowess', 'psu', 'psychiatry', 'psychological', 'psychology', 'pto', 'public', 'publication', 'publications', 'publicly', 'publish', 'published', 'publishers', 'publishing', 'pubmed', 'puerto', 'pull', 'pulled', 'pulling', 'pulls', 'pulse', 'purchase', 'purchased', 'purchases', 'purchasing', 'pure', 'purely', 'purpose', 'purposes', 'purposesnon', 'pursing', 'pursuant', 'pursue', 'pursues', 'pursuing', 'pursuit', 'pursuits', 'push', 'pushed', 'pushes', 'pushing', 'puts', 'putting', 'puzzle', 'pwerpoint', 'pymc3', 'pyplot', 'pyspark', 'python', 'pythoninfosys', 'pythonmaster', 'pythonn', 'pythonsignificant', 'pythonstronger', 'pytorch', 'qa', 'qc', 'qlik', 'qliksense', 'qlikview', 'qm', 'quadrant', 'quadruple', 'qualifications', 'qualificationsbasic', 'qualificationsn', 'qualificationsn4', 'qualificationsnbachelor', 'qualificationsnbs', 'qualificationsncompany', 'qualificationsnjoin', 'qualificationsnknowledge', 'qualificationsnph', 'qualificationsnpreferred', 'qualificationsnrequired', 'qualificationsnsignificant', 'qualificationsntransportation', 'qualificationsnwithin', 'qualificationsxef', 'qualified', 'qualify', 'qualitative', 'qualities', 'quality', 'qualityconducting', 'qualityefficiently', 'quant', 'quantatative', 'quantifiable', 'quantifind', 'quantify', 'quantifying', 'quantitate', 'quantitative', 'quantitatively', 'quantities', 'quantity', 'quarter', 'quarterly', 'quasi', 'qubole', 'queries', 'query', 'querying', 'quest', 'question', 'questions', 'queues', 'queuing', 'quick', 'quickly', 'quintuple', 'quite', 'quo', 'qxbranch', 'race', 'radical', 'radically', 'rails', 'raise', 'raised', 'raises', 'raleigh', 'rallies', 'ram', 'ramp', 'ramping', 'random', 'range', 'ranges', 'ranging', 'rank', 'ranked', 'ranking', 'ranks', 'ransomware', 'rapid', 'rapidly', 'rapidminer', 'rapport', 'rare', 'rarely', 'rate', 'rated', 'raters', 'rates', 'ratings', 'rationalize', 'ratios', 'raton', 'rave', 'raw', 'rays', 'rd', 'rdbms', 'rdbs', 'rdf', 'rds', 'reach', 'react', 'reactively', 'read', 'readability', 'readable', 'readily', 'readiness', 'reading', 'reads', 'ready', 'real', 'realistic', 'reality', 'realization', 'realize', 'realized', 'realizing', 'really', 'realm', 'reason', 'reasonable', 'reasonably', 'reasoned', 'reasoning', 'reasons', 'rebuild', 'recalibrate', 'recalibrating', 'recall', 'receive', 'received', 'recent', 'recently', 'recharge', 'recognition', 'recognizable', 'recognize', 'recognized', 'recognizes', 'recognizing', 'recommend', 'recommendation', 'recommendations', 'recommendationstake', 'recommended', 'recommender', 'recommending', 'recommends', 'reconnaissance', 'record', 'recordn', 'records', 'recoveries', 'recovery', 'recruit', 'recruiter', 'recruiters', 'recruiting', 'recruitment', 'recurrent', 'recycling', 'red', 'redefine', 'redefining', 'redis', 'redjack', 'redmond', 'redshift', 'redtoo', 'reduce', 'reducing', 'reduction', 'reductions', 'redux', 'redwood', 'refactoring', 'refereed', 'reference', 'referenced', 'references', 'referral', 'referrals', 'referred', 'refine', 'refinement', 'refiner', 'refineries', 'refining', 'reflect', 'reflected', 'reflection', 'reflects', 'reforming', 'refresh', 'refusing', 'regard', 'regarding', 'regardless', 'regards', 'regence', 'region', 'regional', 'regions', 'registered', 'registrations', 'registries', 'registry', 'regression', 'regressions', 'regs', 'regular', 'regularization', 'regularly', 'regularnlocation', 'regularnnall', 'regulation', 'regulations', 'regulatory', 'rei', 'reign', 'reimagine', 'reimagining', 'reimbursed', 'reimbursement', 'reimbursements', 'reinforcement', 'reinforces', 'reinforcing', 'reinsurance', 'reinvent', 'reinvented', 'reinventing', 'relate', 'related', 'relates', 'relating', 'relation', 'relational', 'relations', 'relationship', 'relationships', 'relationshipsxc2', 'relative', 'relatively', 'relax', 'relaxed', 'release', 'released', 'releases', 'relentless', 'relentlessly', 'relevance', 'relevant', 'reliability', 'reliable', 'reliably', 'reliance', 'reliant', 'reliantly', 'religion', 'religious', 'relish', 'relishes', 'relocate', 'relocated', 'relocating', 'relocation', 'relx', 'rely', 'remain', 'remaining', 'remains', 'remarkable', 'remediate', 'remediation', 'remember', 'remind', 'reminder', 'reminders', 'remodeling', 'remote', 'remotely', 'remotelynbonus', 'remove', 'removed', 'render', 'rendering', 'renewable', 'renewal', 'rental', 'rentals', 'renton', 'reolve', 'reonomy', 'repair', 'repeat', 'repeatability', 'repeatable', 'repeating', 'replace', 'repo', 'report', 'reported', 'reporter', 'reporting', 'reportingearn', 'reportingnjob', 'reports', 'reportsnrelocation', 'reportsnskills', 'repositories', 'repository', 'represent', 'representation', 'representations', 'representative', 'representativeness', 'representatives', 'represents', 'reproducibility', 'reproducible', 'reproducibly', 'repurchase', 'reputation', 'reputations', 'req', 'req181151', 'request', 'requested', 'requestedndisclaimer', 'requesting', 'requests', 'require', 'required', 'requireddevelop', 'requirednadvanced', 'requirednrequired', 'requirement', 'requirements', 'requirementsna', 'requirementsndesigns', 'requirementsnmaster', 'requirementsnnone', 'requirementsnrequired', 'requirementssql', 'requirementwhat', 'requires', 'requiring', 'requisite', 'requisition', 'requisitions', 'research', 'researchbuilding', 'researcher', 'researchers', 'researches', 'researching', 'resembles', 'reserve', 'reserved', 'reserves', 'reserving', 'reservoir', 'reservoirs', 'reset', 'resident', 'residential', 'residents', 'resides', 'residing', 'resilience', 'resilient', 'resnets', 'resolution', 'resolutions', 'resolve', 'resolving', 'resonates', 'resort', 'resorts', 'resource', 'resourceful', 'resources', 'resourcing', 'respect', 'respected', 'respectful', 'respecting', 'respective', 'respectively', 'respond', 'responded', 'responders', 'response', 'responses', 'responsib', 'responsibilities', 'responsibilitiesdevelop', 'responsibilitiesn', 'responsibilitiesndemonstrate', 'responsibilitiesnlead', 'responsibilitiesnwork', 'responsibility', 'responsible', 'responsibly', 'responsive', 'rest', 'restaurant', 'restaurants', 'restful', 'resting', 'reston', 'restoration', 'restore', 'restricted', 'result', 'resulting', 'results', 'resultscommunicate', 'resultsfunctionally', 'resultsn', 'resume', 'resumes', 'retail', 'retailer', 'retailers', 'retain', 'retaining', 'retargeting', 'retention', 'retirement', 'retrain', 'retraining', 'retrieval', 'retrievalbecome', 'retrieves', 'retros', 'retrospective', 'return', 'returned', 'returning', 'reusability', 'reusable', 'reveal', 'revenue', 'revenues', 'review', 'reviewed', 'reviewing', 'reviews', 'revise', 'revitalization', 'revolution', 'revolutionary', 'revolutionize', 'revolutionizing', 'reward', 'rewarded', 'rewarding', 'rewards', 'rewrite', 'rf', 'rfp', 'riak', 'rich', 'richard', 'richardson', 'richer', 'richly', 'richness', 'rico', 'riddles', 'ride', 'rider', 'riders', 'rides', 'ridge', 'right', 'rights', 'rigor', 'rigorious', 'rigorous', 'rise', 'rising', 'risk', 'riskiq', 'risks', 'river', 'rivers', 'rivr', 'rl', 'rmarkdown', 'rn', 'rnn', 'rnns', 'road', 'roadblocks', 'roadmap', 'roadmaps', 'robot', 'robotic', 'robotics', 'robust', 'roc', 'rochester', 'rock', 'roi', 'role', 'rolenas', 'rolenbe', 'rolendigital', 'roleneyeview', 'rolenhow', 'rolensecret', 'rolenthe', 'rolentime', 'rolenuber', 'rolenwe', 'rolenwhat', 'rolenyou', 'rolenyour', 'rolepreferred', 'roles', 'roll', 'rolled', 'rolling', 'rollout', 'rollups', 'roof', 'rooftop', 'room', 'rooms', 'root', 'rooted', 'rosa', 'roseville', 'rotate', 'rotation', 'round', 'routed', 'routes', 'routine', 'routinely', 'routines', 'routing', 'rows', 'rpa', 'rpc', 'rsg', 'rsginc', 'rshiny', 'rss', 'rstudio', 'rtb', 'rtf', 'ruby', 'rule', 'rules', 'run', 'running', 'runs', 'rural', 'russian', 'rust', 's3', 'saas', 'sacramento', 'safe', 'safeguard', 'safeguarding', 'safely', 'safer', 'safety', 'safetynexperiences', 'sagemaker', 'sagemakernis', 'said', 'salad', 'salaried', 'salaries', 'salary', 'sales', 'salesforce', 'salesperson', 'salon', 'salt', 'sample', 'sampled', 'samples', 'sampling', 'samsung', 'san', 'sandwich', 'sanity', 'santa', 'sap', 'sapphire', 'sas', 'sat', 'satellite', 'satisfaction', 'satisfactorily', 'satisfactory', 'satisfied', 'save', 'saved', 'savings', 'savvy', 'say', 'saying', 'says', 'sba', 'sc', 'scala', 'scalability', 'scalable', 'scalanlp', 'scale', 'scaled', 'scaling', 'scarce', 'scatter', 'scattered', 'scenario', 'scenarios', 'scenariosexperience', 'scenes', 'schaumburg', 'schaumburgnother', 'schedule', 'scheduled', 'schedules', 'scheduling', 'schema', 'schemas', 'schemes', 'schizophrenia', 'scholars', 'school', 'schools', 'schuylkill', 'schwab', 'sci', 'science', 'scienceexpertise', 'sciencen', 'sciencendigital', 'sciences', 'scientific', 'scientifically', 'scientist', 'scientistleverage', 'scientistncome', 'scientistnposition', 'scientistnredjack', 'scientistnrequisition', 'scientistnshaw', 'scientistnthe', 'scientistnwe', 'scientistnyou', 'scientists', 'scientistwill', 'scikit', 'scikitlearn', 'scipy', 'scm', 'scoop', 'scoopnfew', 'scoopnfounded', 'scoopnscoop', 'scooter', 'scooters', 'scope', 'scopes', 'scoping', 'score', 'scorecards', 'scores', 'scoring', 'scot', 'scott', 'scouts', 'scrape', 'scraped', 'scraping', 'scrapping', 'scrappy', 'scratch', 'scratched', 'scratching', 'screen', 'screening', 'screens', 'script', 'scripting', 'scripts', 'scrub', 'scrum', 'sdk', 'sdks', 'sdlc', 'sdtm', 'sdvosb', 'se', 'seaborn', 'seamless', 'seamlessly', 'search', 'searches', 'searching', 'season', 'seasonal', 'seasonality', 'seasoned', 'seattle', 'second', 'secondary', 'seconds', 'secret', 'secretn', 'secrets', 'secrurity', 'section', 'sectional', 'sections', 'sector', 'sectors', 'secure', 'secured', 'securely', 'securing', 'securities', 'security', 'seed', 'seeing', 'seek', 'seekers', 'seeking', 'seeks', 'seemingly', 'seen', 'segment', 'segmentation', 'segmentationdevelop', 'segmentationo', 'segmented', 'segments', 'segundo', 'seize', 'select', 'selected', 'selecting', 'selection', 'self', 'selfless', 'sell', 'seller', 'sellers', 'selling', 'sem', 'semantic', 'semantics', 'semester', 'semi', 'seminar', 'seminars', 'send', 'sending', 'senior', 'seniority', 'sense', 'sensing', 'sensitive', 'sensitivity', 'sensor', 'sensors', 'sensory', 'sentiment', 'seo', 'separated', 'separating', 'sequence', 'sequencing', 'sequential', 'serializing', 'series', 'seriously', 'serta', 'serve', 'served', 'serveng', 'server', 'servers', 'serves', 'service', 'servicenow', 'services', 'servicesnyour', 'servicing', 'serving', 'sessions', 'set', 'sets', 'setsn25', 'setsncore', 'setsndata', 'setsprovide', 'setting', 'settings', 'settle', 'setup', 'seven', 'seventh', 'sex', 'sexual', 'sf', 'sf1', 'sfdc', 'shake', 'shaking', 'shape', 'shapes', 'shaping', 'share', 'shared', 'shareholders', 'sharepoint', 'shares', 'sharing', 'sharp', 'sharpen', 'sharpening', 'shaw', 'sheets', 'shell', 'shepherding', 'shield', 'shift', 'shining', 'shiny', 'ship', 'shipped', 'shipping', 'shirt', 'shirts', 'shocks', 'shogun', 'shooting', 'shop', 'shopper', 'shoppers', 'shopping', 'shops', 'shorelines', 'shorenstein', 'short', 'shortlist', 'shorts', 'shot', 'shoulders', 'shouldn', 'showcase', 'shower', 'showing', 'shown', 'shows', 'shy', 'siamese', 'sick', 'sided', 'sifts', 'sightseeing', 'sigir', 'sign', 'signal', 'signalfire', 'signals', 'signed', 'significance', 'significanceexperience', 'significanceprovide', 'significant', 'significantly', 'signs', 'silicon', 'silos', 'silverrail', 'similar', 'similarities', 'similarity', 'similarly', 'similiar', 'simmons', 'simple', 'simplerleading', 'simplest', 'simplicity', 'simplified', 'simplify', 'simplifying', 'simply', 'simulate', 'simulation', 'simulations', 'simultaneous', 'simultaneouslndesired', 'simultaneously', 'sincerely', 'singapore', 'single', 'singular', 'singularly', 'sisense', 'sister', 'sit', 'site', 'sites', 'sits', 'sitting', 'situation', 'situations', 'sixleaf', 'sizable', 'size', 'sizeable', 'sized', 'sizes', 'sizing', 'skepticism', 'skill', 'skilled', 'skillful', 'skills', 'skillset', 'skillsexcellent', 'skillsn', 'skillsnabout', 'skillsncreative', 'skillsnexperience', 'skillsnnice', 'skillsnpreferred', 'skillsnsony', 'skillsntechnical', 'skillsproficiency', 'skillsstrong', 'skillssuperior', 'skillsxef', 'sklearn', 'sky', 'skype', 'skyrocketed', 'sl', 'slack', 'sleep', 'sleeptracker', 'sleeves', 'slide', 'slides', 'slowing', 'slq', 'slync', 'sm', 'small', 'smaller', 'smart', 'smartbed', 'smarter', 'smartest', 'smartview', 'sme', 'smes', 'smile', 'smiles', 'smoke', 'smooth', 'smoothly', 'sms', 'sn1', 'snacks', 'snag', 'snapchat', 'snapchatxe2', 'snc', 'sne', 'snowflake', 'snowflakensnowflake', 'soak', 'soap', 'social', 'socialize', 'socializing', 'socials', 'societal', 'societas', 'societies', 'society', 'socioeconomic', 'sociology', 'sociotechnical', 'sockeye', 'socure', 'sofia', 'softbank', 'softly', 'softvision', 'software', 'soho', 'soil', 'sojern', 'sold', 'sole', 'solely', 'solicit', 'solid', 'solidifying', 'solo', 'solopreneurs', 'solr', 'solution', 'solutioning', 'solutions', 'solutionsdemonstrated', 'solutionsn', 'solutionsnminimum', 'solvable', 'solve', 'solved', 'solver', 'solvernbonus', 'solvers', 'solves', 'solving', 'som', 'somebody', 'sonoma', 'sony', 'soon', 'sophisticated', 'sophistication', 'sops', 'sought', 'sound', 'soundcloud', 'sounds', 'source', 'sourced', 'sources', 'sourcescleanses', 'sourcessupport', 'sourcing', 'south', 'southeast', 'space', 'spaceflight', 'spacen', 'spaces', 'spacy', 'spam', 'span', 'spanish', 'spanning', 'spans', 'sparing', 'spark', 'sparkexperience', 'sparkfund', 'sparkml', 'sparkr', 'sparql', 'sparse', 'spatial', 'speak', 'speaker', 'speaking', 'speaks', 'spearhead', 'special', 'specialist', 'specialists', 'specialities', 'specialization', 'specializations', 'specialize', 'specialized', 'specializes', 'specializing', 'specially', 'specialty', 'specific', 'specifically', 'specification', 'specifications', 'specified', 'specify', 'specifying', 'specs', 'spectral', 'spectrum', 'speech', 'speed', 'spend', 'spending', 'spends', 'spent', 'speyer', 'spglobal', 'spicy', 'spin', 'spinnspin', 'spinoff', 'spirit', 'spirt', 'split', 'splunk', 'spoc', 'spoken', 'spokenncurrent', 'spokesperson', 'sponsor', 'sponsored', 'sponsoring', 'sponsors', 'sponsorship', 'sport', 'sporting', 'sports', 'spot', 'spotfire', 'spotify', 'spreadsheet', 'spring', 'springfield', 'springs', 'sprint', 'sps', 'spss', 'sql', 'sqln', 'sqlproficient', 'sqoop', 'square', 'squarely', 'squarenyou', 'squares', 'squarespace', 'squarespacensquarespace', 'squareup', 'sr', 'srilm', 'ssa', 'ssas', 'ssh', 'ssis', 'ssu', 'st', 'stability', 'stable', 'stack', 'stacked', 'stackoverflow', 'stacks', 'stadium', 'staff', 'staffed', 'staffing', 'stage', 'stages', 'stake', 'stakeholder', 'stakeholders', 'stakeholdersn25', 'stakeholdersngot', 'stakeholdersnminimum', 'stakeholdersnusing', 'stalking', 'stan', 'stand', 'standalone', 'standard', 'standardize', 'standardized', 'standards', 'standing', 'standingn', 'standpoint', 'stanford', 'stanley', 'stanza', 'stanzanhundreds', 'staples', 'star', 'stardog', 'start', 'started', 'starter', 'starters', 'starting', 'starts', 'startup', 'startups', 'stat', 'stata', 'state', 'stated', 'statement', 'statementnbrigham', 'statements', 'states', 'statesnjob', 'statewide', 'static', 'station', 'stationless', 'stations', 'statistic', 'statistica', 'statistical', 'statistically', 'statisticians', 'statistics', 'stats', 'statsmodels', 'status', 'statusfull', 'stay', 'staying', 'stays', 'steaks', 'stem', 'step', 'stephanie', 'steps', 'stereotypes', 'steward', 'stewarding', 'stewardship', 'sticks', 'stimulating', 'stipend', 'stitch', 'stitching', 'stochastic', 'stock', 'stocked', 'stone', 'stoop', 'stop', 'storage', 'storages', 'store', 'stored', 'stores', 'stories', 'storing', 'storm', 'story', 'storycapacity', 'storyteller', 'storytelling', 'straight', 'strain', 'strategic', 'strategically', 'strategics', 'strategies', 'strategiesdevelop', 'strategiesdocumenting', 'strategiesnbenefits', 'strategists', 'strategizes', 'strategy', 'strategyndevelops', 'stream', 'streaming', 'streamline', 'streamlined', 'streamlines', 'streams', 'streeam', 'street', 'streets', 'strength', 'strengthen', 'strengthening', 'strengths', 'stress', 'stretch', 'strict', 'strides', 'strings', 'strive', 'strives', 'striving', 'strong', 'stronger', 'strongest', 'strongly', 'structural', 'structure', 'structured', 'structures', 'structuring', 'struggle', 'student', 'studentninternships', 'students', 'studies', 'studiesndepartment', 'studio', 'studios', 'study', 'studying', 'stuff', 'stunning', 'stupid', 'style', 'styles', 'styling', 'stylish', 'stylist', 'stylists', 'sub', 'subcontractor', 'subcontracts', 'subcultures', 'subgroups', 'subject', 'subjective', 'submission', 'submissions', 'submit', 'submitted', 'subordinate', 'subordinates', 'subscriber', 'subscribers', 'subscription', 'subscriptions', 'subsequent', 'subsequently', 'subsidiaries', 'subsidiary', 'substance', 'substances', 'substantial', 'substitute', 'substituted', 'subsurface', 'subtle', 'suburbann', 'succeed', 'succeeding', 'succeednrequirements', 'success', 'successes', 'successful', 'successfully', 'successn', 'successnas', 'successnnone', 'succinctly', 'sudden', 'suffering', 'sufficient', 'sugar', 'suggest', 'suggestion', 'suggestions', 'suitability', 'suitable', 'suite', 'suited', 'suites', 'sum', 'summaries', 'summarization', 'summarizations', 'summarize', 'summarizes', 'summarizing', 'summary', 'summarynwe', 'summer', 'summit', 'sunny', 'sunnyvale', 'superficially', 'superior', 'supervised', 'supervision', 'supervisor', 'supervisors', 'supervisory', 'supplement', 'supplementary', 'suppliers', 'supplies', 'supply', 'support', 'supported', 'supporting', 'supportive', 'supports', 'sure', 'surface', 'surfaces', 'surfacing', 'surgeons', 'surgeries', 'surgery', 'surgical', 'surprised', 'surprising', 'surrounded', 'surrounding', 'surroundings', 'survey', 'surveys', 'survival', 'sustain', 'sustainability', 'sustainable', 'sustainably', 'sustained', 'svb', 'svm', 'svms', 'svn', 'svp', 'sw', 'swagger', 'swapnil', 'sweat', 'sweden', 'swells', 'swift', 'switch', 'switching', 'swoodoo', 'sycamore', 'sydney', 'symbol', 'sync', 'syndicated', 'synergies', 'synergy', 'syntactic', 'synthesis', 'synthesize', 'synthesized', 'synthesizes', 'synthesizing', 'systematic', 'systematically', 'systemic', 'systemminimum', 'systems', 'systemsbuild', 'systemsproficiency', 'systemsxc2', 't2t', 'table', 'tableau', 'tableauncompany', 'tablenmode', 'tables', 'tablesnanalytical', 'tabulate', 'tackle', 'tackles', 'tackling', 'taco', 'tactic', 'tactical', 'tactically', 'tactics', 'tag', 'tagging', 'tagline', 'tail', 'tailor', 'tailored', 'takecareof', 'taken', 'takes', 'taking', 'talent', 'talentacquisition', 'talented', 'talents', 'talk', 'talking', 'talks', 'talksa', 'tangible', 'tank', 'tap', 'tapingo', 'tapping', 'target', 'targeted', 'targeting', 'task', 'tasked', 'tasking', 'tasks', 'taught', 'tax', 'taxa', 'taxes', 'taxonomy', 'tb', 'tcs', 'teach', 'teacher', 'teachers', 'teaching', 'team', 'teamed', 'teamextremely', 'teammate', 'teammates', 'teamnamazon', 'teamnanalytics', 'teamnat', 'teamnbuild', 'teamnjyve', 'teamnour', 'teamnteamwork', 'teamnthe', 'teamntime', 'teamnuber', 'teamnunder', 'teamnwe', 'teamnyou', 'teams', 'teamsa', 'teamsexperience', 'teamsnbasic', 'teamsninternships', 'teamsnmarketplace', 'teamsnthe', 'teamsto', 'teamstrong', 'teamwork', 'tech', 'techcrunch', 'technical', 'technically', 'technics', 'technique', 'techniques', 'techniquesnminimum', 'techniquesnour', 'techniquesnthe', 'techniquesrecommend', 'technological', 'technologically', 'technologies', 'technologiesn', 'technologiesnadditional', 'technologiesncompany', 'technologiesstay', 'technologist', 'technologists', 'technology', 'technologymanage', 'technologynmorgan', 'technologynresponsibilities', 'technologysufficient', 'telco', 'telecom', 'telecommunication', 'telecommunications', 'telecommute', 'telecommuter', 'telecommuters', 'telecommuting', 'telemetry', 'telephone', 'television', 'tell', 'telling', 'tells', 'temp', 'tempe', 'templates', 'temporal', 'temporary', 'tennis', 'tens', 'tensor', 'tensorflow', 'tenure', 'terabyte', 'terabytes', 'teradata', 'teradataexcellent', 'term', 'termimpact', 'terminal', 'termination', 'terminology', 'terminologyability', 'terminologyworks', 'terms', 'territories', 'territory', 'test', 'testable', 'tested', 'testing', 'testingnemail', 'tests', 'texas', 'text', 'textbooks', 'textio', 'texts', 'textual', 'tf', 'th', 'thank', 'thanks', 'theano', 'theft', 'theme', 'themwe', 'theorem', 'theoretical', 'theories', 'theorist', 'theory', 'therapeutic', 'therapeutics', 'therapies', 'therapist', 'thesis', 'thing', 'things', 'think', 'thinker', 'thinkers', 'thinkerswe', 'thinking', 'thinks', 'thorough', 'thoroughly', 'thought', 'thoughtful', 'thousand', 'thousands', 'threat', 'threats', 'thresholds', 'thrill', 'thrilled', 'thrilling', 'thrive', 'thrives', 'thriving', 'throughput', 'thursday', 'tibco', 'tick', 'ticker', 'ticket', 'tickets', 'tide', 'tidy', 'tidyr', 'tidyverse', 'tie', 'tied', 'tier', 'ties', 'tight', 'tightly', 'time', 'timeabout', 'timecontractor', 'timeframe', 'timeline', 'timelines', 'timeliness', 'timely', 'timen', 'timenprescient', 'timenrelocation', 'timentravel', 'timenwhat', 'timeqxbranch', 'times', 'timethe', 'tinker', 'tinton', 'tiny', 'tips', 'tipsnwe', 'tirelessly', 'tishman', 'titan', 'title', 'tl1', 'tm', 'tmus', 'tn', 'tobacco', 'today', 'tokenization', 'tokyonrequired', 'tolerance', 'tolerate', 'tolerated', 'tomorrow', 'tomorrownthe', 'tonenhance', 'tonnes', 'tons', 'took', 'tool', 'toolboxes', 'tooling', 'toolkit', 'toolkits', 'tools', 'toolset', 'toolsndesired', 'toolsneo', 'toolsnpreferred', 'toolsnqualifications', 'toolssolid', 'toolsxc2', 'topic', 'topics', 'topline', 'torch', 'total', 'totaling', 'touch', 'touches', 'touching', 'touchpoint', 'touchpoints', 'tough', 'toughest', 'tour', 'tournaments', 'tours', 'towers', 'town', 'toxic', 'toyota', 'track', 'tracked', 'tracking', 'traction', 'trade', 'traded', 'trademark', 'trademarks', 'tradeoffs', 'trading', 'traditional', 'traditionally', 'traffic', 'trail', 'trailblazers', 'train', 'trained', 'training', 'trainingexecuting', 'trainings', 'traits', 'transacting', 'transaction', 'transactional', 'transactions', 'transfer', 'transferable', 'transferring', 'transfers', 'transform', 'transformation', 'transformational', 'transformations', 'transformationsas', 'transformative', 'transforming', 'transforms', 'transgender', 'transit', 'transition', 'transitioning', 'translate', 'translates', 'translating', 'translation', 'transliteration', 'transmission', 'transparency', 'transparent', 'transparently', 'transportation', 'travel', 'traveldoo', 'traveler', 'travelers', 'traveling', 'travelndesired', 'travelocity', 'travelu', 'traversing', 'treading', 'treat', 'treated', 'treating', 'treatment', 'treatments', 'tree', 'trees', 'tremendous', 'tremendously', 'trend', 'trending', 'trends', 'trendsanalyzing', 'trendsxc2', 'tri', 'triage', 'trial', 'trials', 'tribe', 'tries', 'triggers', 'trillion', 'trilogy', 'trip', 'triple', 'trips', 'trivago', 'trivally', 'trivial', 'trouble', 'troubleshoot', 'troubleshooting', 'troves', 'truck', 'trucking', 'trucks', 'true', 'truly', 'trust', 'trusted', 'trusting', 'truth', 'try', 'trying', 'ts', 'tsql', 'tuesday', 'tuition', 'tune', 'tuning', 'turn', 'turnaround', 'turned', 'turning', 'turns', 'tv', 'tvs', 'tweak', 'twilio', 'twitter', 'tx', 'type', 'types', 'typescript', 'typical', 'typically', 'uber', 'ubernabout', 'uberpool', 'uberx', 'uc', 'udacity', 'ui', 'uild', 'ukraine', 'ulta', 'ultimate', 'ultimately', 'unable', 'unaided', 'unanticipated', 'unapproved', 'unasked', 'unauthorized', 'unavailable', 'unbelievably', 'unbiased', 'uncertainty', 'uncharted', 'uncleansed', 'uncommon', 'uncommongoods', 'unconventional', 'uncover', 'uncovering', 'undefined', 'underbelly', 'undergoing', 'undergradinternships', 'undergraduate', 'underlies', 'underlying', 'underneath', 'undernuncertainty', 'underperforming', 'underpin', 'underpinnings', 'underrepresented', 'understand', 'understandable', 'understanding', 'understands', 'understood', 'undertake', 'undertaken', 'undertaking', 'underwriting', 'undue', 'unearth', 'unemployment', 'unexpected', 'unfamiliar', 'unfurnished', 'unicorns', 'unified', 'uniformed', 'uniformity', 'unify', 'unimagined', 'union', 'unions', 'unique', 'uniquely', 'uniqueness', 'unison', 'unit', 'united', 'unitedhealth', 'unites', 'units', 'univariate', 'universal', 'universally', 'universe', 'universities', 'university', 'unix', 'unknown', 'unknowns', 'unl', 'unlawful', 'unleashing', 'unless', 'unlikely', 'unlimited', 'unlock', 'unlocking', 'unlocks', 'unmatched', 'unmet', 'unnecessary', 'unparalleled', 'unprecedented', 'unpredictable', 'unquestioned', 'unrelated', 'unrivaled', 'unsecured', 'unseen', 'unsolicited', 'unsolved', 'unstructured', 'unsupervised', 'untapped', 'unusually', 'unwavering', 'unwilling', 'unwind', 'upbeat', 'upcoming', 'update', 'updated', 'updates', 'updating', 'upfront', 'upgrade', 'upgrades', 'upholding', 'uploaded', 'upnjoin', 'upper', 'upside', 'upstream', 'uptick', 'urban', 'urgency', 'urgent', 'urgently', 'us_employment_compliance', 'usa', 'usaa', 'usable', 'usage', 'usanminimum', 'usd', 'use', 'used', 'useful', 'usemploymentcompliance', 'user', 'users', 'uses', 'usher', 'usinfosys', 'using', 'usingprogramming', 'usnamplion', 'usnmicrosoft', 'usnprimary', 'usnthe', 'usnwe', 'usstratcom', 'ustranscom', 'usually', 'utah', 'utica', 'utilities', 'utility', 'utilization', 'utilize', 'utilized', 'utilizes', 'utilizing', 'utilizingapplicable', 'utm_medium', 'utm_source', 'ux', 'v1', 'va', 'vacancies', 'vacation', 'vacations', 'vague', 'valid', 'validate', 'validated', 'validating', 'validation', 'validationexperience', 'validity', 'valley', 'valuable', 'value', 'valued', 'values', 'valuesnacross', 'valuesnour', 'vanemployment', 'vanishing', 'variable', 'variables', 'variance', 'variancecollaborate', 'variation', 'variational', 'varied', 'varies', 'variety', 'various', 'vary', 'varying', 'vast', 'vastly', 'vba', 'vc', 'vcs', 've', 'vector', 'vectorizing', 'vectors', 'vehicle', 'vehicles', 'velocity', 'vendor', 'vendors', 'venrock', 'venture', 'ventures', 'verb', 'verbal', 'verbally', 'verbalnadditional', 'verbalnbonus', 'verification', 'verified', 'verifies', 'verify', 'verifying', 'verily', 'verizon', 'vermont', 'versa', 'versant', 'versatile', 'versatility', 'versed', 'version', 'versioning', 'versus', 'vertica', 'vertical', 'verticals', 'vet', 'veteran', 'veterann41476br', 'veterannwaste', 'veterans', 'vets', 'vetsnzurich', 'vh1', 'viability', 'viabilitynyou', 'viable', 'viacom', 'viagogo', 'vibrant', 'vice', 'victim', 'victories', 'video', 'videoiq', 'videos', 'view', 'viewability', 'viewable', 'viewer', 'viewers', 'viewing', 'viewpoints', 'views', 'vigilant', 'village', 'violate', 'violations', 'violence', 'virginia', 'virtual', 'virtualization', 'virtually', 'virtue', 'virtues', 'viruses', 'visa', 'visas', 'visibility', 'visible', 'vision', 'visionaries', 'visionary', 'visionpush', 'visit', 'visitation', 'visiting', 'visits', 'visual', 'visualisations', 'visualization', 'visualizations', 'visualizationsexperience', 'visualizationstrong', 'visualizationwhat', 'visualize', 'visualizes', 'visualizing', 'visually', 'visuals', 'vital', 'vitamin', 'vitamins', 'vizio', 'vlookup', 'vms', 'vmware', 'voice', 'voices', 'voiding', 'volume', 'volumes', 'volunteer', 'volunteering', 'volunteerism', 'vosb', 'voscal', 'vowpal', 'vp', 'vps', 'vr', 'vs', 'vudu', 'w2', 'wa', 'wabbit', 'wacker', 'wagging', 'wait', 'waiting', 'waitr', 'waitrapp', 'wakefield', 'walk', 'walking', 'wall', 'walled', 'wallet', 'walls', 'walmart', 'walmartlabs', 'want', 'wanted', 'wants', 'warehouse', 'warehouses', 'warehousing', 'warehousingdata', 'warn', 'warner', 'warning', 'warrant', 'warranties', 'warranty', 'warrior', 'washington', 'waste', 'wastengraduate', 'water', 'waterfall', 'waterfront', 'waters', 'watershed', 'watson', 'waukesha', 'wave', 'way', 'waynrequired', 'ways', 'wdatpeppresnmicrosoft', 'wdatpred', 'weaklings', 'wealth', 'wear', 'wearable', 'weather', 'web', 'webrtc', 'webscraping', 'website', 'websites', 'websockets', 'wednesday', 'wednesdays', 'week', 'weekday', 'weekends', 'weekly', 'weeks', 'weighted', 'weka', 'welcome', 'welcomed', 'welcomes', 'welcoming', 'welding', 'wellbeing', 'wellness', 'wellnwhat', 'west', 'westlake', 'westrock', 'wetlands', 'wework', 'wfh', 'wfs', 'whatsapp', 'whd', 'whilst', 'white', 'whiz', 'wholesome', 'wholly', 'wide', 'widely', 'wider', 'widespread', 'wild', 'wildlife', 'williams', 'willing', 'willingness', 'win', 'windowing', 'windows', 'winners', 'winning', 'wipro', 'wire', 'wireless', 'wireline', 'wisconsin', 'wisdom', 'wish', 'withdraw', 'wizard', 'wm', 'wolferman', 'women', 'won', 'worcester', 'word', 'word2vec', 'words', 'work', 'workday', 'worked', 'worker', 'workers', 'workersdevelop', 'workflow', 'workflows', 'workforce', 'workforcenkey', 'working', 'workings', 'workload', 'workn', 'workplace', 'works', 'workshops', 'workspace', 'world', 'worldgrid', 'worldline', 'worldnat', 'worldwide', 'worldxe2', 'worth', 'wotif', 'wrangle', 'wrangler', 'wrangling', 'wrapped', 'write', 'writers', 'writing', 'written', 'writtenproven', 'wrk', 'wwe', 'www', 'x80', 'x81ciency', 'x81eld', 'x81nd', 'x81ndings', 'x81table', 'x82', 'x83', 'x84', 'x8bthis', 'x8bwe', 'x90if', 'x90paced', 'x93', 'x93august', 'x93minorities', 'x94', 'x9414', 'x94a', 'x94and', 'x94by', 'x94combined', 'x94cryptocurrencies', 'x94e', 'x94have', 'x94how', 'x94including', 'x94is', 'x94it', 'x94no', 'x94not', 'x94stands', 'x94such', 'x94supporting', 'x94the', 'x94to', 'x94typically', 'x94unlocking', 'x94we', 'x94you', 'x98', 'x98big', 'x98own', 'x98real', 'x98think', 'x99', 'x99d', 'x99ll', 'x99re', 'x99s', 'x99t', 'x99ve', 'x9c', 'x9cbang', 'x9cbest', 'x9cbig', 'x9cchristmas', 'x9ccustomer', 'x9cget', 'x9chave', 'x9chr', 'x9cinnovate', 'x9clive', 'x9cmachine', 'x9cmake', 'x9cpassion', 'x9cpeople', 'x9cplant', 'x9cpragmatism', 'x9cprovide', 'x9cquality', 'x9creasonable', 'x9crivr', 'x9cscientific', 'x9cscorecards', 'x9cstem', 'x9cstorytelling', 'x9csubject', 'x9csurge', 'x9cteam', 'x9cthe', 'x9ctop', 'x9ctraditional', 'x9cvirtual', 'x9cwe', 'x9cwhole', 'x9cwhy', 'x9cwin', 'x9cwork', 'x9cwow', 'x9cwowing', 'x9d', 'x9dcollaborative', 'x9dnrequired', 'xa0', 'xa2', 'xa6', 'xa6and', 'xa6apple', 'xa6curious', 'xa6na', 'xa6protect', 'xa6rapidly', 'xa7', 'xa8ve', 'xa9', 'xa9al', 'xa9cor', 'xac', 'xae', 'xafve', 'xb7', 'xb7experience', 'xb7identify', 'xb7knowledge', 'xbb', 'xbf', 'xbox', 'xc2', 'xc3', 'xe2', 'xef', 'xgboost', 'xp', 'xpo', 'yards', 'year', 'yeara', 'yearas', 'yearcollects', 'yeardescription', 'yearjob', 'yearlrs', 'yearnas', 'years', 'yearsexperience', 'yearsummary', 'yearthe', 'yeartitle', 'yearworking', 'yes', 'yesnjob', 'yesnwork', 'yeti', 'yield', 'york', 'yorkn', 'youn', 'youna', 'young', 'younyou', 'youtube', 'yrs', 'yrsnposition', 'zenreach', 'zero', 'zeus', 'zf', 'zheng', 'zillow', 'zones', 'zoom', 'zuckerberg', 'zurich']\n"
     ]
    }
   ],
   "source": [
    "print(vect.get_feature_names())"
   ]
  },
  {
   "cell_type": "code",
   "execution_count": 18,
   "metadata": {},
   "outputs": [
    {
     "name": "stdout",
     "output_type": "stream",
     "text": [
      "  (0, 233)\t1\n",
      "  (0, 671)\t1\n",
      "  (0, 712)\t1\n",
      "  (0, 940)\t1\n",
      "  (0, 1498)\t1\n",
      "  (0, 1556)\t1\n",
      "  (0, 1642)\t1\n",
      "  (0, 1733)\t1\n",
      "  (0, 2123)\t1\n",
      "  (0, 2189)\t1\n",
      "  (0, 2225)\t1\n",
      "  (0, 2564)\t1\n",
      "  (0, 2698)\t1\n",
      "  (0, 3049)\t2\n",
      "  (0, 3080)\t1\n",
      "  (0, 3240)\t1\n",
      "  (0, 3267)\t1\n",
      "  (0, 3374)\t1\n",
      "  (0, 3477)\t1\n",
      "  (0, 3594)\t1\n",
      "  (0, 3603)\t1\n",
      "  (0, 3747)\t1\n",
      "  (0, 3860)\t1\n",
      "  (0, 3871)\t1\n",
      "  (0, 4433)\t1\n",
      "  :\t:\n",
      "  (425, 9599)\t1\n",
      "  (425, 9605)\t1\n",
      "  (425, 9637)\t1\n",
      "  (425, 9739)\t1\n",
      "  (425, 9767)\t1\n",
      "  (425, 9802)\t1\n",
      "  (425, 9812)\t2\n",
      "  (425, 9845)\t2\n",
      "  (425, 9874)\t1\n",
      "  (425, 9883)\t1\n",
      "  (425, 9924)\t1\n",
      "  (425, 9944)\t1\n",
      "  (425, 9983)\t1\n",
      "  (425, 10005)\t1\n",
      "  (425, 10053)\t1\n",
      "  (425, 10127)\t1\n",
      "  (425, 10151)\t6\n",
      "  (425, 10157)\t1\n",
      "  (425, 10161)\t1\n",
      "  (425, 10165)\t1\n",
      "  (425, 10189)\t5\n",
      "  (425, 10202)\t2\n",
      "  (425, 10238)\t3\n",
      "  (425, 10309)\t5\n",
      "  (425, 10323)\t2\n"
     ]
    }
   ],
   "source": [
    "print(dtm)"
   ]
  },
  {
   "cell_type": "code",
   "execution_count": 19,
   "metadata": {},
   "outputs": [],
   "source": [
    "#get word count for each job listing\n",
    "dtm = pd.DataFrame(dtm.todense(),columns=vect.get_feature_names())"
   ]
  },
  {
   "cell_type": "code",
   "execution_count": 20,
   "metadata": {},
   "outputs": [
    {
     "data": {
      "text/html": [
       "<div>\n",
       "<style scoped>\n",
       "    .dataframe tbody tr th:only-of-type {\n",
       "        vertical-align: middle;\n",
       "    }\n",
       "\n",
       "    .dataframe tbody tr th {\n",
       "        vertical-align: top;\n",
       "    }\n",
       "\n",
       "    .dataframe thead th {\n",
       "        text-align: right;\n",
       "    }\n",
       "</style>\n",
       "<table border=\"1\" class=\"dataframe\">\n",
       "  <thead>\n",
       "    <tr style=\"text-align: right;\">\n",
       "      <th></th>\n",
       "      <th>00</th>\n",
       "      <th>000</th>\n",
       "      <th>000npay</th>\n",
       "      <th>02115</th>\n",
       "      <th>03</th>\n",
       "      <th>0356</th>\n",
       "      <th>04</th>\n",
       "      <th>062</th>\n",
       "      <th>06366</th>\n",
       "      <th>08</th>\n",
       "      <th>...</th>\n",
       "      <th>zenreach</th>\n",
       "      <th>zero</th>\n",
       "      <th>zeus</th>\n",
       "      <th>zf</th>\n",
       "      <th>zheng</th>\n",
       "      <th>zillow</th>\n",
       "      <th>zones</th>\n",
       "      <th>zoom</th>\n",
       "      <th>zuckerberg</th>\n",
       "      <th>zurich</th>\n",
       "    </tr>\n",
       "  </thead>\n",
       "  <tbody>\n",
       "    <tr>\n",
       "      <th>0</th>\n",
       "      <td>0</td>\n",
       "      <td>0</td>\n",
       "      <td>0</td>\n",
       "      <td>0</td>\n",
       "      <td>0</td>\n",
       "      <td>0</td>\n",
       "      <td>0</td>\n",
       "      <td>0</td>\n",
       "      <td>0</td>\n",
       "      <td>0</td>\n",
       "      <td>...</td>\n",
       "      <td>0</td>\n",
       "      <td>0</td>\n",
       "      <td>0</td>\n",
       "      <td>0</td>\n",
       "      <td>0</td>\n",
       "      <td>0</td>\n",
       "      <td>0</td>\n",
       "      <td>0</td>\n",
       "      <td>0</td>\n",
       "      <td>0</td>\n",
       "    </tr>\n",
       "    <tr>\n",
       "      <th>1</th>\n",
       "      <td>0</td>\n",
       "      <td>0</td>\n",
       "      <td>0</td>\n",
       "      <td>0</td>\n",
       "      <td>0</td>\n",
       "      <td>0</td>\n",
       "      <td>0</td>\n",
       "      <td>0</td>\n",
       "      <td>0</td>\n",
       "      <td>0</td>\n",
       "      <td>...</td>\n",
       "      <td>0</td>\n",
       "      <td>0</td>\n",
       "      <td>0</td>\n",
       "      <td>0</td>\n",
       "      <td>0</td>\n",
       "      <td>0</td>\n",
       "      <td>0</td>\n",
       "      <td>0</td>\n",
       "      <td>0</td>\n",
       "      <td>0</td>\n",
       "    </tr>\n",
       "    <tr>\n",
       "      <th>2</th>\n",
       "      <td>0</td>\n",
       "      <td>0</td>\n",
       "      <td>0</td>\n",
       "      <td>0</td>\n",
       "      <td>0</td>\n",
       "      <td>0</td>\n",
       "      <td>0</td>\n",
       "      <td>0</td>\n",
       "      <td>0</td>\n",
       "      <td>0</td>\n",
       "      <td>...</td>\n",
       "      <td>0</td>\n",
       "      <td>0</td>\n",
       "      <td>0</td>\n",
       "      <td>0</td>\n",
       "      <td>0</td>\n",
       "      <td>0</td>\n",
       "      <td>0</td>\n",
       "      <td>0</td>\n",
       "      <td>0</td>\n",
       "      <td>0</td>\n",
       "    </tr>\n",
       "    <tr>\n",
       "      <th>3</th>\n",
       "      <td>0</td>\n",
       "      <td>0</td>\n",
       "      <td>0</td>\n",
       "      <td>0</td>\n",
       "      <td>0</td>\n",
       "      <td>0</td>\n",
       "      <td>0</td>\n",
       "      <td>0</td>\n",
       "      <td>0</td>\n",
       "      <td>0</td>\n",
       "      <td>...</td>\n",
       "      <td>0</td>\n",
       "      <td>0</td>\n",
       "      <td>0</td>\n",
       "      <td>0</td>\n",
       "      <td>1</td>\n",
       "      <td>0</td>\n",
       "      <td>0</td>\n",
       "      <td>0</td>\n",
       "      <td>0</td>\n",
       "      <td>0</td>\n",
       "    </tr>\n",
       "    <tr>\n",
       "      <th>4</th>\n",
       "      <td>0</td>\n",
       "      <td>0</td>\n",
       "      <td>0</td>\n",
       "      <td>0</td>\n",
       "      <td>0</td>\n",
       "      <td>0</td>\n",
       "      <td>0</td>\n",
       "      <td>0</td>\n",
       "      <td>0</td>\n",
       "      <td>0</td>\n",
       "      <td>...</td>\n",
       "      <td>0</td>\n",
       "      <td>0</td>\n",
       "      <td>0</td>\n",
       "      <td>0</td>\n",
       "      <td>0</td>\n",
       "      <td>0</td>\n",
       "      <td>0</td>\n",
       "      <td>0</td>\n",
       "      <td>0</td>\n",
       "      <td>0</td>\n",
       "    </tr>\n",
       "    <tr>\n",
       "      <th>...</th>\n",
       "      <td>...</td>\n",
       "      <td>...</td>\n",
       "      <td>...</td>\n",
       "      <td>...</td>\n",
       "      <td>...</td>\n",
       "      <td>...</td>\n",
       "      <td>...</td>\n",
       "      <td>...</td>\n",
       "      <td>...</td>\n",
       "      <td>...</td>\n",
       "      <td>...</td>\n",
       "      <td>...</td>\n",
       "      <td>...</td>\n",
       "      <td>...</td>\n",
       "      <td>...</td>\n",
       "      <td>...</td>\n",
       "      <td>...</td>\n",
       "      <td>...</td>\n",
       "      <td>...</td>\n",
       "      <td>...</td>\n",
       "      <td>...</td>\n",
       "    </tr>\n",
       "    <tr>\n",
       "      <th>421</th>\n",
       "      <td>0</td>\n",
       "      <td>0</td>\n",
       "      <td>0</td>\n",
       "      <td>0</td>\n",
       "      <td>0</td>\n",
       "      <td>0</td>\n",
       "      <td>0</td>\n",
       "      <td>0</td>\n",
       "      <td>0</td>\n",
       "      <td>0</td>\n",
       "      <td>...</td>\n",
       "      <td>0</td>\n",
       "      <td>0</td>\n",
       "      <td>0</td>\n",
       "      <td>0</td>\n",
       "      <td>0</td>\n",
       "      <td>0</td>\n",
       "      <td>0</td>\n",
       "      <td>0</td>\n",
       "      <td>0</td>\n",
       "      <td>0</td>\n",
       "    </tr>\n",
       "    <tr>\n",
       "      <th>422</th>\n",
       "      <td>0</td>\n",
       "      <td>0</td>\n",
       "      <td>0</td>\n",
       "      <td>0</td>\n",
       "      <td>0</td>\n",
       "      <td>0</td>\n",
       "      <td>0</td>\n",
       "      <td>0</td>\n",
       "      <td>0</td>\n",
       "      <td>0</td>\n",
       "      <td>...</td>\n",
       "      <td>0</td>\n",
       "      <td>0</td>\n",
       "      <td>0</td>\n",
       "      <td>0</td>\n",
       "      <td>0</td>\n",
       "      <td>0</td>\n",
       "      <td>0</td>\n",
       "      <td>0</td>\n",
       "      <td>0</td>\n",
       "      <td>0</td>\n",
       "    </tr>\n",
       "    <tr>\n",
       "      <th>423</th>\n",
       "      <td>0</td>\n",
       "      <td>2</td>\n",
       "      <td>0</td>\n",
       "      <td>0</td>\n",
       "      <td>0</td>\n",
       "      <td>0</td>\n",
       "      <td>0</td>\n",
       "      <td>0</td>\n",
       "      <td>0</td>\n",
       "      <td>0</td>\n",
       "      <td>...</td>\n",
       "      <td>0</td>\n",
       "      <td>1</td>\n",
       "      <td>0</td>\n",
       "      <td>0</td>\n",
       "      <td>0</td>\n",
       "      <td>0</td>\n",
       "      <td>0</td>\n",
       "      <td>0</td>\n",
       "      <td>0</td>\n",
       "      <td>0</td>\n",
       "    </tr>\n",
       "    <tr>\n",
       "      <th>424</th>\n",
       "      <td>0</td>\n",
       "      <td>0</td>\n",
       "      <td>0</td>\n",
       "      <td>0</td>\n",
       "      <td>0</td>\n",
       "      <td>0</td>\n",
       "      <td>0</td>\n",
       "      <td>0</td>\n",
       "      <td>0</td>\n",
       "      <td>0</td>\n",
       "      <td>...</td>\n",
       "      <td>0</td>\n",
       "      <td>0</td>\n",
       "      <td>0</td>\n",
       "      <td>0</td>\n",
       "      <td>0</td>\n",
       "      <td>0</td>\n",
       "      <td>0</td>\n",
       "      <td>0</td>\n",
       "      <td>0</td>\n",
       "      <td>0</td>\n",
       "    </tr>\n",
       "    <tr>\n",
       "      <th>425</th>\n",
       "      <td>0</td>\n",
       "      <td>1</td>\n",
       "      <td>0</td>\n",
       "      <td>0</td>\n",
       "      <td>0</td>\n",
       "      <td>0</td>\n",
       "      <td>0</td>\n",
       "      <td>0</td>\n",
       "      <td>0</td>\n",
       "      <td>0</td>\n",
       "      <td>...</td>\n",
       "      <td>0</td>\n",
       "      <td>0</td>\n",
       "      <td>0</td>\n",
       "      <td>0</td>\n",
       "      <td>0</td>\n",
       "      <td>0</td>\n",
       "      <td>0</td>\n",
       "      <td>0</td>\n",
       "      <td>0</td>\n",
       "      <td>0</td>\n",
       "    </tr>\n",
       "  </tbody>\n",
       "</table>\n",
       "<p>426 rows × 10353 columns</p>\n",
       "</div>"
      ],
      "text/plain": [
       "     00  000  000npay  02115  03  0356  04  062  06366  08  ...  zenreach  \\\n",
       "0     0    0        0      0   0     0   0    0      0   0  ...         0   \n",
       "1     0    0        0      0   0     0   0    0      0   0  ...         0   \n",
       "2     0    0        0      0   0     0   0    0      0   0  ...         0   \n",
       "3     0    0        0      0   0     0   0    0      0   0  ...         0   \n",
       "4     0    0        0      0   0     0   0    0      0   0  ...         0   \n",
       "..   ..  ...      ...    ...  ..   ...  ..  ...    ...  ..  ...       ...   \n",
       "421   0    0        0      0   0     0   0    0      0   0  ...         0   \n",
       "422   0    0        0      0   0     0   0    0      0   0  ...         0   \n",
       "423   0    2        0      0   0     0   0    0      0   0  ...         0   \n",
       "424   0    0        0      0   0     0   0    0      0   0  ...         0   \n",
       "425   0    1        0      0   0     0   0    0      0   0  ...         0   \n",
       "\n",
       "     zero  zeus  zf  zheng  zillow  zones  zoom  zuckerberg  zurich  \n",
       "0       0     0   0      0       0      0     0           0       0  \n",
       "1       0     0   0      0       0      0     0           0       0  \n",
       "2       0     0   0      0       0      0     0           0       0  \n",
       "3       0     0   0      1       0      0     0           0       0  \n",
       "4       0     0   0      0       0      0     0           0       0  \n",
       "..    ...   ...  ..    ...     ...    ...   ...         ...     ...  \n",
       "421     0     0   0      0       0      0     0           0       0  \n",
       "422     0     0   0      0       0      0     0           0       0  \n",
       "423     1     0   0      0       0      0     0           0       0  \n",
       "424     0     0   0      0       0      0     0           0       0  \n",
       "425     0     0   0      0       0      0     0           0       0  \n",
       "\n",
       "[426 rows x 10353 columns]"
      ]
     },
     "execution_count": 20,
     "metadata": {},
     "output_type": "execute_result"
    }
   ],
   "source": [
    "dtm"
   ]
  },
  {
   "cell_type": "code",
   "execution_count": 21,
   "metadata": {},
   "outputs": [],
   "source": [
    "import spacy\n",
    "from spacy.tokenizer import Tokenizer\n",
    "\n",
    "nlp = spacy.load(\"en_core_web_lg\")\n",
    "\n",
    "# Tokenizer\n",
    "tokenizer = Tokenizer(nlp.vocab)\n",
    "\n"
   ]
  },
  {
   "cell_type": "code",
   "execution_count": 22,
   "metadata": {},
   "outputs": [],
   "source": [
    "tokens = []\n",
    "\n",
    "\"\"\" Update those tokens w/o stopwords\"\"\"\n",
    "for doc in tokenizer.pipe(df['parsed_desc'],batch_size=500):\n",
    "    \n",
    "    doc_tokens = []\n",
    "    \n",
    "    for token in doc:\n",
    "        if (token.is_stop == False) & (token.is_punct == False):\n",
    "            doc_tokens.append(token.text.lower())\n",
    "\n",
    "    tokens.append(doc_tokens)\n",
    "\n",
    "df['tokens_spacy'] = tokens"
   ]
  },
  {
   "cell_type": "code",
   "execution_count": null,
   "metadata": {},
   "outputs": [],
   "source": []
  },
  {
   "cell_type": "markdown",
   "metadata": {
    "colab_type": "text",
    "id": "Zo1iH_UeY7_n"
   },
   "source": [
    "## 4) Visualize the most common word counts"
   ]
  },
  {
   "cell_type": "code",
   "execution_count": 23,
   "metadata": {
    "colab": {},
    "colab_type": "code",
    "id": "M5LB00uyZKV5"
   },
   "outputs": [],
   "source": [
    "##### Your Code Here #####\n",
    "\n",
    "import squarify\n",
    "\n",
    "def count(docs):\n",
    "    word_counts = Counter() #initiate variable\n",
    "    appears_in = Counter() #initiate variable\n",
    "    \n",
    "    total_docs = len(docs) #length of docs\n",
    "    \n",
    "    for doc in docs:\n",
    "        word_counts.update(doc) #what does update do here\n",
    "        appears_in.update(set(doc)) #what does update and set do here\n",
    "    \n",
    "    temp = zip(word_counts.keys(), word_counts.values()) \n",
    "    \n",
    "    wc = pd.DataFrame(temp, columns = ['word','count']) #create new DF\n",
    "    \n",
    "    wc['rank'] = wc['count'].rank(method='first', ascending=False) #rank is a method, highest to lowest order\n",
    "    total = wc['count'].sum()\n",
    "    \n",
    "    wc['pct_total'] = wc['count'].apply(lambda x: x / total)\n",
    "    \n",
    "    wc = wc.sort_values(by='rank')\n",
    "    wc['cul_pct_total'] = wc['pct_total'].cumsum()\n",
    "    \n",
    "    t2 = zip(appears_in.keys(), appears_in.values())\n",
    "    ac = pd.DataFrame(t2, columns=['word', 'appears_in'])\n",
    "    wc = ac.merge(wc, on='word')\n",
    "\n",
    "    wc['appears_in_pct'] = wc['appears_in'].apply(lambda x: x / total_docs)\n",
    "\n",
    "    return wc.sort_values(by='rank')\n",
    "    \n",
    "\n",
    "\n",
    "\n",
    "#raise Exception(\"\\nThis task is not complete. \\nReplace this line with your code for the task.\""
   ]
  },
  {
   "cell_type": "code",
   "execution_count": 24,
   "metadata": {},
   "outputs": [],
   "source": [
    "wc = count(df['tokens_spacy'])"
   ]
  },
  {
   "cell_type": "code",
   "execution_count": null,
   "metadata": {},
   "outputs": [],
   "source": []
  },
  {
   "cell_type": "code",
   "execution_count": null,
   "metadata": {},
   "outputs": [],
   "source": []
  },
  {
   "cell_type": "code",
   "execution_count": 25,
   "metadata": {},
   "outputs": [
    {
     "data": {
      "text/html": [
       "<div>\n",
       "<style scoped>\n",
       "    .dataframe tbody tr th:only-of-type {\n",
       "        vertical-align: middle;\n",
       "    }\n",
       "\n",
       "    .dataframe tbody tr th {\n",
       "        vertical-align: top;\n",
       "    }\n",
       "\n",
       "    .dataframe thead th {\n",
       "        text-align: right;\n",
       "    }\n",
       "</style>\n",
       "<table border=\"1\" class=\"dataframe\">\n",
       "  <thead>\n",
       "    <tr style=\"text-align: right;\">\n",
       "      <th></th>\n",
       "      <th>word</th>\n",
       "      <th>appears_in</th>\n",
       "      <th>count</th>\n",
       "      <th>rank</th>\n",
       "      <th>pct_total</th>\n",
       "      <th>cul_pct_total</th>\n",
       "      <th>appears_in_pct</th>\n",
       "    </tr>\n",
       "  </thead>\n",
       "  <tbody>\n",
       "    <tr>\n",
       "      <th>7</th>\n",
       "      <td>data</td>\n",
       "      <td>421</td>\n",
       "      <td>3855</td>\n",
       "      <td>1.0</td>\n",
       "      <td>0.028102</td>\n",
       "      <td>0.028102</td>\n",
       "      <td>0.988263</td>\n",
       "    </tr>\n",
       "    <tr>\n",
       "      <th>159</th>\n",
       "      <td>xe2</td>\n",
       "      <td>315</td>\n",
       "      <td>1413</td>\n",
       "      <td>2.0</td>\n",
       "      <td>0.010300</td>\n",
       "      <td>0.038402</td>\n",
       "      <td>0.739437</td>\n",
       "    </tr>\n",
       "    <tr>\n",
       "      <th>259</th>\n",
       "      <td>x80</td>\n",
       "      <td>314</td>\n",
       "      <td>1404</td>\n",
       "      <td>3.0</td>\n",
       "      <td>0.010235</td>\n",
       "      <td>0.048637</td>\n",
       "      <td>0.737089</td>\n",
       "    </tr>\n",
       "    <tr>\n",
       "      <th>97</th>\n",
       "      <td>business</td>\n",
       "      <td>303</td>\n",
       "      <td>1038</td>\n",
       "      <td>4.0</td>\n",
       "      <td>0.007567</td>\n",
       "      <td>0.056204</td>\n",
       "      <td>0.711268</td>\n",
       "    </tr>\n",
       "    <tr>\n",
       "      <th>54</th>\n",
       "      <td>experience</td>\n",
       "      <td>374</td>\n",
       "      <td>1032</td>\n",
       "      <td>5.0</td>\n",
       "      <td>0.007523</td>\n",
       "      <td>0.063727</td>\n",
       "      <td>0.877934</td>\n",
       "    </tr>\n",
       "  </tbody>\n",
       "</table>\n",
       "</div>"
      ],
      "text/plain": [
       "           word  appears_in  count  rank  pct_total  cul_pct_total  \\\n",
       "7          data         421   3855   1.0   0.028102       0.028102   \n",
       "159         xe2         315   1413   2.0   0.010300       0.038402   \n",
       "259         x80         314   1404   3.0   0.010235       0.048637   \n",
       "97     business         303   1038   4.0   0.007567       0.056204   \n",
       "54   experience         374   1032   5.0   0.007523       0.063727   \n",
       "\n",
       "     appears_in_pct  \n",
       "7          0.988263  \n",
       "159        0.739437  \n",
       "259        0.737089  \n",
       "97         0.711268  \n",
       "54         0.877934  "
      ]
     },
     "execution_count": 25,
     "metadata": {},
     "output_type": "execute_result"
    }
   ],
   "source": [
    "wc.head()"
   ]
  },
  {
   "cell_type": "code",
   "execution_count": null,
   "metadata": {},
   "outputs": [],
   "source": []
  },
  {
   "cell_type": "code",
   "execution_count": 26,
   "metadata": {},
   "outputs": [
    {
     "data": {
      "text/plain": [
       "0.361112123575766"
      ]
     },
     "execution_count": 26,
     "metadata": {},
     "output_type": "execute_result"
    }
   ],
   "source": [
    "wc[wc['rank'] <= 200]['cul_pct_total'].max()"
   ]
  },
  {
   "cell_type": "code",
   "execution_count": 27,
   "metadata": {},
   "outputs": [
    {
     "data": {
      "image/png": "[encoded data removed]",
      "text/plain": [
       "<Figure size 432x288 with 1 Axes>"
      ]
     },
     "metadata": {
      "needs_background": "light"
     },
     "output_type": "display_data"
    }
   ],
   "source": [
    "import squarify\n",
    "import matplotlib.pyplot as plt\n",
    "\n",
    "wc_top20 = wc[wc['rank'] <= 20]\n",
    "\n",
    "plt.barh(width=wc_top20['pct_total'], y=wc_top20['word'], alpha=.8 )\n",
    "#plt.axis('off')\n",
    "plt.show()"
   ]
  },
  {
   "cell_type": "code",
   "execution_count": null,
   "metadata": {},
   "outputs": [],
   "source": []
  },
  {
   "cell_type": "markdown",
   "metadata": {
    "colab_type": "text",
    "id": "bwFsTqrVZMYi"
   },
   "source": [
    "## 5) Use Scikit-Learn's tfidfVectorizer to get a TF-IDF feature matrix"
   ]
  },
  {
   "cell_type": "code",
   "execution_count": 28,
   "metadata": {
    "colab": {},
    "colab_type": "code",
    "id": "-gx2gZCbl5Np"
   },
   "outputs": [
    {
     "name": "stdout",
     "output_type": "stream",
     "text": [
      "(426, 6247)\n"
     ]
    },
    {
     "data": {
      "text/html": [
       "<div>\n",
       "<style scoped>\n",
       "    .dataframe tbody tr th:only-of-type {\n",
       "        vertical-align: middle;\n",
       "    }\n",
       "\n",
       "    .dataframe tbody tr th {\n",
       "        vertical-align: top;\n",
       "    }\n",
       "\n",
       "    .dataframe thead th {\n",
       "        text-align: right;\n",
       "    }\n",
       "</style>\n",
       "<table border=\"1\" class=\"dataframe\">\n",
       "  <thead>\n",
       "    <tr style=\"text-align: right;\">\n",
       "      <th></th>\n",
       "      <th>000</th>\n",
       "      <th>000 employees</th>\n",
       "      <th>10</th>\n",
       "      <th>10 years</th>\n",
       "      <th>100</th>\n",
       "      <th>100 000</th>\n",
       "      <th>100 companies</th>\n",
       "      <th>100 countries</th>\n",
       "      <th>11</th>\n",
       "      <th>12</th>\n",
       "      <th>...</th>\n",
       "      <th>years industry</th>\n",
       "      <th>years professional</th>\n",
       "      <th>years related</th>\n",
       "      <th>years relevant</th>\n",
       "      <th>years work</th>\n",
       "      <th>years working</th>\n",
       "      <th>years xe2</th>\n",
       "      <th>yes</th>\n",
       "      <th>york</th>\n",
       "      <th>york city</th>\n",
       "    </tr>\n",
       "  </thead>\n",
       "  <tbody>\n",
       "    <tr>\n",
       "      <th>0</th>\n",
       "      <td>0.0</td>\n",
       "      <td>0.0</td>\n",
       "      <td>0.0</td>\n",
       "      <td>0.0</td>\n",
       "      <td>0.0</td>\n",
       "      <td>0.0</td>\n",
       "      <td>0.0</td>\n",
       "      <td>0.0</td>\n",
       "      <td>0.0</td>\n",
       "      <td>0.0</td>\n",
       "      <td>...</td>\n",
       "      <td>0.0</td>\n",
       "      <td>0.0</td>\n",
       "      <td>0.0</td>\n",
       "      <td>0.0</td>\n",
       "      <td>0.0</td>\n",
       "      <td>0.0</td>\n",
       "      <td>0.0</td>\n",
       "      <td>0.0</td>\n",
       "      <td>0.0</td>\n",
       "      <td>0.0</td>\n",
       "    </tr>\n",
       "    <tr>\n",
       "      <th>1</th>\n",
       "      <td>0.0</td>\n",
       "      <td>0.0</td>\n",
       "      <td>0.0</td>\n",
       "      <td>0.0</td>\n",
       "      <td>0.0</td>\n",
       "      <td>0.0</td>\n",
       "      <td>0.0</td>\n",
       "      <td>0.0</td>\n",
       "      <td>0.0</td>\n",
       "      <td>0.0</td>\n",
       "      <td>...</td>\n",
       "      <td>0.0</td>\n",
       "      <td>0.0</td>\n",
       "      <td>0.0</td>\n",
       "      <td>0.0</td>\n",
       "      <td>0.0</td>\n",
       "      <td>0.0</td>\n",
       "      <td>0.0</td>\n",
       "      <td>0.0</td>\n",
       "      <td>0.0</td>\n",
       "      <td>0.0</td>\n",
       "    </tr>\n",
       "    <tr>\n",
       "      <th>2</th>\n",
       "      <td>0.0</td>\n",
       "      <td>0.0</td>\n",
       "      <td>0.0</td>\n",
       "      <td>0.0</td>\n",
       "      <td>0.0</td>\n",
       "      <td>0.0</td>\n",
       "      <td>0.0</td>\n",
       "      <td>0.0</td>\n",
       "      <td>0.0</td>\n",
       "      <td>0.0</td>\n",
       "      <td>...</td>\n",
       "      <td>0.0</td>\n",
       "      <td>0.0</td>\n",
       "      <td>0.0</td>\n",
       "      <td>0.0</td>\n",
       "      <td>0.0</td>\n",
       "      <td>0.0</td>\n",
       "      <td>0.0</td>\n",
       "      <td>0.0</td>\n",
       "      <td>0.0</td>\n",
       "      <td>0.0</td>\n",
       "    </tr>\n",
       "    <tr>\n",
       "      <th>3</th>\n",
       "      <td>0.0</td>\n",
       "      <td>0.0</td>\n",
       "      <td>0.0</td>\n",
       "      <td>0.0</td>\n",
       "      <td>0.0</td>\n",
       "      <td>0.0</td>\n",
       "      <td>0.0</td>\n",
       "      <td>0.0</td>\n",
       "      <td>0.0</td>\n",
       "      <td>0.0</td>\n",
       "      <td>...</td>\n",
       "      <td>0.0</td>\n",
       "      <td>0.0</td>\n",
       "      <td>0.0</td>\n",
       "      <td>0.0</td>\n",
       "      <td>0.0</td>\n",
       "      <td>0.0</td>\n",
       "      <td>0.0</td>\n",
       "      <td>0.0</td>\n",
       "      <td>0.0</td>\n",
       "      <td>0.0</td>\n",
       "    </tr>\n",
       "    <tr>\n",
       "      <th>4</th>\n",
       "      <td>0.0</td>\n",
       "      <td>0.0</td>\n",
       "      <td>0.0</td>\n",
       "      <td>0.0</td>\n",
       "      <td>0.0</td>\n",
       "      <td>0.0</td>\n",
       "      <td>0.0</td>\n",
       "      <td>0.0</td>\n",
       "      <td>0.0</td>\n",
       "      <td>0.0</td>\n",
       "      <td>...</td>\n",
       "      <td>0.0</td>\n",
       "      <td>0.0</td>\n",
       "      <td>0.0</td>\n",
       "      <td>0.0</td>\n",
       "      <td>0.0</td>\n",
       "      <td>0.0</td>\n",
       "      <td>0.0</td>\n",
       "      <td>0.0</td>\n",
       "      <td>0.0</td>\n",
       "      <td>0.0</td>\n",
       "    </tr>\n",
       "  </tbody>\n",
       "</table>\n",
       "<p>5 rows × 6247 columns</p>\n",
       "</div>"
      ],
      "text/plain": [
       "   000  000 employees   10  10 years  100  100 000  100 companies  \\\n",
       "0  0.0            0.0  0.0       0.0  0.0      0.0            0.0   \n",
       "1  0.0            0.0  0.0       0.0  0.0      0.0            0.0   \n",
       "2  0.0            0.0  0.0       0.0  0.0      0.0            0.0   \n",
       "3  0.0            0.0  0.0       0.0  0.0      0.0            0.0   \n",
       "4  0.0            0.0  0.0       0.0  0.0      0.0            0.0   \n",
       "\n",
       "   100 countries   11   12  ...  years industry  years professional  \\\n",
       "0            0.0  0.0  0.0  ...             0.0                 0.0   \n",
       "1            0.0  0.0  0.0  ...             0.0                 0.0   \n",
       "2            0.0  0.0  0.0  ...             0.0                 0.0   \n",
       "3            0.0  0.0  0.0  ...             0.0                 0.0   \n",
       "4            0.0  0.0  0.0  ...             0.0                 0.0   \n",
       "\n",
       "   years related  years relevant  years work  years working  years xe2  yes  \\\n",
       "0            0.0             0.0         0.0            0.0        0.0  0.0   \n",
       "1            0.0             0.0         0.0            0.0        0.0  0.0   \n",
       "2            0.0             0.0         0.0            0.0        0.0  0.0   \n",
       "3            0.0             0.0         0.0            0.0        0.0  0.0   \n",
       "4            0.0             0.0         0.0            0.0        0.0  0.0   \n",
       "\n",
       "   york  york city  \n",
       "0   0.0        0.0  \n",
       "1   0.0        0.0  \n",
       "2   0.0        0.0  \n",
       "3   0.0        0.0  \n",
       "4   0.0        0.0  \n",
       "\n",
       "[5 rows x 6247 columns]"
      ]
     },
     "execution_count": 28,
     "metadata": {},
     "output_type": "execute_result"
    }
   ],
   "source": [
    "##### Your Code Here #####\n",
    "\n",
    "from sklearn.feature_extraction.text import TfidfVectorizer\n",
    "\n",
    "tfidf = TfidfVectorizer(stop_words = 'english',\n",
    "                         ngram_range = (1,2),\n",
    "                         min_df = 5,\n",
    "                        max_df = 0.6,\n",
    "                       )\n",
    "\n",
    "dtm = tfidf.fit_transform(df['parsed_desc'])\n",
    "\n",
    "\n",
    "# Get feature names to use as dataframe column headers\n",
    "dtm = pd.DataFrame(dtm.todense(), columns=tfidf.get_feature_names())\n",
    "\n",
    "# View Feature Matrix as DataFrame\n",
    "print(dtm.shape)\n",
    "dtm.head()\n",
    "\n",
    "#raise Exception(\"\\nThis task is not complete. \\nReplace this line with your code for the task.\""
   ]
  },
  {
   "cell_type": "code",
   "execution_count": null,
   "metadata": {},
   "outputs": [],
   "source": []
  },
  {
   "cell_type": "markdown",
   "metadata": {},
   "source": [
    "## 6) Create a NearestNeighbor Model. Write the description of your ideal datascience job and query your job listings. "
   ]
  },
  {
   "cell_type": "code",
   "execution_count": 29,
   "metadata": {
    "collapsed": false,
    "inputHidden": false,
    "jupyter": {
     "outputs_hidden": false
    },
    "outputHidden": false
   },
   "outputs": [
    {
     "data": {
      "text/plain": [
       "NearestNeighbors(algorithm='kd_tree', leaf_size=30, metric='minkowski',\n",
       "                 metric_params=None, n_jobs=None, n_neighbors=5, p=2,\n",
       "                 radius=1.0)"
      ]
     },
     "execution_count": 29,
     "metadata": {},
     "output_type": "execute_result"
    }
   ],
   "source": [
    "##### Your Code Here #####\n",
    "\n",
    "from sklearn.neighbors import NearestNeighbors\n",
    "\n",
    "nn = NearestNeighbors(n_neighbors=5, algorithm='kd_tree')\n",
    "nn.fit(dtm)\n",
    "\n",
    "#raise Exception(\"\\nThis task is not complete. \\nReplace this line with your code for the task.\""
   ]
  },
  {
   "cell_type": "code",
   "execution_count": 30,
   "metadata": {},
   "outputs": [],
   "source": [
    "resume = [\" Data Scientist with masters degree in systems engineering, created a airbnb prediction dash app familiar with KNN multivariate regression AB testing and AWS EC2\"]"
   ]
  },
  {
   "cell_type": "code",
   "execution_count": 31,
   "metadata": {},
   "outputs": [],
   "source": [
    "new = tfidf.transform(resume)"
   ]
  },
  {
   "cell_type": "code",
   "execution_count": 32,
   "metadata": {},
   "outputs": [
    {
     "data": {
      "text/plain": [
       "(array([[1.35406422, 1.35857147, 1.36347946, 1.36347946, 1.36631023]]),\n",
       " array([[313, 330, 303,  58, 222]], dtype=int64))"
      ]
     },
     "execution_count": 32,
     "metadata": {},
     "output_type": "execute_result"
    }
   ],
   "source": [
    "nn.kneighbors(new.todense())"
   ]
  },
  {
   "cell_type": "code",
   "execution_count": 33,
   "metadata": {},
   "outputs": [
    {
     "data": {
      "text/plain": [
       "Unnamed: 0                                                    313\n",
       "description     b'<div><div><div>Hinge Health\\xe2\\x80\\x99s mis...\n",
       "title                                  Statistical Data Scientist\n",
       "parsed_desc     Hinge Health xe2 x80 x99s mission is to improv...\n",
       "tokens          [hinge, health, xe2, x80, x99s, mission, is, t...\n",
       "tokens_spacy    [hinge, health, xe2, x80, x99s, mission, impro...\n",
       "Name: 313, dtype: object"
      ]
     },
     "execution_count": 33,
     "metadata": {},
     "output_type": "execute_result"
    }
   ],
   "source": [
    "df.iloc[313]"
   ]
  },
  {
   "cell_type": "code",
   "execution_count": null,
   "metadata": {},
   "outputs": [],
   "source": []
  },
  {
   "cell_type": "code",
   "execution_count": null,
   "metadata": {},
   "outputs": [],
   "source": []
  },
  {
   "cell_type": "code",
   "execution_count": null,
   "metadata": {},
   "outputs": [],
   "source": []
  },
  {
   "cell_type": "code",
   "execution_count": null,
   "metadata": {},
   "outputs": [],
   "source": []
  },
  {
   "cell_type": "code",
   "execution_count": null,
   "metadata": {},
   "outputs": [],
   "source": []
  },
  {
   "cell_type": "code",
   "execution_count": null,
   "metadata": {},
   "outputs": [],
   "source": []
  },
  {
   "cell_type": "code",
   "execution_count": null,
   "metadata": {},
   "outputs": [],
   "source": []
  },
  {
   "cell_type": "markdown",
   "metadata": {
    "colab_type": "text",
    "id": "FiDfTWceoRkH"
   },
   "source": [
    "\n",
    "## Stretch Goals\n",
    "\n",
    " - Try different visualizations for words and frequencies - what story do you want to tell with the data?\n",
    " - Scrape Job Listings for the job title \"Data Analyst\". How do these differ from Data Scientist Job Listings\n",
    " - Try and identify requirements for experience specific technologies that are asked for in the job listings. How are those distributed among the job listings?\n",
    " - Use a clustering algorithm to cluster documents by their most important terms. Do the clusters reveal any common themes?\n",
    "  - **Hint:** K-means might not be the best algorithm for this. Do a little bit of research to see what might be good for this. Also, remember that algorithms that depend on Euclidean distance break down with high dimensional data.\n",
    " - Create a labeled dataset - which jobs will you apply for? Train a model to select the jobs you are most likely to apply for. :) "
   ]
  }
 ],
 "metadata": {
  "colab": {
   "collapsed_sections": [],
   "name": "LS_DS_422_BOW_Assignment.ipynb",
   "provenance": [],
   "version": "0.3.2"
  },
  "kernel_info": {
   "name": "python3"
  },
  "kernelspec": {
   "display_name": "U4-S1-NLP(Python3",
   "language": "python",
   "name": "u4-s1-nlp"
  },
  "language_info": {
   "codemirror_mode": {
    "name": "ipython",
    "version": 3
   },
   "file_extension": ".py",
   "mimetype": "text/x-python",
   "name": "python",
   "nbconvert_exporter": "python",
   "pygments_lexer": "ipython3",
   "version": "3.7.0"
  },
  "nteract": {
   "version": "0.14.3"
  }
 },
 "nbformat": 4,
 "nbformat_minor": 4
}
