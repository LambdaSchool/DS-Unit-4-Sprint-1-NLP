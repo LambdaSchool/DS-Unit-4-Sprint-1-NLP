{
 "cells": [
  {
   "cell_type": "markdown",
   "metadata": {},
   "source": [
    "<img align=\"left\" src=\"https://lever-client-logos.s3.amazonaws.com/864372b1-534c-480e-acd5-9711f850815c-1524247202159.png\" width=200>\n",
    "<br></br>\n",
    "\n",
    "# Vector Representations\n",
    "## *Data Science Unit 4 Sprint 2 Assignment 2*"
   ]
  },
  {
   "cell_type": "code",
   "execution_count": 140,
   "metadata": {
    "colab": {
     "base_uri": "https://localhost:8080/",
     "height": 159
    },
    "colab_type": "code",
    "id": "hyj-f9FDcVFp",
    "outputId": "5dd045fe-6e4c-458c-e2fc-253c3da9c805"
   },
   "outputs": [],
   "source": [
    "import re\n",
    "import string\n",
    "\n",
    "from sklearn.feature_extraction.text import CountVectorizer, TfidfVectorizer\n",
    "import matplotlib.pyplot as plt\n",
    "import pandas as pd\n",
    "import numpy as np\n",
    "import spacy"
   ]
  },
  {
   "cell_type": "markdown",
   "metadata": {
    "colab_type": "text",
    "id": "M7bcmqfGXrFG"
   },
   "source": [
    "## 1) *Clean:* Job Listings from indeed.com that contain the title \"Data Scientist\" \n",
    "\n",
    "You have `job_listings.csv` in the data folder for this module. The text data in the description column is still messy - full of html tags. Use the [BeautifulSoup](https://www.crummy.com/software/BeautifulSoup/bs4/doc/) library to clean up this column. You will need to read thru the documentation to accomplish this task. \n",
    "\n",
    "`Tip:` You will need to install the `bs4` library inside your conda environment. "
   ]
  },
  {
   "cell_type": "code",
   "execution_count": 141,
   "metadata": {
    "colab": {},
    "colab_type": "code",
    "id": "KcYlc1URXhlC"
   },
   "outputs": [],
   "source": [
    "from bs4 import BeautifulSoup\n",
    "import requests\n",
    "\n",
    "df = pd.read_csv('data/job_listings.csv')  \n",
    "df['text'] = df['description'].apply(lambda x: BeautifulSoup(x).get_text())"
   ]
  },
  {
   "cell_type": "code",
   "execution_count": 142,
   "metadata": {},
   "outputs": [],
   "source": [
    "df['text'] = [re.sub(r'[^a-zA-Z ^0-9]', '', row) for row in df['text']]\n",
    "# row = [row.splitlines() for row in df['text']]"
   ]
  },
  {
   "cell_type": "code",
   "execution_count": 143,
   "metadata": {},
   "outputs": [
    {
     "data": {
      "text/plain": [
       "'bJob RequirementsnConceptual understanding in Machine Learning models like Naixc2xa8ve Bayes KMeans SVM Apriori Linear Logistic Regression Neural Random Forests Decision Trees KNN along with handson experience in at least 2 of themnIntermediate to expert level coding skills in PythonR Ability to write functions clean and efficient data manipulation are mandatory for this rolenExposure to packages like NumPy SciPy Pandas Matplotlib etc in Python or GGPlot2 dplyr tidyR in RnAbility to communicate Model findings to both Technical and NonTechnical stake holdersnHands on experience in SQLHive or similar programming languagenMust show past work via GitHub Kaggle or any other published articlenMasters degree in StatisticsMathematicsComputer Science or any other quant specific fieldnApply Now'"
      ]
     },
     "execution_count": 143,
     "metadata": {},
     "output_type": "execute_result"
    }
   ],
   "source": [
    "df['text'][0]"
   ]
  },
  {
   "cell_type": "markdown",
   "metadata": {
    "colab_type": "text",
    "id": "5C4xFZNtX1m2"
   },
   "source": [
    "## 2) Use Spacy to tokenize the listings "
   ]
  },
  {
   "cell_type": "code",
   "execution_count": 144,
   "metadata": {
    "colab": {},
    "colab_type": "code",
    "id": "dhUHuMr-X-II"
   },
   "outputs": [],
   "source": [
    "nlp = spacy.load('en_core_web_sm')"
   ]
  },
  {
   "cell_type": "code",
   "execution_count": 145,
   "metadata": {},
   "outputs": [],
   "source": [
    "from spacy.tokenizer import Tokenizer\n",
    "from spacy.lang.en import English\n",
    "nlp = English()\n",
    "\n",
    "# Create a blank Tokenizer with just the English vocab\n",
    "tokenizer = Tokenizer(nlp.vocab)"
   ]
  },
  {
   "cell_type": "code",
   "execution_count": 161,
   "metadata": {},
   "outputs": [],
   "source": [
    "tokens = []\n",
    "\n",
    "\"\"\" Make them tokens \"\"\"\n",
    "for doc in tokenizer.pipe(df['text'], batch_size=500):\n",
    "    doc_tokens = []\n",
    "    for token in doc:\n",
    "        if (token.is_stop == False) & (token.is_punct == False):\n",
    "            doc_tokens.append(token.text.lower())\n",
    "    tokens.append(doc_tokens)\n",
    "\n",
    "df['tokens'] = tokens"
   ]
  },
  {
   "cell_type": "code",
   "execution_count": 162,
   "metadata": {},
   "outputs": [
    {
     "data": {
      "text/plain": [
       "0    [bjob, requirementsnconceptual, understanding,...\n",
       "1    [bjob, descriptionnnas, data, scientist, 1, he...\n",
       "2    [bas, data, scientist, working, consulting, bu...\n",
       "3    [b4969,  , 6756, monthcontractunder, general, ...\n",
       "4    [blocation, usa, xe2x80x93, multiple, location...\n",
       "Name: tokens, dtype: object"
      ]
     },
     "execution_count": 162,
     "metadata": {},
     "output_type": "execute_result"
    }
   ],
   "source": [
    "df['tokens'].head()"
   ]
  },
  {
   "cell_type": "markdown",
   "metadata": {
    "colab_type": "text",
    "id": "-lgCZNL_YycP"
   },
   "source": [
    "## 3) Use Scikit-Learn's CountVectorizer to get word counts for each listing."
   ]
  },
  {
   "cell_type": "code",
   "execution_count": 163,
   "metadata": {
    "colab": {},
    "colab_type": "code",
    "id": "X2PZ8Pj_YxcF"
   },
   "outputs": [],
   "source": [
    "from sklearn.feature_extraction.text import CountVectorizer\n",
    "vect = CountVectorizer()\n",
    "for text in df['tokens']:\n",
    "    vect.fit(text)\n",
    "    \n",
    "dtm = vect.transform(text)"
   ]
  },
  {
   "cell_type": "code",
   "execution_count": 164,
   "metadata": {},
   "outputs": [
    {
     "name": "stdout",
     "output_type": "stream",
     "text": [
      "['25000', '35', 'accordance', 'achieve', 'action', 'additional', 'advanced', 'age', 'agile', 'aim', 'algorithm', 'algorithms', 'allowed', 'ambitious', 'analysis', 'analytic', 'analytical', 'analytics', 'ancestry', 'andor', 'annual', 'applied', 'applying', 'appropriate', 'areanwilling', 'assets', 'assistance', 'association', 'authorized', 'available', 'avronexperience', 'background', 'based', 'bcerner', 'best', 'biostatistics', 'brightest', 'business', 'care', 'careers', 'cassandra', 'category', 'cerner', 'check', 'citizenship', 'client', 'clientfacing', 'clients', 'clinical', 'cluster', 'clustering', 'collections', 'color', 'complexity', 'comply', 'compromises', 'computational', 'computer', 'computingnpreferred', 'confidence', 'contextual', 'corporate', 'corporation', 'couch', 'countries', 'countriesnncernerxe2x80x99s', 'creating', 'currently', 'data', 'databases', 'datadriven', 'db', 'decision', 'degree', 'develop', 'developing', 'development', 'directly', 'disability', 'discover', 'discovering', 'domesticregionalnvirtual', 'drive', 'drug', 'drugfree', 'efficient', 'eligibility', 'eligible', 'employment', 'encoding', 'encouraged', 'engineering', 'entire', 'equal', 'equivalent', 'evidencebased', 'experiencenat', 'experiencenexperience', 'experiences', 'explanatory', 'exploring', 'facilities', 'facility', 'feasibility', 'features', 'financial', 'find', 'flu', 'focus', 'focusing', 'gender', 'genetic', 'grid', 'hadoopnexperience', 'hbase', 'health', 'healthcare', 'help', 'highdimensionality', 'hire', 'hours', 'ideally', 'identity', 'immunization', 'impactful', 'important', 'improve', 'include', 'including', 'individual', 'individuals', 'information', 'informationnapplicants', 'innovate', 'innovative', 'inquisitivennas', 'insights', 'intelligence', 'intelligent', 'interventions', 'irregular', 'jobnnoncerner', 'jobnyes', 'join', 'languages', 'learning', 'legally', 'level', 'leveraging', 'licensed', 'lifecycle', 'limited', 'local', 'machine', 'malvern', 'mapreduce', 'marital', 'mathematical', 'mathematics', 'methodologiesnexpectationsnmust', 'methodologynnclient', 'methods', 'metro', 'mining', 'modeling', 'models', 'modern', 'mongodb', 'multiple', 'national', 'navigate', 'needed', 'networks', 'networksnexperience', 'neural', 'new', 'nosql', 'obligated', 'occupational', 'offices', 'operational', 'opportunity', 'optimization', 'organization', 'organizational', 'orientation', 'origin', 'outcomes', 'pa', 'patients', 'people', 'peoplexe2x80x99s', 'performance', 'personal', 'pig', 'place', 'policies', 'policy', 'population', 'positionnadditional', 'positionnnsome', 'positions', 'power', 'predictive', 'pregnancy', 'prevent', 'principals', 'probability', 'problem', 'procedures', 'programming', 'protected', 'proud', 'provide', 'providers', 'python', 'quadruple', 'qualificationsnmasterxe2x80x99s', 'qualificationsnphd', 'quality', 'quantitative', 'race', 'receive', 'regard', 'regulationsnwork', 'relational', 'relevant', 'religion', 'relocate', 'report', 'requests', 'required', 'requirements', 'residing', 'responsibilities', 'riak', 'rnexperience', 'role', 'rules', 'safeguarding', 'science', 'scientifically', 'scientist', 'scope', 'screen', 'screennrelocation', 'security', 'seek', 'servicesnworking', 'set', 'sex', 'sexual', 'shot', 'single', 'smart', 'software', 'solutions', 'solving', 'spark', 'sponsorship', 'sql', 'states', 'statistical', 'statistics', 'status', 'storage', 'studies', 'supporting', 'systems', 'talent', 'tb', 'team', 'techniques', 'technologies', 'technology', 'thrive', 'time', 'tools', 'transform', 'transforming', 'trees', 'understand', 'united', 'unstructured', 'updated', 'usnqualificationsnbasic', 'valid', 'value', 'verification', 'veteran', 'visa', 'visually', 'warehousing', 'willing', 'work', 'workflow', 'working', 'workplace', 'xe2x80x93', 'years']\n"
     ]
    }
   ],
   "source": [
    "print(vect.get_feature_names())"
   ]
  },
  {
   "cell_type": "code",
   "execution_count": 165,
   "metadata": {},
   "outputs": [],
   "source": [
    "# Get word counts for each doc\n",
    "dtm = pd.DataFrame(dtm.todense(), columns=vect.get_feature_names())"
   ]
  },
  {
   "cell_type": "code",
   "execution_count": 166,
   "metadata": {},
   "outputs": [
    {
     "data": {
      "text/html": [
       "<div>\n",
       "<style scoped>\n",
       "    .dataframe tbody tr th:only-of-type {\n",
       "        vertical-align: middle;\n",
       "    }\n",
       "\n",
       "    .dataframe tbody tr th {\n",
       "        vertical-align: top;\n",
       "    }\n",
       "\n",
       "    .dataframe thead th {\n",
       "        text-align: right;\n",
       "    }\n",
       "</style>\n",
       "<table border=\"1\" class=\"dataframe\">\n",
       "  <thead>\n",
       "    <tr style=\"text-align: right;\">\n",
       "      <th></th>\n",
       "      <th>25000</th>\n",
       "      <th>35</th>\n",
       "      <th>accordance</th>\n",
       "      <th>achieve</th>\n",
       "      <th>action</th>\n",
       "      <th>additional</th>\n",
       "      <th>advanced</th>\n",
       "      <th>age</th>\n",
       "      <th>agile</th>\n",
       "      <th>aim</th>\n",
       "      <th>...</th>\n",
       "      <th>visa</th>\n",
       "      <th>visually</th>\n",
       "      <th>warehousing</th>\n",
       "      <th>willing</th>\n",
       "      <th>work</th>\n",
       "      <th>workflow</th>\n",
       "      <th>working</th>\n",
       "      <th>workplace</th>\n",
       "      <th>xe2x80x93</th>\n",
       "      <th>years</th>\n",
       "    </tr>\n",
       "  </thead>\n",
       "  <tbody>\n",
       "    <tr>\n",
       "      <th>374</th>\n",
       "      <td>0</td>\n",
       "      <td>0</td>\n",
       "      <td>0</td>\n",
       "      <td>0</td>\n",
       "      <td>0</td>\n",
       "      <td>0</td>\n",
       "      <td>0</td>\n",
       "      <td>0</td>\n",
       "      <td>0</td>\n",
       "      <td>0</td>\n",
       "      <td>...</td>\n",
       "      <td>0</td>\n",
       "      <td>0</td>\n",
       "      <td>0</td>\n",
       "      <td>0</td>\n",
       "      <td>0</td>\n",
       "      <td>0</td>\n",
       "      <td>0</td>\n",
       "      <td>0</td>\n",
       "      <td>0</td>\n",
       "      <td>0</td>\n",
       "    </tr>\n",
       "    <tr>\n",
       "      <th>375</th>\n",
       "      <td>0</td>\n",
       "      <td>0</td>\n",
       "      <td>0</td>\n",
       "      <td>0</td>\n",
       "      <td>0</td>\n",
       "      <td>0</td>\n",
       "      <td>0</td>\n",
       "      <td>0</td>\n",
       "      <td>0</td>\n",
       "      <td>0</td>\n",
       "      <td>...</td>\n",
       "      <td>0</td>\n",
       "      <td>0</td>\n",
       "      <td>0</td>\n",
       "      <td>0</td>\n",
       "      <td>0</td>\n",
       "      <td>0</td>\n",
       "      <td>0</td>\n",
       "      <td>0</td>\n",
       "      <td>0</td>\n",
       "      <td>0</td>\n",
       "    </tr>\n",
       "    <tr>\n",
       "      <th>376</th>\n",
       "      <td>0</td>\n",
       "      <td>0</td>\n",
       "      <td>0</td>\n",
       "      <td>0</td>\n",
       "      <td>0</td>\n",
       "      <td>0</td>\n",
       "      <td>0</td>\n",
       "      <td>0</td>\n",
       "      <td>0</td>\n",
       "      <td>0</td>\n",
       "      <td>...</td>\n",
       "      <td>0</td>\n",
       "      <td>0</td>\n",
       "      <td>0</td>\n",
       "      <td>0</td>\n",
       "      <td>0</td>\n",
       "      <td>0</td>\n",
       "      <td>0</td>\n",
       "      <td>0</td>\n",
       "      <td>0</td>\n",
       "      <td>0</td>\n",
       "    </tr>\n",
       "    <tr>\n",
       "      <th>377</th>\n",
       "      <td>0</td>\n",
       "      <td>0</td>\n",
       "      <td>0</td>\n",
       "      <td>0</td>\n",
       "      <td>0</td>\n",
       "      <td>0</td>\n",
       "      <td>0</td>\n",
       "      <td>0</td>\n",
       "      <td>0</td>\n",
       "      <td>0</td>\n",
       "      <td>...</td>\n",
       "      <td>0</td>\n",
       "      <td>0</td>\n",
       "      <td>0</td>\n",
       "      <td>0</td>\n",
       "      <td>0</td>\n",
       "      <td>0</td>\n",
       "      <td>0</td>\n",
       "      <td>0</td>\n",
       "      <td>0</td>\n",
       "      <td>0</td>\n",
       "    </tr>\n",
       "    <tr>\n",
       "      <th>378</th>\n",
       "      <td>0</td>\n",
       "      <td>0</td>\n",
       "      <td>0</td>\n",
       "      <td>0</td>\n",
       "      <td>0</td>\n",
       "      <td>0</td>\n",
       "      <td>0</td>\n",
       "      <td>0</td>\n",
       "      <td>0</td>\n",
       "      <td>0</td>\n",
       "      <td>...</td>\n",
       "      <td>0</td>\n",
       "      <td>0</td>\n",
       "      <td>0</td>\n",
       "      <td>0</td>\n",
       "      <td>0</td>\n",
       "      <td>0</td>\n",
       "      <td>0</td>\n",
       "      <td>1</td>\n",
       "      <td>0</td>\n",
       "      <td>0</td>\n",
       "    </tr>\n",
       "  </tbody>\n",
       "</table>\n",
       "<p>5 rows × 300 columns</p>\n",
       "</div>"
      ],
      "text/plain": [
       "     25000  35  accordance  achieve  action  additional  advanced  age  agile  \\\n",
       "374      0   0           0        0       0           0         0    0      0   \n",
       "375      0   0           0        0       0           0         0    0      0   \n",
       "376      0   0           0        0       0           0         0    0      0   \n",
       "377      0   0           0        0       0           0         0    0      0   \n",
       "378      0   0           0        0       0           0         0    0      0   \n",
       "\n",
       "     aim  ...    visa  visually  warehousing  willing  work  workflow  \\\n",
       "374    0  ...       0         0            0        0     0         0   \n",
       "375    0  ...       0         0            0        0     0         0   \n",
       "376    0  ...       0         0            0        0     0         0   \n",
       "377    0  ...       0         0            0        0     0         0   \n",
       "378    0  ...       0         0            0        0     0         0   \n",
       "\n",
       "     working  workplace  xe2x80x93  years  \n",
       "374        0          0          0      0  \n",
       "375        0          0          0      0  \n",
       "376        0          0          0      0  \n",
       "377        0          0          0      0  \n",
       "378        0          1          0      0  \n",
       "\n",
       "[5 rows x 300 columns]"
      ]
     },
     "execution_count": 166,
     "metadata": {},
     "output_type": "execute_result"
    }
   ],
   "source": [
    "dtm.tail()"
   ]
  },
  {
   "cell_type": "markdown",
   "metadata": {
    "colab_type": "text",
    "id": "Zo1iH_UeY7_n"
   },
   "source": [
    "## 4) Visualize the most common word counts"
   ]
  },
  {
   "cell_type": "code",
   "execution_count": 167,
   "metadata": {
    "colab": {},
    "colab_type": "code",
    "id": "M5LB00uyZKV5"
   },
   "outputs": [
    {
     "data": {
      "text/plain": [
       "[('data', 4021),\n",
       " ('business', 1093),\n",
       " ('experience', 1022),\n",
       " (' ', 928),\n",
       " ('work', 927),\n",
       " ('science', 877),\n",
       " ('team', 859),\n",
       " ('learning', 842),\n",
       " ('machine', 667),\n",
       " ('analytics', 645)]"
      ]
     },
     "execution_count": 167,
     "metadata": {},
     "output_type": "execute_result"
    }
   ],
   "source": [
    "# Object from Base Python\n",
    "from collections import Counter\n",
    "\n",
    "# The object `Counter` takes an iterable, but you can instaniate an empty one and update it. \n",
    "word_counts = Counter()\n",
    "\n",
    "# Update it based on a split of each of our documents\n",
    "df['tokens'].apply(lambda x: word_counts.update(x))\n",
    "\n",
    "# Print out the 10 most common words\n",
    "word_counts.most_common(10)"
   ]
  },
  {
   "cell_type": "code",
   "execution_count": 168,
   "metadata": {},
   "outputs": [],
   "source": [
    "def count(docs):\n",
    "\n",
    "        word_counts = Counter()\n",
    "        appears_in = Counter()\n",
    "        \n",
    "        total_docs = len(docs)\n",
    "\n",
    "        for doc in docs:\n",
    "            word_counts.update(doc)\n",
    "            appears_in.update(set(doc))\n",
    "\n",
    "        temp = list(zip(word_counts.keys(), word_counts.values()))\n",
    "        \n",
    "        wc = pd.DataFrame(temp, columns = ['word', 'count'])\n",
    "\n",
    "        wc['rank'] = wc['count'].rank(method='first', ascending=False)\n",
    "        total = wc['count'].sum()\n",
    "\n",
    "        wc['pct_total'] = wc['count'].apply(lambda x: x / total)\n",
    "        \n",
    "        wc = wc.sort_values(by='rank')\n",
    "        wc['cul_pct_total'] = wc['pct_total'].cumsum()\n",
    "\n",
    "        t2 = list(zip(appears_in.keys(), appears_in.values()))\n",
    "        ac = pd.DataFrame(t2, columns=['word', 'appears_in'])\n",
    "        wc = ac.merge(wc, on='word')\n",
    "\n",
    "        wc['appears_in_pct'] = wc['appears_in'].apply(lambda x: x / total_docs)\n",
    "        \n",
    "        return wc.sort_values(by='rank')"
   ]
  },
  {
   "cell_type": "code",
   "execution_count": 169,
   "metadata": {},
   "outputs": [],
   "source": [
    "# Use the Function\n",
    "wc = count(df['tokens'])"
   ]
  },
  {
   "cell_type": "code",
   "execution_count": 170,
   "metadata": {},
   "outputs": [
    {
     "data": {
      "image/png": "[encoded data removed]",
      "text/plain": [
       "<Figure size 432x288 with 1 Axes>"
      ]
     },
     "metadata": {
      "needs_background": "light"
     },
     "output_type": "display_data"
    }
   ],
   "source": [
    "import squarify\n",
    "import matplotlib.pyplot as plt\n",
    "\n",
    "wc_top20 = wc[wc['rank'] <= 20]\n",
    "\n",
    "squarify.plot(sizes=wc_top20['pct_total'], label=wc_top20['word'], alpha=.8 )\n",
    "plt.axis('off')\n",
    "plt.show()"
   ]
  },
  {
   "cell_type": "markdown",
   "metadata": {
    "colab_type": "text",
    "id": "bwFsTqrVZMYi"
   },
   "source": [
    "## 5) Use Scikit-Learn's tfidfVectorizer to get a TF-IDF feature matrix"
   ]
  },
  {
   "cell_type": "code",
   "execution_count": 203,
   "metadata": {},
   "outputs": [],
   "source": [
    "def tokenize(document):\n",
    "    \n",
    "    doc = nlp(document)\n",
    "    \n",
    "    return [token.lemma_.strip() for token in doc if (token.is_stop != True) and (token.is_punct != True)]\n"
   ]
  },
  {
   "cell_type": "code",
   "execution_count": 212,
   "metadata": {
    "colab": {},
    "colab_type": "code",
    "id": "-gx2gZCbl5Np"
   },
   "outputs": [
    {
     "data": {
      "text/plain": [
       "(426, 2610)"
      ]
     },
     "execution_count": 212,
     "metadata": {},
     "output_type": "execute_result"
    }
   ],
   "source": [
    "from sklearn.feature_extraction.text import TfidfVectorizer\n",
    "\n",
    "# Instantiate vectorizer object\n",
    "tfidf = TfidfVectorizer(stop_words='english',\n",
    "                       ngram_range=(1,2),\n",
    "                       max_df=.97,\n",
    "                       min_df=.02,\n",
    "                       tokenizer=tokenize)\n",
    "\n",
    "# Create a vocabulary and get word counts for each document\n",
    "dtm = tfidf.fit_transform(df['text'])\n",
    "\n",
    "# Get feature names to use as dataframe column headers\n",
    "dtm = pd.DataFrame(dtm.todense(), columns=tfidf.get_feature_names())\n",
    "\n",
    "# View feature matrix as df\n",
    "dtm.shape"
   ]
  },
  {
   "cell_type": "markdown",
   "metadata": {},
   "source": [
    "## 6) Create a NearestNeighbor Model. Write the description of your ideal datascience job and query your job listings. "
   ]
  },
  {
   "cell_type": "code",
   "execution_count": 214,
   "metadata": {
    "collapsed": false,
    "inputHidden": false,
    "jupyter": {
     "outputs_hidden": false
    },
    "outputHidden": false
   },
   "outputs": [],
   "source": [
    "# Calculate Distance of TF-IDF Vectors\n",
    "from sklearn.metrics.pairwise import cosine_similarity\n",
    "\n",
    "dist_matrix  = cosine_similarity(dtm)"
   ]
  },
  {
   "cell_type": "code",
   "execution_count": 215,
   "metadata": {},
   "outputs": [],
   "source": [
    "df_dist_matrix = pd.DataFrame(dist_matrix)"
   ]
  },
  {
   "cell_type": "code",
   "execution_count": 216,
   "metadata": {},
   "outputs": [
    {
     "data": {
      "text/plain": [
       "(426, 426)"
      ]
     },
     "execution_count": 216,
     "metadata": {},
     "output_type": "execute_result"
    }
   ],
   "source": [
    "df_dist_matrix.shape"
   ]
  },
  {
   "cell_type": "code",
   "execution_count": 218,
   "metadata": {},
   "outputs": [
    {
     "data": {
      "text/plain": [
       "42     0.191394\n",
       "138    0.191394\n",
       "338    0.173859\n",
       "403    0.170600\n",
       "115    0.159438\n",
       "Name: 0, dtype: float64"
      ]
     },
     "execution_count": 218,
     "metadata": {},
     "output_type": "execute_result"
    }
   ],
   "source": [
    "# Check for closest neighbors\n",
    "df_dist_matrix[df_dist_matrix[0] < 1][0].sort_values(ascending=False)[:5]"
   ]
  },
  {
   "cell_type": "code",
   "execution_count": 226,
   "metadata": {},
   "outputs": [
    {
     "name": "stdout",
     "output_type": "stream",
     "text": [
      "bWe are looking for an experienced Data Scientist to launch our new analytical framework for predicting consumer behavior in the mortgage buying proce\n"
     ]
    }
   ],
   "source": [
    "print(df['text'][300][:150])"
   ]
  },
  {
   "cell_type": "code",
   "execution_count": 227,
   "metadata": {},
   "outputs": [
    {
     "data": {
      "text/html": [
       "<div>\n",
       "<style scoped>\n",
       "    .dataframe tbody tr th:only-of-type {\n",
       "        vertical-align: middle;\n",
       "    }\n",
       "\n",
       "    .dataframe tbody tr th {\n",
       "        vertical-align: top;\n",
       "    }\n",
       "\n",
       "    .dataframe thead th {\n",
       "        text-align: right;\n",
       "    }\n",
       "</style>\n",
       "<table border=\"1\" class=\"dataframe\">\n",
       "  <thead>\n",
       "    <tr style=\"text-align: right;\">\n",
       "      <th></th>\n",
       "      <th></th>\n",
       "      <th>analytics</th>\n",
       "      <th>data</th>\n",
       "      <th>1</th>\n",
       "      <th>1 year</th>\n",
       "      <th>10</th>\n",
       "      <th>100</th>\n",
       "      <th>12</th>\n",
       "      <th>12 months</th>\n",
       "      <th>2</th>\n",
       "      <th>...</th>\n",
       "      <th>years relevant</th>\n",
       "      <th>years work</th>\n",
       "      <th>yearsxe2x80x99</th>\n",
       "      <th>yearsxe2x80x99 experience</th>\n",
       "      <th>york</th>\n",
       "      <th>york city</th>\n",
       "      <th>youxe2x80x99ll</th>\n",
       "      <th>youxe2x80x99ll work</th>\n",
       "      <th>youxe2x80x99re</th>\n",
       "      <th>youxe2x80x99ve</th>\n",
       "    </tr>\n",
       "  </thead>\n",
       "  <tbody>\n",
       "    <tr>\n",
       "      <th>0</th>\n",
       "      <td>0.000000</td>\n",
       "      <td>0.0</td>\n",
       "      <td>0.0</td>\n",
       "      <td>0.000000</td>\n",
       "      <td>0.00000</td>\n",
       "      <td>0.0</td>\n",
       "      <td>0.0</td>\n",
       "      <td>0.0</td>\n",
       "      <td>0.0</td>\n",
       "      <td>0.142498</td>\n",
       "      <td>...</td>\n",
       "      <td>0.0</td>\n",
       "      <td>0.0</td>\n",
       "      <td>0.0</td>\n",
       "      <td>0.0</td>\n",
       "      <td>0.0</td>\n",
       "      <td>0.0</td>\n",
       "      <td>0.0</td>\n",
       "      <td>0.0</td>\n",
       "      <td>0.0</td>\n",
       "      <td>0.0</td>\n",
       "    </tr>\n",
       "    <tr>\n",
       "      <th>1</th>\n",
       "      <td>0.054047</td>\n",
       "      <td>0.0</td>\n",
       "      <td>0.0</td>\n",
       "      <td>0.139382</td>\n",
       "      <td>0.08633</td>\n",
       "      <td>0.0</td>\n",
       "      <td>0.0</td>\n",
       "      <td>0.0</td>\n",
       "      <td>0.0</td>\n",
       "      <td>0.000000</td>\n",
       "      <td>...</td>\n",
       "      <td>0.0</td>\n",
       "      <td>0.0</td>\n",
       "      <td>0.0</td>\n",
       "      <td>0.0</td>\n",
       "      <td>0.0</td>\n",
       "      <td>0.0</td>\n",
       "      <td>0.0</td>\n",
       "      <td>0.0</td>\n",
       "      <td>0.0</td>\n",
       "      <td>0.0</td>\n",
       "    </tr>\n",
       "    <tr>\n",
       "      <th>2</th>\n",
       "      <td>0.000000</td>\n",
       "      <td>0.0</td>\n",
       "      <td>0.0</td>\n",
       "      <td>0.000000</td>\n",
       "      <td>0.00000</td>\n",
       "      <td>0.0</td>\n",
       "      <td>0.0</td>\n",
       "      <td>0.0</td>\n",
       "      <td>0.0</td>\n",
       "      <td>0.000000</td>\n",
       "      <td>...</td>\n",
       "      <td>0.0</td>\n",
       "      <td>0.0</td>\n",
       "      <td>0.0</td>\n",
       "      <td>0.0</td>\n",
       "      <td>0.0</td>\n",
       "      <td>0.0</td>\n",
       "      <td>0.0</td>\n",
       "      <td>0.0</td>\n",
       "      <td>0.0</td>\n",
       "      <td>0.0</td>\n",
       "    </tr>\n",
       "    <tr>\n",
       "      <th>3</th>\n",
       "      <td>0.068972</td>\n",
       "      <td>0.0</td>\n",
       "      <td>0.0</td>\n",
       "      <td>0.000000</td>\n",
       "      <td>0.00000</td>\n",
       "      <td>0.0</td>\n",
       "      <td>0.0</td>\n",
       "      <td>0.0</td>\n",
       "      <td>0.0</td>\n",
       "      <td>0.000000</td>\n",
       "      <td>...</td>\n",
       "      <td>0.0</td>\n",
       "      <td>0.0</td>\n",
       "      <td>0.0</td>\n",
       "      <td>0.0</td>\n",
       "      <td>0.0</td>\n",
       "      <td>0.0</td>\n",
       "      <td>0.0</td>\n",
       "      <td>0.0</td>\n",
       "      <td>0.0</td>\n",
       "      <td>0.0</td>\n",
       "    </tr>\n",
       "    <tr>\n",
       "      <th>4</th>\n",
       "      <td>0.000000</td>\n",
       "      <td>0.0</td>\n",
       "      <td>0.0</td>\n",
       "      <td>0.000000</td>\n",
       "      <td>0.00000</td>\n",
       "      <td>0.0</td>\n",
       "      <td>0.0</td>\n",
       "      <td>0.0</td>\n",
       "      <td>0.0</td>\n",
       "      <td>0.000000</td>\n",
       "      <td>...</td>\n",
       "      <td>0.0</td>\n",
       "      <td>0.0</td>\n",
       "      <td>0.0</td>\n",
       "      <td>0.0</td>\n",
       "      <td>0.0</td>\n",
       "      <td>0.0</td>\n",
       "      <td>0.0</td>\n",
       "      <td>0.0</td>\n",
       "      <td>0.0</td>\n",
       "      <td>0.0</td>\n",
       "    </tr>\n",
       "  </tbody>\n",
       "</table>\n",
       "<p>5 rows × 2610 columns</p>\n",
       "</div>"
      ],
      "text/plain": [
       "              analytics   data         1   1 year   10  100   12  12 months  \\\n",
       "0  0.000000         0.0    0.0  0.000000  0.00000  0.0  0.0  0.0        0.0   \n",
       "1  0.054047         0.0    0.0  0.139382  0.08633  0.0  0.0  0.0        0.0   \n",
       "2  0.000000         0.0    0.0  0.000000  0.00000  0.0  0.0  0.0        0.0   \n",
       "3  0.068972         0.0    0.0  0.000000  0.00000  0.0  0.0  0.0        0.0   \n",
       "4  0.000000         0.0    0.0  0.000000  0.00000  0.0  0.0  0.0        0.0   \n",
       "\n",
       "          2       ...        years relevant  years work  yearsxe2x80x99  \\\n",
       "0  0.142498       ...                   0.0         0.0             0.0   \n",
       "1  0.000000       ...                   0.0         0.0             0.0   \n",
       "2  0.000000       ...                   0.0         0.0             0.0   \n",
       "3  0.000000       ...                   0.0         0.0             0.0   \n",
       "4  0.000000       ...                   0.0         0.0             0.0   \n",
       "\n",
       "   yearsxe2x80x99 experience  york  york city  youxe2x80x99ll  \\\n",
       "0                        0.0   0.0        0.0             0.0   \n",
       "1                        0.0   0.0        0.0             0.0   \n",
       "2                        0.0   0.0        0.0             0.0   \n",
       "3                        0.0   0.0        0.0             0.0   \n",
       "4                        0.0   0.0        0.0             0.0   \n",
       "\n",
       "   youxe2x80x99ll work  youxe2x80x99re  youxe2x80x99ve  \n",
       "0                  0.0             0.0             0.0  \n",
       "1                  0.0             0.0             0.0  \n",
       "2                  0.0             0.0             0.0  \n",
       "3                  0.0             0.0             0.0  \n",
       "4                  0.0             0.0             0.0  \n",
       "\n",
       "[5 rows x 2610 columns]"
      ]
     },
     "execution_count": 227,
     "metadata": {},
     "output_type": "execute_result"
    }
   ],
   "source": [
    "dtm.head()"
   ]
  },
  {
   "cell_type": "code",
   "execution_count": 228,
   "metadata": {},
   "outputs": [
    {
     "data": {
      "text/plain": [
       "NearestNeighbors(algorithm='kd_tree', leaf_size=30, metric='minkowski',\n",
       "         metric_params=None, n_jobs=None, n_neighbors=5, p=2, radius=1.0)"
      ]
     },
     "execution_count": 228,
     "metadata": {},
     "output_type": "execute_result"
    }
   ],
   "source": [
    "from sklearn.neighbors import NearestNeighbors\n",
    "\n",
    "# Fit on DTM\n",
    "nn = NearestNeighbors(n_neighbors=5, algorithm='kd_tree')\n",
    "nn.fit(dtm)"
   ]
  },
  {
   "cell_type": "code",
   "execution_count": 230,
   "metadata": {},
   "outputs": [
    {
     "data": {
      "text/plain": [
       "(array([[0.        , 1.27169675, 1.27169675, 1.28541136, 1.28794386]]),\n",
       " array([[  0, 138,  42, 338, 403]]))"
      ]
     },
     "execution_count": 230,
     "metadata": {},
     "output_type": "execute_result"
    }
   ],
   "source": [
    "# Check that these are the same neighbors\n",
    "nn.kneighbors([dtm.iloc[0].values])"
   ]
  },
  {
   "cell_type": "code",
   "execution_count": 232,
   "metadata": {},
   "outputs": [],
   "source": [
    "ideal_ds_job_description = [''' I'll take anything I can get ''']\n",
    "\n",
    "ideal = tfidf.transform(ideal_ds_job_description)"
   ]
  },
  {
   "cell_type": "code",
   "execution_count": 233,
   "metadata": {},
   "outputs": [
    {
     "data": {
      "text/plain": [
       "(array([[0.8181219 , 1.14083696, 1.2026678 , 1.2026678 , 1.20314931]]),\n",
       " array([[124, 169,  28,  12, 215]]))"
      ]
     },
     "execution_count": 233,
     "metadata": {},
     "output_type": "execute_result"
    }
   ],
   "source": [
    "nn.kneighbors(ideal.todense())"
   ]
  },
  {
   "cell_type": "code",
   "execution_count": 234,
   "metadata": {},
   "outputs": [
    {
     "data": {
      "text/plain": [
       "'bKeysight Marketing is hiring a data scientist to scale up insights that are a foundational element for Marketing transformation You will be part of the data analysts team whose goal is to build analytic capabilities that support the strategy planning and execution of Marketing activitiesnnYou will need to have a deep competency and strong experience with statistics modeling using data science tools and applying them to the real world of customer targeting and optimizing ROInnResponsibilitiesnYour focus will be generating customer insights the improve online and offline customer experience and targetingnYou will also focus on automating reporting that can be easily consumed by different stakeholdersnYou will consolidate validate and investigate big data from multiple sources to find and deliver actionable insights to business partners and to upper management to make informed business decisionsnYou will create datadriven attribution statistical models of Marketing touches and customer responses to measure and maximize ROInDevelop Propensity Score Matching for segmentation of customersnJob DescriptionnKeysight Marketing is hiring a data scientist to scale up insights that are a foundational element for Marketing transformation You will be part of the data analysts team whose goal is to build analytic capabilities that support the strategy planning and execution of Marketing activitiesnnYou will need to have a deep competency and strong experience with statistics modeling using data science tools and applying them to the real world of customer targeting and optimizing ROInnResponsibilitiesnYour focus will be generating customer insights the improve online and offline customer experience and targetingnYou will also focus on automating reporting that can be easily consumed by different stakeholdersnYou will consolidate validate and investigate big data from multiple sources to find and deliver actionable insights to business partners and to upper management to make informed business decisionsnYou will create datadriven attribution statistical models of Marketing touches and customer responses to measure and maximize ROInDevelop Propensity Score Matching for segmentation of customersnJob QualificationsnWho You ArennAnalytical with a proven track record of expertlevel ability in analytical techniques model development and deployment of highvelocity transactional datanA leader You can lead others to solve complex problems use sophisticated analytical thought to exercise judgment identify innovative solutions and coordinate with multiple stakeholdersnA communicator with strong interpersonal skills ability to work effectively with all levels of the organizationnA Selfmotivator who is highly organized can assess prioritize of projects and manage multiple tasks simultaneouslnnDesired Skills and QualificationsnnBS MS in a field related to Data Science Computer Engineering Statistics Mathematics or a closely related quantitative field with 4 years of work or research experience in applied data sciencenComfortable with both structured and unstructured datanStrong competency in R Python or SQLnExperience with visualization tools such as DOMO or TableaunExperience with analytics tools as Adobe Analytics Google AnalyticsnFamiliarity with big data processing such as Hadoop is a plusnJob FunctionnnPrivacy StatementnKeysight is an Equal Opportunity EmployernKeysight Technologies Inc is an equal opportunity employer Qualified applicants will receive consideration for employment without regard to race color religion sex sexual orientation gender identity national origin protected veteran status disability or any other protected categories under all applicable lawsnCandidates can be considered to work from the following locationsnAmericas  United States  Arizona  Tempe  Americas  United States  California  Anaheim  Americas  United States  California  Calabasas  Americas  United States  California  El Segundo  Americas  United States  California  Irvine Voscal  Americas  United States  California  Roseville  Americas  United States  California  San Diego  Americas  United States  California  Santa Clara  Americas  United States  California  Santa Rosa  Americas  United States  California  Westlake Village  Americas  United States  Colorado  Colorado Springs  Americas  United States  Colorado  Englewood  Americas  United States  Colorado  Englewood  Americas  United States  Colorado  Loveland  Americas  United States  Florida  Boca Raton  Americas  United States  Florida  Orlando  Americas  United States  Georgia  Alpharetta  Americas  United States  Georgia  Atlanta  Americas  United States  Illinois  Arlington Heights  Americas  United States  Illinois  Schaumburg  Americas  United States  Iowa  Elk Horn  Americas  United States  Maryland  Columbia  Americas  United States  Massachusetts  Andover  Americas  United States  Michigan  Detroit  Americas  United States  Michigan  Novi  Americas  United States  New Hampshire  Nashua  Americas  United States  New Jersey  Budd Lake  Americas  United States  New Mexico  Albuquerque  Americas  United States  New York  Cold Springs  Americas  United States  New York  Pittsford  Americas  United States  New York  Rochester  Americas  United States  New York  Utica  Americas  United States  North Carolina  Apex  Americas  United States  North Carolina  Morrisville  Americas  United States  Ohio  Mentor  Americas  United States  Oregon  Beaverton  Americas  United States  Oregon  Lake Oswego  Americas  United States  Pennsylvania  Bethlehem  Americas  United States  Pennsylvania  Philadelphia  Americas  United States  Puerto Rico  San Juan  Americas  United States  Texas  Austin  Americas  United States  Texas  Dallas  Americas  United States  Texas  Plano  Americas  United States  Texas  Richardson  Americas  United States  Utah  Salt Lake City  Americas  United States  Virginia  Chantilly  Americas  United States  Washington  Everett  Americas  United States  Washington  PleasantonnJob ID  33051'"
      ]
     },
     "execution_count": 234,
     "metadata": {},
     "output_type": "execute_result"
    }
   ],
   "source": [
    "# Inspect most relevant result\n",
    "df['text'][124]"
   ]
  },
  {
   "cell_type": "markdown",
   "metadata": {
    "colab_type": "text",
    "id": "FiDfTWceoRkH"
   },
   "source": [
    "## Stretch Goals\n",
    "\n",
    " - Try different visualizations for words and frequencies - what story do you want to tell with the data?\n",
    " - Scrape Job Listings for the job title \"Data Analyst\". How do these differ from Data Scientist Job Listings\n",
    " - Try and identify requirements for experience specific technologies that are asked for in the job listings. How are those distributed among the job listings?\n",
    " - Use a clustering algorithm to cluster documents by their most important terms. Do the clusters reveal any common themes?\n",
    "  - **Hint:** K-means might not be the best algorithm for this. Do a little bit of research to see what might be good for this. Also, remember that algorithms that depend on Euclidean distance break down with high dimensional data.\n",
    " - Create a labeled dataset - which jobs will you apply for? Train a model to select the jobs you are most likely to apply for. :) "
   ]
  }
 ],
 "metadata": {
  "colab": {
   "collapsed_sections": [],
   "name": "LS_DS_422_BOW_Assignment.ipynb",
   "provenance": [],
   "version": "0.3.2"
  },
  "kernel_info": {
   "name": "python3"
  },
  "kernelspec": {
   "display_name": "Python 3",
   "language": "python",
   "name": "python3"
  },
  "language_info": {
   "codemirror_mode": {
    "name": "ipython",
    "version": 3
   },
   "file_extension": ".py",
   "mimetype": "text/x-python",
   "name": "python",
   "nbconvert_exporter": "python",
   "pygments_lexer": "ipython3",
   "version": "3.7.1"
  },
  "nteract": {
   "version": "0.14.3"
  }
 },
 "nbformat": 4,
 "nbformat_minor": 4
}
