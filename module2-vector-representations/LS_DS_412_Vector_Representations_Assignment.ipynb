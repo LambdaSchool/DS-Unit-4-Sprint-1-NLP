{
 "cells": [
  {
   "cell_type": "markdown",
   "metadata": {},
   "source": [
    "<img align=\"left\" src=\"https://lever-client-logos.s3.amazonaws.com/864372b1-534c-480e-acd5-9711f850815c-1524247202159.png\" width=200>\n",
    "<br></br>\n",
    "<br></br>\n",
    "\n",
    "## *Data Science Unit 4 Sprint 2 Assignment 2*\n",
    "\n",
    "# Document Representations: Bag-Of-Words"
   ]
  },
  {
   "cell_type": "code",
   "execution_count": 6,
   "metadata": {
    "colab": {
     "base_uri": "https://localhost:8080/",
     "height": 159
    },
    "colab_type": "code",
    "id": "hyj-f9FDcVFp",
    "outputId": "5dd045fe-6e4c-458c-e2fc-253c3da9c805"
   },
   "outputs": [
    {
     "name": "stdout",
     "output_type": "stream",
     "text": [
      "Requirement already up-to-date: nltk in c:\\users\\mhdal\\anaconda3\\envs\\lambda-nlp\\lib\\site-packages (3.4.4)\n",
      "Requirement already satisfied, skipping upgrade: six in c:\\users\\mhdal\\anaconda3\\envs\\lambda-nlp\\lib\\site-packages (from nltk) (1.12.0)\n"
     ]
    },
    {
     "name": "stderr",
     "output_type": "stream",
     "text": [
      "[nltk_data] Downloading package punkt to\n",
      "[nltk_data]     C:\\Users\\mhdal\\AppData\\Roaming\\nltk_data...\n",
      "[nltk_data]   Package punkt is already up-to-date!\n",
      "[nltk_data] Downloading package stopwords to\n",
      "[nltk_data]     C:\\Users\\mhdal\\AppData\\Roaming\\nltk_data...\n",
      "[nltk_data]   Package stopwords is already up-to-date!\n"
     ]
    }
   ],
   "source": [
    "import re\n",
    "import string\n",
    "\n",
    "!pip install -U nltk\n",
    "\n",
    "import nltk\n",
    "nltk.download('punkt')\n",
    "nltk.download('stopwords')\n",
    "from nltk.tokenize import sent_tokenize # Sentence Tokenizer\n",
    "from nltk.tokenize import word_tokenize # Word Tokenizer\n",
    "from nltk.corpus import stopwords\n",
    "from nltk.stem.porter import PorterStemmer\n",
    "from nltk.stem.wordnet import WordNetLemmatizer\n",
    "from nltk.probability import FreqDist\n",
    "\n",
    "from sklearn.feature_extraction.text import CountVectorizer\n",
    "from sklearn.feature_extraction.text import TfidfVectorizer\n",
    "import matplotlib.pyplot as plt\n",
    "import pandas as pd\n",
    "import numpy as np"
   ]
  },
  {
   "cell_type": "markdown",
   "metadata": {
    "colab_type": "text",
    "id": "M7bcmqfGXrFG"
   },
   "source": [
    "# 1) (optional) Scrape 100 Job Listings that contain the title \"Data Scientist\" from indeed.com\n",
    "\n",
    "At a minimum your final dataframe of job listings should contain\n",
    "- Job Title\n",
    "- Job Description\n",
    "\n",
    "If you choose to not to scrape the data, there is a CSV with outdated data in the directory. Remeber, if you scrape Indeed, you're helping yourself find a job. ;)"
   ]
  },
  {
   "cell_type": "code",
   "execution_count": 7,
   "metadata": {},
   "outputs": [],
   "source": [
    "from bs4 import BeautifulSoup\n",
    "import requests\n",
    "\n",
    "url = 'https://www.indeed.es/jobs?q=Data+scientist&l=Barcelona%2C+Barcelona+provincia'\n",
    "\n",
    "re = requests.get(url).text\n",
    "\n",
    "soup = BeautifulSoup(re)"
   ]
  },
  {
   "cell_type": "code",
   "execution_count": 8,
   "metadata": {},
   "outputs": [],
   "source": [
    "urls=[url]\n",
    "for i in range(10,100,10):\n",
    "    temp_url = url + '&start=' + str(i)\n",
    "    urls.append(temp_url)"
   ]
  },
  {
   "cell_type": "code",
   "execution_count": 9,
   "metadata": {},
   "outputs": [
    {
     "data": {
      "text/plain": [
       "['https://www.indeed.es/jobs?q=Data+scientist&l=Barcelona%2C+Barcelona+provincia',\n",
       " 'https://www.indeed.es/jobs?q=Data+scientist&l=Barcelona%2C+Barcelona+provincia&start=10',\n",
       " 'https://www.indeed.es/jobs?q=Data+scientist&l=Barcelona%2C+Barcelona+provincia&start=20',\n",
       " 'https://www.indeed.es/jobs?q=Data+scientist&l=Barcelona%2C+Barcelona+provincia&start=30',\n",
       " 'https://www.indeed.es/jobs?q=Data+scientist&l=Barcelona%2C+Barcelona+provincia&start=40',\n",
       " 'https://www.indeed.es/jobs?q=Data+scientist&l=Barcelona%2C+Barcelona+provincia&start=50',\n",
       " 'https://www.indeed.es/jobs?q=Data+scientist&l=Barcelona%2C+Barcelona+provincia&start=60',\n",
       " 'https://www.indeed.es/jobs?q=Data+scientist&l=Barcelona%2C+Barcelona+provincia&start=70',\n",
       " 'https://www.indeed.es/jobs?q=Data+scientist&l=Barcelona%2C+Barcelona+provincia&start=80',\n",
       " 'https://www.indeed.es/jobs?q=Data+scientist&l=Barcelona%2C+Barcelona+provincia&start=90']"
      ]
     },
     "execution_count": 9,
     "metadata": {},
     "output_type": "execute_result"
    }
   ],
   "source": [
    "urls"
   ]
  },
  {
   "cell_type": "code",
   "execution_count": 10,
   "metadata": {},
   "outputs": [],
   "source": [
    "def indexes_and_data(tag = 'None', class_name = 'None'):\n",
    "    data = []\n",
    "      #Runs if you only specify tag name\n",
    "\n",
    "    if class_name == 'None':\n",
    "        tag_list = soup.find_all(tag)\n",
    "        for num in range(len(tag_list)):\n",
    "            print(\"Index \" + str(num) + \": \" + tag_list[num].get_text())\n",
    "            data.append(tag_list[num].get_text())\n",
    "        return data\n",
    "      #Runs if you only specify class name\n",
    "    elif tag == 'None':\n",
    "        tag_list = soup.find_all(class_ = class_name)\n",
    "        for num in range(len(tag_list)):\n",
    "            print(\"Index \" + str(num) + \": \" + tag_list[num].get_text())\n",
    "            data.append(tag_list[num].get_text())\n",
    "        return data\n",
    "      #If using any of the above methods, make sure to specify parameters. \n",
    "      #Example indexes_and_data(tag= 'a') or indexes_and_data(class_name='whatever')\n",
    "\n",
    "      #Runs if both tag name and class are specified\n",
    "      #tag and class params don't need to be specified, Example indexes_and_data('a', 'whatever')\n",
    "    else:\n",
    "        tag_list = soup.find_all(tag, class_=class_name)\n",
    "        for num in range(len(tag_list)):\n",
    "            print(\"Index \" + str(num) + \": \" + tag_list[num].get_text())\n",
    "            data.append(tag_list[num].get_text())\n",
    "        return data"
   ]
  },
  {
   "cell_type": "code",
   "execution_count": 11,
   "metadata": {},
   "outputs": [],
   "source": [
    "# urls for each page in indeed\n",
    "urls=[url]\n",
    "for i in range(10,100,10):\n",
    "    temp_url = url + '&start=' + str(i)\n",
    "    urls.append(temp_url)"
   ]
  },
  {
   "cell_type": "code",
   "execution_count": 12,
   "metadata": {},
   "outputs": [],
   "source": [
    "links=[]\n",
    "for url in urls:\n",
    "        url_page = url\n",
    "        re_page = requests.get(url_page).text\n",
    "\n",
    "        soup_page = BeautifulSoup(re_page)\n",
    "        \n",
    "        productDivs = soup_page.find_all('div', attrs={'class' : 'title'})\n",
    "\n",
    "        for div in productDivs:\n",
    "            link = 'https://www.indeed.es/' + str(div.a['href'])\n",
    "            links.append(link)\n"
   ]
  },
  {
   "cell_type": "code",
   "execution_count": 181,
   "metadata": {},
   "outputs": [
    {
     "data": {
      "text/plain": [
       "100"
      ]
     },
     "execution_count": 181,
     "metadata": {},
     "output_type": "execute_result"
    }
   ],
   "source": [
    "len(links)"
   ]
  },
  {
   "cell_type": "code",
   "execution_count": 14,
   "metadata": {},
   "outputs": [],
   "source": [
    "descs=[]\n",
    "for url in links:\n",
    "    \n",
    "        url_desc = url\n",
    "\n",
    "        re_desc = requests.get(url_desc).text\n",
    "\n",
    "        soup_desc = BeautifulSoup(re_desc)\n",
    "\n",
    "        descDiv = soup_desc.find_all('div', attrs={'id' : 'jobDescriptionText'})\n",
    "        for div in descDiv:\n",
    "            descs.append(div.text)\n"
   ]
  },
  {
   "cell_type": "code",
   "execution_count": 15,
   "metadata": {},
   "outputs": [],
   "source": [
    "#icl-u-xs-mb--xs icl-u-xs-mt--none jobsearch-JobInfoHeader-title\n",
    "titles=[]\n",
    "for url in links:\n",
    "    \n",
    "        url_title = url\n",
    "\n",
    "        re_title = requests.get(url_title).text\n",
    "\n",
    "        soup_title = BeautifulSoup(re_title)\n",
    "\n",
    "        titleDiv = soup_title.find_all('div', attrs={'class' : 'icl-u-xs-mb--xs icl-u-xs-mt--none jobsearch-JobInfoHeader-title'})\n",
    "        for h in titleDiv:\n",
    "            titles.append(h.text)"
   ]
  },
  {
   "cell_type": "code",
   "execution_count": 16,
   "metadata": {},
   "outputs": [],
   "source": [
    "titles=[]\n",
    "for url in links:\n",
    "    \n",
    "        url_title = url\n",
    "\n",
    "        re_title = requests.get(url_title).text\n",
    "\n",
    "        soup_title = BeautifulSoup(re_title)\n",
    "\n",
    "        titleDiv = soup_title.find_all('h3',class_ = 'icl-u-xs-mb--xs icl-u-xs-mt--none jobsearch-JobInfoHeader-title')\n",
    "        for h in titleDiv:\n",
    "            titles.append(h.text)\n",
    "\n"
   ]
  },
  {
   "cell_type": "code",
   "execution_count": 17,
   "metadata": {},
   "outputs": [
    {
     "data": {
      "text/plain": [
       "100"
      ]
     },
     "execution_count": 17,
     "metadata": {},
     "output_type": "execute_result"
    }
   ],
   "source": [
    "len(descs)"
   ]
  },
  {
   "cell_type": "code",
   "execution_count": 18,
   "metadata": {},
   "outputs": [],
   "source": [
    "df = pd.DataFrame(list(zip(titles,descs)), columns = [\"title\", \"description\"])"
   ]
  },
  {
   "cell_type": "code",
   "execution_count": 182,
   "metadata": {},
   "outputs": [
    {
     "data": {
      "text/html": [
       "<div>\n",
       "<style scoped>\n",
       "    .dataframe tbody tr th:only-of-type {\n",
       "        vertical-align: middle;\n",
       "    }\n",
       "\n",
       "    .dataframe tbody tr th {\n",
       "        vertical-align: top;\n",
       "    }\n",
       "\n",
       "    .dataframe thead th {\n",
       "        text-align: right;\n",
       "    }\n",
       "</style>\n",
       "<table border=\"1\" class=\"dataframe\">\n",
       "  <thead>\n",
       "    <tr style=\"text-align: right;\">\n",
       "      <th></th>\n",
       "      <th>title</th>\n",
       "      <th>description</th>\n",
       "      <th>tokens</th>\n",
       "      <th>lemmas</th>\n",
       "      <th>lammatized_sentence</th>\n",
       "    </tr>\n",
       "  </thead>\n",
       "  <tbody>\n",
       "    <tr>\n",
       "      <th>0</th>\n",
       "      <td>Data Scientist – Bubble Witch 3 Saga Ads</td>\n",
       "      <td>Advertising is a growing business opportunity ...</td>\n",
       "      <td>[growing, business, opportunity, bw3s, created...</td>\n",
       "      <td>[advertising, be, a, grow, business, opportuni...</td>\n",
       "      <td>advertising be a grow business opportunity in...</td>\n",
       "    </tr>\n",
       "    <tr>\n",
       "      <th>1</th>\n",
       "      <td>Game Data Scientist</td>\n",
       "      <td>GAME DATA SCIENTIST\\nDo you want to be part of...</td>\n",
       "      <td>[data, scientist, \\n, do, want, worldwide, mob...</td>\n",
       "      <td>[game, data, scientist, \\n, do, want, to, be, ...</td>\n",
       "      <td>game data scientist \\n do want to be part of ...</td>\n",
       "    </tr>\n",
       "    <tr>\n",
       "      <th>2</th>\n",
       "      <td>Data Scientist</td>\n",
       "      <td>Función: Analizar grandes cantidades de datos ...</td>\n",
       "      <td>[analizar, grandes, cantidades, de, datos, y, ...</td>\n",
       "      <td>[función, analizar, grande, cantidade, de, dat...</td>\n",
       "      <td>función analizar grande cantidade de datos mo...</td>\n",
       "    </tr>\n",
       "    <tr>\n",
       "      <th>3</th>\n",
       "      <td>Data Scientist Fotocasa</td>\n",
       "      <td>We are looking for a Data Scientist to join ou...</td>\n",
       "      <td>[looking, data, scientist, join, team, fotocas...</td>\n",
       "      <td>[be, look, for, a, data, scientist, to, join, ...</td>\n",
       "      <td>be look for a data scientist to join -PRON- t...</td>\n",
       "    </tr>\n",
       "    <tr>\n",
       "      <th>4</th>\n",
       "      <td>Senior Marketing Data Scientist</td>\n",
       "      <td>About Typeform\\n\\nFounded circa 2012 in Barcel...</td>\n",
       "      <td>[typeform, \\n\\n, founded, circa, 2012, barcelo...</td>\n",
       "      <td>[about, typeform, \\n\\n, found, circa, 2012, in...</td>\n",
       "      <td>about typeform \\n\\n found circa 2012 in barce...</td>\n",
       "    </tr>\n",
       "  </tbody>\n",
       "</table>\n",
       "</div>"
      ],
      "text/plain": [
       "                                      title  \\\n",
       "0  Data Scientist – Bubble Witch 3 Saga Ads   \n",
       "1                       Game Data Scientist   \n",
       "2                            Data Scientist   \n",
       "3                   Data Scientist Fotocasa   \n",
       "4           Senior Marketing Data Scientist   \n",
       "\n",
       "                                         description  \\\n",
       "0  Advertising is a growing business opportunity ...   \n",
       "1  GAME DATA SCIENTIST\\nDo you want to be part of...   \n",
       "2  Función: Analizar grandes cantidades de datos ...   \n",
       "3  We are looking for a Data Scientist to join ou...   \n",
       "4  About Typeform\\n\\nFounded circa 2012 in Barcel...   \n",
       "\n",
       "                                              tokens  \\\n",
       "0  [growing, business, opportunity, bw3s, created...   \n",
       "1  [data, scientist, \\n, do, want, worldwide, mob...   \n",
       "2  [analizar, grandes, cantidades, de, datos, y, ...   \n",
       "3  [looking, data, scientist, join, team, fotocas...   \n",
       "4  [typeform, \\n\\n, founded, circa, 2012, barcelo...   \n",
       "\n",
       "                                              lemmas  \\\n",
       "0  [advertising, be, a, grow, business, opportuni...   \n",
       "1  [game, data, scientist, \\n, do, want, to, be, ...   \n",
       "2  [función, analizar, grande, cantidade, de, dat...   \n",
       "3  [be, look, for, a, data, scientist, to, join, ...   \n",
       "4  [about, typeform, \\n\\n, found, circa, 2012, in...   \n",
       "\n",
       "                                 lammatized_sentence  \n",
       "0   advertising be a grow business opportunity in...  \n",
       "1   game data scientist \\n do want to be part of ...  \n",
       "2   función analizar grande cantidade de datos mo...  \n",
       "3   be look for a data scientist to join -PRON- t...  \n",
       "4   about typeform \\n\\n found circa 2012 in barce...  "
      ]
     },
     "execution_count": 182,
     "metadata": {},
     "output_type": "execute_result"
    }
   ],
   "source": [
    "df.head()"
   ]
  },
  {
   "cell_type": "markdown",
   "metadata": {
    "colab_type": "text",
    "id": "5C4xFZNtX1m2"
   },
   "source": [
    "## 2) Use Spacy to tokenize / clean the listings "
   ]
  },
  {
   "cell_type": "code",
   "execution_count": 20,
   "metadata": {},
   "outputs": [],
   "source": [
    "import spacy\n",
    "from spacy.tokenizer import Tokenizer\n",
    "from nltk.stem import PorterStemmer\n",
    "\n",
    "nlp = spacy.load(\"en_core_web_lg\")"
   ]
  },
  {
   "cell_type": "code",
   "execution_count": 23,
   "metadata": {},
   "outputs": [],
   "source": [
    "tokenizer = Tokenizer(nlp.vocab)"
   ]
  },
  {
   "cell_type": "code",
   "execution_count": 24,
   "metadata": {},
   "outputs": [],
   "source": [
    "STOP_WORDS = nlp.Defaults.stop_words.union([' ','I', 'i', 'and', 'it', \"it's\", 'it.', 'the', 'this','of', 'is', 'my', 'but'])"
   ]
  },
  {
   "cell_type": "code",
   "execution_count": 25,
   "metadata": {},
   "outputs": [],
   "source": [
    "# Tokenizer Pipe\n",
    "\n",
    "tokens = []\n",
    "\n",
    "\"\"\" Make them tokens \"\"\"\n",
    "for doc in tokenizer.pipe(df['description'], batch_size=500):\n",
    "    doc_tokens = []\n",
    "    for token in doc[1:]:\n",
    "        if token.text not in STOP_WORDS:\n",
    "            doc_tokens.append(token.text.lower())\n",
    "    tokens.append(doc_tokens)\n",
    "        \n",
    "            \n",
    "df['tokens'] = tokens"
   ]
  },
  {
   "cell_type": "code",
   "execution_count": 28,
   "metadata": {},
   "outputs": [],
   "source": [
    "def get_lemmas(text):\n",
    "\n",
    "    lemmas = []\n",
    "    \n",
    "    doc = nlp(text)\n",
    "    \n",
    "    # Something goes here :P\n",
    "    for token in doc: \n",
    "        if ((token.is_stop == False) and (token.is_punct == False)) and (token.pos_!= 'PRON'):\n",
    "            lemmas.append(token.lemma_)\n",
    "    \n",
    "    return lemmas"
   ]
  },
  {
   "cell_type": "code",
   "execution_count": 31,
   "metadata": {},
   "outputs": [],
   "source": [
    "test = ['good','i']"
   ]
  },
  {
   "cell_type": "code",
   "execution_count": 32,
   "metadata": {},
   "outputs": [
    {
     "ename": "AttributeError",
     "evalue": "'list' object has no attribute 'is_stop'",
     "output_type": "error",
     "traceback": [
      "\u001b[1;31m---------------------------------------------------------------------------\u001b[0m",
      "\u001b[1;31mAttributeError\u001b[0m                            Traceback (most recent call last)",
      "\u001b[1;32m<ipython-input-32-355f059b3b01>\u001b[0m in \u001b[0;36m<module>\u001b[1;34m\u001b[0m\n\u001b[1;32m----> 1\u001b[1;33m \u001b[0mtest\u001b[0m\u001b[1;33m.\u001b[0m\u001b[0mis_stop\u001b[0m\u001b[1;33m\u001b[0m\u001b[1;33m\u001b[0m\u001b[0m\n\u001b[0m",
      "\u001b[1;31mAttributeError\u001b[0m: 'list' object has no attribute 'is_stop'"
     ]
    }
   ],
   "source": [
    "test.is_stop"
   ]
  },
  {
   "cell_type": "code",
   "execution_count": 27,
   "metadata": {},
   "outputs": [],
   "source": [
    "df['lemmas'] = df['description'].apply(get_lemmas)"
   ]
  },
  {
   "cell_type": "code",
   "execution_count": 29,
   "metadata": {},
   "outputs": [
    {
     "data": {
      "text/plain": [
       "0    [advertising, be, a, grow, business, opportuni...\n",
       "1    [game, data, scientist, \\n, do, want, to, be, ...\n",
       "2    [función, analizar, grande, cantidade, de, dat...\n",
       "3    [be, look, for, a, data, scientist, to, join, ...\n",
       "4    [about, typeform, \\n\\n, found, circa, 2012, in...\n",
       "Name: lemmas, dtype: object"
      ]
     },
     "execution_count": 29,
     "metadata": {},
     "output_type": "execute_result"
    }
   ],
   "source": [
    "df['lemmas'].head()"
   ]
  },
  {
   "cell_type": "code",
   "execution_count": 37,
   "metadata": {},
   "outputs": [
    {
     "data": {
      "text/html": [
       "<div>\n",
       "<style scoped>\n",
       "    .dataframe tbody tr th:only-of-type {\n",
       "        vertical-align: middle;\n",
       "    }\n",
       "\n",
       "    .dataframe tbody tr th {\n",
       "        vertical-align: top;\n",
       "    }\n",
       "\n",
       "    .dataframe thead th {\n",
       "        text-align: right;\n",
       "    }\n",
       "</style>\n",
       "<table border=\"1\" class=\"dataframe\">\n",
       "  <thead>\n",
       "    <tr style=\"text-align: right;\">\n",
       "      <th></th>\n",
       "      <th>title</th>\n",
       "      <th>description</th>\n",
       "      <th>tokens</th>\n",
       "      <th>lemmas</th>\n",
       "    </tr>\n",
       "  </thead>\n",
       "  <tbody>\n",
       "    <tr>\n",
       "      <th>0</th>\n",
       "      <td>Data Scientist – Bubble Witch 3 Saga Ads</td>\n",
       "      <td>Advertising is a growing business opportunity ...</td>\n",
       "      <td>[growing, business, opportunity, bw3s, created...</td>\n",
       "      <td>[advertising, be, a, grow, business, opportuni...</td>\n",
       "    </tr>\n",
       "    <tr>\n",
       "      <th>1</th>\n",
       "      <td>Game Data Scientist</td>\n",
       "      <td>GAME DATA SCIENTIST\\nDo you want to be part of...</td>\n",
       "      <td>[data, scientist, \\n, do, want, worldwide, mob...</td>\n",
       "      <td>[game, data, scientist, \\n, do, want, to, be, ...</td>\n",
       "    </tr>\n",
       "    <tr>\n",
       "      <th>2</th>\n",
       "      <td>Data Scientist</td>\n",
       "      <td>Función: Analizar grandes cantidades de datos ...</td>\n",
       "      <td>[analizar, grandes, cantidades, de, datos, y, ...</td>\n",
       "      <td>[función, analizar, grande, cantidade, de, dat...</td>\n",
       "    </tr>\n",
       "    <tr>\n",
       "      <th>3</th>\n",
       "      <td>Data Scientist Fotocasa</td>\n",
       "      <td>We are looking for a Data Scientist to join ou...</td>\n",
       "      <td>[looking, data, scientist, join, team, fotocas...</td>\n",
       "      <td>[be, look, for, a, data, scientist, to, join, ...</td>\n",
       "    </tr>\n",
       "    <tr>\n",
       "      <th>4</th>\n",
       "      <td>Senior Marketing Data Scientist</td>\n",
       "      <td>About Typeform\\n\\nFounded circa 2012 in Barcel...</td>\n",
       "      <td>[typeform, \\n\\n, founded, circa, 2012, barcelo...</td>\n",
       "      <td>[about, typeform, \\n\\n, found, circa, 2012, in...</td>\n",
       "    </tr>\n",
       "    <tr>\n",
       "      <th>5</th>\n",
       "      <td>Senior Customer Data Scientist</td>\n",
       "      <td>About Typeform\\n\\nFounded circa 2012 in Barcel...</td>\n",
       "      <td>[typeform, \\n\\n, founded, circa, 2012, barcelo...</td>\n",
       "      <td>[about, typeform, \\n\\n, found, circa, 2012, in...</td>\n",
       "    </tr>\n",
       "    <tr>\n",
       "      <th>6</th>\n",
       "      <td>VP of Data Science and Machine Learning</td>\n",
       "      <td>About Typeform\\n\\nFounded circa 2012 in Barcel...</td>\n",
       "      <td>[typeform, \\n\\n, founded, circa, 2012, barcelo...</td>\n",
       "      <td>[about, typeform, \\n\\n, found, circa, 2012, in...</td>\n",
       "    </tr>\n",
       "    <tr>\n",
       "      <th>7</th>\n",
       "      <td>Data Analyst</td>\n",
       "      <td>We are TravelPerk: a fast-growing, well-funded...</td>\n",
       "      <td>[travelperk:, fast-growing,, well-funded, star...</td>\n",
       "      <td>[be, travelperk, a, fast, grow, well, fund, st...</td>\n",
       "    </tr>\n",
       "    <tr>\n",
       "      <th>8</th>\n",
       "      <td>Game Data Scientist</td>\n",
       "      <td>We are looking for talented people. A rarely a...</td>\n",
       "      <td>[looking, talented, people., a, rarely, availa...</td>\n",
       "      <td>[be, look, for, talented, people, a, rarely, a...</td>\n",
       "    </tr>\n",
       "    <tr>\n",
       "      <th>9</th>\n",
       "      <td>Worldwide Supplies Data Scientist 3D Printing</td>\n",
       "      <td>Reporting into the WW 3D Current Business Dire...</td>\n",
       "      <td>[ww, 3d, current, business, director,, charge,...</td>\n",
       "      <td>[report, into, the, ww, 3d, current, business,...</td>\n",
       "    </tr>\n",
       "    <tr>\n",
       "      <th>10</th>\n",
       "      <td>Senior Marketing Data Scientist</td>\n",
       "      <td>About Typeform\\n\\nFounded circa 2012 in Barcel...</td>\n",
       "      <td>[typeform, \\n\\n, founded, circa, 2012, barcelo...</td>\n",
       "      <td>[about, typeform, \\n\\n, found, circa, 2012, in...</td>\n",
       "    </tr>\n",
       "    <tr>\n",
       "      <th>11</th>\n",
       "      <td>Senior Customer Data Scientist</td>\n",
       "      <td>About Typeform\\n\\nFounded circa 2012 in Barcel...</td>\n",
       "      <td>[typeform, \\n\\n, founded, circa, 2012, barcelo...</td>\n",
       "      <td>[about, typeform, \\n\\n, found, circa, 2012, in...</td>\n",
       "    </tr>\n",
       "    <tr>\n",
       "      <th>12</th>\n",
       "      <td>Senior Data Scientist</td>\n",
       "      <td>Glovo (glovoapp.com) is looking for world-clas...</td>\n",
       "      <td>[(glovoapp.com), looking, world-class, data, s...</td>\n",
       "      <td>[glovo, glovoapp.com, be, look, for, world, cl...</td>\n",
       "    </tr>\n",
       "    <tr>\n",
       "      <th>13</th>\n",
       "      <td>Data Analyst</td>\n",
       "      <td>We are TravelPerk: a fast-growing, well-funded...</td>\n",
       "      <td>[travelperk:, fast-growing,, well-funded, star...</td>\n",
       "      <td>[be, travelperk, a, fast, grow, well, fund, st...</td>\n",
       "    </tr>\n",
       "    <tr>\n",
       "      <th>14</th>\n",
       "      <td>Game Data Scientist</td>\n",
       "      <td>We are looking for talented people. A rarely a...</td>\n",
       "      <td>[looking, talented, people., a, rarely, availa...</td>\n",
       "      <td>[be, look, for, talented, people, a, rarely, a...</td>\n",
       "    </tr>\n",
       "    <tr>\n",
       "      <th>15</th>\n",
       "      <td>Expert Scientist, Bioassays and Biophysics</td>\n",
       "      <td>Si deseas iniciar tu carrera profesional en un...</td>\n",
       "      <td>[deseas, iniciar, tu, carrera, profesional, en...</td>\n",
       "      <td>[si, deseas, iniciar, tu, carrera, profesional...</td>\n",
       "    </tr>\n",
       "    <tr>\n",
       "      <th>16</th>\n",
       "      <td>Field Applications Scientist - Bioinformatics</td>\n",
       "      <td>Job Description\\nField Applications Scientist ...</td>\n",
       "      <td>[description, \\n, field, applications, scienti...</td>\n",
       "      <td>[job, description, \\n, field, applications, sc...</td>\n",
       "    </tr>\n",
       "    <tr>\n",
       "      <th>17</th>\n",
       "      <td>DATA SCIENTIST BARCELONA</td>\n",
       "      <td>DATA SCIENTIST BARCELONA\\n45.000-60.000 + BENE...</td>\n",
       "      <td>[scientist, barcelona, \\n, 45.000-60.000, +, b...</td>\n",
       "      <td>[data, scientist, barcelona, \\n, 45.000, 60.00...</td>\n",
       "    </tr>\n",
       "    <tr>\n",
       "      <th>18</th>\n",
       "      <td>Expert Scientist, Computational Chemistry</td>\n",
       "      <td>Si deseas iniciar tu carrera profesional en un...</td>\n",
       "      <td>[deseas, iniciar, tu, carrera, profesional, en...</td>\n",
       "      <td>[si, deseas, iniciar, tu, carrera, profesional...</td>\n",
       "    </tr>\n",
       "    <tr>\n",
       "      <th>19</th>\n",
       "      <td>CONSULTOR DATA SCIENCE BARCELONA</td>\n",
       "      <td>Management Solutions es una firma internaciona...</td>\n",
       "      <td>[solutions, es, una, firma, internacional, de,...</td>\n",
       "      <td>[management, solutions, es, una, firma, intern...</td>\n",
       "    </tr>\n",
       "    <tr>\n",
       "      <th>20</th>\n",
       "      <td>Senior Data Scientist</td>\n",
       "      <td>Glovo (glovoapp.com) is looking for world-clas...</td>\n",
       "      <td>[(glovoapp.com), looking, world-class, data, s...</td>\n",
       "      <td>[glovo, glovoapp.com, be, look, for, world, cl...</td>\n",
       "    </tr>\n",
       "    <tr>\n",
       "      <th>21</th>\n",
       "      <td>Senior Data Analyst</td>\n",
       "      <td>Due to being one of the fastest growing startu...</td>\n",
       "      <td>[fastest, growing, startups,, glovo,, constant...</td>\n",
       "      <td>[due, to, be, one, of, the, fast, grow, startu...</td>\n",
       "    </tr>\n",
       "    <tr>\n",
       "      <th>22</th>\n",
       "      <td>Medical Scientist Inflammation Cataluña</td>\n",
       "      <td>For Current Gilead Employees and Contractors:\\...</td>\n",
       "      <td>[current, gilead, employees, contractors:, \\n,...</td>\n",
       "      <td>[for, current, gilead, employees, and, contrac...</td>\n",
       "    </tr>\n",
       "    <tr>\n",
       "      <th>23</th>\n",
       "      <td>Data Engineer</td>\n",
       "      <td>As a Data Engineer at Adevinta, you will be at...</td>\n",
       "      <td>[data, engineer, adevinta,, heart, effort, uti...</td>\n",
       "      <td>[as, a, data, engineer, at, adevinta, will, be...</td>\n",
       "    </tr>\n",
       "    <tr>\n",
       "      <th>24</th>\n",
       "      <td>Data Scientist Technical Lead</td>\n",
       "      <td>About Typeform\\n\\nFounded circa 2012 in Barcel...</td>\n",
       "      <td>[typeform, \\n\\n, founded, circa, 2012, barcelo...</td>\n",
       "      <td>[about, typeform, \\n\\n, found, circa, 2012, in...</td>\n",
       "    </tr>\n",
       "    <tr>\n",
       "      <th>25</th>\n",
       "      <td>Data Scientist - Mobile Gaming</td>\n",
       "      <td>Data Scientist, Barcelona\\nTo €70,000 + reloca...</td>\n",
       "      <td>[scientist,, barcelona, \\n, to, €70,000, +, re...</td>\n",
       "      <td>[data, scientist, barcelona, \\n, to, €, 70,000...</td>\n",
       "    </tr>\n",
       "    <tr>\n",
       "      <th>26</th>\n",
       "      <td>Academic Training Officer</td>\n",
       "      <td>The Institute\\nThe Centre for Genomic Regulati...</td>\n",
       "      <td>[institute, \\n, the, centre, genomic, regulati...</td>\n",
       "      <td>[the, institute, \\n, the, centre, for, genomic...</td>\n",
       "    </tr>\n",
       "    <tr>\n",
       "      <th>27</th>\n",
       "      <td>Data Science Manager - Customer Intelligence</td>\n",
       "      <td>Glovo is hiring a strong Lead Data Scientist f...</td>\n",
       "      <td>[hiring, strong, lead, data, scientist, custom...</td>\n",
       "      <td>[glovo, be, hire, a, strong, lead, data, scien...</td>\n",
       "    </tr>\n",
       "    <tr>\n",
       "      <th>28</th>\n",
       "      <td>Bioinformatics Analyst Position</td>\n",
       "      <td>The Institute\\nThe Centro Nacional de Análisis...</td>\n",
       "      <td>[institute, \\n, the, centro, nacional, de, aná...</td>\n",
       "      <td>[the, institute, \\n, the, centro, nacional, de...</td>\n",
       "    </tr>\n",
       "    <tr>\n",
       "      <th>29</th>\n",
       "      <td>Field Applications Scientist - Bioinformatics</td>\n",
       "      <td>Job Description\\nField Applications Scientist ...</td>\n",
       "      <td>[description, \\n, field, applications, scienti...</td>\n",
       "      <td>[job, description, \\n, field, applications, sc...</td>\n",
       "    </tr>\n",
       "    <tr>\n",
       "      <th>...</th>\n",
       "      <td>...</td>\n",
       "      <td>...</td>\n",
       "      <td>...</td>\n",
       "      <td>...</td>\n",
       "    </tr>\n",
       "    <tr>\n",
       "      <th>70</th>\n",
       "      <td>Customer Service Coordinator with French (m/f/x)</td>\n",
       "      <td>Are you a proactive and motivated Customer Ser...</td>\n",
       "      <td>[proactive, motivated, customer, service, repr...</td>\n",
       "      <td>[be, a, proactive, and, motivated, customer, s...</td>\n",
       "    </tr>\n",
       "    <tr>\n",
       "      <th>71</th>\n",
       "      <td>Senior Data Analyst</td>\n",
       "      <td>Senior Data Analyst\\nBarcelona, to €60,000 + b...</td>\n",
       "      <td>[data, analyst, \\n, barcelona,, €60,000, +, bo...</td>\n",
       "      <td>[senior, data, analyst, \\n, barcelona, to, €, ...</td>\n",
       "    </tr>\n",
       "    <tr>\n",
       "      <th>72</th>\n",
       "      <td>Renewals Customer Success Specialist, Iberia</td>\n",
       "      <td>Reporting to a Customer Success Specialist Man...</td>\n",
       "      <td>[customer, success, specialist, manager,, cust...</td>\n",
       "      <td>[report, to, a, customer, success, specialist,...</td>\n",
       "    </tr>\n",
       "    <tr>\n",
       "      <th>73</th>\n",
       "      <td>Renewals Customer Success Specialist, Norwegian</td>\n",
       "      <td>Reporting to a Customer Success Specialist Man...</td>\n",
       "      <td>[customer, success, specialist, manager,, cust...</td>\n",
       "      <td>[report, to, a, customer, success, specialist,...</td>\n",
       "    </tr>\n",
       "    <tr>\n",
       "      <th>74</th>\n",
       "      <td>EHS Internship (M/F)</td>\n",
       "      <td>Basic Qualifications:\\nWe want to hire the wor...</td>\n",
       "      <td>[qualifications:, \\n, we, want, hire, world’s,...</td>\n",
       "      <td>[basic, qualifications, \\n, want, to, hire, th...</td>\n",
       "    </tr>\n",
       "    <tr>\n",
       "      <th>75</th>\n",
       "      <td>Gaming Data Engineer</td>\n",
       "      <td>Excellent opportunity as a Gaming Data Enginee...</td>\n",
       "      <td>[opportunity, gaming, data, engineer, barcelon...</td>\n",
       "      <td>[excellent, opportunity, as, a, gaming, data, ...</td>\n",
       "    </tr>\n",
       "    <tr>\n",
       "      <th>76</th>\n",
       "      <td>Advanced Analytics Lead</td>\n",
       "      <td>The Advanced Analytics Manager Finance is resp...</td>\n",
       "      <td>[advanced, analytics, manager, finance, respon...</td>\n",
       "      <td>[the, advanced, analytics, manager, finance, b...</td>\n",
       "    </tr>\n",
       "    <tr>\n",
       "      <th>77</th>\n",
       "      <td>Business Intelligence Analyst</td>\n",
       "      <td>How do you make decisions? SWOTs? Pros and con...</td>\n",
       "      <td>[decisions?, swots?, pros, cons?, a, coin, fli...</td>\n",
       "      <td>[how, do, make, decision, swot, pro, and, con,...</td>\n",
       "    </tr>\n",
       "    <tr>\n",
       "      <th>78</th>\n",
       "      <td>Senior Backend Engineer - Machine Learning Pla...</td>\n",
       "      <td>At Glovo we are constantly looking for passion...</td>\n",
       "      <td>[glovo, constantly, looking, passionate, exper...</td>\n",
       "      <td>[at, glovo, be, constantly, look, for, passion...</td>\n",
       "    </tr>\n",
       "    <tr>\n",
       "      <th>79</th>\n",
       "      <td>Data Engineer</td>\n",
       "      <td>Job Description\\nPrimary mission:\\nAs a Data E...</td>\n",
       "      <td>[description, \\n, primary, mission:, \\n, as, d...</td>\n",
       "      <td>[job, description, \\n, primary, mission, \\n, a...</td>\n",
       "    </tr>\n",
       "    <tr>\n",
       "      <th>80</th>\n",
       "      <td>Software Development Engineer</td>\n",
       "      <td>Bachelor’s degree or higher in Computer Scienc...</td>\n",
       "      <td>[degree, higher, computer, science,, engineeri...</td>\n",
       "      <td>[bachelor, ’s, degree, or, high, in, computer,...</td>\n",
       "    </tr>\n",
       "    <tr>\n",
       "      <th>81</th>\n",
       "      <td>Backend Engineer</td>\n",
       "      <td>The Role\\nExperimentation is vital to Adevinta...</td>\n",
       "      <td>[role, \\n, experimentation, vital, adevinta's,...</td>\n",
       "      <td>[the, role, \\n, experimentation, be, vital, to...</td>\n",
       "    </tr>\n",
       "    <tr>\n",
       "      <th>82</th>\n",
       "      <td>FrontEnd Engineer</td>\n",
       "      <td>Here at badi we are on a mission to create a p...</td>\n",
       "      <td>[badi, mission, create, product, people, love!...</td>\n",
       "      <td>[here, at, badi, be, on, a, mission, to, creat...</td>\n",
       "    </tr>\n",
       "    <tr>\n",
       "      <th>83</th>\n",
       "      <td>(Senior) Data Engineer (m/f/d)</td>\n",
       "      <td>XING provides advice and support to its more t...</td>\n",
       "      <td>[provides, advice, support, 16, million, membe...</td>\n",
       "      <td>[xing, provide, advice, and, support, to, -PRO...</td>\n",
       "    </tr>\n",
       "    <tr>\n",
       "      <th>84</th>\n",
       "      <td>Siri - Language Engineer (Danish)</td>\n",
       "      <td>Summary\\nPosted: Jul 5, 2019\\nWeekly Hours: 40...</td>\n",
       "      <td>[\\n, posted:, jul, 5,, 2019, \\n, weekly, hours...</td>\n",
       "      <td>[summary, \\n, posted, jul, 5, 2019, \\n, weekly...</td>\n",
       "    </tr>\n",
       "    <tr>\n",
       "      <th>85</th>\n",
       "      <td>Postdoctoral Position at the laboratory of Dr....</td>\n",
       "      <td>The Institute\\nThe Centre for Genomic Regulati...</td>\n",
       "      <td>[institute, \\n, the, centre, genomic, regulati...</td>\n",
       "      <td>[the, institute, \\n, the, centre, for, genomic...</td>\n",
       "    </tr>\n",
       "    <tr>\n",
       "      <th>86</th>\n",
       "      <td>EGA Backend Developer</td>\n",
       "      <td>The Institute\\nThe Centre for Genomic Regulati...</td>\n",
       "      <td>[institute, \\n, the, centre, genomic, regulati...</td>\n",
       "      <td>[the, institute, \\n, the, centre, for, genomic...</td>\n",
       "    </tr>\n",
       "    <tr>\n",
       "      <th>87</th>\n",
       "      <td>BackEnd Engineer - Ruby</td>\n",
       "      <td>Here at badi we are on a mission to create a p...</td>\n",
       "      <td>[badi, mission, create, product, people, love!...</td>\n",
       "      <td>[here, at, badi, be, on, a, mission, to, creat...</td>\n",
       "    </tr>\n",
       "    <tr>\n",
       "      <th>88</th>\n",
       "      <td>Senior Game Analyst</td>\n",
       "      <td>This is a fantastic opportunity to join a worl...</td>\n",
       "      <td>[fantastic, opportunity, join, worldwide, mobi...</td>\n",
       "      <td>[this, be, a, fantastic, opportunity, to, join...</td>\n",
       "    </tr>\n",
       "    <tr>\n",
       "      <th>89</th>\n",
       "      <td>Data Engineer</td>\n",
       "      <td>Our client, a pre-owned fashion online marketp...</td>\n",
       "      <td>[client,, pre-owned, fashion, online, marketpl...</td>\n",
       "      <td>[-PRON-, client, a, pre, own, fashion, online,...</td>\n",
       "    </tr>\n",
       "    <tr>\n",
       "      <th>90</th>\n",
       "      <td>Full-stack engineer</td>\n",
       "      <td>We are currently looking for an experienced fu...</td>\n",
       "      <td>[currently, looking, experienced, fullstack, e...</td>\n",
       "      <td>[be, currently, look, for, an, experienced, fu...</td>\n",
       "    </tr>\n",
       "    <tr>\n",
       "      <th>91</th>\n",
       "      <td>Data Engineer - Mobile Game</td>\n",
       "      <td>You will design and implement scalable systems...</td>\n",
       "      <td>[design, implement, scalable, systems, handle,...</td>\n",
       "      <td>[will, design, and, implement, scalable, syste...</td>\n",
       "    </tr>\n",
       "    <tr>\n",
       "      <th>92</th>\n",
       "      <td>Customer Success Specialist BIM 360, UK/I</td>\n",
       "      <td>We are a fun, driven and successful team. The ...</td>\n",
       "      <td>[fun,, driven, successful, team., the, cloud, ...</td>\n",
       "      <td>[be, a, fun, driven, and, successful, team, th...</td>\n",
       "    </tr>\n",
       "    <tr>\n",
       "      <th>93</th>\n",
       "      <td>Product Manager</td>\n",
       "      <td>Do you want to be part of a worldwide mobile g...</td>\n",
       "      <td>[want, worldwide, mobile, games, leader?, we, ...</td>\n",
       "      <td>[do, want, to, be, part, of, a, worldwide, mob...</td>\n",
       "    </tr>\n",
       "    <tr>\n",
       "      <th>94</th>\n",
       "      <td>Kafka DevOps Engineer</td>\n",
       "      <td>Platform Services\\n\\nOur systems are global-sc...</td>\n",
       "      <td>[services, \\n\\n, our, systems, global-scale, d...</td>\n",
       "      <td>[platform, services, \\n\\n, -PRON-, system, be,...</td>\n",
       "    </tr>\n",
       "    <tr>\n",
       "      <th>95</th>\n",
       "      <td>Product Designer UX/UI</td>\n",
       "      <td>Typeform was founded when two designers spotte...</td>\n",
       "      <td>[founded, designers, spotted, problem, engaged...</td>\n",
       "      <td>[typeform, be, found, when, two, designer, spo...</td>\n",
       "    </tr>\n",
       "    <tr>\n",
       "      <th>96</th>\n",
       "      <td>Machine Learning Engineer</td>\n",
       "      <td>Machine Learning Engineer\\nBarcelona\\n40.000-5...</td>\n",
       "      <td>[learning, engineer, \\n, barcelona, \\n, 40.000...</td>\n",
       "      <td>[machine, learning, engineer, \\n, barcelona, \\...</td>\n",
       "    </tr>\n",
       "    <tr>\n",
       "      <th>97</th>\n",
       "      <td>DevOps engineer</td>\n",
       "      <td>Platform Services\\n\\nOur systems are global-sc...</td>\n",
       "      <td>[services, \\n\\n, our, systems, global-scale, d...</td>\n",
       "      <td>[platform, services, \\n\\n, -PRON-, system, be,...</td>\n",
       "    </tr>\n",
       "    <tr>\n",
       "      <th>98</th>\n",
       "      <td>Data Engineer</td>\n",
       "      <td>Our client, a pre-owned fashion online marketp...</td>\n",
       "      <td>[client,, pre-owned, fashion, online, marketpl...</td>\n",
       "      <td>[-PRON-, client, a, pre, own, fashion, online,...</td>\n",
       "    </tr>\n",
       "    <tr>\n",
       "      <th>99</th>\n",
       "      <td>Technical Documentation Writer and Community S...</td>\n",
       "      <td>Project motivation\\nCARLA (http://carla.org) i...</td>\n",
       "      <td>[motivation, \\n, carla, (http://carla.org), in...</td>\n",
       "      <td>[project, motivation, \\n, carla, http://carla....</td>\n",
       "    </tr>\n",
       "  </tbody>\n",
       "</table>\n",
       "<p>100 rows × 4 columns</p>\n",
       "</div>"
      ],
      "text/plain": [
       "                                                title  \\\n",
       "0            Data Scientist – Bubble Witch 3 Saga Ads   \n",
       "1                                 Game Data Scientist   \n",
       "2                                      Data Scientist   \n",
       "3                             Data Scientist Fotocasa   \n",
       "4                     Senior Marketing Data Scientist   \n",
       "5                      Senior Customer Data Scientist   \n",
       "6             VP of Data Science and Machine Learning   \n",
       "7                                        Data Analyst   \n",
       "8                                 Game Data Scientist   \n",
       "9       Worldwide Supplies Data Scientist 3D Printing   \n",
       "10                    Senior Marketing Data Scientist   \n",
       "11                     Senior Customer Data Scientist   \n",
       "12                              Senior Data Scientist   \n",
       "13                                       Data Analyst   \n",
       "14                                Game Data Scientist   \n",
       "15         Expert Scientist, Bioassays and Biophysics   \n",
       "16      Field Applications Scientist - Bioinformatics   \n",
       "17                           DATA SCIENTIST BARCELONA   \n",
       "18          Expert Scientist, Computational Chemistry   \n",
       "19                   CONSULTOR DATA SCIENCE BARCELONA   \n",
       "20                              Senior Data Scientist   \n",
       "21                                Senior Data Analyst   \n",
       "22            Medical Scientist Inflammation Cataluña   \n",
       "23                                      Data Engineer   \n",
       "24                      Data Scientist Technical Lead   \n",
       "25                     Data Scientist - Mobile Gaming   \n",
       "26                          Academic Training Officer   \n",
       "27       Data Science Manager - Customer Intelligence   \n",
       "28                    Bioinformatics Analyst Position   \n",
       "29      Field Applications Scientist - Bioinformatics   \n",
       "..                                                ...   \n",
       "70   Customer Service Coordinator with French (m/f/x)   \n",
       "71                                Senior Data Analyst   \n",
       "72       Renewals Customer Success Specialist, Iberia   \n",
       "73    Renewals Customer Success Specialist, Norwegian   \n",
       "74                               EHS Internship (M/F)   \n",
       "75                               Gaming Data Engineer   \n",
       "76                            Advanced Analytics Lead   \n",
       "77                      Business Intelligence Analyst   \n",
       "78  Senior Backend Engineer - Machine Learning Pla...   \n",
       "79                                      Data Engineer   \n",
       "80                      Software Development Engineer   \n",
       "81                                   Backend Engineer   \n",
       "82                                  FrontEnd Engineer   \n",
       "83                     (Senior) Data Engineer (m/f/d)   \n",
       "84                  Siri - Language Engineer (Danish)   \n",
       "85  Postdoctoral Position at the laboratory of Dr....   \n",
       "86                              EGA Backend Developer   \n",
       "87                            BackEnd Engineer - Ruby   \n",
       "88                                Senior Game Analyst   \n",
       "89                                      Data Engineer   \n",
       "90                                Full-stack engineer   \n",
       "91                        Data Engineer - Mobile Game   \n",
       "92          Customer Success Specialist BIM 360, UK/I   \n",
       "93                                    Product Manager   \n",
       "94                              Kafka DevOps Engineer   \n",
       "95                             Product Designer UX/UI   \n",
       "96                          Machine Learning Engineer   \n",
       "97                                    DevOps engineer   \n",
       "98                                      Data Engineer   \n",
       "99  Technical Documentation Writer and Community S...   \n",
       "\n",
       "                                          description  \\\n",
       "0   Advertising is a growing business opportunity ...   \n",
       "1   GAME DATA SCIENTIST\\nDo you want to be part of...   \n",
       "2   Función: Analizar grandes cantidades de datos ...   \n",
       "3   We are looking for a Data Scientist to join ou...   \n",
       "4   About Typeform\\n\\nFounded circa 2012 in Barcel...   \n",
       "5   About Typeform\\n\\nFounded circa 2012 in Barcel...   \n",
       "6   About Typeform\\n\\nFounded circa 2012 in Barcel...   \n",
       "7   We are TravelPerk: a fast-growing, well-funded...   \n",
       "8   We are looking for talented people. A rarely a...   \n",
       "9   Reporting into the WW 3D Current Business Dire...   \n",
       "10  About Typeform\\n\\nFounded circa 2012 in Barcel...   \n",
       "11  About Typeform\\n\\nFounded circa 2012 in Barcel...   \n",
       "12  Glovo (glovoapp.com) is looking for world-clas...   \n",
       "13  We are TravelPerk: a fast-growing, well-funded...   \n",
       "14  We are looking for talented people. A rarely a...   \n",
       "15  Si deseas iniciar tu carrera profesional en un...   \n",
       "16  Job Description\\nField Applications Scientist ...   \n",
       "17  DATA SCIENTIST BARCELONA\\n45.000-60.000 + BENE...   \n",
       "18  Si deseas iniciar tu carrera profesional en un...   \n",
       "19  Management Solutions es una firma internaciona...   \n",
       "20  Glovo (glovoapp.com) is looking for world-clas...   \n",
       "21  Due to being one of the fastest growing startu...   \n",
       "22  For Current Gilead Employees and Contractors:\\...   \n",
       "23  As a Data Engineer at Adevinta, you will be at...   \n",
       "24  About Typeform\\n\\nFounded circa 2012 in Barcel...   \n",
       "25  Data Scientist, Barcelona\\nTo €70,000 + reloca...   \n",
       "26  The Institute\\nThe Centre for Genomic Regulati...   \n",
       "27  Glovo is hiring a strong Lead Data Scientist f...   \n",
       "28  The Institute\\nThe Centro Nacional de Análisis...   \n",
       "29  Job Description\\nField Applications Scientist ...   \n",
       "..                                                ...   \n",
       "70  Are you a proactive and motivated Customer Ser...   \n",
       "71  Senior Data Analyst\\nBarcelona, to €60,000 + b...   \n",
       "72  Reporting to a Customer Success Specialist Man...   \n",
       "73  Reporting to a Customer Success Specialist Man...   \n",
       "74  Basic Qualifications:\\nWe want to hire the wor...   \n",
       "75  Excellent opportunity as a Gaming Data Enginee...   \n",
       "76  The Advanced Analytics Manager Finance is resp...   \n",
       "77  How do you make decisions? SWOTs? Pros and con...   \n",
       "78  At Glovo we are constantly looking for passion...   \n",
       "79  Job Description\\nPrimary mission:\\nAs a Data E...   \n",
       "80  Bachelor’s degree or higher in Computer Scienc...   \n",
       "81  The Role\\nExperimentation is vital to Adevinta...   \n",
       "82  Here at badi we are on a mission to create a p...   \n",
       "83  XING provides advice and support to its more t...   \n",
       "84  Summary\\nPosted: Jul 5, 2019\\nWeekly Hours: 40...   \n",
       "85  The Institute\\nThe Centre for Genomic Regulati...   \n",
       "86  The Institute\\nThe Centre for Genomic Regulati...   \n",
       "87  Here at badi we are on a mission to create a p...   \n",
       "88  This is a fantastic opportunity to join a worl...   \n",
       "89  Our client, a pre-owned fashion online marketp...   \n",
       "90  We are currently looking for an experienced fu...   \n",
       "91  You will design and implement scalable systems...   \n",
       "92  We are a fun, driven and successful team. The ...   \n",
       "93  Do you want to be part of a worldwide mobile g...   \n",
       "94  Platform Services\\n\\nOur systems are global-sc...   \n",
       "95  Typeform was founded when two designers spotte...   \n",
       "96  Machine Learning Engineer\\nBarcelona\\n40.000-5...   \n",
       "97  Platform Services\\n\\nOur systems are global-sc...   \n",
       "98  Our client, a pre-owned fashion online marketp...   \n",
       "99  Project motivation\\nCARLA (http://carla.org) i...   \n",
       "\n",
       "                                               tokens  \\\n",
       "0   [growing, business, opportunity, bw3s, created...   \n",
       "1   [data, scientist, \\n, do, want, worldwide, mob...   \n",
       "2   [analizar, grandes, cantidades, de, datos, y, ...   \n",
       "3   [looking, data, scientist, join, team, fotocas...   \n",
       "4   [typeform, \\n\\n, founded, circa, 2012, barcelo...   \n",
       "5   [typeform, \\n\\n, founded, circa, 2012, barcelo...   \n",
       "6   [typeform, \\n\\n, founded, circa, 2012, barcelo...   \n",
       "7   [travelperk:, fast-growing,, well-funded, star...   \n",
       "8   [looking, talented, people., a, rarely, availa...   \n",
       "9   [ww, 3d, current, business, director,, charge,...   \n",
       "10  [typeform, \\n\\n, founded, circa, 2012, barcelo...   \n",
       "11  [typeform, \\n\\n, founded, circa, 2012, barcelo...   \n",
       "12  [(glovoapp.com), looking, world-class, data, s...   \n",
       "13  [travelperk:, fast-growing,, well-funded, star...   \n",
       "14  [looking, talented, people., a, rarely, availa...   \n",
       "15  [deseas, iniciar, tu, carrera, profesional, en...   \n",
       "16  [description, \\n, field, applications, scienti...   \n",
       "17  [scientist, barcelona, \\n, 45.000-60.000, +, b...   \n",
       "18  [deseas, iniciar, tu, carrera, profesional, en...   \n",
       "19  [solutions, es, una, firma, internacional, de,...   \n",
       "20  [(glovoapp.com), looking, world-class, data, s...   \n",
       "21  [fastest, growing, startups,, glovo,, constant...   \n",
       "22  [current, gilead, employees, contractors:, \\n,...   \n",
       "23  [data, engineer, adevinta,, heart, effort, uti...   \n",
       "24  [typeform, \\n\\n, founded, circa, 2012, barcelo...   \n",
       "25  [scientist,, barcelona, \\n, to, €70,000, +, re...   \n",
       "26  [institute, \\n, the, centre, genomic, regulati...   \n",
       "27  [hiring, strong, lead, data, scientist, custom...   \n",
       "28  [institute, \\n, the, centro, nacional, de, aná...   \n",
       "29  [description, \\n, field, applications, scienti...   \n",
       "..                                                ...   \n",
       "70  [proactive, motivated, customer, service, repr...   \n",
       "71  [data, analyst, \\n, barcelona,, €60,000, +, bo...   \n",
       "72  [customer, success, specialist, manager,, cust...   \n",
       "73  [customer, success, specialist, manager,, cust...   \n",
       "74  [qualifications:, \\n, we, want, hire, world’s,...   \n",
       "75  [opportunity, gaming, data, engineer, barcelon...   \n",
       "76  [advanced, analytics, manager, finance, respon...   \n",
       "77  [decisions?, swots?, pros, cons?, a, coin, fli...   \n",
       "78  [glovo, constantly, looking, passionate, exper...   \n",
       "79  [description, \\n, primary, mission:, \\n, as, d...   \n",
       "80  [degree, higher, computer, science,, engineeri...   \n",
       "81  [role, \\n, experimentation, vital, adevinta's,...   \n",
       "82  [badi, mission, create, product, people, love!...   \n",
       "83  [provides, advice, support, 16, million, membe...   \n",
       "84  [\\n, posted:, jul, 5,, 2019, \\n, weekly, hours...   \n",
       "85  [institute, \\n, the, centre, genomic, regulati...   \n",
       "86  [institute, \\n, the, centre, genomic, regulati...   \n",
       "87  [badi, mission, create, product, people, love!...   \n",
       "88  [fantastic, opportunity, join, worldwide, mobi...   \n",
       "89  [client,, pre-owned, fashion, online, marketpl...   \n",
       "90  [currently, looking, experienced, fullstack, e...   \n",
       "91  [design, implement, scalable, systems, handle,...   \n",
       "92  [fun,, driven, successful, team., the, cloud, ...   \n",
       "93  [want, worldwide, mobile, games, leader?, we, ...   \n",
       "94  [services, \\n\\n, our, systems, global-scale, d...   \n",
       "95  [founded, designers, spotted, problem, engaged...   \n",
       "96  [learning, engineer, \\n, barcelona, \\n, 40.000...   \n",
       "97  [services, \\n\\n, our, systems, global-scale, d...   \n",
       "98  [client,, pre-owned, fashion, online, marketpl...   \n",
       "99  [motivation, \\n, carla, (http://carla.org), in...   \n",
       "\n",
       "                                               lemmas  \n",
       "0   [advertising, be, a, grow, business, opportuni...  \n",
       "1   [game, data, scientist, \\n, do, want, to, be, ...  \n",
       "2   [función, analizar, grande, cantidade, de, dat...  \n",
       "3   [be, look, for, a, data, scientist, to, join, ...  \n",
       "4   [about, typeform, \\n\\n, found, circa, 2012, in...  \n",
       "5   [about, typeform, \\n\\n, found, circa, 2012, in...  \n",
       "6   [about, typeform, \\n\\n, found, circa, 2012, in...  \n",
       "7   [be, travelperk, a, fast, grow, well, fund, st...  \n",
       "8   [be, look, for, talented, people, a, rarely, a...  \n",
       "9   [report, into, the, ww, 3d, current, business,...  \n",
       "10  [about, typeform, \\n\\n, found, circa, 2012, in...  \n",
       "11  [about, typeform, \\n\\n, found, circa, 2012, in...  \n",
       "12  [glovo, glovoapp.com, be, look, for, world, cl...  \n",
       "13  [be, travelperk, a, fast, grow, well, fund, st...  \n",
       "14  [be, look, for, talented, people, a, rarely, a...  \n",
       "15  [si, deseas, iniciar, tu, carrera, profesional...  \n",
       "16  [job, description, \\n, field, applications, sc...  \n",
       "17  [data, scientist, barcelona, \\n, 45.000, 60.00...  \n",
       "18  [si, deseas, iniciar, tu, carrera, profesional...  \n",
       "19  [management, solutions, es, una, firma, intern...  \n",
       "20  [glovo, glovoapp.com, be, look, for, world, cl...  \n",
       "21  [due, to, be, one, of, the, fast, grow, startu...  \n",
       "22  [for, current, gilead, employees, and, contrac...  \n",
       "23  [as, a, data, engineer, at, adevinta, will, be...  \n",
       "24  [about, typeform, \\n\\n, found, circa, 2012, in...  \n",
       "25  [data, scientist, barcelona, \\n, to, €, 70,000...  \n",
       "26  [the, institute, \\n, the, centre, for, genomic...  \n",
       "27  [glovo, be, hire, a, strong, lead, data, scien...  \n",
       "28  [the, institute, \\n, the, centro, nacional, de...  \n",
       "29  [job, description, \\n, field, applications, sc...  \n",
       "..                                                ...  \n",
       "70  [be, a, proactive, and, motivated, customer, s...  \n",
       "71  [senior, data, analyst, \\n, barcelona, to, €, ...  \n",
       "72  [report, to, a, customer, success, specialist,...  \n",
       "73  [report, to, a, customer, success, specialist,...  \n",
       "74  [basic, qualifications, \\n, want, to, hire, th...  \n",
       "75  [excellent, opportunity, as, a, gaming, data, ...  \n",
       "76  [the, advanced, analytics, manager, finance, b...  \n",
       "77  [how, do, make, decision, swot, pro, and, con,...  \n",
       "78  [at, glovo, be, constantly, look, for, passion...  \n",
       "79  [job, description, \\n, primary, mission, \\n, a...  \n",
       "80  [bachelor, ’s, degree, or, high, in, computer,...  \n",
       "81  [the, role, \\n, experimentation, be, vital, to...  \n",
       "82  [here, at, badi, be, on, a, mission, to, creat...  \n",
       "83  [xing, provide, advice, and, support, to, -PRO...  \n",
       "84  [summary, \\n, posted, jul, 5, 2019, \\n, weekly...  \n",
       "85  [the, institute, \\n, the, centre, for, genomic...  \n",
       "86  [the, institute, \\n, the, centre, for, genomic...  \n",
       "87  [here, at, badi, be, on, a, mission, to, creat...  \n",
       "88  [this, be, a, fantastic, opportunity, to, join...  \n",
       "89  [-PRON-, client, a, pre, own, fashion, online,...  \n",
       "90  [be, currently, look, for, an, experienced, fu...  \n",
       "91  [will, design, and, implement, scalable, syste...  \n",
       "92  [be, a, fun, driven, and, successful, team, th...  \n",
       "93  [do, want, to, be, part, of, a, worldwide, mob...  \n",
       "94  [platform, services, \\n\\n, -PRON-, system, be,...  \n",
       "95  [typeform, be, found, when, two, designer, spo...  \n",
       "96  [machine, learning, engineer, \\n, barcelona, \\...  \n",
       "97  [platform, services, \\n\\n, -PRON-, system, be,...  \n",
       "98  [-PRON-, client, a, pre, own, fashion, online,...  \n",
       "99  [project, motivation, \\n, carla, http://carla....  \n",
       "\n",
       "[100 rows x 4 columns]"
      ]
     },
     "execution_count": 37,
     "metadata": {},
     "output_type": "execute_result"
    }
   ],
   "source": [
    "df"
   ]
  },
  {
   "cell_type": "markdown",
   "metadata": {
    "colab_type": "text",
    "id": "-lgCZNL_YycP"
   },
   "source": [
    "# 3) Use Scikit-Learn's CountVectorizer to get word counts for each listing."
   ]
  },
  {
   "cell_type": "code",
   "execution_count": 116,
   "metadata": {},
   "outputs": [
    {
     "data": {
      "text/plain": [
       "['fastest',\n",
       " 'growing',\n",
       " 'startups,',\n",
       " 'glovo,',\n",
       " 'constantly',\n",
       " 'expanding',\n",
       " 'growing',\n",
       " 'teams.',\n",
       " 'the',\n",
       " 'dispatching']"
      ]
     },
     "execution_count": 116,
     "metadata": {},
     "output_type": "execute_result"
    }
   ],
   "source": [
    "df['tokens'][21][:10]"
   ]
  },
  {
   "cell_type": "code",
   "execution_count": 117,
   "metadata": {},
   "outputs": [
    {
     "data": {
      "text/plain": [
       "['due', 'to', 'be', 'one', 'of', 'the', 'fast', 'grow', 'startup', 'at']"
      ]
     },
     "execution_count": 117,
     "metadata": {},
     "output_type": "execute_result"
    }
   ],
   "source": [
    "df['lemmas'][21][:10]"
   ]
  },
  {
   "cell_type": "code",
   "execution_count": 123,
   "metadata": {},
   "outputs": [],
   "source": [
    "from itertools import chain\n",
    "import itertools"
   ]
  },
  {
   "cell_type": "code",
   "execution_count": 125,
   "metadata": {},
   "outputs": [
    {
     "ename": "AttributeError",
     "evalue": "module 'itertools' has no attribute 'izip'",
     "output_type": "error",
     "traceback": [
      "\u001b[1;31m---------------------------------------------------------------------------\u001b[0m",
      "\u001b[1;31mAttributeError\u001b[0m                            Traceback (most recent call last)",
      "\u001b[1;32m<ipython-input-125-47b028489b2a>\u001b[0m in \u001b[0;36m<module>\u001b[1;34m\u001b[0m\n\u001b[1;32m----> 1\u001b[1;33m \u001b[1;33m[\u001b[0m\u001b[1;34m' '\u001b[0m\u001b[1;33m.\u001b[0m\u001b[0mjoin\u001b[0m\u001b[1;33m(\u001b[0m\u001b[0mbits\u001b[0m\u001b[1;33m)\u001b[0m \u001b[1;32mfor\u001b[0m \u001b[0mbits\u001b[0m \u001b[1;32min\u001b[0m \u001b[0mitertools\u001b[0m\u001b[1;33m.\u001b[0m\u001b[0mizip\u001b[0m\u001b[1;33m(\u001b[0m\u001b[1;33m[\u001b[0m\u001b[0mdf\u001b[0m\u001b[1;33m[\u001b[0m\u001b[1;34m'lemmas'\u001b[0m\u001b[1;33m]\u001b[0m\u001b[1;33m[\u001b[0m\u001b[1;36m0\u001b[0m\u001b[1;33m]\u001b[0m\u001b[1;33m]\u001b[0m\u001b[1;33m)\u001b[0m\u001b[1;33m]\u001b[0m\u001b[1;33m\u001b[0m\u001b[1;33m\u001b[0m\u001b[0m\n\u001b[0m",
      "\u001b[1;31mAttributeError\u001b[0m: module 'itertools' has no attribute 'izip'"
     ]
    }
   ],
   "source": [
    "[' '.join(bits) for bits in itertools.izip([df['lemmas'][0]])]"
   ]
  },
  {
   "cell_type": "code",
   "execution_count": 158,
   "metadata": {},
   "outputs": [],
   "source": [
    "list_string = []\n",
    "for i in df['lemmas']:\n",
    "    stringe = \"\"\n",
    "    for string in i:\n",
    "        stringe = stringe + ' ' + string\n",
    "    list_string.append(stringe)"
   ]
  },
  {
   "cell_type": "code",
   "execution_count": 161,
   "metadata": {},
   "outputs": [
    {
     "data": {
      "text/plain": [
       "[' advertising be a grow business opportunity in bw3s and have create a small agile team to support -PRON- growth on a permanent basis be look for a ds that take care of all datum analysis and operation involve in bw3s ad ds mission for this position have three area of impact operation ab test set up reporting ads business results and analysis player engagement with ad \\n -PRON- role within -PRON- kingdom \\n will be work with varied stakeholder in a fun dynamic and fast paced environment will help to further understand model predict segment and retain -PRON- player and be part of a community of 100 + business intelligence analytic expert \\n specifically will \\n proactively develop new analysis experiment and data drive tool to better understand -PRON- players’ behaviour and the performance of -PRON- game \\n provide insight to support decision make for the portfolio of game in the studio \\n translate business need to technical requirement and ab test and work with development team to ensure correct implementation take care to correctly track the right information to allow easy precise analysis of the impact \\n work closely with other data scientists across the business to leverage insight from one game across multiple game \\n carefully check debug and problem solve issue to ensure deliver accurate and clear analysis report and tool even when confront by subtle datum complication \\n skills to create thrills \\n there be plenty of scope at king for to learn from -PRON- colleague in the area where have less experience and to share -PRON- own skill where be strong \\n specific factor that be helpful to excel in this role include \\n business insight the ability to understand the problem and issue -PRON- game and business want to solve and then define the right datum analysis or interpretation to lead to the right recommendation and decision \\n communication design good way of communicate visualise or report -PRON- result analysis so be clear and unambiguous \\n sql the ability to write complex sql query to analyse -PRON- database with 300 + million player and work with relational database system \\n analytical coding use tool such as r python or excel for analytical purpose \\n stats understand the basic of appropriate statistical or machine learning technique \\n other experience that may be helpful but be not require include i work in the game industry or similarly customer face digital business ii familiarity with massive data set and tool to deal with bigquery aws hadoop etc iii experience in behavioural psychology economic and experimental design iv experience in predictive analytic segmentation and relate area v software engineering skill in java and other language beyond r and python which use most frequently vi skill with standard reporting tool such as looker qlikview tableau etc \\n a great saga need all sorts of heros \\n making game be fun especially when do with people that share the same idea of what make a good workplace great no matter where be from ’ all about what can achieve together when create truly magical moment for all -PRON- player that ’ why hire all sort of talent because a great saga need all sort of hero \\n want to join -PRON- kingdom \\n application need to be in english',\n",
       " ' game data scientist \\n do want to be part of a worldwide mobile game leader be an international team of more than 330 talented socialpointers base in sunny and cosmopolitan barcelona create amazing game position in the top ranking of both ios and android play and love by over 50 million fan all over the world \\n\\n join and help make 2019 the breakout year in mobile social gaming \\n\\n\\n about the role \\n as a game data scientist in -PRON- global analytics team will work to understand -PRON- gamers’ behaviour work with the game team to improve the product drive retention and user conversion \\n\\n apply quantitative analysis statistic and programming will draw business insight that add real value to social point to truly make an impact will need to learn quickly and work well in a fast paced environment while collaborate closely with -PRON- game teams and heads of product \\n\\n\\n will \\n work with the game teams to provide insight into user behaviour and answer key business question \\n perform hand on research data exploration and analysis \\n communicate define and visualize analysis and result to senior stakeholder include head of analytics vp of product the ceo and other c level executive \\n acting as the liaison between product game developer datum engineer and datum scientist to ensure -PRON- datum be precisely specify understand and consistent \\n team up with other datum scientist to lead project on machine learning behavioural segmentation and monetization \\n use predictive analytic to predict how user will react to change in the games \\n\\n have \\n significant experience apply analytic to answer business question and mine for insight that drive value preferably in a mobile b2c business \\n a strong undergraduate degree in a quantitative subject area such as statistics math or computer science from a lead university a postgraduate degree be a plus \\n strong analytical skill in applied statistic or econometric and prior experience in empirical analysis \\n very strong sql \\n solid skill implement data science model with python r or matlab \\n excellent written and oral communication skill experience present to business stakeholder \\n a passion for turn datum into actionable insight \\n be fluent in write and speak english fluent spanish be a plus \\n solid skill visualize finding with a front end visualization tool like tableau looker or chartio \\n be \\n\\n creative and innovative always look for good way to achieve -PRON- goal \\n a fast learner highly meticulous a consummate professional bring value into any conversation have \\n pragmatic know how to balance short term and long term deliverable \\n a team player establish effective relationship to work with other for the win \\n able to operate sensitively in multi cultural environment and build effective working relationship \\n\\n\\n what offer \\n first of all can offer a challenging and fun role within a cool team \\n sound like what other company also say have hold on here ’ what ’ more \\n\\n will get the new and most powerful device and equipment to work with along with a spotify premium account \\n men sana in corpore sano be the latin for a healthy mind in a healthy body -PRON- socialpointers get a healthy monday breakfast + delicious daily lunch menu want to stay in shape have a brand new gym football and basketball team along with a fantastic physiotherapist \\n an apple a day keep the doctor away so get fresh fruit at the office every day but of course also get a private medical insurance just in case \\n monthly event be there to get to know -PRON- colleague drop by -PRON- hairdresser ’s to get ready and forget -PRON- wallet \\n people development be key for couple an amazing training budget just for and -PRON- internal mobility program get real growth opportunity \\n if be new to sunny barcelona can also join -PRON- newbies club offer weekend activity once a month spanish lesson and help with all -PRON- boring paperwork \\n  the list just go on and on so get -PRON- game on and apply now \\n\\n\\n be ready to level up \\n press start']"
      ]
     },
     "execution_count": 161,
     "metadata": {},
     "output_type": "execute_result"
    }
   ],
   "source": [
    "list_string[:2]"
   ]
  },
  {
   "cell_type": "code",
   "execution_count": 162,
   "metadata": {},
   "outputs": [],
   "source": [
    "df['lammatized_sentence'] = list_string"
   ]
  },
  {
   "cell_type": "code",
   "execution_count": 118,
   "metadata": {},
   "outputs": [
    {
     "ename": "TypeError",
     "evalue": "Argument 'string' has incorrect type (expected str, got list)",
     "output_type": "error",
     "traceback": [
      "\u001b[1;31m---------------------------------------------------------------------------\u001b[0m",
      "\u001b[1;31mTypeError\u001b[0m                                 Traceback (most recent call last)",
      "\u001b[1;32m<ipython-input-118-3572bcf98bb4>\u001b[0m in \u001b[0;36m<module>\u001b[1;34m\u001b[0m\n\u001b[0;32m      4\u001b[0m \u001b[1;33m\u001b[0m\u001b[0m\n\u001b[0;32m      5\u001b[0m \u001b[1;34m\"\"\" Make them tokens \"\"\"\u001b[0m\u001b[1;33m\u001b[0m\u001b[1;33m\u001b[0m\u001b[0m\n\u001b[1;32m----> 6\u001b[1;33m \u001b[1;32mfor\u001b[0m \u001b[0mdoc\u001b[0m \u001b[1;32min\u001b[0m \u001b[0mtokenizer\u001b[0m\u001b[1;33m.\u001b[0m\u001b[0mpipe\u001b[0m\u001b[1;33m(\u001b[0m\u001b[0mdf\u001b[0m\u001b[1;33m[\u001b[0m\u001b[1;34m'lemmas'\u001b[0m\u001b[1;33m]\u001b[0m\u001b[1;33m,\u001b[0m \u001b[0mbatch_size\u001b[0m\u001b[1;33m=\u001b[0m\u001b[1;36m500\u001b[0m\u001b[1;33m)\u001b[0m\u001b[1;33m:\u001b[0m\u001b[1;33m\u001b[0m\u001b[1;33m\u001b[0m\u001b[0m\n\u001b[0m\u001b[0;32m      7\u001b[0m     \u001b[0mdoc_tokens\u001b[0m \u001b[1;33m=\u001b[0m \u001b[1;33m[\u001b[0m\u001b[1;33m]\u001b[0m\u001b[1;33m\u001b[0m\u001b[1;33m\u001b[0m\u001b[0m\n\u001b[0;32m      8\u001b[0m     \u001b[1;32mfor\u001b[0m \u001b[0mtoken\u001b[0m \u001b[1;32min\u001b[0m \u001b[0mdoc\u001b[0m\u001b[1;33m[\u001b[0m\u001b[1;36m1\u001b[0m\u001b[1;33m:\u001b[0m\u001b[1;33m]\u001b[0m\u001b[1;33m:\u001b[0m\u001b[1;33m\u001b[0m\u001b[1;33m\u001b[0m\u001b[0m\n",
      "\u001b[1;32mtokenizer.pyx\u001b[0m in \u001b[0;36mpipe\u001b[1;34m()\u001b[0m\n",
      "\u001b[1;31mTypeError\u001b[0m: Argument 'string' has incorrect type (expected str, got list)"
     ]
    }
   ],
   "source": [
    "# Tokenizer Pipe\n",
    "\n",
    "tokens = []\n",
    "\n",
    "\"\"\" Make them tokens \"\"\"\n",
    "for doc in tokenizer.pipe(df['lemmas'], batch_size=500):\n",
    "    doc_tokens = []\n",
    "    for token in doc[1:]:\n",
    "        if token.text not in STOP_WORDS:\n",
    "            doc_tokens.append(token.text.lower())\n",
    "    tokens.append(doc_tokens)\n",
    "        \n",
    "            \n",
    "df['tokens2'] = tokens"
   ]
  },
  {
   "cell_type": "code",
   "execution_count": 42,
   "metadata": {
    "colab": {},
    "colab_type": "code",
    "id": "X2PZ8Pj_YxcF"
   },
   "outputs": [],
   "source": [
    "##### Your Code Here #####\n",
    "vect = CountVectorizer(stop_words='english', min_df = 0.05, max_df= 0.90)\n",
    "vect.fit(df['description'])\n",
    "\n",
    "sparse_dtm = vect.transform(df['description'])\n",
    "\n",
    "dtm = pd.DataFrame(sparse_dtm.todense(), columns=vect.get_feature_names())\n"
   ]
  },
  {
   "cell_type": "code",
   "execution_count": null,
   "metadata": {},
   "outputs": [],
   "source": []
  },
  {
   "cell_type": "code",
   "execution_count": 43,
   "metadata": {},
   "outputs": [
    {
     "data": {
      "text/html": [
       "<div>\n",
       "<style scoped>\n",
       "    .dataframe tbody tr th:only-of-type {\n",
       "        vertical-align: middle;\n",
       "    }\n",
       "\n",
       "    .dataframe tbody tr th {\n",
       "        vertical-align: top;\n",
       "    }\n",
       "\n",
       "    .dataframe thead th {\n",
       "        text-align: right;\n",
       "    }\n",
       "</style>\n",
       "<table border=\"1\" class=\"dataframe\">\n",
       "  <thead>\n",
       "    <tr style=\"text-align: right;\">\n",
       "      <th></th>\n",
       "      <th>000</th>\n",
       "      <th>10</th>\n",
       "      <th>100</th>\n",
       "      <th>200</th>\n",
       "      <th>2012</th>\n",
       "      <th>2013</th>\n",
       "      <th>2019</th>\n",
       "      <th>24</th>\n",
       "      <th>30</th>\n",
       "      <th>40</th>\n",
       "      <th>...</th>\n",
       "      <th>world</th>\n",
       "      <th>worldwide</th>\n",
       "      <th>write</th>\n",
       "      <th>writing</th>\n",
       "      <th>written</th>\n",
       "      <th>www</th>\n",
       "      <th>year</th>\n",
       "      <th>years</th>\n",
       "      <th>yummy</th>\n",
       "      <th>zero</th>\n",
       "    </tr>\n",
       "  </thead>\n",
       "  <tbody>\n",
       "    <tr>\n",
       "      <th>0</th>\n",
       "      <td>0</td>\n",
       "      <td>0</td>\n",
       "      <td>1</td>\n",
       "      <td>0</td>\n",
       "      <td>0</td>\n",
       "      <td>0</td>\n",
       "      <td>0</td>\n",
       "      <td>0</td>\n",
       "      <td>0</td>\n",
       "      <td>0</td>\n",
       "      <td>...</td>\n",
       "      <td>0</td>\n",
       "      <td>0</td>\n",
       "      <td>1</td>\n",
       "      <td>0</td>\n",
       "      <td>0</td>\n",
       "      <td>0</td>\n",
       "      <td>0</td>\n",
       "      <td>0</td>\n",
       "      <td>0</td>\n",
       "      <td>0</td>\n",
       "    </tr>\n",
       "    <tr>\n",
       "      <th>1</th>\n",
       "      <td>0</td>\n",
       "      <td>0</td>\n",
       "      <td>0</td>\n",
       "      <td>0</td>\n",
       "      <td>0</td>\n",
       "      <td>0</td>\n",
       "      <td>1</td>\n",
       "      <td>0</td>\n",
       "      <td>0</td>\n",
       "      <td>0</td>\n",
       "      <td>...</td>\n",
       "      <td>1</td>\n",
       "      <td>1</td>\n",
       "      <td>0</td>\n",
       "      <td>0</td>\n",
       "      <td>2</td>\n",
       "      <td>0</td>\n",
       "      <td>1</td>\n",
       "      <td>0</td>\n",
       "      <td>0</td>\n",
       "      <td>0</td>\n",
       "    </tr>\n",
       "    <tr>\n",
       "      <th>2</th>\n",
       "      <td>0</td>\n",
       "      <td>1</td>\n",
       "      <td>0</td>\n",
       "      <td>0</td>\n",
       "      <td>0</td>\n",
       "      <td>0</td>\n",
       "      <td>2</td>\n",
       "      <td>0</td>\n",
       "      <td>1</td>\n",
       "      <td>0</td>\n",
       "      <td>...</td>\n",
       "      <td>0</td>\n",
       "      <td>0</td>\n",
       "      <td>0</td>\n",
       "      <td>0</td>\n",
       "      <td>0</td>\n",
       "      <td>0</td>\n",
       "      <td>0</td>\n",
       "      <td>0</td>\n",
       "      <td>0</td>\n",
       "      <td>0</td>\n",
       "    </tr>\n",
       "    <tr>\n",
       "      <th>3</th>\n",
       "      <td>0</td>\n",
       "      <td>0</td>\n",
       "      <td>0</td>\n",
       "      <td>0</td>\n",
       "      <td>0</td>\n",
       "      <td>0</td>\n",
       "      <td>0</td>\n",
       "      <td>0</td>\n",
       "      <td>0</td>\n",
       "      <td>0</td>\n",
       "      <td>...</td>\n",
       "      <td>0</td>\n",
       "      <td>0</td>\n",
       "      <td>0</td>\n",
       "      <td>0</td>\n",
       "      <td>0</td>\n",
       "      <td>0</td>\n",
       "      <td>0</td>\n",
       "      <td>0</td>\n",
       "      <td>0</td>\n",
       "      <td>0</td>\n",
       "    </tr>\n",
       "    <tr>\n",
       "      <th>4</th>\n",
       "      <td>0</td>\n",
       "      <td>0</td>\n",
       "      <td>0</td>\n",
       "      <td>1</td>\n",
       "      <td>1</td>\n",
       "      <td>0</td>\n",
       "      <td>0</td>\n",
       "      <td>0</td>\n",
       "      <td>1</td>\n",
       "      <td>0</td>\n",
       "      <td>...</td>\n",
       "      <td>1</td>\n",
       "      <td>0</td>\n",
       "      <td>0</td>\n",
       "      <td>0</td>\n",
       "      <td>0</td>\n",
       "      <td>0</td>\n",
       "      <td>0</td>\n",
       "      <td>1</td>\n",
       "      <td>0</td>\n",
       "      <td>0</td>\n",
       "    </tr>\n",
       "  </tbody>\n",
       "</table>\n",
       "<p>5 rows × 1360 columns</p>\n",
       "</div>"
      ],
      "text/plain": [
       "   000  10  100  200  2012  2013  2019  24  30  40  ...  world  worldwide  \\\n",
       "0    0   0    1    0     0     0     0   0   0   0  ...      0          0   \n",
       "1    0   0    0    0     0     0     1   0   0   0  ...      1          1   \n",
       "2    0   1    0    0     0     0     2   0   1   0  ...      0          0   \n",
       "3    0   0    0    0     0     0     0   0   0   0  ...      0          0   \n",
       "4    0   0    0    1     1     0     0   0   1   0  ...      1          0   \n",
       "\n",
       "   write  writing  written  www  year  years  yummy  zero  \n",
       "0      1        0        0    0     0      0      0     0  \n",
       "1      0        0        2    0     1      0      0     0  \n",
       "2      0        0        0    0     0      0      0     0  \n",
       "3      0        0        0    0     0      0      0     0  \n",
       "4      0        0        0    0     0      1      0     0  \n",
       "\n",
       "[5 rows x 1360 columns]"
      ]
     },
     "execution_count": 43,
     "metadata": {},
     "output_type": "execute_result"
    }
   ],
   "source": [
    "dtm.head()"
   ]
  },
  {
   "cell_type": "markdown",
   "metadata": {
    "colab_type": "text",
    "id": "Zo1iH_UeY7_n"
   },
   "source": [
    "# 4) Visualize the most common word counts"
   ]
  },
  {
   "cell_type": "code",
   "execution_count": 60,
   "metadata": {
    "colab": {},
    "colab_type": "code",
    "id": "M5LB00uyZKV5"
   },
   "outputs": [
    {
     "data": {
      "text/plain": [
       "customer     33.0\n",
       "crg          15.0\n",
       "design       15.0\n",
       "en           15.0\n",
       "research     13.0\n",
       "sales        13.0\n",
       "autodesk     12.0\n",
       "customers    12.0\n",
       "analysis     11.0\n",
       "business     11.0\n",
       "medical      11.0\n",
       "service      11.0\n",
       "services     11.0\n",
       "software     11.0\n",
       "team         11.0\n",
       "Name: max, dtype: float64"
      ]
     },
     "execution_count": 60,
     "metadata": {},
     "output_type": "execute_result"
    }
   ],
   "source": [
    "##### Your Code Here #####\n",
    "\n",
    "top_15 = dtm.describe().loc['max'].nlargest(15)\n",
    "top_15"
   ]
  },
  {
   "cell_type": "code",
   "execution_count": 58,
   "metadata": {},
   "outputs": [
    {
     "data": {
      "text/plain": [
       "Index(['customer', 'crg', 'design', 'en', 'research', 'sales', 'autodesk',\n",
       "       'customers', 'analysis', 'business', 'medical', 'service', 'services',\n",
       "       'software', 'team'],\n",
       "      dtype='object')"
      ]
     },
     "execution_count": 58,
     "metadata": {},
     "output_type": "execute_result"
    }
   ],
   "source": [
    "top_15.index"
   ]
  },
  {
   "cell_type": "code",
   "execution_count": 94,
   "metadata": {},
   "outputs": [
    {
     "data": {
      "image/png": "[encoded data removed]",
      "text/plain": [
       "<Figure size 640x480 with 1 Axes>"
      ]
     },
     "metadata": {},
     "output_type": "display_data"
    }
   ],
   "source": [
    "from matplotlib.pyplot import figure\n",
    "\n",
    "index = np.arange(len(top_15.index))\n",
    "numbers = list(top_15)\n",
    "figure(num=None, figsize=(8, 6), dpi=80, facecolor='w', edgecolor='k')\n",
    "plt.bar(index, numbers)\n",
    "plt.xlabel('Top 15 common words', fontsize=11)\n",
    "plt.ylabel('Frequency', fontsize=11)\n",
    "plt.xticks(index, top_15.index, fontsize=13, rotation=30)\n",
    "plt.title('Data Scientis Indeed Jobs')\n",
    "plt.show()"
   ]
  },
  {
   "cell_type": "code",
   "execution_count": 80,
   "metadata": {},
   "outputs": [
    {
     "data": {
      "text/plain": [
       "[33.0,\n",
       " 15.0,\n",
       " 15.0,\n",
       " 15.0,\n",
       " 13.0,\n",
       " 13.0,\n",
       " 12.0,\n",
       " 12.0,\n",
       " 11.0,\n",
       " 11.0,\n",
       " 11.0,\n",
       " 11.0,\n",
       " 11.0,\n",
       " 11.0,\n",
       " 11.0]"
      ]
     },
     "execution_count": 80,
     "metadata": {},
     "output_type": "execute_result"
    }
   ],
   "source": [
    "list(top_15)"
   ]
  },
  {
   "cell_type": "code",
   "execution_count": 81,
   "metadata": {},
   "outputs": [
    {
     "data": {
      "text/plain": [
       "<BarContainer object of 15 artists>"
      ]
     },
     "execution_count": 81,
     "metadata": {},
     "output_type": "execute_result"
    },
    {
     "data": {
      "image/png": "[encoded data removed]",
      "text/plain": [
       "<Figure size 432x288 with 1 Axes>"
      ]
     },
     "metadata": {
      "needs_background": "light"
     },
     "output_type": "display_data"
    }
   ],
   "source": [
    "plt.bar(top_15.index,list(top_15))"
   ]
  },
  {
   "cell_type": "markdown",
   "metadata": {
    "colab_type": "text",
    "id": "bwFsTqrVZMYi"
   },
   "source": [
    " # 5) Use Scikit-Learn's tfidfVectorizer to get a TF-IDF feature matrix"
   ]
  },
  {
   "cell_type": "code",
   "execution_count": 95,
   "metadata": {
    "colab": {},
    "colab_type": "code",
    "id": "-gx2gZCbl5Np"
   },
   "outputs": [
    {
     "data": {
      "text/html": [
       "<div>\n",
       "<style scoped>\n",
       "    .dataframe tbody tr th:only-of-type {\n",
       "        vertical-align: middle;\n",
       "    }\n",
       "\n",
       "    .dataframe tbody tr th {\n",
       "        vertical-align: top;\n",
       "    }\n",
       "\n",
       "    .dataframe thead th {\n",
       "        text-align: right;\n",
       "    }\n",
       "</style>\n",
       "<table border=\"1\" class=\"dataframe\">\n",
       "  <thead>\n",
       "    <tr style=\"text-align: right;\">\n",
       "      <th></th>\n",
       "      <th>000</th>\n",
       "      <th>10</th>\n",
       "      <th>100</th>\n",
       "      <th>200</th>\n",
       "      <th>2012</th>\n",
       "      <th>2013</th>\n",
       "      <th>2019</th>\n",
       "      <th>24</th>\n",
       "      <th>30</th>\n",
       "      <th>40</th>\n",
       "      <th>...</th>\n",
       "      <th>world</th>\n",
       "      <th>worldwide</th>\n",
       "      <th>write</th>\n",
       "      <th>writing</th>\n",
       "      <th>written</th>\n",
       "      <th>www</th>\n",
       "      <th>year</th>\n",
       "      <th>years</th>\n",
       "      <th>yummy</th>\n",
       "      <th>zero</th>\n",
       "    </tr>\n",
       "  </thead>\n",
       "  <tbody>\n",
       "    <tr>\n",
       "      <th>0</th>\n",
       "      <td>0.0</td>\n",
       "      <td>0.000000</td>\n",
       "      <td>0.076396</td>\n",
       "      <td>0.000000</td>\n",
       "      <td>0.000000</td>\n",
       "      <td>0.0</td>\n",
       "      <td>0.000000</td>\n",
       "      <td>0.0</td>\n",
       "      <td>0.000000</td>\n",
       "      <td>0.0</td>\n",
       "      <td>...</td>\n",
       "      <td>0.000000</td>\n",
       "      <td>0.000000</td>\n",
       "      <td>0.070648</td>\n",
       "      <td>0.0</td>\n",
       "      <td>0.000000</td>\n",
       "      <td>0.0</td>\n",
       "      <td>0.00000</td>\n",
       "      <td>0.000000</td>\n",
       "      <td>0.0</td>\n",
       "      <td>0.0</td>\n",
       "    </tr>\n",
       "    <tr>\n",
       "      <th>1</th>\n",
       "      <td>0.0</td>\n",
       "      <td>0.000000</td>\n",
       "      <td>0.000000</td>\n",
       "      <td>0.000000</td>\n",
       "      <td>0.000000</td>\n",
       "      <td>0.0</td>\n",
       "      <td>0.049668</td>\n",
       "      <td>0.0</td>\n",
       "      <td>0.000000</td>\n",
       "      <td>0.0</td>\n",
       "      <td>...</td>\n",
       "      <td>0.023107</td>\n",
       "      <td>0.039345</td>\n",
       "      <td>0.000000</td>\n",
       "      <td>0.0</td>\n",
       "      <td>0.063603</td>\n",
       "      <td>0.0</td>\n",
       "      <td>0.04005</td>\n",
       "      <td>0.000000</td>\n",
       "      <td>0.0</td>\n",
       "      <td>0.0</td>\n",
       "    </tr>\n",
       "    <tr>\n",
       "      <th>2</th>\n",
       "      <td>0.0</td>\n",
       "      <td>0.158691</td>\n",
       "      <td>0.000000</td>\n",
       "      <td>0.000000</td>\n",
       "      <td>0.000000</td>\n",
       "      <td>0.0</td>\n",
       "      <td>0.259842</td>\n",
       "      <td>0.0</td>\n",
       "      <td>0.137489</td>\n",
       "      <td>0.0</td>\n",
       "      <td>...</td>\n",
       "      <td>0.000000</td>\n",
       "      <td>0.000000</td>\n",
       "      <td>0.000000</td>\n",
       "      <td>0.0</td>\n",
       "      <td>0.000000</td>\n",
       "      <td>0.0</td>\n",
       "      <td>0.00000</td>\n",
       "      <td>0.000000</td>\n",
       "      <td>0.0</td>\n",
       "      <td>0.0</td>\n",
       "    </tr>\n",
       "    <tr>\n",
       "      <th>3</th>\n",
       "      <td>0.0</td>\n",
       "      <td>0.000000</td>\n",
       "      <td>0.000000</td>\n",
       "      <td>0.000000</td>\n",
       "      <td>0.000000</td>\n",
       "      <td>0.0</td>\n",
       "      <td>0.000000</td>\n",
       "      <td>0.0</td>\n",
       "      <td>0.000000</td>\n",
       "      <td>0.0</td>\n",
       "      <td>...</td>\n",
       "      <td>0.000000</td>\n",
       "      <td>0.000000</td>\n",
       "      <td>0.000000</td>\n",
       "      <td>0.0</td>\n",
       "      <td>0.000000</td>\n",
       "      <td>0.0</td>\n",
       "      <td>0.00000</td>\n",
       "      <td>0.000000</td>\n",
       "      <td>0.0</td>\n",
       "      <td>0.0</td>\n",
       "    </tr>\n",
       "    <tr>\n",
       "      <th>4</th>\n",
       "      <td>0.0</td>\n",
       "      <td>0.000000</td>\n",
       "      <td>0.000000</td>\n",
       "      <td>0.051872</td>\n",
       "      <td>0.051872</td>\n",
       "      <td>0.0</td>\n",
       "      <td>0.000000</td>\n",
       "      <td>0.0</td>\n",
       "      <td>0.046830</td>\n",
       "      <td>0.0</td>\n",
       "      <td>...</td>\n",
       "      <td>0.020587</td>\n",
       "      <td>0.000000</td>\n",
       "      <td>0.000000</td>\n",
       "      <td>0.0</td>\n",
       "      <td>0.000000</td>\n",
       "      <td>0.0</td>\n",
       "      <td>0.00000</td>\n",
       "      <td>0.020152</td>\n",
       "      <td>0.0</td>\n",
       "      <td>0.0</td>\n",
       "    </tr>\n",
       "  </tbody>\n",
       "</table>\n",
       "<p>5 rows × 1360 columns</p>\n",
       "</div>"
      ],
      "text/plain": [
       "   000        10       100       200      2012  2013      2019   24        30  \\\n",
       "0  0.0  0.000000  0.076396  0.000000  0.000000   0.0  0.000000  0.0  0.000000   \n",
       "1  0.0  0.000000  0.000000  0.000000  0.000000   0.0  0.049668  0.0  0.000000   \n",
       "2  0.0  0.158691  0.000000  0.000000  0.000000   0.0  0.259842  0.0  0.137489   \n",
       "3  0.0  0.000000  0.000000  0.000000  0.000000   0.0  0.000000  0.0  0.000000   \n",
       "4  0.0  0.000000  0.000000  0.051872  0.051872   0.0  0.000000  0.0  0.046830   \n",
       "\n",
       "    40  ...     world  worldwide     write  writing   written  www     year  \\\n",
       "0  0.0  ...  0.000000   0.000000  0.070648      0.0  0.000000  0.0  0.00000   \n",
       "1  0.0  ...  0.023107   0.039345  0.000000      0.0  0.063603  0.0  0.04005   \n",
       "2  0.0  ...  0.000000   0.000000  0.000000      0.0  0.000000  0.0  0.00000   \n",
       "3  0.0  ...  0.000000   0.000000  0.000000      0.0  0.000000  0.0  0.00000   \n",
       "4  0.0  ...  0.020587   0.000000  0.000000      0.0  0.000000  0.0  0.00000   \n",
       "\n",
       "      years  yummy  zero  \n",
       "0  0.000000    0.0   0.0  \n",
       "1  0.000000    0.0   0.0  \n",
       "2  0.000000    0.0   0.0  \n",
       "3  0.000000    0.0   0.0  \n",
       "4  0.020152    0.0   0.0  \n",
       "\n",
       "[5 rows x 1360 columns]"
      ]
     },
     "execution_count": 95,
     "metadata": {},
     "output_type": "execute_result"
    }
   ],
   "source": [
    "##### Your Code Here #####\n",
    "from sklearn.feature_extraction.text import TfidfVectorizer\n",
    "\n",
    "# Instantiate vectorizer object\n",
    "tfidf = TfidfVectorizer(stop_words = 'english',min_df = 0.05, max_df= 0.90)\n",
    "\n",
    "# Create a vocabulary and get word counts per document\n",
    "sparse = tfidf.fit_transform(df['description'])\n",
    "\n",
    "# Print word counts\n",
    "\n",
    "# Get feature names to use as dataframe column headers\n",
    "dtm = pd.DataFrame(sparse.todense(), columns=tfidf.get_feature_names())\n",
    "\n",
    "# View Feature Matrix as DataFrame\n",
    "dtm.head()"
   ]
  },
  {
   "cell_type": "code",
   "execution_count": 96,
   "metadata": {},
   "outputs": [
    {
     "data": {
      "text/plain": [
       "(100, 1360)"
      ]
     },
     "execution_count": 96,
     "metadata": {},
     "output_type": "execute_result"
    }
   ],
   "source": [
    "dtm.shape"
   ]
  },
  {
   "cell_type": "markdown",
   "metadata": {},
   "source": [
    " # 6) Create a NearestNeighbor Model. Write the description of your ideal datascience job and query your job listings. "
   ]
  },
  {
   "cell_type": "code",
   "execution_count": 97,
   "metadata": {
    "collapsed": false,
    "inputHidden": false,
    "outputHidden": false
   },
   "outputs": [
    {
     "data": {
      "text/plain": [
       "NearestNeighbors(algorithm='ball_tree', leaf_size=30, metric='minkowski',\n",
       "         metric_params=None, n_jobs=None, n_neighbors=5, p=2, radius=1.0)"
      ]
     },
     "execution_count": 97,
     "metadata": {},
     "output_type": "execute_result"
    }
   ],
   "source": [
    "# Instantiate\n",
    "from sklearn.neighbors import NearestNeighbors\n",
    "\n",
    "\n",
    "# Fit on TF-IDF Vectors\n",
    "nn  = NearestNeighbors(n_neighbors=5, algorithm='ball_tree')\n",
    "nn.fit(dtm)\n"
   ]
  },
  {
   "cell_type": "code",
   "execution_count": 98,
   "metadata": {},
   "outputs": [
    {
     "data": {
      "text/plain": [
       "(array([[0.        , 1.13318461, 1.17653211, 1.20509819, 1.20951377]]),\n",
       " array([[ 0, 25, 34, 52, 88]], dtype=int64))"
      ]
     },
     "execution_count": 98,
     "metadata": {},
     "output_type": "execute_result"
    }
   ],
   "source": [
    "nn.kneighbors([dtm.iloc[0]])"
   ]
  },
  {
   "cell_type": "code",
   "execution_count": 108,
   "metadata": {},
   "outputs": [],
   "source": [
    "job_desc = [\"Start-up, good pay, machine learning, perks, python, english\"]"
   ]
  },
  {
   "cell_type": "code",
   "execution_count": 109,
   "metadata": {},
   "outputs": [
    {
     "data": {
      "text/plain": [
       "(array([[1.26905129, 1.28837471, 1.29017707, 1.29017707, 1.30595906]]),\n",
       " array([[ 3, 78, 48, 56, 23]], dtype=int64))"
      ]
     },
     "execution_count": 109,
     "metadata": {},
     "output_type": "execute_result"
    }
   ],
   "source": [
    "new = tfidf.transform(job_desc)\n",
    "\n",
    "nn.kneighbors(new.todense())"
   ]
  },
  {
   "cell_type": "code",
   "execution_count": 112,
   "metadata": {},
   "outputs": [
    {
     "data": {
      "text/plain": [
       "\"At Glovo we are constantly looking for passionate and experienced engineers to join our ML Platform team in our Barcelona office.\\n\\nTeam overview\\n-------------\\n\\nGlovo depends heavily on machine learning to make decisions in different areas of business. The ML Platform team is responsible for providing the infrastructure and the necessary tooling for both data scientists and engineers to experiment, deploy and monitor machine learning solutions at scale.\\n\\nYou will\\n--------\\n\\n\\nArchitect, build and maintain the platform that enables engineers and data scientists to create, evaluate, and deploy machine learning solutions at scale\\nScale our machine learning products and the team around them as our business grows\\nWork closely with data scientists to understand their needs and challenges\\nDevelop software using modern engineering approaches and agile principles\\nOwn your deliverables from start to finish\\nDeliver high quality solutions\\nParticipate in high-level technical decisions\\nMentor and empower other engineers\\n\\nRequirements\\n------------\\n\\n\\nDegree in Computer Science, Computer Engineering or a related field\\n5+ years of relevant full-time experience\\nStrong programming skills, preferably in Java or Python\\nExperience with CI/CD tools\\nExtensive knowledge of software architecture and best practices\\nStrong will to adhere to best practices in OO development and a need to leave well-structured code in your tracks\\nA well demonstrated test-driven mindset\\nKnowledge of databases and other approaches to data management\\nExperience with developing data pipelines\\nKnowledge of concurrency and Event Driven Development\\nAnalytical and problem-solving skills\\nVivid interest in at least one area outside of programming (architecture, algorithms, optimization, automation, scalability, etc.)\\nGood English\\nExperience with machine learning is a plus\\nParticipation in open source projects is a huge plus\\nOur core values are very important to us:\\n\\nGas: We think big and take calculated risks to go for all business opportunities, no matter how challenging they are! We work hard as a team and execute fast.\\n\\nEveryone Wins: We are here for the long run. Glovers, Partners and Users are on the very center of everything we do. If they win, Glovo wins. So for every decision, we make sure we are positively impacting them.\\n\\nGood vibes: Our teams are built of people that radiate positive energy and managers that are honest and fair. No assholes allowed! We stay optimistic no matter what, infecting each other with positivity, joy, and the desire to spend time together.\\n\\nStay Humble: Always act humble: Everybody must roll up their sleeves and get their hands dirty to make our big plans a reality. We are tiny! We are conscious of how big the opportunity is and how much we've got left to do.\\n\\nGlownership: Act as one company—one team: Care first about Glovo, not your role or your department. Own your stuff, no question, but go beyond your role; help before you are asked. Everything you need to make things happen, you do it. Glow it!\\n\\nIf you believe you match these values, we look forward to meeting you!\\n\\nBenefits:\\n---------\\n\\n\\nA ticket to the moon sitting on the fastest rocket - an adventure filled with challenges and professional growth\\nSocial benefits (such as fresh fruit every day, free lunches from our yummy partners once a week, beers on Fridays, Culture Days every 6 weeks, the best coffee machine in the world,...)\\nPrivate Health Insurance\\nUnlimited Glovos (zero delivery fee on your Glovo orders)\\nAttractive compensation and equity plan\\nGym membership discounts\\nBack to School Fridays (it's all about learning and sharing knowledge)\\nTeam building activities\\nRelocation package\\nInternational and talented team, used to working in a fast paced and vibrant way!\\n\\n\""
      ]
     },
     "execution_count": 112,
     "metadata": {},
     "output_type": "execute_result"
    }
   ],
   "source": [
    "df['description'].iloc[78]"
   ]
  },
  {
   "cell_type": "markdown",
   "metadata": {},
   "source": [
    "## Lemmatizing the re converitng into a sentence then count vectorizing"
   ]
  },
  {
   "cell_type": "code",
   "execution_count": 163,
   "metadata": {},
   "outputs": [],
   "source": [
    "##### Your Code Here #####\n",
    "vect = CountVectorizer(stop_words='english', min_df = 0.05, max_df= 0.90)\n",
    "vect.fit(df['lammatized_sentence'])\n",
    "\n",
    "sparse_dtm = vect.transform(df['lammatized_sentence'])\n",
    "\n",
    "dtm = pd.DataFrame(sparse_dtm.todense(), columns=vect.get_feature_names())\n"
   ]
  },
  {
   "cell_type": "code",
   "execution_count": 164,
   "metadata": {},
   "outputs": [
    {
     "data": {
      "text/plain": [
       "customer    42.0\n",
       "pron        23.0\n",
       "design      19.0\n",
       "crg         15.0\n",
       "en          15.0\n",
       "data        14.0\n",
       "team        14.0\n",
       "research    13.0\n",
       "sale        13.0\n",
       "analysis    12.0\n",
       "autodesk    12.0\n",
       "datum       12.0\n",
       "project     12.0\n",
       "business    11.0\n",
       "medical     11.0\n",
       "Name: max, dtype: float64"
      ]
     },
     "execution_count": 164,
     "metadata": {},
     "output_type": "execute_result"
    }
   ],
   "source": [
    "top_15 = dtm.describe().loc['max'].nlargest(15)\n",
    "top_15"
   ]
  },
  {
   "cell_type": "code",
   "execution_count": 165,
   "metadata": {},
   "outputs": [
    {
     "data": {
      "image/png": "[encoded data removed]",
      "text/plain": [
       "<Figure size 640x480 with 1 Axes>"
      ]
     },
     "metadata": {},
     "output_type": "display_data"
    }
   ],
   "source": [
    "from matplotlib.pyplot import figure\n",
    "\n",
    "index = np.arange(len(top_15.index))\n",
    "numbers = list(top_15)\n",
    "figure(num=None, figsize=(8, 6), dpi=80, facecolor='w', edgecolor='k')\n",
    "plt.bar(index, numbers)\n",
    "plt.xlabel('Top 15 common words', fontsize=11)\n",
    "plt.ylabel('Frequency', fontsize=11)\n",
    "plt.xticks(index, top_15.index, fontsize=13, rotation=30)\n",
    "plt.title('Data Scientis Indeed Jobs')\n",
    "plt.show()"
   ]
  },
  {
   "cell_type": "code",
   "execution_count": 166,
   "metadata": {},
   "outputs": [
    {
     "data": {
      "text/html": [
       "<div>\n",
       "<style scoped>\n",
       "    .dataframe tbody tr th:only-of-type {\n",
       "        vertical-align: middle;\n",
       "    }\n",
       "\n",
       "    .dataframe tbody tr th {\n",
       "        vertical-align: top;\n",
       "    }\n",
       "\n",
       "    .dataframe thead th {\n",
       "        text-align: right;\n",
       "    }\n",
       "</style>\n",
       "<table border=\"1\" class=\"dataframe\">\n",
       "  <thead>\n",
       "    <tr style=\"text-align: right;\">\n",
       "      <th></th>\n",
       "      <th>000</th>\n",
       "      <th>10</th>\n",
       "      <th>100</th>\n",
       "      <th>200</th>\n",
       "      <th>2012</th>\n",
       "      <th>2013</th>\n",
       "      <th>2019</th>\n",
       "      <th>24</th>\n",
       "      <th>30</th>\n",
       "      <th>40</th>\n",
       "      <th>...</th>\n",
       "      <th>workplace</th>\n",
       "      <th>world</th>\n",
       "      <th>worldwide</th>\n",
       "      <th>write</th>\n",
       "      <th>written</th>\n",
       "      <th>www</th>\n",
       "      <th>year</th>\n",
       "      <th>years</th>\n",
       "      <th>yummy</th>\n",
       "      <th>zero</th>\n",
       "    </tr>\n",
       "  </thead>\n",
       "  <tbody>\n",
       "    <tr>\n",
       "      <th>0</th>\n",
       "      <td>0.0</td>\n",
       "      <td>0.000000</td>\n",
       "      <td>0.061773</td>\n",
       "      <td>0.000000</td>\n",
       "      <td>0.000000</td>\n",
       "      <td>0.0</td>\n",
       "      <td>0.000000</td>\n",
       "      <td>0.0</td>\n",
       "      <td>0.000000</td>\n",
       "      <td>0.0</td>\n",
       "      <td>...</td>\n",
       "      <td>0.049804</td>\n",
       "      <td>0.000000</td>\n",
       "      <td>0.000000</td>\n",
       "      <td>0.037375</td>\n",
       "      <td>0.000000</td>\n",
       "      <td>0.0</td>\n",
       "      <td>0.000000</td>\n",
       "      <td>0.0</td>\n",
       "      <td>0.0</td>\n",
       "      <td>0.0</td>\n",
       "    </tr>\n",
       "    <tr>\n",
       "      <th>1</th>\n",
       "      <td>0.0</td>\n",
       "      <td>0.000000</td>\n",
       "      <td>0.000000</td>\n",
       "      <td>0.000000</td>\n",
       "      <td>0.000000</td>\n",
       "      <td>0.0</td>\n",
       "      <td>0.048359</td>\n",
       "      <td>0.0</td>\n",
       "      <td>0.000000</td>\n",
       "      <td>0.0</td>\n",
       "      <td>...</td>\n",
       "      <td>0.000000</td>\n",
       "      <td>0.022498</td>\n",
       "      <td>0.038308</td>\n",
       "      <td>0.030963</td>\n",
       "      <td>0.056686</td>\n",
       "      <td>0.0</td>\n",
       "      <td>0.021561</td>\n",
       "      <td>0.0</td>\n",
       "      <td>0.0</td>\n",
       "      <td>0.0</td>\n",
       "    </tr>\n",
       "    <tr>\n",
       "      <th>2</th>\n",
       "      <td>0.0</td>\n",
       "      <td>0.159211</td>\n",
       "      <td>0.000000</td>\n",
       "      <td>0.000000</td>\n",
       "      <td>0.000000</td>\n",
       "      <td>0.0</td>\n",
       "      <td>0.260695</td>\n",
       "      <td>0.0</td>\n",
       "      <td>0.137940</td>\n",
       "      <td>0.0</td>\n",
       "      <td>...</td>\n",
       "      <td>0.000000</td>\n",
       "      <td>0.000000</td>\n",
       "      <td>0.000000</td>\n",
       "      <td>0.000000</td>\n",
       "      <td>0.000000</td>\n",
       "      <td>0.0</td>\n",
       "      <td>0.000000</td>\n",
       "      <td>0.0</td>\n",
       "      <td>0.0</td>\n",
       "      <td>0.0</td>\n",
       "    </tr>\n",
       "    <tr>\n",
       "      <th>3</th>\n",
       "      <td>0.0</td>\n",
       "      <td>0.000000</td>\n",
       "      <td>0.000000</td>\n",
       "      <td>0.000000</td>\n",
       "      <td>0.000000</td>\n",
       "      <td>0.0</td>\n",
       "      <td>0.000000</td>\n",
       "      <td>0.0</td>\n",
       "      <td>0.000000</td>\n",
       "      <td>0.0</td>\n",
       "      <td>...</td>\n",
       "      <td>0.000000</td>\n",
       "      <td>0.000000</td>\n",
       "      <td>0.000000</td>\n",
       "      <td>0.000000</td>\n",
       "      <td>0.000000</td>\n",
       "      <td>0.0</td>\n",
       "      <td>0.000000</td>\n",
       "      <td>0.0</td>\n",
       "      <td>0.0</td>\n",
       "      <td>0.0</td>\n",
       "    </tr>\n",
       "    <tr>\n",
       "      <th>4</th>\n",
       "      <td>0.0</td>\n",
       "      <td>0.000000</td>\n",
       "      <td>0.000000</td>\n",
       "      <td>0.049963</td>\n",
       "      <td>0.049963</td>\n",
       "      <td>0.0</td>\n",
       "      <td>0.000000</td>\n",
       "      <td>0.0</td>\n",
       "      <td>0.045106</td>\n",
       "      <td>0.0</td>\n",
       "      <td>...</td>\n",
       "      <td>0.036366</td>\n",
       "      <td>0.019829</td>\n",
       "      <td>0.000000</td>\n",
       "      <td>0.000000</td>\n",
       "      <td>0.000000</td>\n",
       "      <td>0.0</td>\n",
       "      <td>0.019004</td>\n",
       "      <td>0.0</td>\n",
       "      <td>0.0</td>\n",
       "      <td>0.0</td>\n",
       "    </tr>\n",
       "  </tbody>\n",
       "</table>\n",
       "<p>5 rows × 1234 columns</p>\n",
       "</div>"
      ],
      "text/plain": [
       "   000        10       100       200      2012  2013      2019   24        30  \\\n",
       "0  0.0  0.000000  0.061773  0.000000  0.000000   0.0  0.000000  0.0  0.000000   \n",
       "1  0.0  0.000000  0.000000  0.000000  0.000000   0.0  0.048359  0.0  0.000000   \n",
       "2  0.0  0.159211  0.000000  0.000000  0.000000   0.0  0.260695  0.0  0.137940   \n",
       "3  0.0  0.000000  0.000000  0.000000  0.000000   0.0  0.000000  0.0  0.000000   \n",
       "4  0.0  0.000000  0.000000  0.049963  0.049963   0.0  0.000000  0.0  0.045106   \n",
       "\n",
       "    40  ...  workplace     world  worldwide     write   written  www  \\\n",
       "0  0.0  ...   0.049804  0.000000   0.000000  0.037375  0.000000  0.0   \n",
       "1  0.0  ...   0.000000  0.022498   0.038308  0.030963  0.056686  0.0   \n",
       "2  0.0  ...   0.000000  0.000000   0.000000  0.000000  0.000000  0.0   \n",
       "3  0.0  ...   0.000000  0.000000   0.000000  0.000000  0.000000  0.0   \n",
       "4  0.0  ...   0.036366  0.019829   0.000000  0.000000  0.000000  0.0   \n",
       "\n",
       "       year  years  yummy  zero  \n",
       "0  0.000000    0.0    0.0   0.0  \n",
       "1  0.021561    0.0    0.0   0.0  \n",
       "2  0.000000    0.0    0.0   0.0  \n",
       "3  0.000000    0.0    0.0   0.0  \n",
       "4  0.019004    0.0    0.0   0.0  \n",
       "\n",
       "[5 rows x 1234 columns]"
      ]
     },
     "execution_count": 166,
     "metadata": {},
     "output_type": "execute_result"
    }
   ],
   "source": [
    "##### Your Code Here #####\n",
    "from sklearn.feature_extraction.text import TfidfVectorizer\n",
    "\n",
    "# Instantiate vectorizer object\n",
    "tfidf = TfidfVectorizer(stop_words = 'english',min_df = 0.05, max_df= 0.90)\n",
    "\n",
    "# Create a vocabulary and get word counts per document\n",
    "sparse = tfidf.fit_transform(df['lammatized_sentence'])\n",
    "\n",
    "# Print word counts\n",
    "\n",
    "# Get feature names to use as dataframe column headers\n",
    "dtm = pd.DataFrame(sparse.todense(), columns=tfidf.get_feature_names())\n",
    "\n",
    "# View Feature Matrix as DataFrame\n",
    "dtm.head()"
   ]
  },
  {
   "cell_type": "code",
   "execution_count": 167,
   "metadata": {},
   "outputs": [
    {
     "data": {
      "text/plain": [
       "NearestNeighbors(algorithm='ball_tree', leaf_size=30, metric='minkowski',\n",
       "         metric_params=None, n_jobs=None, n_neighbors=5, p=2, radius=1.0)"
      ]
     },
     "execution_count": 167,
     "metadata": {},
     "output_type": "execute_result"
    }
   ],
   "source": [
    "# Instantiate\n",
    "from sklearn.neighbors import NearestNeighbors\n",
    "\n",
    "\n",
    "# Fit on TF-IDF Vectors\n",
    "nn  = NearestNeighbors(n_neighbors=5, algorithm='ball_tree')\n",
    "nn.fit(dtm)"
   ]
  },
  {
   "cell_type": "code",
   "execution_count": 168,
   "metadata": {},
   "outputs": [
    {
     "data": {
      "text/plain": [
       "(array([[0.        , 1.07402522, 1.10353985, 1.11188221, 1.12896748]]),\n",
       " array([[ 0,  1, 25, 88, 93]], dtype=int64))"
      ]
     },
     "execution_count": 168,
     "metadata": {},
     "output_type": "execute_result"
    }
   ],
   "source": [
    "nn.kneighbors([dtm.iloc[0]])"
   ]
  },
  {
   "cell_type": "code",
   "execution_count": 177,
   "metadata": {},
   "outputs": [],
   "source": [
    "job_desc = [\"Start-up, high salary, machine learning, perks, python, english language is a must\"]"
   ]
  },
  {
   "cell_type": "code",
   "execution_count": 178,
   "metadata": {},
   "outputs": [
    {
     "data": {
      "text/plain": [
       "(array([[1.28922502, 1.28934446, 1.28934446, 1.28959475, 1.29011676]]),\n",
       " array([[96, 84, 65, 59, 23]], dtype=int64))"
      ]
     },
     "execution_count": 178,
     "metadata": {},
     "output_type": "execute_result"
    }
   ],
   "source": [
    "new = tfidf.transform(job_desc)\n",
    "\n",
    "nn.kneighbors(new.todense())"
   ]
  },
  {
   "cell_type": "code",
   "execution_count": 180,
   "metadata": {},
   "outputs": [
    {
     "data": {
      "text/plain": [
       "' summary \\n posted jul 5 2019 \\n weekly hours 40 \\n role number 113817794 \\n join the team that engineer siri and other cloud base service for international market -PRON- team be primarily responsible for make siri the good worldwide digital assistant teaching siri how to understand and speak new language be the main goal of -PRON- team together with design and implement a highly locally customize experience for -PRON- user \\n be a deeply diverse and passionate group dedicate to bring the future of intelligent assistant to the world be look for a highly motivate danish speaking engineer with strong software engineering skill and high sensibility for foreign language and culture \\n key qualifications \\n native speaker fluency or comparable in danish and ability to work in an english speak environment \\n strong software engineering fundamentals \\n proficiency in at least one of the follow java c c++/objective c python \\n experience with one or more version control system \\n familiarity with machine learn method for classification regression or rank problem \\n knowledge of text processing and nlp technique \\n analytic mindset and obsession for datum \\n outstanding problem solve and critical thinking skill and get thing do attitude \\n excellent verbal and write communication great teammate mentality and collaborative in nature \\n description \\n be look for prove ability to be creative take ownership of a project a superior technical expertise and a knack for solve problem that stump most engineer have work on shipping product and be familiar with the rush to the finish line be highly desire this be an opportunity to durably shape the future of human computer interaction and walk the state of the art of a nascent field specific responsibility will include \\n engineering natural language processing component specific to -PRON- language \\n use the power of large amount of datum to tackle complex nlp and machine learning problem \\n lead datum annotation effort and define language specific representation convention and technique \\n analyze datum and make datum drive decision to improve the localize user experience \\n automating and integrate workflow from diverse system \\n provide insight and suggestion towards innovative new approach and new product feature tailor to -PRON- home market \\n develop creative solution to complex issue \\n interact with other team at apple work towards the same goal from speech recognition specialists data scientists and speech synthesis engineer \\n education experienceb.s msc in computer science electrical engineering or related field or equivalent experience \\n additional requirements \\n desired but not require experience skill consistent record in shipping user face product and feature to international market demonstrate ability to write thoughtful maintainable code under tight deadline in a fast paced environment practical work experience in natural language processing machine learning or relate sub field proven ability of use creative approach for solve complex problem quick prototyping scripting and tool development python perl ruby shell .interest in diversity and cultural difference and how affect user experience'"
      ]
     },
     "execution_count": 180,
     "metadata": {},
     "output_type": "execute_result"
    }
   ],
   "source": [
    "df['lammatized_sentence'].iloc[65]"
   ]
  },
  {
   "cell_type": "markdown",
   "metadata": {
    "colab_type": "text",
    "id": "FiDfTWceoRkH"
   },
   "source": [
    "## Stretch Goals\n",
    "\n",
    " - Try different visualizations for words and frequencies - what story do you want to tell with the data?\n",
    " - Scrape Job Listings for the job title \"Data Analyst\". How do these differ from Data Scientist Job Listings\n",
    " - Try and identify requirements for experience specific technologies that are asked for in the job listings. How are those distributed among the job listings?\n",
    " - Use a clustering algorithm to cluster documents by their most important terms. Do the clusters reveal any common themes?\n",
    "  - **Hint:** K-means might not be the best algorithm for this. Do a little bit of research to see what might be good for this. Also, remember that algorithms that depend on Euclidean distance break down with high dimensional data."
   ]
  }
 ],
 "metadata": {
  "colab": {
   "collapsed_sections": [],
   "name": "LS_DS_422_BOW_Assignment.ipynb",
   "provenance": [],
   "version": "0.3.2"
  },
  "kernel_info": {
   "name": "python3"
  },
  "kernelspec": {
   "display_name": "Python [conda env:lambda-nlp]",
   "language": "python",
   "name": "conda-env-lambda-nlp-py"
  },
  "language_info": {
   "codemirror_mode": {
    "name": "ipython",
    "version": 3
   },
   "file_extension": ".py",
   "mimetype": "text/x-python",
   "name": "python",
   "nbconvert_exporter": "python",
   "pygments_lexer": "ipython3",
   "version": "3.7.3"
  },
  "nteract": {
   "version": "0.14.3"
  }
 },
 "nbformat": 4,
 "nbformat_minor": 2
}
