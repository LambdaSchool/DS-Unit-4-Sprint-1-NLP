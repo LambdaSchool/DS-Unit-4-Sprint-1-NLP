{
 "cells": [
  {
   "cell_type": "markdown",
   "metadata": {},
   "source": [
    "<img align=\"left\" src=\"https://lever-client-logos.s3.amazonaws.com/864372b1-534c-480e-acd5-9711f850815c-1524247202159.png\" width=200>\n",
    "<br></br>\n",
    "\n",
    "# Vector Representations\n",
    "## *Data Science Unit 4 Sprint 2 Assignment 2*"
   ]
  },
  {
   "cell_type": "code",
   "execution_count": 3,
   "metadata": {},
   "outputs": [],
   "source": [
    "import matplotlib.pyplot as plt\n",
    "import pandas as pd\n",
    "import numpy as np\n",
    "import spacy\n",
    "from spacy.tokenizer import Tokenizer\n",
    "\n",
    "import re\n",
    "import string\n",
    "import requests\n",
    "\n",
    "import squarify\n",
    "\n",
    "from collections import Counter\n",
    "\n",
    "from bs4 import BeautifulSoup\n",
    "\n",
    "from sklearn.feature_extraction.text import CountVectorizer, TfidfVectorizer\n",
    "from sklearn.metrics.pairwise import cosine_similarity\n",
    "from sklearn.neighbors import NearestNeighbors"
   ]
  },
  {
   "cell_type": "code",
   "execution_count": 4,
   "metadata": {},
   "outputs": [],
   "source": [
    "df = pd.read_csv('./data/job_listings.csv')"
   ]
  },
  {
   "cell_type": "markdown",
   "metadata": {
    "colab_type": "text",
    "id": "M7bcmqfGXrFG"
   },
   "source": [
    "## 1) *Optional:* Scrape 100 Job Listings that contain the title \"Data Scientist\" from indeed.com\n",
    "\n",
    "At a minimum your final dataframe of job listings should contain\n",
    "- Job Title\n",
    "- Job Description\n",
    "\n",
    "If you choose to not to scrape the data, there is a CSV with outdated data in the directory. Remeber, if you scrape Indeed, you're helping yourself find a job. ;)"
   ]
  },
  {
   "cell_type": "code",
   "execution_count": 5,
   "metadata": {},
   "outputs": [
    {
     "data": {
      "text/html": "<div>\n<style scoped>\n    .dataframe tbody tr th:only-of-type {\n        vertical-align: middle;\n    }\n\n    .dataframe tbody tr th {\n        vertical-align: top;\n    }\n\n    .dataframe thead th {\n        text-align: right;\n    }\n</style>\n<table border=\"1\" class=\"dataframe\">\n  <thead>\n    <tr style=\"text-align: right;\">\n      <th></th>\n      <th>Unnamed: 0</th>\n      <th>description</th>\n      <th>title</th>\n    </tr>\n  </thead>\n  <tbody>\n    <tr>\n      <th>0</th>\n      <td>0</td>\n      <td>b\"&lt;div&gt;&lt;div&gt;Job Requirements:&lt;/div&gt;&lt;ul&gt;&lt;li&gt;&lt;p&gt;...</td>\n      <td>Data scientist</td>\n    </tr>\n    <tr>\n      <th>1</th>\n      <td>1</td>\n      <td>b'&lt;div&gt;Job Description&lt;br/&gt;\\n&lt;br/&gt;\\n&lt;p&gt;As a Da...</td>\n      <td>Data Scientist I</td>\n    </tr>\n    <tr>\n      <th>2</th>\n      <td>2</td>\n      <td>b'&lt;div&gt;&lt;p&gt;As a Data Scientist you will be work...</td>\n      <td>Data Scientist - Entry Level</td>\n    </tr>\n  </tbody>\n</table>\n</div>",
      "text/plain": "   Unnamed: 0                                        description  \\\n0           0  b\"<div><div>Job Requirements:</div><ul><li><p>...   \n1           1  b'<div>Job Description<br/>\\n<br/>\\n<p>As a Da...   \n2           2  b'<div><p>As a Data Scientist you will be work...   \n\n                          title  \n0               Data scientist   \n1              Data Scientist I  \n2  Data Scientist - Entry Level  "
     },
     "execution_count": 5,
     "metadata": {},
     "output_type": "execute_result"
    }
   ],
   "source": [
    "df.head(3)"
   ]
  },
  {
   "cell_type": "code",
   "execution_count": 6,
   "metadata": {},
   "outputs": [],
   "source": [
    "def mk_soup(html):\n",
    "    html = html.lstrip('b\"\\'').rstrip('\"\\'')\n",
    "    \n",
    "    soup = BeautifulSoup(html, 'html.parser')\n",
    "\n",
    "    return soup.get_text()"
   ]
  },
  {
   "cell_type": "code",
   "execution_count": 7,
   "metadata": {},
   "outputs": [
    {
     "data": {
      "text/html": "<div>\n<style scoped>\n    .dataframe tbody tr th:only-of-type {\n        vertical-align: middle;\n    }\n\n    .dataframe tbody tr th {\n        vertical-align: top;\n    }\n\n    .dataframe thead th {\n        text-align: right;\n    }\n</style>\n<table border=\"1\" class=\"dataframe\">\n  <thead>\n    <tr style=\"text-align: right;\">\n      <th></th>\n      <th>Unnamed: 0</th>\n      <th>description</th>\n      <th>title</th>\n      <th>soup-ed_up</th>\n    </tr>\n  </thead>\n  <tbody>\n    <tr>\n      <th>0</th>\n      <td>0</td>\n      <td>b\"&lt;div&gt;&lt;div&gt;Job Requirements:&lt;/div&gt;&lt;ul&gt;&lt;li&gt;&lt;p&gt;...</td>\n      <td>Data scientist</td>\n      <td>Job Requirements:\\nConceptual understanding in...</td>\n    </tr>\n    <tr>\n      <th>1</th>\n      <td>1</td>\n      <td>b'&lt;div&gt;Job Description&lt;br/&gt;\\n&lt;br/&gt;\\n&lt;p&gt;As a Da...</td>\n      <td>Data Scientist I</td>\n      <td>Job Description\\n\\nAs a Data Scientist 1, you ...</td>\n    </tr>\n    <tr>\n      <th>2</th>\n      <td>2</td>\n      <td>b'&lt;div&gt;&lt;p&gt;As a Data Scientist you will be work...</td>\n      <td>Data Scientist - Entry Level</td>\n      <td>As a Data Scientist you will be working on con...</td>\n    </tr>\n    <tr>\n      <th>3</th>\n      <td>3</td>\n      <td>b'&lt;div class=\"jobsearch-JobMetadataHeader icl-...</td>\n      <td>Data Scientist</td>\n      <td>$4,969 - $6,756 a monthContractUnder the gener...</td>\n    </tr>\n    <tr>\n      <th>4</th>\n      <td>4</td>\n      <td>b'&lt;ul&gt;&lt;li&gt;Location: USA \\xe2\\x80\\x93 multiple ...</td>\n      <td>Data Scientist</td>\n      <td>Location: USA \\xe2\\x80\\x93 multiple locations\\...</td>\n    </tr>\n  </tbody>\n</table>\n</div>",
      "text/plain": "   Unnamed: 0                                        description  \\\n0           0  b\"<div><div>Job Requirements:</div><ul><li><p>...   \n1           1  b'<div>Job Description<br/>\\n<br/>\\n<p>As a Da...   \n2           2  b'<div><p>As a Data Scientist you will be work...   \n3           3  b'<div class=\"jobsearch-JobMetadataHeader icl-...   \n4           4  b'<ul><li>Location: USA \\xe2\\x80\\x93 multiple ...   \n\n                          title  \\\n0               Data scientist    \n1              Data Scientist I   \n2  Data Scientist - Entry Level   \n3                Data Scientist   \n4                Data Scientist   \n\n                                          soup-ed_up  \n0  Job Requirements:\\nConceptual understanding in...  \n1  Job Description\\n\\nAs a Data Scientist 1, you ...  \n2  As a Data Scientist you will be working on con...  \n3  $4,969 - $6,756 a monthContractUnder the gener...  \n4  Location: USA \\xe2\\x80\\x93 multiple locations\\...  "
     },
     "execution_count": 7,
     "metadata": {},
     "output_type": "execute_result"
    }
   ],
   "source": [
    "df['soup-ed_up'] = df['description'].apply(mk_soup)\n",
    "df.head()"
   ]
  },
  {
   "cell_type": "markdown",
   "metadata": {
    "colab_type": "text",
    "id": "5C4xFZNtX1m2"
   },
   "source": [
    "## 2) Use Spacy to tokenize / clean the listings "
   ]
  },
  {
   "cell_type": "code",
   "execution_count": 8,
   "metadata": {},
   "outputs": [],
   "source": [
    "nlp = spacy.load('en_core_web_lg')\n",
    "tokenizer = Tokenizer(nlp.vocab)"
   ]
  },
  {
   "cell_type": "code",
   "execution_count": 9,
   "metadata": {},
   "outputs": [],
   "source": [
    "def get_lemz(text):\n",
    "\n",
    "    stopwords = []\n",
    "    lemmas = []\n",
    "\n",
    "    doc = nlp(text)\n",
    "\n",
    "    for token in doc:\n",
    "        if (token.text.lower() not in stopwords):\n",
    "            if ((token.is_stop == False) & (token.is_punct == False)) & (token.pos_!= 'PRON'):\n",
    "                lemmas.append(token.lemma_)\n",
    "\n",
    "    return lemmas"
   ]
  },
  {
   "cell_type": "code",
   "execution_count": 10,
   "metadata": {},
   "outputs": [],
   "source": [
    "df['lemz'] = df['soup-ed_up'].apply(get_lemz)"
   ]
  },
  {
   "cell_type": "code",
   "execution_count": 11,
   "metadata": {},
   "outputs": [
    {
     "data": {
      "text/html": "<div>\n<style scoped>\n    .dataframe tbody tr th:only-of-type {\n        vertical-align: middle;\n    }\n\n    .dataframe tbody tr th {\n        vertical-align: top;\n    }\n\n    .dataframe thead th {\n        text-align: right;\n    }\n</style>\n<table border=\"1\" class=\"dataframe\">\n  <thead>\n    <tr style=\"text-align: right;\">\n      <th></th>\n      <th>Unnamed: 0</th>\n      <th>description</th>\n      <th>title</th>\n      <th>soup-ed_up</th>\n      <th>lemz</th>\n    </tr>\n  </thead>\n  <tbody>\n    <tr>\n      <th>0</th>\n      <td>0</td>\n      <td>b\"&lt;div&gt;&lt;div&gt;Job Requirements:&lt;/div&gt;&lt;ul&gt;&lt;li&gt;&lt;p&gt;...</td>\n      <td>Data scientist</td>\n      <td>Job Requirements:\\nConceptual understanding in...</td>\n      <td>[job, requirements:\\nconceptual, understanding...</td>\n    </tr>\n    <tr>\n      <th>1</th>\n      <td>1</td>\n      <td>b'&lt;div&gt;Job Description&lt;br/&gt;\\n&lt;br/&gt;\\n&lt;p&gt;As a Da...</td>\n      <td>Data Scientist I</td>\n      <td>Job Description\\n\\nAs a Data Scientist 1, you ...</td>\n      <td>[job, description\\n\\nas, Data, Scientist, 1, h...</td>\n    </tr>\n    <tr>\n      <th>2</th>\n      <td>2</td>\n      <td>b'&lt;div&gt;&lt;p&gt;As a Data Scientist you will be work...</td>\n      <td>Data Scientist - Entry Level</td>\n      <td>As a Data Scientist you will be working on con...</td>\n      <td>[Data, scientist, work, consult, business, res...</td>\n    </tr>\n  </tbody>\n</table>\n</div>",
      "text/plain": "   Unnamed: 0                                        description  \\\n0           0  b\"<div><div>Job Requirements:</div><ul><li><p>...   \n1           1  b'<div>Job Description<br/>\\n<br/>\\n<p>As a Da...   \n2           2  b'<div><p>As a Data Scientist you will be work...   \n\n                          title  \\\n0               Data scientist    \n1              Data Scientist I   \n2  Data Scientist - Entry Level   \n\n                                          soup-ed_up  \\\n0  Job Requirements:\\nConceptual understanding in...   \n1  Job Description\\n\\nAs a Data Scientist 1, you ...   \n2  As a Data Scientist you will be working on con...   \n\n                                                lemz  \n0  [job, requirements:\\nconceptual, understanding...  \n1  [job, description\\n\\nas, Data, Scientist, 1, h...  \n2  [Data, scientist, work, consult, business, res...  "
     },
     "execution_count": 11,
     "metadata": {},
     "output_type": "execute_result"
    }
   ],
   "source": [
    "df.head(3)"
   ]
  },
  {
   "cell_type": "markdown",
   "metadata": {
    "colab_type": "text",
    "id": "-lgCZNL_YycP"
   },
   "source": [
    "## 3) Use Scikit-Learn's CountVectorizer to get word counts for each listing."
   ]
  },
  {
   "cell_type": "code",
   "execution_count": 12,
   "metadata": {},
   "outputs": [],
   "source": [
    "data = df['soup-ed_up']\n",
    "vect = CountVectorizer(stop_words='english')\n",
    "vect.fit(data)\n",
    "dtm = vect.transform(data)\n",
    "\n",
    "dtm = pd.DataFrame(dtm.todense(), columns=vect.get_feature_names())"
   ]
  },
  {
   "cell_type": "code",
   "execution_count": 13,
   "metadata": {},
   "outputs": [
    {
     "data": {
      "text/html": "<div>\n<style scoped>\n    .dataframe tbody tr th:only-of-type {\n        vertical-align: middle;\n    }\n\n    .dataframe tbody tr th {\n        vertical-align: top;\n    }\n\n    .dataframe thead th {\n        text-align: right;\n    }\n</style>\n<table border=\"1\" class=\"dataframe\">\n  <thead>\n    <tr style=\"text-align: right;\">\n      <th></th>\n      <th>00</th>\n      <th>000</th>\n      <th>02115</th>\n      <th>03</th>\n      <th>0356</th>\n      <th>04</th>\n      <th>062</th>\n      <th>06366</th>\n      <th>08</th>\n      <th>10</th>\n      <th>...</th>\n      <th>zenreach</th>\n      <th>zero</th>\n      <th>zeus</th>\n      <th>zf</th>\n      <th>zheng</th>\n      <th>zillow</th>\n      <th>zones</th>\n      <th>zoom</th>\n      <th>zuckerberg</th>\n      <th>zurich</th>\n    </tr>\n  </thead>\n  <tbody>\n    <tr>\n      <th>0</th>\n      <td>0</td>\n      <td>0</td>\n      <td>0</td>\n      <td>0</td>\n      <td>0</td>\n      <td>0</td>\n      <td>0</td>\n      <td>0</td>\n      <td>0</td>\n      <td>0</td>\n      <td>...</td>\n      <td>0</td>\n      <td>0</td>\n      <td>0</td>\n      <td>0</td>\n      <td>0</td>\n      <td>0</td>\n      <td>0</td>\n      <td>0</td>\n      <td>0</td>\n      <td>0</td>\n    </tr>\n    <tr>\n      <th>1</th>\n      <td>0</td>\n      <td>0</td>\n      <td>0</td>\n      <td>0</td>\n      <td>0</td>\n      <td>0</td>\n      <td>0</td>\n      <td>0</td>\n      <td>0</td>\n      <td>0</td>\n      <td>...</td>\n      <td>0</td>\n      <td>0</td>\n      <td>0</td>\n      <td>0</td>\n      <td>0</td>\n      <td>0</td>\n      <td>0</td>\n      <td>0</td>\n      <td>0</td>\n      <td>0</td>\n    </tr>\n    <tr>\n      <th>2</th>\n      <td>0</td>\n      <td>0</td>\n      <td>0</td>\n      <td>0</td>\n      <td>0</td>\n      <td>0</td>\n      <td>0</td>\n      <td>0</td>\n      <td>0</td>\n      <td>0</td>\n      <td>...</td>\n      <td>0</td>\n      <td>0</td>\n      <td>0</td>\n      <td>0</td>\n      <td>0</td>\n      <td>0</td>\n      <td>0</td>\n      <td>0</td>\n      <td>0</td>\n      <td>0</td>\n    </tr>\n    <tr>\n      <th>3</th>\n      <td>0</td>\n      <td>0</td>\n      <td>0</td>\n      <td>0</td>\n      <td>0</td>\n      <td>0</td>\n      <td>0</td>\n      <td>0</td>\n      <td>0</td>\n      <td>0</td>\n      <td>...</td>\n      <td>0</td>\n      <td>0</td>\n      <td>0</td>\n      <td>0</td>\n      <td>1</td>\n      <td>0</td>\n      <td>0</td>\n      <td>0</td>\n      <td>0</td>\n      <td>0</td>\n    </tr>\n    <tr>\n      <th>4</th>\n      <td>0</td>\n      <td>0</td>\n      <td>0</td>\n      <td>0</td>\n      <td>0</td>\n      <td>0</td>\n      <td>0</td>\n      <td>0</td>\n      <td>0</td>\n      <td>0</td>\n      <td>...</td>\n      <td>0</td>\n      <td>0</td>\n      <td>0</td>\n      <td>0</td>\n      <td>0</td>\n      <td>0</td>\n      <td>0</td>\n      <td>0</td>\n      <td>0</td>\n      <td>0</td>\n    </tr>\n  </tbody>\n</table>\n<p>5 rows × 9816 columns</p>\n</div>",
      "text/plain": "   00  000  02115  03  0356  04  062  06366  08  10  ...  zenreach  zero  \\\n0   0    0      0   0     0   0    0      0   0   0  ...         0     0   \n1   0    0      0   0     0   0    0      0   0   0  ...         0     0   \n2   0    0      0   0     0   0    0      0   0   0  ...         0     0   \n3   0    0      0   0     0   0    0      0   0   0  ...         0     0   \n4   0    0      0   0     0   0    0      0   0   0  ...         0     0   \n\n   zeus  zf  zheng  zillow  zones  zoom  zuckerberg  zurich  \n0     0   0      0       0      0     0           0       0  \n1     0   0      0       0      0     0           0       0  \n2     0   0      0       0      0     0           0       0  \n3     0   0      1       0      0     0           0       0  \n4     0   0      0       0      0     0           0       0  \n\n[5 rows x 9816 columns]"
     },
     "execution_count": 13,
     "metadata": {},
     "output_type": "execute_result"
    }
   ],
   "source": [
    "dtm.head()"
   ]
  },
  {
   "cell_type": "markdown",
   "metadata": {
    "colab_type": "text",
    "id": "Zo1iH_UeY7_n"
   },
   "source": [
    "## 4) Visualize the most common word counts"
   ]
  },
  {
   "cell_type": "code",
   "execution_count": 14,
   "metadata": {},
   "outputs": [],
   "source": [
    "def count(docs):\n",
    "\n",
    "        word_counts = Counter()\n",
    "        appears_in = Counter()\n",
    "        \n",
    "        total_docs = len(docs)\n",
    "\n",
    "        for doc in docs:\n",
    "            word_counts.update(doc)\n",
    "            appears_in.update(set(doc))\n",
    "\n",
    "        temp = zip(word_counts.keys(), word_counts.values())\n",
    "        \n",
    "        wc = pd.DataFrame(temp, columns = ['word', 'count'])\n",
    "\n",
    "        wc['rank'] = wc['count'].rank(method='first', ascending=False)\n",
    "        total = wc['count'].sum()\n",
    "\n",
    "        wc['pct_total'] = wc['count'].apply(lambda x: x / total)\n",
    "        \n",
    "        wc = wc.sort_values(by='rank')\n",
    "        wc['cul_pct_total'] = wc['pct_total'].cumsum()\n",
    "\n",
    "        t2 = zip(appears_in.keys(), appears_in.values())\n",
    "        ac = pd.DataFrame(t2, columns=['word', 'appears_in'])\n",
    "        wc = ac.merge(wc, on='word')\n",
    "\n",
    "        wc['appears_in_pct'] = wc['appears_in'].apply(lambda x: x / total_docs)\n",
    "        \n",
    "        return wc.sort_values(by='rank')"
   ]
  },
  {
   "cell_type": "code",
   "execution_count": 15,
   "metadata": {},
   "outputs": [
    {
     "data": {
      "text/html": "<div>\n<style scoped>\n    .dataframe tbody tr th:only-of-type {\n        vertical-align: middle;\n    }\n\n    .dataframe tbody tr th {\n        vertical-align: top;\n    }\n\n    .dataframe thead th {\n        text-align: right;\n    }\n</style>\n<table border=\"1\" class=\"dataframe\">\n  <thead>\n    <tr style=\"text-align: right;\">\n      <th></th>\n      <th>word</th>\n      <th>appears_in</th>\n      <th>count</th>\n      <th>rank</th>\n      <th>pct_total</th>\n      <th>cul_pct_total</th>\n      <th>appears_in_pct</th>\n    </tr>\n  </thead>\n  <tbody>\n    <tr>\n      <th>74</th>\n      <td>datum</td>\n      <td>408</td>\n      <td>2791</td>\n      <td>1.0</td>\n      <td>0.021929</td>\n      <td>0.021929</td>\n      <td>0.957746</td>\n    </tr>\n    <tr>\n      <th>55</th>\n      <td>work</td>\n      <td>367</td>\n      <td>1368</td>\n      <td>2.0</td>\n      <td>0.010748</td>\n      <td>0.032677</td>\n      <td>0.861502</td>\n    </tr>\n    <tr>\n      <th>312</th>\n      <td>team</td>\n      <td>358</td>\n      <td>1176</td>\n      <td>3.0</td>\n      <td>0.009240</td>\n      <td>0.041917</td>\n      <td>0.840376</td>\n    </tr>\n    <tr>\n      <th>71</th>\n      <td>experience</td>\n      <td>372</td>\n      <td>1124</td>\n      <td>4.0</td>\n      <td>0.008831</td>\n      <td>0.050748</td>\n      <td>0.873239</td>\n    </tr>\n    <tr>\n      <th>286</th>\n      <td>business</td>\n      <td>315</td>\n      <td>1101</td>\n      <td>5.0</td>\n      <td>0.008650</td>\n      <td>0.059398</td>\n      <td>0.739437</td>\n    </tr>\n  </tbody>\n</table>\n</div>",
      "text/plain": "           word  appears_in  count  rank  pct_total  cul_pct_total  \\\n74        datum         408   2791   1.0   0.021929       0.021929   \n55         work         367   1368   2.0   0.010748       0.032677   \n312        team         358   1176   3.0   0.009240       0.041917   \n71   experience         372   1124   4.0   0.008831       0.050748   \n286    business         315   1101   5.0   0.008650       0.059398   \n\n     appears_in_pct  \n74         0.957746  \n55         0.861502  \n312        0.840376  \n71         0.873239  \n286        0.739437  "
     },
     "execution_count": 15,
     "metadata": {},
     "output_type": "execute_result"
    }
   ],
   "source": [
    "wc = count(df['lemz'])\n",
    "wc.head()"
   ]
  },
  {
   "cell_type": "code",
   "execution_count": 16,
   "metadata": {},
   "outputs": [
    {
     "data": {
      "image/png": "[encoded data removed]",
      "image/svg+xml": "<?xml version=\"1.0\" encoding=\"utf-8\" standalone=\"no\"?>\r\n<!DOCTYPE svg PUBLIC \"-//W3C//DTD SVG 1.1//EN\"\r\n  \"http://www.w3.org/Graphics/SVG/1.1/DTD/svg11.dtd\">\r\n<!-- Created with matplotlib (https://matplotlib.org/) -->\r\n<svg height=\"231.84pt\" version=\"1.1\" viewBox=\"0 0 349.2 231.84\" width=\"349.2pt\" xmlns=\"http://www.w3.org/2000/svg\" xmlns:xlink=\"http://www.w3.org/1999/xlink\">\r\n <defs>\r\n  <style type=\"text/css\">\r\n*{stroke-linecap:butt;stroke-linejoin:round;}\r\n  </style>\r\n </defs>\r\n <g id=\"figure_1\">\r\n  <g id=\"patch_1\">\r\n   <path d=\"M 0 231.84 \r\nL 349.2 231.84 \r\nL 349.2 0 \r\nL 0 0 \r\nz\r\n\" style=\"fill:none;\"/>\r\n  </g>\r\n  <g id=\"axes_1\">\r\n   <g id=\"patch_2\">\r\n    <path clip-path=\"url(#p6c12b1891d)\" d=\"M 7.2 224.64 \r\nL 115.151046 224.64 \r\nL 115.151046 110.886478 \r\nL 7.2 110.886478 \r\nz\r\n\" style=\"fill:#c0df25;opacity:0.8;\"/>\r\n   </g>\r\n   <g id=\"patch_3\">\r\n    <path clip-path=\"url(#p6c12b1891d)\" d=\"M 7.2 110.886478 \r\nL 115.151046 110.886478 \r\nL 115.151046 55.130542 \r\nL 7.2 55.130542 \r\nz\r\n\" style=\"fill:#b5de2b;opacity:0.8;\"/>\r\n   </g>\r\n   <g id=\"patch_4\">\r\n    <path clip-path=\"url(#p6c12b1891d)\" d=\"M 7.2 55.130542 \r\nL 115.151046 55.130542 \r\nL 115.151046 7.2 \r\nL 7.2 7.2 \r\nz\r\n\" style=\"fill:#228d8d;opacity:0.8;\"/>\r\n   </g>\r\n   <g id=\"patch_5\">\r\n    <path clip-path=\"url(#p6c12b1891d)\" d=\"M 115.151046 224.64 \r\nL 200.285678 224.64 \r\nL 200.285678 166.551266 \r\nL 115.151046 166.551266 \r\nz\r\n\" style=\"fill:#228b8d;opacity:0.8;\"/>\r\n   </g>\r\n   <g id=\"patch_6\">\r\n    <path clip-path=\"url(#p6c12b1891d)\" d=\"M 200.285678 224.64 \r\nL 283.678232 224.64 \r\nL 283.678232 166.551266 \r\nL 200.285678 166.551266 \r\nz\r\n\" style=\"fill:#38598c;opacity:0.8;\"/>\r\n   </g>\r\n   <g id=\"patch_7\">\r\n    <path clip-path=\"url(#p6c12b1891d)\" d=\"M 283.678232 224.64 \r\nL 342 224.64 \r\nL 342 166.551266 \r\nL 283.678232 166.551266 \r\nz\r\n\" style=\"fill:#365d8d;opacity:0.8;\"/>\r\n   </g>\r\n   <g id=\"patch_8\">\r\n    <path clip-path=\"url(#p6c12b1891d)\" d=\"M 115.151046 166.551266 \r\nL 195.140696 166.551266 \r\nL 195.140696 124.967878 \r\nL 115.151046 124.967878 \r\nz\r\n\" style=\"fill:#2c728e;opacity:0.8;\"/>\r\n   </g>\r\n   <g id=\"patch_9\">\r\n    <path clip-path=\"url(#p6c12b1891d)\" d=\"M 195.140696 166.551266 \r\nL 270.58067 166.551266 \r\nL 270.58067 124.967878 \r\nL 195.140696 124.967878 \r\nz\r\n\" style=\"fill:#21a585;opacity:0.8;\"/>\r\n   </g>\r\n   <g id=\"patch_10\">\r\n    <path clip-path=\"url(#p6c12b1891d)\" d=\"M 270.58067 166.551266 \r\nL 342 166.551266 \r\nL 342 124.967878 \r\nL 270.58067 124.967878 \r\nz\r\n\" style=\"fill:#433d84;opacity:0.8;\"/>\r\n   </g>\r\n   <g id=\"patch_11\">\r\n    <path clip-path=\"url(#p6c12b1891d)\" d=\"M 115.151046 124.967878 \r\nL 183.033877 124.967878 \r\nL 183.033877 82.773663 \r\nL 115.151046 82.773663 \r\nz\r\n\" style=\"fill:#38588c;opacity:0.8;\"/>\r\n   </g>\r\n   <g id=\"patch_12\">\r\n    <path clip-path=\"url(#p6c12b1891d)\" d=\"M 115.151046 82.773663 \r\nL 183.033877 82.773663 \r\nL 183.033877 44.144244 \r\nL 115.151046 44.144244 \r\nz\r\n\" style=\"fill:#86d549;opacity:0.8;\"/>\r\n   </g>\r\n   <g id=\"patch_13\">\r\n    <path clip-path=\"url(#p6c12b1891d)\" d=\"M 115.151046 44.144244 \r\nL 183.033877 44.144244 \r\nL 183.033877 7.2 \r\nL 115.151046 7.2 \r\nz\r\n\" style=\"fill:#297b8e;opacity:0.8;\"/>\r\n   </g>\r\n   <g id=\"patch_14\">\r\n    <path clip-path=\"url(#p6c12b1891d)\" d=\"M 183.033877 124.967878 \r\nL 236.875712 124.967878 \r\nL 236.875712 78.552665 \r\nL 183.033877 78.552665 \r\nz\r\n\" style=\"fill:#472c7a;opacity:0.8;\"/>\r\n   </g>\r\n   <g id=\"patch_15\">\r\n    <path clip-path=\"url(#p6c12b1891d)\" d=\"M 236.875712 124.967878 \r\nL 289.485252 124.967878 \r\nL 289.485252 78.552665 \r\nL 236.875712 78.552665 \r\nz\r\n\" style=\"fill:#32b67a;opacity:0.8;\"/>\r\n   </g>\r\n   <g id=\"patch_16\">\r\n    <path clip-path=\"url(#p6c12b1891d)\" d=\"M 289.485252 124.967878 \r\nL 342 124.967878 \r\nL 342 78.552665 \r\nL 289.485252 78.552665 \r\nz\r\n\" style=\"fill:#1e9d89;opacity:0.8;\"/>\r\n   </g>\r\n   <g id=\"patch_17\">\r\n    <path clip-path=\"url(#p6c12b1891d)\" d=\"M 183.033877 78.552665 \r\nL 248.581196 78.552665 \r\nL 248.581196 42.842771 \r\nL 183.033877 42.842771 \r\nz\r\n\" style=\"fill:#3a538b;opacity:0.8;\"/>\r\n   </g>\r\n   <g id=\"patch_18\">\r\n    <path clip-path=\"url(#p6c12b1891d)\" d=\"M 183.033877 42.842771 \r\nL 248.581196 42.842771 \r\nL 248.581196 7.2 \r\nL 183.033877 7.2 \r\nz\r\n\" style=\"fill:#453581;opacity:0.8;\"/>\r\n   </g>\r\n   <g id=\"patch_19\">\r\n    <path clip-path=\"url(#p6c12b1891d)\" d=\"M 248.581196 78.552665 \r\nL 295.656946 78.552665 \r\nL 295.656946 30.513247 \r\nL 248.581196 30.513247 \r\nz\r\n\" style=\"fill:#22a785;opacity:0.8;\"/>\r\n   </g>\r\n   <g id=\"patch_20\">\r\n    <path clip-path=\"url(#p6c12b1891d)\" d=\"M 295.656946 78.552665 \r\nL 342 78.552665 \r\nL 342 30.513247 \r\nL 295.656946 30.513247 \r\nz\r\n\" style=\"fill:#218f8d;opacity:0.8;\"/>\r\n   </g>\r\n   <g id=\"patch_21\">\r\n    <path clip-path=\"url(#p6c12b1891d)\" d=\"M 248.581196 30.513247 \r\nL 342 30.513247 \r\nL 342 7.2 \r\nL 248.581196 7.2 \r\nz\r\n\" style=\"fill:#1f958b;opacity:0.8;\"/>\r\n   </g>\r\n   <g id=\"text_1\">\r\n    <!-- datum -->\r\n    <defs>\r\n     <path d=\"M 45.40625 46.390625 \r\nL 45.40625 75.984375 \r\nL 54.390625 75.984375 \r\nL 54.390625 0 \r\nL 45.40625 0 \r\nL 45.40625 8.203125 \r\nQ 42.578125 3.328125 38.25 0.953125 \r\nQ 33.9375 -1.421875 27.875 -1.421875 \r\nQ 17.96875 -1.421875 11.734375 6.484375 \r\nQ 5.515625 14.40625 5.515625 27.296875 \r\nQ 5.515625 40.1875 11.734375 48.09375 \r\nQ 17.96875 56 27.875 56 \r\nQ 33.9375 56 38.25 53.625 \r\nQ 42.578125 51.265625 45.40625 46.390625 \r\nz\r\nM 14.796875 27.296875 \r\nQ 14.796875 17.390625 18.875 11.75 \r\nQ 22.953125 6.109375 30.078125 6.109375 \r\nQ 37.203125 6.109375 41.296875 11.75 \r\nQ 45.40625 17.390625 45.40625 27.296875 \r\nQ 45.40625 37.203125 41.296875 42.84375 \r\nQ 37.203125 48.484375 30.078125 48.484375 \r\nQ 22.953125 48.484375 18.875 42.84375 \r\nQ 14.796875 37.203125 14.796875 27.296875 \r\nz\r\n\" id=\"DejaVuSans-100\"/>\r\n     <path d=\"M 34.28125 27.484375 \r\nQ 23.390625 27.484375 19.1875 25 \r\nQ 14.984375 22.515625 14.984375 16.5 \r\nQ 14.984375 11.71875 18.140625 8.90625 \r\nQ 21.296875 6.109375 26.703125 6.109375 \r\nQ 34.1875 6.109375 38.703125 11.40625 \r\nQ 43.21875 16.703125 43.21875 25.484375 \r\nL 43.21875 27.484375 \r\nz\r\nM 52.203125 31.203125 \r\nL 52.203125 0 \r\nL 43.21875 0 \r\nL 43.21875 8.296875 \r\nQ 40.140625 3.328125 35.546875 0.953125 \r\nQ 30.953125 -1.421875 24.3125 -1.421875 \r\nQ 15.921875 -1.421875 10.953125 3.296875 \r\nQ 6 8.015625 6 15.921875 \r\nQ 6 25.140625 12.171875 29.828125 \r\nQ 18.359375 34.515625 30.609375 34.515625 \r\nL 43.21875 34.515625 \r\nL 43.21875 35.40625 \r\nQ 43.21875 41.609375 39.140625 45 \r\nQ 35.0625 48.390625 27.6875 48.390625 \r\nQ 23 48.390625 18.546875 47.265625 \r\nQ 14.109375 46.140625 10.015625 43.890625 \r\nL 10.015625 52.203125 \r\nQ 14.9375 54.109375 19.578125 55.046875 \r\nQ 24.21875 56 28.609375 56 \r\nQ 40.484375 56 46.34375 49.84375 \r\nQ 52.203125 43.703125 52.203125 31.203125 \r\nz\r\n\" id=\"DejaVuSans-97\"/>\r\n     <path d=\"M 18.3125 70.21875 \r\nL 18.3125 54.6875 \r\nL 36.8125 54.6875 \r\nL 36.8125 47.703125 \r\nL 18.3125 47.703125 \r\nL 18.3125 18.015625 \r\nQ 18.3125 11.328125 20.140625 9.421875 \r\nQ 21.96875 7.515625 27.59375 7.515625 \r\nL 36.8125 7.515625 \r\nL 36.8125 0 \r\nL 27.59375 0 \r\nQ 17.1875 0 13.234375 3.875 \r\nQ 9.28125 7.765625 9.28125 18.015625 \r\nL 9.28125 47.703125 \r\nL 2.6875 47.703125 \r\nL 2.6875 54.6875 \r\nL 9.28125 54.6875 \r\nL 9.28125 70.21875 \r\nz\r\n\" id=\"DejaVuSans-116\"/>\r\n     <path d=\"M 8.5 21.578125 \r\nL 8.5 54.6875 \r\nL 17.484375 54.6875 \r\nL 17.484375 21.921875 \r\nQ 17.484375 14.15625 20.5 10.265625 \r\nQ 23.53125 6.390625 29.59375 6.390625 \r\nQ 36.859375 6.390625 41.078125 11.03125 \r\nQ 45.3125 15.671875 45.3125 23.6875 \r\nL 45.3125 54.6875 \r\nL 54.296875 54.6875 \r\nL 54.296875 0 \r\nL 45.3125 0 \r\nL 45.3125 8.40625 \r\nQ 42.046875 3.421875 37.71875 1 \r\nQ 33.40625 -1.421875 27.6875 -1.421875 \r\nQ 18.265625 -1.421875 13.375 4.4375 \r\nQ 8.5 10.296875 8.5 21.578125 \r\nz\r\nM 31.109375 56 \r\nz\r\n\" id=\"DejaVuSans-117\"/>\r\n     <path d=\"M 52 44.1875 \r\nQ 55.375 50.25 60.0625 53.125 \r\nQ 64.75 56 71.09375 56 \r\nQ 79.640625 56 84.28125 50.015625 \r\nQ 88.921875 44.046875 88.921875 33.015625 \r\nL 88.921875 0 \r\nL 79.890625 0 \r\nL 79.890625 32.71875 \r\nQ 79.890625 40.578125 77.09375 44.375 \r\nQ 74.3125 48.1875 68.609375 48.1875 \r\nQ 61.625 48.1875 57.5625 43.546875 \r\nQ 53.515625 38.921875 53.515625 30.90625 \r\nL 53.515625 0 \r\nL 44.484375 0 \r\nL 44.484375 32.71875 \r\nQ 44.484375 40.625 41.703125 44.40625 \r\nQ 38.921875 48.1875 33.109375 48.1875 \r\nQ 26.21875 48.1875 22.15625 43.53125 \r\nQ 18.109375 38.875 18.109375 30.90625 \r\nL 18.109375 0 \r\nL 9.078125 0 \r\nL 9.078125 54.6875 \r\nL 18.109375 54.6875 \r\nL 18.109375 46.1875 \r\nQ 21.1875 51.21875 25.484375 53.609375 \r\nQ 29.78125 56 35.6875 56 \r\nQ 41.65625 56 45.828125 52.96875 \r\nQ 50 49.953125 52 44.1875 \r\nz\r\n\" id=\"DejaVuSans-109\"/>\r\n    </defs>\r\n    <g transform=\"translate(44.938023 170.522614)scale(0.1 -0.1)\">\r\n     <use xlink:href=\"#DejaVuSans-100\"/>\r\n     <use x=\"63.476562\" xlink:href=\"#DejaVuSans-97\"/>\r\n     <use x=\"124.755859\" xlink:href=\"#DejaVuSans-116\"/>\r\n     <use x=\"163.964844\" xlink:href=\"#DejaVuSans-117\"/>\r\n     <use x=\"227.34375\" xlink:href=\"#DejaVuSans-109\"/>\r\n    </g>\r\n   </g>\r\n   <g id=\"text_2\">\r\n    <!-- work -->\r\n    <defs>\r\n     <path d=\"M 4.203125 54.6875 \r\nL 13.1875 54.6875 \r\nL 24.421875 12.015625 \r\nL 35.59375 54.6875 \r\nL 46.1875 54.6875 \r\nL 57.421875 12.015625 \r\nL 68.609375 54.6875 \r\nL 77.59375 54.6875 \r\nL 63.28125 0 \r\nL 52.6875 0 \r\nL 40.921875 44.828125 \r\nL 29.109375 0 \r\nL 18.5 0 \r\nz\r\n\" id=\"DejaVuSans-119\"/>\r\n     <path d=\"M 30.609375 48.390625 \r\nQ 23.390625 48.390625 19.1875 42.75 \r\nQ 14.984375 37.109375 14.984375 27.296875 \r\nQ 14.984375 17.484375 19.15625 11.84375 \r\nQ 23.34375 6.203125 30.609375 6.203125 \r\nQ 37.796875 6.203125 41.984375 11.859375 \r\nQ 46.1875 17.53125 46.1875 27.296875 \r\nQ 46.1875 37.015625 41.984375 42.703125 \r\nQ 37.796875 48.390625 30.609375 48.390625 \r\nz\r\nM 30.609375 56 \r\nQ 42.328125 56 49.015625 48.375 \r\nQ 55.71875 40.765625 55.71875 27.296875 \r\nQ 55.71875 13.875 49.015625 6.21875 \r\nQ 42.328125 -1.421875 30.609375 -1.421875 \r\nQ 18.84375 -1.421875 12.171875 6.21875 \r\nQ 5.515625 13.875 5.515625 27.296875 \r\nQ 5.515625 40.765625 12.171875 48.375 \r\nQ 18.84375 56 30.609375 56 \r\nz\r\n\" id=\"DejaVuSans-111\"/>\r\n     <path d=\"M 41.109375 46.296875 \r\nQ 39.59375 47.171875 37.8125 47.578125 \r\nQ 36.03125 48 33.890625 48 \r\nQ 26.265625 48 22.1875 43.046875 \r\nQ 18.109375 38.09375 18.109375 28.8125 \r\nL 18.109375 0 \r\nL 9.078125 0 \r\nL 9.078125 54.6875 \r\nL 18.109375 54.6875 \r\nL 18.109375 46.1875 \r\nQ 20.953125 51.171875 25.484375 53.578125 \r\nQ 30.03125 56 36.53125 56 \r\nQ 37.453125 56 38.578125 55.875 \r\nQ 39.703125 55.765625 41.0625 55.515625 \r\nz\r\n\" id=\"DejaVuSans-114\"/>\r\n     <path d=\"M 9.078125 75.984375 \r\nL 18.109375 75.984375 \r\nL 18.109375 31.109375 \r\nL 44.921875 54.6875 \r\nL 56.390625 54.6875 \r\nL 27.390625 29.109375 \r\nL 57.625 0 \r\nL 45.90625 0 \r\nL 18.109375 26.703125 \r\nL 18.109375 0 \r\nL 9.078125 0 \r\nz\r\n\" id=\"DejaVuSans-107\"/>\r\n    </defs>\r\n    <g transform=\"translate(49.076304 85.767885)scale(0.1 -0.1)\">\r\n     <use xlink:href=\"#DejaVuSans-119\"/>\r\n     <use x=\"81.787109\" xlink:href=\"#DejaVuSans-111\"/>\r\n     <use x=\"142.96875\" xlink:href=\"#DejaVuSans-114\"/>\r\n     <use x=\"184.082031\" xlink:href=\"#DejaVuSans-107\"/>\r\n    </g>\r\n   </g>\r\n   <g id=\"text_3\">\r\n    <!-- team -->\r\n    <defs>\r\n     <path d=\"M 56.203125 29.59375 \r\nL 56.203125 25.203125 \r\nL 14.890625 25.203125 \r\nQ 15.484375 15.921875 20.484375 11.0625 \r\nQ 25.484375 6.203125 34.421875 6.203125 \r\nQ 39.59375 6.203125 44.453125 7.46875 \r\nQ 49.3125 8.734375 54.109375 11.28125 \r\nL 54.109375 2.78125 \r\nQ 49.265625 0.734375 44.1875 -0.34375 \r\nQ 39.109375 -1.421875 33.890625 -1.421875 \r\nQ 20.796875 -1.421875 13.15625 6.1875 \r\nQ 5.515625 13.8125 5.515625 26.8125 \r\nQ 5.515625 40.234375 12.765625 48.109375 \r\nQ 20.015625 56 32.328125 56 \r\nQ 43.359375 56 49.78125 48.890625 \r\nQ 56.203125 41.796875 56.203125 29.59375 \r\nz\r\nM 47.21875 32.234375 \r\nQ 47.125 39.59375 43.09375 43.984375 \r\nQ 39.0625 48.390625 32.421875 48.390625 \r\nQ 24.90625 48.390625 20.390625 44.140625 \r\nQ 15.875 39.890625 15.1875 32.171875 \r\nz\r\n\" id=\"DejaVuSans-101\"/>\r\n    </defs>\r\n    <g transform=\"translate(48.204429 33.924646)scale(0.1 -0.1)\">\r\n     <use xlink:href=\"#DejaVuSans-116\"/>\r\n     <use x=\"39.208984\" xlink:href=\"#DejaVuSans-101\"/>\r\n     <use x=\"100.732422\" xlink:href=\"#DejaVuSans-97\"/>\r\n     <use x=\"162.011719\" xlink:href=\"#DejaVuSans-109\"/>\r\n    </g>\r\n   </g>\r\n   <g id=\"text_4\">\r\n    <!-- experience -->\r\n    <defs>\r\n     <path d=\"M 54.890625 54.6875 \r\nL 35.109375 28.078125 \r\nL 55.90625 0 \r\nL 45.3125 0 \r\nL 29.390625 21.484375 \r\nL 13.484375 0 \r\nL 2.875 0 \r\nL 24.125 28.609375 \r\nL 4.6875 54.6875 \r\nL 15.28125 54.6875 \r\nL 29.78125 35.203125 \r\nL 44.28125 54.6875 \r\nz\r\n\" id=\"DejaVuSans-120\"/>\r\n     <path d=\"M 18.109375 8.203125 \r\nL 18.109375 -20.796875 \r\nL 9.078125 -20.796875 \r\nL 9.078125 54.6875 \r\nL 18.109375 54.6875 \r\nL 18.109375 46.390625 \r\nQ 20.953125 51.265625 25.265625 53.625 \r\nQ 29.59375 56 35.59375 56 \r\nQ 45.5625 56 51.78125 48.09375 \r\nQ 58.015625 40.1875 58.015625 27.296875 \r\nQ 58.015625 14.40625 51.78125 6.484375 \r\nQ 45.5625 -1.421875 35.59375 -1.421875 \r\nQ 29.59375 -1.421875 25.265625 0.953125 \r\nQ 20.953125 3.328125 18.109375 8.203125 \r\nz\r\nM 48.6875 27.296875 \r\nQ 48.6875 37.203125 44.609375 42.84375 \r\nQ 40.53125 48.484375 33.40625 48.484375 \r\nQ 26.265625 48.484375 22.1875 42.84375 \r\nQ 18.109375 37.203125 18.109375 27.296875 \r\nQ 18.109375 17.390625 22.1875 11.75 \r\nQ 26.265625 6.109375 33.40625 6.109375 \r\nQ 40.53125 6.109375 44.609375 11.75 \r\nQ 48.6875 17.390625 48.6875 27.296875 \r\nz\r\n\" id=\"DejaVuSans-112\"/>\r\n     <path d=\"M 9.421875 54.6875 \r\nL 18.40625 54.6875 \r\nL 18.40625 0 \r\nL 9.421875 0 \r\nz\r\nM 9.421875 75.984375 \r\nL 18.40625 75.984375 \r\nL 18.40625 64.59375 \r\nL 9.421875 64.59375 \r\nz\r\n\" id=\"DejaVuSans-105\"/>\r\n     <path d=\"M 54.890625 33.015625 \r\nL 54.890625 0 \r\nL 45.90625 0 \r\nL 45.90625 32.71875 \r\nQ 45.90625 40.484375 42.875 44.328125 \r\nQ 39.84375 48.1875 33.796875 48.1875 \r\nQ 26.515625 48.1875 22.3125 43.546875 \r\nQ 18.109375 38.921875 18.109375 30.90625 \r\nL 18.109375 0 \r\nL 9.078125 0 \r\nL 9.078125 54.6875 \r\nL 18.109375 54.6875 \r\nL 18.109375 46.1875 \r\nQ 21.34375 51.125 25.703125 53.5625 \r\nQ 30.078125 56 35.796875 56 \r\nQ 45.21875 56 50.046875 50.171875 \r\nQ 54.890625 44.34375 54.890625 33.015625 \r\nz\r\n\" id=\"DejaVuSans-110\"/>\r\n     <path d=\"M 48.78125 52.59375 \r\nL 48.78125 44.1875 \r\nQ 44.96875 46.296875 41.140625 47.34375 \r\nQ 37.3125 48.390625 33.40625 48.390625 \r\nQ 24.65625 48.390625 19.8125 42.84375 \r\nQ 14.984375 37.3125 14.984375 27.296875 \r\nQ 14.984375 17.28125 19.8125 11.734375 \r\nQ 24.65625 6.203125 33.40625 6.203125 \r\nQ 37.3125 6.203125 41.140625 7.25 \r\nQ 44.96875 8.296875 48.78125 10.40625 \r\nL 48.78125 2.09375 \r\nQ 45.015625 0.34375 40.984375 -0.53125 \r\nQ 36.96875 -1.421875 32.421875 -1.421875 \r\nQ 20.0625 -1.421875 12.78125 6.34375 \r\nQ 5.515625 14.109375 5.515625 27.296875 \r\nQ 5.515625 40.671875 12.859375 48.328125 \r\nQ 20.21875 56 33.015625 56 \r\nQ 37.15625 56 41.109375 55.140625 \r\nQ 45.0625 54.296875 48.78125 52.59375 \r\nz\r\n\" id=\"DejaVuSans-99\"/>\r\n    </defs>\r\n    <g transform=\"translate(129.916799 198.355008)scale(0.1 -0.1)\">\r\n     <use xlink:href=\"#DejaVuSans-101\"/>\r\n     <use x=\"61.507812\" xlink:href=\"#DejaVuSans-120\"/>\r\n     <use x=\"120.6875\" xlink:href=\"#DejaVuSans-112\"/>\r\n     <use x=\"184.164062\" xlink:href=\"#DejaVuSans-101\"/>\r\n     <use x=\"245.6875\" xlink:href=\"#DejaVuSans-114\"/>\r\n     <use x=\"286.800781\" xlink:href=\"#DejaVuSans-105\"/>\r\n     <use x=\"314.583984\" xlink:href=\"#DejaVuSans-101\"/>\r\n     <use x=\"376.107422\" xlink:href=\"#DejaVuSans-110\"/>\r\n     <use x=\"439.486328\" xlink:href=\"#DejaVuSans-99\"/>\r\n     <use x=\"494.466797\" xlink:href=\"#DejaVuSans-101\"/>\r\n    </g>\r\n   </g>\r\n   <g id=\"text_5\">\r\n    <!-- business -->\r\n    <defs>\r\n     <path d=\"M 48.6875 27.296875 \r\nQ 48.6875 37.203125 44.609375 42.84375 \r\nQ 40.53125 48.484375 33.40625 48.484375 \r\nQ 26.265625 48.484375 22.1875 42.84375 \r\nQ 18.109375 37.203125 18.109375 27.296875 \r\nQ 18.109375 17.390625 22.1875 11.75 \r\nQ 26.265625 6.109375 33.40625 6.109375 \r\nQ 40.53125 6.109375 44.609375 11.75 \r\nQ 48.6875 17.390625 48.6875 27.296875 \r\nz\r\nM 18.109375 46.390625 \r\nQ 20.953125 51.265625 25.265625 53.625 \r\nQ 29.59375 56 35.59375 56 \r\nQ 45.5625 56 51.78125 48.09375 \r\nQ 58.015625 40.1875 58.015625 27.296875 \r\nQ 58.015625 14.40625 51.78125 6.484375 \r\nQ 45.5625 -1.421875 35.59375 -1.421875 \r\nQ 29.59375 -1.421875 25.265625 0.953125 \r\nQ 20.953125 3.328125 18.109375 8.203125 \r\nL 18.109375 0 \r\nL 9.078125 0 \r\nL 9.078125 75.984375 \r\nL 18.109375 75.984375 \r\nz\r\n\" id=\"DejaVuSans-98\"/>\r\n     <path d=\"M 44.28125 53.078125 \r\nL 44.28125 44.578125 \r\nQ 40.484375 46.53125 36.375 47.5 \r\nQ 32.28125 48.484375 27.875 48.484375 \r\nQ 21.1875 48.484375 17.84375 46.4375 \r\nQ 14.5 44.390625 14.5 40.28125 \r\nQ 14.5 37.15625 16.890625 35.375 \r\nQ 19.28125 33.59375 26.515625 31.984375 \r\nL 29.59375 31.296875 \r\nQ 39.15625 29.25 43.1875 25.515625 \r\nQ 47.21875 21.78125 47.21875 15.09375 \r\nQ 47.21875 7.46875 41.1875 3.015625 \r\nQ 35.15625 -1.421875 24.609375 -1.421875 \r\nQ 20.21875 -1.421875 15.453125 -0.5625 \r\nQ 10.6875 0.296875 5.421875 2 \r\nL 5.421875 11.28125 \r\nQ 10.40625 8.6875 15.234375 7.390625 \r\nQ 20.0625 6.109375 24.8125 6.109375 \r\nQ 31.15625 6.109375 34.5625 8.28125 \r\nQ 37.984375 10.453125 37.984375 14.40625 \r\nQ 37.984375 18.0625 35.515625 20.015625 \r\nQ 33.0625 21.96875 24.703125 23.78125 \r\nL 21.578125 24.515625 \r\nQ 13.234375 26.265625 9.515625 29.90625 \r\nQ 5.8125 33.546875 5.8125 39.890625 \r\nQ 5.8125 47.609375 11.28125 51.796875 \r\nQ 16.75 56 26.8125 56 \r\nQ 31.78125 56 36.171875 55.265625 \r\nQ 40.578125 54.546875 44.28125 53.078125 \r\nz\r\n\" id=\"DejaVuSans-115\"/>\r\n    </defs>\r\n    <g transform=\"translate(220.190549 198.355008)scale(0.1 -0.1)\">\r\n     <use xlink:href=\"#DejaVuSans-98\"/>\r\n     <use x=\"63.476562\" xlink:href=\"#DejaVuSans-117\"/>\r\n     <use x=\"126.855469\" xlink:href=\"#DejaVuSans-115\"/>\r\n     <use x=\"178.955078\" xlink:href=\"#DejaVuSans-105\"/>\r\n     <use x=\"206.738281\" xlink:href=\"#DejaVuSans-110\"/>\r\n     <use x=\"270.117188\" xlink:href=\"#DejaVuSans-101\"/>\r\n     <use x=\"331.640625\" xlink:href=\"#DejaVuSans-115\"/>\r\n     <use x=\"383.740234\" xlink:href=\"#DejaVuSans-115\"/>\r\n    </g>\r\n   </g>\r\n   <g id=\"text_6\">\r\n    <!-- Data -->\r\n    <defs>\r\n     <path d=\"M 19.671875 64.796875 \r\nL 19.671875 8.109375 \r\nL 31.59375 8.109375 \r\nQ 46.6875 8.109375 53.6875 14.9375 \r\nQ 60.6875 21.78125 60.6875 36.53125 \r\nQ 60.6875 51.171875 53.6875 57.984375 \r\nQ 46.6875 64.796875 31.59375 64.796875 \r\nz\r\nM 9.8125 72.90625 \r\nL 30.078125 72.90625 \r\nQ 51.265625 72.90625 61.171875 64.09375 \r\nQ 71.09375 55.28125 71.09375 36.53125 \r\nQ 71.09375 17.671875 61.125 8.828125 \r\nQ 51.171875 0 30.078125 0 \r\nL 9.8125 0 \r\nz\r\n\" id=\"DejaVuSans-68\"/>\r\n    </defs>\r\n    <g transform=\"translate(300.900835 198.355008)scale(0.1 -0.1)\">\r\n     <use xlink:href=\"#DejaVuSans-68\"/>\r\n     <use x=\"77.001953\" xlink:href=\"#DejaVuSans-97\"/>\r\n     <use x=\"138.28125\" xlink:href=\"#DejaVuSans-116\"/>\r\n     <use x=\"177.490234\" xlink:href=\"#DejaVuSans-97\"/>\r\n    </g>\r\n   </g>\r\n   <g id=\"text_7\">\r\n    <!-- product -->\r\n    <g transform=\"translate(135.806027 148.518947)scale(0.1 -0.1)\">\r\n     <use xlink:href=\"#DejaVuSans-112\"/>\r\n     <use x=\"63.476562\" xlink:href=\"#DejaVuSans-114\"/>\r\n     <use x=\"104.558594\" xlink:href=\"#DejaVuSans-111\"/>\r\n     <use x=\"165.740234\" xlink:href=\"#DejaVuSans-100\"/>\r\n     <use x=\"229.216797\" xlink:href=\"#DejaVuSans-117\"/>\r\n     <use x=\"292.595703\" xlink:href=\"#DejaVuSans-99\"/>\r\n     <use x=\"347.576172\" xlink:href=\"#DejaVuSans-116\"/>\r\n    </g>\r\n   </g>\r\n   <g id=\"text_8\">\r\n    <!-- model -->\r\n    <defs>\r\n     <path d=\"M 9.421875 75.984375 \r\nL 18.40625 75.984375 \r\nL 18.40625 0 \r\nL 9.421875 0 \r\nz\r\n\" id=\"DejaVuSans-108\"/>\r\n    </defs>\r\n    <g transform=\"translate(217.291151 148.518947)scale(0.1 -0.1)\">\r\n     <use xlink:href=\"#DejaVuSans-109\"/>\r\n     <use x=\"97.412109\" xlink:href=\"#DejaVuSans-111\"/>\r\n     <use x=\"158.59375\" xlink:href=\"#DejaVuSans-100\"/>\r\n     <use x=\"222.070312\" xlink:href=\"#DejaVuSans-101\"/>\r\n     <use x=\"283.59375\" xlink:href=\"#DejaVuSans-108\"/>\r\n    </g>\r\n   </g>\r\n   <g id=\"text_9\">\r\n    <!-- analysis -->\r\n    <defs>\r\n     <path d=\"M 32.171875 -5.078125 \r\nQ 28.375 -14.84375 24.75 -17.8125 \r\nQ 21.140625 -20.796875 15.09375 -20.796875 \r\nL 7.90625 -20.796875 \r\nL 7.90625 -13.28125 \r\nL 13.1875 -13.28125 \r\nQ 16.890625 -13.28125 18.9375 -11.515625 \r\nQ 21 -9.765625 23.484375 -3.21875 \r\nL 25.09375 0.875 \r\nL 2.984375 54.6875 \r\nL 12.5 54.6875 \r\nL 29.59375 11.921875 \r\nL 46.6875 54.6875 \r\nL 56.203125 54.6875 \r\nz\r\n\" id=\"DejaVuSans-121\"/>\r\n    </defs>\r\n    <g transform=\"translate(286.046585 148.518947)scale(0.1 -0.1)\">\r\n     <use xlink:href=\"#DejaVuSans-97\"/>\r\n     <use x=\"61.279297\" xlink:href=\"#DejaVuSans-110\"/>\r\n     <use x=\"124.658203\" xlink:href=\"#DejaVuSans-97\"/>\r\n     <use x=\"185.9375\" xlink:href=\"#DejaVuSans-108\"/>\r\n     <use x=\"213.720703\" xlink:href=\"#DejaVuSans-121\"/>\r\n     <use x=\"272.900391\" xlink:href=\"#DejaVuSans-115\"/>\r\n     <use x=\"325\" xlink:href=\"#DejaVuSans-105\"/>\r\n     <use x=\"352.783203\" xlink:href=\"#DejaVuSans-115\"/>\r\n    </g>\r\n   </g>\r\n   <g id=\"text_10\">\r\n    <!-- data -->\r\n    <g transform=\"translate(137.829961 106.630146)scale(0.1 -0.1)\">\r\n     <use xlink:href=\"#DejaVuSans-100\"/>\r\n     <use x=\"63.476562\" xlink:href=\"#DejaVuSans-97\"/>\r\n     <use x=\"124.755859\" xlink:href=\"#DejaVuSans-116\"/>\r\n     <use x=\"163.964844\" xlink:href=\"#DejaVuSans-97\"/>\r\n    </g>\r\n   </g>\r\n   <g id=\"text_11\">\r\n    <!-- machine -->\r\n    <defs>\r\n     <path d=\"M 54.890625 33.015625 \r\nL 54.890625 0 \r\nL 45.90625 0 \r\nL 45.90625 32.71875 \r\nQ 45.90625 40.484375 42.875 44.328125 \r\nQ 39.84375 48.1875 33.796875 48.1875 \r\nQ 26.515625 48.1875 22.3125 43.546875 \r\nQ 18.109375 38.921875 18.109375 30.90625 \r\nL 18.109375 0 \r\nL 9.078125 0 \r\nL 9.078125 75.984375 \r\nL 18.109375 75.984375 \r\nL 18.109375 46.1875 \r\nQ 21.34375 51.125 25.703125 53.5625 \r\nQ 30.078125 56 35.796875 56 \r\nQ 45.21875 56 50.046875 50.171875 \r\nQ 54.890625 44.34375 54.890625 33.015625 \r\nz\r\n\" id=\"DejaVuSans-104\"/>\r\n    </defs>\r\n    <g transform=\"translate(127.605742 66.218328)scale(0.1 -0.1)\">\r\n     <use xlink:href=\"#DejaVuSans-109\"/>\r\n     <use x=\"97.412109\" xlink:href=\"#DejaVuSans-97\"/>\r\n     <use x=\"158.691406\" xlink:href=\"#DejaVuSans-99\"/>\r\n     <use x=\"213.671875\" xlink:href=\"#DejaVuSans-104\"/>\r\n     <use x=\"277.050781\" xlink:href=\"#DejaVuSans-105\"/>\r\n     <use x=\"304.833984\" xlink:href=\"#DejaVuSans-110\"/>\r\n     <use x=\"368.212891\" xlink:href=\"#DejaVuSans-101\"/>\r\n    </g>\r\n   </g>\r\n   <g id=\"text_12\">\r\n    <!-- learning -->\r\n    <defs>\r\n     <path d=\"M 45.40625 27.984375 \r\nQ 45.40625 37.75 41.375 43.109375 \r\nQ 37.359375 48.484375 30.078125 48.484375 \r\nQ 22.859375 48.484375 18.828125 43.109375 \r\nQ 14.796875 37.75 14.796875 27.984375 \r\nQ 14.796875 18.265625 18.828125 12.890625 \r\nQ 22.859375 7.515625 30.078125 7.515625 \r\nQ 37.359375 7.515625 41.375 12.890625 \r\nQ 45.40625 18.265625 45.40625 27.984375 \r\nz\r\nM 54.390625 6.78125 \r\nQ 54.390625 -7.171875 48.1875 -13.984375 \r\nQ 42 -20.796875 29.203125 -20.796875 \r\nQ 24.46875 -20.796875 20.265625 -20.09375 \r\nQ 16.0625 -19.390625 12.109375 -17.921875 \r\nL 12.109375 -9.1875 \r\nQ 16.0625 -11.328125 19.921875 -12.34375 \r\nQ 23.78125 -13.375 27.78125 -13.375 \r\nQ 36.625 -13.375 41.015625 -8.765625 \r\nQ 45.40625 -4.15625 45.40625 5.171875 \r\nL 45.40625 9.625 \r\nQ 42.625 4.78125 38.28125 2.390625 \r\nQ 33.9375 0 27.875 0 \r\nQ 17.828125 0 11.671875 7.65625 \r\nQ 5.515625 15.328125 5.515625 27.984375 \r\nQ 5.515625 40.671875 11.671875 48.328125 \r\nQ 17.828125 56 27.875 56 \r\nQ 33.9375 56 38.28125 53.609375 \r\nQ 42.625 51.21875 45.40625 46.390625 \r\nL 45.40625 54.6875 \r\nL 54.390625 54.6875 \r\nz\r\n\" id=\"DejaVuSans-103\"/>\r\n    </defs>\r\n    <g transform=\"translate(128.607305 28.431497)scale(0.1 -0.1)\">\r\n     <use xlink:href=\"#DejaVuSans-108\"/>\r\n     <use x=\"27.783203\" xlink:href=\"#DejaVuSans-101\"/>\r\n     <use x=\"89.306641\" xlink:href=\"#DejaVuSans-97\"/>\r\n     <use x=\"150.585938\" xlink:href=\"#DejaVuSans-114\"/>\r\n     <use x=\"191.683594\" xlink:href=\"#DejaVuSans-110\"/>\r\n     <use x=\"255.0625\" xlink:href=\"#DejaVuSans-105\"/>\r\n     <use x=\"282.845703\" xlink:href=\"#DejaVuSans-110\"/>\r\n     <use x=\"346.224609\" xlink:href=\"#DejaVuSans-103\"/>\r\n    </g>\r\n   </g>\r\n   <g id=\"text_13\">\r\n    <!-- analytic -->\r\n    <g transform=\"translate(190.211044 104.519646)scale(0.1 -0.1)\">\r\n     <use xlink:href=\"#DejaVuSans-97\"/>\r\n     <use x=\"61.279297\" xlink:href=\"#DejaVuSans-110\"/>\r\n     <use x=\"124.658203\" xlink:href=\"#DejaVuSans-97\"/>\r\n     <use x=\"185.9375\" xlink:href=\"#DejaVuSans-108\"/>\r\n     <use x=\"213.720703\" xlink:href=\"#DejaVuSans-121\"/>\r\n     <use x=\"272.900391\" xlink:href=\"#DejaVuSans-116\"/>\r\n     <use x=\"312.109375\" xlink:href=\"#DejaVuSans-105\"/>\r\n     <use x=\"339.892578\" xlink:href=\"#DejaVuSans-99\"/>\r\n    </g>\r\n   </g>\r\n   <g id=\"text_14\">\r\n    <!-- build -->\r\n    <g transform=\"translate(250.88517 104.519646)scale(0.1 -0.1)\">\r\n     <use xlink:href=\"#DejaVuSans-98\"/>\r\n     <use x=\"63.476562\" xlink:href=\"#DejaVuSans-117\"/>\r\n     <use x=\"126.855469\" xlink:href=\"#DejaVuSans-105\"/>\r\n     <use x=\"154.638672\" xlink:href=\"#DejaVuSans-108\"/>\r\n     <use x=\"182.421875\" xlink:href=\"#DejaVuSans-100\"/>\r\n    </g>\r\n   </g>\r\n   <g id=\"text_15\">\r\n    <!-- statistical -->\r\n    <g transform=\"translate(291.608251 104.519646)scale(0.1 -0.1)\">\r\n     <use xlink:href=\"#DejaVuSans-115\"/>\r\n     <use x=\"52.099609\" xlink:href=\"#DejaVuSans-116\"/>\r\n     <use x=\"91.308594\" xlink:href=\"#DejaVuSans-97\"/>\r\n     <use x=\"152.587891\" xlink:href=\"#DejaVuSans-116\"/>\r\n     <use x=\"191.796875\" xlink:href=\"#DejaVuSans-105\"/>\r\n     <use x=\"219.580078\" xlink:href=\"#DejaVuSans-115\"/>\r\n     <use x=\"271.679688\" xlink:href=\"#DejaVuSans-116\"/>\r\n     <use x=\"310.888672\" xlink:href=\"#DejaVuSans-105\"/>\r\n     <use x=\"338.671875\" xlink:href=\"#DejaVuSans-99\"/>\r\n     <use x=\"393.652344\" xlink:href=\"#DejaVuSans-97\"/>\r\n     <use x=\"454.931641\" xlink:href=\"#DejaVuSans-108\"/>\r\n    </g>\r\n   </g>\r\n   <g id=\"text_16\">\r\n    <!-- help -->\r\n    <g transform=\"translate(204.998943 63.457093)scale(0.1 -0.1)\">\r\n     <use xlink:href=\"#DejaVuSans-104\"/>\r\n     <use x=\"63.378906\" xlink:href=\"#DejaVuSans-101\"/>\r\n     <use x=\"124.902344\" xlink:href=\"#DejaVuSans-108\"/>\r\n     <use x=\"152.685547\" xlink:href=\"#DejaVuSans-112\"/>\r\n    </g>\r\n   </g>\r\n   <g id=\"text_17\">\r\n    <!-- science -->\r\n    <g transform=\"translate(196.993474 27.78076)scale(0.1 -0.1)\">\r\n     <use xlink:href=\"#DejaVuSans-115\"/>\r\n     <use x=\"52.099609\" xlink:href=\"#DejaVuSans-99\"/>\r\n     <use x=\"107.080078\" xlink:href=\"#DejaVuSans-105\"/>\r\n     <use x=\"134.863281\" xlink:href=\"#DejaVuSans-101\"/>\r\n     <use x=\"196.386719\" xlink:href=\"#DejaVuSans-110\"/>\r\n     <use x=\"259.765625\" xlink:href=\"#DejaVuSans-99\"/>\r\n     <use x=\"314.746094\" xlink:href=\"#DejaVuSans-101\"/>\r\n    </g>\r\n   </g>\r\n   <g id=\"text_18\">\r\n    <!-- drive -->\r\n    <defs>\r\n     <path d=\"M 2.984375 54.6875 \r\nL 12.5 54.6875 \r\nL 29.59375 8.796875 \r\nL 46.6875 54.6875 \r\nL 56.203125 54.6875 \r\nL 35.6875 0 \r\nL 23.484375 0 \r\nz\r\n\" id=\"DejaVuSans-118\"/>\r\n    </defs>\r\n    <g transform=\"translate(259.464384 57.292331)scale(0.1 -0.1)\">\r\n     <use xlink:href=\"#DejaVuSans-100\"/>\r\n     <use x=\"63.476562\" xlink:href=\"#DejaVuSans-114\"/>\r\n     <use x=\"104.589844\" xlink:href=\"#DejaVuSans-105\"/>\r\n     <use x=\"132.373047\" xlink:href=\"#DejaVuSans-118\"/>\r\n     <use x=\"191.552734\" xlink:href=\"#DejaVuSans-101\"/>\r\n    </g>\r\n   </g>\r\n   <g id=\"text_19\">\r\n    <!-- include -->\r\n    <g transform=\"translate(300.712848 57.292331)scale(0.1 -0.1)\">\r\n     <use xlink:href=\"#DejaVuSans-105\"/>\r\n     <use x=\"27.783203\" xlink:href=\"#DejaVuSans-110\"/>\r\n     <use x=\"91.162109\" xlink:href=\"#DejaVuSans-99\"/>\r\n     <use x=\"146.142578\" xlink:href=\"#DejaVuSans-108\"/>\r\n     <use x=\"173.925781\" xlink:href=\"#DejaVuSans-117\"/>\r\n     <use x=\"237.304688\" xlink:href=\"#DejaVuSans-100\"/>\r\n     <use x=\"300.78125\" xlink:href=\"#DejaVuSans-101\"/>\r\n    </g>\r\n   </g>\r\n   <g id=\"text_20\">\r\n    <!-- customer -->\r\n    <g transform=\"translate(271.746067 21.615998)scale(0.1 -0.1)\">\r\n     <use xlink:href=\"#DejaVuSans-99\"/>\r\n     <use x=\"54.980469\" xlink:href=\"#DejaVuSans-117\"/>\r\n     <use x=\"118.359375\" xlink:href=\"#DejaVuSans-115\"/>\r\n     <use x=\"170.458984\" xlink:href=\"#DejaVuSans-116\"/>\r\n     <use x=\"209.667969\" xlink:href=\"#DejaVuSans-111\"/>\r\n     <use x=\"270.849609\" xlink:href=\"#DejaVuSans-109\"/>\r\n     <use x=\"368.261719\" xlink:href=\"#DejaVuSans-101\"/>\r\n     <use x=\"429.785156\" xlink:href=\"#DejaVuSans-114\"/>\r\n    </g>\r\n   </g>\r\n  </g>\r\n </g>\r\n <defs>\r\n  <clipPath id=\"p6c12b1891d\">\r\n   <rect height=\"217.44\" width=\"334.8\" x=\"7.2\" y=\"7.2\"/>\r\n  </clipPath>\r\n </defs>\r\n</svg>\r\n",
      "text/plain": "<Figure size 432x288 with 1 Axes>"
     },
     "metadata": {
      "needs_background": "light"
     },
     "output_type": "display_data"
    }
   ],
   "source": [
    "wc_top20 = wc[wc['rank'] <= 20]\n",
    "\n",
    "squarify.plot(sizes=wc_top20['pct_total'], label=wc_top20['word'], alpha=.8)\n",
    "plt.axis('off')\n",
    "plt.show()"
   ]
  },
  {
   "cell_type": "markdown",
   "metadata": {
    "colab_type": "text",
    "id": "bwFsTqrVZMYi"
   },
   "source": [
    "## 5) Use Scikit-Learn's tfidfVectorizer to get a TF-IDF feature matrix"
   ]
  },
  {
   "cell_type": "code",
   "execution_count": 17,
   "metadata": {},
   "outputs": [
    {
     "data": {
      "text/html": "<div>\n<style scoped>\n    .dataframe tbody tr th:only-of-type {\n        vertical-align: middle;\n    }\n\n    .dataframe tbody tr th {\n        vertical-align: top;\n    }\n\n    .dataframe thead th {\n        text-align: right;\n    }\n</style>\n<table border=\"1\" class=\"dataframe\">\n  <thead>\n    <tr style=\"text-align: right;\">\n      <th></th>\n      <th>$</th>\n      <th>$ 100,000</th>\n      <th>$ 300</th>\n      <th>$ 40</th>\n      <th>+</th>\n      <th>+ city</th>\n      <th>+ year</th>\n      <th>+ years\\xe2\\x80\\x99</th>\n      <th>.\\n\\nabout</th>\n      <th>.\\n\\nabout role\\n\\nas</th>\n      <th>...</th>\n      <th>you\\xe2\\x80\\x99ll develop</th>\n      <th>you\\xe2\\x80\\x99ll need\\n\\nphd</th>\n      <th>you\\xe2\\x80\\x99ll work</th>\n      <th>you\\xe2\\x80\\x99re</th>\n      <th>you\\xe2\\x80\\x99re look</th>\n      <th>you\\xe2\\x80\\x99ve</th>\n      <th>you\\xe2\\x80\\x99ve work</th>\n      <th>yrs</th>\n      <th>|</th>\n      <th>||</th>\n    </tr>\n  </thead>\n  <tbody>\n    <tr>\n      <th>0</th>\n      <td>0.000000</td>\n      <td>0.0</td>\n      <td>0.0</td>\n      <td>0.0</td>\n      <td>0.000000</td>\n      <td>0.0</td>\n      <td>0.000000</td>\n      <td>0.0</td>\n      <td>0.0</td>\n      <td>0.0</td>\n      <td>...</td>\n      <td>0.0</td>\n      <td>0.0</td>\n      <td>0.0</td>\n      <td>0.0</td>\n      <td>0.0</td>\n      <td>0.0</td>\n      <td>0.0</td>\n      <td>0.0</td>\n      <td>0.0</td>\n      <td>0.0</td>\n    </tr>\n    <tr>\n      <th>1</th>\n      <td>0.000000</td>\n      <td>0.0</td>\n      <td>0.0</td>\n      <td>0.0</td>\n      <td>0.026371</td>\n      <td>0.0</td>\n      <td>0.028795</td>\n      <td>0.0</td>\n      <td>0.0</td>\n      <td>0.0</td>\n      <td>...</td>\n      <td>0.0</td>\n      <td>0.0</td>\n      <td>0.0</td>\n      <td>0.0</td>\n      <td>0.0</td>\n      <td>0.0</td>\n      <td>0.0</td>\n      <td>0.0</td>\n      <td>0.0</td>\n      <td>0.0</td>\n    </tr>\n    <tr>\n      <th>2</th>\n      <td>0.000000</td>\n      <td>0.0</td>\n      <td>0.0</td>\n      <td>0.0</td>\n      <td>0.000000</td>\n      <td>0.0</td>\n      <td>0.000000</td>\n      <td>0.0</td>\n      <td>0.0</td>\n      <td>0.0</td>\n      <td>...</td>\n      <td>0.0</td>\n      <td>0.0</td>\n      <td>0.0</td>\n      <td>0.0</td>\n      <td>0.0</td>\n      <td>0.0</td>\n      <td>0.0</td>\n      <td>0.0</td>\n      <td>0.0</td>\n      <td>0.0</td>\n    </tr>\n    <tr>\n      <th>3</th>\n      <td>0.232986</td>\n      <td>0.0</td>\n      <td>0.0</td>\n      <td>0.0</td>\n      <td>0.000000</td>\n      <td>0.0</td>\n      <td>0.000000</td>\n      <td>0.0</td>\n      <td>0.0</td>\n      <td>0.0</td>\n      <td>...</td>\n      <td>0.0</td>\n      <td>0.0</td>\n      <td>0.0</td>\n      <td>0.0</td>\n      <td>0.0</td>\n      <td>0.0</td>\n      <td>0.0</td>\n      <td>0.0</td>\n      <td>0.0</td>\n      <td>0.0</td>\n    </tr>\n    <tr>\n      <th>4</th>\n      <td>0.000000</td>\n      <td>0.0</td>\n      <td>0.0</td>\n      <td>0.0</td>\n      <td>0.137636</td>\n      <td>0.0</td>\n      <td>0.150288</td>\n      <td>0.0</td>\n      <td>0.0</td>\n      <td>0.0</td>\n      <td>...</td>\n      <td>0.0</td>\n      <td>0.0</td>\n      <td>0.0</td>\n      <td>0.0</td>\n      <td>0.0</td>\n      <td>0.0</td>\n      <td>0.0</td>\n      <td>0.0</td>\n      <td>0.0</td>\n      <td>0.0</td>\n    </tr>\n  </tbody>\n</table>\n<p>5 rows × 10678 columns</p>\n</div>",
      "text/plain": "          $  $ 100,000  $ 300  $ 40         +  + city    + year  \\\n0  0.000000        0.0    0.0   0.0  0.000000     0.0  0.000000   \n1  0.000000        0.0    0.0   0.0  0.026371     0.0  0.028795   \n2  0.000000        0.0    0.0   0.0  0.000000     0.0  0.000000   \n3  0.232986        0.0    0.0   0.0  0.000000     0.0  0.000000   \n4  0.000000        0.0    0.0   0.0  0.137636     0.0  0.150288   \n\n   + years\\xe2\\x80\\x99  .\\n\\nabout  .\\n\\nabout role\\n\\nas  ...  \\\n0                  0.0         0.0                    0.0  ...   \n1                  0.0         0.0                    0.0  ...   \n2                  0.0         0.0                    0.0  ...   \n3                  0.0         0.0                    0.0  ...   \n4                  0.0         0.0                    0.0  ...   \n\n   you\\xe2\\x80\\x99ll develop  you\\xe2\\x80\\x99ll need\\n\\nphd  \\\n0                        0.0                            0.0   \n1                        0.0                            0.0   \n2                        0.0                            0.0   \n3                        0.0                            0.0   \n4                        0.0                            0.0   \n\n   you\\xe2\\x80\\x99ll work  you\\xe2\\x80\\x99re  you\\xe2\\x80\\x99re look  \\\n0                     0.0                0.0                     0.0   \n1                     0.0                0.0                     0.0   \n2                     0.0                0.0                     0.0   \n3                     0.0                0.0                     0.0   \n4                     0.0                0.0                     0.0   \n\n   you\\xe2\\x80\\x99ve  you\\xe2\\x80\\x99ve work  yrs    |   ||  \n0                0.0                     0.0  0.0  0.0  0.0  \n1                0.0                     0.0  0.0  0.0  0.0  \n2                0.0                     0.0  0.0  0.0  0.0  \n3                0.0                     0.0  0.0  0.0  0.0  \n4                0.0                     0.0  0.0  0.0  0.0  \n\n[5 rows x 10678 columns]"
     },
     "execution_count": 17,
     "metadata": {},
     "output_type": "execute_result"
    }
   ],
   "source": [
    "tfidf = TfidfVectorizer(stop_words='english',\n",
    "                        ngram_range=(1,2),\n",
    "                        max_df=.97,\n",
    "                        min_df=3,\n",
    "                        tokenizer=get_lemz)\n",
    "\n",
    "dtm = tfidf.fit_transform(data)\n",
    "dtm = pd.DataFrame(dtm.todense(), columns=tfidf.get_feature_names())\n",
    "dtm.head()"
   ]
  },
  {
   "cell_type": "code",
   "execution_count": 18,
   "metadata": {},
   "outputs": [],
   "source": [
    "dist_mtx = cosine_similarity(dtm)"
   ]
  },
  {
   "cell_type": "code",
   "execution_count": 19,
   "metadata": {},
   "outputs": [],
   "source": [
    "df2 = pd.DataFrame(dist_mtx)"
   ]
  },
  {
   "cell_type": "code",
   "execution_count": 20,
   "metadata": {},
   "outputs": [
    {
     "data": {
      "text/html": "<div>\n<style scoped>\n    .dataframe tbody tr th:only-of-type {\n        vertical-align: middle;\n    }\n\n    .dataframe tbody tr th {\n        vertical-align: top;\n    }\n\n    .dataframe thead th {\n        text-align: right;\n    }\n</style>\n<table border=\"1\" class=\"dataframe\">\n  <thead>\n    <tr style=\"text-align: right;\">\n      <th></th>\n      <th>0</th>\n      <th>1</th>\n      <th>2</th>\n      <th>3</th>\n      <th>4</th>\n      <th>5</th>\n      <th>6</th>\n      <th>7</th>\n      <th>8</th>\n      <th>9</th>\n      <th>...</th>\n      <th>416</th>\n      <th>417</th>\n      <th>418</th>\n      <th>419</th>\n      <th>420</th>\n      <th>421</th>\n      <th>422</th>\n      <th>423</th>\n      <th>424</th>\n      <th>425</th>\n    </tr>\n  </thead>\n  <tbody>\n    <tr>\n      <th>0</th>\n      <td>1.000000</td>\n      <td>0.045650</td>\n      <td>0.029604</td>\n      <td>0.002473</td>\n      <td>0.019402</td>\n      <td>0.124377</td>\n      <td>0.026063</td>\n      <td>0.031444</td>\n      <td>0.054430</td>\n      <td>0.023557</td>\n      <td>...</td>\n      <td>0.042647</td>\n      <td>0.065900</td>\n      <td>0.034430</td>\n      <td>0.070152</td>\n      <td>0.028046</td>\n      <td>0.026211</td>\n      <td>0.029225</td>\n      <td>0.023857</td>\n      <td>0.052004</td>\n      <td>0.048411</td>\n    </tr>\n    <tr>\n      <th>1</th>\n      <td>0.045650</td>\n      <td>1.000000</td>\n      <td>0.049159</td>\n      <td>0.027181</td>\n      <td>0.034114</td>\n      <td>0.081609</td>\n      <td>0.084419</td>\n      <td>0.065881</td>\n      <td>0.097312</td>\n      <td>0.076072</td>\n      <td>...</td>\n      <td>0.102495</td>\n      <td>0.132660</td>\n      <td>0.042016</td>\n      <td>0.087705</td>\n      <td>0.089609</td>\n      <td>0.104154</td>\n      <td>0.064275</td>\n      <td>0.066200</td>\n      <td>0.074958</td>\n      <td>0.067326</td>\n    </tr>\n    <tr>\n      <th>2</th>\n      <td>0.029604</td>\n      <td>0.049159</td>\n      <td>1.000000</td>\n      <td>0.012400</td>\n      <td>0.046834</td>\n      <td>0.059540</td>\n      <td>0.062980</td>\n      <td>0.076173</td>\n      <td>0.077798</td>\n      <td>0.031076</td>\n      <td>...</td>\n      <td>0.038355</td>\n      <td>0.039272</td>\n      <td>0.038454</td>\n      <td>0.091110</td>\n      <td>0.048833</td>\n      <td>0.042071</td>\n      <td>0.035340</td>\n      <td>0.026159</td>\n      <td>0.081612</td>\n      <td>0.054730</td>\n    </tr>\n  </tbody>\n</table>\n<p>3 rows × 426 columns</p>\n</div>",
      "text/plain": "        0         1         2         3         4         5         6    \\\n0  1.000000  0.045650  0.029604  0.002473  0.019402  0.124377  0.026063   \n1  0.045650  1.000000  0.049159  0.027181  0.034114  0.081609  0.084419   \n2  0.029604  0.049159  1.000000  0.012400  0.046834  0.059540  0.062980   \n\n        7         8         9    ...       416       417       418       419  \\\n0  0.031444  0.054430  0.023557  ...  0.042647  0.065900  0.034430  0.070152   \n1  0.065881  0.097312  0.076072  ...  0.102495  0.132660  0.042016  0.087705   \n2  0.076173  0.077798  0.031076  ...  0.038355  0.039272  0.038454  0.091110   \n\n        420       421       422       423       424       425  \n0  0.028046  0.026211  0.029225  0.023857  0.052004  0.048411  \n1  0.089609  0.104154  0.064275  0.066200  0.074958  0.067326  \n2  0.048833  0.042071  0.035340  0.026159  0.081612  0.054730  \n\n[3 rows x 426 columns]"
     },
     "execution_count": 20,
     "metadata": {},
     "output_type": "execute_result"
    }
   ],
   "source": [
    "df2.head(3)"
   ]
  },
  {
   "cell_type": "code",
   "execution_count": 21,
   "metadata": {},
   "outputs": [
    {
     "data": {
      "text/plain": "0    0.027080\n1    0.073150\n2    0.041678\n3    0.018729\n4    0.037550\nName: 15, dtype: float64"
     },
     "execution_count": 21,
     "metadata": {},
     "output_type": "execute_result"
    }
   ],
   "source": [
    "df2[15][:5]"
   ]
  },
  {
   "cell_type": "code",
   "execution_count": 22,
   "metadata": {},
   "outputs": [
    {
     "data": {
      "text/plain": "280    0.185544\n397    0.157158\n320    0.139111\n377    0.139111\n363    0.135886\nName: 15, dtype: float64"
     },
     "execution_count": 22,
     "metadata": {},
     "output_type": "execute_result"
    }
   ],
   "source": [
    "df2[df2[15] <1][15].sort_values(ascending=False)[:5]"
   ]
  },
  {
   "cell_type": "code",
   "execution_count": 23,
   "metadata": {},
   "outputs": [
    {
     "name": "stdout",
     "output_type": "stream",
     "text": "The Atlantic is seeking a Data Scientist to help lead research and analysis initiatives and support ongoing delivery of key insights to drive business growth and overall impact. The role will work closely with partners in Consumer Revenue, Advertising, Editorial, and Product to understand performanc\n"
    }
   ],
   "source": [
    "print(data[15][:300])"
   ]
  },
  {
   "cell_type": "code",
   "execution_count": 24,
   "metadata": {},
   "outputs": [
    {
     "name": "stdout",
     "output_type": "stream",
     "text": "We are Drybar, a blow dry bar, and we set out to shake up the beauty industry in our own, specialty way. We believe in doing one thing and being the best at it. For us, that\\xe2\\x80\\x99s blowouts. In fact, our tagline says it best: No cuts. No color. Just blowouts. What started with one shop in Bren\n"
    }
   ],
   "source": [
    "print(data[280][:300])"
   ]
  },
  {
   "cell_type": "markdown",
   "metadata": {},
   "source": [
    "## 6) Create a NearestNeighbor Model. Write the description of your ideal datascience job and query your job listings. "
   ]
  },
  {
   "cell_type": "code",
   "execution_count": 49,
   "metadata": {},
   "outputs": [
    {
     "data": {
      "text/plain": "NearestNeighbors(algorithm='kd_tree', leaf_size=30, metric='minkowski',\n         metric_params=None, n_jobs=None, n_neighbors=5, p=2, radius=1.0)"
     },
     "execution_count": 49,
     "metadata": {},
     "output_type": "execute_result"
    }
   ],
   "source": [
    "nn = NearestNeighbors(n_neighbors=5, algorithm='kd_tree')\n",
    "nn.fit(dtm)"
   ]
  },
  {
   "cell_type": "code",
   "execution_count": 52,
   "metadata": {},
   "outputs": [],
   "source": [
    "def listing_neighbors(index_num=0):\n",
    "    \n",
    "    derp = nn.kneighbors([dtm.loc[index_num]])\n",
    "    \n",
    "    derpdf = pd.DataFrame([derp[0][0], derp[1][0]])\n",
    "    \n",
    "    return derpdf"
   ]
  },
  {
   "cell_type": "code",
   "execution_count": 59,
   "metadata": {},
   "outputs": [
    {
     "data": {
      "text/html": "<div>\n<style scoped>\n    .dataframe tbody tr th:only-of-type {\n        vertical-align: middle;\n    }\n\n    .dataframe tbody tr th {\n        vertical-align: top;\n    }\n\n    .dataframe thead th {\n        text-align: right;\n    }\n</style>\n<table border=\"1\" class=\"dataframe\">\n  <thead>\n    <tr style=\"text-align: right;\">\n      <th></th>\n      <th>0</th>\n      <th>1</th>\n      <th>2</th>\n      <th>3</th>\n      <th>4</th>\n    </tr>\n  </thead>\n  <tbody>\n    <tr>\n      <th>0</th>\n      <td>0.0</td>\n      <td>0.0</td>\n      <td>0.0</td>\n      <td>1.289293</td>\n      <td>1.310967</td>\n    </tr>\n    <tr>\n      <th>1</th>\n      <td>112.0</td>\n      <td>97.0</td>\n      <td>175.0</td>\n      <td>301.000000</td>\n      <td>111.000000</td>\n    </tr>\n  </tbody>\n</table>\n</div>",
      "text/plain": "       0     1      2           3           4\n0    0.0   0.0    0.0    1.289293    1.310967\n1  112.0  97.0  175.0  301.000000  111.000000"
     },
     "execution_count": 59,
     "metadata": {},
     "output_type": "execute_result"
    }
   ],
   "source": [
    "listing_neighbors(112)"
   ]
  },
  {
   "cell_type": "code",
   "execution_count": 86,
   "metadata": {},
   "outputs": [],
   "source": [
    "keywords = ['remote location entry level junior position']\n",
    "key_search = tfidf.transform(keywords)"
   ]
  },
  {
   "cell_type": "code",
   "execution_count": 100,
   "metadata": {},
   "outputs": [],
   "source": [
    "sample_jobs = nn.kneighbors(key_search.todense())"
   ]
  },
  {
   "cell_type": "code",
   "execution_count": 112,
   "metadata": {},
   "outputs": [
    {
     "data": {
      "text/plain": "array([ 23, 123, 256,  69, 402], dtype=int64)"
     },
     "execution_count": 112,
     "metadata": {},
     "output_type": "execute_result"
    }
   ],
   "source": [
    "sample_jobs[1][0]"
   ]
  },
  {
   "cell_type": "code",
   "execution_count": 115,
   "metadata": {},
   "outputs": [
    {
     "data": {
      "text/plain": "'Role Summary:\\\\nThe CCS Data Scientist is responsible for supporting the CCS digital service operations teams with data analytics that drive improved remote service efficiency and improved customer experience.\\\\n\\\\nEssential Responsibilities:\\\\nIdentify opportunities for rules that drive service efficiencies by performing retrospective analysis of historical machine log data vs service dispatches, apply machine learning techniques to learn what we don\\\\xe2\\\\x80\\\\x99t know and use this to funnel improvements to the rules and remote tools.Continuously look for remote service efficiency opportunities and variable cost productivity from service dispatch data, where necessary lead regional teams and support them to drive process improvements or implement changes that reduce cost and improve customer experience.Produce data visualizations to demonstrate learnings and opportunities that support a wide range of stakeholders.Support pareto of pain analysis and efforts to add automatic root cause analysis to service dispatch data and subsequently improve remote triage and enable us to take the right part first time.Support deployment of Smart Triage for CCS with expertise and learning from dispatch & machine data.Establish a network of subject matter experts from the regions and engineering teams that will support a sanity check of assumptions and understanding of the context of service dispatch records.Identify product quality issues that drive service cost and drive engineering teams to improve product quality.Review Onwatch triggers and measure rule efficiency, identify poor performing rules in terms of false positive or late positive triggers and support rule developers to improve rule design or coding.Collaborate and learn from peers within the Imaging teams to ensure that we leverage best practice and support multi-modality approaches to First Call Resolution improvements and data analytics.Work with product engineering to define the requirements for new product introductions that support more efficient remote service, define future need for data logging that will support enhanced rules or capability.Develop business cases to support strategic planning sessions and initiatives.Support periodic town hall style collaboration events, create communities of experts dedicated to leveraging global best practice and improving remote service capabilities.\\\\n\\\\nQualifications/Requirements:\\\\n1. Masters\\\\xe2\\\\x80\\\\x99s Degree in in STEM major (Science, Technology, Engineering and Mathematics) 2-4 years background domain expertise with data analytics\\\\n2. Experience within a Healthcare industry is preferred but not essential.\\\\n3. Experience with programming analytical software languages such as Spotfire, Tableau, MATLAB, Python, R and SQL database queries.\\\\n4. Experience in machine learning techniques (supervised and unsupervised) machine learning techniques to derive insights from data\\\\n5. Experience in Natural Language Processing techniques.\\\\n6. Enthusiasm, curiosity and desire to solve problems with data.\\\\n7. Demonstrated ability to lead groups of cross functional teams, clear thinker with the ability to resolve complex technical issues and prioritise workload based on impact to the customer and business.\\\\n8. Excellent presentation skills, with ability to lead and influence multiple audiences.\\\\n9. Strong advocate for the customer and dedicated to improving customer experience.\\\\n10. Exceptional verbal and written communication skills.\\\\n11. Ability to travel as required to customer site or manufacturing location.\\\\n12. Ability to work remotely and lead global teams in fast-paced cross-functional environments.\\\\n\\\\nDesired Characteristics:\\\\n1. Demonstrated skill in data cleaning, data quality assessment, and using analytics for data assessment.\\\\n2. Demonstrated expertise in modeling, and in the development and application of descriptive, applied and predictive analytics\\\\n3. Experience in developing software applications\\\\n4. Proficiency in working with large datasets\\\\n5. Understanding of software development best practices, including source control, coding standards and testing frameworks\\\\n6. Background domain expertise from a product engineering team or customer service role within healthcare industry\\\\n\\\\nAbout Us:\\\\nGE (NYSE:GE) drives the world forward by tackling its biggest challenges. By combining world-class engineering with software and analytics, GE helps the world work more efficiently, reliably, and safely. GE people are global, diverse and dedicated, operating with the highest integrity and passion to fulfill GE\\\\xe2\\\\x80\\\\x99s mission and deliver for our customers. www.ge.com\\\\nGE offers a great work environment, professional development, challenging careers, and competitive compensation. GE is an Equal Opportunity Employer. Employment decisions are made without regard to race, color, religion, national or ethnic origin, gender (including pregnancy), sexual orientation, gender identity or expression, age, disability, veteran status or any other characteristics protected by law.\\\\n\\\\nLocations: United States; Wisconsin; Waukesha\\\\nGE will only employ those who are legally authorized to work in the United States for this opening.'"
     },
     "execution_count": 115,
     "metadata": {},
     "output_type": "execute_result"
    }
   ],
   "source": [
    "data[256]"
   ]
  },
  {
   "cell_type": "code",
   "execution_count": 118,
   "metadata": {},
   "outputs": [
    {
     "name": "stdout",
     "output_type": "stream",
     "text": "1 \nArticle index:  123\nMotiion is a technology and data company for the food industry. We believe in transparency, diversity, merit and fostering a culture of accountability, personal impact and career growth.\\n\\nAs a member of the first product engineering team at Motiion you have will have a unique opportunity to turning previously scattered and inconsistently structured data into directly actionable food industry insights to reduce waste, increase freshness and much more.\\n\\nYou have a proven track record of reading data and making solid conclusions. You know both the art and science of analytics - now only do you know how to find answers in the data, you also know which questions should be asked in the first place and what data might could help us further bolster our conclusions. You love engaging with customers, learn about their challenges and then dive into the data to see how to solve them!\\n\\nWe are building a product engineering team with a breadth of combined experiences so that we can collaboratively build great products. There are no hard requirements on specific educational background, technology, experience or geographical location. We are however looking for specific traits in the people we work with. You might not yet be able to check all of the boxes, but at least you aspire to do so!\\nSome signs of a great candidate\\nToolbox oriented. Whether your background is in mathematics, statistics, machine learning, artificial intelligence, or something else, you have enough experience to intuitively shortlist tools and approaches from most of these disciplines.\\nUnderstanding business and customer needs. You believe in creating models that will help the company and make short- and long-termimpact, focusing on\\xe2\\x80\\x9cbang-for-the-buck\\xe2\\x80\\x9d.\\nPerformance recognized by your peers. Past colleagues would love to work with you again.\\nStarter and finisher. You often identify a problem, design a solution and bring it to a state of completion - alone or with collaborators. You\\xe2\\x80\\x99ve worked with developers in the past, hope to continue doing so, but you would get far even without technical help.\\nWork hard and smart. Your work ethic is unquestioned, and you know how to get things done so you can balance your work and personal life in a sustainable way.\\nDisciplined and reliable. We are a remote company and you enjoy the benefits of working remotely while consistently delivering what you have committed to. When you hit a snag, you communicate and reset expectations early.\\nCollaborative. You know that your team members\\xe2\\x80\\x99 perspectives will make your solutions better. Similarly, you use your strengths to make the team perform.\\nAppreciation of honest feedback. You know that the best way to learn and grow is through constructive feedback delivered kindly, but without unnecessary ambiguity. You feedback given to as an opportunity to get better and strive to do the same for others.\\nAnalytical and practical mind. You strive for simple, precise solutions to complex problems. Complex solutions are only acceptable when absolutely needed.\\nWhy we are different\\n\\nOur main goals with Motiion are easy to explain: We want to build a company that we would like to enjoy spending the rest of our careers in, that has a positive impact on the world and that will outlast us. Achieving these goals will be challenging, but we know we can do it. Here\\xe2\\x80\\x99s why:\\n\\nA strong founder team\\nWe, the founders, have a proven track record of building successful companies from scratch. We will take all of the amazing and painful experiences of the past and apply them to create a company we all will be very proud of.\\n\\nSelf-funded\\nThe founders have invested $10 million to allow us to focus on building technology and product the right way. Our eyes are on the goals of building a global technology platform. We are laser focused on customer needs, but will make product priorities based on our long-term goals, not short-term revenue.\\n\\nRemote-first\\nWe believe technology that enables remote work to be better than a corporate office setting is already here and the world of business is just about to catch up. Remote work certainly comes with drawbacks, but the strongly believe the advantages vastly outnumber the disadvantages. Speaking to dozens of experienced remote employees has shown us that the number one obstacle to building a successful remote workplace is doing it half-way by having some people be co-located and some remote. We want the same mode of collaboration for everyone and our team will be working remotely most of the time.\\n\\nThis does not mean that you have to work from home all the time, or at all. Motiion will pay for co-working space if that\\xe2\\x80\\x99s what you prefer. We will also encourage team members that live in the same area to meet up and work together when it makes sense. We will also make sure we all meet regularly for real in-person interaction!\\n\\nPersonal impact of collaborating individuals\\nWe have seen first-hand how corporate culture can devolve into empire building and reporting lines. Motiion will have great managers, but we recognize and value the skills of individual contributors. You can grow your career at Motiion doing the work you love and excel at. Your merit matters, not your title.\\n\\nBenefits\\nWe have top notch benefits, matching most of the large US tech companies, including 401k matching, excellent health insurance and a generous vacation policy.\n2 \nArticle index:  256\nRole Summary:\\nThe CCS Data Scientist is responsible for supporting the CCS digital service operations teams with data analytics that drive improved remote service efficiency and improved customer experience.\\n\\nEssential Responsibilities:\\nIdentify opportunities for rules that drive service efficiencies by performing retrospective analysis of historical machine log data vs service dispatches, apply machine learning techniques to learn what we don\\xe2\\x80\\x99t know and use this to funnel improvements to the rules and remote tools.Continuously look for remote service efficiency opportunities and variable cost productivity from service dispatch data, where necessary lead regional teams and support them to drive process improvements or implement changes that reduce cost and improve customer experience.Produce data visualizations to demonstrate learnings and opportunities that support a wide range of stakeholders.Support pareto of pain analysis and efforts to add automatic root cause analysis to service dispatch data and subsequently improve remote triage and enable us to take the right part first time.Support deployment of Smart Triage for CCS with expertise and learning from dispatch & machine data.Establish a network of subject matter experts from the regions and engineering teams that will support a sanity check of assumptions and understanding of the context of service dispatch records.Identify product quality issues that drive service cost and drive engineering teams to improve product quality.Review Onwatch triggers and measure rule efficiency, identify poor performing rules in terms of false positive or late positive triggers and support rule developers to improve rule design or coding.Collaborate and learn from peers within the Imaging teams to ensure that we leverage best practice and support multi-modality approaches to First Call Resolution improvements and data analytics.Work with product engineering to define the requirements for new product introductions that support more efficient remote service, define future need for data logging that will support enhanced rules or capability.Develop business cases to support strategic planning sessions and initiatives.Support periodic town hall style collaboration events, create communities of experts dedicated to leveraging global best practice and improving remote service capabilities.\\n\\nQualifications/Requirements:\\n1. Masters\\xe2\\x80\\x99s Degree in in STEM major (Science, Technology, Engineering and Mathematics) 2-4 years background domain expertise with data analytics\\n2. Experience within a Healthcare industry is preferred but not essential.\\n3. Experience with programming analytical software languages such as Spotfire, Tableau, MATLAB, Python, R and SQL database queries.\\n4. Experience in machine learning techniques (supervised and unsupervised) machine learning techniques to derive insights from data\\n5. Experience in Natural Language Processing techniques.\\n6. Enthusiasm, curiosity and desire to solve problems with data.\\n7. Demonstrated ability to lead groups of cross functional teams, clear thinker with the ability to resolve complex technical issues and prioritise workload based on impact to the customer and business.\\n8. Excellent presentation skills, with ability to lead and influence multiple audiences.\\n9. Strong advocate for the customer and dedicated to improving customer experience.\\n10. Exceptional verbal and written communication skills.\\n11. Ability to travel as required to customer site or manufacturing location.\\n12. Ability to work remotely and lead global teams in fast-paced cross-functional environments.\\n\\nDesired Characteristics:\\n1. Demonstrated skill in data cleaning, data quality assessment, and using analytics for data assessment.\\n2. Demonstrated expertise in modeling, and in the development and application of descriptive, applied and predictive analytics\\n3. Experience in developing software applications\\n4. Proficiency in working with large datasets\\n5. Understanding of software development best practices, including source control, coding standards and testing frameworks\\n6. Background domain expertise from a product engineering team or customer service role within healthcare industry\\n\\nAbout Us:\\nGE (NYSE:GE) drives the world forward by tackling its biggest challenges. By combining world-class engineering with software and analytics, GE helps the world work more efficiently, reliably, and safely. GE people are global, diverse and dedicated, operating with the highest integrity and passion to fulfill GE\\xe2\\x80\\x99s mission and deliver for our customers. www.ge.com\\nGE offers a great work environment, professional development, challenging careers, and competitive compensation. GE is an Equal Opportunity Employer. Employment decisions are made without regard to race, color, religion, national or ethnic origin, gender (including pregnancy), sexual orientation, gender identity or expression, age, disability, veteran status or any other characteristics protected by law.\\n\\nLocations: United States; Wisconsin; Waukesha\\nGE will only employ those who are legally authorized to work in the United States for this opening.\n3 \nArticle index:  69\nJunior Data Scientist - Big Data (Entry-Level) - 1079302\\n\\nWHO WE ARE\\n\\n\\nKBRwyle is a global government services organization delivering full life cycle professional and technical services from over 60 U.S. and 40 international locations. Our core capabilities include logistics, engineering, science, cyber, intelligence and security services.\\n\\n\\nWHAT TO EXPECT\\n\\n\\nWhen you become part of the KBR team, your career opportunities are endless. We offer challenging assignments on some of the world's largest and most complex projects where our customers have come to value us, because they know, We Deliver!\\nABOUT THIS POSITION\\n\\n\\nThe successful candidate will be part of a talented team developing and maintaining mission-critical applications for NAVAIR\\xe2\\x80\\x99s 6.8.4 commodity line. The successful candidate will be assigned tasks in support of data analytics tasks. Other duties include: documenting, managing configuration, testing and bug fixing. The successful candidate will be expected to utilize tools and follow processes that ensure high quality solutions are delivered.\\n\\nQualifications\\n\\nBASIC QUALIFICATIONS:\\n\\nA Bachelor\\xe2\\x80\\x99s degree in Computer Science, Computer Engineering, Information Technology, Management Information Systems, or Mathematics\\n5 to 12 Months of data analysis experience\\nProgramming language: MUST have experience with Python and/or R\\nClearance Requirement: US Citizen with existing Department of Defense (DoD) clearance or US Citizen eligible for DoD clearance\\nINCLUDES:\\nCompetitive health, wellness & lifestyle benefits\\nInclusive, flexible and supportive company culture\\n\\nOngoing training and development opportunities\\nLEARN MORE ABOUT KBRwyle: https://www.kbr.com/markets/government\\nKBR is an equal opportunity employer. All qualified applicants will receive consideration for employment without regard to race, color, religion, disability, sex, sexual orientation, gender identity or expression, age, national origin, veteran status, genetic information, union status and/or beliefs, or any other characteristic protected by federal, state, or local law.\\n\\n\\nMonpost\\nJob - Engineering, Technology, & Science\\nPrimary Location - US-US-MD-Lexington Park\n4 \nArticle index:  402\nJunior Data Scientist - Big Data (Entry-Level) - 1079302\\n\\nWHO WE ARE\\n\\n\\nKBRwyle is a global government services organization delivering full life cycle professional and technical services from over 60 U.S. and 40 international locations. Our core capabilities include logistics, engineering, science, cyber, intelligence and security services.\\n\\n\\nWHAT TO EXPECT\\n\\n\\nWhen you become part of the KBR team, your career opportunities are endless. We offer challenging assignments on some of the world's largest and most complex projects where our customers have come to value us, because they know, We Deliver!\\nABOUT THIS POSITION\\n\\n\\nThe successful candidate will be part of a talented team developing and maintaining mission-critical applications for NAVAIR\\xe2\\x80\\x99s 6.8.4 commodity line. The successful candidate will be assigned tasks in support of data analytics tasks. Other duties include: documenting, managing configuration, testing and bug fixing. The successful candidate will be expected to utilize tools and follow processes that ensure high quality solutions are delivered.\\n\\nQualifications\\n\\nBASIC QUALIFICATIONS:\\n\\nA Bachelor\\xe2\\x80\\x99s degree in Computer Science, Computer Engineering, Information Technology, Management Information Systems, or Mathematics\\n5 to 12 Months of data analysis experience\\nProgramming language: MUST have experience with Python and/or R\\nClearance Requirement: US Citizen with existing Department of Defense (DoD) clearance or US Citizen eligible for DoD clearance\\nINCLUDES:\\nCompetitive health, wellness & lifestyle benefits\\nInclusive, flexible and supportive company culture\\n\\nOngoing training and development opportunities\\nLEARN MORE ABOUT KBRwyle: https://www.kbr.com/markets/government\\nKBR is an equal opportunity employer. All qualified applicants will receive consideration for employment without regard to race, color, religion, disability, sex, sexual orientation, gender identity or expression, age, national origin, veteran status, genetic information, union status and/or beliefs, or any other characteristic protected by federal, state, or local law.\\n\\n\\nMonpost\\nJob - Engineering, Technology, & Science\\nPrimary Location - US-US-MD-Lexington Park\n"
    }
   ],
   "source": [
    "for i in range(1,5):\n",
    "    listing_index = sample_jobs[1][0][i]\n",
    "    print(i, '\\nArticle index: ', listing_index)\n",
    "    print(data[listing_index])"
   ]
  },
  {
   "cell_type": "markdown",
   "metadata": {
    "colab_type": "text",
    "id": "FiDfTWceoRkH"
   },
   "source": [
    "## Stretch Goals\n",
    "\n",
    " - Try different visualizations for words and frequencies - what story do you want to tell with the data?\n",
    " - Scrape Job Listings for the job title \"Data Analyst\". How do these differ from Data Scientist Job Listings\n",
    " - Try and identify requirements for experience specific technologies that are asked for in the job listings. How are those distributed among the job listings?\n",
    " - Use a clustering algorithm to cluster documents by their most important terms. Do the clusters reveal any common themes?\n",
    "  - **Hint:** K-means might not be the best algorithm for this. Do a little bit of research to see what might be good for this. Also, remember that algorithms that depend on Euclidean distance break down with high dimensional data.\n",
    " - Create a labeled dataset - which jobs will you apply for? Train a model to select the jobs you are most likely to apply for. :) "
   ]
  }
 ],
 "metadata": {
  "colab": {
   "collapsed_sections": [],
   "name": "LS_DS_422_BOW_Assignment.ipynb",
   "provenance": [],
   "version": "0.3.2"
  },
  "kernel_info": {
   "name": "python3"
  },
  "kernelspec": {
   "display_name": "Python 3.7.0 64-bit ('U4-S1-NLP': conda)",
   "language": "python",
   "name": "python37064bitu4s1nlpconda6603a0491ba848e59f1c0014d7f762b2"
  },
  "language_info": {
   "codemirror_mode": {
    "name": "ipython",
    "version": 3
   },
   "file_extension": ".py",
   "mimetype": "text/x-python",
   "name": "python",
   "nbconvert_exporter": "python",
   "pygments_lexer": "ipython3",
   "version": "3.7.0-final"
  },
  "nteract": {
   "version": "0.14.3"
  }
 },
 "nbformat": 4,
 "nbformat_minor": 2
}