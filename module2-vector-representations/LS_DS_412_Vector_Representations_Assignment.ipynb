{
 "cells": [
  {
   "cell_type": "markdown",
   "metadata": {},
   "source": [
    "<img align=\"left\" src=\"https://lever-client-logos.s3.amazonaws.com/864372b1-534c-480e-acd5-9711f850815c-1524247202159.png\" width=200>\n",
    "<br></br>\n",
    "\n",
    "# Vector Representations\n",
    "## *Data Science Unit 4 Sprint 2 Assignment 2*"
   ]
  },
  {
   "cell_type": "code",
   "execution_count": 147,
   "metadata": {
    "colab": {
     "base_uri": "https://localhost:8080/",
     "height": 159
    },
    "colab_type": "code",
    "id": "hyj-f9FDcVFp",
    "outputId": "5dd045fe-6e4c-458c-e2fc-253c3da9c805"
   },
   "outputs": [],
   "source": [
    "import re\n",
    "import string\n",
    "\n",
    "from sklearn.feature_extraction.text import CountVectorizer, TfidfVectorizer\n",
    "import matplotlib.pyplot as plt\n",
    "import pandas as pd\n",
    "import numpy as np\n",
    "import spacy\n",
    "\n",
    "from bs4 import BeautifulSoup"
   ]
  },
  {
   "cell_type": "markdown",
   "metadata": {
    "colab_type": "text",
    "id": "M7bcmqfGXrFG"
   },
   "source": [
    "## 1) *Clean:* Job Listings from indeed.com that contain the title \"Data Scientist\" \n",
    "\n",
    "You have `job_listings.csv` in the data folder for this module. The text data in the description column is still messy - full of html tags. Use the [BeautifulSoup](https://www.crummy.com/software/BeautifulSoup/bs4/doc/) library to clean up this column. You will need to read through the documentation to accomplish this task. "
   ]
  },
  {
   "cell_type": "code",
   "execution_count": 148,
   "metadata": {
    "colab": {},
    "colab_type": "code",
    "id": "KcYlc1URXhlC"
   },
   "outputs": [
    {
     "data": {
      "text/html": [
       "<div>\n",
       "<style scoped>\n",
       "    .dataframe tbody tr th:only-of-type {\n",
       "        vertical-align: middle;\n",
       "    }\n",
       "\n",
       "    .dataframe tbody tr th {\n",
       "        vertical-align: top;\n",
       "    }\n",
       "\n",
       "    .dataframe thead th {\n",
       "        text-align: right;\n",
       "    }\n",
       "</style>\n",
       "<table border=\"1\" class=\"dataframe\">\n",
       "  <thead>\n",
       "    <tr style=\"text-align: right;\">\n",
       "      <th></th>\n",
       "      <th>description</th>\n",
       "      <th>title</th>\n",
       "    </tr>\n",
       "  </thead>\n",
       "  <tbody>\n",
       "    <tr>\n",
       "      <th>0</th>\n",
       "      <td>b\"&lt;div&gt;&lt;div&gt;Job Requirements:&lt;/div&gt;&lt;ul&gt;&lt;li&gt;&lt;p&gt;...</td>\n",
       "      <td>Data scientist</td>\n",
       "    </tr>\n",
       "    <tr>\n",
       "      <th>1</th>\n",
       "      <td>b'&lt;div&gt;Job Description&lt;br/&gt;\\n&lt;br/&gt;\\n&lt;p&gt;As a Da...</td>\n",
       "      <td>Data Scientist I</td>\n",
       "    </tr>\n",
       "    <tr>\n",
       "      <th>2</th>\n",
       "      <td>b'&lt;div&gt;&lt;p&gt;As a Data Scientist you will be work...</td>\n",
       "      <td>Data Scientist - Entry Level</td>\n",
       "    </tr>\n",
       "    <tr>\n",
       "      <th>3</th>\n",
       "      <td>b'&lt;div class=\"jobsearch-JobMetadataHeader icl-...</td>\n",
       "      <td>Data Scientist</td>\n",
       "    </tr>\n",
       "    <tr>\n",
       "      <th>4</th>\n",
       "      <td>b'&lt;ul&gt;&lt;li&gt;Location: USA \\xe2\\x80\\x93 multiple ...</td>\n",
       "      <td>Data Scientist</td>\n",
       "    </tr>\n",
       "  </tbody>\n",
       "</table>\n",
       "</div>"
      ],
      "text/plain": [
       "                                         description  \\\n",
       "0  b\"<div><div>Job Requirements:</div><ul><li><p>...   \n",
       "1  b'<div>Job Description<br/>\\n<br/>\\n<p>As a Da...   \n",
       "2  b'<div><p>As a Data Scientist you will be work...   \n",
       "3  b'<div class=\"jobsearch-JobMetadataHeader icl-...   \n",
       "4  b'<ul><li>Location: USA \\xe2\\x80\\x93 multiple ...   \n",
       "\n",
       "                          title  \n",
       "0               Data scientist   \n",
       "1              Data Scientist I  \n",
       "2  Data Scientist - Entry Level  \n",
       "3                Data Scientist  \n",
       "4                Data Scientist  "
      ]
     },
     "execution_count": 148,
     "metadata": {},
     "output_type": "execute_result"
    }
   ],
   "source": [
    "from bs4 import BeautifulSoup\n",
    "import requests\n",
    "\n",
    "df = pd.read_csv('data/job_listings.csv')\n",
    "\n",
    "df.drop(columns = 'Unnamed: 0', inplace = True)\n",
    "df.head()"
   ]
  },
  {
   "cell_type": "code",
   "execution_count": 168,
   "metadata": {},
   "outputs": [],
   "source": [
    "def text_cleaner(doc):\n",
    "    '''\n",
    "    A quick and dirty text cleaner.  Takes scrapped text, removes\n",
    "    HTML, newlines, and a few manually found issues. Returns the\n",
    "    cleaned text\n",
    "    '''\n",
    "    #using beautiful soup to remove the html\n",
    "    soup = BeautifulSoup(doc, 'html.parser')\n",
    "    \n",
    "    cleaned = soup.get_text()\n",
    "    \n",
    "    # some manual cleaning. Some of this I could do with stopwords\n",
    "    # but some of it is embedded between two words. \n",
    "    cleaned = cleaned.replace('\\\\n', ' ')\n",
    "    cleaned = cleaned.replace('/', ' ')\n",
    "    \n",
    "    #unicode bs. I went through a long and arduous journey to try and get some\n",
    "    #level of auto detection for this unicode encoding.  The take away, that it\n",
    "    #is not possible, because not every review is encoded the same. So I'm\n",
    "    #manually removing this bs as I run into it. GROSS\n",
    "    unicode_mess = ['\\\\xe2\\\\x80\\\\xa6','\\\\xc2\\\\xa8', '\\\\xe2\\\\x80\\\\x93', 'b\"',\n",
    "                   \"b'\", '\\\\xe2\\\\x80\\\\x99']\n",
    "    \n",
    "    for code in unicode_mess:\n",
    "        cleaned = cleaned.replace(code, '')\n",
    "    \n",
    "    return cleaned\n",
    "\n",
    "def text_tokenizer(docs, stop_words = []):\n",
    "    '''\n",
    "    A quick helper function to consistently tokenize using spaCy tokenizer\n",
    "    that I can use accross multiple NLP assignments\n",
    "    \n",
    "    Returns a list of tokenized documents\n",
    "    '''\n",
    "    import spacy\n",
    "    from spacy.tokenizer import Tokenizer\n",
    "    \n",
    "    nlp = spacy.load(\"en_core_web_lg\")\n",
    "    tokenizer = Tokenizer(nlp.vocab)\n",
    "    \n",
    "    STOP_WORDS = nlp.Defaults.stop_words.union(stop_words)\n",
    "    \n",
    "    tokens = []\n",
    "    \n",
    "    for doc in tokenizer.pipe(docs, batch_size = 1000):\n",
    "        \n",
    "        lemmas = []\n",
    "        \n",
    "        for token in doc:\n",
    "            if (token.text.lower() not in STOP_WORDS) and (token.is_punct == False) and (token.is_space == False) and (token.pos_ != 'PRON'):\n",
    "                lemmas.append(token.lemma_.lower())\n",
    "        \n",
    "        tokens.append(lemmas)\n",
    "    \n",
    "    return tokens"
   ]
  },
  {
   "cell_type": "code",
   "execution_count": 177,
   "metadata": {},
   "outputs": [
    {
     "data": {
      "text/html": [
       "<div>\n",
       "<style scoped>\n",
       "    .dataframe tbody tr th:only-of-type {\n",
       "        vertical-align: middle;\n",
       "    }\n",
       "\n",
       "    .dataframe tbody tr th {\n",
       "        vertical-align: top;\n",
       "    }\n",
       "\n",
       "    .dataframe thead th {\n",
       "        text-align: right;\n",
       "    }\n",
       "</style>\n",
       "<table border=\"1\" class=\"dataframe\">\n",
       "  <thead>\n",
       "    <tr style=\"text-align: right;\">\n",
       "      <th></th>\n",
       "      <th>description</th>\n",
       "      <th>title</th>\n",
       "      <th>description_clean</th>\n",
       "    </tr>\n",
       "  </thead>\n",
       "  <tbody>\n",
       "    <tr>\n",
       "      <th>0</th>\n",
       "      <td>b\"&lt;div&gt;&lt;div&gt;Job Requirements:&lt;/div&gt;&lt;ul&gt;&lt;li&gt;&lt;p&gt;...</td>\n",
       "      <td>Data scientist</td>\n",
       "      <td>Job Requirements: Conceptual understanding in ...</td>\n",
       "    </tr>\n",
       "    <tr>\n",
       "      <th>1</th>\n",
       "      <td>b'&lt;div&gt;Job Description&lt;br/&gt;\\n&lt;br/&gt;\\n&lt;p&gt;As a Da...</td>\n",
       "      <td>Data Scientist I</td>\n",
       "      <td>Job Description  As a Data Scientist 1, you wi...</td>\n",
       "    </tr>\n",
       "    <tr>\n",
       "      <th>2</th>\n",
       "      <td>b'&lt;div&gt;&lt;p&gt;As a Data Scientist you will be work...</td>\n",
       "      <td>Data Scientist - Entry Level</td>\n",
       "      <td>As a Data Scientist you will be working on con...</td>\n",
       "    </tr>\n",
       "    <tr>\n",
       "      <th>3</th>\n",
       "      <td>b'&lt;div class=\"jobsearch-JobMetadataHeader icl-...</td>\n",
       "      <td>Data Scientist</td>\n",
       "      <td>$4,969 - $6,756 a monthContractUnder the gener...</td>\n",
       "    </tr>\n",
       "    <tr>\n",
       "      <th>4</th>\n",
       "      <td>b'&lt;ul&gt;&lt;li&gt;Location: USA \\xe2\\x80\\x93 multiple ...</td>\n",
       "      <td>Data Scientist</td>\n",
       "      <td>Location: USA  multiple locations 2+ years of ...</td>\n",
       "    </tr>\n",
       "  </tbody>\n",
       "</table>\n",
       "</div>"
      ],
      "text/plain": [
       "                                         description  \\\n",
       "0  b\"<div><div>Job Requirements:</div><ul><li><p>...   \n",
       "1  b'<div>Job Description<br/>\\n<br/>\\n<p>As a Da...   \n",
       "2  b'<div><p>As a Data Scientist you will be work...   \n",
       "3  b'<div class=\"jobsearch-JobMetadataHeader icl-...   \n",
       "4  b'<ul><li>Location: USA \\xe2\\x80\\x93 multiple ...   \n",
       "\n",
       "                          title  \\\n",
       "0               Data scientist    \n",
       "1              Data Scientist I   \n",
       "2  Data Scientist - Entry Level   \n",
       "3                Data Scientist   \n",
       "4                Data Scientist   \n",
       "\n",
       "                                   description_clean  \n",
       "0  Job Requirements: Conceptual understanding in ...  \n",
       "1  Job Description  As a Data Scientist 1, you wi...  \n",
       "2  As a Data Scientist you will be working on con...  \n",
       "3  $4,969 - $6,756 a monthContractUnder the gener...  \n",
       "4  Location: USA  multiple locations 2+ years of ...  "
      ]
     },
     "execution_count": 177,
     "metadata": {},
     "output_type": "execute_result"
    }
   ],
   "source": [
    "df['description_clean'] = df['description'].apply(text_cleaner)\n",
    "\n",
    "df.head()"
   ]
  },
  {
   "cell_type": "markdown",
   "metadata": {
    "colab_type": "text",
    "id": "5C4xFZNtX1m2"
   },
   "source": [
    "## 2) Use Spacy to tokenize the listings "
   ]
  },
  {
   "cell_type": "code",
   "execution_count": 181,
   "metadata": {
    "colab": {},
    "colab_type": "code",
    "id": "dhUHuMr-X-II"
   },
   "outputs": [
    {
     "name": "stdout",
     "output_type": "stream",
     "text": [
      "(426, 4)\n"
     ]
    },
    {
     "data": {
      "text/html": [
       "<div>\n",
       "<style scoped>\n",
       "    .dataframe tbody tr th:only-of-type {\n",
       "        vertical-align: middle;\n",
       "    }\n",
       "\n",
       "    .dataframe tbody tr th {\n",
       "        vertical-align: top;\n",
       "    }\n",
       "\n",
       "    .dataframe thead th {\n",
       "        text-align: right;\n",
       "    }\n",
       "</style>\n",
       "<table border=\"1\" class=\"dataframe\">\n",
       "  <thead>\n",
       "    <tr style=\"text-align: right;\">\n",
       "      <th></th>\n",
       "      <th>description</th>\n",
       "      <th>title</th>\n",
       "      <th>description_clean</th>\n",
       "      <th>tokens</th>\n",
       "    </tr>\n",
       "  </thead>\n",
       "  <tbody>\n",
       "    <tr>\n",
       "      <th>0</th>\n",
       "      <td>b\"&lt;div&gt;&lt;div&gt;Job Requirements:&lt;/div&gt;&lt;ul&gt;&lt;li&gt;&lt;p&gt;...</td>\n",
       "      <td>Data scientist</td>\n",
       "      <td>Job Requirements: Conceptual understanding in ...</td>\n",
       "      <td>[job, requirements:, conceptual, understand, m...</td>\n",
       "    </tr>\n",
       "    <tr>\n",
       "      <th>1</th>\n",
       "      <td>b'&lt;div&gt;Job Description&lt;br/&gt;\\n&lt;br/&gt;\\n&lt;p&gt;As a Da...</td>\n",
       "      <td>Data Scientist I</td>\n",
       "      <td>Job Description  As a Data Scientist 1, you wi...</td>\n",
       "      <td>[job, description, data, scientist, 1,, help, ...</td>\n",
       "    </tr>\n",
       "    <tr>\n",
       "      <th>2</th>\n",
       "      <td>b'&lt;div&gt;&lt;p&gt;As a Data Scientist you will be work...</td>\n",
       "      <td>Data Scientist - Entry Level</td>\n",
       "      <td>As a Data Scientist you will be working on con...</td>\n",
       "      <td>[data, scientist, work, consult, business., re...</td>\n",
       "    </tr>\n",
       "    <tr>\n",
       "      <th>3</th>\n",
       "      <td>b'&lt;div class=\"jobsearch-JobMetadataHeader icl-...</td>\n",
       "      <td>Data Scientist</td>\n",
       "      <td>$4,969 - $6,756 a monthContractUnder the gener...</td>\n",
       "      <td>[$4,969, $6,756, monthcontractunder, general, ...</td>\n",
       "    </tr>\n",
       "    <tr>\n",
       "      <th>4</th>\n",
       "      <td>b'&lt;ul&gt;&lt;li&gt;Location: USA \\xe2\\x80\\x93 multiple ...</td>\n",
       "      <td>Data Scientist</td>\n",
       "      <td>Location: USA  multiple locations 2+ years of ...</td>\n",
       "      <td>[location:, usa, multiple, location, 2+, year,...</td>\n",
       "    </tr>\n",
       "  </tbody>\n",
       "</table>\n",
       "</div>"
      ],
      "text/plain": [
       "                                         description  \\\n",
       "0  b\"<div><div>Job Requirements:</div><ul><li><p>...   \n",
       "1  b'<div>Job Description<br/>\\n<br/>\\n<p>As a Da...   \n",
       "2  b'<div><p>As a Data Scientist you will be work...   \n",
       "3  b'<div class=\"jobsearch-JobMetadataHeader icl-...   \n",
       "4  b'<ul><li>Location: USA \\xe2\\x80\\x93 multiple ...   \n",
       "\n",
       "                          title  \\\n",
       "0               Data scientist    \n",
       "1              Data Scientist I   \n",
       "2  Data Scientist - Entry Level   \n",
       "3                Data Scientist   \n",
       "4                Data Scientist   \n",
       "\n",
       "                                   description_clean  \\\n",
       "0  Job Requirements: Conceptual understanding in ...   \n",
       "1  Job Description  As a Data Scientist 1, you wi...   \n",
       "2  As a Data Scientist you will be working on con...   \n",
       "3  $4,969 - $6,756 a monthContractUnder the gener...   \n",
       "4  Location: USA  multiple locations 2+ years of ...   \n",
       "\n",
       "                                              tokens  \n",
       "0  [job, requirements:, conceptual, understand, m...  \n",
       "1  [job, description, data, scientist, 1,, help, ...  \n",
       "2  [data, scientist, work, consult, business., re...  \n",
       "3  [$4,969, $6,756, monthcontractunder, general, ...  \n",
       "4  [location:, usa, multiple, location, 2+, year,...  "
      ]
     },
     "execution_count": 181,
     "metadata": {},
     "output_type": "execute_result"
    }
   ],
   "source": [
    "df['tokens'] = text_tokenizer(df['description_clean'])\n",
    "print(df.shape)\n",
    "df.head()"
   ]
  },
  {
   "cell_type": "markdown",
   "metadata": {
    "colab_type": "text",
    "id": "-lgCZNL_YycP"
   },
   "source": [
    "## 3) Use Scikit-Learn's CountVectorizer to get word counts for each listing."
   ]
  },
  {
   "cell_type": "code",
   "execution_count": 186,
   "metadata": {
    "colab": {},
    "colab_type": "code",
    "id": "X2PZ8Pj_YxcF"
   },
   "outputs": [
    {
     "name": "stdout",
     "output_type": "stream",
     "text": [
      "(426, 8844)\n"
     ]
    },
    {
     "data": {
      "text/html": [
       "<div>\n",
       "<style scoped>\n",
       "    .dataframe tbody tr th:only-of-type {\n",
       "        vertical-align: middle;\n",
       "    }\n",
       "\n",
       "    .dataframe tbody tr th {\n",
       "        vertical-align: top;\n",
       "    }\n",
       "\n",
       "    .dataframe thead th {\n",
       "        text-align: right;\n",
       "    }\n",
       "</style>\n",
       "<table border=\"1\" class=\"dataframe\">\n",
       "  <thead>\n",
       "    <tr style=\"text-align: right;\">\n",
       "      <th></th>\n",
       "      <th>00</th>\n",
       "      <th>000</th>\n",
       "      <th>02115</th>\n",
       "      <th>03</th>\n",
       "      <th>0305</th>\n",
       "      <th>0356</th>\n",
       "      <th>04</th>\n",
       "      <th>062</th>\n",
       "      <th>06366</th>\n",
       "      <th>08</th>\n",
       "      <th>...</th>\n",
       "      <th>zf</th>\n",
       "      <th>zfs</th>\n",
       "      <th>zheng</th>\n",
       "      <th>zillow</th>\n",
       "      <th>zogsports</th>\n",
       "      <th>zones</th>\n",
       "      <th>zoom</th>\n",
       "      <th>zuckerberg</th>\n",
       "      <th>zurich</th>\n",
       "      <th>zurichs</th>\n",
       "    </tr>\n",
       "  </thead>\n",
       "  <tbody>\n",
       "    <tr>\n",
       "      <th>0</th>\n",
       "      <td>0</td>\n",
       "      <td>0</td>\n",
       "      <td>0</td>\n",
       "      <td>0</td>\n",
       "      <td>0</td>\n",
       "      <td>0</td>\n",
       "      <td>0</td>\n",
       "      <td>0</td>\n",
       "      <td>0</td>\n",
       "      <td>0</td>\n",
       "      <td>...</td>\n",
       "      <td>0</td>\n",
       "      <td>0</td>\n",
       "      <td>0</td>\n",
       "      <td>0</td>\n",
       "      <td>0</td>\n",
       "      <td>0</td>\n",
       "      <td>0</td>\n",
       "      <td>0</td>\n",
       "      <td>0</td>\n",
       "      <td>0</td>\n",
       "    </tr>\n",
       "    <tr>\n",
       "      <th>1</th>\n",
       "      <td>0</td>\n",
       "      <td>0</td>\n",
       "      <td>0</td>\n",
       "      <td>0</td>\n",
       "      <td>0</td>\n",
       "      <td>0</td>\n",
       "      <td>0</td>\n",
       "      <td>0</td>\n",
       "      <td>0</td>\n",
       "      <td>0</td>\n",
       "      <td>...</td>\n",
       "      <td>0</td>\n",
       "      <td>0</td>\n",
       "      <td>0</td>\n",
       "      <td>0</td>\n",
       "      <td>0</td>\n",
       "      <td>0</td>\n",
       "      <td>0</td>\n",
       "      <td>0</td>\n",
       "      <td>0</td>\n",
       "      <td>0</td>\n",
       "    </tr>\n",
       "    <tr>\n",
       "      <th>2</th>\n",
       "      <td>0</td>\n",
       "      <td>0</td>\n",
       "      <td>0</td>\n",
       "      <td>0</td>\n",
       "      <td>0</td>\n",
       "      <td>0</td>\n",
       "      <td>0</td>\n",
       "      <td>0</td>\n",
       "      <td>0</td>\n",
       "      <td>0</td>\n",
       "      <td>...</td>\n",
       "      <td>0</td>\n",
       "      <td>0</td>\n",
       "      <td>0</td>\n",
       "      <td>0</td>\n",
       "      <td>0</td>\n",
       "      <td>0</td>\n",
       "      <td>0</td>\n",
       "      <td>0</td>\n",
       "      <td>0</td>\n",
       "      <td>0</td>\n",
       "    </tr>\n",
       "    <tr>\n",
       "      <th>3</th>\n",
       "      <td>0</td>\n",
       "      <td>0</td>\n",
       "      <td>0</td>\n",
       "      <td>0</td>\n",
       "      <td>0</td>\n",
       "      <td>0</td>\n",
       "      <td>0</td>\n",
       "      <td>0</td>\n",
       "      <td>0</td>\n",
       "      <td>0</td>\n",
       "      <td>...</td>\n",
       "      <td>0</td>\n",
       "      <td>0</td>\n",
       "      <td>1</td>\n",
       "      <td>0</td>\n",
       "      <td>0</td>\n",
       "      <td>0</td>\n",
       "      <td>0</td>\n",
       "      <td>0</td>\n",
       "      <td>0</td>\n",
       "      <td>0</td>\n",
       "    </tr>\n",
       "    <tr>\n",
       "      <th>4</th>\n",
       "      <td>0</td>\n",
       "      <td>0</td>\n",
       "      <td>0</td>\n",
       "      <td>0</td>\n",
       "      <td>0</td>\n",
       "      <td>0</td>\n",
       "      <td>0</td>\n",
       "      <td>0</td>\n",
       "      <td>0</td>\n",
       "      <td>0</td>\n",
       "      <td>...</td>\n",
       "      <td>0</td>\n",
       "      <td>0</td>\n",
       "      <td>0</td>\n",
       "      <td>0</td>\n",
       "      <td>0</td>\n",
       "      <td>0</td>\n",
       "      <td>0</td>\n",
       "      <td>0</td>\n",
       "      <td>0</td>\n",
       "      <td>0</td>\n",
       "    </tr>\n",
       "  </tbody>\n",
       "</table>\n",
       "<p>5 rows × 8844 columns</p>\n",
       "</div>"
      ],
      "text/plain": [
       "   00  000  02115  03  0305  0356  04  062  06366  08  ...  zf  zfs  zheng  \\\n",
       "0   0    0      0   0     0     0   0    0      0   0  ...   0    0      0   \n",
       "1   0    0      0   0     0     0   0    0      0   0  ...   0    0      0   \n",
       "2   0    0      0   0     0     0   0    0      0   0  ...   0    0      0   \n",
       "3   0    0      0   0     0     0   0    0      0   0  ...   0    0      1   \n",
       "4   0    0      0   0     0     0   0    0      0   0  ...   0    0      0   \n",
       "\n",
       "   zillow  zogsports  zones  zoom  zuckerberg  zurich  zurichs  \n",
       "0       0          0      0     0           0       0        0  \n",
       "1       0          0      0     0           0       0        0  \n",
       "2       0          0      0     0           0       0        0  \n",
       "3       0          0      0     0           0       0        0  \n",
       "4       0          0      0     0           0       0        0  \n",
       "\n",
       "[5 rows x 8844 columns]"
      ]
     },
     "execution_count": 186,
     "metadata": {},
     "output_type": "execute_result"
    }
   ],
   "source": [
    "vect = CountVectorizer()\n",
    "\n",
    "#creating a document term matrix\n",
    "dtm = vect.fit_transform(df['description_clean'])\n",
    "\n",
    "#since it is simply a matrix without column names, lets make this a bit more\n",
    "#readable by making a dataframe out of the matrix and using the feature names\n",
    "#as the columns\n",
    "dtm = pd.DataFrame(dtm.todense(), columns = vect.get_feature_names())\n",
    "print(dtm.shape)\n",
    "dtm.head()"
   ]
  },
  {
   "cell_type": "markdown",
   "metadata": {
    "colab_type": "text",
    "id": "Zo1iH_UeY7_n"
   },
   "source": [
    "## 4) Visualize the most common word counts"
   ]
  },
  {
   "cell_type": "code",
   "execution_count": 191,
   "metadata": {
    "colab": {},
    "colab_type": "code",
    "id": "M5LB00uyZKV5"
   },
   "outputs": [
    {
     "data": {
      "text/html": [
       "<div>\n",
       "<style scoped>\n",
       "    .dataframe tbody tr th:only-of-type {\n",
       "        vertical-align: middle;\n",
       "    }\n",
       "\n",
       "    .dataframe tbody tr th {\n",
       "        vertical-align: top;\n",
       "    }\n",
       "\n",
       "    .dataframe thead th {\n",
       "        text-align: right;\n",
       "    }\n",
       "</style>\n",
       "<table border=\"1\" class=\"dataframe\">\n",
       "  <thead>\n",
       "    <tr style=\"text-align: right;\">\n",
       "      <th></th>\n",
       "      <th>word</th>\n",
       "      <th>count</th>\n",
       "      <th>percent_total</th>\n",
       "      <th>rank</th>\n",
       "    </tr>\n",
       "  </thead>\n",
       "  <tbody>\n",
       "    <tr>\n",
       "      <th>2072</th>\n",
       "      <td>data</td>\n",
       "      <td>4466</td>\n",
       "      <td>0.021683</td>\n",
       "      <td>1.0</td>\n",
       "    </tr>\n",
       "    <tr>\n",
       "      <th>2964</th>\n",
       "      <td>experience</td>\n",
       "      <td>1854</td>\n",
       "      <td>0.009001</td>\n",
       "      <td>2.0</td>\n",
       "    </tr>\n",
       "    <tr>\n",
       "      <th>1146</th>\n",
       "      <td>business</td>\n",
       "      <td>1212</td>\n",
       "      <td>0.005884</td>\n",
       "      <td>3.0</td>\n",
       "    </tr>\n",
       "    <tr>\n",
       "      <th>8411</th>\n",
       "      <td>work</td>\n",
       "      <td>1161</td>\n",
       "      <td>0.005637</td>\n",
       "      <td>4.0</td>\n",
       "    </tr>\n",
       "    <tr>\n",
       "      <th>7631</th>\n",
       "      <td>team</td>\n",
       "      <td>973</td>\n",
       "      <td>0.004724</td>\n",
       "      <td>5.0</td>\n",
       "    </tr>\n",
       "  </tbody>\n",
       "</table>\n",
       "</div>"
      ],
      "text/plain": [
       "            word  count  percent_total  rank\n",
       "2072        data   4466       0.021683   1.0\n",
       "2964  experience   1854       0.009001   2.0\n",
       "1146    business   1212       0.005884   3.0\n",
       "8411        work   1161       0.005637   4.0\n",
       "7631        team    973       0.004724   5.0"
      ]
     },
     "execution_count": 191,
     "metadata": {},
     "output_type": "execute_result"
    }
   ],
   "source": [
    "#okay lets do only the top 20 words\n",
    "#first sum sums all the values in the column, second sum sums all those values\n",
    "total = dtm.sum().sum()\n",
    "\n",
    "wc_all = {'word': [], 'count': [], 'percent_total': []}\n",
    "\n",
    "STOP_WORDS = nlp.Defaults.stop_words\n",
    "\n",
    "for col in dtm.columns:\n",
    "    if col not in STOP_WORDS:\n",
    "        wc_all['word'].append(col)\n",
    "        wc_all['count'].append(dtm[col].sum())\n",
    "        wc_all['percent_total'].append(dtm[col].sum() / total)\n",
    "    \n",
    "wc_all = pd.DataFrame(wc_all)\n",
    "\n",
    "wc_all['rank'] = wc_all['count'].rank(method = 'first', ascending = False)\n",
    "wc_all.sort_values(by = 'rank', inplace = True)\n",
    "wc_all.head()"
   ]
  },
  {
   "cell_type": "code",
   "execution_count": 192,
   "metadata": {},
   "outputs": [
    {
     "data": {
      "image/png": "[encoded data removed]",
      "text/plain": [
       "<Figure size 576x576 with 1 Axes>"
      ]
     },
     "metadata": {
      "needs_background": "light"
     },
     "output_type": "display_data"
    }
   ],
   "source": [
    "import squarify\n",
    "import matplotlib.pyplot as plt\n",
    "\n",
    "all_top20 = wc_all[wc_all['rank'] <= 20]\n",
    "\n",
    "plt.figure(figsize = (8,8))\n",
    "squarify.plot(sizes = all_top20['percent_total'], label = all_top20['word'], alpha = .8)\n",
    "plt.axis('off')\n",
    "plt.show();"
   ]
  },
  {
   "cell_type": "markdown",
   "metadata": {
    "colab_type": "text",
    "id": "bwFsTqrVZMYi"
   },
   "source": [
    "## 5) Use Scikit-Learn's tfidfVectorizer to get a TF-IDF feature matrix"
   ]
  },
  {
   "cell_type": "code",
   "execution_count": 193,
   "metadata": {
    "colab": {},
    "colab_type": "code",
    "id": "-gx2gZCbl5Np"
   },
   "outputs": [
    {
     "name": "stdout",
     "output_type": "stream",
     "text": [
      "(426, 5000)\n"
     ]
    },
    {
     "data": {
      "text/html": [
       "<div>\n",
       "<style scoped>\n",
       "    .dataframe tbody tr th:only-of-type {\n",
       "        vertical-align: middle;\n",
       "    }\n",
       "\n",
       "    .dataframe tbody tr th {\n",
       "        vertical-align: top;\n",
       "    }\n",
       "\n",
       "    .dataframe thead th {\n",
       "        text-align: right;\n",
       "    }\n",
       "</style>\n",
       "<table border=\"1\" class=\"dataframe\">\n",
       "  <thead>\n",
       "    <tr style=\"text-align: right;\">\n",
       "      <th></th>\n",
       "      <th>000</th>\n",
       "      <th>000 employees</th>\n",
       "      <th>10</th>\n",
       "      <th>10 years</th>\n",
       "      <th>100</th>\n",
       "      <th>100 000</th>\n",
       "      <th>100 countries</th>\n",
       "      <th>11</th>\n",
       "      <th>12</th>\n",
       "      <th>12 months</th>\n",
       "      <th>...</th>\n",
       "      <th>york city</th>\n",
       "      <th>youll</th>\n",
       "      <th>youll develop</th>\n",
       "      <th>youll doing</th>\n",
       "      <th>youll need</th>\n",
       "      <th>youll work</th>\n",
       "      <th>youre</th>\n",
       "      <th>youre looking</th>\n",
       "      <th>youve</th>\n",
       "      <th>yrs</th>\n",
       "    </tr>\n",
       "  </thead>\n",
       "  <tbody>\n",
       "    <tr>\n",
       "      <th>0</th>\n",
       "      <td>0.0</td>\n",
       "      <td>0.0</td>\n",
       "      <td>0.0</td>\n",
       "      <td>0.0</td>\n",
       "      <td>0.0</td>\n",
       "      <td>0.0</td>\n",
       "      <td>0.0</td>\n",
       "      <td>0.0</td>\n",
       "      <td>0.0</td>\n",
       "      <td>0.0</td>\n",
       "      <td>...</td>\n",
       "      <td>0.0</td>\n",
       "      <td>0.0</td>\n",
       "      <td>0.0</td>\n",
       "      <td>0.0</td>\n",
       "      <td>0.0</td>\n",
       "      <td>0.0</td>\n",
       "      <td>0.0</td>\n",
       "      <td>0.0</td>\n",
       "      <td>0.0</td>\n",
       "      <td>0.0</td>\n",
       "    </tr>\n",
       "    <tr>\n",
       "      <th>1</th>\n",
       "      <td>0.0</td>\n",
       "      <td>0.0</td>\n",
       "      <td>0.0</td>\n",
       "      <td>0.0</td>\n",
       "      <td>0.0</td>\n",
       "      <td>0.0</td>\n",
       "      <td>0.0</td>\n",
       "      <td>0.0</td>\n",
       "      <td>0.0</td>\n",
       "      <td>0.0</td>\n",
       "      <td>...</td>\n",
       "      <td>0.0</td>\n",
       "      <td>0.0</td>\n",
       "      <td>0.0</td>\n",
       "      <td>0.0</td>\n",
       "      <td>0.0</td>\n",
       "      <td>0.0</td>\n",
       "      <td>0.0</td>\n",
       "      <td>0.0</td>\n",
       "      <td>0.0</td>\n",
       "      <td>0.0</td>\n",
       "    </tr>\n",
       "    <tr>\n",
       "      <th>2</th>\n",
       "      <td>0.0</td>\n",
       "      <td>0.0</td>\n",
       "      <td>0.0</td>\n",
       "      <td>0.0</td>\n",
       "      <td>0.0</td>\n",
       "      <td>0.0</td>\n",
       "      <td>0.0</td>\n",
       "      <td>0.0</td>\n",
       "      <td>0.0</td>\n",
       "      <td>0.0</td>\n",
       "      <td>...</td>\n",
       "      <td>0.0</td>\n",
       "      <td>0.0</td>\n",
       "      <td>0.0</td>\n",
       "      <td>0.0</td>\n",
       "      <td>0.0</td>\n",
       "      <td>0.0</td>\n",
       "      <td>0.0</td>\n",
       "      <td>0.0</td>\n",
       "      <td>0.0</td>\n",
       "      <td>0.0</td>\n",
       "    </tr>\n",
       "    <tr>\n",
       "      <th>3</th>\n",
       "      <td>0.0</td>\n",
       "      <td>0.0</td>\n",
       "      <td>0.0</td>\n",
       "      <td>0.0</td>\n",
       "      <td>0.0</td>\n",
       "      <td>0.0</td>\n",
       "      <td>0.0</td>\n",
       "      <td>0.0</td>\n",
       "      <td>0.0</td>\n",
       "      <td>0.0</td>\n",
       "      <td>...</td>\n",
       "      <td>0.0</td>\n",
       "      <td>0.0</td>\n",
       "      <td>0.0</td>\n",
       "      <td>0.0</td>\n",
       "      <td>0.0</td>\n",
       "      <td>0.0</td>\n",
       "      <td>0.0</td>\n",
       "      <td>0.0</td>\n",
       "      <td>0.0</td>\n",
       "      <td>0.0</td>\n",
       "    </tr>\n",
       "    <tr>\n",
       "      <th>4</th>\n",
       "      <td>0.0</td>\n",
       "      <td>0.0</td>\n",
       "      <td>0.0</td>\n",
       "      <td>0.0</td>\n",
       "      <td>0.0</td>\n",
       "      <td>0.0</td>\n",
       "      <td>0.0</td>\n",
       "      <td>0.0</td>\n",
       "      <td>0.0</td>\n",
       "      <td>0.0</td>\n",
       "      <td>...</td>\n",
       "      <td>0.0</td>\n",
       "      <td>0.0</td>\n",
       "      <td>0.0</td>\n",
       "      <td>0.0</td>\n",
       "      <td>0.0</td>\n",
       "      <td>0.0</td>\n",
       "      <td>0.0</td>\n",
       "      <td>0.0</td>\n",
       "      <td>0.0</td>\n",
       "      <td>0.0</td>\n",
       "    </tr>\n",
       "  </tbody>\n",
       "</table>\n",
       "<p>5 rows × 5000 columns</p>\n",
       "</div>"
      ],
      "text/plain": [
       "   000  000 employees   10  10 years  100  100 000  100 countries   11   12  \\\n",
       "0  0.0            0.0  0.0       0.0  0.0      0.0            0.0  0.0  0.0   \n",
       "1  0.0            0.0  0.0       0.0  0.0      0.0            0.0  0.0  0.0   \n",
       "2  0.0            0.0  0.0       0.0  0.0      0.0            0.0  0.0  0.0   \n",
       "3  0.0            0.0  0.0       0.0  0.0      0.0            0.0  0.0  0.0   \n",
       "4  0.0            0.0  0.0       0.0  0.0      0.0            0.0  0.0  0.0   \n",
       "\n",
       "   12 months  ...  york city  youll  youll develop  youll doing  youll need  \\\n",
       "0        0.0  ...        0.0    0.0            0.0          0.0         0.0   \n",
       "1        0.0  ...        0.0    0.0            0.0          0.0         0.0   \n",
       "2        0.0  ...        0.0    0.0            0.0          0.0         0.0   \n",
       "3        0.0  ...        0.0    0.0            0.0          0.0         0.0   \n",
       "4        0.0  ...        0.0    0.0            0.0          0.0         0.0   \n",
       "\n",
       "   youll work  youre  youre looking  youve  yrs  \n",
       "0         0.0    0.0            0.0    0.0  0.0  \n",
       "1         0.0    0.0            0.0    0.0  0.0  \n",
       "2         0.0    0.0            0.0    0.0  0.0  \n",
       "3         0.0    0.0            0.0    0.0  0.0  \n",
       "4         0.0    0.0            0.0    0.0  0.0  \n",
       "\n",
       "[5 rows x 5000 columns]"
      ]
     },
     "execution_count": 193,
     "metadata": {},
     "output_type": "execute_result"
    }
   ],
   "source": [
    "#Term frequency document frequency.\n",
    "\n",
    "tfidf = TfidfVectorizer(stop_words = 'english',\n",
    "                       ngram_range = (1,2),\n",
    "                       min_df = 3,\n",
    "                       max_df = 0.6,\n",
    "                       max_features = 5000)\n",
    "\n",
    "dtm2 = tfidf.fit_transform(df['description_clean'])\n",
    "\n",
    "dtm2 = pd.DataFrame(dtm2.todense(), columns = tfidf.get_feature_names())\n",
    "\n",
    "print(dtm2.shape)\n",
    "dtm2.head()"
   ]
  },
  {
   "cell_type": "markdown",
   "metadata": {},
   "source": [
    "## 6) Create a NearestNeighbor Model. Write the description of your ideal datascience job and query your job listings. "
   ]
  },
  {
   "cell_type": "code",
   "execution_count": 195,
   "metadata": {
    "collapsed": false,
    "inputHidden": false,
    "jupyter": {
     "outputs_hidden": false
    },
    "outputHidden": false
   },
   "outputs": [
    {
     "data": {
      "text/plain": [
       "NearestNeighbors(algorithm='kd_tree', leaf_size=30, metric='minkowski',\n",
       "                 metric_params=None, n_jobs=None, n_neighbors=5, p=2,\n",
       "                 radius=1.0)"
      ]
     },
     "execution_count": 195,
     "metadata": {},
     "output_type": "execute_result"
    }
   ],
   "source": [
    "#okay start by fitting a nearestneighbor model on the tfidf dataframe\n",
    "#then fit a new tfidf with a description of my ideal job\n",
    "\n",
    "from sklearn.neighbors import NearestNeighbors\n",
    "\n",
    "nn = NearestNeighbors(n_neighbors = 5, algorithm = 'kd_tree')\n",
    "nn.fit(dtm2)"
   ]
  },
  {
   "cell_type": "code",
   "execution_count": 198,
   "metadata": {},
   "outputs": [
    {
     "data": {
      "text/plain": [
       "(array([[1.28937773, 1.3328566 , 1.34078389, 1.35034218, 1.35034218]]),\n",
       " array([[ 17, 227, 228, 149, 343]]))"
      ]
     },
     "execution_count": 198,
     "metadata": {},
     "output_type": "execute_result"
    }
   ],
   "source": [
    "#remember you fit this on your job listing data, so we only want to transform\n",
    "#our ideal job.\n",
    "\n",
    "ideal_job = '''\n",
    "A job where I have agency to choose my own work schedule, my own projects, with\n",
    "a lot of vacation, and above average compensation.\n",
    "'''\n",
    "\n",
    "new = tfidf.transform([ideal_job])\n",
    "\n",
    "nn.kneighbors(new.todense())"
   ]
  },
  {
   "cell_type": "code",
   "execution_count": 201,
   "metadata": {},
   "outputs": [
    {
     "data": {
      "text/plain": [
       "\"ContractWe are looking to hire for a Data Scientist (Remote).  Qualifications: This job is for a Data Scientist who is an expert in Python. Developer should also have basic experience with postgres database. Goal is to develop a general purpose script that creates various models for user imported datasets and choose the best model for making predictions. Must be American citizen authorized to work in US.  Overview of work : Developer will be working on an already built product that requires new features and bug fixing . Self testing and bug fixing is an important part of the job. Product is a tool that automates machine learning and makes natural language search and predictions on user imported data. Developer will be working on a flexible schedule. He will be part of a remotely working team collaborating through Skype and needs to take part in daily calls.  Job Type: Contract to hire'\""
      ]
     },
     "execution_count": 201,
     "metadata": {},
     "output_type": "execute_result"
    }
   ],
   "source": [
    "df.iloc[17]['description_clean']"
   ]
  },
  {
   "cell_type": "code",
   "execution_count": 202,
   "metadata": {},
   "outputs": [
    {
     "data": {
      "text/plain": [
       "\"Agency and Job Overview  We are OMD, an award-winning, integrated, communications agency. Fueled by data and driven by creativity, OMD provides its clients innovative, actionable media & communication strategies to accelerate their business. As a Senior member of OMDs Marketing Sciences team, you will be responsible for delivering on this vision and shaping the strategic direction of our clients. The ideal candidate is someone who can explore, analyze and visualize dynamic datasets, while having technical expertise in building statistical models (supervised and unsupervised). The Supervisor will work closely with the Marketing Sciences Director to manage resources, implement process improvements and mentor junior members of the team. Areas of Responsibility: Exploration and experimentation with large number of datasets to draw insights and search for stories Predictive and descriptive analysis based on OMD and OMG data Maintain data pipelines and visualization outputs Understand and participate in measurement planning, development and execution Ensuring timely follow-through on all scheduled and ad hoc deliverables Present analytic outputs to clients when appropriate Generating and communicating clear, compelling and actionable insights through advanced analytic techniques Actively work with OMD marketing science an agency teams to anticipate client needs and develop appropriate solutions   Agency and Job Overview  We are OMD, an award-winning, integrated, communications agency. Fueled by data and driven by creativity, OMD provides its clients innovative, actionable media & communication strategies to accelerate their business. As a Senior member of OMDs Marketing Sciences team, you will be responsible for delivering on this vision and shaping the strategic direction of our clients. The ideal candidate is someone who can explore, analyze and visualize dynamic datasets, while having technical expertise in building statistical models (supervised and unsupervised). The Supervisor will work closely with the Marketing Sciences Director to manage resources, implement process improvements and mentor junior members of the team. Areas of Responsibility: Exploration and experimentation with large number of datasets to draw insights and search for stories Predictive and descriptive analysis based on OMD and OMG data Maintain data pipelines and visualization outputs Understand and participate in measurement planning, development and execution Ensuring timely follow-through on all scheduled and ad hoc deliverables Present analytic outputs to clients when appropriate Generating and communicating clear, compelling and actionable insights through advanced analytic techniques Actively work with OMD marketing science an agency teams to anticipate client needs and develop appropriate solutions'\""
      ]
     },
     "execution_count": 202,
     "metadata": {},
     "output_type": "execute_result"
    }
   ],
   "source": [
    "df.iloc[227]['description_clean']"
   ]
  },
  {
   "cell_type": "code",
   "execution_count": 203,
   "metadata": {},
   "outputs": [
    {
     "data": {
      "text/plain": [
       "\"InternshipAbout the role Data Scientist Internship Gap Inc. Technology is looking for exceptional talent with fresh ideas, cutting-edge skills, and a passion for technology. Were not your average IT shop, and this isnt your average internship. In your 10 weeks with Gap Inc. youll have a voice in the room, be pushed to take risks, and play a critical role in innovative projects that are transforming retail technology. Ready to get started? Whats In It for You?  As a Gap Inc. Intern, you will gain valuable work experience in a fast paced and innovative environment, here in beautiful San Francisco. By the end of the 10 weeks you will have completed business critical projects, which you will present to your senior leadership team. Dont expect to be running around getting coffee. Many interns projects have been implemented by the business and are currently driving incredible results for the company. Here at Gap Inc., we like to reward success. You are invited to participate in events, such as Giants games, happy hours, ping-pong tournaments, bowling nights, volunteering events in the community, etc. Heres what you will do all summer!  Work alongside our Customer Data & Analytics team and fellow interns on customer segmentation and descriptive analysis projects Use the latest technologies, tools, and technologies in the field- harnessing vast pools of information available in our brands data systems Develop data product tools, such as dashboards and mapping tools Apply analytical and data science methods (regression, clustering, classification, text analysis) to real world datasets to solve ongoing business problems Present results of analysis to team members, business partners, and Gap executives Meet Sr. Data Scientists, advanced analytics experts, and Product Managers to understand the role that analytics play in a 16 billion-dollar global organization Who you are  Heres what you need to get the work done  Undergraduate, graduate, or PhD student with one year or less left to graduate in Data Science, Statistics, Mathematics, Computer Science, Machine Learning, Management Information Systems, Information Systems, Information Technology, Integrated Systems Engineering, or related degree with a GPA of 3.0 or above Statistical and data analysis skills Languages: Python, SAS, SQL, or R. Combinations of these skills are very useful. Data visualization using tools, such as Tableau or D3 Basic statistical modeling skills (regression, logistic regression, clustering) An ability to think abstractly and work cross functionally Strong communication and presentation skills A desire to evolve excellent problem solving skills; meticulous and methodical  '\""
      ]
     },
     "execution_count": 203,
     "metadata": {},
     "output_type": "execute_result"
    }
   ],
   "source": [
    "df.iloc[228]['description_clean']"
   ]
  },
  {
   "cell_type": "markdown",
   "metadata": {
    "colab_type": "text",
    "id": "FiDfTWceoRkH"
   },
   "source": [
    "## Stretch Goals\n",
    "\n",
    " - Try different visualizations for words and frequencies - what story do you want to tell with the data?\n",
    " - Scrape Job Listings for the job title \"Data Analyst\". How do these differ from Data Scientist Job Listings\n",
    " - Try and identify requirements for experience specific technologies that are asked for in the job listings. How are those distributed among the job listings?\n",
    " - Use a clustering algorithm to cluster documents by their most important terms. Do the clusters reveal any common themes?\n",
    "  - **Hint:** K-means might not be the best algorithm for this. Do a little bit of research to see what might be good for this. Also, remember that algorithms that depend on Euclidean distance break down with high dimensional data.\n",
    " - Create a labeled dataset - which jobs will you apply for? Train a model to select the jobs you are most likely to apply for. :) "
   ]
  }
 ],
 "metadata": {
  "colab": {
   "collapsed_sections": [],
   "name": "LS_DS_422_BOW_Assignment.ipynb",
   "provenance": [],
   "version": "0.3.2"
  },
  "kernel_info": {
   "name": "python3"
  },
  "kernelspec": {
   "display_name": "U4-S1-NLP (Python3)",
   "language": "python",
   "name": "u4-s1-nlp"
  },
  "language_info": {
   "codemirror_mode": {
    "name": "ipython",
    "version": 3
   },
   "file_extension": ".py",
   "mimetype": "text/x-python",
   "name": "python",
   "nbconvert_exporter": "python",
   "pygments_lexer": "ipython3",
   "version": "3.7.0"
  },
  "nteract": {
   "version": "0.14.3"
  }
 },
 "nbformat": 4,
 "nbformat_minor": 4
}
