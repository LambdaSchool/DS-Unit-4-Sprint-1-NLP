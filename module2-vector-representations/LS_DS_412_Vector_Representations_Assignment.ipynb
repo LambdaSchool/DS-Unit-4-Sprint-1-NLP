{
 "cells": [
  {
   "cell_type": "markdown",
   "metadata": {},
   "source": [
    "<img align=\"left\" src=\"https://lever-client-logos.s3.amazonaws.com/864372b1-534c-480e-acd5-9711f850815c-1524247202159.png\" width=200>\n",
    "<br></br>\n",
    "\n",
    "# Vector Representations\n",
    "## *Data Science Unit 4 Sprint 2 Assignment 2*"
   ]
  },
  {
   "cell_type": "code",
   "execution_count": 1,
   "metadata": {
    "colab": {
     "base_uri": "https://localhost:8080/",
     "height": 159
    },
    "colab_type": "code",
    "id": "hyj-f9FDcVFp",
    "outputId": "5dd045fe-6e4c-458c-e2fc-253c3da9c805"
   },
   "outputs": [],
   "source": [
    "import re\n",
    "import string\n",
    "\n",
    "from sklearn.feature_extraction.text import CountVectorizer, TfidfVectorizer\n",
    "import matplotlib.pyplot as plt\n",
    "import pandas as pd\n",
    "import numpy as np\n",
    "import spacy"
   ]
  },
  {
   "cell_type": "markdown",
   "metadata": {
    "colab_type": "text",
    "id": "M7bcmqfGXrFG"
   },
   "source": [
    "## 1) *Clean:* Job Listings from indeed.com that contain the title \"Data Scientist\" \n",
    "\n",
    "You have `job_listings.csv` in the data folder for this module. The text data in the description column is still messy - full of html tags. Use the [BeautifulSoup](https://www.crummy.com/software/BeautifulSoup/bs4/doc/) library to clean up this column. You will need to read thru the documentation to accomplish this task. \n",
    "\n",
    "`Tip:` You will need to install the `bs4` library inside your conda environment. "
   ]
  },
  {
   "cell_type": "code",
   "execution_count": 2,
   "metadata": {
    "colab": {},
    "colab_type": "code",
    "id": "KcYlc1URXhlC"
   },
   "outputs": [
    {
     "data": {
      "text/html": [
       "<div>\n",
       "<style scoped>\n",
       "    .dataframe tbody tr th:only-of-type {\n",
       "        vertical-align: middle;\n",
       "    }\n",
       "\n",
       "    .dataframe tbody tr th {\n",
       "        vertical-align: top;\n",
       "    }\n",
       "\n",
       "    .dataframe thead th {\n",
       "        text-align: right;\n",
       "    }\n",
       "</style>\n",
       "<table border=\"1\" class=\"dataframe\">\n",
       "  <thead>\n",
       "    <tr style=\"text-align: right;\">\n",
       "      <th></th>\n",
       "      <th>description</th>\n",
       "      <th>title</th>\n",
       "    </tr>\n",
       "  </thead>\n",
       "  <tbody>\n",
       "    <tr>\n",
       "      <th>0</th>\n",
       "      <td>b\"&lt;div&gt;&lt;div&gt;Job Requirements:&lt;/div&gt;&lt;ul&gt;&lt;li&gt;&lt;p&gt;...</td>\n",
       "      <td>Data scientist</td>\n",
       "    </tr>\n",
       "    <tr>\n",
       "      <th>1</th>\n",
       "      <td>b'&lt;div&gt;Job Description&lt;br/&gt;\\n&lt;br/&gt;\\n&lt;p&gt;As a Da...</td>\n",
       "      <td>Data Scientist I</td>\n",
       "    </tr>\n",
       "    <tr>\n",
       "      <th>2</th>\n",
       "      <td>b'&lt;div&gt;&lt;p&gt;As a Data Scientist you will be work...</td>\n",
       "      <td>Data Scientist - Entry Level</td>\n",
       "    </tr>\n",
       "    <tr>\n",
       "      <th>3</th>\n",
       "      <td>b'&lt;div class=\"jobsearch-JobMetadataHeader icl-...</td>\n",
       "      <td>Data Scientist</td>\n",
       "    </tr>\n",
       "    <tr>\n",
       "      <th>4</th>\n",
       "      <td>b'&lt;ul&gt;&lt;li&gt;Location: USA \\xe2\\x80\\x93 multiple ...</td>\n",
       "      <td>Data Scientist</td>\n",
       "    </tr>\n",
       "  </tbody>\n",
       "</table>\n",
       "</div>"
      ],
      "text/plain": [
       "                                         description  \\\n",
       "0  b\"<div><div>Job Requirements:</div><ul><li><p>...   \n",
       "1  b'<div>Job Description<br/>\\n<br/>\\n<p>As a Da...   \n",
       "2  b'<div><p>As a Data Scientist you will be work...   \n",
       "3  b'<div class=\"jobsearch-JobMetadataHeader icl-...   \n",
       "4  b'<ul><li>Location: USA \\xe2\\x80\\x93 multiple ...   \n",
       "\n",
       "                          title  \n",
       "0               Data scientist   \n",
       "1              Data Scientist I  \n",
       "2  Data Scientist - Entry Level  \n",
       "3                Data Scientist  \n",
       "4                Data Scientist  "
      ]
     },
     "execution_count": 2,
     "metadata": {},
     "output_type": "execute_result"
    }
   ],
   "source": [
    "from bs4 import BeautifulSoup\n",
    "import requests\n",
    "jobs = pd.read_csv('./data/job_listings.csv', index_col=0)\n",
    "jobs.head()"
   ]
  },
  {
   "cell_type": "code",
   "execution_count": 4,
   "metadata": {
    "collapsed": true,
    "jupyter": {
     "outputs_hidden": true
    }
   },
   "outputs": [
    {
     "data": {
      "text/plain": [
       "array(['Data scientist\\xa0', 'Data Scientist I',\n",
       "       'Data Scientist - Entry Level', 'Data Scientist',\n",
       "       'Associate Data Scientist – Premium Analytics',\n",
       "       'Sr. Data Scientist', 'Data Scientist, Lifecyle',\n",
       "       'Data Scientist, Neuroimaging', 'Data Scientist II',\n",
       "       'Data Scientist - Risk', 'Data Analyst/Jr. Data Scientist',\n",
       "       'Assistant Data Scientist', 'Data Scientist, Junior',\n",
       "       'Data Scientist – Personalization', 'Data Scientist - [Remote]',\n",
       "       'Measurement Data Scientist', 'WTE Data Science Engineer',\n",
       "       'Data Scientist, Sales', 'Data Scientist Intern',\n",
       "       'Jr. Data Scientist', 'Sr. Data Engineer',\n",
       "       'Data Scientist/Data Analytics Intern - Summer 2019',\n",
       "       'Data Science Internship – Summer 2019',\n",
       "       'Data Scientist Summer Intern', 'Data Scientist (Senior)',\n",
       "       'Data Scientist Internship - Summer 2019',\n",
       "       'Data Scientist - Insurance', 'Junior Data Scientist',\n",
       "       'Data Scientist - Computer Vision',\n",
       "       'Data Scientist Summer Internship 2019',\n",
       "       'Data Scientist (Multiple levels)', 'Senior Data Scientist',\n",
       "       'Data Scientist – Intern (Summer 2019)',\n",
       "       'Data Scientist - Forecasting and Anomaly Detection Platform',\n",
       "       'Data Scientist Summer Internship',\n",
       "       'Data Scientist (2019 Summer Intern)', 'Data Scientist 2',\n",
       "       'Data Scientist - Machine Learning',\n",
       "       'Data Scientist - Machine Learning, AdTech',\n",
       "       'Data Scientist, Engineering',\n",
       "       'Junior Data Scientist - Big Data (Entry-Level)',\n",
       "       '2019 University Graduate - Data Scientist - Policy Economics',\n",
       "       'Undergraduate Internship/Co-op Program - Data Scientist',\n",
       "       'Data Scientist : 19-01367', 'Data Scientist-CA-',\n",
       "       'Clinical Data Scientist', 'Data Scientist Internship',\n",
       "       'Data Scientist (GEC11901)', 'Data Scientist (PYTHON, HADOOP)',\n",
       "       'Staff Data Scientist - NLP',\n",
       "       '2019 University Graduate - Data Scientist - Core Product',\n",
       "       'Principal Data Scientist', 'Senior Data Scientist- Atlanta, GA',\n",
       "       'Data Scientist, Product',\n",
       "       'Associate Data Scientist - Associate Statistical Modeler',\n",
       "       'A &A Division /Data Scientist',\n",
       "       'Customer Facing Data Scientist - Telecom',\n",
       "       'Applied Data Scientist', 'Data Scientist (Labs)',\n",
       "       'Data Scientist- Corporate',\n",
       "       'Sponsor Funded Professional | Data Scientist',\n",
       "       'E-09-311 Data Scientist', 'Associate Data Scientist',\n",
       "       'Artificial Intelligence (AI) Data Scientist',\n",
       "       '2019 PhD University Graduate - Data Scientist I/II - Intelligent Insights',\n",
       "       'People Data Scientist',\n",
       "       'Data Scientist/Quantitative Analyst, Engineering', 'Data Analyst',\n",
       "       'Junior Data Scientist(s)- MI and AI', 'Staff Data Scientist',\n",
       "       'Data Scientist Intern - Summer 2019',\n",
       "       'Graduate Studies Program - Data Scientist',\n",
       "       'Data Scientist, Redtech', 'Investigative Data Scientist',\n",
       "       'Data Scientist, Alexa Shopping NLU',\n",
       "       'Data Scientist/Visualization Master',\n",
       "       'Staff Data Scientist, Vudu', 'Data Scientist - Top Secret',\n",
       "       'REMOTE Data Scientist Opening',\n",
       "       'Applied Data Scientist, Government',\n",
       "       'Senior Data Scientist - Modeling',\n",
       "       'Data Scientist-Global People Analytics',\n",
       "       'Data Scientist - Washington DC', 'Data Scientist | Rider Growth',\n",
       "       'Intern, Data Engineer', 'Intern, Data Science',\n",
       "       '2019 Canon Insights Summer Internship - Data Science',\n",
       "       \"Data Scientist - Master's Entry Level Consultant - Atlanta\",\n",
       "       'Data Scientist- Zillow Offers', 'Data Science Internships',\n",
       "       'Sr Data Scientist', 'Data Science Intern',\n",
       "       'Geospatial Data Scientist', 'People Analytics Data Scientist',\n",
       "       'Data Scientist - COR Administration', 'Data Engineer',\n",
       "       'Senior Business Intelligence Data Engineer',\n",
       "       'Data Analytics Consultant', 'Behavioral Data Scientist',\n",
       "       'Data Scientist - SEA',\n",
       "       'Sr Data Scientist, NLP - Customer Obsession',\n",
       "       'Data Scientist (Forecasting)',\n",
       "       'Associate Data Scientist Internship - Customer Data & Analytics',\n",
       "       'Data Scientist, Advanced Marketing Analytics',\n",
       "       'Data Scientist - Oil and Gas', 'DATA SCIENTIST',\n",
       "       'Data Scientist (Machine Learning)',\n",
       "       'Data Scientist, Operations Data Science',\n",
       "       'Data Scientist Intern/Coop', 'Data Scientist, Sourcing Analytics',\n",
       "       'Senior Data Scientist (GEC11902)', 'CCS Data Scientist',\n",
       "       'Data Scientist | Rider Experience', 'Data Scientist - AVP',\n",
       "       'Data Science Engineer', 'Data Scientist, AR/VR',\n",
       "       'Senior Data Scientist, Trading Technologies',\n",
       "       'Principal Data Scientist - Telecommute',\n",
       "       'Data Scientist - Optimize',\n",
       "       '2019 University Graduate - Data Scientist - Marketplace',\n",
       "       'Data Scientist | Shared Rides',\n",
       "       'Data Scientist I - Agent Based Modeler (Java/Python)',\n",
       "       'Software Engineer/Data Scientist', 'Data Scientist (HCE)',\n",
       "       'Data Scientist Jr.', 'Data Scientist, Infrastructure',\n",
       "       'IBM Marketing PhD Data Scientist Intern, Summer 2019',\n",
       "       'Marketing Data Scientist',\n",
       "       'Senior Data Scientist - Analytics (f/m/d)',\n",
       "       'Security Data Scientist',\n",
       "       'Data Scientist, AMP Analytics & Data Products',\n",
       "       'Data Scientist, Clients', 'Data Analyst / Data Scientist',\n",
       "       'DATA SCIENTIST/ 40 HOURS/ DAYS/ BWH SLEEP MEDICINE',\n",
       "       'Intern, Data Scientist Cloud Platform', 'Analyst, Data Scientist',\n",
       "       'Data Scientist, Analytics',\n",
       "       'Data Scientist / Applied Mathematician',\n",
       "       'Senior Data Scientist (TS/SCI)',\n",
       "       'Data Scientist/Researcher (~25% profit sharing annually)',\n",
       "       '2019 PhD University Graduate - Data Scientist I/II - Applied Behavioral Science',\n",
       "       'Data Scientist- Machine Translation',\n",
       "       'Statistical Data Scientist', 'Data Scientist - Merch Scenarios',\n",
       "       'Product Data Scientist',\n",
       "       '2019 PhD University Graduate - Data Scientist I/II - Experimentation',\n",
       "       'Metagenomics Data Scientist (Scientist I/II)',\n",
       "       'Data Scientist (Outward, Inc.)', 'Data Scientist I-III',\n",
       "       'Manufacturing Data Scientist',\n",
       "       'Clinical Pharmacology Data Scientist',\n",
       "       'Sr. Data Scientist, Advanced Analytics',\n",
       "       'Data Scientist - Predictive Analytics',\n",
       "       'Data Scientist (Multiple Levels)',\n",
       "       'Sr. Data Scientist – Data for Insights Practice',\n",
       "       'Senior Data Scientist, Customer Experience',\n",
       "       'Data Scientist - Styling Algorithms',\n",
       "       'Data Scientist, Insights - CU108',\n",
       "       'Students Seeking Data Scientist Full Time Employment',\n",
       "       'Data Scientist, Seller', 'Data Scientist (Intern)',\n",
       "       'Data Scientist, Meta', 'Data Scientist, Pricing',\n",
       "       'Advisor: CCO Audience Strategy - Data Science',\n",
       "       'Senior Data Scientist, Machine Learning',\n",
       "       'Data Scientist (Subject Matter Expert)', 'Modeler/Data Scientist',\n",
       "       'Data Scientist, Analytics - Messenger Relevance',\n",
       "       'Lead Data Scientist', 'Data Scientist, Supply Chain Innovation',\n",
       "       'Data Scientist – Content Marketing Acquisition',\n",
       "       'Marketing Data Science Intern - Summer 2019',\n",
       "       'Data Analyst / Jr. Data Scientist',\n",
       "       'Data Scientist- Enterprise Product Analytics',\n",
       "       'Data Scientist - Delphi', 'Senior Data Science Engineer',\n",
       "       '2019 PhD Data Scientist Internship - Forecasting and Anomaly Detection Platform'],\n",
       "      dtype=object)"
      ]
     },
     "execution_count": 4,
     "metadata": {},
     "output_type": "execute_result"
    }
   ],
   "source": [
    "jobs['title'].unique()"
   ]
  },
  {
   "cell_type": "code",
   "execution_count": 5,
   "metadata": {},
   "outputs": [
    {
     "data": {
      "text/plain": [
       "'b\"<div><div>Job Requirements:</div><ul><li><p>\\\\nConceptual understanding in Machine Learning models like Nai\\\\xc2\\\\xa8ve Bayes, K-Means, SVM, Apriori, Linear/ Logistic Regression, Neural, Random Forests, Decision Trees, K-NN along with hands-on experience in at least 2 of them</p>\\\\n</li><li><p>Intermediate to expert level coding skills in Python/R. (Ability to write functions, clean and efficient data manipulation are mandatory for this role)</p>\\\\n</li><li><p>Exposure to packages like NumPy, SciPy, Pandas, Matplotlib etc in Python or GGPlot2, dplyr, tidyR in R</p>\\\\n</li><li><p>Ability to communicate Model findings to both Technical and Non-Technical stake holders</p>\\\\n</li><li><p>Hands on experience in SQL/Hive or similar programming language</p>\\\\n</li><li><p>Must show past work via GitHub, Kaggle or any other published article</p>\\\\n</li><li><p>Master\\'s degree in Statistics/Mathematics/Computer Science or any other quant specific field.</p></li></ul><div><div><div><div><div><div>\\\\nApply Now</div></div></div></div></div></div></div><div></div>\"'"
      ]
     },
     "execution_count": 5,
     "metadata": {},
     "output_type": "execute_result"
    }
   ],
   "source": [
    "jobs.iloc[0]['description']"
   ]
  },
  {
   "cell_type": "code",
   "execution_count": 21,
   "metadata": {},
   "outputs": [
    {
     "data": {
      "text/plain": [
       "\"<div><div>Job Requirements:</div><ul><li><p>\\nConceptual understanding in Machine Learning models like Nai¨ve Bayes, K-Means, SVM, Apriori, Linear/ Logistic Regression, Neural, Random Forests, Decision Trees, K-NN along with hands-on experience in at least 2 of them</p>\\n</li><li><p>Intermediate to expert level coding skills in Python/R. (Ability to write functions, clean and efficient data manipulation are mandatory for this role)</p>\\n</li><li><p>Exposure to packages like NumPy, SciPy, Pandas, Matplotlib etc in Python or GGPlot2, dplyr, tidyR in R</p>\\n</li><li><p>Ability to communicate Model findings to both Technical and Non-Technical stake holders</p>\\n</li><li><p>Hands on experience in SQL/Hive or similar programming language</p>\\n</li><li><p>Must show past work via GitHub, Kaggle or any other published article</p>\\n</li><li><p>Master's degree in Statistics/Mathematics/Computer Science or any other quant specific field.</p></li></ul><div><div><div><div><div><div>\\nApply Now</div></div></div></div></div></div></div><div></div>\""
      ]
     },
     "execution_count": 21,
     "metadata": {},
     "output_type": "execute_result"
    }
   ],
   "source": [
    "test_desc = jobs.iloc[0]['description']\n",
    "eval(test_desc).decode()"
   ]
  },
  {
   "cell_type": "code",
   "execution_count": 3,
   "metadata": {},
   "outputs": [
    {
     "name": "stdout",
     "output_type": "stream",
     "text": [
      "Job Requirements: Conceptual understanding in Machine Learning models like Nai¨ve Bayes, K-Means, SVM, Apriori, Linear/ Logistic Regression, Neural, Random Forests, Decision Trees, K-NN along with hands-on experience in at least 2 of them Intermediate to expert level coding skills in Python/R. (Ability to write functions, clean and efficient data manipulation are mandatory for this role) Exposure to packages like NumPy, SciPy, Pandas, Matplotlib etc in Python or GGPlot2, dplyr, tidyR in R Ability to communicate Model findings to both Technical and Non-Technical stake holders Hands on experience in SQL/Hive or similar programming language Must show past work via GitHub, Kaggle or any other published article Master's degree in Statistics/Mathematics/Computer Science or any other quant specific field. Apply Now\n"
     ]
    }
   ],
   "source": [
    "def soupify(x):\n",
    "    x = eval(x).decode()\n",
    "    x = BeautifulSoup(x, 'html.parser').get_text()\n",
    "    x = re.sub(r\"\\r?\\n\", ' ', x)\n",
    "    return x\n",
    "    \n",
    "descs = [soupify(x['description']) for _, x in jobs.iterrows()]\n",
    "print(descs[0])"
   ]
  },
  {
   "cell_type": "markdown",
   "metadata": {
    "colab_type": "text",
    "id": "5C4xFZNtX1m2"
   },
   "source": [
    "## 2) Use Spacy to tokenize the listings "
   ]
  },
  {
   "cell_type": "code",
   "execution_count": 21,
   "metadata": {
    "colab": {},
    "colab_type": "code",
    "id": "dhUHuMr-X-II"
   },
   "outputs": [],
   "source": [
    "nlp = spacy.load('en_core_web_lg')\n",
    "def tokenize(text):\n",
    "    text = re.sub(r'[^a-zA-Z ^0-9]', '', text)\n",
    "    doc = nlp(text)\n",
    "    tokens = [t.lemma_.lower() for t in doc if not t.is_stop and not t.is_punct]\n",
    "    return tokens"
   ]
  },
  {
   "cell_type": "markdown",
   "metadata": {
    "colab_type": "text",
    "id": "-lgCZNL_YycP"
   },
   "source": [
    "## 3) Use Scikit-Learn's CountVectorizer to get word counts for each listing."
   ]
  },
  {
   "cell_type": "code",
   "execution_count": 22,
   "metadata": {
    "colab": {},
    "colab_type": "code",
    "id": "X2PZ8Pj_YxcF"
   },
   "outputs": [
    {
     "data": {
      "text/plain": [
       "7923"
      ]
     },
     "execution_count": 22,
     "metadata": {},
     "output_type": "execute_result"
    }
   ],
   "source": [
    "cvect = CountVectorizer(tokenizer=tokenize)\n",
    "cvect.fit(descs)\n",
    "dtm = cvect.transform(descs)\n",
    "len(cvect.get_feature_names())"
   ]
  },
  {
   "cell_type": "code",
   "execution_count": 23,
   "metadata": {},
   "outputs": [
    {
     "data": {
      "text/html": [
       "<div>\n",
       "<style scoped>\n",
       "    .dataframe tbody tr th:only-of-type {\n",
       "        vertical-align: middle;\n",
       "    }\n",
       "\n",
       "    .dataframe tbody tr th {\n",
       "        vertical-align: top;\n",
       "    }\n",
       "\n",
       "    .dataframe thead th {\n",
       "        text-align: right;\n",
       "    }\n",
       "</style>\n",
       "<table border=\"1\" class=\"dataframe\">\n",
       "  <thead>\n",
       "    <tr style=\"text-align: right;\">\n",
       "      <th></th>\n",
       "      <th></th>\n",
       "      <th></th>\n",
       "      <th></th>\n",
       "      <th></th>\n",
       "      <th>-pron-</th>\n",
       "      <th>0</th>\n",
       "      <th>00</th>\n",
       "      <th>02</th>\n",
       "      <th>02115</th>\n",
       "      <th>03</th>\n",
       "      <th>...</th>\n",
       "      <th>zf</th>\n",
       "      <th>zfs</th>\n",
       "      <th>zheng</th>\n",
       "      <th>zillow</th>\n",
       "      <th>zogsport</th>\n",
       "      <th>zone</th>\n",
       "      <th>zoom</th>\n",
       "      <th>zuckerberg</th>\n",
       "      <th>zurich</th>\n",
       "      <th>zurichs</th>\n",
       "    </tr>\n",
       "  </thead>\n",
       "  <tbody>\n",
       "    <tr>\n",
       "      <th>0</th>\n",
       "      <td>0</td>\n",
       "      <td>0</td>\n",
       "      <td>0</td>\n",
       "      <td>0</td>\n",
       "      <td>0</td>\n",
       "      <td>0</td>\n",
       "      <td>0</td>\n",
       "      <td>0</td>\n",
       "      <td>0</td>\n",
       "      <td>0</td>\n",
       "      <td>...</td>\n",
       "      <td>0</td>\n",
       "      <td>0</td>\n",
       "      <td>0</td>\n",
       "      <td>0</td>\n",
       "      <td>0</td>\n",
       "      <td>0</td>\n",
       "      <td>0</td>\n",
       "      <td>0</td>\n",
       "      <td>0</td>\n",
       "      <td>0</td>\n",
       "    </tr>\n",
       "    <tr>\n",
       "      <th>1</th>\n",
       "      <td>7</td>\n",
       "      <td>0</td>\n",
       "      <td>0</td>\n",
       "      <td>0</td>\n",
       "      <td>0</td>\n",
       "      <td>0</td>\n",
       "      <td>0</td>\n",
       "      <td>0</td>\n",
       "      <td>0</td>\n",
       "      <td>0</td>\n",
       "      <td>...</td>\n",
       "      <td>0</td>\n",
       "      <td>0</td>\n",
       "      <td>0</td>\n",
       "      <td>0</td>\n",
       "      <td>0</td>\n",
       "      <td>0</td>\n",
       "      <td>0</td>\n",
       "      <td>0</td>\n",
       "      <td>0</td>\n",
       "      <td>0</td>\n",
       "    </tr>\n",
       "    <tr>\n",
       "      <th>2</th>\n",
       "      <td>1</td>\n",
       "      <td>0</td>\n",
       "      <td>0</td>\n",
       "      <td>0</td>\n",
       "      <td>0</td>\n",
       "      <td>0</td>\n",
       "      <td>0</td>\n",
       "      <td>0</td>\n",
       "      <td>0</td>\n",
       "      <td>0</td>\n",
       "      <td>...</td>\n",
       "      <td>0</td>\n",
       "      <td>0</td>\n",
       "      <td>0</td>\n",
       "      <td>0</td>\n",
       "      <td>0</td>\n",
       "      <td>0</td>\n",
       "      <td>0</td>\n",
       "      <td>0</td>\n",
       "      <td>0</td>\n",
       "      <td>0</td>\n",
       "    </tr>\n",
       "    <tr>\n",
       "      <th>3</th>\n",
       "      <td>5</td>\n",
       "      <td>0</td>\n",
       "      <td>0</td>\n",
       "      <td>0</td>\n",
       "      <td>0</td>\n",
       "      <td>0</td>\n",
       "      <td>0</td>\n",
       "      <td>0</td>\n",
       "      <td>0</td>\n",
       "      <td>0</td>\n",
       "      <td>...</td>\n",
       "      <td>0</td>\n",
       "      <td>0</td>\n",
       "      <td>1</td>\n",
       "      <td>0</td>\n",
       "      <td>0</td>\n",
       "      <td>0</td>\n",
       "      <td>0</td>\n",
       "      <td>0</td>\n",
       "      <td>0</td>\n",
       "      <td>0</td>\n",
       "    </tr>\n",
       "    <tr>\n",
       "      <th>4</th>\n",
       "      <td>1</td>\n",
       "      <td>0</td>\n",
       "      <td>0</td>\n",
       "      <td>0</td>\n",
       "      <td>0</td>\n",
       "      <td>0</td>\n",
       "      <td>0</td>\n",
       "      <td>0</td>\n",
       "      <td>0</td>\n",
       "      <td>0</td>\n",
       "      <td>...</td>\n",
       "      <td>0</td>\n",
       "      <td>0</td>\n",
       "      <td>0</td>\n",
       "      <td>0</td>\n",
       "      <td>0</td>\n",
       "      <td>0</td>\n",
       "      <td>0</td>\n",
       "      <td>0</td>\n",
       "      <td>0</td>\n",
       "      <td>0</td>\n",
       "    </tr>\n",
       "  </tbody>\n",
       "</table>\n",
       "<p>5 rows × 7923 columns</p>\n",
       "</div>"
      ],
      "text/plain": [
       "                     -pron-  0  00  02  02115  03  ...  zf  zfs  zheng  \\\n",
       "0  0   0    0     0       0  0   0   0      0   0  ...   0    0      0   \n",
       "1  7   0    0     0       0  0   0   0      0   0  ...   0    0      0   \n",
       "2  1   0    0     0       0  0   0   0      0   0  ...   0    0      0   \n",
       "3  5   0    0     0       0  0   0   0      0   0  ...   0    0      1   \n",
       "4  1   0    0     0       0  0   0   0      0   0  ...   0    0      0   \n",
       "\n",
       "   zillow  zogsport  zone  zoom  zuckerberg  zurich  zurichs  \n",
       "0       0         0     0     0           0       0        0  \n",
       "1       0         0     0     0           0       0        0  \n",
       "2       0         0     0     0           0       0        0  \n",
       "3       0         0     0     0           0       0        0  \n",
       "4       0         0     0     0           0       0        0  \n",
       "\n",
       "[5 rows x 7923 columns]"
      ]
     },
     "execution_count": 23,
     "metadata": {},
     "output_type": "execute_result"
    }
   ],
   "source": [
    "dtm = pd.DataFrame(dtm.todense(), columns=cvect.get_feature_names())\n",
    "dtm.head()"
   ]
  },
  {
   "cell_type": "code",
   "execution_count": 24,
   "metadata": {},
   "outputs": [
    {
     "data": {
      "text/plain": [
       "' '"
      ]
     },
     "execution_count": 24,
     "metadata": {},
     "output_type": "execute_result"
    }
   ],
   "source": [
    "# ಠ_ಠ\n",
    "dtm.columns[0]"
   ]
  },
  {
   "cell_type": "code",
   "execution_count": 25,
   "metadata": {},
   "outputs": [
    {
     "data": {
      "text/plain": [
       "(426, 7923)"
      ]
     },
     "execution_count": 25,
     "metadata": {},
     "output_type": "execute_result"
    }
   ],
   "source": [
    "dtm.shape"
   ]
  },
  {
   "cell_type": "markdown",
   "metadata": {
    "colab_type": "text",
    "id": "Zo1iH_UeY7_n"
   },
   "source": [
    "## 4) Visualize the most common word counts"
   ]
  },
  {
   "cell_type": "code",
   "execution_count": 42,
   "metadata": {
    "colab": {},
    "colab_type": "code",
    "id": "M5LB00uyZKV5"
   },
   "outputs": [
    {
     "data": {
      "text/plain": [
       "datum          1.000000\n",
       "               0.979942\n",
       "experience     0.558721\n",
       "work           0.475581\n",
       "team           0.396802\n",
       "business       0.358140\n",
       "science        0.279942\n",
       "product        0.256105\n",
       "model          0.248256\n",
       "data           0.242733\n",
       "analytic       0.240116\n",
       "analysis       0.233140\n",
       "skill          0.206105\n",
       "scientist      0.202907\n",
       "machine        0.200872\n",
       "build          0.184012\n",
       "develop        0.178779\n",
       "learning       0.177616\n",
       "solution       0.165988\n",
       "opportunity    0.165116\n",
       "dtype: float64"
      ]
     },
     "execution_count": 42,
     "metadata": {},
     "output_type": "execute_result"
    }
   ],
   "source": [
    "totes = dtm.sum().sort_values(ascending=False)\n",
    "normed = (totes - totes.min()) / (totes.max() - totes.min())\n",
    "top20 = normed[:20]\n",
    "top20"
   ]
  },
  {
   "cell_type": "code",
   "execution_count": 43,
   "metadata": {},
   "outputs": [
    {
     "data": {
      "image/png": "[encoded data removed]",
      "text/plain": [
       "<Figure size 432x288 with 1 Axes>"
      ]
     },
     "metadata": {
      "needs_background": "light"
     },
     "output_type": "display_data"
    }
   ],
   "source": [
    "import squarify\n",
    "squarify.plot(sizes=top20.values, label=top20.index, alpha=0.8)\n",
    "plt.axis('off')\n",
    "plt.show()"
   ]
  },
  {
   "cell_type": "markdown",
   "metadata": {
    "colab_type": "text",
    "id": "bwFsTqrVZMYi"
   },
   "source": [
    "## 5) Use Scikit-Learn's tfidfVectorizer to get a TF-IDF feature matrix"
   ]
  },
  {
   "cell_type": "code",
   "execution_count": 44,
   "metadata": {
    "colab": {},
    "colab_type": "code",
    "id": "-gx2gZCbl5Np"
   },
   "outputs": [
    {
     "data": {
      "text/html": [
       "<div>\n",
       "<style scoped>\n",
       "    .dataframe tbody tr th:only-of-type {\n",
       "        vertical-align: middle;\n",
       "    }\n",
       "\n",
       "    .dataframe tbody tr th {\n",
       "        vertical-align: top;\n",
       "    }\n",
       "\n",
       "    .dataframe thead th {\n",
       "        text-align: right;\n",
       "    }\n",
       "</style>\n",
       "<table border=\"1\" class=\"dataframe\">\n",
       "  <thead>\n",
       "    <tr style=\"text-align: right;\">\n",
       "      <th></th>\n",
       "      <th></th>\n",
       "      <th></th>\n",
       "      <th></th>\n",
       "      <th></th>\n",
       "      <th>-pron-</th>\n",
       "      <th>0</th>\n",
       "      <th>00</th>\n",
       "      <th>02</th>\n",
       "      <th>02115</th>\n",
       "      <th>03</th>\n",
       "      <th>...</th>\n",
       "      <th>zf</th>\n",
       "      <th>zfs</th>\n",
       "      <th>zheng</th>\n",
       "      <th>zillow</th>\n",
       "      <th>zogsport</th>\n",
       "      <th>zone</th>\n",
       "      <th>zoom</th>\n",
       "      <th>zuckerberg</th>\n",
       "      <th>zurich</th>\n",
       "      <th>zurichs</th>\n",
       "    </tr>\n",
       "  </thead>\n",
       "  <tbody>\n",
       "    <tr>\n",
       "      <th>0</th>\n",
       "      <td>0.000000</td>\n",
       "      <td>0.0</td>\n",
       "      <td>0.0</td>\n",
       "      <td>0.0</td>\n",
       "      <td>0.0</td>\n",
       "      <td>0.0</td>\n",
       "      <td>0.0</td>\n",
       "      <td>0.0</td>\n",
       "      <td>0.0</td>\n",
       "      <td>0.0</td>\n",
       "      <td>...</td>\n",
       "      <td>0.0</td>\n",
       "      <td>0.0</td>\n",
       "      <td>0.000000</td>\n",
       "      <td>0.0</td>\n",
       "      <td>0.0</td>\n",
       "      <td>0.0</td>\n",
       "      <td>0.0</td>\n",
       "      <td>0.0</td>\n",
       "      <td>0.0</td>\n",
       "      <td>0.0</td>\n",
       "    </tr>\n",
       "    <tr>\n",
       "      <th>1</th>\n",
       "      <td>0.106089</td>\n",
       "      <td>0.0</td>\n",
       "      <td>0.0</td>\n",
       "      <td>0.0</td>\n",
       "      <td>0.0</td>\n",
       "      <td>0.0</td>\n",
       "      <td>0.0</td>\n",
       "      <td>0.0</td>\n",
       "      <td>0.0</td>\n",
       "      <td>0.0</td>\n",
       "      <td>...</td>\n",
       "      <td>0.0</td>\n",
       "      <td>0.0</td>\n",
       "      <td>0.000000</td>\n",
       "      <td>0.0</td>\n",
       "      <td>0.0</td>\n",
       "      <td>0.0</td>\n",
       "      <td>0.0</td>\n",
       "      <td>0.0</td>\n",
       "      <td>0.0</td>\n",
       "      <td>0.0</td>\n",
       "    </tr>\n",
       "    <tr>\n",
       "      <th>2</th>\n",
       "      <td>0.046972</td>\n",
       "      <td>0.0</td>\n",
       "      <td>0.0</td>\n",
       "      <td>0.0</td>\n",
       "      <td>0.0</td>\n",
       "      <td>0.0</td>\n",
       "      <td>0.0</td>\n",
       "      <td>0.0</td>\n",
       "      <td>0.0</td>\n",
       "      <td>0.0</td>\n",
       "      <td>...</td>\n",
       "      <td>0.0</td>\n",
       "      <td>0.0</td>\n",
       "      <td>0.000000</td>\n",
       "      <td>0.0</td>\n",
       "      <td>0.0</td>\n",
       "      <td>0.0</td>\n",
       "      <td>0.0</td>\n",
       "      <td>0.0</td>\n",
       "      <td>0.0</td>\n",
       "      <td>0.0</td>\n",
       "    </tr>\n",
       "    <tr>\n",
       "      <th>3</th>\n",
       "      <td>0.092748</td>\n",
       "      <td>0.0</td>\n",
       "      <td>0.0</td>\n",
       "      <td>0.0</td>\n",
       "      <td>0.0</td>\n",
       "      <td>0.0</td>\n",
       "      <td>0.0</td>\n",
       "      <td>0.0</td>\n",
       "      <td>0.0</td>\n",
       "      <td>0.0</td>\n",
       "      <td>...</td>\n",
       "      <td>0.0</td>\n",
       "      <td>0.0</td>\n",
       "      <td>0.110027</td>\n",
       "      <td>0.0</td>\n",
       "      <td>0.0</td>\n",
       "      <td>0.0</td>\n",
       "      <td>0.0</td>\n",
       "      <td>0.0</td>\n",
       "      <td>0.0</td>\n",
       "      <td>0.0</td>\n",
       "    </tr>\n",
       "    <tr>\n",
       "      <th>4</th>\n",
       "      <td>0.082402</td>\n",
       "      <td>0.0</td>\n",
       "      <td>0.0</td>\n",
       "      <td>0.0</td>\n",
       "      <td>0.0</td>\n",
       "      <td>0.0</td>\n",
       "      <td>0.0</td>\n",
       "      <td>0.0</td>\n",
       "      <td>0.0</td>\n",
       "      <td>0.0</td>\n",
       "      <td>...</td>\n",
       "      <td>0.0</td>\n",
       "      <td>0.0</td>\n",
       "      <td>0.000000</td>\n",
       "      <td>0.0</td>\n",
       "      <td>0.0</td>\n",
       "      <td>0.0</td>\n",
       "      <td>0.0</td>\n",
       "      <td>0.0</td>\n",
       "      <td>0.0</td>\n",
       "      <td>0.0</td>\n",
       "    </tr>\n",
       "  </tbody>\n",
       "</table>\n",
       "<p>5 rows × 7923 columns</p>\n",
       "</div>"
      ],
      "text/plain": [
       "                             -pron-    0   00   02  02115   03  ...   zf  zfs  \\\n",
       "0  0.000000  0.0  0.0   0.0     0.0  0.0  0.0  0.0    0.0  0.0  ...  0.0  0.0   \n",
       "1  0.106089  0.0  0.0   0.0     0.0  0.0  0.0  0.0    0.0  0.0  ...  0.0  0.0   \n",
       "2  0.046972  0.0  0.0   0.0     0.0  0.0  0.0  0.0    0.0  0.0  ...  0.0  0.0   \n",
       "3  0.092748  0.0  0.0   0.0     0.0  0.0  0.0  0.0    0.0  0.0  ...  0.0  0.0   \n",
       "4  0.082402  0.0  0.0   0.0     0.0  0.0  0.0  0.0    0.0  0.0  ...  0.0  0.0   \n",
       "\n",
       "      zheng  zillow  zogsport  zone  zoom  zuckerberg  zurich  zurichs  \n",
       "0  0.000000     0.0       0.0   0.0   0.0         0.0     0.0      0.0  \n",
       "1  0.000000     0.0       0.0   0.0   0.0         0.0     0.0      0.0  \n",
       "2  0.000000     0.0       0.0   0.0   0.0         0.0     0.0      0.0  \n",
       "3  0.110027     0.0       0.0   0.0   0.0         0.0     0.0      0.0  \n",
       "4  0.000000     0.0       0.0   0.0   0.0         0.0     0.0      0.0  \n",
       "\n",
       "[5 rows x 7923 columns]"
      ]
     },
     "execution_count": 44,
     "metadata": {},
     "output_type": "execute_result"
    }
   ],
   "source": [
    "tfidf = TfidfVectorizer(tokenizer=tokenize)\n",
    "dtm2 = tfidf.fit_transform(descs)\n",
    "dtm2 = pd.DataFrame(dtm2.todense(), columns=tfidf.get_feature_names())\n",
    "dtm2.head()"
   ]
  },
  {
   "cell_type": "markdown",
   "metadata": {},
   "source": [
    "## 6) Create a NearestNeighbor Model. Write the description of your ideal datascience job and query your job listings. "
   ]
  },
  {
   "cell_type": "code",
   "execution_count": 45,
   "metadata": {
    "collapsed": false,
    "inputHidden": false,
    "jupyter": {
     "outputs_hidden": false
    },
    "outputHidden": false
   },
   "outputs": [
    {
     "data": {
      "text/plain": [
       "NearestNeighbors(algorithm='kd_tree', leaf_size=30, metric='minkowski',\n",
       "         metric_params=None, n_jobs=None, n_neighbors=5, p=2, radius=1.0)"
      ]
     },
     "execution_count": 45,
     "metadata": {},
     "output_type": "execute_result"
    }
   ],
   "source": [
    "from sklearn.neighbors import NearestNeighbors\n",
    "nn = NearestNeighbors(n_neighbors=5, algorithm='kd_tree')\n",
    "nn.fit(dtm2)"
   ]
  },
  {
   "cell_type": "code",
   "execution_count": 50,
   "metadata": {},
   "outputs": [
    {
     "data": {
      "text/plain": [
       "(array([[0.        , 1.28133075, 1.2912893 , 1.31052152, 1.31776653]]),\n",
       " array([[  0, 276, 274, 336, 115]]))"
      ]
     },
     "execution_count": 50,
     "metadata": {},
     "output_type": "execute_result"
    }
   ],
   "source": [
    "nn.kneighbors([dtm2.iloc[0].values])"
   ]
  },
  {
   "cell_type": "code",
   "execution_count": 55,
   "metadata": {},
   "outputs": [
    {
     "data": {
      "text/plain": [
       "\"Job Requirements: Conceptual understanding in Machine Learning models like Nai¨ve Bayes, K-Means, SVM, Apriori, Linear/ Logistic Regression, Neural, Random Forests, Decision Trees, K-NN along with hands-on experience in at least 2 of them Intermediate to expert level coding skills in Python/R. (Ability to write functions, clean and efficient data manipulation are mandatory for this role) Exposure to packages like NumPy, SciPy, Pandas, Matplotlib etc in Python or GGPlot2, dplyr, tidyR in R Ability to communicate Model findings to both Technical and Non-Technical stake holders Hands on experience in SQL/Hive or similar programming language Must show past work via GitHub, Kaggle or any other published article Master's degree in Statistics/Mathematics/Computer Science or any other quant specific field. Apply Now\""
      ]
     },
     "execution_count": 55,
     "metadata": {},
     "output_type": "execute_result"
    }
   ],
   "source": [
    "descs[0]"
   ]
  },
  {
   "cell_type": "code",
   "execution_count": 54,
   "metadata": {},
   "outputs": [
    {
     "data": {
      "text/plain": [
       "\"Facebook's mission is to give people the power to build community and bring the world closer together. Through our family of apps and services, we're building a different kind of company that connects billions of people around the world, gives them ways to share what matters most to them, and helps bring people closer together. Whether we're creating new products or helping a small business expand its reach, people at Facebook are builders at heart. Our global teams are constantly iterating, solving problems, and working together to empower people around the world to build community and connect in meaningful ways. Together, we can help people build stronger communities — we're just getting started. The Infrastructure Strategy group is responsible for the strategic analysis to support and enable the continued growth critical to Facebook’s infrastructure organization. The ideal candidate will be passionate about Facebook, have strong analytical and modeling aptitude and has experience using data to drive cost effective decision making.  RESPONSIBILITIES Leverage data and business principles to solve large-scale web, mobile and data infrastructure problems. Work cross-functionally to define problem statements, collect data, build analytical models and make recommendations. Build and maintain data driven optimization models, experiments, forecasting algorithms, and machine learning models. Leverage tools like Python, R, Hadoop & SQL to drive efficient analytics. Communicate final recommendations and drive decision making. MINIMUM QUALIFICATIONS Degree in quantitative field (e.g. Computer Science, Engineering, Mathematics, Statistics, Operations Research or other related field) 2+ years of industry or graduate research experience solving analytical problems and building models using quantitative, statistical or machine learning approaches Experience with Machine Learning, Statistics, or other data analysis tools and techniques Experience performing data extraction, cleaning, analysis and presentation for medium to large datasets Experience with at least one programming language (i.e. Python, R, Java, or C++) Experience writing SQL queries Experience with scientific computing and analysis packages such as NumPy, SciPy, Pandas, Scikit-learn, dplyr, or ggplot2 Experience with statistics methods such as forecasting, time series, hypothesis testing, classification, clustering or regression analysis Experience with data visualization libraries such as Matplotlib, Pyplot, ggplot2 Experience with machine learning libraries and packages such as PyTorch, Caffe2, TensorFlow, Keras or Theano PREFERRED QUALIFICATIONS Advanced degree (Master’s or PhD) in quantitative field Experience working with distributed computing tools (Hadoop, Hive, Spark, etc.) Proficiency in algorithmic complexity\""
      ]
     },
     "execution_count": 54,
     "metadata": {},
     "output_type": "execute_result"
    }
   ],
   "source": [
    "descs[276]"
   ]
  },
  {
   "cell_type": "code",
   "execution_count": 51,
   "metadata": {},
   "outputs": [
    {
     "data": {
      "text/plain": [
       "(array([[1.31907628, 1.33488155, 1.35383406, 1.35383406, 1.36222715]]),\n",
       " array([[180, 235,  13,   6, 130]]))"
      ]
     },
     "execution_count": 51,
     "metadata": {},
     "output_type": "execute_result"
    }
   ],
   "source": [
    "ideal = tfidf.transform(['Foolhardy adventurer needed to fill seat'])\n",
    "nn.kneighbors(ideal.todense())"
   ]
  },
  {
   "cell_type": "code",
   "execution_count": 56,
   "metadata": {},
   "outputs": [
    {
     "data": {
      "text/plain": [
       "'Contract6 month contract to hire position. Green Card/US Citizenship is required for this position.  We are looking for individuals to fill the role of Data Scientist on our model development team. This team builds the machine learning algorithms that identify and extract valuable information from client’s legal contracts.  The primary responsibilities include:  Using machine learning and other AI techniques to design, implement, and improve upon strategies to identify and extract important information from documents Working closely with business subject matter experts to gain an intimate understanding of both the structure and content of various document types Using data science effectively to answer business questions in an applied way  Required Qualifications   BS, MS, or PhD in Computer Science, Mathematics, Engineering, or related. Excellent Python development skills Experience in the application of Machine Learning to real-world business problems Experience in Computational Linguistics, Natural Language Processing (NLP), or related field(s) Excellent communication skills, both verbal and written Passionate, self-motivated, problem solver  Bonus Qualifications   Experience with relational and graph database technologies Experience with cloud architectures and devops  '"
      ]
     },
     "execution_count": 56,
     "metadata": {},
     "output_type": "execute_result"
    }
   ],
   "source": [
    "descs[180]"
   ]
  },
  {
   "cell_type": "markdown",
   "metadata": {
    "colab_type": "text",
    "id": "FiDfTWceoRkH"
   },
   "source": [
    "## Stretch Goals\n",
    "\n",
    " - Try different visualizations for words and frequencies - what story do you want to tell with the data?\n",
    " - Scrape Job Listings for the job title \"Data Analyst\". How do these differ from Data Scientist Job Listings\n",
    " - Try and identify requirements for experience specific technologies that are asked for in the job listings. How are those distributed among the job listings?\n",
    " - Use a clustering algorithm to cluster documents by their most important terms. Do the clusters reveal any common themes?\n",
    "  - **Hint:** K-means might not be the best algorithm for this. Do a little bit of research to see what might be good for this. Also, remember that algorithms that depend on Euclidean distance break down with high dimensional data.\n",
    " - Create a labeled dataset - which jobs will you apply for? Train a model to select the jobs you are most likely to apply for. :) "
   ]
  }
 ],
 "metadata": {
  "colab": {
   "collapsed_sections": [],
   "name": "LS_DS_422_BOW_Assignment.ipynb",
   "provenance": [],
   "version": "0.3.2"
  },
  "kernel_info": {
   "name": "python3"
  },
  "kernelspec": {
   "display_name": "Python [conda env:u4s1nlp]",
   "language": "python",
   "name": "conda-env-u4s1nlp-py"
  },
  "language_info": {
   "codemirror_mode": {
    "name": "ipython",
    "version": 3
   },
   "file_extension": ".py",
   "mimetype": "text/x-python",
   "name": "python",
   "nbconvert_exporter": "python",
   "pygments_lexer": "ipython3",
   "version": "3.7.0"
  },
  "nteract": {
   "version": "0.14.3"
  }
 },
 "nbformat": 4,
 "nbformat_minor": 4
}
