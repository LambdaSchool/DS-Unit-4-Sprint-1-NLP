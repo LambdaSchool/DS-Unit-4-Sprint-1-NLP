{
 "cells": [
  {
   "cell_type": "markdown",
   "metadata": {},
   "source": [
    "<img align=\"left\" src=\"https://lever-client-logos.s3.amazonaws.com/864372b1-534c-480e-acd5-9711f850815c-1524247202159.png\" width=200>\n",
    "<br></br>\n",
    "\n",
    "# Vector Representations\n",
    "## *Data Science Unit 4 Sprint 2 Assignment 2*"
   ]
  },
  {
   "cell_type": "code",
   "execution_count": 4,
   "metadata": {
    "colab": {
     "base_uri": "https://localhost:8080/",
     "height": 159
    },
    "colab_type": "code",
    "id": "hyj-f9FDcVFp",
    "outputId": "5dd045fe-6e4c-458c-e2fc-253c3da9c805"
   },
   "outputs": [],
   "source": [
    "import re\n",
    "import string\n",
    "from sklearn.feature_extraction.text import CountVectorizer, TfidfVectorizer\n",
    "import matplotlib.pyplot as plt\n",
    "import pandas as pd\n",
    "import numpy as np\n",
    "import spacy"
   ]
  },
  {
   "cell_type": "markdown",
   "metadata": {
    "colab_type": "text",
    "id": "M7bcmqfGXrFG"
   },
   "source": [
    "## 1) *Clean:* Job Listings from indeed.com that contain the title \"Data Scientist\" \n",
    "\n",
    "You have `job_listings.csv` in the data folder for this module. The text data in the description column is still messy - full of html tags. Use the [BeautifulSoup](https://www.crummy.com/software/BeautifulSoup/bs4/doc/) library to clean up this column. You will need to read thru the documentation to accomplish this task. \n",
    "\n",
    "`Tip:` You will need to install the `bs4` library inside your conda environment. "
   ]
  },
  {
   "cell_type": "code",
   "execution_count": 20,
   "metadata": {
    "colab": {},
    "colab_type": "code",
    "id": "KcYlc1URXhlC"
   },
   "outputs": [],
   "source": [
    "from bs4 import BeautifulSoup\n",
    "import requests\n",
    "\n",
    "##### Your Code Here #####\n",
    "df = pd.read_csv('./data/job_listings.csv')\n",
    "nlp = spacy.load(\"en_core_web_lg\")"
   ]
  },
  {
   "cell_type": "code",
   "execution_count": 27,
   "metadata": {},
   "outputs": [],
   "source": [
    "df['clean_description'] = df['description'].apply(lambda x: BeautifulSoup(x)\n",
    "                                                  .get_text(strip=True)   #clear html tags\n",
    "                                                  .replace('\\\\n', '') #remove new line markers\n",
    "                                                  .replace(\"b\\''\", '')\n",
    "                                                  .replace('\\\\xc2\\\\xa8ve', '') #remove this junk\n",
    "#         '''BELOW FROM GITHUB'''\n",
    "    .replace('\\\\xe2\\\\x80\\\\x99', \"'\").\n",
    "            replace('\\\\xc3\\\\xa9', 'e').\n",
    "            replace('\\\\xe2\\\\x80\\\\x90', '-').\n",
    "            replace('\\\\xe2\\\\x80\\\\x91', '-').\n",
    "            replace('\\\\xe2\\\\x80\\\\x92', '-').\n",
    "            replace('\\\\xe2\\\\x80\\\\x93', '-').\n",
    "            replace('\\\\xe2\\\\x80\\\\x94', '-').\n",
    "            replace('\\\\xe2\\\\x80\\\\x94', '-').\n",
    "            replace('\\\\xe2\\\\x80\\\\x98', \"'\").\n",
    "            replace('\\\\xe2\\\\x80\\\\x9b', \"'\").\n",
    "            replace('\\\\xe2\\\\x80\\\\x9c', '\"').\n",
    "            replace('\\\\xe2\\\\x80\\\\x9c', '\"').\n",
    "            replace('\\\\xe2\\\\x80\\\\x9d', '\"').\n",
    "            replace('\\\\xe2\\\\x80\\\\x9e', '\"').\n",
    "            replace('\\\\xe2\\\\x80\\\\x9f', '\"').\n",
    "            replace('\\\\xe2\\\\x80\\\\xa6', '...').#\n",
    "            replace('\\\\xe2\\\\x80\\\\xb2', \"'\").\n",
    "            replace('\\\\xe2\\\\x80\\\\xb3', \"'\").\n",
    "            replace('\\\\xe2\\\\x80\\\\xb4', \"'\").\n",
    "            replace('\\\\xe2\\\\x80\\\\xb5', \"'\").\n",
    "            replace('\\\\xe2\\\\x80\\\\xb6', \"'\").\n",
    "            replace('\\\\xe2\\\\x80\\\\xb7', \"'\").\n",
    "            replace('\\\\xe2\\\\x81\\\\xba', \"+\").\n",
    "            replace('\\\\xe2\\\\x81\\\\xbb', \"-\").\n",
    "            replace('\\\\xe2\\\\x81\\\\xbc', \"=\").\n",
    "            replace('\\\\xe2\\\\x81\\\\xbd', \"(\").\n",
    "            replace('\\\\xe2\\\\x81\\\\xbe', \")\"))\n"
   ]
  },
  {
   "cell_type": "code",
   "execution_count": 28,
   "metadata": {},
   "outputs": [
    {
     "data": {
      "text/plain": [
       "'b\\'Job DescriptionAs a Data Scientist 1, you will help us build machine learning models, data pipelines, and micro-services to help our clients navigate their healthcare journey. You will do so by empowering and improving the next generation of Accolade Applications and user experiences.A day in the life...Work with a small agile team to design and develop mobile applications in an iterative fashion.Work with a tight-knit group of development team members in Seattle.Contribute to best practices and help guide the future of our applications.Operates effectively as a collaborative member of the development team.Operates effectively as an individual for quick turnaround of enhancements and fixes.Responsible for meeting expectations and deliverables on time with high quality.Drive and implement new features within our mobile applications.Perform thorough manual testing and writing test cases that cover all areas.Identify new development tools/approaches that will increase code quality, efficiency, and best practices.Develop and champion the the development processes, coding style guidelines, and architectural designs necessary to innovate and maintain great product quality.Effectively turns design documents and graphics into performant, usable UI.Demonstrates creative, technical, and analytical skills.Demonstrates ability to communicate effectively in both technical and business environmentsQualificationsWhat we are looking for...Master\\'s Degree in Computer Science, Math, or related field.Computer Science fundamentals, as illustrated through algorithm design, problem solving, and complexity analysis.Must have 1+ year real-world experience developing and deploying micro-services or data pipelinesMust have a fundamental understanding of key machine learning concepts, such as accuracy measures, cross-validation, and open source machine learning librariesFluent in Python and SQLProficient with writing unit/functional tests and familiar with automation frameworksExperience with cloud infrastructure, such as AWS or Azure, is a plus.Experience with distributed data pipelines, such as a Spark, is a plus.Strong written and oral communication skills.Desire and willingness to work in an Agile, collaborative, innovative, flexible, and team-oriented environmentHands-on, detail-oriented, methodical & inquisitiveA motivated self-starter with a solid level of experience that quickly grasps complex challengesA skillful communicator with experience working with technical management teams A service oriented person who thinks \"Customer First\"Fast fail entrepreneurial spiritThrives in a fast-paced environment where continuous improvement is the norm and the bar for quality is extremely highExcited by the challenges of working in a product team undergoing rapid, international growthAdditional InformationWhat is important to usCreating an enduring company that is hyper-focused on our culture and making a meaningful impact in the lives of our employees, members and customers. The secret to our success is:We find joy and purpose in serving othersMaking a difference in our members\\' and customers\\' lives is what we do. Even when it\\'s hard, we do the right thing for the right reasons.We are strong individually and together, we\\'re powerfulTrusting in our colleagues and embracing their different backgrounds and experiences enable us to solve tough problems in creative ways, having fun along the way.We roll up our sleeves and get stuff doneResults motivate us. And we aren\\\\\\'t afraid of the hard work or tough decisions needed to get us there.We\\'re boldly and relentlessly reinventing healthcareWe\\\\\\'re curious and act big - not afraid to knock down barriers or take calculated risks to change the world, one person at a time.All your information will be kept confidential according to EEO guidelines.\\''"
      ]
     },
     "execution_count": 28,
     "metadata": {},
     "output_type": "execute_result"
    }
   ],
   "source": [
    "df['clean_description'][1]"
   ]
  },
  {
   "cell_type": "markdown",
   "metadata": {
    "colab_type": "text",
    "id": "5C4xFZNtX1m2"
   },
   "source": [
    "## 2) Use Spacy to tokenize the listings "
   ]
  },
  {
   "cell_type": "code",
   "execution_count": 34,
   "metadata": {
    "colab": {},
    "colab_type": "code",
    "id": "dhUHuMr-X-II"
   },
   "outputs": [],
   "source": [
    "##### Your Code Here #####\n",
    "df['tokens'] = [nlp(text) for text in df['clean_description']]\n",
    "df['tokens'] = [[token.lemma_ for token in doc if (token.is_stop != True) and (token.is_punct != True)]\n",
    "                for doc in df['tokens']]"
   ]
  },
  {
   "cell_type": "markdown",
   "metadata": {
    "colab_type": "text",
    "id": "-lgCZNL_YycP"
   },
   "source": [
    "## 3) Use Scikit-Learn's CountVectorizer to get word counts for each listing."
   ]
  },
  {
   "cell_type": "code",
   "execution_count": 87,
   "metadata": {
    "colab": {},
    "colab_type": "code",
    "id": "X2PZ8Pj_YxcF"
   },
   "outputs": [],
   "source": [
    "##### Your Code Here #####\n",
    "vect = CountVectorizer(max_df=.97,\n",
    "                       stop_words='english')\n",
    "#fit countvectorizer with total corpora\n",
    "vect.fit(df['clean_description'])\n",
    "#create numpy array of counts\n",
    "dtm = vect.transform(df['clean_description'])\n",
    "#convert to DF\n",
    "dtm = pd.DataFrame(dtm.todense(), columns=vect.get_feature_names())"
   ]
  },
  {
   "cell_type": "markdown",
   "metadata": {
    "colab_type": "text",
    "id": "Zo1iH_UeY7_n"
   },
   "source": [
    "## 4) Visualize the most common word counts"
   ]
  },
  {
   "cell_type": "code",
   "execution_count": 88,
   "metadata": {
    "colab": {},
    "colab_type": "code",
    "id": "M5LB00uyZKV5"
   },
   "outputs": [
    {
     "data": {
      "text/html": [
       "<div>\n",
       "<style scoped>\n",
       "    .dataframe tbody tr th:only-of-type {\n",
       "        vertical-align: middle;\n",
       "    }\n",
       "\n",
       "    .dataframe tbody tr th {\n",
       "        vertical-align: top;\n",
       "    }\n",
       "\n",
       "    .dataframe thead th {\n",
       "        text-align: right;\n",
       "    }\n",
       "</style>\n",
       "<table border=\"1\" class=\"dataframe\">\n",
       "  <thead>\n",
       "    <tr style=\"text-align: right;\">\n",
       "      <th></th>\n",
       "      <th>00</th>\n",
       "      <th>000</th>\n",
       "      <th>000pay</th>\n",
       "      <th>02115job</th>\n",
       "      <th>03</th>\n",
       "      <th>0356</th>\n",
       "      <th>04</th>\n",
       "      <th>062</th>\n",
       "      <th>06366</th>\n",
       "      <th>08</th>\n",
       "      <th>...</th>\n",
       "      <th>zenreach</th>\n",
       "      <th>zero</th>\n",
       "      <th>zeus</th>\n",
       "      <th>zf</th>\n",
       "      <th>zheng</th>\n",
       "      <th>zillow</th>\n",
       "      <th>zonesability</th>\n",
       "      <th>zoom</th>\n",
       "      <th>zuckerberg</th>\n",
       "      <th>zurich</th>\n",
       "    </tr>\n",
       "  </thead>\n",
       "  <tbody>\n",
       "    <tr>\n",
       "      <th>0</th>\n",
       "      <td>0</td>\n",
       "      <td>0</td>\n",
       "      <td>0</td>\n",
       "      <td>0</td>\n",
       "      <td>0</td>\n",
       "      <td>0</td>\n",
       "      <td>0</td>\n",
       "      <td>0</td>\n",
       "      <td>0</td>\n",
       "      <td>0</td>\n",
       "      <td>...</td>\n",
       "      <td>0</td>\n",
       "      <td>0</td>\n",
       "      <td>0</td>\n",
       "      <td>0</td>\n",
       "      <td>0</td>\n",
       "      <td>0</td>\n",
       "      <td>0</td>\n",
       "      <td>0</td>\n",
       "      <td>0</td>\n",
       "      <td>0</td>\n",
       "    </tr>\n",
       "    <tr>\n",
       "      <th>1</th>\n",
       "      <td>0</td>\n",
       "      <td>0</td>\n",
       "      <td>0</td>\n",
       "      <td>0</td>\n",
       "      <td>0</td>\n",
       "      <td>0</td>\n",
       "      <td>0</td>\n",
       "      <td>0</td>\n",
       "      <td>0</td>\n",
       "      <td>0</td>\n",
       "      <td>...</td>\n",
       "      <td>0</td>\n",
       "      <td>0</td>\n",
       "      <td>0</td>\n",
       "      <td>0</td>\n",
       "      <td>0</td>\n",
       "      <td>0</td>\n",
       "      <td>0</td>\n",
       "      <td>0</td>\n",
       "      <td>0</td>\n",
       "      <td>0</td>\n",
       "    </tr>\n",
       "    <tr>\n",
       "      <th>2</th>\n",
       "      <td>0</td>\n",
       "      <td>0</td>\n",
       "      <td>0</td>\n",
       "      <td>0</td>\n",
       "      <td>0</td>\n",
       "      <td>0</td>\n",
       "      <td>0</td>\n",
       "      <td>0</td>\n",
       "      <td>0</td>\n",
       "      <td>0</td>\n",
       "      <td>...</td>\n",
       "      <td>0</td>\n",
       "      <td>0</td>\n",
       "      <td>0</td>\n",
       "      <td>0</td>\n",
       "      <td>0</td>\n",
       "      <td>0</td>\n",
       "      <td>0</td>\n",
       "      <td>0</td>\n",
       "      <td>0</td>\n",
       "      <td>0</td>\n",
       "    </tr>\n",
       "    <tr>\n",
       "      <th>3</th>\n",
       "      <td>0</td>\n",
       "      <td>0</td>\n",
       "      <td>0</td>\n",
       "      <td>0</td>\n",
       "      <td>0</td>\n",
       "      <td>0</td>\n",
       "      <td>0</td>\n",
       "      <td>0</td>\n",
       "      <td>0</td>\n",
       "      <td>0</td>\n",
       "      <td>...</td>\n",
       "      <td>0</td>\n",
       "      <td>0</td>\n",
       "      <td>0</td>\n",
       "      <td>0</td>\n",
       "      <td>1</td>\n",
       "      <td>0</td>\n",
       "      <td>0</td>\n",
       "      <td>0</td>\n",
       "      <td>0</td>\n",
       "      <td>0</td>\n",
       "    </tr>\n",
       "    <tr>\n",
       "      <th>4</th>\n",
       "      <td>0</td>\n",
       "      <td>0</td>\n",
       "      <td>0</td>\n",
       "      <td>0</td>\n",
       "      <td>0</td>\n",
       "      <td>0</td>\n",
       "      <td>0</td>\n",
       "      <td>0</td>\n",
       "      <td>0</td>\n",
       "      <td>0</td>\n",
       "      <td>...</td>\n",
       "      <td>0</td>\n",
       "      <td>0</td>\n",
       "      <td>0</td>\n",
       "      <td>0</td>\n",
       "      <td>0</td>\n",
       "      <td>0</td>\n",
       "      <td>0</td>\n",
       "      <td>0</td>\n",
       "      <td>0</td>\n",
       "      <td>0</td>\n",
       "    </tr>\n",
       "  </tbody>\n",
       "</table>\n",
       "<p>5 rows × 11782 columns</p>\n",
       "</div>"
      ],
      "text/plain": [
       "   00  000  000pay  02115job  03  0356  04  062  06366  08  ...  zenreach  \\\n",
       "0   0    0       0         0   0     0   0    0      0   0  ...         0   \n",
       "1   0    0       0         0   0     0   0    0      0   0  ...         0   \n",
       "2   0    0       0         0   0     0   0    0      0   0  ...         0   \n",
       "3   0    0       0         0   0     0   0    0      0   0  ...         0   \n",
       "4   0    0       0         0   0     0   0    0      0   0  ...         0   \n",
       "\n",
       "   zero  zeus  zf  zheng  zillow  zonesability  zoom  zuckerberg  zurich  \n",
       "0     0     0   0      0       0             0     0           0       0  \n",
       "1     0     0   0      0       0             0     0           0       0  \n",
       "2     0     0   0      0       0             0     0           0       0  \n",
       "3     0     0   0      1       0             0     0           0       0  \n",
       "4     0     0   0      0       0             0     0           0       0  \n",
       "\n",
       "[5 rows x 11782 columns]"
      ]
     },
     "execution_count": 88,
     "metadata": {},
     "output_type": "execute_result"
    }
   ],
   "source": [
    "##### Your Code Here #####\n",
    "dtm.head()"
   ]
  },
  {
   "cell_type": "code",
   "execution_count": 90,
   "metadata": {},
   "outputs": [
    {
     "data": {
      "text/plain": [
       "Text(0.5, 1.0, 'Top 10 Most Common Job Description Keywods')"
      ]
     },
     "execution_count": 90,
     "metadata": {},
     "output_type": "execute_result"
    },
    {
     "data": {
      "image/png": "[encoded data removed]",
      "text/plain": [
       "<Figure size 432x288 with 1 Axes>"
      ]
     },
     "metadata": {
      "needs_background": "light"
     },
     "output_type": "display_data"
    }
   ],
   "source": [
    "dtm.sum().sort_values(ascending=False)[:10].plot.bar()\n",
    "plt.title('Top 10 Most Common Job Description Keywords')"
   ]
  },
  {
   "cell_type": "markdown",
   "metadata": {
    "colab_type": "text",
    "id": "bwFsTqrVZMYi"
   },
   "source": [
    "## 5) Use Scikit-Learn's tfidfVectorizer to get a TF-IDF feature matrix"
   ]
  },
  {
   "cell_type": "code",
   "execution_count": 91,
   "metadata": {},
   "outputs": [],
   "source": [
    "def tokenize(document):\n",
    "    doc = nlp(document)\n",
    "    return [token.lemma_.strip() for token in doc if (token.is_stop == False) and (token.is_punct == False)]"
   ]
  },
  {
   "cell_type": "code",
   "execution_count": 94,
   "metadata": {
    "colab": {},
    "colab_type": "code",
    "id": "-gx2gZCbl5Np"
   },
   "outputs": [],
   "source": [
    "##### Your Code Here #####\n",
    "tfidf = TfidfVectorizer(max_df=.97,\n",
    "                        stop_words='english',\n",
    "                        ngram_range=(1,2),\n",
    "                        tokenizer=tokenize)\n",
    "\n",
    "tfidf.fit(df['clean_description'])\n",
    "dtm = tfidf.transform(df['clean_description'])\n",
    "dtm = pd.DataFrame(dtm.todense(), columns=tfidf.get_feature_names())"
   ]
  },
  {
   "cell_type": "code",
   "execution_count": 95,
   "metadata": {},
   "outputs": [
    {
     "data": {
      "text/html": [
       "<div>\n",
       "<style scoped>\n",
       "    .dataframe tbody tr th:only-of-type {\n",
       "        vertical-align: middle;\n",
       "    }\n",
       "\n",
       "    .dataframe tbody tr th {\n",
       "        vertical-align: top;\n",
       "    }\n",
       "\n",
       "    .dataframe thead th {\n",
       "        text-align: right;\n",
       "    }\n",
       "</style>\n",
       "<table border=\"1\" class=\"dataframe\">\n",
       "  <thead>\n",
       "    <tr style=\"text-align: right;\">\n",
       "      <th></th>\n",
       "      <th>$</th>\n",
       "      <th>$ 1,000</th>\n",
       "      <th>$ 1.66</th>\n",
       "      <th>$ 10</th>\n",
       "      <th>$ 100,000</th>\n",
       "      <th>$ 100,908</th>\n",
       "      <th>$ 10b</th>\n",
       "      <th>$ 110k</th>\n",
       "      <th>$ 125,000</th>\n",
       "      <th>$ 126,062</th>\n",
       "      <th>...</th>\n",
       "      <th>|| santa</th>\n",
       "      <th>|| serveng</th>\n",
       "      <th>|| unite</th>\n",
       "      <th>|| ||</th>\n",
       "      <th>~$70</th>\n",
       "      <th>~$70 million</th>\n",
       "      <th>~1</th>\n",
       "      <th>~1 year)you</th>\n",
       "      <th>~4</th>\n",
       "      <th>~4 week</th>\n",
       "    </tr>\n",
       "  </thead>\n",
       "  <tbody>\n",
       "    <tr>\n",
       "      <th>0</th>\n",
       "      <td>0.000000</td>\n",
       "      <td>0.0</td>\n",
       "      <td>0.0</td>\n",
       "      <td>0.0</td>\n",
       "      <td>0.0</td>\n",
       "      <td>0.0</td>\n",
       "      <td>0.0</td>\n",
       "      <td>0.0</td>\n",
       "      <td>0.0</td>\n",
       "      <td>0.0</td>\n",
       "      <td>...</td>\n",
       "      <td>0.0</td>\n",
       "      <td>0.0</td>\n",
       "      <td>0.0</td>\n",
       "      <td>0.0</td>\n",
       "      <td>0.0</td>\n",
       "      <td>0.0</td>\n",
       "      <td>0.0</td>\n",
       "      <td>0.0</td>\n",
       "      <td>0.0</td>\n",
       "      <td>0.0</td>\n",
       "    </tr>\n",
       "    <tr>\n",
       "      <th>1</th>\n",
       "      <td>0.000000</td>\n",
       "      <td>0.0</td>\n",
       "      <td>0.0</td>\n",
       "      <td>0.0</td>\n",
       "      <td>0.0</td>\n",
       "      <td>0.0</td>\n",
       "      <td>0.0</td>\n",
       "      <td>0.0</td>\n",
       "      <td>0.0</td>\n",
       "      <td>0.0</td>\n",
       "      <td>...</td>\n",
       "      <td>0.0</td>\n",
       "      <td>0.0</td>\n",
       "      <td>0.0</td>\n",
       "      <td>0.0</td>\n",
       "      <td>0.0</td>\n",
       "      <td>0.0</td>\n",
       "      <td>0.0</td>\n",
       "      <td>0.0</td>\n",
       "      <td>0.0</td>\n",
       "      <td>0.0</td>\n",
       "    </tr>\n",
       "    <tr>\n",
       "      <th>2</th>\n",
       "      <td>0.000000</td>\n",
       "      <td>0.0</td>\n",
       "      <td>0.0</td>\n",
       "      <td>0.0</td>\n",
       "      <td>0.0</td>\n",
       "      <td>0.0</td>\n",
       "      <td>0.0</td>\n",
       "      <td>0.0</td>\n",
       "      <td>0.0</td>\n",
       "      <td>0.0</td>\n",
       "      <td>...</td>\n",
       "      <td>0.0</td>\n",
       "      <td>0.0</td>\n",
       "      <td>0.0</td>\n",
       "      <td>0.0</td>\n",
       "      <td>0.0</td>\n",
       "      <td>0.0</td>\n",
       "      <td>0.0</td>\n",
       "      <td>0.0</td>\n",
       "      <td>0.0</td>\n",
       "      <td>0.0</td>\n",
       "    </tr>\n",
       "    <tr>\n",
       "      <th>3</th>\n",
       "      <td>0.102228</td>\n",
       "      <td>0.0</td>\n",
       "      <td>0.0</td>\n",
       "      <td>0.0</td>\n",
       "      <td>0.0</td>\n",
       "      <td>0.0</td>\n",
       "      <td>0.0</td>\n",
       "      <td>0.0</td>\n",
       "      <td>0.0</td>\n",
       "      <td>0.0</td>\n",
       "      <td>...</td>\n",
       "      <td>0.0</td>\n",
       "      <td>0.0</td>\n",
       "      <td>0.0</td>\n",
       "      <td>0.0</td>\n",
       "      <td>0.0</td>\n",
       "      <td>0.0</td>\n",
       "      <td>0.0</td>\n",
       "      <td>0.0</td>\n",
       "      <td>0.0</td>\n",
       "      <td>0.0</td>\n",
       "    </tr>\n",
       "    <tr>\n",
       "      <th>4</th>\n",
       "      <td>0.000000</td>\n",
       "      <td>0.0</td>\n",
       "      <td>0.0</td>\n",
       "      <td>0.0</td>\n",
       "      <td>0.0</td>\n",
       "      <td>0.0</td>\n",
       "      <td>0.0</td>\n",
       "      <td>0.0</td>\n",
       "      <td>0.0</td>\n",
       "      <td>0.0</td>\n",
       "      <td>...</td>\n",
       "      <td>0.0</td>\n",
       "      <td>0.0</td>\n",
       "      <td>0.0</td>\n",
       "      <td>0.0</td>\n",
       "      <td>0.0</td>\n",
       "      <td>0.0</td>\n",
       "      <td>0.0</td>\n",
       "      <td>0.0</td>\n",
       "      <td>0.0</td>\n",
       "      <td>0.0</td>\n",
       "    </tr>\n",
       "  </tbody>\n",
       "</table>\n",
       "<p>5 rows × 79422 columns</p>\n",
       "</div>"
      ],
      "text/plain": [
       "          $  $ 1,000  $ 1.66  $ 10  $ 100,000  $ 100,908  $ 10b  $ 110k  \\\n",
       "0  0.000000      0.0     0.0   0.0        0.0        0.0    0.0     0.0   \n",
       "1  0.000000      0.0     0.0   0.0        0.0        0.0    0.0     0.0   \n",
       "2  0.000000      0.0     0.0   0.0        0.0        0.0    0.0     0.0   \n",
       "3  0.102228      0.0     0.0   0.0        0.0        0.0    0.0     0.0   \n",
       "4  0.000000      0.0     0.0   0.0        0.0        0.0    0.0     0.0   \n",
       "\n",
       "   $ 125,000  $ 126,062  ...  || santa  || serveng  || unite  || ||  ~$70  \\\n",
       "0        0.0        0.0  ...       0.0         0.0       0.0    0.0   0.0   \n",
       "1        0.0        0.0  ...       0.0         0.0       0.0    0.0   0.0   \n",
       "2        0.0        0.0  ...       0.0         0.0       0.0    0.0   0.0   \n",
       "3        0.0        0.0  ...       0.0         0.0       0.0    0.0   0.0   \n",
       "4        0.0        0.0  ...       0.0         0.0       0.0    0.0   0.0   \n",
       "\n",
       "   ~$70 million   ~1  ~1 year)you   ~4  ~4 week  \n",
       "0           0.0  0.0          0.0  0.0      0.0  \n",
       "1           0.0  0.0          0.0  0.0      0.0  \n",
       "2           0.0  0.0          0.0  0.0      0.0  \n",
       "3           0.0  0.0          0.0  0.0      0.0  \n",
       "4           0.0  0.0          0.0  0.0      0.0  \n",
       "\n",
       "[5 rows x 79422 columns]"
      ]
     },
     "execution_count": 95,
     "metadata": {},
     "output_type": "execute_result"
    }
   ],
   "source": [
    "dtm.head()"
   ]
  },
  {
   "cell_type": "markdown",
   "metadata": {},
   "source": [
    "## 6) Create a NearestNeighbor Model. Write the description of your ideal datascience job and query your job listings. "
   ]
  },
  {
   "cell_type": "code",
   "execution_count": 104,
   "metadata": {
    "collapsed": false,
    "inputHidden": false,
    "jupyter": {
     "outputs_hidden": false
    },
    "outputHidden": false
   },
   "outputs": [
    {
     "data": {
      "text/plain": [
       "(array([[1.11443413, 1.33099803, 1.35420032, 1.35611342, 1.35611342]]),\n",
       " array([[340, 150, 213,  81, 167]], dtype=int64))"
      ]
     },
     "execution_count": 104,
     "metadata": {},
     "output_type": "execute_result"
    }
   ],
   "source": [
    "##### Your Code Here #####\n",
    "from sklearn.neighbors import NearestNeighbors\n",
    "\n",
    "nn = NearestNeighbors(n_neighbors=5, algorithm='kd_tree')\n",
    "nn.fit(dtm)\n",
    "\n",
    "#testing fictional job listing\n",
    "listing = ['Here is a clinical pharmacology job listing. Please know how to code! And how to spell!']\n",
    "test = tfidf.transform(listing)\n",
    "nn.kneighbors(test.todense())"
   ]
  },
  {
   "cell_type": "code",
   "execution_count": 105,
   "metadata": {},
   "outputs": [
    {
     "data": {
      "text/plain": [
       "\"b'POSITION OBJECTIVE:Provide efficient and effective programming solutions required for clinical pharmacology data analysis and reporting, including understanding clinical pharmacology components of study protocols, creation of more complex and integrated datasets, creation of graphs using more advanced programming skills, understanding and application of more advanced statistical tests, perform basic quality-checklist code reviews, develop standardized programs to automate routine tasks; and design, write and debug macro routines.This position will be located in either our Buffalo, New York office or our Cranford, New Jersey office.Essential Job Functions/ResponsibilitiesProvide clinical pharmacology statistical representation on project and protocol teams.Participate in the protocol development process, including sample size calculations and the statistical analysis plan section of the protocol.Perform bioequivalence (including food-effect, DDI, etc.) analysis and ad hoc statistical analyses, when needed.Preparation clinical pharmacology data analysis plans, tables, figures and listings for inclusion in clinical reports.Perform exploratory data analyses based on requirements provided by scientists or specified in analysis plans. The results from exploratory data analyses may be used for further data characterization, such as logistic regression or time-to-event analyses.Develop, validate and execute programs and macro routines. Proficiently create complex datasets, tables, listings, and figures, based upon study protocols, data analysis plans, dataset specifications and CDISC (SDTM, ADaM) standards.Understand complicated study designs, disease states and dataset structures.Understand and apply the concept of data disposition to datasets created.Validate results produced by external vendors and/or internal staff, as appropriate.Provide input and support on data and submission standards to project teams to ensure high quality and timely deliverables that meet industry standards and regulatory requirements.Participate in the development of and ensures compliance to Standard Operating Procedures (SOPs), policies, and guidelines. Ensure data compliance by following the established guidelines of national and international regulatory authoritiesCollaborate closely, mentor and communicate clearly with project team members of the Biostatistics, Data Management, Clinical Pharmacology and Regulatory departments on various clinical projects.Remain informed of new developments in programming that are relevant to the industry and contribute to the innovation of new reporting systems.Required Education QualificationsMinimum of Master of Science degree in Statistics or related field.Minimum of 5 years of experience as a Clinical/Statistical SAS Programmer in the pharmaceutical, or related, industry. SAS Certification desirable.Strong SAS (Base/Graph/STAT) and SAS Macro programming skills with understanding and experience preferably in a clinical data environment.Proficient in industry standards (CDISC), relational database structure, medical terminology, and clinical trial methodologies.Knowledge of pharmaceutical clinical development (i.e., understanding safety deliverables, clinical pharmacology concepts, efficacy analysis) and ability to provide programming support needs for regulatory submissions.Familiarity with the development and execution of user requirements, validation plans, operational and performance protocols.Demonstrated teamwork, organizational, innovative problem-solving and interpersonal skills required; strong verbal and written communication skills in a global environment is also necessary for success.Able to work independently, exercise judgment in interpreting, modifying and adapting procedures, practices, methods, etc.\\\\xef\\\\xbb\\\\xbfAthenex is an equal opportunity employer. We evaluate qualified applicants without regard to race, color, religion, sex, sexual orientation, gender identity, national origin, disability, veteran status, and other legally protected characteristics.Athenex is committed to working with and providing reasonable accommodations to individuals with disabilities. If you need a reasonable accommodation because of a disability for any part of the employment process, please notify HR and let us know the nature of your request and your contact information.'\""
      ]
     },
     "execution_count": 105,
     "metadata": {},
     "output_type": "execute_result"
    }
   ],
   "source": [
    "df['clean_description'][340]"
   ]
  },
  {
   "cell_type": "markdown",
   "metadata": {
    "colab_type": "text",
    "id": "FiDfTWceoRkH"
   },
   "source": [
    "## Stretch Goals\n",
    "\n",
    " - Try different visualizations for words and frequencies - what story do you want to tell with the data?\n",
    " - Scrape Job Listings for the job title \"Data Analyst\". How do these differ from Data Scientist Job Listings\n",
    " - Try and identify requirements for experience specific technologies that are asked for in the job listings. How are those distributed among the job listings?\n",
    " - Use a clustering algorithm to cluster documents by their most important terms. Do the clusters reveal any common themes?\n",
    "  - **Hint:** K-means might not be the best algorithm for this. Do a little bit of research to see what might be good for this. Also, remember that algorithms that depend on Euclidean distance break down with high dimensional data.\n",
    " - Create a labeled dataset - which jobs will you apply for? Train a model to select the jobs you are most likely to apply for. :) "
   ]
  }
 ],
 "metadata": {
  "colab": {
   "collapsed_sections": [],
   "name": "LS_DS_422_BOW_Assignment.ipynb",
   "provenance": [],
   "version": "0.3.2"
  },
  "kernel_info": {
   "name": "python3"
  },
  "kernelspec": {
   "display_name": "Python (NLP)",
   "language": "python",
   "name": "python-nlp"
  },
  "language_info": {
   "codemirror_mode": {
    "name": "ipython",
    "version": 3
   },
   "file_extension": ".py",
   "mimetype": "text/x-python",
   "name": "python",
   "nbconvert_exporter": "python",
   "pygments_lexer": "ipython3",
   "version": "3.7.4"
  },
  "nteract": {
   "version": "0.14.3"
  }
 },
 "nbformat": 4,
 "nbformat_minor": 4
}
