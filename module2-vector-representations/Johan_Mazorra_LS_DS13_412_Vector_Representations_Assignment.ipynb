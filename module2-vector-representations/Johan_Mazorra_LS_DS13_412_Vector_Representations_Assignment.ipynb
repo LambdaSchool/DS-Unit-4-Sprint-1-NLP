{
 "cells": [
  {
   "cell_type": "markdown",
   "metadata": {},
   "source": [
    "<img align=\"left\" src=\"https://lever-client-logos.s3.amazonaws.com/864372b1-534c-480e-acd5-9711f850815c-1524247202159.png\" width=200>\n",
    "<br></br>\n",
    "\n",
    "# Vector Representations\n",
    "## *Data Science Unit 4 Sprint 2 Assignment 2*"
   ]
  },
  {
   "cell_type": "code",
   "execution_count": 5,
   "metadata": {
    "colab": {
     "base_uri": "https://localhost:8080/",
     "height": 159
    },
    "colab_type": "code",
    "id": "hyj-f9FDcVFp",
    "outputId": "5dd045fe-6e4c-458c-e2fc-253c3da9c805"
   },
   "outputs": [],
   "source": [
    "import re\n",
    "import string\n",
    "\n",
    "from sklearn.feature_extraction.text import CountVectorizer, TfidfVectorizer\n",
    "import matplotlib.pyplot as plt\n",
    "import pandas as pd\n",
    "import numpy as np\n",
    "import spacy\n",
    "\n",
    "from bs4 import BeautifulSoup"
   ]
  },
  {
   "cell_type": "markdown",
   "metadata": {
    "colab_type": "text",
    "id": "M7bcmqfGXrFG"
   },
   "source": [
    "## 1) *Clean:* Job Listings from indeed.com that contain the title \"Data Scientist\" \n",
    "\n",
    "You have `job_listings.csv` in the data folder for this module. The text data in the description column is still messy - full of html tags. Use the [BeautifulSoup](https://www.crummy.com/software/BeautifulSoup/bs4/doc/) library to clean up this column. You will need to read through the documentation to accomplish this task. "
   ]
  },
  {
   "cell_type": "code",
   "execution_count": 9,
   "metadata": {},
   "outputs": [
    {
     "data": {
      "text/html": [
       "<div>\n",
       "<style scoped>\n",
       "    .dataframe tbody tr th:only-of-type {\n",
       "        vertical-align: middle;\n",
       "    }\n",
       "\n",
       "    .dataframe tbody tr th {\n",
       "        vertical-align: top;\n",
       "    }\n",
       "\n",
       "    .dataframe thead th {\n",
       "        text-align: right;\n",
       "    }\n",
       "</style>\n",
       "<table border=\"1\" class=\"dataframe\">\n",
       "  <thead>\n",
       "    <tr style=\"text-align: right;\">\n",
       "      <th></th>\n",
       "      <th>title</th>\n",
       "      <th>description</th>\n",
       "    </tr>\n",
       "  </thead>\n",
       "  <tbody>\n",
       "    <tr>\n",
       "      <th>0</th>\n",
       "      <td>Data scientist</td>\n",
       "      <td>b\"&lt;div&gt;&lt;div&gt;Job Requirements:&lt;/div&gt;&lt;ul&gt;&lt;li&gt;&lt;p&gt;...</td>\n",
       "    </tr>\n",
       "    <tr>\n",
       "      <th>1</th>\n",
       "      <td>Data Scientist I</td>\n",
       "      <td>b'&lt;div&gt;Job Description&lt;br/&gt;\\n&lt;br/&gt;\\n&lt;p&gt;As a Da...</td>\n",
       "    </tr>\n",
       "    <tr>\n",
       "      <th>2</th>\n",
       "      <td>Data Scientist - Entry Level</td>\n",
       "      <td>b'&lt;div&gt;&lt;p&gt;As a Data Scientist you will be work...</td>\n",
       "    </tr>\n",
       "    <tr>\n",
       "      <th>3</th>\n",
       "      <td>Data Scientist</td>\n",
       "      <td>b'&lt;div class=\"jobsearch-JobMetadataHeader icl-...</td>\n",
       "    </tr>\n",
       "    <tr>\n",
       "      <th>4</th>\n",
       "      <td>Data Scientist</td>\n",
       "      <td>b'&lt;ul&gt;&lt;li&gt;Location: USA \\xe2\\x80\\x93 multiple ...</td>\n",
       "    </tr>\n",
       "  </tbody>\n",
       "</table>\n",
       "</div>"
      ],
      "text/plain": [
       "                          title  \\\n",
       "0               Data scientist    \n",
       "1              Data Scientist I   \n",
       "2  Data Scientist - Entry Level   \n",
       "3                Data Scientist   \n",
       "4                Data Scientist   \n",
       "\n",
       "                                         description  \n",
       "0  b\"<div><div>Job Requirements:</div><ul><li><p>...  \n",
       "1  b'<div>Job Description<br/>\\n<br/>\\n<p>As a Da...  \n",
       "2  b'<div><p>As a Data Scientist you will be work...  \n",
       "3  b'<div class=\"jobsearch-JobMetadataHeader icl-...  \n",
       "4  b'<ul><li>Location: USA \\xe2\\x80\\x93 multiple ...  "
      ]
     },
     "execution_count": 9,
     "metadata": {},
     "output_type": "execute_result"
    }
   ],
   "source": [
    "# First, let's load the data.\n",
    "\n",
    "file = 'job_listings.csv'\n",
    "df = pd.read_csv(file, usecols=['title', 'description'])[['title', 'description']]\n",
    "df.head()"
   ]
  },
  {
   "cell_type": "code",
   "execution_count": 10,
   "metadata": {
    "colab": {},
    "colab_type": "code",
    "id": "KcYlc1URXhlC"
   },
   "outputs": [
    {
     "data": {
      "text/html": [
       "<div>\n",
       "<style scoped>\n",
       "    .dataframe tbody tr th:only-of-type {\n",
       "        vertical-align: middle;\n",
       "    }\n",
       "\n",
       "    .dataframe tbody tr th {\n",
       "        vertical-align: top;\n",
       "    }\n",
       "\n",
       "    .dataframe thead th {\n",
       "        text-align: right;\n",
       "    }\n",
       "</style>\n",
       "<table border=\"1\" class=\"dataframe\">\n",
       "  <thead>\n",
       "    <tr style=\"text-align: right;\">\n",
       "      <th></th>\n",
       "      <th>title</th>\n",
       "      <th>description</th>\n",
       "    </tr>\n",
       "  </thead>\n",
       "  <tbody>\n",
       "    <tr>\n",
       "      <th>0</th>\n",
       "      <td>Data scientist</td>\n",
       "      <td>Job Requirements:\\nConceptual understanding in...</td>\n",
       "    </tr>\n",
       "    <tr>\n",
       "      <th>1</th>\n",
       "      <td>Data Scientist I</td>\n",
       "      <td>Job Description\\n\\nAs a Data Scientist 1, you ...</td>\n",
       "    </tr>\n",
       "    <tr>\n",
       "      <th>2</th>\n",
       "      <td>Data Scientist - Entry Level</td>\n",
       "      <td>As a Data Scientist you will be working on con...</td>\n",
       "    </tr>\n",
       "    <tr>\n",
       "      <th>3</th>\n",
       "      <td>Data Scientist</td>\n",
       "      <td>$4,969 - $6,756 a monthContractUnder the gener...</td>\n",
       "    </tr>\n",
       "    <tr>\n",
       "      <th>4</th>\n",
       "      <td>Data Scientist</td>\n",
       "      <td>Location: USA \\xe2\\x80\\x93 multiple locations\\...</td>\n",
       "    </tr>\n",
       "  </tbody>\n",
       "</table>\n",
       "</div>"
      ],
      "text/plain": [
       "                          title  \\\n",
       "0               Data scientist    \n",
       "1              Data Scientist I   \n",
       "2  Data Scientist - Entry Level   \n",
       "3                Data Scientist   \n",
       "4                Data Scientist   \n",
       "\n",
       "                                         description  \n",
       "0  Job Requirements:\\nConceptual understanding in...  \n",
       "1  Job Description\\n\\nAs a Data Scientist 1, you ...  \n",
       "2  As a Data Scientist you will be working on con...  \n",
       "3  $4,969 - $6,756 a monthContractUnder the gener...  \n",
       "4  Location: USA \\xe2\\x80\\x93 multiple locations\\...  "
      ]
     },
     "execution_count": 10,
     "metadata": {},
     "output_type": "execute_result"
    }
   ],
   "source": [
    "from bs4 import BeautifulSoup\n",
    "\n",
    "def clean_description(df):\n",
    "    df = df.copy()\n",
    "    df['description'] = df['description'].str.replace('b\"', '')\n",
    "    df['description'] = df['description'].str.replace(\"b'\", '')\n",
    "    df = df.applymap(lambda text: BeautifulSoup(text, 'html.parser').get_text())\n",
    "    return df\n",
    "\n",
    "df = clean_description(df)\n",
    "df.head()"
   ]
  },
  {
   "cell_type": "code",
   "execution_count": 11,
   "metadata": {},
   "outputs": [
    {
     "data": {
      "text/html": [
       "<div>\n",
       "<style scoped>\n",
       "    .dataframe tbody tr th:only-of-type {\n",
       "        vertical-align: middle;\n",
       "    }\n",
       "\n",
       "    .dataframe tbody tr th {\n",
       "        vertical-align: top;\n",
       "    }\n",
       "\n",
       "    .dataframe thead th {\n",
       "        text-align: right;\n",
       "    }\n",
       "</style>\n",
       "<table border=\"1\" class=\"dataframe\">\n",
       "  <thead>\n",
       "    <tr style=\"text-align: right;\">\n",
       "      <th></th>\n",
       "      <th>title</th>\n",
       "      <th>description</th>\n",
       "    </tr>\n",
       "  </thead>\n",
       "  <tbody>\n",
       "    <tr>\n",
       "      <th>0</th>\n",
       "      <td>Data scientist</td>\n",
       "      <td>Job Requirements: Conceptual understanding in ...</td>\n",
       "    </tr>\n",
       "    <tr>\n",
       "      <th>1</th>\n",
       "      <td>Data Scientist I</td>\n",
       "      <td>Job Description  As a Data Scientist 1, you wi...</td>\n",
       "    </tr>\n",
       "    <tr>\n",
       "      <th>2</th>\n",
       "      <td>Data Scientist - Entry Level</td>\n",
       "      <td>As a Data Scientist you will be working on con...</td>\n",
       "    </tr>\n",
       "    <tr>\n",
       "      <th>3</th>\n",
       "      <td>Data Scientist</td>\n",
       "      <td>$4,969 - $6,756 a monthContractUnder the gener...</td>\n",
       "    </tr>\n",
       "    <tr>\n",
       "      <th>4</th>\n",
       "      <td>Data Scientist</td>\n",
       "      <td>Location: USA     multiple locations + years o...</td>\n",
       "    </tr>\n",
       "  </tbody>\n",
       "</table>\n",
       "</div>"
      ],
      "text/plain": [
       "                          title  \\\n",
       "0               Data scientist    \n",
       "1              Data Scientist I   \n",
       "2  Data Scientist - Entry Level   \n",
       "3                Data Scientist   \n",
       "4                Data Scientist   \n",
       "\n",
       "                                         description  \n",
       "0  Job Requirements: Conceptual understanding in ...  \n",
       "1  Job Description  As a Data Scientist 1, you wi...  \n",
       "2  As a Data Scientist you will be working on con...  \n",
       "3  $4,969 - $6,756 a monthContractUnder the gener...  \n",
       "4  Location: USA     multiple locations + years o...  "
      ]
     },
     "execution_count": 11,
     "metadata": {},
     "output_type": "execute_result"
    }
   ],
   "source": [
    "# We're going to use regex to remove the unicode.\n",
    "\n",
    "def remove_unicode(df):\n",
    "    df = df.copy()\n",
    "    df['description'] = df['description'].str.replace(r'(\\\\(x|n)[a-z0-9]{0,2})', ' ')\n",
    "    return df\n",
    "\n",
    "df = remove_unicode(df)\n",
    "df.head()"
   ]
  },
  {
   "cell_type": "code",
   "execution_count": 14,
   "metadata": {},
   "outputs": [
    {
     "data": {
      "text/plain": [
       "\"Who We Are BlackThorn Therapeutics is a computational sciences company with capabilities to develop proprietary therapeutics focused on neurobehavioral disorders such as depression, schizophrenia, and autism. We have pioneered the development of a computational psychiatry platform to advance our robust pipeline of novel therapeutics. We leverage data-driven approaches to solve the patient selection problem to create treatments that improve patient outcomes.  The Position Help us create the next-gen AI technologies to make better decisions in end-to-end drug development, clinical trials, and deployment lifecycle. A successful candidate will develop and implement AI models and algorithms on large-scale, multimodal neuroimaging, physiological, and clinical datasets to deepen our understanding of neurobehavioral disorders and their treatment. You will work with scientists, clinical researchers, and software developers to implement solutions to support our data-driven approaches to improving the lives of people with neurobehavioral disorders. At the same time, you will be rolling up your sleeves working on tactical tasks that will keep your coding and troubleshooting skills sharp. We value proactive thinkers and doers who identify opportunities for technology innovation in digital health.  Who You Are You have a PhD degree specialized in a topic related to computational neuroscience, statistics, or applied machine learning. You should have a proven record of publishing peer-reviewed papers in scientific journals and conferences. You have extensive experience working with large-scale neuroimaging datasets including task-based and resting-state fMRI, structural MRI, and DWI. You have ample experience with neuroimaging processing software such as AFNI, FSL, and Freesurfer. You are proficient in Python and machine learning toolboxes such as scikit-learn and pandas. Prior experience with processing signal modalities such as EEG, eye-tracking, and speech signal is a strong plus. Experience bringing machine learning projects to industrial production is also a plus. Your excellent communication skills help you explain complex models and solutions to non-technical peers.'\""
      ]
     },
     "execution_count": 14,
     "metadata": {},
     "output_type": "execute_result"
    }
   ],
   "source": [
    "# I'm going to check out a few of them to make sure everything is in order.\n",
    "\n",
    "df.loc[10, 'description']"
   ]
  },
  {
   "cell_type": "code",
   "execution_count": 16,
   "metadata": {},
   "outputs": [
    {
     "data": {
      "text/plain": [
       "\"We are seeking a Data Scientist to join our Product Insights team, focusing on Personalization. We have several roles open across different levels of seniority.  You will be solving complex data problems and delivering the insight that helps to define our understanding of music, audio and our listeners to develop how we personalize at Spotify. This role works closely with a multidisciplinary team of data scientist, user researchers, data engineers, product teams and designers.  Your work will impact the way the world experiences music and audio!  What you   ll do: Develop research questions and undertake data exploration to understand who our listeners are, how they get value out of Spotify, and where we can develop our product to bring greater value Work closely with the team including data engineering to build lasting solutions to our data modeling Design, analyze, and interpret the results of experiments Perform exploratory analyses to understand the performance of our machine learning systems Define, evaluate, dashboard and monitor key metrics, understanding root causes of changes Contribute to the development of the Product Insights function and the wider analytics community at Spotify Mentor and coach other data scientists Work from our office in New York Who you are: You will have 2 to 5 years relevant applied experience with a degree or higher in economics, psychology, computer science, statistics, or mathematics or another quantitative discipline Technical competence to perform advanced analytics: Coding skills (such as R, Python, or Scala) Experience with analytics & visualization tools (SQL, Tableau, ggplot/matplotlib or equivalent) Experience performing analysis with large datasets You have strong statistical understanding of online testing methodologies and metric development You are an independent thinker, able to work autonomously, capable of taking on loosely defined problems and translating complex thinking into practical application for diverse audiences You are a communicative person who values building strong relationships with colleagues and partners and enjoys mentoring and teaching others'\""
      ]
     },
     "execution_count": 16,
     "metadata": {},
     "output_type": "execute_result"
    }
   ],
   "source": [
    "df.loc[22, 'description']"
   ]
  },
  {
   "cell_type": "markdown",
   "metadata": {
    "colab_type": "text",
    "id": "5C4xFZNtX1m2"
   },
   "source": [
    "## 2) Use Spacy to tokenize the listings "
   ]
  },
  {
   "cell_type": "code",
   "execution_count": 17,
   "metadata": {
    "colab": {},
    "colab_type": "code",
    "id": "dhUHuMr-X-II"
   },
   "outputs": [
    {
     "data": {
      "text/html": [
       "<div>\n",
       "<style scoped>\n",
       "    .dataframe tbody tr th:only-of-type {\n",
       "        vertical-align: middle;\n",
       "    }\n",
       "\n",
       "    .dataframe tbody tr th {\n",
       "        vertical-align: top;\n",
       "    }\n",
       "\n",
       "    .dataframe thead th {\n",
       "        text-align: right;\n",
       "    }\n",
       "</style>\n",
       "<table border=\"1\" class=\"dataframe\">\n",
       "  <thead>\n",
       "    <tr style=\"text-align: right;\">\n",
       "      <th></th>\n",
       "      <th>title</th>\n",
       "      <th>description</th>\n",
       "      <th>tokens</th>\n",
       "    </tr>\n",
       "  </thead>\n",
       "  <tbody>\n",
       "    <tr>\n",
       "      <th>234</th>\n",
       "      <td>DATA SCIENTIST</td>\n",
       "      <td>NAUVERA INC looking for an entrepreneurial Dat...</td>\n",
       "      <td>[NAUVERA, INC, look, for, an, entrepreneurial,...</td>\n",
       "    </tr>\n",
       "    <tr>\n",
       "      <th>19</th>\n",
       "      <td>Data Analyst/Jr. Data Scientist</td>\n",
       "      <td>$70,000 - $100,000 a yearTitle: Data Analyst/J...</td>\n",
       "      <td>[$, 70,000, $, 100,000, a, yeartitle, Data, An...</td>\n",
       "    </tr>\n",
       "    <tr>\n",
       "      <th>169</th>\n",
       "      <td>Data Scientist</td>\n",
       "      <td>ABOUT THE ROLE Analytics works with numerous d...</td>\n",
       "      <td>[about, the, ROLE, Analytics, work, with, nume...</td>\n",
       "    </tr>\n",
       "    <tr>\n",
       "      <th>122</th>\n",
       "      <td>Senior Data Scientist</td>\n",
       "      <td>Senior Data Scientist-19000BN4   Preferred Qua...</td>\n",
       "      <td>[senior, Data, scientist-19000bn4,   , Preferr...</td>\n",
       "    </tr>\n",
       "    <tr>\n",
       "      <th>283</th>\n",
       "      <td>Data Scientist, AMP Analytics &amp; Data Products</td>\n",
       "      <td>Summary Posted: Mar 15, 2019 Role Number: 2000...</td>\n",
       "      <td>[Summary, post, Mar, 15, 2019, Role, Number, 2...</td>\n",
       "    </tr>\n",
       "    <tr>\n",
       "      <th>107</th>\n",
       "      <td>Data Scientist</td>\n",
       "      <td>HRS is looking to add a Data Scientist to our ...</td>\n",
       "      <td>[HRS, be, look, to, add, a, Data, scientist, t...</td>\n",
       "    </tr>\n",
       "    <tr>\n",
       "      <th>25</th>\n",
       "      <td>Measurement Data Scientist</td>\n",
       "      <td>As a Data Scientist for Ads Measurement in the...</td>\n",
       "      <td>[as, a, Data, scientist, for, Ads, Measurement...</td>\n",
       "    </tr>\n",
       "    <tr>\n",
       "      <th>22</th>\n",
       "      <td>Data Scientist – Personalization</td>\n",
       "      <td>We are seeking a Data Scientist to join our Pr...</td>\n",
       "      <td>[-PRON-, be, seek, a, Data, scientist, to, joi...</td>\n",
       "    </tr>\n",
       "    <tr>\n",
       "      <th>171</th>\n",
       "      <td>Data Scientist</td>\n",
       "      <td>The Atlantic is seeking a Data Scientist to he...</td>\n",
       "      <td>[the, Atlantic, be, seek, a, Data, scientist, ...</td>\n",
       "    </tr>\n",
       "    <tr>\n",
       "      <th>31</th>\n",
       "      <td>Data Scientist</td>\n",
       "      <td>We   re looking for a Data Scientist in our gr...</td>\n",
       "      <td>[-PRON-,   , re, look, for, a, Data, scientist...</td>\n",
       "    </tr>\n",
       "  </tbody>\n",
       "</table>\n",
       "</div>"
      ],
      "text/plain": [
       "                                             title  \\\n",
       "234                                 DATA SCIENTIST   \n",
       "19                 Data Analyst/Jr. Data Scientist   \n",
       "169                                 Data Scientist   \n",
       "122                          Senior Data Scientist   \n",
       "283  Data Scientist, AMP Analytics & Data Products   \n",
       "107                                 Data Scientist   \n",
       "25                      Measurement Data Scientist   \n",
       "22                Data Scientist – Personalization   \n",
       "171                                 Data Scientist   \n",
       "31                                  Data Scientist   \n",
       "\n",
       "                                           description  \\\n",
       "234  NAUVERA INC looking for an entrepreneurial Dat...   \n",
       "19   $70,000 - $100,000 a yearTitle: Data Analyst/J...   \n",
       "169  ABOUT THE ROLE Analytics works with numerous d...   \n",
       "122  Senior Data Scientist-19000BN4   Preferred Qua...   \n",
       "283  Summary Posted: Mar 15, 2019 Role Number: 2000...   \n",
       "107  HRS is looking to add a Data Scientist to our ...   \n",
       "25   As a Data Scientist for Ads Measurement in the...   \n",
       "22   We are seeking a Data Scientist to join our Pr...   \n",
       "171  The Atlantic is seeking a Data Scientist to he...   \n",
       "31   We   re looking for a Data Scientist in our gr...   \n",
       "\n",
       "                                                tokens  \n",
       "234  [NAUVERA, INC, look, for, an, entrepreneurial,...  \n",
       "19   [$, 70,000, $, 100,000, a, yeartitle, Data, An...  \n",
       "169  [about, the, ROLE, Analytics, work, with, nume...  \n",
       "122  [senior, Data, scientist-19000bn4,   , Preferr...  \n",
       "283  [Summary, post, Mar, 15, 2019, Role, Number, 2...  \n",
       "107  [HRS, be, look, to, add, a, Data, scientist, t...  \n",
       "25   [as, a, Data, scientist, for, Ads, Measurement...  \n",
       "22   [-PRON-, be, seek, a, Data, scientist, to, joi...  \n",
       "171  [the, Atlantic, be, seek, a, Data, scientist, ...  \n",
       "31   [-PRON-,   , re, look, for, a, Data, scientist...  "
      ]
     },
     "execution_count": 17,
     "metadata": {},
     "output_type": "execute_result"
    }
   ],
   "source": [
    "# Let's define the stop words, omit data science.\n",
    "nlp = spacy.load(\"en_core_web_lg\")\n",
    "stop_words = nlp.Defaults.stop_words.union(['data', 'science'])\n",
    "\n",
    "# Tokenize it.\n",
    "df['tokens'] = df['description'].apply(lambda x: [token.lemma_ for token in nlp(x) \n",
    "                                                  if (token not in stop_words)\n",
    "                                                 and (token.is_punct !=True)])\n",
    "df.sample(10)"
   ]
  },
  {
   "cell_type": "markdown",
   "metadata": {
    "colab_type": "text",
    "id": "-lgCZNL_YycP"
   },
   "source": [
    "## 3) Use Scikit-Learn's CountVectorizer to get word counts for each listing."
   ]
  },
  {
   "cell_type": "code",
   "execution_count": 18,
   "metadata": {
    "colab": {},
    "colab_type": "code",
    "id": "X2PZ8Pj_YxcF"
   },
   "outputs": [
    {
     "data": {
      "text/html": [
       "<div>\n",
       "<style scoped>\n",
       "    .dataframe tbody tr th:only-of-type {\n",
       "        vertical-align: middle;\n",
       "    }\n",
       "\n",
       "    .dataframe tbody tr th {\n",
       "        vertical-align: top;\n",
       "    }\n",
       "\n",
       "    .dataframe thead th {\n",
       "        text-align: right;\n",
       "    }\n",
       "</style>\n",
       "<table border=\"1\" class=\"dataframe\">\n",
       "  <thead>\n",
       "    <tr style=\"text-align: right;\">\n",
       "      <th></th>\n",
       "      <th>00</th>\n",
       "      <th>000</th>\n",
       "      <th>02115</th>\n",
       "      <th>03</th>\n",
       "      <th>0356</th>\n",
       "      <th>04</th>\n",
       "      <th>05</th>\n",
       "      <th>062</th>\n",
       "      <th>06366</th>\n",
       "      <th>08</th>\n",
       "      <th>...</th>\n",
       "      <th>zero</th>\n",
       "      <th>zeus</th>\n",
       "      <th>zf</th>\n",
       "      <th>zheng</th>\n",
       "      <th>zillow</th>\n",
       "      <th>zogsports</th>\n",
       "      <th>zones</th>\n",
       "      <th>zoom</th>\n",
       "      <th>zuckerberg</th>\n",
       "      <th>zurich</th>\n",
       "    </tr>\n",
       "  </thead>\n",
       "  <tbody>\n",
       "    <tr>\n",
       "      <th>0</th>\n",
       "      <td>0</td>\n",
       "      <td>0</td>\n",
       "      <td>0</td>\n",
       "      <td>0</td>\n",
       "      <td>0</td>\n",
       "      <td>0</td>\n",
       "      <td>0</td>\n",
       "      <td>0</td>\n",
       "      <td>0</td>\n",
       "      <td>0</td>\n",
       "      <td>...</td>\n",
       "      <td>0</td>\n",
       "      <td>0</td>\n",
       "      <td>0</td>\n",
       "      <td>0</td>\n",
       "      <td>0</td>\n",
       "      <td>0</td>\n",
       "      <td>0</td>\n",
       "      <td>0</td>\n",
       "      <td>0</td>\n",
       "      <td>0</td>\n",
       "    </tr>\n",
       "    <tr>\n",
       "      <th>1</th>\n",
       "      <td>0</td>\n",
       "      <td>0</td>\n",
       "      <td>0</td>\n",
       "      <td>0</td>\n",
       "      <td>0</td>\n",
       "      <td>0</td>\n",
       "      <td>0</td>\n",
       "      <td>0</td>\n",
       "      <td>0</td>\n",
       "      <td>0</td>\n",
       "      <td>...</td>\n",
       "      <td>0</td>\n",
       "      <td>0</td>\n",
       "      <td>0</td>\n",
       "      <td>0</td>\n",
       "      <td>0</td>\n",
       "      <td>0</td>\n",
       "      <td>0</td>\n",
       "      <td>0</td>\n",
       "      <td>0</td>\n",
       "      <td>0</td>\n",
       "    </tr>\n",
       "    <tr>\n",
       "      <th>2</th>\n",
       "      <td>0</td>\n",
       "      <td>0</td>\n",
       "      <td>0</td>\n",
       "      <td>0</td>\n",
       "      <td>0</td>\n",
       "      <td>0</td>\n",
       "      <td>0</td>\n",
       "      <td>0</td>\n",
       "      <td>0</td>\n",
       "      <td>0</td>\n",
       "      <td>...</td>\n",
       "      <td>0</td>\n",
       "      <td>0</td>\n",
       "      <td>0</td>\n",
       "      <td>0</td>\n",
       "      <td>0</td>\n",
       "      <td>0</td>\n",
       "      <td>0</td>\n",
       "      <td>0</td>\n",
       "      <td>0</td>\n",
       "      <td>0</td>\n",
       "    </tr>\n",
       "    <tr>\n",
       "      <th>3</th>\n",
       "      <td>0</td>\n",
       "      <td>0</td>\n",
       "      <td>0</td>\n",
       "      <td>0</td>\n",
       "      <td>0</td>\n",
       "      <td>0</td>\n",
       "      <td>0</td>\n",
       "      <td>0</td>\n",
       "      <td>0</td>\n",
       "      <td>0</td>\n",
       "      <td>...</td>\n",
       "      <td>0</td>\n",
       "      <td>0</td>\n",
       "      <td>0</td>\n",
       "      <td>1</td>\n",
       "      <td>0</td>\n",
       "      <td>0</td>\n",
       "      <td>0</td>\n",
       "      <td>0</td>\n",
       "      <td>0</td>\n",
       "      <td>0</td>\n",
       "    </tr>\n",
       "    <tr>\n",
       "      <th>4</th>\n",
       "      <td>0</td>\n",
       "      <td>0</td>\n",
       "      <td>0</td>\n",
       "      <td>0</td>\n",
       "      <td>0</td>\n",
       "      <td>0</td>\n",
       "      <td>0</td>\n",
       "      <td>0</td>\n",
       "      <td>0</td>\n",
       "      <td>0</td>\n",
       "      <td>...</td>\n",
       "      <td>0</td>\n",
       "      <td>0</td>\n",
       "      <td>0</td>\n",
       "      <td>0</td>\n",
       "      <td>0</td>\n",
       "      <td>0</td>\n",
       "      <td>0</td>\n",
       "      <td>0</td>\n",
       "      <td>0</td>\n",
       "      <td>0</td>\n",
       "    </tr>\n",
       "  </tbody>\n",
       "</table>\n",
       "<p>5 rows × 8731 columns</p>\n",
       "</div>"
      ],
      "text/plain": [
       "   00  000  02115  03  0356  04  05  062  06366  08  ...  zero  zeus  zf  \\\n",
       "0   0    0      0   0     0   0   0    0      0   0  ...     0     0   0   \n",
       "1   0    0      0   0     0   0   0    0      0   0  ...     0     0   0   \n",
       "2   0    0      0   0     0   0   0    0      0   0  ...     0     0   0   \n",
       "3   0    0      0   0     0   0   0    0      0   0  ...     0     0   0   \n",
       "4   0    0      0   0     0   0   0    0      0   0  ...     0     0   0   \n",
       "\n",
       "   zheng  zillow  zogsports  zones  zoom  zuckerberg  zurich  \n",
       "0      0       0          0      0     0           0       0  \n",
       "1      0       0          0      0     0           0       0  \n",
       "2      0       0          0      0     0           0       0  \n",
       "3      1       0          0      0     0           0       0  \n",
       "4      0       0          0      0     0           0       0  \n",
       "\n",
       "[5 rows x 8731 columns]"
      ]
     },
     "execution_count": 18,
     "metadata": {},
     "output_type": "execute_result"
    }
   ],
   "source": [
    "count_vect = CountVectorizer()\n",
    "\n",
    "dtm = count_vect.fit_transform(df['description'])\n",
    "dtm_df = pd.DataFrame(dtm.todense(), columns=count_vect.get_feature_names())\n",
    "dtm_df.head()"
   ]
  },
  {
   "cell_type": "markdown",
   "metadata": {
    "colab_type": "text",
    "id": "Zo1iH_UeY7_n"
   },
   "source": [
    "## 4) Visualize the most common word counts"
   ]
  },
  {
   "cell_type": "code",
   "execution_count": 22,
   "metadata": {
    "colab": {},
    "colab_type": "code",
    "id": "M5LB00uyZKV5"
   },
   "outputs": [
    {
     "data": {
      "image/png": "[encoded data removed]",
      "text/plain": [
       "<Figure size 432x288 with 1 Axes>"
      ]
     },
     "metadata": {
      "needs_background": "light"
     },
     "output_type": "display_data"
    }
   ],
   "source": [
    "import squarify\n",
    "\n",
    "word_ranks = dtm_df.sum().sort_values(ascending=False)\n",
    "squarify.plot(sizes=word_ranks.values[:25], label=word_ranks.index[:25], alpha=0.8)\n",
    "plt.axis('off')\n",
    "plt.show();"
   ]
  },
  {
   "cell_type": "markdown",
   "metadata": {
    "colab_type": "text",
    "id": "bwFsTqrVZMYi"
   },
   "source": [
    "## 5) Use Scikit-Learn's tfidfVectorizer to get a TF-IDF feature matrix"
   ]
  },
  {
   "cell_type": "code",
   "execution_count": 23,
   "metadata": {
    "colab": {},
    "colab_type": "code",
    "id": "-gx2gZCbl5Np"
   },
   "outputs": [
    {
     "data": {
      "text/html": [
       "<div>\n",
       "<style scoped>\n",
       "    .dataframe tbody tr th:only-of-type {\n",
       "        vertical-align: middle;\n",
       "    }\n",
       "\n",
       "    .dataframe tbody tr th {\n",
       "        vertical-align: top;\n",
       "    }\n",
       "\n",
       "    .dataframe thead th {\n",
       "        text-align: right;\n",
       "    }\n",
       "</style>\n",
       "<table border=\"1\" class=\"dataframe\">\n",
       "  <thead>\n",
       "    <tr style=\"text-align: right;\">\n",
       "      <th></th>\n",
       "      <th>00</th>\n",
       "      <th>000</th>\n",
       "      <th>02115</th>\n",
       "      <th>03</th>\n",
       "      <th>0356</th>\n",
       "      <th>04</th>\n",
       "      <th>05</th>\n",
       "      <th>062</th>\n",
       "      <th>06366</th>\n",
       "      <th>08</th>\n",
       "      <th>...</th>\n",
       "      <th>zero</th>\n",
       "      <th>zeus</th>\n",
       "      <th>zf</th>\n",
       "      <th>zheng</th>\n",
       "      <th>zillow</th>\n",
       "      <th>zogsports</th>\n",
       "      <th>zones</th>\n",
       "      <th>zoom</th>\n",
       "      <th>zuckerberg</th>\n",
       "      <th>zurich</th>\n",
       "    </tr>\n",
       "  </thead>\n",
       "  <tbody>\n",
       "    <tr>\n",
       "      <th>0</th>\n",
       "      <td>0.0</td>\n",
       "      <td>0.0</td>\n",
       "      <td>0.0</td>\n",
       "      <td>0.0</td>\n",
       "      <td>0.0</td>\n",
       "      <td>0.0</td>\n",
       "      <td>0.0</td>\n",
       "      <td>0.0</td>\n",
       "      <td>0.0</td>\n",
       "      <td>0.0</td>\n",
       "      <td>...</td>\n",
       "      <td>0.0</td>\n",
       "      <td>0.0</td>\n",
       "      <td>0.0</td>\n",
       "      <td>0.000000</td>\n",
       "      <td>0.0</td>\n",
       "      <td>0.0</td>\n",
       "      <td>0.0</td>\n",
       "      <td>0.0</td>\n",
       "      <td>0.0</td>\n",
       "      <td>0.0</td>\n",
       "    </tr>\n",
       "    <tr>\n",
       "      <th>1</th>\n",
       "      <td>0.0</td>\n",
       "      <td>0.0</td>\n",
       "      <td>0.0</td>\n",
       "      <td>0.0</td>\n",
       "      <td>0.0</td>\n",
       "      <td>0.0</td>\n",
       "      <td>0.0</td>\n",
       "      <td>0.0</td>\n",
       "      <td>0.0</td>\n",
       "      <td>0.0</td>\n",
       "      <td>...</td>\n",
       "      <td>0.0</td>\n",
       "      <td>0.0</td>\n",
       "      <td>0.0</td>\n",
       "      <td>0.000000</td>\n",
       "      <td>0.0</td>\n",
       "      <td>0.0</td>\n",
       "      <td>0.0</td>\n",
       "      <td>0.0</td>\n",
       "      <td>0.0</td>\n",
       "      <td>0.0</td>\n",
       "    </tr>\n",
       "    <tr>\n",
       "      <th>2</th>\n",
       "      <td>0.0</td>\n",
       "      <td>0.0</td>\n",
       "      <td>0.0</td>\n",
       "      <td>0.0</td>\n",
       "      <td>0.0</td>\n",
       "      <td>0.0</td>\n",
       "      <td>0.0</td>\n",
       "      <td>0.0</td>\n",
       "      <td>0.0</td>\n",
       "      <td>0.0</td>\n",
       "      <td>...</td>\n",
       "      <td>0.0</td>\n",
       "      <td>0.0</td>\n",
       "      <td>0.0</td>\n",
       "      <td>0.000000</td>\n",
       "      <td>0.0</td>\n",
       "      <td>0.0</td>\n",
       "      <td>0.0</td>\n",
       "      <td>0.0</td>\n",
       "      <td>0.0</td>\n",
       "      <td>0.0</td>\n",
       "    </tr>\n",
       "    <tr>\n",
       "      <th>3</th>\n",
       "      <td>0.0</td>\n",
       "      <td>0.0</td>\n",
       "      <td>0.0</td>\n",
       "      <td>0.0</td>\n",
       "      <td>0.0</td>\n",
       "      <td>0.0</td>\n",
       "      <td>0.0</td>\n",
       "      <td>0.0</td>\n",
       "      <td>0.0</td>\n",
       "      <td>0.0</td>\n",
       "      <td>...</td>\n",
       "      <td>0.0</td>\n",
       "      <td>0.0</td>\n",
       "      <td>0.0</td>\n",
       "      <td>0.106249</td>\n",
       "      <td>0.0</td>\n",
       "      <td>0.0</td>\n",
       "      <td>0.0</td>\n",
       "      <td>0.0</td>\n",
       "      <td>0.0</td>\n",
       "      <td>0.0</td>\n",
       "    </tr>\n",
       "    <tr>\n",
       "      <th>4</th>\n",
       "      <td>0.0</td>\n",
       "      <td>0.0</td>\n",
       "      <td>0.0</td>\n",
       "      <td>0.0</td>\n",
       "      <td>0.0</td>\n",
       "      <td>0.0</td>\n",
       "      <td>0.0</td>\n",
       "      <td>0.0</td>\n",
       "      <td>0.0</td>\n",
       "      <td>0.0</td>\n",
       "      <td>...</td>\n",
       "      <td>0.0</td>\n",
       "      <td>0.0</td>\n",
       "      <td>0.0</td>\n",
       "      <td>0.000000</td>\n",
       "      <td>0.0</td>\n",
       "      <td>0.0</td>\n",
       "      <td>0.0</td>\n",
       "      <td>0.0</td>\n",
       "      <td>0.0</td>\n",
       "      <td>0.0</td>\n",
       "    </tr>\n",
       "  </tbody>\n",
       "</table>\n",
       "<p>5 rows × 8476 columns</p>\n",
       "</div>"
      ],
      "text/plain": [
       "    00  000  02115   03  0356   04   05  062  06366   08  ...  zero  zeus  \\\n",
       "0  0.0  0.0    0.0  0.0   0.0  0.0  0.0  0.0    0.0  0.0  ...   0.0   0.0   \n",
       "1  0.0  0.0    0.0  0.0   0.0  0.0  0.0  0.0    0.0  0.0  ...   0.0   0.0   \n",
       "2  0.0  0.0    0.0  0.0   0.0  0.0  0.0  0.0    0.0  0.0  ...   0.0   0.0   \n",
       "3  0.0  0.0    0.0  0.0   0.0  0.0  0.0  0.0    0.0  0.0  ...   0.0   0.0   \n",
       "4  0.0  0.0    0.0  0.0   0.0  0.0  0.0  0.0    0.0  0.0  ...   0.0   0.0   \n",
       "\n",
       "    zf     zheng  zillow  zogsports  zones  zoom  zuckerberg  zurich  \n",
       "0  0.0  0.000000     0.0        0.0    0.0   0.0         0.0     0.0  \n",
       "1  0.0  0.000000     0.0        0.0    0.0   0.0         0.0     0.0  \n",
       "2  0.0  0.000000     0.0        0.0    0.0   0.0         0.0     0.0  \n",
       "3  0.0  0.106249     0.0        0.0    0.0   0.0         0.0     0.0  \n",
       "4  0.0  0.000000     0.0        0.0    0.0   0.0         0.0     0.0  \n",
       "\n",
       "[5 rows x 8476 columns]"
      ]
     },
     "execution_count": 23,
     "metadata": {},
     "output_type": "execute_result"
    }
   ],
   "source": [
    "# Instantiate vectorizor.\n",
    "\n",
    "tfidf = TfidfVectorizer(stop_words = 'english')\n",
    "\n",
    "dtm_tfidf = tfidf.fit_transform(df['description'])\n",
    "dtm_tfidf_df = pd.DataFrame(dtm_tfidf.todense(), columns=tfidf.get_feature_names())\n",
    "\n",
    "dtm_tfidf_df.head()"
   ]
  },
  {
   "cell_type": "markdown",
   "metadata": {},
   "source": [
    "## 6) Create a NearestNeighbor Model. Write the description of your ideal datascience job and query your job listings. "
   ]
  },
  {
   "cell_type": "code",
   "execution_count": 24,
   "metadata": {
    "collapsed": false,
    "inputHidden": false,
    "jupyter": {
     "outputs_hidden": false
    },
    "outputHidden": false
   },
   "outputs": [],
   "source": [
    "from sklearn.neighbors import NearestNeighbors\n",
    "\n",
    "# Fit on DTM.\n",
    "nn = NearestNeighbors(n_neighbors=5, algorithm='kd_tree')\n",
    "nn.fit(dtm_tfidf_df)\n",
    "\n",
    "# My ideal job description in Data Science.\n",
    "\n",
    "job_desc = [\"\"\"\n",
    "My ideal job would be working with the future of AI. Anything related to the improvement of what's known as narrow AI and\n",
    "hopefully get to work in the actual construction of the first, true AGI machine. Even if I'm behind the research of this,\n",
    "I would be extremely satisfied knowing that I was part of such a breakthrough in technology advancement.\n",
    "\"\"\"]"
   ]
  },
  {
   "cell_type": "code",
   "execution_count": 25,
   "metadata": {},
   "outputs": [],
   "source": [
    "query = tfidf.transform(job_desc)"
   ]
  },
  {
   "cell_type": "code",
   "execution_count": 26,
   "metadata": {},
   "outputs": [
    {
     "data": {
      "text/plain": [
       "<1x8476 sparse matrix of type '<class 'numpy.float64'>'\n",
       "\twith 21 stored elements in Compressed Sparse Row format>"
      ]
     },
     "execution_count": 26,
     "metadata": {},
     "output_type": "execute_result"
    }
   ],
   "source": [
    "query"
   ]
  },
  {
   "cell_type": "code",
   "execution_count": 27,
   "metadata": {},
   "outputs": [
    {
     "data": {
      "text/plain": [
       "(array([[1.35535247, 1.35678167, 1.35773966, 1.35773966, 1.35936525]]),\n",
       " array([[286, 193,  50,  90, 121]]))"
      ]
     },
     "execution_count": 27,
     "metadata": {},
     "output_type": "execute_result"
    }
   ],
   "source": [
    "# Use NN to find closest fit\n",
    "\n",
    "nn.kneighbors(query.todense())"
   ]
  },
  {
   "cell_type": "code",
   "execution_count": 34,
   "metadata": {},
   "outputs": [
    {
     "data": {
      "text/plain": [
       "'Data Scientist (Multiple levels)-19000C1K   No Visa Sponsorship is available for this position.  Preferred Qualifications  Preferred Qualifications  Within the AI Apps team at Oracle we develop and deploy data science solutions at scale and throughout all of Oracle\\'s existing products and services, and are seeking to grow the team with brilliant and diverse individuals with well-crafted technical ability. This is an exciting and challenging role that will stretch your knowledge and curiosity, offering the opportunity to learn new skills and work within an unusually talented, global community at Oracle.   You will encounter a wide variety of data types, from retail and financial transactions to free text, images and video. AI Apps are required to solve business challenges ranging from recommendation systems and dynamic discounting, management of the flow of goods and services, transportation logistics and movement and storage of materials and inventory, accounting and procurement, project management, manufacturing, staff recruiting, handling and optimizing the HR of an organization   This is a hands-on position where you will be empowered to be creative, ambitious and bold, to solve challenging problems and have the potential to directly impact Oracle   s future. The role requires that you have a solid background in machine learning and know how to invent and modify advanced innovative algorithms, applying them to large data sets. You will be a great teammate who is eager to both teach and learn every day, that is enthusiastic and self-motivated to solve useful problems.   More specifically, you will help us solve business and technical problems with robust and statistically sound use of rigorous scientific methodologies and creative use of algorithms using AI, machine (deep, reinforcement) learning and predictive modelling techniques. You should be comfortable in an environment that combines clear problem specifications with sometimes unpredictable situations, carrying unknowns both of technical and functional kind. Given the global setup, you will also be confident and familiar with tools and styles to work remotely in effective ways together with a team located in multiple geographical locations. You will have the opportunity to actively participate as contributor or leader in a team of peer data scientists, understanding the collaborative and transparent relationships with engineering and product teams and the ways of working of an agile environment. When appropriate, we will support and encourage that you strive to publish the best work in the top journals and conferences.   In all, we are looking for ambitious scientists with an uncommon academic background, an ideal blend of coding, machine learning and statistics, a colleague with whom we can share the enjoyment of being curious, the interest in difficult mathematical and algorithmic problems, and the commitment to be innovative in building predictive models as well as in the way society deals with sensitive data.   We would like you to have An advanced degree in Computer Science, Physics, Engineering, Mathematics or similar, and postgraduate experience in AI, machine learning, analytics and/or predictive modelling. Excellent understanding of the mathematical theory behind common machine learning algorithms for solving classification and regression problems in supervised and unsupervised learning, together with practical experience with the relevant open source libraries. Consistency in developing, innovating, and applying advanced algorithms to address practical problems and in building new analytical products of commercial value. Practical experience in feature engineering, evaluation, selection and automation of such tasks, model interpretation and visualization. Robust knowledge and experience with statistical methods, in particular with the estimation of confidence intervals around parameter values and predicted quantities. Domain expertise in industries such as online retail, digital marketing, financial services, insurance, health care, manufacturing, consumer goods, telecommunications. Proficiency with several years    experience in more than one of Python, R, Java, C, C++, Scala, and robust Linux shell scripting, as well as in using query languages such as SQL and its adaptations. Experience with horizontally scalable data stores such as Hadoop and other NoSQL technologies such as Map Reduce, Spark, HBase, etc., and associated schemas. It would be fantastic if you also have  A PhD degree in a quantitative Science or technical field. Post-doctoral academic research experience in AI and Machine Learning. Experience in a DevOps role or even better in the nascent DataOps role. Deep knowledge of graphical models, Bayesian networks, Gaussian processes, MCMC, hidden Markov models and social network analysis. Expertise with NLP, text processing and modelling, automatic summarization, translation, named entity recognition, relationship extraction, sentiment analysis, in particular using deep learning techniques for such tasks, employing popular frameworks, including Keras, TensorFlow, MXNet, Torch, Theano, etc. Expertise in Reinforcement Learning and its deep version. Experience in leading and mentoring other data scientists. You will have several opportunities to complete end-to-end execution of the data science process. This will be carried out in a collaborative environment with product and engineering teams, but ranges from understanding business requirements, data discovery and extraction, model development and evaluation, to production pipeline implementation. To do so you will have access to state of the art computational resources, the opportunity to learn by experimenting with technology and the latest open source libraries, a wealth of data to be understood and modelled, and the most friendly and knowledgeable colleagues in a company that offers extraordinary career opportunities for the best.   Join and build the future with us!  Detailed Description and Job Requirements  Designs, develops and programs methods, processes, and systems to consolidate and analyze unstructured, diverse    big data    sources to generate actionable insights and solutions for client services and product enhancement.  Interacts with product and service teams to identify questions and issues for data analysis and experiments. Develops and codes software programs, algorithms and automated processes to cleanse, integrate and evaluate large datasets from multiple disparate sources. Identifies meaningful insights from large data and metadata sources; interprets and communicates insights and findings from analysis and experiments to product, service, and business managers.  Leading contributor individually and as a team member, providing direction and mentoring to others. Work is non-routine and very complex, involving the application of advanced technical/business skills in area of specialization. 8 years relevant work experience. BS/BA preferred.  Oracle will consider for employment qualified applicants with criminal histories in a manner consistent with the requirements of San Francisco\\'s Fair Chance Ordinance.  Oracle is an Equal Employment Opportunity Employer. All qualified applicants will receive consideration for employment without regard to race, color, religion, sex, national origin, sexual orientation, gender identity, disability and protected veterans status or any other characteristic protected by law.\"'"
      ]
     },
     "execution_count": 34,
     "metadata": {},
     "output_type": "execute_result"
    }
   ],
   "source": [
    "# Closest results.\n",
    "\n",
    "df.loc[50]['description']"
   ]
  },
  {
   "cell_type": "code",
   "execution_count": 35,
   "metadata": {},
   "outputs": [
    {
     "data": {
      "text/plain": [
       "'Data Scientist (Multiple levels)-19000C1K   No Visa Sponsorship is available for this position.  Preferred Qualifications  Preferred Qualifications  Within the AI Apps team at Oracle we develop and deploy data science solutions at scale and throughout all of Oracle\\'s existing products and services, and are seeking to grow the team with brilliant and diverse individuals with well-crafted technical ability. This is an exciting and challenging role that will stretch your knowledge and curiosity, offering the opportunity to learn new skills and work within an unusually talented, global community at Oracle.   You will encounter a wide variety of data types, from retail and financial transactions to free text, images and video. AI Apps are required to solve business challenges ranging from recommendation systems and dynamic discounting, management of the flow of goods and services, transportation logistics and movement and storage of materials and inventory, accounting and procurement, project management, manufacturing, staff recruiting, handling and optimizing the HR of an organization   This is a hands-on position where you will be empowered to be creative, ambitious and bold, to solve challenging problems and have the potential to directly impact Oracle   s future. The role requires that you have a solid background in machine learning and know how to invent and modify advanced innovative algorithms, applying them to large data sets. You will be a great teammate who is eager to both teach and learn every day, that is enthusiastic and self-motivated to solve useful problems.   More specifically, you will help us solve business and technical problems with robust and statistically sound use of rigorous scientific methodologies and creative use of algorithms using AI, machine (deep, reinforcement) learning and predictive modelling techniques. You should be comfortable in an environment that combines clear problem specifications with sometimes unpredictable situations, carrying unknowns both of technical and functional kind. Given the global setup, you will also be confident and familiar with tools and styles to work remotely in effective ways together with a team located in multiple geographical locations. You will have the opportunity to actively participate as contributor or leader in a team of peer data scientists, understanding the collaborative and transparent relationships with engineering and product teams and the ways of working of an agile environment. When appropriate, we will support and encourage that you strive to publish the best work in the top journals and conferences.   In all, we are looking for ambitious scientists with an uncommon academic background, an ideal blend of coding, machine learning and statistics, a colleague with whom we can share the enjoyment of being curious, the interest in difficult mathematical and algorithmic problems, and the commitment to be innovative in building predictive models as well as in the way society deals with sensitive data.   We would like you to have An advanced degree in Computer Science, Physics, Engineering, Mathematics or similar, and postgraduate experience in AI, machine learning, analytics and/or predictive modelling. Excellent understanding of the mathematical theory behind common machine learning algorithms for solving classification and regression problems in supervised and unsupervised learning, together with practical experience with the relevant open source libraries. Consistency in developing, innovating, and applying advanced algorithms to address practical problems and in building new analytical products of commercial value. Practical experience in feature engineering, evaluation, selection and automation of such tasks, model interpretation and visualization. Robust knowledge and experience with statistical methods, in particular with the estimation of confidence intervals around parameter values and predicted quantities. Domain expertise in industries such as online retail, digital marketing, financial services, insurance, health care, manufacturing, consumer goods, telecommunications. Proficiency with several years    experience in more than one of Python, R, Java, C, C++, Scala, and robust Linux shell scripting, as well as in using query languages such as SQL and its adaptations. Experience with horizontally scalable data stores such as Hadoop and other NoSQL technologies such as Map Reduce, Spark, HBase, etc., and associated schemas. It would be fantastic if you also have  A PhD degree in a quantitative Science or technical field. Post-doctoral academic research experience in AI and Machine Learning. Experience in a DevOps role or even better in the nascent DataOps role. Deep knowledge of graphical models, Bayesian networks, Gaussian processes, MCMC, hidden Markov models and social network analysis. Expertise with NLP, text processing and modelling, automatic summarization, translation, named entity recognition, relationship extraction, sentiment analysis, in particular using deep learning techniques for such tasks, employing popular frameworks, including Keras, TensorFlow, MXNet, Torch, Theano, etc. Expertise in Reinforcement Learning and its deep version. Experience in leading and mentoring other data scientists. You will have several opportunities to complete end-to-end execution of the data science process. This will be carried out in a collaborative environment with product and engineering teams, but ranges from understanding business requirements, data discovery and extraction, model development and evaluation, to production pipeline implementation. To do so you will have access to state of the art computational resources, the opportunity to learn by experimenting with technology and the latest open source libraries, a wealth of data to be understood and modelled, and the most friendly and knowledgeable colleagues in a company that offers extraordinary career opportunities for the best.   Join and build the future with us!  Detailed Description and Job Requirements  Designs, develops and programs methods, processes, and systems to consolidate and analyze unstructured, diverse    big data    sources to generate actionable insights and solutions for client services and product enhancement.  Interacts with product and service teams to identify questions and issues for data analysis and experiments. Develops and codes software programs, algorithms and automated processes to cleanse, integrate and evaluate large datasets from multiple disparate sources. Identifies meaningful insights from large data and metadata sources; interprets and communicates insights and findings from analysis and experiments to product, service, and business managers.  Leading contributor individually and as a team member, providing direction and mentoring to others. Work is non-routine and very complex, involving the application of advanced technical/business skills in area of specialization. 8 years relevant work experience. BS/BA preferred.  Oracle will consider for employment qualified applicants with criminal histories in a manner consistent with the requirements of San Francisco\\'s Fair Chance Ordinance.  Oracle is an Equal Employment Opportunity Employer. All qualified applicants will receive consideration for employment without regard to race, color, religion, sex, national origin, sexual orientation, gender identity, disability and protected veterans status or any other characteristic protected by law.\"'"
      ]
     },
     "execution_count": 35,
     "metadata": {},
     "output_type": "execute_result"
    }
   ],
   "source": [
    "df.loc[90]['description']"
   ]
  },
  {
   "cell_type": "code",
   "execution_count": 36,
   "metadata": {},
   "outputs": [
    {
     "data": {
      "text/plain": [
       "\"Part-timeThe Nittany Artificial Intelligence (AI) Alliance at The Pennsylvania State University (PSU) is looking for a talented and highly motivated undergraduate intern to work on AI-related projects, gaining hands-on experience that enhances their learning at Penn State, while also gaining highly marketable development experience. Selected candidates will be members of a software development team and assist with the development of prototypes leveraging artificial intelligence and the design and configuration of cognitive modules within existing cognitive agents. We are looking for a Data Science intern to join our team beginning Summer 2019. As a Data Science Intern, you will collaborate with the other software development team members to do meaningful work while also growing your expertise. Strong consideration will be given to candidates who can present a successful project in machine learning that demonstrates the ability to create and train end-to-end solutions combining data preparation, advanced analysis, and useful outputs. Responsibilities include working within an agile development environment with other software developers, a scrum master, and product owners to develop and deliver quality solutions. Specifically, the Data Science intern will perform the following: Research state-of-the-art algorithms in machine learning to identify viable approaches to significant unsolved challenges for Nittany AI Alliance projects. Design solution prototypes that connect data sources through the selected algorithms to a concrete use case. Develop code to implement the algorithms, and test their efficacy and efficiency against real-world data. Requirements: Proficiency with a modern programming language appropriate for machine learning prototyping. Python is required, and skill in another language such as JavaScript or R would be beneficial. Knowledge of data structures and data management methods, and the ability to analyze a problem and determine an efficient structure for the task. As development is performed within an agile/scrum environment, knowledge of continuous build integration and development operations is desired. Ability to communicate technical topics effectively to both technical and nontechnical team members and staff. Ability to read, understand, and apply technical papers and articles in research journals. A self-starter comfortable working in a team environment is a must; therefore, the ability to effectively communicate with product owners and team members and the ability to develop clear written technical documentation, are critical. Preferred: Experience with cloud computing and storage services, including Amazon Web Services (AWS), Microsoft Azure, or Google Cloud; specific experience with machine learning and deep learning capabilities on those platforms is preferred. Experience with containerization technologies, particularly Docker and Kubernetes. Experience with machine learning frameworks and libraries, such as TensorFlow, Infer.net, or Caffe. Proficiency in the underlying mathematics of deep learning, particularly linear algebra and multivariate calculus. This is a part-time position working 15-20 hours per week from ASAP after completion of the PSU Spring semester through 8/19/2019. Possibility for internship to extend into Fall semester based on Nittany AI Alliance workload and availability of the candidate.'\""
      ]
     },
     "execution_count": 36,
     "metadata": {},
     "output_type": "execute_result"
    }
   ],
   "source": [
    "df.loc[121]['description']"
   ]
  },
  {
   "cell_type": "code",
   "execution_count": null,
   "metadata": {},
   "outputs": [],
   "source": [
    "# This is very accurate to the results I was looking for, pretty cool."
   ]
  },
  {
   "cell_type": "markdown",
   "metadata": {
    "colab_type": "text",
    "id": "FiDfTWceoRkH"
   },
   "source": [
    "## Stretch Goals\n",
    "\n",
    " - Try different visualizations for words and frequencies - what story do you want to tell with the data?\n",
    " - Scrape Job Listings for the job title \"Data Analyst\". How do these differ from Data Scientist Job Listings\n",
    " - Try and identify requirements for experience specific technologies that are asked for in the job listings. How are those distributed among the job listings?\n",
    " - Use a clustering algorithm to cluster documents by their most important terms. Do the clusters reveal any common themes?\n",
    "  - **Hint:** K-means might not be the best algorithm for this. Do a little bit of research to see what might be good for this. Also, remember that algorithms that depend on Euclidean distance break down with high dimensional data.\n",
    " - Create a labeled dataset - which jobs will you apply for? Train a model to select the jobs you are most likely to apply for. :) "
   ]
  }
 ],
 "metadata": {
  "colab": {
   "collapsed_sections": [],
   "name": "LS_DS_422_BOW_Assignment.ipynb",
   "provenance": [],
   "version": "0.3.2"
  },
  "kernel_info": {
   "name": "python3"
  },
  "kernelspec": {
   "display_name": "U4-S1-NLP (Python3)",
   "language": "python",
   "name": "u4-s1-nlp"
  },
  "language_info": {
   "codemirror_mode": {
    "name": "ipython",
    "version": 3
   },
   "file_extension": ".py",
   "mimetype": "text/x-python",
   "name": "python",
   "nbconvert_exporter": "python",
   "pygments_lexer": "ipython3",
   "version": "3.7.0"
  },
  "nteract": {
   "version": "0.14.3"
  }
 },
 "nbformat": 4,
 "nbformat_minor": 4
}
