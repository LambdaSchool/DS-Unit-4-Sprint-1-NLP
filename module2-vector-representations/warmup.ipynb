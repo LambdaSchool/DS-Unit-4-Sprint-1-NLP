{
 "cells": [
  {
   "cell_type": "markdown",
   "metadata": {},
   "source": [
    "insert() - records a new temperature.\n",
    " get_max() - returns the highest temperature we've seen so far.\n",
    " get_min() - returns the lowest temperature we've seen so far.\n",
    " get_mean() - returns the mean of all temperatures we've seen so far.\n",
    " get_mode() - returns a mode of all temperatures we've seen so far.\n",
    "get_mean() should return a float. The rest of the methods can return integers. Temperatures should be recorded in Fahrenheit, so we can assume a range of 0 to 140.\n",
    "If there is more than one mode, return any of the modes"
   ]
  },
  {
   "cell_type": "code",
   "execution_count": 26,
   "metadata": {},
   "outputs": [],
   "source": [
    "class TempTracker(object):\n",
    "    def __init__(self):\n",
    "        self.temps = []\n",
    "    \n",
    "    def insert(self, temp):\n",
    "        if isinstance(temp, (int, float)):\n",
    "            self.temps.append(temp)\n",
    "    \n",
    "    def get_max(self):\n",
    "        if len(self.temps) == 0:\n",
    "            return\n",
    "        return max(self.temps)\n",
    "    \n",
    "    def get_min(self):\n",
    "        if len(self.temps) == 0:\n",
    "            return\n",
    "        return min(self.temps)\n",
    "    \n",
    "    def get_mean(self):\n",
    "        if len(self.temps) == 0:\n",
    "            return\n",
    "        return sum(self.temps) / len(self.temps)\n",
    "    \n",
    "    def get_mode(self):\n",
    "        counts = [self.temps.count(temp) for temp in self.temps]\n",
    "        for i in range(len(counts)):\n",
    "            if counts[i] == max(counts):\n",
    "                return self.temps[i]"
   ]
  },
  {
   "cell_type": "code",
   "execution_count": 30,
   "metadata": {},
   "outputs": [
    {
     "data": {
      "text/plain": [
       "(100.4, 32, 82.4, 98.6)"
      ]
     },
     "execution_count": 30,
     "metadata": {},
     "output_type": "execute_result"
    }
   ],
   "source": [
    "tt = TempTracker()\n",
    "tt.insert(98.6)\n",
    "tt.insert(100.4)\n",
    "tt.insert(32)\n",
    "tt.insert(98.6)\n",
    "tt.get_max(), tt.get_min(), tt.get_mean(), tt.get_mode()"
   ]
  },
  {
   "cell_type": "code",
   "execution_count": 34,
   "metadata": {},
   "outputs": [
    {
     "data": {
      "text/plain": [
       "''"
      ]
     },
     "execution_count": 34,
     "metadata": {},
     "output_type": "execute_result"
    }
   ],
   "source": [
    "import re\n",
    "\n",
    "u = re.compile('[a-z_]+://\\S+')\n",
    "\n",
    "u.sub('go to http://www.google.com/later if you want.', '')\n"
   ]
  },
  {
   "cell_type": "code",
   "execution_count": 35,
   "metadata": {},
   "outputs": [
    {
     "name": "stdout",
     "output_type": "stream",
     "text": [
      "/Users/guest/lambda/git/DS-Unit-4-Sprint-1-NLP/module2-vector-representations/data\n"
     ]
    }
   ],
   "source": [
    "!pwd\n"
   ]
  },
  {
   "cell_type": "code",
   "execution_count": 38,
   "metadata": {},
   "outputs": [
    {
     "data": {
      "text/plain": [
       "\"b'<ul><li>Location: USA \\\\xe2\\\\x80\\\\x93 multiple locations</li>\\\\n<li>2+ years of Analytics experience</li>\\\\n<li>Understand business requirements and technical requirements</li>\\\\n<li>Can handle data extraction, preparation and transformation</li>\\\\n<li>Create and implement data models</li></ul>'\""
      ]
     },
     "execution_count": 38,
     "metadata": {},
     "output_type": "execute_result"
    }
   ],
   "source": [
    "import csv\n",
    "\n",
    "rows = []\n",
    "with open('job_listings.csv', 'r') as csv_file:\n",
    "    reader = csv.reader(csv_file)\n",
    "    rows = [row for row in reader]\n",
    "\n",
    "rows[5][1]"
   ]
  },
  {
   "cell_type": "code",
   "execution_count": 39,
   "metadata": {},
   "outputs": [
    {
     "name": "stdout",
     "output_type": "stream",
     "text": [
      "b'<ul><li>Location: USA \\xe2\\x80\\x93 multiple locations</li>\\n<li>2+ years of Analytics experience</li>\\n<li>Understand business requirements and technical requirements</li>\\n<li>Can handle data extraction, preparation and transformation</li>\\n<li>Create and implement data models</li></ul>'\n",
      "<class 'bytes'>\n",
      "<class 'str'>\n"
     ]
    }
   ],
   "source": [
    "eval(rows[5][1])\n",
    "print(a)\n",
    "print(type(a))\n",
    "print(type(rows[5][1]))"
   ]
  },
  {
   "cell_type": "code",
   "execution_count": 47,
   "metadata": {},
   "outputs": [
    {
     "name": "stdout",
     "output_type": "stream",
     "text": [
      "b'<div>Job Description<br/>\\n<br/>\\n<p>As a Data Scientist 1, you will help us build machine learning models, data pipelines, and micro-services to help our clients navigate their healthcare journey. You will do so by empowering and improving the next generation of Accolade Applications and user experiences.</p><p><b>\\nA day in the life\\xe2\\x80\\xa6</b></p><ul><li>\\nWork with a small agile team to design and develop mobile applications in an iterative fashion.</li><li>\\nWork with a tight-knit group of development team members in Seattle.</li><li>\\nContribute to best practices and help guide the future of our applications.</li><li>\\nOperates effectively as a collaborative member of the development team.</li><li>\\nOperates effectively as an individual for quick turnaround of enhancements and fixes.</li><li>\\nResponsible for meeting expectations and deliverables on time with high quality.</li><li>\\nDrive and implement new features within our mobile applications.</li><li>\\nPerform thorough manual testing and writing test cases that cover all areas.</li><li>\\nIdentify new development tools/approaches that will increase code quality, efficiency, and best practices.</li><li>\\nDevelop and champion the the development processes, coding style guidelines, and architectural designs necessary to innovate and maintain great product quality.</li><li>\\nEffectively turns design documents and graphics into performant, usable UI.</li><li>\\nDemonstrates creative, technical, and analytical skills.</li><li>\\nDemonstrates ability to communicate effectively in both technical and business environments</li></ul></div>\\n<br/>\\n<div>Qualifications<br/>\\n<br/>\\n<p><b>What we are looking for\\xe2\\x80\\xa6</b></p><ul><li>\\nMaster\\xe2\\x80\\x99s Degree in Computer Science, Math, or related field.</li><li>\\nComputer Science fundamentals, as illustrated through algorithm design, problem solving, and complexity analysis.</li><li>\\nMust have 1+ year real-world experience developing and deploying micro-services or data pipelines</li><li>\\nMust have a fundamental understanding of key machine learning concepts, such as accuracy measures, cross-validation, and open source machine learning libraries</li><li>\\nFluent in Python and SQL</li><li>\\nProficient with writing unit/functional tests and familiar with automation frameworks</li><li>\\nExperience with cloud infrastructure, such as AWS or Azure, is a plus.</li><li>\\nExperience with distributed data pipelines, such as a Spark, is a plus.</li><li>\\nStrong written and oral communication skills.</li><li>\\nDesire and willingness to work in an Agile, collaborative, innovative, flexible, and team-oriented environment</li><li>\\nHands-on, detail-oriented, methodical &amp; inquisitive</li><li>\\nA motivated self-starter with a solid level of experience that quickly grasps complex challenges</li><li>\\nA skillful communicator with experience working with technical management teams</li><li>\\n A service oriented person who thinks \"Customer First\"</li><li>\\nFast fail entrepreneurial spirit</li><li>\\nThrives in a fast-paced environment where continuous improvement is the norm and the bar for quality is extremely high</li><li>\\nExcited by the challenges of working in a product team undergoing rapid, international growth</li></ul><br/>\\nAdditional Information<br/>\\n<br/>\\n<p><b>What is important to us</b></p><p>\\nCreating an enduring company that is hyper-focused on our culture and making a meaningful impact in the lives of our employees, members and customers. The secret to our success is:</p><p><b>\\nWe find joy and purpose in serving others</b></p><p>\\nMaking a difference in our members\\xe2\\x80\\x99 and customers\\xe2\\x80\\x99 lives is what we do. Even when it\\xe2\\x80\\x99s hard, we do the right thing for the right reasons.</p><p><b>\\nWe are strong individually and together, we\\xe2\\x80\\x99re powerful</b></p><p>\\nTrusting in our colleagues and embracing their different backgrounds and experiences enable us to solve tough problems in creative ways, having fun along the way.</p><p><b>\\nWe roll up our sleeves and get stuff done</b></p><p>\\nResults motivate us. And we aren\\'t afraid of the hard work or tough decisions needed to get us there.</p><p><b>\\nWe\\xe2\\x80\\x99re boldly and relentlessly reinventing healthcare</b></p><p>\\nWe\\'re curious and act big - not afraid to knock down barriers or take calculated risks to change the world, one person at a time.</p><p>\\nAll your information will be kept confidential according to EEO guidelines.</p></div>'\n",
      "\n",
      "b'<div>Job Description<br/>\\n<br/>\\n<p>As a Data Scientist 1, you will help us build machine learning models, data pipelines, and micro-services to help our clients navigate their healthcare journey. You will do so by empowering and improving the next generation of Accolade Applications and user experiences.</p><p><b>\\nA day in the life\\xe2\\x80\\xa6</b></p><ul><li>\\nWork with a small agile team to design and develop mobile applications in an iterative fashion.</li><li>\\nWork with a tight-knit group of development team members in Seattle.</li><li>\\nContribute to best practices and help guide the future of our applications.</li><li>\\nOperates effectively as a collaborative member of the development team.</li><li>\\nOperates effectively as an individual for quick turnaround of enhancements and fixes.</li><li>\\nResponsible for meeting expectations and deliverables on time with high quality.</li><li>\\nDrive and implement new features within our mobile applications.</li><li>\\nPerform thorough manual testing and writing test cases that cover all areas.</li><li>\\nIdentify new development tools/approaches that will increase code quality, efficiency, and best practices.</li><li>\\nDevelop and champion the the development processes, coding style guidelines, and architectural designs necessary to innovate and maintain great product quality.</li><li>\\nEffectively turns design documents and graphics into performant, usable UI.</li><li>\\nDemonstrates creative, technical, and analytical skills.</li><li>\\nDemonstrates ability to communicate effectively in both technical and business environments</li></ul></div>\\n<br/>\\n<div>Qualifications<br/>\\n<br/>\\n<p><b>What we are looking for\\xe2\\x80\\xa6</b></p><ul><li>\\nMaster\\xe2\\x80\\x99s Degree in Computer Science, Math, or related field.</li><li>\\nComputer Science fundamentals, as illustrated through algorithm design, problem solving, and complexity analysis.</li><li>\\nMust have 1+ year real-world experience developing and deploying micro-services or data pipelines</li><li>\\nMust have a fundamental understanding of key machine learning concepts, such as accuracy measures, cross-validation, and open source machine learning libraries</li><li>\\nFluent in Python and SQL</li><li>\\nProficient with writing unit/functional tests and familiar with automation frameworks</li><li>\\nExperience with cloud infrastructure, such as AWS or Azure, is a plus.</li><li>\\nExperience with distributed data pipelines, such as a Spark, is a plus.</li><li>\\nStrong written and oral communication skills.</li><li>\\nDesire and willingness to work in an Agile, collaborative, innovative, flexible, and team-oriented environment</li><li>\\nHands-on, detail-oriented, methodical &amp; inquisitive</li><li>\\nA motivated self-starter with a solid level of experience that quickly grasps complex challenges</li><li>\\nA skillful communicator with experience working with technical management teams</li><li>\\n A service oriented person who thinks \"Customer First\"</li><li>\\nFast fail entrepreneurial spirit</li><li>\\nThrives in a fast-paced environment where continuous improvement is the norm and the bar for quality is extremely high</li><li>\\nExcited by the challenges of working in a product team undergoing rapid, international growth</li></ul><br/>\\nAdditional Information<br/>\\n<br/>\\n<p><b>What is important to us</b></p><p>\\nCreating an enduring company that is hyper-focused on our culture and making a meaningful impact in the lives of our employees, members and customers. The secret to our success is:</p><p><b>\\nWe find joy and purpose in serving others</b></p><p>\\nMaking a difference in our members\\xe2\\x80\\x99 and customers\\xe2\\x80\\x99 lives is what we do. Even when it\\xe2\\x80\\x99s hard, we do the right thing for the right reasons.</p><p><b>\\nWe are strong individually and together, we\\xe2\\x80\\x99re powerful</b></p><p>\\nTrusting in our colleagues and embracing their different backgrounds and experiences enable us to solve tough problems in creative ways, having fun along the way.</p><p><b>\\nWe roll up our sleeves and get stuff done</b></p><p>\\nResults motivate us. And we aren\\'t afraid of the hard work or tough decisions needed to get us there.</p><p><b>\\nWe\\xe2\\x80\\x99re boldly and relentlessly reinventing healthcare</b></p><p>\\nWe\\'re curious and act big - not afraid to knock down barriers or take calculated risks to change the world, one person at a time.</p><p>\\nAll your information will be kept confidential according to EEO guidelines.</p></div>'\n"
     ]
    }
   ],
   "source": [
    "print(rows[2][1])\n",
    "print()\n",
    "print(str(eval(rows[2][1])))"
   ]
  },
  {
   "cell_type": "code",
   "execution_count": 48,
   "metadata": {},
   "outputs": [],
   "source": [
    "from bs4 import BeautifulSoup\n",
    "\n",
    "soup = BeautifulSoup(eval(rows[2][1]), 'html.parser')"
   ]
  },
  {
   "cell_type": "code",
   "execution_count": 49,
   "metadata": {},
   "outputs": [
    {
     "data": {
      "text/plain": [
       "'Job Description\\n\\nAs a Data Scientist 1, you will help us build machine learning models, data pipelines, and micro-services to help our clients navigate their healthcare journey. You will do so by empowering and improving the next generation of Accolade Applications and user experiences.\\nA day in the life…\\nWork with a small agile team to design and develop mobile applications in an iterative fashion.\\nWork with a tight-knit group of development team members in Seattle.\\nContribute to best practices and help guide the future of our applications.\\nOperates effectively as a collaborative member of the development team.\\nOperates effectively as an individual for quick turnaround of enhancements and fixes.\\nResponsible for meeting expectations and deliverables on time with high quality.\\nDrive and implement new features within our mobile applications.\\nPerform thorough manual testing and writing test cases that cover all areas.\\nIdentify new development tools/approaches that will increase code quality, efficiency, and best practices.\\nDevelop and champion the the development processes, coding style guidelines, and architectural designs necessary to innovate and maintain great product quality.\\nEffectively turns design documents and graphics into performant, usable UI.\\nDemonstrates creative, technical, and analytical skills.\\nDemonstrates ability to communicate effectively in both technical and business environments\\n\\nQualifications\\n\\nWhat we are looking for…\\nMaster’s Degree in Computer Science, Math, or related field.\\nComputer Science fundamentals, as illustrated through algorithm design, problem solving, and complexity analysis.\\nMust have 1+ year real-world experience developing and deploying micro-services or data pipelines\\nMust have a fundamental understanding of key machine learning concepts, such as accuracy measures, cross-validation, and open source machine learning libraries\\nFluent in Python and SQL\\nProficient with writing unit/functional tests and familiar with automation frameworks\\nExperience with cloud infrastructure, such as AWS or Azure, is a plus.\\nExperience with distributed data pipelines, such as a Spark, is a plus.\\nStrong written and oral communication skills.\\nDesire and willingness to work in an Agile, collaborative, innovative, flexible, and team-oriented environment\\nHands-on, detail-oriented, methodical & inquisitive\\nA motivated self-starter with a solid level of experience that quickly grasps complex challenges\\nA skillful communicator with experience working with technical management teams\\n A service oriented person who thinks \"Customer First\"\\nFast fail entrepreneurial spirit\\nThrives in a fast-paced environment where continuous improvement is the norm and the bar for quality is extremely high\\nExcited by the challenges of working in a product team undergoing rapid, international growth\\nAdditional Information\\n\\nWhat is important to us\\nCreating an enduring company that is hyper-focused on our culture and making a meaningful impact in the lives of our employees, members and customers. The secret to our success is:\\nWe find joy and purpose in serving others\\nMaking a difference in our members’ and customers’ lives is what we do. Even when it’s hard, we do the right thing for the right reasons.\\nWe are strong individually and together, we’re powerful\\nTrusting in our colleagues and embracing their different backgrounds and experiences enable us to solve tough problems in creative ways, having fun along the way.\\nWe roll up our sleeves and get stuff done\\nResults motivate us. And we aren\\'t afraid of the hard work or tough decisions needed to get us there.\\nWe’re boldly and relentlessly reinventing healthcare\\nWe\\'re curious and act big - not afraid to knock down barriers or take calculated risks to change the world, one person at a time.\\nAll your information will be kept confidential according to EEO guidelines.'"
      ]
     },
     "execution_count": 49,
     "metadata": {},
     "output_type": "execute_result"
    }
   ],
   "source": [
    "soup.get_text()"
   ]
  },
  {
   "cell_type": "code",
   "execution_count": 50,
   "metadata": {},
   "outputs": [
    {
     "name": "stdout",
     "output_type": "stream",
     "text": [
      "Job Description\n",
      "\n",
      "As a Data Scientist 1, you will help us build machine learning models, data pipelines, and micro-services to help our clients navigate their healthcare journey. You will do so by empowering and improving the next generation of Accolade Applications and user experiences.\n",
      "A day in the life…\n",
      "Work with a small agile team to design and develop mobile applications in an iterative fashion.\n",
      "Work with a tight-knit group of development team members in Seattle.\n",
      "Contribute to best practices and help guide the future of our applications.\n",
      "Operates effectively as a collaborative member of the development team.\n",
      "Operates effectively as an individual for quick turnaround of enhancements and fixes.\n",
      "Responsible for meeting expectations and deliverables on time with high quality.\n",
      "Drive and implement new features within our mobile applications.\n",
      "Perform thorough manual testing and writing test cases that cover all areas.\n",
      "Identify new development tools/approaches that will increase code quality, efficiency, and best practices.\n",
      "Develop and champion the the development processes, coding style guidelines, and architectural designs necessary to innovate and maintain great product quality.\n",
      "Effectively turns design documents and graphics into performant, usable UI.\n",
      "Demonstrates creative, technical, and analytical skills.\n",
      "Demonstrates ability to communicate effectively in both technical and business environments\n",
      "\n",
      "Qualifications\n",
      "\n",
      "What we are looking for…\n",
      "Master’s Degree in Computer Science, Math, or related field.\n",
      "Computer Science fundamentals, as illustrated through algorithm design, problem solving, and complexity analysis.\n",
      "Must have 1+ year real-world experience developing and deploying micro-services or data pipelines\n",
      "Must have a fundamental understanding of key machine learning concepts, such as accuracy measures, cross-validation, and open source machine learning libraries\n",
      "Fluent in Python and SQL\n",
      "Proficient with writing unit/functional tests and familiar with automation frameworks\n",
      "Experience with cloud infrastructure, such as AWS or Azure, is a plus.\n",
      "Experience with distributed data pipelines, such as a Spark, is a plus.\n",
      "Strong written and oral communication skills.\n",
      "Desire and willingness to work in an Agile, collaborative, innovative, flexible, and team-oriented environment\n",
      "Hands-on, detail-oriented, methodical & inquisitive\n",
      "A motivated self-starter with a solid level of experience that quickly grasps complex challenges\n",
      "A skillful communicator with experience working with technical management teams\n",
      " A service oriented person who thinks \"Customer First\"\n",
      "Fast fail entrepreneurial spirit\n",
      "Thrives in a fast-paced environment where continuous improvement is the norm and the bar for quality is extremely high\n",
      "Excited by the challenges of working in a product team undergoing rapid, international growth\n",
      "Additional Information\n",
      "\n",
      "What is important to us\n",
      "Creating an enduring company that is hyper-focused on our culture and making a meaningful impact in the lives of our employees, members and customers. The secret to our success is:\n",
      "We find joy and purpose in serving others\n",
      "Making a difference in our members’ and customers’ lives is what we do. Even when it’s hard, we do the right thing for the right reasons.\n",
      "We are strong individually and together, we’re powerful\n",
      "Trusting in our colleagues and embracing their different backgrounds and experiences enable us to solve tough problems in creative ways, having fun along the way.\n",
      "We roll up our sleeves and get stuff done\n",
      "Results motivate us. And we aren't afraid of the hard work or tough decisions needed to get us there.\n",
      "We’re boldly and relentlessly reinventing healthcare\n",
      "We're curious and act big - not afraid to knock down barriers or take calculated risks to change the world, one person at a time.\n",
      "All your information will be kept confidential according to EEO guidelines.\n"
     ]
    }
   ],
   "source": [
    "print(soup.get_text())"
   ]
  },
  {
   "cell_type": "code",
   "execution_count": null,
   "metadata": {},
   "outputs": [],
   "source": []
  }
 ],
 "metadata": {
  "kernelspec": {
   "display_name": "U4-S1-NLP (Python3)",
   "language": "python",
   "name": "u4-s1-nlp"
  },
  "language_info": {
   "codemirror_mode": {
    "name": "ipython",
    "version": 3
   },
   "file_extension": ".py",
   "mimetype": "text/x-python",
   "name": "python",
   "nbconvert_exporter": "python",
   "pygments_lexer": "ipython3",
   "version": "3.7.0"
  }
 },
 "nbformat": 4,
 "nbformat_minor": 4
}
