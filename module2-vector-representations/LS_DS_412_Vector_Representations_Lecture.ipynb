{
 "cells": [
  {
   "cell_type": "markdown",
   "metadata": {},
   "source": [
    "<img align=\"left\" src=\"https://lever-client-logos.s3.amazonaws.com/864372b1-534c-480e-acd5-9711f850815c-1524247202159.png\" width=200>\n",
    "<br></br>\n",
    "<br></br>\n",
    "\n",
    "# Vector Representations\n",
    "## *Data Science Unit 4 Sprint 1 Lesson 2*\n",
    "\n",
    "As we learned yesterday, machines cannot intrepret raw text. We need to transform that text into something we/machines can more readily analyze. Yesterday, we did simple counts of counts to summarize the content of Amazon reviews. Today, we'll extend those concepts to talk about vector representations such as Bag of Words (BoW) and word embedding models. We'll use those representations for search, visualization, and prepare for our classification day tomorrow. \n",
    "\n",
    "Processing text data to prepare it for maching learning models often means translating the information from documents into a numerical format. Bag-of-Words approaches (sometimes referred to as Frequency-Based word embeddings) accomplish this by \"vectorizing\" tokenized documents. This is done by representing each document as a row in a dataframe and creating a column for each unique word in the corpora (group of documents). The presence or lack of a given word in a document is then represented either as a raw count of how many times a given word appears in a document (CountVectorizer) or as that word's TF-IDF score (TfidfVectorizer).\n",
    "\n",
    "On the python side, we will be focusing on `sklearn` and `spacy` today.  \n",
    "\n",
    "## Case Study\n",
    "\n",
    "We're going to pretend we're on the datascience team at the BBC. We want to recommend articles to visiters to on the BBC website based on the article they just read. \n",
    "\n",
    "## Learning Objectives\n",
    "* <a href=\"#p1\">Part 1</a>: Represent a document as a vector\n",
    "* <a href=\"#p2\">Part 2</a>: Query Documents by Similarity\n",
    "* <a href=\"#p3\">Part 3</a>: Apply word embedding models to create document vectors"
   ]
  },
  {
   "cell_type": "markdown",
   "metadata": {},
   "source": [
    "**Warm Up (_3 Minutes_)**\n",
    "\n",
    "Extract the tokens from this sentence using Spacy. Text is from [OpenAI](https://openai.com/blog/better-language-models/)"
   ]
  },
  {
   "cell_type": "code",
   "execution_count": 1,
   "metadata": {},
   "outputs": [],
   "source": [
    "text = \"We created a new dataset which emphasizes diversity of content, by scraping content from the Internet. In order to preserve document quality, we used only pages which have been curated/filtered by humans—specifically, we used outbound links from Reddit which received at least 3 karma. This can be thought of as a heuristic indicator for whether other users found the link interesting (whether educational or funny), leading to higher data quality than other similar datasets, such as CommonCrawl.\""
   ]
  },
  {
   "cell_type": "code",
   "execution_count": 2,
   "metadata": {},
   "outputs": [
    {
     "name": "stdout",
     "output_type": "stream",
     "text": [
      "['We', 'created', 'a', 'new', 'dataset', 'which', 'emphasizes', 'diversity', 'of', 'content,', 'by', 'scraping', 'content', 'from', 'the', 'Internet.', 'In', 'order', 'to', 'preserve', 'document', 'quality,', 'we', 'used', 'only', 'pages', 'which', 'have', 'been', 'curated/filtered', 'by', 'humans—specifically,', 'we', 'used', 'outbound', 'links', 'from', 'Reddit', 'which', 'received', 'at', 'least', '3', 'karma.', 'This', 'can', 'be', 'thought', 'of', 'as', 'a', 'heuristic', 'indicator', 'for', 'whether', 'other', 'users', 'found', 'the', 'link', 'interesting', '(whether', 'educational', 'or', 'funny),', 'leading', 'to', 'higher', 'data', 'quality', 'than', 'other', 'similar', 'datasets,', 'such', 'as', 'CommonCrawl.']\n"
     ]
    }
   ],
   "source": [
    "import spacy\n",
    "from spacy.tokenizer import Tokenizer\n",
    "\n",
    "nlp = spacy.load(\"en_core_web_sm\")\n",
    "\n",
    "tokenizer = Tokenizer(nlp.vocab)\n",
    "\n",
    "print([token.text for token in tokenizer(text)])"
   ]
  },
  {
   "cell_type": "code",
   "execution_count": 3,
   "metadata": {},
   "outputs": [
    {
     "name": "stdout",
     "output_type": "stream",
     "text": [
      "['create', 'a', 'new', 'dataset', 'which', 'emphasize', 'diversity', 'of', 'content', 'by', 'scrap', 'content', 'from', 'the', 'internet', 'in', 'order', 'to', 'preserve', 'document', 'quality', 'use', 'only', 'page', 'which', 'have', 'be', 'curat', 'filter', 'by', 'human', 'specifically', 'use', 'outbound', 'link', 'from', 'reddit', 'which', 'receive', 'at', 'least', '3', 'karma', 'this', 'can', 'be', 'think', 'of', 'as', 'a', 'heuristic', 'indicator', 'for', 'whether', 'other', 'user', 'find', 'the', 'link', 'interesting', 'whether', 'educational', 'or', 'funny', 'lead', 'to', 'high', 'datum', 'quality', 'than', 'other', 'similar', 'dataset', 'such', 'as', 'commoncrawl']\n"
     ]
    }
   ],
   "source": [
    "nlp = spacy.load(\"en_core_web_sm\")\n",
    "\n",
    "doc = nlp(text)\n",
    "\n",
    "print([token.lemma_ for token in doc if (token.is_punct != True) and (token.lemma_ != '-PRON-')])"
   ]
  },
  {
   "cell_type": "code",
   "execution_count": 4,
   "metadata": {},
   "outputs": [],
   "source": [
    "# Build a freaking generator to return our BBC Data\n",
    "import os\n",
    "\n",
    "def generator_gather_data(filefolder):\n",
    "    \n",
    "    _list = []\n",
    "    \n",
    "    files = os.listdir(filefolder)\n",
    "    \n",
    "    \n",
    "    for article in files:\n",
    "        \n",
    "        path = os.path.join(filefolder, article)\n",
    "        \n",
    "        if path[-3:] == 'txt':\n",
    "            with open(path, 'rb') as f:\n",
    "                      _list.append(f.read())\n",
    "                      \n",
    "    yield _list"
   ]
  },
  {
   "cell_type": "code",
   "execution_count": 5,
   "metadata": {},
   "outputs": [],
   "source": [
    "def gather_data(filefolder):\n",
    "    \n",
    "    data = []\n",
    "    \n",
    "    files = os.listdir(filefolder)\n",
    "    \n",
    "    \n",
    "    for article in files:\n",
    "        \n",
    "        path = os.path.join(filefolder, article)\n",
    "        \n",
    "        if path[-3:] == 'txt':\n",
    "            with open(path, 'rb') as f:\n",
    "                      data.append(f.read())\n",
    "                      \n",
    "    return data"
   ]
  },
  {
   "cell_type": "code",
   "execution_count": 6,
   "metadata": {},
   "outputs": [],
   "source": [
    "data = gather_data('./data')"
   ]
  },
  {
   "cell_type": "code",
   "execution_count": 7,
   "metadata": {},
   "outputs": [
    {
     "data": {
      "text/plain": [
       "b\"Games 'deserve a place in class'\\n\\nComputer games c\""
      ]
     },
     "execution_count": 7,
     "metadata": {},
     "output_type": "execute_result"
    }
   ],
   "source": [
    "data[0][:50]"
   ]
  },
  {
   "cell_type": "markdown",
   "metadata": {},
   "source": [
    "## Represent a document as a vector\n",
    "<a id=\"p1\"></a>\n",
    "\n",
    "In this section, we are going to create Document Term Matrices (DTM). Each column represents a word. Each row represents a document. The value in each cell can be range of different things. The most traditional: counts of appearences of words, does the word appear at all (binary), and term-frequency inverse-document frequence (TF-IDF). \n",
    "\n",
    "**Discussion:** Don't we loose all the context and grammer if we do this? So Why does it work?\n"
   ]
  },
  {
   "cell_type": "markdown",
   "metadata": {},
   "source": [
    "### CountVectorizer"
   ]
  },
  {
   "cell_type": "code",
   "execution_count": 8,
   "metadata": {},
   "outputs": [],
   "source": [
    "from sklearn.feature_extraction.text import CountVectorizer\n",
    "\n",
    "# list of text documents\n",
    "text = [\"We created a new dataset which emphasizes diversity of content, by scraping content from the Internet.\",\" In order to preserve document quality, we used only pages which have been curated/filtered by humans—specifically, we used outbound links from Reddit which received at least 3 karma.\",\" This can be thought of as a heuristic indicator for whether other users found the link interesting (whether educational or funny), leading to higher data quality than other similar datasets, such as CommonCrawl.\"]\n",
    "\n",
    "# create the transform\n",
    "vectorizer = CountVectorizer(stop_words='english')\n",
    "\n",
    "# tokenize and build vocab\n",
    "vectorizer.fit(data)\n",
    "\n",
    "# Create a Vocabulary\n",
    "# The vocabulary establishes all of the possible words that we might use.\n",
    "vectorizer.vocabulary_\n",
    "# The vocabulary dictionary does not represent the counts of words!!\n",
    "dtm = vectorizer.transform(data)\n"
   ]
  },
  {
   "cell_type": "code",
   "execution_count": 9,
   "metadata": {},
   "outputs": [
    {
     "data": {
      "text/plain": [
       "matrix([[0, 0, 0, ..., 0, 0, 0],\n",
       "        [0, 0, 0, ..., 0, 0, 0],\n",
       "        [0, 1, 0, ..., 0, 0, 0],\n",
       "        ...,\n",
       "        [0, 0, 0, ..., 0, 0, 0],\n",
       "        [0, 1, 0, ..., 0, 0, 0],\n",
       "        [0, 1, 0, ..., 0, 0, 0]])"
      ]
     },
     "execution_count": 9,
     "metadata": {},
     "output_type": "execute_result"
    }
   ],
   "source": [
    "# Get Word Counts for each document\n",
    "dtm.todense()"
   ]
  },
  {
   "cell_type": "code",
   "execution_count": 11,
   "metadata": {},
   "outputs": [],
   "source": [
    "# summarize encoded vector\n",
    "import pandas as pd\n",
    "\n",
    "dtm = pd.DataFrame(dtm.todense(), columns = vectorizer.get_feature_names())"
   ]
  },
  {
   "cell_type": "code",
   "execution_count": 12,
   "metadata": {},
   "outputs": [],
   "source": [
    "# Apply CountVectorizer to our Data\n",
    "# Use custom Spacy Vectorizer\n",
    "\n",
    "\n"
   ]
  },
  {
   "cell_type": "markdown",
   "metadata": {},
   "source": [
    "### TfidfVectorizer\n",
    "\n",
    "## Term Frequency - Inverse Document Frequency (TF-IDF)\n",
    "\n",
    "<center><img src=\"https://mungingdata.files.wordpress.com/2017/11/equation.png?w=430&h=336\" width=\"300\"></center>\n",
    "\n",
    "Term Frequency: Percentage of words in document for each word\n",
    "\n",
    "Document Frequency: A penalty for the word existing in a high number of documents.\n",
    "\n",
    "The purpose of TF-IDF is to find what is **unique** to each document. Because of this we will penalize the term frequencies of words that are common across all documents which will allow for each document's most different topics to rise to the top."
   ]
  },
  {
   "cell_type": "code",
   "execution_count": 13,
   "metadata": {},
   "outputs": [
    {
     "data": {
      "text/html": [
       "<div>\n",
       "<style scoped>\n",
       "    .dataframe tbody tr th:only-of-type {\n",
       "        vertical-align: middle;\n",
       "    }\n",
       "\n",
       "    .dataframe tbody tr th {\n",
       "        vertical-align: top;\n",
       "    }\n",
       "\n",
       "    .dataframe thead th {\n",
       "        text-align: right;\n",
       "    }\n",
       "</style>\n",
       "<table border=\"1\" class=\"dataframe\">\n",
       "  <thead>\n",
       "    <tr style=\"text-align: right;\">\n",
       "      <th></th>\n",
       "      <th>000</th>\n",
       "      <th>10</th>\n",
       "      <th>100</th>\n",
       "      <th>101</th>\n",
       "      <th>104</th>\n",
       "      <th>10m</th>\n",
       "      <th>11</th>\n",
       "      <th>12</th>\n",
       "      <th>120</th>\n",
       "      <th>13</th>\n",
       "      <th>...</th>\n",
       "      <th>yoda</th>\n",
       "      <th>yoran</th>\n",
       "      <th>york</th>\n",
       "      <th>young</th>\n",
       "      <th>younger</th>\n",
       "      <th>youngsters</th>\n",
       "      <th>youth</th>\n",
       "      <th>zafi</th>\n",
       "      <th>zen</th>\n",
       "      <th>zombies</th>\n",
       "    </tr>\n",
       "  </thead>\n",
       "  <tbody>\n",
       "    <tr>\n",
       "      <th>0</th>\n",
       "      <td>0.000000</td>\n",
       "      <td>0.0</td>\n",
       "      <td>0.0</td>\n",
       "      <td>0.0</td>\n",
       "      <td>0.0</td>\n",
       "      <td>0.0</td>\n",
       "      <td>0.000000</td>\n",
       "      <td>0.000000</td>\n",
       "      <td>0.0</td>\n",
       "      <td>0.0</td>\n",
       "      <td>...</td>\n",
       "      <td>0.0</td>\n",
       "      <td>0.0</td>\n",
       "      <td>0.0</td>\n",
       "      <td>0.051604</td>\n",
       "      <td>0.0</td>\n",
       "      <td>0.064824</td>\n",
       "      <td>0.062631</td>\n",
       "      <td>0.0</td>\n",
       "      <td>0.0</td>\n",
       "      <td>0.0</td>\n",
       "    </tr>\n",
       "    <tr>\n",
       "      <th>1</th>\n",
       "      <td>0.000000</td>\n",
       "      <td>0.0</td>\n",
       "      <td>0.0</td>\n",
       "      <td>0.0</td>\n",
       "      <td>0.0</td>\n",
       "      <td>0.0</td>\n",
       "      <td>0.000000</td>\n",
       "      <td>0.000000</td>\n",
       "      <td>0.0</td>\n",
       "      <td>0.0</td>\n",
       "      <td>...</td>\n",
       "      <td>0.0</td>\n",
       "      <td>0.0</td>\n",
       "      <td>0.0</td>\n",
       "      <td>0.000000</td>\n",
       "      <td>0.0</td>\n",
       "      <td>0.000000</td>\n",
       "      <td>0.000000</td>\n",
       "      <td>0.0</td>\n",
       "      <td>0.0</td>\n",
       "      <td>0.0</td>\n",
       "    </tr>\n",
       "    <tr>\n",
       "      <th>2</th>\n",
       "      <td>0.017411</td>\n",
       "      <td>0.0</td>\n",
       "      <td>0.0</td>\n",
       "      <td>0.0</td>\n",
       "      <td>0.0</td>\n",
       "      <td>0.0</td>\n",
       "      <td>0.000000</td>\n",
       "      <td>0.025651</td>\n",
       "      <td>0.0</td>\n",
       "      <td>0.0</td>\n",
       "      <td>...</td>\n",
       "      <td>0.0</td>\n",
       "      <td>0.0</td>\n",
       "      <td>0.0</td>\n",
       "      <td>0.000000</td>\n",
       "      <td>0.0</td>\n",
       "      <td>0.000000</td>\n",
       "      <td>0.000000</td>\n",
       "      <td>0.0</td>\n",
       "      <td>0.0</td>\n",
       "      <td>0.0</td>\n",
       "    </tr>\n",
       "    <tr>\n",
       "      <th>3</th>\n",
       "      <td>0.000000</td>\n",
       "      <td>0.0</td>\n",
       "      <td>0.0</td>\n",
       "      <td>0.0</td>\n",
       "      <td>0.0</td>\n",
       "      <td>0.0</td>\n",
       "      <td>0.077901</td>\n",
       "      <td>0.000000</td>\n",
       "      <td>0.0</td>\n",
       "      <td>0.0</td>\n",
       "      <td>...</td>\n",
       "      <td>0.0</td>\n",
       "      <td>0.0</td>\n",
       "      <td>0.0</td>\n",
       "      <td>0.000000</td>\n",
       "      <td>0.0</td>\n",
       "      <td>0.000000</td>\n",
       "      <td>0.000000</td>\n",
       "      <td>0.0</td>\n",
       "      <td>0.0</td>\n",
       "      <td>0.0</td>\n",
       "    </tr>\n",
       "    <tr>\n",
       "      <th>4</th>\n",
       "      <td>0.024835</td>\n",
       "      <td>0.0</td>\n",
       "      <td>0.0</td>\n",
       "      <td>0.0</td>\n",
       "      <td>0.0</td>\n",
       "      <td>0.0</td>\n",
       "      <td>0.000000</td>\n",
       "      <td>0.000000</td>\n",
       "      <td>0.0</td>\n",
       "      <td>0.0</td>\n",
       "      <td>...</td>\n",
       "      <td>0.0</td>\n",
       "      <td>0.0</td>\n",
       "      <td>0.0</td>\n",
       "      <td>0.000000</td>\n",
       "      <td>0.0</td>\n",
       "      <td>0.000000</td>\n",
       "      <td>0.000000</td>\n",
       "      <td>0.0</td>\n",
       "      <td>0.0</td>\n",
       "      <td>0.0</td>\n",
       "    </tr>\n",
       "  </tbody>\n",
       "</table>\n",
       "<p>5 rows × 5000 columns</p>\n",
       "</div>"
      ],
      "text/plain": [
       "        000   10  100  101  104  10m        11        12  120   13  ...  yoda  \\\n",
       "0  0.000000  0.0  0.0  0.0  0.0  0.0  0.000000  0.000000  0.0  0.0  ...   0.0   \n",
       "1  0.000000  0.0  0.0  0.0  0.0  0.0  0.000000  0.000000  0.0  0.0  ...   0.0   \n",
       "2  0.017411  0.0  0.0  0.0  0.0  0.0  0.000000  0.025651  0.0  0.0  ...   0.0   \n",
       "3  0.000000  0.0  0.0  0.0  0.0  0.0  0.077901  0.000000  0.0  0.0  ...   0.0   \n",
       "4  0.024835  0.0  0.0  0.0  0.0  0.0  0.000000  0.000000  0.0  0.0  ...   0.0   \n",
       "\n",
       "   yoran  york     young  younger  youngsters     youth  zafi  zen  zombies  \n",
       "0    0.0   0.0  0.051604      0.0    0.064824  0.062631   0.0  0.0      0.0  \n",
       "1    0.0   0.0  0.000000      0.0    0.000000  0.000000   0.0  0.0      0.0  \n",
       "2    0.0   0.0  0.000000      0.0    0.000000  0.000000   0.0  0.0      0.0  \n",
       "3    0.0   0.0  0.000000      0.0    0.000000  0.000000   0.0  0.0      0.0  \n",
       "4    0.0   0.0  0.000000      0.0    0.000000  0.000000   0.0  0.0      0.0  \n",
       "\n",
       "[5 rows x 5000 columns]"
      ]
     },
     "execution_count": 13,
     "metadata": {},
     "output_type": "execute_result"
    }
   ],
   "source": [
    "from sklearn.feature_extraction.text import TfidfVectorizer\n",
    "\n",
    "# Instantiate vectorizer object\n",
    "tfidf = TfidfVectorizer(stop_words='english', max_features=5000)\n",
    "\n",
    "# Create a vocabulary and get word counts per document\n",
    "dtm = tfidf.fit_transform(data)\n",
    "#dtm = tfidf.transform(new_data)\n",
    "\n",
    "# Print word counts\n",
    "\n",
    "# Get feature names to use as dataframe column headers\n",
    "\n",
    "# View Feature Matrix as DataFrame\n",
    "docs = pd.DataFrame(dtm.todense(), columns = tfidf.get_feature_names())\n",
    "docs.head()"
   ]
  },
  {
   "cell_type": "code",
   "execution_count": 14,
   "metadata": {},
   "outputs": [],
   "source": [
    "# Tunning Parameters\n"
   ]
  },
  {
   "cell_type": "markdown",
   "metadata": {},
   "source": [
    "## Query Documents by Similarity\n",
    "<a id=\"p2\"></a>"
   ]
  },
  {
   "cell_type": "markdown",
   "metadata": {},
   "source": [
    "### Cosine Similarity (Brute Force)"
   ]
  },
  {
   "cell_type": "code",
   "execution_count": 15,
   "metadata": {},
   "outputs": [],
   "source": [
    "# Calculate Distance of TF-IDF Vectors\n",
    "from sklearn.metrics.pairwise import cosine_similarity\n",
    "\n",
    "dist_matrix  = cosine_similarity(dtm)"
   ]
  },
  {
   "cell_type": "code",
   "execution_count": 16,
   "metadata": {},
   "outputs": [
    {
     "data": {
      "text/plain": [
       "0"
      ]
     },
     "execution_count": 16,
     "metadata": {},
     "output_type": "execute_result"
    }
   ],
   "source": [
    "# Turn it into a DataFrame\n",
    "dist_df = pd.DataFrame(dist_matrix)\n",
    "\n",
    "dist_df[0].idxmax(axis=0)"
   ]
  },
  {
   "cell_type": "code",
   "execution_count": 17,
   "metadata": {},
   "outputs": [
    {
     "data": {
      "text/plain": [
       "(401, 401)"
      ]
     },
     "execution_count": 17,
     "metadata": {},
     "output_type": "execute_result"
    }
   ],
   "source": [
    "# Our Similarity Matrix is 401 x 401\n",
    "dist_df.shape"
   ]
  },
  {
   "cell_type": "code",
   "execution_count": 18,
   "metadata": {},
   "outputs": [
    {
     "data": {
      "text/plain": [
       "0      1.000000\n",
       "1      0.023630\n",
       "2      0.031891\n",
       "3      0.024869\n",
       "4      0.048555\n",
       "5      0.042128\n",
       "6      0.035955\n",
       "7      0.022317\n",
       "8      0.049383\n",
       "9      0.027904\n",
       "10     0.015494\n",
       "11     0.010318\n",
       "12     0.043447\n",
       "13     0.029250\n",
       "14     0.017188\n",
       "15     0.060965\n",
       "16     0.051932\n",
       "17     0.103102\n",
       "18     0.028174\n",
       "19     0.035609\n",
       "20     0.170953\n",
       "21     0.046901\n",
       "22     0.110171\n",
       "23     0.039256\n",
       "24     0.021621\n",
       "25     0.032603\n",
       "26     0.095949\n",
       "27     0.030683\n",
       "28     0.035609\n",
       "29     0.036041\n",
       "         ...   \n",
       "371    0.015864\n",
       "372    0.033418\n",
       "373    0.042604\n",
       "374    0.025145\n",
       "375    0.146621\n",
       "376    0.052201\n",
       "377    0.040963\n",
       "378    0.044951\n",
       "379    0.031836\n",
       "380    0.044088\n",
       "381    0.026189\n",
       "382    0.151950\n",
       "383    0.020944\n",
       "384    0.032857\n",
       "385    0.049234\n",
       "386    0.019846\n",
       "387    0.008197\n",
       "388    0.024634\n",
       "389    0.036842\n",
       "390    0.020593\n",
       "391    0.224055\n",
       "392    0.006134\n",
       "393    0.048290\n",
       "394    0.039902\n",
       "395    0.024564\n",
       "396    0.053583\n",
       "397    0.264581\n",
       "398    0.030020\n",
       "399    0.058544\n",
       "400    0.012679\n",
       "Name: 0, Length: 401, dtype: float64"
      ]
     },
     "execution_count": 18,
     "metadata": {},
     "output_type": "execute_result"
    }
   ],
   "source": [
    "# Each row is the similarity of one document to all other documents (including itself)\n",
    "dist_df[0]"
   ]
  },
  {
   "cell_type": "code",
   "execution_count": 19,
   "metadata": {},
   "outputs": [
    {
     "data": {
      "text/plain": [
       "392    1.000000\n",
       "307    0.997421\n",
       "64     0.247865\n",
       "316    0.231164\n",
       "87     0.176395\n",
       "Name: 392, dtype: float64"
      ]
     },
     "execution_count": 19,
     "metadata": {},
     "output_type": "execute_result"
    }
   ],
   "source": [
    "# Grab the row\n",
    "dist_df[392].sort_values(ascending=False)[:5]"
   ]
  },
  {
   "cell_type": "code",
   "execution_count": 20,
   "metadata": {},
   "outputs": [
    {
     "name": "stdout",
     "output_type": "stream",
     "text": [
      "b\"Games 'deserve a place in class'\\n\\nComputer games could enhance learning and have a legitimate place \"\n",
      "b'US woman sues over cartridges\\n\\nA US woman is suing Hewlett Packard (HP), saying its printer ink cart'\n"
     ]
    }
   ],
   "source": [
    "print(data[0][:100])\n",
    "print(data[297][:100])"
   ]
  },
  {
   "cell_type": "markdown",
   "metadata": {},
   "source": [
    "### NearestNeighbor (K-NN) \n",
    "\n",
    "To address the computational inefficiencies of the brute-force approach, a variety of tree-based data structures have been invented. In general, these structures attempt to reduce the required number of distance calculations by efficiently encoding aggregate distance information for the sample. The basic idea is that if point  is very distant from point , and point  is very close to point , then we know that points  and  are very distant, without having to explicitly calculate their distance. In this way, the computational cost of a nearest neighbors search can be reduced to  or better. This is a significant improvement over brute-force for large data.\n",
    "\n",
    "To address the inefficiencies of KD Trees in higher dimensions, the ball tree data structure was developed. Where KD trees partition data along Cartesian axes, ball trees partition data in a series of nesting hyper-spheres. This makes tree construction more costly than that of the KD tree, but results in a data structure which can be very efficient on highly structured data, even in very high dimensions.\n",
    "\n",
    "A ball tree recursively divides the data into nodes defined by a centroid  and radius , such that each point in the node lies within the hyper-sphere defined by  and . The number of candidate points for a neighbor search is reduced through use of the triangle inequality:\n",
    "\n",
    "With this setup, a single distance calculation between a test point and the centroid is sufficient to determine a lower and upper bound on the distance to all points within the node. Because of the spherical geometry of the ball tree nodes, it can out-perform a KD-tree in high dimensions, though the actual performance is highly dependent on the structure of the training data. In scikit-learn, ball-tree-based neighbors searches are specified using the keyword algorithm = 'ball_tree', and are computed using the class sklearn.neighbors.BallTree. Alternatively, the user can work with the BallTree class directly."
   ]
  },
  {
   "cell_type": "code",
   "execution_count": 21,
   "metadata": {},
   "outputs": [
    {
     "data": {
      "text/plain": [
       "<401x5000 sparse matrix of type '<class 'numpy.float64'>'\n",
       "\twith 62645 stored elements in Compressed Sparse Row format>"
      ]
     },
     "execution_count": 21,
     "metadata": {},
     "output_type": "execute_result"
    }
   ],
   "source": [
    "dtm"
   ]
  },
  {
   "cell_type": "code",
   "execution_count": 22,
   "metadata": {},
   "outputs": [
    {
     "data": {
      "text/plain": [
       "NearestNeighbors(algorithm='ball_tree', leaf_size=30, metric='minkowski',\n",
       "         metric_params=None, n_jobs=None, n_neighbors=5, p=2, radius=1.0)"
      ]
     },
     "execution_count": 22,
     "metadata": {},
     "output_type": "execute_result"
    }
   ],
   "source": [
    "# Instantiate\n",
    "from sklearn.neighbors import NearestNeighbors\n",
    "\n",
    "nn = NearestNeighbors(n_neighbors=5, algorithm='ball_tree')\n",
    "# Fit on TF-IDF Vectors\n",
    "nn.fit(dtm.todense())"
   ]
  },
  {
   "cell_type": "code",
   "execution_count": 23,
   "metadata": {},
   "outputs": [
    {
     "data": {
      "text/plain": [
       "(array([[0.        , 1.07866892, 1.08612006, 1.2090601 , 1.20952199]]),\n",
       " array([[  0, 360,  31, 191, 178]]))"
      ]
     },
     "execution_count": 23,
     "metadata": {},
     "output_type": "execute_result"
    }
   ],
   "source": [
    "# Query Using kneighbors\n",
    "nn.kneighbors(dtm.todense()[0])"
   ]
  },
  {
   "cell_type": "code",
   "execution_count": 24,
   "metadata": {},
   "outputs": [],
   "source": [
    "medium_random_ass_tech = [ \"\"\"1. The VR and AI Enhancement\n",
    "The list of trends in VR can never be complete without Artificial Intelligence. The duo has the potential to change the world. The two are in their infancy, to begin with, but they have made some appearances.\n",
    "\n",
    "Take the example of Instagram and Snapchat. The dog faces and other funny filters are a creation of AI and VR. If you are looking for a scientific example, the Machine Learning Microscope of Google is a perfect example. This tool is capable of highlighting cancerous tissues. Now we are just waiting for AR and VR to create something powerful.\n",
    "\n",
    "2. Consumer Entertainment\n",
    "Oculus has partnered with the NBA. The brand is using VR to provide state of the art entertainment to its users. Yes, you have guessed it right. While you are wearing the Oculus VR headsets sitting on the courtside, you will feel as if you are actually in the NBA game. Cool, right?\n",
    "\n",
    "VR headset technology is becoming accessible than before. It’s not just limited to gamers. TV watchers can get entertainment as well.\n",
    "\n",
    "3. Education and Training\n",
    "Education and training are one of the most costly and dangerous exercises in the workplace. With VR technology, organizations can cut back on the costs and give their employees the best training without exposing them to risk.\n",
    "\n",
    "Recently, Walmart has used 17,000 Oculus Go headsets for training its employees in the customer service department. Similarly, the U.S. Army has been using Microsoft HoloLens technology to offer soldiers real-time updates on their environment.\n",
    "\n",
    "4. Travel and Tourism\n",
    "Traveling through VR is a different kind of traveling. The immersive video allows you to experience your destinations before even packing your suitcase. With VR, you can have the “try it before buy it experience.”\n",
    "\n",
    "If you think you will feel claustrophobic in the cruise stateroom, then why not test the waters? Maybe you will feel better in a suit. VR allows you to explore the cruise ship rooms as well as the rooms in a hotel prior to booking it.\n",
    "\n",
    "Apart from checking your room, you can also have a street view, check the venues, and restaurants nearby. With this virtual tour, you can decide whether the destination you have picked for yourself is good or not.\n",
    "\n",
    "That’s not all, with VR travel apps, you can even relive your vacation after returning home. Now that’s something you will cherish for sure.\n",
    "\n",
    "What’s the Future of VR?\n",
    "Experts say the future of VR is location-based. But wait, it has nothing to do with the GPS technology. Location-based means bringing the VR experience to users where they are regardless of their location. They will be introduced to technology without having to purchase it.\n",
    "\n",
    "However, for that, customers need to be aware of the proactiveness of VR. They must have an interest in VR for home as well. It still has a long way to go.\n",
    "\n",
    "Conclusion\n",
    "Consumers in today’s time are looking for experience. VR has the ability to play a huge role in the future of learning and development. With virtual simulation, a user can have real life-like experience at a fraction of cost.\n",
    "\n",
    "The future for Virtual Reality is still in progress. It’s pretty much like the Cox channel lineup for different channels. Not all popular channels are available in all areas. Some of the VR tech and apps are in use but a majority of them are still in progress.\"\"\"]"
   ]
  },
  {
   "cell_type": "code",
   "execution_count": 25,
   "metadata": {},
   "outputs": [
    {
     "data": {
      "text/plain": [
       "(array([[1.31020903, 1.31760806, 1.31908662, 1.32688061, 1.32789993]]),\n",
       " array([[ 62, 306, 107, 391, 301]]))"
      ]
     },
     "execution_count": 25,
     "metadata": {},
     "output_type": "execute_result"
    }
   ],
   "source": [
    "new = tfidf.transform(medium_random_ass_tech)\n",
    "\n",
    "nn.kneighbors(new.todense())"
   ]
  },
  {
   "cell_type": "code",
   "execution_count": 26,
   "metadata": {},
   "outputs": [
    {
     "data": {
      "text/plain": [
       "b'What high-definition will do to DVDs\\n\\nFirst it was the humble home video, then it was the DVD, and now Hollywood is preparing for the next revolution in home entertainment - high-definition.\\n\\nHigh-definition gives incredible, 3D-like pictures and surround sound. The DVD disks and the gear to play them will not be out for another year or so, and there at are still a number of issues to be sorted out. But when high-definition films do come out on the new format DVDs, it will profoundly change home entertainment. For Rick Dean, director of business development for digital content company THX, a high-definition future is an exciting prospect. He has worked on the Star Wars DVD trilogy, Finding Nemo, The Incredibles and Indiana Jones. \"There was a time not so long ago when the film world and the video world were two completely separate worlds,\" he told the BBC News website.\\n\\n\"The technology we are dealing with now means they are very much conjoined. \"The film that we see in theatres is coming from the same digital file that we take the home video master,\" he says. But currently, putting a master feature film onto DVD requires severe compression because current DVD technology cannot hold as much as high-definition films demand. \"As much as you compress the picture data rate wise, you also take qualities away from the picture that we fight so hard to keep in the master,\" he explains. \"I would love to be able to show people what projects that we worked on really look like in the high-def world and I find it very exciting.\"\\n\\nHigh-definition DVDs can hold up to six times more data than the DVDs we are used to. It will take time though to persuade people who spent money on DVD players to buy the different players and displays required to watch high-definition DVDs in 18 months\\' time. Mr Dean is confident though: \"I think if they see real HD [high-definition], not some heavily compressed version of it, there is such a remarkable difference. \"I have heard comments from people who say the images pop off the screen.\"\\n\\nHigh-definition will mean some changes for those working behind the scenes too. On the whole, producing films for high-definition DVDs will be easier in some ways because less compression is needed. Equally, it may mean Hollywood studios ask for more to be put onto the average DVD. \"When we master movies right now, our data rates are running at about 1.2 gigabits per second,\" says Mr Dean. \"Our DVDs that we put out today have to be squashed down to about five or six megabits per second. \"That\\'s a huge amount of compression that has to be applied - about 98%. So if you have anything that allows more space, you don\\'t have to compress so hard.\" Studios could fit a lot more marketing material, games, and features, onto high-capacity DVDs. Currently, an entire DVD project can take up to three months, says Mr Dean. Although the step of down-converting will be bypassed, this will realistically only save a day\\'s work, says Mr Dean. One of the most time consuming elements is building DVD navigation and menu systems. On the fairly complex Star Wars disks, making sure the menu buttons worked took 45 human hours alone. If studios want to cash in on the extra space, it could mean extra human hours, for which someone has to pay. \"If the decision on the studio side is that they are going to put a lot more on these disks, it could be more expensive because of all the extra navigation that is required.\" And if studios do focus on delivering more \"added value content\", thinks Mr Dean, ultimately it could mean that they will want more money for it. Those costs could filter down to the price ticket on a high-definition DVD. But if the consumer is not willing to pay a premium price, studios will listen, thinks Mr Dean.\\n\\nHigh-definition throws up other challenge to film makers and DVD production alike. More clarity on screen means film makers have to make doubly sure that attention to detail is meticulous. \"When we did the first HD version of Star Wars Episode I, everybody was very sun-tanned, but that was make-up. \"In the HD version of Episode I, all these make-up lines showed up,\" explains Mr Dean. The restoration of the older Star Wars episodes revealed some interesting items too.\\n\\n\"There are scans of a corridor [on the Death Star] and fairly plainly in one of those shots, there is a file cabinet stuck behind one of the doorways. \"You never used to be able to see it because things are just blurred enough during the pan that you just didn\\'t see it.\" What high-definition revolution ultimately means is that the line between home entertainment and cinema worlds will blur. With home theatre systems turning living rooms into cinemas, this line blurs even further. It could also mean that how we get films, and in what format, will widen. \"In the future we are going to look towards file delivery over IP [internet protocol - broadband], giving a DVD-like experience from the set-top box to the hard drive,\" says Mr Dean. But that is some time off for most, and for now, people still like to show off something physical in their bookshelves.\\n'"
      ]
     },
     "execution_count": 26,
     "metadata": {},
     "output_type": "execute_result"
    }
   ],
   "source": [
    "data[135]"
   ]
  },
  {
   "cell_type": "markdown",
   "metadata": {},
   "source": [
    "## Apply word embedding models to create document vectors\n",
    "<a id=\"p3\"></a>\n",
    "\n",
    "### BoW discards textual context\n",
    "\n",
    "One of the limitations of Bag-of-Words approaches is that any information about the textual context surrounding that word is lost. This also means that with bag-of-words approaches often the only tools that we have for identifying words with similar usage or meaning and subsequently consolidating them into a single vector is through the processes of stemming and lemmatization which tend to be quite limited at consolidating words unless the two words are very close in their spelling or in their root parts-of-speech.\n",
    "\n",
    "### Embedding approaches preserve more textual context\n",
    "Word2Vec is an increasingly popular word embedding technique. Like Bag-of-words it learns a real-value vector representation for a predefined fixed-size vocabulary that is generated from a corpus of text. However, in contrast to BoW, Word2Vec approaches are much more capable of accounting for textual context, and are better at discovering words with similar meanings or usages (semantic or syntactic similarity).\n",
    "\n",
    "### Word2Vec Intuition\n",
    "### The Distribution Hypothesis\n",
    "\n",
    "In order to understand how Word2Vec preserves textual context we have to understand what's called the Distribution Hypothesis (Reference: Distribution Hypothesis Theory  -https://en.wikipedia.org/wiki/Distributional_semantics. The Distribution Hypothesis operates under the assumption that words that have similar contexts will have similar meanings. Practically speaking, this means that if two words are found to have similar words both to the right and to the left of them throughout the corpora then those words have the same context and are assumed to have the same meaning. \n",
    "\n",
    "> \"You shall know a word by the company it keeps\" - John Firth\n",
    "\n",
    "This means that we let the usage of a word define its meaning and its \"similarity\" to other words. In the following example, which words would you say have a similar meaning? \n",
    "\n",
    "**Sentence 1**: Traffic was light today\n",
    "\n",
    "**Sentence 2**: Traffic was heavy yesterday\n",
    "\n",
    "**Sentence 3**: Prediction is that traffic will be smooth-flowing tomorrow since it is a national holiday\n",
    "\n",
    "What words in the above sentences seem to have a similar meaning if all you knew about them was the context in which they appeared above? \n",
    "\n",
    "Lets take a look at how this might work in action, the following example is simplified, but will give you an idea of the intuition for how this works.\n",
    "\n",
    "#### Corpora:\n",
    "\n",
    "1) \"It was the sunniest of days.\"\n",
    "\n",
    "2) \"It was the raniest of days.\"\n",
    "\n",
    "#### Vocabulary:\n",
    "\n",
    "{\"it\": 1, \"was\": 2, \"the\": 3, \"of\": 4, \"days\": 5, \"sunniest\": 6, \"raniest\": 7}\n",
    "\n",
    "### Vectorization\n",
    "\n",
    "|       doc   | START_was | it_the | was_sunniest | the_of | sunniest_days | of_it | days_was | it_the | was_raniest | raniest_days | of_END |\n",
    "|----------|-----------|--------|--------------|--------|---------------|-------|----------|--------|-------------|--------------|--------|\n",
    "| it       | 1         | 0      | 0            | 0      | 0             | 0     | 1        | 0      | 0           | 0            | 0      |\n",
    "| was      | 0         | 1      | 0            | 0      | 0             | 0     | 0        | 1      | 0           | 0            | 0      |\n",
    "| the      | 0         | 0      | 1            | 0      | 0             | 0     | 0        | 0      | 1           | 0            | 0      |\n",
    "| sunniest | 0         | 0      | 0            | 1      | 0             | 0     | 0        | 0      | 0           | 0            | 0      |\n",
    "| of       | 0         | 0      | 0            | 0      | 1             | 0     | 0        | 0      | 0           | 1            | 0      |\n",
    "| days     | 0         | 0      | 0            | 0      | 0             | 0     | 0        | 0      | 0           | 0            | 1      |\n",
    "| raniest  | 0         | 0      | 0            | 1      | 0             | 0     | 0        | 0      | 0           | 0            | 0      |\n",
    "\n",
    "Each column vector represents the word's context -in this case defined by the words to the left and right of the center word. How far we look to the left and right of a given word is referred to as our \"window of context.\" Each row vector represents the the different usages of a given word. Word2Vec can consider a larger context than only words that are immediately to the left and right of a given word, but we're going to keep our window of context small for this example. What's most important is that this vectorization has translated our documents from a text representation to a numeric one in a way that preserves information about the underlying context. \n",
    "\n",
    "We can see that words that have a similar context will have similar row-vector representations, but before looking that more in-depth, lets simplify our vectorization slightly. You'll notice that we're repeating the column-vector \"it_the\" twice. Lets combine those into a single vector by adding them element-wise. \n",
    "\n",
    "|       *   | START_was | it_the | was_sunniest | the_of | sunniest_days | of_it | days_was | was_raniest | raniest_days | of_END |\n",
    "|----------|-----------|--------|--------------|--------|---------------|-------|----------|-------------|--------------|--------|\n",
    "| it       | 1         | 0      | 0            | 0      | 0             | 0     | 1        | 0           | 0            | 0      |\n",
    "| was      | 0         | 2      | 0            | 0      | 0             | 0     | 0        | 0           | 0            | 0      |\n",
    "| the      | 0         | 0      | 1            | 0      | 0             | 0     | 0        | 1           | 0            | 0      |\n",
    "| sunniest | 0         | 0      | 0            | 1      | 0             | 0     | 0        | 0           | 0            | 0      |\n",
    "| of       | 0         | 0      | 0            | 0      | 1             | 0     | 0        | 0           | 1            | 0      |\n",
    "| days     | 0         | 0      | 0            | 0      | 0             | 0     | 0        | 0           | 0            | 1      |\n",
    "| raniest  | 0         | 0      | 0            | 1      | 0             | 0     | 0        | 0           | 0            | 0      |\n",
    "\n",
    "Now, can you spot which words have a similar row-vector representation? Hint: Look for values that are repeated in a given column. Each column represents the context that word was found in. If there are multiple words that share a context then those words are understood to have a closer meaning with each other than with other words in the text.\n",
    "\n",
    "Lets look specifically at the words sunniest and raniest. You'll notice that these two words have exactly the same 10-dimensional vector representation. Based on this very small corpora of text we would conclude that these two words have the same meaning because they share the same usage. Is this a good assumption? Well, they are both referring to the weather outside so that's better than nothing. You could imagine that as our corpora grows larger we will be exposed a greater number of contexts and the Distribution Hypothesis assumption will improve. \n",
    "\n",
    "### Word2Vec Variants\n",
    "\n",
    "#### Skip-Gram\n",
    "\n",
    "The Skip-Gram method predicts the neighbors’ of a word given a center word. In the skip-gram model, we take a center word and a window of context (neighbors) words to train the model and then predict context words out to some window size for each center word.\n",
    "\n",
    "This notion of “context” or “neighboring” words is best described by considering a center word and a window of words around it. \n",
    "\n",
    "For example, if we consider the sentence **“The speedy Porsche drove past the elegant Rolls-Royce”** and a window size of 2, we’d have the following pairs for the skip-gram model:\n",
    "\n",
    "**Text:**\n",
    "**The**\tspeedy\tPorsche\tdrove\tpast\tthe\telegant\tRolls-Royce\n",
    "\n",
    "*Training Sample with window of 2*: (the, speedy), (the, Porsche)\n",
    "\n",
    "**Text:**\n",
    "The\t**speedy**\tPorsche\tdrove\tpast\tthe\telegant\tRolls-Royce\n",
    "\n",
    "*Training Sample with window of 2*: (speedy, the), (speedy, Porsche), (speedy, drove)\n",
    "\n",
    "**Text:**\n",
    "The\tspeedy\t**Porsche**\tdrove\tpast\tthe\telegant\tRolls-Royce\n",
    "\n",
    "*Training Sample with window of 2*: (Porsche, the), (Porsche, speedy), (Porsche, drove), (Porsche, past)\n",
    "\n",
    "**Text:**\n",
    "The\tspeedy\tPorsche\t**drove**\tpast\tthe\telegant\tRolls-Royce\n",
    "\n",
    "*Training Sample with window of 2*: (drove, speedy), (drove, Porsche), (drove, past), (drove, the)\n",
    "\n",
    "The **Skip-gram model** is going to output a probability distribution i.e. the probability of a word appearing in context given a center word and we are going to select the vector representation that maximizes the probability.\n",
    "\n",
    "With CountVectorizer and TF-IDF the best we could do for context was to look at common bi-grams and tri-grams (n-grams). Well, skip-grams go far beyond that and give our model much stronger contextual information.\n",
    "\n",
    "![alt text](https://www.dropbox.com/s/c7mwy6dk9k99bgh/Image%202%20-%20SkipGrams.jpg?raw=1)\n",
    "\n",
    "## Continuous Bag of Words\n",
    "\n",
    "This model takes thes opposite approach from the skip-gram model in that it tries to predict a center word based on the neighboring words. In the case of the CBOW model, we input the context words within the window (such as “the”, “Proshe”, “drove”) and aim to predict the target or center word “speedy” (the input to the prediction pipeline is reversed as compared to the SkipGram model).\n",
    "\n",
    "A graphical depiction of the input to output prediction pipeline for both variants of the Word2vec model is attached. The graphical depiction will help crystallize the difference between SkipGrams and Continuous Bag of Words.\n",
    "\n",
    "![alt text](https://www.dropbox.com/s/k3ddmbtd52wq2li/Image%203%20-%20CBOW%20Model.jpg?raw=1)\n",
    "\n",
    "## Notable Differences between Word Embedding methods:\n",
    "\n",
    "1) W2V focuses less document topic-modeling. You'll notice that the vectorizations don't really retain much information about the original document that the information came from. At least not in our examples.\n",
    "\n",
    "2) W2V can result in really large and complex vectorizations. In fact, you need Deep Neural Networks to train your Word2Vec models from scratch, but we can use helpful pretrained embeddings (thank you Google) to do really cool things!\n",
    "\n",
    "*^ All that noise....AND Spacy has pretrained a Word2Vec model you can just use? WTF JC?*\n",
    "\n",
    "Let's take a look at how to do it. "
   ]
  },
  {
   "cell_type": "code",
   "execution_count": 28,
   "metadata": {},
   "outputs": [
    {
     "name": "stdout",
     "output_type": "stream",
     "text": [
      "[ 9.18078303e-01  1.17031467e+00  2.25857139e+00  1.55433404e+00\n",
      " -2.17769176e-01  6.26185298e-01 -2.06630182e+00  2.96606660e-01\n",
      "  9.52641726e-01  3.34131718e-03  5.68451583e-01  9.86218691e-01\n",
      "  9.12600636e-01 -7.80927896e-01  8.61710787e-01  1.06479585e-01\n",
      " -1.46849871e+00 -6.15569413e-01 -2.07804489e+00 -8.33127856e-01\n",
      "  4.26634729e-01  6.53381348e-01  5.01528010e-03 -1.84968948e-01\n",
      " -1.40058804e+00  7.66371131e-01 -1.06057584e+00  1.35091424e-01\n",
      "  9.80131030e-01 -7.67590404e-01  1.71151608e-01  1.26573122e+00\n",
      " -4.01598871e-01 -2.91079879e-01 -1.66886002e-01 -1.49921954e-01\n",
      "  4.88306403e-01  8.21866751e-01 -1.66179204e+00 -1.12603271e+00\n",
      "  5.16791105e-01  2.84875011e+00  2.87600923e+00 -7.43982375e-01\n",
      " -1.21060467e+00  2.07437611e+00  9.82938945e-01  1.67435694e+00\n",
      "  1.92168188e+00 -5.27400792e-01 -1.29430819e+00 -3.60976934e-01\n",
      " -1.88929152e+00 -7.26427436e-01  1.15877354e+00  1.22278810e+00\n",
      "  1.78242236e-01  5.13584256e-01 -8.60733211e-01  8.72485280e-01\n",
      " -2.01647067e+00 -4.98968363e-03 -1.07378674e+00  1.25173843e+00\n",
      "  9.26850080e-01 -3.13990295e-01  5.53555548e-01 -2.09929943e+00\n",
      "  1.15376353e-01  1.45164251e+00  5.87302864e-01 -1.11596656e+00\n",
      "  1.32767391e+00 -7.04299927e-01 -1.16622603e+00 -7.82356977e-01\n",
      "  1.15964794e+00  2.47984499e-01  7.33556628e-01 -2.78849930e-01\n",
      " -1.60073030e+00  6.19888544e-01 -1.48047054e+00 -1.39071953e+00\n",
      " -7.37641901e-02  5.87953985e-01  5.32594681e-01  4.97954488e-01\n",
      "  1.49754286e+00  1.32501435e+00 -8.44591618e-01  3.55136961e-01\n",
      " -4.98487145e-01 -8.57729495e-01 -1.23169899e+00 -5.00666946e-02\n",
      " -9.85356808e-01  5.80555439e-01  3.18848252e-01 -2.51323318e+00\n",
      " -3.91131759e-01  2.35692576e-01  4.16457117e-01 -7.28748441e-01\n",
      " -1.22134376e+00 -7.90767610e-01  3.23114902e-01 -2.52404976e+00\n",
      " -6.49255514e-01 -1.60605264e+00  3.68322879e-01  1.70316052e+00\n",
      "  6.50780350e-02 -9.17681694e-01  3.34291363e+00  1.85651708e+00\n",
      "  1.11551178e+00 -1.77555814e-01 -1.96409607e+00  3.88510853e-01\n",
      "  4.85818863e-01 -1.32662341e-01  4.65277553e-01 -3.73839974e-01\n",
      " -6.77396476e-01 -4.78215218e-01  1.61633873e+00 -3.69186449e+00\n",
      " -4.31688368e-01 -4.83137608e-01 -1.90559179e-02  1.18595310e-01\n",
      "  2.00539172e-01  1.91757113e-01 -5.21769762e-01  2.20026135e-01\n",
      "  6.97641313e-01 -7.30989277e-02 -1.80615187e-02 -3.66440117e-01\n",
      " -4.64687310e-02  9.79080573e-02 -2.52077505e-02  6.43368125e-01\n",
      " -2.54093073e-02  5.08644044e-01 -1.31551176e-01 -3.46743822e-01\n",
      " -5.25386259e-03  2.99374193e-01 -2.26436645e-01 -8.38802755e-02\n",
      "  1.62244052e-01 -3.70526463e-01  4.33879569e-02 -3.58418107e-01\n",
      "  2.67685890e-01 -5.79424500e-01 -3.56993347e-01  1.73340142e-01\n",
      " -5.15554994e-02  2.06248939e-01  9.17845443e-02 -5.06224781e-02\n",
      "  2.45927557e-01 -4.09092456e-02  1.32876694e-01  4.80338335e-02\n",
      " -1.49389610e-01  5.83201230e-01 -2.60521233e-01 -1.55272767e-01\n",
      " -5.99538609e-02  9.49966013e-02 -2.83838212e-01 -1.91720426e-02\n",
      " -3.11249614e-01  1.27332538e-01 -3.08355242e-01  5.93208522e-03\n",
      " -5.33776402e-01  3.69506538e-01  1.20732017e-01  1.18241534e-01\n",
      "  5.14326751e-01 -9.38911587e-02  1.22765362e-01  7.74624720e-02\n",
      "  1.06193721e-01  1.68220013e-01  3.55349123e-01  2.05906197e-01\n",
      "  1.36420831e-01 -5.97480312e-02 -6.37029633e-02  1.20125949e-01\n",
      " -2.65873522e-02  1.24186851e-01 -4.19870913e-01 -3.72372478e-01\n",
      "  3.21885645e-01  2.00467795e-01 -3.30159575e-01  8.32512006e-02\n",
      "  5.61494529e-01 -2.13467702e-01  2.62131125e-01  3.35383825e-02\n",
      " -1.44369870e-01 -1.65616661e-01 -1.33827984e-01 -3.32489133e-01\n",
      "  4.99105342e-02 -1.35041028e-01 -4.39668417e-01 -7.87107199e-02\n",
      " -1.57726169e-01  1.50764063e-02  1.81800440e-01 -5.91762424e-01\n",
      " -6.77991211e-02 -1.27059594e-01 -7.00771809e-02  4.45429832e-02\n",
      "  3.69924158e-02 -2.63018489e-01  8.14095065e-02 -4.19319808e-01\n",
      "  1.60780922e-01  3.48831266e-01  1.24459356e-01  4.92907733e-01\n",
      "  2.49883443e-01 -2.17354819e-01 -1.67432696e-01  2.35401727e-02\n",
      " -4.95096780e-02 -8.39591920e-02  6.31864890e-02 -3.46890450e-01\n",
      "  9.21378136e-02 -4.88208145e-01 -1.52675211e-02 -2.23599344e-01\n",
      "  2.04207972e-01  1.32275879e-01 -1.29878879e-01  1.65039837e-01\n",
      " -1.98394731e-02 -1.53612822e-01  3.54889423e-01  1.40315205e-01\n",
      " -2.50596330e-02  1.95258126e-01  4.01524752e-01 -5.43690287e-02\n",
      "  4.05560166e-01  1.82811201e-01  4.71095264e-01 -3.58335227e-02\n",
      " -2.79346973e-01  1.63345188e-01  2.34213442e-01 -3.40438068e-01\n",
      "  2.39334196e-01 -2.34047845e-01 -3.63338619e-01 -4.51033592e-01\n",
      " -6.92299604e-02  3.98312360e-02 -1.45760760e-01  1.32917523e-01\n",
      "  7.48258829e-02  6.96982145e-02 -4.61889952e-02 -5.24317443e-01\n",
      " -2.12379307e-01 -2.33258978e-02  1.14874706e-01  1.73766375e-01\n",
      " -2.51141675e-02  2.01759815e-01 -1.87587753e-01  2.71171570e-01\n",
      "  6.18579760e-02  1.63249224e-01 -3.34671021e-01 -3.63027677e-02\n",
      "  2.74130851e-01  1.49929956e-01  1.92502469e-01  9.88725424e-02\n",
      "  1.09217316e-02  1.32885754e-01  1.11227483e-01 -1.85348123e-01\n",
      " -2.22699612e-01  1.29274487e-01 -2.20589072e-01 -2.90896446e-01\n",
      " -1.92385688e-02 -4.64026853e-02 -2.03372240e-01 -2.94269770e-02\n",
      "  1.51761085e-01 -2.77712494e-01  1.78981245e-01 -1.25837937e-01\n",
      " -1.05330132e-01  3.01334828e-01 -7.50606582e-02 -6.63869902e-02\n",
      " -1.96222723e-01 -2.55717248e-01  1.09835222e-01 -2.27909952e-01\n",
      "  2.95181513e-01  1.81642607e-01 -1.42569378e-01  2.50340044e-01\n",
      "  5.76301068e-02  4.64151800e-03 -1.81911699e-02  5.36385894e-01\n",
      " -4.41521019e-01  1.48734242e-01 -1.37366712e-01  4.53296565e-02\n",
      "  1.09251857e-01  1.92031547e-01  3.54509711e-01 -8.38391334e-02\n",
      "  1.01781920e-01  4.55874622e-01 -5.25440216e-01 -2.84468770e-01\n",
      " -2.33478859e-01 -2.60798633e-01 -2.20356762e-01 -4.41397160e-01\n",
      "  1.42148584e-01  1.36267662e-01  3.55008066e-01  2.64833402e-02\n",
      " -1.36032432e-01 -5.83889484e-01  1.21634360e-02  4.09169883e-01\n",
      "  4.72259223e-01 -8.08936357e-02 -4.45828110e-01  1.71425700e-01\n",
      " -5.15047669e-01  1.35346964e-01  2.54825592e-01  9.96132642e-02\n",
      " -8.87982547e-04  1.41362622e-01 -4.57357645e-01 -1.35139629e-01\n",
      " -2.81762809e-01 -1.21934101e-01  1.61024392e-01  2.96123266e-01\n",
      " -1.56770289e-01 -7.18355700e-02 -8.40295106e-03 -3.45046252e-01\n",
      "  1.32593960e-01 -1.27441511e-01 -6.58945069e-02 -5.57781309e-02\n",
      " -8.97487625e-02  2.04918571e-02  2.58705437e-01  1.61008835e-01\n",
      " -1.98570788e-01 -6.26147687e-02  2.61504740e-01 -7.00384006e-02\n",
      " -5.25664747e-01 -7.48728216e-03 -1.66744739e-01  3.31938237e-01]\n"
     ]
    }
   ],
   "source": [
    "# Process a text\n",
    "doc = nlp(\"Two bananas in pyjamas\")\n",
    "\n",
    "# Get the vector for the token \"bananas\"\n",
    "bananas_vector = doc.vector\n",
    "print(bananas_vector)"
   ]
  },
  {
   "cell_type": "code",
   "execution_count": null,
   "metadata": {},
   "outputs": [],
   "source": [
    "doc1 = nlp(\"It's a warm summer day\")\n",
    "doc2 = nlp(\"It's sunny outside\")\n",
    "\n",
    "# Get the similarity of doc1 and doc2\n",
    "similarity = ____.____(____)\n",
    "print(similarity)"
   ]
  },
  {
   "cell_type": "code",
   "execution_count": null,
   "metadata": {},
   "outputs": [],
   "source": [
    "# import the PCA module from sklearn\n",
    "from sklearn.decomposition import PCA\n",
    "\n",
    "def get_word_vectors(words):\n",
    "    # converts a list of words into their word vectors\n",
    "    return [nlp(word).vector for word in words]\n",
    "\n",
    "words = ['car', 'truck', 'suv', 'elves', 'dragon', 'sword', 'king', 'queen', 'prince', 'horse', 'fish' , 'lion']\n",
    "\n",
    "# intialise pca model and tell it to project data down onto 2 dimensions\n",
    "pca = PCA(n_components=2)\n",
    "\n",
    "# fit the pca model to our 300D data, this will work out which is the best \n",
    "# way to project the data down that will best maintain the relative distances \n",
    "# between data points. It will store these intructioons on how to transform the data.\n",
    "pca.fit(get_word_vectors(words))\n",
    "\n",
    "# Tell our (fitted) pca model to transform our 300D data down onto 2D using the \n",
    "# instructions it learnt during the fit phase.\n",
    "word_vecs_2d = pca.transform(get_word_vectors(words))\n",
    "\n",
    "# let's look at our new 2D word vectors\n",
    "word_vecs_2d"
   ]
  },
  {
   "cell_type": "code",
   "execution_count": null,
   "metadata": {},
   "outputs": [],
   "source": [
    "# create a nice big plot \n",
    "plt.figure(figsize=(20,15))\n",
    "\n",
    "# plot the scatter plot of where the words will be\n",
    "plt.scatter(word_vecs_2d[:,0], word_vecs_2d[:,1])\n",
    "\n",
    "# for each word and coordinate pair: draw the text on the plot\n",
    "for word, coord in zip(words, word_vecs_2d):\n",
    "    x, y = coord\n",
    "    plt.text(x, y, word, size= 15)\n",
    "\n",
    "# show the plot\n",
    "plt.show()"
   ]
  },
  {
   "cell_type": "markdown",
   "metadata": {},
   "source": [
    "### Extract Document Vectors\n",
    "\n",
    "Let's see how much the quality of our query will work when we try a new embedding model.\n",
    "\n",
    "Steps:\n",
    "* Extract Vectors from Each Document\n",
    "* Search using KNN\n"
   ]
  },
  {
   "cell_type": "code",
   "execution_count": null,
   "metadata": {},
   "outputs": [],
   "source": []
  }
 ],
 "metadata": {
  "kernelspec": {
   "display_name": "U4-S1-NLP (Python 3)",
   "language": "python",
   "name": "u4-s1-nlp"
  },
  "language_info": {
   "codemirror_mode": {
    "name": "ipython",
    "version": 3
   },
   "file_extension": ".py",
   "mimetype": "text/x-python",
   "name": "python",
   "nbconvert_exporter": "python",
   "pygments_lexer": "ipython3",
   "version": "3.7.3"
  }
 },
 "nbformat": 4,
 "nbformat_minor": 2
}
