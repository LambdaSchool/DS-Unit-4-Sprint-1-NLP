{
  "nbformat": 4,
  "nbformat_minor": 0,
  "metadata": {
    "kernelspec": {
      "display_name": "U4-S1-NLP (Python3)",
      "language": "python",
      "name": "u4-s1-nlp"
    },
    "language_info": {
      "codemirror_mode": {
        "name": "ipython",
        "version": 3
      },
      "file_extension": ".py",
      "mimetype": "text/x-python",
      "name": "python",
      "nbconvert_exporter": "python",
      "pygments_lexer": "ipython3",
      "version": "3.7.0"
    },
    "colab": {
      "name": "LS_DS17_412_Vector_Representations_Lecture.ipynb",
      "provenance": [],
      "collapsed_sections": [],
      "include_colab_link": true
    }
  },
  "cells": [
    {
      "cell_type": "markdown",
      "metadata": {
        "id": "view-in-github",
        "colab_type": "text"
      },
      "source": [
        "<a href=\"https://colab.research.google.com/github/skhabiri/DS-Unit-4-Sprint-1-NLP/blob/main/module2-vector-representations/LS_DS17_412_Vector_Representations_Lecture.ipynb\" target=\"_parent\"><img src=\"https://colab.research.google.com/assets/colab-badge.svg\" alt=\"Open In Colab\"/></a>"
      ]
    },
    {
      "cell_type": "markdown",
      "metadata": {
        "id": "dsdQOzlzesBt",
        "colab_type": "text"
      },
      "source": [
        "Lambda School Data Science\n",
        "\n",
        "*Unit 4, Sprint 1, Module 2*\n",
        "\n",
        "---\n",
        "\n",
        "# Vector Representations (Prepare)\n",
        "\n",
        "\n",
        "As we learned yesterday, machines cannot interpret raw text. We need to transform that text into something we/machines can more readily analyze. Yesterday, we did simple counts of counts to summarize the content of Amazon reviews. Today, we'll extend those concepts to talk about vector representations such as Bag of Words (BoW) and word embedding models. We'll use those representations for search, visualization, and prepare for our classification day tomorrow. \n",
        "\n",
        "Processing text data to prepare it for machine learning models often means translating the information from documents into a numerical format. Bag-of-Words approaches (sometimes referred to as Frequency-Based word embeddings) accomplish this by \"vectorizing\" tokenized documents. This is done by representing each document as a row in a DataFrame and creating a column for each unique word in the corpora (group of documents). The presence or lack of a given word in a document is then represented either as a raw count of how many times a given word appears in a document (CountVectorizer) or as that word's TF-IDF score (TfidfVectorizer).\n",
        "\n",
        "On the python side, we will be focusing on `sklearn` and `spacy` today.  \n",
        "\n",
        "## Case Study\n",
        "\n",
        "We're going to pretend we're on the datascience team at the BBC. We want to recommend articles to visitors to on the BBC website based on the article they just read. Our team wants \n",
        "\n",
        "**Dataset:**\n",
        "\n",
        "[D. Greene and P. Cunningham. \"Practical Solutions to the Problem of Diagonal Dominance in Kernel Document Clustering\", Proc. ICML 2006.](http://mlg.ucd.ie/datasets/bbc.html)\n",
        "*Please note that the dataset has been sampled down to tech articles only.* \n",
        "\n",
        "## Learning Objectives\n",
        "* <a href=\"#p1\">Part 1</a>: Represent a document as a vector\n",
        "* <a href=\"#p2\">Part 2</a>: Query Documents by Similarity\n",
        "* <a href=\"#p3\">Part 3</a>: Apply word embedding models to create document vectors"
      ]
    },
    {
      "cell_type": "markdown",
      "metadata": {
        "id": "whEGqZnQesBu",
        "colab_type": "text"
      },
      "source": [
        "# Represent a document as a vector (Learn)\n",
        "<a id=\"p1\"></a>"
      ]
    },
    {
      "cell_type": "markdown",
      "metadata": {
        "id": "-xNl3VecesBv",
        "colab_type": "text"
      },
      "source": [
        "## Overview\n",
        "\n",
        "In this section, we are going to create Document Term Matrices (DTM). Each column represents a word. Each row represents a document. The value in each cell can be range of different things. The most traditional: counts of appearances of words, does the word appear at all (binary), and term-frequency inverse-document frequency (TF-IDF). \n",
        "\n",
        "**Discussion:** Don't we loose all the context and grammar if we do this? So Why does it work?"
      ]
    },
    {
      "cell_type": "markdown",
      "metadata": {
        "toc-hr-collapsed": true,
        "id": "LkzExyNIesBv",
        "colab_type": "text"
      },
      "source": [
        "## Follow Along"
      ]
    },
    {
      "cell_type": "markdown",
      "metadata": {
        "id": "ytRF5oDv3ejT",
        "colab_type": "text"
      },
      "source": [
        "### Vectorizers:\n",
        "There are different ways to convert a text to a set of number vectors:\n",
        "1. CountVectorizer(stop_words='english', max_features=1000) with fit and transform methods to learn the vocab and create a data term matrix (dtm), when each row is one docuement and the columns are the vocab (features) and the values are the frequency of the words in that document\n",
        "2. TfidfVectorizer(stop_words='english', max_features=5000) tf-idf is the count of a word in that document scaled down by the count of the documents that have that word.\n",
        "3. tfidf = TfidfVectorizer(ngram_range=(1,2), max_df=.97, min_df=.01,\n",
        "tokenizer=tokenize) uses spacy based data pipeline tokenizer instead of default sklearn tokenizer, allowing to us .lemma_, .is_punct, .is_stop methods\n",
        "4. Use sklearn.metrics.pairwise.cosine_similarity(dtm) to find which rows are more similar.\n",
        "5. Use NearestNeighbors(n_neighbors=5, algorithm='kd_tree').fit(dtm) to find similar articles. Can use dtm_query=tfidf.transform(query_text) to prepare input for nn.kneighbors(dtm_query.todense())\n",
        "6. Instead of bag of word vectorizers, use word embedding to preserve textual context. Spacy's nlp.vector produces a 300 dimension vector for any text. We can also use text1.similarity(nlp(text2)) to get the similarity of two documents\n",
        "7. Use PCA to reduce spacy 300 dimension vectors for visualization pca=PCA(n_components=2) > pca.fit(nlp(text_list).vector) > word_vecs_2d = pca.transform(nlp(text_query).vector)\n",
        "8. We can embedd each row(article) with spacy 300 ndim vector X = [nlp(str(d)).vector for d in data] , and then run NearestNeighbors().fit(X) > nn.kneighbors(nlp(query_text).vector)to find similar articles\n",
        "\n",
        "\n"
      ]
    },
    {
      "cell_type": "code",
      "metadata": {
        "id": "dvoyv6O7fD-G",
        "colab_type": "code",
        "colab": {
          "base_uri": "https://localhost:8080/",
          "height": 717
        },
        "outputId": "d9ac8d7e-af24-4211-9918-e82466c320d1"
      },
      "source": [
        "# import spacy model as a package for colab and restart the run time afterwards\n",
        "!pip install https://github.com/explosion/spacy-models/releases/download/en_core_web_lg-2.3.1/en_core_web_lg-2.3.1.tar.gz"
      ],
      "execution_count": 1,
      "outputs": [
        {
          "output_type": "stream",
          "text": [
            "Collecting https://github.com/explosion/spacy-models/releases/download/en_core_web_lg-2.3.1/en_core_web_lg-2.3.1.tar.gz\n",
            "\u001b[?25l  Downloading https://github.com/explosion/spacy-models/releases/download/en_core_web_lg-2.3.1/en_core_web_lg-2.3.1.tar.gz (782.7MB)\n",
            "\u001b[K     |████████████████████████████████| 782.7MB 21kB/s \n",
            "\u001b[?25hCollecting spacy<2.4.0,>=2.3.0\n",
            "\u001b[?25l  Downloading https://files.pythonhosted.org/packages/10/b5/c7a92c7ce5d4b353b70b4b5b4385687206c8b230ddfe08746ab0fd310a3a/spacy-2.3.2-cp36-cp36m-manylinux1_x86_64.whl (9.9MB)\n",
            "\u001b[K     |████████████████████████████████| 10.0MB 3.0MB/s \n",
            "\u001b[?25hRequirement already satisfied: tqdm<5.0.0,>=4.38.0 in /usr/local/lib/python3.6/dist-packages (from spacy<2.4.0,>=2.3.0->en-core-web-lg==2.3.1) (4.41.1)\n",
            "Requirement already satisfied: cymem<2.1.0,>=2.0.2 in /usr/local/lib/python3.6/dist-packages (from spacy<2.4.0,>=2.3.0->en-core-web-lg==2.3.1) (2.0.3)\n",
            "Requirement already satisfied: preshed<3.1.0,>=3.0.2 in /usr/local/lib/python3.6/dist-packages (from spacy<2.4.0,>=2.3.0->en-core-web-lg==2.3.1) (3.0.2)\n",
            "Requirement already satisfied: numpy>=1.15.0 in /usr/local/lib/python3.6/dist-packages (from spacy<2.4.0,>=2.3.0->en-core-web-lg==2.3.1) (1.18.5)\n",
            "Requirement already satisfied: plac<1.2.0,>=0.9.6 in /usr/local/lib/python3.6/dist-packages (from spacy<2.4.0,>=2.3.0->en-core-web-lg==2.3.1) (1.1.3)\n",
            "Requirement already satisfied: catalogue<1.1.0,>=0.0.7 in /usr/local/lib/python3.6/dist-packages (from spacy<2.4.0,>=2.3.0->en-core-web-lg==2.3.1) (1.0.0)\n",
            "Requirement already satisfied: wasabi<1.1.0,>=0.4.0 in /usr/local/lib/python3.6/dist-packages (from spacy<2.4.0,>=2.3.0->en-core-web-lg==2.3.1) (0.8.0)\n",
            "Requirement already satisfied: setuptools in /usr/local/lib/python3.6/dist-packages (from spacy<2.4.0,>=2.3.0->en-core-web-lg==2.3.1) (50.3.0)\n",
            "Collecting thinc==7.4.1\n",
            "\u001b[?25l  Downloading https://files.pythonhosted.org/packages/10/ae/ef3ae5e93639c0ef8e3eb32e3c18341e511b3c515fcfc603f4b808087651/thinc-7.4.1-cp36-cp36m-manylinux1_x86_64.whl (2.1MB)\n",
            "\u001b[K     |████████████████████████████████| 2.1MB 42.1MB/s \n",
            "\u001b[?25hRequirement already satisfied: murmurhash<1.1.0,>=0.28.0 in /usr/local/lib/python3.6/dist-packages (from spacy<2.4.0,>=2.3.0->en-core-web-lg==2.3.1) (1.0.2)\n",
            "Requirement already satisfied: srsly<1.1.0,>=1.0.2 in /usr/local/lib/python3.6/dist-packages (from spacy<2.4.0,>=2.3.0->en-core-web-lg==2.3.1) (1.0.2)\n",
            "Requirement already satisfied: requests<3.0.0,>=2.13.0 in /usr/local/lib/python3.6/dist-packages (from spacy<2.4.0,>=2.3.0->en-core-web-lg==2.3.1) (2.23.0)\n",
            "Requirement already satisfied: blis<0.5.0,>=0.4.0 in /usr/local/lib/python3.6/dist-packages (from spacy<2.4.0,>=2.3.0->en-core-web-lg==2.3.1) (0.4.1)\n",
            "Requirement already satisfied: importlib-metadata>=0.20; python_version < \"3.8\" in /usr/local/lib/python3.6/dist-packages (from catalogue<1.1.0,>=0.0.7->spacy<2.4.0,>=2.3.0->en-core-web-lg==2.3.1) (1.7.0)\n",
            "Requirement already satisfied: idna<3,>=2.5 in /usr/local/lib/python3.6/dist-packages (from requests<3.0.0,>=2.13.0->spacy<2.4.0,>=2.3.0->en-core-web-lg==2.3.1) (2.10)\n",
            "Requirement already satisfied: urllib3!=1.25.0,!=1.25.1,<1.26,>=1.21.1 in /usr/local/lib/python3.6/dist-packages (from requests<3.0.0,>=2.13.0->spacy<2.4.0,>=2.3.0->en-core-web-lg==2.3.1) (1.24.3)\n",
            "Requirement already satisfied: certifi>=2017.4.17 in /usr/local/lib/python3.6/dist-packages (from requests<3.0.0,>=2.13.0->spacy<2.4.0,>=2.3.0->en-core-web-lg==2.3.1) (2020.6.20)\n",
            "Requirement already satisfied: chardet<4,>=3.0.2 in /usr/local/lib/python3.6/dist-packages (from requests<3.0.0,>=2.13.0->spacy<2.4.0,>=2.3.0->en-core-web-lg==2.3.1) (3.0.4)\n",
            "Requirement already satisfied: zipp>=0.5 in /usr/local/lib/python3.6/dist-packages (from importlib-metadata>=0.20; python_version < \"3.8\"->catalogue<1.1.0,>=0.0.7->spacy<2.4.0,>=2.3.0->en-core-web-lg==2.3.1) (3.1.0)\n",
            "Building wheels for collected packages: en-core-web-lg\n",
            "  Building wheel for en-core-web-lg (setup.py) ... \u001b[?25l\u001b[?25hdone\n",
            "  Created wheel for en-core-web-lg: filename=en_core_web_lg-2.3.1-cp36-none-any.whl size=782936125 sha256=293ccd39f6949fc66ab954a1784ceb08358e18547e6e8008098a3a870c03cb28\n",
            "  Stored in directory: /root/.cache/pip/wheels/ce/4d/1b/bc6cabb6df139c5f0318927be3ae9e51363fb44d6ea328d3f4\n",
            "Successfully built en-core-web-lg\n",
            "Installing collected packages: thinc, spacy, en-core-web-lg\n",
            "  Found existing installation: thinc 7.4.0\n",
            "    Uninstalling thinc-7.4.0:\n",
            "      Successfully uninstalled thinc-7.4.0\n",
            "  Found existing installation: spacy 2.2.4\n",
            "    Uninstalling spacy-2.2.4:\n",
            "      Successfully uninstalled spacy-2.2.4\n",
            "Successfully installed en-core-web-lg-2.3.1 spacy-2.3.2 thinc-7.4.1\n"
          ],
          "name": "stdout"
        }
      ]
    },
    {
      "cell_type": "code",
      "metadata": {
        "id": "u2AnKUY3esBw",
        "colab_type": "code",
        "colab": {
          "base_uri": "https://localhost:8080/",
          "height": 71
        },
        "outputId": "881678fa-698c-488a-cf6c-674681a69170"
      },
      "source": [
        "\"\"\" Import Statements \"\"\"\n",
        "\n",
        "# Classics\n",
        "import pandas as pd\n",
        "import seaborn as sns\n",
        "import matplotlib.pyplot as plt\n",
        "\n",
        "from sklearn.feature_extraction.text import CountVectorizer, TfidfVectorizer\n",
        "from sklearn.metrics.pairwise import cosine_similarity\n",
        "from sklearn.neighbors import NearestNeighbors\n",
        "from sklearn.decomposition import PCA\n",
        "\n",
        "import spacy\n",
        "nlp = spacy.load(\"en_core_web_lg\")"
      ],
      "execution_count": 1,
      "outputs": [
        {
          "output_type": "stream",
          "text": [
            "/usr/local/lib/python3.6/dist-packages/statsmodels/tools/_testing.py:19: FutureWarning: pandas.util.testing is deprecated. Use the functions in the public API at pandas.testing instead.\n",
            "  import pandas.util.testing as tm\n"
          ],
          "name": "stderr"
        }
      ]
    },
    {
      "cell_type": "markdown",
      "metadata": {
        "id": "-RvQ_EEcesBz",
        "colab_type": "text"
      },
      "source": [
        "**Warm Up (_3 Minutes_)**\n",
        "\n",
        "Extract the tokens from this sentence using Spacy. Text is from [OpenAI](https://openai.com/blog/better-language-models/)"
      ]
    },
    {
      "cell_type": "code",
      "metadata": {
        "id": "TBm1VMKresB0",
        "colab_type": "code",
        "colab": {}
      },
      "source": [
        "text = \"\"\"GPT-2 displays a broad set of capabilities, including \n",
        "the ability to generate conditional synthetic text samples of \n",
        "unprecedented quality, where we prime the model with an input and \n",
        "have it generate a lengthy continuation. In addition, GPT-2 outperforms \n",
        "other language models trained on specific domains \n",
        "(like Wikipedia, news, or books) without needing to use these domain-specific \n",
        "training datasets. On language tasks like question answering, reading \n",
        "comprehension, summarization, and translation, GPT-2 begins to learn these \n",
        "tasks from the raw text, using no task-specific training data. \n",
        "While scores on these downstream tasks are far from state-of-the-art, \n",
        "they suggest that the tasks can benefit from unsupervised techniques, \n",
        "given sufficient (unlabeled) data and compute.          $%&*?\"\"\""
      ],
      "execution_count": 6,
      "outputs": []
    },
    {
      "cell_type": "code",
      "metadata": {
        "id": "YQb5FXxBesB4",
        "colab_type": "code",
        "colab": {
          "base_uri": "https://localhost:8080/",
          "height": 221
        },
        "outputId": "012f1d61-6cf3-48ce-826a-7c794a5b8d0e"
      },
      "source": [
        "# nlp create a spacy.Doc word iterable (tokenizable) data type with a several methodes\n",
        "doc = nlp(text)\n",
        "doc"
      ],
      "execution_count": 7,
      "outputs": [
        {
          "output_type": "execute_result",
          "data": {
            "text/plain": [
              "GPT-2 displays a broad set of capabilities, including \n",
              "the ability to generate conditional synthetic text samples of \n",
              "unprecedented quality, where we prime the model with an input and \n",
              "have it generate a lengthy continuation. In addition, GPT-2 outperforms \n",
              "other language models trained on specific domains \n",
              "(like Wikipedia, news, or books) without needing to use these domain-specific \n",
              "training datasets. On language tasks like question answering, reading \n",
              "comprehension, summarization, and translation, GPT-2 begins to learn these \n",
              "tasks from the raw text, using no task-specific training data. \n",
              "While scores on these downstream tasks are far from state-of-the-art, \n",
              "they suggest that the tasks can benefit from unsupervised techniques, \n",
              "given sufficient (unlabeled) data and compute.          $%&*?"
            ]
          },
          "metadata": {
            "tags": []
          },
          "execution_count": 7
        }
      ]
    },
    {
      "cell_type": "code",
      "metadata": {
        "id": "AdHqQjPqgYjy",
        "colab_type": "code",
        "colab": {
          "base_uri": "https://localhost:8080/",
          "height": 1000
        },
        "outputId": "d1b39e38-9418-4353-dd44-5041c15ff57a"
      },
      "source": [
        "\"\"\"lemma_ convert words to their roots and normalizes \n",
        "the verb tense and nounes, removes stop words, pronounces\"\"\"\n",
        "\n",
        "[token.lemma_ for token in doc if (token.is_stop != True) and (token.is_punct != True)]"
      ],
      "execution_count": 9,
      "outputs": [
        {
          "output_type": "execute_result",
          "data": {
            "text/plain": [
              "['GPT-2',\n",
              " 'display',\n",
              " 'broad',\n",
              " 'set',\n",
              " 'capability',\n",
              " 'include',\n",
              " '\\n',\n",
              " 'ability',\n",
              " 'generate',\n",
              " 'conditional',\n",
              " 'synthetic',\n",
              " 'text',\n",
              " 'sample',\n",
              " '\\n',\n",
              " 'unprecedented',\n",
              " 'quality',\n",
              " 'prime',\n",
              " 'model',\n",
              " 'input',\n",
              " '\\n',\n",
              " 'generate',\n",
              " 'lengthy',\n",
              " 'continuation',\n",
              " 'addition',\n",
              " 'GPT-2',\n",
              " 'outperform',\n",
              " '\\n',\n",
              " 'language',\n",
              " 'model',\n",
              " 'train',\n",
              " 'specific',\n",
              " 'domain',\n",
              " '\\n',\n",
              " 'like',\n",
              " 'Wikipedia',\n",
              " 'news',\n",
              " 'book',\n",
              " 'need',\n",
              " 'use',\n",
              " 'domain',\n",
              " 'specific',\n",
              " '\\n',\n",
              " 'training',\n",
              " 'dataset',\n",
              " 'language',\n",
              " 'task',\n",
              " 'like',\n",
              " 'question',\n",
              " 'answering',\n",
              " 'read',\n",
              " '\\n',\n",
              " 'comprehension',\n",
              " 'summarization',\n",
              " 'translation',\n",
              " 'GPT-2',\n",
              " 'begin',\n",
              " 'learn',\n",
              " '\\n',\n",
              " 'task',\n",
              " 'raw',\n",
              " 'text',\n",
              " 'task',\n",
              " 'specific',\n",
              " 'training',\n",
              " 'datum',\n",
              " '\\n',\n",
              " 'score',\n",
              " 'downstream',\n",
              " 'task',\n",
              " 'far',\n",
              " 'state',\n",
              " 'art',\n",
              " '\\n',\n",
              " 'suggest',\n",
              " 'task',\n",
              " 'benefit',\n",
              " 'unsupervised',\n",
              " 'technique',\n",
              " '\\n',\n",
              " 'give',\n",
              " 'sufficient',\n",
              " 'unlabeled',\n",
              " 'datum',\n",
              " 'compute',\n",
              " '         ',\n",
              " '$']"
            ]
          },
          "metadata": {
            "tags": []
          },
          "execution_count": 9
        }
      ]
    },
    {
      "cell_type": "code",
      "metadata": {
        "id": "NorelP0JjtHJ",
        "colab_type": "code",
        "colab": {
          "base_uri": "https://localhost:8080/",
          "height": 34
        },
        "outputId": "9f14c998-4d3d-446c-901f-04c723af0431"
      },
      "source": [
        "from google.colab import drive\n",
        "drive.mount('/content/drive')"
      ],
      "execution_count": 13,
      "outputs": [
        {
          "output_type": "stream",
          "text": [
            "Mounted at /content/drive\n"
          ],
          "name": "stdout"
        }
      ]
    },
    {
      "cell_type": "code",
      "metadata": {
        "id": "T_lTOVBykQcI",
        "colab_type": "code",
        "colab": {}
      },
      "source": [
        "/content/drive/My Drive/Colab Notebooks/Lambda School/Unit-4-Sprint-1-NLP/data"
      ],
      "execution_count": null,
      "outputs": []
    },
    {
      "cell_type": "code",
      "metadata": {
        "id": "LTgO7m2besB7",
        "colab_type": "code",
        "colab": {}
      },
      "source": [
        "import os \n",
        "# os.listdir('./data')\n",
        "# os.listdir('/content/drive/My Drive/Colab Notebooks/Lambda School/Unit-4-Sprint-1-NLP/data')"
      ],
      "execution_count": 16,
      "outputs": []
    },
    {
      "cell_type": "code",
      "metadata": {
        "id": "hMsrs1P6esB-",
        "colab_type": "code",
        "colab": {}
      },
      "source": [
        "# use lower case action verbs for functions\n",
        "\n",
        "def gather_data(filefolder):\n",
        "    \"\"\" Produces List of Documents from a Directory\n",
        "    \n",
        "    filefolder (str): a path to .txt files\n",
        "    \n",
        "    returns list of strings, where each string is one content of one file\n",
        "    \"\"\"\n",
        "    \n",
        "    data = []\n",
        "    \n",
        "    files = os.listdir(filefolder) # Causes variation across machines\n",
        "    \n",
        "    for article in files: \n",
        "        \n",
        "        path = os.path.join(filefolder, article)\n",
        "                    \n",
        "        if  path[-3:] == 'txt': # os ~endswith('txt')\n",
        "            with open(path, 'rb') as f:\n",
        "                data.append(f.read())\n",
        "    \n",
        "    return data"
      ],
      "execution_count": 17,
      "outputs": []
    },
    {
      "cell_type": "code",
      "metadata": {
        "id": "BZSZ-S_MesCA",
        "colab_type": "code",
        "colab": {}
      },
      "source": [
        "data = gather_data('/content/drive/My Drive/Colab Notebooks/Lambda School/Unit-4-Sprint-1-NLP/data')"
      ],
      "execution_count": 18,
      "outputs": []
    },
    {
      "cell_type": "code",
      "metadata": {
        "id": "TL-fRnemesCD",
        "colab_type": "code",
        "colab": {
          "base_uri": "https://localhost:8080/",
          "height": 51
        },
        "outputId": "3f1a1560-0bc1-40a8-851f-4004a1161cc4"
      },
      "source": [
        "print(len(data))\n",
        "data[0][:100]"
      ],
      "execution_count": 22,
      "outputs": [
        {
          "output_type": "stream",
          "text": [
            "401\n"
          ],
          "name": "stdout"
        },
        {
          "output_type": "execute_result",
          "data": {
            "text/plain": [
              "b\"Security warning over 'FBI virus'\\n\\nThe US Federal Bureau of Investigation is warning that a computer\""
            ]
          },
          "metadata": {
            "tags": []
          },
          "execution_count": 22
        }
      ]
    },
    {
      "cell_type": "code",
      "metadata": {
        "id": "lzLqT9hWKwIc",
        "colab_type": "code",
        "colab": {}
      },
      "source": [
        "# Convert byte type to string\n",
        "data = [i.decode(\"utf-8\") for i in data]"
      ],
      "execution_count": null,
      "outputs": []
    },
    {
      "cell_type": "markdown",
      "metadata": {
        "id": "yJOe29e6esCF",
        "colab_type": "text"
      },
      "source": [
        "### CountVectorizer\n",
        "* CountVectorizer creates a document term matrix (dtm) in which the value in each cell represents the count of the appearance of that word in the document each row represents"
      ]
    },
    {
      "cell_type": "code",
      "metadata": {
        "id": "LU1iLRxkesCG",
        "colab_type": "code",
        "colab": {}
      },
      "source": [
        "from sklearn.feature_extraction.text import CountVectorizer\n",
        "\n",
        "# list of 3 text documents\n",
        "text = [\"We created a new dataset which emphasizes diversity of content, by scraping content from the Internet.\",\n",
        "        \" In order to preserve document quality, we used only pages which have been curated/filtered by humans—specifically, we used outbound links from Reddit which received at least 3 karma., This can be thought of as a heuristic indicator for whether other users found the link interesting (whether educational or funny)\", \n",
        "        \"leading to higher data quality than other similar datasets, such as CommonCrawl.\"]\n",
        "\n",
        "# create the transformer\n",
        "vect = CountVectorizer()\n",
        "\n",
        "# build vocab\n",
        "vect.fit(text)\n",
        "\n",
        "# transform text\n",
        "dtm = vect.transform(text)\n",
        "\n",
        "# Create a Vocabulary\n",
        "# The vocabulary establishes all of the possible words that we might use.\n",
        "\n",
        "# The vocabulary dictionary does not represent the counts of words!!\n"
      ],
      "execution_count": 23,
      "outputs": []
    },
    {
      "cell_type": "code",
      "metadata": {
        "id": "Kynw3t7oo0eo",
        "colab_type": "code",
        "colab": {
          "base_uri": "https://localhost:8080/",
          "height": 1000
        },
        "outputId": "df718bfe-2682-49a3-8bf2-ea54ecd0f2d2"
      },
      "source": [
        "dir(vect)"
      ],
      "execution_count": 27,
      "outputs": [
        {
          "output_type": "execute_result",
          "data": {
            "text/plain": [
              "['__class__',\n",
              " '__delattr__',\n",
              " '__dict__',\n",
              " '__dir__',\n",
              " '__doc__',\n",
              " '__eq__',\n",
              " '__format__',\n",
              " '__ge__',\n",
              " '__getattribute__',\n",
              " '__getstate__',\n",
              " '__gt__',\n",
              " '__hash__',\n",
              " '__init__',\n",
              " '__init_subclass__',\n",
              " '__le__',\n",
              " '__lt__',\n",
              " '__module__',\n",
              " '__ne__',\n",
              " '__new__',\n",
              " '__reduce__',\n",
              " '__reduce_ex__',\n",
              " '__repr__',\n",
              " '__setattr__',\n",
              " '__setstate__',\n",
              " '__sizeof__',\n",
              " '__str__',\n",
              " '__subclasshook__',\n",
              " '__weakref__',\n",
              " '_char_ngrams',\n",
              " '_char_wb_ngrams',\n",
              " '_check_stop_words_consistency',\n",
              " '_check_vocabulary',\n",
              " '_count_vocab',\n",
              " '_get_param_names',\n",
              " '_get_tags',\n",
              " '_limit_features',\n",
              " '_more_tags',\n",
              " '_sort_features',\n",
              " '_stop_words_id',\n",
              " '_validate_custom_analyzer',\n",
              " '_validate_params',\n",
              " '_validate_vocabulary',\n",
              " '_warn_for_unused_params',\n",
              " '_white_spaces',\n",
              " '_word_ngrams',\n",
              " 'analyzer',\n",
              " 'binary',\n",
              " 'build_analyzer',\n",
              " 'build_preprocessor',\n",
              " 'build_tokenizer',\n",
              " 'decode',\n",
              " 'decode_error',\n",
              " 'dtype',\n",
              " 'encoding',\n",
              " 'fit',\n",
              " 'fit_transform',\n",
              " 'fixed_vocabulary_',\n",
              " 'get_feature_names',\n",
              " 'get_params',\n",
              " 'get_stop_words',\n",
              " 'input',\n",
              " 'inverse_transform',\n",
              " 'lowercase',\n",
              " 'max_df',\n",
              " 'max_features',\n",
              " 'min_df',\n",
              " 'ngram_range',\n",
              " 'preprocessor',\n",
              " 'set_params',\n",
              " 'stop_words',\n",
              " 'stop_words_',\n",
              " 'strip_accents',\n",
              " 'token_pattern',\n",
              " 'tokenizer',\n",
              " 'transform',\n",
              " 'vocabulary',\n",
              " 'vocabulary_']"
            ]
          },
          "metadata": {
            "tags": []
          },
          "execution_count": 27
        }
      ]
    },
    {
      "cell_type": "code",
      "metadata": {
        "id": "U9PRRD_8esCK",
        "colab_type": "code",
        "colab": {
          "base_uri": "https://localhost:8080/",
          "height": 71
        },
        "outputId": "26a48422-071a-4fa2-9444-eac517807040"
      },
      "source": [
        "print(vect.get_feature_names())\n",
        "print(len(vect.get_feature_names()))"
      ],
      "execution_count": 44,
      "outputs": [
        {
          "output_type": "stream",
          "text": [
            "['as', 'at', 'be', 'been', 'by', 'can', 'commoncrawl', 'content', 'created', 'curated', 'data', 'dataset', 'datasets', 'diversity', 'document', 'educational', 'emphasizes', 'filtered', 'for', 'found', 'from', 'funny', 'have', 'heuristic', 'higher', 'humans', 'in', 'indicator', 'interesting', 'internet', 'karma', 'leading', 'least', 'link', 'links', 'new', 'of', 'only', 'or', 'order', 'other', 'outbound', 'pages', 'preserve', 'quality', 'received', 'reddit', 'scraping', 'similar', 'specifically', 'such', 'than', 'the', 'this', 'thought', 'to', 'used', 'users', 'we', 'whether', 'which']\n",
            "61\n"
          ],
          "name": "stdout"
        }
      ]
    },
    {
      "cell_type": "code",
      "metadata": {
        "id": "AeJv9D0UesCI",
        "colab_type": "code",
        "colab": {
          "base_uri": "https://localhost:8080/",
          "height": 901
        },
        "outputId": "87eca0d1-be87-42c5-dcbf-036a9bf64ca0"
      },
      "source": [
        "#(document, word_index) count\n",
        "print(type(dtm))\n",
        "print(dtm)"
      ],
      "execution_count": 45,
      "outputs": [
        {
          "output_type": "stream",
          "text": [
            "<class 'scipy.sparse.csr.csr_matrix'>\n",
            "  (0, 4)\t1\n",
            "  (0, 7)\t2\n",
            "  (0, 8)\t1\n",
            "  (0, 11)\t1\n",
            "  (0, 13)\t1\n",
            "  (0, 16)\t1\n",
            "  (0, 20)\t1\n",
            "  (0, 29)\t1\n",
            "  (0, 35)\t1\n",
            "  (0, 36)\t1\n",
            "  (0, 47)\t1\n",
            "  (0, 52)\t1\n",
            "  (0, 58)\t1\n",
            "  (0, 60)\t1\n",
            "  (1, 0)\t1\n",
            "  (1, 1)\t1\n",
            "  (1, 2)\t1\n",
            "  (1, 3)\t1\n",
            "  (1, 4)\t1\n",
            "  (1, 5)\t1\n",
            "  (1, 9)\t1\n",
            "  (1, 14)\t1\n",
            "  (1, 15)\t1\n",
            "  (1, 17)\t1\n",
            "  (1, 18)\t1\n",
            "  :\t:\n",
            "  (1, 44)\t1\n",
            "  (1, 45)\t1\n",
            "  (1, 46)\t1\n",
            "  (1, 49)\t1\n",
            "  (1, 52)\t1\n",
            "  (1, 53)\t1\n",
            "  (1, 54)\t1\n",
            "  (1, 55)\t1\n",
            "  (1, 56)\t2\n",
            "  (1, 57)\t1\n",
            "  (1, 58)\t2\n",
            "  (1, 59)\t2\n",
            "  (1, 60)\t2\n",
            "  (2, 0)\t1\n",
            "  (2, 6)\t1\n",
            "  (2, 10)\t1\n",
            "  (2, 12)\t1\n",
            "  (2, 24)\t1\n",
            "  (2, 31)\t1\n",
            "  (2, 40)\t1\n",
            "  (2, 44)\t1\n",
            "  (2, 48)\t1\n",
            "  (2, 50)\t1\n",
            "  (2, 51)\t1\n",
            "  (2, 55)\t1\n"
          ],
          "name": "stdout"
        }
      ]
    },
    {
      "cell_type": "code",
      "metadata": {
        "id": "kOX5VKH6qCH6",
        "colab_type": "code",
        "colab": {
          "base_uri": "https://localhost:8080/",
          "height": 34
        },
        "outputId": "c260dd84-b3d6-4f17-f3d5-46ccb24e8ebd"
      },
      "source": [
        "# there are total of 61 words for all 3 text documents\n",
        "dtm.todense().shape"
      ],
      "execution_count": 40,
      "outputs": [
        {
          "output_type": "execute_result",
          "data": {
            "text/plain": [
              "(3, 61)"
            ]
          },
          "metadata": {
            "tags": []
          },
          "execution_count": 40
        }
      ]
    },
    {
      "cell_type": "code",
      "metadata": {
        "id": "qp6gZUaqesCO",
        "colab_type": "code",
        "colab": {},
        "outputId": "5eaefbb2-6766-469f-ae37-201be710ed68"
      },
      "source": [
        "# Dealing with Sparse Matrix\n",
        "# dtm shows which word in dictionary is used in each document and how many times\n",
        "print(dtm.todense().shape)\n",
        "dtm.todense()"
      ],
      "execution_count": null,
      "outputs": [
        {
          "output_type": "execute_result",
          "data": {
            "text/plain": [
              "matrix([[0, 0, 0, 0, 1, 0, 0, 2, 1, 0, 0, 1, 0, 1, 0, 0, 1, 0, 0, 0, 1,\n",
              "         0, 0, 0, 0, 0, 0, 0, 0, 1, 0, 0, 0, 0, 0, 1, 1, 0, 0, 0, 0, 0,\n",
              "         0, 0, 0, 0, 0, 1, 0, 0, 0, 0, 1, 0, 0, 0, 0, 0, 1, 0, 1],\n",
              "        [1, 1, 1, 1, 1, 1, 0, 0, 0, 1, 0, 0, 0, 0, 1, 1, 0, 1, 1, 1, 1,\n",
              "         1, 1, 1, 0, 1, 1, 1, 1, 0, 1, 0, 1, 1, 1, 0, 1, 1, 1, 1, 1, 1,\n",
              "         1, 1, 1, 1, 1, 0, 0, 1, 0, 0, 1, 1, 1, 1, 2, 1, 2, 2, 2],\n",
              "        [1, 0, 0, 0, 0, 0, 1, 0, 0, 0, 1, 0, 1, 0, 0, 0, 0, 0, 0, 0, 0,\n",
              "         0, 0, 0, 1, 0, 0, 0, 0, 0, 0, 1, 0, 0, 0, 0, 0, 0, 0, 0, 1, 0,\n",
              "         0, 0, 1, 0, 0, 0, 1, 0, 1, 1, 0, 0, 0, 1, 0, 0, 0, 0, 0]])"
            ]
          },
          "metadata": {
            "tags": []
          },
          "execution_count": 39
        }
      ]
    },
    {
      "cell_type": "code",
      "metadata": {
        "id": "hOCgJzbHesCQ",
        "colab_type": "code",
        "colab": {
          "base_uri": "https://localhost:8080/",
          "height": 34
        },
        "outputId": "35e82082-dcdd-4492-f0b2-b616df8ea978"
      },
      "source": [
        "type(dtm)"
      ],
      "execution_count": 46,
      "outputs": [
        {
          "output_type": "execute_result",
          "data": {
            "text/plain": [
              "scipy.sparse.csr.csr_matrix"
            ]
          },
          "metadata": {
            "tags": []
          },
          "execution_count": 46
        }
      ]
    },
    {
      "cell_type": "code",
      "metadata": {
        "id": "jXtcsQttesCS",
        "colab_type": "code",
        "colab": {
          "base_uri": "https://localhost:8080/",
          "height": 162
        },
        "outputId": "9218fe6e-6ad4-4b8c-ac11-eb807cad5990"
      },
      "source": [
        "# Get Word Counts for each document\n",
        "dtm = pd.DataFrame(dtm.todense(), columns=vect.get_feature_names())\n",
        "dtm"
      ],
      "execution_count": 47,
      "outputs": [
        {
          "output_type": "execute_result",
          "data": {
            "text/html": [
              "<div>\n",
              "<style scoped>\n",
              "    .dataframe tbody tr th:only-of-type {\n",
              "        vertical-align: middle;\n",
              "    }\n",
              "\n",
              "    .dataframe tbody tr th {\n",
              "        vertical-align: top;\n",
              "    }\n",
              "\n",
              "    .dataframe thead th {\n",
              "        text-align: right;\n",
              "    }\n",
              "</style>\n",
              "<table border=\"1\" class=\"dataframe\">\n",
              "  <thead>\n",
              "    <tr style=\"text-align: right;\">\n",
              "      <th></th>\n",
              "      <th>as</th>\n",
              "      <th>at</th>\n",
              "      <th>be</th>\n",
              "      <th>been</th>\n",
              "      <th>by</th>\n",
              "      <th>can</th>\n",
              "      <th>commoncrawl</th>\n",
              "      <th>content</th>\n",
              "      <th>created</th>\n",
              "      <th>curated</th>\n",
              "      <th>data</th>\n",
              "      <th>dataset</th>\n",
              "      <th>datasets</th>\n",
              "      <th>diversity</th>\n",
              "      <th>document</th>\n",
              "      <th>educational</th>\n",
              "      <th>emphasizes</th>\n",
              "      <th>filtered</th>\n",
              "      <th>for</th>\n",
              "      <th>found</th>\n",
              "      <th>from</th>\n",
              "      <th>funny</th>\n",
              "      <th>have</th>\n",
              "      <th>heuristic</th>\n",
              "      <th>higher</th>\n",
              "      <th>humans</th>\n",
              "      <th>in</th>\n",
              "      <th>indicator</th>\n",
              "      <th>interesting</th>\n",
              "      <th>internet</th>\n",
              "      <th>karma</th>\n",
              "      <th>leading</th>\n",
              "      <th>least</th>\n",
              "      <th>link</th>\n",
              "      <th>links</th>\n",
              "      <th>new</th>\n",
              "      <th>of</th>\n",
              "      <th>only</th>\n",
              "      <th>or</th>\n",
              "      <th>order</th>\n",
              "      <th>other</th>\n",
              "      <th>outbound</th>\n",
              "      <th>pages</th>\n",
              "      <th>preserve</th>\n",
              "      <th>quality</th>\n",
              "      <th>received</th>\n",
              "      <th>reddit</th>\n",
              "      <th>scraping</th>\n",
              "      <th>similar</th>\n",
              "      <th>specifically</th>\n",
              "      <th>such</th>\n",
              "      <th>than</th>\n",
              "      <th>the</th>\n",
              "      <th>this</th>\n",
              "      <th>thought</th>\n",
              "      <th>to</th>\n",
              "      <th>used</th>\n",
              "      <th>users</th>\n",
              "      <th>we</th>\n",
              "      <th>whether</th>\n",
              "      <th>which</th>\n",
              "    </tr>\n",
              "  </thead>\n",
              "  <tbody>\n",
              "    <tr>\n",
              "      <th>0</th>\n",
              "      <td>0</td>\n",
              "      <td>0</td>\n",
              "      <td>0</td>\n",
              "      <td>0</td>\n",
              "      <td>1</td>\n",
              "      <td>0</td>\n",
              "      <td>0</td>\n",
              "      <td>2</td>\n",
              "      <td>1</td>\n",
              "      <td>0</td>\n",
              "      <td>0</td>\n",
              "      <td>1</td>\n",
              "      <td>0</td>\n",
              "      <td>1</td>\n",
              "      <td>0</td>\n",
              "      <td>0</td>\n",
              "      <td>1</td>\n",
              "      <td>0</td>\n",
              "      <td>0</td>\n",
              "      <td>0</td>\n",
              "      <td>1</td>\n",
              "      <td>0</td>\n",
              "      <td>0</td>\n",
              "      <td>0</td>\n",
              "      <td>0</td>\n",
              "      <td>0</td>\n",
              "      <td>0</td>\n",
              "      <td>0</td>\n",
              "      <td>0</td>\n",
              "      <td>1</td>\n",
              "      <td>0</td>\n",
              "      <td>0</td>\n",
              "      <td>0</td>\n",
              "      <td>0</td>\n",
              "      <td>0</td>\n",
              "      <td>1</td>\n",
              "      <td>1</td>\n",
              "      <td>0</td>\n",
              "      <td>0</td>\n",
              "      <td>0</td>\n",
              "      <td>0</td>\n",
              "      <td>0</td>\n",
              "      <td>0</td>\n",
              "      <td>0</td>\n",
              "      <td>0</td>\n",
              "      <td>0</td>\n",
              "      <td>0</td>\n",
              "      <td>1</td>\n",
              "      <td>0</td>\n",
              "      <td>0</td>\n",
              "      <td>0</td>\n",
              "      <td>0</td>\n",
              "      <td>1</td>\n",
              "      <td>0</td>\n",
              "      <td>0</td>\n",
              "      <td>0</td>\n",
              "      <td>0</td>\n",
              "      <td>0</td>\n",
              "      <td>1</td>\n",
              "      <td>0</td>\n",
              "      <td>1</td>\n",
              "    </tr>\n",
              "    <tr>\n",
              "      <th>1</th>\n",
              "      <td>1</td>\n",
              "      <td>1</td>\n",
              "      <td>1</td>\n",
              "      <td>1</td>\n",
              "      <td>1</td>\n",
              "      <td>1</td>\n",
              "      <td>0</td>\n",
              "      <td>0</td>\n",
              "      <td>0</td>\n",
              "      <td>1</td>\n",
              "      <td>0</td>\n",
              "      <td>0</td>\n",
              "      <td>0</td>\n",
              "      <td>0</td>\n",
              "      <td>1</td>\n",
              "      <td>1</td>\n",
              "      <td>0</td>\n",
              "      <td>1</td>\n",
              "      <td>1</td>\n",
              "      <td>1</td>\n",
              "      <td>1</td>\n",
              "      <td>1</td>\n",
              "      <td>1</td>\n",
              "      <td>1</td>\n",
              "      <td>0</td>\n",
              "      <td>1</td>\n",
              "      <td>1</td>\n",
              "      <td>1</td>\n",
              "      <td>1</td>\n",
              "      <td>0</td>\n",
              "      <td>1</td>\n",
              "      <td>0</td>\n",
              "      <td>1</td>\n",
              "      <td>1</td>\n",
              "      <td>1</td>\n",
              "      <td>0</td>\n",
              "      <td>1</td>\n",
              "      <td>1</td>\n",
              "      <td>1</td>\n",
              "      <td>1</td>\n",
              "      <td>1</td>\n",
              "      <td>1</td>\n",
              "      <td>1</td>\n",
              "      <td>1</td>\n",
              "      <td>1</td>\n",
              "      <td>1</td>\n",
              "      <td>1</td>\n",
              "      <td>0</td>\n",
              "      <td>0</td>\n",
              "      <td>1</td>\n",
              "      <td>0</td>\n",
              "      <td>0</td>\n",
              "      <td>1</td>\n",
              "      <td>1</td>\n",
              "      <td>1</td>\n",
              "      <td>1</td>\n",
              "      <td>2</td>\n",
              "      <td>1</td>\n",
              "      <td>2</td>\n",
              "      <td>2</td>\n",
              "      <td>2</td>\n",
              "    </tr>\n",
              "    <tr>\n",
              "      <th>2</th>\n",
              "      <td>1</td>\n",
              "      <td>0</td>\n",
              "      <td>0</td>\n",
              "      <td>0</td>\n",
              "      <td>0</td>\n",
              "      <td>0</td>\n",
              "      <td>1</td>\n",
              "      <td>0</td>\n",
              "      <td>0</td>\n",
              "      <td>0</td>\n",
              "      <td>1</td>\n",
              "      <td>0</td>\n",
              "      <td>1</td>\n",
              "      <td>0</td>\n",
              "      <td>0</td>\n",
              "      <td>0</td>\n",
              "      <td>0</td>\n",
              "      <td>0</td>\n",
              "      <td>0</td>\n",
              "      <td>0</td>\n",
              "      <td>0</td>\n",
              "      <td>0</td>\n",
              "      <td>0</td>\n",
              "      <td>0</td>\n",
              "      <td>1</td>\n",
              "      <td>0</td>\n",
              "      <td>0</td>\n",
              "      <td>0</td>\n",
              "      <td>0</td>\n",
              "      <td>0</td>\n",
              "      <td>0</td>\n",
              "      <td>1</td>\n",
              "      <td>0</td>\n",
              "      <td>0</td>\n",
              "      <td>0</td>\n",
              "      <td>0</td>\n",
              "      <td>0</td>\n",
              "      <td>0</td>\n",
              "      <td>0</td>\n",
              "      <td>0</td>\n",
              "      <td>1</td>\n",
              "      <td>0</td>\n",
              "      <td>0</td>\n",
              "      <td>0</td>\n",
              "      <td>1</td>\n",
              "      <td>0</td>\n",
              "      <td>0</td>\n",
              "      <td>0</td>\n",
              "      <td>1</td>\n",
              "      <td>0</td>\n",
              "      <td>1</td>\n",
              "      <td>1</td>\n",
              "      <td>0</td>\n",
              "      <td>0</td>\n",
              "      <td>0</td>\n",
              "      <td>1</td>\n",
              "      <td>0</td>\n",
              "      <td>0</td>\n",
              "      <td>0</td>\n",
              "      <td>0</td>\n",
              "      <td>0</td>\n",
              "    </tr>\n",
              "  </tbody>\n",
              "</table>\n",
              "</div>"
            ],
            "text/plain": [
              "   as  at  be  been  by  can  ...  to  used  users  we  whether  which\n",
              "0   0   0   0     0   1    0  ...   0     0      0   1        0      1\n",
              "1   1   1   1     1   1    1  ...   1     2      1   2        2      2\n",
              "2   1   0   0     0   0    0  ...   1     0      0   0        0      0\n",
              "\n",
              "[3 rows x 61 columns]"
            ]
          },
          "metadata": {
            "tags": []
          },
          "execution_count": 47
        }
      ]
    },
    {
      "cell_type": "code",
      "metadata": {
        "id": "b9UptN3TesCV",
        "colab_type": "code",
        "colab": {
          "base_uri": "https://localhost:8080/",
          "height": 34
        },
        "outputId": "9205d63f-8ef6-483d-9247-bdd90a82f57e"
      },
      "source": [
        "# back to bbc dataset\n",
        "data[0][:25]"
      ],
      "execution_count": 48,
      "outputs": [
        {
          "output_type": "execute_result",
          "data": {
            "text/plain": [
              "b\"Security warning over 'FB\""
            ]
          },
          "metadata": {
            "tags": []
          },
          "execution_count": 48
        }
      ]
    },
    {
      "cell_type": "code",
      "metadata": {
        "id": "OZMYnbNkesCW",
        "colab_type": "code",
        "colab": {
          "base_uri": "https://localhost:8080/",
          "height": 34
        },
        "outputId": "09bd8694-3f5d-4c93-945a-4e506487f1f6"
      },
      "source": [
        "# number of articles\n",
        "len(data)"
      ],
      "execution_count": 49,
      "outputs": [
        {
          "output_type": "execute_result",
          "data": {
            "text/plain": [
              "401"
            ]
          },
          "metadata": {
            "tags": []
          },
          "execution_count": 49
        }
      ]
    },
    {
      "cell_type": "markdown",
      "metadata": {
        "id": "UwxOtPJYesCZ",
        "colab_type": "text"
      },
      "source": [
        "**Three Minute Challenge:** \n",
        "* Apply CountVectorizer to our BBC Data\n",
        "* Store results in a dataframe called `dtm`\n",
        "* Extra Challenge - Try to Customize CountVectorizer with Spacy Processing"
      ]
    },
    {
      "cell_type": "code",
      "metadata": {
        "id": "IdM46HsqesCZ",
        "colab_type": "code",
        "colab": {}
      },
      "source": [
        "# Apply CountVectorizer to our Data\n",
        "# Use custom Spacy Vectorizer\n",
        "# BBC articles in `data` variable\n",
        "\n",
        "from sklearn.feature_extraction.text import CountVectorizer\n",
        "# instantiate the countvectorizer class\n",
        "vect = CountVectorizer(stop_words='english', max_features=1000)\n",
        "\n",
        "#Learn our Vocab\n",
        "# data is a list of strings\n",
        "vect.fit(data)\n",
        "\n",
        "# Get sparse dtm\n",
        "dtm = vect.transform(data)\n",
        "\n",
        "dtm = pd.DataFrame(dtm.todense(), columns=vect.get_feature_names())"
      ],
      "execution_count": 51,
      "outputs": []
    },
    {
      "cell_type": "code",
      "metadata": {
        "id": "ftYAsFQqesCb",
        "colab_type": "code",
        "colab": {
          "base_uri": "https://localhost:8080/",
          "height": 253
        },
        "outputId": "eedbd37f-69cd-4c7f-f645-49d251d327ad"
      },
      "source": [
        "# sparse matrix\n",
        "dtm.head()"
      ],
      "execution_count": 52,
      "outputs": [
        {
          "output_type": "execute_result",
          "data": {
            "text/html": [
              "<div>\n",
              "<style scoped>\n",
              "    .dataframe tbody tr th:only-of-type {\n",
              "        vertical-align: middle;\n",
              "    }\n",
              "\n",
              "    .dataframe tbody tr th {\n",
              "        vertical-align: top;\n",
              "    }\n",
              "\n",
              "    .dataframe thead th {\n",
              "        text-align: right;\n",
              "    }\n",
              "</style>\n",
              "<table border=\"1\" class=\"dataframe\">\n",
              "  <thead>\n",
              "    <tr style=\"text-align: right;\">\n",
              "      <th></th>\n",
              "      <th>000</th>\n",
              "      <th>10</th>\n",
              "      <th>100</th>\n",
              "      <th>11</th>\n",
              "      <th>12</th>\n",
              "      <th>14</th>\n",
              "      <th>15</th>\n",
              "      <th>18</th>\n",
              "      <th>20</th>\n",
              "      <th>200</th>\n",
              "      <th>2003</th>\n",
              "      <th>2004</th>\n",
              "      <th>2005</th>\n",
              "      <th>2006</th>\n",
              "      <th>25</th>\n",
              "      <th>30</th>\n",
              "      <th>3d</th>\n",
              "      <th>3g</th>\n",
              "      <th>40</th>\n",
              "      <th>50</th>\n",
              "      <th>500</th>\n",
              "      <th>60</th>\n",
              "      <th>80</th>\n",
              "      <th>ability</th>\n",
              "      <th>able</th>\n",
              "      <th>access</th>\n",
              "      <th>according</th>\n",
              "      <th>account</th>\n",
              "      <th>accounts</th>\n",
              "      <th>act</th>\n",
              "      <th>action</th>\n",
              "      <th>activity</th>\n",
              "      <th>actually</th>\n",
              "      <th>add</th>\n",
              "      <th>added</th>\n",
              "      <th>address</th>\n",
              "      <th>addresses</th>\n",
              "      <th>advantage</th>\n",
              "      <th>age</th>\n",
              "      <th>ago</th>\n",
              "      <th>...</th>\n",
              "      <th>wanted</th>\n",
              "      <th>wants</th>\n",
              "      <th>warned</th>\n",
              "      <th>warning</th>\n",
              "      <th>wars</th>\n",
              "      <th>watch</th>\n",
              "      <th>watching</th>\n",
              "      <th>way</th>\n",
              "      <th>ways</th>\n",
              "      <th>web</th>\n",
              "      <th>website</th>\n",
              "      <th>websites</th>\n",
              "      <th>week</th>\n",
              "      <th>weeks</th>\n",
              "      <th>went</th>\n",
              "      <th>wi</th>\n",
              "      <th>wide</th>\n",
              "      <th>widely</th>\n",
              "      <th>win</th>\n",
              "      <th>windows</th>\n",
              "      <th>wireless</th>\n",
              "      <th>women</th>\n",
              "      <th>won</th>\n",
              "      <th>word</th>\n",
              "      <th>words</th>\n",
              "      <th>work</th>\n",
              "      <th>worked</th>\n",
              "      <th>working</th>\n",
              "      <th>works</th>\n",
              "      <th>world</th>\n",
              "      <th>worldwide</th>\n",
              "      <th>worm</th>\n",
              "      <th>worth</th>\n",
              "      <th>writing</th>\n",
              "      <th>xbox</th>\n",
              "      <th>xp</th>\n",
              "      <th>yahoo</th>\n",
              "      <th>year</th>\n",
              "      <th>years</th>\n",
              "      <th>york</th>\n",
              "    </tr>\n",
              "  </thead>\n",
              "  <tbody>\n",
              "    <tr>\n",
              "      <th>0</th>\n",
              "      <td>0</td>\n",
              "      <td>0</td>\n",
              "      <td>0</td>\n",
              "      <td>0</td>\n",
              "      <td>0</td>\n",
              "      <td>0</td>\n",
              "      <td>0</td>\n",
              "      <td>0</td>\n",
              "      <td>0</td>\n",
              "      <td>0</td>\n",
              "      <td>0</td>\n",
              "      <td>0</td>\n",
              "      <td>0</td>\n",
              "      <td>0</td>\n",
              "      <td>0</td>\n",
              "      <td>0</td>\n",
              "      <td>0</td>\n",
              "      <td>0</td>\n",
              "      <td>0</td>\n",
              "      <td>0</td>\n",
              "      <td>0</td>\n",
              "      <td>0</td>\n",
              "      <td>0</td>\n",
              "      <td>0</td>\n",
              "      <td>0</td>\n",
              "      <td>0</td>\n",
              "      <td>1</td>\n",
              "      <td>0</td>\n",
              "      <td>1</td>\n",
              "      <td>0</td>\n",
              "      <td>0</td>\n",
              "      <td>0</td>\n",
              "      <td>0</td>\n",
              "      <td>0</td>\n",
              "      <td>0</td>\n",
              "      <td>1</td>\n",
              "      <td>0</td>\n",
              "      <td>0</td>\n",
              "      <td>0</td>\n",
              "      <td>0</td>\n",
              "      <td>...</td>\n",
              "      <td>0</td>\n",
              "      <td>0</td>\n",
              "      <td>1</td>\n",
              "      <td>2</td>\n",
              "      <td>0</td>\n",
              "      <td>0</td>\n",
              "      <td>0</td>\n",
              "      <td>0</td>\n",
              "      <td>0</td>\n",
              "      <td>0</td>\n",
              "      <td>0</td>\n",
              "      <td>1</td>\n",
              "      <td>0</td>\n",
              "      <td>0</td>\n",
              "      <td>0</td>\n",
              "      <td>0</td>\n",
              "      <td>0</td>\n",
              "      <td>0</td>\n",
              "      <td>0</td>\n",
              "      <td>0</td>\n",
              "      <td>0</td>\n",
              "      <td>0</td>\n",
              "      <td>0</td>\n",
              "      <td>0</td>\n",
              "      <td>0</td>\n",
              "      <td>0</td>\n",
              "      <td>0</td>\n",
              "      <td>0</td>\n",
              "      <td>0</td>\n",
              "      <td>0</td>\n",
              "      <td>0</td>\n",
              "      <td>0</td>\n",
              "      <td>0</td>\n",
              "      <td>0</td>\n",
              "      <td>0</td>\n",
              "      <td>0</td>\n",
              "      <td>0</td>\n",
              "      <td>0</td>\n",
              "      <td>0</td>\n",
              "      <td>0</td>\n",
              "    </tr>\n",
              "    <tr>\n",
              "      <th>1</th>\n",
              "      <td>0</td>\n",
              "      <td>2</td>\n",
              "      <td>0</td>\n",
              "      <td>0</td>\n",
              "      <td>1</td>\n",
              "      <td>0</td>\n",
              "      <td>1</td>\n",
              "      <td>0</td>\n",
              "      <td>3</td>\n",
              "      <td>0</td>\n",
              "      <td>0</td>\n",
              "      <td>0</td>\n",
              "      <td>0</td>\n",
              "      <td>0</td>\n",
              "      <td>0</td>\n",
              "      <td>1</td>\n",
              "      <td>0</td>\n",
              "      <td>0</td>\n",
              "      <td>1</td>\n",
              "      <td>0</td>\n",
              "      <td>0</td>\n",
              "      <td>1</td>\n",
              "      <td>0</td>\n",
              "      <td>0</td>\n",
              "      <td>0</td>\n",
              "      <td>0</td>\n",
              "      <td>0</td>\n",
              "      <td>0</td>\n",
              "      <td>0</td>\n",
              "      <td>0</td>\n",
              "      <td>0</td>\n",
              "      <td>0</td>\n",
              "      <td>1</td>\n",
              "      <td>0</td>\n",
              "      <td>0</td>\n",
              "      <td>0</td>\n",
              "      <td>0</td>\n",
              "      <td>0</td>\n",
              "      <td>0</td>\n",
              "      <td>0</td>\n",
              "      <td>...</td>\n",
              "      <td>0</td>\n",
              "      <td>0</td>\n",
              "      <td>0</td>\n",
              "      <td>0</td>\n",
              "      <td>0</td>\n",
              "      <td>0</td>\n",
              "      <td>1</td>\n",
              "      <td>0</td>\n",
              "      <td>0</td>\n",
              "      <td>0</td>\n",
              "      <td>0</td>\n",
              "      <td>0</td>\n",
              "      <td>0</td>\n",
              "      <td>0</td>\n",
              "      <td>0</td>\n",
              "      <td>0</td>\n",
              "      <td>0</td>\n",
              "      <td>0</td>\n",
              "      <td>0</td>\n",
              "      <td>0</td>\n",
              "      <td>0</td>\n",
              "      <td>0</td>\n",
              "      <td>0</td>\n",
              "      <td>0</td>\n",
              "      <td>0</td>\n",
              "      <td>1</td>\n",
              "      <td>0</td>\n",
              "      <td>0</td>\n",
              "      <td>0</td>\n",
              "      <td>0</td>\n",
              "      <td>0</td>\n",
              "      <td>0</td>\n",
              "      <td>0</td>\n",
              "      <td>0</td>\n",
              "      <td>0</td>\n",
              "      <td>0</td>\n",
              "      <td>0</td>\n",
              "      <td>0</td>\n",
              "      <td>0</td>\n",
              "      <td>0</td>\n",
              "    </tr>\n",
              "    <tr>\n",
              "      <th>2</th>\n",
              "      <td>2</td>\n",
              "      <td>1</td>\n",
              "      <td>1</td>\n",
              "      <td>0</td>\n",
              "      <td>0</td>\n",
              "      <td>0</td>\n",
              "      <td>0</td>\n",
              "      <td>0</td>\n",
              "      <td>0</td>\n",
              "      <td>0</td>\n",
              "      <td>0</td>\n",
              "      <td>2</td>\n",
              "      <td>1</td>\n",
              "      <td>0</td>\n",
              "      <td>0</td>\n",
              "      <td>0</td>\n",
              "      <td>0</td>\n",
              "      <td>0</td>\n",
              "      <td>0</td>\n",
              "      <td>0</td>\n",
              "      <td>0</td>\n",
              "      <td>0</td>\n",
              "      <td>0</td>\n",
              "      <td>0</td>\n",
              "      <td>1</td>\n",
              "      <td>1</td>\n",
              "      <td>0</td>\n",
              "      <td>0</td>\n",
              "      <td>0</td>\n",
              "      <td>0</td>\n",
              "      <td>0</td>\n",
              "      <td>0</td>\n",
              "      <td>1</td>\n",
              "      <td>0</td>\n",
              "      <td>0</td>\n",
              "      <td>0</td>\n",
              "      <td>0</td>\n",
              "      <td>0</td>\n",
              "      <td>0</td>\n",
              "      <td>0</td>\n",
              "      <td>...</td>\n",
              "      <td>0</td>\n",
              "      <td>0</td>\n",
              "      <td>0</td>\n",
              "      <td>0</td>\n",
              "      <td>0</td>\n",
              "      <td>0</td>\n",
              "      <td>0</td>\n",
              "      <td>0</td>\n",
              "      <td>1</td>\n",
              "      <td>0</td>\n",
              "      <td>0</td>\n",
              "      <td>0</td>\n",
              "      <td>0</td>\n",
              "      <td>0</td>\n",
              "      <td>0</td>\n",
              "      <td>0</td>\n",
              "      <td>0</td>\n",
              "      <td>0</td>\n",
              "      <td>0</td>\n",
              "      <td>0</td>\n",
              "      <td>0</td>\n",
              "      <td>0</td>\n",
              "      <td>0</td>\n",
              "      <td>0</td>\n",
              "      <td>0</td>\n",
              "      <td>1</td>\n",
              "      <td>0</td>\n",
              "      <td>0</td>\n",
              "      <td>0</td>\n",
              "      <td>0</td>\n",
              "      <td>0</td>\n",
              "      <td>0</td>\n",
              "      <td>0</td>\n",
              "      <td>0</td>\n",
              "      <td>0</td>\n",
              "      <td>0</td>\n",
              "      <td>0</td>\n",
              "      <td>2</td>\n",
              "      <td>0</td>\n",
              "      <td>0</td>\n",
              "    </tr>\n",
              "    <tr>\n",
              "      <th>3</th>\n",
              "      <td>0</td>\n",
              "      <td>1</td>\n",
              "      <td>0</td>\n",
              "      <td>0</td>\n",
              "      <td>0</td>\n",
              "      <td>0</td>\n",
              "      <td>0</td>\n",
              "      <td>0</td>\n",
              "      <td>0</td>\n",
              "      <td>0</td>\n",
              "      <td>0</td>\n",
              "      <td>0</td>\n",
              "      <td>0</td>\n",
              "      <td>0</td>\n",
              "      <td>0</td>\n",
              "      <td>0</td>\n",
              "      <td>0</td>\n",
              "      <td>0</td>\n",
              "      <td>0</td>\n",
              "      <td>0</td>\n",
              "      <td>0</td>\n",
              "      <td>0</td>\n",
              "      <td>0</td>\n",
              "      <td>0</td>\n",
              "      <td>0</td>\n",
              "      <td>0</td>\n",
              "      <td>0</td>\n",
              "      <td>0</td>\n",
              "      <td>0</td>\n",
              "      <td>0</td>\n",
              "      <td>0</td>\n",
              "      <td>1</td>\n",
              "      <td>0</td>\n",
              "      <td>0</td>\n",
              "      <td>0</td>\n",
              "      <td>0</td>\n",
              "      <td>0</td>\n",
              "      <td>0</td>\n",
              "      <td>1</td>\n",
              "      <td>0</td>\n",
              "      <td>...</td>\n",
              "      <td>0</td>\n",
              "      <td>0</td>\n",
              "      <td>0</td>\n",
              "      <td>0</td>\n",
              "      <td>0</td>\n",
              "      <td>0</td>\n",
              "      <td>3</td>\n",
              "      <td>0</td>\n",
              "      <td>0</td>\n",
              "      <td>0</td>\n",
              "      <td>0</td>\n",
              "      <td>0</td>\n",
              "      <td>0</td>\n",
              "      <td>0</td>\n",
              "      <td>0</td>\n",
              "      <td>0</td>\n",
              "      <td>0</td>\n",
              "      <td>0</td>\n",
              "      <td>0</td>\n",
              "      <td>0</td>\n",
              "      <td>0</td>\n",
              "      <td>0</td>\n",
              "      <td>0</td>\n",
              "      <td>0</td>\n",
              "      <td>0</td>\n",
              "      <td>0</td>\n",
              "      <td>0</td>\n",
              "      <td>0</td>\n",
              "      <td>0</td>\n",
              "      <td>1</td>\n",
              "      <td>0</td>\n",
              "      <td>0</td>\n",
              "      <td>0</td>\n",
              "      <td>0</td>\n",
              "      <td>0</td>\n",
              "      <td>0</td>\n",
              "      <td>0</td>\n",
              "      <td>0</td>\n",
              "      <td>0</td>\n",
              "      <td>0</td>\n",
              "    </tr>\n",
              "    <tr>\n",
              "      <th>4</th>\n",
              "      <td>0</td>\n",
              "      <td>0</td>\n",
              "      <td>0</td>\n",
              "      <td>0</td>\n",
              "      <td>0</td>\n",
              "      <td>0</td>\n",
              "      <td>0</td>\n",
              "      <td>0</td>\n",
              "      <td>0</td>\n",
              "      <td>0</td>\n",
              "      <td>1</td>\n",
              "      <td>0</td>\n",
              "      <td>0</td>\n",
              "      <td>0</td>\n",
              "      <td>0</td>\n",
              "      <td>0</td>\n",
              "      <td>0</td>\n",
              "      <td>0</td>\n",
              "      <td>0</td>\n",
              "      <td>0</td>\n",
              "      <td>0</td>\n",
              "      <td>0</td>\n",
              "      <td>0</td>\n",
              "      <td>0</td>\n",
              "      <td>0</td>\n",
              "      <td>1</td>\n",
              "      <td>0</td>\n",
              "      <td>0</td>\n",
              "      <td>0</td>\n",
              "      <td>0</td>\n",
              "      <td>0</td>\n",
              "      <td>0</td>\n",
              "      <td>0</td>\n",
              "      <td>0</td>\n",
              "      <td>0</td>\n",
              "      <td>0</td>\n",
              "      <td>0</td>\n",
              "      <td>0</td>\n",
              "      <td>0</td>\n",
              "      <td>0</td>\n",
              "      <td>...</td>\n",
              "      <td>0</td>\n",
              "      <td>0</td>\n",
              "      <td>0</td>\n",
              "      <td>0</td>\n",
              "      <td>0</td>\n",
              "      <td>0</td>\n",
              "      <td>0</td>\n",
              "      <td>1</td>\n",
              "      <td>0</td>\n",
              "      <td>0</td>\n",
              "      <td>0</td>\n",
              "      <td>0</td>\n",
              "      <td>0</td>\n",
              "      <td>0</td>\n",
              "      <td>0</td>\n",
              "      <td>0</td>\n",
              "      <td>1</td>\n",
              "      <td>0</td>\n",
              "      <td>0</td>\n",
              "      <td>0</td>\n",
              "      <td>0</td>\n",
              "      <td>0</td>\n",
              "      <td>0</td>\n",
              "      <td>0</td>\n",
              "      <td>0</td>\n",
              "      <td>1</td>\n",
              "      <td>0</td>\n",
              "      <td>2</td>\n",
              "      <td>0</td>\n",
              "      <td>2</td>\n",
              "      <td>0</td>\n",
              "      <td>0</td>\n",
              "      <td>0</td>\n",
              "      <td>0</td>\n",
              "      <td>0</td>\n",
              "      <td>0</td>\n",
              "      <td>0</td>\n",
              "      <td>1</td>\n",
              "      <td>0</td>\n",
              "      <td>0</td>\n",
              "    </tr>\n",
              "  </tbody>\n",
              "</table>\n",
              "<p>5 rows × 1000 columns</p>\n",
              "</div>"
            ],
            "text/plain": [
              "   000  10  100  11  12  14  15  ...  writing  xbox  xp  yahoo  year  years  york\n",
              "0    0   0    0   0   0   0   0  ...        0     0   0      0     0      0     0\n",
              "1    0   2    0   0   1   0   1  ...        0     0   0      0     0      0     0\n",
              "2    2   1    1   0   0   0   0  ...        0     0   0      0     2      0     0\n",
              "3    0   1    0   0   0   0   0  ...        0     0   0      0     0      0     0\n",
              "4    0   0    0   0   0   0   0  ...        0     0   0      0     1      0     0\n",
              "\n",
              "[5 rows x 1000 columns]"
            ]
          },
          "metadata": {
            "tags": []
          },
          "execution_count": 52
        }
      ]
    },
    {
      "cell_type": "code",
      "metadata": {
        "id": "nkYpcg13esCe",
        "colab_type": "code",
        "colab": {}
      },
      "source": [
        "doc_len = [len(doc) for doc in data]"
      ],
      "execution_count": 53,
      "outputs": []
    },
    {
      "cell_type": "markdown",
      "metadata": {
        "id": "Bdb4c1MO3JdT",
        "colab_type": "text"
      },
      "source": [
        "str = '...' literals = a sequence of Unicode characters (UTF-16 or UTF-32, depending on how Python was compiled)\n",
        "\n",
        "bytes = b'...' literals = a sequence of octets (integers between 0 and 255)"
      ]
    },
    {
      "cell_type": "code",
      "metadata": {
        "id": "3zYytOvz1QBg",
        "colab_type": "code",
        "colab": {
          "base_uri": "https://localhost:8080/",
          "height": 34
        },
        "outputId": "6f41b2ae-f5a7-4b01-bf98-b8227c62a20a"
      },
      "source": [
        "type(data[0])"
      ],
      "execution_count": 57,
      "outputs": [
        {
          "output_type": "execute_result",
          "data": {
            "text/plain": [
              "bytes"
            ]
          },
          "metadata": {
            "tags": []
          },
          "execution_count": 57
        }
      ]
    },
    {
      "cell_type": "code",
      "metadata": {
        "id": "7iEx5LHCesCf",
        "colab_type": "code",
        "colab": {
          "base_uri": "https://localhost:8080/",
          "height": 34
        },
        "outputId": "976aabb1-69a4-4d0f-c6c6-613b171da83a"
      },
      "source": [
        "# number of words \n",
        "doc_len[0]"
      ],
      "execution_count": 54,
      "outputs": [
        {
          "output_type": "execute_result",
          "data": {
            "text/plain": [
              "1300"
            ]
          },
          "metadata": {
            "tags": []
          },
          "execution_count": 54
        }
      ]
    },
    {
      "cell_type": "code",
      "metadata": {
        "id": "z_ZL0nNQesCh",
        "colab_type": "code",
        "colab": {
          "base_uri": "https://localhost:8080/",
          "height": 265
        },
        "outputId": "dc845b8c-afb4-442d-bb87-5828811f39d7"
      },
      "source": [
        "import seaborn as sns\n",
        "# y axis is density plot\n",
        "sns.distplot(doc_len);"
      ],
      "execution_count": 58,
      "outputs": [
        {
          "output_type": "display_data",
          "data": {
            "image/png": "[encoded data removed]",
            "text/plain": [
              "<Figure size 432x288 with 1 Axes>"
            ]
          },
          "metadata": {
            "tags": [],
            "needs_background": "light"
          }
        }
      ]
    },
    {
      "cell_type": "markdown",
      "metadata": {
        "id": "ZhsvockTesCj",
        "colab_type": "text"
      },
      "source": [
        "### TfidfVectorizer\n",
        "\n",
        "## Term Frequency - Inverse Document Frequency (TF-IDF)\n",
        "\n",
        "<center><img src=\"https://mungingdata.files.wordpress.com/2017/11/equation.png?w=430&h=336\" width=\"300\"></center>\n",
        "\n",
        "Term Frequency: Percentage of words in document for each word\n",
        "\n",
        "Document Frequency: A penalty for the word existing in a high number of documents.\n",
        "\n",
        "The purpose of TF-IDF is to find what is **unique** to each document. Because of this we will penalize the term frequencies of words that are common across all documents which will allow for each document's most different topics to rise to the top."
      ]
    },
    {
      "cell_type": "code",
      "metadata": {
        "id": "MkH6RZ-5esCj",
        "colab_type": "code",
        "colab": {},
        "outputId": "73df31a0-7e23-4e91-de71-476da2bc37b3"
      },
      "source": [
        "from sklearn.feature_extraction.text import TfidfVectorizer\n",
        "\n",
        "# Instantiate vectorizer object\n",
        "tfidf = TfidfVectorizer(stop_words='english', max_features=5000)\n",
        "\n",
        "# Create a vocabulary and get word counts per document\n",
        "# Similiar to fit_predict\n",
        "dtm = tfidf.fit_transform(data)\n",
        "\n",
        "# Print word counts\n",
        "\n",
        "# Get feature names to use as dataframe column headers\n",
        "dtm = pd.DataFrame(dtm.todense(), columns=tfidf.get_feature_names())\n",
        "\n",
        "# View Feature Matrix as DataFrame\n",
        "dtm.head()"
      ],
      "execution_count": null,
      "outputs": [
        {
          "output_type": "execute_result",
          "data": {
            "text/html": [
              "<div>\n",
              "<style scoped>\n",
              "    .dataframe tbody tr th:only-of-type {\n",
              "        vertical-align: middle;\n",
              "    }\n",
              "\n",
              "    .dataframe tbody tr th {\n",
              "        vertical-align: top;\n",
              "    }\n",
              "\n",
              "    .dataframe thead th {\n",
              "        text-align: right;\n",
              "    }\n",
              "</style>\n",
              "<table border=\"1\" class=\"dataframe\">\n",
              "  <thead>\n",
              "    <tr style=\"text-align: right;\">\n",
              "      <th></th>\n",
              "      <th>000</th>\n",
              "      <th>10</th>\n",
              "      <th>100</th>\n",
              "      <th>101</th>\n",
              "      <th>104</th>\n",
              "      <th>10m</th>\n",
              "      <th>11</th>\n",
              "      <th>12</th>\n",
              "      <th>120</th>\n",
              "      <th>13</th>\n",
              "      <th>...</th>\n",
              "      <th>yoda</th>\n",
              "      <th>yoran</th>\n",
              "      <th>york</th>\n",
              "      <th>young</th>\n",
              "      <th>younger</th>\n",
              "      <th>youngsters</th>\n",
              "      <th>youth</th>\n",
              "      <th>zafi</th>\n",
              "      <th>zen</th>\n",
              "      <th>zombies</th>\n",
              "    </tr>\n",
              "  </thead>\n",
              "  <tbody>\n",
              "    <tr>\n",
              "      <th>0</th>\n",
              "      <td>0.028940</td>\n",
              "      <td>0.066646</td>\n",
              "      <td>0.0</td>\n",
              "      <td>0.0</td>\n",
              "      <td>0.0</td>\n",
              "      <td>0.0</td>\n",
              "      <td>0.000000</td>\n",
              "      <td>0.0</td>\n",
              "      <td>0.0</td>\n",
              "      <td>0.0</td>\n",
              "      <td>...</td>\n",
              "      <td>0.0</td>\n",
              "      <td>0.0</td>\n",
              "      <td>0.05528</td>\n",
              "      <td>0.058505</td>\n",
              "      <td>0.0</td>\n",
              "      <td>0.0</td>\n",
              "      <td>0.0</td>\n",
              "      <td>0.0</td>\n",
              "      <td>0.0</td>\n",
              "      <td>0.0</td>\n",
              "    </tr>\n",
              "    <tr>\n",
              "      <th>1</th>\n",
              "      <td>0.000000</td>\n",
              "      <td>0.000000</td>\n",
              "      <td>0.0</td>\n",
              "      <td>0.0</td>\n",
              "      <td>0.0</td>\n",
              "      <td>0.0</td>\n",
              "      <td>0.077901</td>\n",
              "      <td>0.0</td>\n",
              "      <td>0.0</td>\n",
              "      <td>0.0</td>\n",
              "      <td>...</td>\n",
              "      <td>0.0</td>\n",
              "      <td>0.0</td>\n",
              "      <td>0.00000</td>\n",
              "      <td>0.000000</td>\n",
              "      <td>0.0</td>\n",
              "      <td>0.0</td>\n",
              "      <td>0.0</td>\n",
              "      <td>0.0</td>\n",
              "      <td>0.0</td>\n",
              "      <td>0.0</td>\n",
              "    </tr>\n",
              "    <tr>\n",
              "      <th>2</th>\n",
              "      <td>0.061896</td>\n",
              "      <td>0.000000</td>\n",
              "      <td>0.0</td>\n",
              "      <td>0.0</td>\n",
              "      <td>0.0</td>\n",
              "      <td>0.0</td>\n",
              "      <td>0.000000</td>\n",
              "      <td>0.0</td>\n",
              "      <td>0.0</td>\n",
              "      <td>0.0</td>\n",
              "      <td>...</td>\n",
              "      <td>0.0</td>\n",
              "      <td>0.0</td>\n",
              "      <td>0.00000</td>\n",
              "      <td>0.000000</td>\n",
              "      <td>0.0</td>\n",
              "      <td>0.0</td>\n",
              "      <td>0.0</td>\n",
              "      <td>0.0</td>\n",
              "      <td>0.0</td>\n",
              "      <td>0.0</td>\n",
              "    </tr>\n",
              "    <tr>\n",
              "      <th>3</th>\n",
              "      <td>0.000000</td>\n",
              "      <td>0.000000</td>\n",
              "      <td>0.0</td>\n",
              "      <td>0.0</td>\n",
              "      <td>0.0</td>\n",
              "      <td>0.0</td>\n",
              "      <td>0.000000</td>\n",
              "      <td>0.0</td>\n",
              "      <td>0.0</td>\n",
              "      <td>0.0</td>\n",
              "      <td>...</td>\n",
              "      <td>0.0</td>\n",
              "      <td>0.0</td>\n",
              "      <td>0.00000</td>\n",
              "      <td>0.000000</td>\n",
              "      <td>0.0</td>\n",
              "      <td>0.0</td>\n",
              "      <td>0.0</td>\n",
              "      <td>0.0</td>\n",
              "      <td>0.0</td>\n",
              "      <td>0.0</td>\n",
              "    </tr>\n",
              "    <tr>\n",
              "      <th>4</th>\n",
              "      <td>0.000000</td>\n",
              "      <td>0.000000</td>\n",
              "      <td>0.0</td>\n",
              "      <td>0.0</td>\n",
              "      <td>0.0</td>\n",
              "      <td>0.0</td>\n",
              "      <td>0.000000</td>\n",
              "      <td>0.0</td>\n",
              "      <td>0.0</td>\n",
              "      <td>0.0</td>\n",
              "      <td>...</td>\n",
              "      <td>0.0</td>\n",
              "      <td>0.0</td>\n",
              "      <td>0.00000</td>\n",
              "      <td>0.000000</td>\n",
              "      <td>0.0</td>\n",
              "      <td>0.0</td>\n",
              "      <td>0.0</td>\n",
              "      <td>0.0</td>\n",
              "      <td>0.0</td>\n",
              "      <td>0.0</td>\n",
              "    </tr>\n",
              "  </tbody>\n",
              "</table>\n",
              "<p>5 rows × 5000 columns</p>\n",
              "</div>"
            ],
            "text/plain": [
              "        000        10  100  101  104  10m        11   12  120   13  ...  yoda  \\\n",
              "0  0.028940  0.066646  0.0  0.0  0.0  0.0  0.000000  0.0  0.0  0.0  ...   0.0   \n",
              "1  0.000000  0.000000  0.0  0.0  0.0  0.0  0.077901  0.0  0.0  0.0  ...   0.0   \n",
              "2  0.061896  0.000000  0.0  0.0  0.0  0.0  0.000000  0.0  0.0  0.0  ...   0.0   \n",
              "3  0.000000  0.000000  0.0  0.0  0.0  0.0  0.000000  0.0  0.0  0.0  ...   0.0   \n",
              "4  0.000000  0.000000  0.0  0.0  0.0  0.0  0.000000  0.0  0.0  0.0  ...   0.0   \n",
              "\n",
              "   yoran     york     young  younger  youngsters  youth  zafi  zen  zombies  \n",
              "0    0.0  0.05528  0.058505      0.0         0.0    0.0   0.0  0.0      0.0  \n",
              "1    0.0  0.00000  0.000000      0.0         0.0    0.0   0.0  0.0      0.0  \n",
              "2    0.0  0.00000  0.000000      0.0         0.0    0.0   0.0  0.0      0.0  \n",
              "3    0.0  0.00000  0.000000      0.0         0.0    0.0   0.0  0.0      0.0  \n",
              "4    0.0  0.00000  0.000000      0.0         0.0    0.0   0.0  0.0      0.0  \n",
              "\n",
              "[5 rows x 5000 columns]"
            ]
          },
          "metadata": {
            "tags": []
          },
          "execution_count": 51
        }
      ]
    },
    {
      "cell_type": "code",
      "metadata": {
        "id": "8FjcRljpesCl",
        "colab_type": "code",
        "colab": {}
      },
      "source": [
        "def tokenize(document):\n",
        "    \n",
        "    doc = nlp(document)\n",
        "    \n",
        "    # strip() removes white space from beginning or end of the string\n",
        "    return [token.lemma_.strip() for token in doc if (token.is_stop != True) and (token.is_punct != True)]"
      ],
      "execution_count": 59,
      "outputs": []
    },
    {
      "cell_type": "code",
      "metadata": {
        "id": "z_0NHB-8ARgO",
        "colab_type": "code",
        "colab": {
          "base_uri": "https://localhost:8080/",
          "height": 188
        },
        "outputId": "cb5bfc07-2132-40de-816d-ad3205cc25c2"
      },
      "source": [
        "# decoding byte type to string\n",
        "data[0].decode(\"utf-8\") "
      ],
      "execution_count": 66,
      "outputs": [
        {
          "output_type": "execute_result",
          "data": {
            "application/vnd.google.colaboratory.intrinsic+json": {
              "type": "string"
            },
            "text/plain": [
              "'Security warning over \\'FBI virus\\'\\n\\nThe US Federal Bureau of Investigation is warning that a computer virus is being spread via e-mails that purport to be from the FBI.\\n\\nThe e-mails show that they have come from an fbi.gov address and tell recipients that they have accessed illegal websites. The messages warn that their internet use has been monitored by the FBI\\'s Internet Fraud Complaint Center. An attachment in the e-mail contains the virus, the FBI said. The message asks recipients to click on the attachment and answer some questions about their internet use. But rather than being a questionnaire, the attachment contains a virus that infects the recipient\\'s computer, according to the agency. It is not clear what the virus does once it has infected a computer. Users are warned never to open attachment from unsolicited e-mails or from people they do not know.\\n\\n\"Recipients of this or similar solicitations should know that the FBI does not engage in the practice of sending unsolicited e-mails to the public in this manner,\" the FBI said in a statement. The bureau is investigating the phoney e-mails. The agency earlier this month shut down fbi.gov accounts, used to communicate with the public, because of a security breach. A spokeswoman said the two incidents appear to be unrelated.\\n'"
            ]
          },
          "metadata": {
            "tags": []
          },
          "execution_count": 66
        }
      ]
    },
    {
      "cell_type": "code",
      "metadata": {
        "id": "g7xvxcHsAq8o",
        "colab_type": "code",
        "colab": {
          "base_uri": "https://localhost:8080/",
          "height": 54
        },
        "outputId": "fce0d4e0-0525-48c8-fd38-1f155eb05bdc"
      },
      "source": [
        "data[0]"
      ],
      "execution_count": 67,
      "outputs": [
        {
          "output_type": "execute_result",
          "data": {
            "text/plain": [
              "b'Security warning over \\'FBI virus\\'\\n\\nThe US Federal Bureau of Investigation is warning that a computer virus is being spread via e-mails that purport to be from the FBI.\\n\\nThe e-mails show that they have come from an fbi.gov address and tell recipients that they have accessed illegal websites. The messages warn that their internet use has been monitored by the FBI\\'s Internet Fraud Complaint Center. An attachment in the e-mail contains the virus, the FBI said. The message asks recipients to click on the attachment and answer some questions about their internet use. But rather than being a questionnaire, the attachment contains a virus that infects the recipient\\'s computer, according to the agency. It is not clear what the virus does once it has infected a computer. Users are warned never to open attachment from unsolicited e-mails or from people they do not know.\\n\\n\"Recipients of this or similar solicitations should know that the FBI does not engage in the practice of sending unsolicited e-mails to the public in this manner,\" the FBI said in a statement. The bureau is investigating the phoney e-mails. The agency earlier this month shut down fbi.gov accounts, used to communicate with the public, because of a security breach. A spokeswoman said the two incidents appear to be unrelated.\\n'"
            ]
          },
          "metadata": {
            "tags": []
          },
          "execution_count": 67
        }
      ]
    },
    {
      "cell_type": "markdown",
      "metadata": {
        "id": "K0ivzUwIesCn",
        "colab_type": "text"
      },
      "source": [
        "text data machines\n",
        "\n",
        "\"text data\" \"data machines\" \"text machines\""
      ]
    },
    {
      "cell_type": "code",
      "metadata": {
        "id": "mlGPSqfaesCo",
        "colab_type": "code",
        "colab": {
          "base_uri": "https://localhost:8080/",
          "height": 270
        },
        "outputId": "420e11be-6cb0-4c58-a0ee-d9486157a675"
      },
      "source": [
        "# Tunning Parameters\n",
        "\n",
        "# Instantiate vectorizer object with nlp data pipeline based tokenizer instead of default sklearn tokenizer\n",
        "tfidf = TfidfVectorizer(ngram_range=(1,2),\n",
        "                        max_df=.97,\n",
        "                        min_df=.01,\n",
        "                        tokenizer=tokenize)\n",
        "\n",
        "# Create a vocabulary and get word counts per document\n",
        "dtm = tfidf.fit_transform(data) # Similiar to fit_predict\n",
        "\n",
        "# Print word counts\n",
        "\n",
        "# Get feature names to use as dataframe column headers\n",
        "dtm = pd.DataFrame(dtm.todense(), columns=tfidf.get_feature_names())\n",
        "\n",
        "# View Feature Matrix as DataFrame\n",
        "dtm.head()"
      ],
      "execution_count": 97,
      "outputs": [
        {
          "output_type": "execute_result",
          "data": {
            "text/html": [
              "<div>\n",
              "<style scoped>\n",
              "    .dataframe tbody tr th:only-of-type {\n",
              "        vertical-align: middle;\n",
              "    }\n",
              "\n",
              "    .dataframe tbody tr th {\n",
              "        vertical-align: top;\n",
              "    }\n",
              "\n",
              "    .dataframe thead th {\n",
              "        text-align: right;\n",
              "    }\n",
              "</style>\n",
              "<table border=\"1\" class=\"dataframe\">\n",
              "  <thead>\n",
              "    <tr style=\"text-align: right;\">\n",
              "      <th></th>\n",
              "      <th>10</th>\n",
              "      <th>2004</th>\n",
              "      <th>accord</th>\n",
              "      <th>add</th>\n",
              "      <th>apple</th>\n",
              "      <th>bbc</th>\n",
              "      <th>big</th>\n",
              "      <th>bill</th>\n",
              "      <th>britain</th>\n",
              "      <th>bt</th>\n",
              "      <th>call</th>\n",
              "      <th>clark</th>\n",
              "      <th>company</th>\n",
              "      <th>computer</th>\n",
              "      <th>consumer</th>\n",
              "      <th>currently</th>\n",
              "      <th>despite</th>\n",
              "      <th>digital</th>\n",
              "      <th>early</th>\n",
              "      <th>end</th>\n",
              "      <th>european</th>\n",
              "      <th>fact</th>\n",
              "      <th>fast</th>\n",
              "      <th>figure</th>\n",
              "      <th>film</th>\n",
              "      <th>firm</th>\n",
              "      <th>game</th>\n",
              "      <th>gamer</th>\n",
              "      <th>generation</th>\n",
              "      <th>group</th>\n",
              "      <th>half</th>\n",
              "      <th>high</th>\n",
              "      <th>image</th>\n",
              "      <th>internet</th>\n",
              "      <th>key</th>\n",
              "      <th>late</th>\n",
              "      <th>launch</th>\n",
              "      <th>legal</th>\n",
              "      <th>like</th>\n",
              "      <th>man</th>\n",
              "      <th>...</th>\n",
              "      <th>worried</th>\n",
              "      <th>worry</th>\n",
              "      <th>worth</th>\n",
              "      <th>worthwhile</th>\n",
              "      <th>wow</th>\n",
              "      <th>write</th>\n",
              "      <th>writer</th>\n",
              "      <th>writing</th>\n",
              "      <th>wrong</th>\n",
              "      <th>x</th>\n",
              "      <th>xbox</th>\n",
              "      <th>xbox</th>\n",
              "      <th>xbox 2</th>\n",
              "      <th>xbox games</th>\n",
              "      <th>xbox live</th>\n",
              "      <th>xp</th>\n",
              "      <th>yahoo</th>\n",
              "      <th>year</th>\n",
              "      <th>year</th>\n",
              "      <th>year accord</th>\n",
              "      <th>year ago</th>\n",
              "      <th>year end</th>\n",
              "      <th>year go</th>\n",
              "      <th>year new</th>\n",
              "      <th>year number</th>\n",
              "      <th>year old</th>\n",
              "      <th>year say</th>\n",
              "      <th>year time</th>\n",
              "      <th>yen</th>\n",
              "      <th>yes</th>\n",
              "      <th>york</th>\n",
              "      <th>young</th>\n",
              "      <th>young people</th>\n",
              "      <th>youth</th>\n",
              "      <th>zombie</th>\n",
              "      <th>zone</th>\n",
              "      <th>zoom</th>\n",
              "      <th>£</th>\n",
              "      <th>£ 20</th>\n",
              "      <th>£ 99</th>\n",
              "    </tr>\n",
              "  </thead>\n",
              "  <tbody>\n",
              "    <tr>\n",
              "      <th>0</th>\n",
              "      <td>0.0</td>\n",
              "      <td>0.0</td>\n",
              "      <td>0.0</td>\n",
              "      <td>0.0</td>\n",
              "      <td>0.0</td>\n",
              "      <td>0.0</td>\n",
              "      <td>0.0</td>\n",
              "      <td>0.0</td>\n",
              "      <td>0.0</td>\n",
              "      <td>0.0</td>\n",
              "      <td>0.0</td>\n",
              "      <td>0.0</td>\n",
              "      <td>0.0</td>\n",
              "      <td>0.0</td>\n",
              "      <td>0.0</td>\n",
              "      <td>0.0</td>\n",
              "      <td>0.0</td>\n",
              "      <td>0.0</td>\n",
              "      <td>0.0</td>\n",
              "      <td>0.0</td>\n",
              "      <td>0.0</td>\n",
              "      <td>0.0</td>\n",
              "      <td>0.0</td>\n",
              "      <td>0.0</td>\n",
              "      <td>0.000000</td>\n",
              "      <td>0.0</td>\n",
              "      <td>0.0</td>\n",
              "      <td>0.0</td>\n",
              "      <td>0.0</td>\n",
              "      <td>0.0</td>\n",
              "      <td>0.0</td>\n",
              "      <td>0.0</td>\n",
              "      <td>0.0</td>\n",
              "      <td>0.0</td>\n",
              "      <td>0.0</td>\n",
              "      <td>0.0</td>\n",
              "      <td>0.0</td>\n",
              "      <td>0.0</td>\n",
              "      <td>0.0</td>\n",
              "      <td>0.0</td>\n",
              "      <td>...</td>\n",
              "      <td>0.0</td>\n",
              "      <td>0.0</td>\n",
              "      <td>0.0</td>\n",
              "      <td>0.0</td>\n",
              "      <td>0.0</td>\n",
              "      <td>0.0</td>\n",
              "      <td>0.0</td>\n",
              "      <td>0.0</td>\n",
              "      <td>0.0</td>\n",
              "      <td>0.0</td>\n",
              "      <td>0.0</td>\n",
              "      <td>0.0</td>\n",
              "      <td>0.0</td>\n",
              "      <td>0.0</td>\n",
              "      <td>0.0</td>\n",
              "      <td>0.0</td>\n",
              "      <td>0.0</td>\n",
              "      <td>0.000000</td>\n",
              "      <td>0.0</td>\n",
              "      <td>0.0</td>\n",
              "      <td>0.0</td>\n",
              "      <td>0.0</td>\n",
              "      <td>0.0</td>\n",
              "      <td>0.0</td>\n",
              "      <td>0.0</td>\n",
              "      <td>0.0</td>\n",
              "      <td>0.0</td>\n",
              "      <td>0.0</td>\n",
              "      <td>0.0</td>\n",
              "      <td>0.0</td>\n",
              "      <td>0.0</td>\n",
              "      <td>0.0</td>\n",
              "      <td>0.0</td>\n",
              "      <td>0.0</td>\n",
              "      <td>0.0</td>\n",
              "      <td>0.0</td>\n",
              "      <td>0.0</td>\n",
              "      <td>0.000000</td>\n",
              "      <td>0.0</td>\n",
              "      <td>0.0</td>\n",
              "    </tr>\n",
              "    <tr>\n",
              "      <th>1</th>\n",
              "      <td>0.0</td>\n",
              "      <td>0.0</td>\n",
              "      <td>0.0</td>\n",
              "      <td>0.0</td>\n",
              "      <td>0.0</td>\n",
              "      <td>0.0</td>\n",
              "      <td>0.0</td>\n",
              "      <td>0.0</td>\n",
              "      <td>0.0</td>\n",
              "      <td>0.0</td>\n",
              "      <td>0.0</td>\n",
              "      <td>0.0</td>\n",
              "      <td>0.0</td>\n",
              "      <td>0.0</td>\n",
              "      <td>0.0</td>\n",
              "      <td>0.0</td>\n",
              "      <td>0.0</td>\n",
              "      <td>0.0</td>\n",
              "      <td>0.0</td>\n",
              "      <td>0.0</td>\n",
              "      <td>0.0</td>\n",
              "      <td>0.0</td>\n",
              "      <td>0.0</td>\n",
              "      <td>0.0</td>\n",
              "      <td>0.091882</td>\n",
              "      <td>0.0</td>\n",
              "      <td>0.0</td>\n",
              "      <td>0.0</td>\n",
              "      <td>0.0</td>\n",
              "      <td>0.0</td>\n",
              "      <td>0.0</td>\n",
              "      <td>0.0</td>\n",
              "      <td>0.0</td>\n",
              "      <td>0.0</td>\n",
              "      <td>0.0</td>\n",
              "      <td>0.0</td>\n",
              "      <td>0.0</td>\n",
              "      <td>0.0</td>\n",
              "      <td>0.0</td>\n",
              "      <td>0.0</td>\n",
              "      <td>...</td>\n",
              "      <td>0.0</td>\n",
              "      <td>0.0</td>\n",
              "      <td>0.0</td>\n",
              "      <td>0.0</td>\n",
              "      <td>0.0</td>\n",
              "      <td>0.0</td>\n",
              "      <td>0.0</td>\n",
              "      <td>0.0</td>\n",
              "      <td>0.0</td>\n",
              "      <td>0.0</td>\n",
              "      <td>0.0</td>\n",
              "      <td>0.0</td>\n",
              "      <td>0.0</td>\n",
              "      <td>0.0</td>\n",
              "      <td>0.0</td>\n",
              "      <td>0.0</td>\n",
              "      <td>0.0</td>\n",
              "      <td>0.000000</td>\n",
              "      <td>0.0</td>\n",
              "      <td>0.0</td>\n",
              "      <td>0.0</td>\n",
              "      <td>0.0</td>\n",
              "      <td>0.0</td>\n",
              "      <td>0.0</td>\n",
              "      <td>0.0</td>\n",
              "      <td>0.0</td>\n",
              "      <td>0.0</td>\n",
              "      <td>0.0</td>\n",
              "      <td>0.0</td>\n",
              "      <td>0.0</td>\n",
              "      <td>0.0</td>\n",
              "      <td>0.0</td>\n",
              "      <td>0.0</td>\n",
              "      <td>0.0</td>\n",
              "      <td>0.0</td>\n",
              "      <td>0.0</td>\n",
              "      <td>0.0</td>\n",
              "      <td>0.132738</td>\n",
              "      <td>0.0</td>\n",
              "      <td>0.0</td>\n",
              "    </tr>\n",
              "    <tr>\n",
              "      <th>2</th>\n",
              "      <td>0.0</td>\n",
              "      <td>0.0</td>\n",
              "      <td>0.0</td>\n",
              "      <td>0.0</td>\n",
              "      <td>0.0</td>\n",
              "      <td>0.0</td>\n",
              "      <td>0.0</td>\n",
              "      <td>0.0</td>\n",
              "      <td>0.0</td>\n",
              "      <td>0.0</td>\n",
              "      <td>0.0</td>\n",
              "      <td>0.0</td>\n",
              "      <td>0.0</td>\n",
              "      <td>0.0</td>\n",
              "      <td>0.0</td>\n",
              "      <td>0.0</td>\n",
              "      <td>0.0</td>\n",
              "      <td>0.0</td>\n",
              "      <td>0.0</td>\n",
              "      <td>0.0</td>\n",
              "      <td>0.0</td>\n",
              "      <td>0.0</td>\n",
              "      <td>0.0</td>\n",
              "      <td>0.0</td>\n",
              "      <td>0.000000</td>\n",
              "      <td>0.0</td>\n",
              "      <td>0.0</td>\n",
              "      <td>0.0</td>\n",
              "      <td>0.0</td>\n",
              "      <td>0.0</td>\n",
              "      <td>0.0</td>\n",
              "      <td>0.0</td>\n",
              "      <td>0.0</td>\n",
              "      <td>0.0</td>\n",
              "      <td>0.0</td>\n",
              "      <td>0.0</td>\n",
              "      <td>0.0</td>\n",
              "      <td>0.0</td>\n",
              "      <td>0.0</td>\n",
              "      <td>0.0</td>\n",
              "      <td>...</td>\n",
              "      <td>0.0</td>\n",
              "      <td>0.0</td>\n",
              "      <td>0.0</td>\n",
              "      <td>0.0</td>\n",
              "      <td>0.0</td>\n",
              "      <td>0.0</td>\n",
              "      <td>0.0</td>\n",
              "      <td>0.0</td>\n",
              "      <td>0.0</td>\n",
              "      <td>0.0</td>\n",
              "      <td>0.0</td>\n",
              "      <td>0.0</td>\n",
              "      <td>0.0</td>\n",
              "      <td>0.0</td>\n",
              "      <td>0.0</td>\n",
              "      <td>0.0</td>\n",
              "      <td>0.0</td>\n",
              "      <td>0.031451</td>\n",
              "      <td>0.0</td>\n",
              "      <td>0.0</td>\n",
              "      <td>0.0</td>\n",
              "      <td>0.0</td>\n",
              "      <td>0.0</td>\n",
              "      <td>0.0</td>\n",
              "      <td>0.0</td>\n",
              "      <td>0.0</td>\n",
              "      <td>0.0</td>\n",
              "      <td>0.0</td>\n",
              "      <td>0.0</td>\n",
              "      <td>0.0</td>\n",
              "      <td>0.0</td>\n",
              "      <td>0.0</td>\n",
              "      <td>0.0</td>\n",
              "      <td>0.0</td>\n",
              "      <td>0.0</td>\n",
              "      <td>0.0</td>\n",
              "      <td>0.0</td>\n",
              "      <td>0.000000</td>\n",
              "      <td>0.0</td>\n",
              "      <td>0.0</td>\n",
              "    </tr>\n",
              "    <tr>\n",
              "      <th>3</th>\n",
              "      <td>0.0</td>\n",
              "      <td>0.0</td>\n",
              "      <td>0.0</td>\n",
              "      <td>0.0</td>\n",
              "      <td>0.0</td>\n",
              "      <td>0.0</td>\n",
              "      <td>0.0</td>\n",
              "      <td>0.0</td>\n",
              "      <td>0.0</td>\n",
              "      <td>0.0</td>\n",
              "      <td>0.0</td>\n",
              "      <td>0.0</td>\n",
              "      <td>0.0</td>\n",
              "      <td>0.0</td>\n",
              "      <td>0.0</td>\n",
              "      <td>0.0</td>\n",
              "      <td>0.0</td>\n",
              "      <td>0.0</td>\n",
              "      <td>0.0</td>\n",
              "      <td>0.0</td>\n",
              "      <td>0.0</td>\n",
              "      <td>0.0</td>\n",
              "      <td>0.0</td>\n",
              "      <td>0.0</td>\n",
              "      <td>0.000000</td>\n",
              "      <td>0.0</td>\n",
              "      <td>0.0</td>\n",
              "      <td>0.0</td>\n",
              "      <td>0.0</td>\n",
              "      <td>0.0</td>\n",
              "      <td>0.0</td>\n",
              "      <td>0.0</td>\n",
              "      <td>0.0</td>\n",
              "      <td>0.0</td>\n",
              "      <td>0.0</td>\n",
              "      <td>0.0</td>\n",
              "      <td>0.0</td>\n",
              "      <td>0.0</td>\n",
              "      <td>0.0</td>\n",
              "      <td>0.0</td>\n",
              "      <td>...</td>\n",
              "      <td>0.0</td>\n",
              "      <td>0.0</td>\n",
              "      <td>0.0</td>\n",
              "      <td>0.0</td>\n",
              "      <td>0.0</td>\n",
              "      <td>0.0</td>\n",
              "      <td>0.0</td>\n",
              "      <td>0.0</td>\n",
              "      <td>0.0</td>\n",
              "      <td>0.0</td>\n",
              "      <td>0.0</td>\n",
              "      <td>0.0</td>\n",
              "      <td>0.0</td>\n",
              "      <td>0.0</td>\n",
              "      <td>0.0</td>\n",
              "      <td>0.0</td>\n",
              "      <td>0.0</td>\n",
              "      <td>0.000000</td>\n",
              "      <td>0.0</td>\n",
              "      <td>0.0</td>\n",
              "      <td>0.0</td>\n",
              "      <td>0.0</td>\n",
              "      <td>0.0</td>\n",
              "      <td>0.0</td>\n",
              "      <td>0.0</td>\n",
              "      <td>0.0</td>\n",
              "      <td>0.0</td>\n",
              "      <td>0.0</td>\n",
              "      <td>0.0</td>\n",
              "      <td>0.0</td>\n",
              "      <td>0.0</td>\n",
              "      <td>0.0</td>\n",
              "      <td>0.0</td>\n",
              "      <td>0.0</td>\n",
              "      <td>0.0</td>\n",
              "      <td>0.0</td>\n",
              "      <td>0.0</td>\n",
              "      <td>0.000000</td>\n",
              "      <td>0.0</td>\n",
              "      <td>0.0</td>\n",
              "    </tr>\n",
              "    <tr>\n",
              "      <th>4</th>\n",
              "      <td>0.0</td>\n",
              "      <td>0.0</td>\n",
              "      <td>0.0</td>\n",
              "      <td>0.0</td>\n",
              "      <td>0.0</td>\n",
              "      <td>0.0</td>\n",
              "      <td>0.0</td>\n",
              "      <td>0.0</td>\n",
              "      <td>0.0</td>\n",
              "      <td>0.0</td>\n",
              "      <td>0.0</td>\n",
              "      <td>0.0</td>\n",
              "      <td>0.0</td>\n",
              "      <td>0.0</td>\n",
              "      <td>0.0</td>\n",
              "      <td>0.0</td>\n",
              "      <td>0.0</td>\n",
              "      <td>0.0</td>\n",
              "      <td>0.0</td>\n",
              "      <td>0.0</td>\n",
              "      <td>0.0</td>\n",
              "      <td>0.0</td>\n",
              "      <td>0.0</td>\n",
              "      <td>0.0</td>\n",
              "      <td>0.000000</td>\n",
              "      <td>0.0</td>\n",
              "      <td>0.0</td>\n",
              "      <td>0.0</td>\n",
              "      <td>0.0</td>\n",
              "      <td>0.0</td>\n",
              "      <td>0.0</td>\n",
              "      <td>0.0</td>\n",
              "      <td>0.0</td>\n",
              "      <td>0.0</td>\n",
              "      <td>0.0</td>\n",
              "      <td>0.0</td>\n",
              "      <td>0.0</td>\n",
              "      <td>0.0</td>\n",
              "      <td>0.0</td>\n",
              "      <td>0.0</td>\n",
              "      <td>...</td>\n",
              "      <td>0.0</td>\n",
              "      <td>0.0</td>\n",
              "      <td>0.0</td>\n",
              "      <td>0.0</td>\n",
              "      <td>0.0</td>\n",
              "      <td>0.0</td>\n",
              "      <td>0.0</td>\n",
              "      <td>0.0</td>\n",
              "      <td>0.0</td>\n",
              "      <td>0.0</td>\n",
              "      <td>0.0</td>\n",
              "      <td>0.0</td>\n",
              "      <td>0.0</td>\n",
              "      <td>0.0</td>\n",
              "      <td>0.0</td>\n",
              "      <td>0.0</td>\n",
              "      <td>0.0</td>\n",
              "      <td>0.025700</td>\n",
              "      <td>0.0</td>\n",
              "      <td>0.0</td>\n",
              "      <td>0.0</td>\n",
              "      <td>0.0</td>\n",
              "      <td>0.0</td>\n",
              "      <td>0.0</td>\n",
              "      <td>0.0</td>\n",
              "      <td>0.0</td>\n",
              "      <td>0.0</td>\n",
              "      <td>0.0</td>\n",
              "      <td>0.0</td>\n",
              "      <td>0.0</td>\n",
              "      <td>0.0</td>\n",
              "      <td>0.0</td>\n",
              "      <td>0.0</td>\n",
              "      <td>0.0</td>\n",
              "      <td>0.0</td>\n",
              "      <td>0.0</td>\n",
              "      <td>0.0</td>\n",
              "      <td>0.000000</td>\n",
              "      <td>0.0</td>\n",
              "      <td>0.0</td>\n",
              "    </tr>\n",
              "  </tbody>\n",
              "</table>\n",
              "<p>5 rows × 3823 columns</p>\n",
              "</div>"
            ],
            "text/plain": [
              "    10   2004   accord   add   apple  ...  zone  zoom         £  £ 20  £ 99\n",
              "0  0.0    0.0      0.0   0.0     0.0  ...   0.0   0.0  0.000000   0.0   0.0\n",
              "1  0.0    0.0      0.0   0.0     0.0  ...   0.0   0.0  0.132738   0.0   0.0\n",
              "2  0.0    0.0      0.0   0.0     0.0  ...   0.0   0.0  0.000000   0.0   0.0\n",
              "3  0.0    0.0      0.0   0.0     0.0  ...   0.0   0.0  0.000000   0.0   0.0\n",
              "4  0.0    0.0      0.0   0.0     0.0  ...   0.0   0.0  0.000000   0.0   0.0\n",
              "\n",
              "[5 rows x 3823 columns]"
            ]
          },
          "metadata": {
            "tags": []
          },
          "execution_count": 97
        }
      ]
    },
    {
      "cell_type": "markdown",
      "metadata": {
        "id": "ZZwzLMeFesCq",
        "colab_type": "text"
      },
      "source": [
        "## Challenge\n",
        "\n",
        "During this module's project assignment, you will transform data science job listings to vector representations for analysis downstream. "
      ]
    },
    {
      "cell_type": "code",
      "metadata": {
        "id": "UdOdmYSnesCq",
        "colab_type": "code",
        "colab": {
          "base_uri": "https://localhost:8080/",
          "height": 867
        },
        "outputId": "689e10d6-be79-4405-83c1-9925ea89f890"
      },
      "source": [
        "# list dataframe column names\n",
        "# some of them are bigram\n",
        "list(dtm)[300:350]"
      ],
      "execution_count": 98,
      "outputs": [
        {
          "output_type": "execute_result",
          "data": {
            "text/plain": [
              "['alliance',\n",
              " 'allow',\n",
              " 'allow people',\n",
              " 'allow user',\n",
              " 'alongside',\n",
              " 'alter',\n",
              " 'alternative',\n",
              " 'amazing',\n",
              " 'amazon',\n",
              " 'amazon.com',\n",
              " 'amazon.com hold',\n",
              " 'ambitious',\n",
              " 'america',\n",
              " 'american',\n",
              " 'american life',\n",
              " 'americans',\n",
              " 'amount',\n",
              " 'amount datum',\n",
              " 'analogue',\n",
              " 'analyse',\n",
              " 'analysis',\n",
              " 'analysis firm',\n",
              " 'analyst',\n",
              " 'analyst bill',\n",
              " 'analyst gartner',\n",
              " 'analyst jupiter',\n",
              " 'andreas',\n",
              " 'andrew',\n",
              " 'angeles',\n",
              " 'angle',\n",
              " 'announce',\n",
              " 'announcement',\n",
              " 'annual',\n",
              " 'anomaly',\n",
              " 'anonymous',\n",
              " 'answer',\n",
              " 'answer question',\n",
              " 'anti',\n",
              " 'anti piracy',\n",
              " 'anti spam',\n",
              " 'anti spyware',\n",
              " 'anti virus',\n",
              " 'anticipate',\n",
              " 'aol',\n",
              " 'apart',\n",
              " 'appeal',\n",
              " 'appeal people',\n",
              " 'appear',\n",
              " 'appearance',\n",
              " 'apple']"
            ]
          },
          "metadata": {
            "tags": []
          },
          "execution_count": 98
        }
      ]
    },
    {
      "cell_type": "markdown",
      "metadata": {
        "id": "Pz3iK2FKesCs",
        "colab_type": "text"
      },
      "source": [
        "# Query Documents by Similarity (Learn)\n",
        "<a id=\"p2\"></a>"
      ]
    },
    {
      "cell_type": "markdown",
      "metadata": {
        "id": "K8ga_sgTesCs",
        "colab_type": "text"
      },
      "source": [
        "## Overview\n",
        "\n",
        "Have you ever considered how a search bar works? You may just think that search bars simply match your input text againist the documents. While there are many different mechanisms for the 'match', one of the most classic is to search by similarity. We will apply n-dimensional distance to measure similarity, and query for input and output. "
      ]
    },
    {
      "cell_type": "markdown",
      "metadata": {
        "toc-hr-collapsed": true,
        "id": "9veuDLn-esCt",
        "colab_type": "text"
      },
      "source": [
        "## Follow Along"
      ]
    },
    {
      "cell_type": "markdown",
      "metadata": {
        "id": "xECY11JPesCt",
        "colab_type": "text"
      },
      "source": [
        "### Cosine Similarity (Brute Force)\n",
        "Cosine similarity is the cosine of the angle between two n-dimensional vectors in an n-dimensional space. It is the dot product of the two vectors divided by the product of the two vectors' lengths"
      ]
    },
    {
      "cell_type": "code",
      "metadata": {
        "id": "FJld0AGzesCt",
        "colab_type": "code",
        "colab": {
          "base_uri": "https://localhost:8080/",
          "height": 34
        },
        "outputId": "c3c40758-68a9-46dd-857f-eac64ffd9edc"
      },
      "source": [
        "dtm.shape"
      ],
      "execution_count": 78,
      "outputs": [
        {
          "output_type": "execute_result",
          "data": {
            "text/plain": [
              "(401, 3823)"
            ]
          },
          "metadata": {
            "tags": []
          },
          "execution_count": 78
        }
      ]
    },
    {
      "cell_type": "code",
      "metadata": {
        "id": "px9r1bSUesCv",
        "colab_type": "code",
        "colab": {}
      },
      "source": [
        "# Calculate alignment of equivalent TF-IDF Vectors of different rows to find the ones similar to eachother\n",
        "from sklearn.metrics.pairwise import cosine_similarity\n",
        "\n",
        "dist_matrix  = cosine_similarity(dtm)"
      ],
      "execution_count": 99,
      "outputs": []
    },
    {
      "cell_type": "code",
      "metadata": {
        "id": "fbdHn06OesCx",
        "colab_type": "code",
        "colab": {}
      },
      "source": [
        "# Turn it into a DataFrame\n",
        "\n",
        "df = pd.DataFrame(dist_matrix)"
      ],
      "execution_count": 100,
      "outputs": []
    },
    {
      "cell_type": "code",
      "metadata": {
        "id": "1s82UMjuesCz",
        "colab_type": "code",
        "colab": {
          "base_uri": "https://localhost:8080/",
          "height": 34
        },
        "outputId": "6a82898a-408b-475e-8141-6cbea43dec67"
      },
      "source": [
        "# Our Similarity Matrix size between different articles\n",
        "df.shape"
      ],
      "execution_count": 101,
      "outputs": [
        {
          "output_type": "execute_result",
          "data": {
            "text/plain": [
              "(401, 401)"
            ]
          },
          "metadata": {
            "tags": []
          },
          "execution_count": 101
        }
      ]
    },
    {
      "cell_type": "code",
      "metadata": {
        "id": "OxnlAuyjJQqG",
        "colab_type": "code",
        "colab": {
          "base_uri": "https://localhost:8080/",
          "height": 253
        },
        "outputId": "84398f4b-ca8f-4782-f0ff-de5393b4d7b8"
      },
      "source": [
        "df.head()"
      ],
      "execution_count": 102,
      "outputs": [
        {
          "output_type": "execute_result",
          "data": {
            "text/html": [
              "<div>\n",
              "<style scoped>\n",
              "    .dataframe tbody tr th:only-of-type {\n",
              "        vertical-align: middle;\n",
              "    }\n",
              "\n",
              "    .dataframe tbody tr th {\n",
              "        vertical-align: top;\n",
              "    }\n",
              "\n",
              "    .dataframe thead th {\n",
              "        text-align: right;\n",
              "    }\n",
              "</style>\n",
              "<table border=\"1\" class=\"dataframe\">\n",
              "  <thead>\n",
              "    <tr style=\"text-align: right;\">\n",
              "      <th></th>\n",
              "      <th>0</th>\n",
              "      <th>1</th>\n",
              "      <th>2</th>\n",
              "      <th>3</th>\n",
              "      <th>4</th>\n",
              "      <th>5</th>\n",
              "      <th>6</th>\n",
              "      <th>7</th>\n",
              "      <th>8</th>\n",
              "      <th>9</th>\n",
              "      <th>10</th>\n",
              "      <th>11</th>\n",
              "      <th>12</th>\n",
              "      <th>13</th>\n",
              "      <th>14</th>\n",
              "      <th>15</th>\n",
              "      <th>16</th>\n",
              "      <th>17</th>\n",
              "      <th>18</th>\n",
              "      <th>19</th>\n",
              "      <th>20</th>\n",
              "      <th>21</th>\n",
              "      <th>22</th>\n",
              "      <th>23</th>\n",
              "      <th>24</th>\n",
              "      <th>25</th>\n",
              "      <th>26</th>\n",
              "      <th>27</th>\n",
              "      <th>28</th>\n",
              "      <th>29</th>\n",
              "      <th>30</th>\n",
              "      <th>31</th>\n",
              "      <th>32</th>\n",
              "      <th>33</th>\n",
              "      <th>34</th>\n",
              "      <th>35</th>\n",
              "      <th>36</th>\n",
              "      <th>37</th>\n",
              "      <th>38</th>\n",
              "      <th>39</th>\n",
              "      <th>...</th>\n",
              "      <th>361</th>\n",
              "      <th>362</th>\n",
              "      <th>363</th>\n",
              "      <th>364</th>\n",
              "      <th>365</th>\n",
              "      <th>366</th>\n",
              "      <th>367</th>\n",
              "      <th>368</th>\n",
              "      <th>369</th>\n",
              "      <th>370</th>\n",
              "      <th>371</th>\n",
              "      <th>372</th>\n",
              "      <th>373</th>\n",
              "      <th>374</th>\n",
              "      <th>375</th>\n",
              "      <th>376</th>\n",
              "      <th>377</th>\n",
              "      <th>378</th>\n",
              "      <th>379</th>\n",
              "      <th>380</th>\n",
              "      <th>381</th>\n",
              "      <th>382</th>\n",
              "      <th>383</th>\n",
              "      <th>384</th>\n",
              "      <th>385</th>\n",
              "      <th>386</th>\n",
              "      <th>387</th>\n",
              "      <th>388</th>\n",
              "      <th>389</th>\n",
              "      <th>390</th>\n",
              "      <th>391</th>\n",
              "      <th>392</th>\n",
              "      <th>393</th>\n",
              "      <th>394</th>\n",
              "      <th>395</th>\n",
              "      <th>396</th>\n",
              "      <th>397</th>\n",
              "      <th>398</th>\n",
              "      <th>399</th>\n",
              "      <th>400</th>\n",
              "    </tr>\n",
              "  </thead>\n",
              "  <tbody>\n",
              "    <tr>\n",
              "      <th>0</th>\n",
              "      <td>1.000000</td>\n",
              "      <td>0.007983</td>\n",
              "      <td>0.173512</td>\n",
              "      <td>0.008303</td>\n",
              "      <td>0.014658</td>\n",
              "      <td>0.031357</td>\n",
              "      <td>0.014410</td>\n",
              "      <td>0.031357</td>\n",
              "      <td>0.014783</td>\n",
              "      <td>0.016000</td>\n",
              "      <td>0.049697</td>\n",
              "      <td>0.043407</td>\n",
              "      <td>0.030473</td>\n",
              "      <td>0.148614</td>\n",
              "      <td>0.023735</td>\n",
              "      <td>0.005388</td>\n",
              "      <td>0.023340</td>\n",
              "      <td>0.031865</td>\n",
              "      <td>0.031975</td>\n",
              "      <td>0.043191</td>\n",
              "      <td>0.030613</td>\n",
              "      <td>0.019523</td>\n",
              "      <td>0.043841</td>\n",
              "      <td>0.040002</td>\n",
              "      <td>0.003788</td>\n",
              "      <td>0.092328</td>\n",
              "      <td>0.096815</td>\n",
              "      <td>0.007610</td>\n",
              "      <td>0.186476</td>\n",
              "      <td>0.010411</td>\n",
              "      <td>0.033295</td>\n",
              "      <td>0.023892</td>\n",
              "      <td>0.006377</td>\n",
              "      <td>0.017275</td>\n",
              "      <td>0.003724</td>\n",
              "      <td>0.040325</td>\n",
              "      <td>0.020990</td>\n",
              "      <td>0.022608</td>\n",
              "      <td>0.064564</td>\n",
              "      <td>0.012493</td>\n",
              "      <td>...</td>\n",
              "      <td>0.014866</td>\n",
              "      <td>0.039327</td>\n",
              "      <td>0.027663</td>\n",
              "      <td>0.019461</td>\n",
              "      <td>0.056628</td>\n",
              "      <td>0.027618</td>\n",
              "      <td>0.022105</td>\n",
              "      <td>0.234520</td>\n",
              "      <td>0.031933</td>\n",
              "      <td>0.036329</td>\n",
              "      <td>0.035778</td>\n",
              "      <td>0.210616</td>\n",
              "      <td>0.018955</td>\n",
              "      <td>0.044851</td>\n",
              "      <td>0.014467</td>\n",
              "      <td>0.014981</td>\n",
              "      <td>0.077240</td>\n",
              "      <td>0.009540</td>\n",
              "      <td>0.062648</td>\n",
              "      <td>0.034034</td>\n",
              "      <td>0.016340</td>\n",
              "      <td>0.007864</td>\n",
              "      <td>0.023758</td>\n",
              "      <td>0.008828</td>\n",
              "      <td>0.016233</td>\n",
              "      <td>0.013513</td>\n",
              "      <td>0.036153</td>\n",
              "      <td>0.109456</td>\n",
              "      <td>0.027396</td>\n",
              "      <td>0.039327</td>\n",
              "      <td>0.043911</td>\n",
              "      <td>0.023754</td>\n",
              "      <td>0.346771</td>\n",
              "      <td>0.042760</td>\n",
              "      <td>0.042297</td>\n",
              "      <td>0.031292</td>\n",
              "      <td>0.105798</td>\n",
              "      <td>0.041452</td>\n",
              "      <td>0.096806</td>\n",
              "      <td>0.017374</td>\n",
              "    </tr>\n",
              "    <tr>\n",
              "      <th>1</th>\n",
              "      <td>0.007983</td>\n",
              "      <td>1.000000</td>\n",
              "      <td>0.019687</td>\n",
              "      <td>0.032705</td>\n",
              "      <td>0.026539</td>\n",
              "      <td>0.007660</td>\n",
              "      <td>0.012039</td>\n",
              "      <td>0.007660</td>\n",
              "      <td>0.080080</td>\n",
              "      <td>0.087536</td>\n",
              "      <td>0.045198</td>\n",
              "      <td>0.028319</td>\n",
              "      <td>0.030338</td>\n",
              "      <td>0.029138</td>\n",
              "      <td>0.174444</td>\n",
              "      <td>0.070909</td>\n",
              "      <td>0.044126</td>\n",
              "      <td>0.030298</td>\n",
              "      <td>0.081250</td>\n",
              "      <td>0.041224</td>\n",
              "      <td>0.038735</td>\n",
              "      <td>0.058860</td>\n",
              "      <td>0.045716</td>\n",
              "      <td>0.009669</td>\n",
              "      <td>0.119626</td>\n",
              "      <td>0.018138</td>\n",
              "      <td>0.054261</td>\n",
              "      <td>0.072040</td>\n",
              "      <td>0.027251</td>\n",
              "      <td>0.055767</td>\n",
              "      <td>0.049333</td>\n",
              "      <td>0.025371</td>\n",
              "      <td>0.131575</td>\n",
              "      <td>0.058266</td>\n",
              "      <td>0.084497</td>\n",
              "      <td>0.017349</td>\n",
              "      <td>0.056626</td>\n",
              "      <td>0.041286</td>\n",
              "      <td>0.016267</td>\n",
              "      <td>0.132756</td>\n",
              "      <td>...</td>\n",
              "      <td>0.051979</td>\n",
              "      <td>0.033547</td>\n",
              "      <td>0.011530</td>\n",
              "      <td>0.069564</td>\n",
              "      <td>0.060272</td>\n",
              "      <td>0.023020</td>\n",
              "      <td>0.033833</td>\n",
              "      <td>0.030496</td>\n",
              "      <td>0.059768</td>\n",
              "      <td>0.021936</td>\n",
              "      <td>0.082468</td>\n",
              "      <td>0.015538</td>\n",
              "      <td>0.065636</td>\n",
              "      <td>0.045783</td>\n",
              "      <td>0.026637</td>\n",
              "      <td>0.047479</td>\n",
              "      <td>0.049405</td>\n",
              "      <td>0.044733</td>\n",
              "      <td>0.043300</td>\n",
              "      <td>0.013952</td>\n",
              "      <td>0.143509</td>\n",
              "      <td>0.025961</td>\n",
              "      <td>0.022701</td>\n",
              "      <td>0.060823</td>\n",
              "      <td>0.039861</td>\n",
              "      <td>0.036459</td>\n",
              "      <td>0.059480</td>\n",
              "      <td>0.031329</td>\n",
              "      <td>0.072385</td>\n",
              "      <td>0.033547</td>\n",
              "      <td>0.048483</td>\n",
              "      <td>0.020009</td>\n",
              "      <td>0.031649</td>\n",
              "      <td>0.084292</td>\n",
              "      <td>0.011366</td>\n",
              "      <td>0.042601</td>\n",
              "      <td>0.038556</td>\n",
              "      <td>0.018657</td>\n",
              "      <td>0.025061</td>\n",
              "      <td>0.023293</td>\n",
              "    </tr>\n",
              "    <tr>\n",
              "      <th>2</th>\n",
              "      <td>0.173512</td>\n",
              "      <td>0.019687</td>\n",
              "      <td>1.000000</td>\n",
              "      <td>0.026978</td>\n",
              "      <td>0.103694</td>\n",
              "      <td>0.040642</td>\n",
              "      <td>0.027159</td>\n",
              "      <td>0.040642</td>\n",
              "      <td>0.078788</td>\n",
              "      <td>0.068835</td>\n",
              "      <td>0.090774</td>\n",
              "      <td>0.066398</td>\n",
              "      <td>0.042604</td>\n",
              "      <td>0.264061</td>\n",
              "      <td>0.052097</td>\n",
              "      <td>0.022854</td>\n",
              "      <td>0.035763</td>\n",
              "      <td>0.100152</td>\n",
              "      <td>0.059767</td>\n",
              "      <td>0.053776</td>\n",
              "      <td>0.074056</td>\n",
              "      <td>0.065418</td>\n",
              "      <td>0.072250</td>\n",
              "      <td>0.091183</td>\n",
              "      <td>0.030739</td>\n",
              "      <td>0.067601</td>\n",
              "      <td>0.131622</td>\n",
              "      <td>0.023147</td>\n",
              "      <td>0.044047</td>\n",
              "      <td>0.058901</td>\n",
              "      <td>0.076487</td>\n",
              "      <td>0.078168</td>\n",
              "      <td>0.045343</td>\n",
              "      <td>0.114725</td>\n",
              "      <td>0.028697</td>\n",
              "      <td>0.054346</td>\n",
              "      <td>0.071264</td>\n",
              "      <td>0.070136</td>\n",
              "      <td>0.112465</td>\n",
              "      <td>0.053839</td>\n",
              "      <td>...</td>\n",
              "      <td>0.108973</td>\n",
              "      <td>0.081411</td>\n",
              "      <td>0.065407</td>\n",
              "      <td>0.070206</td>\n",
              "      <td>0.128968</td>\n",
              "      <td>0.071203</td>\n",
              "      <td>0.050151</td>\n",
              "      <td>0.152503</td>\n",
              "      <td>0.077407</td>\n",
              "      <td>0.097544</td>\n",
              "      <td>0.105406</td>\n",
              "      <td>0.177114</td>\n",
              "      <td>0.092531</td>\n",
              "      <td>0.140166</td>\n",
              "      <td>0.080632</td>\n",
              "      <td>0.096911</td>\n",
              "      <td>0.040250</td>\n",
              "      <td>0.043999</td>\n",
              "      <td>0.123470</td>\n",
              "      <td>0.077355</td>\n",
              "      <td>0.057939</td>\n",
              "      <td>0.091874</td>\n",
              "      <td>0.107757</td>\n",
              "      <td>0.043959</td>\n",
              "      <td>0.100169</td>\n",
              "      <td>0.069790</td>\n",
              "      <td>0.081199</td>\n",
              "      <td>0.125117</td>\n",
              "      <td>0.069108</td>\n",
              "      <td>0.081411</td>\n",
              "      <td>0.112906</td>\n",
              "      <td>0.046731</td>\n",
              "      <td>0.167223</td>\n",
              "      <td>0.072727</td>\n",
              "      <td>0.053087</td>\n",
              "      <td>0.172404</td>\n",
              "      <td>0.245653</td>\n",
              "      <td>0.137081</td>\n",
              "      <td>0.074730</td>\n",
              "      <td>0.098713</td>\n",
              "    </tr>\n",
              "    <tr>\n",
              "      <th>3</th>\n",
              "      <td>0.008303</td>\n",
              "      <td>0.032705</td>\n",
              "      <td>0.026978</td>\n",
              "      <td>1.000000</td>\n",
              "      <td>0.132964</td>\n",
              "      <td>0.022498</td>\n",
              "      <td>0.022727</td>\n",
              "      <td>0.022498</td>\n",
              "      <td>0.046600</td>\n",
              "      <td>0.039550</td>\n",
              "      <td>0.044200</td>\n",
              "      <td>0.037144</td>\n",
              "      <td>0.023134</td>\n",
              "      <td>0.016503</td>\n",
              "      <td>0.016529</td>\n",
              "      <td>0.020721</td>\n",
              "      <td>0.048534</td>\n",
              "      <td>0.034637</td>\n",
              "      <td>0.041164</td>\n",
              "      <td>0.038978</td>\n",
              "      <td>0.033302</td>\n",
              "      <td>0.068467</td>\n",
              "      <td>0.066472</td>\n",
              "      <td>0.036108</td>\n",
              "      <td>0.033178</td>\n",
              "      <td>0.023850</td>\n",
              "      <td>0.050222</td>\n",
              "      <td>0.028843</td>\n",
              "      <td>0.032025</td>\n",
              "      <td>0.280015</td>\n",
              "      <td>0.020904</td>\n",
              "      <td>0.024904</td>\n",
              "      <td>0.046674</td>\n",
              "      <td>0.029044</td>\n",
              "      <td>0.413554</td>\n",
              "      <td>0.026776</td>\n",
              "      <td>0.019523</td>\n",
              "      <td>0.152631</td>\n",
              "      <td>0.058326</td>\n",
              "      <td>0.053882</td>\n",
              "      <td>...</td>\n",
              "      <td>0.048432</td>\n",
              "      <td>0.027855</td>\n",
              "      <td>0.010185</td>\n",
              "      <td>0.024081</td>\n",
              "      <td>0.026362</td>\n",
              "      <td>0.026163</td>\n",
              "      <td>0.064072</td>\n",
              "      <td>0.034133</td>\n",
              "      <td>0.066841</td>\n",
              "      <td>0.032754</td>\n",
              "      <td>0.079621</td>\n",
              "      <td>0.019225</td>\n",
              "      <td>0.058714</td>\n",
              "      <td>0.090335</td>\n",
              "      <td>0.022342</td>\n",
              "      <td>0.053787</td>\n",
              "      <td>0.016555</td>\n",
              "      <td>0.089508</td>\n",
              "      <td>0.044669</td>\n",
              "      <td>0.037388</td>\n",
              "      <td>0.057164</td>\n",
              "      <td>0.016711</td>\n",
              "      <td>0.043067</td>\n",
              "      <td>0.024373</td>\n",
              "      <td>0.278724</td>\n",
              "      <td>0.141192</td>\n",
              "      <td>0.197374</td>\n",
              "      <td>0.054097</td>\n",
              "      <td>0.092043</td>\n",
              "      <td>0.027855</td>\n",
              "      <td>0.059859</td>\n",
              "      <td>0.013478</td>\n",
              "      <td>0.015475</td>\n",
              "      <td>0.070276</td>\n",
              "      <td>0.031190</td>\n",
              "      <td>0.052683</td>\n",
              "      <td>0.017214</td>\n",
              "      <td>0.047006</td>\n",
              "      <td>0.044875</td>\n",
              "      <td>0.021640</td>\n",
              "    </tr>\n",
              "    <tr>\n",
              "      <th>4</th>\n",
              "      <td>0.014658</td>\n",
              "      <td>0.026539</td>\n",
              "      <td>0.103694</td>\n",
              "      <td>0.132964</td>\n",
              "      <td>1.000000</td>\n",
              "      <td>0.018419</td>\n",
              "      <td>0.035706</td>\n",
              "      <td>0.018419</td>\n",
              "      <td>0.052324</td>\n",
              "      <td>0.039976</td>\n",
              "      <td>0.065683</td>\n",
              "      <td>0.042230</td>\n",
              "      <td>0.024059</td>\n",
              "      <td>0.031813</td>\n",
              "      <td>0.012394</td>\n",
              "      <td>0.034867</td>\n",
              "      <td>0.033039</td>\n",
              "      <td>0.045486</td>\n",
              "      <td>0.065513</td>\n",
              "      <td>0.044268</td>\n",
              "      <td>0.035749</td>\n",
              "      <td>0.037512</td>\n",
              "      <td>0.041081</td>\n",
              "      <td>0.088712</td>\n",
              "      <td>0.015808</td>\n",
              "      <td>0.026840</td>\n",
              "      <td>0.039614</td>\n",
              "      <td>0.038249</td>\n",
              "      <td>0.024064</td>\n",
              "      <td>0.076236</td>\n",
              "      <td>0.031635</td>\n",
              "      <td>0.030562</td>\n",
              "      <td>0.015171</td>\n",
              "      <td>0.037228</td>\n",
              "      <td>0.040144</td>\n",
              "      <td>0.047063</td>\n",
              "      <td>0.023581</td>\n",
              "      <td>0.053636</td>\n",
              "      <td>0.059721</td>\n",
              "      <td>0.044492</td>\n",
              "      <td>...</td>\n",
              "      <td>0.059680</td>\n",
              "      <td>0.020254</td>\n",
              "      <td>0.023250</td>\n",
              "      <td>0.090503</td>\n",
              "      <td>0.052922</td>\n",
              "      <td>0.033967</td>\n",
              "      <td>0.032230</td>\n",
              "      <td>0.057013</td>\n",
              "      <td>0.070465</td>\n",
              "      <td>0.032280</td>\n",
              "      <td>0.048541</td>\n",
              "      <td>0.013493</td>\n",
              "      <td>0.039321</td>\n",
              "      <td>0.050005</td>\n",
              "      <td>0.053786</td>\n",
              "      <td>0.048857</td>\n",
              "      <td>0.039509</td>\n",
              "      <td>0.054475</td>\n",
              "      <td>0.053478</td>\n",
              "      <td>0.025497</td>\n",
              "      <td>0.041091</td>\n",
              "      <td>0.060583</td>\n",
              "      <td>0.054275</td>\n",
              "      <td>0.035392</td>\n",
              "      <td>0.053220</td>\n",
              "      <td>0.032520</td>\n",
              "      <td>0.060661</td>\n",
              "      <td>0.067213</td>\n",
              "      <td>0.064124</td>\n",
              "      <td>0.020254</td>\n",
              "      <td>0.090382</td>\n",
              "      <td>0.023297</td>\n",
              "      <td>0.049628</td>\n",
              "      <td>0.045833</td>\n",
              "      <td>0.024937</td>\n",
              "      <td>0.051019</td>\n",
              "      <td>0.063334</td>\n",
              "      <td>0.059665</td>\n",
              "      <td>0.052831</td>\n",
              "      <td>0.021081</td>\n",
              "    </tr>\n",
              "  </tbody>\n",
              "</table>\n",
              "<p>5 rows × 401 columns</p>\n",
              "</div>"
            ],
            "text/plain": [
              "        0         1         2    ...       398       399       400\n",
              "0  1.000000  0.007983  0.173512  ...  0.041452  0.096806  0.017374\n",
              "1  0.007983  1.000000  0.019687  ...  0.018657  0.025061  0.023293\n",
              "2  0.173512  0.019687  1.000000  ...  0.137081  0.074730  0.098713\n",
              "3  0.008303  0.032705  0.026978  ...  0.047006  0.044875  0.021640\n",
              "4  0.014658  0.026539  0.103694  ...  0.059665  0.052831  0.021081\n",
              "\n",
              "[5 rows x 401 columns]"
            ]
          },
          "metadata": {
            "tags": []
          },
          "execution_count": 102
        }
      ]
    },
    {
      "cell_type": "code",
      "metadata": {
        "id": "O2CQWbmSesC3",
        "colab_type": "code",
        "colab": {
          "base_uri": "https://localhost:8080/",
          "height": 119
        },
        "outputId": "c138f0eb-326e-42de-aab9-98487d9a29f7"
      },
      "source": [
        "# Each row is the similarity of one document to all other documents (including itself)\n",
        "df[0][:5]"
      ],
      "execution_count": 103,
      "outputs": [
        {
          "output_type": "execute_result",
          "data": {
            "text/plain": [
              "0    1.000000\n",
              "1    0.007983\n",
              "2    0.173512\n",
              "3    0.008303\n",
              "4    0.014658\n",
              "Name: 0, dtype: float64"
            ]
          },
          "metadata": {
            "tags": []
          },
          "execution_count": 103
        }
      ]
    },
    {
      "cell_type": "code",
      "metadata": {
        "id": "QxZNxt6VJobz",
        "colab_type": "code",
        "colab": {
          "base_uri": "https://localhost:8080/",
          "height": 221
        },
        "outputId": "959f9751-fbed-4044-a0bf-18a5a34a22ae"
      },
      "source": [
        "df[0]<1"
      ],
      "execution_count": 104,
      "outputs": [
        {
          "output_type": "execute_result",
          "data": {
            "text/plain": [
              "0      False\n",
              "1       True\n",
              "2       True\n",
              "3       True\n",
              "4       True\n",
              "       ...  \n",
              "396     True\n",
              "397     True\n",
              "398     True\n",
              "399     True\n",
              "400     True\n",
              "Name: 0, Length: 401, dtype: bool"
            ]
          },
          "metadata": {
            "tags": []
          },
          "execution_count": 104
        }
      ]
    },
    {
      "cell_type": "code",
      "metadata": {
        "id": "aK_tbIr_esC5",
        "colab_type": "code",
        "colab": {
          "base_uri": "https://localhost:8080/",
          "height": 119
        },
        "outputId": "f39769a3-594f-4b77-cd79-2b05cf5e9c4a"
      },
      "source": [
        "# Grab the row the are similar to first article\n",
        "df[df[0] < 1][0].sort_values(ascending=False)[:5]"
      ],
      "execution_count": 105,
      "outputs": [
        {
          "output_type": "execute_result",
          "data": {
            "text/plain": [
              "355    0.503040\n",
              "296    0.503040\n",
              "249    0.501347\n",
              "292    0.450250\n",
              "393    0.346771\n",
              "Name: 0, dtype: float64"
            ]
          },
          "metadata": {
            "tags": []
          },
          "execution_count": 105
        }
      ]
    },
    {
      "cell_type": "code",
      "metadata": {
        "id": "99xtdrJ2esC7",
        "colab_type": "code",
        "colab": {
          "base_uri": "https://localhost:8080/",
          "height": 88
        },
        "outputId": "39615986-f37c-4360-e31b-780c31912a02"
      },
      "source": [
        "print(data[0][:150])"
      ],
      "execution_count": 107,
      "outputs": [
        {
          "output_type": "stream",
          "text": [
            "Security warning over 'FBI virus'\n",
            "\n",
            "The US Federal Bureau of Investigation is warning that a computer virus is being spread via e-mails that purport to\n"
          ],
          "name": "stdout"
        }
      ]
    },
    {
      "cell_type": "code",
      "metadata": {
        "id": "efdvFy-SesC9",
        "colab_type": "code",
        "colab": {
          "base_uri": "https://localhost:8080/",
          "height": 102
        },
        "outputId": "b8f1cdc4-b467-451f-d80a-5909b05c00ef"
      },
      "source": [
        "# related articles\n",
        "print(data[355][:150])"
      ],
      "execution_count": 108,
      "outputs": [
        {
          "output_type": "stream",
          "text": [
            "Virus poses as Christmas e-mail\n",
            "\n",
            "Security firms are warning about a Windows virus disguising itself as an electronic Christmas card.\n",
            "\n",
            "The Zafi.D virus\n"
          ],
          "name": "stdout"
        }
      ]
    },
    {
      "cell_type": "markdown",
      "metadata": {
        "id": "pYvT32x5esC_",
        "colab_type": "text"
      },
      "source": [
        "### NearestNeighbor (K-NN) \n",
        "\n",
        "To address the computational inefficiencies of the brute-force approach, a variety of tree-based data structures have been invented. In general, these structures attempt to reduce the required number of distance calculations by efficiently encoding aggregate distance information for the sample. The basic idea is that if point  is very distant from point , and point  is very close to point , then we know that points  and  are very distant, without having to explicitly calculate their distance. In this way, the computational cost of a nearest neighbors search can be reduced to  or better. This is a significant improvement over brute-force for large data.\n",
        "\n",
        "To address the inefficiencies of KD Trees in higher dimensions, the ball tree data structure was developed. Where KD trees partition data along Cartesian axes, ball trees partition data in a series of nesting hyper-spheres. This makes tree construction more costly than that of the KD tree, but results in a data structure which can be very efficient on highly structured data, even in very high dimensions.\n",
        "\n",
        "A ball tree recursively divides the data into nodes defined by a centroid  and radius , such that each point in the node lies within the hyper-sphere defined by  and . The number of candidate points for a neighbor search is reduced through use of the triangle inequality:\n",
        "\n",
        "With this setup, a single distance calculation between a test point and the centroid is sufficient to determine a lower and upper bound on the distance to all points within the node. Because of the spherical geometry of the ball tree nodes, it can out-perform a KD-tree in high dimensions, though the actual performance is highly dependent on the structure of the training data. In scikit-learn, ball-tree-based neighbors searches are specified using the keyword algorithm = 'ball_tree', and are computed using the class sklearn.neighbors.BallTree. Alternatively, the user can work with the BallTree class directly."
      ]
    },
    {
      "cell_type": "code",
      "metadata": {
        "id": "1uvkRBlLesC_",
        "colab_type": "code",
        "colab": {
          "base_uri": "https://localhost:8080/",
          "height": 270
        },
        "outputId": "edff141d-6224-4906-ae27-016590aa2cf5"
      },
      "source": [
        "dtm.head()"
      ],
      "execution_count": 109,
      "outputs": [
        {
          "output_type": "execute_result",
          "data": {
            "text/html": [
              "<div>\n",
              "<style scoped>\n",
              "    .dataframe tbody tr th:only-of-type {\n",
              "        vertical-align: middle;\n",
              "    }\n",
              "\n",
              "    .dataframe tbody tr th {\n",
              "        vertical-align: top;\n",
              "    }\n",
              "\n",
              "    .dataframe thead th {\n",
              "        text-align: right;\n",
              "    }\n",
              "</style>\n",
              "<table border=\"1\" class=\"dataframe\">\n",
              "  <thead>\n",
              "    <tr style=\"text-align: right;\">\n",
              "      <th></th>\n",
              "      <th>10</th>\n",
              "      <th>2004</th>\n",
              "      <th>accord</th>\n",
              "      <th>add</th>\n",
              "      <th>apple</th>\n",
              "      <th>bbc</th>\n",
              "      <th>big</th>\n",
              "      <th>bill</th>\n",
              "      <th>britain</th>\n",
              "      <th>bt</th>\n",
              "      <th>call</th>\n",
              "      <th>clark</th>\n",
              "      <th>company</th>\n",
              "      <th>computer</th>\n",
              "      <th>consumer</th>\n",
              "      <th>currently</th>\n",
              "      <th>despite</th>\n",
              "      <th>digital</th>\n",
              "      <th>early</th>\n",
              "      <th>end</th>\n",
              "      <th>european</th>\n",
              "      <th>fact</th>\n",
              "      <th>fast</th>\n",
              "      <th>figure</th>\n",
              "      <th>film</th>\n",
              "      <th>firm</th>\n",
              "      <th>game</th>\n",
              "      <th>gamer</th>\n",
              "      <th>generation</th>\n",
              "      <th>group</th>\n",
              "      <th>half</th>\n",
              "      <th>high</th>\n",
              "      <th>image</th>\n",
              "      <th>internet</th>\n",
              "      <th>key</th>\n",
              "      <th>late</th>\n",
              "      <th>launch</th>\n",
              "      <th>legal</th>\n",
              "      <th>like</th>\n",
              "      <th>man</th>\n",
              "      <th>...</th>\n",
              "      <th>worried</th>\n",
              "      <th>worry</th>\n",
              "      <th>worth</th>\n",
              "      <th>worthwhile</th>\n",
              "      <th>wow</th>\n",
              "      <th>write</th>\n",
              "      <th>writer</th>\n",
              "      <th>writing</th>\n",
              "      <th>wrong</th>\n",
              "      <th>x</th>\n",
              "      <th>xbox</th>\n",
              "      <th>xbox</th>\n",
              "      <th>xbox 2</th>\n",
              "      <th>xbox games</th>\n",
              "      <th>xbox live</th>\n",
              "      <th>xp</th>\n",
              "      <th>yahoo</th>\n",
              "      <th>year</th>\n",
              "      <th>year</th>\n",
              "      <th>year accord</th>\n",
              "      <th>year ago</th>\n",
              "      <th>year end</th>\n",
              "      <th>year go</th>\n",
              "      <th>year new</th>\n",
              "      <th>year number</th>\n",
              "      <th>year old</th>\n",
              "      <th>year say</th>\n",
              "      <th>year time</th>\n",
              "      <th>yen</th>\n",
              "      <th>yes</th>\n",
              "      <th>york</th>\n",
              "      <th>young</th>\n",
              "      <th>young people</th>\n",
              "      <th>youth</th>\n",
              "      <th>zombie</th>\n",
              "      <th>zone</th>\n",
              "      <th>zoom</th>\n",
              "      <th>£</th>\n",
              "      <th>£ 20</th>\n",
              "      <th>£ 99</th>\n",
              "    </tr>\n",
              "  </thead>\n",
              "  <tbody>\n",
              "    <tr>\n",
              "      <th>0</th>\n",
              "      <td>0.0</td>\n",
              "      <td>0.0</td>\n",
              "      <td>0.0</td>\n",
              "      <td>0.0</td>\n",
              "      <td>0.0</td>\n",
              "      <td>0.0</td>\n",
              "      <td>0.0</td>\n",
              "      <td>0.0</td>\n",
              "      <td>0.0</td>\n",
              "      <td>0.0</td>\n",
              "      <td>0.0</td>\n",
              "      <td>0.0</td>\n",
              "      <td>0.0</td>\n",
              "      <td>0.0</td>\n",
              "      <td>0.0</td>\n",
              "      <td>0.0</td>\n",
              "      <td>0.0</td>\n",
              "      <td>0.0</td>\n",
              "      <td>0.0</td>\n",
              "      <td>0.0</td>\n",
              "      <td>0.0</td>\n",
              "      <td>0.0</td>\n",
              "      <td>0.0</td>\n",
              "      <td>0.0</td>\n",
              "      <td>0.000000</td>\n",
              "      <td>0.0</td>\n",
              "      <td>0.0</td>\n",
              "      <td>0.0</td>\n",
              "      <td>0.0</td>\n",
              "      <td>0.0</td>\n",
              "      <td>0.0</td>\n",
              "      <td>0.0</td>\n",
              "      <td>0.0</td>\n",
              "      <td>0.0</td>\n",
              "      <td>0.0</td>\n",
              "      <td>0.0</td>\n",
              "      <td>0.0</td>\n",
              "      <td>0.0</td>\n",
              "      <td>0.0</td>\n",
              "      <td>0.0</td>\n",
              "      <td>...</td>\n",
              "      <td>0.0</td>\n",
              "      <td>0.0</td>\n",
              "      <td>0.0</td>\n",
              "      <td>0.0</td>\n",
              "      <td>0.0</td>\n",
              "      <td>0.0</td>\n",
              "      <td>0.0</td>\n",
              "      <td>0.0</td>\n",
              "      <td>0.0</td>\n",
              "      <td>0.0</td>\n",
              "      <td>0.0</td>\n",
              "      <td>0.0</td>\n",
              "      <td>0.0</td>\n",
              "      <td>0.0</td>\n",
              "      <td>0.0</td>\n",
              "      <td>0.0</td>\n",
              "      <td>0.0</td>\n",
              "      <td>0.000000</td>\n",
              "      <td>0.0</td>\n",
              "      <td>0.0</td>\n",
              "      <td>0.0</td>\n",
              "      <td>0.0</td>\n",
              "      <td>0.0</td>\n",
              "      <td>0.0</td>\n",
              "      <td>0.0</td>\n",
              "      <td>0.0</td>\n",
              "      <td>0.0</td>\n",
              "      <td>0.0</td>\n",
              "      <td>0.0</td>\n",
              "      <td>0.0</td>\n",
              "      <td>0.0</td>\n",
              "      <td>0.0</td>\n",
              "      <td>0.0</td>\n",
              "      <td>0.0</td>\n",
              "      <td>0.0</td>\n",
              "      <td>0.0</td>\n",
              "      <td>0.0</td>\n",
              "      <td>0.000000</td>\n",
              "      <td>0.0</td>\n",
              "      <td>0.0</td>\n",
              "    </tr>\n",
              "    <tr>\n",
              "      <th>1</th>\n",
              "      <td>0.0</td>\n",
              "      <td>0.0</td>\n",
              "      <td>0.0</td>\n",
              "      <td>0.0</td>\n",
              "      <td>0.0</td>\n",
              "      <td>0.0</td>\n",
              "      <td>0.0</td>\n",
              "      <td>0.0</td>\n",
              "      <td>0.0</td>\n",
              "      <td>0.0</td>\n",
              "      <td>0.0</td>\n",
              "      <td>0.0</td>\n",
              "      <td>0.0</td>\n",
              "      <td>0.0</td>\n",
              "      <td>0.0</td>\n",
              "      <td>0.0</td>\n",
              "      <td>0.0</td>\n",
              "      <td>0.0</td>\n",
              "      <td>0.0</td>\n",
              "      <td>0.0</td>\n",
              "      <td>0.0</td>\n",
              "      <td>0.0</td>\n",
              "      <td>0.0</td>\n",
              "      <td>0.0</td>\n",
              "      <td>0.091882</td>\n",
              "      <td>0.0</td>\n",
              "      <td>0.0</td>\n",
              "      <td>0.0</td>\n",
              "      <td>0.0</td>\n",
              "      <td>0.0</td>\n",
              "      <td>0.0</td>\n",
              "      <td>0.0</td>\n",
              "      <td>0.0</td>\n",
              "      <td>0.0</td>\n",
              "      <td>0.0</td>\n",
              "      <td>0.0</td>\n",
              "      <td>0.0</td>\n",
              "      <td>0.0</td>\n",
              "      <td>0.0</td>\n",
              "      <td>0.0</td>\n",
              "      <td>...</td>\n",
              "      <td>0.0</td>\n",
              "      <td>0.0</td>\n",
              "      <td>0.0</td>\n",
              "      <td>0.0</td>\n",
              "      <td>0.0</td>\n",
              "      <td>0.0</td>\n",
              "      <td>0.0</td>\n",
              "      <td>0.0</td>\n",
              "      <td>0.0</td>\n",
              "      <td>0.0</td>\n",
              "      <td>0.0</td>\n",
              "      <td>0.0</td>\n",
              "      <td>0.0</td>\n",
              "      <td>0.0</td>\n",
              "      <td>0.0</td>\n",
              "      <td>0.0</td>\n",
              "      <td>0.0</td>\n",
              "      <td>0.000000</td>\n",
              "      <td>0.0</td>\n",
              "      <td>0.0</td>\n",
              "      <td>0.0</td>\n",
              "      <td>0.0</td>\n",
              "      <td>0.0</td>\n",
              "      <td>0.0</td>\n",
              "      <td>0.0</td>\n",
              "      <td>0.0</td>\n",
              "      <td>0.0</td>\n",
              "      <td>0.0</td>\n",
              "      <td>0.0</td>\n",
              "      <td>0.0</td>\n",
              "      <td>0.0</td>\n",
              "      <td>0.0</td>\n",
              "      <td>0.0</td>\n",
              "      <td>0.0</td>\n",
              "      <td>0.0</td>\n",
              "      <td>0.0</td>\n",
              "      <td>0.0</td>\n",
              "      <td>0.132738</td>\n",
              "      <td>0.0</td>\n",
              "      <td>0.0</td>\n",
              "    </tr>\n",
              "    <tr>\n",
              "      <th>2</th>\n",
              "      <td>0.0</td>\n",
              "      <td>0.0</td>\n",
              "      <td>0.0</td>\n",
              "      <td>0.0</td>\n",
              "      <td>0.0</td>\n",
              "      <td>0.0</td>\n",
              "      <td>0.0</td>\n",
              "      <td>0.0</td>\n",
              "      <td>0.0</td>\n",
              "      <td>0.0</td>\n",
              "      <td>0.0</td>\n",
              "      <td>0.0</td>\n",
              "      <td>0.0</td>\n",
              "      <td>0.0</td>\n",
              "      <td>0.0</td>\n",
              "      <td>0.0</td>\n",
              "      <td>0.0</td>\n",
              "      <td>0.0</td>\n",
              "      <td>0.0</td>\n",
              "      <td>0.0</td>\n",
              "      <td>0.0</td>\n",
              "      <td>0.0</td>\n",
              "      <td>0.0</td>\n",
              "      <td>0.0</td>\n",
              "      <td>0.000000</td>\n",
              "      <td>0.0</td>\n",
              "      <td>0.0</td>\n",
              "      <td>0.0</td>\n",
              "      <td>0.0</td>\n",
              "      <td>0.0</td>\n",
              "      <td>0.0</td>\n",
              "      <td>0.0</td>\n",
              "      <td>0.0</td>\n",
              "      <td>0.0</td>\n",
              "      <td>0.0</td>\n",
              "      <td>0.0</td>\n",
              "      <td>0.0</td>\n",
              "      <td>0.0</td>\n",
              "      <td>0.0</td>\n",
              "      <td>0.0</td>\n",
              "      <td>...</td>\n",
              "      <td>0.0</td>\n",
              "      <td>0.0</td>\n",
              "      <td>0.0</td>\n",
              "      <td>0.0</td>\n",
              "      <td>0.0</td>\n",
              "      <td>0.0</td>\n",
              "      <td>0.0</td>\n",
              "      <td>0.0</td>\n",
              "      <td>0.0</td>\n",
              "      <td>0.0</td>\n",
              "      <td>0.0</td>\n",
              "      <td>0.0</td>\n",
              "      <td>0.0</td>\n",
              "      <td>0.0</td>\n",
              "      <td>0.0</td>\n",
              "      <td>0.0</td>\n",
              "      <td>0.0</td>\n",
              "      <td>0.031451</td>\n",
              "      <td>0.0</td>\n",
              "      <td>0.0</td>\n",
              "      <td>0.0</td>\n",
              "      <td>0.0</td>\n",
              "      <td>0.0</td>\n",
              "      <td>0.0</td>\n",
              "      <td>0.0</td>\n",
              "      <td>0.0</td>\n",
              "      <td>0.0</td>\n",
              "      <td>0.0</td>\n",
              "      <td>0.0</td>\n",
              "      <td>0.0</td>\n",
              "      <td>0.0</td>\n",
              "      <td>0.0</td>\n",
              "      <td>0.0</td>\n",
              "      <td>0.0</td>\n",
              "      <td>0.0</td>\n",
              "      <td>0.0</td>\n",
              "      <td>0.0</td>\n",
              "      <td>0.000000</td>\n",
              "      <td>0.0</td>\n",
              "      <td>0.0</td>\n",
              "    </tr>\n",
              "    <tr>\n",
              "      <th>3</th>\n",
              "      <td>0.0</td>\n",
              "      <td>0.0</td>\n",
              "      <td>0.0</td>\n",
              "      <td>0.0</td>\n",
              "      <td>0.0</td>\n",
              "      <td>0.0</td>\n",
              "      <td>0.0</td>\n",
              "      <td>0.0</td>\n",
              "      <td>0.0</td>\n",
              "      <td>0.0</td>\n",
              "      <td>0.0</td>\n",
              "      <td>0.0</td>\n",
              "      <td>0.0</td>\n",
              "      <td>0.0</td>\n",
              "      <td>0.0</td>\n",
              "      <td>0.0</td>\n",
              "      <td>0.0</td>\n",
              "      <td>0.0</td>\n",
              "      <td>0.0</td>\n",
              "      <td>0.0</td>\n",
              "      <td>0.0</td>\n",
              "      <td>0.0</td>\n",
              "      <td>0.0</td>\n",
              "      <td>0.0</td>\n",
              "      <td>0.000000</td>\n",
              "      <td>0.0</td>\n",
              "      <td>0.0</td>\n",
              "      <td>0.0</td>\n",
              "      <td>0.0</td>\n",
              "      <td>0.0</td>\n",
              "      <td>0.0</td>\n",
              "      <td>0.0</td>\n",
              "      <td>0.0</td>\n",
              "      <td>0.0</td>\n",
              "      <td>0.0</td>\n",
              "      <td>0.0</td>\n",
              "      <td>0.0</td>\n",
              "      <td>0.0</td>\n",
              "      <td>0.0</td>\n",
              "      <td>0.0</td>\n",
              "      <td>...</td>\n",
              "      <td>0.0</td>\n",
              "      <td>0.0</td>\n",
              "      <td>0.0</td>\n",
              "      <td>0.0</td>\n",
              "      <td>0.0</td>\n",
              "      <td>0.0</td>\n",
              "      <td>0.0</td>\n",
              "      <td>0.0</td>\n",
              "      <td>0.0</td>\n",
              "      <td>0.0</td>\n",
              "      <td>0.0</td>\n",
              "      <td>0.0</td>\n",
              "      <td>0.0</td>\n",
              "      <td>0.0</td>\n",
              "      <td>0.0</td>\n",
              "      <td>0.0</td>\n",
              "      <td>0.0</td>\n",
              "      <td>0.000000</td>\n",
              "      <td>0.0</td>\n",
              "      <td>0.0</td>\n",
              "      <td>0.0</td>\n",
              "      <td>0.0</td>\n",
              "      <td>0.0</td>\n",
              "      <td>0.0</td>\n",
              "      <td>0.0</td>\n",
              "      <td>0.0</td>\n",
              "      <td>0.0</td>\n",
              "      <td>0.0</td>\n",
              "      <td>0.0</td>\n",
              "      <td>0.0</td>\n",
              "      <td>0.0</td>\n",
              "      <td>0.0</td>\n",
              "      <td>0.0</td>\n",
              "      <td>0.0</td>\n",
              "      <td>0.0</td>\n",
              "      <td>0.0</td>\n",
              "      <td>0.0</td>\n",
              "      <td>0.000000</td>\n",
              "      <td>0.0</td>\n",
              "      <td>0.0</td>\n",
              "    </tr>\n",
              "    <tr>\n",
              "      <th>4</th>\n",
              "      <td>0.0</td>\n",
              "      <td>0.0</td>\n",
              "      <td>0.0</td>\n",
              "      <td>0.0</td>\n",
              "      <td>0.0</td>\n",
              "      <td>0.0</td>\n",
              "      <td>0.0</td>\n",
              "      <td>0.0</td>\n",
              "      <td>0.0</td>\n",
              "      <td>0.0</td>\n",
              "      <td>0.0</td>\n",
              "      <td>0.0</td>\n",
              "      <td>0.0</td>\n",
              "      <td>0.0</td>\n",
              "      <td>0.0</td>\n",
              "      <td>0.0</td>\n",
              "      <td>0.0</td>\n",
              "      <td>0.0</td>\n",
              "      <td>0.0</td>\n",
              "      <td>0.0</td>\n",
              "      <td>0.0</td>\n",
              "      <td>0.0</td>\n",
              "      <td>0.0</td>\n",
              "      <td>0.0</td>\n",
              "      <td>0.000000</td>\n",
              "      <td>0.0</td>\n",
              "      <td>0.0</td>\n",
              "      <td>0.0</td>\n",
              "      <td>0.0</td>\n",
              "      <td>0.0</td>\n",
              "      <td>0.0</td>\n",
              "      <td>0.0</td>\n",
              "      <td>0.0</td>\n",
              "      <td>0.0</td>\n",
              "      <td>0.0</td>\n",
              "      <td>0.0</td>\n",
              "      <td>0.0</td>\n",
              "      <td>0.0</td>\n",
              "      <td>0.0</td>\n",
              "      <td>0.0</td>\n",
              "      <td>...</td>\n",
              "      <td>0.0</td>\n",
              "      <td>0.0</td>\n",
              "      <td>0.0</td>\n",
              "      <td>0.0</td>\n",
              "      <td>0.0</td>\n",
              "      <td>0.0</td>\n",
              "      <td>0.0</td>\n",
              "      <td>0.0</td>\n",
              "      <td>0.0</td>\n",
              "      <td>0.0</td>\n",
              "      <td>0.0</td>\n",
              "      <td>0.0</td>\n",
              "      <td>0.0</td>\n",
              "      <td>0.0</td>\n",
              "      <td>0.0</td>\n",
              "      <td>0.0</td>\n",
              "      <td>0.0</td>\n",
              "      <td>0.025700</td>\n",
              "      <td>0.0</td>\n",
              "      <td>0.0</td>\n",
              "      <td>0.0</td>\n",
              "      <td>0.0</td>\n",
              "      <td>0.0</td>\n",
              "      <td>0.0</td>\n",
              "      <td>0.0</td>\n",
              "      <td>0.0</td>\n",
              "      <td>0.0</td>\n",
              "      <td>0.0</td>\n",
              "      <td>0.0</td>\n",
              "      <td>0.0</td>\n",
              "      <td>0.0</td>\n",
              "      <td>0.0</td>\n",
              "      <td>0.0</td>\n",
              "      <td>0.0</td>\n",
              "      <td>0.0</td>\n",
              "      <td>0.0</td>\n",
              "      <td>0.0</td>\n",
              "      <td>0.000000</td>\n",
              "      <td>0.0</td>\n",
              "      <td>0.0</td>\n",
              "    </tr>\n",
              "  </tbody>\n",
              "</table>\n",
              "<p>5 rows × 3823 columns</p>\n",
              "</div>"
            ],
            "text/plain": [
              "    10   2004   accord   add   apple  ...  zone  zoom         £  £ 20  £ 99\n",
              "0  0.0    0.0      0.0   0.0     0.0  ...   0.0   0.0  0.000000   0.0   0.0\n",
              "1  0.0    0.0      0.0   0.0     0.0  ...   0.0   0.0  0.132738   0.0   0.0\n",
              "2  0.0    0.0      0.0   0.0     0.0  ...   0.0   0.0  0.000000   0.0   0.0\n",
              "3  0.0    0.0      0.0   0.0     0.0  ...   0.0   0.0  0.000000   0.0   0.0\n",
              "4  0.0    0.0      0.0   0.0     0.0  ...   0.0   0.0  0.000000   0.0   0.0\n",
              "\n",
              "[5 rows x 3823 columns]"
            ]
          },
          "metadata": {
            "tags": []
          },
          "execution_count": 109
        }
      ]
    },
    {
      "cell_type": "code",
      "metadata": {
        "id": "vSnDpdZkesDB",
        "colab_type": "code",
        "colab": {
          "base_uri": "https://localhost:8080/",
          "height": 68
        },
        "outputId": "88574f9f-a313-4faf-ecd7-a2f6138a4960"
      },
      "source": [
        "from sklearn.neighbors import NearestNeighbors\n",
        "\n",
        "# Fit on DTM\n",
        "nn = NearestNeighbors(n_neighbors=5, algorithm='kd_tree')\n",
        "nn.fit(dtm)"
      ],
      "execution_count": 110,
      "outputs": [
        {
          "output_type": "execute_result",
          "data": {
            "text/plain": [
              "NearestNeighbors(algorithm='kd_tree', leaf_size=30, metric='minkowski',\n",
              "                 metric_params=None, n_jobs=None, n_neighbors=5, p=2,\n",
              "                 radius=1.0)"
            ]
          },
          "metadata": {
            "tags": []
          },
          "execution_count": 110
        }
      ]
    },
    {
      "cell_type": "code",
      "metadata": {
        "id": "4ZZmgMhpesDD",
        "colab_type": "code",
        "colab": {
          "base_uri": "https://localhost:8080/",
          "height": 85
        },
        "outputId": "154c5241-107b-4b68-ff2c-2a40b9459705"
      },
      "source": [
        "# gives the distance of each neighbor to the first neighbor (first row)\n",
        "print(len(dtm.iloc[0]))   # tfidf vector of all articles with respect to the first article\n",
        "\n",
        "print(type(dtm.iloc[0].values))\n",
        "# returns a list of five nearest neighbors distance, and another list of those neighbors' row number\n",
        "nn.kneighbors([dtm.iloc[0].values])"
      ],
      "execution_count": 113,
      "outputs": [
        {
          "output_type": "stream",
          "text": [
            "3823\n",
            "<class 'numpy.ndarray'>\n"
          ],
          "name": "stdout"
        },
        {
          "output_type": "execute_result",
          "data": {
            "text/plain": [
              "(array([[0.        , 0.        , 0.99695534, 0.99695534, 0.99865171]]),\n",
              " array([[  0,  85, 296, 355, 249]]))"
            ]
          },
          "metadata": {
            "tags": []
          },
          "execution_count": 113
        }
      ]
    },
    {
      "cell_type": "code",
      "metadata": {
        "id": "MxU5WuNUS4uy",
        "colab_type": "code",
        "colab": {
          "base_uri": "https://localhost:8080/",
          "height": 35
        },
        "outputId": "d72875ad-27a4-4c00-ef2a-c956a8798979"
      },
      "source": [
        "data[0][:100]"
      ],
      "execution_count": 114,
      "outputs": [
        {
          "output_type": "execute_result",
          "data": {
            "application/vnd.google.colaboratory.intrinsic+json": {
              "type": "string"
            },
            "text/plain": [
              "\"Security warning over 'FBI virus'\\n\\nThe US Federal Bureau of Investigation is warning that a computer\""
            ]
          },
          "metadata": {
            "tags": []
          },
          "execution_count": 114
        }
      ]
    },
    {
      "cell_type": "code",
      "metadata": {
        "id": "n5NkxTe8S9wz",
        "colab_type": "code",
        "colab": {
          "base_uri": "https://localhost:8080/",
          "height": 35
        },
        "outputId": "e983a732-345c-473e-be4f-86aba1672f68"
      },
      "source": [
        "data[85][:100]"
      ],
      "execution_count": 115,
      "outputs": [
        {
          "output_type": "execute_result",
          "data": {
            "application/vnd.google.colaboratory.intrinsic+json": {
              "type": "string"
            },
            "text/plain": [
              "\"Security warning over 'FBI virus'\\n\\nThe US Federal Bureau of Investigation is warning that a computer\""
            ]
          },
          "metadata": {
            "tags": []
          },
          "execution_count": 115
        }
      ]
    },
    {
      "cell_type": "code",
      "metadata": {
        "id": "gbrntQueesDE",
        "colab_type": "code",
        "colab": {
          "base_uri": "https://localhost:8080/",
          "height": 51
        },
        "outputId": "6fc48877-076c-45d7-aef9-941031667291"
      },
      "source": [
        "# Query Using kneighbors:\n",
        "nn.kneighbors([dtm.iloc[296].values])"
      ],
      "execution_count": 116,
      "outputs": [
        {
          "output_type": "execute_result",
          "data": {
            "text/plain": [
              "(array([[0.        , 0.        , 0.83091051, 0.85535253, 0.99695534]]),\n",
              " array([[355, 296, 249, 292,  85]]))"
            ]
          },
          "metadata": {
            "tags": []
          },
          "execution_count": 116
        }
      ]
    },
    {
      "cell_type": "code",
      "metadata": {
        "id": "DJUqE0wjesDL",
        "colab_type": "code",
        "colab": {}
      },
      "source": [
        "rndm_tech_article = [ \"\"\"\n",
        "Blockchain technology encompasses so much more than just cryptocurrencies these days. And while these currencies are by far blockchain’s most famous use case, the potential for blockchain far, far exceeds a straightforward transfer of value.\n",
        "The gaming industry, for example, has always been fairly controversial due to a range of issues. Many players feel particularly worried about the protection of their data, fraudulent activities, high fees, and most of all, unfair and hidden odds.\n",
        "In these cases, P2P doesn’t just mean peer-to-peer; it means player-to-player. As with the other P2P industries that blockchain is disrupting, such as FinTech, there are already plenty of ways in which blockchain technology is being applied to resolve these issues and many more of the challenges faced by the gaming industry. Here are just a few.\n",
        "Reducing fraud\n",
        "The gaming industry suffers a lot from online fraud. One of the main advantages of blockchain technology is that it enables highly secure data encryption. What’s more, all of it is entirely accessible and transparent to the player. In other words, blockchain is a for game changer for venues such as online casinos, lotteries, and virtually anything which relies on random number generation.\n",
        "On top of this, hackers will have particularly hard time, if it is even possible, to destroy a decentralized blockchain network, making sure gamer data stays safe. This is an inherent feature of distributed ledger technology whereby nodes in the ledger maintain the distributed databases in a shared manner, and each node has the complete information in the entire database.\n",
        "\"\"\"]"
      ],
      "execution_count": 117,
      "outputs": []
    },
    {
      "cell_type": "code",
      "metadata": {
        "id": "CS6O9tuaesDO",
        "colab_type": "code",
        "colab": {}
      },
      "source": [
        "# Query for Sim of Random doc to BBC\n",
        "new_dtm = tfidf.transform(rndm_tech_article)"
      ],
      "execution_count": 118,
      "outputs": []
    },
    {
      "cell_type": "code",
      "metadata": {
        "id": "vP-OWk2BesDQ",
        "colab_type": "code",
        "colab": {
          "base_uri": "https://localhost:8080/",
          "height": 68
        },
        "outputId": "c2993f30-bf28-4122-acd0-f75ab22f8b73"
      },
      "source": [
        "print(new_dtm.shape)\n",
        "new_dtm"
      ],
      "execution_count": 119,
      "outputs": [
        {
          "output_type": "stream",
          "text": [
            "(1, 3823)\n"
          ],
          "name": "stdout"
        },
        {
          "output_type": "execute_result",
          "data": {
            "text/plain": [
              "<1x3823 sparse matrix of type '<class 'numpy.float64'>'\n",
              "\twith 75 stored elements in Compressed Sparse Row format>"
            ]
          },
          "metadata": {
            "tags": []
          },
          "execution_count": 119
        }
      ]
    },
    {
      "cell_type": "code",
      "metadata": {
        "id": "pl2aDyPxesDS",
        "colab_type": "code",
        "colab": {
          "base_uri": "https://localhost:8080/",
          "height": 34
        },
        "outputId": "3db98a04-800e-4c89-90c0-18e7f8dd02d7"
      },
      "source": [
        "type(new_dtm.todense())"
      ],
      "execution_count": 120,
      "outputs": [
        {
          "output_type": "execute_result",
          "data": {
            "text/plain": [
              "numpy.matrix"
            ]
          },
          "metadata": {
            "tags": []
          },
          "execution_count": 120
        }
      ]
    },
    {
      "cell_type": "code",
      "metadata": {
        "id": "1kXlY_LQesDU",
        "colab_type": "code",
        "colab": {
          "base_uri": "https://localhost:8080/",
          "height": 51
        },
        "outputId": "1011986e-e966-4ea6-9a3b-5b9c3ab90463"
      },
      "source": [
        "nn.kneighbors(new_dtm.todense())"
      ],
      "execution_count": 123,
      "outputs": [
        {
          "output_type": "execute_result",
          "data": {
            "text/plain": [
              "(array([[1.27210862, 1.27220922, 1.2949672 , 1.29982272, 1.31042356]]),\n",
              " array([[389, 235, 394, 312, 232]]))"
            ]
          },
          "metadata": {
            "tags": []
          },
          "execution_count": 123
        }
      ]
    },
    {
      "cell_type": "code",
      "metadata": {
        "id": "_SDcGC93esDW",
        "colab_type": "code",
        "colab": {
          "base_uri": "https://localhost:8080/",
          "height": 188
        },
        "outputId": "03091f35-40b0-464e-da7e-255f0ddd8e61"
      },
      "source": [
        "# Inspect Most relevant result\n",
        "data[389]"
      ],
      "execution_count": 124,
      "outputs": [
        {
          "output_type": "execute_result",
          "data": {
            "application/vnd.google.colaboratory.intrinsic+json": {
              "type": "string"
            },
            "text/plain": [
              "'Peer-to-peer nets \\'here to stay\\'\\n\\nPeer-to-peer (P2P) networks are here to stay, and are on the verge of being exploited by commercial media firms, says a panel of industry experts.\\n\\nOnce several high-profile legal cases against file-sharers are resolved this year, firms will be very keen to try and make money from P2P technology. The expert panel probed the future of P2P at the Consumer Electronics Show in Las Vegas earlier in January. The first convictions for P2P piracy were handed out in the US in January. William Trowbridge and Michael Chicoine pleaded guilty to charges that they infringed copyright by illegally sharing music, movies and software. Since the first successful file-sharing network Napster was forced to close down, the entertainment industry has been nervous and critical of P2P technology, blaming it for falling sales and piracy. But that is going to change very soon, according to the panel.\\n\\nThe music and film industries have started some big legal cases against owners of legitimate P2P networks - which are not illegal in themselves - and of individuals accused of distributing pirated content over networks. But they have slowly realised that P2P is a good way to distribute content, said Travis Kalanick, founder and chairman of P2P network Red Swoosh, and soon they are all going to want a slice of it. They are just waiting to come up with \"business models\" that work for them, which includes digital rights management and copy-protection standards.\\n\\nBut, until the legal actions are resolved, experimentation with P2P cannot not happen, said Michael Weiss, president of StreamCast Networks. Remembering the furore around VCRs when they first came out, Mr Weiss said: \"Old media always tries to stop new media. \"When they can\\'t stop it, they try to control it. Then they figure out how to make money and they always make a lot of money.\" Once the courts decided that the VCR in itself was not an illegal technology, the film studios turned it into an extremely lucrative business. In August 2004, the San Francisco-based US Court of Appeals ruled in favour of Grokster and StreamCast, two file-sharing networks. The court said they were essentially in the same position that Sony was in the 1980s VCR battle, and said that the networks themselves could not be deemed as illegal.\\n\\nP2P networks usually do not rely on dedicated servers for the transfer of files. Instead it uses direct connections between computers - or clients. There are now many different types of P2P systems than work in different ways. P2P nets can be used to share any kind of file, like photos, free software, licensed music and any other digital content. The BBC has already decided to embrace the technology. It aims to offer most of its own programmes for download this year and it will use P2P technology to distribute them. The files would be locked seven days after a programme aired making rights management easier to control. But the technology is still demonised and misunderstood by many. The global entertainment industry says more than 2.6 billion copyrighted music files are downloaded every month, and about half a million films are downloaded a day. Legal music download services, like Apple iTunes, Napster, have rushed into the music marketplace to try and lure file-sharers away from free content. Sales of legally-downloaded songs grew tenfold in 2004, with 200 million tracks bought online in the US and Europe in 12 months, the IFPI reported this week. But such download services are very different from P2P networks, not least because of the financial aspect.\\n\\nThere are several money-spinning models that could turn P2P into a golden egg for commercial entertainment companies. Paid-for-pass-along, in which firms receive money each time a file is shared, along with various DRM solutions and advertiser-based options are all being considered. \"We see there are going to be different models for commoditising P2P,\" said Marc Morgenstern, vice president of anti-piracy firm Overpeer.\\n\\n\"Consumers are hungry for it and we will discover new models together,\" agreed Mr Morgenstern. But many net users will continue to ignore the entertainment industry\\'s potential controlling grip on content and P2P technology by continuing to use it for their own creations. Unsigned bands, for example, use P2P networks to distribute their music effectively, which also draws the attention of record companies looking for new artists to sign. \"Increasingly, what you are seeing on P2P is consumer-created content,\" said Derek Broes, from Microsoft. \"They will probably play an increasing role in helping P2P spread,\" he said. Looking into P2P\\'s future, file sharing is just the beginning for P2P networks, as far as Mr Broes is concerned. \"Once some of these issues are resolved, you are going to see aggressive movement to protect content, but also in ways that are unimaginable now,\" he said. \"File-sharing is the tip of the iceberg.\"\\n'"
            ]
          },
          "metadata": {
            "tags": []
          },
          "execution_count": 124
        }
      ]
    },
    {
      "cell_type": "markdown",
      "metadata": {
        "id": "tY_taGXWesDX",
        "colab_type": "text"
      },
      "source": [
        "## Challenge\n",
        "\n",
        "In the module project assignment, you will apply one of these search techniques to retrieve documents related to a query document. "
      ]
    },
    {
      "cell_type": "markdown",
      "metadata": {
        "id": "Ym4yCs4WesDX",
        "colab_type": "text"
      },
      "source": [
        "# Apply word embedding models to create document vectors (Learn)\n",
        "<a id=\"p3\"></a>"
      ]
    },
    {
      "cell_type": "markdown",
      "metadata": {
        "id": "zUp3P3y7esDY",
        "colab_type": "text"
      },
      "source": [
        "## Overview\n",
        "### BoW discards textual context\n",
        "\n",
        "One of the limitations of Bag-of-Words approaches is that any information about the textual context surrounding that word is lost. This also means that with bag-of-words approaches often the only tools that we have for identifying words with similar usage or meaning and subsequently consolidating them into a single vector is through the processes of stemming and lemmatization which tend to be quite limited at consolidating words unless the two words are very close in their spelling or in their root parts-of-speech.\n",
        "\n",
        "### Embedding approaches preserve more textual context\n",
        "Word2Vec is an increasingly popular word embedding technique. Like Bag-of-words it learns a real-value vector representation for a predefined fixed-size vocabulary that is generated from a corpus of text. However, in contrast to BoW, Word2Vec approaches are much more capable of accounting for textual context, and are better at discovering words with similar meanings or usages (semantic or syntactic similarity).\n",
        "\n",
        "### Word2Vec Intuition\n",
        "### The Distribution Hypothesis\n",
        "\n",
        "In order to understand how Word2Vec preserves textual context we have to understand what's called the Distribution Hypothesis (Reference: Distribution Hypothesis Theory  -https://en.wikipedia.org/wiki/Distributional_semantics. The Distribution Hypothesis operates under the assumption that words that have similar contexts will have similar meanings. Practically speaking, this means that if two words are found to have similar words both to the right and to the left of them throughout the corpora then those words have the same context and are assumed to have the same meaning. \n",
        "\n",
        "> \"You shall know a word by the company it keeps\" - John Firth\n",
        "\n",
        "This means that we let the usage of a word define its meaning and its \"similarity\" to other words. In the following example, which words would you say have a similar meaning? \n",
        "\n",
        "**Sentence 1**: Traffic was light today\n",
        "\n",
        "**Sentence 2**: Traffic was heavy yesterday\n",
        "\n",
        "**Sentence 3**: Prediction is that traffic will be smooth-flowing tomorrow since it is a national holiday\n",
        "\n",
        "What words in the above sentences seem to have a similar meaning if all you knew about them was the context in which they appeared above? \n",
        "\n",
        "Lets take a look at how this might work in action, the following example is simplified, but will give you an idea of the intuition for how this works.\n",
        "\n",
        "#### Corpora:\n",
        "\n",
        "1) \"It was the sunniest of days.\"\n",
        "\n",
        "2) \"It was the raniest of days.\"\n",
        "\n",
        "#### Vocabulary:\n",
        "\n",
        "{\"it\": 1, \"was\": 2, \"the\": 3, \"of\": 4, \"days\": 5, \"sunniest\": 6, \"raniest\": 7}\n",
        "\n",
        "### Vectorization\n",
        "\n",
        "|       doc   | START_was | it_the | was_sunniest | the_of | sunniest_days | of_it | days_was | it_the | was_raniest | raniest_days | of_END |\n",
        "|----------|-----------|--------|--------------|--------|---------------|-------|----------|--------|-------------|--------------|--------|\n",
        "| it       | 1         | 0      | 0            | 0      | 0             | 0     | 1        | 0      | 0           | 0            | 0      |\n",
        "| was      | 0         | 1      | 0            | 0      | 0             | 0     | 0        | 1      | 0           | 0            | 0      |\n",
        "| the      | 0         | 0      | 1            | 0      | 0             | 0     | 0        | 0      | 1           | 0            | 0      |\n",
        "| sunniest | 0         | 0      | 0            | 1      | 0             | 0     | 0        | 0      | 0           | 0            | 0      |\n",
        "| of       | 0         | 0      | 0            | 0      | 1             | 0     | 0        | 0      | 0           | 1            | 0      |\n",
        "| days     | 0         | 0      | 0            | 0      | 0             | 0     | 0        | 0      | 0           | 0            | 1      |\n",
        "| raniest  | 0         | 0      | 0            | 1      | 0             | 0     | 0        | 0      | 0           | 0            | 0      |\n",
        "\n",
        "Each column vector represents the word's context -in this case defined by the words to the left and right of the center word. How far we look to the left and right of a given word is referred to as our \"window of context.\" Each row vector represents the the different usages of a given word. Word2Vec can consider a larger context than only words that are immediately to the left and right of a given word, but we're going to keep our window of context small for this example. What's most important is that this vectorization has translated our documents from a text representation to a numeric one in a way that preserves information about the underlying context. \n",
        "\n",
        "We can see that words that have a similar context will have similar row-vector representations, but before looking that more in-depth, lets simplify our vectorization slightly. You'll notice that we're repeating the column-vector \"it_the\" twice. Lets combine those into a single vector by adding them element-wise. \n",
        "\n",
        "|       *   | START_was | it_the | was_sunniest | the_of | sunniest_days | of_it | days_was | was_raniest | raniest_days | of_END |\n",
        "|----------|-----------|--------|--------------|--------|---------------|-------|----------|-------------|--------------|--------|\n",
        "| it       | 1         | 0      | 0            | 0      | 0             | 0     | 1        | 0           | 0            | 0      |\n",
        "| was      | 0         | 2      | 0            | 0      | 0             | 0     | 0        | 0           | 0            | 0      |\n",
        "| the      | 0         | 0      | 1            | 0      | 0             | 0     | 0        | 1           | 0            | 0      |\n",
        "| sunniest | 0         | 0      | 0            | 1      | 0             | 0     | 0        | 0           | 0            | 0      |\n",
        "| of       | 0         | 0      | 0            | 0      | 1             | 0     | 0        | 0           | 1            | 0      |\n",
        "| days     | 0         | 0      | 0            | 0      | 0             | 0     | 0        | 0           | 0            | 1      |\n",
        "| raniest  | 0         | 0      | 0            | 1      | 0             | 0     | 0        | 0           | 0            | 0      |\n",
        "\n",
        "Now, can you spot which words have a similar row-vector representation? Hint: Look for values that are repeated in a given column. Each column represents the context that word was found in. If there are multiple words that share a context then those words are understood to have a closer meaning with each other than with other words in the text.\n",
        "\n",
        "Lets look specifically at the words sunniest and raniest. You'll notice that these two words have exactly the same 10-dimensional vector representation. Based on this very small corpora of text we would conclude that these two words have the same meaning because they share the same usage. Is this a good assumption? Well, they are both referring to the weather outside so that's better than nothing. You could imagine that as our corpora grows larger we will be exposed a greater number of contexts and the Distribution Hypothesis assumption will improve. \n",
        "\n",
        "### Word2Vec Variants\n",
        "\n",
        "#### Skip-Gram\n",
        "\n",
        "The Skip-Gram method predicts the neighbors’ of a word given a center word. In the skip-gram model, we take a center word and a window of context (neighbors) words to train the model and then predict context words out to some window size for each center word.\n",
        "\n",
        "This notion of “context” or “neighboring” words is best described by considering a center word and a window of words around it. \n",
        "\n",
        "For example, if we consider the sentence **“The speedy Porsche drove past the elegant Rolls-Royce”** and a window size of 2, we’d have the following pairs for the skip-gram model:\n",
        "\n",
        "**Text:**\n",
        "**The**\tspeedy\tPorsche\tdrove\tpast\tthe\telegant\tRolls-Royce\n",
        "\n",
        "*Training Sample with window of 2*: (the, speedy), (the, Porsche)\n",
        "\n",
        "**Text:**\n",
        "The\t**speedy**\tPorsche\tdrove\tpast\tthe\telegant\tRolls-Royce\n",
        "\n",
        "*Training Sample with window of 2*: (speedy, the), (speedy, Porsche), (speedy, drove)\n",
        "\n",
        "**Text:**\n",
        "The\tspeedy\t**Porsche**\tdrove\tpast\tthe\telegant\tRolls-Royce\n",
        "\n",
        "*Training Sample with window of 2*: (Porsche, the), (Porsche, speedy), (Porsche, drove), (Porsche, past)\n",
        "\n",
        "**Text:**\n",
        "The\tspeedy\tPorsche\t**drove**\tpast\tthe\telegant\tRolls-Royce\n",
        "\n",
        "*Training Sample with window of 2*: (drove, speedy), (drove, Porsche), (drove, past), (drove, the)\n",
        "\n",
        "The **Skip-gram model** is going to output a probability distribution i.e. the probability of a word appearing in context given a center word and we are going to select the vector representation that maximizes the probability.\n",
        "\n",
        "With CountVectorizer and TF-IDF the best we could do for context was to look at common bi-grams and tri-grams (n-grams). Well, skip-grams go far beyond that and give our model much stronger contextual information.\n",
        "\n",
        "![alt text](https://www.dropbox.com/s/c7mwy6dk9k99bgh/Image%202%20-%20SkipGrams.jpg?raw=1)\n",
        "\n",
        "## Continuous Bag of Words\n",
        "\n",
        "This model takes thes opposite approach from the skip-gram model in that it tries to predict a center word based on the neighboring words. In the case of the CBOW model, we input the context words within the window (such as “the”, “Proshe”, “drove”) and aim to predict the target or center word “speedy” (the input to the prediction pipeline is reversed as compared to the SkipGram model).\n",
        "\n",
        "A graphical depiction of the input to output prediction pipeline for both variants of the Word2vec model is attached. The graphical depiction will help crystallize the difference between SkipGrams and Continuous Bag of Words.\n",
        "\n",
        "![alt text](https://www.dropbox.com/s/k3ddmbtd52wq2li/Image%203%20-%20CBOW%20Model.jpg?raw=1)\n",
        "\n",
        "## Notable Differences between Word Embedding methods:\n",
        "\n",
        "1) W2V focuses less document topic-modeling. You'll notice that the vectorizations don't really retain much information about the original document that the information came from. At least not in our examples.\n",
        "\n",
        "2) W2V can result in really large and complex vectorizations. In fact, you need Deep Neural Networks to train your Word2Vec models from scratch, but we can use helpful pretrained embeddings (thank you Google) to do really cool things!\n",
        "\n",
        "*^ All that noise....AND Spacy has pretrained a Word2Vec model you can just use? WTF JC?*\n",
        "\n",
        "Let's take a look at how to do it. "
      ]
    },
    {
      "cell_type": "code",
      "metadata": {
        "id": "EoOAj9PDesDY",
        "colab_type": "code",
        "colab": {
          "base_uri": "https://localhost:8080/",
          "height": 1000
        },
        "outputId": "5dd7f7ea-49b7-452d-ced5-2c5fa4503883"
      },
      "source": [
        "# Process a text\n",
        "nlp = spacy.load('en_core_web_lg')\n",
        "\n",
        "doc = nlp(\"Two bananas in pyjamas\")\n",
        "\n",
        "# Get the vector for the token \"bananas\"\n",
        "bananas_vector = doc.vector\n",
        "print(bananas_vector)"
      ],
      "execution_count": 128,
      "outputs": [
        {
          "output_type": "stream",
          "text": [
            "[ 2.07984239e-01 -2.60890484e-01 -1.15457252e-01 -1.96443751e-01\n",
            " -2.83249468e-03  3.55849974e-02 -2.05170006e-01 -2.27374747e-01\n",
            "  8.56052488e-02  1.36894751e+00 -5.74124977e-02  8.06210041e-02\n",
            "  2.37275064e-02  1.17454052e-01 -6.53099641e-03 -1.24400005e-01\n",
            "  1.99086756e-01  6.37722552e-01  1.52916998e-01 -2.33504996e-01\n",
            " -2.40909994e-01 -7.11500049e-02 -9.10753161e-02  7.16734976e-02\n",
            "  1.16262749e-01 -3.91372502e-01  1.13048747e-01 -2.11327493e-01\n",
            "  1.09019078e-01 -2.44885415e-01  3.00577488e-02  4.77855802e-02\n",
            "  7.37800002e-02  2.57142037e-01  2.62586236e-01 -1.66897491e-01\n",
            "  1.87596500e-01 -1.23680010e-02 -1.76299751e-01  1.11685000e-01\n",
            "  1.82024967e-02  9.86500084e-03 -3.58770013e-01 -2.23265499e-01\n",
            " -4.37720008e-02  3.63999486e-01  7.42954984e-02  1.21225506e-01\n",
            "  1.37013003e-01 -5.50666526e-02  2.66017504e-02  8.87180045e-02\n",
            " -1.14092499e-01 -2.02865750e-01  3.63092512e-01 -3.08394760e-01\n",
            "  1.13859497e-01  3.13650146e-02  2.62076259e-01  1.90399922e-02\n",
            "  7.24634901e-02  2.79004984e-02  8.65525007e-02  6.92452565e-02\n",
            " -9.77424979e-02 -1.47966757e-01  2.32025003e-03  1.62278250e-01\n",
            "  1.59857497e-02  3.52048993e-01 -5.51802553e-02  2.13179991e-01\n",
            "  3.63152504e-01  1.01501703e-01  1.73463732e-01  9.20909941e-02\n",
            "  1.27134249e-01  1.00527555e-02  2.44570002e-01 -6.89124968e-03\n",
            "  6.30075037e-02  1.31706819e-01 -1.36811763e-01 -3.73892523e-02\n",
            " -1.71941705e-02 -1.47585243e-01  2.69147515e-01  1.97296605e-01\n",
            " -1.14209257e-01  7.49210045e-02  1.12407543e-02  6.53382465e-02\n",
            "  7.39065409e-02 -1.47568747e-01 -9.98437554e-02  2.56100774e-01\n",
            "  3.41899954e-02 -1.95817441e-01  1.52259752e-01 -2.98299998e-01\n",
            "  3.71480025e-02  1.38142243e-01 -3.84989977e-02 -2.02540010e-02\n",
            "  2.38000415e-03 -8.94232512e-01  1.20125249e-01 -1.48699433e-03\n",
            "  3.07812482e-01  1.31904989e-01  2.28665009e-01 -4.28467512e-01\n",
            " -1.50100499e-01 -3.99947166e-05  7.09750131e-03 -9.08460468e-02\n",
            "  1.15139998e-01  2.73323029e-01  6.97097555e-02  1.37960017e-01\n",
            " -7.76264742e-02 -3.58945057e-02  1.47073746e-01 -2.70538747e-01\n",
            " -4.16769907e-02 -2.20907256e-01  1.29162997e-01  5.66806756e-02\n",
            " -2.10923001e-01 -1.12912245e-01 -1.24349967e-02  2.90902629e-02\n",
            " -9.14399922e-02  1.48545001e-02  1.73015013e-01  2.45295018e-01\n",
            "  2.36412495e-01  1.51691005e-01 -6.30199909e-02  2.67812014e-01\n",
            " -1.31286001e+00 -7.58474991e-02  1.29823506e-01 -1.51231751e-01\n",
            " -8.19625035e-02  1.39788002e-01 -1.48047015e-01  6.38692454e-02\n",
            "  2.33854756e-01 -9.88075137e-03  1.93658501e-01  2.27525085e-03\n",
            "  4.02045511e-02 -4.90897447e-02 -3.33292484e-01 -2.25562245e-01\n",
            " -2.13249400e-03 -1.25110000e-01 -2.07584769e-01 -8.20675045e-02\n",
            " -3.08577478e-01  2.42340490e-01  1.01082012e-01  1.69142485e-02\n",
            " -2.96225518e-01 -2.39765748e-01 -2.06788242e-01 -2.19947502e-01\n",
            "  1.32491991e-01  2.83937510e-02 -2.12792531e-02  2.11183250e-01\n",
            "  7.47520030e-02  5.15667535e-02 -2.79584527e-01  5.96700013e-02\n",
            " -1.40897244e-01 -7.72149861e-03  9.76998210e-02 -2.29924992e-01\n",
            " -3.91512439e-02 -2.62144983e-01 -9.46324915e-02 -1.49488509e-01\n",
            " -4.47402522e-02  4.87175062e-02 -1.00491997e-02 -1.57508999e-01\n",
            "  1.83425248e-01 -7.38234967e-02 -5.53542078e-02  3.62554997e-01\n",
            "  6.00774996e-02 -3.51069048e-02 -2.12482512e-02 -5.44437282e-02\n",
            "  5.77000529e-03 -4.17417213e-02 -2.30720505e-01  3.05450335e-03\n",
            " -2.60736495e-01  9.90725309e-03  1.44257501e-01  1.58988327e-01\n",
            "  3.12480003e-01 -4.21992540e-02  1.47941500e-01 -2.60480493e-03\n",
            " -1.18254803e-01  3.76944989e-02  8.56549889e-02  2.98762500e-01\n",
            " -1.82907507e-01 -5.01237512e-01 -3.22812736e-01 -1.04721501e-01\n",
            " -2.11069018e-01 -1.58998221e-01 -1.63172990e-01 -1.53411508e-01\n",
            " -4.72389996e-01 -2.52688266e-02  6.80677444e-02 -3.47925007e-01\n",
            "  1.00139998e-01  3.17759998e-02 -2.02882513e-02  2.72649899e-02\n",
            "  2.80047543e-02  6.36423454e-02 -2.32529998e-01  1.78696245e-01\n",
            " -4.16299030e-02 -6.78092465e-02 -1.87866479e-01 -3.47625017e-01\n",
            "  5.43992445e-02 -1.05034754e-01  3.68332490e-02  2.01451257e-01\n",
            " -2.68060744e-01 -7.03077465e-02 -3.46807480e-01  1.18331507e-01\n",
            "  3.82332467e-02 -1.15444995e-01 -9.92614999e-02 -4.42850590e-03\n",
            " -3.42225015e-01  3.17104995e-01 -1.48628756e-01 -6.13242462e-02\n",
            " -8.43070000e-02  1.16139993e-01  1.61483496e-01  1.70949996e-01\n",
            "  1.95979327e-01  2.56112486e-01 -2.15889998e-02 -2.78974995e-02\n",
            "  2.59169757e-01  1.79182500e-01 -2.46662006e-01  1.68815508e-01\n",
            " -3.45774740e-03  2.30412483e-01 -1.22785002e-01  2.36632437e-01\n",
            " -4.52876002e-01 -3.92082512e-01 -2.01881751e-01 -1.27992496e-01\n",
            "  2.75517516e-02  5.54060042e-02 -3.12609941e-01  1.01338752e-01\n",
            "  1.83728248e-01  4.08405006e-01  1.23905048e-01  4.37955022e-01\n",
            "  2.54640013e-01 -6.01055101e-02 -2.90097505e-01  7.99837485e-02\n",
            "  6.81065023e-02  6.80774972e-02  1.45408496e-01 -1.65033251e-01\n",
            " -6.48526996e-02 -1.71237499e-01 -5.75472489e-02 -4.43175063e-03\n",
            "  2.72267759e-01 -2.11504504e-01 -2.87027508e-01  3.25110495e-01\n",
            " -4.72727492e-02 -3.86672527e-01  2.08224997e-01  1.24032997e-01]\n"
          ],
          "name": "stdout"
        }
      ]
    },
    {
      "cell_type": "code",
      "metadata": {
        "id": "AJkRzXQIesDa",
        "colab_type": "code",
        "colab": {
          "base_uri": "https://localhost:8080/",
          "height": 34
        },
        "outputId": "a9c3562d-8b66-4eda-b789-6009d0357636"
      },
      "source": [
        "len(bananas_vector)"
      ],
      "execution_count": 126,
      "outputs": [
        {
          "output_type": "execute_result",
          "data": {
            "text/plain": [
              "300"
            ]
          },
          "metadata": {
            "tags": []
          },
          "execution_count": 126
        }
      ]
    },
    {
      "cell_type": "code",
      "metadata": {
        "id": "M8tkj04YWRUD",
        "colab_type": "code",
        "colab": {}
      },
      "source": [
        "string1=\"different texts all give the same vector dimensions 300\"\n",
        "doc1 = nlp(string1)"
      ],
      "execution_count": 130,
      "outputs": []
    },
    {
      "cell_type": "code",
      "metadata": {
        "id": "llMQEYunesDc",
        "colab_type": "code",
        "colab": {
          "base_uri": "https://localhost:8080/",
          "height": 34
        },
        "outputId": "74c953b7-1bcf-4262-b6af-a9127dda3a3c"
      },
      "source": [
        "# Depth of the trained neural network is 300\n",
        "print(len(doc1.vector))"
      ],
      "execution_count": 131,
      "outputs": [
        {
          "output_type": "stream",
          "text": [
            "300\n"
          ],
          "name": "stdout"
        }
      ]
    },
    {
      "cell_type": "code",
      "metadata": {
        "id": "1lpPoaqIesDf",
        "colab_type": "code",
        "colab": {
          "base_uri": "https://localhost:8080/",
          "height": 34
        },
        "outputId": "3c31515a-f65b-46d0-935d-da2f8509875d"
      },
      "source": [
        "doc1 = nlp(\"It's a warm summer day\")\n",
        "doc2 = nlp(\"I like dogs.\")\n",
        "\n",
        "# Get the similarity of doc1 and doc2\n",
        "similarity = doc1.similarity(doc2)\n",
        "print(similarity)"
      ],
      "execution_count": 132,
      "outputs": [
        {
          "output_type": "stream",
          "text": [
            "0.6325916466756616\n"
          ],
          "name": "stdout"
        }
      ]
    },
    {
      "cell_type": "code",
      "metadata": {
        "id": "pIFgxh3YesDg",
        "colab_type": "code",
        "colab": {},
        "outputId": "98fd5b94-b9d1-41c5-e5f3-82741368bd6a"
      },
      "source": [
        "type(doc1)"
      ],
      "execution_count": null,
      "outputs": [
        {
          "output_type": "execute_result",
          "data": {
            "text/plain": [
              "spacy.tokens.doc.Doc"
            ]
          },
          "metadata": {
            "tags": []
          },
          "execution_count": 129
        }
      ]
    },
    {
      "cell_type": "code",
      "metadata": {
        "id": "KPvC4Pv1esDi",
        "colab_type": "code",
        "colab": {},
        "outputId": "1e9f3024-4bcd-405f-aaa1-ad207eb5fa2b"
      },
      "source": [
        "dir(doc1)"
      ],
      "execution_count": null,
      "outputs": [
        {
          "output_type": "execute_result",
          "data": {
            "text/plain": [
              "['_',\n",
              " '__bytes__',\n",
              " '__class__',\n",
              " '__delattr__',\n",
              " '__dir__',\n",
              " '__doc__',\n",
              " '__eq__',\n",
              " '__format__',\n",
              " '__ge__',\n",
              " '__getattribute__',\n",
              " '__getitem__',\n",
              " '__gt__',\n",
              " '__hash__',\n",
              " '__init__',\n",
              " '__init_subclass__',\n",
              " '__iter__',\n",
              " '__le__',\n",
              " '__len__',\n",
              " '__lt__',\n",
              " '__ne__',\n",
              " '__new__',\n",
              " '__pyx_vtable__',\n",
              " '__reduce__',\n",
              " '__reduce_ex__',\n",
              " '__repr__',\n",
              " '__setattr__',\n",
              " '__setstate__',\n",
              " '__sizeof__',\n",
              " '__str__',\n",
              " '__subclasshook__',\n",
              " '__unicode__',\n",
              " '_bulk_merge',\n",
              " '_py_tokens',\n",
              " '_realloc',\n",
              " '_vector',\n",
              " '_vector_norm',\n",
              " 'cats',\n",
              " 'char_span',\n",
              " 'count_by',\n",
              " 'doc',\n",
              " 'ents',\n",
              " 'extend_tensor',\n",
              " 'from_array',\n",
              " 'from_bytes',\n",
              " 'from_disk',\n",
              " 'get_extension',\n",
              " 'get_lca_matrix',\n",
              " 'has_extension',\n",
              " 'has_vector',\n",
              " 'is_nered',\n",
              " 'is_parsed',\n",
              " 'is_sentenced',\n",
              " 'is_tagged',\n",
              " 'lang',\n",
              " 'lang_',\n",
              " 'mem',\n",
              " 'merge',\n",
              " 'noun_chunks',\n",
              " 'noun_chunks_iterator',\n",
              " 'print_tree',\n",
              " 'remove_extension',\n",
              " 'retokenize',\n",
              " 'sentiment',\n",
              " 'sents',\n",
              " 'set_extension',\n",
              " 'similarity',\n",
              " 'tensor',\n",
              " 'text',\n",
              " 'text_with_ws',\n",
              " 'to_array',\n",
              " 'to_bytes',\n",
              " 'to_disk',\n",
              " 'to_json',\n",
              " 'to_utf8_array',\n",
              " 'user_data',\n",
              " 'user_hooks',\n",
              " 'user_span_hooks',\n",
              " 'user_token_hooks',\n",
              " 'vector',\n",
              " 'vector_norm',\n",
              " 'vocab']"
            ]
          },
          "metadata": {
            "tags": []
          },
          "execution_count": 130
        }
      ]
    },
    {
      "cell_type": "code",
      "metadata": {
        "id": "-AVqR3zoesDk",
        "colab_type": "code",
        "colab": {},
        "outputId": "d364ed9a-412a-4db2-bded-d1a0c1252f63"
      },
      "source": [
        "print(doc1.vocab)"
      ],
      "execution_count": null,
      "outputs": [
        {
          "output_type": "stream",
          "text": [
            "<spacy.vocab.Vocab object at 0x7fca6bdc53c8>\n"
          ],
          "name": "stdout"
        }
      ]
    },
    {
      "cell_type": "code",
      "metadata": {
        "id": "FG9pIkAuesDn",
        "colab_type": "code",
        "colab": {},
        "outputId": "a9199fc1-053a-4780-851b-81dc7969dc2b"
      },
      "source": [
        "# import the PCA module from sklearn\n",
        "from sklearn.decomposition import PCA\n",
        "\n",
        "def get_word_vectors(words):\n",
        "    # converts a list of words into their word vectors\n",
        "    return [nlp(word).vector for word in words]\n",
        "\n",
        "words = ['machine learning', 'artificial intelligence', 'data', 'science', 'concrete', 'wood', 'marble', 'design', 'color', 'font']\n",
        "\n",
        "# intialise pca model and tell it to project data down onto 2 dimensions\n",
        "pca = PCA(n_components=2)\n",
        "\n",
        "# fit the pca model to our 300D data, this will work out which is the best \n",
        "# way to project the data down that will best maintain the relative distances \n",
        "# between data points. It will store these intructioons on how to transform the data.\n",
        "pca.fit(get_word_vectors(words))\n",
        "\n",
        "# Tell our (fitted) pca model to transform our 300D data down onto 2D using the \n",
        "# instructions it learnt during the fit phase.\n",
        "word_vecs_2d = pca.transform(get_word_vectors(words))\n",
        "\n",
        "# let's look at our new 2D word vectors\n",
        "print(len(words), word_vecs_2d.shape)\n",
        "word_vecs_2d\n"
      ],
      "execution_count": null,
      "outputs": [
        {
          "output_type": "stream",
          "text": [
            "10 (10, 2)\n"
          ],
          "name": "stdout"
        },
        {
          "output_type": "execute_result",
          "data": {
            "text/plain": [
              "array([[-1.29846515, -0.88155418],\n",
              "       [-1.62628971, -1.94850689],\n",
              "       [-3.8285996 ,  0.03596667],\n",
              "       [-3.21349043, -2.8543472 ],\n",
              "       [ 2.25714484, -2.22704724],\n",
              "       [ 4.03639721, -0.86305359],\n",
              "       [ 4.63812987, -0.30060372],\n",
              "       [-0.39505019,  0.41715987],\n",
              "       [ 0.16042038,  3.38749686],\n",
              "       [-0.73019722,  5.23448942]])"
            ]
          },
          "metadata": {
            "tags": []
          },
          "execution_count": 138
        }
      ]
    },
    {
      "cell_type": "code",
      "metadata": {
        "id": "xf7qkjyiesDp",
        "colab_type": "code",
        "colab": {},
        "outputId": "c5d088da-f256-4df3-d61d-8350f7bf96b5"
      },
      "source": [
        "# create a plot \n",
        "plt.figure(figsize=(20,15))\n",
        "\n",
        "# plot the scatter plot of where the words will be\n",
        "plt.scatter(word_vecs_2d[:,0], word_vecs_2d[:,1])\n",
        "\n",
        "# for each word and coordinate pair: draw the text on the plot\n",
        "for word, coord in zip(words, word_vecs_2d):\n",
        "    x, y = coord\n",
        "    plt.text(x, y, word, size= 15)\n",
        "\n",
        "# show the plot|\n",
        "plt.show()"
      ],
      "execution_count": null,
      "outputs": [
        {
          "output_type": "display_data",
          "data": {
            "image/png": "[encoded data removed]",
            "text/plain": [
              "<Figure size 1440x1080 with 1 Axes>"
            ]
          },
          "metadata": {
            "tags": [],
            "needs_background": "light"
          }
        }
      ]
    },
    {
      "cell_type": "markdown",
      "metadata": {
        "id": "j0GzzqPoesDq",
        "colab_type": "text"
      },
      "source": [
        "## Follow Along\n",
        "### Extract Document Vectors\n",
        "\n",
        "Let's see how much the quality of our query will work when we try a new embedding model.\n",
        "\n",
        "Steps:\n",
        "* Extract Vectors from Each Document\n",
        "* Search using KNN\n"
      ]
    },
    {
      "cell_type": "code",
      "metadata": {
        "id": "1tEPB6FuesDr",
        "colab_type": "code",
        "colab": {}
      },
      "source": [
        "X = [nlp(str(d)).vector for d in data]"
      ],
      "execution_count": 133,
      "outputs": []
    },
    {
      "cell_type": "code",
      "metadata": {
        "id": "rCoix2XUesDt",
        "colab_type": "code",
        "colab": {
          "base_uri": "https://localhost:8080/",
          "height": 34
        },
        "outputId": "4d5aedc2-76ac-4f05-c907-88ebaf454d0a"
      },
      "source": [
        "X_df = pd.DataFrame(X)\n",
        "X_df.shape"
      ],
      "execution_count": 135,
      "outputs": [
        {
          "output_type": "execute_result",
          "data": {
            "text/plain": [
              "(401, 300)"
            ]
          },
          "metadata": {
            "tags": []
          },
          "execution_count": 135
        }
      ]
    },
    {
      "cell_type": "code",
      "metadata": {
        "id": "q_nJw5jXaGVq",
        "colab_type": "code",
        "colab": {
          "base_uri": "https://localhost:8080/",
          "height": 68
        },
        "outputId": "1c57676f-87d6-4db5-a532-00cfa0e868b9"
      },
      "source": [
        "# knn fit\n",
        "nn = NearestNeighbors(n_neighbors=5, algorithm='kd_tree')\n",
        "nn.fit(X_df)"
      ],
      "execution_count": 136,
      "outputs": [
        {
          "output_type": "execute_result",
          "data": {
            "text/plain": [
              "NearestNeighbors(algorithm='kd_tree', leaf_size=30, metric='minkowski',\n",
              "                 metric_params=None, n_jobs=None, n_neighbors=5, p=2,\n",
              "                 radius=1.0)"
            ]
          },
          "metadata": {
            "tags": []
          },
          "execution_count": 136
        }
      ]
    },
    {
      "cell_type": "code",
      "metadata": {
        "id": "AVQoKrXPc1du",
        "colab_type": "code",
        "colab": {
          "base_uri": "https://localhost:8080/",
          "height": 34
        },
        "outputId": "4d9f340f-37c9-483b-d4d4-222a71a9b524"
      },
      "source": [
        "X_df[0].shape, X_df.iloc[0].shape"
      ],
      "execution_count": 144,
      "outputs": [
        {
          "output_type": "execute_result",
          "data": {
            "text/plain": [
              "((401,), (300,))"
            ]
          },
          "metadata": {
            "tags": []
          },
          "execution_count": 144
        }
      ]
    },
    {
      "cell_type": "code",
      "metadata": {
        "id": "7EjeWoKQa9P8",
        "colab_type": "code",
        "colab": {
          "base_uri": "https://localhost:8080/",
          "height": 51
        },
        "outputId": "2893fd55-5b99-48a7-a035-e2b5e16e5653"
      },
      "source": [
        "# knn needs a np.ndarray of 1 sample and 300 features\n",
        "nn.kneighbors(X_df.iloc[0].values.reshape(1,-1))"
      ],
      "execution_count": 143,
      "outputs": [
        {
          "output_type": "execute_result",
          "data": {
            "text/plain": [
              "(array([[0.        , 0.        , 0.59800228, 0.59800228, 0.63739912]]),\n",
              " array([[  0,  85, 257, 245, 253]]))"
            ]
          },
          "metadata": {
            "tags": []
          },
          "execution_count": 143
        }
      ]
    },
    {
      "cell_type": "markdown",
      "metadata": {
        "id": "pPFbq6fyesDu",
        "colab_type": "text"
      },
      "source": [
        "## Challenge\n",
        "\n",
        "You will extract word embeddings from documents using Spacy's pre-trained model in the upcoming module project. "
      ]
    },
    {
      "cell_type": "markdown",
      "metadata": {
        "id": "rqKg7BMxesDu",
        "colab_type": "text"
      },
      "source": [
        "# Review\n",
        "For your module project assignment you will create vector representations of indeed.com Data Science job listings. You will then estimate a similarity model to perform searches for job descriptions. Get started with your [module project here](./LS_DS_412_Vector_Representations_Assignment.ipynb)"
      ]
    },
    {
      "cell_type": "markdown",
      "metadata": {
        "id": "SBY3HrceesDu",
        "colab_type": "text"
      },
      "source": [
        "# Sources\n",
        "\n",
        "* Spacy 101 - https://course.spacy.io\n",
        "* NLTK Book - https://www.nltk.org/book/\n",
        "* An Introduction to Information Retrieval - https://nlp.stanford.edu/IR-book/pdf/irbookonlinereading.pdf"
      ]
    }
  ]
}