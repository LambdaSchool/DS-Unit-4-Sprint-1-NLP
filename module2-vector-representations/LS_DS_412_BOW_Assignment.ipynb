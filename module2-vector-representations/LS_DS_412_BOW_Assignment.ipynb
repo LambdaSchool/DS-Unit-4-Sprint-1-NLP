{
  "nbformat": 4,
  "nbformat_minor": 0,
  "metadata": {
    "colab": {
      "name": "LS_DS_412_BOW_Assignment.ipynb",
      "provenance": [],
      "collapsed_sections": []
    },
    "kernel_info": {
      "name": "python3"
    },
    "kernelspec": {
      "display_name": "U4-S1-NLP (Python 3)",
      "language": "python",
      "name": "u4-s1-nlp"
    },
    "language_info": {
      "codemirror_mode": {
        "name": "ipython",
        "version": 3
      },
      "file_extension": ".py",
      "mimetype": "text/x-python",
      "name": "python",
      "nbconvert_exporter": "python",
      "pygments_lexer": "ipython3",
      "version": "3.7.3"
    },
    "nteract": {
      "version": "0.14.3"
    }
  },
  "cells": [
    {
      "cell_type": "markdown",
      "metadata": {
        "id": "byMxMJwQ_sF7",
        "colab_type": "text"
      },
      "source": [
        "<img align=\"left\" src=\"https://lever-client-logos.s3.amazonaws.com/864372b1-534c-480e-acd5-9711f850815c-1524247202159.png\" width=200>\n",
        "<br></br>\n",
        "\n",
        "# Vector Representations\n",
        "## *Data Science Unit 4 Sprint 2 Assignment 2*"
      ]
    },
    {
      "cell_type": "code",
      "metadata": {
        "colab_type": "code",
        "id": "hyj-f9FDcVFp",
        "colab": {}
      },
      "source": [
        "import re\n",
        "import string\n",
        "\n",
        "from sklearn.feature_extraction.text import CountVectorizer, TfidfVectorizer\n",
        "import matplotlib.pyplot as plt\n",
        "import pandas as pd\n",
        "import numpy as np\n",
        "import spacy"
      ],
      "execution_count": 0,
      "outputs": []
    },
    {
      "cell_type": "markdown",
      "metadata": {
        "colab_type": "text",
        "id": "M7bcmqfGXrFG"
      },
      "source": [
        "## 1) *Optional:* Scrape 100 Job Listings that contain the title \"Data Scientist\" from indeed.com\n",
        "\n",
        "At a minimum your final dataframe of job listings should contain\n",
        "- Job Title\n",
        "- Job Description\n",
        "\n",
        "If you choose to not to scrape the data, there is a CSV with outdated data in the directory. Remember, if you scrape Indeed, you're helping yourself find a job. ;)"
      ]
    },
    {
      "cell_type": "code",
      "metadata": {
        "colab_type": "code",
        "id": "KcYlc1URXhlC",
        "colab": {}
      },
      "source": [
        "df = pd.read_csv('job_listings.csv', encoding='utf-8')"
      ],
      "execution_count": 0,
      "outputs": []
    },
    {
      "cell_type": "code",
      "metadata": {
        "id": "63EJzUeeAKMD",
        "colab_type": "code",
        "outputId": "24e2ab8f-4ebb-44a9-bf5a-045ef27bf11b",
        "colab": {
          "base_uri": "https://localhost:8080/",
          "height": 206
        }
      },
      "source": [
        "df.head()"
      ],
      "execution_count": 3,
      "outputs": [
        {
          "output_type": "execute_result",
          "data": {
            "text/html": [
              "<div>\n",
              "<style scoped>\n",
              "    .dataframe tbody tr th:only-of-type {\n",
              "        vertical-align: middle;\n",
              "    }\n",
              "\n",
              "    .dataframe tbody tr th {\n",
              "        vertical-align: top;\n",
              "    }\n",
              "\n",
              "    .dataframe thead th {\n",
              "        text-align: right;\n",
              "    }\n",
              "</style>\n",
              "<table border=\"1\" class=\"dataframe\">\n",
              "  <thead>\n",
              "    <tr style=\"text-align: right;\">\n",
              "      <th></th>\n",
              "      <th>Unnamed: 0</th>\n",
              "      <th>description</th>\n",
              "      <th>title</th>\n",
              "    </tr>\n",
              "  </thead>\n",
              "  <tbody>\n",
              "    <tr>\n",
              "      <th>0</th>\n",
              "      <td>0</td>\n",
              "      <td>b\"&lt;div&gt;&lt;div&gt;Job Requirements:&lt;/div&gt;&lt;ul&gt;&lt;li&gt;&lt;p&gt;...</td>\n",
              "      <td>Data scientist</td>\n",
              "    </tr>\n",
              "    <tr>\n",
              "      <th>1</th>\n",
              "      <td>1</td>\n",
              "      <td>b'&lt;div&gt;Job Description&lt;br/&gt;\\n&lt;br/&gt;\\n&lt;p&gt;As a Da...</td>\n",
              "      <td>Data Scientist I</td>\n",
              "    </tr>\n",
              "    <tr>\n",
              "      <th>2</th>\n",
              "      <td>2</td>\n",
              "      <td>b'&lt;div&gt;&lt;p&gt;As a Data Scientist you will be work...</td>\n",
              "      <td>Data Scientist - Entry Level</td>\n",
              "    </tr>\n",
              "    <tr>\n",
              "      <th>3</th>\n",
              "      <td>3</td>\n",
              "      <td>b'&lt;div class=\"jobsearch-JobMetadataHeader icl-...</td>\n",
              "      <td>Data Scientist</td>\n",
              "    </tr>\n",
              "    <tr>\n",
              "      <th>4</th>\n",
              "      <td>4</td>\n",
              "      <td>b'&lt;ul&gt;&lt;li&gt;Location: USA \\xe2\\x80\\x93 multiple ...</td>\n",
              "      <td>Data Scientist</td>\n",
              "    </tr>\n",
              "  </tbody>\n",
              "</table>\n",
              "</div>"
            ],
            "text/plain": [
              "   Unnamed: 0  ...                         title\n",
              "0           0  ...               Data scientist \n",
              "1           1  ...              Data Scientist I\n",
              "2           2  ...  Data Scientist - Entry Level\n",
              "3           3  ...                Data Scientist\n",
              "4           4  ...                Data Scientist\n",
              "\n",
              "[5 rows x 3 columns]"
            ]
          },
          "metadata": {
            "tags": []
          },
          "execution_count": 3
        }
      ]
    },
    {
      "cell_type": "code",
      "metadata": {
        "id": "MLZSPoP-ATfj",
        "colab_type": "code",
        "colab": {}
      },
      "source": [
        "# Remove html tags.\n",
        "df['description'] = df['description'].str.replace(r'<.*?>', ' ')"
      ],
      "execution_count": 0,
      "outputs": []
    },
    {
      "cell_type": "code",
      "metadata": {
        "id": "dx0djMUSSezp",
        "colab_type": "code",
        "colab": {}
      },
      "source": [
        "# Remove annoying unicode characters.\n",
        "df['description'] = df['description'].str.replace(r'\\\\x..', ' ')"
      ],
      "execution_count": 0,
      "outputs": []
    },
    {
      "cell_type": "code",
      "metadata": {
        "id": "PHYx4hSHA4Zz",
        "colab_type": "code",
        "colab": {}
      },
      "source": [
        "# Reduce any excess whitespace to a single space per instance.\n",
        "df['description'] = df['description'].str.replace(r'\\s+', ' ').str.strip()"
      ],
      "execution_count": 0,
      "outputs": []
    },
    {
      "cell_type": "code",
      "metadata": {
        "id": "zLog9lylL8Gm",
        "colab_type": "code",
        "outputId": "5302e1d8-23e5-4cc4-c55c-4ea28492387c",
        "colab": {
          "base_uri": "https://localhost:8080/",
          "height": 206
        }
      },
      "source": [
        "df.head()"
      ],
      "execution_count": 7,
      "outputs": [
        {
          "output_type": "execute_result",
          "data": {
            "text/html": [
              "<div>\n",
              "<style scoped>\n",
              "    .dataframe tbody tr th:only-of-type {\n",
              "        vertical-align: middle;\n",
              "    }\n",
              "\n",
              "    .dataframe tbody tr th {\n",
              "        vertical-align: top;\n",
              "    }\n",
              "\n",
              "    .dataframe thead th {\n",
              "        text-align: right;\n",
              "    }\n",
              "</style>\n",
              "<table border=\"1\" class=\"dataframe\">\n",
              "  <thead>\n",
              "    <tr style=\"text-align: right;\">\n",
              "      <th></th>\n",
              "      <th>Unnamed: 0</th>\n",
              "      <th>description</th>\n",
              "      <th>title</th>\n",
              "    </tr>\n",
              "  </thead>\n",
              "  <tbody>\n",
              "    <tr>\n",
              "      <th>0</th>\n",
              "      <td>0</td>\n",
              "      <td>b\" Job Requirements: \\nConceptual understandin...</td>\n",
              "      <td>Data scientist</td>\n",
              "    </tr>\n",
              "    <tr>\n",
              "      <th>1</th>\n",
              "      <td>1</td>\n",
              "      <td>b' Job Description \\n \\n As a Data Scientist 1...</td>\n",
              "      <td>Data Scientist I</td>\n",
              "    </tr>\n",
              "    <tr>\n",
              "      <th>2</th>\n",
              "      <td>2</td>\n",
              "      <td>b' As a Data Scientist you will be working on ...</td>\n",
              "      <td>Data Scientist - Entry Level</td>\n",
              "    </tr>\n",
              "    <tr>\n",
              "      <th>3</th>\n",
              "      <td>3</td>\n",
              "      <td>b' $4,969 - $6,756 a month Contract Under the ...</td>\n",
              "      <td>Data Scientist</td>\n",
              "    </tr>\n",
              "    <tr>\n",
              "      <th>4</th>\n",
              "      <td>4</td>\n",
              "      <td>b' Location: USA multiple locations \\n 2+ year...</td>\n",
              "      <td>Data Scientist</td>\n",
              "    </tr>\n",
              "  </tbody>\n",
              "</table>\n",
              "</div>"
            ],
            "text/plain": [
              "   Unnamed: 0  ...                         title\n",
              "0           0  ...               Data scientist \n",
              "1           1  ...              Data Scientist I\n",
              "2           2  ...  Data Scientist - Entry Level\n",
              "3           3  ...                Data Scientist\n",
              "4           4  ...                Data Scientist\n",
              "\n",
              "[5 rows x 3 columns]"
            ]
          },
          "metadata": {
            "tags": []
          },
          "execution_count": 7
        }
      ]
    },
    {
      "cell_type": "markdown",
      "metadata": {
        "colab_type": "text",
        "id": "5C4xFZNtX1m2"
      },
      "source": [
        "## 2) Use Spacy to tokenize / clean the listings "
      ]
    },
    {
      "cell_type": "code",
      "metadata": {
        "colab_type": "code",
        "id": "dhUHuMr-X-II",
        "colab": {}
      },
      "source": [
        "nlp = spacy.load('en_core_web_sm')"
      ],
      "execution_count": 0,
      "outputs": []
    },
    {
      "cell_type": "code",
      "metadata": {
        "id": "_cXnR5e4MLgG",
        "colab_type": "code",
        "colab": {}
      },
      "source": [
        "docs = df['description'].apply(nlp)"
      ],
      "execution_count": 0,
      "outputs": []
    },
    {
      "cell_type": "code",
      "metadata": {
        "id": "b8Ah7reBO0dC",
        "colab_type": "code",
        "colab": {}
      },
      "source": [
        "data = []\n",
        "for doc in docs:\n",
        "  data.append(' '.join([token.lemma_ for token in doc if (token.is_stop != True) \\\n",
        "               and (token.is_punct != True)]))"
      ],
      "execution_count": 0,
      "outputs": []
    },
    {
      "cell_type": "markdown",
      "metadata": {
        "colab_type": "text",
        "id": "-lgCZNL_YycP"
      },
      "source": [
        "## 3) Use Scikit-Learn's CountVectorizer to get word counts for each listing."
      ]
    },
    {
      "cell_type": "code",
      "metadata": {
        "colab_type": "code",
        "id": "X2PZ8Pj_YxcF",
        "colab": {}
      },
      "source": [
        "vect = CountVectorizer(stop_words='english')\n",
        "vect.fit(data)\n",
        "dtm = vect.transform(data)\n",
        "df2 = pd.DataFrame(data=dtm.todense(), columns=vect.get_feature_names())"
      ],
      "execution_count": 0,
      "outputs": []
    },
    {
      "cell_type": "markdown",
      "metadata": {
        "colab_type": "text",
        "id": "Zo1iH_UeY7_n"
      },
      "source": [
        "## 4) Visualize the most common word counts"
      ]
    },
    {
      "cell_type": "code",
      "metadata": {
        "colab_type": "code",
        "id": "M5LB00uyZKV5",
        "colab": {
          "base_uri": "https://localhost:8080/",
          "height": 311
        },
        "outputId": "6603ea64-7c57-4f7a-ec20-d1b58caff57e"
      },
      "source": [
        "df2.sum().sort_values(ascending=False).head(10).plot.bar();"
      ],
      "execution_count": 12,
      "outputs": [
        {
          "output_type": "display_data",
          "data": {
            "image/png": "[encoded data removed]",
            "text/plain": [
              "<Figure size 432x288 with 1 Axes>"
            ]
          },
          "metadata": {
            "tags": []
          }
        }
      ]
    },
    {
      "cell_type": "markdown",
      "metadata": {
        "colab_type": "text",
        "id": "bwFsTqrVZMYi"
      },
      "source": [
        "## 5) Use Scikit-Learn's tfidfVectorizer to get a TF-IDF feature matrix"
      ]
    },
    {
      "cell_type": "code",
      "metadata": {
        "colab_type": "code",
        "id": "-gx2gZCbl5Np",
        "colab": {
          "base_uri": "https://localhost:8080/",
          "height": 273
        },
        "outputId": "dd48a0d4-b986-4f54-eac0-b5223767d2d3"
      },
      "source": [
        "# Instantiate vectorizer object\n",
        "tfidf = TfidfVectorizer(min_df=0.025, \n",
        "                        max_df=0.98,\n",
        "                        ngram_range=(1,2))\n",
        "\n",
        "# Create a vocabulary and get word counts per document\n",
        "dtm = tfidf.fit_transform(data)\n",
        "\n",
        "# Print word counts\n",
        "\n",
        "# Get feature names to use as dataframe column headers\n",
        "dtm = pd.DataFrame(dtm.todense(), columns=tfidf.get_feature_names())\n",
        "\n",
        "# View Feature Matrix as DataFrame\n",
        "dtm.head()"
      ],
      "execution_count": 16,
      "outputs": [
        {
          "output_type": "execute_result",
          "data": {
            "text/html": [
              "<div>\n",
              "<style scoped>\n",
              "    .dataframe tbody tr th:only-of-type {\n",
              "        vertical-align: middle;\n",
              "    }\n",
              "\n",
              "    .dataframe tbody tr th {\n",
              "        vertical-align: top;\n",
              "    }\n",
              "\n",
              "    .dataframe thead th {\n",
              "        text-align: right;\n",
              "    }\n",
              "</style>\n",
              "<table border=\"1\" class=\"dataframe\">\n",
              "  <thead>\n",
              "    <tr style=\"text-align: right;\">\n",
              "      <th></th>\n",
              "      <th>000</th>\n",
              "      <th>000 year</th>\n",
              "      <th>10</th>\n",
              "      <th>100</th>\n",
              "      <th>12</th>\n",
              "      <th>15</th>\n",
              "      <th>20</th>\n",
              "      <th>2019</th>\n",
              "      <th>25</th>\n",
              "      <th>3rd</th>\n",
              "      <th>3rd party</th>\n",
              "      <th>40</th>\n",
              "      <th>401</th>\n",
              "      <th>500</th>\n",
              "      <th>600</th>\n",
              "      <th>600 city</th>\n",
              "      <th>ability</th>\n",
              "      <th>ability build</th>\n",
              "      <th>ability communicate</th>\n",
              "      <th>ability translate</th>\n",
              "      <th>ability work</th>\n",
              "      <th>ability write</th>\n",
              "      <th>able</th>\n",
              "      <th>able work</th>\n",
              "      <th>about</th>\n",
              "      <th>academic</th>\n",
              "      <th>accelerate</th>\n",
              "      <th>accept</th>\n",
              "      <th>accept unsolicited</th>\n",
              "      <th>access</th>\n",
              "      <th>accessible</th>\n",
              "      <th>accommodation</th>\n",
              "      <th>accomplish</th>\n",
              "      <th>accord</th>\n",
              "      <th>accordance</th>\n",
              "      <th>account</th>\n",
              "      <th>accountability</th>\n",
              "      <th>accredited</th>\n",
              "      <th>accuracy</th>\n",
              "      <th>accurate</th>\n",
              "      <th>...</th>\n",
              "      <th>work fast</th>\n",
              "      <th>work independently</th>\n",
              "      <th>work large</th>\n",
              "      <th>work let</th>\n",
              "      <th>work life</th>\n",
              "      <th>work multiple</th>\n",
              "      <th>work product</th>\n",
              "      <th>work stakeholder</th>\n",
              "      <th>work team</th>\n",
              "      <th>worker</th>\n",
              "      <th>workflow</th>\n",
              "      <th>workforce</th>\n",
              "      <th>working</th>\n",
              "      <th>workplace</th>\n",
              "      <th>world</th>\n",
              "      <th>world class</th>\n",
              "      <th>world forward</th>\n",
              "      <th>world large</th>\n",
              "      <th>world lead</th>\n",
              "      <th>world motion</th>\n",
              "      <th>world nwe</th>\n",
              "      <th>world problem</th>\n",
              "      <th>worldwide</th>\n",
              "      <th>write</th>\n",
              "      <th>write code</th>\n",
              "      <th>write communication</th>\n",
              "      <th>write verbal</th>\n",
              "      <th>writing</th>\n",
              "      <th>www</th>\n",
              "      <th>year</th>\n",
              "      <th>year experience</th>\n",
              "      <th>year hand</th>\n",
              "      <th>year industry</th>\n",
              "      <th>year professional</th>\n",
              "      <th>year relevant</th>\n",
              "      <th>year work</th>\n",
              "      <th>york</th>\n",
              "      <th>york city</th>\n",
              "      <th>you</th>\n",
              "      <th>you ll</th>\n",
              "    </tr>\n",
              "  </thead>\n",
              "  <tbody>\n",
              "    <tr>\n",
              "      <th>0</th>\n",
              "      <td>0.0</td>\n",
              "      <td>0.0</td>\n",
              "      <td>0.0</td>\n",
              "      <td>0.0</td>\n",
              "      <td>0.0</td>\n",
              "      <td>0.0</td>\n",
              "      <td>0.0</td>\n",
              "      <td>0.0</td>\n",
              "      <td>0.0</td>\n",
              "      <td>0.0</td>\n",
              "      <td>0.0</td>\n",
              "      <td>0.0</td>\n",
              "      <td>0.0</td>\n",
              "      <td>0.0</td>\n",
              "      <td>0.0</td>\n",
              "      <td>0.0</td>\n",
              "      <td>0.114126</td>\n",
              "      <td>0.0</td>\n",
              "      <td>0.137492</td>\n",
              "      <td>0.0</td>\n",
              "      <td>0.0</td>\n",
              "      <td>0.160304</td>\n",
              "      <td>0.0</td>\n",
              "      <td>0.0</td>\n",
              "      <td>0.0</td>\n",
              "      <td>0.0</td>\n",
              "      <td>0.0</td>\n",
              "      <td>0.0</td>\n",
              "      <td>0.0</td>\n",
              "      <td>0.0</td>\n",
              "      <td>0.0</td>\n",
              "      <td>0.0</td>\n",
              "      <td>0.0</td>\n",
              "      <td>0.00000</td>\n",
              "      <td>0.0</td>\n",
              "      <td>0.0</td>\n",
              "      <td>0.0</td>\n",
              "      <td>0.0</td>\n",
              "      <td>0.000000</td>\n",
              "      <td>0.0</td>\n",
              "      <td>...</td>\n",
              "      <td>0.0</td>\n",
              "      <td>0.0</td>\n",
              "      <td>0.0</td>\n",
              "      <td>0.0</td>\n",
              "      <td>0.0</td>\n",
              "      <td>0.0</td>\n",
              "      <td>0.00000</td>\n",
              "      <td>0.0</td>\n",
              "      <td>0.0</td>\n",
              "      <td>0.0</td>\n",
              "      <td>0.0</td>\n",
              "      <td>0.0</td>\n",
              "      <td>0.0</td>\n",
              "      <td>0.0</td>\n",
              "      <td>0.000000</td>\n",
              "      <td>0.0</td>\n",
              "      <td>0.0</td>\n",
              "      <td>0.0</td>\n",
              "      <td>0.0</td>\n",
              "      <td>0.0</td>\n",
              "      <td>0.0</td>\n",
              "      <td>0.0</td>\n",
              "      <td>0.0</td>\n",
              "      <td>0.068402</td>\n",
              "      <td>0.0</td>\n",
              "      <td>0.0</td>\n",
              "      <td>0.0</td>\n",
              "      <td>0.000000</td>\n",
              "      <td>0.0</td>\n",
              "      <td>0.000000</td>\n",
              "      <td>0.0</td>\n",
              "      <td>0.0</td>\n",
              "      <td>0.0</td>\n",
              "      <td>0.0</td>\n",
              "      <td>0.0</td>\n",
              "      <td>0.0</td>\n",
              "      <td>0.0</td>\n",
              "      <td>0.0</td>\n",
              "      <td>0.0</td>\n",
              "      <td>0.0</td>\n",
              "    </tr>\n",
              "    <tr>\n",
              "      <th>1</th>\n",
              "      <td>0.0</td>\n",
              "      <td>0.0</td>\n",
              "      <td>0.0</td>\n",
              "      <td>0.0</td>\n",
              "      <td>0.0</td>\n",
              "      <td>0.0</td>\n",
              "      <td>0.0</td>\n",
              "      <td>0.0</td>\n",
              "      <td>0.0</td>\n",
              "      <td>0.0</td>\n",
              "      <td>0.0</td>\n",
              "      <td>0.0</td>\n",
              "      <td>0.0</td>\n",
              "      <td>0.0</td>\n",
              "      <td>0.0</td>\n",
              "      <td>0.0</td>\n",
              "      <td>0.025156</td>\n",
              "      <td>0.0</td>\n",
              "      <td>0.060613</td>\n",
              "      <td>0.0</td>\n",
              "      <td>0.0</td>\n",
              "      <td>0.000000</td>\n",
              "      <td>0.0</td>\n",
              "      <td>0.0</td>\n",
              "      <td>0.0</td>\n",
              "      <td>0.0</td>\n",
              "      <td>0.0</td>\n",
              "      <td>0.0</td>\n",
              "      <td>0.0</td>\n",
              "      <td>0.0</td>\n",
              "      <td>0.0</td>\n",
              "      <td>0.0</td>\n",
              "      <td>0.0</td>\n",
              "      <td>0.07067</td>\n",
              "      <td>0.0</td>\n",
              "      <td>0.0</td>\n",
              "      <td>0.0</td>\n",
              "      <td>0.0</td>\n",
              "      <td>0.050941</td>\n",
              "      <td>0.0</td>\n",
              "      <td>...</td>\n",
              "      <td>0.0</td>\n",
              "      <td>0.0</td>\n",
              "      <td>0.0</td>\n",
              "      <td>0.0</td>\n",
              "      <td>0.0</td>\n",
              "      <td>0.0</td>\n",
              "      <td>0.06722</td>\n",
              "      <td>0.0</td>\n",
              "      <td>0.0</td>\n",
              "      <td>0.0</td>\n",
              "      <td>0.0</td>\n",
              "      <td>0.0</td>\n",
              "      <td>0.0</td>\n",
              "      <td>0.0</td>\n",
              "      <td>0.053002</td>\n",
              "      <td>0.0</td>\n",
              "      <td>0.0</td>\n",
              "      <td>0.0</td>\n",
              "      <td>0.0</td>\n",
              "      <td>0.0</td>\n",
              "      <td>0.0</td>\n",
              "      <td>0.0</td>\n",
              "      <td>0.0</td>\n",
              "      <td>0.060310</td>\n",
              "      <td>0.0</td>\n",
              "      <td>0.0</td>\n",
              "      <td>0.0</td>\n",
              "      <td>0.064402</td>\n",
              "      <td>0.0</td>\n",
              "      <td>0.020209</td>\n",
              "      <td>0.0</td>\n",
              "      <td>0.0</td>\n",
              "      <td>0.0</td>\n",
              "      <td>0.0</td>\n",
              "      <td>0.0</td>\n",
              "      <td>0.0</td>\n",
              "      <td>0.0</td>\n",
              "      <td>0.0</td>\n",
              "      <td>0.0</td>\n",
              "      <td>0.0</td>\n",
              "    </tr>\n",
              "    <tr>\n",
              "      <th>2</th>\n",
              "      <td>0.0</td>\n",
              "      <td>0.0</td>\n",
              "      <td>0.0</td>\n",
              "      <td>0.0</td>\n",
              "      <td>0.0</td>\n",
              "      <td>0.0</td>\n",
              "      <td>0.0</td>\n",
              "      <td>0.0</td>\n",
              "      <td>0.0</td>\n",
              "      <td>0.0</td>\n",
              "      <td>0.0</td>\n",
              "      <td>0.0</td>\n",
              "      <td>0.0</td>\n",
              "      <td>0.0</td>\n",
              "      <td>0.0</td>\n",
              "      <td>0.0</td>\n",
              "      <td>0.000000</td>\n",
              "      <td>0.0</td>\n",
              "      <td>0.000000</td>\n",
              "      <td>0.0</td>\n",
              "      <td>0.0</td>\n",
              "      <td>0.000000</td>\n",
              "      <td>0.0</td>\n",
              "      <td>0.0</td>\n",
              "      <td>0.0</td>\n",
              "      <td>0.0</td>\n",
              "      <td>0.0</td>\n",
              "      <td>0.0</td>\n",
              "      <td>0.0</td>\n",
              "      <td>0.0</td>\n",
              "      <td>0.0</td>\n",
              "      <td>0.0</td>\n",
              "      <td>0.0</td>\n",
              "      <td>0.00000</td>\n",
              "      <td>0.0</td>\n",
              "      <td>0.0</td>\n",
              "      <td>0.0</td>\n",
              "      <td>0.0</td>\n",
              "      <td>0.000000</td>\n",
              "      <td>0.0</td>\n",
              "      <td>...</td>\n",
              "      <td>0.0</td>\n",
              "      <td>0.0</td>\n",
              "      <td>0.0</td>\n",
              "      <td>0.0</td>\n",
              "      <td>0.0</td>\n",
              "      <td>0.0</td>\n",
              "      <td>0.00000</td>\n",
              "      <td>0.0</td>\n",
              "      <td>0.0</td>\n",
              "      <td>0.0</td>\n",
              "      <td>0.0</td>\n",
              "      <td>0.0</td>\n",
              "      <td>0.0</td>\n",
              "      <td>0.0</td>\n",
              "      <td>0.000000</td>\n",
              "      <td>0.0</td>\n",
              "      <td>0.0</td>\n",
              "      <td>0.0</td>\n",
              "      <td>0.0</td>\n",
              "      <td>0.0</td>\n",
              "      <td>0.0</td>\n",
              "      <td>0.0</td>\n",
              "      <td>0.0</td>\n",
              "      <td>0.000000</td>\n",
              "      <td>0.0</td>\n",
              "      <td>0.0</td>\n",
              "      <td>0.0</td>\n",
              "      <td>0.000000</td>\n",
              "      <td>0.0</td>\n",
              "      <td>0.000000</td>\n",
              "      <td>0.0</td>\n",
              "      <td>0.0</td>\n",
              "      <td>0.0</td>\n",
              "      <td>0.0</td>\n",
              "      <td>0.0</td>\n",
              "      <td>0.0</td>\n",
              "      <td>0.0</td>\n",
              "      <td>0.0</td>\n",
              "      <td>0.0</td>\n",
              "      <td>0.0</td>\n",
              "    </tr>\n",
              "    <tr>\n",
              "      <th>3</th>\n",
              "      <td>0.0</td>\n",
              "      <td>0.0</td>\n",
              "      <td>0.0</td>\n",
              "      <td>0.0</td>\n",
              "      <td>0.0</td>\n",
              "      <td>0.0</td>\n",
              "      <td>0.0</td>\n",
              "      <td>0.0</td>\n",
              "      <td>0.0</td>\n",
              "      <td>0.0</td>\n",
              "      <td>0.0</td>\n",
              "      <td>0.0</td>\n",
              "      <td>0.0</td>\n",
              "      <td>0.0</td>\n",
              "      <td>0.0</td>\n",
              "      <td>0.0</td>\n",
              "      <td>0.000000</td>\n",
              "      <td>0.0</td>\n",
              "      <td>0.000000</td>\n",
              "      <td>0.0</td>\n",
              "      <td>0.0</td>\n",
              "      <td>0.000000</td>\n",
              "      <td>0.0</td>\n",
              "      <td>0.0</td>\n",
              "      <td>0.0</td>\n",
              "      <td>0.0</td>\n",
              "      <td>0.0</td>\n",
              "      <td>0.0</td>\n",
              "      <td>0.0</td>\n",
              "      <td>0.0</td>\n",
              "      <td>0.0</td>\n",
              "      <td>0.0</td>\n",
              "      <td>0.0</td>\n",
              "      <td>0.00000</td>\n",
              "      <td>0.0</td>\n",
              "      <td>0.0</td>\n",
              "      <td>0.0</td>\n",
              "      <td>0.0</td>\n",
              "      <td>0.000000</td>\n",
              "      <td>0.0</td>\n",
              "      <td>...</td>\n",
              "      <td>0.0</td>\n",
              "      <td>0.0</td>\n",
              "      <td>0.0</td>\n",
              "      <td>0.0</td>\n",
              "      <td>0.0</td>\n",
              "      <td>0.0</td>\n",
              "      <td>0.00000</td>\n",
              "      <td>0.0</td>\n",
              "      <td>0.0</td>\n",
              "      <td>0.0</td>\n",
              "      <td>0.0</td>\n",
              "      <td>0.0</td>\n",
              "      <td>0.0</td>\n",
              "      <td>0.0</td>\n",
              "      <td>0.000000</td>\n",
              "      <td>0.0</td>\n",
              "      <td>0.0</td>\n",
              "      <td>0.0</td>\n",
              "      <td>0.0</td>\n",
              "      <td>0.0</td>\n",
              "      <td>0.0</td>\n",
              "      <td>0.0</td>\n",
              "      <td>0.0</td>\n",
              "      <td>0.000000</td>\n",
              "      <td>0.0</td>\n",
              "      <td>0.0</td>\n",
              "      <td>0.0</td>\n",
              "      <td>0.000000</td>\n",
              "      <td>0.0</td>\n",
              "      <td>0.031217</td>\n",
              "      <td>0.0</td>\n",
              "      <td>0.0</td>\n",
              "      <td>0.0</td>\n",
              "      <td>0.0</td>\n",
              "      <td>0.0</td>\n",
              "      <td>0.0</td>\n",
              "      <td>0.0</td>\n",
              "      <td>0.0</td>\n",
              "      <td>0.0</td>\n",
              "      <td>0.0</td>\n",
              "    </tr>\n",
              "    <tr>\n",
              "      <th>4</th>\n",
              "      <td>0.0</td>\n",
              "      <td>0.0</td>\n",
              "      <td>0.0</td>\n",
              "      <td>0.0</td>\n",
              "      <td>0.0</td>\n",
              "      <td>0.0</td>\n",
              "      <td>0.0</td>\n",
              "      <td>0.0</td>\n",
              "      <td>0.0</td>\n",
              "      <td>0.0</td>\n",
              "      <td>0.0</td>\n",
              "      <td>0.0</td>\n",
              "      <td>0.0</td>\n",
              "      <td>0.0</td>\n",
              "      <td>0.0</td>\n",
              "      <td>0.0</td>\n",
              "      <td>0.000000</td>\n",
              "      <td>0.0</td>\n",
              "      <td>0.000000</td>\n",
              "      <td>0.0</td>\n",
              "      <td>0.0</td>\n",
              "      <td>0.000000</td>\n",
              "      <td>0.0</td>\n",
              "      <td>0.0</td>\n",
              "      <td>0.0</td>\n",
              "      <td>0.0</td>\n",
              "      <td>0.0</td>\n",
              "      <td>0.0</td>\n",
              "      <td>0.0</td>\n",
              "      <td>0.0</td>\n",
              "      <td>0.0</td>\n",
              "      <td>0.0</td>\n",
              "      <td>0.0</td>\n",
              "      <td>0.00000</td>\n",
              "      <td>0.0</td>\n",
              "      <td>0.0</td>\n",
              "      <td>0.0</td>\n",
              "      <td>0.0</td>\n",
              "      <td>0.000000</td>\n",
              "      <td>0.0</td>\n",
              "      <td>...</td>\n",
              "      <td>0.0</td>\n",
              "      <td>0.0</td>\n",
              "      <td>0.0</td>\n",
              "      <td>0.0</td>\n",
              "      <td>0.0</td>\n",
              "      <td>0.0</td>\n",
              "      <td>0.00000</td>\n",
              "      <td>0.0</td>\n",
              "      <td>0.0</td>\n",
              "      <td>0.0</td>\n",
              "      <td>0.0</td>\n",
              "      <td>0.0</td>\n",
              "      <td>0.0</td>\n",
              "      <td>0.0</td>\n",
              "      <td>0.000000</td>\n",
              "      <td>0.0</td>\n",
              "      <td>0.0</td>\n",
              "      <td>0.0</td>\n",
              "      <td>0.0</td>\n",
              "      <td>0.0</td>\n",
              "      <td>0.0</td>\n",
              "      <td>0.0</td>\n",
              "      <td>0.0</td>\n",
              "      <td>0.000000</td>\n",
              "      <td>0.0</td>\n",
              "      <td>0.0</td>\n",
              "      <td>0.0</td>\n",
              "      <td>0.000000</td>\n",
              "      <td>0.0</td>\n",
              "      <td>0.099143</td>\n",
              "      <td>0.0</td>\n",
              "      <td>0.0</td>\n",
              "      <td>0.0</td>\n",
              "      <td>0.0</td>\n",
              "      <td>0.0</td>\n",
              "      <td>0.0</td>\n",
              "      <td>0.0</td>\n",
              "      <td>0.0</td>\n",
              "      <td>0.0</td>\n",
              "      <td>0.0</td>\n",
              "    </tr>\n",
              "  </tbody>\n",
              "</table>\n",
              "<p>5 rows × 2448 columns</p>\n",
              "</div>"
            ],
            "text/plain": [
              "   000  000 year   10  100   12  ...  year work  york  york city  you  you ll\n",
              "0  0.0       0.0  0.0  0.0  0.0  ...        0.0   0.0        0.0  0.0     0.0\n",
              "1  0.0       0.0  0.0  0.0  0.0  ...        0.0   0.0        0.0  0.0     0.0\n",
              "2  0.0       0.0  0.0  0.0  0.0  ...        0.0   0.0        0.0  0.0     0.0\n",
              "3  0.0       0.0  0.0  0.0  0.0  ...        0.0   0.0        0.0  0.0     0.0\n",
              "4  0.0       0.0  0.0  0.0  0.0  ...        0.0   0.0        0.0  0.0     0.0\n",
              "\n",
              "[5 rows x 2448 columns]"
            ]
          },
          "metadata": {
            "tags": []
          },
          "execution_count": 16
        }
      ]
    },
    {
      "cell_type": "markdown",
      "metadata": {
        "id": "YLcx6bwc_sGy",
        "colab_type": "text"
      },
      "source": [
        "## 6) Create a NearestNeighbor Model. Write the description of your ideal datascience job and query your job listings. "
      ]
    },
    {
      "cell_type": "code",
      "metadata": {
        "inputHidden": false,
        "outputHidden": false,
        "id": "ZdcsGtpl_sG0",
        "colab_type": "code",
        "colab": {
          "base_uri": "https://localhost:8080/",
          "height": 72
        },
        "outputId": "ccd872f0-57b7-4775-d78d-32c4972bdd46"
      },
      "source": [
        "from sklearn.neighbors import NearestNeighbors\n",
        "# Instantiate\n",
        "nn = NearestNeighbors(n_neighbors=5, algorithm='ball_tree')\n",
        "\n",
        "# Fit on TF-IDF Vectors\n",
        "nn.fit(dtm)"
      ],
      "execution_count": 18,
      "outputs": [
        {
          "output_type": "execute_result",
          "data": {
            "text/plain": [
              "NearestNeighbors(algorithm='ball_tree', leaf_size=30, metric='minkowski',\n",
              "                 metric_params=None, n_jobs=None, n_neighbors=5, p=2,\n",
              "                 radius=1.0)"
            ]
          },
          "metadata": {
            "tags": []
          },
          "execution_count": 18
        }
      ]
    },
    {
      "cell_type": "code",
      "metadata": {
        "id": "QihNglrSV-q8",
        "colab_type": "code",
        "colab": {}
      },
      "source": [
        "desc = \"\"\"About Swing:\n",
        "On average, U.S. students are with substitute teachers for 5% of the typical school year. That means our students have substitute teachers for more than six months of their K-12 school career. The problem? We're suffering from a national shortage of substitute teachers.\n",
        "\n",
        "Swing Education is focused on tackling the substitute teacher shortage. We make it easy for great schools and quality subs to find each other. We help schools access more subs and offload tedious work (recruiting, screening, payroll, etc.) and we help subs find jobs, gain experience and build their professional network.\n",
        "\n",
        "Swing is a revenue generating, Series B, YC company (through ImagineK12).\n",
        "\n",
        "The Position:\n",
        "Swing’s product, data, design and engineering team (referred to as “PNE”) is a tight-knit group charged with solving big, challenging problems using a collaborative, multidisciplinary approach. We pursue a variety of problems ranging from how best to optimize substitute teacher and school matching, to designing and analyzing the impact of growth incentives. The Jr. Data Scientist will dig into data to uncover insights, design experiments, measure impact and contribute to longer-term product strategy.\n",
        "\n",
        "You’ll be expected to:\n",
        "\n",
        "    Work closely with PNE to conduct in-depth quantitative analyses to guide strategic product and business decisions\n",
        "    Design, analyze and communicate the results of product experiments\n",
        "    Make recommendations based on detailed analysis and a deep understanding of our product\n",
        "    Build and maintain reports, models, and visualizations which provide insight into product performance, user experiences and business performance\n",
        "\n",
        "The ideal candidate enjoys working cross-collaboratively in a fast-paced, growing team to better serve our substitute teachers and schools. This person is excited about Swing’s mission and is looking to make an impact with their work.\n",
        "\n",
        "Requirements:\n",
        "If you don't think you meet all of the requirements below but are still interested in the job, please apply. We’re looking for someone excited about our mission and team.\n",
        "\n",
        "    BA/BS in a quantitative field such as statistics, mathematics, economics, engineering or natural sciences (or equivalent experience).\n",
        "    Experience working in quantitative or analytical role, preferably in technology, finance or consulting\n",
        "    Expert level SQL skills, and experience with Python / R a plus\n",
        "    Experience or ability to translate data into decision-ready insights\n",
        "    Good communicator, someone who can explain complex concepts in simple terms\n",
        "    Scrappy and resourceful, knows how to execute pragmatically\n",
        "\n",
        "Perks:\n",
        "\n",
        "    Great medical, dental and vision benefits\n",
        "    Generous PTO, including many school holidays\n",
        "    Paid Holidays\n",
        "    Stock options\n",
        "    401k match\n",
        "    Generous family leave benefits\n",
        "    Stipend for professional development\n",
        "    A stocked kitchen and unlimited coffee and boba runs\n",
        "    Mission-driven work\n",
        "    Fun, collaborative, balanced culture\"\"\""
      ],
      "execution_count": 0,
      "outputs": []
    },
    {
      "cell_type": "code",
      "metadata": {
        "id": "fmewEgaZWzDz",
        "colab_type": "code",
        "colab": {}
      },
      "source": [
        "vec = tfidf.transform([desc])"
      ],
      "execution_count": 0,
      "outputs": []
    },
    {
      "cell_type": "code",
      "metadata": {
        "id": "idA8U8FvdeG0",
        "colab_type": "code",
        "colab": {
          "base_uri": "https://localhost:8080/",
          "height": 54
        },
        "outputId": "d18d2ac0-8a74-40e1-ed35-248510200995"
      },
      "source": [
        "nn.kneighbors(vec.todense())"
      ],
      "execution_count": 25,
      "outputs": [
        {
          "output_type": "execute_result",
          "data": {
            "text/plain": [
              "(array([[1.24938367, 1.25322972, 1.25889286, 1.26814769, 1.27876128]]),\n",
              " array([[366, 337, 325, 314,  18]]))"
            ]
          },
          "metadata": {
            "tags": []
          },
          "execution_count": 25
        }
      ]
    },
    {
      "cell_type": "code",
      "metadata": {
        "id": "-Q5GDfGLdldz",
        "colab_type": "code",
        "colab": {
          "base_uri": "https://localhost:8080/",
          "height": 55
        },
        "outputId": "1154fb4c-b873-4746-c131-23c97374a4dc"
      },
      "source": [
        "df.iloc[366]['description']"
      ],
      "execution_count": 29,
      "outputs": [
        {
          "output_type": "execute_result",
          "data": {
            "text/plain": [
              "\"b' Data science encompasses the computational and statistical skills required to use data in support of scientific enquiry and sound business decision-making. We are looking to hire candidates to work on challenging data science problems across our oil &amp; gas businesses, including exploration, production, refining, chemicals, retail and corporate services. \\\\n Job Role Responsibilities\\\\n Apply statistical analysis, pattern recognition, and machine learning along with domain knowledge and subject-specific models to solve science, engineering, and commercial problems. \\\\n Contribute to all stages of data science or decision modeling projects, including problem formulation, solution development, and product deployment:\\\\n Translate business-relevant scientific, engineering, and commercial problems into questions that may be addressed using data science. \\\\n Design experiments and/or run simulations to generate new data in support of analytic studies. \\\\n Retrieve and combine data from databases, data historians, and/or data lakes; there is a strong emphasis on programming, particularly using scripting languages. \\\\n Perform exploratory data analysis for quality control and improved understanding. \\\\n Rigorously and reproducibly build, analyze, and compare statistical and/or machine learning models. \\\\n Contextualize the results and synthesize them with existing knowledge and/or domain-specific models. \\\\n Deploy data-analytic products to end-users and/or document data-analytic results in technical reports. \\\\n Job Requirements\\\\n PhD or MS (exceptional BS candidates will be considered) in one of the following disciplines: Engineering/Sciences, Mathematics, Statistics or Computer Science with significant experience in data analytics. \\\\n Experience in Python, Scala, Java, C, C++ or R is required \\\\n Knowledge of statistics, linear algebra, multiple variable calculus, Fourier analysis or machine learning \\\\n Experience using one or more of the following software packages: scikit-learn, numpy, pandas, jupyter, matplotlib, scipy, nltk, spacy, keras, tensorflow \\\\n Experience solving problems using one or more of the following techniques: Regression, Support Vector Machines, Decision trees, random forest, Boosting, PCA, KMeans \\\\n Experience in using SQL/No SQL databases is an advantage \\\\n Experience working in Linux and in a High Performance Computing environment is an advantage \\\\n \\\\n Alternate Location: United States : Baytown, Texas || United States : Clinton, New Jersey || United States : Hugoton, Kansas \\\\n \\\\n ExxonMobil is an Equal Opportunity Employer. All qualified applicants will receive consideration for employment without regard to race, color, religion, sex, sexual orientation, gender identity, national origin, protected veteran status, or disability status. \\\\n \\\\n Nearest Major Market: Houston\\\\n \\\\n Job Segment: Database, Scientific, Engineer, SQL, Java, Technology, Engineering '\""
            ]
          },
          "metadata": {
            "tags": []
          },
          "execution_count": 29
        }
      ]
    },
    {
      "cell_type": "code",
      "metadata": {
        "id": "h8-ZIUhrdxg8",
        "colab_type": "code",
        "colab": {
          "base_uri": "https://localhost:8080/",
          "height": 55
        },
        "outputId": "df4afe83-bca8-4eff-cdfd-aa54fce77741"
      },
      "source": [
        "df.iloc[337]['description']"
      ],
      "execution_count": 30,
      "outputs": [
        {
          "output_type": "execute_result",
          "data": {
            "text/plain": [
              "'b\\'Mode is a company built for analysts and data scientists. In addition to building a product to help them be great at their jobs, Mode aims to be a source of education and inspiration for analysts and data scientists of all experience levels.\\\\n \\\\nMode\\\\\\'s own Data Science team is a critical part of this mission. The team has a dual mandate. First, we serve internal customers in all parts of the Mode organization to help guide and empower decision-making. Second, the team works to inspire others to be data-driven by \"open-sourcing\" the resources and analyses we create internally.\\\\n \\\\nWhat you\\\\\\'ll do\\\\n \\\\n \\\\n Work with others across Mode to help them make strategic, data-driven decisions about product development, marketing, and sales. \\\\n Help teams translate their core objectives into key metrics, and build systems that keep everyone at Mode informed of those metrics. \\\\n Find opportunities where data could improve our product and company, and create reports, data applications, or data products that enable us to take advantage of those opportunities. \\\\n Share your work with the Mode community in the form of open-source resources, blog posts, and community talks. \\\\n \\\\nWhat we look for\\\\n \\\\n \\\\n A great communicator you don\\\\\\'t just focus on producing great charts, you can also explain what they mean and their implications. \\\\n A creative analytical thinker you think about the right questions and what you need to measure in addition to producing results. \\\\n Technical ability you\\\\\\'ll use tools like SQL, R, and Python every day. We look for people who have experience with these tools, or are excited to learn them. \\\\n A professional background in data analysis or data science. \\\\n \\\\nAbout Mode\\\\n \\\\nMode ( http://www.modeanalytics.com/ ) is a collaborative analytics platform that brings teams together around data to make game-changing decisions.\\\\n \\\\nIn everything we do, we strive to put the people we do it for first. This starts internally: together we\\\\\\'re building a culture that embraces diversity and learning, humility and gratitude. At the same time, we try not to take ourselves too seriously and strive for a healthy balance between work and personal pursuits.\\\\n \\\\n Benefits you can expect as a Mode employee: \\\\n \\\\n Generous, flexible PTO and family leave \\\\n Flexible work schedules we trust you to know what will make yourself most productive \\\\n Generous professional development policy that includes funds earmarked for each employee\\\\\\'s discretionary professional growth Have a conference you want to attend? A class you want to take? If it\\\\\\'s helping take your career to the next level, it\\\\\\'s on us. \\\\n Excellent health coverage for team members and their families (Mode pays the 100% of the premiums) \\\\n Supportive work environment and a manager who is focused on your professional growth \\\\n Company events that highlight our team\\\\\\'s passions and hobbies \\\\n Snacks and in-office lunches shared at our ever-growing lunch table \\\\n \\\\nMode is committed to building an inclusive and diverse workforce. We are an Equal Opportunity Employer and welcome people from all backgrounds, experiences, abilities and perspectives.\\''"
            ]
          },
          "metadata": {
            "tags": []
          },
          "execution_count": 30
        }
      ]
    },
    {
      "cell_type": "markdown",
      "metadata": {
        "colab_type": "text",
        "id": "FiDfTWceoRkH"
      },
      "source": [
        "## Stretch Goals\n",
        "\n",
        " - Try different visualizations for words and frequencies - what story do you want to tell with the data?\n",
        " - Scrape Job Listings for the job title \"Data Analyst\". How do these differ from Data Scientist Job Listings\n",
        " - Try and identify requirements for experience specific technologies that are asked for in the job listings. How are those distributed among the job listings?\n",
        " - Use a clustering algorithm to cluster documents by their most important terms. Do the clusters reveal any common themes?\n",
        "  - **Hint:** K-means might not be the best algorithm for this. Do a little bit of research to see what might be good for this. Also, remember that algorithms that depend on Euclidean distance break down with high dimensional data.\n",
        " - Create a labeled dataset - which jobs will you apply for? Train a model to select the jobs you are most likely to apply for. :) "
      ]
    }
  ]
}