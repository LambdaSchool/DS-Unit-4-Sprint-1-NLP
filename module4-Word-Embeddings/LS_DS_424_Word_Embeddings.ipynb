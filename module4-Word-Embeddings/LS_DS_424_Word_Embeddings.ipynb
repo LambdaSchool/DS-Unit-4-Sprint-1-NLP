{
  "nbformat": 4,
  "nbformat_minor": 0,
  "metadata": {
    "colab": {
      "name": "LS_DS_424_Word_Embeddings.ipynb",
      "version": "0.3.2",
      "provenance": [],
      "collapsed_sections": [],
      "include_colab_link": true
    },
    "kernelspec": {
      "name": "python3",
      "display_name": "Python 3"
    }
  },
  "cells": [
    {
      "cell_type": "markdown",
      "metadata": {
        "id": "view-in-github",
        "colab_type": "text"
      },
      "source": [
        "<a href=\"https://colab.research.google.com/github/Ruwai/DS-Unit-4-Sprint-2-NLP/blob/master/module4-Word-Embeddings/LS_DS_424_Word_Embeddings.ipynb\" target=\"_parent\"><img src=\"https://colab.research.google.com/assets/colab-badge.svg\" alt=\"Open In Colab\"/></a>"
      ]
    },
    {
      "cell_type": "markdown",
      "metadata": {
        "id": "5aiMtO2JKCM4",
        "colab_type": "text"
      },
      "source": [
        "# Word Embeddings"
      ]
    },
    {
      "cell_type": "markdown",
      "metadata": {
        "id": "yDExdNOUqmNj",
        "colab_type": "text"
      },
      "source": [
        "## Unstructured -> Structured\n",
        "\n",
        "Processing text data to prepare it for maching learning models often means translating the information from documents into a numerical format. Bag-of-Words approaches (sometimes referred to as Frequency-Based word embeddings) accomplish this by \"vectorizing\" tokenized documents. This is done by representing each document as a row in a dataframe and creating a column for each unique word in the corpora (group of documents). The presence or lack of a given word in a document is then represented either as a raw count of how many times a given word appears in a document (CountVectorizer) or as that word's TF-IDF score (TfidfVectorizer)."
      ]
    },
    {
      "cell_type": "markdown",
      "metadata": {
        "id": "p5dZElloqmXw",
        "colab_type": "text"
      },
      "source": [
        "## BoW discards textual context\n",
        "\n",
        "One of the limitations of Bag-of-Words approaches is that any information about the textual context surrounding that word is lost. This also means that with bag-of-words approaches often the only tools that we have for identifying words with similar usage or meaning and subsequently consolidating them into a single vector is through the processes of stemming and lemmatization which tend to be quite limited at consolidating words unless the two words are very close in their spelling or in their root parts-of-speech."
      ]
    },
    {
      "cell_type": "markdown",
      "metadata": {
        "id": "uMUYb0-9qmeG",
        "colab_type": "text"
      },
      "source": [
        "## Word2Vec approaches preserve more textual context\n",
        "\n",
        "Word2Vec is an increasingly popular word embedding technique. Like Bag-of-words it learns a real-value vector representation for a predefined fixed-size vocabulary that is generated from a corpus of text. However, in contrast to BoW, Word2Vec approaches are much more capable of accounting for textual context, and are better at discovering words with similar meanings or usages (semantic or syntactic similarity)."
      ]
    },
    {
      "cell_type": "markdown",
      "metadata": {
        "id": "6CfSTxLXYsTp",
        "colab_type": "text"
      },
      "source": [
        "# CountVectorizer\n",
        "\n",
        "### Corpora:\n",
        "\n",
        "1) \"the cat and dog sat\"\n",
        "\n",
        "2) \"the dog and cat sat\"\n",
        "\n",
        "3) \"the cat sat and sat\"\n",
        "\n",
        "4) \"the cat killed the dog\"\n",
        "\n",
        "### Vocabulary:\n",
        "\n",
        "{\"the\": 1, \"cat\": 2, \"sat\": 3, \"dog\": 4, \"and\": 5, \"killed\": 6}\n",
        "\n",
        "### Vectorization\n",
        "\n",
        "|    | the | cat | sat | dog | and | killed |\n",
        "|----|-----|-----|-----|-----|-----|--------|\n",
        "| d1 | 1   | 1   | 1   | 1   | 1   | 0      |\n",
        "| d2 | 1   | 1   | 1   | 1   | 1   | 0      |\n",
        "| d3 | 1   | 1   | 2   | 0   | 1   | 0      |\n",
        "| d4 | 1   | 1   | 0   | 1   | 0   | 1      |\n"
      ]
    },
    {
      "cell_type": "markdown",
      "metadata": {
        "id": "QtZqfD8BbYks",
        "colab_type": "text"
      },
      "source": [
        "# TF-IDF\n",
        "\n",
        "### Corpora:\n",
        "\n",
        "1) \"the cat and dog sat\"\n",
        "\n",
        "2) \"the dog and cat sat\"\n",
        "\n",
        "3) \"the cat sat and sat\"\n",
        "\n",
        "4) \"the cat killed the dog\"\n",
        "\n",
        "### Vocabulary:\n",
        "\n",
        "{\"the\": 1, \"cat\": 2, \"sat\": 3, \"dog\": 4, \"and\": 5, \"killed\": 6}\n",
        "\n",
        "### Vectorization\n",
        "\n",
        "|    | the | cat | sat | dog | and | killed |\n",
        "|----|-----|-----|-----|-----|-----|--------|\n",
        "| d1 | .25   | .25   | .33   | .33   | .33   | 0      |\n",
        "| d2 | .25   | .25   | .33   | .33   | .33   | 0      |\n",
        "| d3 | .25   | .25   | .67   | 0   | .33   | 0      |\n",
        "| d4 | .5   | .25   | 0   | .33   | 0   | 1.00      |"
      ]
    },
    {
      "cell_type": "markdown",
      "metadata": {
        "id": "qpjGSDn8KRC1",
        "colab_type": "text"
      },
      "source": [
        "# Word2Vec Intuition"
      ]
    },
    {
      "cell_type": "markdown",
      "metadata": {
        "id": "VEj8fEfMfSLT",
        "colab_type": "text"
      },
      "source": [
        "## The Distribution Hypothesis\n",
        "\n",
        "In order to understand how Word2Vec preserves textual context we have to understand what's called the Distribution Hypothesis (Reference: Distribution Hypothesis Theory  -https://en.wikipedia.org/wiki/Distributional_semantics). The Distribution Hypothesis operates under the assumption that words that have similar contexts will have similar meanings. Practically speaking, this means that if two words are found to have similar words both to the right and to the left of them throughout the corpora then those words have the same context and are assumed to have the same meaning. \n",
        "\n",
        "> \"You shall know a word by the company it keeps\" - John Firth\n",
        "\n",
        "This means that we let the usage of a word define its meaning and its \"similarity\" to other words. In the following example, which words would you say have a similar meaning? \n",
        "\n",
        "**Sentence 1**: Traffic was light today\n",
        "\n",
        "**Sentence 2**: Traffic was heavy yesterday\n",
        "\n",
        "**Sentence 3**: Prediction is that traffic will be smooth-flowing tomorrow since it is a national holiday\n",
        "\n",
        "What words in the above sentences seem to have a similar meaning if all you knew about them was the context in which they appeared above? \n",
        "\n",
        "Lets take a look at how this might work in action, the following example is simplified, but will give you an idea of the intuition for how this works.\n",
        "\n",
        "### Corpora:\n",
        "\n",
        "1) \"It was the sunniest of days.\"\n",
        "\n",
        "2) \"It was the raniest of days.\"\n",
        "\n",
        "### Vocabulary:\n",
        "\n",
        "{\"it\": 1, \"was\": 2, \"the\": 3, \"of\": 4, \"days\": 5, \"sunniest\": 6, \"raniest\": 7}\n",
        "\n",
        "### Vectorization\n",
        "\n",
        "|          | START_was | it_the | was_sunniest | the_of | sunniest_days | of_it | days_was | it_the | was_raniest | raniest_days | of_END |\n",
        "|----------|-----------|--------|--------------|--------|---------------|-------|----------|--------|-------------|--------------|--------|\n",
        "| it       | 1         | 0      | 0            | 0      | 0             | 0     | 1        | 0      | 0           | 0            | 0      |\n",
        "| was      | 0         | 1      | 0            | 0      | 0             | 0     | 0        | 1      | 0           | 0            | 0      |\n",
        "| the      | 0         | 0      | 1            | 0      | 0             | 0     | 0        | 0      | 1           | 0            | 0      |\n",
        "| sunniest | 0         | 0      | 0            | 1      | 0             | 0     | 0        | 0      | 0           | 0            | 0      |\n",
        "| of       | 0         | 0      | 0            | 0      | 1             | 0     | 0        | 0      | 0           | 1            | 0      |\n",
        "| days     | 0         | 0      | 0            | 0      | 0             | 0     | 0        | 0      | 0           | 0            | 1      |\n",
        "| raniest  | 0         | 0      | 0            | 1      | 0             | 0     | 0        | 0      | 0           | 0            | 0      |\n",
        "\n",
        "Each column vector represents the word's context -in this case defined by the words to the left and right of the center word. How far we look to the left and right of a given word is referred to as our \"window of context.\" Each row vector represents the the different usages of a given word. Word2Vec can consider a larger context than only words that are immediately to the left and right of a given word, but we're going to keep our window of context small for this example. What's most important is that this vectorization has translated our documents from a text representation to a numeric one in a way that preserves information about the underlying context. \n",
        "\n",
        "We can see that words that have a similar context will have similar row-vector representations, but before looking that more in-depth, lets simplify our vectorization slightly. You'll notice that we're repeating the column-vector \"it_the\" twice. Lets combine those into a single vector by adding them element-wise. \n",
        "\n",
        "|          | START_was | it_the | was_sunniest | the_of | sunniest_days | of_it | days_was | was_raniest | raniest_days | of_END |\n",
        "|----------|-----------|--------|--------------|--------|---------------|-------|----------|-------------|--------------|--------|\n",
        "| it       | 1         | 0      | 0            | 0      | 0             | 0     | 1        | 0           | 0            | 0      |\n",
        "| was      | 0         | 2      | 0            | 0      | 0             | 0     | 0        | 0           | 0            | 0      |\n",
        "| the      | 0         | 0      | 1            | 0      | 0             | 0     | 0        | 1           | 0            | 0      |\n",
        "| sunniest | 0         | 0      | 0            | 1      | 0             | 0     | 0        | 0           | 0            | 0      |\n",
        "| of       | 0         | 0      | 0            | 0      | 1             | 0     | 0        | 0           | 1            | 0      |\n",
        "| days     | 0         | 0      | 0            | 0      | 0             | 0     | 0        | 0           | 0            | 1      |\n",
        "| raniest  | 0         | 0      | 0            | 1      | 0             | 0     | 0        | 0           | 0            | 0      |\n",
        "\n",
        "Now, can you spot which words have a similar row-vector representation? Hint: Look for values that are repeated in a given column. Each column represents the context that word was found in. If there are multiple words that share a context then those words are understood to have a closer meaning with each other than with other words in the text.\n",
        "\n",
        "Lets look specifically at the words sunniest and raniest. You'll notice that these two words have exactly the same 10-dimensional vector representation. Based on this very small corpora of text we would conclude that these two words have the same meaning because they share the same usage. Is this a good assumption? Well, they are both referring to the weather outside so that's better than nothing. You could imagine that as our corpora grows larger we will be exposed a greater number of contexts and the Distribution Hypothesis assumption will improve. "
      ]
    },
    {
      "cell_type": "markdown",
      "metadata": {
        "id": "fb6uzFSEq7xH",
        "colab_type": "text"
      },
      "source": [
        "# Word2Vec Variants"
      ]
    },
    {
      "cell_type": "markdown",
      "metadata": {
        "id": "4FO0E-ODq6cu",
        "colab_type": "text"
      },
      "source": [
        "## Skip-Gram\n",
        "\n",
        "The Skip-Gram method predicts the neighbors’ of a word given a center word. In the skip-gram model, we take a center word and a window of context (neighbors) words to train the model and then predict context words out to some window size for each center word.\n",
        "\n",
        "This notion of “context” or “neighboring” words is best described by considering a center word and a window of words around it. \n",
        "\n",
        "For example, if we consider the sentence **“The speedy Porsche drove past the elegant Rolls-Royce”** and a window size of 2, we’d have the following pairs for the skip-gram model:\n",
        "\n",
        "**Text:**\n",
        "**The**\tspeedy\tPorsche\tdrove\tpast\tthe\telegant\tRolls-Royce\n",
        "\n",
        "*Training Sample with window of 2*: (the, speedy), (the, Porsche)\n",
        "\n",
        "**Text:**\n",
        "The\t**speedy**\tPorsche\tdrove\tpast\tthe\telegant\tRolls-Royce\n",
        "\n",
        "*Training Sample with window of 2*: (speedy, the), (speedy, Porsche), (speedy, drove)\n",
        "\n",
        "**Text:**\n",
        "The\tspeedy\t**Porsche**\tdrove\tpast\tthe\telegant\tRolls-Royce\n",
        "\n",
        "*Training Sample with window of 2*: (Porsche, the), (Porsche, speedy), (Porsche, drove), (Porsche, past)\n",
        "\n",
        "**Text:**\n",
        "The\tspeedy\tPorsche\t**drove**\tpast\tthe\telegant\tRolls-Royce\n",
        "\n",
        "*Training Sample with window of 2*: (drove, speedy), (drove, Porsche), (drove, past), (drove, the)\n",
        "\n",
        "The **Skip-gram model** is going to output a probability distribution i.e. the probability of a word appearing in context given a center word and we are going to select the vector representation that maximizes the probability.\n",
        "\n",
        "With CountVectorizer and TF-IDF the best we could do for context was to look at common bi-grams and tri-grams (n-grams). Well, skip-grams go far beyond that and give our model much stronger contextual information.\n"
      ]
    },
    {
      "cell_type": "markdown",
      "metadata": {
        "id": "_l1YXneCuXbK",
        "colab_type": "text"
      },
      "source": [
        "![alt text](https://www.dropbox.com/s/c7mwy6dk9k99bgh/Image%202%20-%20SkipGrams.jpg?raw=1)"
      ]
    },
    {
      "cell_type": "markdown",
      "metadata": {
        "id": "C3dIDj_nq6Jk",
        "colab_type": "text"
      },
      "source": [
        "## Continuous Bag of Words\n",
        "\n",
        "This model takes thes opposite approach from the skip-gram model in that it tries to predict a center word based on the neighboring words. In the case of the CBOW model, we input the context words within the window (such as “the”, “Proshe”, “drove”) and aim to predict the target or center word “speedy” (the input to the prediction pipeline is reversed as compared to the SkipGram model).\n",
        "\n",
        "A graphical depiction of the input to output prediction pipeline for both variants of the Word2vec model is attached. The graphical depiction will help crystallize the difference between SkipGrams and Continuous Bag of Words."
      ]
    },
    {
      "cell_type": "markdown",
      "metadata": {
        "id": "3UhXo4bAu0R9",
        "colab_type": "text"
      },
      "source": [
        "![alt text](https://www.dropbox.com/s/k3ddmbtd52wq2li/Image%203%20-%20CBOW%20Model.jpg?raw=1)"
      ]
    },
    {
      "cell_type": "markdown",
      "metadata": {
        "id": "0E2GZra0y6t-",
        "colab_type": "text"
      },
      "source": [
        "## Notable Differences between Word Embedding methods:\n",
        "\n",
        "1) W2V focuses less document topic-modeling. You'll notice that the vectorizations don't really retain much information about the original document that the information came from. At least not in our examples.\n",
        "\n",
        "2) W2V can result in really large and complex vectorizations. In fact, you need Deep Neural Networks to train your Word2Vec models from scratch, but we can use helpful pretrained embeddings (thank you Google) to do really cool things!"
      ]
    },
    {
      "cell_type": "markdown",
      "metadata": {
        "id": "U4_aXU-T04Uj",
        "colab_type": "text"
      },
      "source": [
        "# Lets give it a go!"
      ]
    },
    {
      "cell_type": "code",
      "metadata": {
        "id": "5pMqZFKFvliE",
        "colab_type": "code",
        "outputId": "f0e79822-a0b8-43e5-c019-39be5ca2bc31",
        "colab": {
          "base_uri": "https://localhost:8080/",
          "height": 445
        }
      },
      "source": [
        "!pip install -U gensim\n",
        "import gensim"
      ],
      "execution_count": 1,
      "outputs": [
        {
          "output_type": "stream",
          "text": [
            "Collecting gensim\n",
            "\u001b[?25l  Downloading https://files.pythonhosted.org/packages/43/f1/d25dfdf1d28222124b920108b89f3f7acc2dad506014990c10fb34f7104b/gensim-3.7.2-cp36-cp36m-manylinux1_x86_64.whl (24.2MB)\n",
            "\u001b[K     |████████████████████████████████| 24.2MB 1.2MB/s \n",
            "\u001b[?25hRequirement already satisfied, skipping upgrade: smart-open>=1.7.0 in /usr/local/lib/python3.6/dist-packages (from gensim) (1.8.3)\n",
            "Requirement already satisfied, skipping upgrade: numpy>=1.11.3 in /usr/local/lib/python3.6/dist-packages (from gensim) (1.16.3)\n",
            "Requirement already satisfied, skipping upgrade: scipy>=0.18.1 in /usr/local/lib/python3.6/dist-packages (from gensim) (1.2.1)\n",
            "Requirement already satisfied, skipping upgrade: six>=1.5.0 in /usr/local/lib/python3.6/dist-packages (from gensim) (1.12.0)\n",
            "Requirement already satisfied, skipping upgrade: boto>=2.32 in /usr/local/lib/python3.6/dist-packages (from smart-open>=1.7.0->gensim) (2.49.0)\n",
            "Requirement already satisfied, skipping upgrade: requests in /usr/local/lib/python3.6/dist-packages (from smart-open>=1.7.0->gensim) (2.21.0)\n",
            "Requirement already satisfied, skipping upgrade: boto3 in /usr/local/lib/python3.6/dist-packages (from smart-open>=1.7.0->gensim) (1.9.138)\n",
            "Requirement already satisfied, skipping upgrade: chardet<3.1.0,>=3.0.2 in /usr/local/lib/python3.6/dist-packages (from requests->smart-open>=1.7.0->gensim) (3.0.4)\n",
            "Requirement already satisfied, skipping upgrade: certifi>=2017.4.17 in /usr/local/lib/python3.6/dist-packages (from requests->smart-open>=1.7.0->gensim) (2019.3.9)\n",
            "Requirement already satisfied, skipping upgrade: idna<2.9,>=2.5 in /usr/local/lib/python3.6/dist-packages (from requests->smart-open>=1.7.0->gensim) (2.8)\n",
            "Requirement already satisfied, skipping upgrade: urllib3<1.25,>=1.21.1 in /usr/local/lib/python3.6/dist-packages (from requests->smart-open>=1.7.0->gensim) (1.24.2)\n",
            "Requirement already satisfied, skipping upgrade: botocore<1.13.0,>=1.12.138 in /usr/local/lib/python3.6/dist-packages (from boto3->smart-open>=1.7.0->gensim) (1.12.138)\n",
            "Requirement already satisfied, skipping upgrade: jmespath<1.0.0,>=0.7.1 in /usr/local/lib/python3.6/dist-packages (from boto3->smart-open>=1.7.0->gensim) (0.9.4)\n",
            "Requirement already satisfied, skipping upgrade: s3transfer<0.3.0,>=0.2.0 in /usr/local/lib/python3.6/dist-packages (from boto3->smart-open>=1.7.0->gensim) (0.2.0)\n",
            "Requirement already satisfied, skipping upgrade: python-dateutil<3.0.0,>=2.1; python_version >= \"2.7\" in /usr/local/lib/python3.6/dist-packages (from botocore<1.13.0,>=1.12.138->boto3->smart-open>=1.7.0->gensim) (2.5.3)\n",
            "Requirement already satisfied, skipping upgrade: docutils>=0.10 in /usr/local/lib/python3.6/dist-packages (from botocore<1.13.0,>=1.12.138->boto3->smart-open>=1.7.0->gensim) (0.14)\n",
            "Installing collected packages: gensim\n",
            "  Found existing installation: gensim 3.6.0\n",
            "    Uninstalling gensim-3.6.0:\n",
            "      Successfully uninstalled gensim-3.6.0\n",
            "Successfully installed gensim-3.7.2\n"
          ],
          "name": "stdout"
        }
      ]
    },
    {
      "cell_type": "markdown",
      "metadata": {
        "id": "QV7fLWM31YPq",
        "colab_type": "text"
      },
      "source": [
        "## Lets just downlad all of nltk like a madman. \n",
        "\n",
        "![](https://media.giphy.com/media/kYkQYXkO3XyRa/giphy.gif)"
      ]
    },
    {
      "cell_type": "code",
      "metadata": {
        "id": "M4obR_by1PA2",
        "colab_type": "code",
        "outputId": "5b51b9ee-a166-424d-e5b9-7fe02e6bf33a",
        "colab": {
          "base_uri": "https://localhost:8080/",
          "height": 4131
        }
      },
      "source": [
        "import nltk\n",
        "nltk.download('all')"
      ],
      "execution_count": 2,
      "outputs": [
        {
          "output_type": "stream",
          "text": [
            "[nltk_data] Downloading collection 'all'\n",
            "[nltk_data]    | \n",
            "[nltk_data]    | Downloading package abc to /root/nltk_data...\n",
            "[nltk_data]    |   Unzipping corpora/abc.zip.\n",
            "[nltk_data]    | Downloading package alpino to /root/nltk_data...\n",
            "[nltk_data]    |   Unzipping corpora/alpino.zip.\n",
            "[nltk_data]    | Downloading package biocreative_ppi to\n",
            "[nltk_data]    |     /root/nltk_data...\n",
            "[nltk_data]    |   Unzipping corpora/biocreative_ppi.zip.\n",
            "[nltk_data]    | Downloading package brown to /root/nltk_data...\n",
            "[nltk_data]    |   Unzipping corpora/brown.zip.\n",
            "[nltk_data]    | Downloading package brown_tei to /root/nltk_data...\n",
            "[nltk_data]    |   Unzipping corpora/brown_tei.zip.\n",
            "[nltk_data]    | Downloading package cess_cat to /root/nltk_data...\n",
            "[nltk_data]    |   Unzipping corpora/cess_cat.zip.\n",
            "[nltk_data]    | Downloading package cess_esp to /root/nltk_data...\n",
            "[nltk_data]    |   Unzipping corpora/cess_esp.zip.\n",
            "[nltk_data]    | Downloading package chat80 to /root/nltk_data...\n",
            "[nltk_data]    |   Unzipping corpora/chat80.zip.\n",
            "[nltk_data]    | Downloading package city_database to\n",
            "[nltk_data]    |     /root/nltk_data...\n",
            "[nltk_data]    |   Unzipping corpora/city_database.zip.\n",
            "[nltk_data]    | Downloading package cmudict to /root/nltk_data...\n",
            "[nltk_data]    |   Unzipping corpora/cmudict.zip.\n",
            "[nltk_data]    | Downloading package comparative_sentences to\n",
            "[nltk_data]    |     /root/nltk_data...\n",
            "[nltk_data]    |   Unzipping corpora/comparative_sentences.zip.\n",
            "[nltk_data]    | Downloading package comtrans to /root/nltk_data...\n",
            "[nltk_data]    | Downloading package conll2000 to /root/nltk_data...\n",
            "[nltk_data]    |   Unzipping corpora/conll2000.zip.\n",
            "[nltk_data]    | Downloading package conll2002 to /root/nltk_data...\n",
            "[nltk_data]    |   Unzipping corpora/conll2002.zip.\n",
            "[nltk_data]    | Downloading package conll2007 to /root/nltk_data...\n",
            "[nltk_data]    | Downloading package crubadan to /root/nltk_data...\n",
            "[nltk_data]    |   Unzipping corpora/crubadan.zip.\n",
            "[nltk_data]    | Downloading package dependency_treebank to\n",
            "[nltk_data]    |     /root/nltk_data...\n",
            "[nltk_data]    |   Unzipping corpora/dependency_treebank.zip.\n",
            "[nltk_data]    | Downloading package dolch to /root/nltk_data...\n",
            "[nltk_data]    |   Unzipping corpora/dolch.zip.\n",
            "[nltk_data]    | Downloading package europarl_raw to\n",
            "[nltk_data]    |     /root/nltk_data...\n",
            "[nltk_data]    |   Unzipping corpora/europarl_raw.zip.\n",
            "[nltk_data]    | Downloading package floresta to /root/nltk_data...\n",
            "[nltk_data]    |   Unzipping corpora/floresta.zip.\n",
            "[nltk_data]    | Downloading package framenet_v15 to\n",
            "[nltk_data]    |     /root/nltk_data...\n",
            "[nltk_data]    |   Unzipping corpora/framenet_v15.zip.\n",
            "[nltk_data]    | Downloading package framenet_v17 to\n",
            "[nltk_data]    |     /root/nltk_data...\n",
            "[nltk_data]    |   Unzipping corpora/framenet_v17.zip.\n",
            "[nltk_data]    | Downloading package gazetteers to /root/nltk_data...\n",
            "[nltk_data]    |   Unzipping corpora/gazetteers.zip.\n",
            "[nltk_data]    | Downloading package genesis to /root/nltk_data...\n",
            "[nltk_data]    |   Unzipping corpora/genesis.zip.\n",
            "[nltk_data]    | Downloading package gutenberg to /root/nltk_data...\n",
            "[nltk_data]    |   Unzipping corpora/gutenberg.zip.\n",
            "[nltk_data]    | Downloading package ieer to /root/nltk_data...\n",
            "[nltk_data]    |   Unzipping corpora/ieer.zip.\n",
            "[nltk_data]    | Downloading package inaugural to /root/nltk_data...\n",
            "[nltk_data]    |   Unzipping corpora/inaugural.zip.\n",
            "[nltk_data]    | Downloading package indian to /root/nltk_data...\n",
            "[nltk_data]    |   Unzipping corpora/indian.zip.\n",
            "[nltk_data]    | Downloading package jeita to /root/nltk_data...\n",
            "[nltk_data]    | Downloading package kimmo to /root/nltk_data...\n",
            "[nltk_data]    |   Unzipping corpora/kimmo.zip.\n",
            "[nltk_data]    | Downloading package knbc to /root/nltk_data...\n",
            "[nltk_data]    | Downloading package lin_thesaurus to\n",
            "[nltk_data]    |     /root/nltk_data...\n",
            "[nltk_data]    |   Unzipping corpora/lin_thesaurus.zip.\n",
            "[nltk_data]    | Downloading package mac_morpho to /root/nltk_data...\n",
            "[nltk_data]    |   Unzipping corpora/mac_morpho.zip.\n",
            "[nltk_data]    | Downloading package machado to /root/nltk_data...\n",
            "[nltk_data]    | Downloading package masc_tagged to /root/nltk_data...\n",
            "[nltk_data]    | Downloading package moses_sample to\n",
            "[nltk_data]    |     /root/nltk_data...\n",
            "[nltk_data]    |   Unzipping models/moses_sample.zip.\n",
            "[nltk_data]    | Downloading package movie_reviews to\n",
            "[nltk_data]    |     /root/nltk_data...\n",
            "[nltk_data]    |   Unzipping corpora/movie_reviews.zip.\n",
            "[nltk_data]    | Downloading package names to /root/nltk_data...\n",
            "[nltk_data]    |   Unzipping corpora/names.zip.\n",
            "[nltk_data]    | Downloading package nombank.1.0 to /root/nltk_data...\n",
            "[nltk_data]    | Downloading package nps_chat to /root/nltk_data...\n",
            "[nltk_data]    |   Unzipping corpora/nps_chat.zip.\n",
            "[nltk_data]    | Downloading package omw to /root/nltk_data...\n",
            "[nltk_data]    |   Unzipping corpora/omw.zip.\n",
            "[nltk_data]    | Downloading package opinion_lexicon to\n",
            "[nltk_data]    |     /root/nltk_data...\n",
            "[nltk_data]    |   Unzipping corpora/opinion_lexicon.zip.\n",
            "[nltk_data]    | Downloading package paradigms to /root/nltk_data...\n",
            "[nltk_data]    |   Unzipping corpora/paradigms.zip.\n",
            "[nltk_data]    | Downloading package pil to /root/nltk_data...\n",
            "[nltk_data]    |   Unzipping corpora/pil.zip.\n",
            "[nltk_data]    | Downloading package pl196x to /root/nltk_data...\n",
            "[nltk_data]    |   Unzipping corpora/pl196x.zip.\n",
            "[nltk_data]    | Downloading package ppattach to /root/nltk_data...\n",
            "[nltk_data]    |   Unzipping corpora/ppattach.zip.\n",
            "[nltk_data]    | Downloading package problem_reports to\n",
            "[nltk_data]    |     /root/nltk_data...\n",
            "[nltk_data]    |   Unzipping corpora/problem_reports.zip.\n",
            "[nltk_data]    | Downloading package propbank to /root/nltk_data...\n",
            "[nltk_data]    | Downloading package ptb to /root/nltk_data...\n",
            "[nltk_data]    |   Unzipping corpora/ptb.zip.\n",
            "[nltk_data]    | Downloading package product_reviews_1 to\n",
            "[nltk_data]    |     /root/nltk_data...\n",
            "[nltk_data]    |   Unzipping corpora/product_reviews_1.zip.\n",
            "[nltk_data]    | Downloading package product_reviews_2 to\n",
            "[nltk_data]    |     /root/nltk_data...\n",
            "[nltk_data]    |   Unzipping corpora/product_reviews_2.zip.\n",
            "[nltk_data]    | Downloading package pros_cons to /root/nltk_data...\n",
            "[nltk_data]    |   Unzipping corpora/pros_cons.zip.\n",
            "[nltk_data]    | Downloading package qc to /root/nltk_data...\n",
            "[nltk_data]    |   Unzipping corpora/qc.zip.\n",
            "[nltk_data]    | Downloading package reuters to /root/nltk_data...\n",
            "[nltk_data]    | Downloading package rte to /root/nltk_data...\n",
            "[nltk_data]    |   Unzipping corpora/rte.zip.\n",
            "[nltk_data]    | Downloading package semcor to /root/nltk_data...\n",
            "[nltk_data]    | Downloading package senseval to /root/nltk_data...\n",
            "[nltk_data]    |   Unzipping corpora/senseval.zip.\n",
            "[nltk_data]    | Downloading package sentiwordnet to\n",
            "[nltk_data]    |     /root/nltk_data...\n",
            "[nltk_data]    |   Unzipping corpora/sentiwordnet.zip.\n",
            "[nltk_data]    | Downloading package sentence_polarity to\n",
            "[nltk_data]    |     /root/nltk_data...\n",
            "[nltk_data]    |   Unzipping corpora/sentence_polarity.zip.\n",
            "[nltk_data]    | Downloading package shakespeare to /root/nltk_data...\n",
            "[nltk_data]    |   Unzipping corpora/shakespeare.zip.\n",
            "[nltk_data]    | Downloading package sinica_treebank to\n",
            "[nltk_data]    |     /root/nltk_data...\n",
            "[nltk_data]    |   Unzipping corpora/sinica_treebank.zip.\n",
            "[nltk_data]    | Downloading package smultron to /root/nltk_data...\n",
            "[nltk_data]    |   Unzipping corpora/smultron.zip.\n",
            "[nltk_data]    | Downloading package state_union to /root/nltk_data...\n",
            "[nltk_data]    |   Unzipping corpora/state_union.zip.\n",
            "[nltk_data]    | Downloading package stopwords to /root/nltk_data...\n",
            "[nltk_data]    |   Unzipping corpora/stopwords.zip.\n",
            "[nltk_data]    | Downloading package subjectivity to\n",
            "[nltk_data]    |     /root/nltk_data...\n",
            "[nltk_data]    |   Unzipping corpora/subjectivity.zip.\n",
            "[nltk_data]    | Downloading package swadesh to /root/nltk_data...\n",
            "[nltk_data]    |   Unzipping corpora/swadesh.zip.\n",
            "[nltk_data]    | Downloading package switchboard to /root/nltk_data...\n",
            "[nltk_data]    |   Unzipping corpora/switchboard.zip.\n",
            "[nltk_data]    | Downloading package timit to /root/nltk_data...\n",
            "[nltk_data]    |   Unzipping corpora/timit.zip.\n",
            "[nltk_data]    | Downloading package toolbox to /root/nltk_data...\n",
            "[nltk_data]    |   Unzipping corpora/toolbox.zip.\n",
            "[nltk_data]    | Downloading package treebank to /root/nltk_data...\n",
            "[nltk_data]    |   Unzipping corpora/treebank.zip.\n",
            "[nltk_data]    | Downloading package twitter_samples to\n",
            "[nltk_data]    |     /root/nltk_data...\n",
            "[nltk_data]    |   Unzipping corpora/twitter_samples.zip.\n",
            "[nltk_data]    | Downloading package udhr to /root/nltk_data...\n",
            "[nltk_data]    |   Unzipping corpora/udhr.zip.\n",
            "[nltk_data]    | Downloading package udhr2 to /root/nltk_data...\n",
            "[nltk_data]    |   Unzipping corpora/udhr2.zip.\n",
            "[nltk_data]    | Downloading package unicode_samples to\n",
            "[nltk_data]    |     /root/nltk_data...\n",
            "[nltk_data]    |   Unzipping corpora/unicode_samples.zip.\n",
            "[nltk_data]    | Downloading package universal_treebanks_v20 to\n",
            "[nltk_data]    |     /root/nltk_data...\n",
            "[nltk_data]    | Downloading package verbnet to /root/nltk_data...\n",
            "[nltk_data]    |   Unzipping corpora/verbnet.zip.\n",
            "[nltk_data]    | Downloading package verbnet3 to /root/nltk_data...\n",
            "[nltk_data]    |   Unzipping corpora/verbnet3.zip.\n",
            "[nltk_data]    | Downloading package webtext to /root/nltk_data...\n",
            "[nltk_data]    |   Unzipping corpora/webtext.zip.\n",
            "[nltk_data]    | Downloading package wordnet to /root/nltk_data...\n",
            "[nltk_data]    |   Unzipping corpora/wordnet.zip.\n",
            "[nltk_data]    | Downloading package wordnet_ic to /root/nltk_data...\n",
            "[nltk_data]    |   Unzipping corpora/wordnet_ic.zip.\n",
            "[nltk_data]    | Downloading package words to /root/nltk_data...\n",
            "[nltk_data]    |   Unzipping corpora/words.zip.\n",
            "[nltk_data]    | Downloading package ycoe to /root/nltk_data...\n",
            "[nltk_data]    |   Unzipping corpora/ycoe.zip.\n",
            "[nltk_data]    | Downloading package rslp to /root/nltk_data...\n",
            "[nltk_data]    |   Unzipping stemmers/rslp.zip.\n",
            "[nltk_data]    | Downloading package maxent_treebank_pos_tagger to\n",
            "[nltk_data]    |     /root/nltk_data...\n",
            "[nltk_data]    |   Unzipping taggers/maxent_treebank_pos_tagger.zip.\n",
            "[nltk_data]    | Downloading package universal_tagset to\n",
            "[nltk_data]    |     /root/nltk_data...\n",
            "[nltk_data]    |   Unzipping taggers/universal_tagset.zip.\n",
            "[nltk_data]    | Downloading package maxent_ne_chunker to\n",
            "[nltk_data]    |     /root/nltk_data...\n",
            "[nltk_data]    |   Unzipping chunkers/maxent_ne_chunker.zip.\n",
            "[nltk_data]    | Downloading package punkt to /root/nltk_data...\n",
            "[nltk_data]    |   Unzipping tokenizers/punkt.zip.\n",
            "[nltk_data]    | Downloading package book_grammars to\n",
            "[nltk_data]    |     /root/nltk_data...\n",
            "[nltk_data]    |   Unzipping grammars/book_grammars.zip.\n",
            "[nltk_data]    | Downloading package sample_grammars to\n",
            "[nltk_data]    |     /root/nltk_data...\n",
            "[nltk_data]    |   Unzipping grammars/sample_grammars.zip.\n",
            "[nltk_data]    | Downloading package spanish_grammars to\n",
            "[nltk_data]    |     /root/nltk_data...\n",
            "[nltk_data]    |   Unzipping grammars/spanish_grammars.zip.\n",
            "[nltk_data]    | Downloading package basque_grammars to\n",
            "[nltk_data]    |     /root/nltk_data...\n",
            "[nltk_data]    |   Unzipping grammars/basque_grammars.zip.\n",
            "[nltk_data]    | Downloading package large_grammars to\n",
            "[nltk_data]    |     /root/nltk_data...\n",
            "[nltk_data]    |   Unzipping grammars/large_grammars.zip.\n",
            "[nltk_data]    | Downloading package tagsets to /root/nltk_data...\n",
            "[nltk_data]    |   Unzipping help/tagsets.zip.\n",
            "[nltk_data]    | Downloading package snowball_data to\n",
            "[nltk_data]    |     /root/nltk_data...\n",
            "[nltk_data]    | Downloading package bllip_wsj_no_aux to\n",
            "[nltk_data]    |     /root/nltk_data...\n",
            "[nltk_data]    |   Unzipping models/bllip_wsj_no_aux.zip.\n",
            "[nltk_data]    | Downloading package word2vec_sample to\n",
            "[nltk_data]    |     /root/nltk_data...\n",
            "[nltk_data]    |   Unzipping models/word2vec_sample.zip.\n",
            "[nltk_data]    | Downloading package panlex_swadesh to\n",
            "[nltk_data]    |     /root/nltk_data...\n",
            "[nltk_data]    | Downloading package mte_teip5 to /root/nltk_data...\n",
            "[nltk_data]    |   Unzipping corpora/mte_teip5.zip.\n",
            "[nltk_data]    | Downloading package averaged_perceptron_tagger to\n",
            "[nltk_data]    |     /root/nltk_data...\n",
            "[nltk_data]    |   Unzipping taggers/averaged_perceptron_tagger.zip.\n",
            "[nltk_data]    | Downloading package averaged_perceptron_tagger_ru to\n",
            "[nltk_data]    |     /root/nltk_data...\n",
            "[nltk_data]    |   Unzipping\n",
            "[nltk_data]    |       taggers/averaged_perceptron_tagger_ru.zip.\n",
            "[nltk_data]    | Downloading package perluniprops to\n",
            "[nltk_data]    |     /root/nltk_data...\n",
            "[nltk_data]    |   Unzipping misc/perluniprops.zip.\n",
            "[nltk_data]    | Downloading package nonbreaking_prefixes to\n",
            "[nltk_data]    |     /root/nltk_data...\n",
            "[nltk_data]    |   Unzipping corpora/nonbreaking_prefixes.zip.\n",
            "[nltk_data]    | Downloading package vader_lexicon to\n",
            "[nltk_data]    |     /root/nltk_data...\n",
            "[nltk_data]    | Downloading package porter_test to /root/nltk_data...\n",
            "[nltk_data]    |   Unzipping stemmers/porter_test.zip.\n",
            "[nltk_data]    | Downloading package wmt15_eval to /root/nltk_data...\n",
            "[nltk_data]    |   Unzipping models/wmt15_eval.zip.\n",
            "[nltk_data]    | Downloading package mwa_ppdb to /root/nltk_data...\n",
            "[nltk_data]    |   Unzipping misc/mwa_ppdb.zip.\n",
            "[nltk_data]    | \n",
            "[nltk_data]  Done downloading collection all\n"
          ],
          "name": "stdout"
        },
        {
          "output_type": "execute_result",
          "data": {
            "text/plain": [
              "True"
            ]
          },
          "metadata": {
            "tags": []
          },
          "execution_count": 2
        }
      ]
    },
    {
      "cell_type": "markdown",
      "metadata": {
        "id": "Wu4EGi1X16yH",
        "colab_type": "text"
      },
      "source": [
        "### Tokenize some documents. You know the drill."
      ]
    },
    {
      "cell_type": "code",
      "metadata": {
        "id": "P16eyp0x1WfJ",
        "colab_type": "code",
        "outputId": "aba1e84c-bc38-4a18-d4ae-b0644bc0fee2",
        "colab": {
          "base_uri": "https://localhost:8080/",
          "height": 54
        }
      },
      "source": [
        "# Step 1\n",
        "raw_content = ['The dog ran up the steps and entered the owner\\'s room to check if the owner was in the room.',\n",
        "             'My name is Aaron Gallant, commander of the Machine Learning program at Lambda School.',\n",
        "             'I am creating the curriculum for the Machine Learning program and will be teaching the full-time Machine Learning program.',\n",
        "            'Machine Learning is one of my favorite subjects.',\n",
        "            'I am excited about taking the Machine Learning class at the Lambda school starting in April.',\n",
        "                'When does the Machine Learning program kick-off at Lambda school?',\n",
        "                'The batter hit the ball out off AT&T park into the pacific ocean.',\n",
        "                'The pitcher threw the ball into the dug-out.']\n",
        "\n",
        "from nltk.tokenize import word_tokenize\n",
        "sentences = [word_tokenize(text) for text in raw_content]\n",
        "print(sentences)"
      ],
      "execution_count": 3,
      "outputs": [
        {
          "output_type": "stream",
          "text": [
            "[['The', 'dog', 'ran', 'up', 'the', 'steps', 'and', 'entered', 'the', 'owner', \"'s\", 'room', 'to', 'check', 'if', 'the', 'owner', 'was', 'in', 'the', 'room', '.'], ['My', 'name', 'is', 'Aaron', 'Gallant', ',', 'commander', 'of', 'the', 'Machine', 'Learning', 'program', 'at', 'Lambda', 'School', '.'], ['I', 'am', 'creating', 'the', 'curriculum', 'for', 'the', 'Machine', 'Learning', 'program', 'and', 'will', 'be', 'teaching', 'the', 'full-time', 'Machine', 'Learning', 'program', '.'], ['Machine', 'Learning', 'is', 'one', 'of', 'my', 'favorite', 'subjects', '.'], ['I', 'am', 'excited', 'about', 'taking', 'the', 'Machine', 'Learning', 'class', 'at', 'the', 'Lambda', 'school', 'starting', 'in', 'April', '.'], ['When', 'does', 'the', 'Machine', 'Learning', 'program', 'kick-off', 'at', 'Lambda', 'school', '?'], ['The', 'batter', 'hit', 'the', 'ball', 'out', 'off', 'AT', '&', 'T', 'park', 'into', 'the', 'pacific', 'ocean', '.'], ['The', 'pitcher', 'threw', 'the', 'ball', 'into', 'the', 'dug-out', '.']]\n"
          ],
          "name": "stdout"
        }
      ]
    },
    {
      "cell_type": "markdown",
      "metadata": {
        "id": "XOUS7Ebv2WMF",
        "colab_type": "text"
      },
      "source": [
        "### Train the Word2vec model with tokenized content \n",
        "\n",
        "Size of the word vectors is 5; the word should show-up at least once in the raw content."
      ]
    },
    {
      "cell_type": "code",
      "metadata": {
        "id": "lLROR4wy2hzS",
        "colab_type": "code",
        "outputId": "1c1618d6-42cb-403f-90e6-77ba36aea037",
        "colab": {
          "base_uri": "https://localhost:8080/",
          "height": 9489
        }
      },
      "source": [
        "# Step 2\n",
        "from gensim.models.word2vec import Word2Vec\n",
        "\n",
        "help(Word2Vec)"
      ],
      "execution_count": 4,
      "outputs": [
        {
          "output_type": "stream",
          "text": [
            "Help on class Word2Vec in module gensim.models.word2vec:\n",
            "\n",
            "class Word2Vec(gensim.models.base_any2vec.BaseWordEmbeddingsModel)\n",
            " |  Train, use and evaluate neural networks described in https://code.google.com/p/word2vec/.\n",
            " |  \n",
            " |  Once you're finished training a model (=no more updates, only querying)\n",
            " |  store and use only the :class:`~gensim.models.keyedvectors.KeyedVectors` instance in `self.wv` to reduce memory.\n",
            " |  \n",
            " |  The model can be stored/loaded via its :meth:`~gensim.models.word2vec.Word2Vec.save` and\n",
            " |  :meth:`~gensim.models.word2vec.Word2Vec.load` methods.\n",
            " |  \n",
            " |  The trained word vectors can also be stored/loaded from a format compatible with the\n",
            " |  original word2vec implementation via `self.wv.save_word2vec_format`\n",
            " |  and :meth:`gensim.models.keyedvectors.KeyedVectors.load_word2vec_format`.\n",
            " |  \n",
            " |  Some important attributes are the following:\n",
            " |  \n",
            " |  Attributes\n",
            " |  ----------\n",
            " |  wv : :class:`~gensim.models.keyedvectors.Word2VecKeyedVectors`\n",
            " |      This object essentially contains the mapping between words and embeddings. After training, it can be used\n",
            " |      directly to query those embeddings in various ways. See the module level docstring for examples.\n",
            " |  \n",
            " |  vocabulary : :class:`~gensim.models.word2vec.Word2VecVocab`\n",
            " |      This object represents the vocabulary (sometimes called Dictionary in gensim) of the model.\n",
            " |      Besides keeping track of all unique words, this object provides extra functionality, such as\n",
            " |      constructing a huffman tree (frequent words are closer to the root), or discarding extremely rare words.\n",
            " |  \n",
            " |  trainables : :class:`~gensim.models.word2vec.Word2VecTrainables`\n",
            " |      This object represents the inner shallow neural network used to train the embeddings. The semantics of the\n",
            " |      network differ slightly in the two available training modes (CBOW or SG) but you can think of it as a NN with\n",
            " |      a single projection and hidden layer which we train on the corpus. The weights are then used as our embeddings\n",
            " |      (which means that the size of the hidden layer is equal to the number of features `self.size`).\n",
            " |  \n",
            " |  Method resolution order:\n",
            " |      Word2Vec\n",
            " |      gensim.models.base_any2vec.BaseWordEmbeddingsModel\n",
            " |      gensim.models.base_any2vec.BaseAny2VecModel\n",
            " |      gensim.utils.SaveLoad\n",
            " |      builtins.object\n",
            " |  \n",
            " |  Methods defined here:\n",
            " |  \n",
            " |  __contains__(self, word)\n",
            " |      Deprecated. Use `self.wv.__contains__` instead.\n",
            " |      Refer to the documentation for :meth:`~gensim.models.keyedvectors.Word2VecKeyedVectors.__contains__`.\n",
            " |  \n",
            " |  __getitem__(self, words)\n",
            " |      Deprecated. Use `self.wv.__getitem__` instead.\n",
            " |      Refer to the documentation for :meth:`~gensim.models.keyedvectors.Word2VecKeyedVectors.__getitem__`.\n",
            " |  \n",
            " |  __init__(self, sentences=None, corpus_file=None, size=100, alpha=0.025, window=5, min_count=5, max_vocab_size=None, sample=0.001, seed=1, workers=3, min_alpha=0.0001, sg=0, hs=0, negative=5, ns_exponent=0.75, cbow_mean=1, hashfxn=<built-in function hash>, iter=5, null_word=0, trim_rule=None, sorted_vocab=1, batch_words=10000, compute_loss=False, callbacks=(), max_final_vocab=None)\n",
            " |      Parameters\n",
            " |      ----------\n",
            " |      sentences : iterable of iterables, optional\n",
            " |          The `sentences` iterable can be simply a list of lists of tokens, but for larger corpora,\n",
            " |          consider an iterable that streams the sentences directly from disk/network.\n",
            " |          See :class:`~gensim.models.word2vec.BrownCorpus`, :class:`~gensim.models.word2vec.Text8Corpus`\n",
            " |          or :class:`~gensim.models.word2vec.LineSentence` in :mod:`~gensim.models.word2vec` module for such examples.\n",
            " |          See also the `tutorial on data streaming in Python\n",
            " |          <https://rare-technologies.com/data-streaming-in-python-generators-iterators-iterables/>`_.\n",
            " |          If you don't supply `sentences`, the model is left uninitialized -- use if you plan to initialize it\n",
            " |          in some other way.\n",
            " |      corpus_file : str, optional\n",
            " |          Path to a corpus file in :class:`~gensim.models.word2vec.LineSentence` format.\n",
            " |          You may use this argument instead of `sentences` to get performance boost. Only one of `sentences` or\n",
            " |          `corpus_file` arguments need to be passed (or none of them, in that case, the model is left uninitialized).\n",
            " |      size : int, optional\n",
            " |          Dimensionality of the word vectors.\n",
            " |      window : int, optional\n",
            " |          Maximum distance between the current and predicted word within a sentence.\n",
            " |      min_count : int, optional\n",
            " |          Ignores all words with total frequency lower than this.\n",
            " |      workers : int, optional\n",
            " |          Use these many worker threads to train the model (=faster training with multicore machines).\n",
            " |      sg : {0, 1}, optional\n",
            " |          Training algorithm: 1 for skip-gram; otherwise CBOW.\n",
            " |      hs : {0, 1}, optional\n",
            " |          If 1, hierarchical softmax will be used for model training.\n",
            " |          If 0, and `negative` is non-zero, negative sampling will be used.\n",
            " |      negative : int, optional\n",
            " |          If > 0, negative sampling will be used, the int for negative specifies how many \"noise words\"\n",
            " |          should be drawn (usually between 5-20).\n",
            " |          If set to 0, no negative sampling is used.\n",
            " |      ns_exponent : float, optional\n",
            " |          The exponent used to shape the negative sampling distribution. A value of 1.0 samples exactly in proportion\n",
            " |          to the frequencies, 0.0 samples all words equally, while a negative value samples low-frequency words more\n",
            " |          than high-frequency words. The popular default value of 0.75 was chosen by the original Word2Vec paper.\n",
            " |          More recently, in https://arxiv.org/abs/1804.04212, Caselles-Dupré, Lesaint, & Royo-Letelier suggest that\n",
            " |          other values may perform better for recommendation applications.\n",
            " |      cbow_mean : {0, 1}, optional\n",
            " |          If 0, use the sum of the context word vectors. If 1, use the mean, only applies when cbow is used.\n",
            " |      alpha : float, optional\n",
            " |          The initial learning rate.\n",
            " |      min_alpha : float, optional\n",
            " |          Learning rate will linearly drop to `min_alpha` as training progresses.\n",
            " |      seed : int, optional\n",
            " |          Seed for the random number generator. Initial vectors for each word are seeded with a hash of\n",
            " |          the concatenation of word + `str(seed)`. Note that for a fully deterministically-reproducible run,\n",
            " |          you must also limit the model to a single worker thread (`workers=1`), to eliminate ordering jitter\n",
            " |          from OS thread scheduling. (In Python 3, reproducibility between interpreter launches also requires\n",
            " |          use of the `PYTHONHASHSEED` environment variable to control hash randomization).\n",
            " |      max_vocab_size : int, optional\n",
            " |          Limits the RAM during vocabulary building; if there are more unique\n",
            " |          words than this, then prune the infrequent ones. Every 10 million word types need about 1GB of RAM.\n",
            " |          Set to `None` for no limit.\n",
            " |      max_final_vocab : int, optional\n",
            " |          Limits the vocab to a target vocab size by automatically picking a matching min_count. If the specified\n",
            " |          min_count is more than the calculated min_count, the specified min_count will be used.\n",
            " |          Set to `None` if not required.\n",
            " |      sample : float, optional\n",
            " |          The threshold for configuring which higher-frequency words are randomly downsampled,\n",
            " |          useful range is (0, 1e-5).\n",
            " |      hashfxn : function, optional\n",
            " |          Hash function to use to randomly initialize weights, for increased training reproducibility.\n",
            " |      iter : int, optional\n",
            " |          Number of iterations (epochs) over the corpus.\n",
            " |      trim_rule : function, optional\n",
            " |          Vocabulary trimming rule, specifies whether certain words should remain in the vocabulary,\n",
            " |          be trimmed away, or handled using the default (discard if word count < min_count).\n",
            " |          Can be None (min_count will be used, look to :func:`~gensim.utils.keep_vocab_item`),\n",
            " |          or a callable that accepts parameters (word, count, min_count) and returns either\n",
            " |          :attr:`gensim.utils.RULE_DISCARD`, :attr:`gensim.utils.RULE_KEEP` or :attr:`gensim.utils.RULE_DEFAULT`.\n",
            " |          The rule, if given, is only used to prune vocabulary during build_vocab() and is not stored as part of the\n",
            " |          model.\n",
            " |      \n",
            " |          The input parameters are of the following types:\n",
            " |              * `word` (str) - the word we are examining\n",
            " |              * `count` (int) - the word's frequency count in the corpus\n",
            " |              * `min_count` (int) - the minimum count threshold.\n",
            " |      sorted_vocab : {0, 1}, optional\n",
            " |          If 1, sort the vocabulary by descending frequency before assigning word indexes.\n",
            " |          See :meth:`~gensim.models.word2vec.Word2VecVocab.sort_vocab()`.\n",
            " |      batch_words : int, optional\n",
            " |          Target size (in words) for batches of examples passed to worker threads (and\n",
            " |          thus cython routines).(Larger batches will be passed if individual\n",
            " |          texts are longer than 10000 words, but the standard cython code truncates to that maximum.)\n",
            " |      compute_loss: bool, optional\n",
            " |          If True, computes and stores loss value which can be retrieved using\n",
            " |          :meth:`~gensim.models.word2vec.Word2Vec.get_latest_training_loss`.\n",
            " |      callbacks : iterable of :class:`~gensim.models.callbacks.CallbackAny2Vec`, optional\n",
            " |          Sequence of callbacks to be executed at specific stages during training.\n",
            " |      \n",
            " |      Examples\n",
            " |      --------\n",
            " |      Initialize and train a :class:`~gensim.models.word2vec.Word2Vec` model\n",
            " |      \n",
            " |      .. sourcecode:: pycon\n",
            " |      \n",
            " |          >>> from gensim.models import Word2Vec\n",
            " |          >>> sentences = [[\"cat\", \"say\", \"meow\"], [\"dog\", \"say\", \"woof\"]]\n",
            " |          >>> model = Word2Vec(sentences, min_count=1)\n",
            " |  \n",
            " |  __str__(self)\n",
            " |      Human readable representation of the model's state.\n",
            " |      \n",
            " |      Returns\n",
            " |      -------\n",
            " |      str\n",
            " |          Human readable representation of the model's state, including the vocabulary size, vector size\n",
            " |          and learning rate.\n",
            " |  \n",
            " |  accuracy(self, questions, restrict_vocab=30000, most_similar=None, case_insensitive=True)\n",
            " |      Deprecated. Use `self.wv.accuracy` instead.\n",
            " |      See :meth:`~gensim.models.word2vec.Word2VecKeyedVectors.accuracy`.\n",
            " |  \n",
            " |  clear_sims(self)\n",
            " |      Remove all L2-normalized word vectors from the model, to free up memory.\n",
            " |      \n",
            " |      You can recompute them later again using the :meth:`~gensim.models.word2vec.Word2Vec.init_sims` method.\n",
            " |  \n",
            " |  delete_temporary_training_data(self, replace_word_vectors_with_normalized=False)\n",
            " |      Discard parameters that are used in training and scoring, to save memory.\n",
            " |      \n",
            " |      Warnings\n",
            " |      --------\n",
            " |      Use only if you're sure you're done training a model.\n",
            " |      \n",
            " |      Parameters\n",
            " |      ----------\n",
            " |      replace_word_vectors_with_normalized : bool, optional\n",
            " |          If True, forget the original (not normalized) word vectors and only keep\n",
            " |          the L2-normalized word vectors, to save even more memory.\n",
            " |  \n",
            " |  get_latest_training_loss(self)\n",
            " |      Get current value of the training loss.\n",
            " |      \n",
            " |      Returns\n",
            " |      -------\n",
            " |      float\n",
            " |          Current training loss.\n",
            " |  \n",
            " |  init_sims(self, replace=False)\n",
            " |      Deprecated. Use `self.wv.init_sims` instead.\n",
            " |      See :meth:`~gensim.models.keyedvectors.Word2VecKeyedVectors.init_sims`.\n",
            " |  \n",
            " |  intersect_word2vec_format(self, fname, lockf=0.0, binary=False, encoding='utf8', unicode_errors='strict')\n",
            " |      Merge in an input-hidden weight matrix loaded from the original C word2vec-tool format,\n",
            " |      where it intersects with the current vocabulary.\n",
            " |      \n",
            " |      No words are added to the existing vocabulary, but intersecting words adopt the file's weights, and\n",
            " |      non-intersecting words are left alone.\n",
            " |      \n",
            " |      Parameters\n",
            " |      ----------\n",
            " |      fname : str\n",
            " |          The file path to load the vectors from.\n",
            " |      lockf : float, optional\n",
            " |          Lock-factor value to be set for any imported word-vectors; the\n",
            " |          default value of 0.0 prevents further updating of the vector during subsequent\n",
            " |          training. Use 1.0 to allow further training updates of merged vectors.\n",
            " |      binary : bool, optional\n",
            " |          If True, `fname` is in the binary word2vec C format.\n",
            " |      encoding : str, optional\n",
            " |          Encoding of `text` for `unicode` function (python2 only).\n",
            " |      unicode_errors : str, optional\n",
            " |          Error handling behaviour, used as parameter for `unicode` function (python2 only).\n",
            " |  \n",
            " |  predict_output_word(self, context_words_list, topn=10)\n",
            " |      Get the probability distribution of the center word given context words.\n",
            " |      \n",
            " |      Parameters\n",
            " |      ----------\n",
            " |      context_words_list : list of str\n",
            " |          List of context words.\n",
            " |      topn : int, optional\n",
            " |          Return `topn` words and their probabilities.\n",
            " |      \n",
            " |      Returns\n",
            " |      -------\n",
            " |      list of (str, float)\n",
            " |          `topn` length list of tuples of (word, probability).\n",
            " |  \n",
            " |  reset_from(self, other_model)\n",
            " |      Borrow shareable pre-built structures from `other_model` and reset hidden layer weights.\n",
            " |      \n",
            " |      Structures copied are:\n",
            " |          * Vocabulary\n",
            " |          * Index to word mapping\n",
            " |          * Cumulative frequency table (used for negative sampling)\n",
            " |          * Cached corpus length\n",
            " |      \n",
            " |      Useful when testing multiple models on the same corpus in parallel.\n",
            " |      \n",
            " |      Parameters\n",
            " |      ----------\n",
            " |      other_model : :class:`~gensim.models.word2vec.Word2Vec`\n",
            " |          Another model to copy the internal structures from.\n",
            " |  \n",
            " |  save(self, *args, **kwargs)\n",
            " |      Save the model.\n",
            " |      This saved model can be loaded again using :func:`~gensim.models.word2vec.Word2Vec.load`, which supports\n",
            " |      online training and getting vectors for vocabulary words.\n",
            " |      \n",
            " |      Parameters\n",
            " |      ----------\n",
            " |      fname : str\n",
            " |          Path to the file.\n",
            " |  \n",
            " |  save_word2vec_format(self, fname, fvocab=None, binary=False)\n",
            " |      Deprecated. Use `model.wv.save_word2vec_format` instead.\n",
            " |      See :meth:`gensim.models.KeyedVectors.save_word2vec_format`.\n",
            " |  \n",
            " |  score(self, sentences, total_sentences=1000000, chunksize=100, queue_factor=2, report_delay=1)\n",
            " |      Score the log probability for a sequence of sentences.\n",
            " |      This does not change the fitted model in any way (see :meth:`~gensim.models.word2vec.Word2Vec.train` for that).\n",
            " |      \n",
            " |      Gensim has currently only implemented score for the hierarchical softmax scheme,\n",
            " |      so you need to have run word2vec with `hs=1` and `negative=0` for this to work.\n",
            " |      \n",
            " |      Note that you should specify `total_sentences`; you'll run into problems if you ask to\n",
            " |      score more than this number of sentences but it is inefficient to set the value too high.\n",
            " |      \n",
            " |      See the `article by Matt Taddy: \"Document Classification by Inversion of Distributed Language Representations\"\n",
            " |      <https://arxiv.org/pdf/1504.07295.pdf>`_ and the\n",
            " |      `gensim demo <https://github.com/piskvorky/gensim/blob/develop/docs/notebooks/deepir.ipynb>`_ for examples of\n",
            " |      how to use such scores in document classification.\n",
            " |      \n",
            " |      Parameters\n",
            " |      ----------\n",
            " |      sentences : iterable of list of str\n",
            " |          The `sentences` iterable can be simply a list of lists of tokens, but for larger corpora,\n",
            " |          consider an iterable that streams the sentences directly from disk/network.\n",
            " |          See :class:`~gensim.models.word2vec.BrownCorpus`, :class:`~gensim.models.word2vec.Text8Corpus`\n",
            " |          or :class:`~gensim.models.word2vec.LineSentence` in :mod:`~gensim.models.word2vec` module for such examples.\n",
            " |      total_sentences : int, optional\n",
            " |          Count of sentences.\n",
            " |      chunksize : int, optional\n",
            " |          Chunksize of jobs\n",
            " |      queue_factor : int, optional\n",
            " |          Multiplier for size of queue (number of workers * queue_factor).\n",
            " |      report_delay : float, optional\n",
            " |          Seconds to wait before reporting progress.\n",
            " |  \n",
            " |  train(self, sentences=None, corpus_file=None, total_examples=None, total_words=None, epochs=None, start_alpha=None, end_alpha=None, word_count=0, queue_factor=2, report_delay=1.0, compute_loss=False, callbacks=())\n",
            " |      Update the model's neural weights from a sequence of sentences.\n",
            " |      \n",
            " |      Notes\n",
            " |      -----\n",
            " |      To support linear learning-rate decay from (initial) `alpha` to `min_alpha`, and accurate\n",
            " |      progress-percentage logging, either `total_examples` (count of sentences) or `total_words` (count of\n",
            " |      raw words in sentences) **MUST** be provided. If `sentences` is the same corpus\n",
            " |      that was provided to :meth:`~gensim.models.word2vec.Word2Vec.build_vocab` earlier,\n",
            " |      you can simply use `total_examples=self.corpus_count`.\n",
            " |      \n",
            " |      Warnings\n",
            " |      --------\n",
            " |      To avoid common mistakes around the model's ability to do multiple training passes itself, an\n",
            " |      explicit `epochs` argument **MUST** be provided. In the common and recommended case\n",
            " |      where :meth:`~gensim.models.word2vec.Word2Vec.train` is only called once, you can set `epochs=self.iter`.\n",
            " |      \n",
            " |      Parameters\n",
            " |      ----------\n",
            " |      sentences : iterable of list of str\n",
            " |          The `sentences` iterable can be simply a list of lists of tokens, but for larger corpora,\n",
            " |          consider an iterable that streams the sentences directly from disk/network.\n",
            " |          See :class:`~gensim.models.word2vec.BrownCorpus`, :class:`~gensim.models.word2vec.Text8Corpus`\n",
            " |          or :class:`~gensim.models.word2vec.LineSentence` in :mod:`~gensim.models.word2vec` module for such examples.\n",
            " |          See also the `tutorial on data streaming in Python\n",
            " |          <https://rare-technologies.com/data-streaming-in-python-generators-iterators-iterables/>`_.\n",
            " |      corpus_file : str, optional\n",
            " |          Path to a corpus file in :class:`~gensim.models.word2vec.LineSentence` format.\n",
            " |          You may use this argument instead of `sentences` to get performance boost. Only one of `sentences` or\n",
            " |          `corpus_file` arguments need to be passed (not both of them).\n",
            " |      total_examples : int\n",
            " |          Count of sentences.\n",
            " |      total_words : int\n",
            " |          Count of raw words in sentences.\n",
            " |      epochs : int\n",
            " |          Number of iterations (epochs) over the corpus.\n",
            " |      start_alpha : float, optional\n",
            " |          Initial learning rate. If supplied, replaces the starting `alpha` from the constructor,\n",
            " |          for this one call to`train()`.\n",
            " |          Use only if making multiple calls to `train()`, when you want to manage the alpha learning-rate yourself\n",
            " |          (not recommended).\n",
            " |      end_alpha : float, optional\n",
            " |          Final learning rate. Drops linearly from `start_alpha`.\n",
            " |          If supplied, this replaces the final `min_alpha` from the constructor, for this one call to `train()`.\n",
            " |          Use only if making multiple calls to `train()`, when you want to manage the alpha learning-rate yourself\n",
            " |          (not recommended).\n",
            " |      word_count : int, optional\n",
            " |          Count of words already trained. Set this to 0 for the usual\n",
            " |          case of training on all words in sentences.\n",
            " |      queue_factor : int, optional\n",
            " |          Multiplier for size of queue (number of workers * queue_factor).\n",
            " |      report_delay : float, optional\n",
            " |          Seconds to wait before reporting progress.\n",
            " |      compute_loss: bool, optional\n",
            " |          If True, computes and stores loss value which can be retrieved using\n",
            " |          :meth:`~gensim.models.word2vec.Word2Vec.get_latest_training_loss`.\n",
            " |      callbacks : iterable of :class:`~gensim.models.callbacks.CallbackAny2Vec`, optional\n",
            " |          Sequence of callbacks to be executed at specific stages during training.\n",
            " |      \n",
            " |      Examples\n",
            " |      --------\n",
            " |      .. sourcecode:: pycon\n",
            " |      \n",
            " |          >>> from gensim.models import Word2Vec\n",
            " |          >>> sentences = [[\"cat\", \"say\", \"meow\"], [\"dog\", \"say\", \"woof\"]]\n",
            " |          >>>\n",
            " |          >>> model = Word2Vec(min_count=1)\n",
            " |          >>> model.build_vocab(sentences)  # prepare the model vocabulary\n",
            " |          >>> model.train(sentences, total_examples=model.corpus_count, epochs=model.iter)  # train word vectors\n",
            " |          (1, 30)\n",
            " |  \n",
            " |  ----------------------------------------------------------------------\n",
            " |  Class methods defined here:\n",
            " |  \n",
            " |  load(*args, **kwargs) from builtins.type\n",
            " |      Load a previously saved :class:`~gensim.models.word2vec.Word2Vec` model.\n",
            " |      \n",
            " |      See Also\n",
            " |      --------\n",
            " |      :meth:`~gensim.models.word2vec.Word2Vec.save`\n",
            " |          Save model.\n",
            " |      \n",
            " |      Parameters\n",
            " |      ----------\n",
            " |      fname : str\n",
            " |          Path to the saved file.\n",
            " |      \n",
            " |      Returns\n",
            " |      -------\n",
            " |      :class:`~gensim.models.word2vec.Word2Vec`\n",
            " |          Loaded model.\n",
            " |  \n",
            " |  load_word2vec_format(fname, fvocab=None, binary=False, encoding='utf8', unicode_errors='strict', limit=None, datatype=<class 'numpy.float32'>) from builtins.type\n",
            " |      Deprecated. Use :meth:`gensim.models.KeyedVectors.load_word2vec_format` instead.\n",
            " |  \n",
            " |  ----------------------------------------------------------------------\n",
            " |  Static methods defined here:\n",
            " |  \n",
            " |  log_accuracy(section)\n",
            " |      Deprecated. Use `self.wv.log_accuracy` instead.\n",
            " |      See :meth:`~gensim.models.word2vec.Word2VecKeyedVectors.log_accuracy`.\n",
            " |  \n",
            " |  ----------------------------------------------------------------------\n",
            " |  Methods inherited from gensim.models.base_any2vec.BaseWordEmbeddingsModel:\n",
            " |  \n",
            " |  build_vocab(self, sentences=None, corpus_file=None, update=False, progress_per=10000, keep_raw_vocab=False, trim_rule=None, **kwargs)\n",
            " |      Build vocabulary from a sequence of sentences (can be a once-only generator stream).\n",
            " |      \n",
            " |      Parameters\n",
            " |      ----------\n",
            " |      sentences : iterable of list of str\n",
            " |          Can be simply a list of lists of tokens, but for larger corpora,\n",
            " |          consider an iterable that streams the sentences directly from disk/network.\n",
            " |          See :class:`~gensim.models.word2vec.BrownCorpus`, :class:`~gensim.models.word2vec.Text8Corpus`\n",
            " |          or :class:`~gensim.models.word2vec.LineSentence` module for such examples.\n",
            " |      corpus_file : str, optional\n",
            " |          Path to a corpus file in :class:`~gensim.models.word2vec.LineSentence` format.\n",
            " |          You may use this argument instead of `sentences` to get performance boost. Only one of `sentences` or\n",
            " |          `corpus_file` arguments need to be passed (not both of them).\n",
            " |      update : bool\n",
            " |          If true, the new words in `sentences` will be added to model's vocab.\n",
            " |      progress_per : int, optional\n",
            " |          Indicates how many words to process before showing/updating the progress.\n",
            " |      keep_raw_vocab : bool, optional\n",
            " |          If False, the raw vocabulary will be deleted after the scaling is done to free up RAM.\n",
            " |      trim_rule : function, optional\n",
            " |          Vocabulary trimming rule, specifies whether certain words should remain in the vocabulary,\n",
            " |          be trimmed away, or handled using the default (discard if word count < min_count).\n",
            " |          Can be None (min_count will be used, look to :func:`~gensim.utils.keep_vocab_item`),\n",
            " |          or a callable that accepts parameters (word, count, min_count) and returns either\n",
            " |          :attr:`gensim.utils.RULE_DISCARD`, :attr:`gensim.utils.RULE_KEEP` or :attr:`gensim.utils.RULE_DEFAULT`.\n",
            " |          The rule, if given, is only used to prune vocabulary during current method call and is not stored as part\n",
            " |          of the model.\n",
            " |      \n",
            " |          The input parameters are of the following types:\n",
            " |              * `word` (str) - the word we are examining\n",
            " |              * `count` (int) - the word's frequency count in the corpus\n",
            " |              * `min_count` (int) - the minimum count threshold.\n",
            " |      \n",
            " |      **kwargs : object\n",
            " |          Key word arguments propagated to `self.vocabulary.prepare_vocab`\n",
            " |  \n",
            " |  build_vocab_from_freq(self, word_freq, keep_raw_vocab=False, corpus_count=None, trim_rule=None, update=False)\n",
            " |      Build vocabulary from a dictionary of word frequencies.\n",
            " |      \n",
            " |      Parameters\n",
            " |      ----------\n",
            " |      word_freq : dict of (str, int)\n",
            " |          A mapping from a word in the vocabulary to its frequency count.\n",
            " |      keep_raw_vocab : bool, optional\n",
            " |          If False, delete the raw vocabulary after the scaling is done to free up RAM.\n",
            " |      corpus_count : int, optional\n",
            " |          Even if no corpus is provided, this argument can set corpus_count explicitly.\n",
            " |      trim_rule : function, optional\n",
            " |          Vocabulary trimming rule, specifies whether certain words should remain in the vocabulary,\n",
            " |          be trimmed away, or handled using the default (discard if word count < min_count).\n",
            " |          Can be None (min_count will be used, look to :func:`~gensim.utils.keep_vocab_item`),\n",
            " |          or a callable that accepts parameters (word, count, min_count) and returns either\n",
            " |          :attr:`gensim.utils.RULE_DISCARD`, :attr:`gensim.utils.RULE_KEEP` or :attr:`gensim.utils.RULE_DEFAULT`.\n",
            " |          The rule, if given, is only used to prune vocabulary during current method call and is not stored as part\n",
            " |          of the model.\n",
            " |      \n",
            " |          The input parameters are of the following types:\n",
            " |              * `word` (str) - the word we are examining\n",
            " |              * `count` (int) - the word's frequency count in the corpus\n",
            " |              * `min_count` (int) - the minimum count threshold.\n",
            " |      \n",
            " |      update : bool, optional\n",
            " |          If true, the new provided words in `word_freq` dict will be added to model's vocab.\n",
            " |  \n",
            " |  doesnt_match(self, words)\n",
            " |      Deprecated, use self.wv.doesnt_match() instead.\n",
            " |      \n",
            " |      Refer to the documentation for :meth:`~gensim.models.keyedvectors.WordEmbeddingsKeyedVectors.doesnt_match`.\n",
            " |  \n",
            " |  estimate_memory(self, vocab_size=None, report=None)\n",
            " |      Estimate required memory for a model using current settings and provided vocabulary size.\n",
            " |      \n",
            " |      Parameters\n",
            " |      ----------\n",
            " |      vocab_size : int, optional\n",
            " |          Number of unique tokens in the vocabulary\n",
            " |      report : dict of (str, int), optional\n",
            " |          A dictionary from string representations of the model's memory consuming members to their size in bytes.\n",
            " |      \n",
            " |      Returns\n",
            " |      -------\n",
            " |      dict of (str, int)\n",
            " |          A dictionary from string representations of the model's memory consuming members to their size in bytes.\n",
            " |  \n",
            " |  evaluate_word_pairs(self, pairs, delimiter='\\t', restrict_vocab=300000, case_insensitive=True, dummy4unknown=False)\n",
            " |      Deprecated, use self.wv.evaluate_word_pairs() instead.\n",
            " |      \n",
            " |      Refer to the documentation for\n",
            " |      :meth:`~gensim.models.keyedvectors.WordEmbeddingsKeyedVectors.evaluate_word_pairs`.\n",
            " |  \n",
            " |  most_similar(self, positive=None, negative=None, topn=10, restrict_vocab=None, indexer=None)\n",
            " |      Deprecated, use self.wv.most_similar() instead.\n",
            " |      \n",
            " |      Refer to the documentation for :meth:`~gensim.models.keyedvectors.WordEmbeddingsKeyedVectors.most_similar`.\n",
            " |  \n",
            " |  most_similar_cosmul(self, positive=None, negative=None, topn=10)\n",
            " |      Deprecated, use self.wv.most_similar_cosmul() instead.\n",
            " |      \n",
            " |      Refer to the documentation for\n",
            " |      :meth:`~gensim.models.keyedvectors.WordEmbeddingsKeyedVectors.most_similar_cosmul`.\n",
            " |  \n",
            " |  n_similarity(self, ws1, ws2)\n",
            " |      Deprecated, use self.wv.n_similarity() instead.\n",
            " |      \n",
            " |      Refer to the documentation for :meth:`~gensim.models.keyedvectors.WordEmbeddingsKeyedVectors.n_similarity`.\n",
            " |  \n",
            " |  similar_by_vector(self, vector, topn=10, restrict_vocab=None)\n",
            " |      Deprecated, use self.wv.similar_by_vector() instead.\n",
            " |      \n",
            " |      Refer to the documentation for :meth:`~gensim.models.keyedvectors.WordEmbeddingsKeyedVectors.similar_by_vector`.\n",
            " |  \n",
            " |  similar_by_word(self, word, topn=10, restrict_vocab=None)\n",
            " |      Deprecated, use self.wv.similar_by_word() instead.\n",
            " |      \n",
            " |      Refer to the documentation for :meth:`~gensim.models.keyedvectors.WordEmbeddingsKeyedVectors.similar_by_word`.\n",
            " |  \n",
            " |  similarity(self, w1, w2)\n",
            " |      Deprecated, use self.wv.similarity() instead.\n",
            " |      \n",
            " |      Refer to the documentation for :meth:`~gensim.models.keyedvectors.WordEmbeddingsKeyedVectors.similarity`.\n",
            " |  \n",
            " |  wmdistance(self, document1, document2)\n",
            " |      Deprecated, use self.wv.wmdistance() instead.\n",
            " |      \n",
            " |      Refer to the documentation for :meth:`~gensim.models.keyedvectors.WordEmbeddingsKeyedVectors.wmdistance`.\n",
            " |  \n",
            " |  ----------------------------------------------------------------------\n",
            " |  Data descriptors inherited from gensim.models.base_any2vec.BaseWordEmbeddingsModel:\n",
            " |  \n",
            " |  cum_table\n",
            " |  \n",
            " |  hashfxn\n",
            " |  \n",
            " |  iter\n",
            " |  \n",
            " |  layer1_size\n",
            " |  \n",
            " |  min_count\n",
            " |  \n",
            " |  sample\n",
            " |  \n",
            " |  syn0_lockf\n",
            " |  \n",
            " |  syn1\n",
            " |  \n",
            " |  syn1neg\n",
            " |  \n",
            " |  ----------------------------------------------------------------------\n",
            " |  Data descriptors inherited from gensim.utils.SaveLoad:\n",
            " |  \n",
            " |  __dict__\n",
            " |      dictionary for instance variables (if defined)\n",
            " |  \n",
            " |  __weakref__\n",
            " |      list of weak references to the object (if defined)\n",
            "\n"
          ],
          "name": "stdout"
        }
      ]
    },
    {
      "cell_type": "markdown",
      "metadata": {
        "id": "zjbMMIW9tklY",
        "colab_type": "text"
      },
      "source": [
        "### Lets take a look at our model"
      ]
    },
    {
      "cell_type": "code",
      "metadata": {
        "id": "onLDHJzM2lAx",
        "colab_type": "code",
        "outputId": "17b5cdad-c8c6-49d8-ba57-bb49bdf405ba",
        "colab": {
          "base_uri": "https://localhost:8080/",
          "height": 1955
        }
      },
      "source": [
        "model = Word2Vec(sentences, min_count=1, size=5)\n",
        "dir(model)"
      ],
      "execution_count": 5,
      "outputs": [
        {
          "output_type": "execute_result",
          "data": {
            "text/plain": [
              "['__class__',\n",
              " '__contains__',\n",
              " '__delattr__',\n",
              " '__dict__',\n",
              " '__dir__',\n",
              " '__doc__',\n",
              " '__eq__',\n",
              " '__format__',\n",
              " '__ge__',\n",
              " '__getattribute__',\n",
              " '__getitem__',\n",
              " '__gt__',\n",
              " '__hash__',\n",
              " '__init__',\n",
              " '__init_subclass__',\n",
              " '__le__',\n",
              " '__lt__',\n",
              " '__module__',\n",
              " '__ne__',\n",
              " '__new__',\n",
              " '__reduce__',\n",
              " '__reduce_ex__',\n",
              " '__repr__',\n",
              " '__setattr__',\n",
              " '__sizeof__',\n",
              " '__str__',\n",
              " '__subclasshook__',\n",
              " '__weakref__',\n",
              " '_adapt_by_suffix',\n",
              " '_check_input_data_sanity',\n",
              " '_check_training_sanity',\n",
              " '_clear_post_train',\n",
              " '_do_train_epoch',\n",
              " '_do_train_job',\n",
              " '_get_job_params',\n",
              " '_get_thread_working_mem',\n",
              " '_job_producer',\n",
              " '_load_specials',\n",
              " '_log_epoch_end',\n",
              " '_log_epoch_progress',\n",
              " '_log_progress',\n",
              " '_log_train_end',\n",
              " '_minimize_model',\n",
              " '_raw_word_count',\n",
              " '_save_specials',\n",
              " '_set_train_params',\n",
              " '_smart_save',\n",
              " '_train_epoch',\n",
              " '_train_epoch_corpusfile',\n",
              " '_update_job_params',\n",
              " '_worker_loop',\n",
              " '_worker_loop_corpusfile',\n",
              " 'accuracy',\n",
              " 'alpha',\n",
              " 'batch_words',\n",
              " 'build_vocab',\n",
              " 'build_vocab_from_freq',\n",
              " 'callbacks',\n",
              " 'cbow_mean',\n",
              " 'clear_sims',\n",
              " 'compute_loss',\n",
              " 'corpus_count',\n",
              " 'corpus_total_words',\n",
              " 'cum_table',\n",
              " 'delete_temporary_training_data',\n",
              " 'doesnt_match',\n",
              " 'epochs',\n",
              " 'estimate_memory',\n",
              " 'evaluate_word_pairs',\n",
              " 'get_latest_training_loss',\n",
              " 'hashfxn',\n",
              " 'hs',\n",
              " 'init_sims',\n",
              " 'intersect_word2vec_format',\n",
              " 'iter',\n",
              " 'layer1_size',\n",
              " 'load',\n",
              " 'load_word2vec_format',\n",
              " 'log_accuracy',\n",
              " 'max_final_vocab',\n",
              " 'min_alpha',\n",
              " 'min_alpha_yet_reached',\n",
              " 'min_count',\n",
              " 'model_trimmed_post_training',\n",
              " 'most_similar',\n",
              " 'most_similar_cosmul',\n",
              " 'n_similarity',\n",
              " 'negative',\n",
              " 'ns_exponent',\n",
              " 'predict_output_word',\n",
              " 'random',\n",
              " 'reset_from',\n",
              " 'running_training_loss',\n",
              " 'sample',\n",
              " 'save',\n",
              " 'save_word2vec_format',\n",
              " 'score',\n",
              " 'sg',\n",
              " 'similar_by_vector',\n",
              " 'similar_by_word',\n",
              " 'similarity',\n",
              " 'syn0_lockf',\n",
              " 'syn1',\n",
              " 'syn1neg',\n",
              " 'total_train_time',\n",
              " 'train',\n",
              " 'train_count',\n",
              " 'trainables',\n",
              " 'vector_size',\n",
              " 'vocabulary',\n",
              " 'window',\n",
              " 'wmdistance',\n",
              " 'workers',\n",
              " 'wv']"
            ]
          },
          "metadata": {
            "tags": []
          },
          "execution_count": 5
        }
      ]
    },
    {
      "cell_type": "code",
      "metadata": {
        "id": "0T9HgcX12lQx",
        "colab_type": "code",
        "outputId": "7be0c8bf-0ef8-4355-d8b2-d40c9020bb09",
        "colab": {
          "base_uri": "https://localhost:8080/",
          "height": 88
        }
      },
      "source": [
        "print(model)\n",
        "print(list(model.wv.vocab))\n",
        "print(len(model.wv.vocab))"
      ],
      "execution_count": 6,
      "outputs": [
        {
          "output_type": "stream",
          "text": [
            "Word2Vec(vocab=70, size=5, alpha=0.025)\n",
            "['The', 'dog', 'ran', 'up', 'the', 'steps', 'and', 'entered', 'owner', \"'s\", 'room', 'to', 'check', 'if', 'was', 'in', '.', 'My', 'name', 'is', 'Aaron', 'Gallant', ',', 'commander', 'of', 'Machine', 'Learning', 'program', 'at', 'Lambda', 'School', 'I', 'am', 'creating', 'curriculum', 'for', 'will', 'be', 'teaching', 'full-time', 'one', 'my', 'favorite', 'subjects', 'excited', 'about', 'taking', 'class', 'school', 'starting', 'April', 'When', 'does', 'kick-off', '?', 'batter', 'hit', 'ball', 'out', 'off', 'AT', '&', 'T', 'park', 'into', 'pacific', 'ocean', 'pitcher', 'threw', 'dug-out']\n",
            "70\n"
          ],
          "name": "stdout"
        }
      ]
    },
    {
      "cell_type": "markdown",
      "metadata": {
        "id": "5Lf0qggR3YwL",
        "colab_type": "text"
      },
      "source": [
        "### Output the vector of words\n",
        "\n",
        "Lets look at vectors for the following tokens: a) curriculum, b) ocean, and c) pitcher"
      ]
    },
    {
      "cell_type": "code",
      "metadata": {
        "id": "MOEsKVo73dfP",
        "colab_type": "code",
        "outputId": "2c96914d-ae25-4b02-f284-c42f6c3082d7",
        "colab": {
          "base_uri": "https://localhost:8080/",
          "height": 68
        }
      },
      "source": [
        "# Step 4\n",
        "print(model.wv['curriculum', 'ocean', 'pitcher'])"
      ],
      "execution_count": 7,
      "outputs": [
        {
          "output_type": "stream",
          "text": [
            "[[ 0.05722719  0.0598173   0.02555166  0.0976814  -0.06216529]\n",
            " [-0.07553107 -0.05491674 -0.09395825 -0.05781455  0.05816116]\n",
            " [-0.0087424  -0.06343383 -0.02141779 -0.02570824  0.0784867 ]]\n"
          ],
          "name": "stdout"
        }
      ]
    },
    {
      "cell_type": "code",
      "metadata": {
        "id": "SSoUaTCWt2DL",
        "colab_type": "code",
        "outputId": "37850b8f-d251-4f5f-df46-5385b7c4814c",
        "colab": {
          "base_uri": "https://localhost:8080/",
          "height": 187
        }
      },
      "source": [
        "model.wv.most_similar('Machine')"
      ],
      "execution_count": 8,
      "outputs": [
        {
          "output_type": "execute_result",
          "data": {
            "text/plain": [
              "[('steps', 0.871213436126709),\n",
              " ('School', 0.8384222984313965),\n",
              " ('batter', 0.8216022253036499),\n",
              " ('entered', 0.7353217005729675),\n",
              " ('&', 0.7350543737411499),\n",
              " (\"'s\", 0.7223514318466187),\n",
              " ('name', 0.7174134254455566),\n",
              " ('subjects', 0.6986647248268127),\n",
              " ('hit', 0.6661362648010254),\n",
              " ('excited', 0.6532593369483948)]"
            ]
          },
          "metadata": {
            "tags": []
          },
          "execution_count": 8
        }
      ]
    },
    {
      "cell_type": "markdown",
      "metadata": {
        "id": "_MrZHgVQ4vDy",
        "colab_type": "text"
      },
      "source": [
        "![Got a Fever](http://i.imgur.com/VV53EPb.jpg)\n",
        "\n",
        "### MORE DATA!\n",
        "\n",
        "Now we are going to train the model with more data - larger corpus i.e. the 20 newsgroups text dataset. Fetch the data from the training subset\n",
        "\n",
        "*Reference*: http://scikit-learn.org/stable/datasets/index.html"
      ]
    },
    {
      "cell_type": "code",
      "metadata": {
        "id": "nPtvIrZQ4t_m",
        "colab_type": "code",
        "colab": {
          "base_uri": "https://localhost:8080/",
          "height": 51
        },
        "outputId": "2b103ab4-007b-4bba-a4b7-2cafe16eca9f"
      },
      "source": [
        "from sklearn.datasets import fetch_20newsgroups\n",
        "text_from_corpus = fetch_20newsgroups(subset='train')"
      ],
      "execution_count": 9,
      "outputs": [
        {
          "output_type": "stream",
          "text": [
            "Downloading 20news dataset. This may take a few minutes.\n",
            "Downloading dataset from https://ndownloader.figshare.com/files/5975967 (14 MB)\n"
          ],
          "name": "stderr"
        }
      ]
    },
    {
      "cell_type": "markdown",
      "metadata": {
        "id": "3txADKHg4y0y",
        "colab_type": "text"
      },
      "source": [
        "### What did I even just import?\n",
        "\n",
        "Output the metadata for the data that is fetched (investigate the object and what you can do with it)"
      ]
    },
    {
      "cell_type": "code",
      "metadata": {
        "id": "_DFfIq1M3GBg",
        "colab_type": "code",
        "outputId": "26c7e2f7-84ca-40d0-d9a4-eaec3d08cbd2",
        "colab": {
          "base_uri": "https://localhost:8080/",
          "height": 4032
        }
      },
      "source": [
        "# Step 6\n",
        "print(dir(text_from_corpus))\n",
        "print(text_from_corpus.DESCR)"
      ],
      "execution_count": 10,
      "outputs": [
        {
          "output_type": "stream",
          "text": [
            "['DESCR', 'data', 'filenames', 'target', 'target_names']\n",
            ".. _20newsgroups_dataset:\n",
            "\n",
            "The 20 newsgroups text dataset\n",
            "------------------------------\n",
            "\n",
            "The 20 newsgroups dataset comprises around 18000 newsgroups posts on\n",
            "20 topics split in two subsets: one for training (or development)\n",
            "and the other one for testing (or for performance evaluation). The split\n",
            "between the train and test set is based upon a messages posted before\n",
            "and after a specific date.\n",
            "\n",
            "This module contains two loaders. The first one,\n",
            ":func:`sklearn.datasets.fetch_20newsgroups`,\n",
            "returns a list of the raw texts that can be fed to text feature\n",
            "extractors such as :class:`sklearn.feature_extraction.text.CountVectorizer`\n",
            "with custom parameters so as to extract feature vectors.\n",
            "The second one, :func:`sklearn.datasets.fetch_20newsgroups_vectorized`,\n",
            "returns ready-to-use features, i.e., it is not necessary to use a feature\n",
            "extractor.\n",
            "\n",
            "**Data Set Characteristics:**\n",
            "\n",
            "    =================   ==========\n",
            "    Classes                     20\n",
            "    Samples total            18846\n",
            "    Dimensionality               1\n",
            "    Features                  text\n",
            "    =================   ==========\n",
            "\n",
            "Usage\n",
            "~~~~~\n",
            "\n",
            "The :func:`sklearn.datasets.fetch_20newsgroups` function is a data\n",
            "fetching / caching functions that downloads the data archive from\n",
            "the original `20 newsgroups website`_, extracts the archive contents\n",
            "in the ``~/scikit_learn_data/20news_home`` folder and calls the\n",
            ":func:`sklearn.datasets.load_files` on either the training or\n",
            "testing set folder, or both of them::\n",
            "\n",
            "  >>> from sklearn.datasets import fetch_20newsgroups\n",
            "  >>> newsgroups_train = fetch_20newsgroups(subset='train')\n",
            "\n",
            "  >>> from pprint import pprint\n",
            "  >>> pprint(list(newsgroups_train.target_names))\n",
            "  ['alt.atheism',\n",
            "   'comp.graphics',\n",
            "   'comp.os.ms-windows.misc',\n",
            "   'comp.sys.ibm.pc.hardware',\n",
            "   'comp.sys.mac.hardware',\n",
            "   'comp.windows.x',\n",
            "   'misc.forsale',\n",
            "   'rec.autos',\n",
            "   'rec.motorcycles',\n",
            "   'rec.sport.baseball',\n",
            "   'rec.sport.hockey',\n",
            "   'sci.crypt',\n",
            "   'sci.electronics',\n",
            "   'sci.med',\n",
            "   'sci.space',\n",
            "   'soc.religion.christian',\n",
            "   'talk.politics.guns',\n",
            "   'talk.politics.mideast',\n",
            "   'talk.politics.misc',\n",
            "   'talk.religion.misc']\n",
            "\n",
            "The real data lies in the ``filenames`` and ``target`` attributes. The target\n",
            "attribute is the integer index of the category::\n",
            "\n",
            "  >>> newsgroups_train.filenames.shape\n",
            "  (11314,)\n",
            "  >>> newsgroups_train.target.shape\n",
            "  (11314,)\n",
            "  >>> newsgroups_train.target[:10]\n",
            "  array([ 7,  4,  4,  1, 14, 16, 13,  3,  2,  4])\n",
            "\n",
            "It is possible to load only a sub-selection of the categories by passing the\n",
            "list of the categories to load to the\n",
            ":func:`sklearn.datasets.fetch_20newsgroups` function::\n",
            "\n",
            "  >>> cats = ['alt.atheism', 'sci.space']\n",
            "  >>> newsgroups_train = fetch_20newsgroups(subset='train', categories=cats)\n",
            "\n",
            "  >>> list(newsgroups_train.target_names)\n",
            "  ['alt.atheism', 'sci.space']\n",
            "  >>> newsgroups_train.filenames.shape\n",
            "  (1073,)\n",
            "  >>> newsgroups_train.target.shape\n",
            "  (1073,)\n",
            "  >>> newsgroups_train.target[:10]\n",
            "  array([0, 1, 1, 1, 0, 1, 1, 0, 0, 0])\n",
            "\n",
            "Converting text to vectors\n",
            "~~~~~~~~~~~~~~~~~~~~~~~~~~\n",
            "\n",
            "In order to feed predictive or clustering models with the text data,\n",
            "one first need to turn the text into vectors of numerical values suitable\n",
            "for statistical analysis. This can be achieved with the utilities of the\n",
            "``sklearn.feature_extraction.text`` as demonstrated in the following\n",
            "example that extract `TF-IDF`_ vectors of unigram tokens\n",
            "from a subset of 20news::\n",
            "\n",
            "  >>> from sklearn.feature_extraction.text import TfidfVectorizer\n",
            "  >>> categories = ['alt.atheism', 'talk.religion.misc',\n",
            "  ...               'comp.graphics', 'sci.space']\n",
            "  >>> newsgroups_train = fetch_20newsgroups(subset='train',\n",
            "  ...                                       categories=categories)\n",
            "  >>> vectorizer = TfidfVectorizer()\n",
            "  >>> vectors = vectorizer.fit_transform(newsgroups_train.data)\n",
            "  >>> vectors.shape\n",
            "  (2034, 34118)\n",
            "\n",
            "The extracted TF-IDF vectors are very sparse, with an average of 159 non-zero\n",
            "components by sample in a more than 30000-dimensional space\n",
            "(less than .5% non-zero features)::\n",
            "\n",
            "  >>> vectors.nnz / float(vectors.shape[0])       # doctest: +ELLIPSIS\n",
            "  159.01327...\n",
            "\n",
            ":func:`sklearn.datasets.fetch_20newsgroups_vectorized` is a function which \n",
            "returns ready-to-use token counts features instead of file names.\n",
            "\n",
            ".. _`20 newsgroups website`: http://people.csail.mit.edu/jrennie/20Newsgroups/\n",
            ".. _`TF-IDF`: https://en.wikipedia.org/wiki/Tf-idf\n",
            "\n",
            "\n",
            "Filtering text for more realistic training\n",
            "~~~~~~~~~~~~~~~~~~~~~~~~~~~~~~~~~~~~~~~~~~\n",
            "\n",
            "It is easy for a classifier to overfit on particular things that appear in the\n",
            "20 Newsgroups data, such as newsgroup headers. Many classifiers achieve very\n",
            "high F-scores, but their results would not generalize to other documents that\n",
            "aren't from this window of time.\n",
            "\n",
            "For example, let's look at the results of a multinomial Naive Bayes classifier,\n",
            "which is fast to train and achieves a decent F-score::\n",
            "\n",
            "  >>> from sklearn.naive_bayes import MultinomialNB\n",
            "  >>> from sklearn import metrics\n",
            "  >>> newsgroups_test = fetch_20newsgroups(subset='test',\n",
            "  ...                                      categories=categories)\n",
            "  >>> vectors_test = vectorizer.transform(newsgroups_test.data)\n",
            "  >>> clf = MultinomialNB(alpha=.01)\n",
            "  >>> clf.fit(vectors, newsgroups_train.target)\n",
            "  MultinomialNB(alpha=0.01, class_prior=None, fit_prior=True)\n",
            "\n",
            "  >>> pred = clf.predict(vectors_test)\n",
            "  >>> metrics.f1_score(newsgroups_test.target, pred, average='macro')  # doctest: +ELLIPSIS\n",
            "  0.88213...\n",
            "\n",
            "(The example :ref:`sphx_glr_auto_examples_text_plot_document_classification_20newsgroups.py` shuffles\n",
            "the training and test data, instead of segmenting by time, and in that case\n",
            "multinomial Naive Bayes gets a much higher F-score of 0.88. Are you suspicious\n",
            "yet of what's going on inside this classifier?)\n",
            "\n",
            "Let's take a look at what the most informative features are:\n",
            "\n",
            "  >>> import numpy as np\n",
            "  >>> def show_top10(classifier, vectorizer, categories):\n",
            "  ...     feature_names = np.asarray(vectorizer.get_feature_names())\n",
            "  ...     for i, category in enumerate(categories):\n",
            "  ...         top10 = np.argsort(classifier.coef_[i])[-10:]\n",
            "  ...         print(\"%s: %s\" % (category, \" \".join(feature_names[top10])))\n",
            "  ...\n",
            "  >>> show_top10(clf, vectorizer, newsgroups_train.target_names)\n",
            "  alt.atheism: edu it and in you that is of to the\n",
            "  comp.graphics: edu in graphics it is for and of to the\n",
            "  sci.space: edu it that is in and space to of the\n",
            "  talk.religion.misc: not it you in is that and to of the\n",
            "\n",
            "\n",
            "You can now see many things that these features have overfit to:\n",
            "\n",
            "- Almost every group is distinguished by whether headers such as\n",
            "  ``NNTP-Posting-Host:`` and ``Distribution:`` appear more or less often.\n",
            "- Another significant feature involves whether the sender is affiliated with\n",
            "  a university, as indicated either by their headers or their signature.\n",
            "- The word \"article\" is a significant feature, based on how often people quote\n",
            "  previous posts like this: \"In article [article ID], [name] <[e-mail address]>\n",
            "  wrote:\"\n",
            "- Other features match the names and e-mail addresses of particular people who\n",
            "  were posting at the time.\n",
            "\n",
            "With such an abundance of clues that distinguish newsgroups, the classifiers\n",
            "barely have to identify topics from text at all, and they all perform at the\n",
            "same high level.\n",
            "\n",
            "For this reason, the functions that load 20 Newsgroups data provide a\n",
            "parameter called **remove**, telling it what kinds of information to strip out\n",
            "of each file. **remove** should be a tuple containing any subset of\n",
            "``('headers', 'footers', 'quotes')``, telling it to remove headers, signature\n",
            "blocks, and quotation blocks respectively.\n",
            "\n",
            "  >>> newsgroups_test = fetch_20newsgroups(subset='test',\n",
            "  ...                                      remove=('headers', 'footers', 'quotes'),\n",
            "  ...                                      categories=categories)\n",
            "  >>> vectors_test = vectorizer.transform(newsgroups_test.data)\n",
            "  >>> pred = clf.predict(vectors_test)\n",
            "  >>> metrics.f1_score(pred, newsgroups_test.target, average='macro')  # doctest: +ELLIPSIS\n",
            "  0.77310...\n",
            "\n",
            "This classifier lost over a lot of its F-score, just because we removed\n",
            "metadata that has little to do with topic classification.\n",
            "It loses even more if we also strip this metadata from the training data:\n",
            "\n",
            "  >>> newsgroups_train = fetch_20newsgroups(subset='train',\n",
            "  ...                                       remove=('headers', 'footers', 'quotes'),\n",
            "  ...                                       categories=categories)\n",
            "  >>> vectors = vectorizer.fit_transform(newsgroups_train.data)\n",
            "  >>> clf = MultinomialNB(alpha=.01)\n",
            "  >>> clf.fit(vectors, newsgroups_train.target)\n",
            "  MultinomialNB(alpha=0.01, class_prior=None, fit_prior=True)\n",
            "\n",
            "  >>> vectors_test = vectorizer.transform(newsgroups_test.data)\n",
            "  >>> pred = clf.predict(vectors_test)\n",
            "  >>> metrics.f1_score(newsgroups_test.target, pred, average='macro')  # doctest: +ELLIPSIS\n",
            "  0.76995...\n",
            "\n",
            "Some other classifiers cope better with this harder version of the task. Try\n",
            "running :ref:`sphx_glr_auto_examples_model_selection_grid_search_text_feature_extraction.py` with and without\n",
            "the ``--filter`` option to compare the results.\n",
            "\n",
            ".. topic:: Recommendation\n",
            "\n",
            "  When evaluating text classifiers on the 20 Newsgroups data, you\n",
            "  should strip newsgroup-related metadata. In scikit-learn, you can do this by\n",
            "  setting ``remove=('headers', 'footers', 'quotes')``. The F-score will be\n",
            "  lower because it is more realistic.\n",
            "\n",
            ".. topic:: Examples\n",
            "\n",
            "   * :ref:`sphx_glr_auto_examples_model_selection_grid_search_text_feature_extraction.py`\n",
            "\n",
            "   * :ref:`sphx_glr_auto_examples_text_plot_document_classification_20newsgroups.py`\n",
            "\n"
          ],
          "name": "stdout"
        }
      ]
    },
    {
      "cell_type": "markdown",
      "metadata": {
        "id": "XSo_K_kf41In",
        "colab_type": "text"
      },
      "source": [
        "![](https://memegenerator.net/img/instances/37841437/how-much-are-we-talking-about.jpg)\n",
        "\n",
        "### How much data are we talkin' bout? "
      ]
    },
    {
      "cell_type": "code",
      "metadata": {
        "id": "iipBeTFn42hR",
        "colab_type": "code",
        "outputId": "76e42da3-e7bb-4e25-f853-c9bde3cd4673",
        "colab": {
          "base_uri": "https://localhost:8080/",
          "height": 34
        }
      },
      "source": [
        "len(text_from_corpus.data)"
      ],
      "execution_count": 11,
      "outputs": [
        {
          "output_type": "execute_result",
          "data": {
            "text/plain": [
              "11314"
            ]
          },
          "metadata": {
            "tags": []
          },
          "execution_count": 11
        }
      ]
    },
    {
      "cell_type": "markdown",
      "metadata": {
        "id": "cuLsOvJN5UOJ",
        "colab_type": "text"
      },
      "source": [
        "### Tokenize it!\n",
        "\n",
        "![I heard you like tokens](https://www.drupal.org/files/project-images/53298506.jpg)"
      ]
    },
    {
      "cell_type": "code",
      "metadata": {
        "id": "iOUe5zSC5U0M",
        "colab_type": "code",
        "outputId": "fa84e10a-b8db-482e-b6b7-5b51f33107e8",
        "colab": {
          "base_uri": "https://localhost:8080/",
          "height": 54
        }
      },
      "source": [
        "import string\n",
        "\n",
        "def process_text(text):\n",
        "  \"\"\"Remove punctuation, lowercase, and tokenize text.\"\"\"\n",
        "  # TODO: check for special cases like \"I'll\"\n",
        "  text = \"\".join([char.lower() for char in text\n",
        "                  if char not in string.punctuation])\n",
        "  return word_tokenize(text)\n",
        "\n",
        "sentences = [process_text(document) for document in text_from_corpus.data]\n",
        "\n",
        "print(sentences[:10])"
      ],
      "execution_count": 12,
      "outputs": [
        {
          "output_type": "stream",
          "text": [
            "[['from', 'lerxstwamumdedu', 'wheres', 'my', 'thing', 'subject', 'what', 'car', 'is', 'this', 'nntppostinghost', 'rac3wamumdedu', 'organization', 'university', 'of', 'maryland', 'college', 'park', 'lines', '15', 'i', 'was', 'wondering', 'if', 'anyone', 'out', 'there', 'could', 'enlighten', 'me', 'on', 'this', 'car', 'i', 'saw', 'the', 'other', 'day', 'it', 'was', 'a', '2door', 'sports', 'car', 'looked', 'to', 'be', 'from', 'the', 'late', '60s', 'early', '70s', 'it', 'was', 'called', 'a', 'bricklin', 'the', 'doors', 'were', 'really', 'small', 'in', 'addition', 'the', 'front', 'bumper', 'was', 'separate', 'from', 'the', 'rest', 'of', 'the', 'body', 'this', 'is', 'all', 'i', 'know', 'if', 'anyone', 'can', 'tellme', 'a', 'model', 'name', 'engine', 'specs', 'years', 'of', 'production', 'where', 'this', 'car', 'is', 'made', 'history', 'or', 'whatever', 'info', 'you', 'have', 'on', 'this', 'funky', 'looking', 'car', 'please', 'email', 'thanks', 'il', 'brought', 'to', 'you', 'by', 'your', 'neighborhood', 'lerxst'], ['from', 'guykuocarsonuwashingtonedu', 'guy', 'kuo', 'subject', 'si', 'clock', 'poll', 'final', 'call', 'summary', 'final', 'call', 'for', 'si', 'clock', 'reports', 'keywords', 'siaccelerationclockupgrade', 'articleid', 'shelley1qvfo9innc3s', 'organization', 'university', 'of', 'washington', 'lines', '11', 'nntppostinghost', 'carsonuwashingtonedu', 'a', 'fair', 'number', 'of', 'brave', 'souls', 'who', 'upgraded', 'their', 'si', 'clock', 'oscillator', 'have', 'shared', 'their', 'experiences', 'for', 'this', 'poll', 'please', 'send', 'a', 'brief', 'message', 'detailing', 'your', 'experiences', 'with', 'the', 'procedure', 'top', 'speed', 'attained', 'cpu', 'rated', 'speed', 'add', 'on', 'cards', 'and', 'adapters', 'heat', 'sinks', 'hour', 'of', 'usage', 'per', 'day', 'floppy', 'disk', 'functionality', 'with', '800', 'and', '14', 'm', 'floppies', 'are', 'especially', 'requested', 'i', 'will', 'be', 'summarizing', 'in', 'the', 'next', 'two', 'days', 'so', 'please', 'add', 'to', 'the', 'network', 'knowledge', 'base', 'if', 'you', 'have', 'done', 'the', 'clock', 'upgrade', 'and', 'havent', 'answered', 'this', 'poll', 'thanks', 'guy', 'kuo', 'guykuouwashingtonedu'], ['from', 'twillisececnpurdueedu', 'thomas', 'e', 'willis', 'subject', 'pb', 'questions', 'organization', 'purdue', 'university', 'engineering', 'computer', 'network', 'distribution', 'usa', 'lines', '36', 'well', 'folks', 'my', 'mac', 'plus', 'finally', 'gave', 'up', 'the', 'ghost', 'this', 'weekend', 'after', 'starting', 'life', 'as', 'a', '512k', 'way', 'back', 'in', '1985', 'sooo', 'im', 'in', 'the', 'market', 'for', 'a', 'new', 'machine', 'a', 'bit', 'sooner', 'than', 'i', 'intended', 'to', 'be', 'im', 'looking', 'into', 'picking', 'up', 'a', 'powerbook', '160', 'or', 'maybe', '180', 'and', 'have', 'a', 'bunch', 'of', 'questions', 'that', 'hopefully', 'somebody', 'can', 'answer', 'does', 'anybody', 'know', 'any', 'dirt', 'on', 'when', 'the', 'next', 'round', 'of', 'powerbook', 'introductions', 'are', 'expected', 'id', 'heard', 'the', '185c', 'was', 'supposed', 'to', 'make', 'an', 'appearence', 'this', 'summer', 'but', 'havent', 'heard', 'anymore', 'on', 'it', 'and', 'since', 'i', 'dont', 'have', 'access', 'to', 'macleak', 'i', 'was', 'wondering', 'if', 'anybody', 'out', 'there', 'had', 'more', 'info', 'has', 'anybody', 'heard', 'rumors', 'about', 'price', 'drops', 'to', 'the', 'powerbook', 'line', 'like', 'the', 'ones', 'the', 'duos', 'just', 'went', 'through', 'recently', 'whats', 'the', 'impression', 'of', 'the', 'display', 'on', 'the', '180', 'i', 'could', 'probably', 'swing', 'a', '180', 'if', 'i', 'got', 'the', '80mb', 'disk', 'rather', 'than', 'the', '120', 'but', 'i', 'dont', 'really', 'have', 'a', 'feel', 'for', 'how', 'much', 'better', 'the', 'display', 'is', 'yea', 'it', 'looks', 'great', 'in', 'the', 'store', 'but', 'is', 'that', 'all', 'wow', 'or', 'is', 'it', 'really', 'that', 'good', 'could', 'i', 'solicit', 'some', 'opinions', 'of', 'people', 'who', 'use', 'the', '160', 'and', '180', 'daytoday', 'on', 'if', 'its', 'worth', 'taking', 'the', 'disk', 'size', 'and', 'money', 'hit', 'to', 'get', 'the', 'active', 'display', 'i', 'realize', 'this', 'is', 'a', 'real', 'subjective', 'question', 'but', 'ive', 'only', 'played', 'around', 'with', 'the', 'machines', 'in', 'a', 'computer', 'store', 'breifly', 'and', 'figured', 'the', 'opinions', 'of', 'somebody', 'who', 'actually', 'uses', 'the', 'machine', 'daily', 'might', 'prove', 'helpful', 'how', 'well', 'does', 'hellcats', 'perform', 'thanks', 'a', 'bunch', 'in', 'advance', 'for', 'any', 'info', 'if', 'you', 'could', 'email', 'ill', 'post', 'a', 'summary', 'news', 'reading', 'time', 'is', 'at', 'a', 'premium', 'with', 'finals', 'just', 'around', 'the', 'corner', 'tom', 'willis', 'twillisecnpurdueedu', 'purdue', 'electrical', 'engineering', 'convictions', 'are', 'more', 'dangerous', 'enemies', 'of', 'truth', 'than', 'lies', 'f', 'w', 'nietzsche'], ['from', 'jgreenamber', 'joe', 'green', 'subject', 're', 'weitek', 'p9000', 'organization', 'harris', 'computer', 'systems', 'division', 'lines', '14', 'distribution', 'world', 'nntppostinghost', 'amberssdcsdharriscom', 'xnewsreader', 'tin', 'version', '11', 'pl9', 'robert', 'jc', 'kyanko', 'robrjckuucp', 'wrote', 'abraxisiastateedu', 'writes', 'in', 'article', 'abraxis734340159class1iastateedu', 'anyone', 'know', 'about', 'the', 'weitek', 'p9000', 'graphics', 'chip', 'as', 'far', 'as', 'the', 'lowlevel', 'stuff', 'goes', 'it', 'looks', 'pretty', 'nice', 'its', 'got', 'this', 'quadrilateral', 'fill', 'command', 'that', 'requires', 'just', 'the', 'four', 'points', 'do', 'you', 'have', 'weiteks', 'addressphone', 'number', 'id', 'like', 'to', 'get', 'some', 'information', 'about', 'this', 'chip', 'joe', 'green', 'harris', 'corporation', 'jgreencsdharriscom', 'computer', 'systems', 'division', 'the', 'only', 'thing', 'that', 'really', 'scares', 'me', 'is', 'a', 'person', 'with', 'no', 'sense', 'of', 'humor', 'jonathan', 'winters'], ['from', 'jcmheadcfaharvardedu', 'jonathan', 'mcdowell', 'subject', 're', 'shuttle', 'launch', 'question', 'organization', 'smithsonian', 'astrophysical', 'observatory', 'cambridge', 'ma', 'usa', 'distribution', 'sci', 'lines', '23', 'from', 'article', 'c5owcbn3pworldstdcom', 'by', 'tombakerworldstdcom', 'tom', 'a', 'baker', 'in', 'article', 'c5jlwx4h91cscmuedu', 'etratttacs1ttuedu', 'pack', 'rat', 'writes', 'clear', 'caution', 'warning', 'memory', 'verify', 'no', 'unexpected', 'errors', 'i', 'am', 'wondering', 'what', 'an', 'expected', 'error', 'might', 'be', 'sorry', 'if', 'this', 'is', 'a', 'really', 'dumb', 'question', 'but', 'parity', 'errors', 'in', 'memory', 'or', 'previously', 'known', 'conditions', 'that', 'were', 'waivered', 'yes', 'that', 'is', 'an', 'error', 'but', 'we', 'already', 'knew', 'about', 'it', 'id', 'be', 'curious', 'as', 'to', 'what', 'the', 'real', 'meaning', 'of', 'the', 'quote', 'is', 'tom', 'my', 'understanding', 'is', 'that', 'the', 'expected', 'errors', 'are', 'basically', 'known', 'bugs', 'in', 'the', 'warning', 'system', 'software', 'things', 'are', 'checked', 'that', 'dont', 'have', 'the', 'right', 'values', 'in', 'yet', 'because', 'they', 'arent', 'set', 'till', 'after', 'launch', 'and', 'suchlike', 'rather', 'than', 'fix', 'the', 'code', 'and', 'possibly', 'introduce', 'new', 'bugs', 'they', 'just', 'tell', 'the', 'crew', 'ok', 'if', 'you', 'see', 'a', 'warning', 'no', '213', 'before', 'liftoff', 'ignore', 'it', 'jonathan'], ['from', 'dfovttoulutkovttfi', 'foxvog', 'douglas', 'subject', 're', 'rewording', 'the', 'second', 'amendment', 'ideas', 'organization', 'vtt', 'lines', '58', 'in', 'article', '1r1eu14ttransferstratuscom', 'cdtswstratuscom', 'c', 'd', 'tavares', 'writes', 'in', 'article', '1993apr2008305716899ousrvroulufi', 'dfovttoulutkovttfi', 'foxvog', 'douglas', 'writes', 'in', 'article', '1qv87v4j3transferstratuscom', 'cdtswstratuscom', 'c', 'd', 'tavares', 'writes', 'in', 'article', 'c5n3gif8fulowellulowelledu', 'jrutledgcsulowelledu', 'john', 'lawrence', 'rutledge', 'writes', 'the', 'massive', 'destructive', 'power', 'of', 'many', 'modern', 'weapons', 'makes', 'the', 'cost', 'of', 'an', 'accidental', 'or', 'crimial', 'usage', 'of', 'these', 'weapons', 'to', 'great', 'the', 'weapons', 'of', 'mass', 'destruction', 'need', 'to', 'be', 'in', 'the', 'control', 'of', 'the', 'government', 'only', 'individual', 'access', 'would', 'result', 'in', 'the', 'needless', 'deaths', 'of', 'millions', 'this', 'makes', 'the', 'right', 'of', 'the', 'people', 'to', 'keep', 'and', 'bear', 'many', 'modern', 'weapons', 'nonexistant', 'thanks', 'for', 'stating', 'where', 'youre', 'coming', 'from', 'needless', 'to', 'say', 'i', 'disagree', 'on', 'every', 'count', 'you', 'believe', 'that', 'individuals', 'should', 'have', 'the', 'right', 'to', 'own', 'weapons', 'of', 'mass', 'destruction', 'i', 'find', 'it', 'hard', 'to', 'believe', 'that', 'you', 'would', 'support', 'a', 'neighbors', 'right', 'to', 'keep', 'nuclear', 'weapons', 'biological', 'weapons', 'and', 'nerve', 'gas', 'on', 'hisher', 'property', 'if', 'we', 'can', 'not', 'even', 'agree', 'on', 'keeping', 'weapons', 'of', 'mass', 'destruction', 'out', 'of', 'the', 'hands', 'of', 'individuals', 'can', 'there', 'be', 'any', 'hope', 'for', 'us', 'i', 'dont', 'sign', 'any', 'blank', 'checks', 'of', 'course', 'the', 'term', 'must', 'be', 'rigidly', 'defined', 'in', 'any', 'bill', 'when', 'doug', 'foxvog', 'says', 'weapons', 'of', 'mass', 'destruction', 'he', 'means', 'cbw', 'and', 'nukes', 'when', 'sarah', 'brady', 'says', 'weapons', 'of', 'mass', 'destruction', 'she', 'means', 'street', 'sweeper', 'shotguns', 'and', 'semiautomatic', 'sks', 'rifles', 'i', 'doubt', 'she', 'uses', 'this', 'term', 'for', 'that', 'you', 'are', 'using', 'a', 'quote', 'allegedly', 'from', 'her', 'can', 'you', 'back', 'it', 'up', 'when', 'john', 'lawrence', 'rutledge', 'says', 'weapons', 'of', 'mass', 'destruction', 'and', 'then', 'immediately', 'follows', 'it', 'with', 'the', 'us', 'has', 'thousands', 'of', 'people', 'killed', 'each', 'year', 'by', 'handguns', 'this', 'number', 'can', 'easily', 'be', 'reduced', 'by', 'putting', 'reasonable', 'restrictions', 'on', 'them', 'what', 'does', 'rutledge', 'mean', 'by', 'the', 'term', 'i', 'read', 'the', 'article', 'as', 'presenting', 'first', 'an', 'argument', 'about', 'weapons', 'of', 'mass', 'destruction', 'as', 'commonly', 'understood', 'and', 'then', 'switching', 'to', 'other', 'topics', 'the', 'first', 'point', 'evidently', 'was', 'to', 'show', 'that', 'not', 'all', 'weapons', 'should', 'be', 'allowed', 'and', 'then', 'the', 'later', 'analysis', 'was', 'given', 'this', 'understanding', 'to', 'consider', 'another', 'class', 'cdtrocketswstratuscom', 'if', 'you', 'believe', 'that', 'i', 'speak', 'for', 'my', 'company', 'or', 'cdtvosstratuscom', 'write', 'today', 'for', 'my', 'special', 'investors', 'packet', 'doug', 'foxvog', 'douglasfoxvogvttfi'], ['from', 'bmdelanequadsuchicagoedu', 'brian', 'manning', 'delaney', 'subject', 'brain', 'tumor', 'treatment', 'thanks', 'replyto', 'bmdelanemidwayuchicagoedu', 'organization', 'university', 'of', 'chicago', 'lines', '12', 'there', 'were', 'a', 'few', 'people', 'who', 'responded', 'to', 'my', 'request', 'for', 'info', 'on', 'treatment', 'for', 'astrocytomas', 'through', 'email', 'whom', 'i', 'couldnt', 'thank', 'directly', 'because', 'of', 'mailbouncing', 'probs', 'sean', 'debra', 'and', 'sharon', 'so', 'i', 'thought', 'id', 'publicly', 'thank', 'everyone', 'thanks', 'im', 'sure', 'glad', 'i', 'accidentally', 'hit', 'rn', 'instead', 'of', 'rm', 'when', 'i', 'was', 'trying', 'to', 'delete', 'a', 'file', 'last', 'september', 'hmmm', 'news', 'whats', 'this', 'brian'], ['from', 'bgrubbdantenmsuedu', 'grubb', 'subject', 're', 'ide', 'vs', 'scsi', 'organization', 'new', 'mexico', 'state', 'university', 'las', 'cruces', 'nm', 'lines', '44', 'distribution', 'world', 'nntppostinghost', 'dantenmsuedu', 'dxb132psuvmpsuedu', 'writes', 'in', 'article', '1qlbrlinn7rkdns1nmsuedu', 'bgrubbdantenmsuedu', 'grubb', 'says', 'in', 'pc', 'magazine', 'april', '27', '199329', 'although', 'scsi', 'is', 'twice', 'as', 'fasst', 'as', 'esdi', '20', 'faster', 'than', 'ide', 'and', 'support', 'up', 'to', '7', 'devices', 'its', 'acceptance', 'has', 'long', 'been', 'stalled', 'by', 'incompatability', 'problems', 'and', 'installation', 'headaches', 'i', 'love', 'it', 'when', 'magazine', 'writers', 'make', 'stupid', 'statements', 'like', 'that', 're', 'performance', 'where', 'do', 'they', 'get', 'those', 'numbers', 'ill', 'list', 'the', 'actual', 'performance', 'ranges', 'which', 'should', 'convince', 'anyone', 'that', 'such', 'a', 'statement', 'is', 'absurd', 'scsii', 'ranges', 'from', '05mbs', 'scsiii', 'ranges', 'from', '040mbs', 'ide', 'ranges', 'from', '083mbs', 'esdi', 'is', 'always', '125mbs', 'although', 'there', 'are', 'some', 'nonstandard', 'versions', 'all', 'this', 'shows', 'is', 'that', 'you', 'dont', 'know', 'much', 'about', 'scsi', 'scsi1', 'with', 'a', 'scsi1', 'controler', 'chip', 'range', 'is', 'indeed', '05mbs', 'and', 'that', 'is', 'all', 'you', 'have', 'right', 'about', 'scsi', 'scsi1', 'with', 'a', 'scsi2', 'controller', 'chip', '46mbs', 'with', '10mbs', 'burst', '8bit', 'note', 'the', 'increase', 'in', 'speed', 'the', 'mac', 'quadra', 'uses', 'this', 'version', 'of', 'scsi1', 'so', 'it', 'does', 'exist', 'some', 'pc', 'use', 'this', 'set', 'up', 'too', 'scsi2', '8bitscsi1', 'mode', '46mbs', 'with', '10mbs', 'burst', 'scsi2', '16bitwide', 'or', 'fast', 'mode', '812mbs', 'with', '20mbs', 'burst', 'scsi2', '32bitwide', 'and', 'fast', '1520mbs', 'with', '40mbs', 'burst', 'by', 'your', 'own', 'data', 'the', 'although', 'scsi', 'is', 'twice', 'as', 'fast', 'as', 'esdi', 'is', 'correct', 'with', 'a', 'scsi2', 'controller', 'chip', 'scsi1', 'can', 'reach', '10mbs', 'which', 'is', 'indeed', '20', 'faster', 'than', 'ide', '120', 'of', '83', 'is', '996', 'all', 'these', 'scsi', 'facts', 'have', 'been', 'posted', 'to', 'this', 'newsgroup', 'in', 'my', 'mac', 'ibm', 'info', 'sheet', 'available', 'by', 'ftp', 'on', 'sumexaimstanfordedu', '364406', 'in', 'the', 'infomacreport', 'as', 'macibmcompareversion', 'txt', 'it', 'should', 'be', '173', 'but', '161', 'may', 'still', 'be', 'there', 'part', 'of', 'this', 'problem', 'is', 'both', 'mac', 'and', 'ibm', 'pc', 'are', 'inconsiant', 'about', 'what', 'scsi', 'is', 'which', 'though', 'it', 'is', 'well', 'documented', 'that', 'the', 'quadra', 'has', 'a', 'scsi2', 'chip', 'an', 'apple', 'salesperson', 'said', 'it', 'uses', 'a', 'fast', 'scsi1', 'chip', 'not', 'at', 'a', '6mbs', '10mbs', 'burst', 'it', 'does', 'not', 'scsi1', 'is', '5mbs', 'maximum', 'synchronous', 'and', 'quadra', 'uses', 'ansynchronous', 'scsi', 'which', 'is', 'slower', 'it', 'seems', 'that', 'mac', 'and', 'ibm', 'see', 'scsi1', 'interface', 'and', 'think', 'scsi1', 'when', 'it', 'maybe', 'a', 'scsi1', 'interface', 'driven', 'in', 'the', 'machine', 'by', 'a', 'scsi2', 'controller', 'chip', 'in', '8bit', 'mode', 'which', 'is', 'much', 'faster', 'then', 'true', 'scsi1', 'can', 'go', 'dont', 'slam', 'an', 'article', 'because', 'you', 'dont', 'understand', 'what', 'is', 'going', 'on', 'one', 'reference', 'for', 'the', 'quadras', 'scsi2', 'controller', 'chip', 'is', 'digital', 'review', 'oct', '21', '1991', 'v8', 'n33', 'p81'], ['from', 'holmes7000iscsvaxuniedu', 'subject', 'win', '30', 'icon', 'help', 'please', 'organization', 'university', 'of', 'northern', 'iowa', 'lines', '10', 'i', 'have', 'win', '30', 'and', 'downloaded', 'several', 'icons', 'and', 'bmps', 'but', 'i', 'cant', 'figure', 'out', 'how', 'to', 'change', 'the', 'wallpaper', 'or', 'use', 'the', 'icons', 'any', 'help', 'would', 'be', 'appreciated', 'thanx', 'brando', 'ps', 'please', 'email', 'me'], ['from', 'kerrux1csouiucedu', 'stan', 'kerr', 'subject', 're', 'sigma', 'designs', 'double', 'up', 'articleid', 'ux1c52u8xb62', 'organization', 'university', 'of', 'illinois', 'at', 'urbana', 'lines', '29', 'jap10pocwruedu', 'joseph', 'a', 'pellettiere', 'writes', 'i', 'am', 'looking', 'for', 'any', 'information', 'about', 'the', 'sigma', 'designs', 'double', 'up', 'board', 'all', 'i', 'can', 'figure', 'out', 'is', 'that', 'it', 'is', 'a', 'hardware', 'compression', 'board', 'that', 'works', 'with', 'autodoubler', 'but', 'i', 'am', 'not', 'sure', 'about', 'this', 'also', 'how', 'much', 'would', 'one', 'cost', 'ive', 'had', 'the', 'board', 'for', 'over', 'a', 'year', 'and', 'it', 'does', 'work', 'with', 'diskdoubler', 'but', 'not', 'with', 'autodoubler', 'due', 'to', 'a', 'licensing', 'problem', 'with', 'stac', 'technologies', 'the', 'owners', 'of', 'the', 'boards', 'compression', 'technology', 'im', 'writing', 'this', 'from', 'memory', 'ive', 'lost', 'the', 'reference', 'please', 'correct', 'me', 'if', 'im', 'wrong', 'using', 'the', 'board', 'ive', 'had', 'problems', 'with', 'file', 'icons', 'being', 'lost', 'but', 'its', 'hard', 'to', 'say', 'whether', 'its', 'the', 'boards', 'fault', 'or', 'something', 'else', 'however', 'if', 'i', 'decompress', 'the', 'troubled', 'file', 'and', 'recompress', 'it', 'without', 'the', 'board', 'the', 'icon', 'usually', 'reappears', 'because', 'of', 'the', 'above', 'mentioned', 'licensing', 'problem', 'the', 'freeware', 'expansion', 'utility', 'dd', 'expand', 'will', 'not', 'decompress', 'a', 'boardcompressed', 'file', 'unless', 'you', 'have', 'the', 'board', 'installed', 'since', 'stac', 'has', 'its', 'own', 'product', 'now', 'it', 'seems', 'unlikely', 'that', 'the', 'holes', 'in', 'autodoublerdiskdoubler', 'related', 'to', 'the', 'board', 'will', 'be', 'fixed', 'which', 'is', 'sad', 'and', 'makes', 'me', 'very', 'reluctant', 'to', 'buy', 'stacs', 'product', 'since', 'theyre', 'being', 'so', 'stinky', 'but', 'hey', 'thats', 'competition', 'stan', 'kerr', 'computing', 'communications', 'services', 'office', 'u', 'of', 'illinoisurbana', 'phone', '2173335217', 'email', 'stankerruiucedu']]\n"
          ],
          "name": "stdout"
        }
      ]
    },
    {
      "cell_type": "markdown",
      "metadata": {
        "id": "mmVWmZJh5q5-",
        "colab_type": "text"
      },
      "source": [
        "### Train the model\n",
        "Train the Word2vec model - words should show up at least 3 times in the corpus of text\n",
        "and the size of each word vector is 200 (i.e. dimension = 200)\n",
        "\n",
        "Reference\" Scroll down to the section \"A closer look at the parameter settings\" to review the parameters that can be set"
      ]
    },
    {
      "cell_type": "code",
      "metadata": {
        "id": "7bFaRbT65tX3",
        "colab_type": "code",
        "colab": {}
      },
      "source": [
        "news_model = Word2Vec(sentences, min_count=3, size=200, window=2)"
      ],
      "execution_count": 0,
      "outputs": []
    },
    {
      "cell_type": "markdown",
      "metadata": {
        "id": "i24Y0trm5wBF",
        "colab_type": "text"
      },
      "source": [
        "### Generate the Vocabulary - or at least look at how big it is\n",
        "\n",
        "![Vocabulary Words](https://www.fluentu.com/blog/english/wp-content/uploads/sites/4/2015/04/dAeF4PO.png)"
      ]
    },
    {
      "cell_type": "code",
      "metadata": {
        "id": "OpMJGe6D5xW-",
        "colab_type": "code",
        "outputId": "ec8a5d11-f6ba-462a-9e15-54749899c10d",
        "colab": {
          "base_uri": "https://localhost:8080/",
          "height": 34
        }
      },
      "source": [
        "# Step 10\n",
        "print(len(news_model.wv.vocab))"
      ],
      "execution_count": 14,
      "outputs": [
        {
          "output_type": "stream",
          "text": [
            "43312\n"
          ],
          "name": "stdout"
        }
      ]
    },
    {
      "cell_type": "markdown",
      "metadata": {
        "id": "q1annBklxJlF",
        "colab_type": "text"
      },
      "source": [
        "![Wow](https://media1.tenor.com/images/c2a921072f98952c52042d6e28c72854/tenor.gif?itemid=9987719\")"
      ]
    },
    {
      "cell_type": "markdown",
      "metadata": {
        "id": "WzghiRmw50gI",
        "colab_type": "text"
      },
      "source": [
        "### Examine word similarity to the word \"Christ\" (find other words most similar to it)"
      ]
    },
    {
      "cell_type": "code",
      "metadata": {
        "id": "_UQwGmpZ44as",
        "colab_type": "code",
        "outputId": "e6991de0-a819-4212-bf36-943837598d83",
        "colab": {
          "base_uri": "https://localhost:8080/",
          "height": 187
        }
      },
      "source": [
        "# Step 11\n",
        "news_model.wv.most_similar('christ')"
      ],
      "execution_count": 15,
      "outputs": [
        {
          "output_type": "execute_result",
          "data": {
            "text/plain": [
              "[('jesus', 0.9273478984832764),\n",
              " ('satan', 0.8736360669136047),\n",
              " ('spirit', 0.8622032403945923),\n",
              " ('lord', 0.8592635989189148),\n",
              " ('himself', 0.8411025404930115),\n",
              " ('god', 0.8339956998825073),\n",
              " ('resurrection', 0.828823447227478),\n",
              " ('son', 0.826094388961792),\n",
              " ('father', 0.8237466216087341),\n",
              " ('sin', 0.8190546035766602)]"
            ]
          },
          "metadata": {
            "tags": []
          },
          "execution_count": 15
        }
      ]
    },
    {
      "cell_type": "markdown",
      "metadata": {
        "id": "7lFfJzhF6si_",
        "colab_type": "text"
      },
      "source": [
        "![](https://memegenerator.net/img/instances/73402168/i-know-some-of-these-words.jpg)\n",
        "\n"
      ]
    },
    {
      "cell_type": "markdown",
      "metadata": {
        "id": "NgENamDWyYwZ",
        "colab_type": "text"
      },
      "source": [
        "### What other words should we try?"
      ]
    },
    {
      "cell_type": "code",
      "metadata": {
        "id": "saM4BfapyeDB",
        "colab_type": "code",
        "colab": {
          "base_uri": "https://localhost:8080/",
          "height": 187
        },
        "outputId": "b8ee16c0-b42a-4717-db7b-124e2a52e0c1"
      },
      "source": [
        "### Try some things\n",
        "news_model.wv.most_similar('sarcasm')"
      ],
      "execution_count": 16,
      "outputs": [
        {
          "output_type": "execute_result",
          "data": {
            "text/plain": [
              "[('bitter', 0.8464291095733643),\n",
              " ('gasoline', 0.8394190073013306),\n",
              " ('frequent', 0.8343867659568787),\n",
              " ('generalizations', 0.8339388370513916),\n",
              " ('diagnosis', 0.8318014740943909),\n",
              " ('pleasant', 0.8312399387359619),\n",
              " ('plexus', 0.8267433643341064),\n",
              " ('appointments', 0.8260422348976135),\n",
              " ('vague', 0.8232207298278809),\n",
              " ('sincere', 0.8222660422325134)]"
            ]
          },
          "metadata": {
            "tags": []
          },
          "execution_count": 16
        }
      ]
    },
    {
      "cell_type": "code",
      "metadata": {
        "id": "TEEQ-7kepee9",
        "colab_type": "code",
        "colab": {
          "base_uri": "https://localhost:8080/",
          "height": 187
        },
        "outputId": "cd41a42d-e062-4e97-ba89-be2a732285db"
      },
      "source": [
        "news_model.wv.most_similar('yikes')"
      ],
      "execution_count": 17,
      "outputs": [
        {
          "output_type": "execute_result",
          "data": {
            "text/plain": [
              "[('eagerly', 0.753851592540741),\n",
              " ('ymon', 0.7306547164916992),\n",
              " ('m6', 0.7211198210716248),\n",
              " ('ydet', 0.711007833480835),\n",
              " ('squished', 0.7098453044891357),\n",
              " ('yep', 0.70860755443573),\n",
              " ('amphetamines', 0.7053149938583374),\n",
              " ('presets', 0.7052667737007141),\n",
              " ('propp', 0.7041975259780884),\n",
              " ('097', 0.7028158903121948)]"
            ]
          },
          "metadata": {
            "tags": []
          },
          "execution_count": 17
        }
      ]
    },
    {
      "cell_type": "code",
      "metadata": {
        "id": "fMMRirvApkXP",
        "colab_type": "code",
        "colab": {
          "base_uri": "https://localhost:8080/",
          "height": 187
        },
        "outputId": "123ab535-b3df-4041-fe17-e18d25893585"
      },
      "source": [
        "news_model.wv.most_similar('money')"
      ],
      "execution_count": 19,
      "outputs": [
        {
          "output_type": "execute_result",
          "data": {
            "text/plain": [
              "[('pain', 0.7404794692993164),\n",
              " ('attention', 0.7333341836929321),\n",
              " ('weight', 0.7232894897460938),\n",
              " ('food', 0.7157248258590698),\n",
              " ('them', 0.706870973110199),\n",
              " ('chance', 0.7010530829429626),\n",
              " ('traffic', 0.6950283050537109),\n",
              " ('opportunity', 0.6872937679290771),\n",
              " ('safe', 0.6852071285247803),\n",
              " ('success', 0.6837743520736694)]"
            ]
          },
          "metadata": {
            "tags": []
          },
          "execution_count": 19
        }
      ]
    },
    {
      "cell_type": "code",
      "metadata": {
        "id": "St44XBFApnzT",
        "colab_type": "code",
        "colab": {}
      },
      "source": [
        ""
      ],
      "execution_count": 0,
      "outputs": []
    },
    {
      "cell_type": "markdown",
      "metadata": {
        "id": "fe1GAsI4ysPM",
        "colab_type": "text"
      },
      "source": [
        "# Lets try it with a different dataset:\n",
        "\n",
        "![The Simpsons](https://media1.tenor.com/images/0273468e8e2921a39d75aa1f2ca461a2/tenor.gif?itemid=3865850)\n",
        "\n",
        "<https://www.kaggle.com/pierremegret/dialogue-lines-of-the-simpsons>"
      ]
    },
    {
      "cell_type": "code",
      "metadata": {
        "id": "IVsUfj0lOXj9",
        "colab_type": "code",
        "colab": {}
      },
      "source": [
        "##### Lets do it! #####"
      ],
      "execution_count": 0,
      "outputs": []
    },
    {
      "cell_type": "code",
      "metadata": {
        "id": "OAiitAkRjFcp",
        "colab_type": "code",
        "colab": {
          "base_uri": "https://localhost:8080/",
          "height": 204
        },
        "outputId": "0a145d39-a62f-4663-860b-7291574e151c"
      },
      "source": [
        "import pandas as pd\n",
        "\n",
        "url = 'https://raw.githubusercontent.com/LambdaSchool/DS-Unit-4-Sprint-2-NLP/master/module4-Word-Embeddings/simpsons_dataset.csv'\n",
        "df = pd.read_csv(url)\n",
        "df.head()"
      ],
      "execution_count": 20,
      "outputs": [
        {
          "output_type": "execute_result",
          "data": {
            "text/html": [
              "<div>\n",
              "<style scoped>\n",
              "    .dataframe tbody tr th:only-of-type {\n",
              "        vertical-align: middle;\n",
              "    }\n",
              "\n",
              "    .dataframe tbody tr th {\n",
              "        vertical-align: top;\n",
              "    }\n",
              "\n",
              "    .dataframe thead th {\n",
              "        text-align: right;\n",
              "    }\n",
              "</style>\n",
              "<table border=\"1\" class=\"dataframe\">\n",
              "  <thead>\n",
              "    <tr style=\"text-align: right;\">\n",
              "      <th></th>\n",
              "      <th>raw_character_text</th>\n",
              "      <th>spoken_words</th>\n",
              "    </tr>\n",
              "  </thead>\n",
              "  <tbody>\n",
              "    <tr>\n",
              "      <th>0</th>\n",
              "      <td>Miss Hoover</td>\n",
              "      <td>No, actually, it was a little of both. Sometim...</td>\n",
              "    </tr>\n",
              "    <tr>\n",
              "      <th>1</th>\n",
              "      <td>Lisa Simpson</td>\n",
              "      <td>Where's Mr. Bergstrom?</td>\n",
              "    </tr>\n",
              "    <tr>\n",
              "      <th>2</th>\n",
              "      <td>Miss Hoover</td>\n",
              "      <td>I don't know. Although I'd sure like to talk t...</td>\n",
              "    </tr>\n",
              "    <tr>\n",
              "      <th>3</th>\n",
              "      <td>Lisa Simpson</td>\n",
              "      <td>That life is worth living.</td>\n",
              "    </tr>\n",
              "    <tr>\n",
              "      <th>4</th>\n",
              "      <td>Edna Krabappel-Flanders</td>\n",
              "      <td>The polls will be open from now until the end ...</td>\n",
              "    </tr>\n",
              "  </tbody>\n",
              "</table>\n",
              "</div>"
            ],
            "text/plain": [
              "        raw_character_text                                       spoken_words\n",
              "0              Miss Hoover  No, actually, it was a little of both. Sometim...\n",
              "1             Lisa Simpson                             Where's Mr. Bergstrom?\n",
              "2              Miss Hoover  I don't know. Although I'd sure like to talk t...\n",
              "3             Lisa Simpson                         That life is worth living.\n",
              "4  Edna Krabappel-Flanders  The polls will be open from now until the end ..."
            ]
          },
          "metadata": {
            "tags": []
          },
          "execution_count": 20
        }
      ]
    },
    {
      "cell_type": "code",
      "metadata": {
        "id": "Jpt-o4BrvN3q",
        "colab_type": "code",
        "colab": {
          "base_uri": "https://localhost:8080/",
          "height": 119
        },
        "outputId": "93c345d5-bf69-4f5e-83c3-ce478c91b787"
      },
      "source": [
        "df['raw_character_text'].value_counts()[:5]"
      ],
      "execution_count": 21,
      "outputs": [
        {
          "output_type": "execute_result",
          "data": {
            "text/plain": [
              "Homer Simpson          29782\n",
              "Marge Simpson          14141\n",
              "Bart Simpson           13759\n",
              "Lisa Simpson           11489\n",
              "C. Montgomery Burns     3162\n",
              "Name: raw_character_text, dtype: int64"
            ]
          },
          "metadata": {
            "tags": []
          },
          "execution_count": 21
        }
      ]
    },
    {
      "cell_type": "code",
      "metadata": {
        "id": "ggD-YbPivTWF",
        "colab_type": "code",
        "colab": {
          "base_uri": "https://localhost:8080/",
          "height": 34
        },
        "outputId": "bcf6e97c-b66d-4e96-e7ec-e1aa4e6d7bc1"
      },
      "source": [
        "df.shape"
      ],
      "execution_count": 22,
      "outputs": [
        {
          "output_type": "execute_result",
          "data": {
            "text/plain": [
              "(158314, 2)"
            ]
          },
          "metadata": {
            "tags": []
          },
          "execution_count": 22
        }
      ]
    },
    {
      "cell_type": "code",
      "metadata": {
        "id": "34PGQew1vUat",
        "colab_type": "code",
        "colab": {}
      },
      "source": [
        "df['homer'] = (df.raw_character_text == 'Homer Simpson')\n",
        "# df['marge'] = df['raw_character_text'].map('')"
      ],
      "execution_count": 0,
      "outputs": []
    },
    {
      "cell_type": "code",
      "metadata": {
        "id": "J4JAIo91v7zH",
        "colab_type": "code",
        "colab": {
          "base_uri": "https://localhost:8080/",
          "height": 34
        },
        "outputId": "e1d376ed-726b-40f4-d31e-0a2fd8e6472f"
      },
      "source": [
        "df['homer'].sum()"
      ],
      "execution_count": 25,
      "outputs": [
        {
          "output_type": "execute_result",
          "data": {
            "text/plain": [
              "29782"
            ]
          },
          "metadata": {
            "tags": []
          },
          "execution_count": 25
        }
      ]
    },
    {
      "cell_type": "code",
      "metadata": {
        "id": "GEl856wfwEC-",
        "colab_type": "code",
        "colab": {}
      },
      "source": [
        "df['tokens'] = df['spoken_words'].astype('str').apply(process_text)"
      ],
      "execution_count": 0,
      "outputs": []
    },
    {
      "cell_type": "code",
      "metadata": {
        "id": "goRjUQ38wR5v",
        "colab_type": "code",
        "colab": {
          "base_uri": "https://localhost:8080/",
          "height": 255
        },
        "outputId": "6fed814e-b455-4463-f217-50c9ca63b81c"
      },
      "source": [
        "df.tail()"
      ],
      "execution_count": 29,
      "outputs": [
        {
          "output_type": "execute_result",
          "data": {
            "text/html": [
              "<div>\n",
              "<style scoped>\n",
              "    .dataframe tbody tr th:only-of-type {\n",
              "        vertical-align: middle;\n",
              "    }\n",
              "\n",
              "    .dataframe tbody tr th {\n",
              "        vertical-align: top;\n",
              "    }\n",
              "\n",
              "    .dataframe thead th {\n",
              "        text-align: right;\n",
              "    }\n",
              "</style>\n",
              "<table border=\"1\" class=\"dataframe\">\n",
              "  <thead>\n",
              "    <tr style=\"text-align: right;\">\n",
              "      <th></th>\n",
              "      <th>raw_character_text</th>\n",
              "      <th>spoken_words</th>\n",
              "      <th>homer</th>\n",
              "      <th>tokens</th>\n",
              "    </tr>\n",
              "  </thead>\n",
              "  <tbody>\n",
              "    <tr>\n",
              "      <th>158309</th>\n",
              "      <td>Miss Hoover</td>\n",
              "      <td>I'm back.</td>\n",
              "      <td>False</td>\n",
              "      <td>[im, back]</td>\n",
              "    </tr>\n",
              "    <tr>\n",
              "      <th>158310</th>\n",
              "      <td>Miss Hoover</td>\n",
              "      <td>You see, class, my Lyme disease turned out to ...</td>\n",
              "      <td>False</td>\n",
              "      <td>[you, see, class, my, lyme, disease, turned, o...</td>\n",
              "    </tr>\n",
              "    <tr>\n",
              "      <th>158311</th>\n",
              "      <td>Miss Hoover</td>\n",
              "      <td>Psy-cho-so-ma-tic.</td>\n",
              "      <td>False</td>\n",
              "      <td>[psychosomatic]</td>\n",
              "    </tr>\n",
              "    <tr>\n",
              "      <th>158312</th>\n",
              "      <td>Ralph Wiggum</td>\n",
              "      <td>Does that mean you were crazy?</td>\n",
              "      <td>False</td>\n",
              "      <td>[does, that, mean, you, were, crazy]</td>\n",
              "    </tr>\n",
              "    <tr>\n",
              "      <th>158313</th>\n",
              "      <td>JANEY</td>\n",
              "      <td>No, that means she was faking it.</td>\n",
              "      <td>False</td>\n",
              "      <td>[no, that, means, she, was, faking, it]</td>\n",
              "    </tr>\n",
              "  </tbody>\n",
              "</table>\n",
              "</div>"
            ],
            "text/plain": [
              "       raw_character_text                                       spoken_words  \\\n",
              "158309        Miss Hoover                                          I'm back.   \n",
              "158310        Miss Hoover  You see, class, my Lyme disease turned out to ...   \n",
              "158311        Miss Hoover                                 Psy-cho-so-ma-tic.   \n",
              "158312       Ralph Wiggum                     Does that mean you were crazy?   \n",
              "158313              JANEY                  No, that means she was faking it.   \n",
              "\n",
              "        homer                                             tokens  \n",
              "158309  False                                         [im, back]  \n",
              "158310  False  [you, see, class, my, lyme, disease, turned, o...  \n",
              "158311  False                                    [psychosomatic]  \n",
              "158312  False               [does, that, mean, you, were, crazy]  \n",
              "158313  False            [no, that, means, she, was, faking, it]  "
            ]
          },
          "metadata": {
            "tags": []
          },
          "execution_count": 29
        }
      ]
    },
    {
      "cell_type": "code",
      "metadata": {
        "id": "ZNsXjU4BwYCu",
        "colab_type": "code",
        "colab": {}
      },
      "source": [
        "from gensim.models.word2vec import Word2Vec\n",
        "\n",
        "model = Word2Vec(df['tokens'], min_count=5, size=100)"
      ],
      "execution_count": 0,
      "outputs": []
    },
    {
      "cell_type": "code",
      "metadata": {
        "id": "Vo7WqEJCxaBv",
        "colab_type": "code",
        "colab": {
          "base_uri": "https://localhost:8080/",
          "height": 187
        },
        "outputId": "fcfe6e18-0198-459e-f29c-bb17c14971e7"
      },
      "source": [
        "model.wv.most_similar('lisa')"
      ],
      "execution_count": 33,
      "outputs": [
        {
          "output_type": "execute_result",
          "data": {
            "text/plain": [
              "[('bart', 0.9187172651290894),\n",
              " ('homer', 0.8131533861160278),\n",
              " ('marge', 0.8072357177734375),\n",
              " ('milhouse', 0.7798384428024292),\n",
              " ('maggie', 0.7622697353363037),\n",
              " ('abe', 0.6666274666786194),\n",
              " ('mother', 0.6625139713287354),\n",
              " ('honey', 0.653236448764801),\n",
              " ('grampa', 0.6510621309280396),\n",
              " ('son', 0.6486814022064209)]"
            ]
          },
          "metadata": {
            "tags": []
          },
          "execution_count": 33
        }
      ]
    },
    {
      "cell_type": "code",
      "metadata": {
        "id": "tt3f_L1bxb3X",
        "colab_type": "code",
        "colab": {
          "base_uri": "https://localhost:8080/",
          "height": 187
        },
        "outputId": "eddb5d9e-ded1-408b-d164-d817d74ca1fc"
      },
      "source": [
        "model.wv.most_similar('kwikemart')"
      ],
      "execution_count": 35,
      "outputs": [
        {
          "output_type": "execute_result",
          "data": {
            "text/plain": [
              "[('picnic', 0.9046345949172974),\n",
              " ('ballpark', 0.8968526124954224),\n",
              " ('stake', 0.896588921546936),\n",
              " ('disturbance', 0.8959318399429321),\n",
              " ('seminar', 0.8956819772720337),\n",
              " ('dmv', 0.8902365565299988),\n",
              " ('schoolyard', 0.8896689414978027),\n",
              " ('aquarium', 0.8795842528343201),\n",
              " ('restaurant', 0.8755289912223816),\n",
              " ('mall', 0.8752182722091675)]"
            ]
          },
          "metadata": {
            "tags": []
          },
          "execution_count": 35
        }
      ]
    },
    {
      "cell_type": "code",
      "metadata": {
        "id": "EsU-pekIxi1c",
        "colab_type": "code",
        "colab": {
          "base_uri": "https://localhost:8080/",
          "height": 714
        },
        "outputId": "0b8aeb19-901c-4304-c7a1-6c44e8579bc9"
      },
      "source": [
        "model.wv['station', 'museum']"
      ],
      "execution_count": 36,
      "outputs": [
        {
          "output_type": "execute_result",
          "data": {
            "text/plain": [
              "array([[-0.38063425,  0.5271369 ,  0.07453573,  0.32635233, -0.11494698,\n",
              "        -0.17230797, -0.10811227,  0.11548812,  0.0683995 ,  0.03264778,\n",
              "        -0.07943066, -0.21132149, -0.21203767,  0.12018184,  0.29230312,\n",
              "         0.16856883, -0.4224461 , -0.13740067,  0.08660243,  0.29397616,\n",
              "         0.05213793,  0.39621753,  0.07077301, -0.05225105, -0.05303528,\n",
              "        -0.00469287,  0.15893698, -0.32955042, -0.00912693,  0.07868293,\n",
              "        -0.06334177, -0.04646955,  0.03330923, -0.34664452,  0.22123829,\n",
              "        -0.05766098, -0.06445006,  0.14630222,  0.04113717, -0.08379251,\n",
              "         0.11296672, -0.02208356, -0.44864506, -0.10863343,  0.37261677,\n",
              "         0.19235411,  0.07112172,  0.47669873,  0.21693717, -0.01369952,\n",
              "         0.24365236,  0.13108231,  0.18310425, -0.5193836 , -0.4554248 ,\n",
              "         0.07358983, -0.01952254, -0.02218033, -0.12336659,  0.10087407,\n",
              "         0.00515401,  0.24258581,  0.04617546, -0.24673021, -0.65630513,\n",
              "        -0.31202555,  0.04618885,  0.23150021, -0.14333302, -0.32481074,\n",
              "         0.2518204 , -0.11032277,  0.03563838, -0.18207055,  0.17215627,\n",
              "         0.17942151, -0.07795303, -0.00416048,  0.0949119 ,  0.19321372,\n",
              "        -0.04742559,  0.12831467,  0.04356655, -0.1464214 ,  0.13498934,\n",
              "         0.2357094 , -0.60026276, -0.1103156 , -0.1559287 ,  0.0845833 ,\n",
              "        -0.30456787,  0.09066924,  0.21520343, -0.2272239 , -0.16856593,\n",
              "         0.34480423,  0.2200927 , -0.29564297,  0.16203913,  0.19353811],\n",
              "       [-0.49288064,  0.51672775,  0.01182757,  0.43682504, -0.13708179,\n",
              "        -0.07672664, -0.07305223,  0.00083337,  0.16763619,  0.13489063,\n",
              "        -0.18557814, -0.09269157, -0.22331604,  0.1493718 ,  0.39950988,\n",
              "         0.03155723, -0.45040542, -0.02955557, -0.0412805 ,  0.6307685 ,\n",
              "         0.27627197,  0.50910074, -0.00463967, -0.14930448,  0.00319069,\n",
              "         0.25892898,  0.19655344, -0.16612805, -0.04870516,  0.11430746,\n",
              "        -0.14960152, -0.13123628, -0.21342884, -0.5740751 ,  0.1106622 ,\n",
              "        -0.03260058, -0.24281624,  0.21970129, -0.13144311,  0.01479663,\n",
              "         0.27994332,  0.08485365, -0.360911  ,  0.11632679,  0.22534013,\n",
              "         0.33897454, -0.07653154,  0.3028767 , -0.04869886,  0.04487622,\n",
              "         0.19932191, -0.04329258,  0.41600144, -0.6630729 , -0.5602845 ,\n",
              "        -0.06708373, -0.0375891 ,  0.26841387, -0.32539466,  0.07872146,\n",
              "         0.0717251 ,  0.31853408, -0.06272818, -0.21826658, -0.55992526,\n",
              "        -0.26975325, -0.0029436 ,  0.29183406, -0.16660345, -0.37876475,\n",
              "         0.41239104,  0.02531501, -0.17097805, -0.21466368,  0.39746708,\n",
              "         0.26509508,  0.13739754,  0.07016472,  0.23596479, -0.04981317,\n",
              "         0.07764839,  0.08106537, -0.0735992 , -0.02596309,  0.10326786,\n",
              "         0.3378596 , -0.45639285, -0.11480467, -0.25394025,  0.0582856 ,\n",
              "        -0.27809045,  0.25481755,  0.19943832, -0.40737727, -0.28480014,\n",
              "         0.4086207 ,  0.21308778, -0.4525439 ,  0.28421956,  0.12323173]],\n",
              "      dtype=float32)"
            ]
          },
          "metadata": {
            "tags": []
          },
          "execution_count": 36
        }
      ]
    },
    {
      "cell_type": "code",
      "metadata": {
        "id": "BEhHEY0b1Yzb",
        "colab_type": "code",
        "colab": {}
      },
      "source": [
        "test = model.wv[df['tokens'][0]]\n",
        "vocab = list(model.wv.vocab.keys())"
      ],
      "execution_count": 0,
      "outputs": []
    },
    {
      "cell_type": "code",
      "metadata": {
        "id": "HdSo7J8QxRpn",
        "colab_type": "code",
        "colab": {
          "base_uri": "https://localhost:8080/",
          "height": 327
        },
        "outputId": "a44b99e8-0cd5-4597-f426-6ab4781cd642"
      },
      "source": [
        "df['tokens'] = df['tokens'].apply(lambda x: filter(lambda y: y in vocab, x))\n",
        "df['vectors'] = df.apply(lambda x: model.wv[x].mean(axis=0))"
      ],
      "execution_count": 40,
      "outputs": [
        {
          "output_type": "error",
          "ename": "KeyError",
          "evalue": "ignored",
          "traceback": [
            "\u001b[0;31m---------------------------------------------------------------------------\u001b[0m",
            "\u001b[0;31mKeyError\u001b[0m                                  Traceback (most recent call last)",
            "\u001b[0;32m<ipython-input-40-b5d28ceda6b5>\u001b[0m in \u001b[0;36m<module>\u001b[0;34m()\u001b[0m\n\u001b[0;32m----> 1\u001b[0;31m \u001b[0mdf\u001b[0m\u001b[0;34m[\u001b[0m\u001b[0;34m'vectors'\u001b[0m\u001b[0;34m]\u001b[0m \u001b[0;34m=\u001b[0m \u001b[0mdf\u001b[0m\u001b[0;34m.\u001b[0m\u001b[0mapply\u001b[0m\u001b[0;34m(\u001b[0m\u001b[0;32mlambda\u001b[0m \u001b[0mx\u001b[0m\u001b[0;34m:\u001b[0m \u001b[0mmodel\u001b[0m\u001b[0;34m.\u001b[0m\u001b[0mwv\u001b[0m\u001b[0;34m[\u001b[0m\u001b[0mx\u001b[0m\u001b[0;34m]\u001b[0m\u001b[0;34m.\u001b[0m\u001b[0mmean\u001b[0m\u001b[0;34m(\u001b[0m\u001b[0maxis\u001b[0m\u001b[0;34m=\u001b[0m\u001b[0;36m0\u001b[0m\u001b[0;34m)\u001b[0m\u001b[0;34m)\u001b[0m\u001b[0;34m\u001b[0m\u001b[0;34m\u001b[0m\u001b[0m\n\u001b[0m",
            "\u001b[0;32m/usr/local/lib/python3.6/dist-packages/pandas/core/frame.py\u001b[0m in \u001b[0;36mapply\u001b[0;34m(self, func, axis, broadcast, raw, reduce, result_type, args, **kwds)\u001b[0m\n\u001b[1;32m   6485\u001b[0m                          \u001b[0margs\u001b[0m\u001b[0;34m=\u001b[0m\u001b[0margs\u001b[0m\u001b[0;34m,\u001b[0m\u001b[0;34m\u001b[0m\u001b[0;34m\u001b[0m\u001b[0m\n\u001b[1;32m   6486\u001b[0m                          kwds=kwds)\n\u001b[0;32m-> 6487\u001b[0;31m         \u001b[0;32mreturn\u001b[0m \u001b[0mop\u001b[0m\u001b[0;34m.\u001b[0m\u001b[0mget_result\u001b[0m\u001b[0;34m(\u001b[0m\u001b[0;34m)\u001b[0m\u001b[0;34m\u001b[0m\u001b[0;34m\u001b[0m\u001b[0m\n\u001b[0m\u001b[1;32m   6488\u001b[0m \u001b[0;34m\u001b[0m\u001b[0m\n\u001b[1;32m   6489\u001b[0m     \u001b[0;32mdef\u001b[0m \u001b[0mapplymap\u001b[0m\u001b[0;34m(\u001b[0m\u001b[0mself\u001b[0m\u001b[0;34m,\u001b[0m \u001b[0mfunc\u001b[0m\u001b[0;34m)\u001b[0m\u001b[0;34m:\u001b[0m\u001b[0;34m\u001b[0m\u001b[0;34m\u001b[0m\u001b[0m\n",
            "\u001b[0;32m/usr/local/lib/python3.6/dist-packages/pandas/core/apply.py\u001b[0m in \u001b[0;36mget_result\u001b[0;34m(self)\u001b[0m\n\u001b[1;32m    149\u001b[0m             \u001b[0;32mreturn\u001b[0m \u001b[0mself\u001b[0m\u001b[0;34m.\u001b[0m\u001b[0mapply_raw\u001b[0m\u001b[0;34m(\u001b[0m\u001b[0;34m)\u001b[0m\u001b[0;34m\u001b[0m\u001b[0;34m\u001b[0m\u001b[0m\n\u001b[1;32m    150\u001b[0m \u001b[0;34m\u001b[0m\u001b[0m\n\u001b[0;32m--> 151\u001b[0;31m         \u001b[0;32mreturn\u001b[0m \u001b[0mself\u001b[0m\u001b[0;34m.\u001b[0m\u001b[0mapply_standard\u001b[0m\u001b[0;34m(\u001b[0m\u001b[0;34m)\u001b[0m\u001b[0;34m\u001b[0m\u001b[0;34m\u001b[0m\u001b[0m\n\u001b[0m\u001b[1;32m    152\u001b[0m \u001b[0;34m\u001b[0m\u001b[0m\n\u001b[1;32m    153\u001b[0m     \u001b[0;32mdef\u001b[0m \u001b[0mapply_empty_result\u001b[0m\u001b[0;34m(\u001b[0m\u001b[0mself\u001b[0m\u001b[0;34m)\u001b[0m\u001b[0;34m:\u001b[0m\u001b[0;34m\u001b[0m\u001b[0;34m\u001b[0m\u001b[0m\n",
            "\u001b[0;32m/usr/local/lib/python3.6/dist-packages/pandas/core/apply.py\u001b[0m in \u001b[0;36mapply_standard\u001b[0;34m(self)\u001b[0m\n\u001b[1;32m    255\u001b[0m \u001b[0;34m\u001b[0m\u001b[0m\n\u001b[1;32m    256\u001b[0m         \u001b[0;31m# compute the result using the series generator\u001b[0m\u001b[0;34m\u001b[0m\u001b[0;34m\u001b[0m\u001b[0;34m\u001b[0m\u001b[0m\n\u001b[0;32m--> 257\u001b[0;31m         \u001b[0mself\u001b[0m\u001b[0;34m.\u001b[0m\u001b[0mapply_series_generator\u001b[0m\u001b[0;34m(\u001b[0m\u001b[0;34m)\u001b[0m\u001b[0;34m\u001b[0m\u001b[0;34m\u001b[0m\u001b[0m\n\u001b[0m\u001b[1;32m    258\u001b[0m \u001b[0;34m\u001b[0m\u001b[0m\n\u001b[1;32m    259\u001b[0m         \u001b[0;31m# wrap results\u001b[0m\u001b[0;34m\u001b[0m\u001b[0;34m\u001b[0m\u001b[0;34m\u001b[0m\u001b[0m\n",
            "\u001b[0;32m/usr/local/lib/python3.6/dist-packages/pandas/core/apply.py\u001b[0m in \u001b[0;36mapply_series_generator\u001b[0;34m(self)\u001b[0m\n\u001b[1;32m    284\u001b[0m             \u001b[0;32mtry\u001b[0m\u001b[0;34m:\u001b[0m\u001b[0;34m\u001b[0m\u001b[0;34m\u001b[0m\u001b[0m\n\u001b[1;32m    285\u001b[0m                 \u001b[0;32mfor\u001b[0m \u001b[0mi\u001b[0m\u001b[0;34m,\u001b[0m \u001b[0mv\u001b[0m \u001b[0;32min\u001b[0m \u001b[0menumerate\u001b[0m\u001b[0;34m(\u001b[0m\u001b[0mseries_gen\u001b[0m\u001b[0;34m)\u001b[0m\u001b[0;34m:\u001b[0m\u001b[0;34m\u001b[0m\u001b[0;34m\u001b[0m\u001b[0m\n\u001b[0;32m--> 286\u001b[0;31m                     \u001b[0mresults\u001b[0m\u001b[0;34m[\u001b[0m\u001b[0mi\u001b[0m\u001b[0;34m]\u001b[0m \u001b[0;34m=\u001b[0m \u001b[0mself\u001b[0m\u001b[0;34m.\u001b[0m\u001b[0mf\u001b[0m\u001b[0;34m(\u001b[0m\u001b[0mv\u001b[0m\u001b[0;34m)\u001b[0m\u001b[0;34m\u001b[0m\u001b[0;34m\u001b[0m\u001b[0m\n\u001b[0m\u001b[1;32m    287\u001b[0m                     \u001b[0mkeys\u001b[0m\u001b[0;34m.\u001b[0m\u001b[0mappend\u001b[0m\u001b[0;34m(\u001b[0m\u001b[0mv\u001b[0m\u001b[0;34m.\u001b[0m\u001b[0mname\u001b[0m\u001b[0;34m)\u001b[0m\u001b[0;34m\u001b[0m\u001b[0;34m\u001b[0m\u001b[0m\n\u001b[1;32m    288\u001b[0m             \u001b[0;32mexcept\u001b[0m \u001b[0mException\u001b[0m \u001b[0;32mas\u001b[0m \u001b[0me\u001b[0m\u001b[0;34m:\u001b[0m\u001b[0;34m\u001b[0m\u001b[0;34m\u001b[0m\u001b[0m\n",
            "\u001b[0;32m<ipython-input-40-b5d28ceda6b5>\u001b[0m in \u001b[0;36m<lambda>\u001b[0;34m(x)\u001b[0m\n\u001b[0;32m----> 1\u001b[0;31m \u001b[0mdf\u001b[0m\u001b[0;34m[\u001b[0m\u001b[0;34m'vectors'\u001b[0m\u001b[0;34m]\u001b[0m \u001b[0;34m=\u001b[0m \u001b[0mdf\u001b[0m\u001b[0;34m.\u001b[0m\u001b[0mapply\u001b[0m\u001b[0;34m(\u001b[0m\u001b[0;32mlambda\u001b[0m \u001b[0mx\u001b[0m\u001b[0;34m:\u001b[0m \u001b[0mmodel\u001b[0m\u001b[0;34m.\u001b[0m\u001b[0mwv\u001b[0m\u001b[0;34m[\u001b[0m\u001b[0mx\u001b[0m\u001b[0;34m]\u001b[0m\u001b[0;34m.\u001b[0m\u001b[0mmean\u001b[0m\u001b[0;34m(\u001b[0m\u001b[0maxis\u001b[0m\u001b[0;34m=\u001b[0m\u001b[0;36m0\u001b[0m\u001b[0;34m)\u001b[0m\u001b[0;34m)\u001b[0m\u001b[0;34m\u001b[0m\u001b[0;34m\u001b[0m\u001b[0m\n\u001b[0m",
            "\u001b[0;32m/usr/local/lib/python3.6/dist-packages/gensim/models/keyedvectors.py\u001b[0m in \u001b[0;36m__getitem__\u001b[0;34m(self, entities)\u001b[0m\n\u001b[1;32m    347\u001b[0m             \u001b[0;32mreturn\u001b[0m \u001b[0mself\u001b[0m\u001b[0;34m.\u001b[0m\u001b[0mget_vector\u001b[0m\u001b[0;34m(\u001b[0m\u001b[0mentities\u001b[0m\u001b[0;34m)\u001b[0m\u001b[0;34m\u001b[0m\u001b[0;34m\u001b[0m\u001b[0m\n\u001b[1;32m    348\u001b[0m \u001b[0;34m\u001b[0m\u001b[0m\n\u001b[0;32m--> 349\u001b[0;31m         \u001b[0;32mreturn\u001b[0m \u001b[0mvstack\u001b[0m\u001b[0;34m(\u001b[0m\u001b[0;34m[\u001b[0m\u001b[0mself\u001b[0m\u001b[0;34m.\u001b[0m\u001b[0mget_vector\u001b[0m\u001b[0;34m(\u001b[0m\u001b[0mentity\u001b[0m\u001b[0;34m)\u001b[0m \u001b[0;32mfor\u001b[0m \u001b[0mentity\u001b[0m \u001b[0;32min\u001b[0m \u001b[0mentities\u001b[0m\u001b[0;34m]\u001b[0m\u001b[0;34m)\u001b[0m\u001b[0;34m\u001b[0m\u001b[0;34m\u001b[0m\u001b[0m\n\u001b[0m\u001b[1;32m    350\u001b[0m \u001b[0;34m\u001b[0m\u001b[0m\n\u001b[1;32m    351\u001b[0m     \u001b[0;32mdef\u001b[0m \u001b[0m__contains__\u001b[0m\u001b[0;34m(\u001b[0m\u001b[0mself\u001b[0m\u001b[0;34m,\u001b[0m \u001b[0mentity\u001b[0m\u001b[0;34m)\u001b[0m\u001b[0;34m:\u001b[0m\u001b[0;34m\u001b[0m\u001b[0;34m\u001b[0m\u001b[0m\n",
            "\u001b[0;32m/usr/local/lib/python3.6/dist-packages/gensim/models/keyedvectors.py\u001b[0m in \u001b[0;36m<listcomp>\u001b[0;34m(.0)\u001b[0m\n\u001b[1;32m    347\u001b[0m             \u001b[0;32mreturn\u001b[0m \u001b[0mself\u001b[0m\u001b[0;34m.\u001b[0m\u001b[0mget_vector\u001b[0m\u001b[0;34m(\u001b[0m\u001b[0mentities\u001b[0m\u001b[0;34m)\u001b[0m\u001b[0;34m\u001b[0m\u001b[0;34m\u001b[0m\u001b[0m\n\u001b[1;32m    348\u001b[0m \u001b[0;34m\u001b[0m\u001b[0m\n\u001b[0;32m--> 349\u001b[0;31m         \u001b[0;32mreturn\u001b[0m \u001b[0mvstack\u001b[0m\u001b[0;34m(\u001b[0m\u001b[0;34m[\u001b[0m\u001b[0mself\u001b[0m\u001b[0;34m.\u001b[0m\u001b[0mget_vector\u001b[0m\u001b[0;34m(\u001b[0m\u001b[0mentity\u001b[0m\u001b[0;34m)\u001b[0m \u001b[0;32mfor\u001b[0m \u001b[0mentity\u001b[0m \u001b[0;32min\u001b[0m \u001b[0mentities\u001b[0m\u001b[0;34m]\u001b[0m\u001b[0;34m)\u001b[0m\u001b[0;34m\u001b[0m\u001b[0;34m\u001b[0m\u001b[0m\n\u001b[0m\u001b[1;32m    350\u001b[0m \u001b[0;34m\u001b[0m\u001b[0m\n\u001b[1;32m    351\u001b[0m     \u001b[0;32mdef\u001b[0m \u001b[0m__contains__\u001b[0m\u001b[0;34m(\u001b[0m\u001b[0mself\u001b[0m\u001b[0;34m,\u001b[0m \u001b[0mentity\u001b[0m\u001b[0;34m)\u001b[0m\u001b[0;34m:\u001b[0m\u001b[0;34m\u001b[0m\u001b[0;34m\u001b[0m\u001b[0m\n",
            "\u001b[0;32m/usr/local/lib/python3.6/dist-packages/gensim/models/keyedvectors.py\u001b[0m in \u001b[0;36mget_vector\u001b[0;34m(self, word)\u001b[0m\n\u001b[1;32m    463\u001b[0m \u001b[0;34m\u001b[0m\u001b[0m\n\u001b[1;32m    464\u001b[0m     \u001b[0;32mdef\u001b[0m \u001b[0mget_vector\u001b[0m\u001b[0;34m(\u001b[0m\u001b[0mself\u001b[0m\u001b[0;34m,\u001b[0m \u001b[0mword\u001b[0m\u001b[0;34m)\u001b[0m\u001b[0;34m:\u001b[0m\u001b[0;34m\u001b[0m\u001b[0;34m\u001b[0m\u001b[0m\n\u001b[0;32m--> 465\u001b[0;31m         \u001b[0;32mreturn\u001b[0m \u001b[0mself\u001b[0m\u001b[0;34m.\u001b[0m\u001b[0mword_vec\u001b[0m\u001b[0;34m(\u001b[0m\u001b[0mword\u001b[0m\u001b[0;34m)\u001b[0m\u001b[0;34m\u001b[0m\u001b[0;34m\u001b[0m\u001b[0m\n\u001b[0m\u001b[1;32m    466\u001b[0m \u001b[0;34m\u001b[0m\u001b[0m\n\u001b[1;32m    467\u001b[0m     \u001b[0;32mdef\u001b[0m \u001b[0mwords_closer_than\u001b[0m\u001b[0;34m(\u001b[0m\u001b[0mself\u001b[0m\u001b[0;34m,\u001b[0m \u001b[0mw1\u001b[0m\u001b[0;34m,\u001b[0m \u001b[0mw2\u001b[0m\u001b[0;34m)\u001b[0m\u001b[0;34m:\u001b[0m\u001b[0;34m\u001b[0m\u001b[0;34m\u001b[0m\u001b[0m\n",
            "\u001b[0;32m/usr/local/lib/python3.6/dist-packages/gensim/models/keyedvectors.py\u001b[0m in \u001b[0;36mword_vec\u001b[0;34m(self, word, use_norm)\u001b[0m\n\u001b[1;32m    460\u001b[0m             \u001b[0;32mreturn\u001b[0m \u001b[0mresult\u001b[0m\u001b[0;34m\u001b[0m\u001b[0;34m\u001b[0m\u001b[0m\n\u001b[1;32m    461\u001b[0m         \u001b[0;32melse\u001b[0m\u001b[0;34m:\u001b[0m\u001b[0;34m\u001b[0m\u001b[0;34m\u001b[0m\u001b[0m\n\u001b[0;32m--> 462\u001b[0;31m             \u001b[0;32mraise\u001b[0m \u001b[0mKeyError\u001b[0m\u001b[0;34m(\u001b[0m\u001b[0;34m\"word '%s' not in vocabulary\"\u001b[0m \u001b[0;34m%\u001b[0m \u001b[0mword\u001b[0m\u001b[0;34m)\u001b[0m\u001b[0;34m\u001b[0m\u001b[0;34m\u001b[0m\u001b[0m\n\u001b[0m\u001b[1;32m    463\u001b[0m \u001b[0;34m\u001b[0m\u001b[0m\n\u001b[1;32m    464\u001b[0m     \u001b[0;32mdef\u001b[0m \u001b[0mget_vector\u001b[0m\u001b[0;34m(\u001b[0m\u001b[0mself\u001b[0m\u001b[0;34m,\u001b[0m \u001b[0mword\u001b[0m\u001b[0;34m)\u001b[0m\u001b[0;34m:\u001b[0m\u001b[0;34m\u001b[0m\u001b[0;34m\u001b[0m\u001b[0m\n",
            "\u001b[0;31mKeyError\u001b[0m: (\"word 'Miss Hoover' not in vocabulary\", 'occurred at index raw_character_text')"
          ]
        }
      ]
    },
    {
      "cell_type": "code",
      "metadata": {
        "id": "Tn5nupXTwM06",
        "colab_type": "code",
        "colab": {}
      },
      "source": [
        ""
      ],
      "execution_count": 0,
      "outputs": []
    },
    {
      "cell_type": "code",
      "metadata": {
        "id": "9T_LbSOQvVlc",
        "colab_type": "code",
        "colab": {}
      },
      "source": [
        ""
      ],
      "execution_count": 0,
      "outputs": []
    }
  ]
}