{
  "nbformat": 4,
  "nbformat_minor": 0,
  "metadata": {
    "colab": {
      "name": "LS_DS_424_Word_Embeddings_Assignment.ipynb",
      "version": "0.3.2",
      "provenance": [],
      "collapsed_sections": []
    },
    "language_info": {
      "codemirror_mode": {
        "name": "ipython",
        "version": 3
      },
      "file_extension": ".py",
      "mimetype": "text/x-python",
      "name": "python",
      "nbconvert_exporter": "python",
      "pygments_lexer": "ipython3",
      "version": "3.7.3"
    },
    "kernelspec": {
      "display_name": "Python 3",
      "language": "python",
      "name": "python3"
    }
  },
  "cells": [
    {
      "cell_type": "markdown",
      "metadata": {
        "colab_type": "text",
        "id": "ASfGeMfI6Kgs"
      },
      "source": [
        "<img align=\"left\" src=\"https://lever-client-logos.s3.amazonaws.com/864372b1-534c-480e-acd5-9711f850815c-1524247202159.png\" width=200>\n",
        "<br></br>\n",
        "<br></br>\n",
        "\n",
        "## *Data Science Unit 4 Sprint 2 Assignment 4*\n",
        "\n",
        "# Word Embeddings\n",
        "\n",
        "### Use Word2Vec to train your own model on a dataset.\n",
        "\n",
        "1) **Optional** - Find your own dataset of documents to train you model on. You are going to need a lot of data, so it's probably not realistic to scrape data for this assignment given the time constraints that we're working under. Try to find a dataset that has > 5000 documents.\n",
        "\n",
        "- If you can't find a dataset to use try this one: <https://www.kaggle.com/c/quora-question-pairs>\n",
        "\n",
        "2) Clean/Tokenize the documents.\n",
        "\n",
        "3) Vectorize the model using Word2Vec and explore the results using each of the following at least one time:\n",
        "\n",
        "- your_model.wv.most_similar()\n",
        "- your_model.wv.similarity()\n",
        "- your_model.wv.doesn't_match()"
      ]
    },
    {
      "cell_type": "code",
      "metadata": {
        "id": "7q9Pwm31esBk",
        "colab_type": "code",
        "colab": {
          "base_uri": "https://localhost:8080/",
          "height": 102
        },
        "outputId": "a6e27605-71d9-4e52-d8f2-ac7ef3eeaa46"
      },
      "source": [
        "import pandas as pd\n",
        "import string\n",
        "from nltk import word_tokenize\n",
        "import nltk\n",
        "nltk.download('punkt')\n",
        "from gensim.models import Word2Vec\n",
        "from sklearn.feature_extraction.text import CountVectorizer\n",
        "nltk.download('stopwords')"
      ],
      "execution_count": 1,
      "outputs": [
        {
          "output_type": "stream",
          "text": [
            "[nltk_data] Downloading package punkt to /root/nltk_data...\n",
            "[nltk_data]   Package punkt is already up-to-date!\n",
            "[nltk_data] Downloading package stopwords to /root/nltk_data...\n",
            "[nltk_data]   Package stopwords is already up-to-date!\n"
          ],
          "name": "stdout"
        },
        {
          "output_type": "execute_result",
          "data": {
            "text/plain": [
              "True"
            ]
          },
          "metadata": {
            "tags": []
          },
          "execution_count": 1
        }
      ]
    },
    {
      "cell_type": "code",
      "metadata": {
        "colab_type": "code",
        "id": "wy5lYo4K8wEy",
        "colab": {
          "base_uri": "https://localhost:8080/",
          "height": 34
        },
        "outputId": "88127ac8-4242-4555-d822-787c31e4f5a6"
      },
      "source": [
        "data_scientist = pd.read_csv('data_scientist_jobs_indeed.csv')\n",
        "data_scientist.Title = \"Data Scientist\"\n",
        "data_analyst = pd.read_csv('data_analyst_jobs_indeed.csv')\n",
        "data_analyst.Title = \"Data Analyst\"\n",
        "data_engineer = pd.read_csv('data_engineer_jobs_indeed.csv')\n",
        "data_engineer.Title = \"Data Engineer\"\n",
        "\n",
        "df = pd.concat([data_scientist, data_analyst, data_engineer], axis=0).drop_duplicates()\n",
        "df.shape"
      ],
      "execution_count": 2,
      "outputs": [
        {
          "output_type": "execute_result",
          "data": {
            "text/plain": [
              "(13180, 5)"
            ]
          },
          "metadata": {
            "tags": []
          },
          "execution_count": 2
        }
      ]
    },
    {
      "cell_type": "code",
      "metadata": {
        "id": "HPRuV4x2fV_O",
        "colab_type": "code",
        "colab": {
          "base_uri": "https://localhost:8080/",
          "height": 289
        },
        "outputId": "bd57fccb-4a94-4595-bb3f-48ab7583655b"
      },
      "source": [
        "df.sample(5)"
      ],
      "execution_count": 3,
      "outputs": [
        {
          "output_type": "execute_result",
          "data": {
            "text/html": [
              "<div>\n",
              "<style scoped>\n",
              "    .dataframe tbody tr th:only-of-type {\n",
              "        vertical-align: middle;\n",
              "    }\n",
              "\n",
              "    .dataframe tbody tr th {\n",
              "        vertical-align: top;\n",
              "    }\n",
              "\n",
              "    .dataframe thead th {\n",
              "        text-align: right;\n",
              "    }\n",
              "</style>\n",
              "<table border=\"1\" class=\"dataframe\">\n",
              "  <thead>\n",
              "    <tr style=\"text-align: right;\">\n",
              "      <th></th>\n",
              "      <th>Title</th>\n",
              "      <th>Location</th>\n",
              "      <th>Company</th>\n",
              "      <th>Salary</th>\n",
              "      <th>Summary</th>\n",
              "    </tr>\n",
              "  </thead>\n",
              "  <tbody>\n",
              "    <tr>\n",
              "      <th>1836</th>\n",
              "      <td>Data Scientist</td>\n",
              "      <td>Richmond, VA 23219 (City Center area)</td>\n",
              "      <td>Afton Chemical</td>\n",
              "      <td>\\n                $86,000 - $126,000 a year (I...</td>\n",
              "      <td>This data scientist position will ...</td>\n",
              "    </tr>\n",
              "    <tr>\n",
              "      <th>3048</th>\n",
              "      <td>Data Scientist</td>\n",
              "      <td>Hollywood, CA 90028</td>\n",
              "      <td>Ticketmaster</td>\n",
              "      <td>NaN</td>\n",
              "      <td>Carry out tasks encompassing data ...</td>\n",
              "    </tr>\n",
              "    <tr>\n",
              "      <th>3994</th>\n",
              "      <td>Data Analyst</td>\n",
              "      <td>NaN</td>\n",
              "      <td>Alexander Technology Group</td>\n",
              "      <td>NaN</td>\n",
              "      <td>The right fit for this Data Analys...</td>\n",
              "    </tr>\n",
              "    <tr>\n",
              "      <th>1954</th>\n",
              "      <td>Data Scientist</td>\n",
              "      <td>Cincinnati, OH 45249</td>\n",
              "      <td>Procter and Gamble</td>\n",
              "      <td>NaN</td>\n",
              "      <td>As a PhD Data Scientist, you'll be...</td>\n",
              "    </tr>\n",
              "    <tr>\n",
              "      <th>2705</th>\n",
              "      <td>Data Scientist</td>\n",
              "      <td>Cambridge, MA 02140 (North Cambridge area)</td>\n",
              "      <td>Voluntis</td>\n",
              "      <td>NaN</td>\n",
              "      <td>We seek an exceptional data scient...</td>\n",
              "    </tr>\n",
              "  </tbody>\n",
              "</table>\n",
              "</div>"
            ],
            "text/plain": [
              "               Title                                    Location  \\\n",
              "1836  Data Scientist       Richmond, VA 23219 (City Center area)   \n",
              "3048  Data Scientist                         Hollywood, CA 90028   \n",
              "3994    Data Analyst                                         NaN   \n",
              "1954  Data Scientist                        Cincinnati, OH 45249   \n",
              "2705  Data Scientist  Cambridge, MA 02140 (North Cambridge area)   \n",
              "\n",
              "                                 Company  \\\n",
              "1836                      Afton Chemical   \n",
              "3048                        Ticketmaster   \n",
              "3994          Alexander Technology Group   \n",
              "1954                  Procter and Gamble   \n",
              "2705                            Voluntis   \n",
              "\n",
              "                                                 Salary  \\\n",
              "1836  \\n                $86,000 - $126,000 a year (I...   \n",
              "3048                                                NaN   \n",
              "3994                                                NaN   \n",
              "1954                                                NaN   \n",
              "2705                                                NaN   \n",
              "\n",
              "                                                Summary  \n",
              "1836              This data scientist position will ...  \n",
              "3048              Carry out tasks encompassing data ...  \n",
              "3994              The right fit for this Data Analys...  \n",
              "1954              As a PhD Data Scientist, you'll be...  \n",
              "2705              We seek an exceptional data scient...  "
            ]
          },
          "metadata": {
            "tags": []
          },
          "execution_count": 3
        }
      ]
    },
    {
      "cell_type": "code",
      "metadata": {
        "id": "94MSAL_UfV8x",
        "colab_type": "code",
        "colab": {}
      },
      "source": [
        "# Subset to only Title and Summary\n",
        "df = df[['Title','Summary']]"
      ],
      "execution_count": 0,
      "outputs": []
    },
    {
      "cell_type": "code",
      "metadata": {
        "id": "RAUZ9NxSfV6H",
        "colab_type": "code",
        "colab": {}
      },
      "source": [
        "# Process text function\n",
        "\n",
        "def process_text(text):\n",
        "  from nltk.corpus import stopwords\n",
        "  \"\"\"Remove punctuation, lowercase, and tokenize text.\"\"\"\n",
        "  # TODO: check for special cases like \"I'll\"\n",
        "  text = \"\".join([char.lower() for char in text\n",
        "                  if char not in string.punctuation])\n",
        "  stop = stopwords.words('english')\n",
        "  return [i for i in word_tokenize(text) if i not in stop]"
      ],
      "execution_count": 0,
      "outputs": []
    },
    {
      "cell_type": "code",
      "metadata": {
        "id": "E4QwMMC8os_9",
        "colab_type": "code",
        "colab": {
          "base_uri": "https://localhost:8080/",
          "height": 68
        },
        "outputId": "e7315812-dff9-4fd1-9ec9-051daeeee423"
      },
      "source": [
        "df.isna().sum()"
      ],
      "execution_count": 6,
      "outputs": [
        {
          "output_type": "execute_result",
          "data": {
            "text/plain": [
              "Title      0\n",
              "Summary    0\n",
              "dtype: int64"
            ]
          },
          "metadata": {
            "tags": []
          },
          "execution_count": 6
        }
      ]
    },
    {
      "cell_type": "code",
      "metadata": {
        "id": "BhZQW_rTpPyw",
        "colab_type": "code",
        "colab": {
          "base_uri": "https://localhost:8080/",
          "height": 85
        },
        "outputId": "c30e7c3a-2b18-4582-dc2a-5eb218b038af"
      },
      "source": [
        "df['Title'].value_counts(normalize=True)"
      ],
      "execution_count": 7,
      "outputs": [
        {
          "output_type": "execute_result",
          "data": {
            "text/plain": [
              "Data Analyst      0.350607\n",
              "Data Scientist    0.343930\n",
              "Data Engineer     0.305463\n",
              "Name: Title, dtype: float64"
            ]
          },
          "metadata": {
            "tags": []
          },
          "execution_count": 7
        }
      ]
    },
    {
      "cell_type": "code",
      "metadata": {
        "id": "d6fHZ9Nrqsnq",
        "colab_type": "code",
        "colab": {
          "base_uri": "https://localhost:8080/",
          "height": 34
        },
        "outputId": "984e21ce-17db-4275-a596-037ac054b477"
      },
      "source": [
        "process_text(\"Testing the process text function, hope it's working! . , '' + - = ;;;; ; '.,*&^$#@#$%'\")"
      ],
      "execution_count": 8,
      "outputs": [
        {
          "output_type": "execute_result",
          "data": {
            "text/plain": [
              "['testing', 'process', 'text', 'function', 'hope', 'working']"
            ]
          },
          "metadata": {
            "tags": []
          },
          "execution_count": 8
        }
      ]
    },
    {
      "cell_type": "code",
      "metadata": {
        "id": "vi2d_ErfrNRl",
        "colab_type": "code",
        "colab": {}
      },
      "source": [
        "df['Tokens'] = df['Summary'].apply(process_text) # Don't forget to take care of missing values if there are any"
      ],
      "execution_count": 0,
      "outputs": []
    },
    {
      "cell_type": "code",
      "metadata": {
        "id": "3nII4oFrrkR4",
        "colab_type": "code",
        "colab": {
          "base_uri": "https://localhost:8080/",
          "height": 204
        },
        "outputId": "a33612e0-5c8a-4eaf-d7be-f76b23e71c9e"
      },
      "source": [
        "df.head()"
      ],
      "execution_count": 10,
      "outputs": [
        {
          "output_type": "execute_result",
          "data": {
            "text/html": [
              "<div>\n",
              "<style scoped>\n",
              "    .dataframe tbody tr th:only-of-type {\n",
              "        vertical-align: middle;\n",
              "    }\n",
              "\n",
              "    .dataframe tbody tr th {\n",
              "        vertical-align: top;\n",
              "    }\n",
              "\n",
              "    .dataframe thead th {\n",
              "        text-align: right;\n",
              "    }\n",
              "</style>\n",
              "<table border=\"1\" class=\"dataframe\">\n",
              "  <thead>\n",
              "    <tr style=\"text-align: right;\">\n",
              "      <th></th>\n",
              "      <th>Title</th>\n",
              "      <th>Summary</th>\n",
              "      <th>Tokens</th>\n",
              "    </tr>\n",
              "  </thead>\n",
              "  <tbody>\n",
              "    <tr>\n",
              "      <th>0</th>\n",
              "      <td>Data Scientist</td>\n",
              "      <td>Natural Language Processing (NLP),...</td>\n",
              "      <td>[natural, language, processing, nlp, speech, d...</td>\n",
              "    </tr>\n",
              "    <tr>\n",
              "      <th>1</th>\n",
              "      <td>Data Scientist</td>\n",
              "      <td>Conduct exploratory data analysis,...</td>\n",
              "      <td>[conduct, exploratory, data, analysis, mine, d...</td>\n",
              "    </tr>\n",
              "    <tr>\n",
              "      <th>4</th>\n",
              "      <td>Data Scientist</td>\n",
              "      <td>Data Scientist to join the Data Science team. ...</td>\n",
              "      <td>[data, scientist, join, data, science, team, d...</td>\n",
              "    </tr>\n",
              "    <tr>\n",
              "      <th>5</th>\n",
              "      <td>Data Scientist</td>\n",
              "      <td>Structured and unstructured data:....</td>\n",
              "      <td>[structured, unstructured, data, scale, analyt...</td>\n",
              "    </tr>\n",
              "    <tr>\n",
              "      <th>6</th>\n",
              "      <td>Data Scientist</td>\n",
              "      <td>Research, evaluate, design and imp...</td>\n",
              "      <td>[research, evaluate, design, implement, machin...</td>\n",
              "    </tr>\n",
              "  </tbody>\n",
              "</table>\n",
              "</div>"
            ],
            "text/plain": [
              "            Title                                            Summary  \\\n",
              "0  Data Scientist              Natural Language Processing (NLP),...   \n",
              "1  Data Scientist              Conduct exploratory data analysis,...   \n",
              "4  Data Scientist  Data Scientist to join the Data Science team. ...   \n",
              "5  Data Scientist              Structured and unstructured data:....   \n",
              "6  Data Scientist              Research, evaluate, design and imp...   \n",
              "\n",
              "                                              Tokens  \n",
              "0  [natural, language, processing, nlp, speech, d...  \n",
              "1  [conduct, exploratory, data, analysis, mine, d...  \n",
              "4  [data, scientist, join, data, science, team, d...  \n",
              "5  [structured, unstructured, data, scale, analyt...  \n",
              "6  [research, evaluate, design, implement, machin...  "
            ]
          },
          "metadata": {
            "tags": []
          },
          "execution_count": 10
        }
      ]
    },
    {
      "cell_type": "markdown",
      "metadata": {
        "id": "0Cz5boUJNAk6",
        "colab_type": "text"
      },
      "source": [
        "# Word2Vec"
      ]
    },
    {
      "cell_type": "code",
      "metadata": {
        "id": "y3T7_v6er_xt",
        "colab_type": "code",
        "colab": {}
      },
      "source": [
        "model = Word2Vec(df['Tokens'], min_count=5, size=100, seed=420)"
      ],
      "execution_count": 0,
      "outputs": []
    },
    {
      "cell_type": "code",
      "metadata": {
        "id": "u0bivBswr_1c",
        "colab_type": "code",
        "colab": {
          "base_uri": "https://localhost:8080/",
          "height": 241
        },
        "outputId": "564db38c-df19-45a5-9ac4-de32d88ba9d7"
      },
      "source": [
        "model.wv.most_similar('python')"
      ],
      "execution_count": 12,
      "outputs": [
        {
          "output_type": "stream",
          "text": [
            "/usr/local/lib/python3.6/dist-packages/gensim/matutils.py:737: FutureWarning: Conversion of the second argument of issubdtype from `int` to `np.signedinteger` is deprecated. In future, it will be treated as `np.int64 == np.dtype(int).type`.\n",
            "  if np.issubdtype(vec.dtype, np.int):\n"
          ],
          "name": "stderr"
        },
        {
          "output_type": "execute_result",
          "data": {
            "text/plain": [
              "[('r', 0.9873111248016357),\n",
              " ('talend', 0.9763953685760498),\n",
              " ('hadoop', 0.9690969586372375),\n",
              " ('spark', 0.9584083557128906),\n",
              " ('tableau', 0.9536489248275757),\n",
              " ('programming', 0.9522199630737305),\n",
              " ('eg', 0.9513393640518188),\n",
              " ('language', 0.949604868888855),\n",
              " ('preferred', 0.9491496086120605),\n",
              " ('demonstrated', 0.9485483765602112)]"
            ]
          },
          "metadata": {
            "tags": []
          },
          "execution_count": 12
        }
      ]
    },
    {
      "cell_type": "code",
      "metadata": {
        "id": "lD7Xw-RSNLk8",
        "colab_type": "code",
        "colab": {
          "base_uri": "https://localhost:8080/",
          "height": 88
        },
        "outputId": "02a00413-7145-478e-ebb4-3ff7fc0b870f"
      },
      "source": [
        "model.wv.similarity('visualization', 'python')"
      ],
      "execution_count": 47,
      "outputs": [
        {
          "output_type": "stream",
          "text": [
            "/usr/local/lib/python3.6/dist-packages/gensim/matutils.py:737: FutureWarning: Conversion of the second argument of issubdtype from `int` to `np.signedinteger` is deprecated. In future, it will be treated as `np.int64 == np.dtype(int).type`.\n",
            "  if np.issubdtype(vec.dtype, np.int):\n"
          ],
          "name": "stderr"
        },
        {
          "output_type": "execute_result",
          "data": {
            "text/plain": [
              "0.8155188"
            ]
          },
          "metadata": {
            "tags": []
          },
          "execution_count": 47
        }
      ]
    },
    {
      "cell_type": "markdown",
      "metadata": {
        "id": "wUZO9qLaNDpQ",
        "colab_type": "text"
      },
      "source": [
        "# Count Tokenizer"
      ]
    },
    {
      "cell_type": "code",
      "metadata": {
        "id": "AVVs7iWaNPvD",
        "colab_type": "code",
        "colab": {}
      },
      "source": [
        "# Remove list brackets\n",
        "df['Tokens'] = [','.join(map(str, l)) for l in df['Tokens']]\n",
        "\n",
        "# Get rid of numbers\n",
        "df['Tokens'] = df['Tokens'].str.replace('\\d+', '')"
      ],
      "execution_count": 0,
      "outputs": []
    },
    {
      "cell_type": "code",
      "metadata": {
        "id": "PDDv4rtqsAP-",
        "colab_type": "code",
        "colab": {
          "base_uri": "https://localhost:8080/",
          "height": 712
        },
        "outputId": "be6a0d91-dc78-4a32-d085-993f4daf4553"
      },
      "source": [
        "# Instantiate CountVectorizer\n",
        "cvec = CountVectorizer(ngram_range=(2,2), max_features=20000)\n",
        "\n",
        "# Fir the CountVectorizer and transform the data\n",
        "vectorizers = cvec.fit_transform(df['Tokens'])\n",
        "\n",
        "\n",
        "df_vec  = pd.DataFrame(vectorizers.todense(), columns=cvec.get_feature_names())\n",
        "print (df_vec.shape)\n",
        "df_vec.head()"
      ],
      "execution_count": 33,
      "outputs": [
        {
          "output_type": "stream",
          "text": [
            "(13180, 20000)\n"
          ],
          "name": "stdout"
        },
        {
          "output_type": "execute_result",
          "data": {
            "text/html": [
              "<div>\n",
              "<style scoped>\n",
              "    .dataframe tbody tr th:only-of-type {\n",
              "        vertical-align: middle;\n",
              "    }\n",
              "\n",
              "    .dataframe tbody tr th {\n",
              "        vertical-align: top;\n",
              "    }\n",
              "\n",
              "    .dataframe thead th {\n",
              "        text-align: right;\n",
              "    }\n",
              "</style>\n",
              "<table border=\"1\" class=\"dataframe\">\n",
              "  <thead>\n",
              "    <tr style=\"text-align: right;\">\n",
              "      <th></th>\n",
              "      <th>ab testing</th>\n",
              "      <th>ab tests</th>\n",
              "      <th>abilities create</th>\n",
              "      <th>abilities passionate</th>\n",
              "      <th>ability analyze</th>\n",
              "      <th>ability apply</th>\n",
              "      <th>ability assist</th>\n",
              "      <th>ability bring</th>\n",
              "      <th>ability build</th>\n",
              "      <th>ability clearly</th>\n",
              "      <th>...</th>\n",
              "      <th>zestfinance develop</th>\n",
              "      <th>zillow group</th>\n",
              "      <th>zillow groups</th>\n",
              "      <th>zipcar seeking</th>\n",
              "      <th>zynga one</th>\n",
              "      <th>专业为统计经济信息系统计算机等stem类皆可 需要有基础编程技能比如对sql较熟悉</th>\n",
              "      <th>医疗保险公司data analyst全职实习机会</th>\n",
              "      <th>工作地点可选san francisco</th>\n",
              "      <th>总部位于湾区的医疗保险公司招数据分析师需要至少学士学历或在读生 专业为统计经济信息系统计算机等stem类皆可</th>\n",
              "      <th>需要有基础编程技能比如对sql较熟悉 工作地点可选san</th>\n",
              "    </tr>\n",
              "  </thead>\n",
              "  <tbody>\n",
              "    <tr>\n",
              "      <th>0</th>\n",
              "      <td>0</td>\n",
              "      <td>0</td>\n",
              "      <td>0</td>\n",
              "      <td>0</td>\n",
              "      <td>0</td>\n",
              "      <td>0</td>\n",
              "      <td>0</td>\n",
              "      <td>0</td>\n",
              "      <td>0</td>\n",
              "      <td>0</td>\n",
              "      <td>...</td>\n",
              "      <td>0</td>\n",
              "      <td>0</td>\n",
              "      <td>0</td>\n",
              "      <td>0</td>\n",
              "      <td>0</td>\n",
              "      <td>0</td>\n",
              "      <td>0</td>\n",
              "      <td>0</td>\n",
              "      <td>0</td>\n",
              "      <td>0</td>\n",
              "    </tr>\n",
              "    <tr>\n",
              "      <th>1</th>\n",
              "      <td>0</td>\n",
              "      <td>0</td>\n",
              "      <td>0</td>\n",
              "      <td>0</td>\n",
              "      <td>0</td>\n",
              "      <td>0</td>\n",
              "      <td>0</td>\n",
              "      <td>0</td>\n",
              "      <td>0</td>\n",
              "      <td>0</td>\n",
              "      <td>...</td>\n",
              "      <td>0</td>\n",
              "      <td>0</td>\n",
              "      <td>0</td>\n",
              "      <td>0</td>\n",
              "      <td>0</td>\n",
              "      <td>0</td>\n",
              "      <td>0</td>\n",
              "      <td>0</td>\n",
              "      <td>0</td>\n",
              "      <td>0</td>\n",
              "    </tr>\n",
              "    <tr>\n",
              "      <th>2</th>\n",
              "      <td>0</td>\n",
              "      <td>0</td>\n",
              "      <td>0</td>\n",
              "      <td>0</td>\n",
              "      <td>0</td>\n",
              "      <td>0</td>\n",
              "      <td>0</td>\n",
              "      <td>0</td>\n",
              "      <td>0</td>\n",
              "      <td>0</td>\n",
              "      <td>...</td>\n",
              "      <td>0</td>\n",
              "      <td>0</td>\n",
              "      <td>0</td>\n",
              "      <td>0</td>\n",
              "      <td>0</td>\n",
              "      <td>0</td>\n",
              "      <td>0</td>\n",
              "      <td>0</td>\n",
              "      <td>0</td>\n",
              "      <td>0</td>\n",
              "    </tr>\n",
              "    <tr>\n",
              "      <th>3</th>\n",
              "      <td>0</td>\n",
              "      <td>0</td>\n",
              "      <td>0</td>\n",
              "      <td>0</td>\n",
              "      <td>0</td>\n",
              "      <td>0</td>\n",
              "      <td>0</td>\n",
              "      <td>0</td>\n",
              "      <td>0</td>\n",
              "      <td>0</td>\n",
              "      <td>...</td>\n",
              "      <td>0</td>\n",
              "      <td>0</td>\n",
              "      <td>0</td>\n",
              "      <td>0</td>\n",
              "      <td>0</td>\n",
              "      <td>0</td>\n",
              "      <td>0</td>\n",
              "      <td>0</td>\n",
              "      <td>0</td>\n",
              "      <td>0</td>\n",
              "    </tr>\n",
              "    <tr>\n",
              "      <th>4</th>\n",
              "      <td>0</td>\n",
              "      <td>0</td>\n",
              "      <td>0</td>\n",
              "      <td>0</td>\n",
              "      <td>0</td>\n",
              "      <td>0</td>\n",
              "      <td>0</td>\n",
              "      <td>0</td>\n",
              "      <td>0</td>\n",
              "      <td>0</td>\n",
              "      <td>...</td>\n",
              "      <td>0</td>\n",
              "      <td>0</td>\n",
              "      <td>0</td>\n",
              "      <td>0</td>\n",
              "      <td>0</td>\n",
              "      <td>0</td>\n",
              "      <td>0</td>\n",
              "      <td>0</td>\n",
              "      <td>0</td>\n",
              "      <td>0</td>\n",
              "    </tr>\n",
              "  </tbody>\n",
              "</table>\n",
              "<p>5 rows × 20000 columns</p>\n",
              "</div>"
            ],
            "text/plain": [
              "   ab testing  ab tests  abilities create  abilities passionate  \\\n",
              "0           0         0                 0                     0   \n",
              "1           0         0                 0                     0   \n",
              "2           0         0                 0                     0   \n",
              "3           0         0                 0                     0   \n",
              "4           0         0                 0                     0   \n",
              "\n",
              "   ability analyze  ability apply  ability assist  ability bring  \\\n",
              "0                0              0               0              0   \n",
              "1                0              0               0              0   \n",
              "2                0              0               0              0   \n",
              "3                0              0               0              0   \n",
              "4                0              0               0              0   \n",
              "\n",
              "   ability build  ability clearly  ...  zestfinance develop  zillow group  \\\n",
              "0              0                0  ...                    0             0   \n",
              "1              0                0  ...                    0             0   \n",
              "2              0                0  ...                    0             0   \n",
              "3              0                0  ...                    0             0   \n",
              "4              0                0  ...                    0             0   \n",
              "\n",
              "   zillow groups  zipcar seeking  zynga one  \\\n",
              "0              0               0          0   \n",
              "1              0               0          0   \n",
              "2              0               0          0   \n",
              "3              0               0          0   \n",
              "4              0               0          0   \n",
              "\n",
              "   专业为统计经济信息系统计算机等stem类皆可 需要有基础编程技能比如对sql较熟悉  医疗保险公司data analyst全职实习机会  \\\n",
              "0                                          0                         0   \n",
              "1                                          0                         0   \n",
              "2                                          0                         0   \n",
              "3                                          0                         0   \n",
              "4                                          0                         0   \n",
              "\n",
              "   工作地点可选san francisco  \\\n",
              "0                    0   \n",
              "1                    0   \n",
              "2                    0   \n",
              "3                    0   \n",
              "4                    0   \n",
              "\n",
              "   总部位于湾区的医疗保险公司招数据分析师需要至少学士学历或在读生 专业为统计经济信息系统计算机等stem类皆可  \\\n",
              "0                                                  0        \n",
              "1                                                  0        \n",
              "2                                                  0        \n",
              "3                                                  0        \n",
              "4                                                  0        \n",
              "\n",
              "   需要有基础编程技能比如对sql较熟悉 工作地点可选san  \n",
              "0                             0  \n",
              "1                             0  \n",
              "2                             0  \n",
              "3                             0  \n",
              "4                             0  \n",
              "\n",
              "[5 rows x 20000 columns]"
            ]
          },
          "metadata": {
            "tags": []
          },
          "execution_count": 33
        }
      ]
    },
    {
      "cell_type": "code",
      "metadata": {
        "id": "2Il2Pjg5JMjx",
        "colab_type": "code",
        "colab": {
          "base_uri": "https://localhost:8080/",
          "height": 714
        },
        "outputId": "070e099d-20df-40b8-9b91-52393f7f779d"
      },
      "source": [
        "# The most common words\n",
        "\n",
        "df_vec.sum().sort_values(ascending=False)[40:80]"
      ],
      "execution_count": 42,
      "outputs": [
        {
          "output_type": "execute_result",
          "data": {
            "text/plain": [
              "engineer data            231\n",
              "data collection          229\n",
              "analyst data             221\n",
              "management data          220\n",
              "join team                219\n",
              "data platform            217\n",
              "including data           217\n",
              "analyst responsible      215\n",
              "data governance          213\n",
              "business data            212\n",
              "work closely             203\n",
              "engineers data           191\n",
              "modeling data            184\n",
              "build data               183\n",
              "data structures          182\n",
              "data integrity           177\n",
              "knowledge data           176\n",
              "new data                 173\n",
              "scientists data          171\n",
              "experienced data         169\n",
              "work data                169\n",
              "analyst join             164\n",
              "use data                 160\n",
              "business intelligence    160\n",
              "science team             159\n",
              "scientist join           157\n",
              "data cleansing           156\n",
              "mining data              156\n",
              "working data             153\n",
              "perform data             152\n",
              "multiple data            149\n",
              "using data               148\n",
              "data technologies        144\n",
              "building data            143\n",
              "scientist data           142\n",
              "quality data             140\n",
              "engineer responsible     136\n",
              "healthcare data          135\n",
              "data multiple            134\n",
              "unstructured data        134\n",
              "dtype: int64"
            ]
          },
          "metadata": {
            "tags": []
          },
          "execution_count": 42
        }
      ]
    },
    {
      "cell_type": "markdown",
      "metadata": {
        "colab_type": "text",
        "id": "xkzdOZm38yQ_"
      },
      "source": [
        "### Stretch Goals:\n",
        "\n",
        "1) Use Doc2Vec to train a model on your dataset, and then provide model with a new document and let it find similar documents.\n",
        "\n",
        "2) Download the pre-trained word vectors from Google. Access the pre-trained vectors via the following link: https://code.google.com/archive/p/word2vec\n",
        "\n",
        "  - Load the pre-trained word vectors and train the Word2vec model\n",
        "\n",
        "  - Examine the first 100 keys or words of the vocabulary\n",
        "\n",
        "  - Outputs the vector representation for a select set of words - the words can be of your choice\n",
        "\n",
        "  - Examine the similarity between words - the words can be of your choice\n",
        "\n",
        "  - For example:\n",
        "\n",
        "    - model.similarity('house', 'bungalow')\n",
        "\n",
        "    - model.similarity('house', 'umbrella')\n",
        "    \n",
        "3) Word2Vec is not the latest or greatest wording embedding model, but it has been around long enough to have well developed APIs in several of the major packages. Try one of the State of the Art (SoA) embeddings models on your dataset. The state of the art models are BERT and Elmo (and yes, that is a pun). "
      ]
    },
    {
      "cell_type": "markdown",
      "metadata": {
        "id": "Gakr5rP76IAJ",
        "colab_type": "text"
      },
      "source": [
        "# Use Doc2Vec to train a model on your dataset, and then provide model with a new document and let it find similar documents."
      ]
    },
    {
      "cell_type": "code",
      "metadata": {
        "id": "wmMzTZd-QeYW",
        "colab_type": "code",
        "colab": {}
      },
      "source": [
        ""
      ],
      "execution_count": 0,
      "outputs": []
    }
  ]
}