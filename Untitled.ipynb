{
 "cells": [
  {
   "cell_type": "code",
   "execution_count": 1,
   "metadata": {},
   "outputs": [],
   "source": [
    "import pandas as pd"
   ]
  },
  {
   "cell_type": "code",
   "execution_count": 4,
   "metadata": {},
   "outputs": [],
   "source": [
    "df_gifts = pd.read_csv('iftsgay_2018_csv.csv')\n",
    "df_beh = pd.read_csv('aughtynay_roay_icenay_2018.csv')"
   ]
  },
  {
   "cell_type": "code",
   "execution_count": 8,
   "metadata": {},
   "outputs": [
    {
     "data": {
      "text/html": [
       "<div>\n",
       "<style scoped>\n",
       "    .dataframe tbody tr th:only-of-type {\n",
       "        vertical-align: middle;\n",
       "    }\n",
       "\n",
       "    .dataframe tbody tr th {\n",
       "        vertical-align: top;\n",
       "    }\n",
       "\n",
       "    .dataframe thead th {\n",
       "        text-align: right;\n",
       "    }\n",
       "</style>\n",
       "<table border=\"1\" class=\"dataframe\">\n",
       "  <thead>\n",
       "    <tr style=\"text-align: right;\">\n",
       "      <th></th>\n",
       "      <th>Things</th>\n",
       "      <th>Favorite?</th>\n",
       "      <th>Humanely Giftable?</th>\n",
       "      <th>Naughty or Nice?</th>\n",
       "    </tr>\n",
       "  </thead>\n",
       "  <tbody>\n",
       "    <tr>\n",
       "      <th>0</th>\n",
       "      <td>aindropsray noay osesray</td>\n",
       "      <td>1</td>\n",
       "      <td>1</td>\n",
       "      <td>icenay</td>\n",
       "    </tr>\n",
       "    <tr>\n",
       "      <th>1</th>\n",
       "      <td>hiskersway noay ittenskay</td>\n",
       "      <td>1</td>\n",
       "      <td>0</td>\n",
       "      <td>NaN</td>\n",
       "    </tr>\n",
       "    <tr>\n",
       "      <th>2</th>\n",
       "      <td>rightbay oppercay ettleskay</td>\n",
       "      <td>1</td>\n",
       "      <td>1</td>\n",
       "      <td>icenay</td>\n",
       "    </tr>\n",
       "    <tr>\n",
       "      <th>3</th>\n",
       "      <td>armway oolenway ittensmay</td>\n",
       "      <td>1</td>\n",
       "      <td>1</td>\n",
       "      <td>icenay</td>\n",
       "    </tr>\n",
       "    <tr>\n",
       "      <th>4</th>\n",
       "      <td>rownbay aperpay ackagespay iedtay puay ithway ...</td>\n",
       "      <td>1</td>\n",
       "      <td>1</td>\n",
       "      <td>icenay</td>\n",
       "    </tr>\n",
       "  </tbody>\n",
       "</table>\n",
       "</div>"
      ],
      "text/plain": [
       "                                              Things  Favorite?  \\\n",
       "0                           aindropsray noay osesray          1   \n",
       "1                          hiskersway noay ittenskay          1   \n",
       "2                        rightbay oppercay ettleskay          1   \n",
       "3                          armway oolenway ittensmay          1   \n",
       "4  rownbay aperpay ackagespay iedtay puay ithway ...          1   \n",
       "\n",
       "   Humanely Giftable? Naughty or Nice?  \n",
       "0                   1           icenay  \n",
       "1                   0              NaN  \n",
       "2                   1           icenay  \n",
       "3                   1           icenay  \n",
       "4                   1           icenay  "
      ]
     },
     "execution_count": 8,
     "metadata": {},
     "output_type": "execute_result"
    }
   ],
   "source": [
    "df_gifts.head()"
   ]
  },
  {
   "cell_type": "code",
   "execution_count": 7,
   "metadata": {},
   "outputs": [
    {
     "data": {
      "text/html": [
       "<div>\n",
       "<style scoped>\n",
       "    .dataframe tbody tr th:only-of-type {\n",
       "        vertical-align: middle;\n",
       "    }\n",
       "\n",
       "    .dataframe tbody tr th {\n",
       "        vertical-align: top;\n",
       "    }\n",
       "\n",
       "    .dataframe thead th {\n",
       "        text-align: right;\n",
       "    }\n",
       "</style>\n",
       "<table border=\"1\" class=\"dataframe\">\n",
       "  <thead>\n",
       "    <tr style=\"text-align: right;\">\n",
       "      <th></th>\n",
       "      <th>Name</th>\n",
       "      <th>Location</th>\n",
       "      <th>Behavior</th>\n",
       "      <th>Other Gifts</th>\n",
       "    </tr>\n",
       "  </thead>\n",
       "  <tbody>\n",
       "    <tr>\n",
       "      <th>0</th>\n",
       "      <td>Lamar</td>\n",
       "      <td>51.91599, 17.05723</td>\n",
       "      <td>-0.144877</td>\n",
       "      <td>7</td>\n",
       "    </tr>\n",
       "    <tr>\n",
       "      <th>1</th>\n",
       "      <td>Chloe</td>\n",
       "      <td>-47.99358, 128.19181</td>\n",
       "      <td>0.105298</td>\n",
       "      <td>3</td>\n",
       "    </tr>\n",
       "    <tr>\n",
       "      <th>2</th>\n",
       "      <td>Delilah</td>\n",
       "      <td>-56.54483, -68.75454</td>\n",
       "      <td>-0.510874</td>\n",
       "      <td>6</td>\n",
       "    </tr>\n",
       "    <tr>\n",
       "      <th>3</th>\n",
       "      <td>Melvin</td>\n",
       "      <td>-33.05493, 163.54943</td>\n",
       "      <td>-0.154494</td>\n",
       "      <td>9</td>\n",
       "    </tr>\n",
       "    <tr>\n",
       "      <th>4</th>\n",
       "      <td>Christine</td>\n",
       "      <td>67.91621, -20.02474</td>\n",
       "      <td>-0.285024</td>\n",
       "      <td>8</td>\n",
       "    </tr>\n",
       "  </tbody>\n",
       "</table>\n",
       "</div>"
      ],
      "text/plain": [
       "        Name              Location  Behavior  Other Gifts\n",
       "0      Lamar    51.91599, 17.05723 -0.144877            7\n",
       "1      Chloe  -47.99358, 128.19181  0.105298            3\n",
       "2    Delilah  -56.54483, -68.75454 -0.510874            6\n",
       "3     Melvin  -33.05493, 163.54943 -0.154494            9\n",
       "4  Christine   67.91621, -20.02474 -0.285024            8"
      ]
     },
     "execution_count": 7,
     "metadata": {},
     "output_type": "execute_result"
    }
   ],
   "source": [
    "df_beh.head()"
   ]
  },
  {
   "cell_type": "code",
   "execution_count": 46,
   "metadata": {},
   "outputs": [
    {
     "data": {
      "text/plain": [
       "'whiskers'"
      ]
     },
     "execution_count": 46,
     "metadata": {},
     "output_type": "execute_result"
    }
   ],
   "source": [
    "word = 'hiskersway'\n",
    "new_word = word[:-2]\n",
    "new_word[-1] + new_word[:-1]"
   ]
  },
  {
   "cell_type": "code",
   "execution_count": 47,
   "metadata": {},
   "outputs": [],
   "source": [
    "def un_pig(string):\n",
    "    \n",
    "    unpigged = []\n",
    "    word_list = string.split()\n",
    "    \n",
    "    for word in word_list:\n",
    "        word = word[:-2]\n",
    "        unpigged += [word[-1] + word[:-1]]\n",
    "        \n",
    "    return unpigged"
   ]
  },
  {
   "cell_type": "code",
   "execution_count": 20,
   "metadata": {},
   "outputs": [
    {
     "data": {
      "text/plain": [
       "'hiskersway noay ittenskay'"
      ]
     },
     "execution_count": 20,
     "metadata": {},
     "output_type": "execute_result"
    }
   ],
   "source": [
    "df_gifts.iloc[1][0]"
   ]
  },
  {
   "cell_type": "code",
   "execution_count": 50,
   "metadata": {},
   "outputs": [
    {
     "data": {
      "text/plain": [
       "0                                [raindrops, on, roses]\n",
       "1                               [whiskers, on, kittens]\n",
       "2                             [bright, copper, kettles]\n",
       "3                               [warm, woolen, mittens]\n",
       "4     [brown, paper, packages, tied, up, with, strings]\n",
       "5                              [cream, colored, ponies]\n",
       "6                                [crisp, eppl, strudel]\n",
       "7                                           [doorbells]\n",
       "8                                       [sleigh, bells]\n",
       "9                            [schnitzel, with, noodles]\n",
       "10    [wild, geese, that, fly, with, the, moon, on, ...\n",
       "11    [girls, in, white, dresses, with, blue, satin,...\n",
       "12    [snowflakes, that, stay, on, my, nose, and, ey...\n",
       "13    [silver, white, winters, that, melt, into, spr...\n",
       "14                              [when, the, dog, bites]\n",
       "15                             [when, the, bee, stings]\n",
       "16                            [when, i'm, feeling, sad]\n",
       "Name: Things, dtype: object"
      ]
     },
     "execution_count": 50,
     "metadata": {},
     "output_type": "execute_result"
    }
   ],
   "source": [
    "df_gifts['Things'].apply(un_pig)"
   ]
  }
 ],
 "metadata": {
  "kernelspec": {
   "display_name": "U4-S1-NLP (Python3)",
   "language": "python",
   "name": "u4-s1-nlp"
  },
  "language_info": {
   "codemirror_mode": {
    "name": "ipython",
    "version": 3
   },
   "file_extension": ".py",
   "mimetype": "text/x-python",
   "name": "python",
   "nbconvert_exporter": "python",
   "pygments_lexer": "ipython3",
   "version": "3.7.0"
  }
 },
 "nbformat": 4,
 "nbformat_minor": 4
}
